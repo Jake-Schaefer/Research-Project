{
 "cells": [
  {
   "cell_type": "markdown",
   "metadata": {
    "collapsed": false
   },
   "source": [
    "# Gold standard curation: Preprocessing and single-step regression"
   ]
  },
  {
   "cell_type": "markdown",
   "metadata": {
    "collapsed": false
   },
   "source": [
    "In this stage of gold standard curation, we will do the data preprocessing, selection, and single-step regression for the 153 traits in our question set. This file shows the reference steps using the trait \"Breast Cancer\" as an example. The workflow consists of the following steps:\n",
    "\n",
    "1. Preprocess all the cohorts related to this trait. Each cohort should be converted to a tabular form and saved to a csv file, with columns being genetic factors, the trait, and age, gender if available;\n",
    "2. If there exists at least one cohort with age or gender information, conduct regression analysis with genetic features together with age or gender as the regressors.\n"
   ]
  },
  {
   "cell_type": "code",
   "execution_count": 183,
   "metadata": {},
   "outputs": [],
   "source": [
    "import os\n",
    "import io\n",
    "import pandas as pd\n",
    "import gzip\n",
    "import mygene\n",
    "import re\n",
    "import tempfile\n",
    "import shutil\n",
    "\n",
    "import matplotlib.pyplot as plt\n",
    "import numpy as np\n",
    "import json\n",
    "from typing import Callable, Optional, List, Tuple, Union, Any\n",
    "from sklearn.linear_model import Lasso, LogisticRegression\n",
    "from sparse_lmm import VariableSelection\n",
    "from statsmodels.stats.multitest import multipletests\n",
    "from sklearn.metrics import accuracy_score, mean_squared_error"
   ]
  },
  {
   "cell_type": "code",
   "execution_count": 184,
   "metadata": {},
   "outputs": [],
   "source": [
    "def check_rows_and_columns(dataframe, display=False):\n",
    "    \"\"\"\n",
    "    Get the lists of row names and column names of a dataset, and optionally observe them.\n",
    "    :param dataframe:\n",
    "    :param display:\n",
    "    :return:\n",
    "    \"\"\"\n",
    "    dataframe_rows = dataframe.index.tolist()\n",
    "    if display:\n",
    "        print(f\"The dataset has {len(dataframe_rows)} rows, such as {dataframe_rows[:20]}\")\n",
    "    dataframe_cols = dataframe.columns.tolist()\n",
    "    if display:\n",
    "        print(f\"\\nThe dataset has {len(dataframe_cols)} columns, such as {dataframe_cols[:20]}\")\n",
    "    return dataframe_rows, dataframe_cols\n"
   ]
  },
  {
   "cell_type": "code",
   "execution_count": 185,
   "metadata": {},
   "outputs": [],
   "source": [
    "def xena_convert_trait(row_index: str):\n",
    "    \"\"\"\n",
    "    Convert the trait information from Sample IDs to labels depending on the last two digits.\n",
    "    Tumor types range from 01 - 09, normal types from 10 - 19.\n",
    "    :param row_index: the index value of a row\n",
    "    :return: the converted value\n",
    "    \"\"\"\n",
    "    last_two_digits = int(row_index[-2:])\n",
    "\n",
    "    if 1 <= last_two_digits <= 9:\n",
    "        return 1\n",
    "    elif 10 <= last_two_digits <= 19:\n",
    "        return 0\n",
    "    else:\n",
    "        return -1\n",
    "\n",
    "\n",
    "def xena_convert_gender(cell: str):\n",
    "    \"\"\"Convert the cell content about gender to a binary value\n",
    "    \"\"\"\n",
    "    if isinstance(cell, str):\n",
    "        cell = cell.lower()\n",
    "\n",
    "    if cell == \"female\":\n",
    "        return 0\n",
    "    elif cell == \"male\":\n",
    "        return 1\n",
    "    else:\n",
    "        return None\n",
    "\n",
    "\n",
    "def xena_convert_age(cell: str):\n",
    "    \"\"\"Convert the cell content about age to a numerical value using regular expression\n",
    "    \"\"\"\n",
    "    match = re.search(r'\\d+', str(cell))\n",
    "    if match:\n",
    "        return int(match.group())\n",
    "    else:\n",
    "        return None\n",
    "\n",
    "\n",
    "def detect_batch_effect(X):\n",
    "    \"\"\"\n",
    "    Detect potential batch effects in a dataset using eigenvalues of XX^T.\n",
    "\n",
    "    Args:\n",
    "    X (numpy.ndarray): A feature matrix with shape (n_samples, n_features).\n",
    "\n",
    "    Returns:\n",
    "    bool: True if a potential batch effect is detected, False otherwise.\n",
    "    \"\"\"\n",
    "    n_samples = X.shape[0]\n",
    "\n",
    "    # Computing XX^T\n",
    "    XXt = np.dot(X, X.T)\n",
    "\n",
    "    # Compute the eigenvalues of XX^T\n",
    "    eigen_values = np.linalg.eigvalsh(XXt)  # Using eigvalsh since XX^T is symmetric\n",
    "    eigen_values = sorted(eigen_values, reverse=True)\n",
    "\n",
    "    # Check for large gaps in the eigenvalues\n",
    "    for i in range(len(eigen_values) - 1):\n",
    "        gap = eigen_values[i] - eigen_values[i + 1]\n",
    "        if gap > 1 / n_samples:  # You may need to adjust this threshold\n",
    "            return True\n",
    "\n",
    "    return False\n",
    "\n",
    "\n",
    "def get_unique_values_by_row(dataframe, max_len=30):\n",
    "    \"\"\"\n",
    "    Organize the unique values in each row of the given dataframe, to get a dictionary\n",
    "    :param dataframe:\n",
    "    :param max_len:\n",
    "    :return:\n",
    "    \"\"\"\n",
    "    if '!Sample_geo_accession' in dataframe.columns:\n",
    "        dataframe = dataframe.drop(columns=['!Sample_geo_accession'])\n",
    "    unique_values_dict = {}\n",
    "    for index, row in dataframe.iterrows():\n",
    "        unique_values = list(row.unique())[:max_len]\n",
    "        unique_values_dict[index] = unique_values\n",
    "    return unique_values_dict\n",
    "\n",
    "\n",
    "def xena_select_clinical_features(clinical_df, trait, age_col=None, gender_col=None):\n",
    "    feature_list = []\n",
    "    trait_data = clinical_df.index.to_series().apply(xena_convert_trait).rename(trait)\n",
    "    feature_list.append(trait_data)\n",
    "    if age_col:\n",
    "        age_data = clinical_df[age_col].apply(xena_convert_age).rename(\"Age\")\n",
    "        feature_list.append(age_data)\n",
    "    if gender_col:\n",
    "        gender_data = clinical_df[gender_col].apply(xena_convert_gender).rename(\"Gender\")\n",
    "        feature_list.append(gender_data)\n",
    "    selected_clinical_df = pd.concat(feature_list, axis=1)\n",
    "    return selected_clinical_df\n"
   ]
  },
  {
   "cell_type": "code",
   "execution_count": 186,
   "metadata": {},
   "outputs": [],
   "source": [
    "def xena_select_clinical_features(clinical_df, trait, age_col=None, gender_col=None):\n",
    "    feature_list = []\n",
    "    trait_data = clinical_df.index.to_series().apply(xena_convert_trait).rename(trait)\n",
    "    feature_list.append(trait_data)\n",
    "    if age_col:\n",
    "        age_data = clinical_df[age_col].apply(xena_convert_age).rename(\"Age\")\n",
    "        feature_list.append(age_data)\n",
    "    if gender_col:\n",
    "        gender_data = clinical_df[gender_col].apply(xena_convert_gender).rename(\"Gender\")\n",
    "        feature_list.append(gender_data)\n",
    "    selected_clinical_df = pd.concat(feature_list, axis=1)\n",
    "    return selected_clinical_df"
   ]
  },
  {
   "cell_type": "code",
   "execution_count": 187,
   "metadata": {},
   "outputs": [],
   "source": [
    "def get_relevant_filepaths(cohort_dir):\n",
    "    \"\"\"Find the file paths of a SOFT file and a matrix file from the given data directory of a cohort.\n",
    "    If there are multiple SOFT files or matrix files, simply choose the first one. May be replaced by better\n",
    "    strategies later.\n",
    "    \"\"\"\n",
    "    files = os.listdir(cohort_dir)\n",
    "    soft_files = [f for f in files if 'soft' in f.lower()]\n",
    "    matrix_files = [f for f in files if 'matrix' in f.lower()]\n",
    "    assert len(soft_files) > 0 and len(matrix_files) > 0\n",
    "    soft_file_path = os.path.join(cohort_dir, soft_files[0])\n",
    "    matrix_file_path = os.path.join(cohort_dir, matrix_files[0])\n",
    "\n",
    "    return soft_file_path, matrix_file_path"
   ]
  },
  {
   "cell_type": "code",
   "execution_count": 188,
   "metadata": {},
   "outputs": [],
   "source": [
    "def get_background_and_clinical_data(file_path,\n",
    "                                     prefixes_a=['!Series_title', '!Series_summary', '!Series_overall_design'],\n",
    "                                     prefixes_b=['!Sample_geo_accession', '!Sample_characteristics_ch1']):\n",
    "    \"\"\"Extract from a matrix file the background information about the dataset, and sample characteristics data\"\"\"\n",
    "    background_info, clinical_data = filter_content_by_prefix(file_path, prefixes_a, prefixes_b, unselect=False,\n",
    "                                                              source_type='file',\n",
    "                                                              return_df_a=False, return_df_b=True)\n",
    "    return background_info, clinical_data"
   ]
  },
  {
   "cell_type": "code",
   "execution_count": 189,
   "metadata": {},
   "outputs": [],
   "source": [
    "def filter_content_by_prefix(\n",
    "    source: str,\n",
    "    prefixes_a: List[str],\n",
    "    prefixes_b: Optional[List[str]] = None,\n",
    "    unselect: bool = False,\n",
    "    source_type: str = 'file',\n",
    "    return_df_a: bool = True,\n",
    "    return_df_b: bool = True\n",
    ") -> Tuple[Union[str, pd.DataFrame], Optional[Union[str, pd.DataFrame]]]:\n",
    "    \"\"\"\n",
    "    Filters rows from a file or a list of strings based on specified prefixes.\n",
    "\n",
    "    Parameters:\n",
    "    - source (str): File path or string content to filter.\n",
    "    - prefixes_a (List[str]): Primary list of prefixes to filter by.\n",
    "    - prefixes_b (Optional[List[str]]): Optional secondary list of prefixes to filter by.\n",
    "    - unselect (bool): If True, selects rows that do not start with the specified prefixes.\n",
    "    - source_type (str): 'file' if source is a file path, 'string' if source is a string of text.\n",
    "    - return_df_a (bool): If True, returns filtered content for prefixes_a as a pandas DataFrame.\n",
    "    - return_df_b (bool): If True, and if prefixes_b is provided, returns filtered content for prefixes_b as a pandas DataFrame.\n",
    "\n",
    "    Returns:\n",
    "    - Tuple: A tuple where the first element is the filtered content for prefixes_a, and the second element is the filtered content for prefixes_b.\n",
    "    \"\"\"\n",
    "    filtered_lines_a = []\n",
    "    filtered_lines_b = []\n",
    "    prefix_set_a = set(prefixes_a)\n",
    "    if prefixes_b is not None:\n",
    "        prefix_set_b = set(prefixes_b)\n",
    "\n",
    "    # Use generator to get lines\n",
    "    for line in line_generator(source, source_type):\n",
    "        matched_a = any(line.startswith(prefix) for prefix in prefix_set_a)\n",
    "        if matched_a != unselect:\n",
    "            filtered_lines_a.append(line)\n",
    "        if prefixes_b is not None:\n",
    "            matched_b = any(line.startswith(prefix) for prefix in prefix_set_b)\n",
    "            if matched_b != unselect:\n",
    "                filtered_lines_b.append(line)\n",
    "\n",
    "    filtered_content_a = '\\n'.join(filtered_lines_a)\n",
    "    if return_df_a:\n",
    "        filtered_content_a = pd.read_csv(io.StringIO(filtered_content_a), delimiter='\\t', low_memory=False, on_bad_lines='skip')\n",
    "    filtered_content_b = None\n",
    "    if filtered_lines_b:\n",
    "        filtered_content_b = '\\n'.join(filtered_lines_b)\n",
    "        if return_df_b:\n",
    "            filtered_content_b = pd.read_csv(io.StringIO(filtered_content_b), delimiter='\\t', low_memory=False, on_bad_lines='skip')\n",
    "\n",
    "    return filtered_content_a, filtered_content_b\n",
    "\n",
    "\n",
    "def get_background_and_clinical_data(file_path,\n",
    "                                     prefixes_a=['!Series_title', '!Series_summary', '!Series_overall_design'],\n",
    "                                     prefixes_b=['!Sample_geo_accession', '!Sample_characteristics_ch1']):\n",
    "    \"\"\"Extract from a matrix file the background information about the dataset, and sample characteristics data\"\"\"\n",
    "    background_info, clinical_data = filter_content_by_prefix(file_path, prefixes_a, prefixes_b, unselect=False,\n",
    "                                                              source_type='file',\n",
    "                                                              return_df_a=False, return_df_b=True)\n",
    "    return background_info, clinical_data\n",
    "\n",
    "\n",
    "def get_gene_annotation(file_path, prefixes=['^', '!', '#']):\n",
    "    \"\"\"Extract from a SOFT file the gene annotation data\"\"\"\n",
    "    gene_metadata = filter_content_by_prefix(file_path, prefixes_a=prefixes, unselect=True, source_type='file',\n",
    "                                             return_df_a=True)\n",
    "    return gene_metadata[0]"
   ]
  },
  {
   "cell_type": "code",
   "execution_count": 190,
   "metadata": {},
   "outputs": [],
   "source": [
    "def line_generator(source, source_type):\n",
    "    \"\"\"Generator that yields lines from a file or a string.\n",
    "\n",
    "    Parameters:\n",
    "    - source: File path or string content.\n",
    "    - source_type: 'file' or 'string'.\n",
    "    \"\"\"\n",
    "    if source_type == 'file':\n",
    "        with gzip.open(source, 'rt') as f:\n",
    "            for line in f:\n",
    "                yield line.strip()\n",
    "    elif source_type == 'string':\n",
    "        for line in source.split('\\n'):\n",
    "            yield line.strip()\n",
    "    else:\n",
    "        raise ValueError(\"source_type must be 'file' or 'string'\")\n",
    "\n",
    "\n",
    "def filter_content_by_prefix(\n",
    "    source: str,\n",
    "    prefixes_a: List[str],\n",
    "    prefixes_b: Optional[List[str]] = None,\n",
    "    unselect: bool = False,\n",
    "    source_type: str = 'file',\n",
    "    return_df_a: bool = True,\n",
    "    return_df_b: bool = True\n",
    ") -> Tuple[Union[str, pd.DataFrame], Optional[Union[str, pd.DataFrame]]]:\n",
    "    \"\"\"\n",
    "    Filters rows from a file or a list of strings based on specified prefixes.\n",
    "\n",
    "    Parameters:\n",
    "    - source (str): File path or string content to filter.\n",
    "    - prefixes_a (List[str]): Primary list of prefixes to filter by.\n",
    "    - prefixes_b (Optional[List[str]]): Optional secondary list of prefixes to filter by.\n",
    "    - unselect (bool): If True, selects rows that do not start with the specified prefixes.\n",
    "    - source_type (str): 'file' if source is a file path, 'string' if source is a string of text.\n",
    "    - return_df_a (bool): If True, returns filtered content for prefixes_a as a pandas DataFrame.\n",
    "    - return_df_b (bool): If True, and if prefixes_b is provided, returns filtered content for prefixes_b as a pandas DataFrame.\n",
    "\n",
    "    Returns:\n",
    "    - Tuple: A tuple where the first element is the filtered content for prefixes_a, and the second element is the filtered content for prefixes_b.\n",
    "    \"\"\"\n",
    "    filtered_lines_a = []\n",
    "    filtered_lines_b = []\n",
    "    prefix_set_a = set(prefixes_a)\n",
    "    if prefixes_b is not None:\n",
    "        prefix_set_b = set(prefixes_b)\n",
    "\n",
    "    # Use generator to get lines\n",
    "    for line in line_generator(source, source_type):\n",
    "        matched_a = any(line.startswith(prefix) for prefix in prefix_set_a)\n",
    "        if matched_a != unselect:\n",
    "            filtered_lines_a.append(line)\n",
    "        if prefixes_b is not None:\n",
    "            matched_b = any(line.startswith(prefix) for prefix in prefix_set_b)\n",
    "            if matched_b != unselect:\n",
    "                filtered_lines_b.append(line)\n",
    "\n",
    "    filtered_content_a = '\\n'.join(filtered_lines_a)\n",
    "    if return_df_a:\n",
    "        filtered_content_a = pd.read_csv(io.StringIO(filtered_content_a), delimiter='\\t', low_memory=False, on_bad_lines='skip')\n",
    "    filtered_content_b = None\n",
    "    if filtered_lines_b:\n",
    "        filtered_content_b = '\\n'.join(filtered_lines_b)\n",
    "        if return_df_b:\n",
    "            filtered_content_b = pd.read_csv(io.StringIO(filtered_content_b), delimiter='\\t', low_memory=False, on_bad_lines='skip')\n",
    "\n",
    "    return filtered_content_a, filtered_content_b\n"
   ]
  },
  {
   "cell_type": "code",
   "execution_count": 191,
   "metadata": {},
   "outputs": [],
   "source": [
    "def get_unique_values_by_row(dataframe, max_len=30):\n",
    "    \"\"\"\n",
    "    Organize the unique values in each row of the given dataframe, to get a dictionary\n",
    "    :param dataframe:\n",
    "    :param max_len:\n",
    "    :return:\n",
    "    \"\"\"\n",
    "    if '!Sample_geo_accession' in dataframe.columns:\n",
    "        dataframe = dataframe.drop(columns=['!Sample_geo_accession'])\n",
    "    unique_values_dict = {}\n",
    "    for index, row in dataframe.iterrows():\n",
    "        unique_values = list(row.unique())[:max_len]\n",
    "        unique_values_dict[index] = unique_values\n",
    "    return unique_values_dict"
   ]
  },
  {
   "cell_type": "code",
   "execution_count": 192,
   "metadata": {},
   "outputs": [],
   "source": [
    "def geo_select_clinical_features(clinical_df: pd.DataFrame, trait: str, trait_row: int,\n",
    "                                 convert_trait: Callable,\n",
    "                                 age_row: Optional[int] = None,\n",
    "                                 convert_age: Optional[Callable] = None,\n",
    "                                 gender_row: Optional[int] = None,\n",
    "                                 convert_gender: Optional[Callable] = None) -> pd.DataFrame:\n",
    "    \"\"\"\n",
    "    Extracts and processes specific clinical features from a DataFrame representing\n",
    "    sample characteristics in the GEO database series.\n",
    "\n",
    "    Parameters:\n",
    "    - clinical_df (pd.DataFrame): DataFrame containing clinical data.\n",
    "    - trait (str): The trait of interest.\n",
    "    - trait_row (int): Row identifier for the trait in the DataFrame.\n",
    "    - convert_trait (Callable): Function to convert trait data into a desired format.\n",
    "    - age_row (int, optional): Row identifier for age data. Default is None.\n",
    "    - convert_age (Callable, optional): Function to convert age data. Default is None.\n",
    "    - gender_row (int, optional): Row identifier for gender data. Default is None.\n",
    "    - convert_gender (Callable, optional): Function to convert gender data. Default is None.\n",
    "\n",
    "    Returns:\n",
    "    pd.DataFrame: A DataFrame containing the selected and processed clinical features.\n",
    "    \"\"\"\n",
    "    feature_list = []\n",
    "\n",
    "    trait_data = get_feature_data(clinical_df, trait_row, trait, convert_trait)\n",
    "    feature_list.append(trait_data)\n",
    "    if age_row is not None:\n",
    "        age_data = get_feature_data(clinical_df, age_row, 'Age', convert_age)\n",
    "        feature_list.append(age_data)\n",
    "    if gender_row is not None:\n",
    "        gender_data = get_feature_data(clinical_df, gender_row, 'Gender', convert_gender)\n",
    "        feature_list.append(gender_data)\n",
    "\n",
    "    selected_clinical_df = pd.concat(feature_list, axis=0)\n",
    "    return selected_clinical_df\n"
   ]
  },
  {
   "cell_type": "code",
   "execution_count": 193,
   "metadata": {},
   "outputs": [],
   "source": [
    "def get_feature_data(clinical_df, row_id, feature, convert_fn):\n",
    "    \"\"\"select the row corresponding to a feature in the sample characteristics dataframe, and convert the feature into\n",
    "    a binary or continuous variable\"\"\"\n",
    "    clinical_df = clinical_df.iloc[row_id:row_id + 1].drop(columns=['!Sample_geo_accession'], errors='ignore')\n",
    "    clinical_df.index = [feature]\n",
    "    clinical_df = clinical_df.applymap(convert_fn)\n",
    "\n",
    "    return clinical_df"
   ]
  },
  {
   "cell_type": "code",
   "execution_count": 194,
   "metadata": {},
   "outputs": [],
   "source": [
    "def save_cohort_info(cohort: str, info_path: str, is_available: bool, is_biased: Optional[bool] = None,\n",
    "                     df: Optional[pd.DataFrame] = None, note: str = '') -> None:\n",
    "    \"\"\"\n",
    "    Add or update information about the usability and quality of a dataset for statistical analysis.\n",
    "\n",
    "    Parameters:\n",
    "    cohort (str): A unique identifier for the dataset.\n",
    "    info_path (str): File path to the JSON file where records are stored.\n",
    "    is_available (bool): Indicates whether both the genetic data and trait data are available in the dataset, and can be\n",
    "     preprocessed into a dataframe.\n",
    "    is_biased (bool, optional): Indicates whether the dataset is too biased to be usable.\n",
    "        Required if `is_available` is True.\n",
    "    df (pandas.DataFrame, optional): The preprocessed dataset. Required if `is_available` is True.\n",
    "    note (str, optional): Additional notes about the dataset.\n",
    "\n",
    "    Returns:\n",
    "    None: The function does not return a value but updates or creates a record in the specified JSON file.\n",
    "    \"\"\"\n",
    "    if is_available:\n",
    "        assert (df is not None) and (is_biased is not None), \"'df' and 'is_biased' should be provided if this cohort \" \\\n",
    "                                                             \"is relevant.\"\n",
    "    is_usable = is_available and (not is_biased)\n",
    "    new_record = {\"is_usable\": is_usable,\n",
    "                  \"is_available\": is_available,\n",
    "                  \"is_biased\": is_biased if is_available else None,\n",
    "                  \"has_age\": \"Age\" in df.columns if is_available else None,\n",
    "                  \"has_gender\": \"Gender\" in df.columns if is_available else None,\n",
    "                  \"sample_size\": len(df) if is_available else None,\n",
    "                  \"note\": note}\n",
    "\n",
    "    if not os.path.exists(info_path):\n",
    "        with open(info_path, 'w') as file:\n",
    "            json.dump({}, file)\n",
    "        print(f\"A new JSON file was created at: {info_path}\")\n",
    "\n",
    "    with open(info_path, \"r\") as file:\n",
    "        records = json.load(file)\n",
    "    records[cohort] = new_record\n",
    "\n",
    "    temp_path = info_path + \".tmp\"\n",
    "    try:\n",
    "        with open(temp_path, 'w') as file:\n",
    "            json.dump(records, file)\n",
    "        os.replace(temp_path, info_path)\n",
    "\n",
    "    except Exception as e:\n",
    "        print(f\"An error occurred: {e}\")\n",
    "        if os.path.exists(temp_path):\n",
    "            os.remove(temp_path)\n",
    "        raise\n",
    "\n",
    "\n",
    "def read_json_to_dataframe(json_file: str) -> pd.DataFrame:\n",
    "    \"\"\"\n",
    "    Reads a JSON file and converts it into a pandas DataFrame.\n",
    "\n",
    "    Args:\n",
    "    json_file (str): The path to the JSON file containing the data.\n",
    "\n",
    "    Returns:\n",
    "    DataFrame: A pandas DataFrame with the JSON data.\n",
    "    \"\"\"\n",
    "    with open(json_file, 'r') as file:\n",
    "        data = json.load(file)\n",
    "    return pd.DataFrame.from_dict(data, orient='index').reset_index().rename(columns={'index': 'cohort_id'})"
   ]
  },
  {
   "cell_type": "code",
   "execution_count": 195,
   "metadata": {},
   "outputs": [],
   "source": [
    "def get_genetic_data(file_path):\n",
    "    \"\"\"Read the gene expression data into a dataframe, and adjust its format\"\"\"\n",
    "    genetic_data = pd.read_csv(file_path, compression='gzip', skiprows=52, comment='!', delimiter='\\t')\n",
    "    genetic_data = genetic_data.dropna()\n",
    "    genetic_data = genetic_data.rename(columns={'ID_REF': 'ID'}).astype({'ID': 'str'})\n",
    "    genetic_data.set_index('ID', inplace=True)\n",
    "\n",
    "    return genetic_data"
   ]
  },
  {
   "cell_type": "code",
   "execution_count": 196,
   "metadata": {},
   "outputs": [],
   "source": [
    "def preview_df(df, n=5):\n",
    "    return df.head(n).to_dict(orient='list')"
   ]
  },
  {
   "cell_type": "code",
   "execution_count": 197,
   "metadata": {},
   "outputs": [],
   "source": [
    "def normalize_gene_symbols(gene_symbols, batch_size=1000):\n",
    "    \"\"\"Normalize human gene symbols in batches using the 'mygenes' library\"\"\"\n",
    "    mg = mygene.MyGeneInfo()\n",
    "    normalized_genes = {}\n",
    "\n",
    "    # Process in batches\n",
    "    for i in range(0, len(gene_symbols), batch_size):\n",
    "        batch = gene_symbols[i:i + batch_size]\n",
    "        results = mg.querymany(batch, scopes='symbol', fields='symbol', species='human')\n",
    "\n",
    "        # Update the normalized_genes dictionary with results from this batch\n",
    "        for gene in results:\n",
    "            normalized_genes[gene['query']] = gene.get('symbol', None)\n",
    "\n",
    "    # Return the normalized symbols in the same order as the input\n",
    "    return [normalized_genes.get(symbol) for symbol in gene_symbols]\n",
    "\n",
    "\n",
    "def normalize_gene_symbols_in_index(gene_df):\n",
    "    \"\"\"Normalize the human gene symbols at the index of a dataframe, and replace the index with its normalized version.\n",
    "    Remove the rows where the index failed to be normalized.\"\"\"\n",
    "    normalized_gene_list = normalize_gene_symbols(gene_df.index.tolist())\n",
    "    assert len(normalized_gene_list) == len(gene_df.index)\n",
    "    gene_df.index = normalized_gene_list\n",
    "    gene_df = gene_df[gene_df.index.notnull()]\n",
    "    return gene_df"
   ]
  },
  {
   "cell_type": "code",
   "execution_count": 198,
   "metadata": {},
   "outputs": [],
   "source": [
    "def normalize_gene_symbols_in_index(gene_df):\n",
    "    \"\"\"Normalize the human gene symbols at the index of a dataframe, and replace the index with its normalized version.\n",
    "    Remove the rows where the index failed to be normalized.\"\"\"\n",
    "    normalized_gene_list = normalize_gene_symbols(gene_df.index.tolist())\n",
    "    assert len(normalized_gene_list) == len(gene_df.index)\n",
    "    gene_df.index = normalized_gene_list\n",
    "    gene_df = gene_df[gene_df.index.notnull()]\n",
    "    return gene_df"
   ]
  },
  {
   "cell_type": "code",
   "execution_count": 199,
   "metadata": {},
   "outputs": [],
   "source": [
    "def get_gene_mapping(annotation, prob_col, gene_col):\n",
    "    \"\"\"Process the gene annotation to get the mapping between gene names and gene probes.\n",
    "    \"\"\"\n",
    "    mapping_data = annotation.loc[:, [prob_col, gene_col]]\n",
    "    mapping_data = mapping_data.dropna()\n",
    "    mapping_data = mapping_data.rename(columns={gene_col: 'Gene'}).astype({'ID': 'str'})\n",
    "\n",
    "    return mapping_data"
   ]
  },
  {
   "cell_type": "code",
   "execution_count": 200,
   "metadata": {},
   "outputs": [],
   "source": [
    "def apply_gene_mapping(expression_df, mapping_df):\n",
    "    \"\"\"\n",
    "    Converts measured data about gene probes into gene expression data.\n",
    "    Handles the potential many-to-many relationship between probes and genes.\n",
    "\n",
    "    Parameters:\n",
    "    expression_df (DataFrame): A DataFrame with gene expression data, indexed by 'ID'.\n",
    "    mapping_df (DataFrame): A DataFrame mapping 'ID' to 'Gene', with 'ID' as a column.\n",
    "\n",
    "    Returns:\n",
    "    DataFrame: A DataFrame with mean gene expression values, indexed by 'Gene'.\n",
    "    \"\"\"\n",
    "\n",
    "    # Define a regex pattern for splitting gene names\n",
    "    split_pattern = r';|\\|+|/{2,}|,|\\[|\\]|\\(|\\)'\n",
    "\n",
    "    # Split the 'Gene' column in 'mapping_df' using the regex pattern\n",
    "    mapping_df['Gene'] = mapping_df['Gene'].str.split(split_pattern)\n",
    "    mapping_df = mapping_df.explode('Gene')\n",
    "\n",
    "    # Set 'ID' as the index of 'mapping_df' for merging\n",
    "    mapping_df.set_index('ID', inplace=True)\n",
    "\n",
    "    # Merge 'mapping_df' with 'expression_df' by their indices\n",
    "    merged_df = mapping_df.join(expression_df)\n",
    "\n",
    "    # Group by 'Gene' and calculate the mean expression values\n",
    "    gene_expression_df = merged_df.groupby('Gene').mean().dropna()\n",
    "\n",
    "    return gene_expression_df\n"
   ]
  },
  {
   "cell_type": "code",
   "execution_count": 201,
   "metadata": {},
   "outputs": [],
   "source": [
    "def geo_merge_clinical_genetic_data(clinical_df, genetic_df):\n",
    "    \"\"\"\n",
    "    Merge the clinical features and gene expression features from two dataframes into one dataframe\n",
    "    \"\"\"\n",
    "    if 'ID' in genetic_df.columns:\n",
    "        genetic_df = genetic_df.rename(columns={'ID': 'Gene'})\n",
    "    if 'Gene' in genetic_df.columns:\n",
    "        genetic_df = genetic_df.set_index('Gene')\n",
    "    merged_data = pd.concat([clinical_df, genetic_df], axis=0).T.dropna()\n",
    "    return merged_data"
   ]
  },
  {
   "cell_type": "code",
   "execution_count": 202,
   "metadata": {},
   "outputs": [],
   "source": [
    "def judge_binary_variable_biased(dataframe, col_name, min_proportion=0.1, min_num=5):\n",
    "    \"\"\"\n",
    "    Check if the distribution of a binary variable in the dataset is too biased to be usable for analysis\n",
    "    :param dataframe:\n",
    "    :param col_name:\n",
    "    :param min_proportion:\n",
    "    :param min_num:\n",
    "    :return:\n",
    "    \"\"\"\n",
    "    label_counter = dataframe[col_name].value_counts()\n",
    "    total_samples = len(dataframe)\n",
    "    rare_label_num = label_counter.min()\n",
    "    rare_label = label_counter.idxmin()\n",
    "    rare_label_proportion = rare_label_num / total_samples\n",
    "\n",
    "    print(\n",
    "        f\"For the feature \\'{col_name}\\', the least common label is '{rare_label}' with {rare_label_num} occurrences. This represents {rare_label_proportion:.2%} of the dataset.\")\n",
    "\n",
    "    biased = (len(label_counter) < 2) or ((rare_label_proportion < min_proportion) and (rare_label_num < min_num))\n",
    "    return bool(biased)\n",
    "\n",
    "\n",
    "def judge_continuous_variable_biased(dataframe, col_name):\n",
    "    \"\"\"Check if the distribution of a continuous variable in the dataset is too biased to be usable for analysis.\n",
    "    As a starting point, we consider it biased if all values are the same. For the next step, maybe ask GPT to judge\n",
    "    based on quartile statistics combined with its common sense knowledge about this feature.\n",
    "    \"\"\"\n",
    "    quartiles = dataframe[col_name].quantile([0.25, 0.5, 0.75])\n",
    "    min_value = dataframe[col_name].min()\n",
    "    max_value = dataframe[col_name].max()\n",
    "\n",
    "    # Printing quartile information\n",
    "    print(f\"Quartiles for '{col_name}':\")\n",
    "    print(f\"  25%: {quartiles[0.25]}\")\n",
    "    print(f\"  50% (Median): {quartiles[0.5]}\")\n",
    "    print(f\"  75%: {quartiles[0.75]}\")\n",
    "    print(f\"Min: {min_value}\")\n",
    "    print(f\"Max: {max_value}\")\n",
    "\n",
    "    biased = min_value == max_value\n",
    "\n",
    "    return bool(biased)"
   ]
  },
  {
   "cell_type": "code",
   "execution_count": 203,
   "metadata": {},
   "outputs": [],
   "source": [
    "def judge_and_remove_biased_features(df, trait, trait_type):\n",
    "    assert trait_type in [\"binary\", \"continuous\"], f\"The trait must be either a binary or a continuous variable!\"\n",
    "    if trait_type == \"binary\":\n",
    "        trait_biased = judge_binary_variable_biased(df, trait)\n",
    "    else:\n",
    "        trait_biased = judge_continuous_variable_biased(df, trait)\n",
    "    if trait_biased:\n",
    "        print(f\"The distribution of the feature \\'{trait}\\' in this dataset is severely biased.\\n\")\n",
    "    else:\n",
    "        print(f\"The distribution of the feature \\'{trait}\\' in this dataset is fine.\\n\")\n",
    "    if \"Age\" in df.columns:\n",
    "        age_biased = judge_continuous_variable_biased(df, 'Age')\n",
    "        if age_biased:\n",
    "            print(f\"The distribution of the feature \\'Age\\' in this dataset is severely biased.\\n\")\n",
    "            df = df.drop(columns='Age')\n",
    "        else:\n",
    "            print(f\"The distribution of the feature \\'Age\\' in this dataset is fine.\\n\")\n",
    "    if \"Gender\" in df.columns:\n",
    "        gender_biased = judge_binary_variable_biased(df, 'Gender')\n",
    "        if gender_biased:\n",
    "            print(f\"The distribution of the feature \\'Gender\\' in this dataset is severely biased.\\n\")\n",
    "            df = df.drop(columns='Gender')\n",
    "        else:\n",
    "            print(f\"The distribution of the feature \\'Gender\\' in this dataset is fine.\\n\")\n",
    "\n",
    "    return trait_biased, df\n"
   ]
  },
  {
   "cell_type": "code",
   "execution_count": 204,
   "metadata": {},
   "outputs": [],
   "source": [
    "def filter_and_rank_cohorts(json_file: str, condition: Union[str, None] = None) -> Tuple[\n",
    "    Union[str, None], pd.DataFrame]:\n",
    "    \"\"\"\n",
    "    Reads a JSON file, filters cohorts based on usability and an optional condition, then ranks them by sample size.\n",
    "\n",
    "    Args:\n",
    "    json_file (str): The path to the JSON file containing the data.\n",
    "    condition (str, optional): An additional condition for filtering. If None, only 'is_usable' is considered.\n",
    "\n",
    "    Returns:\n",
    "    Tuple: A tuple containing the best cohort ID (str or None if no suitable cohort is found) and\n",
    "           the filtered and ranked DataFrame.\n",
    "    \"\"\"\n",
    "    # Read the JSON file into a DataFrame\n",
    "    df = read_json_to_dataframe(json_file)\n",
    "\n",
    "    if condition:\n",
    "        filtered_df = df[(df['is_usable'] == True) & (df[condition] == True)]\n",
    "    else:\n",
    "        filtered_df = df[df['is_usable'] == True]\n",
    "\n",
    "    ranked_df = filtered_df.sort_values(by='sample_size', ascending=False)\n",
    "    best_cohort_id = ranked_df.iloc[0]['cohort_id'] if not ranked_df.empty else None\n",
    "\n",
    "    return best_cohort_id, ranked_df\n",
    "\n",
    "\n",
    "def read_json_to_dataframe(json_file: str) -> pd.DataFrame:\n",
    "    \"\"\"\n",
    "    Reads a JSON file and converts it into a pandas DataFrame.\n",
    "    \"\"\"\n",
    "    with open(json_file, 'r') as file:\n",
    "        data = json.load(file)\n",
    "    return pd.DataFrame.from_dict(data, orient='index').reset_index().rename(columns={'index': 'cohort_id'})\n",
    "\n",
    "\n",
    "def filter_and_rank_cohorts(json_file: str, condition: Union[str, None] = None) -> Tuple[\n",
    "    Union[str, None], pd.DataFrame]:\n",
    "    \"\"\"\n",
    "    Reads a JSON file, filters cohorts based on usability and an optional condition, then ranks them by sample size.\n",
    "\n",
    "    Args:\n",
    "    json_file (str): The path to the JSON file containing the data.\n",
    "    condition (str, optional): An additional condition for filtering. If None, only 'is_usable' is considered.\n",
    "\n",
    "    Returns:\n",
    "    Tuple: A tuple containing the best cohort ID (str or None if no suitable cohort is found) and\n",
    "           the filtered and ranked DataFrame.\n",
    "    \"\"\"\n",
    "    df = read_json_to_dataframe(json_file)\n",
    "    if condition:\n",
    "        filtered_df = df[(df['is_usable'] == True) & (df[condition] == True)]\n",
    "    else:\n",
    "        filtered_df = df[df['is_usable'] == True]\n",
    "    ranked_df = filtered_df.sort_values(by='sample_size', ascending=False)\n",
    "    best_cohort_id = ranked_df.iloc[0]['cohort_id'] if not ranked_df.empty else None\n",
    "\n",
    "    return best_cohort_id, ranked_df"
   ]
  },
  {
   "cell_type": "code",
   "execution_count": 205,
   "metadata": {},
   "outputs": [],
   "source": [
    "def detect_batch_effect(X):\n",
    "    \"\"\"\n",
    "    Detect potential batch effects in a dataset using eigenvalues of XX^T.\n",
    "\n",
    "    Args:\n",
    "    X (numpy.ndarray): A feature matrix with shape (n_samples, n_features).\n",
    "\n",
    "    Returns:\n",
    "    bool: True if a potential batch effect is detected, False otherwise.\n",
    "    \"\"\"\n",
    "    n_samples = X.shape[0]\n",
    "\n",
    "    # Computing XX^T\n",
    "    XXt = np.dot(X, X.T)\n",
    "\n",
    "    # Compute the eigenvalues of XX^T\n",
    "    eigen_values = np.linalg.eigvalsh(XXt)  # Using eigvalsh since XX^T is symmetric\n",
    "    eigen_values = sorted(eigen_values, reverse=True)\n",
    "\n",
    "    # Check for large gaps in the eigenvalues\n",
    "    for i in range(len(eigen_values) - 1):\n",
    "        gap = eigen_values[i] - eigen_values[i + 1]\n",
    "        if gap > 1 / n_samples:  # You may need to adjust this threshold\n",
    "            return True\n",
    "\n",
    "    return False\n"
   ]
  },
  {
   "cell_type": "code",
   "execution_count": 206,
   "metadata": {},
   "outputs": [],
   "source": [
    "def normalize_data(X_train, X_test=None):\n",
    "    \"\"\"Compute the mean and standard deviation statistics of the training data, use them to normalize the training data,\n",
    "    and optionally the test data\"\"\"\n",
    "    mean = np.mean(X_train, axis=0)\n",
    "    std = np.std(X_train, axis=0)\n",
    "\n",
    "    # Handling columns with std = 0\n",
    "    std_no_zero = np.where(std == 0, 1, std)\n",
    "\n",
    "    # Normalize X_train\n",
    "    X_train_normalized = (X_train - mean) / std_no_zero\n",
    "    # Set normalized values to 0 where std was 0\n",
    "    X_train_normalized[:, std == 0] = 0\n",
    "\n",
    "    if X_test is not None:\n",
    "        X_test_normalized = (X_test - mean) / std_no_zero\n",
    "        X_test_normalized[:, std == 0] = 0\n",
    "    else:\n",
    "        X_test_normalized = None\n",
    "\n",
    "    return X_train_normalized, X_test_normalized"
   ]
  },
  {
   "cell_type": "code",
   "execution_count": 207,
   "metadata": {},
   "outputs": [],
   "source": [
    "class ResidualizationRegressor:\n",
    "    def __init__(self, regression_model_constructor, params=None):\n",
    "        if params is None:\n",
    "            params = {}\n",
    "        self.regression_model = regression_model_constructor(**params)\n",
    "        self.beta_Z = None  # Coefficients for regression of Y on Z\n",
    "        self.beta_X = None  # Coefficients for regression of residual on X\n",
    "        self.neg_log_p_values = None  # Negative logarithm of p-values\n",
    "        self.p_values = None  # Actual p-values\n",
    "\n",
    "    def _reshape_data(self, data):\n",
    "        \"\"\"\n",
    "        Reshape the data to ensure it's in the correct format (2D array).\n",
    "\n",
    "        :param data: The input data (can be 1D or 2D array).\n",
    "        :return: Reshaped 2D array.\n",
    "        \"\"\"\n",
    "        if data.ndim == 1:\n",
    "            return data.reshape(-1, 1)\n",
    "        return data\n",
    "\n",
    "    def _reshape_output(self, data):\n",
    "        \"\"\"\n",
    "        Reshape the output data to ensure it's in the correct format (1D array).\n",
    "\n",
    "        :param data: The output data (can be 1D or 2D array).\n",
    "        :return: Reshaped 1D array.\n",
    "        \"\"\"\n",
    "        if data.ndim == 2 and data.shape[1] == 1:\n",
    "            return data.ravel()\n",
    "        return data\n",
    "\n",
    "    def fit(self, X, Y, Z):\n",
    "        X = self._reshape_data(X)\n",
    "        Y = self._reshape_data(Y)\n",
    "        Z = self._reshape_data(Z)\n",
    "\n",
    "        # Step 1: Linear regression of Y on Z\n",
    "        Z_ones = np.column_stack((np.ones(Z.shape[0]), Z))\n",
    "        self.beta_Z = np.linalg.pinv(Z_ones.T @ Z_ones) @ Z_ones.T @ Y\n",
    "        Y_hat = Z_ones @ self.beta_Z\n",
    "        e_Y = Y - Y_hat  # Residual of Y\n",
    "\n",
    "        # Step 2: Regress the residual on X using the included regression model\n",
    "        self.regression_model.fit(X, e_Y)\n",
    "\n",
    "        # Obtain coefficients from the regression model\n",
    "        if hasattr(self.regression_model, 'coef_'):\n",
    "            self.beta_X = self.regression_model.coef_\n",
    "        elif hasattr(self.regression_model, 'getBeta'):\n",
    "            beta_output = self.regression_model.getBeta()\n",
    "            self.beta_X = self._reshape_output(beta_output)\n",
    "\n",
    "        # Obtain negative logarithm of p-values, if available\n",
    "        if hasattr(self.regression_model, 'getNegLogP'):\n",
    "            neg_log_p_output = self.regression_model.getNegLogP()\n",
    "            if neg_log_p_output is not None:\n",
    "                self.neg_log_p_values = self._reshape_output(neg_log_p_output)\n",
    "                self.p_values = np.exp(-self.neg_log_p_values)\n",
    "                # Concatenate the p-values of Z and X. The p-values of Z were not computed, mark with NaN.\n",
    "                p_values_Z = np.full(Z.shape[1], np.nan)\n",
    "                self.p_values = np.concatenate((p_values_Z, self.p_values))\n",
    "\n",
    "    def predict(self, X, Z):\n",
    "        X = self._reshape_data(X)\n",
    "        Z = self._reshape_data(Z)\n",
    "\n",
    "        Z_ones = np.column_stack((np.ones(Z.shape[0]), Z))\n",
    "        ZX = np.column_stack((Z, X))\n",
    "        combined_beta = np.concatenate((self.beta_Z[1:].ravel(), self.beta_X.ravel()))\n",
    "        return ZX @ combined_beta + self.beta_Z[0]\n",
    "\n",
    "    def get_coefficients(self):\n",
    "        return np.concatenate((self.beta_Z[1:].ravel(), self.beta_X.ravel()))\n",
    "\n",
    "    def get_p_values(self):\n",
    "        return self.p_values"
   ]
  },
  {
   "cell_type": "code",
   "execution_count": 208,
   "metadata": {},
   "outputs": [],
   "source": [
    "def cross_validation(X, Y, Z, model_constructor, model_params, k=5, target_type='binary'):\n",
    "    assert target_type in ['binary', 'continuous'], \"The target type must be chosen from 'binary' or 'continuous'\"\n",
    "    indices = np.arange(X.shape[0])\n",
    "    np.random.shuffle(indices)\n",
    "\n",
    "    fold_size = len(X) // k\n",
    "    performances = []\n",
    "\n",
    "    for i in range(k):\n",
    "        # Split data into train and test based on the current fold\n",
    "        test_indices = indices[i * fold_size: (i + 1) * fold_size]\n",
    "        train_indices = np.setdiff1d(indices, test_indices)\n",
    "\n",
    "        X_train, X_test = X[train_indices], X[test_indices]\n",
    "        Y_train, Y_test = Y[train_indices], Y[test_indices]\n",
    "        Z_train, Z_test = Z[train_indices], Z[test_indices]\n",
    "\n",
    "        normalized_X_train, normalized_X_test = normalize_data(X_train, X_test)\n",
    "        normalized_Z_train, normalized_Z_test = normalize_data(Z_train, Z_test)\n",
    "\n",
    "        # model = model_constructor(**model_params)\n",
    "        model = ResidualizationRegressor(model_constructor, model_params)\n",
    "        model.fit(normalized_X_train, Y_train, normalized_Z_train)\n",
    "        predictions = model.predict(normalized_X_test, normalized_Z_test)\n",
    "\n",
    "        if target_type == 'binary':\n",
    "            predictions = (predictions > 0.5).astype(int)\n",
    "            Y_test = (Y_test > 0.5).astype(int)\n",
    "            performance = accuracy_score(Y_test, predictions)\n",
    "        elif target_type == 'continuous':\n",
    "            performance = mean_squared_error(Y_test, predictions)\n",
    "\n",
    "        performances.append(performance)\n",
    "\n",
    "    cv_mean = np.mean(performances)\n",
    "    cv_std = np.std(performances)\n",
    "\n",
    "    if target_type == 'binary':\n",
    "        print(f'The cross-validation accuracy is {(cv_mean * 100):.2f}% ± {(cv_std * 100):.2f}%')\n",
    "    else:\n",
    "        print(f'The cross-validation MSE is {(cv_mean * 100):.2f} ± {(cv_std * 100):.2f}')\n",
    "\n",
    "    return cv_mean, cv_std"
   ]
  },
  {
   "cell_type": "code",
   "execution_count": 209,
   "metadata": {},
   "outputs": [],
   "source": [
    "def interpret_result(model: Any, feature_names: List[str], trait: str, condition: str,\n",
    "                     threshold: float = 0.05, save_output: bool = True,\n",
    "                     output_dir: str = './output', model_id: int = 1) -> None:\n",
    "    \"\"\"This function interprets and reports the result of a trained linear regression model, where the regressor\n",
    "    consists of one variable about condition and multiple variables about genetic factors.\n",
    "    The function extracts coefficients and p-values from the model, and identifies the significant genes based on\n",
    "    p-values or non-zero coefficients, depending on the availability of p-values.\n",
    "\n",
    "    Parameters:\n",
    "    model (Any): The trained regression Model.\n",
    "    feature_names (List[str]): A list of feature names corresponding to the model's coefficients.\n",
    "    trait (str): The target trait of interest.\n",
    "    condition (str): The specific condition to examine within the model.\n",
    "    threshold (float): Significance level for p-value correction. Defaults to 0.05.\n",
    "    save_output (bool): Flag to determine whether to save the output to a file. Defaults to True.\n",
    "    output_dir (str): Directory path where output files are saved. Defaults to './output'.\n",
    "    model_id (int): The index of the model, 1 or 2.\n",
    "\n",
    "    Returns:\n",
    "    None: This function does not return anything but prints and optionally saves the output.\n",
    "    \"\"\"\n",
    "    coefficients = model.get_coefficients().reshape(-1).tolist()\n",
    "    p_values = model.get_p_values()\n",
    "    if p_values is None:\n",
    "        regression_df = pd.DataFrame({\n",
    "            'Variable': feature_names,\n",
    "            'Coefficient': coefficients\n",
    "        })\n",
    "    else:\n",
    "        regression_df = pd.DataFrame({\n",
    "            'Variable': feature_names,\n",
    "            'Coefficient': coefficients,\n",
    "            'p_value': p_values.reshape(-1).tolist()\n",
    "        })\n",
    "\n",
    "    condition_effect = regression_df[regression_df['Variable'] == condition].iloc[0]\n",
    "\n",
    "    print(f\"Effect of the condition on the target variable:\")\n",
    "    print(f\"Variable: {condition}\")\n",
    "    print(f\"Coefficient: {condition_effect['Coefficient']:.4f}\")\n",
    "    gene_regression_df = regression_df[regression_df['Variable'] != condition]\n",
    "    if p_values is None:\n",
    "        gene_regression_df['Absolute Coefficient'] = gene_regression_df['Coefficient'].abs()\n",
    "        significant_genes = gene_regression_df[gene_regression_df['Coefficient'] != 0]\n",
    "        significant_genes_sorted = significant_genes.sort_values(by='Absolute Coefficient', ascending=False)\n",
    "        print(\n",
    "            f\"Found {len(significant_genes_sorted)} genes with non-zero coefficients associated with the trait '{trait}' \"\n",
    "            f\"conditional on the factor '{condition}'. These genes are identified as significant based on the regression model.\")\n",
    "    else:\n",
    "        # Apply the Benjamini-Hochberg correction, to get the corrected p-values\n",
    "        corrected_p_values = multipletests(gene_regression_df['p_value'], alpha=threshold, method='fdr_bh')[1]\n",
    "        gene_regression_df.loc[:, 'corrected_p_value'] = corrected_p_values\n",
    "        significant_genes = gene_regression_df.loc[gene_regression_df['corrected_p_value'] < threshold]\n",
    "        significant_genes_sorted = significant_genes.sort_values('corrected_p_value')\n",
    "        print(\n",
    "            f\"Found {len(significant_genes_sorted)} significant genes associated with the trait '{trait}' conditional on \"\n",
    "            f\"the factor '{condition}', with corrected p-value < {threshold}:\")\n",
    "\n",
    "    print(significant_genes_sorted.to_string(index=False))\n",
    "\n",
    "    # Optionally, save this to a CSV file\n",
    "    if save_output:\n",
    "        significant_genes_sorted.to_csv(\n",
    "            os.path.join(output_dir, f'significant_genes_condition_{condition}_{model_id}.csv'), index=False)"
   ]
  },
  {
   "cell_type": "markdown",
   "metadata": {
    "collapsed": false
   },
   "source": [
    "# 1. Basic setup"
   ]
  },
  {
   "cell_type": "code",
   "execution_count": 210,
   "metadata": {
    "ExecuteTime": {
     "end_time": "2024-01-10T21:37:25.927828954Z",
     "start_time": "2024-01-10T21:37:25.311064788Z"
    },
    "collapsed": false
   },
   "outputs": [],
   "source": [
    "import os\n",
    "import sys\n",
    "\n",
    "sys.path.append('..')\n",
    "from utils import *\n",
    "\n",
    "# Set your preferred name\n",
    "USER = \"Miantong\"\n",
    "# Set the data and output directories\n",
    "DATA_ROOT = '/Users/mz/Desktop/AI4Science/DATA/'\n",
    "OUTPUT_ROOT = '/Users/mz/Desktop/AI4Science/DATA/output1'\n",
    "TRAIT = \"Ovarian-Cancer\"\n",
    "\n",
    "OUTPUT_DIR = os.path.join(OUTPUT_ROOT, USER, '-'.join(TRAIT.split()))\n",
    "JSON_PATH = os.path.join(OUTPUT_DIR, \"cohort_info.json\")\n",
    "if not os.path.exists(OUTPUT_DIR):\n",
    "    os.makedirs(OUTPUT_DIR, exist_ok=True)\n",
    "\n",
    "# Gene symbol normalization may take 1-2 minutes. You may set it to False for debugging.\n",
    "NORMALIZE_GENE = True"
   ]
  },
  {
   "cell_type": "markdown",
   "metadata": {
    "collapsed": false
   },
   "source": [
    "# 2. Data preprocessing and selection"
   ]
  },
  {
   "cell_type": "markdown",
   "metadata": {},
   "source": [
    "## 2.1. The TCGA Xena dataset"
   ]
  },
  {
   "cell_type": "markdown",
   "metadata": {},
   "source": [
    "In TCGA Xena, there is either zero or one cohort related to the trait. We search the names of subdirectories to see if any matches the trait. If a match is found, we directly obtain the file paths."
   ]
  },
  {
   "cell_type": "code",
   "execution_count": 211,
   "metadata": {},
   "outputs": [
    {
     "data": {
      "text/plain": [
       "['.DS_Store', 'TCGA_Ovarian_Cancer_(OV)', 'TCGA_Rectal_Cancer_(READ)']"
      ]
     },
     "execution_count": 211,
     "metadata": {},
     "output_type": "execute_result"
    }
   ],
   "source": [
    "dataset = 'TCGA'\n",
    "dataset_dir = os.path.join(DATA_ROOT, dataset)\n",
    "os.listdir(dataset_dir)[:10]"
   ]
  },
  {
   "cell_type": "code",
   "execution_count": 212,
   "metadata": {},
   "outputs": [],
   "source": [
    "trait_subdir = \"TCGA_Ovarian_Cancer_(OV)\"\n",
    "cohort = 'Xena'\n",
    "# All the cancer traits in Xena are binary\n",
    "trait_type = 'binary'\n",
    "# Once a relevant cohort is found in Xena, we can generally assume the gene and clinical data are available\n",
    "is_available = True\n",
    "\n",
    "clinical_data_file = os.path.join(dataset_dir, trait_subdir, 'TCGA.OV.sampleMap_OV_clinicalMatrix')\n",
    "genetic_data_file = os.path.join(dataset_dir, trait_subdir, 'TCGA.OV.sampleMap_HiSeqV2_PANCAN.gz')"
   ]
  },
  {
   "cell_type": "code",
   "execution_count": 213,
   "metadata": {},
   "outputs": [],
   "source": [
    "import pandas as pd\n",
    "\n",
    "clinical_data = pd.read_csv(clinical_data_file, sep='\\t', index_col=0)\n",
    "genetic_data = pd.read_csv(genetic_data_file, compression='gzip', sep='\\t', index_col=0)\n",
    "age_col = gender_col = None"
   ]
  },
  {
   "cell_type": "code",
   "execution_count": 214,
   "metadata": {},
   "outputs": [
    {
     "data": {
      "text/plain": [
       "['_INTEGRATION',\n",
       " '_PANCAN_CNA_PANCAN_K8',\n",
       " '_PANCAN_Cluster_Cluster_PANCAN',\n",
       " '_PANCAN_DNAMethyl_PANCAN',\n",
       " '_PANCAN_RPPA_PANCAN_K8',\n",
       " '_PANCAN_UNC_RNAseq_PANCAN_K16',\n",
       " '_PANCAN_miRNA_PANCAN',\n",
       " '_PANCAN_mirna_OV',\n",
       " '_PANCAN_mutation_PANCAN',\n",
       " '_PATIENT']"
      ]
     },
     "execution_count": 214,
     "metadata": {},
     "output_type": "execute_result"
    }
   ],
   "source": [
    "_, clinical_data_cols = check_rows_and_columns(clinical_data)\n",
    "clinical_data_cols[:10]"
   ]
  },
  {
   "cell_type": "code",
   "execution_count": 215,
   "metadata": {},
   "outputs": [
    {
     "data": {
      "text/plain": [
       "\"\\nBelow is a list of column names from a biomedical dataset. Please examine it and identify the columns that are likely to contain information about patients' age. Additionally, please do the same for columns that may hold data on patients' gender. Please provide your answer by strictly following this format, without redundant words:\\ncandidate_age_cols = [col_name1, col_name2, ...]\\ncandidate_gender_cols = [col_name1, col_name2, ...]\\nIf no columns match a criterion, please provide an empty list.\\n\\nColumn names:\\n['_INTEGRATION', '_PANCAN_CNA_PANCAN_K8', '_PANCAN_Cluster_Cluster_PANCAN', '_PANCAN_DNAMethyl_PANCAN', '_PANCAN_RPPA_PANCAN_K8', '_PANCAN_UNC_RNAseq_PANCAN_K16', '_PANCAN_miRNA_PANCAN', '_PANCAN_mirna_OV', '_PANCAN_mutation_PANCAN', '_PATIENT', '_cohort', '_primary_disease', '_primary_site', 'additional_pharmaceutical_therapy', 'additional_radiation_therapy', 'age_at_initial_pathologic_diagnosis', 'anatomic_neoplasm_subdivision', 'bcr_followup_barcode', 'bcr_patient_barcode', 'bcr_sample_barcode', 'clinical_stage', 'days_to_birth', 'days_to_collection', 'days_to_death', 'days_to_initial_pathologic_diagnosis', 'days_to_last_followup', 'days_to_new_tumor_event_additional_surgery_procedure', 'days_to_new_tumor_event_after_initial_treatment', 'eastern_cancer_oncology_group', 'followup_case_report_form_submission_reason', 'followup_treatment_success', 'form_completion_date', 'gender', 'histological_type', 'history_of_neoadjuvant_treatment', 'icd_10', 'icd_o_3_histology', 'icd_o_3_site', 'informed_consent_verified', 'initial_pathologic_diagnosis_method', 'initial_weight', 'intermediate_dimension', 'is_ffpe', 'karnofsky_performance_score', 'longest_dimension', 'lost_follow_up', 'lymphatic_invasion', 'neoplasm_histologic_grade', 'new_neoplasm_event_type', 'new_tumor_event_additional_surgery_procedure', 'new_tumor_event_after_initial_treatment', 'oct_embedded', 'other_dx', 'pathology_report_file_name', 'patient_id', 'performance_status_scale_timing', 'person_neoplasm_cancer_status', 'postoperative_rx_tx', 'primary_therapy_outcome_success', 'progression_determined_by', 'radiation_therapy', 'residual_tumor', 'sample_type', 'sample_type_id', 'shortest_dimension', 'tissue_prospective_collection_indicator', 'tissue_retrospective_collection_indicator', 'tissue_source_site', 'tumor_residual_disease', 'tumor_tissue_site', 'venous_invasion', 'vial_number', 'vital_status', 'year_of_initial_pathologic_diagnosis', '_GENOMIC_ID_TCGA_OV_PDMRNAseq', '_GENOMIC_ID_data/public/TCGA/OV/miRNA_HiSeq_gene', '_GENOMIC_ID_TCGA_OV_mutation_bcm_solid_gene', '_GENOMIC_ID_TCGA_OV_exp_u133a', '_GENOMIC_ID_TCGA_OV_hMethyl450', '_GENOMIC_ID_TCGA_OV_miRNA_HiSeq', '_GENOMIC_ID_TCGA_OV_mutation_curated_bcm_solid_gene', '_GENOMIC_ID_TCGA_OV_hMethyl27', '_GENOMIC_ID_TCGA_OV_mutation_wustl_hiseq_gene', '_GENOMIC_ID_TCGA_OV_RPPA_RBN', '_GENOMIC_ID_TCGA_OV_mutation_wustl_gene', '_GENOMIC_ID_TCGA_OV_exp_HiSeqV2_percentile', '_GENOMIC_ID_TCGA_OV_gistic2thd', '_GENOMIC_ID_TCGA_OV_PDMarray', '_GENOMIC_ID_TCGA_OV_RPPA', '_GENOMIC_ID_TCGA_OV_exp_HiSeq', '_GENOMIC_ID_TCGA_OV_gistic2', '_GENOMIC_ID_TCGA_OV_exp_HiSeqV2_PANCAN', '_GENOMIC_ID_TCGA_OV_exp_HiSeq_exon', '_GENOMIC_ID_TCGA_OV_exp_HiSeqV2', '_GENOMIC_ID_TCGA_OV_mutation_broad_gene', '_GENOMIC_ID_TCGA_OV_PDMarrayCNV', '_GENOMIC_ID_TCGA_OV_PDMRNAseqCNV', '_GENOMIC_ID_TCGA_OV_exp_HiSeqV2_exon', '_GENOMIC_ID_TCGA_OV_mutation', '_GENOMIC_ID_TCGA_OV_G4502A_07_3', '_GENOMIC_ID_TCGA_OV_G4502A_07_2']\\n\""
      ]
     },
     "execution_count": 215,
     "metadata": {},
     "output_type": "execute_result"
    }
   ],
   "source": [
    "f'''\n",
    "Below is a list of column names from a biomedical dataset. Please examine it and identify the columns that are likely to contain information about patients' age. Additionally, please do the same for columns that may hold data on patients' gender. Please provide your answer by strictly following this format, without redundant words:\n",
    "candidate_age_cols = [col_name1, col_name2, ...]\n",
    "candidate_gender_cols = [col_name1, col_name2, ...]\n",
    "If no columns match a criterion, please provide an empty list.\n",
    "\n",
    "Column names:\n",
    "{clinical_data_cols}\n",
    "'''"
   ]
  },
  {
   "cell_type": "code",
   "execution_count": 216,
   "metadata": {},
   "outputs": [],
   "source": [
    "candidate_age_cols = ['age_at_initial_pathologic_diagnosis',\n",
    "                      'days_to_birth', 'year_of_initial_pathologic_diagnosis']\n",
    "candidate_gender_cols = ['gender']"
   ]
  },
  {
   "cell_type": "code",
   "execution_count": 217,
   "metadata": {},
   "outputs": [
    {
     "data": {
      "text/plain": [
       "{'age_at_initial_pathologic_diagnosis': [nan, nan, nan, nan, nan],\n",
       " 'days_to_birth': [nan, nan, nan, nan, nan],\n",
       " 'year_of_initial_pathologic_diagnosis': [nan, nan, nan, nan, nan]}"
      ]
     },
     "execution_count": 217,
     "metadata": {},
     "output_type": "execute_result"
    }
   ],
   "source": [
    "preview_df(clinical_data[candidate_age_cols])"
   ]
  },
  {
   "cell_type": "code",
   "execution_count": 218,
   "metadata": {},
   "outputs": [],
   "source": [
    "age_col = 'age_at_initial_pathologic_diagnosis'"
   ]
  },
  {
   "cell_type": "code",
   "execution_count": 219,
   "metadata": {},
   "outputs": [
    {
     "data": {
      "text/plain": [
       "{'gender': [nan, nan, nan, nan, nan]}"
      ]
     },
     "execution_count": 219,
     "metadata": {},
     "output_type": "execute_result"
    }
   ],
   "source": [
    "preview_df(clinical_data[candidate_gender_cols])"
   ]
  },
  {
   "cell_type": "code",
   "execution_count": 220,
   "metadata": {},
   "outputs": [],
   "source": [
    "gender_col = 'gender'"
   ]
  },
  {
   "cell_type": "code",
   "execution_count": 221,
   "metadata": {},
   "outputs": [],
   "source": [
    "selected_clinical_data = xena_select_clinical_features(clinical_data, TRAIT, age_col, gender_col)"
   ]
  },
  {
   "cell_type": "code",
   "execution_count": 222,
   "metadata": {},
   "outputs": [
    {
     "name": "stderr",
     "output_type": "stream",
     "text": [
      "15 input query terms found dup hits:\t[('GTF2IP1', 2), ('RBMY1A3P', 3), ('HERC2P2', 3), ('WASH3P', 3), ('NUDT9P1', 2), ('SNORD104', 2), ('\n",
      "154 input query terms found no hit:\t['C16orf13', 'C16orf11', 'LOC100272146', 'LOC339240', 'NACAP1', 'LOC441204', 'KLRA1', 'FAM183A', 'FA\n",
      "9 input query terms found dup hits:\t[('SUGT1P1', 2), ('SNORD127', 2), ('SNORA62', 4), ('IFITM4P', 8), ('HLA-DRB6', 2), ('FUNDC2P2', 2), \n",
      "190 input query terms found no hit:\t['NARFL', 'NFKBIL2', 'LOC150197', 'TMEM84', 'LOC162632', 'PPPDE1', 'PPPDE2', 'C1orf38', 'C1orf31', '\n",
      "20 input query terms found dup hits:\t[('PIP5K1P1', 2), ('SNORA40', 2), ('SNORD116-24', 2), ('SNORD116-25', 2), ('SNORD116-23', 2), ('SNOR\n",
      "149 input query terms found no hit:\t['FAM153C', 'C9orf167', 'CLK2P', 'CCDC76', 'CCDC75', 'CCDC72', 'HIST3H2BB', 'PRAC', 'LOC285780', 'LO\n",
      "18 input query terms found dup hits:\t[('SNORD58C', 2), ('UOX', 2), ('UBE2Q2P1', 3), ('PPP4R1L', 2), ('SNORD63', 3), ('SNORD116-22', 2), (\n",
      "158 input query terms found no hit:\t['C16orf91', 'LOC100130581', 'SFRS2', 'C16orf5', 'C16orf7', 'C16orf3', 'C21orf7', 'C21orf2', 'LOC389\n",
      "19 input query terms found dup hits:\t[('FAM66D', 2), ('FAM66A', 2), ('THSD1P1', 2), ('MSLNL', 2), ('EEF1DP3', 2), ('PGM5P2', 2), ('UBE2MP\n",
      "169 input query terms found no hit:\t['LOC284551', 'LOC285548', 'LOC728410', 'LOC541473', 'DULLARD', 'KIAA0368', 'EFTUD1', 'TWISTNB', 'SF\n",
      "17 input query terms found dup hits:\t[('S100A7L2', 2), ('POM121L8P', 2), ('SNORD16', 2), ('MEG8', 2), ('RPL23P8', 2), ('KIR3DX1', 5), ('R\n",
      "165 input query terms found no hit:\t['TMEM188', 'PDZD3', 'FAM102B', 'FAM102A', 'SMCR7L', 'G6PC', 'OSTCL', 'LOC653544', 'LOC653545', 'USP\n",
      "20 input query terms found dup hits:\t[('SNORD50B', 2), ('PCNAP1', 2), ('SNORA63', 7), ('C5orf60', 2), ('CEACAM22P', 2), ('SNORA16A', 2), \n",
      "147 input query terms found no hit:\t['LRRC37A4', 'LOC100131726', 'CPSF3L', 'COL4A3BP', 'PAR1', 'LOC92973', 'MICALCL', 'SMCR7', 'HIST4H4'\n",
      "15 input query terms found dup hits:\t[('SDHAP3', 2), ('PSORS1C3', 8), ('POM121L10P', 2), ('HLA-J', 9), ('HLA-H', 9), ('HLA-L', 7), ('NME2\n",
      "153 input query terms found no hit:\t['LOC100131193', 'KIAA1109', 'DUS2L', 'MYST1', 'IGLL3', 'C12orf69', 'NEURL', 'FAM188B', 'FLJ32063', \n",
      "8 input query terms found dup hits:\t[('PLGLA', 2), ('PA2G4P4', 2), ('RPL23AP7', 2), ('ST20', 2), ('RPL23AP64', 3), ('DPY19L2P2', 3), ('F\n",
      "177 input query terms found no hit:\t['LOC283314', 'RBM9', 'C20orf118', 'LOC150786', 'C20orf112', 'C20orf111', 'C20orf117', 'C20orf114', \n",
      "19 input query terms found dup hits:\t[('TPTE2P1', 2), ('FOLH1B', 2), ('ID2B', 2), ('MSX2P1', 2), ('RAET1K', 2), ('BMS1P4', 2), ('RPL23AP8\n",
      "175 input query terms found no hit:\t['MYEOV2', 'FAM35B2', 'C20orf85', 'FAM175A', 'C17orf73', 'C17orf72', 'C17orf71', 'C17orf70', 'C17orf\n",
      "26 input query terms found dup hits:\t[('CATSPER2P1', 2), ('AQP7P3', 2), ('AQP7P1', 2), ('ATP8B5P', 2), ('OR7E91P', 2), ('ZNF204P', 2), ('\n",
      "144 input query terms found no hit:\t['BASE', 'C14orf21', 'C14orf23', 'FAM5B', 'TROVE2', 'C18orf62', 'LOC401052', 'GNB2L1', 'FAM19A4', 'F\n",
      "17 input query terms found dup hits:\t[('P2RX6P', 2), ('RP9P', 2), ('SNORD1A', 2), ('SNORD10', 2), ('SNORD19', 2), ('NRADDP', 2), ('AOX2P'\n",
      "169 input query terms found no hit:\t['TTC15', 'C4orf29', 'FAM48A', 'C4orf21', 'C3orf65', 'C4orf23', 'C3orf67', 'LOC144742', 'C3orf63', '\n",
      "17 input query terms found dup hits:\t[('SNORA58', 2), ('PMCHL1', 2), ('FAM95B1', 2), ('TMEM191A', 2), ('RPL13P5', 2), ('SBDSP1', 2), ('CY\n",
      "143 input query terms found no hit:\t['LOC254312', 'ZNF542', 'CSDAP1', 'FAM73A', 'FAM73B', 'TCTE3', 'ZNF37B', 'LOC728875', 'KIAA1826', 'P\n",
      "16 input query terms found dup hits:\t[('ZFP91-CNTF', 2), ('SNORD116-27', 2), ('GSTM2P1', 2), ('C3P1', 2), ('NCF1B', 2), ('SNORD114-4', 2)\n",
      "138 input query terms found no hit:\t['LOC100129716', 'C14orf184', 'C14orf181', 'C14orf183', 'C14orf182', 'C7orf26', 'C7orf27', 'C7orf23'\n",
      "14 input query terms found dup hits:\t[('ANXA2P1', 2), ('ANXA2P3', 2), ('ANXA2P2', 2), ('SNORD116-12', 2), ('ZNF286B', 2), ('SAA3P', 2), (\n",
      "132 input query terms found no hit:\t['AKR1CL1', 'CCDC21', 'CCDC23', 'TMEM111', 'APOB48R', 'LOC595101', 'KIAA1430', 'KIAA1432', 'ORC4L', \n",
      "15 input query terms found dup hits:\t[('TCP10L2', 2), ('CXADRP3', 2), ('SNORD116-13', 2), ('TPTE2P3', 2), ('SNORD116-15', 2), ('SNORD116-\n",
      "175 input query terms found no hit:\t['DFNB59', 'LOC100170939', 'FAM36A', 'C2orf70', 'C2orf71', 'C2orf77', 'C2orf79', 'LOC100128191', 'HR\n",
      "16 input query terms found dup hits:\t[('PMS2CL', 2), ('BRD7P3', 2), ('SCARNA17', 2), ('GABARAPL3', 2), ('MT1IP', 2), ('ADAM6', 3), ('SNOR\n",
      "142 input query terms found no hit:\t['C9orf30', 'PEG3AS', 'C9orf37', 'TXNDC3', 'LOC442308', 'FAM46D', 'FAM46A', 'FAM46B', 'FAM46C', 'WDR\n",
      "13 input query terms found dup hits:\t[('FAM197Y2', 3), ('SNORD1C', 2), ('SNORA71B', 2), ('NAT8B', 3), ('SNORA21', 2), ('VENTXP7', 2), ('G\n",
      "148 input query terms found no hit:\t['FCGR1B', 'RG9MTD2', 'RARS', 'LOC727677', 'CCRN4L', 'SEPT14', 'HKR1', 'C1orf112', 'LOC100270710', '\n",
      "13 input query terms found dup hits:\t[('OR6W1P', 3), ('LYPLA2P1', 6), ('RPL23AP53', 2), ('TRPC2', 2), ('RBMY2FP', 2), ('BAGE2', 2), ('POM\n",
      "150 input query terms found no hit:\t['SIP1', 'FAM129C', 'GIF', 'TMCO7', 'CXorf61', 'CXorf64', 'ZNF192', 'SEPP1', 'KIRREL', 'MGC16121', '\n",
      "18 input query terms found dup hits:\t[('ISCA1P1', 2), ('SNORD116-5', 2), ('PCDHB19P', 3), ('NAPSB', 2), ('WASH7P', 2), ('TTTY11', 2), ('H\n",
      "135 input query terms found no hit:\t['PPYR1', 'FAM82A2', 'FLJ37453', 'FAM82A1', 'KIAA0947', 'MOBKL2B', 'MOBKL2C', 'MOBKL2A', 'CMAH', 'GR\n",
      "8 input query terms found dup hits:\t[('SNORD12B', 2), ('SNORD116-8', 2), ('SNORD116-4', 2), ('SNORD116-1', 2), ('SNORD116-3', 2), ('SNOR\n",
      "78 input query terms found no hit:\t['C14orf174', 'C14orf176', 'C14orf177', 'C14orf179', 'PTPLB', 'SGEF', 'LOC400752', 'GRLF1', 'SPANXE'\n"
     ]
    }
   ],
   "source": [
    "if NORMALIZE_GENE:\n",
    "    genetic_data = normalize_gene_symbols_in_index(genetic_data)"
   ]
  },
  {
   "cell_type": "code",
   "execution_count": 223,
   "metadata": {},
   "outputs": [
    {
     "data": {
      "text/html": [
       "<div>\n",
       "<style scoped>\n",
       "    .dataframe tbody tr th:only-of-type {\n",
       "        vertical-align: middle;\n",
       "    }\n",
       "\n",
       "    .dataframe tbody tr th {\n",
       "        vertical-align: top;\n",
       "    }\n",
       "\n",
       "    .dataframe thead th {\n",
       "        text-align: right;\n",
       "    }\n",
       "</style>\n",
       "<table border=\"1\" class=\"dataframe\">\n",
       "  <thead>\n",
       "    <tr style=\"text-align: right;\">\n",
       "      <th></th>\n",
       "      <th>Ovarian-Cancer</th>\n",
       "      <th>Age</th>\n",
       "      <th>Gender</th>\n",
       "      <th>ARHGEF10L</th>\n",
       "      <th>HIF3A</th>\n",
       "      <th>RNF17</th>\n",
       "      <th>RNF10</th>\n",
       "      <th>RNF11</th>\n",
       "      <th>RNF13</th>\n",
       "      <th>GTF2IP1</th>\n",
       "      <th>...</th>\n",
       "      <th>SLC7A10</th>\n",
       "      <th>PLA2G2C</th>\n",
       "      <th>TULP2</th>\n",
       "      <th>NPY5R</th>\n",
       "      <th>GNGT2</th>\n",
       "      <th>GNGT1</th>\n",
       "      <th>TULP3</th>\n",
       "      <th>BCL6B</th>\n",
       "      <th>GSTK1</th>\n",
       "      <th>SELP</th>\n",
       "    </tr>\n",
       "    <tr>\n",
       "      <th>sampleID</th>\n",
       "      <th></th>\n",
       "      <th></th>\n",
       "      <th></th>\n",
       "      <th></th>\n",
       "      <th></th>\n",
       "      <th></th>\n",
       "      <th></th>\n",
       "      <th></th>\n",
       "      <th></th>\n",
       "      <th></th>\n",
       "      <th></th>\n",
       "      <th></th>\n",
       "      <th></th>\n",
       "      <th></th>\n",
       "      <th></th>\n",
       "      <th></th>\n",
       "      <th></th>\n",
       "      <th></th>\n",
       "      <th></th>\n",
       "      <th></th>\n",
       "      <th></th>\n",
       "    </tr>\n",
       "  </thead>\n",
       "  <tbody>\n",
       "    <tr>\n",
       "      <th>TCGA-04-1348-01</th>\n",
       "      <td>1</td>\n",
       "      <td>44.0</td>\n",
       "      <td>0.0</td>\n",
       "      <td>-1.144492</td>\n",
       "      <td>4.363674</td>\n",
       "      <td>-0.531035</td>\n",
       "      <td>0.358628</td>\n",
       "      <td>-0.729078</td>\n",
       "      <td>0.64369</td>\n",
       "      <td>0.042406</td>\n",
       "      <td>...</td>\n",
       "      <td>0.016014</td>\n",
       "      <td>-0.086682</td>\n",
       "      <td>-0.127978</td>\n",
       "      <td>-0.966217</td>\n",
       "      <td>0.660767</td>\n",
       "      <td>1.89921</td>\n",
       "      <td>0.277323</td>\n",
       "      <td>-1.161227</td>\n",
       "      <td>1.373005</td>\n",
       "      <td>-1.843933</td>\n",
       "    </tr>\n",
       "    <tr>\n",
       "      <th>TCGA-04-1357-01</th>\n",
       "      <td>1</td>\n",
       "      <td>52.0</td>\n",
       "      <td>0.0</td>\n",
       "      <td>-0.681392</td>\n",
       "      <td>2.275374</td>\n",
       "      <td>-0.531035</td>\n",
       "      <td>-0.814372</td>\n",
       "      <td>-0.131978</td>\n",
       "      <td>0.10519</td>\n",
       "      <td>0.854706</td>\n",
       "      <td>...</td>\n",
       "      <td>-1.361686</td>\n",
       "      <td>1.475518</td>\n",
       "      <td>-0.748878</td>\n",
       "      <td>-1.587117</td>\n",
       "      <td>1.654867</td>\n",
       "      <td>2.59361</td>\n",
       "      <td>1.034923</td>\n",
       "      <td>-1.648627</td>\n",
       "      <td>1.421205</td>\n",
       "      <td>-0.700533</td>\n",
       "    </tr>\n",
       "    <tr>\n",
       "      <th>TCGA-04-1362-01</th>\n",
       "      <td>1</td>\n",
       "      <td>59.0</td>\n",
       "      <td>0.0</td>\n",
       "      <td>-0.298792</td>\n",
       "      <td>2.225074</td>\n",
       "      <td>-0.531035</td>\n",
       "      <td>0.300928</td>\n",
       "      <td>0.047622</td>\n",
       "      <td>-0.65201</td>\n",
       "      <td>-0.421194</td>\n",
       "      <td>...</td>\n",
       "      <td>-0.213386</td>\n",
       "      <td>-0.086682</td>\n",
       "      <td>-0.748878</td>\n",
       "      <td>-1.587117</td>\n",
       "      <td>-0.368833</td>\n",
       "      <td>2.07851</td>\n",
       "      <td>1.137323</td>\n",
       "      <td>-2.889527</td>\n",
       "      <td>0.163805</td>\n",
       "      <td>-2.797333</td>\n",
       "    </tr>\n",
       "    <tr>\n",
       "      <th>TCGA-04-1364-01</th>\n",
       "      <td>1</td>\n",
       "      <td>61.0</td>\n",
       "      <td>0.0</td>\n",
       "      <td>-1.884192</td>\n",
       "      <td>5.459374</td>\n",
       "      <td>-0.531035</td>\n",
       "      <td>-0.296072</td>\n",
       "      <td>-0.551278</td>\n",
       "      <td>-0.97961</td>\n",
       "      <td>1.181606</td>\n",
       "      <td>...</td>\n",
       "      <td>3.917414</td>\n",
       "      <td>-0.086682</td>\n",
       "      <td>1.386022</td>\n",
       "      <td>-1.077217</td>\n",
       "      <td>-2.833033</td>\n",
       "      <td>2.88541</td>\n",
       "      <td>0.417723</td>\n",
       "      <td>0.590773</td>\n",
       "      <td>0.999505</td>\n",
       "      <td>-2.731333</td>\n",
       "    </tr>\n",
       "    <tr>\n",
       "      <th>TCGA-04-1365-01</th>\n",
       "      <td>1</td>\n",
       "      <td>87.0</td>\n",
       "      <td>0.0</td>\n",
       "      <td>-0.682892</td>\n",
       "      <td>1.917674</td>\n",
       "      <td>-0.531035</td>\n",
       "      <td>-0.014072</td>\n",
       "      <td>-0.229678</td>\n",
       "      <td>-0.95741</td>\n",
       "      <td>0.478706</td>\n",
       "      <td>...</td>\n",
       "      <td>-1.710786</td>\n",
       "      <td>-0.086682</td>\n",
       "      <td>-0.748878</td>\n",
       "      <td>-1.587117</td>\n",
       "      <td>1.026667</td>\n",
       "      <td>2.92631</td>\n",
       "      <td>1.055923</td>\n",
       "      <td>-0.571927</td>\n",
       "      <td>0.394805</td>\n",
       "      <td>-1.341533</td>\n",
       "    </tr>\n",
       "  </tbody>\n",
       "</table>\n",
       "<p>5 rows × 17342 columns</p>\n",
       "</div>"
      ],
      "text/plain": [
       "                 Ovarian-Cancer   Age  Gender  ARHGEF10L     HIF3A     RNF17  \\\n",
       "sampleID                                                                       \n",
       "TCGA-04-1348-01               1  44.0     0.0  -1.144492  4.363674 -0.531035   \n",
       "TCGA-04-1357-01               1  52.0     0.0  -0.681392  2.275374 -0.531035   \n",
       "TCGA-04-1362-01               1  59.0     0.0  -0.298792  2.225074 -0.531035   \n",
       "TCGA-04-1364-01               1  61.0     0.0  -1.884192  5.459374 -0.531035   \n",
       "TCGA-04-1365-01               1  87.0     0.0  -0.682892  1.917674 -0.531035   \n",
       "\n",
       "                    RNF10     RNF11    RNF13   GTF2IP1  ...   SLC7A10  \\\n",
       "sampleID                                                ...             \n",
       "TCGA-04-1348-01  0.358628 -0.729078  0.64369  0.042406  ...  0.016014   \n",
       "TCGA-04-1357-01 -0.814372 -0.131978  0.10519  0.854706  ... -1.361686   \n",
       "TCGA-04-1362-01  0.300928  0.047622 -0.65201 -0.421194  ... -0.213386   \n",
       "TCGA-04-1364-01 -0.296072 -0.551278 -0.97961  1.181606  ...  3.917414   \n",
       "TCGA-04-1365-01 -0.014072 -0.229678 -0.95741  0.478706  ... -1.710786   \n",
       "\n",
       "                  PLA2G2C     TULP2     NPY5R     GNGT2    GNGT1     TULP3  \\\n",
       "sampleID                                                                     \n",
       "TCGA-04-1348-01 -0.086682 -0.127978 -0.966217  0.660767  1.89921  0.277323   \n",
       "TCGA-04-1357-01  1.475518 -0.748878 -1.587117  1.654867  2.59361  1.034923   \n",
       "TCGA-04-1362-01 -0.086682 -0.748878 -1.587117 -0.368833  2.07851  1.137323   \n",
       "TCGA-04-1364-01 -0.086682  1.386022 -1.077217 -2.833033  2.88541  0.417723   \n",
       "TCGA-04-1365-01 -0.086682 -0.748878 -1.587117  1.026667  2.92631  1.055923   \n",
       "\n",
       "                    BCL6B     GSTK1      SELP  \n",
       "sampleID                                       \n",
       "TCGA-04-1348-01 -1.161227  1.373005 -1.843933  \n",
       "TCGA-04-1357-01 -1.648627  1.421205 -0.700533  \n",
       "TCGA-04-1362-01 -2.889527  0.163805 -2.797333  \n",
       "TCGA-04-1364-01  0.590773  0.999505 -2.731333  \n",
       "TCGA-04-1365-01 -0.571927  0.394805 -1.341533  \n",
       "\n",
       "[5 rows x 17342 columns]"
      ]
     },
     "execution_count": 223,
     "metadata": {},
     "output_type": "execute_result"
    }
   ],
   "source": [
    "merged_data = selected_clinical_data.join(genetic_data.T).dropna()\n",
    "merged_data.head()"
   ]
  },
  {
   "cell_type": "code",
   "execution_count": 224,
   "metadata": {},
   "outputs": [
    {
     "name": "stdout",
     "output_type": "stream",
     "text": [
      "The merged dataset contains 308 samples.\n"
     ]
    }
   ],
   "source": [
    "print(f\"The merged dataset contains {len(merged_data)} samples.\")"
   ]
  },
  {
   "cell_type": "code",
   "execution_count": 225,
   "metadata": {},
   "outputs": [
    {
     "name": "stdout",
     "output_type": "stream",
     "text": [
      "For the feature 'Ovarian-Cancer', the least common label is '1' with 308 occurrences. This represents 100.00% of the dataset.\n",
      "The distribution of the feature 'Ovarian-Cancer' in this dataset is severely biased.\n",
      "\n",
      "Quartiles for 'Age':\n",
      "  25%: 51.0\n",
      "  50% (Median): 58.0\n",
      "  75%: 67.0\n",
      "Min: 30.0\n",
      "Max: 87.0\n",
      "The distribution of the feature 'Age' in this dataset is fine.\n",
      "\n",
      "For the feature 'Gender', the least common label is '0.0' with 308 occurrences. This represents 100.00% of the dataset.\n",
      "The distribution of the feature 'Gender' in this dataset is severely biased.\n",
      "\n"
     ]
    },
    {
     "data": {
      "text/plain": [
       "True"
      ]
     },
     "execution_count": 225,
     "metadata": {},
     "output_type": "execute_result"
    }
   ],
   "source": [
    "is_trait_biased, merge_data = judge_and_remove_biased_features(merged_data, TRAIT, trait_type=trait_type)\n",
    "is_trait_biased"
   ]
  },
  {
   "cell_type": "code",
   "execution_count": 226,
   "metadata": {},
   "outputs": [],
   "source": [
    "merged_data.head()\n",
    "if not is_trait_biased:\n",
    "    merge_data.to_csv(os.path.join(OUTPUT_DIR, cohort+'.csv'), index=False)"
   ]
  },
  {
   "cell_type": "code",
   "execution_count": 227,
   "metadata": {},
   "outputs": [],
   "source": [
    "save_cohort_info(cohort, JSON_PATH, is_available, is_trait_biased, merged_data)"
   ]
  },
  {
   "cell_type": "markdown",
   "metadata": {
    "ExecuteTime": {
     "end_time": "2023-12-28T21:28:38.028916303Z",
     "start_time": "2023-12-28T21:28:38.016245426Z"
    },
    "collapsed": false
   },
   "source": [
    "## 2.2. The GEO dataset"
   ]
  },
  {
   "cell_type": "markdown",
   "metadata": {
    "ExecuteTime": {
     "end_time": "2023-12-31T03:25:23.253882615Z",
     "start_time": "2023-12-31T03:25:23.244062710Z"
    },
    "collapsed": false
   },
   "source": [
    "In GEO, there may be one or multiple cohorts for a trait. Each cohort is identified by an accession number. We iterate over all accession numbers in the corresponding subdirectory, preprocess the cohort data, and save them to csv files."
   ]
  },
  {
   "cell_type": "code",
   "execution_count": 228,
   "metadata": {
    "ExecuteTime": {
     "end_time": "2024-01-10T21:38:31.425592571Z",
     "start_time": "2024-01-10T21:38:31.419137625Z"
    },
    "collapsed": false
   },
   "outputs": [
    {
     "data": {
      "text/plain": [
       "['GSE226823', 'GSE226872', 'GSE208103']"
      ]
     },
     "execution_count": 228,
     "metadata": {},
     "output_type": "execute_result"
    }
   ],
   "source": [
    "dataset = 'GEO'\n",
    "trait_subdir = \"Ovarian-Cancer\"\n",
    "\n",
    "trait_path = os.path.join(DATA_ROOT, dataset, trait_subdir)\n",
    "os.listdir(trait_path)"
   ]
  },
  {
   "cell_type": "code",
   "execution_count": 229,
   "metadata": {
    "ExecuteTime": {
     "end_time": "2024-01-10T21:39:02.935079426Z",
     "start_time": "2024-01-10T21:39:02.923698385Z"
    },
    "collapsed": false
   },
   "outputs": [
    {
     "data": {
      "text/plain": [
       "('/Users/mz/Desktop/AI4Science/DATA/GEO/Ovarian-Cancer/GSE208103/GSE208103_family.soft.gz',\n",
       " '/Users/mz/Desktop/AI4Science/DATA/GEO/Ovarian-Cancer/GSE208103/GSE208103_series_matrix.txt.gz')"
      ]
     },
     "execution_count": 229,
     "metadata": {},
     "output_type": "execute_result"
    }
   ],
   "source": [
    "cohort = accession_num = \"GSE208103\"\n",
    "cohort_dir = os.path.join(trait_path, accession_num)\n",
    "soft_file, matrix_file = get_relevant_filepaths(cohort_dir)\n",
    "soft_file, matrix_file"
   ]
  },
  {
   "cell_type": "code",
   "execution_count": 230,
   "metadata": {},
   "outputs": [
    {
     "data": {
      "text/plain": [
       "('/Users/mz/Desktop/AI4Science/DATA/GEO/Ovarian-Cancer/GSE226823/GSE226823_family.soft.gz',\n",
       " '/Users/mz/Desktop/AI4Science/DATA/GEO/Ovarian-Cancer/GSE226823/GSE226823_series_matrix.txt.gz')"
      ]
     },
     "execution_count": 230,
     "metadata": {},
     "output_type": "execute_result"
    }
   ],
   "source": [
    "cohort = accession_num = \"GSE226823\"\n",
    "cohort_dir = os.path.join(trait_path, accession_num)\n",
    "soft_file, matrix_file = get_relevant_filepaths(cohort_dir)\n",
    "soft_file, matrix_file"
   ]
  },
  {
   "cell_type": "code",
   "execution_count": 231,
   "metadata": {},
   "outputs": [
    {
     "data": {
      "text/plain": [
       "('/Users/mz/Desktop/AI4Science/DATA/GEO/Ovarian-Cancer/GSE226872/GSE226872_family.soft.gz',\n",
       " '/Users/mz/Desktop/AI4Science/DATA/GEO/Ovarian-Cancer/GSE226872/GSE226872-GPL13534_series_matrix.txt.gz')"
      ]
     },
     "execution_count": 231,
     "metadata": {},
     "output_type": "execute_result"
    }
   ],
   "source": [
    "cohort = accession_num = \"GSE226872\"\n",
    "cohort_dir = os.path.join(trait_path, accession_num)\n",
    "soft_file, matrix_file = get_relevant_filepaths(cohort_dir)\n",
    "soft_file, matrix_file"
   ]
  },
  {
   "cell_type": "markdown",
   "metadata": {
    "collapsed": false
   },
   "source": [
    "### Initial filtering and clinical data preprocessing"
   ]
  },
  {
   "cell_type": "code",
   "execution_count": 232,
   "metadata": {
    "ExecuteTime": {
     "end_time": "2024-01-10T21:39:03.718770427Z",
     "start_time": "2024-01-10T21:39:03.677006442Z"
    },
    "collapsed": false
   },
   "outputs": [
    {
     "name": "stdout",
     "output_type": "stream",
     "text": [
      "!Series_title\t\"Transcriptome and DNA methylation analyses highlight the role of menstrual cycle phase in tumorigenesis of endometriosis-related ovarian carcinoma histotypes.\"\n",
      "!Series_summary\t\"This SuperSeries is composed of the SubSeries listed below.\"\n",
      "!Series_overall_design\t\"Refer to individual Series\"\n"
     ]
    }
   ],
   "source": [
    "background_prefixes = ['!Series_title', '!Series_summary', '!Series_overall_design']\n",
    "clinical_prefixes = ['!Sample_geo_accession', '!Sample_characteristics_ch1']\n",
    "\n",
    "background_info, clinical_data = get_background_and_clinical_data(matrix_file, background_prefixes, clinical_prefixes)\n",
    "print(background_info)"
   ]
  },
  {
   "cell_type": "code",
   "execution_count": 233,
   "metadata": {
    "ExecuteTime": {
     "end_time": "2024-01-10T21:39:04.022548957Z",
     "start_time": "2024-01-10T21:39:04.008519515Z"
    },
    "collapsed": false
   },
   "outputs": [
    {
     "data": {
      "text/html": [
       "<div>\n",
       "<style scoped>\n",
       "    .dataframe tbody tr th:only-of-type {\n",
       "        vertical-align: middle;\n",
       "    }\n",
       "\n",
       "    .dataframe tbody tr th {\n",
       "        vertical-align: top;\n",
       "    }\n",
       "\n",
       "    .dataframe thead th {\n",
       "        text-align: right;\n",
       "    }\n",
       "</style>\n",
       "<table border=\"1\" class=\"dataframe\">\n",
       "  <thead>\n",
       "    <tr style=\"text-align: right;\">\n",
       "      <th></th>\n",
       "      <th>!Sample_geo_accession</th>\n",
       "      <th>GSM7084235</th>\n",
       "      <th>GSM7084236</th>\n",
       "      <th>GSM7084237</th>\n",
       "      <th>GSM7084238</th>\n",
       "      <th>GSM7084239</th>\n",
       "      <th>GSM7084240</th>\n",
       "      <th>GSM7084241</th>\n",
       "      <th>GSM7084242</th>\n",
       "      <th>GSM7084243</th>\n",
       "      <th>...</th>\n",
       "      <th>GSM7084352</th>\n",
       "      <th>GSM7084353</th>\n",
       "      <th>GSM7084354</th>\n",
       "      <th>GSM7084355</th>\n",
       "      <th>GSM7084356</th>\n",
       "      <th>GSM7084357</th>\n",
       "      <th>GSM7084358</th>\n",
       "      <th>GSM7084359</th>\n",
       "      <th>GSM7084360</th>\n",
       "      <th>GSM7084361</th>\n",
       "    </tr>\n",
       "  </thead>\n",
       "  <tbody>\n",
       "    <tr>\n",
       "      <th>0</th>\n",
       "      <td>!Sample_characteristics_ch1</td>\n",
       "      <td>tissue: Ovarian tumor</td>\n",
       "      <td>tissue: Ovarian tumor</td>\n",
       "      <td>tissue: Ovarian tumor</td>\n",
       "      <td>tissue: Ovarian tumor</td>\n",
       "      <td>tissue: Ovarian tumor</td>\n",
       "      <td>tissue: Ovarian tumor</td>\n",
       "      <td>tissue: Ovarian tumor</td>\n",
       "      <td>tissue: Ovarian tumor</td>\n",
       "      <td>tissue: Ovarian tumor</td>\n",
       "      <td>...</td>\n",
       "      <td>tissue: Ovarian tumor</td>\n",
       "      <td>tissue: Ovarian tumor</td>\n",
       "      <td>tissue: Ovarian tumor</td>\n",
       "      <td>tissue: Ovarian tumor</td>\n",
       "      <td>tissue: Ovarian tumor</td>\n",
       "      <td>tissue: Ovarian tumor</td>\n",
       "      <td>tissue: Ovarian tumor</td>\n",
       "      <td>tissue: Ovarian tumor</td>\n",
       "      <td>tissue: Ovarian tumor</td>\n",
       "      <td>tissue: Ovarian tumor</td>\n",
       "    </tr>\n",
       "    <tr>\n",
       "      <th>1</th>\n",
       "      <td>!Sample_characteristics_ch1</td>\n",
       "      <td>histology: CCOC</td>\n",
       "      <td>histology: ENOC</td>\n",
       "      <td>histology: CCOC</td>\n",
       "      <td>histology: CCOC</td>\n",
       "      <td>histology: CCOC</td>\n",
       "      <td>histology: CCOC</td>\n",
       "      <td>histology: HGSC</td>\n",
       "      <td>histology: CCOC</td>\n",
       "      <td>histology: HGSC</td>\n",
       "      <td>...</td>\n",
       "      <td>histology: HGSC</td>\n",
       "      <td>histology: HGSC</td>\n",
       "      <td>histology: HGSC</td>\n",
       "      <td>histology: HGSC</td>\n",
       "      <td>histology: HGSC</td>\n",
       "      <td>histology: HGSC</td>\n",
       "      <td>histology: HGSC</td>\n",
       "      <td>histology: HGSC</td>\n",
       "      <td>histology: HGSC</td>\n",
       "      <td>histology: HGSC</td>\n",
       "    </tr>\n",
       "  </tbody>\n",
       "</table>\n",
       "<p>2 rows × 128 columns</p>\n",
       "</div>"
      ],
      "text/plain": [
       "         !Sample_geo_accession             GSM7084235             GSM7084236  \\\n",
       "0  !Sample_characteristics_ch1  tissue: Ovarian tumor  tissue: Ovarian tumor   \n",
       "1  !Sample_characteristics_ch1        histology: CCOC        histology: ENOC   \n",
       "\n",
       "              GSM7084237             GSM7084238             GSM7084239  \\\n",
       "0  tissue: Ovarian tumor  tissue: Ovarian tumor  tissue: Ovarian tumor   \n",
       "1        histology: CCOC        histology: CCOC        histology: CCOC   \n",
       "\n",
       "              GSM7084240             GSM7084241             GSM7084242  \\\n",
       "0  tissue: Ovarian tumor  tissue: Ovarian tumor  tissue: Ovarian tumor   \n",
       "1        histology: CCOC        histology: HGSC        histology: CCOC   \n",
       "\n",
       "              GSM7084243  ...             GSM7084352             GSM7084353  \\\n",
       "0  tissue: Ovarian tumor  ...  tissue: Ovarian tumor  tissue: Ovarian tumor   \n",
       "1        histology: HGSC  ...        histology: HGSC        histology: HGSC   \n",
       "\n",
       "              GSM7084354             GSM7084355             GSM7084356  \\\n",
       "0  tissue: Ovarian tumor  tissue: Ovarian tumor  tissue: Ovarian tumor   \n",
       "1        histology: HGSC        histology: HGSC        histology: HGSC   \n",
       "\n",
       "              GSM7084357             GSM7084358             GSM7084359  \\\n",
       "0  tissue: Ovarian tumor  tissue: Ovarian tumor  tissue: Ovarian tumor   \n",
       "1        histology: HGSC        histology: HGSC        histology: HGSC   \n",
       "\n",
       "              GSM7084360             GSM7084361  \n",
       "0  tissue: Ovarian tumor  tissue: Ovarian tumor  \n",
       "1        histology: HGSC        histology: HGSC  \n",
       "\n",
       "[2 rows x 128 columns]"
      ]
     },
     "execution_count": 233,
     "metadata": {},
     "output_type": "execute_result"
    }
   ],
   "source": [
    "clinical_data.head()"
   ]
  },
  {
   "cell_type": "code",
   "execution_count": 234,
   "metadata": {
    "ExecuteTime": {
     "end_time": "2024-01-10T21:39:04.307639583Z",
     "start_time": "2024-01-10T21:39:04.289352075Z"
    },
    "collapsed": false
   },
   "outputs": [
    {
     "data": {
      "text/plain": [
       "{0: ['tissue: Ovarian tumor'],\n",
       " 1: ['histology: CCOC', 'histology: ENOC', 'histology: HGSC']}"
      ]
     },
     "execution_count": 234,
     "metadata": {},
     "output_type": "execute_result"
    }
   ],
   "source": [
    "clinical_data_unique = get_unique_values_by_row(clinical_data)\n",
    "clinical_data_unique"
   ]
  },
  {
   "cell_type": "markdown",
   "metadata": {
    "ExecuteTime": {
     "end_time": "2023-12-31T03:58:04.978204446Z",
     "start_time": "2023-12-31T03:58:04.922270095Z"
    },
    "collapsed": false
   },
   "source": [
    "Analyze the metadata to determine data relevance and find ways to extract the clinical data.\n",
    "Reference prompt:"
   ]
  },
  {
   "cell_type": "code",
   "execution_count": 235,
   "metadata": {
    "ExecuteTime": {
     "end_time": "2024-01-10T21:39:04.854586192Z",
     "start_time": "2024-01-10T21:39:04.836283516Z"
    },
    "collapsed": false
   },
   "outputs": [
    {
     "data": {
      "text/plain": [
       "'As a biomedical research team, we are selecting datasets to study the association between the human trait \\'Ovarian-Cancer\\' and genetic factors, optionally considering the influence of age and gender. After searching the GEO database and parsing the matrix file of a series, we obtained background information and sample characteristics data. We will provide textual information about the dataset background, and a Python dictionary storing a list of unique values for each field of the sample characteristics data. Please carefully review the provided information and answer the following questions about this dataset:\\n1. Does this dataset contain gene expression data? (Note: Pure miRNA data is not suitable.)\\n2. For each of the traits \\'Ovarian-Cancer\\', \\'age\\', and \\'gender\\', please address these points:\\n   (1) Is there human data available for this trait?\\n   (2) If so, identify the key in the sample characteristics dictionary where unique values of this trait is recorded. The key is an integer. The trait information might be explicitly recorded, or can be inferred from the field with some biomedical knowledge or understanding about the data collection process.\\n   (3) Choose an appropriate data type (either \\'continuous\\' or \\'binary\\') for each trait. Write a Python function to convert any given value of the trait to this data type. The function should handle inference about the trait value and convert unknown values to None.\\n   Name the functions \\'convert_trait\\', \\'convert_age\\', and \\'convert_gender\\', respectively.\\n\\nBackground information about the dataset:\\n!Series_title\\t\"Transcriptome and DNA methylation analyses highlight the role of menstrual cycle phase in tumorigenesis of endometriosis-related ovarian carcinoma histotypes.\"\\n!Series_summary\\t\"This SuperSeries is composed of the SubSeries listed below.\"\\n!Series_overall_design\\t\"Refer to individual Series\"\\n\\nSample characteristics dictionary (from \"!Sample_characteristics_ch1\", converted to a Python dictionary that stores the unique values for each field):\\n{0: [\\'tissue: Ovarian tumor\\'], 1: [\\'histology: CCOC\\', \\'histology: ENOC\\', \\'histology: HGSC\\']}\\n'"
      ]
     },
     "execution_count": 235,
     "metadata": {},
     "output_type": "execute_result"
    }
   ],
   "source": [
    "f'''As a biomedical research team, we are selecting datasets to study the association between the human trait \\'{TRAIT}\\' and genetic factors, optionally considering the influence of age and gender. After searching the GEO database and parsing the matrix file of a series, we obtained background information and sample characteristics data. We will provide textual information about the dataset background, and a Python dictionary storing a list of unique values for each field of the sample characteristics data. Please carefully review the provided information and answer the following questions about this dataset:\n",
    "1. Does this dataset contain gene expression data? (Note: Pure miRNA data is not suitable.)\n",
    "2. For each of the traits \\'{TRAIT}\\', 'age', and 'gender', please address these points:\n",
    "   (1) Is there human data available for this trait?\n",
    "   (2) If so, identify the key in the sample characteristics dictionary where unique values of this trait is recorded. The key is an integer. The trait information might be explicitly recorded, or can be inferred from the field with some biomedical knowledge or understanding about the data collection process.\n",
    "   (3) Choose an appropriate data type (either 'continuous' or 'binary') for each trait. Write a Python function to convert any given value of the trait to this data type. The function should handle inference about the trait value and convert unknown values to None.\n",
    "   Name the functions 'convert_trait', 'convert_age', and 'convert_gender', respectively.\n",
    "\n",
    "Background information about the dataset:\n",
    "{background_info}\n",
    "\n",
    "Sample characteristics dictionary (from \"!Sample_characteristics_ch1\", converted to a Python dictionary that stores the unique values for each field):\n",
    "{clinical_data_unique}\n",
    "'''"
   ]
  },
  {
   "cell_type": "markdown",
   "metadata": {
    "ExecuteTime": {
     "end_time": "2023-12-31T03:58:04.978240504Z",
     "start_time": "2023-12-31T03:58:04.922365324Z"
    },
    "collapsed": false
   },
   "source": [
    "Understand and verify the answer from GPT, to assign values to the below variables. Assign None to the 'row_id' variables if relevant data row was not found.\n",
    "Later we need to let GPT format its answer to automatically do these. But given the complexity of this step, let's grow some insight from the free-text answers for now."
   ]
  },
  {
   "cell_type": "code",
   "execution_count": 241,
   "metadata": {
    "ExecuteTime": {
     "end_time": "2024-01-10T21:39:05.366304590Z",
     "start_time": "2024-01-10T21:39:05.356983082Z"
    },
    "collapsed": false
   },
   "outputs": [],
   "source": [
    "age_row = gender_row = None\n",
    "convert_age = convert_gender = None"
   ]
  },
  {
   "cell_type": "code",
   "execution_count": 242,
   "metadata": {
    "ExecuteTime": {
     "end_time": "2024-01-10T21:40:09.324053151Z",
     "start_time": "2024-01-10T21:40:09.251131090Z"
    },
    "collapsed": false
   },
   "outputs": [],
   "source": [
    "is_gene_availabe = True\n",
    "trait_row = 0\n",
    "age_row = None\n",
    "gender_row = None\n",
    "\n",
    "trait_type = 'binary'"
   ]
  },
  {
   "cell_type": "code",
   "execution_count": 243,
   "metadata": {
    "ExecuteTime": {
     "end_time": "2024-01-10T21:40:09.912115984Z",
     "start_time": "2024-01-10T21:40:09.907913460Z"
    },
    "collapsed": false
   },
   "outputs": [],
   "source": [
    "is_available = is_gene_availabe and (trait_row is not None)\n",
    "if not is_available:\n",
    "    save_cohort_info(cohort, JSON_PATH, is_available)\n",
    "    print(\"This cohort is not usable. Please skip the following steps and jump to the next accession number.\")"
   ]
  },
  {
   "cell_type": "code",
   "execution_count": 244,
   "metadata": {
    "ExecuteTime": {
     "end_time": "2024-01-10T21:40:10.982148317Z",
     "start_time": "2024-01-10T21:40:10.967368918Z"
    },
    "collapsed": false
   },
   "outputs": [
    {
     "data": {
      "text/plain": [
       "(1, 36, 1)"
      ]
     },
     "execution_count": 244,
     "metadata": {},
     "output_type": "execute_result"
    }
   ],
   "source": [
    "def convert_trait(treatment_type):\n",
    "    \"\"\"\n",
    "    Convert tissue type to epilepsy presence (binary).\n",
    "    Assuming epilepsy presence for 'Hippocampus' tissue.\n",
    "    \"\"\"\n",
    "    if treatment_type == 'tissue: Ovarian tumor':\n",
    "        return 1  \n",
    "    else:\n",
    "        return 0 \n",
    "\n",
    "def convert_age(age_string):\n",
    "    \"\"\"\n",
    "    Convert age string to a numerical value.\n",
    "    \"\"\"\n",
    "    if age_string.startswith('age: '):\n",
    "        try:\n",
    "            return int(age_string.split('age: ')[1].rstrip('y'))  # Extracting numeric part\n",
    "        except ValueError:\n",
    "            return None  # In case of parsing error\n",
    "    else:\n",
    "        return None  # If age string does not follow expected format\n",
    "\n",
    "def convert_gender(gender_string):\n",
    "    \"\"\"\n",
    "    Convert gender string to a binary representation.\n",
    "    Female -> 0, Male -> 1, Unknown -> None\n",
    "    \"\"\"\n",
    "    if gender_string == 'gender: Female':\n",
    "        return 0\n",
    "    elif gender_string == 'gender: Male':\n",
    "        return 1\n",
    "    else:\n",
    "        return None  # In case of unknown gender\n",
    "\n",
    "# Example usage\n",
    "example_tissue = 'tissue: Ovarian tumor'\n",
    "example_age = 'age: 36'\n",
    "example_gender = 'gender: Male'\n",
    "\n",
    "converted_trait = convert_trait(example_tissue)\n",
    "converted_age = convert_age(example_age)\n",
    "converted_gender = convert_gender(example_gender)\n",
    "\n",
    "converted_trait, converted_age, converted_gender"
   ]
  },
  {
   "cell_type": "code",
   "execution_count": 245,
   "metadata": {
    "ExecuteTime": {
     "end_time": "2024-01-10T21:40:11.684556802Z",
     "start_time": "2024-01-10T21:40:11.665079581Z"
    },
    "collapsed": false
   },
   "outputs": [
    {
     "data": {
      "text/html": [
       "<div>\n",
       "<style scoped>\n",
       "    .dataframe tbody tr th:only-of-type {\n",
       "        vertical-align: middle;\n",
       "    }\n",
       "\n",
       "    .dataframe tbody tr th {\n",
       "        vertical-align: top;\n",
       "    }\n",
       "\n",
       "    .dataframe thead th {\n",
       "        text-align: right;\n",
       "    }\n",
       "</style>\n",
       "<table border=\"1\" class=\"dataframe\">\n",
       "  <thead>\n",
       "    <tr style=\"text-align: right;\">\n",
       "      <th></th>\n",
       "      <th>GSM7084235</th>\n",
       "      <th>GSM7084236</th>\n",
       "      <th>GSM7084237</th>\n",
       "      <th>GSM7084238</th>\n",
       "      <th>GSM7084239</th>\n",
       "      <th>GSM7084240</th>\n",
       "      <th>GSM7084241</th>\n",
       "      <th>GSM7084242</th>\n",
       "      <th>GSM7084243</th>\n",
       "      <th>GSM7084244</th>\n",
       "      <th>...</th>\n",
       "      <th>GSM7084352</th>\n",
       "      <th>GSM7084353</th>\n",
       "      <th>GSM7084354</th>\n",
       "      <th>GSM7084355</th>\n",
       "      <th>GSM7084356</th>\n",
       "      <th>GSM7084357</th>\n",
       "      <th>GSM7084358</th>\n",
       "      <th>GSM7084359</th>\n",
       "      <th>GSM7084360</th>\n",
       "      <th>GSM7084361</th>\n",
       "    </tr>\n",
       "  </thead>\n",
       "  <tbody>\n",
       "    <tr>\n",
       "      <th>Ovarian-Cancer</th>\n",
       "      <td>1</td>\n",
       "      <td>1</td>\n",
       "      <td>1</td>\n",
       "      <td>1</td>\n",
       "      <td>1</td>\n",
       "      <td>1</td>\n",
       "      <td>1</td>\n",
       "      <td>1</td>\n",
       "      <td>1</td>\n",
       "      <td>1</td>\n",
       "      <td>...</td>\n",
       "      <td>1</td>\n",
       "      <td>1</td>\n",
       "      <td>1</td>\n",
       "      <td>1</td>\n",
       "      <td>1</td>\n",
       "      <td>1</td>\n",
       "      <td>1</td>\n",
       "      <td>1</td>\n",
       "      <td>1</td>\n",
       "      <td>1</td>\n",
       "    </tr>\n",
       "  </tbody>\n",
       "</table>\n",
       "<p>1 rows × 127 columns</p>\n",
       "</div>"
      ],
      "text/plain": [
       "                GSM7084235  GSM7084236  GSM7084237  GSM7084238  GSM7084239  \\\n",
       "Ovarian-Cancer           1           1           1           1           1   \n",
       "\n",
       "                GSM7084240  GSM7084241  GSM7084242  GSM7084243  GSM7084244  \\\n",
       "Ovarian-Cancer           1           1           1           1           1   \n",
       "\n",
       "                ...  GSM7084352  GSM7084353  GSM7084354  GSM7084355  \\\n",
       "Ovarian-Cancer  ...           1           1           1           1   \n",
       "\n",
       "                GSM7084356  GSM7084357  GSM7084358  GSM7084359  GSM7084360  \\\n",
       "Ovarian-Cancer           1           1           1           1           1   \n",
       "\n",
       "                GSM7084361  \n",
       "Ovarian-Cancer           1  \n",
       "\n",
       "[1 rows x 127 columns]"
      ]
     },
     "execution_count": 245,
     "metadata": {},
     "output_type": "execute_result"
    }
   ],
   "source": [
    "selected_clinical_data = geo_select_clinical_features(clinical_data, TRAIT, trait_row, convert_trait, age_row=age_row,\n",
    "                                                      convert_age=convert_age, gender_row=gender_row,\n",
    "                                                      convert_gender=convert_gender)\n",
    "selected_clinical_data.head()"
   ]
  },
  {
   "cell_type": "markdown",
   "metadata": {
    "ExecuteTime": {
     "end_time": "2023-12-31T03:58:04.978664193Z",
     "start_time": "2023-12-31T03:58:04.966117261Z"
    },
    "collapsed": false
   },
   "source": [
    "### Genetic data preprocessing and final filtering"
   ]
  },
  {
   "cell_type": "code",
   "execution_count": 246,
   "metadata": {
    "ExecuteTime": {
     "end_time": "2024-01-10T21:40:13.509252107Z",
     "start_time": "2024-01-10T21:40:13.468235630Z"
    },
    "collapsed": false
   },
   "outputs": [
    {
     "data": {
      "text/html": [
       "<div>\n",
       "<style scoped>\n",
       "    .dataframe tbody tr th:only-of-type {\n",
       "        vertical-align: middle;\n",
       "    }\n",
       "\n",
       "    .dataframe tbody tr th {\n",
       "        vertical-align: top;\n",
       "    }\n",
       "\n",
       "    .dataframe thead th {\n",
       "        text-align: right;\n",
       "    }\n",
       "</style>\n",
       "<table border=\"1\" class=\"dataframe\">\n",
       "  <thead>\n",
       "    <tr style=\"text-align: right;\">\n",
       "      <th></th>\n",
       "      <th>GSM7084235</th>\n",
       "      <th>GSM7084236</th>\n",
       "      <th>GSM7084237</th>\n",
       "      <th>GSM7084238</th>\n",
       "      <th>GSM7084239</th>\n",
       "      <th>GSM7084240</th>\n",
       "      <th>GSM7084241</th>\n",
       "      <th>GSM7084242</th>\n",
       "      <th>GSM7084243</th>\n",
       "      <th>GSM7084244</th>\n",
       "      <th>...</th>\n",
       "      <th>GSM7084352</th>\n",
       "      <th>GSM7084353</th>\n",
       "      <th>GSM7084354</th>\n",
       "      <th>GSM7084355</th>\n",
       "      <th>GSM7084356</th>\n",
       "      <th>GSM7084357</th>\n",
       "      <th>GSM7084358</th>\n",
       "      <th>GSM7084359</th>\n",
       "      <th>GSM7084360</th>\n",
       "      <th>GSM7084361</th>\n",
       "    </tr>\n",
       "    <tr>\n",
       "      <th>ID</th>\n",
       "      <th></th>\n",
       "      <th></th>\n",
       "      <th></th>\n",
       "      <th></th>\n",
       "      <th></th>\n",
       "      <th></th>\n",
       "      <th></th>\n",
       "      <th></th>\n",
       "      <th></th>\n",
       "      <th></th>\n",
       "      <th></th>\n",
       "      <th></th>\n",
       "      <th></th>\n",
       "      <th></th>\n",
       "      <th></th>\n",
       "      <th></th>\n",
       "      <th></th>\n",
       "      <th></th>\n",
       "      <th></th>\n",
       "      <th></th>\n",
       "      <th></th>\n",
       "    </tr>\n",
       "  </thead>\n",
       "  <tbody>\n",
       "    <tr>\n",
       "      <th>cg00000109</th>\n",
       "      <td>0.88</td>\n",
       "      <td>0.84</td>\n",
       "      <td>0.89</td>\n",
       "      <td>0.82</td>\n",
       "      <td>0.91</td>\n",
       "      <td>0.89</td>\n",
       "      <td>0.91</td>\n",
       "      <td>0.84</td>\n",
       "      <td>0.85</td>\n",
       "      <td>0.87</td>\n",
       "      <td>...</td>\n",
       "      <td>0.94</td>\n",
       "      <td>0.90</td>\n",
       "      <td>0.83</td>\n",
       "      <td>0.89</td>\n",
       "      <td>0.83</td>\n",
       "      <td>0.85</td>\n",
       "      <td>0.85</td>\n",
       "      <td>0.90</td>\n",
       "      <td>0.85</td>\n",
       "      <td>0.86</td>\n",
       "    </tr>\n",
       "    <tr>\n",
       "      <th>cg00000165</th>\n",
       "      <td>0.70</td>\n",
       "      <td>0.20</td>\n",
       "      <td>0.76</td>\n",
       "      <td>0.85</td>\n",
       "      <td>0.91</td>\n",
       "      <td>0.60</td>\n",
       "      <td>0.47</td>\n",
       "      <td>0.81</td>\n",
       "      <td>0.13</td>\n",
       "      <td>0.14</td>\n",
       "      <td>...</td>\n",
       "      <td>0.63</td>\n",
       "      <td>0.31</td>\n",
       "      <td>0.14</td>\n",
       "      <td>0.81</td>\n",
       "      <td>0.66</td>\n",
       "      <td>0.18</td>\n",
       "      <td>0.51</td>\n",
       "      <td>0.40</td>\n",
       "      <td>0.13</td>\n",
       "      <td>0.44</td>\n",
       "    </tr>\n",
       "    <tr>\n",
       "      <th>cg00000236</th>\n",
       "      <td>0.89</td>\n",
       "      <td>0.91</td>\n",
       "      <td>0.92</td>\n",
       "      <td>0.91</td>\n",
       "      <td>0.90</td>\n",
       "      <td>0.91</td>\n",
       "      <td>0.89</td>\n",
       "      <td>0.90</td>\n",
       "      <td>0.88</td>\n",
       "      <td>0.91</td>\n",
       "      <td>...</td>\n",
       "      <td>0.95</td>\n",
       "      <td>0.94</td>\n",
       "      <td>0.93</td>\n",
       "      <td>0.90</td>\n",
       "      <td>0.87</td>\n",
       "      <td>0.88</td>\n",
       "      <td>0.92</td>\n",
       "      <td>0.94</td>\n",
       "      <td>0.88</td>\n",
       "      <td>0.91</td>\n",
       "    </tr>\n",
       "    <tr>\n",
       "      <th>cg00000292</th>\n",
       "      <td>0.86</td>\n",
       "      <td>0.67</td>\n",
       "      <td>0.92</td>\n",
       "      <td>0.94</td>\n",
       "      <td>0.81</td>\n",
       "      <td>0.80</td>\n",
       "      <td>0.82</td>\n",
       "      <td>0.88</td>\n",
       "      <td>0.57</td>\n",
       "      <td>0.38</td>\n",
       "      <td>...</td>\n",
       "      <td>0.82</td>\n",
       "      <td>0.74</td>\n",
       "      <td>0.81</td>\n",
       "      <td>0.86</td>\n",
       "      <td>0.55</td>\n",
       "      <td>0.79</td>\n",
       "      <td>0.79</td>\n",
       "      <td>0.88</td>\n",
       "      <td>0.79</td>\n",
       "      <td>0.86</td>\n",
       "    </tr>\n",
       "    <tr>\n",
       "      <th>cg00000321</th>\n",
       "      <td>0.18</td>\n",
       "      <td>0.21</td>\n",
       "      <td>0.57</td>\n",
       "      <td>0.56</td>\n",
       "      <td>0.07</td>\n",
       "      <td>0.56</td>\n",
       "      <td>0.42</td>\n",
       "      <td>0.55</td>\n",
       "      <td>0.39</td>\n",
       "      <td>0.78</td>\n",
       "      <td>...</td>\n",
       "      <td>0.64</td>\n",
       "      <td>0.74</td>\n",
       "      <td>0.44</td>\n",
       "      <td>0.64</td>\n",
       "      <td>0.29</td>\n",
       "      <td>0.45</td>\n",
       "      <td>0.34</td>\n",
       "      <td>0.20</td>\n",
       "      <td>0.40</td>\n",
       "      <td>0.41</td>\n",
       "    </tr>\n",
       "  </tbody>\n",
       "</table>\n",
       "<p>5 rows × 127 columns</p>\n",
       "</div>"
      ],
      "text/plain": [
       "            GSM7084235  GSM7084236  GSM7084237  GSM7084238  GSM7084239  \\\n",
       "ID                                                                       \n",
       "cg00000109        0.88        0.84        0.89        0.82        0.91   \n",
       "cg00000165        0.70        0.20        0.76        0.85        0.91   \n",
       "cg00000236        0.89        0.91        0.92        0.91        0.90   \n",
       "cg00000292        0.86        0.67        0.92        0.94        0.81   \n",
       "cg00000321        0.18        0.21        0.57        0.56        0.07   \n",
       "\n",
       "            GSM7084240  GSM7084241  GSM7084242  GSM7084243  GSM7084244  ...  \\\n",
       "ID                                                                      ...   \n",
       "cg00000109        0.89        0.91        0.84        0.85        0.87  ...   \n",
       "cg00000165        0.60        0.47        0.81        0.13        0.14  ...   \n",
       "cg00000236        0.91        0.89        0.90        0.88        0.91  ...   \n",
       "cg00000292        0.80        0.82        0.88        0.57        0.38  ...   \n",
       "cg00000321        0.56        0.42        0.55        0.39        0.78  ...   \n",
       "\n",
       "            GSM7084352  GSM7084353  GSM7084354  GSM7084355  GSM7084356  \\\n",
       "ID                                                                       \n",
       "cg00000109        0.94        0.90        0.83        0.89        0.83   \n",
       "cg00000165        0.63        0.31        0.14        0.81        0.66   \n",
       "cg00000236        0.95        0.94        0.93        0.90        0.87   \n",
       "cg00000292        0.82        0.74        0.81        0.86        0.55   \n",
       "cg00000321        0.64        0.74        0.44        0.64        0.29   \n",
       "\n",
       "            GSM7084357  GSM7084358  GSM7084359  GSM7084360  GSM7084361  \n",
       "ID                                                                      \n",
       "cg00000109        0.85        0.85        0.90        0.85        0.86  \n",
       "cg00000165        0.18        0.51        0.40        0.13        0.44  \n",
       "cg00000236        0.88        0.92        0.94        0.88        0.91  \n",
       "cg00000292        0.79        0.79        0.88        0.79        0.86  \n",
       "cg00000321        0.45        0.34        0.20        0.40        0.41  \n",
       "\n",
       "[5 rows x 127 columns]"
      ]
     },
     "execution_count": 246,
     "metadata": {},
     "output_type": "execute_result"
    }
   ],
   "source": [
    "genetic_data = get_genetic_data(matrix_file)\n",
    "genetic_data.head()"
   ]
  },
  {
   "cell_type": "code",
   "execution_count": 247,
   "metadata": {
    "ExecuteTime": {
     "end_time": "2024-01-10T21:40:14.107050774Z",
     "start_time": "2024-01-10T21:40:14.090977173Z"
    },
    "collapsed": false
   },
   "outputs": [
    {
     "data": {
      "text/plain": [
       "['cg00000109',\n",
       " 'cg00000165',\n",
       " 'cg00000236',\n",
       " 'cg00000292',\n",
       " 'cg00000321',\n",
       " 'cg00000363',\n",
       " 'cg00000622',\n",
       " 'cg00000658',\n",
       " 'cg00000714',\n",
       " 'cg00000721',\n",
       " 'cg00000734',\n",
       " 'cg00000769',\n",
       " 'cg00000884',\n",
       " 'cg00000924',\n",
       " 'cg00000948',\n",
       " 'cg00000957',\n",
       " 'cg00001099',\n",
       " 'cg00001245',\n",
       " 'cg00001249',\n",
       " 'cg00001269']"
      ]
     },
     "execution_count": 247,
     "metadata": {},
     "output_type": "execute_result"
    }
   ],
   "source": [
    "gene_row_ids = genetic_data.index[:20].tolist()\n",
    "gene_row_ids"
   ]
  },
  {
   "cell_type": "markdown",
   "metadata": {
    "ExecuteTime": {
     "end_time": "2023-12-31T03:30:41.595335164Z",
     "start_time": "2023-12-31T03:30:41.513232329Z"
    },
    "collapsed": false
   },
   "source": [
    "Check if the gene dataset requires mapping to get the gene symbols corresponding to each data row."
   ]
  },
  {
   "cell_type": "markdown",
   "metadata": {
    "collapsed": false
   },
   "source": [
    "Reference prompt:"
   ]
  },
  {
   "cell_type": "code",
   "execution_count": 248,
   "metadata": {
    "ExecuteTime": {
     "end_time": "2024-01-10T21:40:16.445692615Z",
     "start_time": "2024-01-10T21:40:16.435117932Z"
    },
    "collapsed": false
   },
   "outputs": [
    {
     "data": {
      "text/plain": [
       "\"\\nBelow are the row headers of a gene expression dataset in GEO. Based on your biomedical knowledge, are they human gene symbols, or are they some other identifiers that need to be mapped to gene symbols? Your answer should be concluded by starting a new line and strictly following this format:\\nrequires_gene_mapping = (True or False)\\n\\nRow headers:\\n['cg00000109', 'cg00000165', 'cg00000236', 'cg00000292', 'cg00000321', 'cg00000363', 'cg00000622', 'cg00000658', 'cg00000714', 'cg00000721', 'cg00000734', 'cg00000769', 'cg00000884', 'cg00000924', 'cg00000948', 'cg00000957', 'cg00001099', 'cg00001245', 'cg00001249', 'cg00001269']\\n\""
      ]
     },
     "execution_count": 248,
     "metadata": {},
     "output_type": "execute_result"
    }
   ],
   "source": [
    "f'''\n",
    "Below are the row headers of a gene expression dataset in GEO. Based on your biomedical knowledge, are they human gene symbols, or are they some other identifiers that need to be mapped to gene symbols? Your answer should be concluded by starting a new line and strictly following this format:\n",
    "requires_gene_mapping = (True or False)\n",
    "\n",
    "Row headers:\n",
    "{gene_row_ids}\n",
    "'''"
   ]
  },
  {
   "cell_type": "markdown",
   "metadata": {
    "collapsed": false
   },
   "source": [
    "\n",
    "If not required, jump directly to the gene normalization step"
   ]
  },
  {
   "cell_type": "code",
   "execution_count": 249,
   "metadata": {
    "ExecuteTime": {
     "end_time": "2024-01-10T21:40:17.098774002Z",
     "start_time": "2024-01-10T21:40:17.094437169Z"
    },
    "collapsed": false
   },
   "outputs": [],
   "source": [
    "requires_gene_mapping = False"
   ]
  },
  {
   "cell_type": "code",
   "execution_count": 250,
   "metadata": {
    "ExecuteTime": {
     "end_time": "2024-01-10T21:40:17.399324928Z",
     "start_time": "2024-01-10T21:40:17.381475568Z"
    },
    "collapsed": false
   },
   "outputs": [],
   "source": [
    "if requires_gene_mapping:\n",
    "    gene_annotation = get_gene_annotation(soft_file)\n",
    "    gene_annotation_summary = preview_df(gene_annotation)\n",
    "    print(gene_annotation_summary)"
   ]
  },
  {
   "cell_type": "markdown",
   "metadata": {
    "ExecuteTime": {
     "end_time": "2023-12-31T03:58:04.978931927Z",
     "start_time": "2023-12-31T03:58:04.966328339Z"
    },
    "collapsed": false
   },
   "source": [
    "Observe the first few cells in the ID column of the gene annotation dataframe, to find the names of columns that store the gene probe IDs and gene symbols respectively.\n",
    "Reference prompt:"
   ]
  },
  {
   "cell_type": "code",
   "execution_count": 251,
   "metadata": {
    "ExecuteTime": {
     "end_time": "2024-01-10T21:40:17.944343822Z",
     "start_time": "2024-01-10T21:40:17.933815553Z"
    },
    "collapsed": false
   },
   "outputs": [],
   "source": [
    "if requires_gene_mapping:\n",
    "    print(f'''\n",
    "    As a biomedical research team, we are analyzing a gene expression dataset, and find that its row headers are some identifiers related to genes:\n",
    "    {gene_row_ids}\n",
    "    To get the mapping from those identifiers to actual gene symbols, we extracted the gene annotation data from a series in the GEO database, and saved it to a Python dictionary. Please read the dictionary, and decide which key stores the identifiers, and which key stores the gene symbols. Please strictly follow this format in your answer:\n",
    "    identifier_key = 'key_name1'\n",
    "    gene_symbol_key = 'key_name2'\n",
    "\n",
    "    Gene annotation dictionary:\n",
    "    {gene_annotation_summary}\n",
    "    ''')"
   ]
  },
  {
   "cell_type": "code",
   "execution_count": 252,
   "metadata": {
    "ExecuteTime": {
     "end_time": "2024-01-10T21:40:18.245811669Z",
     "start_time": "2024-01-10T21:40:18.234480277Z"
    },
    "collapsed": false
   },
   "outputs": [],
   "source": [
    "if requires_gene_mapping:\n",
    "    identifier_key = 'ID'\n",
    "    gene_symbol_key = 'UCSC_RefGene_Name'\n",
    "    gene_mapping = get_gene_mapping(gene_annotation, identifier_key, gene_symbol_key)\n",
    "    genetic_data = apply_gene_mapping(genetic_data, gene_mapping)"
   ]
  },
  {
   "cell_type": "code",
   "execution_count": 253,
   "metadata": {
    "ExecuteTime": {
     "end_time": "2024-01-10T21:40:20.559860684Z",
     "start_time": "2024-01-10T21:40:18.521711414Z"
    },
    "collapsed": false
   },
   "outputs": [
    {
     "name": "stderr",
     "output_type": "stream",
     "text": [
      "1000 input query terms found no hit:\t['cg00000109', 'cg00000165', 'cg00000236', 'cg00000292', 'cg00000321', 'cg00000363', 'cg00000622', '\n",
      "1000 input query terms found no hit:\t['cg00059707', 'cg00059740', 'cg00059911', 'cg00059930', 'cg00060287', 'cg00060304', 'cg00060320', '\n",
      "1000 input query terms found no hit:\t['cg00125406', 'cg00125414', 'cg00125455', 'cg00125544', 'cg00125601', 'cg00125744', 'cg00125757', '\n",
      "1000 input query terms found no hit:\t['cg00196827', 'cg00196983', 'cg00197028', 'cg00197058', 'cg00197173', 'cg00197313', 'cg00197322', '\n",
      "1000 input query terms found no hit:\t['cg00267751', 'cg00267839', 'cg00267883', 'cg00268009', 'cg00268019', 'cg00268086', 'cg00268185', '\n",
      "1000 input query terms found no hit:\t['cg00337662', 'cg00337821', 'cg00337905', 'cg00337916', 'cg00337957', 'cg00338002', 'cg00338080', '\n",
      "1000 input query terms found no hit:\t['cg00403478', 'cg00403579', 'cg00403616', 'cg00403784', 'cg00403955', 'cg00404025', 'cg00404187', '\n",
      "1000 input query terms found no hit:\t['cg00473531', 'cg00473639', 'cg00473702', 'cg00473769', 'cg00473834', 'cg00473916', 'cg00473985', '\n",
      "1000 input query terms found no hit:\t['cg00539322', 'cg00539347', 'cg00539360', 'cg00539368', 'cg00539386', 'cg00539398', 'cg00539542', '\n",
      "1000 input query terms found no hit:\t['cg00604209', 'cg00604410', 'cg00604454', 'cg00604640', 'cg00604736', 'cg00604840', 'cg00604859', '\n",
      "1000 input query terms found no hit:\t['cg00678239', 'cg00678286', 'cg00678361', 'cg00678398', 'cg00678539', 'cg00678668', 'cg00678709', '\n",
      "1000 input query terms found no hit:\t['cg00747372', 'cg00747477', 'cg00747619', 'cg00747647', 'cg00747661', 'cg00747800', 'cg00747849', '\n",
      "1000 input query terms found no hit:\t['cg00816240', 'cg00816387', 'cg00816397', 'cg00816406', 'cg00816515', 'cg00816544', 'cg00816609', '\n",
      "1000 input query terms found no hit:\t['cg00890363', 'cg00890378', 'cg00890485', 'cg00890632', 'cg00890774', 'cg00890840', 'cg00890916', '\n",
      "1000 input query terms found no hit:\t['cg00960781', 'cg00960818', 'cg00960898', 'cg00960906', 'cg00961003', 'cg00961127', 'cg00961166', '\n",
      "1000 input query terms found no hit:\t['cg01028142', 'cg01028223', 'cg01028283', 'cg01028287', 'cg01028364', 'cg01028379', 'cg01028389', '\n",
      "1000 input query terms found no hit:\t['cg01094950', 'cg01095004', 'cg01095157', 'cg01095193', 'cg01095389', 'cg01095510', 'cg01095590', '\n",
      "1000 input query terms found no hit:\t['cg01168235', 'cg01168283', 'cg01168289', 'cg01168328', 'cg01168390', 'cg01168535', 'cg01168649', '\n",
      "1000 input query terms found no hit:\t['cg01244468', 'cg01244514', 'cg01244650', 'cg01244651', 'cg01244775', 'cg01244871', 'cg01244877', '\n",
      "1000 input query terms found no hit:\t['cg01319471', 'cg01319581', 'cg01319701', 'cg01319727', 'cg01320211', 'cg01320218', 'cg01320298', '\n",
      "1000 input query terms found no hit:\t['cg01395456', 'cg01395499', 'cg01395533', 'cg01395650', 'cg01395659', 'cg01395690', 'cg01395760', '\n",
      "1000 input query terms found no hit:\t['cg01463644', 'cg01463819', 'cg01464052', 'cg01464067', 'cg01464438', 'cg01464484', 'cg01464515', '\n",
      "1000 input query terms found no hit:\t['cg01543300', 'cg01543603', 'cg01543654', 'cg01543795', 'cg01543933', 'cg01543995', 'cg01544157', '\n",
      "1000 input query terms found no hit:\t['cg01614643', 'cg01614703', 'cg01614716', 'cg01614726', 'cg01614738', 'cg01614746', 'cg01614759', '\n",
      "1000 input query terms found no hit:\t['cg01696193', 'cg01696226', 'cg01696605', 'cg01696784', 'cg01697092', 'cg01697163', 'cg01697354', '\n",
      "1000 input query terms found no hit:\t['cg01773854', 'cg01773858', 'cg01773927', 'cg01773951', 'cg01774019', 'cg01774027', 'cg01774050', '\n",
      "1000 input query terms found no hit:\t['cg01839742', 'cg01839850', 'cg01839860', 'cg01839898', 'cg01839954', 'cg01839993', 'cg01840020', '\n",
      "1000 input query terms found no hit:\t['cg01919118', 'cg01919204', 'cg01919374', 'cg01919377', 'cg01919401', 'cg01919429', 'cg01919488', '\n",
      "1000 input query terms found no hit:\t['cg01984854', 'cg01984858', 'cg01985054', 'cg01985071', 'cg01985177', 'cg01985186', 'cg01985201', '\n",
      "1000 input query terms found no hit:\t['cg02058552', 'cg02058624', 'cg02058628', 'cg02058731', 'cg02058870', 'cg02058918', 'cg02058924', '\n",
      "1000 input query terms found no hit:\t['cg02128325', 'cg02128365', 'cg02128417', 'cg02128483', 'cg02128489', 'cg02128567', 'cg02128651', '\n",
      "1000 input query terms found no hit:\t['cg02208506', 'cg02208529', 'cg02208653', 'cg02208657', 'cg02208776', 'cg02208820', 'cg02208848', '\n",
      "1000 input query terms found no hit:\t['cg02282237', 'cg02282247', 'cg02282317', 'cg02282382', 'cg02282626', 'cg02282631', 'cg02282640', '\n",
      "1000 input query terms found no hit:\t['cg02349096', 'cg02349186', 'cg02349264', 'cg02349334', 'cg02349373', 'cg02349468', 'cg02349578', '\n",
      "1000 input query terms found no hit:\t['cg02423014', 'cg02423030', 'cg02423064', 'cg02423080', 'cg02423318', 'cg02423452', 'cg02423471', '\n",
      "1000 input query terms found no hit:\t['cg02493904', 'cg02493905', 'cg02493939', 'cg02494059', 'cg02494066', 'cg02494117', 'cg02494150', '\n",
      "1000 input query terms found no hit:\t['cg02570527', 'cg02570531', 'cg02570563', 'cg02570682', 'cg02570888', 'cg02570920', 'cg02570977', '\n",
      "1000 input query terms found no hit:\t['cg02637101', 'cg02637136', 'cg02637241', 'cg02637247', 'cg02637282', 'cg02637302', 'cg02637304', '\n",
      "1000 input query terms found no hit:\t['cg02712545', 'cg02712546', 'cg02712553', 'cg02712555', 'cg02712585', 'cg02712746', 'cg02712845', '\n",
      "1000 input query terms found no hit:\t['cg02782331', 'cg02782369', 'cg02782426', 'cg02782510', 'cg02782579', 'cg02782630', 'cg02782857', '\n",
      "1000 input query terms found no hit:\t['cg02858960', 'cg02858997', 'cg02859026', 'cg02859042', 'cg02859098', 'cg02859111', 'cg02859129', '\n",
      "1000 input query terms found no hit:\t['cg02927804', 'cg02927821', 'cg02927836', 'cg02927859', 'cg02927870', 'cg02927904', 'cg02927949', '\n",
      "1000 input query terms found no hit:\t['cg02997409', 'cg02997560', 'cg02997755', 'cg02997812', 'cg02997817', 'cg02997868', 'cg02997874', '\n",
      "1000 input query terms found no hit:\t['cg03068838', 'cg03068843', 'cg03068866', 'cg03069098', 'cg03069112', 'cg03069242', 'cg03069267', '\n",
      "1000 input query terms found no hit:\t['cg03149454', 'cg03149496', 'cg03149593', 'cg03149628', 'cg03149699', 'cg03149706', 'cg03149749', '\n",
      "1000 input query terms found no hit:\t['cg03225817', 'cg03225882', 'cg03226000', 'cg03226114', 'cg03226203', 'cg03226208', 'cg03226218', '\n",
      "1000 input query terms found no hit:\t['cg03308706', 'cg03308831', 'cg03308839', 'cg03308985', 'cg03309050', 'cg03309176', 'cg03309180', '\n",
      "1000 input query terms found no hit:\t['cg03380819', 'cg03380964', 'cg03381007', 'cg03381035', 'cg03381047', 'cg03381209', 'cg03381216', '\n",
      "1000 input query terms found no hit:\t['cg03455644', 'cg03455713', 'cg03455736', 'cg03455762', 'cg03455828', 'cg03455874', 'cg03455964', '\n",
      "1000 input query terms found no hit:\t['cg03529662', 'cg03529803', 'cg03529908', 'cg03529960', 'cg03530006', 'cg03530074', 'cg03530210', '\n",
      "1000 input query terms found no hit:\t['cg03599622', 'cg03599658', 'cg03599729', 'cg03599855', 'cg03599928', 'cg03599978', 'cg03599988', '\n",
      "1000 input query terms found no hit:\t['cg03674660', 'cg03674841', 'cg03675047', 'cg03675082', 'cg03675159', 'cg03675171', 'cg03675739', '\n",
      "1000 input query terms found no hit:\t['cg03749630', 'cg03749697', 'cg03749724', 'cg03749777', 'cg03750034', 'cg03750061', 'cg03750111', '\n",
      "1000 input query terms found no hit:\t['cg03830181', 'cg03830282', 'cg03830329', 'cg03830375', 'cg03830401', 'cg03830408', 'cg03830490', '\n",
      "1000 input query terms found no hit:\t['cg03909902', 'cg03909983', 'cg03909987', 'cg03910004', 'cg03910048', 'cg03910196', 'cg03910282', '\n",
      "1000 input query terms found no hit:\t['cg03988675', 'cg03988700', 'cg03988778', 'cg03988936', 'cg03988957', 'cg03989020', 'cg03989068', '\n",
      "1000 input query terms found no hit:\t['cg04064631', 'cg04064644', 'cg04064672', 'cg04064675', 'cg04064828', 'cg04064963', 'cg04065065', '\n",
      "1000 input query terms found no hit:\t['cg04135806', 'cg04135861', 'cg04136018', 'cg04136036', 'cg04136113', 'cg04136149', 'cg04136173', '\n",
      "1000 input query terms found no hit:\t['cg04210284', 'cg04210361', 'cg04210471', 'cg04210544', 'cg04210566', 'cg04210631', 'cg04210645', '\n",
      "1000 input query terms found no hit:\t['cg04280119', 'cg04280397', 'cg04280480', 'cg04280493', 'cg04280548', 'cg04280647', 'cg04280677', '\n",
      "1000 input query terms found no hit:\t['cg04352304', 'cg04352404', 'cg04352505', 'cg04352534', 'cg04352587', 'cg04352676', 'cg04352704', '\n",
      "1000 input query terms found no hit:\t['cg04430866', 'cg04430911', 'cg04430954', 'cg04431119', 'cg04431133', 'cg04431254', 'cg04431596', '\n",
      "1000 input query terms found no hit:\t['cg04510807', 'cg04510853', 'cg04510871', 'cg04510874', 'cg04510919', 'cg04511041', 'cg04511195', '\n",
      "1000 input query terms found no hit:\t['cg04583232', 'cg04583285', 'cg04583339', 'cg04583341', 'cg04583529', 'cg04583637', 'cg04583842', '\n",
      "1000 input query terms found no hit:\t['cg04663842', 'cg04663870', 'cg04663916', 'cg04663931', 'cg04663932', 'cg04664126', 'cg04664127', '\n",
      "1000 input query terms found no hit:\t['cg04745064', 'cg04745079', 'cg04745100', 'cg04745161', 'cg04745336', 'cg04745384', 'cg04745408', '\n",
      "1000 input query terms found no hit:\t['cg04823152', 'cg04823168', 'cg04823219', 'cg04823311', 'cg04823455', 'cg04823499', 'cg04823676', '\n",
      "1000 input query terms found no hit:\t['cg04891040', 'cg04891053', 'cg04891086', 'cg04891094', 'cg04891328', 'cg04891455', 'cg04891577', '\n",
      "1000 input query terms found no hit:\t['cg04964571', 'cg04964617', 'cg04964669', 'cg04964676', 'cg04964781', 'cg04964883', 'cg04964944', '\n",
      "1000 input query terms found no hit:\t['cg05040675', 'cg05040724', 'cg05040725', 'cg05040893', 'cg05041045', 'cg05041061', 'cg05041073', '\n",
      "1000 input query terms found no hit:\t['cg05124242', 'cg05124308', 'cg05124575', 'cg05124614', 'cg05124756', 'cg05124918', 'cg05124934', '\n",
      "1000 input query terms found no hit:\t['cg05199362', 'cg05199503', 'cg05199874', 'cg05199904', 'cg05199950', 'cg05200037', 'cg05200040', '\n",
      "1000 input query terms found no hit:\t['cg05275343', 'cg05275468', 'cg05275595', 'cg05275752', 'cg05275832', 'cg05275896', 'cg05275995', '\n",
      "1000 input query terms found no hit:\t['cg05350411', 'cg05350607', 'cg05350798', 'cg05350800', 'cg05350802', 'cg05350839', 'cg05350938', '\n",
      "1000 input query terms found no hit:\t['cg05420495', 'cg05420668', 'cg05420738', 'cg05420802', 'cg05420994', 'cg05421097', 'cg05421101', '\n",
      "1000 input query terms found no hit:\t['cg05508092', 'cg05508245', 'cg05508296', 'cg05508315', 'cg05508360', 'cg05508408', 'cg05508447', '\n",
      "1000 input query terms found no hit:\t['cg05594095', 'cg05594286', 'cg05594356', 'cg05594423', 'cg05594525', 'cg05594872', 'cg05595088', '\n",
      "1000 input query terms found no hit:\t['cg05671070', 'cg05671241', 'cg05671350', 'cg05671386', 'cg05671576', 'cg05671585', 'cg05671636', '\n",
      "1000 input query terms found no hit:\t['cg05760107', 'cg05760393', 'cg05760402', 'cg05760424', 'cg05760641', 'cg05760765', 'cg05760937', '\n",
      "1000 input query terms found no hit:\t['cg05844473', 'cg05844572', 'cg05844583', 'cg05844625', 'cg05844713', 'cg05844789', 'cg05844798', '\n",
      "1000 input query terms found no hit:\t['cg05921324', 'cg05921465', 'cg05921532', 'cg05921579', 'cg05921581', 'cg05921699', 'cg05921762', '\n",
      "1000 input query terms found no hit:\t['cg05992357', 'cg05992368', 'cg05992600', 'cg05992726', 'cg05992786', 'cg05992830', 'cg05992875', '\n",
      "1000 input query terms found no hit:\t['cg06080688', 'cg06080729', 'cg06080793', 'cg06080831', 'cg06080893', 'cg06081030', 'cg06081199', '\n",
      "1000 input query terms found no hit:\t['cg06164712', 'cg06164717', 'cg06164804', 'cg06164961', 'cg06164973', 'cg06164976', 'cg06165342', '\n",
      "1000 input query terms found no hit:\t['cg06247406', 'cg06247470', 'cg06247666', 'cg06247837', 'cg06247967', 'cg06248061', 'cg06248182', '\n",
      "1000 input query terms found no hit:\t['cg06340367', 'cg06340516', 'cg06340552', 'cg06340836', 'cg06340899', 'cg06340942', 'cg06340969', '\n",
      "1000 input query terms found no hit:\t['cg06419432', 'cg06419476', 'cg06419568', 'cg06419732', 'cg06419748', 'cg06419750', 'cg06419761', '\n",
      "1000 input query terms found no hit:\t['cg06505000', 'cg06505010', 'cg06505028', 'cg06505107', 'cg06505213', 'cg06505271', 'cg06505273', '\n",
      "1000 input query terms found no hit:\t['cg06581840', 'cg06581938', 'cg06581978', 'cg06582202', 'cg06582250', 'cg06582394', 'cg06582411', '\n",
      "1000 input query terms found no hit:\t['cg06655190', 'cg06655217', 'cg06655225', 'cg06655291', 'cg06655349', 'cg06655361', 'cg06655377', '\n",
      "1000 input query terms found no hit:\t['cg06733881', 'cg06733903', 'cg06733925', 'cg06734250', 'cg06734271', 'cg06734342', 'cg06734406', '\n",
      "1000 input query terms found no hit:\t['cg06805557', 'cg06805572', 'cg06805834', 'cg06805871', 'cg06805873', 'cg06805880', 'cg06805940', '\n",
      "1000 input query terms found no hit:\t['cg06874426', 'cg06874758', 'cg06874767', 'cg06874891', 'cg06874920', 'cg06874943', 'cg06874952', '\n",
      "1000 input query terms found no hit:\t['cg06947191', 'cg06947205', 'cg06947206', 'cg06947208', 'cg06947286', 'cg06947320', 'cg06947381', '\n",
      "1000 input query terms found no hit:\t['cg07019315', 'cg07019386', 'cg07019438', 'cg07019536', 'cg07019638', 'cg07019697', 'cg07019740', '\n",
      "1000 input query terms found no hit:\t['cg07093748', 'cg07093776', 'cg07093825', 'cg07093915', 'cg07093942', 'cg07093953', 'cg07094075', '\n",
      "1000 input query terms found no hit:\t['cg07160800', 'cg07160871', 'cg07160932', 'cg07160937', 'cg07160992', 'cg07161061', 'cg07161062', '\n",
      "1000 input query terms found no hit:\t['cg07235868', 'cg07235885', 'cg07236001', 'cg07236146', 'cg07236157', 'cg07236190', 'cg07236207', '\n",
      "1000 input query terms found no hit:\t['cg07316846', 'cg07316961', 'cg07317047', 'cg07317062', 'cg07317366', 'cg07317442', 'cg07317449', '\n",
      "1000 input query terms found no hit:\t['cg07397503', 'cg07397574', 'cg07397579', 'cg07397616', 'cg07397805', 'cg07397877', 'cg07397891', '\n",
      "1000 input query terms found no hit:\t['cg07479961', 'cg07479988', 'cg07480367', 'cg07480373', 'cg07480446', 'cg07480495', 'cg07480567', '\n",
      "1000 input query terms found no hit:\t['cg07561848', 'cg07561894', 'cg07562079', 'cg07562120', 'cg07562382', 'cg07562451', 'cg07562458', '\n",
      "1000 input query terms found no hit:\t['cg07638884', 'cg07638904', 'cg07638935', 'cg07639020', 'cg07639106', 'cg07639287', 'cg07639376', '\n",
      "1000 input query terms found no hit:\t['cg07722478', 'cg07722657', 'cg07722774', 'cg07722840', 'cg07722995', 'cg07723114', 'cg07723130', '\n",
      "1000 input query terms found no hit:\t['cg07806164', 'cg07806248', 'cg07806343', 'cg07806421', 'cg07806552', 'cg07806715', 'cg07806797', '\n",
      "1000 input query terms found no hit:\t['cg07889329', 'cg07889337', 'cg07889420', 'cg07889469', 'cg07889505', 'cg07889826', 'cg07889827', '\n",
      "1000 input query terms found no hit:\t['cg07966388', 'cg07966717', 'cg07966851', 'cg07966910', 'cg07966934', 'cg07967207', 'cg07967210', '\n",
      "1000 input query terms found no hit:\t['cg08049736', 'cg08049745', 'cg08049853', 'cg08050115', 'cg08050305', 'cg08050352', 'cg08050360', '\n",
      "1000 input query terms found no hit:\t['cg08126603', 'cg08126789', 'cg08126798', 'cg08126815', 'cg08126875', 'cg08127080', 'cg08127108', '\n",
      "1000 input query terms found no hit:\t['cg08204714', 'cg08204783', 'cg08204817', 'cg08204843', 'cg08204939', 'cg08205099', 'cg08205110', '\n",
      "1000 input query terms found no hit:\t['cg08278706', 'cg08278731', 'cg08278732', 'cg08278741', 'cg08278748', 'cg08278892', 'cg08278937', '\n",
      "1000 input query terms found no hit:\t['cg08362313', 'cg08362486', 'cg08362628', 'cg08362738', 'cg08362785', 'cg08362804', 'cg08362880', '\n",
      "1000 input query terms found no hit:\t['cg08450807', 'cg08450897', 'cg08450913', 'cg08450965', 'cg08451035', 'cg08451218', 'cg08451325', '\n",
      "1000 input query terms found no hit:\t['cg08528444', 'cg08528519', 'cg08528604', 'cg08528616', 'cg08528626', 'cg08528735', 'cg08528778', '\n",
      "1000 input query terms found no hit:\t['cg08611549', 'cg08611567', 'cg08611602', 'cg08611625', 'cg08611677', 'cg08611689', 'cg08611714', '\n",
      "1000 input query terms found no hit:\t['cg08692198', 'cg08692277', 'cg08692282', 'cg08692295', 'cg08692328', 'cg08692374', 'cg08692423', '\n",
      "1000 input query terms found no hit:\t['cg08776641', 'cg08776660', 'cg08776855', 'cg08776908', 'cg08776942', 'cg08777167', 'cg08777206', '\n",
      "1000 input query terms found no hit:\t['cg08857797', 'cg08857839', 'cg08858051', 'cg08858160', 'cg08858201', 'cg08858220', 'cg08858245', '\n",
      "1000 input query terms found no hit:\t['cg08935243', 'cg08935299', 'cg08935410', 'cg08935526', 'cg08935602', 'cg08935793', 'cg08935841', '\n",
      "1000 input query terms found no hit:\t['cg09025071', 'cg09025210', 'cg09025324', 'cg09025327', 'cg09025393', 'cg09025501', 'cg09025625', '\n",
      "1000 input query terms found no hit:\t['cg09117206', 'cg09117405', 'cg09117448', 'cg09117622', 'cg09117643', 'cg09117673', 'cg09117778', '\n",
      "1000 input query terms found no hit:\t['cg09196449', 'cg09196456', 'cg09196534', 'cg09196959', 'cg09197074', 'cg09197075', 'cg09197234', '\n",
      "1000 input query terms found no hit:\t['cg09277365', 'cg09277376', 'cg09277467', 'cg09277546', 'cg09277566', 'cg09277575', 'cg09277709', '\n",
      "1000 input query terms found no hit:\t['cg09359349', 'cg09359391', 'cg09359480', 'cg09359750', 'cg09359751', 'cg09359802', 'cg09359817', '\n",
      "1000 input query terms found no hit:\t['cg09442828', 'cg09443039', 'cg09443046', 'cg09443102', 'cg09443153', 'cg09443484', 'cg09443553', '\n",
      "1000 input query terms found no hit:\t['cg09526780', 'cg09526828', 'cg09526886', 'cg09526912', 'cg09527021', 'cg09527123', 'cg09527126', '\n",
      "1000 input query terms found no hit:\t['cg09612413', 'cg09612418', 'cg09612454', 'cg09612463', 'cg09612502', 'cg09612534', 'cg09612655', '\n",
      "1000 input query terms found no hit:\t['cg09699111', 'cg09699128', 'cg09699159', 'cg09699193', 'cg09699233', 'cg09699369', 'cg09699373', '\n",
      "1000 input query terms found no hit:\t['cg09793001', 'cg09793279', 'cg09793376', 'cg09793584', 'cg09793619', 'cg09793776', 'cg09793807', '\n",
      "1000 input query terms found no hit:\t['cg09873201', 'cg09873284', 'cg09873379', 'cg09873510', 'cg09873524', 'cg09873544', 'cg09873584', '\n",
      "1000 input query terms found no hit:\t['cg09959684', 'cg09959718', 'cg09960109', 'cg09960171', 'cg09960202', 'cg09960553', 'cg09960724', '\n",
      "1000 input query terms found no hit:\t['cg10045955', 'cg10046093', 'cg10046101', 'cg10046115', 'cg10046127', 'cg10046212', 'cg10046227', '\n",
      "1000 input query terms found no hit:\t['cg10127490', 'cg10127660', 'cg10127679', 'cg10127921', 'cg10127939', 'cg10128164', 'cg10128166', '\n",
      "1000 input query terms found no hit:\t['cg10205430', 'cg10205548', 'cg10205629', 'cg10205753', 'cg10205925', 'cg10205928', 'cg10206039', '\n",
      "1000 input query terms found no hit:\t['cg10290527', 'cg10290724', 'cg10290728', 'cg10290730', 'cg10290764', 'cg10290767', 'cg10290814', '\n",
      "1000 input query terms found no hit:\t['cg10373780', 'cg10373887', 'cg10373891', 'cg10373958', 'cg10374009', 'cg10374084', 'cg10374248', '\n",
      "1000 input query terms found no hit:\t['cg10465680', 'cg10465839', 'cg10465866', 'cg10465949', 'cg10466107', 'cg10466548', 'cg10466626', '\n",
      "1000 input query terms found no hit:\t['cg10542883', 'cg10542971', 'cg10542975', 'cg10542990', 'cg10543035', 'cg10543136', 'cg10543363', '\n",
      "1000 input query terms found no hit:\t['cg10628818', 'cg10628982', 'cg10629004', 'cg10629123', 'cg10629128', 'cg10629165', 'cg10629249', '\n",
      "1000 input query terms found no hit:\t['cg10720080', 'cg10720154', 'cg10720210', 'cg10720545', 'cg10720646', 'cg10720699', 'cg10720867', '\n",
      "1000 input query terms found no hit:\t['cg10809023', 'cg10809134', 'cg10809165', 'cg10809166', 'cg10809282', 'cg10809441', 'cg10809449', '\n",
      "1000 input query terms found no hit:\t['cg10898756', 'cg10898837', 'cg10898923', 'cg10898989', 'cg10899006', 'cg10899175', 'cg10899274', '\n",
      "1000 input query terms found no hit:\t['cg10988628', 'cg10988673', 'cg10989175', 'cg10989214', 'cg10989255', 'cg10989261', 'cg10989300', '\n",
      "1000 input query terms found no hit:\t['cg11081638', 'cg11081694', 'cg11081703', 'cg11081723', 'cg11081729', 'cg11081809', 'cg11081826', '\n",
      "1000 input query terms found no hit:\t['cg11175310', 'cg11175477', 'cg11175683', 'cg11175836', 'cg11175977', 'cg11176135', 'cg11176159', '\n",
      "1000 input query terms found no hit:\t['cg11254522', 'cg11254573', 'cg11254602', 'cg11254700', 'cg11254726', 'cg11254749', 'cg11254847', '\n",
      "1000 input query terms found no hit:\t['cg11343941', 'cg11344005', 'cg11344025', 'cg11344026', 'cg11344073', 'cg11344075', 'cg11344121', '\n",
      "1000 input query terms found no hit:\t['cg11434973', 'cg11434986', 'cg11435035', 'cg11435087', 'cg11435167', 'cg11435225', 'cg11435239', '\n",
      "1000 input query terms found no hit:\t['cg11540007', 'cg11540016', 'cg11540055', 'cg11540341', 'cg11540553', 'cg11540624', 'cg11540692', '\n",
      "1000 input query terms found no hit:\t['cg11633086', 'cg11633102', 'cg11633191', 'cg11633264', 'cg11633280', 'cg11633310', 'cg11633422', '\n",
      "1000 input query terms found no hit:\t['cg11713619', 'cg11713664', 'cg11713800', 'cg11714014', 'cg11714200', 'cg11714334', 'cg11714406', '\n",
      "1000 input query terms found no hit:\t['cg11798959', 'cg11798976', 'cg11799072', 'cg11799172', 'cg11799329', 'cg11799387', 'cg11799480', '\n",
      "1000 input query terms found no hit:\t['cg11872231', 'cg11872300', 'cg11872321', 'cg11872342', 'cg11872373', 'cg11872583', 'cg11872651', '\n",
      "1000 input query terms found no hit:\t['cg11965913', 'cg11965976', 'cg11966063', 'cg11966070', 'cg11966378', 'cg11966432', 'cg11966450', '\n",
      "1000 input query terms found no hit:\t['cg12057741', 'cg12057946', 'cg12058043', 'cg12058064', 'cg12058185', 'cg12058262', 'cg12058372', '\n",
      "1000 input query terms found no hit:\t['cg12138067', 'cg12138102', 'cg12138124', 'cg12138286', 'cg12138330', 'cg12138346', 'cg12138450', '\n",
      "1000 input query terms found no hit:\t['cg12228977', 'cg12229081', 'cg12229082', 'cg12229151', 'cg12229172', 'cg12229367', 'cg12229404', '\n",
      "1000 input query terms found no hit:\t['cg12331004', 'cg12331331', 'cg12331389', 'cg12331743', 'cg12331932', 'cg12332083', 'cg12332097', '\n",
      "1000 input query terms found no hit:\t['cg12430467', 'cg12430567', 'cg12430618', 'cg12430776', 'cg12430824', 'cg12430845', 'cg12431087', '\n",
      "1000 input query terms found no hit:\t['cg12515325', 'cg12515366', 'cg12515371', 'cg12515402', 'cg12515485', 'cg12515517', 'cg12515570', '\n",
      "1000 input query terms found no hit:\t['cg12601909', 'cg12601933', 'cg12601945', 'cg12601963', 'cg12601987', 'cg12602112', 'cg12602126', '\n",
      "1000 input query terms found no hit:\t['cg12690313', 'cg12690369', 'cg12690496', 'cg12690575', 'cg12690857', 'cg12690978', 'cg12690996', '\n",
      "1000 input query terms found no hit:\t['cg12795893', 'cg12795952', 'cg12796015', 'cg12796028', 'cg12796135', 'cg12796221', 'cg12796229', '\n",
      "1000 input query terms found no hit:\t['cg12891160', 'cg12891177', 'cg12891178', 'cg12891197', 'cg12891342', 'cg12891476', 'cg12891498', '\n",
      "1000 input query terms found no hit:\t['cg12990639', 'cg12990803', 'cg12990844', 'cg12990915', 'cg12990974', 'cg12991050', 'cg12991093', '\n",
      "1000 input query terms found no hit:\t['cg13089335', 'cg13089568', 'cg13089599', 'cg13089661', 'cg13089729', 'cg13089904', 'cg13089906', '\n",
      "1000 input query terms found no hit:\t['cg13191718', 'cg13191808', 'cg13191935', 'cg13191951', 'cg13192155', 'cg13192180', 'cg13192239', '\n",
      "1000 input query terms found no hit:\t['cg13284741', 'cg13284981', 'cg13284983', 'cg13285004', 'cg13285077', 'cg13285088', 'cg13285105', '\n",
      "1000 input query terms found no hit:\t['cg13371705', 'cg13371740', 'cg13371767', 'cg13371788', 'cg13371836', 'cg13371870', 'cg13371910', '\n",
      "1000 input query terms found no hit:\t['cg13443768', 'cg13443797', 'cg13443800', 'cg13443842', 'cg13443844', 'cg13443893', 'cg13443911', '\n",
      "1000 input query terms found no hit:\t['cg13511000', 'cg13511195', 'cg13511231', 'cg13511324', 'cg13511387', 'cg13511576', 'cg13511752', '\n",
      "1000 input query terms found no hit:\t['cg13580265', 'cg13580286', 'cg13580321', 'cg13580380', 'cg13580382', 'cg13580471', 'cg13580654', '\n",
      "1000 input query terms found no hit:\t['cg13651586', 'cg13651633', 'cg13651690', 'cg13651857', 'cg13651876', 'cg13651908', 'cg13652008', '\n",
      "1000 input query terms found no hit:\t['cg13718827', 'cg13718870', 'cg13718943', 'cg13718960', 'cg13718961', 'cg13719062', 'cg13719188', '\n",
      "1000 input query terms found no hit:\t['cg13795689', 'cg13795696', 'cg13795819', 'cg13795831', 'cg13795838', 'cg13795840', 'cg13795948', '\n",
      "1000 input query terms found no hit:\t['cg13870041', 'cg13870102', 'cg13870275', 'cg13870425', 'cg13870426', 'cg13870494', 'cg13870520', '\n",
      "1000 input query terms found no hit:\t['cg13936854', 'cg13936856', 'cg13936863', 'cg13936874', 'cg13936972', 'cg13936992', 'cg13937012', '\n",
      "1000 input query terms found no hit:\t['cg14007458', 'cg14007549', 'cg14007559', 'cg14007706', 'cg14007757', 'cg14007851', 'cg14007871', '\n",
      "1000 input query terms found no hit:\t['cg14073839', 'cg14073856', 'cg14073862', 'cg14073924', 'cg14073946', 'cg14073986', 'cg14074052', '\n",
      "1000 input query terms found no hit:\t['cg14145477', 'cg14145653', 'cg14145667', 'cg14145674', 'cg14145762', 'cg14145947', 'cg14146100', '\n",
      "1000 input query terms found no hit:\t['cg14214257', 'cg14214262', 'cg14214288', 'cg14214321', 'cg14214323', 'cg14214353', 'cg14214375', '\n",
      "1000 input query terms found no hit:\t['cg14283939', 'cg14283944', 'cg14283978', 'cg14284055', 'cg14284187', 'cg14284211', 'cg14284257', '\n",
      "1000 input query terms found no hit:\t['cg14357259', 'cg14357535', 'cg14357577', 'cg14357669', 'cg14358282', 'cg14358448', 'cg14358451', '\n",
      "1000 input query terms found no hit:\t['cg14432018', 'cg14432143', 'cg14432251', 'cg14432269', 'cg14432460', 'cg14432469', 'cg14432716', '\n",
      "1000 input query terms found no hit:\t['cg14508997', 'cg14508998', 'cg14509032', 'cg14509125', 'cg14509153', 'cg14509196', 'cg14509299', '\n",
      "1000 input query terms found no hit:\t['cg14575222', 'cg14575255', 'cg14575355', 'cg14575356', 'cg14575484', 'cg14575559', 'cg14575687', '\n",
      "1000 input query terms found no hit:\t['cg14650344', 'cg14650464', 'cg14650514', 'cg14650559', 'cg14650577', 'cg14650601', 'cg14650610', '\n",
      "1000 input query terms found no hit:\t['cg14738448', 'cg14738643', 'cg14738670', 'cg14738806', 'cg14738823', 'cg14739039', 'cg14739378', '\n",
      "1000 input query terms found no hit:\t['cg14827527', 'cg14827528', 'cg14827643', 'cg14827778', 'cg14827807', 'cg14827832', 'cg14827924', '\n",
      "1000 input query terms found no hit:\t['cg14912723', 'cg14912727', 'cg14912728', 'cg14912896', 'cg14913111', 'cg14913210', 'cg14913216', '\n",
      "1000 input query terms found no hit:\t['cg15003208', 'cg15003434', 'cg15003482', 'cg15003615', 'cg15003695', 'cg15003737', 'cg15003812', '\n",
      "1000 input query terms found no hit:\t['cg15091407', 'cg15091419', 'cg15091868', 'cg15091879', 'cg15092152', 'cg15092168', 'cg15092213', '\n",
      "1000 input query terms found no hit:\t['cg15179472', 'cg15179499', 'cg15179725', 'cg15179805', 'cg15179955', 'cg15179976', 'cg15179985', '\n",
      "1000 input query terms found no hit:\t['cg15282632', 'cg15282709', 'cg15282732', 'cg15282819', 'cg15282907', 'cg15282973', 'cg15283028', '\n",
      "1000 input query terms found no hit:\t['cg15391452', 'cg15391491', 'cg15391499', 'cg15391504', 'cg15391531', 'cg15391574', 'cg15391590', '\n",
      "1000 input query terms found no hit:\t['cg15481603', 'cg15481636', 'cg15481787', 'cg15481791', 'cg15482168', 'cg15482422', 'cg15482500', '\n",
      "1000 input query terms found no hit:\t['cg15581305', 'cg15581365', 'cg15581429', 'cg15581492', 'cg15581500', 'cg15581842', 'cg15581944', '\n",
      "1000 input query terms found no hit:\t['cg15665385', 'cg15665400', 'cg15665630', 'cg15665646', 'cg15665653', 'cg15665792', 'cg15665925', '\n",
      "1000 input query terms found no hit:\t['cg15751090', 'cg15751116', 'cg15751131', 'cg15751198', 'cg15751406', 'cg15751452', 'cg15751948', '\n",
      "1000 input query terms found no hit:\t['cg15845333', 'cg15845525', 'cg15845603', 'cg15845653', 'cg15845746', 'cg15845792', 'cg15845821', '\n",
      "1000 input query terms found no hit:\t['cg15937861', 'cg15937958', 'cg15938529', 'cg15938671', 'cg15938989', 'cg15939253', 'cg15939287', '\n",
      "1000 input query terms found no hit:\t['cg16028793', 'cg16028934', 'cg16028965', 'cg16028986', 'cg16029077', 'cg16029256', 'cg16029351', '\n",
      "1000 input query terms found no hit:\t['cg16124934', 'cg16124935', 'cg16124975', 'cg16124977', 'cg16125214', 'cg16125281', 'cg16125371', '\n",
      "1000 input query terms found no hit:\t['cg16217553', 'cg16217610', 'cg16217794', 'cg16217803', 'cg16217908', 'cg16218204', 'cg16218241', '\n",
      "1000 input query terms found no hit:\t['cg16299747', 'cg16299891', 'cg16300021', 'cg16300030', 'cg16300033', 'cg16300094', 'cg16300310', '\n",
      "1000 input query terms found no hit:\t['cg16381752', 'cg16381917', 'cg16382030', 'cg16382047', 'cg16382077', 'cg16382322', 'cg16382382', '\n",
      "1000 input query terms found no hit:\t['cg16462254', 'cg16462297', 'cg16462413', 'cg16462433', 'cg16462462', 'cg16462701', 'cg16463044', '\n",
      "1000 input query terms found no hit:\t['cg16548265', 'cg16548362', 'cg16548605', 'cg16548746', 'cg16548780', 'cg16548911', 'cg16549027', '\n",
      "1000 input query terms found no hit:\t['cg16625216', 'cg16625218', 'cg16625230', 'cg16625402', 'cg16625524', 'cg16625651', 'cg16625671', '\n",
      "1000 input query terms found no hit:\t['cg16703333', 'cg16703390', 'cg16703466', 'cg16703576', 'cg16703647', 'cg16703882', 'cg16703914', '\n",
      "1000 input query terms found no hit:\t['cg16786458', 'cg16786481', 'cg16786516', 'cg16786581', 'cg16786640', 'cg16786661', 'cg16786703', '\n",
      "1000 input query terms found no hit:\t['cg16889320', 'cg16889368', 'cg16889489', 'cg16889556', 'cg16889557', 'cg16889659', 'cg16889721', '\n",
      "1000 input query terms found no hit:\t['cg16985632', 'cg16985652', 'cg16985702', 'cg16985708', 'cg16985778', 'cg16985952', 'cg16985966', '\n",
      "1000 input query terms found no hit:\t['cg17076592', 'cg17076635', 'cg17076667', 'cg17076780', 'cg17076789', 'cg17076795', 'cg17076890', '\n",
      "1000 input query terms found no hit:\t['cg17162260', 'cg17162271', 'cg17162475', 'cg17162576', 'cg17162578', 'cg17162734', 'cg17162797', '\n",
      "1000 input query terms found no hit:\t['cg17252808', 'cg17252960', 'cg17253307', 'cg17253407', 'cg17253459', 'cg17253709', 'cg17253810', '\n",
      "1000 input query terms found no hit:\t['cg17339521', 'cg17339543', 'cg17339617', 'cg17339794', 'cg17339905', 'cg17339910', 'cg17339927', '\n",
      "1000 input query terms found no hit:\t['cg17433772', 'cg17434008', 'cg17434043', 'cg17434062', 'cg17434154', 'cg17434257', 'cg17434273', '\n",
      "1000 input query terms found no hit:\t['cg17516384', 'cg17516455', 'cg17516469', 'cg17516539', 'cg17516556', 'cg17516577', 'cg17516809', '\n",
      "1000 input query terms found no hit:\t['cg17620121', 'cg17620199', 'cg17620251', 'cg17620414', 'cg17620425', 'cg17620505', 'cg17621054', '\n",
      "1000 input query terms found no hit:\t['cg17731547', 'cg17731710', 'cg17731776', 'cg17731981', 'cg17732038', 'cg17732044', 'cg17732141', '\n",
      "1000 input query terms found no hit:\t['cg17824787', 'cg17824906', 'cg17824914', 'cg17825070', 'cg17825100', 'cg17825130', 'cg17825156', '\n",
      "1000 input query terms found no hit:\t['cg17914835', 'cg17914881', 'cg17914927', 'cg17915125', 'cg17915139', 'cg17915189', 'cg17915429', '\n",
      "1000 input query terms found no hit:\t['cg18008202', 'cg18008221', 'cg18008269', 'cg18008372', 'cg18008451', 'cg18008467', 'cg18008487', '\n",
      "1000 input query terms found no hit:\t['cg18095675', 'cg18095720', 'cg18095725', 'cg18095824', 'cg18095938', 'cg18096253', 'cg18096388', '\n",
      "1000 input query terms found no hit:\t['cg18176712', 'cg18176922', 'cg18177243', 'cg18177304', 'cg18177414', 'cg18177533', 'cg18177616', '\n",
      "1000 input query terms found no hit:\t['cg18262615', 'cg18262679', 'cg18262801', 'cg18262830', 'cg18262852', 'cg18262958', 'cg18262993', '\n",
      "1000 input query terms found no hit:\t['cg18354764', 'cg18354948', 'cg18354986', 'cg18355067', 'cg18355120', 'cg18355311', 'cg18355337', '\n",
      "1000 input query terms found no hit:\t['cg18445108', 'cg18445426', 'cg18445438', 'cg18445760', 'cg18446044', 'cg18446069', 'cg18446110', '\n",
      "1000 input query terms found no hit:\t['cg18534312', 'cg18534318', 'cg18534345', 'cg18534836', 'cg18534872', 'cg18535011', 'cg18535167', '\n",
      "1000 input query terms found no hit:\t['cg18630756', 'cg18630811', 'cg18630855', 'cg18630857', 'cg18631201', 'cg18631216', 'cg18631292', '\n",
      "1000 input query terms found no hit:\t['cg18727239', 'cg18727303', 'cg18727501', 'cg18727700', 'cg18727742', 'cg18727782', 'cg18727936', '\n",
      "1000 input query terms found no hit:\t['cg18811731', 'cg18811789', 'cg18811819', 'cg18811860', 'cg18811986', 'cg18812058', 'cg18812079', '\n",
      "1000 input query terms found no hit:\t['cg18905039', 'cg18905155', 'cg18905161', 'cg18905461', 'cg18905676', 'cg18905855', 'cg18905952', '\n",
      "1000 input query terms found no hit:\t['cg19007731', 'cg19007948', 'cg19008088', 'cg19008097', 'cg19008099', 'cg19008133', 'cg19008222', '\n",
      "1000 input query terms found no hit:\t['cg19105821', 'cg19105961', 'cg19106087', 'cg19106195', 'cg19106237', 'cg19106489', 'cg19106851', '\n",
      "1000 input query terms found no hit:\t['cg19216563', 'cg19216624', 'cg19216660', 'cg19216731', 'cg19216791', 'cg19216817', 'cg19216839', '\n",
      "1000 input query terms found no hit:\t['cg19309676', 'cg19310148', 'cg19310162', 'cg19310167', 'cg19310303', 'cg19310307', 'cg19310375', '\n",
      "1000 input query terms found no hit:\t['cg19407886', 'cg19407943', 'cg19407960', 'cg19407965', 'cg19408145', 'cg19408207', 'cg19408398', '\n",
      "1000 input query terms found no hit:\t['cg19500979', 'cg19501108', 'cg19501190', 'cg19501423', 'cg19501502', 'cg19501536', 'cg19501902', '\n",
      "1000 input query terms found no hit:\t['cg19589277', 'cg19589283', 'cg19589317', 'cg19589358', 'cg19589396', 'cg19589427', 'cg19589494', '\n",
      "1000 input query terms found no hit:\t['cg19679397', 'cg19679543', 'cg19679633', 'cg19679907', 'cg19679989', 'cg19680222', 'cg19680388', '\n",
      "1000 input query terms found no hit:\t['cg19760249', 'cg19760250', 'cg19760323', 'cg19760410', 'cg19760441', 'cg19760458', 'cg19760651', '\n",
      "1000 input query terms found no hit:\t['cg19844704', 'cg19844724', 'cg19844829', 'cg19844955', 'cg19845127', 'cg19845136', 'cg19845159', '\n",
      "1000 input query terms found no hit:\t['cg19928046', 'cg19928195', 'cg19928247', 'cg19928294', 'cg19928336', 'cg19928340', 'cg19928377', '\n",
      "1000 input query terms found no hit:\t['cg20020057', 'cg20020143', 'cg20020161', 'cg20021204', 'cg20021506', 'cg20021790', 'cg20021806', '\n",
      "1000 input query terms found no hit:\t['cg20122656', 'cg20122849', 'cg20122925', 'cg20122943', 'cg20123153', 'cg20123298', 'cg20123374', '\n",
      "1000 input query terms found no hit:\t['cg20224984', 'cg20224991', 'cg20225041', 'cg20225246', 'cg20225275', 'cg20225546', 'cg20225681', '\n",
      "1000 input query terms found no hit:\t['cg20321265', 'cg20321319', 'cg20321329', 'cg20321331', 'cg20321375', 'cg20321432', 'cg20321706', '\n",
      "1000 input query terms found no hit:\t['cg20424854', 'cg20424973', 'cg20425130', 'cg20425293', 'cg20425384', 'cg20425862', 'cg20426108', '\n",
      "1000 input query terms found no hit:\t['cg20521715', 'cg20522006', 'cg20522029', 'cg20522104', 'cg20522299', 'cg20522370', 'cg20522387', '\n",
      "1000 input query terms found no hit:\t['cg20624429', 'cg20624451', 'cg20624538', 'cg20624830', 'cg20624941', 'cg20624953', 'cg20624980', '\n",
      "1000 input query terms found no hit:\t['cg20707970', 'cg20707991', 'cg20708129', 'cg20708135', 'cg20708141', 'cg20708173', 'cg20708199', '\n",
      "1000 input query terms found no hit:\t['cg20807701', 'cg20807790', 'cg20807852', 'cg20807948', 'cg20808089', 'cg20808145', 'cg20808206', '\n",
      "1000 input query terms found no hit:\t['cg20926024', 'cg20926035', 'cg20926183', 'cg20926282', 'cg20926651', 'cg20926720', 'cg20926939', '\n",
      "1000 input query terms found no hit:\t['cg21011883', 'cg21012057', 'cg21012061', 'cg21012139', 'cg21012266', 'cg21012296', 'cg21012362', '\n",
      "1000 input query terms found no hit:\t['cg21115727', 'cg21115769', 'cg21115864', 'cg21115891', 'cg21115977', 'cg21116056', 'cg21116087', '\n",
      "1000 input query terms found no hit:\t['cg21198586', 'cg21198603', 'cg21198712', 'cg21198755', 'cg21198935', 'cg21199023', 'cg21199045', '\n",
      "1000 input query terms found no hit:\t['cg21287017', 'cg21287054', 'cg21287330', 'cg21287347', 'cg21287356', 'cg21287489', 'cg21287519', '\n",
      "1000 input query terms found no hit:\t['cg21402921', 'cg21402968', 'cg21403076', 'cg21403089', 'cg21403330', 'cg21403609', 'cg21403759', '\n",
      "1000 input query terms found no hit:\t['cg21500909', 'cg21500966', 'cg21501001', 'cg21501064', 'cg21501163', 'cg21501358', 'cg21501412', '\n",
      "1000 input query terms found no hit:\t['cg21586215', 'cg21586223', 'cg21586243', 'cg21586412', 'cg21586613', 'cg21586865', 'cg21586955', '\n",
      "1000 input query terms found no hit:\t['cg21683659', 'cg21683721', 'cg21683783', 'cg21684012', 'cg21684411', 'cg21684470', 'cg21684588', '\n",
      "1000 input query terms found no hit:\t['cg21788624', 'cg21788755', 'cg21788996', 'cg21789008', 'cg21789044', 'cg21789136', 'cg21789229', '\n",
      "1000 input query terms found no hit:\t['cg21884122', 'cg21884231', 'cg21884421', 'cg21884509', 'cg21884796', 'cg21884905', 'cg21885022', '\n",
      "1000 input query terms found no hit:\t['cg21989023', 'cg21989094', 'cg21989213', 'cg21989299', 'cg21989399', 'cg21989425', 'cg21989500', '\n",
      "1000 input query terms found no hit:\t['cg22090150', 'cg22090245', 'cg22090259', 'cg22090271', 'cg22090404', 'cg22090419', 'cg22090592', '\n",
      "1000 input query terms found no hit:\t['cg22190361', 'cg22190437', 'cg22190438', 'cg22190705', 'cg22190721', 'cg22190833', 'cg22190861', '\n",
      "1000 input query terms found no hit:\t['cg22294773', 'cg22294804', 'cg22294845', 'cg22294849', 'cg22294908', 'cg22295064', 'cg22295116', '\n",
      "1000 input query terms found no hit:\t['cg22393360', 'cg22393371', 'cg22393461', 'cg22393765', 'cg22394521', 'cg22394530', 'cg22394535', '\n",
      "1000 input query terms found no hit:\t['cg22501666', 'cg22501690', 'cg22501793', 'cg22501885', 'cg22501899', 'cg22501922', 'cg22501942', '\n",
      "1000 input query terms found no hit:\t['cg22605919', 'cg22605936', 'cg22605943', 'cg22606062', 'cg22606179', 'cg22606224', 'cg22606303', '\n",
      "1000 input query terms found no hit:\t['cg22697962', 'cg22698028', 'cg22698115', 'cg22698177', 'cg22698358', 'cg22698489', 'cg22698629', '\n",
      "1000 input query terms found no hit:\t['cg22795331', 'cg22795345', 'cg22795463', 'cg22795470', 'cg22795471', 'cg22795569', 'cg22795583', '\n",
      "1000 input query terms found no hit:\t['cg22876250', 'cg22876277', 'cg22876327', 'cg22876356', 'cg22876425', 'cg22876561', 'cg22876643', '\n",
      "1000 input query terms found no hit:\t['cg22969287', 'cg22969397', 'cg22969524', 'cg22969661', 'cg22969669', 'cg22969808', 'cg22969914', '\n",
      "1000 input query terms found no hit:\t['cg23055735', 'cg23055772', 'cg23055818', 'cg23055839', 'cg23055852', 'cg23055938', 'cg23056033', '\n",
      "1000 input query terms found no hit:\t['cg23149472', 'cg23149492', 'cg23149790', 'cg23149825', 'cg23149852', 'cg23150219', 'cg23150499', '\n",
      "1000 input query terms found no hit:\t['cg23236325', 'cg23236366', 'cg23236370', 'cg23236404', 'cg23236408', 'cg23236554', 'cg23236908', '\n",
      "1000 input query terms found no hit:\t['cg23323627', 'cg23323671', 'cg23323711', 'cg23323712', 'cg23323745', 'cg23323827', 'cg23323867', '\n",
      "1000 input query terms found no hit:\t['cg23414431', 'cg23414595', 'cg23414759', 'cg23414861', 'cg23414876', 'cg23415176', 'cg23415203', '\n",
      "1000 input query terms found no hit:\t['cg23510109', 'cg23510131', 'cg23510153', 'cg23510258', 'cg23510313', 'cg23510415', 'cg23510443', '\n",
      "1000 input query terms found no hit:\t['cg23610841', 'cg23610994', 'cg23611233', 'cg23611525', 'cg23611643', 'cg23611697', 'cg23611710', '\n",
      "1000 input query terms found no hit:\t['cg23686556', 'cg23686831', 'cg23686908', 'cg23687000', 'cg23687058', 'cg23687103', 'cg23687149', '\n",
      "1000 input query terms found no hit:\t['cg23786701', 'cg23786812', 'cg23787144', 'cg23787205', 'cg23787321', 'cg23787873', 'cg23787937', '\n",
      "1000 input query terms found no hit:\t['cg23889117', 'cg23889236', 'cg23889414', 'cg23889440', 'cg23889607', 'cg23889610', 'cg23889654', '\n",
      "1000 input query terms found no hit:\t['cg23970422', 'cg23970703', 'cg23970740', 'cg23970758', 'cg23970785', 'cg23970798', 'cg23970856', '\n",
      "1000 input query terms found no hit:\t['cg24049050', 'cg24049154', 'cg24049348', 'cg24049451', 'cg24049468', 'cg24049493', 'cg24049616', '\n",
      "1000 input query terms found no hit:\t['cg24136205', 'cg24136318', 'cg24136431', 'cg24136563', 'cg24136700', 'cg24136740', 'cg24136754', '\n",
      "1000 input query terms found no hit:\t['cg24226371', 'cg24226528', 'cg24226590', 'cg24226687', 'cg24226884', 'cg24226891', 'cg24226973', '\n",
      "1000 input query terms found no hit:\t['cg24332422', 'cg24332433', 'cg24332577', 'cg24332600', 'cg24332685', 'cg24332710', 'cg24332743', '\n",
      "1000 input query terms found no hit:\t['cg24420742', 'cg24420770', 'cg24420773', 'cg24420778', 'cg24420847', 'cg24421091', 'cg24421410', '\n",
      "1000 input query terms found no hit:\t['cg24509331', 'cg24509668', 'cg24509810', 'cg24509815', 'cg24509919', 'cg24510285', 'cg24510397', '\n",
      "1000 input query terms found no hit:\t['cg24599205', 'cg24599249', 'cg24599270', 'cg24599434', 'cg24599624', 'cg24599861', 'cg24599943', '\n",
      "1000 input query terms found no hit:\t['cg24688655', 'cg24688690', 'cg24688803', 'cg24688826', 'cg24688837', 'cg24688854', 'cg24688856', '\n",
      "1000 input query terms found no hit:\t['cg24768974', 'cg24768999', 'cg24769045', 'cg24769167', 'cg24769190', 'cg24769205', 'cg24769295', '\n",
      "1000 input query terms found no hit:\t['cg24862153', 'cg24862189', 'cg24862202', 'cg24862246', 'cg24862410', 'cg24862443', 'cg24862450', '\n",
      "1000 input query terms found no hit:\t['cg24949747', 'cg24949783', 'cg24949795', 'cg24949907', 'cg24950182', 'cg24950222', 'cg24950233', '\n",
      "1000 input query terms found no hit:\t['cg25038954', 'cg25039051', 'cg25039081', 'cg25039158', 'cg25039186', 'cg25039325', 'cg25039393', '\n",
      "1000 input query terms found no hit:\t['cg25135654', 'cg25135706', 'cg25135801', 'cg25136045', 'cg25136068', 'cg25136124', 'cg25136353', '\n",
      "1000 input query terms found no hit:\t['cg25230074', 'cg25230111', 'cg25230117', 'cg25230157', 'cg25230235', 'cg25230305', 'cg25230327', '\n",
      "1000 input query terms found no hit:\t['cg25335440', 'cg25335544', 'cg25335775', 'cg25336000', 'cg25336198', 'cg25336332', 'cg25336731', '\n",
      "1000 input query terms found no hit:\t['cg25422937', 'cg25422943', 'cg25422992', 'cg25423004', 'cg25423009', 'cg25423077', 'cg25423111', '\n",
      "1000 input query terms found no hit:\t['cg25521086', 'cg25521400', 'cg25521481', 'cg25521853', 'cg25521963', 'cg25522046', 'cg25522119', '\n",
      "1000 input query terms found no hit:\t['cg25614836', 'cg25614853', 'cg25614875', 'cg25614889', 'cg25615024', 'cg25615068', 'cg25615081', '\n",
      "1000 input query terms found no hit:\t['cg25715964', 'cg25716065', 'cg25716102', 'cg25716149', 'cg25716286', 'cg25716415', 'cg25716623', '\n",
      "1000 input query terms found no hit:\t['cg25803423', 'cg25803426', 'cg25803583', 'cg25803632', 'cg25803642', 'cg25803693', 'cg25803766', '\n",
      "1000 input query terms found no hit:\t['cg25913882', 'cg25914109', 'cg25914663', 'cg25914829', 'cg25914921', 'cg25914931', 'cg25915013', '\n",
      "1000 input query terms found no hit:\t['cg26004664', 'cg26004707', 'cg26004710', 'cg26004759', 'cg26004771', 'cg26004810', 'cg26005082', '\n",
      "1000 input query terms found no hit:\t['cg26099316', 'cg26099570', 'cg26099633', 'cg26099766', 'cg26099834', 'cg26099943', 'cg26100059', '\n",
      "1000 input query terms found no hit:\t['cg26179948', 'cg26180015', 'cg26180080', 'cg26180126', 'cg26180191', 'cg26180383', 'cg26180469', '\n",
      "1000 input query terms found no hit:\t['cg26266931', 'cg26266934', 'cg26266978', 'cg26266991', 'cg26267038', 'cg26267081', 'cg26267259', '\n",
      "1000 input query terms found no hit:\t['cg26347089', 'cg26347189', 'cg26347197', 'cg26347606', 'cg26347632', 'cg26347740', 'cg26347745', '\n",
      "1000 input query terms found no hit:\t['cg26433208', 'cg26433322', 'cg26433333', 'cg26433368', 'cg26433444', 'cg26433445', 'cg26433554', '\n",
      "1000 input query terms found no hit:\t['cg26523099', 'cg26523175', 'cg26523264', 'cg26523338', 'cg26523407', 'cg26523478', 'cg26523565', '\n",
      "1000 input query terms found no hit:\t['cg26610812', 'cg26611067', 'cg26611184', 'cg26611328', 'cg26611500', 'cg26611508', 'cg26611563', '\n",
      "1000 input query terms found no hit:\t['cg26693451', 'cg26693529', 'cg26693553', 'cg26693693', 'cg26693701', 'cg26693760', 'cg26693817', '\n",
      "1000 input query terms found no hit:\t['cg26787998', 'cg26788107', 'cg26788180', 'cg26788215', 'cg26788216', 'cg26788501', 'cg26788737', '\n",
      "1000 input query terms found no hit:\t['cg26867282', 'cg26867575', 'cg26867866', 'cg26867890', 'cg26867978', 'cg26867987', 'cg26868156', '\n",
      "1000 input query terms found no hit:\t['cg26948626', 'cg26948660', 'cg26948823', 'cg26949037', 'cg26949393', 'cg26949694', 'cg26949731', '\n",
      "1000 input query terms found no hit:\t['cg27035480', 'cg27035678', 'cg27035708', 'cg27035734', 'cg27035806', 'cg27036111', 'cg27036341', '\n",
      "1000 input query terms found no hit:\t['cg27119815', 'cg27119877', 'cg27119904', 'cg27119919', 'cg27120125', 'cg27120228', 'cg27120405', '\n",
      "1000 input query terms found no hit:\t['cg27210415', 'cg27210536', 'cg27210657', 'cg27210766', 'cg27210852', 'cg27210863', 'cg27211088', '\n",
      "1000 input query terms found no hit:\t['cg27301885', 'cg27302007', 'cg27302054', 'cg27302175', 'cg27302190', 'cg27302255', 'cg27302296', '\n",
      "1000 input query terms found no hit:\t['cg27383124', 'cg27383203', 'cg27383215', 'cg27383216', 'cg27383362', 'cg27383365', 'cg27383418', '\n",
      "1000 input query terms found no hit:\t['cg27475365', 'cg27475442', 'cg27475468', 'cg27475522', 'cg27475586', 'cg27475923', 'cg27476248', '\n",
      "1000 input query terms found no hit:\t['cg27558820', 'cg27558864', 'cg27558876', 'cg27559021', 'cg27559197', 'cg27559224', 'cg27559343', '\n",
      "1000 input query terms found no hit:\t['cg27641801', 'cg27641820', 'cg27641830', 'cg27641961', 'cg27642027', 'cg27642062', 'cg27642181', '\n",
      "467 input query terms found no hit:\t['ch.21.818333F', 'ch.21.820555F', 'ch.21.825836R', 'ch.22.1008279F', 'ch.22.16108507R', 'ch.22.1645\n"
     ]
    }
   ],
   "source": [
    "if NORMALIZE_GENE:\n",
    "    genetic_data = normalize_gene_symbols_in_index(genetic_data)"
   ]
  },
  {
   "cell_type": "code",
   "execution_count": 254,
   "metadata": {
    "ExecuteTime": {
     "end_time": "2024-01-10T21:40:20.572778564Z",
     "start_time": "2024-01-10T21:40:20.565101065Z"
    },
    "collapsed": false
   },
   "outputs": [],
   "source": [
    "merged_data = geo_merge_clinical_genetic_data(selected_clinical_data, genetic_data)\n",
    "# The preprocessing runs through, which means is_available should be True\n",
    "is_available = True"
   ]
  },
  {
   "cell_type": "code",
   "execution_count": 255,
   "metadata": {
    "ExecuteTime": {
     "end_time": "2024-01-10T21:40:20.595385887Z",
     "start_time": "2024-01-10T21:40:20.574630883Z"
    },
    "collapsed": false
   },
   "outputs": [
    {
     "name": "stdout",
     "output_type": "stream",
     "text": [
      "The merged dataset contains 127 samples.\n"
     ]
    }
   ],
   "source": [
    "print(f\"The merged dataset contains {len(merged_data)} samples.\")"
   ]
  },
  {
   "cell_type": "code",
   "execution_count": 256,
   "metadata": {
    "ExecuteTime": {
     "end_time": "2024-01-10T21:40:20.595934649Z",
     "start_time": "2024-01-10T21:40:20.580408525Z"
    },
    "collapsed": false
   },
   "outputs": [
    {
     "name": "stdout",
     "output_type": "stream",
     "text": [
      "For the feature 'Ovarian-Cancer', the least common label is '1.0' with 127 occurrences. This represents 100.00% of the dataset.\n",
      "The distribution of the feature 'Ovarian-Cancer' in this dataset is severely biased.\n",
      "\n"
     ]
    },
    {
     "data": {
      "text/plain": [
       "True"
      ]
     },
     "execution_count": 256,
     "metadata": {},
     "output_type": "execute_result"
    }
   ],
   "source": [
    "is_trait_biased, merged_data = judge_and_remove_biased_features(merged_data, TRAIT, trait_type=trait_type)\n",
    "is_trait_biased"
   ]
  },
  {
   "cell_type": "code",
   "execution_count": 257,
   "metadata": {
    "ExecuteTime": {
     "end_time": "2024-01-10T21:40:20.596022151Z",
     "start_time": "2024-01-10T21:40:20.588443384Z"
    },
    "collapsed": false
   },
   "outputs": [],
   "source": [
    "if is_available:\n",
    "    save_cohort_info(cohort, JSON_PATH, is_available, is_trait_biased, merged_data, note='')\n",
    "else:\n",
    "    save_cohort_info(cohort, JSON_PATH, is_available)"
   ]
  },
  {
   "cell_type": "code",
   "execution_count": 258,
   "metadata": {
    "ExecuteTime": {
     "end_time": "2024-01-10T21:40:20.681345468Z",
     "start_time": "2024-01-10T21:40:20.591286171Z"
    },
    "collapsed": false
   },
   "outputs": [],
   "source": [
    "merged_data.head()\n",
    "if not is_trait_biased:\n",
    "    merged_data.to_csv(os.path.join(OUTPUT_DIR, cohort + '.csv'), index=False)"
   ]
  },
  {
   "cell_type": "markdown",
   "metadata": {
    "ExecuteTime": {
     "end_time": "2023-12-31T03:58:22.271683755Z",
     "start_time": "2023-12-31T03:58:22.246557674Z"
    },
    "id": "-MTPhRGxJV7I"
   },
   "source": [
    "### 3. Do regression & Cross Validation"
   ]
  },
  {
   "cell_type": "code",
   "execution_count": 259,
   "metadata": {
    "ExecuteTime": {
     "end_time": "2024-01-10T21:40:20.694597045Z",
     "start_time": "2024-01-10T21:40:20.642161512Z"
    },
    "collapsed": false
   },
   "outputs": [
    {
     "data": {
      "text/html": [
       "<div>\n",
       "<style scoped>\n",
       "    .dataframe tbody tr th:only-of-type {\n",
       "        vertical-align: middle;\n",
       "    }\n",
       "\n",
       "    .dataframe tbody tr th {\n",
       "        vertical-align: top;\n",
       "    }\n",
       "\n",
       "    .dataframe thead th {\n",
       "        text-align: right;\n",
       "    }\n",
       "</style>\n",
       "<table border=\"1\" class=\"dataframe\">\n",
       "  <thead>\n",
       "    <tr style=\"text-align: right;\">\n",
       "      <th></th>\n",
       "      <th>cohort_id</th>\n",
       "      <th>is_usable</th>\n",
       "      <th>is_available</th>\n",
       "      <th>is_biased</th>\n",
       "      <th>has_age</th>\n",
       "      <th>has_gender</th>\n",
       "      <th>sample_size</th>\n",
       "      <th>note</th>\n",
       "    </tr>\n",
       "  </thead>\n",
       "  <tbody>\n",
       "  </tbody>\n",
       "</table>\n",
       "</div>"
      ],
      "text/plain": [
       "Empty DataFrame\n",
       "Columns: [cohort_id, is_usable, is_available, is_biased, has_age, has_gender, sample_size, note]\n",
       "Index: []"
      ]
     },
     "execution_count": 259,
     "metadata": {},
     "output_type": "execute_result"
    }
   ],
   "source": [
    "# Check the information of usable cohorts\n",
    "best_cohort, ranked_df = filter_and_rank_cohorts(JSON_PATH)\n",
    "ranked_df"
   ]
  },
  {
   "cell_type": "code",
   "execution_count": 260,
   "metadata": {
    "ExecuteTime": {
     "end_time": "2024-01-10T21:40:20.907514912Z",
     "start_time": "2024-01-10T21:40:20.907178250Z"
    },
    "collapsed": false
   },
   "outputs": [],
   "source": [
    "# If both age and gender have available cohorts, select 'age' as the condition.\n",
    "condition = 'Age'\n",
    "filter_column = 'has_' + condition.lower()\n",
    "\n",
    "condition_best_cohort, condition_ranked_df = filter_and_rank_cohorts(JSON_PATH, filter_column)\n",
    "condition_best_cohort"
   ]
  },
  {
   "cell_type": "code",
   "execution_count": 261,
   "metadata": {
    "ExecuteTime": {
     "end_time": "2024-01-10T21:40:21.120075804Z",
     "start_time": "2024-01-10T21:40:21.109376558Z"
    },
    "collapsed": false
   },
   "outputs": [
    {
     "data": {
      "text/html": [
       "<div>\n",
       "<style scoped>\n",
       "    .dataframe tbody tr th:only-of-type {\n",
       "        vertical-align: middle;\n",
       "    }\n",
       "\n",
       "    .dataframe tbody tr th {\n",
       "        vertical-align: top;\n",
       "    }\n",
       "\n",
       "    .dataframe thead th {\n",
       "        text-align: right;\n",
       "    }\n",
       "</style>\n",
       "<table border=\"1\" class=\"dataframe\">\n",
       "  <thead>\n",
       "    <tr style=\"text-align: right;\">\n",
       "      <th></th>\n",
       "      <th>cohort_id</th>\n",
       "      <th>is_usable</th>\n",
       "      <th>is_available</th>\n",
       "      <th>is_biased</th>\n",
       "      <th>has_age</th>\n",
       "      <th>has_gender</th>\n",
       "      <th>sample_size</th>\n",
       "      <th>note</th>\n",
       "    </tr>\n",
       "  </thead>\n",
       "  <tbody>\n",
       "  </tbody>\n",
       "</table>\n",
       "</div>"
      ],
      "text/plain": [
       "Empty DataFrame\n",
       "Columns: [cohort_id, is_usable, is_available, is_biased, has_age, has_gender, sample_size, note]\n",
       "Index: []"
      ]
     },
     "execution_count": 261,
     "metadata": {},
     "output_type": "execute_result"
    }
   ],
   "source": [
    "condition_ranked_df.head()"
   ]
  }
 ],
 "metadata": {
  "colab": {
   "provenance": []
  },
  "kernelspec": {
   "display_name": "Python 3 (ipykernel)",
   "language": "python",
   "name": "python3"
  },
  "language_info": {
   "codemirror_mode": {
    "name": "ipython",
    "version": 3
   },
   "file_extension": ".py",
   "mimetype": "text/x-python",
   "name": "python",
   "nbconvert_exporter": "python",
   "pygments_lexer": "ipython3",
   "version": "3.10.6"
  }
 },
 "nbformat": 4,
 "nbformat_minor": 0
}
