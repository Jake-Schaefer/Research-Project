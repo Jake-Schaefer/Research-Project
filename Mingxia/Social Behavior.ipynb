{
 "cells": [
  {
   "cell_type": "markdown",
   "metadata": {
    "collapsed": false
   },
   "source": [
    "# Gold standard curation: Preprocessing and single-step regression"
   ]
  },
  {
   "cell_type": "markdown",
   "metadata": {
    "collapsed": false
   },
   "source": [
    "In this stage of gold standard curation, we will do the data preprocessing, selection, and single-step regression for the 153 traits in our question set. The workflow consists of the following steps:\n",
    "\n",
    "1. Preprocess all the cohorts related to this trait. Each cohort should be converted to a tabular form and saved to a csv file, with columns being genetic factors, the trait, and age, gender if available;\n",
    "2. If there exists at least one cohort with age or gender information, conduct regression analysis with genetic features together with age or gender as the regressors.\n"
   ]
  },
  {
   "cell_type": "markdown",
   "metadata": {
    "collapsed": false
   },
   "source": [
    "# 1. Basic setup"
   ]
  },
  {
   "cell_type": "code",
   "execution_count": 4,
   "metadata": {
    "ExecuteTime": {
     "end_time": "2024-01-02T01:02:53.240839272Z",
     "start_time": "2024-01-02T01:02:53.240575109Z"
    },
    "collapsed": false
   },
   "outputs": [],
   "source": [
    "import os\n",
    "import sys\n",
    "\n",
    "sys.path.append('..')\n",
    "# Set your preferred name\n",
    "USER = \"Yuxuan\"\n",
    "# Set the data and output directories\n",
    "DATA_ROOT = '/home/yxcheng'\n",
    "OUTPUT_ROOT = '../../output1'\n",
    "TRAIT = 'Social-Behavior'\n",
    "OUTPUT_DIR = os.path.join(OUTPUT_ROOT, USER, '-'.join(TRAIT.split()))\n",
    "JSON_PATH = os.path.join(OUTPUT_DIR, \"cohort_info.json\")\n",
    "if not os.path.exists(OUTPUT_DIR):\n",
    "    os.makedirs(OUTPUT_DIR, exist_ok=True)\n",
    "\n",
    "# Gene symbol normalization may take 1-2 minutes. You may set it to False for debugging.\n",
    "NORMALIZE_GENE = True"
   ]
  },
  {
   "cell_type": "code",
   "execution_count": 25,
   "metadata": {
    "ExecuteTime": {
     "end_time": "2024-01-02T01:02:53.501910797Z",
     "start_time": "2024-01-02T01:02:53.496254990Z"
    },
    "colab": {
     "base_uri": "https://localhost:8080/"
    },
    "id": "jMTdsU43vVg3",
    "outputId": "38886111-f442-44b4-8398-96bf384d7abd"
   },
   "outputs": [
    {
     "data": {
      "text/plain": [
       "\"import os\\nfrom google.colab import drive\\n\\ndrive.mount('/content/drive', force_remount=True)\\nproj_dir = '/content/drive/MyDrive/AI4Science_Public'\\nos.chdir(proj_dir)\""
      ]
     },
     "execution_count": 25,
     "metadata": {},
     "output_type": "execute_result"
    }
   ],
   "source": [
    "# This cell is only for use on Google Colab. Skip it if you run your code in other environments\n",
    "\n",
    "\"\"\"import os\n",
    "from google.colab import drive\n",
    "\n",
    "drive.mount('/content/drive', force_remount=True)\n",
    "proj_dir = '/content/drive/MyDrive/AI4Science_Public'\n",
    "os.chdir(proj_dir)\"\"\""
   ]
  },
  {
   "cell_type": "markdown",
   "metadata": {
    "collapsed": false
   },
   "source": [
    "# 2. Data preprocessing and selection"
   ]
  },
  {
   "cell_type": "markdown",
   "metadata": {
    "collapsed": false
   },
   "source": [
    "## 2.1. The TCGA Xena dataset"
   ]
  },
  {
   "cell_type": "markdown",
   "metadata": {
    "collapsed": false
   },
   "source": [
    "In TCGA Xena, there is either zero or one cohort related to the trait. We search the names of subdirectories to see if any matches the trait. If a match is found, we directly obtain the file paths."
   ]
  },
  {
   "cell_type": "code",
   "execution_count": 5,
   "metadata": {
    "ExecuteTime": {
     "end_time": "2024-01-02T01:02:56.462746833Z",
     "start_time": "2024-01-02T01:02:55.818581842Z"
    },
    "collapsed": false
   },
   "outputs": [
    {
     "data": {
      "text/plain": [
       "['TCGA_Adrenocortical_Cancer_(ACC)',\n",
       " 'TCGA_Bile_Duct_Cancer_(CHOL)',\n",
       " 'TCGA_Lower_Grade_Glioma_(LGG)',\n",
       " 'TCGA_Acute_Myeloid_Leukemia_(LAML)',\n",
       " 'TCGA_Esophageal_Cancer_(ESCA)',\n",
       " 'TCGA_Thyroid_Cancer_(THCA)',\n",
       " 'TCGA_Ocular_melanomas_(UVM)',\n",
       " 'TCGA_Ovarian_Cancer_(OV)',\n",
       " 'TCGA_Prostate_Cancer_(PRAD)',\n",
       " 'CrawlData.ipynb',\n",
       " 'TCGA_Kidney_Papillary_Cell_Carcinoma_(KIRP)',\n",
       " 'TCGA_Lung_Cancer_(LUNG)',\n",
       " 'TCGA_Endometrioid_Cancer_(UCEC)',\n",
       " 'TCGA_Testicular_Cancer_(TGCT)',\n",
       " 'TCGA_lower_grade_glioma_and_glioblastoma_(GBMLGG)',\n",
       " 'TCGA_Pancreatic_Cancer_(PAAD)',\n",
       " 'TCGA_Glioblastoma_(GBM)',\n",
       " 'TCGA_Melanoma_(SKCM)',\n",
       " 'TCGA_Kidney_Clear_Cell_Carcinoma_(KIRC)',\n",
       " 'TCGA_Mesothelioma_(MESO)',\n",
       " 'TCGA_Rectal_Cancer_(READ)',\n",
       " 'TCGA_Head_and_Neck_Cancer_(HNSC)',\n",
       " 'TCGA_Large_Bcell_Lymphoma_(DLBC)',\n",
       " 'TCGA_Uterine_Carcinosarcoma_(UCS)',\n",
       " 'TCGA_Colon_Cancer_(COAD)',\n",
       " 'TCGA_Breast_Cancer_(BRCA)',\n",
       " 'TCGA_Bladder_Cancer_(BLCA)',\n",
       " 'TCGA_Sarcoma_(SARC)',\n",
       " 'TCGA_Lung_Squamous_Cell_Carcinoma_(LUSC)',\n",
       " 'TCGA_Cervical_Cancer_(CESC)',\n",
       " 'TCGA_Kidney_Chromophobe_(KICH)',\n",
       " 'TCGA_Stomach_Cancer_(STAD)',\n",
       " 'TCGA_Lung_Adenocarcinoma_(LUAD)',\n",
       " '.DS_Store',\n",
       " 'TCGA_Thymoma_(THYM)',\n",
       " 'TCGA_Colon_and_Rectal_Cancer_(COADREAD)',\n",
       " 'TCGA_Pheochromocytoma_Paraganglioma_(PCPG)',\n",
       " 'TCGA_Liver_Cancer_(LIHC)']"
      ]
     },
     "execution_count": 5,
     "metadata": {},
     "output_type": "execute_result"
    }
   ],
   "source": [
    "import os\n",
    "from utils import *\n",
    "\n",
    "dataset = 'TCGA'\n",
    "dataset_dir = os.path.join(DATA_ROOT, dataset)\n",
    "os.listdir(dataset_dir)[:]"
   ]
  },
  {
   "cell_type": "markdown",
   "metadata": {
    "collapsed": false
   },
   "source": [
    "If no match is found, jump directly to GEO in Part 2.2"
   ]
  },
  {
   "cell_type": "code",
   "execution_count": 27,
   "metadata": {
    "collapsed": false
   },
   "outputs": [],
   "source": [
    "trait_subdir = \"TCGA_Lung_Cancer_(LUNG)\"\n",
    "cohort = 'Xena'\n",
    "# All the cancer traits in Xena are binary\n",
    "trait_type = 'binary'\n",
    "# Once a relevant cohort is found in Xena, we can generally assume the gene and clinical data are available\n",
    "is_available = True\n",
    "\n",
    "clinical_data_file = os.path.join(dataset_dir, trait_subdir, 'TCGA.LUNG.sampleMap_LUNG_clinicalMatrix')\n",
    "genetic_data_file = os.path.join(dataset_dir, trait_subdir, 'TCGA.LUNG.sampleMap_HiSeqV2_PANCAN.gz')"
   ]
  },
  {
   "cell_type": "code",
   "execution_count": 28,
   "metadata": {
    "id": "MudwB-_iz7sc"
   },
   "outputs": [
    {
     "ename": "ParserError",
     "evalue": "Error tokenizing data. C error: Calling read(nbytes) on source failed. Try engine='python'.",
     "output_type": "error",
     "traceback": [
      "\u001b[0;31m---------------------------------------------------------------------------\u001b[0m",
      "\u001b[0;31mParserError\u001b[0m                               Traceback (most recent call last)",
      "\u001b[1;32m/home/yxcheng/AI4Science_gold_standard/stage1/Yuxuan/Psoriasis.ipynb 单元格 12\u001b[0m line \u001b[0;36m4\n\u001b[1;32m      <a href='vscode-notebook-cell://ssh-remote%2B218.199.69.68/home/yxcheng/AI4Science_gold_standard/stage1/Yuxuan/Psoriasis.ipynb#X14sdnNjb2RlLXJlbW90ZQ%3D%3D?line=0'>1</a>\u001b[0m \u001b[39mimport\u001b[39;00m \u001b[39mpandas\u001b[39;00m \u001b[39mas\u001b[39;00m \u001b[39mpd\u001b[39;00m\n\u001b[1;32m      <a href='vscode-notebook-cell://ssh-remote%2B218.199.69.68/home/yxcheng/AI4Science_gold_standard/stage1/Yuxuan/Psoriasis.ipynb#X14sdnNjb2RlLXJlbW90ZQ%3D%3D?line=2'>3</a>\u001b[0m clinical_data \u001b[39m=\u001b[39m pd\u001b[39m.\u001b[39mread_csv(clinical_data_file, sep\u001b[39m=\u001b[39m\u001b[39m'\u001b[39m\u001b[39m\\t\u001b[39;00m\u001b[39m'\u001b[39m, index_col\u001b[39m=\u001b[39m\u001b[39m0\u001b[39m)\n\u001b[0;32m----> <a href='vscode-notebook-cell://ssh-remote%2B218.199.69.68/home/yxcheng/AI4Science_gold_standard/stage1/Yuxuan/Psoriasis.ipynb#X14sdnNjb2RlLXJlbW90ZQ%3D%3D?line=3'>4</a>\u001b[0m genetic_data \u001b[39m=\u001b[39m pd\u001b[39m.\u001b[39;49mread_csv(genetic_data_file, compression\u001b[39m=\u001b[39;49m\u001b[39m'\u001b[39;49m\u001b[39mgzip\u001b[39;49m\u001b[39m'\u001b[39;49m, sep\u001b[39m=\u001b[39;49m\u001b[39m'\u001b[39;49m\u001b[39m\\t\u001b[39;49;00m\u001b[39m'\u001b[39;49m, index_col\u001b[39m=\u001b[39;49m\u001b[39m0\u001b[39;49m)\n\u001b[1;32m      <a href='vscode-notebook-cell://ssh-remote%2B218.199.69.68/home/yxcheng/AI4Science_gold_standard/stage1/Yuxuan/Psoriasis.ipynb#X14sdnNjb2RlLXJlbW90ZQ%3D%3D?line=4'>5</a>\u001b[0m age_col \u001b[39m=\u001b[39m gender_col \u001b[39m=\u001b[39m \u001b[39mNone\u001b[39;00m\n",
      "File \u001b[0;32m~/anaconda3/envs/ai4sci/lib/python3.10/site-packages/pandas/io/parsers/readers.py:948\u001b[0m, in \u001b[0;36mread_csv\u001b[0;34m(filepath_or_buffer, sep, delimiter, header, names, index_col, usecols, dtype, engine, converters, true_values, false_values, skipinitialspace, skiprows, skipfooter, nrows, na_values, keep_default_na, na_filter, verbose, skip_blank_lines, parse_dates, infer_datetime_format, keep_date_col, date_parser, date_format, dayfirst, cache_dates, iterator, chunksize, compression, thousands, decimal, lineterminator, quotechar, quoting, doublequote, escapechar, comment, encoding, encoding_errors, dialect, on_bad_lines, delim_whitespace, low_memory, memory_map, float_precision, storage_options, dtype_backend)\u001b[0m\n\u001b[1;32m    935\u001b[0m kwds_defaults \u001b[39m=\u001b[39m _refine_defaults_read(\n\u001b[1;32m    936\u001b[0m     dialect,\n\u001b[1;32m    937\u001b[0m     delimiter,\n\u001b[0;32m   (...)\u001b[0m\n\u001b[1;32m    944\u001b[0m     dtype_backend\u001b[39m=\u001b[39mdtype_backend,\n\u001b[1;32m    945\u001b[0m )\n\u001b[1;32m    946\u001b[0m kwds\u001b[39m.\u001b[39mupdate(kwds_defaults)\n\u001b[0;32m--> 948\u001b[0m \u001b[39mreturn\u001b[39;00m _read(filepath_or_buffer, kwds)\n",
      "File \u001b[0;32m~/anaconda3/envs/ai4sci/lib/python3.10/site-packages/pandas/io/parsers/readers.py:617\u001b[0m, in \u001b[0;36m_read\u001b[0;34m(filepath_or_buffer, kwds)\u001b[0m\n\u001b[1;32m    614\u001b[0m     \u001b[39mreturn\u001b[39;00m parser\n\u001b[1;32m    616\u001b[0m \u001b[39mwith\u001b[39;00m parser:\n\u001b[0;32m--> 617\u001b[0m     \u001b[39mreturn\u001b[39;00m parser\u001b[39m.\u001b[39;49mread(nrows)\n",
      "File \u001b[0;32m~/anaconda3/envs/ai4sci/lib/python3.10/site-packages/pandas/io/parsers/readers.py:1748\u001b[0m, in \u001b[0;36mTextFileReader.read\u001b[0;34m(self, nrows)\u001b[0m\n\u001b[1;32m   1741\u001b[0m nrows \u001b[39m=\u001b[39m validate_integer(\u001b[39m\"\u001b[39m\u001b[39mnrows\u001b[39m\u001b[39m\"\u001b[39m, nrows)\n\u001b[1;32m   1742\u001b[0m \u001b[39mtry\u001b[39;00m:\n\u001b[1;32m   1743\u001b[0m     \u001b[39m# error: \"ParserBase\" has no attribute \"read\"\u001b[39;00m\n\u001b[1;32m   1744\u001b[0m     (\n\u001b[1;32m   1745\u001b[0m         index,\n\u001b[1;32m   1746\u001b[0m         columns,\n\u001b[1;32m   1747\u001b[0m         col_dict,\n\u001b[0;32m-> 1748\u001b[0m     ) \u001b[39m=\u001b[39m \u001b[39mself\u001b[39;49m\u001b[39m.\u001b[39;49m_engine\u001b[39m.\u001b[39;49mread(  \u001b[39m# type: ignore[attr-defined]\u001b[39;49;00m\n\u001b[1;32m   1749\u001b[0m         nrows\n\u001b[1;32m   1750\u001b[0m     )\n\u001b[1;32m   1751\u001b[0m \u001b[39mexcept\u001b[39;00m \u001b[39mException\u001b[39;00m:\n\u001b[1;32m   1752\u001b[0m     \u001b[39mself\u001b[39m\u001b[39m.\u001b[39mclose()\n",
      "File \u001b[0;32m~/anaconda3/envs/ai4sci/lib/python3.10/site-packages/pandas/io/parsers/c_parser_wrapper.py:234\u001b[0m, in \u001b[0;36mCParserWrapper.read\u001b[0;34m(self, nrows)\u001b[0m\n\u001b[1;32m    232\u001b[0m \u001b[39mtry\u001b[39;00m:\n\u001b[1;32m    233\u001b[0m     \u001b[39mif\u001b[39;00m \u001b[39mself\u001b[39m\u001b[39m.\u001b[39mlow_memory:\n\u001b[0;32m--> 234\u001b[0m         chunks \u001b[39m=\u001b[39m \u001b[39mself\u001b[39;49m\u001b[39m.\u001b[39;49m_reader\u001b[39m.\u001b[39;49mread_low_memory(nrows)\n\u001b[1;32m    235\u001b[0m         \u001b[39m# destructive to chunks\u001b[39;00m\n\u001b[1;32m    236\u001b[0m         data \u001b[39m=\u001b[39m _concatenate_chunks(chunks)\n",
      "File \u001b[0;32mparsers.pyx:843\u001b[0m, in \u001b[0;36mpandas._libs.parsers.TextReader.read_low_memory\u001b[0;34m()\u001b[0m\n",
      "File \u001b[0;32mparsers.pyx:904\u001b[0m, in \u001b[0;36mpandas._libs.parsers.TextReader._read_rows\u001b[0;34m()\u001b[0m\n",
      "File \u001b[0;32mparsers.pyx:879\u001b[0m, in \u001b[0;36mpandas._libs.parsers.TextReader._tokenize_rows\u001b[0;34m()\u001b[0m\n",
      "File \u001b[0;32mparsers.pyx:890\u001b[0m, in \u001b[0;36mpandas._libs.parsers.TextReader._check_tokenize_status\u001b[0;34m()\u001b[0m\n",
      "File \u001b[0;32mparsers.pyx:2058\u001b[0m, in \u001b[0;36mpandas._libs.parsers.raise_parser_error\u001b[0;34m()\u001b[0m\n",
      "\u001b[0;31mParserError\u001b[0m: Error tokenizing data. C error: Calling read(nbytes) on source failed. Try engine='python'."
     ]
    }
   ],
   "source": [
    "import pandas as pd\n",
    "\n",
    "clinical_data = pd.read_csv(clinical_data_file, sep='\\t', index_col=0)\n",
    "genetic_data = pd.read_csv(genetic_data_file, compression='gzip', sep='\\t', index_col=0)\n",
    "age_col = gender_col = None"
   ]
  },
  {
   "cell_type": "code",
   "execution_count": null,
   "metadata": {
    "collapsed": false
   },
   "outputs": [],
   "source": [
    "_, clinical_data_cols = check_rows_and_columns(clinical_data)"
   ]
  },
  {
   "cell_type": "code",
   "execution_count": null,
   "metadata": {
    "collapsed": false
   },
   "outputs": [
    {
     "data": {
      "text/plain": [
       "['ABSOLUTE_Ploidy',\n",
       " 'ABSOLUTE_Purity',\n",
       " 'AKT1',\n",
       " 'ALK_translocation',\n",
       " 'BRAF',\n",
       " 'CBL',\n",
       " 'CTNNB1',\n",
       " 'Canonical_mut_in_KRAS_EGFR_ALK',\n",
       " 'Cnncl_mt_n_KRAS_EGFR_ALK_RET_ROS1_BRAF_ERBB2_HRAS_NRAS_AKT1_MAP2',\n",
       " 'EGFR']"
      ]
     },
     "execution_count": 8,
     "metadata": {},
     "output_type": "execute_result"
    }
   ],
   "source": [
    "clinical_data_cols[:10]"
   ]
  },
  {
   "cell_type": "markdown",
   "metadata": {
    "ExecuteTime": {
     "end_time": "2023-12-28T20:20:11.841042813Z",
     "start_time": "2023-12-28T20:20:11.834458206Z"
    },
    "collapsed": false
   },
   "source": [
    "Read all the column names in the clinical dataset, to find the columns that record information about age or gender.\n",
    "Reference prompt:"
   ]
  },
  {
   "cell_type": "code",
   "execution_count": null,
   "metadata": {
    "collapsed": false
   },
   "outputs": [
    {
     "data": {
      "text/plain": [
       "\"\\nBelow is a list of column names from a biomedical dataset. Please examine it and identify the columns that are likely to contain information about patients' age. Additionally, please do the same for columns that may hold data on patients' gender. Please provide your answer by strictly following this format, without redundant words:\\ncandidate_age_cols = [col_name1, col_name2, ...]\\ncandidate_gender_cols = [col_name1, col_name2, ...]\\nIf no columns match a criterion, please provide an empty list.\\n\\nColumn names:\\n['ABSOLUTE_Ploidy', 'ABSOLUTE_Purity', 'AKT1', 'ALK_translocation', 'BRAF', 'CBL', 'CTNNB1', 'Canonical_mut_in_KRAS_EGFR_ALK', 'Cnncl_mt_n_KRAS_EGFR_ALK_RET_ROS1_BRAF_ERBB2_HRAS_NRAS_AKT1_MAP2', 'EGFR', 'ERBB2', 'ERBB4', 'Estimated_allele_fraction_of_a_clonal_varnt_prsnt_t_1_cpy_pr_cll', 'Expression_Subtype', 'HRAS', 'KRAS', 'MAP2K1', 'MET', 'NRAS', 'PIK3CA', 'PTPN11', 'Pathology', 'Pathology_Updated', 'RET_translocation', 'ROS1_translocation', 'STK11', 'WGS_as_of_20120731_0_no_1_yes', '_INTEGRATION', '_PANCAN_CNA_PANCAN_K8', '_PANCAN_Cluster_Cluster_PANCAN', '_PANCAN_DNAMethyl_PANCAN', '_PANCAN_RPPA_PANCAN_K8', '_PANCAN_UNC_RNAseq_PANCAN_K16', '_PANCAN_miRNA_PANCAN', '_PANCAN_mutation_PANCAN', '_PATIENT', '_cohort', '_primary_disease', '_primary_site', 'additional_pharmaceutical_therapy', 'additional_radiation_therapy', 'additional_surgery_locoregional_procedure', 'additional_surgery_metastatic_procedure', 'age_at_initial_pathologic_diagnosis', 'anatomic_neoplasm_subdivision', 'anatomic_neoplasm_subdivision_other', 'bcr_followup_barcode', 'bcr_patient_barcode', 'bcr_sample_barcode', 'days_to_additional_surgery_locoregional_procedure', 'days_to_additional_surgery_metastatic_procedure', 'days_to_birth', 'days_to_collection', 'days_to_death', 'days_to_initial_pathologic_diagnosis', 'days_to_last_followup', 'days_to_new_tumor_event_after_initial_treatment', 'disease_code', 'dlco_predictive_percent', 'eastern_cancer_oncology_group', 'egfr_mutation_performed', 'egfr_mutation_result', 'eml4_alk_translocation_method', 'eml4_alk_translocation_performed', 'followup_case_report_form_submission_reason', 'followup_treatment_success', 'form_completion_date', 'gender', 'histological_type', 'history_of_neoadjuvant_treatment', 'icd_10', 'icd_o_3_histology', 'icd_o_3_site', 'informed_consent_verified', 'initial_weight', 'intermediate_dimension', 'is_ffpe', 'karnofsky_performance_score', 'kras_gene_analysis_performed', 'kras_mutation_found', 'kras_mutation_result', 'location_in_lung_parenchyma', 'longest_dimension', 'lost_follow_up', 'new_neoplasm_event_type', 'new_tumor_event_after_initial_treatment', 'number_pack_years_smoked', 'oct_embedded', 'other_dx', 'pathologic_M', 'pathologic_N', 'pathologic_T', 'pathologic_stage', 'pathology_report_file_name', 'patient_id', 'performance_status_scale_timing', 'person_neoplasm_cancer_status', 'post_bronchodilator_fev1_fvc_percent', 'post_bronchodilator_fev1_percent', 'pre_bronchodilator_fev1_fvc_percent', 'pre_bronchodilator_fev1_percent', 'primary_therapy_outcome_success', 'progression_determined_by', 'project_code', 'pulmonary_function_test_performed', 'radiation_therapy', 'residual_tumor', 'sample_type', 'sample_type_id', 'shortest_dimension', 'stopped_smoking_year', 'system_version', 'targeted_molecular_therapy', 'tissue_prospective_collection_indicator', 'tissue_retrospective_collection_indicator', 'tissue_source_site', 'tobacco_smoking_history', 'tobacco_smoking_history_indicator', 'tumor_tissue_site', 'vial_number', 'vital_status', 'year_of_initial_pathologic_diagnosis', 'year_of_tobacco_smoking_onset', '_GENOMIC_ID_TCGA_LUNG_exp_HiSeqV2_exon', '_GENOMIC_ID_TCGA_LUNG_hMethyl27', '_GENOMIC_ID_TCGA_LUNG_mutation', '_GENOMIC_ID_TCGA_LUNG_exp_HiSeqV2_PANCAN', '_GENOMIC_ID_TCGA_LUNG_hMethyl450', '_GENOMIC_ID_TCGA_LUNG_gistic2thd', '_GENOMIC_ID_TCGA_LUNG_G4502A_07_3', '_GENOMIC_ID_TCGA_LUNG_exp_HiSeqV2', '_GENOMIC_ID_TCGA_LUNG_gistic2', '_GENOMIC_ID_TCGA_LUNG_RPPA_RBN']\\n\""
      ]
     },
     "execution_count": 9,
     "metadata": {},
     "output_type": "execute_result"
    }
   ],
   "source": [
    "f'''\n",
    "Below is a list of column names from a biomedical dataset. Please examine it and identify the columns that are likely to contain information about patients' age. Additionally, please do the same for columns that may hold data on patients' gender. Please provide your answer by strictly following this format, without redundant words:\n",
    "candidate_age_cols = [col_name1, col_name2, ...]\n",
    "candidate_gender_cols = [col_name1, col_name2, ...]\n",
    "If no columns match a criterion, please provide an empty list.\n",
    "\n",
    "Column names:\n",
    "{clinical_data_cols}\n",
    "'''"
   ]
  },
  {
   "cell_type": "code",
   "execution_count": null,
   "metadata": {
    "collapsed": false
   },
   "outputs": [],
   "source": [
    "candidate_age_cols = ['age_at_initial_pathologic_diagnosis', 'days_to_birth', 'days_to_collection', 'days_to_death', 'days_to_initial_pathologic_diagnosis', 'days_to_last_followup', 'days_to_new_tumor_event_after_initial_treatment', 'stopped_smoking_year', 'year_of_initial_pathologic_diagnosis', 'year_of_tobacco_smoking_onset']\n",
    "\n",
    "candidate_gender_cols = ['gender']"
   ]
  },
  {
   "cell_type": "markdown",
   "metadata": {
    "ExecuteTime": {
     "end_time": "2023-12-31T03:57:44.207565572Z",
     "start_time": "2023-12-31T03:57:44.202177544Z"
    },
    "collapsed": false
   },
   "source": [
    "Choose a single column from the candidate columns that record age and gender information respectively.\n",
    "If no column meets the requirement, keep 'age_col' or 'gender_col' to None"
   ]
  },
  {
   "cell_type": "code",
   "execution_count": null,
   "metadata": {
    "collapsed": false
   },
   "outputs": [
    {
     "data": {
      "text/plain": [
       "{'age_at_initial_pathologic_diagnosis': [70.0, 67.0, 79.0, 68.0, 66.0],\n",
       " 'days_to_birth': [-25752.0, -24532.0, -29068.0, -24868.0, -24411.0],\n",
       " 'days_to_collection': [nan, nan, nan, nan, nan],\n",
       " 'days_to_death': [nan, nan, '121', nan, nan],\n",
       " 'days_to_initial_pathologic_diagnosis': [0.0, 0.0, 0.0, 0.0, 0.0],\n",
       " 'days_to_last_followup': ['0', '1523', nan, '607', '426'],\n",
       " 'days_to_new_tumor_event_after_initial_treatment': [nan,\n",
       "  nan,\n",
       "  nan,\n",
       "  334.0,\n",
       "  183.0],\n",
       " 'stopped_smoking_year': [nan, nan, nan, nan, 1987.0],\n",
       " 'year_of_initial_pathologic_diagnosis': [2009.0,\n",
       "  2007.0,\n",
       "  2007.0,\n",
       "  2009.0,\n",
       "  2009.0],\n",
       " 'year_of_tobacco_smoking_onset': [nan, nan, nan, nan, 1963.0]}"
      ]
     },
     "execution_count": 11,
     "metadata": {},
     "output_type": "execute_result"
    }
   ],
   "source": [
    "preview_df(clinical_data[candidate_age_cols])"
   ]
  },
  {
   "cell_type": "code",
   "execution_count": null,
   "metadata": {
    "collapsed": false
   },
   "outputs": [],
   "source": [
    "age_col = 'age_at_initial_pathologic_diagnosis'"
   ]
  },
  {
   "cell_type": "code",
   "execution_count": null,
   "metadata": {
    "collapsed": false
   },
   "outputs": [
    {
     "data": {
      "text/plain": [
       "{'gender': ['MALE', 'MALE', 'FEMALE', 'MALE', 'MALE']}"
      ]
     },
     "execution_count": 13,
     "metadata": {},
     "output_type": "execute_result"
    }
   ],
   "source": [
    "preview_df(clinical_data[candidate_gender_cols])"
   ]
  },
  {
   "cell_type": "code",
   "execution_count": null,
   "metadata": {
    "collapsed": false
   },
   "outputs": [],
   "source": [
    "gender_col = 'gender'"
   ]
  },
  {
   "cell_type": "code",
   "execution_count": null,
   "metadata": {
    "collapsed": false
   },
   "outputs": [],
   "source": [
    "selected_clinical_data = xena_select_clinical_features(clinical_data, TRAIT, age_col, gender_col)"
   ]
  },
  {
   "cell_type": "code",
   "execution_count": null,
   "metadata": {
    "collapsed": false
   },
   "outputs": [],
   "source": [
    "if NORMALIZE_GENE:\n",
    "    genetic_data = normalize_gene_symbols_in_index(genetic_data)"
   ]
  },
  {
   "cell_type": "code",
   "execution_count": null,
   "metadata": {
    "collapsed": false
   },
   "outputs": [
    {
     "data": {
      "text/html": [
       "<div>\n",
       "<style scoped>\n",
       "    .dataframe tbody tr th:only-of-type {\n",
       "        vertical-align: middle;\n",
       "    }\n",
       "\n",
       "    .dataframe tbody tr th {\n",
       "        vertical-align: top;\n",
       "    }\n",
       "\n",
       "    .dataframe thead th {\n",
       "        text-align: right;\n",
       "    }\n",
       "</style>\n",
       "<table border=\"1\" class=\"dataframe\">\n",
       "  <thead>\n",
       "    <tr style=\"text-align: right;\">\n",
       "      <th></th>\n",
       "      <th>Lung-Cancer</th>\n",
       "      <th>Age</th>\n",
       "      <th>Gender</th>\n",
       "      <th>ARHGEF10L</th>\n",
       "      <th>HIF3A</th>\n",
       "      <th>RNF17</th>\n",
       "      <th>RNF10</th>\n",
       "      <th>RNF11</th>\n",
       "      <th>RNF13</th>\n",
       "      <th>GTF2IP1</th>\n",
       "      <th>...</th>\n",
       "      <th>TULP2</th>\n",
       "      <th>NPY5R</th>\n",
       "      <th>GNGT2</th>\n",
       "      <th>GNGT1</th>\n",
       "      <th>TULP3</th>\n",
       "      <th>PTRF</th>\n",
       "      <th>BCL6B</th>\n",
       "      <th>GSTK1</th>\n",
       "      <th>SELP</th>\n",
       "      <th>SELS</th>\n",
       "    </tr>\n",
       "    <tr>\n",
       "      <th>sampleID</th>\n",
       "      <th></th>\n",
       "      <th></th>\n",
       "      <th></th>\n",
       "      <th></th>\n",
       "      <th></th>\n",
       "      <th></th>\n",
       "      <th></th>\n",
       "      <th></th>\n",
       "      <th></th>\n",
       "      <th></th>\n",
       "      <th></th>\n",
       "      <th></th>\n",
       "      <th></th>\n",
       "      <th></th>\n",
       "      <th></th>\n",
       "      <th></th>\n",
       "      <th></th>\n",
       "      <th></th>\n",
       "      <th></th>\n",
       "      <th></th>\n",
       "      <th></th>\n",
       "    </tr>\n",
       "  </thead>\n",
       "  <tbody>\n",
       "    <tr>\n",
       "      <th>TCGA-05-4244-01</th>\n",
       "      <td>1</td>\n",
       "      <td>70.0</td>\n",
       "      <td>1.0</td>\n",
       "      <td>-0.056592</td>\n",
       "      <td>2.128674</td>\n",
       "      <td>-0.531035</td>\n",
       "      <td>-0.185972</td>\n",
       "      <td>-0.190878</td>\n",
       "      <td>-0.11891</td>\n",
       "      <td>-0.659794</td>\n",
       "      <td>...</td>\n",
       "      <td>0.015022</td>\n",
       "      <td>-1.155117</td>\n",
       "      <td>0.528367</td>\n",
       "      <td>2.75061</td>\n",
       "      <td>0.428423</td>\n",
       "      <td>-0.639586</td>\n",
       "      <td>-0.195527</td>\n",
       "      <td>-0.324695</td>\n",
       "      <td>0.193167</td>\n",
       "      <td>-0.572812</td>\n",
       "    </tr>\n",
       "    <tr>\n",
       "      <th>TCGA-05-4249-01</th>\n",
       "      <td>1</td>\n",
       "      <td>67.0</td>\n",
       "      <td>1.0</td>\n",
       "      <td>-0.569692</td>\n",
       "      <td>-0.318126</td>\n",
       "      <td>-0.531035</td>\n",
       "      <td>0.237428</td>\n",
       "      <td>0.011822</td>\n",
       "      <td>-0.00611</td>\n",
       "      <td>1.018406</td>\n",
       "      <td>...</td>\n",
       "      <td>-0.031778</td>\n",
       "      <td>-0.393117</td>\n",
       "      <td>1.632467</td>\n",
       "      <td>2.33551</td>\n",
       "      <td>-0.145577</td>\n",
       "      <td>-0.997486</td>\n",
       "      <td>-0.276027</td>\n",
       "      <td>-1.219395</td>\n",
       "      <td>1.850967</td>\n",
       "      <td>-0.471212</td>\n",
       "    </tr>\n",
       "    <tr>\n",
       "      <th>TCGA-05-4250-01</th>\n",
       "      <td>1</td>\n",
       "      <td>79.0</td>\n",
       "      <td>0.0</td>\n",
       "      <td>-0.899992</td>\n",
       "      <td>-0.918126</td>\n",
       "      <td>-0.531035</td>\n",
       "      <td>-0.621472</td>\n",
       "      <td>-0.454178</td>\n",
       "      <td>0.58719</td>\n",
       "      <td>-0.198894</td>\n",
       "      <td>...</td>\n",
       "      <td>-0.748878</td>\n",
       "      <td>-1.173917</td>\n",
       "      <td>1.966367</td>\n",
       "      <td>-1.28139</td>\n",
       "      <td>-0.374877</td>\n",
       "      <td>0.959514</td>\n",
       "      <td>0.714373</td>\n",
       "      <td>0.112305</td>\n",
       "      <td>-0.532833</td>\n",
       "      <td>-0.003812</td>\n",
       "    </tr>\n",
       "    <tr>\n",
       "      <th>TCGA-05-4382-01</th>\n",
       "      <td>1</td>\n",
       "      <td>68.0</td>\n",
       "      <td>1.0</td>\n",
       "      <td>0.667508</td>\n",
       "      <td>3.895974</td>\n",
       "      <td>-0.221535</td>\n",
       "      <td>-0.367272</td>\n",
       "      <td>0.131822</td>\n",
       "      <td>0.97629</td>\n",
       "      <td>-0.494994</td>\n",
       "      <td>...</td>\n",
       "      <td>1.013722</td>\n",
       "      <td>-1.587117</td>\n",
       "      <td>0.359267</td>\n",
       "      <td>2.59051</td>\n",
       "      <td>0.806623</td>\n",
       "      <td>0.812114</td>\n",
       "      <td>0.367373</td>\n",
       "      <td>-0.494595</td>\n",
       "      <td>-1.062233</td>\n",
       "      <td>0.108588</td>\n",
       "    </tr>\n",
       "    <tr>\n",
       "      <th>TCGA-05-4384-01</th>\n",
       "      <td>1</td>\n",
       "      <td>66.0</td>\n",
       "      <td>1.0</td>\n",
       "      <td>-0.316892</td>\n",
       "      <td>2.380374</td>\n",
       "      <td>0.156865</td>\n",
       "      <td>0.232828</td>\n",
       "      <td>0.054822</td>\n",
       "      <td>0.27059</td>\n",
       "      <td>0.128606</td>\n",
       "      <td>...</td>\n",
       "      <td>-0.060978</td>\n",
       "      <td>-0.435417</td>\n",
       "      <td>1.111467</td>\n",
       "      <td>-1.28139</td>\n",
       "      <td>-0.128477</td>\n",
       "      <td>0.110214</td>\n",
       "      <td>1.469373</td>\n",
       "      <td>0.194605</td>\n",
       "      <td>1.404667</td>\n",
       "      <td>-0.290712</td>\n",
       "    </tr>\n",
       "  </tbody>\n",
       "</table>\n",
       "<p>5 rows × 20533 columns</p>\n",
       "</div>"
      ],
      "text/plain": [
       "                 Lung-Cancer   Age  Gender  ARHGEF10L     HIF3A     RNF17  \\\n",
       "sampleID                                                                    \n",
       "TCGA-05-4244-01            1  70.0     1.0  -0.056592  2.128674 -0.531035   \n",
       "TCGA-05-4249-01            1  67.0     1.0  -0.569692 -0.318126 -0.531035   \n",
       "TCGA-05-4250-01            1  79.0     0.0  -0.899992 -0.918126 -0.531035   \n",
       "TCGA-05-4382-01            1  68.0     1.0   0.667508  3.895974 -0.221535   \n",
       "TCGA-05-4384-01            1  66.0     1.0  -0.316892  2.380374  0.156865   \n",
       "\n",
       "                    RNF10     RNF11    RNF13   GTF2IP1  ...     TULP2  \\\n",
       "sampleID                                                ...             \n",
       "TCGA-05-4244-01 -0.185972 -0.190878 -0.11891 -0.659794  ...  0.015022   \n",
       "TCGA-05-4249-01  0.237428  0.011822 -0.00611  1.018406  ... -0.031778   \n",
       "TCGA-05-4250-01 -0.621472 -0.454178  0.58719 -0.198894  ... -0.748878   \n",
       "TCGA-05-4382-01 -0.367272  0.131822  0.97629 -0.494994  ...  1.013722   \n",
       "TCGA-05-4384-01  0.232828  0.054822  0.27059  0.128606  ... -0.060978   \n",
       "\n",
       "                    NPY5R     GNGT2    GNGT1     TULP3      PTRF     BCL6B  \\\n",
       "sampleID                                                                     \n",
       "TCGA-05-4244-01 -1.155117  0.528367  2.75061  0.428423 -0.639586 -0.195527   \n",
       "TCGA-05-4249-01 -0.393117  1.632467  2.33551 -0.145577 -0.997486 -0.276027   \n",
       "TCGA-05-4250-01 -1.173917  1.966367 -1.28139 -0.374877  0.959514  0.714373   \n",
       "TCGA-05-4382-01 -1.587117  0.359267  2.59051  0.806623  0.812114  0.367373   \n",
       "TCGA-05-4384-01 -0.435417  1.111467 -1.28139 -0.128477  0.110214  1.469373   \n",
       "\n",
       "                    GSTK1      SELP      SELS  \n",
       "sampleID                                       \n",
       "TCGA-05-4244-01 -0.324695  0.193167 -0.572812  \n",
       "TCGA-05-4249-01 -1.219395  1.850967 -0.471212  \n",
       "TCGA-05-4250-01  0.112305 -0.532833 -0.003812  \n",
       "TCGA-05-4382-01 -0.494595 -1.062233  0.108588  \n",
       "TCGA-05-4384-01  0.194605  1.404667 -0.290712  \n",
       "\n",
       "[5 rows x 20533 columns]"
      ]
     },
     "execution_count": 17,
     "metadata": {},
     "output_type": "execute_result"
    }
   ],
   "source": [
    "merged_data = selected_clinical_data.join(genetic_data.T).dropna()\n",
    "merged_data.head()"
   ]
  },
  {
   "cell_type": "code",
   "execution_count": null,
   "metadata": {
    "collapsed": false
   },
   "outputs": [
    {
     "name": "stdout",
     "output_type": "stream",
     "text": [
      "The merged dataset contains 1100 samples.\n"
     ]
    }
   ],
   "source": [
    "print(f\"The merged dataset contains {len(merged_data)} samples.\")"
   ]
  },
  {
   "cell_type": "code",
   "execution_count": null,
   "metadata": {
    "collapsed": false
   },
   "outputs": [
    {
     "name": "stdout",
     "output_type": "stream",
     "text": [
      "For the feature 'Lung-Cancer', the least common label is '0' with 110 occurrences. This represents 10.00% of the dataset.\n",
      "The distribution of the feature 'Lung-Cancer' in this dataset is fine.\n",
      "\n",
      "Quartiles for 'Age':\n",
      "  25%: 60.0\n",
      "  50% (Median): 67.0\n",
      "  75%: 73.0\n",
      "Min: 38.0\n",
      "Max: 90.0\n",
      "The distribution of the feature 'Age' in this dataset is fine.\n",
      "\n",
      "For the feature 'Gender', the least common label is '0.0' with 443 occurrences. This represents 40.27% of the dataset.\n",
      "The distribution of the feature 'Gender' in this dataset is fine.\n",
      "\n"
     ]
    },
    {
     "data": {
      "text/plain": [
       "False"
      ]
     },
     "execution_count": 19,
     "metadata": {},
     "output_type": "execute_result"
    }
   ],
   "source": [
    "is_trait_biased, merge_data = judge_and_remove_biased_features(merged_data, TRAIT, trait_type=trait_type)\n",
    "is_trait_biased"
   ]
  },
  {
   "cell_type": "code",
   "execution_count": null,
   "metadata": {
    "collapsed": false
   },
   "outputs": [],
   "source": [
    "merged_data.head()\n",
    "if not is_trait_biased:\n",
    "    merge_data.to_csv(os.path.join(OUTPUT_DIR, cohort+'.csv'), index=False)"
   ]
  },
  {
   "cell_type": "code",
   "execution_count": null,
   "metadata": {
    "collapsed": false
   },
   "outputs": [
    {
     "name": "stdout",
     "output_type": "stream",
     "text": [
      "A new JSON file was created at: ../../output1/Yuxuan/Lung-Cancer/cohort_info.json\n"
     ]
    }
   ],
   "source": [
    "save_cohort_info(cohort, JSON_PATH, is_available, is_trait_biased, merged_data)"
   ]
  },
  {
   "cell_type": "markdown",
   "metadata": {
    "ExecuteTime": {
     "end_time": "2023-12-28T21:28:38.028916303Z",
     "start_time": "2023-12-28T21:28:38.016245426Z"
    },
    "collapsed": false
   },
   "source": [
    "## 2.2. The GEO dataset"
   ]
  },
  {
   "cell_type": "markdown",
   "metadata": {
    "ExecuteTime": {
     "end_time": "2023-12-31T03:25:23.253882615Z",
     "start_time": "2023-12-31T03:25:23.244062710Z"
    },
    "collapsed": false
   },
   "source": [
    "In GEO, there may be one or multiple cohorts for a trait. Each cohort is identified by an accession number. We iterate over all accession numbers in the corresponding subdirectory, preprocess the cohort data, and save them to csv files."
   ]
  },
  {
   "cell_type": "code",
   "execution_count": 6,
   "metadata": {
    "ExecuteTime": {
     "end_time": "2024-01-02T01:02:59.503572381Z",
     "start_time": "2024-01-02T01:02:59.491400342Z"
    },
    "collapsed": false
   },
   "outputs": [
    {
     "data": {
      "text/plain": [
       "['GSE245862']"
      ]
     },
     "execution_count": 6,
     "metadata": {},
     "output_type": "execute_result"
    }
   ],
   "source": [
    "dataset = 'GEO'\n",
    "trait_subdir = \"Social-Behavior\"\n",
    "\n",
    "trait_path = os.path.join(DATA_ROOT, dataset, trait_subdir)\n",
    "os.listdir(trait_path)"
   ]
  },
  {
   "cell_type": "markdown",
   "metadata": {
    "ExecuteTime": {
     "end_time": "2023-12-31T03:39:42.634870142Z",
     "start_time": "2023-12-31T03:39:42.534093295Z"
    },
    "collapsed": false
   },
   "source": [
    "Repeat the below steps for all the accession numbers"
   ]
  },
  {
   "cell_type": "code",
   "execution_count": 8,
   "metadata": {
    "ExecuteTime": {
     "end_time": "2024-01-02T01:03:00.287218362Z",
     "start_time": "2024-01-02T01:03:00.278758251Z"
    },
    "collapsed": false
   },
   "outputs": [
    {
     "data": {
      "text/plain": [
       "('/home/yxcheng/GEO/Social-Behavior/GSE245862/GSE245862_family.soft.gz',\n",
       " '/home/yxcheng/GEO/Social-Behavior/GSE245862/GSE245862_series_matrix.txt.gz')"
      ]
     },
     "execution_count": 8,
     "metadata": {},
     "output_type": "execute_result"
    }
   ],
   "source": [
    "cohort = accession_num = \"GSE245862\"\n",
    "cohort_dir = os.path.join(trait_path, accession_num)\n",
    "soft_file, matrix_file = get_relevant_filepaths(cohort_dir)\n",
    "soft_file, matrix_file"
   ]
  },
  {
   "cell_type": "markdown",
   "metadata": {
    "collapsed": false
   },
   "source": [
    "### Inital filtering and clinical data preprocessing"
   ]
  },
  {
   "cell_type": "code",
   "execution_count": 9,
   "metadata": {
    "ExecuteTime": {
     "end_time": "2024-01-02T01:03:01.634861460Z",
     "start_time": "2024-01-02T01:03:01.076370517Z"
    },
    "collapsed": false
   },
   "outputs": [
    {
     "name": "stdout",
     "output_type": "stream",
     "text": [
      "!Series_title\t\"STAT3 phosphorylation at serine 727 activates specific genetic programs and promotes clear cell renal cell carcinoma (ccRCC) aggressiveness\"\n",
      "!Series_summary\t\"The signal transducer and activator of transcription 3 (STAT3) is a transcription factor mainly activated by phosphorylation in either tyrosine 705 (Y705) or serine 727 (S727) residues that regulates essential processes such as cell differentiation, apoptosis inhibition, or cell survival.\"\n",
      "!Series_summary\t\"we used microarrays to evaluate the effects of the STAT3 phosphomutants on global gene expression and identify the genes and pathways regulated by different STAT3 phosphorylation states in the 769-P cell line.\"\n",
      "!Series_overall_design\t\"we have generated human-derived ccRCC cell lines carrying STAT3 Y705 and S727 phosphomutants to identify genes and pathways regulated by pS727 that could be distinguished from those regulated by pY705 or by the combination of both. First, 769-P cells were depleted of endogenous STAT3 using shRNA and STAT3 WT form was then rescued. On this rescued STAT3 gene backbone, Y705 and S727 STAT3 phosphomutants were generated by introducing structurally similar amino acids that prevent (phosphoablative) or mimic (phosphomimetic) phosphorylation for each residue. A phosphomimetic substitution for Y705, however, was not possible since tyrosine is an aromatic amino acid and neither aspartic nor glutamic acid resembles the structure or charge density of a phosphotyrosine. To overcome this, we used interleukin-6 (IL6), a classic activator of the JAK/STAT3 pathway via pY705.\"\n"
     ]
    }
   ],
   "source": [
    "background_prefixes = ['!Series_title', '!Series_summary', '!Series_overall_design']\n",
    "clinical_prefixes = ['!Sample_geo_accession', '!Sample_characteristics_ch1']\n",
    "\n",
    "background_info, clinical_data = get_background_and_clinical_data(matrix_file, background_prefixes, clinical_prefixes)\n",
    "print(background_info)"
   ]
  },
  {
   "cell_type": "code",
   "execution_count": 10,
   "metadata": {
    "ExecuteTime": {
     "end_time": "2024-01-02T01:03:01.642310454Z",
     "start_time": "2024-01-02T01:03:01.635048940Z"
    },
    "collapsed": false
   },
   "outputs": [
    {
     "data": {
      "text/html": [
       "<div>\n",
       "<style scoped>\n",
       "    .dataframe tbody tr th:only-of-type {\n",
       "        vertical-align: middle;\n",
       "    }\n",
       "\n",
       "    .dataframe tbody tr th {\n",
       "        vertical-align: top;\n",
       "    }\n",
       "\n",
       "    .dataframe thead th {\n",
       "        text-align: right;\n",
       "    }\n",
       "</style>\n",
       "<table border=\"1\" class=\"dataframe\">\n",
       "  <thead>\n",
       "    <tr style=\"text-align: right;\">\n",
       "      <th></th>\n",
       "      <th>!Sample_geo_accession</th>\n",
       "      <th>GSM7850012</th>\n",
       "      <th>GSM7850013</th>\n",
       "      <th>GSM7850014</th>\n",
       "      <th>GSM7850015</th>\n",
       "      <th>GSM7850016</th>\n",
       "      <th>GSM7850017</th>\n",
       "      <th>GSM7850018</th>\n",
       "      <th>GSM7850019</th>\n",
       "      <th>GSM7850020</th>\n",
       "      <th>...</th>\n",
       "      <th>GSM7850048</th>\n",
       "      <th>GSM7850049</th>\n",
       "      <th>GSM7850050</th>\n",
       "      <th>GSM7850051</th>\n",
       "      <th>GSM7850052</th>\n",
       "      <th>GSM7850053</th>\n",
       "      <th>GSM7850054</th>\n",
       "      <th>GSM7850055</th>\n",
       "      <th>GSM7850056</th>\n",
       "      <th>GSM7850057</th>\n",
       "    </tr>\n",
       "  </thead>\n",
       "  <tbody>\n",
       "    <tr>\n",
       "      <th>0</th>\n",
       "      <td>!Sample_characteristics_ch1</td>\n",
       "      <td>phenotype: Normal expression of endogenous STAT3</td>\n",
       "      <td>phenotype: Absence (reduction) of endogenous S...</td>\n",
       "      <td>phenotype: Absence (reduction) of endogenous S...</td>\n",
       "      <td>phenotype: Normal activity of STAT3</td>\n",
       "      <td>phenotype: Tyr705 cannot be phosphorylated, fr...</td>\n",
       "      <td>phenotype: Ser727 cannot be phosphorylated, fr...</td>\n",
       "      <td>phenotype: Ser727 artificially phosphorylated,...</td>\n",
       "      <td>phenotype: Both, Tyr705 and Ser727, cannot be ...</td>\n",
       "      <td>phenotype: Tyr705 cannot be phosphorylated, Se...</td>\n",
       "      <td>...</td>\n",
       "      <td>phenotype: Tyr705 cannot be phosphorylated, Se...</td>\n",
       "      <td>phenotype: Normal expression of endogenous STAT3</td>\n",
       "      <td>phenotype: Absence (reduction) of endogenous S...</td>\n",
       "      <td>phenotype: Absence (reduction) of endogenous S...</td>\n",
       "      <td>phenotype: Normal activity of STAT3</td>\n",
       "      <td>phenotype: Tyr705 cannot be phosphorylated, fr...</td>\n",
       "      <td>phenotype: Ser727 cannot be phosphorylated, fr...</td>\n",
       "      <td>phenotype: Ser727 artificially phosphorylated,...</td>\n",
       "      <td>phenotype: Both, Tyr705 and Ser727, cannot be ...</td>\n",
       "      <td>phenotype: Tyr705 cannot be phosphorylated, Se...</td>\n",
       "    </tr>\n",
       "  </tbody>\n",
       "</table>\n",
       "<p>1 rows × 46 columns</p>\n",
       "</div>"
      ],
      "text/plain": [
       "         !Sample_geo_accession  \\\n",
       "0  !Sample_characteristics_ch1   \n",
       "\n",
       "                                         GSM7850012  \\\n",
       "0  phenotype: Normal expression of endogenous STAT3   \n",
       "\n",
       "                                          GSM7850013  \\\n",
       "0  phenotype: Absence (reduction) of endogenous S...   \n",
       "\n",
       "                                          GSM7850014  \\\n",
       "0  phenotype: Absence (reduction) of endogenous S...   \n",
       "\n",
       "                            GSM7850015  \\\n",
       "0  phenotype: Normal activity of STAT3   \n",
       "\n",
       "                                          GSM7850016  \\\n",
       "0  phenotype: Tyr705 cannot be phosphorylated, fr...   \n",
       "\n",
       "                                          GSM7850017  \\\n",
       "0  phenotype: Ser727 cannot be phosphorylated, fr...   \n",
       "\n",
       "                                          GSM7850018  \\\n",
       "0  phenotype: Ser727 artificially phosphorylated,...   \n",
       "\n",
       "                                          GSM7850019  \\\n",
       "0  phenotype: Both, Tyr705 and Ser727, cannot be ...   \n",
       "\n",
       "                                          GSM7850020  ...  \\\n",
       "0  phenotype: Tyr705 cannot be phosphorylated, Se...  ...   \n",
       "\n",
       "                                          GSM7850048  \\\n",
       "0  phenotype: Tyr705 cannot be phosphorylated, Se...   \n",
       "\n",
       "                                         GSM7850049  \\\n",
       "0  phenotype: Normal expression of endogenous STAT3   \n",
       "\n",
       "                                          GSM7850050  \\\n",
       "0  phenotype: Absence (reduction) of endogenous S...   \n",
       "\n",
       "                                          GSM7850051  \\\n",
       "0  phenotype: Absence (reduction) of endogenous S...   \n",
       "\n",
       "                            GSM7850052  \\\n",
       "0  phenotype: Normal activity of STAT3   \n",
       "\n",
       "                                          GSM7850053  \\\n",
       "0  phenotype: Tyr705 cannot be phosphorylated, fr...   \n",
       "\n",
       "                                          GSM7850054  \\\n",
       "0  phenotype: Ser727 cannot be phosphorylated, fr...   \n",
       "\n",
       "                                          GSM7850055  \\\n",
       "0  phenotype: Ser727 artificially phosphorylated,...   \n",
       "\n",
       "                                          GSM7850056  \\\n",
       "0  phenotype: Both, Tyr705 and Ser727, cannot be ...   \n",
       "\n",
       "                                          GSM7850057  \n",
       "0  phenotype: Tyr705 cannot be phosphorylated, Se...  \n",
       "\n",
       "[1 rows x 46 columns]"
      ]
     },
     "execution_count": 10,
     "metadata": {},
     "output_type": "execute_result"
    }
   ],
   "source": [
    "clinical_data.head()"
   ]
  },
  {
   "cell_type": "code",
   "execution_count": 32,
   "metadata": {
    "ExecuteTime": {
     "end_time": "2024-01-02T01:03:01.805026160Z",
     "start_time": "2024-01-02T01:03:01.804428154Z"
    },
    "collapsed": false
   },
   "outputs": [
    {
     "data": {
      "text/plain": [
       "{0: ['cell type: CD4+ T cells'],\n",
       " 1: ['primary diagnosis: ASTHMA',\n",
       "  'primary diagnosis: ATHEROSCLEROSIS',\n",
       "  'primary diagnosis: BREAST_CANCER',\n",
       "  'primary diagnosis: CHRONIC_LYMPHOCYTIC_LEUKEMIA',\n",
       "  'primary diagnosis: CROHN_DISEASE',\n",
       "  'primary diagnosis: ATOPIC_ECZEMA',\n",
       "  'primary diagnosis: HEALTHY_CONTROL',\n",
       "  'primary diagnosis: INFLUENZA',\n",
       "  'primary diagnosis: OBESITY',\n",
       "  'primary diagnosis: PSORIASIS',\n",
       "  'primary diagnosis: SEASONAL_ALLERGIC_RHINITIS',\n",
       "  'primary diagnosis: TYPE_1_DIABETES',\n",
       "  'primary diagnosis: ACUTE_TONSILLITIS',\n",
       "  'primary diagnosis: ULCERATIVE_COLITIS',\n",
       "  'primary diagnosis: Breast cancer',\n",
       "  'primary diagnosis: Control'],\n",
       " 2: ['Sex: Male',\n",
       "  'diagnosis2: ATOPIC_ECZEMA',\n",
       "  'Sex: Female',\n",
       "  'diagnosis2: ATHEROSCLEROSIS',\n",
       "  'diagnosis2: ASTHMA_OBESITY',\n",
       "  'diagnosis2: ASTHMA',\n",
       "  'diagnosis2: ASTMHA_SEASONAL_ALLERGIC_RHINITIS',\n",
       "  'diagnosis2: OBESITY'],\n",
       " 3: ['age: 56',\n",
       "  'Sex: Male',\n",
       "  'age: 20',\n",
       "  'age: 51',\n",
       "  'age: 37',\n",
       "  'age: 61',\n",
       "  'age: 31',\n",
       "  'age: 41',\n",
       "  'age: 80',\n",
       "  'age: 53',\n",
       "  'age: 73',\n",
       "  'age: 60',\n",
       "  'age: 76',\n",
       "  'age: 77',\n",
       "  'age: 74',\n",
       "  'age: 69',\n",
       "  'age: 81',\n",
       "  'age: 70',\n",
       "  'age: 82',\n",
       "  'age: 67',\n",
       "  'age: 78',\n",
       "  'age: 72',\n",
       "  'age: 66',\n",
       "  'age: 36',\n",
       "  'age: 45',\n",
       "  'age: 65',\n",
       "  'age: 48',\n",
       "  'age: 50',\n",
       "  'age: 24',\n",
       "  'age: 42'],\n",
       " 4: [nan,\n",
       "  'age: 63',\n",
       "  'age: 74',\n",
       "  'age: 49',\n",
       "  'age: 60',\n",
       "  'age: 68',\n",
       "  'age: 38',\n",
       "  'age: 16',\n",
       "  'age: 12',\n",
       "  'age: 27']}"
      ]
     },
     "execution_count": 32,
     "metadata": {},
     "output_type": "execute_result"
    }
   ],
   "source": [
    "clinical_data_unique = get_unique_values_by_row(clinical_data)\n",
    "clinical_data_unique"
   ]
  },
  {
   "cell_type": "markdown",
   "metadata": {
    "ExecuteTime": {
     "end_time": "2023-12-31T03:58:04.978204446Z",
     "start_time": "2023-12-31T03:58:04.922270095Z"
    },
    "collapsed": false
   },
   "source": [
    "Analyze the metadata to determine data relevance and find ways to extract the clinical data.\n",
    "Reference prompt:"
   ]
  },
  {
   "cell_type": "code",
   "execution_count": 33,
   "metadata": {
    "ExecuteTime": {
     "end_time": "2024-01-02T01:03:02.369775044Z",
     "start_time": "2024-01-02T01:03:02.356501629Z"
    },
    "collapsed": false
   },
   "outputs": [
    {
     "data": {
      "text/plain": [
       "'As a biomedical research team, we are selecting datasets to study the association between the human trait \\'Psoriasis\\' and genetic factors, optionally considering the influence of age and gender. After searching the GEO database and parsing the matrix file of a series, we obtained background information and sample characteristics data. We will provide textual information about the dataset background, and a Python dictionary storing a list of unique values for each field of the sample characteristics data. Please carefully review the provided information and answer the following questions about this dataset:\\n1. Does this dataset contain gene expression data? (Note: Pure miRNA data is not suitable.)\\n2. For each of the traits \\'Psoriasis\\', \\'age\\', and \\'gender\\', please address these points:\\n   (1) Is there human data available for this trait?\\n   (2) If so, identify the key in the sample characteristics dictionary where unique values of this trait is recorded. The key is an integer. The trait information might be explicitly recorded, or can be inferred from the field with some biomedical knowledge or understanding about the data collection process.\\n   (3) Choose an appropriate data type (either \\'continuous\\' or \\'binary\\') for each trait. Write a Python function to convert any given value of the trait to this data type. The function should handle inference about the trait value and convert unknown values to None.\\n   Name the functions \\'convert_trait\\', \\'convert_age\\', and \\'convert_gender\\', respectively.\\n\\nBackground information about the dataset:\\n!Series_title\\t\"A validated single-cell-based strategy to identify diagnostic and therapeutic targets in complex diseases\"\\n!Series_summary\\t\"This SuperSeries is composed of the SubSeries listed below.\"\\n!Series_overall_design\\t\"Refer to individual Series\"\\n\\nSample characteristics dictionary (from \"!Sample_characteristics_ch1\", converted to a Python dictionary that stores the unique values for each field):\\n{0: [\\'cell type: CD4+ T cells\\'], 1: [\\'primary diagnosis: ASTHMA\\', \\'primary diagnosis: ATHEROSCLEROSIS\\', \\'primary diagnosis: BREAST_CANCER\\', \\'primary diagnosis: CHRONIC_LYMPHOCYTIC_LEUKEMIA\\', \\'primary diagnosis: CROHN_DISEASE\\', \\'primary diagnosis: ATOPIC_ECZEMA\\', \\'primary diagnosis: HEALTHY_CONTROL\\', \\'primary diagnosis: INFLUENZA\\', \\'primary diagnosis: OBESITY\\', \\'primary diagnosis: PSORIASIS\\', \\'primary diagnosis: SEASONAL_ALLERGIC_RHINITIS\\', \\'primary diagnosis: TYPE_1_DIABETES\\', \\'primary diagnosis: ACUTE_TONSILLITIS\\', \\'primary diagnosis: ULCERATIVE_COLITIS\\', \\'primary diagnosis: Breast cancer\\', \\'primary diagnosis: Control\\'], 2: [\\'Sex: Male\\', \\'diagnosis2: ATOPIC_ECZEMA\\', \\'Sex: Female\\', \\'diagnosis2: ATHEROSCLEROSIS\\', \\'diagnosis2: ASTHMA_OBESITY\\', \\'diagnosis2: ASTHMA\\', \\'diagnosis2: ASTMHA_SEASONAL_ALLERGIC_RHINITIS\\', \\'diagnosis2: OBESITY\\'], 3: [\\'age: 56\\', \\'Sex: Male\\', \\'age: 20\\', \\'age: 51\\', \\'age: 37\\', \\'age: 61\\', \\'age: 31\\', \\'age: 41\\', \\'age: 80\\', \\'age: 53\\', \\'age: 73\\', \\'age: 60\\', \\'age: 76\\', \\'age: 77\\', \\'age: 74\\', \\'age: 69\\', \\'age: 81\\', \\'age: 70\\', \\'age: 82\\', \\'age: 67\\', \\'age: 78\\', \\'age: 72\\', \\'age: 66\\', \\'age: 36\\', \\'age: 45\\', \\'age: 65\\', \\'age: 48\\', \\'age: 50\\', \\'age: 24\\', \\'age: 42\\'], 4: [nan, \\'age: 63\\', \\'age: 74\\', \\'age: 49\\', \\'age: 60\\', \\'age: 68\\', \\'age: 38\\', \\'age: 16\\', \\'age: 12\\', \\'age: 27\\']}\\n'"
      ]
     },
     "execution_count": 33,
     "metadata": {},
     "output_type": "execute_result"
    }
   ],
   "source": [
    "f'''As a biomedical research team, we are selecting datasets to study the association between the human trait \\'{TRAIT}\\' and genetic factors, optionally considering the influence of age and gender. After searching the GEO database and parsing the matrix file of a series, we obtained background information and sample characteristics data. We will provide textual information about the dataset background, and a Python dictionary storing a list of unique values for each field of the sample characteristics data. Please carefully review the provided information and answer the following questions about this dataset:\n",
    "1. Does this dataset contain gene expression data? (Note: Pure miRNA data is not suitable.)\n",
    "2. For each of the traits \\'{TRAIT}\\', 'age', and 'gender', please address these points:\n",
    "   (1) Is there human data available for this trait?\n",
    "   (2) If so, identify the key in the sample characteristics dictionary where unique values of this trait is recorded. The key is an integer. The trait information might be explicitly recorded, or can be inferred from the field with some biomedical knowledge or understanding about the data collection process.\n",
    "   (3) Choose an appropriate data type (either 'continuous' or 'binary') for each trait. Write a Python function to convert any given value of the trait to this data type. The function should handle inference about the trait value and convert unknown values to None.\n",
    "   Name the functions 'convert_trait', 'convert_age', and 'convert_gender', respectively.\n",
    "\n",
    "Background information about the dataset:\n",
    "{background_info}\n",
    "\n",
    "Sample characteristics dictionary (from \"!Sample_characteristics_ch1\", converted to a Python dictionary that stores the unique values for each field):\n",
    "{clinical_data_unique}\n",
    "'''"
   ]
  },
  {
   "cell_type": "markdown",
   "metadata": {
    "ExecuteTime": {
     "end_time": "2023-12-31T03:58:04.978240504Z",
     "start_time": "2023-12-31T03:58:04.922365324Z"
    },
    "collapsed": false
   },
   "source": [
    "Understand and verify the answer from GPT, to assign values to the below variables. Assign None to the 'row_id' variables if relevant data row was not found.\n",
    "Later we need to let GPT format its answer to automatically do these. But given the complexity of this step, let's grow some insight from the free-text answers for now."
   ]
  },
  {
   "cell_type": "code",
   "execution_count": 34,
   "metadata": {
    "ExecuteTime": {
     "end_time": "2024-01-02T01:03:03.079540570Z",
     "start_time": "2024-01-02T01:03:03.073638535Z"
    },
    "collapsed": false
   },
   "outputs": [],
   "source": [
    "is_gene_availabe = True\n",
    "trait_row = 1\n",
    "age_row = 3\n",
    "gender_row = 2\n",
    "\n",
    "trait_type = 'binary'"
   ]
  },
  {
   "cell_type": "code",
   "execution_count": 35,
   "metadata": {
    "ExecuteTime": {
     "end_time": "2024-01-02T01:03:03.572682163Z",
     "start_time": "2024-01-02T01:03:03.559775513Z"
    },
    "collapsed": false
   },
   "outputs": [],
   "source": [
    "is_available = is_gene_availabe and (trait_row is not None)\n",
    "if not is_available:\n",
    "    save_cohort_info(cohort, JSON_PATH, is_available)\n",
    "    print(\"This cohort is not usable. Please skip the following steps and jump to the next accession number.\")"
   ]
  },
  {
   "cell_type": "code",
   "execution_count": 37,
   "metadata": {
    "ExecuteTime": {
     "end_time": "2024-01-02T01:03:03.973964287Z",
     "start_time": "2024-01-02T01:03:03.964958096Z"
    },
    "collapsed": false
   },
   "outputs": [
    {
     "data": {
      "text/plain": [
       "(0, None, None)"
      ]
     },
     "execution_count": 37,
     "metadata": {},
     "output_type": "execute_result"
    }
   ],
   "source": [
    "def convert_trait(tissue_type):\n",
    "    \"\"\"\n",
    "    Convert tissue type to epilepsy presence (binary).\n",
    "    Assuming epilepsy presence for 'Hippocampus' tissue.\n",
    "    \"\"\"\n",
    "    if tissue_type == 'primary diagnosis: PSORIASIS':\n",
    "        return 1  # Epilepsy present\n",
    "    else:\n",
    "        return 0  # Epilepsy not present\n",
    "\n",
    "def convert_age(age_string):\n",
    "    \"\"\"\n",
    "    Convert age string to a numerical value.\n",
    "    \"\"\"\n",
    "    if age_string.startswith('age: '):\n",
    "        try:\n",
    "            return int(age_string.split('age: ')[1].rstrip(''))  # Extracting numeric part\n",
    "        except ValueError:\n",
    "            return None  # In case of parsing error\n",
    "    else:\n",
    "        return None  # If age string does not follow expected format\n",
    "\n",
    "def convert_gender(gender_string):\n",
    "    \"\"\"\n",
    "    Convert gender string to a binary representation.\n",
    "    Female -> 0, Male -> 1, Unknown -> None\n",
    "    \"\"\"\n",
    "    if gender_string == 'Sex: Female':\n",
    "        return 0\n",
    "    elif gender_string == 'Sex: Male':\n",
    "        return 1\n",
    "    else:\n",
    "        return None  # In case of unknown gender\n",
    "\n",
    "# Example usage\n",
    "example_tissue = 'tissue: Hippocampus'\n",
    "example_age = 'age: 23y'\n",
    "example_gender = 'gender: Male'\n",
    "\n",
    "converted_trait = convert_trait(example_tissue)\n",
    "converted_age = convert_age(example_age)\n",
    "converted_gender = convert_gender(example_gender)\n",
    "\n",
    "converted_trait, converted_age, converted_gender"
   ]
  },
  {
   "cell_type": "code",
   "execution_count": 38,
   "metadata": {
    "ExecuteTime": {
     "end_time": "2024-01-02T01:03:04.637878352Z",
     "start_time": "2024-01-02T01:03:04.593886885Z"
    },
    "collapsed": false
   },
   "outputs": [
    {
     "name": "stderr",
     "output_type": "stream",
     "text": [
      "/home/yxcheng/AI4Science_gold_standard/stage1/Yuxuan/../utils.py:208: FutureWarning: DataFrame.applymap has been deprecated. Use DataFrame.map instead.\n",
      "  clinical_df = clinical_df.applymap(convert_fn)\n",
      "/home/yxcheng/AI4Science_gold_standard/stage1/Yuxuan/../utils.py:208: FutureWarning: DataFrame.applymap has been deprecated. Use DataFrame.map instead.\n",
      "  clinical_df = clinical_df.applymap(convert_fn)\n",
      "/home/yxcheng/AI4Science_gold_standard/stage1/Yuxuan/../utils.py:208: FutureWarning: DataFrame.applymap has been deprecated. Use DataFrame.map instead.\n",
      "  clinical_df = clinical_df.applymap(convert_fn)\n"
     ]
    },
    {
     "data": {
      "text/html": [
       "<div>\n",
       "<style scoped>\n",
       "    .dataframe tbody tr th:only-of-type {\n",
       "        vertical-align: middle;\n",
       "    }\n",
       "\n",
       "    .dataframe tbody tr th {\n",
       "        vertical-align: top;\n",
       "    }\n",
       "\n",
       "    .dataframe thead th {\n",
       "        text-align: right;\n",
       "    }\n",
       "</style>\n",
       "<table border=\"1\" class=\"dataframe\">\n",
       "  <thead>\n",
       "    <tr style=\"text-align: right;\">\n",
       "      <th></th>\n",
       "      <th>GSM3494884</th>\n",
       "      <th>GSM3494885</th>\n",
       "      <th>GSM3494886</th>\n",
       "      <th>GSM3494887</th>\n",
       "      <th>GSM3494888</th>\n",
       "      <th>GSM3494889</th>\n",
       "      <th>GSM3494890</th>\n",
       "      <th>GSM3494891</th>\n",
       "      <th>GSM3494892</th>\n",
       "      <th>GSM3494893</th>\n",
       "      <th>...</th>\n",
       "      <th>GSM3495078</th>\n",
       "      <th>GSM3495079</th>\n",
       "      <th>GSM3495080</th>\n",
       "      <th>GSM3495081</th>\n",
       "      <th>GSM3495082</th>\n",
       "      <th>GSM3495083</th>\n",
       "      <th>GSM3495084</th>\n",
       "      <th>GSM3495085</th>\n",
       "      <th>GSM3495086</th>\n",
       "      <th>GSM3495087</th>\n",
       "    </tr>\n",
       "  </thead>\n",
       "  <tbody>\n",
       "    <tr>\n",
       "      <th>Psoriasis</th>\n",
       "      <td>0</td>\n",
       "      <td>0</td>\n",
       "      <td>0</td>\n",
       "      <td>0</td>\n",
       "      <td>0</td>\n",
       "      <td>0</td>\n",
       "      <td>0</td>\n",
       "      <td>0</td>\n",
       "      <td>0</td>\n",
       "      <td>0</td>\n",
       "      <td>...</td>\n",
       "      <td>0</td>\n",
       "      <td>0</td>\n",
       "      <td>0</td>\n",
       "      <td>0</td>\n",
       "      <td>0</td>\n",
       "      <td>0</td>\n",
       "      <td>0</td>\n",
       "      <td>0</td>\n",
       "      <td>0</td>\n",
       "      <td>0</td>\n",
       "    </tr>\n",
       "    <tr>\n",
       "      <th>Age</th>\n",
       "      <td>56</td>\n",
       "      <td>None</td>\n",
       "      <td>20</td>\n",
       "      <td>51</td>\n",
       "      <td>37</td>\n",
       "      <td>61</td>\n",
       "      <td>None</td>\n",
       "      <td>31</td>\n",
       "      <td>56</td>\n",
       "      <td>41</td>\n",
       "      <td>...</td>\n",
       "      <td>78</td>\n",
       "      <td>88</td>\n",
       "      <td>41</td>\n",
       "      <td>60</td>\n",
       "      <td>72</td>\n",
       "      <td>53</td>\n",
       "      <td>73</td>\n",
       "      <td>56</td>\n",
       "      <td>38</td>\n",
       "      <td>53</td>\n",
       "    </tr>\n",
       "    <tr>\n",
       "      <th>Gender</th>\n",
       "      <td>1</td>\n",
       "      <td>None</td>\n",
       "      <td>0</td>\n",
       "      <td>0</td>\n",
       "      <td>1</td>\n",
       "      <td>1</td>\n",
       "      <td>None</td>\n",
       "      <td>1</td>\n",
       "      <td>0</td>\n",
       "      <td>0</td>\n",
       "      <td>...</td>\n",
       "      <td>0</td>\n",
       "      <td>0</td>\n",
       "      <td>0</td>\n",
       "      <td>0</td>\n",
       "      <td>0</td>\n",
       "      <td>0</td>\n",
       "      <td>0</td>\n",
       "      <td>0</td>\n",
       "      <td>0</td>\n",
       "      <td>0</td>\n",
       "    </tr>\n",
       "  </tbody>\n",
       "</table>\n",
       "<p>3 rows × 204 columns</p>\n",
       "</div>"
      ],
      "text/plain": [
       "           GSM3494884 GSM3494885  GSM3494886  GSM3494887  GSM3494888  \\\n",
       "Psoriasis           0          0           0           0           0   \n",
       "Age                56       None          20          51          37   \n",
       "Gender              1       None           0           0           1   \n",
       "\n",
       "           GSM3494889 GSM3494890  GSM3494891  GSM3494892  GSM3494893  ...  \\\n",
       "Psoriasis           0          0           0           0           0  ...   \n",
       "Age                61       None          31          56          41  ...   \n",
       "Gender              1       None           1           0           0  ...   \n",
       "\n",
       "           GSM3495078 GSM3495079  GSM3495080  GSM3495081  GSM3495082  \\\n",
       "Psoriasis           0          0           0           0           0   \n",
       "Age                78         88          41          60          72   \n",
       "Gender              0          0           0           0           0   \n",
       "\n",
       "           GSM3495083  GSM3495084  GSM3495085  GSM3495086  GSM3495087  \n",
       "Psoriasis           0           0           0           0           0  \n",
       "Age                53          73          56          38          53  \n",
       "Gender              0           0           0           0           0  \n",
       "\n",
       "[3 rows x 204 columns]"
      ]
     },
     "execution_count": 38,
     "metadata": {},
     "output_type": "execute_result"
    }
   ],
   "source": [
    "selected_clinical_data = geo_select_clinical_features(clinical_data, TRAIT, trait_row, convert_trait, age_row=age_row,\n",
    "                                                      convert_age=convert_age, gender_row=gender_row,\n",
    "                                                      convert_gender=convert_gender)\n",
    "selected_clinical_data.head()"
   ]
  },
  {
   "cell_type": "markdown",
   "metadata": {
    "ExecuteTime": {
     "end_time": "2023-12-31T03:58:04.978664193Z",
     "start_time": "2023-12-31T03:58:04.966117261Z"
    },
    "collapsed": false
   },
   "source": [
    "### Genetic data preprocessing and final filtering"
   ]
  },
  {
   "cell_type": "code",
   "execution_count": 39,
   "metadata": {
    "ExecuteTime": {
     "end_time": "2024-01-02T01:03:06.246474256Z",
     "start_time": "2024-01-02T01:03:05.670354792Z"
    },
    "collapsed": false
   },
   "outputs": [
    {
     "data": {
      "text/html": [
       "<div>\n",
       "<style scoped>\n",
       "    .dataframe tbody tr th:only-of-type {\n",
       "        vertical-align: middle;\n",
       "    }\n",
       "\n",
       "    .dataframe tbody tr th {\n",
       "        vertical-align: top;\n",
       "    }\n",
       "\n",
       "    .dataframe thead th {\n",
       "        text-align: right;\n",
       "    }\n",
       "</style>\n",
       "<table border=\"1\" class=\"dataframe\">\n",
       "  <thead>\n",
       "    <tr style=\"text-align: right;\">\n",
       "      <th></th>\n",
       "      <th>GSM3494884</th>\n",
       "      <th>GSM3494885</th>\n",
       "      <th>GSM3494886</th>\n",
       "      <th>GSM3494887</th>\n",
       "      <th>GSM3494888</th>\n",
       "      <th>GSM3494889</th>\n",
       "      <th>GSM3494890</th>\n",
       "      <th>GSM3494891</th>\n",
       "      <th>GSM3494892</th>\n",
       "      <th>GSM3494893</th>\n",
       "      <th>...</th>\n",
       "      <th>GSM3495078</th>\n",
       "      <th>GSM3495079</th>\n",
       "      <th>GSM3495080</th>\n",
       "      <th>GSM3495081</th>\n",
       "      <th>GSM3495082</th>\n",
       "      <th>GSM3495083</th>\n",
       "      <th>GSM3495084</th>\n",
       "      <th>GSM3495085</th>\n",
       "      <th>GSM3495086</th>\n",
       "      <th>GSM3495087</th>\n",
       "    </tr>\n",
       "    <tr>\n",
       "      <th>ID</th>\n",
       "      <th></th>\n",
       "      <th></th>\n",
       "      <th></th>\n",
       "      <th></th>\n",
       "      <th></th>\n",
       "      <th></th>\n",
       "      <th></th>\n",
       "      <th></th>\n",
       "      <th></th>\n",
       "      <th></th>\n",
       "      <th></th>\n",
       "      <th></th>\n",
       "      <th></th>\n",
       "      <th></th>\n",
       "      <th></th>\n",
       "      <th></th>\n",
       "      <th></th>\n",
       "      <th></th>\n",
       "      <th></th>\n",
       "      <th></th>\n",
       "      <th></th>\n",
       "    </tr>\n",
       "  </thead>\n",
       "  <tbody>\n",
       "    <tr>\n",
       "      <th>1</th>\n",
       "      <td>6.948572</td>\n",
       "      <td>6.783931</td>\n",
       "      <td>6.780049</td>\n",
       "      <td>7.159348</td>\n",
       "      <td>7.311038</td>\n",
       "      <td>8.522366</td>\n",
       "      <td>7.208509</td>\n",
       "      <td>7.339519</td>\n",
       "      <td>7.292977</td>\n",
       "      <td>7.244630</td>\n",
       "      <td>...</td>\n",
       "      <td>6.510166</td>\n",
       "      <td>6.400521</td>\n",
       "      <td>6.841084</td>\n",
       "      <td>6.689765</td>\n",
       "      <td>6.490229</td>\n",
       "      <td>6.342661</td>\n",
       "      <td>6.818770</td>\n",
       "      <td>6.749511</td>\n",
       "      <td>5.702573</td>\n",
       "      <td>6.220784</td>\n",
       "    </tr>\n",
       "    <tr>\n",
       "      <th>2</th>\n",
       "      <td>4.267766</td>\n",
       "      <td>3.692029</td>\n",
       "      <td>3.649207</td>\n",
       "      <td>4.331090</td>\n",
       "      <td>3.903376</td>\n",
       "      <td>4.191000</td>\n",
       "      <td>3.771017</td>\n",
       "      <td>4.293601</td>\n",
       "      <td>3.963668</td>\n",
       "      <td>4.104845</td>\n",
       "      <td>...</td>\n",
       "      <td>3.160329</td>\n",
       "      <td>4.067687</td>\n",
       "      <td>3.930320</td>\n",
       "      <td>3.714828</td>\n",
       "      <td>3.607567</td>\n",
       "      <td>3.732946</td>\n",
       "      <td>4.127519</td>\n",
       "      <td>3.685672</td>\n",
       "      <td>4.603592</td>\n",
       "      <td>4.182425</td>\n",
       "    </tr>\n",
       "    <tr>\n",
       "      <th>3</th>\n",
       "      <td>4.334513</td>\n",
       "      <td>3.981417</td>\n",
       "      <td>3.922257</td>\n",
       "      <td>4.549893</td>\n",
       "      <td>4.140639</td>\n",
       "      <td>4.013236</td>\n",
       "      <td>3.996610</td>\n",
       "      <td>4.933703</td>\n",
       "      <td>3.735861</td>\n",
       "      <td>3.992670</td>\n",
       "      <td>...</td>\n",
       "      <td>3.477307</td>\n",
       "      <td>3.450851</td>\n",
       "      <td>3.267643</td>\n",
       "      <td>3.997723</td>\n",
       "      <td>3.814572</td>\n",
       "      <td>3.530067</td>\n",
       "      <td>3.563020</td>\n",
       "      <td>3.383465</td>\n",
       "      <td>4.885039</td>\n",
       "      <td>4.028309</td>\n",
       "    </tr>\n",
       "    <tr>\n",
       "      <th>9</th>\n",
       "      <td>7.140005</td>\n",
       "      <td>7.411580</td>\n",
       "      <td>6.722240</td>\n",
       "      <td>7.117540</td>\n",
       "      <td>6.874786</td>\n",
       "      <td>7.020385</td>\n",
       "      <td>7.031787</td>\n",
       "      <td>6.980904</td>\n",
       "      <td>7.003364</td>\n",
       "      <td>6.794992</td>\n",
       "      <td>...</td>\n",
       "      <td>6.126888</td>\n",
       "      <td>6.361985</td>\n",
       "      <td>6.455366</td>\n",
       "      <td>6.666864</td>\n",
       "      <td>6.562479</td>\n",
       "      <td>6.537970</td>\n",
       "      <td>6.501036</td>\n",
       "      <td>6.373249</td>\n",
       "      <td>6.597989</td>\n",
       "      <td>6.264610</td>\n",
       "    </tr>\n",
       "    <tr>\n",
       "      <th>10</th>\n",
       "      <td>4.486670</td>\n",
       "      <td>4.615900</td>\n",
       "      <td>3.966261</td>\n",
       "      <td>4.543677</td>\n",
       "      <td>4.150289</td>\n",
       "      <td>4.216883</td>\n",
       "      <td>4.736946</td>\n",
       "      <td>4.296770</td>\n",
       "      <td>4.462828</td>\n",
       "      <td>4.089816</td>\n",
       "      <td>...</td>\n",
       "      <td>3.120966</td>\n",
       "      <td>3.934066</td>\n",
       "      <td>3.350455</td>\n",
       "      <td>3.268122</td>\n",
       "      <td>2.986117</td>\n",
       "      <td>4.154208</td>\n",
       "      <td>3.520550</td>\n",
       "      <td>3.593129</td>\n",
       "      <td>3.834457</td>\n",
       "      <td>3.562929</td>\n",
       "    </tr>\n",
       "  </tbody>\n",
       "</table>\n",
       "<p>5 rows × 204 columns</p>\n",
       "</div>"
      ],
      "text/plain": [
       "    GSM3494884  GSM3494885  GSM3494886  GSM3494887  GSM3494888  GSM3494889  \\\n",
       "ID                                                                           \n",
       "1     6.948572    6.783931    6.780049    7.159348    7.311038    8.522366   \n",
       "2     4.267766    3.692029    3.649207    4.331090    3.903376    4.191000   \n",
       "3     4.334513    3.981417    3.922257    4.549893    4.140639    4.013236   \n",
       "9     7.140005    7.411580    6.722240    7.117540    6.874786    7.020385   \n",
       "10    4.486670    4.615900    3.966261    4.543677    4.150289    4.216883   \n",
       "\n",
       "    GSM3494890  GSM3494891  GSM3494892  GSM3494893  ...  GSM3495078  \\\n",
       "ID                                                  ...               \n",
       "1     7.208509    7.339519    7.292977    7.244630  ...    6.510166   \n",
       "2     3.771017    4.293601    3.963668    4.104845  ...    3.160329   \n",
       "3     3.996610    4.933703    3.735861    3.992670  ...    3.477307   \n",
       "9     7.031787    6.980904    7.003364    6.794992  ...    6.126888   \n",
       "10    4.736946    4.296770    4.462828    4.089816  ...    3.120966   \n",
       "\n",
       "    GSM3495079  GSM3495080  GSM3495081  GSM3495082  GSM3495083  GSM3495084  \\\n",
       "ID                                                                           \n",
       "1     6.400521    6.841084    6.689765    6.490229    6.342661    6.818770   \n",
       "2     4.067687    3.930320    3.714828    3.607567    3.732946    4.127519   \n",
       "3     3.450851    3.267643    3.997723    3.814572    3.530067    3.563020   \n",
       "9     6.361985    6.455366    6.666864    6.562479    6.537970    6.501036   \n",
       "10    3.934066    3.350455    3.268122    2.986117    4.154208    3.520550   \n",
       "\n",
       "    GSM3495085  GSM3495086  GSM3495087  \n",
       "ID                                      \n",
       "1     6.749511    5.702573    6.220784  \n",
       "2     3.685672    4.603592    4.182425  \n",
       "3     3.383465    4.885039    4.028309  \n",
       "9     6.373249    6.597989    6.264610  \n",
       "10    3.593129    3.834457    3.562929  \n",
       "\n",
       "[5 rows x 204 columns]"
      ]
     },
     "execution_count": 39,
     "metadata": {},
     "output_type": "execute_result"
    }
   ],
   "source": [
    "genetic_data = get_genetic_data(matrix_file)\n",
    "genetic_data.head()"
   ]
  },
  {
   "cell_type": "code",
   "execution_count": 40,
   "metadata": {
    "ExecuteTime": {
     "end_time": "2024-01-02T01:03:06.250833943Z",
     "start_time": "2024-01-02T01:03:06.246758837Z"
    },
    "collapsed": false
   },
   "outputs": [
    {
     "data": {
      "text/plain": [
       "['1',\n",
       " '2',\n",
       " '3',\n",
       " '9',\n",
       " '10',\n",
       " '12',\n",
       " '13',\n",
       " '14',\n",
       " '15',\n",
       " '16',\n",
       " '18',\n",
       " '19',\n",
       " '20',\n",
       " '21',\n",
       " '22',\n",
       " '23',\n",
       " '24',\n",
       " '25',\n",
       " '26',\n",
       " '27']"
      ]
     },
     "execution_count": 40,
     "metadata": {},
     "output_type": "execute_result"
    }
   ],
   "source": [
    "gene_row_ids = genetic_data.index[:20].tolist()\n",
    "gene_row_ids"
   ]
  },
  {
   "cell_type": "markdown",
   "metadata": {
    "ExecuteTime": {
     "end_time": "2023-12-31T03:30:41.595335164Z",
     "start_time": "2023-12-31T03:30:41.513232329Z"
    },
    "collapsed": false
   },
   "source": [
    "Check if the gene dataset requires mapping to get the gene symbols corresponding to each data row."
   ]
  },
  {
   "cell_type": "markdown",
   "metadata": {
    "collapsed": false
   },
   "source": [
    "Reference prompt:"
   ]
  },
  {
   "cell_type": "code",
   "execution_count": 41,
   "metadata": {
    "ExecuteTime": {
     "end_time": "2024-01-02T01:03:07.586216481Z",
     "start_time": "2024-01-02T01:03:07.574527035Z"
    },
    "collapsed": false
   },
   "outputs": [
    {
     "data": {
      "text/plain": [
       "\"\\nBelow are the row headers of a gene expression dataset in GEO. Based on your biomedical knowledge, are they human gene symbols, or are they some other identifiers that need to be mapped to gene symbols? Your answer should be concluded by starting a new line and strictly following this format:\\nrequires_gene_mapping = (True or False)\\n\\nRow headers:\\n['1', '2', '3', '9', '10', '12', '13', '14', '15', '16', '18', '19', '20', '21', '22', '23', '24', '25', '26', '27']\\n\""
      ]
     },
     "execution_count": 41,
     "metadata": {},
     "output_type": "execute_result"
    }
   ],
   "source": [
    "f'''\n",
    "Below are the row headers of a gene expression dataset in GEO. Based on your biomedical knowledge, are they human gene symbols, or are they some other identifiers that need to be mapped to gene symbols? Your answer should be concluded by starting a new line and strictly following this format:\n",
    "requires_gene_mapping = (True or False)\n",
    "\n",
    "Row headers:\n",
    "{gene_row_ids}\n",
    "'''"
   ]
  },
  {
   "cell_type": "markdown",
   "metadata": {
    "collapsed": false
   },
   "source": [
    "If not required, jump directly to the gene normalization step"
   ]
  },
  {
   "cell_type": "code",
   "execution_count": 42,
   "metadata": {
    "ExecuteTime": {
     "end_time": "2024-01-02T01:03:08.263712538Z",
     "start_time": "2024-01-02T01:03:08.260656314Z"
    },
    "collapsed": false
   },
   "outputs": [],
   "source": [
    "requires_gene_mapping = True"
   ]
  },
  {
   "cell_type": "code",
   "execution_count": 43,
   "metadata": {
    "ExecuteTime": {
     "end_time": "2024-01-02T01:03:33.822550310Z",
     "start_time": "2024-01-02T01:03:08.648958912Z"
    },
    "collapsed": false
   },
   "outputs": [
    {
     "name": "stdout",
     "output_type": "stream",
     "text": [
      "{'ID': ['1', '2', '3', '9', '10'], 'ENTREZ_GENE_ID': ['1', '2', '3', '9', '10'], 'SPOT_ID': [1.0, 2.0, 3.0, 9.0, 10.0]}\n"
     ]
    }
   ],
   "source": [
    "if requires_gene_mapping:\n",
    "    gene_annotation = get_gene_annotation(soft_file)\n",
    "    gene_annotation_summary = preview_df(gene_annotation)\n",
    "    print(gene_annotation_summary)"
   ]
  },
  {
   "cell_type": "markdown",
   "metadata": {
    "ExecuteTime": {
     "end_time": "2023-12-31T03:58:04.978931927Z",
     "start_time": "2023-12-31T03:58:04.966328339Z"
    },
    "collapsed": false
   },
   "source": [
    "Observe the first few cells in the ID column of the gene annotation dataframe, to find the names of columns that store the gene probe IDs and gene symbols respectively.\n",
    "Reference prompt:"
   ]
  },
  {
   "cell_type": "code",
   "execution_count": 44,
   "metadata": {
    "ExecuteTime": {
     "end_time": "2024-01-02T01:03:33.822912446Z",
     "start_time": "2024-01-02T01:03:33.804491826Z"
    },
    "collapsed": false
   },
   "outputs": [
    {
     "name": "stdout",
     "output_type": "stream",
     "text": [
      "\n",
      "    As a biomedical research team, we extracted the gene annotation data from a series in the GEO database, and saved it to a Python dictionary. Please read the dictionary, and decide which key stores the ID of the probe, and which key stores the gene symbols. Please strict follow this format in your answer:\n",
      "    probe_name_key = 'key_name1'\n",
      "    gene_name_key = 'key_name2'\n",
      "\n",
      "    Gene annotation dictionary:\n",
      "    {'ID': ['1', '2', '3', '9', '10'], 'ENTREZ_GENE_ID': ['1', '2', '3', '9', '10'], 'SPOT_ID': [1.0, 2.0, 3.0, 9.0, 10.0]}\n",
      "    \n"
     ]
    }
   ],
   "source": [
    "if requires_gene_mapping:\n",
    "    print(f'''\n",
    "    As a biomedical research team, we extracted the gene annotation data from a series in the GEO database, and saved it to a Python dictionary. Please read the dictionary, and decide which key stores the ID of the probe, and which key stores the gene symbols. Please strict follow this format in your answer:\n",
    "    probe_name_key = 'key_name1'\n",
    "    gene_name_key = 'key_name2'\n",
    "\n",
    "    Gene annotation dictionary:\n",
    "    {gene_annotation_summary}\n",
    "    ''')"
   ]
  },
  {
   "cell_type": "code",
   "execution_count": 45,
   "metadata": {
    "ExecuteTime": {
     "end_time": "2024-01-02T01:03:35.113359369Z",
     "start_time": "2024-01-02T01:03:33.804666371Z"
    },
    "collapsed": false
   },
   "outputs": [],
   "source": [
    "if requires_gene_mapping:\n",
    "    probe_id_key = 'ID'\n",
    "    gene_symb_key = 'ENTREZ_GENE_ID'\n",
    "    gene_mapping = get_gene_mapping(gene_annotation, probe_id_key, gene_symb_key)\n",
    "    genetic_data = apply_gene_mapping(genetic_data, gene_mapping)"
   ]
  },
  {
   "cell_type": "code",
   "execution_count": 46,
   "metadata": {
    "ExecuteTime": {
     "end_time": "2024-01-02T01:03:35.156584675Z",
     "start_time": "2024-01-02T01:03:35.114652593Z"
    },
    "collapsed": false
   },
   "outputs": [
    {
     "name": "stderr",
     "output_type": "stream",
     "text": [
      "1000 input query terms found no hit:\t['-0.001001579', '-0.010425045', '-0.045320336', '-0.046967808', '-0.069891929', '-0.081080626', '-0\n",
      "1000 input query terms found no hit:\t['1.874988702', '1.87561865', '1.875749115', '1.876069493', '1.876242887', '1.876321366', '1.8764467\n",
      "1000 input query terms found no hit:\t['10.00611367', '10.00612223', '10.00612605', '10.00614477', '10.00616885', '10.00617487', '10.00618\n",
      "1000 input query terms found no hit:\t['10.01457031', '10.01457398', '10.0145766', '10.01458049', '10.01458328', '10.0145835', '10.0145896\n",
      "1000 input query terms found no hit:\t['10.02316881', '10.02317904', '10.02320168', '10.02321666', '10.02322815', '10.02323902', '10.02324\n",
      "1000 input query terms found no hit:\t['10.03210887', '10.032109', '10.03212338', '10.03213053', '10.03213548', '10.03214697', '10.0321556\n",
      "1000 input query terms found no hit:\t['10.04102951', '10.04104287', '10.04104569', '10.04105424', '10.04106087', '10.04106418', '10.04106\n",
      "1000 input query terms found no hit:\t['10.04956064', '10.04957819', '10.04958363', '10.0495898', '10.04959006', '10.04959585', '10.049595\n",
      "1000 input query terms found no hit:\t['10.05843378', '10.05844079', '10.05845015', '10.05845072', '10.05845272', '10.05849242', '10.05850\n",
      "1000 input query terms found no hit:\t['10.06673714', '10.0667533', '10.06677', '10.06677054', '10.06677983', '10.06678446', '10.06680501'\n",
      "1000 input query terms found no hit:\t['10.07585812', '10.07586417', '10.07587463', '10.07588704', '10.07589448', '10.0759077', '10.075908\n",
      "1000 input query terms found no hit:\t['10.08489475', '10.08490119', '10.08494343', '10.08494754', '10.08495218', '10.08495471', '10.08495\n",
      "1000 input query terms found no hit:\t['10.09418374', '10.0942004', '10.09420621', '10.09422165', '10.09423953', '10.0942415', '10.0942508\n",
      "1000 input query terms found no hit:\t['10.10326356', '10.10327898', '10.10329148', '10.10330195', '10.10330428', '10.1033098', '10.103332\n",
      "1000 input query terms found no hit:\t['10.11292113', '10.1129314', '10.11293984', '10.11294477', '10.11295833', '10.11296757', '10.112972\n",
      "1000 input query terms found no hit:\t['10.12186317', '10.12187367', '10.12188655', '10.12189448', '10.12189729', '10.12190183', '10.12191\n",
      "1000 input query terms found no hit:\t['10.13092067', '10.13092694', '10.13096867', '10.13097607', '10.13098076', '10.13098165', '10.13099\n",
      "1000 input query terms found no hit:\t['10.13966577', '10.13966618', '10.13967671', '10.13968409', '10.13968828', '10.13968866', '10.13969\n",
      "1000 input query terms found no hit:\t['10.14864397', '10.14864451', '10.14865481', '10.14867672', '10.14868043', '10.14868142', '10.14869\n",
      "1000 input query terms found no hit:\t['10.15792031', '10.15792048', '10.15792136', '10.15793111', '10.1579381', '10.15794956', '10.157955\n",
      "1000 input query terms found no hit:\t['10.16719907', '10.16720173', '10.16722167', '10.16723267', '10.16726024', '10.1672688', '10.167305\n",
      "1000 input query terms found no hit:\t['10.17684742', '10.1768541', '10.17688169', '10.17688928', '10.176892', '10.1768952', '10.17689778'\n",
      "1000 input query terms found no hit:\t['10.18622536', '10.18623494', '10.18626791', '10.18628074', '10.18629385', '10.18629635', '10.18630\n",
      "1000 input query terms found no hit:\t['10.19558278', '10.19559021', '10.19560229', '10.1956331', '10.19566161', '10.19566205', '10.195688\n",
      "1000 input query terms found no hit:\t['10.20502436', '10.20503037', '10.20503682', '10.2050543', '10.20507452', '10.20508472', '10.205097\n",
      "1000 input query terms found no hit:\t['10.21532891', '10.21532921', '10.21532953', '10.21533433', '10.21534335', '10.21534742', '10.21534\n",
      "1000 input query terms found no hit:\t['10.22495639', '10.22495828', '10.22496684', '10.22496926', '10.22497949', '10.22498142', '10.22500\n",
      "1000 input query terms found no hit:\t['10.23514452', '10.23514711', '10.23515548', '10.23515725', '10.23520658', '10.23521931', '10.23522\n",
      "1000 input query terms found no hit:\t['10.24533141', '10.24533289', '10.24535569', '10.24535689', '10.2453659', '10.24536643', '10.245367\n",
      "1000 input query terms found no hit:\t['10.25533867', '10.25534138', '10.25536682', '10.25537429', '10.25537586', '10.2553808', '10.255435\n",
      "1000 input query terms found no hit:\t['10.26528459', '10.26533077', '10.26534018', '10.26535102', '10.2653568', '10.26536425', '10.265365\n",
      "1000 input query terms found no hit:\t['10.27595881', '10.27596382', '10.27599548', '10.27599699', '10.27600037', '10.27603507', '10.27603\n",
      "1000 input query terms found no hit:\t['10.28605882', '10.2860697', '10.28608351', '10.28608896', '10.28609159', '10.28609571', '10.286124\n",
      "1000 input query terms found no hit:\t['10.29598157', '10.29598245', '10.29598382', '10.29598765', '10.29599062', '10.29599392', '10.29599\n",
      "1000 input query terms found no hit:\t['10.30710488', '10.3071053', '10.30713751', '10.30714227', '10.30715116', '10.30715641', '10.307158\n",
      "1000 input query terms found no hit:\t['10.31716373', '10.31717505', '10.31718403', '10.31718464', '10.31718723', '10.31719555', '10.31723\n",
      "1000 input query terms found no hit:\t['10.3283166', '10.32831729', '10.32832087', '10.32832371', '10.32832462', '10.32832725', '10.328343\n",
      "1000 input query terms found no hit:\t['10.33901058', '10.33902073', '10.33902097', '10.33902643', '10.33904613', '10.33906926', '10.33907\n",
      "1000 input query terms found no hit:\t['10.34973354', '10.34974257', '10.3497572', '10.34976084', '10.34976389', '10.34976803', '10.349771\n",
      "1000 input query terms found no hit:\t['10.35973927', '10.35974595', '10.35977311', '10.35979987', '10.35980068', '10.35981598', '10.35982\n",
      "1000 input query terms found no hit:\t['10.37042552', '10.37043069', '10.37043503', '10.37044168', '10.37045417', '10.37047279', '10.37047\n",
      "1000 input query terms found no hit:\t['10.38121815', '10.38122141', '10.38122731', '10.38125027', '10.38126828', '10.38128668', '10.38135\n",
      "1000 input query terms found no hit:\t['10.39226034', '10.39227306', '10.39228065', '10.39232219', '10.39232943', '10.39233246', '10.39233\n",
      "1000 input query terms found no hit:\t['10.40297796', '10.40298577', '10.40300487', '10.40300985', '10.40301799', '10.40302997', '10.40303\n",
      "1000 input query terms found no hit:\t['10.41398297', '10.41399393', '10.41400699', '10.41404032', '10.41406447', '10.41406768', '10.41406\n",
      "1000 input query terms found no hit:\t['10.42476269', '10.42476387', '10.4247642', '10.4247737', '10.42477697', '10.42478592', '10.4247862\n",
      "1000 input query terms found no hit:\t['10.43608381', '10.43609532', '10.43610405', '10.43611624', '10.43611701', '10.43613678', '10.43613\n",
      "1000 input query terms found no hit:\t['10.44663201', '10.44663227', '10.44663457', '10.44663869', '10.44664341', '10.44667838', '10.44670\n",
      "1000 input query terms found no hit:\t['10.45754214', '10.45755741', '10.4575716', '10.45758312', '10.45759726', '10.45760065', '10.457606\n",
      "1000 input query terms found no hit:\t['10.46889915', '10.46890987', '10.46892804', '10.4689542', '10.46895459', '10.46900479', '10.469018\n",
      "1000 input query terms found no hit:\t['10.48031174', '10.48032347', '10.4803347', '10.48034267', '10.48035103', '10.48035953', '10.480364\n",
      "1000 input query terms found no hit:\t['10.49146155', '10.49152583', '10.49154095', '10.49155097', '10.49155557', '10.49156214', '10.49157\n",
      "1000 input query terms found no hit:\t['10.50333288', '10.50336965', '10.50337041', '10.50340597', '10.50340919', '10.50341057', '10.50341\n",
      "1000 input query terms found no hit:\t['10.51562733', '10.51563475', '10.5156373', '10.51565036', '10.51565904', '10.51566305', '10.515668\n",
      "1000 input query terms found no hit:\t['10.52716578', '10.52718407', '10.52718776', '10.52719371', '10.52721324', '10.52722204', '10.52723\n",
      "1000 input query terms found no hit:\t['10.53882009', '10.53883437', '10.53883722', '10.53884534', '10.53884849', '10.53885058', '10.53885\n",
      "1000 input query terms found no hit:\t['10.55156412', '10.55156842', '10.55158101', '10.55158292', '10.55159142', '10.55163272', '10.55167\n",
      "1000 input query terms found no hit:\t['10.56347579', '10.56348624', '10.56349979', '10.56350082', '10.56350632', '10.56350733', '10.56354\n",
      "1000 input query terms found no hit:\t['10.57573113', '10.57574167', '10.57574863', '10.57577448', '10.57581503', '10.57584594', '10.57585\n",
      "1000 input query terms found no hit:\t['10.58766166', '10.58766324', '10.58767509', '10.5876864', '10.58769646', '10.58771759', '10.587730\n",
      "1000 input query terms found no hit:\t['10.60011754', '10.60011937', '10.6001208', '10.60016524', '10.60018804', '10.60019733', '10.600203\n",
      "1000 input query terms found no hit:\t['10.61301959', '10.61302554', '10.61302825', '10.61308259', '10.61308894', '10.61309811', '10.61310\n",
      "1000 input query terms found no hit:\t['10.62554621', '10.62555728', '10.62556096', '10.62557562', '10.62557888', '10.62558223', '10.62558\n",
      "1000 input query terms found no hit:\t['10.6385973', '10.63859796', '10.63860342', '10.63863216', '10.6386551', '10.63866787', '10.6386964\n",
      "1000 input query terms found no hit:\t['10.65130222', '10.65130399', '10.65131117', '10.65131717', '10.65132902', '10.65133404', '10.65133\n",
      "1000 input query terms found no hit:\t['10.66393723', '10.66395737', '10.66395804', '10.66399162', '10.66399808', '10.66401472', '10.66402\n",
      "1000 input query terms found no hit:\t['10.67766414', '10.67766443', '10.67770324', '10.67771006', '10.67771011', '10.67772067', '10.67774\n",
      "1000 input query terms found no hit:\t['10.69045914', '10.69048285', '10.69048899', '10.690517', '10.69052656', '10.69052893', '10.6905293\n",
      "1000 input query terms found no hit:\t['10.70355019', '10.70356561', '10.70361003', '10.70364292', '10.70365419', '10.70365836', '10.70368\n",
      "1000 input query terms found no hit:\t['10.71701907', '10.71702895', '10.71704703', '10.71708035', '10.71709801', '10.71711331', '10.71712\n",
      "1000 input query terms found no hit:\t['10.73024598', '10.73024834', '10.73025552', '10.73026071', '10.73026667', '10.73028644', '10.73031\n",
      "1000 input query terms found no hit:\t['10.74421699', '10.74423072', '10.7442372', '10.74429448', '10.74429458', '10.74430471', '10.744307\n",
      "1000 input query terms found no hit:\t['10.75735146', '10.7573575', '10.75738919', '10.75742012', '10.75742601', '10.75745242', '10.757457\n",
      "1000 input query terms found no hit:\t['10.7714639', '10.77146858', '10.77150322', '10.77150659', '10.77151802', '10.77156098', '10.771570\n",
      "1000 input query terms found no hit:\t['10.78499183', '10.78499713', '10.78500208', '10.78500252', '10.78501863', '10.785027', '10.7850407\n",
      "1000 input query terms found no hit:\t['10.79939503', '10.79939634', '10.79939744', '10.79940068', '10.79941909', '10.79942189', '10.79942\n",
      "1000 input query terms found no hit:\t['10.81310222', '10.81311477', '10.81311992', '10.81312765', '10.81313101', '10.81316071', '10.81316\n",
      "1000 input query terms found no hit:\t['10.82692935', '10.82695214', '10.82696906', '10.82697885', '10.82701125', '10.8270158', '10.827055\n",
      "1000 input query terms found no hit:\t['10.84143975', '10.84145309', '10.84147307', '10.8414758', '10.84147596', '10.84151251', '10.841563\n",
      "1000 input query terms found no hit:\t['10.85626037', '10.85628234', '10.85628664', '10.85629007', '10.85629555', '10.85630325', '10.85630\n",
      "1000 input query terms found no hit:\t['10.87080959', '10.87080963', '10.87082654', '10.87082976', '10.87085292', '10.87085396', '10.87086\n",
      "1000 input query terms found no hit:\t['10.88450838', '10.88451555', '10.8845294', '10.88453434', '10.88454203', '10.88456395', '10.884566\n",
      "1000 input query terms found no hit:\t['10.89803092', '10.89806315', '10.89807603', '10.89812808', '10.89813223', '10.89816421', '10.89818\n",
      "1000 input query terms found no hit:\t['10.91182112', '10.91182283', '10.91183885', '10.91186764', '10.91189439', '10.91190697', '10.91191\n",
      "1000 input query terms found no hit:\t['10.92610304', '10.92614581', '10.92619529', '10.92620386', '10.92620491', '10.92622414', '10.92623\n",
      "1000 input query terms found no hit:\t['10.94017505', '10.94020197', '10.94022535', '10.94024973', '10.94025914', '10.94027402', '10.94027\n",
      "1000 input query terms found no hit:\t['10.95472675', '10.95473233', '10.95473728', '10.95475143', '10.954752', '10.95476339', '10.9547843\n",
      "1000 input query terms found no hit:\t['10.96934222', '10.96934269', '10.96936453', '10.96938358', '10.96939457', '10.96940049', '10.96944\n",
      "1000 input query terms found no hit:\t['10.98335442', '10.98335896', '10.98336157', '10.98336436', '10.98338964', '10.98339641', '10.98340\n",
      "1000 input query terms found no hit:\t['10.99751837', '10.99751936', '10.99754237', '10.99757274', '10.99758913', '10.99759368', '10.99759\n",
      "1000 input query terms found no hit:\t['100287948', '100288069', '100288077', '100288079', '100288122', '100288123', '100288162', '1002881\n",
      "1000 input query terms found no hit:\t['10189', '1019', '10190', '101926887', '101926888', '101926892', '101926894', '101926895', '1019269\n",
      "1000 input query terms found no hit:\t['102723630', '102723658', '102723672', '102723698', '102723701', '102723712', '102723723', '1027237\n",
      "1000 input query terms found no hit:\t['11.00237659', '11.0024056', '11.00241543', '11.00241931', '11.00242091', '11.00246045', '11.002485\n",
      "1000 input query terms found no hit:\t['11.01710662', '11.01710915', '11.01712592', '11.01713438', '11.01713827', '11.01715826', '11.01716\n",
      "1000 input query terms found no hit:\t['11.03208171', '11.03209496', '11.03210427', '11.0321412', '11.03214381', '11.03218322', '11.032210\n",
      "1000 input query terms found no hit:\t['11.04672801', '11.04675955', '11.04677842', '11.04677981', '11.04680339', '11.04681819', '11.04683\n",
      "1000 input query terms found no hit:\t['11.06117844', '11.06118501', '11.06119175', '11.06119289', '11.06120363', '11.06120793', '11.06122\n",
      "1000 input query terms found no hit:\t['11.07617987', '11.07618031', '11.07619672', '11.07619912', '11.07621571', '11.07622523', '11.07623\n",
      "1000 input query terms found no hit:\t['11.091058', '11.09107126', '11.09107682', '11.09108538', '11.09109163', '11.09109323', '11.0911065\n",
      "1000 input query terms found no hit:\t['11.10614662', '11.10617261', '11.1061855', '11.1061932', '11.10620084', '11.10620227', '11.1062090\n",
      "1000 input query terms found no hit:\t['11.12122182', '11.1212297', '11.12126491', '11.12127088', '11.12129876', '11.12131077', '11.121326\n",
      "1000 input query terms found no hit:\t['11.13647377', '11.13648613', '11.13650708', '11.13653317', '11.13653933', '11.13654665', '11.13657\n",
      "1000 input query terms found no hit:\t['11.15235042', '11.15238775', '11.15239141', '11.15241531', '11.15241976', '11.15243054', '11.15245\n",
      "1000 input query terms found no hit:\t['11.16712921', '11.16713656', '11.16715122', '11.16718331', '11.16718572', '11.16718623', '11.16719\n",
      "1000 input query terms found no hit:\t['11.1832129', '11.18321447', '11.18323315', '11.18323353', '11.18324881', '11.18325667', '11.183264\n",
      "1000 input query terms found no hit:\t['11.1987208', '11.1987482', '11.19880234', '11.19882795', '11.19885808', '11.19888553', '11.1988869\n",
      "1000 input query terms found no hit:\t['11.21418412', '11.21419801', '11.2142075', '11.21421687', '11.2142185', '11.21421952', '11.2142238\n",
      "1000 input query terms found no hit:\t['11.2295727', '11.22960765', '11.22960928', '11.22962384', '11.22964935', '11.22965806', '11.229689\n",
      "1000 input query terms found no hit:\t['11.24524069', '11.24524667', '11.24525337', '11.2452664', '11.2452728', '11.24528065', '11.2452870\n",
      "1000 input query terms found no hit:\t['11.26207069', '11.26208217', '11.26212713', '11.26213481', '11.26216788', '11.26217825', '11.26217\n",
      "1000 input query terms found no hit:\t['11.2795574', '11.27956082', '11.27957433', '11.27957949', '11.27958581', '11.27959314', '11.279596\n",
      "1000 input query terms found no hit:\t['11.29603741', '11.29604596', '11.29607968', '11.2960937', '11.29609424', '11.29611304', '11.296129\n",
      "1000 input query terms found no hit:\t['11.31380928', '11.31381036', '11.31382937', '11.3138409', '11.31386687', '11.31387869', '11.313890\n",
      "1000 input query terms found no hit:\t['11.33136042', '11.33138867', '11.33140383', '11.33141972', '11.33146474', '11.33150893', '11.33154\n",
      "1000 input query terms found no hit:\t['11.34855217', '11.34855604', '11.3485693', '11.34857191', '11.34858188', '11.34860473', '11.348637\n",
      "1000 input query terms found no hit:\t['11.36638799', '11.36645029', '11.3664555', '11.36646303', '11.36646668', '11.36646914', '11.366539\n",
      "1000 input query terms found no hit:\t['11.38510749', '11.38513794', '11.38520603', '11.38520981', '11.38521444', '11.38522513', '11.38522\n",
      "1000 input query terms found no hit:\t['11.40516393', '11.40516554', '11.40521952', '11.40523767', '11.40526169', '11.40526759', '11.40533\n",
      "1000 input query terms found no hit:\t['11.42426438', '11.42426969', '11.42427935', '11.42429176', '11.42429185', '11.42434174', '11.42434\n",
      "1000 input query terms found no hit:\t['11.44415414', '11.444155', '11.44415786', '11.44415983', '11.44416833', '11.44418809', '11.4441974\n",
      "1000 input query terms found no hit:\t['11.46419576', '11.46422284', '11.46422484', '11.46422505', '11.46423896', '11.46424423', '11.46427\n",
      "1000 input query terms found no hit:\t['11.4855498', '11.48558735', '11.4855896', '11.48559189', '11.48562902', '11.48563033', '11.4856309\n",
      "1000 input query terms found no hit:\t['11.50689918', '11.5069695', '11.5070021', '11.50701058', '11.5070211', '11.50712803', '11.50725077\n",
      "1000 input query terms found no hit:\t['11.52876932', '11.52879072', '11.5288116', '11.52882729', '11.52886646', '11.52887705', '11.528930\n",
      "1000 input query terms found no hit:\t['11.54903686', '11.54906378', '11.54906597', '11.54910212', '11.54911186', '11.54912099', '11.54912\n",
      "1000 input query terms found no hit:\t['11.57018287', '11.57018341', '11.57018789', '11.5702063', '11.57021005', '11.57025899', '11.570270\n",
      "1000 input query terms found no hit:\t['11.59195612', '11.59197241', '11.59200626', '11.59203482', '11.59204817', '11.59205749', '11.59209\n",
      "1000 input query terms found no hit:\t['11.61439399', '11.61442404', '11.61444152', '11.6144725', '11.6144885', '11.61453009', '11.6145359\n",
      "1000 input query terms found no hit:\t['11.63674018', '11.63676499', '11.63678322', '11.63680076', '11.63680467', '11.63680699', '11.63684\n",
      "1000 input query terms found no hit:\t['11.659141', '11.65920954', '11.65921866', '11.65926884', '11.65930958', '11.65935138', '11.6593544\n",
      "1000 input query terms found no hit:\t['11.68254869', '11.68258387', '11.68258434', '11.68259719', '11.68259935', '11.68265904', '11.68267\n",
      "1000 input query terms found no hit:\t['11.70680738', '11.70683239', '11.70684505', '11.7068534', '11.7068539', '11.70690443', '11.7069119\n",
      "1000 input query terms found no hit:\t['11.73123068', '11.73124306', '11.73124314', '11.7313261', '11.73140606', '11.7314261', '11.7314418\n",
      "1000 input query terms found no hit:\t['11.75494013', '11.754949', '11.75496026', '11.75496588', '11.75497336', '11.75499729', '11.7550119\n",
      "1000 input query terms found no hit:\t['11.77888647', '11.77888967', '11.77890155', '11.77893394', '11.77896485', '11.7789749', '11.779006\n",
      "1000 input query terms found no hit:\t['11.8036018', '11.8036522', '11.80367369', '11.80375859', '11.80375962', '11.80377658', '11.8037997\n",
      "1000 input query terms found no hit:\t['11.82894119', '11.82896125', '11.82896742', '11.82904475', '11.82905094', '11.82908388', '11.82911\n",
      "1000 input query terms found no hit:\t['11.85415189', '11.85419636', '11.85421883', '11.85429601', '11.85431247', '11.85434133', '11.85437\n",
      "1000 input query terms found no hit:\t['11.88042068', '11.88046262', '11.88046622', '11.88052292', '11.88053876', '11.88054585', '11.88055\n",
      "1000 input query terms found no hit:\t['11.90618841', '11.90619025', '11.9062077', '11.90639555', '11.90641331', '11.90641682', '11.906419\n",
      "1000 input query terms found no hit:\t['11.93378897', '11.93379016', '11.93379197', '11.93381767', '11.93382448', '11.93383459', '11.93384\n",
      "1000 input query terms found no hit:\t['11.96209362', '11.96211712', '11.96211942', '11.96212093', '11.9621357', '11.96221768', '11.962242\n",
      "1000 input query terms found no hit:\t['11.99007738', '11.9900863', '11.99014799', '11.99014887', '11.99015444', '11.99019848', '11.990218\n",
      "1000 input query terms found no hit:\t['1182', '1183', '1184', '118421', '118424', '118426', '118429', '118430', '118432', '118433', '1184\n",
      "1000 input query terms found no hit:\t['12.02658323', '12.02659382', '12.02659625', '12.02663266', '12.02666799', '12.02667333', '12.02667\n",
      "1000 input query terms found no hit:\t['12.05604078', '12.05610887', '12.05611992', '12.05617807', '12.0561884', '12.05619313', '12.056200\n",
      "1000 input query terms found no hit:\t['12.08586957', '12.08588213', '12.08588462', '12.08591159', '12.08594874', '12.08596306', '12.08599\n",
      "1000 input query terms found no hit:\t['12.11764309', '12.11764546', '12.11765479', '12.11767303', '12.11771403', '12.11775491', '12.11782\n",
      "1000 input query terms found no hit:\t['12.14978833', '12.14982883', '12.14988263', '12.14995899', '12.15000275', '12.15005016', '12.15010\n",
      "1000 input query terms found no hit:\t['12.18249196', '12.1825733', '12.18260121', '12.18263327', '12.18264738', '12.18266015', '12.182706\n",
      "1000 input query terms found no hit:\t['12.21560903', '12.21561354', '12.21563664', '12.21567748', '12.21570125', '12.21572105', '12.21575\n",
      "1000 input query terms found no hit:\t['12.25019545', '12.25021728', '12.25023222', '12.25023758', '12.25029579', '12.2503131', '12.250332\n",
      "1000 input query terms found no hit:\t['12.28318635', '12.28324664', '12.28324755', '12.28330781', '12.28333708', '12.28336219', '12.28340\n",
      "1000 input query terms found no hit:\t['12.31922823', '12.31928213', '12.31932834', '12.31935221', '12.31935223', '12.31939353', '12.31942\n",
      "1000 input query terms found no hit:\t['12.35715188', '12.35715984', '12.35735024', '12.35735209', '12.35737276', '12.35737539', '12.35739\n",
      "1000 input query terms found no hit:\t['12.39777988', '12.39783813', '12.39783853', '12.39787272', '12.39787681', '12.39793288', '12.39793\n",
      "1000 input query terms found no hit:\t['12.44048123', '12.44051896', '12.44059726', '12.44061475', '12.4406294', '12.44065429', '12.440713\n",
      "1000 input query terms found no hit:\t['12.4853592', '12.48542278', '12.48550125', '12.48553845', '12.48557889', '12.48567568', '12.485700\n",
      "1000 input query terms found no hit:\t['12.52857968', '12.52861571', '12.52870322', '12.52871652', '12.52872311', '12.52893643', '12.52902\n",
      "1000 input query terms found no hit:\t['12.57631257', '12.5763513', '12.57642518', '12.57644234', '12.57646402', '12.57647868', '12.576481\n",
      "1000 input query terms found no hit:\t['12.62530676', '12.62535414', '12.62535648', '12.62537875', '12.62538063', '12.62545531', '12.62547\n",
      "1000 input query terms found no hit:\t['12.67125786', '12.67145632', '12.6715599', '12.67165702', '12.67166526', '12.6717611', '12.6718037\n",
      "1000 input query terms found no hit:\t['12.72025891', '12.7202732', '12.72029808', '12.7203128', '12.72053351', '12.72078183', '12.7208199\n",
      "1000 input query terms found no hit:\t['12.77413633', '12.77414372', '12.77424027', '12.77426198', '12.77445751', '12.77447369', '12.77447\n",
      "1000 input query terms found no hit:\t['12.82784817', '12.82803905', '12.82821024', '12.82829847', '12.82831487', '12.82833947', '12.82835\n",
      "1000 input query terms found no hit:\t['12.88974189', '12.88974653', '12.88982266', '12.88988544', '12.88989201', '12.8899318', '12.889936\n",
      "1000 input query terms found no hit:\t['12.95529166', '12.95530475', '12.95538381', '12.95544969', '12.95566165', '12.95568443', '12.95571\n",
      "1000 input query terms found no hit:\t['129881', '1299', '13', '13.00019397', '13.00024277', '13.00029107', '13.00037568', '13.00043926', \n",
      "1000 input query terms found no hit:\t['13.07968408', '13.07971652', '13.07989728', '13.07997077', '13.07999159', '13.08002514', '13.08024\n",
      "1000 input query terms found no hit:\t['13.16675531', '13.1669341', '13.16708923', '13.16712107', '13.16727178', '13.16738363', '13.167478\n",
      "1000 input query terms found no hit:\t['13.25251371', '13.25275909', '13.25276982', '13.25280131', '13.25285288', '13.25311875', '13.25315\n",
      "1000 input query terms found no hit:\t['13.34445505', '13.34465101', '13.344705', '13.34476076', '13.34481216', '13.3448277', '13.34495477\n",
      "1000 input query terms found no hit:\t['13.45367014', '13.45381776', '13.45385899', '13.45392127', '13.45417894', '13.45428685', '13.45429\n",
      "1000 input query terms found no hit:\t['13.57982317', '13.57986386', '13.57987759', '13.5801667', '13.58020649', '13.5803451', '13.5805193\n",
      "1000 input query terms found no hit:\t['13.72208238', '13.72208685', '13.72231624', '13.72241084', '13.72242201', '13.72252878', '13.72267\n",
      "1000 input query terms found no hit:\t['13.87287641', '13.87324332', '13.87329027', '13.873776', '13.87378172', '13.87385029', '13.8739945\n",
      "1000 input query terms found no hit:\t['137075', '1371', '137209', '1373', '137362', '137392', '1374', '137492', '1375', '1376', '137682',\n",
      "1000 input query terms found no hit:\t['14.1513708', '14.15168908', '14.15210983', '14.15212532', '14.15223022', '14.15260507', '14.152677\n",
      "1000 input query terms found no hit:\t['14.32587391', '14.32591322', '14.32598215', '14.32598581', '14.32636267', '14.32648723', '14.32654\n",
      "1000 input query terms found no hit:\t['14.50406843', '14.50411036', '14.5042026', '14.50437931', '14.50442113', '14.50452577', '14.504577\n",
      "1000 input query terms found no hit:\t['14.71245445', '14.71248457', '14.71252181', '14.71257144', '14.71270438', '14.71278317', '14.71278\n",
      "1000 input query terms found no hit:\t['14.90630473', '14.90637636', '14.90656221', '14.90657305', '14.90664907', '14.9066892', '14.907170\n",
      "1000 input query terms found no hit:\t['149461', '149465', '149466', '149473', '149478', '149483', '149499', '1495', '149563', '1496', '14\n",
      "1000 input query terms found no hit:\t['15.15304217', '15.15327602', '15.15355692', '15.15374853', '15.15380851', '15.15382748', '15.15390\n",
      "1000 input query terms found no hit:\t['15.3198202', '15.31983018', '15.31991168', '15.32042362', '15.32043818', '15.3205088', '15.3207174\n",
      "1000 input query terms found no hit:\t['15.49570381', '15.49586332', '15.49617617', '15.49618064', '15.49619095', '15.49632376', '15.49632\n",
      "1000 input query terms found no hit:\t['15.69143258', '15.69185687', '15.69186881', '15.69247317', '15.69251452', '15.69267741', '15.69277\n",
      "1000 input query terms found no hit:\t['15.93086795', '15.93098222', '15.93138091', '15.9314079', '15.93143232', '15.9316189', '15.9319678\n",
      "1000 input query terms found no hit:\t['16.07088535', '16.07136407', '16.07143183', '16.07188125', '16.07207948', '16.07210407', '16.07223\n",
      "1000 input query terms found no hit:\t['16.30399131', '16.30460789', '16.30460809', '16.30522537', '16.30536388', '16.30552564', '16.30616\n",
      "1000 input query terms found no hit:\t['16.5164172', '16.51643163', '16.5168899', '16.51713308', '16.51735015', '16.5174498', '16.51754204\n",
      "1000 input query terms found no hit:\t['16.68138217', '16.68152524', '16.68169659', '16.68178505', '16.68183199', '16.68190081', '16.68201\n",
      "1000 input query terms found no hit:\t['16.85134825', '16.85151394', '16.85161436', '16.85178749', '16.85188287', '16.85195563', '16.85221\n",
      "1000 input query terms found no hit:\t['17.01619148', '17.01622574', '17.01683915', '17.01712525', '17.01735997', '17.01761817', '17.01769\n",
      "1000 input query terms found no hit:\t['17.3654752', '17.36628755', '17.36714165', '17.36729634', '17.36924971', '17.36946217', '17.369468\n",
      "1000 input query terms found no hit:\t['2.081910984', '2.082157331', '2.082417627', '2.082780143', '2.082970463', '2.083708865', '2.083795\n",
      "1000 input query terms found no hit:\t['2.304098423', '2.304140098', '2.304164735', '2.304313375', '2.304411136', '2.304433349', '2.304568\n",
      "1000 input query terms found no hit:\t['2.4281413', '2.428342568', '2.428352145', '2.428654571', '2.428671747', '2.428677058', '2.42902722\n",
      "1000 input query terms found no hit:\t['2.517572346', '2.51760399', '2.517618149', '2.517712798', '2.517746322', '2.517752169', '2.5179469\n",
      "1000 input query terms found no hit:\t['2.584399145', '2.584434689', '2.584681123', '2.584719211', '2.584771372', '2.584773751', '2.585007\n",
      "1000 input query terms found no hit:\t['2.637655664', '2.637686453', '2.637814246', '2.637819448', '2.637841412', '2.637874142', '2.637939\n",
      "1000 input query terms found no hit:\t['2.683798033', '2.683800418', '2.683833913', '2.683846363', '2.683888695', '2.68407601', '2.6841098\n",
      "1000 input query terms found no hit:\t['2.722469435', '2.722476448', '2.72258638', '2.722608601', '2.722701985', '2.722720634', '2.7227395\n",
      "1000 input query terms found no hit:\t['2.756651703', '2.756653292', '2.756677932', '2.75669421', '2.756701748', '2.756743995', '2.7567725\n",
      "1000 input query terms found no hit:\t['2.788261972', '2.788299459', '2.78832909', '2.788432432', '2.788434478', '2.788435783', '2.7884986\n",
      "1000 input query terms found no hit:\t['2.815908917', '2.815945425', '2.815980817', '2.815988295', '2.816004463', '2.816020434', '2.816066\n",
      "1000 input query terms found no hit:\t['2.841348003', '2.841376128', '2.841431531', '2.841532411', '2.841553784', '2.841586423', '2.841649\n",
      "1000 input query terms found no hit:\t['2.866123663', '2.866140134', '2.86614194', '2.866152906', '2.866166686', '2.866240902', '2.8662414\n",
      "1000 input query terms found no hit:\t['2.889973002', '2.890029758', '2.890034589', '2.890047791', '2.890053432', '2.890065914', '2.890242\n",
      "1000 input query terms found no hit:\t['2.911457846', '2.911505259', '2.911541421', '2.911550378', '2.911562621', '2.911578482', '2.911629\n",
      "1000 input query terms found no hit:\t['2.931947923', '2.931956063', '2.931972383', '2.93197559', '2.93197798', '2.932002213', '2.93201793\n",
      "1000 input query terms found no hit:\t['2.951313418', '2.9513501', '2.951454342', '2.951461625', '2.951478714', '2.951522215', '2.95155114\n",
      "1000 input query terms found no hit:\t['2.971274524', '2.971292771', '2.971317539', '2.971323924', '2.971335013', '2.97133535', '2.9713459\n",
      "1000 input query terms found no hit:\t['2.989314241', '2.989347789', '2.98935343', '2.989369482', '2.989371505', '2.989383426', '2.9894064\n",
      "1000 input query terms found no hit:\t['219699', '2197', '219731', '219736', '219738', '219743', '219749', '219770', '219771', '219790', '\n",
      "1000 input query terms found no hit:\t['23760', '23761', '23762', '23764', '23765', '23767', '23768', '23770', '23774', '23779', '23780', \n",
      "1000 input query terms found no hit:\t['27036', '27037', '27039', '27040', '27042', '27043', '27044', '2705', '2706', '27063', '27065', '2\n",
      "1000 input query terms found no hit:\t['29087', '29088', '29089', '2909', '29090', '29091', '29092', '29093', '29094', '29095', '29097', '\n",
      "1000 input query terms found no hit:\t['3.014280105', '3.014316778', '3.014328307', '3.014369544', '3.014376539', '3.014391372', '3.014405\n",
      "1000 input query terms found no hit:\t['3.030581496', '3.030608568', '3.030616397', '3.030671177', '3.030673408', '3.030678428', '3.030684\n",
      "1000 input query terms found no hit:\t['3.045978443', '3.045992566', '3.045995314', '3.046005111', '3.046018189', '3.046031875', '3.046032\n",
      "1000 input query terms found no hit:\t['3.062375206', '3.06238137', '3.062392321', '3.062399112', '3.062399807', '3.06240636', '3.06240773\n",
      "1000 input query terms found no hit:\t['3.077508948', '3.077524894', '3.077538482', '3.077548439', '3.077565197', '3.077568123', '3.077614\n",
      "1000 input query terms found no hit:\t['3.091739365', '3.091739612', '3.091756503', '3.091760462', '3.091761914', '3.091763872', '3.091780\n",
      "1000 input query terms found no hit:\t['3.106551077', '3.10656449', '3.106571868', '3.106571887', '3.106607755', '3.106613872', '3.1066296\n",
      "1000 input query terms found no hit:\t['3.12058009', '3.120589734', '3.1205913', '3.120606052', '3.120606118', '3.120607402', '3.120609376\n",
      "1000 input query terms found no hit:\t['3.134200615', '3.134239039', '3.134259089', '3.134262626', '3.134264138', '3.134276771', '3.134281\n",
      "1000 input query terms found no hit:\t['3.147012999', '3.147026644', '3.147035669', '3.147043723', '3.147046498', '3.147053227', '3.147094\n",
      "1000 input query terms found no hit:\t['3.159888842', '3.159891484', '3.159904856', '3.159929203', '3.160013226', '3.160019823', '3.160031\n",
      "1000 input query terms found no hit:\t['3.172481725', '3.172488621', '3.172509899', '3.172529142', '3.172534441', '3.172543764', '3.172546\n",
      "1000 input query terms found no hit:\t['3.18473646', '3.184762835', '3.184765604', '3.184767862', '3.184775732', '3.184778147', '3.1847834\n",
      "1000 input query terms found no hit:\t['3.196787297', '3.196792126', '3.196799552', '3.196812997', '3.196815275', '3.196819308', '3.196820\n",
      "1000 input query terms found no hit:\t['3.20864388', '3.208654374', '3.208660654', '3.208670682', '3.208678769', '3.208679174', '3.2087048\n",
      "1000 input query terms found no hit:\t['3.21998017', '3.219983162', '3.219989433', '3.219999001', '3.220005736', '3.220032302', '3.2200391\n",
      "1000 input query terms found no hit:\t['3.231493308', '3.231528169', '3.231530636', '3.231530953', '3.231555062', '3.231563085', '3.231567\n",
      "1000 input query terms found no hit:\t['3.242675248', '3.242683806', '3.242727083', '3.242732868', '3.242747968', '3.24276006', '3.2427695\n",
      "1000 input query terms found no hit:\t['3.25358638', '3.253594744', '3.253601099', '3.253613764', '3.253614993', '3.253625178', '3.2536322\n",
      "1000 input query terms found no hit:\t['3.2641817', '3.264183132', '3.264183509', '3.264186068', '3.264194028', '3.264203468', '3.26420876\n",
      "1000 input query terms found no hit:\t['3.27435909', '3.274378388', '3.274404157', '3.27441009', '3.274426564', '3.274437984', '3.27445700\n",
      "1000 input query terms found no hit:\t['3.284721907', '3.284735098', '3.284740018', '3.284741109', '3.284753357', '3.284760283', '3.284763\n",
      "1000 input query terms found no hit:\t['3.294498099', '3.294508207', '3.294513701', '3.294520391', '3.294525195', '3.294538088', '3.294544\n",
      "1000 input query terms found no hit:\t['3.304247793', '3.304253896', '3.304262638', '3.304266146', '3.304289342', '3.304310537', '3.304325\n",
      "1000 input query terms found no hit:\t['3.314318613', '3.314324519', '3.314333582', '3.314343766', '3.314369218', '3.314387363', '3.314391\n",
      "1000 input query terms found no hit:\t['3.323818153', '3.323822072', '3.323823112', '3.323831744', '3.323834509', '3.323840561', '3.323852\n",
      "1000 input query terms found no hit:\t['3.333460512', '3.333485051', '3.333496059', '3.333507845', '3.333510318', '3.333514968', '3.333515\n",
      "1000 input query terms found no hit:\t['3.342598703', '3.342602377', '3.342602935', '3.342603062', '3.342622385', '3.3426254', '3.34262672\n",
      "1000 input query terms found no hit:\t['3.351160434', '3.351171689', '3.351192837', '3.351229583', '3.35124114', '3.351249645', '3.3512532\n",
      "1000 input query terms found no hit:\t['3.36039335', '3.360404867', '3.360406356', '3.360416687', '3.360417326', '3.360421922', '3.3604601\n",
      "1000 input query terms found no hit:\t['3.369870528', '3.369891273', '3.369894139', '3.369904756', '3.369906004', '3.36991159', '3.3699291\n",
      "1000 input query terms found no hit:\t['3.378082987', '3.37809715', '3.378121674', '3.378137592', '3.37814211', '3.378148531', '3.37815107\n",
      "1000 input query terms found no hit:\t['3.386787305', '3.386790882', '3.38681308', '3.386813776', '3.386815315', '3.386824823', '3.3868250\n",
      "1000 input query terms found no hit:\t['3.39538315', '3.395401509', '3.395401734', '3.395406669', '3.39540787', '3.395411057', '3.39541875\n",
      "1000 input query terms found no hit:\t['3.40384963', '3.403861522', '3.403864808', '3.403868492', '3.403873866', '3.403877462', '3.4038810\n",
      "1000 input query terms found no hit:\t['3.412227792', '3.412233299', '3.412244908', '3.412263338', '3.412294087', '3.412305613', '3.412309\n",
      "1000 input query terms found no hit:\t['3.420015788', '3.420015923', '3.42003487', '3.420060735', '3.420062839', '3.420073149', '3.4200856\n",
      "1000 input query terms found no hit:\t['3.427637708', '3.427650288', '3.427679037', '3.42768583', '3.427687375', '3.427700504', '3.4277094\n",
      "1000 input query terms found no hit:\t['3.435541395', '3.43555178', '3.435568924', '3.435570959', '3.435572291', '3.43557547', '3.43558719\n",
      "1000 input query terms found no hit:\t['3.443315217', '3.443319082', '3.443327199', '3.443347648', '3.443350004', '3.443350179', '3.443353\n",
      "1000 input query terms found no hit:\t['3.451186874', '3.451186987', '3.45118824', '3.451200689', '3.451216327', '3.451216554', '3.4512395\n",
      "1000 input query terms found no hit:\t['3.458946542', '3.458966773', '3.458968371', '3.45899516', '3.459015419', '3.459030324', '3.4590326\n",
      "1000 input query terms found no hit:\t['3.466428039', '3.466438919', '3.466443758', '3.466464562', '3.466471981', '3.466474367', '3.466484\n",
      "1000 input query terms found no hit:\t['3.473809801', '3.473810823', '3.473825301', '3.473826345', '3.473830763', '3.473835083', '3.473839\n",
      "1000 input query terms found no hit:\t['3.481057056', '3.481072784', '3.481073427', '3.481077275', '3.481080536', '3.481085473', '3.481102\n",
      "1000 input query terms found no hit:\t['3.488082519', '3.488089657', '3.488090387', '3.488104133', '3.488118682', '3.488122025', '3.488134\n",
      "1000 input query terms found no hit:\t['3.495018782', '3.495026914', '3.495035392', '3.49503658', '3.495038197', '3.495038243', '3.4950386\n",
      "1000 input query terms found no hit:\t['3.502136741', '3.502148363', '3.50216627', '3.502167117', '3.502167969', '3.502182129', '3.5021864\n",
      "1000 input query terms found no hit:\t['3.509095533', '3.50910341', '3.509113937', '3.509123911', '3.509124986', '3.509128735', '3.5091318\n",
      "1000 input query terms found no hit:\t['3.515664577', '3.515668591', '3.515681216', '3.515686085', '3.515696133', '3.515704723', '3.515730\n",
      "1000 input query terms found no hit:\t['3.522318362', '3.522326362', '3.522330121', '3.522333822', '3.522341447', '3.522345011', '3.522353\n",
      "1000 input query terms found no hit:\t['3.529153657', '3.529153724', '3.529154179', '3.529164052', '3.529168863', '3.529172952', '3.529173\n",
      "1000 input query terms found no hit:\t['3.535831002', '3.5358342', '3.535835462', '3.535844306', '3.535846903', '3.535849204', '3.53587279\n",
      "1000 input query terms found no hit:\t['3.542492893', '3.542510719', '3.542520282', '3.542530524', '3.542532183', '3.542541729', '3.542544\n",
      "1000 input query terms found no hit:\t['3.549094432', '3.54910035', '3.549103723', '3.549103737', '3.549104526', '3.54910897', '3.54911172\n",
      "1000 input query terms found no hit:\t['3.555243425', '3.55524514', '3.555249815', '3.555253241', '3.555262836', '3.555265731', '3.5552705\n",
      "1000 input query terms found no hit:\t['3.561591661', '3.561592712', '3.561599786', '3.561600148', '3.561608329', '3.561614088', '3.561616\n",
      "1000 input query terms found no hit:\t['3.568064875', '3.568070273', '3.568070785', '3.568075379', '3.568081122', '3.568083795', '3.568087\n",
      "1000 input query terms found no hit:\t['3.574369582', '3.574370766', '3.574388569', '3.574389986', '3.574393637', '3.574395521', '3.574397\n",
      "1000 input query terms found no hit:\t['3.580512897', '3.580513061', '3.580525225', '3.580528464', '3.580536983', '3.580541253', '3.580542\n",
      "1000 input query terms found no hit:\t['3.586669949', '3.586671686', '3.586690315', '3.586697961', '3.586704717', '3.586706112', '3.586707\n",
      "1000 input query terms found no hit:\t['3.592532089', '3.592534754', '3.59253796', '3.59254395', '3.592548869', '3.59255833', '3.592559289\n",
      "1000 input query terms found no hit:\t['3.598844802', '3.59884537', '3.598850793', '3.598853212', '3.598856221', '3.598858194', '3.5988598\n",
      "1000 input query terms found no hit:\t['3.604698746', '3.604703858', '3.604709715', '3.604712512', '3.604719085', '3.604720218', '3.604728\n",
      "1000 input query terms found no hit:\t['3.610831826', '3.610839834', '3.610848627', '3.61085255', '3.610854459', '3.610858426', '3.6108632\n",
      "1000 input query terms found no hit:\t['3.616963237', '3.616964819', '3.616966855', '3.616974386', '3.616974886', '3.616983485', '3.616990\n",
      "1000 input query terms found no hit:\t['3.622827036', '3.622832182', '3.622838454', '3.622838586', '3.622842596', '3.622858407', '3.622863\n",
      "1000 input query terms found no hit:\t['3.628559851', '3.628566676', '3.628570475', '3.628582548', '3.628584319', '3.628595364', '3.628607\n",
      "1000 input query terms found no hit:\t['3.63448509', '3.634486017', '3.634490927', '3.634491812', '3.63450137', '3.634506974', '3.63451293\n",
      "1000 input query terms found no hit:\t['3.640343528', '3.640347081', '3.640357884', '3.640369889', '3.640372287', '3.640373094', '3.640374\n",
      "1000 input query terms found no hit:\t['3.646242582', '3.646244506', '3.64624536', '3.646245915', '3.646246956', '3.64625481', '3.64625560\n",
      "1000 input query terms found no hit:\t['3.651921978', '3.65193128', '3.651931974', '3.651932111', '3.651938386', '3.651938567', '3.6519401\n",
      "1000 input query terms found no hit:\t['3.657484376', '3.657487121', '3.657499232', '3.657499626', '3.657500039', '3.657514999', '3.657527\n",
      "1000 input query terms found no hit:\t['3.662955548', '3.662960471', '3.662962252', '3.662965607', '3.662980247', '3.662988462', '3.662994\n",
      "1000 input query terms found no hit:\t['3.668411514', '3.668418607', '3.668426639', '3.66842686', '3.668431472', '3.66843275', '3.66844171\n",
      "1000 input query terms found no hit:\t['3.673713021', '3.673717899', '3.673720204', '3.673727053', '3.673748328', '3.67377821', '3.6737849\n",
      "1000 input query terms found no hit:\t['3.679243499', '3.67924527', '3.679255804', '3.679256897', '3.679260687', '3.679269763', '3.6792830\n",
      "1000 input query terms found no hit:\t['3.684745583', '3.684750495', '3.684767307', '3.684780242', '3.684809308', '3.68481651', '3.6848210\n",
      "1000 input query terms found no hit:\t['3.690239857', '3.690241382', '3.690244754', '3.690244855', '3.690249648', '3.690261144', '3.690261\n",
      "1000 input query terms found no hit:\t['3.695654024', '3.695662095', '3.695668742', '3.69568744', '3.695706132', '3.695708247', '3.6957094\n",
      "1000 input query terms found no hit:\t['3.700932892', '3.700934119', '3.700935539', '3.70094515', '3.700945986', '3.700959188', '3.7009633\n",
      "1000 input query terms found no hit:\t['3.706271857', '3.706274677', '3.706275599', '3.706283925', '3.706284251', '3.706298463', '3.706300\n",
      "1000 input query terms found no hit:\t['3.711653089', '3.711657585', '3.711659509', '3.711666407', '3.711680872', '3.71168497', '3.7116888\n",
      "1000 input query terms found no hit:\t['3.717336253', '3.717340815', '3.717348666', '3.717353539', '3.717353546', '3.717368656', '3.717370\n",
      "1000 input query terms found no hit:\t['3.722597482', '3.72259771', '3.722598978', '3.722601095', '3.722601421', '3.722603205', '3.7226101\n",
      "1000 input query terms found no hit:\t['3.727739718', '3.72774612', '3.727752003', '3.727753958', '3.727756086', '3.727760369', '3.7277700\n",
      "1000 input query terms found no hit:\t['3.732803754', '3.732809262', '3.732815749', '3.732818619', '3.732821164', '3.732824701', '3.732826\n",
      "1000 input query terms found no hit:\t['3.737915342', '3.737916275', '3.737918762', '3.737924086', '3.73792629', '3.737928439', '3.7379315\n",
      "1000 input query terms found no hit:\t['3.743250857', '3.743251101', '3.743251697', '3.743261858', '3.743299217', '3.743301119', '3.743308\n",
      "1000 input query terms found no hit:\t['3.748882687', '3.748885245', '3.74888544', '3.748894693', '3.748901674', '3.748918165', '3.7489246\n",
      "1000 input query terms found no hit:\t['3.753715109', '3.753724066', '3.753727349', '3.753727475', '3.753728399', '3.753729345', '3.753729\n",
      "1000 input query terms found no hit:\t['3.758690085', '3.758695323', '3.758697', '3.758702454', '3.758720733', '3.758722759', '3.758729842\n",
      "1000 input query terms found no hit:\t['3.763930938', '3.763931662', '3.763936762', '3.763951353', '3.763952462', '3.763954821', '3.763959\n",
      "1000 input query terms found no hit:\t['3.769114292', '3.769119929', '3.769121123', '3.769121795', '3.769123243', '3.769127645', '3.769128\n",
      "1000 input query terms found no hit:\t['3.774083156', '3.774087324', '3.774094969', '3.774099065', '3.774110549', '3.77412019', '3.7741277\n",
      "1000 input query terms found no hit:\t['3.779165327', '3.779166382', '3.779168183', '3.779168448', '3.779172479', '3.779193129', '3.779197\n",
      "1000 input query terms found no hit:\t['3.784270989', '3.784277217', '3.784280083', '3.784284217', '3.784286841', '3.784287725', '3.784292\n",
      "1000 input query terms found no hit:\t['3.789308608', '3.789315332', '3.789315704', '3.789330696', '3.789336122', '3.789336725', '3.789340\n",
      "1000 input query terms found no hit:\t['3.794309525', '3.794311808', '3.794327001', '3.794328233', '3.794331448', '3.794343137', '3.794346\n",
      "1000 input query terms found no hit:\t['3.799211452', '3.799215633', '3.799218098', '3.799218347', '3.799218895', '3.79923232', '3.7992470\n",
      "1000 input query terms found no hit:\t['3.804176235', '3.804177526', '3.804183666', '3.804188591', '3.804192109', '3.804194762', '3.804203\n",
      "1000 input query terms found no hit:\t['3.808930343', '3.808933837', '3.808940002', '3.808942545', '3.808945521', '3.808955873', '3.808957\n",
      "1000 input query terms found no hit:\t['3.813831846', '3.813832534', '3.813848294', '3.813854973', '3.813861454', '3.813862065', '3.813863\n",
      "1000 input query terms found no hit:\t['3.818891342', '3.818896611', '3.818901466', '3.818907701', '3.81890917', '3.818917993', '3.8189185\n",
      "1000 input query terms found no hit:\t['3.823911291', '3.823918519', '3.823923472', '3.823927942', '3.823932142', '3.823945878', '3.823950\n",
      "1000 input query terms found no hit:\t['3.8288008', '3.82880111', '3.828802289', '3.828802809', '3.828804274', '3.828805692', '3.828807508\n",
      "1000 input query terms found no hit:\t['3.83362504', '3.833637573', '3.833642247', '3.833644331', '3.833645503', '3.833647614', '3.8336501\n",
      "1000 input query terms found no hit:\t['3.838485842', '3.838492404', '3.838495272', '3.838499373', '3.838501396', '3.838503112', '3.838504\n",
      "1000 input query terms found no hit:\t['3.843580065', '3.843581786', '3.843582722', '3.843585519', '3.843592076', '3.843592732', '3.843607\n",
      "1000 input query terms found no hit:\t['3.848458846', '3.848469572', '3.848470642', '3.848476231', '3.848477162', '3.848478146', '3.848486\n",
      "1000 input query terms found no hit:\t['3.853218946', '3.85322465', '3.853225116', '3.853227045', '3.853229159', '3.853230864', '3.8532348\n",
      "1000 input query terms found no hit:\t['3.858113437', '3.858118731', '3.858123183', '3.858125854', '3.858128846', '3.858130417', '3.858135\n",
      "1000 input query terms found no hit:\t['3.862760975', '3.862781022', '3.862781166', '3.862785682', '3.862787295', '3.862787839', '3.862789\n",
      "1000 input query terms found no hit:\t['3.867356448', '3.867358076', '3.867359641', '3.86736099', '3.867362939', '3.867365217', '3.8673701\n",
      "1000 input query terms found no hit:\t['3.872135373', '3.872136394', '3.8721436', '3.872147351', '3.872149837', '3.872154955', '3.87215668\n",
      "1000 input query terms found no hit:\t['3.876654562', '3.876655879', '3.876661022', '3.876661052', '3.876661146', '3.87666128', '3.8766622\n",
      "1000 input query terms found no hit:\t['3.88139579', '3.881398975', '3.881399071', '3.881403375', '3.881404117', '3.881405848', '3.8814114\n",
      "1000 input query terms found no hit:\t['3.886002744', '3.886008776', '3.886014073', '3.886024355', '3.886026595', '3.886028092', '3.886038\n",
      "1000 input query terms found no hit:\t['3.890762544', '3.890764083', '3.890764443', '3.890769968', '3.890771584', '3.890773878', '3.890785\n",
      "1000 input query terms found no hit:\t['3.895475995', '3.895476768', '3.895486311', '3.895497266', '3.895499115', '3.895499508', '3.895505\n",
      "1000 input query terms found no hit:\t['3.900170231', '3.900174308', '3.900175377', '3.900178513', '3.9001799', '3.900187889', '3.90019106\n",
      "1000 input query terms found no hit:\t['3.904851084', '3.90485131', '3.904855009', '3.904855219', '3.904877344', '3.904890109', '3.9048903\n",
      "1000 input query terms found no hit:\t['3.909464781', '3.909465215', '3.909465808', '3.909467465', '3.909467498', '3.909468671', '3.909472\n",
      "1000 input query terms found no hit:\t['3.914124266', '3.914139791', '3.914139922', '3.91414975', '3.914149971', '3.914168706', '3.9141699\n",
      "1000 input query terms found no hit:\t['3.919175346', '3.919181019', '3.919188279', '3.919198063', '3.919212205', '3.919221671', '3.919223\n",
      "1000 input query terms found no hit:\t['3.924083211', '3.92408694', '3.924092177', '3.924102197', '3.924106146', '3.924120739', '3.9241242\n",
      "1000 input query terms found no hit:\t['3.928747886', '3.928753683', '3.928770609', '3.928775851', '3.928782508', '3.9287854', '3.92878574\n",
      "1000 input query terms found no hit:\t['3.933491551', '3.9334946', '3.933495911', '3.933498841', '3.933502028', '3.933502837', '3.93350368\n",
      "1000 input query terms found no hit:\t['3.938354667', '3.938355239', '3.938355678', '3.938357617', '3.938359512', '3.938361974', '3.938365\n",
      "1000 input query terms found no hit:\t['3.942935476', '3.942951892', '3.942960545', '3.94296412', '3.942965751', '3.942968573', '3.9429758\n",
      "1000 input query terms found no hit:\t['3.947416249', '3.94741791', '3.947427487', '3.947429951', '3.947448444', '3.947451355', '3.9474552\n",
      "1000 input query terms found no hit:\t['3.951997508', '3.95200137', '3.952009763', '3.952021082', '3.952030686', '3.952032671', '3.9520356\n",
      "1000 input query terms found no hit:\t['3.956540485', '3.95656195', '3.956562221', '3.956572315', '3.956573247', '3.956586644', '3.9565875\n",
      "1000 input query terms found no hit:\t['3.961361334', '3.961362642', '3.961376447', '3.961381402', '3.961381846', '3.961382595', '3.961383\n",
      "1000 input query terms found no hit:\t['3.966149686', '3.966150922', '3.966152587', '3.966158631', '3.966158956', '3.966163418', '3.966177\n",
      "1000 input query terms found no hit:\t['3.970707729', '3.970710686', '3.970719395', '3.97072284', '3.970727585', '3.97072936', '3.97073561\n",
      "1000 input query terms found no hit:\t['3.975226983', '3.975234698', '3.975236079', '3.975237028', '3.975244469', '3.975244737', '3.975250\n",
      "1000 input query terms found no hit:\t['3.979794395', '3.979802676', '3.979806661', '3.979811604', '3.979812895', '3.979814868', '3.979815\n",
      "1000 input query terms found no hit:\t['3.984298434', '3.984300589', '3.98430215', '3.984304045', '3.984317183', '3.984329595', '3.9843312\n",
      "1000 input query terms found no hit:\t['3.989060294', '3.989064319', '3.989070676', '3.989071488', '3.98907158', '3.989073212', '3.9890855\n",
      "1000 input query terms found no hit:\t['3.993528869', '3.993546462', '3.993547833', '3.993552542', '3.993554788', '3.993557879', '3.993558\n",
      "1000 input query terms found no hit:\t['3.998327304', '3.998329994', '3.99833309', '3.998333489', '3.998341422', '3.998343558', '3.9983493\n",
      "1000 input query terms found no hit:\t['343413', '343472', '343477', '343505', '343521', '343578', '343637', '343641', '3437', '343702', '\n",
      "1000 input query terms found no hit:\t['390992', '390999', '391', '3910', '391002', '391003', '391013', '391037', '391051', '391059', '391\n",
      "1000 input query terms found no hit:\t['4.003762996', '4.003763096', '4.003764641', '4.003771803', '4.003782005', '4.003785167', '4.003785\n",
      "1000 input query terms found no hit:\t['4.008181575', '4.008184084', '4.008189508', '4.00819209', '4.00819965', '4.008200918', '4.00820256\n",
      "1000 input query terms found no hit:\t['4.013135452', '4.013144623', '4.013146125', '4.013146657', '4.013151612', '4.013170066', '4.013175\n",
      "1000 input query terms found no hit:\t['4.017487215', '4.017494048', '4.017511315', '4.017513601', '4.017516537', '4.017519263', '4.017522\n",
      "1000 input query terms found no hit:\t['4.022143455', '4.022153534', '4.022159262', '4.022166541', '4.022175877', '4.022190472', '4.022200\n",
      "1000 input query terms found no hit:\t['4.026850387', '4.026853577', '4.026853676', '4.02685862', '4.026861896', '4.026881429', '4.0268982\n",
      "1000 input query terms found no hit:\t['4.031763259', '4.031771895', '4.031776826', '4.031782603', '4.031789343', '4.031793714', '4.031793\n",
      "1000 input query terms found no hit:\t['4.036289001', '4.036292843', '4.036305519', '4.036310165', '4.03631022', '4.036311227', '4.0363128\n",
      "1000 input query terms found no hit:\t['4.040657915', '4.040658954', '4.040664981', '4.040668073', '4.040669536', '4.040676936', '4.040677\n",
      "1000 input query terms found no hit:\t['4.045406056', '4.045409916', '4.045412286', '4.045414277', '4.045417315', '4.045419676', '4.045420\n",
      "1000 input query terms found no hit:\t['4.050045917', '4.050051518', '4.050053957', '4.050055533', '4.050057012', '4.050058166', '4.050059\n",
      "1000 input query terms found no hit:\t['4.05496338', '4.054968062', '4.054968537', '4.054971652', '4.0549742', '4.054974551', '4.054984219\n",
      "1000 input query terms found no hit:\t['4.059573765', '4.059582841', '4.059583451', '4.059590247', '4.059596978', '4.059598474', '4.059604\n",
      "1000 input query terms found no hit:\t['4.064225189', '4.064248596', '4.064251427', '4.064252236', '4.064256153', '4.064267544', '4.064269\n",
      "1000 input query terms found no hit:\t['4.068938287', '4.068960529', '4.068960839', '4.068961571', '4.068967658', '4.068971466', '4.068973\n",
      "1000 input query terms found no hit:\t['4.073338118', '4.073340731', '4.073341245', '4.073341485', '4.073343533', '4.073362301', '4.073369\n",
      "1000 input query terms found no hit:\t['4.078205325', '4.078208641', '4.078209462', '4.078211578', '4.078217344', '4.078217756', '4.078227\n",
      "1000 input query terms found no hit:\t['4.082602132', '4.082606418', '4.082608076', '4.082608377', '4.08261131', '4.082612598', '4.0826177\n",
      "1000 input query terms found no hit:\t['4.087227402', '4.087231002', '4.087232482', '4.087235271', '4.087235904', '4.08723769', '4.0872394\n",
      "1000 input query terms found no hit:\t['4.091900196', '4.091901715', '4.091902344', '4.091905922', '4.091910877', '4.091911495', '4.091912\n",
      "1000 input query terms found no hit:\t['4.096687328', '4.096690106', '4.096690335', '4.096694462', '4.096704407', '4.096705491', '4.096707\n",
      "1000 input query terms found no hit:\t['4.101475343', '4.101479996', '4.101494086', '4.101498461', '4.101507376', '4.101507788', '4.101510\n",
      "1000 input query terms found no hit:\t['4.106057636', '4.106059581', '4.106061862', '4.106069163', '4.106071962', '4.106074202', '4.106081\n",
      "1000 input query terms found no hit:\t['4.110360572', '4.110361349', '4.110361448', '4.110361769', '4.110364262', '4.11036866', '4.1103756\n",
      "1000 input query terms found no hit:\t['4.114879393', '4.114881768', '4.114882505', '4.114882733', '4.114883441', '4.114897472', '4.114898\n",
      "1000 input query terms found no hit:\t['4.119453636', '4.119453767', '4.119455507', '4.119458096', '4.119464472', '4.119468675', '4.119470\n",
      "1000 input query terms found no hit:\t['4.124053119', '4.124054134', '4.124060224', '4.124063584', '4.124077079', '4.124080664', '4.124083\n",
      "1000 input query terms found no hit:\t['4.128598785', '4.128601097', '4.128607467', '4.128613738', '4.128620167', '4.128624123', '4.128631\n",
      "1000 input query terms found no hit:\t['4.133268659', '4.133271476', '4.133273362', '4.133277047', '4.133282867', '4.133284391', '4.133286\n",
      "1000 input query terms found no hit:\t['4.137632268', '4.137633784', '4.137655632', '4.1376581', '4.137660846', '4.137662058', '4.13766234\n",
      "1000 input query terms found no hit:\t['4.142013905', '4.142016016', '4.142017645', '4.142019439', '4.142021174', '4.142033067', '4.142033\n",
      "1000 input query terms found no hit:\t['4.146388872', '4.146389694', '4.14639039', '4.146395259', '4.146401323', '4.146403687', '4.1464184\n",
      "1000 input query terms found no hit:\t['4.151012094', '4.151013503', '4.151014357', '4.151020976', '4.151024257', '4.151026251', '4.151034\n",
      "1000 input query terms found no hit:\t['4.155621024', '4.155626341', '4.155628246', '4.155645806', '4.155646677', '4.155648026', '4.155650\n",
      "1000 input query terms found no hit:\t['4.160419751', '4.160420195', '4.160420924', '4.160423939', '4.160438956', '4.16044106', '4.1604527\n",
      "1000 input query terms found no hit:\t['4.165017093', '4.165023245', '4.165024737', '4.165026925', '4.165034959', '4.165037092', '4.165047\n",
      "1000 input query terms found no hit:\t['4.169422682', '4.169426933', '4.169443236', '4.169448449', '4.169450556', '4.169451001', '4.169453\n",
      "1000 input query terms found no hit:\t['4.174188324', '4.174189195', '4.174190841', '4.17419537', '4.174208542', '4.174210196', '4.1742136\n",
      "1000 input query terms found no hit:\t['4.178749049', '4.178754557', '4.178759242', '4.178766491', '4.178768396', '4.178768584', '4.178771\n",
      "1000 input query terms found no hit:\t['4.183303943', '4.183308722', '4.183310049', '4.183324985', '4.183328615', '4.183330926', '4.183331\n",
      "1000 input query terms found no hit:\t['4.18802838', '4.188028464', '4.18803629', '4.188066576', '4.188067682', '4.188072945', '4.18807427\n",
      "1000 input query terms found no hit:\t['4.192571285', '4.192571837', '4.192573826', '4.192581439', '4.192587967', '4.192588912', '4.192590\n",
      "1000 input query terms found no hit:\t['4.197233303', '4.197237251', '4.19725199', '4.19725431', '4.197270059', '4.197270841', '4.19727530\n",
      "1000 input query terms found no hit:\t['4.201771619', '4.201785172', '4.201791776', '4.201794386', '4.201816673', '4.201827827', '4.201828\n",
      "1000 input query terms found no hit:\t['4.206174501', '4.2061797', '4.206179975', '4.206187127', '4.20619032', '4.206198443', '4.206209487\n",
      "1000 input query terms found no hit:\t['4.210815922', '4.210817806', '4.21082436', '4.210826206', '4.210826637', '4.210828777', '4.2108307\n",
      "1000 input query terms found no hit:\t['4.215368915', '4.215379603', '4.215387745', '4.215387951', '4.215388142', '4.215391856', '4.215405\n",
      "1000 input query terms found no hit:\t['4.219851943', '4.219856336', '4.219857062', '4.219858602', '4.219860131', '4.219870032', '4.219870\n",
      "1000 input query terms found no hit:\t['4.224324399', '4.224328214', '4.224329624', '4.224343131', '4.224343275', '4.224348461', '4.224349\n",
      "1000 input query terms found no hit:\t['4.229025578', '4.229029188', '4.229043767', '4.229044394', '4.229053263', '4.229062182', '4.229064\n",
      "1000 input query terms found no hit:\t['4.233507721', '4.23350843', '4.23350954', '4.233512466', '4.23351267', '4.23351918', '4.233535383'\n",
      "1000 input query terms found no hit:\t['4.238082808', '4.238087219', '4.238087408', '4.238087676', '4.238095058', '4.238095131', '4.238095\n",
      "1000 input query terms found no hit:\t['4.242723764', '4.242732414', '4.242734784', '4.242737801', '4.242738065', '4.242740115', '4.242742\n",
      "1000 input query terms found no hit:\t['4.247399435', '4.247401575', '4.247401968', '4.247414938', '4.247422811', '4.247423393', '4.247424\n",
      "1000 input query terms found no hit:\t['4.251841211', '4.251845698', '4.251846369', '4.251846574', '4.251848642', '4.251859959', '4.251861\n",
      "1000 input query terms found no hit:\t['4.256290649', '4.256299904', '4.256302436', '4.256311307', '4.256311594', '4.256312322', '4.256314\n",
      "1000 input query terms found no hit:\t['4.260805027', '4.260809241', '4.260816452', '4.260820511', '4.260825775', '4.260826144', '4.260826\n",
      "1000 input query terms found no hit:\t['4.265401779', '4.265405877', '4.265406694', '4.26541711', '4.265421285', '4.265421752', '4.2654240\n",
      "1000 input query terms found no hit:\t['4.27004463', '4.270044776', '4.270045015', '4.27004778', '4.270049768', '4.270052654', '4.27005321\n",
      "1000 input query terms found no hit:\t['4.274527954', '4.274536469', '4.274548005', '4.27454818', '4.274561654', '4.274562296', '4.2745742\n",
      "1000 input query terms found no hit:\t['4.279335316', '4.279336262', '4.279337489', '4.279339991', '4.279343467', '4.279347089', '4.279363\n",
      "1000 input query terms found no hit:\t['4.284100461', '4.28410295', '4.284103904', '4.284107696', '4.284110301', '4.284111944', '4.2841133\n",
      "1000 input query terms found no hit:\t['4.288677115', '4.288709747', '4.288714168', '4.288730427', '4.288738828', '4.288743893', '4.288756\n",
      "1000 input query terms found no hit:\t['4.293415828', '4.29341672', '4.29341748', '4.293425113', '4.293425308', '4.293425456', '4.29342660\n",
      "1000 input query terms found no hit:\t['4.297935435', '4.297944588', '4.297945046', '4.297946379', '4.297949508', '4.297955629', '4.297955\n",
      "1000 input query terms found no hit:\t['4.302586763', '4.302592034', '4.302594705', '4.302597609', '4.302600653', '4.302604838', '4.302605\n",
      "1000 input query terms found no hit:\t['4.307294555', '4.307296994', '4.307298077', '4.307304966', '4.307305028', '4.307308747', '4.307310\n",
      "1000 input query terms found no hit:\t['4.311816093', '4.311836071', '4.311843787', '4.311853041', '4.311853388', '4.311854065', '4.311858\n",
      "1000 input query terms found no hit:\t['4.316343291', '4.316343346', '4.316344412', '4.316367191', '4.316367865', '4.31637112', '4.3163733\n",
      "1000 input query terms found no hit:\t['4.321068951', '4.321070779', '4.321074509', '4.321079675', '4.321079755', '4.321087316', '4.321090\n",
      "1000 input query terms found no hit:\t['4.325712648', '4.32571539', '4.325717675', '4.325723521', '4.325723535', '4.325728445', '4.3257288\n",
      "1000 input query terms found no hit:\t['4.330318284', '4.330319538', '4.330323715', '4.330325352', '4.330326228', '4.330326417', '4.330327\n",
      "1000 input query terms found no hit:\t['4.335128244', '4.335131541', '4.335133328', '4.335133677', '4.3351368', '4.335140712', '4.33514766\n",
      "1000 input query terms found no hit:\t['4.339571949', '4.339573917', '4.339581972', '4.339584969', '4.339587984', '4.339596789', '4.339598\n",
      "1000 input query terms found no hit:\t['4.344354884', '4.344356037', '4.34435652', '4.344357496', '4.34435771', '4.344358898', '4.34436042\n",
      "1000 input query terms found no hit:\t['4.348888978', '4.34889812', '4.348901898', '4.348901917', '4.348903709', '4.348906733', '4.3489100\n",
      "1000 input query terms found no hit:\t['4.353389729', '4.353395624', '4.35339612', '4.353399375', '4.353410428', '4.353415785', '4.3534170\n",
      "1000 input query terms found no hit:\t['4.358125739', '4.358135825', '4.358136779', '4.358141292', '4.35815849', '4.358161621', '4.3581623\n",
      "1000 input query terms found no hit:\t['4.36253089', '4.36253602', '4.362536565', '4.362543647', '4.362544757', '4.362546997', '4.36255900\n",
      "1000 input query terms found no hit:\t['4.367054615', '4.367063399', '4.367065111', '4.367073225', '4.36707574', '4.367077776', '4.3670784\n",
      "1000 input query terms found no hit:\t['4.371802566', '4.371821318', '4.371831714', '4.37183173', '4.371832278', '4.371837671', '4.3718415\n",
      "1000 input query terms found no hit:\t['4.376491231', '4.376499019', '4.37650415', '4.376504863', '4.376507697', '4.376509123', '4.3765149\n",
      "1000 input query terms found no hit:\t['4.380829894', '4.380833292', '4.380834828', '4.380850624', '4.380853477', '4.380858377', '4.380862\n",
      "1000 input query terms found no hit:\t['4.385372114', '4.385375863', '4.385379824', '4.385386429', '4.385406562', '4.385413058', '4.385426\n",
      "1000 input query terms found no hit:\t['4.389944805', '4.38994764', '4.389956156', '4.389960599', '4.38996097', '4.389966302', '4.38996980\n",
      "1000 input query terms found no hit:\t['4.394564651', '4.39457125', '4.39457465', '4.39457797', '4.394583408', '4.394583631', '4.394590996\n",
      "1000 input query terms found no hit:\t['4.399314557', '4.399314585', '4.39931969', '4.3993199', '4.399330806', '4.399336273', '4.399336352\n",
      "1000 input query terms found no hit:\t['4.404017549', '4.404019322', '4.404025069', '4.404032042', '4.404039863', '4.404052807', '4.404059\n",
      "1000 input query terms found no hit:\t['4.408895381', '4.408896737', '4.408903185', '4.408906152', '4.40890617', '4.408915858', '4.4089220\n",
      "1000 input query terms found no hit:\t['4.413527096', '4.413530542', '4.413534154', '4.413534777', '4.413537732', '4.413538842', '4.413544\n",
      "1000 input query terms found no hit:\t['4.418336884', '4.418339393', '4.418351451', '4.418353498', '4.418354012', '4.418354259', '4.418354\n",
      "1000 input query terms found no hit:\t['4.423084369', '4.423104981', '4.423110007', '4.423125616', '4.423126021', '4.423133141', '4.423140\n",
      "1000 input query terms found no hit:\t['4.427678684', '4.427679728', '4.427681906', '4.427683528', '4.427695417', '4.42769818', '4.4277028\n",
      "1000 input query terms found no hit:\t['4.432375892', '4.432376536', '4.432379172', '4.432384803', '4.432386422', '4.432387652', '4.432388\n",
      "1000 input query terms found no hit:\t['4.437007253', '4.437010186', '4.437016373', '4.437023911', '4.437027486', '4.4370408', '4.43704498\n",
      "1000 input query terms found no hit:\t['4.441772863', '4.441778525', '4.441785989', '4.44178694', '4.44178823', '4.441791459', '4.44179234\n",
      "1000 input query terms found no hit:\t['4.4465348', '4.446537211', '4.446539059', '4.446542755', '4.446544125', '4.446545972', '4.44655577\n",
      "1000 input query terms found no hit:\t['4.451203665', '4.451205503', '4.451207186', '4.451208778', '4.451209238', '4.451210656', '4.451213\n",
      "1000 input query terms found no hit:\t['4.45574484', '4.455746263', '4.455767883', '4.455769934', '4.455770924', '4.455771938', '4.4557818\n",
      "1000 input query terms found no hit:\t['4.460447045', '4.460452748', '4.460454888', '4.460457092', '4.460460461', '4.460463109', '4.460464\n",
      "1000 input query terms found no hit:\t['4.465198512', '4.465207107', '4.465209918', '4.465217823', '4.465222303', '4.465224607', '4.465231\n",
      "1000 input query terms found no hit:\t['4.469758752', '4.469759005', '4.469761095', '4.469763003', '4.469778252', '4.469779769', '4.469782\n",
      "1000 input query terms found no hit:\t['4.474360392', '4.47436403', '4.474364339', '4.474366964', '4.474392753', '4.474405005', '4.4744187\n",
      "1000 input query terms found no hit:\t['4.479277323', '4.479279009', '4.479282992', '4.479283112', '4.47928369', '4.479286184', '4.4792869\n",
      "1000 input query terms found no hit:\t['4.483983984', '4.483991603', '4.483995996', '4.483999323', '4.48400824', '4.484010496', '4.4840138\n",
      "1000 input query terms found no hit:\t['4.488644339', '4.488669977', '4.488695028', '4.488695584', '4.488710484', '4.488720525', '4.488722\n",
      "1000 input query terms found no hit:\t['4.49358167', '4.493596716', '4.493599309', '4.493602', '4.493602826', '4.493603033', '4.493612803'\n",
      "1000 input query terms found no hit:\t['4.498118352', '4.4981277', '4.498129721', '4.498131034', '4.498135096', '4.498135371', '4.49814362\n",
      "1000 input query terms found no hit:\t['4.502891205', '4.50289583', '4.502902691', '4.502910879', '4.502913169', '4.502914343', '4.5029161\n",
      "1000 input query terms found no hit:\t['4.507833621', '4.50783732', '4.507838108', '4.507840479', '4.507842307', '4.507843821', '4.5078443\n",
      "1000 input query terms found no hit:\t['4.512467938', '4.51247163', '4.512475189', '4.512476316', '4.512477256', '4.51248866', '4.51250461\n",
      "1000 input query terms found no hit:\t['4.517180492', '4.517184302', '4.517187443', '4.517194091', '4.517200936', '4.51720241', '4.5172029\n",
      "1000 input query terms found no hit:\t['4.521739671', '4.521740045', '4.521747881', '4.521748646', '4.521751059', '4.521752133', '4.521756\n",
      "1000 input query terms found no hit:\t['4.526352101', '4.526354486', '4.526360359', '4.526363223', '4.526363482', '4.526370715', '4.526370\n",
      "1000 input query terms found no hit:\t['4.530844131', '4.530850767', '4.53086842', '4.530870738', '4.530870812', '4.530872829', '4.5308756\n",
      "1000 input query terms found no hit:\t['4.535784569', '4.535784828', '4.53578585', '4.535786772', '4.535787946', '4.535795539', '4.5357986\n",
      "1000 input query terms found no hit:\t['4.540648619', '4.540648827', '4.540656593', '4.540660696', '4.540660846', '4.540664094', '4.540664\n",
      "1000 input query terms found no hit:\t['4.54519579', '4.545200513', '4.545202113', '4.545203362', '4.545204598', '4.545207562', '4.5452215\n",
      "1000 input query terms found no hit:\t['4.550192074', '4.550197221', '4.55020226', '4.550203721', '4.55020965', '4.55021057', '4.550218698\n",
      "1000 input query terms found no hit:\t['4.554861153', '4.554877334', '4.554887602', '4.554899728', '4.554907363', '4.554909495', '4.554911\n",
      "1000 input query terms found no hit:\t['4.559430656', '4.559436305', '4.559438574', '4.559442645', '4.559455636', '4.559474709', '4.559475\n",
      "1000 input query terms found no hit:\t['4.564135755', '4.56413961', '4.564151014', '4.564175979', '4.564178627', '4.564181804', '4.5641838\n",
      "1000 input query terms found no hit:\t['4.569024184', '4.56902999', '4.569035795', '4.569039927', '4.569046858', '4.569054355', '4.5690596\n",
      "1000 input query terms found no hit:\t['4.573656384', '4.573660907', '4.573663155', '4.5736669', '4.573677315', '4.573679129', '4.57368131\n",
      "1000 input query terms found no hit:\t['4.578218377', '4.578228359', '4.578228831', '4.578229568', '4.578232282', '4.578237028', '4.578237\n",
      "1000 input query terms found no hit:\t['4.582934097', '4.582934685', '4.58295186', '4.582952631', '4.58296892', '4.582971264', '4.58297747\n",
      "1000 input query terms found no hit:\t['4.587640585', '4.58764766', '4.587647815', '4.587664128', '4.587674361', '4.587674773', '4.5876782\n",
      "1000 input query terms found no hit:\t['4.592172428', '4.592176067', '4.592180097', '4.592189563', '4.592191472', '4.592193396', '4.592199\n",
      "1000 input query terms found no hit:\t['4.597056427', '4.597062116', '4.597064533', '4.597068187', '4.597074706', '4.597074931', '4.597075\n",
      "1000 input query terms found no hit:\t['4.601704496', '4.601713695', '4.601714246', '4.601720382', '4.601725025', '4.601747494', '4.601752\n",
      "1000 input query terms found no hit:\t['4.606597142', '4.606597398', '4.6065992', '4.606600827', '4.606615847', '4.606615914', '4.60661608\n",
      "1000 input query terms found no hit:\t['4.611298663', '4.611304038', '4.611307886', '4.611315535', '4.611316543', '4.611319701', '4.611320\n",
      "1000 input query terms found no hit:\t['4.615745433', '4.615749347', '4.615749711', '4.615761749', '4.615765333', '4.615768282', '4.615768\n",
      "1000 input query terms found no hit:\t['4.620427943', '4.620448572', '4.620462816', '4.620464578', '4.620478154', '4.620485853', '4.620500\n",
      "1000 input query terms found no hit:\t['4.625151754', '4.625163501', '4.625166321', '4.625178915', '4.625182677', '4.625192099', '4.625198\n",
      "1000 input query terms found no hit:\t['4.629886288', '4.629896572', '4.629901051', '4.629915404', '4.62991627', '4.629917576', '4.6299207\n",
      "1000 input query terms found no hit:\t['4.634835667', '4.63483728', '4.634838083', '4.634849599', '4.634854274', '4.634871291', '4.6348875\n",
      "1000 input query terms found no hit:\t['4.639469953', '4.639477812', '4.639480412', '4.63948185', '4.639488248', '4.639497369', '4.6395017\n",
      "1000 input query terms found no hit:\t['4.644082808', '4.644084899', '4.644089061', '4.644090144', '4.644093504', '4.644093816', '4.644096\n",
      "1000 input query terms found no hit:\t['4.648870738', '4.64887161', '4.648887015', '4.648893304', '4.648895496', '4.648900142', '4.6489155\n",
      "1000 input query terms found no hit:\t['4.653885417', '4.653887437', '4.653895836', '4.653896244', '4.653902203', '4.653902969', '4.653903\n",
      "1000 input query terms found no hit:\t['4.65894153', '4.65894256', '4.658944677', '4.658952012', '4.658956665', '4.658966964', '4.65897249\n",
      "1000 input query terms found no hit:\t['4.663656324', '4.663656807', '4.66365694', '4.663665383', '4.663665998', '4.663670057', '4.6636713\n",
      "1000 input query terms found no hit:\t['4.668455064', '4.668459564', '4.668466587', '4.668473175', '4.668473669', '4.66847456', '4.6684906\n",
      "1000 input query terms found no hit:\t['4.672997845', '4.673001219', '4.67300379', '4.673011688', '4.673013058', '4.673013133', '4.6730144\n",
      "1000 input query terms found no hit:\t['4.677665234', '4.677667282', '4.677683404', '4.677686734', '4.677688591', '4.677689808', '4.677693\n",
      "1000 input query terms found no hit:\t['4.68258238', '4.682591823', '4.682596369', '4.682599571', '4.682606525', '4.682607147', '4.6826203\n",
      "1000 input query terms found no hit:\t['4.687301292', '4.68730503', '4.687310654', '4.687313874', '4.687325408', '4.687325462', '4.6873280\n",
      "1000 input query terms found no hit:\t['4.692131032', '4.692132495', '4.692135008', '4.692140449', '4.692141464', '4.692141608', '4.692149\n",
      "1000 input query terms found no hit:\t['4.697319589', '4.697325519', '4.697334419', '4.697339262', '4.697343925', '4.697346392', '4.697348\n",
      "1000 input query terms found no hit:\t['4.702013132', '4.702027832', '4.702027883', '4.702028461', '4.702032267', '4.702048002', '4.702052\n",
      "1000 input query terms found no hit:\t['4.706705378', '4.706708644', '4.706714836', '4.70671663', '4.706719278', '4.70672038', '4.70672482\n",
      "1000 input query terms found no hit:\t['4.711656624', '4.711657532', '4.711658809', '4.711661802', '4.71166899', '4.71167201', '4.71167415\n",
      "1000 input query terms found no hit:\t['4.716426187', '4.71643292', '4.716434755', '4.71644403', '4.716449286', '4.716449972', '4.71645001\n",
      "1000 input query terms found no hit:\t['4.721177495', '4.721179861', '4.721183491', '4.721185297', '4.7211878', '4.721194114', '4.72120149\n",
      "1000 input query terms found no hit:\t['4.726242101', '4.726252865', '4.726254334', '4.726259862', '4.726273837', '4.726278158', '4.726278\n",
      "1000 input query terms found no hit:\t['4.731139678', '4.731141393', '4.731144637', '4.731145573', '4.731149453', '4.73115072', '4.7311544\n",
      "1000 input query terms found no hit:\t['4.736093029', '4.73610176', '4.736104573', '4.736105613', '4.736107656', '4.736109836', '4.7361108\n",
      "1000 input query terms found no hit:\t['4.74113577', '4.741136149', '4.741138832', '4.741139917', '4.741141848', '4.741176742', '4.7411828\n",
      "1000 input query terms found no hit:\t['4.745755651', '4.745786441', '4.745797816', '4.745798952', '4.745800008', '4.745805198', '4.745812\n",
      "1000 input query terms found no hit:\t['4.75082501', '4.750826825', '4.75084137', '4.750843024', '4.750848707', '4.750849738', '4.75086828\n",
      "1000 input query terms found no hit:\t['4.755838778', '4.755839503', '4.755847029', '4.755847873', '4.75585014', '4.755854388', '4.7558608\n",
      "1000 input query terms found no hit:\t['4.760982078', '4.760982444', '4.760982671', '4.760996816', '4.760998966', '4.760999274', '4.761002\n",
      "1000 input query terms found no hit:\t['4.765664353', '4.765669944', '4.7656795', '4.765693669', '4.76569419', '4.765700262', '4.765708227\n",
      "1000 input query terms found no hit:\t['4.770575136', '4.770578907', '4.770578982', '4.770580225', '4.77059904', '4.770601242', '4.7706048\n",
      "1000 input query terms found no hit:\t['4.77542134', '4.775423986', '4.775440268', '4.775443135', '4.775455538', '4.775455747', '4.7754641\n",
      "1000 input query terms found no hit:\t['4.779973093', '4.779989644', '4.780008332', '4.780008625', '4.780008876', '4.780009462', '4.780012\n",
      "1000 input query terms found no hit:\t['4.784823837', '4.7848283', '4.784834395', '4.784848258', '4.784853813', '4.784863276', '4.78486513\n",
      "1000 input query terms found no hit:\t['4.789552627', '4.789554798', '4.78955532', '4.789555668', '4.789557703', '4.789560978', '4.7895643\n",
      "1000 input query terms found no hit:\t['4.794398008', '4.794401582', '4.79440232', '4.79440527', '4.794405541', '4.794409592', '4.79441135\n",
      "1000 input query terms found no hit:\t['4.7992096', '4.79921148', '4.799216666', '4.799217396', '4.799221708', '4.799223428', '4.799223722\n",
      "1000 input query terms found no hit:\t['4.804166428', '4.804173599', '4.804179149', '4.804186735', '4.804186805', '4.804193434', '4.804203\n",
      "1000 input query terms found no hit:\t['4.809278704', '4.809284972', '4.809297509', '4.809298749', '4.809301882', '4.809306244', '4.809315\n",
      "1000 input query terms found no hit:\t['4.814352132', '4.814354811', '4.814357183', '4.814359096', '4.814363859', '4.814368266', '4.814368\n",
      "1000 input query terms found no hit:\t['4.819394974', '4.819397171', '4.819402573', '4.819402844', '4.819408326', '4.819427806', '4.819428\n",
      "1000 input query terms found no hit:\t['4.824409357', '4.824413633', '4.824414994', '4.824424451', '4.824426825', '4.824429446', '4.824442\n",
      "1000 input query terms found no hit:\t['4.829321301', '4.82932279', '4.829323727', '4.829324537', '4.829329354', '4.829330524', '4.8293315\n",
      "1000 input query terms found no hit:\t['4.834428133', '4.834431585', '4.834433322', '4.834433569', '4.834439292', '4.834440339', '4.834446\n",
      "1000 input query terms found no hit:\t['4.839489319', '4.839502938', '4.839507251', '4.839508018', '4.8395087', '4.839512366', '4.83951968\n",
      "1000 input query terms found no hit:\t['4.844365871', '4.844366728', '4.844368368', '4.844378188', '4.84438354', '4.844385603', '4.8443859\n",
      "1000 input query terms found no hit:\t['4.849038923', '4.849041896', '4.849046705', '4.849051007', '4.849052085', '4.849056195', '4.849067\n",
      "1000 input query terms found no hit:\t['4.854140055', '4.854151552', '4.854159515', '4.854164108', '4.854174236', '4.854185233', '4.854185\n",
      "1000 input query terms found no hit:\t['4.858918613', '4.85891911', '4.8589223', '4.858923764', '4.858924412', '4.858925542', '4.858933143\n",
      "1000 input query terms found no hit:\t['4.863981339', '4.86398267', '4.86399095', '4.863994183', '4.863998169', '4.86399869', '4.863999212\n",
      "1000 input query terms found no hit:\t['4.869042589', '4.869060699', '4.869063267', '4.869068181', '4.869074263', '4.869080565', '4.869094\n",
      "1000 input query terms found no hit:\t['4.874128563', '4.874153703', '4.874157312', '4.874158736', '4.874160458', '4.874168671', '4.874169\n",
      "1000 input query terms found no hit:\t['4.879302317', '4.87930741', '4.879311798', '4.879316315', '4.879316661', '4.879321901', '4.8793229\n",
      "1000 input query terms found no hit:\t['4.884465051', '4.884468383', '4.88446928', '4.88447435', '4.884475041', '4.884475166', '4.88448006\n",
      "1000 input query terms found no hit:\t['4.889307665', '4.889311952', '4.889314522', '4.889325344', '4.889327854', '4.889332349', '4.889349\n",
      "1000 input query terms found no hit:\t['4.894377673', '4.894386727', '4.894387414', '4.894395123', '4.894404761', '4.894405939', '4.894408\n",
      "1000 input query terms found no hit:\t['4.89932693', '4.899332478', '4.899332974', '4.899339485', '4.89934288', '4.899351123', '4.89935127\n",
      "1000 input query terms found no hit:\t['4.904186624', '4.904192624', '4.904217949', '4.904218729', '4.90421939', '4.904220365', '4.9042231\n",
      "1000 input query terms found no hit:\t['4.908786997', '4.908787259', '4.908788377', '4.908791336', '4.908793277', '4.908795969', '4.908803\n",
      "1000 input query terms found no hit:\t['4.913758357', '4.913766813', '4.91377607', '4.913788358', '4.913792343', '4.913796283', '4.9137982\n",
      "1000 input query terms found no hit:\t['4.918848877', '4.918852318', '4.918852747', '4.918853043', '4.918856817', '4.918859462', '4.918859\n",
      "1000 input query terms found no hit:\t['4.923952981', '4.923967338', '4.923970964', '4.923978705', '4.923979024', '4.923982007', '4.923984\n",
      "1000 input query terms found no hit:\t['4.929170843', '4.929176138', '4.929178078', '4.92917898', '4.929180172', '4.929182814', '4.9291907\n",
      "1000 input query terms found no hit:\t['4.934236496', '4.934239522', '4.934242064', '4.934250386', '4.934250851', '4.934251696', '4.934255\n",
      "1000 input query terms found no hit:\t['4.939096954', '4.939100571', '4.939106994', '4.939107392', '4.939111874', '4.939113205', '4.939116\n",
      "1000 input query terms found no hit:\t['4.944503753', '4.944504243', '4.944532337', '4.944534539', '4.944538328', '4.94454416', '4.9445494\n",
      "1000 input query terms found no hit:\t['4.949460279', '4.949461899', '4.949463724', '4.949464926', '4.949465373', '4.949482915', '4.949485\n",
      "1000 input query terms found no hit:\t['4.954564475', '4.954568423', '4.954568805', '4.954570597', '4.954570739', '4.954571781', '4.954583\n",
      "1000 input query terms found no hit:\t['4.959284623', '4.959290321', '4.959307686', '4.959314242', '4.959322642', '4.959326613', '4.959333\n",
      "1000 input query terms found no hit:\t['4.964337505', '4.964338951', '4.964345226', '4.964349495', '4.964353184', '4.964364677', '4.964366\n",
      "1000 input query terms found no hit:\t['4.969124156', '4.969125918', '4.969133033', '4.969137026', '4.969138161', '4.969141777', '4.969143\n",
      "1000 input query terms found no hit:\t['4.97432632', '4.974328434', '4.974331099', '4.974340428', '4.974354464', '4.974355109', '4.9743561\n",
      "1000 input query terms found no hit:\t['4.979157223', '4.979157488', '4.979165894', '4.979170223', '4.979171976', '4.979174166', '4.979176\n",
      "1000 input query terms found no hit:\t['4.984293964', '4.984305635', '4.984306359', '4.984312343', '4.984313613', '4.984324366', '4.984330\n",
      "1000 input query terms found no hit:\t['4.989672106', '4.989674347', '4.989680374', '4.989691272', '4.989691796', '4.989691858', '4.989693\n",
      "1000 input query terms found no hit:\t['4.994841054', '4.994842214', '4.994846036', '4.994853374', '4.994864345', '4.99486457', '4.9948779\n",
      "1000 input query terms found no hit:\t['400238', '400242', '400258', '400322', '400359', '4004', '400451', '400456', '4005', '400500', '40\n",
      "1000 input query terms found no hit:\t['4724', '4725', '4726', '4728', '4729', '473', '4731', '4733', '4734', '4735', '4736', '4738', '473\n",
      "1000 input query terms found no hit:\t['5.003754099', '5.003754713', '5.003755112', '5.003755326', '5.003758476', '5.003765001', '5.003769\n",
      "1000 input query terms found no hit:\t['5.008965429', '5.008965517', '5.008966912', '5.008973966', '5.008974512', '5.008975363', '5.008980\n",
      "1000 input query terms found no hit:\t['5.013878901', '5.013879458', '5.01388811', '5.013893853', '5.013894702', '5.013899871', '5.0139013\n",
      "1000 input query terms found no hit:\t['5.019187865', '5.019188396', '5.019205692', '5.01920815', '5.019218934', '5.019220508', '5.0192214\n",
      "1000 input query terms found no hit:\t['5.024218203', '5.024221976', '5.024222402', '5.024234756', '5.024242217', '5.024242895', '5.024243\n",
      "1000 input query terms found no hit:\t['5.029104306', '5.029105361', '5.029111623', '5.029115873', '5.029120838', '5.029123928', '5.029131\n",
      "1000 input query terms found no hit:\t['5.033873392', '5.033874618', '5.033887498', '5.033887618', '5.03388763', '5.033891523', '5.0338949\n",
      "1000 input query terms found no hit:\t['5.038732605', '5.038737185', '5.038738469', '5.038739669', '5.038740509', '5.038750612', '5.038759\n",
      "1000 input query terms found no hit:\t['5.043796', '5.043796697', '5.043801504', '5.043801866', '5.043813502', '5.043821601', '5.043825166\n",
      "1000 input query terms found no hit:\t['5.04884256', '5.048845808', '5.048864286', '5.048870138', '5.048877157', '5.048881971', '5.0488825\n",
      "1000 input query terms found no hit:\t['5.053891943', '5.053896726', '5.053897622', '5.053903678', '5.053915133', '5.053915335', '5.053916\n",
      "1000 input query terms found no hit:\t['5.059075151', '5.059085628', '5.059096514', '5.059097484', '5.059098154', '5.059106767', '5.059113\n",
      "1000 input query terms found no hit:\t['5.064021994', '5.064022106', '5.064023561', '5.064023689', '5.06402601', '5.06402837', '5.06402855\n",
      "1000 input query terms found no hit:\t['5.068860047', '5.068866864', '5.068874906', '5.06889316', '5.068896968', '5.068901001', '5.0689013\n",
      "1000 input query terms found no hit:\t['5.073696853', '5.073704813', '5.073705713', '5.073720421', '5.07372276', '5.073728327', '5.0737380\n",
      "1000 input query terms found no hit:\t['5.078956119', '5.078975223', '5.078975872', '5.078991493', '5.078992725', '5.079018299', '5.079029\n",
      "1000 input query terms found no hit:\t['5.084042357', '5.084051305', '5.084062656', '5.084067635', '5.084069369', '5.084083341', '5.084086\n",
      "1000 input query terms found no hit:\t['5.089171335', '5.089176762', '5.089183879', '5.089192222', '5.089196472', '5.089208363', '5.089211\n",
      "1000 input query terms found no hit:\t['5.09428063', '5.094294445', '5.094294711', '5.094296547', '5.094297041', '5.09429909', '5.09430103\n",
      "1000 input query terms found no hit:\t['5.099423195', '5.099423493', '5.099426938', '5.099426979', '5.099442771', '5.099448677', '5.099454\n",
      "1000 input query terms found no hit:\t['5.104454382', '5.10445725', '5.104459719', '5.104481345', '5.104485372', '5.104493742', '5.1044984\n",
      "1000 input query terms found no hit:\t['5.109423516', '5.109424101', '5.109424563', '5.109432749', '5.109435734', '5.109438628', '5.109442\n",
      "1000 input query terms found no hit:\t['5.114549713', '5.114553309', '5.114554059', '5.11455917', '5.114568553', '5.114576969', '5.1145825\n",
      "1000 input query terms found no hit:\t['5.119754432', '5.119759826', '5.11976513', '5.119776159', '5.119779466', '5.119792196', '5.1197998\n",
      "1000 input query terms found no hit:\t['5.125078447', '5.125080361', '5.125080971', '5.125084638', '5.125085247', '5.12508724', '5.1250886\n",
      "1000 input query terms found no hit:\t['5.130152056', '5.130158935', '5.130171467', '5.130171786', '5.130177647', '5.130180768', '5.130182\n",
      "1000 input query terms found no hit:\t['5.135457983', '5.135459142', '5.13546202', '5.13547917', '5.135480155', '5.135487278', '5.13549067\n",
      "1000 input query terms found no hit:\t['5.140719471', '5.140719512', '5.1407201', '5.140720417', '5.140723301', '5.140723361', '5.14074054\n",
      "1000 input query terms found no hit:\t['5.145765675', '5.145767155', '5.145768804', '5.145771987', '5.145777082', '5.145782146', '5.145789\n",
      "1000 input query terms found no hit:\t['5.150854921', '5.150860637', '5.150864334', '5.150865613', '5.150867665', '5.150874479', '5.150876\n",
      "1000 input query terms found no hit:\t['5.156044317', '5.156052611', '5.156053185', '5.156054445', '5.156065304', '5.156070217', '5.156071\n",
      "1000 input query terms found no hit:\t['5.161002664', '5.161017543', '5.16102696', '5.16102836', '5.161039929', '5.161050262', '5.16105089\n",
      "1000 input query terms found no hit:\t['5.166021863', '5.166034147', '5.166037267', '5.166039644', '5.166041918', '5.166056827', '5.166058\n",
      "1000 input query terms found no hit:\t['5.171430952', '5.171439257', '5.171439744', '5.171441801', '5.171448847', '5.171454004', '5.171454\n",
      "1000 input query terms found no hit:\t['5.176710355', '5.176714124', '5.176722066', '5.176725872', '5.176737023', '5.176749555', '5.176753\n",
      "1000 input query terms found no hit:\t['5.181690987', '5.181700323', '5.181700346', '5.18170497', '5.181705964', '5.181707264', '5.1817080\n",
      "1000 input query terms found no hit:\t['5.186828013', '5.18683259', '5.186839979', '5.186845356', '5.186847551', '5.186847823', '5.1868534\n",
      "1000 input query terms found no hit:\t['5.192069989', '5.19208268', '5.192088514', '5.192110187', '5.192112783', '5.192118638', '5.1921198\n",
      "1000 input query terms found no hit:\t['5.197002936', '5.197010935', '5.197019483', '5.197026079', '5.197032543', '5.197032585', '5.197033\n",
      "1000 input query terms found no hit:\t['5.202026224', '5.202028158', '5.202029378', '5.202032081', '5.202033513', '5.20203432', '5.2020435\n",
      "1000 input query terms found no hit:\t['5.207032334', '5.207051285', '5.207054935', '5.207055781', '5.207059925', '5.207062485', '5.207074\n",
      "1000 input query terms found no hit:\t['5.212150644', '5.212151052', '5.212153798', '5.212160431', '5.212164833', '5.212165134', '5.212169\n",
      "1000 input query terms found no hit:\t['5.217435368', '5.217442725', '5.217476269', '5.217483928', '5.217488194', '5.217502562', '5.217510\n",
      "1000 input query terms found no hit:\t['5.222553837', '5.222554942', '5.222557494', '5.22255846', '5.222560566', '5.222560864', '5.2225667\n",
      "1000 input query terms found no hit:\t['5.227627117', '5.22763127', '5.227650657', '5.22765802', '5.227663891', '5.227666359', '5.22766821\n",
      "1000 input query terms found no hit:\t['5.232694972', '5.232698938', '5.2327011', '5.232712126', '5.232714179', '5.232716342', '5.23271720\n",
      "1000 input query terms found no hit:\t['5.237845764', '5.237863828', '5.237867697', '5.2378747', '5.237885412', '5.237895524', '5.23791019\n",
      "1000 input query terms found no hit:\t['5.243225732', '5.243233814', '5.243238758', '5.243245623', '5.243250145', '5.2432503', '5.24325511\n",
      "1000 input query terms found no hit:\t['5.248737623', '5.248746934', '5.248751066', '5.248761255', '5.248762497', '5.248765244', '5.248771\n",
      "1000 input query terms found no hit:\t['5.25398909', '5.25399193', '5.253995717', '5.254007919', '5.254008762', '5.254008975', '5.25401163\n",
      "1000 input query terms found no hit:\t['5.259076637', '5.259097977', '5.259104372', '5.259105596', '5.259114353', '5.259124611', '5.259129\n",
      "1000 input query terms found no hit:\t['5.264568563', '5.264573986', '5.264586616', '5.264587151', '5.264587965', '5.264601173', '5.264606\n",
      "1000 input query terms found no hit:\t['5.269591847', '5.269593553', '5.269601273', '5.269628836', '5.269629565', '5.26963429', '5.2696367\n",
      "1000 input query terms found no hit:\t['5.274847882', '5.274859226', '5.274864917', '5.274870937', '5.274873267', '5.274878501', '5.274881\n",
      "1000 input query terms found no hit:\t['5.280014289', '5.280019666', '5.280019679', '5.280020576', '5.280031692', '5.280034201', '5.280053\n",
      "1000 input query terms found no hit:\t['5.285300668', '5.285312385', '5.285313158', '5.285321572', '5.285322599', '5.285325727', '5.285326\n",
      "1000 input query terms found no hit:\t['5.290642705', '5.290653283', '5.290653346', '5.290653397', '5.290664599', '5.290670222', '5.290671\n",
      "1000 input query terms found no hit:\t['5.296019033', '5.296022096', '5.296027605', '5.296037537', '5.296051379', '5.296052558', '5.296053\n",
      "1000 input query terms found no hit:\t['5.301110839', '5.301111654', '5.301113789', '5.301118928', '5.301119332', '5.301126842', '5.301127\n",
      "1000 input query terms found no hit:\t['5.306586854', '5.306588842', '5.306599052', '5.306606766', '5.306615281', '5.306617919', '5.306624\n",
      "1000 input query terms found no hit:\t['5.311586594', '5.311593008', '5.311593442', '5.311600237', '5.311609505', '5.311613094', '5.311614\n",
      "1000 input query terms found no hit:\t['5.31679642', '5.316797538', '5.316798763', '5.316802691', '5.316803872', '5.316804169', '5.3168043\n",
      "1000 input query terms found no hit:\t['5.322129035', '5.322132827', '5.322145152', '5.322146299', '5.322146822', '5.322156755', '5.322160\n",
      "1000 input query terms found no hit:\t['5.3273201', '5.327320637', '5.327322237', '5.327330046', '5.32733405', '5.327355263', '5.327362396\n",
      "1000 input query terms found no hit:\t['5.332563064', '5.332566437', '5.332585568', '5.33258707', '5.332587716', '5.332593853', '5.3325965\n",
      "1000 input query terms found no hit:\t['5.33785611', '5.337857029', '5.337857856', '5.337859929', '5.337865002', '5.337874344', '5.3378749\n",
      "1000 input query terms found no hit:\t['5.343329263', '5.343331229', '5.343333892', '5.343334625', '5.343335047', '5.343347424', '5.343352\n",
      "1000 input query terms found no hit:\t['5.348567037', '5.348568896', '5.348572904', '5.348585177', '5.348586035', '5.348587615', '5.348596\n",
      "1000 input query terms found no hit:\t['5.35385921', '5.353862519', '5.353876092', '5.353877545', '5.353882745', '5.35389562', '5.35389772\n",
      "1000 input query terms found no hit:\t['5.359259172', '5.359260719', '5.359262667', '5.359264524', '5.3592694', '5.35927118', '5.359271879\n",
      "1000 input query terms found no hit:\t['5.364209242', '5.364215633', '5.364216331', '5.364231294', '5.364236773', '5.364241209', '5.364243\n",
      "1000 input query terms found no hit:\t['5.369728384', '5.369729441', '5.369734402', '5.369737683', '5.369741706', '5.369742177', '5.369747\n",
      "1000 input query terms found no hit:\t['5.374860805', '5.374864854', '5.374876634', '5.374880271', '5.374880351', '5.374880571', '5.374881\n",
      "1000 input query terms found no hit:\t['5.380000456', '5.380004425', '5.380006094', '5.380017384', '5.380020892', '5.380024797', '5.380026\n",
      "1000 input query terms found no hit:\t['5.385426582', '5.385428288', '5.385431878', '5.385432669', '5.38543653', '5.385457425', '5.3854608\n",
      "1000 input query terms found no hit:\t['5.390648835', '5.390649823', '5.39065422', '5.390663699', '5.39066568', '5.390679918', '5.39068493\n",
      "1000 input query terms found no hit:\t['5.395730384', '5.39573553', '5.395742296', '5.39574972', '5.39575303', '5.395760946', '5.395760975\n",
      "1000 input query terms found no hit:\t['5.400648519', '5.400650789', '5.400659584', '5.400661749', '5.400666727', '5.40067278', '5.4006742\n",
      "1000 input query terms found no hit:\t['5.406225614', '5.406232414', '5.40623969', '5.406247043', '5.406250932', '5.406254105', '5.4062580\n",
      "1000 input query terms found no hit:\t['5.411170719', '5.411178479', '5.411183205', '5.411192441', '5.411193005', '5.411206435', '5.411206\n",
      "1000 input query terms found no hit:\t['5.416291726', '5.416295659', '5.416314277', '5.416315003', '5.41632019', '5.416331292', '5.4163392\n",
      "1000 input query terms found no hit:\t['5.421200284', '5.421215794', '5.42122371', '5.421238084', '5.421239144', '5.4212487', '5.421251862\n",
      "1000 input query terms found no hit:\t['5.426251786', '5.42625363', '5.426259393', '5.426259949', '5.426265437', '5.426265713', '5.4262702\n",
      "1000 input query terms found no hit:\t['5.431389147', '5.431400522', '5.431405626', '5.431411245', '5.431420115', '5.43143073', '5.4314401\n",
      "1000 input query terms found no hit:\t['5.436735968', '5.436737361', '5.43674546', '5.43674967', '5.436754078', '5.43675585', '5.43676277'\n",
      "1000 input query terms found no hit:\t['5.441848415', '5.4418491', '5.441866829', '5.441876343', '5.441876398', '5.441878792', '5.44188127\n",
      "1000 input query terms found no hit:\t['5.447045232', '5.447073902', '5.447074691', '5.447076678', '5.447095712', '5.447101637', '5.447104\n",
      "1000 input query terms found no hit:\t['5.45214899', '5.452153704', '5.452153933', '5.45215415', '5.45215549', '5.452156403', '5.45216465'\n",
      "1000 input query terms found no hit:\t['5.457282347', '5.457285881', '5.457292613', '5.457293332', '5.457293764', '5.457294896', '5.457304\n",
      "1000 input query terms found no hit:\t['5.462317116', '5.462344617', '5.462345915', '5.462349576', '5.462360925', '5.462367577', '5.462370\n",
      "1000 input query terms found no hit:\t['5.467526123', '5.46752831', '5.467532338', '5.46753248', '5.467534604', '5.467534893', '5.46753826\n",
      "1000 input query terms found no hit:\t['5.472502791', '5.472516215', '5.472523074', '5.472525848', '5.47252608', '5.472528239', '5.4725304\n",
      "1000 input query terms found no hit:\t['5.477461692', '5.4774743', '5.477477281', '5.477480236', '5.477482568', '5.477483756', '5.47748972\n",
      "1000 input query terms found no hit:\t['5.482359299', '5.482359677', '5.482360586', '5.48236295', '5.482365154', '5.482366368', '5.4823723\n",
      "1000 input query terms found no hit:\t['5.487397632', '5.487400204', '5.487400257', '5.487402559', '5.487409639', '5.487409792', '5.487416\n",
      "1000 input query terms found no hit:\t['5.49242649', '5.492446865', '5.492450018', '5.492456698', '5.492457793', '5.492458336', '5.4924647\n",
      "1000 input query terms found no hit:\t['5.497919502', '5.4979308', '5.497931356', '5.4979318', '5.497934007', '5.497935983', '5.497940091'\n",
      "1000 input query terms found no hit:\t['5.503110815', '5.503111171', '5.503122745', '5.503123101', '5.503126819', '5.503134185', '5.503143\n",
      "1000 input query terms found no hit:\t['5.508359835', '5.508364112', '5.508364778', '5.508366181', '5.508373018', '5.508382663', '5.508387\n",
      "1000 input query terms found no hit:\t['5.513406785', '5.513407231', '5.513410673', '5.513418118', '5.51342017', '5.51343234', '5.51343239\n",
      "1000 input query terms found no hit:\t['5.518554815', '5.518555455', '5.518561496', '5.518562096', '5.518563437', '5.518564556', '5.518566\n",
      "1000 input query terms found no hit:\t['5.523492556', '5.523498472', '5.523502037', '5.523503016', '5.523506506', '5.523523265', '5.523525\n",
      "1000 input query terms found no hit:\t['5.528461095', '5.528474826', '5.528482794', '5.528485622', '5.528490721', '5.528494114', '5.528496\n",
      "1000 input query terms found no hit:\t['5.533722884', '5.533725433', '5.533726921', '5.533727876', '5.533741437', '5.533743632', '5.533748\n",
      "1000 input query terms found no hit:\t['5.538763572', '5.538768533', '5.538774801', '5.538780517', '5.538794426', '5.538804914', '5.538815\n",
      "1000 input query terms found no hit:\t['5.543950193', '5.543950831', '5.543955782', '5.543958706', '5.543960081', '5.543960925', '5.543961\n",
      "1000 input query terms found no hit:\t['5.549323232', '5.549326911', '5.549328978', '5.549332645', '5.549345181', '5.549346557', '5.549346\n",
      "1000 input query terms found no hit:\t['5.554271156', '5.554280465', '5.554285723', '5.554292819', '5.554297226', '5.554297533', '5.554298\n",
      "1000 input query terms found no hit:\t['5.559171738', '5.559174277', '5.559175435', '5.559177668', '5.559182353', '5.559193228', '5.559195\n",
      "1000 input query terms found no hit:\t['5.564145926', '5.564147333', '5.564152578', '5.564155099', '5.564157802', '5.564172871', '5.564183\n",
      "1000 input query terms found no hit:\t['5.569278583', '5.569280381', '5.569282623', '5.569285745', '5.56928587', '5.56928682', '5.56929849\n",
      "1000 input query terms found no hit:\t['5.574201545', '5.574202333', '5.574203067', '5.574213593', '5.574217046', '5.574223435', '5.574228\n",
      "1000 input query terms found no hit:\t['5.579220871', '5.579220934', '5.579225025', '5.579228274', '5.579229898', '5.579230233', '5.579233\n",
      "1000 input query terms found no hit:\t['5.584149649', '5.584152309', '5.584156844', '5.584166833', '5.584173985', '5.584183683', '5.584198\n",
      "1000 input query terms found no hit:\t['5.589506924', '5.589511058', '5.58952323', '5.589527461', '5.589530304', '5.589531504', '5.5895319\n",
      "1000 input query terms found no hit:\t['5.594472899', '5.594473371', '5.59447518', '5.594476389', '5.594476956', '5.594482254', '5.5944872\n",
      "1000 input query terms found no hit:\t['5.599618349', '5.599618739', '5.599620375', '5.599621976', '5.599622875', '5.599626216', '5.599630\n",
      "1000 input query terms found no hit:\t['5.604870074', '5.604875815', '5.60487728', '5.604882551', '5.604892515', '5.604901263', '5.6049013\n",
      "1000 input query terms found no hit:\t['5.610102208', '5.61010244', '5.610113898', '5.610122076', '5.610122364', '5.610125901', '5.6101304\n",
      "1000 input query terms found no hit:\t['5.615355097', '5.615358294', '5.615358858', '5.615361552', '5.615363816', '5.615367388', '5.615371\n",
      "1000 input query terms found no hit:\t['5.62036443', '5.620373257', '5.620384299', '5.62038767', '5.620392562', '5.620403057', '5.62040496\n",
      "1000 input query terms found no hit:\t['5.625426891', '5.625430812', '5.62543908', '5.625441835', '5.625445121', '5.625446558', '5.6254576\n",
      "1000 input query terms found no hit:\t['5.630632819', '5.630639549', '5.630645101', '5.630650523', '5.630652174', '5.630667729', '5.630669\n",
      "1000 input query terms found no hit:\t['5.635640228', '5.635646266', '5.635649355', '5.635654124', '5.635659162', '5.635659695', '5.635667\n",
      "1000 input query terms found no hit:\t['5.6410185', '5.641027315', '5.641032923', '5.641033052', '5.64103388', '5.641047458', '5.641048651\n",
      "1000 input query terms found no hit:\t['5.646095659', '5.646101686', '5.64611505', '5.64611512', '5.646124613', '5.646129269', '5.64613107\n",
      "1000 input query terms found no hit:\t['5.650938329', '5.650940433', '5.650965018', '5.650967789', '5.650968771', '5.650970193', '5.650982\n",
      "1000 input query terms found no hit:\t['5.655894798', '5.655897686', '5.655904691', '5.655905387', '5.655915951', '5.655923961', '5.655926\n",
      "1000 input query terms found no hit:\t['5.660808979', '5.660811534', '5.660812984', '5.660813086', '5.66081422', '5.660820701', '5.6608232\n",
      "1000 input query terms found no hit:\t['5.665738047', '5.665749916', '5.6657545', '5.66575864', '5.665761251', '5.665762219', '5.66577239'\n",
      "1000 input query terms found no hit:\t['5.670999363', '5.671025002', '5.671025865', '5.671031049', '5.671035478', '5.671046772', '5.671047\n",
      "1000 input query terms found no hit:\t['5.67620847', '5.676217988', '5.676218129', '5.676218137', '5.676222441', '5.676224535', '5.6762267\n",
      "1000 input query terms found no hit:\t['5.681065936', '5.681066128', '5.681079784', '5.681087051', '5.68108999', '5.681090584', '5.6811048\n",
      "1000 input query terms found no hit:\t['5.686007213', '5.686010201', '5.686012153', '5.686012743', '5.686018018', '5.686018609', '5.686018\n",
      "1000 input query terms found no hit:\t['5.690848761', '5.690857654', '5.690862024', '5.690865036', '5.690868781', '5.690873316', '5.690874\n",
      "1000 input query terms found no hit:\t['5.695879129', '5.695886337', '5.695889552', '5.695891495', '5.695894096', '5.695894398', '5.695904\n",
      "1000 input query terms found no hit:\t['5.700917084', '5.700919128', '5.700928162', '5.70092922', '5.700929478', '5.700936482', '5.7009366\n",
      "1000 input query terms found no hit:\t['5.705610966', '5.705625539', '5.705632477', '5.705632791', '5.705638783', '5.705640767', '5.705651\n",
      "1000 input query terms found no hit:\t['5.71077883', '5.710782662', '5.710783535', '5.710784995', '5.710797232', '5.710800284', '5.7108018\n",
      "1000 input query terms found no hit:\t['5.716261818', '5.716268746', '5.716286182', '5.716286465', '5.716287632', '5.716289215', '5.716293\n",
      "1000 input query terms found no hit:\t['5.721002681', '5.721007783', '5.721007977', '5.721020242', '5.721024839', '5.721045621', '5.721050\n",
      "1000 input query terms found no hit:\t['5.726233629', '5.726240091', '5.726240883', '5.726242051', '5.72624692', '5.726250792', '5.7262563\n",
      "1000 input query terms found no hit:\t['5.731153093', '5.731161712', '5.731177262', '5.731187276', '5.73119669', '5.731205877', '5.7312147\n",
      "1000 input query terms found no hit:\t['5.73592551', '5.735928005', '5.735931163', '5.735936543', '5.735946', '5.735948662', '5.735951962'\n",
      "1000 input query terms found no hit:\t['5.741047038', '5.741050643', '5.741056455', '5.741064217', '5.741067823', '5.741078156', '5.741078\n",
      "1000 input query terms found no hit:\t['5.746124637', '5.746130701', '5.746132595', '5.746141852', '5.74614361', '5.746145704', '5.7461681\n",
      "1000 input query terms found no hit:\t['5.751005935', '5.751016203', '5.751018065', '5.751019123', '5.75101923', '5.751024019', '5.7510256\n",
      "1000 input query terms found no hit:\t['5.755819298', '5.755824702', '5.755825189', '5.755825425', '5.755829797', '5.755830734', '5.755836\n",
      "1000 input query terms found no hit:\t['5.760943791', '5.760948427', '5.76095112', '5.7609533', '5.760954577', '5.760957751', '5.760958084\n",
      "1000 input query terms found no hit:\t['5.765686254', '5.765688521', '5.765692884', '5.765698325', '5.765700356', '5.765704716', '5.765707\n",
      "1000 input query terms found no hit:\t['5.770815039', '5.770815956', '5.77081655', '5.770819445', '5.770820729', '5.77082472', '5.77082480\n",
      "1000 input query terms found no hit:\t['5.776055199', '5.776056915', '5.776060632', '5.776061461', '5.776062417', '5.776063158', '5.776063\n",
      "1000 input query terms found no hit:\t['5.78119315', '5.781195687', '5.781199093', '5.781199775', '5.781200538', '5.781203704', '5.7812088\n",
      "1000 input query terms found no hit:\t['5.786232826', '5.786236801', '5.786239533', '5.786240905', '5.786242985', '5.786256352', '5.786259\n",
      "1000 input query terms found no hit:\t['5.791133836', '5.791140404', '5.791142306', '5.791143686', '5.791153707', '5.791156331', '5.791158\n",
      "1000 input query terms found no hit:\t['5.796049898', '5.796053076', '5.796062473', '5.796070256', '5.796073448', '5.796075079', '5.796077\n",
      "1000 input query terms found no hit:\t['5.800919626', '5.800924084', '5.800925785', '5.800935538', '5.800942801', '5.80094464', '5.8009450\n",
      "1000 input query terms found no hit:\t['5.805945774', '5.805951978', '5.805954652', '5.805957455', '5.805966743', '5.805979325', '5.805980\n",
      "1000 input query terms found no hit:\t['5.810817647', '5.810821693', '5.810841712', '5.810843487', '5.810849079', '5.810856375', '5.810860\n",
      "1000 input query terms found no hit:\t['5.815898072', '5.815903268', '5.815903922', '5.815904713', '5.815905745', '5.815916163', '5.815919\n",
      "1000 input query terms found no hit:\t['5.820791366', '5.820796723', '5.820796758', '5.820796775', '5.820800858', '5.820802201', '5.820815\n",
      "1000 input query terms found no hit:\t['5.825570514', '5.825572945', '5.825575902', '5.825577982', '5.825581986', '5.825584201', '5.825584\n",
      "1000 input query terms found no hit:\t['5.830512384', '5.830515042', '5.830521297', '5.830523966', '5.830525199', '5.830532639', '5.830537\n",
      "1000 input query terms found no hit:\t['5.835451117', '5.835458782', '5.835460745', '5.835461021', '5.835472281', '5.835477682', '5.835479\n",
      "1000 input query terms found no hit:\t['5.840427265', '5.840431563', '5.840433921', '5.840449387', '5.840462937', '5.840463867', '5.840471\n",
      "1000 input query terms found no hit:\t['5.845482592', '5.845483893', '5.845489044', '5.845498393', '5.845498815', '5.845499912', '5.845500\n",
      "1000 input query terms found no hit:\t['5.850474067', '5.850475415', '5.850489287', '5.850492351', '5.850496126', '5.850507349', '5.850510\n",
      "1000 input query terms found no hit:\t['5.855351687', '5.855374103', '5.855383306', '5.855387666', '5.855390235', '5.855405434', '5.855409\n",
      "1000 input query terms found no hit:\t['5.86042987', '5.860430739', '5.860439157', '5.860440478', '5.860445074', '5.860446388', '5.8604504\n",
      "1000 input query terms found no hit:\t['5.865359485', '5.865359975', '5.865370403', '5.865382176', '5.865388438', '5.865390731', '5.865397\n",
      "1000 input query terms found no hit:\t['5.870119717', '5.870120572', '5.870124436', '5.870128622', '5.870131438', '5.870132584', '5.870141\n",
      "1000 input query terms found no hit:\t['5.87497872', '5.874984825', '5.874988666', '5.87499961', '5.87501922', '5.875019557', '5.875020633\n",
      "1000 input query terms found no hit:\t['5.879655597', '5.879657839', '5.879660426', '5.879663974', '5.879664', '5.879665804', '5.879672244\n",
      "1000 input query terms found no hit:\t['5.884789449', '5.884791861', '5.88479357', '5.884809978', '5.884813675', '5.884817296', '5.8848185\n",
      "1000 input query terms found no hit:\t['5.889967022', '5.889970843', '5.889983143', '5.889990475', '5.889994274', '5.889997038', '5.889998\n",
      "1000 input query terms found no hit:\t['5.895190003', '5.895190537', '5.89519289', '5.895193298', '5.895194413', '5.895200818', '5.8952008\n",
      "1000 input query terms found no hit:\t['5.900261396', '5.900262785', '5.900264177', '5.900271207', '5.900280189', '5.900282457', '5.900283\n",
      "1000 input query terms found no hit:\t['5.905212764', '5.905221399', '5.90522265', '5.905227961', '5.905228228', '5.90524051', '5.90524243\n",
      "1000 input query terms found no hit:\t['5.910391715', '5.910396705', '5.910397058', '5.910397415', '5.910403075', '5.910404604', '5.910422\n",
      "1000 input query terms found no hit:\t['5.915540559', '5.915542418', '5.915544147', '5.915544392', '5.915548652', '5.91555003', '5.9155510\n",
      "1000 input query terms found no hit:\t['5.920443721', '5.920449622', '5.920454552', '5.920463971', '5.920464325', '5.920464428', '5.920470\n",
      "1000 input query terms found no hit:\t['5.92519798', '5.925198428', '5.925211431', '5.925216396', '5.925223406', '5.925227745', '5.9252297\n",
      "1000 input query terms found no hit:\t['5.930245415', '5.930253804', '5.930256014', '5.930260535', '5.930260806', '5.930277169', '5.930281\n",
      "1000 input query terms found no hit:\t['5.935184464', '5.935197965', '5.935203955', '5.93521767', '5.935229359', '5.935233473', '5.9352336\n",
      "1000 input query terms found no hit:\t['5.939999302', '5.940001535', '5.940003435', '5.940015451', '5.940016404', '5.940019074', '5.940028\n",
      "1000 input query terms found no hit:\t['5.944909829', '5.944912824', '5.944913066', '5.944929939', '5.944938405', '5.944941171', '5.944941\n",
      "1000 input query terms found no hit:\t['5.949927327', '5.949929125', '5.949932495', '5.9499342', '5.949935874', '5.949937636', '5.94994341\n",
      "1000 input query terms found no hit:\t['5.954862771', '5.95486496', '5.954877467', '5.954883423', '5.954884212', '5.954888276', '5.9549002\n",
      "1000 input query terms found no hit:\t['5.959680934', '5.959687342', '5.95968945', '5.959694977', '5.959698494', '5.959702673', '5.9597057\n",
      "1000 input query terms found no hit:\t['5.964529891', '5.964532244', '5.96454745', '5.964548401', '5.964549611', '5.964556345', '5.9645660\n",
      "1000 input query terms found no hit:\t['5.969377386', '5.969382451', '5.969399485', '5.969399907', '5.969405624', '5.969407571', '5.969409\n",
      "1000 input query terms found no hit:\t['5.974572199', '5.974574424', '5.974579176', '5.974600405', '5.974603887', '5.974606776', '5.974612\n",
      "1000 input query terms found no hit:\t['5.979641723', '5.979645168', '5.979650018', '5.979650929', '5.979653253', '5.979653488', '5.979654\n",
      "1000 input query terms found no hit:\t['5.984668921', '5.984670334', '5.984671629', '5.984675257', '5.984675692', '5.984687531', '5.984688\n",
      "1000 input query terms found no hit:\t['5.989654955', '5.989661463', '5.989662794', '5.989675102', '5.989675335', '5.989679725', '5.989687\n",
      "1000 input query terms found no hit:\t['5.994519891', '5.99452214', '5.994538387', '5.99454246', '5.994554264', '5.994558491', '5.99456090\n",
      "1000 input query terms found no hit:\t['5.999312879', '5.999327794', '5.99932913', '5.999340479', '5.999341929', '5.999342011', '5.9993499\n",
      "1000 input query terms found no hit:\t['5340', '53400', '53405', '53407', '5341', '5343', '5345', '5346', '5347', '5348', '5349', '535', '\n",
      "1000 input query terms found no hit:\t['55619', '5562', '55620', '55621', '55622', '55623', '55624', '55625', '55626', '55627', '55628', '\n",
      "1000 input query terms found no hit:\t['57664', '57665', '57666', '57669', '57670', '57673', '57674', '57677', '57678', '57679', '5768', '\n",
      "1000 input query terms found no hit:\t['6.00333763', '6.00334444', '6.00336001', '6.003363021', '6.003368461', '6.003370837', '6.003377163\n",
      "1000 input query terms found no hit:\t['6.00831015', '6.008319813', '6.008327022', '6.008333729', '6.008335375', '6.008339662', '6.0083403\n",
      "1000 input query terms found no hit:\t['6.013130183', '6.013138368', '6.013142905', '6.013143758', '6.013146135', '6.013148688', '6.013152\n",
      "1000 input query terms found no hit:\t['6.018203323', '6.018203451', '6.018208275', '6.018210904', '6.018212511', '6.018216703', '6.018220\n",
      "1000 input query terms found no hit:\t['6.022856587', '6.022859005', '6.022867289', '6.022874852', '6.022882743', '6.022884237', '6.022884\n",
      "1000 input query terms found no hit:\t['6.027769688', '6.027777207', '6.027780441', '6.027785304', '6.027786161', '6.027789222', '6.027794\n",
      "1000 input query terms found no hit:\t['6.032823531', '6.032825761', '6.032844581', '6.03284847', '6.032852402', '6.032859823', '6.0328635\n",
      "1000 input query terms found no hit:\t['6.037926673', '6.037931519', '6.03793715', '6.0379443', '6.037944703', '6.037947772', '6.037951706\n",
      "1000 input query terms found no hit:\t['6.042743659', '6.042749493', '6.042749567', '6.042756969', '6.042757736', '6.042769379', '6.042783\n",
      "1000 input query terms found no hit:\t['6.047675015', '6.047680857', '6.04770406', '6.04771029', '6.047715497', '6.047727451', '6.04772925\n",
      "1000 input query terms found no hit:\t['6.0525803', '6.052584041', '6.052584374', '6.052586943', '6.052588561', '6.052598542', '6.05260161\n",
      "1000 input query terms found no hit:\t['6.057735116', '6.057751674', '6.057753257', '6.057754606', '6.057758804', '6.057759582', '6.057761\n",
      "1000 input query terms found no hit:\t['6.062305762', '6.06231753', '6.062318282', '6.062330152', '6.062335201', '6.062336412', '6.0623519\n",
      "1000 input query terms found no hit:\t['6.067574775', '6.067579069', '6.0675827', '6.067583851', '6.0675866', '6.067605068', '6.06761261',\n",
      "1000 input query terms found no hit:\t['6.072357977', '6.07236582', '6.072368983', '6.072376118', '6.072376943', '6.072386889', '6.0723904\n",
      "1000 input query terms found no hit:\t['6.077312085', '6.077314382', '6.077315388', '6.077316582', '6.077320646', '6.077323354', '6.077324\n",
      "1000 input query terms found no hit:\t['6.082133102', '6.082134881', '6.082144948', '6.082146748', '6.082152135', '6.082158125', '6.082161\n",
      "1000 input query terms found no hit:\t['6.086805343', '6.086810613', '6.086812494', '6.086824694', '6.086827767', '6.086844538', '6.086851\n",
      "1000 input query terms found no hit:\t['6.091723899', '6.091724862', '6.091732788', '6.091741646', '6.091756967', '6.091762865', '6.091765\n",
      "1000 input query terms found no hit:\t['6.096482331', '6.096487959', '6.096490584', '6.096490909', '6.096490981', '6.096492334', '6.096495\n",
      "1000 input query terms found no hit:\t['6.101417616', '6.101424424', '6.101435513', '6.101439515', '6.101455282', '6.101464164', '6.101470\n",
      "1000 input query terms found no hit:\t['6.106271597', '6.10627507', '6.106280577', '6.106288269', '6.106289024', '6.106291266', '6.1062923\n",
      "1000 input query terms found no hit:\t['6.111321518', '6.111328034', '6.111337668', '6.111340456', '6.111340607', '6.111344919', '6.111347\n",
      "1000 input query terms found no hit:\t['6.116246464', '6.116250402', '6.116255764', '6.116257247', '6.116258201', '6.116260716', '6.116261\n",
      "1000 input query terms found no hit:\t['6.121116044', '6.121141975', '6.121143527', '6.121147541', '6.121158265', '6.121160183', '6.121168\n",
      "1000 input query terms found no hit:\t['6.125741878', '6.125749248', '6.125752365', '6.125753274', '6.125753504', '6.125766579', '6.125767\n",
      "1000 input query terms found no hit:\t['6.130663309', '6.13066423', '6.130667395', '6.130668123', '6.130679055', '6.130679518', '6.1306863\n",
      "1000 input query terms found no hit:\t['6.135625784', '6.135629929', '6.135636618', '6.135646799', '6.135649311', '6.135666344', '6.135666\n",
      "1000 input query terms found no hit:\t['6.14037204', '6.140387537', '6.140394461', '6.140396374', '6.140400952', '6.140403162', '6.1404102\n",
      "1000 input query terms found no hit:\t['6.145489988', '6.145495883', '6.145496446', '6.145499591', '6.145502915', '6.145503946', '6.145509\n",
      "1000 input query terms found no hit:\t['6.150440684', '6.15044075', '6.150443095', '6.150449068', '6.150450634', '6.150451532', '6.1504559\n",
      "1000 input query terms found no hit:\t['6.155334196', '6.155337551', '6.155341543', '6.155342691', '6.155358827', '6.15535927', '6.1553623\n",
      "1000 input query terms found no hit:\t['6.160148675', '6.160157774', '6.160166279', '6.160168951', '6.160174537', '6.160174915', '6.160175\n",
      "1000 input query terms found no hit:\t['6.165039313', '6.165040978', '6.16504207', '6.165044751', '6.165045953', '6.165063335', '6.1650666\n",
      "1000 input query terms found no hit:\t['6.169757302', '6.169759475', '6.169760662', '6.16976088', '6.169764164', '6.169768375', '6.1697717\n",
      "1000 input query terms found no hit:\t['6.174540884', '6.174551446', '6.174551456', '6.174554656', '6.174559291', '6.174560521', '6.174572\n",
      "1000 input query terms found no hit:\t['6.179303175', '6.179306052', '6.179306638', '6.179320966', '6.179338547', '6.17933875', '6.1793434\n",
      "1000 input query terms found no hit:\t['6.183944499', '6.183946845', '6.183946882', '6.183968366', '6.183974825', '6.183977893', '6.183980\n",
      "1000 input query terms found no hit:\t['6.188815293', '6.188818854', '6.188824963', '6.188825972', '6.18883216', '6.188834665', '6.1888377\n",
      "1000 input query terms found no hit:\t['6.193726414', '6.193728085', '6.193729388', '6.193731055', '6.193735081', '6.193737347', '6.193742\n",
      "1000 input query terms found no hit:\t['6.198548057', '6.198550571', '6.198561354', '6.198565233', '6.198571217', '6.198573685', '6.198576\n",
      "1000 input query terms found no hit:\t['6.203606122', '6.203609614', '6.203610881', '6.203619052', '6.203630991', '6.203640678', '6.203656\n",
      "1000 input query terms found no hit:\t['6.208365997', '6.208370498', '6.208377119', '6.208381215', '6.208383283', '6.208384651', '6.208385\n",
      "1000 input query terms found no hit:\t['6.213018575', '6.213029478', '6.213035129', '6.213040919', '6.213042213', '6.213042794', '6.213043\n",
      "1000 input query terms found no hit:\t['6.218021651', '6.21804398', '6.218046708', '6.218047358', '6.218047721', '6.218053105', '6.2180561\n",
      "1000 input query terms found no hit:\t['6.22295359', '6.222958688', '6.222966712', '6.222982565', '6.222983122', '6.222983813', '6.2229926\n",
      "1000 input query terms found no hit:\t['6.227574104', '6.227581823', '6.227584267', '6.227584832', '6.227593328', '6.22759483', '6.2275987\n",
      "1000 input query terms found no hit:\t['6.23231429', '6.232319102', '6.232323614', '6.232324663', '6.232330656', '6.232347648', '6.2323491\n",
      "1000 input query terms found no hit:\t['6.237195723', '6.237196015', '6.237197482', '6.237198768', '6.237198866', '6.237199054', '6.237209\n",
      "1000 input query terms found no hit:\t['6.241952346', '6.241953663', '6.241962829', '6.2419649', '6.241982623', '6.241984138', '6.24198723\n",
      "1000 input query terms found no hit:\t['6.246609318', '6.246627973', '6.246637149', '6.246640876', '6.246643549', '6.246643951', '6.246645\n",
      "1000 input query terms found no hit:\t['6.251302122', '6.25130463', '6.251309208', '6.251321147', '6.251324951', '6.251325072', '6.2513304\n",
      "1000 input query terms found no hit:\t['6.256009975', '6.256010659', '6.256018052', '6.256018384', '6.256026052', '6.256036052', '6.256040\n",
      "1000 input query terms found no hit:\t['6.260845634', '6.260845999', '6.260852988', '6.260860799', '6.260864215', '6.260870769', '6.260875\n",
      "1000 input query terms found no hit:\t['6.265846572', '6.265849587', '6.26586669', '6.265872676', '6.265876477', '6.265880288', '6.2658828\n",
      "1000 input query terms found no hit:\t['6.270675719', '6.270676377', '6.270702842', '6.270704006', '6.270709927', '6.270711535', '6.270714\n",
      "1000 input query terms found no hit:\t['6.275363171', '6.275368912', '6.275373102', '6.275377167', '6.275379231', '6.275384795', '6.275389\n",
      "1000 input query terms found no hit:\t['6.280167726', '6.280167783', '6.28017031', '6.280174817', '6.280186675', '6.2801886', '6.280191414\n",
      "1000 input query terms found no hit:\t['6.284993319', '6.28499927', '6.285018501', '6.285019663', '6.28502449', '6.285025824', '6.28503359\n",
      "1000 input query terms found no hit:\t['6.289662965', '6.289667491', '6.289675404', '6.289686469', '6.289692034', '6.289696718', '6.289699\n",
      "1000 input query terms found no hit:\t['6.294415293', '6.294416548', '6.294419403', '6.294422235', '6.294422376', '6.294435806', '6.294440\n",
      "1000 input query terms found no hit:\t['6.298889128', '6.298890051', '6.298895254', '6.298904345', '6.29891811', '6.29892731', '6.29893978\n",
      "1000 input query terms found no hit:\t['6.303497248', '6.303501045', '6.303504016', '6.303508015', '6.303508805', '6.303512632', '6.303512\n",
      "1000 input query terms found no hit:\t['6.308179025', '6.30817969', '6.308181031', '6.308184462', '6.308186231', '6.308188862', '6.3081948\n",
      "1000 input query terms found no hit:\t['6.313010772', '6.3130269', '6.313028613', '6.313028897', '6.313030876', '6.313031267', '6.3130338'\n",
      "1000 input query terms found no hit:\t['6.317805654', '6.317810065', '6.317811364', '6.31781772', '6.317833726', '6.317836977', '6.3178498\n",
      "1000 input query terms found no hit:\t['6.322438144', '6.322438671', '6.322445668', '6.322446938', '6.322449438', '6.322456693', '6.322462\n",
      "1000 input query terms found no hit:\t['6.327188276', '6.327189116', '6.32719893', '6.32719898', '6.327205451', '6.327206052', '6.32720930\n",
      "1000 input query terms found no hit:\t['6.331753459', '6.33175771', '6.33175858', '6.331766208', '6.331767676', '6.331773324', '6.33177527\n",
      "1000 input query terms found no hit:\t['6.336194727', '6.336200222', '6.336202416', '6.33620597', '6.336210624', '6.33621861', '6.33621890\n",
      "1000 input query terms found no hit:\t['6.340967505', '6.340970126', '6.340971627', '6.340974547', '6.340984744', '6.340987285', '6.340987\n",
      "1000 input query terms found no hit:\t['6.345664179', '6.345678985', '6.345681865', '6.345684114', '6.345690667', '6.34569307', '6.3456971\n",
      "1000 input query terms found no hit:\t['6.350371104', '6.35037888', '6.350385841', '6.350395814', '6.350398741', '6.350413226', '6.3504172\n",
      "1000 input query terms found no hit:\t['6.355116765', '6.355135407', '6.355136442', '6.35513715', '6.355140938', '6.355141681', '6.3551438\n",
      "1000 input query terms found no hit:\t['6.359835257', '6.35983739', '6.359838154', '6.359844668', '6.3598475', '6.359849579', '6.35985175'\n",
      "1000 input query terms found no hit:\t['6.364329606', '6.364335012', '6.364343871', '6.364346778', '6.364359666', '6.364360182', '6.364360\n",
      "1000 input query terms found no hit:\t['6.368754335', '6.368756774', '6.368760751', '6.368773862', '6.368776204', '6.368780626', '6.368780\n",
      "1000 input query terms found no hit:\t['6.373448582', '6.373456966', '6.373463938', '6.373472801', '6.373484568', '6.373484887', '6.373488\n",
      "1000 input query terms found no hit:\t['6.378077747', '6.378083435', '6.378087857', '6.378096827', '6.378110037', '6.378113347', '6.378115\n",
      "1000 input query terms found no hit:\t['6.382855529', '6.382862357', '6.382865022', '6.382869191', '6.382871066', '6.382899437', '6.382903\n",
      "1000 input query terms found no hit:\t['6.387436876', '6.387444529', '6.387447565', '6.387453097', '6.387463511', '6.387464282', '6.387466\n",
      "1000 input query terms found no hit:\t['6.392385052', '6.392387644', '6.392392773', '6.392406184', '6.392408364', '6.392410847', '6.392413\n",
      "1000 input query terms found no hit:\t['6.397261616', '6.397263285', '6.397269194', '6.397278603', '6.39728009', '6.397285804', '6.3972861\n",
      "1000 input query terms found no hit:\t['6.402023577', '6.40202836', '6.402032137', '6.402036884', '6.402038315', '6.402048199', '6.4020489\n",
      "1000 input query terms found no hit:\t['6.406780049', '6.406781817', '6.406783735', '6.406803274', '6.406805648', '6.406809445', '6.406817\n",
      "1000 input query terms found no hit:\t['6.411494108', '6.411496362', '6.411498843', '6.411505341', '6.411506155', '6.411507583', '6.411513\n",
      "1000 input query terms found no hit:\t['6.416100943', '6.416102285', '6.416102649', '6.416109307', '6.416114647', '6.416116348', '6.416119\n",
      "1000 input query terms found no hit:\t['6.420694621', '6.420697312', '6.420700372', '6.420704646', '6.420706694', '6.420711982', '6.420713\n",
      "1000 input query terms found no hit:\t['6.425432798', '6.425458752', '6.425462316', '6.425469638', '6.425479103', '6.425489113', '6.425498\n",
      "1000 input query terms found no hit:\t['6.43007978', '6.430080615', '6.430083824', '6.430094489', '6.430097041', '6.430100542', '6.4301033\n",
      "1000 input query terms found no hit:\t['6.434849389', '6.434850799', '6.434850914', '6.43485349', '6.434860695', '6.434866975', '6.4348698\n",
      "1000 input query terms found no hit:\t['6.439398724', '6.439399039', '6.439400708', '6.439403519', '6.439405098', '6.439409433', '6.439412\n",
      "1000 input query terms found no hit:\t['6.443901263', '6.443901281', '6.44390285', '6.443903366', '6.44390659', '6.443913446', '6.44392480\n",
      "1000 input query terms found no hit:\t['6.448279205', '6.448282829', '6.448288768', '6.448291746', '6.448292074', '6.448293116', '6.448293\n",
      "1000 input query terms found no hit:\t['6.453033546', '6.453034274', '6.453035402', '6.453037118', '6.453041558', '6.453043988', '6.453047\n",
      "1000 input query terms found no hit:\t['6.457742689', '6.457745237', '6.457749644', '6.457762265', '6.45776394', '6.457770037', '6.4577707\n",
      "1000 input query terms found no hit:\t['6.462205062', '6.462209256', '6.462216831', '6.462222465', '6.462224667', '6.462228005', '6.462233\n",
      "1000 input query terms found no hit:\t['6.466988344', '6.466990839', '6.466991889', '6.466996866', '6.467010275', '6.467011078', '6.467014\n",
      "1000 input query terms found no hit:\t['6.471455877', '6.471458833', '6.471460886', '6.471464515', '6.471466312', '6.471467949', '6.471483\n",
      "1000 input query terms found no hit:\t['6.476157739', '6.47618256', '6.476184101', '6.47618888', '6.476191195', '6.476193209', '6.47619773\n",
      "1000 input query terms found no hit:\t['6.480887973', '6.480888009', '6.480889896', '6.480914853', '6.480916437', '6.480931763', '6.480932\n",
      "1000 input query terms found no hit:\t['6.485352027', '6.485356576', '6.485363438', '6.485367864', '6.485377188', '6.485378367', '6.485379\n",
      "1000 input query terms found no hit:\t['6.489968732', '6.489972018', '6.489973525', '6.489973916', '6.489974875', '6.489979152', '6.489983\n",
      "1000 input query terms found no hit:\t['6.494496156', '6.494497076', '6.494512544', '6.494540826', '6.494542012', '6.494559038', '6.494559\n",
      "1000 input query terms found no hit:\t['6.499179135', '6.499179442', '6.499181243', '6.499188229', '6.499189478', '6.499189873', '6.499195\n",
      "1000 input query terms found no hit:\t['6.503749588', '6.503763608', '6.503784651', '6.503787424', '6.503788375', '6.50379164', '6.5037957\n",
      "1000 input query terms found no hit:\t['6.508342054', '6.508347563', '6.508348017', '6.50835301', '6.508353612', '6.508356605', '6.5083611\n",
      "1000 input query terms found no hit:\t['6.512786313', '6.512788444', '6.5127893', '6.512798719', '6.512799604', '6.512824412', '6.51282496\n",
      "1000 input query terms found no hit:\t['6.51736547', '6.517368488', '6.51736989', '6.517377747', '6.517386909', '6.517387242', '6.51738890\n",
      "1000 input query terms found no hit:\t['6.52219634', '6.522197213', '6.522198147', '6.522205713', '6.522216012', '6.52222527', '6.52222547\n",
      "1000 input query terms found no hit:\t['6.526724645', '6.526741446', '6.526748485', '6.526750085', '6.52675675', '6.526757652', '6.5267607\n",
      "1000 input query terms found no hit:\t['6.531443474', '6.531445974', '6.531461571', '6.531465789', '6.531468077', '6.531475415', '6.531476\n",
      "1000 input query terms found no hit:\t['6.536134899', '6.536136064', '6.53613648', '6.536140055', '6.536145426', '6.536154533', '6.5361559\n",
      "1000 input query terms found no hit:\t['6.540745833', '6.540751735', '6.540753084', '6.540756062', '6.540760385', '6.540762598', '6.540775\n",
      "1000 input query terms found no hit:\t['6.54550207', '6.545507847', '6.545524537', '6.545538744', '6.545539918', '6.54554621', '6.54555187\n",
      "1000 input query terms found no hit:\t['6.550025918', '6.550029857', '6.550038056', '6.550038632', '6.550045155', '6.550059707', '6.550060\n",
      "1000 input query terms found no hit:\t['6.554373343', '6.55437751', '6.554384128', '6.554390101', '6.554390679', '6.554391488', '6.5543947\n",
      "1000 input query terms found no hit:\t['6.558914943', '6.558915874', '6.558931696', '6.558931934', '6.558933609', '6.558934177', '6.558947\n",
      "1000 input query terms found no hit:\t['6.563516815', '6.563517089', '6.563522076', '6.563522489', '6.563526599', '6.563548564', '6.563556\n",
      "1000 input query terms found no hit:\t['6.56809757', '6.568097846', '6.56809795', '6.568099719', '6.568099898', '6.568103252', '6.56810923\n",
      "1000 input query terms found no hit:\t['6.572952878', '6.572955873', '6.572964441', '6.572972444', '6.572973475', '6.572982346', '6.572985\n",
      "1000 input query terms found no hit:\t['6.57737797', '6.577378535', '6.57737951', '6.577386406', '6.577398271', '6.577401156', '6.57740396\n",
      "1000 input query terms found no hit:\t['6.581830344', '6.581841834', '6.581845373', '6.581846722', '6.581848948', '6.581855712', '6.581866\n",
      "1000 input query terms found no hit:\t['6.586504866', '6.586505481', '6.58650819', '6.586510351', '6.586514354', '6.586514685', '6.5865255\n",
      "1000 input query terms found no hit:\t['6.591242606', '6.591246051', '6.591250033', '6.591251388', '6.591261836', '6.591265644', '6.591272\n",
      "1000 input query terms found no hit:\t['6.596044024', '6.59604711', '6.596052475', '6.596054491', '6.596058938', '6.596059143', '6.5960630\n",
      "1000 input query terms found no hit:\t['6.600380025', '6.600382749', '6.600386771', '6.600391882', '6.600392712', '6.600399415', '6.600399\n",
      "1000 input query terms found no hit:\t['6.604864764', '6.604865846', '6.604866084', '6.604866258', '6.604868854', '6.604877432', '6.604877\n",
      "1000 input query terms found no hit:\t['6.609579628', '6.60958268', '6.60958685', '6.609589589', '6.609591962', '6.609592944', '6.60959306\n",
      "1000 input query terms found no hit:\t['6.614334764', '6.614334959', '6.614342665', '6.614348006', '6.614348043', '6.614353675', '6.614354\n",
      "1000 input query terms found no hit:\t['6.618751182', '6.618760191', '6.618764532', '6.618766173', '6.618771995', '6.618782123', '6.618787\n",
      "1000 input query terms found no hit:\t['6.623326563', '6.623327334', '6.62333506', '6.623338076', '6.623338599', '6.62333909', '6.62334004\n",
      "1000 input query terms found no hit:\t['6.627861581', '6.627865936', '6.627869736', '6.627870083', '6.627876964', '6.627877063', '6.627880\n",
      "1000 input query terms found no hit:\t['6.632457156', '6.63245797', '6.632461479', '6.632466516', '6.632468175', '6.632470626', '6.6324753\n",
      "1000 input query terms found no hit:\t['6.63717975', '6.637182935', '6.637185432', '6.637187726', '6.637188793', '6.637202993', '6.6372052\n",
      "1000 input query terms found no hit:\t['6.641821485', '6.641822806', '6.641823928', '6.641827735', '6.641831579', '6.641832296', '6.641841\n",
      "1000 input query terms found no hit:\t['6.646211614', '6.646212695', '6.646213522', '6.646221769', '6.646227336', '6.646227714', '6.646241\n",
      "1000 input query terms found no hit:\t['6.650953857', '6.650958183', '6.650960398', '6.650960711', '6.650971378', '6.650974206', '6.650976\n",
      "1000 input query terms found no hit:\t['6.655372336', '6.655377996', '6.655378373', '6.655384788', '6.655387857', '6.655393423', '6.655402\n",
      "1000 input query terms found no hit:\t['6.660023085', '6.660029162', '6.660032393', '6.660035222', '6.660047342', '6.660052217', '6.660055\n",
      "1000 input query terms found no hit:\t['6.66488448', '6.664895191', '6.664896936', '6.66490352', '6.66490571', '6.6649082', '6.664908396',\n",
      "1000 input query terms found no hit:\t['6.669588054', '6.669590388', '6.669590621', '6.669594095', '6.6695954', '6.669595451', '6.66959690\n",
      "1000 input query terms found no hit:\t['6.674341536', '6.674344386', '6.674345491', '6.674346873', '6.674347072', '6.674356154', '6.674362\n",
      "1000 input query terms found no hit:\t['6.678952987', '6.678953476', '6.678964766', '6.678966141', '6.678969592', '6.678979966', '6.678982\n",
      "1000 input query terms found no hit:\t['6.683617725', '6.683617772', '6.683619382', '6.683630559', '6.683630892', '6.683634477', '6.683645\n",
      "1000 input query terms found no hit:\t['6.688279623', '6.688280054', '6.688290966', '6.688309071', '6.688326287', '6.688326762', '6.688327\n",
      "1000 input query terms found no hit:\t['6.692927266', '6.692930929', '6.692935971', '6.69293889', '6.69295054', '6.692952459', '6.69296994\n",
      "1000 input query terms found no hit:\t['6.697737017', '6.697744811', '6.697751109', '6.697752375', '6.697755013', '6.697755304', '6.697755\n",
      "1000 input query terms found no hit:\t['6.701982672', '6.70198465', '6.701984666', '6.701985767', '6.701992558', '6.701996702', '6.7020004\n",
      "1000 input query terms found no hit:\t['6.70646839', '6.706486471', '6.706490306', '6.706493219', '6.706495149', '6.706497218', '6.7065030\n",
      "1000 input query terms found no hit:\t['6.710946854', '6.710947917', '6.710948233', '6.710950076', '6.710950405', '6.71095291', '6.7109529\n",
      "1000 input query terms found no hit:\t['6.71566134', '6.715685328', '6.715689865', '6.71569053', '6.71569447', '6.715695306', '6.715702106\n",
      "1000 input query terms found no hit:\t['6.720180931', '6.720181902', '6.720186841', '6.720196146', '6.720198529', '6.720203195', '6.720203\n",
      "1000 input query terms found no hit:\t['6.724698764', '6.72470006', '6.724703447', '6.724710188', '6.724714332', '6.724716158', '6.7247179\n",
      "1000 input query terms found no hit:\t['6.729239431', '6.729242438', '6.7292476', '6.729253559', '6.729258549', '6.729261545', '6.72926374\n",
      "1000 input query terms found no hit:\t['6.733875758', '6.733879232', '6.733881642', '6.733882955', '6.733883718', '6.733884731', '6.733889\n",
      "1000 input query terms found no hit:\t['6.738711525', '6.738720141', '6.738730576', '6.738737542', '6.738750034', '6.738750035', '6.738751\n",
      "1000 input query terms found no hit:\t['6.743388773', '6.743392449', '6.743396691', '6.743397769', '6.743398597', '6.743403419', '6.743426\n",
      "1000 input query terms found no hit:\t['6.747857814', '6.747858255', '6.74786475', '6.747866461', '6.747876557', '6.747878037', '6.7478801\n",
      "1000 input query terms found no hit:\t['6.752449155', '6.752462092', '6.752466545', '6.752479936', '6.7524851', '6.752485834', '6.75249200\n",
      "1000 input query terms found no hit:\t['6.757063114', '6.757073435', '6.757077813', '6.757078204', '6.757080246', '6.75708248', '6.7570872\n",
      "1000 input query terms found no hit:\t['6.761625896', '6.76163229', '6.761636654', '6.761653694', '6.761656555', '6.761657989', '6.7616613\n",
      "1000 input query terms found no hit:\t['6.766148233', '6.766148242', '6.766155003', '6.766156702', '6.766173701', '6.766184369', '6.766187\n",
      "1000 input query terms found no hit:\t['6.770607588', '6.770611548', '6.770612869', '6.770613833', '6.770619487', '6.770631069', '6.770631\n",
      "1000 input query terms found no hit:\t['6.775344074', '6.77534963', '6.775353943', '6.775356188', '6.775366319', '6.775368905', '6.7753785\n",
      "1000 input query terms found no hit:\t['6.779977798', '6.779979476', '6.77998249', '6.779982886', '6.779988615', '6.779995084', '6.7799986\n",
      "1000 input query terms found no hit:\t['6.784487001', '6.784490653', '6.784501329', '6.784508182', '6.784513647', '6.784523055', '6.784531\n",
      "1000 input query terms found no hit:\t['6.789085491', '6.789093489', '6.789094486', '6.789099872', '6.789101876', '6.789112753', '6.789115\n",
      "1000 input query terms found no hit:\t['6.79374576', '6.793751351', '6.793761613', '6.79376655', '6.793768653', '6.793768984', '6.79377722\n",
      "1000 input query terms found no hit:\t['6.798276349', '6.79827839', '6.798285459', '6.798294692', '6.798294759', '6.798304057', '6.7983159\n",
      "1000 input query terms found no hit:\t['6.802906968', '6.802907972', '6.802927581', '6.802928453', '6.802928664', '6.802933372', '6.802933\n",
      "1000 input query terms found no hit:\t['6.807435268', '6.807435945', '6.80744028', '6.807442576', '6.807453193', '6.80746088', '6.80746504\n",
      "1000 input query terms found no hit:\t['6.811925611', '6.811925682', '6.811926316', '6.811928151', '6.811932998', '6.811933772', '6.811935\n",
      "1000 input query terms found no hit:\t['6.816477799', '6.816484174', '6.816496755', '6.816497131', '6.816511806', '6.816521884', '6.816522\n",
      "1000 input query terms found no hit:\t['6.821167786', '6.821169128', '6.821173746', '6.821175786', '6.821178014', '6.821185257', '6.821189\n",
      "1000 input query terms found no hit:\t['6.825588109', '6.825597134', '6.825601179', '6.825602784', '6.825610776', '6.825612759', '6.825630\n",
      "1000 input query terms found no hit:\t['6.830348187', '6.830354127', '6.830357188', '6.830360262', '6.830363216', '6.830363683', '6.830364\n",
      "1000 input query terms found no hit:\t['6.834919323', '6.834922072', '6.834925632', '6.834935953', '6.834937828', '6.834942252', '6.834950\n",
      "1000 input query terms found no hit:\t['6.839302655', '6.839305568', '6.839306506', '6.83930666', '6.839308047', '6.839309349', '6.8393213\n",
      "1000 input query terms found no hit:\t['6.843842277', '6.843843203', '6.843844575', '6.843850664', '6.843853005', '6.843853646', '6.843854\n",
      "1000 input query terms found no hit:\t['6.848282777', '6.8482833', '6.848284076', '6.848284232', '6.848286011', '6.848287449', '6.84828751\n",
      "1000 input query terms found no hit:\t['6.852440421', '6.85244655', '6.852461218', '6.852461559', '6.852466319', '6.852468964', '6.8524699\n",
      "1000 input query terms found no hit:\t['6.856889338', '6.856891606', '6.856895573', '6.856903002', '6.856907736', '6.856917454', '6.856922\n",
      "1000 input query terms found no hit:\t['6.861359635', '6.861366231', '6.861375422', '6.861388662', '6.861395811', '6.861400075', '6.861400\n",
      "1000 input query terms found no hit:\t['6.865959719', '6.865964044', '6.865966608', '6.865969318', '6.865973087', '6.865976112', '6.865976\n",
      "1000 input query terms found no hit:\t['6.870312351', '6.870316937', '6.870320549', '6.870320899', '6.870330799', '6.870345932', '6.870348\n",
      "1000 input query terms found no hit:\t['6.874778293', '6.874783406', '6.874784198', '6.874785367', '6.874785617', '6.874792504', '6.874805\n",
      "1000 input query terms found no hit:\t['6.879495298', '6.879502119', '6.879521742', '6.879527493', '6.879531223', '6.879532469', '6.879532\n",
      "1000 input query terms found no hit:\t['6.883997093', '6.884004073', '6.884006659', '6.884007162', '6.884011511', '6.884013263', '6.884014\n",
      "1000 input query terms found no hit:\t['6.888360129', '6.888360361', '6.888361017', '6.888371983', '6.888378606', '6.888384656', '6.888398\n",
      "1000 input query terms found no hit:\t['6.892834045', '6.892834188', '6.892840016', '6.892843075', '6.892843229', '6.892858837', '6.892880\n",
      "1000 input query terms found no hit:\t['6.8974394', '6.89744045', '6.897445912', '6.897449085', '6.897454927', '6.897455689', '6.897462852\n",
      "1000 input query terms found no hit:\t['6.902037034', '6.902037735', '6.902039141', '6.902041994', '6.902052499', '6.902059274', '6.902065\n"
     ]
    },
    {
     "ename": "KeyboardInterrupt",
     "evalue": "",
     "output_type": "error",
     "traceback": [
      "\u001b[0;31m---------------------------------------------------------------------------\u001b[0m",
      "\u001b[0;31mKeyboardInterrupt\u001b[0m                         Traceback (most recent call last)",
      "\u001b[1;32m/home/yxcheng/AI4Science_gold_standard/stage1/Yuxuan/Psoriasis.ipynb 单元格 58\u001b[0m line \u001b[0;36m2\n\u001b[1;32m      <a href='vscode-notebook-cell://ssh-remote%2B218.199.69.68/home/yxcheng/AI4Science_gold_standard/stage1/Yuxuan/Psoriasis.ipynb#Y111sdnNjb2RlLXJlbW90ZQ%3D%3D?line=0'>1</a>\u001b[0m \u001b[39mif\u001b[39;00m NORMALIZE_GENE:\n\u001b[0;32m----> <a href='vscode-notebook-cell://ssh-remote%2B218.199.69.68/home/yxcheng/AI4Science_gold_standard/stage1/Yuxuan/Psoriasis.ipynb#Y111sdnNjb2RlLXJlbW90ZQ%3D%3D?line=1'>2</a>\u001b[0m     genetic_data \u001b[39m=\u001b[39m normalize_gene_symbols_in_index(genetic_data)\n",
      "File \u001b[0;32m~/AI4Science_gold_standard/stage1/Yuxuan/../utils.py:196\u001b[0m, in \u001b[0;36mnormalize_gene_symbols_in_index\u001b[0;34m(gene_df)\u001b[0m\n\u001b[1;32m    193\u001b[0m \u001b[39mdef\u001b[39;00m \u001b[39mnormalize_gene_symbols_in_index\u001b[39m(gene_df):\n\u001b[1;32m    194\u001b[0m \u001b[39m    \u001b[39m\u001b[39m\"\"\"Normalize the human gene symbols at the index of a dataframe, and replace the index with its normalized version.\u001b[39;00m\n\u001b[1;32m    195\u001b[0m \u001b[39m    Remove the rows where the index failed to be normalized.\"\"\"\u001b[39;00m\n\u001b[0;32m--> 196\u001b[0m     normalized_gene_list \u001b[39m=\u001b[39m normalize_gene_symbols(gene_df\u001b[39m.\u001b[39;49mindex\u001b[39m.\u001b[39;49mtolist())\n\u001b[1;32m    197\u001b[0m     \u001b[39massert\u001b[39;00m \u001b[39mlen\u001b[39m(normalized_gene_list) \u001b[39m==\u001b[39m \u001b[39mlen\u001b[39m(gene_df\u001b[39m.\u001b[39mindex)\n\u001b[1;32m    198\u001b[0m     gene_df\u001b[39m.\u001b[39mindex \u001b[39m=\u001b[39m normalized_gene_list\n",
      "File \u001b[0;32m~/AI4Science_gold_standard/stage1/Yuxuan/../utils.py:183\u001b[0m, in \u001b[0;36mnormalize_gene_symbols\u001b[0;34m(gene_symbols, batch_size)\u001b[0m\n\u001b[1;32m    181\u001b[0m \u001b[39mfor\u001b[39;00m i \u001b[39min\u001b[39;00m \u001b[39mrange\u001b[39m(\u001b[39m0\u001b[39m, \u001b[39mlen\u001b[39m(gene_symbols), batch_size):\n\u001b[1;32m    182\u001b[0m     batch \u001b[39m=\u001b[39m gene_symbols[i:i \u001b[39m+\u001b[39m batch_size]\n\u001b[0;32m--> 183\u001b[0m     results \u001b[39m=\u001b[39m mg\u001b[39m.\u001b[39;49mquerymany(batch, scopes\u001b[39m=\u001b[39;49m\u001b[39m'\u001b[39;49m\u001b[39msymbol\u001b[39;49m\u001b[39m'\u001b[39;49m, fields\u001b[39m=\u001b[39;49m\u001b[39m'\u001b[39;49m\u001b[39msymbol\u001b[39;49m\u001b[39m'\u001b[39;49m, species\u001b[39m=\u001b[39;49m\u001b[39m'\u001b[39;49m\u001b[39mhuman\u001b[39;49m\u001b[39m'\u001b[39;49m)\n\u001b[1;32m    185\u001b[0m     \u001b[39m# Update the normalized_genes dictionary with results from this batch\u001b[39;00m\n\u001b[1;32m    186\u001b[0m     \u001b[39mfor\u001b[39;00m gene \u001b[39min\u001b[39;00m results:\n",
      "File \u001b[0;32m~/anaconda3/envs/ai4sci/lib/python3.10/site-packages/biothings_client/base.py:575\u001b[0m, in \u001b[0;36mBiothingClient._querymany\u001b[0;34m(self, qterms, scopes, **kwargs)\u001b[0m\n\u001b[1;32m    572\u001b[0m \u001b[39mdef\u001b[39;00m \u001b[39mquery_fn\u001b[39m(qterms):\n\u001b[1;32m    573\u001b[0m     \u001b[39mreturn\u001b[39;00m \u001b[39mself\u001b[39m\u001b[39m.\u001b[39m_querymany_inner(qterms, verbose\u001b[39m=\u001b[39mverbose, \u001b[39m*\u001b[39m\u001b[39m*\u001b[39mkwargs)\n\u001b[0;32m--> 575\u001b[0m \u001b[39mfor\u001b[39;00m hits \u001b[39min\u001b[39;00m \u001b[39mself\u001b[39m\u001b[39m.\u001b[39m_repeated_query(query_fn, qterms, verbose\u001b[39m=\u001b[39mverbose):\n\u001b[1;32m    576\u001b[0m     \u001b[39mif\u001b[39;00m return_raw:\n\u001b[1;32m    577\u001b[0m         out\u001b[39m.\u001b[39mappend(hits)  \u001b[39m# hits is the raw response text\u001b[39;00m\n",
      "File \u001b[0;32m~/anaconda3/envs/ai4sci/lib/python3.10/site-packages/biothings_client/base.py:262\u001b[0m, in \u001b[0;36mBiothingClient._repeated_query\u001b[0;34m(self, query_fn, query_li, verbose, **fn_kwargs)\u001b[0m\n\u001b[1;32m    259\u001b[0m     logger\u001b[39m.\u001b[39minfo(\u001b[39m\"\u001b[39m\u001b[39mdone.\u001b[39m\u001b[39m{0}\u001b[39;00m\u001b[39m\"\u001b[39m\u001b[39m.\u001b[39mformat(cache_str))\n\u001b[1;32m    260\u001b[0m \u001b[39mif\u001b[39;00m \u001b[39mnot\u001b[39;00m from_cache \u001b[39mand\u001b[39;00m \u001b[39mself\u001b[39m\u001b[39m.\u001b[39mdelay:\n\u001b[1;32m    261\u001b[0m     \u001b[39m# no need to delay if requests are from cache.\u001b[39;00m\n\u001b[0;32m--> 262\u001b[0m     time\u001b[39m.\u001b[39;49msleep(\u001b[39mself\u001b[39;49m\u001b[39m.\u001b[39;49mdelay)\n",
      "\u001b[0;31mKeyboardInterrupt\u001b[0m: "
     ]
    }
   ],
   "source": [
    "if NORMALIZE_GENE:\n",
    "    genetic_data = normalize_gene_symbols_in_index(genetic_data)"
   ]
  },
  {
   "cell_type": "code",
   "execution_count": null,
   "metadata": {
    "ExecuteTime": {
     "end_time": "2024-01-02T01:03:35.158174021Z",
     "start_time": "2024-01-02T01:03:35.156777134Z"
    },
    "collapsed": false
   },
   "outputs": [],
   "source": [
    "merged_data = geo_merge_clinical_genetic_data(selected_clinical_data, genetic_data)\n",
    "# The preprocessing runs through, which means is_available should be True\n",
    "is_available = True"
   ]
  },
  {
   "cell_type": "code",
   "execution_count": null,
   "metadata": {
    "ExecuteTime": {
     "end_time": "2024-01-02T01:03:35.158378853Z",
     "start_time": "2024-01-02T01:03:35.156895194Z"
    },
    "collapsed": false
   },
   "outputs": [
    {
     "name": "stdout",
     "output_type": "stream",
     "text": [
      "The merged dataset contains 154 samples.\n"
     ]
    }
   ],
   "source": [
    "print(f\"The merged dataset contains {len(merged_data)} samples.\")"
   ]
  },
  {
   "cell_type": "code",
   "execution_count": null,
   "metadata": {
    "ExecuteTime": {
     "end_time": "2024-01-02T01:03:35.158646754Z",
     "start_time": "2024-01-02T01:03:35.156975304Z"
    },
    "collapsed": false
   },
   "outputs": [
    {
     "name": "stdout",
     "output_type": "stream",
     "text": [
      "For the feature 'Psoriasis', the least common label is '1.0' with 11 occurrences. This represents 7.14% of the dataset.\n",
      "The distribution of the feature 'Psoriasis' in this dataset is fine.\n",
      "\n",
      "Quartiles for 'Age':\n",
      "  25%: 26.0\n",
      "  50% (Median): 47.0\n",
      "  75%: 61.0\n",
      "Min: 8.0\n",
      "Max: 97.0\n",
      "The distribution of the feature 'Age' in this dataset is fine.\n",
      "\n",
      "For the feature 'Gender', the least common label is '1.0' with 70 occurrences. This represents 45.45% of the dataset.\n",
      "The distribution of the feature 'Gender' in this dataset is fine.\n",
      "\n"
     ]
    },
    {
     "data": {
      "text/plain": [
       "False"
      ]
     },
     "execution_count": 27,
     "metadata": {},
     "output_type": "execute_result"
    }
   ],
   "source": [
    "is_trait_biased, merged_data = judge_and_remove_biased_features(merged_data, TRAIT, trait_type=trait_type)\n",
    "is_trait_biased"
   ]
  },
  {
   "cell_type": "code",
   "execution_count": null,
   "metadata": {
    "ExecuteTime": {
     "end_time": "2024-01-02T01:03:35.158803015Z",
     "start_time": "2024-01-02T01:03:35.157063388Z"
    },
    "collapsed": false
   },
   "outputs": [],
   "source": [
    "save_cohort_info(cohort, JSON_PATH, is_available, is_trait_biased, merged_data, note='')"
   ]
  },
  {
   "cell_type": "code",
   "execution_count": null,
   "metadata": {
    "ExecuteTime": {
     "end_time": "2024-01-02T01:03:36.004312476Z",
     "start_time": "2024-01-02T01:03:35.157165158Z"
    },
    "collapsed": false
   },
   "outputs": [],
   "source": [
    "merged_data.head()\n",
    "if not is_trait_biased:\n",
    "    merged_data.to_csv(os.path.join(OUTPUT_DIR, cohort+'.csv'), index=False)"
   ]
  },
  {
   "cell_type": "markdown",
   "metadata": {
    "ExecuteTime": {
     "end_time": "2023-12-31T03:58:22.271683755Z",
     "start_time": "2023-12-31T03:58:22.246557674Z"
    },
    "id": "-MTPhRGxJV7I"
   },
   "source": [
    "### 3. Do regression & Cross Validation"
   ]
  },
  {
   "cell_type": "code",
   "execution_count": null,
   "metadata": {
    "ExecuteTime": {
     "end_time": "2024-01-02T01:03:36.048788605Z",
     "start_time": "2024-01-02T01:03:36.005925887Z"
    },
    "collapsed": false
   },
   "outputs": [],
   "source": [
    "from utils import *"
   ]
  },
  {
   "cell_type": "code",
   "execution_count": null,
   "metadata": {
    "ExecuteTime": {
     "end_time": "2024-01-02T01:03:36.049183603Z",
     "start_time": "2024-01-02T01:03:36.048440305Z"
    },
    "collapsed": false
   },
   "outputs": [
    {
     "data": {
      "text/plain": [
       "'GSE123088'"
      ]
     },
     "execution_count": 6,
     "metadata": {},
     "output_type": "execute_result"
    }
   ],
   "source": [
    "best_cohort, ranked_df = filter_and_rank_cohorts(JSON_PATH, 'has_age')\n",
    "best_cohort"
   ]
  },
  {
   "cell_type": "code",
   "execution_count": null,
   "metadata": {
    "ExecuteTime": {
     "end_time": "2024-01-02T01:03:36.049430313Z",
     "start_time": "2024-01-02T01:03:36.048984361Z"
    },
    "collapsed": false
   },
   "outputs": [
    {
     "data": {
      "text/html": [
       "<div>\n",
       "<style scoped>\n",
       "    .dataframe tbody tr th:only-of-type {\n",
       "        vertical-align: middle;\n",
       "    }\n",
       "\n",
       "    .dataframe tbody tr th {\n",
       "        vertical-align: top;\n",
       "    }\n",
       "\n",
       "    .dataframe thead th {\n",
       "        text-align: right;\n",
       "    }\n",
       "</style>\n",
       "<table border=\"1\" class=\"dataframe\">\n",
       "  <thead>\n",
       "    <tr style=\"text-align: right;\">\n",
       "      <th></th>\n",
       "      <th>cohort_id</th>\n",
       "      <th>is_usable</th>\n",
       "      <th>is_available</th>\n",
       "      <th>is_biased</th>\n",
       "      <th>has_age</th>\n",
       "      <th>has_gender</th>\n",
       "      <th>sample_size</th>\n",
       "      <th>note</th>\n",
       "    </tr>\n",
       "  </thead>\n",
       "  <tbody>\n",
       "    <tr>\n",
       "      <th>0</th>\n",
       "      <td>GSE123088</td>\n",
       "      <td>True</td>\n",
       "      <td>True</td>\n",
       "      <td>False</td>\n",
       "      <td>True</td>\n",
       "      <td>True</td>\n",
       "      <td>192</td>\n",
       "      <td></td>\n",
       "    </tr>\n",
       "    <tr>\n",
       "      <th>1</th>\n",
       "      <td>GSE123086</td>\n",
       "      <td>True</td>\n",
       "      <td>True</td>\n",
       "      <td>False</td>\n",
       "      <td>True</td>\n",
       "      <td>True</td>\n",
       "      <td>154</td>\n",
       "      <td></td>\n",
       "    </tr>\n",
       "  </tbody>\n",
       "</table>\n",
       "</div>"
      ],
      "text/plain": [
       "   cohort_id  is_usable  is_available  is_biased  has_age  has_gender  \\\n",
       "0  GSE123088       True          True      False     True        True   \n",
       "1  GSE123086       True          True      False     True        True   \n",
       "\n",
       "   sample_size note  \n",
       "0          192       \n",
       "1          154       "
      ]
     },
     "execution_count": 7,
     "metadata": {},
     "output_type": "execute_result"
    }
   ],
   "source": [
    "ranked_df.head()"
   ]
  },
  {
   "cell_type": "code",
   "execution_count": null,
   "metadata": {
    "ExecuteTime": {
     "end_time": "2024-01-02T01:03:36.345375576Z",
     "start_time": "2024-01-02T01:03:36.049289340Z"
    },
    "collapsed": false
   },
   "outputs": [],
   "source": [
    "ck=100\n",
    "listq=[]\n",
    "for df in pd.read_csv(os.path.join(OUTPUT_DIR, best_cohort+'.csv'),chunksize=ck):\n",
    "    listq.append(df)\n",
    "merged_data = pd.concat(listq)\n",
    "#merged_data = pd.read_csv(os.path.join(OUTPUT_DIR, best_cohort+'.csv'))"
   ]
  },
  {
   "cell_type": "code",
   "execution_count": null,
   "metadata": {
    "ExecuteTime": {
     "end_time": "2024-01-02T01:03:36.400788548Z",
     "start_time": "2024-01-02T01:03:36.355439168Z"
    },
    "collapsed": false
   },
   "outputs": [
    {
     "data": {
      "text/html": [
       "<div>\n",
       "<style scoped>\n",
       "    .dataframe tbody tr th:only-of-type {\n",
       "        vertical-align: middle;\n",
       "    }\n",
       "\n",
       "    .dataframe tbody tr th {\n",
       "        vertical-align: top;\n",
       "    }\n",
       "\n",
       "    .dataframe thead th {\n",
       "        text-align: right;\n",
       "    }\n",
       "</style>\n",
       "<table border=\"1\" class=\"dataframe\">\n",
       "  <thead>\n",
       "    <tr style=\"text-align: right;\">\n",
       "      <th></th>\n",
       "      <th>Psoriasis</th>\n",
       "      <th>Age</th>\n",
       "      <th>Gender</th>\n",
       "      <th>-0.001001579</th>\n",
       "      <th>-0.010425045</th>\n",
       "      <th>-0.045320336</th>\n",
       "      <th>-0.046967808</th>\n",
       "      <th>-0.069891929</th>\n",
       "      <th>-0.081080626</th>\n",
       "      <th>-0.093186199</th>\n",
       "      <th>...</th>\n",
       "      <th>9987</th>\n",
       "      <th>9988</th>\n",
       "      <th>9989</th>\n",
       "      <th>999</th>\n",
       "      <th>9990</th>\n",
       "      <th>9991</th>\n",
       "      <th>9992</th>\n",
       "      <th>9993</th>\n",
       "      <th>9994</th>\n",
       "      <th>9997</th>\n",
       "    </tr>\n",
       "  </thead>\n",
       "  <tbody>\n",
       "    <tr>\n",
       "      <th>0</th>\n",
       "      <td>0.0</td>\n",
       "      <td>56.0</td>\n",
       "      <td>1.0</td>\n",
       "      <td>3.293947</td>\n",
       "      <td>3.344254</td>\n",
       "      <td>3.049427</td>\n",
       "      <td>3.489313</td>\n",
       "      <td>3.713489</td>\n",
       "      <td>3.182711</td>\n",
       "      <td>2.885457</td>\n",
       "      <td>...</td>\n",
       "      <td>11.631593</td>\n",
       "      <td>9.914236</td>\n",
       "      <td>5.934949</td>\n",
       "      <td>4.756848</td>\n",
       "      <td>10.265351</td>\n",
       "      <td>10.109506</td>\n",
       "      <td>4.033606</td>\n",
       "      <td>11.065690</td>\n",
       "      <td>8.733339</td>\n",
       "      <td>9.681242</td>\n",
       "    </tr>\n",
       "    <tr>\n",
       "      <th>1</th>\n",
       "      <td>0.0</td>\n",
       "      <td>20.0</td>\n",
       "      <td>0.0</td>\n",
       "      <td>2.295976</td>\n",
       "      <td>3.490590</td>\n",
       "      <td>3.402046</td>\n",
       "      <td>3.960615</td>\n",
       "      <td>2.295976</td>\n",
       "      <td>3.209781</td>\n",
       "      <td>3.380016</td>\n",
       "      <td>...</td>\n",
       "      <td>11.685883</td>\n",
       "      <td>9.888024</td>\n",
       "      <td>5.981049</td>\n",
       "      <td>3.573693</td>\n",
       "      <td>10.808423</td>\n",
       "      <td>10.135307</td>\n",
       "      <td>3.854406</td>\n",
       "      <td>10.578108</td>\n",
       "      <td>8.207179</td>\n",
       "      <td>9.830063</td>\n",
       "    </tr>\n",
       "    <tr>\n",
       "      <th>2</th>\n",
       "      <td>0.0</td>\n",
       "      <td>51.0</td>\n",
       "      <td>0.0</td>\n",
       "      <td>2.878075</td>\n",
       "      <td>3.642838</td>\n",
       "      <td>3.281445</td>\n",
       "      <td>3.630912</td>\n",
       "      <td>2.878075</td>\n",
       "      <td>3.658581</td>\n",
       "      <td>3.466199</td>\n",
       "      <td>...</td>\n",
       "      <td>11.823756</td>\n",
       "      <td>9.977897</td>\n",
       "      <td>5.965869</td>\n",
       "      <td>4.439257</td>\n",
       "      <td>10.669074</td>\n",
       "      <td>10.243314</td>\n",
       "      <td>4.174246</td>\n",
       "      <td>10.824677</td>\n",
       "      <td>8.554421</td>\n",
       "      <td>10.367084</td>\n",
       "    </tr>\n",
       "    <tr>\n",
       "      <th>3</th>\n",
       "      <td>0.0</td>\n",
       "      <td>37.0</td>\n",
       "      <td>1.0</td>\n",
       "      <td>3.567006</td>\n",
       "      <td>3.393262</td>\n",
       "      <td>3.477423</td>\n",
       "      <td>3.000214</td>\n",
       "      <td>3.190889</td>\n",
       "      <td>3.070480</td>\n",
       "      <td>2.543753</td>\n",
       "      <td>...</td>\n",
       "      <td>11.871873</td>\n",
       "      <td>9.948733</td>\n",
       "      <td>6.094711</td>\n",
       "      <td>4.479720</td>\n",
       "      <td>10.832092</td>\n",
       "      <td>10.253960</td>\n",
       "      <td>3.735004</td>\n",
       "      <td>10.505996</td>\n",
       "      <td>8.786537</td>\n",
       "      <td>9.695719</td>\n",
       "    </tr>\n",
       "    <tr>\n",
       "      <th>4</th>\n",
       "      <td>0.0</td>\n",
       "      <td>61.0</td>\n",
       "      <td>1.0</td>\n",
       "      <td>4.034010</td>\n",
       "      <td>3.607132</td>\n",
       "      <td>2.822304</td>\n",
       "      <td>3.712049</td>\n",
       "      <td>3.126172</td>\n",
       "      <td>3.017512</td>\n",
       "      <td>2.949723</td>\n",
       "      <td>...</td>\n",
       "      <td>11.931741</td>\n",
       "      <td>10.017533</td>\n",
       "      <td>6.085654</td>\n",
       "      <td>3.807143</td>\n",
       "      <td>10.252109</td>\n",
       "      <td>10.396369</td>\n",
       "      <td>4.112947</td>\n",
       "      <td>10.797622</td>\n",
       "      <td>8.826644</td>\n",
       "      <td>8.821104</td>\n",
       "    </tr>\n",
       "  </tbody>\n",
       "</table>\n",
       "<p>5 rows × 1583032 columns</p>\n",
       "</div>"
      ],
      "text/plain": [
       "   Psoriasis   Age  Gender  -0.001001579  -0.010425045  -0.045320336  \\\n",
       "0        0.0  56.0     1.0      3.293947      3.344254      3.049427   \n",
       "1        0.0  20.0     0.0      2.295976      3.490590      3.402046   \n",
       "2        0.0  51.0     0.0      2.878075      3.642838      3.281445   \n",
       "3        0.0  37.0     1.0      3.567006      3.393262      3.477423   \n",
       "4        0.0  61.0     1.0      4.034010      3.607132      2.822304   \n",
       "\n",
       "   -0.046967808  -0.069891929  -0.081080626  -0.093186199  ...       9987  \\\n",
       "0      3.489313      3.713489      3.182711      2.885457  ...  11.631593   \n",
       "1      3.960615      2.295976      3.209781      3.380016  ...  11.685883   \n",
       "2      3.630912      2.878075      3.658581      3.466199  ...  11.823756   \n",
       "3      3.000214      3.190889      3.070480      2.543753  ...  11.871873   \n",
       "4      3.712049      3.126172      3.017512      2.949723  ...  11.931741   \n",
       "\n",
       "        9988      9989       999       9990       9991      9992       9993  \\\n",
       "0   9.914236  5.934949  4.756848  10.265351  10.109506  4.033606  11.065690   \n",
       "1   9.888024  5.981049  3.573693  10.808423  10.135307  3.854406  10.578108   \n",
       "2   9.977897  5.965869  4.439257  10.669074  10.243314  4.174246  10.824677   \n",
       "3   9.948733  6.094711  4.479720  10.832092  10.253960  3.735004  10.505996   \n",
       "4  10.017533  6.085654  3.807143  10.252109  10.396369  4.112947  10.797622   \n",
       "\n",
       "       9994       9997  \n",
       "0  8.733339   9.681242  \n",
       "1  8.207179   9.830063  \n",
       "2  8.554421  10.367084  \n",
       "3  8.786537   9.695719  \n",
       "4  8.826644   8.821104  \n",
       "\n",
       "[5 rows x 1583032 columns]"
      ]
     },
     "execution_count": 11,
     "metadata": {},
     "output_type": "execute_result"
    }
   ],
   "source": [
    "merged_data.head()"
   ]
  },
  {
   "cell_type": "code",
   "execution_count": null,
   "metadata": {
    "ExecuteTime": {
     "end_time": "2024-01-02T01:03:36.401002087Z",
     "start_time": "2024-01-02T01:03:36.400659608Z"
    },
    "collapsed": false
   },
   "outputs": [],
   "source": [
    "# If both age and gender features are available, select 'age' as the condition.\n",
    "condition = 'Age'\n",
    "# Remove the other condition to prevent interference.\n",
    "merged_data = merged_data.drop(columns=['Gender'], errors='ignore').astype('float')"
   ]
  },
  {
   "cell_type": "code",
   "execution_count": null,
   "metadata": {
    "ExecuteTime": {
     "end_time": "2024-01-02T01:03:36.403035823Z",
     "start_time": "2024-01-02T01:03:36.401081946Z"
    },
    "collapsed": false
   },
   "outputs": [],
   "source": [
    "X = merged_data.drop(columns=[TRAIT, condition]).values\n",
    "Y = merged_data[TRAIT].values\n",
    "Z = merged_data[condition].values"
   ]
  },
  {
   "cell_type": "markdown",
   "metadata": {
    "collapsed": false
   },
   "source": [
    "Select the appropriate regression model depending on whether the dataset shows batch effect."
   ]
  },
  {
   "cell_type": "code",
   "execution_count": null,
   "metadata": {
    "ExecuteTime": {
     "end_time": "2024-01-02T01:03:36.403263628Z",
     "start_time": "2024-01-02T01:03:36.401336170Z"
    },
    "collapsed": false
   },
   "outputs": [
    {
     "data": {
      "text/plain": [
       "True"
      ]
     },
     "execution_count": 19,
     "metadata": {},
     "output_type": "execute_result"
    }
   ],
   "source": [
    "has_batch_effect = detect_batch_effect(X)\n",
    "has_batch_effect"
   ]
  },
  {
   "cell_type": "code",
   "execution_count": null,
   "metadata": {
    "ExecuteTime": {
     "end_time": "2024-01-02T01:03:36.475053437Z",
     "start_time": "2024-01-02T01:03:36.444397231Z"
    },
    "collapsed": false
   },
   "outputs": [],
   "source": [
    "\n",
    "if has_batch_effect:\n",
    "    model_constructor1 = VariableSelection\n",
    "    model_params1 = {'modified': True, 'lamda': 3e-4}\n",
    "    model_constructor2 = VariableSelection\n",
    "    model_params2 = {'modified': False}\n",
    "else:\n",
    "    model_constructor1 = Lasso\n",
    "    model_params1 = {'alpha': 1.0, 'random_state': 42}\n",
    "    model_constructor2 = VariableSelection\n",
    "    model_params2 = {'modified': False}"
   ]
  },
  {
   "cell_type": "code",
   "execution_count": null,
   "metadata": {
    "ExecuteTime": {
     "end_time": "2024-01-02T01:03:50.733335364Z",
     "start_time": "2024-01-02T01:03:36.444563711Z"
    },
    "collapsed": false
   },
   "outputs": [
    {
     "name": "stdout",
     "output_type": "stream",
     "text": [
      "The cross-validation accuracy is 56.84% ± 4.59%\n"
     ]
    }
   ],
   "source": [
    "trait_type = 'binary'  # Remember to set this properly, either 'binary' or 'continuous'\n",
    "cv_mean1, cv_std1 = cross_validation(X, Y, Z, model_constructor1, model_params1, target_type=trait_type)"
   ]
  },
  {
   "cell_type": "code",
   "execution_count": null,
   "metadata": {},
   "outputs": [],
   "source": [
    "cv_mean2, cv_std2 = cross_validation(X, Y, Z, model_constructor2, model_params2, target_type=trait_type)"
   ]
  },
  {
   "cell_type": "code",
   "execution_count": null,
   "metadata": {
    "ExecuteTime": {
     "end_time": "2024-01-02T01:03:53.587340410Z",
     "start_time": "2024-01-02T01:03:50.732779025Z"
    },
    "collapsed": false
   },
   "outputs": [],
   "source": [
    "normalized_X, _ = normalize_data(X)\n",
    "normalized_Z, _ = normalize_data(Z)\n",
    "\n",
    "# Train regression model on the whole dataset to identify significant genes\n",
    "model1 = ResidualizationRegressor(model_constructor1, model_params1)\n",
    "model1.fit(normalized_X, Y, normalized_Z)\n",
    "\n",
    "model2 = ResidualizationRegressor(model_constructor2, model_params2)\n",
    "model2.fit(normalized_X, Y, normalized_Z)"
   ]
  },
  {
   "cell_type": "markdown",
   "metadata": {
    "ExecuteTime": {
     "end_time": "2023-10-14T04:50:59.072075075Z",
     "start_time": "2023-10-14T04:50:38.739499998Z"
    },
    "id": "EjJrxbvb4nlj"
   },
   "source": [
    "### 5. Discussion and report"
   ]
  },
  {
   "cell_type": "code",
   "execution_count": null,
   "metadata": {
    "ExecuteTime": {
     "end_time": "2024-01-02T01:03:53.641570844Z",
     "start_time": "2024-01-02T01:03:53.627778553Z"
    },
    "collapsed": false
   },
   "outputs": [
    {
     "name": "stdout",
     "output_type": "stream",
     "text": [
      "Effect of the condition on the target variable:\n",
      "Variable: Age\n",
      "Coefficient: 0.0025\n",
      "Found 547 significant genes associated with the trait 'Psoriasis' conditional on the factor 'Age', with corrected p-value < 0.05:\n",
      "   Variable  Coefficient  corrected_p_value\n",
      "4.430015695     0.087750           0.001231\n",
      "4.478193647     0.087750           0.001231\n",
      "4.478966158     0.087750           0.001231\n",
      " 4.48687579     0.087750           0.001231\n",
      "4.491851159     0.087750           0.001231\n",
      "4.492453853     0.087750           0.001231\n",
      "4.494270678     0.087750           0.001231\n",
      "4.504245863     0.087750           0.001231\n",
      "4.505190735     0.087750           0.001231\n",
      "4.505235806     0.087750           0.001231\n",
      "4.506891502     0.087750           0.001231\n",
      "4.510669146     0.087750           0.001231\n",
      "4.476613942     0.087750           0.001231\n",
      " 4.51198966     0.087750           0.001231\n",
      "4.513528153     0.087750           0.001231\n",
      "4.516930407     0.087750           0.001231\n",
      "4.806825082     0.087750           0.001231\n",
      "4.806472355     0.087750           0.001231\n",
      "4.803063266     0.087750           0.001231\n",
      " 4.52918761     0.087750           0.001231\n",
      "4.531488153     0.087750           0.001231\n",
      "4.796764234     0.087750           0.001231\n",
      "4.534374587     0.087750           0.001231\n",
      "4.544427446     0.087750           0.001231\n",
      " 4.54592774     0.087750           0.001231\n",
      "4.512419391     0.087750           0.001231\n",
      "4.549525143     0.087750           0.001231\n",
      "4.808785555     0.087750           0.001231\n",
      "4.822091729     0.087750           0.001231\n",
      "4.879190448     0.087750           0.001231\n",
      "4.425075714     0.087750           0.001231\n",
      " 4.72671124     0.087750           0.001231\n",
      "4.874043922     0.087750           0.001231\n",
      "4.433027679     0.087750           0.001231\n",
      "4.433355205     0.087750           0.001231\n",
      "4.872522198     0.087750           0.001231\n",
      "4.867851455     0.087750           0.001231\n",
      "4.442816841     0.087750           0.001231\n",
      " 4.85813597     0.087750           0.001231\n",
      "4.443660273     0.087750           0.001231\n",
      "4.473690178     0.087750           0.001231\n",
      "9.425064512     0.087750           0.001231\n",
      "4.854220574     0.087750           0.001231\n",
      " 4.83766585     0.087750           0.001231\n",
      "4.451208778     0.087750           0.001231\n",
      " 4.45407269     0.087750           0.001231\n",
      "4.454379679     0.087750           0.001231\n",
      "4.462918625     0.087750           0.001231\n",
      "4.834657195     0.087750           0.001231\n",
      " 4.46650314     0.087750           0.001231\n",
      "4.829760096     0.087750           0.001231\n",
      "4.467820996     0.087750           0.001231\n",
      "4.472055203     0.087750           0.001231\n",
      "4.445849705     0.087750           0.001231\n",
      "4.553736052     0.087750           0.001231\n",
      "4.557001614     0.087750           0.001231\n",
      "4.562842786     0.087750           0.001231\n",
      " 4.66556908     0.087750           0.001231\n",
      "4.759488929     0.087750           0.001231\n",
      "5.382735413     0.087750           0.001231\n",
      "4.671919882     0.087750           0.001231\n",
      "4.674761185     0.087750           0.001231\n",
      "4.675411221     0.087750           0.001231\n",
      "4.675683407     0.087750           0.001231\n",
      "4.676411081     0.087750           0.001231\n",
      "4.677967937     0.087750           0.001231\n",
      " 4.67982582     0.087750           0.001231\n",
      "4.687264924     0.087750           0.001231\n",
      "4.761181767     0.087750           0.001231\n",
      "4.741530021     0.087750           0.001231\n",
      "4.694839273     0.087750           0.001231\n",
      "4.698885868     0.087750           0.001231\n",
      "4.740506814     0.087750           0.001231\n",
      "4.740286147     0.087750           0.001231\n",
      "4.737399443     0.087750           0.001231\n",
      "4.735885263     0.087750           0.001231\n",
      "4.706862811     0.087750           0.001231\n",
      "4.710628179     0.087750           0.001231\n",
      "4.711292054     0.087750           0.001231\n",
      "4.732035059     0.087750           0.001231\n",
      "4.731468703     0.087750           0.001231\n",
      "4.688632873     0.087750           0.001231\n",
      "4.762588577     0.087750           0.001231\n",
      "4.646725963     0.087750           0.001231\n",
      "4.638217769     0.087750           0.001231\n",
      "4.563282175     0.087750           0.001231\n",
      "4.569090452     0.087750           0.001231\n",
      "4.569402987     0.087750           0.001231\n",
      "4.570215076     0.087750           0.001231\n",
      "4.791240988     0.087750           0.001231\n",
      "4.576024053     0.087750           0.001231\n",
      "4.577675667     0.087750           0.001231\n",
      "4.580291854     0.087750           0.001231\n",
      " 4.78606554     0.087750           0.001231\n",
      "4.584420045     0.087750           0.001231\n",
      "4.592759769     0.087750           0.001231\n",
      "4.785193456     0.087750           0.001231\n",
      " 4.59360188     0.087750           0.001231\n",
      "4.781238383     0.087750           0.001231\n",
      "4.613865121     0.087750           0.001231\n",
      " 4.61675507     0.087750           0.001231\n",
      " 4.77870642     0.087750           0.001231\n",
      "4.618744882     0.087750           0.001231\n",
      "4.625252145     0.087750           0.001231\n",
      "4.625901327     0.087750           0.001231\n",
      "4.626864304     0.087750           0.001231\n",
      "4.628349104     0.087750           0.001231\n",
      "4.628600501     0.087750           0.001231\n",
      "4.629169422     0.087750           0.001231\n",
      "4.777291454     0.087750           0.001231\n",
      "4.881373687     0.087750           0.001231\n",
      "4.882400311     0.087750           0.001231\n",
      "4.725623522     0.087750           0.001231\n",
      "4.885354833     0.087750           0.001231\n",
      "5.057111612     0.087750           0.001231\n",
      "4.041850755     0.087750           0.001231\n",
      "4.054082796     0.087750           0.001231\n",
      "4.081967423     0.087750           0.001231\n",
      "4.083330148     0.087750           0.001231\n",
      "5.017545177     0.087750           0.001231\n",
      "5.012285797     0.087750           0.001231\n",
      " 4.10018943     0.087750           0.001231\n",
      "4.106355402     0.087750           0.001231\n",
      "5.004567345     0.087750           0.001231\n",
      "4.117590782     0.087750           0.001231\n",
      "4.119019499     0.087750           0.001231\n",
      " 4.11939731     0.087750           0.001231\n",
      "4.140588201     0.087750           0.001231\n",
      "4.141023152     0.087750           0.001231\n",
      "4.145826358     0.087750           0.001231\n",
      "4.147083099     0.087750           0.001231\n",
      "4.149737552     0.087750           0.001231\n",
      "4.412978608     0.087750           0.001231\n",
      "4.167091893     0.087750           0.001231\n",
      "5.002045104     0.087750           0.001231\n",
      "5.059731601     0.087750           0.001231\n",
      "4.000440652     0.087750           0.001231\n",
      " 5.06293084     0.087750           0.001231\n",
      " 5.06881156     0.087750           0.001231\n",
      "5.313396949     0.087750           0.001231\n",
      " 5.46270626     0.087750           0.001231\n",
      " 5.27152682     0.087750           0.001231\n",
      "5.508126353     0.087750           0.001231\n",
      "5.240872109     0.087750           0.001231\n",
      "5.232109065     0.087750           0.001231\n",
      "5.228262845     0.087750           0.001231\n",
      "5.195595077     0.087750           0.001231\n",
      "5.176185101     0.087750           0.001231\n",
      "      80069     0.087750           0.001231\n",
      "4.198656864     0.087750           0.001231\n",
      "5.155229124     0.087750           0.001231\n",
      "3.711122839     0.087750           0.001231\n",
      "3.812795596     0.087750           0.001231\n",
      " 5.11329107     0.087750           0.001231\n",
      "3.864205214     0.087750           0.001231\n",
      "5.093487128     0.087750           0.001231\n",
      "3.968169551     0.087750           0.001231\n",
      "3.974118074     0.087750           0.001231\n",
      "3.978228552     0.087750           0.001231\n",
      "5.075086942     0.087750           0.001231\n",
      "5.072285198     0.087750           0.001231\n",
      "5.137355125     0.087750           0.001231\n",
      "4.209792546     0.087750           0.001231\n",
      "4.152990359     0.087750           0.001231\n",
      "4.319029457     0.087750           0.001231\n",
      "4.916043318     0.087750           0.001231\n",
      "4.292743021     0.087750           0.001231\n",
      "4.296486459     0.087750           0.001231\n",
      "4.301166569     0.087750           0.001231\n",
      "4.937820613     0.087750           0.001231\n",
      "4.915852772     0.087750           0.001231\n",
      "4.387185664     0.087750           0.001231\n",
      " 4.93147037     0.087750           0.001231\n",
      "4.329078894     0.087750           0.001231\n",
      "4.333274697     0.087750           0.001231\n",
      "4.333476552     0.087750           0.001231\n",
      "4.336026182     0.087750           0.001231\n",
      "4.925435038     0.087750           0.001231\n",
      " 4.34169289     0.087750           0.001231\n",
      "4.344970312     0.087750           0.001231\n",
      "4.915904215     0.087750           0.001231\n",
      "6.441467272     0.087750           0.001231\n",
      "4.919615221     0.087750           0.001231\n",
      "4.373771291     0.087750           0.001231\n",
      "4.908478529     0.087750           0.001231\n",
      "4.943758394     0.087750           0.001231\n",
      "4.914002154     0.087750           0.001231\n",
      "4.268435099     0.087750           0.001231\n",
      "4.978086668     0.087750           0.001231\n",
      "4.215195928     0.087750           0.001231\n",
      "4.216662741     0.087750           0.001231\n",
      "4.400491944     0.087750           0.001231\n",
      "4.217929364     0.087750           0.001231\n",
      "4.949575543     0.087750           0.001231\n",
      "4.233205941     0.087750           0.001231\n",
      "4.235668089     0.087750           0.001231\n",
      "4.386314592     0.087750           0.001231\n",
      " 4.24313456     0.087750           0.001231\n",
      "4.949861934     0.087750           0.001231\n",
      "4.906360475     0.087750           0.001231\n",
      "4.241935396     0.087750           0.001231\n",
      "4.249585891     0.087750           0.001231\n",
      "4.254832845     0.087750           0.001231\n",
      "4.395653877     0.087750           0.001231\n",
      "4.890120978     0.087750           0.001231\n",
      "9.184293909     0.108569           0.001709\n",
      "      84916     0.083592           0.002061\n",
      "      84818     0.074710           0.002711\n",
      "8.969393233     0.094545           0.004001\n",
      "9.125045569    -0.151916           0.005308\n",
      "       5356    -0.151916           0.005308\n",
      "4.733036243    -0.109810           0.007405\n",
      "5.343763975    -0.109810           0.007405\n",
      "5.194111389    -0.109810           0.007405\n",
      "5.313040586    -0.109810           0.007405\n",
      "4.802121823    -0.109810           0.007405\n",
      "4.920244775    -0.109810           0.007405\n",
      "4.795398239    -0.109810           0.007405\n",
      "4.794661995    -0.109810           0.007405\n",
      "4.991742514    -0.109810           0.007405\n",
      "5.846474378    -0.109810           0.007405\n",
      "4.965010199    -0.109810           0.007405\n",
      "5.669965495    -0.109810           0.007405\n",
      "4.794148887    -0.109810           0.007405\n",
      "4.964243443    -0.109810           0.007405\n",
      "4.941959571    -0.109810           0.007405\n",
      "5.022275543    -0.109810           0.007405\n",
      "5.031175535    -0.109810           0.007405\n",
      "4.931694217    -0.109810           0.007405\n",
      "4.814359096    -0.109810           0.007405\n",
      " 4.97924616    -0.109810           0.007405\n",
      "4.765588599    -0.109810           0.007405\n",
      "4.917185337    -0.109810           0.007405\n",
      "9.594389045     0.375357           0.007405\n",
      " 4.66619639    -0.109810           0.007405\n",
      "4.719733385    -0.109810           0.007405\n",
      "4.289631413    -0.109810           0.007405\n",
      "4.306570925    -0.109810           0.007405\n",
      "4.316321809    -0.109810           0.007405\n",
      "4.318116539    -0.109810           0.007405\n",
      "4.341070475    -0.109810           0.007405\n",
      "4.345931906    -0.109810           0.007405\n",
      "4.366991949    -0.109810           0.007405\n",
      "4.368022818    -0.109810           0.007405\n",
      "4.379190072    -0.109810           0.007405\n",
      " 4.38693764    -0.109810           0.007405\n",
      "4.388550112    -0.109810           0.007405\n",
      "4.393234036    -0.109810           0.007405\n",
      " 4.39410031    -0.109810           0.007405\n",
      "4.396921589    -0.109810           0.007405\n",
      " 4.40460193    -0.109810           0.007405\n",
      "4.413855811    -0.109810           0.007405\n",
      "4.417902492    -0.109810           0.007405\n",
      "4.276988391    -0.109810           0.007405\n",
      "4.270026284    -0.109810           0.007405\n",
      "4.265507679    -0.109810           0.007405\n",
      "4.260529712    -0.109810           0.007405\n",
      "9.136524971     0.269209           0.007405\n",
      "3.556741279    -0.109810           0.007405\n",
      "3.576488063    -0.109810           0.007405\n",
      "3.659064023    -0.109810           0.007405\n",
      "3.700422652    -0.109810           0.007405\n",
      "3.841942702    -0.109810           0.007405\n",
      "3.960951441    -0.109810           0.007405\n",
      "      64849    -0.109810           0.007405\n",
      "4.421387222    -0.109810           0.007405\n",
      "4.007681275    -0.109810           0.007405\n",
      "4.725497375    -0.109810           0.007405\n",
      "4.093456467    -0.109810           0.007405\n",
      "4.111944369    -0.109810           0.007405\n",
      "4.128702441    -0.109810           0.007405\n",
      "4.187280255    -0.109810           0.007405\n",
      "4.191354084    -0.109810           0.007405\n",
      "4.212589315    -0.109810           0.007405\n",
      "  4.2183996    -0.109810           0.007405\n",
      " 4.01276489    -0.109810           0.007405\n",
      "4.431010853    -0.109810           0.007405\n",
      "4.086876467    -0.109810           0.007405\n",
      "4.475337359    -0.109810           0.007405\n",
      "4.546668716    -0.109810           0.007405\n",
      "4.539182766    -0.109810           0.007405\n",
      "4.442326388    -0.109810           0.007405\n",
      "4.652766681    -0.109810           0.007405\n",
      "4.574047715    -0.109810           0.007405\n",
      "4.532817765    -0.109810           0.007405\n",
      "4.532723667    -0.109810           0.007405\n",
      "4.611508044    -0.109810           0.007405\n",
      "4.529061678    -0.109810           0.007405\n",
      "4.520825584    -0.109810           0.007405\n",
      "4.518832117    -0.109810           0.007405\n",
      "4.584256544    -0.109810           0.007405\n",
      "4.473014588    -0.109810           0.007405\n",
      "4.617144012    -0.109810           0.007405\n",
      "4.593153584    -0.109810           0.007405\n",
      "4.472706214    -0.109810           0.007405\n",
      "4.467597156    -0.109810           0.007405\n",
      "4.463983441    -0.109810           0.007405\n",
      "4.712299652    -0.109810           0.007405\n",
      "4.447130026    -0.109810           0.007405\n",
      "4.701745991    -0.109810           0.007405\n",
      " 4.44702525    -0.109810           0.007405\n",
      " 4.44403655    -0.109810           0.007405\n",
      "4.443145944    -0.109810           0.007405\n",
      "4.711576412    -0.109810           0.007405\n",
      " 4.65147927    -0.109810           0.007405\n",
      "4.665851094    -0.109810           0.007405\n",
      "4.636271161    -0.109810           0.007405\n",
      "4.688390434    -0.109810           0.007405\n",
      "6.622567681     0.163494           0.007905\n",
      "8.902917609     0.163049           0.009066\n",
      "  100505942     0.070249           0.010743\n",
      "2.900145612     0.082946           0.010829\n",
      "3.132911066     0.093890           0.012257\n",
      "3.539205038     0.101398           0.012411\n",
      "2.950159801     0.080531           0.015226\n",
      "5.118491552     0.109830           0.016862\n",
      "     284801     0.077680           0.018406\n",
      "5.516859444     0.136176           0.020458\n",
      "5.511320044     0.071235           0.022634\n",
      "       8799    -0.138743           0.022634\n",
      "5.505902525     0.071235           0.022634\n",
      "5.519523062     0.071235           0.022634\n",
      "5.498729942     0.071235           0.022634\n",
      "5.520746811     0.071235           0.022634\n",
      "5.521513569     0.071235           0.022634\n",
      "5.497501968     0.071235           0.022634\n",
      "5.522303597     0.071235           0.022634\n",
      "5.493562243     0.071235           0.022634\n",
      "5.879436076     0.071235           0.022634\n",
      " 5.49122468     0.071235           0.022634\n",
      "5.489772704     0.071235           0.022634\n",
      "5.507072378     0.071235           0.022634\n",
      "  6.0046947     0.071235           0.022634\n",
      "5.466429547     0.071235           0.022634\n",
      "5.485280093     0.071235           0.022634\n",
      "5.395626179     0.071235           0.022634\n",
      "5.409952463     0.071235           0.022634\n",
      "5.412615463     0.071235           0.022634\n",
      " 5.41341278     0.071235           0.022634\n",
      "5.416510981     0.071235           0.022634\n",
      "5.425395151     0.071235           0.022634\n",
      "5.430895559     0.071235           0.022634\n",
      "5.435578418     0.071235           0.022634\n",
      "5.439038169     0.071235           0.022634\n",
      "5.440627364     0.071235           0.022634\n",
      "5.444812733     0.071235           0.022634\n",
      "5.450736284     0.071235           0.022634\n",
      "5.489361126     0.071235           0.022634\n",
      "5.455436356     0.071235           0.022634\n",
      "5.458195499     0.071235           0.022634\n",
      "5.458546033     0.071235           0.022634\n",
      "9.147110417     0.192527           0.022634\n",
      "9.145100121     0.132672           0.022634\n",
      " 5.45929722     0.071235           0.022634\n",
      "5.529422719     0.071235           0.022634\n",
      "5.470915076     0.071235           0.022634\n",
      "5.471456973     0.071235           0.022634\n",
      " 5.47178808     0.071235           0.022634\n",
      "5.475927233     0.071235           0.022634\n",
      "5.479681639     0.071235           0.022634\n",
      "5.480777272     0.071235           0.022634\n",
      "5.457922537     0.071235           0.022634\n",
      "5.532383116     0.071235           0.022634\n",
      "5.561676216     0.071235           0.022634\n",
      "5.533415049     0.071235           0.022634\n",
      "5.651691119     0.071235           0.022634\n",
      "5.654114655     0.071235           0.022634\n",
      "5.665260488     0.071235           0.022634\n",
      "5.689015492     0.071235           0.022634\n",
      "5.692674268     0.071235           0.022634\n",
      "5.702507073     0.071235           0.022634\n",
      " 6.51733961     0.071235           0.022634\n",
      "5.858814695     0.071235           0.022634\n",
      "5.928937137     0.071235           0.022634\n",
      "5.708868259     0.071235           0.022634\n",
      "5.733920315     0.071235           0.022634\n",
      "5.650808929     0.071235           0.022634\n",
      "5.935705084     0.071235           0.022634\n",
      "5.741333405     0.071235           0.022634\n",
      "5.743300741     0.071235           0.022634\n",
      "5.838653537     0.071235           0.022634\n",
      "5.760046366     0.071235           0.022634\n",
      "6.373141434     0.071235           0.022634\n",
      "5.838634595     0.071235           0.022634\n",
      "5.778202655     0.071235           0.022634\n",
      "5.824089777     0.071235           0.022634\n",
      "5.815976395     0.071235           0.022634\n",
      "5.788813448     0.071235           0.022634\n",
      "5.791455985     0.071235           0.022634\n",
      "5.740400588     0.071235           0.022634\n",
      "5.894532745     0.071235           0.022634\n",
      "5.643342137     0.071235           0.022634\n",
      "5.640985491     0.071235           0.022634\n",
      "5.535230839     0.071235           0.022634\n",
      "5.535951388     0.071235           0.022634\n",
      "5.537262887     0.071235           0.022634\n",
      " 5.53781128     0.071235           0.022634\n",
      "5.538585441     0.071235           0.022634\n",
      " 5.53972973     0.071235           0.022634\n",
      "5.539808734     0.071235           0.022634\n",
      "5.923377702     0.071235           0.022634\n",
      "5.540530373     0.071235           0.022634\n",
      "5.550127232     0.071235           0.022634\n",
      "5.550339562     0.071235           0.022634\n",
      "6.932588565     0.071235           0.022634\n",
      "5.563443024     0.071235           0.022634\n",
      "5.572493637     0.071235           0.022634\n",
      "8.894525703    -0.138743           0.022634\n",
      "5.575347692     0.071235           0.022634\n",
      "8.773624098    -0.138743           0.022634\n",
      "5.579069232     0.071235           0.022634\n",
      "5.582667089     0.071235           0.022634\n",
      " 5.92360053     0.071235           0.022634\n",
      "5.589407044     0.071235           0.022634\n",
      "5.602155125     0.071235           0.022634\n",
      "5.621517605     0.071235           0.022634\n",
      "5.629457437     0.071235           0.022634\n",
      " 5.56695549     0.071235           0.022634\n",
      "5.369865762     0.071235           0.022634\n",
      "10.96845059    -0.212239           0.022634\n",
      "5.364918105     0.071235           0.022634\n",
      " 4.94343232     0.071235           0.022634\n",
      "4.943857359     0.071235           0.022634\n",
      "4.958679834     0.071235           0.022634\n",
      "4.979255008     0.071235           0.022634\n",
      "4.982827995     0.071235           0.022634\n",
      "4.985146808     0.071235           0.022634\n",
      "5.002100387     0.071235           0.022634\n",
      "5.003701877     0.071235           0.022634\n",
      " 5.00685314     0.071235           0.022634\n",
      " 5.01961486     0.071235           0.022634\n",
      "5.024848414     0.071235           0.022634\n",
      "5.028718006     0.071235           0.022634\n",
      " 5.03566348     0.071235           0.022634\n",
      "5.041095524     0.071235           0.022634\n",
      "5.041345016     0.071235           0.022634\n",
      " 5.05123636     0.071235           0.022634\n",
      "5.365697584     0.071235           0.022634\n",
      "5.063807942     0.071235           0.022634\n",
      "5.066785974     0.071235           0.022634\n",
      "5.069203363     0.071235           0.022634\n",
      "5.078474069     0.071235           0.022634\n",
      "5.082658681     0.071235           0.022634\n",
      "5.097997726     0.071235           0.022634\n",
      "4.935183963     0.071235           0.022634\n",
      "4.918740139     0.071235           0.022634\n",
      "4.898400571     0.071235           0.022634\n",
      "4.878153319     0.071235           0.022634\n",
      "11.00004335    -0.164449           0.022634\n",
      "12.75698068     0.071235           0.022634\n",
      "3.384080486     0.081070           0.022634\n",
      "3.579903005     0.080853           0.022634\n",
      " 3.95143502     0.071235           0.022634\n",
      "3.994042715    -0.108209           0.022634\n",
      "     387742     0.071235           0.022634\n",
      "4.211827094     0.071235           0.022634\n",
      "4.348840492     0.071235           0.022634\n",
      "4.389641267     0.071235           0.022634\n",
      "4.519774222     0.071235           0.022634\n",
      "5.103350591     0.071235           0.022634\n",
      "4.534302897     0.071235           0.022634\n",
      "4.665251156     0.071235           0.022634\n",
      "4.700151783     0.071235           0.022634\n",
      "4.704327123     0.071235           0.022634\n",
      "  4.7065898     0.071235           0.022634\n",
      " 4.78970593     0.071235           0.022634\n",
      " 4.79416188     0.071235           0.022634\n",
      "4.825101141     0.071235           0.022634\n",
      "4.835215442     0.071235           0.022634\n",
      "4.840146602     0.071235           0.022634\n",
      "4.858889905     0.071235           0.022634\n",
      "4.867427946     0.071235           0.022634\n",
      "4.570598065     0.071235           0.022634\n",
      "5.104584953     0.071235           0.022634\n",
      "5.059210022     0.071235           0.022634\n",
      "5.112538008     0.071235           0.022634\n",
      "5.290964545     0.071235           0.022634\n",
      "5.291391052     0.071235           0.022634\n",
      "5.291922406     0.071235           0.022634\n",
      "5.294773978     0.071235           0.022634\n",
      "5.106676657     0.071235           0.022634\n",
      "5.300526949     0.071235           0.022634\n",
      "5.310376016     0.071235           0.022634\n",
      "5.313680782     0.071235           0.022634\n",
      "5.314810709     0.071235           0.022634\n",
      "5.315582837     0.071235           0.022634\n",
      "5.316469301     0.071235           0.022634\n",
      "5.287627795     0.071235           0.022634\n",
      "5.317036734     0.071235           0.022634\n",
      "5.318404087     0.071235           0.022634\n",
      "5.322299905     0.071235           0.022634\n",
      "5.327320637     0.071235           0.022634\n",
      "5.339288366     0.071235           0.022634\n",
      "5.343917283     0.071235           0.022634\n",
      "5.352475339     0.071235           0.022634\n",
      "5.356389778     0.071235           0.022634\n",
      "5.360868154     0.071235           0.022634\n",
      "5.361456451     0.071235           0.022634\n",
      " 5.36396828     0.071235           0.022634\n",
      "5.364493538     0.071235           0.022634\n",
      "5.318197403     0.071235           0.022634\n",
      "5.278731207     0.071235           0.022634\n",
      "5.296934746     0.071235           0.022634\n",
      "5.156886031     0.071235           0.022634\n",
      "5.114546941     0.071235           0.022634\n",
      "5.126895892     0.071235           0.022634\n",
      "5.142113918     0.071235           0.022634\n",
      "5.146275938     0.071235           0.022634\n",
      "5.147940142     0.071235           0.022634\n",
      "5.151106843     0.071235           0.022634\n",
      "5.152029269     0.071235           0.022634\n",
      "5.152901089     0.071235           0.022634\n",
      "5.276190952     0.071235           0.022634\n",
      "5.167212712     0.071235           0.022634\n",
      "5.181135543     0.071235           0.022634\n",
      " 5.19541624     0.071235           0.022634\n",
      "5.202166996     0.071235           0.022634\n",
      "4.855012788     0.071235           0.022634\n",
      "5.234474009     0.071235           0.022634\n",
      "5.239062658     0.071235           0.022634\n",
      "5.272783073     0.071235           0.022634\n",
      "5.244963003     0.071235           0.022634\n",
      "5.266402589     0.071235           0.022634\n",
      "5.248996201     0.071235           0.022634\n",
      "5.249722029     0.071235           0.022634\n",
      "5.263867103     0.071235           0.022634\n",
      "5.251816286     0.071235           0.022634\n",
      "5.261657433     0.071235           0.022634\n",
      "5.255367742     0.071235           0.022634\n",
      "5.218994709     0.071235           0.022634\n",
      "4.027502961    -0.120462           0.022692\n",
      "11.27369242    -0.286784           0.023162\n",
      "3.983532258     0.077339           0.024090\n",
      "3.470195675     0.075224           0.030735\n",
      "5.701501751     0.215165           0.031079\n",
      "4.434451174    -0.102141           0.032627\n",
      "8.846569903     0.154946           0.038505\n",
      "3.645867023     0.070060           0.039396\n",
      "3.022732127     0.070060           0.039396\n",
      "5.861471324     0.178796           0.040563\n",
      " 3.57053999     0.090656           0.043893\n",
      "9.089247562     0.134869           0.044630\n",
      "4.089061738    -0.116953           0.045933\n",
      "7.745020478     0.141581           0.047799\n",
      "4.915304527    -0.116762           0.048942\n",
      "3.996311684     0.089618           0.049238\n",
      "5.984827706     0.144979           0.049599\n"
     ]
    },
    {
     "name": "stderr",
     "output_type": "stream",
     "text": [
      "/home/yxcheng/AI4Science_gold_standard/stage1/Yuxuan/utils.py:425: SettingWithCopyWarning: \n",
      "A value is trying to be set on a copy of a slice from a DataFrame.\n",
      "Try using .loc[row_indexer,col_indexer] = value instead\n",
      "\n",
      "See the caveats in the documentation: https://pandas.pydata.org/pandas-docs/stable/user_guide/indexing.html#returning-a-view-versus-a-copy\n",
      "  gene_regression_df.loc[:, 'corrected_p_value'] = corrected_p_values\n"
     ]
    }
   ],
   "source": [
    "\n",
    "feature_cols = merged_data.columns.tolist()\n",
    "feature_cols.remove(TRAIT)\n",
    "\n",
    "threshold = 0.05\n",
    "interpret_result(model1, feature_cols, TRAIT, condition, threshold=threshold, save_output=True,\n",
    "                 output_dir=OUTPUT_DIR, model_id=1)"
   ]
  },
  {
   "cell_type": "code",
   "execution_count": null,
   "metadata": {
    "collapsed": false
   },
   "outputs": [],
   "source": [
    "interpret_result(model2, feature_cols, TRAIT, condition, threshold=threshold, save_output=True,\n",
    "                 output_dir=OUTPUT_DIR, model_id=2)"
   ]
  }
 ],
 "metadata": {
  "colab": {
   "provenance": []
  },
  "kernelspec": {
   "display_name": "Python 3 (ipykernel)",
   "language": "python",
   "name": "python3"
  },
  "language_info": {
   "codemirror_mode": {
    "name": "ipython",
    "version": 3
   },
   "file_extension": ".py",
   "mimetype": "text/x-python",
   "name": "python",
   "nbconvert_exporter": "python",
   "pygments_lexer": "ipython3",
   "version": "3.10.13"
  }
 },
 "nbformat": 4,
 "nbformat_minor": 0
}
