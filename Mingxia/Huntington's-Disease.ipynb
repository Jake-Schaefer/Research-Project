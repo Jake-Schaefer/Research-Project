{
 "cells": [
  {
   "cell_type": "markdown",
   "metadata": {
    "collapsed": false
   },
   "source": [
    "# Gold standard curation: Preprocessing and single-step regression"
   ]
  },
  {
   "cell_type": "markdown",
   "metadata": {
    "collapsed": false
   },
   "source": [
    "In this stage of gold standard curation, we will do the data preprocessing, selection, and single-step regression for the 153 traits in our question set. The workflow consists of the following steps:\n",
    "\n",
    "1. Preprocess all the cohorts related to this trait. Each cohort should be converted to a tabular form and saved to a csv file, with columns being genetic factors, the trait, and age, gender if available;\n",
    "2. If there exists at least one cohort with age or gender information, conduct regression analysis with genetic features together with age or gender as the regressors.\n"
   ]
  },
  {
   "cell_type": "markdown",
   "metadata": {
    "collapsed": false
   },
   "source": [
    "# 1. Basic setup"
   ]
  },
  {
   "cell_type": "code",
   "execution_count": 3,
   "metadata": {
    "ExecuteTime": {
     "end_time": "2024-01-02T01:02:53.240839272Z",
     "start_time": "2024-01-02T01:02:53.240575109Z"
    },
    "collapsed": false
   },
   "outputs": [],
   "source": [
    "import os\n",
    "import sys\n",
    "\n",
    "sys.path.append('..')\n",
    "# Set your preferred name\n",
    "USER = \"Yuxuan\"\n",
    "# Set the data and output directories\n",
    "DATA_ROOT = '/home/yxcheng'\n",
    "OUTPUT_ROOT = '../../output1'\n",
    "TRAIT = \"Huntington_s-Disease\"\n",
    "\n",
    "OUTPUT_DIR = os.path.join(OUTPUT_ROOT, USER, '-'.join(TRAIT.split()))\n",
    "JSON_PATH = os.path.join(OUTPUT_DIR, \"cohort_info.json\")\n",
    "if not os.path.exists(OUTPUT_DIR):\n",
    "    os.makedirs(OUTPUT_DIR, exist_ok=True)\n",
    "\n",
    "# Gene symbol normalization may take 1-2 minutes. You may set it to False for debugging.\n",
    "NORMALIZE_GENE = True"
   ]
  },
  {
   "cell_type": "code",
   "execution_count": 25,
   "metadata": {
    "ExecuteTime": {
     "end_time": "2024-01-02T01:02:53.501910797Z",
     "start_time": "2024-01-02T01:02:53.496254990Z"
    },
    "colab": {
     "base_uri": "https://localhost:8080/"
    },
    "id": "jMTdsU43vVg3",
    "outputId": "38886111-f442-44b4-8398-96bf384d7abd"
   },
   "outputs": [
    {
     "data": {
      "text/plain": [
       "\"import os\\nfrom google.colab import drive\\n\\ndrive.mount('/content/drive', force_remount=True)\\nproj_dir = '/content/drive/MyDrive/AI4Science_Public'\\nos.chdir(proj_dir)\""
      ]
     },
     "execution_count": 25,
     "metadata": {},
     "output_type": "execute_result"
    }
   ],
   "source": [
    "# This cell is only for use on Google Colab. Skip it if you run your code in other environments\n",
    "\n",
    "\"\"\"import os\n",
    "from google.colab import drive\n",
    "\n",
    "drive.mount('/content/drive', force_remount=True)\n",
    "proj_dir = '/content/drive/MyDrive/AI4Science_Public'\n",
    "os.chdir(proj_dir)\"\"\""
   ]
  },
  {
   "cell_type": "markdown",
   "metadata": {
    "collapsed": false
   },
   "source": [
    "# 2. Data preprocessing and selection"
   ]
  },
  {
   "cell_type": "markdown",
   "metadata": {
    "collapsed": false
   },
   "source": [
    "## 2.1. The TCGA Xena dataset"
   ]
  },
  {
   "cell_type": "markdown",
   "metadata": {
    "collapsed": false
   },
   "source": [
    "In TCGA Xena, there is either zero or one cohort related to the trait. We search the names of subdirectories to see if any matches the trait. If a match is found, we directly obtain the file paths."
   ]
  },
  {
   "cell_type": "code",
   "execution_count": 4,
   "metadata": {
    "ExecuteTime": {
     "end_time": "2024-01-02T01:02:56.462746833Z",
     "start_time": "2024-01-02T01:02:55.818581842Z"
    },
    "collapsed": false
   },
   "outputs": [
    {
     "data": {
      "text/plain": [
       "['TCGA_Adrenocortical_Cancer_(ACC)',\n",
       " 'TCGA_Bile_Duct_Cancer_(CHOL)',\n",
       " 'TCGA_Lower_Grade_Glioma_(LGG)',\n",
       " 'TCGA_Acute_Myeloid_Leukemia_(LAML)',\n",
       " 'TCGA_Esophageal_Cancer_(ESCA)',\n",
       " 'TCGA_Thyroid_Cancer_(THCA)',\n",
       " 'TCGA_Ocular_melanomas_(UVM)',\n",
       " 'TCGA_Ovarian_Cancer_(OV)',\n",
       " 'TCGA_Prostate_Cancer_(PRAD)',\n",
       " 'CrawlData.ipynb',\n",
       " 'TCGA_Kidney_Papillary_Cell_Carcinoma_(KIRP)',\n",
       " 'TCGA_Lung_Cancer_(LUNG)',\n",
       " 'TCGA_Endometrioid_Cancer_(UCEC)',\n",
       " 'TCGA_Testicular_Cancer_(TGCT)',\n",
       " 'TCGA_lower_grade_glioma_and_glioblastoma_(GBMLGG)',\n",
       " 'TCGA_Pancreatic_Cancer_(PAAD)',\n",
       " 'TCGA_Glioblastoma_(GBM)',\n",
       " 'TCGA_Melanoma_(SKCM)',\n",
       " 'TCGA_Kidney_Clear_Cell_Carcinoma_(KIRC)',\n",
       " 'TCGA_Mesothelioma_(MESO)',\n",
       " 'TCGA_Rectal_Cancer_(READ)',\n",
       " 'TCGA_Head_and_Neck_Cancer_(HNSC)',\n",
       " 'TCGA_Large_Bcell_Lymphoma_(DLBC)',\n",
       " 'TCGA_Uterine_Carcinosarcoma_(UCS)',\n",
       " 'TCGA_Colon_Cancer_(COAD)',\n",
       " 'TCGA_Breast_Cancer_(BRCA)',\n",
       " 'TCGA_Bladder_Cancer_(BLCA)',\n",
       " 'TCGA_Sarcoma_(SARC)',\n",
       " 'TCGA_Lung_Squamous_Cell_Carcinoma_(LUSC)',\n",
       " 'TCGA_Cervical_Cancer_(CESC)',\n",
       " 'TCGA_Kidney_Chromophobe_(KICH)',\n",
       " 'TCGA_Stomach_Cancer_(STAD)',\n",
       " 'TCGA_Lung_Adenocarcinoma_(LUAD)',\n",
       " '.DS_Store',\n",
       " 'TCGA_Thymoma_(THYM)',\n",
       " 'TCGA_Colon_and_Rectal_Cancer_(COADREAD)',\n",
       " 'TCGA_Pheochromocytoma_Paraganglioma_(PCPG)',\n",
       " 'TCGA_Liver_Cancer_(LIHC)']"
      ]
     },
     "execution_count": 4,
     "metadata": {},
     "output_type": "execute_result"
    }
   ],
   "source": [
    "import os\n",
    "from utils import *\n",
    "\n",
    "dataset = 'TCGA'\n",
    "dataset_dir = os.path.join(DATA_ROOT, dataset)\n",
    "os.listdir(dataset_dir)[:]"
   ]
  },
  {
   "cell_type": "markdown",
   "metadata": {
    "collapsed": false
   },
   "source": [
    "If no match is found, jump directly to GEO in Part 2.2"
   ]
  },
  {
   "cell_type": "code",
   "execution_count": 27,
   "metadata": {
    "collapsed": false
   },
   "outputs": [],
   "source": [
    "trait_subdir = \"TCGA_Lung_Cancer_(LUNG)\"\n",
    "cohort = 'Xena'\n",
    "# All the cancer traits in Xena are binary\n",
    "trait_type = 'binary'\n",
    "# Once a relevant cohort is found in Xena, we can generally assume the gene and clinical data are available\n",
    "is_available = True\n",
    "\n",
    "clinical_data_file = os.path.join(dataset_dir, trait_subdir, 'TCGA.LUNG.sampleMap_LUNG_clinicalMatrix')\n",
    "genetic_data_file = os.path.join(dataset_dir, trait_subdir, 'TCGA.LUNG.sampleMap_HiSeqV2_PANCAN.gz')"
   ]
  },
  {
   "cell_type": "code",
   "execution_count": 28,
   "metadata": {
    "id": "MudwB-_iz7sc"
   },
   "outputs": [
    {
     "ename": "ParserError",
     "evalue": "Error tokenizing data. C error: Calling read(nbytes) on source failed. Try engine='python'.",
     "output_type": "error",
     "traceback": [
      "\u001b[0;31m---------------------------------------------------------------------------\u001b[0m",
      "\u001b[0;31mParserError\u001b[0m                               Traceback (most recent call last)",
      "\u001b[1;32m/home/yxcheng/AI4Science_gold_standard/stage1/Yuxuan/Psoriasis.ipynb 单元格 12\u001b[0m line \u001b[0;36m4\n\u001b[1;32m      <a href='vscode-notebook-cell://ssh-remote%2B218.199.69.68/home/yxcheng/AI4Science_gold_standard/stage1/Yuxuan/Psoriasis.ipynb#X14sdnNjb2RlLXJlbW90ZQ%3D%3D?line=0'>1</a>\u001b[0m \u001b[39mimport\u001b[39;00m \u001b[39mpandas\u001b[39;00m \u001b[39mas\u001b[39;00m \u001b[39mpd\u001b[39;00m\n\u001b[1;32m      <a href='vscode-notebook-cell://ssh-remote%2B218.199.69.68/home/yxcheng/AI4Science_gold_standard/stage1/Yuxuan/Psoriasis.ipynb#X14sdnNjb2RlLXJlbW90ZQ%3D%3D?line=2'>3</a>\u001b[0m clinical_data \u001b[39m=\u001b[39m pd\u001b[39m.\u001b[39mread_csv(clinical_data_file, sep\u001b[39m=\u001b[39m\u001b[39m'\u001b[39m\u001b[39m\\t\u001b[39;00m\u001b[39m'\u001b[39m, index_col\u001b[39m=\u001b[39m\u001b[39m0\u001b[39m)\n\u001b[0;32m----> <a href='vscode-notebook-cell://ssh-remote%2B218.199.69.68/home/yxcheng/AI4Science_gold_standard/stage1/Yuxuan/Psoriasis.ipynb#X14sdnNjb2RlLXJlbW90ZQ%3D%3D?line=3'>4</a>\u001b[0m genetic_data \u001b[39m=\u001b[39m pd\u001b[39m.\u001b[39;49mread_csv(genetic_data_file, compression\u001b[39m=\u001b[39;49m\u001b[39m'\u001b[39;49m\u001b[39mgzip\u001b[39;49m\u001b[39m'\u001b[39;49m, sep\u001b[39m=\u001b[39;49m\u001b[39m'\u001b[39;49m\u001b[39m\\t\u001b[39;49;00m\u001b[39m'\u001b[39;49m, index_col\u001b[39m=\u001b[39;49m\u001b[39m0\u001b[39;49m)\n\u001b[1;32m      <a href='vscode-notebook-cell://ssh-remote%2B218.199.69.68/home/yxcheng/AI4Science_gold_standard/stage1/Yuxuan/Psoriasis.ipynb#X14sdnNjb2RlLXJlbW90ZQ%3D%3D?line=4'>5</a>\u001b[0m age_col \u001b[39m=\u001b[39m gender_col \u001b[39m=\u001b[39m \u001b[39mNone\u001b[39;00m\n",
      "File \u001b[0;32m~/anaconda3/envs/ai4sci/lib/python3.10/site-packages/pandas/io/parsers/readers.py:948\u001b[0m, in \u001b[0;36mread_csv\u001b[0;34m(filepath_or_buffer, sep, delimiter, header, names, index_col, usecols, dtype, engine, converters, true_values, false_values, skipinitialspace, skiprows, skipfooter, nrows, na_values, keep_default_na, na_filter, verbose, skip_blank_lines, parse_dates, infer_datetime_format, keep_date_col, date_parser, date_format, dayfirst, cache_dates, iterator, chunksize, compression, thousands, decimal, lineterminator, quotechar, quoting, doublequote, escapechar, comment, encoding, encoding_errors, dialect, on_bad_lines, delim_whitespace, low_memory, memory_map, float_precision, storage_options, dtype_backend)\u001b[0m\n\u001b[1;32m    935\u001b[0m kwds_defaults \u001b[39m=\u001b[39m _refine_defaults_read(\n\u001b[1;32m    936\u001b[0m     dialect,\n\u001b[1;32m    937\u001b[0m     delimiter,\n\u001b[0;32m   (...)\u001b[0m\n\u001b[1;32m    944\u001b[0m     dtype_backend\u001b[39m=\u001b[39mdtype_backend,\n\u001b[1;32m    945\u001b[0m )\n\u001b[1;32m    946\u001b[0m kwds\u001b[39m.\u001b[39mupdate(kwds_defaults)\n\u001b[0;32m--> 948\u001b[0m \u001b[39mreturn\u001b[39;00m _read(filepath_or_buffer, kwds)\n",
      "File \u001b[0;32m~/anaconda3/envs/ai4sci/lib/python3.10/site-packages/pandas/io/parsers/readers.py:617\u001b[0m, in \u001b[0;36m_read\u001b[0;34m(filepath_or_buffer, kwds)\u001b[0m\n\u001b[1;32m    614\u001b[0m     \u001b[39mreturn\u001b[39;00m parser\n\u001b[1;32m    616\u001b[0m \u001b[39mwith\u001b[39;00m parser:\n\u001b[0;32m--> 617\u001b[0m     \u001b[39mreturn\u001b[39;00m parser\u001b[39m.\u001b[39;49mread(nrows)\n",
      "File \u001b[0;32m~/anaconda3/envs/ai4sci/lib/python3.10/site-packages/pandas/io/parsers/readers.py:1748\u001b[0m, in \u001b[0;36mTextFileReader.read\u001b[0;34m(self, nrows)\u001b[0m\n\u001b[1;32m   1741\u001b[0m nrows \u001b[39m=\u001b[39m validate_integer(\u001b[39m\"\u001b[39m\u001b[39mnrows\u001b[39m\u001b[39m\"\u001b[39m, nrows)\n\u001b[1;32m   1742\u001b[0m \u001b[39mtry\u001b[39;00m:\n\u001b[1;32m   1743\u001b[0m     \u001b[39m# error: \"ParserBase\" has no attribute \"read\"\u001b[39;00m\n\u001b[1;32m   1744\u001b[0m     (\n\u001b[1;32m   1745\u001b[0m         index,\n\u001b[1;32m   1746\u001b[0m         columns,\n\u001b[1;32m   1747\u001b[0m         col_dict,\n\u001b[0;32m-> 1748\u001b[0m     ) \u001b[39m=\u001b[39m \u001b[39mself\u001b[39;49m\u001b[39m.\u001b[39;49m_engine\u001b[39m.\u001b[39;49mread(  \u001b[39m# type: ignore[attr-defined]\u001b[39;49;00m\n\u001b[1;32m   1749\u001b[0m         nrows\n\u001b[1;32m   1750\u001b[0m     )\n\u001b[1;32m   1751\u001b[0m \u001b[39mexcept\u001b[39;00m \u001b[39mException\u001b[39;00m:\n\u001b[1;32m   1752\u001b[0m     \u001b[39mself\u001b[39m\u001b[39m.\u001b[39mclose()\n",
      "File \u001b[0;32m~/anaconda3/envs/ai4sci/lib/python3.10/site-packages/pandas/io/parsers/c_parser_wrapper.py:234\u001b[0m, in \u001b[0;36mCParserWrapper.read\u001b[0;34m(self, nrows)\u001b[0m\n\u001b[1;32m    232\u001b[0m \u001b[39mtry\u001b[39;00m:\n\u001b[1;32m    233\u001b[0m     \u001b[39mif\u001b[39;00m \u001b[39mself\u001b[39m\u001b[39m.\u001b[39mlow_memory:\n\u001b[0;32m--> 234\u001b[0m         chunks \u001b[39m=\u001b[39m \u001b[39mself\u001b[39;49m\u001b[39m.\u001b[39;49m_reader\u001b[39m.\u001b[39;49mread_low_memory(nrows)\n\u001b[1;32m    235\u001b[0m         \u001b[39m# destructive to chunks\u001b[39;00m\n\u001b[1;32m    236\u001b[0m         data \u001b[39m=\u001b[39m _concatenate_chunks(chunks)\n",
      "File \u001b[0;32mparsers.pyx:843\u001b[0m, in \u001b[0;36mpandas._libs.parsers.TextReader.read_low_memory\u001b[0;34m()\u001b[0m\n",
      "File \u001b[0;32mparsers.pyx:904\u001b[0m, in \u001b[0;36mpandas._libs.parsers.TextReader._read_rows\u001b[0;34m()\u001b[0m\n",
      "File \u001b[0;32mparsers.pyx:879\u001b[0m, in \u001b[0;36mpandas._libs.parsers.TextReader._tokenize_rows\u001b[0;34m()\u001b[0m\n",
      "File \u001b[0;32mparsers.pyx:890\u001b[0m, in \u001b[0;36mpandas._libs.parsers.TextReader._check_tokenize_status\u001b[0;34m()\u001b[0m\n",
      "File \u001b[0;32mparsers.pyx:2058\u001b[0m, in \u001b[0;36mpandas._libs.parsers.raise_parser_error\u001b[0;34m()\u001b[0m\n",
      "\u001b[0;31mParserError\u001b[0m: Error tokenizing data. C error: Calling read(nbytes) on source failed. Try engine='python'."
     ]
    }
   ],
   "source": [
    "import pandas as pd\n",
    "\n",
    "clinical_data = pd.read_csv(clinical_data_file, sep='\\t', index_col=0)\n",
    "genetic_data = pd.read_csv(genetic_data_file, compression='gzip', sep='\\t', index_col=0)\n",
    "age_col = gender_col = None"
   ]
  },
  {
   "cell_type": "code",
   "execution_count": null,
   "metadata": {
    "collapsed": false
   },
   "outputs": [],
   "source": [
    "_, clinical_data_cols = check_rows_and_columns(clinical_data)"
   ]
  },
  {
   "cell_type": "code",
   "execution_count": null,
   "metadata": {
    "collapsed": false
   },
   "outputs": [
    {
     "data": {
      "text/plain": [
       "['ABSOLUTE_Ploidy',\n",
       " 'ABSOLUTE_Purity',\n",
       " 'AKT1',\n",
       " 'ALK_translocation',\n",
       " 'BRAF',\n",
       " 'CBL',\n",
       " 'CTNNB1',\n",
       " 'Canonical_mut_in_KRAS_EGFR_ALK',\n",
       " 'Cnncl_mt_n_KRAS_EGFR_ALK_RET_ROS1_BRAF_ERBB2_HRAS_NRAS_AKT1_MAP2',\n",
       " 'EGFR']"
      ]
     },
     "execution_count": 8,
     "metadata": {},
     "output_type": "execute_result"
    }
   ],
   "source": [
    "clinical_data_cols[:10]"
   ]
  },
  {
   "cell_type": "markdown",
   "metadata": {
    "ExecuteTime": {
     "end_time": "2023-12-28T20:20:11.841042813Z",
     "start_time": "2023-12-28T20:20:11.834458206Z"
    },
    "collapsed": false
   },
   "source": [
    "Read all the column names in the clinical dataset, to find the columns that record information about age or gender.\n",
    "Reference prompt:"
   ]
  },
  {
   "cell_type": "code",
   "execution_count": null,
   "metadata": {
    "collapsed": false
   },
   "outputs": [
    {
     "data": {
      "text/plain": [
       "\"\\nBelow is a list of column names from a biomedical dataset. Please examine it and identify the columns that are likely to contain information about patients' age. Additionally, please do the same for columns that may hold data on patients' gender. Please provide your answer by strictly following this format, without redundant words:\\ncandidate_age_cols = [col_name1, col_name2, ...]\\ncandidate_gender_cols = [col_name1, col_name2, ...]\\nIf no columns match a criterion, please provide an empty list.\\n\\nColumn names:\\n['ABSOLUTE_Ploidy', 'ABSOLUTE_Purity', 'AKT1', 'ALK_translocation', 'BRAF', 'CBL', 'CTNNB1', 'Canonical_mut_in_KRAS_EGFR_ALK', 'Cnncl_mt_n_KRAS_EGFR_ALK_RET_ROS1_BRAF_ERBB2_HRAS_NRAS_AKT1_MAP2', 'EGFR', 'ERBB2', 'ERBB4', 'Estimated_allele_fraction_of_a_clonal_varnt_prsnt_t_1_cpy_pr_cll', 'Expression_Subtype', 'HRAS', 'KRAS', 'MAP2K1', 'MET', 'NRAS', 'PIK3CA', 'PTPN11', 'Pathology', 'Pathology_Updated', 'RET_translocation', 'ROS1_translocation', 'STK11', 'WGS_as_of_20120731_0_no_1_yes', '_INTEGRATION', '_PANCAN_CNA_PANCAN_K8', '_PANCAN_Cluster_Cluster_PANCAN', '_PANCAN_DNAMethyl_PANCAN', '_PANCAN_RPPA_PANCAN_K8', '_PANCAN_UNC_RNAseq_PANCAN_K16', '_PANCAN_miRNA_PANCAN', '_PANCAN_mutation_PANCAN', '_PATIENT', '_cohort', '_primary_disease', '_primary_site', 'additional_pharmaceutical_therapy', 'additional_radiation_therapy', 'additional_surgery_locoregional_procedure', 'additional_surgery_metastatic_procedure', 'age_at_initial_pathologic_diagnosis', 'anatomic_neoplasm_subdivision', 'anatomic_neoplasm_subdivision_other', 'bcr_followup_barcode', 'bcr_patient_barcode', 'bcr_sample_barcode', 'days_to_additional_surgery_locoregional_procedure', 'days_to_additional_surgery_metastatic_procedure', 'days_to_birth', 'days_to_collection', 'days_to_death', 'days_to_initial_pathologic_diagnosis', 'days_to_last_followup', 'days_to_new_tumor_event_after_initial_treatment', 'disease_code', 'dlco_predictive_percent', 'eastern_cancer_oncology_group', 'egfr_mutation_performed', 'egfr_mutation_result', 'eml4_alk_translocation_method', 'eml4_alk_translocation_performed', 'followup_case_report_form_submission_reason', 'followup_treatment_success', 'form_completion_date', 'gender', 'histological_type', 'history_of_neoadjuvant_treatment', 'icd_10', 'icd_o_3_histology', 'icd_o_3_site', 'informed_consent_verified', 'initial_weight', 'intermediate_dimension', 'is_ffpe', 'karnofsky_performance_score', 'kras_gene_analysis_performed', 'kras_mutation_found', 'kras_mutation_result', 'location_in_lung_parenchyma', 'longest_dimension', 'lost_follow_up', 'new_neoplasm_event_type', 'new_tumor_event_after_initial_treatment', 'number_pack_years_smoked', 'oct_embedded', 'other_dx', 'pathologic_M', 'pathologic_N', 'pathologic_T', 'pathologic_stage', 'pathology_report_file_name', 'patient_id', 'performance_status_scale_timing', 'person_neoplasm_cancer_status', 'post_bronchodilator_fev1_fvc_percent', 'post_bronchodilator_fev1_percent', 'pre_bronchodilator_fev1_fvc_percent', 'pre_bronchodilator_fev1_percent', 'primary_therapy_outcome_success', 'progression_determined_by', 'project_code', 'pulmonary_function_test_performed', 'radiation_therapy', 'residual_tumor', 'sample_type', 'sample_type_id', 'shortest_dimension', 'stopped_smoking_year', 'system_version', 'targeted_molecular_therapy', 'tissue_prospective_collection_indicator', 'tissue_retrospective_collection_indicator', 'tissue_source_site', 'tobacco_smoking_history', 'tobacco_smoking_history_indicator', 'tumor_tissue_site', 'vial_number', 'vital_status', 'year_of_initial_pathologic_diagnosis', 'year_of_tobacco_smoking_onset', '_GENOMIC_ID_TCGA_LUNG_exp_HiSeqV2_exon', '_GENOMIC_ID_TCGA_LUNG_hMethyl27', '_GENOMIC_ID_TCGA_LUNG_mutation', '_GENOMIC_ID_TCGA_LUNG_exp_HiSeqV2_PANCAN', '_GENOMIC_ID_TCGA_LUNG_hMethyl450', '_GENOMIC_ID_TCGA_LUNG_gistic2thd', '_GENOMIC_ID_TCGA_LUNG_G4502A_07_3', '_GENOMIC_ID_TCGA_LUNG_exp_HiSeqV2', '_GENOMIC_ID_TCGA_LUNG_gistic2', '_GENOMIC_ID_TCGA_LUNG_RPPA_RBN']\\n\""
      ]
     },
     "execution_count": 9,
     "metadata": {},
     "output_type": "execute_result"
    }
   ],
   "source": [
    "f'''\n",
    "Below is a list of column names from a biomedical dataset. Please examine it and identify the columns that are likely to contain information about patients' age. Additionally, please do the same for columns that may hold data on patients' gender. Please provide your answer by strictly following this format, without redundant words:\n",
    "candidate_age_cols = [col_name1, col_name2, ...]\n",
    "candidate_gender_cols = [col_name1, col_name2, ...]\n",
    "If no columns match a criterion, please provide an empty list.\n",
    "\n",
    "Column names:\n",
    "{clinical_data_cols}\n",
    "'''"
   ]
  },
  {
   "cell_type": "code",
   "execution_count": null,
   "metadata": {
    "collapsed": false
   },
   "outputs": [],
   "source": [
    "candidate_age_cols = ['age_at_initial_pathologic_diagnosis', 'days_to_birth', 'days_to_collection', 'days_to_death', 'days_to_initial_pathologic_diagnosis', 'days_to_last_followup', 'days_to_new_tumor_event_after_initial_treatment', 'stopped_smoking_year', 'year_of_initial_pathologic_diagnosis', 'year_of_tobacco_smoking_onset']\n",
    "\n",
    "candidate_gender_cols = ['gender']"
   ]
  },
  {
   "cell_type": "markdown",
   "metadata": {
    "ExecuteTime": {
     "end_time": "2023-12-31T03:57:44.207565572Z",
     "start_time": "2023-12-31T03:57:44.202177544Z"
    },
    "collapsed": false
   },
   "source": [
    "Choose a single column from the candidate columns that record age and gender information respectively.\n",
    "If no column meets the requirement, keep 'age_col' or 'gender_col' to None"
   ]
  },
  {
   "cell_type": "code",
   "execution_count": null,
   "metadata": {
    "collapsed": false
   },
   "outputs": [
    {
     "data": {
      "text/plain": [
       "{'age_at_initial_pathologic_diagnosis': [70.0, 67.0, 79.0, 68.0, 66.0],\n",
       " 'days_to_birth': [-25752.0, -24532.0, -29068.0, -24868.0, -24411.0],\n",
       " 'days_to_collection': [nan, nan, nan, nan, nan],\n",
       " 'days_to_death': [nan, nan, '121', nan, nan],\n",
       " 'days_to_initial_pathologic_diagnosis': [0.0, 0.0, 0.0, 0.0, 0.0],\n",
       " 'days_to_last_followup': ['0', '1523', nan, '607', '426'],\n",
       " 'days_to_new_tumor_event_after_initial_treatment': [nan,\n",
       "  nan,\n",
       "  nan,\n",
       "  334.0,\n",
       "  183.0],\n",
       " 'stopped_smoking_year': [nan, nan, nan, nan, 1987.0],\n",
       " 'year_of_initial_pathologic_diagnosis': [2009.0,\n",
       "  2007.0,\n",
       "  2007.0,\n",
       "  2009.0,\n",
       "  2009.0],\n",
       " 'year_of_tobacco_smoking_onset': [nan, nan, nan, nan, 1963.0]}"
      ]
     },
     "execution_count": 11,
     "metadata": {},
     "output_type": "execute_result"
    }
   ],
   "source": [
    "preview_df(clinical_data[candidate_age_cols])"
   ]
  },
  {
   "cell_type": "code",
   "execution_count": null,
   "metadata": {
    "collapsed": false
   },
   "outputs": [],
   "source": [
    "age_col = 'age_at_initial_pathologic_diagnosis'"
   ]
  },
  {
   "cell_type": "code",
   "execution_count": null,
   "metadata": {
    "collapsed": false
   },
   "outputs": [
    {
     "data": {
      "text/plain": [
       "{'gender': ['MALE', 'MALE', 'FEMALE', 'MALE', 'MALE']}"
      ]
     },
     "execution_count": 13,
     "metadata": {},
     "output_type": "execute_result"
    }
   ],
   "source": [
    "preview_df(clinical_data[candidate_gender_cols])"
   ]
  },
  {
   "cell_type": "code",
   "execution_count": null,
   "metadata": {
    "collapsed": false
   },
   "outputs": [],
   "source": [
    "gender_col = 'gender'"
   ]
  },
  {
   "cell_type": "code",
   "execution_count": null,
   "metadata": {
    "collapsed": false
   },
   "outputs": [],
   "source": [
    "selected_clinical_data = xena_select_clinical_features(clinical_data, TRAIT, age_col, gender_col)"
   ]
  },
  {
   "cell_type": "code",
   "execution_count": null,
   "metadata": {
    "collapsed": false
   },
   "outputs": [],
   "source": [
    "if NORMALIZE_GENE:\n",
    "    genetic_data = normalize_gene_symbols_in_index(genetic_data)"
   ]
  },
  {
   "cell_type": "code",
   "execution_count": null,
   "metadata": {
    "collapsed": false
   },
   "outputs": [
    {
     "data": {
      "text/html": [
       "<div>\n",
       "<style scoped>\n",
       "    .dataframe tbody tr th:only-of-type {\n",
       "        vertical-align: middle;\n",
       "    }\n",
       "\n",
       "    .dataframe tbody tr th {\n",
       "        vertical-align: top;\n",
       "    }\n",
       "\n",
       "    .dataframe thead th {\n",
       "        text-align: right;\n",
       "    }\n",
       "</style>\n",
       "<table border=\"1\" class=\"dataframe\">\n",
       "  <thead>\n",
       "    <tr style=\"text-align: right;\">\n",
       "      <th></th>\n",
       "      <th>Lung-Cancer</th>\n",
       "      <th>Age</th>\n",
       "      <th>Gender</th>\n",
       "      <th>ARHGEF10L</th>\n",
       "      <th>HIF3A</th>\n",
       "      <th>RNF17</th>\n",
       "      <th>RNF10</th>\n",
       "      <th>RNF11</th>\n",
       "      <th>RNF13</th>\n",
       "      <th>GTF2IP1</th>\n",
       "      <th>...</th>\n",
       "      <th>TULP2</th>\n",
       "      <th>NPY5R</th>\n",
       "      <th>GNGT2</th>\n",
       "      <th>GNGT1</th>\n",
       "      <th>TULP3</th>\n",
       "      <th>PTRF</th>\n",
       "      <th>BCL6B</th>\n",
       "      <th>GSTK1</th>\n",
       "      <th>SELP</th>\n",
       "      <th>SELS</th>\n",
       "    </tr>\n",
       "    <tr>\n",
       "      <th>sampleID</th>\n",
       "      <th></th>\n",
       "      <th></th>\n",
       "      <th></th>\n",
       "      <th></th>\n",
       "      <th></th>\n",
       "      <th></th>\n",
       "      <th></th>\n",
       "      <th></th>\n",
       "      <th></th>\n",
       "      <th></th>\n",
       "      <th></th>\n",
       "      <th></th>\n",
       "      <th></th>\n",
       "      <th></th>\n",
       "      <th></th>\n",
       "      <th></th>\n",
       "      <th></th>\n",
       "      <th></th>\n",
       "      <th></th>\n",
       "      <th></th>\n",
       "      <th></th>\n",
       "    </tr>\n",
       "  </thead>\n",
       "  <tbody>\n",
       "    <tr>\n",
       "      <th>TCGA-05-4244-01</th>\n",
       "      <td>1</td>\n",
       "      <td>70.0</td>\n",
       "      <td>1.0</td>\n",
       "      <td>-0.056592</td>\n",
       "      <td>2.128674</td>\n",
       "      <td>-0.531035</td>\n",
       "      <td>-0.185972</td>\n",
       "      <td>-0.190878</td>\n",
       "      <td>-0.11891</td>\n",
       "      <td>-0.659794</td>\n",
       "      <td>...</td>\n",
       "      <td>0.015022</td>\n",
       "      <td>-1.155117</td>\n",
       "      <td>0.528367</td>\n",
       "      <td>2.75061</td>\n",
       "      <td>0.428423</td>\n",
       "      <td>-0.639586</td>\n",
       "      <td>-0.195527</td>\n",
       "      <td>-0.324695</td>\n",
       "      <td>0.193167</td>\n",
       "      <td>-0.572812</td>\n",
       "    </tr>\n",
       "    <tr>\n",
       "      <th>TCGA-05-4249-01</th>\n",
       "      <td>1</td>\n",
       "      <td>67.0</td>\n",
       "      <td>1.0</td>\n",
       "      <td>-0.569692</td>\n",
       "      <td>-0.318126</td>\n",
       "      <td>-0.531035</td>\n",
       "      <td>0.237428</td>\n",
       "      <td>0.011822</td>\n",
       "      <td>-0.00611</td>\n",
       "      <td>1.018406</td>\n",
       "      <td>...</td>\n",
       "      <td>-0.031778</td>\n",
       "      <td>-0.393117</td>\n",
       "      <td>1.632467</td>\n",
       "      <td>2.33551</td>\n",
       "      <td>-0.145577</td>\n",
       "      <td>-0.997486</td>\n",
       "      <td>-0.276027</td>\n",
       "      <td>-1.219395</td>\n",
       "      <td>1.850967</td>\n",
       "      <td>-0.471212</td>\n",
       "    </tr>\n",
       "    <tr>\n",
       "      <th>TCGA-05-4250-01</th>\n",
       "      <td>1</td>\n",
       "      <td>79.0</td>\n",
       "      <td>0.0</td>\n",
       "      <td>-0.899992</td>\n",
       "      <td>-0.918126</td>\n",
       "      <td>-0.531035</td>\n",
       "      <td>-0.621472</td>\n",
       "      <td>-0.454178</td>\n",
       "      <td>0.58719</td>\n",
       "      <td>-0.198894</td>\n",
       "      <td>...</td>\n",
       "      <td>-0.748878</td>\n",
       "      <td>-1.173917</td>\n",
       "      <td>1.966367</td>\n",
       "      <td>-1.28139</td>\n",
       "      <td>-0.374877</td>\n",
       "      <td>0.959514</td>\n",
       "      <td>0.714373</td>\n",
       "      <td>0.112305</td>\n",
       "      <td>-0.532833</td>\n",
       "      <td>-0.003812</td>\n",
       "    </tr>\n",
       "    <tr>\n",
       "      <th>TCGA-05-4382-01</th>\n",
       "      <td>1</td>\n",
       "      <td>68.0</td>\n",
       "      <td>1.0</td>\n",
       "      <td>0.667508</td>\n",
       "      <td>3.895974</td>\n",
       "      <td>-0.221535</td>\n",
       "      <td>-0.367272</td>\n",
       "      <td>0.131822</td>\n",
       "      <td>0.97629</td>\n",
       "      <td>-0.494994</td>\n",
       "      <td>...</td>\n",
       "      <td>1.013722</td>\n",
       "      <td>-1.587117</td>\n",
       "      <td>0.359267</td>\n",
       "      <td>2.59051</td>\n",
       "      <td>0.806623</td>\n",
       "      <td>0.812114</td>\n",
       "      <td>0.367373</td>\n",
       "      <td>-0.494595</td>\n",
       "      <td>-1.062233</td>\n",
       "      <td>0.108588</td>\n",
       "    </tr>\n",
       "    <tr>\n",
       "      <th>TCGA-05-4384-01</th>\n",
       "      <td>1</td>\n",
       "      <td>66.0</td>\n",
       "      <td>1.0</td>\n",
       "      <td>-0.316892</td>\n",
       "      <td>2.380374</td>\n",
       "      <td>0.156865</td>\n",
       "      <td>0.232828</td>\n",
       "      <td>0.054822</td>\n",
       "      <td>0.27059</td>\n",
       "      <td>0.128606</td>\n",
       "      <td>...</td>\n",
       "      <td>-0.060978</td>\n",
       "      <td>-0.435417</td>\n",
       "      <td>1.111467</td>\n",
       "      <td>-1.28139</td>\n",
       "      <td>-0.128477</td>\n",
       "      <td>0.110214</td>\n",
       "      <td>1.469373</td>\n",
       "      <td>0.194605</td>\n",
       "      <td>1.404667</td>\n",
       "      <td>-0.290712</td>\n",
       "    </tr>\n",
       "  </tbody>\n",
       "</table>\n",
       "<p>5 rows × 20533 columns</p>\n",
       "</div>"
      ],
      "text/plain": [
       "                 Lung-Cancer   Age  Gender  ARHGEF10L     HIF3A     RNF17  \\\n",
       "sampleID                                                                    \n",
       "TCGA-05-4244-01            1  70.0     1.0  -0.056592  2.128674 -0.531035   \n",
       "TCGA-05-4249-01            1  67.0     1.0  -0.569692 -0.318126 -0.531035   \n",
       "TCGA-05-4250-01            1  79.0     0.0  -0.899992 -0.918126 -0.531035   \n",
       "TCGA-05-4382-01            1  68.0     1.0   0.667508  3.895974 -0.221535   \n",
       "TCGA-05-4384-01            1  66.0     1.0  -0.316892  2.380374  0.156865   \n",
       "\n",
       "                    RNF10     RNF11    RNF13   GTF2IP1  ...     TULP2  \\\n",
       "sampleID                                                ...             \n",
       "TCGA-05-4244-01 -0.185972 -0.190878 -0.11891 -0.659794  ...  0.015022   \n",
       "TCGA-05-4249-01  0.237428  0.011822 -0.00611  1.018406  ... -0.031778   \n",
       "TCGA-05-4250-01 -0.621472 -0.454178  0.58719 -0.198894  ... -0.748878   \n",
       "TCGA-05-4382-01 -0.367272  0.131822  0.97629 -0.494994  ...  1.013722   \n",
       "TCGA-05-4384-01  0.232828  0.054822  0.27059  0.128606  ... -0.060978   \n",
       "\n",
       "                    NPY5R     GNGT2    GNGT1     TULP3      PTRF     BCL6B  \\\n",
       "sampleID                                                                     \n",
       "TCGA-05-4244-01 -1.155117  0.528367  2.75061  0.428423 -0.639586 -0.195527   \n",
       "TCGA-05-4249-01 -0.393117  1.632467  2.33551 -0.145577 -0.997486 -0.276027   \n",
       "TCGA-05-4250-01 -1.173917  1.966367 -1.28139 -0.374877  0.959514  0.714373   \n",
       "TCGA-05-4382-01 -1.587117  0.359267  2.59051  0.806623  0.812114  0.367373   \n",
       "TCGA-05-4384-01 -0.435417  1.111467 -1.28139 -0.128477  0.110214  1.469373   \n",
       "\n",
       "                    GSTK1      SELP      SELS  \n",
       "sampleID                                       \n",
       "TCGA-05-4244-01 -0.324695  0.193167 -0.572812  \n",
       "TCGA-05-4249-01 -1.219395  1.850967 -0.471212  \n",
       "TCGA-05-4250-01  0.112305 -0.532833 -0.003812  \n",
       "TCGA-05-4382-01 -0.494595 -1.062233  0.108588  \n",
       "TCGA-05-4384-01  0.194605  1.404667 -0.290712  \n",
       "\n",
       "[5 rows x 20533 columns]"
      ]
     },
     "execution_count": 17,
     "metadata": {},
     "output_type": "execute_result"
    }
   ],
   "source": [
    "merged_data = selected_clinical_data.join(genetic_data.T).dropna()\n",
    "merged_data.head()"
   ]
  },
  {
   "cell_type": "code",
   "execution_count": null,
   "metadata": {
    "collapsed": false
   },
   "outputs": [
    {
     "name": "stdout",
     "output_type": "stream",
     "text": [
      "The merged dataset contains 1100 samples.\n"
     ]
    }
   ],
   "source": [
    "print(f\"The merged dataset contains {len(merged_data)} samples.\")"
   ]
  },
  {
   "cell_type": "code",
   "execution_count": null,
   "metadata": {
    "collapsed": false
   },
   "outputs": [
    {
     "name": "stdout",
     "output_type": "stream",
     "text": [
      "For the feature 'Lung-Cancer', the least common label is '0' with 110 occurrences. This represents 10.00% of the dataset.\n",
      "The distribution of the feature 'Lung-Cancer' in this dataset is fine.\n",
      "\n",
      "Quartiles for 'Age':\n",
      "  25%: 60.0\n",
      "  50% (Median): 67.0\n",
      "  75%: 73.0\n",
      "Min: 38.0\n",
      "Max: 90.0\n",
      "The distribution of the feature 'Age' in this dataset is fine.\n",
      "\n",
      "For the feature 'Gender', the least common label is '0.0' with 443 occurrences. This represents 40.27% of the dataset.\n",
      "The distribution of the feature 'Gender' in this dataset is fine.\n",
      "\n"
     ]
    },
    {
     "data": {
      "text/plain": [
       "False"
      ]
     },
     "execution_count": 19,
     "metadata": {},
     "output_type": "execute_result"
    }
   ],
   "source": [
    "is_trait_biased, merge_data = judge_and_remove_biased_features(merged_data, TRAIT, trait_type=trait_type)\n",
    "is_trait_biased"
   ]
  },
  {
   "cell_type": "code",
   "execution_count": null,
   "metadata": {
    "collapsed": false
   },
   "outputs": [],
   "source": [
    "merged_data.head()\n",
    "if not is_trait_biased:\n",
    "    merge_data.to_csv(os.path.join(OUTPUT_DIR, cohort+'.csv'), index=False)"
   ]
  },
  {
   "cell_type": "code",
   "execution_count": null,
   "metadata": {
    "collapsed": false
   },
   "outputs": [
    {
     "name": "stdout",
     "output_type": "stream",
     "text": [
      "A new JSON file was created at: ../../output1/Yuxuan/Lung-Cancer/cohort_info.json\n"
     ]
    }
   ],
   "source": [
    "save_cohort_info(cohort, JSON_PATH, is_available, is_trait_biased, merged_data)"
   ]
  },
  {
   "cell_type": "markdown",
   "metadata": {
    "ExecuteTime": {
     "end_time": "2023-12-28T21:28:38.028916303Z",
     "start_time": "2023-12-28T21:28:38.016245426Z"
    },
    "collapsed": false
   },
   "source": [
    "## 2.2. The GEO dataset"
   ]
  },
  {
   "cell_type": "markdown",
   "metadata": {
    "ExecuteTime": {
     "end_time": "2023-12-31T03:25:23.253882615Z",
     "start_time": "2023-12-31T03:25:23.244062710Z"
    },
    "collapsed": false
   },
   "source": [
    "In GEO, there may be one or multiple cohorts for a trait. Each cohort is identified by an accession number. We iterate over all accession numbers in the corresponding subdirectory, preprocess the cohort data, and save them to csv files."
   ]
  },
  {
   "cell_type": "code",
   "execution_count": 5,
   "metadata": {
    "ExecuteTime": {
     "end_time": "2024-01-02T01:02:59.503572381Z",
     "start_time": "2024-01-02T01:02:59.491400342Z"
    },
    "collapsed": false
   },
   "outputs": [
    {
     "data": {
      "text/plain": [
       "['GSE135589', 'GSE147004', 'GSE154141', 'GSE147002', 'GSE147003']"
      ]
     },
     "execution_count": 5,
     "metadata": {},
     "output_type": "execute_result"
    }
   ],
   "source": [
    "dataset = 'GEO'\n",
    "trait_subdir = \"Huntington_s-Disease\"\n",
    "\n",
    "trait_path = os.path.join(DATA_ROOT, dataset, trait_subdir)\n",
    "os.listdir(trait_path)"
   ]
  },
  {
   "cell_type": "markdown",
   "metadata": {
    "ExecuteTime": {
     "end_time": "2023-12-31T03:39:42.634870142Z",
     "start_time": "2023-12-31T03:39:42.534093295Z"
    },
    "collapsed": false
   },
   "source": [
    "Repeat the below steps for all the accession numbers"
   ]
  },
  {
   "cell_type": "code",
   "execution_count": 19,
   "metadata": {
    "ExecuteTime": {
     "end_time": "2024-01-02T01:03:00.287218362Z",
     "start_time": "2024-01-02T01:03:00.278758251Z"
    },
    "collapsed": false
   },
   "outputs": [
    {
     "data": {
      "text/plain": [
       "('/home/yxcheng/GEO/Huntington_s-Disease/GSE147003/GSE147003_family.soft.gz',\n",
       " '/home/yxcheng/GEO/Huntington_s-Disease/GSE147003/GSE147003_series_matrix.txt.gz')"
      ]
     },
     "execution_count": 19,
     "metadata": {},
     "output_type": "execute_result"
    }
   ],
   "source": [
    "cohort = accession_num = \"GSE147003\"\n",
    "cohort_dir = os.path.join(trait_path, accession_num)\n",
    "soft_file, matrix_file = get_relevant_filepaths(cohort_dir)\n",
    "soft_file, matrix_file"
   ]
  },
  {
   "cell_type": "markdown",
   "metadata": {
    "collapsed": false
   },
   "source": [
    "### Inital filtering and clinical data preprocessing"
   ]
  },
  {
   "cell_type": "code",
   "execution_count": 20,
   "metadata": {
    "ExecuteTime": {
     "end_time": "2024-01-02T01:03:01.634861460Z",
     "start_time": "2024-01-02T01:03:01.076370517Z"
    },
    "collapsed": false
   },
   "outputs": [
    {
     "name": "stdout",
     "output_type": "stream",
     "text": [
      "!Series_title\t\"DNA methylation profiles from a transgenic sheep model of Huntington's disease\"\n",
      "!Series_summary\t\"An Infinium microarray platform (HorvathMammalMethylChip40) was used to generate DNA methylation data from n=168 blood samples of a transgenic sheep model of Huntington's disease.\"\n",
      "!Series_summary\t\"84 transgenic sheep and age matched control sheep.\"\n",
      "!Series_overall_design\t\"Two genotypes (transgenic) and control.  Roughly sex balanced (half females).\"\n",
      "!Series_overall_design\t\"Each sample characteristics value represents:\"\n",
      "!Series_overall_design\t\"characteristics: Basename = usual identifier of the methylation array comprised of the SENTRIX ID (i.e. chip identifier) and position (row and column).\"\n",
      "!Series_overall_design\t\"characteristics: Age (Years) = Age at the time of blood draw in units of years.\"\n",
      "!Series_overall_design\t\"characteristics: Sex = female denotes female sheep.\"\n",
      "!Series_overall_design\t\"characteristics: Genotype = Transgenic denotes Huntington disease status,\"\n",
      "!Series_overall_design\t\"This ovine transgenic Huntington's disease model is described in the PMID: 20154343 article:\"\n"
     ]
    }
   ],
   "source": [
    "background_prefixes = ['!Series_title', '!Series_summary', '!Series_overall_design']\n",
    "clinical_prefixes = ['!Sample_geo_accession', '!Sample_characteristics_ch1']\n",
    "\n",
    "background_info, clinical_data = get_background_and_clinical_data(matrix_file, background_prefixes, clinical_prefixes)\n",
    "print(background_info)"
   ]
  },
  {
   "cell_type": "code",
   "execution_count": 21,
   "metadata": {
    "ExecuteTime": {
     "end_time": "2024-01-02T01:03:01.642310454Z",
     "start_time": "2024-01-02T01:03:01.635048940Z"
    },
    "collapsed": false
   },
   "outputs": [
    {
     "data": {
      "text/html": [
       "<div>\n",
       "<style scoped>\n",
       "    .dataframe tbody tr th:only-of-type {\n",
       "        vertical-align: middle;\n",
       "    }\n",
       "\n",
       "    .dataframe tbody tr th {\n",
       "        vertical-align: top;\n",
       "    }\n",
       "\n",
       "    .dataframe thead th {\n",
       "        text-align: right;\n",
       "    }\n",
       "</style>\n",
       "<table border=\"1\" class=\"dataframe\">\n",
       "  <thead>\n",
       "    <tr style=\"text-align: right;\">\n",
       "      <th></th>\n",
       "      <th>!Sample_geo_accession</th>\n",
       "      <th>GSM4412025</th>\n",
       "      <th>GSM4412026</th>\n",
       "      <th>GSM4412027</th>\n",
       "      <th>GSM4412028</th>\n",
       "      <th>GSM4412029</th>\n",
       "      <th>GSM4412030</th>\n",
       "      <th>GSM4412031</th>\n",
       "      <th>GSM4412032</th>\n",
       "      <th>GSM4412033</th>\n",
       "      <th>...</th>\n",
       "      <th>GSM4412183</th>\n",
       "      <th>GSM4412184</th>\n",
       "      <th>GSM4412185</th>\n",
       "      <th>GSM4412186</th>\n",
       "      <th>GSM4412187</th>\n",
       "      <th>GSM4412188</th>\n",
       "      <th>GSM4412189</th>\n",
       "      <th>GSM4412190</th>\n",
       "      <th>GSM4412191</th>\n",
       "      <th>GSM4412192</th>\n",
       "    </tr>\n",
       "  </thead>\n",
       "  <tbody>\n",
       "    <tr>\n",
       "      <th>0</th>\n",
       "      <td>!Sample_characteristics_ch1</td>\n",
       "      <td>genotype huntington: Control</td>\n",
       "      <td>genotype huntington: Transgenic</td>\n",
       "      <td>genotype huntington: Control</td>\n",
       "      <td>genotype huntington: Transgenic</td>\n",
       "      <td>genotype huntington: Control</td>\n",
       "      <td>genotype huntington: Transgenic</td>\n",
       "      <td>genotype huntington: Control</td>\n",
       "      <td>genotype huntington: Transgenic</td>\n",
       "      <td>genotype huntington: Control</td>\n",
       "      <td>...</td>\n",
       "      <td>genotype huntington: Control</td>\n",
       "      <td>genotype huntington: Transgenic</td>\n",
       "      <td>genotype huntington: Control</td>\n",
       "      <td>genotype huntington: Transgenic</td>\n",
       "      <td>genotype huntington: Control</td>\n",
       "      <td>genotype huntington: Transgenic</td>\n",
       "      <td>genotype huntington: Control</td>\n",
       "      <td>genotype huntington: Transgenic</td>\n",
       "      <td>genotype huntington: Control</td>\n",
       "      <td>genotype huntington: Transgenic</td>\n",
       "    </tr>\n",
       "    <tr>\n",
       "      <th>1</th>\n",
       "      <td>!Sample_characteristics_ch1</td>\n",
       "      <td>age (years): 4.25</td>\n",
       "      <td>age (years): 4.25</td>\n",
       "      <td>age (years): 4</td>\n",
       "      <td>age (years): 4.25</td>\n",
       "      <td>age (years): 4.25</td>\n",
       "      <td>age (years): 2.916666667</td>\n",
       "      <td>age (years): 2.916666667</td>\n",
       "      <td>age (years): 3.666666667</td>\n",
       "      <td>age (years): 4.25</td>\n",
       "      <td>...</td>\n",
       "      <td>age (years): 4</td>\n",
       "      <td>age (years): 2.916666667</td>\n",
       "      <td>age (years): 4.25</td>\n",
       "      <td>age (years): 4.25</td>\n",
       "      <td>age (years): 4</td>\n",
       "      <td>age (years): 2.916666667</td>\n",
       "      <td>age (years): 4.25</td>\n",
       "      <td>age (years): 4.25</td>\n",
       "      <td>age (years): 5.227777778</td>\n",
       "      <td>age (years): 4.25</td>\n",
       "    </tr>\n",
       "    <tr>\n",
       "      <th>2</th>\n",
       "      <td>!Sample_characteristics_ch1</td>\n",
       "      <td>Sex: female</td>\n",
       "      <td>Sex: female</td>\n",
       "      <td>Sex: female</td>\n",
       "      <td>Sex: male</td>\n",
       "      <td>Sex: female</td>\n",
       "      <td>Sex: female</td>\n",
       "      <td>Sex: female</td>\n",
       "      <td>Sex: female</td>\n",
       "      <td>Sex: male</td>\n",
       "      <td>...</td>\n",
       "      <td>Sex: male</td>\n",
       "      <td>Sex: female</td>\n",
       "      <td>Sex: male</td>\n",
       "      <td>Sex: male</td>\n",
       "      <td>Sex: male</td>\n",
       "      <td>Sex: female</td>\n",
       "      <td>Sex: male</td>\n",
       "      <td>Sex: male</td>\n",
       "      <td>Sex: female</td>\n",
       "      <td>Sex: male</td>\n",
       "    </tr>\n",
       "    <tr>\n",
       "      <th>3</th>\n",
       "      <td>!Sample_characteristics_ch1</td>\n",
       "      <td>tissue: Blood</td>\n",
       "      <td>tissue: Blood</td>\n",
       "      <td>tissue: Blood</td>\n",
       "      <td>tissue: Blood</td>\n",
       "      <td>tissue: Blood</td>\n",
       "      <td>tissue: Blood</td>\n",
       "      <td>tissue: Blood</td>\n",
       "      <td>tissue: Blood</td>\n",
       "      <td>tissue: Blood</td>\n",
       "      <td>...</td>\n",
       "      <td>tissue: Blood</td>\n",
       "      <td>tissue: Blood</td>\n",
       "      <td>tissue: Blood</td>\n",
       "      <td>tissue: Blood</td>\n",
       "      <td>tissue: Blood</td>\n",
       "      <td>tissue: Blood</td>\n",
       "      <td>tissue: Blood</td>\n",
       "      <td>tissue: Blood</td>\n",
       "      <td>tissue: Blood</td>\n",
       "      <td>tissue: Blood</td>\n",
       "    </tr>\n",
       "    <tr>\n",
       "      <th>4</th>\n",
       "      <td>!Sample_characteristics_ch1</td>\n",
       "      <td>basename: 203203210131_R01C01</td>\n",
       "      <td>basename: 203203210131_R02C01</td>\n",
       "      <td>basename: 203203210131_R03C01</td>\n",
       "      <td>basename: 203203210131_R04C01</td>\n",
       "      <td>basename: 203203210131_R05C01</td>\n",
       "      <td>basename: 203203210131_R06C01</td>\n",
       "      <td>basename: 203203210131_R01C02</td>\n",
       "      <td>basename: 203203210131_R02C02</td>\n",
       "      <td>basename: 203203210131_R03C02</td>\n",
       "      <td>...</td>\n",
       "      <td>basename: 203203210187_R03C01</td>\n",
       "      <td>basename: 203203210187_R04C01</td>\n",
       "      <td>basename: 203203210187_R05C01</td>\n",
       "      <td>basename: 203203210187_R06C01</td>\n",
       "      <td>basename: 203203210187_R01C02</td>\n",
       "      <td>basename: 203203210187_R02C02</td>\n",
       "      <td>basename: 203203210187_R03C02</td>\n",
       "      <td>basename: 203203210187_R04C02</td>\n",
       "      <td>basename: 203203210187_R05C02</td>\n",
       "      <td>basename: 203203210187_R06C02</td>\n",
       "    </tr>\n",
       "  </tbody>\n",
       "</table>\n",
       "<p>5 rows × 169 columns</p>\n",
       "</div>"
      ],
      "text/plain": [
       "         !Sample_geo_accession                     GSM4412025  \\\n",
       "0  !Sample_characteristics_ch1   genotype huntington: Control   \n",
       "1  !Sample_characteristics_ch1              age (years): 4.25   \n",
       "2  !Sample_characteristics_ch1                    Sex: female   \n",
       "3  !Sample_characteristics_ch1                  tissue: Blood   \n",
       "4  !Sample_characteristics_ch1  basename: 203203210131_R01C01   \n",
       "\n",
       "                        GSM4412026                     GSM4412027  \\\n",
       "0  genotype huntington: Transgenic   genotype huntington: Control   \n",
       "1                age (years): 4.25                 age (years): 4   \n",
       "2                      Sex: female                    Sex: female   \n",
       "3                    tissue: Blood                  tissue: Blood   \n",
       "4    basename: 203203210131_R02C01  basename: 203203210131_R03C01   \n",
       "\n",
       "                        GSM4412028                     GSM4412029  \\\n",
       "0  genotype huntington: Transgenic   genotype huntington: Control   \n",
       "1                age (years): 4.25              age (years): 4.25   \n",
       "2                        Sex: male                    Sex: female   \n",
       "3                    tissue: Blood                  tissue: Blood   \n",
       "4    basename: 203203210131_R04C01  basename: 203203210131_R05C01   \n",
       "\n",
       "                        GSM4412030                     GSM4412031  \\\n",
       "0  genotype huntington: Transgenic   genotype huntington: Control   \n",
       "1         age (years): 2.916666667       age (years): 2.916666667   \n",
       "2                      Sex: female                    Sex: female   \n",
       "3                    tissue: Blood                  tissue: Blood   \n",
       "4    basename: 203203210131_R06C01  basename: 203203210131_R01C02   \n",
       "\n",
       "                        GSM4412032                     GSM4412033  ...  \\\n",
       "0  genotype huntington: Transgenic   genotype huntington: Control  ...   \n",
       "1         age (years): 3.666666667              age (years): 4.25  ...   \n",
       "2                      Sex: female                      Sex: male  ...   \n",
       "3                    tissue: Blood                  tissue: Blood  ...   \n",
       "4    basename: 203203210131_R02C02  basename: 203203210131_R03C02  ...   \n",
       "\n",
       "                      GSM4412183                       GSM4412184  \\\n",
       "0   genotype huntington: Control  genotype huntington: Transgenic   \n",
       "1                 age (years): 4         age (years): 2.916666667   \n",
       "2                      Sex: male                      Sex: female   \n",
       "3                  tissue: Blood                    tissue: Blood   \n",
       "4  basename: 203203210187_R03C01    basename: 203203210187_R04C01   \n",
       "\n",
       "                      GSM4412185                       GSM4412186  \\\n",
       "0   genotype huntington: Control  genotype huntington: Transgenic   \n",
       "1              age (years): 4.25                age (years): 4.25   \n",
       "2                      Sex: male                        Sex: male   \n",
       "3                  tissue: Blood                    tissue: Blood   \n",
       "4  basename: 203203210187_R05C01    basename: 203203210187_R06C01   \n",
       "\n",
       "                      GSM4412187                       GSM4412188  \\\n",
       "0   genotype huntington: Control  genotype huntington: Transgenic   \n",
       "1                 age (years): 4         age (years): 2.916666667   \n",
       "2                      Sex: male                      Sex: female   \n",
       "3                  tissue: Blood                    tissue: Blood   \n",
       "4  basename: 203203210187_R01C02    basename: 203203210187_R02C02   \n",
       "\n",
       "                      GSM4412189                       GSM4412190  \\\n",
       "0   genotype huntington: Control  genotype huntington: Transgenic   \n",
       "1              age (years): 4.25                age (years): 4.25   \n",
       "2                      Sex: male                        Sex: male   \n",
       "3                  tissue: Blood                    tissue: Blood   \n",
       "4  basename: 203203210187_R03C02    basename: 203203210187_R04C02   \n",
       "\n",
       "                      GSM4412191                       GSM4412192  \n",
       "0   genotype huntington: Control  genotype huntington: Transgenic  \n",
       "1       age (years): 5.227777778                age (years): 4.25  \n",
       "2                    Sex: female                        Sex: male  \n",
       "3                  tissue: Blood                    tissue: Blood  \n",
       "4  basename: 203203210187_R05C02    basename: 203203210187_R06C02  \n",
       "\n",
       "[5 rows x 169 columns]"
      ]
     },
     "execution_count": 21,
     "metadata": {},
     "output_type": "execute_result"
    }
   ],
   "source": [
    "clinical_data.head()"
   ]
  },
  {
   "cell_type": "code",
   "execution_count": 22,
   "metadata": {
    "ExecuteTime": {
     "end_time": "2024-01-02T01:03:01.805026160Z",
     "start_time": "2024-01-02T01:03:01.804428154Z"
    },
    "collapsed": false
   },
   "outputs": [
    {
     "data": {
      "text/plain": [
       "{0: ['genotype huntington: Control', 'genotype huntington: Transgenic'],\n",
       " 1: ['age (years): 4.25',\n",
       "  'age (years): 4',\n",
       "  'age (years): 2.916666667',\n",
       "  'age (years): 3.666666667',\n",
       "  'age (years): 5.758333333',\n",
       "  'age (years): 5.238888889',\n",
       "  'age (years): 3.863888889',\n",
       "  'age (years): 6.436111111',\n",
       "  'age (years): 5.75',\n",
       "  'age (years): 5.741666667',\n",
       "  'age (years): 6.986111111',\n",
       "  'age (years): 5.997222222',\n",
       "  'age (years): 3.891666667',\n",
       "  'age (years): 5.747222222',\n",
       "  'age (years): 5.244444444',\n",
       "  'age (years): 6.997222222',\n",
       "  'age (years): 3.9',\n",
       "  'age (years): 5.227777778'],\n",
       " 2: ['Sex: female', 'Sex: male'],\n",
       " 3: ['tissue: Blood'],\n",
       " 4: ['basename: 203203210131_R01C01',\n",
       "  'basename: 203203210131_R02C01',\n",
       "  'basename: 203203210131_R03C01',\n",
       "  'basename: 203203210131_R04C01',\n",
       "  'basename: 203203210131_R05C01',\n",
       "  'basename: 203203210131_R06C01',\n",
       "  'basename: 203203210131_R01C02',\n",
       "  'basename: 203203210131_R02C02',\n",
       "  'basename: 203203210131_R03C02',\n",
       "  'basename: 203203210131_R04C02',\n",
       "  'basename: 203203210131_R05C02',\n",
       "  'basename: 203203210131_R06C02',\n",
       "  'basename: 203203210135_R01C01',\n",
       "  'basename: 203203210135_R02C01',\n",
       "  'basename: 203203210135_R03C01',\n",
       "  'basename: 203203210135_R04C01',\n",
       "  'basename: 203203210135_R05C01',\n",
       "  'basename: 203203210135_R06C01',\n",
       "  'basename: 203203210135_R01C02',\n",
       "  'basename: 203203210135_R02C02',\n",
       "  'basename: 203203210135_R03C02',\n",
       "  'basename: 203203210135_R04C02',\n",
       "  'basename: 203203210135_R05C02',\n",
       "  'basename: 203203210135_R06C02',\n",
       "  'basename: 203203210022_R01C01',\n",
       "  'basename: 203203210022_R02C01',\n",
       "  'basename: 203203210022_R03C01',\n",
       "  'basename: 203203210022_R04C01',\n",
       "  'basename: 203203210022_R05C01',\n",
       "  'basename: 203203210022_R06C01']}"
      ]
     },
     "execution_count": 22,
     "metadata": {},
     "output_type": "execute_result"
    }
   ],
   "source": [
    "clinical_data_unique = get_unique_values_by_row(clinical_data)\n",
    "clinical_data_unique"
   ]
  },
  {
   "cell_type": "markdown",
   "metadata": {
    "ExecuteTime": {
     "end_time": "2023-12-31T03:58:04.978204446Z",
     "start_time": "2023-12-31T03:58:04.922270095Z"
    },
    "collapsed": false
   },
   "source": [
    "Analyze the metadata to determine data relevance and find ways to extract the clinical data.\n",
    "Reference prompt:"
   ]
  },
  {
   "cell_type": "code",
   "execution_count": 33,
   "metadata": {
    "ExecuteTime": {
     "end_time": "2024-01-02T01:03:02.369775044Z",
     "start_time": "2024-01-02T01:03:02.356501629Z"
    },
    "collapsed": false
   },
   "outputs": [
    {
     "data": {
      "text/plain": [
       "'As a biomedical research team, we are selecting datasets to study the association between the human trait \\'Psoriasis\\' and genetic factors, optionally considering the influence of age and gender. After searching the GEO database and parsing the matrix file of a series, we obtained background information and sample characteristics data. We will provide textual information about the dataset background, and a Python dictionary storing a list of unique values for each field of the sample characteristics data. Please carefully review the provided information and answer the following questions about this dataset:\\n1. Does this dataset contain gene expression data? (Note: Pure miRNA data is not suitable.)\\n2. For each of the traits \\'Psoriasis\\', \\'age\\', and \\'gender\\', please address these points:\\n   (1) Is there human data available for this trait?\\n   (2) If so, identify the key in the sample characteristics dictionary where unique values of this trait is recorded. The key is an integer. The trait information might be explicitly recorded, or can be inferred from the field with some biomedical knowledge or understanding about the data collection process.\\n   (3) Choose an appropriate data type (either \\'continuous\\' or \\'binary\\') for each trait. Write a Python function to convert any given value of the trait to this data type. The function should handle inference about the trait value and convert unknown values to None.\\n   Name the functions \\'convert_trait\\', \\'convert_age\\', and \\'convert_gender\\', respectively.\\n\\nBackground information about the dataset:\\n!Series_title\\t\"A validated single-cell-based strategy to identify diagnostic and therapeutic targets in complex diseases\"\\n!Series_summary\\t\"This SuperSeries is composed of the SubSeries listed below.\"\\n!Series_overall_design\\t\"Refer to individual Series\"\\n\\nSample characteristics dictionary (from \"!Sample_characteristics_ch1\", converted to a Python dictionary that stores the unique values for each field):\\n{0: [\\'cell type: CD4+ T cells\\'], 1: [\\'primary diagnosis: ASTHMA\\', \\'primary diagnosis: ATHEROSCLEROSIS\\', \\'primary diagnosis: BREAST_CANCER\\', \\'primary diagnosis: CHRONIC_LYMPHOCYTIC_LEUKEMIA\\', \\'primary diagnosis: CROHN_DISEASE\\', \\'primary diagnosis: ATOPIC_ECZEMA\\', \\'primary diagnosis: HEALTHY_CONTROL\\', \\'primary diagnosis: INFLUENZA\\', \\'primary diagnosis: OBESITY\\', \\'primary diagnosis: PSORIASIS\\', \\'primary diagnosis: SEASONAL_ALLERGIC_RHINITIS\\', \\'primary diagnosis: TYPE_1_DIABETES\\', \\'primary diagnosis: ACUTE_TONSILLITIS\\', \\'primary diagnosis: ULCERATIVE_COLITIS\\', \\'primary diagnosis: Breast cancer\\', \\'primary diagnosis: Control\\'], 2: [\\'Sex: Male\\', \\'diagnosis2: ATOPIC_ECZEMA\\', \\'Sex: Female\\', \\'diagnosis2: ATHEROSCLEROSIS\\', \\'diagnosis2: ASTHMA_OBESITY\\', \\'diagnosis2: ASTHMA\\', \\'diagnosis2: ASTMHA_SEASONAL_ALLERGIC_RHINITIS\\', \\'diagnosis2: OBESITY\\'], 3: [\\'age: 56\\', \\'Sex: Male\\', \\'age: 20\\', \\'age: 51\\', \\'age: 37\\', \\'age: 61\\', \\'age: 31\\', \\'age: 41\\', \\'age: 80\\', \\'age: 53\\', \\'age: 73\\', \\'age: 60\\', \\'age: 76\\', \\'age: 77\\', \\'age: 74\\', \\'age: 69\\', \\'age: 81\\', \\'age: 70\\', \\'age: 82\\', \\'age: 67\\', \\'age: 78\\', \\'age: 72\\', \\'age: 66\\', \\'age: 36\\', \\'age: 45\\', \\'age: 65\\', \\'age: 48\\', \\'age: 50\\', \\'age: 24\\', \\'age: 42\\'], 4: [nan, \\'age: 63\\', \\'age: 74\\', \\'age: 49\\', \\'age: 60\\', \\'age: 68\\', \\'age: 38\\', \\'age: 16\\', \\'age: 12\\', \\'age: 27\\']}\\n'"
      ]
     },
     "execution_count": 33,
     "metadata": {},
     "output_type": "execute_result"
    }
   ],
   "source": [
    "f'''As a biomedical research team, we are selecting datasets to study the association between the human trait \\'{TRAIT}\\' and genetic factors, optionally considering the influence of age and gender. After searching the GEO database and parsing the matrix file of a series, we obtained background information and sample characteristics data. We will provide textual information about the dataset background, and a Python dictionary storing a list of unique values for each field of the sample characteristics data. Please carefully review the provided information and answer the following questions about this dataset:\n",
    "1. Does this dataset contain gene expression data? (Note: Pure miRNA data is not suitable.)\n",
    "2. For each of the traits \\'{TRAIT}\\', 'age', and 'gender', please address these points:\n",
    "   (1) Is there human data available for this trait?\n",
    "   (2) If so, identify the key in the sample characteristics dictionary where unique values of this trait is recorded. The key is an integer. The trait information might be explicitly recorded, or can be inferred from the field with some biomedical knowledge or understanding about the data collection process.\n",
    "   (3) Choose an appropriate data type (either 'continuous' or 'binary') for each trait. Write a Python function to convert any given value of the trait to this data type. The function should handle inference about the trait value and convert unknown values to None.\n",
    "   Name the functions 'convert_trait', 'convert_age', and 'convert_gender', respectively.\n",
    "\n",
    "Background information about the dataset:\n",
    "{background_info}\n",
    "\n",
    "Sample characteristics dictionary (from \"!Sample_characteristics_ch1\", converted to a Python dictionary that stores the unique values for each field):\n",
    "{clinical_data_unique}\n",
    "'''"
   ]
  },
  {
   "cell_type": "markdown",
   "metadata": {
    "ExecuteTime": {
     "end_time": "2023-12-31T03:58:04.978240504Z",
     "start_time": "2023-12-31T03:58:04.922365324Z"
    },
    "collapsed": false
   },
   "source": [
    "Understand and verify the answer from GPT, to assign values to the below variables. Assign None to the 'row_id' variables if relevant data row was not found.\n",
    "Later we need to let GPT format its answer to automatically do these. But given the complexity of this step, let's grow some insight from the free-text answers for now."
   ]
  },
  {
   "cell_type": "code",
   "execution_count": 24,
   "metadata": {
    "ExecuteTime": {
     "end_time": "2024-01-02T01:03:03.079540570Z",
     "start_time": "2024-01-02T01:03:03.073638535Z"
    },
    "collapsed": false
   },
   "outputs": [],
   "source": [
    "is_gene_availabe = True\n",
    "trait_row = 0\n",
    "age_row = 1\n",
    "gender_row = 2\n",
    "\n",
    "trait_type = 'binary'"
   ]
  },
  {
   "cell_type": "code",
   "execution_count": 25,
   "metadata": {
    "ExecuteTime": {
     "end_time": "2024-01-02T01:03:03.572682163Z",
     "start_time": "2024-01-02T01:03:03.559775513Z"
    },
    "collapsed": false
   },
   "outputs": [],
   "source": [
    "is_available = is_gene_availabe and (trait_row is not None)\n",
    "if not is_available:\n",
    "    save_cohort_info(cohort, JSON_PATH, is_available)\n",
    "    print(\"This cohort is not usable. Please skip the following steps and jump to the next accession number.\")"
   ]
  },
  {
   "cell_type": "code",
   "execution_count": 26,
   "metadata": {
    "ExecuteTime": {
     "end_time": "2024-01-02T01:03:03.973964287Z",
     "start_time": "2024-01-02T01:03:03.964958096Z"
    },
    "collapsed": false
   },
   "outputs": [
    {
     "data": {
      "text/plain": [
       "(0, None, None)"
      ]
     },
     "execution_count": 26,
     "metadata": {},
     "output_type": "execute_result"
    }
   ],
   "source": [
    "def convert_trait(tissue_type):\n",
    "    \"\"\"\n",
    "    Convert tissue type to epilepsy presence (binary).\n",
    "    Assuming epilepsy presence for 'Hippocampus' tissue.\n",
    "    \"\"\"\n",
    "    if tissue_type == 'genotype huntington: Transgenic':\n",
    "        return 1  # Epilepsy present\n",
    "    else:\n",
    "        return 0  # Epilepsy not present\n",
    "\n",
    "def convert_age(age_string):\n",
    "    \"\"\"\n",
    "    Convert age string to a numerical value.\n",
    "    \"\"\"\n",
    "    if age_string.startswith('age (years): '):\n",
    "        try:\n",
    "            return float(age_string.split('age (years): ')[1].rstrip(''))  # Extracting numeric part\n",
    "        except ValueError:\n",
    "            return None  # In case of parsing error\n",
    "    else:\n",
    "        return None  # If age string does not follow expected format\n",
    "\n",
    "def convert_gender(gender_string):\n",
    "    \"\"\"\n",
    "    Convert gender string to a binary representation.\n",
    "    Female -> 0, Male -> 1, Unknown -> None\n",
    "    \"\"\"\n",
    "    if gender_string == 'Sex: female':\n",
    "        return 0\n",
    "    elif gender_string == 'Sex: male':\n",
    "        return 1\n",
    "    else:\n",
    "        return None  # In case of unknown gender\n",
    "\n",
    "# Example usage\n",
    "example_tissue = 'tissue: Hippocampus'\n",
    "example_age = 'age: 23y'\n",
    "example_gender = 'gender: Male'\n",
    "\n",
    "converted_trait = convert_trait(example_tissue)\n",
    "converted_age = convert_age(example_age)\n",
    "converted_gender = convert_gender(example_gender)\n",
    "\n",
    "converted_trait, converted_age, converted_gender"
   ]
  },
  {
   "cell_type": "code",
   "execution_count": 27,
   "metadata": {
    "ExecuteTime": {
     "end_time": "2024-01-02T01:03:04.637878352Z",
     "start_time": "2024-01-02T01:03:04.593886885Z"
    },
    "collapsed": false
   },
   "outputs": [
    {
     "name": "stderr",
     "output_type": "stream",
     "text": [
      "/home/yxcheng/AI4Science_gold_standard/stage1/YIjiang/../utils.py:208: FutureWarning: DataFrame.applymap has been deprecated. Use DataFrame.map instead.\n",
      "  clinical_df = clinical_df.applymap(convert_fn)\n",
      "/home/yxcheng/AI4Science_gold_standard/stage1/YIjiang/../utils.py:208: FutureWarning: DataFrame.applymap has been deprecated. Use DataFrame.map instead.\n",
      "  clinical_df = clinical_df.applymap(convert_fn)\n",
      "/home/yxcheng/AI4Science_gold_standard/stage1/YIjiang/../utils.py:208: FutureWarning: DataFrame.applymap has been deprecated. Use DataFrame.map instead.\n",
      "  clinical_df = clinical_df.applymap(convert_fn)\n"
     ]
    },
    {
     "data": {
      "text/html": [
       "<div>\n",
       "<style scoped>\n",
       "    .dataframe tbody tr th:only-of-type {\n",
       "        vertical-align: middle;\n",
       "    }\n",
       "\n",
       "    .dataframe tbody tr th {\n",
       "        vertical-align: top;\n",
       "    }\n",
       "\n",
       "    .dataframe thead th {\n",
       "        text-align: right;\n",
       "    }\n",
       "</style>\n",
       "<table border=\"1\" class=\"dataframe\">\n",
       "  <thead>\n",
       "    <tr style=\"text-align: right;\">\n",
       "      <th></th>\n",
       "      <th>GSM4412025</th>\n",
       "      <th>GSM4412026</th>\n",
       "      <th>GSM4412027</th>\n",
       "      <th>GSM4412028</th>\n",
       "      <th>GSM4412029</th>\n",
       "      <th>GSM4412030</th>\n",
       "      <th>GSM4412031</th>\n",
       "      <th>GSM4412032</th>\n",
       "      <th>GSM4412033</th>\n",
       "      <th>GSM4412034</th>\n",
       "      <th>...</th>\n",
       "      <th>GSM4412183</th>\n",
       "      <th>GSM4412184</th>\n",
       "      <th>GSM4412185</th>\n",
       "      <th>GSM4412186</th>\n",
       "      <th>GSM4412187</th>\n",
       "      <th>GSM4412188</th>\n",
       "      <th>GSM4412189</th>\n",
       "      <th>GSM4412190</th>\n",
       "      <th>GSM4412191</th>\n",
       "      <th>GSM4412192</th>\n",
       "    </tr>\n",
       "  </thead>\n",
       "  <tbody>\n",
       "    <tr>\n",
       "      <th>Huntington_s-Disease</th>\n",
       "      <td>0.00</td>\n",
       "      <td>1.00</td>\n",
       "      <td>0.0</td>\n",
       "      <td>1.00</td>\n",
       "      <td>0.00</td>\n",
       "      <td>1.000000</td>\n",
       "      <td>0.000000</td>\n",
       "      <td>1.000000</td>\n",
       "      <td>0.00</td>\n",
       "      <td>1.00</td>\n",
       "      <td>...</td>\n",
       "      <td>0.0</td>\n",
       "      <td>1.000000</td>\n",
       "      <td>0.00</td>\n",
       "      <td>1.00</td>\n",
       "      <td>0.0</td>\n",
       "      <td>1.000000</td>\n",
       "      <td>0.00</td>\n",
       "      <td>1.00</td>\n",
       "      <td>0.000000</td>\n",
       "      <td>1.00</td>\n",
       "    </tr>\n",
       "    <tr>\n",
       "      <th>Age</th>\n",
       "      <td>4.25</td>\n",
       "      <td>4.25</td>\n",
       "      <td>4.0</td>\n",
       "      <td>4.25</td>\n",
       "      <td>4.25</td>\n",
       "      <td>2.916667</td>\n",
       "      <td>2.916667</td>\n",
       "      <td>3.666667</td>\n",
       "      <td>4.25</td>\n",
       "      <td>4.25</td>\n",
       "      <td>...</td>\n",
       "      <td>4.0</td>\n",
       "      <td>2.916667</td>\n",
       "      <td>4.25</td>\n",
       "      <td>4.25</td>\n",
       "      <td>4.0</td>\n",
       "      <td>2.916667</td>\n",
       "      <td>4.25</td>\n",
       "      <td>4.25</td>\n",
       "      <td>5.227778</td>\n",
       "      <td>4.25</td>\n",
       "    </tr>\n",
       "    <tr>\n",
       "      <th>Gender</th>\n",
       "      <td>0.00</td>\n",
       "      <td>0.00</td>\n",
       "      <td>0.0</td>\n",
       "      <td>1.00</td>\n",
       "      <td>0.00</td>\n",
       "      <td>0.000000</td>\n",
       "      <td>0.000000</td>\n",
       "      <td>0.000000</td>\n",
       "      <td>1.00</td>\n",
       "      <td>0.00</td>\n",
       "      <td>...</td>\n",
       "      <td>1.0</td>\n",
       "      <td>0.000000</td>\n",
       "      <td>1.00</td>\n",
       "      <td>1.00</td>\n",
       "      <td>1.0</td>\n",
       "      <td>0.000000</td>\n",
       "      <td>1.00</td>\n",
       "      <td>1.00</td>\n",
       "      <td>0.000000</td>\n",
       "      <td>1.00</td>\n",
       "    </tr>\n",
       "  </tbody>\n",
       "</table>\n",
       "<p>3 rows × 168 columns</p>\n",
       "</div>"
      ],
      "text/plain": [
       "                      GSM4412025  GSM4412026  GSM4412027  GSM4412028  \\\n",
       "Huntington_s-Disease        0.00        1.00         0.0        1.00   \n",
       "Age                         4.25        4.25         4.0        4.25   \n",
       "Gender                      0.00        0.00         0.0        1.00   \n",
       "\n",
       "                      GSM4412029  GSM4412030  GSM4412031  GSM4412032  \\\n",
       "Huntington_s-Disease        0.00    1.000000    0.000000    1.000000   \n",
       "Age                         4.25    2.916667    2.916667    3.666667   \n",
       "Gender                      0.00    0.000000    0.000000    0.000000   \n",
       "\n",
       "                      GSM4412033  GSM4412034  ...  GSM4412183  GSM4412184  \\\n",
       "Huntington_s-Disease        0.00        1.00  ...         0.0    1.000000   \n",
       "Age                         4.25        4.25  ...         4.0    2.916667   \n",
       "Gender                      1.00        0.00  ...         1.0    0.000000   \n",
       "\n",
       "                      GSM4412185  GSM4412186  GSM4412187  GSM4412188  \\\n",
       "Huntington_s-Disease        0.00        1.00         0.0    1.000000   \n",
       "Age                         4.25        4.25         4.0    2.916667   \n",
       "Gender                      1.00        1.00         1.0    0.000000   \n",
       "\n",
       "                      GSM4412189  GSM4412190  GSM4412191  GSM4412192  \n",
       "Huntington_s-Disease        0.00        1.00    0.000000        1.00  \n",
       "Age                         4.25        4.25    5.227778        4.25  \n",
       "Gender                      1.00        1.00    0.000000        1.00  \n",
       "\n",
       "[3 rows x 168 columns]"
      ]
     },
     "execution_count": 27,
     "metadata": {},
     "output_type": "execute_result"
    }
   ],
   "source": [
    "selected_clinical_data = geo_select_clinical_features(clinical_data, TRAIT, trait_row, convert_trait, age_row=age_row,\n",
    "                                                      convert_age=convert_age, gender_row=gender_row,\n",
    "                                                      convert_gender=convert_gender)\n",
    "selected_clinical_data.head()"
   ]
  },
  {
   "cell_type": "markdown",
   "metadata": {
    "ExecuteTime": {
     "end_time": "2023-12-31T03:58:04.978664193Z",
     "start_time": "2023-12-31T03:58:04.966117261Z"
    },
    "collapsed": false
   },
   "source": [
    "### Genetic data preprocessing and final filtering"
   ]
  },
  {
   "cell_type": "code",
   "execution_count": 28,
   "metadata": {
    "ExecuteTime": {
     "end_time": "2024-01-02T01:03:06.246474256Z",
     "start_time": "2024-01-02T01:03:05.670354792Z"
    },
    "collapsed": false
   },
   "outputs": [
    {
     "data": {
      "text/html": [
       "<div>\n",
       "<style scoped>\n",
       "    .dataframe tbody tr th:only-of-type {\n",
       "        vertical-align: middle;\n",
       "    }\n",
       "\n",
       "    .dataframe tbody tr th {\n",
       "        vertical-align: top;\n",
       "    }\n",
       "\n",
       "    .dataframe thead th {\n",
       "        text-align: right;\n",
       "    }\n",
       "</style>\n",
       "<table border=\"1\" class=\"dataframe\">\n",
       "  <thead>\n",
       "    <tr style=\"text-align: right;\">\n",
       "      <th></th>\n",
       "      <th>GSM4412025</th>\n",
       "      <th>GSM4412026</th>\n",
       "      <th>GSM4412027</th>\n",
       "      <th>GSM4412028</th>\n",
       "      <th>GSM4412029</th>\n",
       "      <th>GSM4412030</th>\n",
       "      <th>GSM4412031</th>\n",
       "      <th>GSM4412032</th>\n",
       "      <th>GSM4412033</th>\n",
       "      <th>GSM4412034</th>\n",
       "      <th>...</th>\n",
       "      <th>GSM4412183</th>\n",
       "      <th>GSM4412184</th>\n",
       "      <th>GSM4412185</th>\n",
       "      <th>GSM4412186</th>\n",
       "      <th>GSM4412187</th>\n",
       "      <th>GSM4412188</th>\n",
       "      <th>GSM4412189</th>\n",
       "      <th>GSM4412190</th>\n",
       "      <th>GSM4412191</th>\n",
       "      <th>GSM4412192</th>\n",
       "    </tr>\n",
       "    <tr>\n",
       "      <th>ID</th>\n",
       "      <th></th>\n",
       "      <th></th>\n",
       "      <th></th>\n",
       "      <th></th>\n",
       "      <th></th>\n",
       "      <th></th>\n",
       "      <th></th>\n",
       "      <th></th>\n",
       "      <th></th>\n",
       "      <th></th>\n",
       "      <th></th>\n",
       "      <th></th>\n",
       "      <th></th>\n",
       "      <th></th>\n",
       "      <th></th>\n",
       "      <th></th>\n",
       "      <th></th>\n",
       "      <th></th>\n",
       "      <th></th>\n",
       "      <th></th>\n",
       "      <th></th>\n",
       "    </tr>\n",
       "  </thead>\n",
       "  <tbody>\n",
       "    <tr>\n",
       "      <th>cg00000165</th>\n",
       "      <td>0.696791</td>\n",
       "      <td>0.645434</td>\n",
       "      <td>0.633041</td>\n",
       "      <td>0.610855</td>\n",
       "      <td>0.667496</td>\n",
       "      <td>0.582614</td>\n",
       "      <td>0.569999</td>\n",
       "      <td>0.596768</td>\n",
       "      <td>0.576174</td>\n",
       "      <td>0.691860</td>\n",
       "      <td>...</td>\n",
       "      <td>0.570973</td>\n",
       "      <td>0.559877</td>\n",
       "      <td>0.646140</td>\n",
       "      <td>0.538759</td>\n",
       "      <td>0.714180</td>\n",
       "      <td>0.673140</td>\n",
       "      <td>0.635783</td>\n",
       "      <td>0.645294</td>\n",
       "      <td>0.601172</td>\n",
       "      <td>0.584490</td>\n",
       "    </tr>\n",
       "    <tr>\n",
       "      <th>cg00001209</th>\n",
       "      <td>0.882646</td>\n",
       "      <td>0.899428</td>\n",
       "      <td>0.879341</td>\n",
       "      <td>0.885701</td>\n",
       "      <td>0.888487</td>\n",
       "      <td>0.882929</td>\n",
       "      <td>0.893199</td>\n",
       "      <td>0.873676</td>\n",
       "      <td>0.905101</td>\n",
       "      <td>0.892224</td>\n",
       "      <td>...</td>\n",
       "      <td>0.849176</td>\n",
       "      <td>0.905680</td>\n",
       "      <td>0.879754</td>\n",
       "      <td>0.881820</td>\n",
       "      <td>0.878871</td>\n",
       "      <td>0.907541</td>\n",
       "      <td>0.886740</td>\n",
       "      <td>0.877080</td>\n",
       "      <td>0.853736</td>\n",
       "      <td>0.860303</td>\n",
       "    </tr>\n",
       "    <tr>\n",
       "      <th>cg00001364</th>\n",
       "      <td>0.901995</td>\n",
       "      <td>0.910729</td>\n",
       "      <td>0.901996</td>\n",
       "      <td>0.884089</td>\n",
       "      <td>0.910420</td>\n",
       "      <td>0.920101</td>\n",
       "      <td>0.890174</td>\n",
       "      <td>0.907817</td>\n",
       "      <td>0.917927</td>\n",
       "      <td>0.906210</td>\n",
       "      <td>...</td>\n",
       "      <td>0.912268</td>\n",
       "      <td>0.923939</td>\n",
       "      <td>0.929560</td>\n",
       "      <td>0.922800</td>\n",
       "      <td>0.917359</td>\n",
       "      <td>0.931753</td>\n",
       "      <td>0.909672</td>\n",
       "      <td>0.922073</td>\n",
       "      <td>0.924660</td>\n",
       "      <td>0.921910</td>\n",
       "    </tr>\n",
       "    <tr>\n",
       "      <th>cg00001582</th>\n",
       "      <td>0.046551</td>\n",
       "      <td>0.040599</td>\n",
       "      <td>0.050694</td>\n",
       "      <td>0.045069</td>\n",
       "      <td>0.044785</td>\n",
       "      <td>0.042522</td>\n",
       "      <td>0.044694</td>\n",
       "      <td>0.041302</td>\n",
       "      <td>0.048841</td>\n",
       "      <td>0.043398</td>\n",
       "      <td>...</td>\n",
       "      <td>0.047361</td>\n",
       "      <td>0.050596</td>\n",
       "      <td>0.044477</td>\n",
       "      <td>0.047719</td>\n",
       "      <td>0.049545</td>\n",
       "      <td>0.044595</td>\n",
       "      <td>0.048683</td>\n",
       "      <td>0.048970</td>\n",
       "      <td>0.042278</td>\n",
       "      <td>0.044783</td>\n",
       "    </tr>\n",
       "    <tr>\n",
       "      <th>cg00002920</th>\n",
       "      <td>0.492209</td>\n",
       "      <td>0.513703</td>\n",
       "      <td>0.492087</td>\n",
       "      <td>0.502375</td>\n",
       "      <td>0.520136</td>\n",
       "      <td>0.497499</td>\n",
       "      <td>0.503536</td>\n",
       "      <td>0.500597</td>\n",
       "      <td>0.517282</td>\n",
       "      <td>0.504049</td>\n",
       "      <td>...</td>\n",
       "      <td>0.530951</td>\n",
       "      <td>0.513980</td>\n",
       "      <td>0.518154</td>\n",
       "      <td>0.491364</td>\n",
       "      <td>0.503261</td>\n",
       "      <td>0.514976</td>\n",
       "      <td>0.526438</td>\n",
       "      <td>0.495024</td>\n",
       "      <td>0.514352</td>\n",
       "      <td>0.521525</td>\n",
       "    </tr>\n",
       "  </tbody>\n",
       "</table>\n",
       "<p>5 rows × 168 columns</p>\n",
       "</div>"
      ],
      "text/plain": [
       "            GSM4412025  GSM4412026  GSM4412027  GSM4412028  GSM4412029  \\\n",
       "ID                                                                       \n",
       "cg00000165    0.696791    0.645434    0.633041    0.610855    0.667496   \n",
       "cg00001209    0.882646    0.899428    0.879341    0.885701    0.888487   \n",
       "cg00001364    0.901995    0.910729    0.901996    0.884089    0.910420   \n",
       "cg00001582    0.046551    0.040599    0.050694    0.045069    0.044785   \n",
       "cg00002920    0.492209    0.513703    0.492087    0.502375    0.520136   \n",
       "\n",
       "            GSM4412030  GSM4412031  GSM4412032  GSM4412033  GSM4412034  ...  \\\n",
       "ID                                                                      ...   \n",
       "cg00000165    0.582614    0.569999    0.596768    0.576174    0.691860  ...   \n",
       "cg00001209    0.882929    0.893199    0.873676    0.905101    0.892224  ...   \n",
       "cg00001364    0.920101    0.890174    0.907817    0.917927    0.906210  ...   \n",
       "cg00001582    0.042522    0.044694    0.041302    0.048841    0.043398  ...   \n",
       "cg00002920    0.497499    0.503536    0.500597    0.517282    0.504049  ...   \n",
       "\n",
       "            GSM4412183  GSM4412184  GSM4412185  GSM4412186  GSM4412187  \\\n",
       "ID                                                                       \n",
       "cg00000165    0.570973    0.559877    0.646140    0.538759    0.714180   \n",
       "cg00001209    0.849176    0.905680    0.879754    0.881820    0.878871   \n",
       "cg00001364    0.912268    0.923939    0.929560    0.922800    0.917359   \n",
       "cg00001582    0.047361    0.050596    0.044477    0.047719    0.049545   \n",
       "cg00002920    0.530951    0.513980    0.518154    0.491364    0.503261   \n",
       "\n",
       "            GSM4412188  GSM4412189  GSM4412190  GSM4412191  GSM4412192  \n",
       "ID                                                                      \n",
       "cg00000165    0.673140    0.635783    0.645294    0.601172    0.584490  \n",
       "cg00001209    0.907541    0.886740    0.877080    0.853736    0.860303  \n",
       "cg00001364    0.931753    0.909672    0.922073    0.924660    0.921910  \n",
       "cg00001582    0.044595    0.048683    0.048970    0.042278    0.044783  \n",
       "cg00002920    0.514976    0.526438    0.495024    0.514352    0.521525  \n",
       "\n",
       "[5 rows x 168 columns]"
      ]
     },
     "execution_count": 28,
     "metadata": {},
     "output_type": "execute_result"
    }
   ],
   "source": [
    "genetic_data = get_genetic_data(matrix_file)\n",
    "genetic_data.head()"
   ]
  },
  {
   "cell_type": "code",
   "execution_count": 29,
   "metadata": {
    "ExecuteTime": {
     "end_time": "2024-01-02T01:03:06.250833943Z",
     "start_time": "2024-01-02T01:03:06.246758837Z"
    },
    "collapsed": false
   },
   "outputs": [
    {
     "data": {
      "text/plain": [
       "['cg00000165',\n",
       " 'cg00001209',\n",
       " 'cg00001364',\n",
       " 'cg00001582',\n",
       " 'cg00002920',\n",
       " 'cg00003994',\n",
       " 'cg00004555',\n",
       " 'cg00005112',\n",
       " 'cg00005271',\n",
       " 'cg00006213',\n",
       " 'cg00008998',\n",
       " 'cg00009248',\n",
       " 'cg00009319',\n",
       " 'cg00010445',\n",
       " 'cg00010903',\n",
       " 'cg00010926',\n",
       " 'cg00010977',\n",
       " 'cg00012521',\n",
       " 'cg00012879',\n",
       " 'cg00013189']"
      ]
     },
     "execution_count": 29,
     "metadata": {},
     "output_type": "execute_result"
    }
   ],
   "source": [
    "gene_row_ids = genetic_data.index[:20].tolist()\n",
    "gene_row_ids"
   ]
  },
  {
   "cell_type": "markdown",
   "metadata": {
    "ExecuteTime": {
     "end_time": "2023-12-31T03:30:41.595335164Z",
     "start_time": "2023-12-31T03:30:41.513232329Z"
    },
    "collapsed": false
   },
   "source": [
    "Check if the gene dataset requires mapping to get the gene symbols corresponding to each data row."
   ]
  },
  {
   "cell_type": "markdown",
   "metadata": {
    "collapsed": false
   },
   "source": [
    "Reference prompt:"
   ]
  },
  {
   "cell_type": "code",
   "execution_count": 30,
   "metadata": {
    "ExecuteTime": {
     "end_time": "2024-01-02T01:03:07.586216481Z",
     "start_time": "2024-01-02T01:03:07.574527035Z"
    },
    "collapsed": false
   },
   "outputs": [
    {
     "data": {
      "text/plain": [
       "\"\\nBelow are the row headers of a gene expression dataset in GEO. Based on your biomedical knowledge, are they human gene symbols, or are they some other identifiers that need to be mapped to gene symbols? Your answer should be concluded by starting a new line and strictly following this format:\\nrequires_gene_mapping = (True or False)\\n\\nRow headers:\\n['cg00000165', 'cg00001209', 'cg00001364', 'cg00001582', 'cg00002920', 'cg00003994', 'cg00004555', 'cg00005112', 'cg00005271', 'cg00006213', 'cg00008998', 'cg00009248', 'cg00009319', 'cg00010445', 'cg00010903', 'cg00010926', 'cg00010977', 'cg00012521', 'cg00012879', 'cg00013189']\\n\""
      ]
     },
     "execution_count": 30,
     "metadata": {},
     "output_type": "execute_result"
    }
   ],
   "source": [
    "f'''\n",
    "Below are the row headers of a gene expression dataset in GEO. Based on your biomedical knowledge, are they human gene symbols, or are they some other identifiers that need to be mapped to gene symbols? Your answer should be concluded by starting a new line and strictly following this format:\n",
    "requires_gene_mapping = (True or False)\n",
    "\n",
    "Row headers:\n",
    "{gene_row_ids}\n",
    "'''"
   ]
  },
  {
   "cell_type": "markdown",
   "metadata": {
    "collapsed": false
   },
   "source": [
    "If not required, jump directly to the gene normalization step"
   ]
  },
  {
   "cell_type": "code",
   "execution_count": 31,
   "metadata": {
    "ExecuteTime": {
     "end_time": "2024-01-02T01:03:08.263712538Z",
     "start_time": "2024-01-02T01:03:08.260656314Z"
    },
    "collapsed": false
   },
   "outputs": [],
   "source": [
    "requires_gene_mapping = True"
   ]
  },
  {
   "cell_type": "code",
   "execution_count": 32,
   "metadata": {
    "ExecuteTime": {
     "end_time": "2024-01-02T01:03:33.822550310Z",
     "start_time": "2024-01-02T01:03:08.648958912Z"
    },
    "collapsed": false
   },
   "outputs": [
    {
     "name": "stdout",
     "output_type": "stream",
     "text": [
      "{'ID': ['cg00000165', 'cg00001209', 'cg00001364', 'cg00001582', 'cg00002920'], 'Human.MAPINFO': ['91194674', '61220029', '214170376', '80828702', '130336474'], 'Human.CHR': ['chr1', 'chr5', 'chr1', 'chr10', 'chr10'], 'Human.Strand': ['R', 'F', 'R', 'R', 'R'], 'Design_Sequence': ['CATTTCAAAAGGGCAAAAGTCTTGGTCGTGAGCGTTCGGCCCCGGAGTCCATGCCACGGG[CG]ATGTGTGCCTCAGCTGTTCCATCAAAAGCCACTGTACTAACAGATCCTGACTGCACTTAG', 'TTTATCTTAGGAATTAATACATTCTGCCATTTTCTATTCTGGCTACAATCTAGAGAAATC[CG]TGAGGCTGAATACATTTTGTACCACTTTGTTCTGCTTATAATGTTAAGATGTTTTCAAGA', 'TGCCCCTTAATGCCACACTGGGGGAATGGCTCATACCCCGAATTATATTCTCAACCCGGG[CG]CGCTTTGCTCTCAGGTGCTCATCACATAAGCGATCCATATCAAACTGGCTCATAGTAGGC', 'CAGACAGTGAAAAGGAACTCGGCGTTAGGGGGTGAGTAAGTGAATCAACTCGCCCGGAGC[CG]AGCAAGTTGAAGTGTCAGATTACATTGGCTATTCTATTTCCAAAGGGCCCCGCGCCGCCG', 'AATGCAGCTTGCGCCAGCCACATCTGTGTCTTCCTCTTCTGCCCTCCAAATGAGCCACGC[CG]AGGCAGGGAAGCTGTTGACAAATTAATACTTTAAGAAAATAAACTATGGTCATGTTCAAC'], 'Forward_Sequence': ['CTAAGTGCAGTCAGGATCTGTTAGTACAGTGGCTTTTGATGGAACAGCTGAGGCACACAT[CG]CCCGTGGCATGGACTCCGGGGCCGAACGCTCACGACCAAGACTTTTGCCCTTTTGAAATG', 'TTTATCTTAGGAATTAATACATTCTGCCATTTTCTATTCTGGCTACAATCTAGAGAAATC[CG]TGAGGCTGAATACATTTTGTACCACTTTGTTCTGCTTATAATGTTAAGATGTTTTCAAGA', 'GCCTACTATGAGCCAGTTTGATATGGATCGCTTATGTGATGAGCACCTGAGAGCAAAGCG[CG]CCCGGGTTGAGAATATAATTCGGGGTATGAGCCATTCCCCCAGTGTGGCATTAAGGGGCA', 'CGGCGGCGCGGGGCCCTTTGGAAATAGAATAGCCAATGTAATCTGACACTTCAACTTGCT[CG]GCTCCGGGCGAGTTGATTCACTTACTCACCCCCTAACGCCGAGTTCCTTTTCACTGTCTG', 'GTTGAACATGACCATAGTTTATTTTCTTAAAGTATTAATTTGTCAACAGCTTCCCTGCCT[CG]GCGTGGCTCATTTGGAGGGCAGAAGAGGAAGACACAGATGTGGCTGGCGCAAGCTGCATT'], 'Top_Sequence': ['CTAAGTGCAGTCAGGATCTGTTAGTACAGTGGCTTTTGATGGAACAGCTGAGGCACACAT[CG]CCCGTGGCATGGACTCCGGGGCCGAACGCTCACGACCAAGACTTTTGCCCTTTTGAAATG', 'TCTTGAAAACATCTTAACATTATAAGCAGAACAAAGTGGTACAAAATGTATTCAGCCTCA[CG]GATTTCTCTAGATTGTAGCCAGAATAGAAAATGGCAGAATGTATTAATTCCTAAGATAAA', 'GCCTACTATGAGCCAGTTTGATATGGATCGCTTATGTGATGAGCACCTGAGAGCAAAGCG[CG]CCCGGGTTGAGAATATAATTCGGGGTATGAGCCATTCCCCCAGTGTGGCATTAAGGGGCA', 'CGGCGGCGCGGGGCCCTTTGGAAATAGAATAGCCAATGTAATCTGACACTTCAACTTGCT[CG]GCTCCGGGCGAGTTGATTCACTTACTCACCCCCTAACGCCGAGTTCCTTTTCACTGTCTG', 'GTTGAACATGACCATAGTTTATTTTCTTAAAGTATTAATTTGTCAACAGCTTCCCTGCCT[CG]GCGTGGCTCATTTGGAGGGCAGAAGAGGAAGACACAGATGTGGCTGGCGCAAGCTGCATT'], 'SourceSeq': ['AGGATCTGTTAGTACAGTGGCTTTTGATGGAACAGCTGAGGCACACATCG', 'CTTAACATTATAAGCAGAACAAAGTGGTACAAAATGTATTCAGCCTCACG', 'CCAGTTTGATATGGATCGCTTATGTGATGAGCACCTGAGAGCAAAGCGCG', 'GCCCTTTGGAAATAGAATAGCCAATGTAATCTGACACTTCAACTTGCTCG', 'CATAGTTTATTTTCTTAAAGTATTAATTTGTCAACAGCTTCCCTGCCTCG'], 'Infinium_Design_Type': ['II', 'II', 'II', 'II', 'II'], 'Human.Hg19_CGstart': [91194674.0, 61220029.0, 214170376.0, 80828702.0, 130336474.0], 'Human.Hg19_CGend': [91194675.0, 61220030.0, 214170377.0, 80828703.0, 130336475.0], 'Human.Hg19_seqnames': ['chr1', 'chr5', 'chr1', 'chr10', 'chr10'], 'Human.Hg19_SYMBOL': ['BARHL2', 'C5orf64', 'PROX1', 'ZMIZ1', 'MKI67'], 'Human.Hg19_main_Categories': ['Intergenic_upstream', 'Intergenic_downstream', 'Exon', 'Promoter', 'Intergenic_upstream'], 'Human.Hg38_start': [90729117.0, 61924202.0, 213997033.0, 79068945.0, 128538210.0], 'Human.Hg38_end': [90729118.0, 61924203.0, 213997034.0, 79068946.0, 128538211.0], 'Human.Hg38_seqnames': ['chr1', 'chr5', 'chr1', 'chr10', 'chr10'], 'Human.Hg38_SYMBOL': ['BARHL2', 'C5orf64-AS1', 'PROX1', 'ZMIZ1', 'LINC01163'], 'Human.Hg38_main_Categories': ['Intergenic_upstream', 'Intron', 'Exon', 'Promoter', 'Intergenic_downstream'], 'Mouse.GRCm38.100_CGstart': [nan, 107337192.0, 190161748.0, 25459229.0, 136057382.0], 'Mouse.GRCm38.100_CGend': [nan, 107337193.0, 190161749.0, 25459230.0, 136057383.0], 'Mouse.GRCm38.100_seqnames': [nan, '13', '1', '14', '7'], 'Mouse.GRCm38.100_SYMBOL': [nan, 'Gm2736', 'Prox1', 'Zmiz1', 'Gm9341'], 'Mouse.GRCm38.100_main_Categories': [nan, 'Intergenic_upstream', 'Exon', 'fiveUTR', 'Intergenic_downstream'], 'Rat.Rnor.6.0.101_CGstart': [4348628.0, 38574361.0, 108391779.0, 1749197.0, nan], 'Rat.Rnor.6.0.101_CGend': [4348629.0, 38574362.0, 108391780.0, 1749198.0, nan], 'Rat.Rnor.6.0.101_seqnames': ['14', '2', '13', '16', nan], 'Rat.Rnor.6.0.101_SYMBOL': ['Barhl2', 'RGD1564606', 'Prox1', 'Zmiz1', nan], 'Rat.Rnor.6.0.101_main_Categories': ['Intergenic_upstream', 'Intergenic_downstream', 'Exon', 'fiveUTR', nan], 'Horse.EquCab3.0.100_CGstart': [70662928.0, 11958495.0, 22129005.0, 66604091.0, 4965237.0], 'Horse.EquCab3.0.100_CGend': [70662929.0, 11958496.0, 22129006.0, 66604092.0, 4965238.0], 'Horse.EquCab3.0.100_seqnames': ['5', '21', '5', '1', '1'], 'Horse.EquCab3.0.100_SYMBOL': ['BARHL2', 'KIF2A', 'PROX1', 'ZMIZ1', 'MKI67'], 'Horse.EquCab3.0.100_main_Categories': ['Intron', 'Intron', 'Exon', 'Intron', 'Intergenic_upstream'], 'Pig.Sscrofa11.1.100_CGstart': [126018939.0, 40684563.0, 129572075.0, 81407175.0, 137626929.0], 'Pig.Sscrofa11.1.100_CGend': [126018940.0, 40684564.0, 129572076.0, 81407176.0, 137626930.0], 'Pig.Sscrofa11.1.100_seqnames': ['4', '16', '9', '14', '14'], 'Pig.Sscrofa11.1.100_SYMBOL': ['BARHL2', 'KIF2A', 'PROX1', 'ZMIZ1', 'PTPRE'], 'Pig.Sscrofa11.1.100_main_Categories': ['Promoter', 'Intergenic_upstream', 'Exon', 'Intron', 'Intergenic_downstream'], 'Cat.FC.9.0.100_CGstart': [77292873.0, 131883869.0, 31678384.0, 41104169.0, nan], 'Cat.FC.9.0.100_CGend': [77292874.0, 131883870.0, 31678385.0, 41104170.0, nan], 'Cat.FC.9.0.100_seqnames': ['C1', 'A1', 'F1', 'D2', nan], 'Cat.FC.9.0.100_SYMBOL': ['BARHL2', 'KIF2A', 'PROX1', 'ZMIZ1', nan], 'Cat.FC.9.0.100_main_Categories': ['Intergenic_upstream', 'Intergenic_upstream', 'Exon', 'Intergenic_upstream', nan], 'Dog.CanFam3.1_CGstart': [57959408.0, 48380548.0, 12005293.0, 28807190.0, 37277271.0], 'Dog.CanFam3.1_CGend': [57959409.0, 48380549.0, 12005294.0, 28807191.0, 37277272.0], 'Dog.CanFam3.1_seqnames': ['6', '2', '7', '4', '28'], 'Dog.CanFam3.1_SYMBOL': ['BARHL2', 'KIF2A', 'PROX1', 'ZMIZ1', 'MKI67'], 'Dog.CanFam3.1_main_Categories': ['Intergenic_upstream', 'Intergenic_upstream', 'Exon', 'Intergenic_upstream', 'Intergenic_upstream'], 'Dolphine.turTru1.100_CGstart': [75712.0, nan, 366695.0, nan, nan], 'Dolphine.turTru1.100_CGend': [75713.0, nan, 366696.0, nan, nan], 'Dolphine.turTru1.100_seqnames': ['scaffold_98741', nan, 'scaffold_109953', nan, nan], 'Dolphine.turTru1.100_SYMBOL': ['BARHL2', nan, 'PROX1', nan, nan], 'Dolphine.turTru1.100_main_Categories': ['Intergenic_upstream', nan, 'Exon', nan, nan], 'Elephant.loxAfr3.100_CGstart': [11412983.0, 64819638.0, 1266053.0, nan, nan], 'Elephant.loxAfr3.100_CGend': [11412984.0, 64819639.0, 1266054.0, nan, nan], 'Elephant.loxAfr3.100_seqnames': ['scaffold_60', 'scaffold_7', 'scaffold_74', nan, nan], 'Elephant.loxAfr3.100_SYMBOL': ['BARHL2', 'KIF2A', 'PROX1', nan, nan], 'Elephant.loxAfr3.100_main_Categories': ['Intergenic_upstream', 'Intergenic_upstream', 'Exon', nan, nan], 'Cattle.ARS.UCD1.2_CGstart': [52520158.0, 17450440.0, 69576644.0, 34702943.0, 47915351.0], 'Cattle.ARS.UCD1.2_CGend': [52520159.0, 17450441.0, 69576645.0, 34702944.0, 47915352.0], 'Cattle.ARS.UCD1.2_seqnames': ['3', '20', '16', '28', '26'], 'Cattle.ARS.UCD1.2_SYMBOL': ['BARHL2', 'KIF2A', 'PROX1', 'ZMIZ1', 'MKI67'], 'Cattle.ARS.UCD1.2_main_Categories': ['Intergenic_upstream', 'Intergenic_upstream', 'Exon', 'Intergenic_upstream', 'Intergenic_upstream'], 'SPOT_ID': ['cg00000165', 'cg00001209', 'cg00001364', 'cg00001582', 'cg00002920']}\n"
     ]
    }
   ],
   "source": [
    "if requires_gene_mapping:\n",
    "    gene_annotation = get_gene_annotation(soft_file)\n",
    "    gene_annotation_summary = preview_df(gene_annotation)\n",
    "    print(gene_annotation_summary)"
   ]
  },
  {
   "cell_type": "markdown",
   "metadata": {
    "ExecuteTime": {
     "end_time": "2023-12-31T03:58:04.978931927Z",
     "start_time": "2023-12-31T03:58:04.966328339Z"
    },
    "collapsed": false
   },
   "source": [
    "Observe the first few cells in the ID column of the gene annotation dataframe, to find the names of columns that store the gene probe IDs and gene symbols respectively.\n",
    "Reference prompt:"
   ]
  },
  {
   "cell_type": "code",
   "execution_count": 34,
   "metadata": {
    "ExecuteTime": {
     "end_time": "2024-01-02T01:03:33.822912446Z",
     "start_time": "2024-01-02T01:03:33.804491826Z"
    },
    "collapsed": false
   },
   "outputs": [
    {
     "name": "stdout",
     "output_type": "stream",
     "text": [
      "\n",
      "    As a biomedical research team, we extracted the gene annotation data from a series in the GEO database, and saved it to a Python dictionary. Please read the dictionary, and decide which key stores the ID of the probe, and which key stores the gene symbols. Please strict follow this format in your answer:\n",
      "    probe_name_key = 'key_name1'\n",
      "    gene_name_key = 'key_name2'\n",
      "\n",
      "    Gene annotation dictionary:\n",
      "    {'ID': ['cg00000165', 'cg00001209', 'cg00001364', 'cg00001582', 'cg00002920'], 'Human.MAPINFO': ['91194674', '61220029', '214170376', '80828702', '130336474'], 'Human.CHR': ['chr1', 'chr5', 'chr1', 'chr10', 'chr10'], 'Human.Strand': ['R', 'F', 'R', 'R', 'R'], 'Design_Sequence': ['CATTTCAAAAGGGCAAAAGTCTTGGTCGTGAGCGTTCGGCCCCGGAGTCCATGCCACGGG[CG]ATGTGTGCCTCAGCTGTTCCATCAAAAGCCACTGTACTAACAGATCCTGACTGCACTTAG', 'TTTATCTTAGGAATTAATACATTCTGCCATTTTCTATTCTGGCTACAATCTAGAGAAATC[CG]TGAGGCTGAATACATTTTGTACCACTTTGTTCTGCTTATAATGTTAAGATGTTTTCAAGA', 'TGCCCCTTAATGCCACACTGGGGGAATGGCTCATACCCCGAATTATATTCTCAACCCGGG[CG]CGCTTTGCTCTCAGGTGCTCATCACATAAGCGATCCATATCAAACTGGCTCATAGTAGGC', 'CAGACAGTGAAAAGGAACTCGGCGTTAGGGGGTGAGTAAGTGAATCAACTCGCCCGGAGC[CG]AGCAAGTTGAAGTGTCAGATTACATTGGCTATTCTATTTCCAAAGGGCCCCGCGCCGCCG', 'AATGCAGCTTGCGCCAGCCACATCTGTGTCTTCCTCTTCTGCCCTCCAAATGAGCCACGC[CG]AGGCAGGGAAGCTGTTGACAAATTAATACTTTAAGAAAATAAACTATGGTCATGTTCAAC'], 'Forward_Sequence': ['CTAAGTGCAGTCAGGATCTGTTAGTACAGTGGCTTTTGATGGAACAGCTGAGGCACACAT[CG]CCCGTGGCATGGACTCCGGGGCCGAACGCTCACGACCAAGACTTTTGCCCTTTTGAAATG', 'TTTATCTTAGGAATTAATACATTCTGCCATTTTCTATTCTGGCTACAATCTAGAGAAATC[CG]TGAGGCTGAATACATTTTGTACCACTTTGTTCTGCTTATAATGTTAAGATGTTTTCAAGA', 'GCCTACTATGAGCCAGTTTGATATGGATCGCTTATGTGATGAGCACCTGAGAGCAAAGCG[CG]CCCGGGTTGAGAATATAATTCGGGGTATGAGCCATTCCCCCAGTGTGGCATTAAGGGGCA', 'CGGCGGCGCGGGGCCCTTTGGAAATAGAATAGCCAATGTAATCTGACACTTCAACTTGCT[CG]GCTCCGGGCGAGTTGATTCACTTACTCACCCCCTAACGCCGAGTTCCTTTTCACTGTCTG', 'GTTGAACATGACCATAGTTTATTTTCTTAAAGTATTAATTTGTCAACAGCTTCCCTGCCT[CG]GCGTGGCTCATTTGGAGGGCAGAAGAGGAAGACACAGATGTGGCTGGCGCAAGCTGCATT'], 'Top_Sequence': ['CTAAGTGCAGTCAGGATCTGTTAGTACAGTGGCTTTTGATGGAACAGCTGAGGCACACAT[CG]CCCGTGGCATGGACTCCGGGGCCGAACGCTCACGACCAAGACTTTTGCCCTTTTGAAATG', 'TCTTGAAAACATCTTAACATTATAAGCAGAACAAAGTGGTACAAAATGTATTCAGCCTCA[CG]GATTTCTCTAGATTGTAGCCAGAATAGAAAATGGCAGAATGTATTAATTCCTAAGATAAA', 'GCCTACTATGAGCCAGTTTGATATGGATCGCTTATGTGATGAGCACCTGAGAGCAAAGCG[CG]CCCGGGTTGAGAATATAATTCGGGGTATGAGCCATTCCCCCAGTGTGGCATTAAGGGGCA', 'CGGCGGCGCGGGGCCCTTTGGAAATAGAATAGCCAATGTAATCTGACACTTCAACTTGCT[CG]GCTCCGGGCGAGTTGATTCACTTACTCACCCCCTAACGCCGAGTTCCTTTTCACTGTCTG', 'GTTGAACATGACCATAGTTTATTTTCTTAAAGTATTAATTTGTCAACAGCTTCCCTGCCT[CG]GCGTGGCTCATTTGGAGGGCAGAAGAGGAAGACACAGATGTGGCTGGCGCAAGCTGCATT'], 'SourceSeq': ['AGGATCTGTTAGTACAGTGGCTTTTGATGGAACAGCTGAGGCACACATCG', 'CTTAACATTATAAGCAGAACAAAGTGGTACAAAATGTATTCAGCCTCACG', 'CCAGTTTGATATGGATCGCTTATGTGATGAGCACCTGAGAGCAAAGCGCG', 'GCCCTTTGGAAATAGAATAGCCAATGTAATCTGACACTTCAACTTGCTCG', 'CATAGTTTATTTTCTTAAAGTATTAATTTGTCAACAGCTTCCCTGCCTCG'], 'Infinium_Design_Type': ['II', 'II', 'II', 'II', 'II'], 'Human.Hg19_CGstart': [91194674.0, 61220029.0, 214170376.0, 80828702.0, 130336474.0], 'Human.Hg19_CGend': [91194675.0, 61220030.0, 214170377.0, 80828703.0, 130336475.0], 'Human.Hg19_seqnames': ['chr1', 'chr5', 'chr1', 'chr10', 'chr10'], 'Human.Hg19_SYMBOL': ['BARHL2', 'C5orf64', 'PROX1', 'ZMIZ1', 'MKI67'], 'Human.Hg19_main_Categories': ['Intergenic_upstream', 'Intergenic_downstream', 'Exon', 'Promoter', 'Intergenic_upstream'], 'Human.Hg38_start': [90729117.0, 61924202.0, 213997033.0, 79068945.0, 128538210.0], 'Human.Hg38_end': [90729118.0, 61924203.0, 213997034.0, 79068946.0, 128538211.0], 'Human.Hg38_seqnames': ['chr1', 'chr5', 'chr1', 'chr10', 'chr10'], 'Human.Hg38_SYMBOL': ['BARHL2', 'C5orf64-AS1', 'PROX1', 'ZMIZ1', 'LINC01163'], 'Human.Hg38_main_Categories': ['Intergenic_upstream', 'Intron', 'Exon', 'Promoter', 'Intergenic_downstream'], 'Mouse.GRCm38.100_CGstart': [nan, 107337192.0, 190161748.0, 25459229.0, 136057382.0], 'Mouse.GRCm38.100_CGend': [nan, 107337193.0, 190161749.0, 25459230.0, 136057383.0], 'Mouse.GRCm38.100_seqnames': [nan, '13', '1', '14', '7'], 'Mouse.GRCm38.100_SYMBOL': [nan, 'Gm2736', 'Prox1', 'Zmiz1', 'Gm9341'], 'Mouse.GRCm38.100_main_Categories': [nan, 'Intergenic_upstream', 'Exon', 'fiveUTR', 'Intergenic_downstream'], 'Rat.Rnor.6.0.101_CGstart': [4348628.0, 38574361.0, 108391779.0, 1749197.0, nan], 'Rat.Rnor.6.0.101_CGend': [4348629.0, 38574362.0, 108391780.0, 1749198.0, nan], 'Rat.Rnor.6.0.101_seqnames': ['14', '2', '13', '16', nan], 'Rat.Rnor.6.0.101_SYMBOL': ['Barhl2', 'RGD1564606', 'Prox1', 'Zmiz1', nan], 'Rat.Rnor.6.0.101_main_Categories': ['Intergenic_upstream', 'Intergenic_downstream', 'Exon', 'fiveUTR', nan], 'Horse.EquCab3.0.100_CGstart': [70662928.0, 11958495.0, 22129005.0, 66604091.0, 4965237.0], 'Horse.EquCab3.0.100_CGend': [70662929.0, 11958496.0, 22129006.0, 66604092.0, 4965238.0], 'Horse.EquCab3.0.100_seqnames': ['5', '21', '5', '1', '1'], 'Horse.EquCab3.0.100_SYMBOL': ['BARHL2', 'KIF2A', 'PROX1', 'ZMIZ1', 'MKI67'], 'Horse.EquCab3.0.100_main_Categories': ['Intron', 'Intron', 'Exon', 'Intron', 'Intergenic_upstream'], 'Pig.Sscrofa11.1.100_CGstart': [126018939.0, 40684563.0, 129572075.0, 81407175.0, 137626929.0], 'Pig.Sscrofa11.1.100_CGend': [126018940.0, 40684564.0, 129572076.0, 81407176.0, 137626930.0], 'Pig.Sscrofa11.1.100_seqnames': ['4', '16', '9', '14', '14'], 'Pig.Sscrofa11.1.100_SYMBOL': ['BARHL2', 'KIF2A', 'PROX1', 'ZMIZ1', 'PTPRE'], 'Pig.Sscrofa11.1.100_main_Categories': ['Promoter', 'Intergenic_upstream', 'Exon', 'Intron', 'Intergenic_downstream'], 'Cat.FC.9.0.100_CGstart': [77292873.0, 131883869.0, 31678384.0, 41104169.0, nan], 'Cat.FC.9.0.100_CGend': [77292874.0, 131883870.0, 31678385.0, 41104170.0, nan], 'Cat.FC.9.0.100_seqnames': ['C1', 'A1', 'F1', 'D2', nan], 'Cat.FC.9.0.100_SYMBOL': ['BARHL2', 'KIF2A', 'PROX1', 'ZMIZ1', nan], 'Cat.FC.9.0.100_main_Categories': ['Intergenic_upstream', 'Intergenic_upstream', 'Exon', 'Intergenic_upstream', nan], 'Dog.CanFam3.1_CGstart': [57959408.0, 48380548.0, 12005293.0, 28807190.0, 37277271.0], 'Dog.CanFam3.1_CGend': [57959409.0, 48380549.0, 12005294.0, 28807191.0, 37277272.0], 'Dog.CanFam3.1_seqnames': ['6', '2', '7', '4', '28'], 'Dog.CanFam3.1_SYMBOL': ['BARHL2', 'KIF2A', 'PROX1', 'ZMIZ1', 'MKI67'], 'Dog.CanFam3.1_main_Categories': ['Intergenic_upstream', 'Intergenic_upstream', 'Exon', 'Intergenic_upstream', 'Intergenic_upstream'], 'Dolphine.turTru1.100_CGstart': [75712.0, nan, 366695.0, nan, nan], 'Dolphine.turTru1.100_CGend': [75713.0, nan, 366696.0, nan, nan], 'Dolphine.turTru1.100_seqnames': ['scaffold_98741', nan, 'scaffold_109953', nan, nan], 'Dolphine.turTru1.100_SYMBOL': ['BARHL2', nan, 'PROX1', nan, nan], 'Dolphine.turTru1.100_main_Categories': ['Intergenic_upstream', nan, 'Exon', nan, nan], 'Elephant.loxAfr3.100_CGstart': [11412983.0, 64819638.0, 1266053.0, nan, nan], 'Elephant.loxAfr3.100_CGend': [11412984.0, 64819639.0, 1266054.0, nan, nan], 'Elephant.loxAfr3.100_seqnames': ['scaffold_60', 'scaffold_7', 'scaffold_74', nan, nan], 'Elephant.loxAfr3.100_SYMBOL': ['BARHL2', 'KIF2A', 'PROX1', nan, nan], 'Elephant.loxAfr3.100_main_Categories': ['Intergenic_upstream', 'Intergenic_upstream', 'Exon', nan, nan], 'Cattle.ARS.UCD1.2_CGstart': [52520158.0, 17450440.0, 69576644.0, 34702943.0, 47915351.0], 'Cattle.ARS.UCD1.2_CGend': [52520159.0, 17450441.0, 69576645.0, 34702944.0, 47915352.0], 'Cattle.ARS.UCD1.2_seqnames': ['3', '20', '16', '28', '26'], 'Cattle.ARS.UCD1.2_SYMBOL': ['BARHL2', 'KIF2A', 'PROX1', 'ZMIZ1', 'MKI67'], 'Cattle.ARS.UCD1.2_main_Categories': ['Intergenic_upstream', 'Intergenic_upstream', 'Exon', 'Intergenic_upstream', 'Intergenic_upstream'], 'SPOT_ID': ['cg00000165', 'cg00001209', 'cg00001364', 'cg00001582', 'cg00002920']}\n",
      "    \n"
     ]
    }
   ],
   "source": [
    "if requires_gene_mapping:\n",
    "    print(f'''\n",
    "    As a biomedical research team, we extracted the gene annotation data from a series in the GEO database, and saved it to a Python dictionary. Please read the dictionary, and decide which key stores the ID of the probe, and which key stores the gene symbols. Please strict follow this format in your answer:\n",
    "    probe_name_key = 'key_name1'\n",
    "    gene_name_key = 'key_name2'\n",
    "\n",
    "    Gene annotation dictionary:\n",
    "    {gene_annotation_summary}\n",
    "    ''')"
   ]
  },
  {
   "cell_type": "code",
   "execution_count": 35,
   "metadata": {
    "ExecuteTime": {
     "end_time": "2024-01-02T01:03:35.113359369Z",
     "start_time": "2024-01-02T01:03:33.804666371Z"
    },
    "collapsed": false
   },
   "outputs": [],
   "source": [
    "if requires_gene_mapping:\n",
    "    probe_id_key = 'ID'\n",
    "    gene_symb_key = 'Human.Hg19_SYMBOL'\n",
    "    gene_mapping = get_gene_mapping(gene_annotation, probe_id_key, gene_symb_key)\n",
    "    genetic_data = apply_gene_mapping(genetic_data, gene_mapping)"
   ]
  },
  {
   "cell_type": "code",
   "execution_count": 36,
   "metadata": {
    "ExecuteTime": {
     "end_time": "2024-01-02T01:03:35.156584675Z",
     "start_time": "2024-01-02T01:03:35.114652593Z"
    },
    "collapsed": false
   },
   "outputs": [
    {
     "name": "stderr",
     "output_type": "stream",
     "text": [
      "8 input query terms found dup hits:\t[('ABCA17P', 2), ('ALOX15P1', 2), ('APOC4-APOC2', 2), ('APOOP5', 2), ('ASB9P1', 2), ('CARMN', 2), ('\n",
      "39 input query terms found no hit:\t['1-Mar', 'ARNTL', 'BTBD11', 'C10orf99', 'C11orf44', 'C11orf49', 'C11orf74', 'C11orf95', 'C12orf10',\n",
      "11 input query terms found dup hits:\t[('CRIM1-DT', 3), ('CSNK1A1P1', 2), ('DENND10P1', 2), ('DLX6-AS1', 2), ('DOC2GP', 2), ('DPH6-DT', 2)\n",
      "19 input query terms found no hit:\t['CYHR1', 'DKFZP434H168', 'EEF1AKNMT', 'EFCAB1', 'ELMSAN1', 'FAM102B', 'FAM122B', 'FAM126A', 'FAM126\n",
      "7 input query terms found dup hits:\t[('FRG1BP', 2), ('GDNF-AS1', 2), ('GLRA4', 2), ('HOTTIP', 2), ('HOXD-AS2', 2), ('KLRC4-KLRK1', 2), (\n",
      "9 input query terms found no hit:\t['GATD3A', 'GBA', 'KIAA0100', 'KIAA0355', 'KIAA0556', 'KIAA1107', 'KIAA1109', 'KIAA1841', 'KIAA2026'\n",
      "18 input query terms found dup hits:\t[('LBX1-AS1', 2), ('LINC00229', 2), ('LINC00331', 2), ('LINC00332', 2), ('LINC00343', 2), ('LINC0046\n",
      "35 input query terms found no hit:\t['LINC00167', 'LINC00461', 'LINC00535', 'LINC00599', 'LINC01135', 'LINC01137', 'LINC01197', 'LINC015\n",
      "17 input query terms found dup hits:\t[('NNT-AS1', 2), ('NOP14-AS1', 2), ('NPEPPSP1', 2), ('NR2F2-AS1', 2), ('OGFRP1', 2), ('OR7E156P', 2)\n",
      "2 input query terms found no hit:\t['PER4', 'PHB']\n",
      "15 input query terms found dup hits:\t[('RNF5P1', 2), ('SEC1P', 2), ('SENP3-EIF4A1', 2), ('SFTA3', 2), ('SILC1', 2), ('SKP1P2', 2), ('SLC9\n",
      "9 input query terms found no hit:\t['RNF165', 'SLC9A3R2', 'SMIM4', 'SOGA3', 'SPATA48', 'SPATA5', 'SRP14-AS1', 'STX17-AS1', 'TARP']\n",
      "12 input query terms found dup hits:\t[('TFAP2A-AS1', 2), ('TGFB2-AS1', 2), ('TIPARP-AS1', 2), ('TMEM256-PLSCR3', 3), ('TPI1P3', 2), ('TRH\n",
      "10 input query terms found no hit:\t['THEG5', 'TIAF1', 'TMEM161B-AS1', 'TMEM189-UBE2V1', 'TMEM99', 'TTC25', 'USP27X-AS1', 'WDR92', 'ZADH\n"
     ]
    }
   ],
   "source": [
    "if NORMALIZE_GENE:\n",
    "    genetic_data = normalize_gene_symbols_in_index(genetic_data)"
   ]
  },
  {
   "cell_type": "code",
   "execution_count": 37,
   "metadata": {
    "ExecuteTime": {
     "end_time": "2024-01-02T01:03:35.158174021Z",
     "start_time": "2024-01-02T01:03:35.156777134Z"
    },
    "collapsed": false
   },
   "outputs": [],
   "source": [
    "merged_data = geo_merge_clinical_genetic_data(selected_clinical_data, genetic_data)\n",
    "# The preprocessing runs through, which means is_available should be True\n",
    "is_available = True"
   ]
  },
  {
   "cell_type": "code",
   "execution_count": 38,
   "metadata": {
    "ExecuteTime": {
     "end_time": "2024-01-02T01:03:35.158378853Z",
     "start_time": "2024-01-02T01:03:35.156895194Z"
    },
    "collapsed": false
   },
   "outputs": [
    {
     "name": "stdout",
     "output_type": "stream",
     "text": [
      "The merged dataset contains 168 samples.\n"
     ]
    }
   ],
   "source": [
    "print(f\"The merged dataset contains {len(merged_data)} samples.\")"
   ]
  },
  {
   "cell_type": "code",
   "execution_count": 39,
   "metadata": {
    "ExecuteTime": {
     "end_time": "2024-01-02T01:03:35.158646754Z",
     "start_time": "2024-01-02T01:03:35.156975304Z"
    },
    "collapsed": false
   },
   "outputs": [
    {
     "name": "stdout",
     "output_type": "stream",
     "text": [
      "For the feature 'Huntington_s-Disease', the least common label is '0.0' with 84 occurrences. This represents 50.00% of the dataset.\n",
      "The distribution of the feature 'Huntington_s-Disease' in this dataset is fine.\n",
      "\n",
      "Quartiles for 'Age':\n",
      "  25%: 3.8847222224999998\n",
      "  50% (Median): 4.25\n",
      "  75%: 4.25\n",
      "Min: 2.916666667\n",
      "Max: 6.997222222\n",
      "The distribution of the feature 'Age' in this dataset is fine.\n",
      "\n",
      "For the feature 'Gender', the least common label is '1.0' with 73 occurrences. This represents 43.45% of the dataset.\n",
      "The distribution of the feature 'Gender' in this dataset is fine.\n",
      "\n"
     ]
    },
    {
     "data": {
      "text/plain": [
       "False"
      ]
     },
     "execution_count": 39,
     "metadata": {},
     "output_type": "execute_result"
    }
   ],
   "source": [
    "is_trait_biased, merged_data = judge_and_remove_biased_features(merged_data, TRAIT, trait_type=trait_type)\n",
    "is_trait_biased"
   ]
  },
  {
   "cell_type": "code",
   "execution_count": 40,
   "metadata": {
    "ExecuteTime": {
     "end_time": "2024-01-02T01:03:35.158803015Z",
     "start_time": "2024-01-02T01:03:35.157063388Z"
    },
    "collapsed": false
   },
   "outputs": [
    {
     "name": "stdout",
     "output_type": "stream",
     "text": [
      "A new JSON file was created at: ../../output1/Yuxuan/Huntington_s-Disease/cohort_info.json\n"
     ]
    }
   ],
   "source": [
    "save_cohort_info(cohort, JSON_PATH, is_available, is_trait_biased, merged_data, note='')"
   ]
  },
  {
   "cell_type": "code",
   "execution_count": 41,
   "metadata": {
    "ExecuteTime": {
     "end_time": "2024-01-02T01:03:36.004312476Z",
     "start_time": "2024-01-02T01:03:35.157165158Z"
    },
    "collapsed": false
   },
   "outputs": [],
   "source": [
    "merged_data.head()\n",
    "if not is_trait_biased:\n",
    "    merged_data.to_csv(os.path.join(OUTPUT_DIR, cohort+'.csv'), index=False)"
   ]
  },
  {
   "cell_type": "markdown",
   "metadata": {
    "ExecuteTime": {
     "end_time": "2023-12-31T03:58:22.271683755Z",
     "start_time": "2023-12-31T03:58:22.246557674Z"
    },
    "id": "-MTPhRGxJV7I"
   },
   "source": [
    "### 3. Do regression & Cross Validation"
   ]
  },
  {
   "cell_type": "code",
   "execution_count": 42,
   "metadata": {
    "ExecuteTime": {
     "end_time": "2024-01-02T01:03:36.048788605Z",
     "start_time": "2024-01-02T01:03:36.005925887Z"
    },
    "collapsed": false
   },
   "outputs": [],
   "source": [
    "from utils import *"
   ]
  },
  {
   "cell_type": "code",
   "execution_count": 43,
   "metadata": {
    "ExecuteTime": {
     "end_time": "2024-01-02T01:03:36.049183603Z",
     "start_time": "2024-01-02T01:03:36.048440305Z"
    },
    "collapsed": false
   },
   "outputs": [
    {
     "data": {
      "text/plain": [
       "'GSE147003'"
      ]
     },
     "execution_count": 43,
     "metadata": {},
     "output_type": "execute_result"
    }
   ],
   "source": [
    "best_cohort, ranked_df = filter_and_rank_cohorts(JSON_PATH, 'has_age')\n",
    "best_cohort"
   ]
  },
  {
   "cell_type": "code",
   "execution_count": 44,
   "metadata": {
    "ExecuteTime": {
     "end_time": "2024-01-02T01:03:36.049430313Z",
     "start_time": "2024-01-02T01:03:36.048984361Z"
    },
    "collapsed": false
   },
   "outputs": [
    {
     "data": {
      "text/html": [
       "<div>\n",
       "<style scoped>\n",
       "    .dataframe tbody tr th:only-of-type {\n",
       "        vertical-align: middle;\n",
       "    }\n",
       "\n",
       "    .dataframe tbody tr th {\n",
       "        vertical-align: top;\n",
       "    }\n",
       "\n",
       "    .dataframe thead th {\n",
       "        text-align: right;\n",
       "    }\n",
       "</style>\n",
       "<table border=\"1\" class=\"dataframe\">\n",
       "  <thead>\n",
       "    <tr style=\"text-align: right;\">\n",
       "      <th></th>\n",
       "      <th>cohort_id</th>\n",
       "      <th>is_usable</th>\n",
       "      <th>is_available</th>\n",
       "      <th>is_biased</th>\n",
       "      <th>has_age</th>\n",
       "      <th>has_gender</th>\n",
       "      <th>sample_size</th>\n",
       "      <th>note</th>\n",
       "    </tr>\n",
       "  </thead>\n",
       "  <tbody>\n",
       "    <tr>\n",
       "      <th>0</th>\n",
       "      <td>GSE147003</td>\n",
       "      <td>True</td>\n",
       "      <td>True</td>\n",
       "      <td>False</td>\n",
       "      <td>True</td>\n",
       "      <td>True</td>\n",
       "      <td>168</td>\n",
       "      <td></td>\n",
       "    </tr>\n",
       "  </tbody>\n",
       "</table>\n",
       "</div>"
      ],
      "text/plain": [
       "   cohort_id  is_usable  is_available  is_biased  has_age  has_gender  \\\n",
       "0  GSE147003       True          True      False     True        True   \n",
       "\n",
       "   sample_size note  \n",
       "0          168       "
      ]
     },
     "execution_count": 44,
     "metadata": {},
     "output_type": "execute_result"
    }
   ],
   "source": [
    "ranked_df.head()"
   ]
  },
  {
   "cell_type": "code",
   "execution_count": 45,
   "metadata": {
    "ExecuteTime": {
     "end_time": "2024-01-02T01:03:36.345375576Z",
     "start_time": "2024-01-02T01:03:36.049289340Z"
    },
    "collapsed": false
   },
   "outputs": [],
   "source": [
    "ck=100\n",
    "listq=[]\n",
    "for df in pd.read_csv(os.path.join(OUTPUT_DIR, best_cohort+'.csv'),chunksize=ck):\n",
    "    listq.append(df)\n",
    "merged_data = pd.concat(listq)\n",
    "#merged_data = pd.read_csv(os.path.join(OUTPUT_DIR, best_cohort+'.csv'))"
   ]
  },
  {
   "cell_type": "code",
   "execution_count": 46,
   "metadata": {
    "ExecuteTime": {
     "end_time": "2024-01-02T01:03:36.400788548Z",
     "start_time": "2024-01-02T01:03:36.355439168Z"
    },
    "collapsed": false
   },
   "outputs": [
    {
     "data": {
      "text/html": [
       "<div>\n",
       "<style scoped>\n",
       "    .dataframe tbody tr th:only-of-type {\n",
       "        vertical-align: middle;\n",
       "    }\n",
       "\n",
       "    .dataframe tbody tr th {\n",
       "        vertical-align: top;\n",
       "    }\n",
       "\n",
       "    .dataframe thead th {\n",
       "        text-align: right;\n",
       "    }\n",
       "</style>\n",
       "<table border=\"1\" class=\"dataframe\">\n",
       "  <thead>\n",
       "    <tr style=\"text-align: right;\">\n",
       "      <th></th>\n",
       "      <th>Huntington_s-Disease</th>\n",
       "      <th>Age</th>\n",
       "      <th>Gender</th>\n",
       "      <th>A1BG</th>\n",
       "      <th>A1CF</th>\n",
       "      <th>AACS</th>\n",
       "      <th>AADAT</th>\n",
       "      <th>AAK1</th>\n",
       "      <th>AATF</th>\n",
       "      <th>ABCA1</th>\n",
       "      <th>...</th>\n",
       "      <th>ZRANB2-AS1</th>\n",
       "      <th>ZSCAN29</th>\n",
       "      <th>ZSWIM3</th>\n",
       "      <th>ZSWIM5</th>\n",
       "      <th>ZSWIM6</th>\n",
       "      <th>ZSWIM8</th>\n",
       "      <th>ZXDC</th>\n",
       "      <th>ZYG11B</th>\n",
       "      <th>ZZEF1</th>\n",
       "      <th>ZZZ3</th>\n",
       "    </tr>\n",
       "  </thead>\n",
       "  <tbody>\n",
       "    <tr>\n",
       "      <th>0</th>\n",
       "      <td>0.0</td>\n",
       "      <td>4.25</td>\n",
       "      <td>0.0</td>\n",
       "      <td>0.491806</td>\n",
       "      <td>0.899960</td>\n",
       "      <td>0.390774</td>\n",
       "      <td>0.463467</td>\n",
       "      <td>0.509208</td>\n",
       "      <td>0.917367</td>\n",
       "      <td>0.567127</td>\n",
       "      <td>...</td>\n",
       "      <td>0.602005</td>\n",
       "      <td>0.553851</td>\n",
       "      <td>0.651386</td>\n",
       "      <td>0.852842</td>\n",
       "      <td>0.804149</td>\n",
       "      <td>0.871325</td>\n",
       "      <td>0.166445</td>\n",
       "      <td>0.969788</td>\n",
       "      <td>0.940996</td>\n",
       "      <td>0.955394</td>\n",
       "    </tr>\n",
       "    <tr>\n",
       "      <th>1</th>\n",
       "      <td>1.0</td>\n",
       "      <td>4.25</td>\n",
       "      <td>0.0</td>\n",
       "      <td>0.490892</td>\n",
       "      <td>0.926637</td>\n",
       "      <td>0.408045</td>\n",
       "      <td>0.449019</td>\n",
       "      <td>0.538818</td>\n",
       "      <td>0.917649</td>\n",
       "      <td>0.566033</td>\n",
       "      <td>...</td>\n",
       "      <td>0.600293</td>\n",
       "      <td>0.561052</td>\n",
       "      <td>0.668281</td>\n",
       "      <td>0.852690</td>\n",
       "      <td>0.807688</td>\n",
       "      <td>0.878014</td>\n",
       "      <td>0.182718</td>\n",
       "      <td>0.972242</td>\n",
       "      <td>0.959748</td>\n",
       "      <td>0.956932</td>\n",
       "    </tr>\n",
       "    <tr>\n",
       "      <th>2</th>\n",
       "      <td>0.0</td>\n",
       "      <td>4.00</td>\n",
       "      <td>0.0</td>\n",
       "      <td>0.488184</td>\n",
       "      <td>0.886400</td>\n",
       "      <td>0.413423</td>\n",
       "      <td>0.461858</td>\n",
       "      <td>0.505386</td>\n",
       "      <td>0.913792</td>\n",
       "      <td>0.570111</td>\n",
       "      <td>...</td>\n",
       "      <td>0.598689</td>\n",
       "      <td>0.614170</td>\n",
       "      <td>0.663705</td>\n",
       "      <td>0.870609</td>\n",
       "      <td>0.806921</td>\n",
       "      <td>0.872751</td>\n",
       "      <td>0.152436</td>\n",
       "      <td>0.969765</td>\n",
       "      <td>0.939102</td>\n",
       "      <td>0.955801</td>\n",
       "    </tr>\n",
       "    <tr>\n",
       "      <th>3</th>\n",
       "      <td>1.0</td>\n",
       "      <td>4.25</td>\n",
       "      <td>1.0</td>\n",
       "      <td>0.499392</td>\n",
       "      <td>0.899555</td>\n",
       "      <td>0.390452</td>\n",
       "      <td>0.492872</td>\n",
       "      <td>0.513660</td>\n",
       "      <td>0.923118</td>\n",
       "      <td>0.572922</td>\n",
       "      <td>...</td>\n",
       "      <td>0.600632</td>\n",
       "      <td>0.336855</td>\n",
       "      <td>0.657022</td>\n",
       "      <td>0.869947</td>\n",
       "      <td>0.800576</td>\n",
       "      <td>0.871670</td>\n",
       "      <td>0.136181</td>\n",
       "      <td>0.971740</td>\n",
       "      <td>0.940295</td>\n",
       "      <td>0.951921</td>\n",
       "    </tr>\n",
       "    <tr>\n",
       "      <th>4</th>\n",
       "      <td>0.0</td>\n",
       "      <td>4.25</td>\n",
       "      <td>0.0</td>\n",
       "      <td>0.489025</td>\n",
       "      <td>0.903611</td>\n",
       "      <td>0.398884</td>\n",
       "      <td>0.456250</td>\n",
       "      <td>0.494501</td>\n",
       "      <td>0.927517</td>\n",
       "      <td>0.573857</td>\n",
       "      <td>...</td>\n",
       "      <td>0.593588</td>\n",
       "      <td>0.458641</td>\n",
       "      <td>0.658684</td>\n",
       "      <td>0.850950</td>\n",
       "      <td>0.806299</td>\n",
       "      <td>0.884765</td>\n",
       "      <td>0.147802</td>\n",
       "      <td>0.972008</td>\n",
       "      <td>0.949340</td>\n",
       "      <td>0.955066</td>\n",
       "    </tr>\n",
       "  </tbody>\n",
       "</table>\n",
       "<p>5 rows × 6751 columns</p>\n",
       "</div>"
      ],
      "text/plain": [
       "   Huntington_s-Disease   Age  Gender      A1BG      A1CF      AACS     AADAT  \\\n",
       "0                   0.0  4.25     0.0  0.491806  0.899960  0.390774  0.463467   \n",
       "1                   1.0  4.25     0.0  0.490892  0.926637  0.408045  0.449019   \n",
       "2                   0.0  4.00     0.0  0.488184  0.886400  0.413423  0.461858   \n",
       "3                   1.0  4.25     1.0  0.499392  0.899555  0.390452  0.492872   \n",
       "4                   0.0  4.25     0.0  0.489025  0.903611  0.398884  0.456250   \n",
       "\n",
       "       AAK1      AATF     ABCA1  ...  ZRANB2-AS1   ZSCAN29    ZSWIM3  \\\n",
       "0  0.509208  0.917367  0.567127  ...    0.602005  0.553851  0.651386   \n",
       "1  0.538818  0.917649  0.566033  ...    0.600293  0.561052  0.668281   \n",
       "2  0.505386  0.913792  0.570111  ...    0.598689  0.614170  0.663705   \n",
       "3  0.513660  0.923118  0.572922  ...    0.600632  0.336855  0.657022   \n",
       "4  0.494501  0.927517  0.573857  ...    0.593588  0.458641  0.658684   \n",
       "\n",
       "     ZSWIM5    ZSWIM6    ZSWIM8      ZXDC    ZYG11B     ZZEF1      ZZZ3  \n",
       "0  0.852842  0.804149  0.871325  0.166445  0.969788  0.940996  0.955394  \n",
       "1  0.852690  0.807688  0.878014  0.182718  0.972242  0.959748  0.956932  \n",
       "2  0.870609  0.806921  0.872751  0.152436  0.969765  0.939102  0.955801  \n",
       "3  0.869947  0.800576  0.871670  0.136181  0.971740  0.940295  0.951921  \n",
       "4  0.850950  0.806299  0.884765  0.147802  0.972008  0.949340  0.955066  \n",
       "\n",
       "[5 rows x 6751 columns]"
      ]
     },
     "execution_count": 46,
     "metadata": {},
     "output_type": "execute_result"
    }
   ],
   "source": [
    "merged_data.head()"
   ]
  },
  {
   "cell_type": "code",
   "execution_count": 47,
   "metadata": {
    "ExecuteTime": {
     "end_time": "2024-01-02T01:03:36.401002087Z",
     "start_time": "2024-01-02T01:03:36.400659608Z"
    },
    "collapsed": false
   },
   "outputs": [],
   "source": [
    "# If both age and gender features are available, select 'age' as the condition.\n",
    "condition = 'Age'\n",
    "# Remove the other condition to prevent interference.\n",
    "merged_data = merged_data.drop(columns=['Gender'], errors='ignore').astype('float')"
   ]
  },
  {
   "cell_type": "code",
   "execution_count": 48,
   "metadata": {
    "ExecuteTime": {
     "end_time": "2024-01-02T01:03:36.403035823Z",
     "start_time": "2024-01-02T01:03:36.401081946Z"
    },
    "collapsed": false
   },
   "outputs": [],
   "source": [
    "X = merged_data.drop(columns=[TRAIT, condition]).values\n",
    "Y = merged_data[TRAIT].values\n",
    "Z = merged_data[condition].values"
   ]
  },
  {
   "cell_type": "markdown",
   "metadata": {
    "collapsed": false
   },
   "source": [
    "Select the appropriate regression model depending on whether the dataset shows batch effect."
   ]
  },
  {
   "cell_type": "code",
   "execution_count": 49,
   "metadata": {
    "ExecuteTime": {
     "end_time": "2024-01-02T01:03:36.403263628Z",
     "start_time": "2024-01-02T01:03:36.401336170Z"
    },
    "collapsed": false
   },
   "outputs": [
    {
     "data": {
      "text/plain": [
       "True"
      ]
     },
     "execution_count": 49,
     "metadata": {},
     "output_type": "execute_result"
    }
   ],
   "source": [
    "has_batch_effect = detect_batch_effect(X)\n",
    "has_batch_effect"
   ]
  },
  {
   "cell_type": "code",
   "execution_count": 50,
   "metadata": {
    "ExecuteTime": {
     "end_time": "2024-01-02T01:03:36.475053437Z",
     "start_time": "2024-01-02T01:03:36.444397231Z"
    },
    "collapsed": false
   },
   "outputs": [],
   "source": [
    "\n",
    "if has_batch_effect:\n",
    "    model_constructor1 = VariableSelection\n",
    "    model_params1 = {'modified': True, 'lamda': 3e-4}\n",
    "    model_constructor2 = VariableSelection\n",
    "    model_params2 = {'modified': False}\n",
    "else:\n",
    "    model_constructor1 = Lasso\n",
    "    model_params1 = {'alpha': 1.0, 'random_state': 42}\n",
    "    model_constructor2 = VariableSelection\n",
    "    model_params2 = {'modified': False}"
   ]
  },
  {
   "cell_type": "code",
   "execution_count": 51,
   "metadata": {
    "ExecuteTime": {
     "end_time": "2024-01-02T01:03:50.733335364Z",
     "start_time": "2024-01-02T01:03:36.444563711Z"
    },
    "collapsed": false
   },
   "outputs": [
    {
     "name": "stdout",
     "output_type": "stream",
     "text": [
      "alpha for Lasso: 0.0003\n",
      "alpha for Lasso: 0.0003\n",
      "alpha for Lasso: 0.0003\n",
      "alpha for Lasso: 0.0003\n",
      "alpha for Lasso: 0.0003\n",
      "The cross-validation accuracy is 51.52% ± 5.75%\n"
     ]
    }
   ],
   "source": [
    "trait_type = 'binary'  # Remember to set this properly, either 'binary' or 'continuous'\n",
    "cv_mean1, cv_std1 = cross_validation(X, Y, Z, model_constructor1, model_params1, target_type=trait_type)"
   ]
  },
  {
   "cell_type": "code",
   "execution_count": 52,
   "metadata": {},
   "outputs": [
    {
     "name": "stdout",
     "output_type": "stream",
     "text": [
      "The cross-validation accuracy is 62.42% ± 6.80%\n"
     ]
    }
   ],
   "source": [
    "cv_mean2, cv_std2 = cross_validation(X, Y, Z, model_constructor2, model_params2, target_type=trait_type)"
   ]
  },
  {
   "cell_type": "code",
   "execution_count": 53,
   "metadata": {
    "ExecuteTime": {
     "end_time": "2024-01-02T01:03:53.587340410Z",
     "start_time": "2024-01-02T01:03:50.732779025Z"
    },
    "collapsed": false
   },
   "outputs": [
    {
     "name": "stdout",
     "output_type": "stream",
     "text": [
      "alpha for Lasso: 0.0003\n"
     ]
    }
   ],
   "source": [
    "normalized_X, _ = normalize_data(X)\n",
    "normalized_Z, _ = normalize_data(Z)\n",
    "\n",
    "# Train regression model on the whole dataset to identify significant genes\n",
    "model1 = ResidualizationRegressor(model_constructor1, model_params1)\n",
    "model1.fit(normalized_X, Y, normalized_Z)\n",
    "\n",
    "model2 = ResidualizationRegressor(model_constructor2, model_params2)\n",
    "model2.fit(normalized_X, Y, normalized_Z)"
   ]
  },
  {
   "cell_type": "markdown",
   "metadata": {
    "ExecuteTime": {
     "end_time": "2023-10-14T04:50:59.072075075Z",
     "start_time": "2023-10-14T04:50:38.739499998Z"
    },
    "id": "EjJrxbvb4nlj"
   },
   "source": [
    "### 5. Discussion and report"
   ]
  },
  {
   "cell_type": "code",
   "execution_count": 54,
   "metadata": {
    "ExecuteTime": {
     "end_time": "2024-01-02T01:03:53.641570844Z",
     "start_time": "2024-01-02T01:03:53.627778553Z"
    },
    "collapsed": false
   },
   "outputs": [
    {
     "name": "stdout",
     "output_type": "stream",
     "text": [
      "Effect of the condition on the target variable:\n",
      "Variable: Age\n",
      "Coefficient: -0.0085\n",
      "Found 125 genes with non-zero coefficients associated with the trait 'Huntington_s-Disease' conditional on the factor 'Age'. These genes are identified as significant based on the regression model.\n",
      " Variable  Coefficient  Absolute Coefficient\n",
      "LINC01432    -5.859059              5.859059\n",
      "     NEXN    -4.003604              4.003604\n",
      "   TRIM39     3.943742              3.943742\n",
      "    MSRB2    -3.918954              3.918954\n",
      "  MIR5093     3.482877              3.482877\n",
      "   TM7SF3    -3.211433              3.211433\n",
      "    POLG2     3.176632              3.176632\n",
      "    RIMS3    -2.977018              2.977018\n",
      "LINC00210     2.432505              2.432505\n",
      "  TSPAN15    -2.300655              2.300655\n",
      "     ADAR    -2.224646              2.224646\n",
      "     GOT1    -2.168314              2.168314\n",
      "     PTH2    -2.162107              2.162107\n",
      "     EDN1     2.155098              2.155098\n",
      "     PRCC    -2.148877              2.148877\n",
      "IL21R-AS1     2.120714              2.120714\n",
      "  SULT6B1    -2.054081              2.054081\n",
      "    MAPK4     1.896182              1.896182\n",
      "  DEFB127    -1.860104              1.860104\n",
      "      PXK    -1.797536              1.797536\n",
      "   NMNAT2     1.793581              1.793581\n",
      "     IL37    -1.771863              1.771863\n",
      "  MIR1306     1.738973              1.738973\n",
      "LOC728739    -1.717873              1.717873\n",
      "     EDN2    -1.715414              1.715414\n",
      "   MIR299     1.713723              1.713723\n",
      "    FOXJ1     1.663167              1.663167\n",
      "    WIPI2     1.657601              1.657601\n",
      "    IFFO1    -1.630871              1.630871\n",
      "   VPS37D    -1.630830              1.630830\n",
      "   GRIN2C     1.629611              1.629611\n",
      "    NAT8L    -1.620390              1.620390\n",
      "   ATP8B2    -1.529951              1.529951\n",
      "     CDK5    -1.518551              1.518551\n",
      " C12orf75    -1.482220              1.482220\n",
      "   KCNAB3    -1.469444              1.469444\n",
      "      CD4    -1.464587              1.464587\n",
      "    TRPC5     1.410882              1.410882\n",
      "    CXCR5    -1.403135              1.403135\n",
      "   COL4A1    -1.388593              1.388593\n",
      "    PYURF    -1.358112              1.358112\n",
      "    KLK11     1.289233              1.289233\n",
      "  ZFYVE28     1.279680              1.279680\n",
      "     WDR4     1.243221              1.243221\n",
      "    GRHPR    -1.228329              1.228329\n",
      " TNFRSF19    -1.197157              1.197157\n",
      "    PCBP2    -1.120195              1.120195\n",
      "    MATN3     1.072468              1.072468\n",
      "   TAS1R2    -1.063986              1.063986\n",
      "     ZPR1    -1.011770              1.011770\n",
      "    MED10    -1.007454              1.007454\n",
      "      SST     0.972413              0.972413\n",
      "   KBTBD8    -0.950258              0.950258\n",
      "     DPH1    -0.950133              0.950133\n",
      "     TLN1    -0.922909              0.922909\n",
      "    HOXC6     0.907139              0.907139\n",
      "     FAN1    -0.863174              0.863174\n",
      "    SMAP2     0.843544              0.843544\n",
      "    RRBP1     0.842797              0.842797\n",
      "   MGAT4B    -0.817717              0.817717\n",
      "  MIR548X     0.801212              0.801212\n",
      "    CAB39    -0.783763              0.783763\n",
      "   IFT122    -0.774806              0.774806\n",
      "   PDGFRB    -0.763459              0.763459\n",
      "  ZC3H11A     0.759308              0.759308\n",
      "    MTSS2    -0.754848              0.754848\n",
      "      SHF     0.752238              0.752238\n",
      "   POLR3K     0.751269              0.751269\n",
      "     CLUH    -0.713178              0.713178\n",
      "   ZNF185     0.672761              0.672761\n",
      "   TSPAN4    -0.629236              0.629236\n",
      "    LMAN1     0.622482              0.622482\n",
      "    GCNT2     0.617852              0.617852\n",
      "  ABHD14B    -0.598165              0.598165\n",
      "     GRM3    -0.594666              0.594666\n",
      "     CBX7    -0.591651              0.591651\n",
      "    GADL1    -0.574196              0.574196\n",
      "    FLOT1    -0.553282              0.553282\n",
      "LINC01132     0.552648              0.552648\n",
      "   SPACA6     0.531766              0.531766\n",
      "    PPIL6     0.522751              0.522751\n",
      "   AHCTF1     0.522600              0.522600\n",
      " SLC22A13    -0.477691              0.477691\n",
      "    ADTRP     0.473438              0.473438\n",
      "  SLC16A2     0.470256              0.470256\n",
      " RNU6-16P    -0.456073              0.456073\n",
      "     EMX1    -0.433719              0.433719\n",
      "     BIN1    -0.427643              0.427643\n",
      "     SNX4    -0.370026              0.370026\n",
      "    KCNS1    -0.360774              0.360774\n",
      "     DRD2    -0.354783              0.354783\n",
      "   DUOXA1     0.331272              0.331272\n",
      "    MYH7B     0.312258              0.312258\n",
      "   WDSUB1     0.297604              0.297604\n",
      "     TBCD    -0.286290              0.286290\n",
      "    TBX21     0.260283              0.260283\n",
      "    ARL4D    -0.231680              0.231680\n",
      "    TPBGL     0.213154              0.213154\n",
      "   ATP8A2    -0.207479              0.207479\n",
      "     FDX1    -0.206306              0.206306\n",
      " ARHGAP44    -0.194569              0.194569\n",
      "  ZNF385A    -0.184063              0.184063\n",
      "     TGM4    -0.177831              0.177831\n",
      "    MMP17    -0.176262              0.176262\n",
      "    HSPH1     0.173443              0.173443\n",
      "    CHRM1    -0.166986              0.166986\n",
      "     SELP    -0.157587              0.157587\n",
      " ARHGAP22    -0.154905              0.154905\n",
      "  RTN4RL1    -0.152015              0.152015\n",
      "  GORASP2    -0.143560              0.143560\n",
      "LINC02120     0.142339              0.142339\n",
      "    MAST3    -0.130660              0.130660\n",
      "     JAG2     0.123671              0.123671\n",
      "    LMOD1     0.116929              0.116929\n",
      "   OGFRP1    -0.091565              0.091565\n",
      "  MIR135B     0.088876              0.088876\n",
      "     USB1    -0.076961              0.076961\n",
      "      VGF    -0.070410              0.070410\n",
      "     LRP5     0.056247              0.056247\n",
      " HSP90AB1    -0.047433              0.047433\n",
      "     OXTR    -0.041794              0.041794\n",
      " MIR219A2    -0.037271              0.037271\n",
      "     NAT1    -0.034942              0.034942\n",
      " TBC1D22A     0.027730              0.027730\n",
      "    PTPN7    -0.025992              0.025992\n"
     ]
    },
    {
     "name": "stderr",
     "output_type": "stream",
     "text": [
      "/home/yxcheng/AI4Science_gold_standard/stage1/YIjiang/../utils.py:469: SettingWithCopyWarning: \n",
      "A value is trying to be set on a copy of a slice from a DataFrame.\n",
      "Try using .loc[row_indexer,col_indexer] = value instead\n",
      "\n",
      "See the caveats in the documentation: https://pandas.pydata.org/pandas-docs/stable/user_guide/indexing.html#returning-a-view-versus-a-copy\n",
      "  gene_regression_df['Absolute Coefficient'] = gene_regression_df['Coefficient'].abs()\n"
     ]
    }
   ],
   "source": [
    "\n",
    "feature_cols = merged_data.columns.tolist()\n",
    "feature_cols.remove(TRAIT)\n",
    "\n",
    "threshold = 0.05\n",
    "interpret_result(model1, feature_cols, TRAIT, condition, threshold=threshold, save_output=True,\n",
    "                 output_dir=OUTPUT_DIR, model_id=1)"
   ]
  },
  {
   "cell_type": "code",
   "execution_count": 55,
   "metadata": {
    "collapsed": false
   },
   "outputs": [
    {
     "name": "stdout",
     "output_type": "stream",
     "text": [
      "Effect of the condition on the target variable:\n",
      "Variable: Age\n",
      "Coefficient: -0.0085\n",
      "Found 2 significant genes associated with the trait 'Huntington_s-Disease' conditional on the factor 'Age', with corrected p-value < 0.05:\n",
      "Variable  Coefficient      p_value  corrected_p_value\n",
      "     HTT     0.473079 6.638323e-79       4.479540e-75\n",
      "    FLT1    -0.245933 5.910260e-12       1.994122e-08\n"
     ]
    },
    {
     "name": "stderr",
     "output_type": "stream",
     "text": [
      "/home/yxcheng/AI4Science_gold_standard/stage1/YIjiang/../utils.py:478: SettingWithCopyWarning: \n",
      "A value is trying to be set on a copy of a slice from a DataFrame.\n",
      "Try using .loc[row_indexer,col_indexer] = value instead\n",
      "\n",
      "See the caveats in the documentation: https://pandas.pydata.org/pandas-docs/stable/user_guide/indexing.html#returning-a-view-versus-a-copy\n",
      "  gene_regression_df.loc[:, 'corrected_p_value'] = corrected_p_values\n"
     ]
    }
   ],
   "source": [
    "interpret_result(model2, feature_cols, TRAIT, condition, threshold=threshold, save_output=True,\n",
    "                 output_dir=OUTPUT_DIR, model_id=2)"
   ]
  }
 ],
 "metadata": {
  "colab": {
   "provenance": []
  },
  "kernelspec": {
   "display_name": "Python 3 (ipykernel)",
   "language": "python",
   "name": "python3"
  },
  "language_info": {
   "codemirror_mode": {
    "name": "ipython",
    "version": 3
   },
   "file_extension": ".py",
   "mimetype": "text/x-python",
   "name": "python",
   "nbconvert_exporter": "python",
   "pygments_lexer": "ipython3",
   "version": "3.10.13"
  }
 },
 "nbformat": 4,
 "nbformat_minor": 0
}
