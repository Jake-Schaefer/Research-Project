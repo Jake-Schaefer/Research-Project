{
 "nbformat": 4,
 "nbformat_minor": 0,
 "metadata": {
  "colab": {
   "provenance": []
  },
  "kernelspec": {
   "name": "python3",
   "language": "python",
   "display_name": "Python 3 (ipykernel)"
  },
  "language_info": {
   "name": "python"
  }
 },
 "cells": [
  {
   "cell_type": "markdown",
   "source": [
    "# Gold standard curation: Preprocessing and single-step regression"
   ],
   "metadata": {
    "collapsed": false
   }
  },
  {
   "cell_type": "markdown",
   "source": [
    "In this stage of gold standard curation, we will do the data preprocessing, selection, and single-step regression for the 153 traits in our question set. The workflow consists of the following steps:\n",
    "\n",
    "1. Preprocess all the cohorts related to this trait. Each cohort should be converted to a tabular form and saved to a csv file, with columns being genetic factors, the trait, and age, gender if available;\n",
    "2. If there exists at least one cohort with age or gender information, conduct regression analysis with genetic features together with age or gender as the regressors.\n"
   ],
   "metadata": {
    "collapsed": false
   }
  },
  {
   "cell_type": "markdown",
   "source": [
    "# 1. Basic setup"
   ],
   "metadata": {
    "collapsed": false
   }
  },
  {
   "cell_type": "code",
   "execution_count": 1,
   "outputs": [],
   "source": [
    "import os\n",
    "import sys\n",
    "\n",
    "sys.path.append('..')\n",
    "from utils import *\n",
    "\n",
    "# Set your preferred name\n",
    "USER = \"Haoyang\"\n",
    "# Set the data and output directories\n",
    "DATA_ROOT = '/media/techt/DATA'\n",
    "OUTPUT_ROOT = '../../output1'\n",
    "TRAIT = 'Epilepsy'\n",
    "\n",
    "OUTPUT_DIR = os.path.join(OUTPUT_ROOT, USER, '-'.join(TRAIT.split()))\n",
    "JSON_PATH = os.path.join(OUTPUT_DIR, \"cohort_info.json\")\n",
    "if not os.path.exists(OUTPUT_DIR):\n",
    "    os.makedirs(OUTPUT_DIR, exist_ok=True)\n",
    "\n",
    "# Gene symbol normalization may take 1-2 minutes. You may set it to False for debugging.\n",
    "NORMALIZE_GENE = True"
   ],
   "metadata": {
    "collapsed": false,
    "ExecuteTime": {
     "end_time": "2024-01-10T05:26:33.956155494Z",
     "start_time": "2024-01-10T05:26:33.300747191Z"
    }
   }
  },
  {
   "cell_type": "code",
   "execution_count": 2,
   "metadata": {
    "colab": {
     "base_uri": "https://localhost:8080/"
    },
    "id": "jMTdsU43vVg3",
    "outputId": "38886111-f442-44b4-8398-96bf384d7abd",
    "ExecuteTime": {
     "end_time": "2024-01-10T05:26:33.962063891Z",
     "start_time": "2024-01-10T05:26:33.958972073Z"
    }
   },
   "outputs": [
    {
     "data": {
      "text/plain": "\"import os\\nfrom google.colab import drive\\n\\ndrive.mount('/content/drive', force_remount=True)\\nproj_dir = '/content/drive/MyDrive/AI4Science_Public'\\nos.chdir(proj_dir)\""
     },
     "execution_count": 2,
     "metadata": {},
     "output_type": "execute_result"
    }
   ],
   "source": [
    "# This cell is only for use on Google Colab. Skip it if you run your code in other environments\n",
    "\n",
    "\"\"\"import os\n",
    "from google.colab import drive\n",
    "\n",
    "drive.mount('/content/drive', force_remount=True)\n",
    "proj_dir = '/content/drive/MyDrive/AI4Science_Public'\n",
    "os.chdir(proj_dir)\"\"\""
   ]
  },
  {
   "cell_type": "markdown",
   "source": [
    "# 2. Data preprocessing and selection"
   ],
   "metadata": {
    "collapsed": false
   }
  },
  {
   "cell_type": "markdown",
   "source": [
    "## 2.1. The TCGA Xena dataset"
   ],
   "metadata": {
    "collapsed": false
   }
  },
  {
   "cell_type": "markdown",
   "source": [
    "In TCGA Xena, there is either zero or one cohort related to the trait. We search the names of subdirectories to see if any matches the trait. If a match is found, we directly obtain the file paths."
   ],
   "metadata": {
    "collapsed": false
   }
  },
  {
   "cell_type": "code",
   "execution_count": 3,
   "outputs": [
    {
     "data": {
      "text/plain": "['TCGA_Lower_Grade_Glioma_(LGG)',\n 'TCGA_lower_grade_glioma_and_glioblastoma_(GBMLGG)',\n 'TCGA_Lung_Adenocarcinoma_(LUAD)',\n 'TCGA_Lung_Cancer_(LUNG)',\n 'TCGA_Lung_Squamous_Cell_Carcinoma_(LUSC)',\n 'TCGA_Melanoma_(SKCM)',\n 'TCGA_Mesothelioma_(MESO)',\n 'TCGA_Ocular_melanomas_(UVM)',\n 'TCGA_Ovarian_Cancer_(OV)',\n 'TCGA_Pancreatic_Cancer_(PAAD)']"
     },
     "execution_count": 3,
     "metadata": {},
     "output_type": "execute_result"
    }
   ],
   "source": [
    "dataset = 'TCGA'\n",
    "dataset_dir = os.path.join(DATA_ROOT, dataset)\n",
    "os.listdir(dataset_dir)[:10]"
   ],
   "metadata": {
    "collapsed": false,
    "ExecuteTime": {
     "end_time": "2024-01-10T05:26:35.644220423Z",
     "start_time": "2024-01-10T05:26:35.627681459Z"
    }
   }
  },
  {
   "cell_type": "markdown",
   "source": [
    "If no match is found, jump directly to GEO in Part 2.2"
   ],
   "metadata": {
    "collapsed": false
   }
  },
  {
   "cell_type": "code",
   "execution_count": null,
   "outputs": [],
   "source": [
    "trait_subdir = None\n",
    "cohort = 'Xena'\n",
    "# All the cancer traits in Xena are binary\n",
    "trait_type = 'binary'\n",
    "# Once a relevant cohort is found in Xena, we can generally assume the gene and clinical data are available\n",
    "is_available = True\n",
    "\n",
    "clinical_data_file = os.path.join(dataset_dir, trait_subdir, 'TCGA.BRCA.sampleMap_BRCA_clinicalMatrix')\n",
    "genetic_data_file = os.path.join(dataset_dir, trait_subdir, 'TCGA.BRCA.sampleMap_HiSeqV2_PANCAN.gz')"
   ],
   "metadata": {
    "collapsed": false
   }
  },
  {
   "cell_type": "code",
   "source": [
    "import pandas as pd\n",
    "\n",
    "clinical_data = pd.read_csv(clinical_data_file, sep='\\t', index_col=0)\n",
    "genetic_data = pd.read_csv(genetic_data_file, compression='gzip', sep='\\t', index_col=0)\n",
    "age_col = gender_col = None"
   ],
   "metadata": {
    "id": "MudwB-_iz7sc"
   },
   "execution_count": null,
   "outputs": []
  },
  {
   "cell_type": "code",
   "execution_count": null,
   "outputs": [],
   "source": [
    "_, clinical_data_cols = check_rows_and_columns(clinical_data)\n",
    "clinical_data_cols[:10]"
   ],
   "metadata": {
    "collapsed": false
   }
  },
  {
   "cell_type": "markdown",
   "source": [
    "Read all the column names in the clinical dataset, to find the columns that record information about age or gender.\n",
    "Reference prompt:"
   ],
   "metadata": {
    "collapsed": false,
    "ExecuteTime": {
     "end_time": "2023-12-28T20:20:11.841042813Z",
     "start_time": "2023-12-28T20:20:11.834458206Z"
    }
   },
   "outputs": [
    {
     "data": {
      "text/plain": "['AJCC_Stage_nature2012',\n 'Age_at_Initial_Pathologic_Diagnosis_nature2012',\n 'CN_Clusters_nature2012',\n 'Converted_Stage_nature2012',\n 'Days_to_Date_of_Last_Contact_nature2012',\n 'Days_to_date_of_Death_nature2012',\n 'ER_Status_nature2012',\n 'Gender_nature2012',\n 'HER2_Final_Status_nature2012',\n 'Integrated_Clusters_no_exp__nature2012',\n 'Integrated_Clusters_unsup_exp__nature2012',\n 'Integrated_Clusters_with_PAM50__nature2012',\n 'Metastasis_Coded_nature2012',\n 'Metastasis_nature2012',\n 'Node_Coded_nature2012',\n 'Node_nature2012',\n 'OS_Time_nature2012',\n 'OS_event_nature2012',\n 'PAM50Call_RNAseq',\n 'PAM50_mRNA_nature2012',\n 'PR_Status_nature2012',\n 'RPPA_Clusters_nature2012',\n 'SigClust_Intrinsic_mRNA_nature2012',\n 'SigClust_Unsupervised_mRNA_nature2012',\n 'Survival_Data_Form_nature2012',\n 'Tumor_T1_Coded_nature2012',\n 'Tumor_nature2012',\n 'Vital_Status_nature2012',\n '_INTEGRATION',\n '_PANCAN_CNA_PANCAN_K8',\n '_PANCAN_Cluster_Cluster_PANCAN',\n '_PANCAN_DNAMethyl_BRCA',\n '_PANCAN_DNAMethyl_PANCAN',\n '_PANCAN_RPPA_PANCAN_K8',\n '_PANCAN_UNC_RNAseq_PANCAN_K16',\n '_PANCAN_miRNA_PANCAN',\n '_PANCAN_mirna_BRCA',\n '_PANCAN_mutation_PANCAN',\n '_PATIENT',\n '_cohort',\n '_primary_disease',\n '_primary_site',\n 'additional_pharmaceutical_therapy',\n 'additional_radiation_therapy',\n 'additional_surgery_locoregional_procedure',\n 'additional_surgery_metastatic_procedure',\n 'age_at_initial_pathologic_diagnosis',\n 'anatomic_neoplasm_subdivision',\n 'axillary_lymph_node_stage_method_type',\n 'axillary_lymph_node_stage_other_method_descriptive_text',\n 'bcr_followup_barcode',\n 'bcr_patient_barcode',\n 'bcr_sample_barcode',\n 'breast_cancer_surgery_margin_status',\n 'breast_carcinoma_estrogen_receptor_status',\n 'breast_carcinoma_immunohistochemistry_er_pos_finding_scale',\n 'breast_carcinoma_immunohistochemistry_pos_cell_score',\n 'breast_carcinoma_immunohistochemistry_prgstrn_rcptr_ps_fndng_scl',\n 'breast_carcinoma_primary_surgical_procedure_name',\n 'breast_carcinoma_progesterone_receptor_status',\n 'breast_carcinoma_surgical_procedure_name',\n 'breast_neoplasm_other_surgical_procedure_descriptive_text',\n 'cytokeratin_immunohistochemistry_staining_method_mcrmtstss_ndctr',\n 'days_to_additional_surgery_locoregional_procedure',\n 'days_to_additional_surgery_metastatic_procedure',\n 'days_to_birth',\n 'days_to_collection',\n 'days_to_death',\n 'days_to_initial_pathologic_diagnosis',\n 'days_to_last_followup',\n 'days_to_last_known_alive',\n 'days_to_new_tumor_event_additional_surgery_procedure',\n 'days_to_new_tumor_event_after_initial_treatment',\n 'disease_code',\n 'distant_metastasis_present_ind2',\n 'er_detection_method_text',\n 'er_level_cell_percentage_category',\n 'fluorescence_in_st_hybrdztn_dgnstc_prcdr_chrmsm_17_sgnl_rslt_rng',\n 'followup_case_report_form_submission_reason',\n 'form_completion_date',\n 'gender',\n 'her2_and_centromere_17_positive_finding_other_measuremnt_scl_txt',\n 'her2_erbb_method_calculation_method_text',\n 'her2_erbb_pos_finding_cell_percent_category',\n 'her2_erbb_pos_finding_fluorescence_n_st_hybrdztn_clcltn_mthd_txt',\n 'her2_immunohistochemistry_level_result',\n 'her2_neu_and_centromere_17_copy_number_analysis_npt_ttl_nmbr_cnt',\n 'her2_neu_breast_carcinoma_copy_analysis_input_total_number',\n 'her2_neu_chromosone_17_signal_ratio_value',\n 'her2_neu_metastatic_breast_carcinoma_copy_analysis_inpt_ttl_nmbr',\n 'histological_type',\n 'histological_type_other',\n 'history_of_neoadjuvant_treatment',\n 'hr2_n_nd_cntrmr_17_cpy_nmbr_mtsttc_brst_crcnm_nlyss_npt_ttl_nmbr',\n 'icd_10',\n 'icd_o_3_histology',\n 'icd_o_3_site',\n 'immunohistochemistry_positive_cell_score',\n 'informed_consent_verified',\n 'init_pathology_dx_method_other',\n 'initial_pathologic_diagnosis_method',\n 'initial_weight',\n 'is_ffpe',\n 'lab_proc_her2_neu_immunohistochemistry_receptor_status',\n 'lab_procedure_her2_neu_in_situ_hybrid_outcome_type',\n 'lost_follow_up',\n 'lymph_node_examined_count',\n 'margin_status',\n 'menopause_status',\n 'metastatic_breast_carcinm_ps_fndng_prgstrn_rcptr_thr_msr_scl_txt',\n 'metastatic_breast_carcinom_lb_prc_hr2_n_mmnhstchmstry_rcptr_stts',\n 'metastatic_breast_carcinoma_erbb2_immunohistochemistry_levl_rslt',\n 'metastatic_breast_carcinoma_estrogen_receptor_detection_mthd_txt',\n 'metastatic_breast_carcinoma_estrogen_receptor_status',\n 'metastatic_breast_carcinoma_estrogen_receptr_lvl_cll_prcnt_ctgry',\n 'metastatic_breast_carcinoma_her2_erbb_method_calculatin_mthd_txt',\n 'metastatic_breast_carcinoma_her2_erbb_pos_findng_cll_prcnt_ctgry',\n 'metastatic_breast_carcinoma_her2_neu_chromosone_17_signal_rat_vl',\n 'metastatic_breast_carcinoma_immunhstchmstry_r_pstv_fndng_scl_typ',\n 'metastatic_breast_carcinoma_immunohistochemistry_er_pos_cell_scr',\n 'metastatic_breast_carcinoma_immunohistochemistry_pr_pos_cell_scr',\n 'metastatic_breast_carcinoma_lab_proc_hr2_n_n_st_hybrdztn_tcm_typ',\n 'metastatic_breast_carcinoma_pos_finding_hr2_rbb2_thr_msr_scl_txt',\n 'metastatic_breast_carcinoma_progestern_rcptr_lvl_cll_prcnt_ctgry',\n 'metastatic_breast_carcinoma_progesterone_receptor_dtctn_mthd_txt',\n 'metastatic_breast_carcinoma_progesterone_receptor_status',\n 'metastatic_site_at_diagnosis',\n 'metastatic_site_at_diagnosis_other',\n 'methylation_Clusters_nature2012',\n 'miRNA_Clusters_nature2012',\n 'mtsttc_brst_crcnm_flrscnc_n_st_hybrdztn_dgnstc_prc_cntrmr_17_sgn',\n 'mtsttc_brst_crcnm_hr2_rbb_ps_fndng_flrscnc_n_st_hybrdztn_clcltn',\n 'mtsttc_brst_crcnm_mmnhstchmstry_prgstrn_rcptr_pstv_fndng_scl_typ',\n 'new_neoplasm_event_occurrence_anatomic_site',\n 'new_neoplasm_event_type',\n 'new_neoplasm_occurrence_anatomic_site_text',\n 'new_tumor_event_additional_surgery_procedure',\n 'new_tumor_event_after_initial_treatment',\n 'number_of_lymphnodes_positive_by_he',\n 'number_of_lymphnodes_positive_by_ihc',\n 'oct_embedded',\n 'other_dx',\n 'pathologic_M',\n 'pathologic_N',\n 'pathologic_T',\n 'pathologic_stage',\n 'pathology_report_file_name',\n 'patient_id',\n 'person_neoplasm_cancer_status',\n 'pgr_detection_method_text',\n 'pos_finding_her2_erbb2_other_measurement_scale_text',\n 'pos_finding_metastatic_brst_crcnm_strgn_rcptr_thr_msrmnt_scl_txt',\n 'pos_finding_progesterone_receptor_other_measurement_scale_text',\n 'positive_finding_estrogen_receptor_other_measurement_scale_text',\n 'postoperative_rx_tx',\n 'primary_lymph_node_presentation_assessment',\n 'progesterone_receptor_level_cell_percent_category',\n 'project_code',\n 'radiation_therapy',\n 'sample_type',\n 'sample_type_id',\n 'surgical_procedure_purpose_other_text',\n 'system_version',\n 'targeted_molecular_therapy',\n 'tissue_prospective_collection_indicator',\n 'tissue_retrospective_collection_indicator',\n 'tissue_source_site',\n 'tumor_tissue_site',\n 'vial_number',\n 'vital_status',\n 'year_of_initial_pathologic_diagnosis',\n '_GENOMIC_ID_TCGA_BRCA_exp_HiSeqV2_exon',\n '_GENOMIC_ID_TCGA_BRCA_exp_HiSeqV2_PANCAN',\n '_GENOMIC_ID_TCGA_BRCA_RPPA_RBN',\n '_GENOMIC_ID_TCGA_BRCA_mutation',\n '_GENOMIC_ID_TCGA_BRCA_PDMRNAseq',\n '_GENOMIC_ID_TCGA_BRCA_hMethyl450',\n '_GENOMIC_ID_TCGA_BRCA_RPPA',\n '_GENOMIC_ID_TCGA_BRCA_PDMRNAseqCNV',\n '_GENOMIC_ID_TCGA_BRCA_mutation_curated_wustl_gene',\n '_GENOMIC_ID_TCGA_BRCA_hMethyl27',\n '_GENOMIC_ID_TCGA_BRCA_PDMarrayCNV',\n '_GENOMIC_ID_TCGA_BRCA_miRNA_HiSeq',\n '_GENOMIC_ID_TCGA_BRCA_mutation_wustl_gene',\n '_GENOMIC_ID_TCGA_BRCA_miRNA_GA',\n '_GENOMIC_ID_TCGA_BRCA_exp_HiSeqV2_percentile',\n '_GENOMIC_ID_data/public/TCGA/BRCA/miRNA_GA_gene',\n '_GENOMIC_ID_TCGA_BRCA_gistic2thd',\n '_GENOMIC_ID_data/public/TCGA/BRCA/miRNA_HiSeq_gene',\n '_GENOMIC_ID_TCGA_BRCA_G4502A_07_3',\n '_GENOMIC_ID_TCGA_BRCA_exp_HiSeqV2',\n '_GENOMIC_ID_TCGA_BRCA_gistic2',\n '_GENOMIC_ID_TCGA_BRCA_PDMarray']"
     },
     "execution_count": 7,
     "metadata": {},
     "output_type": "execute_result"
    }
   ],
   "execution_count": 7
  },
  {
   "cell_type": "code",
   "execution_count": null,
   "outputs": [],
   "source": [
    "f'''\n",
    "Below is a list of column names from a biomedical dataset. Please examine it and identify the columns that are likely to contain information about patients' age. Additionally, please do the same for columns that may hold data on patients' gender. Please provide your answer by strictly following this format, without redundant words:\n",
    "candidate_age_cols = [col_name1, col_name2, ...]\n",
    "candidate_gender_cols = [col_name1, col_name2, ...]\n",
    "If no columns match a criterion, please provide an empty list.\n",
    "\n",
    "Column names:\n",
    "{clinical_data_cols}\n",
    "'''"
   ],
   "metadata": {
    "collapsed": false
   }
  },
  {
   "cell_type": "code",
   "execution_count": null,
   "outputs": [],
   "source": [
    "candidate_age_cols = ['Age_at_Initial_Pathologic_Diagnosis_nature2012', 'age_at_initial_pathologic_diagnosis',\n",
    "                      'days_to_birth', 'year_of_initial_pathologic_diagnosis']\n",
    "candidate_gender_cols = ['Gender_nature2012', 'gender']"
   ],
   "metadata": {
    "collapsed": false
   }
  },
  {
   "cell_type": "markdown",
   "source": [
    "Choose a single column from the candidate columns that record age and gender information respectively.\n",
    "If no column meets the requirement, keep 'age_col' or 'gender_col' to None"
   ],
   "metadata": {
    "collapsed": false,
    "ExecuteTime": {
     "end_time": "2023-12-31T03:57:44.207565572Z",
     "start_time": "2023-12-31T03:57:44.202177544Z"
    }
   },
   "outputs": [],
   "execution_count": 9
  },
  {
   "cell_type": "code",
   "execution_count": null,
   "outputs": [],
   "source": [
    "preview_df(clinical_data[candidate_age_cols])"
   ],
   "metadata": {
    "collapsed": false
   }
  },
  {
   "cell_type": "code",
   "execution_count": null,
   "outputs": [],
   "source": [
    "age_col = 'age_at_initial_pathologic_diagnosis'"
   ],
   "metadata": {
    "collapsed": false
   }
  },
  {
   "cell_type": "code",
   "execution_count": null,
   "outputs": [],
   "source": [
    "preview_df(clinical_data[candidate_gender_cols])"
   ],
   "metadata": {
    "collapsed": false
   }
  },
  {
   "cell_type": "code",
   "execution_count": null,
   "outputs": [],
   "source": [
    "gender_col = 'gender'"
   ],
   "metadata": {
    "collapsed": false
   }
  },
  {
   "cell_type": "code",
   "execution_count": null,
   "outputs": [],
   "source": [
    "selected_clinical_data = xena_select_clinical_features(clinical_data, TRAIT, age_col=age_col, gender_col=gender_col)"
   ],
   "metadata": {
    "collapsed": false
   }
  },
  {
   "cell_type": "code",
   "execution_count": null,
   "outputs": [],
   "source": [
    "if NORMALIZE_GENE:\n",
    "    genetic_data = normalize_gene_symbols_in_index(genetic_data)"
   ],
   "metadata": {
    "collapsed": false
   }
  },
  {
   "cell_type": "code",
   "execution_count": null,
   "outputs": [],
   "source": [
    "merged_data = selected_clinical_data.join(genetic_data.T).dropna()\n",
    "merged_data.head()"
   ],
   "metadata": {
    "collapsed": false
   }
  },
  {
   "cell_type": "code",
   "execution_count": null,
   "outputs": [],
   "source": [
    "print(f\"The merged dataset contains {len(merged_data)} samples.\")\n",
    "is_trait_biased, merge_data = judge_and_remove_biased_features(merged_data, TRAIT, trait_type=trait_type)\n",
    "is_trait_biased"
   ],
   "metadata": {
    "collapsed": false
   }
  },
  {
   "cell_type": "code",
   "execution_count": null,
   "outputs": [],
   "source": [
    "merged_data.head()\n",
    "if not is_trait_biased:\n",
    "    merge_data.to_csv(os.path.join(OUTPUT_DIR, cohort + '.csv'), index=False)"
   ],
   "metadata": {
    "collapsed": false
   }
  },
  {
   "cell_type": "code",
   "execution_count": null,
   "outputs": [],
   "source": [
    "save_cohort_info(cohort, JSON_PATH, is_available, is_trait_biased, merged_data)"
   ],
   "metadata": {
    "collapsed": false
   }
  },
  {
   "cell_type": "markdown",
   "source": [
    "## 2.2. The GEO dataset"
   ],
   "metadata": {
    "collapsed": false,
    "ExecuteTime": {
     "end_time": "2023-12-28T21:28:38.028916303Z",
     "start_time": "2023-12-28T21:28:38.016245426Z"
    }
   },
   "outputs": [
    {
     "name": "stdout",
     "output_type": "stream",
     "text": [
      "The least common label is '0' with 113 occurrences. This represents 9.30% of the dataset.\n",
      "The distribution of the trait 'Breast Cancer' in this dataset is fine.\n"
     ]
    }
   ],
   "execution_count": 19
  },
  {
   "cell_type": "markdown",
   "source": [
    "In GEO, there may be one or multiple cohorts for a trait. Each cohort is identified by an accession number. We iterate over all accession numbers in the corresponding subdirectory, preprocess the cohort data, and save them to csv files."
   ],
   "metadata": {
    "collapsed": false,
    "ExecuteTime": {
     "end_time": "2023-12-31T03:25:23.253882615Z",
     "start_time": "2023-12-31T03:25:23.244062710Z"
    }
   },
   "outputs": [],
   "execution_count": 21
  },
  {
   "cell_type": "code",
   "execution_count": 4,
   "outputs": [
    {
     "data": {
      "text/plain": "['GSE156374', 'GSE157989', 'GSE182081', 'GSE182101', 'GSE199759', 'GSE205661']"
     },
     "execution_count": 4,
     "metadata": {},
     "output_type": "execute_result"
    }
   ],
   "source": [
    "dataset = 'GEO'\n",
    "trait_subdir = \"Epilepsy\"\n",
    "\n",
    "trait_path = os.path.join(DATA_ROOT, dataset, trait_subdir)\n",
    "os.listdir(trait_path)"
   ],
   "metadata": {
    "collapsed": false,
    "ExecuteTime": {
     "end_time": "2024-01-10T05:26:40.438125048Z",
     "start_time": "2024-01-10T05:26:40.414737648Z"
    }
   }
  },
  {
   "cell_type": "markdown",
   "source": [
    "Repeat the below steps for all the accession numbers"
   ],
   "metadata": {
    "collapsed": false,
    "ExecuteTime": {
     "end_time": "2023-12-31T03:39:42.634870142Z",
     "start_time": "2023-12-31T03:39:42.534093295Z"
    }
   },
   "outputs": [],
   "execution_count": 70
  },
  {
   "cell_type": "code",
   "execution_count": 19,
   "outputs": [
    {
     "data": {
      "text/plain": "('/media/techt/DATA/GEO/Epilepsy/GSE205661/GSE205661_family.soft.gz',\n '/media/techt/DATA/GEO/Epilepsy/GSE205661/GSE205661-GPL13534_series_matrix.txt.gz')"
     },
     "execution_count": 19,
     "metadata": {},
     "output_type": "execute_result"
    }
   ],
   "source": [
    "cohort = accession_num = \"GSE205661\"\n",
    "cohort_dir = os.path.join(trait_path, accession_num)\n",
    "soft_file, matrix_file = get_relevant_filepaths(cohort_dir)\n",
    "soft_file, matrix_file"
   ],
   "metadata": {
    "collapsed": false,
    "ExecuteTime": {
     "end_time": "2024-01-10T05:27:01.361508915Z",
     "start_time": "2024-01-10T05:27:01.355267264Z"
    }
   }
  },
  {
   "cell_type": "markdown",
   "source": [
    "### Initial filtering and clinical data preprocessing"
   ],
   "metadata": {
    "collapsed": false
   }
  },
  {
   "cell_type": "code",
   "execution_count": 20,
   "outputs": [
    {
     "name": "stdout",
     "output_type": "stream",
     "text": [
      "!Series_title\t\"Integrated analysis of expression profile and potential pathogenic mechanism of temporal lobe epilepsy with hippocampal sclerosis\"\n",
      "!Series_summary\t\"To investigate the potential pathogenic mechanism of temporal lobe epilepsy with hippocampal sclerosis (TLE+HS), we have employed analyzing of the expression profiles of microRNA/ mRNA/ lncRNA/ DNA methylation in brain tissues of hippocampal sclerosis (TLE+HS) patients. Brain tissues of six patients with TLE+HS and nine of normal temporal or parietal cortices (NTP) of patients undergoing internal decompression for traumatic brain injury (TBI) were collected. The total RNA was dephosphorylated, labeled, and hybridized to the Agilent Human miRNA Microarray, Release 19.0, 8x60K. The cDNA was labeled and hybridized to the Agilent LncRNA+mRNA Human Gene Expression Microarray V3.0，4x180K. For methylation detection, the DNA was labeled and hybridized to the Illumina 450K Infinium Methylation BeadChip. The raw data was extracted from hybridized images using Agilent Feature Extraction, and quantile normalization was performed using the Agilent GeneSpring. We found that the disorder of FGFR3, hsa-miR-486-5p, and lnc-KCNH5-1 plays a key vital role in developing TLE+HS.\"\n",
      "!Series_overall_design\t\"Brain tissues of six patients with TLE+HS and nine of normal temporal or parietal cortices (NTP) of patients undergoing internal decompression for traumatic brain injury (TBI) were collected.\"\n"
     ]
    }
   ],
   "source": [
    "background_prefixes = ['!Series_title', '!Series_summary', '!Series_overall_design']\n",
    "clinical_prefixes = ['!Sample_geo_accession', '!Sample_characteristics_ch1']\n",
    "\n",
    "background_info, clinical_data = get_background_and_clinical_data(matrix_file, background_prefixes, clinical_prefixes)\n",
    "print(background_info)"
   ],
   "metadata": {
    "collapsed": false,
    "ExecuteTime": {
     "end_time": "2024-01-10T05:27:02.531629146Z",
     "start_time": "2024-01-10T05:27:01.933872606Z"
    }
   }
  },
  {
   "cell_type": "code",
   "execution_count": 21,
   "outputs": [
    {
     "data": {
      "text/plain": "         !Sample_geo_accession           GSM6216198           GSM6216199  \\\n0  !Sample_characteristics_ch1  tissue: Hippocampus  tissue: Hippocampus   \n1  !Sample_characteristics_ch1       gender: Female         gender: Male   \n2  !Sample_characteristics_ch1             age: 23y             age: 29y   \n\n            GSM6216200           GSM6216201           GSM6216202  \\\n0  tissue: Hippocampus  tissue: Hippocampus  tissue: Hippocampus   \n1         gender: Male       gender: Female       gender: Female   \n2             age: 37y             age: 26y             age: 16y   \n\n            GSM6216203             GSM6216204             GSM6216205  \\\n0  tissue: Hippocampus  tissue: Temporal lobe  tissue: Temporal lobe   \n1         gender: Male         gender: Female           gender: Male   \n2             age: 13y               age: 62y               age: 58y   \n\n              GSM6216206             GSM6216207             GSM6216208  \\\n0  tissue: Temporal lobe  tissue: Temporal lobe  tissue: Temporal lobe   \n1         gender: Female           gender: Male           gender: Male   \n2               age: 63y               age: 68y               age: 77y   \n\n              GSM6216209             GSM6216210             GSM6216211  \\\n0  tissue: Temporal lobe  tissue: Parietal lobe  tissue: Temporal lobe   \n1           gender: Male           gender: Male           gender: Male   \n2               age: 59y               age: 50y               age: 39y   \n\n              GSM6216212  \n0  tissue: Parietal lobe  \n1           gender: Male  \n2               age: 23y  ",
      "text/html": "<div>\n<style scoped>\n    .dataframe tbody tr th:only-of-type {\n        vertical-align: middle;\n    }\n\n    .dataframe tbody tr th {\n        vertical-align: top;\n    }\n\n    .dataframe thead th {\n        text-align: right;\n    }\n</style>\n<table border=\"1\" class=\"dataframe\">\n  <thead>\n    <tr style=\"text-align: right;\">\n      <th></th>\n      <th>!Sample_geo_accession</th>\n      <th>GSM6216198</th>\n      <th>GSM6216199</th>\n      <th>GSM6216200</th>\n      <th>GSM6216201</th>\n      <th>GSM6216202</th>\n      <th>GSM6216203</th>\n      <th>GSM6216204</th>\n      <th>GSM6216205</th>\n      <th>GSM6216206</th>\n      <th>GSM6216207</th>\n      <th>GSM6216208</th>\n      <th>GSM6216209</th>\n      <th>GSM6216210</th>\n      <th>GSM6216211</th>\n      <th>GSM6216212</th>\n    </tr>\n  </thead>\n  <tbody>\n    <tr>\n      <th>0</th>\n      <td>!Sample_characteristics_ch1</td>\n      <td>tissue: Hippocampus</td>\n      <td>tissue: Hippocampus</td>\n      <td>tissue: Hippocampus</td>\n      <td>tissue: Hippocampus</td>\n      <td>tissue: Hippocampus</td>\n      <td>tissue: Hippocampus</td>\n      <td>tissue: Temporal lobe</td>\n      <td>tissue: Temporal lobe</td>\n      <td>tissue: Temporal lobe</td>\n      <td>tissue: Temporal lobe</td>\n      <td>tissue: Temporal lobe</td>\n      <td>tissue: Temporal lobe</td>\n      <td>tissue: Parietal lobe</td>\n      <td>tissue: Temporal lobe</td>\n      <td>tissue: Parietal lobe</td>\n    </tr>\n    <tr>\n      <th>1</th>\n      <td>!Sample_characteristics_ch1</td>\n      <td>gender: Female</td>\n      <td>gender: Male</td>\n      <td>gender: Male</td>\n      <td>gender: Female</td>\n      <td>gender: Female</td>\n      <td>gender: Male</td>\n      <td>gender: Female</td>\n      <td>gender: Male</td>\n      <td>gender: Female</td>\n      <td>gender: Male</td>\n      <td>gender: Male</td>\n      <td>gender: Male</td>\n      <td>gender: Male</td>\n      <td>gender: Male</td>\n      <td>gender: Male</td>\n    </tr>\n    <tr>\n      <th>2</th>\n      <td>!Sample_characteristics_ch1</td>\n      <td>age: 23y</td>\n      <td>age: 29y</td>\n      <td>age: 37y</td>\n      <td>age: 26y</td>\n      <td>age: 16y</td>\n      <td>age: 13y</td>\n      <td>age: 62y</td>\n      <td>age: 58y</td>\n      <td>age: 63y</td>\n      <td>age: 68y</td>\n      <td>age: 77y</td>\n      <td>age: 59y</td>\n      <td>age: 50y</td>\n      <td>age: 39y</td>\n      <td>age: 23y</td>\n    </tr>\n  </tbody>\n</table>\n</div>"
     },
     "execution_count": 21,
     "metadata": {},
     "output_type": "execute_result"
    }
   ],
   "source": [
    "clinical_data.head()"
   ],
   "metadata": {
    "collapsed": false,
    "ExecuteTime": {
     "end_time": "2024-01-10T05:27:02.542110747Z",
     "start_time": "2024-01-10T05:27:02.489723753Z"
    }
   }
  },
  {
   "cell_type": "code",
   "execution_count": 22,
   "outputs": [
    {
     "data": {
      "text/plain": "{0: ['tissue: Hippocampus', 'tissue: Temporal lobe', 'tissue: Parietal lobe'],\n 1: ['gender: Female', 'gender: Male'],\n 2: ['age: 23y',\n  'age: 29y',\n  'age: 37y',\n  'age: 26y',\n  'age: 16y',\n  'age: 13y',\n  'age: 62y',\n  'age: 58y',\n  'age: 63y',\n  'age: 68y',\n  'age: 77y',\n  'age: 59y',\n  'age: 50y',\n  'age: 39y']}"
     },
     "execution_count": 22,
     "metadata": {},
     "output_type": "execute_result"
    }
   ],
   "source": [
    "clinical_data_unique = get_unique_values_by_row(clinical_data)\n",
    "clinical_data_unique"
   ],
   "metadata": {
    "collapsed": false,
    "ExecuteTime": {
     "end_time": "2024-01-10T05:27:02.586543894Z",
     "start_time": "2024-01-10T05:27:02.497053284Z"
    }
   }
  },
  {
   "cell_type": "markdown",
   "source": [
    "Analyze the metadata to determine data relevance and find ways to extract the clinical data.\n",
    "Reference prompt:"
   ],
   "metadata": {
    "collapsed": false,
    "ExecuteTime": {
     "end_time": "2023-12-31T03:58:04.978204446Z",
     "start_time": "2023-12-31T03:58:04.922270095Z"
    }
   },
   "outputs": [
    {
     "data": {
      "text/plain": "'As a biomedical research team, we are selecting datasets to study the association between the human trait \\'Breast Cancer\\' and genetic factors, optionally considering the influence of age and gender. After searching the GEO database and parsing the matrix file of a series, we obtained background information and sample characteristics data. We will provide textual information about the dataset background, and a Python dictionary storing a list of unique values for each field of the sample characteristics data. Please carefully review the provided information and answer the following questions about this dataset:\\n1. Does this dataset contain gene expression data? (Note: Pure miRNA data is not suitable.)\\n2. For each of the traits \\'Breast Cancer\\', \\'age\\', and \\'gender\\', please address these points:\\n   (1) Is there human data available for this trait?\\n   (2) If so, identify the key in the sample characteristics dictionary where unique values of this trait is recorded. The key is an integer. The trait information might be explicitly recorded, or can be inferred from the field with some biomedical knowledge or understanding about the data collection process.\\n   (3) Choose an appropriate data type (either \\'continuous\\' or \\'binary\\') for each trait. Write a Python function to convert any given value of the trait to this data type. The function should handle inference about the trait value and convert unknown values to None.\\n   Name the functions \\'convert_trait\\', \\'convert_age\\', and \\'convert_gender\\', respectively.\\n\\nBackground information about the dataset:\\n!Series_title\\t\"Unlocking Molecular mechanisms and identifying druggable targets in matched-paired brain metastasis of Breast and Lung cancers\\xa0\"\\n!Series_summary\\t\"Introduction: The incidence of brain metastases in cancer patients is increasing, with lung and breast cancer being the most common sources. Despite advancements in targeted therapies, the prognosis remains poor, highlighting the importance to investigate the underlying mechanisms in brain metastases. The aim of this study was to investigate the differences in the molecular mechanisms involved in brain metastasis of breast and lung cancers. In addition, we aimed to identify cancer lineage-specific druggable targets in the brain metastasis. Methods: To that aim, a cohort of 44 FFPE tissue samples, including 22 breast cancer and 22 lung adenocarcinoma (LUAD) and their matched-paired brain metastases were collected. Targeted gene expression profiles of primary tumors were compared to their matched-paired brain metastases samples using nCounter PanCancer IO 360™ Panel of NanoString technologies. Pathway analysis was performed using gene set analysis (GSA) and gene set enrichment analysis (GSEA). The validation was performed by using Immunohistochemistry (IHC) to confirm the expression of immune checkpoint inhibitors. Results: Our results revealed the significant upregulation of cancer-related genes in primary tumors compared to their matched-paired brain metastases (adj. p\\u2009≤\\u20090.05). We found that upregulated differentially expressed genes in breast cancer brain metastasis (BM-BC) and brain metastasis from lung adenocarcinoma (BM-LUAD) were associated with the metabolic stress pathway, particularly related to the glycolysis. Additionally, we found that the upregulated genes in BM-BC and BM-LUAD played roles in immune response regulation, tumor growth, and proliferation. Importantly, we identified high expression of the immune checkpoint VTCN1 in BM-BC, and VISTA, IDO1, NT5E, and HDAC3 in BM-LUAD. Validation using immunohistochemistry further supported these findings. Conclusion: In conclusion, the findings highlight the significance of using matched-paired samples to identify cancer lineage-specific therapies that may improve brain metastasis patients outcomes.\"\\n!Series_overall_design\\t\"RNA was extracted from FFPE samples of (primary LUAD and their matched paired brain metastasis n=22, primary BC and their matched paired brain metastasis n=22)\"\\n\\nSample characteristics dictionary (from \"!Sample_characteristics_ch1\", converted to a Python dictionary that stores the unique values for each field):\\n{0: [\\'age at diagnosis: 49\\', \\'age at diagnosis: 44\\', \\'age at diagnosis: 41\\', \\'age at diagnosis: 40\\', \\'age at diagnosis: 48\\', \\'age at diagnosis: 42\\', \\'age at diagnosis: 47\\', \\'age at diagnosis: 53\\', \\'age at diagnosis: 74\\', \\'age at diagnosis: 58\\', \\'age at diagnosis: 51\\', \\'age at diagnosis: 55\\', \\'age at diagnosis: 46\\', \\'age at diagnosis: 59\\', \\'age at diagnosis: 50\\', \\'age at diagnosis: 57\\', \\'age at diagnosis: 60\\', \\'age at diagnosis: 69\\', \\'age at diagnosis: n.a.\\', \\'age at diagnosis: 65\\', \\'age at diagnosis: 37\\', \\'age at diagnosis: 63\\', \\'age at diagnosis: 70\\', \\'age at diagnosis: 66\\', \\'age at diagnosis: 64\\'], 1: [\\'Sex: female\\', \\'Sex: male\\'], 2: [\\'histology: TNBC\\', \\'histology: ER+ PR+ HER2-\\', \\'histology: Unknown\\', \\'histology: ER- PR- HER2+\\', \\'histology: ER+ PR-HER2+\\', \\'histology: ER+ PR- HER2-\\', \\'histology: ER- PR+ HER2-\\', \\'histology: adenocaricnoma\\'], 3: [\\'smoking status: n.a\\', \\'smoking status: former-smoker\\', \\'smoking status: smoker\\', \\'smoking status: Never smoking\\', \\'smoking status: unknown\\', \\'smoking status: former-roker\\'], 4: [\\'treatment after surgery of bm: surgery + chemotherpy\\', \\'treatment after surgery of bm: surgery +  chemotherpy + Radiotherapy\\', \\'treatment after surgery of bm: surgery + chemotherapy + Radiotherapy\\', \\'treatment after surgery of bm: surgery\\', \\'treatment after surgery of bm: surgery +  chemotherapy + Radiotherapy\\', \\'treatment after surgery of bm: surgery + chemotherapy\\', \\'treatment after surgery of bm: surgery + chemotherpy + Radiotherapy\\', \\'treatment after surgery of bm: surgery + chemotheapy + Radiotherapy\\', \\'treatment after surgery of bm: Chemoterapy\\', \\'treatment after surgery of bm: Radiotherapy & Chemoterapy\\', \\'treatment after surgery of bm: Radiotherapy\\', \\'treatment after surgery of bm: Other\\', \\'treatment after surgery of bm: Surgery & Chemotherapy & Radiotherapy\\', \\'treatment after surgery of bm: surgery & Radiotherapy\\', \\'treatment after surgery of bm: surgery & Radiochemotherapy\\', \\'treatment after surgery of bm: No treatment\\', \\'treatment after surgery of bm: WBRT\\', \\'treatment after surgery of bm: SRT\\']}\\n'"
     },
     "execution_count": 29,
     "metadata": {},
     "output_type": "execute_result"
    }
   ],
   "execution_count": 29
  },
  {
   "cell_type": "code",
   "execution_count": 23,
   "outputs": [
    {
     "data": {
      "text/plain": "'As a biomedical research team, we are selecting datasets to study the association between the human trait \\'Epilepsy\\' and genetic factors, optionally considering the influence of age and gender. After searching the GEO database and parsing the matrix file of a series, we obtained background information and sample characteristics data. We will provide textual information about the dataset background, and a Python dictionary storing a list of unique values for each field of the sample characteristics data. Please carefully review the provided information and answer the following questions about this dataset:\\n1. Does this dataset contain gene expression data? (Note: Pure miRNA data is not suitable.)\\n2. For each of the traits \\'Epilepsy\\', \\'age\\', and \\'gender\\', please address these points:\\n   (1) Is there human data available for this trait?\\n   (2) If so, identify the key in the sample characteristics dictionary where unique values of this trait is recorded. The key is an integer. The trait information might be explicitly recorded, or can be inferred from the field with some biomedical knowledge or understanding about the data collection process.\\n   (3) Choose an appropriate data type (either \\'continuous\\' or \\'binary\\') for each trait. Write a Python function to convert any given value of the trait to this data type. The function should handle inference about the trait value and convert unknown values to None.\\n   Name the functions \\'convert_trait\\', \\'convert_age\\', and \\'convert_gender\\', respectively.\\n\\nBackground information about the dataset:\\n!Series_title\\t\"Integrated analysis of expression profile and potential pathogenic mechanism of temporal lobe epilepsy with hippocampal sclerosis\"\\n!Series_summary\\t\"To investigate the potential pathogenic mechanism of temporal lobe epilepsy with hippocampal sclerosis (TLE+HS), we have employed analyzing of the expression profiles of microRNA/ mRNA/ lncRNA/ DNA methylation in brain tissues of hippocampal sclerosis (TLE+HS) patients. Brain tissues of six patients with TLE+HS and nine of normal temporal or parietal cortices (NTP) of patients undergoing internal decompression for traumatic brain injury (TBI) were collected. The total RNA was dephosphorylated, labeled, and hybridized to the Agilent Human miRNA Microarray, Release 19.0, 8x60K. The cDNA was labeled and hybridized to the Agilent LncRNA+mRNA Human Gene Expression Microarray V3.0，4x180K. For methylation detection, the DNA was labeled and hybridized to the Illumina 450K Infinium Methylation BeadChip. The raw data was extracted from hybridized images using Agilent Feature Extraction, and quantile normalization was performed using the Agilent GeneSpring. We found that the disorder of FGFR3, hsa-miR-486-5p, and lnc-KCNH5-1 plays a key vital role in developing TLE+HS.\"\\n!Series_overall_design\\t\"Brain tissues of six patients with TLE+HS and nine of normal temporal or parietal cortices (NTP) of patients undergoing internal decompression for traumatic brain injury (TBI) were collected.\"\\n\\nSample characteristics dictionary (from \"!Sample_characteristics_ch1\", converted to a Python dictionary that stores the unique values for each field):\\n{0: [\\'tissue: Hippocampus\\', \\'tissue: Temporal lobe\\', \\'tissue: Parietal lobe\\'], 1: [\\'gender: Female\\', \\'gender: Male\\'], 2: [\\'age: 23y\\', \\'age: 29y\\', \\'age: 37y\\', \\'age: 26y\\', \\'age: 16y\\', \\'age: 13y\\', \\'age: 62y\\', \\'age: 58y\\', \\'age: 63y\\', \\'age: 68y\\', \\'age: 77y\\', \\'age: 59y\\', \\'age: 50y\\', \\'age: 39y\\']}\\n'"
     },
     "execution_count": 23,
     "metadata": {},
     "output_type": "execute_result"
    }
   ],
   "source": [
    "f'''As a biomedical research team, we are selecting datasets to study the association between the human trait \\'{TRAIT}\\' and genetic factors, optionally considering the influence of age and gender. After searching the GEO database and parsing the matrix file of a series, we obtained background information and sample characteristics data. We will provide textual information about the dataset background, and a Python dictionary storing a list of unique values for each field of the sample characteristics data. Please carefully review the provided information and answer the following questions about this dataset:\n",
    "1. Does this dataset contain gene expression data? (Note: Pure miRNA data is not suitable.)\n",
    "2. For each of the traits \\'{TRAIT}\\', 'age', and 'gender', please address these points:\n",
    "   (1) Is there human data available for this trait?\n",
    "   (2) If so, identify the key in the sample characteristics dictionary where unique values of this trait is recorded. The key is an integer. The trait information might be explicitly recorded, or can be inferred from the field with some biomedical knowledge or understanding about the data collection process.\n",
    "   (3) Choose an appropriate data type (either 'continuous' or 'binary') for each trait. Write a Python function to convert any given value of the trait to this data type. The function should handle inference about the trait value and convert unknown values to None.\n",
    "   Name the functions 'convert_trait', 'convert_age', and 'convert_gender', respectively.\n",
    "\n",
    "Background information about the dataset:\n",
    "{background_info}\n",
    "\n",
    "Sample characteristics dictionary (from \"!Sample_characteristics_ch1\", converted to a Python dictionary that stores the unique values for each field):\n",
    "{clinical_data_unique}\n",
    "'''"
   ],
   "metadata": {
    "collapsed": false,
    "ExecuteTime": {
     "end_time": "2024-01-10T05:27:03.004992928Z",
     "start_time": "2024-01-10T05:27:02.981732628Z"
    }
   }
  },
  {
   "cell_type": "markdown",
   "source": [
    "Understand and verify the answer from GPT, to assign values to the below variables. Assign None to the 'row_id' variables if relevant data row was not found.\n",
    "Later we need to let GPT format its answer to automatically do these. But given the complexity of this step, let's grow some insight from the free-text answers for now."
   ],
   "metadata": {
    "collapsed": false,
    "ExecuteTime": {
     "end_time": "2023-12-31T03:58:04.978240504Z",
     "start_time": "2023-12-31T03:58:04.922365324Z"
    }
   },
   "outputs": [],
   "execution_count": 30
  },
  {
   "cell_type": "code",
   "execution_count": 24,
   "outputs": [],
   "source": [
    "is_gene_availabe = True\n",
    "trait_row = 0\n",
    "age_row = 2\n",
    "gender_row = 1\n",
    "\n",
    "trait_type = 'binary'"
   ],
   "metadata": {
    "collapsed": false,
    "ExecuteTime": {
     "end_time": "2024-01-10T05:27:03.760824879Z",
     "start_time": "2024-01-10T05:27:03.720154864Z"
    }
   }
  },
  {
   "cell_type": "code",
   "execution_count": 25,
   "outputs": [],
   "source": [
    "is_available = is_gene_availabe and (trait_row is not None)\n",
    "if not is_available:\n",
    "    save_cohort_info(cohort, JSON_PATH, is_available)\n",
    "    print(\"This cohort is not usable. Please skip the following steps and jump to the next accession number.\")"
   ],
   "metadata": {
    "collapsed": false,
    "ExecuteTime": {
     "end_time": "2024-01-10T05:27:04.027950174Z",
     "start_time": "2024-01-10T05:27:04.017184750Z"
    }
   }
  },
  {
   "cell_type": "code",
   "execution_count": 26,
   "outputs": [],
   "source": [
    "def convert_trait(tissue_type):\n",
    "    \"\"\"\n",
    "    Convert tissue type to epilepsy presence (binary).\n",
    "    Assuming epilepsy presence for 'Hippocampus' tissue.\n",
    "    \"\"\"\n",
    "    if tissue_type == 'tissue: Hippocampus':\n",
    "        return 1  # Epilepsy present\n",
    "    else:\n",
    "        return 0  # Epilepsy not present\n",
    "\n",
    "\n",
    "def convert_age(age_string):\n",
    "    \"\"\"\n",
    "    Convert age string to a numerical value.\n",
    "    \"\"\"\n",
    "    if age_string.startswith('age: '):\n",
    "        try:\n",
    "            return int(age_string.split('age: ')[1].rstrip('y'))  # Extracting numeric part\n",
    "        except ValueError:\n",
    "            return None  # In case of parsing error\n",
    "    else:\n",
    "        return None  # If age string does not follow expected format\n",
    "\n",
    "\n",
    "def convert_gender(gender_string):\n",
    "    \"\"\"\n",
    "    Convert gender string to a binary representation.\n",
    "    Female -> 0, Male -> 1, Unknown -> None\n",
    "    \"\"\"\n",
    "    if gender_string == 'gender: Female':\n",
    "        return 0\n",
    "    elif gender_string == 'gender: Male':\n",
    "        return 1\n",
    "    else:\n",
    "        return None  # In case of unknown gender"
   ],
   "metadata": {
    "collapsed": false,
    "ExecuteTime": {
     "end_time": "2024-01-10T05:27:04.322007001Z",
     "start_time": "2024-01-10T05:27:04.305277519Z"
    }
   }
  },
  {
   "cell_type": "code",
   "execution_count": 27,
   "outputs": [
    {
     "data": {
      "text/plain": "          GSM6216198  GSM6216199  GSM6216200  GSM6216201  GSM6216202  \\\nEpilepsy           1           1           1           1           1   \nAge               23          29          37          26          16   \nGender             0           1           1           0           0   \n\n          GSM6216203  GSM6216204  GSM6216205  GSM6216206  GSM6216207  \\\nEpilepsy           1           0           0           0           0   \nAge               13          62          58          63          68   \nGender             1           0           1           0           1   \n\n          GSM6216208  GSM6216209  GSM6216210  GSM6216211  GSM6216212  \nEpilepsy           0           0           0           0           0  \nAge               77          59          50          39          23  \nGender             1           1           1           1           1  ",
      "text/html": "<div>\n<style scoped>\n    .dataframe tbody tr th:only-of-type {\n        vertical-align: middle;\n    }\n\n    .dataframe tbody tr th {\n        vertical-align: top;\n    }\n\n    .dataframe thead th {\n        text-align: right;\n    }\n</style>\n<table border=\"1\" class=\"dataframe\">\n  <thead>\n    <tr style=\"text-align: right;\">\n      <th></th>\n      <th>GSM6216198</th>\n      <th>GSM6216199</th>\n      <th>GSM6216200</th>\n      <th>GSM6216201</th>\n      <th>GSM6216202</th>\n      <th>GSM6216203</th>\n      <th>GSM6216204</th>\n      <th>GSM6216205</th>\n      <th>GSM6216206</th>\n      <th>GSM6216207</th>\n      <th>GSM6216208</th>\n      <th>GSM6216209</th>\n      <th>GSM6216210</th>\n      <th>GSM6216211</th>\n      <th>GSM6216212</th>\n    </tr>\n  </thead>\n  <tbody>\n    <tr>\n      <th>Epilepsy</th>\n      <td>1</td>\n      <td>1</td>\n      <td>1</td>\n      <td>1</td>\n      <td>1</td>\n      <td>1</td>\n      <td>0</td>\n      <td>0</td>\n      <td>0</td>\n      <td>0</td>\n      <td>0</td>\n      <td>0</td>\n      <td>0</td>\n      <td>0</td>\n      <td>0</td>\n    </tr>\n    <tr>\n      <th>Age</th>\n      <td>23</td>\n      <td>29</td>\n      <td>37</td>\n      <td>26</td>\n      <td>16</td>\n      <td>13</td>\n      <td>62</td>\n      <td>58</td>\n      <td>63</td>\n      <td>68</td>\n      <td>77</td>\n      <td>59</td>\n      <td>50</td>\n      <td>39</td>\n      <td>23</td>\n    </tr>\n    <tr>\n      <th>Gender</th>\n      <td>0</td>\n      <td>1</td>\n      <td>1</td>\n      <td>0</td>\n      <td>0</td>\n      <td>1</td>\n      <td>0</td>\n      <td>1</td>\n      <td>0</td>\n      <td>1</td>\n      <td>1</td>\n      <td>1</td>\n      <td>1</td>\n      <td>1</td>\n      <td>1</td>\n    </tr>\n  </tbody>\n</table>\n</div>"
     },
     "execution_count": 27,
     "metadata": {},
     "output_type": "execute_result"
    }
   ],
   "source": [
    "selected_clinical_data = geo_select_clinical_features(clinical_data, TRAIT, trait_row, convert_trait, age_row=age_row,\n",
    "                                                      convert_age=convert_age, gender_row=gender_row,\n",
    "                                                      convert_gender=convert_gender)\n",
    "selected_clinical_data.head()"
   ],
   "metadata": {
    "collapsed": false,
    "ExecuteTime": {
     "end_time": "2024-01-10T05:27:04.567890427Z",
     "start_time": "2024-01-10T05:27:04.547341346Z"
    }
   }
  },
  {
   "cell_type": "markdown",
   "source": [
    "### Genetic data preprocessing and final filtering"
   ],
   "metadata": {
    "collapsed": false,
    "ExecuteTime": {
     "end_time": "2023-12-31T03:58:04.978664193Z",
     "start_time": "2023-12-31T03:58:04.966117261Z"
    }
   },
   "outputs": [
    {
     "data": {
      "text/plain": "       ID  GSM7920782  GSM7920783  GSM7920784  GSM7920785  GSM7920786  \\\n0     A2M   13.210102   13.237969   14.728878   15.399663   12.970464   \n1  ACVR1C    5.128485    5.336850    5.611523    5.041711    6.342262   \n2  ADAM12    9.806557   12.374397    9.953351    8.507092   11.402156   \n3  ADGRE1    4.128485    3.751888    4.611523    4.582279    3.771514   \n4     ADM   10.953762   10.544678    8.155844    9.333824    8.438938   \n\n   GSM7920787  GSM7920788  GSM7920789  GSM7920790  ...  GSM7920816  \\\n0   13.014807   12.521967   13.055481   13.219538  ...   12.635802   \n1    5.005301    4.148600    5.665523    5.548821  ...    5.756039   \n2   10.739489    9.114680   11.095729    8.762302  ...    8.280338   \n3    4.420338    2.863198    4.800452    3.860765  ...    2.806079   \n4    9.446117    8.285262    8.551518    9.567357  ...   11.577869   \n\n   GSM7920817  GSM7920818  GSM7920819  GSM7920820  GSM7920821  GSM7920822  \\\n0   12.487090   11.743261   13.219376   12.499513   11.719452   12.509194   \n1    6.795792    6.873777    6.848304    5.106051    6.790117    3.936121   \n2    6.973884    7.113936    8.036966    8.398832    5.346283    9.429915   \n3    5.926579    2.066422    6.447342    4.286623    3.665105    3.415288   \n4   11.051458    7.742883    9.596892    6.993576    8.531638    8.579977   \n\n   GSM7920823  GSM7920824  GSM7920825  \n0   11.682523   10.885632   11.277235  \n1    2.998025    6.339292    4.463217  \n2    7.863096   10.774084    4.708329  \n3    1.190670    2.251830   -0.291671  \n4    8.150672    9.623969    7.790478  \n\n[5 rows x 45 columns]",
      "text/html": "<div>\n<style scoped>\n    .dataframe tbody tr th:only-of-type {\n        vertical-align: middle;\n    }\n\n    .dataframe tbody tr th {\n        vertical-align: top;\n    }\n\n    .dataframe thead th {\n        text-align: right;\n    }\n</style>\n<table border=\"1\" class=\"dataframe\">\n  <thead>\n    <tr style=\"text-align: right;\">\n      <th></th>\n      <th>ID</th>\n      <th>GSM7920782</th>\n      <th>GSM7920783</th>\n      <th>GSM7920784</th>\n      <th>GSM7920785</th>\n      <th>GSM7920786</th>\n      <th>GSM7920787</th>\n      <th>GSM7920788</th>\n      <th>GSM7920789</th>\n      <th>GSM7920790</th>\n      <th>...</th>\n      <th>GSM7920816</th>\n      <th>GSM7920817</th>\n      <th>GSM7920818</th>\n      <th>GSM7920819</th>\n      <th>GSM7920820</th>\n      <th>GSM7920821</th>\n      <th>GSM7920822</th>\n      <th>GSM7920823</th>\n      <th>GSM7920824</th>\n      <th>GSM7920825</th>\n    </tr>\n  </thead>\n  <tbody>\n    <tr>\n      <th>0</th>\n      <td>A2M</td>\n      <td>13.210102</td>\n      <td>13.237969</td>\n      <td>14.728878</td>\n      <td>15.399663</td>\n      <td>12.970464</td>\n      <td>13.014807</td>\n      <td>12.521967</td>\n      <td>13.055481</td>\n      <td>13.219538</td>\n      <td>...</td>\n      <td>12.635802</td>\n      <td>12.487090</td>\n      <td>11.743261</td>\n      <td>13.219376</td>\n      <td>12.499513</td>\n      <td>11.719452</td>\n      <td>12.509194</td>\n      <td>11.682523</td>\n      <td>10.885632</td>\n      <td>11.277235</td>\n    </tr>\n    <tr>\n      <th>1</th>\n      <td>ACVR1C</td>\n      <td>5.128485</td>\n      <td>5.336850</td>\n      <td>5.611523</td>\n      <td>5.041711</td>\n      <td>6.342262</td>\n      <td>5.005301</td>\n      <td>4.148600</td>\n      <td>5.665523</td>\n      <td>5.548821</td>\n      <td>...</td>\n      <td>5.756039</td>\n      <td>6.795792</td>\n      <td>6.873777</td>\n      <td>6.848304</td>\n      <td>5.106051</td>\n      <td>6.790117</td>\n      <td>3.936121</td>\n      <td>2.998025</td>\n      <td>6.339292</td>\n      <td>4.463217</td>\n    </tr>\n    <tr>\n      <th>2</th>\n      <td>ADAM12</td>\n      <td>9.806557</td>\n      <td>12.374397</td>\n      <td>9.953351</td>\n      <td>8.507092</td>\n      <td>11.402156</td>\n      <td>10.739489</td>\n      <td>9.114680</td>\n      <td>11.095729</td>\n      <td>8.762302</td>\n      <td>...</td>\n      <td>8.280338</td>\n      <td>6.973884</td>\n      <td>7.113936</td>\n      <td>8.036966</td>\n      <td>8.398832</td>\n      <td>5.346283</td>\n      <td>9.429915</td>\n      <td>7.863096</td>\n      <td>10.774084</td>\n      <td>4.708329</td>\n    </tr>\n    <tr>\n      <th>3</th>\n      <td>ADGRE1</td>\n      <td>4.128485</td>\n      <td>3.751888</td>\n      <td>4.611523</td>\n      <td>4.582279</td>\n      <td>3.771514</td>\n      <td>4.420338</td>\n      <td>2.863198</td>\n      <td>4.800452</td>\n      <td>3.860765</td>\n      <td>...</td>\n      <td>2.806079</td>\n      <td>5.926579</td>\n      <td>2.066422</td>\n      <td>6.447342</td>\n      <td>4.286623</td>\n      <td>3.665105</td>\n      <td>3.415288</td>\n      <td>1.190670</td>\n      <td>2.251830</td>\n      <td>-0.291671</td>\n    </tr>\n    <tr>\n      <th>4</th>\n      <td>ADM</td>\n      <td>10.953762</td>\n      <td>10.544678</td>\n      <td>8.155844</td>\n      <td>9.333824</td>\n      <td>8.438938</td>\n      <td>9.446117</td>\n      <td>8.285262</td>\n      <td>8.551518</td>\n      <td>9.567357</td>\n      <td>...</td>\n      <td>11.577869</td>\n      <td>11.051458</td>\n      <td>7.742883</td>\n      <td>9.596892</td>\n      <td>6.993576</td>\n      <td>8.531638</td>\n      <td>8.579977</td>\n      <td>8.150672</td>\n      <td>9.623969</td>\n      <td>7.790478</td>\n    </tr>\n  </tbody>\n</table>\n<p>5 rows × 45 columns</p>\n</div>"
     },
     "execution_count": 34,
     "metadata": {},
     "output_type": "execute_result"
    }
   ],
   "execution_count": 34
  },
  {
   "cell_type": "code",
   "execution_count": 28,
   "outputs": [
    {
     "data": {
      "text/plain": "            GSM6216198  GSM6216199  GSM6216200  GSM6216201  GSM6216202  \\\nID                                                                       \ncg00000029       0.717       0.643       0.645       0.699       0.587   \ncg00000108       0.974       0.978       0.969       0.974       0.969   \ncg00000109       0.710       0.825       0.802       0.864       0.791   \ncg00000165       0.294       0.210       0.246       0.214       0.193   \ncg00000236       0.923       0.903       0.945       0.873       0.957   \n\n            GSM6216203  GSM6216204  GSM6216205  GSM6216206  GSM6216207  \\\nID                                                                       \ncg00000029       0.676       0.566       0.608       0.592       0.739   \ncg00000108       0.964       0.968       0.973       0.955       0.973   \ncg00000109       0.770       0.870       0.876       0.817       0.880   \ncg00000165       0.186       0.240       0.212       0.337       0.228   \ncg00000236       0.936       0.877       0.906       0.893       0.910   \n\n            GSM6216208  GSM6216209  GSM6216210  GSM6216211  GSM6216212  \nID                                                                      \ncg00000029       0.550       0.469       0.674       0.605       0.576  \ncg00000108       0.953       0.953       0.950       0.971       0.977  \ncg00000109       0.843       0.829       0.845       0.856       0.854  \ncg00000165       0.309       0.214       0.270       0.203       0.273  \ncg00000236       0.868       0.901       0.924       0.911       0.872  ",
      "text/html": "<div>\n<style scoped>\n    .dataframe tbody tr th:only-of-type {\n        vertical-align: middle;\n    }\n\n    .dataframe tbody tr th {\n        vertical-align: top;\n    }\n\n    .dataframe thead th {\n        text-align: right;\n    }\n</style>\n<table border=\"1\" class=\"dataframe\">\n  <thead>\n    <tr style=\"text-align: right;\">\n      <th></th>\n      <th>GSM6216198</th>\n      <th>GSM6216199</th>\n      <th>GSM6216200</th>\n      <th>GSM6216201</th>\n      <th>GSM6216202</th>\n      <th>GSM6216203</th>\n      <th>GSM6216204</th>\n      <th>GSM6216205</th>\n      <th>GSM6216206</th>\n      <th>GSM6216207</th>\n      <th>GSM6216208</th>\n      <th>GSM6216209</th>\n      <th>GSM6216210</th>\n      <th>GSM6216211</th>\n      <th>GSM6216212</th>\n    </tr>\n    <tr>\n      <th>ID</th>\n      <th></th>\n      <th></th>\n      <th></th>\n      <th></th>\n      <th></th>\n      <th></th>\n      <th></th>\n      <th></th>\n      <th></th>\n      <th></th>\n      <th></th>\n      <th></th>\n      <th></th>\n      <th></th>\n      <th></th>\n    </tr>\n  </thead>\n  <tbody>\n    <tr>\n      <th>cg00000029</th>\n      <td>0.717</td>\n      <td>0.643</td>\n      <td>0.645</td>\n      <td>0.699</td>\n      <td>0.587</td>\n      <td>0.676</td>\n      <td>0.566</td>\n      <td>0.608</td>\n      <td>0.592</td>\n      <td>0.739</td>\n      <td>0.550</td>\n      <td>0.469</td>\n      <td>0.674</td>\n      <td>0.605</td>\n      <td>0.576</td>\n    </tr>\n    <tr>\n      <th>cg00000108</th>\n      <td>0.974</td>\n      <td>0.978</td>\n      <td>0.969</td>\n      <td>0.974</td>\n      <td>0.969</td>\n      <td>0.964</td>\n      <td>0.968</td>\n      <td>0.973</td>\n      <td>0.955</td>\n      <td>0.973</td>\n      <td>0.953</td>\n      <td>0.953</td>\n      <td>0.950</td>\n      <td>0.971</td>\n      <td>0.977</td>\n    </tr>\n    <tr>\n      <th>cg00000109</th>\n      <td>0.710</td>\n      <td>0.825</td>\n      <td>0.802</td>\n      <td>0.864</td>\n      <td>0.791</td>\n      <td>0.770</td>\n      <td>0.870</td>\n      <td>0.876</td>\n      <td>0.817</td>\n      <td>0.880</td>\n      <td>0.843</td>\n      <td>0.829</td>\n      <td>0.845</td>\n      <td>0.856</td>\n      <td>0.854</td>\n    </tr>\n    <tr>\n      <th>cg00000165</th>\n      <td>0.294</td>\n      <td>0.210</td>\n      <td>0.246</td>\n      <td>0.214</td>\n      <td>0.193</td>\n      <td>0.186</td>\n      <td>0.240</td>\n      <td>0.212</td>\n      <td>0.337</td>\n      <td>0.228</td>\n      <td>0.309</td>\n      <td>0.214</td>\n      <td>0.270</td>\n      <td>0.203</td>\n      <td>0.273</td>\n    </tr>\n    <tr>\n      <th>cg00000236</th>\n      <td>0.923</td>\n      <td>0.903</td>\n      <td>0.945</td>\n      <td>0.873</td>\n      <td>0.957</td>\n      <td>0.936</td>\n      <td>0.877</td>\n      <td>0.906</td>\n      <td>0.893</td>\n      <td>0.910</td>\n      <td>0.868</td>\n      <td>0.901</td>\n      <td>0.924</td>\n      <td>0.911</td>\n      <td>0.872</td>\n    </tr>\n  </tbody>\n</table>\n</div>"
     },
     "execution_count": 28,
     "metadata": {},
     "output_type": "execute_result"
    }
   ],
   "source": [
    "genetic_data = get_genetic_data(matrix_file)\n",
    "genetic_data.head()"
   ],
   "metadata": {
    "collapsed": false,
    "ExecuteTime": {
     "end_time": "2024-01-10T05:27:05.586991704Z",
     "start_time": "2024-01-10T05:27:05.008382080Z"
    }
   }
  },
  {
   "cell_type": "code",
   "execution_count": 29,
   "outputs": [
    {
     "data": {
      "text/plain": "['cg00000029',\n 'cg00000108',\n 'cg00000109',\n 'cg00000165',\n 'cg00000236',\n 'cg00000289',\n 'cg00000292',\n 'cg00000321',\n 'cg00000363',\n 'cg00000622',\n 'cg00000658',\n 'cg00000714',\n 'cg00000721',\n 'cg00000734',\n 'cg00000769',\n 'cg00000807',\n 'cg00000884',\n 'cg00000905',\n 'cg00000924',\n 'cg00000948']"
     },
     "execution_count": 29,
     "metadata": {},
     "output_type": "execute_result"
    }
   ],
   "source": [
    "gene_row_ids = genetic_data.index[:20].tolist()\n",
    "gene_row_ids"
   ],
   "metadata": {
    "collapsed": false,
    "ExecuteTime": {
     "end_time": "2024-01-10T05:27:05.589390895Z",
     "start_time": "2024-01-10T05:27:05.587083628Z"
    }
   }
  },
  {
   "cell_type": "markdown",
   "source": [
    "Check if the gene dataset requires mapping to get the gene symbols corresponding to each data row."
   ],
   "metadata": {
    "collapsed": false,
    "ExecuteTime": {
     "end_time": "2023-12-31T03:30:41.595335164Z",
     "start_time": "2023-12-31T03:30:41.513232329Z"
    }
   },
   "outputs": [],
   "execution_count": 61
  },
  {
   "cell_type": "markdown",
   "source": [
    "Reference prompt:"
   ],
   "metadata": {
    "collapsed": false
   }
  },
  {
   "cell_type": "code",
   "execution_count": 30,
   "outputs": [
    {
     "data": {
      "text/plain": "\"\\nBelow are the row headers of a gene expression dataset in GEO. Based on your biomedical knowledge, are they human gene symbols, or are they some other identifiers that need to be mapped to gene symbols? Your answer should be concluded by starting a new line and strictly following this format:\\nrequires_gene_mapping = (True or False)\\n\\nRow headers:\\n['cg00000029', 'cg00000108', 'cg00000109', 'cg00000165', 'cg00000236', 'cg00000289', 'cg00000292', 'cg00000321', 'cg00000363', 'cg00000622', 'cg00000658', 'cg00000714', 'cg00000721', 'cg00000734', 'cg00000769', 'cg00000807', 'cg00000884', 'cg00000905', 'cg00000924', 'cg00000948']\\n\""
     },
     "execution_count": 30,
     "metadata": {},
     "output_type": "execute_result"
    }
   ],
   "source": [
    "f'''\n",
    "Below are the row headers of a gene expression dataset in GEO. Based on your biomedical knowledge, are they human gene symbols, or are they some other identifiers that need to be mapped to gene symbols? Your answer should be concluded by starting a new line and strictly following this format:\n",
    "requires_gene_mapping = (True or False)\n",
    "\n",
    "Row headers:\n",
    "{gene_row_ids}\n",
    "'''"
   ],
   "metadata": {
    "collapsed": false,
    "ExecuteTime": {
     "end_time": "2024-01-10T05:27:06.024568506Z",
     "start_time": "2024-01-10T05:27:06.012989458Z"
    }
   }
  },
  {
   "cell_type": "markdown",
   "source": [
    "If not required, jump directly to the gene normalization step"
   ],
   "metadata": {
    "collapsed": false
   }
  },
  {
   "cell_type": "code",
   "execution_count": 31,
   "outputs": [],
   "source": [
    "requires_gene_mapping = True"
   ],
   "metadata": {
    "collapsed": false,
    "ExecuteTime": {
     "end_time": "2024-01-10T05:27:06.730298495Z",
     "start_time": "2024-01-10T05:27:06.723674445Z"
    }
   }
  },
  {
   "cell_type": "code",
   "execution_count": 32,
   "outputs": [
    {
     "name": "stdout",
     "output_type": "stream",
     "text": [
      "{'ID': ['cg00035864', 'cg00050873', 'cg00061679', 'cg00063477', 'cg00121626'], 'Name': ['cg00035864', 'cg00050873', 'cg00061679', 'cg00063477', 'cg00121626'], 'AddressA_ID': ['31729416', '32735311', '28780415', '16712347', '19779393'], 'AlleleA_ProbeSeq': ['AAAACACTAACAATCTTATCCACATAAACCCTTAAATTTATCTCAAATTC', 'ACAAAAAAACAACACACAACTATAATAATTTTTAAAATAAATAAACCCCA', 'AAAACATTAAAAAACTAATTCACTACTATTTAATTACTTTATTTTCCATC', 'TATTCTTCCACACAAAATACTAAACRTATATTTACAAAAATACTTCCATC', 'AAAACTAATAAAAATAACTTACAAACCAAATACTATACCCTACAACTCTC'], 'AddressB_ID': [nan, '31717405', nan, nan, nan], 'AlleleB_ProbeSeq': [nan, 'ACGAAAAAACAACGCACAACTATAATAATTTTTAAAATAAATAAACCCCG', nan, nan, nan], 'Infinium_Design_Type': ['II', 'I', 'II', 'II', 'II'], 'Next_Base': [nan, 'A', nan, nan, nan], 'Color_Channel': [nan, 'Red', nan, nan, nan], 'Forward_Sequence': ['AATCCAAAGATGATGGAGGAGTGCCCGCTCATGATGTGAAGTACCTGCTCAGCTGGAAAC[CG]AATTTGAGATAAATTCAAGGGTCTATGTGGACAAGACTGCTAGTGTCTCTCTCTGGATTG', 'TATCTCTGTCTGGCGAGGAGGCAACGCACAACTGTGGTGGTTTTTGGAGTGGGTGGACCC[CG]GCCAAGACGGCCTGGGCTGACCAGAGACGGGAGGCAGAAAAAGTGGGCAGGTGGTTGCAG', 'TCAACAAATGAGAGACATTGAAGAACTAATTCACTACTATTTGGTTACTTTATTTTCCAT[CG]AAGAAAACCTCTTTTTAAAAACTAACACATAAATAAAATGAACGAAGAACAAACTAAACG', 'CTCCTGTACTTGTTCATTAAATAATGATTCCTTGGATATACCAAGTCTGGATAGCGGATT[CG]ATGGAAGCATTTTTGTAAATATACGTTCAGTATTTTGTGTGGAAGAACACAATCTAGCTG', 'AGGTGAATGAAGAGACTAATGGGAGTGGCTTGCAAGCCAGGTACTGTGCCCTACAACTCT[CG]CGCTGCCACAAAAAGCCAATTAACGAAGCAAACTGTTTTATCTTTTCCTCTCCCCAGAAG'], 'Genome_Build': [37.0, 37.0, 37.0, 37.0, 37.0], 'CHR': ['Y', 'Y', 'Y', 'Y', 'Y'], 'MAPINFO': [8553009.0, 9363356.0, 25314171.0, 22741795.0, 21664296.0], 'SourceSeq': ['AGACACTAGCAGTCTTGTCCACATAGACCCTTGAATTTATCTCAAATTCG', 'CGGGGTCCACCCACTCCAAAAACCACCACAGTTGTGCGTTGCCTCCTCGC', 'CGATGGAAAATAAAGTAACCAAATAGTAGTGAATTAGTTCTTCAATGTCT', 'CGATGGAAGCATTTTTGTAAATATACGTTCAGTATTTTGTGTGGAAGAAC', 'AGACTAATGGGAGTGGCTTGCAAGCCAGGTACTGTGCCCTACAACTCTCG'], 'Chromosome_36': ['Y', 'Y', 'Y', 'Y', 'Y'], 'Coordinate_36': ['8613009', '9973356', '23723559', '21151183', '20123684'], 'Strand': ['F', 'R', 'R', 'F', 'R'], 'Probe_SNPs': [nan, nan, nan, 'rs9341313', nan], 'Probe_SNPs_10': [nan, nan, nan, 'rs13447379', nan], 'Random_Loci': [nan, nan, nan, nan, nan], 'Methyl27_Loci': [nan, nan, nan, nan, nan], 'UCSC_RefGene_Name': ['TTTY18', 'TSPY4;FAM197Y2', 'DAZ1;DAZ4;DAZ4', 'EIF1AY', 'BCORL2'], 'UCSC_RefGene_Accession': ['NR_001550', 'NM_001164471;NR_001553', 'NM_004081;NM_020420;NM_001005375', 'NM_004681', 'NR_002923'], 'UCSC_RefGene_Group': ['TSS1500', 'Body;TSS1500', 'Body;Body;Body', 'Body', 'Body'], 'UCSC_CpG_Islands_Name': [nan, 'chrY:9363680-9363943', nan, 'chrY:22737825-22738052', 'chrY:21664481-21665063'], 'Relation_to_UCSC_CpG_Island': [nan, 'N_Shore', nan, 'S_Shelf', 'N_Shore'], 'Phantom': [nan, nan, nan, nan, nan], 'DMR': [nan, nan, nan, nan, nan], 'Enhancer': [nan, nan, nan, nan, nan], 'HMM_Island': [nan, 'Y:9973136-9976273', nan, nan, nan], 'Regulatory_Feature_Name': [nan, nan, nan, nan, nan], 'Regulatory_Feature_Group': [nan, nan, nan, nan, nan], 'DHS': [nan, nan, nan, nan, nan], 'RANGE_START': [8553009.0, 9363356.0, 25314171.0, 22741795.0, 21664296.0], 'RANGE_END': [8553132.0, 9363479.0, 25314294.0, 22741918.0, 21664419.0], 'RANGE_GB': ['NC_000024.9', 'NC_000024.9', 'NC_000024.9', 'NC_000024.9', 'NC_000024.9'], 'SPOT_ID': [nan, nan, nan, nan, nan]}\n"
     ]
    }
   ],
   "source": [
    "if requires_gene_mapping:\n",
    "    gene_annotation = get_gene_annotation(soft_file)\n",
    "    gene_annotation_summary = preview_df(gene_annotation)\n",
    "    print(gene_annotation_summary)"
   ],
   "metadata": {
    "collapsed": false,
    "ExecuteTime": {
     "end_time": "2024-01-10T05:27:30.759644004Z",
     "start_time": "2024-01-10T05:27:07.060170335Z"
    }
   }
  },
  {
   "cell_type": "markdown",
   "source": [
    "Observe the first few cells in the ID column of the gene annotation dataframe, to find the names of columns that store the gene probe IDs and gene symbols respectively.\n",
    "Reference prompt:"
   ],
   "metadata": {
    "collapsed": false,
    "ExecuteTime": {
     "end_time": "2023-12-31T03:58:04.978931927Z",
     "start_time": "2023-12-31T03:58:04.966328339Z"
    }
   },
   "outputs": [],
   "execution_count": 39
  },
  {
   "cell_type": "code",
   "execution_count": 33,
   "outputs": [
    {
     "name": "stdout",
     "output_type": "stream",
     "text": [
      "\n",
      "    As a biomedical research team, we are analyzing a gene expression dataset, and find that its row headers are some identifiers related to genes:\n",
      "    ['cg00000029', 'cg00000108', 'cg00000109', 'cg00000165', 'cg00000236', 'cg00000289', 'cg00000292', 'cg00000321', 'cg00000363', 'cg00000622', 'cg00000658', 'cg00000714', 'cg00000721', 'cg00000734', 'cg00000769', 'cg00000807', 'cg00000884', 'cg00000905', 'cg00000924', 'cg00000948']\n",
      "    To get the mapping from those identifiers to actual gene symbols, we extracted the gene annotation data from a series in the GEO database, and saved it to a Python dictionary. Please read the dictionary, and decide which key stores the identifiers, and which key stores the gene symbols. Please strictly follow this format in your answer:\n",
      "    identifier_key = key_name1\n",
      "    gene_symbol_key = key_name2\n",
      "\n",
      "    Gene annotation dictionary:\n",
      "    {'ID': ['cg00035864', 'cg00050873', 'cg00061679', 'cg00063477', 'cg00121626'], 'Name': ['cg00035864', 'cg00050873', 'cg00061679', 'cg00063477', 'cg00121626'], 'AddressA_ID': ['31729416', '32735311', '28780415', '16712347', '19779393'], 'AlleleA_ProbeSeq': ['AAAACACTAACAATCTTATCCACATAAACCCTTAAATTTATCTCAAATTC', 'ACAAAAAAACAACACACAACTATAATAATTTTTAAAATAAATAAACCCCA', 'AAAACATTAAAAAACTAATTCACTACTATTTAATTACTTTATTTTCCATC', 'TATTCTTCCACACAAAATACTAAACRTATATTTACAAAAATACTTCCATC', 'AAAACTAATAAAAATAACTTACAAACCAAATACTATACCCTACAACTCTC'], 'AddressB_ID': [nan, '31717405', nan, nan, nan], 'AlleleB_ProbeSeq': [nan, 'ACGAAAAAACAACGCACAACTATAATAATTTTTAAAATAAATAAACCCCG', nan, nan, nan], 'Infinium_Design_Type': ['II', 'I', 'II', 'II', 'II'], 'Next_Base': [nan, 'A', nan, nan, nan], 'Color_Channel': [nan, 'Red', nan, nan, nan], 'Forward_Sequence': ['AATCCAAAGATGATGGAGGAGTGCCCGCTCATGATGTGAAGTACCTGCTCAGCTGGAAAC[CG]AATTTGAGATAAATTCAAGGGTCTATGTGGACAAGACTGCTAGTGTCTCTCTCTGGATTG', 'TATCTCTGTCTGGCGAGGAGGCAACGCACAACTGTGGTGGTTTTTGGAGTGGGTGGACCC[CG]GCCAAGACGGCCTGGGCTGACCAGAGACGGGAGGCAGAAAAAGTGGGCAGGTGGTTGCAG', 'TCAACAAATGAGAGACATTGAAGAACTAATTCACTACTATTTGGTTACTTTATTTTCCAT[CG]AAGAAAACCTCTTTTTAAAAACTAACACATAAATAAAATGAACGAAGAACAAACTAAACG', 'CTCCTGTACTTGTTCATTAAATAATGATTCCTTGGATATACCAAGTCTGGATAGCGGATT[CG]ATGGAAGCATTTTTGTAAATATACGTTCAGTATTTTGTGTGGAAGAACACAATCTAGCTG', 'AGGTGAATGAAGAGACTAATGGGAGTGGCTTGCAAGCCAGGTACTGTGCCCTACAACTCT[CG]CGCTGCCACAAAAAGCCAATTAACGAAGCAAACTGTTTTATCTTTTCCTCTCCCCAGAAG'], 'Genome_Build': [37.0, 37.0, 37.0, 37.0, 37.0], 'CHR': ['Y', 'Y', 'Y', 'Y', 'Y'], 'MAPINFO': [8553009.0, 9363356.0, 25314171.0, 22741795.0, 21664296.0], 'SourceSeq': ['AGACACTAGCAGTCTTGTCCACATAGACCCTTGAATTTATCTCAAATTCG', 'CGGGGTCCACCCACTCCAAAAACCACCACAGTTGTGCGTTGCCTCCTCGC', 'CGATGGAAAATAAAGTAACCAAATAGTAGTGAATTAGTTCTTCAATGTCT', 'CGATGGAAGCATTTTTGTAAATATACGTTCAGTATTTTGTGTGGAAGAAC', 'AGACTAATGGGAGTGGCTTGCAAGCCAGGTACTGTGCCCTACAACTCTCG'], 'Chromosome_36': ['Y', 'Y', 'Y', 'Y', 'Y'], 'Coordinate_36': ['8613009', '9973356', '23723559', '21151183', '20123684'], 'Strand': ['F', 'R', 'R', 'F', 'R'], 'Probe_SNPs': [nan, nan, nan, 'rs9341313', nan], 'Probe_SNPs_10': [nan, nan, nan, 'rs13447379', nan], 'Random_Loci': [nan, nan, nan, nan, nan], 'Methyl27_Loci': [nan, nan, nan, nan, nan], 'UCSC_RefGene_Name': ['TTTY18', 'TSPY4;FAM197Y2', 'DAZ1;DAZ4;DAZ4', 'EIF1AY', 'BCORL2'], 'UCSC_RefGene_Accession': ['NR_001550', 'NM_001164471;NR_001553', 'NM_004081;NM_020420;NM_001005375', 'NM_004681', 'NR_002923'], 'UCSC_RefGene_Group': ['TSS1500', 'Body;TSS1500', 'Body;Body;Body', 'Body', 'Body'], 'UCSC_CpG_Islands_Name': [nan, 'chrY:9363680-9363943', nan, 'chrY:22737825-22738052', 'chrY:21664481-21665063'], 'Relation_to_UCSC_CpG_Island': [nan, 'N_Shore', nan, 'S_Shelf', 'N_Shore'], 'Phantom': [nan, nan, nan, nan, nan], 'DMR': [nan, nan, nan, nan, nan], 'Enhancer': [nan, nan, nan, nan, nan], 'HMM_Island': [nan, 'Y:9973136-9976273', nan, nan, nan], 'Regulatory_Feature_Name': [nan, nan, nan, nan, nan], 'Regulatory_Feature_Group': [nan, nan, nan, nan, nan], 'DHS': [nan, nan, nan, nan, nan], 'RANGE_START': [8553009.0, 9363356.0, 25314171.0, 22741795.0, 21664296.0], 'RANGE_END': [8553132.0, 9363479.0, 25314294.0, 22741918.0, 21664419.0], 'RANGE_GB': ['NC_000024.9', 'NC_000024.9', 'NC_000024.9', 'NC_000024.9', 'NC_000024.9'], 'SPOT_ID': [nan, nan, nan, nan, nan]}\n",
      "    \n"
     ]
    }
   ],
   "source": [
    "if requires_gene_mapping:\n",
    "    print(f'''\n",
    "    As a biomedical research team, we are analyzing a gene expression dataset, and find that its row headers are some identifiers related to genes:\n",
    "    {gene_row_ids}\n",
    "    To get the mapping from those identifiers to actual gene symbols, we extracted the gene annotation data from a series in the GEO database, and saved it to a Python dictionary. Please read the dictionary, and decide which key stores the identifiers, and which key stores the gene symbols. Please strictly follow this format in your answer:\n",
    "    identifier_key = key_name1\n",
    "    gene_symbol_key = key_name2\n",
    "\n",
    "    Gene annotation dictionary:\n",
    "    {gene_annotation_summary}\n",
    "    ''')"
   ],
   "metadata": {
    "collapsed": false,
    "ExecuteTime": {
     "end_time": "2024-01-10T05:27:30.824043629Z",
     "start_time": "2024-01-10T05:27:30.758745732Z"
    }
   }
  },
  {
   "cell_type": "code",
   "execution_count": 34,
   "outputs": [],
   "source": [
    "if requires_gene_mapping:\n",
    "    identifier_key = 'ID'\n",
    "    gene_symbol_key = 'UCSC_RefGene_Name'\n",
    "    gene_mapping = get_gene_mapping(gene_annotation, identifier_key, gene_symbol_key)\n",
    "    genetic_data = apply_gene_mapping(genetic_data, gene_mapping)"
   ],
   "metadata": {
    "collapsed": false,
    "ExecuteTime": {
     "end_time": "2024-01-10T05:27:32.551760866Z",
     "start_time": "2024-01-10T05:27:30.800899019Z"
    }
   }
  },
  {
   "cell_type": "code",
   "execution_count": 35,
   "outputs": [
    {
     "name": "stderr",
     "output_type": "stream",
     "text": [
      "15 input query terms found dup hits:\t[('ABCC13', 2), ('ABCC6P1', 2), ('ABCC6P2', 3), ('ADAM6', 3), ('AGAP11', 2), ('ALOX12P2', 2), ('ANKR\n",
      "71 input query terms found no hit:\t['A2BP1', 'A2LD1', 'AACSL', 'AARS', 'ABP1', 'ACCN1', 'ACCN2', 'ACCN3', 'ACCN4', 'ACCN5', 'ACN9', 'AC\n",
      "6 input query terms found dup hits:\t[('ATP6AP1L', 2), ('ATXN8OS', 2), ('BAGE2', 2), ('BMS1P1', 2), ('BMS1P4', 2), ('BRD7P3', 2)]\n",
      "365 input query terms found no hit:\t['ARNTL2', 'ARPM1', 'ARPP-21', 'ARSE', 'ASAM', 'ASAP1IT1', 'ASFMR1', 'ASNA1', 'ATHL1', 'ATP5A1', 'AT\n",
      "3 input query terms found dup hits:\t[('C2orf83', 2), ('C3P1', 2), ('C5orf60', 2)]\n",
      "642 input query terms found no hit:\t['C17orf56', 'C17orf57', 'C17orf59', 'C17orf60', 'C17orf61', 'C17orf62', 'C17orf63', 'C17orf64', 'C1\n",
      "9 input query terms found dup hits:\t[('CATSPER2P1', 2), ('CCDC144NL', 2), ('CCT6P1', 2), ('CDR1', 2), ('CECR7', 2), ('CELP', 2), ('CHKB-\n",
      "101 input query terms found no hit:\t['CBARA1', 'CBWD1', 'CBWD2', 'CBWD3', 'CBWD5', 'CBWD6', 'CCBL1', 'CCBL2', 'CCBP2', 'CCDC101', 'CCDC1\n",
      "9 input query terms found dup hits:\t[('COL6A4P2', 2), ('CXADRP2', 3), ('CXADRP3', 2), ('CYP4Z2P', 2), ('DEFB122', 2), ('DHRS4L1', 3), ('\n",
      "94 input query terms found no hit:\t['COL29A1', 'COL4A3BP', 'COPG', 'COX4NB', 'CP110', 'CPSF3L', 'CRAMP1L', 'CRIPAK', 'CROCCL1', 'CROCCL\n",
      "12 input query terms found dup hits:\t[('DNM1P35', 2), ('DPRXP4', 3), ('DPY19L2P1', 2), ('DPY19L2P2', 3), ('DPY19L2P4', 2), ('ECEL1P2', 2)\n",
      "151 input query terms found no hit:\t['DOM3Z', 'DOPEY1', 'DOPEY2', 'DPCR1', 'DPH3B', 'DSCR3', 'DSCR6', 'DULLARD', 'DUPD1', 'DUS2L', 'DUSP\n",
      "15 input query terms found dup hits:\t[('FAM27B', 2), ('FAM66A', 2), ('FAM66B', 3), ('FAM66C', 2), ('FAM66D', 2), ('FAM74A3', 2), ('FCGR2C\n",
      "196 input query terms found no hit:\t['FAM21A', 'FAM21B', 'FAM21C', 'FAM22A', 'FAM22D', 'FAM22F', 'FAM22G', 'FAM23A', 'FAM25B', 'FAM26D',\n",
      "13 input query terms found dup hits:\t[('GLRA4', 2), ('GTF2IP1', 2), ('HAR1A', 2), ('HBBP1', 2), ('HBD', 2), ('HCG4', 9), ('HERC2P2', 3), \n",
      "189 input query terms found no hit:\t['GIYD1', 'GIYD2', 'GK3P', 'GLT25D1', 'GLT25D2', 'GLTPD1', 'GLTSCR1', 'GLTSCR2', 'GMCL1L', 'GNASAS',\n",
      "7 input query terms found dup hits:\t[('HSD17B7P2', 2), ('HSP90AB2P', 2), ('HSP90AB4P', 2), ('HSP90B3P', 2), ('HSPA7', 2), ('ID2B', 2), (\n",
      "162 input query terms found no hit:\t['HPVC1', 'HRASLS', 'HRASLS2', 'HRASLS5', 'HRNBP3', 'HRSP12', 'HSFYP1', 'HSN2', 'HSPB11', 'HSPC072',\n",
      "3 input query terms found dup hits:\t[('KIR3DP1', 10), ('KIR3DX1', 5), ('KLKP1', 2)]\n",
      "362 input query terms found no hit:\t['KIAA1967', 'KIAA1984', 'KIAA2018', 'KIAA2022', 'KIAA2026', 'KILLIN', 'KIRREL', 'KLHDC5', 'KLKBL4',\n",
      "7 input query terms found dup hits:\t[('LPAL2', 2), ('LRP5L', 2), ('LY6G6E', 8), ('LYPLA2P1', 6), ('MALAT1', 2), ('MEG8', 2), ('MEIS3P1',\n",
      "300 input query terms found no hit:\t['LOC388955', 'LOC388965', 'LOC389033', 'LOC389332', 'LOC389333', 'LOC389458', 'LOC389493', 'LOC3896\n",
      "18 input query terms found dup hits:\t[('MIR320A', 2), ('MIR320B1', 2), ('MIR320B2', 2), ('MIR320C1', 2), ('MIR320C2', 2), ('MIR320D1', 2)\n",
      "83 input query terms found no hit:\t['MINA', 'MIR103-1', 'MIR103-1AS', 'MIR103-2', 'MIR103-2AS', 'MIR1201', 'MIR1259', 'MIR1260', 'MIR12\n",
      "10 input query terms found dup hits:\t[('MYH16', 2), ('NAPSB', 2), ('NAT8B', 3), ('NBPF22P', 2), ('NCF1B', 2), ('NF1P1', 2), ('NME2P1', 2)\n",
      "111 input query terms found no hit:\t['MTP18', 'MTSS1L', 'MUDENG', 'MUM1', 'MUM1L1', 'MUPCDH', 'MURC', 'MUT', 'MUTED', 'MYCL1', 'MYEOV2',\n",
      "13 input query terms found dup hits:\t[('OR10J3', 3), ('OR5E1P', 4), ('OR6W1P', 3), ('OR7E156P', 2), ('OR7E37P', 2), ('OR7E5P', 2), ('OR7E\n",
      "50 input query terms found no hit:\t['OR2W5', 'OR3A4', 'OR52A4', 'OR5R1', 'OR8G2', 'ORAOV1', 'ORC1L', 'ORC2L', 'ORC3L', 'ORC4L', 'ORC5L'\n",
      "16 input query terms found dup hits:\t[('PI4KAP1', 2), ('PI4KAP2', 2), ('PIPSL', 2), ('PLGLA', 2), ('PMCHL1', 2), ('PMS2CL', 2), ('POLR2J3\n",
      "73 input query terms found no hit:\t['PIN1L', 'PION', 'PKM2', 'PL-5283', 'PLA2G16', 'PLAC1L', 'PLAC2', 'PLDN', 'PLEC1', 'PLEKHA9', 'PLEK\n",
      "31 input query terms found dup hits:\t[('PTTG3P', 2), ('PVT1', 2), ('PYY2', 2), ('RAET1K', 2), ('RBMY1A3P', 3), ('RBMY2FP', 2), ('REXO1L2P\n",
      "57 input query terms found no hit:\t['PTPN20A', 'PTPN20B', 'PTPRV', 'PTRF', 'PVRL1', 'PVRL2', 'PVRL3', 'PVRL4', 'PXMP3', 'PYCRL', 'ProSA\n",
      "10 input query terms found dup hits:\t[('S100A7L2', 2), ('SAA3P', 2), ('SCARNA17', 2), ('SCARNA4', 2), ('SDC4P', 2), ('SDHAP1', 2), ('SDHA\n",
      "86 input query terms found no hit:\t['RRP7B', 'RTCD1', 'RTDR1', 'RUNDC2A', 'RUNDC2C', 'RWDD4A', 'SAPS1', 'SAPS2', 'SAPS3', 'SARS', 'SBDS\n",
      "85 input query terms found dup hits:\t[('SLC6A10P', 2), ('SLC7A5P1', 2), ('SLC7A5P2', 2), ('SNHG5', 2), ('SNHG6', 2), ('SNHG8', 2), ('SNHG\n",
      "50 input query terms found no hit:\t['SLC9A10', 'SLC9A11', 'SLC9A3R1', 'SLC9A3R2', 'SLMO1', 'SLMO2', 'SMAD5OS', 'SMCR7', 'SMCR7L', 'SMEK\n",
      "14 input query terms found dup hits:\t[('STAG3L1', 2), ('STAG3L2', 2), ('STAG3L3', 2), ('STAG3L4', 2), ('SUGT1P1', 2), ('SUMO1P1', 2), ('S\n",
      "76 input query terms found no hit:\t['ST5', 'ST7OT1', 'ST7OT2', 'ST7OT3', 'ST7OT4', 'STL', 'STRA13', 'SUGT1L1', 'SUNC1', 'SUV420H1', 'SU\n",
      "13 input query terms found dup hits:\t[('TNXA', 5), ('TOP1P1', 2), ('TP53TG1', 2), ('TRIM16L', 2), ('TRPC2', 2), ('TSNAX-DISC1', 2), ('TTT\n",
      "65 input query terms found no hit:\t['TMEM55A', 'TMEM55B', 'TMEM56', 'TMEM57', 'TMEM66', 'TMEM84', 'TMEM85', 'TMEM8A', 'TMEM8C', 'TMEM90\n",
      "6 input query terms found dup hits:\t[('VENTXP7', 2), ('WASH2P', 2), ('WASH3P', 3), ('ZFP91-CNTF', 2), ('ZNF204P', 2), ('ZNF286B', 2)]\n",
      "86 input query terms found no hit:\t['VARS', 'VNN3', 'VPRBP', 'VPS24', 'WAPAL', 'WARS', 'WBP5', 'WBSCR16', 'WBSCR17', 'WBSCR22', 'WBSCR2\n",
      "2 input query terms found dup hits:\t[('ZNF781', 2), ('ZNF876P', 2)]\n",
      "14 input query terms found no hit:\t['ZNF673', 'ZNF720', 'ZNF767', 'ZNF788', 'ZNF815', 'ZNF816A', 'ZNF826', 'ZNF828', 'ZNF833', 'ZNRD1',\n"
     ]
    }
   ],
   "source": [
    "if NORMALIZE_GENE:\n",
    "    genetic_data = normalize_gene_symbols_in_index(genetic_data)"
   ],
   "metadata": {
    "collapsed": false,
    "ExecuteTime": {
     "end_time": "2024-01-10T05:28:21.399168678Z",
     "start_time": "2024-01-10T05:27:32.553863937Z"
    }
   }
  },
  {
   "cell_type": "code",
   "execution_count": 36,
   "outputs": [],
   "source": [
    "merged_data = geo_merge_clinical_genetic_data(selected_clinical_data, genetic_data)\n",
    "# The preprocessing runs through, which means is_available should be True\n",
    "is_available = True"
   ],
   "metadata": {
    "collapsed": false,
    "ExecuteTime": {
     "end_time": "2024-01-10T05:28:21.406772064Z",
     "start_time": "2024-01-10T05:28:21.401534813Z"
    }
   }
  },
  {
   "cell_type": "code",
   "execution_count": 37,
   "outputs": [
    {
     "name": "stdout",
     "output_type": "stream",
     "text": [
      "The merged dataset contains 15 samples.\n"
     ]
    }
   ],
   "source": [
    "print(f\"The merged dataset contains {len(merged_data)} samples.\")"
   ],
   "metadata": {
    "collapsed": false,
    "ExecuteTime": {
     "end_time": "2024-01-10T05:28:21.445755113Z",
     "start_time": "2024-01-10T05:28:21.409008464Z"
    }
   }
  },
  {
   "cell_type": "code",
   "execution_count": 38,
   "outputs": [
    {
     "name": "stdout",
     "output_type": "stream",
     "text": [
      "For the feature 'Epilepsy', the least common label is '1.0' with 6 occurrences. This represents 40.00% of the dataset.\n",
      "The distribution of the feature 'Epilepsy' in this dataset is fine.\n",
      "\n",
      "Quartiles for 'Age':\n",
      "  25%: 24.5\n",
      "  50% (Median): 39.0\n",
      "  75%: 60.5\n",
      "Min: 13.0\n",
      "Max: 77.0\n",
      "The distribution of the feature 'Age' in this dataset is fine.\n",
      "\n",
      "For the feature 'Gender', the least common label is '0.0' with 5 occurrences. This represents 33.33% of the dataset.\n",
      "The distribution of the feature 'Gender' in this dataset is fine.\n",
      "\n"
     ]
    },
    {
     "data": {
      "text/plain": "False"
     },
     "execution_count": 38,
     "metadata": {},
     "output_type": "execute_result"
    }
   ],
   "source": [
    "is_trait_biased, merged_data = judge_and_remove_biased_features(merged_data, TRAIT, trait_type=trait_type)\n",
    "is_trait_biased"
   ],
   "metadata": {
    "collapsed": false,
    "ExecuteTime": {
     "end_time": "2024-01-10T05:28:21.446233424Z",
     "start_time": "2024-01-10T05:28:21.411493814Z"
    }
   }
  },
  {
   "cell_type": "code",
   "execution_count": 39,
   "outputs": [],
   "source": [
    "if is_available:\n",
    "    save_cohort_info(cohort, JSON_PATH, is_available, is_trait_biased, merged_data, note='')\n",
    "else:\n",
    "    save_cohort_info(cohort, JSON_PATH, is_available)"
   ],
   "metadata": {
    "collapsed": false,
    "ExecuteTime": {
     "end_time": "2024-01-10T05:28:21.464787529Z",
     "start_time": "2024-01-10T05:28:21.422841320Z"
    }
   }
  },
  {
   "cell_type": "code",
   "execution_count": 40,
   "outputs": [],
   "source": [
    "merged_data.head()\n",
    "if not is_trait_biased:\n",
    "    merged_data.to_csv(os.path.join(OUTPUT_DIR, cohort + '.csv'), index=False)"
   ],
   "metadata": {
    "collapsed": false,
    "ExecuteTime": {
     "end_time": "2024-01-10T05:28:21.626579883Z",
     "start_time": "2024-01-10T05:28:21.464867579Z"
    }
   }
  },
  {
   "cell_type": "markdown",
   "source": [
    "### 3. Do regression & Cross Validation"
   ],
   "metadata": {
    "id": "-MTPhRGxJV7I",
    "ExecuteTime": {
     "end_time": "2023-12-31T03:58:22.271683755Z",
     "start_time": "2023-12-31T03:58:22.246557674Z"
    }
   },
   "outputs": [
    {
     "data": {
      "text/plain": "   cohort_id  is_usable  is_available is_biased has_age has_gender  \\\n0       Xena       True          True     False    True       True   \n3  GSE248830       True          True     False    True       True   \n\n   sample_size note  \n0       1215.0       \n3         38.0       ",
      "text/html": "<div>\n<style scoped>\n    .dataframe tbody tr th:only-of-type {\n        vertical-align: middle;\n    }\n\n    .dataframe tbody tr th {\n        vertical-align: top;\n    }\n\n    .dataframe thead th {\n        text-align: right;\n    }\n</style>\n<table border=\"1\" class=\"dataframe\">\n  <thead>\n    <tr style=\"text-align: right;\">\n      <th></th>\n      <th>cohort_id</th>\n      <th>is_usable</th>\n      <th>is_available</th>\n      <th>is_biased</th>\n      <th>has_age</th>\n      <th>has_gender</th>\n      <th>sample_size</th>\n      <th>note</th>\n    </tr>\n  </thead>\n  <tbody>\n    <tr>\n      <th>0</th>\n      <td>Xena</td>\n      <td>True</td>\n      <td>True</td>\n      <td>False</td>\n      <td>True</td>\n      <td>True</td>\n      <td>1215.0</td>\n      <td></td>\n    </tr>\n    <tr>\n      <th>3</th>\n      <td>GSE248830</td>\n      <td>True</td>\n      <td>True</td>\n      <td>False</td>\n      <td>True</td>\n      <td>True</td>\n      <td>38.0</td>\n      <td></td>\n    </tr>\n  </tbody>\n</table>\n</div>"
     },
     "execution_count": 48,
     "metadata": {},
     "output_type": "execute_result"
    }
   ],
   "execution_count": 48
  },
  {
   "cell_type": "code",
   "execution_count": 41,
   "outputs": [
    {
     "data": {
      "text/plain": "   cohort_id  is_usable  is_available  is_biased  has_age  has_gender  \\\n0  GSE205661       True          True      False     True        True   \n\n   sample_size note  \n0           15       ",
      "text/html": "<div>\n<style scoped>\n    .dataframe tbody tr th:only-of-type {\n        vertical-align: middle;\n    }\n\n    .dataframe tbody tr th {\n        vertical-align: top;\n    }\n\n    .dataframe thead th {\n        text-align: right;\n    }\n</style>\n<table border=\"1\" class=\"dataframe\">\n  <thead>\n    <tr style=\"text-align: right;\">\n      <th></th>\n      <th>cohort_id</th>\n      <th>is_usable</th>\n      <th>is_available</th>\n      <th>is_biased</th>\n      <th>has_age</th>\n      <th>has_gender</th>\n      <th>sample_size</th>\n      <th>note</th>\n    </tr>\n  </thead>\n  <tbody>\n    <tr>\n      <th>0</th>\n      <td>GSE205661</td>\n      <td>True</td>\n      <td>True</td>\n      <td>False</td>\n      <td>True</td>\n      <td>True</td>\n      <td>15</td>\n      <td></td>\n    </tr>\n  </tbody>\n</table>\n</div>"
     },
     "execution_count": 41,
     "metadata": {},
     "output_type": "execute_result"
    }
   ],
   "source": [
    "# Check the information of usable cohorts\n",
    "best_cohort, ranked_df = filter_and_rank_cohorts(JSON_PATH, 'has_age')\n",
    "ranked_df"
   ],
   "metadata": {
    "collapsed": false,
    "ExecuteTime": {
     "end_time": "2024-01-10T05:28:21.669801293Z",
     "start_time": "2024-01-10T05:28:21.627397272Z"
    }
   }
  },
  {
   "cell_type": "code",
   "execution_count": 42,
   "outputs": [
    {
     "data": {
      "text/plain": "'GSE205661'"
     },
     "execution_count": 42,
     "metadata": {},
     "output_type": "execute_result"
    }
   ],
   "source": [
    "# If both age and gender have available cohorts, select 'age' as the condition.\n",
    "condition = 'Age'\n",
    "filter_column = 'has_' + condition.lower()\n",
    "\n",
    "condition_best_cohort, condition_ranked_df = filter_and_rank_cohorts(JSON_PATH, filter_column)\n",
    "condition_best_cohort"
   ],
   "metadata": {
    "collapsed": false,
    "ExecuteTime": {
     "end_time": "2024-01-10T05:28:21.669891663Z",
     "start_time": "2024-01-10T05:28:21.668808244Z"
    }
   }
  },
  {
   "cell_type": "code",
   "execution_count": 43,
   "outputs": [
    {
     "data": {
      "text/plain": "   cohort_id  is_usable  is_available  is_biased  has_age  has_gender  \\\n0  GSE205661       True          True      False     True        True   \n\n   sample_size note  \n0           15       ",
      "text/html": "<div>\n<style scoped>\n    .dataframe tbody tr th:only-of-type {\n        vertical-align: middle;\n    }\n\n    .dataframe tbody tr th {\n        vertical-align: top;\n    }\n\n    .dataframe thead th {\n        text-align: right;\n    }\n</style>\n<table border=\"1\" class=\"dataframe\">\n  <thead>\n    <tr style=\"text-align: right;\">\n      <th></th>\n      <th>cohort_id</th>\n      <th>is_usable</th>\n      <th>is_available</th>\n      <th>is_biased</th>\n      <th>has_age</th>\n      <th>has_gender</th>\n      <th>sample_size</th>\n      <th>note</th>\n    </tr>\n  </thead>\n  <tbody>\n    <tr>\n      <th>0</th>\n      <td>GSE205661</td>\n      <td>True</td>\n      <td>True</td>\n      <td>False</td>\n      <td>True</td>\n      <td>True</td>\n      <td>15</td>\n      <td></td>\n    </tr>\n  </tbody>\n</table>\n</div>"
     },
     "execution_count": 43,
     "metadata": {},
     "output_type": "execute_result"
    }
   ],
   "source": [
    "condition_ranked_df.head()"
   ],
   "metadata": {
    "collapsed": false,
    "ExecuteTime": {
     "end_time": "2024-01-10T05:28:21.669960874Z",
     "start_time": "2024-01-10T05:28:21.668879217Z"
    }
   }
  },
  {
   "cell_type": "code",
   "execution_count": 44,
   "outputs": [
    {
     "data": {
      "text/plain": "   Epilepsy   Age  Gender      A1BG      A1CF       A2M     A2ML1    A4GALT  \\\n0       1.0  23.0     0.0  0.498235  0.909286  0.803357  0.881167  0.454591   \n1       1.0  29.0     1.0  0.479765  0.900571  0.831571  0.874278  0.437136   \n2       1.0  37.0     1.0  0.490882  0.900000  0.814643  0.844056  0.437409   \n3       1.0  26.0     0.0  0.527765  0.900857  0.771929  0.903000  0.440500   \n4       1.0  16.0     0.0  0.485706  0.895857  0.776429  0.838000  0.438864   \n\n      A4GNT    AAA1  ...    ZWILCH     ZWINT      ZXDA    ZXDB      ZXDC  \\\n0  0.887167  0.9117  ...  0.201900  0.039643  0.460750  0.5251  0.332605   \n1  0.895333  0.9172  ...  0.208267  0.041286  0.236667  0.2783  0.323442   \n2  0.872500  0.9123  ...  0.202633  0.041214  0.229333  0.3173  0.331791   \n3  0.804333  0.8902  ...  0.187367  0.041000  0.448167  0.6069  0.332116   \n4  0.842500  0.8885  ...  0.197133  0.047000  0.398750  0.4872  0.325698   \n\n     ZYG11A    ZYG11B       ZYX     ZZEF1      ZZZ3  \n0  0.554000  0.519077  0.365947  0.522561  0.162056  \n1  0.559333  0.517308  0.375368  0.512585  0.139722  \n2  0.558600  0.508000  0.368316  0.517439  0.149056  \n3  0.560267  0.528846  0.317737  0.517293  0.157000  \n4  0.546733  0.519769  0.356000  0.514829  0.158444  \n\n[5 rows x 17833 columns]",
      "text/html": "<div>\n<style scoped>\n    .dataframe tbody tr th:only-of-type {\n        vertical-align: middle;\n    }\n\n    .dataframe tbody tr th {\n        vertical-align: top;\n    }\n\n    .dataframe thead th {\n        text-align: right;\n    }\n</style>\n<table border=\"1\" class=\"dataframe\">\n  <thead>\n    <tr style=\"text-align: right;\">\n      <th></th>\n      <th>Epilepsy</th>\n      <th>Age</th>\n      <th>Gender</th>\n      <th>A1BG</th>\n      <th>A1CF</th>\n      <th>A2M</th>\n      <th>A2ML1</th>\n      <th>A4GALT</th>\n      <th>A4GNT</th>\n      <th>AAA1</th>\n      <th>...</th>\n      <th>ZWILCH</th>\n      <th>ZWINT</th>\n      <th>ZXDA</th>\n      <th>ZXDB</th>\n      <th>ZXDC</th>\n      <th>ZYG11A</th>\n      <th>ZYG11B</th>\n      <th>ZYX</th>\n      <th>ZZEF1</th>\n      <th>ZZZ3</th>\n    </tr>\n  </thead>\n  <tbody>\n    <tr>\n      <th>0</th>\n      <td>1.0</td>\n      <td>23.0</td>\n      <td>0.0</td>\n      <td>0.498235</td>\n      <td>0.909286</td>\n      <td>0.803357</td>\n      <td>0.881167</td>\n      <td>0.454591</td>\n      <td>0.887167</td>\n      <td>0.9117</td>\n      <td>...</td>\n      <td>0.201900</td>\n      <td>0.039643</td>\n      <td>0.460750</td>\n      <td>0.5251</td>\n      <td>0.332605</td>\n      <td>0.554000</td>\n      <td>0.519077</td>\n      <td>0.365947</td>\n      <td>0.522561</td>\n      <td>0.162056</td>\n    </tr>\n    <tr>\n      <th>1</th>\n      <td>1.0</td>\n      <td>29.0</td>\n      <td>1.0</td>\n      <td>0.479765</td>\n      <td>0.900571</td>\n      <td>0.831571</td>\n      <td>0.874278</td>\n      <td>0.437136</td>\n      <td>0.895333</td>\n      <td>0.9172</td>\n      <td>...</td>\n      <td>0.208267</td>\n      <td>0.041286</td>\n      <td>0.236667</td>\n      <td>0.2783</td>\n      <td>0.323442</td>\n      <td>0.559333</td>\n      <td>0.517308</td>\n      <td>0.375368</td>\n      <td>0.512585</td>\n      <td>0.139722</td>\n    </tr>\n    <tr>\n      <th>2</th>\n      <td>1.0</td>\n      <td>37.0</td>\n      <td>1.0</td>\n      <td>0.490882</td>\n      <td>0.900000</td>\n      <td>0.814643</td>\n      <td>0.844056</td>\n      <td>0.437409</td>\n      <td>0.872500</td>\n      <td>0.9123</td>\n      <td>...</td>\n      <td>0.202633</td>\n      <td>0.041214</td>\n      <td>0.229333</td>\n      <td>0.3173</td>\n      <td>0.331791</td>\n      <td>0.558600</td>\n      <td>0.508000</td>\n      <td>0.368316</td>\n      <td>0.517439</td>\n      <td>0.149056</td>\n    </tr>\n    <tr>\n      <th>3</th>\n      <td>1.0</td>\n      <td>26.0</td>\n      <td>0.0</td>\n      <td>0.527765</td>\n      <td>0.900857</td>\n      <td>0.771929</td>\n      <td>0.903000</td>\n      <td>0.440500</td>\n      <td>0.804333</td>\n      <td>0.8902</td>\n      <td>...</td>\n      <td>0.187367</td>\n      <td>0.041000</td>\n      <td>0.448167</td>\n      <td>0.6069</td>\n      <td>0.332116</td>\n      <td>0.560267</td>\n      <td>0.528846</td>\n      <td>0.317737</td>\n      <td>0.517293</td>\n      <td>0.157000</td>\n    </tr>\n    <tr>\n      <th>4</th>\n      <td>1.0</td>\n      <td>16.0</td>\n      <td>0.0</td>\n      <td>0.485706</td>\n      <td>0.895857</td>\n      <td>0.776429</td>\n      <td>0.838000</td>\n      <td>0.438864</td>\n      <td>0.842500</td>\n      <td>0.8885</td>\n      <td>...</td>\n      <td>0.197133</td>\n      <td>0.047000</td>\n      <td>0.398750</td>\n      <td>0.4872</td>\n      <td>0.325698</td>\n      <td>0.546733</td>\n      <td>0.519769</td>\n      <td>0.356000</td>\n      <td>0.514829</td>\n      <td>0.158444</td>\n    </tr>\n  </tbody>\n</table>\n<p>5 rows × 17833 columns</p>\n</div>"
     },
     "execution_count": 44,
     "metadata": {},
     "output_type": "execute_result"
    }
   ],
   "source": [
    "merged_data = pd.read_csv(os.path.join(OUTPUT_DIR, condition_best_cohort + '.csv'))\n",
    "merged_data.head()"
   ],
   "metadata": {
    "collapsed": false,
    "ExecuteTime": {
     "end_time": "2024-01-10T05:28:21.950012414Z",
     "start_time": "2024-01-10T05:28:21.668938860Z"
    }
   }
  },
  {
   "cell_type": "code",
   "execution_count": 45,
   "outputs": [],
   "source": [
    "# Remove the other condition to prevent interference.\n",
    "merged_data = merged_data.drop(columns=['Gender'], errors='ignore').astype('float')\n",
    "\n",
    "X = merged_data.drop(columns=[TRAIT, condition]).values\n",
    "Y = merged_data[TRAIT].values\n",
    "Z = merged_data[condition].values"
   ],
   "metadata": {
    "collapsed": false,
    "ExecuteTime": {
     "end_time": "2024-01-10T05:28:22.002959767Z",
     "start_time": "2024-01-10T05:28:21.950847066Z"
    }
   }
  },
  {
   "cell_type": "markdown",
   "source": [
    "Select the appropriate regression model depending on whether the dataset shows batch effect."
   ],
   "metadata": {
    "collapsed": false
   }
  },
  {
   "cell_type": "code",
   "execution_count": 46,
   "outputs": [
    {
     "data": {
      "text/plain": "True"
     },
     "execution_count": 46,
     "metadata": {},
     "output_type": "execute_result"
    }
   ],
   "source": [
    "has_batch_effect = detect_batch_effect(X)\n",
    "has_batch_effect"
   ],
   "metadata": {
    "collapsed": false,
    "ExecuteTime": {
     "end_time": "2024-01-10T05:28:22.003119708Z",
     "start_time": "2024-01-10T05:28:21.993212003Z"
    }
   }
  },
  {
   "cell_type": "code",
   "execution_count": 47,
   "outputs": [],
   "source": [
    "# Select appropriate models based on whether the dataset has batch effect.\n",
    "# We experiment on two models for each branch. We will decide which one to choose later.\n",
    "\n",
    "if has_batch_effect:\n",
    "    model_constructor1 = VariableSelection\n",
    "    model_params1 = {'modified': True, 'lamda': 3e-4}\n",
    "    model_constructor2 = VariableSelection\n",
    "    model_params2 = {'modified': False}\n",
    "else:\n",
    "    model_constructor1 = Lasso\n",
    "    model_params1 = {'alpha': 1.0, 'random_state': 42}\n",
    "    model_constructor2 = VariableSelection\n",
    "    model_params2 = {'modified': False}"
   ],
   "metadata": {
    "collapsed": false,
    "ExecuteTime": {
     "end_time": "2024-01-10T05:28:22.003164813Z",
     "start_time": "2024-01-10T05:28:21.993347428Z"
    }
   }
  },
  {
   "cell_type": "code",
   "execution_count": 48,
   "outputs": [
    {
     "name": "stdout",
     "output_type": "stream",
     "text": [
      "alpha for Lasso: 0.0003\n",
      "alpha for Lasso: 0.0003\n",
      "alpha for Lasso: 0.0003\n",
      "alpha for Lasso: 0.0003\n",
      "alpha for Lasso: 0.0003\n",
      "The cross-validation accuracy is 80.00% ± 26.67%\n"
     ]
    }
   ],
   "source": [
    "trait_type = 'binary'  # Remember to set this properly, either 'binary' or 'continuous'\n",
    "cv_mean1, cv_std1 = cross_validation(X, Y, Z, model_constructor1, model_params1, target_type=trait_type)"
   ],
   "metadata": {
    "collapsed": false,
    "ExecuteTime": {
     "end_time": "2024-01-10T05:28:22.957921829Z",
     "start_time": "2024-01-10T05:28:21.993437598Z"
    }
   }
  },
  {
   "cell_type": "code",
   "execution_count": 49,
   "outputs": [
    {
     "name": "stdout",
     "output_type": "stream",
     "text": [
      "The cross-validation accuracy is 93.33% ± 13.33%\n"
     ]
    }
   ],
   "source": [
    "cv_mean2, cv_std2 = cross_validation(X, Y, Z, model_constructor2, model_params2, target_type=trait_type)"
   ],
   "metadata": {
    "collapsed": false,
    "ExecuteTime": {
     "end_time": "2024-01-10T05:28:35.421867584Z",
     "start_time": "2024-01-10T05:28:22.959136536Z"
    }
   }
  },
  {
   "cell_type": "code",
   "execution_count": 50,
   "outputs": [
    {
     "name": "stdout",
     "output_type": "stream",
     "text": [
      "alpha for Lasso: 0.0003\n"
     ]
    }
   ],
   "source": [
    "normalized_X, _ = normalize_data(X)\n",
    "normalized_Z, _ = normalize_data(Z)\n",
    "\n",
    "# Train regression model on the whole dataset to identify significant genes\n",
    "model1 = ResidualizationRegressor(model_constructor1, model_params1)\n",
    "model1.fit(normalized_X, Y, normalized_Z)\n",
    "\n",
    "model2 = ResidualizationRegressor(model_constructor2, model_params2)\n",
    "model2.fit(normalized_X, Y, normalized_Z)"
   ],
   "metadata": {
    "collapsed": false,
    "ExecuteTime": {
     "end_time": "2024-01-10T05:28:37.869281401Z",
     "start_time": "2024-01-10T05:28:35.416882339Z"
    }
   }
  },
  {
   "cell_type": "markdown",
   "source": [
    "### 4. Discussion and report"
   ],
   "metadata": {
    "id": "EjJrxbvb4nlj",
    "ExecuteTime": {
     "end_time": "2023-10-14T04:50:59.072075075Z",
     "start_time": "2023-10-14T04:50:38.739499998Z"
    }
   },
   "outputs": [
    {
     "name": "stderr",
     "output_type": "stream",
     "text": [
      "/tmp/ipykernel_27130/1949978799.py:15: RuntimeWarning: invalid value encountered in divide\n",
      "  X = (X - mean) / std\n",
      "/home/techt/anaconda3/envs/hl/lib/python3.8/site-packages/sparse_lmm/helpingMethods.py:49: RuntimeWarning: invalid value encountered in divide\n",
      "  ts = beta / np.sqrt(var * sigma)\n",
      "/home/techt/anaconda3/envs/hl/lib/python3.8/site-packages/sparse_lmm/VariableSelection.py:183: RuntimeWarning: divide by zero encountered in log\n",
      "  return -np.log(p), np.array(betas)\n"
     ]
    },
    {
     "name": "stdout",
     "output_type": "stream",
     "text": [
      "0.7813063496787521\n"
     ]
    }
   ],
   "execution_count": 13
  },
  {
   "cell_type": "code",
   "execution_count": 51,
   "outputs": [
    {
     "name": "stdout",
     "output_type": "stream",
     "text": [
      "Effect of the condition on the target variable:\n",
      "Variable: Age\n",
      "Coefficient: -0.3762\n",
      "Found 14 genes with non-zero coefficients associated with the trait 'Epilepsy' conditional on the factor 'Age'. These genes are identified as significant based on the regression model.\n",
      "Variable  Coefficient  Absolute Coefficient\n",
      "     CA3   -11.813568             11.813568\n",
      "   FAM3D    -8.039661              8.039661\n",
      " SLC23A2    -5.733602              5.733602\n",
      " RSPH10B    -4.606504              4.606504\n",
      "  UBAP2L    -3.587676              3.587676\n",
      "    RND2    -3.151997              3.151997\n",
      "  OR10A4    -3.098253              3.098253\n",
      "    CCL2    -2.942284              2.942284\n",
      "   MMP28    -2.004953              2.004953\n",
      "   OR6M1     1.947946              1.947946\n",
      "  LINGO4    -1.499068              1.499068\n",
      "    MRC2    -0.942940              0.942940\n",
      "   ABCA7    -0.325261              0.325261\n",
      "    EMP3    -0.117223              0.117223\n"
     ]
    },
    {
     "name": "stderr",
     "output_type": "stream",
     "text": [
      "/home/techt/AI4Science_gold_standard/utils.py:469: SettingWithCopyWarning: \n",
      "A value is trying to be set on a copy of a slice from a DataFrame.\n",
      "Try using .loc[row_indexer,col_indexer] = value instead\n",
      "\n",
      "See the caveats in the documentation: https://pandas.pydata.org/pandas-docs/stable/user_guide/indexing.html#returning-a-view-versus-a-copy\n",
      "  gene_regression_df['Absolute Coefficient'] = gene_regression_df['Coefficient'].abs()\n"
     ]
    }
   ],
   "source": [
    "feature_cols = merged_data.columns.tolist()\n",
    "feature_cols.remove(TRAIT)\n",
    "\n",
    "threshold = 0.05\n",
    "interpret_result(model1, feature_cols, TRAIT, condition, threshold=threshold, save_output=True,\n",
    "                 output_dir=OUTPUT_DIR, model_id=1)"
   ],
   "metadata": {
    "collapsed": false,
    "ExecuteTime": {
     "end_time": "2024-01-10T05:28:37.879453622Z",
     "start_time": "2024-01-10T05:28:37.874629881Z"
    }
   }
  },
  {
   "cell_type": "code",
   "execution_count": 52,
   "outputs": [
    {
     "name": "stdout",
     "output_type": "stream",
     "text": [
      "Effect of the condition on the target variable:\n",
      "Variable: Age\n",
      "Coefficient: -0.3762\n",
      "Found 0 significant genes associated with the trait 'Epilepsy' conditional on the factor 'Age', with corrected p-value < 0.05:\n",
      "Empty DataFrame\n",
      "Columns: [Variable, Coefficient, p_value, corrected_p_value]\n",
      "Index: []\n"
     ]
    },
    {
     "name": "stderr",
     "output_type": "stream",
     "text": [
      "/home/techt/AI4Science_gold_standard/utils.py:478: SettingWithCopyWarning: \n",
      "A value is trying to be set on a copy of a slice from a DataFrame.\n",
      "Try using .loc[row_indexer,col_indexer] = value instead\n",
      "\n",
      "See the caveats in the documentation: https://pandas.pydata.org/pandas-docs/stable/user_guide/indexing.html#returning-a-view-versus-a-copy\n",
      "  gene_regression_df.loc[:, 'corrected_p_value'] = corrected_p_values\n"
     ]
    }
   ],
   "source": [
    "interpret_result(model2, feature_cols, TRAIT, condition, threshold=threshold, save_output=True,\n",
    "                 output_dir=OUTPUT_DIR, model_id=2)"
   ],
   "metadata": {
    "collapsed": false,
    "ExecuteTime": {
     "end_time": "2024-01-10T05:28:37.888794517Z",
     "start_time": "2024-01-10T05:28:37.880091833Z"
    }
   }
  },
  {
   "cell_type": "code",
   "execution_count": null,
   "outputs": [],
   "source": [],
   "metadata": {
    "collapsed": false
   }
  }
 ]
}
