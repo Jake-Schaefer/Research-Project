{
 "cells": [
  {
   "cell_type": "markdown",
   "metadata": {
    "collapsed": false
   },
   "source": [
    "# Gold standard curation: Preprocessing and single-step regression"
   ]
  },
  {
   "cell_type": "markdown",
   "metadata": {
    "collapsed": false
   },
   "source": [
    "In this stage of gold standard curation, we will do the data preprocessing, selection, and single-step regression for the 153 traits in our question set. The workflow consists of the following steps:\n",
    "\n",
    "1. Preprocess all the cohorts related to this trait. Each cohort should be converted to a tabular form and saved to a csv file, with columns being genetic factors, the trait, and age, gender if available;\n",
    "2. If there exists at least one cohort with age or gender information, conduct regression analysis with genetic features together with age or gender as the regressors.\n"
   ]
  },
  {
   "cell_type": "markdown",
   "metadata": {
    "collapsed": false
   },
   "source": [
    "# 1. Basic setup"
   ]
  },
  {
   "cell_type": "code",
   "execution_count": 1,
   "metadata": {
    "ExecuteTime": {
     "end_time": "2024-01-02T01:02:53.240839272Z",
     "start_time": "2024-01-02T01:02:53.240575109Z"
    },
    "collapsed": false
   },
   "outputs": [],
   "source": [
    "import os\n",
    "import sys\n",
    "from utils import *\n",
    "\n",
    "sys.path.append('..')\n",
    "# Set your preferred name\n",
    "USER = \"Lisa\"\n",
    "# Set the data and output directories\n",
    "DATA_ROOT = '/Users/wjt/Desktop/is_data'\n",
    "OUTPUT_ROOT = '/Users/wjt/Desktop/is_data/v1'\n",
    "TRAIT = 'Uterine-Carcinosarcoma'\n",
    "\n",
    "OUTPUT_DIR = os.path.join(OUTPUT_ROOT, USER, '-'.join(TRAIT.split()))\n",
    "JSON_PATH = os.path.join(OUTPUT_DIR, \"cohort_info.json\")\n",
    "if not os.path.exists(OUTPUT_DIR):\n",
    "    os.makedirs(OUTPUT_DIR, exist_ok=True)\n",
    "\n",
    "# Gene symbol normalization may take 1-2 minutes. You may set it to False for debugging.\n",
    "NORMALIZE_GENE = True"
   ]
  },
  {
   "cell_type": "code",
   "execution_count": 25,
   "metadata": {
    "ExecuteTime": {
     "end_time": "2024-01-02T01:02:53.501910797Z",
     "start_time": "2024-01-02T01:02:53.496254990Z"
    },
    "colab": {
     "base_uri": "https://localhost:8080/"
    },
    "id": "jMTdsU43vVg3",
    "outputId": "38886111-f442-44b4-8398-96bf384d7abd"
   },
   "outputs": [
    {
     "data": {
      "text/plain": [
       "\"import os\\nfrom google.colab import drive\\n\\ndrive.mount('/content/drive', force_remount=True)\\nproj_dir = '/content/drive/MyDrive/AI4Science_Public'\\nos.chdir(proj_dir)\""
      ]
     },
     "execution_count": 25,
     "metadata": {},
     "output_type": "execute_result"
    }
   ],
   "source": [
    "# This cell is only for use on Google Colab. Skip it if you run your code in other environments\n",
    "\n",
    "\"\"\"import os\n",
    "from google.colab import drive\n",
    "\n",
    "drive.mount('/content/drive', force_remount=True)\n",
    "proj_dir = '/content/drive/MyDrive/AI4Science_Public'\n",
    "os.chdir(proj_dir)\"\"\""
   ]
  },
  {
   "cell_type": "markdown",
   "metadata": {
    "collapsed": false
   },
   "source": [
    "# 2. Data preprocessing and selection"
   ]
  },
  {
   "cell_type": "markdown",
   "metadata": {
    "collapsed": false
   },
   "source": [
    "## 2.1. The TCGA Xena dataset"
   ]
  },
  {
   "cell_type": "markdown",
   "metadata": {
    "collapsed": false
   },
   "source": [
    "In TCGA Xena, there is either zero or one cohort related to the trait. We search the names of subdirectories to see if any matches the trait. If a match is found, we directly obtain the file paths."
   ]
  },
  {
   "cell_type": "code",
   "execution_count": 3,
   "metadata": {
    "ExecuteTime": {
     "end_time": "2024-01-02T01:02:56.462746833Z",
     "start_time": "2024-01-02T01:02:55.818581842Z"
    },
    "collapsed": false
   },
   "outputs": [
    {
     "data": {
      "text/plain": [
       "['TCGA_Adrenocortical_Cancer_(ACC)',\n",
       " 'TCGA_Bile_Duct_Cancer_(CHOL)',\n",
       " 'TCGA_Lower_Grade_Glioma_(LGG)',\n",
       " 'TCGA_Acute_Myeloid_Leukemia_(LAML)',\n",
       " 'TCGA_Esophageal_Cancer_(ESCA)',\n",
       " 'TCGA_Thyroid_Cancer_(THCA)',\n",
       " 'TCGA_Ocular_melanomas_(UVM)',\n",
       " 'TCGA_Ovarian_Cancer_(OV)',\n",
       " 'TCGA_Prostate_Cancer_(PRAD)',\n",
       " 'CrawlData.ipynb',\n",
       " 'TCGA_Kidney_Papillary_Cell_Carcinoma_(KIRP)',\n",
       " 'TCGA_Lung_Cancer_(LUNG)',\n",
       " 'TCGA_Endometrioid_Cancer_(UCEC)',\n",
       " 'TCGA_Testicular_Cancer_(TGCT)',\n",
       " 'TCGA_lower_grade_glioma_and_glioblastoma_(GBMLGG)',\n",
       " 'TCGA_Pancreatic_Cancer_(PAAD)',\n",
       " 'TCGA_Glioblastoma_(GBM)',\n",
       " 'TCGA_Melanoma_(SKCM)',\n",
       " 'TCGA_Kidney_Clear_Cell_Carcinoma_(KIRC)',\n",
       " 'TCGA_Mesothelioma_(MESO)',\n",
       " 'TCGA_Rectal_Cancer_(READ)',\n",
       " 'TCGA_Head_and_Neck_Cancer_(HNSC)',\n",
       " 'TCGA_Large_Bcell_Lymphoma_(DLBC)',\n",
       " 'TCGA_Uterine_Carcinosarcoma_(UCS)',\n",
       " 'TCGA_Colon_Cancer_(COAD)',\n",
       " 'TCGA_Breast_Cancer_(BRCA)',\n",
       " 'TCGA_Bladder_Cancer_(BLCA)',\n",
       " 'TCGA_Sarcoma_(SARC)',\n",
       " 'TCGA_Lung_Squamous_Cell_Carcinoma_(LUSC)',\n",
       " 'TCGA_Cervical_Cancer_(CESC)',\n",
       " 'TCGA_Kidney_Chromophobe_(KICH)',\n",
       " 'TCGA_Stomach_Cancer_(STAD)',\n",
       " 'TCGA_Lung_Adenocarcinoma_(LUAD)',\n",
       " '.DS_Store',\n",
       " 'TCGA_Thymoma_(THYM)',\n",
       " 'TCGA_Colon_and_Rectal_Cancer_(COADREAD)',\n",
       " 'TCGA_Pheochromocytoma_Paraganglioma_(PCPG)',\n",
       " 'TCGA_Liver_Cancer_(LIHC)']"
      ]
     },
     "execution_count": 3,
     "metadata": {},
     "output_type": "execute_result"
    }
   ],
   "source": [
    "import os\n",
    "from utils import *\n",
    "\n",
    "dataset = 'TCGA'\n",
    "dataset_dir = os.path.join(DATA_ROOT, dataset)\n",
    "os.listdir(dataset_dir)[:]"
   ]
  },
  {
   "cell_type": "markdown",
   "metadata": {
    "collapsed": false
   },
   "source": [
    "If no match is found, jump directly to GEO in Part 2.2"
   ]
  },
  {
   "cell_type": "code",
   "execution_count": 5,
   "metadata": {
    "collapsed": false
   },
   "outputs": [],
   "source": [
    "trait_subdir = \"TCGA_Uterine_Carcinosarcoma_(UCS)\"\n",
    "cohort = 'Xena'\n",
    "# All the cancer traits in Xena are binary\n",
    "trait_type = 'binary'\n",
    "# Once a relevant cohort is found in Xena, we can generally assume the gene and clinical data are available\n",
    "is_available = True\n",
    "\n",
    "clinical_data_file = os.path.join(dataset_dir, trait_subdir, 'TCGA.UCS.sampleMap_UCS_clinicalMatrix')\n",
    "genetic_data_file = os.path.join(dataset_dir, trait_subdir, 'TCGA.UCS.sampleMap_HiSeqV2_PANCAN.gz')"
   ]
  },
  {
   "cell_type": "code",
   "execution_count": 6,
   "metadata": {
    "id": "MudwB-_iz7sc"
   },
   "outputs": [],
   "source": [
    "import pandas as pd\n",
    "\n",
    "clinical_data = pd.read_csv(clinical_data_file, sep='\\t', index_col=0)\n",
    "genetic_data = pd.read_csv(genetic_data_file, compression='gzip', sep='\\t', index_col=0)\n",
    "age_col = gender_col = None"
   ]
  },
  {
   "cell_type": "code",
   "execution_count": 7,
   "metadata": {
    "collapsed": false
   },
   "outputs": [],
   "source": [
    "_, clinical_data_cols = check_rows_and_columns(clinical_data)"
   ]
  },
  {
   "cell_type": "code",
   "execution_count": 8,
   "metadata": {
    "collapsed": false
   },
   "outputs": [
    {
     "data": {
      "text/plain": [
       "['CDE_ID_3226963',\n",
       " '_INTEGRATION',\n",
       " '_PATIENT',\n",
       " '_cohort',\n",
       " '_primary_disease',\n",
       " '_primary_site',\n",
       " 'additional_pharmaceutical_therapy',\n",
       " 'additional_radiation_therapy',\n",
       " 'age_at_initial_pathologic_diagnosis',\n",
       " 'aln_pos_ihc']"
      ]
     },
     "execution_count": 8,
     "metadata": {},
     "output_type": "execute_result"
    }
   ],
   "source": [
    "clinical_data_cols[:10]"
   ]
  },
  {
   "cell_type": "markdown",
   "metadata": {
    "ExecuteTime": {
     "end_time": "2023-12-28T20:20:11.841042813Z",
     "start_time": "2023-12-28T20:20:11.834458206Z"
    },
    "collapsed": false
   },
   "source": [
    "Read all the column names in the clinical dataset, to find the columns that record information about age or gender.\n",
    "Reference prompt:"
   ]
  },
  {
   "cell_type": "code",
   "execution_count": 9,
   "metadata": {
    "collapsed": false
   },
   "outputs": [
    {
     "data": {
      "text/plain": [
       "\"\\nBelow is a list of column names from a biomedical dataset. Please examine it and identify the columns that are likely to contain information about patients' age. Additionally, please do the same for columns that may hold data on patients' gender. Please provide your answer by strictly following this format, without redundant words:\\ncandidate_age_cols = [col_name1, col_name2, ...]\\ncandidate_gender_cols = [col_name1, col_name2, ...]\\nIf no columns match a criterion, please provide an empty list.\\n\\nColumn names:\\n['CDE_ID_3226963', '_INTEGRATION', '_PATIENT', '_cohort', '_primary_disease', '_primary_site', 'additional_pharmaceutical_therapy', 'additional_radiation_therapy', 'age_at_initial_pathologic_diagnosis', 'aln_pos_ihc', 'aln_pos_light_micro', 'anatomic_neoplasm_subdivision', 'bcr_followup_barcode', 'bcr_patient_barcode', 'bcr_sample_barcode', 'birth_control_pill_history_usage_category', 'clinical_stage', 'colorectal_cancer', 'days_to_birth', 'days_to_collection', 'days_to_death', 'days_to_initial_pathologic_diagnosis', 'days_to_last_followup', 'days_to_new_tumor_event_additional_surgery_procedure', 'days_to_new_tumor_event_after_initial_treatment', 'diabetes', 'form_completion_date', 'gender', 'height', 'histological_type', 'history_of_neoadjuvant_treatment', 'horm_ther', 'hypertension', 'icd_10', 'icd_o_3_histology', 'icd_o_3_site', 'informed_consent_verified', 'initial_pathologic_diagnosis_method', 'initial_weight', 'is_ffpe', 'lost_follow_up', 'menopause_status', 'new_neoplasm_event_occurrence_anatomic_site', 'new_neoplasm_event_type', 'new_neoplasm_occurrence_anatomic_site_text', 'new_tumor_event_additional_surgery_procedure', 'new_tumor_event_after_initial_treatment', 'oct_embedded', 'other_dx', 'pathology_report_file_name', 'patient_id', 'pct_tumor_invasion', 'peritoneal_wash', 'person_neoplasm_cancer_status', 'pln_pos_ihc', 'pln_pos_light_micro', 'postoperative_rx_tx', 'pregnancies', 'primary_therapy_outcome_success', 'prior_tamoxifen_administered_usage_category', 'radiation_therapy', 'recurrence_second_surgery_neoplasm_surgical_procedure_name', 'residual_tumor', 'sample_type', 'sample_type_id', 'surgical_approach', 'system_version', 'tissue_prospective_collection_indicator', 'tissue_retrospective_collection_indicator', 'tissue_source_site', 'total_aor_lnp', 'total_aor_lnr', 'total_pelv_lnp', 'total_pelv_lnr', 'tumor_tissue_site', 'vial_number', 'vital_status', 'weight', 'year_of_initial_pathologic_diagnosis', '_GENOMIC_ID_TCGA_UCS_miRNA_HiSeq', '_GENOMIC_ID_TCGA_UCS_RPPA', '_GENOMIC_ID_data/public/TCGA/UCS/miRNA_HiSeq_gene', '_GENOMIC_ID_TCGA_UCS_exp_HiSeqV2_exon', '_GENOMIC_ID_TCGA_UCS_exp_HiSeqV2', '_GENOMIC_ID_TCGA_UCS_mutation_bcm_gene', '_GENOMIC_ID_TCGA_UCS_exp_HiSeqV2_percentile', '_GENOMIC_ID_TCGA_UCS_mutation_curated_broad_gene', '_GENOMIC_ID_TCGA_UCS_gistic2thd', '_GENOMIC_ID_TCGA_UCS_exp_HiSeqV2_PANCAN', '_GENOMIC_ID_TCGA_UCS_mutation_broad_gene', '_GENOMIC_ID_TCGA_UCS_PDMRNAseqCNV', '_GENOMIC_ID_TCGA_UCS_gistic2', '_GENOMIC_ID_TCGA_UCS_mutation_bcgsc_gene', '_GENOMIC_ID_TCGA_UCS_hMethyl450', '_GENOMIC_ID_TCGA_UCS_PDMRNAseq']\\n\""
      ]
     },
     "execution_count": 9,
     "metadata": {},
     "output_type": "execute_result"
    }
   ],
   "source": [
    "f'''\n",
    "Below is a list of column names from a biomedical dataset. Please examine it and identify the columns that are likely to contain information about patients' age. Additionally, please do the same for columns that may hold data on patients' gender. Please provide your answer by strictly following this format, without redundant words:\n",
    "candidate_age_cols = [col_name1, col_name2, ...]\n",
    "candidate_gender_cols = [col_name1, col_name2, ...]\n",
    "If no columns match a criterion, please provide an empty list.\n",
    "\n",
    "Column names:\n",
    "{clinical_data_cols}\n",
    "'''"
   ]
  },
  {
   "cell_type": "code",
   "execution_count": 10,
   "metadata": {
    "collapsed": false
   },
   "outputs": [],
   "source": [
    "candidate_age_cols = ['age_at_initial_pathologic_diagnosis', 'days_to_birth', 'days_to_collection', 'days_to_death', 'days_to_initial_pathologic_diagnosis', 'days_to_last_followup', 'form_completion_date', 'year_of_initial_pathologic_diagnosis']\n",
    "\n",
    "candidate_gender_cols = ['gender']\n"
   ]
  },
  {
   "cell_type": "markdown",
   "metadata": {
    "ExecuteTime": {
     "end_time": "2023-12-31T03:57:44.207565572Z",
     "start_time": "2023-12-31T03:57:44.202177544Z"
    },
    "collapsed": false
   },
   "source": [
    "Choose a single column from the candidate columns that record age and gender information respectively.\n",
    "If no column meets the requirement, keep 'age_col' or 'gender_col' to None"
   ]
  },
  {
   "cell_type": "code",
   "execution_count": 11,
   "metadata": {
    "collapsed": false
   },
   "outputs": [
    {
     "data": {
      "text/plain": [
       "{'age_at_initial_pathologic_diagnosis': [65, 63, 69, 68, 61],\n",
       " 'days_to_birth': [-24102, -23359, -25413, -25041, -22341],\n",
       " 'days_to_collection': [3487.0, 2958.0, 2157.0, 1476.0, 1198.0],\n",
       " 'days_to_death': [3115.0, 1591.0, 142.0, nan, 550.0],\n",
       " 'days_to_initial_pathologic_diagnosis': [0, 0, 0, 0, 0],\n",
       " 'days_to_last_followup': [nan, nan, nan, 1806.0, nan],\n",
       " 'form_completion_date': ['2013-5-26',\n",
       "  '2013-5-26',\n",
       "  '2013-5-26',\n",
       "  '2014-4-1',\n",
       "  '2013-5-26'],\n",
       " 'year_of_initial_pathologic_diagnosis': [2003, 2004, 2007, 2008, 2009]}"
      ]
     },
     "execution_count": 11,
     "metadata": {},
     "output_type": "execute_result"
    }
   ],
   "source": [
    "preview_df(clinical_data[candidate_age_cols])"
   ]
  },
  {
   "cell_type": "code",
   "execution_count": 12,
   "metadata": {
    "collapsed": false
   },
   "outputs": [],
   "source": [
    "age_col = 'age_at_initial_pathologic_diagnosis'"
   ]
  },
  {
   "cell_type": "code",
   "execution_count": 13,
   "metadata": {
    "collapsed": false
   },
   "outputs": [
    {
     "data": {
      "text/plain": [
       "{'gender': ['FEMALE', 'FEMALE', 'FEMALE', 'FEMALE', 'FEMALE']}"
      ]
     },
     "execution_count": 13,
     "metadata": {},
     "output_type": "execute_result"
    }
   ],
   "source": [
    "preview_df(clinical_data[candidate_gender_cols])"
   ]
  },
  {
   "cell_type": "code",
   "execution_count": 14,
   "metadata": {
    "collapsed": false
   },
   "outputs": [],
   "source": [
    "gender_col = 'gender'"
   ]
  },
  {
   "cell_type": "code",
   "execution_count": 15,
   "metadata": {
    "collapsed": false
   },
   "outputs": [],
   "source": [
    "selected_clinical_data = xena_select_clinical_features(clinical_data, TRAIT, age_col, gender_col)"
   ]
  },
  {
   "cell_type": "code",
   "execution_count": 16,
   "metadata": {
    "collapsed": false
   },
   "outputs": [
    {
     "name": "stderr",
     "output_type": "stream",
     "text": [
      "13 input query terms found dup hits:\t[('GTF2IP1', 2), ('RBMY1A3P', 3), ('RPL31P11', 2), ('HERC2P2', 3), ('WASH3P', 3), ('NUDT9P1', 2), ('\n",
      "154 input query terms found no hit:\t['C16orf13', 'C16orf11', 'LOC100272146', 'LOC339240', 'NACAP1', 'LOC441204', 'KLRA1', 'FAM183A', 'FA\n",
      "10 input query terms found dup hits:\t[('SUGT1P1', 2), ('PTPRVP', 2), ('SNORA62', 3), ('IFITM4P', 7), ('HLA-DRB6', 2), ('FUNDC2P2', 2), ('\n",
      "190 input query terms found no hit:\t['NARFL', 'NFKBIL2', 'LOC150197', 'TMEM84', 'LOC162632', 'PPPDE1', 'PPPDE2', 'C1orf38', 'C1orf31', '\n",
      "11 input query terms found dup hits:\t[('PIP5K1P1', 2), ('HBD', 2), ('PPP1R2P1', 9), ('HSD17B7P2', 2), ('RPSAP9', 2), ('SNORD68', 2), ('SN\n",
      "149 input query terms found no hit:\t['FAM153C', 'C9orf167', 'CLK2P', 'CCDC76', 'CCDC75', 'CCDC72', 'HIST3H2BB', 'PRAC', 'LOC285780', 'LO\n",
      "15 input query terms found dup hits:\t[('SNORD58C', 2), ('UOX', 2), ('UBE2Q2P1', 3), ('PPP4R1L', 2), ('SNORD63', 3), ('ESPNP', 2), ('HBBP1\n",
      "158 input query terms found no hit:\t['C16orf91', 'LOC100130581', 'SFRS2', 'C16orf5', 'C16orf7', 'C16orf3', 'C21orf7', 'C21orf2', 'LOC389\n",
      "15 input query terms found dup hits:\t[('FAM66D', 3), ('FAM66A', 2), ('THSD1P1', 2), ('EEF1DP3', 2), ('PGM5P2', 2), ('UBE2MP1', 2), ('HAR1\n",
      "169 input query terms found no hit:\t['LOC284551', 'LOC285548', 'LOC728410', 'LOC541473', 'DULLARD', 'KIAA0368', 'EFTUD1', 'TWISTNB', 'SF\n",
      "13 input query terms found dup hits:\t[('S100A7L2', 2), ('POM121L8P', 2), ('MEG8', 2), ('KIR3DX1', 5), ('RFPL1S', 2), ('SNORD91B', 2), ('C\n",
      "165 input query terms found no hit:\t['TMEM188', 'PDZD3', 'FAM102B', 'FAM102A', 'SMCR7L', 'G6PC', 'OSTCL', 'LOC653544', 'LOC653545', 'USP\n",
      "16 input query terms found dup hits:\t[('PCNAP1', 2), ('SNORA63', 6), ('SERHL', 2), ('CEACAM22P', 2), ('SNORA16A', 2), ('FAM41AY1', 2), ('\n",
      "147 input query terms found no hit:\t['LRRC37A4', 'LOC100131726', 'CPSF3L', 'COL4A3BP', 'PAR1', 'LOC92973', 'MICALCL', 'SMCR7', 'HIST4H4'\n",
      "15 input query terms found dup hits:\t[('MBL1P', 2), ('SDHAP3', 2), ('PSORS1C3', 8), ('MYADML', 2), ('POM121L10P', 2), ('HLA-J', 9), ('HLA\n",
      "153 input query terms found no hit:\t['LOC100131193', 'KIAA1109', 'DUS2L', 'MYST1', 'IGLL3', 'C12orf69', 'NEURL', 'FAM188B', 'FLJ32063', \n",
      "9 input query terms found dup hits:\t[('PLGLA', 2), ('PA2G4P4', 2), ('RPL23AP7', 2), ('RPL23AP64', 3), ('RPSAP52', 2), ('TPRXL', 2), ('DP\n",
      "177 input query terms found no hit:\t['LOC283314', 'RBM9', 'C20orf118', 'LOC150786', 'C20orf112', 'C20orf111', 'C20orf117', 'C20orf114', \n",
      "18 input query terms found dup hits:\t[('TPTE2P1', 2), ('FOLH1B', 2), ('ID2B', 2), ('MSX2P1', 2), ('RAET1K', 2), ('BMS1P4', 2), ('RPL23AP8\n",
      "175 input query terms found no hit:\t['MYEOV2', 'FAM35B2', 'C20orf85', 'FAM175A', 'C17orf73', 'C17orf72', 'C17orf71', 'C17orf70', 'C17orf\n",
      "19 input query terms found dup hits:\t[('CATSPER2P1', 2), ('AQP7P1', 2), ('ATP8B5P', 2), ('OR7E91P', 2), ('ZNF204P', 2), ('CECR7', 2), ('M\n",
      "144 input query terms found no hit:\t['BASE', 'C14orf21', 'C14orf23', 'FAM5B', 'TROVE2', 'C18orf62', 'LOC401052', 'GNB2L1', 'FAM19A4', 'F\n",
      "13 input query terms found dup hits:\t[('P2RX6P', 2), ('RP9P', 2), ('NRADDP', 2), ('MORF4', 2), ('SNORA75', 6), ('SNORA72', 2), ('FMO6P', \n",
      "169 input query terms found no hit:\t['TTC15', 'C4orf29', 'FAM48A', 'C4orf21', 'C3orf65', 'C4orf23', 'C3orf67', 'LOC144742', 'C3orf63', '\n",
      "19 input query terms found dup hits:\t[('RPL13AP17', 2), ('DNAJB3', 2), ('SNORA58', 2), ('PMCHL1', 2), ('FAM95B1', 2), ('TMEM191A', 2), ('\n",
      "144 input query terms found no hit:\t['LOC254312', 'ZNF542', 'CSDAP1', 'FAM73A', 'FAM73B', 'TCTE3', 'ZNF37B', 'LOC728875', 'KIAA1826', 'P\n",
      "15 input query terms found dup hits:\t[('ZFP91-CNTF', 2), ('PRSS30P', 3), ('GSTM2P1', 2), ('C3P1', 2), ('NCF1B', 2), ('SNORD114-4', 2), ('\n",
      "138 input query terms found no hit:\t['LOC100129716', 'C14orf184', 'C14orf181', 'C14orf183', 'C14orf182', 'C7orf26', 'C7orf27', 'C7orf23'\n",
      "14 input query terms found dup hits:\t[('ANXA2P1', 2), ('ANXA2P3', 2), ('ANXA2P2', 2), ('ZNF286B', 2), ('SAA3P', 2), ('GEMIN8P4', 2), ('DI\n",
      "132 input query terms found no hit:\t['AKR1CL1', 'CCDC21', 'CCDC23', 'TMEM111', 'APOB48R', 'LOC595101', 'KIAA1430', 'KIAA1432', 'ORC4L', \n",
      "11 input query terms found dup hits:\t[('TCP10L2', 2), ('FTLP10', 2), ('TPTE2P3', 2), ('VENTXP1', 2), ('XKRY', 2), ('HTR7P1', 2), ('STAG3L\n",
      "175 input query terms found no hit:\t['DFNB59', 'LOC100170939', 'FAM36A', 'C2orf70', 'C2orf71', 'C2orf77', 'C2orf79', 'LOC100128191', 'HR\n",
      "16 input query terms found dup hits:\t[('ZNF702P', 2), ('BRD7P3', 2), ('SCARNA17', 2), ('GABARAPL3', 2), ('MT1IP', 2), ('ADAM6', 3), ('PDZ\n",
      "142 input query terms found no hit:\t['C9orf30', 'PEG3AS', 'C9orf37', 'TXNDC3', 'LOC442308', 'FAM46D', 'FAM46A', 'FAM46B', 'FAM46C', 'WDR\n",
      "10 input query terms found dup hits:\t[('FAM197Y2', 3), ('SNORA71B', 2), ('PRKY', 2), ('NAT8B', 3), ('VENTXP7', 2), ('SPRR2C', 2), ('RPL23\n",
      "148 input query terms found no hit:\t['FCGR1B', 'RG9MTD2', 'RARS', 'LOC727677', 'CCRN4L', 'SEPT14', 'HKR1', 'C1orf112', 'LOC100270710', '\n",
      "16 input query terms found dup hits:\t[('OR6W1P', 3), ('LYPLA2P1', 6), ('RPL23AP53', 2), ('TRPC2', 2), ('RBMY2FP', 2), ('BAGE2', 2), ('POM\n",
      "150 input query terms found no hit:\t['SIP1', 'FAM129C', 'GIF', 'TMCO7', 'CXorf61', 'CXorf64', 'ZNF192', 'SEPP1', 'KIRREL', 'MGC16121', '\n",
      "17 input query terms found dup hits:\t[('ISCA1P1', 2), ('PCDHB19P', 3), ('NAPSB', 2), ('WASH7P', 2), ('TTTY11', 2), ('HCG4', 9), ('OR5E1P'\n",
      "135 input query terms found no hit:\t['PPYR1', 'FAM82A2', 'FLJ37453', 'FAM82A1', 'KIAA0947', 'MOBKL2B', 'MOBKL2C', 'MOBKL2A', 'CMAH', 'GR\n",
      "5 input query terms found dup hits:\t[('GGNBP1', 2), ('WASH5P', 2), ('RPL29P2', 2), ('CDR1', 2), ('OR10J3', 3)]\n",
      "78 input query terms found no hit:\t['C14orf174', 'C14orf176', 'C14orf177', 'C14orf179', 'PTPLB', 'SGEF', 'LOC400752', 'GRLF1', 'SPANXE'\n"
     ]
    }
   ],
   "source": [
    "if NORMALIZE_GENE:\n",
    "    genetic_data = normalize_gene_symbols_in_index(genetic_data)"
   ]
  },
  {
   "cell_type": "code",
   "execution_count": 17,
   "metadata": {
    "collapsed": false
   },
   "outputs": [
    {
     "data": {
      "text/html": [
       "<div>\n",
       "<style scoped>\n",
       "    .dataframe tbody tr th:only-of-type {\n",
       "        vertical-align: middle;\n",
       "    }\n",
       "\n",
       "    .dataframe tbody tr th {\n",
       "        vertical-align: top;\n",
       "    }\n",
       "\n",
       "    .dataframe thead th {\n",
       "        text-align: right;\n",
       "    }\n",
       "</style>\n",
       "<table border=\"1\" class=\"dataframe\">\n",
       "  <thead>\n",
       "    <tr style=\"text-align: right;\">\n",
       "      <th></th>\n",
       "      <th>Uterine-Carcinosarcoma</th>\n",
       "      <th>Age</th>\n",
       "      <th>Gender</th>\n",
       "      <th>ARHGEF10L</th>\n",
       "      <th>HIF3A</th>\n",
       "      <th>RNF17</th>\n",
       "      <th>RNF10</th>\n",
       "      <th>RNF11</th>\n",
       "      <th>RNF13</th>\n",
       "      <th>GTF2IP1</th>\n",
       "      <th>...</th>\n",
       "      <th>SLC7A10</th>\n",
       "      <th>PLA2G2C</th>\n",
       "      <th>TULP2</th>\n",
       "      <th>NPY5R</th>\n",
       "      <th>GNGT2</th>\n",
       "      <th>GNGT1</th>\n",
       "      <th>TULP3</th>\n",
       "      <th>BCL6B</th>\n",
       "      <th>GSTK1</th>\n",
       "      <th>SELP</th>\n",
       "    </tr>\n",
       "    <tr>\n",
       "      <th>sampleID</th>\n",
       "      <th></th>\n",
       "      <th></th>\n",
       "      <th></th>\n",
       "      <th></th>\n",
       "      <th></th>\n",
       "      <th></th>\n",
       "      <th></th>\n",
       "      <th></th>\n",
       "      <th></th>\n",
       "      <th></th>\n",
       "      <th></th>\n",
       "      <th></th>\n",
       "      <th></th>\n",
       "      <th></th>\n",
       "      <th></th>\n",
       "      <th></th>\n",
       "      <th></th>\n",
       "      <th></th>\n",
       "      <th></th>\n",
       "      <th></th>\n",
       "      <th></th>\n",
       "    </tr>\n",
       "  </thead>\n",
       "  <tbody>\n",
       "    <tr>\n",
       "      <th>TCGA-N5-A4R8-01</th>\n",
       "      <td>1</td>\n",
       "      <td>65</td>\n",
       "      <td>0</td>\n",
       "      <td>-0.957792</td>\n",
       "      <td>6.814974</td>\n",
       "      <td>-0.531035</td>\n",
       "      <td>-0.200472</td>\n",
       "      <td>-0.535378</td>\n",
       "      <td>-1.42261</td>\n",
       "      <td>-0.539194</td>\n",
       "      <td>...</td>\n",
       "      <td>5.055914</td>\n",
       "      <td>-0.086682</td>\n",
       "      <td>0.017922</td>\n",
       "      <td>3.273883</td>\n",
       "      <td>-0.262233</td>\n",
       "      <td>1.95401</td>\n",
       "      <td>1.290723</td>\n",
       "      <td>-0.852727</td>\n",
       "      <td>-2.000395</td>\n",
       "      <td>-5.091733</td>\n",
       "    </tr>\n",
       "    <tr>\n",
       "      <th>TCGA-N5-A4RA-01</th>\n",
       "      <td>1</td>\n",
       "      <td>63</td>\n",
       "      <td>0</td>\n",
       "      <td>-0.436292</td>\n",
       "      <td>6.814374</td>\n",
       "      <td>-0.531035</td>\n",
       "      <td>0.387528</td>\n",
       "      <td>-0.035178</td>\n",
       "      <td>-1.14681</td>\n",
       "      <td>-0.246094</td>\n",
       "      <td>...</td>\n",
       "      <td>6.600414</td>\n",
       "      <td>-0.086682</td>\n",
       "      <td>0.234322</td>\n",
       "      <td>-1.013317</td>\n",
       "      <td>-1.696233</td>\n",
       "      <td>0.02041</td>\n",
       "      <td>0.931723</td>\n",
       "      <td>-2.614627</td>\n",
       "      <td>-0.800295</td>\n",
       "      <td>-5.525533</td>\n",
       "    </tr>\n",
       "    <tr>\n",
       "      <th>TCGA-N5-A4RD-01</th>\n",
       "      <td>1</td>\n",
       "      <td>69</td>\n",
       "      <td>0</td>\n",
       "      <td>-1.075592</td>\n",
       "      <td>5.400374</td>\n",
       "      <td>0.337765</td>\n",
       "      <td>-0.327472</td>\n",
       "      <td>-0.623978</td>\n",
       "      <td>-0.76911</td>\n",
       "      <td>0.301706</td>\n",
       "      <td>...</td>\n",
       "      <td>6.132114</td>\n",
       "      <td>0.412218</td>\n",
       "      <td>-0.748878</td>\n",
       "      <td>1.260083</td>\n",
       "      <td>0.190467</td>\n",
       "      <td>3.92551</td>\n",
       "      <td>0.600623</td>\n",
       "      <td>-0.892127</td>\n",
       "      <td>-0.581895</td>\n",
       "      <td>-3.565233</td>\n",
       "    </tr>\n",
       "    <tr>\n",
       "      <th>TCGA-N5-A4RF-01</th>\n",
       "      <td>1</td>\n",
       "      <td>68</td>\n",
       "      <td>0</td>\n",
       "      <td>-0.616892</td>\n",
       "      <td>4.298374</td>\n",
       "      <td>-0.531035</td>\n",
       "      <td>0.068628</td>\n",
       "      <td>-0.272078</td>\n",
       "      <td>-1.90441</td>\n",
       "      <td>-0.123494</td>\n",
       "      <td>...</td>\n",
       "      <td>5.434814</td>\n",
       "      <td>1.727818</td>\n",
       "      <td>-0.748878</td>\n",
       "      <td>-1.587117</td>\n",
       "      <td>2.072467</td>\n",
       "      <td>3.56111</td>\n",
       "      <td>0.549123</td>\n",
       "      <td>0.040173</td>\n",
       "      <td>-0.607895</td>\n",
       "      <td>-3.091133</td>\n",
       "    </tr>\n",
       "    <tr>\n",
       "      <th>TCGA-N5-A4RJ-01</th>\n",
       "      <td>1</td>\n",
       "      <td>61</td>\n",
       "      <td>0</td>\n",
       "      <td>0.275708</td>\n",
       "      <td>5.896174</td>\n",
       "      <td>0.372565</td>\n",
       "      <td>-0.087372</td>\n",
       "      <td>-0.719378</td>\n",
       "      <td>-1.19391</td>\n",
       "      <td>-0.032194</td>\n",
       "      <td>...</td>\n",
       "      <td>5.051014</td>\n",
       "      <td>-0.086682</td>\n",
       "      <td>-0.748878</td>\n",
       "      <td>0.710983</td>\n",
       "      <td>0.398067</td>\n",
       "      <td>1.25191</td>\n",
       "      <td>0.508223</td>\n",
       "      <td>0.983573</td>\n",
       "      <td>0.058705</td>\n",
       "      <td>0.255367</td>\n",
       "    </tr>\n",
       "  </tbody>\n",
       "</table>\n",
       "<p>5 rows × 17341 columns</p>\n",
       "</div>"
      ],
      "text/plain": [
       "                 Uterine-Carcinosarcoma  Age  Gender  ARHGEF10L     HIF3A  \\\n",
       "sampleID                                                                    \n",
       "TCGA-N5-A4R8-01                       1   65       0  -0.957792  6.814974   \n",
       "TCGA-N5-A4RA-01                       1   63       0  -0.436292  6.814374   \n",
       "TCGA-N5-A4RD-01                       1   69       0  -1.075592  5.400374   \n",
       "TCGA-N5-A4RF-01                       1   68       0  -0.616892  4.298374   \n",
       "TCGA-N5-A4RJ-01                       1   61       0   0.275708  5.896174   \n",
       "\n",
       "                    RNF17     RNF10     RNF11    RNF13   GTF2IP1  ...  \\\n",
       "sampleID                                                          ...   \n",
       "TCGA-N5-A4R8-01 -0.531035 -0.200472 -0.535378 -1.42261 -0.539194  ...   \n",
       "TCGA-N5-A4RA-01 -0.531035  0.387528 -0.035178 -1.14681 -0.246094  ...   \n",
       "TCGA-N5-A4RD-01  0.337765 -0.327472 -0.623978 -0.76911  0.301706  ...   \n",
       "TCGA-N5-A4RF-01 -0.531035  0.068628 -0.272078 -1.90441 -0.123494  ...   \n",
       "TCGA-N5-A4RJ-01  0.372565 -0.087372 -0.719378 -1.19391 -0.032194  ...   \n",
       "\n",
       "                  SLC7A10   PLA2G2C     TULP2     NPY5R     GNGT2    GNGT1  \\\n",
       "sampleID                                                                     \n",
       "TCGA-N5-A4R8-01  5.055914 -0.086682  0.017922  3.273883 -0.262233  1.95401   \n",
       "TCGA-N5-A4RA-01  6.600414 -0.086682  0.234322 -1.013317 -1.696233  0.02041   \n",
       "TCGA-N5-A4RD-01  6.132114  0.412218 -0.748878  1.260083  0.190467  3.92551   \n",
       "TCGA-N5-A4RF-01  5.434814  1.727818 -0.748878 -1.587117  2.072467  3.56111   \n",
       "TCGA-N5-A4RJ-01  5.051014 -0.086682 -0.748878  0.710983  0.398067  1.25191   \n",
       "\n",
       "                    TULP3     BCL6B     GSTK1      SELP  \n",
       "sampleID                                                 \n",
       "TCGA-N5-A4R8-01  1.290723 -0.852727 -2.000395 -5.091733  \n",
       "TCGA-N5-A4RA-01  0.931723 -2.614627 -0.800295 -5.525533  \n",
       "TCGA-N5-A4RD-01  0.600623 -0.892127 -0.581895 -3.565233  \n",
       "TCGA-N5-A4RF-01  0.549123  0.040173 -0.607895 -3.091133  \n",
       "TCGA-N5-A4RJ-01  0.508223  0.983573  0.058705  0.255367  \n",
       "\n",
       "[5 rows x 17341 columns]"
      ]
     },
     "execution_count": 17,
     "metadata": {},
     "output_type": "execute_result"
    }
   ],
   "source": [
    "merged_data = selected_clinical_data.join(genetic_data.T).dropna()\n",
    "merged_data.head()"
   ]
  },
  {
   "cell_type": "code",
   "execution_count": 18,
   "metadata": {
    "collapsed": false
   },
   "outputs": [
    {
     "name": "stdout",
     "output_type": "stream",
     "text": [
      "The merged dataset contains 57 samples.\n"
     ]
    }
   ],
   "source": [
    "print(f\"The merged dataset contains {len(merged_data)} samples.\")"
   ]
  },
  {
   "cell_type": "code",
   "execution_count": 19,
   "metadata": {
    "collapsed": false
   },
   "outputs": [
    {
     "name": "stdout",
     "output_type": "stream",
     "text": [
      "For the feature 'Uterine-Carcinosarcoma', the least common label is '1' with 57 occurrences. This represents 100.00% of the dataset.\n",
      "The distribution of the feature 'Uterine-Carcinosarcoma' in this dataset is severely biased.\n",
      "\n",
      "Quartiles for 'Age':\n",
      "  25%: 62.0\n",
      "  50% (Median): 68.0\n",
      "  75%: 76.0\n",
      "Min: 51\n",
      "Max: 90\n",
      "The distribution of the feature 'Age' in this dataset is fine.\n",
      "\n",
      "For the feature 'Gender', the least common label is '0' with 57 occurrences. This represents 100.00% of the dataset.\n",
      "The distribution of the feature 'Gender' in this dataset is severely biased.\n",
      "\n"
     ]
    },
    {
     "data": {
      "text/plain": [
       "True"
      ]
     },
     "execution_count": 19,
     "metadata": {},
     "output_type": "execute_result"
    }
   ],
   "source": [
    "is_trait_biased, merge_data = judge_and_remove_biased_features(merged_data, TRAIT, trait_type=trait_type)\n",
    "is_trait_biased"
   ]
  },
  {
   "cell_type": "code",
   "execution_count": 20,
   "metadata": {
    "collapsed": false
   },
   "outputs": [],
   "source": [
    "merged_data.head()\n",
    "if not is_trait_biased:\n",
    "    merge_data.to_csv(os.path.join(OUTPUT_DIR, cohort+'.csv'), index=False)"
   ]
  },
  {
   "cell_type": "code",
   "execution_count": 21,
   "metadata": {
    "collapsed": false
   },
   "outputs": [
    {
     "name": "stdout",
     "output_type": "stream",
     "text": [
      "A new JSON file was created at: ../../output1/Yuxuan/Uterine-Carcinosarcoma/cohort_info.json\n"
     ]
    }
   ],
   "source": [
    "save_cohort_info(cohort, JSON_PATH, is_available, is_trait_biased, merged_data)"
   ]
  },
  {
   "cell_type": "markdown",
   "metadata": {
    "ExecuteTime": {
     "end_time": "2023-12-28T21:28:38.028916303Z",
     "start_time": "2023-12-28T21:28:38.016245426Z"
    },
    "collapsed": false
   },
   "source": [
    "## 2.2. The GEO dataset"
   ]
  },
  {
   "cell_type": "markdown",
   "metadata": {
    "ExecuteTime": {
     "end_time": "2023-12-31T03:25:23.253882615Z",
     "start_time": "2023-12-31T03:25:23.244062710Z"
    },
    "collapsed": false
   },
   "source": [
    "In GEO, there may be one or multiple cohorts for a trait. Each cohort is identified by an accession number. We iterate over all accession numbers in the corresponding subdirectory, preprocess the cohort data, and save them to csv files."
   ]
  },
  {
   "cell_type": "code",
   "execution_count": 2,
   "metadata": {
    "ExecuteTime": {
     "end_time": "2024-01-02T01:02:59.503572381Z",
     "start_time": "2024-01-02T01:02:59.491400342Z"
    },
    "collapsed": false
   },
   "outputs": [
    {
     "data": {
      "text/plain": [
       "['GSE36133', 'GSE16680', 'GSE68950', 'GSE32507', 'GSE36138', 'GSE36139']"
      ]
     },
     "execution_count": 2,
     "metadata": {},
     "output_type": "execute_result"
    }
   ],
   "source": [
    "dataset = 'GEO'\n",
    "trait_subdir = \"Uterine-Carcinosarcoma\"\n",
    "\n",
    "trait_path = os.path.join(DATA_ROOT, dataset, trait_subdir)\n",
    "os.listdir(trait_path)"
   ]
  },
  {
   "cell_type": "markdown",
   "metadata": {
    "ExecuteTime": {
     "end_time": "2023-12-31T03:39:42.634870142Z",
     "start_time": "2023-12-31T03:39:42.534093295Z"
    },
    "collapsed": false
   },
   "source": [
    "Repeat the below steps for all the accession numbers"
   ]
  },
  {
   "cell_type": "code",
   "execution_count": 25,
   "metadata": {
    "ExecuteTime": {
     "end_time": "2024-01-02T01:03:00.287218362Z",
     "start_time": "2024-01-02T01:03:00.278758251Z"
    },
    "collapsed": false
   },
   "outputs": [
    {
     "data": {
      "text/plain": [
       "('/Users/wjt/Desktop/is_data/GEO/Uterine-Carcinosarcoma/GSE16680/GSE16680_family.soft.gz',\n",
       " '/Users/wjt/Desktop/is_data/GEO/Uterine-Carcinosarcoma/GSE16680/GSE16680_series_matrix.txt.gz')"
      ]
     },
     "execution_count": 25,
     "metadata": {},
     "output_type": "execute_result"
    }
   ],
   "source": [
    "cohort = accession_num = \"GSE16680\"\n",
    "cohort_dir = os.path.join(trait_path, accession_num)\n",
    "soft_file, matrix_file = geo_get_relevant_filepaths(cohort_dir)\n",
    "soft_file, matrix_file"
   ]
  },
  {
   "cell_type": "markdown",
   "metadata": {
    "collapsed": false
   },
   "source": [
    "### Inital filtering and clinical data preprocessing"
   ]
  },
  {
   "cell_type": "code",
   "execution_count": 26,
   "metadata": {
    "ExecuteTime": {
     "end_time": "2024-01-02T01:03:01.634861460Z",
     "start_time": "2024-01-02T01:03:01.076370517Z"
    },
    "collapsed": false
   },
   "outputs": [
    {
     "name": "stdout",
     "output_type": "stream",
     "text": [
      "!Series_title\t\"arrayCGH profiles of endometrial cancer with and without prior prolonged tamoxifen treatment for primary breast cancer\"\n",
      "!Series_summary\t\"Full title: comparison of the genomic (arrayCGH) profiles of endometrial cancer with and without prior prolonged tamoxifen treatment for primary breast cancer\"\n",
      "!Series_summary\t\"\"\n",
      "!Series_summary\t\"Purpose: Tamoxifen has been a very effective treatment for breast cancer for several decades, however, at the same time increases the risk of endometrial cancer, especially after prolonged exposure. In addition, tamoxifen has been associated with a higher proportion of unfavorable uterine tumor subtypes (carcinosarcomas and serous adenocarcinomas) with worse survival. We investigated whether endometrial tumors, which developed after prolonged tamoxifen treatment for breast cancer, are genetically different from endometrial tumors without preceding tamoxifen exposure.\"\n",
      "!Series_summary\t\"\"\n",
      "!Series_summary\t\"Experimental design: Array CGH was used on archival formalin-fixed paraffin embedded (FFPE) endometrial tumors to determine genomic aberrations. We compared the genomic profiles of 52 endometrial tumors from breast cancer patients after long-term (>=2 years) tamoxifen use (endometrioid adenocarcinomas n=26, carcinosarcomas n=14 and serous adenocarcinomas n=12) with endometrial tumors from unexposed breast cancer patients (n=45). Genomic profiles were correlated with tamoxifen exposure, tumor subtypes and histopathological characteristics of the endometrial tumors.\"\n",
      "!Series_summary\t\"\"\n",
      "!Series_summary\t\"Results: The common uterine corpus cancers of the endometrioid subtype show few genomic aberrations. Tumors with many genomic aberrations were in general ER-negative. In contrast, carcinosarcomas and serous adenocarcinomas showed many aberrations, however they were indistinguishable from each other. Tumors that developed after prolonged tamoxifen use did not show more or different aberrations than unexposed tumors. This was true for all tumor subtypes.\"\n",
      "!Series_summary\t\"\"\n",
      "!Series_summary\t\"Conclusion: Endometrial carcinomas that develop after prolonged tamoxifen use can not be distinguished from non-users on basis of their tumor genomic profile.\"\n",
      "!Series_overall_design\t\"52 endometrial tumors from breast cancer patients after long-term (>=2 years) tamoxifen use (endometrioid adenocarcinomas n=26, carcinosarcomas n=14 and serous adenocarcinomas n=12) and 45 endometrial tumors from unexposed breast cancer patients\"\n"
     ]
    }
   ],
   "source": [
    "background_prefixes = ['!Series_title', '!Series_summary', '!Series_overall_design']\n",
    "clinical_prefixes = ['!Sample_geo_accession', '!Sample_characteristics_ch1']\n",
    "\n",
    "background_info, clinical_data = get_background_and_clinical_data(matrix_file, background_prefixes, clinical_prefixes)\n",
    "print(background_info)"
   ]
  },
  {
   "cell_type": "code",
   "execution_count": 27,
   "metadata": {
    "ExecuteTime": {
     "end_time": "2024-01-02T01:03:01.642310454Z",
     "start_time": "2024-01-02T01:03:01.635048940Z"
    },
    "collapsed": false
   },
   "outputs": [
    {
     "data": {
      "text/html": [
       "<div>\n",
       "<style scoped>\n",
       "    .dataframe tbody tr th:only-of-type {\n",
       "        vertical-align: middle;\n",
       "    }\n",
       "\n",
       "    .dataframe tbody tr th {\n",
       "        vertical-align: top;\n",
       "    }\n",
       "\n",
       "    .dataframe thead th {\n",
       "        text-align: right;\n",
       "    }\n",
       "</style>\n",
       "<table border=\"1\" class=\"dataframe\">\n",
       "  <thead>\n",
       "    <tr style=\"text-align: right;\">\n",
       "      <th></th>\n",
       "      <th>!Sample_geo_accession</th>\n",
       "      <th>GSM418025</th>\n",
       "      <th>GSM418026</th>\n",
       "      <th>GSM418027</th>\n",
       "      <th>GSM418028</th>\n",
       "      <th>GSM418029</th>\n",
       "      <th>GSM418030</th>\n",
       "      <th>GSM418031</th>\n",
       "      <th>GSM418032</th>\n",
       "      <th>GSM418033</th>\n",
       "      <th>...</th>\n",
       "      <th>GSM418112</th>\n",
       "      <th>GSM418113</th>\n",
       "      <th>GSM418114</th>\n",
       "      <th>GSM418115</th>\n",
       "      <th>GSM418116</th>\n",
       "      <th>GSM418117</th>\n",
       "      <th>GSM418118</th>\n",
       "      <th>GSM418119</th>\n",
       "      <th>GSM418120</th>\n",
       "      <th>GSM418121</th>\n",
       "    </tr>\n",
       "  </thead>\n",
       "  <tbody>\n",
       "    <tr>\n",
       "      <th>0</th>\n",
       "      <td>!Sample_characteristics_ch1</td>\n",
       "      <td>gender: female</td>\n",
       "      <td>gender: female</td>\n",
       "      <td>gender: female</td>\n",
       "      <td>gender: female</td>\n",
       "      <td>gender: female</td>\n",
       "      <td>gender: female</td>\n",
       "      <td>gender: female</td>\n",
       "      <td>gender: female</td>\n",
       "      <td>gender: female</td>\n",
       "      <td>...</td>\n",
       "      <td>gender: female</td>\n",
       "      <td>gender: female</td>\n",
       "      <td>gender: female</td>\n",
       "      <td>gender: female</td>\n",
       "      <td>gender: female</td>\n",
       "      <td>gender: female</td>\n",
       "      <td>gender: female</td>\n",
       "      <td>gender: female</td>\n",
       "      <td>gender: female</td>\n",
       "      <td>gender: female</td>\n",
       "    </tr>\n",
       "    <tr>\n",
       "      <th>1</th>\n",
       "      <td>!Sample_characteristics_ch1</td>\n",
       "      <td>tumor: endometrial</td>\n",
       "      <td>tumor: endometrial</td>\n",
       "      <td>tumor: endometrial</td>\n",
       "      <td>tumor: endometrial</td>\n",
       "      <td>tumor: endometrial</td>\n",
       "      <td>tumor: endometrial</td>\n",
       "      <td>tumor: endometrial</td>\n",
       "      <td>tumor: endometrial</td>\n",
       "      <td>tumor: endometrial</td>\n",
       "      <td>...</td>\n",
       "      <td>tumor: endometrial</td>\n",
       "      <td>tumor: endometrial</td>\n",
       "      <td>tumor: endometrial</td>\n",
       "      <td>tumor: endometrial</td>\n",
       "      <td>tumor: endometrial</td>\n",
       "      <td>tumor: endometrial</td>\n",
       "      <td>tumor: endometrial</td>\n",
       "      <td>tumor: endometrial</td>\n",
       "      <td>tumor: endometrial</td>\n",
       "      <td>tumor: endometrial</td>\n",
       "    </tr>\n",
       "    <tr>\n",
       "      <th>2</th>\n",
       "      <td>!Sample_characteristics_ch1</td>\n",
       "      <td>histology: Endometrioid</td>\n",
       "      <td>histology: Endometrioid</td>\n",
       "      <td>histology: Endometrioid</td>\n",
       "      <td>histology: Endometrioid</td>\n",
       "      <td>histology: Endometrioid</td>\n",
       "      <td>histology: Endometrioid</td>\n",
       "      <td>histology: Endometrioid</td>\n",
       "      <td>histology: Endometrioid</td>\n",
       "      <td>histology: Endometrioid</td>\n",
       "      <td>...</td>\n",
       "      <td>histology: carcinosarcoma</td>\n",
       "      <td>histology: carcinosarcoma</td>\n",
       "      <td>histology: carcinosarcoma</td>\n",
       "      <td>histology: carcinosarcoma</td>\n",
       "      <td>histology: carcinosarcoma</td>\n",
       "      <td>histology: carcinosarcoma</td>\n",
       "      <td>histology: carcinosarcoma</td>\n",
       "      <td>histology: carcinosarcoma</td>\n",
       "      <td>histology: carcinosarcoma</td>\n",
       "      <td>histology: carcinosarcoma</td>\n",
       "    </tr>\n",
       "  </tbody>\n",
       "</table>\n",
       "<p>3 rows × 98 columns</p>\n",
       "</div>"
      ],
      "text/plain": [
       "         !Sample_geo_accession                GSM418025  \\\n",
       "0  !Sample_characteristics_ch1           gender: female   \n",
       "1  !Sample_characteristics_ch1       tumor: endometrial   \n",
       "2  !Sample_characteristics_ch1  histology: Endometrioid   \n",
       "\n",
       "                 GSM418026                GSM418027                GSM418028  \\\n",
       "0           gender: female           gender: female           gender: female   \n",
       "1       tumor: endometrial       tumor: endometrial       tumor: endometrial   \n",
       "2  histology: Endometrioid  histology: Endometrioid  histology: Endometrioid   \n",
       "\n",
       "                 GSM418029                GSM418030                GSM418031  \\\n",
       "0           gender: female           gender: female           gender: female   \n",
       "1       tumor: endometrial       tumor: endometrial       tumor: endometrial   \n",
       "2  histology: Endometrioid  histology: Endometrioid  histology: Endometrioid   \n",
       "\n",
       "                 GSM418032                GSM418033  ...  \\\n",
       "0           gender: female           gender: female  ...   \n",
       "1       tumor: endometrial       tumor: endometrial  ...   \n",
       "2  histology: Endometrioid  histology: Endometrioid  ...   \n",
       "\n",
       "                   GSM418112                  GSM418113  \\\n",
       "0             gender: female             gender: female   \n",
       "1         tumor: endometrial         tumor: endometrial   \n",
       "2  histology: carcinosarcoma  histology: carcinosarcoma   \n",
       "\n",
       "                   GSM418114                  GSM418115  \\\n",
       "0             gender: female             gender: female   \n",
       "1         tumor: endometrial         tumor: endometrial   \n",
       "2  histology: carcinosarcoma  histology: carcinosarcoma   \n",
       "\n",
       "                   GSM418116                  GSM418117  \\\n",
       "0             gender: female             gender: female   \n",
       "1         tumor: endometrial         tumor: endometrial   \n",
       "2  histology: carcinosarcoma  histology: carcinosarcoma   \n",
       "\n",
       "                   GSM418118                  GSM418119  \\\n",
       "0             gender: female             gender: female   \n",
       "1         tumor: endometrial         tumor: endometrial   \n",
       "2  histology: carcinosarcoma  histology: carcinosarcoma   \n",
       "\n",
       "                   GSM418120                  GSM418121  \n",
       "0             gender: female             gender: female  \n",
       "1         tumor: endometrial         tumor: endometrial  \n",
       "2  histology: carcinosarcoma  histology: carcinosarcoma  \n",
       "\n",
       "[3 rows x 98 columns]"
      ]
     },
     "execution_count": 27,
     "metadata": {},
     "output_type": "execute_result"
    }
   ],
   "source": [
    "clinical_data.head()"
   ]
  },
  {
   "cell_type": "code",
   "execution_count": 28,
   "metadata": {
    "ExecuteTime": {
     "end_time": "2024-01-02T01:03:01.805026160Z",
     "start_time": "2024-01-02T01:03:01.804428154Z"
    },
    "collapsed": false
   },
   "outputs": [
    {
     "data": {
      "text/plain": [
       "{0: ['gender: female'],\n",
       " 1: ['tumor: endometrial'],\n",
       " 2: ['histology: Endometrioid',\n",
       "  'histology: Serous adenocarcinoma',\n",
       "  'histology: carcinosarcoma']}"
      ]
     },
     "execution_count": 28,
     "metadata": {},
     "output_type": "execute_result"
    }
   ],
   "source": [
    "clinical_data_unique = get_unique_values_by_row(clinical_data)\n",
    "clinical_data_unique"
   ]
  },
  {
   "cell_type": "markdown",
   "metadata": {
    "ExecuteTime": {
     "end_time": "2023-12-31T03:58:04.978204446Z",
     "start_time": "2023-12-31T03:58:04.922270095Z"
    },
    "collapsed": false
   },
   "source": [
    "Analyze the metadata to determine data relevance and find ways to extract the clinical data.\n",
    "Reference prompt:"
   ]
  },
  {
   "cell_type": "code",
   "execution_count": 29,
   "metadata": {
    "ExecuteTime": {
     "end_time": "2024-01-02T01:03:02.369775044Z",
     "start_time": "2024-01-02T01:03:02.356501629Z"
    },
    "collapsed": false
   },
   "outputs": [
    {
     "data": {
      "text/plain": [
       "'As a biomedical research team, we are selecting datasets to study the association between the human trait \\'Uterine-Carcinosarcoma\\' and genetic factors, optionally considering the influence of age and gender. After searching the GEO database and parsing the matrix file of a series, we obtained background information and sample characteristics data. We will provide textual information about the dataset background, and a Python dictionary storing a list of unique values for each field of the sample characteristics data. Please carefully review the provided information and answer the following questions about this dataset:\\n1. Does this dataset contain gene expression data? (Note: Pure miRNA data is not suitable.)\\n2. For each of the traits \\'Uterine-Carcinosarcoma\\', \\'age\\', and \\'gender\\', please address these points:\\n   (1) Is there human data available for this trait?\\n   (2) If so, identify the key in the sample characteristics dictionary where unique values of this trait is recorded. The key is an integer. The trait information might be explicitly recorded, or can be inferred from the field with some biomedical knowledge or understanding about the data collection process.\\n   (3) Choose an appropriate data type (either \\'continuous\\' or \\'binary\\') for each trait. Write a Python function to convert any given value of the trait to this data type. The function should handle inference about the trait value and convert unknown values to None.\\n   Name the functions \\'convert_trait\\', \\'convert_age\\', and \\'convert_gender\\', respectively.\\n\\nBackground information about the dataset:\\n!Series_title\\t\"arrayCGH profiles of endometrial cancer with and without prior prolonged tamoxifen treatment for primary breast cancer\"\\n!Series_summary\\t\"Full title: comparison of the genomic (arrayCGH) profiles of endometrial cancer with and without prior prolonged tamoxifen treatment for primary breast cancer\"\\n!Series_summary\\t\"\"\\n!Series_summary\\t\"Purpose: Tamoxifen has been a very effective treatment for breast cancer for several decades, however, at the same time increases the risk of endometrial cancer, especially after prolonged exposure. In addition, tamoxifen has been associated with a higher proportion of unfavorable uterine tumor subtypes (carcinosarcomas and serous adenocarcinomas) with worse survival. We investigated whether endometrial tumors, which developed after prolonged tamoxifen treatment for breast cancer, are genetically different from endometrial tumors without preceding tamoxifen exposure.\"\\n!Series_summary\\t\"\"\\n!Series_summary\\t\"Experimental design: Array CGH was used on archival formalin-fixed paraffin embedded (FFPE) endometrial tumors to determine genomic aberrations. We compared the genomic profiles of 52 endometrial tumors from breast cancer patients after long-term (>=2 years) tamoxifen use (endometrioid adenocarcinomas n=26, carcinosarcomas n=14 and serous adenocarcinomas n=12) with endometrial tumors from unexposed breast cancer patients (n=45). Genomic profiles were correlated with tamoxifen exposure, tumor subtypes and histopathological characteristics of the endometrial tumors.\"\\n!Series_summary\\t\"\"\\n!Series_summary\\t\"Results: The common uterine corpus cancers of the endometrioid subtype show few genomic aberrations. Tumors with many genomic aberrations were in general ER-negative. In contrast, carcinosarcomas and serous adenocarcinomas showed many aberrations, however they were indistinguishable from each other. Tumors that developed after prolonged tamoxifen use did not show more or different aberrations than unexposed tumors. This was true for all tumor subtypes.\"\\n!Series_summary\\t\"\"\\n!Series_summary\\t\"Conclusion: Endometrial carcinomas that develop after prolonged tamoxifen use can not be distinguished from non-users on basis of their tumor genomic profile.\"\\n!Series_overall_design\\t\"52 endometrial tumors from breast cancer patients after long-term (>=2 years) tamoxifen use (endometrioid adenocarcinomas n=26, carcinosarcomas n=14 and serous adenocarcinomas n=12) and 45 endometrial tumors from unexposed breast cancer patients\"\\n\\nSample characteristics dictionary (from \"!Sample_characteristics_ch1\", converted to a Python dictionary that stores the unique values for each field):\\n{0: [\\'gender: female\\'], 1: [\\'tumor: endometrial\\'], 2: [\\'histology: Endometrioid\\', \\'histology: Serous adenocarcinoma\\', \\'histology: carcinosarcoma\\']}\\n'"
      ]
     },
     "execution_count": 29,
     "metadata": {},
     "output_type": "execute_result"
    }
   ],
   "source": [
    "f'''As a biomedical research team, we are selecting datasets to study the association between the human trait \\'{TRAIT}\\' and genetic factors, optionally considering the influence of age and gender. After searching the GEO database and parsing the matrix file of a series, we obtained background information and sample characteristics data. We will provide textual information about the dataset background, and a Python dictionary storing a list of unique values for each field of the sample characteristics data. Please carefully review the provided information and answer the following questions about this dataset:\n",
    "1. Does this dataset contain gene expression data? (Note: Pure miRNA data is not suitable.)\n",
    "2. For each of the traits \\'{TRAIT}\\', 'age', and 'gender', please address these points:\n",
    "   (1) Is there human data available for this trait?\n",
    "   (2) If so, identify the key in the sample characteristics dictionary where unique values of this trait is recorded. The key is an integer. The trait information might be explicitly recorded, or can be inferred from the field with some biomedical knowledge or understanding about the data collection process.\n",
    "   (3) Choose an appropriate data type (either 'continuous' or 'binary') for each trait. Write a Python function to convert any given value of the trait to this data type. The function should handle inference about the trait value and convert unknown values to None.\n",
    "   Name the functions 'convert_trait', 'convert_age', and 'convert_gender', respectively.\n",
    "\n",
    "Background information about the dataset:\n",
    "{background_info}\n",
    "\n",
    "Sample characteristics dictionary (from \"!Sample_characteristics_ch1\", converted to a Python dictionary that stores the unique values for each field):\n",
    "{clinical_data_unique}\n",
    "'''"
   ]
  },
  {
   "cell_type": "markdown",
   "metadata": {
    "ExecuteTime": {
     "end_time": "2023-12-31T03:58:04.978240504Z",
     "start_time": "2023-12-31T03:58:04.922365324Z"
    },
    "collapsed": false
   },
   "source": [
    "Understand and verify the answer from GPT, to assign values to the below variables. Assign None to the 'row_id' variables if relevant data row was not found.\n",
    "Later we need to let GPT format its answer to automatically do these. But given the complexity of this step, let's grow some insight from the free-text answers for now."
   ]
  },
  {
   "cell_type": "code",
   "execution_count": 30,
   "metadata": {
    "ExecuteTime": {
     "end_time": "2024-01-02T01:03:03.079540570Z",
     "start_time": "2024-01-02T01:03:03.073638535Z"
    },
    "collapsed": false
   },
   "outputs": [],
   "source": [
    "is_gene_availabe = True\n",
    "trait_row = 1\n",
    "age_row = None\n",
    "gender_row = 0\n",
    "\n",
    "trait_type = 'binary'"
   ]
  },
  {
   "cell_type": "code",
   "execution_count": 31,
   "metadata": {
    "ExecuteTime": {
     "end_time": "2024-01-02T01:03:03.572682163Z",
     "start_time": "2024-01-02T01:03:03.559775513Z"
    },
    "collapsed": false
   },
   "outputs": [],
   "source": [
    "is_available = is_gene_availabe and (trait_row is not None)\n",
    "if not is_available:\n",
    "    save_cohort_info(cohort, JSON_PATH, is_available)\n",
    "    print(\"This cohort is not usable. Please skip the following steps and jump to the next accession number.\")"
   ]
  },
  {
   "cell_type": "code",
   "execution_count": 36,
   "metadata": {
    "ExecuteTime": {
     "end_time": "2024-01-02T01:03:03.973964287Z",
     "start_time": "2024-01-02T01:03:03.964958096Z"
    },
    "collapsed": false
   },
   "outputs": [
    {
     "data": {
      "text/plain": [
       "(0, None, None)"
      ]
     },
     "execution_count": 36,
     "metadata": {},
     "output_type": "execute_result"
    }
   ],
   "source": [
    "def convert_trait(tissue_type):\n",
    "    \"\"\"\n",
    "    Convert tissue type to epilepsy presence (binary).\n",
    "    Assuming epilepsy presence for 'Hippocampus' tissue.\n",
    "    \"\"\"\n",
    "    if tissue_type == 'tumor: endometrial':\n",
    "        return 1  # Epilepsy present\n",
    "    else:\n",
    "        return 0  # Epilepsy not present\n",
    "\n",
    "def convert_age(age_string):\n",
    "    \"\"\"\n",
    "    Convert age string to a numerical value.\n",
    "    \"\"\"\n",
    "    if age_string.startswith('age: '):\n",
    "        try:\n",
    "            return int(age_string.split('age: ')[1].rstrip(''))  # Extracting numeric part\n",
    "        except ValueError:\n",
    "            return None  # In case of parsing error\n",
    "    else:\n",
    "        return None  # If age string does not follow expected format\n",
    "\n",
    "def convert_gender(gender_string):\n",
    "    \"\"\"\n",
    "    Convert gender string to a binary representation.\n",
    "    Female -> 0, Male -> 1, Unknown -> None\n",
    "    \"\"\"\n",
    "    if gender_string == 'gender: female':\n",
    "        return 0\n",
    "    elif gender_string == 'gender: male':\n",
    "        return 1\n",
    "    else:\n",
    "        return None  # In case of unknown gender\n",
    "\n",
    "# Example usage\n",
    "example_tissue = 'tissue: Hippocampus'\n",
    "example_age = 'age: 23y'\n",
    "example_gender = 'gender: Male'\n",
    "\n",
    "converted_trait = convert_trait(example_tissue)\n",
    "converted_age = convert_age(example_age)\n",
    "converted_gender = convert_gender(example_gender)\n",
    "\n",
    "converted_trait, converted_age, converted_gender"
   ]
  },
  {
   "cell_type": "code",
   "execution_count": 37,
   "metadata": {
    "ExecuteTime": {
     "end_time": "2024-01-02T01:03:04.637878352Z",
     "start_time": "2024-01-02T01:03:04.593886885Z"
    },
    "collapsed": false
   },
   "outputs": [
    {
     "data": {
      "text/html": [
       "<div>\n",
       "<style scoped>\n",
       "    .dataframe tbody tr th:only-of-type {\n",
       "        vertical-align: middle;\n",
       "    }\n",
       "\n",
       "    .dataframe tbody tr th {\n",
       "        vertical-align: top;\n",
       "    }\n",
       "\n",
       "    .dataframe thead th {\n",
       "        text-align: right;\n",
       "    }\n",
       "</style>\n",
       "<table border=\"1\" class=\"dataframe\">\n",
       "  <thead>\n",
       "    <tr style=\"text-align: right;\">\n",
       "      <th></th>\n",
       "      <th>GSM418025</th>\n",
       "      <th>GSM418026</th>\n",
       "      <th>GSM418027</th>\n",
       "      <th>GSM418028</th>\n",
       "      <th>GSM418029</th>\n",
       "      <th>GSM418030</th>\n",
       "      <th>GSM418031</th>\n",
       "      <th>GSM418032</th>\n",
       "      <th>GSM418033</th>\n",
       "      <th>GSM418034</th>\n",
       "      <th>...</th>\n",
       "      <th>GSM418112</th>\n",
       "      <th>GSM418113</th>\n",
       "      <th>GSM418114</th>\n",
       "      <th>GSM418115</th>\n",
       "      <th>GSM418116</th>\n",
       "      <th>GSM418117</th>\n",
       "      <th>GSM418118</th>\n",
       "      <th>GSM418119</th>\n",
       "      <th>GSM418120</th>\n",
       "      <th>GSM418121</th>\n",
       "    </tr>\n",
       "  </thead>\n",
       "  <tbody>\n",
       "    <tr>\n",
       "      <th>Uterine-Carcinosarcoma</th>\n",
       "      <td>1</td>\n",
       "      <td>1</td>\n",
       "      <td>1</td>\n",
       "      <td>1</td>\n",
       "      <td>1</td>\n",
       "      <td>1</td>\n",
       "      <td>1</td>\n",
       "      <td>1</td>\n",
       "      <td>1</td>\n",
       "      <td>1</td>\n",
       "      <td>...</td>\n",
       "      <td>1</td>\n",
       "      <td>1</td>\n",
       "      <td>1</td>\n",
       "      <td>1</td>\n",
       "      <td>1</td>\n",
       "      <td>1</td>\n",
       "      <td>1</td>\n",
       "      <td>1</td>\n",
       "      <td>1</td>\n",
       "      <td>1</td>\n",
       "    </tr>\n",
       "    <tr>\n",
       "      <th>Gender</th>\n",
       "      <td>0</td>\n",
       "      <td>0</td>\n",
       "      <td>0</td>\n",
       "      <td>0</td>\n",
       "      <td>0</td>\n",
       "      <td>0</td>\n",
       "      <td>0</td>\n",
       "      <td>0</td>\n",
       "      <td>0</td>\n",
       "      <td>0</td>\n",
       "      <td>...</td>\n",
       "      <td>0</td>\n",
       "      <td>0</td>\n",
       "      <td>0</td>\n",
       "      <td>0</td>\n",
       "      <td>0</td>\n",
       "      <td>0</td>\n",
       "      <td>0</td>\n",
       "      <td>0</td>\n",
       "      <td>0</td>\n",
       "      <td>0</td>\n",
       "    </tr>\n",
       "  </tbody>\n",
       "</table>\n",
       "<p>2 rows × 97 columns</p>\n",
       "</div>"
      ],
      "text/plain": [
       "                        GSM418025  GSM418026  GSM418027  GSM418028  GSM418029  \\\n",
       "Uterine-Carcinosarcoma          1          1          1          1          1   \n",
       "Gender                          0          0          0          0          0   \n",
       "\n",
       "                        GSM418030  GSM418031  GSM418032  GSM418033  GSM418034  \\\n",
       "Uterine-Carcinosarcoma          1          1          1          1          1   \n",
       "Gender                          0          0          0          0          0   \n",
       "\n",
       "                        ...  GSM418112  GSM418113  GSM418114  GSM418115  \\\n",
       "Uterine-Carcinosarcoma  ...          1          1          1          1   \n",
       "Gender                  ...          0          0          0          0   \n",
       "\n",
       "                        GSM418116  GSM418117  GSM418118  GSM418119  GSM418120  \\\n",
       "Uterine-Carcinosarcoma          1          1          1          1          1   \n",
       "Gender                          0          0          0          0          0   \n",
       "\n",
       "                        GSM418121  \n",
       "Uterine-Carcinosarcoma          1  \n",
       "Gender                          0  \n",
       "\n",
       "[2 rows x 97 columns]"
      ]
     },
     "execution_count": 37,
     "metadata": {},
     "output_type": "execute_result"
    }
   ],
   "source": [
    "selected_clinical_data = geo_select_clinical_features(clinical_data, TRAIT, trait_row, convert_trait, age_row=age_row,\n",
    "                                                      convert_age=convert_age, gender_row=gender_row,\n",
    "                                                      convert_gender=convert_gender)\n",
    "selected_clinical_data.head()"
   ]
  },
  {
   "cell_type": "markdown",
   "metadata": {
    "ExecuteTime": {
     "end_time": "2023-12-31T03:58:04.978664193Z",
     "start_time": "2023-12-31T03:58:04.966117261Z"
    },
    "collapsed": false
   },
   "source": [
    "### Genetic data preprocessing and final filtering"
   ]
  },
  {
   "cell_type": "code",
   "execution_count": 38,
   "metadata": {
    "ExecuteTime": {
     "end_time": "2024-01-02T01:03:06.246474256Z",
     "start_time": "2024-01-02T01:03:05.670354792Z"
    },
    "collapsed": false
   },
   "outputs": [
    {
     "data": {
      "text/html": [
       "<div>\n",
       "<style scoped>\n",
       "    .dataframe tbody tr th:only-of-type {\n",
       "        vertical-align: middle;\n",
       "    }\n",
       "\n",
       "    .dataframe tbody tr th {\n",
       "        vertical-align: top;\n",
       "    }\n",
       "\n",
       "    .dataframe thead th {\n",
       "        text-align: right;\n",
       "    }\n",
       "</style>\n",
       "<table border=\"1\" class=\"dataframe\">\n",
       "  <thead>\n",
       "    <tr style=\"text-align: right;\">\n",
       "      <th></th>\n",
       "      <th>GSM418025</th>\n",
       "      <th>GSM418026</th>\n",
       "      <th>GSM418027</th>\n",
       "      <th>GSM418028</th>\n",
       "      <th>GSM418029</th>\n",
       "      <th>GSM418030</th>\n",
       "      <th>GSM418031</th>\n",
       "      <th>GSM418032</th>\n",
       "      <th>GSM418033</th>\n",
       "      <th>GSM418034</th>\n",
       "      <th>...</th>\n",
       "      <th>GSM418112</th>\n",
       "      <th>GSM418113</th>\n",
       "      <th>GSM418114</th>\n",
       "      <th>GSM418115</th>\n",
       "      <th>GSM418116</th>\n",
       "      <th>GSM418117</th>\n",
       "      <th>GSM418118</th>\n",
       "      <th>GSM418119</th>\n",
       "      <th>GSM418120</th>\n",
       "      <th>GSM418121</th>\n",
       "    </tr>\n",
       "    <tr>\n",
       "      <th>ID</th>\n",
       "      <th></th>\n",
       "      <th></th>\n",
       "      <th></th>\n",
       "      <th></th>\n",
       "      <th></th>\n",
       "      <th></th>\n",
       "      <th></th>\n",
       "      <th></th>\n",
       "      <th></th>\n",
       "      <th></th>\n",
       "      <th></th>\n",
       "      <th></th>\n",
       "      <th></th>\n",
       "      <th></th>\n",
       "      <th></th>\n",
       "      <th></th>\n",
       "      <th></th>\n",
       "      <th></th>\n",
       "      <th></th>\n",
       "      <th></th>\n",
       "      <th></th>\n",
       "    </tr>\n",
       "  </thead>\n",
       "  <tbody>\n",
       "    <tr>\n",
       "      <th>1</th>\n",
       "      <td>0.035992</td>\n",
       "      <td>-0.086222</td>\n",
       "      <td>-0.223092</td>\n",
       "      <td>-0.156672</td>\n",
       "      <td>-0.182326</td>\n",
       "      <td>-0.192382</td>\n",
       "      <td>-0.109427</td>\n",
       "      <td>-0.089502</td>\n",
       "      <td>-0.096096</td>\n",
       "      <td>-0.199290</td>\n",
       "      <td>...</td>\n",
       "      <td>0.044311</td>\n",
       "      <td>0.023583</td>\n",
       "      <td>-0.069829</td>\n",
       "      <td>0.152575</td>\n",
       "      <td>-0.145039</td>\n",
       "      <td>-0.072162</td>\n",
       "      <td>-0.108381</td>\n",
       "      <td>0.004322</td>\n",
       "      <td>0.039318</td>\n",
       "      <td>-0.113647</td>\n",
       "    </tr>\n",
       "    <tr>\n",
       "      <th>2</th>\n",
       "      <td>0.127053</td>\n",
       "      <td>-0.107891</td>\n",
       "      <td>-0.247596</td>\n",
       "      <td>-0.222871</td>\n",
       "      <td>-0.171980</td>\n",
       "      <td>-0.226315</td>\n",
       "      <td>-0.185172</td>\n",
       "      <td>-0.174322</td>\n",
       "      <td>0.094455</td>\n",
       "      <td>-0.288217</td>\n",
       "      <td>...</td>\n",
       "      <td>0.211583</td>\n",
       "      <td>-0.042863</td>\n",
       "      <td>0.150818</td>\n",
       "      <td>-0.035458</td>\n",
       "      <td>-0.102963</td>\n",
       "      <td>-0.054713</td>\n",
       "      <td>0.098555</td>\n",
       "      <td>-0.020514</td>\n",
       "      <td>-0.092279</td>\n",
       "      <td>-0.134208</td>\n",
       "    </tr>\n",
       "    <tr>\n",
       "      <th>3</th>\n",
       "      <td>-0.095786</td>\n",
       "      <td>-0.070545</td>\n",
       "      <td>0.084087</td>\n",
       "      <td>-0.124952</td>\n",
       "      <td>0.009435</td>\n",
       "      <td>0.000729</td>\n",
       "      <td>0.083913</td>\n",
       "      <td>-0.128196</td>\n",
       "      <td>-0.135641</td>\n",
       "      <td>-0.046381</td>\n",
       "      <td>...</td>\n",
       "      <td>-0.262905</td>\n",
       "      <td>-0.265721</td>\n",
       "      <td>0.035171</td>\n",
       "      <td>-0.122488</td>\n",
       "      <td>-0.415954</td>\n",
       "      <td>-0.211390</td>\n",
       "      <td>-0.234103</td>\n",
       "      <td>-0.038073</td>\n",
       "      <td>-0.175422</td>\n",
       "      <td>-0.234146</td>\n",
       "    </tr>\n",
       "    <tr>\n",
       "      <th>5</th>\n",
       "      <td>0.036090</td>\n",
       "      <td>0.024356</td>\n",
       "      <td>0.107323</td>\n",
       "      <td>0.131677</td>\n",
       "      <td>0.081400</td>\n",
       "      <td>0.090688</td>\n",
       "      <td>0.054838</td>\n",
       "      <td>-0.065224</td>\n",
       "      <td>0.163528</td>\n",
       "      <td>-0.079138</td>\n",
       "      <td>...</td>\n",
       "      <td>0.307844</td>\n",
       "      <td>0.015857</td>\n",
       "      <td>0.030096</td>\n",
       "      <td>0.039556</td>\n",
       "      <td>0.045207</td>\n",
       "      <td>0.014462</td>\n",
       "      <td>0.019879</td>\n",
       "      <td>0.373567</td>\n",
       "      <td>0.105076</td>\n",
       "      <td>-0.002260</td>\n",
       "    </tr>\n",
       "    <tr>\n",
       "      <th>7</th>\n",
       "      <td>-0.069858</td>\n",
       "      <td>-0.030235</td>\n",
       "      <td>-0.025690</td>\n",
       "      <td>-0.025184</td>\n",
       "      <td>0.032401</td>\n",
       "      <td>-0.080676</td>\n",
       "      <td>-0.018648</td>\n",
       "      <td>-0.426460</td>\n",
       "      <td>-0.298679</td>\n",
       "      <td>0.023501</td>\n",
       "      <td>...</td>\n",
       "      <td>-0.066908</td>\n",
       "      <td>-0.132252</td>\n",
       "      <td>0.057038</td>\n",
       "      <td>-0.159777</td>\n",
       "      <td>-0.401354</td>\n",
       "      <td>0.020658</td>\n",
       "      <td>-0.199523</td>\n",
       "      <td>-0.262821</td>\n",
       "      <td>-0.236213</td>\n",
       "      <td>-0.293290</td>\n",
       "    </tr>\n",
       "  </tbody>\n",
       "</table>\n",
       "<p>5 rows × 97 columns</p>\n",
       "</div>"
      ],
      "text/plain": [
       "    GSM418025  GSM418026  GSM418027  GSM418028  GSM418029  GSM418030  \\\n",
       "ID                                                                     \n",
       "1    0.035992  -0.086222  -0.223092  -0.156672  -0.182326  -0.192382   \n",
       "2    0.127053  -0.107891  -0.247596  -0.222871  -0.171980  -0.226315   \n",
       "3   -0.095786  -0.070545   0.084087  -0.124952   0.009435   0.000729   \n",
       "5    0.036090   0.024356   0.107323   0.131677   0.081400   0.090688   \n",
       "7   -0.069858  -0.030235  -0.025690  -0.025184   0.032401  -0.080676   \n",
       "\n",
       "    GSM418031  GSM418032  GSM418033  GSM418034  ...  GSM418112  GSM418113  \\\n",
       "ID                                              ...                         \n",
       "1   -0.109427  -0.089502  -0.096096  -0.199290  ...   0.044311   0.023583   \n",
       "2   -0.185172  -0.174322   0.094455  -0.288217  ...   0.211583  -0.042863   \n",
       "3    0.083913  -0.128196  -0.135641  -0.046381  ...  -0.262905  -0.265721   \n",
       "5    0.054838  -0.065224   0.163528  -0.079138  ...   0.307844   0.015857   \n",
       "7   -0.018648  -0.426460  -0.298679   0.023501  ...  -0.066908  -0.132252   \n",
       "\n",
       "    GSM418114  GSM418115  GSM418116  GSM418117  GSM418118  GSM418119  \\\n",
       "ID                                                                     \n",
       "1   -0.069829   0.152575  -0.145039  -0.072162  -0.108381   0.004322   \n",
       "2    0.150818  -0.035458  -0.102963  -0.054713   0.098555  -0.020514   \n",
       "3    0.035171  -0.122488  -0.415954  -0.211390  -0.234103  -0.038073   \n",
       "5    0.030096   0.039556   0.045207   0.014462   0.019879   0.373567   \n",
       "7    0.057038  -0.159777  -0.401354   0.020658  -0.199523  -0.262821   \n",
       "\n",
       "    GSM418120  GSM418121  \n",
       "ID                        \n",
       "1    0.039318  -0.113647  \n",
       "2   -0.092279  -0.134208  \n",
       "3   -0.175422  -0.234146  \n",
       "5    0.105076  -0.002260  \n",
       "7   -0.236213  -0.293290  \n",
       "\n",
       "[5 rows x 97 columns]"
      ]
     },
     "execution_count": 38,
     "metadata": {},
     "output_type": "execute_result"
    }
   ],
   "source": [
    "genetic_data = get_genetic_data(matrix_file)\n",
    "genetic_data.head()"
   ]
  },
  {
   "cell_type": "code",
   "execution_count": 39,
   "metadata": {
    "ExecuteTime": {
     "end_time": "2024-01-02T01:03:06.250833943Z",
     "start_time": "2024-01-02T01:03:06.246758837Z"
    },
    "collapsed": false
   },
   "outputs": [
    {
     "data": {
      "text/plain": [
       "['1',\n",
       " '2',\n",
       " '3',\n",
       " '5',\n",
       " '7',\n",
       " '8',\n",
       " '9',\n",
       " '10',\n",
       " '11',\n",
       " '12',\n",
       " '13',\n",
       " '14',\n",
       " '15',\n",
       " '16',\n",
       " '17',\n",
       " '18',\n",
       " '19',\n",
       " '20',\n",
       " '21',\n",
       " '22']"
      ]
     },
     "execution_count": 39,
     "metadata": {},
     "output_type": "execute_result"
    }
   ],
   "source": [
    "gene_row_ids = genetic_data.index[:20].tolist()\n",
    "gene_row_ids"
   ]
  },
  {
   "cell_type": "markdown",
   "metadata": {
    "ExecuteTime": {
     "end_time": "2023-12-31T03:30:41.595335164Z",
     "start_time": "2023-12-31T03:30:41.513232329Z"
    },
    "collapsed": false
   },
   "source": [
    "Check if the gene dataset requires mapping to get the gene symbols corresponding to each data row."
   ]
  },
  {
   "cell_type": "markdown",
   "metadata": {
    "collapsed": false
   },
   "source": [
    "Reference prompt:"
   ]
  },
  {
   "cell_type": "code",
   "execution_count": 40,
   "metadata": {
    "ExecuteTime": {
     "end_time": "2024-01-02T01:03:07.586216481Z",
     "start_time": "2024-01-02T01:03:07.574527035Z"
    },
    "collapsed": false
   },
   "outputs": [
    {
     "data": {
      "text/plain": [
       "\"\\nBelow are the row headers of a gene expression dataset in GEO. Based on your biomedical knowledge, are they human gene symbols, or are they some other identifiers that need to be mapped to gene symbols? Your answer should be concluded by starting a new line and strictly following this format:\\nrequires_gene_mapping = (True or False)\\n\\nRow headers:\\n['1', '2', '3', '5', '7', '8', '9', '10', '11', '12', '13', '14', '15', '16', '17', '18', '19', '20', '21', '22']\\n\""
      ]
     },
     "execution_count": 40,
     "metadata": {},
     "output_type": "execute_result"
    }
   ],
   "source": [
    "f'''\n",
    "Below are the row headers of a gene expression dataset in GEO. Based on your biomedical knowledge, are they human gene symbols, or are they some other identifiers that need to be mapped to gene symbols? Your answer should be concluded by starting a new line and strictly following this format:\n",
    "requires_gene_mapping = (True or False)\n",
    "\n",
    "Row headers:\n",
    "{gene_row_ids}\n",
    "'''"
   ]
  },
  {
   "cell_type": "markdown",
   "metadata": {
    "collapsed": false
   },
   "source": [
    "If not required, jump directly to the gene normalization step"
   ]
  },
  {
   "cell_type": "code",
   "execution_count": 41,
   "metadata": {
    "ExecuteTime": {
     "end_time": "2024-01-02T01:03:08.263712538Z",
     "start_time": "2024-01-02T01:03:08.260656314Z"
    },
    "collapsed": false
   },
   "outputs": [],
   "source": [
    "requires_gene_mapping = True"
   ]
  },
  {
   "cell_type": "code",
   "execution_count": 42,
   "metadata": {
    "ExecuteTime": {
     "end_time": "2024-01-02T01:03:33.822550310Z",
     "start_time": "2024-01-02T01:03:08.648958912Z"
    },
    "collapsed": false
   },
   "outputs": [
    {
     "name": "stdout",
     "output_type": "stream",
     "text": [
      "{'ID': ['3535', '3537', '2305', '145', '2309'], 'CLONE_ID': ['GS-232-B23', 'GS-62-L8', 'RP4-785P20', 'RP1-37J18', 'RP3-438L4'], 'Chr': [1.0, 1.0, 1.0, 1.0, 1.0], 'Genomic_pos': [200000.0, 200050.0, 3284807.0, 4542451.0, 7103443.0]}\n"
     ]
    }
   ],
   "source": [
    "if requires_gene_mapping:\n",
    "    gene_annotation = get_gene_annotation(soft_file)\n",
    "    gene_annotation_summary = preview_df(gene_annotation)\n",
    "    print(gene_annotation_summary)"
   ]
  },
  {
   "cell_type": "markdown",
   "metadata": {
    "ExecuteTime": {
     "end_time": "2023-12-31T03:58:04.978931927Z",
     "start_time": "2023-12-31T03:58:04.966328339Z"
    },
    "collapsed": false
   },
   "source": [
    "Observe the first few cells in the ID column of the gene annotation dataframe, to find the names of columns that store the gene probe IDs and gene symbols respectively.\n",
    "Reference prompt:"
   ]
  },
  {
   "cell_type": "code",
   "execution_count": 43,
   "metadata": {
    "ExecuteTime": {
     "end_time": "2024-01-02T01:03:33.822912446Z",
     "start_time": "2024-01-02T01:03:33.804491826Z"
    },
    "collapsed": false
   },
   "outputs": [
    {
     "name": "stdout",
     "output_type": "stream",
     "text": [
      "\n",
      "    As a biomedical research team, we extracted the gene annotation data from a series in the GEO database, and saved it to a Python dictionary. Please read the dictionary, and decide which key stores the ID of the probe, and which key stores the gene symbols. Please strict follow this format in your answer:\n",
      "    probe_name_key = 'key_name1'\n",
      "    gene_name_key = 'key_name2'\n",
      "\n",
      "    Gene annotation dictionary:\n",
      "    {'ID': ['3535', '3537', '2305', '145', '2309'], 'CLONE_ID': ['GS-232-B23', 'GS-62-L8', 'RP4-785P20', 'RP1-37J18', 'RP3-438L4'], 'Chr': [1.0, 1.0, 1.0, 1.0, 1.0], 'Genomic_pos': [200000.0, 200050.0, 3284807.0, 4542451.0, 7103443.0]}\n",
      "    \n"
     ]
    }
   ],
   "source": [
    "if requires_gene_mapping:\n",
    "    print(f'''\n",
    "    As a biomedical research team, we extracted the gene annotation data from a series in the GEO database, and saved it to a Python dictionary. Please read the dictionary, and decide which key stores the ID of the probe, and which key stores the gene symbols. Please strict follow this format in your answer:\n",
    "    probe_name_key = 'key_name1'\n",
    "    gene_name_key = 'key_name2'\n",
    "\n",
    "    Gene annotation dictionary:\n",
    "    {gene_annotation_summary}\n",
    "    ''')"
   ]
  },
  {
   "cell_type": "code",
   "execution_count": 45,
   "metadata": {
    "ExecuteTime": {
     "end_time": "2024-01-02T01:03:35.113359369Z",
     "start_time": "2024-01-02T01:03:33.804666371Z"
    },
    "collapsed": false
   },
   "outputs": [],
   "source": [
    "if requires_gene_mapping:\n",
    "    probe_id_key = 'ID'\n",
    "    gene_symb_key = 'CLONE_ID'\n",
    "    gene_mapping = get_gene_mapping(gene_annotation, probe_id_key, gene_symb_key)\n",
    "    genetic_data = apply_gene_mapping(genetic_data, gene_mapping)"
   ]
  },
  {
   "cell_type": "code",
   "execution_count": 46,
   "metadata": {
    "ExecuteTime": {
     "end_time": "2024-01-02T01:03:35.156584675Z",
     "start_time": "2024-01-02T01:03:35.114652593Z"
    },
    "collapsed": false
   },
   "outputs": [],
   "source": [
    "if NORMALIZE_GENE:\n",
    "    genetic_data = normalize_gene_symbols_in_index(genetic_data)"
   ]
  },
  {
   "cell_type": "code",
   "execution_count": 47,
   "metadata": {
    "ExecuteTime": {
     "end_time": "2024-01-02T01:03:35.158174021Z",
     "start_time": "2024-01-02T01:03:35.156777134Z"
    },
    "collapsed": false
   },
   "outputs": [],
   "source": [
    "merged_data = geo_merge_clinical_genetic_data(selected_clinical_data, genetic_data)\n",
    "# The preprocessing runs through, which means is_available should be True\n",
    "is_available = True"
   ]
  },
  {
   "cell_type": "code",
   "execution_count": 48,
   "metadata": {
    "ExecuteTime": {
     "end_time": "2024-01-02T01:03:35.158378853Z",
     "start_time": "2024-01-02T01:03:35.156895194Z"
    },
    "collapsed": false
   },
   "outputs": [
    {
     "name": "stdout",
     "output_type": "stream",
     "text": [
      "The merged dataset contains 97 samples.\n"
     ]
    }
   ],
   "source": [
    "print(f\"The merged dataset contains {len(merged_data)} samples.\")"
   ]
  },
  {
   "cell_type": "code",
   "execution_count": 49,
   "metadata": {
    "ExecuteTime": {
     "end_time": "2024-01-02T01:03:35.158646754Z",
     "start_time": "2024-01-02T01:03:35.156975304Z"
    },
    "collapsed": false
   },
   "outputs": [
    {
     "name": "stdout",
     "output_type": "stream",
     "text": [
      "For the feature 'Uterine-Carcinosarcoma', the least common label is '1.0' with 97 occurrences. This represents 100.00% of the dataset.\n",
      "The distribution of the feature 'Uterine-Carcinosarcoma' in this dataset is severely biased.\n",
      "\n",
      "For the feature 'Gender', the least common label is '0.0' with 97 occurrences. This represents 100.00% of the dataset.\n",
      "The distribution of the feature 'Gender' in this dataset is severely biased.\n",
      "\n"
     ]
    },
    {
     "data": {
      "text/plain": [
       "True"
      ]
     },
     "execution_count": 49,
     "metadata": {},
     "output_type": "execute_result"
    }
   ],
   "source": [
    "is_trait_biased, merged_data = judge_and_remove_biased_features(merged_data, TRAIT, trait_type=trait_type)\n",
    "is_trait_biased"
   ]
  },
  {
   "cell_type": "code",
   "execution_count": 50,
   "metadata": {
    "ExecuteTime": {
     "end_time": "2024-01-02T01:03:35.158803015Z",
     "start_time": "2024-01-02T01:03:35.157063388Z"
    },
    "collapsed": false
   },
   "outputs": [
    {
     "name": "stdout",
     "output_type": "stream",
     "text": [
      "A new JSON file was created at: /Users/wjt/Desktop/is_data/v1/Lisa/Uterine-Carcinosarcoma/cohort_info.json\n"
     ]
    }
   ],
   "source": [
    "save_cohort_info(cohort, JSON_PATH, is_available, is_trait_biased, merged_data, note='')"
   ]
  },
  {
   "cell_type": "code",
   "execution_count": 51,
   "metadata": {
    "ExecuteTime": {
     "end_time": "2024-01-02T01:03:36.004312476Z",
     "start_time": "2024-01-02T01:03:35.157165158Z"
    },
    "collapsed": false
   },
   "outputs": [],
   "source": [
    "merged_data.head()\n",
    "if not is_trait_biased:\n",
    "    merged_data.to_csv(os.path.join(OUTPUT_DIR, cohort+'.csv'), index=False)"
   ]
  },
  {
   "cell_type": "markdown",
   "metadata": {
    "ExecuteTime": {
     "end_time": "2023-12-31T03:58:22.271683755Z",
     "start_time": "2023-12-31T03:58:22.246557674Z"
    },
    "id": "-MTPhRGxJV7I"
   },
   "source": [
    "### 3. Do regression & Cross Validation"
   ]
  },
  {
   "cell_type": "code",
   "execution_count": 52,
   "metadata": {
    "ExecuteTime": {
     "end_time": "2024-01-02T01:03:36.048788605Z",
     "start_time": "2024-01-02T01:03:36.005925887Z"
    },
    "collapsed": false
   },
   "outputs": [],
   "source": [
    "from utils import *"
   ]
  },
  {
   "cell_type": "code",
   "execution_count": 53,
   "metadata": {
    "ExecuteTime": {
     "end_time": "2024-01-02T01:03:36.049183603Z",
     "start_time": "2024-01-02T01:03:36.048440305Z"
    },
    "collapsed": false
   },
   "outputs": [],
   "source": [
    "best_cohort, ranked_df = filter_and_rank_cohorts(JSON_PATH, 'has_age')\n",
    "best_cohort"
   ]
  },
  {
   "cell_type": "code",
   "execution_count": null,
   "metadata": {
    "ExecuteTime": {
     "end_time": "2024-01-02T01:03:36.049430313Z",
     "start_time": "2024-01-02T01:03:36.048984361Z"
    },
    "collapsed": false
   },
   "outputs": [
    {
     "data": {
      "text/html": [
       "<div>\n",
       "<style scoped>\n",
       "    .dataframe tbody tr th:only-of-type {\n",
       "        vertical-align: middle;\n",
       "    }\n",
       "\n",
       "    .dataframe tbody tr th {\n",
       "        vertical-align: top;\n",
       "    }\n",
       "\n",
       "    .dataframe thead th {\n",
       "        text-align: right;\n",
       "    }\n",
       "</style>\n",
       "<table border=\"1\" class=\"dataframe\">\n",
       "  <thead>\n",
       "    <tr style=\"text-align: right;\">\n",
       "      <th></th>\n",
       "      <th>cohort_id</th>\n",
       "      <th>is_usable</th>\n",
       "      <th>is_available</th>\n",
       "      <th>is_biased</th>\n",
       "      <th>has_age</th>\n",
       "      <th>has_gender</th>\n",
       "      <th>sample_size</th>\n",
       "      <th>note</th>\n",
       "    </tr>\n",
       "  </thead>\n",
       "  <tbody>\n",
       "    <tr>\n",
       "      <th>0</th>\n",
       "      <td>GSE123088</td>\n",
       "      <td>True</td>\n",
       "      <td>True</td>\n",
       "      <td>False</td>\n",
       "      <td>True</td>\n",
       "      <td>True</td>\n",
       "      <td>192</td>\n",
       "      <td></td>\n",
       "    </tr>\n",
       "    <tr>\n",
       "      <th>1</th>\n",
       "      <td>GSE123086</td>\n",
       "      <td>True</td>\n",
       "      <td>True</td>\n",
       "      <td>False</td>\n",
       "      <td>True</td>\n",
       "      <td>True</td>\n",
       "      <td>154</td>\n",
       "      <td></td>\n",
       "    </tr>\n",
       "  </tbody>\n",
       "</table>\n",
       "</div>"
      ],
      "text/plain": [
       "   cohort_id  is_usable  is_available  is_biased  has_age  has_gender  \\\n",
       "0  GSE123088       True          True      False     True        True   \n",
       "1  GSE123086       True          True      False     True        True   \n",
       "\n",
       "   sample_size note  \n",
       "0          192       \n",
       "1          154       "
      ]
     },
     "execution_count": 7,
     "metadata": {},
     "output_type": "execute_result"
    }
   ],
   "source": [
    "ranked_df.head()"
   ]
  },
  {
   "cell_type": "code",
   "execution_count": null,
   "metadata": {
    "ExecuteTime": {
     "end_time": "2024-01-02T01:03:36.345375576Z",
     "start_time": "2024-01-02T01:03:36.049289340Z"
    },
    "collapsed": false
   },
   "outputs": [],
   "source": [
    "ck=100\n",
    "listq=[]\n",
    "for df in pd.read_csv(os.path.join(OUTPUT_DIR, best_cohort+'.csv'),chunksize=ck):\n",
    "    listq.append(df)\n",
    "merged_data = pd.concat(listq)\n",
    "#merged_data = pd.read_csv(os.path.join(OUTPUT_DIR, best_cohort+'.csv'))"
   ]
  },
  {
   "cell_type": "code",
   "execution_count": null,
   "metadata": {
    "ExecuteTime": {
     "end_time": "2024-01-02T01:03:36.400788548Z",
     "start_time": "2024-01-02T01:03:36.355439168Z"
    },
    "collapsed": false
   },
   "outputs": [
    {
     "data": {
      "text/html": [
       "<div>\n",
       "<style scoped>\n",
       "    .dataframe tbody tr th:only-of-type {\n",
       "        vertical-align: middle;\n",
       "    }\n",
       "\n",
       "    .dataframe tbody tr th {\n",
       "        vertical-align: top;\n",
       "    }\n",
       "\n",
       "    .dataframe thead th {\n",
       "        text-align: right;\n",
       "    }\n",
       "</style>\n",
       "<table border=\"1\" class=\"dataframe\">\n",
       "  <thead>\n",
       "    <tr style=\"text-align: right;\">\n",
       "      <th></th>\n",
       "      <th>Psoriasis</th>\n",
       "      <th>Age</th>\n",
       "      <th>Gender</th>\n",
       "      <th>-0.001001579</th>\n",
       "      <th>-0.010425045</th>\n",
       "      <th>-0.045320336</th>\n",
       "      <th>-0.046967808</th>\n",
       "      <th>-0.069891929</th>\n",
       "      <th>-0.081080626</th>\n",
       "      <th>-0.093186199</th>\n",
       "      <th>...</th>\n",
       "      <th>9987</th>\n",
       "      <th>9988</th>\n",
       "      <th>9989</th>\n",
       "      <th>999</th>\n",
       "      <th>9990</th>\n",
       "      <th>9991</th>\n",
       "      <th>9992</th>\n",
       "      <th>9993</th>\n",
       "      <th>9994</th>\n",
       "      <th>9997</th>\n",
       "    </tr>\n",
       "  </thead>\n",
       "  <tbody>\n",
       "    <tr>\n",
       "      <th>0</th>\n",
       "      <td>0.0</td>\n",
       "      <td>56.0</td>\n",
       "      <td>1.0</td>\n",
       "      <td>3.293947</td>\n",
       "      <td>3.344254</td>\n",
       "      <td>3.049427</td>\n",
       "      <td>3.489313</td>\n",
       "      <td>3.713489</td>\n",
       "      <td>3.182711</td>\n",
       "      <td>2.885457</td>\n",
       "      <td>...</td>\n",
       "      <td>11.631593</td>\n",
       "      <td>9.914236</td>\n",
       "      <td>5.934949</td>\n",
       "      <td>4.756848</td>\n",
       "      <td>10.265351</td>\n",
       "      <td>10.109506</td>\n",
       "      <td>4.033606</td>\n",
       "      <td>11.065690</td>\n",
       "      <td>8.733339</td>\n",
       "      <td>9.681242</td>\n",
       "    </tr>\n",
       "    <tr>\n",
       "      <th>1</th>\n",
       "      <td>0.0</td>\n",
       "      <td>20.0</td>\n",
       "      <td>0.0</td>\n",
       "      <td>2.295976</td>\n",
       "      <td>3.490590</td>\n",
       "      <td>3.402046</td>\n",
       "      <td>3.960615</td>\n",
       "      <td>2.295976</td>\n",
       "      <td>3.209781</td>\n",
       "      <td>3.380016</td>\n",
       "      <td>...</td>\n",
       "      <td>11.685883</td>\n",
       "      <td>9.888024</td>\n",
       "      <td>5.981049</td>\n",
       "      <td>3.573693</td>\n",
       "      <td>10.808423</td>\n",
       "      <td>10.135307</td>\n",
       "      <td>3.854406</td>\n",
       "      <td>10.578108</td>\n",
       "      <td>8.207179</td>\n",
       "      <td>9.830063</td>\n",
       "    </tr>\n",
       "    <tr>\n",
       "      <th>2</th>\n",
       "      <td>0.0</td>\n",
       "      <td>51.0</td>\n",
       "      <td>0.0</td>\n",
       "      <td>2.878075</td>\n",
       "      <td>3.642838</td>\n",
       "      <td>3.281445</td>\n",
       "      <td>3.630912</td>\n",
       "      <td>2.878075</td>\n",
       "      <td>3.658581</td>\n",
       "      <td>3.466199</td>\n",
       "      <td>...</td>\n",
       "      <td>11.823756</td>\n",
       "      <td>9.977897</td>\n",
       "      <td>5.965869</td>\n",
       "      <td>4.439257</td>\n",
       "      <td>10.669074</td>\n",
       "      <td>10.243314</td>\n",
       "      <td>4.174246</td>\n",
       "      <td>10.824677</td>\n",
       "      <td>8.554421</td>\n",
       "      <td>10.367084</td>\n",
       "    </tr>\n",
       "    <tr>\n",
       "      <th>3</th>\n",
       "      <td>0.0</td>\n",
       "      <td>37.0</td>\n",
       "      <td>1.0</td>\n",
       "      <td>3.567006</td>\n",
       "      <td>3.393262</td>\n",
       "      <td>3.477423</td>\n",
       "      <td>3.000214</td>\n",
       "      <td>3.190889</td>\n",
       "      <td>3.070480</td>\n",
       "      <td>2.543753</td>\n",
       "      <td>...</td>\n",
       "      <td>11.871873</td>\n",
       "      <td>9.948733</td>\n",
       "      <td>6.094711</td>\n",
       "      <td>4.479720</td>\n",
       "      <td>10.832092</td>\n",
       "      <td>10.253960</td>\n",
       "      <td>3.735004</td>\n",
       "      <td>10.505996</td>\n",
       "      <td>8.786537</td>\n",
       "      <td>9.695719</td>\n",
       "    </tr>\n",
       "    <tr>\n",
       "      <th>4</th>\n",
       "      <td>0.0</td>\n",
       "      <td>61.0</td>\n",
       "      <td>1.0</td>\n",
       "      <td>4.034010</td>\n",
       "      <td>3.607132</td>\n",
       "      <td>2.822304</td>\n",
       "      <td>3.712049</td>\n",
       "      <td>3.126172</td>\n",
       "      <td>3.017512</td>\n",
       "      <td>2.949723</td>\n",
       "      <td>...</td>\n",
       "      <td>11.931741</td>\n",
       "      <td>10.017533</td>\n",
       "      <td>6.085654</td>\n",
       "      <td>3.807143</td>\n",
       "      <td>10.252109</td>\n",
       "      <td>10.396369</td>\n",
       "      <td>4.112947</td>\n",
       "      <td>10.797622</td>\n",
       "      <td>8.826644</td>\n",
       "      <td>8.821104</td>\n",
       "    </tr>\n",
       "  </tbody>\n",
       "</table>\n",
       "<p>5 rows × 1583032 columns</p>\n",
       "</div>"
      ],
      "text/plain": [
       "   Psoriasis   Age  Gender  -0.001001579  -0.010425045  -0.045320336  \\\n",
       "0        0.0  56.0     1.0      3.293947      3.344254      3.049427   \n",
       "1        0.0  20.0     0.0      2.295976      3.490590      3.402046   \n",
       "2        0.0  51.0     0.0      2.878075      3.642838      3.281445   \n",
       "3        0.0  37.0     1.0      3.567006      3.393262      3.477423   \n",
       "4        0.0  61.0     1.0      4.034010      3.607132      2.822304   \n",
       "\n",
       "   -0.046967808  -0.069891929  -0.081080626  -0.093186199  ...       9987  \\\n",
       "0      3.489313      3.713489      3.182711      2.885457  ...  11.631593   \n",
       "1      3.960615      2.295976      3.209781      3.380016  ...  11.685883   \n",
       "2      3.630912      2.878075      3.658581      3.466199  ...  11.823756   \n",
       "3      3.000214      3.190889      3.070480      2.543753  ...  11.871873   \n",
       "4      3.712049      3.126172      3.017512      2.949723  ...  11.931741   \n",
       "\n",
       "        9988      9989       999       9990       9991      9992       9993  \\\n",
       "0   9.914236  5.934949  4.756848  10.265351  10.109506  4.033606  11.065690   \n",
       "1   9.888024  5.981049  3.573693  10.808423  10.135307  3.854406  10.578108   \n",
       "2   9.977897  5.965869  4.439257  10.669074  10.243314  4.174246  10.824677   \n",
       "3   9.948733  6.094711  4.479720  10.832092  10.253960  3.735004  10.505996   \n",
       "4  10.017533  6.085654  3.807143  10.252109  10.396369  4.112947  10.797622   \n",
       "\n",
       "       9994       9997  \n",
       "0  8.733339   9.681242  \n",
       "1  8.207179   9.830063  \n",
       "2  8.554421  10.367084  \n",
       "3  8.786537   9.695719  \n",
       "4  8.826644   8.821104  \n",
       "\n",
       "[5 rows x 1583032 columns]"
      ]
     },
     "execution_count": 11,
     "metadata": {},
     "output_type": "execute_result"
    }
   ],
   "source": [
    "merged_data.head()"
   ]
  },
  {
   "cell_type": "code",
   "execution_count": null,
   "metadata": {
    "ExecuteTime": {
     "end_time": "2024-01-02T01:03:36.401002087Z",
     "start_time": "2024-01-02T01:03:36.400659608Z"
    },
    "collapsed": false
   },
   "outputs": [],
   "source": [
    "# If both age and gender features are available, select 'age' as the condition.\n",
    "condition = 'Age'\n",
    "# Remove the other condition to prevent interference.\n",
    "merged_data = merged_data.drop(columns=['Gender'], errors='ignore').astype('float')"
   ]
  },
  {
   "cell_type": "code",
   "execution_count": null,
   "metadata": {
    "ExecuteTime": {
     "end_time": "2024-01-02T01:03:36.403035823Z",
     "start_time": "2024-01-02T01:03:36.401081946Z"
    },
    "collapsed": false
   },
   "outputs": [],
   "source": [
    "X = merged_data.drop(columns=[TRAIT, condition]).values\n",
    "Y = merged_data[TRAIT].values\n",
    "Z = merged_data[condition].values"
   ]
  },
  {
   "cell_type": "markdown",
   "metadata": {
    "collapsed": false
   },
   "source": [
    "Select the appropriate regression model depending on whether the dataset shows batch effect."
   ]
  },
  {
   "cell_type": "code",
   "execution_count": null,
   "metadata": {
    "ExecuteTime": {
     "end_time": "2024-01-02T01:03:36.403263628Z",
     "start_time": "2024-01-02T01:03:36.401336170Z"
    },
    "collapsed": false
   },
   "outputs": [
    {
     "data": {
      "text/plain": [
       "True"
      ]
     },
     "execution_count": 19,
     "metadata": {},
     "output_type": "execute_result"
    }
   ],
   "source": [
    "has_batch_effect = detect_batch_effect(X)\n",
    "has_batch_effect"
   ]
  },
  {
   "cell_type": "code",
   "execution_count": null,
   "metadata": {
    "ExecuteTime": {
     "end_time": "2024-01-02T01:03:36.475053437Z",
     "start_time": "2024-01-02T01:03:36.444397231Z"
    },
    "collapsed": false
   },
   "outputs": [],
   "source": [
    "\n",
    "if has_batch_effect:\n",
    "    model_constructor1 = VariableSelection\n",
    "    model_params1 = {'modified': True, 'lamda': 3e-4}\n",
    "    model_constructor2 = VariableSelection\n",
    "    model_params2 = {'modified': False}\n",
    "else:\n",
    "    model_constructor1 = Lasso\n",
    "    model_params1 = {'alpha': 1.0, 'random_state': 42}\n",
    "    model_constructor2 = VariableSelection\n",
    "    model_params2 = {'modified': False}"
   ]
  },
  {
   "cell_type": "code",
   "execution_count": null,
   "metadata": {
    "ExecuteTime": {
     "end_time": "2024-01-02T01:03:50.733335364Z",
     "start_time": "2024-01-02T01:03:36.444563711Z"
    },
    "collapsed": false
   },
   "outputs": [
    {
     "name": "stdout",
     "output_type": "stream",
     "text": [
      "The cross-validation accuracy is 56.84% ± 4.59%\n"
     ]
    }
   ],
   "source": [
    "trait_type = 'binary'  # Remember to set this properly, either 'binary' or 'continuous'\n",
    "cv_mean1, cv_std1 = cross_validation(X, Y, Z, model_constructor1, model_params1, target_type=trait_type)"
   ]
  },
  {
   "cell_type": "code",
   "execution_count": null,
   "metadata": {},
   "outputs": [],
   "source": [
    "cv_mean2, cv_std2 = cross_validation(X, Y, Z, model_constructor2, model_params2, target_type=trait_type)"
   ]
  },
  {
   "cell_type": "code",
   "execution_count": null,
   "metadata": {
    "ExecuteTime": {
     "end_time": "2024-01-02T01:03:53.587340410Z",
     "start_time": "2024-01-02T01:03:50.732779025Z"
    },
    "collapsed": false
   },
   "outputs": [],
   "source": [
    "normalized_X, _ = normalize_data(X)\n",
    "normalized_Z, _ = normalize_data(Z)\n",
    "\n",
    "# Train regression model on the whole dataset to identify significant genes\n",
    "model1 = ResidualizationRegressor(model_constructor1, model_params1)\n",
    "model1.fit(normalized_X, Y, normalized_Z)\n",
    "\n",
    "model2 = ResidualizationRegressor(model_constructor2, model_params2)\n",
    "model2.fit(normalized_X, Y, normalized_Z)"
   ]
  },
  {
   "cell_type": "markdown",
   "metadata": {
    "ExecuteTime": {
     "end_time": "2023-10-14T04:50:59.072075075Z",
     "start_time": "2023-10-14T04:50:38.739499998Z"
    },
    "id": "EjJrxbvb4nlj"
   },
   "source": [
    "### 5. Discussion and report"
   ]
  },
  {
   "cell_type": "code",
   "execution_count": null,
   "metadata": {
    "ExecuteTime": {
     "end_time": "2024-01-02T01:03:53.641570844Z",
     "start_time": "2024-01-02T01:03:53.627778553Z"
    },
    "collapsed": false
   },
   "outputs": [
    {
     "name": "stdout",
     "output_type": "stream",
     "text": [
      "Effect of the condition on the target variable:\n",
      "Variable: Age\n",
      "Coefficient: 0.0025\n",
      "Found 547 significant genes associated with the trait 'Psoriasis' conditional on the factor 'Age', with corrected p-value < 0.05:\n",
      "   Variable  Coefficient  corrected_p_value\n",
      "4.430015695     0.087750           0.001231\n",
      "4.478193647     0.087750           0.001231\n",
      "4.478966158     0.087750           0.001231\n",
      " 4.48687579     0.087750           0.001231\n",
      "4.491851159     0.087750           0.001231\n",
      "4.492453853     0.087750           0.001231\n",
      "4.494270678     0.087750           0.001231\n",
      "4.504245863     0.087750           0.001231\n",
      "4.505190735     0.087750           0.001231\n",
      "4.505235806     0.087750           0.001231\n",
      "4.506891502     0.087750           0.001231\n",
      "4.510669146     0.087750           0.001231\n",
      "4.476613942     0.087750           0.001231\n",
      " 4.51198966     0.087750           0.001231\n",
      "4.513528153     0.087750           0.001231\n",
      "4.516930407     0.087750           0.001231\n",
      "4.806825082     0.087750           0.001231\n",
      "4.806472355     0.087750           0.001231\n",
      "4.803063266     0.087750           0.001231\n",
      " 4.52918761     0.087750           0.001231\n",
      "4.531488153     0.087750           0.001231\n",
      "4.796764234     0.087750           0.001231\n",
      "4.534374587     0.087750           0.001231\n",
      "4.544427446     0.087750           0.001231\n",
      " 4.54592774     0.087750           0.001231\n",
      "4.512419391     0.087750           0.001231\n",
      "4.549525143     0.087750           0.001231\n",
      "4.808785555     0.087750           0.001231\n",
      "4.822091729     0.087750           0.001231\n",
      "4.879190448     0.087750           0.001231\n",
      "4.425075714     0.087750           0.001231\n",
      " 4.72671124     0.087750           0.001231\n",
      "4.874043922     0.087750           0.001231\n",
      "4.433027679     0.087750           0.001231\n",
      "4.433355205     0.087750           0.001231\n",
      "4.872522198     0.087750           0.001231\n",
      "4.867851455     0.087750           0.001231\n",
      "4.442816841     0.087750           0.001231\n",
      " 4.85813597     0.087750           0.001231\n",
      "4.443660273     0.087750           0.001231\n",
      "4.473690178     0.087750           0.001231\n",
      "9.425064512     0.087750           0.001231\n",
      "4.854220574     0.087750           0.001231\n",
      " 4.83766585     0.087750           0.001231\n",
      "4.451208778     0.087750           0.001231\n",
      " 4.45407269     0.087750           0.001231\n",
      "4.454379679     0.087750           0.001231\n",
      "4.462918625     0.087750           0.001231\n",
      "4.834657195     0.087750           0.001231\n",
      " 4.46650314     0.087750           0.001231\n",
      "4.829760096     0.087750           0.001231\n",
      "4.467820996     0.087750           0.001231\n",
      "4.472055203     0.087750           0.001231\n",
      "4.445849705     0.087750           0.001231\n",
      "4.553736052     0.087750           0.001231\n",
      "4.557001614     0.087750           0.001231\n",
      "4.562842786     0.087750           0.001231\n",
      " 4.66556908     0.087750           0.001231\n",
      "4.759488929     0.087750           0.001231\n",
      "5.382735413     0.087750           0.001231\n",
      "4.671919882     0.087750           0.001231\n",
      "4.674761185     0.087750           0.001231\n",
      "4.675411221     0.087750           0.001231\n",
      "4.675683407     0.087750           0.001231\n",
      "4.676411081     0.087750           0.001231\n",
      "4.677967937     0.087750           0.001231\n",
      " 4.67982582     0.087750           0.001231\n",
      "4.687264924     0.087750           0.001231\n",
      "4.761181767     0.087750           0.001231\n",
      "4.741530021     0.087750           0.001231\n",
      "4.694839273     0.087750           0.001231\n",
      "4.698885868     0.087750           0.001231\n",
      "4.740506814     0.087750           0.001231\n",
      "4.740286147     0.087750           0.001231\n",
      "4.737399443     0.087750           0.001231\n",
      "4.735885263     0.087750           0.001231\n",
      "4.706862811     0.087750           0.001231\n",
      "4.710628179     0.087750           0.001231\n",
      "4.711292054     0.087750           0.001231\n",
      "4.732035059     0.087750           0.001231\n",
      "4.731468703     0.087750           0.001231\n",
      "4.688632873     0.087750           0.001231\n",
      "4.762588577     0.087750           0.001231\n",
      "4.646725963     0.087750           0.001231\n",
      "4.638217769     0.087750           0.001231\n",
      "4.563282175     0.087750           0.001231\n",
      "4.569090452     0.087750           0.001231\n",
      "4.569402987     0.087750           0.001231\n",
      "4.570215076     0.087750           0.001231\n",
      "4.791240988     0.087750           0.001231\n",
      "4.576024053     0.087750           0.001231\n",
      "4.577675667     0.087750           0.001231\n",
      "4.580291854     0.087750           0.001231\n",
      " 4.78606554     0.087750           0.001231\n",
      "4.584420045     0.087750           0.001231\n",
      "4.592759769     0.087750           0.001231\n",
      "4.785193456     0.087750           0.001231\n",
      " 4.59360188     0.087750           0.001231\n",
      "4.781238383     0.087750           0.001231\n",
      "4.613865121     0.087750           0.001231\n",
      " 4.61675507     0.087750           0.001231\n",
      " 4.77870642     0.087750           0.001231\n",
      "4.618744882     0.087750           0.001231\n",
      "4.625252145     0.087750           0.001231\n",
      "4.625901327     0.087750           0.001231\n",
      "4.626864304     0.087750           0.001231\n",
      "4.628349104     0.087750           0.001231\n",
      "4.628600501     0.087750           0.001231\n",
      "4.629169422     0.087750           0.001231\n",
      "4.777291454     0.087750           0.001231\n",
      "4.881373687     0.087750           0.001231\n",
      "4.882400311     0.087750           0.001231\n",
      "4.725623522     0.087750           0.001231\n",
      "4.885354833     0.087750           0.001231\n",
      "5.057111612     0.087750           0.001231\n",
      "4.041850755     0.087750           0.001231\n",
      "4.054082796     0.087750           0.001231\n",
      "4.081967423     0.087750           0.001231\n",
      "4.083330148     0.087750           0.001231\n",
      "5.017545177     0.087750           0.001231\n",
      "5.012285797     0.087750           0.001231\n",
      " 4.10018943     0.087750           0.001231\n",
      "4.106355402     0.087750           0.001231\n",
      "5.004567345     0.087750           0.001231\n",
      "4.117590782     0.087750           0.001231\n",
      "4.119019499     0.087750           0.001231\n",
      " 4.11939731     0.087750           0.001231\n",
      "4.140588201     0.087750           0.001231\n",
      "4.141023152     0.087750           0.001231\n",
      "4.145826358     0.087750           0.001231\n",
      "4.147083099     0.087750           0.001231\n",
      "4.149737552     0.087750           0.001231\n",
      "4.412978608     0.087750           0.001231\n",
      "4.167091893     0.087750           0.001231\n",
      "5.002045104     0.087750           0.001231\n",
      "5.059731601     0.087750           0.001231\n",
      "4.000440652     0.087750           0.001231\n",
      " 5.06293084     0.087750           0.001231\n",
      " 5.06881156     0.087750           0.001231\n",
      "5.313396949     0.087750           0.001231\n",
      " 5.46270626     0.087750           0.001231\n",
      " 5.27152682     0.087750           0.001231\n",
      "5.508126353     0.087750           0.001231\n",
      "5.240872109     0.087750           0.001231\n",
      "5.232109065     0.087750           0.001231\n",
      "5.228262845     0.087750           0.001231\n",
      "5.195595077     0.087750           0.001231\n",
      "5.176185101     0.087750           0.001231\n",
      "      80069     0.087750           0.001231\n",
      "4.198656864     0.087750           0.001231\n",
      "5.155229124     0.087750           0.001231\n",
      "3.711122839     0.087750           0.001231\n",
      "3.812795596     0.087750           0.001231\n",
      " 5.11329107     0.087750           0.001231\n",
      "3.864205214     0.087750           0.001231\n",
      "5.093487128     0.087750           0.001231\n",
      "3.968169551     0.087750           0.001231\n",
      "3.974118074     0.087750           0.001231\n",
      "3.978228552     0.087750           0.001231\n",
      "5.075086942     0.087750           0.001231\n",
      "5.072285198     0.087750           0.001231\n",
      "5.137355125     0.087750           0.001231\n",
      "4.209792546     0.087750           0.001231\n",
      "4.152990359     0.087750           0.001231\n",
      "4.319029457     0.087750           0.001231\n",
      "4.916043318     0.087750           0.001231\n",
      "4.292743021     0.087750           0.001231\n",
      "4.296486459     0.087750           0.001231\n",
      "4.301166569     0.087750           0.001231\n",
      "4.937820613     0.087750           0.001231\n",
      "4.915852772     0.087750           0.001231\n",
      "4.387185664     0.087750           0.001231\n",
      " 4.93147037     0.087750           0.001231\n",
      "4.329078894     0.087750           0.001231\n",
      "4.333274697     0.087750           0.001231\n",
      "4.333476552     0.087750           0.001231\n",
      "4.336026182     0.087750           0.001231\n",
      "4.925435038     0.087750           0.001231\n",
      " 4.34169289     0.087750           0.001231\n",
      "4.344970312     0.087750           0.001231\n",
      "4.915904215     0.087750           0.001231\n",
      "6.441467272     0.087750           0.001231\n",
      "4.919615221     0.087750           0.001231\n",
      "4.373771291     0.087750           0.001231\n",
      "4.908478529     0.087750           0.001231\n",
      "4.943758394     0.087750           0.001231\n",
      "4.914002154     0.087750           0.001231\n",
      "4.268435099     0.087750           0.001231\n",
      "4.978086668     0.087750           0.001231\n",
      "4.215195928     0.087750           0.001231\n",
      "4.216662741     0.087750           0.001231\n",
      "4.400491944     0.087750           0.001231\n",
      "4.217929364     0.087750           0.001231\n",
      "4.949575543     0.087750           0.001231\n",
      "4.233205941     0.087750           0.001231\n",
      "4.235668089     0.087750           0.001231\n",
      "4.386314592     0.087750           0.001231\n",
      " 4.24313456     0.087750           0.001231\n",
      "4.949861934     0.087750           0.001231\n",
      "4.906360475     0.087750           0.001231\n",
      "4.241935396     0.087750           0.001231\n",
      "4.249585891     0.087750           0.001231\n",
      "4.254832845     0.087750           0.001231\n",
      "4.395653877     0.087750           0.001231\n",
      "4.890120978     0.087750           0.001231\n",
      "9.184293909     0.108569           0.001709\n",
      "      84916     0.083592           0.002061\n",
      "      84818     0.074710           0.002711\n",
      "8.969393233     0.094545           0.004001\n",
      "9.125045569    -0.151916           0.005308\n",
      "       5356    -0.151916           0.005308\n",
      "4.733036243    -0.109810           0.007405\n",
      "5.343763975    -0.109810           0.007405\n",
      "5.194111389    -0.109810           0.007405\n",
      "5.313040586    -0.109810           0.007405\n",
      "4.802121823    -0.109810           0.007405\n",
      "4.920244775    -0.109810           0.007405\n",
      "4.795398239    -0.109810           0.007405\n",
      "4.794661995    -0.109810           0.007405\n",
      "4.991742514    -0.109810           0.007405\n",
      "5.846474378    -0.109810           0.007405\n",
      "4.965010199    -0.109810           0.007405\n",
      "5.669965495    -0.109810           0.007405\n",
      "4.794148887    -0.109810           0.007405\n",
      "4.964243443    -0.109810           0.007405\n",
      "4.941959571    -0.109810           0.007405\n",
      "5.022275543    -0.109810           0.007405\n",
      "5.031175535    -0.109810           0.007405\n",
      "4.931694217    -0.109810           0.007405\n",
      "4.814359096    -0.109810           0.007405\n",
      " 4.97924616    -0.109810           0.007405\n",
      "4.765588599    -0.109810           0.007405\n",
      "4.917185337    -0.109810           0.007405\n",
      "9.594389045     0.375357           0.007405\n",
      " 4.66619639    -0.109810           0.007405\n",
      "4.719733385    -0.109810           0.007405\n",
      "4.289631413    -0.109810           0.007405\n",
      "4.306570925    -0.109810           0.007405\n",
      "4.316321809    -0.109810           0.007405\n",
      "4.318116539    -0.109810           0.007405\n",
      "4.341070475    -0.109810           0.007405\n",
      "4.345931906    -0.109810           0.007405\n",
      "4.366991949    -0.109810           0.007405\n",
      "4.368022818    -0.109810           0.007405\n",
      "4.379190072    -0.109810           0.007405\n",
      " 4.38693764    -0.109810           0.007405\n",
      "4.388550112    -0.109810           0.007405\n",
      "4.393234036    -0.109810           0.007405\n",
      " 4.39410031    -0.109810           0.007405\n",
      "4.396921589    -0.109810           0.007405\n",
      " 4.40460193    -0.109810           0.007405\n",
      "4.413855811    -0.109810           0.007405\n",
      "4.417902492    -0.109810           0.007405\n",
      "4.276988391    -0.109810           0.007405\n",
      "4.270026284    -0.109810           0.007405\n",
      "4.265507679    -0.109810           0.007405\n",
      "4.260529712    -0.109810           0.007405\n",
      "9.136524971     0.269209           0.007405\n",
      "3.556741279    -0.109810           0.007405\n",
      "3.576488063    -0.109810           0.007405\n",
      "3.659064023    -0.109810           0.007405\n",
      "3.700422652    -0.109810           0.007405\n",
      "3.841942702    -0.109810           0.007405\n",
      "3.960951441    -0.109810           0.007405\n",
      "      64849    -0.109810           0.007405\n",
      "4.421387222    -0.109810           0.007405\n",
      "4.007681275    -0.109810           0.007405\n",
      "4.725497375    -0.109810           0.007405\n",
      "4.093456467    -0.109810           0.007405\n",
      "4.111944369    -0.109810           0.007405\n",
      "4.128702441    -0.109810           0.007405\n",
      "4.187280255    -0.109810           0.007405\n",
      "4.191354084    -0.109810           0.007405\n",
      "4.212589315    -0.109810           0.007405\n",
      "  4.2183996    -0.109810           0.007405\n",
      " 4.01276489    -0.109810           0.007405\n",
      "4.431010853    -0.109810           0.007405\n",
      "4.086876467    -0.109810           0.007405\n",
      "4.475337359    -0.109810           0.007405\n",
      "4.546668716    -0.109810           0.007405\n",
      "4.539182766    -0.109810           0.007405\n",
      "4.442326388    -0.109810           0.007405\n",
      "4.652766681    -0.109810           0.007405\n",
      "4.574047715    -0.109810           0.007405\n",
      "4.532817765    -0.109810           0.007405\n",
      "4.532723667    -0.109810           0.007405\n",
      "4.611508044    -0.109810           0.007405\n",
      "4.529061678    -0.109810           0.007405\n",
      "4.520825584    -0.109810           0.007405\n",
      "4.518832117    -0.109810           0.007405\n",
      "4.584256544    -0.109810           0.007405\n",
      "4.473014588    -0.109810           0.007405\n",
      "4.617144012    -0.109810           0.007405\n",
      "4.593153584    -0.109810           0.007405\n",
      "4.472706214    -0.109810           0.007405\n",
      "4.467597156    -0.109810           0.007405\n",
      "4.463983441    -0.109810           0.007405\n",
      "4.712299652    -0.109810           0.007405\n",
      "4.447130026    -0.109810           0.007405\n",
      "4.701745991    -0.109810           0.007405\n",
      " 4.44702525    -0.109810           0.007405\n",
      " 4.44403655    -0.109810           0.007405\n",
      "4.443145944    -0.109810           0.007405\n",
      "4.711576412    -0.109810           0.007405\n",
      " 4.65147927    -0.109810           0.007405\n",
      "4.665851094    -0.109810           0.007405\n",
      "4.636271161    -0.109810           0.007405\n",
      "4.688390434    -0.109810           0.007405\n",
      "6.622567681     0.163494           0.007905\n",
      "8.902917609     0.163049           0.009066\n",
      "  100505942     0.070249           0.010743\n",
      "2.900145612     0.082946           0.010829\n",
      "3.132911066     0.093890           0.012257\n",
      "3.539205038     0.101398           0.012411\n",
      "2.950159801     0.080531           0.015226\n",
      "5.118491552     0.109830           0.016862\n",
      "     284801     0.077680           0.018406\n",
      "5.516859444     0.136176           0.020458\n",
      "5.511320044     0.071235           0.022634\n",
      "       8799    -0.138743           0.022634\n",
      "5.505902525     0.071235           0.022634\n",
      "5.519523062     0.071235           0.022634\n",
      "5.498729942     0.071235           0.022634\n",
      "5.520746811     0.071235           0.022634\n",
      "5.521513569     0.071235           0.022634\n",
      "5.497501968     0.071235           0.022634\n",
      "5.522303597     0.071235           0.022634\n",
      "5.493562243     0.071235           0.022634\n",
      "5.879436076     0.071235           0.022634\n",
      " 5.49122468     0.071235           0.022634\n",
      "5.489772704     0.071235           0.022634\n",
      "5.507072378     0.071235           0.022634\n",
      "  6.0046947     0.071235           0.022634\n",
      "5.466429547     0.071235           0.022634\n",
      "5.485280093     0.071235           0.022634\n",
      "5.395626179     0.071235           0.022634\n",
      "5.409952463     0.071235           0.022634\n",
      "5.412615463     0.071235           0.022634\n",
      " 5.41341278     0.071235           0.022634\n",
      "5.416510981     0.071235           0.022634\n",
      "5.425395151     0.071235           0.022634\n",
      "5.430895559     0.071235           0.022634\n",
      "5.435578418     0.071235           0.022634\n",
      "5.439038169     0.071235           0.022634\n",
      "5.440627364     0.071235           0.022634\n",
      "5.444812733     0.071235           0.022634\n",
      "5.450736284     0.071235           0.022634\n",
      "5.489361126     0.071235           0.022634\n",
      "5.455436356     0.071235           0.022634\n",
      "5.458195499     0.071235           0.022634\n",
      "5.458546033     0.071235           0.022634\n",
      "9.147110417     0.192527           0.022634\n",
      "9.145100121     0.132672           0.022634\n",
      " 5.45929722     0.071235           0.022634\n",
      "5.529422719     0.071235           0.022634\n",
      "5.470915076     0.071235           0.022634\n",
      "5.471456973     0.071235           0.022634\n",
      " 5.47178808     0.071235           0.022634\n",
      "5.475927233     0.071235           0.022634\n",
      "5.479681639     0.071235           0.022634\n",
      "5.480777272     0.071235           0.022634\n",
      "5.457922537     0.071235           0.022634\n",
      "5.532383116     0.071235           0.022634\n",
      "5.561676216     0.071235           0.022634\n",
      "5.533415049     0.071235           0.022634\n",
      "5.651691119     0.071235           0.022634\n",
      "5.654114655     0.071235           0.022634\n",
      "5.665260488     0.071235           0.022634\n",
      "5.689015492     0.071235           0.022634\n",
      "5.692674268     0.071235           0.022634\n",
      "5.702507073     0.071235           0.022634\n",
      " 6.51733961     0.071235           0.022634\n",
      "5.858814695     0.071235           0.022634\n",
      "5.928937137     0.071235           0.022634\n",
      "5.708868259     0.071235           0.022634\n",
      "5.733920315     0.071235           0.022634\n",
      "5.650808929     0.071235           0.022634\n",
      "5.935705084     0.071235           0.022634\n",
      "5.741333405     0.071235           0.022634\n",
      "5.743300741     0.071235           0.022634\n",
      "5.838653537     0.071235           0.022634\n",
      "5.760046366     0.071235           0.022634\n",
      "6.373141434     0.071235           0.022634\n",
      "5.838634595     0.071235           0.022634\n",
      "5.778202655     0.071235           0.022634\n",
      "5.824089777     0.071235           0.022634\n",
      "5.815976395     0.071235           0.022634\n",
      "5.788813448     0.071235           0.022634\n",
      "5.791455985     0.071235           0.022634\n",
      "5.740400588     0.071235           0.022634\n",
      "5.894532745     0.071235           0.022634\n",
      "5.643342137     0.071235           0.022634\n",
      "5.640985491     0.071235           0.022634\n",
      "5.535230839     0.071235           0.022634\n",
      "5.535951388     0.071235           0.022634\n",
      "5.537262887     0.071235           0.022634\n",
      " 5.53781128     0.071235           0.022634\n",
      "5.538585441     0.071235           0.022634\n",
      " 5.53972973     0.071235           0.022634\n",
      "5.539808734     0.071235           0.022634\n",
      "5.923377702     0.071235           0.022634\n",
      "5.540530373     0.071235           0.022634\n",
      "5.550127232     0.071235           0.022634\n",
      "5.550339562     0.071235           0.022634\n",
      "6.932588565     0.071235           0.022634\n",
      "5.563443024     0.071235           0.022634\n",
      "5.572493637     0.071235           0.022634\n",
      "8.894525703    -0.138743           0.022634\n",
      "5.575347692     0.071235           0.022634\n",
      "8.773624098    -0.138743           0.022634\n",
      "5.579069232     0.071235           0.022634\n",
      "5.582667089     0.071235           0.022634\n",
      " 5.92360053     0.071235           0.022634\n",
      "5.589407044     0.071235           0.022634\n",
      "5.602155125     0.071235           0.022634\n",
      "5.621517605     0.071235           0.022634\n",
      "5.629457437     0.071235           0.022634\n",
      " 5.56695549     0.071235           0.022634\n",
      "5.369865762     0.071235           0.022634\n",
      "10.96845059    -0.212239           0.022634\n",
      "5.364918105     0.071235           0.022634\n",
      " 4.94343232     0.071235           0.022634\n",
      "4.943857359     0.071235           0.022634\n",
      "4.958679834     0.071235           0.022634\n",
      "4.979255008     0.071235           0.022634\n",
      "4.982827995     0.071235           0.022634\n",
      "4.985146808     0.071235           0.022634\n",
      "5.002100387     0.071235           0.022634\n",
      "5.003701877     0.071235           0.022634\n",
      " 5.00685314     0.071235           0.022634\n",
      " 5.01961486     0.071235           0.022634\n",
      "5.024848414     0.071235           0.022634\n",
      "5.028718006     0.071235           0.022634\n",
      " 5.03566348     0.071235           0.022634\n",
      "5.041095524     0.071235           0.022634\n",
      "5.041345016     0.071235           0.022634\n",
      " 5.05123636     0.071235           0.022634\n",
      "5.365697584     0.071235           0.022634\n",
      "5.063807942     0.071235           0.022634\n",
      "5.066785974     0.071235           0.022634\n",
      "5.069203363     0.071235           0.022634\n",
      "5.078474069     0.071235           0.022634\n",
      "5.082658681     0.071235           0.022634\n",
      "5.097997726     0.071235           0.022634\n",
      "4.935183963     0.071235           0.022634\n",
      "4.918740139     0.071235           0.022634\n",
      "4.898400571     0.071235           0.022634\n",
      "4.878153319     0.071235           0.022634\n",
      "11.00004335    -0.164449           0.022634\n",
      "12.75698068     0.071235           0.022634\n",
      "3.384080486     0.081070           0.022634\n",
      "3.579903005     0.080853           0.022634\n",
      " 3.95143502     0.071235           0.022634\n",
      "3.994042715    -0.108209           0.022634\n",
      "     387742     0.071235           0.022634\n",
      "4.211827094     0.071235           0.022634\n",
      "4.348840492     0.071235           0.022634\n",
      "4.389641267     0.071235           0.022634\n",
      "4.519774222     0.071235           0.022634\n",
      "5.103350591     0.071235           0.022634\n",
      "4.534302897     0.071235           0.022634\n",
      "4.665251156     0.071235           0.022634\n",
      "4.700151783     0.071235           0.022634\n",
      "4.704327123     0.071235           0.022634\n",
      "  4.7065898     0.071235           0.022634\n",
      " 4.78970593     0.071235           0.022634\n",
      " 4.79416188     0.071235           0.022634\n",
      "4.825101141     0.071235           0.022634\n",
      "4.835215442     0.071235           0.022634\n",
      "4.840146602     0.071235           0.022634\n",
      "4.858889905     0.071235           0.022634\n",
      "4.867427946     0.071235           0.022634\n",
      "4.570598065     0.071235           0.022634\n",
      "5.104584953     0.071235           0.022634\n",
      "5.059210022     0.071235           0.022634\n",
      "5.112538008     0.071235           0.022634\n",
      "5.290964545     0.071235           0.022634\n",
      "5.291391052     0.071235           0.022634\n",
      "5.291922406     0.071235           0.022634\n",
      "5.294773978     0.071235           0.022634\n",
      "5.106676657     0.071235           0.022634\n",
      "5.300526949     0.071235           0.022634\n",
      "5.310376016     0.071235           0.022634\n",
      "5.313680782     0.071235           0.022634\n",
      "5.314810709     0.071235           0.022634\n",
      "5.315582837     0.071235           0.022634\n",
      "5.316469301     0.071235           0.022634\n",
      "5.287627795     0.071235           0.022634\n",
      "5.317036734     0.071235           0.022634\n",
      "5.318404087     0.071235           0.022634\n",
      "5.322299905     0.071235           0.022634\n",
      "5.327320637     0.071235           0.022634\n",
      "5.339288366     0.071235           0.022634\n",
      "5.343917283     0.071235           0.022634\n",
      "5.352475339     0.071235           0.022634\n",
      "5.356389778     0.071235           0.022634\n",
      "5.360868154     0.071235           0.022634\n",
      "5.361456451     0.071235           0.022634\n",
      " 5.36396828     0.071235           0.022634\n",
      "5.364493538     0.071235           0.022634\n",
      "5.318197403     0.071235           0.022634\n",
      "5.278731207     0.071235           0.022634\n",
      "5.296934746     0.071235           0.022634\n",
      "5.156886031     0.071235           0.022634\n",
      "5.114546941     0.071235           0.022634\n",
      "5.126895892     0.071235           0.022634\n",
      "5.142113918     0.071235           0.022634\n",
      "5.146275938     0.071235           0.022634\n",
      "5.147940142     0.071235           0.022634\n",
      "5.151106843     0.071235           0.022634\n",
      "5.152029269     0.071235           0.022634\n",
      "5.152901089     0.071235           0.022634\n",
      "5.276190952     0.071235           0.022634\n",
      "5.167212712     0.071235           0.022634\n",
      "5.181135543     0.071235           0.022634\n",
      " 5.19541624     0.071235           0.022634\n",
      "5.202166996     0.071235           0.022634\n",
      "4.855012788     0.071235           0.022634\n",
      "5.234474009     0.071235           0.022634\n",
      "5.239062658     0.071235           0.022634\n",
      "5.272783073     0.071235           0.022634\n",
      "5.244963003     0.071235           0.022634\n",
      "5.266402589     0.071235           0.022634\n",
      "5.248996201     0.071235           0.022634\n",
      "5.249722029     0.071235           0.022634\n",
      "5.263867103     0.071235           0.022634\n",
      "5.251816286     0.071235           0.022634\n",
      "5.261657433     0.071235           0.022634\n",
      "5.255367742     0.071235           0.022634\n",
      "5.218994709     0.071235           0.022634\n",
      "4.027502961    -0.120462           0.022692\n",
      "11.27369242    -0.286784           0.023162\n",
      "3.983532258     0.077339           0.024090\n",
      "3.470195675     0.075224           0.030735\n",
      "5.701501751     0.215165           0.031079\n",
      "4.434451174    -0.102141           0.032627\n",
      "8.846569903     0.154946           0.038505\n",
      "3.645867023     0.070060           0.039396\n",
      "3.022732127     0.070060           0.039396\n",
      "5.861471324     0.178796           0.040563\n",
      " 3.57053999     0.090656           0.043893\n",
      "9.089247562     0.134869           0.044630\n",
      "4.089061738    -0.116953           0.045933\n",
      "7.745020478     0.141581           0.047799\n",
      "4.915304527    -0.116762           0.048942\n",
      "3.996311684     0.089618           0.049238\n",
      "5.984827706     0.144979           0.049599\n"
     ]
    },
    {
     "name": "stderr",
     "output_type": "stream",
     "text": [
      "/home/yxcheng/AI4Science_gold_standard/stage1/Yuxuan/utils.py:425: SettingWithCopyWarning: \n",
      "A value is trying to be set on a copy of a slice from a DataFrame.\n",
      "Try using .loc[row_indexer,col_indexer] = value instead\n",
      "\n",
      "See the caveats in the documentation: https://pandas.pydata.org/pandas-docs/stable/user_guide/indexing.html#returning-a-view-versus-a-copy\n",
      "  gene_regression_df.loc[:, 'corrected_p_value'] = corrected_p_values\n"
     ]
    }
   ],
   "source": [
    "\n",
    "feature_cols = merged_data.columns.tolist()\n",
    "feature_cols.remove(TRAIT)\n",
    "\n",
    "threshold = 0.05\n",
    "interpret_result(model1, feature_cols, TRAIT, condition, threshold=threshold, save_output=True,\n",
    "                 output_dir=OUTPUT_DIR, model_id=1)"
   ]
  },
  {
   "cell_type": "code",
   "execution_count": null,
   "metadata": {
    "collapsed": false
   },
   "outputs": [],
   "source": [
    "interpret_result(model2, feature_cols, TRAIT, condition, threshold=threshold, save_output=True,\n",
    "                 output_dir=OUTPUT_DIR, model_id=2)"
   ]
  }
 ],
 "metadata": {
  "colab": {
   "provenance": []
  },
  "kernelspec": {
   "display_name": "Python 3 (ipykernel)",
   "language": "python",
   "name": "python3"
  },
  "language_info": {
   "codemirror_mode": {
    "name": "ipython",
    "version": 3
   },
   "file_extension": ".py",
   "mimetype": "text/x-python",
   "name": "python",
   "nbconvert_exporter": "python",
   "pygments_lexer": "ipython3",
   "version": "3.9.12"
  }
 },
 "nbformat": 4,
 "nbformat_minor": 0
}
