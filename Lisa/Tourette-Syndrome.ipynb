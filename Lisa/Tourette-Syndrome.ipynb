{
 "cells": [
  {
   "cell_type": "markdown",
   "metadata": {
    "collapsed": false
   },
   "source": [
    "# Gold standard curation: Preprocessing and single-step regression"
   ]
  },
  {
   "cell_type": "markdown",
   "metadata": {
    "collapsed": false
   },
   "source": [
    "In this stage of gold standard curation, we will do the data preprocessing, selection, and single-step regression for the 153 traits in our question set. The workflow consists of the following steps:\n",
    "\n",
    "1. Preprocess all the cohorts related to this trait. Each cohort should be converted to a tabular form and saved to a csv file, with columns being genetic factors, the trait, and age, gender if available;\n",
    "2. If there exists at least one cohort with age or gender information, conduct regression analysis with genetic features together with age or gender as the regressors.\n"
   ]
  },
  {
   "cell_type": "markdown",
   "metadata": {
    "collapsed": false
   },
   "source": [
    "# 1. Basic setup"
   ]
  },
  {
   "cell_type": "code",
   "execution_count": 4,
   "metadata": {
    "ExecuteTime": {
     "end_time": "2024-01-02T01:02:53.240839272Z",
     "start_time": "2024-01-02T01:02:53.240575109Z"
    },
    "collapsed": false
   },
   "outputs": [],
   "source": [
    "import os\n",
    "import sys\n",
    "from utils import *\n",
    "# Set your preferred name\n",
    "USER = \"Lisa\"\n",
    "# Set the data and output directories\n",
    "DATA_ROOT = '/Users/wjt/Desktop/is_data'\n",
    "OUTPUT_ROOT = '/Users/wjt/Desktop/is_data/v1'\n",
    "TRAIT = 'Tourette-Syndrome'\n",
    "\n",
    "OUTPUT_DIR = os.path.join(OUTPUT_ROOT, USER, '-'.join(TRAIT.split()))\n",
    "JSON_PATH = os.path.join(OUTPUT_DIR, \"cohort_info.json\")\n",
    "if not os.path.exists(OUTPUT_DIR):\n",
    "    os.makedirs(OUTPUT_DIR, exist_ok=True)\n",
    "\n",
    "# Gene symbol normalization may take 1-2 minutes. You may set it to False for debugging.\n",
    "NORMALIZE_GENE = False"
   ]
  },
  {
   "cell_type": "code",
   "execution_count": 2,
   "metadata": {
    "ExecuteTime": {
     "end_time": "2024-01-02T01:02:53.501910797Z",
     "start_time": "2024-01-02T01:02:53.496254990Z"
    },
    "colab": {
     "base_uri": "https://localhost:8080/"
    },
    "id": "jMTdsU43vVg3",
    "outputId": "38886111-f442-44b4-8398-96bf384d7abd"
   },
   "outputs": [
    {
     "data": {
      "text/plain": [
       "\"import os\\nfrom google.colab import drive\\n\\ndrive.mount('/content/drive', force_remount=True)\\nproj_dir = '/content/drive/MyDrive/AI4Science_Public'\\nos.chdir(proj_dir)\""
      ]
     },
     "execution_count": 2,
     "metadata": {},
     "output_type": "execute_result"
    }
   ],
   "source": [
    "# This cell is only for use on Google Colab. Skip it if you run your code in other environments\n",
    "\n",
    "\"\"\"import os\n",
    "from google.colab import drive\n",
    "\n",
    "drive.mount('/content/drive', force_remount=True)\n",
    "proj_dir = '/content/drive/MyDrive/AI4Science_Public'\n",
    "os.chdir(proj_dir)\"\"\""
   ]
  },
  {
   "cell_type": "markdown",
   "metadata": {
    "collapsed": false
   },
   "source": [
    "# 2. Data preprocessing and selection"
   ]
  },
  {
   "cell_type": "markdown",
   "metadata": {
    "collapsed": false
   },
   "source": [
    "## 2.1. The TCGA Xena dataset"
   ]
  },
  {
   "cell_type": "markdown",
   "metadata": {
    "collapsed": false
   },
   "source": [
    "In TCGA Xena, there is either zero or one cohort related to the trait. We search the names of subdirectories to see if any matches the trait. If a match is found, we directly obtain the file paths."
   ]
  },
  {
   "cell_type": "code",
   "execution_count": 3,
   "metadata": {
    "ExecuteTime": {
     "end_time": "2024-01-02T01:02:56.462746833Z",
     "start_time": "2024-01-02T01:02:55.818581842Z"
    },
    "collapsed": false
   },
   "outputs": [
    {
     "data": {
      "text/plain": [
       "['TCGA_Adrenocortical_Cancer_(ACC)',\n",
       " 'TCGA_Bile_Duct_Cancer_(CHOL)',\n",
       " 'TCGA_Lower_Grade_Glioma_(LGG)',\n",
       " 'TCGA_Acute_Myeloid_Leukemia_(LAML)',\n",
       " 'TCGA_Esophageal_Cancer_(ESCA)',\n",
       " 'TCGA_Thyroid_Cancer_(THCA)',\n",
       " 'TCGA_Ocular_melanomas_(UVM)',\n",
       " 'TCGA_Ovarian_Cancer_(OV)',\n",
       " 'TCGA_Prostate_Cancer_(PRAD)',\n",
       " 'CrawlData.ipynb',\n",
       " 'TCGA_Kidney_Papillary_Cell_Carcinoma_(KIRP)',\n",
       " 'TCGA_Lung_Cancer_(LUNG)',\n",
       " 'TCGA_Endometrioid_Cancer_(UCEC)',\n",
       " 'TCGA_Testicular_Cancer_(TGCT)',\n",
       " 'TCGA_lower_grade_glioma_and_glioblastoma_(GBMLGG)',\n",
       " 'TCGA_Pancreatic_Cancer_(PAAD)',\n",
       " 'TCGA_Glioblastoma_(GBM)',\n",
       " 'TCGA_Melanoma_(SKCM)',\n",
       " 'TCGA_Kidney_Clear_Cell_Carcinoma_(KIRC)',\n",
       " 'TCGA_Mesothelioma_(MESO)',\n",
       " 'TCGA_Rectal_Cancer_(READ)',\n",
       " 'TCGA_Head_and_Neck_Cancer_(HNSC)',\n",
       " 'TCGA_Large_Bcell_Lymphoma_(DLBC)',\n",
       " 'TCGA_Uterine_Carcinosarcoma_(UCS)',\n",
       " 'TCGA_Colon_Cancer_(COAD)',\n",
       " 'TCGA_Breast_Cancer_(BRCA)',\n",
       " 'TCGA_Bladder_Cancer_(BLCA)',\n",
       " 'TCGA_Sarcoma_(SARC)',\n",
       " 'TCGA_Lung_Squamous_Cell_Carcinoma_(LUSC)',\n",
       " 'TCGA_Cervical_Cancer_(CESC)',\n",
       " 'TCGA_Kidney_Chromophobe_(KICH)',\n",
       " 'TCGA_Stomach_Cancer_(STAD)',\n",
       " 'TCGA_Lung_Adenocarcinoma_(LUAD)',\n",
       " '.DS_Store',\n",
       " 'TCGA_Thymoma_(THYM)',\n",
       " 'TCGA_Colon_and_Rectal_Cancer_(COADREAD)',\n",
       " 'TCGA_Pheochromocytoma_Paraganglioma_(PCPG)',\n",
       " 'TCGA_Liver_Cancer_(LIHC)']"
      ]
     },
     "execution_count": 3,
     "metadata": {},
     "output_type": "execute_result"
    }
   ],
   "source": [
    "import os\n",
    "from utils import *\n",
    "\n",
    "dataset = 'TCGA'\n",
    "dataset_dir = os.path.join(DATA_ROOT, dataset)\n",
    "os.listdir(dataset_dir)[:]"
   ]
  },
  {
   "cell_type": "markdown",
   "metadata": {
    "collapsed": false
   },
   "source": [
    "If no match is found, jump directly to GEO in Part 2.2"
   ]
  },
  {
   "cell_type": "code",
   "execution_count": 5,
   "metadata": {
    "collapsed": false
   },
   "outputs": [],
   "source": [
    "trait_subdir = \"TCGA_Lung_Cancer_(LUNG)\"\n",
    "cohort = 'Xena'\n",
    "# All the cancer traits in Xena are binary\n",
    "trait_type = 'binary'\n",
    "# Once a relevant cohort is found in Xena, we can generally assume the gene and clinical data are available\n",
    "is_available = True\n",
    "\n",
    "clinical_data_file = os.path.join(dataset_dir, trait_subdir, 'TCGA.LUNG.sampleMap_LUNG_clinicalMatrix')\n",
    "genetic_data_file = os.path.join(dataset_dir, trait_subdir, 'TCGA.LUNG.sampleMap_HiSeqV2_PANCAN.gz')"
   ]
  },
  {
   "cell_type": "code",
   "execution_count": 6,
   "metadata": {
    "id": "MudwB-_iz7sc"
   },
   "outputs": [],
   "source": [
    "import pandas as pd\n",
    "\n",
    "clinical_data = pd.read_csv(clinical_data_file, sep='\\t', index_col=0)\n",
    "genetic_data = pd.read_csv(genetic_data_file, compression='gzip', sep='\\t', index_col=0)\n",
    "age_col = gender_col = None"
   ]
  },
  {
   "cell_type": "code",
   "execution_count": 7,
   "metadata": {
    "collapsed": false
   },
   "outputs": [],
   "source": [
    "_, clinical_data_cols = check_rows_and_columns(clinical_data)"
   ]
  },
  {
   "cell_type": "code",
   "execution_count": 8,
   "metadata": {
    "collapsed": false
   },
   "outputs": [
    {
     "data": {
      "text/plain": [
       "['ABSOLUTE_Ploidy',\n",
       " 'ABSOLUTE_Purity',\n",
       " 'AKT1',\n",
       " 'ALK_translocation',\n",
       " 'BRAF',\n",
       " 'CBL',\n",
       " 'CTNNB1',\n",
       " 'Canonical_mut_in_KRAS_EGFR_ALK',\n",
       " 'Cnncl_mt_n_KRAS_EGFR_ALK_RET_ROS1_BRAF_ERBB2_HRAS_NRAS_AKT1_MAP2',\n",
       " 'EGFR']"
      ]
     },
     "execution_count": 8,
     "metadata": {},
     "output_type": "execute_result"
    }
   ],
   "source": [
    "clinical_data_cols[:10]"
   ]
  },
  {
   "cell_type": "markdown",
   "metadata": {
    "ExecuteTime": {
     "end_time": "2023-12-28T20:20:11.841042813Z",
     "start_time": "2023-12-28T20:20:11.834458206Z"
    },
    "collapsed": false
   },
   "source": [
    "Read all the column names in the clinical dataset, to find the columns that record information about age or gender.\n",
    "Reference prompt:"
   ]
  },
  {
   "cell_type": "code",
   "execution_count": 9,
   "metadata": {
    "collapsed": false
   },
   "outputs": [
    {
     "data": {
      "text/plain": [
       "\"\\nBelow is a list of column names from a biomedical dataset. Please examine it and identify the columns that are likely to contain information about patients' age. Additionally, please do the same for columns that may hold data on patients' gender. Please provide your answer by strictly following this format, without redundant words:\\ncandidate_age_cols = [col_name1, col_name2, ...]\\ncandidate_gender_cols = [col_name1, col_name2, ...]\\nIf no columns match a criterion, please provide an empty list.\\n\\nColumn names:\\n['ABSOLUTE_Ploidy', 'ABSOLUTE_Purity', 'AKT1', 'ALK_translocation', 'BRAF', 'CBL', 'CTNNB1', 'Canonical_mut_in_KRAS_EGFR_ALK', 'Cnncl_mt_n_KRAS_EGFR_ALK_RET_ROS1_BRAF_ERBB2_HRAS_NRAS_AKT1_MAP2', 'EGFR', 'ERBB2', 'ERBB4', 'Estimated_allele_fraction_of_a_clonal_varnt_prsnt_t_1_cpy_pr_cll', 'Expression_Subtype', 'HRAS', 'KRAS', 'MAP2K1', 'MET', 'NRAS', 'PIK3CA', 'PTPN11', 'Pathology', 'Pathology_Updated', 'RET_translocation', 'ROS1_translocation', 'STK11', 'WGS_as_of_20120731_0_no_1_yes', '_INTEGRATION', '_PANCAN_CNA_PANCAN_K8', '_PANCAN_Cluster_Cluster_PANCAN', '_PANCAN_DNAMethyl_PANCAN', '_PANCAN_RPPA_PANCAN_K8', '_PANCAN_UNC_RNAseq_PANCAN_K16', '_PANCAN_miRNA_PANCAN', '_PANCAN_mutation_PANCAN', '_PATIENT', '_cohort', '_primary_disease', '_primary_site', 'additional_pharmaceutical_therapy', 'additional_radiation_therapy', 'additional_surgery_locoregional_procedure', 'additional_surgery_metastatic_procedure', 'age_at_initial_pathologic_diagnosis', 'anatomic_neoplasm_subdivision', 'anatomic_neoplasm_subdivision_other', 'bcr_followup_barcode', 'bcr_patient_barcode', 'bcr_sample_barcode', 'days_to_additional_surgery_locoregional_procedure', 'days_to_additional_surgery_metastatic_procedure', 'days_to_birth', 'days_to_collection', 'days_to_death', 'days_to_initial_pathologic_diagnosis', 'days_to_last_followup', 'days_to_new_tumor_event_after_initial_treatment', 'disease_code', 'dlco_predictive_percent', 'eastern_cancer_oncology_group', 'egfr_mutation_performed', 'egfr_mutation_result', 'eml4_alk_translocation_method', 'eml4_alk_translocation_performed', 'followup_case_report_form_submission_reason', 'followup_treatment_success', 'form_completion_date', 'gender', 'histological_type', 'history_of_neoadjuvant_treatment', 'icd_10', 'icd_o_3_histology', 'icd_o_3_site', 'informed_consent_verified', 'initial_weight', 'intermediate_dimension', 'is_ffpe', 'karnofsky_performance_score', 'kras_gene_analysis_performed', 'kras_mutation_found', 'kras_mutation_result', 'location_in_lung_parenchyma', 'longest_dimension', 'lost_follow_up', 'new_neoplasm_event_type', 'new_tumor_event_after_initial_treatment', 'number_pack_years_smoked', 'oct_embedded', 'other_dx', 'pathologic_M', 'pathologic_N', 'pathologic_T', 'pathologic_stage', 'pathology_report_file_name', 'patient_id', 'performance_status_scale_timing', 'person_neoplasm_cancer_status', 'post_bronchodilator_fev1_fvc_percent', 'post_bronchodilator_fev1_percent', 'pre_bronchodilator_fev1_fvc_percent', 'pre_bronchodilator_fev1_percent', 'primary_therapy_outcome_success', 'progression_determined_by', 'project_code', 'pulmonary_function_test_performed', 'radiation_therapy', 'residual_tumor', 'sample_type', 'sample_type_id', 'shortest_dimension', 'stopped_smoking_year', 'system_version', 'targeted_molecular_therapy', 'tissue_prospective_collection_indicator', 'tissue_retrospective_collection_indicator', 'tissue_source_site', 'tobacco_smoking_history', 'tobacco_smoking_history_indicator', 'tumor_tissue_site', 'vial_number', 'vital_status', 'year_of_initial_pathologic_diagnosis', 'year_of_tobacco_smoking_onset', '_GENOMIC_ID_TCGA_LUNG_exp_HiSeqV2_exon', '_GENOMIC_ID_TCGA_LUNG_hMethyl27', '_GENOMIC_ID_TCGA_LUNG_mutation', '_GENOMIC_ID_TCGA_LUNG_exp_HiSeqV2_PANCAN', '_GENOMIC_ID_TCGA_LUNG_hMethyl450', '_GENOMIC_ID_TCGA_LUNG_gistic2thd', '_GENOMIC_ID_TCGA_LUNG_G4502A_07_3', '_GENOMIC_ID_TCGA_LUNG_exp_HiSeqV2', '_GENOMIC_ID_TCGA_LUNG_gistic2', '_GENOMIC_ID_TCGA_LUNG_RPPA_RBN']\\n\""
      ]
     },
     "execution_count": 9,
     "metadata": {},
     "output_type": "execute_result"
    }
   ],
   "source": [
    "f'''\n",
    "Below is a list of column names from a biomedical dataset. Please examine it and identify the columns that are likely to contain information about patients' age. Additionally, please do the same for columns that may hold data on patients' gender. Please provide your answer by strictly following this format, without redundant words:\n",
    "candidate_age_cols = [col_name1, col_name2, ...]\n",
    "candidate_gender_cols = [col_name1, col_name2, ...]\n",
    "If no columns match a criterion, please provide an empty list.\n",
    "\n",
    "Column names:\n",
    "{clinical_data_cols}\n",
    "'''"
   ]
  },
  {
   "cell_type": "code",
   "execution_count": 10,
   "metadata": {
    "collapsed": false
   },
   "outputs": [],
   "source": [
    "candidate_age_cols = ['age_at_initial_pathologic_diagnosis', 'days_to_birth', 'days_to_collection', 'days_to_death', 'days_to_initial_pathologic_diagnosis', 'days_to_last_followup', 'days_to_new_tumor_event_after_initial_treatment', 'stopped_smoking_year', 'year_of_initial_pathologic_diagnosis', 'year_of_tobacco_smoking_onset']\n",
    "\n",
    "candidate_gender_cols = ['gender']"
   ]
  },
  {
   "cell_type": "markdown",
   "metadata": {
    "ExecuteTime": {
     "end_time": "2023-12-31T03:57:44.207565572Z",
     "start_time": "2023-12-31T03:57:44.202177544Z"
    },
    "collapsed": false
   },
   "source": [
    "Choose a single column from the candidate columns that record age and gender information respectively.\n",
    "If no column meets the requirement, keep 'age_col' or 'gender_col' to None"
   ]
  },
  {
   "cell_type": "code",
   "execution_count": 11,
   "metadata": {
    "collapsed": false
   },
   "outputs": [
    {
     "data": {
      "text/plain": [
       "{'age_at_initial_pathologic_diagnosis': [70.0, 67.0, 79.0, 68.0, 66.0],\n",
       " 'days_to_birth': [-25752.0, -24532.0, -29068.0, -24868.0, -24411.0],\n",
       " 'days_to_collection': [nan, nan, nan, nan, nan],\n",
       " 'days_to_death': [nan, nan, '121', nan, nan],\n",
       " 'days_to_initial_pathologic_diagnosis': [0.0, 0.0, 0.0, 0.0, 0.0],\n",
       " 'days_to_last_followup': ['0', '1523', nan, '607', '426'],\n",
       " 'days_to_new_tumor_event_after_initial_treatment': [nan,\n",
       "  nan,\n",
       "  nan,\n",
       "  334.0,\n",
       "  183.0],\n",
       " 'stopped_smoking_year': [nan, nan, nan, nan, 1987.0],\n",
       " 'year_of_initial_pathologic_diagnosis': [2009.0,\n",
       "  2007.0,\n",
       "  2007.0,\n",
       "  2009.0,\n",
       "  2009.0],\n",
       " 'year_of_tobacco_smoking_onset': [nan, nan, nan, nan, 1963.0]}"
      ]
     },
     "execution_count": 11,
     "metadata": {},
     "output_type": "execute_result"
    }
   ],
   "source": [
    "preview_df(clinical_data[candidate_age_cols])"
   ]
  },
  {
   "cell_type": "code",
   "execution_count": 12,
   "metadata": {
    "collapsed": false
   },
   "outputs": [],
   "source": [
    "age_col = 'age_at_initial_pathologic_diagnosis'"
   ]
  },
  {
   "cell_type": "code",
   "execution_count": 13,
   "metadata": {
    "collapsed": false
   },
   "outputs": [
    {
     "data": {
      "text/plain": [
       "{'gender': ['MALE', 'MALE', 'FEMALE', 'MALE', 'MALE']}"
      ]
     },
     "execution_count": 13,
     "metadata": {},
     "output_type": "execute_result"
    }
   ],
   "source": [
    "preview_df(clinical_data[candidate_gender_cols])"
   ]
  },
  {
   "cell_type": "code",
   "execution_count": 14,
   "metadata": {
    "collapsed": false
   },
   "outputs": [],
   "source": [
    "gender_col = 'gender'"
   ]
  },
  {
   "cell_type": "code",
   "execution_count": 15,
   "metadata": {
    "collapsed": false
   },
   "outputs": [],
   "source": [
    "selected_clinical_data = xena_select_clinical_features(clinical_data, TRAIT, age_col, gender_col)"
   ]
  },
  {
   "cell_type": "code",
   "execution_count": 16,
   "metadata": {
    "collapsed": false
   },
   "outputs": [],
   "source": [
    "if NORMALIZE_GENE:\n",
    "    genetic_data = normalize_gene_symbols_in_index(genetic_data)"
   ]
  },
  {
   "cell_type": "code",
   "execution_count": 17,
   "metadata": {
    "collapsed": false
   },
   "outputs": [
    {
     "data": {
      "text/html": [
       "<div>\n",
       "<style scoped>\n",
       "    .dataframe tbody tr th:only-of-type {\n",
       "        vertical-align: middle;\n",
       "    }\n",
       "\n",
       "    .dataframe tbody tr th {\n",
       "        vertical-align: top;\n",
       "    }\n",
       "\n",
       "    .dataframe thead th {\n",
       "        text-align: right;\n",
       "    }\n",
       "</style>\n",
       "<table border=\"1\" class=\"dataframe\">\n",
       "  <thead>\n",
       "    <tr style=\"text-align: right;\">\n",
       "      <th></th>\n",
       "      <th>Lung-Cancer</th>\n",
       "      <th>Age</th>\n",
       "      <th>Gender</th>\n",
       "      <th>ARHGEF10L</th>\n",
       "      <th>HIF3A</th>\n",
       "      <th>RNF17</th>\n",
       "      <th>RNF10</th>\n",
       "      <th>RNF11</th>\n",
       "      <th>RNF13</th>\n",
       "      <th>GTF2IP1</th>\n",
       "      <th>...</th>\n",
       "      <th>TULP2</th>\n",
       "      <th>NPY5R</th>\n",
       "      <th>GNGT2</th>\n",
       "      <th>GNGT1</th>\n",
       "      <th>TULP3</th>\n",
       "      <th>PTRF</th>\n",
       "      <th>BCL6B</th>\n",
       "      <th>GSTK1</th>\n",
       "      <th>SELP</th>\n",
       "      <th>SELS</th>\n",
       "    </tr>\n",
       "    <tr>\n",
       "      <th>sampleID</th>\n",
       "      <th></th>\n",
       "      <th></th>\n",
       "      <th></th>\n",
       "      <th></th>\n",
       "      <th></th>\n",
       "      <th></th>\n",
       "      <th></th>\n",
       "      <th></th>\n",
       "      <th></th>\n",
       "      <th></th>\n",
       "      <th></th>\n",
       "      <th></th>\n",
       "      <th></th>\n",
       "      <th></th>\n",
       "      <th></th>\n",
       "      <th></th>\n",
       "      <th></th>\n",
       "      <th></th>\n",
       "      <th></th>\n",
       "      <th></th>\n",
       "      <th></th>\n",
       "    </tr>\n",
       "  </thead>\n",
       "  <tbody>\n",
       "    <tr>\n",
       "      <th>TCGA-05-4244-01</th>\n",
       "      <td>1</td>\n",
       "      <td>70.0</td>\n",
       "      <td>1.0</td>\n",
       "      <td>-0.056592</td>\n",
       "      <td>2.128674</td>\n",
       "      <td>-0.531035</td>\n",
       "      <td>-0.185972</td>\n",
       "      <td>-0.190878</td>\n",
       "      <td>-0.11891</td>\n",
       "      <td>-0.659794</td>\n",
       "      <td>...</td>\n",
       "      <td>0.015022</td>\n",
       "      <td>-1.155117</td>\n",
       "      <td>0.528367</td>\n",
       "      <td>2.75061</td>\n",
       "      <td>0.428423</td>\n",
       "      <td>-0.639586</td>\n",
       "      <td>-0.195527</td>\n",
       "      <td>-0.324695</td>\n",
       "      <td>0.193167</td>\n",
       "      <td>-0.572812</td>\n",
       "    </tr>\n",
       "    <tr>\n",
       "      <th>TCGA-05-4249-01</th>\n",
       "      <td>1</td>\n",
       "      <td>67.0</td>\n",
       "      <td>1.0</td>\n",
       "      <td>-0.569692</td>\n",
       "      <td>-0.318126</td>\n",
       "      <td>-0.531035</td>\n",
       "      <td>0.237428</td>\n",
       "      <td>0.011822</td>\n",
       "      <td>-0.00611</td>\n",
       "      <td>1.018406</td>\n",
       "      <td>...</td>\n",
       "      <td>-0.031778</td>\n",
       "      <td>-0.393117</td>\n",
       "      <td>1.632467</td>\n",
       "      <td>2.33551</td>\n",
       "      <td>-0.145577</td>\n",
       "      <td>-0.997486</td>\n",
       "      <td>-0.276027</td>\n",
       "      <td>-1.219395</td>\n",
       "      <td>1.850967</td>\n",
       "      <td>-0.471212</td>\n",
       "    </tr>\n",
       "    <tr>\n",
       "      <th>TCGA-05-4250-01</th>\n",
       "      <td>1</td>\n",
       "      <td>79.0</td>\n",
       "      <td>0.0</td>\n",
       "      <td>-0.899992</td>\n",
       "      <td>-0.918126</td>\n",
       "      <td>-0.531035</td>\n",
       "      <td>-0.621472</td>\n",
       "      <td>-0.454178</td>\n",
       "      <td>0.58719</td>\n",
       "      <td>-0.198894</td>\n",
       "      <td>...</td>\n",
       "      <td>-0.748878</td>\n",
       "      <td>-1.173917</td>\n",
       "      <td>1.966367</td>\n",
       "      <td>-1.28139</td>\n",
       "      <td>-0.374877</td>\n",
       "      <td>0.959514</td>\n",
       "      <td>0.714373</td>\n",
       "      <td>0.112305</td>\n",
       "      <td>-0.532833</td>\n",
       "      <td>-0.003812</td>\n",
       "    </tr>\n",
       "    <tr>\n",
       "      <th>TCGA-05-4382-01</th>\n",
       "      <td>1</td>\n",
       "      <td>68.0</td>\n",
       "      <td>1.0</td>\n",
       "      <td>0.667508</td>\n",
       "      <td>3.895974</td>\n",
       "      <td>-0.221535</td>\n",
       "      <td>-0.367272</td>\n",
       "      <td>0.131822</td>\n",
       "      <td>0.97629</td>\n",
       "      <td>-0.494994</td>\n",
       "      <td>...</td>\n",
       "      <td>1.013722</td>\n",
       "      <td>-1.587117</td>\n",
       "      <td>0.359267</td>\n",
       "      <td>2.59051</td>\n",
       "      <td>0.806623</td>\n",
       "      <td>0.812114</td>\n",
       "      <td>0.367373</td>\n",
       "      <td>-0.494595</td>\n",
       "      <td>-1.062233</td>\n",
       "      <td>0.108588</td>\n",
       "    </tr>\n",
       "    <tr>\n",
       "      <th>TCGA-05-4384-01</th>\n",
       "      <td>1</td>\n",
       "      <td>66.0</td>\n",
       "      <td>1.0</td>\n",
       "      <td>-0.316892</td>\n",
       "      <td>2.380374</td>\n",
       "      <td>0.156865</td>\n",
       "      <td>0.232828</td>\n",
       "      <td>0.054822</td>\n",
       "      <td>0.27059</td>\n",
       "      <td>0.128606</td>\n",
       "      <td>...</td>\n",
       "      <td>-0.060978</td>\n",
       "      <td>-0.435417</td>\n",
       "      <td>1.111467</td>\n",
       "      <td>-1.28139</td>\n",
       "      <td>-0.128477</td>\n",
       "      <td>0.110214</td>\n",
       "      <td>1.469373</td>\n",
       "      <td>0.194605</td>\n",
       "      <td>1.404667</td>\n",
       "      <td>-0.290712</td>\n",
       "    </tr>\n",
       "  </tbody>\n",
       "</table>\n",
       "<p>5 rows × 20533 columns</p>\n",
       "</div>"
      ],
      "text/plain": [
       "                 Lung-Cancer   Age  Gender  ARHGEF10L     HIF3A     RNF17  \\\n",
       "sampleID                                                                    \n",
       "TCGA-05-4244-01            1  70.0     1.0  -0.056592  2.128674 -0.531035   \n",
       "TCGA-05-4249-01            1  67.0     1.0  -0.569692 -0.318126 -0.531035   \n",
       "TCGA-05-4250-01            1  79.0     0.0  -0.899992 -0.918126 -0.531035   \n",
       "TCGA-05-4382-01            1  68.0     1.0   0.667508  3.895974 -0.221535   \n",
       "TCGA-05-4384-01            1  66.0     1.0  -0.316892  2.380374  0.156865   \n",
       "\n",
       "                    RNF10     RNF11    RNF13   GTF2IP1  ...     TULP2  \\\n",
       "sampleID                                                ...             \n",
       "TCGA-05-4244-01 -0.185972 -0.190878 -0.11891 -0.659794  ...  0.015022   \n",
       "TCGA-05-4249-01  0.237428  0.011822 -0.00611  1.018406  ... -0.031778   \n",
       "TCGA-05-4250-01 -0.621472 -0.454178  0.58719 -0.198894  ... -0.748878   \n",
       "TCGA-05-4382-01 -0.367272  0.131822  0.97629 -0.494994  ...  1.013722   \n",
       "TCGA-05-4384-01  0.232828  0.054822  0.27059  0.128606  ... -0.060978   \n",
       "\n",
       "                    NPY5R     GNGT2    GNGT1     TULP3      PTRF     BCL6B  \\\n",
       "sampleID                                                                     \n",
       "TCGA-05-4244-01 -1.155117  0.528367  2.75061  0.428423 -0.639586 -0.195527   \n",
       "TCGA-05-4249-01 -0.393117  1.632467  2.33551 -0.145577 -0.997486 -0.276027   \n",
       "TCGA-05-4250-01 -1.173917  1.966367 -1.28139 -0.374877  0.959514  0.714373   \n",
       "TCGA-05-4382-01 -1.587117  0.359267  2.59051  0.806623  0.812114  0.367373   \n",
       "TCGA-05-4384-01 -0.435417  1.111467 -1.28139 -0.128477  0.110214  1.469373   \n",
       "\n",
       "                    GSTK1      SELP      SELS  \n",
       "sampleID                                       \n",
       "TCGA-05-4244-01 -0.324695  0.193167 -0.572812  \n",
       "TCGA-05-4249-01 -1.219395  1.850967 -0.471212  \n",
       "TCGA-05-4250-01  0.112305 -0.532833 -0.003812  \n",
       "TCGA-05-4382-01 -0.494595 -1.062233  0.108588  \n",
       "TCGA-05-4384-01  0.194605  1.404667 -0.290712  \n",
       "\n",
       "[5 rows x 20533 columns]"
      ]
     },
     "execution_count": 17,
     "metadata": {},
     "output_type": "execute_result"
    }
   ],
   "source": [
    "merged_data = selected_clinical_data.join(genetic_data.T).dropna()\n",
    "merged_data.head()"
   ]
  },
  {
   "cell_type": "code",
   "execution_count": 18,
   "metadata": {
    "collapsed": false
   },
   "outputs": [
    {
     "name": "stdout",
     "output_type": "stream",
     "text": [
      "The merged dataset contains 1100 samples.\n"
     ]
    }
   ],
   "source": [
    "print(f\"The merged dataset contains {len(merged_data)} samples.\")"
   ]
  },
  {
   "cell_type": "code",
   "execution_count": 19,
   "metadata": {
    "collapsed": false
   },
   "outputs": [
    {
     "name": "stdout",
     "output_type": "stream",
     "text": [
      "For the feature 'Lung-Cancer', the least common label is '0' with 110 occurrences. This represents 10.00% of the dataset.\n",
      "The distribution of the feature 'Lung-Cancer' in this dataset is fine.\n",
      "\n",
      "Quartiles for 'Age':\n",
      "  25%: 60.0\n",
      "  50% (Median): 67.0\n",
      "  75%: 73.0\n",
      "Min: 38.0\n",
      "Max: 90.0\n",
      "The distribution of the feature 'Age' in this dataset is fine.\n",
      "\n",
      "For the feature 'Gender', the least common label is '0.0' with 443 occurrences. This represents 40.27% of the dataset.\n",
      "The distribution of the feature 'Gender' in this dataset is fine.\n",
      "\n"
     ]
    },
    {
     "data": {
      "text/plain": [
       "False"
      ]
     },
     "execution_count": 19,
     "metadata": {},
     "output_type": "execute_result"
    }
   ],
   "source": [
    "is_trait_biased, merge_data = judge_and_remove_biased_features(merged_data, TRAIT, trait_type=trait_type)\n",
    "is_trait_biased"
   ]
  },
  {
   "cell_type": "code",
   "execution_count": 20,
   "metadata": {
    "collapsed": false
   },
   "outputs": [],
   "source": [
    "merged_data.head()\n",
    "if not is_trait_biased:\n",
    "    merge_data.to_csv(os.path.join(OUTPUT_DIR, cohort+'.csv'), index=False)"
   ]
  },
  {
   "cell_type": "code",
   "execution_count": 21,
   "metadata": {
    "collapsed": false
   },
   "outputs": [
    {
     "name": "stdout",
     "output_type": "stream",
     "text": [
      "A new JSON file was created at: ../../output1/Yuxuan/Lung-Cancer/cohort_info.json\n"
     ]
    }
   ],
   "source": [
    "save_cohort_info(cohort, JSON_PATH, is_available, is_trait_biased, merged_data)"
   ]
  },
  {
   "cell_type": "markdown",
   "metadata": {
    "ExecuteTime": {
     "end_time": "2023-12-28T21:28:38.028916303Z",
     "start_time": "2023-12-28T21:28:38.016245426Z"
    },
    "collapsed": false
   },
   "source": [
    "## 2.2. The GEO dataset"
   ]
  },
  {
   "cell_type": "markdown",
   "metadata": {
    "ExecuteTime": {
     "end_time": "2023-12-31T03:25:23.253882615Z",
     "start_time": "2023-12-31T03:25:23.244062710Z"
    },
    "collapsed": false
   },
   "source": [
    "In GEO, there may be one or multiple cohorts for a trait. Each cohort is identified by an accession number. We iterate over all accession numbers in the corresponding subdirectory, preprocess the cohort data, and save them to csv files."
   ]
  },
  {
   "cell_type": "code",
   "execution_count": 2,
   "metadata": {
    "ExecuteTime": {
     "end_time": "2024-01-02T01:02:59.503572381Z",
     "start_time": "2024-01-02T01:02:59.491400342Z"
    },
    "collapsed": false
   },
   "outputs": [
    {
     "data": {
      "text/plain": [
       "['GSE18123', 'GSE146509']"
      ]
     },
     "execution_count": 2,
     "metadata": {},
     "output_type": "execute_result"
    }
   ],
   "source": [
    "dataset = 'GEO'\n",
    "trait_subdir = \"Tourette-Syndrome\"\n",
    "\n",
    "trait_path = os.path.join(DATA_ROOT, dataset, trait_subdir)\n",
    "os.listdir(trait_path)"
   ]
  },
  {
   "cell_type": "markdown",
   "metadata": {
    "ExecuteTime": {
     "end_time": "2023-12-31T03:39:42.634870142Z",
     "start_time": "2023-12-31T03:39:42.534093295Z"
    },
    "collapsed": false
   },
   "source": [
    "Repeat the below steps for all the accession numbers"
   ]
  },
  {
   "cell_type": "code",
   "execution_count": 5,
   "metadata": {
    "ExecuteTime": {
     "end_time": "2024-01-02T01:03:00.287218362Z",
     "start_time": "2024-01-02T01:03:00.278758251Z"
    },
    "collapsed": false
   },
   "outputs": [
    {
     "data": {
      "text/plain": [
       "('/Users/wjt/Desktop/is_data/GEO/Tourette-Syndrome/GSE18123/GSE18123_family.soft.gz',\n",
       " '/Users/wjt/Desktop/is_data/GEO/Tourette-Syndrome/GSE18123/GSE18123-GPL6244_series_matrix.txt.gz')"
      ]
     },
     "execution_count": 5,
     "metadata": {},
     "output_type": "execute_result"
    }
   ],
   "source": [
    "cohort = accession_num = \"GSE18123\"\n",
    "cohort_dir = os.path.join(trait_path, accession_num)\n",
    "soft_file, matrix_file = geo_get_relevant_filepaths(cohort_dir)\n",
    "soft_file, matrix_file"
   ]
  },
  {
   "cell_type": "markdown",
   "metadata": {
    "collapsed": false
   },
   "source": [
    "### Inital filtering and clinical data preprocessing"
   ]
  },
  {
   "cell_type": "code",
   "execution_count": 6,
   "metadata": {
    "ExecuteTime": {
     "end_time": "2024-01-02T01:03:01.634861460Z",
     "start_time": "2024-01-02T01:03:01.076370517Z"
    },
    "collapsed": false
   },
   "outputs": [
    {
     "name": "stdout",
     "output_type": "stream",
     "text": [
      "!Series_title\t\"Blood gene expression signatures distinguish autism spectrum disorders from controls\"\n",
      "!Series_summary\t\"Autism Spectrum Disorder (ASD) is a common pediatric cognitive disorder with high heritability. Yet no single genetic variant has accounted for more than a small fraction of cases. We sought to determine whether we could classify patients as having ASD vs. controls solely based on a multi-gene expression profiling of their peripheral blood cells.\"\n",
      "!Series_overall_design\t\"To test whether peripheral blood gene expression profiles could be used as a molecular diagnostic tool for distinguishing ASD from controls, we performed peripheral blood gene expression profiling on 170 patients with ASD and 115 controls collected from Boston area hospitals.  We developed a 55-gene prediction model with a sample cohort of 66 male patients with ASD and 33 age-matched male controls using cross-validation strategy.  Subsequently, 104 ASD and 82 controls were recruited and used as first and second validation sets, respectively.\"\n"
     ]
    }
   ],
   "source": [
    "background_prefixes = ['!Series_title', '!Series_summary', '!Series_overall_design']\n",
    "clinical_prefixes = ['!Sample_geo_accession', '!Sample_characteristics_ch1']\n",
    "\n",
    "background_info, clinical_data = get_background_and_clinical_data(matrix_file, background_prefixes, clinical_prefixes)\n",
    "print(background_info)"
   ]
  },
  {
   "cell_type": "code",
   "execution_count": 7,
   "metadata": {
    "ExecuteTime": {
     "end_time": "2024-01-02T01:03:01.642310454Z",
     "start_time": "2024-01-02T01:03:01.635048940Z"
    },
    "collapsed": false
   },
   "outputs": [
    {
     "data": {
      "text/html": [
       "<div>\n",
       "<style scoped>\n",
       "    .dataframe tbody tr th:only-of-type {\n",
       "        vertical-align: middle;\n",
       "    }\n",
       "\n",
       "    .dataframe tbody tr th {\n",
       "        vertical-align: top;\n",
       "    }\n",
       "\n",
       "    .dataframe thead th {\n",
       "        text-align: right;\n",
       "    }\n",
       "</style>\n",
       "<table border=\"1\" class=\"dataframe\">\n",
       "  <thead>\n",
       "    <tr style=\"text-align: right;\">\n",
       "      <th></th>\n",
       "      <th>!Sample_geo_accession</th>\n",
       "      <th>GSM650655</th>\n",
       "      <th>GSM650656</th>\n",
       "      <th>GSM650657</th>\n",
       "      <th>GSM650658</th>\n",
       "      <th>GSM650659</th>\n",
       "      <th>GSM650660</th>\n",
       "      <th>GSM650661</th>\n",
       "      <th>GSM650662</th>\n",
       "      <th>GSM650663</th>\n",
       "      <th>...</th>\n",
       "      <th>GSM650944</th>\n",
       "      <th>GSM650946</th>\n",
       "      <th>GSM650950</th>\n",
       "      <th>GSM650951</th>\n",
       "      <th>GSM650954</th>\n",
       "      <th>GSM650959</th>\n",
       "      <th>GSM650968</th>\n",
       "      <th>GSM650969</th>\n",
       "      <th>GSM650970</th>\n",
       "      <th>GSM650975</th>\n",
       "    </tr>\n",
       "  </thead>\n",
       "  <tbody>\n",
       "    <tr>\n",
       "      <th>0</th>\n",
       "      <td>!Sample_characteristics_ch1</td>\n",
       "      <td>diagnosis: ASPERGER'S DISORDER</td>\n",
       "      <td>diagnosis: AUTISM</td>\n",
       "      <td>diagnosis: CONTROL</td>\n",
       "      <td>diagnosis: AUTISM</td>\n",
       "      <td>diagnosis: AUTISM</td>\n",
       "      <td>diagnosis: PDD-NOS</td>\n",
       "      <td>diagnosis: PDD-NOS</td>\n",
       "      <td>diagnosis: ASPERGER'S DISORDER</td>\n",
       "      <td>diagnosis: PDD-NOS</td>\n",
       "      <td>...</td>\n",
       "      <td>diagnosis: CONTROL</td>\n",
       "      <td>diagnosis: CONTROL</td>\n",
       "      <td>diagnosis: CONTROL</td>\n",
       "      <td>diagnosis: CONTROL</td>\n",
       "      <td>diagnosis: CONTROL</td>\n",
       "      <td>diagnosis: CONTROL</td>\n",
       "      <td>diagnosis: CONTROL</td>\n",
       "      <td>diagnosis: CONTROL</td>\n",
       "      <td>diagnosis: CONTROL</td>\n",
       "      <td>diagnosis: CONTROL</td>\n",
       "    </tr>\n",
       "    <tr>\n",
       "      <th>1</th>\n",
       "      <td>!Sample_characteristics_ch1</td>\n",
       "      <td>gender: male</td>\n",
       "      <td>gender: male</td>\n",
       "      <td>gender: male</td>\n",
       "      <td>gender: male</td>\n",
       "      <td>gender: male</td>\n",
       "      <td>gender: male</td>\n",
       "      <td>gender: male</td>\n",
       "      <td>gender: male</td>\n",
       "      <td>gender: male</td>\n",
       "      <td>...</td>\n",
       "      <td>gender: male</td>\n",
       "      <td>gender: male</td>\n",
       "      <td>gender: male</td>\n",
       "      <td>gender: male</td>\n",
       "      <td>gender: male</td>\n",
       "      <td>gender: male</td>\n",
       "      <td>gender: male</td>\n",
       "      <td>gender: male</td>\n",
       "      <td>gender: male</td>\n",
       "      <td>gender: male</td>\n",
       "    </tr>\n",
       "    <tr>\n",
       "      <th>2</th>\n",
       "      <td>!Sample_characteristics_ch1</td>\n",
       "      <td>age at blood drawing (months): 156</td>\n",
       "      <td>age at blood drawing (months): 168</td>\n",
       "      <td>age at blood drawing (months): 228</td>\n",
       "      <td>age at blood drawing (months): 60</td>\n",
       "      <td>age at blood drawing (months): 36</td>\n",
       "      <td>age at blood drawing (months): 72</td>\n",
       "      <td>age at blood drawing (months): 108</td>\n",
       "      <td>age at blood drawing (months): 120</td>\n",
       "      <td>age at blood drawing (months): 48</td>\n",
       "      <td>...</td>\n",
       "      <td>age at blood drawing (months): 85</td>\n",
       "      <td>age at blood drawing (months): 48</td>\n",
       "      <td>age at blood drawing (months): 24</td>\n",
       "      <td>age at blood drawing (months): 56</td>\n",
       "      <td>age at blood drawing (months): 138</td>\n",
       "      <td>age at blood drawing (months): 28</td>\n",
       "      <td>age at blood drawing (months): 51</td>\n",
       "      <td>age at blood drawing (months): 37</td>\n",
       "      <td>age at blood drawing (months): 49</td>\n",
       "      <td>age at blood drawing (months): 48</td>\n",
       "    </tr>\n",
       "    <tr>\n",
       "      <th>3</th>\n",
       "      <td>!Sample_characteristics_ch1</td>\n",
       "      <td>race: Caucasian</td>\n",
       "      <td>race: Caucasian</td>\n",
       "      <td>race: Black</td>\n",
       "      <td>race: Caucasian</td>\n",
       "      <td>race: Caucasian</td>\n",
       "      <td>race: Caucasian</td>\n",
       "      <td>race: Caucasian</td>\n",
       "      <td>race: Caucasian</td>\n",
       "      <td>race: Caucasian</td>\n",
       "      <td>...</td>\n",
       "      <td>race: Caucasian</td>\n",
       "      <td>race: Unknown</td>\n",
       "      <td>race: Unknown</td>\n",
       "      <td>race: Caucasian</td>\n",
       "      <td>race: Black</td>\n",
       "      <td>race: Other (Spanish)</td>\n",
       "      <td>race: Unknown</td>\n",
       "      <td>race: Caucasian</td>\n",
       "      <td>race: Other (Dominican)</td>\n",
       "      <td>race: Other (Puerto Rican)</td>\n",
       "    </tr>\n",
       "    <tr>\n",
       "      <th>4</th>\n",
       "      <td>!Sample_characteristics_ch1</td>\n",
       "      <td>ethnicity: Non-Hispanic</td>\n",
       "      <td>ethnicity: Non-Hispanic</td>\n",
       "      <td>ethnicity: Non-Hispanic</td>\n",
       "      <td>ethnicity: Non-Hispanic</td>\n",
       "      <td>ethnicity: Non-Hispanic</td>\n",
       "      <td>ethnicity: Non-Hispanic</td>\n",
       "      <td>ethnicity: Non-Hispanic</td>\n",
       "      <td>ethnicity: Non-Hispanic</td>\n",
       "      <td>ethnicity: Hispanic</td>\n",
       "      <td>...</td>\n",
       "      <td>ethnicity: Hispanic</td>\n",
       "      <td>ethnicity: Hispanic</td>\n",
       "      <td>ethnicity: Hispanic</td>\n",
       "      <td>ethnicity: Hispanic</td>\n",
       "      <td>ethnicity: Non-Hispanic</td>\n",
       "      <td>ethnicity: Hispanic</td>\n",
       "      <td>ethnicity: Hispanic</td>\n",
       "      <td>ethnicity: Non-Hispanic</td>\n",
       "      <td>ethnicity: Hispanic</td>\n",
       "      <td>ethnicity: Hispanic</td>\n",
       "    </tr>\n",
       "  </tbody>\n",
       "</table>\n",
       "<p>5 rows × 187 columns</p>\n",
       "</div>"
      ],
      "text/plain": [
       "         !Sample_geo_accession                           GSM650655  \\\n",
       "0  !Sample_characteristics_ch1      diagnosis: ASPERGER'S DISORDER   \n",
       "1  !Sample_characteristics_ch1                        gender: male   \n",
       "2  !Sample_characteristics_ch1  age at blood drawing (months): 156   \n",
       "3  !Sample_characteristics_ch1                     race: Caucasian   \n",
       "4  !Sample_characteristics_ch1             ethnicity: Non-Hispanic   \n",
       "\n",
       "                            GSM650656                           GSM650657  \\\n",
       "0                   diagnosis: AUTISM                  diagnosis: CONTROL   \n",
       "1                        gender: male                        gender: male   \n",
       "2  age at blood drawing (months): 168  age at blood drawing (months): 228   \n",
       "3                     race: Caucasian                         race: Black   \n",
       "4             ethnicity: Non-Hispanic             ethnicity: Non-Hispanic   \n",
       "\n",
       "                           GSM650658                          GSM650659  \\\n",
       "0                  diagnosis: AUTISM                  diagnosis: AUTISM   \n",
       "1                       gender: male                       gender: male   \n",
       "2  age at blood drawing (months): 60  age at blood drawing (months): 36   \n",
       "3                    race: Caucasian                    race: Caucasian   \n",
       "4            ethnicity: Non-Hispanic            ethnicity: Non-Hispanic   \n",
       "\n",
       "                           GSM650660                           GSM650661  \\\n",
       "0                 diagnosis: PDD-NOS                  diagnosis: PDD-NOS   \n",
       "1                       gender: male                        gender: male   \n",
       "2  age at blood drawing (months): 72  age at blood drawing (months): 108   \n",
       "3                    race: Caucasian                     race: Caucasian   \n",
       "4            ethnicity: Non-Hispanic             ethnicity: Non-Hispanic   \n",
       "\n",
       "                            GSM650662                          GSM650663  ...  \\\n",
       "0      diagnosis: ASPERGER'S DISORDER                 diagnosis: PDD-NOS  ...   \n",
       "1                        gender: male                       gender: male  ...   \n",
       "2  age at blood drawing (months): 120  age at blood drawing (months): 48  ...   \n",
       "3                     race: Caucasian                    race: Caucasian  ...   \n",
       "4             ethnicity: Non-Hispanic                ethnicity: Hispanic  ...   \n",
       "\n",
       "                           GSM650944                          GSM650946  \\\n",
       "0                 diagnosis: CONTROL                 diagnosis: CONTROL   \n",
       "1                       gender: male                       gender: male   \n",
       "2  age at blood drawing (months): 85  age at blood drawing (months): 48   \n",
       "3                    race: Caucasian                      race: Unknown   \n",
       "4                ethnicity: Hispanic                ethnicity: Hispanic   \n",
       "\n",
       "                           GSM650950                          GSM650951  \\\n",
       "0                 diagnosis: CONTROL                 diagnosis: CONTROL   \n",
       "1                       gender: male                       gender: male   \n",
       "2  age at blood drawing (months): 24  age at blood drawing (months): 56   \n",
       "3                      race: Unknown                    race: Caucasian   \n",
       "4                ethnicity: Hispanic                ethnicity: Hispanic   \n",
       "\n",
       "                            GSM650954                          GSM650959  \\\n",
       "0                  diagnosis: CONTROL                 diagnosis: CONTROL   \n",
       "1                        gender: male                       gender: male   \n",
       "2  age at blood drawing (months): 138  age at blood drawing (months): 28   \n",
       "3                         race: Black              race: Other (Spanish)   \n",
       "4             ethnicity: Non-Hispanic                ethnicity: Hispanic   \n",
       "\n",
       "                           GSM650968                          GSM650969  \\\n",
       "0                 diagnosis: CONTROL                 diagnosis: CONTROL   \n",
       "1                       gender: male                       gender: male   \n",
       "2  age at blood drawing (months): 51  age at blood drawing (months): 37   \n",
       "3                      race: Unknown                    race: Caucasian   \n",
       "4                ethnicity: Hispanic            ethnicity: Non-Hispanic   \n",
       "\n",
       "                           GSM650970                          GSM650975  \n",
       "0                 diagnosis: CONTROL                 diagnosis: CONTROL  \n",
       "1                       gender: male                       gender: male  \n",
       "2  age at blood drawing (months): 49  age at blood drawing (months): 48  \n",
       "3            race: Other (Dominican)         race: Other (Puerto Rican)  \n",
       "4                ethnicity: Hispanic                ethnicity: Hispanic  \n",
       "\n",
       "[5 rows x 187 columns]"
      ]
     },
     "execution_count": 7,
     "metadata": {},
     "output_type": "execute_result"
    }
   ],
   "source": [
    "clinical_data.head()"
   ]
  },
  {
   "cell_type": "code",
   "execution_count": 8,
   "metadata": {
    "ExecuteTime": {
     "end_time": "2024-01-02T01:03:01.805026160Z",
     "start_time": "2024-01-02T01:03:01.804428154Z"
    },
    "collapsed": false
   },
   "outputs": [
    {
     "data": {
      "text/plain": [
       "{0: [\"diagnosis: ASPERGER'S DISORDER\",\n",
       "  'diagnosis: AUTISM',\n",
       "  'diagnosis: CONTROL',\n",
       "  'diagnosis: PDD-NOS'],\n",
       " 1: ['gender: male', 'gender: female'],\n",
       " 2: ['age at blood drawing (months): 156',\n",
       "  'age at blood drawing (months): 168',\n",
       "  'age at blood drawing (months): 228',\n",
       "  'age at blood drawing (months): 60',\n",
       "  'age at blood drawing (months): 36',\n",
       "  'age at blood drawing (months): 72',\n",
       "  'age at blood drawing (months): 108',\n",
       "  'age at blood drawing (months): 120',\n",
       "  'age at blood drawing (months): 48',\n",
       "  'age at blood drawing (months): 84',\n",
       "  'age at blood drawing (months): 96',\n",
       "  'age at blood drawing (months): 91',\n",
       "  'age at blood drawing (months): 33',\n",
       "  'age at blood drawing (months): 165',\n",
       "  'age at blood drawing (months): 117',\n",
       "  'age at blood drawing (months): 77',\n",
       "  'age at blood drawing (months): 129',\n",
       "  'age at blood drawing (months): 133',\n",
       "  'age at blood drawing (months): 107',\n",
       "  'age at blood drawing (months): 76',\n",
       "  'age at blood drawing (months): 62',\n",
       "  'age at blood drawing (months): 43',\n",
       "  'age at blood drawing (months): 47',\n",
       "  'age at blood drawing (months): 216',\n",
       "  'age at blood drawing (months): 73',\n",
       "  'age at blood drawing (months): 110',\n",
       "  'age at blood drawing (months): 144',\n",
       "  'age at blood drawing (months): 132',\n",
       "  'age at blood drawing (months): 204',\n",
       "  'age at blood drawing (months): 180'],\n",
       " 3: ['race: Caucasian',\n",
       "  'race: Black',\n",
       "  'race: Mixed (Black, Caucasian)',\n",
       "  'race: Unknown',\n",
       "  'race: Asian',\n",
       "  'race: Other (Puerto Rican)',\n",
       "  'race: Mixed (Puerto Rican, Black)',\n",
       "  'race: Mixed (Caucasian, Black)',\n",
       "  'race: Other (Spanish)',\n",
       "  'race: Mixed (Chinese, Spanish)',\n",
       "  'race: Mixed (Arabic, White)',\n",
       "  'race: Mixed (Black, Filipino)',\n",
       "  'race: Other (West Indian)',\n",
       "  'race: Other',\n",
       "  'race: Mixed',\n",
       "  'race: Mixed (Black, American Indian)',\n",
       "  'race: Other (Portuguese, Spanish)',\n",
       "  'race: Other (Trinidadian)',\n",
       "  'race: Other (Dominican)'],\n",
       " 4: ['ethnicity: Non-Hispanic', 'ethnicity: Hispanic', 'ethnicity: Unknown'],\n",
       " 5: ['hours (minutes since last caloric intake): : 3:25',\n",
       "  'hours (minutes since last caloric intake): : 0:40',\n",
       "  'hours (minutes since last caloric intake): : 7:35',\n",
       "  'hours (minutes since last caloric intake): : 1:30',\n",
       "  'hours (minutes since last caloric intake): : 5:00',\n",
       "  'hours (minutes since last caloric intake): : 1:00',\n",
       "  'hours (minutes since last caloric intake): : 3:45',\n",
       "  'hours (minutes since last caloric intake): : 4:10',\n",
       "  'hours (minutes since last caloric intake): : 0:45',\n",
       "  'hours (minutes since last caloric intake): : 2:55',\n",
       "  'hours (minutes since last caloric intake): : 2:39',\n",
       "  'hours (minutes since last caloric intake): : 1:15',\n",
       "  'hours (minutes since last caloric intake): : 0:25',\n",
       "  'hours (minutes since last caloric intake): : 3:40',\n",
       "  'hours (minutes since last caloric intake): : 0:20',\n",
       "  'hours (minutes since last caloric intake): : 2:15',\n",
       "  'hours (minutes since last caloric intake): : 3:00',\n",
       "  'hours (minutes since last caloric intake): : 2:00',\n",
       "  'hours (minutes since last caloric intake): : 3:30',\n",
       "  'hours (minutes since last caloric intake): : 4:30',\n",
       "  'hours (minutes since last caloric intake): : 0:15',\n",
       "  'hours (minutes since last caloric intake): : 0:30',\n",
       "  'hours (minutes since last caloric intake): : 1:55',\n",
       "  'hours (minutes since last caloric intake): : 7:45',\n",
       "  'hours (minutes since last caloric intake): : 2:20',\n",
       "  'hours (minutes since last caloric intake): : unknown',\n",
       "  'hours (minutes since last caloric intake): : 1:20',\n",
       "  'hours (minutes since last caloric intake): : 5:15',\n",
       "  'hours (minutes since last caloric intake): : 0:55',\n",
       "  'hours (minutes since last caloric intake): : 4:05'],\n",
       " 6: ['chronic diseases: -',\n",
       "  'chronic diseases: yes',\n",
       "  'allergies: -',\n",
       "  'allergies: yes'],\n",
       " 7: ['allergies: -',\n",
       "  'allergies: yes',\n",
       "  'developmental/speech disorder: yes (speech delay)',\n",
       "  'allergies: yes (dogs)',\n",
       "  'allergies: yes (pollen & dust)',\n",
       "  'allergies: yes (seasonal allergies)',\n",
       "  'allergies: yes (insect bites)',\n",
       "  'developmental/speech disorder: -',\n",
       "  'allergies: unknown',\n",
       "  'allergies: yes (pollen)',\n",
       "  'allergies: yes (amoxicillin)'],\n",
       " 8: ['developmental/speech disorder: -',\n",
       "  'developmental/speech disorder: yes (speech delay)',\n",
       "  'developmental/speech disorder: yes (MR)',\n",
       "  'developmental/speech disorder: yes',\n",
       "  'developmental/speech disorder: yes (motor coordination disorder)',\n",
       "  'developmental/speech disorder: yes (delayed speech)',\n",
       "  'developmental/speech disorder: yes (learning disability)',\n",
       "  'developmental/speech disorder: yes (MR), delayed speech',\n",
       "  'neurological disorder: yes (suspected tics)',\n",
       "  'developmental/speech disorder: yes (speech delay, learning disability)',\n",
       "  'neurological disorder: yes (abnormal MRI)',\n",
       "  'developmental/speech disorder: yes (speech delay, MR)',\n",
       "  'developmental/speech disorder: speech delay',\n",
       "  'developmental/speech disorder: yes (speech and motor delay), MR',\n",
       "  'neurological disorder: -'],\n",
       " 9: ['neurological disorder: -',\n",
       "  'neurological disorder: yes (seizures, Landau-Kleffner Syndrome, abnomral EEG)',\n",
       "  'neurological disorder: yes (seizures)',\n",
       "  'neurological disorder: yes',\n",
       "  'neurological disorder: yes (abnormal CT Scan and Febrile Seizures)',\n",
       "  'neurological disorder: yes (abnormal EEG, meningitis)',\n",
       "  'neurological disorder: yes (excessively clumsy, uncoordinated)',\n",
       "  'psychiatric disorder: -',\n",
       "  'neurological disorder: yes (unusual gait)',\n",
       "  'neurological disorder: yes (Suspected of being extra clumsy, uncoordinated; abnormal EEG)',\n",
       "  'neurological disorder: yes (possible abnormal MRI)',\n",
       "  'neurological disorder: yes (cerebral palsy; unusual gait)',\n",
       "  'neurological disorder: yes (abnormal MRI)',\n",
       "  'neurological disorder: yes  (positive lead screen)',\n",
       "  'neurological disorder: yes (Suspected of being extra clumsy, uncoordinated; suspected unusual gait)',\n",
       "  'neurological disorder: yes (petit mal or absence seizures)'],\n",
       " 10: ['psychiatric disorder: -',\n",
       "  'psychiatric disorder: yes (anxiety disorder)',\n",
       "  'psychiatric disorder: yes (mood disorder)',\n",
       "  'psychiatric disorder: yes (ADD)',\n",
       "  'psychiatric disorder: yes (depression, ADD)',\n",
       "  'psychiatric disorder: yes (ADHD)',\n",
       "  'psychiatric disorder: yes',\n",
       "  'psychiatric disorder: yes (eating disorder)',\n",
       "  'psychiatric disorder: yes (mood disorder, Pica)',\n",
       "  'psychiatric disorder: yes (anxiety disorder, OCD)',\n",
       "  'psychiatric disorder: yes (anxiety disorder, OCD, ADD)',\n",
       "  'psychiatric disorder: yes (bipolar, ADD)',\n",
       "  'psychiatric disorder: yes (OCD)',\n",
       "  'psychiatric disorder: yes (suspected anxiety disorder)',\n",
       "  'gastrointestinal disorder: yes (GERD)',\n",
       "  'psychiatric disorder: yes (seizures)',\n",
       "  'psychiatric disorder: yes (suspected OCD, ADD)',\n",
       "  'psychiatric disorder: yes (suspected ADD)',\n",
       "  'gastrointestinal disorder: -',\n",
       "  'psychiatric disorder: yes (depression, bipoloar, anxiety disorder, OCD, ADD)',\n",
       "  'psychiatric disorder: yes (anxiety disorder, ADD)',\n",
       "  'psychiatric disorder: yes (suspected OCD)',\n",
       "  'psychiatric disorder: yes (suspected anxiety disorder, suspected OCD, pica)',\n",
       "  'psychiatric disorder: yes (depression)'],\n",
       " 11: ['gastrointestinal disorder: -',\n",
       "  'gastrointestinal disorder: yes',\n",
       "  'gastrointestinal disorder: yes (GERD)',\n",
       "  'autoimmune disorder: -',\n",
       "  'gastrointestinal disorder: yes (GERD, severe abdominal p)ain'],\n",
       " 12: ['autoimmune disorder: -',\n",
       "  'autoimmune disorder: yes (asthma)',\n",
       "  'autoimmune disorder: yes (psoriasis)',\n",
       "  'genetic testing: yes (3p duplication, maternally inherited)',\n",
       "  'genetic testing: -'],\n",
       " 13: ['genetic testing: -',\n",
       "  'genetic testing: CMA varient of unknown significance, deletion 11p11.12',\n",
       "  'birth defects: -'],\n",
       " 14: ['birth defects: -',\n",
       "  'birth defects: yes (kidney defect from birth)',\n",
       "  'ct: -'],\n",
       " 15: ['ct: -', 'mri: -', 'mri: abnormal'],\n",
       " 16: ['mri: -',\n",
       "  'mri: abnormal',\n",
       "  'medications/vitamin names: Tylenol cold/ congestion, Claritin',\n",
       "  'medications/vitamin names: Medications/ Vitmatin names (timeline not specified)',\n",
       "  'mri: suspected of having abnormal MRI',\n",
       "  'mri: abnormal MRI',\n",
       "  'medications/vitamin names: -'],\n",
       " 17: ['medications/vitamin names: ibuprofen, excedrine, multivitamin',\n",
       "  'medications/vitamin names: Biaxin, Singulair, Lexapro, Biaxin, tylenol, echinacea',\n",
       "  'medications/vitamin names: tylenol',\n",
       "  'medications/vitamin names: OTC cold medications, Risperdal, multivitamin',\n",
       "  'medications/vitamin names: pediapops, multivitamin, flouride',\n",
       "  'medications/vitamin names: Tylenol, Tylenol',\n",
       "  'medications/vitamin names: none, singulair, inhaler',\n",
       "  'medications/vitamin names: Tamiflu, Concerta',\n",
       "  'medications/vitamin names: -',\n",
       "  'medications/vitamin names: Risperdal, Adderall, melatonin, multivitamin, calcium',\n",
       "  'medications/vitamin names: motrin',\n",
       "  'medications/vitamin names: Abilify, Inderal, Multivitamin, Omega-3',\n",
       "  'medications/vitamin names: Benedryl, Zyrtec',\n",
       "  'medications/vitamin names: multivitamin',\n",
       "  'medications/vitamin names: multivitamin, Allegra',\n",
       "  'medications/vitamin names: Zoloft',\n",
       "  'medications/vitamin names: multivitamin, fluoride',\n",
       "  'medications/vitamin names: Adderall, Tenex, Risperdal',\n",
       "  'medications/vitamin names: fluoride',\n",
       "  'medications/vitamin names: mulivitamin',\n",
       "  \"medications/vitamin names: antibiotics, steriod, ibuterol w/ nebulizer, antiseizure kepra, neurontin risperdal, ritalin, antibiotic, benadryl, women's multi-vitamin\",\n",
       "  'medications/vitamin names: Tylenol cold, Vitamins, Benedryl',\n",
       "  'medications/vitamin names: Advil',\n",
       "  'medications/vitamin names: oral steroids, asthma medications, Flovent, albuterol',\n",
       "  'medications/vitamin names: asthma meds, flovent, albuterol',\n",
       "  'medications/vitamin names: cough medicine, melatonin',\n",
       "  'medications/vitamin names: zithromax, Zoloft, Strattera, Benadryl',\n",
       "  'medications/vitamin names: Clariton, multivitamin',\n",
       "  'medications/vitamin names: Focalin',\n",
       "  'medications/vitamin names: ear drops, imipramine, DDAVP'],\n",
       " 18: ['cerebral palsy: -', 'seizure: -', 'cerebral palsy: yes'],\n",
       " 19: ['seizure: -',\n",
       "  'seizure: yes',\n",
       "  'other diseases: metabolic abnormalities',\n",
       "  'other diseases: Landau-Kleffner Syndrome, abnormal EEG, childhood disintegration disorder',\n",
       "  'other diseases: -'],\n",
       " 20: ['other diseases: -',\n",
       "  'other diseases: positive lead test',\n",
       "  'other diseases: suspected diagnosis of Stickler syndrome',\n",
       "  'other diseases: positive lead test, congenital heart defect',\n",
       "  'other diseases: meningitis',\n",
       "  'other diseases: deletion 15g 13.2g-13.3g',\n",
       "  'other diseases: abnormal MRI and EEG',\n",
       "  nan,\n",
       "  'other diseases: abnormal Eeg, congenital heart defect',\n",
       "  'other diseases: Landau-Kleffner Syndrome, childhood disintegration disorder',\n",
       "  'other diseases: mitochondrial disorder']}"
      ]
     },
     "execution_count": 8,
     "metadata": {},
     "output_type": "execute_result"
    }
   ],
   "source": [
    "clinical_data_unique = get_unique_values_by_row(clinical_data)\n",
    "clinical_data_unique"
   ]
  },
  {
   "cell_type": "markdown",
   "metadata": {
    "ExecuteTime": {
     "end_time": "2023-12-31T03:58:04.978204446Z",
     "start_time": "2023-12-31T03:58:04.922270095Z"
    },
    "collapsed": false
   },
   "source": [
    "Analyze the metadata to determine data relevance and find ways to extract the clinical data.\n",
    "Reference prompt:"
   ]
  },
  {
   "cell_type": "code",
   "execution_count": 9,
   "metadata": {
    "ExecuteTime": {
     "end_time": "2024-01-02T01:03:02.369775044Z",
     "start_time": "2024-01-02T01:03:02.356501629Z"
    },
    "collapsed": false
   },
   "outputs": [
    {
     "data": {
      "text/plain": [
       "'As a biomedical research team, we are selecting datasets to study the association between the human trait \\'Tourette-Syndrome\\' and genetic factors, optionally considering the influence of age and gender. After searching the GEO database and parsing the matrix file of a series, we obtained background information and sample characteristics data. We will provide textual information about the dataset background, and a Python dictionary storing a list of unique values for each field of the sample characteristics data. Please carefully review the provided information and answer the following questions about this dataset:\\n1. Does this dataset contain gene expression data? (Note: Pure miRNA data is not suitable.)\\n2. For each of the traits \\'Tourette-Syndrome\\', \\'age\\', and \\'gender\\', please address these points:\\n   (1) Is there human data available for this trait?\\n   (2) If so, identify the key in the sample characteristics dictionary where unique values of this trait is recorded. The key is an integer. The trait information might be explicitly recorded, or can be inferred from the field with some biomedical knowledge or understanding about the data collection process.\\n   (3) Choose an appropriate data type (either \\'continuous\\' or \\'binary\\') for each trait. Write a Python function to convert any given value of the trait to this data type. The function should handle inference about the trait value and convert unknown values to None.\\n   Name the functions \\'convert_trait\\', \\'convert_age\\', and \\'convert_gender\\', respectively.\\n\\nBackground information about the dataset:\\n!Series_title\\t\"Blood gene expression signatures distinguish autism spectrum disorders from controls\"\\n!Series_summary\\t\"Autism Spectrum Disorder (ASD) is a common pediatric cognitive disorder with high heritability. Yet no single genetic variant has accounted for more than a small fraction of cases. We sought to determine whether we could classify patients as having ASD vs. controls solely based on a multi-gene expression profiling of their peripheral blood cells.\"\\n!Series_overall_design\\t\"To test whether peripheral blood gene expression profiles could be used as a molecular diagnostic tool for distinguishing ASD from controls, we performed peripheral blood gene expression profiling on 170 patients with ASD and 115 controls collected from Boston area hospitals.  We developed a 55-gene prediction model with a sample cohort of 66 male patients with ASD and 33 age-matched male controls using cross-validation strategy.  Subsequently, 104 ASD and 82 controls were recruited and used as first and second validation sets, respectively.\"\\n\\nSample characteristics dictionary (from \"!Sample_characteristics_ch1\", converted to a Python dictionary that stores the unique values for each field):\\n{0: [\"diagnosis: ASPERGER\\'S DISORDER\", \\'diagnosis: AUTISM\\', \\'diagnosis: CONTROL\\', \\'diagnosis: PDD-NOS\\'], 1: [\\'gender: male\\', \\'gender: female\\'], 2: [\\'age at blood drawing (months): 156\\', \\'age at blood drawing (months): 168\\', \\'age at blood drawing (months): 228\\', \\'age at blood drawing (months): 60\\', \\'age at blood drawing (months): 36\\', \\'age at blood drawing (months): 72\\', \\'age at blood drawing (months): 108\\', \\'age at blood drawing (months): 120\\', \\'age at blood drawing (months): 48\\', \\'age at blood drawing (months): 84\\', \\'age at blood drawing (months): 96\\', \\'age at blood drawing (months): 91\\', \\'age at blood drawing (months): 33\\', \\'age at blood drawing (months): 165\\', \\'age at blood drawing (months): 117\\', \\'age at blood drawing (months): 77\\', \\'age at blood drawing (months): 129\\', \\'age at blood drawing (months): 133\\', \\'age at blood drawing (months): 107\\', \\'age at blood drawing (months): 76\\', \\'age at blood drawing (months): 62\\', \\'age at blood drawing (months): 43\\', \\'age at blood drawing (months): 47\\', \\'age at blood drawing (months): 216\\', \\'age at blood drawing (months): 73\\', \\'age at blood drawing (months): 110\\', \\'age at blood drawing (months): 144\\', \\'age at blood drawing (months): 132\\', \\'age at blood drawing (months): 204\\', \\'age at blood drawing (months): 180\\'], 3: [\\'race: Caucasian\\', \\'race: Black\\', \\'race: Mixed (Black, Caucasian)\\', \\'race: Unknown\\', \\'race: Asian\\', \\'race: Other (Puerto Rican)\\', \\'race: Mixed (Puerto Rican, Black)\\', \\'race: Mixed (Caucasian, Black)\\', \\'race: Other (Spanish)\\', \\'race: Mixed (Chinese, Spanish)\\', \\'race: Mixed (Arabic, White)\\', \\'race: Mixed (Black, Filipino)\\', \\'race: Other (West Indian)\\', \\'race: Other\\', \\'race: Mixed\\', \\'race: Mixed (Black, American Indian)\\', \\'race: Other (Portuguese, Spanish)\\', \\'race: Other (Trinidadian)\\', \\'race: Other (Dominican)\\'], 4: [\\'ethnicity: Non-Hispanic\\', \\'ethnicity: Hispanic\\', \\'ethnicity: Unknown\\'], 5: [\\'hours (minutes since last caloric intake): : 3:25\\', \\'hours (minutes since last caloric intake): : 0:40\\', \\'hours (minutes since last caloric intake): : 7:35\\', \\'hours (minutes since last caloric intake): : 1:30\\', \\'hours (minutes since last caloric intake): : 5:00\\', \\'hours (minutes since last caloric intake): : 1:00\\', \\'hours (minutes since last caloric intake): : 3:45\\', \\'hours (minutes since last caloric intake): : 4:10\\', \\'hours (minutes since last caloric intake): : 0:45\\', \\'hours (minutes since last caloric intake): : 2:55\\', \\'hours (minutes since last caloric intake): : 2:39\\', \\'hours (minutes since last caloric intake): : 1:15\\', \\'hours (minutes since last caloric intake): : 0:25\\', \\'hours (minutes since last caloric intake): : 3:40\\', \\'hours (minutes since last caloric intake): : 0:20\\', \\'hours (minutes since last caloric intake): : 2:15\\', \\'hours (minutes since last caloric intake): : 3:00\\', \\'hours (minutes since last caloric intake): : 2:00\\', \\'hours (minutes since last caloric intake): : 3:30\\', \\'hours (minutes since last caloric intake): : 4:30\\', \\'hours (minutes since last caloric intake): : 0:15\\', \\'hours (minutes since last caloric intake): : 0:30\\', \\'hours (minutes since last caloric intake): : 1:55\\', \\'hours (minutes since last caloric intake): : 7:45\\', \\'hours (minutes since last caloric intake): : 2:20\\', \\'hours (minutes since last caloric intake): : unknown\\', \\'hours (minutes since last caloric intake): : 1:20\\', \\'hours (minutes since last caloric intake): : 5:15\\', \\'hours (minutes since last caloric intake): : 0:55\\', \\'hours (minutes since last caloric intake): : 4:05\\'], 6: [\\'chronic diseases: -\\', \\'chronic diseases: yes\\', \\'allergies: -\\', \\'allergies: yes\\'], 7: [\\'allergies: -\\', \\'allergies: yes\\', \\'developmental/speech disorder: yes (speech delay)\\', \\'allergies: yes (dogs)\\', \\'allergies: yes (pollen & dust)\\', \\'allergies: yes (seasonal allergies)\\', \\'allergies: yes (insect bites)\\', \\'developmental/speech disorder: -\\', \\'allergies: unknown\\', \\'allergies: yes (pollen)\\', \\'allergies: yes (amoxicillin)\\'], 8: [\\'developmental/speech disorder: -\\', \\'developmental/speech disorder: yes (speech delay)\\', \\'developmental/speech disorder: yes (MR)\\', \\'developmental/speech disorder: yes\\', \\'developmental/speech disorder: yes (motor coordination disorder)\\', \\'developmental/speech disorder: yes (delayed speech)\\', \\'developmental/speech disorder: yes (learning disability)\\', \\'developmental/speech disorder: yes (MR), delayed speech\\', \\'neurological disorder: yes (suspected tics)\\', \\'developmental/speech disorder: yes (speech delay, learning disability)\\', \\'neurological disorder: yes (abnormal MRI)\\', \\'developmental/speech disorder: yes (speech delay, MR)\\', \\'developmental/speech disorder: speech delay\\', \\'developmental/speech disorder: yes (speech and motor delay), MR\\', \\'neurological disorder: -\\'], 9: [\\'neurological disorder: -\\', \\'neurological disorder: yes (seizures, Landau-Kleffner Syndrome, abnomral EEG)\\', \\'neurological disorder: yes (seizures)\\', \\'neurological disorder: yes\\', \\'neurological disorder: yes (abnormal CT Scan and Febrile Seizures)\\', \\'neurological disorder: yes (abnormal EEG, meningitis)\\', \\'neurological disorder: yes (excessively clumsy, uncoordinated)\\', \\'psychiatric disorder: -\\', \\'neurological disorder: yes (unusual gait)\\', \\'neurological disorder: yes (Suspected of being extra clumsy, uncoordinated; abnormal EEG)\\', \\'neurological disorder: yes (possible abnormal MRI)\\', \\'neurological disorder: yes (cerebral palsy; unusual gait)\\', \\'neurological disorder: yes (abnormal MRI)\\', \\'neurological disorder: yes  (positive lead screen)\\', \\'neurological disorder: yes (Suspected of being extra clumsy, uncoordinated; suspected unusual gait)\\', \\'neurological disorder: yes (petit mal or absence seizures)\\'], 10: [\\'psychiatric disorder: -\\', \\'psychiatric disorder: yes (anxiety disorder)\\', \\'psychiatric disorder: yes (mood disorder)\\', \\'psychiatric disorder: yes (ADD)\\', \\'psychiatric disorder: yes (depression, ADD)\\', \\'psychiatric disorder: yes (ADHD)\\', \\'psychiatric disorder: yes\\', \\'psychiatric disorder: yes (eating disorder)\\', \\'psychiatric disorder: yes (mood disorder, Pica)\\', \\'psychiatric disorder: yes (anxiety disorder, OCD)\\', \\'psychiatric disorder: yes (anxiety disorder, OCD, ADD)\\', \\'psychiatric disorder: yes (bipolar, ADD)\\', \\'psychiatric disorder: yes (OCD)\\', \\'psychiatric disorder: yes (suspected anxiety disorder)\\', \\'gastrointestinal disorder: yes (GERD)\\', \\'psychiatric disorder: yes (seizures)\\', \\'psychiatric disorder: yes (suspected OCD, ADD)\\', \\'psychiatric disorder: yes (suspected ADD)\\', \\'gastrointestinal disorder: -\\', \\'psychiatric disorder: yes (depression, bipoloar, anxiety disorder, OCD, ADD)\\', \\'psychiatric disorder: yes (anxiety disorder, ADD)\\', \\'psychiatric disorder: yes (suspected OCD)\\', \\'psychiatric disorder: yes (suspected anxiety disorder, suspected OCD, pica)\\', \\'psychiatric disorder: yes (depression)\\'], 11: [\\'gastrointestinal disorder: -\\', \\'gastrointestinal disorder: yes\\', \\'gastrointestinal disorder: yes (GERD)\\', \\'autoimmune disorder: -\\', \\'gastrointestinal disorder: yes (GERD, severe abdominal p)ain\\'], 12: [\\'autoimmune disorder: -\\', \\'autoimmune disorder: yes (asthma)\\', \\'autoimmune disorder: yes (psoriasis)\\', \\'genetic testing: yes (3p duplication, maternally inherited)\\', \\'genetic testing: -\\'], 13: [\\'genetic testing: -\\', \\'genetic testing: CMA varient of unknown significance, deletion 11p11.12\\', \\'birth defects: -\\'], 14: [\\'birth defects: -\\', \\'birth defects: yes (kidney defect from birth)\\', \\'ct: -\\'], 15: [\\'ct: -\\', \\'mri: -\\', \\'mri: abnormal\\'], 16: [\\'mri: -\\', \\'mri: abnormal\\', \\'medications/vitamin names: Tylenol cold/ congestion, Claritin\\', \\'medications/vitamin names: Medications/ Vitmatin names (timeline not specified)\\', \\'mri: suspected of having abnormal MRI\\', \\'mri: abnormal MRI\\', \\'medications/vitamin names: -\\'], 17: [\\'medications/vitamin names: ibuprofen, excedrine, multivitamin\\', \\'medications/vitamin names: Biaxin, Singulair, Lexapro, Biaxin, tylenol, echinacea\\', \\'medications/vitamin names: tylenol\\', \\'medications/vitamin names: OTC cold medications, Risperdal, multivitamin\\', \\'medications/vitamin names: pediapops, multivitamin, flouride\\', \\'medications/vitamin names: Tylenol, Tylenol\\', \\'medications/vitamin names: none, singulair, inhaler\\', \\'medications/vitamin names: Tamiflu, Concerta\\', \\'medications/vitamin names: -\\', \\'medications/vitamin names: Risperdal, Adderall, melatonin, multivitamin, calcium\\', \\'medications/vitamin names: motrin\\', \\'medications/vitamin names: Abilify, Inderal, Multivitamin, Omega-3\\', \\'medications/vitamin names: Benedryl, Zyrtec\\', \\'medications/vitamin names: multivitamin\\', \\'medications/vitamin names: multivitamin, Allegra\\', \\'medications/vitamin names: Zoloft\\', \\'medications/vitamin names: multivitamin, fluoride\\', \\'medications/vitamin names: Adderall, Tenex, Risperdal\\', \\'medications/vitamin names: fluoride\\', \\'medications/vitamin names: mulivitamin\\', \"medications/vitamin names: antibiotics, steriod, ibuterol w/ nebulizer, antiseizure kepra, neurontin risperdal, ritalin, antibiotic, benadryl, women\\'s multi-vitamin\", \\'medications/vitamin names: Tylenol cold, Vitamins, Benedryl\\', \\'medications/vitamin names: Advil\\', \\'medications/vitamin names: oral steroids, asthma medications, Flovent, albuterol\\', \\'medications/vitamin names: asthma meds, flovent, albuterol\\', \\'medications/vitamin names: cough medicine, melatonin\\', \\'medications/vitamin names: zithromax, Zoloft, Strattera, Benadryl\\', \\'medications/vitamin names: Clariton, multivitamin\\', \\'medications/vitamin names: Focalin\\', \\'medications/vitamin names: ear drops, imipramine, DDAVP\\'], 18: [\\'cerebral palsy: -\\', \\'seizure: -\\', \\'cerebral palsy: yes\\'], 19: [\\'seizure: -\\', \\'seizure: yes\\', \\'other diseases: metabolic abnormalities\\', \\'other diseases: Landau-Kleffner Syndrome, abnormal EEG, childhood disintegration disorder\\', \\'other diseases: -\\'], 20: [\\'other diseases: -\\', \\'other diseases: positive lead test\\', \\'other diseases: suspected diagnosis of Stickler syndrome\\', \\'other diseases: positive lead test, congenital heart defect\\', \\'other diseases: meningitis\\', \\'other diseases: deletion 15g 13.2g-13.3g\\', \\'other diseases: abnormal MRI and EEG\\', nan, \\'other diseases: abnormal Eeg, congenital heart defect\\', \\'other diseases: Landau-Kleffner Syndrome, childhood disintegration disorder\\', \\'other diseases: mitochondrial disorder\\']}\\n'"
      ]
     },
     "execution_count": 9,
     "metadata": {},
     "output_type": "execute_result"
    }
   ],
   "source": [
    "f'''As a biomedical research team, we are selecting datasets to study the association between the human trait \\'{TRAIT}\\' and genetic factors, optionally considering the influence of age and gender. After searching the GEO database and parsing the matrix file of a series, we obtained background information and sample characteristics data. We will provide textual information about the dataset background, and a Python dictionary storing a list of unique values for each field of the sample characteristics data. Please carefully review the provided information and answer the following questions about this dataset:\n",
    "1. Does this dataset contain gene expression data? (Note: Pure miRNA data is not suitable.)\n",
    "2. For each of the traits \\'{TRAIT}\\', 'age', and 'gender', please address these points:\n",
    "   (1) Is there human data available for this trait?\n",
    "   (2) If so, identify the key in the sample characteristics dictionary where unique values of this trait is recorded. The key is an integer. The trait information might be explicitly recorded, or can be inferred from the field with some biomedical knowledge or understanding about the data collection process.\n",
    "   (3) Choose an appropriate data type (either 'continuous' or 'binary') for each trait. Write a Python function to convert any given value of the trait to this data type. The function should handle inference about the trait value and convert unknown values to None.\n",
    "   Name the functions 'convert_trait', 'convert_age', and 'convert_gender', respectively.\n",
    "\n",
    "Background information about the dataset:\n",
    "{background_info}\n",
    "\n",
    "Sample characteristics dictionary (from \"!Sample_characteristics_ch1\", converted to a Python dictionary that stores the unique values for each field):\n",
    "{clinical_data_unique}\n",
    "'''"
   ]
  },
  {
   "cell_type": "markdown",
   "metadata": {
    "ExecuteTime": {
     "end_time": "2023-12-31T03:58:04.978240504Z",
     "start_time": "2023-12-31T03:58:04.922365324Z"
    },
    "collapsed": false
   },
   "source": [
    "Understand and verify the answer from GPT, to assign values to the below variables. Assign None to the 'row_id' variables if relevant data row was not found.\n",
    "Later we need to let GPT format its answer to automatically do these. But given the complexity of this step, let's grow some insight from the free-text answers for now."
   ]
  },
  {
   "cell_type": "code",
   "execution_count": 10,
   "metadata": {
    "ExecuteTime": {
     "end_time": "2024-01-02T01:03:03.079540570Z",
     "start_time": "2024-01-02T01:03:03.073638535Z"
    },
    "collapsed": false
   },
   "outputs": [],
   "source": [
    "is_gene_availabe = True\n",
    "trait_row_id = 0\n",
    "age_row_id = 2\n",
    "gender_row_id = 1\n",
    "\n",
    "trait_type = 'binary'"
   ]
  },
  {
   "cell_type": "code",
   "execution_count": 11,
   "metadata": {
    "ExecuteTime": {
     "end_time": "2024-01-02T01:03:03.572682163Z",
     "start_time": "2024-01-02T01:03:03.559775513Z"
    },
    "collapsed": false
   },
   "outputs": [],
   "source": [
    "is_available = is_gene_availabe and (trait_row_id is not None)\n",
    "if not is_available:\n",
    "    save_cohort_info(cohort, JSON_PATH, is_available)\n",
    "    print(\"This cohort is not usable. Please skip the following steps and jump to the next accession number.\")"
   ]
  },
  {
   "cell_type": "code",
   "execution_count": 12,
   "metadata": {
    "ExecuteTime": {
     "end_time": "2024-01-02T01:03:03.973964287Z",
     "start_time": "2024-01-02T01:03:03.964958096Z"
    },
    "collapsed": false
   },
   "outputs": [
    {
     "data": {
      "text/plain": [
       "(1, None, None)"
      ]
     },
     "execution_count": 12,
     "metadata": {},
     "output_type": "execute_result"
    }
   ],
   "source": [
    "def convert_trait(tissue_type):\n",
    "    \"\"\"\n",
    "    Convert tissue type to epilepsy presence (binary).\n",
    "    Assuming epilepsy presence for 'Hippocampus' tissue.\n",
    "    \"\"\"\n",
    "    if tissue_type == 'diagnosis: CONTROL':\n",
    "        return 0  # control\n",
    "    else:\n",
    "        return 1  # Other diagnosis\n",
    "\n",
    "def convert_age(age_string):\n",
    "    \"\"\"\n",
    "    Convert age string to a numerical value.\n",
    "    \"\"\"\n",
    "    if age_string.startswith('age at blood drawing (months): '):\n",
    "        try:\n",
    "            return int(age_string.split('age at blood drawing (months): ')[1])  # Extracting numeric part\n",
    "        except ValueError:\n",
    "            return None  # In case of parsing error\n",
    "    else:\n",
    "        return None  # If age string does not follow expected format\n",
    "\n",
    "def convert_gender(gender_string):\n",
    "    \"\"\"\n",
    "    Convert gender string to a binary representation.\n",
    "    Female -> 0, Male -> 1, Unknown -> None\n",
    "    \"\"\"\n",
    "    if gender_string == 'gender: female':\n",
    "        return 0\n",
    "    elif gender_string == 'gender: male':\n",
    "        return 1\n",
    "    else:\n",
    "        return None  # In case of unknown gender\n",
    "\n",
    "# Example usage\n",
    "example_tissue = 'tissue: Hippocampus'\n",
    "example_age = 'age: 23y'\n",
    "example_gender = 'gender: Male'\n",
    "\n",
    "converted_trait = convert_trait(example_tissue)\n",
    "converted_age = convert_age(example_age)\n",
    "converted_gender = convert_gender(example_gender)\n",
    "\n",
    "converted_trait, converted_age, converted_gender"
   ]
  },
  {
   "cell_type": "code",
   "execution_count": 14,
   "metadata": {},
   "outputs": [
    {
     "data": {
      "text/html": [
       "<div>\n",
       "<style scoped>\n",
       "    .dataframe tbody tr th:only-of-type {\n",
       "        vertical-align: middle;\n",
       "    }\n",
       "\n",
       "    .dataframe tbody tr th {\n",
       "        vertical-align: top;\n",
       "    }\n",
       "\n",
       "    .dataframe thead th {\n",
       "        text-align: right;\n",
       "    }\n",
       "</style>\n",
       "<table border=\"1\" class=\"dataframe\">\n",
       "  <thead>\n",
       "    <tr style=\"text-align: right;\">\n",
       "      <th></th>\n",
       "      <th>!Sample_geo_accession</th>\n",
       "      <th>GSM650655</th>\n",
       "      <th>GSM650656</th>\n",
       "      <th>GSM650657</th>\n",
       "      <th>GSM650658</th>\n",
       "      <th>GSM650659</th>\n",
       "      <th>GSM650660</th>\n",
       "      <th>GSM650661</th>\n",
       "      <th>GSM650662</th>\n",
       "      <th>GSM650663</th>\n",
       "      <th>...</th>\n",
       "      <th>GSM650944</th>\n",
       "      <th>GSM650946</th>\n",
       "      <th>GSM650950</th>\n",
       "      <th>GSM650951</th>\n",
       "      <th>GSM650954</th>\n",
       "      <th>GSM650959</th>\n",
       "      <th>GSM650968</th>\n",
       "      <th>GSM650969</th>\n",
       "      <th>GSM650970</th>\n",
       "      <th>GSM650975</th>\n",
       "    </tr>\n",
       "  </thead>\n",
       "  <tbody>\n",
       "    <tr>\n",
       "      <th>0</th>\n",
       "      <td>!Sample_characteristics_ch1</td>\n",
       "      <td>diagnosis: ASPERGER'S DISORDER</td>\n",
       "      <td>diagnosis: AUTISM</td>\n",
       "      <td>diagnosis: CONTROL</td>\n",
       "      <td>diagnosis: AUTISM</td>\n",
       "      <td>diagnosis: AUTISM</td>\n",
       "      <td>diagnosis: PDD-NOS</td>\n",
       "      <td>diagnosis: PDD-NOS</td>\n",
       "      <td>diagnosis: ASPERGER'S DISORDER</td>\n",
       "      <td>diagnosis: PDD-NOS</td>\n",
       "      <td>...</td>\n",
       "      <td>diagnosis: CONTROL</td>\n",
       "      <td>diagnosis: CONTROL</td>\n",
       "      <td>diagnosis: CONTROL</td>\n",
       "      <td>diagnosis: CONTROL</td>\n",
       "      <td>diagnosis: CONTROL</td>\n",
       "      <td>diagnosis: CONTROL</td>\n",
       "      <td>diagnosis: CONTROL</td>\n",
       "      <td>diagnosis: CONTROL</td>\n",
       "      <td>diagnosis: CONTROL</td>\n",
       "      <td>diagnosis: CONTROL</td>\n",
       "    </tr>\n",
       "    <tr>\n",
       "      <th>1</th>\n",
       "      <td>!Sample_characteristics_ch1</td>\n",
       "      <td>gender: male</td>\n",
       "      <td>gender: male</td>\n",
       "      <td>gender: male</td>\n",
       "      <td>gender: male</td>\n",
       "      <td>gender: male</td>\n",
       "      <td>gender: male</td>\n",
       "      <td>gender: male</td>\n",
       "      <td>gender: male</td>\n",
       "      <td>gender: male</td>\n",
       "      <td>...</td>\n",
       "      <td>gender: male</td>\n",
       "      <td>gender: male</td>\n",
       "      <td>gender: male</td>\n",
       "      <td>gender: male</td>\n",
       "      <td>gender: male</td>\n",
       "      <td>gender: male</td>\n",
       "      <td>gender: male</td>\n",
       "      <td>gender: male</td>\n",
       "      <td>gender: male</td>\n",
       "      <td>gender: male</td>\n",
       "    </tr>\n",
       "    <tr>\n",
       "      <th>2</th>\n",
       "      <td>!Sample_characteristics_ch1</td>\n",
       "      <td>age at blood drawing (months): 156</td>\n",
       "      <td>age at blood drawing (months): 168</td>\n",
       "      <td>age at blood drawing (months): 228</td>\n",
       "      <td>age at blood drawing (months): 60</td>\n",
       "      <td>age at blood drawing (months): 36</td>\n",
       "      <td>age at blood drawing (months): 72</td>\n",
       "      <td>age at blood drawing (months): 108</td>\n",
       "      <td>age at blood drawing (months): 120</td>\n",
       "      <td>age at blood drawing (months): 48</td>\n",
       "      <td>...</td>\n",
       "      <td>age at blood drawing (months): 85</td>\n",
       "      <td>age at blood drawing (months): 48</td>\n",
       "      <td>age at blood drawing (months): 24</td>\n",
       "      <td>age at blood drawing (months): 56</td>\n",
       "      <td>age at blood drawing (months): 138</td>\n",
       "      <td>age at blood drawing (months): 28</td>\n",
       "      <td>age at blood drawing (months): 51</td>\n",
       "      <td>age at blood drawing (months): 37</td>\n",
       "      <td>age at blood drawing (months): 49</td>\n",
       "      <td>age at blood drawing (months): 48</td>\n",
       "    </tr>\n",
       "    <tr>\n",
       "      <th>3</th>\n",
       "      <td>!Sample_characteristics_ch1</td>\n",
       "      <td>race: Caucasian</td>\n",
       "      <td>race: Caucasian</td>\n",
       "      <td>race: Black</td>\n",
       "      <td>race: Caucasian</td>\n",
       "      <td>race: Caucasian</td>\n",
       "      <td>race: Caucasian</td>\n",
       "      <td>race: Caucasian</td>\n",
       "      <td>race: Caucasian</td>\n",
       "      <td>race: Caucasian</td>\n",
       "      <td>...</td>\n",
       "      <td>race: Caucasian</td>\n",
       "      <td>race: Unknown</td>\n",
       "      <td>race: Unknown</td>\n",
       "      <td>race: Caucasian</td>\n",
       "      <td>race: Black</td>\n",
       "      <td>race: Other (Spanish)</td>\n",
       "      <td>race: Unknown</td>\n",
       "      <td>race: Caucasian</td>\n",
       "      <td>race: Other (Dominican)</td>\n",
       "      <td>race: Other (Puerto Rican)</td>\n",
       "    </tr>\n",
       "    <tr>\n",
       "      <th>4</th>\n",
       "      <td>!Sample_characteristics_ch1</td>\n",
       "      <td>ethnicity: Non-Hispanic</td>\n",
       "      <td>ethnicity: Non-Hispanic</td>\n",
       "      <td>ethnicity: Non-Hispanic</td>\n",
       "      <td>ethnicity: Non-Hispanic</td>\n",
       "      <td>ethnicity: Non-Hispanic</td>\n",
       "      <td>ethnicity: Non-Hispanic</td>\n",
       "      <td>ethnicity: Non-Hispanic</td>\n",
       "      <td>ethnicity: Non-Hispanic</td>\n",
       "      <td>ethnicity: Hispanic</td>\n",
       "      <td>...</td>\n",
       "      <td>ethnicity: Hispanic</td>\n",
       "      <td>ethnicity: Hispanic</td>\n",
       "      <td>ethnicity: Hispanic</td>\n",
       "      <td>ethnicity: Hispanic</td>\n",
       "      <td>ethnicity: Non-Hispanic</td>\n",
       "      <td>ethnicity: Hispanic</td>\n",
       "      <td>ethnicity: Hispanic</td>\n",
       "      <td>ethnicity: Non-Hispanic</td>\n",
       "      <td>ethnicity: Hispanic</td>\n",
       "      <td>ethnicity: Hispanic</td>\n",
       "    </tr>\n",
       "    <tr>\n",
       "      <th>5</th>\n",
       "      <td>!Sample_characteristics_ch1</td>\n",
       "      <td>hours (minutes since last caloric intake): : 3:25</td>\n",
       "      <td>hours (minutes since last caloric intake): : 0:40</td>\n",
       "      <td>hours (minutes since last caloric intake): : 7:35</td>\n",
       "      <td>hours (minutes since last caloric intake): : 1:30</td>\n",
       "      <td>hours (minutes since last caloric intake): : 5:00</td>\n",
       "      <td>hours (minutes since last caloric intake): : 1:00</td>\n",
       "      <td>hours (minutes since last caloric intake): : 3:45</td>\n",
       "      <td>hours (minutes since last caloric intake): : 4:10</td>\n",
       "      <td>hours (minutes since last caloric intake): : 0:45</td>\n",
       "      <td>...</td>\n",
       "      <td>hours (minutes since last caloric intake): : 3:00</td>\n",
       "      <td>hours (minutes since last caloric intake): : 1:00</td>\n",
       "      <td>hours (minutes since last caloric intake): : 2:40</td>\n",
       "      <td>hours (minutes since last caloric intake): : 2:00</td>\n",
       "      <td>hours (minutes since last caloric intake): : 1...</td>\n",
       "      <td>hours (minutes since last caloric intake): : 3:00</td>\n",
       "      <td>hours (minutes since last caloric intake): : 1...</td>\n",
       "      <td>hours (minutes since last caloric intake): : 0:30</td>\n",
       "      <td>hours (minutes since last caloric intake): : 0:00</td>\n",
       "      <td>hours (minutes since last caloric intake): : 2:00</td>\n",
       "    </tr>\n",
       "    <tr>\n",
       "      <th>6</th>\n",
       "      <td>!Sample_characteristics_ch1</td>\n",
       "      <td>chronic diseases: -</td>\n",
       "      <td>chronic diseases: -</td>\n",
       "      <td>chronic diseases: -</td>\n",
       "      <td>chronic diseases: -</td>\n",
       "      <td>chronic diseases: -</td>\n",
       "      <td>chronic diseases: -</td>\n",
       "      <td>chronic diseases: -</td>\n",
       "      <td>chronic diseases: -</td>\n",
       "      <td>chronic diseases: -</td>\n",
       "      <td>...</td>\n",
       "      <td>chronic diseases: -</td>\n",
       "      <td>chronic diseases: -</td>\n",
       "      <td>chronic diseases: -</td>\n",
       "      <td>chronic diseases: -</td>\n",
       "      <td>chronic diseases: -</td>\n",
       "      <td>chronic diseases: -</td>\n",
       "      <td>chronic diseases: -</td>\n",
       "      <td>chronic diseases: -</td>\n",
       "      <td>chronic diseases: -</td>\n",
       "      <td>chronic diseases: -</td>\n",
       "    </tr>\n",
       "    <tr>\n",
       "      <th>7</th>\n",
       "      <td>!Sample_characteristics_ch1</td>\n",
       "      <td>allergies: -</td>\n",
       "      <td>allergies: -</td>\n",
       "      <td>allergies: -</td>\n",
       "      <td>allergies: -</td>\n",
       "      <td>allergies: -</td>\n",
       "      <td>allergies: -</td>\n",
       "      <td>allergies: -</td>\n",
       "      <td>allergies: -</td>\n",
       "      <td>allergies: -</td>\n",
       "      <td>...</td>\n",
       "      <td>allergies: -</td>\n",
       "      <td>allergies: -</td>\n",
       "      <td>allergies: -</td>\n",
       "      <td>allergies: -</td>\n",
       "      <td>allergies: yes (pollen)</td>\n",
       "      <td>allergies: -</td>\n",
       "      <td>allergies: -</td>\n",
       "      <td>allergies: yes (amoxicillin)</td>\n",
       "      <td>allergies: -</td>\n",
       "      <td>allergies: -</td>\n",
       "    </tr>\n",
       "    <tr>\n",
       "      <th>8</th>\n",
       "      <td>!Sample_characteristics_ch1</td>\n",
       "      <td>developmental/speech disorder: -</td>\n",
       "      <td>developmental/speech disorder: yes (speech delay)</td>\n",
       "      <td>developmental/speech disorder: -</td>\n",
       "      <td>developmental/speech disorder: yes (speech delay)</td>\n",
       "      <td>developmental/speech disorder: -</td>\n",
       "      <td>developmental/speech disorder: -</td>\n",
       "      <td>developmental/speech disorder: yes (speech delay)</td>\n",
       "      <td>developmental/speech disorder: -</td>\n",
       "      <td>developmental/speech disorder: -</td>\n",
       "      <td>...</td>\n",
       "      <td>developmental/speech disorder: -</td>\n",
       "      <td>developmental/speech disorder: -</td>\n",
       "      <td>developmental/speech disorder: -</td>\n",
       "      <td>developmental/speech disorder: -</td>\n",
       "      <td>developmental/speech disorder: -</td>\n",
       "      <td>developmental/speech disorder: -</td>\n",
       "      <td>developmental/speech disorder: -</td>\n",
       "      <td>developmental/speech disorder: -</td>\n",
       "      <td>developmental/speech disorder: -</td>\n",
       "      <td>developmental/speech disorder: -</td>\n",
       "    </tr>\n",
       "    <tr>\n",
       "      <th>9</th>\n",
       "      <td>!Sample_characteristics_ch1</td>\n",
       "      <td>neurological disorder: -</td>\n",
       "      <td>neurological disorder: yes (seizures, Landau-K...</td>\n",
       "      <td>neurological disorder: -</td>\n",
       "      <td>neurological disorder: -</td>\n",
       "      <td>neurological disorder: -</td>\n",
       "      <td>neurological disorder: -</td>\n",
       "      <td>neurological disorder: -</td>\n",
       "      <td>neurological disorder: -</td>\n",
       "      <td>neurological disorder: -</td>\n",
       "      <td>...</td>\n",
       "      <td>neurological disorder: -</td>\n",
       "      <td>neurological disorder: -</td>\n",
       "      <td>neurological disorder: -</td>\n",
       "      <td>neurological disorder: -</td>\n",
       "      <td>neurological disorder: -</td>\n",
       "      <td>neurological disorder: -</td>\n",
       "      <td>neurological disorder: -</td>\n",
       "      <td>neurological disorder: -</td>\n",
       "      <td>neurological disorder: -</td>\n",
       "      <td>neurological disorder: -</td>\n",
       "    </tr>\n",
       "    <tr>\n",
       "      <th>10</th>\n",
       "      <td>!Sample_characteristics_ch1</td>\n",
       "      <td>psychiatric disorder: -</td>\n",
       "      <td>psychiatric disorder: yes (anxiety disorder)</td>\n",
       "      <td>psychiatric disorder: -</td>\n",
       "      <td>psychiatric disorder: -</td>\n",
       "      <td>psychiatric disorder: -</td>\n",
       "      <td>psychiatric disorder: yes (mood disorder)</td>\n",
       "      <td>psychiatric disorder: yes (ADD)</td>\n",
       "      <td>psychiatric disorder: yes (ADD)</td>\n",
       "      <td>psychiatric disorder: -</td>\n",
       "      <td>...</td>\n",
       "      <td>psychiatric disorder: -</td>\n",
       "      <td>psychiatric disorder: -</td>\n",
       "      <td>psychiatric disorder: -</td>\n",
       "      <td>psychiatric disorder: -</td>\n",
       "      <td>psychiatric disorder: -</td>\n",
       "      <td>psychiatric disorder: -</td>\n",
       "      <td>psychiatric disorder: -</td>\n",
       "      <td>psychiatric disorder: -</td>\n",
       "      <td>psychiatric disorder: -</td>\n",
       "      <td>psychiatric disorder: -</td>\n",
       "    </tr>\n",
       "    <tr>\n",
       "      <th>11</th>\n",
       "      <td>!Sample_characteristics_ch1</td>\n",
       "      <td>gastrointestinal disorder: -</td>\n",
       "      <td>gastrointestinal disorder: -</td>\n",
       "      <td>gastrointestinal disorder: -</td>\n",
       "      <td>gastrointestinal disorder: yes</td>\n",
       "      <td>gastrointestinal disorder: yes</td>\n",
       "      <td>gastrointestinal disorder: -</td>\n",
       "      <td>gastrointestinal disorder: -</td>\n",
       "      <td>gastrointestinal disorder: yes (GERD)</td>\n",
       "      <td>gastrointestinal disorder: yes (GERD)</td>\n",
       "      <td>...</td>\n",
       "      <td>gastrointestinal disorder: -</td>\n",
       "      <td>gastrointestinal disorder: -</td>\n",
       "      <td>gastrointestinal disorder: -</td>\n",
       "      <td>gastrointestinal disorder: -</td>\n",
       "      <td>gastrointestinal disorder: -</td>\n",
       "      <td>gastrointestinal disorder: -</td>\n",
       "      <td>gastrointestinal disorder: -</td>\n",
       "      <td>gastrointestinal disorder: -</td>\n",
       "      <td>gastrointestinal disorder: -</td>\n",
       "      <td>gastrointestinal disorder: -</td>\n",
       "    </tr>\n",
       "    <tr>\n",
       "      <th>12</th>\n",
       "      <td>!Sample_characteristics_ch1</td>\n",
       "      <td>autoimmune disorder: -</td>\n",
       "      <td>autoimmune disorder: -</td>\n",
       "      <td>autoimmune disorder: -</td>\n",
       "      <td>autoimmune disorder: -</td>\n",
       "      <td>autoimmune disorder: -</td>\n",
       "      <td>autoimmune disorder: -</td>\n",
       "      <td>autoimmune disorder: yes (asthma)</td>\n",
       "      <td>autoimmune disorder: -</td>\n",
       "      <td>autoimmune disorder: -</td>\n",
       "      <td>...</td>\n",
       "      <td>autoimmune disorder: -</td>\n",
       "      <td>autoimmune disorder: -</td>\n",
       "      <td>autoimmune disorder: -</td>\n",
       "      <td>autoimmune disorder: -</td>\n",
       "      <td>autoimmune disorder: -</td>\n",
       "      <td>autoimmune disorder: -</td>\n",
       "      <td>autoimmune disorder: -</td>\n",
       "      <td>autoimmune disorder: -</td>\n",
       "      <td>autoimmune disorder: -</td>\n",
       "      <td>autoimmune disorder: -</td>\n",
       "    </tr>\n",
       "    <tr>\n",
       "      <th>13</th>\n",
       "      <td>!Sample_characteristics_ch1</td>\n",
       "      <td>genetic testing: -</td>\n",
       "      <td>genetic testing: -</td>\n",
       "      <td>genetic testing: -</td>\n",
       "      <td>genetic testing: -</td>\n",
       "      <td>genetic testing: -</td>\n",
       "      <td>genetic testing: -</td>\n",
       "      <td>genetic testing: -</td>\n",
       "      <td>genetic testing: -</td>\n",
       "      <td>genetic testing: -</td>\n",
       "      <td>...</td>\n",
       "      <td>genetic testing: -</td>\n",
       "      <td>genetic testing: -</td>\n",
       "      <td>genetic testing: -</td>\n",
       "      <td>genetic testing: -</td>\n",
       "      <td>genetic testing: -</td>\n",
       "      <td>genetic testing: -</td>\n",
       "      <td>genetic testing: -</td>\n",
       "      <td>genetic testing: -</td>\n",
       "      <td>genetic testing: -</td>\n",
       "      <td>genetic testing: -</td>\n",
       "    </tr>\n",
       "    <tr>\n",
       "      <th>14</th>\n",
       "      <td>!Sample_characteristics_ch1</td>\n",
       "      <td>birth defects: -</td>\n",
       "      <td>birth defects: -</td>\n",
       "      <td>birth defects: -</td>\n",
       "      <td>birth defects: -</td>\n",
       "      <td>birth defects: -</td>\n",
       "      <td>birth defects: -</td>\n",
       "      <td>birth defects: -</td>\n",
       "      <td>birth defects: -</td>\n",
       "      <td>birth defects: -</td>\n",
       "      <td>...</td>\n",
       "      <td>birth defects: -</td>\n",
       "      <td>birth defects: -</td>\n",
       "      <td>birth defects: -</td>\n",
       "      <td>birth defects: -</td>\n",
       "      <td>birth defects: -</td>\n",
       "      <td>birth defects: -</td>\n",
       "      <td>birth defects: -</td>\n",
       "      <td>birth defects: -</td>\n",
       "      <td>birth defects: -</td>\n",
       "      <td>birth defects: -</td>\n",
       "    </tr>\n",
       "    <tr>\n",
       "      <th>15</th>\n",
       "      <td>!Sample_characteristics_ch1</td>\n",
       "      <td>ct: -</td>\n",
       "      <td>ct: -</td>\n",
       "      <td>ct: -</td>\n",
       "      <td>ct: -</td>\n",
       "      <td>ct: -</td>\n",
       "      <td>ct: -</td>\n",
       "      <td>ct: -</td>\n",
       "      <td>ct: -</td>\n",
       "      <td>ct: -</td>\n",
       "      <td>...</td>\n",
       "      <td>ct: -</td>\n",
       "      <td>ct: -</td>\n",
       "      <td>ct: -</td>\n",
       "      <td>ct: -</td>\n",
       "      <td>ct: -</td>\n",
       "      <td>ct: -</td>\n",
       "      <td>ct: -</td>\n",
       "      <td>ct: -</td>\n",
       "      <td>ct: -</td>\n",
       "      <td>ct: -</td>\n",
       "    </tr>\n",
       "    <tr>\n",
       "      <th>16</th>\n",
       "      <td>!Sample_characteristics_ch1</td>\n",
       "      <td>mri: -</td>\n",
       "      <td>mri: -</td>\n",
       "      <td>mri: -</td>\n",
       "      <td>mri: -</td>\n",
       "      <td>mri: -</td>\n",
       "      <td>mri: -</td>\n",
       "      <td>mri: -</td>\n",
       "      <td>mri: -</td>\n",
       "      <td>mri: -</td>\n",
       "      <td>...</td>\n",
       "      <td>mri: -</td>\n",
       "      <td>mri: -</td>\n",
       "      <td>mri: -</td>\n",
       "      <td>mri: -</td>\n",
       "      <td>mri: -</td>\n",
       "      <td>mri: -</td>\n",
       "      <td>mri: -</td>\n",
       "      <td>mri: -</td>\n",
       "      <td>mri: -</td>\n",
       "      <td>mri: -</td>\n",
       "    </tr>\n",
       "    <tr>\n",
       "      <th>17</th>\n",
       "      <td>!Sample_characteristics_ch1</td>\n",
       "      <td>medications/vitamin names: ibuprofen, excedrin...</td>\n",
       "      <td>medications/vitamin names: Biaxin, Singulair, ...</td>\n",
       "      <td>medications/vitamin names: tylenol</td>\n",
       "      <td>medications/vitamin names: OTC cold medication...</td>\n",
       "      <td>medications/vitamin names: pediapops, multivit...</td>\n",
       "      <td>medications/vitamin names: Tylenol, Tylenol</td>\n",
       "      <td>medications/vitamin names: none, singulair, in...</td>\n",
       "      <td>medications/vitamin names: Tamiflu, Concerta</td>\n",
       "      <td>medications/vitamin names: -</td>\n",
       "      <td>...</td>\n",
       "      <td>medications/vitamin names: -</td>\n",
       "      <td>medications/vitamin names: -</td>\n",
       "      <td>medications/vitamin names: -</td>\n",
       "      <td>medications/vitamin names: -</td>\n",
       "      <td>medications/vitamin names: -</td>\n",
       "      <td>medications/vitamin names: -</td>\n",
       "      <td>medications/vitamin names: -</td>\n",
       "      <td>medications/vitamin names: -</td>\n",
       "      <td>medications/vitamin names: -</td>\n",
       "      <td>medications/vitamin names: -</td>\n",
       "    </tr>\n",
       "    <tr>\n",
       "      <th>18</th>\n",
       "      <td>!Sample_characteristics_ch1</td>\n",
       "      <td>cerebral palsy: -</td>\n",
       "      <td>cerebral palsy: -</td>\n",
       "      <td>cerebral palsy: -</td>\n",
       "      <td>cerebral palsy: -</td>\n",
       "      <td>cerebral palsy: -</td>\n",
       "      <td>cerebral palsy: -</td>\n",
       "      <td>cerebral palsy: -</td>\n",
       "      <td>cerebral palsy: -</td>\n",
       "      <td>cerebral palsy: -</td>\n",
       "      <td>...</td>\n",
       "      <td>cerebral palsy: -</td>\n",
       "      <td>cerebral palsy: -</td>\n",
       "      <td>cerebral palsy: -</td>\n",
       "      <td>cerebral palsy: -</td>\n",
       "      <td>cerebral palsy: -</td>\n",
       "      <td>cerebral palsy: -</td>\n",
       "      <td>cerebral palsy: -</td>\n",
       "      <td>cerebral palsy: -</td>\n",
       "      <td>cerebral palsy: -</td>\n",
       "      <td>cerebral palsy: -</td>\n",
       "    </tr>\n",
       "    <tr>\n",
       "      <th>19</th>\n",
       "      <td>!Sample_characteristics_ch1</td>\n",
       "      <td>seizure: -</td>\n",
       "      <td>seizure: -</td>\n",
       "      <td>seizure: -</td>\n",
       "      <td>seizure: -</td>\n",
       "      <td>seizure: -</td>\n",
       "      <td>seizure: -</td>\n",
       "      <td>seizure: -</td>\n",
       "      <td>seizure: -</td>\n",
       "      <td>seizure: -</td>\n",
       "      <td>...</td>\n",
       "      <td>seizure: -</td>\n",
       "      <td>seizure: -</td>\n",
       "      <td>seizure: -</td>\n",
       "      <td>seizure: -</td>\n",
       "      <td>seizure: -</td>\n",
       "      <td>seizure: -</td>\n",
       "      <td>seizure: -</td>\n",
       "      <td>seizure: -</td>\n",
       "      <td>seizure: -</td>\n",
       "      <td>seizure: -</td>\n",
       "    </tr>\n",
       "    <tr>\n",
       "      <th>20</th>\n",
       "      <td>!Sample_characteristics_ch1</td>\n",
       "      <td>other diseases: -</td>\n",
       "      <td>other diseases: -</td>\n",
       "      <td>other diseases: -</td>\n",
       "      <td>other diseases: -</td>\n",
       "      <td>other diseases: -</td>\n",
       "      <td>other diseases: -</td>\n",
       "      <td>other diseases: -</td>\n",
       "      <td>other diseases: positive lead test</td>\n",
       "      <td>other diseases: -</td>\n",
       "      <td>...</td>\n",
       "      <td>other diseases: -</td>\n",
       "      <td>other diseases: -</td>\n",
       "      <td>other diseases: -</td>\n",
       "      <td>other diseases: -</td>\n",
       "      <td>other diseases: -</td>\n",
       "      <td>other diseases: -</td>\n",
       "      <td>other diseases: -</td>\n",
       "      <td>other diseases: -</td>\n",
       "      <td>other diseases: -</td>\n",
       "      <td>other diseases: -</td>\n",
       "    </tr>\n",
       "  </tbody>\n",
       "</table>\n",
       "<p>21 rows × 187 columns</p>\n",
       "</div>"
      ],
      "text/plain": [
       "          !Sample_geo_accession  \\\n",
       "0   !Sample_characteristics_ch1   \n",
       "1   !Sample_characteristics_ch1   \n",
       "2   !Sample_characteristics_ch1   \n",
       "3   !Sample_characteristics_ch1   \n",
       "4   !Sample_characteristics_ch1   \n",
       "5   !Sample_characteristics_ch1   \n",
       "6   !Sample_characteristics_ch1   \n",
       "7   !Sample_characteristics_ch1   \n",
       "8   !Sample_characteristics_ch1   \n",
       "9   !Sample_characteristics_ch1   \n",
       "10  !Sample_characteristics_ch1   \n",
       "11  !Sample_characteristics_ch1   \n",
       "12  !Sample_characteristics_ch1   \n",
       "13  !Sample_characteristics_ch1   \n",
       "14  !Sample_characteristics_ch1   \n",
       "15  !Sample_characteristics_ch1   \n",
       "16  !Sample_characteristics_ch1   \n",
       "17  !Sample_characteristics_ch1   \n",
       "18  !Sample_characteristics_ch1   \n",
       "19  !Sample_characteristics_ch1   \n",
       "20  !Sample_characteristics_ch1   \n",
       "\n",
       "                                            GSM650655  \\\n",
       "0                      diagnosis: ASPERGER'S DISORDER   \n",
       "1                                        gender: male   \n",
       "2                  age at blood drawing (months): 156   \n",
       "3                                     race: Caucasian   \n",
       "4                             ethnicity: Non-Hispanic   \n",
       "5   hours (minutes since last caloric intake): : 3:25   \n",
       "6                                 chronic diseases: -   \n",
       "7                                        allergies: -   \n",
       "8                    developmental/speech disorder: -   \n",
       "9                            neurological disorder: -   \n",
       "10                            psychiatric disorder: -   \n",
       "11                       gastrointestinal disorder: -   \n",
       "12                             autoimmune disorder: -   \n",
       "13                                 genetic testing: -   \n",
       "14                                   birth defects: -   \n",
       "15                                              ct: -   \n",
       "16                                             mri: -   \n",
       "17  medications/vitamin names: ibuprofen, excedrin...   \n",
       "18                                  cerebral palsy: -   \n",
       "19                                         seizure: -   \n",
       "20                                  other diseases: -   \n",
       "\n",
       "                                            GSM650656  \\\n",
       "0                                   diagnosis: AUTISM   \n",
       "1                                        gender: male   \n",
       "2                  age at blood drawing (months): 168   \n",
       "3                                     race: Caucasian   \n",
       "4                             ethnicity: Non-Hispanic   \n",
       "5   hours (minutes since last caloric intake): : 0:40   \n",
       "6                                 chronic diseases: -   \n",
       "7                                        allergies: -   \n",
       "8   developmental/speech disorder: yes (speech delay)   \n",
       "9   neurological disorder: yes (seizures, Landau-K...   \n",
       "10       psychiatric disorder: yes (anxiety disorder)   \n",
       "11                       gastrointestinal disorder: -   \n",
       "12                             autoimmune disorder: -   \n",
       "13                                 genetic testing: -   \n",
       "14                                   birth defects: -   \n",
       "15                                              ct: -   \n",
       "16                                             mri: -   \n",
       "17  medications/vitamin names: Biaxin, Singulair, ...   \n",
       "18                                  cerebral palsy: -   \n",
       "19                                         seizure: -   \n",
       "20                                  other diseases: -   \n",
       "\n",
       "                                            GSM650657  \\\n",
       "0                                  diagnosis: CONTROL   \n",
       "1                                        gender: male   \n",
       "2                  age at blood drawing (months): 228   \n",
       "3                                         race: Black   \n",
       "4                             ethnicity: Non-Hispanic   \n",
       "5   hours (minutes since last caloric intake): : 7:35   \n",
       "6                                 chronic diseases: -   \n",
       "7                                        allergies: -   \n",
       "8                    developmental/speech disorder: -   \n",
       "9                            neurological disorder: -   \n",
       "10                            psychiatric disorder: -   \n",
       "11                       gastrointestinal disorder: -   \n",
       "12                             autoimmune disorder: -   \n",
       "13                                 genetic testing: -   \n",
       "14                                   birth defects: -   \n",
       "15                                              ct: -   \n",
       "16                                             mri: -   \n",
       "17                 medications/vitamin names: tylenol   \n",
       "18                                  cerebral palsy: -   \n",
       "19                                         seizure: -   \n",
       "20                                  other diseases: -   \n",
       "\n",
       "                                            GSM650658  \\\n",
       "0                                   diagnosis: AUTISM   \n",
       "1                                        gender: male   \n",
       "2                   age at blood drawing (months): 60   \n",
       "3                                     race: Caucasian   \n",
       "4                             ethnicity: Non-Hispanic   \n",
       "5   hours (minutes since last caloric intake): : 1:30   \n",
       "6                                 chronic diseases: -   \n",
       "7                                        allergies: -   \n",
       "8   developmental/speech disorder: yes (speech delay)   \n",
       "9                            neurological disorder: -   \n",
       "10                            psychiatric disorder: -   \n",
       "11                     gastrointestinal disorder: yes   \n",
       "12                             autoimmune disorder: -   \n",
       "13                                 genetic testing: -   \n",
       "14                                   birth defects: -   \n",
       "15                                              ct: -   \n",
       "16                                             mri: -   \n",
       "17  medications/vitamin names: OTC cold medication...   \n",
       "18                                  cerebral palsy: -   \n",
       "19                                         seizure: -   \n",
       "20                                  other diseases: -   \n",
       "\n",
       "                                            GSM650659  \\\n",
       "0                                   diagnosis: AUTISM   \n",
       "1                                        gender: male   \n",
       "2                   age at blood drawing (months): 36   \n",
       "3                                     race: Caucasian   \n",
       "4                             ethnicity: Non-Hispanic   \n",
       "5   hours (minutes since last caloric intake): : 5:00   \n",
       "6                                 chronic diseases: -   \n",
       "7                                        allergies: -   \n",
       "8                    developmental/speech disorder: -   \n",
       "9                            neurological disorder: -   \n",
       "10                            psychiatric disorder: -   \n",
       "11                     gastrointestinal disorder: yes   \n",
       "12                             autoimmune disorder: -   \n",
       "13                                 genetic testing: -   \n",
       "14                                   birth defects: -   \n",
       "15                                              ct: -   \n",
       "16                                             mri: -   \n",
       "17  medications/vitamin names: pediapops, multivit...   \n",
       "18                                  cerebral palsy: -   \n",
       "19                                         seizure: -   \n",
       "20                                  other diseases: -   \n",
       "\n",
       "                                            GSM650660  \\\n",
       "0                                  diagnosis: PDD-NOS   \n",
       "1                                        gender: male   \n",
       "2                   age at blood drawing (months): 72   \n",
       "3                                     race: Caucasian   \n",
       "4                             ethnicity: Non-Hispanic   \n",
       "5   hours (minutes since last caloric intake): : 1:00   \n",
       "6                                 chronic diseases: -   \n",
       "7                                        allergies: -   \n",
       "8                    developmental/speech disorder: -   \n",
       "9                            neurological disorder: -   \n",
       "10          psychiatric disorder: yes (mood disorder)   \n",
       "11                       gastrointestinal disorder: -   \n",
       "12                             autoimmune disorder: -   \n",
       "13                                 genetic testing: -   \n",
       "14                                   birth defects: -   \n",
       "15                                              ct: -   \n",
       "16                                             mri: -   \n",
       "17        medications/vitamin names: Tylenol, Tylenol   \n",
       "18                                  cerebral palsy: -   \n",
       "19                                         seizure: -   \n",
       "20                                  other diseases: -   \n",
       "\n",
       "                                            GSM650661  \\\n",
       "0                                  diagnosis: PDD-NOS   \n",
       "1                                        gender: male   \n",
       "2                  age at blood drawing (months): 108   \n",
       "3                                     race: Caucasian   \n",
       "4                             ethnicity: Non-Hispanic   \n",
       "5   hours (minutes since last caloric intake): : 3:45   \n",
       "6                                 chronic diseases: -   \n",
       "7                                        allergies: -   \n",
       "8   developmental/speech disorder: yes (speech delay)   \n",
       "9                            neurological disorder: -   \n",
       "10                    psychiatric disorder: yes (ADD)   \n",
       "11                       gastrointestinal disorder: -   \n",
       "12                  autoimmune disorder: yes (asthma)   \n",
       "13                                 genetic testing: -   \n",
       "14                                   birth defects: -   \n",
       "15                                              ct: -   \n",
       "16                                             mri: -   \n",
       "17  medications/vitamin names: none, singulair, in...   \n",
       "18                                  cerebral palsy: -   \n",
       "19                                         seizure: -   \n",
       "20                                  other diseases: -   \n",
       "\n",
       "                                            GSM650662  \\\n",
       "0                      diagnosis: ASPERGER'S DISORDER   \n",
       "1                                        gender: male   \n",
       "2                  age at blood drawing (months): 120   \n",
       "3                                     race: Caucasian   \n",
       "4                             ethnicity: Non-Hispanic   \n",
       "5   hours (minutes since last caloric intake): : 4:10   \n",
       "6                                 chronic diseases: -   \n",
       "7                                        allergies: -   \n",
       "8                    developmental/speech disorder: -   \n",
       "9                            neurological disorder: -   \n",
       "10                    psychiatric disorder: yes (ADD)   \n",
       "11              gastrointestinal disorder: yes (GERD)   \n",
       "12                             autoimmune disorder: -   \n",
       "13                                 genetic testing: -   \n",
       "14                                   birth defects: -   \n",
       "15                                              ct: -   \n",
       "16                                             mri: -   \n",
       "17       medications/vitamin names: Tamiflu, Concerta   \n",
       "18                                  cerebral palsy: -   \n",
       "19                                         seizure: -   \n",
       "20                 other diseases: positive lead test   \n",
       "\n",
       "                                            GSM650663  ...  \\\n",
       "0                                  diagnosis: PDD-NOS  ...   \n",
       "1                                        gender: male  ...   \n",
       "2                   age at blood drawing (months): 48  ...   \n",
       "3                                     race: Caucasian  ...   \n",
       "4                                 ethnicity: Hispanic  ...   \n",
       "5   hours (minutes since last caloric intake): : 0:45  ...   \n",
       "6                                 chronic diseases: -  ...   \n",
       "7                                        allergies: -  ...   \n",
       "8                    developmental/speech disorder: -  ...   \n",
       "9                            neurological disorder: -  ...   \n",
       "10                            psychiatric disorder: -  ...   \n",
       "11              gastrointestinal disorder: yes (GERD)  ...   \n",
       "12                             autoimmune disorder: -  ...   \n",
       "13                                 genetic testing: -  ...   \n",
       "14                                   birth defects: -  ...   \n",
       "15                                              ct: -  ...   \n",
       "16                                             mri: -  ...   \n",
       "17                       medications/vitamin names: -  ...   \n",
       "18                                  cerebral palsy: -  ...   \n",
       "19                                         seizure: -  ...   \n",
       "20                                  other diseases: -  ...   \n",
       "\n",
       "                                            GSM650944  \\\n",
       "0                                  diagnosis: CONTROL   \n",
       "1                                        gender: male   \n",
       "2                   age at blood drawing (months): 85   \n",
       "3                                     race: Caucasian   \n",
       "4                                 ethnicity: Hispanic   \n",
       "5   hours (minutes since last caloric intake): : 3:00   \n",
       "6                                 chronic diseases: -   \n",
       "7                                        allergies: -   \n",
       "8                    developmental/speech disorder: -   \n",
       "9                            neurological disorder: -   \n",
       "10                            psychiatric disorder: -   \n",
       "11                       gastrointestinal disorder: -   \n",
       "12                             autoimmune disorder: -   \n",
       "13                                 genetic testing: -   \n",
       "14                                   birth defects: -   \n",
       "15                                              ct: -   \n",
       "16                                             mri: -   \n",
       "17                       medications/vitamin names: -   \n",
       "18                                  cerebral palsy: -   \n",
       "19                                         seizure: -   \n",
       "20                                  other diseases: -   \n",
       "\n",
       "                                            GSM650946  \\\n",
       "0                                  diagnosis: CONTROL   \n",
       "1                                        gender: male   \n",
       "2                   age at blood drawing (months): 48   \n",
       "3                                       race: Unknown   \n",
       "4                                 ethnicity: Hispanic   \n",
       "5   hours (minutes since last caloric intake): : 1:00   \n",
       "6                                 chronic diseases: -   \n",
       "7                                        allergies: -   \n",
       "8                    developmental/speech disorder: -   \n",
       "9                            neurological disorder: -   \n",
       "10                            psychiatric disorder: -   \n",
       "11                       gastrointestinal disorder: -   \n",
       "12                             autoimmune disorder: -   \n",
       "13                                 genetic testing: -   \n",
       "14                                   birth defects: -   \n",
       "15                                              ct: -   \n",
       "16                                             mri: -   \n",
       "17                       medications/vitamin names: -   \n",
       "18                                  cerebral palsy: -   \n",
       "19                                         seizure: -   \n",
       "20                                  other diseases: -   \n",
       "\n",
       "                                            GSM650950  \\\n",
       "0                                  diagnosis: CONTROL   \n",
       "1                                        gender: male   \n",
       "2                   age at blood drawing (months): 24   \n",
       "3                                       race: Unknown   \n",
       "4                                 ethnicity: Hispanic   \n",
       "5   hours (minutes since last caloric intake): : 2:40   \n",
       "6                                 chronic diseases: -   \n",
       "7                                        allergies: -   \n",
       "8                    developmental/speech disorder: -   \n",
       "9                            neurological disorder: -   \n",
       "10                            psychiatric disorder: -   \n",
       "11                       gastrointestinal disorder: -   \n",
       "12                             autoimmune disorder: -   \n",
       "13                                 genetic testing: -   \n",
       "14                                   birth defects: -   \n",
       "15                                              ct: -   \n",
       "16                                             mri: -   \n",
       "17                       medications/vitamin names: -   \n",
       "18                                  cerebral palsy: -   \n",
       "19                                         seizure: -   \n",
       "20                                  other diseases: -   \n",
       "\n",
       "                                            GSM650951  \\\n",
       "0                                  diagnosis: CONTROL   \n",
       "1                                        gender: male   \n",
       "2                   age at blood drawing (months): 56   \n",
       "3                                     race: Caucasian   \n",
       "4                                 ethnicity: Hispanic   \n",
       "5   hours (minutes since last caloric intake): : 2:00   \n",
       "6                                 chronic diseases: -   \n",
       "7                                        allergies: -   \n",
       "8                    developmental/speech disorder: -   \n",
       "9                            neurological disorder: -   \n",
       "10                            psychiatric disorder: -   \n",
       "11                       gastrointestinal disorder: -   \n",
       "12                             autoimmune disorder: -   \n",
       "13                                 genetic testing: -   \n",
       "14                                   birth defects: -   \n",
       "15                                              ct: -   \n",
       "16                                             mri: -   \n",
       "17                       medications/vitamin names: -   \n",
       "18                                  cerebral palsy: -   \n",
       "19                                         seizure: -   \n",
       "20                                  other diseases: -   \n",
       "\n",
       "                                            GSM650954  \\\n",
       "0                                  diagnosis: CONTROL   \n",
       "1                                        gender: male   \n",
       "2                  age at blood drawing (months): 138   \n",
       "3                                         race: Black   \n",
       "4                             ethnicity: Non-Hispanic   \n",
       "5   hours (minutes since last caloric intake): : 1...   \n",
       "6                                 chronic diseases: -   \n",
       "7                             allergies: yes (pollen)   \n",
       "8                    developmental/speech disorder: -   \n",
       "9                            neurological disorder: -   \n",
       "10                            psychiatric disorder: -   \n",
       "11                       gastrointestinal disorder: -   \n",
       "12                             autoimmune disorder: -   \n",
       "13                                 genetic testing: -   \n",
       "14                                   birth defects: -   \n",
       "15                                              ct: -   \n",
       "16                                             mri: -   \n",
       "17                       medications/vitamin names: -   \n",
       "18                                  cerebral palsy: -   \n",
       "19                                         seizure: -   \n",
       "20                                  other diseases: -   \n",
       "\n",
       "                                            GSM650959  \\\n",
       "0                                  diagnosis: CONTROL   \n",
       "1                                        gender: male   \n",
       "2                   age at blood drawing (months): 28   \n",
       "3                               race: Other (Spanish)   \n",
       "4                                 ethnicity: Hispanic   \n",
       "5   hours (minutes since last caloric intake): : 3:00   \n",
       "6                                 chronic diseases: -   \n",
       "7                                        allergies: -   \n",
       "8                    developmental/speech disorder: -   \n",
       "9                            neurological disorder: -   \n",
       "10                            psychiatric disorder: -   \n",
       "11                       gastrointestinal disorder: -   \n",
       "12                             autoimmune disorder: -   \n",
       "13                                 genetic testing: -   \n",
       "14                                   birth defects: -   \n",
       "15                                              ct: -   \n",
       "16                                             mri: -   \n",
       "17                       medications/vitamin names: -   \n",
       "18                                  cerebral palsy: -   \n",
       "19                                         seizure: -   \n",
       "20                                  other diseases: -   \n",
       "\n",
       "                                            GSM650968  \\\n",
       "0                                  diagnosis: CONTROL   \n",
       "1                                        gender: male   \n",
       "2                   age at blood drawing (months): 51   \n",
       "3                                       race: Unknown   \n",
       "4                                 ethnicity: Hispanic   \n",
       "5   hours (minutes since last caloric intake): : 1...   \n",
       "6                                 chronic diseases: -   \n",
       "7                                        allergies: -   \n",
       "8                    developmental/speech disorder: -   \n",
       "9                            neurological disorder: -   \n",
       "10                            psychiatric disorder: -   \n",
       "11                       gastrointestinal disorder: -   \n",
       "12                             autoimmune disorder: -   \n",
       "13                                 genetic testing: -   \n",
       "14                                   birth defects: -   \n",
       "15                                              ct: -   \n",
       "16                                             mri: -   \n",
       "17                       medications/vitamin names: -   \n",
       "18                                  cerebral palsy: -   \n",
       "19                                         seizure: -   \n",
       "20                                  other diseases: -   \n",
       "\n",
       "                                            GSM650969  \\\n",
       "0                                  diagnosis: CONTROL   \n",
       "1                                        gender: male   \n",
       "2                   age at blood drawing (months): 37   \n",
       "3                                     race: Caucasian   \n",
       "4                             ethnicity: Non-Hispanic   \n",
       "5   hours (minutes since last caloric intake): : 0:30   \n",
       "6                                 chronic diseases: -   \n",
       "7                        allergies: yes (amoxicillin)   \n",
       "8                    developmental/speech disorder: -   \n",
       "9                            neurological disorder: -   \n",
       "10                            psychiatric disorder: -   \n",
       "11                       gastrointestinal disorder: -   \n",
       "12                             autoimmune disorder: -   \n",
       "13                                 genetic testing: -   \n",
       "14                                   birth defects: -   \n",
       "15                                              ct: -   \n",
       "16                                             mri: -   \n",
       "17                       medications/vitamin names: -   \n",
       "18                                  cerebral palsy: -   \n",
       "19                                         seizure: -   \n",
       "20                                  other diseases: -   \n",
       "\n",
       "                                            GSM650970  \\\n",
       "0                                  diagnosis: CONTROL   \n",
       "1                                        gender: male   \n",
       "2                   age at blood drawing (months): 49   \n",
       "3                             race: Other (Dominican)   \n",
       "4                                 ethnicity: Hispanic   \n",
       "5   hours (minutes since last caloric intake): : 0:00   \n",
       "6                                 chronic diseases: -   \n",
       "7                                        allergies: -   \n",
       "8                    developmental/speech disorder: -   \n",
       "9                            neurological disorder: -   \n",
       "10                            psychiatric disorder: -   \n",
       "11                       gastrointestinal disorder: -   \n",
       "12                             autoimmune disorder: -   \n",
       "13                                 genetic testing: -   \n",
       "14                                   birth defects: -   \n",
       "15                                              ct: -   \n",
       "16                                             mri: -   \n",
       "17                       medications/vitamin names: -   \n",
       "18                                  cerebral palsy: -   \n",
       "19                                         seizure: -   \n",
       "20                                  other diseases: -   \n",
       "\n",
       "                                            GSM650975  \n",
       "0                                  diagnosis: CONTROL  \n",
       "1                                        gender: male  \n",
       "2                   age at blood drawing (months): 48  \n",
       "3                          race: Other (Puerto Rican)  \n",
       "4                                 ethnicity: Hispanic  \n",
       "5   hours (minutes since last caloric intake): : 2:00  \n",
       "6                                 chronic diseases: -  \n",
       "7                                        allergies: -  \n",
       "8                    developmental/speech disorder: -  \n",
       "9                            neurological disorder: -  \n",
       "10                            psychiatric disorder: -  \n",
       "11                       gastrointestinal disorder: -  \n",
       "12                             autoimmune disorder: -  \n",
       "13                                 genetic testing: -  \n",
       "14                                   birth defects: -  \n",
       "15                                              ct: -  \n",
       "16                                             mri: -  \n",
       "17                       medications/vitamin names: -  \n",
       "18                                  cerebral palsy: -  \n",
       "19                                         seizure: -  \n",
       "20                                  other diseases: -  \n",
       "\n",
       "[21 rows x 187 columns]"
      ]
     },
     "execution_count": 14,
     "metadata": {},
     "output_type": "execute_result"
    }
   ],
   "source": [
    "clinical_data"
   ]
  },
  {
   "cell_type": "code",
   "execution_count": 13,
   "metadata": {
    "ExecuteTime": {
     "end_time": "2024-01-02T01:03:04.637878352Z",
     "start_time": "2024-01-02T01:03:04.593886885Z"
    },
    "collapsed": false
   },
   "outputs": [
    {
     "ename": "TypeError",
     "evalue": "the first argument must be callable",
     "output_type": "error",
     "traceback": [
      "\u001b[0;31m---------------------------------------------------------------------------\u001b[0m",
      "\u001b[0;31mTypeError\u001b[0m                                 Traceback (most recent call last)",
      "Input \u001b[0;32mIn [13]\u001b[0m, in \u001b[0;36m<cell line: 1>\u001b[0;34m()\u001b[0m\n\u001b[0;32m----> 1\u001b[0m selected_clinical_data \u001b[38;5;241m=\u001b[39m \u001b[43mgeo_select_clinical_features\u001b[49m\u001b[43m(\u001b[49m\u001b[43mclinical_data\u001b[49m\u001b[43m,\u001b[49m\u001b[43m \u001b[49m\u001b[43mTRAIT\u001b[49m\u001b[43m,\u001b[49m\u001b[43m \u001b[49m\u001b[43mtrait_row_id\u001b[49m\u001b[43m,\u001b[49m\u001b[43m \u001b[49m\u001b[43mage_row_id\u001b[49m\u001b[43m,\u001b[49m\u001b[43m \u001b[49m\u001b[43mgender_row_id\u001b[49m\u001b[43m,\u001b[49m\n\u001b[1;32m      2\u001b[0m \u001b[43m                                                      \u001b[49m\u001b[43mconvert_trait\u001b[49m\u001b[43m,\u001b[49m\u001b[43m \u001b[49m\u001b[43mconvert_age\u001b[49m\u001b[43m,\u001b[49m\u001b[43m \u001b[49m\u001b[43mconvert_gender\u001b[49m\u001b[43m)\u001b[49m\n\u001b[1;32m      3\u001b[0m selected_clinical_data\u001b[38;5;241m.\u001b[39mhead()\n",
      "File \u001b[0;32m~/Desktop/TAIS_2024SP/Lisa/utils.py:697\u001b[0m, in \u001b[0;36mgeo_select_clinical_features\u001b[0;34m(clinical_df, trait, trait_row, convert_trait, age_row, convert_age, gender_row, convert_gender)\u001b[0m\n\u001b[1;32m    678\u001b[0m \u001b[38;5;124;03m\"\"\"\u001b[39;00m\n\u001b[1;32m    679\u001b[0m \u001b[38;5;124;03mExtracts and processes specific clinical features from a DataFrame representing\u001b[39;00m\n\u001b[1;32m    680\u001b[0m \u001b[38;5;124;03msample characteristics in the GEO database series.\u001b[39;00m\n\u001b[0;32m   (...)\u001b[0m\n\u001b[1;32m    693\u001b[0m \u001b[38;5;124;03mpd.DataFrame: A DataFrame containing the selected and processed clinical features.\u001b[39;00m\n\u001b[1;32m    694\u001b[0m \u001b[38;5;124;03m\"\"\"\u001b[39;00m\n\u001b[1;32m    695\u001b[0m feature_list \u001b[38;5;241m=\u001b[39m []\n\u001b[0;32m--> 697\u001b[0m trait_data \u001b[38;5;241m=\u001b[39m \u001b[43mget_feature_data\u001b[49m\u001b[43m(\u001b[49m\u001b[43mclinical_df\u001b[49m\u001b[43m,\u001b[49m\u001b[43m \u001b[49m\u001b[43mtrait_row\u001b[49m\u001b[43m,\u001b[49m\u001b[43m \u001b[49m\u001b[43mtrait\u001b[49m\u001b[43m,\u001b[49m\u001b[43m \u001b[49m\u001b[43mconvert_trait\u001b[49m\u001b[43m)\u001b[49m\n\u001b[1;32m    698\u001b[0m feature_list\u001b[38;5;241m.\u001b[39mappend(trait_data)\n\u001b[1;32m    699\u001b[0m \u001b[38;5;28;01mif\u001b[39;00m age_row \u001b[38;5;129;01mis\u001b[39;00m \u001b[38;5;129;01mnot\u001b[39;00m \u001b[38;5;28;01mNone\u001b[39;00m:\n",
      "File \u001b[0;32m~/Desktop/TAIS_2024SP/Lisa/utils.py:218\u001b[0m, in \u001b[0;36mget_feature_data\u001b[0;34m(clinical_df, row_id, feature, convert_fn)\u001b[0m\n\u001b[1;32m    216\u001b[0m clinical_df \u001b[38;5;241m=\u001b[39m clinical_df\u001b[38;5;241m.\u001b[39miloc[row_id:row_id \u001b[38;5;241m+\u001b[39m \u001b[38;5;241m1\u001b[39m]\u001b[38;5;241m.\u001b[39mdrop(columns\u001b[38;5;241m=\u001b[39m[\u001b[38;5;124m'\u001b[39m\u001b[38;5;124m!Sample_geo_accession\u001b[39m\u001b[38;5;124m'\u001b[39m], errors\u001b[38;5;241m=\u001b[39m\u001b[38;5;124m'\u001b[39m\u001b[38;5;124mignore\u001b[39m\u001b[38;5;124m'\u001b[39m)\n\u001b[1;32m    217\u001b[0m clinical_df\u001b[38;5;241m.\u001b[39mindex \u001b[38;5;241m=\u001b[39m [feature]\n\u001b[0;32m--> 218\u001b[0m clinical_df \u001b[38;5;241m=\u001b[39m \u001b[43mclinical_df\u001b[49m\u001b[38;5;241;43m.\u001b[39;49m\u001b[43mapplymap\u001b[49m\u001b[43m(\u001b[49m\u001b[43mconvert_fn\u001b[49m\u001b[43m)\u001b[49m\n\u001b[1;32m    220\u001b[0m \u001b[38;5;28;01mreturn\u001b[39;00m clinical_df\n",
      "File \u001b[0;32m~/opt/anaconda3/lib/python3.9/site-packages/pandas/core/frame.py:9500\u001b[0m, in \u001b[0;36mDataFrame.applymap\u001b[0;34m(self, func, na_action, **kwargs)\u001b[0m\n\u001b[1;32m   9496\u001b[0m     \u001b[38;5;28;01mraise\u001b[39;00m \u001b[38;5;167;01mValueError\u001b[39;00m(\n\u001b[1;32m   9497\u001b[0m         \u001b[38;5;124mf\u001b[39m\u001b[38;5;124m\"\u001b[39m\u001b[38;5;124mna_action must be \u001b[39m\u001b[38;5;124m'\u001b[39m\u001b[38;5;124mignore\u001b[39m\u001b[38;5;124m'\u001b[39m\u001b[38;5;124m or None. Got \u001b[39m\u001b[38;5;132;01m{\u001b[39;00m\u001b[38;5;28mrepr\u001b[39m(na_action)\u001b[38;5;132;01m}\u001b[39;00m\u001b[38;5;124m\"\u001b[39m\n\u001b[1;32m   9498\u001b[0m     )\n\u001b[1;32m   9499\u001b[0m ignore_na \u001b[38;5;241m=\u001b[39m na_action \u001b[38;5;241m==\u001b[39m \u001b[38;5;124m\"\u001b[39m\u001b[38;5;124mignore\u001b[39m\u001b[38;5;124m\"\u001b[39m\n\u001b[0;32m-> 9500\u001b[0m func \u001b[38;5;241m=\u001b[39m \u001b[43mfunctools\u001b[49m\u001b[38;5;241;43m.\u001b[39;49m\u001b[43mpartial\u001b[49m\u001b[43m(\u001b[49m\u001b[43mfunc\u001b[49m\u001b[43m,\u001b[49m\u001b[43m \u001b[49m\u001b[38;5;241;43m*\u001b[39;49m\u001b[38;5;241;43m*\u001b[39;49m\u001b[43mkwargs\u001b[49m\u001b[43m)\u001b[49m\n\u001b[1;32m   9502\u001b[0m \u001b[38;5;66;03m# if we have a dtype == 'M8[ns]', provide boxed values\u001b[39;00m\n\u001b[1;32m   9503\u001b[0m \u001b[38;5;28;01mdef\u001b[39;00m \u001b[38;5;21minfer\u001b[39m(x):\n",
      "\u001b[0;31mTypeError\u001b[0m: the first argument must be callable"
     ]
    }
   ],
   "source": [
    "selected_clinical_data = geo_select_clinical_features(clinical_data, TRAIT, trait_row_id, age_row_id, gender_row_id,\n",
    "                                                      convert_trait, convert_age, convert_gender)\n",
    "selected_clinical_data.head()"
   ]
  },
  {
   "cell_type": "markdown",
   "metadata": {
    "ExecuteTime": {
     "end_time": "2023-12-31T03:58:04.978664193Z",
     "start_time": "2023-12-31T03:58:04.966117261Z"
    },
    "collapsed": false
   },
   "source": [
    "### Genetic data preprocessing and final filtering"
   ]
  },
  {
   "cell_type": "code",
   "execution_count": 14,
   "metadata": {
    "ExecuteTime": {
     "end_time": "2024-01-02T01:03:06.246474256Z",
     "start_time": "2024-01-02T01:03:05.670354792Z"
    },
    "collapsed": false
   },
   "outputs": [
    {
     "data": {
      "text/html": [
       "<div>\n",
       "<style scoped>\n",
       "    .dataframe tbody tr th:only-of-type {\n",
       "        vertical-align: middle;\n",
       "    }\n",
       "\n",
       "    .dataframe tbody tr th {\n",
       "        vertical-align: top;\n",
       "    }\n",
       "\n",
       "    .dataframe thead th {\n",
       "        text-align: right;\n",
       "    }\n",
       "</style>\n",
       "<table border=\"1\" class=\"dataframe\">\n",
       "  <thead>\n",
       "    <tr style=\"text-align: right;\">\n",
       "      <th></th>\n",
       "      <th>ID</th>\n",
       "      <th>GSM6216198</th>\n",
       "      <th>GSM6216199</th>\n",
       "      <th>GSM6216200</th>\n",
       "      <th>GSM6216201</th>\n",
       "      <th>GSM6216202</th>\n",
       "      <th>GSM6216203</th>\n",
       "      <th>GSM6216204</th>\n",
       "      <th>GSM6216205</th>\n",
       "      <th>GSM6216206</th>\n",
       "      <th>GSM6216207</th>\n",
       "      <th>GSM6216208</th>\n",
       "      <th>GSM6216209</th>\n",
       "      <th>GSM6216210</th>\n",
       "      <th>GSM6216211</th>\n",
       "      <th>GSM6216212</th>\n",
       "    </tr>\n",
       "  </thead>\n",
       "  <tbody>\n",
       "    <tr>\n",
       "      <th>0</th>\n",
       "      <td>cg00000029</td>\n",
       "      <td>0.717</td>\n",
       "      <td>0.643</td>\n",
       "      <td>0.645</td>\n",
       "      <td>0.699</td>\n",
       "      <td>0.587</td>\n",
       "      <td>0.676</td>\n",
       "      <td>0.566</td>\n",
       "      <td>0.608</td>\n",
       "      <td>0.592</td>\n",
       "      <td>0.739</td>\n",
       "      <td>0.550</td>\n",
       "      <td>0.469</td>\n",
       "      <td>0.674</td>\n",
       "      <td>0.605</td>\n",
       "      <td>0.576</td>\n",
       "    </tr>\n",
       "    <tr>\n",
       "      <th>1</th>\n",
       "      <td>cg00000108</td>\n",
       "      <td>0.974</td>\n",
       "      <td>0.978</td>\n",
       "      <td>0.969</td>\n",
       "      <td>0.974</td>\n",
       "      <td>0.969</td>\n",
       "      <td>0.964</td>\n",
       "      <td>0.968</td>\n",
       "      <td>0.973</td>\n",
       "      <td>0.955</td>\n",
       "      <td>0.973</td>\n",
       "      <td>0.953</td>\n",
       "      <td>0.953</td>\n",
       "      <td>0.950</td>\n",
       "      <td>0.971</td>\n",
       "      <td>0.977</td>\n",
       "    </tr>\n",
       "    <tr>\n",
       "      <th>2</th>\n",
       "      <td>cg00000109</td>\n",
       "      <td>0.710</td>\n",
       "      <td>0.825</td>\n",
       "      <td>0.802</td>\n",
       "      <td>0.864</td>\n",
       "      <td>0.791</td>\n",
       "      <td>0.770</td>\n",
       "      <td>0.870</td>\n",
       "      <td>0.876</td>\n",
       "      <td>0.817</td>\n",
       "      <td>0.880</td>\n",
       "      <td>0.843</td>\n",
       "      <td>0.829</td>\n",
       "      <td>0.845</td>\n",
       "      <td>0.856</td>\n",
       "      <td>0.854</td>\n",
       "    </tr>\n",
       "    <tr>\n",
       "      <th>3</th>\n",
       "      <td>cg00000165</td>\n",
       "      <td>0.294</td>\n",
       "      <td>0.210</td>\n",
       "      <td>0.246</td>\n",
       "      <td>0.214</td>\n",
       "      <td>0.193</td>\n",
       "      <td>0.186</td>\n",
       "      <td>0.240</td>\n",
       "      <td>0.212</td>\n",
       "      <td>0.337</td>\n",
       "      <td>0.228</td>\n",
       "      <td>0.309</td>\n",
       "      <td>0.214</td>\n",
       "      <td>0.270</td>\n",
       "      <td>0.203</td>\n",
       "      <td>0.273</td>\n",
       "    </tr>\n",
       "    <tr>\n",
       "      <th>4</th>\n",
       "      <td>cg00000236</td>\n",
       "      <td>0.923</td>\n",
       "      <td>0.903</td>\n",
       "      <td>0.945</td>\n",
       "      <td>0.873</td>\n",
       "      <td>0.957</td>\n",
       "      <td>0.936</td>\n",
       "      <td>0.877</td>\n",
       "      <td>0.906</td>\n",
       "      <td>0.893</td>\n",
       "      <td>0.910</td>\n",
       "      <td>0.868</td>\n",
       "      <td>0.901</td>\n",
       "      <td>0.924</td>\n",
       "      <td>0.911</td>\n",
       "      <td>0.872</td>\n",
       "    </tr>\n",
       "  </tbody>\n",
       "</table>\n",
       "</div>"
      ],
      "text/plain": [
       "           ID  GSM6216198  GSM6216199  GSM6216200  GSM6216201  GSM6216202  \\\n",
       "0  cg00000029       0.717       0.643       0.645       0.699       0.587   \n",
       "1  cg00000108       0.974       0.978       0.969       0.974       0.969   \n",
       "2  cg00000109       0.710       0.825       0.802       0.864       0.791   \n",
       "3  cg00000165       0.294       0.210       0.246       0.214       0.193   \n",
       "4  cg00000236       0.923       0.903       0.945       0.873       0.957   \n",
       "\n",
       "   GSM6216203  GSM6216204  GSM6216205  GSM6216206  GSM6216207  GSM6216208  \\\n",
       "0       0.676       0.566       0.608       0.592       0.739       0.550   \n",
       "1       0.964       0.968       0.973       0.955       0.973       0.953   \n",
       "2       0.770       0.870       0.876       0.817       0.880       0.843   \n",
       "3       0.186       0.240       0.212       0.337       0.228       0.309   \n",
       "4       0.936       0.877       0.906       0.893       0.910       0.868   \n",
       "\n",
       "   GSM6216209  GSM6216210  GSM6216211  GSM6216212  \n",
       "0       0.469       0.674       0.605       0.576  \n",
       "1       0.953       0.950       0.971       0.977  \n",
       "2       0.829       0.845       0.856       0.854  \n",
       "3       0.214       0.270       0.203       0.273  \n",
       "4       0.901       0.924       0.911       0.872  "
      ]
     },
     "execution_count": 14,
     "metadata": {},
     "output_type": "execute_result"
    }
   ],
   "source": [
    "genetic_data = get_genetic_data(matrix_file)\n",
    "genetic_data.head()"
   ]
  },
  {
   "cell_type": "code",
   "execution_count": 15,
   "metadata": {
    "ExecuteTime": {
     "end_time": "2024-01-02T01:03:06.250833943Z",
     "start_time": "2024-01-02T01:03:06.246758837Z"
    },
    "collapsed": false
   },
   "outputs": [
    {
     "data": {
      "text/plain": [
       "['cg00000029',\n",
       " 'cg00000108',\n",
       " 'cg00000109',\n",
       " 'cg00000165',\n",
       " 'cg00000236',\n",
       " 'cg00000289',\n",
       " 'cg00000292',\n",
       " 'cg00000321',\n",
       " 'cg00000363',\n",
       " 'cg00000622',\n",
       " 'cg00000658',\n",
       " 'cg00000714',\n",
       " 'cg00000721',\n",
       " 'cg00000734',\n",
       " 'cg00000769',\n",
       " 'cg00000807',\n",
       " 'cg00000884',\n",
       " 'cg00000905',\n",
       " 'cg00000924',\n",
       " 'cg00000948']"
      ]
     },
     "execution_count": 15,
     "metadata": {},
     "output_type": "execute_result"
    }
   ],
   "source": [
    "gene_row_ids = genetic_data['ID'][:20].tolist()\n",
    "gene_row_ids"
   ]
  },
  {
   "cell_type": "markdown",
   "metadata": {
    "ExecuteTime": {
     "end_time": "2023-12-31T03:30:41.595335164Z",
     "start_time": "2023-12-31T03:30:41.513232329Z"
    },
    "collapsed": false
   },
   "source": [
    "Check if the gene dataset requires mapping to get the gene symbols corresponding to each data row."
   ]
  },
  {
   "cell_type": "markdown",
   "metadata": {
    "collapsed": false
   },
   "source": [
    "Reference prompt:"
   ]
  },
  {
   "cell_type": "code",
   "execution_count": 16,
   "metadata": {
    "ExecuteTime": {
     "end_time": "2024-01-02T01:03:07.586216481Z",
     "start_time": "2024-01-02T01:03:07.574527035Z"
    },
    "collapsed": false
   },
   "outputs": [
    {
     "data": {
      "text/plain": [
       "\"\\nBelow are the row headers of a gene expression dataset in GEO. Based on your biomedical knowledge, are they human gene symbols, or are they some other identifiers that need to be mapped to gene symbols? Your answer should be concluded by starting a new line and strictly following this format:\\nrequires_gene_mapping = (True or False)\\n\\nRow headers:\\n['cg00000029', 'cg00000108', 'cg00000109', 'cg00000165', 'cg00000236', 'cg00000289', 'cg00000292', 'cg00000321', 'cg00000363', 'cg00000622', 'cg00000658', 'cg00000714', 'cg00000721', 'cg00000734', 'cg00000769', 'cg00000807', 'cg00000884', 'cg00000905', 'cg00000924', 'cg00000948']\\n\""
      ]
     },
     "execution_count": 16,
     "metadata": {},
     "output_type": "execute_result"
    }
   ],
   "source": [
    "f'''\n",
    "Below are the row headers of a gene expression dataset in GEO. Based on your biomedical knowledge, are they human gene symbols, or are they some other identifiers that need to be mapped to gene symbols? Your answer should be concluded by starting a new line and strictly following this format:\n",
    "requires_gene_mapping = (True or False)\n",
    "\n",
    "Row headers:\n",
    "{gene_row_ids}\n",
    "'''"
   ]
  },
  {
   "cell_type": "markdown",
   "metadata": {
    "collapsed": false
   },
   "source": [
    "If not required, jump directly to the gene normalization step"
   ]
  },
  {
   "cell_type": "code",
   "execution_count": 17,
   "metadata": {
    "ExecuteTime": {
     "end_time": "2024-01-02T01:03:08.263712538Z",
     "start_time": "2024-01-02T01:03:08.260656314Z"
    },
    "collapsed": false
   },
   "outputs": [],
   "source": [
    "requires_gene_mapping = True"
   ]
  },
  {
   "cell_type": "code",
   "execution_count": 18,
   "metadata": {
    "ExecuteTime": {
     "end_time": "2024-01-02T01:03:33.822550310Z",
     "start_time": "2024-01-02T01:03:08.648958912Z"
    },
    "collapsed": false
   },
   "outputs": [
    {
     "name": "stdout",
     "output_type": "stream",
     "text": [
      "{'ID': ['cg00035864', 'cg00050873', 'cg00061679', 'cg00063477', 'cg00121626'], 'Name': ['cg00035864', 'cg00050873', 'cg00061679', 'cg00063477', 'cg00121626'], 'AddressA_ID': ['31729416', '32735311', '28780415', '16712347', '19779393'], 'AlleleA_ProbeSeq': ['AAAACACTAACAATCTTATCCACATAAACCCTTAAATTTATCTCAAATTC', 'ACAAAAAAACAACACACAACTATAATAATTTTTAAAATAAATAAACCCCA', 'AAAACATTAAAAAACTAATTCACTACTATTTAATTACTTTATTTTCCATC', 'TATTCTTCCACACAAAATACTAAACRTATATTTACAAAAATACTTCCATC', 'AAAACTAATAAAAATAACTTACAAACCAAATACTATACCCTACAACTCTC'], 'AddressB_ID': [nan, '31717405', nan, nan, nan], 'AlleleB_ProbeSeq': [nan, 'ACGAAAAAACAACGCACAACTATAATAATTTTTAAAATAAATAAACCCCG', nan, nan, nan], 'Infinium_Design_Type': ['II', 'I', 'II', 'II', 'II'], 'Next_Base': [nan, 'A', nan, nan, nan], 'Color_Channel': [nan, 'Red', nan, nan, nan], 'Forward_Sequence': ['AATCCAAAGATGATGGAGGAGTGCCCGCTCATGATGTGAAGTACCTGCTCAGCTGGAAAC[CG]AATTTGAGATAAATTCAAGGGTCTATGTGGACAAGACTGCTAGTGTCTCTCTCTGGATTG', 'TATCTCTGTCTGGCGAGGAGGCAACGCACAACTGTGGTGGTTTTTGGAGTGGGTGGACCC[CG]GCCAAGACGGCCTGGGCTGACCAGAGACGGGAGGCAGAAAAAGTGGGCAGGTGGTTGCAG', 'TCAACAAATGAGAGACATTGAAGAACTAATTCACTACTATTTGGTTACTTTATTTTCCAT[CG]AAGAAAACCTCTTTTTAAAAACTAACACATAAATAAAATGAACGAAGAACAAACTAAACG', 'CTCCTGTACTTGTTCATTAAATAATGATTCCTTGGATATACCAAGTCTGGATAGCGGATT[CG]ATGGAAGCATTTTTGTAAATATACGTTCAGTATTTTGTGTGGAAGAACACAATCTAGCTG', 'AGGTGAATGAAGAGACTAATGGGAGTGGCTTGCAAGCCAGGTACTGTGCCCTACAACTCT[CG]CGCTGCCACAAAAAGCCAATTAACGAAGCAAACTGTTTTATCTTTTCCTCTCCCCAGAAG'], 'Genome_Build': [37.0, 37.0, 37.0, 37.0, 37.0], 'CHR': ['Y', 'Y', 'Y', 'Y', 'Y'], 'MAPINFO': [8553009.0, 9363356.0, 25314171.0, 22741795.0, 21664296.0], 'SourceSeq': ['AGACACTAGCAGTCTTGTCCACATAGACCCTTGAATTTATCTCAAATTCG', 'CGGGGTCCACCCACTCCAAAAACCACCACAGTTGTGCGTTGCCTCCTCGC', 'CGATGGAAAATAAAGTAACCAAATAGTAGTGAATTAGTTCTTCAATGTCT', 'CGATGGAAGCATTTTTGTAAATATACGTTCAGTATTTTGTGTGGAAGAAC', 'AGACTAATGGGAGTGGCTTGCAAGCCAGGTACTGTGCCCTACAACTCTCG'], 'Chromosome_36': ['Y', 'Y', 'Y', 'Y', 'Y'], 'Coordinate_36': ['8613009', '9973356', '23723559', '21151183', '20123684'], 'Strand': ['F', 'R', 'R', 'F', 'R'], 'Probe_SNPs': [nan, nan, nan, 'rs9341313', nan], 'Probe_SNPs_10': [nan, nan, nan, 'rs13447379', nan], 'Random_Loci': [nan, nan, nan, nan, nan], 'Methyl27_Loci': [nan, nan, nan, nan, nan], 'UCSC_RefGene_Name': ['TTTY18', 'TSPY4;FAM197Y2', 'DAZ1;DAZ4;DAZ4', 'EIF1AY', 'BCORL2'], 'UCSC_RefGene_Accession': ['NR_001550', 'NM_001164471;NR_001553', 'NM_004081;NM_020420;NM_001005375', 'NM_004681', 'NR_002923'], 'UCSC_RefGene_Group': ['TSS1500', 'Body;TSS1500', 'Body;Body;Body', 'Body', 'Body'], 'UCSC_CpG_Islands_Name': [nan, 'chrY:9363680-9363943', nan, 'chrY:22737825-22738052', 'chrY:21664481-21665063'], 'Relation_to_UCSC_CpG_Island': [nan, 'N_Shore', nan, 'S_Shelf', 'N_Shore'], 'Phantom': [nan, nan, nan, nan, nan], 'DMR': [nan, nan, nan, nan, nan], 'Enhancer': [nan, nan, nan, nan, nan], 'HMM_Island': [nan, 'Y:9973136-9976273', nan, nan, nan], 'Regulatory_Feature_Name': [nan, nan, nan, nan, nan], 'Regulatory_Feature_Group': [nan, nan, nan, nan, nan], 'DHS': [nan, nan, nan, nan, nan], 'RANGE_START': [8553009.0, 9363356.0, 25314171.0, 22741795.0, 21664296.0], 'RANGE_END': [8553132.0, 9363479.0, 25314294.0, 22741918.0, 21664419.0], 'RANGE_GB': ['NC_000024.9', 'NC_000024.9', 'NC_000024.9', 'NC_000024.9', 'NC_000024.9'], 'SPOT_ID': [nan, nan, nan, nan, nan]}\n"
     ]
    }
   ],
   "source": [
    "if requires_gene_mapping:\n",
    "    gene_annotation = get_gene_annotation(soft_file)[0]\n",
    "    gene_annotation_summary = preview_df(gene_annotation)\n",
    "    print(gene_annotation_summary)"
   ]
  },
  {
   "cell_type": "markdown",
   "metadata": {
    "ExecuteTime": {
     "end_time": "2023-12-31T03:58:04.978931927Z",
     "start_time": "2023-12-31T03:58:04.966328339Z"
    },
    "collapsed": false
   },
   "source": [
    "Observe the first few cells in the ID column of the gene annotation dataframe, to find the names of columns that store the gene probe IDs and gene symbols respectively.\n",
    "Reference prompt:"
   ]
  },
  {
   "cell_type": "code",
   "execution_count": 19,
   "metadata": {
    "ExecuteTime": {
     "end_time": "2024-01-02T01:03:33.822912446Z",
     "start_time": "2024-01-02T01:03:33.804491826Z"
    },
    "collapsed": false
   },
   "outputs": [
    {
     "name": "stdout",
     "output_type": "stream",
     "text": [
      "\n",
      "    As a biomedical research team, we extracted the gene annotation data from a series in the GEO database, and saved it to a Python dictionary. Please read the dictionary, and decide which key stores the ID of the probe, and which key stores the gene symbols. Please strict follow this format in your answer:\n",
      "    probe_name_key = 'key_name1'\n",
      "    gene_name_key = 'key_name2'\n",
      "\n",
      "    Gene annotation dictionary:\n",
      "    {'ID': ['cg00035864', 'cg00050873', 'cg00061679', 'cg00063477', 'cg00121626'], 'Name': ['cg00035864', 'cg00050873', 'cg00061679', 'cg00063477', 'cg00121626'], 'AddressA_ID': ['31729416', '32735311', '28780415', '16712347', '19779393'], 'AlleleA_ProbeSeq': ['AAAACACTAACAATCTTATCCACATAAACCCTTAAATTTATCTCAAATTC', 'ACAAAAAAACAACACACAACTATAATAATTTTTAAAATAAATAAACCCCA', 'AAAACATTAAAAAACTAATTCACTACTATTTAATTACTTTATTTTCCATC', 'TATTCTTCCACACAAAATACTAAACRTATATTTACAAAAATACTTCCATC', 'AAAACTAATAAAAATAACTTACAAACCAAATACTATACCCTACAACTCTC'], 'AddressB_ID': [nan, '31717405', nan, nan, nan], 'AlleleB_ProbeSeq': [nan, 'ACGAAAAAACAACGCACAACTATAATAATTTTTAAAATAAATAAACCCCG', nan, nan, nan], 'Infinium_Design_Type': ['II', 'I', 'II', 'II', 'II'], 'Next_Base': [nan, 'A', nan, nan, nan], 'Color_Channel': [nan, 'Red', nan, nan, nan], 'Forward_Sequence': ['AATCCAAAGATGATGGAGGAGTGCCCGCTCATGATGTGAAGTACCTGCTCAGCTGGAAAC[CG]AATTTGAGATAAATTCAAGGGTCTATGTGGACAAGACTGCTAGTGTCTCTCTCTGGATTG', 'TATCTCTGTCTGGCGAGGAGGCAACGCACAACTGTGGTGGTTTTTGGAGTGGGTGGACCC[CG]GCCAAGACGGCCTGGGCTGACCAGAGACGGGAGGCAGAAAAAGTGGGCAGGTGGTTGCAG', 'TCAACAAATGAGAGACATTGAAGAACTAATTCACTACTATTTGGTTACTTTATTTTCCAT[CG]AAGAAAACCTCTTTTTAAAAACTAACACATAAATAAAATGAACGAAGAACAAACTAAACG', 'CTCCTGTACTTGTTCATTAAATAATGATTCCTTGGATATACCAAGTCTGGATAGCGGATT[CG]ATGGAAGCATTTTTGTAAATATACGTTCAGTATTTTGTGTGGAAGAACACAATCTAGCTG', 'AGGTGAATGAAGAGACTAATGGGAGTGGCTTGCAAGCCAGGTACTGTGCCCTACAACTCT[CG]CGCTGCCACAAAAAGCCAATTAACGAAGCAAACTGTTTTATCTTTTCCTCTCCCCAGAAG'], 'Genome_Build': [37.0, 37.0, 37.0, 37.0, 37.0], 'CHR': ['Y', 'Y', 'Y', 'Y', 'Y'], 'MAPINFO': [8553009.0, 9363356.0, 25314171.0, 22741795.0, 21664296.0], 'SourceSeq': ['AGACACTAGCAGTCTTGTCCACATAGACCCTTGAATTTATCTCAAATTCG', 'CGGGGTCCACCCACTCCAAAAACCACCACAGTTGTGCGTTGCCTCCTCGC', 'CGATGGAAAATAAAGTAACCAAATAGTAGTGAATTAGTTCTTCAATGTCT', 'CGATGGAAGCATTTTTGTAAATATACGTTCAGTATTTTGTGTGGAAGAAC', 'AGACTAATGGGAGTGGCTTGCAAGCCAGGTACTGTGCCCTACAACTCTCG'], 'Chromosome_36': ['Y', 'Y', 'Y', 'Y', 'Y'], 'Coordinate_36': ['8613009', '9973356', '23723559', '21151183', '20123684'], 'Strand': ['F', 'R', 'R', 'F', 'R'], 'Probe_SNPs': [nan, nan, nan, 'rs9341313', nan], 'Probe_SNPs_10': [nan, nan, nan, 'rs13447379', nan], 'Random_Loci': [nan, nan, nan, nan, nan], 'Methyl27_Loci': [nan, nan, nan, nan, nan], 'UCSC_RefGene_Name': ['TTTY18', 'TSPY4;FAM197Y2', 'DAZ1;DAZ4;DAZ4', 'EIF1AY', 'BCORL2'], 'UCSC_RefGene_Accession': ['NR_001550', 'NM_001164471;NR_001553', 'NM_004081;NM_020420;NM_001005375', 'NM_004681', 'NR_002923'], 'UCSC_RefGene_Group': ['TSS1500', 'Body;TSS1500', 'Body;Body;Body', 'Body', 'Body'], 'UCSC_CpG_Islands_Name': [nan, 'chrY:9363680-9363943', nan, 'chrY:22737825-22738052', 'chrY:21664481-21665063'], 'Relation_to_UCSC_CpG_Island': [nan, 'N_Shore', nan, 'S_Shelf', 'N_Shore'], 'Phantom': [nan, nan, nan, nan, nan], 'DMR': [nan, nan, nan, nan, nan], 'Enhancer': [nan, nan, nan, nan, nan], 'HMM_Island': [nan, 'Y:9973136-9976273', nan, nan, nan], 'Regulatory_Feature_Name': [nan, nan, nan, nan, nan], 'Regulatory_Feature_Group': [nan, nan, nan, nan, nan], 'DHS': [nan, nan, nan, nan, nan], 'RANGE_START': [8553009.0, 9363356.0, 25314171.0, 22741795.0, 21664296.0], 'RANGE_END': [8553132.0, 9363479.0, 25314294.0, 22741918.0, 21664419.0], 'RANGE_GB': ['NC_000024.9', 'NC_000024.9', 'NC_000024.9', 'NC_000024.9', 'NC_000024.9'], 'SPOT_ID': [nan, nan, nan, nan, nan]}\n",
      "    \n"
     ]
    }
   ],
   "source": [
    "if requires_gene_mapping:\n",
    "    print(f'''\n",
    "    As a biomedical research team, we extracted the gene annotation data from a series in the GEO database, and saved it to a Python dictionary. Please read the dictionary, and decide which key stores the ID of the probe, and which key stores the gene symbols. Please strict follow this format in your answer:\n",
    "    probe_name_key = 'key_name1'\n",
    "    gene_name_key = 'key_name2'\n",
    "\n",
    "    Gene annotation dictionary:\n",
    "    {gene_annotation_summary}\n",
    "    ''')"
   ]
  },
  {
   "cell_type": "code",
   "execution_count": 20,
   "metadata": {
    "ExecuteTime": {
     "end_time": "2024-01-02T01:03:35.113359369Z",
     "start_time": "2024-01-02T01:03:33.804666371Z"
    },
    "collapsed": false
   },
   "outputs": [],
   "source": [
    "if requires_gene_mapping:\n",
    "    probe_id_key = 'ID'\n",
    "    gene_symb_key = 'UCSC_RefGene_Name'\n",
    "    gene_mapping = get_gene_mapping(gene_annotation, probe_id_key, gene_symb_key)\n",
    "    genetic_data = apply_gene_mapping(genetic_data, gene_mapping)"
   ]
  },
  {
   "cell_type": "code",
   "execution_count": 21,
   "metadata": {
    "ExecuteTime": {
     "end_time": "2024-01-02T01:03:35.156584675Z",
     "start_time": "2024-01-02T01:03:35.114652593Z"
    },
    "collapsed": false
   },
   "outputs": [],
   "source": [
    "if NORMALIZE_GENE:\n",
    "    genetic_data = normalize_gene_symbols_in_index(genetic_data)"
   ]
  },
  {
   "cell_type": "code",
   "execution_count": 22,
   "metadata": {
    "ExecuteTime": {
     "end_time": "2024-01-02T01:03:35.158174021Z",
     "start_time": "2024-01-02T01:03:35.156777134Z"
    },
    "collapsed": false
   },
   "outputs": [],
   "source": [
    "merged_data = geo_merge_clinical_genetic_data(selected_clinical_data, genetic_data)\n",
    "# The preprocessing runs through, which means is_available should be True\n",
    "is_available = True"
   ]
  },
  {
   "cell_type": "code",
   "execution_count": 23,
   "metadata": {
    "ExecuteTime": {
     "end_time": "2024-01-02T01:03:35.158378853Z",
     "start_time": "2024-01-02T01:03:35.156895194Z"
    },
    "collapsed": false
   },
   "outputs": [
    {
     "name": "stdout",
     "output_type": "stream",
     "text": [
      "The merged dataset contains 15 samples.\n"
     ]
    }
   ],
   "source": [
    "print(f\"The merged dataset contains {len(merged_data)} samples.\")"
   ]
  },
  {
   "cell_type": "code",
   "execution_count": 24,
   "metadata": {
    "ExecuteTime": {
     "end_time": "2024-01-02T01:03:35.158646754Z",
     "start_time": "2024-01-02T01:03:35.156975304Z"
    },
    "collapsed": false
   },
   "outputs": [
    {
     "name": "stdout",
     "output_type": "stream",
     "text": [
      "For the feature 'Epilepsy', the least common label is '1.0' with 6 occurrences. This represents 40.00% of the dataset.\n",
      "The distribution of the feature 'Epilepsy' in this dataset is fine.\n",
      "\n",
      "Quartiles for 'Age':\n",
      "  25%: 24.5\n",
      "  50% (Median): 39.0\n",
      "  75%: 60.5\n",
      "Min: 13.0\n",
      "Max: 77.0\n",
      "The distribution of the feature 'Age' in this dataset is fine.\n",
      "\n",
      "For the feature 'Gender', the least common label is '0.0' with 5 occurrences. This represents 33.33% of the dataset.\n",
      "The distribution of the feature 'Gender' in this dataset is fine.\n",
      "\n"
     ]
    },
    {
     "data": {
      "text/plain": [
       "False"
      ]
     },
     "execution_count": 24,
     "metadata": {},
     "output_type": "execute_result"
    }
   ],
   "source": [
    "is_trait_biased, merged_data = judge_and_remove_biased_features(merged_data, TRAIT, trait_type=trait_type)\n",
    "is_trait_biased"
   ]
  },
  {
   "cell_type": "code",
   "execution_count": 25,
   "metadata": {
    "ExecuteTime": {
     "end_time": "2024-01-02T01:03:35.158803015Z",
     "start_time": "2024-01-02T01:03:35.157063388Z"
    },
    "collapsed": false
   },
   "outputs": [
    {
     "name": "stdout",
     "output_type": "stream",
     "text": [
      "A new JSON file was created at: ../../output1/Haoyang/Epilepsy/cohort_info.json\n"
     ]
    }
   ],
   "source": [
    "save_cohort_info(cohort, JSON_PATH, is_available, is_trait_biased, merged_data, note='')"
   ]
  },
  {
   "cell_type": "code",
   "execution_count": 26,
   "metadata": {
    "ExecuteTime": {
     "end_time": "2024-01-02T01:03:36.004312476Z",
     "start_time": "2024-01-02T01:03:35.157165158Z"
    },
    "collapsed": false
   },
   "outputs": [],
   "source": [
    "merged_data.head()\n",
    "if not is_trait_biased:\n",
    "    merged_data.to_csv(os.path.join(OUTPUT_DIR, cohort+'.csv'), index=False)"
   ]
  },
  {
   "cell_type": "markdown",
   "metadata": {
    "ExecuteTime": {
     "end_time": "2023-12-31T03:58:22.271683755Z",
     "start_time": "2023-12-31T03:58:22.246557674Z"
    },
    "id": "-MTPhRGxJV7I"
   },
   "source": [
    "### 3. Do regression & Cross Validation"
   ]
  },
  {
   "cell_type": "code",
   "execution_count": 22,
   "metadata": {
    "ExecuteTime": {
     "end_time": "2024-01-02T01:03:36.048788605Z",
     "start_time": "2024-01-02T01:03:36.005925887Z"
    },
    "collapsed": false
   },
   "outputs": [],
   "source": [
    "from utils import *"
   ]
  },
  {
   "cell_type": "code",
   "execution_count": 23,
   "metadata": {
    "ExecuteTime": {
     "end_time": "2024-01-02T01:03:36.049183603Z",
     "start_time": "2024-01-02T01:03:36.048440305Z"
    },
    "collapsed": false
   },
   "outputs": [
    {
     "data": {
      "text/plain": [
       "'Xena'"
      ]
     },
     "execution_count": 23,
     "metadata": {},
     "output_type": "execute_result"
    }
   ],
   "source": [
    "best_cohort, ranked_df = filter_and_rank_cohorts(JSON_PATH, 'has_age')\n",
    "best_cohort"
   ]
  },
  {
   "cell_type": "code",
   "execution_count": 24,
   "metadata": {
    "ExecuteTime": {
     "end_time": "2024-01-02T01:03:36.049430313Z",
     "start_time": "2024-01-02T01:03:36.048984361Z"
    },
    "collapsed": false
   },
   "outputs": [
    {
     "data": {
      "text/html": [
       "<div>\n",
       "<style scoped>\n",
       "    .dataframe tbody tr th:only-of-type {\n",
       "        vertical-align: middle;\n",
       "    }\n",
       "\n",
       "    .dataframe tbody tr th {\n",
       "        vertical-align: top;\n",
       "    }\n",
       "\n",
       "    .dataframe thead th {\n",
       "        text-align: right;\n",
       "    }\n",
       "</style>\n",
       "<table border=\"1\" class=\"dataframe\">\n",
       "  <thead>\n",
       "    <tr style=\"text-align: right;\">\n",
       "      <th></th>\n",
       "      <th>cohort_id</th>\n",
       "      <th>is_usable</th>\n",
       "      <th>is_available</th>\n",
       "      <th>is_biased</th>\n",
       "      <th>has_age</th>\n",
       "      <th>has_gender</th>\n",
       "      <th>sample_size</th>\n",
       "      <th>note</th>\n",
       "    </tr>\n",
       "  </thead>\n",
       "  <tbody>\n",
       "    <tr>\n",
       "      <th>0</th>\n",
       "      <td>Xena</td>\n",
       "      <td>True</td>\n",
       "      <td>True</td>\n",
       "      <td>False</td>\n",
       "      <td>True</td>\n",
       "      <td>True</td>\n",
       "      <td>1100</td>\n",
       "      <td></td>\n",
       "    </tr>\n",
       "  </tbody>\n",
       "</table>\n",
       "</div>"
      ],
      "text/plain": [
       "  cohort_id  is_usable  is_available  is_biased  has_age  has_gender  \\\n",
       "0      Xena       True          True      False     True        True   \n",
       "\n",
       "   sample_size note  \n",
       "0         1100       "
      ]
     },
     "execution_count": 24,
     "metadata": {},
     "output_type": "execute_result"
    }
   ],
   "source": [
    "ranked_df.head()"
   ]
  },
  {
   "cell_type": "code",
   "execution_count": 25,
   "metadata": {
    "ExecuteTime": {
     "end_time": "2024-01-02T01:03:36.345375576Z",
     "start_time": "2024-01-02T01:03:36.049289340Z"
    },
    "collapsed": false
   },
   "outputs": [],
   "source": [
    "merged_data = pd.read_csv(os.path.join(OUTPUT_DIR, best_cohort+'.csv'))"
   ]
  },
  {
   "cell_type": "code",
   "execution_count": 26,
   "metadata": {
    "ExecuteTime": {
     "end_time": "2024-01-02T01:03:36.400788548Z",
     "start_time": "2024-01-02T01:03:36.355439168Z"
    },
    "collapsed": false
   },
   "outputs": [
    {
     "data": {
      "text/html": [
       "<div>\n",
       "<style scoped>\n",
       "    .dataframe tbody tr th:only-of-type {\n",
       "        vertical-align: middle;\n",
       "    }\n",
       "\n",
       "    .dataframe tbody tr th {\n",
       "        vertical-align: top;\n",
       "    }\n",
       "\n",
       "    .dataframe thead th {\n",
       "        text-align: right;\n",
       "    }\n",
       "</style>\n",
       "<table border=\"1\" class=\"dataframe\">\n",
       "  <thead>\n",
       "    <tr style=\"text-align: right;\">\n",
       "      <th></th>\n",
       "      <th>Lung-Cancer</th>\n",
       "      <th>Age</th>\n",
       "      <th>Gender</th>\n",
       "      <th>ARHGEF10L</th>\n",
       "      <th>HIF3A</th>\n",
       "      <th>RNF17</th>\n",
       "      <th>RNF10</th>\n",
       "      <th>RNF11</th>\n",
       "      <th>RNF13</th>\n",
       "      <th>GTF2IP1</th>\n",
       "      <th>...</th>\n",
       "      <th>TULP2</th>\n",
       "      <th>NPY5R</th>\n",
       "      <th>GNGT2</th>\n",
       "      <th>GNGT1</th>\n",
       "      <th>TULP3</th>\n",
       "      <th>PTRF</th>\n",
       "      <th>BCL6B</th>\n",
       "      <th>GSTK1</th>\n",
       "      <th>SELP</th>\n",
       "      <th>SELS</th>\n",
       "    </tr>\n",
       "  </thead>\n",
       "  <tbody>\n",
       "    <tr>\n",
       "      <th>0</th>\n",
       "      <td>1</td>\n",
       "      <td>70.0</td>\n",
       "      <td>1.0</td>\n",
       "      <td>-0.056592</td>\n",
       "      <td>2.128674</td>\n",
       "      <td>-0.531035</td>\n",
       "      <td>-0.185972</td>\n",
       "      <td>-0.190878</td>\n",
       "      <td>-0.11891</td>\n",
       "      <td>-0.659794</td>\n",
       "      <td>...</td>\n",
       "      <td>0.015022</td>\n",
       "      <td>-1.155117</td>\n",
       "      <td>0.528367</td>\n",
       "      <td>2.75061</td>\n",
       "      <td>0.428423</td>\n",
       "      <td>-0.639586</td>\n",
       "      <td>-0.195527</td>\n",
       "      <td>-0.324695</td>\n",
       "      <td>0.193167</td>\n",
       "      <td>-0.572812</td>\n",
       "    </tr>\n",
       "    <tr>\n",
       "      <th>1</th>\n",
       "      <td>1</td>\n",
       "      <td>67.0</td>\n",
       "      <td>1.0</td>\n",
       "      <td>-0.569692</td>\n",
       "      <td>-0.318126</td>\n",
       "      <td>-0.531035</td>\n",
       "      <td>0.237428</td>\n",
       "      <td>0.011822</td>\n",
       "      <td>-0.00611</td>\n",
       "      <td>1.018406</td>\n",
       "      <td>...</td>\n",
       "      <td>-0.031778</td>\n",
       "      <td>-0.393117</td>\n",
       "      <td>1.632467</td>\n",
       "      <td>2.33551</td>\n",
       "      <td>-0.145577</td>\n",
       "      <td>-0.997486</td>\n",
       "      <td>-0.276027</td>\n",
       "      <td>-1.219395</td>\n",
       "      <td>1.850967</td>\n",
       "      <td>-0.471212</td>\n",
       "    </tr>\n",
       "    <tr>\n",
       "      <th>2</th>\n",
       "      <td>1</td>\n",
       "      <td>79.0</td>\n",
       "      <td>0.0</td>\n",
       "      <td>-0.899992</td>\n",
       "      <td>-0.918126</td>\n",
       "      <td>-0.531035</td>\n",
       "      <td>-0.621472</td>\n",
       "      <td>-0.454178</td>\n",
       "      <td>0.58719</td>\n",
       "      <td>-0.198894</td>\n",
       "      <td>...</td>\n",
       "      <td>-0.748878</td>\n",
       "      <td>-1.173917</td>\n",
       "      <td>1.966367</td>\n",
       "      <td>-1.28139</td>\n",
       "      <td>-0.374877</td>\n",
       "      <td>0.959514</td>\n",
       "      <td>0.714373</td>\n",
       "      <td>0.112305</td>\n",
       "      <td>-0.532833</td>\n",
       "      <td>-0.003812</td>\n",
       "    </tr>\n",
       "    <tr>\n",
       "      <th>3</th>\n",
       "      <td>1</td>\n",
       "      <td>68.0</td>\n",
       "      <td>1.0</td>\n",
       "      <td>0.667508</td>\n",
       "      <td>3.895974</td>\n",
       "      <td>-0.221535</td>\n",
       "      <td>-0.367272</td>\n",
       "      <td>0.131822</td>\n",
       "      <td>0.97629</td>\n",
       "      <td>-0.494994</td>\n",
       "      <td>...</td>\n",
       "      <td>1.013722</td>\n",
       "      <td>-1.587117</td>\n",
       "      <td>0.359267</td>\n",
       "      <td>2.59051</td>\n",
       "      <td>0.806623</td>\n",
       "      <td>0.812114</td>\n",
       "      <td>0.367373</td>\n",
       "      <td>-0.494595</td>\n",
       "      <td>-1.062233</td>\n",
       "      <td>0.108588</td>\n",
       "    </tr>\n",
       "    <tr>\n",
       "      <th>4</th>\n",
       "      <td>1</td>\n",
       "      <td>66.0</td>\n",
       "      <td>1.0</td>\n",
       "      <td>-0.316892</td>\n",
       "      <td>2.380374</td>\n",
       "      <td>0.156865</td>\n",
       "      <td>0.232828</td>\n",
       "      <td>0.054822</td>\n",
       "      <td>0.27059</td>\n",
       "      <td>0.128606</td>\n",
       "      <td>...</td>\n",
       "      <td>-0.060978</td>\n",
       "      <td>-0.435417</td>\n",
       "      <td>1.111467</td>\n",
       "      <td>-1.28139</td>\n",
       "      <td>-0.128477</td>\n",
       "      <td>0.110214</td>\n",
       "      <td>1.469373</td>\n",
       "      <td>0.194605</td>\n",
       "      <td>1.404667</td>\n",
       "      <td>-0.290712</td>\n",
       "    </tr>\n",
       "  </tbody>\n",
       "</table>\n",
       "<p>5 rows × 20533 columns</p>\n",
       "</div>"
      ],
      "text/plain": [
       "   Lung-Cancer   Age  Gender  ARHGEF10L     HIF3A     RNF17     RNF10  \\\n",
       "0            1  70.0     1.0  -0.056592  2.128674 -0.531035 -0.185972   \n",
       "1            1  67.0     1.0  -0.569692 -0.318126 -0.531035  0.237428   \n",
       "2            1  79.0     0.0  -0.899992 -0.918126 -0.531035 -0.621472   \n",
       "3            1  68.0     1.0   0.667508  3.895974 -0.221535 -0.367272   \n",
       "4            1  66.0     1.0  -0.316892  2.380374  0.156865  0.232828   \n",
       "\n",
       "      RNF11    RNF13   GTF2IP1  ...     TULP2     NPY5R     GNGT2    GNGT1  \\\n",
       "0 -0.190878 -0.11891 -0.659794  ...  0.015022 -1.155117  0.528367  2.75061   \n",
       "1  0.011822 -0.00611  1.018406  ... -0.031778 -0.393117  1.632467  2.33551   \n",
       "2 -0.454178  0.58719 -0.198894  ... -0.748878 -1.173917  1.966367 -1.28139   \n",
       "3  0.131822  0.97629 -0.494994  ...  1.013722 -1.587117  0.359267  2.59051   \n",
       "4  0.054822  0.27059  0.128606  ... -0.060978 -0.435417  1.111467 -1.28139   \n",
       "\n",
       "      TULP3      PTRF     BCL6B     GSTK1      SELP      SELS  \n",
       "0  0.428423 -0.639586 -0.195527 -0.324695  0.193167 -0.572812  \n",
       "1 -0.145577 -0.997486 -0.276027 -1.219395  1.850967 -0.471212  \n",
       "2 -0.374877  0.959514  0.714373  0.112305 -0.532833 -0.003812  \n",
       "3  0.806623  0.812114  0.367373 -0.494595 -1.062233  0.108588  \n",
       "4 -0.128477  0.110214  1.469373  0.194605  1.404667 -0.290712  \n",
       "\n",
       "[5 rows x 20533 columns]"
      ]
     },
     "execution_count": 26,
     "metadata": {},
     "output_type": "execute_result"
    }
   ],
   "source": [
    "merged_data.head()"
   ]
  },
  {
   "cell_type": "code",
   "execution_count": 27,
   "metadata": {
    "ExecuteTime": {
     "end_time": "2024-01-02T01:03:36.401002087Z",
     "start_time": "2024-01-02T01:03:36.400659608Z"
    },
    "collapsed": false
   },
   "outputs": [],
   "source": [
    "# If both age and gender features are available, select 'age' as the condition.\n",
    "condition = 'Age'\n",
    "# Remove the other condition to prevent interference.\n",
    "merged_data = merged_data.drop(columns=['Gender'], errors='ignore').astype('float')"
   ]
  },
  {
   "cell_type": "code",
   "execution_count": 28,
   "metadata": {
    "ExecuteTime": {
     "end_time": "2024-01-02T01:03:36.403035823Z",
     "start_time": "2024-01-02T01:03:36.401081946Z"
    },
    "collapsed": false
   },
   "outputs": [],
   "source": [
    "X = merged_data.drop(columns=[TRAIT, condition]).values\n",
    "Y = merged_data[TRAIT].values\n",
    "Z = merged_data[condition].values"
   ]
  },
  {
   "cell_type": "markdown",
   "metadata": {
    "collapsed": false
   },
   "source": [
    "Select the appropriate regression model depending on whether the dataset shows batch effect."
   ]
  },
  {
   "cell_type": "code",
   "execution_count": 29,
   "metadata": {
    "ExecuteTime": {
     "end_time": "2024-01-02T01:03:36.403263628Z",
     "start_time": "2024-01-02T01:03:36.401336170Z"
    },
    "collapsed": false
   },
   "outputs": [
    {
     "data": {
      "text/plain": [
       "True"
      ]
     },
     "execution_count": 29,
     "metadata": {},
     "output_type": "execute_result"
    }
   ],
   "source": [
    "has_batch_effect = detect_batch_effect(X)\n",
    "has_batch_effect"
   ]
  },
  {
   "cell_type": "code",
   "execution_count": 30,
   "metadata": {
    "ExecuteTime": {
     "end_time": "2024-01-02T01:03:36.475053437Z",
     "start_time": "2024-01-02T01:03:36.444397231Z"
    },
    "collapsed": false
   },
   "outputs": [],
   "source": [
    "if has_batch_effect:\n",
    "    model_constructor = VariableSelection\n",
    "    model_params = {}\n",
    "else:\n",
    "    model_constructor = Lasso\n",
    "    model_params = {'alpha': 1.0, 'random_state': 42}"
   ]
  },
  {
   "cell_type": "code",
   "execution_count": 31,
   "metadata": {
    "ExecuteTime": {
     "end_time": "2024-01-02T01:03:50.733335364Z",
     "start_time": "2024-01-02T01:03:36.444563711Z"
    },
    "collapsed": false
   },
   "outputs": [
    {
     "name": "stderr",
     "output_type": "stream",
     "text": [
      "/home/yxcheng/anaconda3/envs/ai4sci/lib/python3.10/site-packages/sparse_lmm/helpingMethods.py:49: RuntimeWarning: invalid value encountered in divide\n",
      "  ts = beta / np.sqrt(var * sigma)\n",
      "/home/yxcheng/anaconda3/envs/ai4sci/lib/python3.10/site-packages/sparse_lmm/helpingMethods.py:49: RuntimeWarning: invalid value encountered in divide\n",
      "  ts = beta / np.sqrt(var * sigma)\n",
      "/home/yxcheng/anaconda3/envs/ai4sci/lib/python3.10/site-packages/sparse_lmm/helpingMethods.py:49: RuntimeWarning: invalid value encountered in divide\n",
      "  ts = beta / np.sqrt(var * sigma)\n",
      "/home/yxcheng/anaconda3/envs/ai4sci/lib/python3.10/site-packages/sparse_lmm/helpingMethods.py:49: RuntimeWarning: invalid value encountered in divide\n",
      "  ts = beta / np.sqrt(var * sigma)\n",
      "/home/yxcheng/anaconda3/envs/ai4sci/lib/python3.10/site-packages/sparse_lmm/helpingMethods.py:49: RuntimeWarning: invalid value encountered in divide\n",
      "  ts = beta / np.sqrt(var * sigma)\n"
     ]
    },
    {
     "name": "stdout",
     "output_type": "stream",
     "text": [
      "The cross-validation accuracy is 90.00% ± 2.59%\n"
     ]
    }
   ],
   "source": [
    "cv_mean, cv_std = cross_validation(X, Y, Z, model_constructor, model_params, target_type=trait_type)"
   ]
  },
  {
   "cell_type": "code",
   "execution_count": 32,
   "metadata": {
    "ExecuteTime": {
     "end_time": "2024-01-02T01:03:53.587340410Z",
     "start_time": "2024-01-02T01:03:50.732779025Z"
    },
    "collapsed": false
   },
   "outputs": [
    {
     "name": "stderr",
     "output_type": "stream",
     "text": [
      "/home/yxcheng/anaconda3/envs/ai4sci/lib/python3.10/site-packages/sparse_lmm/helpingMethods.py:49: RuntimeWarning: invalid value encountered in divide\n",
      "  ts = beta / np.sqrt(var * sigma)\n"
     ]
    }
   ],
   "source": [
    "# Train regression model on the whole dataset to identify significant genes\n",
    "model = ResidualizationRegressor(model_constructor, model_params)\n",
    "normalized_X, _ = normalize_data(X)\n",
    "normalized_Z, _ = normalize_data(Z)\n",
    "model.fit(normalized_X, Y, normalized_Z)"
   ]
  },
  {
   "cell_type": "markdown",
   "metadata": {
    "ExecuteTime": {
     "end_time": "2023-10-14T04:50:59.072075075Z",
     "start_time": "2023-10-14T04:50:38.739499998Z"
    },
    "id": "EjJrxbvb4nlj"
   },
   "source": [
    "### 5. Discussion and report"
   ]
  },
  {
   "cell_type": "code",
   "execution_count": 33,
   "metadata": {
    "ExecuteTime": {
     "end_time": "2024-01-02T01:03:53.641570844Z",
     "start_time": "2024-01-02T01:03:53.627778553Z"
    },
    "collapsed": false
   },
   "outputs": [
    {
     "name": "stdout",
     "output_type": "stream",
     "text": [
      "Effect of the condition on the target variable:\n",
      "Variable: Age\n",
      "Coefficient: -0.0077\n",
      "Found 18 significant genes associated with the trait 'Lung-Cancer' conditional on the factor 'Age', with corrected p-value < 0.05:\n",
      " Variable  Coefficient  corrected_p_value\n",
      "    IGLL3     0.022455           0.000648\n",
      "    MEX3A     0.060728           0.001414\n",
      "  SLC19A1    -0.038219           0.004315\n",
      "     ETV4     0.040772           0.008092\n",
      "   CRABP2     0.034456           0.015395\n",
      "  DEFB118     0.027631           0.024619\n",
      "      IL3    -0.015945           0.024619\n",
      "   FAM83A     0.042872           0.024619\n",
      "     NUF2     0.068190           0.026903\n",
      "    HMGB3     0.040094           0.034223\n",
      "LOC256880     0.025203           0.034223\n",
      "  PLEKHN1     0.044826           0.034223\n",
      "     SPP1     0.031087           0.034223\n",
      "    EPB42    -0.019816           0.034223\n",
      "    CENPM    -0.051245           0.036161\n",
      "   NPIPL3    -0.034667           0.037281\n",
      "     RCC1     0.039127           0.042635\n",
      " C1orf141     0.028997           0.042635\n"
     ]
    },
    {
     "name": "stderr",
     "output_type": "stream",
     "text": [
      "/home/yxcheng/AI4Science_gold_standard/stage1/Yuxuan/utils.py:425: SettingWithCopyWarning: \n",
      "A value is trying to be set on a copy of a slice from a DataFrame.\n",
      "Try using .loc[row_indexer,col_indexer] = value instead\n",
      "\n",
      "See the caveats in the documentation: https://pandas.pydata.org/pandas-docs/stable/user_guide/indexing.html#returning-a-view-versus-a-copy\n",
      "  gene_regression_df.loc[:, 'corrected_p_value'] = corrected_p_values\n"
     ]
    }
   ],
   "source": [
    "feature_cols = merged_data.columns.tolist()\n",
    "feature_cols.remove(TRAIT)\n",
    "\n",
    "if has_batch_effect:\n",
    "    report_result_from_lmm(model, feature_cols, TRAIT, condition, threshold=0.05, save_output=True,\n",
    "                           output_dir=OUTPUT_DIR)\n",
    "else:\n",
    "    report_result_from_lasso(model, feature_cols, TRAIT, condition, save_output=True, output_dir=OUTPUT_DIR)"
   ]
  },
  {
   "cell_type": "code",
   "execution_count": null,
   "metadata": {
    "collapsed": false
   },
   "outputs": [],
   "source": []
  }
 ],
 "metadata": {
  "colab": {
   "provenance": []
  },
  "kernelspec": {
   "display_name": "Python 3 (ipykernel)",
   "language": "python",
   "name": "python3"
  },
  "language_info": {
   "codemirror_mode": {
    "name": "ipython",
    "version": 3
   },
   "file_extension": ".py",
   "mimetype": "text/x-python",
   "name": "python",
   "nbconvert_exporter": "python",
   "pygments_lexer": "ipython3",
   "version": "3.9.12"
  }
 },
 "nbformat": 4,
 "nbformat_minor": 0
}
