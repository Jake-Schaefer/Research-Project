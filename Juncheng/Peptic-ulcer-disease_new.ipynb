{
 "cells": [
  {
   "cell_type": "markdown",
   "metadata": {
    "collapsed": false
   },
   "source": [
    "# Gold standard curation: Preprocessing and single-step regression"
   ]
  },
  {
   "cell_type": "markdown",
   "metadata": {
    "collapsed": false
   },
   "source": [
    "In this stage of gold standard curation, we will do the data preprocessing, selection, and single-step regression for the 153 traits in our question set. The workflow consists of the following steps:\n",
    "\n",
    "1. Preprocess all the cohorts related to this trait. Each cohort should be converted to a tabular form and saved to a csv file, with columns being genetic factors, the trait, and age, gender if available;\n",
    "2. If there exists at least one cohort with age or gender information, conduct regression analysis with genetic features together with age or gender as the regressors.\n"
   ]
  },
  {
   "cell_type": "markdown",
   "metadata": {
    "collapsed": false
   },
   "source": [
    "# 1. Basic setup"
   ]
  },
  {
   "cell_type": "code",
   "execution_count": 122,
   "metadata": {
    "ExecuteTime": {
     "end_time": "2024-01-02T01:02:53.240839272Z",
     "start_time": "2024-01-02T01:02:53.240575109Z"
    },
    "collapsed": false
   },
   "outputs": [],
   "source": [
    "import os\n",
    "import sys\n",
    "\n",
    "sys.path.append('..')\n",
    "# Set your preferred name\n",
    "USER = \"Juncheng\"\n",
    "# Set the data and output directories\n",
    "DATA_ROOT = '/Users/Henry/Desktop/uiuc/大二下/independent study/part 1'\n",
    "OUTPUT_ROOT = '../pud-output1'\n",
    "TRAIT = 'Peptic ulcer disease'\n",
    "\n",
    "OUTPUT_DIR = os.path.join(OUTPUT_ROOT, USER, '-'.join(TRAIT.split()))\n",
    "JSON_PATH = os.path.join(OUTPUT_DIR, \"cohort_info.json\")\n",
    "if not os.path.exists(OUTPUT_DIR):\n",
    "    os.makedirs(OUTPUT_DIR, exist_ok=True)\n",
    "\n",
    "# Gene symbol normalization may take 1-2 minutes. You may set it to False for debugging.\n",
    "NORMALIZE_GENE = True"
   ]
  },
  {
   "cell_type": "code",
   "execution_count": 123,
   "metadata": {
    "ExecuteTime": {
     "end_time": "2024-01-02T01:02:53.501910797Z",
     "start_time": "2024-01-02T01:02:53.496254990Z"
    },
    "colab": {
     "base_uri": "https://localhost:8080/"
    },
    "id": "jMTdsU43vVg3",
    "outputId": "38886111-f442-44b4-8398-96bf384d7abd"
   },
   "outputs": [
    {
     "data": {
      "text/plain": [
       "\"import os\\nfrom google.colab import drive\\n\\ndrive.mount('/content/drive', force_remount=True)\\nproj_dir = '/content/drive/MyDrive/AI4Science_Public'\\nos.chdir(proj_dir)\""
      ]
     },
     "execution_count": 123,
     "metadata": {},
     "output_type": "execute_result"
    }
   ],
   "source": [
    "# This cell is only for use on Google Colab. Skip it if you run your code in other environments\n",
    "\n",
    "\"\"\"import os\n",
    "from google.colab import drive\n",
    "\n",
    "drive.mount('/content/drive', force_remount=True)\n",
    "proj_dir = '/content/drive/MyDrive/AI4Science_Public'\n",
    "os.chdir(proj_dir)\"\"\""
   ]
  },
  {
   "cell_type": "markdown",
   "metadata": {
    "collapsed": false
   },
   "source": [
    "# 2. Data preprocessing and selection"
   ]
  },
  {
   "cell_type": "markdown",
   "metadata": {
    "collapsed": false
   },
   "source": [
    "## 2.1. The TCGA Xena dataset"
   ]
  },
  {
   "cell_type": "markdown",
   "metadata": {
    "collapsed": false
   },
   "source": [
    "In TCGA Xena, there is either zero or one cohort related to the trait. We search the names of subdirectories to see if any matches the trait. If a match is found, we directly obtain the file paths."
   ]
  },
  {
   "cell_type": "code",
   "execution_count": 124,
   "metadata": {
    "ExecuteTime": {
     "end_time": "2024-01-02T01:02:56.462746833Z",
     "start_time": "2024-01-02T01:02:55.818581842Z"
    },
    "collapsed": false
   },
   "outputs": [
    {
     "data": {
      "text/plain": [
       "['TCGA_Colon_and_Rectal_Cancer_(COADREAD)',\n",
       " 'TCGA_Ocular_melanomas_(UVM)',\n",
       " 'TCGA_Lower_Grade_Glioma_(LGG)',\n",
       " 'CrawlData.ipynb',\n",
       " 'TCGA_Mesothelioma_(MESO)',\n",
       " 'TCGA_Pancreatic_Cancer_(PAAD)',\n",
       " 'TCGA_Bladder_Cancer_(BLCA)',\n",
       " '.DS_Store',\n",
       " 'TCGA_Kidney_Clear_Cell_Carcinoma_(KIRC)',\n",
       " 'TCGA_Head_and_Neck_Cancer_(HNSC)',\n",
       " 'TCGA_Lung_Cancer_(LUNG)',\n",
       " 'TCGA_Ovarian_Cancer_(OV)',\n",
       " 'TCGA_Testicular_Cancer_(TGCT)',\n",
       " 'TCGA_lower_grade_glioma_and_glioblastoma_(GBMLGG)',\n",
       " 'TCGA_Liver_Cancer_(LIHC)',\n",
       " 'TCGA_Uterine_Carcinosarcoma_(UCS)',\n",
       " 'TCGA_Cervical_Cancer_(CESC)',\n",
       " 'TCGA_Colon_Cancer_(COAD)',\n",
       " 'TCGA_Acute_Myeloid_Leukemia_(LAML)',\n",
       " 'TCGA_Kidney_Papillary_Cell_Carcinoma_(KIRP)',\n",
       " 'TCGA_Endometrioid_Cancer_(UCEC)',\n",
       " 'TCGA_Rectal_Cancer_(READ)',\n",
       " 'TCGA_Melanoma_(SKCM)',\n",
       " 'TCGA_Breast_Cancer_(BRCA)',\n",
       " 'TCGA_Prostate_Cancer_(PRAD)',\n",
       " 'TCGA_Lung_Squamous_Cell_Carcinoma_(LUSC)',\n",
       " 'TCGA_Stomach_Cancer_(STAD)',\n",
       " 'TCGA_Large_Bcell_Lymphoma_(DLBC)',\n",
       " 'TCGA_Thyroid_Cancer_(THCA)',\n",
       " 'TCGA_Glioblastoma_(GBM)',\n",
       " 'TCGA_Kidney_Chromophobe_(KICH)',\n",
       " 'TCGA_Sarcoma_(SARC)',\n",
       " 'TCGA_Lung_Adenocarcinoma_(LUAD)',\n",
       " 'TCGA_Esophageal_Cancer_(ESCA)',\n",
       " 'TCGA_Bile_Duct_Cancer_(CHOL)',\n",
       " 'TCGA_Thymoma_(THYM)',\n",
       " 'TCGA_Pheochromocytoma_Paraganglioma_(PCPG)',\n",
       " 'TCGA_Adrenocortical_Cancer_(ACC)']"
      ]
     },
     "execution_count": 124,
     "metadata": {},
     "output_type": "execute_result"
    }
   ],
   "source": [
    "import os\n",
    "from utils import *\n",
    "\n",
    "dataset = 'TCGA'\n",
    "dataset_dir = os.path.join(DATA_ROOT, dataset)\n",
    "os.listdir(dataset_dir)[:]"
   ]
  },
  {
   "cell_type": "markdown",
   "metadata": {
    "collapsed": false
   },
   "source": [
    "If no match is found, jump directly to GEO in Part 2.2"
   ]
  },
  {
   "cell_type": "code",
   "execution_count": 125,
   "metadata": {
    "collapsed": false
   },
   "outputs": [],
   "source": [
    "trait_subdir = \"TCGA_Lung_Cancer_(LUNG)\"\n",
    "cohort = 'Xena'\n",
    "# All the cancer traits in Xena are binary\n",
    "trait_type = 'binary'\n",
    "# Once a relevant cohort is found in Xena, we can generally assume the gene and clinical data are available\n",
    "is_available = True\n",
    "\n",
    "clinical_data_file = os.path.join(dataset_dir, trait_subdir, 'TCGA.LUNG.sampleMap_LUNG_clinicalMatrix')\n",
    "genetic_data_file = os.path.join(dataset_dir, trait_subdir, 'TCGA.LUNG.sampleMap_HiSeqV2_PANCAN.gz')"
   ]
  },
  {
   "cell_type": "code",
   "execution_count": 126,
   "metadata": {
    "id": "MudwB-_iz7sc"
   },
   "outputs": [],
   "source": [
    "import pandas as pd\n",
    "\n",
    "clinical_data = pd.read_csv(clinical_data_file, sep='\\t', index_col=0)\n",
    "genetic_data = pd.read_csv(genetic_data_file, compression='gzip', sep='\\t', index_col=0)\n",
    "age_col = gender_col = None"
   ]
  },
  {
   "cell_type": "code",
   "execution_count": 127,
   "metadata": {
    "collapsed": false
   },
   "outputs": [],
   "source": [
    "_, clinical_data_cols = check_rows_and_columns(clinical_data)"
   ]
  },
  {
   "cell_type": "code",
   "execution_count": 128,
   "metadata": {
    "collapsed": false
   },
   "outputs": [
    {
     "data": {
      "text/plain": [
       "['ABSOLUTE_Ploidy',\n",
       " 'ABSOLUTE_Purity',\n",
       " 'AKT1',\n",
       " 'ALK_translocation',\n",
       " 'BRAF',\n",
       " 'CBL',\n",
       " 'CTNNB1',\n",
       " 'Canonical_mut_in_KRAS_EGFR_ALK',\n",
       " 'Cnncl_mt_n_KRAS_EGFR_ALK_RET_ROS1_BRAF_ERBB2_HRAS_NRAS_AKT1_MAP2',\n",
       " 'EGFR']"
      ]
     },
     "execution_count": 128,
     "metadata": {},
     "output_type": "execute_result"
    }
   ],
   "source": [
    "clinical_data_cols[:10]"
   ]
  },
  {
   "cell_type": "markdown",
   "metadata": {
    "ExecuteTime": {
     "end_time": "2023-12-28T20:20:11.841042813Z",
     "start_time": "2023-12-28T20:20:11.834458206Z"
    },
    "collapsed": false
   },
   "source": [
    "Read all the column names in the clinical dataset, to find the columns that record information about age or gender.\n",
    "Reference prompt:"
   ]
  },
  {
   "cell_type": "code",
   "execution_count": 129,
   "metadata": {
    "collapsed": false
   },
   "outputs": [
    {
     "data": {
      "text/plain": [
       "\"\\nBelow is a list of column names from a biomedical dataset. Please examine it and identify the columns that are likely to contain information about patients' age. Additionally, please do the same for columns that may hold data on patients' gender. Please provide your answer by strictly following this format, without redundant words:\\ncandidate_age_cols = [col_name1, col_name2, ...]\\ncandidate_gender_cols = [col_name1, col_name2, ...]\\nIf no columns match a criterion, please provide an empty list.\\n\\nColumn names:\\n['ABSOLUTE_Ploidy', 'ABSOLUTE_Purity', 'AKT1', 'ALK_translocation', 'BRAF', 'CBL', 'CTNNB1', 'Canonical_mut_in_KRAS_EGFR_ALK', 'Cnncl_mt_n_KRAS_EGFR_ALK_RET_ROS1_BRAF_ERBB2_HRAS_NRAS_AKT1_MAP2', 'EGFR', 'ERBB2', 'ERBB4', 'Estimated_allele_fraction_of_a_clonal_varnt_prsnt_t_1_cpy_pr_cll', 'Expression_Subtype', 'HRAS', 'KRAS', 'MAP2K1', 'MET', 'NRAS', 'PIK3CA', 'PTPN11', 'Pathology', 'Pathology_Updated', 'RET_translocation', 'ROS1_translocation', 'STK11', 'WGS_as_of_20120731_0_no_1_yes', '_INTEGRATION', '_PANCAN_CNA_PANCAN_K8', '_PANCAN_Cluster_Cluster_PANCAN', '_PANCAN_DNAMethyl_PANCAN', '_PANCAN_RPPA_PANCAN_K8', '_PANCAN_UNC_RNAseq_PANCAN_K16', '_PANCAN_miRNA_PANCAN', '_PANCAN_mutation_PANCAN', '_PATIENT', '_cohort', '_primary_disease', '_primary_site', 'additional_pharmaceutical_therapy', 'additional_radiation_therapy', 'additional_surgery_locoregional_procedure', 'additional_surgery_metastatic_procedure', 'age_at_initial_pathologic_diagnosis', 'anatomic_neoplasm_subdivision', 'anatomic_neoplasm_subdivision_other', 'bcr_followup_barcode', 'bcr_patient_barcode', 'bcr_sample_barcode', 'days_to_additional_surgery_locoregional_procedure', 'days_to_additional_surgery_metastatic_procedure', 'days_to_birth', 'days_to_collection', 'days_to_death', 'days_to_initial_pathologic_diagnosis', 'days_to_last_followup', 'days_to_new_tumor_event_after_initial_treatment', 'disease_code', 'dlco_predictive_percent', 'eastern_cancer_oncology_group', 'egfr_mutation_performed', 'egfr_mutation_result', 'eml4_alk_translocation_method', 'eml4_alk_translocation_performed', 'followup_case_report_form_submission_reason', 'followup_treatment_success', 'form_completion_date', 'gender', 'histological_type', 'history_of_neoadjuvant_treatment', 'icd_10', 'icd_o_3_histology', 'icd_o_3_site', 'informed_consent_verified', 'initial_weight', 'intermediate_dimension', 'is_ffpe', 'karnofsky_performance_score', 'kras_gene_analysis_performed', 'kras_mutation_found', 'kras_mutation_result', 'location_in_lung_parenchyma', 'longest_dimension', 'lost_follow_up', 'new_neoplasm_event_type', 'new_tumor_event_after_initial_treatment', 'number_pack_years_smoked', 'oct_embedded', 'other_dx', 'pathologic_M', 'pathologic_N', 'pathologic_T', 'pathologic_stage', 'pathology_report_file_name', 'patient_id', 'performance_status_scale_timing', 'person_neoplasm_cancer_status', 'post_bronchodilator_fev1_fvc_percent', 'post_bronchodilator_fev1_percent', 'pre_bronchodilator_fev1_fvc_percent', 'pre_bronchodilator_fev1_percent', 'primary_therapy_outcome_success', 'progression_determined_by', 'project_code', 'pulmonary_function_test_performed', 'radiation_therapy', 'residual_tumor', 'sample_type', 'sample_type_id', 'shortest_dimension', 'stopped_smoking_year', 'system_version', 'targeted_molecular_therapy', 'tissue_prospective_collection_indicator', 'tissue_retrospective_collection_indicator', 'tissue_source_site', 'tobacco_smoking_history', 'tobacco_smoking_history_indicator', 'tumor_tissue_site', 'vial_number', 'vital_status', 'year_of_initial_pathologic_diagnosis', 'year_of_tobacco_smoking_onset', '_GENOMIC_ID_TCGA_LUNG_exp_HiSeqV2_exon', '_GENOMIC_ID_TCGA_LUNG_hMethyl27', '_GENOMIC_ID_TCGA_LUNG_mutation', '_GENOMIC_ID_TCGA_LUNG_exp_HiSeqV2_PANCAN', '_GENOMIC_ID_TCGA_LUNG_hMethyl450', '_GENOMIC_ID_TCGA_LUNG_gistic2thd', '_GENOMIC_ID_TCGA_LUNG_G4502A_07_3', '_GENOMIC_ID_TCGA_LUNG_exp_HiSeqV2', '_GENOMIC_ID_TCGA_LUNG_gistic2', '_GENOMIC_ID_TCGA_LUNG_RPPA_RBN']\\n\""
      ]
     },
     "execution_count": 129,
     "metadata": {},
     "output_type": "execute_result"
    }
   ],
   "source": [
    "f'''\n",
    "Below is a list of column names from a biomedical dataset. Please examine it and identify the columns that are likely to contain information about patients' age. Additionally, please do the same for columns that may hold data on patients' gender. Please provide your answer by strictly following this format, without redundant words:\n",
    "candidate_age_cols = [col_name1, col_name2, ...]\n",
    "candidate_gender_cols = [col_name1, col_name2, ...]\n",
    "If no columns match a criterion, please provide an empty list.\n",
    "\n",
    "Column names:\n",
    "{clinical_data_cols}\n",
    "'''"
   ]
  },
  {
   "cell_type": "code",
   "execution_count": 130,
   "metadata": {
    "collapsed": false
   },
   "outputs": [],
   "source": [
    "candidate_age_cols = ['age_at_initial_pathologic_diagnosis', 'days_to_birth', 'days_to_collection', 'days_to_death', 'days_to_initial_pathologic_diagnosis', 'days_to_last_followup', 'days_to_new_tumor_event_after_initial_treatment', 'stopped_smoking_year', 'year_of_initial_pathologic_diagnosis', 'year_of_tobacco_smoking_onset']\n",
    "\n",
    "candidate_gender_cols = ['gender']"
   ]
  },
  {
   "cell_type": "markdown",
   "metadata": {
    "ExecuteTime": {
     "end_time": "2023-12-31T03:57:44.207565572Z",
     "start_time": "2023-12-31T03:57:44.202177544Z"
    },
    "collapsed": false
   },
   "source": [
    "Choose a single column from the candidate columns that record age and gender information respectively.\n",
    "If no column meets the requirement, keep 'age_col' or 'gender_col' to None"
   ]
  },
  {
   "cell_type": "code",
   "execution_count": 131,
   "metadata": {
    "collapsed": false
   },
   "outputs": [
    {
     "data": {
      "text/plain": [
       "{'age_at_initial_pathologic_diagnosis': [70.0, 67.0, 79.0, 68.0, 66.0],\n",
       " 'days_to_birth': [-25752.0, -24532.0, -29068.0, -24868.0, -24411.0],\n",
       " 'days_to_collection': [nan, nan, nan, nan, nan],\n",
       " 'days_to_death': [nan, nan, '121', nan, nan],\n",
       " 'days_to_initial_pathologic_diagnosis': [0.0, 0.0, 0.0, 0.0, 0.0],\n",
       " 'days_to_last_followup': ['0', '1523', nan, '607', '426'],\n",
       " 'days_to_new_tumor_event_after_initial_treatment': [nan,\n",
       "  nan,\n",
       "  nan,\n",
       "  334.0,\n",
       "  183.0],\n",
       " 'stopped_smoking_year': [nan, nan, nan, nan, 1987.0],\n",
       " 'year_of_initial_pathologic_diagnosis': [2009.0,\n",
       "  2007.0,\n",
       "  2007.0,\n",
       "  2009.0,\n",
       "  2009.0],\n",
       " 'year_of_tobacco_smoking_onset': [nan, nan, nan, nan, 1963.0]}"
      ]
     },
     "execution_count": 131,
     "metadata": {},
     "output_type": "execute_result"
    }
   ],
   "source": [
    "preview_df(clinical_data[candidate_age_cols])"
   ]
  },
  {
   "cell_type": "code",
   "execution_count": 132,
   "metadata": {
    "collapsed": false
   },
   "outputs": [],
   "source": [
    "age_col = 'age_at_initial_pathologic_diagnosis'"
   ]
  },
  {
   "cell_type": "code",
   "execution_count": 133,
   "metadata": {
    "collapsed": false
   },
   "outputs": [
    {
     "data": {
      "text/plain": [
       "{'gender': ['MALE', 'MALE', 'FEMALE', 'MALE', 'MALE']}"
      ]
     },
     "execution_count": 133,
     "metadata": {},
     "output_type": "execute_result"
    }
   ],
   "source": [
    "preview_df(clinical_data[candidate_gender_cols])"
   ]
  },
  {
   "cell_type": "code",
   "execution_count": 134,
   "metadata": {
    "collapsed": false
   },
   "outputs": [],
   "source": [
    "gender_col = 'gender'"
   ]
  },
  {
   "cell_type": "code",
   "execution_count": 135,
   "metadata": {
    "collapsed": false
   },
   "outputs": [],
   "source": [
    "selected_clinical_data = xena_select_clinical_features(clinical_data, TRAIT, age_col, gender_col)"
   ]
  },
  {
   "cell_type": "code",
   "execution_count": 136,
   "metadata": {
    "collapsed": false
   },
   "outputs": [],
   "source": [
    "if NORMALIZE_GENE:\n",
    "    genetic_data = normalize_gene_symbols_in_index(genetic_data)"
   ]
  },
  {
   "cell_type": "code",
   "execution_count": 137,
   "metadata": {
    "collapsed": false
   },
   "outputs": [
    {
     "data": {
      "text/html": [
       "<div>\n",
       "<style scoped>\n",
       "    .dataframe tbody tr th:only-of-type {\n",
       "        vertical-align: middle;\n",
       "    }\n",
       "\n",
       "    .dataframe tbody tr th {\n",
       "        vertical-align: top;\n",
       "    }\n",
       "\n",
       "    .dataframe thead th {\n",
       "        text-align: right;\n",
       "    }\n",
       "</style>\n",
       "<table border=\"1\" class=\"dataframe\">\n",
       "  <thead>\n",
       "    <tr style=\"text-align: right;\">\n",
       "      <th></th>\n",
       "      <th>Peptic ulcer disease</th>\n",
       "      <th>Age</th>\n",
       "      <th>Gender</th>\n",
       "      <th>ARHGEF10L</th>\n",
       "      <th>HIF3A</th>\n",
       "      <th>RNF17</th>\n",
       "      <th>RNF10</th>\n",
       "      <th>RNF11</th>\n",
       "      <th>RNF13</th>\n",
       "      <th>GTF2IP1</th>\n",
       "      <th>...</th>\n",
       "      <th>SLC7A10</th>\n",
       "      <th>PLA2G2C</th>\n",
       "      <th>TULP2</th>\n",
       "      <th>NPY5R</th>\n",
       "      <th>GNGT2</th>\n",
       "      <th>GNGT1</th>\n",
       "      <th>TULP3</th>\n",
       "      <th>BCL6B</th>\n",
       "      <th>GSTK1</th>\n",
       "      <th>SELP</th>\n",
       "    </tr>\n",
       "    <tr>\n",
       "      <th>sampleID</th>\n",
       "      <th></th>\n",
       "      <th></th>\n",
       "      <th></th>\n",
       "      <th></th>\n",
       "      <th></th>\n",
       "      <th></th>\n",
       "      <th></th>\n",
       "      <th></th>\n",
       "      <th></th>\n",
       "      <th></th>\n",
       "      <th></th>\n",
       "      <th></th>\n",
       "      <th></th>\n",
       "      <th></th>\n",
       "      <th></th>\n",
       "      <th></th>\n",
       "      <th></th>\n",
       "      <th></th>\n",
       "      <th></th>\n",
       "      <th></th>\n",
       "      <th></th>\n",
       "    </tr>\n",
       "  </thead>\n",
       "  <tbody>\n",
       "    <tr>\n",
       "      <th>TCGA-05-4244-01</th>\n",
       "      <td>1</td>\n",
       "      <td>70.0</td>\n",
       "      <td>1.0</td>\n",
       "      <td>-0.056592</td>\n",
       "      <td>2.128674</td>\n",
       "      <td>-0.531035</td>\n",
       "      <td>-0.185972</td>\n",
       "      <td>-0.190878</td>\n",
       "      <td>-0.11891</td>\n",
       "      <td>-0.659794</td>\n",
       "      <td>...</td>\n",
       "      <td>3.634614</td>\n",
       "      <td>0.677218</td>\n",
       "      <td>0.015022</td>\n",
       "      <td>-1.155117</td>\n",
       "      <td>0.528367</td>\n",
       "      <td>2.75061</td>\n",
       "      <td>0.428423</td>\n",
       "      <td>-0.195527</td>\n",
       "      <td>-0.324695</td>\n",
       "      <td>0.193167</td>\n",
       "    </tr>\n",
       "    <tr>\n",
       "      <th>TCGA-05-4249-01</th>\n",
       "      <td>1</td>\n",
       "      <td>67.0</td>\n",
       "      <td>1.0</td>\n",
       "      <td>-0.569692</td>\n",
       "      <td>-0.318126</td>\n",
       "      <td>-0.531035</td>\n",
       "      <td>0.237428</td>\n",
       "      <td>0.011822</td>\n",
       "      <td>-0.00611</td>\n",
       "      <td>1.018406</td>\n",
       "      <td>...</td>\n",
       "      <td>4.908014</td>\n",
       "      <td>0.888518</td>\n",
       "      <td>-0.031778</td>\n",
       "      <td>-0.393117</td>\n",
       "      <td>1.632467</td>\n",
       "      <td>2.33551</td>\n",
       "      <td>-0.145577</td>\n",
       "      <td>-0.276027</td>\n",
       "      <td>-1.219395</td>\n",
       "      <td>1.850967</td>\n",
       "    </tr>\n",
       "    <tr>\n",
       "      <th>TCGA-05-4250-01</th>\n",
       "      <td>1</td>\n",
       "      <td>79.0</td>\n",
       "      <td>0.0</td>\n",
       "      <td>-0.899992</td>\n",
       "      <td>-0.918126</td>\n",
       "      <td>-0.531035</td>\n",
       "      <td>-0.621472</td>\n",
       "      <td>-0.454178</td>\n",
       "      <td>0.58719</td>\n",
       "      <td>-0.198894</td>\n",
       "      <td>...</td>\n",
       "      <td>0.489514</td>\n",
       "      <td>-0.086682</td>\n",
       "      <td>-0.748878</td>\n",
       "      <td>-1.173917</td>\n",
       "      <td>1.966367</td>\n",
       "      <td>-1.28139</td>\n",
       "      <td>-0.374877</td>\n",
       "      <td>0.714373</td>\n",
       "      <td>0.112305</td>\n",
       "      <td>-0.532833</td>\n",
       "    </tr>\n",
       "    <tr>\n",
       "      <th>TCGA-05-4382-01</th>\n",
       "      <td>1</td>\n",
       "      <td>68.0</td>\n",
       "      <td>1.0</td>\n",
       "      <td>0.667508</td>\n",
       "      <td>3.895974</td>\n",
       "      <td>-0.221535</td>\n",
       "      <td>-0.367272</td>\n",
       "      <td>0.131822</td>\n",
       "      <td>0.97629</td>\n",
       "      <td>-0.494994</td>\n",
       "      <td>...</td>\n",
       "      <td>5.730914</td>\n",
       "      <td>-0.086682</td>\n",
       "      <td>1.013722</td>\n",
       "      <td>-1.587117</td>\n",
       "      <td>0.359267</td>\n",
       "      <td>2.59051</td>\n",
       "      <td>0.806623</td>\n",
       "      <td>0.367373</td>\n",
       "      <td>-0.494595</td>\n",
       "      <td>-1.062233</td>\n",
       "    </tr>\n",
       "    <tr>\n",
       "      <th>TCGA-05-4384-01</th>\n",
       "      <td>1</td>\n",
       "      <td>66.0</td>\n",
       "      <td>1.0</td>\n",
       "      <td>-0.316892</td>\n",
       "      <td>2.380374</td>\n",
       "      <td>0.156865</td>\n",
       "      <td>0.232828</td>\n",
       "      <td>0.054822</td>\n",
       "      <td>0.27059</td>\n",
       "      <td>0.128606</td>\n",
       "      <td>...</td>\n",
       "      <td>4.163014</td>\n",
       "      <td>0.601218</td>\n",
       "      <td>-0.060978</td>\n",
       "      <td>-0.435417</td>\n",
       "      <td>1.111467</td>\n",
       "      <td>-1.28139</td>\n",
       "      <td>-0.128477</td>\n",
       "      <td>1.469373</td>\n",
       "      <td>0.194605</td>\n",
       "      <td>1.404667</td>\n",
       "    </tr>\n",
       "  </tbody>\n",
       "</table>\n",
       "<p>5 rows × 17342 columns</p>\n",
       "</div>"
      ],
      "text/plain": [
       "                 Peptic ulcer disease   Age  Gender  ARHGEF10L     HIF3A  \\\n",
       "sampleID                                                                   \n",
       "TCGA-05-4244-01                     1  70.0     1.0  -0.056592  2.128674   \n",
       "TCGA-05-4249-01                     1  67.0     1.0  -0.569692 -0.318126   \n",
       "TCGA-05-4250-01                     1  79.0     0.0  -0.899992 -0.918126   \n",
       "TCGA-05-4382-01                     1  68.0     1.0   0.667508  3.895974   \n",
       "TCGA-05-4384-01                     1  66.0     1.0  -0.316892  2.380374   \n",
       "\n",
       "                    RNF17     RNF10     RNF11    RNF13   GTF2IP1  ...  \\\n",
       "sampleID                                                          ...   \n",
       "TCGA-05-4244-01 -0.531035 -0.185972 -0.190878 -0.11891 -0.659794  ...   \n",
       "TCGA-05-4249-01 -0.531035  0.237428  0.011822 -0.00611  1.018406  ...   \n",
       "TCGA-05-4250-01 -0.531035 -0.621472 -0.454178  0.58719 -0.198894  ...   \n",
       "TCGA-05-4382-01 -0.221535 -0.367272  0.131822  0.97629 -0.494994  ...   \n",
       "TCGA-05-4384-01  0.156865  0.232828  0.054822  0.27059  0.128606  ...   \n",
       "\n",
       "                  SLC7A10   PLA2G2C     TULP2     NPY5R     GNGT2    GNGT1  \\\n",
       "sampleID                                                                     \n",
       "TCGA-05-4244-01  3.634614  0.677218  0.015022 -1.155117  0.528367  2.75061   \n",
       "TCGA-05-4249-01  4.908014  0.888518 -0.031778 -0.393117  1.632467  2.33551   \n",
       "TCGA-05-4250-01  0.489514 -0.086682 -0.748878 -1.173917  1.966367 -1.28139   \n",
       "TCGA-05-4382-01  5.730914 -0.086682  1.013722 -1.587117  0.359267  2.59051   \n",
       "TCGA-05-4384-01  4.163014  0.601218 -0.060978 -0.435417  1.111467 -1.28139   \n",
       "\n",
       "                    TULP3     BCL6B     GSTK1      SELP  \n",
       "sampleID                                                 \n",
       "TCGA-05-4244-01  0.428423 -0.195527 -0.324695  0.193167  \n",
       "TCGA-05-4249-01 -0.145577 -0.276027 -1.219395  1.850967  \n",
       "TCGA-05-4250-01 -0.374877  0.714373  0.112305 -0.532833  \n",
       "TCGA-05-4382-01  0.806623  0.367373 -0.494595 -1.062233  \n",
       "TCGA-05-4384-01 -0.128477  1.469373  0.194605  1.404667  \n",
       "\n",
       "[5 rows x 17342 columns]"
      ]
     },
     "execution_count": 137,
     "metadata": {},
     "output_type": "execute_result"
    }
   ],
   "source": [
    "merged_data = selected_clinical_data.join(genetic_data.T).dropna()\n",
    "merged_data.head()"
   ]
  },
  {
   "cell_type": "code",
   "execution_count": 138,
   "metadata": {
    "collapsed": false
   },
   "outputs": [
    {
     "name": "stdout",
     "output_type": "stream",
     "text": [
      "The merged dataset contains 1100 samples.\n"
     ]
    }
   ],
   "source": [
    "print(f\"The merged dataset contains {len(merged_data)} samples.\")"
   ]
  },
  {
   "cell_type": "code",
   "execution_count": 139,
   "metadata": {
    "collapsed": false
   },
   "outputs": [
    {
     "name": "stdout",
     "output_type": "stream",
     "text": [
      "For the feature 'Peptic ulcer disease', the least common label is '0' with 110 occurrences. This represents 10.00% of the dataset.\n",
      "The distribution of the feature 'Peptic ulcer disease' in this dataset is fine.\n",
      "\n",
      "Quartiles for 'Age':\n",
      "  25%: 60.0\n",
      "  50% (Median): 67.0\n",
      "  75%: 73.0\n",
      "Min: 38.0\n",
      "Max: 90.0\n",
      "The distribution of the feature 'Age' in this dataset is fine.\n",
      "\n",
      "For the feature 'Gender', the least common label is '0.0' with 443 occurrences. This represents 40.27% of the dataset.\n",
      "The distribution of the feature 'Gender' in this dataset is fine.\n",
      "\n"
     ]
    },
    {
     "data": {
      "text/plain": [
       "False"
      ]
     },
     "execution_count": 139,
     "metadata": {},
     "output_type": "execute_result"
    }
   ],
   "source": [
    "is_trait_biased, merge_data = judge_and_remove_biased_features(merged_data, TRAIT, trait_type=trait_type)\n",
    "is_trait_biased"
   ]
  },
  {
   "cell_type": "code",
   "execution_count": 140,
   "metadata": {
    "collapsed": false
   },
   "outputs": [],
   "source": [
    "merged_data.head()\n",
    "if not is_trait_biased:\n",
    "    merge_data.to_csv(os.path.join(OUTPUT_DIR, cohort+'.csv'), index=False)"
   ]
  },
  {
   "cell_type": "code",
   "execution_count": 141,
   "metadata": {
    "collapsed": false
   },
   "outputs": [],
   "source": [
    "save_cohort_info(cohort, JSON_PATH, is_available, is_trait_biased, merged_data)"
   ]
  },
  {
   "cell_type": "markdown",
   "metadata": {
    "ExecuteTime": {
     "end_time": "2023-12-28T21:28:38.028916303Z",
     "start_time": "2023-12-28T21:28:38.016245426Z"
    },
    "collapsed": false
   },
   "source": [
    "## 2.2. The GEO dataset"
   ]
  },
  {
   "cell_type": "markdown",
   "metadata": {
    "ExecuteTime": {
     "end_time": "2023-12-31T03:25:23.253882615Z",
     "start_time": "2023-12-31T03:25:23.244062710Z"
    },
    "collapsed": false
   },
   "source": [
    "In GEO, there may be one or multiple cohorts for a trait. Each cohort is identified by an accession number. We iterate over all accession numbers in the corresponding subdirectory, preprocess the cohort data, and save them to csv files."
   ]
  },
  {
   "cell_type": "code",
   "execution_count": 142,
   "metadata": {
    "ExecuteTime": {
     "end_time": "2024-01-02T01:02:59.503572381Z",
     "start_time": "2024-01-02T01:02:59.491400342Z"
    },
    "collapsed": false
   },
   "outputs": [
    {
     "data": {
      "text/plain": [
       "['GSE60427', 'GSE43580', 'GSE32174', 'GSE207846']"
      ]
     },
     "execution_count": 142,
     "metadata": {},
     "output_type": "execute_result"
    }
   ],
   "source": [
    "dataset = 'GEO'\n",
    "trait_subdir = \"Peptic-ulcer-disease\"\n",
    "\n",
    "trait_path = os.path.join(DATA_ROOT, dataset, trait_subdir)\n",
    "os.listdir(trait_path)"
   ]
  },
  {
   "cell_type": "markdown",
   "metadata": {
    "ExecuteTime": {
     "end_time": "2023-12-31T03:39:42.634870142Z",
     "start_time": "2023-12-31T03:39:42.534093295Z"
    },
    "collapsed": false
   },
   "source": [
    "Repeat the below steps for all the accession numbers"
   ]
  },
  {
   "cell_type": "markdown",
   "metadata": {},
   "source": [
    "Fixed function name"
   ]
  },
  {
   "cell_type": "code",
   "execution_count": 143,
   "metadata": {
    "ExecuteTime": {
     "end_time": "2024-01-02T01:03:00.287218362Z",
     "start_time": "2024-01-02T01:03:00.278758251Z"
    },
    "collapsed": false
   },
   "outputs": [
    {
     "data": {
      "text/plain": [
       "('/Users/Henry/Desktop/uiuc/大二下/independent study/part 1/GEO/Peptic-ulcer-disease/GSE43580/GSE43580_family.soft.gz',\n",
       " '/Users/Henry/Desktop/uiuc/大二下/independent study/part 1/GEO/Peptic-ulcer-disease/GSE43580/GSE43580_series_matrix.txt.gz')"
      ]
     },
     "execution_count": 143,
     "metadata": {},
     "output_type": "execute_result"
    }
   ],
   "source": [
    "cohort = accession_num = \"GSE43580\"\n",
    "cohort_dir = os.path.join(trait_path, accession_num)\n",
    "soft_file, matrix_file = geo_get_relevant_filepaths(cohort_dir)\n",
    "soft_file, matrix_file"
   ]
  },
  {
   "cell_type": "markdown",
   "metadata": {
    "collapsed": false
   },
   "source": [
    "### Inital filtering and clinical data preprocessing"
   ]
  },
  {
   "cell_type": "code",
   "execution_count": 144,
   "metadata": {
    "ExecuteTime": {
     "end_time": "2024-01-02T01:03:01.634861460Z",
     "start_time": "2024-01-02T01:03:01.076370517Z"
    },
    "collapsed": false
   },
   "outputs": [
    {
     "name": "stdout",
     "output_type": "stream",
     "text": [
      "!Series_title\t\"SBV - Gene Expression Profiles of Lung Cancer Tumors - Adenocarcinomas and Squamous Cell Carcinomas\"\n",
      "!Series_summary\t\"This dataset encompassing the profiles of 150 lung cancer tumors was developed to serve as test dataset in the SBV IMPROVER Diagnostic Signature Challenge (sbvimprover.com). The aim of this subchallenge was to verify that it is possible to extract a robust diagnostic signature from gene expression data that can identify stages of different types of lung cancer. Participants were asked to develop and submit a classifier that can stratify lung cancer patients in one of four groups – Stage 1 of Adenocarcinoma (AC Stage 1), Stage 2 of Adenocarcinoma (AC Stage 2), Stage 1 of Squamous cell carcinoma (SCC Stage 1) or Stage 2 of Squamous cell carcinoma (SCC Stage 2). The classifier could be built by using any publicly available gene expression data with related histopathological information and was tested on the independent dataset described here.\"\n",
      "!Series_overall_design\t\"150 non-small cell lung cancer tumors (adenocarcinoma, AC and squamous cell carcinoma, SCC) of stages I and II were collected by surgical resection from patients who have provided consent. Adenosquamous and large cell tumor samples were excluded. The number of smokers and non-smokers was balanced: there were 41 AC1 (adenocarcinoma stage I), 36 AC2, 34 SCC1, and 39 SCC2 samples. Study pathologists at each of the seven sites (Lebanon, Republic of Moldova, Romania, Russian Federation, Ukraine, Vietnam and United States of America) reviewed both the tumor permanent sections and the frozen sections of the samples. Clinical information was also collected about tumor staging, history of prior cancers, lymph node involvement by lymph node sampling/dissection, smoking history, age, gender.\"\n"
     ]
    }
   ],
   "source": [
    "background_prefixes = ['!Series_title', '!Series_summary', '!Series_overall_design']\n",
    "clinical_prefixes = ['!Sample_geo_accession', '!Sample_characteristics_ch1']\n",
    "\n",
    "background_info, clinical_data = get_background_and_clinical_data(matrix_file, background_prefixes, clinical_prefixes)\n",
    "print(background_info)"
   ]
  },
  {
   "cell_type": "code",
   "execution_count": 145,
   "metadata": {
    "ExecuteTime": {
     "end_time": "2024-01-02T01:03:01.642310454Z",
     "start_time": "2024-01-02T01:03:01.635048940Z"
    },
    "collapsed": false
   },
   "outputs": [
    {
     "data": {
      "text/html": [
       "<div>\n",
       "<style scoped>\n",
       "    .dataframe tbody tr th:only-of-type {\n",
       "        vertical-align: middle;\n",
       "    }\n",
       "\n",
       "    .dataframe tbody tr th {\n",
       "        vertical-align: top;\n",
       "    }\n",
       "\n",
       "    .dataframe thead th {\n",
       "        text-align: right;\n",
       "    }\n",
       "</style>\n",
       "<table border=\"1\" class=\"dataframe\">\n",
       "  <thead>\n",
       "    <tr style=\"text-align: right;\">\n",
       "      <th></th>\n",
       "      <th>!Sample_geo_accession</th>\n",
       "      <th>GSM1065725</th>\n",
       "      <th>GSM1065726</th>\n",
       "      <th>GSM1065727</th>\n",
       "      <th>GSM1065728</th>\n",
       "      <th>GSM1065729</th>\n",
       "      <th>GSM1065730</th>\n",
       "      <th>GSM1065731</th>\n",
       "      <th>GSM1065732</th>\n",
       "      <th>GSM1065733</th>\n",
       "      <th>...</th>\n",
       "      <th>GSM1065865</th>\n",
       "      <th>GSM1065866</th>\n",
       "      <th>GSM1065867</th>\n",
       "      <th>GSM1065868</th>\n",
       "      <th>GSM1065869</th>\n",
       "      <th>GSM1065870</th>\n",
       "      <th>GSM1065871</th>\n",
       "      <th>GSM1065872</th>\n",
       "      <th>GSM1065873</th>\n",
       "      <th>GSM1065874</th>\n",
       "    </tr>\n",
       "  </thead>\n",
       "  <tbody>\n",
       "    <tr>\n",
       "      <th>0</th>\n",
       "      <td>!Sample_characteristics_ch1</td>\n",
       "      <td>gender: male</td>\n",
       "      <td>gender: male</td>\n",
       "      <td>gender: male</td>\n",
       "      <td>gender: male</td>\n",
       "      <td>gender: male</td>\n",
       "      <td>gender: male</td>\n",
       "      <td>gender: male</td>\n",
       "      <td>gender: male</td>\n",
       "      <td>gender: male</td>\n",
       "      <td>...</td>\n",
       "      <td>gender: male</td>\n",
       "      <td>gender: male</td>\n",
       "      <td>gender: female</td>\n",
       "      <td>gender: male</td>\n",
       "      <td>gender: male</td>\n",
       "      <td>gender: male</td>\n",
       "      <td>gender: male</td>\n",
       "      <td>gender: female</td>\n",
       "      <td>gender: male</td>\n",
       "      <td>gender: male</td>\n",
       "    </tr>\n",
       "    <tr>\n",
       "      <th>1</th>\n",
       "      <td>!Sample_characteristics_ch1</td>\n",
       "      <td>age at excision (years): 65</td>\n",
       "      <td>age at excision (years): 61</td>\n",
       "      <td>age at excision (years): 43</td>\n",
       "      <td>age at excision (years): 44</td>\n",
       "      <td>age at excision (years): 60</td>\n",
       "      <td>age at excision (years): 58</td>\n",
       "      <td>age at excision (years): 67</td>\n",
       "      <td>age at excision (years): 52</td>\n",
       "      <td>age at excision (years): 43</td>\n",
       "      <td>...</td>\n",
       "      <td>age at excision (years): 80</td>\n",
       "      <td>age at excision (years): 57</td>\n",
       "      <td>age at excision (years): 69</td>\n",
       "      <td>age at excision (years): 53</td>\n",
       "      <td>age at excision (years): 53</td>\n",
       "      <td>age at excision (years): 64</td>\n",
       "      <td>age at excision (years): 58</td>\n",
       "      <td>age at excision (years): 64</td>\n",
       "      <td>age at excision (years): 46</td>\n",
       "      <td>age at excision (years): 56</td>\n",
       "    </tr>\n",
       "    <tr>\n",
       "      <th>2</th>\n",
       "      <td>!Sample_characteristics_ch1</td>\n",
       "      <td>ethnicity: Caucasian</td>\n",
       "      <td>ethnicity: Caucasian</td>\n",
       "      <td>ethnicity: Caucasian</td>\n",
       "      <td>ethnicity: Caucasian</td>\n",
       "      <td>ethnicity: Caucasian</td>\n",
       "      <td>ethnicity: Caucasian</td>\n",
       "      <td>ethnicity: Caucasian</td>\n",
       "      <td>ethnicity: Caucasian</td>\n",
       "      <td>ethnicity: Caucasian</td>\n",
       "      <td>...</td>\n",
       "      <td>ethnicity: Caucasian</td>\n",
       "      <td>ethnicity: Caucasian</td>\n",
       "      <td>ethnicity: Caucasian</td>\n",
       "      <td>ethnicity: Caucasian</td>\n",
       "      <td>ethnicity: Caucasian</td>\n",
       "      <td>ethnicity: Caucasian</td>\n",
       "      <td>ethnicity: Caucasian</td>\n",
       "      <td>ethnicity: Asian/Pacific Islander</td>\n",
       "      <td>ethnicity: Caucasian</td>\n",
       "      <td>ethnicity: Caucasian</td>\n",
       "    </tr>\n",
       "    <tr>\n",
       "      <th>3</th>\n",
       "      <td>!Sample_characteristics_ch1</td>\n",
       "      <td>clinical diagnosis patient: Squamous cell carc...</td>\n",
       "      <td>clinical diagnosis patient: Hypertension (Stat...</td>\n",
       "      <td>clinical diagnosis patient: Squamous cell carc...</td>\n",
       "      <td>clinical diagnosis patient: Simple chronic bro...</td>\n",
       "      <td>clinical diagnosis patient: Squamous cell carc...</td>\n",
       "      <td>clinical diagnosis patient: Squamous cell carc...</td>\n",
       "      <td>clinical diagnosis patient: Squamous cell carc...</td>\n",
       "      <td>clinical diagnosis patient: Squamous cell carc...</td>\n",
       "      <td>clinical diagnosis patient: Squamous cell carc...</td>\n",
       "      <td>...</td>\n",
       "      <td>clinical diagnosis patient: Adenocarcinoma of ...</td>\n",
       "      <td>clinical diagnosis patient: Chronic bronchitis...</td>\n",
       "      <td>clinical diagnosis patient: Adenocarcinoma of ...</td>\n",
       "      <td>clinical diagnosis patient: Adenocarcinoma of ...</td>\n",
       "      <td>clinical diagnosis patient: Adenocarcinoma of ...</td>\n",
       "      <td>clinical diagnosis patient: Chronic bronchitis...</td>\n",
       "      <td>clinical diagnosis patient: Car accident with ...</td>\n",
       "      <td>clinical diagnosis patient: Diabetes (Status O...</td>\n",
       "      <td>clinical diagnosis patient: Squamous cell carc...</td>\n",
       "      <td>clinical diagnosis patient: Squamous cell carc...</td>\n",
       "    </tr>\n",
       "    <tr>\n",
       "      <th>4</th>\n",
       "      <td>!Sample_characteristics_ch1</td>\n",
       "      <td>bmi: 33.9100346</td>\n",
       "      <td>bmi: 27.6816609</td>\n",
       "      <td>bmi: 26.25958475</td>\n",
       "      <td>bmi: 25.40170132</td>\n",
       "      <td>bmi: 25.48476454</td>\n",
       "      <td>bmi: 25.69706994</td>\n",
       "      <td>bmi: 29.3877551</td>\n",
       "      <td>bmi: 28.40550436</td>\n",
       "      <td>bmi: 22.85714286</td>\n",
       "      <td>...</td>\n",
       "      <td>bmi: 21.51385851</td>\n",
       "      <td>bmi: 20.2020202</td>\n",
       "      <td>bmi: 28.04037814</td>\n",
       "      <td>bmi: 24.6097337</td>\n",
       "      <td>bmi: 25.71166208</td>\n",
       "      <td>bmi: 25.55932916</td>\n",
       "      <td>bmi: 18.51851852</td>\n",
       "      <td>bmi: 23.01117686</td>\n",
       "      <td>bmi: 31.77393186</td>\n",
       "      <td>bmi: 28.39372634</td>\n",
       "    </tr>\n",
       "  </tbody>\n",
       "</table>\n",
       "<p>5 rows × 151 columns</p>\n",
       "</div>"
      ],
      "text/plain": [
       "         !Sample_geo_accession  \\\n",
       "0  !Sample_characteristics_ch1   \n",
       "1  !Sample_characteristics_ch1   \n",
       "2  !Sample_characteristics_ch1   \n",
       "3  !Sample_characteristics_ch1   \n",
       "4  !Sample_characteristics_ch1   \n",
       "\n",
       "                                          GSM1065725  \\\n",
       "0                                       gender: male   \n",
       "1                        age at excision (years): 65   \n",
       "2                               ethnicity: Caucasian   \n",
       "3  clinical diagnosis patient: Squamous cell carc...   \n",
       "4                                    bmi: 33.9100346   \n",
       "\n",
       "                                          GSM1065726  \\\n",
       "0                                       gender: male   \n",
       "1                        age at excision (years): 61   \n",
       "2                               ethnicity: Caucasian   \n",
       "3  clinical diagnosis patient: Hypertension (Stat...   \n",
       "4                                    bmi: 27.6816609   \n",
       "\n",
       "                                          GSM1065727  \\\n",
       "0                                       gender: male   \n",
       "1                        age at excision (years): 43   \n",
       "2                               ethnicity: Caucasian   \n",
       "3  clinical diagnosis patient: Squamous cell carc...   \n",
       "4                                   bmi: 26.25958475   \n",
       "\n",
       "                                          GSM1065728  \\\n",
       "0                                       gender: male   \n",
       "1                        age at excision (years): 44   \n",
       "2                               ethnicity: Caucasian   \n",
       "3  clinical diagnosis patient: Simple chronic bro...   \n",
       "4                                   bmi: 25.40170132   \n",
       "\n",
       "                                          GSM1065729  \\\n",
       "0                                       gender: male   \n",
       "1                        age at excision (years): 60   \n",
       "2                               ethnicity: Caucasian   \n",
       "3  clinical diagnosis patient: Squamous cell carc...   \n",
       "4                                   bmi: 25.48476454   \n",
       "\n",
       "                                          GSM1065730  \\\n",
       "0                                       gender: male   \n",
       "1                        age at excision (years): 58   \n",
       "2                               ethnicity: Caucasian   \n",
       "3  clinical diagnosis patient: Squamous cell carc...   \n",
       "4                                   bmi: 25.69706994   \n",
       "\n",
       "                                          GSM1065731  \\\n",
       "0                                       gender: male   \n",
       "1                        age at excision (years): 67   \n",
       "2                               ethnicity: Caucasian   \n",
       "3  clinical diagnosis patient: Squamous cell carc...   \n",
       "4                                    bmi: 29.3877551   \n",
       "\n",
       "                                          GSM1065732  \\\n",
       "0                                       gender: male   \n",
       "1                        age at excision (years): 52   \n",
       "2                               ethnicity: Caucasian   \n",
       "3  clinical diagnosis patient: Squamous cell carc...   \n",
       "4                                   bmi: 28.40550436   \n",
       "\n",
       "                                          GSM1065733  ...  \\\n",
       "0                                       gender: male  ...   \n",
       "1                        age at excision (years): 43  ...   \n",
       "2                               ethnicity: Caucasian  ...   \n",
       "3  clinical diagnosis patient: Squamous cell carc...  ...   \n",
       "4                                   bmi: 22.85714286  ...   \n",
       "\n",
       "                                          GSM1065865  \\\n",
       "0                                       gender: male   \n",
       "1                        age at excision (years): 80   \n",
       "2                               ethnicity: Caucasian   \n",
       "3  clinical diagnosis patient: Adenocarcinoma of ...   \n",
       "4                                   bmi: 21.51385851   \n",
       "\n",
       "                                          GSM1065866  \\\n",
       "0                                       gender: male   \n",
       "1                        age at excision (years): 57   \n",
       "2                               ethnicity: Caucasian   \n",
       "3  clinical diagnosis patient: Chronic bronchitis...   \n",
       "4                                    bmi: 20.2020202   \n",
       "\n",
       "                                          GSM1065867  \\\n",
       "0                                     gender: female   \n",
       "1                        age at excision (years): 69   \n",
       "2                               ethnicity: Caucasian   \n",
       "3  clinical diagnosis patient: Adenocarcinoma of ...   \n",
       "4                                   bmi: 28.04037814   \n",
       "\n",
       "                                          GSM1065868  \\\n",
       "0                                       gender: male   \n",
       "1                        age at excision (years): 53   \n",
       "2                               ethnicity: Caucasian   \n",
       "3  clinical diagnosis patient: Adenocarcinoma of ...   \n",
       "4                                    bmi: 24.6097337   \n",
       "\n",
       "                                          GSM1065869  \\\n",
       "0                                       gender: male   \n",
       "1                        age at excision (years): 53   \n",
       "2                               ethnicity: Caucasian   \n",
       "3  clinical diagnosis patient: Adenocarcinoma of ...   \n",
       "4                                   bmi: 25.71166208   \n",
       "\n",
       "                                          GSM1065870  \\\n",
       "0                                       gender: male   \n",
       "1                        age at excision (years): 64   \n",
       "2                               ethnicity: Caucasian   \n",
       "3  clinical diagnosis patient: Chronic bronchitis...   \n",
       "4                                   bmi: 25.55932916   \n",
       "\n",
       "                                          GSM1065871  \\\n",
       "0                                       gender: male   \n",
       "1                        age at excision (years): 58   \n",
       "2                               ethnicity: Caucasian   \n",
       "3  clinical diagnosis patient: Car accident with ...   \n",
       "4                                   bmi: 18.51851852   \n",
       "\n",
       "                                          GSM1065872  \\\n",
       "0                                     gender: female   \n",
       "1                        age at excision (years): 64   \n",
       "2                  ethnicity: Asian/Pacific Islander   \n",
       "3  clinical diagnosis patient: Diabetes (Status O...   \n",
       "4                                   bmi: 23.01117686   \n",
       "\n",
       "                                          GSM1065873  \\\n",
       "0                                       gender: male   \n",
       "1                        age at excision (years): 46   \n",
       "2                               ethnicity: Caucasian   \n",
       "3  clinical diagnosis patient: Squamous cell carc...   \n",
       "4                                   bmi: 31.77393186   \n",
       "\n",
       "                                          GSM1065874  \n",
       "0                                       gender: male  \n",
       "1                        age at excision (years): 56  \n",
       "2                               ethnicity: Caucasian  \n",
       "3  clinical diagnosis patient: Squamous cell carc...  \n",
       "4                                   bmi: 28.39372634  \n",
       "\n",
       "[5 rows x 151 columns]"
      ]
     },
     "execution_count": 145,
     "metadata": {},
     "output_type": "execute_result"
    }
   ],
   "source": [
    "clinical_data.head()"
   ]
  },
  {
   "cell_type": "code",
   "execution_count": 146,
   "metadata": {
    "ExecuteTime": {
     "end_time": "2024-01-02T01:03:01.805026160Z",
     "start_time": "2024-01-02T01:03:01.804428154Z"
    },
    "collapsed": false
   },
   "outputs": [
    {
     "data": {
      "text/plain": [
       "{0: ['gender: male', 'gender: female', 'age at excision (years): NA'],\n",
       " 1: ['age at excision (years): 65',\n",
       "  'age at excision (years): 61',\n",
       "  'age at excision (years): 43',\n",
       "  'age at excision (years): 44',\n",
       "  'age at excision (years): 60',\n",
       "  'age at excision (years): 58',\n",
       "  'age at excision (years): 67',\n",
       "  'age at excision (years): 52',\n",
       "  'age at excision (years): 66',\n",
       "  'age at excision (years): 47',\n",
       "  'age at excision (years): 56',\n",
       "  'age at excision (years): 62',\n",
       "  'age at excision (years): 69',\n",
       "  'age at excision (years): 49',\n",
       "  'age at excision (years): 68',\n",
       "  'age at excision (years): 70',\n",
       "  'age at excision (years): 46',\n",
       "  'age at excision (years): 63',\n",
       "  'age at excision (years): 57',\n",
       "  'age at excision (years): 39',\n",
       "  'age at excision (years): 55',\n",
       "  'age at excision (years): 71',\n",
       "  'age at excision (years): 54',\n",
       "  'age at excision (years): 72',\n",
       "  'age at excision (years): 74',\n",
       "  'age at excision (years): 59',\n",
       "  'age at excision (years): 73',\n",
       "  'age at excision (years): 77',\n",
       "  'age at excision (years): 53',\n",
       "  'age at excision (years): 51'],\n",
       " 2: ['ethnicity: Caucasian',\n",
       "  'ethnicity: White',\n",
       "  'ethnicity: Asian/Pacific Islander',\n",
       "  'ethnicity: NA',\n",
       "  'clinical diagnosis patient: Adenocarcinoma of the lung (Status New)'],\n",
       " 3: ['clinical diagnosis patient: Squamous cell carcinoma of the lung (Status New)',\n",
       "  'clinical diagnosis patient: Hypertension (Status Ongoing), Chronic cholecystitis  (Status Ongoing), Adenocarcinoma of the lung (Status New)',\n",
       "  'clinical diagnosis patient: Simple chronic bronchitis  (Status Ongoing), Unspecified gastritis and gastroduodenitis    (Status Ongoing), Adenocarcinoma of the lung (Status New)',\n",
       "  'clinical diagnosis patient: Squamous cell carcinoma, keratinizing of the lung (Status New)',\n",
       "  'clinical diagnosis patient: Coronary artery disease (Status Ongoing), Diabetes  (Status Ongoing), Gastritis (Status Ongoing), Squamous cell carcinoma of the lung (Status New)',\n",
       "  'clinical diagnosis patient: Obesity   (Status Ongoing), Adenocarcinoma of the lung (Status New)',\n",
       "  'clinical diagnosis patient: Chronic bronchitis (Status Ongoing), Squamous cell carcinoma of the lung (Status New)',\n",
       "  'clinical diagnosis patient: Duodenal ulcer (Status Ongoing), Squamous cell carcinoma of the lung (Status New)',\n",
       "  'clinical diagnosis patient: Cancer of the head and neck (Status ), Adenocarcinoma of the lung (Status New)',\n",
       "  'clinical diagnosis patient: Essential hypertension (Status Ongoing), Simple chronic bronchitis (Status Ongoing), Squamous cell carcinoma of the lung (Status New)',\n",
       "  'clinical diagnosis patient: Chronic bronchitis (Status Ongoing), Squamous cell carcinoma, large cell, non-keratinizing of the lung (Status New)',\n",
       "  'clinical diagnosis patient: Unspecified gastritis and gastroduodenitis    (Status Ongoing), Coronary atherosclerosis (Status Ongoing), Squamous cell carcinoma of the lung (Status New)',\n",
       "  'clinical diagnosis patient: Adenocarcinoma of the lung (Status New)',\n",
       "  'clinical diagnosis patient: Gastric ulcer (Status Ongoing), Adenocarcinoma of the lung (Status New)',\n",
       "  'clinical diagnosis patient: Unspecified gastritis and gastroduodenitis (Status Ongoing), Squamous cell carcinoma of the lung (Status New)',\n",
       "  'clinical diagnosis patient: Hypertension (Status Ongoing), Nodular goiter (Status Ongoing), Bronchiolo-alveolar adenocarcinoma of the lung (Status New)',\n",
       "  'clinical diagnosis patient: Chronic bronchitis (Status Ongoing), Adenocarcinoma of the lung (Status New)',\n",
       "  'clinical diagnosis patient: Lesion on the right lung (Status New), Chronic obstructive pulmonary disease (Status Ongoing), Gastroesophageal reflux disease (Status Ongoing), Cancer of the colon (Status Past), Cancer of the colon (Status Past), Papillary adenocarcinoma of the right lower lung lobe  (Status New)',\n",
       "  'clinical diagnosis patient: Obesity (Status Ongoing), Chronic bronchitis (Status Ongoing), Squamous cell carcinoma of the lung (Status New)',\n",
       "  'clinical diagnosis patient: Malignant neoplasm of the lung (Status New)',\n",
       "  'clinical diagnosis patient: Obesity (Status Ongoing), Clear cell adenocarcinoma of the lung (Status New)',\n",
       "  'clinical diagnosis patient: Chronic bronchitis (Status Ongoing), Hypertension (Status Ongoing), Adenocarcinoma of the lung (Status New)',\n",
       "  'clinical diagnosis patient: Lesion on the left lung (Status New), Stomach ulcer (Status Past), Sinus problems (Status Ongoing), Psoriasis (Status Ongoing), Chronic obstructive pulmonary disease (Status New), Glaucoma (Status Ongoing), Anxiety (Status New), Cataract (Status New), Hypertension (Status Ongoing), Adenocarcinoma of the lung (Status New)',\n",
       "  'clinical diagnosis patient: Arterial hypertension (Status Ongoing), Squamous cell carcinoma, keratinizing of the lung (Status New)',\n",
       "  'clinical diagnosis patient: Coronary atherosclerosis    (Status Ongoing), Essential hypertension (Status Ongoing), Malignant neoplasm of lip (Status Past), Squamous cell carcinoma  of the lung (Status New)',\n",
       "  'clinical diagnosis patient: Hypertension (Status Ongoing), Diabetes (Status Ongoing), Adenocarcinoma of the lung (Status New)',\n",
       "  'clinical diagnosis patient: Hypertension (Status Ongoing), Gastritis (Status Ongoing), Adenocarcinoma of the lung (Status New)',\n",
       "  'clinical diagnosis patient: Appendicitis with appendectomy (Status Past), Tonsillitis with tonsillectomy (Status Past), Squamous cell carcinoma of the lung (Status New)',\n",
       "  'clinical diagnosis patient: Appendicitis with appendectomy (Status Past), Viral hepatitis a (Status Past), Gastric ulcer (Status Recurrent), Thyroidectomy (Status Past), Adenocarcinoma of the lung (Status New)',\n",
       "  'clinical diagnosis patient: Cancer of the lung (Status New), Gastroesophageal reflux disease (Status Ongoing), Hypertension (Status Ongoing), Laparotomy for liver injury (Status Past), Hemorrhoids (Status Past), Adenocarcinoma of the lung (Status New)'],\n",
       " 4: ['bmi: 33.9100346',\n",
       "  'bmi: 27.6816609',\n",
       "  'bmi: 26.25958475',\n",
       "  'bmi: 25.40170132',\n",
       "  'bmi: 25.48476454',\n",
       "  'bmi: 25.69706994',\n",
       "  'bmi: 29.3877551',\n",
       "  'bmi: 28.40550436',\n",
       "  'bmi: 22.85714286',\n",
       "  'bmi: 26.79493802',\n",
       "  'bmi: 34.92767916',\n",
       "  'bmi: 27.42857143',\n",
       "  'bmi: 24.48979592',\n",
       "  'bmi: 26.57312925',\n",
       "  'bmi: 20.07774787',\n",
       "  'bmi: 24.81632653',\n",
       "  'bmi: 23.88946281',\n",
       "  'bmi: 24.00548697',\n",
       "  'bmi: 24.44180209',\n",
       "  'bmi: 23.51020408',\n",
       "  'bmi: 18.9370029',\n",
       "  'bmi: 27.04164413',\n",
       "  'bmi: 29.7210791',\n",
       "  'bmi: 20.07960128',\n",
       "  'bmi: 27.47252747',\n",
       "  'bmi: 23.32341806',\n",
       "  'bmi: 0',\n",
       "  'bmi: 27.10204082',\n",
       "  'bmi: 26.0261749',\n",
       "  'bmi: 22.14532872'],\n",
       " 5: ['height (cm): 170',\n",
       "  'height (cm): 169',\n",
       "  'height (cm): 184',\n",
       "  'height (cm): 190',\n",
       "  'height (cm): 175',\n",
       "  'height (cm): 178',\n",
       "  'height (cm): 176',\n",
       "  'height (cm): 156',\n",
       "  'height (cm): 168',\n",
       "  'height (cm): 153',\n",
       "  'height (cm): 162',\n",
       "  'height (cm): 174',\n",
       "  'height (cm): 172',\n",
       "  'height (cm): 167',\n",
       "  'height (cm): 182',\n",
       "  'height (cm): 0',\n",
       "  'height (cm): 164',\n",
       "  'height (cm): 165',\n",
       "  'height (cm): 157',\n",
       "  'height (cm): 187',\n",
       "  'height (cm): 161',\n",
       "  'height (cm): 160',\n",
       "  'height (cm): 149',\n",
       "  'height (cm): 180',\n",
       "  'height (cm): 158',\n",
       "  'height (cm): 163',\n",
       "  'height (cm): 150',\n",
       "  'height (cm): 173',\n",
       "  'height (cm): 155',\n",
       "  'height (cm): NA'],\n",
       " 6: ['weight (kg): 98',\n",
       "  'weight (kg): 80',\n",
       "  'weight (kg): 75',\n",
       "  'weight (kg): 86',\n",
       "  'weight (kg): 92',\n",
       "  'weight (kg): 87',\n",
       "  'weight (kg): 90',\n",
       "  'weight (kg): 70',\n",
       "  'weight (kg): 83',\n",
       "  'weight (kg): 85',\n",
       "  'weight (kg): 84',\n",
       "  'weight (kg): 47',\n",
       "  'weight (kg): 76',\n",
       "  'weight (kg): 74',\n",
       "  'weight (kg): 63',\n",
       "  'weight (kg): 72',\n",
       "  'weight (kg): 60',\n",
       "  'weight (kg): 78',\n",
       "  'weight (kg): 56',\n",
       "  'weight (kg): 91',\n",
       "  'weight (kg): 69',\n",
       "  'weight (kg): 0',\n",
       "  'weight (kg): 64',\n",
       "  'weight (kg): 48',\n",
       "  'weight (kg): 138',\n",
       "  'weight (kg): 95',\n",
       "  'weight (kg): 100',\n",
       "  'weight (kg): 65',\n",
       "  'weight (kg): 82',\n",
       "  'weight (kg): 58'],\n",
       " 7: ['smoking status: Previous Use',\n",
       "  'smoking status: Current Use',\n",
       "  'smoking status: Occasional Use',\n",
       "  'smoking status: Never Used',\n",
       "  'smoking dose (cigarettes/day): NA',\n",
       "  'smoking status: NA',\n",
       "  'smoking duration (years): NA'],\n",
       " 8: ['smoking duration (years): NA',\n",
       "  'smoking duration (years): 45',\n",
       "  'smoking duration (years): 15',\n",
       "  'smoking duration (years): 20',\n",
       "  'smoking duration (years): 35',\n",
       "  'smoking duration (years): 0',\n",
       "  'smoking duration (years): 50',\n",
       "  'smoking duration (years): 44',\n",
       "  'smoking duration (years): 58',\n",
       "  'smoking duration (years): 48',\n",
       "  'smoking duration (years): 40',\n",
       "  'smoking duration (years): 30',\n",
       "  'smoking duration (years): 36',\n",
       "  'excision year: 2006',\n",
       "  'smoking duration (years): >20',\n",
       "  'smoking duration (years): 2',\n",
       "  'smoking duration (years): 52',\n",
       "  'smoking dose (cigarettes/day): NA',\n",
       "  'smoking duration (years): 31-40',\n",
       "  'smoking duration (years): 25',\n",
       "  'smoking duration (years): 27',\n",
       "  'smoking duration (years): 10',\n",
       "  'smoking duration (years): 39',\n",
       "  'smoking dose (cigarettes/day): 20',\n",
       "  'smoking duration (years): 8',\n",
       "  'smoking duration (years): 37',\n",
       "  'smoking duration (years): 23',\n",
       "  'smoking duration (years): 34'],\n",
       " 9: ['smoking dose (cigarettes/day): 15',\n",
       "  'smoking dose (cigarettes/day): 20',\n",
       "  'smoking dose (cigarettes/day): 25',\n",
       "  'smoking dose (cigarettes/day): 30',\n",
       "  'smoking dose (cigarettes/day): 0',\n",
       "  'smoking dose (cigarettes/day): 10',\n",
       "  'smoking dose (cigarettes/day): 40',\n",
       "  'smoking dose (cigarettes/day): NA',\n",
       "  'smoking dose (cigarettes/day): 60',\n",
       "  'sample recovery type: Surgical',\n",
       "  'smoking dose (cigarettes/day): 24',\n",
       "  'excision year: 2008',\n",
       "  'smoking dose (cigarettes/day): 11-20',\n",
       "  'smoking dose (cigarettes/day): 35',\n",
       "  'excision year: 2011',\n",
       "  'smoking dose (cigarettes/day): 2-3',\n",
       "  'smoking dose (cigarettes/day): 5-8',\n",
       "  'excision year: NA',\n",
       "  'smoking dose (cigarettes/day): 6-7'],\n",
       " 10: ['excision year: 2007',\n",
       "  'excision year: 2009',\n",
       "  'excision year: 2010',\n",
       "  'excision year: 2008',\n",
       "  'excision year: 2011',\n",
       "  'excision year: 2006',\n",
       "  'tissue: Lung Tumor',\n",
       "  'sample recovery type: Surgical',\n",
       "  'excision year: 2002',\n",
       "  'excision year: 2005',\n",
       "  'excision year: 2003',\n",
       "  'excision year: 2004'],\n",
       " 11: ['sample recovery type: Surgical',\n",
       "  'tnm stage: T1NXMX',\n",
       "  'tissue: Lung Tumor',\n",
       "  'tissue: Lung Diseased'],\n",
       " 12: ['tissue: Lung Tumor',\n",
       "  'ajcc uicc stage: IA',\n",
       "  'tnm stage: T2N1M0',\n",
       "  'tnm stage: T2bN0M0',\n",
       "  'tnm stage: T2N0MX',\n",
       "  'tissue: Bronchus Tumor',\n",
       "  'tissue: Lung Normal',\n",
       "  'tnm stage: T3N0MX'],\n",
       " 13: ['tnm stage: T2N0M0',\n",
       "  'tnm stage: T1NXM0',\n",
       "  'tnm stage: T2aN1M0',\n",
       "  'tnm stage: T2NXM0',\n",
       "  'tnm stage: T2bN0M0',\n",
       "  'tnm stage: T2N1M0',\n",
       "  'tnm stage: T3N0M0',\n",
       "  'tnm stage: T2bN1M0',\n",
       "  'tnm stage: T2aNXM0',\n",
       "  'tnm stage: T2NXMX',\n",
       "  'tnm stage: T1bNXM0',\n",
       "  'tnm stage: T1N1M0',\n",
       "  'tnm stage: T2N0MX',\n",
       "  'tnm stage: T1N0M0',\n",
       "  'tnm stage: T3NXMX',\n",
       "  'tnm stage: T2aN0M0',\n",
       "  'clinical diagnosis specimen: Adenocarcinoma of the lung',\n",
       "  'tnm stage: T1bN1M0',\n",
       "  'tnm stage: T2aN0MX',\n",
       "  'tnm stage: T2bNXM0',\n",
       "  'ajcc uicc stage: IIB',\n",
       "  'tnm stage: T1N1MX',\n",
       "  'tnm stage: T1bN0M0',\n",
       "  'ajcc uicc stage: IIA',\n",
       "  'tnm stage: T1aN1M0',\n",
       "  'tnm stage: T1N2M0',\n",
       "  'ajcc uicc stage: IB',\n",
       "  'tnm stage: T1bNXMX',\n",
       "  'tnm stage: T3NXM0',\n",
       "  'tnm stage: T2N1MX'],\n",
       " 14: ['ajcc uicc stage: IB',\n",
       "  'ajcc uicc stage: IA',\n",
       "  'ajcc uicc stage: IIA',\n",
       "  'ajcc uicc stage: IIB',\n",
       "  'rin: 7.67513',\n",
       "  'biosample confirmed diagnosis: Adenocarcinoma',\n",
       "  'biosample confirmed diagnosis: Non-small cell carcinoma',\n",
       "  'clinical diagnosis specimen: Adenocarcinoma of the lung',\n",
       "  'ajcc uicc stage: II'],\n",
       " 15: ['clinical diagnosis specimen: Squamous cell carcinoma of the lung',\n",
       "  'biosample confirmed diagnosis: Non-Small Cell Carcinoma',\n",
       "  'biosample confirmed diagnosis: Non-small cell carcinoma',\n",
       "  'biosample confirmed diagnosis: Adenocarcinoma',\n",
       "  'clinical diagnosis specimen: Squamous cell carcinoma, keratinizing of the lung',\n",
       "  'biosample confirmed diagnosis: Squamous Cell Carcinoma',\n",
       "  'clinical diagnosis specimen: Squamous cell carcinoma, large cell, non-keratinizing of the lung',\n",
       "  'clinical diagnosis specimen: Adenocarcinoma of the lung',\n",
       "  'biosample confirmed diagnosis: Non-small Cell Carcinoma',\n",
       "  'sbv challenge gold standard: AC1',\n",
       "  'biosample confirmed diagnosis: Clear cell adenocarcinoma',\n",
       "  'biosample confirmed diagnosis: Squamous cell carcinoma',\n",
       "  'biosample confirmed sub-diagnosis: Squamous cell carcinoma',\n",
       "  'clinical diagnosis specimen: Adenocarcinoma of lung',\n",
       "  'biosample confirmed diagnosis: Mucinous adenocarcinoma',\n",
       "  'rin: 8.2',\n",
       "  'clinical diagnosis specimen: Squamous cell carcinoma, keratinizing of the skin',\n",
       "  'biosample confirmed diagnosis: Bronchiolo-alveolar adenocarcinoma',\n",
       "  'rin: 7.3',\n",
       "  'clinical diagnosis specimen: Bronchiolo-alveolar adenocarcinoma of the lung'],\n",
       " 16: ['rin: 9.64965',\n",
       "  'biosample confirmed sub-diagnosis: Adenocarcinoma',\n",
       "  'biosample confirmed sub-diagnosis: Squamous cell carcinoma',\n",
       "  'clinical diagnosis specimen: Adenocarcinoma of the lung',\n",
       "  'rin: 9.004557',\n",
       "  'rin: 9.4',\n",
       "  'rin: 10',\n",
       "  'clinical diagnosis specimen: Squamous cell carcinoma of the lung',\n",
       "  'biosample confirmed sub-diagnosis: Squamous Cell Carcinoma',\n",
       "  'rin: 8.881916',\n",
       "  'rin: 9.7',\n",
       "  'rin: 9.011824',\n",
       "  'rin: 7.881437',\n",
       "  'rin: 9.599208',\n",
       "  nan,\n",
       "  'clinical diagnosis specimen: Clear cell adenocarcinoma of the lung',\n",
       "  'rin: 8.462233',\n",
       "  'biosample confirmed sub-diagnosis: Squamous cell carcinoma, keratinizing',\n",
       "  'tumor grade: Moderate to poorly differentiated',\n",
       "  'rin: 8.231344',\n",
       "  'rin: 9.254594',\n",
       "  'rin: 9.2',\n",
       "  'rin: 8.693336',\n",
       "  'clinical diagnosis specimen: Squamous cell carcinoma, keratinizing of the lung',\n",
       "  'rin: 7.279631',\n",
       "  'rin: 8.9',\n",
       "  'biosample confirmed sub-diagnosis: Bronchiolo-alveolar adenocarcinoma',\n",
       "  'rin: 9.74118',\n",
       "  'rin: 9.137592',\n",
       "  'sbv challenge gold standard: AC1'],\n",
       " 17: ['sbv challenge gold standard: SCC1',\n",
       "  'clinical diagnosis specimen: Adenocarcinoma of the lung',\n",
       "  'clinical diagnosis specimen: Squamous cell carcinoma of the lung',\n",
       "  'tumor grade: Moderate to poorly differentiated',\n",
       "  'sbv challenge gold standard: SCC2',\n",
       "  'clinical diagnosis specimen: Squamous cell carcinoma, keratinizing of the lung',\n",
       "  'tumor grade: Poorly differentiated',\n",
       "  'sbv challenge gold standard: AC1',\n",
       "  'sbv challenge gold standard: AC2',\n",
       "  'tumor grade: Moderately differentiated',\n",
       "  'clinical diagnosis specimen: Bronchiolo-alveolar adenocarcinoma of the lung',\n",
       "  'clinical diagnosis specimen: Papillary adenocarcinoma of the right lower lung lobe',\n",
       "  nan,\n",
       "  'clinical diagnosis specimen: Malignant neoplasm of the lung',\n",
       "  'tumor grade: Well differentiated',\n",
       "  'clinical diagnosis specimen: Squamous cell carcinoma  of the lung',\n",
       "  'rin: 9.99',\n",
       "  'clinical diagnosis specimen: Carcinoma of the lung',\n",
       "  'clinical diagnosis specimen: Alveolar adenocarcinoma of the lung',\n",
       "  'rin: 8.78',\n",
       "  'tumor grade: Well to moderately differentiated',\n",
       "  'clinical diagnosis specimen: Large cell carcinoma of the lung',\n",
       "  'rin: 7.5',\n",
       "  'clinical diagnosis specimen: Squamous cell carcinoma of the upper lobe of right lung'],\n",
       " 18: [nan,\n",
       "  'tumor grade: Poorly differentiated',\n",
       "  'rin: 8.24',\n",
       "  'tumor grade: Moderate to poorly differentiated',\n",
       "  'tumor grade: Moderately differentiated',\n",
       "  'rin: 8.8',\n",
       "  'rin: 7.7',\n",
       "  'rin: 8.94',\n",
       "  'tumor grade: Well differentiated',\n",
       "  'rin: 9.5',\n",
       "  'rin: 8.04',\n",
       "  'tumor grade: Well to moderately differentiated',\n",
       "  'rin: 9.89',\n",
       "  'sbv challenge gold standard: AC2',\n",
       "  'rin: 7.62',\n",
       "  'rin: 7.67',\n",
       "  'rin: 8.05',\n",
       "  'tumor grade: G2',\n",
       "  'rin: 8.5',\n",
       "  'rin: 8.7',\n",
       "  'sbv challenge gold standard: SCC2',\n",
       "  'rin: 8.79',\n",
       "  'rin: 8.2',\n",
       "  'rin: 7.13',\n",
       "  'sbv challenge gold standard: AC1',\n",
       "  'rin: 7.66',\n",
       "  'rin: 7.35',\n",
       "  'rin: 7.38'],\n",
       " 19: [nan,\n",
       "  'rin: 9.4',\n",
       "  'rin: 8.19',\n",
       "  'sbv challenge gold standard: AC1',\n",
       "  'rin: 9.35',\n",
       "  'rin: 8.2',\n",
       "  'rin: 9.54',\n",
       "  'rin: 8.6',\n",
       "  'rin: 9.21',\n",
       "  'rin: 8.51',\n",
       "  'rin: 9.3',\n",
       "  'sbv challenge gold standard: SCC1',\n",
       "  'rin: 9.25',\n",
       "  'rin: 9.1',\n",
       "  'rin: 8.39',\n",
       "  'sbv challenge gold standard: SCC2',\n",
       "  'rin: 9.65',\n",
       "  'rin: 9.33',\n",
       "  'rin: 9.8',\n",
       "  'rin: 8.8',\n",
       "  'rin: 9',\n",
       "  'rin: 8.09',\n",
       "  'rin: 7.81',\n",
       "  'rin: 8.58',\n",
       "  'rin: 9.68',\n",
       "  'rin: 9.95',\n",
       "  'sbv challenge gold standard: AC2',\n",
       "  'rin: 8.96',\n",
       "  'rin: 8.1',\n",
       "  'rin: 8.74'],\n",
       " 20: [nan,\n",
       "  'sbv challenge gold standard: AC1',\n",
       "  'sbv challenge gold standard: SCC2',\n",
       "  'sbv challenge gold standard: SCC1',\n",
       "  'sbv challenge gold standard: AC2']}"
      ]
     },
     "execution_count": 146,
     "metadata": {},
     "output_type": "execute_result"
    }
   ],
   "source": [
    "clinical_data_unique = get_unique_values_by_row(clinical_data)\n",
    "clinical_data_unique"
   ]
  },
  {
   "cell_type": "markdown",
   "metadata": {
    "ExecuteTime": {
     "end_time": "2023-12-31T03:58:04.978204446Z",
     "start_time": "2023-12-31T03:58:04.922270095Z"
    },
    "collapsed": false
   },
   "source": [
    "Analyze the metadata to determine data relevance and find ways to extract the clinical data.\n",
    "Reference prompt:"
   ]
  },
  {
   "cell_type": "code",
   "execution_count": 147,
   "metadata": {
    "ExecuteTime": {
     "end_time": "2024-01-02T01:03:02.369775044Z",
     "start_time": "2024-01-02T01:03:02.356501629Z"
    },
    "collapsed": false
   },
   "outputs": [
    {
     "data": {
      "text/plain": [
       "'As a biomedical research team, we are selecting datasets to study the association between the human trait \\'Peptic ulcer disease\\' and genetic factors, optionally considering the influence of age and gender. After searching the GEO database and parsing the matrix file of a series, we obtained background information and sample characteristics data. We will provide textual information about the dataset background, and a Python dictionary storing a list of unique values for each field of the sample characteristics data. Please carefully review the provided information and answer the following questions about this dataset:\\n1. Does this dataset contain gene expression data? (Note: Pure miRNA data is not suitable.)\\n2. For each of the traits \\'Peptic ulcer disease\\', \\'age\\', and \\'gender\\', please address these points:\\n   (1) Is there human data available for this trait?\\n   (2) If so, identify the key in the sample characteristics dictionary where unique values of this trait is recorded. The key is an integer. The trait information might be explicitly recorded, or can be inferred from the field with some biomedical knowledge or understanding about the data collection process.\\n   (3) Choose an appropriate data type (either \\'continuous\\' or \\'binary\\') for each trait. Write a Python function to convert any given value of the trait to this data type. The function should handle inference about the trait value and convert unknown values to None.\\n   Name the functions \\'convert_trait\\', \\'convert_age\\', and \\'convert_gender\\', respectively.\\n\\nBackground information about the dataset:\\n!Series_title\\t\"SBV - Gene Expression Profiles of Lung Cancer Tumors - Adenocarcinomas and Squamous Cell Carcinomas\"\\n!Series_summary\\t\"This dataset encompassing the profiles of 150 lung cancer tumors was developed to serve as test dataset in the SBV IMPROVER Diagnostic Signature Challenge (sbvimprover.com). The aim of this subchallenge was to verify that it is possible to extract a robust diagnostic signature from gene expression data that can identify stages of different types of lung cancer. Participants were asked to develop and submit a classifier that can stratify lung cancer patients in one of four groups – Stage 1 of Adenocarcinoma (AC Stage 1), Stage 2 of Adenocarcinoma (AC Stage 2), Stage 1 of Squamous cell carcinoma (SCC Stage 1) or Stage 2 of Squamous cell carcinoma (SCC Stage 2). The classifier could be built by using any publicly available gene expression data with related histopathological information and was tested on the independent dataset described here.\"\\n!Series_overall_design\\t\"150 non-small cell lung cancer tumors (adenocarcinoma, AC and squamous cell carcinoma, SCC) of stages I and II were collected by surgical resection from patients who have provided consent. Adenosquamous and large cell tumor samples were excluded. The number of smokers and non-smokers was balanced: there were 41 AC1 (adenocarcinoma stage I), 36 AC2, 34 SCC1, and 39 SCC2 samples. Study pathologists at each of the seven sites (Lebanon, Republic of Moldova, Romania, Russian Federation, Ukraine, Vietnam and United States of America) reviewed both the tumor permanent sections and the frozen sections of the samples. Clinical information was also collected about tumor staging, history of prior cancers, lymph node involvement by lymph node sampling/dissection, smoking history, age, gender.\"\\n\\nSample characteristics dictionary (from \"!Sample_characteristics_ch1\", converted to a Python dictionary that stores the unique values for each field):\\n{0: [\\'gender: male\\', \\'gender: female\\', \\'age at excision (years): NA\\'], 1: [\\'age at excision (years): 65\\', \\'age at excision (years): 61\\', \\'age at excision (years): 43\\', \\'age at excision (years): 44\\', \\'age at excision (years): 60\\', \\'age at excision (years): 58\\', \\'age at excision (years): 67\\', \\'age at excision (years): 52\\', \\'age at excision (years): 66\\', \\'age at excision (years): 47\\', \\'age at excision (years): 56\\', \\'age at excision (years): 62\\', \\'age at excision (years): 69\\', \\'age at excision (years): 49\\', \\'age at excision (years): 68\\', \\'age at excision (years): 70\\', \\'age at excision (years): 46\\', \\'age at excision (years): 63\\', \\'age at excision (years): 57\\', \\'age at excision (years): 39\\', \\'age at excision (years): 55\\', \\'age at excision (years): 71\\', \\'age at excision (years): 54\\', \\'age at excision (years): 72\\', \\'age at excision (years): 74\\', \\'age at excision (years): 59\\', \\'age at excision (years): 73\\', \\'age at excision (years): 77\\', \\'age at excision (years): 53\\', \\'age at excision (years): 51\\'], 2: [\\'ethnicity: Caucasian\\', \\'ethnicity: White\\', \\'ethnicity: Asian/Pacific Islander\\', \\'ethnicity: NA\\', \\'clinical diagnosis patient: Adenocarcinoma of the lung (Status New)\\'], 3: [\\'clinical diagnosis patient: Squamous cell carcinoma of the lung (Status New)\\', \\'clinical diagnosis patient: Hypertension (Status Ongoing), Chronic cholecystitis  (Status Ongoing), Adenocarcinoma of the lung (Status New)\\', \\'clinical diagnosis patient: Simple chronic bronchitis  (Status Ongoing), Unspecified gastritis and gastroduodenitis    (Status Ongoing), Adenocarcinoma of the lung (Status New)\\', \\'clinical diagnosis patient: Squamous cell carcinoma, keratinizing of the lung (Status New)\\', \\'clinical diagnosis patient: Coronary artery disease (Status Ongoing), Diabetes  (Status Ongoing), Gastritis (Status Ongoing), Squamous cell carcinoma of the lung (Status New)\\', \\'clinical diagnosis patient: Obesity   (Status Ongoing), Adenocarcinoma of the lung (Status New)\\', \\'clinical diagnosis patient: Chronic bronchitis (Status Ongoing), Squamous cell carcinoma of the lung (Status New)\\', \\'clinical diagnosis patient: Duodenal ulcer (Status Ongoing), Squamous cell carcinoma of the lung (Status New)\\', \\'clinical diagnosis patient: Cancer of the head and neck (Status ), Adenocarcinoma of the lung (Status New)\\', \\'clinical diagnosis patient: Essential hypertension (Status Ongoing), Simple chronic bronchitis (Status Ongoing), Squamous cell carcinoma of the lung (Status New)\\', \\'clinical diagnosis patient: Chronic bronchitis (Status Ongoing), Squamous cell carcinoma, large cell, non-keratinizing of the lung (Status New)\\', \\'clinical diagnosis patient: Unspecified gastritis and gastroduodenitis    (Status Ongoing), Coronary atherosclerosis (Status Ongoing), Squamous cell carcinoma of the lung (Status New)\\', \\'clinical diagnosis patient: Adenocarcinoma of the lung (Status New)\\', \\'clinical diagnosis patient: Gastric ulcer (Status Ongoing), Adenocarcinoma of the lung (Status New)\\', \\'clinical diagnosis patient: Unspecified gastritis and gastroduodenitis (Status Ongoing), Squamous cell carcinoma of the lung (Status New)\\', \\'clinical diagnosis patient: Hypertension (Status Ongoing), Nodular goiter (Status Ongoing), Bronchiolo-alveolar adenocarcinoma of the lung (Status New)\\', \\'clinical diagnosis patient: Chronic bronchitis (Status Ongoing), Adenocarcinoma of the lung (Status New)\\', \\'clinical diagnosis patient: Lesion on the right lung (Status New), Chronic obstructive pulmonary disease (Status Ongoing), Gastroesophageal reflux disease (Status Ongoing), Cancer of the colon (Status Past), Cancer of the colon (Status Past), Papillary adenocarcinoma of the right lower lung lobe  (Status New)\\', \\'clinical diagnosis patient: Obesity (Status Ongoing), Chronic bronchitis (Status Ongoing), Squamous cell carcinoma of the lung (Status New)\\', \\'clinical diagnosis patient: Malignant neoplasm of the lung (Status New)\\', \\'clinical diagnosis patient: Obesity (Status Ongoing), Clear cell adenocarcinoma of the lung (Status New)\\', \\'clinical diagnosis patient: Chronic bronchitis (Status Ongoing), Hypertension (Status Ongoing), Adenocarcinoma of the lung (Status New)\\', \\'clinical diagnosis patient: Lesion on the left lung (Status New), Stomach ulcer (Status Past), Sinus problems (Status Ongoing), Psoriasis (Status Ongoing), Chronic obstructive pulmonary disease (Status New), Glaucoma (Status Ongoing), Anxiety (Status New), Cataract (Status New), Hypertension (Status Ongoing), Adenocarcinoma of the lung (Status New)\\', \\'clinical diagnosis patient: Arterial hypertension (Status Ongoing), Squamous cell carcinoma, keratinizing of the lung (Status New)\\', \\'clinical diagnosis patient: Coronary atherosclerosis    (Status Ongoing), Essential hypertension (Status Ongoing), Malignant neoplasm of lip (Status Past), Squamous cell carcinoma  of the lung (Status New)\\', \\'clinical diagnosis patient: Hypertension (Status Ongoing), Diabetes (Status Ongoing), Adenocarcinoma of the lung (Status New)\\', \\'clinical diagnosis patient: Hypertension (Status Ongoing), Gastritis (Status Ongoing), Adenocarcinoma of the lung (Status New)\\', \\'clinical diagnosis patient: Appendicitis with appendectomy (Status Past), Tonsillitis with tonsillectomy (Status Past), Squamous cell carcinoma of the lung (Status New)\\', \\'clinical diagnosis patient: Appendicitis with appendectomy (Status Past), Viral hepatitis a (Status Past), Gastric ulcer (Status Recurrent), Thyroidectomy (Status Past), Adenocarcinoma of the lung (Status New)\\', \\'clinical diagnosis patient: Cancer of the lung (Status New), Gastroesophageal reflux disease (Status Ongoing), Hypertension (Status Ongoing), Laparotomy for liver injury (Status Past), Hemorrhoids (Status Past), Adenocarcinoma of the lung (Status New)\\'], 4: [\\'bmi: 33.9100346\\', \\'bmi: 27.6816609\\', \\'bmi: 26.25958475\\', \\'bmi: 25.40170132\\', \\'bmi: 25.48476454\\', \\'bmi: 25.69706994\\', \\'bmi: 29.3877551\\', \\'bmi: 28.40550436\\', \\'bmi: 22.85714286\\', \\'bmi: 26.79493802\\', \\'bmi: 34.92767916\\', \\'bmi: 27.42857143\\', \\'bmi: 24.48979592\\', \\'bmi: 26.57312925\\', \\'bmi: 20.07774787\\', \\'bmi: 24.81632653\\', \\'bmi: 23.88946281\\', \\'bmi: 24.00548697\\', \\'bmi: 24.44180209\\', \\'bmi: 23.51020408\\', \\'bmi: 18.9370029\\', \\'bmi: 27.04164413\\', \\'bmi: 29.7210791\\', \\'bmi: 20.07960128\\', \\'bmi: 27.47252747\\', \\'bmi: 23.32341806\\', \\'bmi: 0\\', \\'bmi: 27.10204082\\', \\'bmi: 26.0261749\\', \\'bmi: 22.14532872\\'], 5: [\\'height (cm): 170\\', \\'height (cm): 169\\', \\'height (cm): 184\\', \\'height (cm): 190\\', \\'height (cm): 175\\', \\'height (cm): 178\\', \\'height (cm): 176\\', \\'height (cm): 156\\', \\'height (cm): 168\\', \\'height (cm): 153\\', \\'height (cm): 162\\', \\'height (cm): 174\\', \\'height (cm): 172\\', \\'height (cm): 167\\', \\'height (cm): 182\\', \\'height (cm): 0\\', \\'height (cm): 164\\', \\'height (cm): 165\\', \\'height (cm): 157\\', \\'height (cm): 187\\', \\'height (cm): 161\\', \\'height (cm): 160\\', \\'height (cm): 149\\', \\'height (cm): 180\\', \\'height (cm): 158\\', \\'height (cm): 163\\', \\'height (cm): 150\\', \\'height (cm): 173\\', \\'height (cm): 155\\', \\'height (cm): NA\\'], 6: [\\'weight (kg): 98\\', \\'weight (kg): 80\\', \\'weight (kg): 75\\', \\'weight (kg): 86\\', \\'weight (kg): 92\\', \\'weight (kg): 87\\', \\'weight (kg): 90\\', \\'weight (kg): 70\\', \\'weight (kg): 83\\', \\'weight (kg): 85\\', \\'weight (kg): 84\\', \\'weight (kg): 47\\', \\'weight (kg): 76\\', \\'weight (kg): 74\\', \\'weight (kg): 63\\', \\'weight (kg): 72\\', \\'weight (kg): 60\\', \\'weight (kg): 78\\', \\'weight (kg): 56\\', \\'weight (kg): 91\\', \\'weight (kg): 69\\', \\'weight (kg): 0\\', \\'weight (kg): 64\\', \\'weight (kg): 48\\', \\'weight (kg): 138\\', \\'weight (kg): 95\\', \\'weight (kg): 100\\', \\'weight (kg): 65\\', \\'weight (kg): 82\\', \\'weight (kg): 58\\'], 7: [\\'smoking status: Previous Use\\', \\'smoking status: Current Use\\', \\'smoking status: Occasional Use\\', \\'smoking status: Never Used\\', \\'smoking dose (cigarettes/day): NA\\', \\'smoking status: NA\\', \\'smoking duration (years): NA\\'], 8: [\\'smoking duration (years): NA\\', \\'smoking duration (years): 45\\', \\'smoking duration (years): 15\\', \\'smoking duration (years): 20\\', \\'smoking duration (years): 35\\', \\'smoking duration (years): 0\\', \\'smoking duration (years): 50\\', \\'smoking duration (years): 44\\', \\'smoking duration (years): 58\\', \\'smoking duration (years): 48\\', \\'smoking duration (years): 40\\', \\'smoking duration (years): 30\\', \\'smoking duration (years): 36\\', \\'excision year: 2006\\', \\'smoking duration (years): >20\\', \\'smoking duration (years): 2\\', \\'smoking duration (years): 52\\', \\'smoking dose (cigarettes/day): NA\\', \\'smoking duration (years): 31-40\\', \\'smoking duration (years): 25\\', \\'smoking duration (years): 27\\', \\'smoking duration (years): 10\\', \\'smoking duration (years): 39\\', \\'smoking dose (cigarettes/day): 20\\', \\'smoking duration (years): 8\\', \\'smoking duration (years): 37\\', \\'smoking duration (years): 23\\', \\'smoking duration (years): 34\\'], 9: [\\'smoking dose (cigarettes/day): 15\\', \\'smoking dose (cigarettes/day): 20\\', \\'smoking dose (cigarettes/day): 25\\', \\'smoking dose (cigarettes/day): 30\\', \\'smoking dose (cigarettes/day): 0\\', \\'smoking dose (cigarettes/day): 10\\', \\'smoking dose (cigarettes/day): 40\\', \\'smoking dose (cigarettes/day): NA\\', \\'smoking dose (cigarettes/day): 60\\', \\'sample recovery type: Surgical\\', \\'smoking dose (cigarettes/day): 24\\', \\'excision year: 2008\\', \\'smoking dose (cigarettes/day): 11-20\\', \\'smoking dose (cigarettes/day): 35\\', \\'excision year: 2011\\', \\'smoking dose (cigarettes/day): 2-3\\', \\'smoking dose (cigarettes/day): 5-8\\', \\'excision year: NA\\', \\'smoking dose (cigarettes/day): 6-7\\'], 10: [\\'excision year: 2007\\', \\'excision year: 2009\\', \\'excision year: 2010\\', \\'excision year: 2008\\', \\'excision year: 2011\\', \\'excision year: 2006\\', \\'tissue: Lung Tumor\\', \\'sample recovery type: Surgical\\', \\'excision year: 2002\\', \\'excision year: 2005\\', \\'excision year: 2003\\', \\'excision year: 2004\\'], 11: [\\'sample recovery type: Surgical\\', \\'tnm stage: T1NXMX\\', \\'tissue: Lung Tumor\\', \\'tissue: Lung Diseased\\'], 12: [\\'tissue: Lung Tumor\\', \\'ajcc uicc stage: IA\\', \\'tnm stage: T2N1M0\\', \\'tnm stage: T2bN0M0\\', \\'tnm stage: T2N0MX\\', \\'tissue: Bronchus Tumor\\', \\'tissue: Lung Normal\\', \\'tnm stage: T3N0MX\\'], 13: [\\'tnm stage: T2N0M0\\', \\'tnm stage: T1NXM0\\', \\'tnm stage: T2aN1M0\\', \\'tnm stage: T2NXM0\\', \\'tnm stage: T2bN0M0\\', \\'tnm stage: T2N1M0\\', \\'tnm stage: T3N0M0\\', \\'tnm stage: T2bN1M0\\', \\'tnm stage: T2aNXM0\\', \\'tnm stage: T2NXMX\\', \\'tnm stage: T1bNXM0\\', \\'tnm stage: T1N1M0\\', \\'tnm stage: T2N0MX\\', \\'tnm stage: T1N0M0\\', \\'tnm stage: T3NXMX\\', \\'tnm stage: T2aN0M0\\', \\'clinical diagnosis specimen: Adenocarcinoma of the lung\\', \\'tnm stage: T1bN1M0\\', \\'tnm stage: T2aN0MX\\', \\'tnm stage: T2bNXM0\\', \\'ajcc uicc stage: IIB\\', \\'tnm stage: T1N1MX\\', \\'tnm stage: T1bN0M0\\', \\'ajcc uicc stage: IIA\\', \\'tnm stage: T1aN1M0\\', \\'tnm stage: T1N2M0\\', \\'ajcc uicc stage: IB\\', \\'tnm stage: T1bNXMX\\', \\'tnm stage: T3NXM0\\', \\'tnm stage: T2N1MX\\'], 14: [\\'ajcc uicc stage: IB\\', \\'ajcc uicc stage: IA\\', \\'ajcc uicc stage: IIA\\', \\'ajcc uicc stage: IIB\\', \\'rin: 7.67513\\', \\'biosample confirmed diagnosis: Adenocarcinoma\\', \\'biosample confirmed diagnosis: Non-small cell carcinoma\\', \\'clinical diagnosis specimen: Adenocarcinoma of the lung\\', \\'ajcc uicc stage: II\\'], 15: [\\'clinical diagnosis specimen: Squamous cell carcinoma of the lung\\', \\'biosample confirmed diagnosis: Non-Small Cell Carcinoma\\', \\'biosample confirmed diagnosis: Non-small cell carcinoma\\', \\'biosample confirmed diagnosis: Adenocarcinoma\\', \\'clinical diagnosis specimen: Squamous cell carcinoma, keratinizing of the lung\\', \\'biosample confirmed diagnosis: Squamous Cell Carcinoma\\', \\'clinical diagnosis specimen: Squamous cell carcinoma, large cell, non-keratinizing of the lung\\', \\'clinical diagnosis specimen: Adenocarcinoma of the lung\\', \\'biosample confirmed diagnosis: Non-small Cell Carcinoma\\', \\'sbv challenge gold standard: AC1\\', \\'biosample confirmed diagnosis: Clear cell adenocarcinoma\\', \\'biosample confirmed diagnosis: Squamous cell carcinoma\\', \\'biosample confirmed sub-diagnosis: Squamous cell carcinoma\\', \\'clinical diagnosis specimen: Adenocarcinoma of lung\\', \\'biosample confirmed diagnosis: Mucinous adenocarcinoma\\', \\'rin: 8.2\\', \\'clinical diagnosis specimen: Squamous cell carcinoma, keratinizing of the skin\\', \\'biosample confirmed diagnosis: Bronchiolo-alveolar adenocarcinoma\\', \\'rin: 7.3\\', \\'clinical diagnosis specimen: Bronchiolo-alveolar adenocarcinoma of the lung\\'], 16: [\\'rin: 9.64965\\', \\'biosample confirmed sub-diagnosis: Adenocarcinoma\\', \\'biosample confirmed sub-diagnosis: Squamous cell carcinoma\\', \\'clinical diagnosis specimen: Adenocarcinoma of the lung\\', \\'rin: 9.004557\\', \\'rin: 9.4\\', \\'rin: 10\\', \\'clinical diagnosis specimen: Squamous cell carcinoma of the lung\\', \\'biosample confirmed sub-diagnosis: Squamous Cell Carcinoma\\', \\'rin: 8.881916\\', \\'rin: 9.7\\', \\'rin: 9.011824\\', \\'rin: 7.881437\\', \\'rin: 9.599208\\', nan, \\'clinical diagnosis specimen: Clear cell adenocarcinoma of the lung\\', \\'rin: 8.462233\\', \\'biosample confirmed sub-diagnosis: Squamous cell carcinoma, keratinizing\\', \\'tumor grade: Moderate to poorly differentiated\\', \\'rin: 8.231344\\', \\'rin: 9.254594\\', \\'rin: 9.2\\', \\'rin: 8.693336\\', \\'clinical diagnosis specimen: Squamous cell carcinoma, keratinizing of the lung\\', \\'rin: 7.279631\\', \\'rin: 8.9\\', \\'biosample confirmed sub-diagnosis: Bronchiolo-alveolar adenocarcinoma\\', \\'rin: 9.74118\\', \\'rin: 9.137592\\', \\'sbv challenge gold standard: AC1\\'], 17: [\\'sbv challenge gold standard: SCC1\\', \\'clinical diagnosis specimen: Adenocarcinoma of the lung\\', \\'clinical diagnosis specimen: Squamous cell carcinoma of the lung\\', \\'tumor grade: Moderate to poorly differentiated\\', \\'sbv challenge gold standard: SCC2\\', \\'clinical diagnosis specimen: Squamous cell carcinoma, keratinizing of the lung\\', \\'tumor grade: Poorly differentiated\\', \\'sbv challenge gold standard: AC1\\', \\'sbv challenge gold standard: AC2\\', \\'tumor grade: Moderately differentiated\\', \\'clinical diagnosis specimen: Bronchiolo-alveolar adenocarcinoma of the lung\\', \\'clinical diagnosis specimen: Papillary adenocarcinoma of the right lower lung lobe\\', nan, \\'clinical diagnosis specimen: Malignant neoplasm of the lung\\', \\'tumor grade: Well differentiated\\', \\'clinical diagnosis specimen: Squamous cell carcinoma  of the lung\\', \\'rin: 9.99\\', \\'clinical diagnosis specimen: Carcinoma of the lung\\', \\'clinical diagnosis specimen: Alveolar adenocarcinoma of the lung\\', \\'rin: 8.78\\', \\'tumor grade: Well to moderately differentiated\\', \\'clinical diagnosis specimen: Large cell carcinoma of the lung\\', \\'rin: 7.5\\', \\'clinical diagnosis specimen: Squamous cell carcinoma of the upper lobe of right lung\\'], 18: [nan, \\'tumor grade: Poorly differentiated\\', \\'rin: 8.24\\', \\'tumor grade: Moderate to poorly differentiated\\', \\'tumor grade: Moderately differentiated\\', \\'rin: 8.8\\', \\'rin: 7.7\\', \\'rin: 8.94\\', \\'tumor grade: Well differentiated\\', \\'rin: 9.5\\', \\'rin: 8.04\\', \\'tumor grade: Well to moderately differentiated\\', \\'rin: 9.89\\', \\'sbv challenge gold standard: AC2\\', \\'rin: 7.62\\', \\'rin: 7.67\\', \\'rin: 8.05\\', \\'tumor grade: G2\\', \\'rin: 8.5\\', \\'rin: 8.7\\', \\'sbv challenge gold standard: SCC2\\', \\'rin: 8.79\\', \\'rin: 8.2\\', \\'rin: 7.13\\', \\'sbv challenge gold standard: AC1\\', \\'rin: 7.66\\', \\'rin: 7.35\\', \\'rin: 7.38\\'], 19: [nan, \\'rin: 9.4\\', \\'rin: 8.19\\', \\'sbv challenge gold standard: AC1\\', \\'rin: 9.35\\', \\'rin: 8.2\\', \\'rin: 9.54\\', \\'rin: 8.6\\', \\'rin: 9.21\\', \\'rin: 8.51\\', \\'rin: 9.3\\', \\'sbv challenge gold standard: SCC1\\', \\'rin: 9.25\\', \\'rin: 9.1\\', \\'rin: 8.39\\', \\'sbv challenge gold standard: SCC2\\', \\'rin: 9.65\\', \\'rin: 9.33\\', \\'rin: 9.8\\', \\'rin: 8.8\\', \\'rin: 9\\', \\'rin: 8.09\\', \\'rin: 7.81\\', \\'rin: 8.58\\', \\'rin: 9.68\\', \\'rin: 9.95\\', \\'sbv challenge gold standard: AC2\\', \\'rin: 8.96\\', \\'rin: 8.1\\', \\'rin: 8.74\\'], 20: [nan, \\'sbv challenge gold standard: AC1\\', \\'sbv challenge gold standard: SCC2\\', \\'sbv challenge gold standard: SCC1\\', \\'sbv challenge gold standard: AC2\\']}\\n'"
      ]
     },
     "execution_count": 147,
     "metadata": {},
     "output_type": "execute_result"
    }
   ],
   "source": [
    "f'''As a biomedical research team, we are selecting datasets to study the association between the human trait \\'{TRAIT}\\' and genetic factors, optionally considering the influence of age and gender. After searching the GEO database and parsing the matrix file of a series, we obtained background information and sample characteristics data. We will provide textual information about the dataset background, and a Python dictionary storing a list of unique values for each field of the sample characteristics data. Please carefully review the provided information and answer the following questions about this dataset:\n",
    "1. Does this dataset contain gene expression data? (Note: Pure miRNA data is not suitable.)\n",
    "2. For each of the traits \\'{TRAIT}\\', 'age', and 'gender', please address these points:\n",
    "   (1) Is there human data available for this trait?\n",
    "   (2) If so, identify the key in the sample characteristics dictionary where unique values of this trait is recorded. The key is an integer. The trait information might be explicitly recorded, or can be inferred from the field with some biomedical knowledge or understanding about the data collection process.\n",
    "   (3) Choose an appropriate data type (either 'continuous' or 'binary') for each trait. Write a Python function to convert any given value of the trait to this data type. The function should handle inference about the trait value and convert unknown values to None.\n",
    "   Name the functions 'convert_trait', 'convert_age', and 'convert_gender', respectively.\n",
    "\n",
    "Background information about the dataset:\n",
    "{background_info}\n",
    "\n",
    "Sample characteristics dictionary (from \"!Sample_characteristics_ch1\", converted to a Python dictionary that stores the unique values for each field):\n",
    "{clinical_data_unique}\n",
    "'''"
   ]
  },
  {
   "cell_type": "markdown",
   "metadata": {
    "ExecuteTime": {
     "end_time": "2023-12-31T03:58:04.978240504Z",
     "start_time": "2023-12-31T03:58:04.922365324Z"
    },
    "collapsed": false
   },
   "source": [
    "Understand and verify the answer from GPT, to assign values to the below variables. Assign None to the 'row_id' variables if relevant data row was not found.\n",
    "Later we need to let GPT format its answer to automatically do these. But given the complexity of this step, let's grow some insight from the free-text answers for now."
   ]
  },
  {
   "cell_type": "markdown",
   "metadata": {},
   "source": [
    "Seems like the trait_type should not be binary, since there are multiples types, but not sure how to fix this"
   ]
  },
  {
   "cell_type": "code",
   "execution_count": 148,
   "metadata": {
    "ExecuteTime": {
     "end_time": "2024-01-02T01:03:03.079540570Z",
     "start_time": "2024-01-02T01:03:03.073638535Z"
    },
    "collapsed": false
   },
   "outputs": [],
   "source": [
    "\n",
    "is_gene_availabe = True\n",
    "trait_row = 2\n",
    "age_row = 1\n",
    "gender_row = 0\n",
    "\n",
    "trait_type = 'binary'"
   ]
  },
  {
   "cell_type": "code",
   "execution_count": 149,
   "metadata": {
    "ExecuteTime": {
     "end_time": "2024-01-02T01:03:03.572682163Z",
     "start_time": "2024-01-02T01:03:03.559775513Z"
    },
    "collapsed": false
   },
   "outputs": [],
   "source": [
    "is_available = is_gene_availabe and (trait_row is not None)\n",
    "if not is_available:\n",
    "    save_cohort_info(cohort, JSON_PATH, is_available)\n",
    "    print(\"This cohort is not usable. Please skip the following steps and jump to the next accession number.\")"
   ]
  },
  {
   "cell_type": "code",
   "execution_count": 150,
   "metadata": {
    "ExecuteTime": {
     "end_time": "2024-01-02T01:03:03.973964287Z",
     "start_time": "2024-01-02T01:03:03.964958096Z"
    },
    "collapsed": false
   },
   "outputs": [
    {
     "data": {
      "text/plain": [
       "(1, 23, 1)"
      ]
     },
     "execution_count": 150,
     "metadata": {},
     "output_type": "execute_result"
    }
   ],
   "source": [
    "def convert_trait(tissue_type):\n",
    "    \"\"\"\n",
    "    Convert tissue type to epilepsy presence (binary).\n",
    "    Assuming epilepsy presence for 'Hippocampus' tissue.\n",
    "    \"\"\"\n",
    "    if tissue_type =='hp_presence: yes':\n",
    "        return 1  # Epilepsy present\n",
    "    else:\n",
    "        return 0  # Epilepsy not present\n",
    "\n",
    "def convert_age(age_string):\n",
    "    \"\"\"\n",
    "    Convert age string to a numerical value.\n",
    "    \"\"\"\n",
    "    if age_string.startswith('age: '):\n",
    "        try:\n",
    "            return int(age_string.split('age: ')[1].rstrip(''))  # Extracting numeric part\n",
    "        except ValueError:\n",
    "            return None  # In case of parsing error\n",
    "    else:\n",
    "        return None  # If age string does not follow expected format\n",
    "\n",
    "def convert_gender(gender_string):\n",
    "    \"\"\"\n",
    "    Convert gender string to a binary representation.\n",
    "    Female -> 0, Male -> 1, Unknown -> None\n",
    "    \"\"\"\n",
    "    if gender_string == 'gender: Female':\n",
    "        return 0\n",
    "    elif gender_string == 'gender: Male':\n",
    "        return 1\n",
    "    else:\n",
    "        return None  # In case of unknown gender\n",
    "\n",
    "# Example usage\n",
    "example_tissue = 'hp_presence: yes'\n",
    "example_age = 'age: 23'\n",
    "example_gender = 'gender: Male'\n",
    "\n",
    "converted_trait = convert_trait(example_tissue)\n",
    "converted_age = convert_age(example_age)\n",
    "converted_gender = convert_gender(example_gender)\n",
    "\n",
    "converted_trait, converted_age, converted_gender"
   ]
  },
  {
   "cell_type": "code",
   "execution_count": 151,
   "metadata": {
    "ExecuteTime": {
     "end_time": "2024-01-02T01:03:04.637878352Z",
     "start_time": "2024-01-02T01:03:04.593886885Z"
    },
    "collapsed": false
   },
   "outputs": [
    {
     "data": {
      "text/html": [
       "<div>\n",
       "<style scoped>\n",
       "    .dataframe tbody tr th:only-of-type {\n",
       "        vertical-align: middle;\n",
       "    }\n",
       "\n",
       "    .dataframe tbody tr th {\n",
       "        vertical-align: top;\n",
       "    }\n",
       "\n",
       "    .dataframe thead th {\n",
       "        text-align: right;\n",
       "    }\n",
       "</style>\n",
       "<table border=\"1\" class=\"dataframe\">\n",
       "  <thead>\n",
       "    <tr style=\"text-align: right;\">\n",
       "      <th></th>\n",
       "      <th>GSM1065725</th>\n",
       "      <th>GSM1065726</th>\n",
       "      <th>GSM1065727</th>\n",
       "      <th>GSM1065728</th>\n",
       "      <th>GSM1065729</th>\n",
       "      <th>GSM1065730</th>\n",
       "      <th>GSM1065731</th>\n",
       "      <th>GSM1065732</th>\n",
       "      <th>GSM1065733</th>\n",
       "      <th>GSM1065734</th>\n",
       "      <th>...</th>\n",
       "      <th>GSM1065865</th>\n",
       "      <th>GSM1065866</th>\n",
       "      <th>GSM1065867</th>\n",
       "      <th>GSM1065868</th>\n",
       "      <th>GSM1065869</th>\n",
       "      <th>GSM1065870</th>\n",
       "      <th>GSM1065871</th>\n",
       "      <th>GSM1065872</th>\n",
       "      <th>GSM1065873</th>\n",
       "      <th>GSM1065874</th>\n",
       "    </tr>\n",
       "  </thead>\n",
       "  <tbody>\n",
       "    <tr>\n",
       "      <th>Peptic ulcer disease</th>\n",
       "      <td>0</td>\n",
       "      <td>0</td>\n",
       "      <td>0</td>\n",
       "      <td>0</td>\n",
       "      <td>0</td>\n",
       "      <td>0</td>\n",
       "      <td>0</td>\n",
       "      <td>0</td>\n",
       "      <td>0</td>\n",
       "      <td>0</td>\n",
       "      <td>...</td>\n",
       "      <td>0</td>\n",
       "      <td>0</td>\n",
       "      <td>0</td>\n",
       "      <td>0</td>\n",
       "      <td>0</td>\n",
       "      <td>0</td>\n",
       "      <td>0</td>\n",
       "      <td>0</td>\n",
       "      <td>0</td>\n",
       "      <td>0</td>\n",
       "    </tr>\n",
       "    <tr>\n",
       "      <th>Age</th>\n",
       "      <td>None</td>\n",
       "      <td>None</td>\n",
       "      <td>None</td>\n",
       "      <td>None</td>\n",
       "      <td>None</td>\n",
       "      <td>None</td>\n",
       "      <td>None</td>\n",
       "      <td>None</td>\n",
       "      <td>None</td>\n",
       "      <td>None</td>\n",
       "      <td>...</td>\n",
       "      <td>None</td>\n",
       "      <td>None</td>\n",
       "      <td>None</td>\n",
       "      <td>None</td>\n",
       "      <td>None</td>\n",
       "      <td>None</td>\n",
       "      <td>None</td>\n",
       "      <td>None</td>\n",
       "      <td>None</td>\n",
       "      <td>None</td>\n",
       "    </tr>\n",
       "    <tr>\n",
       "      <th>Gender</th>\n",
       "      <td>None</td>\n",
       "      <td>None</td>\n",
       "      <td>None</td>\n",
       "      <td>None</td>\n",
       "      <td>None</td>\n",
       "      <td>None</td>\n",
       "      <td>None</td>\n",
       "      <td>None</td>\n",
       "      <td>None</td>\n",
       "      <td>None</td>\n",
       "      <td>...</td>\n",
       "      <td>None</td>\n",
       "      <td>None</td>\n",
       "      <td>None</td>\n",
       "      <td>None</td>\n",
       "      <td>None</td>\n",
       "      <td>None</td>\n",
       "      <td>None</td>\n",
       "      <td>None</td>\n",
       "      <td>None</td>\n",
       "      <td>None</td>\n",
       "    </tr>\n",
       "  </tbody>\n",
       "</table>\n",
       "<p>3 rows × 150 columns</p>\n",
       "</div>"
      ],
      "text/plain": [
       "                     GSM1065725 GSM1065726 GSM1065727 GSM1065728 GSM1065729  \\\n",
       "Peptic ulcer disease          0          0          0          0          0   \n",
       "Age                        None       None       None       None       None   \n",
       "Gender                     None       None       None       None       None   \n",
       "\n",
       "                     GSM1065730 GSM1065731 GSM1065732 GSM1065733 GSM1065734  \\\n",
       "Peptic ulcer disease          0          0          0          0          0   \n",
       "Age                        None       None       None       None       None   \n",
       "Gender                     None       None       None       None       None   \n",
       "\n",
       "                      ... GSM1065865 GSM1065866 GSM1065867 GSM1065868  \\\n",
       "Peptic ulcer disease  ...          0          0          0          0   \n",
       "Age                   ...       None       None       None       None   \n",
       "Gender                ...       None       None       None       None   \n",
       "\n",
       "                     GSM1065869 GSM1065870 GSM1065871 GSM1065872 GSM1065873  \\\n",
       "Peptic ulcer disease          0          0          0          0          0   \n",
       "Age                        None       None       None       None       None   \n",
       "Gender                     None       None       None       None       None   \n",
       "\n",
       "                     GSM1065874  \n",
       "Peptic ulcer disease          0  \n",
       "Age                        None  \n",
       "Gender                     None  \n",
       "\n",
       "[3 rows x 150 columns]"
      ]
     },
     "execution_count": 151,
     "metadata": {},
     "output_type": "execute_result"
    }
   ],
   "source": [
    "selected_clinical_data = geo_select_clinical_features(clinical_data, TRAIT, trait_row, convert_trait, age_row=age_row,\n",
    "                                                      convert_age=convert_age, gender_row=gender_row,\n",
    "                                                      convert_gender=convert_gender)\n",
    "selected_clinical_data.head()"
   ]
  },
  {
   "cell_type": "markdown",
   "metadata": {
    "ExecuteTime": {
     "end_time": "2023-12-31T03:58:04.978664193Z",
     "start_time": "2023-12-31T03:58:04.966117261Z"
    },
    "collapsed": false
   },
   "source": [
    "### Genetic data preprocessing and final filtering"
   ]
  },
  {
   "cell_type": "code",
   "execution_count": 152,
   "metadata": {
    "ExecuteTime": {
     "end_time": "2024-01-02T01:03:06.246474256Z",
     "start_time": "2024-01-02T01:03:05.670354792Z"
    },
    "collapsed": false
   },
   "outputs": [
    {
     "data": {
      "text/html": [
       "<div>\n",
       "<style scoped>\n",
       "    .dataframe tbody tr th:only-of-type {\n",
       "        vertical-align: middle;\n",
       "    }\n",
       "\n",
       "    .dataframe tbody tr th {\n",
       "        vertical-align: top;\n",
       "    }\n",
       "\n",
       "    .dataframe thead th {\n",
       "        text-align: right;\n",
       "    }\n",
       "</style>\n",
       "<table border=\"1\" class=\"dataframe\">\n",
       "  <thead>\n",
       "    <tr style=\"text-align: right;\">\n",
       "      <th></th>\n",
       "      <th>GSM1065725</th>\n",
       "      <th>GSM1065726</th>\n",
       "      <th>GSM1065727</th>\n",
       "      <th>GSM1065728</th>\n",
       "      <th>GSM1065729</th>\n",
       "      <th>GSM1065730</th>\n",
       "      <th>GSM1065731</th>\n",
       "      <th>GSM1065732</th>\n",
       "      <th>GSM1065733</th>\n",
       "      <th>GSM1065734</th>\n",
       "      <th>...</th>\n",
       "      <th>GSM1065865</th>\n",
       "      <th>GSM1065866</th>\n",
       "      <th>GSM1065867</th>\n",
       "      <th>GSM1065868</th>\n",
       "      <th>GSM1065869</th>\n",
       "      <th>GSM1065870</th>\n",
       "      <th>GSM1065871</th>\n",
       "      <th>GSM1065872</th>\n",
       "      <th>GSM1065873</th>\n",
       "      <th>GSM1065874</th>\n",
       "    </tr>\n",
       "    <tr>\n",
       "      <th>ID</th>\n",
       "      <th></th>\n",
       "      <th></th>\n",
       "      <th></th>\n",
       "      <th></th>\n",
       "      <th></th>\n",
       "      <th></th>\n",
       "      <th></th>\n",
       "      <th></th>\n",
       "      <th></th>\n",
       "      <th></th>\n",
       "      <th></th>\n",
       "      <th></th>\n",
       "      <th></th>\n",
       "      <th></th>\n",
       "      <th></th>\n",
       "      <th></th>\n",
       "      <th></th>\n",
       "      <th></th>\n",
       "      <th></th>\n",
       "      <th></th>\n",
       "      <th></th>\n",
       "    </tr>\n",
       "  </thead>\n",
       "  <tbody>\n",
       "    <tr>\n",
       "      <th>1007_s_at</th>\n",
       "      <td>3436.7820</td>\n",
       "      <td>3304.27300</td>\n",
       "      <td>2197.12400</td>\n",
       "      <td>2815.7060</td>\n",
       "      <td>3707.87400</td>\n",
       "      <td>2321.4000</td>\n",
       "      <td>1794.30100</td>\n",
       "      <td>4989.02400</td>\n",
       "      <td>2451.17400</td>\n",
       "      <td>4437.60000</td>\n",
       "      <td>...</td>\n",
       "      <td>2531.44200</td>\n",
       "      <td>3057.93800</td>\n",
       "      <td>3302.16700</td>\n",
       "      <td>2876.34200</td>\n",
       "      <td>2302.4420</td>\n",
       "      <td>2435.69600</td>\n",
       "      <td>1403.93300</td>\n",
       "      <td>3188.060000</td>\n",
       "      <td>1052.40600</td>\n",
       "      <td>2732.80600</td>\n",
       "    </tr>\n",
       "    <tr>\n",
       "      <th>1053_at</th>\n",
       "      <td>895.8463</td>\n",
       "      <td>1178.84400</td>\n",
       "      <td>493.41270</td>\n",
       "      <td>487.9837</td>\n",
       "      <td>807.11980</td>\n",
       "      <td>898.1168</td>\n",
       "      <td>487.91890</td>\n",
       "      <td>956.28450</td>\n",
       "      <td>523.00660</td>\n",
       "      <td>742.22830</td>\n",
       "      <td>...</td>\n",
       "      <td>1091.43300</td>\n",
       "      <td>863.17980</td>\n",
       "      <td>279.82880</td>\n",
       "      <td>1433.30200</td>\n",
       "      <td>483.4991</td>\n",
       "      <td>472.51840</td>\n",
       "      <td>754.12210</td>\n",
       "      <td>325.676800</td>\n",
       "      <td>438.84010</td>\n",
       "      <td>575.72250</td>\n",
       "    </tr>\n",
       "    <tr>\n",
       "      <th>117_at</th>\n",
       "      <td>400.9193</td>\n",
       "      <td>486.10700</td>\n",
       "      <td>310.81070</td>\n",
       "      <td>421.0068</td>\n",
       "      <td>911.87270</td>\n",
       "      <td>303.4280</td>\n",
       "      <td>1153.86800</td>\n",
       "      <td>1217.01300</td>\n",
       "      <td>844.26650</td>\n",
       "      <td>276.02070</td>\n",
       "      <td>...</td>\n",
       "      <td>570.08420</td>\n",
       "      <td>1756.28700</td>\n",
       "      <td>307.40450</td>\n",
       "      <td>986.43420</td>\n",
       "      <td>284.8585</td>\n",
       "      <td>297.93990</td>\n",
       "      <td>1233.08500</td>\n",
       "      <td>344.073700</td>\n",
       "      <td>242.35270</td>\n",
       "      <td>505.02750</td>\n",
       "    </tr>\n",
       "    <tr>\n",
       "      <th>121_at</th>\n",
       "      <td>259.1138</td>\n",
       "      <td>384.20850</td>\n",
       "      <td>310.86190</td>\n",
       "      <td>299.6615</td>\n",
       "      <td>356.11960</td>\n",
       "      <td>386.1635</td>\n",
       "      <td>407.97170</td>\n",
       "      <td>315.42400</td>\n",
       "      <td>445.42260</td>\n",
       "      <td>299.75130</td>\n",
       "      <td>...</td>\n",
       "      <td>349.71690</td>\n",
       "      <td>367.64690</td>\n",
       "      <td>398.81310</td>\n",
       "      <td>267.62490</td>\n",
       "      <td>288.5833</td>\n",
       "      <td>438.30970</td>\n",
       "      <td>619.76300</td>\n",
       "      <td>372.962400</td>\n",
       "      <td>423.31890</td>\n",
       "      <td>437.28310</td>\n",
       "    </tr>\n",
       "    <tr>\n",
       "      <th>1255_g_at</th>\n",
       "      <td>127.8382</td>\n",
       "      <td>32.96813</td>\n",
       "      <td>40.59212</td>\n",
       "      <td>80.6160</td>\n",
       "      <td>58.36799</td>\n",
       "      <td>142.0764</td>\n",
       "      <td>53.78057</td>\n",
       "      <td>40.73191</td>\n",
       "      <td>11.78208</td>\n",
       "      <td>76.67336</td>\n",
       "      <td>...</td>\n",
       "      <td>16.27517</td>\n",
       "      <td>40.96819</td>\n",
       "      <td>45.35161</td>\n",
       "      <td>35.15165</td>\n",
       "      <td>104.7598</td>\n",
       "      <td>26.38769</td>\n",
       "      <td>19.48837</td>\n",
       "      <td>6.667458</td>\n",
       "      <td>27.64435</td>\n",
       "      <td>63.39404</td>\n",
       "    </tr>\n",
       "  </tbody>\n",
       "</table>\n",
       "<p>5 rows × 150 columns</p>\n",
       "</div>"
      ],
      "text/plain": [
       "           GSM1065725  GSM1065726  GSM1065727  GSM1065728  GSM1065729  \\\n",
       "ID                                                                      \n",
       "1007_s_at   3436.7820  3304.27300  2197.12400   2815.7060  3707.87400   \n",
       "1053_at      895.8463  1178.84400   493.41270    487.9837   807.11980   \n",
       "117_at       400.9193   486.10700   310.81070    421.0068   911.87270   \n",
       "121_at       259.1138   384.20850   310.86190    299.6615   356.11960   \n",
       "1255_g_at    127.8382    32.96813    40.59212     80.6160    58.36799   \n",
       "\n",
       "           GSM1065730  GSM1065731  GSM1065732  GSM1065733  GSM1065734  ...  \\\n",
       "ID                                                                     ...   \n",
       "1007_s_at   2321.4000  1794.30100  4989.02400  2451.17400  4437.60000  ...   \n",
       "1053_at      898.1168   487.91890   956.28450   523.00660   742.22830  ...   \n",
       "117_at       303.4280  1153.86800  1217.01300   844.26650   276.02070  ...   \n",
       "121_at       386.1635   407.97170   315.42400   445.42260   299.75130  ...   \n",
       "1255_g_at    142.0764    53.78057    40.73191    11.78208    76.67336  ...   \n",
       "\n",
       "           GSM1065865  GSM1065866  GSM1065867  GSM1065868  GSM1065869  \\\n",
       "ID                                                                      \n",
       "1007_s_at  2531.44200  3057.93800  3302.16700  2876.34200   2302.4420   \n",
       "1053_at    1091.43300   863.17980   279.82880  1433.30200    483.4991   \n",
       "117_at      570.08420  1756.28700   307.40450   986.43420    284.8585   \n",
       "121_at      349.71690   367.64690   398.81310   267.62490    288.5833   \n",
       "1255_g_at    16.27517    40.96819    45.35161    35.15165    104.7598   \n",
       "\n",
       "           GSM1065870  GSM1065871   GSM1065872  GSM1065873  GSM1065874  \n",
       "ID                                                                      \n",
       "1007_s_at  2435.69600  1403.93300  3188.060000  1052.40600  2732.80600  \n",
       "1053_at     472.51840   754.12210   325.676800   438.84010   575.72250  \n",
       "117_at      297.93990  1233.08500   344.073700   242.35270   505.02750  \n",
       "121_at      438.30970   619.76300   372.962400   423.31890   437.28310  \n",
       "1255_g_at    26.38769    19.48837     6.667458    27.64435    63.39404  \n",
       "\n",
       "[5 rows x 150 columns]"
      ]
     },
     "execution_count": 152,
     "metadata": {},
     "output_type": "execute_result"
    }
   ],
   "source": [
    "genetic_data = get_genetic_data(matrix_file)\n",
    "genetic_data.head()"
   ]
  },
  {
   "cell_type": "code",
   "execution_count": 153,
   "metadata": {
    "ExecuteTime": {
     "end_time": "2024-01-02T01:03:06.250833943Z",
     "start_time": "2024-01-02T01:03:06.246758837Z"
    },
    "collapsed": false
   },
   "outputs": [
    {
     "data": {
      "text/plain": [
       "['1007_s_at',\n",
       " '1053_at',\n",
       " '117_at',\n",
       " '121_at',\n",
       " '1255_g_at',\n",
       " '1294_at',\n",
       " '1316_at',\n",
       " '1320_at',\n",
       " '1405_i_at',\n",
       " '1431_at',\n",
       " '1438_at',\n",
       " '1487_at',\n",
       " '1494_f_at',\n",
       " '1552256_a_at',\n",
       " '1552257_a_at',\n",
       " '1552258_at',\n",
       " '1552261_at',\n",
       " '1552263_at',\n",
       " '1552264_a_at',\n",
       " '1552266_at']"
      ]
     },
     "execution_count": 153,
     "metadata": {},
     "output_type": "execute_result"
    }
   ],
   "source": [
    "gene_row_ids = genetic_data.index[:20].tolist()\n",
    "gene_row_ids"
   ]
  },
  {
   "cell_type": "markdown",
   "metadata": {
    "ExecuteTime": {
     "end_time": "2023-12-31T03:30:41.595335164Z",
     "start_time": "2023-12-31T03:30:41.513232329Z"
    },
    "collapsed": false
   },
   "source": [
    "Check if the gene dataset requires mapping to get the gene symbols corresponding to each data row."
   ]
  },
  {
   "cell_type": "markdown",
   "metadata": {
    "collapsed": false
   },
   "source": [
    "Reference prompt:"
   ]
  },
  {
   "cell_type": "code",
   "execution_count": 154,
   "metadata": {
    "ExecuteTime": {
     "end_time": "2024-01-02T01:03:07.586216481Z",
     "start_time": "2024-01-02T01:03:07.574527035Z"
    },
    "collapsed": false
   },
   "outputs": [
    {
     "data": {
      "text/plain": [
       "\"\\nBelow are the row headers of a gene expression dataset in GEO. Based on your biomedical knowledge, are they human gene symbols, or are they some other identifiers that need to be mapped to gene symbols? Your answer should be concluded by starting a new line and strictly following this format:\\nrequires_gene_mapping = (True or False)\\n\\nRow headers:\\n['1007_s_at', '1053_at', '117_at', '121_at', '1255_g_at', '1294_at', '1316_at', '1320_at', '1405_i_at', '1431_at', '1438_at', '1487_at', '1494_f_at', '1552256_a_at', '1552257_a_at', '1552258_at', '1552261_at', '1552263_at', '1552264_a_at', '1552266_at']\\n\""
      ]
     },
     "execution_count": 154,
     "metadata": {},
     "output_type": "execute_result"
    }
   ],
   "source": [
    "f'''\n",
    "Below are the row headers of a gene expression dataset in GEO. Based on your biomedical knowledge, are they human gene symbols, or are they some other identifiers that need to be mapped to gene symbols? Your answer should be concluded by starting a new line and strictly following this format:\n",
    "requires_gene_mapping = (True or False)\n",
    "\n",
    "Row headers:\n",
    "{gene_row_ids}\n",
    "'''"
   ]
  },
  {
   "cell_type": "markdown",
   "metadata": {
    "collapsed": false
   },
   "source": [
    "If not required, jump directly to the gene normalization step"
   ]
  },
  {
   "cell_type": "code",
   "execution_count": 155,
   "metadata": {
    "ExecuteTime": {
     "end_time": "2024-01-02T01:03:08.263712538Z",
     "start_time": "2024-01-02T01:03:08.260656314Z"
    },
    "collapsed": false
   },
   "outputs": [],
   "source": [
    "requires_gene_mapping = True"
   ]
  },
  {
   "cell_type": "code",
   "execution_count": 156,
   "metadata": {
    "ExecuteTime": {
     "end_time": "2024-01-02T01:03:33.822550310Z",
     "start_time": "2024-01-02T01:03:08.648958912Z"
    },
    "collapsed": false
   },
   "outputs": [
    {
     "name": "stdout",
     "output_type": "stream",
     "text": [
      "{'ID': ['1007_s_at', '1053_at', '117_at', '121_at', '1255_g_at'], 'GB_ACC': ['U48705', 'M87338', 'X51757', 'X69699', 'L36861'], 'SPOT_ID': [nan, nan, nan, nan, nan], 'Species Scientific Name': ['Homo sapiens', 'Homo sapiens', 'Homo sapiens', 'Homo sapiens', 'Homo sapiens'], 'Annotation Date': ['Oct 6, 2014', 'Oct 6, 2014', 'Oct 6, 2014', 'Oct 6, 2014', 'Oct 6, 2014'], 'Sequence Type': ['Exemplar sequence', 'Exemplar sequence', 'Exemplar sequence', 'Exemplar sequence', 'Exemplar sequence'], 'Sequence Source': ['Affymetrix Proprietary Database', 'GenBank', 'Affymetrix Proprietary Database', 'GenBank', 'Affymetrix Proprietary Database'], 'Target Description': ['U48705 /FEATURE=mRNA /DEFINITION=HSU48705 Human receptor tyrosine kinase DDR gene, complete cds', 'M87338 /FEATURE= /DEFINITION=HUMA1SBU Human replication factor C, 40-kDa subunit (A1) mRNA, complete cds', \"X51757 /FEATURE=cds /DEFINITION=HSP70B Human heat-shock protein HSP70B' gene\", 'X69699 /FEATURE= /DEFINITION=HSPAX8A H.sapiens Pax8 mRNA', 'L36861 /FEATURE=expanded_cds /DEFINITION=HUMGCAPB Homo sapiens guanylate cyclase activating protein (GCAP) gene exons 1-4, complete cds'], 'Representative Public ID': ['U48705', 'M87338', 'X51757', 'X69699', 'L36861'], 'Gene Title': ['discoidin domain receptor tyrosine kinase 1 /// microRNA 4640', 'replication factor C (activator 1) 2, 40kDa', \"heat shock 70kDa protein 6 (HSP70B')\", 'paired box 8', 'guanylate cyclase activator 1A (retina)'], 'Gene Symbol': ['DDR1 /// MIR4640', 'RFC2', 'HSPA6', 'PAX8', 'GUCA1A'], 'ENTREZ_GENE_ID': ['780 /// 100616237', '5982', '3310', '7849', '2978'], 'RefSeq Transcript ID': ['NM_001202521 /// NM_001202522 /// NM_001202523 /// NM_001954 /// NM_013993 /// NM_013994 /// NR_039783 /// XM_005249385 /// XM_005249386 /// XM_005249387 /// XM_005249389 /// XM_005272873 /// XM_005272874 /// XM_005272875 /// XM_005272877 /// XM_005275027 /// XM_005275028 /// XM_005275030 /// XM_005275031 /// XM_005275162 /// XM_005275163 /// XM_005275164 /// XM_005275166 /// XM_005275457 /// XM_005275458 /// XM_005275459 /// XM_005275461 /// XM_006715185 /// XM_006715186 /// XM_006715187 /// XM_006715188 /// XM_006715189 /// XM_006715190 /// XM_006725501 /// XM_006725502 /// XM_006725503 /// XM_006725504 /// XM_006725505 /// XM_006725506 /// XM_006725714 /// XM_006725715 /// XM_006725716 /// XM_006725717 /// XM_006725718 /// XM_006725719 /// XM_006725720 /// XM_006725721 /// XM_006725722 /// XM_006725827 /// XM_006725828 /// XM_006725829 /// XM_006725830 /// XM_006725831 /// XM_006725832 /// XM_006726017 /// XM_006726018 /// XM_006726019 /// XM_006726020 /// XM_006726021 /// XM_006726022 /// XR_427836 /// XR_430858 /// XR_430938 /// XR_430974 /// XR_431015', 'NM_001278791 /// NM_001278792 /// NM_001278793 /// NM_002914 /// NM_181471 /// XM_006716080', 'NM_002155', 'NM_003466 /// NM_013951 /// NM_013952 /// NM_013953 /// NM_013992', 'NM_000409 /// XM_006715073'], 'Gene Ontology Biological Process': ['0001558 // regulation of cell growth // inferred from electronic annotation /// 0001952 // regulation of cell-matrix adhesion // inferred from electronic annotation /// 0006468 // protein phosphorylation // inferred from electronic annotation /// 0007155 // cell adhesion // traceable author statement /// 0007169 // transmembrane receptor protein tyrosine kinase signaling pathway // inferred from electronic annotation /// 0007565 // female pregnancy // inferred from electronic annotation /// 0007566 // embryo implantation // inferred from electronic annotation /// 0007595 // lactation // inferred from electronic annotation /// 0008285 // negative regulation of cell proliferation // inferred from electronic annotation /// 0010715 // regulation of extracellular matrix disassembly // inferred from mutant phenotype /// 0014909 // smooth muscle cell migration // inferred from mutant phenotype /// 0016310 // phosphorylation // inferred from electronic annotation /// 0018108 // peptidyl-tyrosine phosphorylation // inferred from electronic annotation /// 0030198 // extracellular matrix organization // traceable author statement /// 0038063 // collagen-activated tyrosine kinase receptor signaling pathway // inferred from direct assay /// 0038063 // collagen-activated tyrosine kinase receptor signaling pathway // inferred from mutant phenotype /// 0038083 // peptidyl-tyrosine autophosphorylation // inferred from direct assay /// 0043583 // ear development // inferred from electronic annotation /// 0044319 // wound healing, spreading of cells // inferred from mutant phenotype /// 0046777 // protein autophosphorylation // inferred from direct assay /// 0060444 // branching involved in mammary gland duct morphogenesis // inferred from electronic annotation /// 0060749 // mammary gland alveolus development // inferred from electronic annotation /// 0061302 // smooth muscle cell-matrix adhesion // inferred from mutant phenotype', '0000278 // mitotic cell cycle // traceable author statement /// 0000722 // telomere maintenance via recombination // traceable author statement /// 0000723 // telomere maintenance // traceable author statement /// 0006260 // DNA replication // traceable author statement /// 0006271 // DNA strand elongation involved in DNA replication // traceable author statement /// 0006281 // DNA repair // traceable author statement /// 0006283 // transcription-coupled nucleotide-excision repair // traceable author statement /// 0006289 // nucleotide-excision repair // traceable author statement /// 0006297 // nucleotide-excision repair, DNA gap filling // traceable author statement /// 0015979 // photosynthesis // inferred from electronic annotation /// 0015995 // chlorophyll biosynthetic process // inferred from electronic annotation /// 0032201 // telomere maintenance via semi-conservative replication // traceable author statement', '0000902 // cell morphogenesis // inferred from electronic annotation /// 0006200 // ATP catabolic process // inferred from direct assay /// 0006950 // response to stress // inferred from electronic annotation /// 0006986 // response to unfolded protein // traceable author statement /// 0034605 // cellular response to heat // inferred from direct assay /// 0042026 // protein refolding // inferred from direct assay /// 0070370 // cellular heat acclimation // inferred from mutant phenotype', '0001655 // urogenital system development // inferred from sequence or structural similarity /// 0001656 // metanephros development // inferred from electronic annotation /// 0001658 // branching involved in ureteric bud morphogenesis // inferred from expression pattern /// 0001822 // kidney development // inferred from expression pattern /// 0001823 // mesonephros development // inferred from sequence or structural similarity /// 0003337 // mesenchymal to epithelial transition involved in metanephros morphogenesis // inferred from expression pattern /// 0006351 // transcription, DNA-templated // inferred from direct assay /// 0006355 // regulation of transcription, DNA-templated // inferred from electronic annotation /// 0007275 // multicellular organismal development // inferred from electronic annotation /// 0007417 // central nervous system development // inferred from expression pattern /// 0009653 // anatomical structure morphogenesis // traceable author statement /// 0030154 // cell differentiation // inferred from electronic annotation /// 0030878 // thyroid gland development // inferred from expression pattern /// 0030878 // thyroid gland development // inferred from mutant phenotype /// 0038194 // thyroid-stimulating hormone signaling pathway // traceable author statement /// 0039003 // pronephric field specification // inferred from sequence or structural similarity /// 0042472 // inner ear morphogenesis // inferred from sequence or structural similarity /// 0042981 // regulation of apoptotic process // inferred from sequence or structural similarity /// 0045893 // positive regulation of transcription, DNA-templated // inferred from direct assay /// 0045893 // positive regulation of transcription, DNA-templated // inferred from sequence or structural similarity /// 0045944 // positive regulation of transcription from RNA polymerase II promoter // inferred from direct assay /// 0048793 // pronephros development // inferred from sequence or structural similarity /// 0071371 // cellular response to gonadotropin stimulus // inferred from direct assay /// 0071599 // otic vesicle development // inferred from expression pattern /// 0072050 // S-shaped body morphogenesis // inferred from electronic annotation /// 0072073 // kidney epithelium development // inferred from electronic annotation /// 0072108 // positive regulation of mesenchymal to epithelial transition involved in metanephros morphogenesis // inferred from sequence or structural similarity /// 0072164 // mesonephric tubule development // inferred from electronic annotation /// 0072207 // metanephric epithelium development // inferred from expression pattern /// 0072221 // metanephric distal convoluted tubule development // inferred from sequence or structural similarity /// 0072278 // metanephric comma-shaped body morphogenesis // inferred from expression pattern /// 0072284 // metanephric S-shaped body morphogenesis // inferred from expression pattern /// 0072289 // metanephric nephron tubule formation // inferred from sequence or structural similarity /// 0072305 // negative regulation of mesenchymal cell apoptotic process involved in metanephric nephron morphogenesis // inferred from sequence or structural similarity /// 0072307 // regulation of metanephric nephron tubule epithelial cell differentiation // inferred from sequence or structural similarity /// 0090190 // positive regulation of branching involved in ureteric bud morphogenesis // inferred from sequence or structural similarity /// 1900212 // negative regulation of mesenchymal cell apoptotic process involved in metanephros development // inferred from sequence or structural similarity /// 1900215 // negative regulation of apoptotic process involved in metanephric collecting duct development // inferred from sequence or structural similarity /// 1900218 // negative regulation of apoptotic process involved in metanephric nephron tubule development // inferred from sequence or structural similarity /// 2000594 // positive regulation of metanephric DCT cell differentiation // inferred from sequence or structural similarity /// 2000611 // positive regulation of thyroid hormone generation // inferred from mutant phenotype /// 2000612 // regulation of thyroid-stimulating hormone secretion // inferred from mutant phenotype', '0007165 // signal transduction // non-traceable author statement /// 0007601 // visual perception // inferred from electronic annotation /// 0007602 // phototransduction // inferred from electronic annotation /// 0007603 // phototransduction, visible light // traceable author statement /// 0016056 // rhodopsin mediated signaling pathway // traceable author statement /// 0022400 // regulation of rhodopsin mediated signaling pathway // traceable author statement /// 0030828 // positive regulation of cGMP biosynthetic process // inferred from electronic annotation /// 0031282 // regulation of guanylate cyclase activity // inferred from electronic annotation /// 0031284 // positive regulation of guanylate cyclase activity // inferred from electronic annotation /// 0050896 // response to stimulus // inferred from electronic annotation'], 'Gene Ontology Cellular Component': ['0005576 // extracellular region // inferred from electronic annotation /// 0005615 // extracellular space // inferred from direct assay /// 0005886 // plasma membrane // traceable author statement /// 0005887 // integral component of plasma membrane // traceable author statement /// 0016020 // membrane // inferred from electronic annotation /// 0016021 // integral component of membrane // inferred from electronic annotation /// 0043235 // receptor complex // inferred from direct assay /// 0070062 // extracellular vesicular exosome // inferred from direct assay', '0005634 // nucleus // inferred from electronic annotation /// 0005654 // nucleoplasm // traceable author statement /// 0005663 // DNA replication factor C complex // inferred from direct assay', '0005737 // cytoplasm // inferred from direct assay /// 0005814 // centriole // inferred from direct assay /// 0005829 // cytosol // inferred from direct assay /// 0008180 // COP9 signalosome // inferred from direct assay /// 0070062 // extracellular vesicular exosome // inferred from direct assay /// 0072562 // blood microparticle // inferred from direct assay', '0005634 // nucleus // inferred from direct assay /// 0005654 // nucleoplasm // inferred from sequence or structural similarity /// 0005730 // nucleolus // inferred from direct assay', '0001750 // photoreceptor outer segment // inferred from electronic annotation /// 0001917 // photoreceptor inner segment // inferred from electronic annotation /// 0005578 // proteinaceous extracellular matrix // inferred from electronic annotation /// 0005886 // plasma membrane // inferred from direct assay /// 0016020 // membrane // inferred from electronic annotation /// 0097381 // photoreceptor disc membrane // traceable author statement'], 'Gene Ontology Molecular Function': ['0000166 // nucleotide binding // inferred from electronic annotation /// 0004672 // protein kinase activity // inferred from electronic annotation /// 0004713 // protein tyrosine kinase activity // inferred from electronic annotation /// 0004714 // transmembrane receptor protein tyrosine kinase activity // traceable author statement /// 0005515 // protein binding // inferred from physical interaction /// 0005518 // collagen binding // inferred from direct assay /// 0005518 // collagen binding // inferred from mutant phenotype /// 0005524 // ATP binding // inferred from electronic annotation /// 0016301 // kinase activity // inferred from electronic annotation /// 0016740 // transferase activity // inferred from electronic annotation /// 0016772 // transferase activity, transferring phosphorus-containing groups // inferred from electronic annotation /// 0038062 // protein tyrosine kinase collagen receptor activity // inferred from direct assay /// 0046872 // metal ion binding // inferred from electronic annotation', '0000166 // nucleotide binding // inferred from electronic annotation /// 0003677 // DNA binding // inferred from electronic annotation /// 0005515 // protein binding // inferred from physical interaction /// 0005524 // ATP binding // inferred from electronic annotation /// 0016851 // magnesium chelatase activity // inferred from electronic annotation /// 0017111 // nucleoside-triphosphatase activity // inferred from electronic annotation', '0000166 // nucleotide binding // inferred from electronic annotation /// 0005524 // ATP binding // inferred from electronic annotation /// 0019899 // enzyme binding // inferred from physical interaction /// 0031072 // heat shock protein binding // inferred from physical interaction /// 0042623 // ATPase activity, coupled // inferred from direct assay /// 0051082 // unfolded protein binding // inferred from direct assay', '0000979 // RNA polymerase II core promoter sequence-specific DNA binding // inferred from direct assay /// 0003677 // DNA binding // inferred from direct assay /// 0003677 // DNA binding // inferred from mutant phenotype /// 0003700 // sequence-specific DNA binding transcription factor activity // inferred from direct assay /// 0004996 // thyroid-stimulating hormone receptor activity // traceable author statement /// 0005515 // protein binding // inferred from physical interaction /// 0044212 // transcription regulatory region DNA binding // inferred from direct assay', '0005509 // calcium ion binding // inferred from electronic annotation /// 0008048 // calcium sensitive guanylate cyclase activator activity // inferred from electronic annotation /// 0030249 // guanylate cyclase regulator activity // inferred from electronic annotation /// 0046872 // metal ion binding // inferred from electronic annotation']}\n"
     ]
    }
   ],
   "source": [
    "if requires_gene_mapping:\n",
    "    gene_annotation = get_gene_annotation(soft_file)\n",
    "    gene_annotation_summary = preview_df(gene_annotation)\n",
    "    print(gene_annotation_summary)"
   ]
  },
  {
   "cell_type": "markdown",
   "metadata": {
    "ExecuteTime": {
     "end_time": "2023-12-31T03:58:04.978931927Z",
     "start_time": "2023-12-31T03:58:04.966328339Z"
    },
    "collapsed": false
   },
   "source": [
    "Observe the first few cells in the ID column of the gene annotation dataframe, to find the names of columns that store the gene probe IDs and gene symbols respectively.\n",
    "Reference prompt:"
   ]
  },
  {
   "cell_type": "code",
   "execution_count": 157,
   "metadata": {
    "ExecuteTime": {
     "end_time": "2024-01-02T01:03:33.822912446Z",
     "start_time": "2024-01-02T01:03:33.804491826Z"
    },
    "collapsed": false
   },
   "outputs": [
    {
     "name": "stdout",
     "output_type": "stream",
     "text": [
      "\n",
      "    As a biomedical research team, we extracted the gene annotation data from a series in the GEO database, and saved it to a Python dictionary. Please read the dictionary, and decide which key stores the ID of the probe, and which key stores the gene symbols. Please strict follow this format in your answer:\n",
      "    probe_name_key = 'key_name1'\n",
      "    gene_name_key = 'key_name2'\n",
      "\n",
      "    Gene annotation dictionary:\n",
      "    {'ID': ['1007_s_at', '1053_at', '117_at', '121_at', '1255_g_at'], 'GB_ACC': ['U48705', 'M87338', 'X51757', 'X69699', 'L36861'], 'SPOT_ID': [nan, nan, nan, nan, nan], 'Species Scientific Name': ['Homo sapiens', 'Homo sapiens', 'Homo sapiens', 'Homo sapiens', 'Homo sapiens'], 'Annotation Date': ['Oct 6, 2014', 'Oct 6, 2014', 'Oct 6, 2014', 'Oct 6, 2014', 'Oct 6, 2014'], 'Sequence Type': ['Exemplar sequence', 'Exemplar sequence', 'Exemplar sequence', 'Exemplar sequence', 'Exemplar sequence'], 'Sequence Source': ['Affymetrix Proprietary Database', 'GenBank', 'Affymetrix Proprietary Database', 'GenBank', 'Affymetrix Proprietary Database'], 'Target Description': ['U48705 /FEATURE=mRNA /DEFINITION=HSU48705 Human receptor tyrosine kinase DDR gene, complete cds', 'M87338 /FEATURE= /DEFINITION=HUMA1SBU Human replication factor C, 40-kDa subunit (A1) mRNA, complete cds', \"X51757 /FEATURE=cds /DEFINITION=HSP70B Human heat-shock protein HSP70B' gene\", 'X69699 /FEATURE= /DEFINITION=HSPAX8A H.sapiens Pax8 mRNA', 'L36861 /FEATURE=expanded_cds /DEFINITION=HUMGCAPB Homo sapiens guanylate cyclase activating protein (GCAP) gene exons 1-4, complete cds'], 'Representative Public ID': ['U48705', 'M87338', 'X51757', 'X69699', 'L36861'], 'Gene Title': ['discoidin domain receptor tyrosine kinase 1 /// microRNA 4640', 'replication factor C (activator 1) 2, 40kDa', \"heat shock 70kDa protein 6 (HSP70B')\", 'paired box 8', 'guanylate cyclase activator 1A (retina)'], 'Gene Symbol': ['DDR1 /// MIR4640', 'RFC2', 'HSPA6', 'PAX8', 'GUCA1A'], 'ENTREZ_GENE_ID': ['780 /// 100616237', '5982', '3310', '7849', '2978'], 'RefSeq Transcript ID': ['NM_001202521 /// NM_001202522 /// NM_001202523 /// NM_001954 /// NM_013993 /// NM_013994 /// NR_039783 /// XM_005249385 /// XM_005249386 /// XM_005249387 /// XM_005249389 /// XM_005272873 /// XM_005272874 /// XM_005272875 /// XM_005272877 /// XM_005275027 /// XM_005275028 /// XM_005275030 /// XM_005275031 /// XM_005275162 /// XM_005275163 /// XM_005275164 /// XM_005275166 /// XM_005275457 /// XM_005275458 /// XM_005275459 /// XM_005275461 /// XM_006715185 /// XM_006715186 /// XM_006715187 /// XM_006715188 /// XM_006715189 /// XM_006715190 /// XM_006725501 /// XM_006725502 /// XM_006725503 /// XM_006725504 /// XM_006725505 /// XM_006725506 /// XM_006725714 /// XM_006725715 /// XM_006725716 /// XM_006725717 /// XM_006725718 /// XM_006725719 /// XM_006725720 /// XM_006725721 /// XM_006725722 /// XM_006725827 /// XM_006725828 /// XM_006725829 /// XM_006725830 /// XM_006725831 /// XM_006725832 /// XM_006726017 /// XM_006726018 /// XM_006726019 /// XM_006726020 /// XM_006726021 /// XM_006726022 /// XR_427836 /// XR_430858 /// XR_430938 /// XR_430974 /// XR_431015', 'NM_001278791 /// NM_001278792 /// NM_001278793 /// NM_002914 /// NM_181471 /// XM_006716080', 'NM_002155', 'NM_003466 /// NM_013951 /// NM_013952 /// NM_013953 /// NM_013992', 'NM_000409 /// XM_006715073'], 'Gene Ontology Biological Process': ['0001558 // regulation of cell growth // inferred from electronic annotation /// 0001952 // regulation of cell-matrix adhesion // inferred from electronic annotation /// 0006468 // protein phosphorylation // inferred from electronic annotation /// 0007155 // cell adhesion // traceable author statement /// 0007169 // transmembrane receptor protein tyrosine kinase signaling pathway // inferred from electronic annotation /// 0007565 // female pregnancy // inferred from electronic annotation /// 0007566 // embryo implantation // inferred from electronic annotation /// 0007595 // lactation // inferred from electronic annotation /// 0008285 // negative regulation of cell proliferation // inferred from electronic annotation /// 0010715 // regulation of extracellular matrix disassembly // inferred from mutant phenotype /// 0014909 // smooth muscle cell migration // inferred from mutant phenotype /// 0016310 // phosphorylation // inferred from electronic annotation /// 0018108 // peptidyl-tyrosine phosphorylation // inferred from electronic annotation /// 0030198 // extracellular matrix organization // traceable author statement /// 0038063 // collagen-activated tyrosine kinase receptor signaling pathway // inferred from direct assay /// 0038063 // collagen-activated tyrosine kinase receptor signaling pathway // inferred from mutant phenotype /// 0038083 // peptidyl-tyrosine autophosphorylation // inferred from direct assay /// 0043583 // ear development // inferred from electronic annotation /// 0044319 // wound healing, spreading of cells // inferred from mutant phenotype /// 0046777 // protein autophosphorylation // inferred from direct assay /// 0060444 // branching involved in mammary gland duct morphogenesis // inferred from electronic annotation /// 0060749 // mammary gland alveolus development // inferred from electronic annotation /// 0061302 // smooth muscle cell-matrix adhesion // inferred from mutant phenotype', '0000278 // mitotic cell cycle // traceable author statement /// 0000722 // telomere maintenance via recombination // traceable author statement /// 0000723 // telomere maintenance // traceable author statement /// 0006260 // DNA replication // traceable author statement /// 0006271 // DNA strand elongation involved in DNA replication // traceable author statement /// 0006281 // DNA repair // traceable author statement /// 0006283 // transcription-coupled nucleotide-excision repair // traceable author statement /// 0006289 // nucleotide-excision repair // traceable author statement /// 0006297 // nucleotide-excision repair, DNA gap filling // traceable author statement /// 0015979 // photosynthesis // inferred from electronic annotation /// 0015995 // chlorophyll biosynthetic process // inferred from electronic annotation /// 0032201 // telomere maintenance via semi-conservative replication // traceable author statement', '0000902 // cell morphogenesis // inferred from electronic annotation /// 0006200 // ATP catabolic process // inferred from direct assay /// 0006950 // response to stress // inferred from electronic annotation /// 0006986 // response to unfolded protein // traceable author statement /// 0034605 // cellular response to heat // inferred from direct assay /// 0042026 // protein refolding // inferred from direct assay /// 0070370 // cellular heat acclimation // inferred from mutant phenotype', '0001655 // urogenital system development // inferred from sequence or structural similarity /// 0001656 // metanephros development // inferred from electronic annotation /// 0001658 // branching involved in ureteric bud morphogenesis // inferred from expression pattern /// 0001822 // kidney development // inferred from expression pattern /// 0001823 // mesonephros development // inferred from sequence or structural similarity /// 0003337 // mesenchymal to epithelial transition involved in metanephros morphogenesis // inferred from expression pattern /// 0006351 // transcription, DNA-templated // inferred from direct assay /// 0006355 // regulation of transcription, DNA-templated // inferred from electronic annotation /// 0007275 // multicellular organismal development // inferred from electronic annotation /// 0007417 // central nervous system development // inferred from expression pattern /// 0009653 // anatomical structure morphogenesis // traceable author statement /// 0030154 // cell differentiation // inferred from electronic annotation /// 0030878 // thyroid gland development // inferred from expression pattern /// 0030878 // thyroid gland development // inferred from mutant phenotype /// 0038194 // thyroid-stimulating hormone signaling pathway // traceable author statement /// 0039003 // pronephric field specification // inferred from sequence or structural similarity /// 0042472 // inner ear morphogenesis // inferred from sequence or structural similarity /// 0042981 // regulation of apoptotic process // inferred from sequence or structural similarity /// 0045893 // positive regulation of transcription, DNA-templated // inferred from direct assay /// 0045893 // positive regulation of transcription, DNA-templated // inferred from sequence or structural similarity /// 0045944 // positive regulation of transcription from RNA polymerase II promoter // inferred from direct assay /// 0048793 // pronephros development // inferred from sequence or structural similarity /// 0071371 // cellular response to gonadotropin stimulus // inferred from direct assay /// 0071599 // otic vesicle development // inferred from expression pattern /// 0072050 // S-shaped body morphogenesis // inferred from electronic annotation /// 0072073 // kidney epithelium development // inferred from electronic annotation /// 0072108 // positive regulation of mesenchymal to epithelial transition involved in metanephros morphogenesis // inferred from sequence or structural similarity /// 0072164 // mesonephric tubule development // inferred from electronic annotation /// 0072207 // metanephric epithelium development // inferred from expression pattern /// 0072221 // metanephric distal convoluted tubule development // inferred from sequence or structural similarity /// 0072278 // metanephric comma-shaped body morphogenesis // inferred from expression pattern /// 0072284 // metanephric S-shaped body morphogenesis // inferred from expression pattern /// 0072289 // metanephric nephron tubule formation // inferred from sequence or structural similarity /// 0072305 // negative regulation of mesenchymal cell apoptotic process involved in metanephric nephron morphogenesis // inferred from sequence or structural similarity /// 0072307 // regulation of metanephric nephron tubule epithelial cell differentiation // inferred from sequence or structural similarity /// 0090190 // positive regulation of branching involved in ureteric bud morphogenesis // inferred from sequence or structural similarity /// 1900212 // negative regulation of mesenchymal cell apoptotic process involved in metanephros development // inferred from sequence or structural similarity /// 1900215 // negative regulation of apoptotic process involved in metanephric collecting duct development // inferred from sequence or structural similarity /// 1900218 // negative regulation of apoptotic process involved in metanephric nephron tubule development // inferred from sequence or structural similarity /// 2000594 // positive regulation of metanephric DCT cell differentiation // inferred from sequence or structural similarity /// 2000611 // positive regulation of thyroid hormone generation // inferred from mutant phenotype /// 2000612 // regulation of thyroid-stimulating hormone secretion // inferred from mutant phenotype', '0007165 // signal transduction // non-traceable author statement /// 0007601 // visual perception // inferred from electronic annotation /// 0007602 // phototransduction // inferred from electronic annotation /// 0007603 // phototransduction, visible light // traceable author statement /// 0016056 // rhodopsin mediated signaling pathway // traceable author statement /// 0022400 // regulation of rhodopsin mediated signaling pathway // traceable author statement /// 0030828 // positive regulation of cGMP biosynthetic process // inferred from electronic annotation /// 0031282 // regulation of guanylate cyclase activity // inferred from electronic annotation /// 0031284 // positive regulation of guanylate cyclase activity // inferred from electronic annotation /// 0050896 // response to stimulus // inferred from electronic annotation'], 'Gene Ontology Cellular Component': ['0005576 // extracellular region // inferred from electronic annotation /// 0005615 // extracellular space // inferred from direct assay /// 0005886 // plasma membrane // traceable author statement /// 0005887 // integral component of plasma membrane // traceable author statement /// 0016020 // membrane // inferred from electronic annotation /// 0016021 // integral component of membrane // inferred from electronic annotation /// 0043235 // receptor complex // inferred from direct assay /// 0070062 // extracellular vesicular exosome // inferred from direct assay', '0005634 // nucleus // inferred from electronic annotation /// 0005654 // nucleoplasm // traceable author statement /// 0005663 // DNA replication factor C complex // inferred from direct assay', '0005737 // cytoplasm // inferred from direct assay /// 0005814 // centriole // inferred from direct assay /// 0005829 // cytosol // inferred from direct assay /// 0008180 // COP9 signalosome // inferred from direct assay /// 0070062 // extracellular vesicular exosome // inferred from direct assay /// 0072562 // blood microparticle // inferred from direct assay', '0005634 // nucleus // inferred from direct assay /// 0005654 // nucleoplasm // inferred from sequence or structural similarity /// 0005730 // nucleolus // inferred from direct assay', '0001750 // photoreceptor outer segment // inferred from electronic annotation /// 0001917 // photoreceptor inner segment // inferred from electronic annotation /// 0005578 // proteinaceous extracellular matrix // inferred from electronic annotation /// 0005886 // plasma membrane // inferred from direct assay /// 0016020 // membrane // inferred from electronic annotation /// 0097381 // photoreceptor disc membrane // traceable author statement'], 'Gene Ontology Molecular Function': ['0000166 // nucleotide binding // inferred from electronic annotation /// 0004672 // protein kinase activity // inferred from electronic annotation /// 0004713 // protein tyrosine kinase activity // inferred from electronic annotation /// 0004714 // transmembrane receptor protein tyrosine kinase activity // traceable author statement /// 0005515 // protein binding // inferred from physical interaction /// 0005518 // collagen binding // inferred from direct assay /// 0005518 // collagen binding // inferred from mutant phenotype /// 0005524 // ATP binding // inferred from electronic annotation /// 0016301 // kinase activity // inferred from electronic annotation /// 0016740 // transferase activity // inferred from electronic annotation /// 0016772 // transferase activity, transferring phosphorus-containing groups // inferred from electronic annotation /// 0038062 // protein tyrosine kinase collagen receptor activity // inferred from direct assay /// 0046872 // metal ion binding // inferred from electronic annotation', '0000166 // nucleotide binding // inferred from electronic annotation /// 0003677 // DNA binding // inferred from electronic annotation /// 0005515 // protein binding // inferred from physical interaction /// 0005524 // ATP binding // inferred from electronic annotation /// 0016851 // magnesium chelatase activity // inferred from electronic annotation /// 0017111 // nucleoside-triphosphatase activity // inferred from electronic annotation', '0000166 // nucleotide binding // inferred from electronic annotation /// 0005524 // ATP binding // inferred from electronic annotation /// 0019899 // enzyme binding // inferred from physical interaction /// 0031072 // heat shock protein binding // inferred from physical interaction /// 0042623 // ATPase activity, coupled // inferred from direct assay /// 0051082 // unfolded protein binding // inferred from direct assay', '0000979 // RNA polymerase II core promoter sequence-specific DNA binding // inferred from direct assay /// 0003677 // DNA binding // inferred from direct assay /// 0003677 // DNA binding // inferred from mutant phenotype /// 0003700 // sequence-specific DNA binding transcription factor activity // inferred from direct assay /// 0004996 // thyroid-stimulating hormone receptor activity // traceable author statement /// 0005515 // protein binding // inferred from physical interaction /// 0044212 // transcription regulatory region DNA binding // inferred from direct assay', '0005509 // calcium ion binding // inferred from electronic annotation /// 0008048 // calcium sensitive guanylate cyclase activator activity // inferred from electronic annotation /// 0030249 // guanylate cyclase regulator activity // inferred from electronic annotation /// 0046872 // metal ion binding // inferred from electronic annotation']}\n",
      "    \n"
     ]
    }
   ],
   "source": [
    "if requires_gene_mapping:\n",
    "    print(f'''\n",
    "    As a biomedical research team, we extracted the gene annotation data from a series in the GEO database, and saved it to a Python dictionary. Please read the dictionary, and decide which key stores the ID of the probe, and which key stores the gene symbols. Please strict follow this format in your answer:\n",
    "    probe_name_key = 'key_name1'\n",
    "    gene_name_key = 'key_name2'\n",
    "\n",
    "    Gene annotation dictionary:\n",
    "    {gene_annotation_summary}\n",
    "    ''')"
   ]
  },
  {
   "cell_type": "code",
   "execution_count": 158,
   "metadata": {
    "ExecuteTime": {
     "end_time": "2024-01-02T01:03:35.113359369Z",
     "start_time": "2024-01-02T01:03:33.804666371Z"
    },
    "collapsed": false
   },
   "outputs": [
    {
     "ename": "KeyError",
     "evalue": "\"['SYMBOL'] not in index\"",
     "output_type": "error",
     "traceback": [
      "\u001b[0;31m---------------------------------------------------------------------------\u001b[0m",
      "\u001b[0;31mKeyError\u001b[0m                                  Traceback (most recent call last)",
      "\u001b[0;32m/var/folders/wq/90pwj_t1629492qrpdccstx00000gq/T/ipykernel_3917/3875527467.py\u001b[0m in \u001b[0;36m<module>\u001b[0;34m\u001b[0m\n\u001b[1;32m      3\u001b[0m     \u001b[0mprobe_id_key\u001b[0m \u001b[0;34m=\u001b[0m \u001b[0;34m'ID'\u001b[0m\u001b[0;34m\u001b[0m\u001b[0;34m\u001b[0m\u001b[0m\n\u001b[1;32m      4\u001b[0m     \u001b[0mgene_symb_key\u001b[0m \u001b[0;34m=\u001b[0m \u001b[0;34m'SYMBOL'\u001b[0m\u001b[0;34m\u001b[0m\u001b[0;34m\u001b[0m\u001b[0m\n\u001b[0;32m----> 5\u001b[0;31m     \u001b[0mgene_mapping\u001b[0m \u001b[0;34m=\u001b[0m \u001b[0mget_gene_mapping\u001b[0m\u001b[0;34m(\u001b[0m\u001b[0mgene_annotation\u001b[0m\u001b[0;34m,\u001b[0m \u001b[0mprobe_id_key\u001b[0m\u001b[0;34m,\u001b[0m \u001b[0mgene_symb_key\u001b[0m\u001b[0;34m)\u001b[0m\u001b[0;34m\u001b[0m\u001b[0;34m\u001b[0m\u001b[0m\n\u001b[0m\u001b[1;32m      6\u001b[0m     \u001b[0mgenetic_data\u001b[0m \u001b[0;34m=\u001b[0m \u001b[0mapply_gene_mapping\u001b[0m\u001b[0;34m(\u001b[0m\u001b[0mgenetic_data\u001b[0m\u001b[0;34m,\u001b[0m \u001b[0mgene_mapping\u001b[0m\u001b[0;34m)\u001b[0m\u001b[0;34m\u001b[0m\u001b[0;34m\u001b[0m\u001b[0m\n\u001b[1;32m      7\u001b[0m \u001b[0;31m#genetic_data.head()\u001b[0m\u001b[0;34m\u001b[0m\u001b[0;34m\u001b[0m\u001b[0;34m\u001b[0m\u001b[0m\n",
      "\u001b[0;32m~/Desktop/uiuc/大二下/independent study/part 1/utils.py\u001b[0m in \u001b[0;36mget_gene_mapping\u001b[0;34m(annotation, prob_col, gene_col)\u001b[0m\n\u001b[1;32m    134\u001b[0m     \"\"\"Process the gene annotation to get the mapping between gene names and gene probes.\n\u001b[1;32m    135\u001b[0m     \"\"\"\n\u001b[0;32m--> 136\u001b[0;31m     \u001b[0mmapping_data\u001b[0m \u001b[0;34m=\u001b[0m \u001b[0mannotation\u001b[0m\u001b[0;34m.\u001b[0m\u001b[0mloc\u001b[0m\u001b[0;34m[\u001b[0m\u001b[0;34m:\u001b[0m\u001b[0;34m,\u001b[0m \u001b[0;34m[\u001b[0m\u001b[0mprob_col\u001b[0m\u001b[0;34m,\u001b[0m \u001b[0mgene_col\u001b[0m\u001b[0;34m]\u001b[0m\u001b[0;34m]\u001b[0m\u001b[0;34m\u001b[0m\u001b[0;34m\u001b[0m\u001b[0m\n\u001b[0m\u001b[1;32m    137\u001b[0m     \u001b[0mmapping_data\u001b[0m \u001b[0;34m=\u001b[0m \u001b[0mmapping_data\u001b[0m\u001b[0;34m.\u001b[0m\u001b[0mdropna\u001b[0m\u001b[0;34m(\u001b[0m\u001b[0;34m)\u001b[0m\u001b[0;34m\u001b[0m\u001b[0;34m\u001b[0m\u001b[0m\n\u001b[1;32m    138\u001b[0m     \u001b[0mmapping_data\u001b[0m \u001b[0;34m=\u001b[0m \u001b[0mmapping_data\u001b[0m\u001b[0;34m.\u001b[0m\u001b[0mrename\u001b[0m\u001b[0;34m(\u001b[0m\u001b[0mcolumns\u001b[0m\u001b[0;34m=\u001b[0m\u001b[0;34m{\u001b[0m\u001b[0mgene_col\u001b[0m\u001b[0;34m:\u001b[0m \u001b[0;34m'Gene'\u001b[0m\u001b[0;34m}\u001b[0m\u001b[0;34m)\u001b[0m\u001b[0;34m.\u001b[0m\u001b[0mastype\u001b[0m\u001b[0;34m(\u001b[0m\u001b[0;34m{\u001b[0m\u001b[0;34m'ID'\u001b[0m\u001b[0;34m:\u001b[0m \u001b[0;34m'str'\u001b[0m\u001b[0;34m}\u001b[0m\u001b[0;34m)\u001b[0m\u001b[0;34m\u001b[0m\u001b[0;34m\u001b[0m\u001b[0m\n",
      "\u001b[0;32m/Library/Frameworks/Python.framework/Versions/3.7/lib/python3.7/site-packages/pandas/core/indexing.py\u001b[0m in \u001b[0;36m__getitem__\u001b[0;34m(self, key)\u001b[0m\n\u001b[1;32m    923\u001b[0m                 \u001b[0;32mwith\u001b[0m \u001b[0msuppress\u001b[0m\u001b[0;34m(\u001b[0m\u001b[0mKeyError\u001b[0m\u001b[0;34m,\u001b[0m \u001b[0mIndexError\u001b[0m\u001b[0;34m)\u001b[0m\u001b[0;34m:\u001b[0m\u001b[0;34m\u001b[0m\u001b[0;34m\u001b[0m\u001b[0m\n\u001b[1;32m    924\u001b[0m                     \u001b[0;32mreturn\u001b[0m \u001b[0mself\u001b[0m\u001b[0;34m.\u001b[0m\u001b[0mobj\u001b[0m\u001b[0;34m.\u001b[0m\u001b[0m_get_value\u001b[0m\u001b[0;34m(\u001b[0m\u001b[0;34m*\u001b[0m\u001b[0mkey\u001b[0m\u001b[0;34m,\u001b[0m \u001b[0mtakeable\u001b[0m\u001b[0;34m=\u001b[0m\u001b[0mself\u001b[0m\u001b[0;34m.\u001b[0m\u001b[0m_takeable\u001b[0m\u001b[0;34m)\u001b[0m\u001b[0;34m\u001b[0m\u001b[0;34m\u001b[0m\u001b[0m\n\u001b[0;32m--> 925\u001b[0;31m             \u001b[0;32mreturn\u001b[0m \u001b[0mself\u001b[0m\u001b[0;34m.\u001b[0m\u001b[0m_getitem_tuple\u001b[0m\u001b[0;34m(\u001b[0m\u001b[0mkey\u001b[0m\u001b[0;34m)\u001b[0m\u001b[0;34m\u001b[0m\u001b[0;34m\u001b[0m\u001b[0m\n\u001b[0m\u001b[1;32m    926\u001b[0m         \u001b[0;32melse\u001b[0m\u001b[0;34m:\u001b[0m\u001b[0;34m\u001b[0m\u001b[0;34m\u001b[0m\u001b[0m\n\u001b[1;32m    927\u001b[0m             \u001b[0;31m# we by definition only have the 0th axis\u001b[0m\u001b[0;34m\u001b[0m\u001b[0;34m\u001b[0m\u001b[0;34m\u001b[0m\u001b[0m\n",
      "\u001b[0;32m/Library/Frameworks/Python.framework/Versions/3.7/lib/python3.7/site-packages/pandas/core/indexing.py\u001b[0m in \u001b[0;36m_getitem_tuple\u001b[0;34m(self, tup)\u001b[0m\n\u001b[1;32m   1107\u001b[0m             \u001b[0;32mreturn\u001b[0m \u001b[0mself\u001b[0m\u001b[0;34m.\u001b[0m\u001b[0m_multi_take\u001b[0m\u001b[0;34m(\u001b[0m\u001b[0mtup\u001b[0m\u001b[0;34m)\u001b[0m\u001b[0;34m\u001b[0m\u001b[0;34m\u001b[0m\u001b[0m\n\u001b[1;32m   1108\u001b[0m \u001b[0;34m\u001b[0m\u001b[0m\n\u001b[0;32m-> 1109\u001b[0;31m         \u001b[0;32mreturn\u001b[0m \u001b[0mself\u001b[0m\u001b[0;34m.\u001b[0m\u001b[0m_getitem_tuple_same_dim\u001b[0m\u001b[0;34m(\u001b[0m\u001b[0mtup\u001b[0m\u001b[0;34m)\u001b[0m\u001b[0;34m\u001b[0m\u001b[0;34m\u001b[0m\u001b[0m\n\u001b[0m\u001b[1;32m   1110\u001b[0m \u001b[0;34m\u001b[0m\u001b[0m\n\u001b[1;32m   1111\u001b[0m     \u001b[0;32mdef\u001b[0m \u001b[0m_get_label\u001b[0m\u001b[0;34m(\u001b[0m\u001b[0mself\u001b[0m\u001b[0;34m,\u001b[0m \u001b[0mlabel\u001b[0m\u001b[0;34m,\u001b[0m \u001b[0maxis\u001b[0m\u001b[0;34m:\u001b[0m \u001b[0mint\u001b[0m\u001b[0;34m)\u001b[0m\u001b[0;34m:\u001b[0m\u001b[0;34m\u001b[0m\u001b[0;34m\u001b[0m\u001b[0m\n",
      "\u001b[0;32m/Library/Frameworks/Python.framework/Versions/3.7/lib/python3.7/site-packages/pandas/core/indexing.py\u001b[0m in \u001b[0;36m_getitem_tuple_same_dim\u001b[0;34m(self, tup)\u001b[0m\n\u001b[1;32m    804\u001b[0m                 \u001b[0;32mcontinue\u001b[0m\u001b[0;34m\u001b[0m\u001b[0;34m\u001b[0m\u001b[0m\n\u001b[1;32m    805\u001b[0m \u001b[0;34m\u001b[0m\u001b[0m\n\u001b[0;32m--> 806\u001b[0;31m             \u001b[0mretval\u001b[0m \u001b[0;34m=\u001b[0m \u001b[0mgetattr\u001b[0m\u001b[0;34m(\u001b[0m\u001b[0mretval\u001b[0m\u001b[0;34m,\u001b[0m \u001b[0mself\u001b[0m\u001b[0;34m.\u001b[0m\u001b[0mname\u001b[0m\u001b[0;34m)\u001b[0m\u001b[0;34m.\u001b[0m\u001b[0m_getitem_axis\u001b[0m\u001b[0;34m(\u001b[0m\u001b[0mkey\u001b[0m\u001b[0;34m,\u001b[0m \u001b[0maxis\u001b[0m\u001b[0;34m=\u001b[0m\u001b[0mi\u001b[0m\u001b[0;34m)\u001b[0m\u001b[0;34m\u001b[0m\u001b[0;34m\u001b[0m\u001b[0m\n\u001b[0m\u001b[1;32m    807\u001b[0m             \u001b[0;31m# We should never have retval.ndim < self.ndim, as that should\u001b[0m\u001b[0;34m\u001b[0m\u001b[0;34m\u001b[0m\u001b[0;34m\u001b[0m\u001b[0m\n\u001b[1;32m    808\u001b[0m             \u001b[0;31m#  be handled by the _getitem_lowerdim call above.\u001b[0m\u001b[0;34m\u001b[0m\u001b[0;34m\u001b[0m\u001b[0;34m\u001b[0m\u001b[0m\n",
      "\u001b[0;32m/Library/Frameworks/Python.framework/Versions/3.7/lib/python3.7/site-packages/pandas/core/indexing.py\u001b[0m in \u001b[0;36m_getitem_axis\u001b[0;34m(self, key, axis)\u001b[0m\n\u001b[1;32m   1151\u001b[0m                     \u001b[0;32mraise\u001b[0m \u001b[0mValueError\u001b[0m\u001b[0;34m(\u001b[0m\u001b[0;34m\"Cannot index with multidimensional key\"\u001b[0m\u001b[0;34m)\u001b[0m\u001b[0;34m\u001b[0m\u001b[0;34m\u001b[0m\u001b[0m\n\u001b[1;32m   1152\u001b[0m \u001b[0;34m\u001b[0m\u001b[0m\n\u001b[0;32m-> 1153\u001b[0;31m                 \u001b[0;32mreturn\u001b[0m \u001b[0mself\u001b[0m\u001b[0;34m.\u001b[0m\u001b[0m_getitem_iterable\u001b[0m\u001b[0;34m(\u001b[0m\u001b[0mkey\u001b[0m\u001b[0;34m,\u001b[0m \u001b[0maxis\u001b[0m\u001b[0;34m=\u001b[0m\u001b[0maxis\u001b[0m\u001b[0;34m)\u001b[0m\u001b[0;34m\u001b[0m\u001b[0;34m\u001b[0m\u001b[0m\n\u001b[0m\u001b[1;32m   1154\u001b[0m \u001b[0;34m\u001b[0m\u001b[0m\n\u001b[1;32m   1155\u001b[0m             \u001b[0;31m# nested tuple slicing\u001b[0m\u001b[0;34m\u001b[0m\u001b[0;34m\u001b[0m\u001b[0;34m\u001b[0m\u001b[0m\n",
      "\u001b[0;32m/Library/Frameworks/Python.framework/Versions/3.7/lib/python3.7/site-packages/pandas/core/indexing.py\u001b[0m in \u001b[0;36m_getitem_iterable\u001b[0;34m(self, key, axis)\u001b[0m\n\u001b[1;32m   1091\u001b[0m \u001b[0;34m\u001b[0m\u001b[0m\n\u001b[1;32m   1092\u001b[0m         \u001b[0;31m# A collection of keys\u001b[0m\u001b[0;34m\u001b[0m\u001b[0;34m\u001b[0m\u001b[0;34m\u001b[0m\u001b[0m\n\u001b[0;32m-> 1093\u001b[0;31m         \u001b[0mkeyarr\u001b[0m\u001b[0;34m,\u001b[0m \u001b[0mindexer\u001b[0m \u001b[0;34m=\u001b[0m \u001b[0mself\u001b[0m\u001b[0;34m.\u001b[0m\u001b[0m_get_listlike_indexer\u001b[0m\u001b[0;34m(\u001b[0m\u001b[0mkey\u001b[0m\u001b[0;34m,\u001b[0m \u001b[0maxis\u001b[0m\u001b[0;34m)\u001b[0m\u001b[0;34m\u001b[0m\u001b[0;34m\u001b[0m\u001b[0m\n\u001b[0m\u001b[1;32m   1094\u001b[0m         return self.obj._reindex_with_indexers(\n\u001b[1;32m   1095\u001b[0m             \u001b[0;34m{\u001b[0m\u001b[0maxis\u001b[0m\u001b[0;34m:\u001b[0m \u001b[0;34m[\u001b[0m\u001b[0mkeyarr\u001b[0m\u001b[0;34m,\u001b[0m \u001b[0mindexer\u001b[0m\u001b[0;34m]\u001b[0m\u001b[0;34m}\u001b[0m\u001b[0;34m,\u001b[0m \u001b[0mcopy\u001b[0m\u001b[0;34m=\u001b[0m\u001b[0;32mTrue\u001b[0m\u001b[0;34m,\u001b[0m \u001b[0mallow_dups\u001b[0m\u001b[0;34m=\u001b[0m\u001b[0;32mTrue\u001b[0m\u001b[0;34m\u001b[0m\u001b[0;34m\u001b[0m\u001b[0m\n",
      "\u001b[0;32m/Library/Frameworks/Python.framework/Versions/3.7/lib/python3.7/site-packages/pandas/core/indexing.py\u001b[0m in \u001b[0;36m_get_listlike_indexer\u001b[0;34m(self, key, axis)\u001b[0m\n\u001b[1;32m   1312\u001b[0m             \u001b[0mkeyarr\u001b[0m\u001b[0;34m,\u001b[0m \u001b[0mindexer\u001b[0m\u001b[0;34m,\u001b[0m \u001b[0mnew_indexer\u001b[0m \u001b[0;34m=\u001b[0m \u001b[0max\u001b[0m\u001b[0;34m.\u001b[0m\u001b[0m_reindex_non_unique\u001b[0m\u001b[0;34m(\u001b[0m\u001b[0mkeyarr\u001b[0m\u001b[0;34m)\u001b[0m\u001b[0;34m\u001b[0m\u001b[0;34m\u001b[0m\u001b[0m\n\u001b[1;32m   1313\u001b[0m \u001b[0;34m\u001b[0m\u001b[0m\n\u001b[0;32m-> 1314\u001b[0;31m         \u001b[0mself\u001b[0m\u001b[0;34m.\u001b[0m\u001b[0m_validate_read_indexer\u001b[0m\u001b[0;34m(\u001b[0m\u001b[0mkeyarr\u001b[0m\u001b[0;34m,\u001b[0m \u001b[0mindexer\u001b[0m\u001b[0;34m,\u001b[0m \u001b[0maxis\u001b[0m\u001b[0;34m)\u001b[0m\u001b[0;34m\u001b[0m\u001b[0;34m\u001b[0m\u001b[0m\n\u001b[0m\u001b[1;32m   1315\u001b[0m \u001b[0;34m\u001b[0m\u001b[0m\n\u001b[1;32m   1316\u001b[0m         if needs_i8_conversion(ax.dtype) or isinstance(\n",
      "\u001b[0;32m/Library/Frameworks/Python.framework/Versions/3.7/lib/python3.7/site-packages/pandas/core/indexing.py\u001b[0m in \u001b[0;36m_validate_read_indexer\u001b[0;34m(self, key, indexer, axis)\u001b[0m\n\u001b[1;32m   1375\u001b[0m \u001b[0;34m\u001b[0m\u001b[0m\n\u001b[1;32m   1376\u001b[0m             \u001b[0mnot_found\u001b[0m \u001b[0;34m=\u001b[0m \u001b[0mlist\u001b[0m\u001b[0;34m(\u001b[0m\u001b[0mensure_index\u001b[0m\u001b[0;34m(\u001b[0m\u001b[0mkey\u001b[0m\u001b[0;34m)\u001b[0m\u001b[0;34m[\u001b[0m\u001b[0mmissing_mask\u001b[0m\u001b[0;34m.\u001b[0m\u001b[0mnonzero\u001b[0m\u001b[0;34m(\u001b[0m\u001b[0;34m)\u001b[0m\u001b[0;34m[\u001b[0m\u001b[0;36m0\u001b[0m\u001b[0;34m]\u001b[0m\u001b[0;34m]\u001b[0m\u001b[0;34m.\u001b[0m\u001b[0munique\u001b[0m\u001b[0;34m(\u001b[0m\u001b[0;34m)\u001b[0m\u001b[0;34m)\u001b[0m\u001b[0;34m\u001b[0m\u001b[0;34m\u001b[0m\u001b[0m\n\u001b[0;32m-> 1377\u001b[0;31m             \u001b[0;32mraise\u001b[0m \u001b[0mKeyError\u001b[0m\u001b[0;34m(\u001b[0m\u001b[0;34mf\"{not_found} not in index\"\u001b[0m\u001b[0;34m)\u001b[0m\u001b[0;34m\u001b[0m\u001b[0;34m\u001b[0m\u001b[0m\n\u001b[0m\u001b[1;32m   1378\u001b[0m \u001b[0;34m\u001b[0m\u001b[0m\n\u001b[1;32m   1379\u001b[0m \u001b[0;34m\u001b[0m\u001b[0m\n",
      "\u001b[0;31mKeyError\u001b[0m: \"['SYMBOL'] not in index\""
     ]
    }
   ],
   "source": [
    "#genetic_data.head()\n",
    "if requires_gene_mapping:\n",
    "    probe_id_key = 'ID'\n",
    "    gene_symb_key = 'SYMBOL'\n",
    "    gene_mapping = get_gene_mapping(gene_annotation, probe_id_key, gene_symb_key)\n",
    "    genetic_data = apply_gene_mapping(genetic_data, gene_mapping)\n",
    "#genetic_data.head()"
   ]
  },
  {
   "cell_type": "code",
   "execution_count": null,
   "metadata": {
    "ExecuteTime": {
     "end_time": "2024-01-02T01:03:35.156584675Z",
     "start_time": "2024-01-02T01:03:35.114652593Z"
    },
    "collapsed": false
   },
   "outputs": [],
   "source": [
    "if NORMALIZE_GENE:\n",
    "    genetic_data = normalize_gene_symbols_in_index(genetic_data)"
   ]
  },
  {
   "cell_type": "code",
   "execution_count": null,
   "metadata": {
    "ExecuteTime": {
     "end_time": "2024-01-02T01:03:35.158174021Z",
     "start_time": "2024-01-02T01:03:35.156777134Z"
    },
    "collapsed": false
   },
   "outputs": [],
   "source": [
    "merged_data = geo_merge_clinical_genetic_data(selected_clinical_data, genetic_data)\n",
    "# The preprocessing runs through, which means is_available should be True\n",
    "is_available = True"
   ]
  },
  {
   "cell_type": "code",
   "execution_count": null,
   "metadata": {
    "ExecuteTime": {
     "end_time": "2024-01-02T01:03:35.158378853Z",
     "start_time": "2024-01-02T01:03:35.156895194Z"
    },
    "collapsed": false
   },
   "outputs": [
    {
     "name": "stdout",
     "output_type": "stream",
     "text": [
      "The merged dataset contains 48 samples.\n"
     ]
    }
   ],
   "source": [
    "print(f\"The merged dataset contains {len(merged_data)} samples.\")"
   ]
  },
  {
   "cell_type": "code",
   "execution_count": null,
   "metadata": {
    "ExecuteTime": {
     "end_time": "2024-01-02T01:03:35.158646754Z",
     "start_time": "2024-01-02T01:03:35.156975304Z"
    },
    "collapsed": false
   },
   "outputs": [
    {
     "name": "stdout",
     "output_type": "stream",
     "text": [
      "For the feature 'Peptic ulcer disease', the least common label is '0.0' with 9 occurrences. This represents 18.75% of the dataset.\n",
      "The distribution of the feature 'Peptic ulcer disease' in this dataset is fine.\n",
      "\n",
      "Quartiles for 'Age':\n",
      "  25%: 38.0\n",
      "  50% (Median): 43.0\n",
      "  75%: 56.25\n",
      "Min: 19.0\n",
      "Max: 80.0\n",
      "The distribution of the feature 'Age' in this dataset is fine.\n",
      "\n",
      "For the feature 'Gender', the least common label is '0.0' with 23 occurrences. This represents 47.92% of the dataset.\n",
      "The distribution of the feature 'Gender' in this dataset is fine.\n",
      "\n"
     ]
    },
    {
     "data": {
      "text/plain": [
       "False"
      ]
     },
     "execution_count": 108,
     "metadata": {},
     "output_type": "execute_result"
    }
   ],
   "source": [
    "is_trait_biased, merged_data = judge_and_remove_biased_features(merged_data, TRAIT, trait_type=trait_type)\n",
    "is_trait_biased"
   ]
  },
  {
   "cell_type": "code",
   "execution_count": null,
   "metadata": {
    "ExecuteTime": {
     "end_time": "2024-01-02T01:03:35.158803015Z",
     "start_time": "2024-01-02T01:03:35.157063388Z"
    },
    "collapsed": false
   },
   "outputs": [],
   "source": [
    "save_cohort_info(cohort, JSON_PATH, is_available, is_trait_biased, merged_data, note='')"
   ]
  },
  {
   "cell_type": "code",
   "execution_count": null,
   "metadata": {
    "ExecuteTime": {
     "end_time": "2024-01-02T01:03:36.004312476Z",
     "start_time": "2024-01-02T01:03:35.157165158Z"
    },
    "collapsed": false
   },
   "outputs": [],
   "source": [
    "merged_data.head()\n",
    "if not is_trait_biased:\n",
    "    merged_data.to_csv(os.path.join(OUTPUT_DIR, cohort+'.csv'), index=False)"
   ]
  },
  {
   "cell_type": "markdown",
   "metadata": {
    "ExecuteTime": {
     "end_time": "2023-12-31T03:58:22.271683755Z",
     "start_time": "2023-12-31T03:58:22.246557674Z"
    },
    "id": "-MTPhRGxJV7I"
   },
   "source": [
    "### 3. Do regression & Cross Validation"
   ]
  },
  {
   "cell_type": "code",
   "execution_count": null,
   "metadata": {
    "ExecuteTime": {
     "end_time": "2024-01-02T01:03:36.048788605Z",
     "start_time": "2024-01-02T01:03:36.005925887Z"
    },
    "collapsed": false
   },
   "outputs": [],
   "source": [
    "from utils import *"
   ]
  },
  {
   "cell_type": "code",
   "execution_count": null,
   "metadata": {
    "ExecuteTime": {
     "end_time": "2024-01-02T01:03:36.049183603Z",
     "start_time": "2024-01-02T01:03:36.048440305Z"
    },
    "collapsed": false
   },
   "outputs": [
    {
     "data": {
      "text/plain": [
       "'Xena'"
      ]
     },
     "execution_count": 112,
     "metadata": {},
     "output_type": "execute_result"
    }
   ],
   "source": [
    "best_cohort, ranked_df = filter_and_rank_cohorts(JSON_PATH, 'has_age')\n",
    "best_cohort"
   ]
  },
  {
   "cell_type": "code",
   "execution_count": null,
   "metadata": {
    "ExecuteTime": {
     "end_time": "2024-01-02T01:03:36.049430313Z",
     "start_time": "2024-01-02T01:03:36.048984361Z"
    },
    "collapsed": false
   },
   "outputs": [
    {
     "data": {
      "text/html": [
       "<div>\n",
       "<style scoped>\n",
       "    .dataframe tbody tr th:only-of-type {\n",
       "        vertical-align: middle;\n",
       "    }\n",
       "\n",
       "    .dataframe tbody tr th {\n",
       "        vertical-align: top;\n",
       "    }\n",
       "\n",
       "    .dataframe thead th {\n",
       "        text-align: right;\n",
       "    }\n",
       "</style>\n",
       "<table border=\"1\" class=\"dataframe\">\n",
       "  <thead>\n",
       "    <tr style=\"text-align: right;\">\n",
       "      <th></th>\n",
       "      <th>cohort_id</th>\n",
       "      <th>is_usable</th>\n",
       "      <th>is_available</th>\n",
       "      <th>is_biased</th>\n",
       "      <th>has_age</th>\n",
       "      <th>has_gender</th>\n",
       "      <th>sample_size</th>\n",
       "      <th>note</th>\n",
       "    </tr>\n",
       "  </thead>\n",
       "  <tbody>\n",
       "    <tr>\n",
       "      <th>0</th>\n",
       "      <td>Xena</td>\n",
       "      <td>True</td>\n",
       "      <td>True</td>\n",
       "      <td>False</td>\n",
       "      <td>True</td>\n",
       "      <td>True</td>\n",
       "      <td>1100</td>\n",
       "      <td></td>\n",
       "    </tr>\n",
       "    <tr>\n",
       "      <th>1</th>\n",
       "      <td>GSE32174</td>\n",
       "      <td>True</td>\n",
       "      <td>True</td>\n",
       "      <td>False</td>\n",
       "      <td>True</td>\n",
       "      <td>True</td>\n",
       "      <td>48</td>\n",
       "      <td></td>\n",
       "    </tr>\n",
       "  </tbody>\n",
       "</table>\n",
       "</div>"
      ],
      "text/plain": [
       "  cohort_id  is_usable  is_available  is_biased  has_age  has_gender  \\\n",
       "0      Xena       True          True      False     True        True   \n",
       "1  GSE32174       True          True      False     True        True   \n",
       "\n",
       "   sample_size note  \n",
       "0         1100       \n",
       "1           48       "
      ]
     },
     "execution_count": 113,
     "metadata": {},
     "output_type": "execute_result"
    }
   ],
   "source": [
    "ranked_df.head()"
   ]
  },
  {
   "cell_type": "code",
   "execution_count": null,
   "metadata": {
    "ExecuteTime": {
     "end_time": "2024-01-02T01:03:36.345375576Z",
     "start_time": "2024-01-02T01:03:36.049289340Z"
    },
    "collapsed": false
   },
   "outputs": [],
   "source": [
    "merged_data = pd.read_csv(os.path.join(OUTPUT_DIR, best_cohort+'.csv'))"
   ]
  },
  {
   "cell_type": "code",
   "execution_count": null,
   "metadata": {
    "ExecuteTime": {
     "end_time": "2024-01-02T01:03:36.400788548Z",
     "start_time": "2024-01-02T01:03:36.355439168Z"
    },
    "collapsed": false
   },
   "outputs": [
    {
     "data": {
      "text/html": [
       "<div>\n",
       "<style scoped>\n",
       "    .dataframe tbody tr th:only-of-type {\n",
       "        vertical-align: middle;\n",
       "    }\n",
       "\n",
       "    .dataframe tbody tr th {\n",
       "        vertical-align: top;\n",
       "    }\n",
       "\n",
       "    .dataframe thead th {\n",
       "        text-align: right;\n",
       "    }\n",
       "</style>\n",
       "<table border=\"1\" class=\"dataframe\">\n",
       "  <thead>\n",
       "    <tr style=\"text-align: right;\">\n",
       "      <th></th>\n",
       "      <th>Peptic ulcer disease</th>\n",
       "      <th>Age</th>\n",
       "      <th>Gender</th>\n",
       "      <th>ARHGEF10L</th>\n",
       "      <th>HIF3A</th>\n",
       "      <th>RNF17</th>\n",
       "      <th>RNF10</th>\n",
       "      <th>RNF11</th>\n",
       "      <th>RNF13</th>\n",
       "      <th>GTF2IP1</th>\n",
       "      <th>...</th>\n",
       "      <th>SLC7A10</th>\n",
       "      <th>PLA2G2C</th>\n",
       "      <th>TULP2</th>\n",
       "      <th>NPY5R</th>\n",
       "      <th>GNGT2</th>\n",
       "      <th>GNGT1</th>\n",
       "      <th>TULP3</th>\n",
       "      <th>BCL6B</th>\n",
       "      <th>GSTK1</th>\n",
       "      <th>SELP</th>\n",
       "    </tr>\n",
       "  </thead>\n",
       "  <tbody>\n",
       "    <tr>\n",
       "      <th>0</th>\n",
       "      <td>1</td>\n",
       "      <td>70.0</td>\n",
       "      <td>1.0</td>\n",
       "      <td>-0.056592</td>\n",
       "      <td>2.128674</td>\n",
       "      <td>-0.531035</td>\n",
       "      <td>-0.185972</td>\n",
       "      <td>-0.190878</td>\n",
       "      <td>-0.11891</td>\n",
       "      <td>-0.659794</td>\n",
       "      <td>...</td>\n",
       "      <td>3.634614</td>\n",
       "      <td>0.677218</td>\n",
       "      <td>0.015022</td>\n",
       "      <td>-1.155117</td>\n",
       "      <td>0.528367</td>\n",
       "      <td>2.75061</td>\n",
       "      <td>0.428423</td>\n",
       "      <td>-0.195527</td>\n",
       "      <td>-0.324695</td>\n",
       "      <td>0.193167</td>\n",
       "    </tr>\n",
       "    <tr>\n",
       "      <th>1</th>\n",
       "      <td>1</td>\n",
       "      <td>67.0</td>\n",
       "      <td>1.0</td>\n",
       "      <td>-0.569692</td>\n",
       "      <td>-0.318126</td>\n",
       "      <td>-0.531035</td>\n",
       "      <td>0.237428</td>\n",
       "      <td>0.011822</td>\n",
       "      <td>-0.00611</td>\n",
       "      <td>1.018406</td>\n",
       "      <td>...</td>\n",
       "      <td>4.908014</td>\n",
       "      <td>0.888518</td>\n",
       "      <td>-0.031778</td>\n",
       "      <td>-0.393117</td>\n",
       "      <td>1.632467</td>\n",
       "      <td>2.33551</td>\n",
       "      <td>-0.145577</td>\n",
       "      <td>-0.276027</td>\n",
       "      <td>-1.219395</td>\n",
       "      <td>1.850967</td>\n",
       "    </tr>\n",
       "    <tr>\n",
       "      <th>2</th>\n",
       "      <td>1</td>\n",
       "      <td>79.0</td>\n",
       "      <td>0.0</td>\n",
       "      <td>-0.899992</td>\n",
       "      <td>-0.918126</td>\n",
       "      <td>-0.531035</td>\n",
       "      <td>-0.621472</td>\n",
       "      <td>-0.454178</td>\n",
       "      <td>0.58719</td>\n",
       "      <td>-0.198894</td>\n",
       "      <td>...</td>\n",
       "      <td>0.489514</td>\n",
       "      <td>-0.086682</td>\n",
       "      <td>-0.748878</td>\n",
       "      <td>-1.173917</td>\n",
       "      <td>1.966367</td>\n",
       "      <td>-1.28139</td>\n",
       "      <td>-0.374877</td>\n",
       "      <td>0.714373</td>\n",
       "      <td>0.112305</td>\n",
       "      <td>-0.532833</td>\n",
       "    </tr>\n",
       "    <tr>\n",
       "      <th>3</th>\n",
       "      <td>1</td>\n",
       "      <td>68.0</td>\n",
       "      <td>1.0</td>\n",
       "      <td>0.667508</td>\n",
       "      <td>3.895974</td>\n",
       "      <td>-0.221535</td>\n",
       "      <td>-0.367272</td>\n",
       "      <td>0.131822</td>\n",
       "      <td>0.97629</td>\n",
       "      <td>-0.494994</td>\n",
       "      <td>...</td>\n",
       "      <td>5.730914</td>\n",
       "      <td>-0.086682</td>\n",
       "      <td>1.013722</td>\n",
       "      <td>-1.587117</td>\n",
       "      <td>0.359267</td>\n",
       "      <td>2.59051</td>\n",
       "      <td>0.806623</td>\n",
       "      <td>0.367373</td>\n",
       "      <td>-0.494595</td>\n",
       "      <td>-1.062233</td>\n",
       "    </tr>\n",
       "    <tr>\n",
       "      <th>4</th>\n",
       "      <td>1</td>\n",
       "      <td>66.0</td>\n",
       "      <td>1.0</td>\n",
       "      <td>-0.316892</td>\n",
       "      <td>2.380374</td>\n",
       "      <td>0.156865</td>\n",
       "      <td>0.232828</td>\n",
       "      <td>0.054822</td>\n",
       "      <td>0.27059</td>\n",
       "      <td>0.128606</td>\n",
       "      <td>...</td>\n",
       "      <td>4.163014</td>\n",
       "      <td>0.601218</td>\n",
       "      <td>-0.060978</td>\n",
       "      <td>-0.435417</td>\n",
       "      <td>1.111467</td>\n",
       "      <td>-1.28139</td>\n",
       "      <td>-0.128477</td>\n",
       "      <td>1.469373</td>\n",
       "      <td>0.194605</td>\n",
       "      <td>1.404667</td>\n",
       "    </tr>\n",
       "  </tbody>\n",
       "</table>\n",
       "<p>5 rows × 17342 columns</p>\n",
       "</div>"
      ],
      "text/plain": [
       "   Peptic ulcer disease   Age  Gender  ARHGEF10L     HIF3A     RNF17  \\\n",
       "0                     1  70.0     1.0  -0.056592  2.128674 -0.531035   \n",
       "1                     1  67.0     1.0  -0.569692 -0.318126 -0.531035   \n",
       "2                     1  79.0     0.0  -0.899992 -0.918126 -0.531035   \n",
       "3                     1  68.0     1.0   0.667508  3.895974 -0.221535   \n",
       "4                     1  66.0     1.0  -0.316892  2.380374  0.156865   \n",
       "\n",
       "      RNF10     RNF11    RNF13   GTF2IP1  ...   SLC7A10   PLA2G2C     TULP2  \\\n",
       "0 -0.185972 -0.190878 -0.11891 -0.659794  ...  3.634614  0.677218  0.015022   \n",
       "1  0.237428  0.011822 -0.00611  1.018406  ...  4.908014  0.888518 -0.031778   \n",
       "2 -0.621472 -0.454178  0.58719 -0.198894  ...  0.489514 -0.086682 -0.748878   \n",
       "3 -0.367272  0.131822  0.97629 -0.494994  ...  5.730914 -0.086682  1.013722   \n",
       "4  0.232828  0.054822  0.27059  0.128606  ...  4.163014  0.601218 -0.060978   \n",
       "\n",
       "      NPY5R     GNGT2    GNGT1     TULP3     BCL6B     GSTK1      SELP  \n",
       "0 -1.155117  0.528367  2.75061  0.428423 -0.195527 -0.324695  0.193167  \n",
       "1 -0.393117  1.632467  2.33551 -0.145577 -0.276027 -1.219395  1.850967  \n",
       "2 -1.173917  1.966367 -1.28139 -0.374877  0.714373  0.112305 -0.532833  \n",
       "3 -1.587117  0.359267  2.59051  0.806623  0.367373 -0.494595 -1.062233  \n",
       "4 -0.435417  1.111467 -1.28139 -0.128477  1.469373  0.194605  1.404667  \n",
       "\n",
       "[5 rows x 17342 columns]"
      ]
     },
     "execution_count": 115,
     "metadata": {},
     "output_type": "execute_result"
    }
   ],
   "source": [
    "merged_data.head()"
   ]
  },
  {
   "cell_type": "code",
   "execution_count": null,
   "metadata": {
    "ExecuteTime": {
     "end_time": "2024-01-02T01:03:36.401002087Z",
     "start_time": "2024-01-02T01:03:36.400659608Z"
    },
    "collapsed": false
   },
   "outputs": [],
   "source": [
    "# If both age and gender features are available, select 'age' as the condition.\n",
    "condition = 'Age'\n",
    "# Remove the other condition to prevent interference.\n",
    "merged_data = merged_data.drop(columns=['Gender'], errors='ignore').astype('float')"
   ]
  },
  {
   "cell_type": "code",
   "execution_count": null,
   "metadata": {
    "ExecuteTime": {
     "end_time": "2024-01-02T01:03:36.403035823Z",
     "start_time": "2024-01-02T01:03:36.401081946Z"
    },
    "collapsed": false
   },
   "outputs": [
    {
     "name": "stdout",
     "output_type": "stream",
     "text": [
      "(1100, 17339)\n",
      "[1. 1. 1. ... 1. 1. 1.]\n"
     ]
    }
   ],
   "source": [
    "X = merged_data.drop(columns=[TRAIT, condition]).values\n",
    "Y = merged_data[TRAIT].values\n",
    "Z = merged_data[condition].values\n",
    "print(X.shape)\n",
    "print(Y)"
   ]
  },
  {
   "cell_type": "markdown",
   "metadata": {
    "collapsed": false
   },
   "source": [
    "Select the appropriate regression model depending on whether the dataset shows batch effect."
   ]
  },
  {
   "cell_type": "code",
   "execution_count": null,
   "metadata": {
    "ExecuteTime": {
     "end_time": "2024-01-02T01:03:36.403263628Z",
     "start_time": "2024-01-02T01:03:36.401336170Z"
    },
    "collapsed": false
   },
   "outputs": [
    {
     "data": {
      "text/plain": [
       "True"
      ]
     },
     "execution_count": 118,
     "metadata": {},
     "output_type": "execute_result"
    }
   ],
   "source": [
    "has_batch_effect = detect_batch_effect(X)\n",
    "has_batch_effect"
   ]
  },
  {
   "cell_type": "code",
   "execution_count": null,
   "metadata": {
    "ExecuteTime": {
     "end_time": "2024-01-02T01:03:36.475053437Z",
     "start_time": "2024-01-02T01:03:36.444397231Z"
    },
    "collapsed": false
   },
   "outputs": [],
   "source": [
    "\n",
    "if has_batch_effect:\n",
    "    model_constructor1 = VariableSelection\n",
    "    model_params1 = {'modified': True, 'lamda': 3e-4}\n",
    "    model_constructor2 = VariableSelection\n",
    "    model_params2 = {'modified': False}\n",
    "else:\n",
    "    model_constructor1 = Lasso\n",
    "    model_params1 = {'alpha': 1.0, 'random_state': 42}\n",
    "    model_constructor2 = VariableSelection\n",
    "    model_params2 = {'modified': False}"
   ]
  },
  {
   "cell_type": "code",
   "execution_count": null,
   "metadata": {
    "ExecuteTime": {
     "end_time": "2024-01-02T01:03:50.733335364Z",
     "start_time": "2024-01-02T01:03:36.444563711Z"
    },
    "collapsed": false
   },
   "outputs": [
    {
     "name": "stdout",
     "output_type": "stream",
     "text": [
      "alpha for Lasso: 0.0003\n",
      "alpha for Lasso: 0.0003\n",
      "alpha for Lasso: 0.0003\n",
      "alpha for Lasso: 0.0003\n",
      "alpha for Lasso: 0.0003\n",
      "The cross-validation accuracy is 56.36% ± 3.30%\n"
     ]
    }
   ],
   "source": [
    "trait_type = 'binary'  # Remember to set this properly, either 'binary' or 'continuous'\n",
    "cv_mean1, cv_std1 = cross_validation(X, Y, Z, model_constructor1, model_params1, target_type=trait_type)"
   ]
  },
  {
   "cell_type": "code",
   "execution_count": null,
   "metadata": {},
   "outputs": [
    {
     "name": "stderr",
     "output_type": "stream",
     "text": [
      "/Users/Henry/Library/Python/3.7/lib/python/site-packages/sparse_lmm/helpingMethods.py:49: RuntimeWarning: invalid value encountered in true_divide\n",
      "  ts = beta / np.sqrt(var * sigma)\n",
      "/Users/Henry/Library/Python/3.7/lib/python/site-packages/sparse_lmm/helpingMethods.py:49: RuntimeWarning: invalid value encountered in true_divide\n",
      "  ts = beta / np.sqrt(var * sigma)\n",
      "/Users/Henry/Library/Python/3.7/lib/python/site-packages/sparse_lmm/helpingMethods.py:49: RuntimeWarning: invalid value encountered in true_divide\n",
      "  ts = beta / np.sqrt(var * sigma)\n",
      "/Users/Henry/Library/Python/3.7/lib/python/site-packages/sparse_lmm/helpingMethods.py:49: RuntimeWarning: invalid value encountered in true_divide\n",
      "  ts = beta / np.sqrt(var * sigma)\n",
      "/Users/Henry/Library/Python/3.7/lib/python/site-packages/sparse_lmm/helpingMethods.py:49: RuntimeWarning: invalid value encountered in true_divide\n",
      "  ts = beta / np.sqrt(var * sigma)\n"
     ]
    },
    {
     "name": "stdout",
     "output_type": "stream",
     "text": [
      "The cross-validation accuracy is 89.27% ± 3.21%\n"
     ]
    }
   ],
   "source": [
    "cv_mean2, cv_std2 = cross_validation(X, Y, Z, model_constructor2, model_params2, target_type=trait_type)"
   ]
  },
  {
   "cell_type": "code",
   "execution_count": null,
   "metadata": {
    "ExecuteTime": {
     "end_time": "2024-01-02T01:03:53.587340410Z",
     "start_time": "2024-01-02T01:03:50.732779025Z"
    },
    "collapsed": false
   },
   "outputs": [
    {
     "name": "stdout",
     "output_type": "stream",
     "text": [
      "alpha for Lasso: 0.0003\n"
     ]
    },
    {
     "name": "stderr",
     "output_type": "stream",
     "text": [
      "/home/yxcheng/anaconda3/envs/ai4sci/lib/python3.10/site-packages/sparse_lmm/helpingMethods.py:49: RuntimeWarning: invalid value encountered in divide\n",
      "  ts = beta / np.sqrt(var * sigma)\n"
     ]
    }
   ],
   "source": [
    "normalized_X, _ = normalize_data(X)\n",
    "normalized_Z, _ = normalize_data(Z)\n",
    "\n",
    "# Train regression model on the whole dataset to identify significant genes\n",
    "model1 = ResidualizationRegressor(model_constructor1, model_params1)\n",
    "model1.fit(normalized_X, Y, normalized_Z)\n",
    "\n",
    "model2 = ResidualizationRegressor(model_constructor2, model_params2)\n",
    "model2.fit(normalized_X, Y, normalized_Z)"
   ]
  },
  {
   "cell_type": "markdown",
   "metadata": {
    "ExecuteTime": {
     "end_time": "2023-10-14T04:50:59.072075075Z",
     "start_time": "2023-10-14T04:50:38.739499998Z"
    },
    "id": "EjJrxbvb4nlj"
   },
   "source": [
    "### 5. Discussion and report"
   ]
  },
  {
   "cell_type": "code",
   "execution_count": null,
   "metadata": {
    "ExecuteTime": {
     "end_time": "2024-01-02T01:03:53.641570844Z",
     "start_time": "2024-01-02T01:03:53.627778553Z"
    },
    "collapsed": false
   },
   "outputs": [
    {
     "name": "stdout",
     "output_type": "stream",
     "text": [
      "Effect of the condition on the target variable:\n",
      "Variable: Age\n",
      "Coefficient: -0.0077\n",
      "Found 10 genes with non-zero coefficients associated with the trait 'Lung-Cancer' conditional on the factor 'Age'. These genes are identified as significant based on the regression model.\n",
      "   Variable  Coefficient  Absolute Coefficient\n",
      "    SNORA81     0.605617              0.605617\n",
      "    SNORD89    -0.561992              0.561992\n",
      "     OR4F17     0.468452              0.468452\n",
      "SNORD115-26    -0.289358              0.289358\n",
      "     OR2L1P    -0.278115              0.278115\n",
      "    TBC1D3C     0.248994              0.248994\n",
      "     DMRTA2    -0.194621              0.194621\n",
      "     IFIT1B    -0.188779              0.188779\n",
      "    PPIAL4E     0.150659              0.150659\n",
      "     TTTY16    -0.082366              0.082366\n"
     ]
    },
    {
     "name": "stderr",
     "output_type": "stream",
     "text": [
      "/home/yxcheng/AI4Science_gold_standard/stage1/Yuxuan/../utils.py:469: SettingWithCopyWarning: \n",
      "A value is trying to be set on a copy of a slice from a DataFrame.\n",
      "Try using .loc[row_indexer,col_indexer] = value instead\n",
      "\n",
      "See the caveats in the documentation: https://pandas.pydata.org/pandas-docs/stable/user_guide/indexing.html#returning-a-view-versus-a-copy\n",
      "  gene_regression_df['Absolute Coefficient'] = gene_regression_df['Coefficient'].abs()\n"
     ]
    }
   ],
   "source": [
    "\n",
    "feature_cols = merged_data.columns.tolist()\n",
    "feature_cols.remove(TRAIT)\n",
    "\n",
    "threshold = 0.05\n",
    "interpret_result(model1, feature_cols, TRAIT, condition, threshold=threshold, save_output=True,\n",
    "                 output_dir=OUTPUT_DIR, model_id=1)"
   ]
  },
  {
   "cell_type": "code",
   "execution_count": null,
   "metadata": {
    "collapsed": false
   },
   "outputs": [
    {
     "name": "stdout",
     "output_type": "stream",
     "text": [
      "Effect of the condition on the target variable:\n",
      "Variable: Age\n",
      "Coefficient: -0.0077\n",
      "Found 14 significant genes associated with the trait 'Lung-Cancer' conditional on the factor 'Age', with corrected p-value < 0.05:\n",
      "Variable  Coefficient      p_value  corrected_p_value\n",
      "   MEX3A     0.061062 2.147189e-07           0.003723\n",
      " SLC19A1    -0.038907 6.271788e-07           0.005437\n",
      "  CRABP2     0.036440 1.633672e-06           0.009442\n",
      "   HMGB3     0.042606 8.393633e-06           0.020791\n",
      " DEFB118     0.028296 7.138943e-06           0.020791\n",
      "     IL3    -0.016966 5.077872e-06           0.020791\n",
      "  FAM83A     0.043838 8.074414e-06           0.020791\n",
      "    RCC1     0.041270 1.786386e-05           0.028158\n",
      "    NUF2     0.068410 1.754965e-05           0.028158\n",
      "    SPP1     0.032014 1.782137e-05           0.028158\n",
      "    ETV4     0.037361 1.688133e-05           0.028158\n",
      "   EPB42    -0.020447 2.157070e-05           0.031168\n",
      "   CENPM    -0.051850 3.061145e-05           0.040829\n",
      " PLEKHN1     0.044331 3.372218e-05           0.041765\n"
     ]
    },
    {
     "name": "stderr",
     "output_type": "stream",
     "text": [
      "/home/yxcheng/AI4Science_gold_standard/stage1/Yuxuan/../utils.py:478: SettingWithCopyWarning: \n",
      "A value is trying to be set on a copy of a slice from a DataFrame.\n",
      "Try using .loc[row_indexer,col_indexer] = value instead\n",
      "\n",
      "See the caveats in the documentation: https://pandas.pydata.org/pandas-docs/stable/user_guide/indexing.html#returning-a-view-versus-a-copy\n",
      "  gene_regression_df.loc[:, 'corrected_p_value'] = corrected_p_values\n"
     ]
    }
   ],
   "source": [
    "\n",
    "interpret_result(model2, feature_cols, TRAIT, condition, threshold=threshold, save_output=True,\n",
    "                 output_dir=OUTPUT_DIR, model_id=2)"
   ]
  }
 ],
 "metadata": {
  "colab": {
   "provenance": []
  },
  "kernelspec": {
   "display_name": "Python 3 (ipykernel)",
   "language": "python",
   "name": "python3"
  },
  "language_info": {
   "codemirror_mode": {
    "name": "ipython",
    "version": 3
   },
   "file_extension": ".py",
   "mimetype": "text/x-python",
   "name": "python",
   "nbconvert_exporter": "python",
   "pygments_lexer": "ipython3",
   "version": "3.7.9"
  }
 },
 "nbformat": 4,
 "nbformat_minor": 0
}
