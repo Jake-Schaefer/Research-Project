{
 "cells": [
  {
   "cell_type": "markdown",
   "metadata": {
    "collapsed": false
   },
   "source": [
    "# Gold standard curation: Preprocessing and single-step regression"
   ]
  },
  {
   "cell_type": "markdown",
   "metadata": {
    "collapsed": false
   },
   "source": [
    "In this stage of gold standard curation, we will do the data preprocessing, selection, and single-step regression for the 153 traits in our question set. The workflow consists of the following steps:\n",
    "\n",
    "1. Preprocess all the cohorts related to this trait. Each cohort should be converted to a tabular form and saved to a csv file, with columns being genetic factors, the trait, and age, gender if available;\n",
    "2. If there exists at least one cohort with age or gender information, conduct regression analysis with genetic features together with age or gender as the regressors.\n"
   ]
  },
  {
   "cell_type": "markdown",
   "metadata": {
    "collapsed": false
   },
   "source": [
    "# 1. Basic setup"
   ]
  },
  {
   "cell_type": "code",
   "execution_count": 1,
   "metadata": {
    "ExecuteTime": {
     "end_time": "2024-01-02T01:02:53.240839272Z",
     "start_time": "2024-01-02T01:02:53.240575109Z"
    },
    "collapsed": false
   },
   "outputs": [],
   "source": [
    "import os\n",
    "import sys\n",
    "\n",
    "sys.path.append('..')\n",
    "# Set your preferred name\n",
    "USER = \"Arthur\"\n",
    "# Set the data and output directories\n",
    "DATA_ROOT = 'C:/Users/arthu/Downloads'\n",
    "OUTPUT_ROOT = 'C:/Users/arthu/OneDrive/Documents/GitHub/output1'\n",
    "TRAIT = 'Colon and Rectal Cancer'\n",
    "\n",
    "OUTPUT_DIR = os.path.join(OUTPUT_ROOT, USER, '-'.join(TRAIT.split()))\n",
    "JSON_PATH = os.path.join(OUTPUT_DIR, \"cohort_info.json\")\n",
    "if not os.path.exists(OUTPUT_DIR):\n",
    "    os.makedirs(OUTPUT_DIR, exist_ok=True)\n",
    "\n",
    "# Gene symbol normalization may take 1-2 minutes. You may set it to False for debugging.\n",
    "NORMALIZE_GENE = True"
   ]
  },
  {
   "cell_type": "code",
   "execution_count": 25,
   "metadata": {
    "ExecuteTime": {
     "end_time": "2024-01-02T01:02:53.501910797Z",
     "start_time": "2024-01-02T01:02:53.496254990Z"
    },
    "colab": {
     "base_uri": "https://localhost:8080/"
    },
    "id": "jMTdsU43vVg3",
    "outputId": "38886111-f442-44b4-8398-96bf384d7abd"
   },
   "outputs": [
    {
     "data": {
      "text/plain": [
       "\"import os\\nfrom google.colab import drive\\n\\ndrive.mount('/content/drive', force_remount=True)\\nproj_dir = '/content/drive/MyDrive/AI4Science_Public'\\nos.chdir(proj_dir)\""
      ]
     },
     "execution_count": 25,
     "metadata": {},
     "output_type": "execute_result"
    }
   ],
   "source": [
    "# This cell is only for use on Google Colab. Skip it if you run your code in other environments\n",
    "\n",
    "\"\"\"import os\n",
    "from google.colab import drive\n",
    "\n",
    "drive.mount('/content/drive', force_remount=True)\n",
    "proj_dir = '/content/drive/MyDrive/AI4Science_Public'\n",
    "os.chdir(proj_dir)\"\"\""
   ]
  },
  {
   "cell_type": "markdown",
   "metadata": {
    "collapsed": false
   },
   "source": [
    "# 2. Data preprocessing and selection"
   ]
  },
  {
   "cell_type": "markdown",
   "metadata": {
    "collapsed": false
   },
   "source": [
    "## 2.1. The TCGA Xena dataset"
   ]
  },
  {
   "cell_type": "markdown",
   "metadata": {
    "collapsed": false
   },
   "source": [
    "In TCGA Xena, there is either zero or one cohort related to the trait. We search the names of subdirectories to see if any matches the trait. If a match is found, we directly obtain the file paths."
   ]
  },
  {
   "cell_type": "code",
   "execution_count": 2,
   "metadata": {
    "ExecuteTime": {
     "end_time": "2024-01-02T01:02:56.462746833Z",
     "start_time": "2024-01-02T01:02:55.818581842Z"
    },
    "collapsed": false
   },
   "outputs": [
    {
     "name": "stdout",
     "output_type": "stream",
     "text": [
      "utils.py has been loaded\n"
     ]
    },
    {
     "data": {
      "text/plain": [
       "['TCGA_Colon_and_Rectal_Cancer_(COADREAD)']"
      ]
     },
     "execution_count": 2,
     "metadata": {},
     "output_type": "execute_result"
    }
   ],
   "source": [
    "import os\n",
    "from utils import *\n",
    "\n",
    "dataset = 'TCGA'\n",
    "dataset_dir = os.path.join(DATA_ROOT, dataset)\n",
    "os.listdir(dataset_dir)[:]"
   ]
  },
  {
   "cell_type": "markdown",
   "metadata": {
    "collapsed": false
   },
   "source": [
    "If no match is found, jump directly to GEO in Part 2.2"
   ]
  },
  {
   "cell_type": "code",
   "execution_count": 3,
   "metadata": {
    "collapsed": false
   },
   "outputs": [],
   "source": [
    "trait_subdir = \"TCGA_Colon_and_Rectal_Cancer_(COADREAD)\"\n",
    "cohort = 'Xena'\n",
    "# All the cancer traits in Xena are binary\n",
    "trait_type = 'binary'\n",
    "# Once a relevant cohort is found in Xena, we can generally assume the gene and clinical data are available\n",
    "is_available = True\n",
    "\n",
    "clinical_data_file = os.path.join(dataset_dir, trait_subdir, 'TCGA.COADREAD.sampleMap_COADREAD_clinicalMatrix')\n",
    "genetic_data_file = os.path.join(dataset_dir, trait_subdir, 'TCGA.COADREAD.sampleMap_HiSeqV2_PANCAN.gz')"
   ]
  },
  {
   "cell_type": "code",
   "execution_count": 4,
   "metadata": {
    "id": "MudwB-_iz7sc"
   },
   "outputs": [],
   "source": [
    "import pandas as pd\n",
    "\n",
    "clinical_data = pd.read_csv(clinical_data_file, sep='\\t', index_col=0)\n",
    "genetic_data = pd.read_csv(genetic_data_file, compression='gzip', sep='\\t', index_col=0)\n",
    "age_col = gender_col = None"
   ]
  },
  {
   "cell_type": "code",
   "execution_count": 5,
   "metadata": {
    "collapsed": false
   },
   "outputs": [],
   "source": [
    "_, clinical_data_cols = check_rows_and_columns(clinical_data)"
   ]
  },
  {
   "cell_type": "code",
   "execution_count": 6,
   "metadata": {
    "collapsed": false
   },
   "outputs": [
    {
     "data": {
      "text/plain": [
       "['AWG_MLH1_silencing',\n",
       " 'AWG_cancer_type_Oct62011',\n",
       " 'CDE_ID_3226963',\n",
       " 'CIMP',\n",
       " 'MSI_updated_Oct62011',\n",
       " '_INTEGRATION',\n",
       " '_PANCAN_CNA_PANCAN_K8',\n",
       " '_PANCAN_Cluster_Cluster_PANCAN',\n",
       " '_PANCAN_DNAMethyl_COADREAD',\n",
       " '_PANCAN_DNAMethyl_PANCAN']"
      ]
     },
     "execution_count": 6,
     "metadata": {},
     "output_type": "execute_result"
    }
   ],
   "source": [
    "clinical_data_cols[:10]"
   ]
  },
  {
   "cell_type": "markdown",
   "metadata": {
    "ExecuteTime": {
     "end_time": "2023-12-28T20:20:11.841042813Z",
     "start_time": "2023-12-28T20:20:11.834458206Z"
    },
    "collapsed": false
   },
   "source": [
    "Read all the column names in the clinical dataset, to find the columns that record information about age or gender.\n",
    "Reference prompt:"
   ]
  },
  {
   "cell_type": "code",
   "execution_count": 7,
   "metadata": {
    "collapsed": false
   },
   "outputs": [
    {
     "data": {
      "text/plain": [
       "\"\\nBelow is a list of column names from a biomedical dataset. Please examine it and identify the columns that are likely to contain information about patients' age. Additionally, please do the same for columns that may hold data on patients' gender. Please provide your answer by strictly following this format, without redundant words:\\ncandidate_age_cols = [col_name1, col_name2, ...]\\ncandidate_gender_cols = [col_name1, col_name2, ...]\\nIf no columns match a criterion, please provide an empty list.\\n\\nColumn names:\\n['AWG_MLH1_silencing', 'AWG_cancer_type_Oct62011', 'CDE_ID_3226963', 'CIMP', 'MSI_updated_Oct62011', '_INTEGRATION', '_PANCAN_CNA_PANCAN_K8', '_PANCAN_Cluster_Cluster_PANCAN', '_PANCAN_DNAMethyl_COADREAD', '_PANCAN_DNAMethyl_PANCAN', '_PANCAN_RPPA_PANCAN_K8', '_PANCAN_UNC_RNAseq_PANCAN_K16', '_PANCAN_miRNA_PANCAN', '_PANCAN_mutation_PANCAN', '_PATIENT', '_cohort', '_primary_disease', '_primary_site', 'additional_pharmaceutical_therapy', 'additional_radiation_therapy', 'age_at_initial_pathologic_diagnosis', 'anatomic_neoplasm_subdivision', 'bcr_followup_barcode', 'bcr_patient_barcode', 'bcr_sample_barcode', 'braf_gene_analysis_performed', 'braf_gene_analysis_result', 'circumferential_resection_margin', 'colon_polyps_present', 'days_to_birth', 'days_to_collection', 'days_to_death', 'days_to_initial_pathologic_diagnosis', 'days_to_last_followup', 'days_to_new_tumor_event_additional_surgery_procedure', 'days_to_new_tumor_event_after_initial_treatment', 'disease_code', 'followup_case_report_form_submission_reason', 'followup_treatment_success', 'form_completion_date', 'gender', 'height', 'histological_type', 'history_of_colon_polyps', 'history_of_neoadjuvant_treatment', 'hypermutation', 'icd_10', 'icd_o_3_histology', 'icd_o_3_site', 'informed_consent_verified', 'initial_weight', 'intermediate_dimension', 'is_ffpe', 'kras_gene_analysis_performed', 'kras_mutation_codon', 'kras_mutation_found', 'longest_dimension', 'loss_expression_of_mismatch_repair_proteins_by_ihc', 'loss_expression_of_mismatch_repair_proteins_by_ihc_result', 'lost_follow_up', 'lymph_node_examined_count', 'lymphatic_invasion', 'microsatellite_instability', 'new_neoplasm_event_type', 'new_tumor_event_additional_surgery_procedure', 'new_tumor_event_after_initial_treatment', 'non_nodal_tumor_deposits', 'non_silent_mutation', 'non_silent_rate_per_Mb', 'number_of_abnormal_loci', 'number_of_first_degree_relatives_with_cancer_diagnosis', 'number_of_loci_tested', 'number_of_lymphnodes_positive_by_he', 'number_of_lymphnodes_positive_by_ihc', 'oct_embedded', 'pathologic_M', 'pathologic_N', 'pathologic_T', 'pathologic_stage', 'pathology_report_file_name', 'patient_id', 'perineural_invasion_present', 'person_neoplasm_cancer_status', 'postoperative_rx_tx', 'preoperative_pretreatment_cea_level', 'primary_lymph_node_presentation_assessment', 'primary_therapy_outcome_success', 'project_code', 'radiation_therapy', 'residual_disease_post_new_tumor_event_margin_status', 'residual_tumor', 'sample_type', 'sample_type_id', 'shortest_dimension', 'silent_mutation', 'silent_rate_per_Mb', 'site_of_additional_surgery_new_tumor_event_mets', 'synchronous_colon_cancer_present', 'system_version', 'tissue_prospective_collection_indicator', 'tissue_retrospective_collection_indicator', 'tissue_source_site', 'total_mutation', 'tumor_tissue_site', 'venous_invasion', 'vial_number', 'vital_status', 'weight', 'year_of_initial_pathologic_diagnosis', '_GENOMIC_ID_TCGA_COADREAD_exp_HiSeqV2_exon', '_GENOMIC_ID_TCGA_COADREAD_PDMRNAseq', '_GENOMIC_ID_TCGA_COADREAD_exp_HiSeqV2_PANCAN', '_GENOMIC_ID_TCGA_COADREAD_hMethyl450', '_GENOMIC_ID_TCGA_COADREAD_gistic2thd', '_GENOMIC_ID_TCGA_COADREAD_hMethyl27', '_GENOMIC_ID_TCGA_COADREAD_G4502A_07_3', '_GENOMIC_ID_TCGA_COADREAD_PDMarrayCNV', '_GENOMIC_ID_TCGA_COADREAD_exp_HiSeqV2', '_GENOMIC_ID_TCGA_COADREAD_PDMarray', '_GENOMIC_ID_TCGA_COADREAD_gistic2', '_GENOMIC_ID_TCGA_COADREAD_mutation', '_GENOMIC_ID_TCGA_COADREAD_RPPA_RBN', '_GENOMIC_ID_TCGA_COADREAD_PDMRNAseqCNV']\\n\""
      ]
     },
     "execution_count": 7,
     "metadata": {},
     "output_type": "execute_result"
    }
   ],
   "source": [
    "f'''\n",
    "Below is a list of column names from a biomedical dataset. Please examine it and identify the columns that are likely to contain information about patients' age. Additionally, please do the same for columns that may hold data on patients' gender. Please provide your answer by strictly following this format, without redundant words:\n",
    "candidate_age_cols = [col_name1, col_name2, ...]\n",
    "candidate_gender_cols = [col_name1, col_name2, ...]\n",
    "If no columns match a criterion, please provide an empty list.\n",
    "\n",
    "Column names:\n",
    "{clinical_data_cols}\n",
    "'''"
   ]
  },
  {
   "cell_type": "code",
   "execution_count": 8,
   "metadata": {
    "collapsed": false
   },
   "outputs": [],
   "source": [
    "# candidate_age_cols = ['age_at_initial_pathologic_diagnosis', 'days_to_birth', 'days_to_collection', 'days_to_death', 'days_to_initial_pathologic_diagnosis', 'days_to_last_followup', 'year_of_initial_pathologic_diagnosis']\n",
    "\n",
    "# candidate_gender_cols = ['gender']\n",
    "\n",
    "\n",
    "candidate_age_cols = ['age_at_initial_pathologic_diagnosis', 'days_to_birth', 'days_to_collection', 'days_to_death', 'days_to_initial_pathologic_diagnosis', 'days_to_last_followup', 'days_to_new_tumor_event_additional_surgery_procedure', 'days_to_new_tumor_event_after_initial_treatment', 'year_of_initial_pathologic_diagnosis']\n",
    "\n",
    "candidate_gender_cols = ['gender']"
   ]
  },
  {
   "cell_type": "markdown",
   "metadata": {
    "ExecuteTime": {
     "end_time": "2023-12-31T03:57:44.207565572Z",
     "start_time": "2023-12-31T03:57:44.202177544Z"
    },
    "collapsed": false
   },
   "source": [
    "Choose a single column from the candidate columns that record age and gender information respectively.\n",
    "If no column meets the requirement, keep 'age_col' or 'gender_col' to None"
   ]
  },
  {
   "cell_type": "code",
   "execution_count": 9,
   "metadata": {
    "collapsed": false
   },
   "outputs": [
    {
     "data": {
      "text/plain": [
       "{'age_at_initial_pathologic_diagnosis': [61.0, 67.0, 42.0, 74.0, nan],\n",
       " 'days_to_birth': [-22379.0, -24523.0, -15494.0, -27095.0, nan],\n",
       " 'days_to_collection': [35.0, nan, 107.0, 1778.0, nan],\n",
       " 'days_to_death': [nan, nan, nan, '49', nan],\n",
       " 'days_to_initial_pathologic_diagnosis': [0.0, 0.0, 0.0, 0.0, nan],\n",
       " 'days_to_last_followup': ['475', '146', '385', nan, nan],\n",
       " 'days_to_new_tumor_event_additional_surgery_procedure': [nan,\n",
       "  nan,\n",
       "  nan,\n",
       "  nan,\n",
       "  nan],\n",
       " 'days_to_new_tumor_event_after_initial_treatment': [nan, nan, nan, nan, nan],\n",
       " 'year_of_initial_pathologic_diagnosis': [2013.0, 2013.0, 2013.0, 2009.0, nan]}"
      ]
     },
     "execution_count": 9,
     "metadata": {},
     "output_type": "execute_result"
    }
   ],
   "source": [
    "preview_df(clinical_data[candidate_age_cols])"
   ]
  },
  {
   "cell_type": "code",
   "execution_count": 10,
   "metadata": {
    "collapsed": false
   },
   "outputs": [],
   "source": [
    "age_col = 'age_at_initial_pathologic_diagnosis'"
   ]
  },
  {
   "cell_type": "code",
   "execution_count": 11,
   "metadata": {
    "collapsed": false
   },
   "outputs": [
    {
     "data": {
      "text/plain": [
       "{'gender': ['FEMALE', 'MALE', 'FEMALE', 'MALE', nan]}"
      ]
     },
     "execution_count": 11,
     "metadata": {},
     "output_type": "execute_result"
    }
   ],
   "source": [
    "preview_df(clinical_data[candidate_gender_cols])"
   ]
  },
  {
   "cell_type": "code",
   "execution_count": 12,
   "metadata": {
    "collapsed": false
   },
   "outputs": [],
   "source": [
    "gender_col = 'gender'"
   ]
  },
  {
   "cell_type": "code",
   "execution_count": 13,
   "metadata": {
    "collapsed": false
   },
   "outputs": [],
   "source": [
    "selected_clinical_data = xena_select_clinical_features(clinical_data, TRAIT, age_col, gender_col)"
   ]
  },
  {
   "cell_type": "code",
   "execution_count": 14,
   "metadata": {
    "collapsed": false
   },
   "outputs": [],
   "source": [
    "if NORMALIZE_GENE:\n",
    "    genetic_data = normalize_gene_symbols_in_index(genetic_data)"
   ]
  },
  {
   "cell_type": "code",
   "execution_count": 15,
   "metadata": {
    "collapsed": false
   },
   "outputs": [
    {
     "data": {
      "text/html": [
       "<div>\n",
       "<style scoped>\n",
       "    .dataframe tbody tr th:only-of-type {\n",
       "        vertical-align: middle;\n",
       "    }\n",
       "\n",
       "    .dataframe tbody tr th {\n",
       "        vertical-align: top;\n",
       "    }\n",
       "\n",
       "    .dataframe thead th {\n",
       "        text-align: right;\n",
       "    }\n",
       "</style>\n",
       "<table border=\"1\" class=\"dataframe\">\n",
       "  <thead>\n",
       "    <tr style=\"text-align: right;\">\n",
       "      <th></th>\n",
       "      <th>Colon and Rectal Cancer</th>\n",
       "      <th>Age</th>\n",
       "      <th>Gender</th>\n",
       "      <th>UBE2Q1</th>\n",
       "      <th>RNF14</th>\n",
       "      <th>SERPINB11</th>\n",
       "      <th>RNF17</th>\n",
       "      <th>RNF10</th>\n",
       "      <th>RNF11</th>\n",
       "      <th>RNF13</th>\n",
       "      <th>...</th>\n",
       "      <th>SLC7A10</th>\n",
       "      <th>SLC7A11</th>\n",
       "      <th>FOLR1</th>\n",
       "      <th>TULP2</th>\n",
       "      <th>NPY5R</th>\n",
       "      <th>GOLGA6D</th>\n",
       "      <th>SERPINH1</th>\n",
       "      <th>NFIX</th>\n",
       "      <th>SELP</th>\n",
       "      <th>ADAMTS19</th>\n",
       "    </tr>\n",
       "    <tr>\n",
       "      <th>sampleID</th>\n",
       "      <th></th>\n",
       "      <th></th>\n",
       "      <th></th>\n",
       "      <th></th>\n",
       "      <th></th>\n",
       "      <th></th>\n",
       "      <th></th>\n",
       "      <th></th>\n",
       "      <th></th>\n",
       "      <th></th>\n",
       "      <th></th>\n",
       "      <th></th>\n",
       "      <th></th>\n",
       "      <th></th>\n",
       "      <th></th>\n",
       "      <th></th>\n",
       "      <th></th>\n",
       "      <th></th>\n",
       "      <th></th>\n",
       "      <th></th>\n",
       "      <th></th>\n",
       "    </tr>\n",
       "  </thead>\n",
       "  <tbody>\n",
       "    <tr>\n",
       "      <th>TCGA-3L-AA1B-01</th>\n",
       "      <td>1</td>\n",
       "      <td>61.0</td>\n",
       "      <td>0.0</td>\n",
       "      <td>0.615782</td>\n",
       "      <td>3.85144</td>\n",
       "      <td>-0.640695</td>\n",
       "      <td>-9.802658</td>\n",
       "      <td>0.615399</td>\n",
       "      <td>-0.424735</td>\n",
       "      <td>-2.504718</td>\n",
       "      <td>...</td>\n",
       "      <td>-0.791986</td>\n",
       "      <td>6.723118</td>\n",
       "      <td>-1.061697</td>\n",
       "      <td>-0.748878</td>\n",
       "      <td>-0.034117</td>\n",
       "      <td>-1.06467</td>\n",
       "      <td>-0.262197</td>\n",
       "      <td>3.141164</td>\n",
       "      <td>-3.250033</td>\n",
       "      <td>-0.199484</td>\n",
       "    </tr>\n",
       "    <tr>\n",
       "      <th>TCGA-4N-A93T-01</th>\n",
       "      <td>1</td>\n",
       "      <td>67.0</td>\n",
       "      <td>1.0</td>\n",
       "      <td>0.908282</td>\n",
       "      <td>4.08014</td>\n",
       "      <td>-0.640695</td>\n",
       "      <td>-9.802658</td>\n",
       "      <td>0.635099</td>\n",
       "      <td>-1.425235</td>\n",
       "      <td>-1.654018</td>\n",
       "      <td>...</td>\n",
       "      <td>1.462614</td>\n",
       "      <td>6.109118</td>\n",
       "      <td>-7.163097</td>\n",
       "      <td>-0.748878</td>\n",
       "      <td>3.199883</td>\n",
       "      <td>-1.06467</td>\n",
       "      <td>-0.406497</td>\n",
       "      <td>3.286964</td>\n",
       "      <td>-7.381133</td>\n",
       "      <td>-3.482084</td>\n",
       "    </tr>\n",
       "    <tr>\n",
       "      <th>TCGA-4T-AA8H-01</th>\n",
       "      <td>1</td>\n",
       "      <td>42.0</td>\n",
       "      <td>0.0</td>\n",
       "      <td>0.252882</td>\n",
       "      <td>3.50444</td>\n",
       "      <td>-0.640695</td>\n",
       "      <td>-9.802658</td>\n",
       "      <td>0.816899</td>\n",
       "      <td>-0.679735</td>\n",
       "      <td>-2.327818</td>\n",
       "      <td>...</td>\n",
       "      <td>-2.090786</td>\n",
       "      <td>6.204618</td>\n",
       "      <td>-1.205497</td>\n",
       "      <td>-0.748878</td>\n",
       "      <td>1.335083</td>\n",
       "      <td>-1.06467</td>\n",
       "      <td>-1.116797</td>\n",
       "      <td>2.812764</td>\n",
       "      <td>-6.648433</td>\n",
       "      <td>-5.035584</td>\n",
       "    </tr>\n",
       "    <tr>\n",
       "      <th>TCGA-5M-AAT4-01</th>\n",
       "      <td>1</td>\n",
       "      <td>74.0</td>\n",
       "      <td>1.0</td>\n",
       "      <td>0.946082</td>\n",
       "      <td>3.29594</td>\n",
       "      <td>-0.640695</td>\n",
       "      <td>-9.286358</td>\n",
       "      <td>0.339999</td>\n",
       "      <td>-1.385135</td>\n",
       "      <td>-2.217018</td>\n",
       "      <td>...</td>\n",
       "      <td>-0.060386</td>\n",
       "      <td>7.695418</td>\n",
       "      <td>-4.704097</td>\n",
       "      <td>-0.232578</td>\n",
       "      <td>-1.070817</td>\n",
       "      <td>-1.06467</td>\n",
       "      <td>-0.230397</td>\n",
       "      <td>3.358264</td>\n",
       "      <td>-5.788033</td>\n",
       "      <td>-3.379584</td>\n",
       "    </tr>\n",
       "    <tr>\n",
       "      <th>TCGA-5M-AAT6-01</th>\n",
       "      <td>1</td>\n",
       "      <td>40.0</td>\n",
       "      <td>0.0</td>\n",
       "      <td>0.558082</td>\n",
       "      <td>3.41174</td>\n",
       "      <td>0.087205</td>\n",
       "      <td>-9.802658</td>\n",
       "      <td>0.552499</td>\n",
       "      <td>-0.555435</td>\n",
       "      <td>-2.594018</td>\n",
       "      <td>...</td>\n",
       "      <td>-1.340186</td>\n",
       "      <td>8.269918</td>\n",
       "      <td>-5.668797</td>\n",
       "      <td>0.460622</td>\n",
       "      <td>-1.587117</td>\n",
       "      <td>-1.06467</td>\n",
       "      <td>1.261403</td>\n",
       "      <td>2.274064</td>\n",
       "      <td>-1.230233</td>\n",
       "      <td>-1.284084</td>\n",
       "    </tr>\n",
       "  </tbody>\n",
       "</table>\n",
       "<p>5 rows × 17342 columns</p>\n",
       "</div>"
      ],
      "text/plain": [
       "                 Colon and Rectal Cancer   Age  Gender    UBE2Q1    RNF14  \\\n",
       "sampleID                                                                    \n",
       "TCGA-3L-AA1B-01                        1  61.0     0.0  0.615782  3.85144   \n",
       "TCGA-4N-A93T-01                        1  67.0     1.0  0.908282  4.08014   \n",
       "TCGA-4T-AA8H-01                        1  42.0     0.0  0.252882  3.50444   \n",
       "TCGA-5M-AAT4-01                        1  74.0     1.0  0.946082  3.29594   \n",
       "TCGA-5M-AAT6-01                        1  40.0     0.0  0.558082  3.41174   \n",
       "\n",
       "                 SERPINB11     RNF17     RNF10     RNF11     RNF13  ...  \\\n",
       "sampleID                                                            ...   \n",
       "TCGA-3L-AA1B-01  -0.640695 -9.802658  0.615399 -0.424735 -2.504718  ...   \n",
       "TCGA-4N-A93T-01  -0.640695 -9.802658  0.635099 -1.425235 -1.654018  ...   \n",
       "TCGA-4T-AA8H-01  -0.640695 -9.802658  0.816899 -0.679735 -2.327818  ...   \n",
       "TCGA-5M-AAT4-01  -0.640695 -9.286358  0.339999 -1.385135 -2.217018  ...   \n",
       "TCGA-5M-AAT6-01   0.087205 -9.802658  0.552499 -0.555435 -2.594018  ...   \n",
       "\n",
       "                  SLC7A10   SLC7A11     FOLR1     TULP2     NPY5R  GOLGA6D  \\\n",
       "sampleID                                                                     \n",
       "TCGA-3L-AA1B-01 -0.791986  6.723118 -1.061697 -0.748878 -0.034117 -1.06467   \n",
       "TCGA-4N-A93T-01  1.462614  6.109118 -7.163097 -0.748878  3.199883 -1.06467   \n",
       "TCGA-4T-AA8H-01 -2.090786  6.204618 -1.205497 -0.748878  1.335083 -1.06467   \n",
       "TCGA-5M-AAT4-01 -0.060386  7.695418 -4.704097 -0.232578 -1.070817 -1.06467   \n",
       "TCGA-5M-AAT6-01 -1.340186  8.269918 -5.668797  0.460622 -1.587117 -1.06467   \n",
       "\n",
       "                 SERPINH1      NFIX      SELP  ADAMTS19  \n",
       "sampleID                                                 \n",
       "TCGA-3L-AA1B-01 -0.262197  3.141164 -3.250033 -0.199484  \n",
       "TCGA-4N-A93T-01 -0.406497  3.286964 -7.381133 -3.482084  \n",
       "TCGA-4T-AA8H-01 -1.116797  2.812764 -6.648433 -5.035584  \n",
       "TCGA-5M-AAT4-01 -0.230397  3.358264 -5.788033 -3.379584  \n",
       "TCGA-5M-AAT6-01  1.261403  2.274064 -1.230233 -1.284084  \n",
       "\n",
       "[5 rows x 17342 columns]"
      ]
     },
     "execution_count": 15,
     "metadata": {},
     "output_type": "execute_result"
    }
   ],
   "source": [
    "merged_data = selected_clinical_data.join(genetic_data.T).dropna()\n",
    "merged_data.head()"
   ]
  },
  {
   "cell_type": "code",
   "execution_count": 16,
   "metadata": {
    "collapsed": false
   },
   "outputs": [
    {
     "name": "stdout",
     "output_type": "stream",
     "text": [
      "The merged dataset contains 430 samples.\n"
     ]
    }
   ],
   "source": [
    "print(f\"The merged dataset contains {len(merged_data)} samples.\")"
   ]
  },
  {
   "cell_type": "code",
   "execution_count": 17,
   "metadata": {
    "collapsed": false
   },
   "outputs": [
    {
     "name": "stdout",
     "output_type": "stream",
     "text": [
      "For the feature 'Colon and Rectal Cancer', the least common label is '0' with 51 occurrences. This represents 11.86% of the dataset.\n",
      "The distribution of the feature 'Colon and Rectal Cancer' in this dataset is fine.\n",
      "\n",
      "Quartiles for 'Age':\n",
      "  25%: 56.0\n",
      "  50% (Median): 67.0\n",
      "  75%: 75.0\n",
      "Min: 31.0\n",
      "Max: 90.0\n",
      "The distribution of the feature 'Age' in this dataset is fine.\n",
      "\n",
      "For the feature 'Gender', the least common label is '0.0' with 199 occurrences. This represents 46.28% of the dataset.\n",
      "The distribution of the feature 'Gender' in this dataset is fine.\n",
      "\n"
     ]
    },
    {
     "data": {
      "text/plain": [
       "False"
      ]
     },
     "execution_count": 17,
     "metadata": {},
     "output_type": "execute_result"
    }
   ],
   "source": [
    "is_trait_biased, merge_data = judge_and_remove_biased_features(merged_data, TRAIT, trait_type=trait_type)\n",
    "is_trait_biased"
   ]
  },
  {
   "cell_type": "code",
   "execution_count": 18,
   "metadata": {
    "collapsed": false
   },
   "outputs": [],
   "source": [
    "merged_data.head()\n",
    "if not is_trait_biased:\n",
    "    merge_data.to_csv(os.path.join(OUTPUT_DIR, cohort+'.csv'), index=False)"
   ]
  },
  {
   "cell_type": "code",
   "execution_count": 19,
   "metadata": {
    "collapsed": false
   },
   "outputs": [
    {
     "name": "stdout",
     "output_type": "stream",
     "text": [
      "A new JSON file was created at: C:/Users/arthu/OneDrive/Documents/GitHub/output1\\Arthur\\Colon-and-Rectal-Cancer\\cohort_info.json\n"
     ]
    }
   ],
   "source": [
    "save_cohort_info(cohort, JSON_PATH, is_available, is_trait_biased, merged_data)"
   ]
  },
  {
   "cell_type": "markdown",
   "metadata": {
    "ExecuteTime": {
     "end_time": "2023-12-28T21:28:38.028916303Z",
     "start_time": "2023-12-28T21:28:38.016245426Z"
    },
    "collapsed": false
   },
   "source": [
    "## 2.2. The GEO dataset"
   ]
  },
  {
   "cell_type": "markdown",
   "metadata": {
    "ExecuteTime": {
     "end_time": "2023-12-31T03:25:23.253882615Z",
     "start_time": "2023-12-31T03:25:23.244062710Z"
    },
    "collapsed": false
   },
   "source": [
    "In GEO, there may be one or multiple cohorts for a trait. Each cohort is identified by an accession number. We iterate over all accession numbers in the corresponding subdirectory, preprocess the cohort data, and save them to csv files."
   ]
  },
  {
   "cell_type": "code",
   "execution_count": 19,
   "metadata": {
    "ExecuteTime": {
     "end_time": "2024-01-02T01:02:59.503572381Z",
     "start_time": "2024-01-02T01:02:59.491400342Z"
    },
    "collapsed": false
   },
   "outputs": [
    {
     "data": {
      "text/plain": [
       "['GSE103512',\n",
       " 'GSE108166',\n",
       " 'GSE10982',\n",
       " 'GSE110785',\n",
       " 'GSE115513',\n",
       " 'GSE12225',\n",
       " 'GSE15781',\n",
       " 'GSE25229',\n",
       " 'GSE39958',\n",
       " 'GSE46517',\n",
       " 'GSE46862',\n",
       " 'GSE56699']"
      ]
     },
     "execution_count": 19,
     "metadata": {},
     "output_type": "execute_result"
    }
   ],
   "source": [
    "dataset = 'GEO'\n",
    "trait_subdir = \"Colon-and-Rectal-Cancer\"\n",
    "\n",
    "trait_path = os.path.join(DATA_ROOT, dataset, trait_subdir)\n",
    "os.listdir(trait_path)"
   ]
  },
  {
   "cell_type": "markdown",
   "metadata": {
    "ExecuteTime": {
     "end_time": "2023-12-31T03:39:42.634870142Z",
     "start_time": "2023-12-31T03:39:42.534093295Z"
    },
    "collapsed": false
   },
   "source": [
    "Repeat the below steps for all the accession numbers"
   ]
  },
  {
   "cell_type": "code",
   "execution_count": 20,
   "metadata": {
    "ExecuteTime": {
     "end_time": "2024-01-02T01:03:00.287218362Z",
     "start_time": "2024-01-02T01:03:00.278758251Z"
    },
    "collapsed": false
   },
   "outputs": [
    {
     "data": {
      "text/plain": [
       "('C:/Users/arthu/Downloads\\\\GEO\\\\Colon-and-Rectal-Cancer\\\\GSE103512\\\\GSE103512_family.soft.gz',\n",
       " 'C:/Users/arthu/Downloads\\\\GEO\\\\Colon-and-Rectal-Cancer\\\\GSE103512\\\\GSE103512_series_matrix.txt.gz')"
      ]
     },
     "execution_count": 20,
     "metadata": {},
     "output_type": "execute_result"
    }
   ],
   "source": [
    "cohort = accession_num = \"GSE103512\"\n",
    "cohort_dir = os.path.join(trait_path, accession_num)\n",
    "soft_file, matrix_file = geo_get_relevant_filepaths(cohort_dir)\n",
    "soft_file, matrix_file"
   ]
  },
  {
   "cell_type": "markdown",
   "metadata": {
    "collapsed": false
   },
   "source": [
    "### Inital filtering and clinical data preprocessing"
   ]
  },
  {
   "cell_type": "code",
   "execution_count": 21,
   "metadata": {
    "ExecuteTime": {
     "end_time": "2024-01-02T01:03:01.634861460Z",
     "start_time": "2024-01-02T01:03:01.076370517Z"
    },
    "collapsed": false
   },
   "outputs": [
    {
     "name": "stdout",
     "output_type": "stream",
     "text": [
      "!Series_title\t\"Gene expression profiles of breast, colorectal, prostate, and non-small cell lung cancer\"\n",
      "!Series_summary\t\"Gene expression profiles from 280 formalin-fixed and paraffin embedded normal and tumor samples of four cancer types\"\n",
      "!Series_overall_design\t\"65 breast cancer with 10 matched normal; 57 colorectal cancer with 12 matched normal; 60 non-small cell lung cancer with 9 matched normal; 60 prostate cancer with 7 matched normal\"\n"
     ]
    }
   ],
   "source": [
    "background_prefixes = ['!Series_title', '!Series_summary', '!Series_overall_design']\n",
    "clinical_prefixes = ['!Sample_geo_accession', '!Sample_characteristics_ch1']\n",
    "\n",
    "background_info, clinical_data = get_background_and_clinical_data(matrix_file, background_prefixes, clinical_prefixes)\n",
    "print(background_info)"
   ]
  },
  {
   "cell_type": "code",
   "execution_count": 22,
   "metadata": {
    "ExecuteTime": {
     "end_time": "2024-01-02T01:03:01.642310454Z",
     "start_time": "2024-01-02T01:03:01.635048940Z"
    },
    "collapsed": false
   },
   "outputs": [
    {
     "data": {
      "text/html": [
       "<div>\n",
       "<style scoped>\n",
       "    .dataframe tbody tr th:only-of-type {\n",
       "        vertical-align: middle;\n",
       "    }\n",
       "\n",
       "    .dataframe tbody tr th {\n",
       "        vertical-align: top;\n",
       "    }\n",
       "\n",
       "    .dataframe thead th {\n",
       "        text-align: right;\n",
       "    }\n",
       "</style>\n",
       "<table border=\"1\" class=\"dataframe\">\n",
       "  <thead>\n",
       "    <tr style=\"text-align: right;\">\n",
       "      <th></th>\n",
       "      <th>!Sample_geo_accession</th>\n",
       "      <th>GSM2772660</th>\n",
       "      <th>GSM2772661</th>\n",
       "      <th>GSM2772662</th>\n",
       "      <th>GSM2772663</th>\n",
       "      <th>GSM2772664</th>\n",
       "      <th>GSM2772665</th>\n",
       "      <th>GSM2772666</th>\n",
       "      <th>GSM2772667</th>\n",
       "      <th>GSM2772668</th>\n",
       "      <th>...</th>\n",
       "      <th>GSM2772930</th>\n",
       "      <th>GSM2772931</th>\n",
       "      <th>GSM2772932</th>\n",
       "      <th>GSM2772933</th>\n",
       "      <th>GSM2772934</th>\n",
       "      <th>GSM2772935</th>\n",
       "      <th>GSM2772936</th>\n",
       "      <th>GSM2772937</th>\n",
       "      <th>GSM2772938</th>\n",
       "      <th>GSM2772939</th>\n",
       "    </tr>\n",
       "  </thead>\n",
       "  <tbody>\n",
       "    <tr>\n",
       "      <th>0</th>\n",
       "      <td>!Sample_characteristics_ch1</td>\n",
       "      <td>cancer type: BC</td>\n",
       "      <td>cancer type: BC</td>\n",
       "      <td>cancer type: BC</td>\n",
       "      <td>cancer type: BC</td>\n",
       "      <td>cancer type: BC</td>\n",
       "      <td>cancer type: BC</td>\n",
       "      <td>cancer type: BC</td>\n",
       "      <td>cancer type: BC</td>\n",
       "      <td>cancer type: BC</td>\n",
       "      <td>...</td>\n",
       "      <td>cancer type: PCA</td>\n",
       "      <td>cancer type: PCA</td>\n",
       "      <td>cancer type: PCA</td>\n",
       "      <td>cancer type: PCA</td>\n",
       "      <td>cancer type: PCA</td>\n",
       "      <td>cancer type: PCA</td>\n",
       "      <td>cancer type: PCA</td>\n",
       "      <td>cancer type: PCA</td>\n",
       "      <td>cancer type: PCA</td>\n",
       "      <td>cancer type: PCA</td>\n",
       "    </tr>\n",
       "    <tr>\n",
       "      <th>1</th>\n",
       "      <td>!Sample_characteristics_ch1</td>\n",
       "      <td>normal: no</td>\n",
       "      <td>normal: no</td>\n",
       "      <td>normal: no</td>\n",
       "      <td>normal: no</td>\n",
       "      <td>normal: no</td>\n",
       "      <td>normal: no</td>\n",
       "      <td>normal: no</td>\n",
       "      <td>normal: no</td>\n",
       "      <td>normal: no</td>\n",
       "      <td>...</td>\n",
       "      <td>normal: no</td>\n",
       "      <td>normal: no</td>\n",
       "      <td>normal: no</td>\n",
       "      <td>normal: yes</td>\n",
       "      <td>normal: yes</td>\n",
       "      <td>normal: yes</td>\n",
       "      <td>normal: yes</td>\n",
       "      <td>normal: yes</td>\n",
       "      <td>normal: yes</td>\n",
       "      <td>normal: yes</td>\n",
       "    </tr>\n",
       "    <tr>\n",
       "      <th>2</th>\n",
       "      <td>!Sample_characteristics_ch1</td>\n",
       "      <td>batch i/ii: I</td>\n",
       "      <td>batch i/ii: I</td>\n",
       "      <td>batch i/ii: I</td>\n",
       "      <td>batch i/ii: I</td>\n",
       "      <td>batch i/ii: I</td>\n",
       "      <td>batch i/ii: I</td>\n",
       "      <td>batch i/ii: I</td>\n",
       "      <td>batch i/ii: I</td>\n",
       "      <td>batch i/ii: I</td>\n",
       "      <td>...</td>\n",
       "      <td>histology: na</td>\n",
       "      <td>histology: na</td>\n",
       "      <td>histology: na</td>\n",
       "      <td>batch i/ii: II</td>\n",
       "      <td>batch i/ii: II</td>\n",
       "      <td>batch i/ii: II</td>\n",
       "      <td>batch i/ii: II</td>\n",
       "      <td>batch i/ii: II</td>\n",
       "      <td>batch i/ii: II</td>\n",
       "      <td>batch i/ii: II</td>\n",
       "    </tr>\n",
       "    <tr>\n",
       "      <th>3</th>\n",
       "      <td>!Sample_characteristics_ch1</td>\n",
       "      <td>histology: na</td>\n",
       "      <td>histology: na</td>\n",
       "      <td>histology: na</td>\n",
       "      <td>histology: na</td>\n",
       "      <td>histology: na</td>\n",
       "      <td>histology: na</td>\n",
       "      <td>histology: na</td>\n",
       "      <td>histology: na</td>\n",
       "      <td>histology: na</td>\n",
       "      <td>...</td>\n",
       "      <td>age: na</td>\n",
       "      <td>age: na</td>\n",
       "      <td>age: na</td>\n",
       "      <td>histology: na</td>\n",
       "      <td>histology: na</td>\n",
       "      <td>histology: na</td>\n",
       "      <td>histology: na</td>\n",
       "      <td>histology: na</td>\n",
       "      <td>histology: na</td>\n",
       "      <td>histology: na</td>\n",
       "    </tr>\n",
       "    <tr>\n",
       "      <th>4</th>\n",
       "      <td>!Sample_characteristics_ch1</td>\n",
       "      <td>age: na</td>\n",
       "      <td>age: na</td>\n",
       "      <td>age: na</td>\n",
       "      <td>age: na</td>\n",
       "      <td>age: na</td>\n",
       "      <td>age: na</td>\n",
       "      <td>age: na</td>\n",
       "      <td>age: na</td>\n",
       "      <td>age: na</td>\n",
       "      <td>...</td>\n",
       "      <td>gender: na</td>\n",
       "      <td>gender: na</td>\n",
       "      <td>gender: na</td>\n",
       "      <td>age: na</td>\n",
       "      <td>age: na</td>\n",
       "      <td>age: na</td>\n",
       "      <td>age: na</td>\n",
       "      <td>age: na</td>\n",
       "      <td>age: na</td>\n",
       "      <td>age: na</td>\n",
       "    </tr>\n",
       "  </tbody>\n",
       "</table>\n",
       "<p>5 rows × 281 columns</p>\n",
       "</div>"
      ],
      "text/plain": [
       "         !Sample_geo_accession       GSM2772660       GSM2772661  \\\n",
       "0  !Sample_characteristics_ch1  cancer type: BC  cancer type: BC   \n",
       "1  !Sample_characteristics_ch1       normal: no       normal: no   \n",
       "2  !Sample_characteristics_ch1    batch i/ii: I    batch i/ii: I   \n",
       "3  !Sample_characteristics_ch1    histology: na    histology: na   \n",
       "4  !Sample_characteristics_ch1          age: na          age: na   \n",
       "\n",
       "        GSM2772662       GSM2772663       GSM2772664       GSM2772665  \\\n",
       "0  cancer type: BC  cancer type: BC  cancer type: BC  cancer type: BC   \n",
       "1       normal: no       normal: no       normal: no       normal: no   \n",
       "2    batch i/ii: I    batch i/ii: I    batch i/ii: I    batch i/ii: I   \n",
       "3    histology: na    histology: na    histology: na    histology: na   \n",
       "4          age: na          age: na          age: na          age: na   \n",
       "\n",
       "        GSM2772666       GSM2772667       GSM2772668  ...        GSM2772930  \\\n",
       "0  cancer type: BC  cancer type: BC  cancer type: BC  ...  cancer type: PCA   \n",
       "1       normal: no       normal: no       normal: no  ...        normal: no   \n",
       "2    batch i/ii: I    batch i/ii: I    batch i/ii: I  ...     histology: na   \n",
       "3    histology: na    histology: na    histology: na  ...           age: na   \n",
       "4          age: na          age: na          age: na  ...        gender: na   \n",
       "\n",
       "         GSM2772931        GSM2772932        GSM2772933        GSM2772934  \\\n",
       "0  cancer type: PCA  cancer type: PCA  cancer type: PCA  cancer type: PCA   \n",
       "1        normal: no        normal: no       normal: yes       normal: yes   \n",
       "2     histology: na     histology: na    batch i/ii: II    batch i/ii: II   \n",
       "3           age: na           age: na     histology: na     histology: na   \n",
       "4        gender: na        gender: na           age: na           age: na   \n",
       "\n",
       "         GSM2772935        GSM2772936        GSM2772937        GSM2772938  \\\n",
       "0  cancer type: PCA  cancer type: PCA  cancer type: PCA  cancer type: PCA   \n",
       "1       normal: yes       normal: yes       normal: yes       normal: yes   \n",
       "2    batch i/ii: II    batch i/ii: II    batch i/ii: II    batch i/ii: II   \n",
       "3     histology: na     histology: na     histology: na     histology: na   \n",
       "4           age: na           age: na           age: na           age: na   \n",
       "\n",
       "         GSM2772939  \n",
       "0  cancer type: PCA  \n",
       "1       normal: yes  \n",
       "2    batch i/ii: II  \n",
       "3     histology: na  \n",
       "4           age: na  \n",
       "\n",
       "[5 rows x 281 columns]"
      ]
     },
     "execution_count": 22,
     "metadata": {},
     "output_type": "execute_result"
    }
   ],
   "source": [
    "clinical_data.head()"
   ]
  },
  {
   "cell_type": "code",
   "execution_count": 23,
   "metadata": {
    "ExecuteTime": {
     "end_time": "2024-01-02T01:03:01.805026160Z",
     "start_time": "2024-01-02T01:03:01.804428154Z"
    },
    "collapsed": false
   },
   "outputs": [
    {
     "data": {
      "text/plain": [
       "{0: ['cancer type: BC',\n",
       "  'cancer type: CRC',\n",
       "  'cancer type: NSCLC',\n",
       "  'cancer type: PCA'],\n",
       " 1: ['normal: no', 'normal: yes'],\n",
       " 2: ['batch i/ii: I',\n",
       "  'histology: ductal carcinoma',\n",
       "  'histology: na',\n",
       "  'batch i/ii: II',\n",
       "  'histology: adenocarcinoma with acinar type',\n",
       "  'histology: adenocarcinoma'],\n",
       " 3: ['histology: na',\n",
       "  'histology: ductal carcinoma',\n",
       "  'histology: lobular carcinoma',\n",
       "  'age: 63',\n",
       "  'histology: carcinoma',\n",
       "  'histology: mucinous adenocarcinoma',\n",
       "  'age: na',\n",
       "  'age: 38',\n",
       "  'histology: adenocarcinoma',\n",
       "  'histology: partially mucinous adenocarcinoma',\n",
       "  'histology: squamous cell carcinoma',\n",
       "  'histology: adenocarcinoma with mixed subtypes',\n",
       "  'age: 64',\n",
       "  'age: 58',\n",
       "  'age: 62',\n",
       "  'age: 71',\n",
       "  'age: 73',\n",
       "  'age: 49',\n",
       "  'age: 55',\n",
       "  'age: 50',\n",
       "  'age: 59',\n",
       "  'age: 56',\n",
       "  'age: 65',\n",
       "  'age: 66',\n",
       "  'age: 52',\n",
       "  'age: 67',\n",
       "  'age: 70',\n",
       "  'age: 76',\n",
       "  'age: 53',\n",
       "  'age: 68'],\n",
       " 4: ['age: na',\n",
       "  'age: 79',\n",
       "  'age: 82',\n",
       "  'age: 58',\n",
       "  'age: 66',\n",
       "  'age: 46',\n",
       "  'age: 63',\n",
       "  'gender: f',\n",
       "  'age: 69',\n",
       "  'age: 54',\n",
       "  'age: 73',\n",
       "  'age: 57',\n",
       "  'age: 59',\n",
       "  'age: 70',\n",
       "  'age: 74',\n",
       "  'age: 45',\n",
       "  'age: 68',\n",
       "  'age: 75',\n",
       "  'age: 71',\n",
       "  'age: 86',\n",
       "  'age: 85',\n",
       "  'age: 81',\n",
       "  'age: 84',\n",
       "  'age: 80',\n",
       "  'age: 60',\n",
       "  'age: 72',\n",
       "  'age: 67',\n",
       "  'age: 52',\n",
       "  'age: 38',\n",
       "  'age: 56'],\n",
       " 5: ['gender: na',\n",
       "  'gender: f',\n",
       "  'weight: 52',\n",
       "  'weight: na',\n",
       "  'weight: 62',\n",
       "  'gender: m',\n",
       "  'weight: 110',\n",
       "  'weight: 87',\n",
       "  'weight: 105',\n",
       "  'weight: 77',\n",
       "  'weight: 94',\n",
       "  'weight: 74',\n",
       "  'weight: 86',\n",
       "  'weight: 85',\n",
       "  'weight: 98',\n",
       "  'weight: 91',\n",
       "  'weight: 103',\n",
       "  'weight: 81',\n",
       "  'weight: 83',\n",
       "  'weight: 104',\n",
       "  'weight: 64',\n",
       "  'weight: 93',\n",
       "  'weight: 82',\n",
       "  'weight: 73',\n",
       "  'weight: 95',\n",
       "  'weight: 90',\n",
       "  'weight: 78',\n",
       "  'weight: 70',\n",
       "  'weight: 72',\n",
       "  'weight: 80'],\n",
       " 6: ['weight: na',\n",
       "  'weight: 68',\n",
       "  'weight: 72',\n",
       "  'weight: 74',\n",
       "  'weight: 60',\n",
       "  'weight: 91',\n",
       "  'weight: 52',\n",
       "  'bodyheight: 159',\n",
       "  'weight: 65',\n",
       "  'weight: 82',\n",
       "  'weight: 88',\n",
       "  'weight: 70',\n",
       "  'weight: 75',\n",
       "  'weight: 79',\n",
       "  'weight: 73',\n",
       "  'weight: 62',\n",
       "  'weight: 59',\n",
       "  'weight: 57',\n",
       "  'weight: 80',\n",
       "  'weight: 67',\n",
       "  'weight: 76',\n",
       "  'weight: 87',\n",
       "  'weight: 64',\n",
       "  'weight: 100',\n",
       "  'weight: 71',\n",
       "  'weight: 53',\n",
       "  'weight: 78',\n",
       "  'weight: 84',\n",
       "  'weight: 61',\n",
       "  'bodyheight: na'],\n",
       " 7: ['bodyheight: na',\n",
       "  'bodyheight: 163',\n",
       "  'bodyheight: 171',\n",
       "  'bodyheight: 168',\n",
       "  'bodyheight: 162',\n",
       "  'bodyheight: 160',\n",
       "  'bodyheight: 182',\n",
       "  'bodyheight: 159',\n",
       "  'bmi: 20',\n",
       "  'bodyheight: 172',\n",
       "  'bodyheight: 170',\n",
       "  'bodyheight: 156',\n",
       "  'bodyheight: 165',\n",
       "  'bodyheight: 152',\n",
       "  'bodyheight: 167',\n",
       "  'bodyheight: 179',\n",
       "  'bodyheight: 176',\n",
       "  'bodyheight: 164',\n",
       "  'bodyheight: 158',\n",
       "  'bodyheight: 173',\n",
       "  'bodyheight: 0',\n",
       "  'bodyheight: 185',\n",
       "  'bodyheight: 175',\n",
       "  'bodyheight: 161',\n",
       "  'bmi: na',\n",
       "  'bmi: 23',\n",
       "  'bodyheight: 186',\n",
       "  'bodyheight: 157',\n",
       "  'bodyheight: 178',\n",
       "  'bodyheight: 169'],\n",
       " 8: ['bmi: na',\n",
       "  'bmi: 25',\n",
       "  'bmi: 24',\n",
       "  'bmi: 26',\n",
       "  'bmi: 22',\n",
       "  'bmi: 28',\n",
       "  'bmi: 27',\n",
       "  'bmi: 20',\n",
       "  'diseasecode: C50.1',\n",
       "  'bmi: 23',\n",
       "  'bmi: 31',\n",
       "  'bmi: 29',\n",
       "  'bmi: 21',\n",
       "  'bmi: 32',\n",
       "  'bmi: 30',\n",
       "  'bmi: 37',\n",
       "  'bmi: 0',\n",
       "  'bmi: 18',\n",
       "  'diseasecode: na',\n",
       "  'diseasecode: C50.4',\n",
       "  'bmi: 19',\n",
       "  'bmi: 16',\n",
       "  'bmi: 38',\n",
       "  'bmi: 35',\n",
       "  'bmi: 34',\n",
       "  'diseasecode: C61'],\n",
       " 9: ['diseasecode: na',\n",
       "  'diseasecode: C50.8',\n",
       "  'diseasecode: C50.4',\n",
       "  'diseasecode: C50.1',\n",
       "  'diseasecode: C50.5',\n",
       "  'diseasecode: C50.2',\n",
       "  'diseasedescription: malignant neoplasm of central portion of breast',\n",
       "  'diseasecode: C50.3',\n",
       "  'diseasecode: C50.9',\n",
       "  'diseasedescription: na',\n",
       "  'diseasedescription: malignant neoplasm of upper-outer quadrant of breast',\n",
       "  'diseasecode: C20',\n",
       "  'diseasecode: C18.2',\n",
       "  'diseasecode: C18.7',\n",
       "  'diseasecode: C18.0',\n",
       "  'diseasecode: C18.6',\n",
       "  'diseasecode: C18.4',\n",
       "  'diseasecode: C18.5',\n",
       "  'diseasecode: C18.3',\n",
       "  'diseasecode: C34.8',\n",
       "  'diseasecode: C34.3',\n",
       "  'diseasecode: C34.1',\n",
       "  'diseasecode: C34.2',\n",
       "  'diseasedescription: malignant neoplasm of prostate'],\n",
       " 10: ['diseasedescription: na',\n",
       "  'diseasedescription: malignant neoplasm of overlapping lesion of breast',\n",
       "  'diseasedescription: malignant neoplasm of upper-outer quadrant of breast',\n",
       "  'diseasedescription: malignant neoplasm of central portion of breast',\n",
       "  'diseasedescription: malignant neoplasm of lower-outer quadrant of breast',\n",
       "  'diseasedescription: malignant neoplasm of upper-inner quadrant of breast',\n",
       "  'primary / relapse tumor: primary tumor',\n",
       "  'diseasedescription: malignant neoplasm of lower-inner quadrant of breast',\n",
       "  'diseasedescription: malignant neoplasm of breast, unspecified',\n",
       "  'primary / relapse tumor: na',\n",
       "  'diseasedescription: malignant neoplasm of rectum',\n",
       "  'diseasedescription: malignant neoplasm of ascending colon',\n",
       "  'diseasedescription: malignant neoplasm of sigmoid colon',\n",
       "  'diseasedescription: malignant neoplasm of caecum',\n",
       "  'diseasedescription: malignant neoplasm of descending colon',\n",
       "  'diseasedescription: malignant neoplasm of transverse colon',\n",
       "  'diseasedescription: malignant neoplasm of splenic flexure of colon',\n",
       "  'diseasedescription: malignant neoplasm of hepatic flexure of colon',\n",
       "  'diseasedescription: malignant neoplasm of overlapping lesion of lung',\n",
       "  'diseasedescription: malignant neoplasm of lower lobe of lung',\n",
       "  'diseasedescription: malignant neoplasm of upper lobe of lung',\n",
       "  'diseasedescription: malignant neoplasm of middle lobe of lung'],\n",
       " 11: ['primary / relapse tumor: na',\n",
       "  'primary / relapse tumor: primary tumor',\n",
       "  'tumorsize: 1.5',\n",
       "  'tumorsize: na',\n",
       "  'tumorsize: 1.7',\n",
       "  'tumorsize: 2',\n",
       "  'tumorsize: 2.4',\n",
       "  'tumorsize: 1.3',\n",
       "  'tumorsize: 2.5',\n",
       "  'tumorsize: 1.4',\n",
       "  'tumorsize: 0',\n",
       "  'tumorsize: 2.1',\n",
       "  'tumorsize: 1.6',\n",
       "  'tumorsize: 1.9',\n",
       "  'tumorsize: 1.8',\n",
       "  'tumorsize: 2.2',\n",
       "  'tumorsize: 1.1',\n",
       "  'tumorsize: 2.3',\n",
       "  'tumorsize: 1.2',\n",
       "  'tumorsize: 1',\n",
       "  'tumorsize: 2.8',\n",
       "  'tumorsize: 3.6',\n",
       "  'tumorsize: 0.8',\n",
       "  'tumorsize: 0.3',\n",
       "  'tumorsize: 4.5',\n",
       "  'tumorsize: 3.2',\n",
       "  'tumorsize: 3'],\n",
       " 12: ['tumorsize: na',\n",
       "  'tumorsize: 2.2',\n",
       "  'tumorsize: 3.8',\n",
       "  'tumorsize: 2.5',\n",
       "  'tumorsize: 5.5',\n",
       "  'tumorsize: 3.3',\n",
       "  'tumorsize: 1.5',\n",
       "  'ischemiatime: 14',\n",
       "  'tumorsize: 3',\n",
       "  'tumorsize: 4.5',\n",
       "  'tumorsize: 2.8',\n",
       "  'tumorsize: 3.5',\n",
       "  'tumorsize: 2',\n",
       "  'tumorsize: 5.1',\n",
       "  'tumorsize: 1.9',\n",
       "  'tumorsize: 1.2',\n",
       "  'tumorsize: 2.7',\n",
       "  'tumorsize: 1.6',\n",
       "  'tumorsize: 2.4',\n",
       "  'tumorsize: 1.3',\n",
       "  'tumorsize: 2.1',\n",
       "  'tumorsize: 1.1',\n",
       "  'tumorsize: 1.7',\n",
       "  'tumorsize: 6',\n",
       "  'tumorsize: 5',\n",
       "  'tumorsize: 3.9',\n",
       "  'tumorsize: 3.2',\n",
       "  'tumorsize: 8.5',\n",
       "  'ischemiatime: na',\n",
       "  'ischemiatime: 2'],\n",
       " 13: ['ischemiatime: na',\n",
       "  'ischemiatime: 15',\n",
       "  'ischemiatime: 16',\n",
       "  'ischemiatime: 13',\n",
       "  'ischemiatime: 12',\n",
       "  'ischemiatime: 14',\n",
       "  'tumorcontent: 0.4',\n",
       "  'ischemiatime: 2',\n",
       "  'ischemiatime: 3',\n",
       "  'ischemiatime: 6',\n",
       "  'ischemiatime: 8',\n",
       "  'ischemiatime: 7',\n",
       "  'ischemiatime: 5',\n",
       "  'ischemiatime: 11',\n",
       "  'ischemiatime: 4',\n",
       "  'ischemiatime: 9',\n",
       "  'ischemiatime: 10',\n",
       "  'tumorcontent: na',\n",
       "  'tumorcontent: 0.7',\n",
       "  'ischemiatime: 19',\n",
       "  'ischemiatime: 1',\n",
       "  'tumorcontent: 0.3',\n",
       "  'tumorcontent: 0.6',\n",
       "  'tumorcontent: 0.5',\n",
       "  'tumorcontent: 0.9'],\n",
       " 14: ['tumorcontent: na',\n",
       "  'tumorcontent: 0.45',\n",
       "  'tumorcontent: 0.4',\n",
       "  'tumorcontent: 0.35',\n",
       "  'tumorcontent: 0.5',\n",
       "  'tumorcontent: 0.7',\n",
       "  'tumorcontent: 0.25',\n",
       "  'organ: breast right',\n",
       "  'tumorcontent: 0.3',\n",
       "  'tumorcontent: 0.75',\n",
       "  'tumorcontent: 0.8',\n",
       "  'tumorcontent: 0.6',\n",
       "  'tumorcontent: 0.65',\n",
       "  'tumorcontent: 0.55',\n",
       "  'organ: na',\n",
       "  'organ: breast left',\n",
       "  'tumorcontent: 0.85',\n",
       "  'tumorcontent: 0.9',\n",
       "  'organ: prostate'],\n",
       " 15: ['organ: na',\n",
       "  'organ: breast left',\n",
       "  'organ: breast right',\n",
       "  'tumorlocalization: central portion',\n",
       "  'tumorlocalization: na',\n",
       "  'tumorlocalization: upper-outer quadrant',\n",
       "  'organ: colon',\n",
       "  'organ: lung',\n",
       "  'tumorlocalization: prostate several partitions overlapping',\n",
       "  'tumorlocalization: prostate apex',\n",
       "  'tumorlocalization: prostate left',\n",
       "  'tumorlocalization: prostate right',\n",
       "  'tumorlocalization: prostate base'],\n",
       " 16: ['tumorlocalization: na',\n",
       "  'tumorlocalization: several partitions overlapping',\n",
       "  'tumorlocalization: upper-outer quadrant',\n",
       "  'tumorlocalization: central portion',\n",
       "  'tumorlocalization: lower-outer quadrant',\n",
       "  'tumorlocalization: upper-inner quadrant',\n",
       "  'Stage: I',\n",
       "  'tumorlocalization: lower-inner quadrant',\n",
       "  'tumorlocalization: breast right',\n",
       "  'Stage: na',\n",
       "  'tumorlocalization: rectum',\n",
       "  'tumorlocalization: ascending colon',\n",
       "  'tumorlocalization: sigmoid colon',\n",
       "  'tumorlocalization: ileocaecal',\n",
       "  'tumorlocalization: descending colon',\n",
       "  'tumorlocalization: transverse colon',\n",
       "  'tumorlocalization: left flexure',\n",
       "  'tumorlocalization: right flexure',\n",
       "  'tumorlocalization: inferior pulmonary lobe left S VI',\n",
       "  'tumorlocalization: inferior pulmonary lobe right S VIII',\n",
       "  'tumorlocalization: superior pulmonary lobe left S I + II',\n",
       "  'tumorlocalization: superior pulmonary lobe right S I',\n",
       "  'tumorlocalization: superior pulmonary lobe left S III',\n",
       "  'tumorlocalization: upper pulmonary lobe left',\n",
       "  'tumorlocalization: lower pulmonary lobe left',\n",
       "  'tumorlocalization: upper pulmonary lobe right',\n",
       "  'tumorlocalization: lower pulmonary lobe right',\n",
       "  'tumorlocalization: inferior pulmonary lobe right S X',\n",
       "  'tumorlocalization: superior pulmonary lobe right S II',\n",
       "  'tumorlocalization: middle pulmonary lobe right'],\n",
       " 17: ['Stage: na',\n",
       "  'Stage: IIA',\n",
       "  'Stage: IV',\n",
       "  'Stage: IIB',\n",
       "  'Stage: III B',\n",
       "  'Stage: I',\n",
       "  'radicality: R0',\n",
       "  'Stage: n/a',\n",
       "  'Stage: III A',\n",
       "  'Stage: III C',\n",
       "  'radicality: na',\n",
       "  'Stage: II',\n",
       "  'Stage: IB',\n",
       "  'Stage: IA',\n",
       "  'radicality: R1'],\n",
       " 18: ['radicality: na',\n",
       "  'radicality: R0',\n",
       "  'grading: G2',\n",
       "  'radicality: R1',\n",
       "  'radicality: R2',\n",
       "  'radicality: n/a',\n",
       "  'grading: na',\n",
       "  'grading: G3',\n",
       "  'grading: n/a',\n",
       "  'grading: G1'],\n",
       " 19: ['grading: na',\n",
       "  'grading: G3',\n",
       "  'grading: G2',\n",
       "  'grading: G1',\n",
       "  'dignity: malign',\n",
       "  'dignity: na',\n",
       "  'grading: n/a',\n",
       "  'grading: G4'],\n",
       " 20: ['dignity: na', 'dignity: malign', nan]}"
      ]
     },
     "execution_count": 23,
     "metadata": {},
     "output_type": "execute_result"
    }
   ],
   "source": [
    "clinical_data_unique = get_unique_values_by_row(clinical_data)\n",
    "clinical_data_unique"
   ]
  },
  {
   "cell_type": "markdown",
   "metadata": {
    "ExecuteTime": {
     "end_time": "2023-12-31T03:58:04.978204446Z",
     "start_time": "2023-12-31T03:58:04.922270095Z"
    },
    "collapsed": false
   },
   "source": [
    "Analyze the metadata to determine data relevance and find ways to extract the clinical data.\n",
    "Reference prompt:"
   ]
  },
  {
   "cell_type": "code",
   "execution_count": 24,
   "metadata": {
    "ExecuteTime": {
     "end_time": "2024-01-02T01:03:02.369775044Z",
     "start_time": "2024-01-02T01:03:02.356501629Z"
    },
    "collapsed": false
   },
   "outputs": [
    {
     "data": {
      "text/plain": [
       "'As a biomedical research team, we are selecting datasets to study the association between the human trait \\'Colon and Rectal Cancer\\' and genetic factors, optionally considering the influence of age and gender. After searching the GEO database and parsing the matrix file of a series, we obtained background information and sample characteristics data. We will provide textual information about the dataset background, and a Python dictionary storing a list of unique values for each field of the sample characteristics data. Please carefully review the provided information and answer the following questions about this dataset:\\n1. Does this dataset contain gene expression data? (Note: Pure miRNA data is not suitable.)\\n2. For each of the traits \\'Colon and Rectal Cancer\\', \\'age\\', and \\'gender\\', please address these points:\\n   (1) Is there human data available for this trait?\\n   (2) If so, identify the key in the sample characteristics dictionary where unique values of this trait is recorded. The key is an integer. The trait information might be explicitly recorded, or can be inferred from the field with some biomedical knowledge or understanding about the data collection process.\\n   (3) Choose an appropriate data type (either \\'continuous\\' or \\'binary\\') for each trait. Write a Python function to convert any given value of the trait to this data type. The function should handle inference about the trait value and convert unknown values to None.\\n   Name the functions \\'convert_trait\\', \\'convert_age\\', and \\'convert_gender\\', respectively.\\n\\nBackground information about the dataset:\\n!Series_title\\t\"Gene expression profiles of breast, colorectal, prostate, and non-small cell lung cancer\"\\n!Series_summary\\t\"Gene expression profiles from 280 formalin-fixed and paraffin embedded normal and tumor samples of four cancer types\"\\n!Series_overall_design\\t\"65 breast cancer with 10 matched normal; 57 colorectal cancer with 12 matched normal; 60 non-small cell lung cancer with 9 matched normal; 60 prostate cancer with 7 matched normal\"\\n\\nSample characteristics dictionary (from \"!Sample_characteristics_ch1\", converted to a Python dictionary that stores the unique values for each field):\\n{0: [\\'cancer type: BC\\', \\'cancer type: CRC\\', \\'cancer type: NSCLC\\', \\'cancer type: PCA\\'], 1: [\\'normal: no\\', \\'normal: yes\\'], 2: [\\'batch i/ii: I\\', \\'histology: ductal carcinoma\\', \\'histology: na\\', \\'batch i/ii: II\\', \\'histology: adenocarcinoma with acinar type\\', \\'histology: adenocarcinoma\\'], 3: [\\'histology: na\\', \\'histology: ductal carcinoma\\', \\'histology: lobular carcinoma\\', \\'age: 63\\', \\'histology: carcinoma\\', \\'histology: mucinous adenocarcinoma\\', \\'age: na\\', \\'age: 38\\', \\'histology: adenocarcinoma\\', \\'histology: partially mucinous adenocarcinoma\\', \\'histology: squamous cell carcinoma\\', \\'histology: adenocarcinoma with mixed subtypes\\', \\'age: 64\\', \\'age: 58\\', \\'age: 62\\', \\'age: 71\\', \\'age: 73\\', \\'age: 49\\', \\'age: 55\\', \\'age: 50\\', \\'age: 59\\', \\'age: 56\\', \\'age: 65\\', \\'age: 66\\', \\'age: 52\\', \\'age: 67\\', \\'age: 70\\', \\'age: 76\\', \\'age: 53\\', \\'age: 68\\'], 4: [\\'age: na\\', \\'age: 79\\', \\'age: 82\\', \\'age: 58\\', \\'age: 66\\', \\'age: 46\\', \\'age: 63\\', \\'gender: f\\', \\'age: 69\\', \\'age: 54\\', \\'age: 73\\', \\'age: 57\\', \\'age: 59\\', \\'age: 70\\', \\'age: 74\\', \\'age: 45\\', \\'age: 68\\', \\'age: 75\\', \\'age: 71\\', \\'age: 86\\', \\'age: 85\\', \\'age: 81\\', \\'age: 84\\', \\'age: 80\\', \\'age: 60\\', \\'age: 72\\', \\'age: 67\\', \\'age: 52\\', \\'age: 38\\', \\'age: 56\\'], 5: [\\'gender: na\\', \\'gender: f\\', \\'weight: 52\\', \\'weight: na\\', \\'weight: 62\\', \\'gender: m\\', \\'weight: 110\\', \\'weight: 87\\', \\'weight: 105\\', \\'weight: 77\\', \\'weight: 94\\', \\'weight: 74\\', \\'weight: 86\\', \\'weight: 85\\', \\'weight: 98\\', \\'weight: 91\\', \\'weight: 103\\', \\'weight: 81\\', \\'weight: 83\\', \\'weight: 104\\', \\'weight: 64\\', \\'weight: 93\\', \\'weight: 82\\', \\'weight: 73\\', \\'weight: 95\\', \\'weight: 90\\', \\'weight: 78\\', \\'weight: 70\\', \\'weight: 72\\', \\'weight: 80\\'], 6: [\\'weight: na\\', \\'weight: 68\\', \\'weight: 72\\', \\'weight: 74\\', \\'weight: 60\\', \\'weight: 91\\', \\'weight: 52\\', \\'bodyheight: 159\\', \\'weight: 65\\', \\'weight: 82\\', \\'weight: 88\\', \\'weight: 70\\', \\'weight: 75\\', \\'weight: 79\\', \\'weight: 73\\', \\'weight: 62\\', \\'weight: 59\\', \\'weight: 57\\', \\'weight: 80\\', \\'weight: 67\\', \\'weight: 76\\', \\'weight: 87\\', \\'weight: 64\\', \\'weight: 100\\', \\'weight: 71\\', \\'weight: 53\\', \\'weight: 78\\', \\'weight: 84\\', \\'weight: 61\\', \\'bodyheight: na\\'], 7: [\\'bodyheight: na\\', \\'bodyheight: 163\\', \\'bodyheight: 171\\', \\'bodyheight: 168\\', \\'bodyheight: 162\\', \\'bodyheight: 160\\', \\'bodyheight: 182\\', \\'bodyheight: 159\\', \\'bmi: 20\\', \\'bodyheight: 172\\', \\'bodyheight: 170\\', \\'bodyheight: 156\\', \\'bodyheight: 165\\', \\'bodyheight: 152\\', \\'bodyheight: 167\\', \\'bodyheight: 179\\', \\'bodyheight: 176\\', \\'bodyheight: 164\\', \\'bodyheight: 158\\', \\'bodyheight: 173\\', \\'bodyheight: 0\\', \\'bodyheight: 185\\', \\'bodyheight: 175\\', \\'bodyheight: 161\\', \\'bmi: na\\', \\'bmi: 23\\', \\'bodyheight: 186\\', \\'bodyheight: 157\\', \\'bodyheight: 178\\', \\'bodyheight: 169\\'], 8: [\\'bmi: na\\', \\'bmi: 25\\', \\'bmi: 24\\', \\'bmi: 26\\', \\'bmi: 22\\', \\'bmi: 28\\', \\'bmi: 27\\', \\'bmi: 20\\', \\'diseasecode: C50.1\\', \\'bmi: 23\\', \\'bmi: 31\\', \\'bmi: 29\\', \\'bmi: 21\\', \\'bmi: 32\\', \\'bmi: 30\\', \\'bmi: 37\\', \\'bmi: 0\\', \\'bmi: 18\\', \\'diseasecode: na\\', \\'diseasecode: C50.4\\', \\'bmi: 19\\', \\'bmi: 16\\', \\'bmi: 38\\', \\'bmi: 35\\', \\'bmi: 34\\', \\'diseasecode: C61\\'], 9: [\\'diseasecode: na\\', \\'diseasecode: C50.8\\', \\'diseasecode: C50.4\\', \\'diseasecode: C50.1\\', \\'diseasecode: C50.5\\', \\'diseasecode: C50.2\\', \\'diseasedescription: malignant neoplasm of central portion of breast\\', \\'diseasecode: C50.3\\', \\'diseasecode: C50.9\\', \\'diseasedescription: na\\', \\'diseasedescription: malignant neoplasm of upper-outer quadrant of breast\\', \\'diseasecode: C20\\', \\'diseasecode: C18.2\\', \\'diseasecode: C18.7\\', \\'diseasecode: C18.0\\', \\'diseasecode: C18.6\\', \\'diseasecode: C18.4\\', \\'diseasecode: C18.5\\', \\'diseasecode: C18.3\\', \\'diseasecode: C34.8\\', \\'diseasecode: C34.3\\', \\'diseasecode: C34.1\\', \\'diseasecode: C34.2\\', \\'diseasedescription: malignant neoplasm of prostate\\'], 10: [\\'diseasedescription: na\\', \\'diseasedescription: malignant neoplasm of overlapping lesion of breast\\', \\'diseasedescription: malignant neoplasm of upper-outer quadrant of breast\\', \\'diseasedescription: malignant neoplasm of central portion of breast\\', \\'diseasedescription: malignant neoplasm of lower-outer quadrant of breast\\', \\'diseasedescription: malignant neoplasm of upper-inner quadrant of breast\\', \\'primary / relapse tumor: primary tumor\\', \\'diseasedescription: malignant neoplasm of lower-inner quadrant of breast\\', \\'diseasedescription: malignant neoplasm of breast, unspecified\\', \\'primary / relapse tumor: na\\', \\'diseasedescription: malignant neoplasm of rectum\\', \\'diseasedescription: malignant neoplasm of ascending colon\\', \\'diseasedescription: malignant neoplasm of sigmoid colon\\', \\'diseasedescription: malignant neoplasm of caecum\\', \\'diseasedescription: malignant neoplasm of descending colon\\', \\'diseasedescription: malignant neoplasm of transverse colon\\', \\'diseasedescription: malignant neoplasm of splenic flexure of colon\\', \\'diseasedescription: malignant neoplasm of hepatic flexure of colon\\', \\'diseasedescription: malignant neoplasm of overlapping lesion of lung\\', \\'diseasedescription: malignant neoplasm of lower lobe of lung\\', \\'diseasedescription: malignant neoplasm of upper lobe of lung\\', \\'diseasedescription: malignant neoplasm of middle lobe of lung\\'], 11: [\\'primary / relapse tumor: na\\', \\'primary / relapse tumor: primary tumor\\', \\'tumorsize: 1.5\\', \\'tumorsize: na\\', \\'tumorsize: 1.7\\', \\'tumorsize: 2\\', \\'tumorsize: 2.4\\', \\'tumorsize: 1.3\\', \\'tumorsize: 2.5\\', \\'tumorsize: 1.4\\', \\'tumorsize: 0\\', \\'tumorsize: 2.1\\', \\'tumorsize: 1.6\\', \\'tumorsize: 1.9\\', \\'tumorsize: 1.8\\', \\'tumorsize: 2.2\\', \\'tumorsize: 1.1\\', \\'tumorsize: 2.3\\', \\'tumorsize: 1.2\\', \\'tumorsize: 1\\', \\'tumorsize: 2.8\\', \\'tumorsize: 3.6\\', \\'tumorsize: 0.8\\', \\'tumorsize: 0.3\\', \\'tumorsize: 4.5\\', \\'tumorsize: 3.2\\', \\'tumorsize: 3\\'], 12: [\\'tumorsize: na\\', \\'tumorsize: 2.2\\', \\'tumorsize: 3.8\\', \\'tumorsize: 2.5\\', \\'tumorsize: 5.5\\', \\'tumorsize: 3.3\\', \\'tumorsize: 1.5\\', \\'ischemiatime: 14\\', \\'tumorsize: 3\\', \\'tumorsize: 4.5\\', \\'tumorsize: 2.8\\', \\'tumorsize: 3.5\\', \\'tumorsize: 2\\', \\'tumorsize: 5.1\\', \\'tumorsize: 1.9\\', \\'tumorsize: 1.2\\', \\'tumorsize: 2.7\\', \\'tumorsize: 1.6\\', \\'tumorsize: 2.4\\', \\'tumorsize: 1.3\\', \\'tumorsize: 2.1\\', \\'tumorsize: 1.1\\', \\'tumorsize: 1.7\\', \\'tumorsize: 6\\', \\'tumorsize: 5\\', \\'tumorsize: 3.9\\', \\'tumorsize: 3.2\\', \\'tumorsize: 8.5\\', \\'ischemiatime: na\\', \\'ischemiatime: 2\\'], 13: [\\'ischemiatime: na\\', \\'ischemiatime: 15\\', \\'ischemiatime: 16\\', \\'ischemiatime: 13\\', \\'ischemiatime: 12\\', \\'ischemiatime: 14\\', \\'tumorcontent: 0.4\\', \\'ischemiatime: 2\\', \\'ischemiatime: 3\\', \\'ischemiatime: 6\\', \\'ischemiatime: 8\\', \\'ischemiatime: 7\\', \\'ischemiatime: 5\\', \\'ischemiatime: 11\\', \\'ischemiatime: 4\\', \\'ischemiatime: 9\\', \\'ischemiatime: 10\\', \\'tumorcontent: na\\', \\'tumorcontent: 0.7\\', \\'ischemiatime: 19\\', \\'ischemiatime: 1\\', \\'tumorcontent: 0.3\\', \\'tumorcontent: 0.6\\', \\'tumorcontent: 0.5\\', \\'tumorcontent: 0.9\\'], 14: [\\'tumorcontent: na\\', \\'tumorcontent: 0.45\\', \\'tumorcontent: 0.4\\', \\'tumorcontent: 0.35\\', \\'tumorcontent: 0.5\\', \\'tumorcontent: 0.7\\', \\'tumorcontent: 0.25\\', \\'organ: breast right\\', \\'tumorcontent: 0.3\\', \\'tumorcontent: 0.75\\', \\'tumorcontent: 0.8\\', \\'tumorcontent: 0.6\\', \\'tumorcontent: 0.65\\', \\'tumorcontent: 0.55\\', \\'organ: na\\', \\'organ: breast left\\', \\'tumorcontent: 0.85\\', \\'tumorcontent: 0.9\\', \\'organ: prostate\\'], 15: [\\'organ: na\\', \\'organ: breast left\\', \\'organ: breast right\\', \\'tumorlocalization: central portion\\', \\'tumorlocalization: na\\', \\'tumorlocalization: upper-outer quadrant\\', \\'organ: colon\\', \\'organ: lung\\', \\'tumorlocalization: prostate several partitions overlapping\\', \\'tumorlocalization: prostate apex\\', \\'tumorlocalization: prostate left\\', \\'tumorlocalization: prostate right\\', \\'tumorlocalization: prostate base\\'], 16: [\\'tumorlocalization: na\\', \\'tumorlocalization: several partitions overlapping\\', \\'tumorlocalization: upper-outer quadrant\\', \\'tumorlocalization: central portion\\', \\'tumorlocalization: lower-outer quadrant\\', \\'tumorlocalization: upper-inner quadrant\\', \\'Stage: I\\', \\'tumorlocalization: lower-inner quadrant\\', \\'tumorlocalization: breast right\\', \\'Stage: na\\', \\'tumorlocalization: rectum\\', \\'tumorlocalization: ascending colon\\', \\'tumorlocalization: sigmoid colon\\', \\'tumorlocalization: ileocaecal\\', \\'tumorlocalization: descending colon\\', \\'tumorlocalization: transverse colon\\', \\'tumorlocalization: left flexure\\', \\'tumorlocalization: right flexure\\', \\'tumorlocalization: inferior pulmonary lobe left S VI\\', \\'tumorlocalization: inferior pulmonary lobe right S VIII\\', \\'tumorlocalization: superior pulmonary lobe left S I + II\\', \\'tumorlocalization: superior pulmonary lobe right S I\\', \\'tumorlocalization: superior pulmonary lobe left S III\\', \\'tumorlocalization: upper pulmonary lobe left\\', \\'tumorlocalization: lower pulmonary lobe left\\', \\'tumorlocalization: upper pulmonary lobe right\\', \\'tumorlocalization: lower pulmonary lobe right\\', \\'tumorlocalization: inferior pulmonary lobe right S X\\', \\'tumorlocalization: superior pulmonary lobe right S II\\', \\'tumorlocalization: middle pulmonary lobe right\\'], 17: [\\'Stage: na\\', \\'Stage: IIA\\', \\'Stage: IV\\', \\'Stage: IIB\\', \\'Stage: III B\\', \\'Stage: I\\', \\'radicality: R0\\', \\'Stage: n/a\\', \\'Stage: III A\\', \\'Stage: III C\\', \\'radicality: na\\', \\'Stage: II\\', \\'Stage: IB\\', \\'Stage: IA\\', \\'radicality: R1\\'], 18: [\\'radicality: na\\', \\'radicality: R0\\', \\'grading: G2\\', \\'radicality: R1\\', \\'radicality: R2\\', \\'radicality: n/a\\', \\'grading: na\\', \\'grading: G3\\', \\'grading: n/a\\', \\'grading: G1\\'], 19: [\\'grading: na\\', \\'grading: G3\\', \\'grading: G2\\', \\'grading: G1\\', \\'dignity: malign\\', \\'dignity: na\\', \\'grading: n/a\\', \\'grading: G4\\'], 20: [\\'dignity: na\\', \\'dignity: malign\\', nan]}\\n'"
      ]
     },
     "execution_count": 24,
     "metadata": {},
     "output_type": "execute_result"
    }
   ],
   "source": [
    "f'''As a biomedical research team, we are selecting datasets to study the association between the human trait \\'{TRAIT}\\' and genetic factors, optionally considering the influence of age and gender. After searching the GEO database and parsing the matrix file of a series, we obtained background information and sample characteristics data. We will provide textual information about the dataset background, and a Python dictionary storing a list of unique values for each field of the sample characteristics data. Please carefully review the provided information and answer the following questions about this dataset:\n",
    "1. Does this dataset contain gene expression data? (Note: Pure miRNA data is not suitable.)\n",
    "2. For each of the traits \\'{TRAIT}\\', 'age', and 'gender', please address these points:\n",
    "   (1) Is there human data available for this trait?\n",
    "   (2) If so, identify the key in the sample characteristics dictionary where unique values of this trait is recorded. The key is an integer. The trait information might be explicitly recorded, or can be inferred from the field with some biomedical knowledge or understanding about the data collection process.\n",
    "   (3) Choose an appropriate data type (either 'continuous' or 'binary') for each trait. Write a Python function to convert any given value of the trait to this data type. The function should handle inference about the trait value and convert unknown values to None.\n",
    "   Name the functions 'convert_trait', 'convert_age', and 'convert_gender', respectively.\n",
    "\n",
    "Background information about the dataset:\n",
    "{background_info}\n",
    "\n",
    "Sample characteristics dictionary (from \"!Sample_characteristics_ch1\", converted to a Python dictionary that stores the unique values for each field):\n",
    "{clinical_data_unique}\n",
    "'''"
   ]
  },
  {
   "cell_type": "markdown",
   "metadata": {
    "ExecuteTime": {
     "end_time": "2023-12-31T03:58:04.978240504Z",
     "start_time": "2023-12-31T03:58:04.922365324Z"
    },
    "collapsed": false
   },
   "source": [
    "Understand and verify the answer from GPT, to assign values to the below variables. Assign None to the 'row_id' variables if relevant data row was not found.\n",
    "Later we need to let GPT format its answer to automatically do these. But given the complexity of this step, let's grow some insight from the free-text answers for now."
   ]
  },
  {
   "cell_type": "code",
   "execution_count": 25,
   "metadata": {
    "ExecuteTime": {
     "end_time": "2024-01-02T01:03:03.079540570Z",
     "start_time": "2024-01-02T01:03:03.073638535Z"
    },
    "collapsed": false
   },
   "outputs": [],
   "source": [
    "is_gene_availabe = True\n",
    "trait_row = 0\n",
    "age_row = 3 and 4\n",
    "gender_row = 5\n",
    "\n",
    "trait_type = 'binary'"
   ]
  },
  {
   "cell_type": "code",
   "execution_count": 26,
   "metadata": {
    "ExecuteTime": {
     "end_time": "2024-01-02T01:03:03.572682163Z",
     "start_time": "2024-01-02T01:03:03.559775513Z"
    },
    "collapsed": false
   },
   "outputs": [],
   "source": [
    "is_available = is_gene_availabe and (trait_row is not None)\n",
    "if not is_available:\n",
    "    save_cohort_info(cohort, JSON_PATH, is_available)\n",
    "    print(\"This cohort is not usable. Please skip the following steps and jump to the next accession number.\")"
   ]
  },
  {
   "cell_type": "code",
   "execution_count": 27,
   "metadata": {
    "ExecuteTime": {
     "end_time": "2024-01-02T01:03:03.973964287Z",
     "start_time": "2024-01-02T01:03:03.964958096Z"
    },
    "collapsed": false
   },
   "outputs": [],
   "source": [
    "# def convert_trait(tissue_type):\n",
    "#     \"\"\"\n",
    "#     Convert tissue type to epilepsy presence (binary).\n",
    "#     Assuming epilepsy presence for 'Hippocampus' tissue.\n",
    "#     \"\"\"\n",
    "#     if tissue_type == 'primary diagnosis: PSORIASIS':\n",
    "#         return 1  # Epilepsy present\n",
    "#     else:\n",
    "#         return 0  # Epilepsy not present\n",
    "\n",
    "# def convert_age(age_string):\n",
    "#     \"\"\"\n",
    "#     Convert age string to a numerical value.\n",
    "#     \"\"\"\n",
    "#     if age_string.startswith('age: '):\n",
    "#         try:\n",
    "#             return int(age_string.split('age: ')[1].rstrip(''))  # Extracting numeric part\n",
    "#         except ValueError:\n",
    "#             return None  # In case of parsing error\n",
    "#     else:\n",
    "#         return None  # If age string does not follow expected format\n",
    "\n",
    "# def convert_gender(gender_string):\n",
    "#     \"\"\"\n",
    "#     Convert gender string to a binary representation.\n",
    "#     Female -> 0, Male -> 1, Unknown -> None\n",
    "#     \"\"\"\n",
    "#     if gender_string == 'Sex: Female':\n",
    "#         return 0\n",
    "#     elif gender_string == 'Sex: Male':\n",
    "#         return 1\n",
    "#     else:\n",
    "#         return None  # In case of unknown gender\n",
    "\n",
    "# # Example usage\n",
    "# example_tissue = 'tissue: Hippocampus'\n",
    "# example_age = 'age: 23y'\n",
    "# example_gender = 'gender: Male'\n",
    "\n",
    "# converted_trait = convert_trait(example_tissue)\n",
    "# converted_age = convert_age(example_age)\n",
    "# converted_gender = convert_gender(example_gender)\n",
    "\n",
    "# converted_trait, converted_age, converted_gender\n",
    "\n",
    "def convert_trait(value):\n",
    "    if value == 'cancer type: CRC':\n",
    "        return True\n",
    "    elif value == 'cancer type: BC':\n",
    "        return False\n",
    "    else:\n",
    "        return None\n",
    "\n",
    "def convert_age(value):\n",
    "    try:\n",
    "        return float(value.split(': ')[1])\n",
    "    except:\n",
    "        return None\n",
    "\n",
    "\n",
    "\n",
    "def convert_gender(value):\n",
    "    if value == 'gender: m':\n",
    "        return 'male'\n",
    "    elif value == 'gender: f':\n",
    "        return 'female'\n",
    "    else:\n",
    "        return None\n",
    "\n",
    "\n"
   ]
  },
  {
   "cell_type": "code",
   "execution_count": 28,
   "metadata": {
    "ExecuteTime": {
     "end_time": "2024-01-02T01:03:04.637878352Z",
     "start_time": "2024-01-02T01:03:04.593886885Z"
    },
    "collapsed": false
   },
   "outputs": [
    {
     "data": {
      "text/html": [
       "<div>\n",
       "<style scoped>\n",
       "    .dataframe tbody tr th:only-of-type {\n",
       "        vertical-align: middle;\n",
       "    }\n",
       "\n",
       "    .dataframe tbody tr th {\n",
       "        vertical-align: top;\n",
       "    }\n",
       "\n",
       "    .dataframe thead th {\n",
       "        text-align: right;\n",
       "    }\n",
       "</style>\n",
       "<table border=\"1\" class=\"dataframe\">\n",
       "  <thead>\n",
       "    <tr style=\"text-align: right;\">\n",
       "      <th></th>\n",
       "      <th>GSM2772660</th>\n",
       "      <th>GSM2772661</th>\n",
       "      <th>GSM2772662</th>\n",
       "      <th>GSM2772663</th>\n",
       "      <th>GSM2772664</th>\n",
       "      <th>GSM2772665</th>\n",
       "      <th>GSM2772666</th>\n",
       "      <th>GSM2772667</th>\n",
       "      <th>GSM2772668</th>\n",
       "      <th>GSM2772669</th>\n",
       "      <th>...</th>\n",
       "      <th>GSM2772930</th>\n",
       "      <th>GSM2772931</th>\n",
       "      <th>GSM2772932</th>\n",
       "      <th>GSM2772933</th>\n",
       "      <th>GSM2772934</th>\n",
       "      <th>GSM2772935</th>\n",
       "      <th>GSM2772936</th>\n",
       "      <th>GSM2772937</th>\n",
       "      <th>GSM2772938</th>\n",
       "      <th>GSM2772939</th>\n",
       "    </tr>\n",
       "  </thead>\n",
       "  <tbody>\n",
       "    <tr>\n",
       "      <th>Colon and Rectal Cancer</th>\n",
       "      <td>False</td>\n",
       "      <td>False</td>\n",
       "      <td>False</td>\n",
       "      <td>False</td>\n",
       "      <td>False</td>\n",
       "      <td>False</td>\n",
       "      <td>False</td>\n",
       "      <td>False</td>\n",
       "      <td>False</td>\n",
       "      <td>False</td>\n",
       "      <td>...</td>\n",
       "      <td>None</td>\n",
       "      <td>None</td>\n",
       "      <td>None</td>\n",
       "      <td>None</td>\n",
       "      <td>None</td>\n",
       "      <td>None</td>\n",
       "      <td>None</td>\n",
       "      <td>None</td>\n",
       "      <td>None</td>\n",
       "      <td>None</td>\n",
       "    </tr>\n",
       "    <tr>\n",
       "      <th>Age</th>\n",
       "      <td>None</td>\n",
       "      <td>None</td>\n",
       "      <td>None</td>\n",
       "      <td>None</td>\n",
       "      <td>None</td>\n",
       "      <td>None</td>\n",
       "      <td>None</td>\n",
       "      <td>None</td>\n",
       "      <td>None</td>\n",
       "      <td>None</td>\n",
       "      <td>...</td>\n",
       "      <td>None</td>\n",
       "      <td>None</td>\n",
       "      <td>None</td>\n",
       "      <td>None</td>\n",
       "      <td>None</td>\n",
       "      <td>None</td>\n",
       "      <td>None</td>\n",
       "      <td>None</td>\n",
       "      <td>None</td>\n",
       "      <td>None</td>\n",
       "    </tr>\n",
       "    <tr>\n",
       "      <th>Gender</th>\n",
       "      <td>None</td>\n",
       "      <td>None</td>\n",
       "      <td>None</td>\n",
       "      <td>None</td>\n",
       "      <td>None</td>\n",
       "      <td>None</td>\n",
       "      <td>None</td>\n",
       "      <td>None</td>\n",
       "      <td>None</td>\n",
       "      <td>None</td>\n",
       "      <td>...</td>\n",
       "      <td>None</td>\n",
       "      <td>None</td>\n",
       "      <td>None</td>\n",
       "      <td>None</td>\n",
       "      <td>None</td>\n",
       "      <td>None</td>\n",
       "      <td>None</td>\n",
       "      <td>None</td>\n",
       "      <td>None</td>\n",
       "      <td>None</td>\n",
       "    </tr>\n",
       "  </tbody>\n",
       "</table>\n",
       "<p>3 rows × 280 columns</p>\n",
       "</div>"
      ],
      "text/plain": [
       "                        GSM2772660 GSM2772661 GSM2772662 GSM2772663  \\\n",
       "Colon and Rectal Cancer      False      False      False      False   \n",
       "Age                           None       None       None       None   \n",
       "Gender                        None       None       None       None   \n",
       "\n",
       "                        GSM2772664 GSM2772665 GSM2772666 GSM2772667  \\\n",
       "Colon and Rectal Cancer      False      False      False      False   \n",
       "Age                           None       None       None       None   \n",
       "Gender                        None       None       None       None   \n",
       "\n",
       "                        GSM2772668 GSM2772669  ... GSM2772930 GSM2772931  \\\n",
       "Colon and Rectal Cancer      False      False  ...       None       None   \n",
       "Age                           None       None  ...       None       None   \n",
       "Gender                        None       None  ...       None       None   \n",
       "\n",
       "                        GSM2772932 GSM2772933 GSM2772934 GSM2772935  \\\n",
       "Colon and Rectal Cancer       None       None       None       None   \n",
       "Age                           None       None       None       None   \n",
       "Gender                        None       None       None       None   \n",
       "\n",
       "                        GSM2772936 GSM2772937 GSM2772938 GSM2772939  \n",
       "Colon and Rectal Cancer       None       None       None       None  \n",
       "Age                           None       None       None       None  \n",
       "Gender                        None       None       None       None  \n",
       "\n",
       "[3 rows x 280 columns]"
      ]
     },
     "execution_count": 28,
     "metadata": {},
     "output_type": "execute_result"
    }
   ],
   "source": [
    "selected_clinical_data = geo_select_clinical_features(clinical_data, TRAIT, trait_row, convert_trait, age_row=age_row,\n",
    "                                                      convert_age=convert_age, gender_row=gender_row,\n",
    "                                                      convert_gender=convert_gender)\n",
    "selected_clinical_data.head()"
   ]
  },
  {
   "cell_type": "markdown",
   "metadata": {
    "ExecuteTime": {
     "end_time": "2023-12-31T03:58:04.978664193Z",
     "start_time": "2023-12-31T03:58:04.966117261Z"
    },
    "collapsed": false
   },
   "source": [
    "### Genetic data preprocessing and final filtering"
   ]
  },
  {
   "cell_type": "code",
   "execution_count": 29,
   "metadata": {
    "ExecuteTime": {
     "end_time": "2024-01-02T01:03:06.246474256Z",
     "start_time": "2024-01-02T01:03:05.670354792Z"
    },
    "collapsed": false
   },
   "outputs": [
    {
     "data": {
      "text/html": [
       "<div>\n",
       "<style scoped>\n",
       "    .dataframe tbody tr th:only-of-type {\n",
       "        vertical-align: middle;\n",
       "    }\n",
       "\n",
       "    .dataframe tbody tr th {\n",
       "        vertical-align: top;\n",
       "    }\n",
       "\n",
       "    .dataframe thead th {\n",
       "        text-align: right;\n",
       "    }\n",
       "</style>\n",
       "<table border=\"1\" class=\"dataframe\">\n",
       "  <thead>\n",
       "    <tr style=\"text-align: right;\">\n",
       "      <th></th>\n",
       "      <th>GSM2772660</th>\n",
       "      <th>GSM2772661</th>\n",
       "      <th>GSM2772662</th>\n",
       "      <th>GSM2772663</th>\n",
       "      <th>GSM2772664</th>\n",
       "      <th>GSM2772665</th>\n",
       "      <th>GSM2772666</th>\n",
       "      <th>GSM2772667</th>\n",
       "      <th>GSM2772668</th>\n",
       "      <th>GSM2772669</th>\n",
       "      <th>...</th>\n",
       "      <th>GSM2772930</th>\n",
       "      <th>GSM2772931</th>\n",
       "      <th>GSM2772932</th>\n",
       "      <th>GSM2772933</th>\n",
       "      <th>GSM2772934</th>\n",
       "      <th>GSM2772935</th>\n",
       "      <th>GSM2772936</th>\n",
       "      <th>GSM2772937</th>\n",
       "      <th>GSM2772938</th>\n",
       "      <th>GSM2772939</th>\n",
       "    </tr>\n",
       "    <tr>\n",
       "      <th>ID</th>\n",
       "      <th></th>\n",
       "      <th></th>\n",
       "      <th></th>\n",
       "      <th></th>\n",
       "      <th></th>\n",
       "      <th></th>\n",
       "      <th></th>\n",
       "      <th></th>\n",
       "      <th></th>\n",
       "      <th></th>\n",
       "      <th></th>\n",
       "      <th></th>\n",
       "      <th></th>\n",
       "      <th></th>\n",
       "      <th></th>\n",
       "      <th></th>\n",
       "      <th></th>\n",
       "      <th></th>\n",
       "      <th></th>\n",
       "      <th></th>\n",
       "      <th></th>\n",
       "    </tr>\n",
       "  </thead>\n",
       "  <tbody>\n",
       "    <tr>\n",
       "      <th>1007_PM_s_at</th>\n",
       "      <td>8.710718</td>\n",
       "      <td>8.874406</td>\n",
       "      <td>9.157600</td>\n",
       "      <td>7.710366</td>\n",
       "      <td>7.889133</td>\n",
       "      <td>9.187891</td>\n",
       "      <td>8.502790</td>\n",
       "      <td>7.985991</td>\n",
       "      <td>9.288803</td>\n",
       "      <td>8.037423</td>\n",
       "      <td>...</td>\n",
       "      <td>7.591758</td>\n",
       "      <td>8.417337</td>\n",
       "      <td>8.773584</td>\n",
       "      <td>6.014932</td>\n",
       "      <td>8.118485</td>\n",
       "      <td>7.750079</td>\n",
       "      <td>7.864324</td>\n",
       "      <td>7.541111</td>\n",
       "      <td>8.390298</td>\n",
       "      <td>7.755427</td>\n",
       "    </tr>\n",
       "    <tr>\n",
       "      <th>1053_PM_at</th>\n",
       "      <td>4.646897</td>\n",
       "      <td>5.946730</td>\n",
       "      <td>5.769209</td>\n",
       "      <td>4.512610</td>\n",
       "      <td>6.000142</td>\n",
       "      <td>4.529334</td>\n",
       "      <td>5.326246</td>\n",
       "      <td>5.772236</td>\n",
       "      <td>5.757419</td>\n",
       "      <td>5.547636</td>\n",
       "      <td>...</td>\n",
       "      <td>4.757886</td>\n",
       "      <td>4.622830</td>\n",
       "      <td>4.427917</td>\n",
       "      <td>4.139551</td>\n",
       "      <td>4.374756</td>\n",
       "      <td>4.173053</td>\n",
       "      <td>4.259325</td>\n",
       "      <td>4.522224</td>\n",
       "      <td>4.355016</td>\n",
       "      <td>4.367581</td>\n",
       "    </tr>\n",
       "    <tr>\n",
       "      <th>117_PM_at</th>\n",
       "      <td>6.850312</td>\n",
       "      <td>7.420204</td>\n",
       "      <td>7.277934</td>\n",
       "      <td>7.036745</td>\n",
       "      <td>7.085630</td>\n",
       "      <td>7.001320</td>\n",
       "      <td>7.226530</td>\n",
       "      <td>7.395984</td>\n",
       "      <td>6.985698</td>\n",
       "      <td>7.915826</td>\n",
       "      <td>...</td>\n",
       "      <td>7.579409</td>\n",
       "      <td>6.720147</td>\n",
       "      <td>6.928376</td>\n",
       "      <td>7.491676</td>\n",
       "      <td>6.353371</td>\n",
       "      <td>6.424754</td>\n",
       "      <td>6.478735</td>\n",
       "      <td>6.865915</td>\n",
       "      <td>6.765574</td>\n",
       "      <td>7.624744</td>\n",
       "    </tr>\n",
       "    <tr>\n",
       "      <th>121_PM_at</th>\n",
       "      <td>5.699862</td>\n",
       "      <td>5.955848</td>\n",
       "      <td>5.819856</td>\n",
       "      <td>5.992074</td>\n",
       "      <td>5.965098</td>\n",
       "      <td>5.978569</td>\n",
       "      <td>5.975539</td>\n",
       "      <td>6.133506</td>\n",
       "      <td>5.623385</td>\n",
       "      <td>5.919976</td>\n",
       "      <td>...</td>\n",
       "      <td>6.244688</td>\n",
       "      <td>6.067174</td>\n",
       "      <td>5.778329</td>\n",
       "      <td>6.482538</td>\n",
       "      <td>5.982061</td>\n",
       "      <td>6.619358</td>\n",
       "      <td>7.989656</td>\n",
       "      <td>6.025906</td>\n",
       "      <td>6.136103</td>\n",
       "      <td>6.106748</td>\n",
       "    </tr>\n",
       "    <tr>\n",
       "      <th>1255_PM_g_at</th>\n",
       "      <td>3.344434</td>\n",
       "      <td>3.252921</td>\n",
       "      <td>3.121310</td>\n",
       "      <td>3.304214</td>\n",
       "      <td>3.206685</td>\n",
       "      <td>3.123327</td>\n",
       "      <td>3.070930</td>\n",
       "      <td>3.161671</td>\n",
       "      <td>3.308474</td>\n",
       "      <td>3.214317</td>\n",
       "      <td>...</td>\n",
       "      <td>3.321744</td>\n",
       "      <td>3.119197</td>\n",
       "      <td>3.081535</td>\n",
       "      <td>3.376316</td>\n",
       "      <td>3.253850</td>\n",
       "      <td>3.114041</td>\n",
       "      <td>3.135294</td>\n",
       "      <td>3.328501</td>\n",
       "      <td>3.282186</td>\n",
       "      <td>3.310275</td>\n",
       "    </tr>\n",
       "  </tbody>\n",
       "</table>\n",
       "<p>5 rows × 280 columns</p>\n",
       "</div>"
      ],
      "text/plain": [
       "              GSM2772660  GSM2772661  GSM2772662  GSM2772663  GSM2772664  \\\n",
       "ID                                                                         \n",
       "1007_PM_s_at    8.710718    8.874406    9.157600    7.710366    7.889133   \n",
       "1053_PM_at      4.646897    5.946730    5.769209    4.512610    6.000142   \n",
       "117_PM_at       6.850312    7.420204    7.277934    7.036745    7.085630   \n",
       "121_PM_at       5.699862    5.955848    5.819856    5.992074    5.965098   \n",
       "1255_PM_g_at    3.344434    3.252921    3.121310    3.304214    3.206685   \n",
       "\n",
       "              GSM2772665  GSM2772666  GSM2772667  GSM2772668  GSM2772669  ...  \\\n",
       "ID                                                                        ...   \n",
       "1007_PM_s_at    9.187891    8.502790    7.985991    9.288803    8.037423  ...   \n",
       "1053_PM_at      4.529334    5.326246    5.772236    5.757419    5.547636  ...   \n",
       "117_PM_at       7.001320    7.226530    7.395984    6.985698    7.915826  ...   \n",
       "121_PM_at       5.978569    5.975539    6.133506    5.623385    5.919976  ...   \n",
       "1255_PM_g_at    3.123327    3.070930    3.161671    3.308474    3.214317  ...   \n",
       "\n",
       "              GSM2772930  GSM2772931  GSM2772932  GSM2772933  GSM2772934  \\\n",
       "ID                                                                         \n",
       "1007_PM_s_at    7.591758    8.417337    8.773584    6.014932    8.118485   \n",
       "1053_PM_at      4.757886    4.622830    4.427917    4.139551    4.374756   \n",
       "117_PM_at       7.579409    6.720147    6.928376    7.491676    6.353371   \n",
       "121_PM_at       6.244688    6.067174    5.778329    6.482538    5.982061   \n",
       "1255_PM_g_at    3.321744    3.119197    3.081535    3.376316    3.253850   \n",
       "\n",
       "              GSM2772935  GSM2772936  GSM2772937  GSM2772938  GSM2772939  \n",
       "ID                                                                        \n",
       "1007_PM_s_at    7.750079    7.864324    7.541111    8.390298    7.755427  \n",
       "1053_PM_at      4.173053    4.259325    4.522224    4.355016    4.367581  \n",
       "117_PM_at       6.424754    6.478735    6.865915    6.765574    7.624744  \n",
       "121_PM_at       6.619358    7.989656    6.025906    6.136103    6.106748  \n",
       "1255_PM_g_at    3.114041    3.135294    3.328501    3.282186    3.310275  \n",
       "\n",
       "[5 rows x 280 columns]"
      ]
     },
     "execution_count": 29,
     "metadata": {},
     "output_type": "execute_result"
    }
   ],
   "source": [
    "genetic_data = get_genetic_data(matrix_file)\n",
    "genetic_data.head()"
   ]
  },
  {
   "cell_type": "code",
   "execution_count": 30,
   "metadata": {
    "ExecuteTime": {
     "end_time": "2024-01-02T01:03:06.250833943Z",
     "start_time": "2024-01-02T01:03:06.246758837Z"
    },
    "collapsed": false
   },
   "outputs": [
    {
     "data": {
      "text/plain": [
       "['1007_PM_s_at',\n",
       " '1053_PM_at',\n",
       " '117_PM_at',\n",
       " '121_PM_at',\n",
       " '1255_PM_g_at',\n",
       " '1294_PM_at',\n",
       " '1316_PM_at',\n",
       " '1320_PM_at',\n",
       " '1405_PM_i_at',\n",
       " '1431_PM_at',\n",
       " '1438_PM_at',\n",
       " '1487_PM_at',\n",
       " '1494_PM_f_at',\n",
       " '1552256_PM_a_at',\n",
       " '1552257_PM_a_at',\n",
       " '1552258_PM_at',\n",
       " '1552261_PM_at',\n",
       " '1552263_PM_at',\n",
       " '1552264_PM_a_at',\n",
       " '1552266_PM_at']"
      ]
     },
     "execution_count": 30,
     "metadata": {},
     "output_type": "execute_result"
    }
   ],
   "source": [
    "gene_row_ids = genetic_data.index[:20].tolist()\n",
    "gene_row_ids"
   ]
  },
  {
   "cell_type": "markdown",
   "metadata": {
    "ExecuteTime": {
     "end_time": "2023-12-31T03:30:41.595335164Z",
     "start_time": "2023-12-31T03:30:41.513232329Z"
    },
    "collapsed": false
   },
   "source": [
    "Check if the gene dataset requires mapping to get the gene symbols corresponding to each data row."
   ]
  },
  {
   "cell_type": "markdown",
   "metadata": {
    "collapsed": false
   },
   "source": [
    "Reference prompt:"
   ]
  },
  {
   "cell_type": "code",
   "execution_count": 31,
   "metadata": {
    "ExecuteTime": {
     "end_time": "2024-01-02T01:03:07.586216481Z",
     "start_time": "2024-01-02T01:03:07.574527035Z"
    },
    "collapsed": false
   },
   "outputs": [
    {
     "data": {
      "text/plain": [
       "\"\\nBelow are the row headers of a gene expression dataset in GEO. Based on your biomedical knowledge, are they human gene symbols, or are they some other identifiers that need to be mapped to gene symbols? Your answer should be concluded by starting a new line and strictly following this format:\\nrequires_gene_mapping = (True or False)\\n\\nRow headers:\\n['1007_PM_s_at', '1053_PM_at', '117_PM_at', '121_PM_at', '1255_PM_g_at', '1294_PM_at', '1316_PM_at', '1320_PM_at', '1405_PM_i_at', '1431_PM_at', '1438_PM_at', '1487_PM_at', '1494_PM_f_at', '1552256_PM_a_at', '1552257_PM_a_at', '1552258_PM_at', '1552261_PM_at', '1552263_PM_at', '1552264_PM_a_at', '1552266_PM_at']\\n\""
      ]
     },
     "execution_count": 31,
     "metadata": {},
     "output_type": "execute_result"
    }
   ],
   "source": [
    "f'''\n",
    "Below are the row headers of a gene expression dataset in GEO. Based on your biomedical knowledge, are they human gene symbols, or are they some other identifiers that need to be mapped to gene symbols? Your answer should be concluded by starting a new line and strictly following this format:\n",
    "requires_gene_mapping = (True or False)\n",
    "\n",
    "Row headers:\n",
    "{gene_row_ids}\n",
    "'''"
   ]
  },
  {
   "cell_type": "markdown",
   "metadata": {
    "collapsed": false
   },
   "source": [
    "If not required, jump directly to the gene normalization step"
   ]
  },
  {
   "cell_type": "code",
   "execution_count": 33,
   "metadata": {
    "ExecuteTime": {
     "end_time": "2024-01-02T01:03:08.263712538Z",
     "start_time": "2024-01-02T01:03:08.260656314Z"
    },
    "collapsed": false
   },
   "outputs": [],
   "source": [
    "requires_gene_mapping = True"
   ]
  },
  {
   "cell_type": "code",
   "execution_count": 34,
   "metadata": {
    "ExecuteTime": {
     "end_time": "2024-01-02T01:03:33.822550310Z",
     "start_time": "2024-01-02T01:03:08.648958912Z"
    },
    "collapsed": false
   },
   "outputs": [
    {
     "name": "stdout",
     "output_type": "stream",
     "text": [
      "{'ID': ['1007_PM_s_at', '1053_PM_at', '117_PM_at', '121_PM_at', '1255_PM_g_at'], 'GB_ACC': ['U48705', 'M87338', 'X51757', 'X69699', 'L36861'], 'SPOT_ID': [nan, nan, nan, nan, nan], 'Species Scientific Name': ['Homo sapiens', 'Homo sapiens', 'Homo sapiens', 'Homo sapiens', 'Homo sapiens'], 'Annotation Date': ['Aug 20, 2010', 'Aug 20, 2010', 'Aug 20, 2010', 'Aug 20, 2010', 'Aug 20, 2010'], 'Sequence Type': ['Exemplar sequence', 'Exemplar sequence', 'Exemplar sequence', 'Exemplar sequence', 'Exemplar sequence'], 'Sequence Source': ['Affymetrix Proprietary Database', 'GenBank', 'Affymetrix Proprietary Database', 'GenBank', 'Affymetrix Proprietary Database'], 'Target Description': ['U48705 /FEATURE=mRNA /DEFINITION=HSU48705 Human receptor tyrosine kinase DDR gene, complete cds', 'M87338 /FEATURE= /DEFINITION=HUMA1SBU Human replication factor C, 40-kDa subunit (A1) mRNA, complete cds', \"X51757 /FEATURE=cds /DEFINITION=HSP70B Human heat-shock protein HSP70B' gene\", 'X69699 /FEATURE= /DEFINITION=HSPAX8A H.sapiens Pax8 mRNA', 'L36861 /FEATURE=expanded_cds /DEFINITION=HUMGCAPB Homo sapiens guanylate cyclase activating protein (GCAP) gene exons 1-4, complete cds'], 'Representative Public ID': ['U48705', 'M87338', 'X51757', 'X69699', 'L36861'], 'Gene Title': ['discoidin domain receptor tyrosine kinase 1', 'replication factor C (activator 1) 2, 40kDa', \"heat shock 70kDa protein 6 (HSP70B')\", 'paired box 8', 'guanylate cyclase activator 1A (retina)'], 'Gene Symbol': ['DDR1', 'RFC2', 'HSPA6', 'PAX8', 'GUCA1A'], 'ENTREZ_GENE_ID': ['780', '5982', '3310', '7849', '2978'], 'RefSeq Transcript ID': ['NM_001954 /// NM_013993 /// NM_013994', 'NM_002914 /// NM_181471', 'NM_002155', 'NM_003466 /// NM_013951 /// NM_013952 /// NM_013953 /// NM_013992', 'NM_000409'], 'Gene Ontology Biological Process': ['0001558 // regulation of cell growth // inferred from electronic annotation /// 0001952 // regulation of cell-matrix adhesion // inferred from electronic annotation /// 0006468 // protein amino acid phosphorylation // inferred from electronic annotation /// 0007155 // cell adhesion // inferred from electronic annotation /// 0007155 // cell adhesion // traceable author statement /// 0007169 // transmembrane receptor protein tyrosine kinase signaling pathway // inferred from electronic annotation /// 0007566 // embryo implantation // inferred from electronic annotation /// 0008285 // negative regulation of cell proliferation // inferred from electronic annotation /// 0018108 // peptidyl-tyrosine phosphorylation // inferred from electronic annotation /// 0031100 // organ regeneration // inferred from electronic annotation /// 0043583 // ear development // inferred from electronic annotation /// 0043588 // skin development // inferred from electronic annotation /// 0051789 // response to protein stimulus // inferred from electronic annotation /// 0060444 // branching involved in mammary gland duct morphogenesis // inferred from electronic annotation /// 0060749 // mammary gland alveolus development // inferred from electronic annotation', '0006260 // DNA replication // not recorded /// 0006260 // DNA replication // inferred from electronic annotation /// 0006297 // nucleotide-excision repair, DNA gap filling // not recorded /// 0015979 // photosynthesis // inferred from electronic annotation /// 0015995 // chlorophyll biosynthetic process // inferred from electronic annotation', '0006950 // response to stress // inferred from electronic annotation /// 0006986 // response to unfolded protein // traceable author statement', '0001656 // metanephros development // inferred from electronic annotation /// 0006350 // transcription // inferred from electronic annotation /// 0007275 // multicellular organismal development // inferred from electronic annotation /// 0009653 // anatomical structure morphogenesis // traceable author statement /// 0030154 // cell differentiation // inferred from electronic annotation /// 0030878 // thyroid gland development // inferred from electronic annotation /// 0045449 // regulation of transcription // inferred from electronic annotation /// 0045893 // positive regulation of transcription, DNA-dependent // inferred from sequence or structural similarity /// 0045893 // positive regulation of transcription, DNA-dependent // inferred from direct assay /// 0045944 // positive regulation of transcription from RNA polymerase II promoter // inferred from electronic annotation', '0007165 // signal transduction // non-traceable author statement /// 0007601 // visual perception // inferred from electronic annotation /// 0007601 // visual perception // traceable author statement /// 0007602 // phototransduction // inferred from electronic annotation /// 0031282 // regulation of guanylate cyclase activity // inferred from electronic annotation /// 0050896 // response to stimulus // inferred from electronic annotation'], 'Gene Ontology Cellular Component': ['0005576 // extracellular region // inferred from electronic annotation /// 0005886 // plasma membrane // inferred from electronic annotation /// 0005887 // integral to plasma membrane // traceable author statement /// 0016020 // membrane // inferred from electronic annotation /// 0016021 // integral to membrane // inferred from electronic annotation /// 0016323 // basolateral plasma membrane // inferred from electronic annotation', '0005634 // nucleus // inferred from electronic annotation /// 0005654 // nucleoplasm // not recorded /// 0005663 // DNA replication factor C complex // inferred from direct assay /// 0005663 // DNA replication factor C complex // inferred from electronic annotation', nan, '0005634 // nucleus // inferred from electronic annotation /// 0005654 // nucleoplasm // inferred from sequence or structural similarity /// 0005654 // nucleoplasm // inferred from electronic annotation', '0016020 // membrane // inferred from electronic annotation'], 'Gene Ontology Molecular Function': ['0000166 // nucleotide binding // inferred from electronic annotation /// 0004672 // protein kinase activity // inferred from electronic annotation /// 0004713 // protein tyrosine kinase activity // inferred from electronic annotation /// 0004714 // transmembrane receptor protein tyrosine kinase activity // inferred from electronic annotation /// 0004714 // transmembrane receptor protein tyrosine kinase activity // traceable author statement /// 0004872 // receptor activity // inferred from electronic annotation /// 0005515 // protein binding // inferred from physical interaction /// 0005515 // protein binding // inferred from electronic annotation /// 0005524 // ATP binding // inferred from electronic annotation /// 0016301 // kinase activity // inferred from electronic annotation /// 0016740 // transferase activity // inferred from electronic annotation', '0000166 // nucleotide binding // inferred from electronic annotation /// 0003677 // DNA binding // inferred from electronic annotation /// 0003689 // DNA clamp loader activity // inferred from electronic annotation /// 0005515 // protein binding // inferred from physical interaction /// 0005524 // ATP binding // inferred from electronic annotation /// 0005524 // ATP binding // traceable author statement /// 0016851 // magnesium chelatase activity // inferred from electronic annotation /// 0017111 // nucleoside-triphosphatase activity // inferred from electronic annotation', '0000166 // nucleotide binding // inferred from electronic annotation /// 0005524 // ATP binding // inferred from electronic annotation', '0003677 // DNA binding // inferred from direct assay /// 0003677 // DNA binding // inferred from electronic annotation /// 0003700 // transcription factor activity // traceable author statement /// 0004996 // thyroid-stimulating hormone receptor activity // traceable author statement /// 0005515 // protein binding // inferred from sequence or structural similarity /// 0005515 // protein binding // inferred from electronic annotation /// 0005515 // protein binding // inferred from physical interaction /// 0016563 // transcription activator activity // inferred from sequence or structural similarity /// 0016563 // transcription activator activity // inferred from direct assay /// 0016563 // transcription activator activity // inferred from electronic annotation /// 0043565 // sequence-specific DNA binding // inferred from electronic annotation', '0005509 // calcium ion binding // inferred from electronic annotation /// 0008048 // calcium sensitive guanylate cyclase activator activity // traceable author statement /// 0008048 // calcium sensitive guanylate cyclase activator activity // inferred from electronic annotation /// 0030249 // guanylate cyclase regulator activity // inferred from electronic annotation']}\n"
     ]
    }
   ],
   "source": [
    "if requires_gene_mapping:\n",
    "    gene_annotation = get_gene_annotation(soft_file)\n",
    "    gene_annotation_summary = preview_df(gene_annotation)\n",
    "    print(gene_annotation_summary)"
   ]
  },
  {
   "cell_type": "markdown",
   "metadata": {
    "ExecuteTime": {
     "end_time": "2023-12-31T03:58:04.978931927Z",
     "start_time": "2023-12-31T03:58:04.966328339Z"
    },
    "collapsed": false
   },
   "source": [
    "Observe the first few cells in the ID column of the gene annotation dataframe, to find the names of columns that store the gene probe IDs and gene symbols respectively.\n",
    "Reference prompt:"
   ]
  },
  {
   "cell_type": "code",
   "execution_count": 35,
   "metadata": {
    "ExecuteTime": {
     "end_time": "2024-01-02T01:03:33.822912446Z",
     "start_time": "2024-01-02T01:03:33.804491826Z"
    },
    "collapsed": false
   },
   "outputs": [
    {
     "name": "stdout",
     "output_type": "stream",
     "text": [
      "\n",
      "    As a biomedical research team, we extracted the gene annotation data from a series in the GEO database, and saved it to a Python dictionary. Please read the dictionary, and decide which key stores the ID of the probe, and which key stores the gene symbols. Please strict follow this format in your answer:\n",
      "    probe_name_key = 'key_name1'\n",
      "    gene_name_key = 'key_name2'\n",
      "\n",
      "    Gene annotation dictionary:\n",
      "    {'ID': ['1007_PM_s_at', '1053_PM_at', '117_PM_at', '121_PM_at', '1255_PM_g_at'], 'GB_ACC': ['U48705', 'M87338', 'X51757', 'X69699', 'L36861'], 'SPOT_ID': [nan, nan, nan, nan, nan], 'Species Scientific Name': ['Homo sapiens', 'Homo sapiens', 'Homo sapiens', 'Homo sapiens', 'Homo sapiens'], 'Annotation Date': ['Aug 20, 2010', 'Aug 20, 2010', 'Aug 20, 2010', 'Aug 20, 2010', 'Aug 20, 2010'], 'Sequence Type': ['Exemplar sequence', 'Exemplar sequence', 'Exemplar sequence', 'Exemplar sequence', 'Exemplar sequence'], 'Sequence Source': ['Affymetrix Proprietary Database', 'GenBank', 'Affymetrix Proprietary Database', 'GenBank', 'Affymetrix Proprietary Database'], 'Target Description': ['U48705 /FEATURE=mRNA /DEFINITION=HSU48705 Human receptor tyrosine kinase DDR gene, complete cds', 'M87338 /FEATURE= /DEFINITION=HUMA1SBU Human replication factor C, 40-kDa subunit (A1) mRNA, complete cds', \"X51757 /FEATURE=cds /DEFINITION=HSP70B Human heat-shock protein HSP70B' gene\", 'X69699 /FEATURE= /DEFINITION=HSPAX8A H.sapiens Pax8 mRNA', 'L36861 /FEATURE=expanded_cds /DEFINITION=HUMGCAPB Homo sapiens guanylate cyclase activating protein (GCAP) gene exons 1-4, complete cds'], 'Representative Public ID': ['U48705', 'M87338', 'X51757', 'X69699', 'L36861'], 'Gene Title': ['discoidin domain receptor tyrosine kinase 1', 'replication factor C (activator 1) 2, 40kDa', \"heat shock 70kDa protein 6 (HSP70B')\", 'paired box 8', 'guanylate cyclase activator 1A (retina)'], 'Gene Symbol': ['DDR1', 'RFC2', 'HSPA6', 'PAX8', 'GUCA1A'], 'ENTREZ_GENE_ID': ['780', '5982', '3310', '7849', '2978'], 'RefSeq Transcript ID': ['NM_001954 /// NM_013993 /// NM_013994', 'NM_002914 /// NM_181471', 'NM_002155', 'NM_003466 /// NM_013951 /// NM_013952 /// NM_013953 /// NM_013992', 'NM_000409'], 'Gene Ontology Biological Process': ['0001558 // regulation of cell growth // inferred from electronic annotation /// 0001952 // regulation of cell-matrix adhesion // inferred from electronic annotation /// 0006468 // protein amino acid phosphorylation // inferred from electronic annotation /// 0007155 // cell adhesion // inferred from electronic annotation /// 0007155 // cell adhesion // traceable author statement /// 0007169 // transmembrane receptor protein tyrosine kinase signaling pathway // inferred from electronic annotation /// 0007566 // embryo implantation // inferred from electronic annotation /// 0008285 // negative regulation of cell proliferation // inferred from electronic annotation /// 0018108 // peptidyl-tyrosine phosphorylation // inferred from electronic annotation /// 0031100 // organ regeneration // inferred from electronic annotation /// 0043583 // ear development // inferred from electronic annotation /// 0043588 // skin development // inferred from electronic annotation /// 0051789 // response to protein stimulus // inferred from electronic annotation /// 0060444 // branching involved in mammary gland duct morphogenesis // inferred from electronic annotation /// 0060749 // mammary gland alveolus development // inferred from electronic annotation', '0006260 // DNA replication // not recorded /// 0006260 // DNA replication // inferred from electronic annotation /// 0006297 // nucleotide-excision repair, DNA gap filling // not recorded /// 0015979 // photosynthesis // inferred from electronic annotation /// 0015995 // chlorophyll biosynthetic process // inferred from electronic annotation', '0006950 // response to stress // inferred from electronic annotation /// 0006986 // response to unfolded protein // traceable author statement', '0001656 // metanephros development // inferred from electronic annotation /// 0006350 // transcription // inferred from electronic annotation /// 0007275 // multicellular organismal development // inferred from electronic annotation /// 0009653 // anatomical structure morphogenesis // traceable author statement /// 0030154 // cell differentiation // inferred from electronic annotation /// 0030878 // thyroid gland development // inferred from electronic annotation /// 0045449 // regulation of transcription // inferred from electronic annotation /// 0045893 // positive regulation of transcription, DNA-dependent // inferred from sequence or structural similarity /// 0045893 // positive regulation of transcription, DNA-dependent // inferred from direct assay /// 0045944 // positive regulation of transcription from RNA polymerase II promoter // inferred from electronic annotation', '0007165 // signal transduction // non-traceable author statement /// 0007601 // visual perception // inferred from electronic annotation /// 0007601 // visual perception // traceable author statement /// 0007602 // phototransduction // inferred from electronic annotation /// 0031282 // regulation of guanylate cyclase activity // inferred from electronic annotation /// 0050896 // response to stimulus // inferred from electronic annotation'], 'Gene Ontology Cellular Component': ['0005576 // extracellular region // inferred from electronic annotation /// 0005886 // plasma membrane // inferred from electronic annotation /// 0005887 // integral to plasma membrane // traceable author statement /// 0016020 // membrane // inferred from electronic annotation /// 0016021 // integral to membrane // inferred from electronic annotation /// 0016323 // basolateral plasma membrane // inferred from electronic annotation', '0005634 // nucleus // inferred from electronic annotation /// 0005654 // nucleoplasm // not recorded /// 0005663 // DNA replication factor C complex // inferred from direct assay /// 0005663 // DNA replication factor C complex // inferred from electronic annotation', nan, '0005634 // nucleus // inferred from electronic annotation /// 0005654 // nucleoplasm // inferred from sequence or structural similarity /// 0005654 // nucleoplasm // inferred from electronic annotation', '0016020 // membrane // inferred from electronic annotation'], 'Gene Ontology Molecular Function': ['0000166 // nucleotide binding // inferred from electronic annotation /// 0004672 // protein kinase activity // inferred from electronic annotation /// 0004713 // protein tyrosine kinase activity // inferred from electronic annotation /// 0004714 // transmembrane receptor protein tyrosine kinase activity // inferred from electronic annotation /// 0004714 // transmembrane receptor protein tyrosine kinase activity // traceable author statement /// 0004872 // receptor activity // inferred from electronic annotation /// 0005515 // protein binding // inferred from physical interaction /// 0005515 // protein binding // inferred from electronic annotation /// 0005524 // ATP binding // inferred from electronic annotation /// 0016301 // kinase activity // inferred from electronic annotation /// 0016740 // transferase activity // inferred from electronic annotation', '0000166 // nucleotide binding // inferred from electronic annotation /// 0003677 // DNA binding // inferred from electronic annotation /// 0003689 // DNA clamp loader activity // inferred from electronic annotation /// 0005515 // protein binding // inferred from physical interaction /// 0005524 // ATP binding // inferred from electronic annotation /// 0005524 // ATP binding // traceable author statement /// 0016851 // magnesium chelatase activity // inferred from electronic annotation /// 0017111 // nucleoside-triphosphatase activity // inferred from electronic annotation', '0000166 // nucleotide binding // inferred from electronic annotation /// 0005524 // ATP binding // inferred from electronic annotation', '0003677 // DNA binding // inferred from direct assay /// 0003677 // DNA binding // inferred from electronic annotation /// 0003700 // transcription factor activity // traceable author statement /// 0004996 // thyroid-stimulating hormone receptor activity // traceable author statement /// 0005515 // protein binding // inferred from sequence or structural similarity /// 0005515 // protein binding // inferred from electronic annotation /// 0005515 // protein binding // inferred from physical interaction /// 0016563 // transcription activator activity // inferred from sequence or structural similarity /// 0016563 // transcription activator activity // inferred from direct assay /// 0016563 // transcription activator activity // inferred from electronic annotation /// 0043565 // sequence-specific DNA binding // inferred from electronic annotation', '0005509 // calcium ion binding // inferred from electronic annotation /// 0008048 // calcium sensitive guanylate cyclase activator activity // traceable author statement /// 0008048 // calcium sensitive guanylate cyclase activator activity // inferred from electronic annotation /// 0030249 // guanylate cyclase regulator activity // inferred from electronic annotation']}\n",
      "    \n"
     ]
    }
   ],
   "source": [
    "if requires_gene_mapping:\n",
    "    print(f'''\n",
    "    As a biomedical research team, we extracted the gene annotation data from a series in the GEO database, and saved it to a Python dictionary. Please read the dictionary, and decide which key stores the ID of the probe, and which key stores the gene symbols. Please strict follow this format in your answer:\n",
    "    probe_name_key = 'key_name1'\n",
    "    gene_name_key = 'key_name2'\n",
    "\n",
    "    Gene annotation dictionary:\n",
    "    {gene_annotation_summary}\n",
    "    ''')"
   ]
  },
  {
   "cell_type": "code",
   "execution_count": 36,
   "metadata": {
    "ExecuteTime": {
     "end_time": "2024-01-02T01:03:35.113359369Z",
     "start_time": "2024-01-02T01:03:33.804666371Z"
    },
    "collapsed": false
   },
   "outputs": [],
   "source": [
    "if requires_gene_mapping:\n",
    "    probe_id_key = 'ID'\n",
    "    gene_symb_key = 'Gene Symbol'\n",
    "    gene_mapping = get_gene_mapping(gene_annotation, probe_id_key, gene_symb_key)\n",
    "    genetic_data = apply_gene_mapping(genetic_data, gene_mapping)"
   ]
  },
  {
   "cell_type": "code",
   "execution_count": 37,
   "metadata": {
    "ExecuteTime": {
     "end_time": "2024-01-02T01:03:35.156584675Z",
     "start_time": "2024-01-02T01:03:35.114652593Z"
    },
    "collapsed": false
   },
   "outputs": [],
   "source": [
    "if NORMALIZE_GENE:\n",
    "    genetic_data = normalize_gene_symbols_in_index(genetic_data)"
   ]
  },
  {
   "cell_type": "code",
   "execution_count": 38,
   "metadata": {
    "ExecuteTime": {
     "end_time": "2024-01-02T01:03:35.158174021Z",
     "start_time": "2024-01-02T01:03:35.156777134Z"
    },
    "collapsed": false
   },
   "outputs": [],
   "source": [
    "merged_data = geo_merge_clinical_genetic_data(selected_clinical_data, genetic_data)\n",
    "# The preprocessing runs through, which means is_available should be True\n",
    "is_available = True"
   ]
  },
  {
   "cell_type": "code",
   "execution_count": 39,
   "metadata": {
    "ExecuteTime": {
     "end_time": "2024-01-02T01:03:35.158378853Z",
     "start_time": "2024-01-02T01:03:35.156895194Z"
    },
    "collapsed": false
   },
   "outputs": [
    {
     "name": "stdout",
     "output_type": "stream",
     "text": [
      "The merged dataset contains 110 samples.\n"
     ]
    }
   ],
   "source": [
    "print(f\"The merged dataset contains {len(merged_data)} samples.\")"
   ]
  },
  {
   "cell_type": "code",
   "execution_count": 40,
   "metadata": {
    "ExecuteTime": {
     "end_time": "2024-01-02T01:03:35.158646754Z",
     "start_time": "2024-01-02T01:03:35.156975304Z"
    },
    "collapsed": false
   },
   "outputs": [
    {
     "name": "stdout",
     "output_type": "stream",
     "text": [
      "For the feature 'Colon and Rectal Cancer', the least common label is 'False' with 55 occurrences. This represents 50.00% of the dataset.\n",
      "The distribution of the feature 'Colon and Rectal Cancer' in this dataset is fine.\n",
      "\n",
      "Quartiles for 'Age':\n",
      "  25%: 60.0\n",
      "  50% (Median): 68.5\n",
      "  75%: 76.0\n",
      "Min: 38.0\n",
      "Max: 90.0\n",
      "The distribution of the feature 'Age' in this dataset is fine.\n",
      "\n",
      "For the feature 'Gender', the least common label is 'male' with 26 occurrences. This represents 23.64% of the dataset.\n",
      "The distribution of the feature 'Gender' in this dataset is fine.\n",
      "\n"
     ]
    },
    {
     "data": {
      "text/plain": [
       "False"
      ]
     },
     "execution_count": 40,
     "metadata": {},
     "output_type": "execute_result"
    }
   ],
   "source": [
    "is_trait_biased, merged_data = judge_and_remove_biased_features(merged_data, TRAIT, trait_type=trait_type)\n",
    "is_trait_biased"
   ]
  },
  {
   "cell_type": "code",
   "execution_count": 41,
   "metadata": {
    "ExecuteTime": {
     "end_time": "2024-01-02T01:03:35.158803015Z",
     "start_time": "2024-01-02T01:03:35.157063388Z"
    },
    "collapsed": false
   },
   "outputs": [],
   "source": [
    "save_cohort_info(cohort, JSON_PATH, is_available, is_trait_biased, merged_data, note='')"
   ]
  },
  {
   "cell_type": "code",
   "execution_count": 42,
   "metadata": {
    "ExecuteTime": {
     "end_time": "2024-01-02T01:03:36.004312476Z",
     "start_time": "2024-01-02T01:03:35.157165158Z"
    },
    "collapsed": false
   },
   "outputs": [],
   "source": [
    "merged_data.head()\n",
    "if not is_trait_biased:\n",
    "    merged_data.to_csv(os.path.join(OUTPUT_DIR, cohort+'.csv'), index=False)"
   ]
  },
  {
   "cell_type": "markdown",
   "metadata": {
    "ExecuteTime": {
     "end_time": "2023-12-31T03:58:22.271683755Z",
     "start_time": "2023-12-31T03:58:22.246557674Z"
    },
    "id": "-MTPhRGxJV7I"
   },
   "source": [
    "### 3. Do regression & Cross Validation"
   ]
  },
  {
   "cell_type": "code",
   "execution_count": null,
   "metadata": {
    "ExecuteTime": {
     "end_time": "2024-01-02T01:03:36.048788605Z",
     "start_time": "2024-01-02T01:03:36.005925887Z"
    },
    "collapsed": false
   },
   "outputs": [],
   "source": [
    "from utils import *"
   ]
  },
  {
   "cell_type": "code",
   "execution_count": null,
   "metadata": {
    "ExecuteTime": {
     "end_time": "2024-01-02T01:03:36.049183603Z",
     "start_time": "2024-01-02T01:03:36.048440305Z"
    },
    "collapsed": false
   },
   "outputs": [
    {
     "data": {
      "text/plain": [
       "'GSE123088'"
      ]
     },
     "execution_count": 6,
     "metadata": {},
     "output_type": "execute_result"
    }
   ],
   "source": [
    "best_cohort, ranked_df = filter_and_rank_cohorts(JSON_PATH, 'has_age')\n",
    "best_cohort"
   ]
  },
  {
   "cell_type": "code",
   "execution_count": null,
   "metadata": {
    "ExecuteTime": {
     "end_time": "2024-01-02T01:03:36.049430313Z",
     "start_time": "2024-01-02T01:03:36.048984361Z"
    },
    "collapsed": false
   },
   "outputs": [
    {
     "data": {
      "text/html": [
       "<div>\n",
       "<style scoped>\n",
       "    .dataframe tbody tr th:only-of-type {\n",
       "        vertical-align: middle;\n",
       "    }\n",
       "\n",
       "    .dataframe tbody tr th {\n",
       "        vertical-align: top;\n",
       "    }\n",
       "\n",
       "    .dataframe thead th {\n",
       "        text-align: right;\n",
       "    }\n",
       "</style>\n",
       "<table border=\"1\" class=\"dataframe\">\n",
       "  <thead>\n",
       "    <tr style=\"text-align: right;\">\n",
       "      <th></th>\n",
       "      <th>cohort_id</th>\n",
       "      <th>is_usable</th>\n",
       "      <th>is_available</th>\n",
       "      <th>is_biased</th>\n",
       "      <th>has_age</th>\n",
       "      <th>has_gender</th>\n",
       "      <th>sample_size</th>\n",
       "      <th>note</th>\n",
       "    </tr>\n",
       "  </thead>\n",
       "  <tbody>\n",
       "    <tr>\n",
       "      <th>0</th>\n",
       "      <td>GSE123088</td>\n",
       "      <td>True</td>\n",
       "      <td>True</td>\n",
       "      <td>False</td>\n",
       "      <td>True</td>\n",
       "      <td>True</td>\n",
       "      <td>192</td>\n",
       "      <td></td>\n",
       "    </tr>\n",
       "    <tr>\n",
       "      <th>1</th>\n",
       "      <td>GSE123086</td>\n",
       "      <td>True</td>\n",
       "      <td>True</td>\n",
       "      <td>False</td>\n",
       "      <td>True</td>\n",
       "      <td>True</td>\n",
       "      <td>154</td>\n",
       "      <td></td>\n",
       "    </tr>\n",
       "  </tbody>\n",
       "</table>\n",
       "</div>"
      ],
      "text/plain": [
       "   cohort_id  is_usable  is_available  is_biased  has_age  has_gender  \\\n",
       "0  GSE123088       True          True      False     True        True   \n",
       "1  GSE123086       True          True      False     True        True   \n",
       "\n",
       "   sample_size note  \n",
       "0          192       \n",
       "1          154       "
      ]
     },
     "execution_count": 7,
     "metadata": {},
     "output_type": "execute_result"
    }
   ],
   "source": [
    "ranked_df.head()"
   ]
  },
  {
   "cell_type": "code",
   "execution_count": null,
   "metadata": {
    "ExecuteTime": {
     "end_time": "2024-01-02T01:03:36.345375576Z",
     "start_time": "2024-01-02T01:03:36.049289340Z"
    },
    "collapsed": false
   },
   "outputs": [],
   "source": [
    "ck=100\n",
    "listq=[]\n",
    "for df in pd.read_csv(os.path.join(OUTPUT_DIR, best_cohort+'.csv'),chunksize=ck):\n",
    "    listq.append(df)\n",
    "merged_data = pd.concat(listq)\n",
    "#merged_data = pd.read_csv(os.path.join(OUTPUT_DIR, best_cohort+'.csv'))"
   ]
  },
  {
   "cell_type": "code",
   "execution_count": null,
   "metadata": {
    "ExecuteTime": {
     "end_time": "2024-01-02T01:03:36.400788548Z",
     "start_time": "2024-01-02T01:03:36.355439168Z"
    },
    "collapsed": false
   },
   "outputs": [
    {
     "data": {
      "text/html": [
       "<div>\n",
       "<style scoped>\n",
       "    .dataframe tbody tr th:only-of-type {\n",
       "        vertical-align: middle;\n",
       "    }\n",
       "\n",
       "    .dataframe tbody tr th {\n",
       "        vertical-align: top;\n",
       "    }\n",
       "\n",
       "    .dataframe thead th {\n",
       "        text-align: right;\n",
       "    }\n",
       "</style>\n",
       "<table border=\"1\" class=\"dataframe\">\n",
       "  <thead>\n",
       "    <tr style=\"text-align: right;\">\n",
       "      <th></th>\n",
       "      <th>Psoriasis</th>\n",
       "      <th>Age</th>\n",
       "      <th>Gender</th>\n",
       "      <th>-0.001001579</th>\n",
       "      <th>-0.010425045</th>\n",
       "      <th>-0.045320336</th>\n",
       "      <th>-0.046967808</th>\n",
       "      <th>-0.069891929</th>\n",
       "      <th>-0.081080626</th>\n",
       "      <th>-0.093186199</th>\n",
       "      <th>...</th>\n",
       "      <th>9987</th>\n",
       "      <th>9988</th>\n",
       "      <th>9989</th>\n",
       "      <th>999</th>\n",
       "      <th>9990</th>\n",
       "      <th>9991</th>\n",
       "      <th>9992</th>\n",
       "      <th>9993</th>\n",
       "      <th>9994</th>\n",
       "      <th>9997</th>\n",
       "    </tr>\n",
       "  </thead>\n",
       "  <tbody>\n",
       "    <tr>\n",
       "      <th>0</th>\n",
       "      <td>0.0</td>\n",
       "      <td>56.0</td>\n",
       "      <td>1.0</td>\n",
       "      <td>3.293947</td>\n",
       "      <td>3.344254</td>\n",
       "      <td>3.049427</td>\n",
       "      <td>3.489313</td>\n",
       "      <td>3.713489</td>\n",
       "      <td>3.182711</td>\n",
       "      <td>2.885457</td>\n",
       "      <td>...</td>\n",
       "      <td>11.631593</td>\n",
       "      <td>9.914236</td>\n",
       "      <td>5.934949</td>\n",
       "      <td>4.756848</td>\n",
       "      <td>10.265351</td>\n",
       "      <td>10.109506</td>\n",
       "      <td>4.033606</td>\n",
       "      <td>11.065690</td>\n",
       "      <td>8.733339</td>\n",
       "      <td>9.681242</td>\n",
       "    </tr>\n",
       "    <tr>\n",
       "      <th>1</th>\n",
       "      <td>0.0</td>\n",
       "      <td>20.0</td>\n",
       "      <td>0.0</td>\n",
       "      <td>2.295976</td>\n",
       "      <td>3.490590</td>\n",
       "      <td>3.402046</td>\n",
       "      <td>3.960615</td>\n",
       "      <td>2.295976</td>\n",
       "      <td>3.209781</td>\n",
       "      <td>3.380016</td>\n",
       "      <td>...</td>\n",
       "      <td>11.685883</td>\n",
       "      <td>9.888024</td>\n",
       "      <td>5.981049</td>\n",
       "      <td>3.573693</td>\n",
       "      <td>10.808423</td>\n",
       "      <td>10.135307</td>\n",
       "      <td>3.854406</td>\n",
       "      <td>10.578108</td>\n",
       "      <td>8.207179</td>\n",
       "      <td>9.830063</td>\n",
       "    </tr>\n",
       "    <tr>\n",
       "      <th>2</th>\n",
       "      <td>0.0</td>\n",
       "      <td>51.0</td>\n",
       "      <td>0.0</td>\n",
       "      <td>2.878075</td>\n",
       "      <td>3.642838</td>\n",
       "      <td>3.281445</td>\n",
       "      <td>3.630912</td>\n",
       "      <td>2.878075</td>\n",
       "      <td>3.658581</td>\n",
       "      <td>3.466199</td>\n",
       "      <td>...</td>\n",
       "      <td>11.823756</td>\n",
       "      <td>9.977897</td>\n",
       "      <td>5.965869</td>\n",
       "      <td>4.439257</td>\n",
       "      <td>10.669074</td>\n",
       "      <td>10.243314</td>\n",
       "      <td>4.174246</td>\n",
       "      <td>10.824677</td>\n",
       "      <td>8.554421</td>\n",
       "      <td>10.367084</td>\n",
       "    </tr>\n",
       "    <tr>\n",
       "      <th>3</th>\n",
       "      <td>0.0</td>\n",
       "      <td>37.0</td>\n",
       "      <td>1.0</td>\n",
       "      <td>3.567006</td>\n",
       "      <td>3.393262</td>\n",
       "      <td>3.477423</td>\n",
       "      <td>3.000214</td>\n",
       "      <td>3.190889</td>\n",
       "      <td>3.070480</td>\n",
       "      <td>2.543753</td>\n",
       "      <td>...</td>\n",
       "      <td>11.871873</td>\n",
       "      <td>9.948733</td>\n",
       "      <td>6.094711</td>\n",
       "      <td>4.479720</td>\n",
       "      <td>10.832092</td>\n",
       "      <td>10.253960</td>\n",
       "      <td>3.735004</td>\n",
       "      <td>10.505996</td>\n",
       "      <td>8.786537</td>\n",
       "      <td>9.695719</td>\n",
       "    </tr>\n",
       "    <tr>\n",
       "      <th>4</th>\n",
       "      <td>0.0</td>\n",
       "      <td>61.0</td>\n",
       "      <td>1.0</td>\n",
       "      <td>4.034010</td>\n",
       "      <td>3.607132</td>\n",
       "      <td>2.822304</td>\n",
       "      <td>3.712049</td>\n",
       "      <td>3.126172</td>\n",
       "      <td>3.017512</td>\n",
       "      <td>2.949723</td>\n",
       "      <td>...</td>\n",
       "      <td>11.931741</td>\n",
       "      <td>10.017533</td>\n",
       "      <td>6.085654</td>\n",
       "      <td>3.807143</td>\n",
       "      <td>10.252109</td>\n",
       "      <td>10.396369</td>\n",
       "      <td>4.112947</td>\n",
       "      <td>10.797622</td>\n",
       "      <td>8.826644</td>\n",
       "      <td>8.821104</td>\n",
       "    </tr>\n",
       "  </tbody>\n",
       "</table>\n",
       "<p>5 rows × 1583032 columns</p>\n",
       "</div>"
      ],
      "text/plain": [
       "   Psoriasis   Age  Gender  -0.001001579  -0.010425045  -0.045320336  \\\n",
       "0        0.0  56.0     1.0      3.293947      3.344254      3.049427   \n",
       "1        0.0  20.0     0.0      2.295976      3.490590      3.402046   \n",
       "2        0.0  51.0     0.0      2.878075      3.642838      3.281445   \n",
       "3        0.0  37.0     1.0      3.567006      3.393262      3.477423   \n",
       "4        0.0  61.0     1.0      4.034010      3.607132      2.822304   \n",
       "\n",
       "   -0.046967808  -0.069891929  -0.081080626  -0.093186199  ...       9987  \\\n",
       "0      3.489313      3.713489      3.182711      2.885457  ...  11.631593   \n",
       "1      3.960615      2.295976      3.209781      3.380016  ...  11.685883   \n",
       "2      3.630912      2.878075      3.658581      3.466199  ...  11.823756   \n",
       "3      3.000214      3.190889      3.070480      2.543753  ...  11.871873   \n",
       "4      3.712049      3.126172      3.017512      2.949723  ...  11.931741   \n",
       "\n",
       "        9988      9989       999       9990       9991      9992       9993  \\\n",
       "0   9.914236  5.934949  4.756848  10.265351  10.109506  4.033606  11.065690   \n",
       "1   9.888024  5.981049  3.573693  10.808423  10.135307  3.854406  10.578108   \n",
       "2   9.977897  5.965869  4.439257  10.669074  10.243314  4.174246  10.824677   \n",
       "3   9.948733  6.094711  4.479720  10.832092  10.253960  3.735004  10.505996   \n",
       "4  10.017533  6.085654  3.807143  10.252109  10.396369  4.112947  10.797622   \n",
       "\n",
       "       9994       9997  \n",
       "0  8.733339   9.681242  \n",
       "1  8.207179   9.830063  \n",
       "2  8.554421  10.367084  \n",
       "3  8.786537   9.695719  \n",
       "4  8.826644   8.821104  \n",
       "\n",
       "[5 rows x 1583032 columns]"
      ]
     },
     "execution_count": 11,
     "metadata": {},
     "output_type": "execute_result"
    }
   ],
   "source": [
    "merged_data.head()"
   ]
  },
  {
   "cell_type": "code",
   "execution_count": null,
   "metadata": {
    "ExecuteTime": {
     "end_time": "2024-01-02T01:03:36.401002087Z",
     "start_time": "2024-01-02T01:03:36.400659608Z"
    },
    "collapsed": false
   },
   "outputs": [],
   "source": [
    "# If both age and gender features are available, select 'age' as the condition.\n",
    "condition = 'Age'\n",
    "# Remove the other condition to prevent interference.\n",
    "merged_data = merged_data.drop(columns=['Gender'], errors='ignore').astype('float')"
   ]
  },
  {
   "cell_type": "code",
   "execution_count": null,
   "metadata": {
    "ExecuteTime": {
     "end_time": "2024-01-02T01:03:36.403035823Z",
     "start_time": "2024-01-02T01:03:36.401081946Z"
    },
    "collapsed": false
   },
   "outputs": [],
   "source": [
    "X = merged_data.drop(columns=[TRAIT, condition]).values\n",
    "Y = merged_data[TRAIT].values\n",
    "Z = merged_data[condition].values"
   ]
  },
  {
   "cell_type": "markdown",
   "metadata": {
    "collapsed": false
   },
   "source": [
    "Select the appropriate regression model depending on whether the dataset shows batch effect."
   ]
  },
  {
   "cell_type": "code",
   "execution_count": null,
   "metadata": {
    "ExecuteTime": {
     "end_time": "2024-01-02T01:03:36.403263628Z",
     "start_time": "2024-01-02T01:03:36.401336170Z"
    },
    "collapsed": false
   },
   "outputs": [
    {
     "data": {
      "text/plain": [
       "True"
      ]
     },
     "execution_count": 19,
     "metadata": {},
     "output_type": "execute_result"
    }
   ],
   "source": [
    "has_batch_effect = detect_batch_effect(X)\n",
    "has_batch_effect"
   ]
  },
  {
   "cell_type": "code",
   "execution_count": null,
   "metadata": {
    "ExecuteTime": {
     "end_time": "2024-01-02T01:03:36.475053437Z",
     "start_time": "2024-01-02T01:03:36.444397231Z"
    },
    "collapsed": false
   },
   "outputs": [],
   "source": [
    "\n",
    "if has_batch_effect:\n",
    "    model_constructor1 = VariableSelection\n",
    "    model_params1 = {'modified': True, 'lamda': 3e-4}\n",
    "    model_constructor2 = VariableSelection\n",
    "    model_params2 = {'modified': False}\n",
    "else:\n",
    "    model_constructor1 = Lasso\n",
    "    model_params1 = {'alpha': 1.0, 'random_state': 42}\n",
    "    model_constructor2 = VariableSelection\n",
    "    model_params2 = {'modified': False}"
   ]
  },
  {
   "cell_type": "code",
   "execution_count": null,
   "metadata": {
    "ExecuteTime": {
     "end_time": "2024-01-02T01:03:50.733335364Z",
     "start_time": "2024-01-02T01:03:36.444563711Z"
    },
    "collapsed": false
   },
   "outputs": [
    {
     "name": "stdout",
     "output_type": "stream",
     "text": [
      "The cross-validation accuracy is 56.84% ± 4.59%\n"
     ]
    }
   ],
   "source": [
    "trait_type = 'binary'  # Remember to set this properly, either 'binary' or 'continuous'\n",
    "cv_mean1, cv_std1 = cross_validation(X, Y, Z, model_constructor1, model_params1, target_type=trait_type)"
   ]
  },
  {
   "cell_type": "code",
   "execution_count": null,
   "metadata": {},
   "outputs": [],
   "source": [
    "cv_mean2, cv_std2 = cross_validation(X, Y, Z, model_constructor2, model_params2, target_type=trait_type)"
   ]
  },
  {
   "cell_type": "code",
   "execution_count": null,
   "metadata": {
    "ExecuteTime": {
     "end_time": "2024-01-02T01:03:53.587340410Z",
     "start_time": "2024-01-02T01:03:50.732779025Z"
    },
    "collapsed": false
   },
   "outputs": [],
   "source": [
    "normalized_X, _ = normalize_data(X)\n",
    "normalized_Z, _ = normalize_data(Z)\n",
    "\n",
    "# Train regression model on the whole dataset to identify significant genes\n",
    "model1 = ResidualizationRegressor(model_constructor1, model_params1)\n",
    "model1.fit(normalized_X, Y, normalized_Z)\n",
    "\n",
    "model2 = ResidualizationRegressor(model_constructor2, model_params2)\n",
    "model2.fit(normalized_X, Y, normalized_Z)"
   ]
  },
  {
   "cell_type": "markdown",
   "metadata": {
    "ExecuteTime": {
     "end_time": "2023-10-14T04:50:59.072075075Z",
     "start_time": "2023-10-14T04:50:38.739499998Z"
    },
    "id": "EjJrxbvb4nlj"
   },
   "source": [
    "### 5. Discussion and report"
   ]
  },
  {
   "cell_type": "code",
   "execution_count": null,
   "metadata": {
    "ExecuteTime": {
     "end_time": "2024-01-02T01:03:53.641570844Z",
     "start_time": "2024-01-02T01:03:53.627778553Z"
    },
    "collapsed": false
   },
   "outputs": [
    {
     "name": "stdout",
     "output_type": "stream",
     "text": [
      "Effect of the condition on the target variable:\n",
      "Variable: Age\n",
      "Coefficient: 0.0025\n",
      "Found 547 significant genes associated with the trait 'Psoriasis' conditional on the factor 'Age', with corrected p-value < 0.05:\n",
      "   Variable  Coefficient  corrected_p_value\n",
      "4.430015695     0.087750           0.001231\n",
      "4.478193647     0.087750           0.001231\n",
      "4.478966158     0.087750           0.001231\n",
      " 4.48687579     0.087750           0.001231\n",
      "4.491851159     0.087750           0.001231\n",
      "4.492453853     0.087750           0.001231\n",
      "4.494270678     0.087750           0.001231\n",
      "4.504245863     0.087750           0.001231\n",
      "4.505190735     0.087750           0.001231\n",
      "4.505235806     0.087750           0.001231\n",
      "4.506891502     0.087750           0.001231\n",
      "4.510669146     0.087750           0.001231\n",
      "4.476613942     0.087750           0.001231\n",
      " 4.51198966     0.087750           0.001231\n",
      "4.513528153     0.087750           0.001231\n",
      "4.516930407     0.087750           0.001231\n",
      "4.806825082     0.087750           0.001231\n",
      "4.806472355     0.087750           0.001231\n",
      "4.803063266     0.087750           0.001231\n",
      " 4.52918761     0.087750           0.001231\n",
      "4.531488153     0.087750           0.001231\n",
      "4.796764234     0.087750           0.001231\n",
      "4.534374587     0.087750           0.001231\n",
      "4.544427446     0.087750           0.001231\n",
      " 4.54592774     0.087750           0.001231\n",
      "4.512419391     0.087750           0.001231\n",
      "4.549525143     0.087750           0.001231\n",
      "4.808785555     0.087750           0.001231\n",
      "4.822091729     0.087750           0.001231\n",
      "4.879190448     0.087750           0.001231\n",
      "4.425075714     0.087750           0.001231\n",
      " 4.72671124     0.087750           0.001231\n",
      "4.874043922     0.087750           0.001231\n",
      "4.433027679     0.087750           0.001231\n",
      "4.433355205     0.087750           0.001231\n",
      "4.872522198     0.087750           0.001231\n",
      "4.867851455     0.087750           0.001231\n",
      "4.442816841     0.087750           0.001231\n",
      " 4.85813597     0.087750           0.001231\n",
      "4.443660273     0.087750           0.001231\n",
      "4.473690178     0.087750           0.001231\n",
      "9.425064512     0.087750           0.001231\n",
      "4.854220574     0.087750           0.001231\n",
      " 4.83766585     0.087750           0.001231\n",
      "4.451208778     0.087750           0.001231\n",
      " 4.45407269     0.087750           0.001231\n",
      "4.454379679     0.087750           0.001231\n",
      "4.462918625     0.087750           0.001231\n",
      "4.834657195     0.087750           0.001231\n",
      " 4.46650314     0.087750           0.001231\n",
      "4.829760096     0.087750           0.001231\n",
      "4.467820996     0.087750           0.001231\n",
      "4.472055203     0.087750           0.001231\n",
      "4.445849705     0.087750           0.001231\n",
      "4.553736052     0.087750           0.001231\n",
      "4.557001614     0.087750           0.001231\n",
      "4.562842786     0.087750           0.001231\n",
      " 4.66556908     0.087750           0.001231\n",
      "4.759488929     0.087750           0.001231\n",
      "5.382735413     0.087750           0.001231\n",
      "4.671919882     0.087750           0.001231\n",
      "4.674761185     0.087750           0.001231\n",
      "4.675411221     0.087750           0.001231\n",
      "4.675683407     0.087750           0.001231\n",
      "4.676411081     0.087750           0.001231\n",
      "4.677967937     0.087750           0.001231\n",
      " 4.67982582     0.087750           0.001231\n",
      "4.687264924     0.087750           0.001231\n",
      "4.761181767     0.087750           0.001231\n",
      "4.741530021     0.087750           0.001231\n",
      "4.694839273     0.087750           0.001231\n",
      "4.698885868     0.087750           0.001231\n",
      "4.740506814     0.087750           0.001231\n",
      "4.740286147     0.087750           0.001231\n",
      "4.737399443     0.087750           0.001231\n",
      "4.735885263     0.087750           0.001231\n",
      "4.706862811     0.087750           0.001231\n",
      "4.710628179     0.087750           0.001231\n",
      "4.711292054     0.087750           0.001231\n",
      "4.732035059     0.087750           0.001231\n",
      "4.731468703     0.087750           0.001231\n",
      "4.688632873     0.087750           0.001231\n",
      "4.762588577     0.087750           0.001231\n",
      "4.646725963     0.087750           0.001231\n",
      "4.638217769     0.087750           0.001231\n",
      "4.563282175     0.087750           0.001231\n",
      "4.569090452     0.087750           0.001231\n",
      "4.569402987     0.087750           0.001231\n",
      "4.570215076     0.087750           0.001231\n",
      "4.791240988     0.087750           0.001231\n",
      "4.576024053     0.087750           0.001231\n",
      "4.577675667     0.087750           0.001231\n",
      "4.580291854     0.087750           0.001231\n",
      " 4.78606554     0.087750           0.001231\n",
      "4.584420045     0.087750           0.001231\n",
      "4.592759769     0.087750           0.001231\n",
      "4.785193456     0.087750           0.001231\n",
      " 4.59360188     0.087750           0.001231\n",
      "4.781238383     0.087750           0.001231\n",
      "4.613865121     0.087750           0.001231\n",
      " 4.61675507     0.087750           0.001231\n",
      " 4.77870642     0.087750           0.001231\n",
      "4.618744882     0.087750           0.001231\n",
      "4.625252145     0.087750           0.001231\n",
      "4.625901327     0.087750           0.001231\n",
      "4.626864304     0.087750           0.001231\n",
      "4.628349104     0.087750           0.001231\n",
      "4.628600501     0.087750           0.001231\n",
      "4.629169422     0.087750           0.001231\n",
      "4.777291454     0.087750           0.001231\n",
      "4.881373687     0.087750           0.001231\n",
      "4.882400311     0.087750           0.001231\n",
      "4.725623522     0.087750           0.001231\n",
      "4.885354833     0.087750           0.001231\n",
      "5.057111612     0.087750           0.001231\n",
      "4.041850755     0.087750           0.001231\n",
      "4.054082796     0.087750           0.001231\n",
      "4.081967423     0.087750           0.001231\n",
      "4.083330148     0.087750           0.001231\n",
      "5.017545177     0.087750           0.001231\n",
      "5.012285797     0.087750           0.001231\n",
      " 4.10018943     0.087750           0.001231\n",
      "4.106355402     0.087750           0.001231\n",
      "5.004567345     0.087750           0.001231\n",
      "4.117590782     0.087750           0.001231\n",
      "4.119019499     0.087750           0.001231\n",
      " 4.11939731     0.087750           0.001231\n",
      "4.140588201     0.087750           0.001231\n",
      "4.141023152     0.087750           0.001231\n",
      "4.145826358     0.087750           0.001231\n",
      "4.147083099     0.087750           0.001231\n",
      "4.149737552     0.087750           0.001231\n",
      "4.412978608     0.087750           0.001231\n",
      "4.167091893     0.087750           0.001231\n",
      "5.002045104     0.087750           0.001231\n",
      "5.059731601     0.087750           0.001231\n",
      "4.000440652     0.087750           0.001231\n",
      " 5.06293084     0.087750           0.001231\n",
      " 5.06881156     0.087750           0.001231\n",
      "5.313396949     0.087750           0.001231\n",
      " 5.46270626     0.087750           0.001231\n",
      " 5.27152682     0.087750           0.001231\n",
      "5.508126353     0.087750           0.001231\n",
      "5.240872109     0.087750           0.001231\n",
      "5.232109065     0.087750           0.001231\n",
      "5.228262845     0.087750           0.001231\n",
      "5.195595077     0.087750           0.001231\n",
      "5.176185101     0.087750           0.001231\n",
      "      80069     0.087750           0.001231\n",
      "4.198656864     0.087750           0.001231\n",
      "5.155229124     0.087750           0.001231\n",
      "3.711122839     0.087750           0.001231\n",
      "3.812795596     0.087750           0.001231\n",
      " 5.11329107     0.087750           0.001231\n",
      "3.864205214     0.087750           0.001231\n",
      "5.093487128     0.087750           0.001231\n",
      "3.968169551     0.087750           0.001231\n",
      "3.974118074     0.087750           0.001231\n",
      "3.978228552     0.087750           0.001231\n",
      "5.075086942     0.087750           0.001231\n",
      "5.072285198     0.087750           0.001231\n",
      "5.137355125     0.087750           0.001231\n",
      "4.209792546     0.087750           0.001231\n",
      "4.152990359     0.087750           0.001231\n",
      "4.319029457     0.087750           0.001231\n",
      "4.916043318     0.087750           0.001231\n",
      "4.292743021     0.087750           0.001231\n",
      "4.296486459     0.087750           0.001231\n",
      "4.301166569     0.087750           0.001231\n",
      "4.937820613     0.087750           0.001231\n",
      "4.915852772     0.087750           0.001231\n",
      "4.387185664     0.087750           0.001231\n",
      " 4.93147037     0.087750           0.001231\n",
      "4.329078894     0.087750           0.001231\n",
      "4.333274697     0.087750           0.001231\n",
      "4.333476552     0.087750           0.001231\n",
      "4.336026182     0.087750           0.001231\n",
      "4.925435038     0.087750           0.001231\n",
      " 4.34169289     0.087750           0.001231\n",
      "4.344970312     0.087750           0.001231\n",
      "4.915904215     0.087750           0.001231\n",
      "6.441467272     0.087750           0.001231\n",
      "4.919615221     0.087750           0.001231\n",
      "4.373771291     0.087750           0.001231\n",
      "4.908478529     0.087750           0.001231\n",
      "4.943758394     0.087750           0.001231\n",
      "4.914002154     0.087750           0.001231\n",
      "4.268435099     0.087750           0.001231\n",
      "4.978086668     0.087750           0.001231\n",
      "4.215195928     0.087750           0.001231\n",
      "4.216662741     0.087750           0.001231\n",
      "4.400491944     0.087750           0.001231\n",
      "4.217929364     0.087750           0.001231\n",
      "4.949575543     0.087750           0.001231\n",
      "4.233205941     0.087750           0.001231\n",
      "4.235668089     0.087750           0.001231\n",
      "4.386314592     0.087750           0.001231\n",
      " 4.24313456     0.087750           0.001231\n",
      "4.949861934     0.087750           0.001231\n",
      "4.906360475     0.087750           0.001231\n",
      "4.241935396     0.087750           0.001231\n",
      "4.249585891     0.087750           0.001231\n",
      "4.254832845     0.087750           0.001231\n",
      "4.395653877     0.087750           0.001231\n",
      "4.890120978     0.087750           0.001231\n",
      "9.184293909     0.108569           0.001709\n",
      "      84916     0.083592           0.002061\n",
      "      84818     0.074710           0.002711\n",
      "8.969393233     0.094545           0.004001\n",
      "9.125045569    -0.151916           0.005308\n",
      "       5356    -0.151916           0.005308\n",
      "4.733036243    -0.109810           0.007405\n",
      "5.343763975    -0.109810           0.007405\n",
      "5.194111389    -0.109810           0.007405\n",
      "5.313040586    -0.109810           0.007405\n",
      "4.802121823    -0.109810           0.007405\n",
      "4.920244775    -0.109810           0.007405\n",
      "4.795398239    -0.109810           0.007405\n",
      "4.794661995    -0.109810           0.007405\n",
      "4.991742514    -0.109810           0.007405\n",
      "5.846474378    -0.109810           0.007405\n",
      "4.965010199    -0.109810           0.007405\n",
      "5.669965495    -0.109810           0.007405\n",
      "4.794148887    -0.109810           0.007405\n",
      "4.964243443    -0.109810           0.007405\n",
      "4.941959571    -0.109810           0.007405\n",
      "5.022275543    -0.109810           0.007405\n",
      "5.031175535    -0.109810           0.007405\n",
      "4.931694217    -0.109810           0.007405\n",
      "4.814359096    -0.109810           0.007405\n",
      " 4.97924616    -0.109810           0.007405\n",
      "4.765588599    -0.109810           0.007405\n",
      "4.917185337    -0.109810           0.007405\n",
      "9.594389045     0.375357           0.007405\n",
      " 4.66619639    -0.109810           0.007405\n",
      "4.719733385    -0.109810           0.007405\n",
      "4.289631413    -0.109810           0.007405\n",
      "4.306570925    -0.109810           0.007405\n",
      "4.316321809    -0.109810           0.007405\n",
      "4.318116539    -0.109810           0.007405\n",
      "4.341070475    -0.109810           0.007405\n",
      "4.345931906    -0.109810           0.007405\n",
      "4.366991949    -0.109810           0.007405\n",
      "4.368022818    -0.109810           0.007405\n",
      "4.379190072    -0.109810           0.007405\n",
      " 4.38693764    -0.109810           0.007405\n",
      "4.388550112    -0.109810           0.007405\n",
      "4.393234036    -0.109810           0.007405\n",
      " 4.39410031    -0.109810           0.007405\n",
      "4.396921589    -0.109810           0.007405\n",
      " 4.40460193    -0.109810           0.007405\n",
      "4.413855811    -0.109810           0.007405\n",
      "4.417902492    -0.109810           0.007405\n",
      "4.276988391    -0.109810           0.007405\n",
      "4.270026284    -0.109810           0.007405\n",
      "4.265507679    -0.109810           0.007405\n",
      "4.260529712    -0.109810           0.007405\n",
      "9.136524971     0.269209           0.007405\n",
      "3.556741279    -0.109810           0.007405\n",
      "3.576488063    -0.109810           0.007405\n",
      "3.659064023    -0.109810           0.007405\n",
      "3.700422652    -0.109810           0.007405\n",
      "3.841942702    -0.109810           0.007405\n",
      "3.960951441    -0.109810           0.007405\n",
      "      64849    -0.109810           0.007405\n",
      "4.421387222    -0.109810           0.007405\n",
      "4.007681275    -0.109810           0.007405\n",
      "4.725497375    -0.109810           0.007405\n",
      "4.093456467    -0.109810           0.007405\n",
      "4.111944369    -0.109810           0.007405\n",
      "4.128702441    -0.109810           0.007405\n",
      "4.187280255    -0.109810           0.007405\n",
      "4.191354084    -0.109810           0.007405\n",
      "4.212589315    -0.109810           0.007405\n",
      "  4.2183996    -0.109810           0.007405\n",
      " 4.01276489    -0.109810           0.007405\n",
      "4.431010853    -0.109810           0.007405\n",
      "4.086876467    -0.109810           0.007405\n",
      "4.475337359    -0.109810           0.007405\n",
      "4.546668716    -0.109810           0.007405\n",
      "4.539182766    -0.109810           0.007405\n",
      "4.442326388    -0.109810           0.007405\n",
      "4.652766681    -0.109810           0.007405\n",
      "4.574047715    -0.109810           0.007405\n",
      "4.532817765    -0.109810           0.007405\n",
      "4.532723667    -0.109810           0.007405\n",
      "4.611508044    -0.109810           0.007405\n",
      "4.529061678    -0.109810           0.007405\n",
      "4.520825584    -0.109810           0.007405\n",
      "4.518832117    -0.109810           0.007405\n",
      "4.584256544    -0.109810           0.007405\n",
      "4.473014588    -0.109810           0.007405\n",
      "4.617144012    -0.109810           0.007405\n",
      "4.593153584    -0.109810           0.007405\n",
      "4.472706214    -0.109810           0.007405\n",
      "4.467597156    -0.109810           0.007405\n",
      "4.463983441    -0.109810           0.007405\n",
      "4.712299652    -0.109810           0.007405\n",
      "4.447130026    -0.109810           0.007405\n",
      "4.701745991    -0.109810           0.007405\n",
      " 4.44702525    -0.109810           0.007405\n",
      " 4.44403655    -0.109810           0.007405\n",
      "4.443145944    -0.109810           0.007405\n",
      "4.711576412    -0.109810           0.007405\n",
      " 4.65147927    -0.109810           0.007405\n",
      "4.665851094    -0.109810           0.007405\n",
      "4.636271161    -0.109810           0.007405\n",
      "4.688390434    -0.109810           0.007405\n",
      "6.622567681     0.163494           0.007905\n",
      "8.902917609     0.163049           0.009066\n",
      "  100505942     0.070249           0.010743\n",
      "2.900145612     0.082946           0.010829\n",
      "3.132911066     0.093890           0.012257\n",
      "3.539205038     0.101398           0.012411\n",
      "2.950159801     0.080531           0.015226\n",
      "5.118491552     0.109830           0.016862\n",
      "     284801     0.077680           0.018406\n",
      "5.516859444     0.136176           0.020458\n",
      "5.511320044     0.071235           0.022634\n",
      "       8799    -0.138743           0.022634\n",
      "5.505902525     0.071235           0.022634\n",
      "5.519523062     0.071235           0.022634\n",
      "5.498729942     0.071235           0.022634\n",
      "5.520746811     0.071235           0.022634\n",
      "5.521513569     0.071235           0.022634\n",
      "5.497501968     0.071235           0.022634\n",
      "5.522303597     0.071235           0.022634\n",
      "5.493562243     0.071235           0.022634\n",
      "5.879436076     0.071235           0.022634\n",
      " 5.49122468     0.071235           0.022634\n",
      "5.489772704     0.071235           0.022634\n",
      "5.507072378     0.071235           0.022634\n",
      "  6.0046947     0.071235           0.022634\n",
      "5.466429547     0.071235           0.022634\n",
      "5.485280093     0.071235           0.022634\n",
      "5.395626179     0.071235           0.022634\n",
      "5.409952463     0.071235           0.022634\n",
      "5.412615463     0.071235           0.022634\n",
      " 5.41341278     0.071235           0.022634\n",
      "5.416510981     0.071235           0.022634\n",
      "5.425395151     0.071235           0.022634\n",
      "5.430895559     0.071235           0.022634\n",
      "5.435578418     0.071235           0.022634\n",
      "5.439038169     0.071235           0.022634\n",
      "5.440627364     0.071235           0.022634\n",
      "5.444812733     0.071235           0.022634\n",
      "5.450736284     0.071235           0.022634\n",
      "5.489361126     0.071235           0.022634\n",
      "5.455436356     0.071235           0.022634\n",
      "5.458195499     0.071235           0.022634\n",
      "5.458546033     0.071235           0.022634\n",
      "9.147110417     0.192527           0.022634\n",
      "9.145100121     0.132672           0.022634\n",
      " 5.45929722     0.071235           0.022634\n",
      "5.529422719     0.071235           0.022634\n",
      "5.470915076     0.071235           0.022634\n",
      "5.471456973     0.071235           0.022634\n",
      " 5.47178808     0.071235           0.022634\n",
      "5.475927233     0.071235           0.022634\n",
      "5.479681639     0.071235           0.022634\n",
      "5.480777272     0.071235           0.022634\n",
      "5.457922537     0.071235           0.022634\n",
      "5.532383116     0.071235           0.022634\n",
      "5.561676216     0.071235           0.022634\n",
      "5.533415049     0.071235           0.022634\n",
      "5.651691119     0.071235           0.022634\n",
      "5.654114655     0.071235           0.022634\n",
      "5.665260488     0.071235           0.022634\n",
      "5.689015492     0.071235           0.022634\n",
      "5.692674268     0.071235           0.022634\n",
      "5.702507073     0.071235           0.022634\n",
      " 6.51733961     0.071235           0.022634\n",
      "5.858814695     0.071235           0.022634\n",
      "5.928937137     0.071235           0.022634\n",
      "5.708868259     0.071235           0.022634\n",
      "5.733920315     0.071235           0.022634\n",
      "5.650808929     0.071235           0.022634\n",
      "5.935705084     0.071235           0.022634\n",
      "5.741333405     0.071235           0.022634\n",
      "5.743300741     0.071235           0.022634\n",
      "5.838653537     0.071235           0.022634\n",
      "5.760046366     0.071235           0.022634\n",
      "6.373141434     0.071235           0.022634\n",
      "5.838634595     0.071235           0.022634\n",
      "5.778202655     0.071235           0.022634\n",
      "5.824089777     0.071235           0.022634\n",
      "5.815976395     0.071235           0.022634\n",
      "5.788813448     0.071235           0.022634\n",
      "5.791455985     0.071235           0.022634\n",
      "5.740400588     0.071235           0.022634\n",
      "5.894532745     0.071235           0.022634\n",
      "5.643342137     0.071235           0.022634\n",
      "5.640985491     0.071235           0.022634\n",
      "5.535230839     0.071235           0.022634\n",
      "5.535951388     0.071235           0.022634\n",
      "5.537262887     0.071235           0.022634\n",
      " 5.53781128     0.071235           0.022634\n",
      "5.538585441     0.071235           0.022634\n",
      " 5.53972973     0.071235           0.022634\n",
      "5.539808734     0.071235           0.022634\n",
      "5.923377702     0.071235           0.022634\n",
      "5.540530373     0.071235           0.022634\n",
      "5.550127232     0.071235           0.022634\n",
      "5.550339562     0.071235           0.022634\n",
      "6.932588565     0.071235           0.022634\n",
      "5.563443024     0.071235           0.022634\n",
      "5.572493637     0.071235           0.022634\n",
      "8.894525703    -0.138743           0.022634\n",
      "5.575347692     0.071235           0.022634\n",
      "8.773624098    -0.138743           0.022634\n",
      "5.579069232     0.071235           0.022634\n",
      "5.582667089     0.071235           0.022634\n",
      " 5.92360053     0.071235           0.022634\n",
      "5.589407044     0.071235           0.022634\n",
      "5.602155125     0.071235           0.022634\n",
      "5.621517605     0.071235           0.022634\n",
      "5.629457437     0.071235           0.022634\n",
      " 5.56695549     0.071235           0.022634\n",
      "5.369865762     0.071235           0.022634\n",
      "10.96845059    -0.212239           0.022634\n",
      "5.364918105     0.071235           0.022634\n",
      " 4.94343232     0.071235           0.022634\n",
      "4.943857359     0.071235           0.022634\n",
      "4.958679834     0.071235           0.022634\n",
      "4.979255008     0.071235           0.022634\n",
      "4.982827995     0.071235           0.022634\n",
      "4.985146808     0.071235           0.022634\n",
      "5.002100387     0.071235           0.022634\n",
      "5.003701877     0.071235           0.022634\n",
      " 5.00685314     0.071235           0.022634\n",
      " 5.01961486     0.071235           0.022634\n",
      "5.024848414     0.071235           0.022634\n",
      "5.028718006     0.071235           0.022634\n",
      " 5.03566348     0.071235           0.022634\n",
      "5.041095524     0.071235           0.022634\n",
      "5.041345016     0.071235           0.022634\n",
      " 5.05123636     0.071235           0.022634\n",
      "5.365697584     0.071235           0.022634\n",
      "5.063807942     0.071235           0.022634\n",
      "5.066785974     0.071235           0.022634\n",
      "5.069203363     0.071235           0.022634\n",
      "5.078474069     0.071235           0.022634\n",
      "5.082658681     0.071235           0.022634\n",
      "5.097997726     0.071235           0.022634\n",
      "4.935183963     0.071235           0.022634\n",
      "4.918740139     0.071235           0.022634\n",
      "4.898400571     0.071235           0.022634\n",
      "4.878153319     0.071235           0.022634\n",
      "11.00004335    -0.164449           0.022634\n",
      "12.75698068     0.071235           0.022634\n",
      "3.384080486     0.081070           0.022634\n",
      "3.579903005     0.080853           0.022634\n",
      " 3.95143502     0.071235           0.022634\n",
      "3.994042715    -0.108209           0.022634\n",
      "     387742     0.071235           0.022634\n",
      "4.211827094     0.071235           0.022634\n",
      "4.348840492     0.071235           0.022634\n",
      "4.389641267     0.071235           0.022634\n",
      "4.519774222     0.071235           0.022634\n",
      "5.103350591     0.071235           0.022634\n",
      "4.534302897     0.071235           0.022634\n",
      "4.665251156     0.071235           0.022634\n",
      "4.700151783     0.071235           0.022634\n",
      "4.704327123     0.071235           0.022634\n",
      "  4.7065898     0.071235           0.022634\n",
      " 4.78970593     0.071235           0.022634\n",
      " 4.79416188     0.071235           0.022634\n",
      "4.825101141     0.071235           0.022634\n",
      "4.835215442     0.071235           0.022634\n",
      "4.840146602     0.071235           0.022634\n",
      "4.858889905     0.071235           0.022634\n",
      "4.867427946     0.071235           0.022634\n",
      "4.570598065     0.071235           0.022634\n",
      "5.104584953     0.071235           0.022634\n",
      "5.059210022     0.071235           0.022634\n",
      "5.112538008     0.071235           0.022634\n",
      "5.290964545     0.071235           0.022634\n",
      "5.291391052     0.071235           0.022634\n",
      "5.291922406     0.071235           0.022634\n",
      "5.294773978     0.071235           0.022634\n",
      "5.106676657     0.071235           0.022634\n",
      "5.300526949     0.071235           0.022634\n",
      "5.310376016     0.071235           0.022634\n",
      "5.313680782     0.071235           0.022634\n",
      "5.314810709     0.071235           0.022634\n",
      "5.315582837     0.071235           0.022634\n",
      "5.316469301     0.071235           0.022634\n",
      "5.287627795     0.071235           0.022634\n",
      "5.317036734     0.071235           0.022634\n",
      "5.318404087     0.071235           0.022634\n",
      "5.322299905     0.071235           0.022634\n",
      "5.327320637     0.071235           0.022634\n",
      "5.339288366     0.071235           0.022634\n",
      "5.343917283     0.071235           0.022634\n",
      "5.352475339     0.071235           0.022634\n",
      "5.356389778     0.071235           0.022634\n",
      "5.360868154     0.071235           0.022634\n",
      "5.361456451     0.071235           0.022634\n",
      " 5.36396828     0.071235           0.022634\n",
      "5.364493538     0.071235           0.022634\n",
      "5.318197403     0.071235           0.022634\n",
      "5.278731207     0.071235           0.022634\n",
      "5.296934746     0.071235           0.022634\n",
      "5.156886031     0.071235           0.022634\n",
      "5.114546941     0.071235           0.022634\n",
      "5.126895892     0.071235           0.022634\n",
      "5.142113918     0.071235           0.022634\n",
      "5.146275938     0.071235           0.022634\n",
      "5.147940142     0.071235           0.022634\n",
      "5.151106843     0.071235           0.022634\n",
      "5.152029269     0.071235           0.022634\n",
      "5.152901089     0.071235           0.022634\n",
      "5.276190952     0.071235           0.022634\n",
      "5.167212712     0.071235           0.022634\n",
      "5.181135543     0.071235           0.022634\n",
      " 5.19541624     0.071235           0.022634\n",
      "5.202166996     0.071235           0.022634\n",
      "4.855012788     0.071235           0.022634\n",
      "5.234474009     0.071235           0.022634\n",
      "5.239062658     0.071235           0.022634\n",
      "5.272783073     0.071235           0.022634\n",
      "5.244963003     0.071235           0.022634\n",
      "5.266402589     0.071235           0.022634\n",
      "5.248996201     0.071235           0.022634\n",
      "5.249722029     0.071235           0.022634\n",
      "5.263867103     0.071235           0.022634\n",
      "5.251816286     0.071235           0.022634\n",
      "5.261657433     0.071235           0.022634\n",
      "5.255367742     0.071235           0.022634\n",
      "5.218994709     0.071235           0.022634\n",
      "4.027502961    -0.120462           0.022692\n",
      "11.27369242    -0.286784           0.023162\n",
      "3.983532258     0.077339           0.024090\n",
      "3.470195675     0.075224           0.030735\n",
      "5.701501751     0.215165           0.031079\n",
      "4.434451174    -0.102141           0.032627\n",
      "8.846569903     0.154946           0.038505\n",
      "3.645867023     0.070060           0.039396\n",
      "3.022732127     0.070060           0.039396\n",
      "5.861471324     0.178796           0.040563\n",
      " 3.57053999     0.090656           0.043893\n",
      "9.089247562     0.134869           0.044630\n",
      "4.089061738    -0.116953           0.045933\n",
      "7.745020478     0.141581           0.047799\n",
      "4.915304527    -0.116762           0.048942\n",
      "3.996311684     0.089618           0.049238\n",
      "5.984827706     0.144979           0.049599\n"
     ]
    },
    {
     "name": "stderr",
     "output_type": "stream",
     "text": [
      "/home/yxcheng/AI4Science_gold_standard/stage1/Yuxuan/utils.py:425: SettingWithCopyWarning: \n",
      "A value is trying to be set on a copy of a slice from a DataFrame.\n",
      "Try using .loc[row_indexer,col_indexer] = value instead\n",
      "\n",
      "See the caveats in the documentation: https://pandas.pydata.org/pandas-docs/stable/user_guide/indexing.html#returning-a-view-versus-a-copy\n",
      "  gene_regression_df.loc[:, 'corrected_p_value'] = corrected_p_values\n"
     ]
    }
   ],
   "source": [
    "\n",
    "feature_cols = merged_data.columns.tolist()\n",
    "feature_cols.remove(TRAIT)\n",
    "\n",
    "threshold = 0.05\n",
    "interpret_result(model1, feature_cols, TRAIT, condition, threshold=threshold, save_output=True,\n",
    "                 output_dir=OUTPUT_DIR, model_id=1)"
   ]
  },
  {
   "cell_type": "code",
   "execution_count": null,
   "metadata": {
    "collapsed": false
   },
   "outputs": [],
   "source": [
    "interpret_result(model2, feature_cols, TRAIT, condition, threshold=threshold, save_output=True,\n",
    "                 output_dir=OUTPUT_DIR, model_id=2)"
   ]
  }
 ],
 "metadata": {
  "colab": {
   "provenance": []
  },
  "kernelspec": {
   "display_name": "Python 3 (ipykernel)",
   "language": "python",
   "name": "python3"
  },
  "language_info": {
   "codemirror_mode": {
    "name": "ipython",
    "version": 3
   },
   "file_extension": ".py",
   "mimetype": "text/x-python",
   "name": "python",
   "nbconvert_exporter": "python",
   "pygments_lexer": "ipython3",
   "version": "3.11.8"
  }
 },
 "nbformat": 4,
 "nbformat_minor": 0
}
