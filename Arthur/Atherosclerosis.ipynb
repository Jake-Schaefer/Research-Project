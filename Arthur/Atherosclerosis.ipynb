{
 "cells": [
  {
   "cell_type": "markdown",
   "metadata": {
    "collapsed": false
   },
   "source": [
    "# Gold standard curation: Preprocessing and single-step regression"
   ]
  },
  {
   "cell_type": "markdown",
   "metadata": {
    "collapsed": false
   },
   "source": [
    "In this stage of gold standard curation, we will do the data preprocessing, selection, and single-step regression for the 153 traits in our question set. The workflow consists of the following steps:\n",
    "\n",
    "1. Preprocess all the cohorts related to this trait. Each cohort should be converted to a tabular form and saved to a csv file, with columns being genetic factors, the trait, and age, gender if available;\n",
    "2. If there exists at least one cohort with age or gender information, conduct regression analysis with genetic features together with age or gender as the regressors.\n"
   ]
  },
  {
   "cell_type": "markdown",
   "metadata": {
    "collapsed": false
   },
   "source": [
    "# 1. Basic setup"
   ]
  },
  {
   "cell_type": "code",
   "execution_count": 8,
   "metadata": {
    "ExecuteTime": {
     "end_time": "2024-01-02T01:02:53.240839272Z",
     "start_time": "2024-01-02T01:02:53.240575109Z"
    },
    "collapsed": false
   },
   "outputs": [],
   "source": [
    "import os\n",
    "import sys\n",
    "\n",
    "sys.path.append('..')\n",
    "# Set your preferred name\n",
    "USER = \"Yuxuan\"\n",
    "# Set the data and output directories\n",
    "DATA_ROOT = '/home/yxcheng'\n",
    "OUTPUT_ROOT = '../../output1'\n",
    "TRAIT = 'Atherosclerosis'\n",
    "\n",
    "OUTPUT_DIR = os.path.join(OUTPUT_ROOT, USER, '-'.join(TRAIT.split()))\n",
    "JSON_PATH = os.path.join(OUTPUT_DIR, \"cohort_info.json\")\n",
    "if not os.path.exists(OUTPUT_DIR):\n",
    "    os.makedirs(OUTPUT_DIR, exist_ok=True)\n",
    "\n",
    "# Gene symbol normalization may take 1-2 minutes. You may set it to False for debugging.\n",
    "NORMALIZE_GENE = True"
   ]
  },
  {
   "cell_type": "code",
   "execution_count": 9,
   "metadata": {
    "ExecuteTime": {
     "end_time": "2024-01-02T01:02:53.501910797Z",
     "start_time": "2024-01-02T01:02:53.496254990Z"
    },
    "colab": {
     "base_uri": "https://localhost:8080/"
    },
    "id": "jMTdsU43vVg3",
    "outputId": "38886111-f442-44b4-8398-96bf384d7abd"
   },
   "outputs": [
    {
     "data": {
      "text/plain": [
       "\"import os\\nfrom google.colab import drive\\n\\ndrive.mount('/content/drive', force_remount=True)\\nproj_dir = '/content/drive/MyDrive/AI4Science_Public'\\nos.chdir(proj_dir)\""
      ]
     },
     "execution_count": 9,
     "metadata": {},
     "output_type": "execute_result"
    }
   ],
   "source": [
    "# This cell is only for use on Google Colab. Skip it if you run your code in other environments\n",
    "\n",
    "\"\"\"import os\n",
    "from google.colab import drive\n",
    "\n",
    "drive.mount('/content/drive', force_remount=True)\n",
    "proj_dir = '/content/drive/MyDrive/AI4Science_Public'\n",
    "os.chdir(proj_dir)\"\"\""
   ]
  },
  {
   "cell_type": "markdown",
   "metadata": {
    "collapsed": false
   },
   "source": [
    "# 2. Data preprocessing and selection"
   ]
  },
  {
   "cell_type": "markdown",
   "metadata": {
    "collapsed": false
   },
   "source": [
    "## 2.1. The TCGA Xena dataset"
   ]
  },
  {
   "cell_type": "markdown",
   "metadata": {
    "collapsed": false
   },
   "source": [
    "In TCGA Xena, there is either zero or one cohort related to the trait. We search the names of subdirectories to see if any matches the trait. If a match is found, we directly obtain the file paths."
   ]
  },
  {
   "cell_type": "code",
   "execution_count": 10,
   "metadata": {
    "ExecuteTime": {
     "end_time": "2024-01-02T01:02:56.462746833Z",
     "start_time": "2024-01-02T01:02:55.818581842Z"
    },
    "collapsed": false
   },
   "outputs": [
    {
     "data": {
      "text/plain": [
       "['TCGA_Adrenocortical_Cancer_(ACC)',\n",
       " 'TCGA_Bile_Duct_Cancer_(CHOL)',\n",
       " 'TCGA_Lower_Grade_Glioma_(LGG)',\n",
       " 'TCGA_Acute_Myeloid_Leukemia_(LAML)',\n",
       " 'TCGA_Esophageal_Cancer_(ESCA)',\n",
       " 'TCGA_Thyroid_Cancer_(THCA)',\n",
       " 'TCGA_Ocular_melanomas_(UVM)',\n",
       " 'TCGA_Ovarian_Cancer_(OV)',\n",
       " 'TCGA_Prostate_Cancer_(PRAD)',\n",
       " 'CrawlData.ipynb',\n",
       " 'TCGA_Kidney_Papillary_Cell_Carcinoma_(KIRP)',\n",
       " 'TCGA_Lung_Cancer_(LUNG)',\n",
       " 'TCGA_Endometrioid_Cancer_(UCEC)',\n",
       " 'TCGA_Testicular_Cancer_(TGCT)',\n",
       " 'TCGA_lower_grade_glioma_and_glioblastoma_(GBMLGG)',\n",
       " 'TCGA_Pancreatic_Cancer_(PAAD)',\n",
       " 'TCGA_Glioblastoma_(GBM)',\n",
       " 'TCGA_Melanoma_(SKCM)',\n",
       " 'TCGA_Kidney_Clear_Cell_Carcinoma_(KIRC)',\n",
       " 'TCGA_Mesothelioma_(MESO)',\n",
       " 'TCGA_Rectal_Cancer_(READ)',\n",
       " 'TCGA_Head_and_Neck_Cancer_(HNSC)',\n",
       " 'TCGA_Large_Bcell_Lymphoma_(DLBC)',\n",
       " 'TCGA_Uterine_Carcinosarcoma_(UCS)',\n",
       " 'TCGA_Colon_Cancer_(COAD)',\n",
       " 'TCGA_Breast_Cancer_(BRCA)',\n",
       " 'TCGA_Bladder_Cancer_(BLCA)',\n",
       " 'TCGA_Sarcoma_(SARC)',\n",
       " 'TCGA_Lung_Squamous_Cell_Carcinoma_(LUSC)',\n",
       " 'TCGA_Cervical_Cancer_(CESC)',\n",
       " 'TCGA_Kidney_Chromophobe_(KICH)',\n",
       " 'TCGA_Stomach_Cancer_(STAD)',\n",
       " 'TCGA_Lung_Adenocarcinoma_(LUAD)',\n",
       " '.DS_Store',\n",
       " 'TCGA_Thymoma_(THYM)',\n",
       " 'TCGA_Colon_and_Rectal_Cancer_(COADREAD)',\n",
       " 'TCGA_Pheochromocytoma_Paraganglioma_(PCPG)',\n",
       " 'TCGA_Liver_Cancer_(LIHC)']"
      ]
     },
     "execution_count": 10,
     "metadata": {},
     "output_type": "execute_result"
    }
   ],
   "source": [
    "import os\n",
    "from utils import *\n",
    "\n",
    "dataset = 'TCGA'\n",
    "dataset_dir = os.path.join(DATA_ROOT, dataset)\n",
    "os.listdir(dataset_dir)[:]"
   ]
  },
  {
   "cell_type": "markdown",
   "metadata": {
    "collapsed": false
   },
   "source": [
    "If no match is found, jump directly to GEO in Part 2.2"
   ]
  },
  {
   "cell_type": "code",
   "execution_count": 27,
   "metadata": {
    "collapsed": false
   },
   "outputs": [],
   "source": [
    "trait_subdir = \"TCGA_Lung_Cancer_(LUNG)\"\n",
    "cohort = 'Xena'\n",
    "# All the cancer traits in Xena are binary\n",
    "trait_type = 'binary'\n",
    "# Once a relevant cohort is found in Xena, we can generally assume the gene and clinical data are available\n",
    "is_available = True\n",
    "\n",
    "clinical_data_file = os.path.join(dataset_dir, trait_subdir, 'TCGA.LUNG.sampleMap_LUNG_clinicalMatrix')\n",
    "genetic_data_file = os.path.join(dataset_dir, trait_subdir, 'TCGA.LUNG.sampleMap_HiSeqV2_PANCAN.gz')"
   ]
  },
  {
   "cell_type": "code",
   "execution_count": 28,
   "metadata": {
    "id": "MudwB-_iz7sc"
   },
   "outputs": [
    {
     "ename": "ParserError",
     "evalue": "Error tokenizing data. C error: Calling read(nbytes) on source failed. Try engine='python'.",
     "output_type": "error",
     "traceback": [
      "\u001b[0;31m---------------------------------------------------------------------------\u001b[0m",
      "\u001b[0;31mParserError\u001b[0m                               Traceback (most recent call last)",
      "\u001b[1;32m/home/yxcheng/AI4Science_gold_standard/stage1/Yuxuan/Psoriasis.ipynb 单元格 12\u001b[0m line \u001b[0;36m4\n\u001b[1;32m      <a href='vscode-notebook-cell://ssh-remote%2B218.199.69.68/home/yxcheng/AI4Science_gold_standard/stage1/Yuxuan/Psoriasis.ipynb#X14sdnNjb2RlLXJlbW90ZQ%3D%3D?line=0'>1</a>\u001b[0m \u001b[39mimport\u001b[39;00m \u001b[39mpandas\u001b[39;00m \u001b[39mas\u001b[39;00m \u001b[39mpd\u001b[39;00m\n\u001b[1;32m      <a href='vscode-notebook-cell://ssh-remote%2B218.199.69.68/home/yxcheng/AI4Science_gold_standard/stage1/Yuxuan/Psoriasis.ipynb#X14sdnNjb2RlLXJlbW90ZQ%3D%3D?line=2'>3</a>\u001b[0m clinical_data \u001b[39m=\u001b[39m pd\u001b[39m.\u001b[39mread_csv(clinical_data_file, sep\u001b[39m=\u001b[39m\u001b[39m'\u001b[39m\u001b[39m\\t\u001b[39;00m\u001b[39m'\u001b[39m, index_col\u001b[39m=\u001b[39m\u001b[39m0\u001b[39m)\n\u001b[0;32m----> <a href='vscode-notebook-cell://ssh-remote%2B218.199.69.68/home/yxcheng/AI4Science_gold_standard/stage1/Yuxuan/Psoriasis.ipynb#X14sdnNjb2RlLXJlbW90ZQ%3D%3D?line=3'>4</a>\u001b[0m genetic_data \u001b[39m=\u001b[39m pd\u001b[39m.\u001b[39;49mread_csv(genetic_data_file, compression\u001b[39m=\u001b[39;49m\u001b[39m'\u001b[39;49m\u001b[39mgzip\u001b[39;49m\u001b[39m'\u001b[39;49m, sep\u001b[39m=\u001b[39;49m\u001b[39m'\u001b[39;49m\u001b[39m\\t\u001b[39;49;00m\u001b[39m'\u001b[39;49m, index_col\u001b[39m=\u001b[39;49m\u001b[39m0\u001b[39;49m)\n\u001b[1;32m      <a href='vscode-notebook-cell://ssh-remote%2B218.199.69.68/home/yxcheng/AI4Science_gold_standard/stage1/Yuxuan/Psoriasis.ipynb#X14sdnNjb2RlLXJlbW90ZQ%3D%3D?line=4'>5</a>\u001b[0m age_col \u001b[39m=\u001b[39m gender_col \u001b[39m=\u001b[39m \u001b[39mNone\u001b[39;00m\n",
      "File \u001b[0;32m~/anaconda3/envs/ai4sci/lib/python3.10/site-packages/pandas/io/parsers/readers.py:948\u001b[0m, in \u001b[0;36mread_csv\u001b[0;34m(filepath_or_buffer, sep, delimiter, header, names, index_col, usecols, dtype, engine, converters, true_values, false_values, skipinitialspace, skiprows, skipfooter, nrows, na_values, keep_default_na, na_filter, verbose, skip_blank_lines, parse_dates, infer_datetime_format, keep_date_col, date_parser, date_format, dayfirst, cache_dates, iterator, chunksize, compression, thousands, decimal, lineterminator, quotechar, quoting, doublequote, escapechar, comment, encoding, encoding_errors, dialect, on_bad_lines, delim_whitespace, low_memory, memory_map, float_precision, storage_options, dtype_backend)\u001b[0m\n\u001b[1;32m    935\u001b[0m kwds_defaults \u001b[39m=\u001b[39m _refine_defaults_read(\n\u001b[1;32m    936\u001b[0m     dialect,\n\u001b[1;32m    937\u001b[0m     delimiter,\n\u001b[0;32m   (...)\u001b[0m\n\u001b[1;32m    944\u001b[0m     dtype_backend\u001b[39m=\u001b[39mdtype_backend,\n\u001b[1;32m    945\u001b[0m )\n\u001b[1;32m    946\u001b[0m kwds\u001b[39m.\u001b[39mupdate(kwds_defaults)\n\u001b[0;32m--> 948\u001b[0m \u001b[39mreturn\u001b[39;00m _read(filepath_or_buffer, kwds)\n",
      "File \u001b[0;32m~/anaconda3/envs/ai4sci/lib/python3.10/site-packages/pandas/io/parsers/readers.py:617\u001b[0m, in \u001b[0;36m_read\u001b[0;34m(filepath_or_buffer, kwds)\u001b[0m\n\u001b[1;32m    614\u001b[0m     \u001b[39mreturn\u001b[39;00m parser\n\u001b[1;32m    616\u001b[0m \u001b[39mwith\u001b[39;00m parser:\n\u001b[0;32m--> 617\u001b[0m     \u001b[39mreturn\u001b[39;00m parser\u001b[39m.\u001b[39;49mread(nrows)\n",
      "File \u001b[0;32m~/anaconda3/envs/ai4sci/lib/python3.10/site-packages/pandas/io/parsers/readers.py:1748\u001b[0m, in \u001b[0;36mTextFileReader.read\u001b[0;34m(self, nrows)\u001b[0m\n\u001b[1;32m   1741\u001b[0m nrows \u001b[39m=\u001b[39m validate_integer(\u001b[39m\"\u001b[39m\u001b[39mnrows\u001b[39m\u001b[39m\"\u001b[39m, nrows)\n\u001b[1;32m   1742\u001b[0m \u001b[39mtry\u001b[39;00m:\n\u001b[1;32m   1743\u001b[0m     \u001b[39m# error: \"ParserBase\" has no attribute \"read\"\u001b[39;00m\n\u001b[1;32m   1744\u001b[0m     (\n\u001b[1;32m   1745\u001b[0m         index,\n\u001b[1;32m   1746\u001b[0m         columns,\n\u001b[1;32m   1747\u001b[0m         col_dict,\n\u001b[0;32m-> 1748\u001b[0m     ) \u001b[39m=\u001b[39m \u001b[39mself\u001b[39;49m\u001b[39m.\u001b[39;49m_engine\u001b[39m.\u001b[39;49mread(  \u001b[39m# type: ignore[attr-defined]\u001b[39;49;00m\n\u001b[1;32m   1749\u001b[0m         nrows\n\u001b[1;32m   1750\u001b[0m     )\n\u001b[1;32m   1751\u001b[0m \u001b[39mexcept\u001b[39;00m \u001b[39mException\u001b[39;00m:\n\u001b[1;32m   1752\u001b[0m     \u001b[39mself\u001b[39m\u001b[39m.\u001b[39mclose()\n",
      "File \u001b[0;32m~/anaconda3/envs/ai4sci/lib/python3.10/site-packages/pandas/io/parsers/c_parser_wrapper.py:234\u001b[0m, in \u001b[0;36mCParserWrapper.read\u001b[0;34m(self, nrows)\u001b[0m\n\u001b[1;32m    232\u001b[0m \u001b[39mtry\u001b[39;00m:\n\u001b[1;32m    233\u001b[0m     \u001b[39mif\u001b[39;00m \u001b[39mself\u001b[39m\u001b[39m.\u001b[39mlow_memory:\n\u001b[0;32m--> 234\u001b[0m         chunks \u001b[39m=\u001b[39m \u001b[39mself\u001b[39;49m\u001b[39m.\u001b[39;49m_reader\u001b[39m.\u001b[39;49mread_low_memory(nrows)\n\u001b[1;32m    235\u001b[0m         \u001b[39m# destructive to chunks\u001b[39;00m\n\u001b[1;32m    236\u001b[0m         data \u001b[39m=\u001b[39m _concatenate_chunks(chunks)\n",
      "File \u001b[0;32mparsers.pyx:843\u001b[0m, in \u001b[0;36mpandas._libs.parsers.TextReader.read_low_memory\u001b[0;34m()\u001b[0m\n",
      "File \u001b[0;32mparsers.pyx:904\u001b[0m, in \u001b[0;36mpandas._libs.parsers.TextReader._read_rows\u001b[0;34m()\u001b[0m\n",
      "File \u001b[0;32mparsers.pyx:879\u001b[0m, in \u001b[0;36mpandas._libs.parsers.TextReader._tokenize_rows\u001b[0;34m()\u001b[0m\n",
      "File \u001b[0;32mparsers.pyx:890\u001b[0m, in \u001b[0;36mpandas._libs.parsers.TextReader._check_tokenize_status\u001b[0;34m()\u001b[0m\n",
      "File \u001b[0;32mparsers.pyx:2058\u001b[0m, in \u001b[0;36mpandas._libs.parsers.raise_parser_error\u001b[0;34m()\u001b[0m\n",
      "\u001b[0;31mParserError\u001b[0m: Error tokenizing data. C error: Calling read(nbytes) on source failed. Try engine='python'."
     ]
    }
   ],
   "source": [
    "import pandas as pd\n",
    "\n",
    "clinical_data = pd.read_csv(clinical_data_file, sep='\\t', index_col=0)\n",
    "genetic_data = pd.read_csv(genetic_data_file, compression='gzip', sep='\\t', index_col=0)\n",
    "age_col = gender_col = None"
   ]
  },
  {
   "cell_type": "code",
   "execution_count": null,
   "metadata": {
    "collapsed": false
   },
   "outputs": [],
   "source": [
    "_, clinical_data_cols = check_rows_and_columns(clinical_data)"
   ]
  },
  {
   "cell_type": "code",
   "execution_count": null,
   "metadata": {
    "collapsed": false
   },
   "outputs": [
    {
     "data": {
      "text/plain": [
       "['ABSOLUTE_Ploidy',\n",
       " 'ABSOLUTE_Purity',\n",
       " 'AKT1',\n",
       " 'ALK_translocation',\n",
       " 'BRAF',\n",
       " 'CBL',\n",
       " 'CTNNB1',\n",
       " 'Canonical_mut_in_KRAS_EGFR_ALK',\n",
       " 'Cnncl_mt_n_KRAS_EGFR_ALK_RET_ROS1_BRAF_ERBB2_HRAS_NRAS_AKT1_MAP2',\n",
       " 'EGFR']"
      ]
     },
     "execution_count": 8,
     "metadata": {},
     "output_type": "execute_result"
    }
   ],
   "source": [
    "clinical_data_cols[:10]"
   ]
  },
  {
   "cell_type": "markdown",
   "metadata": {
    "ExecuteTime": {
     "end_time": "2023-12-28T20:20:11.841042813Z",
     "start_time": "2023-12-28T20:20:11.834458206Z"
    },
    "collapsed": false
   },
   "source": [
    "Read all the column names in the clinical dataset, to find the columns that record information about age or gender.\n",
    "Reference prompt:"
   ]
  },
  {
   "cell_type": "code",
   "execution_count": null,
   "metadata": {
    "collapsed": false
   },
   "outputs": [
    {
     "data": {
      "text/plain": [
       "\"\\nBelow is a list of column names from a biomedical dataset. Please examine it and identify the columns that are likely to contain information about patients' age. Additionally, please do the same for columns that may hold data on patients' gender. Please provide your answer by strictly following this format, without redundant words:\\ncandidate_age_cols = [col_name1, col_name2, ...]\\ncandidate_gender_cols = [col_name1, col_name2, ...]\\nIf no columns match a criterion, please provide an empty list.\\n\\nColumn names:\\n['ABSOLUTE_Ploidy', 'ABSOLUTE_Purity', 'AKT1', 'ALK_translocation', 'BRAF', 'CBL', 'CTNNB1', 'Canonical_mut_in_KRAS_EGFR_ALK', 'Cnncl_mt_n_KRAS_EGFR_ALK_RET_ROS1_BRAF_ERBB2_HRAS_NRAS_AKT1_MAP2', 'EGFR', 'ERBB2', 'ERBB4', 'Estimated_allele_fraction_of_a_clonal_varnt_prsnt_t_1_cpy_pr_cll', 'Expression_Subtype', 'HRAS', 'KRAS', 'MAP2K1', 'MET', 'NRAS', 'PIK3CA', 'PTPN11', 'Pathology', 'Pathology_Updated', 'RET_translocation', 'ROS1_translocation', 'STK11', 'WGS_as_of_20120731_0_no_1_yes', '_INTEGRATION', '_PANCAN_CNA_PANCAN_K8', '_PANCAN_Cluster_Cluster_PANCAN', '_PANCAN_DNAMethyl_PANCAN', '_PANCAN_RPPA_PANCAN_K8', '_PANCAN_UNC_RNAseq_PANCAN_K16', '_PANCAN_miRNA_PANCAN', '_PANCAN_mutation_PANCAN', '_PATIENT', '_cohort', '_primary_disease', '_primary_site', 'additional_pharmaceutical_therapy', 'additional_radiation_therapy', 'additional_surgery_locoregional_procedure', 'additional_surgery_metastatic_procedure', 'age_at_initial_pathologic_diagnosis', 'anatomic_neoplasm_subdivision', 'anatomic_neoplasm_subdivision_other', 'bcr_followup_barcode', 'bcr_patient_barcode', 'bcr_sample_barcode', 'days_to_additional_surgery_locoregional_procedure', 'days_to_additional_surgery_metastatic_procedure', 'days_to_birth', 'days_to_collection', 'days_to_death', 'days_to_initial_pathologic_diagnosis', 'days_to_last_followup', 'days_to_new_tumor_event_after_initial_treatment', 'disease_code', 'dlco_predictive_percent', 'eastern_cancer_oncology_group', 'egfr_mutation_performed', 'egfr_mutation_result', 'eml4_alk_translocation_method', 'eml4_alk_translocation_performed', 'followup_case_report_form_submission_reason', 'followup_treatment_success', 'form_completion_date', 'gender', 'histological_type', 'history_of_neoadjuvant_treatment', 'icd_10', 'icd_o_3_histology', 'icd_o_3_site', 'informed_consent_verified', 'initial_weight', 'intermediate_dimension', 'is_ffpe', 'karnofsky_performance_score', 'kras_gene_analysis_performed', 'kras_mutation_found', 'kras_mutation_result', 'location_in_lung_parenchyma', 'longest_dimension', 'lost_follow_up', 'new_neoplasm_event_type', 'new_tumor_event_after_initial_treatment', 'number_pack_years_smoked', 'oct_embedded', 'other_dx', 'pathologic_M', 'pathologic_N', 'pathologic_T', 'pathologic_stage', 'pathology_report_file_name', 'patient_id', 'performance_status_scale_timing', 'person_neoplasm_cancer_status', 'post_bronchodilator_fev1_fvc_percent', 'post_bronchodilator_fev1_percent', 'pre_bronchodilator_fev1_fvc_percent', 'pre_bronchodilator_fev1_percent', 'primary_therapy_outcome_success', 'progression_determined_by', 'project_code', 'pulmonary_function_test_performed', 'radiation_therapy', 'residual_tumor', 'sample_type', 'sample_type_id', 'shortest_dimension', 'stopped_smoking_year', 'system_version', 'targeted_molecular_therapy', 'tissue_prospective_collection_indicator', 'tissue_retrospective_collection_indicator', 'tissue_source_site', 'tobacco_smoking_history', 'tobacco_smoking_history_indicator', 'tumor_tissue_site', 'vial_number', 'vital_status', 'year_of_initial_pathologic_diagnosis', 'year_of_tobacco_smoking_onset', '_GENOMIC_ID_TCGA_LUNG_exp_HiSeqV2_exon', '_GENOMIC_ID_TCGA_LUNG_hMethyl27', '_GENOMIC_ID_TCGA_LUNG_mutation', '_GENOMIC_ID_TCGA_LUNG_exp_HiSeqV2_PANCAN', '_GENOMIC_ID_TCGA_LUNG_hMethyl450', '_GENOMIC_ID_TCGA_LUNG_gistic2thd', '_GENOMIC_ID_TCGA_LUNG_G4502A_07_3', '_GENOMIC_ID_TCGA_LUNG_exp_HiSeqV2', '_GENOMIC_ID_TCGA_LUNG_gistic2', '_GENOMIC_ID_TCGA_LUNG_RPPA_RBN']\\n\""
      ]
     },
     "execution_count": 9,
     "metadata": {},
     "output_type": "execute_result"
    }
   ],
   "source": [
    "f'''\n",
    "Below is a list of column names from a biomedical dataset. Please examine it and identify the columns that are likely to contain information about patients' age. Additionally, please do the same for columns that may hold data on patients' gender. Please provide your answer by strictly following this format, without redundant words:\n",
    "candidate_age_cols = [col_name1, col_name2, ...]\n",
    "candidate_gender_cols = [col_name1, col_name2, ...]\n",
    "If no columns match a criterion, please provide an empty list.\n",
    "\n",
    "Column names:\n",
    "{clinical_data_cols}\n",
    "'''"
   ]
  },
  {
   "cell_type": "code",
   "execution_count": null,
   "metadata": {
    "collapsed": false
   },
   "outputs": [],
   "source": [
    "candidate_age_cols = ['age_at_initial_pathologic_diagnosis', 'days_to_birth', 'days_to_collection', 'days_to_death', 'days_to_initial_pathologic_diagnosis', 'days_to_last_followup', 'days_to_new_tumor_event_after_initial_treatment', 'stopped_smoking_year', 'year_of_initial_pathologic_diagnosis', 'year_of_tobacco_smoking_onset']\n",
    "\n",
    "candidate_gender_cols = ['gender']"
   ]
  },
  {
   "cell_type": "markdown",
   "metadata": {
    "ExecuteTime": {
     "end_time": "2023-12-31T03:57:44.207565572Z",
     "start_time": "2023-12-31T03:57:44.202177544Z"
    },
    "collapsed": false
   },
   "source": [
    "Choose a single column from the candidate columns that record age and gender information respectively.\n",
    "If no column meets the requirement, keep 'age_col' or 'gender_col' to None"
   ]
  },
  {
   "cell_type": "code",
   "execution_count": null,
   "metadata": {
    "collapsed": false
   },
   "outputs": [
    {
     "data": {
      "text/plain": [
       "{'age_at_initial_pathologic_diagnosis': [70.0, 67.0, 79.0, 68.0, 66.0],\n",
       " 'days_to_birth': [-25752.0, -24532.0, -29068.0, -24868.0, -24411.0],\n",
       " 'days_to_collection': [nan, nan, nan, nan, nan],\n",
       " 'days_to_death': [nan, nan, '121', nan, nan],\n",
       " 'days_to_initial_pathologic_diagnosis': [0.0, 0.0, 0.0, 0.0, 0.0],\n",
       " 'days_to_last_followup': ['0', '1523', nan, '607', '426'],\n",
       " 'days_to_new_tumor_event_after_initial_treatment': [nan,\n",
       "  nan,\n",
       "  nan,\n",
       "  334.0,\n",
       "  183.0],\n",
       " 'stopped_smoking_year': [nan, nan, nan, nan, 1987.0],\n",
       " 'year_of_initial_pathologic_diagnosis': [2009.0,\n",
       "  2007.0,\n",
       "  2007.0,\n",
       "  2009.0,\n",
       "  2009.0],\n",
       " 'year_of_tobacco_smoking_onset': [nan, nan, nan, nan, 1963.0]}"
      ]
     },
     "execution_count": 11,
     "metadata": {},
     "output_type": "execute_result"
    }
   ],
   "source": [
    "preview_df(clinical_data[candidate_age_cols])"
   ]
  },
  {
   "cell_type": "code",
   "execution_count": null,
   "metadata": {
    "collapsed": false
   },
   "outputs": [],
   "source": [
    "age_col = 'age_at_initial_pathologic_diagnosis'"
   ]
  },
  {
   "cell_type": "code",
   "execution_count": null,
   "metadata": {
    "collapsed": false
   },
   "outputs": [
    {
     "data": {
      "text/plain": [
       "{'gender': ['MALE', 'MALE', 'FEMALE', 'MALE', 'MALE']}"
      ]
     },
     "execution_count": 13,
     "metadata": {},
     "output_type": "execute_result"
    }
   ],
   "source": [
    "preview_df(clinical_data[candidate_gender_cols])"
   ]
  },
  {
   "cell_type": "code",
   "execution_count": null,
   "metadata": {
    "collapsed": false
   },
   "outputs": [],
   "source": [
    "gender_col = 'gender'"
   ]
  },
  {
   "cell_type": "code",
   "execution_count": null,
   "metadata": {
    "collapsed": false
   },
   "outputs": [],
   "source": [
    "selected_clinical_data = xena_select_clinical_features(clinical_data, TRAIT, age_col, gender_col)"
   ]
  },
  {
   "cell_type": "code",
   "execution_count": null,
   "metadata": {
    "collapsed": false
   },
   "outputs": [],
   "source": [
    "if NORMALIZE_GENE:\n",
    "    genetic_data = normalize_gene_symbols_in_index(genetic_data)"
   ]
  },
  {
   "cell_type": "code",
   "execution_count": null,
   "metadata": {
    "collapsed": false
   },
   "outputs": [
    {
     "data": {
      "text/html": [
       "<div>\n",
       "<style scoped>\n",
       "    .dataframe tbody tr th:only-of-type {\n",
       "        vertical-align: middle;\n",
       "    }\n",
       "\n",
       "    .dataframe tbody tr th {\n",
       "        vertical-align: top;\n",
       "    }\n",
       "\n",
       "    .dataframe thead th {\n",
       "        text-align: right;\n",
       "    }\n",
       "</style>\n",
       "<table border=\"1\" class=\"dataframe\">\n",
       "  <thead>\n",
       "    <tr style=\"text-align: right;\">\n",
       "      <th></th>\n",
       "      <th>Lung-Cancer</th>\n",
       "      <th>Age</th>\n",
       "      <th>Gender</th>\n",
       "      <th>ARHGEF10L</th>\n",
       "      <th>HIF3A</th>\n",
       "      <th>RNF17</th>\n",
       "      <th>RNF10</th>\n",
       "      <th>RNF11</th>\n",
       "      <th>RNF13</th>\n",
       "      <th>GTF2IP1</th>\n",
       "      <th>...</th>\n",
       "      <th>TULP2</th>\n",
       "      <th>NPY5R</th>\n",
       "      <th>GNGT2</th>\n",
       "      <th>GNGT1</th>\n",
       "      <th>TULP3</th>\n",
       "      <th>PTRF</th>\n",
       "      <th>BCL6B</th>\n",
       "      <th>GSTK1</th>\n",
       "      <th>SELP</th>\n",
       "      <th>SELS</th>\n",
       "    </tr>\n",
       "    <tr>\n",
       "      <th>sampleID</th>\n",
       "      <th></th>\n",
       "      <th></th>\n",
       "      <th></th>\n",
       "      <th></th>\n",
       "      <th></th>\n",
       "      <th></th>\n",
       "      <th></th>\n",
       "      <th></th>\n",
       "      <th></th>\n",
       "      <th></th>\n",
       "      <th></th>\n",
       "      <th></th>\n",
       "      <th></th>\n",
       "      <th></th>\n",
       "      <th></th>\n",
       "      <th></th>\n",
       "      <th></th>\n",
       "      <th></th>\n",
       "      <th></th>\n",
       "      <th></th>\n",
       "      <th></th>\n",
       "    </tr>\n",
       "  </thead>\n",
       "  <tbody>\n",
       "    <tr>\n",
       "      <th>TCGA-05-4244-01</th>\n",
       "      <td>1</td>\n",
       "      <td>70.0</td>\n",
       "      <td>1.0</td>\n",
       "      <td>-0.056592</td>\n",
       "      <td>2.128674</td>\n",
       "      <td>-0.531035</td>\n",
       "      <td>-0.185972</td>\n",
       "      <td>-0.190878</td>\n",
       "      <td>-0.11891</td>\n",
       "      <td>-0.659794</td>\n",
       "      <td>...</td>\n",
       "      <td>0.015022</td>\n",
       "      <td>-1.155117</td>\n",
       "      <td>0.528367</td>\n",
       "      <td>2.75061</td>\n",
       "      <td>0.428423</td>\n",
       "      <td>-0.639586</td>\n",
       "      <td>-0.195527</td>\n",
       "      <td>-0.324695</td>\n",
       "      <td>0.193167</td>\n",
       "      <td>-0.572812</td>\n",
       "    </tr>\n",
       "    <tr>\n",
       "      <th>TCGA-05-4249-01</th>\n",
       "      <td>1</td>\n",
       "      <td>67.0</td>\n",
       "      <td>1.0</td>\n",
       "      <td>-0.569692</td>\n",
       "      <td>-0.318126</td>\n",
       "      <td>-0.531035</td>\n",
       "      <td>0.237428</td>\n",
       "      <td>0.011822</td>\n",
       "      <td>-0.00611</td>\n",
       "      <td>1.018406</td>\n",
       "      <td>...</td>\n",
       "      <td>-0.031778</td>\n",
       "      <td>-0.393117</td>\n",
       "      <td>1.632467</td>\n",
       "      <td>2.33551</td>\n",
       "      <td>-0.145577</td>\n",
       "      <td>-0.997486</td>\n",
       "      <td>-0.276027</td>\n",
       "      <td>-1.219395</td>\n",
       "      <td>1.850967</td>\n",
       "      <td>-0.471212</td>\n",
       "    </tr>\n",
       "    <tr>\n",
       "      <th>TCGA-05-4250-01</th>\n",
       "      <td>1</td>\n",
       "      <td>79.0</td>\n",
       "      <td>0.0</td>\n",
       "      <td>-0.899992</td>\n",
       "      <td>-0.918126</td>\n",
       "      <td>-0.531035</td>\n",
       "      <td>-0.621472</td>\n",
       "      <td>-0.454178</td>\n",
       "      <td>0.58719</td>\n",
       "      <td>-0.198894</td>\n",
       "      <td>...</td>\n",
       "      <td>-0.748878</td>\n",
       "      <td>-1.173917</td>\n",
       "      <td>1.966367</td>\n",
       "      <td>-1.28139</td>\n",
       "      <td>-0.374877</td>\n",
       "      <td>0.959514</td>\n",
       "      <td>0.714373</td>\n",
       "      <td>0.112305</td>\n",
       "      <td>-0.532833</td>\n",
       "      <td>-0.003812</td>\n",
       "    </tr>\n",
       "    <tr>\n",
       "      <th>TCGA-05-4382-01</th>\n",
       "      <td>1</td>\n",
       "      <td>68.0</td>\n",
       "      <td>1.0</td>\n",
       "      <td>0.667508</td>\n",
       "      <td>3.895974</td>\n",
       "      <td>-0.221535</td>\n",
       "      <td>-0.367272</td>\n",
       "      <td>0.131822</td>\n",
       "      <td>0.97629</td>\n",
       "      <td>-0.494994</td>\n",
       "      <td>...</td>\n",
       "      <td>1.013722</td>\n",
       "      <td>-1.587117</td>\n",
       "      <td>0.359267</td>\n",
       "      <td>2.59051</td>\n",
       "      <td>0.806623</td>\n",
       "      <td>0.812114</td>\n",
       "      <td>0.367373</td>\n",
       "      <td>-0.494595</td>\n",
       "      <td>-1.062233</td>\n",
       "      <td>0.108588</td>\n",
       "    </tr>\n",
       "    <tr>\n",
       "      <th>TCGA-05-4384-01</th>\n",
       "      <td>1</td>\n",
       "      <td>66.0</td>\n",
       "      <td>1.0</td>\n",
       "      <td>-0.316892</td>\n",
       "      <td>2.380374</td>\n",
       "      <td>0.156865</td>\n",
       "      <td>0.232828</td>\n",
       "      <td>0.054822</td>\n",
       "      <td>0.27059</td>\n",
       "      <td>0.128606</td>\n",
       "      <td>...</td>\n",
       "      <td>-0.060978</td>\n",
       "      <td>-0.435417</td>\n",
       "      <td>1.111467</td>\n",
       "      <td>-1.28139</td>\n",
       "      <td>-0.128477</td>\n",
       "      <td>0.110214</td>\n",
       "      <td>1.469373</td>\n",
       "      <td>0.194605</td>\n",
       "      <td>1.404667</td>\n",
       "      <td>-0.290712</td>\n",
       "    </tr>\n",
       "  </tbody>\n",
       "</table>\n",
       "<p>5 rows × 20533 columns</p>\n",
       "</div>"
      ],
      "text/plain": [
       "                 Lung-Cancer   Age  Gender  ARHGEF10L     HIF3A     RNF17  \\\n",
       "sampleID                                                                    \n",
       "TCGA-05-4244-01            1  70.0     1.0  -0.056592  2.128674 -0.531035   \n",
       "TCGA-05-4249-01            1  67.0     1.0  -0.569692 -0.318126 -0.531035   \n",
       "TCGA-05-4250-01            1  79.0     0.0  -0.899992 -0.918126 -0.531035   \n",
       "TCGA-05-4382-01            1  68.0     1.0   0.667508  3.895974 -0.221535   \n",
       "TCGA-05-4384-01            1  66.0     1.0  -0.316892  2.380374  0.156865   \n",
       "\n",
       "                    RNF10     RNF11    RNF13   GTF2IP1  ...     TULP2  \\\n",
       "sampleID                                                ...             \n",
       "TCGA-05-4244-01 -0.185972 -0.190878 -0.11891 -0.659794  ...  0.015022   \n",
       "TCGA-05-4249-01  0.237428  0.011822 -0.00611  1.018406  ... -0.031778   \n",
       "TCGA-05-4250-01 -0.621472 -0.454178  0.58719 -0.198894  ... -0.748878   \n",
       "TCGA-05-4382-01 -0.367272  0.131822  0.97629 -0.494994  ...  1.013722   \n",
       "TCGA-05-4384-01  0.232828  0.054822  0.27059  0.128606  ... -0.060978   \n",
       "\n",
       "                    NPY5R     GNGT2    GNGT1     TULP3      PTRF     BCL6B  \\\n",
       "sampleID                                                                     \n",
       "TCGA-05-4244-01 -1.155117  0.528367  2.75061  0.428423 -0.639586 -0.195527   \n",
       "TCGA-05-4249-01 -0.393117  1.632467  2.33551 -0.145577 -0.997486 -0.276027   \n",
       "TCGA-05-4250-01 -1.173917  1.966367 -1.28139 -0.374877  0.959514  0.714373   \n",
       "TCGA-05-4382-01 -1.587117  0.359267  2.59051  0.806623  0.812114  0.367373   \n",
       "TCGA-05-4384-01 -0.435417  1.111467 -1.28139 -0.128477  0.110214  1.469373   \n",
       "\n",
       "                    GSTK1      SELP      SELS  \n",
       "sampleID                                       \n",
       "TCGA-05-4244-01 -0.324695  0.193167 -0.572812  \n",
       "TCGA-05-4249-01 -1.219395  1.850967 -0.471212  \n",
       "TCGA-05-4250-01  0.112305 -0.532833 -0.003812  \n",
       "TCGA-05-4382-01 -0.494595 -1.062233  0.108588  \n",
       "TCGA-05-4384-01  0.194605  1.404667 -0.290712  \n",
       "\n",
       "[5 rows x 20533 columns]"
      ]
     },
     "execution_count": 17,
     "metadata": {},
     "output_type": "execute_result"
    }
   ],
   "source": [
    "merged_data = selected_clinical_data.join(genetic_data.T).dropna()\n",
    "merged_data.head()"
   ]
  },
  {
   "cell_type": "code",
   "execution_count": null,
   "metadata": {
    "collapsed": false
   },
   "outputs": [
    {
     "name": "stdout",
     "output_type": "stream",
     "text": [
      "The merged dataset contains 1100 samples.\n"
     ]
    }
   ],
   "source": [
    "print(f\"The merged dataset contains {len(merged_data)} samples.\")"
   ]
  },
  {
   "cell_type": "code",
   "execution_count": null,
   "metadata": {
    "collapsed": false
   },
   "outputs": [
    {
     "name": "stdout",
     "output_type": "stream",
     "text": [
      "For the feature 'Lung-Cancer', the least common label is '0' with 110 occurrences. This represents 10.00% of the dataset.\n",
      "The distribution of the feature 'Lung-Cancer' in this dataset is fine.\n",
      "\n",
      "Quartiles for 'Age':\n",
      "  25%: 60.0\n",
      "  50% (Median): 67.0\n",
      "  75%: 73.0\n",
      "Min: 38.0\n",
      "Max: 90.0\n",
      "The distribution of the feature 'Age' in this dataset is fine.\n",
      "\n",
      "For the feature 'Gender', the least common label is '0.0' with 443 occurrences. This represents 40.27% of the dataset.\n",
      "The distribution of the feature 'Gender' in this dataset is fine.\n",
      "\n"
     ]
    },
    {
     "data": {
      "text/plain": [
       "False"
      ]
     },
     "execution_count": 19,
     "metadata": {},
     "output_type": "execute_result"
    }
   ],
   "source": [
    "is_trait_biased, merge_data = judge_and_remove_biased_features(merged_data, TRAIT, trait_type=trait_type)\n",
    "is_trait_biased"
   ]
  },
  {
   "cell_type": "code",
   "execution_count": null,
   "metadata": {
    "collapsed": false
   },
   "outputs": [],
   "source": [
    "merged_data.head()\n",
    "if not is_trait_biased:\n",
    "    merge_data.to_csv(os.path.join(OUTPUT_DIR, cohort+'.csv'), index=False)"
   ]
  },
  {
   "cell_type": "code",
   "execution_count": null,
   "metadata": {
    "collapsed": false
   },
   "outputs": [
    {
     "name": "stdout",
     "output_type": "stream",
     "text": [
      "A new JSON file was created at: ../../output1/Yuxuan/Lung-Cancer/cohort_info.json\n"
     ]
    }
   ],
   "source": [
    "save_cohort_info(cohort, JSON_PATH, is_available, is_trait_biased, merged_data)"
   ]
  },
  {
   "cell_type": "markdown",
   "metadata": {
    "ExecuteTime": {
     "end_time": "2023-12-28T21:28:38.028916303Z",
     "start_time": "2023-12-28T21:28:38.016245426Z"
    },
    "collapsed": false
   },
   "source": [
    "## 2.2. The GEO dataset"
   ]
  },
  {
   "cell_type": "markdown",
   "metadata": {
    "ExecuteTime": {
     "end_time": "2023-12-31T03:25:23.253882615Z",
     "start_time": "2023-12-31T03:25:23.244062710Z"
    },
    "collapsed": false
   },
   "source": [
    "In GEO, there may be one or multiple cohorts for a trait. Each cohort is identified by an accession number. We iterate over all accession numbers in the corresponding subdirectory, preprocess the cohort data, and save them to csv files."
   ]
  },
  {
   "cell_type": "code",
   "execution_count": 11,
   "metadata": {
    "ExecuteTime": {
     "end_time": "2024-01-02T01:02:59.503572381Z",
     "start_time": "2024-01-02T01:02:59.491400342Z"
    },
    "collapsed": false
   },
   "outputs": [
    {
     "data": {
      "text/plain": [
       "['GSE123088', 'GSE123086', 'GSE133601', 'GSE154851']"
      ]
     },
     "execution_count": 11,
     "metadata": {},
     "output_type": "execute_result"
    }
   ],
   "source": [
    "dataset = 'GEO'\n",
    "trait_subdir = \"Atherosclerosis\"\n",
    "\n",
    "trait_path = os.path.join(DATA_ROOT, dataset, trait_subdir)\n",
    "os.listdir(trait_path)"
   ]
  },
  {
   "cell_type": "markdown",
   "metadata": {
    "ExecuteTime": {
     "end_time": "2023-12-31T03:39:42.634870142Z",
     "start_time": "2023-12-31T03:39:42.534093295Z"
    },
    "collapsed": false
   },
   "source": [
    "Repeat the below steps for all the accession numbers"
   ]
  },
  {
   "cell_type": "code",
   "execution_count": 39,
   "metadata": {
    "ExecuteTime": {
     "end_time": "2024-01-02T01:03:00.287218362Z",
     "start_time": "2024-01-02T01:03:00.278758251Z"
    },
    "collapsed": false
   },
   "outputs": [
    {
     "data": {
      "text/plain": [
       "('/home/yxcheng/GEO/Atherosclerosis/GSE123086/GSE123086_family.soft.gz',\n",
       " '/home/yxcheng/GEO/Atherosclerosis/GSE123086/GSE123086_series_matrix.txt.gz')"
      ]
     },
     "execution_count": 39,
     "metadata": {},
     "output_type": "execute_result"
    }
   ],
   "source": [
    "cohort = accession_num = \"GSE123086\"\n",
    "cohort_dir = os.path.join(trait_path, accession_num)\n",
    "soft_file, matrix_file = get_relevant_filepaths(cohort_dir)\n",
    "soft_file, matrix_file"
   ]
  },
  {
   "cell_type": "markdown",
   "metadata": {
    "collapsed": false
   },
   "source": [
    "### Inital filtering and clinical data preprocessing"
   ]
  },
  {
   "cell_type": "code",
   "execution_count": 40,
   "metadata": {
    "ExecuteTime": {
     "end_time": "2024-01-02T01:03:01.634861460Z",
     "start_time": "2024-01-02T01:03:01.076370517Z"
    },
    "collapsed": false
   },
   "outputs": [
    {
     "name": "stdout",
     "output_type": "stream",
     "text": [
      "!Series_title\t\"A validated single-cell-based strategy to identify diagnostic and therapeutic targets in complex diseases [study of 13 diseases]\"\n",
      "!Series_summary\t\"We conducted prospective clinical studies to validate the importance of CD4+ T cells in 13 diseases from the following ICD-10-CM chapters: Neoplasms (breast cancer, chronic lymphocytic leukemia); endocrine, nutritional and metabolic diseases (type I diabetes, obesity); diseases of the circulatory system (atherosclerosis); diseases of the respiratory system (acute tonsillitis, influenza, seasonal allergic rhinitis, asthma); diseases of the digestive system (Crohn’s disease [CD], ulcerative colitis [UC]); and diseases of the skin and subcutaneous tissue (atopic eczema, psoriatic diseases).\"\n",
      "!Series_summary\t\"Study participants were recruited by clinical specialists based on diagnostic criteria defined by organizations representing each specialist’s discipline. Age and gender matched healthy controls (n = 127 and 39, respectively) were recruited in the Southeast region of Sweden from outpatient clinics at the University Hospital, Linköping; Ryhov County Hospital, Jönköping, a primary health care center in Jönköping; and a medical specialist unit for children in Värnamo. Study participants represented both urban and rural populations with an age range of 8–94 years. Patients with type I diabetes and obesity had an age range of 8–18 years. 12 patients had more than one diagnosis.\"\n",
      "!Series_overall_design\t\"Total RNA was extracted using the AllPrep DNA/RNA Micro kit (Qiagen, Hilden, Germany; cat. no. 80284) according to the manufacturer’s instructions. RNA concentration and integrity were evaluated using the Agilent RNA 6000 Nano Kit (Agilent Technologies, Santa Clara, California, USA; cat. no. 5067-1511) on an Agilent 2100 Bioanalyzer (Agilent Technologies, Santa Clara, California, USA). Microarrays were then further computationally processed as described in One-Color Microarray-Based Gene Expression Analysis Low Input Quick Amp Labeling protocol (Agilent Technologies, Santa Clara, California, USA).\"\n"
     ]
    }
   ],
   "source": [
    "background_prefixes = ['!Series_title', '!Series_summary', '!Series_overall_design']\n",
    "clinical_prefixes = ['!Sample_geo_accession', '!Sample_characteristics_ch1']\n",
    "\n",
    "background_info, clinical_data = get_background_and_clinical_data(matrix_file, background_prefixes, clinical_prefixes)\n",
    "print(background_info)"
   ]
  },
  {
   "cell_type": "code",
   "execution_count": 41,
   "metadata": {
    "ExecuteTime": {
     "end_time": "2024-01-02T01:03:01.642310454Z",
     "start_time": "2024-01-02T01:03:01.635048940Z"
    },
    "collapsed": false
   },
   "outputs": [
    {
     "data": {
      "text/html": [
       "<div>\n",
       "<style scoped>\n",
       "    .dataframe tbody tr th:only-of-type {\n",
       "        vertical-align: middle;\n",
       "    }\n",
       "\n",
       "    .dataframe tbody tr th {\n",
       "        vertical-align: top;\n",
       "    }\n",
       "\n",
       "    .dataframe thead th {\n",
       "        text-align: right;\n",
       "    }\n",
       "</style>\n",
       "<table border=\"1\" class=\"dataframe\">\n",
       "  <thead>\n",
       "    <tr style=\"text-align: right;\">\n",
       "      <th></th>\n",
       "      <th>!Sample_geo_accession</th>\n",
       "      <th>GSM3494884</th>\n",
       "      <th>GSM3494885</th>\n",
       "      <th>GSM3494886</th>\n",
       "      <th>GSM3494887</th>\n",
       "      <th>GSM3494888</th>\n",
       "      <th>GSM3494889</th>\n",
       "      <th>GSM3494890</th>\n",
       "      <th>GSM3494891</th>\n",
       "      <th>GSM3494892</th>\n",
       "      <th>...</th>\n",
       "      <th>GSM3495040</th>\n",
       "      <th>GSM3495041</th>\n",
       "      <th>GSM3495042</th>\n",
       "      <th>GSM3495043</th>\n",
       "      <th>GSM3495044</th>\n",
       "      <th>GSM3495045</th>\n",
       "      <th>GSM3495046</th>\n",
       "      <th>GSM3495047</th>\n",
       "      <th>GSM3495048</th>\n",
       "      <th>GSM3495049</th>\n",
       "    </tr>\n",
       "  </thead>\n",
       "  <tbody>\n",
       "    <tr>\n",
       "      <th>0</th>\n",
       "      <td>!Sample_characteristics_ch1</td>\n",
       "      <td>cell type: CD4+ T cells</td>\n",
       "      <td>cell type: CD4+ T cells</td>\n",
       "      <td>cell type: CD4+ T cells</td>\n",
       "      <td>cell type: CD4+ T cells</td>\n",
       "      <td>cell type: CD4+ T cells</td>\n",
       "      <td>cell type: CD4+ T cells</td>\n",
       "      <td>cell type: CD4+ T cells</td>\n",
       "      <td>cell type: CD4+ T cells</td>\n",
       "      <td>cell type: CD4+ T cells</td>\n",
       "      <td>...</td>\n",
       "      <td>cell type: CD4+ T cells</td>\n",
       "      <td>cell type: CD4+ T cells</td>\n",
       "      <td>cell type: CD4+ T cells</td>\n",
       "      <td>cell type: CD4+ T cells</td>\n",
       "      <td>cell type: CD4+ T cells</td>\n",
       "      <td>cell type: CD4+ T cells</td>\n",
       "      <td>cell type: CD4+ T cells</td>\n",
       "      <td>cell type: CD4+ T cells</td>\n",
       "      <td>cell type: CD4+ T cells</td>\n",
       "      <td>cell type: CD4+ T cells</td>\n",
       "    </tr>\n",
       "    <tr>\n",
       "      <th>1</th>\n",
       "      <td>!Sample_characteristics_ch1</td>\n",
       "      <td>primary diagnosis: ASTHMA</td>\n",
       "      <td>primary diagnosis: ASTHMA</td>\n",
       "      <td>primary diagnosis: ASTHMA</td>\n",
       "      <td>primary diagnosis: ASTHMA</td>\n",
       "      <td>primary diagnosis: ASTHMA</td>\n",
       "      <td>primary diagnosis: ASTHMA</td>\n",
       "      <td>primary diagnosis: ASTHMA</td>\n",
       "      <td>primary diagnosis: ASTHMA</td>\n",
       "      <td>primary diagnosis: ASTHMA</td>\n",
       "      <td>...</td>\n",
       "      <td>primary diagnosis: ULCERATIVE_COLITIS</td>\n",
       "      <td>primary diagnosis: ULCERATIVE_COLITIS</td>\n",
       "      <td>primary diagnosis: ULCERATIVE_COLITIS</td>\n",
       "      <td>primary diagnosis: ULCERATIVE_COLITIS</td>\n",
       "      <td>primary diagnosis: ULCERATIVE_COLITIS</td>\n",
       "      <td>primary diagnosis: ULCERATIVE_COLITIS</td>\n",
       "      <td>primary diagnosis: ULCERATIVE_COLITIS</td>\n",
       "      <td>primary diagnosis: ULCERATIVE_COLITIS</td>\n",
       "      <td>primary diagnosis: ULCERATIVE_COLITIS</td>\n",
       "      <td>primary diagnosis: ULCERATIVE_COLITIS</td>\n",
       "    </tr>\n",
       "    <tr>\n",
       "      <th>2</th>\n",
       "      <td>!Sample_characteristics_ch1</td>\n",
       "      <td>Sex: Male</td>\n",
       "      <td>diagnosis2: ATOPIC_ECZEMA</td>\n",
       "      <td>Sex: Female</td>\n",
       "      <td>Sex: Female</td>\n",
       "      <td>Sex: Male</td>\n",
       "      <td>Sex: Male</td>\n",
       "      <td>diagnosis2: ATHEROSCLEROSIS</td>\n",
       "      <td>Sex: Male</td>\n",
       "      <td>Sex: Female</td>\n",
       "      <td>...</td>\n",
       "      <td>Sex: Male</td>\n",
       "      <td>Sex: Male</td>\n",
       "      <td>Sex: Female</td>\n",
       "      <td>Sex: Male</td>\n",
       "      <td>Sex: Male</td>\n",
       "      <td>Sex: Female</td>\n",
       "      <td>Sex: Female</td>\n",
       "      <td>Sex: Female</td>\n",
       "      <td>Sex: Female</td>\n",
       "      <td>Sex: Male</td>\n",
       "    </tr>\n",
       "    <tr>\n",
       "      <th>3</th>\n",
       "      <td>!Sample_characteristics_ch1</td>\n",
       "      <td>age: 56</td>\n",
       "      <td>Sex: Male</td>\n",
       "      <td>age: 20</td>\n",
       "      <td>age: 51</td>\n",
       "      <td>age: 37</td>\n",
       "      <td>age: 61</td>\n",
       "      <td>Sex: Male</td>\n",
       "      <td>age: 31</td>\n",
       "      <td>age: 56</td>\n",
       "      <td>...</td>\n",
       "      <td>age: 20</td>\n",
       "      <td>age: 69</td>\n",
       "      <td>age: 69</td>\n",
       "      <td>age: 47</td>\n",
       "      <td>age: 47</td>\n",
       "      <td>age: 56</td>\n",
       "      <td>age: 54</td>\n",
       "      <td>age: 53</td>\n",
       "      <td>age: 50</td>\n",
       "      <td>age: 22</td>\n",
       "    </tr>\n",
       "    <tr>\n",
       "      <th>4</th>\n",
       "      <td>!Sample_characteristics_ch1</td>\n",
       "      <td>NaN</td>\n",
       "      <td>age: 63</td>\n",
       "      <td>NaN</td>\n",
       "      <td>NaN</td>\n",
       "      <td>NaN</td>\n",
       "      <td>NaN</td>\n",
       "      <td>age: 74</td>\n",
       "      <td>NaN</td>\n",
       "      <td>NaN</td>\n",
       "      <td>...</td>\n",
       "      <td>NaN</td>\n",
       "      <td>NaN</td>\n",
       "      <td>NaN</td>\n",
       "      <td>NaN</td>\n",
       "      <td>NaN</td>\n",
       "      <td>NaN</td>\n",
       "      <td>NaN</td>\n",
       "      <td>NaN</td>\n",
       "      <td>NaN</td>\n",
       "      <td>NaN</td>\n",
       "    </tr>\n",
       "  </tbody>\n",
       "</table>\n",
       "<p>5 rows × 167 columns</p>\n",
       "</div>"
      ],
      "text/plain": [
       "         !Sample_geo_accession                 GSM3494884  \\\n",
       "0  !Sample_characteristics_ch1    cell type: CD4+ T cells   \n",
       "1  !Sample_characteristics_ch1  primary diagnosis: ASTHMA   \n",
       "2  !Sample_characteristics_ch1                  Sex: Male   \n",
       "3  !Sample_characteristics_ch1                    age: 56   \n",
       "4  !Sample_characteristics_ch1                        NaN   \n",
       "\n",
       "                  GSM3494885                 GSM3494886  \\\n",
       "0    cell type: CD4+ T cells    cell type: CD4+ T cells   \n",
       "1  primary diagnosis: ASTHMA  primary diagnosis: ASTHMA   \n",
       "2  diagnosis2: ATOPIC_ECZEMA                Sex: Female   \n",
       "3                  Sex: Male                    age: 20   \n",
       "4                    age: 63                        NaN   \n",
       "\n",
       "                  GSM3494887                 GSM3494888  \\\n",
       "0    cell type: CD4+ T cells    cell type: CD4+ T cells   \n",
       "1  primary diagnosis: ASTHMA  primary diagnosis: ASTHMA   \n",
       "2                Sex: Female                  Sex: Male   \n",
       "3                    age: 51                    age: 37   \n",
       "4                        NaN                        NaN   \n",
       "\n",
       "                  GSM3494889                   GSM3494890  \\\n",
       "0    cell type: CD4+ T cells      cell type: CD4+ T cells   \n",
       "1  primary diagnosis: ASTHMA    primary diagnosis: ASTHMA   \n",
       "2                  Sex: Male  diagnosis2: ATHEROSCLEROSIS   \n",
       "3                    age: 61                    Sex: Male   \n",
       "4                        NaN                      age: 74   \n",
       "\n",
       "                  GSM3494891                 GSM3494892  ...  \\\n",
       "0    cell type: CD4+ T cells    cell type: CD4+ T cells  ...   \n",
       "1  primary diagnosis: ASTHMA  primary diagnosis: ASTHMA  ...   \n",
       "2                  Sex: Male                Sex: Female  ...   \n",
       "3                    age: 31                    age: 56  ...   \n",
       "4                        NaN                        NaN  ...   \n",
       "\n",
       "                              GSM3495040  \\\n",
       "0                cell type: CD4+ T cells   \n",
       "1  primary diagnosis: ULCERATIVE_COLITIS   \n",
       "2                              Sex: Male   \n",
       "3                                age: 20   \n",
       "4                                    NaN   \n",
       "\n",
       "                              GSM3495041  \\\n",
       "0                cell type: CD4+ T cells   \n",
       "1  primary diagnosis: ULCERATIVE_COLITIS   \n",
       "2                              Sex: Male   \n",
       "3                                age: 69   \n",
       "4                                    NaN   \n",
       "\n",
       "                              GSM3495042  \\\n",
       "0                cell type: CD4+ T cells   \n",
       "1  primary diagnosis: ULCERATIVE_COLITIS   \n",
       "2                            Sex: Female   \n",
       "3                                age: 69   \n",
       "4                                    NaN   \n",
       "\n",
       "                              GSM3495043  \\\n",
       "0                cell type: CD4+ T cells   \n",
       "1  primary diagnosis: ULCERATIVE_COLITIS   \n",
       "2                              Sex: Male   \n",
       "3                                age: 47   \n",
       "4                                    NaN   \n",
       "\n",
       "                              GSM3495044  \\\n",
       "0                cell type: CD4+ T cells   \n",
       "1  primary diagnosis: ULCERATIVE_COLITIS   \n",
       "2                              Sex: Male   \n",
       "3                                age: 47   \n",
       "4                                    NaN   \n",
       "\n",
       "                              GSM3495045  \\\n",
       "0                cell type: CD4+ T cells   \n",
       "1  primary diagnosis: ULCERATIVE_COLITIS   \n",
       "2                            Sex: Female   \n",
       "3                                age: 56   \n",
       "4                                    NaN   \n",
       "\n",
       "                              GSM3495046  \\\n",
       "0                cell type: CD4+ T cells   \n",
       "1  primary diagnosis: ULCERATIVE_COLITIS   \n",
       "2                            Sex: Female   \n",
       "3                                age: 54   \n",
       "4                                    NaN   \n",
       "\n",
       "                              GSM3495047  \\\n",
       "0                cell type: CD4+ T cells   \n",
       "1  primary diagnosis: ULCERATIVE_COLITIS   \n",
       "2                            Sex: Female   \n",
       "3                                age: 53   \n",
       "4                                    NaN   \n",
       "\n",
       "                              GSM3495048  \\\n",
       "0                cell type: CD4+ T cells   \n",
       "1  primary diagnosis: ULCERATIVE_COLITIS   \n",
       "2                            Sex: Female   \n",
       "3                                age: 50   \n",
       "4                                    NaN   \n",
       "\n",
       "                              GSM3495049  \n",
       "0                cell type: CD4+ T cells  \n",
       "1  primary diagnosis: ULCERATIVE_COLITIS  \n",
       "2                              Sex: Male  \n",
       "3                                age: 22  \n",
       "4                                    NaN  \n",
       "\n",
       "[5 rows x 167 columns]"
      ]
     },
     "execution_count": 41,
     "metadata": {},
     "output_type": "execute_result"
    }
   ],
   "source": [
    "clinical_data.head()"
   ]
  },
  {
   "cell_type": "code",
   "execution_count": 42,
   "metadata": {
    "ExecuteTime": {
     "end_time": "2024-01-02T01:03:01.805026160Z",
     "start_time": "2024-01-02T01:03:01.804428154Z"
    },
    "collapsed": false
   },
   "outputs": [
    {
     "data": {
      "text/plain": [
       "{0: ['cell type: CD4+ T cells'],\n",
       " 1: ['primary diagnosis: ASTHMA',\n",
       "  'primary diagnosis: ATHEROSCLEROSIS',\n",
       "  'primary diagnosis: BREAST_CANCER',\n",
       "  'primary diagnosis: CHRONIC_LYMPHOCYTIC_LEUKEMIA',\n",
       "  'primary diagnosis: CROHN_DISEASE',\n",
       "  'primary diagnosis: ATOPIC_ECZEMA',\n",
       "  'primary diagnosis: HEALTHY_CONTROL',\n",
       "  'primary diagnosis: INFLUENZA',\n",
       "  'primary diagnosis: OBESITY',\n",
       "  'primary diagnosis: PSORIASIS',\n",
       "  'primary diagnosis: SEASONAL_ALLERGIC_RHINITIS',\n",
       "  'primary diagnosis: TYPE_1_DIABETES',\n",
       "  'primary diagnosis: ACUTE_TONSILLITIS',\n",
       "  'primary diagnosis: ULCERATIVE_COLITIS'],\n",
       " 2: ['Sex: Male',\n",
       "  'diagnosis2: ATOPIC_ECZEMA',\n",
       "  'Sex: Female',\n",
       "  'diagnosis2: ATHEROSCLEROSIS',\n",
       "  'diagnosis2: ASTHMA_OBESITY',\n",
       "  'diagnosis2: ASTHMA',\n",
       "  'diagnosis2: ASTMHA_SEASONAL_ALLERGIC_RHINITIS',\n",
       "  'diagnosis2: OBESITY'],\n",
       " 3: ['age: 56',\n",
       "  'Sex: Male',\n",
       "  'age: 20',\n",
       "  'age: 51',\n",
       "  'age: 37',\n",
       "  'age: 61',\n",
       "  'age: 31',\n",
       "  'age: 41',\n",
       "  'age: 80',\n",
       "  'age: 53',\n",
       "  'age: 73',\n",
       "  'age: 60',\n",
       "  'age: 76',\n",
       "  'age: 77',\n",
       "  'age: 74',\n",
       "  'age: 69',\n",
       "  'age: 81',\n",
       "  'age: 70',\n",
       "  'age: 82',\n",
       "  'age: 67',\n",
       "  'age: 78',\n",
       "  'age: 72',\n",
       "  'age: 66',\n",
       "  'age: 36',\n",
       "  'age: 45',\n",
       "  'age: 65',\n",
       "  'age: 48',\n",
       "  'age: 50',\n",
       "  'age: 24',\n",
       "  'age: 42'],\n",
       " 4: [nan,\n",
       "  'age: 63',\n",
       "  'age: 74',\n",
       "  'age: 49',\n",
       "  'age: 60',\n",
       "  'age: 68',\n",
       "  'age: 38',\n",
       "  'age: 16',\n",
       "  'age: 12',\n",
       "  'age: 27']}"
      ]
     },
     "execution_count": 42,
     "metadata": {},
     "output_type": "execute_result"
    }
   ],
   "source": [
    "clinical_data_unique = get_unique_values_by_row(clinical_data)\n",
    "clinical_data_unique"
   ]
  },
  {
   "cell_type": "markdown",
   "metadata": {
    "ExecuteTime": {
     "end_time": "2023-12-31T03:58:04.978204446Z",
     "start_time": "2023-12-31T03:58:04.922270095Z"
    },
    "collapsed": false
   },
   "source": [
    "Analyze the metadata to determine data relevance and find ways to extract the clinical data.\n",
    "Reference prompt:"
   ]
  },
  {
   "cell_type": "code",
   "execution_count": 16,
   "metadata": {
    "ExecuteTime": {
     "end_time": "2024-01-02T01:03:02.369775044Z",
     "start_time": "2024-01-02T01:03:02.356501629Z"
    },
    "collapsed": false
   },
   "outputs": [
    {
     "data": {
      "text/plain": [
       "'As a biomedical research team, we are selecting datasets to study the association between the human trait \\'Atherosclerosis\\' and genetic factors, optionally considering the influence of age and gender. After searching the GEO database and parsing the matrix file of a series, we obtained background information and sample characteristics data. We will provide textual information about the dataset background, and a Python dictionary storing a list of unique values for each field of the sample characteristics data. Please carefully review the provided information and answer the following questions about this dataset:\\n1. Does this dataset contain gene expression data? (Note: Pure miRNA data is not suitable.)\\n2. For each of the traits \\'Atherosclerosis\\', \\'age\\', and \\'gender\\', please address these points:\\n   (1) Is there human data available for this trait?\\n   (2) If so, identify the key in the sample characteristics dictionary where unique values of this trait is recorded. The key is an integer. The trait information might be explicitly recorded, or can be inferred from the field with some biomedical knowledge or understanding about the data collection process.\\n   (3) Choose an appropriate data type (either \\'continuous\\' or \\'binary\\') for each trait. Write a Python function to convert any given value of the trait to this data type. The function should handle inference about the trait value and convert unknown values to None.\\n   Name the functions \\'convert_trait\\', \\'convert_age\\', and \\'convert_gender\\', respectively.\\n\\nBackground information about the dataset:\\n!Series_title\\t\"A validated single-cell-based strategy to identify diagnostic and therapeutic targets in complex diseases\"\\n!Series_summary\\t\"This SuperSeries is composed of the SubSeries listed below.\"\\n!Series_overall_design\\t\"Refer to individual Series\"\\n\\nSample characteristics dictionary (from \"!Sample_characteristics_ch1\", converted to a Python dictionary that stores the unique values for each field):\\n{0: [\\'cell type: CD4+ T cells\\'], 1: [\\'primary diagnosis: ASTHMA\\', \\'primary diagnosis: ATHEROSCLEROSIS\\', \\'primary diagnosis: BREAST_CANCER\\', \\'primary diagnosis: CHRONIC_LYMPHOCYTIC_LEUKEMIA\\', \\'primary diagnosis: CROHN_DISEASE\\', \\'primary diagnosis: ATOPIC_ECZEMA\\', \\'primary diagnosis: HEALTHY_CONTROL\\', \\'primary diagnosis: INFLUENZA\\', \\'primary diagnosis: OBESITY\\', \\'primary diagnosis: PSORIASIS\\', \\'primary diagnosis: SEASONAL_ALLERGIC_RHINITIS\\', \\'primary diagnosis: TYPE_1_DIABETES\\', \\'primary diagnosis: ACUTE_TONSILLITIS\\', \\'primary diagnosis: ULCERATIVE_COLITIS\\', \\'primary diagnosis: Breast cancer\\', \\'primary diagnosis: Control\\'], 2: [\\'Sex: Male\\', \\'diagnosis2: ATOPIC_ECZEMA\\', \\'Sex: Female\\', \\'diagnosis2: ATHEROSCLEROSIS\\', \\'diagnosis2: ASTHMA_OBESITY\\', \\'diagnosis2: ASTHMA\\', \\'diagnosis2: ASTMHA_SEASONAL_ALLERGIC_RHINITIS\\', \\'diagnosis2: OBESITY\\'], 3: [\\'age: 56\\', \\'Sex: Male\\', \\'age: 20\\', \\'age: 51\\', \\'age: 37\\', \\'age: 61\\', \\'age: 31\\', \\'age: 41\\', \\'age: 80\\', \\'age: 53\\', \\'age: 73\\', \\'age: 60\\', \\'age: 76\\', \\'age: 77\\', \\'age: 74\\', \\'age: 69\\', \\'age: 81\\', \\'age: 70\\', \\'age: 82\\', \\'age: 67\\', \\'age: 78\\', \\'age: 72\\', \\'age: 66\\', \\'age: 36\\', \\'age: 45\\', \\'age: 65\\', \\'age: 48\\', \\'age: 50\\', \\'age: 24\\', \\'age: 42\\'], 4: [nan, \\'age: 63\\', \\'age: 74\\', \\'age: 49\\', \\'age: 60\\', \\'age: 68\\', \\'age: 38\\', \\'age: 16\\', \\'age: 12\\', \\'age: 27\\']}\\n'"
      ]
     },
     "execution_count": 16,
     "metadata": {},
     "output_type": "execute_result"
    }
   ],
   "source": [
    "f'''As a biomedical research team, we are selecting datasets to study the association between the human trait \\'{TRAIT}\\' and genetic factors, optionally considering the influence of age and gender. After searching the GEO database and parsing the matrix file of a series, we obtained background information and sample characteristics data. We will provide textual information about the dataset background, and a Python dictionary storing a list of unique values for each field of the sample characteristics data. Please carefully review the provided information and answer the following questions about this dataset:\n",
    "1. Does this dataset contain gene expression data? (Note: Pure miRNA data is not suitable.)\n",
    "2. For each of the traits \\'{TRAIT}\\', 'age', and 'gender', please address these points:\n",
    "   (1) Is there human data available for this trait?\n",
    "   (2) If so, identify the key in the sample characteristics dictionary where unique values of this trait is recorded. The key is an integer. The trait information might be explicitly recorded, or can be inferred from the field with some biomedical knowledge or understanding about the data collection process.\n",
    "   (3) Choose an appropriate data type (either 'continuous' or 'binary') for each trait. Write a Python function to convert any given value of the trait to this data type. The function should handle inference about the trait value and convert unknown values to None.\n",
    "   Name the functions 'convert_trait', 'convert_age', and 'convert_gender', respectively.\n",
    "\n",
    "Background information about the dataset:\n",
    "{background_info}\n",
    "\n",
    "Sample characteristics dictionary (from \"!Sample_characteristics_ch1\", converted to a Python dictionary that stores the unique values for each field):\n",
    "{clinical_data_unique}\n",
    "'''"
   ]
  },
  {
   "cell_type": "markdown",
   "metadata": {
    "ExecuteTime": {
     "end_time": "2023-12-31T03:58:04.978240504Z",
     "start_time": "2023-12-31T03:58:04.922365324Z"
    },
    "collapsed": false
   },
   "source": [
    "Understand and verify the answer from GPT, to assign values to the below variables. Assign None to the 'row_id' variables if relevant data row was not found.\n",
    "Later we need to let GPT format its answer to automatically do these. But given the complexity of this step, let's grow some insight from the free-text answers for now."
   ]
  },
  {
   "cell_type": "code",
   "execution_count": 44,
   "metadata": {
    "ExecuteTime": {
     "end_time": "2024-01-02T01:03:03.079540570Z",
     "start_time": "2024-01-02T01:03:03.073638535Z"
    },
    "collapsed": false
   },
   "outputs": [],
   "source": [
    "is_gene_availabe = True\n",
    "trait_row = 1\n",
    "age_row = 3\n",
    "gender_row = 2\n",
    "\n",
    "trait_type = 'binary'"
   ]
  },
  {
   "cell_type": "code",
   "execution_count": 45,
   "metadata": {
    "ExecuteTime": {
     "end_time": "2024-01-02T01:03:03.572682163Z",
     "start_time": "2024-01-02T01:03:03.559775513Z"
    },
    "collapsed": false
   },
   "outputs": [],
   "source": [
    "is_available = is_gene_availabe and (trait_row is not None)\n",
    "if not is_available:\n",
    "    save_cohort_info(cohort, JSON_PATH, is_available)\n",
    "    print(\"This cohort is not usable. Please skip the following steps and jump to the next accession number.\")"
   ]
  },
  {
   "cell_type": "code",
   "execution_count": 46,
   "metadata": {
    "ExecuteTime": {
     "end_time": "2024-01-02T01:03:03.973964287Z",
     "start_time": "2024-01-02T01:03:03.964958096Z"
    },
    "collapsed": false
   },
   "outputs": [
    {
     "data": {
      "text/plain": [
       "(0, None, None)"
      ]
     },
     "execution_count": 46,
     "metadata": {},
     "output_type": "execute_result"
    }
   ],
   "source": [
    "def convert_trait(tissue_type):\n",
    "    \"\"\"\n",
    "    Convert tissue type to epilepsy presence (binary).\n",
    "    Assuming epilepsy presence for 'Hippocampus' tissue.\n",
    "    \"\"\"\n",
    "    if tissue_type == 'primary diagnosis: ATHEROSCLEROSIS':\n",
    "        return 1  # Epilepsy present\n",
    "    else:\n",
    "        return 0  # Epilepsy not present\n",
    "\n",
    "def convert_age(age_string):\n",
    "    \"\"\"\n",
    "    Convert age string to a numerical value.\n",
    "    \"\"\"\n",
    "    if age_string.startswith('age: '):\n",
    "        try:\n",
    "            return int(age_string.split('age: ')[1].rstrip(''))  # Extracting numeric part\n",
    "        except ValueError:\n",
    "            return None  # In case of parsing error\n",
    "    else:\n",
    "        return None  # If age string does not follow expected format\n",
    "\n",
    "def convert_gender(gender_string):\n",
    "    \"\"\"\n",
    "    Convert gender string to a binary representation.\n",
    "    Female -> 0, Male -> 1, Unknown -> None\n",
    "    \"\"\"\n",
    "    if gender_string == 'Sex: Female':\n",
    "        return 0\n",
    "    elif gender_string == 'Sex: Male':\n",
    "        return 1\n",
    "    else:\n",
    "        return None  # In case of unknown gender\n",
    "\n",
    "# Example usage\n",
    "example_tissue = 'tissue: Hippocampus'\n",
    "example_age = 'age: 23y'\n",
    "example_gender = 'gender: Male'\n",
    "\n",
    "converted_trait = convert_trait(example_tissue)\n",
    "converted_age = convert_age(example_age)\n",
    "converted_gender = convert_gender(example_gender)\n",
    "\n",
    "converted_trait, converted_age, converted_gender"
   ]
  },
  {
   "cell_type": "code",
   "execution_count": 47,
   "metadata": {
    "ExecuteTime": {
     "end_time": "2024-01-02T01:03:04.637878352Z",
     "start_time": "2024-01-02T01:03:04.593886885Z"
    },
    "collapsed": false
   },
   "outputs": [
    {
     "name": "stderr",
     "output_type": "stream",
     "text": [
      "/home/yxcheng/AI4Science_gold_standard/stage1/YIjiang/../utils.py:208: FutureWarning: DataFrame.applymap has been deprecated. Use DataFrame.map instead.\n",
      "  clinical_df = clinical_df.applymap(convert_fn)\n",
      "/home/yxcheng/AI4Science_gold_standard/stage1/YIjiang/../utils.py:208: FutureWarning: DataFrame.applymap has been deprecated. Use DataFrame.map instead.\n",
      "  clinical_df = clinical_df.applymap(convert_fn)\n",
      "/home/yxcheng/AI4Science_gold_standard/stage1/YIjiang/../utils.py:208: FutureWarning: DataFrame.applymap has been deprecated. Use DataFrame.map instead.\n",
      "  clinical_df = clinical_df.applymap(convert_fn)\n"
     ]
    },
    {
     "data": {
      "text/html": [
       "<div>\n",
       "<style scoped>\n",
       "    .dataframe tbody tr th:only-of-type {\n",
       "        vertical-align: middle;\n",
       "    }\n",
       "\n",
       "    .dataframe tbody tr th {\n",
       "        vertical-align: top;\n",
       "    }\n",
       "\n",
       "    .dataframe thead th {\n",
       "        text-align: right;\n",
       "    }\n",
       "</style>\n",
       "<table border=\"1\" class=\"dataframe\">\n",
       "  <thead>\n",
       "    <tr style=\"text-align: right;\">\n",
       "      <th></th>\n",
       "      <th>GSM3494884</th>\n",
       "      <th>GSM3494885</th>\n",
       "      <th>GSM3494886</th>\n",
       "      <th>GSM3494887</th>\n",
       "      <th>GSM3494888</th>\n",
       "      <th>GSM3494889</th>\n",
       "      <th>GSM3494890</th>\n",
       "      <th>GSM3494891</th>\n",
       "      <th>GSM3494892</th>\n",
       "      <th>GSM3494893</th>\n",
       "      <th>...</th>\n",
       "      <th>GSM3495040</th>\n",
       "      <th>GSM3495041</th>\n",
       "      <th>GSM3495042</th>\n",
       "      <th>GSM3495043</th>\n",
       "      <th>GSM3495044</th>\n",
       "      <th>GSM3495045</th>\n",
       "      <th>GSM3495046</th>\n",
       "      <th>GSM3495047</th>\n",
       "      <th>GSM3495048</th>\n",
       "      <th>GSM3495049</th>\n",
       "    </tr>\n",
       "  </thead>\n",
       "  <tbody>\n",
       "    <tr>\n",
       "      <th>Atherosclerosis</th>\n",
       "      <td>0</td>\n",
       "      <td>0</td>\n",
       "      <td>0</td>\n",
       "      <td>0</td>\n",
       "      <td>0</td>\n",
       "      <td>0</td>\n",
       "      <td>0</td>\n",
       "      <td>0</td>\n",
       "      <td>0</td>\n",
       "      <td>0</td>\n",
       "      <td>...</td>\n",
       "      <td>0</td>\n",
       "      <td>0</td>\n",
       "      <td>0</td>\n",
       "      <td>0</td>\n",
       "      <td>0</td>\n",
       "      <td>0</td>\n",
       "      <td>0</td>\n",
       "      <td>0</td>\n",
       "      <td>0</td>\n",
       "      <td>0</td>\n",
       "    </tr>\n",
       "    <tr>\n",
       "      <th>Age</th>\n",
       "      <td>56</td>\n",
       "      <td>None</td>\n",
       "      <td>20</td>\n",
       "      <td>51</td>\n",
       "      <td>37</td>\n",
       "      <td>61</td>\n",
       "      <td>None</td>\n",
       "      <td>31</td>\n",
       "      <td>56</td>\n",
       "      <td>41</td>\n",
       "      <td>...</td>\n",
       "      <td>20</td>\n",
       "      <td>69</td>\n",
       "      <td>69</td>\n",
       "      <td>47</td>\n",
       "      <td>47</td>\n",
       "      <td>56</td>\n",
       "      <td>54</td>\n",
       "      <td>53</td>\n",
       "      <td>50</td>\n",
       "      <td>22</td>\n",
       "    </tr>\n",
       "    <tr>\n",
       "      <th>Gender</th>\n",
       "      <td>1</td>\n",
       "      <td>None</td>\n",
       "      <td>0</td>\n",
       "      <td>0</td>\n",
       "      <td>1</td>\n",
       "      <td>1</td>\n",
       "      <td>None</td>\n",
       "      <td>1</td>\n",
       "      <td>0</td>\n",
       "      <td>0</td>\n",
       "      <td>...</td>\n",
       "      <td>1</td>\n",
       "      <td>1</td>\n",
       "      <td>0</td>\n",
       "      <td>1</td>\n",
       "      <td>1</td>\n",
       "      <td>0</td>\n",
       "      <td>0</td>\n",
       "      <td>0</td>\n",
       "      <td>0</td>\n",
       "      <td>1</td>\n",
       "    </tr>\n",
       "  </tbody>\n",
       "</table>\n",
       "<p>3 rows × 166 columns</p>\n",
       "</div>"
      ],
      "text/plain": [
       "                 GSM3494884 GSM3494885  GSM3494886  GSM3494887  GSM3494888  \\\n",
       "Atherosclerosis           0          0           0           0           0   \n",
       "Age                      56       None          20          51          37   \n",
       "Gender                    1       None           0           0           1   \n",
       "\n",
       "                 GSM3494889 GSM3494890  GSM3494891  GSM3494892  GSM3494893  \\\n",
       "Atherosclerosis           0          0           0           0           0   \n",
       "Age                      61       None          31          56          41   \n",
       "Gender                    1       None           1           0           0   \n",
       "\n",
       "                 ...  GSM3495040 GSM3495041  GSM3495042  GSM3495043  \\\n",
       "Atherosclerosis  ...           0          0           0           0   \n",
       "Age              ...          20         69          69          47   \n",
       "Gender           ...           1          1           0           1   \n",
       "\n",
       "                 GSM3495044  GSM3495045  GSM3495046  GSM3495047  GSM3495048  \\\n",
       "Atherosclerosis           0           0           0           0           0   \n",
       "Age                      47          56          54          53          50   \n",
       "Gender                    1           0           0           0           0   \n",
       "\n",
       "                 GSM3495049  \n",
       "Atherosclerosis           0  \n",
       "Age                      22  \n",
       "Gender                    1  \n",
       "\n",
       "[3 rows x 166 columns]"
      ]
     },
     "execution_count": 47,
     "metadata": {},
     "output_type": "execute_result"
    }
   ],
   "source": [
    "selected_clinical_data = geo_select_clinical_features(clinical_data, TRAIT, trait_row, convert_trait, age_row=age_row,\n",
    "                                                      convert_age=convert_age, gender_row=gender_row,\n",
    "                                                      convert_gender=convert_gender)\n",
    "selected_clinical_data.head()"
   ]
  },
  {
   "cell_type": "markdown",
   "metadata": {
    "ExecuteTime": {
     "end_time": "2023-12-31T03:58:04.978664193Z",
     "start_time": "2023-12-31T03:58:04.966117261Z"
    },
    "collapsed": false
   },
   "source": [
    "### Genetic data preprocessing and final filtering"
   ]
  },
  {
   "cell_type": "code",
   "execution_count": 48,
   "metadata": {
    "ExecuteTime": {
     "end_time": "2024-01-02T01:03:06.246474256Z",
     "start_time": "2024-01-02T01:03:05.670354792Z"
    },
    "collapsed": false
   },
   "outputs": [
    {
     "data": {
      "text/html": [
       "<div>\n",
       "<style scoped>\n",
       "    .dataframe tbody tr th:only-of-type {\n",
       "        vertical-align: middle;\n",
       "    }\n",
       "\n",
       "    .dataframe tbody tr th {\n",
       "        vertical-align: top;\n",
       "    }\n",
       "\n",
       "    .dataframe thead th {\n",
       "        text-align: right;\n",
       "    }\n",
       "</style>\n",
       "<table border=\"1\" class=\"dataframe\">\n",
       "  <thead>\n",
       "    <tr style=\"text-align: right;\">\n",
       "      <th></th>\n",
       "      <th>GSM3494884</th>\n",
       "      <th>GSM3494885</th>\n",
       "      <th>GSM3494886</th>\n",
       "      <th>GSM3494887</th>\n",
       "      <th>GSM3494888</th>\n",
       "      <th>GSM3494889</th>\n",
       "      <th>GSM3494890</th>\n",
       "      <th>GSM3494891</th>\n",
       "      <th>GSM3494892</th>\n",
       "      <th>GSM3494893</th>\n",
       "      <th>...</th>\n",
       "      <th>GSM3495040</th>\n",
       "      <th>GSM3495041</th>\n",
       "      <th>GSM3495042</th>\n",
       "      <th>GSM3495043</th>\n",
       "      <th>GSM3495044</th>\n",
       "      <th>GSM3495045</th>\n",
       "      <th>GSM3495046</th>\n",
       "      <th>GSM3495047</th>\n",
       "      <th>GSM3495048</th>\n",
       "      <th>GSM3495049</th>\n",
       "    </tr>\n",
       "    <tr>\n",
       "      <th>ID</th>\n",
       "      <th></th>\n",
       "      <th></th>\n",
       "      <th></th>\n",
       "      <th></th>\n",
       "      <th></th>\n",
       "      <th></th>\n",
       "      <th></th>\n",
       "      <th></th>\n",
       "      <th></th>\n",
       "      <th></th>\n",
       "      <th></th>\n",
       "      <th></th>\n",
       "      <th></th>\n",
       "      <th></th>\n",
       "      <th></th>\n",
       "      <th></th>\n",
       "      <th></th>\n",
       "      <th></th>\n",
       "      <th></th>\n",
       "      <th></th>\n",
       "      <th></th>\n",
       "    </tr>\n",
       "  </thead>\n",
       "  <tbody>\n",
       "    <tr>\n",
       "      <th>1</th>\n",
       "      <td>6.948572</td>\n",
       "      <td>6.783931</td>\n",
       "      <td>6.780049</td>\n",
       "      <td>7.159348</td>\n",
       "      <td>7.311038</td>\n",
       "      <td>8.522366</td>\n",
       "      <td>7.208509</td>\n",
       "      <td>7.339519</td>\n",
       "      <td>7.292977</td>\n",
       "      <td>7.244630</td>\n",
       "      <td>...</td>\n",
       "      <td>6.957283</td>\n",
       "      <td>7.024298</td>\n",
       "      <td>6.953613</td>\n",
       "      <td>6.610053</td>\n",
       "      <td>6.493569</td>\n",
       "      <td>7.024804</td>\n",
       "      <td>7.469483</td>\n",
       "      <td>6.559963</td>\n",
       "      <td>6.866259</td>\n",
       "      <td>7.015812</td>\n",
       "    </tr>\n",
       "    <tr>\n",
       "      <th>2</th>\n",
       "      <td>4.267766</td>\n",
       "      <td>3.692029</td>\n",
       "      <td>3.649207</td>\n",
       "      <td>4.331090</td>\n",
       "      <td>3.903376</td>\n",
       "      <td>4.191000</td>\n",
       "      <td>3.771017</td>\n",
       "      <td>4.293601</td>\n",
       "      <td>3.963668</td>\n",
       "      <td>4.104845</td>\n",
       "      <td>...</td>\n",
       "      <td>4.271395</td>\n",
       "      <td>4.137957</td>\n",
       "      <td>4.130696</td>\n",
       "      <td>3.941061</td>\n",
       "      <td>4.238553</td>\n",
       "      <td>3.597590</td>\n",
       "      <td>3.454440</td>\n",
       "      <td>3.558840</td>\n",
       "      <td>4.008234</td>\n",
       "      <td>3.686148</td>\n",
       "    </tr>\n",
       "    <tr>\n",
       "      <th>3</th>\n",
       "      <td>4.334513</td>\n",
       "      <td>3.981417</td>\n",
       "      <td>3.922257</td>\n",
       "      <td>4.549893</td>\n",
       "      <td>4.140639</td>\n",
       "      <td>4.013236</td>\n",
       "      <td>3.996610</td>\n",
       "      <td>4.933703</td>\n",
       "      <td>3.735861</td>\n",
       "      <td>3.992670</td>\n",
       "      <td>...</td>\n",
       "      <td>4.303602</td>\n",
       "      <td>4.277528</td>\n",
       "      <td>4.234886</td>\n",
       "      <td>4.187910</td>\n",
       "      <td>4.143072</td>\n",
       "      <td>3.761361</td>\n",
       "      <td>3.791233</td>\n",
       "      <td>3.793128</td>\n",
       "      <td>3.344874</td>\n",
       "      <td>4.103369</td>\n",
       "    </tr>\n",
       "    <tr>\n",
       "      <th>9</th>\n",
       "      <td>7.140005</td>\n",
       "      <td>7.411580</td>\n",
       "      <td>6.722240</td>\n",
       "      <td>7.117540</td>\n",
       "      <td>6.874786</td>\n",
       "      <td>7.020385</td>\n",
       "      <td>7.031787</td>\n",
       "      <td>6.980904</td>\n",
       "      <td>7.003364</td>\n",
       "      <td>6.794992</td>\n",
       "      <td>...</td>\n",
       "      <td>7.121634</td>\n",
       "      <td>6.912987</td>\n",
       "      <td>7.270386</td>\n",
       "      <td>7.561971</td>\n",
       "      <td>8.002471</td>\n",
       "      <td>7.195000</td>\n",
       "      <td>7.414168</td>\n",
       "      <td>7.845036</td>\n",
       "      <td>7.263841</td>\n",
       "      <td>7.301888</td>\n",
       "    </tr>\n",
       "    <tr>\n",
       "      <th>10</th>\n",
       "      <td>4.486670</td>\n",
       "      <td>4.615900</td>\n",
       "      <td>3.966261</td>\n",
       "      <td>4.543677</td>\n",
       "      <td>4.150289</td>\n",
       "      <td>4.216883</td>\n",
       "      <td>4.736946</td>\n",
       "      <td>4.296770</td>\n",
       "      <td>4.462828</td>\n",
       "      <td>4.089816</td>\n",
       "      <td>...</td>\n",
       "      <td>4.162474</td>\n",
       "      <td>4.563109</td>\n",
       "      <td>3.977201</td>\n",
       "      <td>4.644588</td>\n",
       "      <td>4.734826</td>\n",
       "      <td>4.412295</td>\n",
       "      <td>4.422868</td>\n",
       "      <td>4.763507</td>\n",
       "      <td>5.003758</td>\n",
       "      <td>4.061337</td>\n",
       "    </tr>\n",
       "  </tbody>\n",
       "</table>\n",
       "<p>5 rows × 166 columns</p>\n",
       "</div>"
      ],
      "text/plain": [
       "    GSM3494884  GSM3494885  GSM3494886  GSM3494887  GSM3494888  GSM3494889  \\\n",
       "ID                                                                           \n",
       "1     6.948572    6.783931    6.780049    7.159348    7.311038    8.522366   \n",
       "2     4.267766    3.692029    3.649207    4.331090    3.903376    4.191000   \n",
       "3     4.334513    3.981417    3.922257    4.549893    4.140639    4.013236   \n",
       "9     7.140005    7.411580    6.722240    7.117540    6.874786    7.020385   \n",
       "10    4.486670    4.615900    3.966261    4.543677    4.150289    4.216883   \n",
       "\n",
       "    GSM3494890  GSM3494891  GSM3494892  GSM3494893  ...  GSM3495040  \\\n",
       "ID                                                  ...               \n",
       "1     7.208509    7.339519    7.292977    7.244630  ...    6.957283   \n",
       "2     3.771017    4.293601    3.963668    4.104845  ...    4.271395   \n",
       "3     3.996610    4.933703    3.735861    3.992670  ...    4.303602   \n",
       "9     7.031787    6.980904    7.003364    6.794992  ...    7.121634   \n",
       "10    4.736946    4.296770    4.462828    4.089816  ...    4.162474   \n",
       "\n",
       "    GSM3495041  GSM3495042  GSM3495043  GSM3495044  GSM3495045  GSM3495046  \\\n",
       "ID                                                                           \n",
       "1     7.024298    6.953613    6.610053    6.493569    7.024804    7.469483   \n",
       "2     4.137957    4.130696    3.941061    4.238553    3.597590    3.454440   \n",
       "3     4.277528    4.234886    4.187910    4.143072    3.761361    3.791233   \n",
       "9     6.912987    7.270386    7.561971    8.002471    7.195000    7.414168   \n",
       "10    4.563109    3.977201    4.644588    4.734826    4.412295    4.422868   \n",
       "\n",
       "    GSM3495047  GSM3495048  GSM3495049  \n",
       "ID                                      \n",
       "1     6.559963    6.866259    7.015812  \n",
       "2     3.558840    4.008234    3.686148  \n",
       "3     3.793128    3.344874    4.103369  \n",
       "9     7.845036    7.263841    7.301888  \n",
       "10    4.763507    5.003758    4.061337  \n",
       "\n",
       "[5 rows x 166 columns]"
      ]
     },
     "execution_count": 48,
     "metadata": {},
     "output_type": "execute_result"
    }
   ],
   "source": [
    "genetic_data = get_genetic_data(matrix_file)\n",
    "genetic_data.head()"
   ]
  },
  {
   "cell_type": "code",
   "execution_count": 49,
   "metadata": {
    "ExecuteTime": {
     "end_time": "2024-01-02T01:03:06.250833943Z",
     "start_time": "2024-01-02T01:03:06.246758837Z"
    },
    "collapsed": false
   },
   "outputs": [
    {
     "data": {
      "text/plain": [
       "['1',\n",
       " '2',\n",
       " '3',\n",
       " '9',\n",
       " '10',\n",
       " '12',\n",
       " '13',\n",
       " '14',\n",
       " '15',\n",
       " '16',\n",
       " '18',\n",
       " '19',\n",
       " '20',\n",
       " '21',\n",
       " '22',\n",
       " '23',\n",
       " '24',\n",
       " '25',\n",
       " '26',\n",
       " '27']"
      ]
     },
     "execution_count": 49,
     "metadata": {},
     "output_type": "execute_result"
    }
   ],
   "source": [
    "gene_row_ids = genetic_data.index[:20].tolist()\n",
    "gene_row_ids"
   ]
  },
  {
   "cell_type": "markdown",
   "metadata": {
    "ExecuteTime": {
     "end_time": "2023-12-31T03:30:41.595335164Z",
     "start_time": "2023-12-31T03:30:41.513232329Z"
    },
    "collapsed": false
   },
   "source": [
    "Check if the gene dataset requires mapping to get the gene symbols corresponding to each data row."
   ]
  },
  {
   "cell_type": "markdown",
   "metadata": {
    "collapsed": false
   },
   "source": [
    "Reference prompt:"
   ]
  },
  {
   "cell_type": "code",
   "execution_count": 50,
   "metadata": {
    "ExecuteTime": {
     "end_time": "2024-01-02T01:03:07.586216481Z",
     "start_time": "2024-01-02T01:03:07.574527035Z"
    },
    "collapsed": false
   },
   "outputs": [
    {
     "data": {
      "text/plain": [
       "\"\\nBelow are the row headers of a gene expression dataset in GEO. Based on your biomedical knowledge, are they human gene symbols, or are they some other identifiers that need to be mapped to gene symbols? Your answer should be concluded by starting a new line and strictly following this format:\\nrequires_gene_mapping = (True or False)\\n\\nRow headers:\\n['1', '2', '3', '9', '10', '12', '13', '14', '15', '16', '18', '19', '20', '21', '22', '23', '24', '25', '26', '27']\\n\""
      ]
     },
     "execution_count": 50,
     "metadata": {},
     "output_type": "execute_result"
    }
   ],
   "source": [
    "f'''\n",
    "Below are the row headers of a gene expression dataset in GEO. Based on your biomedical knowledge, are they human gene symbols, or are they some other identifiers that need to be mapped to gene symbols? Your answer should be concluded by starting a new line and strictly following this format:\n",
    "requires_gene_mapping = (True or False)\n",
    "\n",
    "Row headers:\n",
    "{gene_row_ids}\n",
    "'''"
   ]
  },
  {
   "cell_type": "markdown",
   "metadata": {
    "collapsed": false
   },
   "source": [
    "If not required, jump directly to the gene normalization step"
   ]
  },
  {
   "cell_type": "code",
   "execution_count": 51,
   "metadata": {
    "ExecuteTime": {
     "end_time": "2024-01-02T01:03:08.263712538Z",
     "start_time": "2024-01-02T01:03:08.260656314Z"
    },
    "collapsed": false
   },
   "outputs": [],
   "source": [
    "requires_gene_mapping = True"
   ]
  },
  {
   "cell_type": "code",
   "execution_count": 52,
   "metadata": {
    "ExecuteTime": {
     "end_time": "2024-01-02T01:03:33.822550310Z",
     "start_time": "2024-01-02T01:03:08.648958912Z"
    },
    "collapsed": false
   },
   "outputs": [
    {
     "name": "stdout",
     "output_type": "stream",
     "text": [
      "{'ID': ['1', '2', '3', '9', '10'], 'ENTREZ_GENE_ID': ['1', '2', '3', '9', '10'], 'SPOT_ID': [1.0, 2.0, 3.0, 9.0, 10.0]}\n"
     ]
    }
   ],
   "source": [
    "if requires_gene_mapping:\n",
    "    gene_annotation = get_gene_annotation(soft_file)\n",
    "    gene_annotation_summary = preview_df(gene_annotation)\n",
    "    print(gene_annotation_summary)"
   ]
  },
  {
   "cell_type": "markdown",
   "metadata": {
    "ExecuteTime": {
     "end_time": "2023-12-31T03:58:04.978931927Z",
     "start_time": "2023-12-31T03:58:04.966328339Z"
    },
    "collapsed": false
   },
   "source": [
    "Observe the first few cells in the ID column of the gene annotation dataframe, to find the names of columns that store the gene probe IDs and gene symbols respectively.\n",
    "Reference prompt:"
   ]
  },
  {
   "cell_type": "code",
   "execution_count": 53,
   "metadata": {
    "ExecuteTime": {
     "end_time": "2024-01-02T01:03:33.822912446Z",
     "start_time": "2024-01-02T01:03:33.804491826Z"
    },
    "collapsed": false
   },
   "outputs": [
    {
     "name": "stdout",
     "output_type": "stream",
     "text": [
      "\n",
      "    As a biomedical research team, we extracted the gene annotation data from a series in the GEO database, and saved it to a Python dictionary. Please read the dictionary, and decide which key stores the ID of the probe, and which key stores the gene symbols. Please strict follow this format in your answer:\n",
      "    probe_name_key = 'key_name1'\n",
      "    gene_name_key = 'key_name2'\n",
      "\n",
      "    Gene annotation dictionary:\n",
      "    {'ID': ['1', '2', '3', '9', '10'], 'ENTREZ_GENE_ID': ['1', '2', '3', '9', '10'], 'SPOT_ID': [1.0, 2.0, 3.0, 9.0, 10.0]}\n",
      "    \n"
     ]
    }
   ],
   "source": [
    "if requires_gene_mapping:\n",
    "    print(f'''\n",
    "    As a biomedical research team, we extracted the gene annotation data from a series in the GEO database, and saved it to a Python dictionary. Please read the dictionary, and decide which key stores the ID of the probe, and which key stores the gene symbols. Please strict follow this format in your answer:\n",
    "    probe_name_key = 'key_name1'\n",
    "    gene_name_key = 'key_name2'\n",
    "\n",
    "    Gene annotation dictionary:\n",
    "    {gene_annotation_summary}\n",
    "    ''')"
   ]
  },
  {
   "cell_type": "code",
   "execution_count": 54,
   "metadata": {
    "ExecuteTime": {
     "end_time": "2024-01-02T01:03:35.113359369Z",
     "start_time": "2024-01-02T01:03:33.804666371Z"
    },
    "collapsed": false
   },
   "outputs": [],
   "source": [
    "if requires_gene_mapping:\n",
    "    probe_id_key = 'ID'\n",
    "    gene_symb_key = 'ENTREZ_GENE_ID'\n",
    "    gene_mapping = get_gene_mapping(gene_annotation, probe_id_key, gene_symb_key)\n",
    "    genetic_data = apply_gene_mapping(genetic_data, gene_mapping)"
   ]
  },
  {
   "cell_type": "code",
   "execution_count": 55,
   "metadata": {
    "ExecuteTime": {
     "end_time": "2024-01-02T01:03:35.156584675Z",
     "start_time": "2024-01-02T01:03:35.114652593Z"
    },
    "collapsed": false
   },
   "outputs": [
    {
     "name": "stderr",
     "output_type": "stream",
     "text": [
      "1000 input query terms found no hit:\t['-0.010425045', '-0.045320336', '-0.081080626', '-0.103844598', '-0.126973525', '-0.153879339', '-0\n",
      "1000 input query terms found no hit:\t['10.00273342', '10.00273612', '10.00274255', '10.00274412', '10.00275888', '10.00278431', '10.00278\n",
      "1000 input query terms found no hit:\t['10.01321272', '10.01321344', '10.01322636', '10.01325566', '10.01326471', '10.01326535', '10.01327\n",
      "1000 input query terms found no hit:\t['10.02343214', '10.02343229', '10.02343512', '10.02344969', '10.02345237', '10.02345688', '10.02352\n",
      "1000 input query terms found no hit:\t['10.03400799', '10.03402123', '10.03402195', '10.03402292', '10.0340342', '10.03404372', '10.034056\n",
      "1000 input query terms found no hit:\t['10.04459324', '10.04459383', '10.04460433', '10.04461495', '10.04462863', '10.04464208', '10.04464\n",
      "1000 input query terms found no hit:\t['10.05477858', '10.05477889', '10.05477974', '10.05478872', '10.05480876', '10.0548101', '10.054821\n",
      "1000 input query terms found no hit:\t['10.0651671', '10.06517167', '10.06517915', '10.0651913', '10.06519279', '10.06519609', '10.0652058\n",
      "1000 input query terms found no hit:\t['10.07612761', '10.07612948', '10.07613631', '10.07615703', '10.07616724', '10.07621928', '10.07622\n",
      "1000 input query terms found no hit:\t['10.08722204', '10.08722519', '10.08725384', '10.08725633', '10.08727746', '10.08730001', '10.08731\n",
      "1000 input query terms found no hit:\t['10.09826609', '10.09826789', '10.09828311', '10.09830266', '10.09830471', '10.0983062', '10.098308\n",
      "1000 input query terms found no hit:\t['10.10970574', '10.109709', '10.10971107', '10.10971196', '10.10972659', '10.10972805', '10.1097543\n",
      "1000 input query terms found no hit:\t['10.12028858', '10.12029267', '10.12029727', '10.12032343', '10.12033664', '10.12034812', '10.12034\n",
      "1000 input query terms found no hit:\t['10.13132803', '10.13135164', '10.1313652', '10.13136713', '10.13137063', '10.13137538', '10.131395\n",
      "1000 input query terms found no hit:\t['10.14164017', '10.14164438', '10.1416664', '10.14166908', '10.14170084', '10.14172273', '10.141728\n",
      "1000 input query terms found no hit:\t['10.15256097', '10.15257412', '10.15257653', '10.15259174', '10.15260607', '10.15261633', '10.15263\n",
      "1000 input query terms found no hit:\t['10.163909', '10.16391761', '10.16391853', '10.16398445', '10.16398883', '10.16399183', '10.1640024\n",
      "1000 input query terms found no hit:\t['10.17506015', '10.17508087', '10.17509074', '10.17510627', '10.17512016', '10.17512315', '10.17512\n",
      "1000 input query terms found no hit:\t['10.18638825', '10.18639889', '10.18640224', '10.18641732', '10.18645348', '10.18646099', '10.18647\n",
      "1000 input query terms found no hit:\t['10.19762852', '10.19763326', '10.19764484', '10.19766644', '10.19767639', '10.19769673', '10.19769\n",
      "1000 input query terms found no hit:\t['10.20951032', '10.20952169', '10.20952484', '10.20952571', '10.2095526', '10.20958751', '10.209589\n",
      "1000 input query terms found no hit:\t['10.2211866', '10.22118856', '10.22118979', '10.22120227', '10.22123658', '10.22124303', '10.221256\n",
      "1000 input query terms found no hit:\t['10.23315214', '10.23315713', '10.23316742', '10.23316802', '10.23318272', '10.23319637', '10.23320\n",
      "1000 input query terms found no hit:\t['10.24535689', '10.2453659', '10.24536643', '10.24536924', '10.24538957', '10.24540879', '10.245420\n",
      "1000 input query terms found no hit:\t['10.25744847', '10.25745127', '10.2574558', '10.25747314', '10.25747367', '10.25747442', '10.257481\n",
      "1000 input query terms found no hit:\t['10.26942903', '10.2694424', '10.26945058', '10.26946239', '10.26947049', '10.26947876', '10.269489\n",
      "1000 input query terms found no hit:\t['10.28167696', '10.28167942', '10.28168079', '10.28168169', '10.28169516', '10.28169777', '10.28174\n",
      "1000 input query terms found no hit:\t['10.29365911', '10.29365936', '10.29367577', '10.29370355', '10.29373367', '10.29373831', '10.29373\n",
      "1000 input query terms found no hit:\t['10.30673896', '10.30675156', '10.30676228', '10.30677032', '10.30681985', '10.30682123', '10.30684\n",
      "1000 input query terms found no hit:\t['10.31914374', '10.31914988', '10.31915224', '10.31920847', '10.31920856', '10.31921425', '10.31923\n",
      "1000 input query terms found no hit:\t['10.33219253', '10.33220613', '10.33220856', '10.33221003', '10.33222032', '10.33222769', '10.33224\n",
      "1000 input query terms found no hit:\t['10.3452631', '10.34529761', '10.34531629', '10.34531911', '10.34532446', '10.34532926', '10.345369\n",
      "1000 input query terms found no hit:\t['10.3575007', '10.35750961', '10.35752325', '10.35754073', '10.35756062', '10.35757227', '10.357600\n",
      "1000 input query terms found no hit:\t['10.3704898', '10.37051554', '10.37053915', '10.37054862', '10.37056729', '10.37059235', '10.370592\n",
      "1000 input query terms found no hit:\t['10.3837981', '10.38380012', '10.3838088', '10.3838315', '10.38383235', '10.38383468', '10.38383475\n",
      "1000 input query terms found no hit:\t['10.39696272', '10.39698577', '10.39698753', '10.39698942', '10.39699192', '10.39700204', '10.39701\n",
      "1000 input query terms found no hit:\t['10.40973287', '10.40974753', '10.40975234', '10.40976045', '10.40976305', '10.40977298', '10.40978\n",
      "1000 input query terms found no hit:\t['10.42342276', '10.42344943', '10.42346364', '10.4234711', '10.42347969', '10.42350306', '10.423523\n",
      "1000 input query terms found no hit:\t['10.436574', '10.43657774', '10.43658897', '10.43659699', '10.43661995', '10.43663019', '10.4366618\n",
      "1000 input query terms found no hit:\t['10.44950763', '10.44952481', '10.44952558', '10.44952963', '10.44953071', '10.44953259', '10.44953\n",
      "1000 input query terms found no hit:\t['10.46269139', '10.46269545', '10.46270159', '10.46271327', '10.46272437', '10.46275275', '10.46276\n",
      "1000 input query terms found no hit:\t['10.47702136', '10.47703357', '10.47708149', '10.47708774', '10.47708937', '10.47710112', '10.47711\n",
      "1000 input query terms found no hit:\t['10.4908941', '10.49089756', '10.49089862', '10.49089991', '10.49090105', '10.4909089', '10.4909122\n",
      "1000 input query terms found no hit:\t['10.50583103', '10.50583268', '10.5058631', '10.505885', '10.50589311', '10.50589877', '10.50591629\n",
      "1000 input query terms found no hit:\t['10.52048011', '10.52048187', '10.52049387', '10.52050435', '10.52055335', '10.52055584', '10.52061\n",
      "1000 input query terms found no hit:\t['10.53494814', '10.53496767', '10.53499393', '10.53499499', '10.53499558', '10.53500072', '10.53503\n",
      "1000 input query terms found no hit:\t['10.55068513', '10.5507068', '10.55072923', '10.55077105', '10.55077639', '10.55077735', '10.550779\n",
      "1000 input query terms found no hit:\t['10.56568312', '10.56568572', '10.5657109', '10.56572096', '10.56572265', '10.5657503', '10.565753'\n",
      "1000 input query terms found no hit:\t['10.58079295', '10.58081336', '10.58081632', '10.58083572', '10.58084877', '10.5808625', '10.580894\n",
      "1000 input query terms found no hit:\t['10.59625937', '10.59626066', '10.59627495', '10.59636649', '10.59637334', '10.59645798', '10.59646\n",
      "1000 input query terms found no hit:\t['10.61204482', '10.61207178', '10.61210008', '10.61211107', '10.61215619', '10.61217197', '10.61219\n",
      "1000 input query terms found no hit:\t['10.6277919', '10.62780699', '10.62781737', '10.62783915', '10.62788964', '10.62789649', '10.627954\n",
      "1000 input query terms found no hit:\t['10.64375016', '10.64376138', '10.64381875', '10.64383896', '10.64384777', '10.64385014', '10.64389\n",
      "1000 input query terms found no hit:\t['10.65957491', '10.65958673', '10.65959211', '10.6596216', '10.65963933', '10.65964448', '10.659648\n",
      "1000 input query terms found no hit:\t['10.67719461', '10.67720992', '10.67723862', '10.67727299', '10.67728973', '10.67732219', '10.67733\n",
      "1000 input query terms found no hit:\t['10.69263575', '10.69265888', '10.69267762', '10.69268266', '10.69270228', '10.69271194', '10.69271\n",
      "1000 input query terms found no hit:\t['10.7098454', '10.70987286', '10.70987941', '10.70989881', '10.70994189', '10.70994231', '10.709947\n",
      "1000 input query terms found no hit:\t['10.72680846', '10.72683041', '10.72684128', '10.72685034', '10.72686689', '10.72687013', '10.72687\n",
      "1000 input query terms found no hit:\t['10.74351797', '10.7436076', '10.74363225', '10.74363482', '10.74363945', '10.7436582', '10.7436769\n",
      "1000 input query terms found no hit:\t['10.75976642', '10.75976939', '10.75979926', '10.75981448', '10.7598154', '10.75981902', '10.759822\n",
      "1000 input query terms found no hit:\t['10.77739974', '10.77741633', '10.77742086', '10.7774219', '10.77745893', '10.77746937', '10.777475\n",
      "1000 input query terms found no hit:\t['10.79438714', '10.79441084', '10.79441394', '10.79442862', '10.79445382', '10.79445945', '10.79448\n",
      "1000 input query terms found no hit:\t['10.81171756', '10.81174753', '10.81174891', '10.81176049', '10.81176097', '10.81177091', '10.81177\n",
      "1000 input query terms found no hit:\t['10.82900603', '10.82902418', '10.82903628', '10.82904934', '10.82905217', '10.82911007', '10.82913\n",
      "1000 input query terms found no hit:\t['10.84705945', '10.84706747', '10.84707243', '10.84708789', '10.84709437', '10.84715443', '10.84715\n",
      "1000 input query terms found no hit:\t['10.86510479', '10.86511069', '10.86513001', '10.86522083', '10.86526963', '10.86529298', '10.86531\n",
      "1000 input query terms found no hit:\t['10.88247839', '10.88249053', '10.88250043', '10.88251011', '10.88251539', '10.8825161', '10.882523\n",
      "1000 input query terms found no hit:\t['10.89903431', '10.89904264', '10.89908429', '10.89909058', '10.89909211', '10.89909549', '10.89911\n",
      "1000 input query terms found no hit:\t['10.91601702', '10.91601715', '10.9160238', '10.91606035', '10.91607222', '10.91607797', '10.916085\n",
      "1000 input query terms found no hit:\t['10.93319226', '10.93321229', '10.93321648', '10.93321665', '10.93322154', '10.93322822', '10.93325\n",
      "1000 input query terms found no hit:\t['10.9505744', '10.95060653', '10.95062116', '10.95062264', '10.95064495', '10.95065094', '10.950655\n",
      "1000 input query terms found no hit:\t['10.96815098', '10.9681635', '10.96817438', '10.96819203', '10.96819851', '10.96821399', '10.968232\n",
      "1000 input query terms found no hit:\t['10.984847', '10.98487678', '10.98488481', '10.98489404', '10.98489709', '10.98490524', '10.9849701\n",
      "1000 input query terms found no hit:\t['100128292', '100128298', '100128317', '100128320', '100128325', '100128327', '100128329', '1001283\n",
      "1000 input query terms found no hit:\t['100506235', '100506236', '100506237', '100506241', '100506243', '100506253', '100506257', '1005062\n",
      "1000 input query terms found no hit:\t['101927910', '101927914', '101927916', '101927919', '101927921', '101927926', '101927942', '1019279\n",
      "1000 input query terms found no hit:\t['10369', '10370', '10376', '10379', '10380', '10381', '10382', '10383', '10385', '10388', '10389', \n",
      "1000 input query terms found no hit:\t['11.00864131', '11.0086548', '11.00865648', '11.00866075', '11.0086931', '11.00869484', '11.0086996\n",
      "1000 input query terms found no hit:\t['11.02592182', '11.02595282', '11.02595309', '11.02595768', '11.02596339', '11.02596449', '11.02596\n",
      "1000 input query terms found no hit:\t['11.04382211', '11.04382305', '11.04384956', '11.04388342', '11.04388491', '11.04389244', '11.04389\n",
      "1000 input query terms found no hit:\t['11.06132355', '11.0613313', '11.06134394', '11.06135387', '11.06137675', '11.06138501', '11.061395\n",
      "1000 input query terms found no hit:\t['11.07906209', '11.07907487', '11.07910363', '11.07910867', '11.07911112', '11.07913365', '11.07915\n",
      "1000 input query terms found no hit:\t['11.09756951', '11.09757278', '11.09759166', '11.09759807', '11.09762328', '11.09762769', '11.09766\n",
      "1000 input query terms found no hit:\t['11.11567221', '11.11567292', '11.11571435', '11.11579662', '11.11581257', '11.11581578', '11.11583\n",
      "1000 input query terms found no hit:\t['11.13368209', '11.13369662', '11.13373802', '11.13375165', '11.13380158', '11.13380554', '11.13381\n",
      "1000 input query terms found no hit:\t['11.15238775', '11.15239141', '11.15241531', '11.15243054', '11.15245296', '11.15245532', '11.15246\n",
      "1000 input query terms found no hit:\t['11.16984982', '11.16986705', '11.16992778', '11.16993253', '11.16993293', '11.17002478', '11.17002\n",
      "1000 input query terms found no hit:\t['11.18909278', '11.18910763', '11.18913744', '11.18914396', '11.18915153', '11.18916454', '11.18916\n",
      "1000 input query terms found no hit:\t['11.20777736', '11.2078032', '11.20780861', '11.20781526', '11.20788694', '11.20788989', '11.207897\n",
      "1000 input query terms found no hit:\t['11.2260682', '11.2260848', '11.22609879', '11.22613476', '11.22613772', '11.22616608', '11.2261686\n",
      "1000 input query terms found no hit:\t['11.24437885', '11.24439012', '11.24441386', '11.24445057', '11.24449558', '11.24449603', '11.24449\n",
      "1000 input query terms found no hit:\t['11.2643347', '11.26436882', '11.26439285', '11.2643946', '11.26447009', '11.26448168', '11.2645003\n",
      "1000 input query terms found no hit:\t['11.28539548', '11.28540151', '11.28541625', '11.28544199', '11.28557346', '11.28557852', '11.28560\n",
      "1000 input query terms found no hit:\t['11.30642188', '11.30646233', '11.30653823', '11.30655036', '11.30655394', '11.30656331', '11.30657\n",
      "1000 input query terms found no hit:\t['11.32739199', '11.32740547', '11.32741602', '11.32741995', '11.32747926', '11.32750095', '11.32750\n",
      "1000 input query terms found no hit:\t['11.34778542', '11.34779963', '11.34780516', '11.34790767', '11.34791523', '11.34791936', '11.34794\n",
      "1000 input query terms found no hit:\t['11.36948614', '11.36948864', '11.36949505', '11.36952346', '11.36952848', '11.36955449', '11.36955\n",
      "1000 input query terms found no hit:\t['11.3930668', '11.39307283', '11.39308863', '11.39308904', '11.39311439', '11.39313812', '11.393148\n",
      "1000 input query terms found no hit:\t['11.41666164', '11.41667437', '11.41670834', '11.41672153', '11.41672233', '11.41673122', '11.41673\n",
      "1000 input query terms found no hit:\t['11.44070593', '11.44070676', '11.44076203', '11.44077469', '11.44079212', '11.4408322', '11.440847\n",
      "1000 input query terms found no hit:\t['11.46522172', '11.46525976', '11.46528663', '11.46539091', '11.46541422', '11.46545457', '11.46551\n",
      "1000 input query terms found no hit:\t['11.49122482', '11.49123201', '11.49128249', '11.49128487', '11.49134785', '11.49136409', '11.49138\n",
      "1000 input query terms found no hit:\t['11.51758945', '11.51769793', '11.51770837', '11.51771873', '11.51774899', '11.51775674', '11.51776\n",
      "1000 input query terms found no hit:\t['11.54320333', '11.54321376', '11.54324728', '11.54324782', '11.54327346', '11.54332605', '11.54332\n",
      "1000 input query terms found no hit:\t['11.56820236', '11.56821255', '11.56824267', '11.56824376', '11.56825103', '11.56833015', '11.56838\n",
      "1000 input query terms found no hit:\t['11.59443298', '11.59444616', '11.59450691', '11.59453852', '11.59455959', '11.59464136', '11.59464\n",
      "1000 input query terms found no hit:\t['11.62146444', '11.62148442', '11.62148851', '11.62152745', '11.62152818', '11.62153308', '11.62156\n",
      "1000 input query terms found no hit:\t['11.64902868', '11.64907764', '11.64908319', '11.64908645', '11.64910967', '11.64912323', '11.64914\n",
      "1000 input query terms found no hit:\t['11.67565861', '11.67569463', '11.67578332', '11.67579919', '11.67579961', '11.67584085', '11.67590\n",
      "1000 input query terms found no hit:\t['11.70567365', '11.70568928', '11.70570822', '11.70573826', '11.70580271', '11.70583446', '11.70587\n",
      "1000 input query terms found no hit:\t['11.73435793', '11.73441305', '11.73444842', '11.73447255', '11.73447826', '11.73447915', '11.73448\n",
      "1000 input query terms found no hit:\t['11.76286007', '11.76288085', '11.76289304', '11.76291145', '11.76292015', '11.7630519', '11.763069\n",
      "1000 input query terms found no hit:\t['11.79125132', '11.79131565', '11.79132119', '11.79133474', '11.79134201', '11.79140158', '11.79143\n",
      "1000 input query terms found no hit:\t['11.8219038', '11.82192292', '11.82199911', '11.82200902', '11.82202802', '11.82208203', '11.822096\n",
      "1000 input query terms found no hit:\t['11.85240873', '11.85241022', '11.85242665', '11.85243124', '11.85243293', '11.85248007', '11.85249\n",
      "1000 input query terms found no hit:\t['11.88348852', '11.88353468', '11.88353777', '11.88354547', '11.88356267', '11.88359099', '11.88361\n",
      "1000 input query terms found no hit:\t['11.9150324', '11.91508118', '11.91509279', '11.91511379', '11.91511738', '11.91514535', '11.915168\n",
      "1000 input query terms found no hit:\t['11.94913303', '11.94913932', '11.94914795', '11.94918095', '11.94919685', '11.94922013', '11.94922\n",
      "1000 input query terms found no hit:\t['11.98297455', '11.9829981', '11.98303085', '11.98306629', '11.98319692', '11.98321862', '11.983243\n",
      "1000 input query terms found no hit:\t['115201', '115207', '115209', '115265', '115273', '115286', '115290', '115294', '1153', '115330', '\n",
      "1000 input query terms found no hit:\t['12.02698266', '12.0271064', '12.02714215', '12.02715303', '12.02716729', '12.02717001', '12.027190\n",
      "1000 input query terms found no hit:\t['12.06306074', '12.06311092', '12.06312186', '12.06314348', '12.06325465', '12.06330499', '12.06331\n",
      "1000 input query terms found no hit:\t['12.1016187', '12.10163555', '12.1017381', '12.10178941', '12.10180534', '12.10183415', '12.1018477\n",
      "1000 input query terms found no hit:\t['12.14087002', '12.14091863', '12.1410099', '12.14101368', '12.14102275', '12.14108875', '12.141096\n",
      "1000 input query terms found no hit:\t['12.18039481', '12.18044875', '12.18046287', '12.18049475', '12.18051347', '12.18060343', '12.18065\n",
      "1000 input query terms found no hit:\t['12.22122348', '12.22125307', '12.22128476', '12.22134081', '12.2213699', '12.22140806', '12.221476\n",
      "1000 input query terms found no hit:\t['12.26299706', '12.26302754', '12.2630397', '12.26307611', '12.26317304', '12.26325754', '12.263303\n",
      "1000 input query terms found no hit:\t['12.30328451', '12.30329152', '12.30337119', '12.30339251', '12.30341187', '12.30344783', '12.30359\n",
      "1000 input query terms found no hit:\t['12.34768116', '12.34769779', '12.34772874', '12.34787029', '12.34794413', '12.3480224', '12.348063\n",
      "1000 input query terms found no hit:\t['12.39574636', '12.39584861', '12.39592127', '12.39601448', '12.3960221', '12.39602782', '12.396089\n",
      "1000 input query terms found no hit:\t['12.44744298', '12.447454', '12.44749587', '12.44753077', '12.44756116', '12.4476153', '12.44762308\n",
      "1000 input query terms found no hit:\t['12.49992647', '12.49994577', '12.49996755', '12.50001625', '12.50001705', '12.50006335', '12.50024\n",
      "1000 input query terms found no hit:\t['12.5528365', '12.55293253', '12.55306671', '12.55307158', '12.55316136', '12.55322336', '12.553312\n",
      "1000 input query terms found no hit:\t['12.60966355', '12.60967061', '12.60971418', '12.60977376', '12.60979319', '12.6098002', '12.609835\n",
      "1000 input query terms found no hit:\t['12.66478402', '12.66485342', '12.66494813', '12.66509408', '12.66511044', '12.66515586', '12.66521\n",
      "1000 input query terms found no hit:\t['12.72100972', '12.72123317', '12.72128229', '12.72128533', '12.72134625', '12.72135315', '12.72137\n",
      "1000 input query terms found no hit:\t['12.78250067', '12.78251138', '12.78253536', '12.78254662', '12.78257117', '12.78262667', '12.78263\n",
      "1000 input query terms found no hit:\t['12.84964989', '12.84973563', '12.84985315', '12.84987451', '12.84989761', '12.84999039', '12.85024\n",
      "1000 input query terms found no hit:\t['12.92654995', '12.9267359', '12.92684627', '12.92692732', '12.92693392', '12.92696336', '12.926994\n",
      "1000 input query terms found no hit:\t['124245', '124274', '124359', '1244', '124401', '124402', '124404', '124411', '124446', '124454', '\n",
      "1000 input query terms found no hit:\t['13.06766238', '13.06768554', '13.06812507', '13.06824801', '13.06829778', '13.06830669', '13.06839\n",
      "1000 input query terms found no hit:\t['13.17466754', '13.1747572', '13.17487044', '13.17488087', '13.1749031', '13.17496852', '13.1750229\n",
      "1000 input query terms found no hit:\t['13.27780892', '13.27794294', '13.2780163', '13.27824559', '13.2782964', '13.27832241', '13.2785970\n",
      "1000 input query terms found no hit:\t['13.39248913', '13.39268882', '13.39270229', '13.39276635', '13.3928431', '13.39305993', '13.393264\n",
      "1000 input query terms found no hit:\t['13.54468396', '13.54493482', '13.54499577', '13.54503617', '13.54506494', '13.5453095', '13.545850\n",
      "1000 input query terms found no hit:\t['13.72202868', '13.72208238', '13.72208685', '13.72231624', '13.72241084', '13.72242201', '13.72252\n",
      "1000 input query terms found no hit:\t['13.91750137', '13.91752386', '13.91766562', '13.91796863', '13.91808654', '13.91868692', '13.91868\n",
      "1000 input query terms found no hit:\t['14.06409818', '14.06435646', '14.06437982', '14.0652389', '14.06585932', '14.06608646', '14.066279\n",
      "1000 input query terms found no hit:\t['14.27857662', '14.278646', '14.27898292', '14.27912744', '14.27913499', '14.27986278', '14.2798988\n",
      "1000 input query terms found no hit:\t['14.49375655', '14.49378345', '14.49379185', '14.49414904', '14.49479868', '14.49523611', '14.49538\n",
      "1000 input query terms found no hit:\t['14.75523289', '14.75582397', '14.7559449', '14.7564796', '14.75653069', '14.75659305', '14.7566203\n",
      "1000 input query terms found no hit:\t['14.998977', '14.9995666', '14.99958333', '140', '1400', '140032', '1401', '140258', '140290', '140\n",
      "1000 input query terms found no hit:\t['15.0997559', '15.09993684', '15.1000529', '15.10046838', '15.10083455', '15.10089572', '15.1009443\n",
      "1000 input query terms found no hit:\t['15.30724145', '15.30738629', '15.30757717', '15.30770408', '15.3078488', '15.30812697', '15.308461\n",
      "1000 input query terms found no hit:\t['15.52098851', '15.52103021', '15.52115258', '15.52143092', '15.52144668', '15.52162128', '15.52173\n",
      "1000 input query terms found no hit:\t['15.78264208', '15.78291347', '15.78293733', '15.78305401', '15.7832011', '15.78478085', '15.784790\n",
      "1000 input query terms found no hit:\t['1544', '154449', '154467', '1545', '154661', '154664', '154743', '154761', '154790', '154791', '15\n",
      "1000 input query terms found no hit:\t['16.23957451', '16.24000669', '16.24053939', '16.24086679', '16.24087471', '16.24113521', '16.24113\n",
      "1000 input query terms found no hit:\t['16.53294644', '16.5330038', '16.53317038', '16.53338915', '16.53342305', '16.53360086', '16.533869\n",
      "1000 input query terms found no hit:\t['16.7346703', '16.73498312', '16.73498767', '16.73503799', '16.73516856', '16.73523015', '16.735254\n",
      "1000 input query terms found no hit:\t['16.93974332', '16.9398447', '16.93998368', '16.94039533', '16.94154786', '16.9417079', '16.9418623\n",
      "1000 input query terms found no hit:\t['17.19174743', '17.19188602', '17.19214117', '17.19218135', '17.1922784', '17.19278088', '17.192805\n",
      "1000 input query terms found no hit:\t['2.00024158', '2.000784569', '2.001327353', '2.001651732', '2.003491559', '2.005116131', '2.0067388\n",
      "1000 input query terms found no hit:\t['2.445747905', '2.446186529', '2.446435299', '2.446870998', '2.447122591', '2.447148356', '2.447396\n",
      "1000 input query terms found no hit:\t['2.629735733', '2.629971624', '2.630018891', '2.630072288', '2.630105794', '2.630305323', '2.630326\n",
      "1000 input query terms found no hit:\t['2.751865453', '2.751876015', '2.751901578', '2.751988874', '2.752110502', '2.752170078', '2.752285\n",
      "1000 input query terms found no hit:\t['2.832876161', '2.83288052', '2.833001143', '2.833032381', '2.83315209', '2.833163701', '2.83320125\n",
      "1000 input query terms found no hit:\t['2.897059905', '2.897087376', '2.897139696', '2.897186272', '2.897254371', '2.897450279', '2.897549\n",
      "1000 input query terms found no hit:\t['2.947505811', '2.947519008', '2.947522693', '2.947546692', '2.947626531', '2.947684511', '2.947694\n",
      "1000 input query terms found no hit:\t['2.992246703', '2.992291169', '2.992324792', '2.992358344', '2.992374061', '2.992412944', '2.992435\n",
      "1000 input query terms found no hit:\t['23015', '23016', '23017', '23019', '2302', '23020', '23022', '23023', '23024', '23025', '23026', '\n",
      "1000 input query terms found no hit:\t['25878', '25879', '2588', '25880', '25884', '25885', '25886', '25888', '2589', '25890', '25891', '2\n",
      "1000 input query terms found no hit:\t['283767', '283777', '283788', '283796', '2838', '283807', '283847', '283848', '283849', '283854', '\n",
      "1000 input query terms found no hit:\t['3.009202907', '3.009216406', '3.009227735', '3.009312672', '3.00945135', '3.009475688', '3.0094797\n",
      "1000 input query terms found no hit:\t['3.044685351', '3.044715836', '3.04474696', '3.044759455', '3.044784121', '3.044785967', '3.0447953\n",
      "1000 input query terms found no hit:\t['3.077777557', '3.077784679', '3.077818683', '3.07792655', '3.077969522', '3.077970117', '3.0780301\n",
      "1000 input query terms found no hit:\t['3.107671747', '3.10768688', '3.107736447', '3.107742534', '3.107755375', '3.107760015', '3.1077883\n",
      "1000 input query terms found no hit:\t['3.134958507', '3.134972718', '3.13502283', '3.135023415', '3.13502837', '3.135031257', '3.13504758\n",
      "1000 input query terms found no hit:\t['3.158055493', '3.158099916', '3.158123303', '3.158143755', '3.158144293', '3.158162849', '3.158204\n",
      "1000 input query terms found no hit:\t['3.181656183', '3.181678299', '3.181693528', '3.181749895', '3.181781718', '3.181790492', '3.181818\n",
      "1000 input query terms found no hit:\t['3.203561696', '3.203568343', '3.20357285', '3.203587772', '3.203600414', '3.203601861', '3.2036266\n",
      "1000 input query terms found no hit:\t['3.222877578', '3.222919625', '3.222939748', '3.222955198', '3.222957581', '3.222976178', '3.222977\n",
      "1000 input query terms found no hit:\t['3.242309403', '3.242324503', '3.242328879', '3.242344053', '3.24234972', '3.242427406', '3.2424614\n",
      "1000 input query terms found no hit:\t['3.259889979', '3.259954769', '3.25995895', '3.259971393', '3.259972823', '3.260037249', '3.2600385\n",
      "1000 input query terms found no hit:\t['3.277010667', '3.277065008', '3.277080712', '3.277097492', '3.277125492', '3.277130209', '3.277152\n",
      "1000 input query terms found no hit:\t['3.292802661', '3.292814336', '3.292832791', '3.292839386', '3.292842368', '3.292843509', '3.292861\n",
      "1000 input query terms found no hit:\t['3.308036472', '3.308044663', '3.308098109', '3.308121213', '3.308152501', '3.308157606', '3.308203\n",
      "1000 input query terms found no hit:\t['3.323006505', '3.323020352', '3.323022604', '3.32303774', '3.323050009', '3.32306711', '3.32307244\n",
      "1000 input query terms found no hit:\t['3.337430844', '3.337432797', '3.337443102', '3.337448386', '3.337465739', '3.337482321', '3.337485\n",
      "1000 input query terms found no hit:\t['3.350507033', '3.350566593', '3.35056865', '3.350594625', '3.350596444', '3.350624958', '3.3506297\n",
      "1000 input query terms found no hit:\t['3.364268156', '3.364271908', '3.364292501', '3.364301152', '3.364309439', '3.36433314', '3.3643353\n",
      "1000 input query terms found no hit:\t['3.377298202', '3.37732841', '3.377333325', '3.377347877', '3.377382921', '3.377392311', '3.3773968\n",
      "1000 input query terms found no hit:\t['3.389806491', '3.389815617', '3.389833799', '3.389843197', '3.389849943', '3.389850898', '3.389855\n",
      "1000 input query terms found no hit:\t['3.401613548', '3.401640066', '3.401662312', '3.401662776', '3.401669286', '3.40168691', '3.4016874\n",
      "1000 input query terms found no hit:\t['3.413683032', '3.413685008', '3.413686274', '3.41373497', '3.413770956', '3.413772074', '3.4137784\n",
      "1000 input query terms found no hit:\t['3.424738036', '3.424757527', '3.424794128', '3.424800579', '3.424818529', '3.424819341', '3.424821\n",
      "1000 input query terms found no hit:\t['3.435736292', '3.435748337', '3.435759077', '3.435771884', '3.435794971', '3.435804424', '3.435814\n",
      "1000 input query terms found no hit:\t['3.446777831', '3.446820024', '3.446836261', '3.446837123', '3.446840821', '3.44685934', '3.4468897\n",
      "1000 input query terms found no hit:\t['3.457657041', '3.457662082', '3.457662357', '3.457675473', '3.457679398', '3.457684451', '3.457687\n",
      "1000 input query terms found no hit:\t['3.467988792', '3.467994439', '3.46800953', '3.46801095', '3.468019486', '3.468027436', '3.46803897\n",
      "1000 input query terms found no hit:\t['3.478176098', '3.47818331', '3.478191112', '3.47819336', '3.47821245', '3.478212955', '3.47821993'\n",
      "1000 input query terms found no hit:\t['3.487877428', '3.487882662', '3.487887141', '3.487889197', '3.487905999', '3.487914321', '3.487932\n",
      "1000 input query terms found no hit:\t['3.497535446', '3.497537588', '3.497556648', '3.497579886', '3.497589486', '3.497590013', '3.497596\n",
      "1000 input query terms found no hit:\t['3.506825988', '3.506829401', '3.506838562', '3.506846158', '3.506856398', '3.50687431', '3.5068781\n",
      "1000 input query terms found no hit:\t['3.515826619', '3.515827214', '3.515844142', '3.515846151', '3.515846633', '3.51587229', '3.5158725\n",
      "1000 input query terms found no hit:\t['3.524749516', '3.524755471', '3.524758594', '3.52476469', '3.524770565', '3.524797693', '3.5247987\n",
      "1000 input query terms found no hit:\t['3.533282414', '3.533304023', '3.533307246', '3.533310492', '3.533324326', '3.53333304', '3.5333412\n",
      "1000 input query terms found no hit:\t['3.54246232', '3.542476105', '3.542487623', '3.542489974', '3.542492893', '3.542510719', '3.5425202\n",
      "1000 input query terms found no hit:\t['3.550941938', '3.550946961', '3.550948172', '3.550950162', '3.550950324', '3.550952131', '3.550953\n",
      "1000 input query terms found no hit:\t['3.55903753', '3.559042168', '3.559043133', '3.559050017', '3.559056112', '3.559060593', '3.5590631\n",
      "1000 input query terms found no hit:\t['3.567198061', '3.567201777', '3.567208115', '3.567209891', '3.567235438', '3.567258437', '3.567262\n",
      "1000 input query terms found no hit:\t['3.575569278', '3.575569744', '3.575578185', '3.575580432', '3.57559004', '3.57559508', '3.57559762\n",
      "1000 input query terms found no hit:\t['3.583576065', '3.583576823', '3.583579108', '3.583579319', '3.583581133', '3.583584525', '3.583589\n",
      "1000 input query terms found no hit:\t['3.591312524', '3.591312721', '3.591313607', '3.591317816', '3.591326927', '3.591340895', '3.591350\n",
      "1000 input query terms found no hit:\t['3.599431194', '3.599452019', '3.599481988', '3.599485093', '3.599487373', '3.599488598', '3.599497\n",
      "1000 input query terms found no hit:\t['3.606762224', '3.606766465', '3.606766733', '3.606768882', '3.606783929', '3.606784155', '3.606786\n",
      "1000 input query terms found no hit:\t['3.614970212', '3.614974352', '3.614976014', '3.614977936', '3.614981661', '3.615003725', '3.615019\n",
      "1000 input query terms found no hit:\t['3.622372726', '3.622378236', '3.622379595', '3.622385086', '3.622389923', '3.622391606', '3.622391\n",
      "1000 input query terms found no hit:\t['3.629721897', '3.629756637', '3.629776914', '3.629804067', '3.629808124', '3.629819866', '3.629843\n",
      "1000 input query terms found no hit:\t['3.637208466', '3.637231491', '3.637249727', '3.637256874', '3.637259982', '3.637262374', '3.637267\n",
      "1000 input query terms found no hit:\t['3.644883614', '3.644889481', '3.644891891', '3.644903957', '3.644906564', '3.644908438', '3.644908\n",
      "1000 input query terms found no hit:\t['3.652029644', '3.652033946', '3.652034102', '3.652056677', '3.65206074', '3.652069436', '3.6520792\n",
      "1000 input query terms found no hit:\t['3.659137283', '3.659146627', '3.659174127', '3.659183231', '3.659192956', '3.659196673', '3.659199\n",
      "1000 input query terms found no hit:\t['3.665886731', '3.665888467', '3.665891963', '3.665905658', '3.665910455', '3.665911038', '3.665922\n",
      "1000 input query terms found no hit:\t['3.67255051', '3.672551189', '3.672552843', '3.672562751', '3.672570216', '3.672573954', '3.6725747\n",
      "1000 input query terms found no hit:\t['3.679522522', '3.679526212', '3.679539047', '3.67954269', '3.679547636', '3.679557349', '3.6795575\n",
      "1000 input query terms found no hit:\t['3.686681721', '3.686687885', '3.686689466', '3.686693496', '3.686704167', '3.686711864', '3.686724\n",
      "1000 input query terms found no hit:\t['3.693106819', '3.693114833', '3.693116352', '3.693120448', '3.693130782', '3.693140095', '3.693160\n",
      "1000 input query terms found no hit:\t['3.699807844', '3.699809218', '3.69981001', '3.699811518', '3.699819079', '3.699843741', '3.6998527\n",
      "1000 input query terms found no hit:\t['3.706445195', '3.706446722', '3.706457137', '3.706457541', '3.706460368', '3.706463301', '3.706463\n",
      "1000 input query terms found no hit:\t['3.713402851', '3.71340351', '3.713404203', '3.71341405', '3.713427164', '3.713429082', '3.71343906\n",
      "1000 input query terms found no hit:\t['3.720354021', '3.720356518', '3.720364112', '3.720379348', '3.720379533', '3.720386852', '3.720386\n",
      "1000 input query terms found no hit:\t['3.726528076', '3.726532379', '3.726543755', '3.726551507', '3.726557113', '3.726559389', '3.726572\n",
      "1000 input query terms found no hit:\t['3.732880296', '3.73288031', '3.732881442', '3.732883468', '3.732887383', '3.732899542', '3.7328997\n",
      "1000 input query terms found no hit:\t['3.739257408', '3.739266715', '3.739295761', '3.739300011', '3.739308659', '3.739313852', '3.739317\n",
      "1000 input query terms found no hit:\t['3.746422301', '3.746422607', '3.74642365', '3.746425333', '3.746449895', '3.746455936', '3.7464693\n",
      "1000 input query terms found no hit:\t['3.752702255', '3.752705845', '3.752714505', '3.752716407', '3.752719327', '3.752722886', '3.752722\n"
     ]
    }
   ],
   "source": [
    "if NORMALIZE_GENE:\n",
    "    genetic_data = normalize_gene_symbols_in_index(genetic_data)"
   ]
  },
  {
   "cell_type": "code",
   "execution_count": 29,
   "metadata": {
    "ExecuteTime": {
     "end_time": "2024-01-02T01:03:35.158174021Z",
     "start_time": "2024-01-02T01:03:35.156777134Z"
    },
    "collapsed": false
   },
   "outputs": [],
   "source": [
    "merged_data = geo_merge_clinical_genetic_data(selected_clinical_data, genetic_data)\n",
    "# The preprocessing runs through, which means is_available should be True\n",
    "is_available = True"
   ]
  },
  {
   "cell_type": "code",
   "execution_count": 30,
   "metadata": {
    "ExecuteTime": {
     "end_time": "2024-01-02T01:03:35.158378853Z",
     "start_time": "2024-01-02T01:03:35.156895194Z"
    },
    "collapsed": false
   },
   "outputs": [
    {
     "name": "stdout",
     "output_type": "stream",
     "text": [
      "The merged dataset contains 192 samples.\n"
     ]
    }
   ],
   "source": [
    "print(f\"The merged dataset contains {len(merged_data)} samples.\")"
   ]
  },
  {
   "cell_type": "code",
   "execution_count": 31,
   "metadata": {
    "ExecuteTime": {
     "end_time": "2024-01-02T01:03:35.158646754Z",
     "start_time": "2024-01-02T01:03:35.156975304Z"
    },
    "collapsed": false
   },
   "outputs": [
    {
     "name": "stdout",
     "output_type": "stream",
     "text": [
      "For the feature 'Atherosclerosis', the least common label is '1.0' with 9 occurrences. This represents 4.69% of the dataset.\n",
      "The distribution of the feature 'Atherosclerosis' in this dataset is fine.\n",
      "\n",
      "Quartiles for 'Age':\n",
      "  25%: 31.0\n",
      "  50% (Median): 50.0\n",
      "  75%: 63.0\n",
      "Min: 8.0\n",
      "Max: 97.0\n",
      "The distribution of the feature 'Age' in this dataset is fine.\n",
      "\n",
      "For the feature 'Gender', the least common label is '1.0' with 70 occurrences. This represents 36.46% of the dataset.\n",
      "The distribution of the feature 'Gender' in this dataset is fine.\n",
      "\n"
     ]
    },
    {
     "data": {
      "text/plain": [
       "False"
      ]
     },
     "execution_count": 31,
     "metadata": {},
     "output_type": "execute_result"
    }
   ],
   "source": [
    "is_trait_biased, merged_data = judge_and_remove_biased_features(merged_data, TRAIT, trait_type=trait_type)\n",
    "is_trait_biased"
   ]
  },
  {
   "cell_type": "code",
   "execution_count": 32,
   "metadata": {
    "ExecuteTime": {
     "end_time": "2024-01-02T01:03:35.158803015Z",
     "start_time": "2024-01-02T01:03:35.157063388Z"
    },
    "collapsed": false
   },
   "outputs": [
    {
     "name": "stdout",
     "output_type": "stream",
     "text": [
      "A new JSON file was created at: ../../output1/Yuxuan/Atherosclerosis/cohort_info.json\n"
     ]
    }
   ],
   "source": [
    "save_cohort_info(cohort, JSON_PATH, is_available, is_trait_biased, merged_data, note='')"
   ]
  },
  {
   "cell_type": "code",
   "execution_count": 33,
   "metadata": {
    "ExecuteTime": {
     "end_time": "2024-01-02T01:03:36.004312476Z",
     "start_time": "2024-01-02T01:03:35.157165158Z"
    },
    "collapsed": false
   },
   "outputs": [],
   "source": [
    "merged_data.head()\n",
    "if not is_trait_biased:\n",
    "    merged_data.to_csv(os.path.join(OUTPUT_DIR, cohort+'.csv'), index=False)"
   ]
  },
  {
   "cell_type": "markdown",
   "metadata": {
    "ExecuteTime": {
     "end_time": "2023-12-31T03:58:22.271683755Z",
     "start_time": "2023-12-31T03:58:22.246557674Z"
    },
    "id": "-MTPhRGxJV7I"
   },
   "source": [
    "### 3. Do regression & Cross Validation"
   ]
  },
  {
   "cell_type": "code",
   "execution_count": 34,
   "metadata": {
    "ExecuteTime": {
     "end_time": "2024-01-02T01:03:36.048788605Z",
     "start_time": "2024-01-02T01:03:36.005925887Z"
    },
    "collapsed": false
   },
   "outputs": [],
   "source": [
    "from utils import *"
   ]
  },
  {
   "cell_type": "code",
   "execution_count": 35,
   "metadata": {
    "ExecuteTime": {
     "end_time": "2024-01-02T01:03:36.049183603Z",
     "start_time": "2024-01-02T01:03:36.048440305Z"
    },
    "collapsed": false
   },
   "outputs": [
    {
     "data": {
      "text/plain": [
       "'GSE123088'"
      ]
     },
     "execution_count": 35,
     "metadata": {},
     "output_type": "execute_result"
    }
   ],
   "source": [
    "best_cohort, ranked_df = filter_and_rank_cohorts(JSON_PATH, 'has_age')\n",
    "best_cohort"
   ]
  },
  {
   "cell_type": "code",
   "execution_count": 36,
   "metadata": {
    "ExecuteTime": {
     "end_time": "2024-01-02T01:03:36.049430313Z",
     "start_time": "2024-01-02T01:03:36.048984361Z"
    },
    "collapsed": false
   },
   "outputs": [
    {
     "data": {
      "text/html": [
       "<div>\n",
       "<style scoped>\n",
       "    .dataframe tbody tr th:only-of-type {\n",
       "        vertical-align: middle;\n",
       "    }\n",
       "\n",
       "    .dataframe tbody tr th {\n",
       "        vertical-align: top;\n",
       "    }\n",
       "\n",
       "    .dataframe thead th {\n",
       "        text-align: right;\n",
       "    }\n",
       "</style>\n",
       "<table border=\"1\" class=\"dataframe\">\n",
       "  <thead>\n",
       "    <tr style=\"text-align: right;\">\n",
       "      <th></th>\n",
       "      <th>cohort_id</th>\n",
       "      <th>is_usable</th>\n",
       "      <th>is_available</th>\n",
       "      <th>is_biased</th>\n",
       "      <th>has_age</th>\n",
       "      <th>has_gender</th>\n",
       "      <th>sample_size</th>\n",
       "      <th>note</th>\n",
       "    </tr>\n",
       "  </thead>\n",
       "  <tbody>\n",
       "    <tr>\n",
       "      <th>0</th>\n",
       "      <td>GSE123088</td>\n",
       "      <td>True</td>\n",
       "      <td>True</td>\n",
       "      <td>False</td>\n",
       "      <td>True</td>\n",
       "      <td>True</td>\n",
       "      <td>192</td>\n",
       "      <td></td>\n",
       "    </tr>\n",
       "  </tbody>\n",
       "</table>\n",
       "</div>"
      ],
      "text/plain": [
       "   cohort_id  is_usable  is_available  is_biased  has_age  has_gender  \\\n",
       "0  GSE123088       True          True      False     True        True   \n",
       "\n",
       "   sample_size note  \n",
       "0          192       "
      ]
     },
     "execution_count": 36,
     "metadata": {},
     "output_type": "execute_result"
    }
   ],
   "source": [
    "ranked_df.head()"
   ]
  },
  {
   "cell_type": "code",
   "execution_count": 37,
   "metadata": {
    "ExecuteTime": {
     "end_time": "2024-01-02T01:03:36.345375576Z",
     "start_time": "2024-01-02T01:03:36.049289340Z"
    },
    "collapsed": false
   },
   "outputs": [],
   "source": [
    "ck=100\n",
    "listq=[]\n",
    "for df in pd.read_csv(os.path.join(OUTPUT_DIR, best_cohort+'.csv'),chunksize=ck):\n",
    "    listq.append(df)\n",
    "merged_data = pd.concat(listq)\n",
    "#merged_data = pd.read_csv(os.path.join(OUTPUT_DIR, best_cohort+'.csv'))"
   ]
  },
  {
   "cell_type": "code",
   "execution_count": 38,
   "metadata": {
    "ExecuteTime": {
     "end_time": "2024-01-02T01:03:36.400788548Z",
     "start_time": "2024-01-02T01:03:36.355439168Z"
    },
    "collapsed": false
   },
   "outputs": [
    {
     "data": {
      "text/html": [
       "<div>\n",
       "<style scoped>\n",
       "    .dataframe tbody tr th:only-of-type {\n",
       "        vertical-align: middle;\n",
       "    }\n",
       "\n",
       "    .dataframe tbody tr th {\n",
       "        vertical-align: top;\n",
       "    }\n",
       "\n",
       "    .dataframe thead th {\n",
       "        text-align: right;\n",
       "    }\n",
       "</style>\n",
       "<table border=\"1\" class=\"dataframe\">\n",
       "  <thead>\n",
       "    <tr style=\"text-align: right;\">\n",
       "      <th></th>\n",
       "      <th>Atherosclerosis</th>\n",
       "      <th>Age</th>\n",
       "      <th>Gender</th>\n",
       "    </tr>\n",
       "  </thead>\n",
       "  <tbody>\n",
       "    <tr>\n",
       "      <th>0</th>\n",
       "      <td>0.0</td>\n",
       "      <td>56.0</td>\n",
       "      <td>1.0</td>\n",
       "    </tr>\n",
       "    <tr>\n",
       "      <th>1</th>\n",
       "      <td>0.0</td>\n",
       "      <td>20.0</td>\n",
       "      <td>0.0</td>\n",
       "    </tr>\n",
       "    <tr>\n",
       "      <th>2</th>\n",
       "      <td>0.0</td>\n",
       "      <td>51.0</td>\n",
       "      <td>0.0</td>\n",
       "    </tr>\n",
       "    <tr>\n",
       "      <th>3</th>\n",
       "      <td>0.0</td>\n",
       "      <td>37.0</td>\n",
       "      <td>1.0</td>\n",
       "    </tr>\n",
       "    <tr>\n",
       "      <th>4</th>\n",
       "      <td>0.0</td>\n",
       "      <td>61.0</td>\n",
       "      <td>1.0</td>\n",
       "    </tr>\n",
       "  </tbody>\n",
       "</table>\n",
       "</div>"
      ],
      "text/plain": [
       "   Atherosclerosis   Age  Gender\n",
       "0              0.0  56.0     1.0\n",
       "1              0.0  20.0     0.0\n",
       "2              0.0  51.0     0.0\n",
       "3              0.0  37.0     1.0\n",
       "4              0.0  61.0     1.0"
      ]
     },
     "execution_count": 38,
     "metadata": {},
     "output_type": "execute_result"
    }
   ],
   "source": [
    "merged_data.head()"
   ]
  },
  {
   "cell_type": "code",
   "execution_count": null,
   "metadata": {
    "ExecuteTime": {
     "end_time": "2024-01-02T01:03:36.401002087Z",
     "start_time": "2024-01-02T01:03:36.400659608Z"
    },
    "collapsed": false
   },
   "outputs": [],
   "source": [
    "# If both age and gender features are available, select 'age' as the condition.\n",
    "condition = 'Age'\n",
    "# Remove the other condition to prevent interference.\n",
    "merged_data = merged_data.drop(columns=['Gender'], errors='ignore').astype('float')"
   ]
  },
  {
   "cell_type": "code",
   "execution_count": null,
   "metadata": {
    "ExecuteTime": {
     "end_time": "2024-01-02T01:03:36.403035823Z",
     "start_time": "2024-01-02T01:03:36.401081946Z"
    },
    "collapsed": false
   },
   "outputs": [],
   "source": [
    "X = merged_data.drop(columns=[TRAIT, condition]).values\n",
    "Y = merged_data[TRAIT].values\n",
    "Z = merged_data[condition].values"
   ]
  },
  {
   "cell_type": "markdown",
   "metadata": {
    "collapsed": false
   },
   "source": [
    "Select the appropriate regression model depending on whether the dataset shows batch effect."
   ]
  },
  {
   "cell_type": "code",
   "execution_count": null,
   "metadata": {
    "ExecuteTime": {
     "end_time": "2024-01-02T01:03:36.403263628Z",
     "start_time": "2024-01-02T01:03:36.401336170Z"
    },
    "collapsed": false
   },
   "outputs": [
    {
     "data": {
      "text/plain": [
       "True"
      ]
     },
     "execution_count": 19,
     "metadata": {},
     "output_type": "execute_result"
    }
   ],
   "source": [
    "has_batch_effect = detect_batch_effect(X)\n",
    "has_batch_effect"
   ]
  },
  {
   "cell_type": "code",
   "execution_count": null,
   "metadata": {
    "ExecuteTime": {
     "end_time": "2024-01-02T01:03:36.475053437Z",
     "start_time": "2024-01-02T01:03:36.444397231Z"
    },
    "collapsed": false
   },
   "outputs": [],
   "source": [
    "\n",
    "if has_batch_effect:\n",
    "    model_constructor1 = VariableSelection\n",
    "    model_params1 = {'modified': True, 'lamda': 3e-4}\n",
    "    model_constructor2 = VariableSelection\n",
    "    model_params2 = {'modified': False}\n",
    "else:\n",
    "    model_constructor1 = Lasso\n",
    "    model_params1 = {'alpha': 1.0, 'random_state': 42}\n",
    "    model_constructor2 = VariableSelection\n",
    "    model_params2 = {'modified': False}"
   ]
  },
  {
   "cell_type": "code",
   "execution_count": null,
   "metadata": {
    "ExecuteTime": {
     "end_time": "2024-01-02T01:03:50.733335364Z",
     "start_time": "2024-01-02T01:03:36.444563711Z"
    },
    "collapsed": false
   },
   "outputs": [
    {
     "name": "stdout",
     "output_type": "stream",
     "text": [
      "The cross-validation accuracy is 56.84% ± 4.59%\n"
     ]
    }
   ],
   "source": [
    "trait_type = 'binary'  # Remember to set this properly, either 'binary' or 'continuous'\n",
    "cv_mean1, cv_std1 = cross_validation(X, Y, Z, model_constructor1, model_params1, target_type=trait_type)"
   ]
  },
  {
   "cell_type": "code",
   "execution_count": null,
   "metadata": {},
   "outputs": [],
   "source": [
    "cv_mean2, cv_std2 = cross_validation(X, Y, Z, model_constructor2, model_params2, target_type=trait_type)"
   ]
  },
  {
   "cell_type": "code",
   "execution_count": null,
   "metadata": {
    "ExecuteTime": {
     "end_time": "2024-01-02T01:03:53.587340410Z",
     "start_time": "2024-01-02T01:03:50.732779025Z"
    },
    "collapsed": false
   },
   "outputs": [],
   "source": [
    "normalized_X, _ = normalize_data(X)\n",
    "normalized_Z, _ = normalize_data(Z)\n",
    "\n",
    "# Train regression model on the whole dataset to identify significant genes\n",
    "model1 = ResidualizationRegressor(model_constructor1, model_params1)\n",
    "model1.fit(normalized_X, Y, normalized_Z)\n",
    "\n",
    "model2 = ResidualizationRegressor(model_constructor2, model_params2)\n",
    "model2.fit(normalized_X, Y, normalized_Z)"
   ]
  },
  {
   "cell_type": "markdown",
   "metadata": {
    "ExecuteTime": {
     "end_time": "2023-10-14T04:50:59.072075075Z",
     "start_time": "2023-10-14T04:50:38.739499998Z"
    },
    "id": "EjJrxbvb4nlj"
   },
   "source": [
    "### 5. Discussion and report"
   ]
  },
  {
   "cell_type": "code",
   "execution_count": null,
   "metadata": {
    "ExecuteTime": {
     "end_time": "2024-01-02T01:03:53.641570844Z",
     "start_time": "2024-01-02T01:03:53.627778553Z"
    },
    "collapsed": false
   },
   "outputs": [
    {
     "name": "stdout",
     "output_type": "stream",
     "text": [
      "Effect of the condition on the target variable:\n",
      "Variable: Age\n",
      "Coefficient: 0.0025\n",
      "Found 547 significant genes associated with the trait 'Psoriasis' conditional on the factor 'Age', with corrected p-value < 0.05:\n",
      "   Variable  Coefficient  corrected_p_value\n",
      "4.430015695     0.087750           0.001231\n",
      "4.478193647     0.087750           0.001231\n",
      "4.478966158     0.087750           0.001231\n",
      " 4.48687579     0.087750           0.001231\n",
      "4.491851159     0.087750           0.001231\n",
      "4.492453853     0.087750           0.001231\n",
      "4.494270678     0.087750           0.001231\n",
      "4.504245863     0.087750           0.001231\n",
      "4.505190735     0.087750           0.001231\n",
      "4.505235806     0.087750           0.001231\n",
      "4.506891502     0.087750           0.001231\n",
      "4.510669146     0.087750           0.001231\n",
      "4.476613942     0.087750           0.001231\n",
      " 4.51198966     0.087750           0.001231\n",
      "4.513528153     0.087750           0.001231\n",
      "4.516930407     0.087750           0.001231\n",
      "4.806825082     0.087750           0.001231\n",
      "4.806472355     0.087750           0.001231\n",
      "4.803063266     0.087750           0.001231\n",
      " 4.52918761     0.087750           0.001231\n",
      "4.531488153     0.087750           0.001231\n",
      "4.796764234     0.087750           0.001231\n",
      "4.534374587     0.087750           0.001231\n",
      "4.544427446     0.087750           0.001231\n",
      " 4.54592774     0.087750           0.001231\n",
      "4.512419391     0.087750           0.001231\n",
      "4.549525143     0.087750           0.001231\n",
      "4.808785555     0.087750           0.001231\n",
      "4.822091729     0.087750           0.001231\n",
      "4.879190448     0.087750           0.001231\n",
      "4.425075714     0.087750           0.001231\n",
      " 4.72671124     0.087750           0.001231\n",
      "4.874043922     0.087750           0.001231\n",
      "4.433027679     0.087750           0.001231\n",
      "4.433355205     0.087750           0.001231\n",
      "4.872522198     0.087750           0.001231\n",
      "4.867851455     0.087750           0.001231\n",
      "4.442816841     0.087750           0.001231\n",
      " 4.85813597     0.087750           0.001231\n",
      "4.443660273     0.087750           0.001231\n",
      "4.473690178     0.087750           0.001231\n",
      "9.425064512     0.087750           0.001231\n",
      "4.854220574     0.087750           0.001231\n",
      " 4.83766585     0.087750           0.001231\n",
      "4.451208778     0.087750           0.001231\n",
      " 4.45407269     0.087750           0.001231\n",
      "4.454379679     0.087750           0.001231\n",
      "4.462918625     0.087750           0.001231\n",
      "4.834657195     0.087750           0.001231\n",
      " 4.46650314     0.087750           0.001231\n",
      "4.829760096     0.087750           0.001231\n",
      "4.467820996     0.087750           0.001231\n",
      "4.472055203     0.087750           0.001231\n",
      "4.445849705     0.087750           0.001231\n",
      "4.553736052     0.087750           0.001231\n",
      "4.557001614     0.087750           0.001231\n",
      "4.562842786     0.087750           0.001231\n",
      " 4.66556908     0.087750           0.001231\n",
      "4.759488929     0.087750           0.001231\n",
      "5.382735413     0.087750           0.001231\n",
      "4.671919882     0.087750           0.001231\n",
      "4.674761185     0.087750           0.001231\n",
      "4.675411221     0.087750           0.001231\n",
      "4.675683407     0.087750           0.001231\n",
      "4.676411081     0.087750           0.001231\n",
      "4.677967937     0.087750           0.001231\n",
      " 4.67982582     0.087750           0.001231\n",
      "4.687264924     0.087750           0.001231\n",
      "4.761181767     0.087750           0.001231\n",
      "4.741530021     0.087750           0.001231\n",
      "4.694839273     0.087750           0.001231\n",
      "4.698885868     0.087750           0.001231\n",
      "4.740506814     0.087750           0.001231\n",
      "4.740286147     0.087750           0.001231\n",
      "4.737399443     0.087750           0.001231\n",
      "4.735885263     0.087750           0.001231\n",
      "4.706862811     0.087750           0.001231\n",
      "4.710628179     0.087750           0.001231\n",
      "4.711292054     0.087750           0.001231\n",
      "4.732035059     0.087750           0.001231\n",
      "4.731468703     0.087750           0.001231\n",
      "4.688632873     0.087750           0.001231\n",
      "4.762588577     0.087750           0.001231\n",
      "4.646725963     0.087750           0.001231\n",
      "4.638217769     0.087750           0.001231\n",
      "4.563282175     0.087750           0.001231\n",
      "4.569090452     0.087750           0.001231\n",
      "4.569402987     0.087750           0.001231\n",
      "4.570215076     0.087750           0.001231\n",
      "4.791240988     0.087750           0.001231\n",
      "4.576024053     0.087750           0.001231\n",
      "4.577675667     0.087750           0.001231\n",
      "4.580291854     0.087750           0.001231\n",
      " 4.78606554     0.087750           0.001231\n",
      "4.584420045     0.087750           0.001231\n",
      "4.592759769     0.087750           0.001231\n",
      "4.785193456     0.087750           0.001231\n",
      " 4.59360188     0.087750           0.001231\n",
      "4.781238383     0.087750           0.001231\n",
      "4.613865121     0.087750           0.001231\n",
      " 4.61675507     0.087750           0.001231\n",
      " 4.77870642     0.087750           0.001231\n",
      "4.618744882     0.087750           0.001231\n",
      "4.625252145     0.087750           0.001231\n",
      "4.625901327     0.087750           0.001231\n",
      "4.626864304     0.087750           0.001231\n",
      "4.628349104     0.087750           0.001231\n",
      "4.628600501     0.087750           0.001231\n",
      "4.629169422     0.087750           0.001231\n",
      "4.777291454     0.087750           0.001231\n",
      "4.881373687     0.087750           0.001231\n",
      "4.882400311     0.087750           0.001231\n",
      "4.725623522     0.087750           0.001231\n",
      "4.885354833     0.087750           0.001231\n",
      "5.057111612     0.087750           0.001231\n",
      "4.041850755     0.087750           0.001231\n",
      "4.054082796     0.087750           0.001231\n",
      "4.081967423     0.087750           0.001231\n",
      "4.083330148     0.087750           0.001231\n",
      "5.017545177     0.087750           0.001231\n",
      "5.012285797     0.087750           0.001231\n",
      " 4.10018943     0.087750           0.001231\n",
      "4.106355402     0.087750           0.001231\n",
      "5.004567345     0.087750           0.001231\n",
      "4.117590782     0.087750           0.001231\n",
      "4.119019499     0.087750           0.001231\n",
      " 4.11939731     0.087750           0.001231\n",
      "4.140588201     0.087750           0.001231\n",
      "4.141023152     0.087750           0.001231\n",
      "4.145826358     0.087750           0.001231\n",
      "4.147083099     0.087750           0.001231\n",
      "4.149737552     0.087750           0.001231\n",
      "4.412978608     0.087750           0.001231\n",
      "4.167091893     0.087750           0.001231\n",
      "5.002045104     0.087750           0.001231\n",
      "5.059731601     0.087750           0.001231\n",
      "4.000440652     0.087750           0.001231\n",
      " 5.06293084     0.087750           0.001231\n",
      " 5.06881156     0.087750           0.001231\n",
      "5.313396949     0.087750           0.001231\n",
      " 5.46270626     0.087750           0.001231\n",
      " 5.27152682     0.087750           0.001231\n",
      "5.508126353     0.087750           0.001231\n",
      "5.240872109     0.087750           0.001231\n",
      "5.232109065     0.087750           0.001231\n",
      "5.228262845     0.087750           0.001231\n",
      "5.195595077     0.087750           0.001231\n",
      "5.176185101     0.087750           0.001231\n",
      "      80069     0.087750           0.001231\n",
      "4.198656864     0.087750           0.001231\n",
      "5.155229124     0.087750           0.001231\n",
      "3.711122839     0.087750           0.001231\n",
      "3.812795596     0.087750           0.001231\n",
      " 5.11329107     0.087750           0.001231\n",
      "3.864205214     0.087750           0.001231\n",
      "5.093487128     0.087750           0.001231\n",
      "3.968169551     0.087750           0.001231\n",
      "3.974118074     0.087750           0.001231\n",
      "3.978228552     0.087750           0.001231\n",
      "5.075086942     0.087750           0.001231\n",
      "5.072285198     0.087750           0.001231\n",
      "5.137355125     0.087750           0.001231\n",
      "4.209792546     0.087750           0.001231\n",
      "4.152990359     0.087750           0.001231\n",
      "4.319029457     0.087750           0.001231\n",
      "4.916043318     0.087750           0.001231\n",
      "4.292743021     0.087750           0.001231\n",
      "4.296486459     0.087750           0.001231\n",
      "4.301166569     0.087750           0.001231\n",
      "4.937820613     0.087750           0.001231\n",
      "4.915852772     0.087750           0.001231\n",
      "4.387185664     0.087750           0.001231\n",
      " 4.93147037     0.087750           0.001231\n",
      "4.329078894     0.087750           0.001231\n",
      "4.333274697     0.087750           0.001231\n",
      "4.333476552     0.087750           0.001231\n",
      "4.336026182     0.087750           0.001231\n",
      "4.925435038     0.087750           0.001231\n",
      " 4.34169289     0.087750           0.001231\n",
      "4.344970312     0.087750           0.001231\n",
      "4.915904215     0.087750           0.001231\n",
      "6.441467272     0.087750           0.001231\n",
      "4.919615221     0.087750           0.001231\n",
      "4.373771291     0.087750           0.001231\n",
      "4.908478529     0.087750           0.001231\n",
      "4.943758394     0.087750           0.001231\n",
      "4.914002154     0.087750           0.001231\n",
      "4.268435099     0.087750           0.001231\n",
      "4.978086668     0.087750           0.001231\n",
      "4.215195928     0.087750           0.001231\n",
      "4.216662741     0.087750           0.001231\n",
      "4.400491944     0.087750           0.001231\n",
      "4.217929364     0.087750           0.001231\n",
      "4.949575543     0.087750           0.001231\n",
      "4.233205941     0.087750           0.001231\n",
      "4.235668089     0.087750           0.001231\n",
      "4.386314592     0.087750           0.001231\n",
      " 4.24313456     0.087750           0.001231\n",
      "4.949861934     0.087750           0.001231\n",
      "4.906360475     0.087750           0.001231\n",
      "4.241935396     0.087750           0.001231\n",
      "4.249585891     0.087750           0.001231\n",
      "4.254832845     0.087750           0.001231\n",
      "4.395653877     0.087750           0.001231\n",
      "4.890120978     0.087750           0.001231\n",
      "9.184293909     0.108569           0.001709\n",
      "      84916     0.083592           0.002061\n",
      "      84818     0.074710           0.002711\n",
      "8.969393233     0.094545           0.004001\n",
      "9.125045569    -0.151916           0.005308\n",
      "       5356    -0.151916           0.005308\n",
      "4.733036243    -0.109810           0.007405\n",
      "5.343763975    -0.109810           0.007405\n",
      "5.194111389    -0.109810           0.007405\n",
      "5.313040586    -0.109810           0.007405\n",
      "4.802121823    -0.109810           0.007405\n",
      "4.920244775    -0.109810           0.007405\n",
      "4.795398239    -0.109810           0.007405\n",
      "4.794661995    -0.109810           0.007405\n",
      "4.991742514    -0.109810           0.007405\n",
      "5.846474378    -0.109810           0.007405\n",
      "4.965010199    -0.109810           0.007405\n",
      "5.669965495    -0.109810           0.007405\n",
      "4.794148887    -0.109810           0.007405\n",
      "4.964243443    -0.109810           0.007405\n",
      "4.941959571    -0.109810           0.007405\n",
      "5.022275543    -0.109810           0.007405\n",
      "5.031175535    -0.109810           0.007405\n",
      "4.931694217    -0.109810           0.007405\n",
      "4.814359096    -0.109810           0.007405\n",
      " 4.97924616    -0.109810           0.007405\n",
      "4.765588599    -0.109810           0.007405\n",
      "4.917185337    -0.109810           0.007405\n",
      "9.594389045     0.375357           0.007405\n",
      " 4.66619639    -0.109810           0.007405\n",
      "4.719733385    -0.109810           0.007405\n",
      "4.289631413    -0.109810           0.007405\n",
      "4.306570925    -0.109810           0.007405\n",
      "4.316321809    -0.109810           0.007405\n",
      "4.318116539    -0.109810           0.007405\n",
      "4.341070475    -0.109810           0.007405\n",
      "4.345931906    -0.109810           0.007405\n",
      "4.366991949    -0.109810           0.007405\n",
      "4.368022818    -0.109810           0.007405\n",
      "4.379190072    -0.109810           0.007405\n",
      " 4.38693764    -0.109810           0.007405\n",
      "4.388550112    -0.109810           0.007405\n",
      "4.393234036    -0.109810           0.007405\n",
      " 4.39410031    -0.109810           0.007405\n",
      "4.396921589    -0.109810           0.007405\n",
      " 4.40460193    -0.109810           0.007405\n",
      "4.413855811    -0.109810           0.007405\n",
      "4.417902492    -0.109810           0.007405\n",
      "4.276988391    -0.109810           0.007405\n",
      "4.270026284    -0.109810           0.007405\n",
      "4.265507679    -0.109810           0.007405\n",
      "4.260529712    -0.109810           0.007405\n",
      "9.136524971     0.269209           0.007405\n",
      "3.556741279    -0.109810           0.007405\n",
      "3.576488063    -0.109810           0.007405\n",
      "3.659064023    -0.109810           0.007405\n",
      "3.700422652    -0.109810           0.007405\n",
      "3.841942702    -0.109810           0.007405\n",
      "3.960951441    -0.109810           0.007405\n",
      "      64849    -0.109810           0.007405\n",
      "4.421387222    -0.109810           0.007405\n",
      "4.007681275    -0.109810           0.007405\n",
      "4.725497375    -0.109810           0.007405\n",
      "4.093456467    -0.109810           0.007405\n",
      "4.111944369    -0.109810           0.007405\n",
      "4.128702441    -0.109810           0.007405\n",
      "4.187280255    -0.109810           0.007405\n",
      "4.191354084    -0.109810           0.007405\n",
      "4.212589315    -0.109810           0.007405\n",
      "  4.2183996    -0.109810           0.007405\n",
      " 4.01276489    -0.109810           0.007405\n",
      "4.431010853    -0.109810           0.007405\n",
      "4.086876467    -0.109810           0.007405\n",
      "4.475337359    -0.109810           0.007405\n",
      "4.546668716    -0.109810           0.007405\n",
      "4.539182766    -0.109810           0.007405\n",
      "4.442326388    -0.109810           0.007405\n",
      "4.652766681    -0.109810           0.007405\n",
      "4.574047715    -0.109810           0.007405\n",
      "4.532817765    -0.109810           0.007405\n",
      "4.532723667    -0.109810           0.007405\n",
      "4.611508044    -0.109810           0.007405\n",
      "4.529061678    -0.109810           0.007405\n",
      "4.520825584    -0.109810           0.007405\n",
      "4.518832117    -0.109810           0.007405\n",
      "4.584256544    -0.109810           0.007405\n",
      "4.473014588    -0.109810           0.007405\n",
      "4.617144012    -0.109810           0.007405\n",
      "4.593153584    -0.109810           0.007405\n",
      "4.472706214    -0.109810           0.007405\n",
      "4.467597156    -0.109810           0.007405\n",
      "4.463983441    -0.109810           0.007405\n",
      "4.712299652    -0.109810           0.007405\n",
      "4.447130026    -0.109810           0.007405\n",
      "4.701745991    -0.109810           0.007405\n",
      " 4.44702525    -0.109810           0.007405\n",
      " 4.44403655    -0.109810           0.007405\n",
      "4.443145944    -0.109810           0.007405\n",
      "4.711576412    -0.109810           0.007405\n",
      " 4.65147927    -0.109810           0.007405\n",
      "4.665851094    -0.109810           0.007405\n",
      "4.636271161    -0.109810           0.007405\n",
      "4.688390434    -0.109810           0.007405\n",
      "6.622567681     0.163494           0.007905\n",
      "8.902917609     0.163049           0.009066\n",
      "  100505942     0.070249           0.010743\n",
      "2.900145612     0.082946           0.010829\n",
      "3.132911066     0.093890           0.012257\n",
      "3.539205038     0.101398           0.012411\n",
      "2.950159801     0.080531           0.015226\n",
      "5.118491552     0.109830           0.016862\n",
      "     284801     0.077680           0.018406\n",
      "5.516859444     0.136176           0.020458\n",
      "5.511320044     0.071235           0.022634\n",
      "       8799    -0.138743           0.022634\n",
      "5.505902525     0.071235           0.022634\n",
      "5.519523062     0.071235           0.022634\n",
      "5.498729942     0.071235           0.022634\n",
      "5.520746811     0.071235           0.022634\n",
      "5.521513569     0.071235           0.022634\n",
      "5.497501968     0.071235           0.022634\n",
      "5.522303597     0.071235           0.022634\n",
      "5.493562243     0.071235           0.022634\n",
      "5.879436076     0.071235           0.022634\n",
      " 5.49122468     0.071235           0.022634\n",
      "5.489772704     0.071235           0.022634\n",
      "5.507072378     0.071235           0.022634\n",
      "  6.0046947     0.071235           0.022634\n",
      "5.466429547     0.071235           0.022634\n",
      "5.485280093     0.071235           0.022634\n",
      "5.395626179     0.071235           0.022634\n",
      "5.409952463     0.071235           0.022634\n",
      "5.412615463     0.071235           0.022634\n",
      " 5.41341278     0.071235           0.022634\n",
      "5.416510981     0.071235           0.022634\n",
      "5.425395151     0.071235           0.022634\n",
      "5.430895559     0.071235           0.022634\n",
      "5.435578418     0.071235           0.022634\n",
      "5.439038169     0.071235           0.022634\n",
      "5.440627364     0.071235           0.022634\n",
      "5.444812733     0.071235           0.022634\n",
      "5.450736284     0.071235           0.022634\n",
      "5.489361126     0.071235           0.022634\n",
      "5.455436356     0.071235           0.022634\n",
      "5.458195499     0.071235           0.022634\n",
      "5.458546033     0.071235           0.022634\n",
      "9.147110417     0.192527           0.022634\n",
      "9.145100121     0.132672           0.022634\n",
      " 5.45929722     0.071235           0.022634\n",
      "5.529422719     0.071235           0.022634\n",
      "5.470915076     0.071235           0.022634\n",
      "5.471456973     0.071235           0.022634\n",
      " 5.47178808     0.071235           0.022634\n",
      "5.475927233     0.071235           0.022634\n",
      "5.479681639     0.071235           0.022634\n",
      "5.480777272     0.071235           0.022634\n",
      "5.457922537     0.071235           0.022634\n",
      "5.532383116     0.071235           0.022634\n",
      "5.561676216     0.071235           0.022634\n",
      "5.533415049     0.071235           0.022634\n",
      "5.651691119     0.071235           0.022634\n",
      "5.654114655     0.071235           0.022634\n",
      "5.665260488     0.071235           0.022634\n",
      "5.689015492     0.071235           0.022634\n",
      "5.692674268     0.071235           0.022634\n",
      "5.702507073     0.071235           0.022634\n",
      " 6.51733961     0.071235           0.022634\n",
      "5.858814695     0.071235           0.022634\n",
      "5.928937137     0.071235           0.022634\n",
      "5.708868259     0.071235           0.022634\n",
      "5.733920315     0.071235           0.022634\n",
      "5.650808929     0.071235           0.022634\n",
      "5.935705084     0.071235           0.022634\n",
      "5.741333405     0.071235           0.022634\n",
      "5.743300741     0.071235           0.022634\n",
      "5.838653537     0.071235           0.022634\n",
      "5.760046366     0.071235           0.022634\n",
      "6.373141434     0.071235           0.022634\n",
      "5.838634595     0.071235           0.022634\n",
      "5.778202655     0.071235           0.022634\n",
      "5.824089777     0.071235           0.022634\n",
      "5.815976395     0.071235           0.022634\n",
      "5.788813448     0.071235           0.022634\n",
      "5.791455985     0.071235           0.022634\n",
      "5.740400588     0.071235           0.022634\n",
      "5.894532745     0.071235           0.022634\n",
      "5.643342137     0.071235           0.022634\n",
      "5.640985491     0.071235           0.022634\n",
      "5.535230839     0.071235           0.022634\n",
      "5.535951388     0.071235           0.022634\n",
      "5.537262887     0.071235           0.022634\n",
      " 5.53781128     0.071235           0.022634\n",
      "5.538585441     0.071235           0.022634\n",
      " 5.53972973     0.071235           0.022634\n",
      "5.539808734     0.071235           0.022634\n",
      "5.923377702     0.071235           0.022634\n",
      "5.540530373     0.071235           0.022634\n",
      "5.550127232     0.071235           0.022634\n",
      "5.550339562     0.071235           0.022634\n",
      "6.932588565     0.071235           0.022634\n",
      "5.563443024     0.071235           0.022634\n",
      "5.572493637     0.071235           0.022634\n",
      "8.894525703    -0.138743           0.022634\n",
      "5.575347692     0.071235           0.022634\n",
      "8.773624098    -0.138743           0.022634\n",
      "5.579069232     0.071235           0.022634\n",
      "5.582667089     0.071235           0.022634\n",
      " 5.92360053     0.071235           0.022634\n",
      "5.589407044     0.071235           0.022634\n",
      "5.602155125     0.071235           0.022634\n",
      "5.621517605     0.071235           0.022634\n",
      "5.629457437     0.071235           0.022634\n",
      " 5.56695549     0.071235           0.022634\n",
      "5.369865762     0.071235           0.022634\n",
      "10.96845059    -0.212239           0.022634\n",
      "5.364918105     0.071235           0.022634\n",
      " 4.94343232     0.071235           0.022634\n",
      "4.943857359     0.071235           0.022634\n",
      "4.958679834     0.071235           0.022634\n",
      "4.979255008     0.071235           0.022634\n",
      "4.982827995     0.071235           0.022634\n",
      "4.985146808     0.071235           0.022634\n",
      "5.002100387     0.071235           0.022634\n",
      "5.003701877     0.071235           0.022634\n",
      " 5.00685314     0.071235           0.022634\n",
      " 5.01961486     0.071235           0.022634\n",
      "5.024848414     0.071235           0.022634\n",
      "5.028718006     0.071235           0.022634\n",
      " 5.03566348     0.071235           0.022634\n",
      "5.041095524     0.071235           0.022634\n",
      "5.041345016     0.071235           0.022634\n",
      " 5.05123636     0.071235           0.022634\n",
      "5.365697584     0.071235           0.022634\n",
      "5.063807942     0.071235           0.022634\n",
      "5.066785974     0.071235           0.022634\n",
      "5.069203363     0.071235           0.022634\n",
      "5.078474069     0.071235           0.022634\n",
      "5.082658681     0.071235           0.022634\n",
      "5.097997726     0.071235           0.022634\n",
      "4.935183963     0.071235           0.022634\n",
      "4.918740139     0.071235           0.022634\n",
      "4.898400571     0.071235           0.022634\n",
      "4.878153319     0.071235           0.022634\n",
      "11.00004335    -0.164449           0.022634\n",
      "12.75698068     0.071235           0.022634\n",
      "3.384080486     0.081070           0.022634\n",
      "3.579903005     0.080853           0.022634\n",
      " 3.95143502     0.071235           0.022634\n",
      "3.994042715    -0.108209           0.022634\n",
      "     387742     0.071235           0.022634\n",
      "4.211827094     0.071235           0.022634\n",
      "4.348840492     0.071235           0.022634\n",
      "4.389641267     0.071235           0.022634\n",
      "4.519774222     0.071235           0.022634\n",
      "5.103350591     0.071235           0.022634\n",
      "4.534302897     0.071235           0.022634\n",
      "4.665251156     0.071235           0.022634\n",
      "4.700151783     0.071235           0.022634\n",
      "4.704327123     0.071235           0.022634\n",
      "  4.7065898     0.071235           0.022634\n",
      " 4.78970593     0.071235           0.022634\n",
      " 4.79416188     0.071235           0.022634\n",
      "4.825101141     0.071235           0.022634\n",
      "4.835215442     0.071235           0.022634\n",
      "4.840146602     0.071235           0.022634\n",
      "4.858889905     0.071235           0.022634\n",
      "4.867427946     0.071235           0.022634\n",
      "4.570598065     0.071235           0.022634\n",
      "5.104584953     0.071235           0.022634\n",
      "5.059210022     0.071235           0.022634\n",
      "5.112538008     0.071235           0.022634\n",
      "5.290964545     0.071235           0.022634\n",
      "5.291391052     0.071235           0.022634\n",
      "5.291922406     0.071235           0.022634\n",
      "5.294773978     0.071235           0.022634\n",
      "5.106676657     0.071235           0.022634\n",
      "5.300526949     0.071235           0.022634\n",
      "5.310376016     0.071235           0.022634\n",
      "5.313680782     0.071235           0.022634\n",
      "5.314810709     0.071235           0.022634\n",
      "5.315582837     0.071235           0.022634\n",
      "5.316469301     0.071235           0.022634\n",
      "5.287627795     0.071235           0.022634\n",
      "5.317036734     0.071235           0.022634\n",
      "5.318404087     0.071235           0.022634\n",
      "5.322299905     0.071235           0.022634\n",
      "5.327320637     0.071235           0.022634\n",
      "5.339288366     0.071235           0.022634\n",
      "5.343917283     0.071235           0.022634\n",
      "5.352475339     0.071235           0.022634\n",
      "5.356389778     0.071235           0.022634\n",
      "5.360868154     0.071235           0.022634\n",
      "5.361456451     0.071235           0.022634\n",
      " 5.36396828     0.071235           0.022634\n",
      "5.364493538     0.071235           0.022634\n",
      "5.318197403     0.071235           0.022634\n",
      "5.278731207     0.071235           0.022634\n",
      "5.296934746     0.071235           0.022634\n",
      "5.156886031     0.071235           0.022634\n",
      "5.114546941     0.071235           0.022634\n",
      "5.126895892     0.071235           0.022634\n",
      "5.142113918     0.071235           0.022634\n",
      "5.146275938     0.071235           0.022634\n",
      "5.147940142     0.071235           0.022634\n",
      "5.151106843     0.071235           0.022634\n",
      "5.152029269     0.071235           0.022634\n",
      "5.152901089     0.071235           0.022634\n",
      "5.276190952     0.071235           0.022634\n",
      "5.167212712     0.071235           0.022634\n",
      "5.181135543     0.071235           0.022634\n",
      " 5.19541624     0.071235           0.022634\n",
      "5.202166996     0.071235           0.022634\n",
      "4.855012788     0.071235           0.022634\n",
      "5.234474009     0.071235           0.022634\n",
      "5.239062658     0.071235           0.022634\n",
      "5.272783073     0.071235           0.022634\n",
      "5.244963003     0.071235           0.022634\n",
      "5.266402589     0.071235           0.022634\n",
      "5.248996201     0.071235           0.022634\n",
      "5.249722029     0.071235           0.022634\n",
      "5.263867103     0.071235           0.022634\n",
      "5.251816286     0.071235           0.022634\n",
      "5.261657433     0.071235           0.022634\n",
      "5.255367742     0.071235           0.022634\n",
      "5.218994709     0.071235           0.022634\n",
      "4.027502961    -0.120462           0.022692\n",
      "11.27369242    -0.286784           0.023162\n",
      "3.983532258     0.077339           0.024090\n",
      "3.470195675     0.075224           0.030735\n",
      "5.701501751     0.215165           0.031079\n",
      "4.434451174    -0.102141           0.032627\n",
      "8.846569903     0.154946           0.038505\n",
      "3.645867023     0.070060           0.039396\n",
      "3.022732127     0.070060           0.039396\n",
      "5.861471324     0.178796           0.040563\n",
      " 3.57053999     0.090656           0.043893\n",
      "9.089247562     0.134869           0.044630\n",
      "4.089061738    -0.116953           0.045933\n",
      "7.745020478     0.141581           0.047799\n",
      "4.915304527    -0.116762           0.048942\n",
      "3.996311684     0.089618           0.049238\n",
      "5.984827706     0.144979           0.049599\n"
     ]
    },
    {
     "name": "stderr",
     "output_type": "stream",
     "text": [
      "/home/yxcheng/AI4Science_gold_standard/stage1/Yuxuan/utils.py:425: SettingWithCopyWarning: \n",
      "A value is trying to be set on a copy of a slice from a DataFrame.\n",
      "Try using .loc[row_indexer,col_indexer] = value instead\n",
      "\n",
      "See the caveats in the documentation: https://pandas.pydata.org/pandas-docs/stable/user_guide/indexing.html#returning-a-view-versus-a-copy\n",
      "  gene_regression_df.loc[:, 'corrected_p_value'] = corrected_p_values\n"
     ]
    }
   ],
   "source": [
    "\n",
    "feature_cols = merged_data.columns.tolist()\n",
    "feature_cols.remove(TRAIT)\n",
    "\n",
    "threshold = 0.05\n",
    "interpret_result(model1, feature_cols, TRAIT, condition, threshold=threshold, save_output=True,\n",
    "                 output_dir=OUTPUT_DIR, model_id=1)"
   ]
  },
  {
   "cell_type": "code",
   "execution_count": null,
   "metadata": {
    "collapsed": false
   },
   "outputs": [],
   "source": [
    "interpret_result(model2, feature_cols, TRAIT, condition, threshold=threshold, save_output=True,\n",
    "                 output_dir=OUTPUT_DIR, model_id=2)"
   ]
  }
 ],
 "metadata": {
  "colab": {
   "provenance": []
  },
  "kernelspec": {
   "display_name": "Python 3 (ipykernel)",
   "language": "python",
   "name": "python3"
  },
  "language_info": {
   "codemirror_mode": {
    "name": "ipython",
    "version": 3
   },
   "file_extension": ".py",
   "mimetype": "text/x-python",
   "name": "python",
   "nbconvert_exporter": "python",
   "pygments_lexer": "ipython3",
   "version": "3.10.13"
  }
 },
 "nbformat": 4,
 "nbformat_minor": 0
}
