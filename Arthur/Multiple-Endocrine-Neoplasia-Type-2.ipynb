{
 "nbformat": 4,
 "nbformat_minor": 0,
 "metadata": {
  "colab": {
   "provenance": []
  },
  "kernelspec": {
   "name": "python3",
   "language": "python",
   "display_name": "Python 3 (ipykernel)"
  },
  "language_info": {
   "name": "python"
  }
 },
 "cells": [
  {
   "cell_type": "markdown",
   "source": [
    "# Gold standard curation: Preprocessing and single-step regression"
   ],
   "metadata": {
    "collapsed": false
   }
  },
  {
   "cell_type": "markdown",
   "source": [
    "In this stage of gold standard curation, we will do the data preprocessing, selection, and single-step regression for the 153 traits in our question set. This file shows the reference steps using the trait \"Breast Cancer\" as an example. The workflow consists of the following steps:\n",
    "\n",
    "1. Preprocess all the cohorts related to this trait. Each cohort should be converted to a tabular form and saved to a csv file, with columns being genetic factors, the trait, and age, gender if available;\n",
    "2. If there exists at least one cohort with age or gender information, conduct regression analysis with genetic features together with age or gender as the regressors.\n"
   ],
   "metadata": {
    "collapsed": false
   }
  },
  {
   "cell_type": "markdown",
   "source": [
    "# 1. Basic setup"
   ],
   "metadata": {
    "collapsed": false
   }
  },
  {
   "cell_type": "code",
   "execution_count": 1,
   "outputs": [],
   "source": [
    "import os\n",
    "import sys\n",
    "\n",
    "sys.path.append('..')\n",
    "from utils import *\n",
    "\n",
    "# Set your preferred name\n",
    "USER = \"Haoyang\"\n",
    "# Set the data and output directories\n",
    "DATA_ROOT = '/media/techt/DATA'\n",
    "OUTPUT_ROOT = '../../output1'\n",
    "TRAIT = 'Multiple Endocrine Neoplasia Type 2'\n",
    "\n",
    "OUTPUT_DIR = os.path.join(OUTPUT_ROOT, USER, '-'.join(TRAIT.split()))\n",
    "JSON_PATH = os.path.join(OUTPUT_DIR, \"cohort_info.json\")\n",
    "if not os.path.exists(OUTPUT_DIR):\n",
    "    os.makedirs(OUTPUT_DIR, exist_ok=True)\n",
    "\n",
    "# Gene symbol normalization may take 1-2 minutes. You may set it to False for debugging.\n",
    "NORMALIZE_GENE = True"
   ],
   "metadata": {
    "collapsed": false,
    "ExecuteTime": {
     "end_time": "2024-01-27T00:22:49.580983602Z",
     "start_time": "2024-01-27T00:22:48.957992938Z"
    }
   }
  },
  {
   "cell_type": "code",
   "execution_count": 2,
   "metadata": {
    "colab": {
     "base_uri": "https://localhost:8080/"
    },
    "id": "jMTdsU43vVg3",
    "outputId": "38886111-f442-44b4-8398-96bf384d7abd",
    "ExecuteTime": {
     "end_time": "2024-01-27T00:22:49.586655802Z",
     "start_time": "2024-01-27T00:22:49.583380339Z"
    }
   },
   "outputs": [
    {
     "data": {
      "text/plain": "\"import os\\nfrom google.colab import drive\\n\\ndrive.mount('/content/drive', force_remount=True)\\nproj_dir = '/content/drive/MyDrive/AI4Science_Public'\\nos.chdir(proj_dir)\""
     },
     "execution_count": 2,
     "metadata": {},
     "output_type": "execute_result"
    }
   ],
   "source": [
    "# This cell is only for use on Google Colab. Skip it if you run your code in other environments\n",
    "\n",
    "\"\"\"import os\n",
    "from google.colab import drive\n",
    "\n",
    "drive.mount('/content/drive', force_remount=True)\n",
    "proj_dir = '/content/drive/MyDrive/AI4Science_Public'\n",
    "os.chdir(proj_dir)\"\"\""
   ]
  },
  {
   "cell_type": "markdown",
   "source": [
    "# 2. Data preprocessing and selection"
   ],
   "metadata": {
    "collapsed": false
   }
  },
  {
   "cell_type": "markdown",
   "source": [
    "## 2.1. The TCGA Xena dataset"
   ],
   "metadata": {
    "collapsed": false
   }
  },
  {
   "cell_type": "markdown",
   "source": [
    "In TCGA Xena, there is either zero or one cohort related to the trait. We search the names of subdirectories to see if any matches the trait. If a match is found, we directly obtain the file paths."
   ],
   "metadata": {
    "collapsed": false
   }
  },
  {
   "cell_type": "code",
   "execution_count": null,
   "outputs": [],
   "source": [
    "dataset = 'TCGA'\n",
    "dataset_dir = os.path.join(DATA_ROOT, dataset)\n",
    "os.listdir(dataset_dir)"
   ],
   "metadata": {
    "collapsed": false
   }
  },
  {
   "cell_type": "markdown",
   "source": [
    "If no match is found, jump directly to GEO in Part 2.2"
   ],
   "metadata": {
    "collapsed": false
   }
  },
  {
   "cell_type": "code",
   "execution_count": null,
   "outputs": [],
   "source": [
    "trait_subdir = \"TCGA_Breast_Cancer_(BRCA)\"\n",
    "cohort = 'Xena'\n",
    "# All the cancer traits in Xena are binary\n",
    "trait_type = 'binary'\n",
    "# Once a relevant cohort is found in Xena, we can generally assume the gene and clinical data are available\n",
    "is_available = True\n",
    "\n",
    "clinical_data_file = os.path.join(dataset_dir, trait_subdir, 'TCGA.BRCA.sampleMap_BRCA_clinicalMatrix')\n",
    "genetic_data_file = os.path.join(dataset_dir, trait_subdir, 'TCGA.BRCA.sampleMap_HiSeqV2_PANCAN.gz')"
   ],
   "metadata": {
    "collapsed": false
   }
  },
  {
   "cell_type": "code",
   "source": [
    "import pandas as pd\n",
    "\n",
    "clinical_data = pd.read_csv(clinical_data_file, sep='\\t', index_col=0)\n",
    "genetic_data = pd.read_csv(genetic_data_file, compression='gzip', sep='\\t', index_col=0)\n",
    "age_col = gender_col = None"
   ],
   "metadata": {
    "id": "MudwB-_iz7sc"
   },
   "execution_count": null,
   "outputs": []
  },
  {
   "cell_type": "code",
   "execution_count": null,
   "outputs": [],
   "source": [
    "_, clinical_data_cols = check_rows_and_columns(clinical_data)\n",
    "clinical_data_cols[:10]"
   ],
   "metadata": {
    "collapsed": false
   }
  },
  {
   "cell_type": "markdown",
   "source": [
    "Read all the column names in the clinical dataset, to find the columns that record information about age or gender.\n",
    "Reference prompt:"
   ],
   "metadata": {
    "collapsed": false,
    "ExecuteTime": {
     "end_time": "2023-12-28T20:20:11.841042813Z",
     "start_time": "2023-12-28T20:20:11.834458206Z"
    }
   },
   "outputs": [
    {
     "data": {
      "text/plain": "['AJCC_Stage_nature2012',\n 'Age_at_Initial_Pathologic_Diagnosis_nature2012',\n 'CN_Clusters_nature2012',\n 'Converted_Stage_nature2012',\n 'Days_to_Date_of_Last_Contact_nature2012',\n 'Days_to_date_of_Death_nature2012',\n 'ER_Status_nature2012',\n 'Gender_nature2012',\n 'HER2_Final_Status_nature2012',\n 'Integrated_Clusters_no_exp__nature2012',\n 'Integrated_Clusters_unsup_exp__nature2012',\n 'Integrated_Clusters_with_PAM50__nature2012',\n 'Metastasis_Coded_nature2012',\n 'Metastasis_nature2012',\n 'Node_Coded_nature2012',\n 'Node_nature2012',\n 'OS_Time_nature2012',\n 'OS_event_nature2012',\n 'PAM50Call_RNAseq',\n 'PAM50_mRNA_nature2012',\n 'PR_Status_nature2012',\n 'RPPA_Clusters_nature2012',\n 'SigClust_Intrinsic_mRNA_nature2012',\n 'SigClust_Unsupervised_mRNA_nature2012',\n 'Survival_Data_Form_nature2012',\n 'Tumor_T1_Coded_nature2012',\n 'Tumor_nature2012',\n 'Vital_Status_nature2012',\n '_INTEGRATION',\n '_PANCAN_CNA_PANCAN_K8',\n '_PANCAN_Cluster_Cluster_PANCAN',\n '_PANCAN_DNAMethyl_BRCA',\n '_PANCAN_DNAMethyl_PANCAN',\n '_PANCAN_RPPA_PANCAN_K8',\n '_PANCAN_UNC_RNAseq_PANCAN_K16',\n '_PANCAN_miRNA_PANCAN',\n '_PANCAN_mirna_BRCA',\n '_PANCAN_mutation_PANCAN',\n '_PATIENT',\n '_cohort',\n '_primary_disease',\n '_primary_site',\n 'additional_pharmaceutical_therapy',\n 'additional_radiation_therapy',\n 'additional_surgery_locoregional_procedure',\n 'additional_surgery_metastatic_procedure',\n 'age_at_initial_pathologic_diagnosis',\n 'anatomic_neoplasm_subdivision',\n 'axillary_lymph_node_stage_method_type',\n 'axillary_lymph_node_stage_other_method_descriptive_text',\n 'bcr_followup_barcode',\n 'bcr_patient_barcode',\n 'bcr_sample_barcode',\n 'breast_cancer_surgery_margin_status',\n 'breast_carcinoma_estrogen_receptor_status',\n 'breast_carcinoma_immunohistochemistry_er_pos_finding_scale',\n 'breast_carcinoma_immunohistochemistry_pos_cell_score',\n 'breast_carcinoma_immunohistochemistry_prgstrn_rcptr_ps_fndng_scl',\n 'breast_carcinoma_primary_surgical_procedure_name',\n 'breast_carcinoma_progesterone_receptor_status',\n 'breast_carcinoma_surgical_procedure_name',\n 'breast_neoplasm_other_surgical_procedure_descriptive_text',\n 'cytokeratin_immunohistochemistry_staining_method_mcrmtstss_ndctr',\n 'days_to_additional_surgery_locoregional_procedure',\n 'days_to_additional_surgery_metastatic_procedure',\n 'days_to_birth',\n 'days_to_collection',\n 'days_to_death',\n 'days_to_initial_pathologic_diagnosis',\n 'days_to_last_followup',\n 'days_to_last_known_alive',\n 'days_to_new_tumor_event_additional_surgery_procedure',\n 'days_to_new_tumor_event_after_initial_treatment',\n 'disease_code',\n 'distant_metastasis_present_ind2',\n 'er_detection_method_text',\n 'er_level_cell_percentage_category',\n 'fluorescence_in_st_hybrdztn_dgnstc_prcdr_chrmsm_17_sgnl_rslt_rng',\n 'followup_case_report_form_submission_reason',\n 'form_completion_date',\n 'gender',\n 'her2_and_centromere_17_positive_finding_other_measuremnt_scl_txt',\n 'her2_erbb_method_calculation_method_text',\n 'her2_erbb_pos_finding_cell_percent_category',\n 'her2_erbb_pos_finding_fluorescence_n_st_hybrdztn_clcltn_mthd_txt',\n 'her2_immunohistochemistry_level_result',\n 'her2_neu_and_centromere_17_copy_number_analysis_npt_ttl_nmbr_cnt',\n 'her2_neu_breast_carcinoma_copy_analysis_input_total_number',\n 'her2_neu_chromosone_17_signal_ratio_value',\n 'her2_neu_metastatic_breast_carcinoma_copy_analysis_inpt_ttl_nmbr',\n 'histological_type',\n 'histological_type_other',\n 'history_of_neoadjuvant_treatment',\n 'hr2_n_nd_cntrmr_17_cpy_nmbr_mtsttc_brst_crcnm_nlyss_npt_ttl_nmbr',\n 'icd_10',\n 'icd_o_3_histology',\n 'icd_o_3_site',\n 'immunohistochemistry_positive_cell_score',\n 'informed_consent_verified',\n 'init_pathology_dx_method_other',\n 'initial_pathologic_diagnosis_method',\n 'initial_weight',\n 'is_ffpe',\n 'lab_proc_her2_neu_immunohistochemistry_receptor_status',\n 'lab_procedure_her2_neu_in_situ_hybrid_outcome_type',\n 'lost_follow_up',\n 'lymph_node_examined_count',\n 'margin_status',\n 'menopause_status',\n 'metastatic_breast_carcinm_ps_fndng_prgstrn_rcptr_thr_msr_scl_txt',\n 'metastatic_breast_carcinom_lb_prc_hr2_n_mmnhstchmstry_rcptr_stts',\n 'metastatic_breast_carcinoma_erbb2_immunohistochemistry_levl_rslt',\n 'metastatic_breast_carcinoma_estrogen_receptor_detection_mthd_txt',\n 'metastatic_breast_carcinoma_estrogen_receptor_status',\n 'metastatic_breast_carcinoma_estrogen_receptr_lvl_cll_prcnt_ctgry',\n 'metastatic_breast_carcinoma_her2_erbb_method_calculatin_mthd_txt',\n 'metastatic_breast_carcinoma_her2_erbb_pos_findng_cll_prcnt_ctgry',\n 'metastatic_breast_carcinoma_her2_neu_chromosone_17_signal_rat_vl',\n 'metastatic_breast_carcinoma_immunhstchmstry_r_pstv_fndng_scl_typ',\n 'metastatic_breast_carcinoma_immunohistochemistry_er_pos_cell_scr',\n 'metastatic_breast_carcinoma_immunohistochemistry_pr_pos_cell_scr',\n 'metastatic_breast_carcinoma_lab_proc_hr2_n_n_st_hybrdztn_tcm_typ',\n 'metastatic_breast_carcinoma_pos_finding_hr2_rbb2_thr_msr_scl_txt',\n 'metastatic_breast_carcinoma_progestern_rcptr_lvl_cll_prcnt_ctgry',\n 'metastatic_breast_carcinoma_progesterone_receptor_dtctn_mthd_txt',\n 'metastatic_breast_carcinoma_progesterone_receptor_status',\n 'metastatic_site_at_diagnosis',\n 'metastatic_site_at_diagnosis_other',\n 'methylation_Clusters_nature2012',\n 'miRNA_Clusters_nature2012',\n 'mtsttc_brst_crcnm_flrscnc_n_st_hybrdztn_dgnstc_prc_cntrmr_17_sgn',\n 'mtsttc_brst_crcnm_hr2_rbb_ps_fndng_flrscnc_n_st_hybrdztn_clcltn',\n 'mtsttc_brst_crcnm_mmnhstchmstry_prgstrn_rcptr_pstv_fndng_scl_typ',\n 'new_neoplasm_event_occurrence_anatomic_site',\n 'new_neoplasm_event_type',\n 'new_neoplasm_occurrence_anatomic_site_text',\n 'new_tumor_event_additional_surgery_procedure',\n 'new_tumor_event_after_initial_treatment',\n 'number_of_lymphnodes_positive_by_he',\n 'number_of_lymphnodes_positive_by_ihc',\n 'oct_embedded',\n 'other_dx',\n 'pathologic_M',\n 'pathologic_N',\n 'pathologic_T',\n 'pathologic_stage',\n 'pathology_report_file_name',\n 'patient_id',\n 'person_neoplasm_cancer_status',\n 'pgr_detection_method_text',\n 'pos_finding_her2_erbb2_other_measurement_scale_text',\n 'pos_finding_metastatic_brst_crcnm_strgn_rcptr_thr_msrmnt_scl_txt',\n 'pos_finding_progesterone_receptor_other_measurement_scale_text',\n 'positive_finding_estrogen_receptor_other_measurement_scale_text',\n 'postoperative_rx_tx',\n 'primary_lymph_node_presentation_assessment',\n 'progesterone_receptor_level_cell_percent_category',\n 'project_code',\n 'radiation_therapy',\n 'sample_type',\n 'sample_type_id',\n 'surgical_procedure_purpose_other_text',\n 'system_version',\n 'targeted_molecular_therapy',\n 'tissue_prospective_collection_indicator',\n 'tissue_retrospective_collection_indicator',\n 'tissue_source_site',\n 'tumor_tissue_site',\n 'vial_number',\n 'vital_status',\n 'year_of_initial_pathologic_diagnosis',\n '_GENOMIC_ID_TCGA_BRCA_exp_HiSeqV2_exon',\n '_GENOMIC_ID_TCGA_BRCA_exp_HiSeqV2_PANCAN',\n '_GENOMIC_ID_TCGA_BRCA_RPPA_RBN',\n '_GENOMIC_ID_TCGA_BRCA_mutation',\n '_GENOMIC_ID_TCGA_BRCA_PDMRNAseq',\n '_GENOMIC_ID_TCGA_BRCA_hMethyl450',\n '_GENOMIC_ID_TCGA_BRCA_RPPA',\n '_GENOMIC_ID_TCGA_BRCA_PDMRNAseqCNV',\n '_GENOMIC_ID_TCGA_BRCA_mutation_curated_wustl_gene',\n '_GENOMIC_ID_TCGA_BRCA_hMethyl27',\n '_GENOMIC_ID_TCGA_BRCA_PDMarrayCNV',\n '_GENOMIC_ID_TCGA_BRCA_miRNA_HiSeq',\n '_GENOMIC_ID_TCGA_BRCA_mutation_wustl_gene',\n '_GENOMIC_ID_TCGA_BRCA_miRNA_GA',\n '_GENOMIC_ID_TCGA_BRCA_exp_HiSeqV2_percentile',\n '_GENOMIC_ID_data/public/TCGA/BRCA/miRNA_GA_gene',\n '_GENOMIC_ID_TCGA_BRCA_gistic2thd',\n '_GENOMIC_ID_data/public/TCGA/BRCA/miRNA_HiSeq_gene',\n '_GENOMIC_ID_TCGA_BRCA_G4502A_07_3',\n '_GENOMIC_ID_TCGA_BRCA_exp_HiSeqV2',\n '_GENOMIC_ID_TCGA_BRCA_gistic2',\n '_GENOMIC_ID_TCGA_BRCA_PDMarray']"
     },
     "execution_count": 7,
     "metadata": {},
     "output_type": "execute_result"
    }
   ],
   "execution_count": 7
  },
  {
   "cell_type": "code",
   "execution_count": null,
   "outputs": [],
   "source": [
    "f'''\n",
    "Below is a list of column names from a biomedical dataset. Please examine it and identify the columns that are likely to contain information about patients' age. Additionally, please do the same for columns that may hold data on patients' gender. Please provide your answer by strictly following this format, without redundant words:\n",
    "candidate_age_cols = [col_name1, col_name2, ...]\n",
    "candidate_gender_cols = [col_name1, col_name2, ...]\n",
    "If no columns match a criterion, please provide an empty list.\n",
    "\n",
    "Column names:\n",
    "{clinical_data_cols}\n",
    "'''"
   ],
   "metadata": {
    "collapsed": false
   }
  },
  {
   "cell_type": "code",
   "execution_count": null,
   "outputs": [],
   "source": [
    "candidate_age_cols = ['Age_at_Initial_Pathologic_Diagnosis_nature2012', 'age_at_initial_pathologic_diagnosis',\n",
    "                      'days_to_birth', 'year_of_initial_pathologic_diagnosis']\n",
    "candidate_gender_cols = ['Gender_nature2012', 'gender']"
   ],
   "metadata": {
    "collapsed": false
   }
  },
  {
   "cell_type": "markdown",
   "source": [
    "Choose a single column from the candidate columns that record age and gender information respectively.\n",
    "If no column meets the requirement, keep 'age_col' or 'gender_col' to None"
   ],
   "metadata": {
    "collapsed": false,
    "ExecuteTime": {
     "end_time": "2023-12-31T03:57:44.207565572Z",
     "start_time": "2023-12-31T03:57:44.202177544Z"
    }
   },
   "outputs": [],
   "execution_count": 9
  },
  {
   "cell_type": "code",
   "execution_count": null,
   "outputs": [],
   "source": [
    "preview_df(clinical_data[candidate_age_cols])"
   ],
   "metadata": {
    "collapsed": false
   }
  },
  {
   "cell_type": "code",
   "execution_count": null,
   "outputs": [],
   "source": [
    "age_col = 'age_at_initial_pathologic_diagnosis'"
   ],
   "metadata": {
    "collapsed": false
   }
  },
  {
   "cell_type": "code",
   "execution_count": null,
   "outputs": [],
   "source": [
    "preview_df(clinical_data[candidate_gender_cols])"
   ],
   "metadata": {
    "collapsed": false
   }
  },
  {
   "cell_type": "code",
   "execution_count": null,
   "outputs": [],
   "source": [
    "gender_col = 'gender'"
   ],
   "metadata": {
    "collapsed": false
   }
  },
  {
   "cell_type": "code",
   "execution_count": null,
   "outputs": [],
   "source": [
    "selected_clinical_data = xena_select_clinical_features(clinical_data, TRAIT, age_col=age_col, gender_col=gender_col)"
   ],
   "metadata": {
    "collapsed": false
   }
  },
  {
   "cell_type": "code",
   "execution_count": null,
   "outputs": [],
   "source": [
    "if NORMALIZE_GENE:\n",
    "    genetic_data = normalize_gene_symbols_in_index(genetic_data)"
   ],
   "metadata": {
    "collapsed": false
   }
  },
  {
   "cell_type": "code",
   "execution_count": null,
   "outputs": [],
   "source": [
    "merged_data = selected_clinical_data.join(genetic_data.T).dropna()\n",
    "merged_data.head()"
   ],
   "metadata": {
    "collapsed": false
   }
  },
  {
   "cell_type": "code",
   "execution_count": null,
   "outputs": [],
   "source": [
    "print(f\"The merged dataset contains {len(merged_data)} samples.\")\n",
    "is_trait_biased, merge_data = judge_and_remove_biased_features(merged_data, TRAIT, trait_type=trait_type)\n",
    "is_trait_biased"
   ],
   "metadata": {
    "collapsed": false
   }
  },
  {
   "cell_type": "code",
   "execution_count": null,
   "outputs": [],
   "source": [
    "merged_data.head()\n",
    "if not is_trait_biased:\n",
    "    merge_data.to_csv(os.path.join(OUTPUT_DIR, cohort + '.csv'), index=False)"
   ],
   "metadata": {
    "collapsed": false
   }
  },
  {
   "cell_type": "code",
   "execution_count": null,
   "outputs": [],
   "source": [
    "save_cohort_info(cohort, JSON_PATH, is_available, is_trait_biased, merged_data)"
   ],
   "metadata": {
    "collapsed": false
   }
  },
  {
   "cell_type": "markdown",
   "source": [
    "## 2.2. The GEO dataset"
   ],
   "metadata": {
    "collapsed": false,
    "ExecuteTime": {
     "end_time": "2023-12-28T21:28:38.028916303Z",
     "start_time": "2023-12-28T21:28:38.016245426Z"
    }
   },
   "outputs": [
    {
     "name": "stdout",
     "output_type": "stream",
     "text": [
      "The least common label is '0' with 113 occurrences. This represents 9.30% of the dataset.\n",
      "The distribution of the trait 'Breast Cancer' in this dataset is fine.\n"
     ]
    }
   ],
   "execution_count": 19
  },
  {
   "cell_type": "markdown",
   "source": [
    "In GEO, there may be one or multiple cohorts for a trait. Each cohort is identified by an accession number. We iterate over all accession numbers in the corresponding subdirectory, preprocess the cohort data, and save them to csv files."
   ],
   "metadata": {
    "collapsed": false,
    "ExecuteTime": {
     "end_time": "2023-12-31T03:25:23.253882615Z",
     "start_time": "2023-12-31T03:25:23.244062710Z"
    }
   },
   "outputs": [],
   "execution_count": 21
  },
  {
   "cell_type": "code",
   "execution_count": 3,
   "outputs": [
    {
     "data": {
      "text/plain": "['GSE107375', 'GSE19987', 'GSE2841', 'GSE67047']"
     },
     "execution_count": 3,
     "metadata": {},
     "output_type": "execute_result"
    }
   ],
   "source": [
    "dataset = 'GEO'\n",
    "trait_subdir = \"Multiple-Endocrine-Neoplasia-Type-2\"\n",
    "\n",
    "trait_path = os.path.join(DATA_ROOT, dataset, trait_subdir)\n",
    "os.listdir(trait_path)"
   ],
   "metadata": {
    "collapsed": false,
    "ExecuteTime": {
     "end_time": "2024-01-27T00:22:53.139357815Z",
     "start_time": "2024-01-27T00:22:53.126695441Z"
    }
   }
  },
  {
   "cell_type": "markdown",
   "source": [
    "Repeat the below steps for all the accession numbers"
   ],
   "metadata": {
    "collapsed": false,
    "ExecuteTime": {
     "end_time": "2023-12-31T03:39:42.634870142Z",
     "start_time": "2023-12-31T03:39:42.534093295Z"
    }
   },
   "outputs": [],
   "execution_count": 70
  },
  {
   "cell_type": "code",
   "execution_count": 4,
   "outputs": [
    {
     "data": {
      "text/plain": "('/media/techt/DATA/GEO/Multiple-Endocrine-Neoplasia-Type-2/GSE19987/GSE19987_family.soft.gz',\n '/media/techt/DATA/GEO/Multiple-Endocrine-Neoplasia-Type-2/GSE19987/GSE19987-GPL571_series_matrix.txt.gz')"
     },
     "execution_count": 4,
     "metadata": {},
     "output_type": "execute_result"
    }
   ],
   "source": [
    "cohort = accession_num = \"GSE19987\" # 19987 biased\n",
    "cohort_dir = os.path.join(trait_path, accession_num)\n",
    "soft_file, matrix_file = get_relevant_filepaths(cohort_dir)\n",
    "soft_file, matrix_file"
   ],
   "metadata": {
    "collapsed": false,
    "ExecuteTime": {
     "end_time": "2024-01-27T00:22:53.516146921Z",
     "start_time": "2024-01-27T00:22:53.506782522Z"
    }
   }
  },
  {
   "cell_type": "markdown",
   "source": [
    "### Initial filtering and clinical data preprocessing"
   ],
   "metadata": {
    "collapsed": false
   }
  },
  {
   "cell_type": "code",
   "execution_count": 5,
   "outputs": [
    {
     "name": "stdout",
     "output_type": "stream",
     "text": [
      "!Series_title\t\"Germline Mutations in TMEM127 Confer Susceptibility to Pheochromocytoma\"\n",
      "!Series_summary\t\"Pheochromocytomas, catecholamine-secreting tumors of neural crest origin, are frequently hereditary. However, the molecular basis of the majority of these tumors is unknown. We identified the transmembrane-encoding gene TMEM127 on chromosome 2q11 as a new pheochromocytoma susceptibility gene. In a cohort of 103 samples, we detected truncating germline TMEM127 mutations in approximately 30% of familial tumors and about 3% of sporadic-appearing pheochromocytomas without a known genetic cause. The wild-type allele was consistently deleted in tumor DNA, suggesting a classic mechanism of tumor suppressor gene inactivation. Pheochromocytomas with mutations in TMEM127 are transcriptionally related to tumors bearing NF1 mutations and, similarly, show hyperphosphorylation of mammalian target of rapamycin (mTOR) effector proteins. Accordingly, in vitro gain-of-function and loss-of-function analyses indicate that TMEM127 is a negative regulator of mTOR. TMEM127 dynamically associates with the endomembrane system and colocalizes with perinuclear (activated) mTOR, suggesting a subcompartmental-specific effect. Our studies identify TMEM127 as a tumor suppressor gene and validate the power of hereditary tumors to elucidate cancer pathogenesis.\"\n",
      "!Series_overall_design\t\"We performed comparative analysis of expression profiling of 125 Pheochromocytomas and paragangliomas with a variety of mutations representatives of distinct pheochromocytoma susceptibility syndromes, sporadic tumors and familial tumors without an identifiable mutation. This dataset combines data from 75 initial tumors and 50 new tumor samples, three samples were processed in duplicate.\"\n"
     ]
    }
   ],
   "source": [
    "background_prefixes = ['!Series_title', '!Series_summary', '!Series_overall_design']\n",
    "clinical_prefixes = ['!Sample_geo_accession', '!Sample_characteristics_ch1']\n",
    "\n",
    "background_info, clinical_data = get_background_and_clinical_data(matrix_file, background_prefixes, clinical_prefixes)\n",
    "print(background_info)"
   ],
   "metadata": {
    "collapsed": false,
    "ExecuteTime": {
     "end_time": "2024-01-27T00:22:53.908315304Z",
     "start_time": "2024-01-27T00:22:53.847121646Z"
    }
   }
  },
  {
   "cell_type": "code",
   "execution_count": 6,
   "outputs": [
    {
     "data": {
      "text/plain": "         !Sample_geo_accession                     GSM499539  \\\n0  !Sample_characteristics_ch1  tumor type: pheochromocytoma   \n1  !Sample_characteristics_ch1            genetic class: NF1   \n2  !Sample_characteristics_ch1       tumor location: unknown   \n\n                      GSM499540                     GSM499541  \\\n0  tumor type: pheochromocytoma  tumor type: pheochromocytoma   \n1            genetic class: VHL           genetic class: SPOR   \n2       tumor location: adrenal       tumor location: adrenal   \n\n                      GSM499542                     GSM499543  \\\n0  tumor type: pheochromocytoma  tumor type: pheochromocytoma   \n1         genetic class: B_SDHB           genetic class: SPOR   \n2       tumor location: adrenal       tumor location: unknown   \n\n                      GSM499544                     GSM499545  \\\n0  tumor type: pheochromocytoma  tumor type: pheochromocytoma   \n1           genetic class: SPOR           genetic class: SPOR   \n2       tumor location: adrenal       tumor location: adrenal   \n\n                      GSM499546                     GSM499547  ...  \\\n0  tumor type: pheochromocytoma  tumor type: pheochromocytoma  ...   \n1           genetic class: SPOR           genetic class: SPOR  ...   \n2       tumor location: adrenal       tumor location: adrenal  ...   \n\n                      GSM499579                     GSM499580  \\\n0  tumor type: pheochromocytoma  tumor type: pheochromocytoma   \n1           genetic class: SPOR           genetic class: SPOR   \n2       tumor location: adrenal       tumor location: adrenal   \n\n                      GSM499581                     GSM499582  \\\n0  tumor type: pheochromocytoma  tumor type: pheochromocytoma   \n1           genetic class: SPOR            genetic class: NF1   \n2       tumor location: adrenal       tumor location: adrenal   \n\n                      GSM499583                     GSM499584  \\\n0  tumor type: pheochromocytoma  tumor type: pheochromocytoma   \n1          genetic class: FP_TM           genetic class: SPOR   \n2       tumor location: adrenal       tumor location: adrenal   \n\n                      GSM499585                     GSM499586  \\\n0  tumor type: pheochromocytoma  tumor type: pheochromocytoma   \n1           genetic class: SPOR           genetic class: SPOR   \n2       tumor location: adrenal  tumor location: extraadrenal   \n\n                      GSM499587                     GSM499588  \n0  tumor type: pheochromocytoma  tumor type: pheochromocytoma  \n1            genetic class: VHL            genetic class: VHL  \n2       tumor location: adrenal       tumor location: adrenal  \n\n[3 rows x 51 columns]",
      "text/html": "<div>\n<style scoped>\n    .dataframe tbody tr th:only-of-type {\n        vertical-align: middle;\n    }\n\n    .dataframe tbody tr th {\n        vertical-align: top;\n    }\n\n    .dataframe thead th {\n        text-align: right;\n    }\n</style>\n<table border=\"1\" class=\"dataframe\">\n  <thead>\n    <tr style=\"text-align: right;\">\n      <th></th>\n      <th>!Sample_geo_accession</th>\n      <th>GSM499539</th>\n      <th>GSM499540</th>\n      <th>GSM499541</th>\n      <th>GSM499542</th>\n      <th>GSM499543</th>\n      <th>GSM499544</th>\n      <th>GSM499545</th>\n      <th>GSM499546</th>\n      <th>GSM499547</th>\n      <th>...</th>\n      <th>GSM499579</th>\n      <th>GSM499580</th>\n      <th>GSM499581</th>\n      <th>GSM499582</th>\n      <th>GSM499583</th>\n      <th>GSM499584</th>\n      <th>GSM499585</th>\n      <th>GSM499586</th>\n      <th>GSM499587</th>\n      <th>GSM499588</th>\n    </tr>\n  </thead>\n  <tbody>\n    <tr>\n      <th>0</th>\n      <td>!Sample_characteristics_ch1</td>\n      <td>tumor type: pheochromocytoma</td>\n      <td>tumor type: pheochromocytoma</td>\n      <td>tumor type: pheochromocytoma</td>\n      <td>tumor type: pheochromocytoma</td>\n      <td>tumor type: pheochromocytoma</td>\n      <td>tumor type: pheochromocytoma</td>\n      <td>tumor type: pheochromocytoma</td>\n      <td>tumor type: pheochromocytoma</td>\n      <td>tumor type: pheochromocytoma</td>\n      <td>...</td>\n      <td>tumor type: pheochromocytoma</td>\n      <td>tumor type: pheochromocytoma</td>\n      <td>tumor type: pheochromocytoma</td>\n      <td>tumor type: pheochromocytoma</td>\n      <td>tumor type: pheochromocytoma</td>\n      <td>tumor type: pheochromocytoma</td>\n      <td>tumor type: pheochromocytoma</td>\n      <td>tumor type: pheochromocytoma</td>\n      <td>tumor type: pheochromocytoma</td>\n      <td>tumor type: pheochromocytoma</td>\n    </tr>\n    <tr>\n      <th>1</th>\n      <td>!Sample_characteristics_ch1</td>\n      <td>genetic class: NF1</td>\n      <td>genetic class: VHL</td>\n      <td>genetic class: SPOR</td>\n      <td>genetic class: B_SDHB</td>\n      <td>genetic class: SPOR</td>\n      <td>genetic class: SPOR</td>\n      <td>genetic class: SPOR</td>\n      <td>genetic class: SPOR</td>\n      <td>genetic class: SPOR</td>\n      <td>...</td>\n      <td>genetic class: SPOR</td>\n      <td>genetic class: SPOR</td>\n      <td>genetic class: SPOR</td>\n      <td>genetic class: NF1</td>\n      <td>genetic class: FP_TM</td>\n      <td>genetic class: SPOR</td>\n      <td>genetic class: SPOR</td>\n      <td>genetic class: SPOR</td>\n      <td>genetic class: VHL</td>\n      <td>genetic class: VHL</td>\n    </tr>\n    <tr>\n      <th>2</th>\n      <td>!Sample_characteristics_ch1</td>\n      <td>tumor location: unknown</td>\n      <td>tumor location: adrenal</td>\n      <td>tumor location: adrenal</td>\n      <td>tumor location: adrenal</td>\n      <td>tumor location: unknown</td>\n      <td>tumor location: adrenal</td>\n      <td>tumor location: adrenal</td>\n      <td>tumor location: adrenal</td>\n      <td>tumor location: adrenal</td>\n      <td>...</td>\n      <td>tumor location: adrenal</td>\n      <td>tumor location: adrenal</td>\n      <td>tumor location: adrenal</td>\n      <td>tumor location: adrenal</td>\n      <td>tumor location: adrenal</td>\n      <td>tumor location: adrenal</td>\n      <td>tumor location: adrenal</td>\n      <td>tumor location: extraadrenal</td>\n      <td>tumor location: adrenal</td>\n      <td>tumor location: adrenal</td>\n    </tr>\n  </tbody>\n</table>\n<p>3 rows × 51 columns</p>\n</div>"
     },
     "execution_count": 6,
     "metadata": {},
     "output_type": "execute_result"
    }
   ],
   "source": [
    "clinical_data.head()"
   ],
   "metadata": {
    "collapsed": false,
    "ExecuteTime": {
     "end_time": "2024-01-27T00:22:54.050197345Z",
     "start_time": "2024-01-27T00:22:54.008243012Z"
    }
   }
  },
  {
   "cell_type": "code",
   "execution_count": 7,
   "outputs": [
    {
     "data": {
      "text/plain": "{0: ['tumor type: pheochromocytoma'],\n 1: ['genetic class: NF1',\n  'genetic class: VHL',\n  'genetic class: SPOR',\n  'genetic class: B_SDHB',\n  'genetic class: MEN2A',\n  'genetic class: MEN2B',\n  'genetic class: FP_TM'],\n 2: ['tumor location: unknown',\n  'tumor location: adrenal',\n  'tumor location: extraadrenal']}"
     },
     "execution_count": 7,
     "metadata": {},
     "output_type": "execute_result"
    }
   ],
   "source": [
    "clinical_data_unique = get_unique_values_by_row(clinical_data)\n",
    "clinical_data_unique"
   ],
   "metadata": {
    "collapsed": false,
    "ExecuteTime": {
     "end_time": "2024-01-27T00:22:54.423508350Z",
     "start_time": "2024-01-27T00:22:54.403172593Z"
    }
   }
  },
  {
   "cell_type": "markdown",
   "source": [
    "Analyze the metadata to determine data relevance and find ways to extract the clinical data.\n",
    "Reference prompt:"
   ],
   "metadata": {
    "collapsed": false,
    "ExecuteTime": {
     "end_time": "2023-12-31T03:58:04.978204446Z",
     "start_time": "2023-12-31T03:58:04.922270095Z"
    }
   },
   "outputs": [
    {
     "data": {
      "text/plain": "'As a biomedical research team, we are selecting datasets to study the association between the human trait \\'Breast Cancer\\' and genetic factors, optionally considering the influence of age and gender. After searching the GEO database and parsing the matrix file of a series, we obtained background information and sample characteristics data. We will provide textual information about the dataset background, and a Python dictionary storing a list of unique values for each field of the sample characteristics data. Please carefully review the provided information and answer the following questions about this dataset:\\n1. Does this dataset contain gene expression data? (Note: Pure miRNA data is not suitable.)\\n2. For each of the traits \\'Breast Cancer\\', \\'age\\', and \\'gender\\', please address these points:\\n   (1) Is there human data available for this trait?\\n   (2) If so, identify the key in the sample characteristics dictionary where unique values of this trait is recorded. The key is an integer. The trait information might be explicitly recorded, or can be inferred from the field with some biomedical knowledge or understanding about the data collection process.\\n   (3) Choose an appropriate data type (either \\'continuous\\' or \\'binary\\') for each trait. Write a Python function to convert any given value of the trait to this data type. The function should handle inference about the trait value and convert unknown values to None.\\n   Name the functions \\'convert_trait\\', \\'convert_age\\', and \\'convert_gender\\', respectively.\\n\\nBackground information about the dataset:\\n!Series_title\\t\"Unlocking Molecular mechanisms and identifying druggable targets in matched-paired brain metastasis of Breast and Lung cancers\\xa0\"\\n!Series_summary\\t\"Introduction: The incidence of brain metastases in cancer patients is increasing, with lung and breast cancer being the most common sources. Despite advancements in targeted therapies, the prognosis remains poor, highlighting the importance to investigate the underlying mechanisms in brain metastases. The aim of this study was to investigate the differences in the molecular mechanisms involved in brain metastasis of breast and lung cancers. In addition, we aimed to identify cancer lineage-specific druggable targets in the brain metastasis. Methods: To that aim, a cohort of 44 FFPE tissue samples, including 22 breast cancer and 22 lung adenocarcinoma (LUAD) and their matched-paired brain metastases were collected. Targeted gene expression profiles of primary tumors were compared to their matched-paired brain metastases samples using nCounter PanCancer IO 360™ Panel of NanoString technologies. Pathway analysis was performed using gene set analysis (GSA) and gene set enrichment analysis (GSEA). The validation was performed by using Immunohistochemistry (IHC) to confirm the expression of immune checkpoint inhibitors. Results: Our results revealed the significant upregulation of cancer-related genes in primary tumors compared to their matched-paired brain metastases (adj. p\\u2009≤\\u20090.05). We found that upregulated differentially expressed genes in breast cancer brain metastasis (BM-BC) and brain metastasis from lung adenocarcinoma (BM-LUAD) were associated with the metabolic stress pathway, particularly related to the glycolysis. Additionally, we found that the upregulated genes in BM-BC and BM-LUAD played roles in immune response regulation, tumor growth, and proliferation. Importantly, we identified high expression of the immune checkpoint VTCN1 in BM-BC, and VISTA, IDO1, NT5E, and HDAC3 in BM-LUAD. Validation using immunohistochemistry further supported these findings. Conclusion: In conclusion, the findings highlight the significance of using matched-paired samples to identify cancer lineage-specific therapies that may improve brain metastasis patients outcomes.\"\\n!Series_overall_design\\t\"RNA was extracted from FFPE samples of (primary LUAD and their matched paired brain metastasis n=22, primary BC and their matched paired brain metastasis n=22)\"\\n\\nSample characteristics dictionary (from \"!Sample_characteristics_ch1\", converted to a Python dictionary that stores the unique values for each field):\\n{0: [\\'age at diagnosis: 49\\', \\'age at diagnosis: 44\\', \\'age at diagnosis: 41\\', \\'age at diagnosis: 40\\', \\'age at diagnosis: 48\\', \\'age at diagnosis: 42\\', \\'age at diagnosis: 47\\', \\'age at diagnosis: 53\\', \\'age at diagnosis: 74\\', \\'age at diagnosis: 58\\', \\'age at diagnosis: 51\\', \\'age at diagnosis: 55\\', \\'age at diagnosis: 46\\', \\'age at diagnosis: 59\\', \\'age at diagnosis: 50\\', \\'age at diagnosis: 57\\', \\'age at diagnosis: 60\\', \\'age at diagnosis: 69\\', \\'age at diagnosis: n.a.\\', \\'age at diagnosis: 65\\', \\'age at diagnosis: 37\\', \\'age at diagnosis: 63\\', \\'age at diagnosis: 70\\', \\'age at diagnosis: 66\\', \\'age at diagnosis: 64\\'], 1: [\\'Sex: female\\', \\'Sex: male\\'], 2: [\\'histology: TNBC\\', \\'histology: ER+ PR+ HER2-\\', \\'histology: Unknown\\', \\'histology: ER- PR- HER2+\\', \\'histology: ER+ PR-HER2+\\', \\'histology: ER+ PR- HER2-\\', \\'histology: ER- PR+ HER2-\\', \\'histology: adenocaricnoma\\'], 3: [\\'smoking status: n.a\\', \\'smoking status: former-smoker\\', \\'smoking status: smoker\\', \\'smoking status: Never smoking\\', \\'smoking status: unknown\\', \\'smoking status: former-roker\\'], 4: [\\'treatment after surgery of bm: surgery + chemotherpy\\', \\'treatment after surgery of bm: surgery +  chemotherpy + Radiotherapy\\', \\'treatment after surgery of bm: surgery + chemotherapy + Radiotherapy\\', \\'treatment after surgery of bm: surgery\\', \\'treatment after surgery of bm: surgery +  chemotherapy + Radiotherapy\\', \\'treatment after surgery of bm: surgery + chemotherapy\\', \\'treatment after surgery of bm: surgery + chemotherpy + Radiotherapy\\', \\'treatment after surgery of bm: surgery + chemotheapy + Radiotherapy\\', \\'treatment after surgery of bm: Chemoterapy\\', \\'treatment after surgery of bm: Radiotherapy & Chemoterapy\\', \\'treatment after surgery of bm: Radiotherapy\\', \\'treatment after surgery of bm: Other\\', \\'treatment after surgery of bm: Surgery & Chemotherapy & Radiotherapy\\', \\'treatment after surgery of bm: surgery & Radiotherapy\\', \\'treatment after surgery of bm: surgery & Radiochemotherapy\\', \\'treatment after surgery of bm: No treatment\\', \\'treatment after surgery of bm: WBRT\\', \\'treatment after surgery of bm: SRT\\']}\\n'"
     },
     "execution_count": 29,
     "metadata": {},
     "output_type": "execute_result"
    }
   ],
   "execution_count": 29
  },
  {
   "cell_type": "code",
   "execution_count": 8,
   "outputs": [
    {
     "data": {
      "text/plain": "'As a biomedical research team, we are selecting datasets to study the association between the human trait \\'Multiple Endocrine Neoplasia Type 2\\' and genetic factors, optionally considering the influence of age and gender. After searching the GEO database and parsing the matrix file of a series, we obtained background information and sample characteristics data. We will provide textual information about the dataset background, and a Python dictionary storing a list of unique values for each field of the sample characteristics data. Please carefully review the provided information and answer the following questions about this dataset:\\n1. Does this dataset contain gene expression data? (Note: Pure miRNA data is not suitable.)\\n2. For each of the traits \\'Multiple Endocrine Neoplasia Type 2\\', \\'age\\', and \\'gender\\', please address these points:\\n   (1) Is there human data available for this trait?\\n   (2) If so, identify the key in the sample characteristics dictionary where unique values of this trait is recorded. The key is an integer. The trait information might be explicitly recorded, or can be inferred from the field with some biomedical knowledge or understanding about the data collection process.\\n   (3) Choose an appropriate data type (either \\'continuous\\' or \\'binary\\') for each trait. Write a Python function to convert any given value of the trait to this data type. Do remember to separate the value by colon \\':\\' first, as the row header should not be included in the returned value. The function should handle inference about the trait value and convert unknown values to None.\\n   Name the functions \\'convert_trait\\', \\'convert_age\\', and \\'convert_gender\\', respectively.\\n\\nBackground information about the dataset:\\n!Series_title\\t\"Germline Mutations in TMEM127 Confer Susceptibility to Pheochromocytoma\"\\n!Series_summary\\t\"Pheochromocytomas, catecholamine-secreting tumors of neural crest origin, are frequently hereditary. However, the molecular basis of the majority of these tumors is unknown. We identified the transmembrane-encoding gene TMEM127 on chromosome 2q11 as a new pheochromocytoma susceptibility gene. In a cohort of 103 samples, we detected truncating germline TMEM127 mutations in approximately 30% of familial tumors and about 3% of sporadic-appearing pheochromocytomas without a known genetic cause. The wild-type allele was consistently deleted in tumor DNA, suggesting a classic mechanism of tumor suppressor gene inactivation. Pheochromocytomas with mutations in TMEM127 are transcriptionally related to tumors bearing NF1 mutations and, similarly, show hyperphosphorylation of mammalian target of rapamycin (mTOR) effector proteins. Accordingly, in vitro gain-of-function and loss-of-function analyses indicate that TMEM127 is a negative regulator of mTOR. TMEM127 dynamically associates with the endomembrane system and colocalizes with perinuclear (activated) mTOR, suggesting a subcompartmental-specific effect. Our studies identify TMEM127 as a tumor suppressor gene and validate the power of hereditary tumors to elucidate cancer pathogenesis.\"\\n!Series_overall_design\\t\"We performed comparative analysis of expression profiling of 125 Pheochromocytomas and paragangliomas with a variety of mutations representatives of distinct pheochromocytoma susceptibility syndromes, sporadic tumors and familial tumors without an identifiable mutation. This dataset combines data from 75 initial tumors and 50 new tumor samples, three samples were processed in duplicate.\"\\n\\nSample characteristics dictionary (from \"!Sample_characteristics_ch1\", converted to a Python dictionary that stores the unique values for each field):\\n{0: [\\'tumor type: pheochromocytoma\\'], 1: [\\'genetic class: NF1\\', \\'genetic class: VHL\\', \\'genetic class: SPOR\\', \\'genetic class: B_SDHB\\', \\'genetic class: MEN2A\\', \\'genetic class: MEN2B\\', \\'genetic class: FP_TM\\'], 2: [\\'tumor location: unknown\\', \\'tumor location: adrenal\\', \\'tumor location: extraadrenal\\']}\\n'"
     },
     "execution_count": 8,
     "metadata": {},
     "output_type": "execute_result"
    }
   ],
   "source": [
    "f'''As a biomedical research team, we are selecting datasets to study the association between the human trait \\'{TRAIT}\\' and genetic factors, optionally considering the influence of age and gender. After searching the GEO database and parsing the matrix file of a series, we obtained background information and sample characteristics data. We will provide textual information about the dataset background, and a Python dictionary storing a list of unique values for each field of the sample characteristics data. Please carefully review the provided information and answer the following questions about this dataset:\n",
    "1. Does this dataset contain gene expression data? (Note: Pure miRNA data is not suitable.)\n",
    "2. For each of the traits \\'{TRAIT}\\', 'age', and 'gender', please address these points:\n",
    "   (1) Is there human data available for this trait?\n",
    "   (2) If so, identify the key in the sample characteristics dictionary where unique values of this trait is recorded. The key is an integer. The trait information might be explicitly recorded, or can be inferred from the field with some biomedical knowledge or understanding about the data collection process.\n",
    "   (3) Choose an appropriate data type (either 'continuous' or 'binary') for each trait. Write a Python function to convert any given value of the trait to this data type. Do remember to separate the value by colon ':' first, as the row header should not be included in the returned value. The function should handle inference about the trait value and convert unknown values to None.\n",
    "   Name the functions 'convert_trait', 'convert_age', and 'convert_gender', respectively.\n",
    "\n",
    "Background information about the dataset:\n",
    "{background_info}\n",
    "\n",
    "Sample characteristics dictionary (from \"!Sample_characteristics_ch1\", converted to a Python dictionary that stores the unique values for each field):\n",
    "{clinical_data_unique}\n",
    "'''"
   ],
   "metadata": {
    "collapsed": false,
    "ExecuteTime": {
     "end_time": "2024-01-27T00:22:54.977509349Z",
     "start_time": "2024-01-27T00:22:54.959180904Z"
    }
   }
  },
  {
   "cell_type": "markdown",
   "source": [
    "Understand and verify the answer from GPT, to assign values to the below variables. Assign None to the 'row_id' variables if relevant data row was not found.\n",
    "Later we need to let GPT format its answer to automatically do these. But given the complexity of this step, let's grow some insight from the free-text answers for now."
   ],
   "metadata": {
    "collapsed": false,
    "ExecuteTime": {
     "end_time": "2023-12-31T03:58:04.978240504Z",
     "start_time": "2023-12-31T03:58:04.922365324Z"
    }
   },
   "outputs": [],
   "execution_count": 30
  },
  {
   "cell_type": "code",
   "execution_count": 9,
   "outputs": [],
   "source": [
    "age_row = gender_row = None\n",
    "convert_age = convert_gender = None"
   ],
   "metadata": {
    "collapsed": false,
    "ExecuteTime": {
     "end_time": "2024-01-27T00:22:55.564986331Z",
     "start_time": "2024-01-27T00:22:55.544134543Z"
    }
   }
  },
  {
   "cell_type": "code",
   "execution_count": 10,
   "outputs": [],
   "source": [
    "is_gene_availabe = True\n",
    "trait_row = 1\n",
    "#age_row = 1\n",
    "#gender_row = 2\n",
    "\n",
    "trait_type = 'binary'"
   ],
   "metadata": {
    "collapsed": false,
    "ExecuteTime": {
     "end_time": "2024-01-27T00:22:55.817111059Z",
     "start_time": "2024-01-27T00:22:55.807501333Z"
    }
   }
  },
  {
   "cell_type": "code",
   "execution_count": 11,
   "outputs": [],
   "source": [
    "is_available = is_gene_availabe and (trait_row is not None)\n",
    "if not is_available:\n",
    "    save_cohort_info(cohort, JSON_PATH, is_available)\n",
    "    print(\"This cohort is not usable. Please skip the following steps and jump to the next accession number.\")"
   ],
   "metadata": {
    "collapsed": false,
    "ExecuteTime": {
     "end_time": "2024-01-27T00:22:56.437104651Z",
     "start_time": "2024-01-27T00:22:56.428100712Z"
    }
   }
  },
  {
   "cell_type": "code",
   "execution_count": 12,
   "outputs": [],
   "source": [
    "# Verify and use the functions generated by GPT\n",
    "\n",
    "def convert_trait(value: str) -> int:\n",
    "\n",
    "    \"\"\"Converts a given MEN2 trait value to a binary format.\n",
    "    Assumes the value is in the format \"genetic class: [class]\".\n",
    "    Returns 1 for MEN2A or MEN2B, 0 for other classes, and None for unknown values.\"\"\"\n",
    "\n",
    "    try:\n",
    "        # Separate the value by colon and extract the genetic class part\n",
    "        genetic_class = value.split(\":\")[1].strip()\n",
    "        return 1 if genetic_class in ['MEN2A', 'MEN2B'] else 0\n",
    "    except IndexError:\n",
    "        # Handle cases where the genetic class cannot be parsed\n",
    "        return None\n"
   ],
   "metadata": {
    "collapsed": false,
    "ExecuteTime": {
     "end_time": "2024-01-27T00:22:56.750763492Z",
     "start_time": "2024-01-27T00:22:56.742607079Z"
    }
   }
  },
  {
   "cell_type": "code",
   "execution_count": 13,
   "outputs": [
    {
     "data": {
      "text/plain": "                                     GSM499539  GSM499540  GSM499541  \\\nMultiple Endocrine Neoplasia Type 2          0          0          0   \n\n                                     GSM499542  GSM499543  GSM499544  \\\nMultiple Endocrine Neoplasia Type 2          0          0          0   \n\n                                     GSM499545  GSM499546  GSM499547  \\\nMultiple Endocrine Neoplasia Type 2          0          0          0   \n\n                                     GSM499548  ...  GSM499579  GSM499580  \\\nMultiple Endocrine Neoplasia Type 2          0  ...          0          0   \n\n                                     GSM499581  GSM499582  GSM499583  \\\nMultiple Endocrine Neoplasia Type 2          0          0          0   \n\n                                     GSM499584  GSM499585  GSM499586  \\\nMultiple Endocrine Neoplasia Type 2          0          0          0   \n\n                                     GSM499587  GSM499588  \nMultiple Endocrine Neoplasia Type 2          0          0  \n\n[1 rows x 50 columns]",
      "text/html": "<div>\n<style scoped>\n    .dataframe tbody tr th:only-of-type {\n        vertical-align: middle;\n    }\n\n    .dataframe tbody tr th {\n        vertical-align: top;\n    }\n\n    .dataframe thead th {\n        text-align: right;\n    }\n</style>\n<table border=\"1\" class=\"dataframe\">\n  <thead>\n    <tr style=\"text-align: right;\">\n      <th></th>\n      <th>GSM499539</th>\n      <th>GSM499540</th>\n      <th>GSM499541</th>\n      <th>GSM499542</th>\n      <th>GSM499543</th>\n      <th>GSM499544</th>\n      <th>GSM499545</th>\n      <th>GSM499546</th>\n      <th>GSM499547</th>\n      <th>GSM499548</th>\n      <th>...</th>\n      <th>GSM499579</th>\n      <th>GSM499580</th>\n      <th>GSM499581</th>\n      <th>GSM499582</th>\n      <th>GSM499583</th>\n      <th>GSM499584</th>\n      <th>GSM499585</th>\n      <th>GSM499586</th>\n      <th>GSM499587</th>\n      <th>GSM499588</th>\n    </tr>\n  </thead>\n  <tbody>\n    <tr>\n      <th>Multiple Endocrine Neoplasia Type 2</th>\n      <td>0</td>\n      <td>0</td>\n      <td>0</td>\n      <td>0</td>\n      <td>0</td>\n      <td>0</td>\n      <td>0</td>\n      <td>0</td>\n      <td>0</td>\n      <td>0</td>\n      <td>...</td>\n      <td>0</td>\n      <td>0</td>\n      <td>0</td>\n      <td>0</td>\n      <td>0</td>\n      <td>0</td>\n      <td>0</td>\n      <td>0</td>\n      <td>0</td>\n      <td>0</td>\n    </tr>\n  </tbody>\n</table>\n<p>1 rows × 50 columns</p>\n</div>"
     },
     "execution_count": 13,
     "metadata": {},
     "output_type": "execute_result"
    }
   ],
   "source": [
    "selected_clinical_data = geo_select_clinical_features(clinical_data, TRAIT, trait_row, convert_trait, age_row=age_row,\n",
    "                                                      convert_age=convert_age, gender_row=gender_row,\n",
    "                                                      convert_gender=convert_gender)\n",
    "selected_clinical_data.head()"
   ],
   "metadata": {
    "collapsed": false,
    "ExecuteTime": {
     "end_time": "2024-01-27T00:22:57.254265197Z",
     "start_time": "2024-01-27T00:22:57.244497727Z"
    }
   }
  },
  {
   "cell_type": "markdown",
   "source": [
    "### Genetic data preprocessing and final filtering"
   ],
   "metadata": {
    "collapsed": false,
    "ExecuteTime": {
     "end_time": "2023-12-31T03:58:04.978664193Z",
     "start_time": "2023-12-31T03:58:04.966117261Z"
    }
   },
   "outputs": [
    {
     "data": {
      "text/plain": "       ID  GSM7920782  GSM7920783  GSM7920784  GSM7920785  GSM7920786  \\\n0     A2M   13.210102   13.237969   14.728878   15.399663   12.970464   \n1  ACVR1C    5.128485    5.336850    5.611523    5.041711    6.342262   \n2  ADAM12    9.806557   12.374397    9.953351    8.507092   11.402156   \n3  ADGRE1    4.128485    3.751888    4.611523    4.582279    3.771514   \n4     ADM   10.953762   10.544678    8.155844    9.333824    8.438938   \n\n   GSM7920787  GSM7920788  GSM7920789  GSM7920790  ...  GSM7920816  \\\n0   13.014807   12.521967   13.055481   13.219538  ...   12.635802   \n1    5.005301    4.148600    5.665523    5.548821  ...    5.756039   \n2   10.739489    9.114680   11.095729    8.762302  ...    8.280338   \n3    4.420338    2.863198    4.800452    3.860765  ...    2.806079   \n4    9.446117    8.285262    8.551518    9.567357  ...   11.577869   \n\n   GSM7920817  GSM7920818  GSM7920819  GSM7920820  GSM7920821  GSM7920822  \\\n0   12.487090   11.743261   13.219376   12.499513   11.719452   12.509194   \n1    6.795792    6.873777    6.848304    5.106051    6.790117    3.936121   \n2    6.973884    7.113936    8.036966    8.398832    5.346283    9.429915   \n3    5.926579    2.066422    6.447342    4.286623    3.665105    3.415288   \n4   11.051458    7.742883    9.596892    6.993576    8.531638    8.579977   \n\n   GSM7920823  GSM7920824  GSM7920825  \n0   11.682523   10.885632   11.277235  \n1    2.998025    6.339292    4.463217  \n2    7.863096   10.774084    4.708329  \n3    1.190670    2.251830   -0.291671  \n4    8.150672    9.623969    7.790478  \n\n[5 rows x 45 columns]",
      "text/html": "<div>\n<style scoped>\n    .dataframe tbody tr th:only-of-type {\n        vertical-align: middle;\n    }\n\n    .dataframe tbody tr th {\n        vertical-align: top;\n    }\n\n    .dataframe thead th {\n        text-align: right;\n    }\n</style>\n<table border=\"1\" class=\"dataframe\">\n  <thead>\n    <tr style=\"text-align: right;\">\n      <th></th>\n      <th>ID</th>\n      <th>GSM7920782</th>\n      <th>GSM7920783</th>\n      <th>GSM7920784</th>\n      <th>GSM7920785</th>\n      <th>GSM7920786</th>\n      <th>GSM7920787</th>\n      <th>GSM7920788</th>\n      <th>GSM7920789</th>\n      <th>GSM7920790</th>\n      <th>...</th>\n      <th>GSM7920816</th>\n      <th>GSM7920817</th>\n      <th>GSM7920818</th>\n      <th>GSM7920819</th>\n      <th>GSM7920820</th>\n      <th>GSM7920821</th>\n      <th>GSM7920822</th>\n      <th>GSM7920823</th>\n      <th>GSM7920824</th>\n      <th>GSM7920825</th>\n    </tr>\n  </thead>\n  <tbody>\n    <tr>\n      <th>0</th>\n      <td>A2M</td>\n      <td>13.210102</td>\n      <td>13.237969</td>\n      <td>14.728878</td>\n      <td>15.399663</td>\n      <td>12.970464</td>\n      <td>13.014807</td>\n      <td>12.521967</td>\n      <td>13.055481</td>\n      <td>13.219538</td>\n      <td>...</td>\n      <td>12.635802</td>\n      <td>12.487090</td>\n      <td>11.743261</td>\n      <td>13.219376</td>\n      <td>12.499513</td>\n      <td>11.719452</td>\n      <td>12.509194</td>\n      <td>11.682523</td>\n      <td>10.885632</td>\n      <td>11.277235</td>\n    </tr>\n    <tr>\n      <th>1</th>\n      <td>ACVR1C</td>\n      <td>5.128485</td>\n      <td>5.336850</td>\n      <td>5.611523</td>\n      <td>5.041711</td>\n      <td>6.342262</td>\n      <td>5.005301</td>\n      <td>4.148600</td>\n      <td>5.665523</td>\n      <td>5.548821</td>\n      <td>...</td>\n      <td>5.756039</td>\n      <td>6.795792</td>\n      <td>6.873777</td>\n      <td>6.848304</td>\n      <td>5.106051</td>\n      <td>6.790117</td>\n      <td>3.936121</td>\n      <td>2.998025</td>\n      <td>6.339292</td>\n      <td>4.463217</td>\n    </tr>\n    <tr>\n      <th>2</th>\n      <td>ADAM12</td>\n      <td>9.806557</td>\n      <td>12.374397</td>\n      <td>9.953351</td>\n      <td>8.507092</td>\n      <td>11.402156</td>\n      <td>10.739489</td>\n      <td>9.114680</td>\n      <td>11.095729</td>\n      <td>8.762302</td>\n      <td>...</td>\n      <td>8.280338</td>\n      <td>6.973884</td>\n      <td>7.113936</td>\n      <td>8.036966</td>\n      <td>8.398832</td>\n      <td>5.346283</td>\n      <td>9.429915</td>\n      <td>7.863096</td>\n      <td>10.774084</td>\n      <td>4.708329</td>\n    </tr>\n    <tr>\n      <th>3</th>\n      <td>ADGRE1</td>\n      <td>4.128485</td>\n      <td>3.751888</td>\n      <td>4.611523</td>\n      <td>4.582279</td>\n      <td>3.771514</td>\n      <td>4.420338</td>\n      <td>2.863198</td>\n      <td>4.800452</td>\n      <td>3.860765</td>\n      <td>...</td>\n      <td>2.806079</td>\n      <td>5.926579</td>\n      <td>2.066422</td>\n      <td>6.447342</td>\n      <td>4.286623</td>\n      <td>3.665105</td>\n      <td>3.415288</td>\n      <td>1.190670</td>\n      <td>2.251830</td>\n      <td>-0.291671</td>\n    </tr>\n    <tr>\n      <th>4</th>\n      <td>ADM</td>\n      <td>10.953762</td>\n      <td>10.544678</td>\n      <td>8.155844</td>\n      <td>9.333824</td>\n      <td>8.438938</td>\n      <td>9.446117</td>\n      <td>8.285262</td>\n      <td>8.551518</td>\n      <td>9.567357</td>\n      <td>...</td>\n      <td>11.577869</td>\n      <td>11.051458</td>\n      <td>7.742883</td>\n      <td>9.596892</td>\n      <td>6.993576</td>\n      <td>8.531638</td>\n      <td>8.579977</td>\n      <td>8.150672</td>\n      <td>9.623969</td>\n      <td>7.790478</td>\n    </tr>\n  </tbody>\n</table>\n<p>5 rows × 45 columns</p>\n</div>"
     },
     "execution_count": 34,
     "metadata": {},
     "output_type": "execute_result"
    }
   ],
   "execution_count": 34
  },
  {
   "cell_type": "code",
   "execution_count": 14,
   "outputs": [
    {
     "data": {
      "text/plain": "           GSM499539  GSM499540  GSM499541  GSM499542  GSM499543  GSM499544  \\\nID                                                                            \n1007_s_at    91.4244    26.1889    77.6878    53.7060    78.0359   175.5990   \n1053_at      28.3062    38.1084    28.4181    33.0537    34.6472    34.7899   \n117_at       28.8271    56.4207    32.7921    26.4964    46.3320   297.5880   \n121_at       89.7293   158.0570    98.9304   110.6610   139.8810   122.4540   \n1255_g_at    19.4840    29.4318    19.4320    22.4218    23.1822    15.5920   \n\n           GSM499545  GSM499546  GSM499547  GSM499548  ...  GSM499579  \\\nID                                                     ...              \n1007_s_at   60.35620    73.2733   166.8090    64.8903  ...   420.3310   \n1053_at     29.56350    17.7059    28.2164    29.7934  ...    88.5949   \n117_at      32.02680   208.1110    32.5678    46.1991  ...   104.1940   \n121_at     141.95400   127.4710   130.7960   117.5070  ...   362.9900   \n1255_g_at    8.18106    25.0809    17.5423    16.0541  ...    42.2602   \n\n           GSM499580  GSM499581  GSM499582  GSM499583  GSM499584  GSM499585  \\\nID                                                                            \n1007_s_at   502.8970   391.8470   782.8080   586.5700   337.0960   432.4340   \n1053_at      75.9089    83.4956   136.9560   106.4710    71.9423    72.1618   \n117_at       87.7868   100.5650   142.5530   100.9650    80.7876   318.4840   \n121_at      426.3530   496.3860   776.8020   610.2740   327.1770   305.9890   \n1255_g_at    46.8180    31.6632    55.9251    48.0767    37.2250    37.3452   \n\n           GSM499586  GSM499587  GSM499588  \nID                                          \n1007_s_at   434.7950   424.2240   626.1600  \n1053_at      81.3452    94.9625    96.4993  \n117_at       91.7262    96.7181   103.3320  \n121_at      402.2010   479.2100   605.8780  \n1255_g_at    36.9560    40.2922    39.2037  \n\n[5 rows x 50 columns]",
      "text/html": "<div>\n<style scoped>\n    .dataframe tbody tr th:only-of-type {\n        vertical-align: middle;\n    }\n\n    .dataframe tbody tr th {\n        vertical-align: top;\n    }\n\n    .dataframe thead th {\n        text-align: right;\n    }\n</style>\n<table border=\"1\" class=\"dataframe\">\n  <thead>\n    <tr style=\"text-align: right;\">\n      <th></th>\n      <th>GSM499539</th>\n      <th>GSM499540</th>\n      <th>GSM499541</th>\n      <th>GSM499542</th>\n      <th>GSM499543</th>\n      <th>GSM499544</th>\n      <th>GSM499545</th>\n      <th>GSM499546</th>\n      <th>GSM499547</th>\n      <th>GSM499548</th>\n      <th>...</th>\n      <th>GSM499579</th>\n      <th>GSM499580</th>\n      <th>GSM499581</th>\n      <th>GSM499582</th>\n      <th>GSM499583</th>\n      <th>GSM499584</th>\n      <th>GSM499585</th>\n      <th>GSM499586</th>\n      <th>GSM499587</th>\n      <th>GSM499588</th>\n    </tr>\n    <tr>\n      <th>ID</th>\n      <th></th>\n      <th></th>\n      <th></th>\n      <th></th>\n      <th></th>\n      <th></th>\n      <th></th>\n      <th></th>\n      <th></th>\n      <th></th>\n      <th></th>\n      <th></th>\n      <th></th>\n      <th></th>\n      <th></th>\n      <th></th>\n      <th></th>\n      <th></th>\n      <th></th>\n      <th></th>\n      <th></th>\n    </tr>\n  </thead>\n  <tbody>\n    <tr>\n      <th>1007_s_at</th>\n      <td>91.4244</td>\n      <td>26.1889</td>\n      <td>77.6878</td>\n      <td>53.7060</td>\n      <td>78.0359</td>\n      <td>175.5990</td>\n      <td>60.35620</td>\n      <td>73.2733</td>\n      <td>166.8090</td>\n      <td>64.8903</td>\n      <td>...</td>\n      <td>420.3310</td>\n      <td>502.8970</td>\n      <td>391.8470</td>\n      <td>782.8080</td>\n      <td>586.5700</td>\n      <td>337.0960</td>\n      <td>432.4340</td>\n      <td>434.7950</td>\n      <td>424.2240</td>\n      <td>626.1600</td>\n    </tr>\n    <tr>\n      <th>1053_at</th>\n      <td>28.3062</td>\n      <td>38.1084</td>\n      <td>28.4181</td>\n      <td>33.0537</td>\n      <td>34.6472</td>\n      <td>34.7899</td>\n      <td>29.56350</td>\n      <td>17.7059</td>\n      <td>28.2164</td>\n      <td>29.7934</td>\n      <td>...</td>\n      <td>88.5949</td>\n      <td>75.9089</td>\n      <td>83.4956</td>\n      <td>136.9560</td>\n      <td>106.4710</td>\n      <td>71.9423</td>\n      <td>72.1618</td>\n      <td>81.3452</td>\n      <td>94.9625</td>\n      <td>96.4993</td>\n    </tr>\n    <tr>\n      <th>117_at</th>\n      <td>28.8271</td>\n      <td>56.4207</td>\n      <td>32.7921</td>\n      <td>26.4964</td>\n      <td>46.3320</td>\n      <td>297.5880</td>\n      <td>32.02680</td>\n      <td>208.1110</td>\n      <td>32.5678</td>\n      <td>46.1991</td>\n      <td>...</td>\n      <td>104.1940</td>\n      <td>87.7868</td>\n      <td>100.5650</td>\n      <td>142.5530</td>\n      <td>100.9650</td>\n      <td>80.7876</td>\n      <td>318.4840</td>\n      <td>91.7262</td>\n      <td>96.7181</td>\n      <td>103.3320</td>\n    </tr>\n    <tr>\n      <th>121_at</th>\n      <td>89.7293</td>\n      <td>158.0570</td>\n      <td>98.9304</td>\n      <td>110.6610</td>\n      <td>139.8810</td>\n      <td>122.4540</td>\n      <td>141.95400</td>\n      <td>127.4710</td>\n      <td>130.7960</td>\n      <td>117.5070</td>\n      <td>...</td>\n      <td>362.9900</td>\n      <td>426.3530</td>\n      <td>496.3860</td>\n      <td>776.8020</td>\n      <td>610.2740</td>\n      <td>327.1770</td>\n      <td>305.9890</td>\n      <td>402.2010</td>\n      <td>479.2100</td>\n      <td>605.8780</td>\n    </tr>\n    <tr>\n      <th>1255_g_at</th>\n      <td>19.4840</td>\n      <td>29.4318</td>\n      <td>19.4320</td>\n      <td>22.4218</td>\n      <td>23.1822</td>\n      <td>15.5920</td>\n      <td>8.18106</td>\n      <td>25.0809</td>\n      <td>17.5423</td>\n      <td>16.0541</td>\n      <td>...</td>\n      <td>42.2602</td>\n      <td>46.8180</td>\n      <td>31.6632</td>\n      <td>55.9251</td>\n      <td>48.0767</td>\n      <td>37.2250</td>\n      <td>37.3452</td>\n      <td>36.9560</td>\n      <td>40.2922</td>\n      <td>39.2037</td>\n    </tr>\n  </tbody>\n</table>\n<p>5 rows × 50 columns</p>\n</div>"
     },
     "execution_count": 14,
     "metadata": {},
     "output_type": "execute_result"
    }
   ],
   "source": [
    "genetic_data = get_genetic_data(matrix_file)\n",
    "genetic_data.head()"
   ],
   "metadata": {
    "collapsed": false,
    "ExecuteTime": {
     "end_time": "2024-01-27T00:22:59.266819031Z",
     "start_time": "2024-01-27T00:22:59.142695846Z"
    }
   }
  },
  {
   "cell_type": "code",
   "execution_count": 15,
   "outputs": [
    {
     "data": {
      "text/plain": "['1007_s_at',\n '1053_at',\n '117_at',\n '121_at',\n '1255_g_at',\n '1294_at',\n '1316_at',\n '1320_at',\n '1405_i_at',\n '1431_at',\n '1438_at',\n '1487_at',\n '1494_f_at',\n '1598_g_at',\n '160020_at',\n '1729_at',\n '1773_at',\n '177_at',\n '179_at',\n '1861_at']"
     },
     "execution_count": 15,
     "metadata": {},
     "output_type": "execute_result"
    }
   ],
   "source": [
    "gene_row_ids = genetic_data.index[:20].tolist()\n",
    "gene_row_ids"
   ],
   "metadata": {
    "collapsed": false,
    "ExecuteTime": {
     "end_time": "2024-01-27T00:22:59.650905443Z",
     "start_time": "2024-01-27T00:22:59.552340564Z"
    }
   }
  },
  {
   "cell_type": "markdown",
   "source": [
    "Check if the gene dataset requires mapping to get the gene symbols corresponding to each data row."
   ],
   "metadata": {
    "collapsed": false,
    "ExecuteTime": {
     "end_time": "2023-12-31T03:30:41.595335164Z",
     "start_time": "2023-12-31T03:30:41.513232329Z"
    }
   },
   "outputs": [],
   "execution_count": 61
  },
  {
   "cell_type": "markdown",
   "source": [
    "Reference prompt:"
   ],
   "metadata": {
    "collapsed": false
   }
  },
  {
   "cell_type": "code",
   "execution_count": 16,
   "outputs": [
    {
     "data": {
      "text/plain": "\"\\nBelow are the row headers of a gene expression dataset in GEO. Based on your biomedical knowledge, are they human gene symbols, or are they some other identifiers that need to be mapped to gene symbols? Your answer should be concluded by starting a new line and strictly following this format:\\nrequires_gene_mapping = (True or False)\\n\\nRow headers:\\n['1007_s_at', '1053_at', '117_at', '121_at', '1255_g_at', '1294_at', '1316_at', '1320_at', '1405_i_at', '1431_at', '1438_at', '1487_at', '1494_f_at', '1598_g_at', '160020_at', '1729_at', '1773_at', '177_at', '179_at', '1861_at']\\n\""
     },
     "execution_count": 16,
     "metadata": {},
     "output_type": "execute_result"
    }
   ],
   "source": [
    "f'''\n",
    "Below are the row headers of a gene expression dataset in GEO. Based on your biomedical knowledge, are they human gene symbols, or are they some other identifiers that need to be mapped to gene symbols? Your answer should be concluded by starting a new line and strictly following this format:\n",
    "requires_gene_mapping = (True or False)\n",
    "\n",
    "Row headers:\n",
    "{gene_row_ids}\n",
    "'''"
   ],
   "metadata": {
    "collapsed": false,
    "ExecuteTime": {
     "end_time": "2024-01-27T00:23:02.093554533Z",
     "start_time": "2024-01-27T00:23:02.071415557Z"
    }
   }
  },
  {
   "cell_type": "markdown",
   "source": [
    "\n",
    "If not required, jump directly to the gene normalization step"
   ],
   "metadata": {
    "collapsed": false
   }
  },
  {
   "cell_type": "code",
   "execution_count": 17,
   "outputs": [],
   "source": [
    "requires_gene_mapping = True"
   ],
   "metadata": {
    "collapsed": false,
    "ExecuteTime": {
     "end_time": "2024-01-27T00:23:05.218800758Z",
     "start_time": "2024-01-27T00:23:05.208364132Z"
    }
   }
  },
  {
   "cell_type": "code",
   "execution_count": 18,
   "outputs": [
    {
     "name": "stdout",
     "output_type": "stream",
     "text": [
      "{'ID': ['1007_s_at', '1053_at', '117_at', '121_at', '1255_g_at'], 'GB_ACC': ['U48705', 'M87338', 'X51757', 'X69699', 'L36861'], 'SPOT_ID': [nan, nan, nan, nan, nan], 'Species Scientific Name': ['Homo sapiens', 'Homo sapiens', 'Homo sapiens', 'Homo sapiens', 'Homo sapiens'], 'Annotation Date': ['Oct 6, 2014', 'Oct 6, 2014', 'Oct 6, 2014', 'Oct 6, 2014', 'Oct 6, 2014'], 'Sequence Type': ['Exemplar sequence', 'Exemplar sequence', 'Exemplar sequence', 'Exemplar sequence', 'Exemplar sequence'], 'Sequence Source': ['Affymetrix Proprietary Database', 'GenBank', 'Affymetrix Proprietary Database', 'GenBank', 'Affymetrix Proprietary Database'], 'Target Description': ['U48705 /FEATURE=mRNA /DEFINITION=HSU48705 Human receptor tyrosine kinase DDR gene, complete cds', 'M87338 /FEATURE= /DEFINITION=HUMA1SBU Human replication factor C, 40-kDa subunit (A1) mRNA, complete cds', \"X51757 /FEATURE=cds /DEFINITION=HSP70B Human heat-shock protein HSP70B' gene\", 'X69699 /FEATURE= /DEFINITION=HSPAX8A H.sapiens Pax8 mRNA', 'L36861 /FEATURE=expanded_cds /DEFINITION=HUMGCAPB Homo sapiens guanylate cyclase activating protein (GCAP) gene exons 1-4, complete cds'], 'Representative Public ID': ['U48705', 'M87338', 'X51757', 'X69699', 'L36861'], 'Gene Title': ['discoidin domain receptor tyrosine kinase 1 /// microRNA 4640', 'replication factor C (activator 1) 2, 40kDa', \"heat shock 70kDa protein 6 (HSP70B')\", 'paired box 8', 'guanylate cyclase activator 1A (retina)'], 'Gene Symbol': ['DDR1 /// MIR4640', 'RFC2', 'HSPA6', 'PAX8', 'GUCA1A'], 'ENTREZ_GENE_ID': ['780 /// 100616237', '5982', '3310', '7849', '2978'], 'RefSeq Transcript ID': ['NM_001202521 /// NM_001202522 /// NM_001202523 /// NM_001954 /// NM_013993 /// NM_013994 /// NR_039783 /// XM_005249385 /// XM_005249386 /// XM_005249387 /// XM_005249389 /// XM_005272873 /// XM_005272874 /// XM_005272875 /// XM_005272877 /// XM_005275027 /// XM_005275028 /// XM_005275030 /// XM_005275031 /// XM_005275162 /// XM_005275163 /// XM_005275164 /// XM_005275166 /// XM_005275457 /// XM_005275458 /// XM_005275459 /// XM_005275461 /// XM_006715185 /// XM_006715186 /// XM_006715187 /// XM_006715188 /// XM_006715189 /// XM_006715190 /// XM_006725501 /// XM_006725502 /// XM_006725503 /// XM_006725504 /// XM_006725505 /// XM_006725506 /// XM_006725714 /// XM_006725715 /// XM_006725716 /// XM_006725717 /// XM_006725718 /// XM_006725719 /// XM_006725720 /// XM_006725721 /// XM_006725722 /// XM_006725827 /// XM_006725828 /// XM_006725829 /// XM_006725830 /// XM_006725831 /// XM_006725832 /// XM_006726017 /// XM_006726018 /// XM_006726019 /// XM_006726020 /// XM_006726021 /// XM_006726022 /// XR_427836 /// XR_430858 /// XR_430938 /// XR_430974 /// XR_431015', 'NM_001278791 /// NM_001278792 /// NM_001278793 /// NM_002914 /// NM_181471 /// XM_006716080', 'NM_002155', 'NM_003466 /// NM_013951 /// NM_013952 /// NM_013953 /// NM_013992', 'NM_000409 /// XM_006715073'], 'Gene Ontology Biological Process': ['0001558 // regulation of cell growth // inferred from electronic annotation /// 0001952 // regulation of cell-matrix adhesion // inferred from electronic annotation /// 0006468 // protein phosphorylation // inferred from electronic annotation /// 0007155 // cell adhesion // traceable author statement /// 0007169 // transmembrane receptor protein tyrosine kinase signaling pathway // inferred from electronic annotation /// 0007565 // female pregnancy // inferred from electronic annotation /// 0007566 // embryo implantation // inferred from electronic annotation /// 0007595 // lactation // inferred from electronic annotation /// 0008285 // negative regulation of cell proliferation // inferred from electronic annotation /// 0010715 // regulation of extracellular matrix disassembly // inferred from mutant phenotype /// 0014909 // smooth muscle cell migration // inferred from mutant phenotype /// 0016310 // phosphorylation // inferred from electronic annotation /// 0018108 // peptidyl-tyrosine phosphorylation // inferred from electronic annotation /// 0030198 // extracellular matrix organization // traceable author statement /// 0038063 // collagen-activated tyrosine kinase receptor signaling pathway // inferred from direct assay /// 0038063 // collagen-activated tyrosine kinase receptor signaling pathway // inferred from mutant phenotype /// 0038083 // peptidyl-tyrosine autophosphorylation // inferred from direct assay /// 0043583 // ear development // inferred from electronic annotation /// 0044319 // wound healing, spreading of cells // inferred from mutant phenotype /// 0046777 // protein autophosphorylation // inferred from direct assay /// 0060444 // branching involved in mammary gland duct morphogenesis // inferred from electronic annotation /// 0060749 // mammary gland alveolus development // inferred from electronic annotation /// 0061302 // smooth muscle cell-matrix adhesion // inferred from mutant phenotype', '0000278 // mitotic cell cycle // traceable author statement /// 0000722 // telomere maintenance via recombination // traceable author statement /// 0000723 // telomere maintenance // traceable author statement /// 0006260 // DNA replication // traceable author statement /// 0006271 // DNA strand elongation involved in DNA replication // traceable author statement /// 0006281 // DNA repair // traceable author statement /// 0006283 // transcription-coupled nucleotide-excision repair // traceable author statement /// 0006289 // nucleotide-excision repair // traceable author statement /// 0006297 // nucleotide-excision repair, DNA gap filling // traceable author statement /// 0015979 // photosynthesis // inferred from electronic annotation /// 0015995 // chlorophyll biosynthetic process // inferred from electronic annotation /// 0032201 // telomere maintenance via semi-conservative replication // traceable author statement', '0000902 // cell morphogenesis // inferred from electronic annotation /// 0006200 // ATP catabolic process // inferred from direct assay /// 0006950 // response to stress // inferred from electronic annotation /// 0006986 // response to unfolded protein // traceable author statement /// 0034605 // cellular response to heat // inferred from direct assay /// 0042026 // protein refolding // inferred from direct assay /// 0070370 // cellular heat acclimation // inferred from mutant phenotype', '0001655 // urogenital system development // inferred from sequence or structural similarity /// 0001656 // metanephros development // inferred from electronic annotation /// 0001658 // branching involved in ureteric bud morphogenesis // inferred from expression pattern /// 0001822 // kidney development // inferred from expression pattern /// 0001823 // mesonephros development // inferred from sequence or structural similarity /// 0003337 // mesenchymal to epithelial transition involved in metanephros morphogenesis // inferred from expression pattern /// 0006351 // transcription, DNA-templated // inferred from direct assay /// 0006355 // regulation of transcription, DNA-templated // inferred from electronic annotation /// 0007275 // multicellular organismal development // inferred from electronic annotation /// 0007417 // central nervous system development // inferred from expression pattern /// 0009653 // anatomical structure morphogenesis // traceable author statement /// 0030154 // cell differentiation // inferred from electronic annotation /// 0030878 // thyroid gland development // inferred from expression pattern /// 0030878 // thyroid gland development // inferred from mutant phenotype /// 0038194 // thyroid-stimulating hormone signaling pathway // traceable author statement /// 0039003 // pronephric field specification // inferred from sequence or structural similarity /// 0042472 // inner ear morphogenesis // inferred from sequence or structural similarity /// 0042981 // regulation of apoptotic process // inferred from sequence or structural similarity /// 0045893 // positive regulation of transcription, DNA-templated // inferred from direct assay /// 0045893 // positive regulation of transcription, DNA-templated // inferred from sequence or structural similarity /// 0045944 // positive regulation of transcription from RNA polymerase II promoter // inferred from direct assay /// 0048793 // pronephros development // inferred from sequence or structural similarity /// 0071371 // cellular response to gonadotropin stimulus // inferred from direct assay /// 0071599 // otic vesicle development // inferred from expression pattern /// 0072050 // S-shaped body morphogenesis // inferred from electronic annotation /// 0072073 // kidney epithelium development // inferred from electronic annotation /// 0072108 // positive regulation of mesenchymal to epithelial transition involved in metanephros morphogenesis // inferred from sequence or structural similarity /// 0072164 // mesonephric tubule development // inferred from electronic annotation /// 0072207 // metanephric epithelium development // inferred from expression pattern /// 0072221 // metanephric distal convoluted tubule development // inferred from sequence or structural similarity /// 0072278 // metanephric comma-shaped body morphogenesis // inferred from expression pattern /// 0072284 // metanephric S-shaped body morphogenesis // inferred from expression pattern /// 0072289 // metanephric nephron tubule formation // inferred from sequence or structural similarity /// 0072305 // negative regulation of mesenchymal cell apoptotic process involved in metanephric nephron morphogenesis // inferred from sequence or structural similarity /// 0072307 // regulation of metanephric nephron tubule epithelial cell differentiation // inferred from sequence or structural similarity /// 0090190 // positive regulation of branching involved in ureteric bud morphogenesis // inferred from sequence or structural similarity /// 1900212 // negative regulation of mesenchymal cell apoptotic process involved in metanephros development // inferred from sequence or structural similarity /// 1900215 // negative regulation of apoptotic process involved in metanephric collecting duct development // inferred from sequence or structural similarity /// 1900218 // negative regulation of apoptotic process involved in metanephric nephron tubule development // inferred from sequence or structural similarity /// 2000594 // positive regulation of metanephric DCT cell differentiation // inferred from sequence or structural similarity /// 2000611 // positive regulation of thyroid hormone generation // inferred from mutant phenotype /// 2000612 // regulation of thyroid-stimulating hormone secretion // inferred from mutant phenotype', '0007165 // signal transduction // non-traceable author statement /// 0007601 // visual perception // inferred from electronic annotation /// 0007602 // phototransduction // inferred from electronic annotation /// 0007603 // phototransduction, visible light // traceable author statement /// 0016056 // rhodopsin mediated signaling pathway // traceable author statement /// 0022400 // regulation of rhodopsin mediated signaling pathway // traceable author statement /// 0030828 // positive regulation of cGMP biosynthetic process // inferred from electronic annotation /// 0031282 // regulation of guanylate cyclase activity // inferred from electronic annotation /// 0031284 // positive regulation of guanylate cyclase activity // inferred from electronic annotation /// 0050896 // response to stimulus // inferred from electronic annotation'], 'Gene Ontology Cellular Component': ['0005576 // extracellular region // inferred from electronic annotation /// 0005615 // extracellular space // inferred from direct assay /// 0005886 // plasma membrane // traceable author statement /// 0005887 // integral component of plasma membrane // traceable author statement /// 0016020 // membrane // inferred from electronic annotation /// 0016021 // integral component of membrane // inferred from electronic annotation /// 0043235 // receptor complex // inferred from direct assay /// 0070062 // extracellular vesicular exosome // inferred from direct assay', '0005634 // nucleus // inferred from electronic annotation /// 0005654 // nucleoplasm // traceable author statement /// 0005663 // DNA replication factor C complex // inferred from direct assay', '0005737 // cytoplasm // inferred from direct assay /// 0005814 // centriole // inferred from direct assay /// 0005829 // cytosol // inferred from direct assay /// 0008180 // COP9 signalosome // inferred from direct assay /// 0070062 // extracellular vesicular exosome // inferred from direct assay /// 0072562 // blood microparticle // inferred from direct assay', '0005634 // nucleus // inferred from direct assay /// 0005654 // nucleoplasm // inferred from sequence or structural similarity /// 0005730 // nucleolus // inferred from direct assay', '0001750 // photoreceptor outer segment // inferred from electronic annotation /// 0001917 // photoreceptor inner segment // inferred from electronic annotation /// 0005578 // proteinaceous extracellular matrix // inferred from electronic annotation /// 0005886 // plasma membrane // inferred from direct assay /// 0016020 // membrane // inferred from electronic annotation /// 0097381 // photoreceptor disc membrane // traceable author statement'], 'Gene Ontology Molecular Function': ['0000166 // nucleotide binding // inferred from electronic annotation /// 0004672 // protein kinase activity // inferred from electronic annotation /// 0004713 // protein tyrosine kinase activity // inferred from electronic annotation /// 0004714 // transmembrane receptor protein tyrosine kinase activity // traceable author statement /// 0005515 // protein binding // inferred from physical interaction /// 0005518 // collagen binding // inferred from direct assay /// 0005518 // collagen binding // inferred from mutant phenotype /// 0005524 // ATP binding // inferred from electronic annotation /// 0016301 // kinase activity // inferred from electronic annotation /// 0016740 // transferase activity // inferred from electronic annotation /// 0016772 // transferase activity, transferring phosphorus-containing groups // inferred from electronic annotation /// 0038062 // protein tyrosine kinase collagen receptor activity // inferred from direct assay /// 0046872 // metal ion binding // inferred from electronic annotation', '0000166 // nucleotide binding // inferred from electronic annotation /// 0003677 // DNA binding // inferred from electronic annotation /// 0005515 // protein binding // inferred from physical interaction /// 0005524 // ATP binding // inferred from electronic annotation /// 0016851 // magnesium chelatase activity // inferred from electronic annotation /// 0017111 // nucleoside-triphosphatase activity // inferred from electronic annotation', '0000166 // nucleotide binding // inferred from electronic annotation /// 0005524 // ATP binding // inferred from electronic annotation /// 0019899 // enzyme binding // inferred from physical interaction /// 0031072 // heat shock protein binding // inferred from physical interaction /// 0042623 // ATPase activity, coupled // inferred from direct assay /// 0051082 // unfolded protein binding // inferred from direct assay', '0000979 // RNA polymerase II core promoter sequence-specific DNA binding // inferred from direct assay /// 0003677 // DNA binding // inferred from direct assay /// 0003677 // DNA binding // inferred from mutant phenotype /// 0003700 // sequence-specific DNA binding transcription factor activity // inferred from direct assay /// 0004996 // thyroid-stimulating hormone receptor activity // traceable author statement /// 0005515 // protein binding // inferred from physical interaction /// 0044212 // transcription regulatory region DNA binding // inferred from direct assay', '0005509 // calcium ion binding // inferred from electronic annotation /// 0008048 // calcium sensitive guanylate cyclase activator activity // inferred from electronic annotation /// 0030249 // guanylate cyclase regulator activity // inferred from electronic annotation /// 0046872 // metal ion binding // inferred from electronic annotation']}\n"
     ]
    }
   ],
   "source": [
    "if requires_gene_mapping:\n",
    "    gene_annotation = get_gene_annotation(soft_file)\n",
    "    gene_annotation_summary = preview_df(gene_annotation)\n",
    "    print(gene_annotation_summary)"
   ],
   "metadata": {
    "collapsed": false,
    "ExecuteTime": {
     "end_time": "2024-01-27T00:23:10.420335247Z",
     "start_time": "2024-01-27T00:23:05.460568606Z"
    }
   }
  },
  {
   "cell_type": "markdown",
   "source": [
    "Observe the first few cells in the ID column of the gene annotation dataframe, to find the names of columns that store the gene probe IDs and gene symbols respectively.\n",
    "Reference prompt:"
   ],
   "metadata": {
    "collapsed": false,
    "ExecuteTime": {
     "end_time": "2023-12-31T03:58:04.978931927Z",
     "start_time": "2023-12-31T03:58:04.966328339Z"
    }
   },
   "outputs": [],
   "execution_count": 39
  },
  {
   "cell_type": "code",
   "execution_count": 19,
   "outputs": [
    {
     "name": "stdout",
     "output_type": "stream",
     "text": [
      "\n",
      "    As a biomedical research team, we are analyzing a gene expression dataset, and find that its row headers are some identifiers related to genes:\n",
      "    ['1007_s_at', '1053_at', '117_at', '121_at', '1255_g_at', '1294_at', '1316_at', '1320_at', '1405_i_at', '1431_at', '1438_at', '1487_at', '1494_f_at', '1598_g_at', '160020_at', '1729_at', '1773_at', '177_at', '179_at', '1861_at']\n",
      "    To get the mapping from those identifiers to actual gene symbols, we extracted the gene annotation data from a series in the GEO database, and saved it to a Python dictionary. Please read the dictionary, and decide which key stores the identifiers, and which key stores the gene symbols. Please strictly follow this format in your answer:\n",
      "    identifier_key = 'key_name1'\n",
      "    gene_symbol_key = 'key_name2'\n",
      "\n",
      "    Gene annotation dictionary:\n",
      "    {'ID': ['1007_s_at', '1053_at', '117_at', '121_at', '1255_g_at'], 'GB_ACC': ['U48705', 'M87338', 'X51757', 'X69699', 'L36861'], 'SPOT_ID': [nan, nan, nan, nan, nan], 'Species Scientific Name': ['Homo sapiens', 'Homo sapiens', 'Homo sapiens', 'Homo sapiens', 'Homo sapiens'], 'Annotation Date': ['Oct 6, 2014', 'Oct 6, 2014', 'Oct 6, 2014', 'Oct 6, 2014', 'Oct 6, 2014'], 'Sequence Type': ['Exemplar sequence', 'Exemplar sequence', 'Exemplar sequence', 'Exemplar sequence', 'Exemplar sequence'], 'Sequence Source': ['Affymetrix Proprietary Database', 'GenBank', 'Affymetrix Proprietary Database', 'GenBank', 'Affymetrix Proprietary Database'], 'Target Description': ['U48705 /FEATURE=mRNA /DEFINITION=HSU48705 Human receptor tyrosine kinase DDR gene, complete cds', 'M87338 /FEATURE= /DEFINITION=HUMA1SBU Human replication factor C, 40-kDa subunit (A1) mRNA, complete cds', \"X51757 /FEATURE=cds /DEFINITION=HSP70B Human heat-shock protein HSP70B' gene\", 'X69699 /FEATURE= /DEFINITION=HSPAX8A H.sapiens Pax8 mRNA', 'L36861 /FEATURE=expanded_cds /DEFINITION=HUMGCAPB Homo sapiens guanylate cyclase activating protein (GCAP) gene exons 1-4, complete cds'], 'Representative Public ID': ['U48705', 'M87338', 'X51757', 'X69699', 'L36861'], 'Gene Title': ['discoidin domain receptor tyrosine kinase 1 /// microRNA 4640', 'replication factor C (activator 1) 2, 40kDa', \"heat shock 70kDa protein 6 (HSP70B')\", 'paired box 8', 'guanylate cyclase activator 1A (retina)'], 'Gene Symbol': ['DDR1 /// MIR4640', 'RFC2', 'HSPA6', 'PAX8', 'GUCA1A'], 'ENTREZ_GENE_ID': ['780 /// 100616237', '5982', '3310', '7849', '2978'], 'RefSeq Transcript ID': ['NM_001202521 /// NM_001202522 /// NM_001202523 /// NM_001954 /// NM_013993 /// NM_013994 /// NR_039783 /// XM_005249385 /// XM_005249386 /// XM_005249387 /// XM_005249389 /// XM_005272873 /// XM_005272874 /// XM_005272875 /// XM_005272877 /// XM_005275027 /// XM_005275028 /// XM_005275030 /// XM_005275031 /// XM_005275162 /// XM_005275163 /// XM_005275164 /// XM_005275166 /// XM_005275457 /// XM_005275458 /// XM_005275459 /// XM_005275461 /// XM_006715185 /// XM_006715186 /// XM_006715187 /// XM_006715188 /// XM_006715189 /// XM_006715190 /// XM_006725501 /// XM_006725502 /// XM_006725503 /// XM_006725504 /// XM_006725505 /// XM_006725506 /// XM_006725714 /// XM_006725715 /// XM_006725716 /// XM_006725717 /// XM_006725718 /// XM_006725719 /// XM_006725720 /// XM_006725721 /// XM_006725722 /// XM_006725827 /// XM_006725828 /// XM_006725829 /// XM_006725830 /// XM_006725831 /// XM_006725832 /// XM_006726017 /// XM_006726018 /// XM_006726019 /// XM_006726020 /// XM_006726021 /// XM_006726022 /// XR_427836 /// XR_430858 /// XR_430938 /// XR_430974 /// XR_431015', 'NM_001278791 /// NM_001278792 /// NM_001278793 /// NM_002914 /// NM_181471 /// XM_006716080', 'NM_002155', 'NM_003466 /// NM_013951 /// NM_013952 /// NM_013953 /// NM_013992', 'NM_000409 /// XM_006715073'], 'Gene Ontology Biological Process': ['0001558 // regulation of cell growth // inferred from electronic annotation /// 0001952 // regulation of cell-matrix adhesion // inferred from electronic annotation /// 0006468 // protein phosphorylation // inferred from electronic annotation /// 0007155 // cell adhesion // traceable author statement /// 0007169 // transmembrane receptor protein tyrosine kinase signaling pathway // inferred from electronic annotation /// 0007565 // female pregnancy // inferred from electronic annotation /// 0007566 // embryo implantation // inferred from electronic annotation /// 0007595 // lactation // inferred from electronic annotation /// 0008285 // negative regulation of cell proliferation // inferred from electronic annotation /// 0010715 // regulation of extracellular matrix disassembly // inferred from mutant phenotype /// 0014909 // smooth muscle cell migration // inferred from mutant phenotype /// 0016310 // phosphorylation // inferred from electronic annotation /// 0018108 // peptidyl-tyrosine phosphorylation // inferred from electronic annotation /// 0030198 // extracellular matrix organization // traceable author statement /// 0038063 // collagen-activated tyrosine kinase receptor signaling pathway // inferred from direct assay /// 0038063 // collagen-activated tyrosine kinase receptor signaling pathway // inferred from mutant phenotype /// 0038083 // peptidyl-tyrosine autophosphorylation // inferred from direct assay /// 0043583 // ear development // inferred from electronic annotation /// 0044319 // wound healing, spreading of cells // inferred from mutant phenotype /// 0046777 // protein autophosphorylation // inferred from direct assay /// 0060444 // branching involved in mammary gland duct morphogenesis // inferred from electronic annotation /// 0060749 // mammary gland alveolus development // inferred from electronic annotation /// 0061302 // smooth muscle cell-matrix adhesion // inferred from mutant phenotype', '0000278 // mitotic cell cycle // traceable author statement /// 0000722 // telomere maintenance via recombination // traceable author statement /// 0000723 // telomere maintenance // traceable author statement /// 0006260 // DNA replication // traceable author statement /// 0006271 // DNA strand elongation involved in DNA replication // traceable author statement /// 0006281 // DNA repair // traceable author statement /// 0006283 // transcription-coupled nucleotide-excision repair // traceable author statement /// 0006289 // nucleotide-excision repair // traceable author statement /// 0006297 // nucleotide-excision repair, DNA gap filling // traceable author statement /// 0015979 // photosynthesis // inferred from electronic annotation /// 0015995 // chlorophyll biosynthetic process // inferred from electronic annotation /// 0032201 // telomere maintenance via semi-conservative replication // traceable author statement', '0000902 // cell morphogenesis // inferred from electronic annotation /// 0006200 // ATP catabolic process // inferred from direct assay /// 0006950 // response to stress // inferred from electronic annotation /// 0006986 // response to unfolded protein // traceable author statement /// 0034605 // cellular response to heat // inferred from direct assay /// 0042026 // protein refolding // inferred from direct assay /// 0070370 // cellular heat acclimation // inferred from mutant phenotype', '0001655 // urogenital system development // inferred from sequence or structural similarity /// 0001656 // metanephros development // inferred from electronic annotation /// 0001658 // branching involved in ureteric bud morphogenesis // inferred from expression pattern /// 0001822 // kidney development // inferred from expression pattern /// 0001823 // mesonephros development // inferred from sequence or structural similarity /// 0003337 // mesenchymal to epithelial transition involved in metanephros morphogenesis // inferred from expression pattern /// 0006351 // transcription, DNA-templated // inferred from direct assay /// 0006355 // regulation of transcription, DNA-templated // inferred from electronic annotation /// 0007275 // multicellular organismal development // inferred from electronic annotation /// 0007417 // central nervous system development // inferred from expression pattern /// 0009653 // anatomical structure morphogenesis // traceable author statement /// 0030154 // cell differentiation // inferred from electronic annotation /// 0030878 // thyroid gland development // inferred from expression pattern /// 0030878 // thyroid gland development // inferred from mutant phenotype /// 0038194 // thyroid-stimulating hormone signaling pathway // traceable author statement /// 0039003 // pronephric field specification // inferred from sequence or structural similarity /// 0042472 // inner ear morphogenesis // inferred from sequence or structural similarity /// 0042981 // regulation of apoptotic process // inferred from sequence or structural similarity /// 0045893 // positive regulation of transcription, DNA-templated // inferred from direct assay /// 0045893 // positive regulation of transcription, DNA-templated // inferred from sequence or structural similarity /// 0045944 // positive regulation of transcription from RNA polymerase II promoter // inferred from direct assay /// 0048793 // pronephros development // inferred from sequence or structural similarity /// 0071371 // cellular response to gonadotropin stimulus // inferred from direct assay /// 0071599 // otic vesicle development // inferred from expression pattern /// 0072050 // S-shaped body morphogenesis // inferred from electronic annotation /// 0072073 // kidney epithelium development // inferred from electronic annotation /// 0072108 // positive regulation of mesenchymal to epithelial transition involved in metanephros morphogenesis // inferred from sequence or structural similarity /// 0072164 // mesonephric tubule development // inferred from electronic annotation /// 0072207 // metanephric epithelium development // inferred from expression pattern /// 0072221 // metanephric distal convoluted tubule development // inferred from sequence or structural similarity /// 0072278 // metanephric comma-shaped body morphogenesis // inferred from expression pattern /// 0072284 // metanephric S-shaped body morphogenesis // inferred from expression pattern /// 0072289 // metanephric nephron tubule formation // inferred from sequence or structural similarity /// 0072305 // negative regulation of mesenchymal cell apoptotic process involved in metanephric nephron morphogenesis // inferred from sequence or structural similarity /// 0072307 // regulation of metanephric nephron tubule epithelial cell differentiation // inferred from sequence or structural similarity /// 0090190 // positive regulation of branching involved in ureteric bud morphogenesis // inferred from sequence or structural similarity /// 1900212 // negative regulation of mesenchymal cell apoptotic process involved in metanephros development // inferred from sequence or structural similarity /// 1900215 // negative regulation of apoptotic process involved in metanephric collecting duct development // inferred from sequence or structural similarity /// 1900218 // negative regulation of apoptotic process involved in metanephric nephron tubule development // inferred from sequence or structural similarity /// 2000594 // positive regulation of metanephric DCT cell differentiation // inferred from sequence or structural similarity /// 2000611 // positive regulation of thyroid hormone generation // inferred from mutant phenotype /// 2000612 // regulation of thyroid-stimulating hormone secretion // inferred from mutant phenotype', '0007165 // signal transduction // non-traceable author statement /// 0007601 // visual perception // inferred from electronic annotation /// 0007602 // phototransduction // inferred from electronic annotation /// 0007603 // phototransduction, visible light // traceable author statement /// 0016056 // rhodopsin mediated signaling pathway // traceable author statement /// 0022400 // regulation of rhodopsin mediated signaling pathway // traceable author statement /// 0030828 // positive regulation of cGMP biosynthetic process // inferred from electronic annotation /// 0031282 // regulation of guanylate cyclase activity // inferred from electronic annotation /// 0031284 // positive regulation of guanylate cyclase activity // inferred from electronic annotation /// 0050896 // response to stimulus // inferred from electronic annotation'], 'Gene Ontology Cellular Component': ['0005576 // extracellular region // inferred from electronic annotation /// 0005615 // extracellular space // inferred from direct assay /// 0005886 // plasma membrane // traceable author statement /// 0005887 // integral component of plasma membrane // traceable author statement /// 0016020 // membrane // inferred from electronic annotation /// 0016021 // integral component of membrane // inferred from electronic annotation /// 0043235 // receptor complex // inferred from direct assay /// 0070062 // extracellular vesicular exosome // inferred from direct assay', '0005634 // nucleus // inferred from electronic annotation /// 0005654 // nucleoplasm // traceable author statement /// 0005663 // DNA replication factor C complex // inferred from direct assay', '0005737 // cytoplasm // inferred from direct assay /// 0005814 // centriole // inferred from direct assay /// 0005829 // cytosol // inferred from direct assay /// 0008180 // COP9 signalosome // inferred from direct assay /// 0070062 // extracellular vesicular exosome // inferred from direct assay /// 0072562 // blood microparticle // inferred from direct assay', '0005634 // nucleus // inferred from direct assay /// 0005654 // nucleoplasm // inferred from sequence or structural similarity /// 0005730 // nucleolus // inferred from direct assay', '0001750 // photoreceptor outer segment // inferred from electronic annotation /// 0001917 // photoreceptor inner segment // inferred from electronic annotation /// 0005578 // proteinaceous extracellular matrix // inferred from electronic annotation /// 0005886 // plasma membrane // inferred from direct assay /// 0016020 // membrane // inferred from electronic annotation /// 0097381 // photoreceptor disc membrane // traceable author statement'], 'Gene Ontology Molecular Function': ['0000166 // nucleotide binding // inferred from electronic annotation /// 0004672 // protein kinase activity // inferred from electronic annotation /// 0004713 // protein tyrosine kinase activity // inferred from electronic annotation /// 0004714 // transmembrane receptor protein tyrosine kinase activity // traceable author statement /// 0005515 // protein binding // inferred from physical interaction /// 0005518 // collagen binding // inferred from direct assay /// 0005518 // collagen binding // inferred from mutant phenotype /// 0005524 // ATP binding // inferred from electronic annotation /// 0016301 // kinase activity // inferred from electronic annotation /// 0016740 // transferase activity // inferred from electronic annotation /// 0016772 // transferase activity, transferring phosphorus-containing groups // inferred from electronic annotation /// 0038062 // protein tyrosine kinase collagen receptor activity // inferred from direct assay /// 0046872 // metal ion binding // inferred from electronic annotation', '0000166 // nucleotide binding // inferred from electronic annotation /// 0003677 // DNA binding // inferred from electronic annotation /// 0005515 // protein binding // inferred from physical interaction /// 0005524 // ATP binding // inferred from electronic annotation /// 0016851 // magnesium chelatase activity // inferred from electronic annotation /// 0017111 // nucleoside-triphosphatase activity // inferred from electronic annotation', '0000166 // nucleotide binding // inferred from electronic annotation /// 0005524 // ATP binding // inferred from electronic annotation /// 0019899 // enzyme binding // inferred from physical interaction /// 0031072 // heat shock protein binding // inferred from physical interaction /// 0042623 // ATPase activity, coupled // inferred from direct assay /// 0051082 // unfolded protein binding // inferred from direct assay', '0000979 // RNA polymerase II core promoter sequence-specific DNA binding // inferred from direct assay /// 0003677 // DNA binding // inferred from direct assay /// 0003677 // DNA binding // inferred from mutant phenotype /// 0003700 // sequence-specific DNA binding transcription factor activity // inferred from direct assay /// 0004996 // thyroid-stimulating hormone receptor activity // traceable author statement /// 0005515 // protein binding // inferred from physical interaction /// 0044212 // transcription regulatory region DNA binding // inferred from direct assay', '0005509 // calcium ion binding // inferred from electronic annotation /// 0008048 // calcium sensitive guanylate cyclase activator activity // inferred from electronic annotation /// 0030249 // guanylate cyclase regulator activity // inferred from electronic annotation /// 0046872 // metal ion binding // inferred from electronic annotation']}\n",
      "    \n"
     ]
    }
   ],
   "source": [
    "if requires_gene_mapping:\n",
    "    print(f'''\n",
    "    As a biomedical research team, we are analyzing a gene expression dataset, and find that its row headers are some identifiers related to genes:\n",
    "    {gene_row_ids}\n",
    "    To get the mapping from those identifiers to actual gene symbols, we extracted the gene annotation data from a series in the GEO database, and saved it to a Python dictionary. Please read the dictionary, and decide which key stores the identifiers, and which key stores the gene symbols. Please strictly follow this format in your answer:\n",
    "    identifier_key = 'key_name1'\n",
    "    gene_symbol_key = 'key_name2'\n",
    "\n",
    "    Gene annotation dictionary:\n",
    "    {gene_annotation_summary}\n",
    "    ''')"
   ],
   "metadata": {
    "collapsed": false,
    "ExecuteTime": {
     "end_time": "2024-01-27T00:23:10.494790467Z",
     "start_time": "2024-01-27T00:23:10.419222497Z"
    }
   }
  },
  {
   "cell_type": "code",
   "execution_count": 20,
   "outputs": [],
   "source": [
    "if requires_gene_mapping:\n",
    "    identifier_key = 'ID'\n",
    "    gene_symbol_key = 'Gene Symbol'\n",
    "    gene_mapping = get_gene_mapping(gene_annotation, identifier_key, gene_symbol_key)\n",
    "    genetic_data = apply_gene_mapping(genetic_data, gene_mapping)"
   ],
   "metadata": {
    "collapsed": false,
    "ExecuteTime": {
     "end_time": "2024-01-27T00:23:10.643737985Z",
     "start_time": "2024-01-27T00:23:10.450047499Z"
    }
   }
  },
  {
   "cell_type": "code",
   "execution_count": 21,
   "outputs": [
    {
     "name": "stderr",
     "output_type": "stream",
     "text": [
      "176 input query terms found dup hits:\t[('ABCC6P1', 2), ('ABCC6P2', 3), ('ABCD1P2', 2), ('ACTBP9', 2), ('AGAP11', 2), ('AGAP7P', 2), ('ANKH\n",
      "210 input query terms found no hit:\t['AK055967', 'ALPPL2', 'APITD1-CORT', 'ATP5G2P1', 'ATP5J2', 'AX746733', 'BMS1P5', 'C15orf38-AP3S2', \n",
      "71 input query terms found dup hits:\t[('SENP3-EIF4A1', 2), ('SERF2', 2), ('SETP4', 2), ('SHC1P1', 2), ('SIRPAP1', 2), ('SLC7A5P2', 2), ('\n",
      "86 input query terms found no hit:\t['SEPT5', 'SEPT6', 'SMA4', 'SMA5', 'SNORA45A', 'SOX5P', 'SPHAR', 'TCEB1P28', 'TCEB1P3', 'TCR-alpha',\n",
      "25 input query terms found dup hits:\t[('APOBEC3F', 2), ('APOLD1', 2), ('ARF1P1', 2), ('ARHGEF4', 2), ('ARID4B', 2), ('ARMC2-AS1', 2), ('A\n",
      "155 input query terms found no hit:\t['APITD1', 'ARMC4', 'ARNTL', 'ARNTL2', 'ARSE', 'ASNA1', 'ASUN', 'ATHL1', 'ATP5A1', 'ATP5B', 'ATP5C1'\n",
      "24 input query terms found dup hits:\t[('CCPG1', 2), ('CCZ1', 2), ('CDC37P1', 2), ('CDR1', 2), ('CDY1', 2), ('CENPA', 2), ('CFH', 2), ('CK\n",
      "31 input query terms found no hit:\t['CARKD', 'CARS', 'CASC1', 'CASC5', 'CBWD1', 'CCBL1', 'CCBL2', 'CCDC101', 'CCDC109B', 'CCDC130', 'CC\n",
      "29 input query terms found dup hits:\t[('CRYGEP', 3), ('CSH1', 2), ('CSNK1E', 2), ('CYAT1', 2), ('CYCSP19', 2), ('CYCSP33', 2), ('CYCSP44'\n",
      "45 input query terms found no hit:\t['CTAGE5', 'CTB-102L5.7', 'CTB-176F20.3', 'CTC-425F1.4', 'CTC-428G20.3', 'CTD-2269F5.1', 'CTD-3126B1\n",
      "29 input query terms found dup hits:\t[('EPOR', 2), ('EPS15P1', 2), ('FABP3P2', 2), ('FAHD2A', 2), ('FAM153A', 2), ('FAM182B', 2), ('FAM22\n",
      "78 input query terms found no hit:\t['EPB41L4A-AS2', 'EPRS', 'ERBB2IP', 'ERO1L', 'ERO1LB', 'FAIM3', 'FAM102A', 'FAM105A', 'FAM115A', 'FA\n",
      "67 input query terms found dup hits:\t[('GOLGA2P5', 2), ('GOLGA2P7', 3), ('GOLGA8A', 2), ('GPR37', 2), ('GTF2H2B', 2), ('GTF2I', 2), ('GTS\n",
      "102 input query terms found no hit:\t['GPR1', 'GPR110', 'GPR116', 'GPR124', 'GPR125', 'GPR126', 'GPR144', 'GPR56', 'GPR64', 'GPR97', 'GPR\n",
      "20 input query terms found dup hits:\t[('INO80B', 2), ('IPO4', 2), ('IRF9', 2), ('ITFG2', 2), ('JUP', 2), ('KBTBD4', 2), ('KIR2DL1', 2), (\n",
      "201 input query terms found no hit:\t['IMPAD1', 'INADL', 'KAL1', 'KALP', 'KARS', 'KCNE1L', 'KDELC1', 'KIAA0020', 'KIAA0100', 'KIAA0101', \n",
      "24 input query terms found dup hits:\t[('LPA', 2), ('LPAL2', 2), ('LPCAT3', 2), ('LRCH4', 2), ('LRP5L', 2), ('LRRC23', 2), ('LRRC37BP1', 2\n",
      "55 input query terms found no hit:\t['LOC79999', 'LOC81691', 'LOC93432', 'LOR', 'LPHN1', 'LPHN3', 'LPPR1', 'LPPR2', 'LPPR3', 'LPPR4', 'L\n",
      "35 input query terms found dup hits:\t[('N4BP2L2', 2), ('NAT8B', 3), ('NCF1', 2), ('NDST2', 2), ('NHP2P2', 2), ('NOL12', 2), ('NOP14-AS1',\n",
      "23 input query terms found no hit:\t['NACAP1', 'NAG18', 'NARFL', 'NARS', 'NAT6', 'NCRNA00185', 'NGFRAP1', 'NHP2L1', 'NOTCH2NL', 'NOV', '\n",
      "31 input query terms found dup hits:\t[('PEG3', 2), ('PI4KA', 2), ('PIN1P1', 2), ('PKD1P1', 2), ('PLEKHA8P1', 2), ('PMCHL1', 2), ('PMS2P1'\n",
      "42 input query terms found no hit:\t['PET112', 'PHB', 'PKI55', 'PLA2G16', 'PMS2L2', 'PNMAL1', 'PP13', 'PP14571', 'PPAP2A', 'PPAP2B', 'PP\n",
      "35 input query terms found dup hits:\t[('RABGGTB', 2), ('RALGAPA1', 2), ('RAP2A', 2), ('RFPL1S', 4), ('RN7SKP150', 3), ('RNF126P1', 2), ('\n",
      "108 input query terms found no hit:\t['RARRES3', 'RARS', 'REG1P', 'RNF11B', 'RNF219', 'RNMTL1', 'RNU86', 'RP1-101G11.2', 'RP1-130G2.1', '\n",
      "19 input query terms found dup hits:\t[('SET', 2), ('SHC1P1', 2), ('SHPK', 2), ('SIGLEC5', 2), ('SIRPAP1', 2), ('SLC6A10P', 2), ('SMR3A', \n",
      "27 input query terms found no hit:\t['SETD8', 'SHFM1', 'SKIV2L', 'SKIV2L2', 'SLC26A10', 'SLC35E2', 'SLC9A3R1', 'SLC9A3R2', 'SLMO1', 'SLM\n",
      "22 input query terms found dup hits:\t[('TARDBPP1', 2), ('TBCAP2', 2), ('TEC', 2), ('TMOD1', 2), ('TNXA', 5), ('TPSAB1', 2), ('TPT1P8', 2)\n",
      "47 input query terms found no hit:\t['TARP', 'TARP', 'TARS', 'TAZ', 'TBC1D29', 'TCEB1', 'TCEB1P3', 'TCEB2', 'TCEB3', 'TCEB3-AS1', 'TCEB3\n",
      "17 input query terms found dup hits:\t[('USP32', 2), ('USP32P2', 2), ('VENTXP1', 2), ('WHAMMP2', 3), ('XCL1', 2), ('XKRY', 2), ('ZFX', 2),\n",
      "36 input query terms found no hit:\t['UFD1L', 'UHRF1BP1L', 'UTP11L', 'VARS', 'VNN3', 'VPRBP', 'VWA9', 'WAPAL', 'WARS', 'WBP5', 'WBSCR16'\n"
     ]
    }
   ],
   "source": [
    "if NORMALIZE_GENE:\n",
    "    genetic_data = normalize_gene_symbols_in_index(genetic_data)"
   ],
   "metadata": {
    "collapsed": false,
    "ExecuteTime": {
     "end_time": "2024-01-27T00:23:45.092270399Z",
     "start_time": "2024-01-27T00:23:10.645488132Z"
    }
   }
  },
  {
   "cell_type": "code",
   "execution_count": 22,
   "outputs": [
    {
     "data": {
      "text/plain": "         GSM499539   GSM499540   GSM499541  GSM499542   GSM499543   GSM499544  \\\nA1CF     71.557100  159.891000   57.015500  120.95900  127.401000   95.989100   \nA2M     408.900000  202.328000  210.067000  381.63500  491.492000  164.369000   \nA4GALT   12.690400   21.980000   14.371900   28.56820   19.156600   12.430800   \nA4GNT    37.140700   44.172100   28.034900   40.66690   39.553300   35.653100   \nAAAS     29.980400   23.644500   30.930100   23.51450   31.946500   30.712800   \n...            ...         ...         ...        ...         ...         ...   \nZXDB     13.133700   14.893200    4.323000   18.05100   18.067800   13.865300   \nZXDC     22.318400    2.990380    9.406920    5.84395    3.589870   11.439900   \nZYX      57.948950   41.521600   44.554350   59.32980   45.051800   46.761650   \nZZEF1    33.593887   23.616997   39.444033   26.66220   28.433633   30.751333   \nZZZ3     61.110300   31.729000   49.934600   25.01920   34.820200   32.867100   \n\n         GSM499545   GSM499546  GSM499547  GSM499548  ...    GSM499579  \\\nA1CF    118.137000  101.873000   63.52370   161.5950  ...   142.776000   \nA2M     831.625000  323.033000  205.33400   471.6100  ...  1152.810000   \nA4GALT    5.653090   13.445900    8.82465    29.9103  ...   112.240000   \nA4GNT    27.099000   26.327400   37.09310    41.3090  ...    42.834000   \nAAAS      6.666480   34.113000   50.83830    24.3827  ...   104.784000   \n...            ...         ...        ...        ...  ...          ...   \nZXDB     13.798900   14.533800   11.35270    13.2336  ...    25.520200   \nZXDC     18.574500    7.238380   13.43450    16.3209  ...   110.979000   \nZYX      52.722850   38.256300   51.66035    43.5322  ...    74.040050   \nZZEF1    25.160033   27.164767   36.67980    31.6776  ...    70.053667   \nZZZ3     27.563200    7.418820   33.93670    41.6038  ...   125.577000   \n\n         GSM499580   GSM499581  GSM499582   GSM499583    GSM499584  \\\nA1CF    104.520000  137.614000  175.06000  165.580000   100.254000   \nA2M     869.373000  998.160000  786.61300  774.388000  1006.760000   \nA4GALT   93.937300  146.112000  145.40600  130.332000    87.782200   \nA4GNT    38.710000   29.049800   43.55150   41.107700    37.681900   \nAAAS     96.517000  123.071000  147.06500  129.080000    84.828800   \n...            ...         ...        ...         ...          ...   \nZXDB     31.749500   50.974300   49.25600   49.769500    34.056500   \nZXDC     92.301900  103.830000  112.92100  110.700000   123.282000   \nZYX      87.582350  111.134800   88.40755   73.397850    69.180850   \nZZEF1    78.968233   80.725033  124.36110   92.265033    67.288667   \nZZZ3     91.378800   75.627400   99.93960   90.479200    98.083500   \n\n         GSM499585   GSM499586   GSM499587  GSM499588  \nA1CF     92.139200  102.317000  145.369000   136.1520  \nA2M     369.229000  408.519000  744.746000   924.6230  \nA4GALT   85.761200   98.144000  104.492000   114.6330  \nA4GNT    33.042500   41.756200   46.398500    47.7418  \nAAAS     92.175300  103.904000  101.345000   135.3390  \n...            ...         ...         ...        ...  \nZXDB     33.746200   30.191100   51.225400    54.8993  \nZXDC     80.434700  116.624000  113.119000    96.7548  \nZYX      76.572700   75.683800   76.092850    59.1089  \nZZEF1    81.287033   79.676367   89.155567   104.3315  \nZZZ3     74.397700  205.218000  112.931000   139.1270  \n\n[11726 rows x 50 columns]",
      "text/html": "<div>\n<style scoped>\n    .dataframe tbody tr th:only-of-type {\n        vertical-align: middle;\n    }\n\n    .dataframe tbody tr th {\n        vertical-align: top;\n    }\n\n    .dataframe thead th {\n        text-align: right;\n    }\n</style>\n<table border=\"1\" class=\"dataframe\">\n  <thead>\n    <tr style=\"text-align: right;\">\n      <th></th>\n      <th>GSM499539</th>\n      <th>GSM499540</th>\n      <th>GSM499541</th>\n      <th>GSM499542</th>\n      <th>GSM499543</th>\n      <th>GSM499544</th>\n      <th>GSM499545</th>\n      <th>GSM499546</th>\n      <th>GSM499547</th>\n      <th>GSM499548</th>\n      <th>...</th>\n      <th>GSM499579</th>\n      <th>GSM499580</th>\n      <th>GSM499581</th>\n      <th>GSM499582</th>\n      <th>GSM499583</th>\n      <th>GSM499584</th>\n      <th>GSM499585</th>\n      <th>GSM499586</th>\n      <th>GSM499587</th>\n      <th>GSM499588</th>\n    </tr>\n  </thead>\n  <tbody>\n    <tr>\n      <th>A1CF</th>\n      <td>71.557100</td>\n      <td>159.891000</td>\n      <td>57.015500</td>\n      <td>120.95900</td>\n      <td>127.401000</td>\n      <td>95.989100</td>\n      <td>118.137000</td>\n      <td>101.873000</td>\n      <td>63.52370</td>\n      <td>161.5950</td>\n      <td>...</td>\n      <td>142.776000</td>\n      <td>104.520000</td>\n      <td>137.614000</td>\n      <td>175.06000</td>\n      <td>165.580000</td>\n      <td>100.254000</td>\n      <td>92.139200</td>\n      <td>102.317000</td>\n      <td>145.369000</td>\n      <td>136.1520</td>\n    </tr>\n    <tr>\n      <th>A2M</th>\n      <td>408.900000</td>\n      <td>202.328000</td>\n      <td>210.067000</td>\n      <td>381.63500</td>\n      <td>491.492000</td>\n      <td>164.369000</td>\n      <td>831.625000</td>\n      <td>323.033000</td>\n      <td>205.33400</td>\n      <td>471.6100</td>\n      <td>...</td>\n      <td>1152.810000</td>\n      <td>869.373000</td>\n      <td>998.160000</td>\n      <td>786.61300</td>\n      <td>774.388000</td>\n      <td>1006.760000</td>\n      <td>369.229000</td>\n      <td>408.519000</td>\n      <td>744.746000</td>\n      <td>924.6230</td>\n    </tr>\n    <tr>\n      <th>A4GALT</th>\n      <td>12.690400</td>\n      <td>21.980000</td>\n      <td>14.371900</td>\n      <td>28.56820</td>\n      <td>19.156600</td>\n      <td>12.430800</td>\n      <td>5.653090</td>\n      <td>13.445900</td>\n      <td>8.82465</td>\n      <td>29.9103</td>\n      <td>...</td>\n      <td>112.240000</td>\n      <td>93.937300</td>\n      <td>146.112000</td>\n      <td>145.40600</td>\n      <td>130.332000</td>\n      <td>87.782200</td>\n      <td>85.761200</td>\n      <td>98.144000</td>\n      <td>104.492000</td>\n      <td>114.6330</td>\n    </tr>\n    <tr>\n      <th>A4GNT</th>\n      <td>37.140700</td>\n      <td>44.172100</td>\n      <td>28.034900</td>\n      <td>40.66690</td>\n      <td>39.553300</td>\n      <td>35.653100</td>\n      <td>27.099000</td>\n      <td>26.327400</td>\n      <td>37.09310</td>\n      <td>41.3090</td>\n      <td>...</td>\n      <td>42.834000</td>\n      <td>38.710000</td>\n      <td>29.049800</td>\n      <td>43.55150</td>\n      <td>41.107700</td>\n      <td>37.681900</td>\n      <td>33.042500</td>\n      <td>41.756200</td>\n      <td>46.398500</td>\n      <td>47.7418</td>\n    </tr>\n    <tr>\n      <th>AAAS</th>\n      <td>29.980400</td>\n      <td>23.644500</td>\n      <td>30.930100</td>\n      <td>23.51450</td>\n      <td>31.946500</td>\n      <td>30.712800</td>\n      <td>6.666480</td>\n      <td>34.113000</td>\n      <td>50.83830</td>\n      <td>24.3827</td>\n      <td>...</td>\n      <td>104.784000</td>\n      <td>96.517000</td>\n      <td>123.071000</td>\n      <td>147.06500</td>\n      <td>129.080000</td>\n      <td>84.828800</td>\n      <td>92.175300</td>\n      <td>103.904000</td>\n      <td>101.345000</td>\n      <td>135.3390</td>\n    </tr>\n    <tr>\n      <th>...</th>\n      <td>...</td>\n      <td>...</td>\n      <td>...</td>\n      <td>...</td>\n      <td>...</td>\n      <td>...</td>\n      <td>...</td>\n      <td>...</td>\n      <td>...</td>\n      <td>...</td>\n      <td>...</td>\n      <td>...</td>\n      <td>...</td>\n      <td>...</td>\n      <td>...</td>\n      <td>...</td>\n      <td>...</td>\n      <td>...</td>\n      <td>...</td>\n      <td>...</td>\n      <td>...</td>\n    </tr>\n    <tr>\n      <th>ZXDB</th>\n      <td>13.133700</td>\n      <td>14.893200</td>\n      <td>4.323000</td>\n      <td>18.05100</td>\n      <td>18.067800</td>\n      <td>13.865300</td>\n      <td>13.798900</td>\n      <td>14.533800</td>\n      <td>11.35270</td>\n      <td>13.2336</td>\n      <td>...</td>\n      <td>25.520200</td>\n      <td>31.749500</td>\n      <td>50.974300</td>\n      <td>49.25600</td>\n      <td>49.769500</td>\n      <td>34.056500</td>\n      <td>33.746200</td>\n      <td>30.191100</td>\n      <td>51.225400</td>\n      <td>54.8993</td>\n    </tr>\n    <tr>\n      <th>ZXDC</th>\n      <td>22.318400</td>\n      <td>2.990380</td>\n      <td>9.406920</td>\n      <td>5.84395</td>\n      <td>3.589870</td>\n      <td>11.439900</td>\n      <td>18.574500</td>\n      <td>7.238380</td>\n      <td>13.43450</td>\n      <td>16.3209</td>\n      <td>...</td>\n      <td>110.979000</td>\n      <td>92.301900</td>\n      <td>103.830000</td>\n      <td>112.92100</td>\n      <td>110.700000</td>\n      <td>123.282000</td>\n      <td>80.434700</td>\n      <td>116.624000</td>\n      <td>113.119000</td>\n      <td>96.7548</td>\n    </tr>\n    <tr>\n      <th>ZYX</th>\n      <td>57.948950</td>\n      <td>41.521600</td>\n      <td>44.554350</td>\n      <td>59.32980</td>\n      <td>45.051800</td>\n      <td>46.761650</td>\n      <td>52.722850</td>\n      <td>38.256300</td>\n      <td>51.66035</td>\n      <td>43.5322</td>\n      <td>...</td>\n      <td>74.040050</td>\n      <td>87.582350</td>\n      <td>111.134800</td>\n      <td>88.40755</td>\n      <td>73.397850</td>\n      <td>69.180850</td>\n      <td>76.572700</td>\n      <td>75.683800</td>\n      <td>76.092850</td>\n      <td>59.1089</td>\n    </tr>\n    <tr>\n      <th>ZZEF1</th>\n      <td>33.593887</td>\n      <td>23.616997</td>\n      <td>39.444033</td>\n      <td>26.66220</td>\n      <td>28.433633</td>\n      <td>30.751333</td>\n      <td>25.160033</td>\n      <td>27.164767</td>\n      <td>36.67980</td>\n      <td>31.6776</td>\n      <td>...</td>\n      <td>70.053667</td>\n      <td>78.968233</td>\n      <td>80.725033</td>\n      <td>124.36110</td>\n      <td>92.265033</td>\n      <td>67.288667</td>\n      <td>81.287033</td>\n      <td>79.676367</td>\n      <td>89.155567</td>\n      <td>104.3315</td>\n    </tr>\n    <tr>\n      <th>ZZZ3</th>\n      <td>61.110300</td>\n      <td>31.729000</td>\n      <td>49.934600</td>\n      <td>25.01920</td>\n      <td>34.820200</td>\n      <td>32.867100</td>\n      <td>27.563200</td>\n      <td>7.418820</td>\n      <td>33.93670</td>\n      <td>41.6038</td>\n      <td>...</td>\n      <td>125.577000</td>\n      <td>91.378800</td>\n      <td>75.627400</td>\n      <td>99.93960</td>\n      <td>90.479200</td>\n      <td>98.083500</td>\n      <td>74.397700</td>\n      <td>205.218000</td>\n      <td>112.931000</td>\n      <td>139.1270</td>\n    </tr>\n  </tbody>\n</table>\n<p>11726 rows × 50 columns</p>\n</div>"
     },
     "execution_count": 22,
     "metadata": {},
     "output_type": "execute_result"
    }
   ],
   "source": [
    "genetic_data"
   ],
   "metadata": {
    "collapsed": false,
    "ExecuteTime": {
     "end_time": "2024-01-27T00:23:45.142156530Z",
     "start_time": "2024-01-27T00:23:45.097033445Z"
    }
   }
  },
  {
   "cell_type": "code",
   "execution_count": 23,
   "outputs": [],
   "source": [
    "merged_data = geo_merge_clinical_genetic_data(selected_clinical_data, genetic_data)\n",
    "# The preprocessing runs through, which means is_available should be True\n",
    "is_available = True"
   ],
   "metadata": {
    "collapsed": false,
    "ExecuteTime": {
     "end_time": "2024-01-27T00:23:45.142322188Z",
     "start_time": "2024-01-27T00:23:45.123305190Z"
    }
   }
  },
  {
   "cell_type": "code",
   "execution_count": 24,
   "outputs": [
    {
     "name": "stdout",
     "output_type": "stream",
     "text": [
      "The merged dataset contains 50 samples.\n"
     ]
    }
   ],
   "source": [
    "print(f\"The merged dataset contains {len(merged_data)} samples.\")"
   ],
   "metadata": {
    "collapsed": false,
    "ExecuteTime": {
     "end_time": "2024-01-27T00:23:45.142503306Z",
     "start_time": "2024-01-27T00:23:45.135626836Z"
    }
   }
  },
  {
   "cell_type": "code",
   "execution_count": 25,
   "outputs": [
    {
     "name": "stdout",
     "output_type": "stream",
     "text": [
      "For the feature 'Multiple Endocrine Neoplasia Type 2', the least common label is '1.0' with 4 occurrences. This represents 8.00% of the dataset.\n",
      "The distribution of the feature 'Multiple Endocrine Neoplasia Type 2' in this dataset is severely biased.\n",
      "\n"
     ]
    },
    {
     "data": {
      "text/plain": "False"
     },
     "execution_count": 25,
     "metadata": {},
     "output_type": "execute_result"
    }
   ],
   "source": [
    "is_trait_biased, merged_data = judge_and_remove_biased_features(merged_data, TRAIT, trait_type=trait_type)\n",
    "is_trait_biased"
   ],
   "metadata": {
    "collapsed": false,
    "ExecuteTime": {
     "end_time": "2024-01-27T00:23:45.264778927Z",
     "start_time": "2024-01-27T00:23:45.180969359Z"
    }
   }
  },
  {
   "cell_type": "code",
   "execution_count": 26,
   "outputs": [],
   "source": [
    "if is_available:\n",
    "    save_cohort_info(cohort, JSON_PATH, is_available, is_trait_biased, merged_data, note='')\n",
    "else:\n",
    "    save_cohort_info(cohort, JSON_PATH, is_available)"
   ],
   "metadata": {
    "collapsed": false,
    "ExecuteTime": {
     "end_time": "2024-01-27T00:23:48.393160105Z",
     "start_time": "2024-01-27T00:23:48.362631035Z"
    }
   }
  },
  {
   "cell_type": "code",
   "execution_count": 27,
   "outputs": [],
   "source": [
    "merged_data.head()\n",
    "if not is_trait_biased:\n",
    "    merged_data.to_csv(os.path.join(OUTPUT_DIR, cohort + '.csv'), index=False)"
   ],
   "metadata": {
    "collapsed": false,
    "ExecuteTime": {
     "end_time": "2024-01-27T00:23:55.222277887Z",
     "start_time": "2024-01-27T00:23:54.892795883Z"
    }
   }
  },
  {
   "cell_type": "markdown",
   "source": [
    "### 3. Do regression & Cross Validation"
   ],
   "metadata": {
    "id": "-MTPhRGxJV7I",
    "ExecuteTime": {
     "end_time": "2023-12-31T03:58:22.271683755Z",
     "start_time": "2023-12-31T03:58:22.246557674Z"
    }
   },
   "outputs": [
    {
     "data": {
      "text/plain": "   cohort_id  is_usable  is_available is_biased has_age has_gender  \\\n0       Xena       True          True     False    True       True   \n3  GSE248830       True          True     False    True       True   \n\n   sample_size note  \n0       1215.0       \n3         38.0       ",
      "text/html": "<div>\n<style scoped>\n    .dataframe tbody tr th:only-of-type {\n        vertical-align: middle;\n    }\n\n    .dataframe tbody tr th {\n        vertical-align: top;\n    }\n\n    .dataframe thead th {\n        text-align: right;\n    }\n</style>\n<table border=\"1\" class=\"dataframe\">\n  <thead>\n    <tr style=\"text-align: right;\">\n      <th></th>\n      <th>cohort_id</th>\n      <th>is_usable</th>\n      <th>is_available</th>\n      <th>is_biased</th>\n      <th>has_age</th>\n      <th>has_gender</th>\n      <th>sample_size</th>\n      <th>note</th>\n    </tr>\n  </thead>\n  <tbody>\n    <tr>\n      <th>0</th>\n      <td>Xena</td>\n      <td>True</td>\n      <td>True</td>\n      <td>False</td>\n      <td>True</td>\n      <td>True</td>\n      <td>1215.0</td>\n      <td></td>\n    </tr>\n    <tr>\n      <th>3</th>\n      <td>GSE248830</td>\n      <td>True</td>\n      <td>True</td>\n      <td>False</td>\n      <td>True</td>\n      <td>True</td>\n      <td>38.0</td>\n      <td></td>\n    </tr>\n  </tbody>\n</table>\n</div>"
     },
     "execution_count": 48,
     "metadata": {},
     "output_type": "execute_result"
    }
   ],
   "execution_count": 48
  },
  {
   "cell_type": "code",
   "execution_count": 28,
   "outputs": [
    {
     "data": {
      "text/plain": "  cohort_id  is_usable  is_available  is_biased  has_age  has_gender  \\\n0  GSE19987       True          True      False    False       False   \n\n   sample_size note  \n0           50       ",
      "text/html": "<div>\n<style scoped>\n    .dataframe tbody tr th:only-of-type {\n        vertical-align: middle;\n    }\n\n    .dataframe tbody tr th {\n        vertical-align: top;\n    }\n\n    .dataframe thead th {\n        text-align: right;\n    }\n</style>\n<table border=\"1\" class=\"dataframe\">\n  <thead>\n    <tr style=\"text-align: right;\">\n      <th></th>\n      <th>cohort_id</th>\n      <th>is_usable</th>\n      <th>is_available</th>\n      <th>is_biased</th>\n      <th>has_age</th>\n      <th>has_gender</th>\n      <th>sample_size</th>\n      <th>note</th>\n    </tr>\n  </thead>\n  <tbody>\n    <tr>\n      <th>0</th>\n      <td>GSE19987</td>\n      <td>True</td>\n      <td>True</td>\n      <td>False</td>\n      <td>False</td>\n      <td>False</td>\n      <td>50</td>\n      <td></td>\n    </tr>\n  </tbody>\n</table>\n</div>"
     },
     "execution_count": 28,
     "metadata": {},
     "output_type": "execute_result"
    }
   ],
   "source": [
    "# Check the information of usable cohorts\n",
    "best_cohort, ranked_df = filter_and_rank_cohorts(JSON_PATH)\n",
    "ranked_df"
   ],
   "metadata": {
    "collapsed": false,
    "ExecuteTime": {
     "end_time": "2024-01-27T00:24:06.049624999Z",
     "start_time": "2024-01-27T00:24:06.044263035Z"
    }
   }
  },
  {
   "cell_type": "code",
   "execution_count": 29,
   "outputs": [],
   "source": [
    "# If both age and gender have available cohorts, select 'age' as the condition.\n",
    "condition = 'Age'\n",
    "filter_column = 'has_' + condition.lower()\n",
    "\n",
    "condition_best_cohort, condition_ranked_df = filter_and_rank_cohorts(JSON_PATH, filter_column)\n",
    "condition_best_cohort"
   ],
   "metadata": {
    "collapsed": false,
    "ExecuteTime": {
     "end_time": "2024-01-27T00:24:09.379299019Z",
     "start_time": "2024-01-27T00:24:09.354307524Z"
    }
   }
  },
  {
   "cell_type": "code",
   "execution_count": 30,
   "outputs": [
    {
     "data": {
      "text/plain": "Empty DataFrame\nColumns: [cohort_id, is_usable, is_available, is_biased, has_age, has_gender, sample_size, note]\nIndex: []",
      "text/html": "<div>\n<style scoped>\n    .dataframe tbody tr th:only-of-type {\n        vertical-align: middle;\n    }\n\n    .dataframe tbody tr th {\n        vertical-align: top;\n    }\n\n    .dataframe thead th {\n        text-align: right;\n    }\n</style>\n<table border=\"1\" class=\"dataframe\">\n  <thead>\n    <tr style=\"text-align: right;\">\n      <th></th>\n      <th>cohort_id</th>\n      <th>is_usable</th>\n      <th>is_available</th>\n      <th>is_biased</th>\n      <th>has_age</th>\n      <th>has_gender</th>\n      <th>sample_size</th>\n      <th>note</th>\n    </tr>\n  </thead>\n  <tbody>\n  </tbody>\n</table>\n</div>"
     },
     "execution_count": 30,
     "metadata": {},
     "output_type": "execute_result"
    }
   ],
   "source": [
    "condition_ranked_df.head()"
   ],
   "metadata": {
    "collapsed": false,
    "ExecuteTime": {
     "end_time": "2024-01-27T00:24:11.318048759Z",
     "start_time": "2024-01-27T00:24:11.308890605Z"
    }
   }
  },
  {
   "cell_type": "code",
   "execution_count": 31,
   "outputs": [
    {
     "ename": "TypeError",
     "evalue": "unsupported operand type(s) for +: 'NoneType' and 'str'",
     "output_type": "error",
     "traceback": [
      "\u001B[0;31m---------------------------------------------------------------------------\u001B[0m",
      "\u001B[0;31mTypeError\u001B[0m                                 Traceback (most recent call last)",
      "Cell \u001B[0;32mIn[31], line 1\u001B[0m\n\u001B[0;32m----> 1\u001B[0m merged_data \u001B[38;5;241m=\u001B[39m pd\u001B[38;5;241m.\u001B[39mread_csv(os\u001B[38;5;241m.\u001B[39mpath\u001B[38;5;241m.\u001B[39mjoin(OUTPUT_DIR, \u001B[43mcondition_best_cohort\u001B[49m\u001B[43m \u001B[49m\u001B[38;5;241;43m+\u001B[39;49m\u001B[43m \u001B[49m\u001B[38;5;124;43m'\u001B[39;49m\u001B[38;5;124;43m.csv\u001B[39;49m\u001B[38;5;124;43m'\u001B[39;49m))\n\u001B[1;32m      2\u001B[0m merged_data\u001B[38;5;241m.\u001B[39mhead()\n",
      "\u001B[0;31mTypeError\u001B[0m: unsupported operand type(s) for +: 'NoneType' and 'str'"
     ]
    }
   ],
   "source": [
    "merged_data = pd.read_csv(os.path.join(OUTPUT_DIR, condition_best_cohort + '.csv'))\n",
    "merged_data.head()"
   ],
   "metadata": {
    "collapsed": false,
    "ExecuteTime": {
     "end_time": "2024-01-27T00:24:21.815636280Z",
     "start_time": "2024-01-27T00:24:21.471322151Z"
    }
   }
  },
  {
   "cell_type": "code",
   "execution_count": null,
   "outputs": [],
   "source": [
    "# Remove the other condition to prevent interference.\n",
    "merged_data = merged_data.drop(columns=['Gender'], errors='ignore').astype('float')\n",
    "\n",
    "X = merged_data.drop(columns=[TRAIT, condition]).values\n",
    "Y = merged_data[TRAIT].values\n",
    "Z = merged_data[condition].values"
   ],
   "metadata": {
    "collapsed": false
   }
  },
  {
   "cell_type": "markdown",
   "source": [
    "Select the appropriate regression model depending on whether the dataset shows batch effect."
   ],
   "metadata": {
    "collapsed": false
   }
  },
  {
   "cell_type": "code",
   "execution_count": null,
   "outputs": [],
   "source": [
    "has_batch_effect = detect_batch_effect(X)\n",
    "has_batch_effect"
   ],
   "metadata": {
    "collapsed": false
   }
  },
  {
   "cell_type": "code",
   "execution_count": null,
   "outputs": [],
   "source": [
    "# Select appropriate models based on whether the dataset has batch effect.\n",
    "# We experiment on two models for each branch. We will decide which one to choose later.\n",
    "\n",
    "if has_batch_effect:\n",
    "    model_constructor1 = VariableSelection\n",
    "    model_params1 = {'modified': True, 'lamda': 3e-4}\n",
    "    model_constructor2 = VariableSelection\n",
    "    model_params2 = {'modified': False}\n",
    "else:\n",
    "    model_constructor1 = Lasso\n",
    "    model_params1 = {'alpha': 1.0, 'random_state': 42}\n",
    "    model_constructor2 = VariableSelection\n",
    "    model_params2 = {'modified': False}"
   ],
   "metadata": {
    "collapsed": false
   }
  },
  {
   "cell_type": "code",
   "execution_count": null,
   "outputs": [],
   "source": [
    "trait_type = 'binary'  # Remember to set this properly, either 'binary' or 'continuous'\n",
    "cv_mean1, cv_std1 = cross_validation(X, Y, Z, model_constructor1, model_params1, target_type=trait_type)"
   ],
   "metadata": {
    "collapsed": false
   }
  },
  {
   "cell_type": "code",
   "execution_count": null,
   "outputs": [],
   "source": [
    "cv_mean2, cv_std2 = cross_validation(X, Y, Z, model_constructor2, model_params2, target_type=trait_type)"
   ],
   "metadata": {
    "collapsed": false
   }
  },
  {
   "cell_type": "code",
   "execution_count": null,
   "outputs": [],
   "source": [
    "normalized_X, _ = normalize_data(X)\n",
    "normalized_Z, _ = normalize_data(Z)\n",
    "\n",
    "# Train regression model on the whole dataset to identify significant genes\n",
    "model1 = ResidualizationRegressor(model_constructor1, model_params1)\n",
    "model1.fit(normalized_X, Y, normalized_Z)\n",
    "\n",
    "model2 = ResidualizationRegressor(model_constructor2, model_params2)\n",
    "model2.fit(normalized_X, Y, normalized_Z)"
   ],
   "metadata": {
    "collapsed": false
   }
  },
  {
   "cell_type": "markdown",
   "source": [
    "### 4. Discussion and report"
   ],
   "metadata": {
    "id": "EjJrxbvb4nlj",
    "ExecuteTime": {
     "end_time": "2023-10-14T04:50:59.072075075Z",
     "start_time": "2023-10-14T04:50:38.739499998Z"
    }
   },
   "outputs": [
    {
     "name": "stderr",
     "output_type": "stream",
     "text": [
      "/tmp/ipykernel_27130/1949978799.py:15: RuntimeWarning: invalid value encountered in divide\n",
      "  X = (X - mean) / std\n",
      "/home/techt/anaconda3/envs/hl/lib/python3.8/site-packages/sparse_lmm/helpingMethods.py:49: RuntimeWarning: invalid value encountered in divide\n",
      "  ts = beta / np.sqrt(var * sigma)\n",
      "/home/techt/anaconda3/envs/hl/lib/python3.8/site-packages/sparse_lmm/VariableSelection.py:183: RuntimeWarning: divide by zero encountered in log\n",
      "  return -np.log(p), np.array(betas)\n"
     ]
    },
    {
     "name": "stdout",
     "output_type": "stream",
     "text": [
      "0.7813063496787521\n"
     ]
    }
   ],
   "execution_count": 13
  },
  {
   "cell_type": "code",
   "execution_count": null,
   "outputs": [],
   "source": [
    "feature_cols = merged_data.columns.tolist()\n",
    "feature_cols.remove(TRAIT)\n",
    "\n",
    "threshold = 0.05\n",
    "interpret_result(model1, feature_cols, TRAIT, condition, threshold=threshold, save_output=True,\n",
    "                 output_dir=OUTPUT_DIR, model_id=1)"
   ],
   "metadata": {
    "collapsed": false
   }
  },
  {
   "cell_type": "code",
   "execution_count": null,
   "outputs": [],
   "source": [
    "interpret_result(model2, feature_cols, TRAIT, condition, threshold=threshold, save_output=True,\n",
    "                 output_dir=OUTPUT_DIR, model_id=2)"
   ],
   "metadata": {
    "collapsed": false
   }
  },
  {
   "cell_type": "code",
   "execution_count": null,
   "outputs": [],
   "source": [],
   "metadata": {
    "collapsed": false
   }
  }
 ]
}
