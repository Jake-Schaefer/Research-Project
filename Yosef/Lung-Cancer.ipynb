{
 "cells": [
  {
   "cell_type": "markdown",
   "metadata": {
    "collapsed": false
   },
   "source": [
    "# Gold standard curation: Preprocessing and single-step regression"
   ]
  },
  {
   "cell_type": "markdown",
   "metadata": {
    "collapsed": false
   },
   "source": [
    "In this stage of gold standard curation, we will do the data preprocessing, selection, and single-step regression for the 153 traits in our question set. The workflow consists of the following steps:\n",
    "\n",
    "1. Preprocess all the cohorts related to this trait. Each cohort should be converted to a tabular form and saved to a csv file, with columns being genetic factors, the trait, and age, gender if available;\n",
    "2. If there exists at least one cohort with age or gender information, conduct regression analysis with genetic features together with age or gender as the regressors.\n"
   ]
  },
  {
   "cell_type": "markdown",
   "metadata": {
    "collapsed": false
   },
   "source": [
    "# 1. Basic setup"
   ]
  },
  {
   "cell_type": "code",
   "execution_count": 21,
   "metadata": {
    "ExecuteTime": {
     "end_time": "2024-01-02T01:02:53.240839272Z",
     "start_time": "2024-01-02T01:02:53.240575109Z"
    },
    "collapsed": false
   },
   "outputs": [],
   "source": [
    "import os\n",
    "import sys\n",
    "\n",
    "sys.path.append('..')\n",
    "# Set your preferred name\n",
    "USER = \"Yuxuan\"\n",
    "# Set the data and output directories\n",
    "DATA_ROOT = '/home/yxcheng'\n",
    "OUTPUT_ROOT = '../../output1'\n",
    "TRAIT = 'Lung-Cancer'\n",
    "\n",
    "OUTPUT_DIR = os.path.join(OUTPUT_ROOT, USER, '-'.join(TRAIT.split()))\n",
    "JSON_PATH = os.path.join(OUTPUT_DIR, \"cohort_info.json\")\n",
    "if not os.path.exists(OUTPUT_DIR):\n",
    "    os.makedirs(OUTPUT_DIR, exist_ok=True)\n",
    "\n",
    "# Gene symbol normalization may take 1-2 minutes. You may set it to False for debugging.\n",
    "NORMALIZE_GENE = True"
   ]
  },
  {
   "cell_type": "code",
   "execution_count": 22,
   "metadata": {
    "ExecuteTime": {
     "end_time": "2024-01-02T01:02:53.501910797Z",
     "start_time": "2024-01-02T01:02:53.496254990Z"
    },
    "colab": {
     "base_uri": "https://localhost:8080/"
    },
    "id": "jMTdsU43vVg3",
    "outputId": "38886111-f442-44b4-8398-96bf384d7abd"
   },
   "outputs": [
    {
     "data": {
      "text/plain": [
       "\"import os\\nfrom google.colab import drive\\n\\ndrive.mount('/content/drive', force_remount=True)\\nproj_dir = '/content/drive/MyDrive/AI4Science_Public'\\nos.chdir(proj_dir)\""
      ]
     },
     "execution_count": 22,
     "metadata": {},
     "output_type": "execute_result"
    }
   ],
   "source": [
    "# This cell is only for use on Google Colab. Skip it if you run your code in other environments\n",
    "\n",
    "\"\"\"import os\n",
    "from google.colab import drive\n",
    "\n",
    "drive.mount('/content/drive', force_remount=True)\n",
    "proj_dir = '/content/drive/MyDrive/AI4Science_Public'\n",
    "os.chdir(proj_dir)\"\"\""
   ]
  },
  {
   "cell_type": "markdown",
   "metadata": {
    "collapsed": false
   },
   "source": [
    "# 2. Data preprocessing and selection"
   ]
  },
  {
   "cell_type": "markdown",
   "metadata": {
    "collapsed": false
   },
   "source": [
    "## 2.1. The TCGA Xena dataset"
   ]
  },
  {
   "cell_type": "markdown",
   "metadata": {
    "collapsed": false
   },
   "source": [
    "In TCGA Xena, there is either zero or one cohort related to the trait. We search the names of subdirectories to see if any matches the trait. If a match is found, we directly obtain the file paths."
   ]
  },
  {
   "cell_type": "code",
   "execution_count": 23,
   "metadata": {
    "ExecuteTime": {
     "end_time": "2024-01-02T01:02:56.462746833Z",
     "start_time": "2024-01-02T01:02:55.818581842Z"
    },
    "collapsed": false
   },
   "outputs": [
    {
     "data": {
      "text/plain": [
       "['TCGA_Adrenocortical_Cancer_(ACC)',\n",
       " 'TCGA_Bile_Duct_Cancer_(CHOL)',\n",
       " 'TCGA_Lower_Grade_Glioma_(LGG)',\n",
       " 'TCGA_Acute_Myeloid_Leukemia_(LAML)',\n",
       " 'TCGA_Esophageal_Cancer_(ESCA)',\n",
       " 'TCGA_Thyroid_Cancer_(THCA)',\n",
       " 'TCGA_Ocular_melanomas_(UVM)',\n",
       " 'TCGA_Ovarian_Cancer_(OV)',\n",
       " 'TCGA_Prostate_Cancer_(PRAD)',\n",
       " 'CrawlData.ipynb',\n",
       " 'TCGA_Kidney_Papillary_Cell_Carcinoma_(KIRP)',\n",
       " 'TCGA_Lung_Cancer_(LUNG)',\n",
       " 'TCGA_Endometrioid_Cancer_(UCEC)',\n",
       " 'TCGA_Testicular_Cancer_(TGCT)',\n",
       " 'TCGA_lower_grade_glioma_and_glioblastoma_(GBMLGG)',\n",
       " 'TCGA_Pancreatic_Cancer_(PAAD)',\n",
       " 'TCGA_Glioblastoma_(GBM)',\n",
       " 'TCGA_Melanoma_(SKCM)',\n",
       " 'TCGA_Kidney_Clear_Cell_Carcinoma_(KIRC)',\n",
       " 'TCGA_Mesothelioma_(MESO)',\n",
       " 'TCGA_Rectal_Cancer_(READ)',\n",
       " 'TCGA_Head_and_Neck_Cancer_(HNSC)',\n",
       " 'TCGA_Large_Bcell_Lymphoma_(DLBC)',\n",
       " 'TCGA_Uterine_Carcinosarcoma_(UCS)',\n",
       " 'TCGA_Colon_Cancer_(COAD)',\n",
       " 'TCGA_Breast_Cancer_(BRCA)',\n",
       " 'TCGA_Bladder_Cancer_(BLCA)',\n",
       " 'TCGA_Sarcoma_(SARC)',\n",
       " 'TCGA_Lung_Squamous_Cell_Carcinoma_(LUSC)',\n",
       " 'TCGA_Cervical_Cancer_(CESC)',\n",
       " 'TCGA_Kidney_Chromophobe_(KICH)',\n",
       " 'TCGA_Stomach_Cancer_(STAD)',\n",
       " 'TCGA_Lung_Adenocarcinoma_(LUAD)',\n",
       " '.DS_Store',\n",
       " 'TCGA_Thymoma_(THYM)',\n",
       " 'TCGA_Colon_and_Rectal_Cancer_(COADREAD)',\n",
       " 'TCGA_Pheochromocytoma_Paraganglioma_(PCPG)',\n",
       " 'TCGA_Liver_Cancer_(LIHC)']"
      ]
     },
     "execution_count": 23,
     "metadata": {},
     "output_type": "execute_result"
    }
   ],
   "source": [
    "import os\n",
    "from utils import *\n",
    "\n",
    "dataset = 'TCGA'\n",
    "dataset_dir = os.path.join(DATA_ROOT, dataset)\n",
    "os.listdir(dataset_dir)[:]"
   ]
  },
  {
   "cell_type": "markdown",
   "metadata": {
    "collapsed": false
   },
   "source": [
    "If no match is found, jump directly to GEO in Part 2.2"
   ]
  },
  {
   "cell_type": "code",
   "execution_count": 24,
   "metadata": {
    "collapsed": false
   },
   "outputs": [],
   "source": [
    "trait_subdir = \"TCGA_Lung_Cancer_(LUNG)\"\n",
    "cohort = 'Xena'\n",
    "# All the cancer traits in Xena are binary\n",
    "trait_type = 'binary'\n",
    "# Once a relevant cohort is found in Xena, we can generally assume the gene and clinical data are available\n",
    "is_available = True\n",
    "\n",
    "clinical_data_file = os.path.join(dataset_dir, trait_subdir, 'TCGA.LUNG.sampleMap_LUNG_clinicalMatrix')\n",
    "genetic_data_file = os.path.join(dataset_dir, trait_subdir, 'TCGA.LUNG.sampleMap_HiSeqV2_PANCAN.gz')"
   ]
  },
  {
   "cell_type": "code",
   "execution_count": 25,
   "metadata": {
    "id": "MudwB-_iz7sc"
   },
   "outputs": [],
   "source": [
    "import pandas as pd\n",
    "\n",
    "clinical_data = pd.read_csv(clinical_data_file, sep='\\t', index_col=0)\n",
    "genetic_data = pd.read_csv(genetic_data_file, compression='gzip', sep='\\t', index_col=0)\n",
    "age_col = gender_col = None"
   ]
  },
  {
   "cell_type": "code",
   "execution_count": 26,
   "metadata": {
    "collapsed": false
   },
   "outputs": [],
   "source": [
    "_, clinical_data_cols = check_rows_and_columns(clinical_data)"
   ]
  },
  {
   "cell_type": "code",
   "execution_count": 27,
   "metadata": {
    "collapsed": false
   },
   "outputs": [
    {
     "data": {
      "text/plain": [
       "['ABSOLUTE_Ploidy',\n",
       " 'ABSOLUTE_Purity',\n",
       " 'AKT1',\n",
       " 'ALK_translocation',\n",
       " 'BRAF',\n",
       " 'CBL',\n",
       " 'CTNNB1',\n",
       " 'Canonical_mut_in_KRAS_EGFR_ALK',\n",
       " 'Cnncl_mt_n_KRAS_EGFR_ALK_RET_ROS1_BRAF_ERBB2_HRAS_NRAS_AKT1_MAP2',\n",
       " 'EGFR']"
      ]
     },
     "execution_count": 27,
     "metadata": {},
     "output_type": "execute_result"
    }
   ],
   "source": [
    "clinical_data_cols[:10]"
   ]
  },
  {
   "cell_type": "markdown",
   "metadata": {
    "ExecuteTime": {
     "end_time": "2023-12-28T20:20:11.841042813Z",
     "start_time": "2023-12-28T20:20:11.834458206Z"
    },
    "collapsed": false
   },
   "source": [
    "Read all the column names in the clinical dataset, to find the columns that record information about age or gender.\n",
    "Reference prompt:"
   ]
  },
  {
   "cell_type": "code",
   "execution_count": 28,
   "metadata": {
    "collapsed": false
   },
   "outputs": [
    {
     "data": {
      "text/plain": [
       "\"\\nBelow is a list of column names from a biomedical dataset. Please examine it and identify the columns that are likely to contain information about patients' age. Additionally, please do the same for columns that may hold data on patients' gender. Please provide your answer by strictly following this format, without redundant words:\\ncandidate_age_cols = [col_name1, col_name2, ...]\\ncandidate_gender_cols = [col_name1, col_name2, ...]\\nIf no columns match a criterion, please provide an empty list.\\n\\nColumn names:\\n['ABSOLUTE_Ploidy', 'ABSOLUTE_Purity', 'AKT1', 'ALK_translocation', 'BRAF', 'CBL', 'CTNNB1', 'Canonical_mut_in_KRAS_EGFR_ALK', 'Cnncl_mt_n_KRAS_EGFR_ALK_RET_ROS1_BRAF_ERBB2_HRAS_NRAS_AKT1_MAP2', 'EGFR', 'ERBB2', 'ERBB4', 'Estimated_allele_fraction_of_a_clonal_varnt_prsnt_t_1_cpy_pr_cll', 'Expression_Subtype', 'HRAS', 'KRAS', 'MAP2K1', 'MET', 'NRAS', 'PIK3CA', 'PTPN11', 'Pathology', 'Pathology_Updated', 'RET_translocation', 'ROS1_translocation', 'STK11', 'WGS_as_of_20120731_0_no_1_yes', '_INTEGRATION', '_PANCAN_CNA_PANCAN_K8', '_PANCAN_Cluster_Cluster_PANCAN', '_PANCAN_DNAMethyl_PANCAN', '_PANCAN_RPPA_PANCAN_K8', '_PANCAN_UNC_RNAseq_PANCAN_K16', '_PANCAN_miRNA_PANCAN', '_PANCAN_mutation_PANCAN', '_PATIENT', '_cohort', '_primary_disease', '_primary_site', 'additional_pharmaceutical_therapy', 'additional_radiation_therapy', 'additional_surgery_locoregional_procedure', 'additional_surgery_metastatic_procedure', 'age_at_initial_pathologic_diagnosis', 'anatomic_neoplasm_subdivision', 'anatomic_neoplasm_subdivision_other', 'bcr_followup_barcode', 'bcr_patient_barcode', 'bcr_sample_barcode', 'days_to_additional_surgery_locoregional_procedure', 'days_to_additional_surgery_metastatic_procedure', 'days_to_birth', 'days_to_collection', 'days_to_death', 'days_to_initial_pathologic_diagnosis', 'days_to_last_followup', 'days_to_new_tumor_event_after_initial_treatment', 'disease_code', 'dlco_predictive_percent', 'eastern_cancer_oncology_group', 'egfr_mutation_performed', 'egfr_mutation_result', 'eml4_alk_translocation_method', 'eml4_alk_translocation_performed', 'followup_case_report_form_submission_reason', 'followup_treatment_success', 'form_completion_date', 'gender', 'histological_type', 'history_of_neoadjuvant_treatment', 'icd_10', 'icd_o_3_histology', 'icd_o_3_site', 'informed_consent_verified', 'initial_weight', 'intermediate_dimension', 'is_ffpe', 'karnofsky_performance_score', 'kras_gene_analysis_performed', 'kras_mutation_found', 'kras_mutation_result', 'location_in_lung_parenchyma', 'longest_dimension', 'lost_follow_up', 'new_neoplasm_event_type', 'new_tumor_event_after_initial_treatment', 'number_pack_years_smoked', 'oct_embedded', 'other_dx', 'pathologic_M', 'pathologic_N', 'pathologic_T', 'pathologic_stage', 'pathology_report_file_name', 'patient_id', 'performance_status_scale_timing', 'person_neoplasm_cancer_status', 'post_bronchodilator_fev1_fvc_percent', 'post_bronchodilator_fev1_percent', 'pre_bronchodilator_fev1_fvc_percent', 'pre_bronchodilator_fev1_percent', 'primary_therapy_outcome_success', 'progression_determined_by', 'project_code', 'pulmonary_function_test_performed', 'radiation_therapy', 'residual_tumor', 'sample_type', 'sample_type_id', 'shortest_dimension', 'stopped_smoking_year', 'system_version', 'targeted_molecular_therapy', 'tissue_prospective_collection_indicator', 'tissue_retrospective_collection_indicator', 'tissue_source_site', 'tobacco_smoking_history', 'tobacco_smoking_history_indicator', 'tumor_tissue_site', 'vial_number', 'vital_status', 'year_of_initial_pathologic_diagnosis', 'year_of_tobacco_smoking_onset', '_GENOMIC_ID_TCGA_LUNG_exp_HiSeqV2_exon', '_GENOMIC_ID_TCGA_LUNG_hMethyl27', '_GENOMIC_ID_TCGA_LUNG_mutation', '_GENOMIC_ID_TCGA_LUNG_exp_HiSeqV2_PANCAN', '_GENOMIC_ID_TCGA_LUNG_hMethyl450', '_GENOMIC_ID_TCGA_LUNG_gistic2thd', '_GENOMIC_ID_TCGA_LUNG_G4502A_07_3', '_GENOMIC_ID_TCGA_LUNG_exp_HiSeqV2', '_GENOMIC_ID_TCGA_LUNG_gistic2', '_GENOMIC_ID_TCGA_LUNG_RPPA_RBN']\\n\""
      ]
     },
     "execution_count": 28,
     "metadata": {},
     "output_type": "execute_result"
    }
   ],
   "source": [
    "f'''\n",
    "Below is a list of column names from a biomedical dataset. Please examine it and identify the columns that are likely to contain information about patients' age. Additionally, please do the same for columns that may hold data on patients' gender. Please provide your answer by strictly following this format, without redundant words:\n",
    "candidate_age_cols = [col_name1, col_name2, ...]\n",
    "candidate_gender_cols = [col_name1, col_name2, ...]\n",
    "If no columns match a criterion, please provide an empty list.\n",
    "\n",
    "Column names:\n",
    "{clinical_data_cols}\n",
    "'''"
   ]
  },
  {
   "cell_type": "code",
   "execution_count": 29,
   "metadata": {
    "collapsed": false
   },
   "outputs": [],
   "source": [
    "candidate_age_cols = ['age_at_initial_pathologic_diagnosis', 'days_to_birth', 'days_to_collection', 'days_to_death', 'days_to_initial_pathologic_diagnosis', 'days_to_last_followup', 'days_to_new_tumor_event_after_initial_treatment', 'stopped_smoking_year', 'year_of_initial_pathologic_diagnosis', 'year_of_tobacco_smoking_onset']\n",
    "\n",
    "candidate_gender_cols = ['gender']"
   ]
  },
  {
   "cell_type": "markdown",
   "metadata": {
    "ExecuteTime": {
     "end_time": "2023-12-31T03:57:44.207565572Z",
     "start_time": "2023-12-31T03:57:44.202177544Z"
    },
    "collapsed": false
   },
   "source": [
    "Choose a single column from the candidate columns that record age and gender information respectively.\n",
    "If no column meets the requirement, keep 'age_col' or 'gender_col' to None"
   ]
  },
  {
   "cell_type": "code",
   "execution_count": 30,
   "metadata": {
    "collapsed": false
   },
   "outputs": [
    {
     "data": {
      "text/plain": [
       "{'age_at_initial_pathologic_diagnosis': [70.0, 67.0, 79.0, 68.0, 66.0],\n",
       " 'days_to_birth': [-25752.0, -24532.0, -29068.0, -24868.0, -24411.0],\n",
       " 'days_to_collection': [nan, nan, nan, nan, nan],\n",
       " 'days_to_death': [nan, nan, '121', nan, nan],\n",
       " 'days_to_initial_pathologic_diagnosis': [0.0, 0.0, 0.0, 0.0, 0.0],\n",
       " 'days_to_last_followup': ['0', '1523', nan, '607', '426'],\n",
       " 'days_to_new_tumor_event_after_initial_treatment': [nan,\n",
       "  nan,\n",
       "  nan,\n",
       "  334.0,\n",
       "  183.0],\n",
       " 'stopped_smoking_year': [nan, nan, nan, nan, 1987.0],\n",
       " 'year_of_initial_pathologic_diagnosis': [2009.0,\n",
       "  2007.0,\n",
       "  2007.0,\n",
       "  2009.0,\n",
       "  2009.0],\n",
       " 'year_of_tobacco_smoking_onset': [nan, nan, nan, nan, 1963.0]}"
      ]
     },
     "execution_count": 30,
     "metadata": {},
     "output_type": "execute_result"
    }
   ],
   "source": [
    "preview_df(clinical_data[candidate_age_cols])"
   ]
  },
  {
   "cell_type": "code",
   "execution_count": 31,
   "metadata": {
    "collapsed": false
   },
   "outputs": [],
   "source": [
    "age_col = 'age_at_initial_pathologic_diagnosis'"
   ]
  },
  {
   "cell_type": "code",
   "execution_count": 32,
   "metadata": {
    "collapsed": false
   },
   "outputs": [
    {
     "data": {
      "text/plain": [
       "{'gender': ['MALE', 'MALE', 'FEMALE', 'MALE', 'MALE']}"
      ]
     },
     "execution_count": 32,
     "metadata": {},
     "output_type": "execute_result"
    }
   ],
   "source": [
    "preview_df(clinical_data[candidate_gender_cols])"
   ]
  },
  {
   "cell_type": "code",
   "execution_count": 33,
   "metadata": {
    "collapsed": false
   },
   "outputs": [],
   "source": [
    "gender_col = 'gender'"
   ]
  },
  {
   "cell_type": "code",
   "execution_count": 34,
   "metadata": {
    "collapsed": false
   },
   "outputs": [],
   "source": [
    "selected_clinical_data = xena_select_clinical_features(clinical_data, TRAIT, age_col, gender_col)"
   ]
  },
  {
   "cell_type": "code",
   "execution_count": 35,
   "metadata": {
    "collapsed": false
   },
   "outputs": [
    {
     "name": "stderr",
     "output_type": "stream",
     "text": [
      "15 input query terms found dup hits:\t[('GTF2IP1', 2), ('RBMY1A3P', 3), ('HERC2P2', 3), ('WASH3P', 3), ('NUDT9P1', 2), ('SNORD104', 2), ('\n",
      "154 input query terms found no hit:\t['C16orf13', 'C16orf11', 'LOC100272146', 'LOC339240', 'NACAP1', 'LOC441204', 'KLRA1', 'FAM183A', 'FA\n",
      "9 input query terms found dup hits:\t[('SUGT1P1', 2), ('SNORD127', 2), ('SNORA62', 4), ('IFITM4P', 8), ('HLA-DRB6', 2), ('FUNDC2P2', 2), \n",
      "190 input query terms found no hit:\t['NARFL', 'NFKBIL2', 'LOC150197', 'TMEM84', 'LOC162632', 'PPPDE1', 'PPPDE2', 'C1orf38', 'C1orf31', '\n",
      "20 input query terms found dup hits:\t[('PIP5K1P1', 2), ('SNORA40', 2), ('SNORD116-24', 2), ('SNORD116-25', 2), ('SNORD116-23', 2), ('SNOR\n",
      "149 input query terms found no hit:\t['FAM153C', 'C9orf167', 'CLK2P', 'CCDC76', 'CCDC75', 'CCDC72', 'HIST3H2BB', 'PRAC', 'LOC285780', 'LO\n",
      "18 input query terms found dup hits:\t[('SNORD58C', 2), ('UOX', 2), ('UBE2Q2P1', 3), ('PPP4R1L', 2), ('SNORD63', 3), ('SNORD116-22', 2), (\n",
      "158 input query terms found no hit:\t['C16orf91', 'LOC100130581', 'SFRS2', 'C16orf5', 'C16orf7', 'C16orf3', 'C21orf7', 'C21orf2', 'LOC389\n",
      "19 input query terms found dup hits:\t[('FAM66D', 2), ('FAM66A', 2), ('THSD1P1', 2), ('MSLNL', 2), ('EEF1DP3', 2), ('PGM5P2', 2), ('UBE2MP\n",
      "169 input query terms found no hit:\t['LOC284551', 'LOC285548', 'LOC728410', 'LOC541473', 'DULLARD', 'KIAA0368', 'EFTUD1', 'TWISTNB', 'SF\n",
      "17 input query terms found dup hits:\t[('S100A7L2', 2), ('POM121L8P', 2), ('SNORD16', 2), ('MEG8', 2), ('RPL23P8', 2), ('KIR3DX1', 5), ('R\n",
      "165 input query terms found no hit:\t['TMEM188', 'PDZD3', 'FAM102B', 'FAM102A', 'SMCR7L', 'G6PC', 'OSTCL', 'LOC653544', 'LOC653545', 'USP\n",
      "20 input query terms found dup hits:\t[('SNORD50B', 2), ('PCNAP1', 2), ('SNORA63', 7), ('C5orf60', 2), ('CEACAM22P', 2), ('SNORA16A', 2), \n",
      "147 input query terms found no hit:\t['LRRC37A4', 'LOC100131726', 'CPSF3L', 'COL4A3BP', 'PAR1', 'LOC92973', 'MICALCL', 'SMCR7', 'HIST4H4'\n",
      "15 input query terms found dup hits:\t[('SDHAP3', 2), ('PSORS1C3', 8), ('POM121L10P', 2), ('HLA-J', 9), ('HLA-H', 9), ('HLA-L', 7), ('NME2\n",
      "153 input query terms found no hit:\t['LOC100131193', 'KIAA1109', 'DUS2L', 'MYST1', 'IGLL3', 'C12orf69', 'NEURL', 'FAM188B', 'FLJ32063', \n",
      "8 input query terms found dup hits:\t[('PLGLA', 2), ('PA2G4P4', 2), ('RPL23AP7', 2), ('ST20', 2), ('RPL23AP64', 3), ('DPY19L2P2', 3), ('F\n",
      "177 input query terms found no hit:\t['LOC283314', 'RBM9', 'C20orf118', 'LOC150786', 'C20orf112', 'C20orf111', 'C20orf117', 'C20orf114', \n",
      "19 input query terms found dup hits:\t[('TPTE2P1', 2), ('FOLH1B', 2), ('ID2B', 2), ('MSX2P1', 2), ('RAET1K', 2), ('BMS1P4', 2), ('RPL23AP8\n",
      "175 input query terms found no hit:\t['MYEOV2', 'FAM35B2', 'C20orf85', 'FAM175A', 'C17orf73', 'C17orf72', 'C17orf71', 'C17orf70', 'C17orf\n",
      "26 input query terms found dup hits:\t[('CATSPER2P1', 2), ('AQP7P3', 2), ('AQP7P1', 2), ('ATP8B5P', 2), ('OR7E91P', 2), ('ZNF204P', 2), ('\n",
      "144 input query terms found no hit:\t['BASE', 'C14orf21', 'C14orf23', 'FAM5B', 'TROVE2', 'C18orf62', 'LOC401052', 'GNB2L1', 'FAM19A4', 'F\n",
      "17 input query terms found dup hits:\t[('P2RX6P', 2), ('RP9P', 2), ('SNORD1A', 2), ('SNORD10', 2), ('SNORD19', 2), ('NRADDP', 2), ('AOX2P'\n",
      "169 input query terms found no hit:\t['TTC15', 'C4orf29', 'FAM48A', 'C4orf21', 'C3orf65', 'C4orf23', 'C3orf67', 'LOC144742', 'C3orf63', '\n",
      "17 input query terms found dup hits:\t[('SNORA58', 2), ('PMCHL1', 2), ('FAM95B1', 2), ('TMEM191A', 2), ('RPL13P5', 2), ('SBDSP1', 2), ('CY\n",
      "143 input query terms found no hit:\t['LOC254312', 'ZNF542', 'CSDAP1', 'FAM73A', 'FAM73B', 'TCTE3', 'ZNF37B', 'LOC728875', 'KIAA1826', 'P\n",
      "16 input query terms found dup hits:\t[('ZFP91-CNTF', 2), ('SNORD116-27', 2), ('GSTM2P1', 2), ('C3P1', 2), ('NCF1B', 2), ('SNORD114-4', 2)\n",
      "138 input query terms found no hit:\t['LOC100129716', 'C14orf184', 'C14orf181', 'C14orf183', 'C14orf182', 'C7orf26', 'C7orf27', 'C7orf23'\n",
      "14 input query terms found dup hits:\t[('ANXA2P1', 2), ('ANXA2P3', 2), ('ANXA2P2', 2), ('SNORD116-12', 2), ('ZNF286B', 2), ('SAA3P', 2), (\n",
      "132 input query terms found no hit:\t['AKR1CL1', 'CCDC21', 'CCDC23', 'TMEM111', 'APOB48R', 'LOC595101', 'KIAA1430', 'KIAA1432', 'ORC4L', \n",
      "15 input query terms found dup hits:\t[('TCP10L2', 2), ('CXADRP3', 2), ('SNORD116-13', 2), ('TPTE2P3', 2), ('SNORD116-15', 2), ('SNORD116-\n",
      "175 input query terms found no hit:\t['DFNB59', 'LOC100170939', 'FAM36A', 'C2orf70', 'C2orf71', 'C2orf77', 'C2orf79', 'LOC100128191', 'HR\n",
      "16 input query terms found dup hits:\t[('PMS2CL', 2), ('BRD7P3', 2), ('SCARNA17', 2), ('GABARAPL3', 2), ('MT1IP', 2), ('ADAM6', 3), ('SNOR\n",
      "142 input query terms found no hit:\t['C9orf30', 'PEG3AS', 'C9orf37', 'TXNDC3', 'LOC442308', 'FAM46D', 'FAM46A', 'FAM46B', 'FAM46C', 'WDR\n",
      "13 input query terms found dup hits:\t[('FAM197Y2', 3), ('SNORD1C', 2), ('SNORA71B', 2), ('NAT8B', 3), ('SNORA21', 2), ('VENTXP7', 2), ('G\n",
      "148 input query terms found no hit:\t['FCGR1B', 'RG9MTD2', 'RARS', 'LOC727677', 'CCRN4L', 'SEPT14', 'HKR1', 'C1orf112', 'LOC100270710', '\n",
      "13 input query terms found dup hits:\t[('OR6W1P', 3), ('LYPLA2P1', 6), ('RPL23AP53', 2), ('TRPC2', 2), ('RBMY2FP', 2), ('BAGE2', 2), ('POM\n",
      "150 input query terms found no hit:\t['SIP1', 'FAM129C', 'GIF', 'TMCO7', 'CXorf61', 'CXorf64', 'ZNF192', 'SEPP1', 'KIRREL', 'MGC16121', '\n",
      "18 input query terms found dup hits:\t[('ISCA1P1', 2), ('SNORD116-5', 2), ('PCDHB19P', 3), ('NAPSB', 2), ('WASH7P', 2), ('TTTY11', 2), ('H\n",
      "135 input query terms found no hit:\t['PPYR1', 'FAM82A2', 'FLJ37453', 'FAM82A1', 'KIAA0947', 'MOBKL2B', 'MOBKL2C', 'MOBKL2A', 'CMAH', 'GR\n",
      "8 input query terms found dup hits:\t[('SNORD12B', 2), ('SNORD116-8', 2), ('SNORD116-4', 2), ('SNORD116-1', 2), ('SNORD116-3', 2), ('SNOR\n",
      "78 input query terms found no hit:\t['C14orf174', 'C14orf176', 'C14orf177', 'C14orf179', 'PTPLB', 'SGEF', 'LOC400752', 'GRLF1', 'SPANXE'\n"
     ]
    }
   ],
   "source": [
    "if NORMALIZE_GENE:\n",
    "    genetic_data = normalize_gene_symbols_in_index(genetic_data)"
   ]
  },
  {
   "cell_type": "code",
   "execution_count": 36,
   "metadata": {
    "collapsed": false
   },
   "outputs": [
    {
     "data": {
      "text/html": [
       "<div>\n",
       "<style scoped>\n",
       "    .dataframe tbody tr th:only-of-type {\n",
       "        vertical-align: middle;\n",
       "    }\n",
       "\n",
       "    .dataframe tbody tr th {\n",
       "        vertical-align: top;\n",
       "    }\n",
       "\n",
       "    .dataframe thead th {\n",
       "        text-align: right;\n",
       "    }\n",
       "</style>\n",
       "<table border=\"1\" class=\"dataframe\">\n",
       "  <thead>\n",
       "    <tr style=\"text-align: right;\">\n",
       "      <th></th>\n",
       "      <th>Lung-Cancer</th>\n",
       "      <th>Age</th>\n",
       "      <th>Gender</th>\n",
       "      <th>ARHGEF10L</th>\n",
       "      <th>HIF3A</th>\n",
       "      <th>RNF17</th>\n",
       "      <th>RNF10</th>\n",
       "      <th>RNF11</th>\n",
       "      <th>RNF13</th>\n",
       "      <th>GTF2IP1</th>\n",
       "      <th>...</th>\n",
       "      <th>SLC7A10</th>\n",
       "      <th>PLA2G2C</th>\n",
       "      <th>TULP2</th>\n",
       "      <th>NPY5R</th>\n",
       "      <th>GNGT2</th>\n",
       "      <th>GNGT1</th>\n",
       "      <th>TULP3</th>\n",
       "      <th>BCL6B</th>\n",
       "      <th>GSTK1</th>\n",
       "      <th>SELP</th>\n",
       "    </tr>\n",
       "    <tr>\n",
       "      <th>sampleID</th>\n",
       "      <th></th>\n",
       "      <th></th>\n",
       "      <th></th>\n",
       "      <th></th>\n",
       "      <th></th>\n",
       "      <th></th>\n",
       "      <th></th>\n",
       "      <th></th>\n",
       "      <th></th>\n",
       "      <th></th>\n",
       "      <th></th>\n",
       "      <th></th>\n",
       "      <th></th>\n",
       "      <th></th>\n",
       "      <th></th>\n",
       "      <th></th>\n",
       "      <th></th>\n",
       "      <th></th>\n",
       "      <th></th>\n",
       "      <th></th>\n",
       "      <th></th>\n",
       "    </tr>\n",
       "  </thead>\n",
       "  <tbody>\n",
       "    <tr>\n",
       "      <th>TCGA-05-4244-01</th>\n",
       "      <td>1</td>\n",
       "      <td>70.0</td>\n",
       "      <td>1.0</td>\n",
       "      <td>-0.056592</td>\n",
       "      <td>2.128674</td>\n",
       "      <td>-0.531035</td>\n",
       "      <td>-0.185972</td>\n",
       "      <td>-0.190878</td>\n",
       "      <td>-0.11891</td>\n",
       "      <td>-0.659794</td>\n",
       "      <td>...</td>\n",
       "      <td>3.634614</td>\n",
       "      <td>0.677218</td>\n",
       "      <td>0.015022</td>\n",
       "      <td>-1.155117</td>\n",
       "      <td>0.528367</td>\n",
       "      <td>2.75061</td>\n",
       "      <td>0.428423</td>\n",
       "      <td>-0.195527</td>\n",
       "      <td>-0.324695</td>\n",
       "      <td>0.193167</td>\n",
       "    </tr>\n",
       "    <tr>\n",
       "      <th>TCGA-05-4249-01</th>\n",
       "      <td>1</td>\n",
       "      <td>67.0</td>\n",
       "      <td>1.0</td>\n",
       "      <td>-0.569692</td>\n",
       "      <td>-0.318126</td>\n",
       "      <td>-0.531035</td>\n",
       "      <td>0.237428</td>\n",
       "      <td>0.011822</td>\n",
       "      <td>-0.00611</td>\n",
       "      <td>1.018406</td>\n",
       "      <td>...</td>\n",
       "      <td>4.908014</td>\n",
       "      <td>0.888518</td>\n",
       "      <td>-0.031778</td>\n",
       "      <td>-0.393117</td>\n",
       "      <td>1.632467</td>\n",
       "      <td>2.33551</td>\n",
       "      <td>-0.145577</td>\n",
       "      <td>-0.276027</td>\n",
       "      <td>-1.219395</td>\n",
       "      <td>1.850967</td>\n",
       "    </tr>\n",
       "    <tr>\n",
       "      <th>TCGA-05-4250-01</th>\n",
       "      <td>1</td>\n",
       "      <td>79.0</td>\n",
       "      <td>0.0</td>\n",
       "      <td>-0.899992</td>\n",
       "      <td>-0.918126</td>\n",
       "      <td>-0.531035</td>\n",
       "      <td>-0.621472</td>\n",
       "      <td>-0.454178</td>\n",
       "      <td>0.58719</td>\n",
       "      <td>-0.198894</td>\n",
       "      <td>...</td>\n",
       "      <td>0.489514</td>\n",
       "      <td>-0.086682</td>\n",
       "      <td>-0.748878</td>\n",
       "      <td>-1.173917</td>\n",
       "      <td>1.966367</td>\n",
       "      <td>-1.28139</td>\n",
       "      <td>-0.374877</td>\n",
       "      <td>0.714373</td>\n",
       "      <td>0.112305</td>\n",
       "      <td>-0.532833</td>\n",
       "    </tr>\n",
       "    <tr>\n",
       "      <th>TCGA-05-4382-01</th>\n",
       "      <td>1</td>\n",
       "      <td>68.0</td>\n",
       "      <td>1.0</td>\n",
       "      <td>0.667508</td>\n",
       "      <td>3.895974</td>\n",
       "      <td>-0.221535</td>\n",
       "      <td>-0.367272</td>\n",
       "      <td>0.131822</td>\n",
       "      <td>0.97629</td>\n",
       "      <td>-0.494994</td>\n",
       "      <td>...</td>\n",
       "      <td>5.730914</td>\n",
       "      <td>-0.086682</td>\n",
       "      <td>1.013722</td>\n",
       "      <td>-1.587117</td>\n",
       "      <td>0.359267</td>\n",
       "      <td>2.59051</td>\n",
       "      <td>0.806623</td>\n",
       "      <td>0.367373</td>\n",
       "      <td>-0.494595</td>\n",
       "      <td>-1.062233</td>\n",
       "    </tr>\n",
       "    <tr>\n",
       "      <th>TCGA-05-4384-01</th>\n",
       "      <td>1</td>\n",
       "      <td>66.0</td>\n",
       "      <td>1.0</td>\n",
       "      <td>-0.316892</td>\n",
       "      <td>2.380374</td>\n",
       "      <td>0.156865</td>\n",
       "      <td>0.232828</td>\n",
       "      <td>0.054822</td>\n",
       "      <td>0.27059</td>\n",
       "      <td>0.128606</td>\n",
       "      <td>...</td>\n",
       "      <td>4.163014</td>\n",
       "      <td>0.601218</td>\n",
       "      <td>-0.060978</td>\n",
       "      <td>-0.435417</td>\n",
       "      <td>1.111467</td>\n",
       "      <td>-1.28139</td>\n",
       "      <td>-0.128477</td>\n",
       "      <td>1.469373</td>\n",
       "      <td>0.194605</td>\n",
       "      <td>1.404667</td>\n",
       "    </tr>\n",
       "  </tbody>\n",
       "</table>\n",
       "<p>5 rows × 17342 columns</p>\n",
       "</div>"
      ],
      "text/plain": [
       "                 Lung-Cancer   Age  Gender  ARHGEF10L     HIF3A     RNF17  \\\n",
       "sampleID                                                                    \n",
       "TCGA-05-4244-01            1  70.0     1.0  -0.056592  2.128674 -0.531035   \n",
       "TCGA-05-4249-01            1  67.0     1.0  -0.569692 -0.318126 -0.531035   \n",
       "TCGA-05-4250-01            1  79.0     0.0  -0.899992 -0.918126 -0.531035   \n",
       "TCGA-05-4382-01            1  68.0     1.0   0.667508  3.895974 -0.221535   \n",
       "TCGA-05-4384-01            1  66.0     1.0  -0.316892  2.380374  0.156865   \n",
       "\n",
       "                    RNF10     RNF11    RNF13   GTF2IP1  ...   SLC7A10  \\\n",
       "sampleID                                                ...             \n",
       "TCGA-05-4244-01 -0.185972 -0.190878 -0.11891 -0.659794  ...  3.634614   \n",
       "TCGA-05-4249-01  0.237428  0.011822 -0.00611  1.018406  ...  4.908014   \n",
       "TCGA-05-4250-01 -0.621472 -0.454178  0.58719 -0.198894  ...  0.489514   \n",
       "TCGA-05-4382-01 -0.367272  0.131822  0.97629 -0.494994  ...  5.730914   \n",
       "TCGA-05-4384-01  0.232828  0.054822  0.27059  0.128606  ...  4.163014   \n",
       "\n",
       "                  PLA2G2C     TULP2     NPY5R     GNGT2    GNGT1     TULP3  \\\n",
       "sampleID                                                                     \n",
       "TCGA-05-4244-01  0.677218  0.015022 -1.155117  0.528367  2.75061  0.428423   \n",
       "TCGA-05-4249-01  0.888518 -0.031778 -0.393117  1.632467  2.33551 -0.145577   \n",
       "TCGA-05-4250-01 -0.086682 -0.748878 -1.173917  1.966367 -1.28139 -0.374877   \n",
       "TCGA-05-4382-01 -0.086682  1.013722 -1.587117  0.359267  2.59051  0.806623   \n",
       "TCGA-05-4384-01  0.601218 -0.060978 -0.435417  1.111467 -1.28139 -0.128477   \n",
       "\n",
       "                    BCL6B     GSTK1      SELP  \n",
       "sampleID                                       \n",
       "TCGA-05-4244-01 -0.195527 -0.324695  0.193167  \n",
       "TCGA-05-4249-01 -0.276027 -1.219395  1.850967  \n",
       "TCGA-05-4250-01  0.714373  0.112305 -0.532833  \n",
       "TCGA-05-4382-01  0.367373 -0.494595 -1.062233  \n",
       "TCGA-05-4384-01  1.469373  0.194605  1.404667  \n",
       "\n",
       "[5 rows x 17342 columns]"
      ]
     },
     "execution_count": 36,
     "metadata": {},
     "output_type": "execute_result"
    }
   ],
   "source": [
    "merged_data = selected_clinical_data.join(genetic_data.T).dropna()\n",
    "merged_data.head()"
   ]
  },
  {
   "cell_type": "code",
   "execution_count": 37,
   "metadata": {
    "collapsed": false
   },
   "outputs": [
    {
     "name": "stdout",
     "output_type": "stream",
     "text": [
      "The merged dataset contains 1100 samples.\n"
     ]
    }
   ],
   "source": [
    "print(f\"The merged dataset contains {len(merged_data)} samples.\")"
   ]
  },
  {
   "cell_type": "code",
   "execution_count": 38,
   "metadata": {
    "collapsed": false
   },
   "outputs": [
    {
     "name": "stdout",
     "output_type": "stream",
     "text": [
      "For the feature 'Lung-Cancer', the least common label is '0' with 110 occurrences. This represents 10.00% of the dataset.\n",
      "The distribution of the feature 'Lung-Cancer' in this dataset is fine.\n",
      "\n",
      "Quartiles for 'Age':\n",
      "  25%: 60.0\n",
      "  50% (Median): 67.0\n",
      "  75%: 73.0\n",
      "Min: 38.0\n",
      "Max: 90.0\n",
      "The distribution of the feature 'Age' in this dataset is fine.\n",
      "\n",
      "For the feature 'Gender', the least common label is '0.0' with 443 occurrences. This represents 40.27% of the dataset.\n",
      "The distribution of the feature 'Gender' in this dataset is fine.\n",
      "\n"
     ]
    },
    {
     "data": {
      "text/plain": [
       "False"
      ]
     },
     "execution_count": 38,
     "metadata": {},
     "output_type": "execute_result"
    }
   ],
   "source": [
    "is_trait_biased, merge_data = judge_and_remove_biased_features(merged_data, TRAIT, trait_type=trait_type)\n",
    "is_trait_biased"
   ]
  },
  {
   "cell_type": "code",
   "execution_count": 39,
   "metadata": {
    "collapsed": false
   },
   "outputs": [],
   "source": [
    "merged_data.head()\n",
    "if not is_trait_biased:\n",
    "    merge_data.to_csv(os.path.join(OUTPUT_DIR, cohort+'.csv'), index=False)"
   ]
  },
  {
   "cell_type": "code",
   "execution_count": 40,
   "metadata": {
    "collapsed": false
   },
   "outputs": [
    {
     "name": "stdout",
     "output_type": "stream",
     "text": [
      "A new JSON file was created at: ../../output1/Yuxuan/Lung-Cancer/cohort_info.json\n"
     ]
    }
   ],
   "source": [
    "save_cohort_info(cohort, JSON_PATH, is_available, is_trait_biased, merged_data)"
   ]
  },
  {
   "cell_type": "markdown",
   "metadata": {
    "ExecuteTime": {
     "end_time": "2023-12-28T21:28:38.028916303Z",
     "start_time": "2023-12-28T21:28:38.016245426Z"
    },
    "collapsed": false
   },
   "source": [
    "## 2.2. The GEO dataset"
   ]
  },
  {
   "cell_type": "markdown",
   "metadata": {
    "ExecuteTime": {
     "end_time": "2023-12-31T03:25:23.253882615Z",
     "start_time": "2023-12-31T03:25:23.244062710Z"
    },
    "collapsed": false
   },
   "source": [
    "In GEO, there may be one or multiple cohorts for a trait. Each cohort is identified by an accession number. We iterate over all accession numbers in the corresponding subdirectory, preprocess the cohort data, and save them to csv files."
   ]
  },
  {
   "cell_type": "code",
   "execution_count": 35,
   "metadata": {
    "ExecuteTime": {
     "end_time": "2024-01-02T01:02:59.503572381Z",
     "start_time": "2024-01-02T01:02:59.491400342Z"
    },
    "collapsed": false
   },
   "outputs": [
    {
     "data": {
      "text/plain": [
       "['GSE248830']"
      ]
     },
     "execution_count": 35,
     "metadata": {},
     "output_type": "execute_result"
    }
   ],
   "source": [
    "dataset = 'GEO'\n",
    "trait_subdir = \"Lung-Cancer\"\n",
    "\n",
    "trait_path = os.path.join(DATA_ROOT, dataset, trait_subdir)\n",
    "os.listdir(trait_path)"
   ]
  },
  {
   "cell_type": "markdown",
   "metadata": {
    "ExecuteTime": {
     "end_time": "2023-12-31T03:39:42.634870142Z",
     "start_time": "2023-12-31T03:39:42.534093295Z"
    },
    "collapsed": false
   },
   "source": [
    "Repeat the below steps for all the accession numbers"
   ]
  },
  {
   "cell_type": "code",
   "execution_count": 36,
   "metadata": {
    "ExecuteTime": {
     "end_time": "2024-01-02T01:03:00.287218362Z",
     "start_time": "2024-01-02T01:03:00.278758251Z"
    },
    "collapsed": false
   },
   "outputs": [
    {
     "data": {
      "text/plain": [
       "('/home/yxcheng/GEO/Lung-Cancer/GSE248830/GSE248830_family.soft.gz',\n",
       " '/home/yxcheng/GEO/Lung-Cancer/GSE248830/GSE248830_series_matrix.txt.gz')"
      ]
     },
     "execution_count": 36,
     "metadata": {},
     "output_type": "execute_result"
    }
   ],
   "source": [
    "cohort = accession_num = \"GSE248830\"\n",
    "cohort_dir = os.path.join(trait_path, accession_num)\n",
    "soft_file, matrix_file = get_relevant_filepaths(cohort_dir)\n",
    "soft_file, matrix_file"
   ]
  },
  {
   "cell_type": "markdown",
   "metadata": {
    "collapsed": false
   },
   "source": [
    "### Inital filtering and clinical data preprocessing"
   ]
  },
  {
   "cell_type": "code",
   "execution_count": 37,
   "metadata": {
    "ExecuteTime": {
     "end_time": "2024-01-02T01:03:01.634861460Z",
     "start_time": "2024-01-02T01:03:01.076370517Z"
    },
    "collapsed": false
   },
   "outputs": [
    {
     "name": "stdout",
     "output_type": "stream",
     "text": [
      "!Series_title\t\"Unlocking Molecular mechanisms and identifying druggable targets in matched-paired brain metastasis of Breast and Lung cancers \"\n",
      "!Series_summary\t\"Introduction: The incidence of brain metastases in cancer patients is increasing, with lung and breast cancer being the most common sources. Despite advancements in targeted therapies, the prognosis remains poor, highlighting the importance to investigate the underlying mechanisms in brain metastases. The aim of this study was to investigate the differences in the molecular mechanisms involved in brain metastasis of breast and lung cancers. In addition, we aimed to identify cancer lineage-specific druggable targets in the brain metastasis. Methods: To that aim, a cohort of 44 FFPE tissue samples, including 22 breast cancer and 22 lung adenocarcinoma (LUAD) and their matched-paired brain metastases were collected. Targeted gene expression profiles of primary tumors were compared to their matched-paired brain metastases samples using nCounter PanCancer IO 360™ Panel of NanoString technologies. Pathway analysis was performed using gene set analysis (GSA) and gene set enrichment analysis (GSEA). The validation was performed by using Immunohistochemistry (IHC) to confirm the expression of immune checkpoint inhibitors. Results: Our results revealed the significant upregulation of cancer-related genes in primary tumors compared to their matched-paired brain metastases (adj. p ≤ 0.05). We found that upregulated differentially expressed genes in breast cancer brain metastasis (BM-BC) and brain metastasis from lung adenocarcinoma (BM-LUAD) were associated with the metabolic stress pathway, particularly related to the glycolysis. Additionally, we found that the upregulated genes in BM-BC and BM-LUAD played roles in immune response regulation, tumor growth, and proliferation. Importantly, we identified high expression of the immune checkpoint VTCN1 in BM-BC, and VISTA, IDO1, NT5E, and HDAC3 in BM-LUAD. Validation using immunohistochemistry further supported these findings. Conclusion: In conclusion, the findings highlight the significance of using matched-paired samples to identify cancer lineage-specific therapies that may improve brain metastasis patients outcomes.\"\n",
      "!Series_overall_design\t\"RNA was extracted from FFPE samples of (primary LUAD and their matched paired brain metastasis n=22, primary BC and their matched paired brain metastasis n=22)\"\n"
     ]
    }
   ],
   "source": [
    "background_prefixes = ['!Series_title', '!Series_summary', '!Series_overall_design']\n",
    "clinical_prefixes = ['!Sample_geo_accession', '!Sample_characteristics_ch1']\n",
    "\n",
    "background_info, clinical_data = get_background_and_clinical_data(matrix_file, background_prefixes, clinical_prefixes)\n",
    "print(background_info)"
   ]
  },
  {
   "cell_type": "code",
   "execution_count": 38,
   "metadata": {
    "ExecuteTime": {
     "end_time": "2024-01-02T01:03:01.642310454Z",
     "start_time": "2024-01-02T01:03:01.635048940Z"
    },
    "collapsed": false
   },
   "outputs": [
    {
     "data": {
      "text/html": [
       "<div>\n",
       "<style scoped>\n",
       "    .dataframe tbody tr th:only-of-type {\n",
       "        vertical-align: middle;\n",
       "    }\n",
       "\n",
       "    .dataframe tbody tr th {\n",
       "        vertical-align: top;\n",
       "    }\n",
       "\n",
       "    .dataframe thead th {\n",
       "        text-align: right;\n",
       "    }\n",
       "</style>\n",
       "<table border=\"1\" class=\"dataframe\">\n",
       "  <thead>\n",
       "    <tr style=\"text-align: right;\">\n",
       "      <th></th>\n",
       "      <th>!Sample_geo_accession</th>\n",
       "      <th>GSM7920782</th>\n",
       "      <th>GSM7920783</th>\n",
       "      <th>GSM7920784</th>\n",
       "      <th>GSM7920785</th>\n",
       "      <th>GSM7920786</th>\n",
       "      <th>GSM7920787</th>\n",
       "      <th>GSM7920788</th>\n",
       "      <th>GSM7920789</th>\n",
       "      <th>GSM7920790</th>\n",
       "      <th>...</th>\n",
       "      <th>GSM7920816</th>\n",
       "      <th>GSM7920817</th>\n",
       "      <th>GSM7920818</th>\n",
       "      <th>GSM7920819</th>\n",
       "      <th>GSM7920820</th>\n",
       "      <th>GSM7920821</th>\n",
       "      <th>GSM7920822</th>\n",
       "      <th>GSM7920823</th>\n",
       "      <th>GSM7920824</th>\n",
       "      <th>GSM7920825</th>\n",
       "    </tr>\n",
       "  </thead>\n",
       "  <tbody>\n",
       "    <tr>\n",
       "      <th>0</th>\n",
       "      <td>!Sample_characteristics_ch1</td>\n",
       "      <td>age at diagnosis: 49</td>\n",
       "      <td>age at diagnosis: 44</td>\n",
       "      <td>age at diagnosis: 41</td>\n",
       "      <td>age at diagnosis: 40</td>\n",
       "      <td>age at diagnosis: 48</td>\n",
       "      <td>age at diagnosis: 42</td>\n",
       "      <td>age at diagnosis: 47</td>\n",
       "      <td>age at diagnosis: 53</td>\n",
       "      <td>age at diagnosis: 41</td>\n",
       "      <td>...</td>\n",
       "      <td>age at diagnosis: 63</td>\n",
       "      <td>age at diagnosis: 60</td>\n",
       "      <td>age at diagnosis: 58</td>\n",
       "      <td>age at diagnosis: 70</td>\n",
       "      <td>age at diagnosis: 66</td>\n",
       "      <td>age at diagnosis: 64</td>\n",
       "      <td>age at diagnosis: 60</td>\n",
       "      <td>age at diagnosis: 50</td>\n",
       "      <td>age at diagnosis: 66</td>\n",
       "      <td>age at diagnosis: 74</td>\n",
       "    </tr>\n",
       "    <tr>\n",
       "      <th>1</th>\n",
       "      <td>!Sample_characteristics_ch1</td>\n",
       "      <td>Sex: female</td>\n",
       "      <td>Sex: female</td>\n",
       "      <td>Sex: female</td>\n",
       "      <td>Sex: female</td>\n",
       "      <td>Sex: female</td>\n",
       "      <td>Sex: female</td>\n",
       "      <td>Sex: female</td>\n",
       "      <td>Sex: female</td>\n",
       "      <td>Sex: female</td>\n",
       "      <td>...</td>\n",
       "      <td>Sex: male</td>\n",
       "      <td>Sex: male</td>\n",
       "      <td>Sex: female</td>\n",
       "      <td>Sex: female</td>\n",
       "      <td>Sex: female</td>\n",
       "      <td>Sex: male</td>\n",
       "      <td>Sex: male</td>\n",
       "      <td>Sex: female</td>\n",
       "      <td>Sex: male</td>\n",
       "      <td>Sex: male</td>\n",
       "    </tr>\n",
       "    <tr>\n",
       "      <th>2</th>\n",
       "      <td>!Sample_characteristics_ch1</td>\n",
       "      <td>histology: TNBC</td>\n",
       "      <td>histology: ER+ PR+ HER2-</td>\n",
       "      <td>histology: Unknown</td>\n",
       "      <td>histology: ER+ PR+ HER2-</td>\n",
       "      <td>histology: TNBC</td>\n",
       "      <td>histology: Unknown</td>\n",
       "      <td>histology: TNBC</td>\n",
       "      <td>histology: ER- PR- HER2+</td>\n",
       "      <td>histology: TNBC</td>\n",
       "      <td>...</td>\n",
       "      <td>histology: adenocaricnoma</td>\n",
       "      <td>histology: adenocaricnoma</td>\n",
       "      <td>histology: adenocaricnoma</td>\n",
       "      <td>histology: adenocaricnoma</td>\n",
       "      <td>histology: adenocaricnoma</td>\n",
       "      <td>histology: adenocaricnoma</td>\n",
       "      <td>histology: adenocaricnoma</td>\n",
       "      <td>histology: adenocaricnoma</td>\n",
       "      <td>histology: adenocaricnoma</td>\n",
       "      <td>histology: adenocaricnoma</td>\n",
       "    </tr>\n",
       "    <tr>\n",
       "      <th>3</th>\n",
       "      <td>!Sample_characteristics_ch1</td>\n",
       "      <td>smoking status: n.a</td>\n",
       "      <td>smoking status: n.a</td>\n",
       "      <td>smoking status: n.a</td>\n",
       "      <td>smoking status: n.a</td>\n",
       "      <td>smoking status: n.a</td>\n",
       "      <td>smoking status: n.a</td>\n",
       "      <td>smoking status: n.a</td>\n",
       "      <td>smoking status: n.a</td>\n",
       "      <td>smoking status: n.a</td>\n",
       "      <td>...</td>\n",
       "      <td>smoking status: former-smoker</td>\n",
       "      <td>smoking status: former-smoker</td>\n",
       "      <td>smoking status: smoker</td>\n",
       "      <td>smoking status: Never smoking</td>\n",
       "      <td>smoking status: smoker</td>\n",
       "      <td>smoking status: smoker</td>\n",
       "      <td>smoking status: former-smoker</td>\n",
       "      <td>smoking status: unknown</td>\n",
       "      <td>smoking status: smoker</td>\n",
       "      <td>smoking status: former-roker</td>\n",
       "    </tr>\n",
       "    <tr>\n",
       "      <th>4</th>\n",
       "      <td>!Sample_characteristics_ch1</td>\n",
       "      <td>treatment after surgery of bm: surgery + chemo...</td>\n",
       "      <td>treatment after surgery of bm: surgery +  chem...</td>\n",
       "      <td>treatment after surgery of bm: surgery + chemo...</td>\n",
       "      <td>treatment after surgery of bm: surgery</td>\n",
       "      <td>treatment after surgery of bm: surgery</td>\n",
       "      <td>treatment after surgery of bm: surgery +  chem...</td>\n",
       "      <td>treatment after surgery of bm: surgery + chemo...</td>\n",
       "      <td>treatment after surgery of bm: surgery + chemo...</td>\n",
       "      <td>treatment after surgery of bm: surgery + chemo...</td>\n",
       "      <td>...</td>\n",
       "      <td>treatment after surgery of bm: Radiotherapy</td>\n",
       "      <td>treatment after surgery of bm: Radiotherapy</td>\n",
       "      <td>treatment after surgery of bm: Radiotherapy</td>\n",
       "      <td>treatment after surgery of bm: No treatment</td>\n",
       "      <td>treatment after surgery of bm: Radiotherapy</td>\n",
       "      <td>treatment after surgery of bm: WBRT</td>\n",
       "      <td>treatment after surgery of bm: SRT</td>\n",
       "      <td>treatment after surgery of bm: WBRT</td>\n",
       "      <td>treatment after surgery of bm: Radiotherapy</td>\n",
       "      <td>treatment after surgery of bm: Radiotherapy</td>\n",
       "    </tr>\n",
       "  </tbody>\n",
       "</table>\n",
       "<p>5 rows × 45 columns</p>\n",
       "</div>"
      ],
      "text/plain": [
       "         !Sample_geo_accession  \\\n",
       "0  !Sample_characteristics_ch1   \n",
       "1  !Sample_characteristics_ch1   \n",
       "2  !Sample_characteristics_ch1   \n",
       "3  !Sample_characteristics_ch1   \n",
       "4  !Sample_characteristics_ch1   \n",
       "\n",
       "                                          GSM7920782  \\\n",
       "0                               age at diagnosis: 49   \n",
       "1                                        Sex: female   \n",
       "2                                    histology: TNBC   \n",
       "3                                smoking status: n.a   \n",
       "4  treatment after surgery of bm: surgery + chemo...   \n",
       "\n",
       "                                          GSM7920783  \\\n",
       "0                               age at diagnosis: 44   \n",
       "1                                        Sex: female   \n",
       "2                           histology: ER+ PR+ HER2-   \n",
       "3                                smoking status: n.a   \n",
       "4  treatment after surgery of bm: surgery +  chem...   \n",
       "\n",
       "                                          GSM7920784  \\\n",
       "0                               age at diagnosis: 41   \n",
       "1                                        Sex: female   \n",
       "2                                 histology: Unknown   \n",
       "3                                smoking status: n.a   \n",
       "4  treatment after surgery of bm: surgery + chemo...   \n",
       "\n",
       "                               GSM7920785  \\\n",
       "0                    age at diagnosis: 40   \n",
       "1                             Sex: female   \n",
       "2                histology: ER+ PR+ HER2-   \n",
       "3                     smoking status: n.a   \n",
       "4  treatment after surgery of bm: surgery   \n",
       "\n",
       "                               GSM7920786  \\\n",
       "0                    age at diagnosis: 48   \n",
       "1                             Sex: female   \n",
       "2                         histology: TNBC   \n",
       "3                     smoking status: n.a   \n",
       "4  treatment after surgery of bm: surgery   \n",
       "\n",
       "                                          GSM7920787  \\\n",
       "0                               age at diagnosis: 42   \n",
       "1                                        Sex: female   \n",
       "2                                 histology: Unknown   \n",
       "3                                smoking status: n.a   \n",
       "4  treatment after surgery of bm: surgery +  chem...   \n",
       "\n",
       "                                          GSM7920788  \\\n",
       "0                               age at diagnosis: 47   \n",
       "1                                        Sex: female   \n",
       "2                                    histology: TNBC   \n",
       "3                                smoking status: n.a   \n",
       "4  treatment after surgery of bm: surgery + chemo...   \n",
       "\n",
       "                                          GSM7920789  \\\n",
       "0                               age at diagnosis: 53   \n",
       "1                                        Sex: female   \n",
       "2                           histology: ER- PR- HER2+   \n",
       "3                                smoking status: n.a   \n",
       "4  treatment after surgery of bm: surgery + chemo...   \n",
       "\n",
       "                                          GSM7920790  ...  \\\n",
       "0                               age at diagnosis: 41  ...   \n",
       "1                                        Sex: female  ...   \n",
       "2                                    histology: TNBC  ...   \n",
       "3                                smoking status: n.a  ...   \n",
       "4  treatment after surgery of bm: surgery + chemo...  ...   \n",
       "\n",
       "                                    GSM7920816  \\\n",
       "0                         age at diagnosis: 63   \n",
       "1                                    Sex: male   \n",
       "2                    histology: adenocaricnoma   \n",
       "3                smoking status: former-smoker   \n",
       "4  treatment after surgery of bm: Radiotherapy   \n",
       "\n",
       "                                    GSM7920817  \\\n",
       "0                         age at diagnosis: 60   \n",
       "1                                    Sex: male   \n",
       "2                    histology: adenocaricnoma   \n",
       "3                smoking status: former-smoker   \n",
       "4  treatment after surgery of bm: Radiotherapy   \n",
       "\n",
       "                                    GSM7920818  \\\n",
       "0                         age at diagnosis: 58   \n",
       "1                                  Sex: female   \n",
       "2                    histology: adenocaricnoma   \n",
       "3                       smoking status: smoker   \n",
       "4  treatment after surgery of bm: Radiotherapy   \n",
       "\n",
       "                                    GSM7920819  \\\n",
       "0                         age at diagnosis: 70   \n",
       "1                                  Sex: female   \n",
       "2                    histology: adenocaricnoma   \n",
       "3                smoking status: Never smoking   \n",
       "4  treatment after surgery of bm: No treatment   \n",
       "\n",
       "                                    GSM7920820  \\\n",
       "0                         age at diagnosis: 66   \n",
       "1                                  Sex: female   \n",
       "2                    histology: adenocaricnoma   \n",
       "3                       smoking status: smoker   \n",
       "4  treatment after surgery of bm: Radiotherapy   \n",
       "\n",
       "                            GSM7920821                          GSM7920822  \\\n",
       "0                 age at diagnosis: 64                age at diagnosis: 60   \n",
       "1                            Sex: male                           Sex: male   \n",
       "2            histology: adenocaricnoma           histology: adenocaricnoma   \n",
       "3               smoking status: smoker       smoking status: former-smoker   \n",
       "4  treatment after surgery of bm: WBRT  treatment after surgery of bm: SRT   \n",
       "\n",
       "                            GSM7920823  \\\n",
       "0                 age at diagnosis: 50   \n",
       "1                          Sex: female   \n",
       "2            histology: adenocaricnoma   \n",
       "3              smoking status: unknown   \n",
       "4  treatment after surgery of bm: WBRT   \n",
       "\n",
       "                                    GSM7920824  \\\n",
       "0                         age at diagnosis: 66   \n",
       "1                                    Sex: male   \n",
       "2                    histology: adenocaricnoma   \n",
       "3                       smoking status: smoker   \n",
       "4  treatment after surgery of bm: Radiotherapy   \n",
       "\n",
       "                                    GSM7920825  \n",
       "0                         age at diagnosis: 74  \n",
       "1                                    Sex: male  \n",
       "2                    histology: adenocaricnoma  \n",
       "3                 smoking status: former-roker  \n",
       "4  treatment after surgery of bm: Radiotherapy  \n",
       "\n",
       "[5 rows x 45 columns]"
      ]
     },
     "execution_count": 38,
     "metadata": {},
     "output_type": "execute_result"
    }
   ],
   "source": [
    "clinical_data.head()"
   ]
  },
  {
   "cell_type": "code",
   "execution_count": 39,
   "metadata": {
    "ExecuteTime": {
     "end_time": "2024-01-02T01:03:01.805026160Z",
     "start_time": "2024-01-02T01:03:01.804428154Z"
    },
    "collapsed": false
   },
   "outputs": [
    {
     "data": {
      "text/plain": [
       "{0: ['age at diagnosis: 49',\n",
       "  'age at diagnosis: 44',\n",
       "  'age at diagnosis: 41',\n",
       "  'age at diagnosis: 40',\n",
       "  'age at diagnosis: 48',\n",
       "  'age at diagnosis: 42',\n",
       "  'age at diagnosis: 47',\n",
       "  'age at diagnosis: 53',\n",
       "  'age at diagnosis: 74',\n",
       "  'age at diagnosis: 58',\n",
       "  'age at diagnosis: 51',\n",
       "  'age at diagnosis: 55',\n",
       "  'age at diagnosis: 46',\n",
       "  'age at diagnosis: 59',\n",
       "  'age at diagnosis: 50',\n",
       "  'age at diagnosis: 57',\n",
       "  'age at diagnosis: 60',\n",
       "  'age at diagnosis: 69',\n",
       "  'age at diagnosis: n.a.',\n",
       "  'age at diagnosis: 65',\n",
       "  'age at diagnosis: 37',\n",
       "  'age at diagnosis: 63',\n",
       "  'age at diagnosis: 70',\n",
       "  'age at diagnosis: 66',\n",
       "  'age at diagnosis: 64'],\n",
       " 1: ['Sex: female', 'Sex: male'],\n",
       " 2: ['histology: TNBC',\n",
       "  'histology: ER+ PR+ HER2-',\n",
       "  'histology: Unknown',\n",
       "  'histology: ER- PR- HER2+',\n",
       "  'histology: ER+ PR-HER2+',\n",
       "  'histology: ER+ PR- HER2-',\n",
       "  'histology: ER- PR+ HER2-',\n",
       "  'histology: adenocaricnoma'],\n",
       " 3: ['smoking status: n.a',\n",
       "  'smoking status: former-smoker',\n",
       "  'smoking status: smoker',\n",
       "  'smoking status: Never smoking',\n",
       "  'smoking status: unknown',\n",
       "  'smoking status: former-roker'],\n",
       " 4: ['treatment after surgery of bm: surgery + chemotherpy',\n",
       "  'treatment after surgery of bm: surgery +  chemotherpy + Radiotherapy',\n",
       "  'treatment after surgery of bm: surgery + chemotherapy + Radiotherapy',\n",
       "  'treatment after surgery of bm: surgery',\n",
       "  'treatment after surgery of bm: surgery +  chemotherapy + Radiotherapy',\n",
       "  'treatment after surgery of bm: surgery + chemotherapy',\n",
       "  'treatment after surgery of bm: surgery + chemotherpy + Radiotherapy',\n",
       "  'treatment after surgery of bm: surgery + chemotheapy + Radiotherapy',\n",
       "  'treatment after surgery of bm: Chemoterapy',\n",
       "  'treatment after surgery of bm: Radiotherapy & Chemoterapy',\n",
       "  'treatment after surgery of bm: Radiotherapy',\n",
       "  'treatment after surgery of bm: Other',\n",
       "  'treatment after surgery of bm: Surgery & Chemotherapy & Radiotherapy',\n",
       "  'treatment after surgery of bm: surgery & Radiotherapy',\n",
       "  'treatment after surgery of bm: surgery & Radiochemotherapy',\n",
       "  'treatment after surgery of bm: No treatment',\n",
       "  'treatment after surgery of bm: WBRT',\n",
       "  'treatment after surgery of bm: SRT']}"
      ]
     },
     "execution_count": 39,
     "metadata": {},
     "output_type": "execute_result"
    }
   ],
   "source": [
    "clinical_data_unique = get_unique_values_by_row(clinical_data)\n",
    "clinical_data_unique"
   ]
  },
  {
   "cell_type": "markdown",
   "metadata": {
    "ExecuteTime": {
     "end_time": "2023-12-31T03:58:04.978204446Z",
     "start_time": "2023-12-31T03:58:04.922270095Z"
    },
    "collapsed": false
   },
   "source": [
    "Analyze the metadata to determine data relevance and find ways to extract the clinical data.\n",
    "Reference prompt:"
   ]
  },
  {
   "cell_type": "code",
   "execution_count": 9,
   "metadata": {
    "ExecuteTime": {
     "end_time": "2024-01-02T01:03:02.369775044Z",
     "start_time": "2024-01-02T01:03:02.356501629Z"
    },
    "collapsed": false
   },
   "outputs": [
    {
     "data": {
      "text/plain": [
       "'As a biomedical research team, we are selecting datasets to study the association between the human trait \\'Epilepsy\\' and genetic factors, optionally considering the influence of age and gender. After searching the GEO database and parsing the matrix file of a series, we obtained background information and sample characteristics data. We will provide textual information about the dataset background, and a Python dictionary storing a list of unique values for each field of the sample characteristics data. Please carefully review the provided information and answer the following questions about this dataset:\\n1. Does this dataset contain gene expression data? (Note: Pure miRNA data is not suitable.)\\n2. For each of the traits \\'Epilepsy\\', \\'age\\', and \\'gender\\', please address these points:\\n   (1) Is there human data available for this trait?\\n   (2) If so, identify the key in the sample characteristics dictionary where unique values of this trait is recorded. The key is an integer. The trait information might be explicitly recorded, or can be inferred from the field with some biomedical knowledge or understanding about the data collection process.\\n   (3) Choose an appropriate data type (either \\'continuous\\' or \\'binary\\') for each trait. Write a Python function to convert any given value of the trait to this data type. The function should handle inference about the trait value and convert unknown values to None.\\n   Name the functions \\'convert_trait\\', \\'convert_age\\', and \\'convert_gender\\', respectively.\\n\\nBackground information about the dataset:\\n!Series_title\\t\"Integrated analysis of expression profile and potential pathogenic mechanism of temporal lobe epilepsy with hippocampal sclerosis\"\\n!Series_summary\\t\"To investigate the potential pathogenic mechanism of temporal lobe epilepsy with hippocampal sclerosis (TLE+HS), we have employed analyzing of the expression profiles of microRNA/ mRNA/ lncRNA/ DNA methylation in brain tissues of hippocampal sclerosis (TLE+HS) patients. Brain tissues of six patients with TLE+HS and nine of normal temporal or parietal cortices (NTP) of patients undergoing internal decompression for traumatic brain injury (TBI) were collected. The total RNA was dephosphorylated, labeled, and hybridized to the Agilent Human miRNA Microarray, Release 19.0, 8x60K. The cDNA was labeled and hybridized to the Agilent LncRNA+mRNA Human Gene Expression Microarray V3.0，4x180K. For methylation detection, the DNA was labeled and hybridized to the Illumina 450K Infinium Methylation BeadChip. The raw data was extracted from hybridized images using Agilent Feature Extraction, and quantile normalization was performed using the Agilent GeneSpring. We found that the disorder of FGFR3, hsa-miR-486-5p, and lnc-KCNH5-1 plays a key vital role in developing TLE+HS.\"\\n!Series_overall_design\\t\"Brain tissues of six patients with TLE+HS and nine of normal temporal or parietal cortices (NTP) of patients undergoing internal decompression for traumatic brain injury (TBI) were collected.\"\\n\\nSample characteristics dictionary (from \"!Sample_characteristics_ch1\", converted to a Python dictionary that stores the unique values for each field):\\n{0: [\\'tissue: Hippocampus\\', \\'tissue: Temporal lobe\\', \\'tissue: Parietal lobe\\'], 1: [\\'gender: Female\\', \\'gender: Male\\'], 2: [\\'age: 23y\\', \\'age: 29y\\', \\'age: 37y\\', \\'age: 26y\\', \\'age: 16y\\', \\'age: 13y\\', \\'age: 62y\\', \\'age: 58y\\', \\'age: 63y\\', \\'age: 68y\\', \\'age: 77y\\', \\'age: 59y\\', \\'age: 50y\\', \\'age: 39y\\']}\\n'"
      ]
     },
     "execution_count": 9,
     "metadata": {},
     "output_type": "execute_result"
    }
   ],
   "source": [
    "f'''As a biomedical research team, we are selecting datasets to study the association between the human trait \\'{TRAIT}\\' and genetic factors, optionally considering the influence of age and gender. After searching the GEO database and parsing the matrix file of a series, we obtained background information and sample characteristics data. We will provide textual information about the dataset background, and a Python dictionary storing a list of unique values for each field of the sample characteristics data. Please carefully review the provided information and answer the following questions about this dataset:\n",
    "1. Does this dataset contain gene expression data? (Note: Pure miRNA data is not suitable.)\n",
    "2. For each of the traits \\'{TRAIT}\\', 'age', and 'gender', please address these points:\n",
    "   (1) Is there human data available for this trait?\n",
    "   (2) If so, identify the key in the sample characteristics dictionary where unique values of this trait is recorded. The key is an integer. The trait information might be explicitly recorded, or can be inferred from the field with some biomedical knowledge or understanding about the data collection process.\n",
    "   (3) Choose an appropriate data type (either 'continuous' or 'binary') for each trait. Write a Python function to convert any given value of the trait to this data type. The function should handle inference about the trait value and convert unknown values to None.\n",
    "   Name the functions 'convert_trait', 'convert_age', and 'convert_gender', respectively.\n",
    "\n",
    "Background information about the dataset:\n",
    "{background_info}\n",
    "\n",
    "Sample characteristics dictionary (from \"!Sample_characteristics_ch1\", converted to a Python dictionary that stores the unique values for each field):\n",
    "{clinical_data_unique}\n",
    "'''"
   ]
  },
  {
   "cell_type": "markdown",
   "metadata": {
    "ExecuteTime": {
     "end_time": "2023-12-31T03:58:04.978240504Z",
     "start_time": "2023-12-31T03:58:04.922365324Z"
    },
    "collapsed": false
   },
   "source": [
    "Understand and verify the answer from GPT, to assign values to the below variables. Assign None to the 'row_id' variables if relevant data row was not found.\n",
    "Later we need to let GPT format its answer to automatically do these. But given the complexity of this step, let's grow some insight from the free-text answers for now."
   ]
  },
  {
   "cell_type": "code",
   "execution_count": 10,
   "metadata": {
    "ExecuteTime": {
     "end_time": "2024-01-02T01:03:03.079540570Z",
     "start_time": "2024-01-02T01:03:03.073638535Z"
    },
    "collapsed": false
   },
   "outputs": [],
   "source": [
    "is_gene_availabe = True\n",
    "trait_row_id = 0\n",
    "age_row_id = 2\n",
    "gender_row_id = 1\n",
    "\n",
    "trait_type = 'binary'"
   ]
  },
  {
   "cell_type": "code",
   "execution_count": 11,
   "metadata": {
    "ExecuteTime": {
     "end_time": "2024-01-02T01:03:03.572682163Z",
     "start_time": "2024-01-02T01:03:03.559775513Z"
    },
    "collapsed": false
   },
   "outputs": [],
   "source": [
    "is_available = is_gene_availabe and (trait_row_id is not None)\n",
    "if not is_available:\n",
    "    save_cohort_info(cohort, JSON_PATH, is_available)\n",
    "    print(\"This cohort is not usable. Please skip the following steps and jump to the next accession number.\")"
   ]
  },
  {
   "cell_type": "code",
   "execution_count": 12,
   "metadata": {
    "ExecuteTime": {
     "end_time": "2024-01-02T01:03:03.973964287Z",
     "start_time": "2024-01-02T01:03:03.964958096Z"
    },
    "collapsed": false
   },
   "outputs": [
    {
     "data": {
      "text/plain": [
       "(1, 23, 1)"
      ]
     },
     "execution_count": 12,
     "metadata": {},
     "output_type": "execute_result"
    }
   ],
   "source": [
    "def convert_trait(tissue_type):\n",
    "    \"\"\"\n",
    "    Convert tissue type to epilepsy presence (binary).\n",
    "    Assuming epilepsy presence for 'Hippocampus' tissue.\n",
    "    \"\"\"\n",
    "    if tissue_type == 'tissue: Hippocampus':\n",
    "        return 1  # Epilepsy present\n",
    "    else:\n",
    "        return 0  # Epilepsy not present\n",
    "\n",
    "def convert_age(age_string):\n",
    "    \"\"\"\n",
    "    Convert age string to a numerical value.\n",
    "    \"\"\"\n",
    "    if age_string.startswith('age: '):\n",
    "        try:\n",
    "            return int(age_string.split('age: ')[1].rstrip('y'))  # Extracting numeric part\n",
    "        except ValueError:\n",
    "            return None  # In case of parsing error\n",
    "    else:\n",
    "        return None  # If age string does not follow expected format\n",
    "\n",
    "def convert_gender(gender_string):\n",
    "    \"\"\"\n",
    "    Convert gender string to a binary representation.\n",
    "    Female -> 0, Male -> 1, Unknown -> None\n",
    "    \"\"\"\n",
    "    if gender_string == 'gender: Female':\n",
    "        return 0\n",
    "    elif gender_string == 'gender: Male':\n",
    "        return 1\n",
    "    else:\n",
    "        return None  # In case of unknown gender\n",
    "\n",
    "# Example usage\n",
    "example_tissue = 'tissue: Hippocampus'\n",
    "example_age = 'age: 23y'\n",
    "example_gender = 'gender: Male'\n",
    "\n",
    "converted_trait = convert_trait(example_tissue)\n",
    "converted_age = convert_age(example_age)\n",
    "converted_gender = convert_gender(example_gender)\n",
    "\n",
    "converted_trait, converted_age, converted_gender"
   ]
  },
  {
   "cell_type": "code",
   "execution_count": 13,
   "metadata": {
    "ExecuteTime": {
     "end_time": "2024-01-02T01:03:04.637878352Z",
     "start_time": "2024-01-02T01:03:04.593886885Z"
    },
    "collapsed": false
   },
   "outputs": [
    {
     "data": {
      "text/html": [
       "<div>\n",
       "<style scoped>\n",
       "    .dataframe tbody tr th:only-of-type {\n",
       "        vertical-align: middle;\n",
       "    }\n",
       "\n",
       "    .dataframe tbody tr th {\n",
       "        vertical-align: top;\n",
       "    }\n",
       "\n",
       "    .dataframe thead th {\n",
       "        text-align: right;\n",
       "    }\n",
       "</style>\n",
       "<table border=\"1\" class=\"dataframe\">\n",
       "  <thead>\n",
       "    <tr style=\"text-align: right;\">\n",
       "      <th></th>\n",
       "      <th>GSM6216198</th>\n",
       "      <th>GSM6216199</th>\n",
       "      <th>GSM6216200</th>\n",
       "      <th>GSM6216201</th>\n",
       "      <th>GSM6216202</th>\n",
       "      <th>GSM6216203</th>\n",
       "      <th>GSM6216204</th>\n",
       "      <th>GSM6216205</th>\n",
       "      <th>GSM6216206</th>\n",
       "      <th>GSM6216207</th>\n",
       "      <th>GSM6216208</th>\n",
       "      <th>GSM6216209</th>\n",
       "      <th>GSM6216210</th>\n",
       "      <th>GSM6216211</th>\n",
       "      <th>GSM6216212</th>\n",
       "    </tr>\n",
       "  </thead>\n",
       "  <tbody>\n",
       "    <tr>\n",
       "      <th>Epilepsy</th>\n",
       "      <td>1</td>\n",
       "      <td>1</td>\n",
       "      <td>1</td>\n",
       "      <td>1</td>\n",
       "      <td>1</td>\n",
       "      <td>1</td>\n",
       "      <td>0</td>\n",
       "      <td>0</td>\n",
       "      <td>0</td>\n",
       "      <td>0</td>\n",
       "      <td>0</td>\n",
       "      <td>0</td>\n",
       "      <td>0</td>\n",
       "      <td>0</td>\n",
       "      <td>0</td>\n",
       "    </tr>\n",
       "    <tr>\n",
       "      <th>Age</th>\n",
       "      <td>23</td>\n",
       "      <td>29</td>\n",
       "      <td>37</td>\n",
       "      <td>26</td>\n",
       "      <td>16</td>\n",
       "      <td>13</td>\n",
       "      <td>62</td>\n",
       "      <td>58</td>\n",
       "      <td>63</td>\n",
       "      <td>68</td>\n",
       "      <td>77</td>\n",
       "      <td>59</td>\n",
       "      <td>50</td>\n",
       "      <td>39</td>\n",
       "      <td>23</td>\n",
       "    </tr>\n",
       "    <tr>\n",
       "      <th>Gender</th>\n",
       "      <td>0</td>\n",
       "      <td>1</td>\n",
       "      <td>1</td>\n",
       "      <td>0</td>\n",
       "      <td>0</td>\n",
       "      <td>1</td>\n",
       "      <td>0</td>\n",
       "      <td>1</td>\n",
       "      <td>0</td>\n",
       "      <td>1</td>\n",
       "      <td>1</td>\n",
       "      <td>1</td>\n",
       "      <td>1</td>\n",
       "      <td>1</td>\n",
       "      <td>1</td>\n",
       "    </tr>\n",
       "  </tbody>\n",
       "</table>\n",
       "</div>"
      ],
      "text/plain": [
       "          GSM6216198  GSM6216199  GSM6216200  GSM6216201  GSM6216202  \\\n",
       "Epilepsy           1           1           1           1           1   \n",
       "Age               23          29          37          26          16   \n",
       "Gender             0           1           1           0           0   \n",
       "\n",
       "          GSM6216203  GSM6216204  GSM6216205  GSM6216206  GSM6216207  \\\n",
       "Epilepsy           1           0           0           0           0   \n",
       "Age               13          62          58          63          68   \n",
       "Gender             1           0           1           0           1   \n",
       "\n",
       "          GSM6216208  GSM6216209  GSM6216210  GSM6216211  GSM6216212  \n",
       "Epilepsy           0           0           0           0           0  \n",
       "Age               77          59          50          39          23  \n",
       "Gender             1           1           1           1           1  "
      ]
     },
     "execution_count": 13,
     "metadata": {},
     "output_type": "execute_result"
    }
   ],
   "source": [
    "selected_clinical_data = geo_select_clinical_features(clinical_data, TRAIT, trait_row_id, age_row_id, gender_row_id,\n",
    "                                                      convert_trait, convert_age, convert_gender)\n",
    "selected_clinical_data.head()"
   ]
  },
  {
   "cell_type": "markdown",
   "metadata": {
    "ExecuteTime": {
     "end_time": "2023-12-31T03:58:04.978664193Z",
     "start_time": "2023-12-31T03:58:04.966117261Z"
    },
    "collapsed": false
   },
   "source": [
    "### Genetic data preprocessing and final filtering"
   ]
  },
  {
   "cell_type": "code",
   "execution_count": 14,
   "metadata": {
    "ExecuteTime": {
     "end_time": "2024-01-02T01:03:06.246474256Z",
     "start_time": "2024-01-02T01:03:05.670354792Z"
    },
    "collapsed": false
   },
   "outputs": [
    {
     "data": {
      "text/html": [
       "<div>\n",
       "<style scoped>\n",
       "    .dataframe tbody tr th:only-of-type {\n",
       "        vertical-align: middle;\n",
       "    }\n",
       "\n",
       "    .dataframe tbody tr th {\n",
       "        vertical-align: top;\n",
       "    }\n",
       "\n",
       "    .dataframe thead th {\n",
       "        text-align: right;\n",
       "    }\n",
       "</style>\n",
       "<table border=\"1\" class=\"dataframe\">\n",
       "  <thead>\n",
       "    <tr style=\"text-align: right;\">\n",
       "      <th></th>\n",
       "      <th>ID</th>\n",
       "      <th>GSM6216198</th>\n",
       "      <th>GSM6216199</th>\n",
       "      <th>GSM6216200</th>\n",
       "      <th>GSM6216201</th>\n",
       "      <th>GSM6216202</th>\n",
       "      <th>GSM6216203</th>\n",
       "      <th>GSM6216204</th>\n",
       "      <th>GSM6216205</th>\n",
       "      <th>GSM6216206</th>\n",
       "      <th>GSM6216207</th>\n",
       "      <th>GSM6216208</th>\n",
       "      <th>GSM6216209</th>\n",
       "      <th>GSM6216210</th>\n",
       "      <th>GSM6216211</th>\n",
       "      <th>GSM6216212</th>\n",
       "    </tr>\n",
       "  </thead>\n",
       "  <tbody>\n",
       "    <tr>\n",
       "      <th>0</th>\n",
       "      <td>cg00000029</td>\n",
       "      <td>0.717</td>\n",
       "      <td>0.643</td>\n",
       "      <td>0.645</td>\n",
       "      <td>0.699</td>\n",
       "      <td>0.587</td>\n",
       "      <td>0.676</td>\n",
       "      <td>0.566</td>\n",
       "      <td>0.608</td>\n",
       "      <td>0.592</td>\n",
       "      <td>0.739</td>\n",
       "      <td>0.550</td>\n",
       "      <td>0.469</td>\n",
       "      <td>0.674</td>\n",
       "      <td>0.605</td>\n",
       "      <td>0.576</td>\n",
       "    </tr>\n",
       "    <tr>\n",
       "      <th>1</th>\n",
       "      <td>cg00000108</td>\n",
       "      <td>0.974</td>\n",
       "      <td>0.978</td>\n",
       "      <td>0.969</td>\n",
       "      <td>0.974</td>\n",
       "      <td>0.969</td>\n",
       "      <td>0.964</td>\n",
       "      <td>0.968</td>\n",
       "      <td>0.973</td>\n",
       "      <td>0.955</td>\n",
       "      <td>0.973</td>\n",
       "      <td>0.953</td>\n",
       "      <td>0.953</td>\n",
       "      <td>0.950</td>\n",
       "      <td>0.971</td>\n",
       "      <td>0.977</td>\n",
       "    </tr>\n",
       "    <tr>\n",
       "      <th>2</th>\n",
       "      <td>cg00000109</td>\n",
       "      <td>0.710</td>\n",
       "      <td>0.825</td>\n",
       "      <td>0.802</td>\n",
       "      <td>0.864</td>\n",
       "      <td>0.791</td>\n",
       "      <td>0.770</td>\n",
       "      <td>0.870</td>\n",
       "      <td>0.876</td>\n",
       "      <td>0.817</td>\n",
       "      <td>0.880</td>\n",
       "      <td>0.843</td>\n",
       "      <td>0.829</td>\n",
       "      <td>0.845</td>\n",
       "      <td>0.856</td>\n",
       "      <td>0.854</td>\n",
       "    </tr>\n",
       "    <tr>\n",
       "      <th>3</th>\n",
       "      <td>cg00000165</td>\n",
       "      <td>0.294</td>\n",
       "      <td>0.210</td>\n",
       "      <td>0.246</td>\n",
       "      <td>0.214</td>\n",
       "      <td>0.193</td>\n",
       "      <td>0.186</td>\n",
       "      <td>0.240</td>\n",
       "      <td>0.212</td>\n",
       "      <td>0.337</td>\n",
       "      <td>0.228</td>\n",
       "      <td>0.309</td>\n",
       "      <td>0.214</td>\n",
       "      <td>0.270</td>\n",
       "      <td>0.203</td>\n",
       "      <td>0.273</td>\n",
       "    </tr>\n",
       "    <tr>\n",
       "      <th>4</th>\n",
       "      <td>cg00000236</td>\n",
       "      <td>0.923</td>\n",
       "      <td>0.903</td>\n",
       "      <td>0.945</td>\n",
       "      <td>0.873</td>\n",
       "      <td>0.957</td>\n",
       "      <td>0.936</td>\n",
       "      <td>0.877</td>\n",
       "      <td>0.906</td>\n",
       "      <td>0.893</td>\n",
       "      <td>0.910</td>\n",
       "      <td>0.868</td>\n",
       "      <td>0.901</td>\n",
       "      <td>0.924</td>\n",
       "      <td>0.911</td>\n",
       "      <td>0.872</td>\n",
       "    </tr>\n",
       "  </tbody>\n",
       "</table>\n",
       "</div>"
      ],
      "text/plain": [
       "           ID  GSM6216198  GSM6216199  GSM6216200  GSM6216201  GSM6216202  \\\n",
       "0  cg00000029       0.717       0.643       0.645       0.699       0.587   \n",
       "1  cg00000108       0.974       0.978       0.969       0.974       0.969   \n",
       "2  cg00000109       0.710       0.825       0.802       0.864       0.791   \n",
       "3  cg00000165       0.294       0.210       0.246       0.214       0.193   \n",
       "4  cg00000236       0.923       0.903       0.945       0.873       0.957   \n",
       "\n",
       "   GSM6216203  GSM6216204  GSM6216205  GSM6216206  GSM6216207  GSM6216208  \\\n",
       "0       0.676       0.566       0.608       0.592       0.739       0.550   \n",
       "1       0.964       0.968       0.973       0.955       0.973       0.953   \n",
       "2       0.770       0.870       0.876       0.817       0.880       0.843   \n",
       "3       0.186       0.240       0.212       0.337       0.228       0.309   \n",
       "4       0.936       0.877       0.906       0.893       0.910       0.868   \n",
       "\n",
       "   GSM6216209  GSM6216210  GSM6216211  GSM6216212  \n",
       "0       0.469       0.674       0.605       0.576  \n",
       "1       0.953       0.950       0.971       0.977  \n",
       "2       0.829       0.845       0.856       0.854  \n",
       "3       0.214       0.270       0.203       0.273  \n",
       "4       0.901       0.924       0.911       0.872  "
      ]
     },
     "execution_count": 14,
     "metadata": {},
     "output_type": "execute_result"
    }
   ],
   "source": [
    "genetic_data = get_genetic_data(matrix_file)\n",
    "genetic_data.head()"
   ]
  },
  {
   "cell_type": "code",
   "execution_count": 15,
   "metadata": {
    "ExecuteTime": {
     "end_time": "2024-01-02T01:03:06.250833943Z",
     "start_time": "2024-01-02T01:03:06.246758837Z"
    },
    "collapsed": false
   },
   "outputs": [
    {
     "data": {
      "text/plain": [
       "['cg00000029',\n",
       " 'cg00000108',\n",
       " 'cg00000109',\n",
       " 'cg00000165',\n",
       " 'cg00000236',\n",
       " 'cg00000289',\n",
       " 'cg00000292',\n",
       " 'cg00000321',\n",
       " 'cg00000363',\n",
       " 'cg00000622',\n",
       " 'cg00000658',\n",
       " 'cg00000714',\n",
       " 'cg00000721',\n",
       " 'cg00000734',\n",
       " 'cg00000769',\n",
       " 'cg00000807',\n",
       " 'cg00000884',\n",
       " 'cg00000905',\n",
       " 'cg00000924',\n",
       " 'cg00000948']"
      ]
     },
     "execution_count": 15,
     "metadata": {},
     "output_type": "execute_result"
    }
   ],
   "source": [
    "gene_row_ids = genetic_data['ID'][:20].tolist()\n",
    "gene_row_ids"
   ]
  },
  {
   "cell_type": "markdown",
   "metadata": {
    "ExecuteTime": {
     "end_time": "2023-12-31T03:30:41.595335164Z",
     "start_time": "2023-12-31T03:30:41.513232329Z"
    },
    "collapsed": false
   },
   "source": [
    "Check if the gene dataset requires mapping to get the gene symbols corresponding to each data row."
   ]
  },
  {
   "cell_type": "markdown",
   "metadata": {
    "collapsed": false
   },
   "source": [
    "Reference prompt:"
   ]
  },
  {
   "cell_type": "code",
   "execution_count": 16,
   "metadata": {
    "ExecuteTime": {
     "end_time": "2024-01-02T01:03:07.586216481Z",
     "start_time": "2024-01-02T01:03:07.574527035Z"
    },
    "collapsed": false
   },
   "outputs": [
    {
     "data": {
      "text/plain": [
       "\"\\nBelow are the row headers of a gene expression dataset in GEO. Based on your biomedical knowledge, are they human gene symbols, or are they some other identifiers that need to be mapped to gene symbols? Your answer should be concluded by starting a new line and strictly following this format:\\nrequires_gene_mapping = (True or False)\\n\\nRow headers:\\n['cg00000029', 'cg00000108', 'cg00000109', 'cg00000165', 'cg00000236', 'cg00000289', 'cg00000292', 'cg00000321', 'cg00000363', 'cg00000622', 'cg00000658', 'cg00000714', 'cg00000721', 'cg00000734', 'cg00000769', 'cg00000807', 'cg00000884', 'cg00000905', 'cg00000924', 'cg00000948']\\n\""
      ]
     },
     "execution_count": 16,
     "metadata": {},
     "output_type": "execute_result"
    }
   ],
   "source": [
    "f'''\n",
    "Below are the row headers of a gene expression dataset in GEO. Based on your biomedical knowledge, are they human gene symbols, or are they some other identifiers that need to be mapped to gene symbols? Your answer should be concluded by starting a new line and strictly following this format:\n",
    "requires_gene_mapping = (True or False)\n",
    "\n",
    "Row headers:\n",
    "{gene_row_ids}\n",
    "'''"
   ]
  },
  {
   "cell_type": "markdown",
   "metadata": {
    "collapsed": false
   },
   "source": [
    "If not required, jump directly to the gene normalization step"
   ]
  },
  {
   "cell_type": "code",
   "execution_count": 17,
   "metadata": {
    "ExecuteTime": {
     "end_time": "2024-01-02T01:03:08.263712538Z",
     "start_time": "2024-01-02T01:03:08.260656314Z"
    },
    "collapsed": false
   },
   "outputs": [],
   "source": [
    "requires_gene_mapping = True"
   ]
  },
  {
   "cell_type": "code",
   "execution_count": 18,
   "metadata": {
    "ExecuteTime": {
     "end_time": "2024-01-02T01:03:33.822550310Z",
     "start_time": "2024-01-02T01:03:08.648958912Z"
    },
    "collapsed": false
   },
   "outputs": [
    {
     "name": "stdout",
     "output_type": "stream",
     "text": [
      "{'ID': ['cg00035864', 'cg00050873', 'cg00061679', 'cg00063477', 'cg00121626'], 'Name': ['cg00035864', 'cg00050873', 'cg00061679', 'cg00063477', 'cg00121626'], 'AddressA_ID': ['31729416', '32735311', '28780415', '16712347', '19779393'], 'AlleleA_ProbeSeq': ['AAAACACTAACAATCTTATCCACATAAACCCTTAAATTTATCTCAAATTC', 'ACAAAAAAACAACACACAACTATAATAATTTTTAAAATAAATAAACCCCA', 'AAAACATTAAAAAACTAATTCACTACTATTTAATTACTTTATTTTCCATC', 'TATTCTTCCACACAAAATACTAAACRTATATTTACAAAAATACTTCCATC', 'AAAACTAATAAAAATAACTTACAAACCAAATACTATACCCTACAACTCTC'], 'AddressB_ID': [nan, '31717405', nan, nan, nan], 'AlleleB_ProbeSeq': [nan, 'ACGAAAAAACAACGCACAACTATAATAATTTTTAAAATAAATAAACCCCG', nan, nan, nan], 'Infinium_Design_Type': ['II', 'I', 'II', 'II', 'II'], 'Next_Base': [nan, 'A', nan, nan, nan], 'Color_Channel': [nan, 'Red', nan, nan, nan], 'Forward_Sequence': ['AATCCAAAGATGATGGAGGAGTGCCCGCTCATGATGTGAAGTACCTGCTCAGCTGGAAAC[CG]AATTTGAGATAAATTCAAGGGTCTATGTGGACAAGACTGCTAGTGTCTCTCTCTGGATTG', 'TATCTCTGTCTGGCGAGGAGGCAACGCACAACTGTGGTGGTTTTTGGAGTGGGTGGACCC[CG]GCCAAGACGGCCTGGGCTGACCAGAGACGGGAGGCAGAAAAAGTGGGCAGGTGGTTGCAG', 'TCAACAAATGAGAGACATTGAAGAACTAATTCACTACTATTTGGTTACTTTATTTTCCAT[CG]AAGAAAACCTCTTTTTAAAAACTAACACATAAATAAAATGAACGAAGAACAAACTAAACG', 'CTCCTGTACTTGTTCATTAAATAATGATTCCTTGGATATACCAAGTCTGGATAGCGGATT[CG]ATGGAAGCATTTTTGTAAATATACGTTCAGTATTTTGTGTGGAAGAACACAATCTAGCTG', 'AGGTGAATGAAGAGACTAATGGGAGTGGCTTGCAAGCCAGGTACTGTGCCCTACAACTCT[CG]CGCTGCCACAAAAAGCCAATTAACGAAGCAAACTGTTTTATCTTTTCCTCTCCCCAGAAG'], 'Genome_Build': [37.0, 37.0, 37.0, 37.0, 37.0], 'CHR': ['Y', 'Y', 'Y', 'Y', 'Y'], 'MAPINFO': [8553009.0, 9363356.0, 25314171.0, 22741795.0, 21664296.0], 'SourceSeq': ['AGACACTAGCAGTCTTGTCCACATAGACCCTTGAATTTATCTCAAATTCG', 'CGGGGTCCACCCACTCCAAAAACCACCACAGTTGTGCGTTGCCTCCTCGC', 'CGATGGAAAATAAAGTAACCAAATAGTAGTGAATTAGTTCTTCAATGTCT', 'CGATGGAAGCATTTTTGTAAATATACGTTCAGTATTTTGTGTGGAAGAAC', 'AGACTAATGGGAGTGGCTTGCAAGCCAGGTACTGTGCCCTACAACTCTCG'], 'Chromosome_36': ['Y', 'Y', 'Y', 'Y', 'Y'], 'Coordinate_36': ['8613009', '9973356', '23723559', '21151183', '20123684'], 'Strand': ['F', 'R', 'R', 'F', 'R'], 'Probe_SNPs': [nan, nan, nan, 'rs9341313', nan], 'Probe_SNPs_10': [nan, nan, nan, 'rs13447379', nan], 'Random_Loci': [nan, nan, nan, nan, nan], 'Methyl27_Loci': [nan, nan, nan, nan, nan], 'UCSC_RefGene_Name': ['TTTY18', 'TSPY4;FAM197Y2', 'DAZ1;DAZ4;DAZ4', 'EIF1AY', 'BCORL2'], 'UCSC_RefGene_Accession': ['NR_001550', 'NM_001164471;NR_001553', 'NM_004081;NM_020420;NM_001005375', 'NM_004681', 'NR_002923'], 'UCSC_RefGene_Group': ['TSS1500', 'Body;TSS1500', 'Body;Body;Body', 'Body', 'Body'], 'UCSC_CpG_Islands_Name': [nan, 'chrY:9363680-9363943', nan, 'chrY:22737825-22738052', 'chrY:21664481-21665063'], 'Relation_to_UCSC_CpG_Island': [nan, 'N_Shore', nan, 'S_Shelf', 'N_Shore'], 'Phantom': [nan, nan, nan, nan, nan], 'DMR': [nan, nan, nan, nan, nan], 'Enhancer': [nan, nan, nan, nan, nan], 'HMM_Island': [nan, 'Y:9973136-9976273', nan, nan, nan], 'Regulatory_Feature_Name': [nan, nan, nan, nan, nan], 'Regulatory_Feature_Group': [nan, nan, nan, nan, nan], 'DHS': [nan, nan, nan, nan, nan], 'RANGE_START': [8553009.0, 9363356.0, 25314171.0, 22741795.0, 21664296.0], 'RANGE_END': [8553132.0, 9363479.0, 25314294.0, 22741918.0, 21664419.0], 'RANGE_GB': ['NC_000024.9', 'NC_000024.9', 'NC_000024.9', 'NC_000024.9', 'NC_000024.9'], 'SPOT_ID': [nan, nan, nan, nan, nan]}\n"
     ]
    }
   ],
   "source": [
    "if requires_gene_mapping:\n",
    "    gene_annotation = get_gene_annotation(soft_file)[0]\n",
    "    gene_annotation_summary = preview_df(gene_annotation)\n",
    "    print(gene_annotation_summary)"
   ]
  },
  {
   "cell_type": "markdown",
   "metadata": {
    "ExecuteTime": {
     "end_time": "2023-12-31T03:58:04.978931927Z",
     "start_time": "2023-12-31T03:58:04.966328339Z"
    },
    "collapsed": false
   },
   "source": [
    "Observe the first few cells in the ID column of the gene annotation dataframe, to find the names of columns that store the gene probe IDs and gene symbols respectively.\n",
    "Reference prompt:"
   ]
  },
  {
   "cell_type": "code",
   "execution_count": 19,
   "metadata": {
    "ExecuteTime": {
     "end_time": "2024-01-02T01:03:33.822912446Z",
     "start_time": "2024-01-02T01:03:33.804491826Z"
    },
    "collapsed": false
   },
   "outputs": [
    {
     "name": "stdout",
     "output_type": "stream",
     "text": [
      "\n",
      "    As a biomedical research team, we extracted the gene annotation data from a series in the GEO database, and saved it to a Python dictionary. Please read the dictionary, and decide which key stores the ID of the probe, and which key stores the gene symbols. Please strict follow this format in your answer:\n",
      "    probe_name_key = 'key_name1'\n",
      "    gene_name_key = 'key_name2'\n",
      "\n",
      "    Gene annotation dictionary:\n",
      "    {'ID': ['cg00035864', 'cg00050873', 'cg00061679', 'cg00063477', 'cg00121626'], 'Name': ['cg00035864', 'cg00050873', 'cg00061679', 'cg00063477', 'cg00121626'], 'AddressA_ID': ['31729416', '32735311', '28780415', '16712347', '19779393'], 'AlleleA_ProbeSeq': ['AAAACACTAACAATCTTATCCACATAAACCCTTAAATTTATCTCAAATTC', 'ACAAAAAAACAACACACAACTATAATAATTTTTAAAATAAATAAACCCCA', 'AAAACATTAAAAAACTAATTCACTACTATTTAATTACTTTATTTTCCATC', 'TATTCTTCCACACAAAATACTAAACRTATATTTACAAAAATACTTCCATC', 'AAAACTAATAAAAATAACTTACAAACCAAATACTATACCCTACAACTCTC'], 'AddressB_ID': [nan, '31717405', nan, nan, nan], 'AlleleB_ProbeSeq': [nan, 'ACGAAAAAACAACGCACAACTATAATAATTTTTAAAATAAATAAACCCCG', nan, nan, nan], 'Infinium_Design_Type': ['II', 'I', 'II', 'II', 'II'], 'Next_Base': [nan, 'A', nan, nan, nan], 'Color_Channel': [nan, 'Red', nan, nan, nan], 'Forward_Sequence': ['AATCCAAAGATGATGGAGGAGTGCCCGCTCATGATGTGAAGTACCTGCTCAGCTGGAAAC[CG]AATTTGAGATAAATTCAAGGGTCTATGTGGACAAGACTGCTAGTGTCTCTCTCTGGATTG', 'TATCTCTGTCTGGCGAGGAGGCAACGCACAACTGTGGTGGTTTTTGGAGTGGGTGGACCC[CG]GCCAAGACGGCCTGGGCTGACCAGAGACGGGAGGCAGAAAAAGTGGGCAGGTGGTTGCAG', 'TCAACAAATGAGAGACATTGAAGAACTAATTCACTACTATTTGGTTACTTTATTTTCCAT[CG]AAGAAAACCTCTTTTTAAAAACTAACACATAAATAAAATGAACGAAGAACAAACTAAACG', 'CTCCTGTACTTGTTCATTAAATAATGATTCCTTGGATATACCAAGTCTGGATAGCGGATT[CG]ATGGAAGCATTTTTGTAAATATACGTTCAGTATTTTGTGTGGAAGAACACAATCTAGCTG', 'AGGTGAATGAAGAGACTAATGGGAGTGGCTTGCAAGCCAGGTACTGTGCCCTACAACTCT[CG]CGCTGCCACAAAAAGCCAATTAACGAAGCAAACTGTTTTATCTTTTCCTCTCCCCAGAAG'], 'Genome_Build': [37.0, 37.0, 37.0, 37.0, 37.0], 'CHR': ['Y', 'Y', 'Y', 'Y', 'Y'], 'MAPINFO': [8553009.0, 9363356.0, 25314171.0, 22741795.0, 21664296.0], 'SourceSeq': ['AGACACTAGCAGTCTTGTCCACATAGACCCTTGAATTTATCTCAAATTCG', 'CGGGGTCCACCCACTCCAAAAACCACCACAGTTGTGCGTTGCCTCCTCGC', 'CGATGGAAAATAAAGTAACCAAATAGTAGTGAATTAGTTCTTCAATGTCT', 'CGATGGAAGCATTTTTGTAAATATACGTTCAGTATTTTGTGTGGAAGAAC', 'AGACTAATGGGAGTGGCTTGCAAGCCAGGTACTGTGCCCTACAACTCTCG'], 'Chromosome_36': ['Y', 'Y', 'Y', 'Y', 'Y'], 'Coordinate_36': ['8613009', '9973356', '23723559', '21151183', '20123684'], 'Strand': ['F', 'R', 'R', 'F', 'R'], 'Probe_SNPs': [nan, nan, nan, 'rs9341313', nan], 'Probe_SNPs_10': [nan, nan, nan, 'rs13447379', nan], 'Random_Loci': [nan, nan, nan, nan, nan], 'Methyl27_Loci': [nan, nan, nan, nan, nan], 'UCSC_RefGene_Name': ['TTTY18', 'TSPY4;FAM197Y2', 'DAZ1;DAZ4;DAZ4', 'EIF1AY', 'BCORL2'], 'UCSC_RefGene_Accession': ['NR_001550', 'NM_001164471;NR_001553', 'NM_004081;NM_020420;NM_001005375', 'NM_004681', 'NR_002923'], 'UCSC_RefGene_Group': ['TSS1500', 'Body;TSS1500', 'Body;Body;Body', 'Body', 'Body'], 'UCSC_CpG_Islands_Name': [nan, 'chrY:9363680-9363943', nan, 'chrY:22737825-22738052', 'chrY:21664481-21665063'], 'Relation_to_UCSC_CpG_Island': [nan, 'N_Shore', nan, 'S_Shelf', 'N_Shore'], 'Phantom': [nan, nan, nan, nan, nan], 'DMR': [nan, nan, nan, nan, nan], 'Enhancer': [nan, nan, nan, nan, nan], 'HMM_Island': [nan, 'Y:9973136-9976273', nan, nan, nan], 'Regulatory_Feature_Name': [nan, nan, nan, nan, nan], 'Regulatory_Feature_Group': [nan, nan, nan, nan, nan], 'DHS': [nan, nan, nan, nan, nan], 'RANGE_START': [8553009.0, 9363356.0, 25314171.0, 22741795.0, 21664296.0], 'RANGE_END': [8553132.0, 9363479.0, 25314294.0, 22741918.0, 21664419.0], 'RANGE_GB': ['NC_000024.9', 'NC_000024.9', 'NC_000024.9', 'NC_000024.9', 'NC_000024.9'], 'SPOT_ID': [nan, nan, nan, nan, nan]}\n",
      "    \n"
     ]
    }
   ],
   "source": [
    "if requires_gene_mapping:\n",
    "    print(f'''\n",
    "    As a biomedical research team, we extracted the gene annotation data from a series in the GEO database, and saved it to a Python dictionary. Please read the dictionary, and decide which key stores the ID of the probe, and which key stores the gene symbols. Please strict follow this format in your answer:\n",
    "    probe_name_key = 'key_name1'\n",
    "    gene_name_key = 'key_name2'\n",
    "\n",
    "    Gene annotation dictionary:\n",
    "    {gene_annotation_summary}\n",
    "    ''')"
   ]
  },
  {
   "cell_type": "code",
   "execution_count": 20,
   "metadata": {
    "ExecuteTime": {
     "end_time": "2024-01-02T01:03:35.113359369Z",
     "start_time": "2024-01-02T01:03:33.804666371Z"
    },
    "collapsed": false
   },
   "outputs": [],
   "source": [
    "if requires_gene_mapping:\n",
    "    probe_id_key = 'ID'\n",
    "    gene_symb_key = 'UCSC_RefGene_Name'\n",
    "    gene_mapping = get_gene_mapping(gene_annotation, probe_id_key, gene_symb_key)\n",
    "    genetic_data = apply_gene_mapping(genetic_data, gene_mapping)"
   ]
  },
  {
   "cell_type": "code",
   "execution_count": 21,
   "metadata": {
    "ExecuteTime": {
     "end_time": "2024-01-02T01:03:35.156584675Z",
     "start_time": "2024-01-02T01:03:35.114652593Z"
    },
    "collapsed": false
   },
   "outputs": [],
   "source": [
    "if NORMALIZE_GENE:\n",
    "    genetic_data = normalize_gene_symbols_in_index(genetic_data)"
   ]
  },
  {
   "cell_type": "code",
   "execution_count": 22,
   "metadata": {
    "ExecuteTime": {
     "end_time": "2024-01-02T01:03:35.158174021Z",
     "start_time": "2024-01-02T01:03:35.156777134Z"
    },
    "collapsed": false
   },
   "outputs": [],
   "source": [
    "merged_data = geo_merge_clinical_genetic_data(selected_clinical_data, genetic_data)\n",
    "# The preprocessing runs through, which means is_available should be True\n",
    "is_available = True"
   ]
  },
  {
   "cell_type": "code",
   "execution_count": 23,
   "metadata": {
    "ExecuteTime": {
     "end_time": "2024-01-02T01:03:35.158378853Z",
     "start_time": "2024-01-02T01:03:35.156895194Z"
    },
    "collapsed": false
   },
   "outputs": [
    {
     "name": "stdout",
     "output_type": "stream",
     "text": [
      "The merged dataset contains 15 samples.\n"
     ]
    }
   ],
   "source": [
    "print(f\"The merged dataset contains {len(merged_data)} samples.\")"
   ]
  },
  {
   "cell_type": "code",
   "execution_count": 24,
   "metadata": {
    "ExecuteTime": {
     "end_time": "2024-01-02T01:03:35.158646754Z",
     "start_time": "2024-01-02T01:03:35.156975304Z"
    },
    "collapsed": false
   },
   "outputs": [
    {
     "name": "stdout",
     "output_type": "stream",
     "text": [
      "For the feature 'Epilepsy', the least common label is '1.0' with 6 occurrences. This represents 40.00% of the dataset.\n",
      "The distribution of the feature 'Epilepsy' in this dataset is fine.\n",
      "\n",
      "Quartiles for 'Age':\n",
      "  25%: 24.5\n",
      "  50% (Median): 39.0\n",
      "  75%: 60.5\n",
      "Min: 13.0\n",
      "Max: 77.0\n",
      "The distribution of the feature 'Age' in this dataset is fine.\n",
      "\n",
      "For the feature 'Gender', the least common label is '0.0' with 5 occurrences. This represents 33.33% of the dataset.\n",
      "The distribution of the feature 'Gender' in this dataset is fine.\n",
      "\n"
     ]
    },
    {
     "data": {
      "text/plain": [
       "False"
      ]
     },
     "execution_count": 24,
     "metadata": {},
     "output_type": "execute_result"
    }
   ],
   "source": [
    "is_trait_biased, merged_data = judge_and_remove_biased_features(merged_data, TRAIT, trait_type=trait_type)\n",
    "is_trait_biased"
   ]
  },
  {
   "cell_type": "code",
   "execution_count": 25,
   "metadata": {
    "ExecuteTime": {
     "end_time": "2024-01-02T01:03:35.158803015Z",
     "start_time": "2024-01-02T01:03:35.157063388Z"
    },
    "collapsed": false
   },
   "outputs": [
    {
     "name": "stdout",
     "output_type": "stream",
     "text": [
      "A new JSON file was created at: ../../output1/Haoyang/Epilepsy/cohort_info.json\n"
     ]
    }
   ],
   "source": [
    "save_cohort_info(cohort, JSON_PATH, is_available, is_trait_biased, merged_data, note='')"
   ]
  },
  {
   "cell_type": "code",
   "execution_count": 26,
   "metadata": {
    "ExecuteTime": {
     "end_time": "2024-01-02T01:03:36.004312476Z",
     "start_time": "2024-01-02T01:03:35.157165158Z"
    },
    "collapsed": false
   },
   "outputs": [],
   "source": [
    "merged_data.head()\n",
    "if not is_trait_biased:\n",
    "    merged_data.to_csv(os.path.join(OUTPUT_DIR, cohort+'.csv'), index=False)"
   ]
  },
  {
   "cell_type": "markdown",
   "metadata": {
    "ExecuteTime": {
     "end_time": "2023-12-31T03:58:22.271683755Z",
     "start_time": "2023-12-31T03:58:22.246557674Z"
    },
    "id": "-MTPhRGxJV7I"
   },
   "source": [
    "### 3. Do regression & Cross Validation"
   ]
  },
  {
   "cell_type": "code",
   "execution_count": 41,
   "metadata": {
    "ExecuteTime": {
     "end_time": "2024-01-02T01:03:36.048788605Z",
     "start_time": "2024-01-02T01:03:36.005925887Z"
    },
    "collapsed": false
   },
   "outputs": [],
   "source": [
    "from utils import *"
   ]
  },
  {
   "cell_type": "code",
   "execution_count": 42,
   "metadata": {
    "ExecuteTime": {
     "end_time": "2024-01-02T01:03:36.049183603Z",
     "start_time": "2024-01-02T01:03:36.048440305Z"
    },
    "collapsed": false
   },
   "outputs": [
    {
     "data": {
      "text/plain": [
       "'Xena'"
      ]
     },
     "execution_count": 42,
     "metadata": {},
     "output_type": "execute_result"
    }
   ],
   "source": [
    "best_cohort, ranked_df = filter_and_rank_cohorts(JSON_PATH, 'has_age')\n",
    "best_cohort"
   ]
  },
  {
   "cell_type": "code",
   "execution_count": 43,
   "metadata": {
    "ExecuteTime": {
     "end_time": "2024-01-02T01:03:36.049430313Z",
     "start_time": "2024-01-02T01:03:36.048984361Z"
    },
    "collapsed": false
   },
   "outputs": [
    {
     "data": {
      "text/html": [
       "<div>\n",
       "<style scoped>\n",
       "    .dataframe tbody tr th:only-of-type {\n",
       "        vertical-align: middle;\n",
       "    }\n",
       "\n",
       "    .dataframe tbody tr th {\n",
       "        vertical-align: top;\n",
       "    }\n",
       "\n",
       "    .dataframe thead th {\n",
       "        text-align: right;\n",
       "    }\n",
       "</style>\n",
       "<table border=\"1\" class=\"dataframe\">\n",
       "  <thead>\n",
       "    <tr style=\"text-align: right;\">\n",
       "      <th></th>\n",
       "      <th>cohort_id</th>\n",
       "      <th>is_usable</th>\n",
       "      <th>is_available</th>\n",
       "      <th>is_biased</th>\n",
       "      <th>has_age</th>\n",
       "      <th>has_gender</th>\n",
       "      <th>sample_size</th>\n",
       "      <th>note</th>\n",
       "    </tr>\n",
       "  </thead>\n",
       "  <tbody>\n",
       "    <tr>\n",
       "      <th>0</th>\n",
       "      <td>Xena</td>\n",
       "      <td>True</td>\n",
       "      <td>True</td>\n",
       "      <td>False</td>\n",
       "      <td>True</td>\n",
       "      <td>True</td>\n",
       "      <td>1100</td>\n",
       "      <td></td>\n",
       "    </tr>\n",
       "  </tbody>\n",
       "</table>\n",
       "</div>"
      ],
      "text/plain": [
       "  cohort_id  is_usable  is_available  is_biased  has_age  has_gender  \\\n",
       "0      Xena       True          True      False     True        True   \n",
       "\n",
       "   sample_size note  \n",
       "0         1100       "
      ]
     },
     "execution_count": 43,
     "metadata": {},
     "output_type": "execute_result"
    }
   ],
   "source": [
    "ranked_df.head()"
   ]
  },
  {
   "cell_type": "code",
   "execution_count": 44,
   "metadata": {
    "ExecuteTime": {
     "end_time": "2024-01-02T01:03:36.345375576Z",
     "start_time": "2024-01-02T01:03:36.049289340Z"
    },
    "collapsed": false
   },
   "outputs": [],
   "source": [
    "merged_data = pd.read_csv(os.path.join(OUTPUT_DIR, best_cohort+'.csv'))"
   ]
  },
  {
   "cell_type": "code",
   "execution_count": 45,
   "metadata": {
    "ExecuteTime": {
     "end_time": "2024-01-02T01:03:36.400788548Z",
     "start_time": "2024-01-02T01:03:36.355439168Z"
    },
    "collapsed": false
   },
   "outputs": [
    {
     "data": {
      "text/html": [
       "<div>\n",
       "<style scoped>\n",
       "    .dataframe tbody tr th:only-of-type {\n",
       "        vertical-align: middle;\n",
       "    }\n",
       "\n",
       "    .dataframe tbody tr th {\n",
       "        vertical-align: top;\n",
       "    }\n",
       "\n",
       "    .dataframe thead th {\n",
       "        text-align: right;\n",
       "    }\n",
       "</style>\n",
       "<table border=\"1\" class=\"dataframe\">\n",
       "  <thead>\n",
       "    <tr style=\"text-align: right;\">\n",
       "      <th></th>\n",
       "      <th>Lung-Cancer</th>\n",
       "      <th>Age</th>\n",
       "      <th>Gender</th>\n",
       "      <th>ARHGEF10L</th>\n",
       "      <th>HIF3A</th>\n",
       "      <th>RNF17</th>\n",
       "      <th>RNF10</th>\n",
       "      <th>RNF11</th>\n",
       "      <th>RNF13</th>\n",
       "      <th>GTF2IP1</th>\n",
       "      <th>...</th>\n",
       "      <th>SLC7A10</th>\n",
       "      <th>PLA2G2C</th>\n",
       "      <th>TULP2</th>\n",
       "      <th>NPY5R</th>\n",
       "      <th>GNGT2</th>\n",
       "      <th>GNGT1</th>\n",
       "      <th>TULP3</th>\n",
       "      <th>BCL6B</th>\n",
       "      <th>GSTK1</th>\n",
       "      <th>SELP</th>\n",
       "    </tr>\n",
       "  </thead>\n",
       "  <tbody>\n",
       "    <tr>\n",
       "      <th>0</th>\n",
       "      <td>1</td>\n",
       "      <td>70.0</td>\n",
       "      <td>1.0</td>\n",
       "      <td>-0.056592</td>\n",
       "      <td>2.128674</td>\n",
       "      <td>-0.531035</td>\n",
       "      <td>-0.185972</td>\n",
       "      <td>-0.190878</td>\n",
       "      <td>-0.11891</td>\n",
       "      <td>-0.659794</td>\n",
       "      <td>...</td>\n",
       "      <td>3.634614</td>\n",
       "      <td>0.677218</td>\n",
       "      <td>0.015022</td>\n",
       "      <td>-1.155117</td>\n",
       "      <td>0.528367</td>\n",
       "      <td>2.75061</td>\n",
       "      <td>0.428423</td>\n",
       "      <td>-0.195527</td>\n",
       "      <td>-0.324695</td>\n",
       "      <td>0.193167</td>\n",
       "    </tr>\n",
       "    <tr>\n",
       "      <th>1</th>\n",
       "      <td>1</td>\n",
       "      <td>67.0</td>\n",
       "      <td>1.0</td>\n",
       "      <td>-0.569692</td>\n",
       "      <td>-0.318126</td>\n",
       "      <td>-0.531035</td>\n",
       "      <td>0.237428</td>\n",
       "      <td>0.011822</td>\n",
       "      <td>-0.00611</td>\n",
       "      <td>1.018406</td>\n",
       "      <td>...</td>\n",
       "      <td>4.908014</td>\n",
       "      <td>0.888518</td>\n",
       "      <td>-0.031778</td>\n",
       "      <td>-0.393117</td>\n",
       "      <td>1.632467</td>\n",
       "      <td>2.33551</td>\n",
       "      <td>-0.145577</td>\n",
       "      <td>-0.276027</td>\n",
       "      <td>-1.219395</td>\n",
       "      <td>1.850967</td>\n",
       "    </tr>\n",
       "    <tr>\n",
       "      <th>2</th>\n",
       "      <td>1</td>\n",
       "      <td>79.0</td>\n",
       "      <td>0.0</td>\n",
       "      <td>-0.899992</td>\n",
       "      <td>-0.918126</td>\n",
       "      <td>-0.531035</td>\n",
       "      <td>-0.621472</td>\n",
       "      <td>-0.454178</td>\n",
       "      <td>0.58719</td>\n",
       "      <td>-0.198894</td>\n",
       "      <td>...</td>\n",
       "      <td>0.489514</td>\n",
       "      <td>-0.086682</td>\n",
       "      <td>-0.748878</td>\n",
       "      <td>-1.173917</td>\n",
       "      <td>1.966367</td>\n",
       "      <td>-1.28139</td>\n",
       "      <td>-0.374877</td>\n",
       "      <td>0.714373</td>\n",
       "      <td>0.112305</td>\n",
       "      <td>-0.532833</td>\n",
       "    </tr>\n",
       "    <tr>\n",
       "      <th>3</th>\n",
       "      <td>1</td>\n",
       "      <td>68.0</td>\n",
       "      <td>1.0</td>\n",
       "      <td>0.667508</td>\n",
       "      <td>3.895974</td>\n",
       "      <td>-0.221535</td>\n",
       "      <td>-0.367272</td>\n",
       "      <td>0.131822</td>\n",
       "      <td>0.97629</td>\n",
       "      <td>-0.494994</td>\n",
       "      <td>...</td>\n",
       "      <td>5.730914</td>\n",
       "      <td>-0.086682</td>\n",
       "      <td>1.013722</td>\n",
       "      <td>-1.587117</td>\n",
       "      <td>0.359267</td>\n",
       "      <td>2.59051</td>\n",
       "      <td>0.806623</td>\n",
       "      <td>0.367373</td>\n",
       "      <td>-0.494595</td>\n",
       "      <td>-1.062233</td>\n",
       "    </tr>\n",
       "    <tr>\n",
       "      <th>4</th>\n",
       "      <td>1</td>\n",
       "      <td>66.0</td>\n",
       "      <td>1.0</td>\n",
       "      <td>-0.316892</td>\n",
       "      <td>2.380374</td>\n",
       "      <td>0.156865</td>\n",
       "      <td>0.232828</td>\n",
       "      <td>0.054822</td>\n",
       "      <td>0.27059</td>\n",
       "      <td>0.128606</td>\n",
       "      <td>...</td>\n",
       "      <td>4.163014</td>\n",
       "      <td>0.601218</td>\n",
       "      <td>-0.060978</td>\n",
       "      <td>-0.435417</td>\n",
       "      <td>1.111467</td>\n",
       "      <td>-1.28139</td>\n",
       "      <td>-0.128477</td>\n",
       "      <td>1.469373</td>\n",
       "      <td>0.194605</td>\n",
       "      <td>1.404667</td>\n",
       "    </tr>\n",
       "  </tbody>\n",
       "</table>\n",
       "<p>5 rows × 17342 columns</p>\n",
       "</div>"
      ],
      "text/plain": [
       "   Lung-Cancer   Age  Gender  ARHGEF10L     HIF3A     RNF17     RNF10  \\\n",
       "0            1  70.0     1.0  -0.056592  2.128674 -0.531035 -0.185972   \n",
       "1            1  67.0     1.0  -0.569692 -0.318126 -0.531035  0.237428   \n",
       "2            1  79.0     0.0  -0.899992 -0.918126 -0.531035 -0.621472   \n",
       "3            1  68.0     1.0   0.667508  3.895974 -0.221535 -0.367272   \n",
       "4            1  66.0     1.0  -0.316892  2.380374  0.156865  0.232828   \n",
       "\n",
       "      RNF11    RNF13   GTF2IP1  ...   SLC7A10   PLA2G2C     TULP2     NPY5R  \\\n",
       "0 -0.190878 -0.11891 -0.659794  ...  3.634614  0.677218  0.015022 -1.155117   \n",
       "1  0.011822 -0.00611  1.018406  ...  4.908014  0.888518 -0.031778 -0.393117   \n",
       "2 -0.454178  0.58719 -0.198894  ...  0.489514 -0.086682 -0.748878 -1.173917   \n",
       "3  0.131822  0.97629 -0.494994  ...  5.730914 -0.086682  1.013722 -1.587117   \n",
       "4  0.054822  0.27059  0.128606  ...  4.163014  0.601218 -0.060978 -0.435417   \n",
       "\n",
       "      GNGT2    GNGT1     TULP3     BCL6B     GSTK1      SELP  \n",
       "0  0.528367  2.75061  0.428423 -0.195527 -0.324695  0.193167  \n",
       "1  1.632467  2.33551 -0.145577 -0.276027 -1.219395  1.850967  \n",
       "2  1.966367 -1.28139 -0.374877  0.714373  0.112305 -0.532833  \n",
       "3  0.359267  2.59051  0.806623  0.367373 -0.494595 -1.062233  \n",
       "4  1.111467 -1.28139 -0.128477  1.469373  0.194605  1.404667  \n",
       "\n",
       "[5 rows x 17342 columns]"
      ]
     },
     "execution_count": 45,
     "metadata": {},
     "output_type": "execute_result"
    }
   ],
   "source": [
    "merged_data.head()"
   ]
  },
  {
   "cell_type": "code",
   "execution_count": 46,
   "metadata": {
    "ExecuteTime": {
     "end_time": "2024-01-02T01:03:36.401002087Z",
     "start_time": "2024-01-02T01:03:36.400659608Z"
    },
    "collapsed": false
   },
   "outputs": [],
   "source": [
    "# If both age and gender features are available, select 'age' as the condition.\n",
    "condition = 'Age'\n",
    "# Remove the other condition to prevent interference.\n",
    "merged_data = merged_data.drop(columns=['Gender'], errors='ignore').astype('float')"
   ]
  },
  {
   "cell_type": "code",
   "execution_count": 47,
   "metadata": {
    "ExecuteTime": {
     "end_time": "2024-01-02T01:03:36.403035823Z",
     "start_time": "2024-01-02T01:03:36.401081946Z"
    },
    "collapsed": false
   },
   "outputs": [],
   "source": [
    "X = merged_data.drop(columns=[TRAIT, condition]).values\n",
    "Y = merged_data[TRAIT].values\n",
    "Z = merged_data[condition].values"
   ]
  },
  {
   "cell_type": "markdown",
   "metadata": {
    "collapsed": false
   },
   "source": [
    "Select the appropriate regression model depending on whether the dataset shows batch effect."
   ]
  },
  {
   "cell_type": "code",
   "execution_count": 48,
   "metadata": {
    "ExecuteTime": {
     "end_time": "2024-01-02T01:03:36.403263628Z",
     "start_time": "2024-01-02T01:03:36.401336170Z"
    },
    "collapsed": false
   },
   "outputs": [
    {
     "data": {
      "text/plain": [
       "True"
      ]
     },
     "execution_count": 48,
     "metadata": {},
     "output_type": "execute_result"
    }
   ],
   "source": [
    "has_batch_effect = detect_batch_effect(X)\n",
    "has_batch_effect"
   ]
  },
  {
   "cell_type": "code",
   "execution_count": 49,
   "metadata": {
    "ExecuteTime": {
     "end_time": "2024-01-02T01:03:36.475053437Z",
     "start_time": "2024-01-02T01:03:36.444397231Z"
    },
    "collapsed": false
   },
   "outputs": [],
   "source": [
    "\n",
    "if has_batch_effect:\n",
    "    model_constructor1 = VariableSelection\n",
    "    model_params1 = {'modified': True, 'lamda': 3e-4}\n",
    "    model_constructor2 = VariableSelection\n",
    "    model_params2 = {'modified': False}\n",
    "else:\n",
    "    model_constructor1 = Lasso\n",
    "    model_params1 = {'alpha': 1.0, 'random_state': 42}\n",
    "    model_constructor2 = VariableSelection\n",
    "    model_params2 = {'modified': False}"
   ]
  },
  {
   "cell_type": "code",
   "execution_count": 50,
   "metadata": {
    "ExecuteTime": {
     "end_time": "2024-01-02T01:03:50.733335364Z",
     "start_time": "2024-01-02T01:03:36.444563711Z"
    },
    "collapsed": false
   },
   "outputs": [
    {
     "name": "stdout",
     "output_type": "stream",
     "text": [
      "alpha for Lasso: 0.0003\n",
      "alpha for Lasso: 0.0003\n",
      "alpha for Lasso: 0.0003\n",
      "alpha for Lasso: 0.0003\n",
      "alpha for Lasso: 0.0003\n",
      "The cross-validation accuracy is 59.27% ± 1.43%\n"
     ]
    }
   ],
   "source": [
    "trait_type = 'binary'  # Remember to set this properly, either 'binary' or 'continuous'\n",
    "cv_mean1, cv_std1 = cross_validation(X, Y, Z, model_constructor1, model_params1, target_type=trait_type)"
   ]
  },
  {
   "cell_type": "code",
   "execution_count": 52,
   "metadata": {},
   "outputs": [
    {
     "name": "stderr",
     "output_type": "stream",
     "text": [
      "/home/yxcheng/anaconda3/envs/ai4sci/lib/python3.10/site-packages/sparse_lmm/helpingMethods.py:49: RuntimeWarning: invalid value encountered in divide\n",
      "  ts = beta / np.sqrt(var * sigma)\n",
      "/home/yxcheng/anaconda3/envs/ai4sci/lib/python3.10/site-packages/sparse_lmm/helpingMethods.py:49: RuntimeWarning: invalid value encountered in divide\n",
      "  ts = beta / np.sqrt(var * sigma)\n",
      "/home/yxcheng/anaconda3/envs/ai4sci/lib/python3.10/site-packages/sparse_lmm/helpingMethods.py:49: RuntimeWarning: invalid value encountered in divide\n",
      "  ts = beta / np.sqrt(var * sigma)\n",
      "/home/yxcheng/anaconda3/envs/ai4sci/lib/python3.10/site-packages/sparse_lmm/helpingMethods.py:49: RuntimeWarning: invalid value encountered in divide\n",
      "  ts = beta / np.sqrt(var * sigma)\n"
     ]
    },
    {
     "name": "stdout",
     "output_type": "stream",
     "text": [
      "The cross-validation accuracy is 90.09% ± 2.36%\n"
     ]
    }
   ],
   "source": [
    "cv_mean2, cv_std2 = cross_validation(X, Y, Z, model_constructor2, model_params2, target_type=trait_type)"
   ]
  },
  {
   "cell_type": "code",
   "execution_count": 53,
   "metadata": {
    "ExecuteTime": {
     "end_time": "2024-01-02T01:03:53.587340410Z",
     "start_time": "2024-01-02T01:03:50.732779025Z"
    },
    "collapsed": false
   },
   "outputs": [
    {
     "name": "stdout",
     "output_type": "stream",
     "text": [
      "alpha for Lasso: 0.0003\n"
     ]
    },
    {
     "name": "stderr",
     "output_type": "stream",
     "text": [
      "/home/yxcheng/anaconda3/envs/ai4sci/lib/python3.10/site-packages/sparse_lmm/helpingMethods.py:49: RuntimeWarning: invalid value encountered in divide\n",
      "  ts = beta / np.sqrt(var * sigma)\n"
     ]
    }
   ],
   "source": [
    "normalized_X, _ = normalize_data(X)\n",
    "normalized_Z, _ = normalize_data(Z)\n",
    "\n",
    "# Train regression model on the whole dataset to identify significant genes\n",
    "model1 = ResidualizationRegressor(model_constructor1, model_params1)\n",
    "model1.fit(normalized_X, Y, normalized_Z)\n",
    "\n",
    "model2 = ResidualizationRegressor(model_constructor2, model_params2)\n",
    "model2.fit(normalized_X, Y, normalized_Z)"
   ]
  },
  {
   "cell_type": "markdown",
   "metadata": {
    "ExecuteTime": {
     "end_time": "2023-10-14T04:50:59.072075075Z",
     "start_time": "2023-10-14T04:50:38.739499998Z"
    },
    "id": "EjJrxbvb4nlj"
   },
   "source": [
    "### 5. Discussion and report"
   ]
  },
  {
   "cell_type": "code",
   "execution_count": 55,
   "metadata": {
    "ExecuteTime": {
     "end_time": "2024-01-02T01:03:53.641570844Z",
     "start_time": "2024-01-02T01:03:53.627778553Z"
    },
    "collapsed": false
   },
   "outputs": [
    {
     "name": "stdout",
     "output_type": "stream",
     "text": [
      "Effect of the condition on the target variable:\n",
      "Variable: Age\n",
      "Coefficient: -0.0077\n",
      "Found 10 genes with non-zero coefficients associated with the trait 'Lung-Cancer' conditional on the factor 'Age'. These genes are identified as significant based on the regression model.\n",
      "   Variable  Coefficient  Absolute Coefficient\n",
      "    SNORA81     0.605617              0.605617\n",
      "    SNORD89    -0.561992              0.561992\n",
      "     OR4F17     0.468452              0.468452\n",
      "SNORD115-26    -0.289358              0.289358\n",
      "     OR2L1P    -0.278115              0.278115\n",
      "    TBC1D3C     0.248994              0.248994\n",
      "     DMRTA2    -0.194621              0.194621\n",
      "     IFIT1B    -0.188779              0.188779\n",
      "    PPIAL4E     0.150659              0.150659\n",
      "     TTTY16    -0.082366              0.082366\n"
     ]
    },
    {
     "name": "stderr",
     "output_type": "stream",
     "text": [
      "/home/yxcheng/AI4Science_gold_standard/stage1/Yuxuan/../utils.py:469: SettingWithCopyWarning: \n",
      "A value is trying to be set on a copy of a slice from a DataFrame.\n",
      "Try using .loc[row_indexer,col_indexer] = value instead\n",
      "\n",
      "See the caveats in the documentation: https://pandas.pydata.org/pandas-docs/stable/user_guide/indexing.html#returning-a-view-versus-a-copy\n",
      "  gene_regression_df['Absolute Coefficient'] = gene_regression_df['Coefficient'].abs()\n"
     ]
    }
   ],
   "source": [
    "\n",
    "feature_cols = merged_data.columns.tolist()\n",
    "feature_cols.remove(TRAIT)\n",
    "\n",
    "threshold = 0.05\n",
    "interpret_result(model1, feature_cols, TRAIT, condition, threshold=threshold, save_output=True,\n",
    "                 output_dir=OUTPUT_DIR, model_id=1)"
   ]
  },
  {
   "cell_type": "code",
   "execution_count": 56,
   "metadata": {
    "collapsed": false
   },
   "outputs": [
    {
     "name": "stdout",
     "output_type": "stream",
     "text": [
      "Effect of the condition on the target variable:\n",
      "Variable: Age\n",
      "Coefficient: -0.0077\n",
      "Found 14 significant genes associated with the trait 'Lung-Cancer' conditional on the factor 'Age', with corrected p-value < 0.05:\n",
      "Variable  Coefficient      p_value  corrected_p_value\n",
      "   MEX3A     0.061062 2.147189e-07           0.003723\n",
      " SLC19A1    -0.038907 6.271788e-07           0.005437\n",
      "  CRABP2     0.036440 1.633672e-06           0.009442\n",
      "   HMGB3     0.042606 8.393633e-06           0.020791\n",
      " DEFB118     0.028296 7.138943e-06           0.020791\n",
      "     IL3    -0.016966 5.077872e-06           0.020791\n",
      "  FAM83A     0.043838 8.074414e-06           0.020791\n",
      "    RCC1     0.041270 1.786386e-05           0.028158\n",
      "    NUF2     0.068410 1.754965e-05           0.028158\n",
      "    SPP1     0.032014 1.782137e-05           0.028158\n",
      "    ETV4     0.037361 1.688133e-05           0.028158\n",
      "   EPB42    -0.020447 2.157070e-05           0.031168\n",
      "   CENPM    -0.051850 3.061145e-05           0.040829\n",
      " PLEKHN1     0.044331 3.372218e-05           0.041765\n"
     ]
    },
    {
     "name": "stderr",
     "output_type": "stream",
     "text": [
      "/home/yxcheng/AI4Science_gold_standard/stage1/Yuxuan/../utils.py:478: SettingWithCopyWarning: \n",
      "A value is trying to be set on a copy of a slice from a DataFrame.\n",
      "Try using .loc[row_indexer,col_indexer] = value instead\n",
      "\n",
      "See the caveats in the documentation: https://pandas.pydata.org/pandas-docs/stable/user_guide/indexing.html#returning-a-view-versus-a-copy\n",
      "  gene_regression_df.loc[:, 'corrected_p_value'] = corrected_p_values\n"
     ]
    }
   ],
   "source": [
    "\n",
    "interpret_result(model2, feature_cols, TRAIT, condition, threshold=threshold, save_output=True,\n",
    "                 output_dir=OUTPUT_DIR, model_id=2)"
   ]
  }
 ],
 "metadata": {
  "colab": {
   "provenance": []
  },
  "kernelspec": {
   "display_name": "Python 3 (ipykernel)",
   "language": "python",
   "name": "python3"
  },
  "language_info": {
   "codemirror_mode": {
    "name": "ipython",
    "version": 3
   },
   "file_extension": ".py",
   "mimetype": "text/x-python",
   "name": "python",
   "nbconvert_exporter": "python",
   "pygments_lexer": "ipython3",
   "version": "3.10.13"
  }
 },
 "nbformat": 4,
 "nbformat_minor": 0
}
