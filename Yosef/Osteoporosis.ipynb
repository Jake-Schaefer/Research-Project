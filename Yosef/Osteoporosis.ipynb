{
 "cells": [
  {
   "cell_type": "markdown",
   "metadata": {
    "collapsed": false
   },
   "source": [
    "# Gold standard curation: Preprocessing and single-step regression"
   ]
  },
  {
   "cell_type": "markdown",
   "metadata": {
    "collapsed": false
   },
   "source": [
    "In this stage of gold standard curation, we will do the data preprocessing, selection, and single-step regression for the 153 traits in our question set. The workflow consists of the following steps:\n",
    "\n",
    "1. Preprocess all the cohorts related to this trait. Each cohort should be converted to a tabular form and saved to a csv file, with columns being genetic factors, the trait, and age, gender if available;\n",
    "2. If there exists at least one cohort with age or gender information, conduct regression analysis with genetic features together with age or gender as the regressors.\n"
   ]
  },
  {
   "cell_type": "markdown",
   "metadata": {
    "collapsed": false
   },
   "source": [
    "# 1. Basic setup"
   ]
  },
  {
   "cell_type": "code",
   "execution_count": 41,
   "metadata": {
    "ExecuteTime": {
     "end_time": "2024-01-02T01:02:53.240839272Z",
     "start_time": "2024-01-02T01:02:53.240575109Z"
    },
    "collapsed": false
   },
   "outputs": [],
   "source": [
    "import os\n",
    "import sys\n",
    "\n",
    "sys.path.append('..')\n",
    "# Set your preferred name\n",
    "USER = \"Yuxuan\"\n",
    "# Set the data and output directories\n",
    "DATA_ROOT = '/home/yxcheng'\n",
    "OUTPUT_ROOT = '../../output1'\n",
    "TRAIT = 'Osteoporosis'\n",
    "\n",
    "OUTPUT_DIR = os.path.join(OUTPUT_ROOT, USER, '-'.join(TRAIT.split()))\n",
    "JSON_PATH = os.path.join(OUTPUT_DIR, \"cohort_info.json\")\n",
    "if not os.path.exists(OUTPUT_DIR):\n",
    "    os.makedirs(OUTPUT_DIR, exist_ok=True)\n",
    "\n",
    "# Gene symbol normalization may take 1-2 minutes. You may set it to False for debugging.\n",
    "NORMALIZE_GENE = True"
   ]
  },
  {
   "cell_type": "code",
   "execution_count": 2,
   "metadata": {
    "ExecuteTime": {
     "end_time": "2024-01-02T01:02:53.501910797Z",
     "start_time": "2024-01-02T01:02:53.496254990Z"
    },
    "colab": {
     "base_uri": "https://localhost:8080/"
    },
    "id": "jMTdsU43vVg3",
    "outputId": "38886111-f442-44b4-8398-96bf384d7abd"
   },
   "outputs": [
    {
     "data": {
      "text/plain": [
       "\"import os\\nfrom google.colab import drive\\n\\ndrive.mount('/content/drive', force_remount=True)\\nproj_dir = '/content/drive/MyDrive/AI4Science_Public'\\nos.chdir(proj_dir)\""
      ]
     },
     "execution_count": 2,
     "metadata": {},
     "output_type": "execute_result"
    }
   ],
   "source": [
    "# This cell is only for use on Google Colab. Skip it if you run your code in other environments\n",
    "\n",
    "\"\"\"import os\n",
    "from google.colab import drive\n",
    "\n",
    "drive.mount('/content/drive', force_remount=True)\n",
    "proj_dir = '/content/drive/MyDrive/AI4Science_Public'\n",
    "os.chdir(proj_dir)\"\"\""
   ]
  },
  {
   "cell_type": "markdown",
   "metadata": {
    "collapsed": false
   },
   "source": [
    "# 2. Data preprocessing and selection"
   ]
  },
  {
   "cell_type": "markdown",
   "metadata": {
    "collapsed": false
   },
   "source": [
    "## 2.1. The TCGA Xena dataset"
   ]
  },
  {
   "cell_type": "markdown",
   "metadata": {
    "collapsed": false
   },
   "source": [
    "In TCGA Xena, there is either zero or one cohort related to the trait. We search the names of subdirectories to see if any matches the trait. If a match is found, we directly obtain the file paths."
   ]
  },
  {
   "cell_type": "code",
   "execution_count": 2,
   "metadata": {
    "ExecuteTime": {
     "end_time": "2024-01-02T01:02:56.462746833Z",
     "start_time": "2024-01-02T01:02:55.818581842Z"
    },
    "collapsed": false
   },
   "outputs": [
    {
     "data": {
      "text/plain": [
       "['TCGA_Adrenocortical_Cancer_(ACC)',\n",
       " 'TCGA_Bile_Duct_Cancer_(CHOL)',\n",
       " 'TCGA_Lower_Grade_Glioma_(LGG)',\n",
       " 'TCGA_Acute_Myeloid_Leukemia_(LAML)',\n",
       " 'TCGA_Esophageal_Cancer_(ESCA)',\n",
       " 'TCGA_Thyroid_Cancer_(THCA)',\n",
       " 'TCGA_Ocular_melanomas_(UVM)',\n",
       " 'TCGA_Ovarian_Cancer_(OV)',\n",
       " 'TCGA_Prostate_Cancer_(PRAD)',\n",
       " 'CrawlData.ipynb',\n",
       " 'TCGA_Kidney_Papillary_Cell_Carcinoma_(KIRP)',\n",
       " 'TCGA_Lung_Cancer_(LUNG)',\n",
       " 'TCGA_Endometrioid_Cancer_(UCEC)',\n",
       " 'TCGA_Testicular_Cancer_(TGCT)',\n",
       " 'TCGA_lower_grade_glioma_and_glioblastoma_(GBMLGG)',\n",
       " 'TCGA_Pancreatic_Cancer_(PAAD)',\n",
       " 'TCGA_Glioblastoma_(GBM)',\n",
       " 'TCGA_Melanoma_(SKCM)',\n",
       " 'TCGA_Kidney_Clear_Cell_Carcinoma_(KIRC)',\n",
       " 'TCGA_Mesothelioma_(MESO)',\n",
       " 'TCGA_Rectal_Cancer_(READ)',\n",
       " 'TCGA_Head_and_Neck_Cancer_(HNSC)',\n",
       " 'TCGA_Large_Bcell_Lymphoma_(DLBC)',\n",
       " 'TCGA_Uterine_Carcinosarcoma_(UCS)',\n",
       " 'TCGA_Colon_Cancer_(COAD)',\n",
       " 'TCGA_Breast_Cancer_(BRCA)',\n",
       " 'TCGA_Bladder_Cancer_(BLCA)',\n",
       " 'TCGA_Sarcoma_(SARC)',\n",
       " 'TCGA_Lung_Squamous_Cell_Carcinoma_(LUSC)',\n",
       " 'TCGA_Cervical_Cancer_(CESC)',\n",
       " 'TCGA_Kidney_Chromophobe_(KICH)',\n",
       " 'TCGA_Stomach_Cancer_(STAD)',\n",
       " 'TCGA_Lung_Adenocarcinoma_(LUAD)',\n",
       " '.DS_Store',\n",
       " 'TCGA_Thymoma_(THYM)',\n",
       " 'TCGA_Colon_and_Rectal_Cancer_(COADREAD)',\n",
       " 'TCGA_Pheochromocytoma_Paraganglioma_(PCPG)',\n",
       " 'TCGA_Liver_Cancer_(LIHC)']"
      ]
     },
     "execution_count": 2,
     "metadata": {},
     "output_type": "execute_result"
    }
   ],
   "source": [
    "import os\n",
    "from utils import *\n",
    "\n",
    "dataset = 'TCGA'\n",
    "dataset_dir = os.path.join(DATA_ROOT, dataset)\n",
    "os.listdir(dataset_dir)[:]"
   ]
  },
  {
   "cell_type": "markdown",
   "metadata": {
    "collapsed": false
   },
   "source": [
    "If no match is found, jump directly to GEO in Part 2.2"
   ]
  },
  {
   "cell_type": "code",
   "execution_count": 5,
   "metadata": {
    "collapsed": false
   },
   "outputs": [],
   "source": [
    "trait_subdir = \"TCGA_Lung_Cancer_(LUNG)\"\n",
    "cohort = 'Xena'\n",
    "# All the cancer traits in Xena are binary\n",
    "trait_type = 'binary'\n",
    "# Once a relevant cohort is found in Xena, we can generally assume the gene and clinical data are available\n",
    "is_available = True\n",
    "\n",
    "clinical_data_file = os.path.join(dataset_dir, trait_subdir, 'TCGA.LUNG.sampleMap_LUNG_clinicalMatrix')\n",
    "genetic_data_file = os.path.join(dataset_dir, trait_subdir, 'TCGA.LUNG.sampleMap_HiSeqV2_PANCAN.gz')"
   ]
  },
  {
   "cell_type": "code",
   "execution_count": 6,
   "metadata": {
    "id": "MudwB-_iz7sc"
   },
   "outputs": [],
   "source": [
    "import pandas as pd\n",
    "\n",
    "clinical_data = pd.read_csv(clinical_data_file, sep='\\t', index_col=0)\n",
    "genetic_data = pd.read_csv(genetic_data_file, compression='gzip', sep='\\t', index_col=0)\n",
    "age_col = gender_col = None"
   ]
  },
  {
   "cell_type": "code",
   "execution_count": 7,
   "metadata": {
    "collapsed": false
   },
   "outputs": [],
   "source": [
    "_, clinical_data_cols = check_rows_and_columns(clinical_data)"
   ]
  },
  {
   "cell_type": "code",
   "execution_count": 8,
   "metadata": {
    "collapsed": false
   },
   "outputs": [
    {
     "data": {
      "text/plain": [
       "['ABSOLUTE_Ploidy',\n",
       " 'ABSOLUTE_Purity',\n",
       " 'AKT1',\n",
       " 'ALK_translocation',\n",
       " 'BRAF',\n",
       " 'CBL',\n",
       " 'CTNNB1',\n",
       " 'Canonical_mut_in_KRAS_EGFR_ALK',\n",
       " 'Cnncl_mt_n_KRAS_EGFR_ALK_RET_ROS1_BRAF_ERBB2_HRAS_NRAS_AKT1_MAP2',\n",
       " 'EGFR']"
      ]
     },
     "execution_count": 8,
     "metadata": {},
     "output_type": "execute_result"
    }
   ],
   "source": [
    "clinical_data_cols[:10]"
   ]
  },
  {
   "cell_type": "markdown",
   "metadata": {
    "ExecuteTime": {
     "end_time": "2023-12-28T20:20:11.841042813Z",
     "start_time": "2023-12-28T20:20:11.834458206Z"
    },
    "collapsed": false
   },
   "source": [
    "Read all the column names in the clinical dataset, to find the columns that record information about age or gender.\n",
    "Reference prompt:"
   ]
  },
  {
   "cell_type": "code",
   "execution_count": 9,
   "metadata": {
    "collapsed": false
   },
   "outputs": [
    {
     "data": {
      "text/plain": [
       "\"\\nBelow is a list of column names from a biomedical dataset. Please examine it and identify the columns that are likely to contain information about patients' age. Additionally, please do the same for columns that may hold data on patients' gender. Please provide your answer by strictly following this format, without redundant words:\\ncandidate_age_cols = [col_name1, col_name2, ...]\\ncandidate_gender_cols = [col_name1, col_name2, ...]\\nIf no columns match a criterion, please provide an empty list.\\n\\nColumn names:\\n['ABSOLUTE_Ploidy', 'ABSOLUTE_Purity', 'AKT1', 'ALK_translocation', 'BRAF', 'CBL', 'CTNNB1', 'Canonical_mut_in_KRAS_EGFR_ALK', 'Cnncl_mt_n_KRAS_EGFR_ALK_RET_ROS1_BRAF_ERBB2_HRAS_NRAS_AKT1_MAP2', 'EGFR', 'ERBB2', 'ERBB4', 'Estimated_allele_fraction_of_a_clonal_varnt_prsnt_t_1_cpy_pr_cll', 'Expression_Subtype', 'HRAS', 'KRAS', 'MAP2K1', 'MET', 'NRAS', 'PIK3CA', 'PTPN11', 'Pathology', 'Pathology_Updated', 'RET_translocation', 'ROS1_translocation', 'STK11', 'WGS_as_of_20120731_0_no_1_yes', '_INTEGRATION', '_PANCAN_CNA_PANCAN_K8', '_PANCAN_Cluster_Cluster_PANCAN', '_PANCAN_DNAMethyl_PANCAN', '_PANCAN_RPPA_PANCAN_K8', '_PANCAN_UNC_RNAseq_PANCAN_K16', '_PANCAN_miRNA_PANCAN', '_PANCAN_mutation_PANCAN', '_PATIENT', '_cohort', '_primary_disease', '_primary_site', 'additional_pharmaceutical_therapy', 'additional_radiation_therapy', 'additional_surgery_locoregional_procedure', 'additional_surgery_metastatic_procedure', 'age_at_initial_pathologic_diagnosis', 'anatomic_neoplasm_subdivision', 'anatomic_neoplasm_subdivision_other', 'bcr_followup_barcode', 'bcr_patient_barcode', 'bcr_sample_barcode', 'days_to_additional_surgery_locoregional_procedure', 'days_to_additional_surgery_metastatic_procedure', 'days_to_birth', 'days_to_collection', 'days_to_death', 'days_to_initial_pathologic_diagnosis', 'days_to_last_followup', 'days_to_new_tumor_event_after_initial_treatment', 'disease_code', 'dlco_predictive_percent', 'eastern_cancer_oncology_group', 'egfr_mutation_performed', 'egfr_mutation_result', 'eml4_alk_translocation_method', 'eml4_alk_translocation_performed', 'followup_case_report_form_submission_reason', 'followup_treatment_success', 'form_completion_date', 'gender', 'histological_type', 'history_of_neoadjuvant_treatment', 'icd_10', 'icd_o_3_histology', 'icd_o_3_site', 'informed_consent_verified', 'initial_weight', 'intermediate_dimension', 'is_ffpe', 'karnofsky_performance_score', 'kras_gene_analysis_performed', 'kras_mutation_found', 'kras_mutation_result', 'location_in_lung_parenchyma', 'longest_dimension', 'lost_follow_up', 'new_neoplasm_event_type', 'new_tumor_event_after_initial_treatment', 'number_pack_years_smoked', 'oct_embedded', 'other_dx', 'pathologic_M', 'pathologic_N', 'pathologic_T', 'pathologic_stage', 'pathology_report_file_name', 'patient_id', 'performance_status_scale_timing', 'person_neoplasm_cancer_status', 'post_bronchodilator_fev1_fvc_percent', 'post_bronchodilator_fev1_percent', 'pre_bronchodilator_fev1_fvc_percent', 'pre_bronchodilator_fev1_percent', 'primary_therapy_outcome_success', 'progression_determined_by', 'project_code', 'pulmonary_function_test_performed', 'radiation_therapy', 'residual_tumor', 'sample_type', 'sample_type_id', 'shortest_dimension', 'stopped_smoking_year', 'system_version', 'targeted_molecular_therapy', 'tissue_prospective_collection_indicator', 'tissue_retrospective_collection_indicator', 'tissue_source_site', 'tobacco_smoking_history', 'tobacco_smoking_history_indicator', 'tumor_tissue_site', 'vial_number', 'vital_status', 'year_of_initial_pathologic_diagnosis', 'year_of_tobacco_smoking_onset', '_GENOMIC_ID_TCGA_LUNG_exp_HiSeqV2_exon', '_GENOMIC_ID_TCGA_LUNG_hMethyl27', '_GENOMIC_ID_TCGA_LUNG_mutation', '_GENOMIC_ID_TCGA_LUNG_exp_HiSeqV2_PANCAN', '_GENOMIC_ID_TCGA_LUNG_hMethyl450', '_GENOMIC_ID_TCGA_LUNG_gistic2thd', '_GENOMIC_ID_TCGA_LUNG_G4502A_07_3', '_GENOMIC_ID_TCGA_LUNG_exp_HiSeqV2', '_GENOMIC_ID_TCGA_LUNG_gistic2', '_GENOMIC_ID_TCGA_LUNG_RPPA_RBN']\\n\""
      ]
     },
     "execution_count": 9,
     "metadata": {},
     "output_type": "execute_result"
    }
   ],
   "source": [
    "f'''\n",
    "Below is a list of column names from a biomedical dataset. Please examine it and identify the columns that are likely to contain information about patients' age. Additionally, please do the same for columns that may hold data on patients' gender. Please provide your answer by strictly following this format, without redundant words:\n",
    "candidate_age_cols = [col_name1, col_name2, ...]\n",
    "candidate_gender_cols = [col_name1, col_name2, ...]\n",
    "If no columns match a criterion, please provide an empty list.\n",
    "\n",
    "Column names:\n",
    "{clinical_data_cols}\n",
    "'''"
   ]
  },
  {
   "cell_type": "code",
   "execution_count": 10,
   "metadata": {
    "collapsed": false
   },
   "outputs": [],
   "source": [
    "candidate_age_cols = ['age_at_initial_pathologic_diagnosis', 'days_to_birth', 'days_to_collection', 'days_to_death', 'days_to_initial_pathologic_diagnosis', 'days_to_last_followup', 'days_to_new_tumor_event_after_initial_treatment', 'stopped_smoking_year', 'year_of_initial_pathologic_diagnosis', 'year_of_tobacco_smoking_onset']\n",
    "\n",
    "candidate_gender_cols = ['gender']"
   ]
  },
  {
   "cell_type": "markdown",
   "metadata": {
    "ExecuteTime": {
     "end_time": "2023-12-31T03:57:44.207565572Z",
     "start_time": "2023-12-31T03:57:44.202177544Z"
    },
    "collapsed": false
   },
   "source": [
    "Choose a single column from the candidate columns that record age and gender information respectively.\n",
    "If no column meets the requirement, keep 'age_col' or 'gender_col' to None"
   ]
  },
  {
   "cell_type": "code",
   "execution_count": 11,
   "metadata": {
    "collapsed": false
   },
   "outputs": [
    {
     "data": {
      "text/plain": [
       "{'age_at_initial_pathologic_diagnosis': [70.0, 67.0, 79.0, 68.0, 66.0],\n",
       " 'days_to_birth': [-25752.0, -24532.0, -29068.0, -24868.0, -24411.0],\n",
       " 'days_to_collection': [nan, nan, nan, nan, nan],\n",
       " 'days_to_death': [nan, nan, '121', nan, nan],\n",
       " 'days_to_initial_pathologic_diagnosis': [0.0, 0.0, 0.0, 0.0, 0.0],\n",
       " 'days_to_last_followup': ['0', '1523', nan, '607', '426'],\n",
       " 'days_to_new_tumor_event_after_initial_treatment': [nan,\n",
       "  nan,\n",
       "  nan,\n",
       "  334.0,\n",
       "  183.0],\n",
       " 'stopped_smoking_year': [nan, nan, nan, nan, 1987.0],\n",
       " 'year_of_initial_pathologic_diagnosis': [2009.0,\n",
       "  2007.0,\n",
       "  2007.0,\n",
       "  2009.0,\n",
       "  2009.0],\n",
       " 'year_of_tobacco_smoking_onset': [nan, nan, nan, nan, 1963.0]}"
      ]
     },
     "execution_count": 11,
     "metadata": {},
     "output_type": "execute_result"
    }
   ],
   "source": [
    "preview_df(clinical_data[candidate_age_cols])"
   ]
  },
  {
   "cell_type": "code",
   "execution_count": 12,
   "metadata": {
    "collapsed": false
   },
   "outputs": [],
   "source": [
    "age_col = 'age_at_initial_pathologic_diagnosis'"
   ]
  },
  {
   "cell_type": "code",
   "execution_count": 13,
   "metadata": {
    "collapsed": false
   },
   "outputs": [
    {
     "data": {
      "text/plain": [
       "{'gender': ['MALE', 'MALE', 'FEMALE', 'MALE', 'MALE']}"
      ]
     },
     "execution_count": 13,
     "metadata": {},
     "output_type": "execute_result"
    }
   ],
   "source": [
    "preview_df(clinical_data[candidate_gender_cols])"
   ]
  },
  {
   "cell_type": "code",
   "execution_count": 14,
   "metadata": {
    "collapsed": false
   },
   "outputs": [],
   "source": [
    "gender_col = 'gender'"
   ]
  },
  {
   "cell_type": "code",
   "execution_count": 15,
   "metadata": {
    "collapsed": false
   },
   "outputs": [],
   "source": [
    "selected_clinical_data = xena_select_clinical_features(clinical_data, TRAIT, age_col, gender_col)"
   ]
  },
  {
   "cell_type": "code",
   "execution_count": 16,
   "metadata": {
    "collapsed": false
   },
   "outputs": [],
   "source": [
    "if NORMALIZE_GENE:\n",
    "    genetic_data = normalize_gene_symbols_in_index(genetic_data)"
   ]
  },
  {
   "cell_type": "code",
   "execution_count": 17,
   "metadata": {
    "collapsed": false
   },
   "outputs": [
    {
     "data": {
      "text/html": [
       "<div>\n",
       "<style scoped>\n",
       "    .dataframe tbody tr th:only-of-type {\n",
       "        vertical-align: middle;\n",
       "    }\n",
       "\n",
       "    .dataframe tbody tr th {\n",
       "        vertical-align: top;\n",
       "    }\n",
       "\n",
       "    .dataframe thead th {\n",
       "        text-align: right;\n",
       "    }\n",
       "</style>\n",
       "<table border=\"1\" class=\"dataframe\">\n",
       "  <thead>\n",
       "    <tr style=\"text-align: right;\">\n",
       "      <th></th>\n",
       "      <th>Lung-Cancer</th>\n",
       "      <th>Age</th>\n",
       "      <th>Gender</th>\n",
       "      <th>ARHGEF10L</th>\n",
       "      <th>HIF3A</th>\n",
       "      <th>RNF17</th>\n",
       "      <th>RNF10</th>\n",
       "      <th>RNF11</th>\n",
       "      <th>RNF13</th>\n",
       "      <th>GTF2IP1</th>\n",
       "      <th>...</th>\n",
       "      <th>TULP2</th>\n",
       "      <th>NPY5R</th>\n",
       "      <th>GNGT2</th>\n",
       "      <th>GNGT1</th>\n",
       "      <th>TULP3</th>\n",
       "      <th>PTRF</th>\n",
       "      <th>BCL6B</th>\n",
       "      <th>GSTK1</th>\n",
       "      <th>SELP</th>\n",
       "      <th>SELS</th>\n",
       "    </tr>\n",
       "    <tr>\n",
       "      <th>sampleID</th>\n",
       "      <th></th>\n",
       "      <th></th>\n",
       "      <th></th>\n",
       "      <th></th>\n",
       "      <th></th>\n",
       "      <th></th>\n",
       "      <th></th>\n",
       "      <th></th>\n",
       "      <th></th>\n",
       "      <th></th>\n",
       "      <th></th>\n",
       "      <th></th>\n",
       "      <th></th>\n",
       "      <th></th>\n",
       "      <th></th>\n",
       "      <th></th>\n",
       "      <th></th>\n",
       "      <th></th>\n",
       "      <th></th>\n",
       "      <th></th>\n",
       "      <th></th>\n",
       "    </tr>\n",
       "  </thead>\n",
       "  <tbody>\n",
       "    <tr>\n",
       "      <th>TCGA-05-4244-01</th>\n",
       "      <td>1</td>\n",
       "      <td>70.0</td>\n",
       "      <td>1.0</td>\n",
       "      <td>-0.056592</td>\n",
       "      <td>2.128674</td>\n",
       "      <td>-0.531035</td>\n",
       "      <td>-0.185972</td>\n",
       "      <td>-0.190878</td>\n",
       "      <td>-0.11891</td>\n",
       "      <td>-0.659794</td>\n",
       "      <td>...</td>\n",
       "      <td>0.015022</td>\n",
       "      <td>-1.155117</td>\n",
       "      <td>0.528367</td>\n",
       "      <td>2.75061</td>\n",
       "      <td>0.428423</td>\n",
       "      <td>-0.639586</td>\n",
       "      <td>-0.195527</td>\n",
       "      <td>-0.324695</td>\n",
       "      <td>0.193167</td>\n",
       "      <td>-0.572812</td>\n",
       "    </tr>\n",
       "    <tr>\n",
       "      <th>TCGA-05-4249-01</th>\n",
       "      <td>1</td>\n",
       "      <td>67.0</td>\n",
       "      <td>1.0</td>\n",
       "      <td>-0.569692</td>\n",
       "      <td>-0.318126</td>\n",
       "      <td>-0.531035</td>\n",
       "      <td>0.237428</td>\n",
       "      <td>0.011822</td>\n",
       "      <td>-0.00611</td>\n",
       "      <td>1.018406</td>\n",
       "      <td>...</td>\n",
       "      <td>-0.031778</td>\n",
       "      <td>-0.393117</td>\n",
       "      <td>1.632467</td>\n",
       "      <td>2.33551</td>\n",
       "      <td>-0.145577</td>\n",
       "      <td>-0.997486</td>\n",
       "      <td>-0.276027</td>\n",
       "      <td>-1.219395</td>\n",
       "      <td>1.850967</td>\n",
       "      <td>-0.471212</td>\n",
       "    </tr>\n",
       "    <tr>\n",
       "      <th>TCGA-05-4250-01</th>\n",
       "      <td>1</td>\n",
       "      <td>79.0</td>\n",
       "      <td>0.0</td>\n",
       "      <td>-0.899992</td>\n",
       "      <td>-0.918126</td>\n",
       "      <td>-0.531035</td>\n",
       "      <td>-0.621472</td>\n",
       "      <td>-0.454178</td>\n",
       "      <td>0.58719</td>\n",
       "      <td>-0.198894</td>\n",
       "      <td>...</td>\n",
       "      <td>-0.748878</td>\n",
       "      <td>-1.173917</td>\n",
       "      <td>1.966367</td>\n",
       "      <td>-1.28139</td>\n",
       "      <td>-0.374877</td>\n",
       "      <td>0.959514</td>\n",
       "      <td>0.714373</td>\n",
       "      <td>0.112305</td>\n",
       "      <td>-0.532833</td>\n",
       "      <td>-0.003812</td>\n",
       "    </tr>\n",
       "    <tr>\n",
       "      <th>TCGA-05-4382-01</th>\n",
       "      <td>1</td>\n",
       "      <td>68.0</td>\n",
       "      <td>1.0</td>\n",
       "      <td>0.667508</td>\n",
       "      <td>3.895974</td>\n",
       "      <td>-0.221535</td>\n",
       "      <td>-0.367272</td>\n",
       "      <td>0.131822</td>\n",
       "      <td>0.97629</td>\n",
       "      <td>-0.494994</td>\n",
       "      <td>...</td>\n",
       "      <td>1.013722</td>\n",
       "      <td>-1.587117</td>\n",
       "      <td>0.359267</td>\n",
       "      <td>2.59051</td>\n",
       "      <td>0.806623</td>\n",
       "      <td>0.812114</td>\n",
       "      <td>0.367373</td>\n",
       "      <td>-0.494595</td>\n",
       "      <td>-1.062233</td>\n",
       "      <td>0.108588</td>\n",
       "    </tr>\n",
       "    <tr>\n",
       "      <th>TCGA-05-4384-01</th>\n",
       "      <td>1</td>\n",
       "      <td>66.0</td>\n",
       "      <td>1.0</td>\n",
       "      <td>-0.316892</td>\n",
       "      <td>2.380374</td>\n",
       "      <td>0.156865</td>\n",
       "      <td>0.232828</td>\n",
       "      <td>0.054822</td>\n",
       "      <td>0.27059</td>\n",
       "      <td>0.128606</td>\n",
       "      <td>...</td>\n",
       "      <td>-0.060978</td>\n",
       "      <td>-0.435417</td>\n",
       "      <td>1.111467</td>\n",
       "      <td>-1.28139</td>\n",
       "      <td>-0.128477</td>\n",
       "      <td>0.110214</td>\n",
       "      <td>1.469373</td>\n",
       "      <td>0.194605</td>\n",
       "      <td>1.404667</td>\n",
       "      <td>-0.290712</td>\n",
       "    </tr>\n",
       "  </tbody>\n",
       "</table>\n",
       "<p>5 rows × 20533 columns</p>\n",
       "</div>"
      ],
      "text/plain": [
       "                 Lung-Cancer   Age  Gender  ARHGEF10L     HIF3A     RNF17  \\\n",
       "sampleID                                                                    \n",
       "TCGA-05-4244-01            1  70.0     1.0  -0.056592  2.128674 -0.531035   \n",
       "TCGA-05-4249-01            1  67.0     1.0  -0.569692 -0.318126 -0.531035   \n",
       "TCGA-05-4250-01            1  79.0     0.0  -0.899992 -0.918126 -0.531035   \n",
       "TCGA-05-4382-01            1  68.0     1.0   0.667508  3.895974 -0.221535   \n",
       "TCGA-05-4384-01            1  66.0     1.0  -0.316892  2.380374  0.156865   \n",
       "\n",
       "                    RNF10     RNF11    RNF13   GTF2IP1  ...     TULP2  \\\n",
       "sampleID                                                ...             \n",
       "TCGA-05-4244-01 -0.185972 -0.190878 -0.11891 -0.659794  ...  0.015022   \n",
       "TCGA-05-4249-01  0.237428  0.011822 -0.00611  1.018406  ... -0.031778   \n",
       "TCGA-05-4250-01 -0.621472 -0.454178  0.58719 -0.198894  ... -0.748878   \n",
       "TCGA-05-4382-01 -0.367272  0.131822  0.97629 -0.494994  ...  1.013722   \n",
       "TCGA-05-4384-01  0.232828  0.054822  0.27059  0.128606  ... -0.060978   \n",
       "\n",
       "                    NPY5R     GNGT2    GNGT1     TULP3      PTRF     BCL6B  \\\n",
       "sampleID                                                                     \n",
       "TCGA-05-4244-01 -1.155117  0.528367  2.75061  0.428423 -0.639586 -0.195527   \n",
       "TCGA-05-4249-01 -0.393117  1.632467  2.33551 -0.145577 -0.997486 -0.276027   \n",
       "TCGA-05-4250-01 -1.173917  1.966367 -1.28139 -0.374877  0.959514  0.714373   \n",
       "TCGA-05-4382-01 -1.587117  0.359267  2.59051  0.806623  0.812114  0.367373   \n",
       "TCGA-05-4384-01 -0.435417  1.111467 -1.28139 -0.128477  0.110214  1.469373   \n",
       "\n",
       "                    GSTK1      SELP      SELS  \n",
       "sampleID                                       \n",
       "TCGA-05-4244-01 -0.324695  0.193167 -0.572812  \n",
       "TCGA-05-4249-01 -1.219395  1.850967 -0.471212  \n",
       "TCGA-05-4250-01  0.112305 -0.532833 -0.003812  \n",
       "TCGA-05-4382-01 -0.494595 -1.062233  0.108588  \n",
       "TCGA-05-4384-01  0.194605  1.404667 -0.290712  \n",
       "\n",
       "[5 rows x 20533 columns]"
      ]
     },
     "execution_count": 17,
     "metadata": {},
     "output_type": "execute_result"
    }
   ],
   "source": [
    "merged_data = selected_clinical_data.join(genetic_data.T).dropna()\n",
    "merged_data.head()"
   ]
  },
  {
   "cell_type": "code",
   "execution_count": 18,
   "metadata": {
    "collapsed": false
   },
   "outputs": [
    {
     "name": "stdout",
     "output_type": "stream",
     "text": [
      "The merged dataset contains 1100 samples.\n"
     ]
    }
   ],
   "source": [
    "print(f\"The merged dataset contains {len(merged_data)} samples.\")"
   ]
  },
  {
   "cell_type": "code",
   "execution_count": 19,
   "metadata": {
    "collapsed": false
   },
   "outputs": [
    {
     "name": "stdout",
     "output_type": "stream",
     "text": [
      "For the feature 'Lung-Cancer', the least common label is '0' with 110 occurrences. This represents 10.00% of the dataset.\n",
      "The distribution of the feature 'Lung-Cancer' in this dataset is fine.\n",
      "\n",
      "Quartiles for 'Age':\n",
      "  25%: 60.0\n",
      "  50% (Median): 67.0\n",
      "  75%: 73.0\n",
      "Min: 38.0\n",
      "Max: 90.0\n",
      "The distribution of the feature 'Age' in this dataset is fine.\n",
      "\n",
      "For the feature 'Gender', the least common label is '0.0' with 443 occurrences. This represents 40.27% of the dataset.\n",
      "The distribution of the feature 'Gender' in this dataset is fine.\n",
      "\n"
     ]
    },
    {
     "data": {
      "text/plain": [
       "False"
      ]
     },
     "execution_count": 19,
     "metadata": {},
     "output_type": "execute_result"
    }
   ],
   "source": [
    "is_trait_biased, merge_data = judge_and_remove_biased_features(merged_data, TRAIT, trait_type=trait_type)\n",
    "is_trait_biased"
   ]
  },
  {
   "cell_type": "code",
   "execution_count": 20,
   "metadata": {
    "collapsed": false
   },
   "outputs": [],
   "source": [
    "merged_data.head()\n",
    "if not is_trait_biased:\n",
    "    merge_data.to_csv(os.path.join(OUTPUT_DIR, cohort+'.csv'), index=False)"
   ]
  },
  {
   "cell_type": "code",
   "execution_count": 21,
   "metadata": {
    "collapsed": false
   },
   "outputs": [
    {
     "name": "stdout",
     "output_type": "stream",
     "text": [
      "A new JSON file was created at: ../../output1/Yuxuan/Lung-Cancer/cohort_info.json\n"
     ]
    }
   ],
   "source": [
    "save_cohort_info(cohort, JSON_PATH, is_available, is_trait_biased, merged_data)"
   ]
  },
  {
   "cell_type": "markdown",
   "metadata": {
    "ExecuteTime": {
     "end_time": "2023-12-28T21:28:38.028916303Z",
     "start_time": "2023-12-28T21:28:38.016245426Z"
    },
    "collapsed": false
   },
   "source": [
    "## 2.2. The GEO dataset"
   ]
  },
  {
   "cell_type": "markdown",
   "metadata": {
    "ExecuteTime": {
     "end_time": "2023-12-31T03:25:23.253882615Z",
     "start_time": "2023-12-31T03:25:23.244062710Z"
    },
    "collapsed": false
   },
   "source": [
    "In GEO, there may be one or multiple cohorts for a trait. Each cohort is identified by an accession number. We iterate over all accession numbers in the corresponding subdirectory, preprocess the cohort data, and save them to csv files."
   ]
  },
  {
   "cell_type": "code",
   "execution_count": 3,
   "metadata": {
    "ExecuteTime": {
     "end_time": "2024-01-02T01:02:59.503572381Z",
     "start_time": "2024-01-02T01:02:59.491400342Z"
    },
    "collapsed": false
   },
   "outputs": [
    {
     "data": {
      "text/plain": [
       "['GSE56814',\n",
       " 'GSE51495',\n",
       " 'GSE35925',\n",
       " 'GSE99624',\n",
       " 'GSE152073',\n",
       " 'GSE6711',\n",
       " 'GSE224330',\n",
       " 'GSE84500',\n",
       " 'GSE20881',\n",
       " 'GSE13850',\n",
       " 'GSE62589',\n",
       " 'GSE80614',\n",
       " 'GSE56815']"
      ]
     },
     "execution_count": 3,
     "metadata": {},
     "output_type": "execute_result"
    }
   ],
   "source": [
    "dataset = 'GEO'\n",
    "trait_subdir = \"Osteoporosis\"\n",
    "\n",
    "trait_path = os.path.join(DATA_ROOT, dataset, trait_subdir)\n",
    "os.listdir(trait_path)"
   ]
  },
  {
   "cell_type": "markdown",
   "metadata": {
    "ExecuteTime": {
     "end_time": "2023-12-31T03:39:42.634870142Z",
     "start_time": "2023-12-31T03:39:42.534093295Z"
    },
    "collapsed": false
   },
   "source": [
    "Repeat the below steps for all the accession numbers"
   ]
  },
  {
   "cell_type": "code",
   "execution_count": 70,
   "metadata": {
    "ExecuteTime": {
     "end_time": "2024-01-02T01:03:00.287218362Z",
     "start_time": "2024-01-02T01:03:00.278758251Z"
    },
    "collapsed": false
   },
   "outputs": [
    {
     "data": {
      "text/plain": [
       "('/home/yxcheng/GEO/Osteoporosis/GSE224330/GSE224330_family.soft.gz',\n",
       " '/home/yxcheng/GEO/Osteoporosis/GSE224330/GSE224330_series_matrix.txt.gz')"
      ]
     },
     "execution_count": 70,
     "metadata": {},
     "output_type": "execute_result"
    }
   ],
   "source": [
    "cohort = accession_num = \"GSE224330\"\n",
    "cohort_dir = os.path.join(trait_path, accession_num)\n",
    "soft_file, matrix_file = get_relevant_filepaths(cohort_dir)\n",
    "soft_file, matrix_file"
   ]
  },
  {
   "cell_type": "markdown",
   "metadata": {
    "collapsed": false
   },
   "source": [
    "### Inital filtering and clinical data preprocessing"
   ]
  },
  {
   "cell_type": "code",
   "execution_count": 71,
   "metadata": {
    "ExecuteTime": {
     "end_time": "2024-01-02T01:03:01.634861460Z",
     "start_time": "2024-01-02T01:03:01.076370517Z"
    },
    "collapsed": false
   },
   "outputs": [
    {
     "name": "stdout",
     "output_type": "stream",
     "text": [
      "!Series_title\t\"Gene expression of monocytes from rheumatoid arthritis patients treated with bDMARDs and methotrexate.\"\n",
      "!Series_summary\t\"It is well documented that patients affected by rheumatoid arthritis (RA) have distinct susceptibility to the different biologic Disease-Modifying AntiRheumatic Drugs (bDMARDs) available on the market, probably because of the many facets of the disease. Monocytes are deeply involved in the pathogenesis of RA and we therefore evaluated and compared the transcriptomic profile of monocytes isolated from patients on treatment with methotrexate alone or in combination with tocilizumab, anti-TNFalpha or abatacept, and from healthy donors. Differential expression analysis of whole-genome transcriptomics yielded a list of regulated genes suitable for functional annotation enrichment analysis. Specifically, abatacept, tocilizumab and anti-TNFalpha cohorts were separately compared with methotrexate using a rank-product-based statistical approach, leading to the identification of 78, 6, and 436 differentially expressed genes, respectively.\"\n",
      "!Series_overall_design\t\"Gene expression profiling was performed on primary monocyte cultures from a total of 31 samples, according to the following experimental design: 10 samples from healthy patients, 6 samples from MTX-, 5 samples from abatacept-, 5 samples from anti-TNFalpha-, and 5 samples from tocilizumab-treated patients.\"\n"
     ]
    }
   ],
   "source": [
    "background_prefixes = ['!Series_title', '!Series_summary', '!Series_overall_design']\n",
    "clinical_prefixes = ['!Sample_geo_accession', '!Sample_characteristics_ch1']\n",
    "\n",
    "background_info, clinical_data = get_background_and_clinical_data(matrix_file, background_prefixes, clinical_prefixes)\n",
    "print(background_info)"
   ]
  },
  {
   "cell_type": "code",
   "execution_count": 72,
   "metadata": {
    "ExecuteTime": {
     "end_time": "2024-01-02T01:03:01.642310454Z",
     "start_time": "2024-01-02T01:03:01.635048940Z"
    },
    "collapsed": false
   },
   "outputs": [
    {
     "data": {
      "text/html": [
       "<div>\n",
       "<style scoped>\n",
       "    .dataframe tbody tr th:only-of-type {\n",
       "        vertical-align: middle;\n",
       "    }\n",
       "\n",
       "    .dataframe tbody tr th {\n",
       "        vertical-align: top;\n",
       "    }\n",
       "\n",
       "    .dataframe thead th {\n",
       "        text-align: right;\n",
       "    }\n",
       "</style>\n",
       "<table border=\"1\" class=\"dataframe\">\n",
       "  <thead>\n",
       "    <tr style=\"text-align: right;\">\n",
       "      <th></th>\n",
       "      <th>!Sample_geo_accession</th>\n",
       "      <th>GSM7019507</th>\n",
       "      <th>GSM7019508</th>\n",
       "      <th>GSM7019509</th>\n",
       "      <th>GSM7019510</th>\n",
       "      <th>GSM7019511</th>\n",
       "      <th>GSM7019512</th>\n",
       "      <th>GSM7019513</th>\n",
       "      <th>GSM7019514</th>\n",
       "      <th>GSM7019515</th>\n",
       "      <th>...</th>\n",
       "      <th>GSM7019528</th>\n",
       "      <th>GSM7019529</th>\n",
       "      <th>GSM7019530</th>\n",
       "      <th>GSM7019531</th>\n",
       "      <th>GSM7019532</th>\n",
       "      <th>GSM7019533</th>\n",
       "      <th>GSM7019534</th>\n",
       "      <th>GSM7019535</th>\n",
       "      <th>GSM7019536</th>\n",
       "      <th>GSM7019537</th>\n",
       "    </tr>\n",
       "  </thead>\n",
       "  <tbody>\n",
       "    <tr>\n",
       "      <th>0</th>\n",
       "      <td>!Sample_characteristics_ch1</td>\n",
       "      <td>tissue: Isolated monocytes</td>\n",
       "      <td>tissue: Isolated monocytes</td>\n",
       "      <td>tissue: Isolated monocytes</td>\n",
       "      <td>tissue: Isolated monocytes</td>\n",
       "      <td>tissue: Isolated monocytes</td>\n",
       "      <td>tissue: Isolated monocytes</td>\n",
       "      <td>tissue: Isolated monocytes</td>\n",
       "      <td>tissue: Isolated monocytes</td>\n",
       "      <td>tissue: Isolated monocytes</td>\n",
       "      <td>...</td>\n",
       "      <td>tissue: Isolated monocytes</td>\n",
       "      <td>tissue: Isolated monocytes</td>\n",
       "      <td>tissue: Isolated monocytes</td>\n",
       "      <td>tissue: Isolated monocytes</td>\n",
       "      <td>tissue: Isolated monocytes</td>\n",
       "      <td>tissue: Isolated monocytes</td>\n",
       "      <td>tissue: Isolated monocytes</td>\n",
       "      <td>tissue: Isolated monocytes</td>\n",
       "      <td>tissue: Isolated monocytes</td>\n",
       "      <td>tissue: Isolated monocytes</td>\n",
       "    </tr>\n",
       "    <tr>\n",
       "      <th>1</th>\n",
       "      <td>!Sample_characteristics_ch1</td>\n",
       "      <td>age: 63y</td>\n",
       "      <td>age: 64y</td>\n",
       "      <td>age: 63y</td>\n",
       "      <td>age: 48y</td>\n",
       "      <td>age: 70y</td>\n",
       "      <td>age: 62y</td>\n",
       "      <td>age: 58y</td>\n",
       "      <td>age: 57y</td>\n",
       "      <td>age: 60y</td>\n",
       "      <td>...</td>\n",
       "      <td>age: 70y</td>\n",
       "      <td>age: 76y</td>\n",
       "      <td>age: 62y</td>\n",
       "      <td>age: 73y</td>\n",
       "      <td>age: 71y</td>\n",
       "      <td>age: 59y</td>\n",
       "      <td>age: 62y</td>\n",
       "      <td>age: 47y</td>\n",
       "      <td>age: 76y</td>\n",
       "      <td>age: 54y</td>\n",
       "    </tr>\n",
       "    <tr>\n",
       "      <th>2</th>\n",
       "      <td>!Sample_characteristics_ch1</td>\n",
       "      <td>gender: female</td>\n",
       "      <td>gender: male</td>\n",
       "      <td>gender: female</td>\n",
       "      <td>gender: female</td>\n",
       "      <td>gender: male</td>\n",
       "      <td>gender: male</td>\n",
       "      <td>gender: male</td>\n",
       "      <td>gender: male</td>\n",
       "      <td>gender: female</td>\n",
       "      <td>...</td>\n",
       "      <td>gender: female</td>\n",
       "      <td>gender: female</td>\n",
       "      <td>gender: female</td>\n",
       "      <td>gender: male</td>\n",
       "      <td>gender: female</td>\n",
       "      <td>gender: female</td>\n",
       "      <td>gender: male</td>\n",
       "      <td>gender: female</td>\n",
       "      <td>gender: female</td>\n",
       "      <td>gender: female</td>\n",
       "    </tr>\n",
       "    <tr>\n",
       "      <th>3</th>\n",
       "      <td>!Sample_characteristics_ch1</td>\n",
       "      <td>comorbidity: hypothyroidism</td>\n",
       "      <td>comorbidity: none</td>\n",
       "      <td>comorbidity: none</td>\n",
       "      <td>comorbidity: none</td>\n",
       "      <td>comorbidity: osteoporosis</td>\n",
       "      <td>NaN</td>\n",
       "      <td>NaN</td>\n",
       "      <td>NaN</td>\n",
       "      <td>NaN</td>\n",
       "      <td>...</td>\n",
       "      <td>comorbidity: osteoporosis</td>\n",
       "      <td>comorbidity: schizoaffective disorder</td>\n",
       "      <td>comorbidity: arthrosis</td>\n",
       "      <td>comorbidity: none</td>\n",
       "      <td>comorbidity: none</td>\n",
       "      <td>comorbidity: none</td>\n",
       "      <td>comorbidity: none</td>\n",
       "      <td>comorbidity: none</td>\n",
       "      <td>comorbidity: osteoporosis</td>\n",
       "      <td>comorbidity: none</td>\n",
       "    </tr>\n",
       "  </tbody>\n",
       "</table>\n",
       "<p>4 rows × 32 columns</p>\n",
       "</div>"
      ],
      "text/plain": [
       "         !Sample_geo_accession                   GSM7019507  \\\n",
       "0  !Sample_characteristics_ch1   tissue: Isolated monocytes   \n",
       "1  !Sample_characteristics_ch1                     age: 63y   \n",
       "2  !Sample_characteristics_ch1               gender: female   \n",
       "3  !Sample_characteristics_ch1  comorbidity: hypothyroidism   \n",
       "\n",
       "                   GSM7019508                  GSM7019509  \\\n",
       "0  tissue: Isolated monocytes  tissue: Isolated monocytes   \n",
       "1                    age: 64y                    age: 63y   \n",
       "2                gender: male              gender: female   \n",
       "3           comorbidity: none           comorbidity: none   \n",
       "\n",
       "                   GSM7019510                  GSM7019511  \\\n",
       "0  tissue: Isolated monocytes  tissue: Isolated monocytes   \n",
       "1                    age: 48y                    age: 70y   \n",
       "2              gender: female                gender: male   \n",
       "3           comorbidity: none   comorbidity: osteoporosis   \n",
       "\n",
       "                   GSM7019512                  GSM7019513  \\\n",
       "0  tissue: Isolated monocytes  tissue: Isolated monocytes   \n",
       "1                    age: 62y                    age: 58y   \n",
       "2                gender: male                gender: male   \n",
       "3                         NaN                         NaN   \n",
       "\n",
       "                   GSM7019514                  GSM7019515  ...  \\\n",
       "0  tissue: Isolated monocytes  tissue: Isolated monocytes  ...   \n",
       "1                    age: 57y                    age: 60y  ...   \n",
       "2                gender: male              gender: female  ...   \n",
       "3                         NaN                         NaN  ...   \n",
       "\n",
       "                   GSM7019528                              GSM7019529  \\\n",
       "0  tissue: Isolated monocytes              tissue: Isolated monocytes   \n",
       "1                    age: 70y                                age: 76y   \n",
       "2              gender: female                          gender: female   \n",
       "3   comorbidity: osteoporosis  comorbidity: schizoaffective disorder    \n",
       "\n",
       "                   GSM7019530                  GSM7019531  \\\n",
       "0  tissue: Isolated monocytes  tissue: Isolated monocytes   \n",
       "1                    age: 62y                    age: 73y   \n",
       "2              gender: female                gender: male   \n",
       "3      comorbidity: arthrosis           comorbidity: none   \n",
       "\n",
       "                   GSM7019532                  GSM7019533  \\\n",
       "0  tissue: Isolated monocytes  tissue: Isolated monocytes   \n",
       "1                    age: 71y                    age: 59y   \n",
       "2              gender: female              gender: female   \n",
       "3           comorbidity: none           comorbidity: none   \n",
       "\n",
       "                   GSM7019534                  GSM7019535  \\\n",
       "0  tissue: Isolated monocytes  tissue: Isolated monocytes   \n",
       "1                    age: 62y                    age: 47y   \n",
       "2                gender: male              gender: female   \n",
       "3           comorbidity: none           comorbidity: none   \n",
       "\n",
       "                   GSM7019536                  GSM7019537  \n",
       "0  tissue: Isolated monocytes  tissue: Isolated monocytes  \n",
       "1                    age: 76y                    age: 54y  \n",
       "2              gender: female              gender: female  \n",
       "3   comorbidity: osteoporosis           comorbidity: none  \n",
       "\n",
       "[4 rows x 32 columns]"
      ]
     },
     "execution_count": 72,
     "metadata": {},
     "output_type": "execute_result"
    }
   ],
   "source": [
    "clinical_data.head()"
   ]
  },
  {
   "cell_type": "code",
   "execution_count": 73,
   "metadata": {
    "ExecuteTime": {
     "end_time": "2024-01-02T01:03:01.805026160Z",
     "start_time": "2024-01-02T01:03:01.804428154Z"
    },
    "collapsed": false
   },
   "outputs": [
    {
     "data": {
      "text/plain": [
       "{0: ['tissue: Isolated monocytes'],\n",
       " 1: ['age: 63y',\n",
       "  'age: 64y',\n",
       "  'age: 48y',\n",
       "  'age: 70y',\n",
       "  'age: 62y',\n",
       "  'age: 58y',\n",
       "  'age: 57y',\n",
       "  'age: 60y',\n",
       "  'age: 52y',\n",
       "  'age: 51y',\n",
       "  'age: 53y',\n",
       "  'age: 56y',\n",
       "  'age: 54y',\n",
       "  'age: 61y',\n",
       "  'age: 55y',\n",
       "  'age: 65y',\n",
       "  'age: 84y',\n",
       "  'age: 76y',\n",
       "  'age: 73y',\n",
       "  'age: 71y',\n",
       "  'age: 59y',\n",
       "  'age: 47y'],\n",
       " 2: ['gender: female', 'gender: male'],\n",
       " 3: ['comorbidity: hypothyroidism',\n",
       "  'comorbidity: none',\n",
       "  'comorbidity: osteoporosis',\n",
       "  nan,\n",
       "  'comorbidity: schizoaffective disorder\\xa0',\n",
       "  'comorbidity: arthrosis']}"
      ]
     },
     "execution_count": 73,
     "metadata": {},
     "output_type": "execute_result"
    }
   ],
   "source": [
    "clinical_data_unique = get_unique_values_by_row(clinical_data)\n",
    "clinical_data_unique"
   ]
  },
  {
   "cell_type": "markdown",
   "metadata": {
    "ExecuteTime": {
     "end_time": "2023-12-31T03:58:04.978204446Z",
     "start_time": "2023-12-31T03:58:04.922270095Z"
    },
    "collapsed": false
   },
   "source": [
    "Analyze the metadata to determine data relevance and find ways to extract the clinical data.\n",
    "Reference prompt:"
   ]
  },
  {
   "cell_type": "code",
   "execution_count": 74,
   "metadata": {
    "ExecuteTime": {
     "end_time": "2024-01-02T01:03:02.369775044Z",
     "start_time": "2024-01-02T01:03:02.356501629Z"
    },
    "collapsed": false
   },
   "outputs": [
    {
     "data": {
      "text/plain": [
       "'As a biomedical research team, we are selecting datasets to study the association between the human trait \\'Osteoporosis\\' and genetic factors, optionally considering the influence of age and gender. After searching the GEO database and parsing the matrix file of a series, we obtained background information and sample characteristics data. We will provide textual information about the dataset background, and a Python dictionary storing a list of unique values for each field of the sample characteristics data. Please carefully review the provided information and answer the following questions about this dataset:\\n1. Does this dataset contain gene expression data? (Note: Pure miRNA data is not suitable.)\\n2. For each of the traits \\'Osteoporosis\\', \\'age\\', and \\'gender\\', please address these points:\\n   (1) Is there human data available for this trait?\\n   (2) If so, identify the key in the sample characteristics dictionary where unique values of this trait is recorded. The key is an integer. The trait information might be explicitly recorded, or can be inferred from the field with some biomedical knowledge or understanding about the data collection process.\\n   (3) Choose an appropriate data type (either \\'continuous\\' or \\'binary\\') for each trait. Write a Python function to convert any given value of the trait to this data type. The function should handle inference about the trait value and convert unknown values to None.\\n   Name the functions \\'convert_trait\\', \\'convert_age\\', and \\'convert_gender\\', respectively.\\n\\nBackground information about the dataset:\\n!Series_title\\t\"Gene expression of monocytes from rheumatoid arthritis patients treated with bDMARDs and methotrexate.\"\\n!Series_summary\\t\"It is well documented that patients affected by rheumatoid arthritis (RA) have distinct susceptibility to the different biologic Disease-Modifying AntiRheumatic Drugs (bDMARDs) available on the market, probably because of the many facets of the disease. Monocytes are deeply involved in the pathogenesis of RA and we therefore evaluated and compared the transcriptomic profile of monocytes isolated from patients on treatment with methotrexate alone or in combination with tocilizumab, anti-TNFalpha or abatacept, and from healthy donors. Differential expression analysis of whole-genome transcriptomics yielded a list of regulated genes suitable for functional annotation enrichment analysis. Specifically, abatacept, tocilizumab and anti-TNFalpha cohorts were separately compared with methotrexate using a rank-product-based statistical approach, leading to the identification of 78, 6, and 436 differentially expressed genes, respectively.\"\\n!Series_overall_design\\t\"Gene expression profiling was performed on primary monocyte cultures from a total of 31 samples, according to the following experimental design: 10 samples from healthy patients, 6 samples from MTX-, 5 samples from abatacept-, 5 samples from anti-TNFalpha-, and 5 samples from tocilizumab-treated patients.\"\\n\\nSample characteristics dictionary (from \"!Sample_characteristics_ch1\", converted to a Python dictionary that stores the unique values for each field):\\n{0: [\\'tissue: Isolated monocytes\\'], 1: [\\'age: 63y\\', \\'age: 64y\\', \\'age: 48y\\', \\'age: 70y\\', \\'age: 62y\\', \\'age: 58y\\', \\'age: 57y\\', \\'age: 60y\\', \\'age: 52y\\', \\'age: 51y\\', \\'age: 53y\\', \\'age: 56y\\', \\'age: 54y\\', \\'age: 61y\\', \\'age: 55y\\', \\'age: 65y\\', \\'age: 84y\\', \\'age: 76y\\', \\'age: 73y\\', \\'age: 71y\\', \\'age: 59y\\', \\'age: 47y\\'], 2: [\\'gender: female\\', \\'gender: male\\'], 3: [\\'comorbidity: hypothyroidism\\', \\'comorbidity: none\\', \\'comorbidity: osteoporosis\\', nan, \\'comorbidity: schizoaffective disorder\\\\xa0\\', \\'comorbidity: arthrosis\\']}\\n'"
      ]
     },
     "execution_count": 74,
     "metadata": {},
     "output_type": "execute_result"
    }
   ],
   "source": [
    "f'''As a biomedical research team, we are selecting datasets to study the association between the human trait \\'{TRAIT}\\' and genetic factors, optionally considering the influence of age and gender. After searching the GEO database and parsing the matrix file of a series, we obtained background information and sample characteristics data. We will provide textual information about the dataset background, and a Python dictionary storing a list of unique values for each field of the sample characteristics data. Please carefully review the provided information and answer the following questions about this dataset:\n",
    "1. Does this dataset contain gene expression data? (Note: Pure miRNA data is not suitable.)\n",
    "2. For each of the traits \\'{TRAIT}\\', 'age', and 'gender', please address these points:\n",
    "   (1) Is there human data available for this trait?\n",
    "   (2) If so, identify the key in the sample characteristics dictionary where unique values of this trait is recorded. The key is an integer. The trait information might be explicitly recorded, or can be inferred from the field with some biomedical knowledge or understanding about the data collection process.\n",
    "   (3) Choose an appropriate data type (either 'continuous' or 'binary') for each trait. Write a Python function to convert any given value of the trait to this data type. The function should handle inference about the trait value and convert unknown values to None.\n",
    "   Name the functions 'convert_trait', 'convert_age', and 'convert_gender', respectively.\n",
    "\n",
    "Background information about the dataset:\n",
    "{background_info}\n",
    "\n",
    "Sample characteristics dictionary (from \"!Sample_characteristics_ch1\", converted to a Python dictionary that stores the unique values for each field):\n",
    "{clinical_data_unique}\n",
    "'''"
   ]
  },
  {
   "cell_type": "markdown",
   "metadata": {
    "ExecuteTime": {
     "end_time": "2023-12-31T03:58:04.978240504Z",
     "start_time": "2023-12-31T03:58:04.922365324Z"
    },
    "collapsed": false
   },
   "source": [
    "Understand and verify the answer from GPT, to assign values to the below variables. Assign None to the 'row_id' variables if relevant data row was not found.\n",
    "Later we need to let GPT format its answer to automatically do these. But given the complexity of this step, let's grow some insight from the free-text answers for now."
   ]
  },
  {
   "cell_type": "code",
   "execution_count": 77,
   "metadata": {
    "ExecuteTime": {
     "end_time": "2024-01-02T01:03:03.079540570Z",
     "start_time": "2024-01-02T01:03:03.073638535Z"
    },
    "collapsed": false
   },
   "outputs": [],
   "source": [
    "is_gene_availabe = True\n",
    "trait_row= 3\n",
    "age_row = 1\n",
    "gender_row = 2\n",
    "\n",
    "trait_type = 'binary'"
   ]
  },
  {
   "cell_type": "code",
   "execution_count": 76,
   "metadata": {
    "ExecuteTime": {
     "end_time": "2024-01-02T01:03:03.572682163Z",
     "start_time": "2024-01-02T01:03:03.559775513Z"
    },
    "collapsed": false
   },
   "outputs": [],
   "source": [
    "is_available = is_gene_availabe and (trait_row is not None)\n",
    "if not is_available:\n",
    "    save_cohort_info(cohort, JSON_PATH, is_available)\n",
    "    print(\"This cohort is not usable. Please skip the following steps and jump to the next accession number.\")"
   ]
  },
  {
   "cell_type": "code",
   "execution_count": 78,
   "metadata": {
    "ExecuteTime": {
     "end_time": "2024-01-02T01:03:03.973964287Z",
     "start_time": "2024-01-02T01:03:03.964958096Z"
    },
    "collapsed": false
   },
   "outputs": [
    {
     "data": {
      "text/plain": [
       "(0, 23, None)"
      ]
     },
     "execution_count": 78,
     "metadata": {},
     "output_type": "execute_result"
    }
   ],
   "source": [
    "def convert_trait(tissue_type):\n",
    "    \"\"\"\n",
    "    Convert tissue type to epilepsy presence (binary).\n",
    "    Assuming epilepsy presence for 'Hippocampus' tissue.\n",
    "    \"\"\"\n",
    "    if tissue_type == 'comorbidity: osteoporosis': #'comorbidity: osteoporosis':\n",
    "        return 1  # Epilepsy present\n",
    "    else:\n",
    "        return 0  # Epilepsy not present\n",
    "\n",
    "def convert_age(age_string):\n",
    "    \"\"\"\n",
    "    Convert age string to a numerical value.\n",
    "    \"\"\"\n",
    "    if age_string.startswith('age: '):\n",
    "        try:\n",
    "            return int(age_string.split('age: ')[1].rstrip('y'))  # Extracting numeric part\n",
    "        except ValueError:\n",
    "            return None  # In case of parsing error\n",
    "    else:\n",
    "        return None  # If age string does not follow expected format\n",
    "\n",
    "def convert_gender(gender_string):\n",
    "    \"\"\"\n",
    "    Convert gender string to a binary representation.\n",
    "    Female -> 0, Male -> 1, Unknown -> None\n",
    "    \"\"\"\n",
    "    if gender_string == 'gender: female':\n",
    "        return 0\n",
    "    elif gender_string == 'gender: male':\n",
    "        return 1\n",
    "    else:\n",
    "        return None  # In case of unknown gender\n",
    "\n",
    "# Example usage\n",
    "example_tissue = 'tissue: Hippocampus'\n",
    "example_age = 'age: 23'\n",
    "example_gender = 'gender: Male'\n",
    "\n",
    "converted_trait = convert_trait(example_tissue)\n",
    "converted_age = convert_age(example_age)\n",
    "converted_gender = convert_gender(example_gender)\n",
    "\n",
    "converted_trait, converted_age, converted_gender"
   ]
  },
  {
   "cell_type": "code",
   "execution_count": 79,
   "metadata": {
    "ExecuteTime": {
     "end_time": "2024-01-02T01:03:04.637878352Z",
     "start_time": "2024-01-02T01:03:04.593886885Z"
    },
    "collapsed": false
   },
   "outputs": [
    {
     "name": "stderr",
     "output_type": "stream",
     "text": [
      "/home/yxcheng/AI4Science_gold_standard/stage1/Yuxuan/../utils.py:208: FutureWarning: DataFrame.applymap has been deprecated. Use DataFrame.map instead.\n",
      "  clinical_df = clinical_df.applymap(convert_fn)\n",
      "/home/yxcheng/AI4Science_gold_standard/stage1/Yuxuan/../utils.py:208: FutureWarning: DataFrame.applymap has been deprecated. Use DataFrame.map instead.\n",
      "  clinical_df = clinical_df.applymap(convert_fn)\n",
      "/home/yxcheng/AI4Science_gold_standard/stage1/Yuxuan/../utils.py:208: FutureWarning: DataFrame.applymap has been deprecated. Use DataFrame.map instead.\n",
      "  clinical_df = clinical_df.applymap(convert_fn)\n"
     ]
    },
    {
     "data": {
      "text/html": [
       "<div>\n",
       "<style scoped>\n",
       "    .dataframe tbody tr th:only-of-type {\n",
       "        vertical-align: middle;\n",
       "    }\n",
       "\n",
       "    .dataframe tbody tr th {\n",
       "        vertical-align: top;\n",
       "    }\n",
       "\n",
       "    .dataframe thead th {\n",
       "        text-align: right;\n",
       "    }\n",
       "</style>\n",
       "<table border=\"1\" class=\"dataframe\">\n",
       "  <thead>\n",
       "    <tr style=\"text-align: right;\">\n",
       "      <th></th>\n",
       "      <th>GSM7019507</th>\n",
       "      <th>GSM7019508</th>\n",
       "      <th>GSM7019509</th>\n",
       "      <th>GSM7019510</th>\n",
       "      <th>GSM7019511</th>\n",
       "      <th>GSM7019512</th>\n",
       "      <th>GSM7019513</th>\n",
       "      <th>GSM7019514</th>\n",
       "      <th>GSM7019515</th>\n",
       "      <th>GSM7019516</th>\n",
       "      <th>...</th>\n",
       "      <th>GSM7019528</th>\n",
       "      <th>GSM7019529</th>\n",
       "      <th>GSM7019530</th>\n",
       "      <th>GSM7019531</th>\n",
       "      <th>GSM7019532</th>\n",
       "      <th>GSM7019533</th>\n",
       "      <th>GSM7019534</th>\n",
       "      <th>GSM7019535</th>\n",
       "      <th>GSM7019536</th>\n",
       "      <th>GSM7019537</th>\n",
       "    </tr>\n",
       "  </thead>\n",
       "  <tbody>\n",
       "    <tr>\n",
       "      <th>Osteoporosis</th>\n",
       "      <td>0</td>\n",
       "      <td>0</td>\n",
       "      <td>0</td>\n",
       "      <td>0</td>\n",
       "      <td>1</td>\n",
       "      <td>0</td>\n",
       "      <td>0</td>\n",
       "      <td>0</td>\n",
       "      <td>0</td>\n",
       "      <td>0</td>\n",
       "      <td>...</td>\n",
       "      <td>1</td>\n",
       "      <td>0</td>\n",
       "      <td>0</td>\n",
       "      <td>0</td>\n",
       "      <td>0</td>\n",
       "      <td>0</td>\n",
       "      <td>0</td>\n",
       "      <td>0</td>\n",
       "      <td>1</td>\n",
       "      <td>0</td>\n",
       "    </tr>\n",
       "    <tr>\n",
       "      <th>Age</th>\n",
       "      <td>63</td>\n",
       "      <td>64</td>\n",
       "      <td>63</td>\n",
       "      <td>48</td>\n",
       "      <td>70</td>\n",
       "      <td>62</td>\n",
       "      <td>58</td>\n",
       "      <td>57</td>\n",
       "      <td>60</td>\n",
       "      <td>57</td>\n",
       "      <td>...</td>\n",
       "      <td>70</td>\n",
       "      <td>76</td>\n",
       "      <td>62</td>\n",
       "      <td>73</td>\n",
       "      <td>71</td>\n",
       "      <td>59</td>\n",
       "      <td>62</td>\n",
       "      <td>47</td>\n",
       "      <td>76</td>\n",
       "      <td>54</td>\n",
       "    </tr>\n",
       "    <tr>\n",
       "      <th>Gender</th>\n",
       "      <td>0</td>\n",
       "      <td>1</td>\n",
       "      <td>0</td>\n",
       "      <td>0</td>\n",
       "      <td>1</td>\n",
       "      <td>1</td>\n",
       "      <td>1</td>\n",
       "      <td>1</td>\n",
       "      <td>0</td>\n",
       "      <td>0</td>\n",
       "      <td>...</td>\n",
       "      <td>0</td>\n",
       "      <td>0</td>\n",
       "      <td>0</td>\n",
       "      <td>1</td>\n",
       "      <td>0</td>\n",
       "      <td>0</td>\n",
       "      <td>1</td>\n",
       "      <td>0</td>\n",
       "      <td>0</td>\n",
       "      <td>0</td>\n",
       "    </tr>\n",
       "  </tbody>\n",
       "</table>\n",
       "<p>3 rows × 31 columns</p>\n",
       "</div>"
      ],
      "text/plain": [
       "              GSM7019507  GSM7019508  GSM7019509  GSM7019510  GSM7019511  \\\n",
       "Osteoporosis           0           0           0           0           1   \n",
       "Age                   63          64          63          48          70   \n",
       "Gender                 0           1           0           0           1   \n",
       "\n",
       "              GSM7019512  GSM7019513  GSM7019514  GSM7019515  GSM7019516  ...  \\\n",
       "Osteoporosis           0           0           0           0           0  ...   \n",
       "Age                   62          58          57          60          57  ...   \n",
       "Gender                 1           1           1           0           0  ...   \n",
       "\n",
       "              GSM7019528  GSM7019529  GSM7019530  GSM7019531  GSM7019532  \\\n",
       "Osteoporosis           1           0           0           0           0   \n",
       "Age                   70          76          62          73          71   \n",
       "Gender                 0           0           0           1           0   \n",
       "\n",
       "              GSM7019533  GSM7019534  GSM7019535  GSM7019536  GSM7019537  \n",
       "Osteoporosis           0           0           0           1           0  \n",
       "Age                   59          62          47          76          54  \n",
       "Gender                 0           1           0           0           0  \n",
       "\n",
       "[3 rows x 31 columns]"
      ]
     },
     "execution_count": 79,
     "metadata": {},
     "output_type": "execute_result"
    }
   ],
   "source": [
    "selected_clinical_data = geo_select_clinical_features(clinical_data, TRAIT, trait_row, convert_trait, age_row=age_row,\n",
    "                                                      convert_age=convert_age, gender_row=gender_row,\n",
    "                                                      convert_gender=convert_gender)\n",
    "selected_clinical_data.head()"
   ]
  },
  {
   "cell_type": "markdown",
   "metadata": {
    "ExecuteTime": {
     "end_time": "2023-12-31T03:58:04.978664193Z",
     "start_time": "2023-12-31T03:58:04.966117261Z"
    },
    "collapsed": false
   },
   "source": [
    "### Genetic data preprocessing and final filtering"
   ]
  },
  {
   "cell_type": "code",
   "execution_count": 80,
   "metadata": {
    "ExecuteTime": {
     "end_time": "2024-01-02T01:03:06.246474256Z",
     "start_time": "2024-01-02T01:03:05.670354792Z"
    },
    "collapsed": false
   },
   "outputs": [
    {
     "data": {
      "text/html": [
       "<div>\n",
       "<style scoped>\n",
       "    .dataframe tbody tr th:only-of-type {\n",
       "        vertical-align: middle;\n",
       "    }\n",
       "\n",
       "    .dataframe tbody tr th {\n",
       "        vertical-align: top;\n",
       "    }\n",
       "\n",
       "    .dataframe thead th {\n",
       "        text-align: right;\n",
       "    }\n",
       "</style>\n",
       "<table border=\"1\" class=\"dataframe\">\n",
       "  <thead>\n",
       "    <tr style=\"text-align: right;\">\n",
       "      <th></th>\n",
       "      <th>GSM7019507</th>\n",
       "      <th>GSM7019508</th>\n",
       "      <th>GSM7019509</th>\n",
       "      <th>GSM7019510</th>\n",
       "      <th>GSM7019511</th>\n",
       "      <th>GSM7019512</th>\n",
       "      <th>GSM7019513</th>\n",
       "      <th>GSM7019514</th>\n",
       "      <th>GSM7019515</th>\n",
       "      <th>GSM7019516</th>\n",
       "      <th>...</th>\n",
       "      <th>GSM7019528</th>\n",
       "      <th>GSM7019529</th>\n",
       "      <th>GSM7019530</th>\n",
       "      <th>GSM7019531</th>\n",
       "      <th>GSM7019532</th>\n",
       "      <th>GSM7019533</th>\n",
       "      <th>GSM7019534</th>\n",
       "      <th>GSM7019535</th>\n",
       "      <th>GSM7019536</th>\n",
       "      <th>GSM7019537</th>\n",
       "    </tr>\n",
       "    <tr>\n",
       "      <th>ID</th>\n",
       "      <th></th>\n",
       "      <th></th>\n",
       "      <th></th>\n",
       "      <th></th>\n",
       "      <th></th>\n",
       "      <th></th>\n",
       "      <th></th>\n",
       "      <th></th>\n",
       "      <th></th>\n",
       "      <th></th>\n",
       "      <th></th>\n",
       "      <th></th>\n",
       "      <th></th>\n",
       "      <th></th>\n",
       "      <th></th>\n",
       "      <th></th>\n",
       "      <th></th>\n",
       "      <th></th>\n",
       "      <th></th>\n",
       "      <th></th>\n",
       "      <th></th>\n",
       "    </tr>\n",
       "  </thead>\n",
       "  <tbody>\n",
       "    <tr>\n",
       "      <th>A_19_P00315452</th>\n",
       "      <td>8.401627</td>\n",
       "      <td>9.797257</td>\n",
       "      <td>8.487270</td>\n",
       "      <td>8.769897</td>\n",
       "      <td>8.097000</td>\n",
       "      <td>8.457107</td>\n",
       "      <td>8.842743</td>\n",
       "      <td>8.702670</td>\n",
       "      <td>7.915254</td>\n",
       "      <td>8.483459</td>\n",
       "      <td>...</td>\n",
       "      <td>8.061999</td>\n",
       "      <td>8.117889</td>\n",
       "      <td>9.159816</td>\n",
       "      <td>9.487754</td>\n",
       "      <td>9.699332</td>\n",
       "      <td>8.200573</td>\n",
       "      <td>9.095698</td>\n",
       "      <td>9.422875</td>\n",
       "      <td>8.409377</td>\n",
       "      <td>9.587772</td>\n",
       "    </tr>\n",
       "    <tr>\n",
       "      <th>A_19_P00315492</th>\n",
       "      <td>6.398731</td>\n",
       "      <td>6.405888</td>\n",
       "      <td>5.985312</td>\n",
       "      <td>6.184363</td>\n",
       "      <td>6.170733</td>\n",
       "      <td>6.250089</td>\n",
       "      <td>6.303887</td>\n",
       "      <td>6.136184</td>\n",
       "      <td>6.086006</td>\n",
       "      <td>6.247261</td>\n",
       "      <td>...</td>\n",
       "      <td>6.115380</td>\n",
       "      <td>6.250949</td>\n",
       "      <td>6.151105</td>\n",
       "      <td>5.935964</td>\n",
       "      <td>6.293813</td>\n",
       "      <td>6.430803</td>\n",
       "      <td>6.150817</td>\n",
       "      <td>6.331640</td>\n",
       "      <td>6.205212</td>\n",
       "      <td>6.811390</td>\n",
       "    </tr>\n",
       "    <tr>\n",
       "      <th>A_19_P00315493</th>\n",
       "      <td>7.806405</td>\n",
       "      <td>8.416414</td>\n",
       "      <td>8.369232</td>\n",
       "      <td>7.425126</td>\n",
       "      <td>9.318262</td>\n",
       "      <td>9.470389</td>\n",
       "      <td>9.316538</td>\n",
       "      <td>9.042451</td>\n",
       "      <td>8.309025</td>\n",
       "      <td>8.931577</td>\n",
       "      <td>...</td>\n",
       "      <td>8.719534</td>\n",
       "      <td>8.723245</td>\n",
       "      <td>8.039626</td>\n",
       "      <td>8.512870</td>\n",
       "      <td>8.904771</td>\n",
       "      <td>7.988505</td>\n",
       "      <td>8.978647</td>\n",
       "      <td>8.276969</td>\n",
       "      <td>8.543147</td>\n",
       "      <td>10.224405</td>\n",
       "    </tr>\n",
       "    <tr>\n",
       "      <th>A_19_P00315502</th>\n",
       "      <td>6.485717</td>\n",
       "      <td>6.206045</td>\n",
       "      <td>6.378061</td>\n",
       "      <td>6.075918</td>\n",
       "      <td>6.057971</td>\n",
       "      <td>6.276804</td>\n",
       "      <td>5.878976</td>\n",
       "      <td>6.057259</td>\n",
       "      <td>6.102158</td>\n",
       "      <td>6.092648</td>\n",
       "      <td>...</td>\n",
       "      <td>6.210990</td>\n",
       "      <td>6.106469</td>\n",
       "      <td>6.044730</td>\n",
       "      <td>5.859149</td>\n",
       "      <td>6.302471</td>\n",
       "      <td>6.127004</td>\n",
       "      <td>6.245157</td>\n",
       "      <td>6.196389</td>\n",
       "      <td>6.412637</td>\n",
       "      <td>6.325190</td>\n",
       "    </tr>\n",
       "    <tr>\n",
       "      <th>A_19_P00315506</th>\n",
       "      <td>7.505585</td>\n",
       "      <td>8.261315</td>\n",
       "      <td>7.723854</td>\n",
       "      <td>8.218476</td>\n",
       "      <td>8.149302</td>\n",
       "      <td>8.132288</td>\n",
       "      <td>7.953135</td>\n",
       "      <td>7.872324</td>\n",
       "      <td>8.138612</td>\n",
       "      <td>8.308450</td>\n",
       "      <td>...</td>\n",
       "      <td>7.656146</td>\n",
       "      <td>8.073789</td>\n",
       "      <td>8.211345</td>\n",
       "      <td>8.475403</td>\n",
       "      <td>8.329081</td>\n",
       "      <td>7.773416</td>\n",
       "      <td>8.476529</td>\n",
       "      <td>8.361277</td>\n",
       "      <td>9.023644</td>\n",
       "      <td>7.931727</td>\n",
       "    </tr>\n",
       "  </tbody>\n",
       "</table>\n",
       "<p>5 rows × 31 columns</p>\n",
       "</div>"
      ],
      "text/plain": [
       "                GSM7019507  GSM7019508  GSM7019509  GSM7019510  GSM7019511  \\\n",
       "ID                                                                           \n",
       "A_19_P00315452    8.401627    9.797257    8.487270    8.769897    8.097000   \n",
       "A_19_P00315492    6.398731    6.405888    5.985312    6.184363    6.170733   \n",
       "A_19_P00315493    7.806405    8.416414    8.369232    7.425126    9.318262   \n",
       "A_19_P00315502    6.485717    6.206045    6.378061    6.075918    6.057971   \n",
       "A_19_P00315506    7.505585    8.261315    7.723854    8.218476    8.149302   \n",
       "\n",
       "                GSM7019512  GSM7019513  GSM7019514  GSM7019515  GSM7019516  \\\n",
       "ID                                                                           \n",
       "A_19_P00315452    8.457107    8.842743    8.702670    7.915254    8.483459   \n",
       "A_19_P00315492    6.250089    6.303887    6.136184    6.086006    6.247261   \n",
       "A_19_P00315493    9.470389    9.316538    9.042451    8.309025    8.931577   \n",
       "A_19_P00315502    6.276804    5.878976    6.057259    6.102158    6.092648   \n",
       "A_19_P00315506    8.132288    7.953135    7.872324    8.138612    8.308450   \n",
       "\n",
       "                ...  GSM7019528  GSM7019529  GSM7019530  GSM7019531  \\\n",
       "ID              ...                                                   \n",
       "A_19_P00315452  ...    8.061999    8.117889    9.159816    9.487754   \n",
       "A_19_P00315492  ...    6.115380    6.250949    6.151105    5.935964   \n",
       "A_19_P00315493  ...    8.719534    8.723245    8.039626    8.512870   \n",
       "A_19_P00315502  ...    6.210990    6.106469    6.044730    5.859149   \n",
       "A_19_P00315506  ...    7.656146    8.073789    8.211345    8.475403   \n",
       "\n",
       "                GSM7019532  GSM7019533  GSM7019534  GSM7019535  GSM7019536  \\\n",
       "ID                                                                           \n",
       "A_19_P00315452    9.699332    8.200573    9.095698    9.422875    8.409377   \n",
       "A_19_P00315492    6.293813    6.430803    6.150817    6.331640    6.205212   \n",
       "A_19_P00315493    8.904771    7.988505    8.978647    8.276969    8.543147   \n",
       "A_19_P00315502    6.302471    6.127004    6.245157    6.196389    6.412637   \n",
       "A_19_P00315506    8.329081    7.773416    8.476529    8.361277    9.023644   \n",
       "\n",
       "                GSM7019537  \n",
       "ID                          \n",
       "A_19_P00315452    9.587772  \n",
       "A_19_P00315492    6.811390  \n",
       "A_19_P00315493   10.224405  \n",
       "A_19_P00315502    6.325190  \n",
       "A_19_P00315506    7.931727  \n",
       "\n",
       "[5 rows x 31 columns]"
      ]
     },
     "execution_count": 80,
     "metadata": {},
     "output_type": "execute_result"
    }
   ],
   "source": [
    "genetic_data = get_genetic_data(matrix_file)\n",
    "genetic_data.head()"
   ]
  },
  {
   "cell_type": "code",
   "execution_count": 81,
   "metadata": {
    "ExecuteTime": {
     "end_time": "2024-01-02T01:03:06.250833943Z",
     "start_time": "2024-01-02T01:03:06.246758837Z"
    },
    "collapsed": false
   },
   "outputs": [
    {
     "data": {
      "text/plain": [
       "['A_19_P00315452',\n",
       " 'A_19_P00315492',\n",
       " 'A_19_P00315493',\n",
       " 'A_19_P00315502',\n",
       " 'A_19_P00315506',\n",
       " 'A_19_P00315518',\n",
       " 'A_19_P00315519',\n",
       " 'A_19_P00315529',\n",
       " 'A_19_P00315541',\n",
       " 'A_19_P00315543',\n",
       " 'A_19_P00315551',\n",
       " 'A_19_P00315581',\n",
       " 'A_19_P00315584',\n",
       " 'A_19_P00315593',\n",
       " 'A_19_P00315603',\n",
       " 'A_19_P00315625',\n",
       " 'A_19_P00315627',\n",
       " 'A_19_P00315631',\n",
       " 'A_19_P00315641',\n",
       " 'A_19_P00315647']"
      ]
     },
     "execution_count": 81,
     "metadata": {},
     "output_type": "execute_result"
    }
   ],
   "source": [
    "gene_row_ids = genetic_data.index[:20].tolist()\n",
    "gene_row_ids"
   ]
  },
  {
   "cell_type": "markdown",
   "metadata": {
    "ExecuteTime": {
     "end_time": "2023-12-31T03:30:41.595335164Z",
     "start_time": "2023-12-31T03:30:41.513232329Z"
    },
    "collapsed": false
   },
   "source": [
    "Check if the gene dataset requires mapping to get the gene symbols corresponding to each data row."
   ]
  },
  {
   "cell_type": "markdown",
   "metadata": {
    "collapsed": false
   },
   "source": [
    "Reference prompt:"
   ]
  },
  {
   "cell_type": "code",
   "execution_count": 82,
   "metadata": {
    "ExecuteTime": {
     "end_time": "2024-01-02T01:03:07.586216481Z",
     "start_time": "2024-01-02T01:03:07.574527035Z"
    },
    "collapsed": false
   },
   "outputs": [
    {
     "data": {
      "text/plain": [
       "\"\\nBelow are the row headers of a gene expression dataset in GEO. Based on your biomedical knowledge, are they human gene symbols, or are they some other identifiers that need to be mapped to gene symbols? Your answer should be concluded by starting a new line and strictly following this format:\\nrequires_gene_mapping = (True or False)\\n\\nRow headers:\\n['A_19_P00315452', 'A_19_P00315492', 'A_19_P00315493', 'A_19_P00315502', 'A_19_P00315506', 'A_19_P00315518', 'A_19_P00315519', 'A_19_P00315529', 'A_19_P00315541', 'A_19_P00315543', 'A_19_P00315551', 'A_19_P00315581', 'A_19_P00315584', 'A_19_P00315593', 'A_19_P00315603', 'A_19_P00315625', 'A_19_P00315627', 'A_19_P00315631', 'A_19_P00315641', 'A_19_P00315647']\\n\""
      ]
     },
     "execution_count": 82,
     "metadata": {},
     "output_type": "execute_result"
    }
   ],
   "source": [
    "f'''\n",
    "Below are the row headers of a gene expression dataset in GEO. Based on your biomedical knowledge, are they human gene symbols, or are they some other identifiers that need to be mapped to gene symbols? Your answer should be concluded by starting a new line and strictly following this format:\n",
    "requires_gene_mapping = (True or False)\n",
    "\n",
    "Row headers:\n",
    "{gene_row_ids}\n",
    "'''"
   ]
  },
  {
   "cell_type": "markdown",
   "metadata": {
    "collapsed": false
   },
   "source": [
    "If not required, jump directly to the gene normalization step"
   ]
  },
  {
   "cell_type": "code",
   "execution_count": 83,
   "metadata": {
    "ExecuteTime": {
     "end_time": "2024-01-02T01:03:08.263712538Z",
     "start_time": "2024-01-02T01:03:08.260656314Z"
    },
    "collapsed": false
   },
   "outputs": [],
   "source": [
    "requires_gene_mapping = True"
   ]
  },
  {
   "cell_type": "code",
   "execution_count": 84,
   "metadata": {
    "ExecuteTime": {
     "end_time": "2024-01-02T01:03:33.822550310Z",
     "start_time": "2024-01-02T01:03:08.648958912Z"
    },
    "collapsed": false
   },
   "outputs": [
    {
     "name": "stdout",
     "output_type": "stream",
     "text": [
      "{'ID': ['GE_BrightCorner', 'DarkCorner', 'A_21_P0014386', 'A_33_P3396872', 'A_33_P3267760'], 'CONTROL_TYPE': ['pos', 'pos', 'FALSE', 'FALSE', 'FALSE'], 'REFSEQ': [nan, nan, nan, 'NM_001105533', nan], 'GB_ACC': [nan, nan, nan, 'NM_001105533', nan], 'LOCUSLINK_ID': [nan, nan, nan, 79974.0, 54880.0], 'GENE_SYMBOL': [nan, nan, nan, 'CPED1', 'BCOR'], 'GENE_NAME': [nan, nan, nan, 'cadherin-like and PC-esterase domain containing 1', 'BCL6 corepressor'], 'UNIGENE_ID': [nan, nan, nan, 'Hs.189652', nan], 'ENSEMBL_ID': [nan, nan, nan, nan, 'ENST00000378463'], 'ACCESSION_STRING': [nan, nan, nan, 'ref|NM_001105533|gb|AK025639|gb|BC030538|tc|THC2601673', 'ens|ENST00000378463'], 'CHROMOSOMAL_LOCATION': [nan, nan, 'unmapped', 'chr7:120901888-120901947', 'chrX:39909128-39909069'], 'CYTOBAND': [nan, nan, nan, 'hs|7q31.31', 'hs|Xp11.4'], 'DESCRIPTION': [nan, nan, nan, 'Homo sapiens cadherin-like and PC-esterase domain containing 1 (CPED1), transcript variant 2, mRNA [NM_001105533]', 'BCL6 corepressor [Source:HGNC Symbol;Acc:HGNC:20893] [ENST00000378463]'], 'GO_ID': [nan, nan, nan, 'GO:0005783(endoplasmic reticulum)', 'GO:0000122(negative regulation of transcription from RNA polymerase II promoter)|GO:0000415(negative regulation of histone H3-K36 methylation)|GO:0003714(transcription corepressor activity)|GO:0004842(ubiquitin-protein ligase activity)|GO:0005515(protein binding)|GO:0005634(nucleus)|GO:0006351(transcription, DNA-dependent)|GO:0007507(heart development)|GO:0008134(transcription factor binding)|GO:0030502(negative regulation of bone mineralization)|GO:0031072(heat shock protein binding)|GO:0031519(PcG protein complex)|GO:0035518(histone H2A monoubiquitination)|GO:0042476(odontogenesis)|GO:0042826(histone deacetylase binding)|GO:0044212(transcription regulatory region DNA binding)|GO:0045892(negative regulation of transcription, DNA-dependent)|GO:0051572(negative regulation of histone H3-K4 methylation)|GO:0060021(palate development)|GO:0065001(specification of axis polarity)|GO:0070171(negative regulation of tooth mineralization)'], 'SEQUENCE': [nan, nan, 'AATACATGTTTTGGTAAACACTCGGTCAGAGCACCCTCTTTCTGTGGAATCAGACTGGCA', 'GCTTATCTCACCTAATACAGGGACTATGCAACCAAGAAACTGGAAATAAAAACAAAGATA', 'CATCAAAGCTACGAGAGATCCTACACACCCAGATTTAAAAAATAATAAAAACTTAAGGGC'], 'SPOT_ID': ['GE_BrightCorner', 'DarkCorner', 'A_21_P0014386', 'A_33_P3396872', 'A_33_P3267760']}\n"
     ]
    }
   ],
   "source": [
    "if requires_gene_mapping:\n",
    "    gene_annotation = get_gene_annotation(soft_file)\n",
    "    gene_annotation_summary = preview_df(gene_annotation)\n",
    "    print(gene_annotation_summary)"
   ]
  },
  {
   "cell_type": "markdown",
   "metadata": {
    "ExecuteTime": {
     "end_time": "2023-12-31T03:58:04.978931927Z",
     "start_time": "2023-12-31T03:58:04.966328339Z"
    },
    "collapsed": false
   },
   "source": [
    "Observe the first few cells in the ID column of the gene annotation dataframe, to find the names of columns that store the gene probe IDs and gene symbols respectively.\n",
    "Reference prompt:"
   ]
  },
  {
   "cell_type": "code",
   "execution_count": 85,
   "metadata": {
    "ExecuteTime": {
     "end_time": "2024-01-02T01:03:33.822912446Z",
     "start_time": "2024-01-02T01:03:33.804491826Z"
    },
    "collapsed": false
   },
   "outputs": [
    {
     "name": "stdout",
     "output_type": "stream",
     "text": [
      "\n",
      "    As a biomedical research team, we extracted the gene annotation data from a series in the GEO database, and saved it to a Python dictionary. Please read the dictionary, and decide which key stores the ID of the probe, and which key stores the gene symbols. Please strict follow this format in your answer:\n",
      "    probe_name_key = 'key_name1'\n",
      "    gene_name_key = 'key_name2'\n",
      "\n",
      "    Gene annotation dictionary:\n",
      "    {'ID': ['GE_BrightCorner', 'DarkCorner', 'A_21_P0014386', 'A_33_P3396872', 'A_33_P3267760'], 'CONTROL_TYPE': ['pos', 'pos', 'FALSE', 'FALSE', 'FALSE'], 'REFSEQ': [nan, nan, nan, 'NM_001105533', nan], 'GB_ACC': [nan, nan, nan, 'NM_001105533', nan], 'LOCUSLINK_ID': [nan, nan, nan, 79974.0, 54880.0], 'GENE_SYMBOL': [nan, nan, nan, 'CPED1', 'BCOR'], 'GENE_NAME': [nan, nan, nan, 'cadherin-like and PC-esterase domain containing 1', 'BCL6 corepressor'], 'UNIGENE_ID': [nan, nan, nan, 'Hs.189652', nan], 'ENSEMBL_ID': [nan, nan, nan, nan, 'ENST00000378463'], 'ACCESSION_STRING': [nan, nan, nan, 'ref|NM_001105533|gb|AK025639|gb|BC030538|tc|THC2601673', 'ens|ENST00000378463'], 'CHROMOSOMAL_LOCATION': [nan, nan, 'unmapped', 'chr7:120901888-120901947', 'chrX:39909128-39909069'], 'CYTOBAND': [nan, nan, nan, 'hs|7q31.31', 'hs|Xp11.4'], 'DESCRIPTION': [nan, nan, nan, 'Homo sapiens cadherin-like and PC-esterase domain containing 1 (CPED1), transcript variant 2, mRNA [NM_001105533]', 'BCL6 corepressor [Source:HGNC Symbol;Acc:HGNC:20893] [ENST00000378463]'], 'GO_ID': [nan, nan, nan, 'GO:0005783(endoplasmic reticulum)', 'GO:0000122(negative regulation of transcription from RNA polymerase II promoter)|GO:0000415(negative regulation of histone H3-K36 methylation)|GO:0003714(transcription corepressor activity)|GO:0004842(ubiquitin-protein ligase activity)|GO:0005515(protein binding)|GO:0005634(nucleus)|GO:0006351(transcription, DNA-dependent)|GO:0007507(heart development)|GO:0008134(transcription factor binding)|GO:0030502(negative regulation of bone mineralization)|GO:0031072(heat shock protein binding)|GO:0031519(PcG protein complex)|GO:0035518(histone H2A monoubiquitination)|GO:0042476(odontogenesis)|GO:0042826(histone deacetylase binding)|GO:0044212(transcription regulatory region DNA binding)|GO:0045892(negative regulation of transcription, DNA-dependent)|GO:0051572(negative regulation of histone H3-K4 methylation)|GO:0060021(palate development)|GO:0065001(specification of axis polarity)|GO:0070171(negative regulation of tooth mineralization)'], 'SEQUENCE': [nan, nan, 'AATACATGTTTTGGTAAACACTCGGTCAGAGCACCCTCTTTCTGTGGAATCAGACTGGCA', 'GCTTATCTCACCTAATACAGGGACTATGCAACCAAGAAACTGGAAATAAAAACAAAGATA', 'CATCAAAGCTACGAGAGATCCTACACACCCAGATTTAAAAAATAATAAAAACTTAAGGGC'], 'SPOT_ID': ['GE_BrightCorner', 'DarkCorner', 'A_21_P0014386', 'A_33_P3396872', 'A_33_P3267760']}\n",
      "    \n"
     ]
    }
   ],
   "source": [
    "if requires_gene_mapping:\n",
    "    print(f'''\n",
    "    As a biomedical research team, we extracted the gene annotation data from a series in the GEO database, and saved it to a Python dictionary. Please read the dictionary, and decide which key stores the ID of the probe, and which key stores the gene symbols. Please strict follow this format in your answer:\n",
    "    probe_name_key = 'key_name1'\n",
    "    gene_name_key = 'key_name2'\n",
    "\n",
    "    Gene annotation dictionary:\n",
    "    {gene_annotation_summary}\n",
    "    ''')"
   ]
  },
  {
   "cell_type": "code",
   "execution_count": 86,
   "metadata": {
    "ExecuteTime": {
     "end_time": "2024-01-02T01:03:35.113359369Z",
     "start_time": "2024-01-02T01:03:33.804666371Z"
    },
    "collapsed": false
   },
   "outputs": [],
   "source": [
    "if requires_gene_mapping:\n",
    "    probe_id_key = 'ID'\n",
    "    gene_symb_key = 'GENE_SYMBOL'\n",
    "    gene_mapping = get_gene_mapping(gene_annotation, probe_id_key, gene_symb_key)\n",
    "    genetic_data = apply_gene_mapping(genetic_data, gene_mapping)"
   ]
  },
  {
   "cell_type": "code",
   "execution_count": 87,
   "metadata": {
    "ExecuteTime": {
     "end_time": "2024-01-02T01:03:35.156584675Z",
     "start_time": "2024-01-02T01:03:35.114652593Z"
    },
    "collapsed": false
   },
   "outputs": [
    {
     "name": "stderr",
     "output_type": "stream",
     "text": [
      "52 input query terms found dup hits:\t[('A2MP1', 2), ('AACSP1', 2), ('AADACL2-AS1', 3), ('AADACP1', 2), ('ABCC13', 2), ('ABCC6P1', 2), ('A\n",
      "39 input query terms found no hit:\t['AAED1', 'AARS', 'AATK-AS1', 'ACN9', 'ACPP', 'ACPT', 'ACRC', 'ACTN1-AS1', 'ADCK3', 'ADCK4', 'ADPRHL\n",
      "36 input query terms found dup hits:\t[('ARHGAP5-AS1', 2), ('ARHGEF34P', 2), ('ARHGEF7-AS1', 2), ('ARIH2OS', 2), ('ARMC2-AS1', 2), ('ASB9P\n",
      "137 input query terms found no hit:\t['ARMC4', 'ARNTL', 'ARNTL2', 'ARNTL2-AS1', 'ARSE', 'ASNA1', 'ASUN', 'ATHL1', 'ATP5A1', 'ATP5B', 'ATP\n",
      "19 input query terms found dup hits:\t[('C1QTNF1-AS1', 2), ('C20orf181', 2), ('C21orf62-AS1', 2), ('C2orf83', 2), ('C3P1', 2), ('C5orf60',\n",
      "254 input query terms found no hit:\t['C17orf102', 'C17orf104', 'C17orf105', 'C17orf112', 'C17orf47', 'C17orf51', 'C17orf53', 'C17orf59',\n",
      "30 input query terms found dup hits:\t[('CD99P1', 3), ('CDR1', 2), ('CDRT15P1', 2), ('CDRT15P2', 2), ('CDRT8', 2), ('CEACAM22P', 2), ('CEB\n",
      "27 input query terms found no hit:\t['CD97', 'CDIPT-AS1', 'CDRT1', 'CEBPA-AS1', 'CECR1', 'CECR5', 'CECR5-AS1', 'CECR6', 'CELSR3-AS1', 'C\n",
      "46 input query terms found dup hits:\t[('CROCCP2', 2), ('CRYBB2P1', 2), ('CSAG4', 3), ('CSNK1A1P1', 2), ('CST13P', 2), ('CTAGE10P', 2), ('\n",
      "70 input query terms found no hit:\t['CRHR1-IT1', 'CRIPAK', 'CSE1L-AS1', 'CSRP2BP', 'CSTF3-AS1', 'CTAGE5', 'CTB-113P19.1', 'CTB-178M22.2\n",
      "31 input query terms found dup hits:\t[('DPH3P1', 2), ('DPP10-AS3', 2), ('DPPA2P3', 2), ('DPRXP4', 3), ('DPY19L1P1', 2), ('DPY19L2P1', 2),\n",
      "115 input query terms found no hit:\t['DPCR1', 'DPH6-AS1', 'DSCR3', 'DUPD1', 'DUSP13', 'DUSP27', 'DYX1C1', 'EBLN3', 'ECRP', 'EFCAB1', 'EF\n",
      "38 input query terms found dup hits:\t[('FAM224A', 2), ('FAM27B', 2), ('FAM41AY1', 2), ('FAM53B-AS1', 2), ('FAM66A', 2), ('FAM66C', 2), ('\n",
      "153 input query terms found no hit:\t['FAM231A', 'FAM26D', 'FAM26E', 'FAM26F', 'FAM27L', 'FAM35A', 'FAM45A', 'FAM46A', 'FAM46B', 'FAM46C'\n",
      "40 input query terms found dup hits:\t[('GGT3P', 2), ('GGT8P', 2), ('GLRA4', 2), ('GLUD1P3', 2), ('GLYCTK-AS1', 2), ('GNA14-AS1', 2), ('GO\n",
      "149 input query terms found no hit:\t['GGTA1P', 'GIF', 'GK3P', 'GLTSCR1', 'GLTSCR1L', 'GLTSCR2', 'GLUD1P7', 'GM140', 'GMCL1P1', 'GMDS-AS1\n",
      "34 input query terms found dup hits:\t[('HLA-DRB6', 2), ('HLA-J', 9), ('HLA-L', 7), ('HM13-AS1', 2), ('HMGA1P7', 2), ('HMGB3P1', 2), ('HMM\n",
      "36 input query terms found no hit:\t['HMHA1', 'HMP19', 'HN1', 'HN1L', 'HNRNPU-AS1', 'HP09025', 'HPVC1', 'HPX-2', 'HRASLS', 'HRASLS2', 'H\n",
      "71 input query terms found dup hits:\t[('KCNMA1-AS3', 2), ('KCNMB2-AS1', 2), ('KDM4A-AS1', 2), ('KIF9-AS1', 2), ('KIR3DX1', 5), ('KLF3-AS1\n",
      "100 input query terms found no hit:\t['KDELC1', 'KDELC2', 'KGFLP1', 'KGFLP2', 'KIAA0020', 'KIAA0100', 'KIAA0101', 'KIAA0125', 'KIAA0141',\n",
      "171 input query terms found dup hits:\t[('LINC00491', 2), ('LINC00502', 2), ('LINC00508', 2), ('LINC00518', 2), ('LINC00526', 2), ('LINC005\n",
      "290 input query terms found no hit:\t['LINC00483', 'LINC00493', 'LINC00514', 'LINC00521', 'LINC00527', 'LINC00535', 'LINC00565', 'LINC005\n",
      "707 input query terms found no hit:\t['LOC100131101', 'LOC100131129', 'LOC100131131', 'LOC100131132', 'LOC100131150', 'LOC100131170', 'LO\n",
      "695 input query terms found no hit:\t['LOC101928103', 'LOC101928106', 'LOC101928108', 'LOC101928114', 'LOC101928115', 'LOC101928117', 'LO\n",
      "11 input query terms found dup hits:\t[('LPAL2', 2), ('LRP5L', 2), ('LRRC37A11P', 2), ('LRRC37A4P', 3), ('LRRC37A5P', 2), ('LRRC37A6P', 2)\n",
      "532 input query terms found no hit:\t['LOC102724791', 'LOC102724792', 'LOC102724794', 'LOC102724795', 'LOC102724809', 'LOC102724810', 'LO\n",
      "35 input query terms found dup hits:\t[('MAGEA8-AS1', 2), ('MALAT1', 2), ('MAMDC2-AS1', 3), ('MAP3K14-AS1', 2), ('MAPT-AS1', 4), ('MCF2L-A\n",
      "60 input query terms found no hit:\t['MAATS1', 'MAGEA10-MAGEA5', 'MAGI2-IT1', 'MAN1B1-AS1', 'MANEA-AS1', 'MARS', 'MB21D1', 'MCTS2P', 'ME\n",
      "31 input query terms found dup hits:\t[('MTMR9LP', 2), ('MTUS2-AS1', 2), ('MYH16', 2), ('MYHAS', 2), ('NAALADL2-AS1', 2), ('NAPA-AS1', 2),\n",
      "30 input query terms found no hit:\t['MTL5', 'MTSS1L', 'MUC3', 'MUM1', 'MUM1L1', 'MURC', 'MUT', 'MYEOV2', 'MYLPF', 'N6AMT2', 'NACAP1', '\n",
      "39 input query terms found dup hits:\t[('NXF4', 2), ('NXF5', 2), ('OACYLP', 2), ('OFCC1', 2), ('OGFR-AS1', 2), ('OGFRP1', 2), ('OR10J3', 3\n",
      "34 input query terms found no hit:\t['NUPL1', 'NUPL2', 'NUPR1L', 'OBFC1', 'OCLM', 'OCR1', 'ODF3', 'ODF3B', 'ODF3L1', 'ODF3L2', 'OK/SW-CL\n",
      "35 input query terms found dup hits:\t[('PDXDC2P', 2), ('PDZRN3-AS1', 2), ('PGM5P2', 2), ('PHKA2-AS1', 2), ('PI4KAP2', 2), ('PIP5K1P1', 2)\n",
      "44 input query terms found no hit:\t['PDX1-AS1', 'PDZD3', 'PER4', 'PGCP1', 'PHB', 'PIFO', 'PIH1D3', 'PIK3IP1-AS1', 'PKI55', 'PLA2G16', '\n",
      "30 input query terms found dup hits:\t[('PRORY', 2), ('PROX1-AS1', 2), ('PRR34', 2), ('PRR34-AS1', 2), ('PRR7-AS1', 2), ('PRSS3P2', 2), ('\n",
      "39 input query terms found no hit:\t['PROSC', 'PRPF4B', 'PRR26', 'PRR31', 'PRSS42', 'PRSS45', 'PRSS46', 'PRUNE', 'PSMD5-AS1', 'PTCHD2', \n",
      "52 input query terms found dup hits:\t[('RNF138P1', 2), ('RNF157-AS1', 2), ('RNF217-AS1', 2), ('ROPN1L-AS1', 2), ('RORB-AS1', 2), ('RP9P',\n",
      "36 input query terms found no hit:\t['RNF139-AS1', 'RNF144A-AS1', 'RNF165', 'RNF219', 'RNF219-AS1', 'RNMTL1', 'RPARP-AS1', 'RPL34-AS1', \n",
      "77 input query terms found dup hits:\t[('SIGLEC17P', 2), ('SIGLEC5', 2), ('SLC14A2-AS1', 3), ('SLC16A12-AS1', 2), ('SLC25A25-AS1', 2), ('S\n",
      "25 input query terms found no hit:\t['SKINTL', 'SKIV2L', 'SKIV2L2', 'SLC22A20', 'SLC26A10', 'SLC2A1-AS1', 'SLC35E2', 'SLC9A3R1', 'SLC9A3\n",
      "26 input query terms found dup hits:\t[('SNRPD2P2', 2), ('SP2-AS1', 2), ('SP3P', 2), ('SPAG5-AS1', 2), ('SPATA41', 2), ('SPRR2C', 2), ('SR\n",
      "46 input query terms found no hit:\t['SOGA1', 'SOGA3', 'SPACA6P', 'SPACA6P-AS', 'SPATA5', 'SPATA5L1', 'SPDYE8P', 'SPERT', 'SPG20', 'SPG2\n",
      "42 input query terms found dup hits:\t[('TCP10L2', 2), ('TEC', 2), ('TEKT4P2', 2), ('TERC', 2), ('TESC-AS1', 2), ('TET2-AS1', 2), ('TEX21P\n",
      "57 input query terms found no hit:\t['TCP10', 'TCTE3', 'TCTEX1D1', 'TCTEX1D2', 'TCTEX1D4', 'TDGF1', 'TEPP', 'TEX33', 'TEX37', 'TEX40', '\n",
      "42 input query terms found dup hits:\t[('TRPC2', 2), ('TRPM2-AS', 2), ('TSPEAR-AS1', 2), ('TSPEAR-AS2', 2), ('TSPY26P', 2), ('TSSC2', 2), \n",
      "57 input query terms found no hit:\t['TRIM78P', 'TROVE2', 'TRY2P', 'TSRM', 'TSSC1', 'TSTA3', 'TTC25', 'TTC26', 'TTC30A', 'TTC30B', 'TTC3\n",
      "2 input query terms found dup hits:\t[('WT1-AS', 2), ('XIRP2-AS1', 2)]\n",
      "923 input query terms found no hit:\t['WISP1', 'WISP2', 'WISP3', 'WRB', 'WTH3DI', 'XKRY2', 'XLOC_014422', 'XLOC_014484', 'XLOC_l2_000001'\n",
      "35 input query terms found dup hits:\t[('XRCC6P5', 2), ('XXYLT1-AS2', 2), ('YWHAEP1', 2), ('YWHAEP7', 3), ('YY1P2', 2), ('ZBED3-AS1', 2), \n",
      "93 input query terms found no hit:\t['XLOC_l2_015659', 'XLOC_l2_015661', 'XLOC_l2_015700', 'XLOC_l2_015703', 'XLOC_l2_015716', 'XLOC_l2_\n",
      "1000 input query terms found no hit:\t['lnc-ABI3-2', 'lnc-ABL1-1', 'lnc-ABLIM1-1', 'lnc-ABLIM2-1', 'lnc-ABRA-1', 'lnc-ABT1-2', 'lnc-ABT1-4\n",
      "1000 input query terms found no hit:\t['lnc-C11orf39-3', 'lnc-C11orf41-1', 'lnc-C11orf44-1', 'lnc-C11orf44-2', 'lnc-C11orf46-1', 'lnc-C11o\n",
      "1000 input query terms found no hit:\t['lnc-CNOT6-4', 'lnc-CNOT7-1', 'lnc-CNOT8-1', 'lnc-CNPY3-1', 'lnc-CNR1-1', 'lnc-CNTLN-2', 'lnc-CNTLN\n",
      "1000 input query terms found no hit:\t['lnc-FAS-1', 'lnc-FAS-2', 'lnc-FASTK-1', 'lnc-FAT1-2', 'lnc-FBLN2-1', 'lnc-FBN1-1', 'lnc-FBN1-3', '\n",
      "1000 input query terms found no hit:\t['lnc-JARID2-1', 'lnc-JMJD1C-1', 'lnc-JMJD1C-2', 'lnc-JMJD4-1', 'lnc-JMJD7-PLA2G4B-1', 'lnc-JMJD7-PL\n",
      "1000 input query terms found no hit:\t['lnc-NDUFS6-1', 'lnc-NDUFS6-5', 'lnc-NDUFS6-7', 'lnc-NDUFS6-8', 'lnc-NDUFS8-1', 'lnc-NDUFV1-1', 'ln\n",
      "1000 input query terms found no hit:\t['lnc-PTPRU-2', 'lnc-PTPRU-3', 'lnc-PTPRU-4', 'lnc-PTPRZ1-3', 'lnc-PTPRZ1-4', 'lnc-PTRH2-1', 'lnc-PT\n",
      "1000 input query terms found no hit:\t['lnc-SLC35D3-1', 'lnc-SLC35E3-1', 'lnc-SLC35F5-2', 'lnc-SLC35F5-4', 'lnc-SLC35F5-5', 'lnc-SLC35F5-8\n",
      "729 input query terms found no hit:\t['lnc-TSC22D1-1', 'lnc-TSC22D1-2', 'lnc-TSEN15-1', 'lnc-TSEN15-2', 'lnc-TSEN2-1', 'lnc-TSFM-1', 'lnc\n"
     ]
    }
   ],
   "source": [
    "if NORMALIZE_GENE:\n",
    "    genetic_data = normalize_gene_symbols_in_index(genetic_data)"
   ]
  },
  {
   "cell_type": "code",
   "execution_count": 88,
   "metadata": {
    "ExecuteTime": {
     "end_time": "2024-01-02T01:03:35.158174021Z",
     "start_time": "2024-01-02T01:03:35.156777134Z"
    },
    "collapsed": false
   },
   "outputs": [],
   "source": [
    "merged_data = geo_merge_clinical_genetic_data(selected_clinical_data, genetic_data)\n",
    "# The preprocessing runs through, which means is_available should be True\n",
    "is_available = True"
   ]
  },
  {
   "cell_type": "code",
   "execution_count": 91,
   "metadata": {
    "ExecuteTime": {
     "end_time": "2024-01-02T01:03:35.158378853Z",
     "start_time": "2024-01-02T01:03:35.156895194Z"
    },
    "collapsed": false
   },
   "outputs": [
    {
     "name": "stdout",
     "output_type": "stream",
     "text": [
      "The merged dataset contains 31 samples.\n"
     ]
    }
   ],
   "source": [
    "print(f\"The merged dataset contains {len(merged_data)} samples.\")"
   ]
  },
  {
   "cell_type": "code",
   "execution_count": 90,
   "metadata": {
    "ExecuteTime": {
     "end_time": "2024-01-02T01:03:35.158646754Z",
     "start_time": "2024-01-02T01:03:35.156975304Z"
    },
    "collapsed": false
   },
   "outputs": [
    {
     "name": "stdout",
     "output_type": "stream",
     "text": [
      "For the feature 'Osteoporosis', the least common label is '1.0' with 4 occurrences. This represents 12.90% of the dataset.\n",
      "The distribution of the feature 'Osteoporosis' in this dataset is fine.\n",
      "\n",
      "Quartiles for 'Age':\n",
      "  25%: 54.5\n",
      "  50% (Median): 61.0\n",
      "  75%: 64.5\n",
      "Min: 47.0\n",
      "Max: 84.0\n",
      "The distribution of the feature 'Age' in this dataset is fine.\n",
      "\n",
      "For the feature 'Gender', the least common label is '1.0' with 9 occurrences. This represents 29.03% of the dataset.\n",
      "The distribution of the feature 'Gender' in this dataset is fine.\n",
      "\n"
     ]
    },
    {
     "data": {
      "text/plain": [
       "False"
      ]
     },
     "execution_count": 90,
     "metadata": {},
     "output_type": "execute_result"
    }
   ],
   "source": [
    "is_trait_biased, merged_data = judge_and_remove_biased_features(merged_data, TRAIT, trait_type=trait_type)\n",
    "is_trait_biased"
   ]
  },
  {
   "cell_type": "code",
   "execution_count": 92,
   "metadata": {
    "ExecuteTime": {
     "end_time": "2024-01-02T01:03:35.158803015Z",
     "start_time": "2024-01-02T01:03:35.157063388Z"
    },
    "collapsed": false
   },
   "outputs": [],
   "source": [
    "save_cohort_info(cohort, JSON_PATH, is_available, is_trait_biased, merged_data, note='')"
   ]
  },
  {
   "cell_type": "code",
   "execution_count": 93,
   "metadata": {
    "ExecuteTime": {
     "end_time": "2024-01-02T01:03:36.004312476Z",
     "start_time": "2024-01-02T01:03:35.157165158Z"
    },
    "collapsed": false
   },
   "outputs": [],
   "source": [
    "merged_data.head()\n",
    "if not is_trait_biased:\n",
    "    merged_data.to_csv(os.path.join(OUTPUT_DIR, cohort+'.csv'), index=False)"
   ]
  },
  {
   "cell_type": "markdown",
   "metadata": {
    "ExecuteTime": {
     "end_time": "2023-12-31T03:58:22.271683755Z",
     "start_time": "2023-12-31T03:58:22.246557674Z"
    },
    "id": "-MTPhRGxJV7I"
   },
   "source": [
    "### 3. Do regression & Cross Validation"
   ]
  },
  {
   "cell_type": "code",
   "execution_count": 94,
   "metadata": {
    "ExecuteTime": {
     "end_time": "2024-01-02T01:03:36.048788605Z",
     "start_time": "2024-01-02T01:03:36.005925887Z"
    },
    "collapsed": false
   },
   "outputs": [],
   "source": [
    "from utils import *"
   ]
  },
  {
   "cell_type": "code",
   "execution_count": 95,
   "metadata": {
    "ExecuteTime": {
     "end_time": "2024-01-02T01:03:36.049183603Z",
     "start_time": "2024-01-02T01:03:36.048440305Z"
    },
    "collapsed": false
   },
   "outputs": [
    {
     "data": {
      "text/plain": [
       "'GSE99624'"
      ]
     },
     "execution_count": 95,
     "metadata": {},
     "output_type": "execute_result"
    }
   ],
   "source": [
    "best_cohort, ranked_df = filter_and_rank_cohorts(JSON_PATH, 'has_age')\n",
    "best_cohort"
   ]
  },
  {
   "cell_type": "code",
   "execution_count": 96,
   "metadata": {
    "ExecuteTime": {
     "end_time": "2024-01-02T01:03:36.049430313Z",
     "start_time": "2024-01-02T01:03:36.048984361Z"
    },
    "collapsed": false
   },
   "outputs": [
    {
     "data": {
      "text/html": [
       "<div>\n",
       "<style scoped>\n",
       "    .dataframe tbody tr th:only-of-type {\n",
       "        vertical-align: middle;\n",
       "    }\n",
       "\n",
       "    .dataframe tbody tr th {\n",
       "        vertical-align: top;\n",
       "    }\n",
       "\n",
       "    .dataframe thead th {\n",
       "        text-align: right;\n",
       "    }\n",
       "</style>\n",
       "<table border=\"1\" class=\"dataframe\">\n",
       "  <thead>\n",
       "    <tr style=\"text-align: right;\">\n",
       "      <th></th>\n",
       "      <th>cohort_id</th>\n",
       "      <th>is_usable</th>\n",
       "      <th>is_available</th>\n",
       "      <th>is_biased</th>\n",
       "      <th>has_age</th>\n",
       "      <th>has_gender</th>\n",
       "      <th>sample_size</th>\n",
       "      <th>note</th>\n",
       "    </tr>\n",
       "  </thead>\n",
       "  <tbody>\n",
       "    <tr>\n",
       "      <th>0</th>\n",
       "      <td>GSE99624</td>\n",
       "      <td>True</td>\n",
       "      <td>True</td>\n",
       "      <td>False</td>\n",
       "      <td>True</td>\n",
       "      <td>True</td>\n",
       "      <td>48</td>\n",
       "      <td></td>\n",
       "    </tr>\n",
       "    <tr>\n",
       "      <th>1</th>\n",
       "      <td>GSE224330</td>\n",
       "      <td>True</td>\n",
       "      <td>True</td>\n",
       "      <td>False</td>\n",
       "      <td>True</td>\n",
       "      <td>True</td>\n",
       "      <td>31</td>\n",
       "      <td></td>\n",
       "    </tr>\n",
       "  </tbody>\n",
       "</table>\n",
       "</div>"
      ],
      "text/plain": [
       "   cohort_id  is_usable  is_available  is_biased  has_age  has_gender  \\\n",
       "0   GSE99624       True          True      False     True        True   \n",
       "1  GSE224330       True          True      False     True        True   \n",
       "\n",
       "   sample_size note  \n",
       "0           48       \n",
       "1           31       "
      ]
     },
     "execution_count": 96,
     "metadata": {},
     "output_type": "execute_result"
    }
   ],
   "source": [
    "ranked_df.head()"
   ]
  },
  {
   "cell_type": "code",
   "execution_count": 97,
   "metadata": {
    "ExecuteTime": {
     "end_time": "2024-01-02T01:03:36.345375576Z",
     "start_time": "2024-01-02T01:03:36.049289340Z"
    },
    "collapsed": false
   },
   "outputs": [],
   "source": [
    "ck=100\n",
    "listq=[]\n",
    "for df in pd.read_csv(os.path.join(OUTPUT_DIR, best_cohort+'.csv'),chunksize=ck):\n",
    "    listq.append(df)\n",
    "merged_data = pd.concat(listq)\n",
    "#merged_data = pd.read_csv(os.path.join(OUTPUT_DIR, best_cohort+'.csv'))"
   ]
  },
  {
   "cell_type": "code",
   "execution_count": 98,
   "metadata": {
    "ExecuteTime": {
     "end_time": "2024-01-02T01:03:36.400788548Z",
     "start_time": "2024-01-02T01:03:36.355439168Z"
    },
    "collapsed": false
   },
   "outputs": [
    {
     "data": {
      "text/html": [
       "<div>\n",
       "<style scoped>\n",
       "    .dataframe tbody tr th:only-of-type {\n",
       "        vertical-align: middle;\n",
       "    }\n",
       "\n",
       "    .dataframe tbody tr th {\n",
       "        vertical-align: top;\n",
       "    }\n",
       "\n",
       "    .dataframe thead th {\n",
       "        text-align: right;\n",
       "    }\n",
       "</style>\n",
       "<table border=\"1\" class=\"dataframe\">\n",
       "  <thead>\n",
       "    <tr style=\"text-align: right;\">\n",
       "      <th></th>\n",
       "      <th>Osteoporosis</th>\n",
       "      <th>Age</th>\n",
       "      <th>Gender</th>\n",
       "      <th>A1BG</th>\n",
       "      <th>A1CF</th>\n",
       "      <th>A2BP1</th>\n",
       "      <th>A2LD1</th>\n",
       "      <th>A2M</th>\n",
       "      <th>A2ML1</th>\n",
       "      <th>A4GALT</th>\n",
       "      <th>...</th>\n",
       "      <th>ZXDA</th>\n",
       "      <th>ZXDB</th>\n",
       "      <th>ZXDC</th>\n",
       "      <th>ZYG11A</th>\n",
       "      <th>ZYG11B</th>\n",
       "      <th>ZYX</th>\n",
       "      <th>ZZEF1</th>\n",
       "      <th>ZZZ3</th>\n",
       "      <th>psiTPTE22</th>\n",
       "      <th>tAKR</th>\n",
       "    </tr>\n",
       "  </thead>\n",
       "  <tbody>\n",
       "    <tr>\n",
       "      <th>0</th>\n",
       "      <td>1.0</td>\n",
       "      <td>79.0</td>\n",
       "      <td>0.0</td>\n",
       "      <td>0.619183</td>\n",
       "      <td>0.801233</td>\n",
       "      <td>0.634907</td>\n",
       "      <td>0.837734</td>\n",
       "      <td>0.785291</td>\n",
       "      <td>0.825050</td>\n",
       "      <td>0.406635</td>\n",
       "      <td>...</td>\n",
       "      <td>0.446068</td>\n",
       "      <td>0.563331</td>\n",
       "      <td>0.311214</td>\n",
       "      <td>0.567529</td>\n",
       "      <td>0.506000</td>\n",
       "      <td>0.297853</td>\n",
       "      <td>0.492457</td>\n",
       "      <td>0.159661</td>\n",
       "      <td>0.227908</td>\n",
       "      <td>0.846619</td>\n",
       "    </tr>\n",
       "    <tr>\n",
       "      <th>1</th>\n",
       "      <td>1.0</td>\n",
       "      <td>77.0</td>\n",
       "      <td>0.0</td>\n",
       "      <td>0.658625</td>\n",
       "      <td>0.800475</td>\n",
       "      <td>0.649430</td>\n",
       "      <td>0.851926</td>\n",
       "      <td>0.789070</td>\n",
       "      <td>0.808220</td>\n",
       "      <td>0.398144</td>\n",
       "      <td>...</td>\n",
       "      <td>0.448991</td>\n",
       "      <td>0.602357</td>\n",
       "      <td>0.315149</td>\n",
       "      <td>0.557280</td>\n",
       "      <td>0.511341</td>\n",
       "      <td>0.313782</td>\n",
       "      <td>0.487427</td>\n",
       "      <td>0.162463</td>\n",
       "      <td>0.233809</td>\n",
       "      <td>0.845953</td>\n",
       "    </tr>\n",
       "    <tr>\n",
       "      <th>2</th>\n",
       "      <td>1.0</td>\n",
       "      <td>77.0</td>\n",
       "      <td>0.0</td>\n",
       "      <td>0.628286</td>\n",
       "      <td>0.820998</td>\n",
       "      <td>0.653810</td>\n",
       "      <td>0.860294</td>\n",
       "      <td>0.797432</td>\n",
       "      <td>0.801589</td>\n",
       "      <td>0.412759</td>\n",
       "      <td>...</td>\n",
       "      <td>0.459180</td>\n",
       "      <td>0.581639</td>\n",
       "      <td>0.327939</td>\n",
       "      <td>0.566793</td>\n",
       "      <td>0.528222</td>\n",
       "      <td>0.310803</td>\n",
       "      <td>0.496740</td>\n",
       "      <td>0.165988</td>\n",
       "      <td>0.221068</td>\n",
       "      <td>0.853355</td>\n",
       "    </tr>\n",
       "    <tr>\n",
       "      <th>3</th>\n",
       "      <td>1.0</td>\n",
       "      <td>68.0</td>\n",
       "      <td>0.0</td>\n",
       "      <td>0.653566</td>\n",
       "      <td>0.835262</td>\n",
       "      <td>0.664892</td>\n",
       "      <td>0.862146</td>\n",
       "      <td>0.800886</td>\n",
       "      <td>0.833859</td>\n",
       "      <td>0.408578</td>\n",
       "      <td>...</td>\n",
       "      <td>0.512569</td>\n",
       "      <td>0.603380</td>\n",
       "      <td>0.326088</td>\n",
       "      <td>0.534097</td>\n",
       "      <td>0.534841</td>\n",
       "      <td>0.338295</td>\n",
       "      <td>0.503251</td>\n",
       "      <td>0.168624</td>\n",
       "      <td>0.234407</td>\n",
       "      <td>0.869540</td>\n",
       "    </tr>\n",
       "    <tr>\n",
       "      <th>4</th>\n",
       "      <td>1.0</td>\n",
       "      <td>80.0</td>\n",
       "      <td>0.0</td>\n",
       "      <td>0.662453</td>\n",
       "      <td>0.818094</td>\n",
       "      <td>0.665005</td>\n",
       "      <td>0.865634</td>\n",
       "      <td>0.798020</td>\n",
       "      <td>0.848954</td>\n",
       "      <td>0.416313</td>\n",
       "      <td>...</td>\n",
       "      <td>0.502265</td>\n",
       "      <td>0.577554</td>\n",
       "      <td>0.361502</td>\n",
       "      <td>0.561915</td>\n",
       "      <td>0.521404</td>\n",
       "      <td>0.329367</td>\n",
       "      <td>0.483798</td>\n",
       "      <td>0.171065</td>\n",
       "      <td>0.250503</td>\n",
       "      <td>0.821742</td>\n",
       "    </tr>\n",
       "  </tbody>\n",
       "</table>\n",
       "<p>5 rows × 21216 columns</p>\n",
       "</div>"
      ],
      "text/plain": [
       "   Osteoporosis   Age  Gender      A1BG      A1CF     A2BP1     A2LD1  \\\n",
       "0           1.0  79.0     0.0  0.619183  0.801233  0.634907  0.837734   \n",
       "1           1.0  77.0     0.0  0.658625  0.800475  0.649430  0.851926   \n",
       "2           1.0  77.0     0.0  0.628286  0.820998  0.653810  0.860294   \n",
       "3           1.0  68.0     0.0  0.653566  0.835262  0.664892  0.862146   \n",
       "4           1.0  80.0     0.0  0.662453  0.818094  0.665005  0.865634   \n",
       "\n",
       "        A2M     A2ML1    A4GALT  ...      ZXDA      ZXDB      ZXDC    ZYG11A  \\\n",
       "0  0.785291  0.825050  0.406635  ...  0.446068  0.563331  0.311214  0.567529   \n",
       "1  0.789070  0.808220  0.398144  ...  0.448991  0.602357  0.315149  0.557280   \n",
       "2  0.797432  0.801589  0.412759  ...  0.459180  0.581639  0.327939  0.566793   \n",
       "3  0.800886  0.833859  0.408578  ...  0.512569  0.603380  0.326088  0.534097   \n",
       "4  0.798020  0.848954  0.416313  ...  0.502265  0.577554  0.361502  0.561915   \n",
       "\n",
       "     ZYG11B       ZYX     ZZEF1      ZZZ3  psiTPTE22      tAKR  \n",
       "0  0.506000  0.297853  0.492457  0.159661   0.227908  0.846619  \n",
       "1  0.511341  0.313782  0.487427  0.162463   0.233809  0.845953  \n",
       "2  0.528222  0.310803  0.496740  0.165988   0.221068  0.853355  \n",
       "3  0.534841  0.338295  0.503251  0.168624   0.234407  0.869540  \n",
       "4  0.521404  0.329367  0.483798  0.171065   0.250503  0.821742  \n",
       "\n",
       "[5 rows x 21216 columns]"
      ]
     },
     "execution_count": 98,
     "metadata": {},
     "output_type": "execute_result"
    }
   ],
   "source": [
    "merged_data.head()"
   ]
  },
  {
   "cell_type": "code",
   "execution_count": 99,
   "metadata": {
    "ExecuteTime": {
     "end_time": "2024-01-02T01:03:36.401002087Z",
     "start_time": "2024-01-02T01:03:36.400659608Z"
    },
    "collapsed": false
   },
   "outputs": [],
   "source": [
    "# If both age and gender features are available, select 'age' as the condition.\n",
    "condition = 'Age'\n",
    "# Remove the other condition to prevent interference.\n",
    "merged_data = merged_data.drop(columns=['Gender'], errors='ignore').astype('float')"
   ]
  },
  {
   "cell_type": "code",
   "execution_count": 100,
   "metadata": {
    "ExecuteTime": {
     "end_time": "2024-01-02T01:03:36.403035823Z",
     "start_time": "2024-01-02T01:03:36.401081946Z"
    },
    "collapsed": false
   },
   "outputs": [],
   "source": [
    "X = merged_data.drop(columns=[TRAIT, condition]).values\n",
    "Y = merged_data[TRAIT].values\n",
    "Z = merged_data[condition].values"
   ]
  },
  {
   "cell_type": "markdown",
   "metadata": {
    "collapsed": false
   },
   "source": [
    "Select the appropriate regression model depending on whether the dataset shows batch effect."
   ]
  },
  {
   "cell_type": "code",
   "execution_count": 101,
   "metadata": {
    "ExecuteTime": {
     "end_time": "2024-01-02T01:03:36.403263628Z",
     "start_time": "2024-01-02T01:03:36.401336170Z"
    },
    "collapsed": false
   },
   "outputs": [
    {
     "data": {
      "text/plain": [
       "True"
      ]
     },
     "execution_count": 101,
     "metadata": {},
     "output_type": "execute_result"
    }
   ],
   "source": [
    "has_batch_effect = detect_batch_effect(X)\n",
    "has_batch_effect"
   ]
  },
  {
   "cell_type": "code",
   "execution_count": 102,
   "metadata": {
    "ExecuteTime": {
     "end_time": "2024-01-02T01:03:36.475053437Z",
     "start_time": "2024-01-02T01:03:36.444397231Z"
    },
    "collapsed": false
   },
   "outputs": [],
   "source": [
    "\n",
    "if has_batch_effect:\n",
    "    model_constructor1 = VariableSelection\n",
    "    model_params1 = {'modified': True, 'lamda': 3e-4}\n",
    "    model_constructor2 = VariableSelection\n",
    "    model_params2 = {'modified': False}\n",
    "else:\n",
    "    model_constructor1 = Lasso\n",
    "    model_params1 = {'alpha': 1.0, 'random_state': 42}\n",
    "    model_constructor2 = VariableSelection\n",
    "    model_params2 = {'modified': False}"
   ]
  },
  {
   "cell_type": "code",
   "execution_count": 103,
   "metadata": {
    "ExecuteTime": {
     "end_time": "2024-01-02T01:03:50.733335364Z",
     "start_time": "2024-01-02T01:03:36.444563711Z"
    },
    "collapsed": false
   },
   "outputs": [
    {
     "name": "stdout",
     "output_type": "stream",
     "text": [
      "alpha for Lasso: 0.0003\n",
      "alpha for Lasso: 0.0003\n",
      "alpha for Lasso: 0.0003\n",
      "alpha for Lasso: 0.0003\n",
      "alpha for Lasso: 0.0003\n",
      "The cross-validation accuracy is 42.22% ± 14.74%\n"
     ]
    }
   ],
   "source": [
    "trait_type = 'binary'  # Remember to set this properly, either 'binary' or 'continuous'\n",
    "cv_mean1, cv_std1 = cross_validation(X, Y, Z, model_constructor1, model_params1, target_type=trait_type)"
   ]
  },
  {
   "cell_type": "code",
   "execution_count": 104,
   "metadata": {},
   "outputs": [
    {
     "name": "stdout",
     "output_type": "stream",
     "text": [
      "The cross-validation accuracy is 55.56% ± 9.94%\n"
     ]
    }
   ],
   "source": [
    "cv_mean2, cv_std2 = cross_validation(X, Y, Z, model_constructor2, model_params2, target_type=trait_type)"
   ]
  },
  {
   "cell_type": "code",
   "execution_count": 105,
   "metadata": {
    "ExecuteTime": {
     "end_time": "2024-01-02T01:03:53.587340410Z",
     "start_time": "2024-01-02T01:03:50.732779025Z"
    },
    "collapsed": false
   },
   "outputs": [
    {
     "name": "stdout",
     "output_type": "stream",
     "text": [
      "alpha for Lasso: 0.0003\n"
     ]
    }
   ],
   "source": [
    "normalized_X, _ = normalize_data(X)\n",
    "normalized_Z, _ = normalize_data(Z)\n",
    "\n",
    "# Train regression model on the whole dataset to identify significant genes\n",
    "model1 = ResidualizationRegressor(model_constructor1, model_params1)\n",
    "model1.fit(normalized_X, Y, normalized_Z)\n",
    "\n",
    "model2 = ResidualizationRegressor(model_constructor2, model_params2)\n",
    "model2.fit(normalized_X, Y, normalized_Z)"
   ]
  },
  {
   "cell_type": "markdown",
   "metadata": {
    "ExecuteTime": {
     "end_time": "2023-10-14T04:50:59.072075075Z",
     "start_time": "2023-10-14T04:50:38.739499998Z"
    },
    "id": "EjJrxbvb4nlj"
   },
   "source": [
    "### 5. Discussion and report"
   ]
  },
  {
   "cell_type": "code",
   "execution_count": 106,
   "metadata": {
    "ExecuteTime": {
     "end_time": "2024-01-02T01:03:53.641570844Z",
     "start_time": "2024-01-02T01:03:53.627778553Z"
    },
    "collapsed": false
   },
   "outputs": [
    {
     "name": "stdout",
     "output_type": "stream",
     "text": [
      "Effect of the condition on the target variable:\n",
      "Variable: Age\n",
      "Coefficient: 0.1465\n",
      "Found 43 genes with non-zero coefficients associated with the trait 'Osteoporosis' conditional on the factor 'Age'. These genes are identified as significant based on the regression model.\n",
      "    Variable   Coefficient  Absolute Coefficient\n",
      "       HADHA -7.145167e+00          7.145167e+00\n",
      "       PVRL2  6.882765e+00          6.882765e+00\n",
      "   SERPINA10 -6.300867e+00          6.300867e+00\n",
      "       CHRND -5.137048e+00          5.137048e+00\n",
      "      ZNF695  5.076450e+00          5.076450e+00\n",
      "         DCK -4.490954e+00          4.490954e+00\n",
      "      ODF3L1 -4.434560e+00          4.434560e+00\n",
      "        MTTP -3.773658e+00          3.773658e+00\n",
      "      CENPC1 -3.764447e+00          3.764447e+00\n",
      "        PWP1 -3.616375e+00          3.616375e+00\n",
      "      NKX3-2  3.402632e+00          3.402632e+00\n",
      "     GAGE12C -3.291177e+00          3.291177e+00\n",
      "       OR2V2 -3.090469e+00          3.090469e+00\n",
      "       AADAT  3.051148e+00          3.051148e+00\n",
      "       EIF2A -3.007648e+00          3.007648e+00\n",
      "       DHRS7 -2.867124e+00          2.867124e+00\n",
      "      OR52E4  2.720133e+00          2.720133e+00\n",
      "    KIAA0141 -2.707963e+00          2.707963e+00\n",
      "       NINJ2  2.129801e+00          2.129801e+00\n",
      "        ALLC -2.007334e+00          2.007334e+00\n",
      "   LOC641746  1.788697e+00          1.788697e+00\n",
      "     UGT2B28 -1.731803e+00          1.731803e+00\n",
      "       ZMAT2 -1.531926e+00          1.531926e+00\n",
      "     SCGB1A1 -1.295309e+00          1.295309e+00\n",
      "       TAPT1  1.191415e+00          1.191415e+00\n",
      "      LRRTM4 -1.016548e+00          1.016548e+00\n",
      "   LOC644145 -1.006130e+00          1.006130e+00\n",
      "        SORD  9.371391e-01          9.371391e-01\n",
      "       OR2T3 -9.302042e-01          9.302042e-01\n",
      "     SLC14A1 -8.187470e-01          8.187470e-01\n",
      "      RSL1D1 -8.092504e-01          8.092504e-01\n",
      "        HCP5 -7.564234e-01          7.564234e-01\n",
      "LOC100132724 -7.261604e-01          7.261604e-01\n",
      "       CD101  6.372963e-01          6.372963e-01\n",
      "      ARL17B -4.945078e-01          4.945078e-01\n",
      "    C19orf57 -4.796090e-01          4.796090e-01\n",
      "      ACSM2A -3.406753e-01          3.406753e-01\n",
      "   LOC642826  1.782762e-01          1.782762e-01\n",
      "      TUBA3E -1.727928e-01          1.727928e-01\n",
      "    MIR376A1 -1.195328e-01          1.195328e-01\n",
      "     GAGE12D -6.150006e-15          6.150006e-15\n",
      "     GAGE12E -6.833340e-16          6.833340e-16\n",
      "     GAGE12G -6.833340e-16          6.833340e-16\n"
     ]
    },
    {
     "name": "stderr",
     "output_type": "stream",
     "text": [
      "/home/yxcheng/AI4Science_gold_standard/stage1/Yuxuan/../utils.py:469: SettingWithCopyWarning: \n",
      "A value is trying to be set on a copy of a slice from a DataFrame.\n",
      "Try using .loc[row_indexer,col_indexer] = value instead\n",
      "\n",
      "See the caveats in the documentation: https://pandas.pydata.org/pandas-docs/stable/user_guide/indexing.html#returning-a-view-versus-a-copy\n",
      "  gene_regression_df['Absolute Coefficient'] = gene_regression_df['Coefficient'].abs()\n"
     ]
    }
   ],
   "source": [
    "\n",
    "feature_cols = merged_data.columns.tolist()\n",
    "feature_cols.remove(TRAIT)\n",
    "\n",
    "threshold = 0.05\n",
    "interpret_result(model1, feature_cols, TRAIT, condition, threshold=threshold, save_output=True,\n",
    "                 output_dir=OUTPUT_DIR, model_id=1)"
   ]
  },
  {
   "cell_type": "code",
   "execution_count": 107,
   "metadata": {
    "collapsed": false
   },
   "outputs": [
    {
     "name": "stdout",
     "output_type": "stream",
     "text": [
      "Effect of the condition on the target variable:\n",
      "Variable: Age\n",
      "Coefficient: 0.1465\n",
      "Found 0 significant genes associated with the trait 'Osteoporosis' conditional on the factor 'Age', with corrected p-value < 0.05:\n",
      "Empty DataFrame\n",
      "Columns: [Variable, Coefficient, p_value, corrected_p_value]\n",
      "Index: []\n"
     ]
    },
    {
     "name": "stderr",
     "output_type": "stream",
     "text": [
      "/home/yxcheng/AI4Science_gold_standard/stage1/Yuxuan/../utils.py:478: SettingWithCopyWarning: \n",
      "A value is trying to be set on a copy of a slice from a DataFrame.\n",
      "Try using .loc[row_indexer,col_indexer] = value instead\n",
      "\n",
      "See the caveats in the documentation: https://pandas.pydata.org/pandas-docs/stable/user_guide/indexing.html#returning-a-view-versus-a-copy\n",
      "  gene_regression_df.loc[:, 'corrected_p_value'] = corrected_p_values\n"
     ]
    }
   ],
   "source": [
    "\n",
    "interpret_result(model2, feature_cols, TRAIT, condition, threshold=threshold, save_output=True,\n",
    "                 output_dir=OUTPUT_DIR, model_id=2)"
   ]
  }
 ],
 "metadata": {
  "colab": {
   "provenance": []
  },
  "kernelspec": {
   "display_name": "Python 3 (ipykernel)",
   "language": "python",
   "name": "python3"
  },
  "language_info": {
   "codemirror_mode": {
    "name": "ipython",
    "version": 3
   },
   "file_extension": ".py",
   "mimetype": "text/x-python",
   "name": "python",
   "nbconvert_exporter": "python",
   "pygments_lexer": "ipython3",
   "version": "3.10.13"
  }
 },
 "nbformat": 4,
 "nbformat_minor": 0
}
