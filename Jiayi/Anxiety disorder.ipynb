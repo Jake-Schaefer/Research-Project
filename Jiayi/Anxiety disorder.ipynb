{
 "cells": [
  {
   "cell_type": "markdown",
   "metadata": {
    "collapsed": false
   },
   "source": [
    "# Gold standard curation: Preprocessing and single-step regression"
   ]
  },
  {
   "cell_type": "markdown",
   "metadata": {
    "collapsed": false
   },
   "source": [
    "In this stage of gold standard curation, we will do the data preprocessing, selection, and single-step regression for the 153 traits in our question set. This file shows the reference steps using the trait \"Breast Cancer\" as an example. The workflow consists of the following steps:\n",
    "\n",
    "1. Preprocess all the cohorts related to this trait. Each cohort should be converted to a tabular form and saved to a csv file, with columns being genetic factors, the trait, and age, gender if available;\n",
    "2. If there exists at least one cohort with age or gender information, conduct regression analysis with genetic features together with age or gender as the regressors.\n"
   ]
  },
  {
   "cell_type": "markdown",
   "metadata": {
    "collapsed": false
   },
   "source": [
    "# 1. Basic setup"
   ]
  },
  {
   "cell_type": "code",
   "execution_count": 2,
   "metadata": {
    "ExecuteTime": {
     "end_time": "2024-01-10T21:37:25.927828954Z",
     "start_time": "2024-01-10T21:37:25.311064788Z"
    },
    "collapsed": false
   },
   "outputs": [],
   "source": [
    "import os\n",
    "import sys\n",
    "\n",
    "sys.path.append('..')\n",
    "from utils import *\n",
    "\n",
    "# Set your preferred name\n",
    "USER = \"Mianchen\"\n",
    "# Set the data and output directories\n",
    "DATA_ROOT = '/Users/zhangmianchen/Downloads/DATA'\n",
    "OUTPUT_ROOT = '/Users/zhangmianchen/Downloads/'\n",
    "TRAIT = 'Anxiety disorder'\n",
    "\n",
    "OUTPUT_DIR = os.path.join(OUTPUT_ROOT, USER, '-'.join(TRAIT.split()))\n",
    "JSON_PATH = os.path.join(OUTPUT_DIR, \"cohort_info.json\")\n",
    "if not os.path.exists(OUTPUT_DIR):\n",
    "    os.makedirs(OUTPUT_DIR, exist_ok=True)\n",
    "\n",
    "# Gene symbol normalization may take 1-2 minutes. You may set it to False for debugging.\n",
    "NORMALIZE_GENE = True"
   ]
  },
  {
   "cell_type": "code",
   "execution_count": null,
   "metadata": {
    "ExecuteTime": {
     "end_time": "2024-01-10T21:37:25.928143012Z",
     "start_time": "2024-01-10T21:37:25.918685567Z"
    },
    "colab": {
     "base_uri": "https://localhost:8080/"
    },
    "id": "jMTdsU43vVg3",
    "outputId": "38886111-f442-44b4-8398-96bf384d7abd"
   },
   "outputs": [],
   "source": [
    "# This cell is only for use on Google Colab. Skip it if you run your code in other environments\n",
    "\n",
    "\"\"\"import os\n",
    "from google.colab import drive\n",
    "\n",
    "drive.mount('/content/drive', force_remount=True)\n",
    "proj_dir = '/content/drive/MyDrive/AI4Science_Public'\n",
    "os.chdir(proj_dir)\"\"\""
   ]
  },
  {
   "cell_type": "markdown",
   "metadata": {
    "collapsed": false
   },
   "source": [
    "# 2. Data preprocessing and selection"
   ]
  },
  {
   "cell_type": "markdown",
   "metadata": {
    "collapsed": false
   },
   "source": [
    "## 2.1. The TCGA Xena dataset"
   ]
  },
  {
   "cell_type": "markdown",
   "metadata": {
    "collapsed": false
   },
   "source": [
    "In TCGA Xena, there is either zero or one cohort related to the trait. We search the names of subdirectories to see if any matches the trait. If a match is found, we directly obtain the file paths."
   ]
  },
  {
   "cell_type": "code",
   "execution_count": null,
   "metadata": {
    "ExecuteTime": {
     "end_time": "2024-01-10T21:37:26.554597756Z",
     "start_time": "2024-01-10T21:37:26.530982646Z"
    },
    "collapsed": false
   },
   "outputs": [],
   "source": [
    "dataset = 'TCGA'\n",
    "dataset_dir = os.path.join(DATA_ROOT, dataset)\n",
    "os.listdir(dataset_dir)[:10]"
   ]
  },
  {
   "cell_type": "markdown",
   "metadata": {
    "collapsed": false
   },
   "source": [
    "If no match is found, jump directly to GEO in Part 2.2"
   ]
  },
  {
   "cell_type": "code",
   "execution_count": null,
   "metadata": {
    "ExecuteTime": {
     "end_time": "2024-01-10T21:37:26.999521704Z",
     "start_time": "2024-01-10T21:37:26.987471072Z"
    },
    "collapsed": false
   },
   "outputs": [],
   "source": [
    "trait_subdir = \"TCGA_Adrenocortical_Cancer_(ACC)\"\n",
    "cohort = 'Xena'\n",
    "# All the cancer traits in Xena are binary\n",
    "trait_type = 'binary'\n",
    "# Once a relevant cohort is found in Xena, we can generally assume the gene and clinical data are available\n",
    "is_available = True\n",
    "\n",
    "clinical_data_file = os.path.join(dataset_dir, trait_subdir, 'TCGA.ACC.sampleMap_ACC_clinicalMatrix')\n",
    "genetic_data_file = os.path.join(dataset_dir, trait_subdir, 'TCGA.ACC.sampleMap_HiSeqV2_PANCAN.gz')"
   ]
  },
  {
   "cell_type": "code",
   "execution_count": null,
   "metadata": {
    "ExecuteTime": {
     "end_time": "2024-01-10T21:37:30.180581225Z",
     "start_time": "2024-01-10T21:37:27.217363685Z"
    },
    "id": "MudwB-_iz7sc"
   },
   "outputs": [],
   "source": [
    "import pandas as pd\n",
    "\n",
    "clinical_data = pd.read_csv(clinical_data_file, sep='\\t', index_col=0)\n",
    "genetic_data = pd.read_csv(genetic_data_file, compression='gzip', sep='\\t', index_col=0)\n",
    "age_col = gender_col = None"
   ]
  },
  {
   "cell_type": "code",
   "execution_count": null,
   "metadata": {},
   "outputs": [],
   "source": [
    "def check_rows_and_columns(dataframe, display=False):\n",
    "    \"\"\"\n",
    "    Get the lists of row names and column names of a dataset, and optionally observe them.\n",
    "    :param dataframe:\n",
    "    :param display:\n",
    "    :return:\n",
    "    \"\"\"\n",
    "    dataframe_rows = dataframe.index.tolist()\n",
    "    if display:\n",
    "        print(f\"The dataset has {len(dataframe_rows)} rows, such as {dataframe_rows[:20]}\")\n",
    "    dataframe_cols = dataframe.columns.tolist()\n",
    "    if display:\n",
    "        print(f\"\\nThe dataset has {len(dataframe_cols)} columns, such as {dataframe_cols[:20]}\")\n",
    "    return dataframe_rows, dataframe_cols"
   ]
  },
  {
   "cell_type": "code",
   "execution_count": null,
   "metadata": {
    "ExecuteTime": {
     "end_time": "2024-01-10T21:37:30.185775284Z",
     "start_time": "2024-01-10T21:37:30.181745846Z"
    },
    "collapsed": false
   },
   "outputs": [],
   "source": [
    "_, clinical_data_cols = check_rows_and_columns(clinical_data)\n",
    "clinical_data_cols[:10]"
   ]
  },
  {
   "cell_type": "markdown",
   "metadata": {
    "ExecuteTime": {
     "end_time": "2023-12-28T20:20:11.841042813Z",
     "start_time": "2023-12-28T20:20:11.834458206Z"
    },
    "collapsed": false
   },
   "source": [
    "Read all the column names in the clinical dataset, to find the columns that record information about age or gender.\n",
    "Reference prompt:"
   ]
  },
  {
   "cell_type": "code",
   "execution_count": null,
   "metadata": {
    "ExecuteTime": {
     "end_time": "2024-01-10T21:37:30.269854441Z",
     "start_time": "2024-01-10T21:37:30.184225525Z"
    },
    "collapsed": false
   },
   "outputs": [],
   "source": [
    "f'''\n",
    "Below is a list of column names from a biomedical dataset. Please examine it and identify the columns that are likely to contain information about patients' age. Additionally, please do the same for columns that may hold data on patients' gender. Please provide your answer by strictly following this format, without redundant words:\n",
    "candidate_age_cols = [col_name1, col_name2, ...]\n",
    "candidate_gender_cols = [col_name1, col_name2, ...]\n",
    "If no columns match a criterion, please provide an empty list.\n",
    "\n",
    "Column names:\n",
    "{clinical_data_cols}\n",
    "'''"
   ]
  },
  {
   "cell_type": "code",
   "execution_count": null,
   "metadata": {
    "ExecuteTime": {
     "end_time": "2024-01-10T21:37:30.270036796Z",
     "start_time": "2024-01-10T21:37:30.227180075Z"
    },
    "collapsed": false
   },
   "outputs": [],
   "source": [
    "candidate_age_cols = [ 'age_at_initial_pathologic_diagnosis',\n",
    "                      'days_to_birth', 'year_of_initial_pathologic_diagnosis']\n",
    "candidate_gender_cols = [ 'gender']"
   ]
  },
  {
   "cell_type": "markdown",
   "metadata": {
    "ExecuteTime": {
     "end_time": "2023-12-31T03:57:44.207565572Z",
     "start_time": "2023-12-31T03:57:44.202177544Z"
    },
    "collapsed": false
   },
   "source": [
    "Choose a single column from the candidate columns that record age and gender information respectively.\n",
    "If no column meets the requirement, keep 'age_col' or 'gender_col' to None"
   ]
  },
  {
   "cell_type": "code",
   "execution_count": null,
   "metadata": {},
   "outputs": [],
   "source": [
    "def preview_df(df, n=5):\n",
    "    return df.head(n).to_dict(orient='list')"
   ]
  },
  {
   "cell_type": "code",
   "execution_count": null,
   "metadata": {
    "ExecuteTime": {
     "end_time": "2024-01-10T21:37:30.270232386Z",
     "start_time": "2024-01-10T21:37:30.227282564Z"
    },
    "collapsed": false
   },
   "outputs": [],
   "source": [
    "preview_df(clinical_data[candidate_age_cols])"
   ]
  },
  {
   "cell_type": "code",
   "execution_count": null,
   "metadata": {
    "ExecuteTime": {
     "end_time": "2024-01-10T21:37:30.270339062Z",
     "start_time": "2024-01-10T21:37:30.227412883Z"
    },
    "collapsed": false
   },
   "outputs": [],
   "source": [
    "age_col = 'age_at_initial_pathologic_diagnosis'"
   ]
  },
  {
   "cell_type": "code",
   "execution_count": null,
   "metadata": {
    "ExecuteTime": {
     "end_time": "2024-01-10T21:37:30.270520195Z",
     "start_time": "2024-01-10T21:37:30.227467704Z"
    },
    "collapsed": false
   },
   "outputs": [],
   "source": [
    "preview_df(clinical_data[candidate_gender_cols])"
   ]
  },
  {
   "cell_type": "code",
   "execution_count": null,
   "metadata": {
    "ExecuteTime": {
     "end_time": "2024-01-10T21:37:30.270626721Z",
     "start_time": "2024-01-10T21:37:30.227530279Z"
    },
    "collapsed": false
   },
   "outputs": [],
   "source": [
    "gender_col = 'gender'"
   ]
  },
  {
   "cell_type": "code",
   "execution_count": null,
   "metadata": {},
   "outputs": [],
   "source": [
    "def xena_select_clinical_features(clinical_df, trait, age_col=None, gender_col=None):\n",
    "    feature_list = []\n",
    "    trait_data = clinical_df.index.to_series().apply(xena_convert_trait).rename(trait)\n",
    "    feature_list.append(trait_data)\n",
    "    if age_col:\n",
    "        age_data = clinical_df[age_col].apply(xena_convert_age).rename(\"Age\")\n",
    "        feature_list.append(age_data)\n",
    "    if gender_col:\n",
    "        gender_data = clinical_df[gender_col].apply(xena_convert_gender).rename(\"Gender\")\n",
    "        feature_list.append(gender_data)\n",
    "    selected_clinical_df = pd.concat(feature_list, axis=1)\n",
    "    return selected_clinical_df"
   ]
  },
  {
   "cell_type": "code",
   "execution_count": null,
   "metadata": {},
   "outputs": [],
   "source": [
    "def xena_convert_trait(row_index: str):\n",
    "    \"\"\"\n",
    "    Convert the trait information from Sample IDs to labels depending on the last two digits.\n",
    "    Tumor types range from 01 - 09, normal types from 10 - 19.\n",
    "    :param row_index: the index value of a row\n",
    "    :return: the converted value\n",
    "    \"\"\"\n",
    "    last_two_digits = int(row_index[-2:])\n",
    "\n",
    "    if 1 <= last_two_digits <= 9:\n",
    "        return 1\n",
    "    elif 10 <= last_two_digits <= 19:\n",
    "        return 0\n",
    "    else:\n",
    "        return -1"
   ]
  },
  {
   "cell_type": "code",
   "execution_count": null,
   "metadata": {},
   "outputs": [],
   "source": [
    "def xena_convert_age(cell: str):\n",
    "    \"\"\"Convert the cell content about age to a numerical value using regular expression\n",
    "    \"\"\"\n",
    "    match = re.search(r'\\d+', str(cell))\n",
    "    if match:\n",
    "        return int(match.group())\n",
    "    else:\n",
    "        return None"
   ]
  },
  {
   "cell_type": "code",
   "execution_count": null,
   "metadata": {},
   "outputs": [],
   "source": [
    "def xena_convert_gender(cell: str):\n",
    "    \"\"\"Convert the cell content about gender to a binary value\n",
    "    \"\"\"\n",
    "    if isinstance(cell, str):\n",
    "        cell = cell.lower()\n",
    "\n",
    "    if cell == \"female\":\n",
    "        return 0\n",
    "    elif cell == \"male\":\n",
    "        return 1\n",
    "    else:\n",
    "        return None"
   ]
  },
  {
   "cell_type": "code",
   "execution_count": null,
   "metadata": {
    "ExecuteTime": {
     "end_time": "2024-01-10T21:37:30.270719762Z",
     "start_time": "2024-01-10T21:37:30.227585330Z"
    },
    "collapsed": false
   },
   "outputs": [],
   "source": [
    "import re\n",
    "selected_clinical_data = xena_select_clinical_features(clinical_data, TRAIT, age_col=age_col, gender_col=gender_col)"
   ]
  },
  {
   "cell_type": "code",
   "execution_count": null,
   "metadata": {},
   "outputs": [],
   "source": [
    "def normalize_gene_symbols_in_index(gene_df):\n",
    "    \"\"\"Normalize the human gene symbols at the index of a dataframe, and replace the index with its normalized version.\n",
    "    Remove the rows where the index failed to be normalized.\"\"\"\n",
    "    normalized_gene_list = normalize_gene_symbols(gene_df.index.tolist())\n",
    "    assert len(normalized_gene_list) == len(gene_df.index)\n",
    "    gene_df.index = normalized_gene_list\n",
    "    gene_df = gene_df[gene_df.index.notnull()]\n",
    "    return gene_df"
   ]
  },
  {
   "cell_type": "code",
   "execution_count": null,
   "metadata": {},
   "outputs": [],
   "source": [
    "def normalize_gene_symbols(gene_symbols, batch_size=1000):\n",
    "    \"\"\"Normalize human gene symbols in batches using the 'mygenes' library\"\"\"\n",
    "    mg = mygene.MyGeneInfo()\n",
    "    normalized_genes = {}\n",
    "\n",
    "    # Process in batches\n",
    "    for i in range(0, len(gene_symbols), batch_size):\n",
    "        batch = gene_symbols[i:i + batch_size]\n",
    "        results = mg.querymany(batch, scopes='symbol', fields='symbol', species='human')\n",
    "\n",
    "        # Update the normalized_genes dictionary with results from this batch\n",
    "        for gene in results:\n",
    "            normalized_genes[gene['query']] = gene.get('symbol', None)\n",
    "\n",
    "    # Return the normalized symbols in the same order as the input\n",
    "    return [normalized_genes.get(symbol) for symbol in gene_symbols]\n"
   ]
  },
  {
   "cell_type": "code",
   "execution_count": null,
   "metadata": {
    "ExecuteTime": {
     "end_time": "2024-01-10T21:38:18.001977877Z",
     "start_time": "2024-01-10T21:37:30.227635342Z"
    },
    "collapsed": false
   },
   "outputs": [],
   "source": [
    "import mygene\n",
    "\n",
    "if NORMALIZE_GENE:\n",
    "    genetic_data = normalize_gene_symbols_in_index(genetic_data)"
   ]
  },
  {
   "cell_type": "code",
   "execution_count": null,
   "metadata": {
    "ExecuteTime": {
     "end_time": "2024-01-10T21:38:18.108889749Z",
     "start_time": "2024-01-10T21:38:18.021199718Z"
    },
    "collapsed": false
   },
   "outputs": [],
   "source": [
    "merged_data = selected_clinical_data.join(genetic_data.T).dropna()\n",
    "merged_data.head()"
   ]
  },
  {
   "cell_type": "code",
   "execution_count": null,
   "metadata": {},
   "outputs": [],
   "source": [
    "def judge_and_remove_biased_features(df, trait, trait_type):\n",
    "    assert trait_type in [\"binary\", \"continuous\"], f\"The trait must be either a binary or a continuous variable!\"\n",
    "    if trait_type == \"binary\":\n",
    "        trait_biased = judge_binary_variable_biased(df, trait)\n",
    "    else:\n",
    "        trait_biased = judge_continuous_variable_biased(df, trait)\n",
    "    if trait_biased:\n",
    "        print(f\"The distribution of the feature \\'{trait}\\' in this dataset is severely biased.\\n\")\n",
    "    else:\n",
    "        print(f\"The distribution of the feature \\'{trait}\\' in this dataset is fine.\\n\")\n",
    "    if \"Age\" in df.columns:\n",
    "        age_biased = judge_continuous_variable_biased(df, 'Age')\n",
    "        if age_biased:\n",
    "            print(f\"The distribution of the feature \\'Age\\' in this dataset is severely biased.\\n\")\n",
    "            df = df.drop(columns='Age')\n",
    "        else:\n",
    "            print(f\"The distribution of the feature \\'Age\\' in this dataset is fine.\\n\")\n",
    "    if \"Gender\" in df.columns:\n",
    "        gender_biased = judge_binary_variable_biased(df, 'Gender')\n",
    "        if gender_biased:\n",
    "            print(f\"The distribution of the feature \\'Gender\\' in this dataset is severely biased.\\n\")\n",
    "            df = df.drop(columns='Gender')\n",
    "        else:\n",
    "            print(f\"The distribution of the feature \\'Gender\\' in this dataset is fine.\\n\")\n",
    "\n",
    "    return trait_biased, df"
   ]
  },
  {
   "cell_type": "code",
   "execution_count": null,
   "metadata": {},
   "outputs": [],
   "source": [
    "def judge_binary_variable_biased(dataframe, col_name, min_proportion=0.1, min_num=5):\n",
    "    \"\"\"\n",
    "    Check if the distribution of a binary variable in the dataset is too biased to be usable for analysis\n",
    "    :param dataframe:\n",
    "    :param col_name:\n",
    "    :param min_proportion:\n",
    "    :param min_num:\n",
    "    :return:\n",
    "    \"\"\"\n",
    "    label_counter = dataframe[col_name].value_counts()\n",
    "    total_samples = len(dataframe)\n",
    "    rare_label_num = label_counter.min()\n",
    "    rare_label = label_counter.idxmin()\n",
    "    rare_label_proportion = rare_label_num / total_samples\n",
    "\n",
    "    print(\n",
    "        f\"For the feature \\'{col_name}\\', the least common label is '{rare_label}' with {rare_label_num} occurrences. This represents {rare_label_proportion:.2%} of the dataset.\")\n",
    "\n",
    "    biased = (len(label_counter) < 2) or ((rare_label_proportion < min_proportion) and (rare_label_num < min_num))\n",
    "    return bool(biased)\n"
   ]
  },
  {
   "cell_type": "code",
   "execution_count": null,
   "metadata": {},
   "outputs": [],
   "source": [
    "def judge_continuous_variable_biased(dataframe, col_name):\n",
    "    \"\"\"Check if the distribution of a continuous variable in the dataset is too biased to be usable for analysis.\n",
    "    As a starting point, we consider it biased if all values are the same. For the next step, maybe ask GPT to judge\n",
    "    based on quartile statistics combined with its common sense knowledge about this feature.\n",
    "    \"\"\"\n",
    "    quartiles = dataframe[col_name].quantile([0.25, 0.5, 0.75])\n",
    "    min_value = dataframe[col_name].min()\n",
    "    max_value = dataframe[col_name].max()\n",
    "\n",
    "    # Printing quartile information\n",
    "    print(f\"Quartiles for '{col_name}':\")\n",
    "    print(f\"  25%: {quartiles[0.25]}\")\n",
    "    print(f\"  50% (Median): {quartiles[0.5]}\")\n",
    "    print(f\"  75%: {quartiles[0.75]}\")\n",
    "    print(f\"Min: {min_value}\")\n",
    "    print(f\"Max: {max_value}\")\n",
    "\n",
    "    biased = min_value == max_value\n",
    "\n",
    "    return bool(biased)"
   ]
  },
  {
   "cell_type": "code",
   "execution_count": null,
   "metadata": {
    "ExecuteTime": {
     "end_time": "2024-01-10T21:38:18.112793384Z",
     "start_time": "2024-01-10T21:38:18.107415526Z"
    },
    "collapsed": false
   },
   "outputs": [],
   "source": [
    "print(f\"The merged dataset contains {len(merged_data)} samples.\")\n",
    "is_trait_biased, merge_data = judge_and_remove_biased_features(merged_data, TRAIT, trait_type=trait_type)\n",
    "is_trait_biased"
   ]
  },
  {
   "cell_type": "code",
   "execution_count": null,
   "metadata": {
    "ExecuteTime": {
     "end_time": "2024-01-10T21:38:31.377898533Z",
     "start_time": "2024-01-10T21:38:18.111417452Z"
    },
    "collapsed": false
   },
   "outputs": [],
   "source": [
    "merged_data.head()\n",
    "if not is_trait_biased:\n",
    "    merge_data.to_csv(os.path.join(OUTPUT_DIR, cohort + '.csv'), index=False)"
   ]
  },
  {
   "cell_type": "code",
   "execution_count": null,
   "metadata": {},
   "outputs": [],
   "source": [
    "from typing import Callable, Optional, List, Tuple, Union, Any"
   ]
  },
  {
   "cell_type": "code",
   "execution_count": null,
   "metadata": {},
   "outputs": [],
   "source": [
    "def save_cohort_info(cohort: str, info_path: str, is_available: bool, is_biased: Optional[bool] = None,\n",
    "                     df: Optional[pd.DataFrame] = None, note: str = '') -> None:\n",
    "    \"\"\"\n",
    "    Add or update information about the usability and quality of a dataset for statistical analysis.\n",
    "\n",
    "    Parameters:\n",
    "    cohort (str): A unique identifier for the dataset.\n",
    "    info_path (str): File path to the JSON file where records are stored.\n",
    "    is_available (bool): Indicates whether both the genetic data and trait data are available in the dataset, and can be\n",
    "     preprocessed into a dataframe.\n",
    "    is_biased (bool, optional): Indicates whether the dataset is too biased to be usable.\n",
    "        Required if `is_available` is True.\n",
    "    df (pandas.DataFrame, optional): The preprocessed dataset. Required if `is_available` is True.\n",
    "    note (str, optional): Additional notes about the dataset.\n",
    "\n",
    "    Returns:\n",
    "    None: The function does not return a value but updates or creates a record in the specified JSON file.\n",
    "    \"\"\"\n",
    "    if is_available:\n",
    "        assert (df is not None) and (is_biased is not None), \"'df' and 'is_biased' should be provided if this cohort \" \\\n",
    "                                                             \"is relevant.\"\n",
    "    is_usable = is_available and (not is_biased)\n",
    "    new_record = {\"is_usable\": is_usable,\n",
    "                  \"is_available\": is_available,\n",
    "                  \"is_biased\": is_biased if is_available else None,\n",
    "                  \"has_age\": \"Age\" in df.columns if is_available else None,\n",
    "                  \"has_gender\": \"Gender\" in df.columns if is_available else None,\n",
    "                  \"sample_size\": len(df) if is_available else None,\n",
    "                  \"note\": note}\n",
    "    \n",
    "    if not os.path.exists(info_path):\n",
    "        with open(info_path, 'w') as file:\n",
    "            json.dump({}, file)\n",
    "        print(f\"A new JSON file was created at: {info_path}\")\n",
    "\n",
    "    with open(info_path, \"r\") as file:\n",
    "        records = json.load(file)\n",
    "    records[cohort] = new_record\n",
    "\n",
    "    temp_path = info_path + \".tmp\"\n",
    "    try:\n",
    "        with open(temp_path, 'w') as file:\n",
    "            json.dump(records, file)\n",
    "        os.replace(temp_path, info_path)\n",
    "\n",
    "    except Exception as e:\n",
    "        print(f\"An error occurred: {e}\")\n",
    "        if os.path.exists(temp_path):\n",
    "            os.remove(temp_path)\n",
    "        raise"
   ]
  },
  {
   "cell_type": "code",
   "execution_count": null,
   "metadata": {
    "ExecuteTime": {
     "end_time": "2024-01-10T21:38:31.425336629Z",
     "start_time": "2024-01-10T21:38:31.419043732Z"
    },
    "collapsed": false
   },
   "outputs": [],
   "source": [
    "import json\n",
    "\n",
    "save_cohort_info(cohort, JSON_PATH, is_available, is_trait_biased, merged_data)"
   ]
  },
  {
   "cell_type": "markdown",
   "metadata": {
    "ExecuteTime": {
     "end_time": "2023-12-28T21:28:38.028916303Z",
     "start_time": "2023-12-28T21:28:38.016245426Z"
    },
    "collapsed": false
   },
   "source": [
    "## 2.2. The GEO dataset"
   ]
  },
  {
   "cell_type": "markdown",
   "metadata": {
    "ExecuteTime": {
     "end_time": "2023-12-31T03:25:23.253882615Z",
     "start_time": "2023-12-31T03:25:23.244062710Z"
    },
    "collapsed": false
   },
   "source": [
    "In GEO, there may be one or multiple cohorts for a trait. Each cohort is identified by an accession number. We iterate over all accession numbers in the corresponding subdirectory, preprocess the cohort data, and save them to csv files."
   ]
  },
  {
   "cell_type": "code",
   "execution_count": 3,
   "metadata": {
    "ExecuteTime": {
     "end_time": "2024-01-10T21:38:31.425592571Z",
     "start_time": "2024-01-10T21:38:31.419137625Z"
    },
    "collapsed": false
   },
   "outputs": [
    {
     "data": {
      "text/plain": [
       "['GSE60190',\n",
       " 'GSE78104',\n",
       " 'GSE94119',\n",
       " 'GSE68526',\n",
       " 'GSE98793',\n",
       " 'GSE61672',\n",
       " 'GSE119995',\n",
       " 'GSE18123',\n",
       " 'GSE60491']"
      ]
     },
     "execution_count": 3,
     "metadata": {},
     "output_type": "execute_result"
    }
   ],
   "source": [
    "dataset = 'GEO'\n",
    "trait_subdir = \"Anxiety-disorder\"\n",
    "\n",
    "trait_path = os.path.join(DATA_ROOT, dataset, trait_subdir)\n",
    "os.listdir(trait_path)"
   ]
  },
  {
   "cell_type": "markdown",
   "metadata": {
    "ExecuteTime": {
     "end_time": "2023-12-31T03:39:42.634870142Z",
     "start_time": "2023-12-31T03:39:42.534093295Z"
    },
    "collapsed": false
   },
   "source": [
    "Repeat the below steps for all the accession numbers"
   ]
  },
  {
   "cell_type": "code",
   "execution_count": 4,
   "metadata": {},
   "outputs": [],
   "source": [
    "def get_relevant_filepaths(cohort_dir):\n",
    "    \"\"\"Find the file paths of a SOFT file and a matrix file from the given data directory of a cohort.\n",
    "    If there are multiple SOFT files or matrix files, simply choose the first one. May be replaced by better\n",
    "    strategies later.\n",
    "    \"\"\"\n",
    "    files = os.listdir(cohort_dir)\n",
    "    soft_files = [f for f in files if 'soft' in f.lower()]\n",
    "    matrix_files = [f for f in files if 'matrix' in f.lower()]\n",
    "    assert len(soft_files) > 0 and len(matrix_files) > 0\n",
    "    soft_file_path = os.path.join(cohort_dir, soft_files[0])\n",
    "    matrix_file_path = os.path.join(cohort_dir, matrix_files[0])\n",
    "\n",
    "    return soft_file_path, matrix_file_path"
   ]
  },
  {
   "cell_type": "code",
   "execution_count": 5,
   "metadata": {
    "ExecuteTime": {
     "end_time": "2024-01-10T21:39:02.935079426Z",
     "start_time": "2024-01-10T21:39:02.923698385Z"
    },
    "collapsed": false
   },
   "outputs": [
    {
     "data": {
      "text/plain": [
       "('/Users/zhangmianchen/Downloads/DATA/GEO/Anxiety-disorder/GSE60190/GSE60190_family.soft.gz',\n",
       " '/Users/zhangmianchen/Downloads/DATA/GEO/Anxiety-disorder/GSE60190/GSE60190_series_matrix.txt.gz')"
      ]
     },
     "execution_count": 5,
     "metadata": {},
     "output_type": "execute_result"
    }
   ],
   "source": [
    "cohort = accession_num = \"GSE60190\"\n",
    "cohort_dir = os.path.join(trait_path, accession_num)\n",
    "soft_file, matrix_file = get_relevant_filepaths(cohort_dir)\n",
    "soft_file, matrix_file"
   ]
  },
  {
   "cell_type": "code",
   "execution_count": 6,
   "metadata": {},
   "outputs": [
    {
     "data": {
      "text/plain": [
       "('/Users/zhangmianchen/Downloads/DATA/GEO/Anxiety-disorder/GSE78104/GSE78104_family.soft.gz',\n",
       " '/Users/zhangmianchen/Downloads/DATA/GEO/Anxiety-disorder/GSE78104/GSE78104_series_matrix.txt.gz')"
      ]
     },
     "execution_count": 6,
     "metadata": {},
     "output_type": "execute_result"
    }
   ],
   "source": [
    "cohort = accession_num = \"GSE78104\"\n",
    "cohort_dir = os.path.join(trait_path, accession_num)\n",
    "soft_file, matrix_file = get_relevant_filepaths(cohort_dir)\n",
    "soft_file, matrix_file"
   ]
  },
  {
   "cell_type": "code",
   "execution_count": 7,
   "metadata": {},
   "outputs": [
    {
     "data": {
      "text/plain": [
       "('/Users/zhangmianchen/Downloads/DATA/GEO/Anxiety-disorder/GSE94119/GSE94119_family.soft.gz',\n",
       " '/Users/zhangmianchen/Downloads/DATA/GEO/Anxiety-disorder/GSE94119/GSE94119_series_matrix.txt.gz')"
      ]
     },
     "execution_count": 7,
     "metadata": {},
     "output_type": "execute_result"
    }
   ],
   "source": [
    "cohort = accession_num = \"GSE94119\"\n",
    "cohort_dir = os.path.join(trait_path, accession_num)\n",
    "soft_file, matrix_file = get_relevant_filepaths(cohort_dir)\n",
    "soft_file, matrix_file"
   ]
  },
  {
   "cell_type": "code",
   "execution_count": 8,
   "metadata": {},
   "outputs": [
    {
     "data": {
      "text/plain": [
       "('/Users/zhangmianchen/Downloads/DATA/GEO/Anxiety-disorder/GSE68526/GSE68526_family.soft.gz',\n",
       " '/Users/zhangmianchen/Downloads/DATA/GEO/Anxiety-disorder/GSE68526/GSE68526_series_matrix.txt.gz')"
      ]
     },
     "execution_count": 8,
     "metadata": {},
     "output_type": "execute_result"
    }
   ],
   "source": [
    "cohort = accession_num = \"GSE68526\"\n",
    "cohort_dir = os.path.join(trait_path, accession_num)\n",
    "soft_file, matrix_file = get_relevant_filepaths(cohort_dir)\n",
    "soft_file, matrix_file"
   ]
  },
  {
   "cell_type": "code",
   "execution_count": 9,
   "metadata": {},
   "outputs": [
    {
     "data": {
      "text/plain": [
       "('/Users/zhangmianchen/Downloads/DATA/GEO/Anxiety-disorder/GSE98793/GSE98793_family.soft.gz',\n",
       " '/Users/zhangmianchen/Downloads/DATA/GEO/Anxiety-disorder/GSE98793/GSE98793_series_matrix.txt.gz')"
      ]
     },
     "execution_count": 9,
     "metadata": {},
     "output_type": "execute_result"
    }
   ],
   "source": [
    "cohort = accession_num = \"GSE98793\"\n",
    "cohort_dir = os.path.join(trait_path, accession_num)\n",
    "soft_file, matrix_file = get_relevant_filepaths(cohort_dir)\n",
    "soft_file, matrix_file"
   ]
  },
  {
   "cell_type": "code",
   "execution_count": 10,
   "metadata": {},
   "outputs": [
    {
     "data": {
      "text/plain": [
       "('/Users/zhangmianchen/Downloads/DATA/GEO/Anxiety-disorder/GSE61672/GSE61672_family.soft.gz',\n",
       " '/Users/zhangmianchen/Downloads/DATA/GEO/Anxiety-disorder/GSE61672/GSE61672_series_matrix.txt.gz')"
      ]
     },
     "execution_count": 10,
     "metadata": {},
     "output_type": "execute_result"
    }
   ],
   "source": [
    "cohort = accession_num = \"GSE61672\"\n",
    "cohort_dir = os.path.join(trait_path, accession_num)\n",
    "soft_file, matrix_file = get_relevant_filepaths(cohort_dir)\n",
    "soft_file, matrix_file"
   ]
  },
  {
   "cell_type": "code",
   "execution_count": 11,
   "metadata": {},
   "outputs": [
    {
     "data": {
      "text/plain": [
       "('/Users/zhangmianchen/Downloads/DATA/GEO/Anxiety-disorder/GSE119995/GSE119995_family.soft.gz',\n",
       " '/Users/zhangmianchen/Downloads/DATA/GEO/Anxiety-disorder/GSE119995/GSE119995_series_matrix.txt.gz')"
      ]
     },
     "execution_count": 11,
     "metadata": {},
     "output_type": "execute_result"
    }
   ],
   "source": [
    "cohort = accession_num = \"GSE119995\"\n",
    "cohort_dir = os.path.join(trait_path, accession_num)\n",
    "soft_file, matrix_file = get_relevant_filepaths(cohort_dir)\n",
    "soft_file, matrix_file"
   ]
  },
  {
   "cell_type": "code",
   "execution_count": 12,
   "metadata": {},
   "outputs": [
    {
     "data": {
      "text/plain": [
       "('/Users/zhangmianchen/Downloads/DATA/GEO/Anxiety-disorder/GSE18123/GSE18123_family.soft.gz',\n",
       " '/Users/zhangmianchen/Downloads/DATA/GEO/Anxiety-disorder/GSE18123/GSE18123-GPL6244_series_matrix.txt.gz')"
      ]
     },
     "execution_count": 12,
     "metadata": {},
     "output_type": "execute_result"
    }
   ],
   "source": [
    "cohort = accession_num = \"GSE18123\"\n",
    "cohort_dir = os.path.join(trait_path, accession_num)\n",
    "soft_file, matrix_file = get_relevant_filepaths(cohort_dir)\n",
    "soft_file, matrix_file"
   ]
  },
  {
   "cell_type": "code",
   "execution_count": 13,
   "metadata": {},
   "outputs": [
    {
     "data": {
      "text/plain": [
       "('/Users/zhangmianchen/Downloads/DATA/GEO/Anxiety-disorder/GSE60491/GSE60491_family.soft.gz',\n",
       " '/Users/zhangmianchen/Downloads/DATA/GEO/Anxiety-disorder/GSE60491/GSE60491_series_matrix.txt.gz')"
      ]
     },
     "execution_count": 13,
     "metadata": {},
     "output_type": "execute_result"
    }
   ],
   "source": [
    "cohort = accession_num = \"GSE60491\"\n",
    "cohort_dir = os.path.join(trait_path, accession_num)\n",
    "soft_file, matrix_file = get_relevant_filepaths(cohort_dir)\n",
    "soft_file, matrix_file"
   ]
  },
  {
   "cell_type": "markdown",
   "metadata": {
    "collapsed": false
   },
   "source": [
    "### Initial filtering and clinical data preprocessing"
   ]
  },
  {
   "cell_type": "code",
   "execution_count": 14,
   "metadata": {},
   "outputs": [],
   "source": [
    "import gzip"
   ]
  },
  {
   "cell_type": "code",
   "execution_count": 15,
   "metadata": {},
   "outputs": [],
   "source": [
    "def line_generator(source, source_type):\n",
    "    \"\"\"Generator that yields lines from a file or a string.\n",
    "\n",
    "    Parameters:\n",
    "    - source: File path or string content.\n",
    "    - source_type: 'file' or 'string'.\n",
    "    \"\"\"\n",
    "    if source_type == 'file':\n",
    "        with gzip.open(source, 'rt') as f:\n",
    "            for line in f:\n",
    "                yield line.strip()\n",
    "    elif source_type == 'string':\n",
    "        for line in source.split('\\n'):\n",
    "            yield line.strip()\n",
    "    else:\n",
    "        raise ValueError(\"source_type must be 'file' or 'string'\")"
   ]
  },
  {
   "cell_type": "code",
   "execution_count": 16,
   "metadata": {},
   "outputs": [],
   "source": [
    "from typing import Callable, Optional, List, Tuple, Union, Any\n",
    "import pandas as pd"
   ]
  },
  {
   "cell_type": "code",
   "execution_count": 17,
   "metadata": {},
   "outputs": [],
   "source": [
    "def filter_content_by_prefix(\n",
    "    source: str,\n",
    "    prefixes_a: List[str],\n",
    "    prefixes_b: Optional[List[str]] = None,\n",
    "    unselect: bool = False,\n",
    "    source_type: str = 'file',\n",
    "    return_df_a: bool = True,\n",
    "    return_df_b: bool = True\n",
    ") -> Tuple[Union[str, pd.DataFrame], Optional[Union[str, pd.DataFrame]]]:\n",
    "    \"\"\"\n",
    "    Filters rows from a file or a list of strings based on specified prefixes.\n",
    "\n",
    "    Parameters:\n",
    "    - source (str): File path or string content to filter.\n",
    "    - prefixes_a (List[str]): Primary list of prefixes to filter by.\n",
    "    - prefixes_b (Optional[List[str]]): Optional secondary list of prefixes to filter by.\n",
    "    - unselect (bool): If True, selects rows that do not start with the specified prefixes.\n",
    "    - source_type (str): 'file' if source is a file path, 'string' if source is a string of text.\n",
    "    - return_df_a (bool): If True, returns filtered content for prefixes_a as a pandas DataFrame.\n",
    "    - return_df_b (bool): If True, and if prefixes_b is provided, returns filtered content for prefixes_b as a pandas DataFrame.\n",
    "\n",
    "    Returns:\n",
    "    - Tuple: A tuple where the first element is the filtered content for prefixes_a, and the second element is the filtered content for prefixes_b.\n",
    "    \"\"\"\n",
    "    filtered_lines_a = []\n",
    "    filtered_lines_b = []\n",
    "    prefix_set_a = set(prefixes_a)\n",
    "    if prefixes_b is not None:\n",
    "        prefix_set_b = set(prefixes_b)\n",
    "\n",
    "    # Use generator to get lines\n",
    "    for line in line_generator(source, source_type):\n",
    "        matched_a = any(line.startswith(prefix) for prefix in prefix_set_a)\n",
    "        if matched_a != unselect:\n",
    "            filtered_lines_a.append(line)\n",
    "        if prefixes_b is not None:\n",
    "            matched_b = any(line.startswith(prefix) for prefix in prefix_set_b)\n",
    "            if matched_b != unselect:\n",
    "                filtered_lines_b.append(line)\n",
    "\n",
    "    filtered_content_a = '\\n'.join(filtered_lines_a)\n",
    "    if return_df_a:\n",
    "        filtered_content_a = pd.read_csv(io.StringIO(filtered_content_a), delimiter='\\t', low_memory=False, on_bad_lines='skip')\n",
    "    filtered_content_b = None\n",
    "    if filtered_lines_b:\n",
    "        filtered_content_b = '\\n'.join(filtered_lines_b)\n",
    "        if return_df_b:\n",
    "            filtered_content_b = pd.read_csv(io.StringIO(filtered_content_b), delimiter='\\t', low_memory=False, on_bad_lines='skip')\n",
    "\n",
    "    return filtered_content_a, filtered_content_b\n",
    "\n"
   ]
  },
  {
   "cell_type": "code",
   "execution_count": 18,
   "metadata": {},
   "outputs": [],
   "source": [
    "def get_background_and_clinical_data(file_path,\n",
    "                                     prefixes_a=['!Series_title', '!Series_summary', '!Series_overall_design'],\n",
    "                                     prefixes_b=['!Sample_geo_accession', '!Sample_characteristics_ch1']):\n",
    "    \"\"\"Extract from a matrix file the background information about the dataset, and sample characteristics data\"\"\"\n",
    "    background_info, clinical_data = filter_content_by_prefix(file_path, prefixes_a, prefixes_b, unselect=False,\n",
    "                                                              source_type='file',\n",
    "                                                              return_df_a=False, return_df_b=True)\n",
    "    return background_info, clinical_data"
   ]
  },
  {
   "cell_type": "code",
   "execution_count": 19,
   "metadata": {
    "ExecuteTime": {
     "end_time": "2024-01-10T21:39:03.718770427Z",
     "start_time": "2024-01-10T21:39:03.677006442Z"
    },
    "collapsed": false
   },
   "outputs": [
    {
     "name": "stdout",
     "output_type": "stream",
     "text": [
      "!Series_title\t\"Leukocyte gene expression variation as a function of Big 5 dimensions of human personality\"\n",
      "!Series_summary\t\"Individual differences in basal leukocyte gene expression profiles as a function of Big 5 personality dimensions\"\n",
      "!Series_overall_design\t\"Gene expression profiling was carried out on peripheral blood mononuclear cell RNA samples collected from 119 healthy adults measured for the 5 major dimensions of human personality (Neuroticism, Extraversion, Openness, Agreeableness, Conscientiousness) using the NEO-FFI 60-item personality inventory.  Personality measures are z-score standardized.  Analyses control for major demographic characteristics (age, sex, Caucasian vs Non-Caucasian race) as well as Body Mass Index (BMI), smoking (CigDay), alcohol consumption (AlcDay), and physical activity (ExerDay, hours per day).  Additional secondary analyses controlled for the presence of minor physical symptoms (MinorSymptom, e.g.,hayfever, headache), medication use (BirthControl, Antidepressant, OtherMedication), and negative affective states (NegativeAffect, standardized values of PANAS Negative Affect scale).\"\n",
      "!Series_overall_design\t\"\"\n",
      "!Series_overall_design\t\"Experiment type: Risk prediction\"\n"
     ]
    }
   ],
   "source": [
    "import io\n",
    "background_prefixes = ['!Series_title', '!Series_summary', '!Series_overall_design']\n",
    "clinical_prefixes = ['!Sample_geo_accession', '!Sample_characteristics_ch1']\n",
    "\n",
    "background_info, clinical_data = get_background_and_clinical_data(matrix_file, background_prefixes, clinical_prefixes)\n",
    "print(background_info)"
   ]
  },
  {
   "cell_type": "code",
   "execution_count": 20,
   "metadata": {
    "ExecuteTime": {
     "end_time": "2024-01-10T21:39:04.022548957Z",
     "start_time": "2024-01-10T21:39:04.008519515Z"
    },
    "collapsed": false
   },
   "outputs": [
    {
     "data": {
      "text/html": [
       "<div>\n",
       "<style scoped>\n",
       "    .dataframe tbody tr th:only-of-type {\n",
       "        vertical-align: middle;\n",
       "    }\n",
       "\n",
       "    .dataframe tbody tr th {\n",
       "        vertical-align: top;\n",
       "    }\n",
       "\n",
       "    .dataframe thead th {\n",
       "        text-align: right;\n",
       "    }\n",
       "</style>\n",
       "<table border=\"1\" class=\"dataframe\">\n",
       "  <thead>\n",
       "    <tr style=\"text-align: right;\">\n",
       "      <th></th>\n",
       "      <th>!Sample_geo_accession</th>\n",
       "      <th>GSM1481100</th>\n",
       "      <th>GSM1481101</th>\n",
       "      <th>GSM1481102</th>\n",
       "      <th>GSM1481103</th>\n",
       "      <th>GSM1481104</th>\n",
       "      <th>GSM1481105</th>\n",
       "      <th>GSM1481106</th>\n",
       "      <th>GSM1481107</th>\n",
       "      <th>GSM1481108</th>\n",
       "      <th>...</th>\n",
       "      <th>GSM1481209</th>\n",
       "      <th>GSM1481210</th>\n",
       "      <th>GSM1481211</th>\n",
       "      <th>GSM1481212</th>\n",
       "      <th>GSM1481213</th>\n",
       "      <th>GSM1481214</th>\n",
       "      <th>GSM1481215</th>\n",
       "      <th>GSM1481216</th>\n",
       "      <th>GSM1481217</th>\n",
       "      <th>GSM1481218</th>\n",
       "    </tr>\n",
       "  </thead>\n",
       "  <tbody>\n",
       "    <tr>\n",
       "      <th>0</th>\n",
       "      <td>!Sample_characteristics_ch1</td>\n",
       "      <td>age: 21</td>\n",
       "      <td>age: 22</td>\n",
       "      <td>age: 21</td>\n",
       "      <td>age: 21</td>\n",
       "      <td>age: 22</td>\n",
       "      <td>age: 23</td>\n",
       "      <td>age: 23</td>\n",
       "      <td>age: 23</td>\n",
       "      <td>age: 23</td>\n",
       "      <td>...</td>\n",
       "      <td>age: 24</td>\n",
       "      <td>age: 20</td>\n",
       "      <td>age: 26</td>\n",
       "      <td>age: 22</td>\n",
       "      <td>age: 32</td>\n",
       "      <td>age: 27</td>\n",
       "      <td>age: 22</td>\n",
       "      <td>age: 26</td>\n",
       "      <td>age: 18</td>\n",
       "      <td>age: 20</td>\n",
       "    </tr>\n",
       "    <tr>\n",
       "      <th>1</th>\n",
       "      <td>!Sample_characteristics_ch1</td>\n",
       "      <td>male: 0</td>\n",
       "      <td>male: 1</td>\n",
       "      <td>male: 0</td>\n",
       "      <td>male: 1</td>\n",
       "      <td>male: 0</td>\n",
       "      <td>male: 0</td>\n",
       "      <td>male: 0</td>\n",
       "      <td>male: 0</td>\n",
       "      <td>male: 0</td>\n",
       "      <td>...</td>\n",
       "      <td>male: 1</td>\n",
       "      <td>male: 1</td>\n",
       "      <td>male: 0</td>\n",
       "      <td>male: 0</td>\n",
       "      <td>male: 1</td>\n",
       "      <td>male: 1</td>\n",
       "      <td>male: 1</td>\n",
       "      <td>male: 1</td>\n",
       "      <td>male: 1</td>\n",
       "      <td>male: 0</td>\n",
       "    </tr>\n",
       "    <tr>\n",
       "      <th>2</th>\n",
       "      <td>!Sample_characteristics_ch1</td>\n",
       "      <td>bmi: 23</td>\n",
       "      <td>bmi: 30</td>\n",
       "      <td>bmi: 18</td>\n",
       "      <td>bmi: 21.6</td>\n",
       "      <td>bmi: 22</td>\n",
       "      <td>bmi: 22</td>\n",
       "      <td>bmi: 16</td>\n",
       "      <td>bmi: 26</td>\n",
       "      <td>bmi: 24</td>\n",
       "      <td>...</td>\n",
       "      <td>bmi: 20</td>\n",
       "      <td>bmi: 24</td>\n",
       "      <td>bmi: 20</td>\n",
       "      <td>bmi: 22</td>\n",
       "      <td>bmi: 21.9</td>\n",
       "      <td>bmi: 22</td>\n",
       "      <td>bmi: 24</td>\n",
       "      <td>bmi: 23</td>\n",
       "      <td>bmi: 24</td>\n",
       "      <td>bmi: 36</td>\n",
       "    </tr>\n",
       "    <tr>\n",
       "      <th>3</th>\n",
       "      <td>!Sample_characteristics_ch1</td>\n",
       "      <td>caucasian: 1</td>\n",
       "      <td>caucasian: 1</td>\n",
       "      <td>caucasian: 1</td>\n",
       "      <td>caucasian: 0</td>\n",
       "      <td>caucasian: 0</td>\n",
       "      <td>caucasian: 0</td>\n",
       "      <td>caucasian: 0</td>\n",
       "      <td>caucasian: 0</td>\n",
       "      <td>caucasian: 0</td>\n",
       "      <td>...</td>\n",
       "      <td>caucasian: 0</td>\n",
       "      <td>caucasian: 1</td>\n",
       "      <td>caucasian: 1</td>\n",
       "      <td>caucasian: 1</td>\n",
       "      <td>caucasian: 0</td>\n",
       "      <td>caucasian: missing</td>\n",
       "      <td>caucasian: 1</td>\n",
       "      <td>caucasian: 1</td>\n",
       "      <td>caucasian: 1</td>\n",
       "      <td>caucasian: 1</td>\n",
       "    </tr>\n",
       "    <tr>\n",
       "      <th>4</th>\n",
       "      <td>!Sample_characteristics_ch1</td>\n",
       "      <td>cigday: 0</td>\n",
       "      <td>cigday: 7</td>\n",
       "      <td>cigday: 12</td>\n",
       "      <td>cigday: 0</td>\n",
       "      <td>cigday: 0</td>\n",
       "      <td>cigday: 0</td>\n",
       "      <td>cigday: 0</td>\n",
       "      <td>cigday: 0</td>\n",
       "      <td>cigday: 0</td>\n",
       "      <td>...</td>\n",
       "      <td>cigday: 0</td>\n",
       "      <td>cigday: 0</td>\n",
       "      <td>cigday: 0</td>\n",
       "      <td>cigday: 0</td>\n",
       "      <td>cigday: 0</td>\n",
       "      <td>cigday: 0</td>\n",
       "      <td>cigday: 0</td>\n",
       "      <td>cigday: 0</td>\n",
       "      <td>cigday: 0</td>\n",
       "      <td>cigday: 0</td>\n",
       "    </tr>\n",
       "  </tbody>\n",
       "</table>\n",
       "<p>5 rows × 120 columns</p>\n",
       "</div>"
      ],
      "text/plain": [
       "         !Sample_geo_accession    GSM1481100    GSM1481101    GSM1481102  \\\n",
       "0  !Sample_characteristics_ch1       age: 21       age: 22       age: 21   \n",
       "1  !Sample_characteristics_ch1       male: 0       male: 1       male: 0   \n",
       "2  !Sample_characteristics_ch1       bmi: 23       bmi: 30       bmi: 18   \n",
       "3  !Sample_characteristics_ch1  caucasian: 1  caucasian: 1  caucasian: 1   \n",
       "4  !Sample_characteristics_ch1     cigday: 0     cigday: 7    cigday: 12   \n",
       "\n",
       "     GSM1481103    GSM1481104    GSM1481105    GSM1481106    GSM1481107  \\\n",
       "0       age: 21       age: 22       age: 23       age: 23       age: 23   \n",
       "1       male: 1       male: 0       male: 0       male: 0       male: 0   \n",
       "2     bmi: 21.6       bmi: 22       bmi: 22       bmi: 16       bmi: 26   \n",
       "3  caucasian: 0  caucasian: 0  caucasian: 0  caucasian: 0  caucasian: 0   \n",
       "4     cigday: 0     cigday: 0     cigday: 0     cigday: 0     cigday: 0   \n",
       "\n",
       "     GSM1481108  ...    GSM1481209    GSM1481210    GSM1481211    GSM1481212  \\\n",
       "0       age: 23  ...       age: 24       age: 20       age: 26       age: 22   \n",
       "1       male: 0  ...       male: 1       male: 1       male: 0       male: 0   \n",
       "2       bmi: 24  ...       bmi: 20       bmi: 24       bmi: 20       bmi: 22   \n",
       "3  caucasian: 0  ...  caucasian: 0  caucasian: 1  caucasian: 1  caucasian: 1   \n",
       "4     cigday: 0  ...     cigday: 0     cigday: 0     cigday: 0     cigday: 0   \n",
       "\n",
       "     GSM1481213          GSM1481214    GSM1481215    GSM1481216    GSM1481217  \\\n",
       "0       age: 32             age: 27       age: 22       age: 26       age: 18   \n",
       "1       male: 1             male: 1       male: 1       male: 1       male: 1   \n",
       "2     bmi: 21.9             bmi: 22       bmi: 24       bmi: 23       bmi: 24   \n",
       "3  caucasian: 0  caucasian: missing  caucasian: 1  caucasian: 1  caucasian: 1   \n",
       "4     cigday: 0           cigday: 0     cigday: 0     cigday: 0     cigday: 0   \n",
       "\n",
       "     GSM1481218  \n",
       "0       age: 20  \n",
       "1       male: 0  \n",
       "2       bmi: 36  \n",
       "3  caucasian: 1  \n",
       "4     cigday: 0  \n",
       "\n",
       "[5 rows x 120 columns]"
      ]
     },
     "execution_count": 20,
     "metadata": {},
     "output_type": "execute_result"
    }
   ],
   "source": [
    "clinical_data.head()"
   ]
  },
  {
   "cell_type": "code",
   "execution_count": 21,
   "metadata": {},
   "outputs": [],
   "source": [
    "def get_unique_values_by_row(dataframe, max_len=30):\n",
    "    \"\"\"\n",
    "    Organize the unique values in each row of the given dataframe, to get a dictionary\n",
    "    :param dataframe:\n",
    "    :param max_len:\n",
    "    :return:\n",
    "    \"\"\"\n",
    "    if '!Sample_geo_accession' in dataframe.columns:\n",
    "        dataframe = dataframe.drop(columns=['!Sample_geo_accession'])\n",
    "    unique_values_dict = {}\n",
    "    for index, row in dataframe.iterrows():\n",
    "        unique_values = list(row.unique())[:max_len]\n",
    "        unique_values_dict[index] = unique_values\n",
    "    return unique_values_dict"
   ]
  },
  {
   "cell_type": "code",
   "execution_count": 22,
   "metadata": {
    "ExecuteTime": {
     "end_time": "2024-01-10T21:39:04.307639583Z",
     "start_time": "2024-01-10T21:39:04.289352075Z"
    },
    "collapsed": false
   },
   "outputs": [
    {
     "data": {
      "text/plain": [
       "{0: ['age: 21',\n",
       "  'age: 22',\n",
       "  'age: 23',\n",
       "  'age: 33',\n",
       "  'age: 20',\n",
       "  'age: 34',\n",
       "  'age: 19',\n",
       "  'age: 27',\n",
       "  'age: 53',\n",
       "  'age: 25',\n",
       "  'age: 26',\n",
       "  'age: 45',\n",
       "  'age: 38',\n",
       "  'age: 29',\n",
       "  'age: 30',\n",
       "  'age: 28',\n",
       "  'age: 18',\n",
       "  'age: 24',\n",
       "  'age: 59',\n",
       "  'age: 35',\n",
       "  'age: 51',\n",
       "  'age: 50',\n",
       "  'age: 32'],\n",
       " 1: ['male: 0', 'male: 1'],\n",
       " 2: ['bmi: 23',\n",
       "  'bmi: 30',\n",
       "  'bmi: 18',\n",
       "  'bmi: 21.6',\n",
       "  'bmi: 22',\n",
       "  'bmi: 16',\n",
       "  'bmi: 26',\n",
       "  'bmi: 24',\n",
       "  'bmi: 31',\n",
       "  'bmi: 21',\n",
       "  'bmi: missing',\n",
       "  'bmi: 19',\n",
       "  'bmi: 25',\n",
       "  'bmi: 17.5',\n",
       "  'bmi: 20',\n",
       "  'bmi: 28',\n",
       "  'bmi: 29',\n",
       "  'bmi: 35',\n",
       "  'bmi: 17',\n",
       "  'bmi: 27',\n",
       "  'bmi: 21.9',\n",
       "  'bmi: 36'],\n",
       " 3: ['caucasian: 1', 'caucasian: 0', 'caucasian: missing'],\n",
       " 4: ['cigday: 0',\n",
       "  'cigday: 7',\n",
       "  'cigday: 12',\n",
       "  'cigday: 3',\n",
       "  'cigday: 5',\n",
       "  'cigday: 0.1',\n",
       "  'cigday: 1.4',\n",
       "  'cigday: 20'],\n",
       " 5: ['alcday: 0.4',\n",
       "  'alcday: 0',\n",
       "  'alcday: 1.3',\n",
       "  'alcday: 0.9',\n",
       "  'alcday: 2',\n",
       "  'alcday: 1',\n",
       "  'alcday: 0.1',\n",
       "  'alcday: 1.4',\n",
       "  'alcday: 0.6',\n",
       "  'alcday: 2.9',\n",
       "  'alcday: 0.3',\n",
       "  'alcday: 1.7',\n",
       "  'alcday: 3',\n",
       "  'alcday: 1.1',\n",
       "  'alcday: 0.7',\n",
       "  'alcday: 2.3',\n",
       "  'alcday: 1.5',\n",
       "  'alcday: 2.2',\n",
       "  'alcday: 6',\n",
       "  'alcday: 0.2'],\n",
       " 6: ['exerday: 0.5',\n",
       "  'exerday: 0.9',\n",
       "  'exerday: 0.6',\n",
       "  'exerday: 1',\n",
       "  'exerday: 0.1',\n",
       "  'exerday: 0.3',\n",
       "  'exerday: 0',\n",
       "  'exerday: 2',\n",
       "  'exerday: 1.5',\n",
       "  'exerday: 0.7',\n",
       "  'exerday: 0.4',\n",
       "  'exerday: 0.8',\n",
       "  'exerday: 0.75',\n",
       "  'exerday: 1.4',\n",
       "  'exerday: 3',\n",
       "  'exerday: 1.1'],\n",
       " 7: ['minorsymptom: 0', 'minorsymptom: missing', 'minorsymptom: 1'],\n",
       " 8: ['birthcontrol: 0', 'birthcontrol: 1', 'birthcontrol: missing'],\n",
       " 9: ['antidepressant: 0', 'antidepressant: 1', 'antidepressant: missing'],\n",
       " 10: ['othermedication: 0', 'othermedication: missing', 'othermedication: 1'],\n",
       " 11: ['negativeaffect: 0.162',\n",
       "  'negativeaffect: 1.319',\n",
       "  'negativeaffect: 1.65',\n",
       "  'negativeaffect: -0.83',\n",
       "  'negativeaffect: 2.311',\n",
       "  'negativeaffect: -0.664',\n",
       "  'negativeaffect: -0.003',\n",
       "  'negativeaffect: 2.972',\n",
       "  'negativeaffect: 4.129',\n",
       "  'negativeaffect: -0.334',\n",
       "  'negativeaffect: -0.169',\n",
       "  'negativeaffect: 0.658',\n",
       "  'negativeaffect: 1.484',\n",
       "  'negativeaffect: 0.823',\n",
       "  'negativeaffect: 1.815',\n",
       "  'negativeaffect: 2.476',\n",
       "  'negativeaffect: 0.493',\n",
       "  'negativeaffect: 0.988',\n",
       "  'negativeaffect: 2.145'],\n",
       " 12: ['neuroticism: 0.18',\n",
       "  'neuroticism: -0.96',\n",
       "  'neuroticism: 2.58',\n",
       "  'neuroticism: -1.47',\n",
       "  'neuroticism: 1.06',\n",
       "  'neuroticism: -0.46',\n",
       "  'neuroticism: 0.3',\n",
       "  'neuroticism: 0.94',\n",
       "  'neuroticism: 2.46',\n",
       "  'neuroticism: 0.81',\n",
       "  'neuroticism: 0.43',\n",
       "  'neuroticism: -1.09',\n",
       "  'neuroticism: -0.08',\n",
       "  'neuroticism: -0.71',\n",
       "  'neuroticism: -0.2',\n",
       "  'neuroticism: -1.34',\n",
       "  'neuroticism: -0.84',\n",
       "  'neuroticism: 1.19',\n",
       "  'neuroticism: 0.56',\n",
       "  'neuroticism: 0.05',\n",
       "  'neuroticism: -0.33',\n",
       "  'neuroticism: 1.95',\n",
       "  'neuroticism: 2.08',\n",
       "  'neuroticism: -0.58',\n",
       "  'neuroticism: 0.68',\n",
       "  'neuroticism: -1.97',\n",
       "  'neuroticism: 1.44',\n",
       "  'neuroticism: -1.85',\n",
       "  'neuroticism: -1.22',\n",
       "  'neuroticism: 1.32'],\n",
       " 13: ['extraversion: 0.46',\n",
       "  'extraversion: -0.43',\n",
       "  'extraversion: -1.01',\n",
       "  'extraversion: 0.6',\n",
       "  'extraversion: -0.72',\n",
       "  'extraversion: -0.57',\n",
       "  'extraversion: -1.16',\n",
       "  'extraversion: 0.16',\n",
       "  'extraversion: -1.75',\n",
       "  'extraversion: 0.01',\n",
       "  'extraversion: 0.9',\n",
       "  'extraversion: 1.04',\n",
       "  'extraversion: -1.31',\n",
       "  'extraversion: 2.22',\n",
       "  'extraversion: -1.6',\n",
       "  'extraversion: 1.19',\n",
       "  'extraversion: -2.34',\n",
       "  'extraversion: -2.19',\n",
       "  'extraversion: 1.34',\n",
       "  'extraversion: 0.31',\n",
       "  'extraversion: -0.28',\n",
       "  'extraversion: -1.46',\n",
       "  'extraversion: -0.87',\n",
       "  'extraversion: -0.13',\n",
       "  'extraversion: 1.93',\n",
       "  'extraversion: 1.63',\n",
       "  'extraversion: 2.07',\n",
       "  'extraversion: 0.75',\n",
       "  'extraversion: 1.49'],\n",
       " 14: ['openness: 0.27',\n",
       "  'openness: 0.73',\n",
       "  'openness: 2.14',\n",
       "  'openness: -0.2',\n",
       "  'openness: -1.14',\n",
       "  'openness: 0.11',\n",
       "  'openness: 0.89',\n",
       "  'openness: 1.05',\n",
       "  'openness: -0.36',\n",
       "  'openness: -0.98',\n",
       "  'openness: 1.67',\n",
       "  'openness: -1.92',\n",
       "  'openness: -0.83',\n",
       "  'openness: -2.39',\n",
       "  'openness: 1.52',\n",
       "  'openness: -0.67',\n",
       "  'openness: -0.05',\n",
       "  'openness: 0.42',\n",
       "  'openness: -0.52',\n",
       "  'openness: 1.2',\n",
       "  'openness: -1.77',\n",
       "  'openness: 0.58',\n",
       "  'openness: 2.45',\n",
       "  'openness: -1.3',\n",
       "  'openness: 1.36',\n",
       "  'openness: 1.83',\n",
       "  'openness: -1.61',\n",
       "  'openness: -2.23',\n",
       "  'openness: -2.08',\n",
       "  'openness: -2.7'],\n",
       " 15: ['agreeableness: -0.02',\n",
       "  'agreeableness: -0.81',\n",
       "  'agreeableness: -0.49',\n",
       "  'agreeableness: -0.33',\n",
       "  'agreeableness: 0.78',\n",
       "  'agreeableness: -1.13',\n",
       "  'agreeableness: 0.14',\n",
       "  'agreeableness: 1.41',\n",
       "  'agreeableness: 0.46',\n",
       "  'agreeableness: 1.57',\n",
       "  'agreeableness: 0.3',\n",
       "  'agreeableness: -3.67',\n",
       "  'agreeableness: -0.97',\n",
       "  'agreeableness: -2.87',\n",
       "  'agreeableness: -2.08',\n",
       "  'agreeableness: -0.17',\n",
       "  'agreeableness: -1.29',\n",
       "  'agreeableness: -1.6',\n",
       "  'agreeableness: 0.94',\n",
       "  'agreeableness: 1.25',\n",
       "  'agreeableness: -1.92',\n",
       "  'agreeableness: 1.1',\n",
       "  'agreeableness: 1.89',\n",
       "  'agreeableness: 0.62',\n",
       "  'agreeableness: -1.44',\n",
       "  'agreeableness: -2.24',\n",
       "  'agreeableness: 1.73',\n",
       "  'agreeableness: -3.19'],\n",
       " 16: ['conscientiousness: -0.51',\n",
       "  'conscientiousness: 0.66',\n",
       "  'conscientiousness: 0.01',\n",
       "  'conscientiousness: -1.68',\n",
       "  'conscientiousness: 1.31',\n",
       "  'conscientiousness: -0.38',\n",
       "  'conscientiousness: 0.53',\n",
       "  'conscientiousness: -1.42',\n",
       "  'conscientiousness: -0.77',\n",
       "  'conscientiousness: 1.05',\n",
       "  'conscientiousness: 0.79',\n",
       "  'conscientiousness: -0.12',\n",
       "  'conscientiousness: -1.16',\n",
       "  'conscientiousness: 0.92',\n",
       "  'conscientiousness: -2.84',\n",
       "  'conscientiousness: 0.4',\n",
       "  'conscientiousness: -1.94',\n",
       "  'conscientiousness: -0.64',\n",
       "  'conscientiousness: 1.18',\n",
       "  'conscientiousness: 1.96',\n",
       "  'conscientiousness: 1.7',\n",
       "  'conscientiousness: -0.9',\n",
       "  'conscientiousness: -0.25',\n",
       "  'conscientiousness: 1.83',\n",
       "  'conscientiousness: 1.57',\n",
       "  'conscientiousness: 1.44',\n",
       "  'conscientiousness: -2.71',\n",
       "  'conscientiousness: -1.29',\n",
       "  'conscientiousness: 0.27',\n",
       "  'conscientiousness: 0.14']}"
      ]
     },
     "execution_count": 22,
     "metadata": {},
     "output_type": "execute_result"
    }
   ],
   "source": [
    "clinical_data_unique = get_unique_values_by_row(clinical_data)\n",
    "clinical_data_unique"
   ]
  },
  {
   "cell_type": "markdown",
   "metadata": {
    "ExecuteTime": {
     "end_time": "2023-12-31T03:58:04.978204446Z",
     "start_time": "2023-12-31T03:58:04.922270095Z"
    },
    "collapsed": false
   },
   "source": [
    "Analyze the metadata to determine data relevance and find ways to extract the clinical data.\n",
    "Reference prompt:"
   ]
  },
  {
   "cell_type": "code",
   "execution_count": 23,
   "metadata": {
    "ExecuteTime": {
     "end_time": "2024-01-10T21:39:04.854586192Z",
     "start_time": "2024-01-10T21:39:04.836283516Z"
    },
    "collapsed": false
   },
   "outputs": [
    {
     "data": {
      "text/plain": [
       "'As a biomedical research team, we are selecting datasets to study the association between the human trait \\'Anxiety disorder\\' and genetic factors, optionally considering the influence of age and gender. After searching the GEO database and parsing the matrix file of a series, we obtained background information and sample characteristics data. We will provide textual information about the dataset background, and a Python dictionary storing a list of unique values for each field of the sample characteristics data. Please carefully review the provided information and answer the following questions about this dataset:\\n1. Does this dataset contain gene expression data? (Note: Pure miRNA data is not suitable.)\\n2. For each of the traits \\'Anxiety disorder\\', \\'age\\', and \\'gender\\', please address these points:\\n   (1) Is there human data available for this trait?\\n   (2) If so, identify the key in the sample characteristics dictionary where unique values of this trait is recorded. The key is an integer. The trait information might be explicitly recorded, or can be inferred from the field with some biomedical knowledge or understanding about the data collection process.\\n   (3) Choose an appropriate data type (either \\'continuous\\' or \\'binary\\') for each trait. Write a Python function to convert any given value of the trait to this data type. The function should handle inference about the trait value and convert unknown values to None.\\n   Name the functions \\'convert_trait\\', \\'convert_age\\', and \\'convert_gender\\', respectively.\\n\\nBackground information about the dataset:\\n!Series_title\\t\"Leukocyte gene expression variation as a function of Big 5 dimensions of human personality\"\\n!Series_summary\\t\"Individual differences in basal leukocyte gene expression profiles as a function of Big 5 personality dimensions\"\\n!Series_overall_design\\t\"Gene expression profiling was carried out on peripheral blood mononuclear cell RNA samples collected from 119 healthy adults measured for the 5 major dimensions of human personality (Neuroticism, Extraversion, Openness, Agreeableness, Conscientiousness) using the NEO-FFI 60-item personality inventory.  Personality measures are z-score standardized.  Analyses control for major demographic characteristics (age, sex, Caucasian vs Non-Caucasian race) as well as Body Mass Index (BMI), smoking (CigDay), alcohol consumption (AlcDay), and physical activity (ExerDay, hours per day).  Additional secondary analyses controlled for the presence of minor physical symptoms (MinorSymptom, e.g.,hayfever, headache), medication use (BirthControl, Antidepressant, OtherMedication), and negative affective states (NegativeAffect, standardized values of PANAS Negative Affect scale).\"\\n!Series_overall_design\\t\"\"\\n!Series_overall_design\\t\"Experiment type: Risk prediction\"\\n\\nSample characteristics dictionary (from \"!Sample_characteristics_ch1\", converted to a Python dictionary that stores the unique values for each field):\\n{0: [\\'age: 21\\', \\'age: 22\\', \\'age: 23\\', \\'age: 33\\', \\'age: 20\\', \\'age: 34\\', \\'age: 19\\', \\'age: 27\\', \\'age: 53\\', \\'age: 25\\', \\'age: 26\\', \\'age: 45\\', \\'age: 38\\', \\'age: 29\\', \\'age: 30\\', \\'age: 28\\', \\'age: 18\\', \\'age: 24\\', \\'age: 59\\', \\'age: 35\\', \\'age: 51\\', \\'age: 50\\', \\'age: 32\\'], 1: [\\'male: 0\\', \\'male: 1\\'], 2: [\\'bmi: 23\\', \\'bmi: 30\\', \\'bmi: 18\\', \\'bmi: 21.6\\', \\'bmi: 22\\', \\'bmi: 16\\', \\'bmi: 26\\', \\'bmi: 24\\', \\'bmi: 31\\', \\'bmi: 21\\', \\'bmi: missing\\', \\'bmi: 19\\', \\'bmi: 25\\', \\'bmi: 17.5\\', \\'bmi: 20\\', \\'bmi: 28\\', \\'bmi: 29\\', \\'bmi: 35\\', \\'bmi: 17\\', \\'bmi: 27\\', \\'bmi: 21.9\\', \\'bmi: 36\\'], 3: [\\'caucasian: 1\\', \\'caucasian: 0\\', \\'caucasian: missing\\'], 4: [\\'cigday: 0\\', \\'cigday: 7\\', \\'cigday: 12\\', \\'cigday: 3\\', \\'cigday: 5\\', \\'cigday: 0.1\\', \\'cigday: 1.4\\', \\'cigday: 20\\'], 5: [\\'alcday: 0.4\\', \\'alcday: 0\\', \\'alcday: 1.3\\', \\'alcday: 0.9\\', \\'alcday: 2\\', \\'alcday: 1\\', \\'alcday: 0.1\\', \\'alcday: 1.4\\', \\'alcday: 0.6\\', \\'alcday: 2.9\\', \\'alcday: 0.3\\', \\'alcday: 1.7\\', \\'alcday: 3\\', \\'alcday: 1.1\\', \\'alcday: 0.7\\', \\'alcday: 2.3\\', \\'alcday: 1.5\\', \\'alcday: 2.2\\', \\'alcday: 6\\', \\'alcday: 0.2\\'], 6: [\\'exerday: 0.5\\', \\'exerday: 0.9\\', \\'exerday: 0.6\\', \\'exerday: 1\\', \\'exerday: 0.1\\', \\'exerday: 0.3\\', \\'exerday: 0\\', \\'exerday: 2\\', \\'exerday: 1.5\\', \\'exerday: 0.7\\', \\'exerday: 0.4\\', \\'exerday: 0.8\\', \\'exerday: 0.75\\', \\'exerday: 1.4\\', \\'exerday: 3\\', \\'exerday: 1.1\\'], 7: [\\'minorsymptom: 0\\', \\'minorsymptom: missing\\', \\'minorsymptom: 1\\'], 8: [\\'birthcontrol: 0\\', \\'birthcontrol: 1\\', \\'birthcontrol: missing\\'], 9: [\\'antidepressant: 0\\', \\'antidepressant: 1\\', \\'antidepressant: missing\\'], 10: [\\'othermedication: 0\\', \\'othermedication: missing\\', \\'othermedication: 1\\'], 11: [\\'negativeaffect: 0.162\\', \\'negativeaffect: 1.319\\', \\'negativeaffect: 1.65\\', \\'negativeaffect: -0.83\\', \\'negativeaffect: 2.311\\', \\'negativeaffect: -0.664\\', \\'negativeaffect: -0.003\\', \\'negativeaffect: 2.972\\', \\'negativeaffect: 4.129\\', \\'negativeaffect: -0.334\\', \\'negativeaffect: -0.169\\', \\'negativeaffect: 0.658\\', \\'negativeaffect: 1.484\\', \\'negativeaffect: 0.823\\', \\'negativeaffect: 1.815\\', \\'negativeaffect: 2.476\\', \\'negativeaffect: 0.493\\', \\'negativeaffect: 0.988\\', \\'negativeaffect: 2.145\\'], 12: [\\'neuroticism: 0.18\\', \\'neuroticism: -0.96\\', \\'neuroticism: 2.58\\', \\'neuroticism: -1.47\\', \\'neuroticism: 1.06\\', \\'neuroticism: -0.46\\', \\'neuroticism: 0.3\\', \\'neuroticism: 0.94\\', \\'neuroticism: 2.46\\', \\'neuroticism: 0.81\\', \\'neuroticism: 0.43\\', \\'neuroticism: -1.09\\', \\'neuroticism: -0.08\\', \\'neuroticism: -0.71\\', \\'neuroticism: -0.2\\', \\'neuroticism: -1.34\\', \\'neuroticism: -0.84\\', \\'neuroticism: 1.19\\', \\'neuroticism: 0.56\\', \\'neuroticism: 0.05\\', \\'neuroticism: -0.33\\', \\'neuroticism: 1.95\\', \\'neuroticism: 2.08\\', \\'neuroticism: -0.58\\', \\'neuroticism: 0.68\\', \\'neuroticism: -1.97\\', \\'neuroticism: 1.44\\', \\'neuroticism: -1.85\\', \\'neuroticism: -1.22\\', \\'neuroticism: 1.32\\'], 13: [\\'extraversion: 0.46\\', \\'extraversion: -0.43\\', \\'extraversion: -1.01\\', \\'extraversion: 0.6\\', \\'extraversion: -0.72\\', \\'extraversion: -0.57\\', \\'extraversion: -1.16\\', \\'extraversion: 0.16\\', \\'extraversion: -1.75\\', \\'extraversion: 0.01\\', \\'extraversion: 0.9\\', \\'extraversion: 1.04\\', \\'extraversion: -1.31\\', \\'extraversion: 2.22\\', \\'extraversion: -1.6\\', \\'extraversion: 1.19\\', \\'extraversion: -2.34\\', \\'extraversion: -2.19\\', \\'extraversion: 1.34\\', \\'extraversion: 0.31\\', \\'extraversion: -0.28\\', \\'extraversion: -1.46\\', \\'extraversion: -0.87\\', \\'extraversion: -0.13\\', \\'extraversion: 1.93\\', \\'extraversion: 1.63\\', \\'extraversion: 2.07\\', \\'extraversion: 0.75\\', \\'extraversion: 1.49\\'], 14: [\\'openness: 0.27\\', \\'openness: 0.73\\', \\'openness: 2.14\\', \\'openness: -0.2\\', \\'openness: -1.14\\', \\'openness: 0.11\\', \\'openness: 0.89\\', \\'openness: 1.05\\', \\'openness: -0.36\\', \\'openness: -0.98\\', \\'openness: 1.67\\', \\'openness: -1.92\\', \\'openness: -0.83\\', \\'openness: -2.39\\', \\'openness: 1.52\\', \\'openness: -0.67\\', \\'openness: -0.05\\', \\'openness: 0.42\\', \\'openness: -0.52\\', \\'openness: 1.2\\', \\'openness: -1.77\\', \\'openness: 0.58\\', \\'openness: 2.45\\', \\'openness: -1.3\\', \\'openness: 1.36\\', \\'openness: 1.83\\', \\'openness: -1.61\\', \\'openness: -2.23\\', \\'openness: -2.08\\', \\'openness: -2.7\\'], 15: [\\'agreeableness: -0.02\\', \\'agreeableness: -0.81\\', \\'agreeableness: -0.49\\', \\'agreeableness: -0.33\\', \\'agreeableness: 0.78\\', \\'agreeableness: -1.13\\', \\'agreeableness: 0.14\\', \\'agreeableness: 1.41\\', \\'agreeableness: 0.46\\', \\'agreeableness: 1.57\\', \\'agreeableness: 0.3\\', \\'agreeableness: -3.67\\', \\'agreeableness: -0.97\\', \\'agreeableness: -2.87\\', \\'agreeableness: -2.08\\', \\'agreeableness: -0.17\\', \\'agreeableness: -1.29\\', \\'agreeableness: -1.6\\', \\'agreeableness: 0.94\\', \\'agreeableness: 1.25\\', \\'agreeableness: -1.92\\', \\'agreeableness: 1.1\\', \\'agreeableness: 1.89\\', \\'agreeableness: 0.62\\', \\'agreeableness: -1.44\\', \\'agreeableness: -2.24\\', \\'agreeableness: 1.73\\', \\'agreeableness: -3.19\\'], 16: [\\'conscientiousness: -0.51\\', \\'conscientiousness: 0.66\\', \\'conscientiousness: 0.01\\', \\'conscientiousness: -1.68\\', \\'conscientiousness: 1.31\\', \\'conscientiousness: -0.38\\', \\'conscientiousness: 0.53\\', \\'conscientiousness: -1.42\\', \\'conscientiousness: -0.77\\', \\'conscientiousness: 1.05\\', \\'conscientiousness: 0.79\\', \\'conscientiousness: -0.12\\', \\'conscientiousness: -1.16\\', \\'conscientiousness: 0.92\\', \\'conscientiousness: -2.84\\', \\'conscientiousness: 0.4\\', \\'conscientiousness: -1.94\\', \\'conscientiousness: -0.64\\', \\'conscientiousness: 1.18\\', \\'conscientiousness: 1.96\\', \\'conscientiousness: 1.7\\', \\'conscientiousness: -0.9\\', \\'conscientiousness: -0.25\\', \\'conscientiousness: 1.83\\', \\'conscientiousness: 1.57\\', \\'conscientiousness: 1.44\\', \\'conscientiousness: -2.71\\', \\'conscientiousness: -1.29\\', \\'conscientiousness: 0.27\\', \\'conscientiousness: 0.14\\']}\\n'"
      ]
     },
     "execution_count": 23,
     "metadata": {},
     "output_type": "execute_result"
    }
   ],
   "source": [
    "f'''As a biomedical research team, we are selecting datasets to study the association between the human trait \\'{TRAIT}\\' and genetic factors, optionally considering the influence of age and gender. After searching the GEO database and parsing the matrix file of a series, we obtained background information and sample characteristics data. We will provide textual information about the dataset background, and a Python dictionary storing a list of unique values for each field of the sample characteristics data. Please carefully review the provided information and answer the following questions about this dataset:\n",
    "1. Does this dataset contain gene expression data? (Note: Pure miRNA data is not suitable.)\n",
    "2. For each of the traits \\'{TRAIT}\\', 'age', and 'gender', please address these points:\n",
    "   (1) Is there human data available for this trait?\n",
    "   (2) If so, identify the key in the sample characteristics dictionary where unique values of this trait is recorded. The key is an integer. The trait information might be explicitly recorded, or can be inferred from the field with some biomedical knowledge or understanding about the data collection process.\n",
    "   (3) Choose an appropriate data type (either 'continuous' or 'binary') for each trait. Write a Python function to convert any given value of the trait to this data type. The function should handle inference about the trait value and convert unknown values to None.\n",
    "   Name the functions 'convert_trait', 'convert_age', and 'convert_gender', respectively.\n",
    "\n",
    "Background information about the dataset:\n",
    "{background_info}\n",
    "\n",
    "Sample characteristics dictionary (from \"!Sample_characteristics_ch1\", converted to a Python dictionary that stores the unique values for each field):\n",
    "{clinical_data_unique}\n",
    "'''"
   ]
  },
  {
   "cell_type": "markdown",
   "metadata": {
    "ExecuteTime": {
     "end_time": "2023-12-31T03:58:04.978240504Z",
     "start_time": "2023-12-31T03:58:04.922365324Z"
    },
    "collapsed": false
   },
   "source": [
    "Understand and verify the answer from GPT, to assign values to the below variables. Assign None to the 'row_id' variables if relevant data row was not found.\n",
    "Later we need to let GPT format its answer to automatically do these. But given the complexity of this step, let's grow some insight from the free-text answers for now."
   ]
  },
  {
   "cell_type": "code",
   "execution_count": 31,
   "metadata": {
    "ExecuteTime": {
     "end_time": "2024-01-10T21:39:05.366304590Z",
     "start_time": "2024-01-10T21:39:05.356983082Z"
    },
    "collapsed": false
   },
   "outputs": [],
   "source": [
    "age_row = gender_row = None\n",
    "convert_age = convert_gender = None"
   ]
  },
  {
   "cell_type": "code",
   "execution_count": 32,
   "metadata": {
    "ExecuteTime": {
     "end_time": "2024-01-10T21:40:09.324053151Z",
     "start_time": "2024-01-10T21:40:09.251131090Z"
    },
    "collapsed": false
   },
   "outputs": [],
   "source": [
    "is_gene_availabe = True\n",
    "trait_row = 9\n",
    "age_row = 0\n",
    "gender_row = 1\n",
    "trait_type = 'binary'"
   ]
  },
  {
   "cell_type": "code",
   "execution_count": 33,
   "metadata": {
    "ExecuteTime": {
     "end_time": "2024-01-10T21:40:09.912115984Z",
     "start_time": "2024-01-10T21:40:09.907913460Z"
    },
    "collapsed": false
   },
   "outputs": [],
   "source": [
    "is_available = is_gene_availabe and (trait_row is not None)\n",
    "if not is_available:\n",
    "    save_cohort_info(cohort, JSON_PATH, is_available)\n",
    "    print(\"This cohort is not usable. Please skip the following steps and jump to the next accession number.\")"
   ]
  },
  {
   "cell_type": "code",
   "execution_count": 38,
   "metadata": {
    "ExecuteTime": {
     "end_time": "2024-01-10T21:40:10.982148317Z",
     "start_time": "2024-01-10T21:40:10.967368918Z"
    },
    "collapsed": false
   },
   "outputs": [],
   "source": [
    "# Verify and use the functions generated by GPT\n",
    "\n",
    "def convert_trait(tissue_type):\n",
    "    \"\"\"\n",
    "    Convert tissue type to epilepsy presence (binary).\n",
    "    Assuming epilepsy presence for 'Hippocampus' tissue.\n",
    "    \"\"\"\n",
    "    if tissue_type == 'antidepressant: 0':\n",
    "        return 1  # Epilepsy present\n",
    "    else:\n",
    "        return 0  # Epilepsy not present\n",
    "\n",
    "\n",
    "def convert_age(age_string):\n",
    "    \"\"\"\n",
    "    Convert age string to a continuous numerical value.\n",
    "    Unknown values are converted to None.\n",
    "    \"\"\"\n",
    "    if age_string.lower() == 'n.a.':\n",
    "        return None\n",
    "    try:\n",
    "        # Extract age as an integer from the string\n",
    "        age = int(age_string.split(': ')[1])\n",
    "        return age\n",
    "    except (ValueError, IndexError):\n",
    "        # In case of any format error or unexpected string structure\n",
    "        return None\n",
    "\n",
    "\n",
    "# It sometimes maps 'female' to 0, and sometimes 1. Does it matter?\n",
    "def convert_gender(gender_string):\n",
    "    \"\"\"\n",
    "    Convert gender string to a binary value.\n",
    "    'female' is represented as 1, 'male' as 0.\n",
    "    Unknown values are converted to None.\n",
    "    \"\"\"\n",
    "    if gender_string.lower() == 'male: 0':\n",
    "        return 0\n",
    "    elif gender_string.lower() == 'male: 1':\n",
    "        return 1\n",
    "    else:\n",
    "        return None"
   ]
  },
  {
   "cell_type": "code",
   "execution_count": 39,
   "metadata": {},
   "outputs": [],
   "source": [
    "def get_feature_data(clinical_df, row_id, feature, convert_fn):\n",
    "    \"\"\"select the row corresponding to a feature in the sample characteristics dataframe, and convert the feature into\n",
    "    a binary or continuous variable\"\"\"\n",
    "    clinical_df = clinical_df.iloc[row_id:row_id + 1].drop(columns=['!Sample_geo_accession'], errors='ignore')\n",
    "    clinical_df.index = [feature]\n",
    "    clinical_df = clinical_df.applymap(convert_fn)\n",
    "\n",
    "    return clinical_df"
   ]
  },
  {
   "cell_type": "code",
   "execution_count": 40,
   "metadata": {},
   "outputs": [],
   "source": [
    "def geo_select_clinical_features(clinical_df: pd.DataFrame, trait: str, trait_row: int,\n",
    "                                 convert_trait: Callable,\n",
    "                                 age_row: Optional[int] = None,\n",
    "                                 convert_age: Optional[Callable] = None,\n",
    "                                 gender_row: Optional[int] = None,\n",
    "                                 convert_gender: Optional[Callable] = None) -> pd.DataFrame:\n",
    "    \"\"\"\n",
    "    Extracts and processes specific clinical features from a DataFrame representing\n",
    "    sample characteristics in the GEO database series.\n",
    "\n",
    "    Parameters:\n",
    "    - clinical_df (pd.DataFrame): DataFrame containing clinical data.\n",
    "    - trait (str): The trait of interest.\n",
    "    - trait_row (int): Row identifier for the trait in the DataFrame.\n",
    "    - convert_trait (Callable): Function to convert trait data into a desired format.\n",
    "    - age_row (int, optional): Row identifier for age data. Default is None.\n",
    "    - convert_age (Callable, optional): Function to convert age data. Default is None.\n",
    "    - gender_row (int, optional): Row identifier for gender data. Default is None.\n",
    "    - convert_gender (Callable, optional): Function to convert gender data. Default is None.\n",
    "\n",
    "    Returns:\n",
    "    pd.DataFrame: A DataFrame containing the selected and processed clinical features.\n",
    "    \"\"\"\n",
    "    feature_list = []\n",
    "\n",
    "    trait_data = get_feature_data(clinical_df, trait_row, trait, convert_trait)\n",
    "    feature_list.append(trait_data)\n",
    "    if age_row is not None:\n",
    "        age_data = get_feature_data(clinical_df, age_row, 'Age', convert_age)\n",
    "        feature_list.append(age_data)\n",
    "    if gender_row is not None:\n",
    "        gender_data = get_feature_data(clinical_df, gender_row, 'Gender', convert_gender)\n",
    "        feature_list.append(gender_data)\n",
    "\n",
    "    selected_clinical_df = pd.concat(feature_list, axis=0)\n",
    "    return selected_clinical_df"
   ]
  },
  {
   "cell_type": "code",
   "execution_count": 41,
   "metadata": {
    "ExecuteTime": {
     "end_time": "2024-01-10T21:40:11.684556802Z",
     "start_time": "2024-01-10T21:40:11.665079581Z"
    },
    "collapsed": false
   },
   "outputs": [
    {
     "data": {
      "text/html": [
       "<div>\n",
       "<style scoped>\n",
       "    .dataframe tbody tr th:only-of-type {\n",
       "        vertical-align: middle;\n",
       "    }\n",
       "\n",
       "    .dataframe tbody tr th {\n",
       "        vertical-align: top;\n",
       "    }\n",
       "\n",
       "    .dataframe thead th {\n",
       "        text-align: right;\n",
       "    }\n",
       "</style>\n",
       "<table border=\"1\" class=\"dataframe\">\n",
       "  <thead>\n",
       "    <tr style=\"text-align: right;\">\n",
       "      <th></th>\n",
       "      <th>GSM1481100</th>\n",
       "      <th>GSM1481101</th>\n",
       "      <th>GSM1481102</th>\n",
       "      <th>GSM1481103</th>\n",
       "      <th>GSM1481104</th>\n",
       "      <th>GSM1481105</th>\n",
       "      <th>GSM1481106</th>\n",
       "      <th>GSM1481107</th>\n",
       "      <th>GSM1481108</th>\n",
       "      <th>GSM1481109</th>\n",
       "      <th>...</th>\n",
       "      <th>GSM1481209</th>\n",
       "      <th>GSM1481210</th>\n",
       "      <th>GSM1481211</th>\n",
       "      <th>GSM1481212</th>\n",
       "      <th>GSM1481213</th>\n",
       "      <th>GSM1481214</th>\n",
       "      <th>GSM1481215</th>\n",
       "      <th>GSM1481216</th>\n",
       "      <th>GSM1481217</th>\n",
       "      <th>GSM1481218</th>\n",
       "    </tr>\n",
       "  </thead>\n",
       "  <tbody>\n",
       "    <tr>\n",
       "      <th>Anxiety disorder</th>\n",
       "      <td>1</td>\n",
       "      <td>1</td>\n",
       "      <td>1</td>\n",
       "      <td>1</td>\n",
       "      <td>1</td>\n",
       "      <td>1</td>\n",
       "      <td>1</td>\n",
       "      <td>0</td>\n",
       "      <td>1</td>\n",
       "      <td>0</td>\n",
       "      <td>...</td>\n",
       "      <td>1</td>\n",
       "      <td>1</td>\n",
       "      <td>1</td>\n",
       "      <td>1</td>\n",
       "      <td>1</td>\n",
       "      <td>0</td>\n",
       "      <td>1</td>\n",
       "      <td>1</td>\n",
       "      <td>1</td>\n",
       "      <td>1</td>\n",
       "    </tr>\n",
       "    <tr>\n",
       "      <th>Age</th>\n",
       "      <td>21</td>\n",
       "      <td>22</td>\n",
       "      <td>21</td>\n",
       "      <td>21</td>\n",
       "      <td>22</td>\n",
       "      <td>23</td>\n",
       "      <td>23</td>\n",
       "      <td>23</td>\n",
       "      <td>23</td>\n",
       "      <td>23</td>\n",
       "      <td>...</td>\n",
       "      <td>24</td>\n",
       "      <td>20</td>\n",
       "      <td>26</td>\n",
       "      <td>22</td>\n",
       "      <td>32</td>\n",
       "      <td>27</td>\n",
       "      <td>22</td>\n",
       "      <td>26</td>\n",
       "      <td>18</td>\n",
       "      <td>20</td>\n",
       "    </tr>\n",
       "    <tr>\n",
       "      <th>Gender</th>\n",
       "      <td>0</td>\n",
       "      <td>1</td>\n",
       "      <td>0</td>\n",
       "      <td>1</td>\n",
       "      <td>0</td>\n",
       "      <td>0</td>\n",
       "      <td>0</td>\n",
       "      <td>0</td>\n",
       "      <td>0</td>\n",
       "      <td>0</td>\n",
       "      <td>...</td>\n",
       "      <td>1</td>\n",
       "      <td>1</td>\n",
       "      <td>0</td>\n",
       "      <td>0</td>\n",
       "      <td>1</td>\n",
       "      <td>1</td>\n",
       "      <td>1</td>\n",
       "      <td>1</td>\n",
       "      <td>1</td>\n",
       "      <td>0</td>\n",
       "    </tr>\n",
       "  </tbody>\n",
       "</table>\n",
       "<p>3 rows × 119 columns</p>\n",
       "</div>"
      ],
      "text/plain": [
       "                  GSM1481100  GSM1481101  GSM1481102  GSM1481103  GSM1481104  \\\n",
       "Anxiety disorder           1           1           1           1           1   \n",
       "Age                       21          22          21          21          22   \n",
       "Gender                     0           1           0           1           0   \n",
       "\n",
       "                  GSM1481105  GSM1481106  GSM1481107  GSM1481108  GSM1481109  \\\n",
       "Anxiety disorder           1           1           0           1           0   \n",
       "Age                       23          23          23          23          23   \n",
       "Gender                     0           0           0           0           0   \n",
       "\n",
       "                  ...  GSM1481209  GSM1481210  GSM1481211  GSM1481212  \\\n",
       "Anxiety disorder  ...           1           1           1           1   \n",
       "Age               ...          24          20          26          22   \n",
       "Gender            ...           1           1           0           0   \n",
       "\n",
       "                  GSM1481213  GSM1481214  GSM1481215  GSM1481216  GSM1481217  \\\n",
       "Anxiety disorder           1           0           1           1           1   \n",
       "Age                       32          27          22          26          18   \n",
       "Gender                     1           1           1           1           1   \n",
       "\n",
       "                  GSM1481218  \n",
       "Anxiety disorder           1  \n",
       "Age                       20  \n",
       "Gender                     0  \n",
       "\n",
       "[3 rows x 119 columns]"
      ]
     },
     "execution_count": 41,
     "metadata": {},
     "output_type": "execute_result"
    }
   ],
   "source": [
    "selected_clinical_data = geo_select_clinical_features(clinical_data, TRAIT, trait_row, convert_trait, age_row=age_row,\n",
    "                                                      convert_age=convert_age, gender_row=gender_row,\n",
    "                                                      convert_gender=convert_gender)\n",
    "selected_clinical_data.head()"
   ]
  },
  {
   "cell_type": "markdown",
   "metadata": {
    "ExecuteTime": {
     "end_time": "2023-12-31T03:58:04.978664193Z",
     "start_time": "2023-12-31T03:58:04.966117261Z"
    },
    "collapsed": false
   },
   "source": [
    "### Genetic data preprocessing and final filtering"
   ]
  },
  {
   "cell_type": "code",
   "execution_count": 42,
   "metadata": {},
   "outputs": [],
   "source": [
    "def get_genetic_data(file_path):\n",
    "    \"\"\"Read the gene expression data into a dataframe, and adjust its format\"\"\"\n",
    "    genetic_data = pd.read_csv(file_path, compression='gzip', skiprows=52, comment='!', delimiter='\\t')\n",
    "    genetic_data = genetic_data.dropna()\n",
    "    genetic_data = genetic_data.rename(columns={'ID_REF': 'ID'}).astype({'ID': 'str'})\n",
    "    genetic_data.set_index('ID', inplace=True)\n",
    "\n",
    "    return genetic_data\n"
   ]
  },
  {
   "cell_type": "code",
   "execution_count": 43,
   "metadata": {
    "ExecuteTime": {
     "end_time": "2024-01-10T21:40:13.509252107Z",
     "start_time": "2024-01-10T21:40:13.468235630Z"
    },
    "collapsed": false
   },
   "outputs": [
    {
     "data": {
      "text/html": [
       "<div>\n",
       "<style scoped>\n",
       "    .dataframe tbody tr th:only-of-type {\n",
       "        vertical-align: middle;\n",
       "    }\n",
       "\n",
       "    .dataframe tbody tr th {\n",
       "        vertical-align: top;\n",
       "    }\n",
       "\n",
       "    .dataframe thead th {\n",
       "        text-align: right;\n",
       "    }\n",
       "</style>\n",
       "<table border=\"1\" class=\"dataframe\">\n",
       "  <thead>\n",
       "    <tr style=\"text-align: right;\">\n",
       "      <th></th>\n",
       "      <th>GSM1481100</th>\n",
       "      <th>GSM1481101</th>\n",
       "      <th>GSM1481102</th>\n",
       "      <th>GSM1481103</th>\n",
       "      <th>GSM1481104</th>\n",
       "      <th>GSM1481105</th>\n",
       "      <th>GSM1481106</th>\n",
       "      <th>GSM1481107</th>\n",
       "      <th>GSM1481108</th>\n",
       "      <th>GSM1481109</th>\n",
       "      <th>...</th>\n",
       "      <th>GSM1481209</th>\n",
       "      <th>GSM1481210</th>\n",
       "      <th>GSM1481211</th>\n",
       "      <th>GSM1481212</th>\n",
       "      <th>GSM1481213</th>\n",
       "      <th>GSM1481214</th>\n",
       "      <th>GSM1481215</th>\n",
       "      <th>GSM1481216</th>\n",
       "      <th>GSM1481217</th>\n",
       "      <th>GSM1481218</th>\n",
       "    </tr>\n",
       "    <tr>\n",
       "      <th>ID</th>\n",
       "      <th></th>\n",
       "      <th></th>\n",
       "      <th></th>\n",
       "      <th></th>\n",
       "      <th></th>\n",
       "      <th></th>\n",
       "      <th></th>\n",
       "      <th></th>\n",
       "      <th></th>\n",
       "      <th></th>\n",
       "      <th></th>\n",
       "      <th></th>\n",
       "      <th></th>\n",
       "      <th></th>\n",
       "      <th></th>\n",
       "      <th></th>\n",
       "      <th></th>\n",
       "      <th></th>\n",
       "      <th></th>\n",
       "      <th></th>\n",
       "      <th></th>\n",
       "    </tr>\n",
       "  </thead>\n",
       "  <tbody>\n",
       "    <tr>\n",
       "      <th>7A5</th>\n",
       "      <td>122.4265</td>\n",
       "      <td>131.7769</td>\n",
       "      <td>119.4328</td>\n",
       "      <td>118.3859</td>\n",
       "      <td>119.1651</td>\n",
       "      <td>127.3848</td>\n",
       "      <td>127.8088</td>\n",
       "      <td>124.0155</td>\n",
       "      <td>122.6773</td>\n",
       "      <td>123.7244</td>\n",
       "      <td>...</td>\n",
       "      <td>126.0626</td>\n",
       "      <td>133.5475</td>\n",
       "      <td>129.8606</td>\n",
       "      <td>120.7393</td>\n",
       "      <td>126.4916</td>\n",
       "      <td>137.7973</td>\n",
       "      <td>129.5558</td>\n",
       "      <td>121.2862</td>\n",
       "      <td>139.3874</td>\n",
       "      <td>122.1245</td>\n",
       "    </tr>\n",
       "    <tr>\n",
       "      <th>A1BG</th>\n",
       "      <td>878.7355</td>\n",
       "      <td>886.0469</td>\n",
       "      <td>949.6923</td>\n",
       "      <td>747.9395</td>\n",
       "      <td>874.6235</td>\n",
       "      <td>653.9559</td>\n",
       "      <td>831.1398</td>\n",
       "      <td>722.0098</td>\n",
       "      <td>1030.2450</td>\n",
       "      <td>832.8301</td>\n",
       "      <td>...</td>\n",
       "      <td>1334.3190</td>\n",
       "      <td>752.4141</td>\n",
       "      <td>907.3934</td>\n",
       "      <td>941.5509</td>\n",
       "      <td>1106.6530</td>\n",
       "      <td>1092.7820</td>\n",
       "      <td>1272.8460</td>\n",
       "      <td>1060.9150</td>\n",
       "      <td>936.6741</td>\n",
       "      <td>1060.6010</td>\n",
       "    </tr>\n",
       "    <tr>\n",
       "      <th>A1CF</th>\n",
       "      <td>130.8007</td>\n",
       "      <td>132.5247</td>\n",
       "      <td>141.0343</td>\n",
       "      <td>138.1274</td>\n",
       "      <td>144.6797</td>\n",
       "      <td>130.9009</td>\n",
       "      <td>143.6457</td>\n",
       "      <td>144.2968</td>\n",
       "      <td>140.4412</td>\n",
       "      <td>135.7075</td>\n",
       "      <td>...</td>\n",
       "      <td>139.9214</td>\n",
       "      <td>136.9379</td>\n",
       "      <td>142.3792</td>\n",
       "      <td>151.1532</td>\n",
       "      <td>148.4035</td>\n",
       "      <td>154.3208</td>\n",
       "      <td>143.4808</td>\n",
       "      <td>139.8078</td>\n",
       "      <td>134.4173</td>\n",
       "      <td>134.2816</td>\n",
       "    </tr>\n",
       "    <tr>\n",
       "      <th>A26C3</th>\n",
       "      <td>119.3683</td>\n",
       "      <td>114.8981</td>\n",
       "      <td>118.6767</td>\n",
       "      <td>112.5082</td>\n",
       "      <td>108.6636</td>\n",
       "      <td>116.0207</td>\n",
       "      <td>113.3711</td>\n",
       "      <td>116.4169</td>\n",
       "      <td>113.9820</td>\n",
       "      <td>112.3190</td>\n",
       "      <td>...</td>\n",
       "      <td>118.6542</td>\n",
       "      <td>118.0074</td>\n",
       "      <td>123.5586</td>\n",
       "      <td>111.4767</td>\n",
       "      <td>120.3181</td>\n",
       "      <td>118.5838</td>\n",
       "      <td>120.2557</td>\n",
       "      <td>123.6906</td>\n",
       "      <td>115.9226</td>\n",
       "      <td>119.2732</td>\n",
       "    </tr>\n",
       "    <tr>\n",
       "      <th>A2BP1</th>\n",
       "      <td>119.3083</td>\n",
       "      <td>117.0984</td>\n",
       "      <td>115.3259</td>\n",
       "      <td>120.6321</td>\n",
       "      <td>117.4373</td>\n",
       "      <td>108.4148</td>\n",
       "      <td>115.9964</td>\n",
       "      <td>113.0969</td>\n",
       "      <td>119.0173</td>\n",
       "      <td>117.6048</td>\n",
       "      <td>...</td>\n",
       "      <td>121.1456</td>\n",
       "      <td>118.6000</td>\n",
       "      <td>119.0057</td>\n",
       "      <td>127.2296</td>\n",
       "      <td>119.4768</td>\n",
       "      <td>117.4570</td>\n",
       "      <td>116.3420</td>\n",
       "      <td>119.2073</td>\n",
       "      <td>122.7845</td>\n",
       "      <td>121.0886</td>\n",
       "    </tr>\n",
       "  </tbody>\n",
       "</table>\n",
       "<p>5 rows × 119 columns</p>\n",
       "</div>"
      ],
      "text/plain": [
       "       GSM1481100  GSM1481101  GSM1481102  GSM1481103  GSM1481104  GSM1481105  \\\n",
       "ID                                                                              \n",
       "7A5      122.4265    131.7769    119.4328    118.3859    119.1651    127.3848   \n",
       "A1BG     878.7355    886.0469    949.6923    747.9395    874.6235    653.9559   \n",
       "A1CF     130.8007    132.5247    141.0343    138.1274    144.6797    130.9009   \n",
       "A26C3    119.3683    114.8981    118.6767    112.5082    108.6636    116.0207   \n",
       "A2BP1    119.3083    117.0984    115.3259    120.6321    117.4373    108.4148   \n",
       "\n",
       "       GSM1481106  GSM1481107  GSM1481108  GSM1481109  ...  GSM1481209  \\\n",
       "ID                                                     ...               \n",
       "7A5      127.8088    124.0155    122.6773    123.7244  ...    126.0626   \n",
       "A1BG     831.1398    722.0098   1030.2450    832.8301  ...   1334.3190   \n",
       "A1CF     143.6457    144.2968    140.4412    135.7075  ...    139.9214   \n",
       "A26C3    113.3711    116.4169    113.9820    112.3190  ...    118.6542   \n",
       "A2BP1    115.9964    113.0969    119.0173    117.6048  ...    121.1456   \n",
       "\n",
       "       GSM1481210  GSM1481211  GSM1481212  GSM1481213  GSM1481214  GSM1481215  \\\n",
       "ID                                                                              \n",
       "7A5      133.5475    129.8606    120.7393    126.4916    137.7973    129.5558   \n",
       "A1BG     752.4141    907.3934    941.5509   1106.6530   1092.7820   1272.8460   \n",
       "A1CF     136.9379    142.3792    151.1532    148.4035    154.3208    143.4808   \n",
       "A26C3    118.0074    123.5586    111.4767    120.3181    118.5838    120.2557   \n",
       "A2BP1    118.6000    119.0057    127.2296    119.4768    117.4570    116.3420   \n",
       "\n",
       "       GSM1481216  GSM1481217  GSM1481218  \n",
       "ID                                         \n",
       "7A5      121.2862    139.3874    122.1245  \n",
       "A1BG    1060.9150    936.6741   1060.6010  \n",
       "A1CF     139.8078    134.4173    134.2816  \n",
       "A26C3    123.6906    115.9226    119.2732  \n",
       "A2BP1    119.2073    122.7845    121.0886  \n",
       "\n",
       "[5 rows x 119 columns]"
      ]
     },
     "execution_count": 43,
     "metadata": {},
     "output_type": "execute_result"
    }
   ],
   "source": [
    "genetic_data = get_genetic_data(matrix_file)\n",
    "genetic_data.head()"
   ]
  },
  {
   "cell_type": "code",
   "execution_count": 44,
   "metadata": {
    "ExecuteTime": {
     "end_time": "2024-01-10T21:40:14.107050774Z",
     "start_time": "2024-01-10T21:40:14.090977173Z"
    },
    "collapsed": false
   },
   "outputs": [
    {
     "data": {
      "text/plain": [
       "['7A5',\n",
       " 'A1BG',\n",
       " 'A1CF',\n",
       " 'A26C3',\n",
       " 'A2BP1',\n",
       " 'A2LD1',\n",
       " 'A2M',\n",
       " 'A2ML1',\n",
       " 'A3GALT2',\n",
       " 'A4GALT',\n",
       " 'A4GNT',\n",
       " 'AAA1',\n",
       " 'AAAS',\n",
       " 'AACS',\n",
       " 'AACSL',\n",
       " 'AADAC',\n",
       " 'AADACL1',\n",
       " 'AADACL2',\n",
       " 'AADACL3',\n",
       " 'AADACL4']"
      ]
     },
     "execution_count": 44,
     "metadata": {},
     "output_type": "execute_result"
    }
   ],
   "source": [
    "gene_row_ids = genetic_data.index[:20].tolist()\n",
    "gene_row_ids"
   ]
  },
  {
   "cell_type": "markdown",
   "metadata": {
    "ExecuteTime": {
     "end_time": "2023-12-31T03:30:41.595335164Z",
     "start_time": "2023-12-31T03:30:41.513232329Z"
    },
    "collapsed": false
   },
   "source": [
    "Check if the gene dataset requires mapping to get the gene symbols corresponding to each data row."
   ]
  },
  {
   "cell_type": "markdown",
   "metadata": {
    "collapsed": false
   },
   "source": [
    "Reference prompt:"
   ]
  },
  {
   "cell_type": "code",
   "execution_count": 45,
   "metadata": {
    "ExecuteTime": {
     "end_time": "2024-01-10T21:40:16.445692615Z",
     "start_time": "2024-01-10T21:40:16.435117932Z"
    },
    "collapsed": false
   },
   "outputs": [
    {
     "data": {
      "text/plain": [
       "\"\\nBelow are the row headers of a gene expression dataset in GEO. Based on your biomedical knowledge, are they human gene symbols, or are they some other identifiers that need to be mapped to gene symbols? Your answer should be concluded by starting a new line and strictly following this format:\\nrequires_gene_mapping = (True or False)\\n\\nRow headers:\\n['7A5', 'A1BG', 'A1CF', 'A26C3', 'A2BP1', 'A2LD1', 'A2M', 'A2ML1', 'A3GALT2', 'A4GALT', 'A4GNT', 'AAA1', 'AAAS', 'AACS', 'AACSL', 'AADAC', 'AADACL1', 'AADACL2', 'AADACL3', 'AADACL4']\\n\""
      ]
     },
     "execution_count": 45,
     "metadata": {},
     "output_type": "execute_result"
    }
   ],
   "source": [
    "f'''\n",
    "Below are the row headers of a gene expression dataset in GEO. Based on your biomedical knowledge, are they human gene symbols, or are they some other identifiers that need to be mapped to gene symbols? Your answer should be concluded by starting a new line and strictly following this format:\n",
    "requires_gene_mapping = (True or False)\n",
    "\n",
    "Row headers:\n",
    "{gene_row_ids}\n",
    "'''"
   ]
  },
  {
   "cell_type": "markdown",
   "metadata": {
    "collapsed": false
   },
   "source": [
    "\n",
    "If not required, jump directly to the gene normalization step"
   ]
  },
  {
   "cell_type": "code",
   "execution_count": 46,
   "metadata": {
    "ExecuteTime": {
     "end_time": "2024-01-10T21:40:17.098774002Z",
     "start_time": "2024-01-10T21:40:17.094437169Z"
    },
    "collapsed": false
   },
   "outputs": [],
   "source": [
    "requires_gene_mapping = False"
   ]
  },
  {
   "cell_type": "code",
   "execution_count": 47,
   "metadata": {
    "ExecuteTime": {
     "end_time": "2024-01-10T21:40:17.399324928Z",
     "start_time": "2024-01-10T21:40:17.381475568Z"
    },
    "collapsed": false
   },
   "outputs": [],
   "source": [
    "if requires_gene_mapping:\n",
    "    gene_annotation = get_gene_annotation(soft_file)\n",
    "    gene_annotation_summary = preview_df(gene_annotation)\n",
    "    print(gene_annotation_summary)"
   ]
  },
  {
   "cell_type": "markdown",
   "metadata": {
    "ExecuteTime": {
     "end_time": "2023-12-31T03:58:04.978931927Z",
     "start_time": "2023-12-31T03:58:04.966328339Z"
    },
    "collapsed": false
   },
   "source": [
    "Observe the first few cells in the ID column of the gene annotation dataframe, to find the names of columns that store the gene probe IDs and gene symbols respectively.\n",
    "Reference prompt:"
   ]
  },
  {
   "cell_type": "code",
   "execution_count": 48,
   "metadata": {
    "ExecuteTime": {
     "end_time": "2024-01-10T21:40:17.944343822Z",
     "start_time": "2024-01-10T21:40:17.933815553Z"
    },
    "collapsed": false
   },
   "outputs": [],
   "source": [
    "if requires_gene_mapping:\n",
    "    print(f'''\n",
    "    As a biomedical research team, we are analyzing a gene expression dataset, and find that its row headers are some identifiers related to genes:\n",
    "    {gene_row_ids}\n",
    "    To get the mapping from those identifiers to actual gene symbols, we extracted the gene annotation data from a series in the GEO database, and saved it to a Python dictionary. Please read the dictionary, and decide which key stores the identifiers, and which key stores the gene symbols. Please strictly follow this format in your answer:\n",
    "    identifier_key = 'key_name1'\n",
    "    gene_symbol_key = 'key_name2'\n",
    "\n",
    "    Gene annotation dictionary:\n",
    "    {gene_annotation_summary}\n",
    "    ''')"
   ]
  },
  {
   "cell_type": "code",
   "execution_count": 49,
   "metadata": {
    "ExecuteTime": {
     "end_time": "2024-01-10T21:40:18.245811669Z",
     "start_time": "2024-01-10T21:40:18.234480277Z"
    },
    "collapsed": false
   },
   "outputs": [],
   "source": [
    "if requires_gene_mapping:\n",
    "    identifier_key = 'ID'\n",
    "    gene_symbol_key = 'UCSC_RefGene_Name'\n",
    "    gene_mapping = get_gene_mapping(gene_annotation, identifier_key, gene_symbol_key)\n",
    "    genetic_data = apply_gene_mapping(genetic_data, gene_mapping)"
   ]
  },
  {
   "cell_type": "code",
   "execution_count": 50,
   "metadata": {},
   "outputs": [],
   "source": [
    "def normalize_gene_symbols_in_index(gene_df):\n",
    "    \"\"\"Normalize the human gene symbols at the index of a dataframe, and replace the index with its normalized version.\n",
    "    Remove the rows where the index failed to be normalized.\"\"\"\n",
    "    normalized_gene_list = normalize_gene_symbols(gene_df.index.tolist())\n",
    "    assert len(normalized_gene_list) == len(gene_df.index)\n",
    "    gene_df.index = normalized_gene_list\n",
    "    gene_df = gene_df[gene_df.index.notnull()]\n",
    "    return gene_df"
   ]
  },
  {
   "cell_type": "code",
   "execution_count": 51,
   "metadata": {},
   "outputs": [],
   "source": [
    "def normalize_gene_symbols(gene_symbols, batch_size=1000):\n",
    "    \"\"\"Normalize human gene symbols in batches using the 'mygenes' library\"\"\"\n",
    "    mg = mygene.MyGeneInfo()\n",
    "    normalized_genes = {}\n",
    "\n",
    "    # Process in batches\n",
    "    for i in range(0, len(gene_symbols), batch_size):\n",
    "        batch = gene_symbols[i:i + batch_size]\n",
    "        results = mg.querymany(batch, scopes='symbol', fields='symbol', species='human')\n",
    "\n",
    "        # Update the normalized_genes dictionary with results from this batch\n",
    "        for gene in results:\n",
    "            normalized_genes[gene['query']] = gene.get('symbol', None)\n",
    "\n",
    "    # Return the normalized symbols in the same order as the input\n",
    "    return [normalized_genes.get(symbol) for symbol in gene_symbols]"
   ]
  },
  {
   "cell_type": "code",
   "execution_count": 52,
   "metadata": {},
   "outputs": [],
   "source": [
    "import mygene"
   ]
  },
  {
   "cell_type": "code",
   "execution_count": 53,
   "metadata": {
    "ExecuteTime": {
     "end_time": "2024-01-10T21:40:20.559860684Z",
     "start_time": "2024-01-10T21:40:18.521711414Z"
    },
    "collapsed": false
   },
   "outputs": [
    {
     "name": "stderr",
     "output_type": "stream",
     "text": [
      "14 input query terms found dup hits:\t[('ABCC13', 2), ('ABCC6P1', 2), ('ABCC6P2', 3), ('ADAM6', 3), ('AGAP11', 2), ('AK2P2', 2), ('ALOX12P\n",
      "94 input query terms found no hit:\t['7A5', 'A26C3', 'A2BP1', 'A2LD1', 'AACSL', 'AADACL1', 'AARS', 'ABCA11', 'ABHD7', 'ABHD9', 'ABP1', '\n",
      "7 input query terms found dup hits:\t[('ATP6AP1L', 2), ('ATXN8OS', 2), ('BAGE2', 2), ('BMP2KL', 2), ('BRD7P2', 2), ('BRD7P3', 2), ('BRI3P\n",
      "370 input query terms found no hit:\t['ARMC4', 'ARMET', 'ARNTL', 'ARNTL2', 'ARP11', 'ARPM1', 'ARPM2', 'ARPP-21', 'ARS2', 'ARSE', 'ARVP612\n",
      "2 input query terms found dup hits:\t[('C2ORF83', 2), ('C5ORF60', 2)]\n",
      "812 input query terms found no hit:\t['C15ORF51', 'C15ORF52', 'C15ORF53', 'C15ORF54', 'C15ORF55', 'C15ORF56', 'C15ORF57', 'C15ORF58', 'C1\n",
      "8 input query terms found dup hits:\t[('CATSPER2P1', 2), ('CCDC144NL', 2), ('CCNYL2', 2), ('CCNYL3', 2), ('CCT6P1', 2), ('CDR1', 2), ('CE\n",
      "126 input query terms found no hit:\t['CA5BP', 'CABC1', 'CAMSAP1L1', 'CARD17', 'CARKD', 'CARS', 'CART1', 'CASC1', 'CASC4', 'CASC5', 'CASR\n",
      "5 input query terms found dup hits:\t[('CLEC4GP1', 2), ('COPG2IT1', 2), ('CXADRP2', 3), ('CXADRP3', 2), ('CYP4Z2P', 2)]\n",
      "119 input query terms found no hit:\t['CLECL1', 'CLK2P', 'CLLU1OS', 'CLRN1OS', 'CMAH', 'CMYA3', 'CNIH', 'CNO', 'CNTD2', 'COBRA1', 'COL28'\n",
      "12 input query terms found dup hits:\t[('DEFB117', 2), ('DEFB122', 2), ('DHRS4L1', 3), ('DIRC1', 2), ('DLEU2L', 2), ('DNM1P35', 2), ('DPRX\n",
      "135 input query terms found no hit:\t['DEFB109', 'DEFB109P1', 'DEFB130', 'DEFB131', 'DEFB137', 'DEFB32', 'DEFB4', 'DEM1', 'DEPDC6', 'DFNA\n",
      "7 input query terms found dup hits:\t[('FAM197Y2', 3), ('FAM41AY2', 2), ('FAM74A3', 2), ('FAM90A2P', 2), ('FAM90A6P', 3), ('FCGR2C', 2), \n",
      "493 input query terms found no hit:\t['EXOC3L', 'EXOD1', 'FABP5L2', 'FABP5L3', 'FABP5L7', 'FAIM3', 'FALZ', 'FAM100A', 'FAM100B', 'FAM101A\n",
      "7 input query terms found dup hits:\t[('FMO9P', 2), ('FOLH1B', 2), ('GABPAP', 2), ('GAGE12B', 2), ('GGT3P', 2), ('GGT8P', 2), ('GLRA4', 2\n",
      "223 input query terms found no hit:\t['FLJ41821', 'FLJ41841', 'FLJ41856', 'FLJ41941', 'FLJ42102', 'FLJ42133', 'FLJ42177', 'FLJ42220', 'FL\n",
      "11 input query terms found dup hits:\t[('GTF2H2B', 2), ('GTF2IP1', 2), ('HAR1A', 2), ('HBBP1', 2), ('HBD', 2), ('HCG4', 9), ('HERC2P2', 3)\n",
      "455 input query terms found no hit:\t['GRAMD2', 'GRAMD3', 'GRASP', 'GRINL1A', 'GRLF1', 'GRRP1', 'GS85', 'GSDM1', 'GSG2', 'GSTM1L', 'GSTTP\n",
      "1000 input query terms found no hit:\t['HS.146013', 'HS.146184', 'HS.146561', 'HS.146586', 'HS.146595', 'HS.146614', 'HS.146724', 'HS.1467\n",
      "1000 input query terms found no hit:\t['HS.526948', 'HS.527071', 'HS.527174', 'HS.527194', 'HS.527241', 'HS.527387', 'HS.527515', 'HS.5275\n",
      "982 input query terms found no hit:\t['HS.561625', 'HS.561632', 'HS.561633', 'HS.561644', 'HS.561656', 'HS.561679', 'HS.561735', 'HS.5617\n",
      "8 input query terms found dup hits:\t[('HSD17B7P2', 2), ('HSP90AB2P', 2), ('HSP90AB4P', 2), ('HSP90AB6P', 2), ('HSP90B3P', 2), ('HSPA7', \n",
      "239 input query terms found no hit:\t['HSFYP1', 'HSGT1', 'HSN2', 'HSPBL2', 'HSPC047', 'HSPC072', 'HSPC111', 'HSPC157', 'HSPC159', 'HSPC17\n",
      "17 input query terms found dup hits:\t[('KIR3DP1', 10), ('KIR3DX1', 5), ('KLKP1', 2), ('KRT126P', 2), ('KRT17P3', 2), ('KRT18P13', 2), ('K\n",
      "370 input query terms found no hit:\t['KIAA2018', 'KIAA2022', 'KIAA2026', 'KILLIN', 'KIRREL', 'KLHDC5', 'KLKBL4', 'KLRA1', 'KLRAQ1', 'KRT\n",
      "947 input query terms found no hit:\t['LOC100129067', 'LOC100129070', 'LOC100129076', 'LOC100129077', 'LOC100129081', 'LOC100129083', 'LO\n",
      "976 input query terms found no hit:\t['LOC100132329', 'LOC100132330', 'LOC100132336', 'LOC100132339', 'LOC100132340', 'LOC100132345', 'LO\n",
      "931 input query terms found no hit:\t['LOC147710', 'LOC147727', 'LOC147804', 'LOC147975', 'LOC148003', 'LOC148137', 'LOC148203', 'LOC1484\n",
      "935 input query terms found no hit:\t['LOC400968', 'LOC400986', 'LOC400987', 'LOC401002', 'LOC401007', 'LOC401010', 'LOC401019', 'LOC4010\n",
      "966 input query terms found no hit:\t['LOC642693', 'LOC642698', 'LOC642701', 'LOC642702', 'LOC642707', 'LOC642711', 'LOC642712', 'LOC6427\n",
      "955 input query terms found no hit:\t['LOC644907', 'LOC644908', 'LOC644912', 'LOC644914', 'LOC644916', 'LOC644917', 'LOC644919', 'LOC6449\n",
      "994 input query terms found no hit:\t['LOC647407', 'LOC647413', 'LOC647415', 'LOC647417', 'LOC647435', 'LOC647436', 'LOC647439', 'LOC6474\n",
      "992 input query terms found no hit:\t['LOC650995', 'LOC651004', 'LOC651006', 'LOC651007', 'LOC651008', 'LOC651012', 'LOC651017', 'LOC6510\n",
      "955 input query terms found no hit:\t['LOC653683', 'LOC653684', 'LOC653686', 'LOC653687', 'LOC653689', 'LOC653692', 'LOC653695', 'LOC6536\n",
      "5 input query terms found dup hits:\t[('LPAL2', 2), ('LRP5L', 2), ('LY6G6E', 8), ('LYPLA2P1', 6), ('MALAT1', 2)]\n",
      "498 input query terms found no hit:\t['LOC729789', 'LOC729792', 'LOC729793', 'LOC729798', 'LOC729799', 'LOC729806', 'LOC729809', 'LOC7298\n",
      "8 input query terms found dup hits:\t[('MEG8', 2), ('MEIS3P1', 2), ('MIR320A', 2), ('MIR320B1', 2), ('MIR320B2', 2), ('MIR320C1', 2), ('M\n",
      "181 input query terms found no hit:\t['MCMDC1', 'MDS1', 'MESDC1', 'MESDC2', 'METT10D', 'METT11D1', 'METT5D1', 'METTL10', 'METTL11A', 'MET\n",
      "14 input query terms found dup hits:\t[('MORF4', 2), ('MRS2P2', 2), ('MSLNL', 2), ('MSTO2P', 2), ('MSX2P1', 2), ('MT1IP', 2), ('MT1JP', 2)\n",
      "118 input query terms found no hit:\t['MORG1', 'MOSC1', 'MOSC2', 'MOXD2', 'MPP5', 'MPP6', 'MRC1L1', 'MRE11A', 'MRLC2', 'MRP63', 'MRPS36',\n",
      "13 input query terms found dup hits:\t[('NUDT9P1', 2), ('NXF4', 2), ('NXF5', 2), ('OFCC1', 2), ('OR10J3', 3), ('OR2A9P', 2), ('OR6W1P', 3)\n",
      "70 input query terms found no hit:\t['NRD1', 'NS3BP', 'NSBP1', 'NSUN5B', 'NSUN5C', 'NT5C3', 'NT5C3L', 'NTF5', 'NUDT16P', 'NUDT4P1', 'NUP\n",
      "17 input query terms found dup hits:\t[('PDZK1P1', 2), ('PGM5P2', 2), ('PI4KAP1', 2), ('PI4KAP2', 2), ('PIPSL', 2), ('PKD1P1', 3), ('PLGLA\n",
      "95 input query terms found no hit:\t['PCDP1', 'PCNX', 'PCNXL2', 'PCNXL3', 'PCTK1', 'PCTK2', 'PCTK3', 'PDDC1', 'PDIA3P', 'PDXDC2', 'PDZD3\n",
      "15 input query terms found dup hits:\t[('PSORS1C3', 8), ('PTTG3P', 2), ('PVT1', 2), ('PYY2', 2), ('RAB1C', 2), ('RAET1K', 2), ('RAP1BL', 2\n",
      "93 input query terms found no hit:\t['PRIM2A', 'PRKCABP', 'PRKCB1', 'PRKCDBP', 'PRKRIR', 'PRMT10', 'PRNPIP', 'PRO0132', 'PRO0611', 'PRO0\n",
      "20 input query terms found dup hits:\t[('RNF138P1', 2), ('RNF5P1', 2), ('RP9P', 2), ('RPL12P6', 2), ('RPL23AP53', 2), ('RPL23AP7', 2), ('R\n",
      "129 input query terms found no hit:\t['RNASEN', 'RNF12', 'RNF144', 'RNF160', 'RNF165', 'RNF190', 'RNF216L', 'RNF219', 'RNMTL1', 'RNPC2', \n",
      "62 input query terms found dup hits:\t[('SIGLEC5', 2), ('SLC6A10P', 2), ('SLC7A5P1', 2), ('SNHG5', 2), ('SNHG6', 2), ('SNHG8', 2), ('SNHG9\n",
      "48 input query terms found no hit:\t['SHRM', 'SIGLECP3', 'SIKE', 'SILV', 'SIP1', 'SIVA', 'SKCG-1', 'SKIP', 'SKIV2L', 'SKIV2L2', 'SKP1A',\n",
      "13 input query terms found dup hits:\t[('SPRR2C', 2), ('SRP14P1', 2), ('ST20', 2), ('STAG3L1', 2), ('STAG3L2', 2), ('STAG3L3', 2), ('STAG3\n",
      "92 input query terms found no hit:\t['SPAG4L', 'SPANXB2', 'SPANXE', 'SPANXF1', 'SPATA5', 'SPATA5L1', 'SPERT', 'SPG20', 'SPG3A', 'SPHAR',\n",
      "11 input query terms found dup hits:\t[('TMEM191A', 2), ('TNXA', 5), ('TOP1P1', 2), ('TP53TG1', 2), ('TRIM16L', 2), ('TRPC2', 2), ('TTTY11\n",
      "114 input query terms found no hit:\t['TINP1', 'TM7SF4', 'TMCO7', 'TMED10P', 'TMEM1', 'TMEM103', 'TMEM110', 'TMEM111', 'TMEM118', 'TMEM13\n",
      "8 input query terms found dup hits:\t[('UBE2MP1', 2), ('UBTFL2', 2), ('UBTFL5', 3), ('UOX', 2), ('VENTXP7', 2), ('WASH2P', 2), ('WASH3P',\n",
      "128 input query terms found no hit:\t['U1SNRNPBP', 'U2AF1L2', 'U58', 'UBE1', 'UBE1C', 'UBE1DC1', 'UBE2CBP', 'UBE2QP2', 'UBXD7', 'UCHL5IP'\n",
      "2 input query terms found dup hits:\t[('ZNF658B', 2), ('ZNF781', 2)]\n",
      "50 input query terms found no hit:\t['ZNF137', 'ZNF167', 'ZNF187', 'ZNF192', 'ZNF193', 'ZNF204', 'ZNF238', 'ZNF252', 'ZNF259', 'ZNF271',\n"
     ]
    }
   ],
   "source": [
    "if NORMALIZE_GENE:\n",
    "    genetic_data = normalize_gene_symbols_in_index(genetic_data)"
   ]
  },
  {
   "cell_type": "code",
   "execution_count": 54,
   "metadata": {},
   "outputs": [],
   "source": [
    "def geo_merge_clinical_genetic_data(clinical_df, genetic_df):\n",
    "    \"\"\"\n",
    "    Merge the clinical features and gene expression features from two dataframes into one dataframe\n",
    "    \"\"\"\n",
    "    if 'ID' in genetic_df.columns:\n",
    "        genetic_df = genetic_df.rename(columns={'ID': 'Gene'})\n",
    "    if 'Gene' in genetic_df.columns:\n",
    "        genetic_df = genetic_df.set_index('Gene')\n",
    "    merged_data = pd.concat([clinical_df, genetic_df], axis=0).T.dropna()\n",
    "    return merged_data\n"
   ]
  },
  {
   "cell_type": "code",
   "execution_count": 55,
   "metadata": {
    "ExecuteTime": {
     "end_time": "2024-01-10T21:40:20.572778564Z",
     "start_time": "2024-01-10T21:40:20.565101065Z"
    },
    "collapsed": false
   },
   "outputs": [],
   "source": [
    "merged_data = geo_merge_clinical_genetic_data(selected_clinical_data, genetic_data)\n",
    "# The preprocessing runs through, which means is_available should be True\n",
    "is_available = True"
   ]
  },
  {
   "cell_type": "code",
   "execution_count": 56,
   "metadata": {
    "ExecuteTime": {
     "end_time": "2024-01-10T21:40:20.595385887Z",
     "start_time": "2024-01-10T21:40:20.574630883Z"
    },
    "collapsed": false
   },
   "outputs": [
    {
     "name": "stdout",
     "output_type": "stream",
     "text": [
      "The merged dataset contains 119 samples.\n"
     ]
    }
   ],
   "source": [
    "print(f\"The merged dataset contains {len(merged_data)} samples.\")"
   ]
  },
  {
   "cell_type": "code",
   "execution_count": 57,
   "metadata": {},
   "outputs": [],
   "source": [
    "def judge_and_remove_biased_features(df, trait, trait_type):\n",
    "    assert trait_type in [\"binary\", \"continuous\"], f\"The trait must be either a binary or a continuous variable!\"\n",
    "    if trait_type == \"binary\":\n",
    "        trait_biased = judge_binary_variable_biased(df, trait)\n",
    "    else:\n",
    "        trait_biased = judge_continuous_variable_biased(df, trait)\n",
    "    if trait_biased:\n",
    "        print(f\"The distribution of the feature \\'{trait}\\' in this dataset is severely biased.\\n\")\n",
    "    else:\n",
    "        print(f\"The distribution of the feature \\'{trait}\\' in this dataset is fine.\\n\")\n",
    "    if \"Age\" in df.columns:\n",
    "        age_biased = judge_continuous_variable_biased(df, 'Age')\n",
    "        if age_biased:\n",
    "            print(f\"The distribution of the feature \\'Age\\' in this dataset is severely biased.\\n\")\n",
    "            df = df.drop(columns='Age')\n",
    "        else:\n",
    "            print(f\"The distribution of the feature \\'Age\\' in this dataset is fine.\\n\")\n",
    "    if \"Gender\" in df.columns:\n",
    "        gender_biased = judge_binary_variable_biased(df, 'Gender')\n",
    "        if gender_biased:\n",
    "            print(f\"The distribution of the feature \\'Gender\\' in this dataset is severely biased.\\n\")\n",
    "            df = df.drop(columns='Gender')\n",
    "        else:\n",
    "            print(f\"The distribution of the feature \\'Gender\\' in this dataset is fine.\\n\")\n",
    "\n",
    "    return trait_biased, df\n"
   ]
  },
  {
   "cell_type": "code",
   "execution_count": 58,
   "metadata": {},
   "outputs": [],
   "source": [
    "def judge_binary_variable_biased(dataframe, col_name, min_proportion=0.1, min_num=5):\n",
    "    \"\"\"\n",
    "    Check if the distribution of a binary variable in the dataset is too biased to be usable for analysis\n",
    "    :param dataframe:\n",
    "    :param col_name:\n",
    "    :param min_proportion:\n",
    "    :param min_num:\n",
    "    :return:\n",
    "    \"\"\"\n",
    "    label_counter = dataframe[col_name].value_counts()\n",
    "    total_samples = len(dataframe)\n",
    "    rare_label_num = label_counter.min()\n",
    "    rare_label = label_counter.idxmin()\n",
    "    rare_label_proportion = rare_label_num / total_samples\n",
    "\n",
    "    print(\n",
    "        f\"For the feature \\'{col_name}\\', the least common label is '{rare_label}' with {rare_label_num} occurrences. This represents {rare_label_proportion:.2%} of the dataset.\")\n",
    "\n",
    "    biased = (len(label_counter) < 2) or ((rare_label_proportion < min_proportion) and (rare_label_num < min_num))\n",
    "    return bool(biased)"
   ]
  },
  {
   "cell_type": "code",
   "execution_count": 60,
   "metadata": {},
   "outputs": [],
   "source": [
    "def judge_continuous_variable_biased(dataframe, col_name):\n",
    "    \"\"\"Check if the distribution of a continuous variable in the dataset is too biased to be usable for analysis.\n",
    "    As a starting point, we consider it biased if all values are the same. For the next step, maybe ask GPT to judge\n",
    "    based on quartile statistics combined with its common sense knowledge about this feature.\n",
    "    \"\"\"\n",
    "    quartiles = dataframe[col_name].quantile([0.25, 0.5, 0.75])\n",
    "    min_value = dataframe[col_name].min()\n",
    "    max_value = dataframe[col_name].max()\n",
    "\n",
    "    # Printing quartile information\n",
    "    print(f\"Quartiles for '{col_name}':\")\n",
    "    print(f\"  25%: {quartiles[0.25]}\")\n",
    "    print(f\"  50% (Median): {quartiles[0.5]}\")\n",
    "    print(f\"  75%: {quartiles[0.75]}\")\n",
    "    print(f\"Min: {min_value}\")\n",
    "    print(f\"Max: {max_value}\")\n",
    "\n",
    "    biased = min_value == max_value\n",
    "\n",
    "    return bool(biased)"
   ]
  },
  {
   "cell_type": "code",
   "execution_count": 61,
   "metadata": {
    "ExecuteTime": {
     "end_time": "2024-01-10T21:40:20.595934649Z",
     "start_time": "2024-01-10T21:40:20.580408525Z"
    },
    "collapsed": false
   },
   "outputs": [
    {
     "name": "stdout",
     "output_type": "stream",
     "text": [
      "For the feature 'Anxiety disorder', the least common label is '0.0' with 11 occurrences. This represents 9.24% of the dataset.\n",
      "The distribution of the feature 'Anxiety disorder' in this dataset is fine.\n",
      "\n",
      "Quartiles for 'Age':\n",
      "  25%: 20.0\n",
      "  50% (Median): 22.0\n",
      "  75%: 24.0\n",
      "Min: 18.0\n",
      "Max: 59.0\n",
      "The distribution of the feature 'Age' in this dataset is fine.\n",
      "\n",
      "For the feature 'Gender', the least common label is '1.0' with 35 occurrences. This represents 29.41% of the dataset.\n",
      "The distribution of the feature 'Gender' in this dataset is fine.\n",
      "\n"
     ]
    },
    {
     "data": {
      "text/plain": [
       "False"
      ]
     },
     "execution_count": 61,
     "metadata": {},
     "output_type": "execute_result"
    }
   ],
   "source": [
    "is_trait_biased, merged_data = judge_and_remove_biased_features(merged_data, TRAIT, trait_type=trait_type)\n",
    "is_trait_biased"
   ]
  },
  {
   "cell_type": "code",
   "execution_count": 62,
   "metadata": {},
   "outputs": [],
   "source": [
    "def save_cohort_info(cohort: str, info_path: str, is_available: bool, is_biased: Optional[bool] = None,\n",
    "                     df: Optional[pd.DataFrame] = None, note: str = '') -> None:\n",
    "    \"\"\"\n",
    "    Add or update information about the usability and quality of a dataset for statistical analysis.\n",
    "\n",
    "    Parameters:\n",
    "    cohort (str): A unique identifier for the dataset.\n",
    "    info_path (str): File path to the JSON file where records are stored.\n",
    "    is_available (bool): Indicates whether both the genetic data and trait data are available in the dataset, and can be\n",
    "     preprocessed into a dataframe.\n",
    "    is_biased (bool, optional): Indicates whether the dataset is too biased to be usable.\n",
    "        Required if `is_available` is True.\n",
    "    df (pandas.DataFrame, optional): The preprocessed dataset. Required if `is_available` is True.\n",
    "    note (str, optional): Additional notes about the dataset.\n",
    "\n",
    "    Returns:\n",
    "    None: The function does not return a value but updates or creates a record in the specified JSON file.\n",
    "    \"\"\"\n",
    "    if is_available:\n",
    "        assert (df is not None) and (is_biased is not None), \"'df' and 'is_biased' should be provided if this cohort \" \\\n",
    "                                                             \"is relevant.\"\n",
    "    is_usable = is_available and (not is_biased)\n",
    "    new_record = {\"is_usable\": is_usable,\n",
    "                  \"is_available\": is_available,\n",
    "                  \"is_biased\": is_biased if is_available else None,\n",
    "                  \"has_age\": \"Age\" in df.columns if is_available else None,\n",
    "                  \"has_gender\": \"Gender\" in df.columns if is_available else None,\n",
    "                  \"sample_size\": len(df) if is_available else None,\n",
    "                  \"note\": note}\n",
    "    \n",
    "    if not os.path.exists(info_path):\n",
    "        with open(info_path, 'w') as file:\n",
    "            json.dump({}, file)\n",
    "        print(f\"A new JSON file was created at: {info_path}\")\n",
    "\n",
    "    with open(info_path, \"r\") as file:\n",
    "        records = json.load(file)\n",
    "    records[cohort] = new_record\n",
    "\n",
    "    temp_path = info_path + \".tmp\"\n",
    "    try:\n",
    "        with open(temp_path, 'w') as file:\n",
    "            json.dump(records, file)\n",
    "        os.replace(temp_path, info_path)\n",
    "\n",
    "    except Exception as e:\n",
    "        print(f\"An error occurred: {e}\")\n",
    "        if os.path.exists(temp_path):\n",
    "            os.remove(temp_path)\n",
    "        raise"
   ]
  },
  {
   "cell_type": "code",
   "execution_count": 63,
   "metadata": {
    "ExecuteTime": {
     "end_time": "2024-01-10T21:40:20.596022151Z",
     "start_time": "2024-01-10T21:40:20.588443384Z"
    },
    "collapsed": false
   },
   "outputs": [],
   "source": [
    "import json\n",
    "if is_available:\n",
    "    save_cohort_info(cohort, JSON_PATH, is_available, is_trait_biased, merged_data, note='')\n",
    "else:\n",
    "    save_cohort_info(cohort, JSON_PATH, is_available)"
   ]
  },
  {
   "cell_type": "code",
   "execution_count": 64,
   "metadata": {
    "ExecuteTime": {
     "end_time": "2024-01-10T21:40:20.681345468Z",
     "start_time": "2024-01-10T21:40:20.591286171Z"
    },
    "collapsed": false
   },
   "outputs": [],
   "source": [
    "merged_data.head()\n",
    "if not is_trait_biased:\n",
    "    merged_data.to_csv(os.path.join(OUTPUT_DIR, cohort + '.csv'), index=False)"
   ]
  },
  {
   "cell_type": "markdown",
   "metadata": {
    "ExecuteTime": {
     "end_time": "2023-12-31T03:58:22.271683755Z",
     "start_time": "2023-12-31T03:58:22.246557674Z"
    },
    "id": "-MTPhRGxJV7I"
   },
   "source": [
    "### 3. Do regression & Cross Validation"
   ]
  },
  {
   "cell_type": "code",
   "execution_count": 65,
   "metadata": {},
   "outputs": [],
   "source": [
    "def read_json_to_dataframe(json_file: str) -> pd.DataFrame:\n",
    "    \"\"\"\n",
    "    Reads a JSON file and converts it into a pandas DataFrame.\n",
    "\n",
    "    Args:\n",
    "    json_file (str): The path to the JSON file containing the data.\n",
    "\n",
    "    Returns:\n",
    "    DataFrame: A pandas DataFrame with the JSON data.\n",
    "    \"\"\"\n",
    "    with open(json_file, 'r') as file:\n",
    "        data = json.load(file)\n",
    "    return pd.DataFrame.from_dict(data, orient='index').reset_index().rename(columns={'index': 'cohort_id'})"
   ]
  },
  {
   "cell_type": "code",
   "execution_count": 66,
   "metadata": {},
   "outputs": [],
   "source": [
    "def filter_and_rank_cohorts(json_file: str, condition: Union[str, None] = None) -> Tuple[\n",
    "    Union[str, None], pd.DataFrame]:\n",
    "    \"\"\"\n",
    "    Reads a JSON file, filters cohorts based on usability and an optional condition, then ranks them by sample size.\n",
    "\n",
    "    Args:\n",
    "    json_file (str): The path to the JSON file containing the data.\n",
    "    condition (str, optional): An additional condition for filtering. If None, only 'is_usable' is considered.\n",
    "\n",
    "    Returns:\n",
    "    Tuple: A tuple containing the best cohort ID (str or None if no suitable cohort is found) and\n",
    "           the filtered and ranked DataFrame.\n",
    "    \"\"\"\n",
    "    # Read the JSON file into a DataFrame\n",
    "    df = read_json_to_dataframe(json_file)\n",
    "\n",
    "    if condition:\n",
    "        filtered_df = df[(df['is_usable'] == True) & (df[condition] == True)]\n",
    "    else:\n",
    "        filtered_df = df[df['is_usable'] == True]\n",
    "\n",
    "    ranked_df = filtered_df.sort_values(by='sample_size', ascending=False)\n",
    "    best_cohort_id = ranked_df.iloc[0]['cohort_id'] if not ranked_df.empty else None\n",
    "\n",
    "    return best_cohort_id, ranked_df\n"
   ]
  },
  {
   "cell_type": "code",
   "execution_count": 67,
   "metadata": {
    "ExecuteTime": {
     "end_time": "2024-01-10T21:40:20.694597045Z",
     "start_time": "2024-01-10T21:40:20.642161512Z"
    },
    "collapsed": false
   },
   "outputs": [
    {
     "data": {
      "text/html": [
       "<div>\n",
       "<style scoped>\n",
       "    .dataframe tbody tr th:only-of-type {\n",
       "        vertical-align: middle;\n",
       "    }\n",
       "\n",
       "    .dataframe tbody tr th {\n",
       "        vertical-align: top;\n",
       "    }\n",
       "\n",
       "    .dataframe thead th {\n",
       "        text-align: right;\n",
       "    }\n",
       "</style>\n",
       "<table border=\"1\" class=\"dataframe\">\n",
       "  <thead>\n",
       "    <tr style=\"text-align: right;\">\n",
       "      <th></th>\n",
       "      <th>cohort_id</th>\n",
       "      <th>is_usable</th>\n",
       "      <th>is_available</th>\n",
       "      <th>is_biased</th>\n",
       "      <th>has_age</th>\n",
       "      <th>has_gender</th>\n",
       "      <th>sample_size</th>\n",
       "      <th>note</th>\n",
       "    </tr>\n",
       "  </thead>\n",
       "  <tbody>\n",
       "    <tr>\n",
       "      <th>0</th>\n",
       "      <td>GSE60491</td>\n",
       "      <td>True</td>\n",
       "      <td>True</td>\n",
       "      <td>False</td>\n",
       "      <td>True</td>\n",
       "      <td>True</td>\n",
       "      <td>119</td>\n",
       "      <td></td>\n",
       "    </tr>\n",
       "  </tbody>\n",
       "</table>\n",
       "</div>"
      ],
      "text/plain": [
       "  cohort_id  is_usable  is_available  is_biased  has_age  has_gender  \\\n",
       "0  GSE60491       True          True      False     True        True   \n",
       "\n",
       "   sample_size note  \n",
       "0          119       "
      ]
     },
     "execution_count": 67,
     "metadata": {},
     "output_type": "execute_result"
    }
   ],
   "source": [
    "# Check the information of usable cohorts\n",
    "best_cohort, ranked_df = filter_and_rank_cohorts(JSON_PATH)\n",
    "ranked_df"
   ]
  },
  {
   "cell_type": "code",
   "execution_count": 68,
   "metadata": {
    "ExecuteTime": {
     "end_time": "2024-01-10T21:40:20.907514912Z",
     "start_time": "2024-01-10T21:40:20.907178250Z"
    },
    "collapsed": false
   },
   "outputs": [
    {
     "data": {
      "text/plain": [
       "'GSE60491'"
      ]
     },
     "execution_count": 68,
     "metadata": {},
     "output_type": "execute_result"
    }
   ],
   "source": [
    "# If both age and gender have available cohorts, select 'age' as the condition.\n",
    "condition = 'Age'\n",
    "filter_column = 'has_' + condition.lower()\n",
    "\n",
    "condition_best_cohort, condition_ranked_df = filter_and_rank_cohorts(JSON_PATH, filter_column)\n",
    "condition_best_cohort"
   ]
  },
  {
   "cell_type": "code",
   "execution_count": 69,
   "metadata": {
    "ExecuteTime": {
     "end_time": "2024-01-10T21:40:21.120075804Z",
     "start_time": "2024-01-10T21:40:21.109376558Z"
    },
    "collapsed": false
   },
   "outputs": [
    {
     "data": {
      "text/html": [
       "<div>\n",
       "<style scoped>\n",
       "    .dataframe tbody tr th:only-of-type {\n",
       "        vertical-align: middle;\n",
       "    }\n",
       "\n",
       "    .dataframe tbody tr th {\n",
       "        vertical-align: top;\n",
       "    }\n",
       "\n",
       "    .dataframe thead th {\n",
       "        text-align: right;\n",
       "    }\n",
       "</style>\n",
       "<table border=\"1\" class=\"dataframe\">\n",
       "  <thead>\n",
       "    <tr style=\"text-align: right;\">\n",
       "      <th></th>\n",
       "      <th>cohort_id</th>\n",
       "      <th>is_usable</th>\n",
       "      <th>is_available</th>\n",
       "      <th>is_biased</th>\n",
       "      <th>has_age</th>\n",
       "      <th>has_gender</th>\n",
       "      <th>sample_size</th>\n",
       "      <th>note</th>\n",
       "    </tr>\n",
       "  </thead>\n",
       "  <tbody>\n",
       "    <tr>\n",
       "      <th>0</th>\n",
       "      <td>GSE60491</td>\n",
       "      <td>True</td>\n",
       "      <td>True</td>\n",
       "      <td>False</td>\n",
       "      <td>True</td>\n",
       "      <td>True</td>\n",
       "      <td>119</td>\n",
       "      <td></td>\n",
       "    </tr>\n",
       "  </tbody>\n",
       "</table>\n",
       "</div>"
      ],
      "text/plain": [
       "  cohort_id  is_usable  is_available  is_biased  has_age  has_gender  \\\n",
       "0  GSE60491       True          True      False     True        True   \n",
       "\n",
       "   sample_size note  \n",
       "0          119       "
      ]
     },
     "execution_count": 69,
     "metadata": {},
     "output_type": "execute_result"
    }
   ],
   "source": [
    "condition_ranked_df.head()"
   ]
  },
  {
   "cell_type": "code",
   "execution_count": 70,
   "metadata": {
    "ExecuteTime": {
     "end_time": "2024-01-10T21:40:27.295070023Z",
     "start_time": "2024-01-10T21:40:21.338515691Z"
    },
    "collapsed": false
   },
   "outputs": [
    {
     "data": {
      "text/html": [
       "<div>\n",
       "<style scoped>\n",
       "    .dataframe tbody tr th:only-of-type {\n",
       "        vertical-align: middle;\n",
       "    }\n",
       "\n",
       "    .dataframe tbody tr th {\n",
       "        vertical-align: top;\n",
       "    }\n",
       "\n",
       "    .dataframe thead th {\n",
       "        text-align: right;\n",
       "    }\n",
       "</style>\n",
       "<table border=\"1\" class=\"dataframe\">\n",
       "  <thead>\n",
       "    <tr style=\"text-align: right;\">\n",
       "      <th></th>\n",
       "      <th>Anxiety disorder</th>\n",
       "      <th>Age</th>\n",
       "      <th>Gender</th>\n",
       "      <th>A1BG</th>\n",
       "      <th>A1CF</th>\n",
       "      <th>A2M</th>\n",
       "      <th>A2ML1</th>\n",
       "      <th>A3GALT2</th>\n",
       "      <th>A4GALT</th>\n",
       "      <th>A4GNT</th>\n",
       "      <th>...</th>\n",
       "      <th>ZWILCH</th>\n",
       "      <th>ZWINT</th>\n",
       "      <th>ZXDA</th>\n",
       "      <th>ZXDB</th>\n",
       "      <th>ZXDC</th>\n",
       "      <th>ZYG11A</th>\n",
       "      <th>ZYG11B</th>\n",
       "      <th>ZYX</th>\n",
       "      <th>ZZEF1</th>\n",
       "      <th>ZZZ3</th>\n",
       "    </tr>\n",
       "  </thead>\n",
       "  <tbody>\n",
       "    <tr>\n",
       "      <th>0</th>\n",
       "      <td>1.0</td>\n",
       "      <td>21.0</td>\n",
       "      <td>0.0</td>\n",
       "      <td>878.7355</td>\n",
       "      <td>130.8007</td>\n",
       "      <td>98.22960</td>\n",
       "      <td>120.8270</td>\n",
       "      <td>127.7400</td>\n",
       "      <td>107.5727</td>\n",
       "      <td>203.9451</td>\n",
       "      <td>...</td>\n",
       "      <td>143.9445</td>\n",
       "      <td>142.8054</td>\n",
       "      <td>137.5964</td>\n",
       "      <td>276.6226</td>\n",
       "      <td>286.5479</td>\n",
       "      <td>117.3781</td>\n",
       "      <td>243.3207</td>\n",
       "      <td>143.0981</td>\n",
       "      <td>126.1316</td>\n",
       "      <td>174.5524</td>\n",
       "    </tr>\n",
       "    <tr>\n",
       "      <th>1</th>\n",
       "      <td>1.0</td>\n",
       "      <td>22.0</td>\n",
       "      <td>1.0</td>\n",
       "      <td>886.0469</td>\n",
       "      <td>132.5247</td>\n",
       "      <td>107.48750</td>\n",
       "      <td>112.3008</td>\n",
       "      <td>133.3795</td>\n",
       "      <td>102.2422</td>\n",
       "      <td>252.5950</td>\n",
       "      <td>...</td>\n",
       "      <td>141.7784</td>\n",
       "      <td>155.8628</td>\n",
       "      <td>132.0846</td>\n",
       "      <td>288.0483</td>\n",
       "      <td>256.2910</td>\n",
       "      <td>116.3579</td>\n",
       "      <td>252.8782</td>\n",
       "      <td>138.5269</td>\n",
       "      <td>117.8299</td>\n",
       "      <td>185.8810</td>\n",
       "    </tr>\n",
       "    <tr>\n",
       "      <th>2</th>\n",
       "      <td>1.0</td>\n",
       "      <td>21.0</td>\n",
       "      <td>0.0</td>\n",
       "      <td>949.6923</td>\n",
       "      <td>141.0343</td>\n",
       "      <td>94.14699</td>\n",
       "      <td>118.4021</td>\n",
       "      <td>122.5672</td>\n",
       "      <td>105.2472</td>\n",
       "      <td>234.2607</td>\n",
       "      <td>...</td>\n",
       "      <td>143.6750</td>\n",
       "      <td>148.7864</td>\n",
       "      <td>128.6895</td>\n",
       "      <td>290.3251</td>\n",
       "      <td>250.7705</td>\n",
       "      <td>112.9105</td>\n",
       "      <td>236.6002</td>\n",
       "      <td>140.7121</td>\n",
       "      <td>112.9356</td>\n",
       "      <td>170.8842</td>\n",
       "    </tr>\n",
       "    <tr>\n",
       "      <th>3</th>\n",
       "      <td>1.0</td>\n",
       "      <td>21.0</td>\n",
       "      <td>1.0</td>\n",
       "      <td>747.9395</td>\n",
       "      <td>138.1274</td>\n",
       "      <td>110.05560</td>\n",
       "      <td>118.7682</td>\n",
       "      <td>130.9674</td>\n",
       "      <td>112.5170</td>\n",
       "      <td>262.9443</td>\n",
       "      <td>...</td>\n",
       "      <td>147.4358</td>\n",
       "      <td>162.2560</td>\n",
       "      <td>131.9409</td>\n",
       "      <td>232.3967</td>\n",
       "      <td>275.3432</td>\n",
       "      <td>105.5575</td>\n",
       "      <td>237.3100</td>\n",
       "      <td>134.0878</td>\n",
       "      <td>113.5443</td>\n",
       "      <td>170.7890</td>\n",
       "    </tr>\n",
       "    <tr>\n",
       "      <th>4</th>\n",
       "      <td>1.0</td>\n",
       "      <td>22.0</td>\n",
       "      <td>0.0</td>\n",
       "      <td>874.6235</td>\n",
       "      <td>144.6797</td>\n",
       "      <td>104.10300</td>\n",
       "      <td>119.3217</td>\n",
       "      <td>149.0589</td>\n",
       "      <td>109.5576</td>\n",
       "      <td>225.8657</td>\n",
       "      <td>...</td>\n",
       "      <td>128.2727</td>\n",
       "      <td>145.9251</td>\n",
       "      <td>136.5600</td>\n",
       "      <td>322.6942</td>\n",
       "      <td>289.0635</td>\n",
       "      <td>107.0224</td>\n",
       "      <td>241.3908</td>\n",
       "      <td>131.0249</td>\n",
       "      <td>103.9684</td>\n",
       "      <td>182.1901</td>\n",
       "    </tr>\n",
       "  </tbody>\n",
       "</table>\n",
       "<p>5 rows × 17886 columns</p>\n",
       "</div>"
      ],
      "text/plain": [
       "   Anxiety disorder   Age  Gender      A1BG      A1CF        A2M     A2ML1  \\\n",
       "0               1.0  21.0     0.0  878.7355  130.8007   98.22960  120.8270   \n",
       "1               1.0  22.0     1.0  886.0469  132.5247  107.48750  112.3008   \n",
       "2               1.0  21.0     0.0  949.6923  141.0343   94.14699  118.4021   \n",
       "3               1.0  21.0     1.0  747.9395  138.1274  110.05560  118.7682   \n",
       "4               1.0  22.0     0.0  874.6235  144.6797  104.10300  119.3217   \n",
       "\n",
       "    A3GALT2    A4GALT     A4GNT  ...    ZWILCH     ZWINT      ZXDA      ZXDB  \\\n",
       "0  127.7400  107.5727  203.9451  ...  143.9445  142.8054  137.5964  276.6226   \n",
       "1  133.3795  102.2422  252.5950  ...  141.7784  155.8628  132.0846  288.0483   \n",
       "2  122.5672  105.2472  234.2607  ...  143.6750  148.7864  128.6895  290.3251   \n",
       "3  130.9674  112.5170  262.9443  ...  147.4358  162.2560  131.9409  232.3967   \n",
       "4  149.0589  109.5576  225.8657  ...  128.2727  145.9251  136.5600  322.6942   \n",
       "\n",
       "       ZXDC    ZYG11A    ZYG11B       ZYX     ZZEF1      ZZZ3  \n",
       "0  286.5479  117.3781  243.3207  143.0981  126.1316  174.5524  \n",
       "1  256.2910  116.3579  252.8782  138.5269  117.8299  185.8810  \n",
       "2  250.7705  112.9105  236.6002  140.7121  112.9356  170.8842  \n",
       "3  275.3432  105.5575  237.3100  134.0878  113.5443  170.7890  \n",
       "4  289.0635  107.0224  241.3908  131.0249  103.9684  182.1901  \n",
       "\n",
       "[5 rows x 17886 columns]"
      ]
     },
     "execution_count": 70,
     "metadata": {},
     "output_type": "execute_result"
    }
   ],
   "source": [
    "merged_data = pd.read_csv(os.path.join(OUTPUT_DIR, condition_best_cohort + '.csv'))\n",
    "merged_data.head()"
   ]
  },
  {
   "cell_type": "code",
   "execution_count": 71,
   "metadata": {
    "ExecuteTime": {
     "end_time": "2024-01-10T21:40:27.358779256Z",
     "start_time": "2024-01-10T21:40:27.271337819Z"
    },
    "collapsed": false
   },
   "outputs": [],
   "source": [
    "# Remove the other condition to prevent interference.\n",
    "merged_data = merged_data.drop(columns=['Gender'], errors='ignore').astype('float')\n",
    "\n",
    "X = merged_data.drop(columns=[TRAIT, condition]).values\n",
    "Y = merged_data[TRAIT].values\n",
    "Z = merged_data[condition].values"
   ]
  },
  {
   "cell_type": "markdown",
   "metadata": {
    "collapsed": false
   },
   "source": [
    "Select the appropriate regression model depending on whether the dataset shows batch effect."
   ]
  },
  {
   "cell_type": "code",
   "execution_count": 72,
   "metadata": {},
   "outputs": [],
   "source": [
    "def detect_batch_effect(X):\n",
    "    \"\"\"\n",
    "    Detect potential batch effects in a dataset using eigenvalues of XX^T.\n",
    "\n",
    "    Args:\n",
    "    X (numpy.ndarray): A feature matrix with shape (n_samples, n_features).\n",
    "\n",
    "    Returns:\n",
    "    bool: True if a potential batch effect is detected, False otherwise.\n",
    "    \"\"\"\n",
    "    n_samples = X.shape[0]\n",
    "\n",
    "    # Computing XX^T\n",
    "    XXt = np.dot(X, X.T)\n",
    "\n",
    "    # Compute the eigenvalues of XX^T\n",
    "    eigen_values = np.linalg.eigvalsh(XXt)  # Using eigvalsh since XX^T is symmetric\n",
    "    eigen_values = sorted(eigen_values, reverse=True)\n",
    "\n",
    "    # Check for large gaps in the eigenvalues\n",
    "    for i in range(len(eigen_values) - 1):\n",
    "        gap = eigen_values[i] - eigen_values[i + 1]\n",
    "        if gap > 1 / n_samples:  # You may need to adjust this threshold\n",
    "            return True\n",
    "\n",
    "    return False"
   ]
  },
  {
   "cell_type": "code",
   "execution_count": 74,
   "metadata": {
    "ExecuteTime": {
     "end_time": "2024-01-10T21:40:27.546590575Z",
     "start_time": "2024-01-10T21:40:27.298495045Z"
    },
    "collapsed": false
   },
   "outputs": [
    {
     "data": {
      "text/plain": [
       "True"
      ]
     },
     "execution_count": 74,
     "metadata": {},
     "output_type": "execute_result"
    }
   ],
   "source": [
    "import numpy as np\n",
    "has_batch_effect = detect_batch_effect(X)\n",
    "has_batch_effect"
   ]
  },
  {
   "cell_type": "code",
   "execution_count": 75,
   "metadata": {},
   "outputs": [],
   "source": [
    "from sparse_lmm import VariableSelection\n"
   ]
  },
  {
   "cell_type": "code",
   "execution_count": 76,
   "metadata": {
    "ExecuteTime": {
     "end_time": "2024-01-10T21:40:27.546733889Z",
     "start_time": "2024-01-10T21:40:27.535249532Z"
    },
    "collapsed": false
   },
   "outputs": [],
   "source": [
    "# Select appropriate models based on whether the dataset has batch effect.\n",
    "# We experiment on two models for each branch. We will decide which one to choose later.\n",
    "\n",
    "if has_batch_effect:\n",
    "    model_constructor1 = VariableSelection\n",
    "    model_params1 = {'modified': True, 'lamda': 3e-4}\n",
    "    model_constructor2 = VariableSelection\n",
    "    model_params2 = {'modified': False}\n",
    "else:\n",
    "    model_constructor1 = Lasso\n",
    "    model_params1 = {'alpha': 1.0, 'random_state': 42}\n",
    "    model_constructor2 = VariableSelection\n",
    "    model_params2 = {'modified': False}"
   ]
  },
  {
   "cell_type": "code",
   "execution_count": 78,
   "metadata": {},
   "outputs": [],
   "source": [
    "def cross_validation(X, Y, Z, model_constructor, model_params, k=5, target_type='binary'):\n",
    "    assert target_type in ['binary', 'continuous'], \"The target type must be chosen from 'binary' or 'continuous'\"\n",
    "    indices = np.arange(X.shape[0])\n",
    "    np.random.shuffle(indices)\n",
    "\n",
    "    fold_size = len(X) // k\n",
    "    performances = []\n",
    "\n",
    "    for i in range(k):\n",
    "        # Split data into train and test based on the current fold\n",
    "        test_indices = indices[i * fold_size: (i + 1) * fold_size]\n",
    "        train_indices = np.setdiff1d(indices, test_indices)\n",
    "\n",
    "        X_train, X_test = X[train_indices], X[test_indices]\n",
    "        Y_train, Y_test = Y[train_indices], Y[test_indices]\n",
    "        Z_train, Z_test = Z[train_indices], Z[test_indices]\n",
    "\n",
    "        normalized_X_train, normalized_X_test = normalize_data(X_train, X_test)\n",
    "        normalized_Z_train, normalized_Z_test = normalize_data(Z_train, Z_test)\n",
    "\n",
    "        # model = model_constructor(**model_params)\n",
    "        model = ResidualizationRegressor(model_constructor, model_params)\n",
    "        model.fit(normalized_X_train, Y_train, normalized_Z_train)\n",
    "        predictions = model.predict(normalized_X_test, normalized_Z_test)\n",
    "\n",
    "        if target_type == 'binary':\n",
    "            predictions = (predictions > 0.5).astype(int)\n",
    "            Y_test = (Y_test > 0.5).astype(int)\n",
    "            performance = accuracy_score(Y_test, predictions)\n",
    "        elif target_type == 'continuous':\n",
    "            performance = mean_squared_error(Y_test, predictions)\n",
    "\n",
    "        performances.append(performance)\n",
    "\n",
    "    cv_mean = np.mean(performances)\n",
    "    cv_std = np.std(performances)\n",
    "\n",
    "    if target_type == 'binary':\n",
    "        print(f'The cross-validation accuracy is {(cv_mean * 100):.2f}% ± {(cv_std * 100):.2f}%')\n",
    "    else:\n",
    "        print(f'The cross-validation MSE is {(cv_mean * 100):.2f} ± {(cv_std * 100):.2f}')\n",
    "\n",
    "    return cv_mean, cv_std"
   ]
  },
  {
   "cell_type": "code",
   "execution_count": 80,
   "metadata": {},
   "outputs": [],
   "source": [
    "def normalize_data(X_train, X_test=None):\n",
    "    \"\"\"Compute the mean and standard deviation statistics of the training data, use them to normalize the training data,\n",
    "    and optionally the test data\"\"\"\n",
    "    mean = np.mean(X_train, axis=0)\n",
    "    std = np.std(X_train, axis=0)\n",
    "\n",
    "    # Handling columns with std = 0\n",
    "    std_no_zero = np.where(std == 0, 1, std)\n",
    "\n",
    "    # Normalize X_train\n",
    "    X_train_normalized = (X_train - mean) / std_no_zero\n",
    "    # Set normalized values to 0 where std was 0\n",
    "    X_train_normalized[:, std == 0] = 0\n",
    "\n",
    "    if X_test is not None:\n",
    "        X_test_normalized = (X_test - mean) / std_no_zero\n",
    "        X_test_normalized[:, std == 0] = 0\n",
    "    else:\n",
    "        X_test_normalized = None\n",
    "\n",
    "    return X_train_normalized, X_test_normalized"
   ]
  },
  {
   "cell_type": "code",
   "execution_count": 82,
   "metadata": {},
   "outputs": [],
   "source": [
    "class ResidualizationRegressor:\n",
    "    def __init__(self, regression_model_constructor, params=None):\n",
    "        if params is None:\n",
    "            params = {}\n",
    "        self.regression_model = regression_model_constructor(**params)\n",
    "        self.beta_Z = None  # Coefficients for regression of Y on Z\n",
    "        self.beta_X = None  # Coefficients for regression of residual on X\n",
    "        self.neg_log_p_values = None  # Negative logarithm of p-values\n",
    "        self.p_values = None  # Actual p-values\n",
    "\n",
    "    def _reshape_data(self, data):\n",
    "        \"\"\"\n",
    "        Reshape the data to ensure it's in the correct format (2D array).\n",
    "\n",
    "        :param data: The input data (can be 1D or 2D array).\n",
    "        :return: Reshaped 2D array.\n",
    "        \"\"\"\n",
    "        if data.ndim == 1:\n",
    "            return data.reshape(-1, 1)\n",
    "        return data\n",
    "\n",
    "    def _reshape_output(self, data):\n",
    "        \"\"\"\n",
    "        Reshape the output data to ensure it's in the correct format (1D array).\n",
    "\n",
    "        :param data: The output data (can be 1D or 2D array).\n",
    "        :return: Reshaped 1D array.\n",
    "        \"\"\"\n",
    "        if data.ndim == 2 and data.shape[1] == 1:\n",
    "            return data.ravel()\n",
    "        return data\n",
    "    \n",
    "    def fit(self, X, Y, Z):\n",
    "        X = self._reshape_data(X)\n",
    "        Y = self._reshape_data(Y)\n",
    "        Z = self._reshape_data(Z)\n",
    "\n",
    "        # Step 1: Linear regression of Y on Z\n",
    "        Z_ones = np.column_stack((np.ones(Z.shape[0]), Z))\n",
    "        self.beta_Z = np.linalg.pinv(Z_ones.T @ Z_ones) @ Z_ones.T @ Y\n",
    "        Y_hat = Z_ones @ self.beta_Z\n",
    "        e_Y = Y - Y_hat  # Residual of Y\n",
    "\n",
    "        # Step 2: Regress the residual on X using the included regression model\n",
    "        self.regression_model.fit(X, e_Y)\n",
    "\n",
    "        # Obtain coefficients from the regression model\n",
    "        if hasattr(self.regression_model, 'coef_'):\n",
    "            self.beta_X = self.regression_model.coef_\n",
    "        elif hasattr(self.regression_model, 'getBeta'):\n",
    "            beta_output = self.regression_model.getBeta()\n",
    "            self.beta_X = self._reshape_output(beta_output)\n",
    "\n",
    "        # Obtain negative logarithm of p-values, if available\n",
    "        if hasattr(self.regression_model, 'getNegLogP'):\n",
    "            neg_log_p_output = self.regression_model.getNegLogP()\n",
    "            if neg_log_p_output is not None:\n",
    "                self.neg_log_p_values = self._reshape_output(neg_log_p_output)\n",
    "                self.p_values = np.exp(-self.neg_log_p_values)\n",
    "                # Concatenate the p-values of Z and X. The p-values of Z were not computed, mark with NaN.\n",
    "                p_values_Z = np.full(Z.shape[1], np.nan)\n",
    "                self.p_values = np.concatenate((p_values_Z, self.p_values))\n",
    "    def predict(self, X, Z):\n",
    "        X = self._reshape_data(X)\n",
    "        Z = self._reshape_data(Z)\n",
    "\n",
    "        Z_ones = np.column_stack((np.ones(Z.shape[0]), Z))\n",
    "        ZX = np.column_stack((Z, X))\n",
    "        combined_beta = np.concatenate((self.beta_Z[1:].ravel(), self.beta_X.ravel()))\n",
    "        return ZX @ combined_beta + self.beta_Z[0]\n",
    "\n",
    "    def get_coefficients(self):\n",
    "        return np.concatenate((self.beta_Z[1:].ravel(), self.beta_X.ravel()))\n",
    "\n",
    "    def get_p_values(self):\n",
    "        return self.p_values\n"
   ]
  },
  {
   "cell_type": "code",
   "execution_count": 84,
   "metadata": {},
   "outputs": [],
   "source": [
    "from sklearn.metrics import accuracy_score, mean_squared_error\n"
   ]
  },
  {
   "cell_type": "code",
   "execution_count": 85,
   "metadata": {
    "ExecuteTime": {
     "end_time": "2024-01-10T21:40:30.570471636Z",
     "start_time": "2024-01-10T21:40:27.546295159Z"
    },
    "collapsed": false
   },
   "outputs": [
    {
     "name": "stdout",
     "output_type": "stream",
     "text": [
      "alpha for Lasso: 0.0003\n",
      "alpha for Lasso: 0.0003\n",
      "alpha for Lasso: 0.0003\n",
      "alpha for Lasso: 0.0003\n",
      "alpha for Lasso: 0.0003\n",
      "The cross-validation accuracy is 47.83% ± 6.15%\n"
     ]
    }
   ],
   "source": [
    "trait_type = 'binary'  # Remember to set this properly, either 'binary' or 'continuous'\n",
    "cv_mean1, cv_std1 = cross_validation(X, Y, Z, model_constructor1, model_params1, target_type=trait_type)"
   ]
  },
  {
   "cell_type": "code",
   "execution_count": 86,
   "metadata": {
    "ExecuteTime": {
     "end_time": "2024-01-10T21:40:47.575878022Z",
     "start_time": "2024-01-10T21:40:30.570907992Z"
    },
    "collapsed": false
   },
   "outputs": [
    {
     "name": "stdout",
     "output_type": "stream",
     "text": [
      "The cross-validation accuracy is 48.70% ± 12.42%\n"
     ]
    }
   ],
   "source": [
    "cv_mean2, cv_std2 = cross_validation(X, Y, Z, model_constructor2, model_params2, target_type=trait_type)"
   ]
  },
  {
   "cell_type": "code",
   "execution_count": 87,
   "metadata": {
    "ExecuteTime": {
     "end_time": "2024-01-10T21:40:51.663737008Z",
     "start_time": "2024-01-10T21:40:47.576021186Z"
    },
    "collapsed": false
   },
   "outputs": [
    {
     "name": "stdout",
     "output_type": "stream",
     "text": [
      "alpha for Lasso: 0.0003\n"
     ]
    }
   ],
   "source": [
    "normalized_X, _ = normalize_data(X)\n",
    "normalized_Z, _ = normalize_data(Z)\n",
    "\n",
    "# Train regression model on the whole dataset to identify significant genes\n",
    "model1 = ResidualizationRegressor(model_constructor1, model_params1)\n",
    "model1.fit(normalized_X, Y, normalized_Z)\n",
    "\n",
    "model2 = ResidualizationRegressor(model_constructor2, model_params2)\n",
    "model2.fit(normalized_X, Y, normalized_Z)"
   ]
  },
  {
   "cell_type": "markdown",
   "metadata": {
    "ExecuteTime": {
     "end_time": "2023-10-14T04:50:59.072075075Z",
     "start_time": "2023-10-14T04:50:38.739499998Z"
    },
    "id": "EjJrxbvb4nlj"
   },
   "source": [
    "### 4. Discussion and report"
   ]
  },
  {
   "cell_type": "code",
   "execution_count": 89,
   "metadata": {},
   "outputs": [],
   "source": [
    "def interpret_result(model: Any, feature_names: List[str], trait: str, condition: str,\n",
    "                     threshold: float = 0.05, save_output: bool = True,\n",
    "                     output_dir: str = './output', model_id: int = 1) -> None:\n",
    "    \"\"\"This function interprets and reports the result of a trained linear regression model, where the regressor\n",
    "    consists of one variable about condition and multiple variables about genetic factors.\n",
    "    The function extracts coefficients and p-values from the model, and identifies the significant genes based on\n",
    "    p-values or non-zero coefficients, depending on the availability of p-values.\n",
    "\n",
    "    Parameters:\n",
    "    model (Any): The trained regression Model.\n",
    "    feature_names (List[str]): A list of feature names corresponding to the model's coefficients.\n",
    "    trait (str): The target trait of interest.\n",
    "    condition (str): The specific condition to examine within the model.\n",
    "    threshold (float): Significance level for p-value correction. Defaults to 0.05.\n",
    "    save_output (bool): Flag to determine whether to save the output to a file. Defaults to True.\n",
    "    output_dir (str): Directory path where output files are saved. Defaults to './output'.\n",
    "    model_id (int): The index of the model, 1 or 2.\n",
    "\n",
    "    Returns:\n",
    "    None: This function does not return anything but prints and optionally saves the output.\n",
    "    \"\"\"\n",
    "    coefficients = model.get_coefficients().reshape(-1).tolist()\n",
    "    p_values = model.get_p_values()\n",
    "    if p_values is None:\n",
    "        regression_df = pd.DataFrame({\n",
    "            'Variable': feature_names,\n",
    "            'Coefficient': coefficients\n",
    "        })\n",
    "    else:\n",
    "        regression_df = pd.DataFrame({\n",
    "            'Variable': feature_names,\n",
    "            'Coefficient': coefficients,\n",
    "            'p_value': p_values.reshape(-1).tolist()\n",
    "        })\n",
    "    condition_effect = regression_df[regression_df['Variable'] == condition].iloc[0]\n",
    "\n",
    "    print(f\"Effect of the condition on the target variable:\")\n",
    "    print(f\"Variable: {condition}\")\n",
    "    print(f\"Coefficient: {condition_effect['Coefficient']:.4f}\")\n",
    "    gene_regression_df = regression_df[regression_df['Variable'] != condition]\n",
    "    if p_values is None:\n",
    "        gene_regression_df['Absolute Coefficient'] = gene_regression_df['Coefficient'].abs()\n",
    "        significant_genes = gene_regression_df[gene_regression_df['Coefficient'] != 0]\n",
    "        significant_genes_sorted = significant_genes.sort_values(by='Absolute Coefficient', ascending=False)\n",
    "        print(\n",
    "            f\"Found {len(significant_genes_sorted)} genes with non-zero coefficients associated with the trait '{trait}' \"\n",
    "            f\"conditional on the factor '{condition}'. These genes are identified as significant based on the regression model.\")\n",
    "    else:\n",
    "        # Apply the Benjamini-Hochberg correction, to get the corrected p-values\n",
    "        corrected_p_values = multipletests(gene_regression_df['p_value'], alpha=threshold, method='fdr_bh')[1]\n",
    "        gene_regression_df.loc[:, 'corrected_p_value'] = corrected_p_values\n",
    "        significant_genes = gene_regression_df.loc[gene_regression_df['corrected_p_value'] < threshold]\n",
    "        significant_genes_sorted = significant_genes.sort_values('corrected_p_value')\n",
    "        print(\n",
    "            f\"Found {len(significant_genes_sorted)} significant genes associated with the trait '{trait}' conditional on \"\n",
    "            f\"the factor '{condition}', with corrected p-value < {threshold}:\")\n",
    "\n",
    "    print(significant_genes_sorted.to_string(index=False))\n",
    "\n",
    "    # Optionally, save this to a CSV file\n",
    "    if save_output:\n",
    "        significant_genes_sorted.to_csv(\n",
    "            os.path.join(output_dir, f'significant_genes_condition_{condition}_{model_id}.csv'), index=False)"
   ]
  },
  {
   "cell_type": "code",
   "execution_count": 90,
   "metadata": {
    "ExecuteTime": {
     "end_time": "2024-01-10T21:40:51.673565176Z",
     "start_time": "2024-01-10T21:40:51.665291317Z"
    },
    "collapsed": false
   },
   "outputs": [
    {
     "name": "stdout",
     "output_type": "stream",
     "text": [
      "Effect of the condition on the target variable:\n",
      "Variable: Age\n",
      "Coefficient: -0.0515\n",
      "Found 53 genes with non-zero coefficients associated with the trait 'Anxiety disorder' conditional on the factor 'Age'. These genes are identified as significant based on the regression model.\n",
      "    Variable  Coefficient  Absolute Coefficient\n",
      "        BAG4     3.651880              3.651880\n",
      "       TMOD4    -3.645051              3.645051\n",
      "       TEKT5    -3.502467              3.502467\n",
      "       ADH1B    -3.340335              3.340335\n",
      "       BCAT1    -3.058921              3.058921\n",
      "      TTTY13    -2.910795              2.910795\n",
      "   KRTAP20-1     2.371920              2.371920\n",
      "       LRRN4     2.309673              2.309673\n",
      "       FBXL6    -2.205952              2.205952\n",
      "      GOLGB1    -1.840282              1.840282\n",
      "     ZDHHC24     1.769598              1.769598\n",
      "      TSPAN7    -1.746164              1.746164\n",
      "        RAG2    -1.686070              1.686070\n",
      "     SLC46A1     1.652568              1.652568\n",
      "LOC100130698    -1.569555              1.569555\n",
      "     TMEM125    -1.534171              1.534171\n",
      "      DMRTB1    -1.532772              1.532772\n",
      "     PLEKHH3     1.442971              1.442971\n",
      "       ABCB8     1.399242              1.399242\n",
      "     ZC3H11B    -1.345334              1.345334\n",
      "      CELA2B    -1.270608              1.270608\n",
      "      OR2AK2    -1.039929              1.039929\n",
      "         TNR     0.999594              0.999594\n",
      "       RBM19     0.921270              0.921270\n",
      "       OR2J3     0.777602              0.777602\n",
      "       P2RX2    -0.710358              0.710358\n",
      "        HCG4     0.710056              0.710056\n",
      "        MECR    -0.709885              0.709885\n",
      "       OR9G9     0.681016              0.681016\n",
      "        CSN2     0.665679              0.665679\n",
      "     MIR374A    -0.610289              0.610289\n",
      "       PTGES    -0.592740              0.592740\n",
      "       CORO6     0.588652              0.588652\n",
      "       PDRG1    -0.588185              0.588185\n",
      "       FRMD5    -0.573362              0.573362\n",
      "   LOC644554     0.480945              0.480945\n",
      "         ZP1     0.479285              0.479285\n",
      "      OR2AG2    -0.452852              0.452852\n",
      "       RAB26     0.445023              0.445023\n",
      "         DPT    -0.398954              0.398954\n",
      "      B3GNT7     0.394100              0.394100\n",
      "     PLA2G2E    -0.318673              0.318673\n",
      "        CRB3     0.248713              0.248713\n",
      "        IRS1     0.242018              0.242018\n",
      "        UBA6    -0.231945              0.231945\n",
      "      IGFBP3     0.216234              0.216234\n",
      "       MATN2     0.131439              0.131439\n",
      "       PPM1H    -0.102653              0.102653\n",
      "        PEF1    -0.080650              0.080650\n",
      "    C12orf54    -0.048741              0.048741\n",
      "       ORAI3    -0.016968              0.016968\n",
      "        HCN3    -0.001963              0.001963\n",
      "       WDR77    -0.001263              0.001263\n"
     ]
    },
    {
     "name": "stderr",
     "output_type": "stream",
     "text": [
      "/var/folders/hx/qdnjfcxj2kbfy5k46ywrbrz40000gn/T/ipykernel_99910/2152198575.py:42: SettingWithCopyWarning: \n",
      "A value is trying to be set on a copy of a slice from a DataFrame.\n",
      "Try using .loc[row_indexer,col_indexer] = value instead\n",
      "\n",
      "See the caveats in the documentation: https://pandas.pydata.org/pandas-docs/stable/user_guide/indexing.html#returning-a-view-versus-a-copy\n",
      "  gene_regression_df['Absolute Coefficient'] = gene_regression_df['Coefficient'].abs()\n"
     ]
    }
   ],
   "source": [
    "feature_cols = merged_data.columns.tolist()\n",
    "feature_cols.remove(TRAIT)\n",
    "\n",
    "threshold = 0.05\n",
    "interpret_result(model1, feature_cols, TRAIT, condition, threshold=threshold, save_output=True,\n",
    "                 output_dir=OUTPUT_DIR, model_id=1)"
   ]
  },
  {
   "cell_type": "code",
   "execution_count": 92,
   "metadata": {},
   "outputs": [],
   "source": [
    "from statsmodels.stats.multitest import multipletests\n"
   ]
  },
  {
   "cell_type": "code",
   "execution_count": 93,
   "metadata": {
    "ExecuteTime": {
     "end_time": "2024-01-10T21:40:51.730825913Z",
     "start_time": "2024-01-10T21:40:51.675049728Z"
    },
    "collapsed": false
   },
   "outputs": [
    {
     "name": "stdout",
     "output_type": "stream",
     "text": [
      "Effect of the condition on the target variable:\n",
      "Variable: Age\n",
      "Coefficient: -0.0515\n",
      "Found 0 significant genes associated with the trait 'Anxiety disorder' conditional on the factor 'Age', with corrected p-value < 0.05:\n",
      "Empty DataFrame\n",
      "Columns: [Variable, Coefficient, p_value, corrected_p_value]\n",
      "Index: []\n"
     ]
    },
    {
     "name": "stderr",
     "output_type": "stream",
     "text": [
      "/var/folders/hx/qdnjfcxj2kbfy5k46ywrbrz40000gn/T/ipykernel_99910/2152198575.py:51: SettingWithCopyWarning: \n",
      "A value is trying to be set on a copy of a slice from a DataFrame.\n",
      "Try using .loc[row_indexer,col_indexer] = value instead\n",
      "\n",
      "See the caveats in the documentation: https://pandas.pydata.org/pandas-docs/stable/user_guide/indexing.html#returning-a-view-versus-a-copy\n",
      "  gene_regression_df.loc[:, 'corrected_p_value'] = corrected_p_values\n"
     ]
    }
   ],
   "source": [
    "interpret_result(model2, feature_cols, TRAIT, condition, threshold=threshold, save_output=True,\n",
    "                 output_dir=OUTPUT_DIR, model_id=2)"
   ]
  },
  {
   "cell_type": "code",
   "execution_count": null,
   "metadata": {
    "collapsed": false
   },
   "outputs": [],
   "source": []
  }
 ],
 "metadata": {
  "colab": {
   "provenance": []
  },
  "kernelspec": {
   "display_name": "Python 3 (ipykernel)",
   "language": "python",
   "name": "python3"
  },
  "language_info": {
   "codemirror_mode": {
    "name": "ipython",
    "version": 3
   },
   "file_extension": ".py",
   "mimetype": "text/x-python",
   "name": "python",
   "nbconvert_exporter": "python",
   "pygments_lexer": "ipython3",
   "version": "3.10.6"
  }
 },
 "nbformat": 4,
 "nbformat_minor": 0
}
