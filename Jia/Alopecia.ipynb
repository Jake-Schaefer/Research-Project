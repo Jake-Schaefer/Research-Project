{
 "cells": [
  {
   "cell_type": "markdown",
   "metadata": {},
   "source": [
    "# Gold standard curation: Preprocessing and single-step regression"
   ]
  },
  {
   "cell_type": "markdown",
   "metadata": {},
   "source": [
    "In this stage of gold standard curation, we will do the data preprocessing, selection, and single-step regression for the 153 traits in our question set. This file shows the reference steps using the trait \"Breast Cancer\" as an example. The workflow consists of the following steps:\n",
    "\n",
    "1. Preprocess all the cohorts related to this trait. Each cohort should be converted to a tabular form and saved to a csv file, with columns being genetic factors, the trait, and age, gender if available;\n",
    "2. If there exists at least one cohort with age or gender information, conduct regression analysis with genetic features together with age or gender as the regressors.\n"
   ]
  },
  {
   "cell_type": "markdown",
   "metadata": {},
   "source": [
    "# 1. Basic setup"
   ]
  },
  {
   "cell_type": "code",
   "execution_count": 1,
   "metadata": {
    "ExecuteTime": {
     "end_time": "2023-12-31T21:19:07.313098989Z",
     "start_time": "2023-12-31T21:19:07.312718292Z"
    }
   },
   "outputs": [],
   "source": [
    "import os\n",
    "\n",
    "# Set your preferred name\n",
    "USER = \"Jinglin\"\n",
    "# Set the data and output directories\n",
    "DATA_ROOT = '../../DATA'\n",
    "OUTPUT_ROOT = '../../output1'\n",
    "TRAIT = 'Alopecia'\n",
    "\n",
    "OUTPUT_DIR = os.path.join(OUTPUT_ROOT, USER, '-'.join(TRAIT.split()))\n",
    "JSON_PATH = os.path.join(OUTPUT_DIR, \"cohort_info.json\")\n",
    "if not os.path.exists(OUTPUT_DIR):\n",
    "    os.makedirs(OUTPUT_DIR, exist_ok=True)\n",
    "\n",
    "# Gene symbol normalization may take 1-2 minutes. You may set it to False for debugging.\n",
    "NORMALIZE_GENE = True"
   ]
  },
  {
   "cell_type": "code",
   "execution_count": 2,
   "metadata": {
    "ExecuteTime": {
     "end_time": "2023-12-31T21:19:07.680659936Z",
     "start_time": "2023-12-31T21:19:07.666959145Z"
    },
    "colab": {
     "base_uri": "https://localhost:8080/"
    },
    "id": "jMTdsU43vVg3",
    "outputId": "38886111-f442-44b4-8398-96bf384d7abd"
   },
   "outputs": [
    {
     "data": {
      "text/plain": [
       "\"import os\\nfrom google.colab import drive\\n\\ndrive.mount('/content/drive', force_remount=True)\\nproj_dir = '/content/drive/MyDrive/AI4Science_Public'\\nos.chdir(proj_dir)\""
      ]
     },
     "execution_count": 2,
     "metadata": {},
     "output_type": "execute_result"
    }
   ],
   "source": [
    "# This cell is only for use on Google Colab. Skip it if you run your code in other environments\n",
    "\n",
    "\"\"\"import os\n",
    "from google.colab import drive\n",
    "\n",
    "drive.mount('/content/drive', force_remount=True)\n",
    "proj_dir = '/content/drive/MyDrive/AI4Science_Public'\n",
    "os.chdir(proj_dir)\"\"\""
   ]
  },
  {
   "cell_type": "markdown",
   "metadata": {},
   "source": [
    "# 2. Data preprocessing and selection"
   ]
  },
  {
   "cell_type": "markdown",
   "metadata": {},
   "source": [
    "## 2.1. The TCGA Xena dataset"
   ]
  },
  {
   "cell_type": "markdown",
   "metadata": {},
   "source": [
    "In TCGA Xena, there is either zero or one cohort related to the trait. We search the names of subdirectories to see if any matches the trait. If a match is found, we directly obtain the file paths."
   ]
  },
  {
   "cell_type": "code",
   "execution_count": 3,
   "metadata": {},
   "outputs": [
    {
     "data": {
      "text/plain": [
       "['TCGA_Pancreatic_Cancer_(PAAD)',\n",
       " 'TCGA_Bladder_Cancer_(BLCA)',\n",
       " '.DS_Store',\n",
       " 'TCGA_Testicular_Cancer_(TGCT)',\n",
       " 'TCGA_Acute_Myeloid_Leukemia_(LAML)',\n",
       " 'TCGA_Breast_Cancer_(BRCA)',\n",
       " 'TCGA_Stomach_Cancer_(STAD)',\n",
       " 'TCGA_Thyroid_Cancer_(THCA)',\n",
       " 'TCGA_Glioblastoma_(GBM)']"
      ]
     },
     "execution_count": 3,
     "metadata": {},
     "output_type": "execute_result"
    }
   ],
   "source": [
    "import os\n",
    "from utils import *\n",
    "\n",
    "dataset = 'TCGA'\n",
    "dataset_dir = os.path.join(DATA_ROOT, dataset)\n",
    "os.listdir(dataset_dir)[:10]"
   ]
  },
  {
   "cell_type": "markdown",
   "metadata": {},
   "source": [
    "If no match is found, jump directly to GEO in Part 2.2"
   ]
  },
  {
   "cell_type": "code",
   "execution_count": 5,
   "metadata": {
    "ExecuteTime": {
     "end_time": "2023-12-31T21:19:09.918243934Z",
     "start_time": "2023-12-31T21:19:09.909021135Z"
    }
   },
   "outputs": [],
   "source": [
    "trait_subdir = \"TCGA_Thyroid_Cancer_(THCA)\"\n",
    "cohort = 'Xena'\n",
    "# All the cancer traits in Xena are binary\n",
    "trait_type = 'binary'\n",
    "# Once a relevant cohort is found in Xena, we can generally assume the gene and clinical data are available\n",
    "is_available = True\n",
    "\n",
    "clinical_data_file = os.path.join(dataset_dir, trait_subdir, 'TCGA.THCA.sampleMap_THCA_clinicalMatrix')\n",
    "genetic_data_file = os.path.join(dataset_dir, trait_subdir, 'TCGA.THCA.sampleMap_HiSeqV2_PANCAN.gz')"
   ]
  },
  {
   "cell_type": "code",
   "execution_count": 6,
   "metadata": {
    "ExecuteTime": {
     "end_time": "2023-12-31T21:19:13.613198409Z",
     "start_time": "2023-12-31T21:19:10.409688003Z"
    },
    "id": "MudwB-_iz7sc"
   },
   "outputs": [],
   "source": [
    "import pandas as pd\n",
    "\n",
    "clinical_data = pd.read_csv(clinical_data_file, sep='\\t', index_col=0)\n",
    "genetic_data = pd.read_csv(genetic_data_file, compression='gzip', sep='\\t', index_col=0)\n",
    "age_col = gender_col = None"
   ]
  },
  {
   "cell_type": "code",
   "execution_count": 7,
   "metadata": {
    "ExecuteTime": {
     "end_time": "2023-12-31T21:19:13.617006167Z",
     "start_time": "2023-12-31T21:19:13.614080653Z"
    }
   },
   "outputs": [],
   "source": [
    "_, clinical_data_cols = check_rows_and_columns(clinical_data)"
   ]
  },
  {
   "cell_type": "code",
   "execution_count": 8,
   "metadata": {
    "ExecuteTime": {
     "end_time": "2023-12-31T21:19:13.661538569Z",
     "start_time": "2023-12-31T21:19:13.615946213Z"
    }
   },
   "outputs": [
    {
     "data": {
      "text/plain": [
       "['_INTEGRATION',\n",
       " '_PATIENT',\n",
       " '_cohort',\n",
       " '_primary_disease',\n",
       " '_primary_site',\n",
       " 'additional_pharmaceutical_therapy',\n",
       " 'additional_radiation_therapy',\n",
       " 'additional_surgery_locoregional_procedure',\n",
       " 'age_at_initial_pathologic_diagnosis',\n",
       " 'bcr_followup_barcode']"
      ]
     },
     "execution_count": 8,
     "metadata": {},
     "output_type": "execute_result"
    }
   ],
   "source": [
    "clinical_data_cols[:10]"
   ]
  },
  {
   "cell_type": "markdown",
   "metadata": {
    "ExecuteTime": {
     "end_time": "2023-12-28T20:20:11.841042813Z",
     "start_time": "2023-12-28T20:20:11.834458206Z"
    }
   },
   "source": [
    "Read all the column names in the clinical dataset, to find the columns that record information about age or gender.\n",
    "Reference prompt:"
   ]
  },
  {
   "cell_type": "code",
   "execution_count": 9,
   "metadata": {
    "ExecuteTime": {
     "end_time": "2023-12-31T21:19:13.661858700Z",
     "start_time": "2023-12-31T21:19:13.656749487Z"
    }
   },
   "outputs": [
    {
     "data": {
      "text/plain": [
       "\"\\nBelow is a list of column names from a biomedical dataset. Please examine it and identify the columns that are likely to contain information about patients' age. Additionally, please do the same for columns that may hold data on patients' gender. Please provide your answer by strictly following this format, without redundant words:\\ncandidate_age_cols = [col_name1, col_name2, ...]\\ncandidate_gender_cols = [col_name1, col_name2, ...]\\nIf no columns match a criterion, please provide an empty list.\\n\\nColumn names:\\n['_INTEGRATION', '_PATIENT', '_cohort', '_primary_disease', '_primary_site', 'additional_pharmaceutical_therapy', 'additional_radiation_therapy', 'additional_surgery_locoregional_procedure', 'age_at_initial_pathologic_diagnosis', 'bcr_followup_barcode', 'bcr_patient_barcode', 'bcr_sample_barcode', 'braf_gene_genotyping_outcome_lab_results_text', 'days_to_additional_surgery_metastatic_procedure', 'days_to_birth', 'days_to_collection', 'days_to_death', 'days_to_initial_pathologic_diagnosis', 'days_to_last_followup', 'days_to_new_tumor_event_additional_surgery_procedure', 'days_to_new_tumor_event_after_initial_treatment', 'extrathyroid_carcinoma_present_extension_status', 'first_degree_relative_history_thyrd_glnd_crcnm_dgnss_rltnshp_typ', 'followup_case_report_form_submission_reason', 'form_completion_date', 'gender', 'genotype_analysis_performed_indicator', 'genotyping_results_gene_mutation_not_reported_reason', 'histologic_disease_progression_present_indicator', 'histologic_disease_progression_present_type', 'histological_type', 'histological_type_other', 'history_of_neoadjuvant_treatment', 'i_131_first_administered_dose', 'i_131_subsequent_administered_dose', 'i_131_total_administered_dose', 'i_131_total_administered_preparation_technique', 'icd_10', 'icd_o_3_histology', 'icd_o_3_site', 'informed_consent_verified', 'initial_weight', 'is_ffpe', 'lost_follow_up', 'lymph_node_examined_count', 'lymph_node_preoperative_assessment_diagnostic_imaging_type', 'lymph_node_preoperative_scan_indicator', 'metastatic_neoplasm_confirmed_diagnosis_method_name', 'metastatic_neoplasm_confirmed_diagnosis_method_text', 'metastatic_site', 'neoplasm_depth', 'new_neoplasm_confirmed_diagnosis_method_name', 'new_neoplasm_event_occurrence_anatomic_site', 'new_neoplasm_event_type', 'new_neoplasm_occurrence_anatomic_site_text', 'new_tumor_event_additional_surgery_procedure', 'new_tumor_event_after_initial_treatment', 'number_of_lymphnodes_positive_by_he', 'oct_embedded', 'other_dx', 'other_genotyping_outcome_lab_results_text', 'other_metastatic_site', 'pathologic_M', 'pathologic_N', 'pathologic_T', 'pathologic_stage', 'pathology_report_file_name', 'patient_id', 'patient_personal_medical_history_thyroid_gland_disorder_name', 'patient_personal_medical_history_thyroid_other_specify_text', 'person_lifetime_risk_radiation_exposure_indicator', 'person_neoplasm_cancer_status', 'post_surgical_procedure_assessment_thyroid_gland_carcinoma_stats', 'postoperative_rx_tx', 'primary_lymph_node_presentation_assessment', 'primary_neoplasm_focus_type', 'primary_thyroid_gland_neoplasm_location_anatomic_site', 'radiation_therapy', 'radiation_therapy_administered_dose_text', 'radiation_therapy_administered_preparation_technique_text', 'radiosensitizing_agent_administered_indicator', 'ras_family_gene_genotyping_outcome_lab_results_text', 'residual_tumor', 'ret_ptc_rearrangement_genotyping_outcome_lab_results_text', 'sample_type', 'sample_type_id', 'system_version', 'targeted_molecular_therapy', 'therapeutic_procedure_new_neoplasm_required_additional_thrpy_typ', 'thyroid_gland_carcinoma_involvement_regional_lymph_node_type', 'tissue_prospective_collection_indicator', 'tissue_retrospective_collection_indicator', 'tissue_source_site', 'tumor_tissue_site', 'vial_number', 'vital_status', 'year_of_initial_pathologic_diagnosis', '_GENOMIC_ID_TCGA_THCA_exp_HiSeqV2_percentile', '_GENOMIC_ID_TCGA_THCA_hMethyl450', '_GENOMIC_ID_TCGA_THCA_mutation_bcm_gene', '_GENOMIC_ID_TCGA_THCA_RPPA', '_GENOMIC_ID_TCGA_THCA_exp_HiSeqV2', '_GENOMIC_ID_TCGA_THCA_gistic2', '_GENOMIC_ID_TCGA_THCA_PDMRNAseqCNV', '_GENOMIC_ID_TCGA_THCA_mutation_bcgsc_gene', '_GENOMIC_ID_TCGA_THCA_mutation', '_GENOMIC_ID_TCGA_THCA_PDMRNAseq', '_GENOMIC_ID_TCGA_THCA_mutation_broad_gene', '_GENOMIC_ID_TCGA_THCA_exp_HiSeqV2_exon', '_GENOMIC_ID_TCGA_THCA_miRNA_HiSeq', '_GENOMIC_ID_TCGA_THCA_exp_HiSeqV2_PANCAN', '_GENOMIC_ID_data/public/TCGA/THCA/miRNA_HiSeq_gene', '_GENOMIC_ID_TCGA_THCA_gistic2thd']\\n\""
      ]
     },
     "execution_count": 9,
     "metadata": {},
     "output_type": "execute_result"
    }
   ],
   "source": [
    "f'''\n",
    "Below is a list of column names from a biomedical dataset. Please examine it and identify the columns that are likely to contain information about patients' age. Additionally, please do the same for columns that may hold data on patients' gender. Please provide your answer by strictly following this format, without redundant words:\n",
    "candidate_age_cols = [col_name1, col_name2, ...]\n",
    "candidate_gender_cols = [col_name1, col_name2, ...]\n",
    "If no columns match a criterion, please provide an empty list.\n",
    "\n",
    "Column names:\n",
    "{clinical_data_cols}\n",
    "'''"
   ]
  },
  {
   "cell_type": "code",
   "execution_count": 12,
   "metadata": {
    "ExecuteTime": {
     "end_time": "2023-12-31T21:19:13.661938833Z",
     "start_time": "2023-12-31T21:19:13.656901848Z"
    }
   },
   "outputs": [],
   "source": [
    "candidate_age_cols = ['age_at_initial_pathologic_diagnosis',\n",
    "                      'days_to_birth']\n",
    "candidate_gender_cols = ['gender']"
   ]
  },
  {
   "cell_type": "markdown",
   "metadata": {
    "ExecuteTime": {
     "end_time": "2023-12-31T03:57:44.207565572Z",
     "start_time": "2023-12-31T03:57:44.202177544Z"
    }
   },
   "source": [
    "Choose a single column from the candidate columns that record age and gender information respectively.\n",
    "If no column meets the requirement, keep 'age_col' or 'gender_col' to None"
   ]
  },
  {
   "cell_type": "code",
   "execution_count": 13,
   "metadata": {
    "ExecuteTime": {
     "end_time": "2023-12-31T21:19:13.662078139Z",
     "start_time": "2023-12-31T21:19:13.657006017Z"
    }
   },
   "outputs": [
    {
     "data": {
      "text/plain": [
       "{'age_at_initial_pathologic_diagnosis': [74, 65, 55, 57, 33],\n",
       " 'days_to_birth': [-27348, -24102, -20361, -21008, -12295]}"
      ]
     },
     "execution_count": 13,
     "metadata": {},
     "output_type": "execute_result"
    }
   ],
   "source": [
    "preview_df(clinical_data[candidate_age_cols])"
   ]
  },
  {
   "cell_type": "code",
   "execution_count": 16,
   "metadata": {
    "ExecuteTime": {
     "end_time": "2023-12-31T21:19:13.777159137Z",
     "start_time": "2023-12-31T21:19:13.756210135Z"
    }
   },
   "outputs": [],
   "source": [
    "age_col = 'age_at_initial_pathologic_diagnosis'"
   ]
  },
  {
   "cell_type": "code",
   "execution_count": 17,
   "metadata": {
    "ExecuteTime": {
     "end_time": "2023-12-31T21:19:14.313425023Z",
     "start_time": "2023-12-31T21:19:14.305221062Z"
    }
   },
   "outputs": [
    {
     "data": {
      "text/plain": [
       "{'gender': ['FEMALE', 'MALE', 'MALE', 'MALE', 'FEMALE']}"
      ]
     },
     "execution_count": 17,
     "metadata": {},
     "output_type": "execute_result"
    }
   ],
   "source": [
    "preview_df(clinical_data[candidate_gender_cols])"
   ]
  },
  {
   "cell_type": "code",
   "execution_count": 18,
   "metadata": {
    "ExecuteTime": {
     "end_time": "2023-12-31T21:19:14.852502962Z",
     "start_time": "2023-12-31T21:19:14.845153121Z"
    }
   },
   "outputs": [],
   "source": [
    "gender_col = 'gender'"
   ]
  },
  {
   "cell_type": "code",
   "execution_count": 19,
   "metadata": {
    "ExecuteTime": {
     "end_time": "2023-12-31T21:19:15.246065025Z",
     "start_time": "2023-12-31T21:19:15.240279162Z"
    }
   },
   "outputs": [],
   "source": [
    "selected_clinical_data = xena_select_clinical_features(clinical_data, TRAIT, age_col, gender_col)"
   ]
  },
  {
   "cell_type": "code",
   "execution_count": 20,
   "metadata": {
    "ExecuteTime": {
     "end_time": "2023-12-31T21:19:15.593478652Z",
     "start_time": "2023-12-31T21:19:15.583841656Z"
    }
   },
   "outputs": [],
   "source": [
    "if NORMALIZE_GENE:\n",
    "    genetic_data = normalize_gene_symbols_in_index(genetic_data)"
   ]
  },
  {
   "cell_type": "code",
   "execution_count": 21,
   "metadata": {
    "ExecuteTime": {
     "end_time": "2023-12-31T21:19:16.074598194Z",
     "start_time": "2023-12-31T21:19:15.973600157Z"
    }
   },
   "outputs": [
    {
     "data": {
      "text/html": [
       "<div>\n",
       "<style scoped>\n",
       "    .dataframe tbody tr th:only-of-type {\n",
       "        vertical-align: middle;\n",
       "    }\n",
       "\n",
       "    .dataframe tbody tr th {\n",
       "        vertical-align: top;\n",
       "    }\n",
       "\n",
       "    .dataframe thead th {\n",
       "        text-align: right;\n",
       "    }\n",
       "</style>\n",
       "<table border=\"1\" class=\"dataframe\">\n",
       "  <thead>\n",
       "    <tr style=\"text-align: right;\">\n",
       "      <th></th>\n",
       "      <th>Thyroid Cancer</th>\n",
       "      <th>Age</th>\n",
       "      <th>Gender</th>\n",
       "      <th>ARHGEF10L</th>\n",
       "      <th>HIF3A</th>\n",
       "      <th>RNF17</th>\n",
       "      <th>RNF10</th>\n",
       "      <th>RNF11</th>\n",
       "      <th>RNF13</th>\n",
       "      <th>GTF2IP1</th>\n",
       "      <th>...</th>\n",
       "      <th>TULP2</th>\n",
       "      <th>NPY5R</th>\n",
       "      <th>GNGT2</th>\n",
       "      <th>GNGT1</th>\n",
       "      <th>TULP3</th>\n",
       "      <th>PTRF</th>\n",
       "      <th>BCL6B</th>\n",
       "      <th>GSTK1</th>\n",
       "      <th>SELP</th>\n",
       "      <th>SELS</th>\n",
       "    </tr>\n",
       "    <tr>\n",
       "      <th>sampleID</th>\n",
       "      <th></th>\n",
       "      <th></th>\n",
       "      <th></th>\n",
       "      <th></th>\n",
       "      <th></th>\n",
       "      <th></th>\n",
       "      <th></th>\n",
       "      <th></th>\n",
       "      <th></th>\n",
       "      <th></th>\n",
       "      <th></th>\n",
       "      <th></th>\n",
       "      <th></th>\n",
       "      <th></th>\n",
       "      <th></th>\n",
       "      <th></th>\n",
       "      <th></th>\n",
       "      <th></th>\n",
       "      <th></th>\n",
       "      <th></th>\n",
       "      <th></th>\n",
       "    </tr>\n",
       "  </thead>\n",
       "  <tbody>\n",
       "    <tr>\n",
       "      <th>TCGA-4C-A93U-01</th>\n",
       "      <td>1</td>\n",
       "      <td>74</td>\n",
       "      <td>0</td>\n",
       "      <td>-0.767592</td>\n",
       "      <td>-1.742926</td>\n",
       "      <td>-0.531035</td>\n",
       "      <td>-0.067972</td>\n",
       "      <td>0.265922</td>\n",
       "      <td>-0.13531</td>\n",
       "      <td>0.440006</td>\n",
       "      <td>...</td>\n",
       "      <td>-0.748878</td>\n",
       "      <td>-1.018517</td>\n",
       "      <td>0.205567</td>\n",
       "      <td>-1.28139</td>\n",
       "      <td>0.395523</td>\n",
       "      <td>1.735414</td>\n",
       "      <td>0.945273</td>\n",
       "      <td>-0.186695</td>\n",
       "      <td>4.024767</td>\n",
       "      <td>-0.273612</td>\n",
       "    </tr>\n",
       "    <tr>\n",
       "      <th>TCGA-BJ-A0YZ-01</th>\n",
       "      <td>1</td>\n",
       "      <td>65</td>\n",
       "      <td>1</td>\n",
       "      <td>1.766308</td>\n",
       "      <td>0.273374</td>\n",
       "      <td>-0.531035</td>\n",
       "      <td>0.790028</td>\n",
       "      <td>1.209322</td>\n",
       "      <td>0.01229</td>\n",
       "      <td>0.704606</td>\n",
       "      <td>...</td>\n",
       "      <td>0.125322</td>\n",
       "      <td>1.568883</td>\n",
       "      <td>0.626367</td>\n",
       "      <td>2.38101</td>\n",
       "      <td>0.275823</td>\n",
       "      <td>1.820014</td>\n",
       "      <td>2.140073</td>\n",
       "      <td>1.380405</td>\n",
       "      <td>1.257367</td>\n",
       "      <td>-0.174312</td>\n",
       "    </tr>\n",
       "    <tr>\n",
       "      <th>TCGA-BJ-A0Z0-01</th>\n",
       "      <td>1</td>\n",
       "      <td>55</td>\n",
       "      <td>1</td>\n",
       "      <td>0.986808</td>\n",
       "      <td>-2.165726</td>\n",
       "      <td>-0.050935</td>\n",
       "      <td>0.051428</td>\n",
       "      <td>0.979522</td>\n",
       "      <td>0.48229</td>\n",
       "      <td>0.090106</td>\n",
       "      <td>...</td>\n",
       "      <td>-0.748878</td>\n",
       "      <td>-0.747417</td>\n",
       "      <td>-0.931133</td>\n",
       "      <td>-1.28139</td>\n",
       "      <td>-0.222077</td>\n",
       "      <td>0.293414</td>\n",
       "      <td>0.725173</td>\n",
       "      <td>-0.254095</td>\n",
       "      <td>0.530667</td>\n",
       "      <td>-0.430812</td>\n",
       "    </tr>\n",
       "    <tr>\n",
       "      <th>TCGA-BJ-A0Z2-01</th>\n",
       "      <td>1</td>\n",
       "      <td>57</td>\n",
       "      <td>1</td>\n",
       "      <td>0.767208</td>\n",
       "      <td>-1.623626</td>\n",
       "      <td>-0.531035</td>\n",
       "      <td>0.182228</td>\n",
       "      <td>0.541622</td>\n",
       "      <td>0.65889</td>\n",
       "      <td>0.647206</td>\n",
       "      <td>...</td>\n",
       "      <td>-0.748878</td>\n",
       "      <td>-1.587117</td>\n",
       "      <td>-1.292433</td>\n",
       "      <td>-1.28139</td>\n",
       "      <td>-0.602177</td>\n",
       "      <td>0.134114</td>\n",
       "      <td>0.894473</td>\n",
       "      <td>-0.380395</td>\n",
       "      <td>-2.502833</td>\n",
       "      <td>0.360588</td>\n",
       "    </tr>\n",
       "    <tr>\n",
       "      <th>TCGA-BJ-A0Z3-01</th>\n",
       "      <td>1</td>\n",
       "      <td>33</td>\n",
       "      <td>0</td>\n",
       "      <td>-0.287292</td>\n",
       "      <td>-1.766626</td>\n",
       "      <td>-0.531035</td>\n",
       "      <td>0.059628</td>\n",
       "      <td>0.920522</td>\n",
       "      <td>0.21849</td>\n",
       "      <td>0.336106</td>\n",
       "      <td>...</td>\n",
       "      <td>-0.413778</td>\n",
       "      <td>1.111583</td>\n",
       "      <td>1.158867</td>\n",
       "      <td>-1.28139</td>\n",
       "      <td>0.003723</td>\n",
       "      <td>1.240514</td>\n",
       "      <td>0.924373</td>\n",
       "      <td>-0.143495</td>\n",
       "      <td>2.613367</td>\n",
       "      <td>-0.030012</td>\n",
       "    </tr>\n",
       "  </tbody>\n",
       "</table>\n",
       "<p>5 rows × 20533 columns</p>\n",
       "</div>"
      ],
      "text/plain": [
       "                 Thyroid Cancer  Age  Gender  ARHGEF10L     HIF3A     RNF17  \\\n",
       "sampleID                                                                      \n",
       "TCGA-4C-A93U-01               1   74       0  -0.767592 -1.742926 -0.531035   \n",
       "TCGA-BJ-A0YZ-01               1   65       1   1.766308  0.273374 -0.531035   \n",
       "TCGA-BJ-A0Z0-01               1   55       1   0.986808 -2.165726 -0.050935   \n",
       "TCGA-BJ-A0Z2-01               1   57       1   0.767208 -1.623626 -0.531035   \n",
       "TCGA-BJ-A0Z3-01               1   33       0  -0.287292 -1.766626 -0.531035   \n",
       "\n",
       "                    RNF10     RNF11    RNF13   GTF2IP1  ...     TULP2  \\\n",
       "sampleID                                                ...             \n",
       "TCGA-4C-A93U-01 -0.067972  0.265922 -0.13531  0.440006  ... -0.748878   \n",
       "TCGA-BJ-A0YZ-01  0.790028  1.209322  0.01229  0.704606  ...  0.125322   \n",
       "TCGA-BJ-A0Z0-01  0.051428  0.979522  0.48229  0.090106  ... -0.748878   \n",
       "TCGA-BJ-A0Z2-01  0.182228  0.541622  0.65889  0.647206  ... -0.748878   \n",
       "TCGA-BJ-A0Z3-01  0.059628  0.920522  0.21849  0.336106  ... -0.413778   \n",
       "\n",
       "                    NPY5R     GNGT2    GNGT1     TULP3      PTRF     BCL6B  \\\n",
       "sampleID                                                                     \n",
       "TCGA-4C-A93U-01 -1.018517  0.205567 -1.28139  0.395523  1.735414  0.945273   \n",
       "TCGA-BJ-A0YZ-01  1.568883  0.626367  2.38101  0.275823  1.820014  2.140073   \n",
       "TCGA-BJ-A0Z0-01 -0.747417 -0.931133 -1.28139 -0.222077  0.293414  0.725173   \n",
       "TCGA-BJ-A0Z2-01 -1.587117 -1.292433 -1.28139 -0.602177  0.134114  0.894473   \n",
       "TCGA-BJ-A0Z3-01  1.111583  1.158867 -1.28139  0.003723  1.240514  0.924373   \n",
       "\n",
       "                    GSTK1      SELP      SELS  \n",
       "sampleID                                       \n",
       "TCGA-4C-A93U-01 -0.186695  4.024767 -0.273612  \n",
       "TCGA-BJ-A0YZ-01  1.380405  1.257367 -0.174312  \n",
       "TCGA-BJ-A0Z0-01 -0.254095  0.530667 -0.430812  \n",
       "TCGA-BJ-A0Z2-01 -0.380395 -2.502833  0.360588  \n",
       "TCGA-BJ-A0Z3-01 -0.143495  2.613367 -0.030012  \n",
       "\n",
       "[5 rows x 20533 columns]"
      ]
     },
     "execution_count": 21,
     "metadata": {},
     "output_type": "execute_result"
    }
   ],
   "source": [
    "merged_data = selected_clinical_data.join(genetic_data.T).dropna()\n",
    "merged_data.head()"
   ]
  },
  {
   "cell_type": "code",
   "execution_count": 22,
   "metadata": {
    "ExecuteTime": {
     "end_time": "2023-12-31T21:19:16.341121723Z",
     "start_time": "2023-12-31T21:19:16.330544222Z"
    }
   },
   "outputs": [
    {
     "name": "stdout",
     "output_type": "stream",
     "text": [
      "The merged dataset contains 572 samples.\n"
     ]
    }
   ],
   "source": [
    "print(f\"The merged dataset contains {len(merged_data)} samples.\")"
   ]
  },
  {
   "cell_type": "code",
   "execution_count": 23,
   "metadata": {
    "ExecuteTime": {
     "end_time": "2023-12-31T21:19:17.222505900Z",
     "start_time": "2023-12-31T21:19:17.218781412Z"
    }
   },
   "outputs": [
    {
     "name": "stdout",
     "output_type": "stream",
     "text": [
      "For the feature 'Thyroid Cancer', the least common label is '0' with 59 occurrences. This represents 10.31% of the dataset.\n",
      "The distribution of the feature 'Thyroid Cancer' in this dataset is fine.\n",
      "\n",
      "Quartiles for 'Age':\n",
      "  25%: 34.0\n",
      "  50% (Median): 46.0\n",
      "  75%: 58.0\n",
      "Min: 15\n",
      "Max: 89\n",
      "The distribution of the feature 'Age' in this dataset is fine.\n",
      "\n",
      "For the feature 'Gender', the least common label is '1' with 157 occurrences. This represents 27.45% of the dataset.\n",
      "The distribution of the feature 'Gender' in this dataset is fine.\n",
      "\n"
     ]
    },
    {
     "data": {
      "text/plain": [
       "False"
      ]
     },
     "execution_count": 23,
     "metadata": {},
     "output_type": "execute_result"
    }
   ],
   "source": [
    "is_trait_biased, merge_data = judge_and_remove_biased_features(merged_data, TRAIT, trait_type=trait_type)\n",
    "is_trait_biased"
   ]
  },
  {
   "cell_type": "code",
   "execution_count": 24,
   "metadata": {
    "ExecuteTime": {
     "end_time": "2023-12-31T21:19:35.401536463Z",
     "start_time": "2023-12-31T21:19:17.980683628Z"
    }
   },
   "outputs": [],
   "source": [
    "merged_data.head()\n",
    "if not is_trait_biased:\n",
    "    merge_data.to_csv(os.path.join(OUTPUT_DIR, cohort+'.csv'), index=False)"
   ]
  },
  {
   "cell_type": "code",
   "execution_count": 25,
   "metadata": {
    "ExecuteTime": {
     "end_time": "2023-12-31T21:19:35.405288661Z",
     "start_time": "2023-12-31T21:19:35.402799553Z"
    }
   },
   "outputs": [
    {
     "name": "stdout",
     "output_type": "stream",
     "text": [
      "A new JSON file was created at: ../../output1/Jinglin/Thyroid-Cancer/cohort_info.json\n"
     ]
    }
   ],
   "source": [
    "save_cohort_info(cohort, JSON_PATH, is_available, is_trait_biased, merged_data)"
   ]
  },
  {
   "cell_type": "markdown",
   "metadata": {
    "ExecuteTime": {
     "end_time": "2023-12-28T21:28:38.028916303Z",
     "start_time": "2023-12-28T21:28:38.016245426Z"
    }
   },
   "source": [
    "## 2.2. The GEO dataset"
   ]
  },
  {
   "cell_type": "markdown",
   "metadata": {
    "ExecuteTime": {
     "end_time": "2023-12-31T03:25:23.253882615Z",
     "start_time": "2023-12-31T03:25:23.244062710Z"
    }
   },
   "source": [
    "In GEO, there may be one or multiple cohorts for a trait. Each cohort is identified by an accession number. We iterate over all accession numbers in the corresponding subdirectory, preprocess the cohort data, and save them to csv files."
   ]
  },
  {
   "cell_type": "code",
   "execution_count": 13,
   "metadata": {
    "ExecuteTime": {
     "end_time": "2023-12-31T21:19:35.411177575Z",
     "start_time": "2023-12-31T21:19:35.405710636Z"
    }
   },
   "outputs": [
    {
     "data": {
      "text/plain": [
       "['GSE81071',\n",
       " 'GSE148346',\n",
       " 'GSE101620',\n",
       " 'GSE65391',\n",
       " 'GSE66664',\n",
       " 'GSE80342',\n",
       " 'GSE18876',\n",
       " 'GSE68801']"
      ]
     },
     "execution_count": 13,
     "metadata": {},
     "output_type": "execute_result"
    }
   ],
   "source": [
    "dataset = 'GEO'\n",
    "trait_subdir = \"Alopecia\"\n",
    "\n",
    "trait_path = os.path.join(DATA_ROOT, dataset, trait_subdir)\n",
    "os.listdir(trait_path)"
   ]
  },
  {
   "cell_type": "markdown",
   "metadata": {
    "ExecuteTime": {
     "end_time": "2023-12-31T03:39:42.634870142Z",
     "start_time": "2023-12-31T03:39:42.534093295Z"
    }
   },
   "source": [
    "Repeat the below steps for all the accession numbers"
   ]
  },
  {
   "cell_type": "code",
   "execution_count": 14,
   "metadata": {
    "ExecuteTime": {
     "end_time": "2023-12-31T21:19:35.413836016Z",
     "start_time": "2023-12-31T21:19:35.410443976Z"
    }
   },
   "outputs": [
    {
     "data": {
      "text/plain": [
       "('../../DATA/GEO/Alopecia/GSE66664/GSE66664_family.soft.gz',\n",
       " '../../DATA/GEO/Alopecia/GSE66664/GSE66664_series_matrix.txt.gz')"
      ]
     },
     "execution_count": 14,
     "metadata": {},
     "output_type": "execute_result"
    }
   ],
   "source": [
    "cohort = accession_num = \"GSE66664\"\n",
    "cohort_dir = os.path.join(trait_path, accession_num)\n",
    "soft_file, matrix_file = get_relevant_filepaths(cohort_dir)\n",
    "soft_file, matrix_file"
   ]
  },
  {
   "cell_type": "markdown",
   "metadata": {},
   "source": [
    "### Inital filtering and clinical data preprocessing"
   ]
  },
  {
   "cell_type": "code",
   "execution_count": 15,
   "metadata": {
    "ExecuteTime": {
     "end_time": "2023-12-31T21:19:35.492119842Z",
     "start_time": "2023-12-31T21:19:35.413383102Z"
    }
   },
   "outputs": [
    {
     "name": "stdout",
     "output_type": "stream",
     "text": [
      "!Series_title\t\"Transcriptome analysis reveals differences in vasculature signalling between human dermal papilla cells from balding and non-balding scalp\"\n",
      "!Series_summary\t\"Transcriptome analysis of hTERT-immortalized balding (BAB) and non-balding (BAN) dermal papilla cells derived from frontal and occipital scalp of male patients with androgenetic alopecia Hamilton grade IV. Interrogation of transcriptome differences between BAB and BAN after dihydrotestosterone (DHT, active metabolite of androgen) treatment revealed significant enrichment of vasculature-related genes among down-regulated genes in BAB compared to BAN.\"\n",
      "!Series_overall_design\t\"RNA obtained from BAB and BAN after treatment with 1nM or 10nM of DHT, 2-3 replicates for each condition\"\n"
     ]
    }
   ],
   "source": [
    "background_prefixes = ['!Series_title', '!Series_summary', '!Series_overall_design']\n",
    "clinical_prefixes = ['!Sample_geo_accession', '!Sample_characteristics_ch1']\n",
    "\n",
    "background_info, clinical_data = get_background_and_clinical_data(matrix_file, background_prefixes, clinical_prefixes)\n",
    "print(background_info)"
   ]
  },
  {
   "cell_type": "code",
   "execution_count": 16,
   "metadata": {
    "ExecuteTime": {
     "end_time": "2023-12-31T21:19:35.507840422Z",
     "start_time": "2023-12-31T21:19:35.451789107Z"
    }
   },
   "outputs": [
    {
     "data": {
      "text/html": [
       "<div>\n",
       "<style scoped>\n",
       "    .dataframe tbody tr th:only-of-type {\n",
       "        vertical-align: middle;\n",
       "    }\n",
       "\n",
       "    .dataframe tbody tr th {\n",
       "        vertical-align: top;\n",
       "    }\n",
       "\n",
       "    .dataframe thead th {\n",
       "        text-align: right;\n",
       "    }\n",
       "</style>\n",
       "<table border=\"1\" class=\"dataframe\">\n",
       "  <thead>\n",
       "    <tr style=\"text-align: right;\">\n",
       "      <th></th>\n",
       "      <th>!Sample_geo_accession</th>\n",
       "      <th>GSM1627302</th>\n",
       "      <th>GSM1627303</th>\n",
       "      <th>GSM1627304</th>\n",
       "      <th>GSM1627305</th>\n",
       "      <th>GSM1627306</th>\n",
       "      <th>GSM1627307</th>\n",
       "      <th>GSM1627308</th>\n",
       "      <th>GSM1627309</th>\n",
       "      <th>GSM1627310</th>\n",
       "      <th>...</th>\n",
       "      <th>GSM1627432</th>\n",
       "      <th>GSM1627433</th>\n",
       "      <th>GSM1627434</th>\n",
       "      <th>GSM1627435</th>\n",
       "      <th>GSM1627436</th>\n",
       "      <th>GSM1627437</th>\n",
       "      <th>GSM1627438</th>\n",
       "      <th>GSM1627439</th>\n",
       "      <th>GSM1627440</th>\n",
       "      <th>GSM1627441</th>\n",
       "    </tr>\n",
       "  </thead>\n",
       "  <tbody>\n",
       "    <tr>\n",
       "      <th>0</th>\n",
       "      <td>!Sample_characteristics_ch1</td>\n",
       "      <td>cell line: BAB</td>\n",
       "      <td>cell line: BAB</td>\n",
       "      <td>cell line: BAB</td>\n",
       "      <td>cell line: BAB</td>\n",
       "      <td>cell line: BAB</td>\n",
       "      <td>cell line: BAB</td>\n",
       "      <td>cell line: BAB</td>\n",
       "      <td>cell line: BAB</td>\n",
       "      <td>cell line: BAB</td>\n",
       "      <td>...</td>\n",
       "      <td>cell line: BAN</td>\n",
       "      <td>cell line: BAN</td>\n",
       "      <td>cell line: BAN</td>\n",
       "      <td>cell line: BAN</td>\n",
       "      <td>cell line: BAN</td>\n",
       "      <td>cell line: BAN</td>\n",
       "      <td>cell line: BAN</td>\n",
       "      <td>cell line: BAN</td>\n",
       "      <td>cell line: BAN</td>\n",
       "      <td>cell line: BAN</td>\n",
       "    </tr>\n",
       "    <tr>\n",
       "      <th>1</th>\n",
       "      <td>!Sample_characteristics_ch1</td>\n",
       "      <td>agent: DHT</td>\n",
       "      <td>agent: DHT</td>\n",
       "      <td>agent: DHT</td>\n",
       "      <td>agent: DHT</td>\n",
       "      <td>agent: DHT</td>\n",
       "      <td>agent: DHT</td>\n",
       "      <td>agent: DHT</td>\n",
       "      <td>agent: DHT</td>\n",
       "      <td>agent: DHT</td>\n",
       "      <td>...</td>\n",
       "      <td>agent: DHT</td>\n",
       "      <td>agent: DHT</td>\n",
       "      <td>agent: DHT</td>\n",
       "      <td>agent: DHT</td>\n",
       "      <td>agent: DHT</td>\n",
       "      <td>agent: DHT</td>\n",
       "      <td>agent: DHT</td>\n",
       "      <td>agent: DHT</td>\n",
       "      <td>agent: DHT</td>\n",
       "      <td>agent: DHT</td>\n",
       "    </tr>\n",
       "    <tr>\n",
       "      <th>2</th>\n",
       "      <td>!Sample_characteristics_ch1</td>\n",
       "      <td>dose: 10nM</td>\n",
       "      <td>dose: 10nM</td>\n",
       "      <td>dose: 10nM</td>\n",
       "      <td>dose: 10nM</td>\n",
       "      <td>dose: 10nM</td>\n",
       "      <td>dose: 10nM</td>\n",
       "      <td>dose: 10nM</td>\n",
       "      <td>dose: 10nM</td>\n",
       "      <td>dose: 10nM</td>\n",
       "      <td>...</td>\n",
       "      <td>dose: 1nM</td>\n",
       "      <td>dose: 1nM</td>\n",
       "      <td>dose: 1nM</td>\n",
       "      <td>dose: 1nM</td>\n",
       "      <td>dose: 1nM</td>\n",
       "      <td>dose: 1nM</td>\n",
       "      <td>dose: 1nM</td>\n",
       "      <td>dose: 1nM</td>\n",
       "      <td>dose: 1nM</td>\n",
       "      <td>dose: 1nM</td>\n",
       "    </tr>\n",
       "    <tr>\n",
       "      <th>3</th>\n",
       "      <td>!Sample_characteristics_ch1</td>\n",
       "      <td>time (treatment duration): 0h</td>\n",
       "      <td>time (treatment duration): 0h</td>\n",
       "      <td>time (treatment duration): 0h</td>\n",
       "      <td>time (treatment duration): 12h</td>\n",
       "      <td>time (treatment duration): 12h</td>\n",
       "      <td>time (treatment duration): 12h</td>\n",
       "      <td>time (treatment duration): 15min</td>\n",
       "      <td>time (treatment duration): 15min</td>\n",
       "      <td>time (treatment duration): 15min</td>\n",
       "      <td>...</td>\n",
       "      <td>time (treatment duration): 36h</td>\n",
       "      <td>time (treatment duration): 36h</td>\n",
       "      <td>time (treatment duration): 3h</td>\n",
       "      <td>time (treatment duration): 3h</td>\n",
       "      <td>time (treatment duration): 48h</td>\n",
       "      <td>time (treatment duration): 48h</td>\n",
       "      <td>time (treatment duration): 48h</td>\n",
       "      <td>time (treatment duration): 6h</td>\n",
       "      <td>time (treatment duration): 6h</td>\n",
       "      <td>time (treatment duration): 6h</td>\n",
       "    </tr>\n",
       "  </tbody>\n",
       "</table>\n",
       "<p>4 rows × 141 columns</p>\n",
       "</div>"
      ],
      "text/plain": [
       "         !Sample_geo_accession                     GSM1627302  \\\n",
       "0  !Sample_characteristics_ch1                 cell line: BAB   \n",
       "1  !Sample_characteristics_ch1                     agent: DHT   \n",
       "2  !Sample_characteristics_ch1                     dose: 10nM   \n",
       "3  !Sample_characteristics_ch1  time (treatment duration): 0h   \n",
       "\n",
       "                      GSM1627303                     GSM1627304  \\\n",
       "0                 cell line: BAB                 cell line: BAB   \n",
       "1                     agent: DHT                     agent: DHT   \n",
       "2                     dose: 10nM                     dose: 10nM   \n",
       "3  time (treatment duration): 0h  time (treatment duration): 0h   \n",
       "\n",
       "                       GSM1627305                      GSM1627306  \\\n",
       "0                  cell line: BAB                  cell line: BAB   \n",
       "1                      agent: DHT                      agent: DHT   \n",
       "2                      dose: 10nM                      dose: 10nM   \n",
       "3  time (treatment duration): 12h  time (treatment duration): 12h   \n",
       "\n",
       "                       GSM1627307                        GSM1627308  \\\n",
       "0                  cell line: BAB                    cell line: BAB   \n",
       "1                      agent: DHT                        agent: DHT   \n",
       "2                      dose: 10nM                        dose: 10nM   \n",
       "3  time (treatment duration): 12h  time (treatment duration): 15min   \n",
       "\n",
       "                         GSM1627309                        GSM1627310  ...  \\\n",
       "0                    cell line: BAB                    cell line: BAB  ...   \n",
       "1                        agent: DHT                        agent: DHT  ...   \n",
       "2                        dose: 10nM                        dose: 10nM  ...   \n",
       "3  time (treatment duration): 15min  time (treatment duration): 15min  ...   \n",
       "\n",
       "                       GSM1627432                      GSM1627433  \\\n",
       "0                  cell line: BAN                  cell line: BAN   \n",
       "1                      agent: DHT                      agent: DHT   \n",
       "2                       dose: 1nM                       dose: 1nM   \n",
       "3  time (treatment duration): 36h  time (treatment duration): 36h   \n",
       "\n",
       "                      GSM1627434                     GSM1627435  \\\n",
       "0                 cell line: BAN                 cell line: BAN   \n",
       "1                     agent: DHT                     agent: DHT   \n",
       "2                      dose: 1nM                      dose: 1nM   \n",
       "3  time (treatment duration): 3h  time (treatment duration): 3h   \n",
       "\n",
       "                       GSM1627436                      GSM1627437  \\\n",
       "0                  cell line: BAN                  cell line: BAN   \n",
       "1                      agent: DHT                      agent: DHT   \n",
       "2                       dose: 1nM                       dose: 1nM   \n",
       "3  time (treatment duration): 48h  time (treatment duration): 48h   \n",
       "\n",
       "                       GSM1627438                     GSM1627439  \\\n",
       "0                  cell line: BAN                 cell line: BAN   \n",
       "1                      agent: DHT                     agent: DHT   \n",
       "2                       dose: 1nM                      dose: 1nM   \n",
       "3  time (treatment duration): 48h  time (treatment duration): 6h   \n",
       "\n",
       "                      GSM1627440                     GSM1627441  \n",
       "0                 cell line: BAN                 cell line: BAN  \n",
       "1                     agent: DHT                     agent: DHT  \n",
       "2                      dose: 1nM                      dose: 1nM  \n",
       "3  time (treatment duration): 6h  time (treatment duration): 6h  \n",
       "\n",
       "[4 rows x 141 columns]"
      ]
     },
     "execution_count": 16,
     "metadata": {},
     "output_type": "execute_result"
    }
   ],
   "source": [
    "clinical_data.head()"
   ]
  },
  {
   "cell_type": "code",
   "execution_count": 17,
   "metadata": {
    "ExecuteTime": {
     "end_time": "2023-12-31T21:19:35.508015426Z",
     "start_time": "2023-12-31T21:19:35.492746637Z"
    }
   },
   "outputs": [
    {
     "data": {
      "text/plain": [
       "{0: ['cell line: BAB', 'cell line: BAN'],\n",
       " 1: ['agent: DHT'],\n",
       " 2: ['dose: 10nM', 'dose: 1nM'],\n",
       " 3: ['time (treatment duration): 0h',\n",
       "  'time (treatment duration): 12h',\n",
       "  'time (treatment duration): 15min',\n",
       "  'time (treatment duration): 16h',\n",
       "  'time (treatment duration): 1h',\n",
       "  'time (treatment duration): 20h',\n",
       "  'time (treatment duration): 24h',\n",
       "  'time (treatment duration): 30min',\n",
       "  'time (treatment duration): 36h',\n",
       "  'time (treatment duration): 3h',\n",
       "  'time (treatment duration): 48h',\n",
       "  'time (treatment duration): 6h']}"
      ]
     },
     "execution_count": 17,
     "metadata": {},
     "output_type": "execute_result"
    }
   ],
   "source": [
    "clinical_data_unique = get_unique_values_by_row(clinical_data)\n",
    "clinical_data_unique"
   ]
  },
  {
   "cell_type": "markdown",
   "metadata": {
    "ExecuteTime": {
     "end_time": "2023-12-31T03:58:04.978204446Z",
     "start_time": "2023-12-31T03:58:04.922270095Z"
    }
   },
   "source": [
    "Analyze the metadata to determine data relevance and find ways to extract the clinical data.\n",
    "Reference prompt:"
   ]
  },
  {
   "cell_type": "code",
   "execution_count": 18,
   "metadata": {
    "ExecuteTime": {
     "end_time": "2023-12-31T21:19:35.508232400Z",
     "start_time": "2023-12-31T21:19:35.492903487Z"
    }
   },
   "outputs": [
    {
     "data": {
      "text/plain": [
       "'As a biomedical research team, we are selecting datasets to study the association between the human trait \\'Alopecia\\' and genetic factors, optionally considering the influence of age and gender. After searching the GEO database and parsing the matrix file of a series, we obtained background information and sample characteristics data. We will provide textual information about the dataset background, and a Python dictionary storing a list of unique values for each field of the sample characteristics data. Please carefully review the provided information and answer the following questions about this dataset:\\n1. Does this dataset contain gene expression data? (Note: Pure miRNA data is not suitable.)\\n2. For each of the traits \\'Alopecia\\', \\'age\\', and \\'gender\\', please address these points:\\n   (1) Is there human data available for this trait?\\n   (2) If so, identify the key in the sample characteristics dictionary where unique values of this trait is recorded. The key is an integer. The trait information might be explicitly recorded, or can be inferred from the field with some biomedical knowledge or understanding about the data collection process.\\n   (3) Choose an appropriate data type (either \\'continuous\\' or \\'binary\\') for each trait. Write a Python function to convert any given value of the trait to this data type. The function should handle inference about the trait value and convert unknown values to None.\\n   Name the functions \\'convert_trait\\', \\'convert_age\\', and \\'convert_gender\\', respectively.\\n   NOTE: Function \"convert_trait\" should return 1 or 0.\\n   \\nBackground information about the dataset:\\n!Series_title\\t\"Transcriptome analysis reveals differences in vasculature signalling between human dermal papilla cells from balding and non-balding scalp\"\\n!Series_summary\\t\"Transcriptome analysis of hTERT-immortalized balding (BAB) and non-balding (BAN) dermal papilla cells derived from frontal and occipital scalp of male patients with androgenetic alopecia Hamilton grade IV. Interrogation of transcriptome differences between BAB and BAN after dihydrotestosterone (DHT, active metabolite of androgen) treatment revealed significant enrichment of vasculature-related genes among down-regulated genes in BAB compared to BAN.\"\\n!Series_overall_design\\t\"RNA obtained from BAB and BAN after treatment with 1nM or 10nM of DHT, 2-3 replicates for each condition\"\\n\\nSample characteristics dictionary (from \"!Sample_characteristics_ch1\", converted to a Python dictionary that stores the unique values for each field):\\n{0: [\\'cell line: BAB\\', \\'cell line: BAN\\'], 1: [\\'agent: DHT\\'], 2: [\\'dose: 10nM\\', \\'dose: 1nM\\'], 3: [\\'time (treatment duration): 0h\\', \\'time (treatment duration): 12h\\', \\'time (treatment duration): 15min\\', \\'time (treatment duration): 16h\\', \\'time (treatment duration): 1h\\', \\'time (treatment duration): 20h\\', \\'time (treatment duration): 24h\\', \\'time (treatment duration): 30min\\', \\'time (treatment duration): 36h\\', \\'time (treatment duration): 3h\\', \\'time (treatment duration): 48h\\', \\'time (treatment duration): 6h\\']}\\n'"
      ]
     },
     "execution_count": 18,
     "metadata": {},
     "output_type": "execute_result"
    }
   ],
   "source": [
    "f'''As a biomedical research team, we are selecting datasets to study the association between the human trait \\'{TRAIT}\\' and genetic factors, optionally considering the influence of age and gender. After searching the GEO database and parsing the matrix file of a series, we obtained background information and sample characteristics data. We will provide textual information about the dataset background, and a Python dictionary storing a list of unique values for each field of the sample characteristics data. Please carefully review the provided information and answer the following questions about this dataset:\n",
    "1. Does this dataset contain gene expression data? (Note: Pure miRNA data is not suitable.)\n",
    "2. For each of the traits \\'{TRAIT}\\', 'age', and 'gender', please address these points:\n",
    "   (1) Is there human data available for this trait?\n",
    "   (2) If so, identify the key in the sample characteristics dictionary where unique values of this trait is recorded. The key is an integer. The trait information might be explicitly recorded, or can be inferred from the field with some biomedical knowledge or understanding about the data collection process.\n",
    "   (3) Choose an appropriate data type (either 'continuous' or 'binary') for each trait. Write a Python function to convert any given value of the trait to this data type. The function should handle inference about the trait value and convert unknown values to None.\n",
    "   Name the functions 'convert_trait', 'convert_age', and 'convert_gender', respectively.\n",
    "   NOTE: Function \"convert_trait\" should return 1 or 0.\n",
    "   \n",
    "Background information about the dataset:\n",
    "{background_info}\n",
    "\n",
    "Sample characteristics dictionary (from \"!Sample_characteristics_ch1\", converted to a Python dictionary that stores the unique values for each field):\n",
    "{clinical_data_unique}\n",
    "'''"
   ]
  },
  {
   "cell_type": "markdown",
   "metadata": {
    "ExecuteTime": {
     "end_time": "2023-12-31T03:58:04.978240504Z",
     "start_time": "2023-12-31T03:58:04.922365324Z"
    }
   },
   "source": [
    "Understand and verify the answer from GPT, to assign values to the below variables. Assign None to the 'row_id' variables if relevant data row was not found.\n",
    "Later we need to let GPT format its answer to automatically do these. But given the complexity of this step, let's grow some insight from the free-text answers for now."
   ]
  },
  {
   "cell_type": "code",
   "execution_count": 26,
   "metadata": {},
   "outputs": [],
   "source": [
    "age_row = gender_row = None\n",
    "convert_age = convert_gender = None"
   ]
  },
  {
   "cell_type": "code",
   "execution_count": 27,
   "metadata": {
    "ExecuteTime": {
     "end_time": "2023-12-31T21:19:35.508295660Z",
     "start_time": "2023-12-31T21:19:35.493015671Z"
    }
   },
   "outputs": [],
   "source": [
    "is_gene_availabe = True\n",
    "# is_gene_availabe = False\n",
    "trait_row = 0\n",
    "trait_type = 'binary'\n",
    "\n",
    "age_row = None\n",
    "# age_row = 4\n",
    "\n",
    "gender_row = None\n",
    "# gender_row = 3"
   ]
  },
  {
   "cell_type": "code",
   "execution_count": 28,
   "metadata": {
    "ExecuteTime": {
     "end_time": "2023-12-31T21:19:35.508365153Z",
     "start_time": "2023-12-31T21:19:35.493151450Z"
    }
   },
   "outputs": [],
   "source": [
    "is_available = is_gene_availabe and (trait_row is not None)\n",
    "if not is_available:\n",
    "    save_cohort_info(cohort, JSON_PATH, is_available)\n",
    "    print(\"This cohort is not usable. Please skip the following steps and jump to the next accession number.\")"
   ]
  },
  {
   "cell_type": "code",
   "execution_count": 29,
   "metadata": {
    "ExecuteTime": {
     "end_time": "2023-12-31T21:19:35.508426069Z",
     "start_time": "2023-12-31T21:19:35.493220101Z"
    }
   },
   "outputs": [],
   "source": [
    "def convert_trait(value):\n",
    "    \"\"\"\n",
    "    Converts the given value to a binary data type based on whether it indicates balding or not.\n",
    "    Returns 1 for balding, 0 for non-balding, and None for unknown values.\n",
    "\n",
    "    :param value: The value to be converted (expected either 'cell line: BAB' or 'cell line: BAN').\n",
    "    :return: Binary representation of the trait (1 or 0) or None.\n",
    "    \"\"\"\n",
    "    if value == 'cell line: BAB':\n",
    "        return 1  # Balding\n",
    "    elif value == 'cell line: BAN':\n",
    "        return 0  # Non-balding\n",
    "    else:\n",
    "        return None  # Unknown value"
   ]
  },
  {
   "cell_type": "code",
   "execution_count": 30,
   "metadata": {
    "ExecuteTime": {
     "end_time": "2023-12-31T21:19:35.508533013Z",
     "start_time": "2023-12-31T21:19:35.493272992Z"
    }
   },
   "outputs": [
    {
     "data": {
      "text/html": [
       "<div>\n",
       "<style scoped>\n",
       "    .dataframe tbody tr th:only-of-type {\n",
       "        vertical-align: middle;\n",
       "    }\n",
       "\n",
       "    .dataframe tbody tr th {\n",
       "        vertical-align: top;\n",
       "    }\n",
       "\n",
       "    .dataframe thead th {\n",
       "        text-align: right;\n",
       "    }\n",
       "</style>\n",
       "<table border=\"1\" class=\"dataframe\">\n",
       "  <thead>\n",
       "    <tr style=\"text-align: right;\">\n",
       "      <th></th>\n",
       "      <th>GSM1627302</th>\n",
       "      <th>GSM1627303</th>\n",
       "      <th>GSM1627304</th>\n",
       "      <th>GSM1627305</th>\n",
       "      <th>GSM1627306</th>\n",
       "      <th>GSM1627307</th>\n",
       "      <th>GSM1627308</th>\n",
       "      <th>GSM1627309</th>\n",
       "      <th>GSM1627310</th>\n",
       "      <th>GSM1627311</th>\n",
       "      <th>...</th>\n",
       "      <th>GSM1627432</th>\n",
       "      <th>GSM1627433</th>\n",
       "      <th>GSM1627434</th>\n",
       "      <th>GSM1627435</th>\n",
       "      <th>GSM1627436</th>\n",
       "      <th>GSM1627437</th>\n",
       "      <th>GSM1627438</th>\n",
       "      <th>GSM1627439</th>\n",
       "      <th>GSM1627440</th>\n",
       "      <th>GSM1627441</th>\n",
       "    </tr>\n",
       "  </thead>\n",
       "  <tbody>\n",
       "    <tr>\n",
       "      <th>Alopecia</th>\n",
       "      <td>1</td>\n",
       "      <td>1</td>\n",
       "      <td>1</td>\n",
       "      <td>1</td>\n",
       "      <td>1</td>\n",
       "      <td>1</td>\n",
       "      <td>1</td>\n",
       "      <td>1</td>\n",
       "      <td>1</td>\n",
       "      <td>1</td>\n",
       "      <td>...</td>\n",
       "      <td>0</td>\n",
       "      <td>0</td>\n",
       "      <td>0</td>\n",
       "      <td>0</td>\n",
       "      <td>0</td>\n",
       "      <td>0</td>\n",
       "      <td>0</td>\n",
       "      <td>0</td>\n",
       "      <td>0</td>\n",
       "      <td>0</td>\n",
       "    </tr>\n",
       "  </tbody>\n",
       "</table>\n",
       "<p>1 rows × 140 columns</p>\n",
       "</div>"
      ],
      "text/plain": [
       "          GSM1627302  GSM1627303  GSM1627304  GSM1627305  GSM1627306  \\\n",
       "Alopecia           1           1           1           1           1   \n",
       "\n",
       "          GSM1627307  GSM1627308  GSM1627309  GSM1627310  GSM1627311  ...  \\\n",
       "Alopecia           1           1           1           1           1  ...   \n",
       "\n",
       "          GSM1627432  GSM1627433  GSM1627434  GSM1627435  GSM1627436  \\\n",
       "Alopecia           0           0           0           0           0   \n",
       "\n",
       "          GSM1627437  GSM1627438  GSM1627439  GSM1627440  GSM1627441  \n",
       "Alopecia           0           0           0           0           0  \n",
       "\n",
       "[1 rows x 140 columns]"
      ]
     },
     "execution_count": 30,
     "metadata": {},
     "output_type": "execute_result"
    }
   ],
   "source": [
    "selected_clinical_data = geo_select_clinical_features(clinical_data, TRAIT, trait_row, convert_trait, age_row=age_row,\n",
    "                                                      convert_age=convert_age, gender_row=gender_row,\n",
    "                                                      convert_gender=convert_gender)\n",
    "selected_clinical_data.head()"
   ]
  },
  {
   "cell_type": "markdown",
   "metadata": {
    "ExecuteTime": {
     "end_time": "2023-12-31T03:58:04.978664193Z",
     "start_time": "2023-12-31T03:58:04.966117261Z"
    }
   },
   "source": [
    "### Genetic data preprocessing and final filtering"
   ]
  },
  {
   "cell_type": "code",
   "execution_count": 33,
   "metadata": {
    "ExecuteTime": {
     "end_time": "2023-12-31T21:19:35.590261560Z",
     "start_time": "2023-12-31T21:19:35.493320362Z"
    }
   },
   "outputs": [
    {
     "data": {
      "text/html": [
       "<div>\n",
       "<style scoped>\n",
       "    .dataframe tbody tr th:only-of-type {\n",
       "        vertical-align: middle;\n",
       "    }\n",
       "\n",
       "    .dataframe tbody tr th {\n",
       "        vertical-align: top;\n",
       "    }\n",
       "\n",
       "    .dataframe thead th {\n",
       "        text-align: right;\n",
       "    }\n",
       "</style>\n",
       "<table border=\"1\" class=\"dataframe\">\n",
       "  <thead>\n",
       "    <tr style=\"text-align: right;\">\n",
       "      <th></th>\n",
       "      <th>GSM1627302</th>\n",
       "      <th>GSM1627303</th>\n",
       "      <th>GSM1627304</th>\n",
       "      <th>GSM1627305</th>\n",
       "      <th>GSM1627306</th>\n",
       "      <th>GSM1627307</th>\n",
       "      <th>GSM1627308</th>\n",
       "      <th>GSM1627309</th>\n",
       "      <th>GSM1627310</th>\n",
       "      <th>GSM1627311</th>\n",
       "      <th>...</th>\n",
       "      <th>GSM1627432</th>\n",
       "      <th>GSM1627433</th>\n",
       "      <th>GSM1627434</th>\n",
       "      <th>GSM1627435</th>\n",
       "      <th>GSM1627436</th>\n",
       "      <th>GSM1627437</th>\n",
       "      <th>GSM1627438</th>\n",
       "      <th>GSM1627439</th>\n",
       "      <th>GSM1627440</th>\n",
       "      <th>GSM1627441</th>\n",
       "    </tr>\n",
       "    <tr>\n",
       "      <th>ID</th>\n",
       "      <th></th>\n",
       "      <th></th>\n",
       "      <th></th>\n",
       "      <th></th>\n",
       "      <th></th>\n",
       "      <th></th>\n",
       "      <th></th>\n",
       "      <th></th>\n",
       "      <th></th>\n",
       "      <th></th>\n",
       "      <th></th>\n",
       "      <th></th>\n",
       "      <th></th>\n",
       "      <th></th>\n",
       "      <th></th>\n",
       "      <th></th>\n",
       "      <th></th>\n",
       "      <th></th>\n",
       "      <th></th>\n",
       "      <th></th>\n",
       "      <th></th>\n",
       "    </tr>\n",
       "  </thead>\n",
       "  <tbody>\n",
       "    <tr>\n",
       "      <th>ILMN_1343291</th>\n",
       "      <td>14.824485</td>\n",
       "      <td>14.824485</td>\n",
       "      <td>14.788861</td>\n",
       "      <td>14.728368</td>\n",
       "      <td>14.709844</td>\n",
       "      <td>14.709844</td>\n",
       "      <td>14.709844</td>\n",
       "      <td>14.788861</td>\n",
       "      <td>14.766228</td>\n",
       "      <td>14.824485</td>\n",
       "      <td>...</td>\n",
       "      <td>14.788861</td>\n",
       "      <td>14.691452</td>\n",
       "      <td>14.766228</td>\n",
       "      <td>14.824485</td>\n",
       "      <td>14.766228</td>\n",
       "      <td>14.766228</td>\n",
       "      <td>14.709844</td>\n",
       "      <td>14.674859</td>\n",
       "      <td>14.709844</td>\n",
       "      <td>14.824485</td>\n",
       "    </tr>\n",
       "    <tr>\n",
       "      <th>ILMN_1343295</th>\n",
       "      <td>13.033633</td>\n",
       "      <td>13.117320</td>\n",
       "      <td>12.770128</td>\n",
       "      <td>12.941854</td>\n",
       "      <td>13.044267</td>\n",
       "      <td>12.802287</td>\n",
       "      <td>12.866651</td>\n",
       "      <td>13.023121</td>\n",
       "      <td>12.651381</td>\n",
       "      <td>12.914239</td>\n",
       "      <td>...</td>\n",
       "      <td>12.347862</td>\n",
       "      <td>12.823303</td>\n",
       "      <td>12.990397</td>\n",
       "      <td>12.415548</td>\n",
       "      <td>13.108542</td>\n",
       "      <td>12.232160</td>\n",
       "      <td>12.797953</td>\n",
       "      <td>13.004498</td>\n",
       "      <td>12.433489</td>\n",
       "      <td>12.804583</td>\n",
       "    </tr>\n",
       "    <tr>\n",
       "      <th>ILMN_1651199</th>\n",
       "      <td>5.783288</td>\n",
       "      <td>5.431169</td>\n",
       "      <td>5.266022</td>\n",
       "      <td>5.693007</td>\n",
       "      <td>5.593886</td>\n",
       "      <td>5.564805</td>\n",
       "      <td>5.742819</td>\n",
       "      <td>5.628687</td>\n",
       "      <td>5.555745</td>\n",
       "      <td>5.669864</td>\n",
       "      <td>...</td>\n",
       "      <td>5.896344</td>\n",
       "      <td>5.700576</td>\n",
       "      <td>5.537633</td>\n",
       "      <td>5.553991</td>\n",
       "      <td>5.678688</td>\n",
       "      <td>5.559484</td>\n",
       "      <td>5.721028</td>\n",
       "      <td>5.583759</td>\n",
       "      <td>5.753718</td>\n",
       "      <td>5.679202</td>\n",
       "    </tr>\n",
       "    <tr>\n",
       "      <th>ILMN_1651209</th>\n",
       "      <td>5.827432</td>\n",
       "      <td>5.660542</td>\n",
       "      <td>5.920475</td>\n",
       "      <td>6.057376</td>\n",
       "      <td>5.820518</td>\n",
       "      <td>5.890001</td>\n",
       "      <td>5.760850</td>\n",
       "      <td>5.557443</td>\n",
       "      <td>5.852394</td>\n",
       "      <td>5.491696</td>\n",
       "      <td>...</td>\n",
       "      <td>5.930372</td>\n",
       "      <td>5.919904</td>\n",
       "      <td>5.743911</td>\n",
       "      <td>5.640238</td>\n",
       "      <td>5.930781</td>\n",
       "      <td>6.001091</td>\n",
       "      <td>5.972834</td>\n",
       "      <td>5.808267</td>\n",
       "      <td>5.850702</td>\n",
       "      <td>5.702466</td>\n",
       "    </tr>\n",
       "    <tr>\n",
       "      <th>ILMN_1651210</th>\n",
       "      <td>5.675353</td>\n",
       "      <td>5.707642</td>\n",
       "      <td>5.654719</td>\n",
       "      <td>5.587755</td>\n",
       "      <td>5.800296</td>\n",
       "      <td>5.749819</td>\n",
       "      <td>5.566861</td>\n",
       "      <td>5.565154</td>\n",
       "      <td>5.675260</td>\n",
       "      <td>5.960115</td>\n",
       "      <td>...</td>\n",
       "      <td>5.718479</td>\n",
       "      <td>5.809575</td>\n",
       "      <td>5.522222</td>\n",
       "      <td>5.676399</td>\n",
       "      <td>5.789016</td>\n",
       "      <td>5.755087</td>\n",
       "      <td>5.889422</td>\n",
       "      <td>5.729742</td>\n",
       "      <td>5.582547</td>\n",
       "      <td>5.781765</td>\n",
       "    </tr>\n",
       "  </tbody>\n",
       "</table>\n",
       "<p>5 rows × 140 columns</p>\n",
       "</div>"
      ],
      "text/plain": [
       "              GSM1627302  GSM1627303  GSM1627304  GSM1627305  GSM1627306  \\\n",
       "ID                                                                         \n",
       "ILMN_1343291   14.824485   14.824485   14.788861   14.728368   14.709844   \n",
       "ILMN_1343295   13.033633   13.117320   12.770128   12.941854   13.044267   \n",
       "ILMN_1651199    5.783288    5.431169    5.266022    5.693007    5.593886   \n",
       "ILMN_1651209    5.827432    5.660542    5.920475    6.057376    5.820518   \n",
       "ILMN_1651210    5.675353    5.707642    5.654719    5.587755    5.800296   \n",
       "\n",
       "              GSM1627307  GSM1627308  GSM1627309  GSM1627310  GSM1627311  ...  \\\n",
       "ID                                                                        ...   \n",
       "ILMN_1343291   14.709844   14.709844   14.788861   14.766228   14.824485  ...   \n",
       "ILMN_1343295   12.802287   12.866651   13.023121   12.651381   12.914239  ...   \n",
       "ILMN_1651199    5.564805    5.742819    5.628687    5.555745    5.669864  ...   \n",
       "ILMN_1651209    5.890001    5.760850    5.557443    5.852394    5.491696  ...   \n",
       "ILMN_1651210    5.749819    5.566861    5.565154    5.675260    5.960115  ...   \n",
       "\n",
       "              GSM1627432  GSM1627433  GSM1627434  GSM1627435  GSM1627436  \\\n",
       "ID                                                                         \n",
       "ILMN_1343291   14.788861   14.691452   14.766228   14.824485   14.766228   \n",
       "ILMN_1343295   12.347862   12.823303   12.990397   12.415548   13.108542   \n",
       "ILMN_1651199    5.896344    5.700576    5.537633    5.553991    5.678688   \n",
       "ILMN_1651209    5.930372    5.919904    5.743911    5.640238    5.930781   \n",
       "ILMN_1651210    5.718479    5.809575    5.522222    5.676399    5.789016   \n",
       "\n",
       "              GSM1627437  GSM1627438  GSM1627439  GSM1627440  GSM1627441  \n",
       "ID                                                                        \n",
       "ILMN_1343291   14.766228   14.709844   14.674859   14.709844   14.824485  \n",
       "ILMN_1343295   12.232160   12.797953   13.004498   12.433489   12.804583  \n",
       "ILMN_1651199    5.559484    5.721028    5.583759    5.753718    5.679202  \n",
       "ILMN_1651209    6.001091    5.972834    5.808267    5.850702    5.702466  \n",
       "ILMN_1651210    5.755087    5.889422    5.729742    5.582547    5.781765  \n",
       "\n",
       "[5 rows x 140 columns]"
      ]
     },
     "execution_count": 33,
     "metadata": {},
     "output_type": "execute_result"
    }
   ],
   "source": [
    "genetic_data = get_genetic_data(matrix_file)\n",
    "genetic_data.head()"
   ]
  },
  {
   "cell_type": "code",
   "execution_count": 34,
   "metadata": {
    "ExecuteTime": {
     "end_time": "2023-12-31T21:19:35.590443507Z",
     "start_time": "2023-12-31T21:19:35.536713559Z"
    }
   },
   "outputs": [
    {
     "data": {
      "text/plain": [
       "['ILMN_1343291',\n",
       " 'ILMN_1343295',\n",
       " 'ILMN_1651199',\n",
       " 'ILMN_1651209',\n",
       " 'ILMN_1651210',\n",
       " 'ILMN_1651221',\n",
       " 'ILMN_1651228',\n",
       " 'ILMN_1651229',\n",
       " 'ILMN_1651230',\n",
       " 'ILMN_1651232',\n",
       " 'ILMN_1651235',\n",
       " 'ILMN_1651236',\n",
       " 'ILMN_1651237',\n",
       " 'ILMN_1651238',\n",
       " 'ILMN_1651249',\n",
       " 'ILMN_1651253',\n",
       " 'ILMN_1651254',\n",
       " 'ILMN_1651259',\n",
       " 'ILMN_1651260',\n",
       " 'ILMN_1651262']"
      ]
     },
     "execution_count": 34,
     "metadata": {},
     "output_type": "execute_result"
    }
   ],
   "source": [
    "gene_row_ids = genetic_data.index[:20].tolist()\n",
    "gene_row_ids"
   ]
  },
  {
   "cell_type": "markdown",
   "metadata": {
    "ExecuteTime": {
     "end_time": "2023-12-31T03:30:41.595335164Z",
     "start_time": "2023-12-31T03:30:41.513232329Z"
    }
   },
   "source": [
    "Check if the gene dataset requires mapping to get the gene symbols corresponding to each data row."
   ]
  },
  {
   "cell_type": "markdown",
   "metadata": {},
   "source": [
    "Reference prompt:"
   ]
  },
  {
   "cell_type": "code",
   "execution_count": 35,
   "metadata": {
    "ExecuteTime": {
     "end_time": "2023-12-31T21:19:35.590590427Z",
     "start_time": "2023-12-31T21:19:35.536780517Z"
    },
    "scrolled": true
   },
   "outputs": [
    {
     "data": {
      "text/plain": [
       "\"\\nBelow are the row headers of a gene expression dataset in GEO. Based on your biomedical knowledge, are they human gene symbols, or are they some other identifiers that need to be mapped to gene symbols? Your answer should be concluded by starting a new line and strictly following this format:\\nrequires_gene_mapping = (True or False)\\n\\nRow headers:\\n['ILMN_1343291', 'ILMN_1343295', 'ILMN_1651199', 'ILMN_1651209', 'ILMN_1651210', 'ILMN_1651221', 'ILMN_1651228', 'ILMN_1651229', 'ILMN_1651230', 'ILMN_1651232', 'ILMN_1651235', 'ILMN_1651236', 'ILMN_1651237', 'ILMN_1651238', 'ILMN_1651249', 'ILMN_1651253', 'ILMN_1651254', 'ILMN_1651259', 'ILMN_1651260', 'ILMN_1651262']\\n\""
      ]
     },
     "execution_count": 35,
     "metadata": {},
     "output_type": "execute_result"
    }
   ],
   "source": [
    "f'''\n",
    "Below are the row headers of a gene expression dataset in GEO. Based on your biomedical knowledge, are they human gene symbols, or are they some other identifiers that need to be mapped to gene symbols? Your answer should be concluded by starting a new line and strictly following this format:\n",
    "requires_gene_mapping = (True or False)\n",
    "\n",
    "Row headers:\n",
    "{gene_row_ids}\n",
    "'''"
   ]
  },
  {
   "cell_type": "markdown",
   "metadata": {},
   "source": [
    "If not required, jump directly to the gene normalization step"
   ]
  },
  {
   "cell_type": "code",
   "execution_count": 36,
   "metadata": {
    "ExecuteTime": {
     "end_time": "2023-12-31T21:19:35.590648558Z",
     "start_time": "2023-12-31T21:19:35.536821375Z"
    }
   },
   "outputs": [],
   "source": [
    "requires_gene_mapping = True"
   ]
  },
  {
   "cell_type": "code",
   "execution_count": 38,
   "metadata": {
    "ExecuteTime": {
     "end_time": "2023-12-31T21:19:35.590695457Z",
     "start_time": "2023-12-31T21:19:35.536910836Z"
    }
   },
   "outputs": [
    {
     "name": "stdout",
     "output_type": "stream",
     "text": [
      "{'ID': ['ILMN_1343048', 'ILMN_1343049', 'ILMN_1343050', 'ILMN_1343052', 'ILMN_1343059'], 'Species': [nan, nan, nan, nan, nan], 'Source': [nan, nan, nan, nan, nan], 'Search_Key': [nan, nan, nan, nan, nan], 'Transcript': [nan, nan, nan, nan, nan], 'ILMN_Gene': [nan, nan, nan, nan, nan], 'Source_Reference_ID': [nan, nan, nan, nan, nan], 'RefSeq_ID': [nan, nan, nan, nan, nan], 'Unigene_ID': [nan, nan, nan, nan, nan], 'Entrez_Gene_ID': [nan, nan, nan, nan, nan], 'GI': [nan, nan, nan, nan, nan], 'Accession': [nan, nan, nan, nan, nan], 'Symbol': ['phage_lambda_genome', 'phage_lambda_genome', 'phage_lambda_genome:low', 'phage_lambda_genome:low', 'thrB'], 'Protein_Product': [nan, nan, nan, nan, 'thrB'], 'Probe_Id': [nan, nan, nan, nan, nan], 'Array_Address_Id': [5090180.0, 6510136.0, 7560739.0, 1450438.0, 1240647.0], 'Probe_Type': [nan, nan, nan, nan, nan], 'Probe_Start': [nan, nan, nan, nan, nan], 'SEQUENCE': ['GAATAAAGAACAATCTGCTGATGATCCCTCCGTGGATCTGATTCGTGTAA', 'CCATGTGATACGAGGGCGCGTAGTTTGCATTATCGTTTTTATCGTTTCAA', 'CCGACAGATGTATGTAAGGCCAACGTGCTCAAATCTTCATACAGAAAGAT', 'TCTGTCACTGTCAGGAAAGTGGTAAAACTGCAACTCAATTACTGCAATGC', 'CTTGTGCCTGAGCTGTCAAAAGTAGAGCACGTCGCCGAGATGAAGGGCGC'], 'Chromosome': [nan, nan, nan, nan, nan], 'Probe_Chr_Orientation': [nan, nan, nan, nan, nan], 'Probe_Coordinates': [nan, nan, nan, nan, nan], 'Cytoband': [nan, nan, nan, nan, nan], 'Definition': [nan, nan, nan, nan, nan], 'Ontology_Component': [nan, nan, nan, nan, nan], 'Ontology_Process': [nan, nan, nan, nan, nan], 'Ontology_Function': [nan, nan, nan, nan, nan], 'Synonyms': [nan, nan, nan, nan, nan], 'Obsolete_Probe_Id': [nan, nan, nan, nan, nan], 'GB_ACC': [nan, nan, nan, nan, nan]}\n"
     ]
    }
   ],
   "source": [
    "if requires_gene_mapping:\n",
    "    gene_annotation = get_gene_annotation(soft_file)\n",
    "    gene_annotation_summary = preview_df(gene_annotation)\n",
    "    print(gene_annotation_summary)"
   ]
  },
  {
   "cell_type": "markdown",
   "metadata": {
    "ExecuteTime": {
     "end_time": "2023-12-31T03:58:04.978931927Z",
     "start_time": "2023-12-31T03:58:04.966328339Z"
    }
   },
   "source": [
    "Observe the first few cells in the ID column of the gene annotation dataframe, to find the names of columns that store the gene probe IDs and gene symbols respectively.\n",
    "Reference prompt:"
   ]
  },
  {
   "cell_type": "code",
   "execution_count": 39,
   "metadata": {
    "ExecuteTime": {
     "end_time": "2023-12-31T21:19:35.590742236Z",
     "start_time": "2023-12-31T21:19:35.537050893Z"
    }
   },
   "outputs": [
    {
     "data": {
      "text/plain": [
       "\"\\nAs a biomedical research team, we extracted the gene annotation data from a series in the GEO database, and saved it to a Python dictionary. Please read the dictionary, and decide which key stores the ID of the probe, and which key stores the gene symbols. Please strict follow this format in your answer:\\nprobe_id_key = key_name1\\ngene_symb_key = key_name2\\n\\nGene annotation dictionary:\\n{'ID': ['ILMN_1343048', 'ILMN_1343049', 'ILMN_1343050', 'ILMN_1343052', 'ILMN_1343059'], 'Species': [nan, nan, nan, nan, nan], 'Source': [nan, nan, nan, nan, nan], 'Search_Key': [nan, nan, nan, nan, nan], 'Transcript': [nan, nan, nan, nan, nan], 'ILMN_Gene': [nan, nan, nan, nan, nan], 'Source_Reference_ID': [nan, nan, nan, nan, nan], 'RefSeq_ID': [nan, nan, nan, nan, nan], 'Unigene_ID': [nan, nan, nan, nan, nan], 'Entrez_Gene_ID': [nan, nan, nan, nan, nan], 'GI': [nan, nan, nan, nan, nan], 'Accession': [nan, nan, nan, nan, nan], 'Symbol': ['phage_lambda_genome', 'phage_lambda_genome', 'phage_lambda_genome:low', 'phage_lambda_genome:low', 'thrB'], 'Protein_Product': [nan, nan, nan, nan, 'thrB'], 'Probe_Id': [nan, nan, nan, nan, nan], 'Array_Address_Id': [5090180.0, 6510136.0, 7560739.0, 1450438.0, 1240647.0], 'Probe_Type': [nan, nan, nan, nan, nan], 'Probe_Start': [nan, nan, nan, nan, nan], 'SEQUENCE': ['GAATAAAGAACAATCTGCTGATGATCCCTCCGTGGATCTGATTCGTGTAA', 'CCATGTGATACGAGGGCGCGTAGTTTGCATTATCGTTTTTATCGTTTCAA', 'CCGACAGATGTATGTAAGGCCAACGTGCTCAAATCTTCATACAGAAAGAT', 'TCTGTCACTGTCAGGAAAGTGGTAAAACTGCAACTCAATTACTGCAATGC', 'CTTGTGCCTGAGCTGTCAAAAGTAGAGCACGTCGCCGAGATGAAGGGCGC'], 'Chromosome': [nan, nan, nan, nan, nan], 'Probe_Chr_Orientation': [nan, nan, nan, nan, nan], 'Probe_Coordinates': [nan, nan, nan, nan, nan], 'Cytoband': [nan, nan, nan, nan, nan], 'Definition': [nan, nan, nan, nan, nan], 'Ontology_Component': [nan, nan, nan, nan, nan], 'Ontology_Process': [nan, nan, nan, nan, nan], 'Ontology_Function': [nan, nan, nan, nan, nan], 'Synonyms': [nan, nan, nan, nan, nan], 'Obsolete_Probe_Id': [nan, nan, nan, nan, nan], 'GB_ACC': [nan, nan, nan, nan, nan]}\\n\""
      ]
     },
     "execution_count": 39,
     "metadata": {},
     "output_type": "execute_result"
    }
   ],
   "source": [
    "# if requires_gene_mapping:\n",
    "f'''\n",
    "As a biomedical research team, we extracted the gene annotation data from a series in the GEO database, and saved it to a Python dictionary. Please read the dictionary, and decide which key stores the ID of the probe, and which key stores the gene symbols. Please strict follow this format in your answer:\n",
    "probe_id_key = key_name1\n",
    "gene_symb_key = key_name2\n",
    "\n",
    "Gene annotation dictionary:\n",
    "{gene_annotation_summary}\n",
    "'''"
   ]
  },
  {
   "cell_type": "code",
   "execution_count": 41,
   "metadata": {
    "ExecuteTime": {
     "end_time": "2023-12-31T21:19:35.590786881Z",
     "start_time": "2023-12-31T21:19:35.537132859Z"
    }
   },
   "outputs": [],
   "source": [
    "if requires_gene_mapping:\n",
    "    probe_id_key = 'ID'\n",
    "    gene_symb_key = 'Symbol'\n",
    "    gene_mapping = get_gene_mapping(gene_annotation, probe_id_key, gene_symb_key)\n",
    "    genetic_data = apply_gene_mapping(genetic_data, gene_mapping)"
   ]
  },
  {
   "cell_type": "code",
   "execution_count": 42,
   "metadata": {
    "ExecuteTime": {
     "end_time": "2023-12-31T21:19:35.590837318Z",
     "start_time": "2023-12-31T21:19:35.537209586Z"
    }
   },
   "outputs": [
    {
     "name": "stderr",
     "output_type": "stream",
     "text": [
      "14 input query terms found dup hits:\t[('ABCC13', 2), ('ABCC6P1', 2), ('ABCC6P2', 3), ('ADAM6', 3), ('AGAP11', 2), ('AK2P2', 2), ('ALOX12P\n",
      "106 input query terms found no hit:\t['1-Dec', '1-Mar', '10-Mar', '11-Mar', '2-Mar', '3-Mar', '4-Mar', '5-Mar', '6-Mar', '7-Mar', '7A5', \n",
      "7 input query terms found dup hits:\t[('ATP6AP1L', 2), ('ATXN8OS', 2), ('BAGE2', 2), ('BMP2KL', 2), ('BRD7P2', 2), ('BRD7P3', 2), ('BRI3P\n",
      "361 input query terms found no hit:\t['ARMC4', 'ARMET', 'ARNTL', 'ARNTL2', 'ARP11', 'ARPM1', 'ARPM2', 'ARPP-21', 'ARS2', 'ARSE', 'ARVP612\n",
      "2 input query terms found dup hits:\t[('C2orf83', 2), ('C5orf60', 2)]\n",
      "810 input query terms found no hit:\t['C15orf34', 'C15orf37', 'C15orf38', 'C15orf41', 'C15orf42', 'C15orf43', 'C15orf44', 'C15orf49', 'C1\n",
      "8 input query terms found dup hits:\t[('CATSPER2P1', 2), ('CCDC144NL', 2), ('CCNYL2', 2), ('CCNYL3', 2), ('CCT6P1', 2), ('CDR1', 2), ('CE\n",
      "137 input query terms found no hit:\t['C9orf82', 'C9orf84', 'C9orf86', 'C9orf89', 'C9orf9', 'C9orf90', 'C9orf91', 'C9orf93', 'C9orf95', '\n",
      "5 input query terms found dup hits:\t[('CLEC4GP1', 2), ('COPG2IT1', 2), ('CXADRP2', 3), ('CXADRP3', 2), ('CYP4Z2P', 2)]\n",
      "118 input query terms found no hit:\t['CLECL1', 'CLK2P', 'CLLU1OS', 'CLRN1OS', 'CMAH', 'CMYA3', 'CNIH', 'CNO', 'CNTD2', 'COBRA1', 'COL28'\n",
      "11 input query terms found dup hits:\t[('DEFB117', 2), ('DEFB122', 2), ('DHRS4L1', 3), ('DIRC1', 2), ('DLEU2L', 2), ('DNM1P35', 2), ('DPRX\n",
      "198 input query terms found no hit:\t['DEFB109', 'DEFB109P1', 'DEFB130', 'DEFB131', 'DEFB137', 'DEFB32', 'DEFB4', 'DEM1', 'DEPDC6', 'DFNA\n",
      "8 input query terms found dup hits:\t[('ESPNP', 2), ('FAM197Y2', 3), ('FAM41AY2', 2), ('FAM74A3', 2), ('FAM90A2P', 2), ('FAM90A6P', 3), (\n",
      "424 input query terms found no hit:\t['ERCC-00138', 'ERCC-00142', 'ERCC-00143', 'ERCC-00144', 'ERCC-00145', 'ERCC-00147', 'ERCC-00148', '\n",
      "7 input query terms found dup hits:\t[('FMO9P', 2), ('FOLH1B', 2), ('GABPAP', 2), ('GAGE12B', 2), ('GGT3P', 2), ('GGT8P', 2), ('GLRA4', 2\n",
      "299 input query terms found no hit:\t['FLJ34306', 'FLJ34503', 'FLJ34690', 'FLJ34870', 'FLJ34969', 'FLJ35024', 'FLJ35220', 'FLJ35258', 'FL\n",
      "18 input query terms found dup hits:\t[('GTF2H2B', 2), ('GTF2IP1', 2), ('HAR1A', 2), ('HBBP1', 2), ('HBD', 2), ('HCG4', 9), ('HERC2P2', 3)\n",
      "213 input query terms found no hit:\t['GPR125', 'GPR126', 'GPR128', 'GPR133', 'GPR144', 'GPR158L1', 'GPR172A', 'GPR172B', 'GPR175', 'GPR1\n",
      "4 input query terms found dup hits:\t[('IFITM4P', 8), ('KIR3DP1', 10), ('KIR3DX1', 5), ('KLKP1', 2)]\n",
      "227 input query terms found no hit:\t['IFIT1L', 'IFLTD1', 'IFNE1', 'IFP38', 'IFRG15', 'IGF2AS', 'IGJ', 'IGLL3', 'IGSF2', 'IHPK3', 'IIP45'\n",
      "14 input query terms found dup hits:\t[('KRT126P', 2), ('KRT17P3', 2), ('KRT18P13', 2), ('KRT18P17', 2), ('KRT18P19', 2), ('KRT18P26', 2),\n",
      "513 input query terms found no hit:\t['KRTAP9-5', 'KRTHA5', 'KRTHB6', 'KTELC1', 'L3MBTL', 'LACE1', 'LAMB2L', 'LARGE', 'LARS', 'LASS1', 'L\n",
      "956 input query terms found no hit:\t['LOC100129578', 'LOC100129580', 'LOC100129585', 'LOC100129588', 'LOC100129596', 'LOC100129599', 'LO\n",
      "973 input query terms found no hit:\t['LOC100132807', 'LOC100132810', 'LOC100132811', 'LOC100132813', 'LOC100132814', 'LOC100132815', 'LO\n",
      "922 input query terms found no hit:\t['LOC25845', 'LOC260340', 'LOC282992', 'LOC282997', 'LOC283029', 'LOC283050', 'LOC283104', 'LOC28311\n",
      "944 input query terms found no hit:\t['LOC439994', 'LOC440005', 'LOC440013', 'LOC440014', 'LOC440015', 'LOC440027', 'LOC440030', 'LOC4400\n",
      "967 input query terms found no hit:\t['LOC643072', 'LOC643075', 'LOC643081', 'LOC643082', 'LOC643083', 'LOC643085', 'LOC643089', 'LOC6430\n",
      "960 input query terms found no hit:\t['LOC645278', 'LOC645279', 'LOC645282', 'LOC645284', 'LOC645287', 'LOC645289', 'LOC645291', 'LOC6452\n",
      "994 input query terms found no hit:\t['LOC647949', 'LOC647954', 'LOC647955', 'LOC647958', 'LOC647960', 'LOC647961', 'LOC647965', 'LOC6479\n",
      "993 input query terms found no hit:\t['LOC651617', 'LOC651619', 'LOC651621', 'LOC651624', 'LOC651630', 'LOC651635', 'LOC651638', 'LOC6516\n",
      "942 input query terms found no hit:\t['LOC654208', 'LOC654209', 'LOC654220', 'LOC654222', 'LOC654230', 'LOC654235', 'LOC654244', 'LOC6542\n",
      "7 input query terms found dup hits:\t[('LPAL2', 2), ('LRP5L', 2), ('LY6G6E', 8), ('LYPLA2P1', 6), ('MALAT1', 2), ('MEG8', 2), ('MEIS3P1',\n",
      "366 input query terms found no hit:\t['LOC730272', 'LOC730273', 'LOC730274', 'LOC730275', 'LOC730278', 'LOC730281', 'LOC730284', 'LOC7302\n",
      "8 input query terms found dup hits:\t[('MIR320A', 2), ('MIR320B1', 2), ('MIR320B2', 2), ('MIR320C1', 2), ('MMD2', 2), ('MMP23A', 2), ('MO\n",
      "167 input query terms found no hit:\t['MGC12965', 'MGC12982', 'MGC13005', 'MGC13057', 'MGC13098', 'MGC13168', 'MGC15634', 'MGC15705', 'MG\n",
      "13 input query terms found dup hits:\t[('MSLNL', 2), ('MSTO2P', 2), ('MSX2P1', 2), ('MT1IP', 2), ('MT1JP', 2), ('MT1L', 2), ('MYH16', 2), \n",
      "119 input query terms found no hit:\t['MS4A8B', 'MSL3L1', 'MSL3L2', 'MST4', 'MSTP9', 'MT1P2', 'MTE', 'MTERF', 'MTERFD1', 'MTERFD2', 'MTER\n",
      "13 input query terms found dup hits:\t[('NXF4', 2), ('NXF5', 2), ('OFCC1', 2), ('OR10J3', 3), ('OR2A9P', 2), ('OR6W1P', 3), ('OR7E156P', 2\n",
      "71 input query terms found no hit:\t['NY-REN-7', 'OBFC1', 'OBFC2A', 'OBFC2B', 'OCLM', 'ODF3', 'ODF3B', 'ODF3L1', 'ODF3L2', 'ODZ1', 'ODZ2\n",
      "16 input query terms found dup hits:\t[('PGM5P2', 2), ('PI4KAP1', 2), ('PI4KAP2', 2), ('PIPSL', 2), ('PKD1P1', 3), ('PLGLA', 2), ('PMCHL1'\n",
      "105 input query terms found no hit:\t['PEG3AS', 'PER4', 'PET112L', 'PFAAP5', 'PFTK1', 'PFTK2', 'PGCP', 'PH-4', 'PHACS', 'PHB', 'PHCA', 'P\n",
      "17 input query terms found dup hits:\t[('PSORS1C3', 8), ('PTTG3P', 2), ('PVT1', 2), ('PYY2', 2), ('RAET1K', 2), ('RAP1BL', 2), ('RBMY1A3P'\n",
      "94 input query terms found no hit:\t['PSCD1', 'PSCD2', 'PSCD4', 'PSCDBP', 'PSG10', 'PSPHL', 'PTCHD2', 'PTK9', 'PTPLA', 'PTPLAD1', 'PTPLA\n",
      "18 input query terms found dup hits:\t[('RPL12P6', 2), ('RPL23AP53', 2), ('RPL23AP7', 2), ('RPL31P10', 2), ('RPL32P3', 2), ('RPPH1', 3), (\n",
      "102 input query terms found no hit:\t['RPESP', 'RPL13L', 'RPL14L', 'RPL23AP13', 'RPRC1', 'RPS26L', 'RQCD1', 'RRP7B', 'RSHL1', 'RSHL3', 'R\n",
      "62 input query terms found dup hits:\t[('SLC6A10P', 2), ('SLC7A5P1', 2), ('SNHG5', 2), ('SNHG6', 2), ('SNHG8', 2), ('SNHG9', 3), ('SNORA16\n",
      "55 input query terms found no hit:\t['SLC24A6', 'SLC26A10', 'SLC35E2', 'SLC9A10', 'SLC9A11', 'SLC9A3R1', 'SLC9A3R2', 'SLIC1', 'SLMO1', '\n",
      "12 input query terms found dup hits:\t[('SRP14P1', 2), ('ST20', 2), ('STAG3L1', 2), ('STAG3L2', 2), ('STAG3L3', 2), ('STAG3L4', 2), ('SUMO\n",
      "108 input query terms found no hit:\t['SRGAP2L', 'SRPR', 'SRRM1L', 'SSFA2', 'SSPO', 'SSSCA1', 'SSX6', 'SSX8', 'SSX9', 'ST5', 'ST7OT1', 'S\n",
      "14 input query terms found dup hits:\t[('TMEM191A', 2), ('TNXA', 5), ('TOP1P1', 2), ('TP53TG1', 2), ('TRIM16L', 2), ('TRPC2', 2), ('TTTY11\n",
      "112 input query terms found no hit:\t['TMEM166', 'TMEM16A', 'TMEM16B', 'TMEM16C', 'TMEM16D', 'TMEM16J', 'TMEM173', 'TMEM178', 'TMEM180', \n",
      "5 input query terms found dup hits:\t[('UOX', 2), ('VENTXP7', 2), ('WASH2P', 2), ('WASH3P', 3), ('XKRY', 2)]\n",
      "131 input query terms found no hit:\t['UNC84A', 'UNC84B', 'UNG2', 'UNQ1940', 'UNQ5830', 'UNQ6975', 'UNQ9370', 'UNQ9433', 'UNQ9438', 'UPLP\n",
      "3 input query terms found dup hits:\t[('ZNF658B', 2), ('ZNF781', 2), ('rab1c', 2)]\n",
      "34 input query terms found no hit:\t['ZNF409', 'ZNF434', 'ZNF452', 'ZNF498', 'ZNF509', 'ZNF533', 'ZNF542', 'ZNF642', 'ZNF643', 'ZNF645',\n"
     ]
    }
   ],
   "source": [
    "if NORMALIZE_GENE:\n",
    "    genetic_data = normalize_gene_symbols_in_index(genetic_data)"
   ]
  },
  {
   "cell_type": "code",
   "execution_count": 43,
   "metadata": {
    "ExecuteTime": {
     "end_time": "2023-12-31T21:19:35.590902191Z",
     "start_time": "2023-12-31T21:19:35.537285901Z"
    }
   },
   "outputs": [],
   "source": [
    "merged_data = geo_merge_clinical_genetic_data(selected_clinical_data, genetic_data)\n",
    "# The preprocessing runs through, which means is_available should be True\n",
    "is_available = True"
   ]
  },
  {
   "cell_type": "code",
   "execution_count": 44,
   "metadata": {
    "ExecuteTime": {
     "end_time": "2023-12-31T21:19:35.591095170Z",
     "start_time": "2023-12-31T21:19:35.538708445Z"
    }
   },
   "outputs": [
    {
     "name": "stdout",
     "output_type": "stream",
     "text": [
      "The merged dataset contains 140 samples.\n"
     ]
    }
   ],
   "source": [
    "print(f\"The merged dataset contains {len(merged_data)} samples.\")"
   ]
  },
  {
   "cell_type": "code",
   "execution_count": 45,
   "metadata": {
    "ExecuteTime": {
     "end_time": "2023-12-31T21:19:35.610849182Z",
     "start_time": "2023-12-31T21:19:35.541210258Z"
    }
   },
   "outputs": [
    {
     "name": "stdout",
     "output_type": "stream",
     "text": [
      "For the feature 'Alopecia', the least common label is '0.0' with 69 occurrences. This represents 49.29% of the dataset.\n",
      "The distribution of the feature 'Alopecia' in this dataset is fine.\n",
      "\n"
     ]
    },
    {
     "data": {
      "text/plain": [
       "False"
      ]
     },
     "execution_count": 45,
     "metadata": {},
     "output_type": "execute_result"
    }
   ],
   "source": [
    "is_trait_biased, merged_data = judge_and_remove_biased_features(merged_data, TRAIT, trait_type=trait_type)\n",
    "is_trait_biased"
   ]
  },
  {
   "cell_type": "code",
   "execution_count": 46,
   "metadata": {
    "ExecuteTime": {
     "end_time": "2023-12-31T21:19:35.610923234Z",
     "start_time": "2023-12-31T21:19:35.584848473Z"
    }
   },
   "outputs": [],
   "source": [
    "save_cohort_info(cohort, JSON_PATH, is_available, is_trait_biased, merged_data)"
   ]
  },
  {
   "cell_type": "code",
   "execution_count": 47,
   "metadata": {
    "ExecuteTime": {
     "end_time": "2023-12-31T21:19:35.610970734Z",
     "start_time": "2023-12-31T21:19:35.585042694Z"
    }
   },
   "outputs": [],
   "source": [
    "merged_data.head()\n",
    "if not is_trait_biased:\n",
    "    merged_data.to_csv(os.path.join(OUTPUT_DIR, cohort+'.csv'), index=False)"
   ]
  },
  {
   "cell_type": "markdown",
   "metadata": {
    "ExecuteTime": {
     "end_time": "2023-12-31T03:58:22.271683755Z",
     "start_time": "2023-12-31T03:58:22.246557674Z"
    },
    "id": "-MTPhRGxJV7I"
   },
   "source": [
    "### 3. Do regression & Cross Validation"
   ]
  },
  {
   "cell_type": "code",
   "execution_count": 4,
   "metadata": {
    "ExecuteTime": {
     "end_time": "2023-12-31T21:19:44.459442087Z",
     "start_time": "2023-12-31T21:19:44.416219648Z"
    }
   },
   "outputs": [
    {
     "data": {
      "text/html": [
       "<div>\n",
       "<style scoped>\n",
       "    .dataframe tbody tr th:only-of-type {\n",
       "        vertical-align: middle;\n",
       "    }\n",
       "\n",
       "    .dataframe tbody tr th {\n",
       "        vertical-align: top;\n",
       "    }\n",
       "\n",
       "    .dataframe thead th {\n",
       "        text-align: right;\n",
       "    }\n",
       "</style>\n",
       "<table border=\"1\" class=\"dataframe\">\n",
       "  <thead>\n",
       "    <tr style=\"text-align: right;\">\n",
       "      <th></th>\n",
       "      <th>cohort_id</th>\n",
       "      <th>is_usable</th>\n",
       "      <th>is_available</th>\n",
       "      <th>is_biased</th>\n",
       "      <th>has_age</th>\n",
       "      <th>has_gender</th>\n",
       "      <th>sample_size</th>\n",
       "      <th>note</th>\n",
       "    </tr>\n",
       "  </thead>\n",
       "  <tbody>\n",
       "    <tr>\n",
       "      <th>4</th>\n",
       "      <td>GSE66664</td>\n",
       "      <td>True</td>\n",
       "      <td>True</td>\n",
       "      <td>False</td>\n",
       "      <td>False</td>\n",
       "      <td>False</td>\n",
       "      <td>140.0</td>\n",
       "      <td></td>\n",
       "    </tr>\n",
       "  </tbody>\n",
       "</table>\n",
       "</div>"
      ],
      "text/plain": [
       "  cohort_id  is_usable  is_available is_biased has_age has_gender  \\\n",
       "4  GSE66664       True          True     False   False      False   \n",
       "\n",
       "   sample_size note  \n",
       "4        140.0       "
      ]
     },
     "execution_count": 4,
     "metadata": {},
     "output_type": "execute_result"
    }
   ],
   "source": [
    "# Check the information of usable cohorts\n",
    "best_cohort, ranked_df = filter_and_rank_cohorts(JSON_PATH)\n",
    "ranked_df"
   ]
  },
  {
   "cell_type": "code",
   "execution_count": 6,
   "metadata": {
    "ExecuteTime": {
     "end_time": "2023-12-31T21:19:44.808945960Z",
     "start_time": "2023-12-31T21:19:44.799467072Z"
    }
   },
   "outputs": [],
   "source": [
    "# If both age and gender have available cohorts, select 'age' as the condition.\n",
    "condition = 'Age'\n",
    "filter_column = 'has_' + condition.lower()\n",
    "\n",
    "condition_best_cohort, condition_ranked_df = filter_and_rank_cohorts(JSON_PATH, filter_column)\n",
    "condition_best_cohort"
   ]
  },
  {
   "cell_type": "code",
   "execution_count": 7,
   "metadata": {
    "ExecuteTime": {
     "end_time": "2023-12-31T21:19:52.222719978Z",
     "start_time": "2023-12-31T21:19:45.162873006Z"
    }
   },
   "outputs": [
    {
     "data": {
      "text/html": [
       "<div>\n",
       "<style scoped>\n",
       "    .dataframe tbody tr th:only-of-type {\n",
       "        vertical-align: middle;\n",
       "    }\n",
       "\n",
       "    .dataframe tbody tr th {\n",
       "        vertical-align: top;\n",
       "    }\n",
       "\n",
       "    .dataframe thead th {\n",
       "        text-align: right;\n",
       "    }\n",
       "</style>\n",
       "<table border=\"1\" class=\"dataframe\">\n",
       "  <thead>\n",
       "    <tr style=\"text-align: right;\">\n",
       "      <th></th>\n",
       "      <th>cohort_id</th>\n",
       "      <th>is_usable</th>\n",
       "      <th>is_available</th>\n",
       "      <th>is_biased</th>\n",
       "      <th>has_age</th>\n",
       "      <th>has_gender</th>\n",
       "      <th>sample_size</th>\n",
       "      <th>note</th>\n",
       "    </tr>\n",
       "  </thead>\n",
       "  <tbody>\n",
       "  </tbody>\n",
       "</table>\n",
       "</div>"
      ],
      "text/plain": [
       "Empty DataFrame\n",
       "Columns: [cohort_id, is_usable, is_available, is_biased, has_age, has_gender, sample_size, note]\n",
       "Index: []"
      ]
     },
     "execution_count": 7,
     "metadata": {},
     "output_type": "execute_result"
    }
   ],
   "source": [
    "condition_ranked_df.head()"
   ]
  },
  {
   "cell_type": "code",
   "execution_count": 8,
   "metadata": {
    "ExecuteTime": {
     "end_time": "2023-12-31T21:19:52.234945878Z",
     "start_time": "2023-12-31T21:19:52.231604618Z"
    }
   },
   "outputs": [
    {
     "ename": "TypeError",
     "evalue": "unsupported operand type(s) for +: 'NoneType' and 'str'",
     "output_type": "error",
     "traceback": [
      "\u001b[0;31m---------------------------------------------------------------------------\u001b[0m",
      "\u001b[0;31mTypeError\u001b[0m                                 Traceback (most recent call last)",
      "Cell \u001b[0;32mIn[8], line 1\u001b[0m\n\u001b[0;32m----> 1\u001b[0m merged_data \u001b[38;5;241m=\u001b[39m pd\u001b[38;5;241m.\u001b[39mread_csv(os\u001b[38;5;241m.\u001b[39mpath\u001b[38;5;241m.\u001b[39mjoin(OUTPUT_DIR, condition_best_cohort \u001b[38;5;241m+\u001b[39m \u001b[38;5;124m'\u001b[39m\u001b[38;5;124m.csv\u001b[39m\u001b[38;5;124m'\u001b[39m))\n\u001b[1;32m      2\u001b[0m merged_data\u001b[38;5;241m.\u001b[39mhead()\n",
      "\u001b[0;31mTypeError\u001b[0m: unsupported operand type(s) for +: 'NoneType' and 'str'"
     ]
    }
   ],
   "source": [
    "merged_data = pd.read_csv(os.path.join(OUTPUT_DIR, condition_best_cohort + '.csv'))\n",
    "merged_data.head()"
   ]
  },
  {
   "cell_type": "code",
   "execution_count": 198,
   "metadata": {
    "ExecuteTime": {
     "end_time": "2023-12-31T21:19:52.312540150Z",
     "start_time": "2023-12-31T21:19:52.235772334Z"
    }
   },
   "outputs": [],
   "source": [
    "# Remove the other condition to prevent interference.\n",
    "merged_data = merged_data.drop(columns=['Gender'], errors='ignore').astype('float')\n",
    "\n",
    "X = merged_data.drop(columns=[TRAIT, condition]).values\n",
    "Y = merged_data[TRAIT].values\n",
    "Z = merged_data[condition].values"
   ]
  },
  {
   "cell_type": "markdown",
   "metadata": {},
   "source": [
    "Select the appropriate regression model depending on whether the dataset shows batch effect."
   ]
  },
  {
   "cell_type": "code",
   "execution_count": 200,
   "metadata": {
    "ExecuteTime": {
     "end_time": "2023-12-31T21:20:00.930840782Z",
     "start_time": "2023-12-31T21:19:52.319092572Z"
    }
   },
   "outputs": [
    {
     "data": {
      "text/plain": [
       "True"
      ]
     },
     "execution_count": 200,
     "metadata": {},
     "output_type": "execute_result"
    }
   ],
   "source": [
    "has_batch_effect = detect_batch_effect(X)\n",
    "has_batch_effect"
   ]
  },
  {
   "cell_type": "code",
   "execution_count": 201,
   "metadata": {
    "ExecuteTime": {
     "end_time": "2023-12-31T21:20:00.931029722Z",
     "start_time": "2023-12-31T21:20:00.929710828Z"
    }
   },
   "outputs": [],
   "source": [
    "# Select appropriate models based on whether the dataset has batch effect.\n",
    "# We experiment on two models for each branch. We will decide which one to choose later.\n",
    "\n",
    "if has_batch_effect:\n",
    "    model_constructor1 = VariableSelection\n",
    "    model_params1 = {'modified': True, 'lamda': 3e-4}\n",
    "    model_constructor2 = VariableSelection\n",
    "    model_params2 = {'modified': False}\n",
    "else:\n",
    "    model_constructor1 = Lasso\n",
    "    model_params1 = {'alpha': 1.0, 'random_state': 42}\n",
    "    model_constructor2 = VariableSelection\n",
    "    model_params2 = {'modified': False}"
   ]
  },
  {
   "cell_type": "code",
   "execution_count": 202,
   "metadata": {
    "ExecuteTime": {
     "end_time": "2023-12-31T21:20:20.709459824Z",
     "start_time": "2023-12-31T21:20:00.931657949Z"
    }
   },
   "outputs": [
    {
     "name": "stderr",
     "output_type": "stream",
     "text": [
      "/Users/ollie/anaconda3/lib/python3.11/site-packages/sparse_lmm/helpingMethods.py:49: RuntimeWarning: invalid value encountered in divide\n",
      "  ts = beta / np.sqrt(var * sigma)\n",
      "/Users/ollie/anaconda3/lib/python3.11/site-packages/sparse_lmm/helpingMethods.py:49: RuntimeWarning: invalid value encountered in divide\n",
      "  ts = beta / np.sqrt(var * sigma)\n",
      "/Users/ollie/anaconda3/lib/python3.11/site-packages/sparse_lmm/helpingMethods.py:49: RuntimeWarning: invalid value encountered in divide\n",
      "  ts = beta / np.sqrt(var * sigma)\n",
      "/Users/ollie/anaconda3/lib/python3.11/site-packages/sparse_lmm/helpingMethods.py:49: RuntimeWarning: invalid value encountered in divide\n",
      "  ts = beta / np.sqrt(var * sigma)\n",
      "/Users/ollie/anaconda3/lib/python3.11/site-packages/sparse_lmm/helpingMethods.py:49: RuntimeWarning: invalid value encountered in divide\n",
      "  ts = beta / np.sqrt(var * sigma)\n"
     ]
    },
    {
     "name": "stdout",
     "output_type": "stream",
     "text": [
      "The cross-validation accuracy is 83.16% ± 5.64%\n"
     ]
    }
   ],
   "source": [
    "trait_type = 'binary'  # Remember to set this properly, either 'binary' or 'continuous'\n",
    "cv_mean1, cv_std1 = cross_validation(X, Y, Z, model_constructor1, model_params1, target_type=trait_type)"
   ]
  },
  {
   "cell_type": "code",
   "execution_count": 203,
   "metadata": {
    "ExecuteTime": {
     "end_time": "2023-12-31T21:20:24.980870159Z",
     "start_time": "2023-12-31T21:20:20.516710807Z"
    }
   },
   "outputs": [
    {
     "name": "stderr",
     "output_type": "stream",
     "text": [
      "/Users/ollie/anaconda3/lib/python3.11/site-packages/sparse_lmm/helpingMethods.py:49: RuntimeWarning: invalid value encountered in divide\n",
      "  ts = beta / np.sqrt(var * sigma)\n"
     ]
    }
   ],
   "source": [
    "cv_mean2, cv_std2 = cross_validation(X, Y, Z, model_constructor2, model_params2, target_type=trait_type)"
   ]
  },
  {
   "cell_type": "markdown",
   "metadata": {
    "ExecuteTime": {
     "end_time": "2023-10-14T04:50:59.072075075Z",
     "start_time": "2023-10-14T04:50:38.739499998Z"
    },
    "id": "EjJrxbvb4nlj"
   },
   "source": [
    "### 5. Discussion and report"
   ]
  },
  {
   "cell_type": "code",
   "execution_count": 204,
   "metadata": {
    "ExecuteTime": {
     "end_time": "2023-12-31T21:20:25.000830410Z",
     "start_time": "2023-12-31T21:20:24.982834541Z"
    }
   },
   "outputs": [
    {
     "name": "stdout",
     "output_type": "stream",
     "text": [
      "Effect of the condition on the target variable:\n",
      "Variable: Age\n",
      "Coefficient: 0.0112\n",
      "Found 100 significant genes associated with the trait 'Thyroid Cancer' conditional on the factor 'Age', with corrected p-value < 0.05:\n",
      "   Variable  Coefficient  corrected_p_value\n",
      "     GABRB2     0.199853       9.445009e-24\n",
      "       LRP4     0.153916       3.454747e-11\n",
      "    SHROOM4     0.150237       3.783756e-09\n",
      "      HMGA2     0.122833       4.533386e-08\n",
      "       EPS8     0.148314       3.922968e-07\n",
      "    KLHDC8A     0.103442       3.996388e-07\n",
      "       LIPH     0.126974       5.203673e-07\n",
      "      MPZL2     0.123835       7.878797e-07\n",
      "      GABRD     0.085857       3.424810e-06\n",
      "       GJB3     0.104297       7.705250e-06\n",
      "   C6orf168     0.106365       1.189886e-05\n",
      "        FN1     0.142549       1.760688e-05\n",
      "      KCNQ3     0.132879       2.031323e-05\n",
      "      GRHL3     0.103693       2.317901e-05\n",
      "    ZCCHC12     0.091659       3.351467e-05\n",
      "     ACTBL2     0.094812       6.476432e-05\n",
      "      SYT12     0.127073       8.248756e-05\n",
      "    METTL7B     0.102223       8.845054e-05\n",
      "   C6orf138     0.064603       9.904802e-05\n",
      "      CTXN1     0.105551       3.233898e-04\n",
      "      PLCD3     0.113021       3.909052e-04\n",
      "      PVRL4     0.114387       3.909052e-04\n",
      "     CDKN2B     0.065257       3.978743e-04\n",
      "       GLS2     0.082425       4.831588e-04\n",
      "       CSF2     0.084641       5.549598e-04\n",
      "       CPT2     0.074323       5.937739e-04\n",
      "     TMEM8C     0.036047       6.183523e-04\n",
      "     STK32A     0.073158       7.026420e-04\n",
      "       CDH6     0.081873       8.081472e-04\n",
      "    PLEKHN1     0.092362       8.523882e-04\n",
      "     FAM84A     0.065792       8.523882e-04\n",
      "       IRX4    -0.034751       1.128374e-03\n",
      "     GOLT1A     0.081213       1.128374e-03\n",
      "     ADRA1B     0.056606       1.128374e-03\n",
      "       GALE     0.117215       1.154715e-03\n",
      "   SNORA11E     0.034012       1.247804e-03\n",
      "       XKRX     0.065774       2.524043e-03\n",
      "      CDH13     0.057717       2.524043e-03\n",
      "      DOCK9     0.113009       3.762709e-03\n",
      "      PRR15     0.074195       3.806978e-03\n",
      "  LOC400794     0.080408       4.110989e-03\n",
      "     PHLDA3     0.079714       4.363095e-03\n",
      "    ADAMTS9     0.067113       4.404174e-03\n",
      "     ATPAF1     0.068504       4.879509e-03\n",
      "     ACSM2B    -0.038055       4.879509e-03\n",
      "    COL13A1     0.057927       6.002172e-03\n",
      "     PTP4A3     0.071456       6.002172e-03\n",
      "      ACER2     0.090176       6.255782e-03\n",
      "        INS    -0.028995       7.655848e-03\n",
      "   SNORA71C     0.027043       7.803120e-03\n",
      "    PLEKHA6    -0.064583       9.827137e-03\n",
      "     ENTPD1     0.057195       9.827137e-03\n",
      "      DUSP6     0.078752       9.827137e-03\n",
      "       RXRG     0.072075       9.827137e-03\n",
      "       SDC4     0.108154       1.050799e-02\n",
      "SNORD116-20    -0.044474       1.050799e-02\n",
      "      SYTL5     0.066324       1.050799e-02\n",
      "     ELOVL5    -0.058228       1.079067e-02\n",
      "     GALNT7     0.097652       1.115634e-02\n",
      "      ACCSL    -0.023081       1.158859e-02\n",
      "       NPC2     0.086596       1.261155e-02\n",
      "      MYEF2     0.058908       1.362345e-02\n",
      "     GABRA2    -0.028071       1.492404e-02\n",
      "       NGEF     0.064199       1.696571e-02\n",
      "       ETV4     0.065601       1.737360e-02\n",
      "     TMEM92     0.059671       2.013921e-02\n",
      "  TNFRSF10C     0.041236       2.014835e-02\n",
      "   SCARNA23     0.024189       2.048147e-02\n",
      "       TGFA     0.076997       2.263781e-02\n",
      "    TMPRSS6     0.081293       2.263781e-02\n",
      "      CLDN1     0.077079       2.263781e-02\n",
      "       NOD1     0.105072       2.263781e-02\n",
      "     PLXND1     0.070931       2.454117e-02\n",
      "   C12orf69     0.035480       2.730997e-02\n",
      "     MAGEB6    -0.024154       2.916878e-02\n",
      "     RPS27L     0.053936       3.037034e-02\n",
      "    SERINC2     0.065550       3.108738e-02\n",
      "    TMPRSS4     0.076835       3.110649e-02\n",
      "     SLC9A5     0.058166       3.110649e-02\n",
      "    TFCP2L1     0.073406       3.110649e-02\n",
      "      SLIT1     0.046413       3.110649e-02\n",
      "       BBC3     0.060568       3.110649e-02\n",
      "    DENND2A    -0.046341       3.110649e-02\n",
      "        F2R     0.054558       3.110649e-02\n",
      "     CLDN10     0.059617       3.124546e-02\n",
      "      FGF10    -0.040002       3.134473e-02\n",
      "     ITGA10     0.042926       3.134473e-02\n",
      "    SLC6A15    -0.047116       3.134473e-02\n",
      "      EDA2R     0.045361       3.138542e-02\n",
      "     SRCIN1     0.056393       3.253846e-02\n",
      "       DPP4     0.070001       3.366826e-02\n",
      "    TMEM215     0.049205       3.553350e-02\n",
      "      TRPC4     0.046801       3.627191e-02\n",
      "    RPSAP52     0.056997       3.641200e-02\n",
      "        CIT     0.036022       3.701246e-02\n",
      "      OR6F1     0.022945       4.161429e-02\n",
      "       COMP     0.043448       4.348080e-02\n",
      "      PROS1     0.093119       4.413354e-02\n",
      "       CDH3     0.070796       4.504393e-02\n",
      "       UPP1     0.074745       4.504393e-02\n"
     ]
    },
    {
     "name": "stderr",
     "output_type": "stream",
     "text": [
      "/Users/ollie/Documents/JupyterProjects/AI4Science_gold_standard/stage1/Jinglin/utils.py:425: SettingWithCopyWarning: \n",
      "A value is trying to be set on a copy of a slice from a DataFrame.\n",
      "Try using .loc[row_indexer,col_indexer] = value instead\n",
      "\n",
      "See the caveats in the documentation: https://pandas.pydata.org/pandas-docs/stable/user_guide/indexing.html#returning-a-view-versus-a-copy\n",
      "  gene_regression_df.loc[:, 'corrected_p_value'] = corrected_p_values\n"
     ]
    }
   ],
   "source": [
    "feature_cols = merged_data.columns.tolist()\n",
    "feature_cols.remove(TRAIT)\n",
    "\n",
    "if has_batch_effect:\n",
    "    report_result_from_lmm(model, feature_cols, TRAIT, condition, threshold=0.05, save_output=True,\n",
    "                           output_dir=OUTPUT_DIR)\n",
    "else:\n",
    "    report_result_from_lasso(model, feature_cols, TRAIT, condition, save_output=True, output_dir=OUTPUT_DIR)"
   ]
  },
  {
   "cell_type": "code",
   "execution_count": null,
   "metadata": {},
   "outputs": [],
   "source": []
  }
 ],
 "metadata": {
  "colab": {
   "provenance": []
  },
  "kernelspec": {
   "display_name": "Python 3 (ipykernel)",
   "language": "python",
   "name": "python3"
  },
  "language_info": {
   "codemirror_mode": {
    "name": "ipython",
    "version": 3
   },
   "file_extension": ".py",
   "mimetype": "text/x-python",
   "name": "python",
   "nbconvert_exporter": "python",
   "pygments_lexer": "ipython3",
   "version": "3.11.5"
  }
 },
 "nbformat": 4,
 "nbformat_minor": 1
}
