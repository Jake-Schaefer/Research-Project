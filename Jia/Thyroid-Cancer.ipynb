{
 "cells": [
  {
   "cell_type": "markdown",
   "metadata": {},
   "source": [
    "# Gold standard curation: Preprocessing and single-step regression"
   ]
  },
  {
   "cell_type": "markdown",
   "metadata": {},
   "source": [
    "In this stage of gold standard curation, we will do the data preprocessing, selection, and single-step regression for the 153 traits in our question set. This file shows the reference steps using the trait \"Breast Cancer\" as an example. The workflow consists of the following steps:\n",
    "\n",
    "1. Preprocess all the cohorts related to this trait. Each cohort should be converted to a tabular form and saved to a csv file, with columns being genetic factors, the trait, and age, gender if available;\n",
    "2. If there exists at least one cohort with age or gender information, conduct regression analysis with genetic features together with age or gender as the regressors.\n"
   ]
  },
  {
   "cell_type": "markdown",
   "metadata": {},
   "source": [
    "# 1. Basic setup"
   ]
  },
  {
   "cell_type": "code",
   "execution_count": 1,
   "metadata": {
    "ExecuteTime": {
     "end_time": "2023-12-31T21:19:07.313098989Z",
     "start_time": "2023-12-31T21:19:07.312718292Z"
    }
   },
   "outputs": [],
   "source": [
    "import os\n",
    "\n",
    "# Set your preferred name\n",
    "USER = \"Jinglin\"\n",
    "# Set the data and output directories\n",
    "DATA_ROOT = '../../DATA'\n",
    "OUTPUT_ROOT = '../../output1'\n",
    "TRAIT = 'Thyroid Cancer'\n",
    "\n",
    "OUTPUT_DIR = os.path.join(OUTPUT_ROOT, USER, '-'.join(TRAIT.split()))\n",
    "JSON_PATH = os.path.join(OUTPUT_DIR, \"cohort_info.json\")\n",
    "if not os.path.exists(OUTPUT_DIR):\n",
    "    os.makedirs(OUTPUT_DIR, exist_ok=True)\n",
    "\n",
    "# Gene symbol normalization may take 1-2 minutes. You may set it to False for debugging.\n",
    "NORMALIZE_GENE = True"
   ]
  },
  {
   "cell_type": "code",
   "execution_count": 2,
   "metadata": {
    "ExecuteTime": {
     "end_time": "2023-12-31T21:19:07.680659936Z",
     "start_time": "2023-12-31T21:19:07.666959145Z"
    },
    "colab": {
     "base_uri": "https://localhost:8080/"
    },
    "id": "jMTdsU43vVg3",
    "outputId": "38886111-f442-44b4-8398-96bf384d7abd"
   },
   "outputs": [
    {
     "data": {
      "text/plain": [
       "\"import os\\nfrom google.colab import drive\\n\\ndrive.mount('/content/drive', force_remount=True)\\nproj_dir = '/content/drive/MyDrive/AI4Science_Public'\\nos.chdir(proj_dir)\""
      ]
     },
     "execution_count": 2,
     "metadata": {},
     "output_type": "execute_result"
    }
   ],
   "source": [
    "# This cell is only for use on Google Colab. Skip it if you run your code in other environments\n",
    "\n",
    "\"\"\"import os\n",
    "from google.colab import drive\n",
    "\n",
    "drive.mount('/content/drive', force_remount=True)\n",
    "proj_dir = '/content/drive/MyDrive/AI4Science_Public'\n",
    "os.chdir(proj_dir)\"\"\""
   ]
  },
  {
   "cell_type": "markdown",
   "metadata": {},
   "source": [
    "# 2. Data preprocessing and selection"
   ]
  },
  {
   "cell_type": "markdown",
   "metadata": {},
   "source": [
    "## 2.1. The TCGA Xena dataset"
   ]
  },
  {
   "cell_type": "markdown",
   "metadata": {},
   "source": [
    "In TCGA Xena, there is either zero or one cohort related to the trait. We search the names of subdirectories to see if any matches the trait. If a match is found, we directly obtain the file paths."
   ]
  },
  {
   "cell_type": "code",
   "execution_count": 3,
   "metadata": {},
   "outputs": [
    {
     "data": {
      "text/plain": [
       "['TCGA_Pancreatic_Cancer_(PAAD)',\n",
       " 'TCGA_Bladder_Cancer_(BLCA)',\n",
       " '.DS_Store',\n",
       " 'TCGA_Testicular_Cancer_(TGCT)',\n",
       " 'TCGA_Acute_Myeloid_Leukemia_(LAML)',\n",
       " 'TCGA_Breast_Cancer_(BRCA)',\n",
       " 'TCGA_Stomach_Cancer_(STAD)',\n",
       " 'TCGA_Thyroid_Cancer_(THCA)',\n",
       " 'TCGA_Glioblastoma_(GBM)']"
      ]
     },
     "execution_count": 3,
     "metadata": {},
     "output_type": "execute_result"
    }
   ],
   "source": [
    "import os\n",
    "from utils import *\n",
    "\n",
    "dataset = 'TCGA'\n",
    "dataset_dir = os.path.join(DATA_ROOT, dataset)\n",
    "os.listdir(dataset_dir)[:10]"
   ]
  },
  {
   "cell_type": "markdown",
   "metadata": {},
   "source": [
    "If no match is found, jump directly to GEO in Part 2.2"
   ]
  },
  {
   "cell_type": "code",
   "execution_count": 4,
   "metadata": {
    "ExecuteTime": {
     "end_time": "2023-12-31T21:19:09.918243934Z",
     "start_time": "2023-12-31T21:19:09.909021135Z"
    }
   },
   "outputs": [],
   "source": [
    "trait_subdir = \"TCGA_Thyroid_Cancer_(THCA)\"\n",
    "cohort = 'Xena'\n",
    "# All the cancer traits in Xena are binary\n",
    "trait_type = 'binary'\n",
    "# Once a relevant cohort is found in Xena, we can generally assume the gene and clinical data are available\n",
    "is_available = True\n",
    "\n",
    "clinical_data_file = os.path.join(dataset_dir, trait_subdir, 'TCGA.THCA.sampleMap_THCA_clinicalMatrix')\n",
    "genetic_data_file = os.path.join(dataset_dir, trait_subdir, 'TCGA.THCA.sampleMap_HiSeqV2_PANCAN.gz')"
   ]
  },
  {
   "cell_type": "code",
   "execution_count": 5,
   "metadata": {
    "ExecuteTime": {
     "end_time": "2023-12-31T21:19:13.613198409Z",
     "start_time": "2023-12-31T21:19:10.409688003Z"
    },
    "id": "MudwB-_iz7sc"
   },
   "outputs": [],
   "source": [
    "import pandas as pd\n",
    "\n",
    "clinical_data = pd.read_csv(clinical_data_file, sep='\\t', index_col=0)\n",
    "genetic_data = pd.read_csv(genetic_data_file, compression='gzip', sep='\\t', index_col=0)\n",
    "age_col = gender_col = None"
   ]
  },
  {
   "cell_type": "code",
   "execution_count": 6,
   "metadata": {
    "ExecuteTime": {
     "end_time": "2023-12-31T21:19:13.617006167Z",
     "start_time": "2023-12-31T21:19:13.614080653Z"
    }
   },
   "outputs": [],
   "source": [
    "_, clinical_data_cols = check_rows_and_columns(clinical_data)"
   ]
  },
  {
   "cell_type": "code",
   "execution_count": 7,
   "metadata": {
    "ExecuteTime": {
     "end_time": "2023-12-31T21:19:13.661538569Z",
     "start_time": "2023-12-31T21:19:13.615946213Z"
    }
   },
   "outputs": [
    {
     "data": {
      "text/plain": [
       "['_INTEGRATION',\n",
       " '_PATIENT',\n",
       " '_cohort',\n",
       " '_primary_disease',\n",
       " '_primary_site',\n",
       " 'additional_pharmaceutical_therapy',\n",
       " 'additional_radiation_therapy',\n",
       " 'additional_surgery_locoregional_procedure',\n",
       " 'age_at_initial_pathologic_diagnosis',\n",
       " 'bcr_followup_barcode']"
      ]
     },
     "execution_count": 7,
     "metadata": {},
     "output_type": "execute_result"
    }
   ],
   "source": [
    "clinical_data_cols[:10]"
   ]
  },
  {
   "cell_type": "markdown",
   "metadata": {
    "ExecuteTime": {
     "end_time": "2023-12-28T20:20:11.841042813Z",
     "start_time": "2023-12-28T20:20:11.834458206Z"
    }
   },
   "source": [
    "Read all the column names in the clinical dataset, to find the columns that record information about age or gender.\n",
    "Reference prompt:"
   ]
  },
  {
   "cell_type": "code",
   "execution_count": 8,
   "metadata": {
    "ExecuteTime": {
     "end_time": "2023-12-31T21:19:13.661858700Z",
     "start_time": "2023-12-31T21:19:13.656749487Z"
    }
   },
   "outputs": [
    {
     "data": {
      "text/plain": [
       "\"\\nBelow is a list of column names from a biomedical dataset. Please examine it and identify the columns that are likely to contain information about patients' age. Additionally, please do the same for columns that may hold data on patients' gender. Please provide your answer by strictly following this format, without redundant words:\\ncandidate_age_cols = [col_name1, col_name2, ...]\\ncandidate_gender_cols = [col_name1, col_name2, ...]\\nIf no columns match a criterion, please provide an empty list.\\n\\nColumn names:\\n['_INTEGRATION', '_PATIENT', '_cohort', '_primary_disease', '_primary_site', 'additional_pharmaceutical_therapy', 'additional_radiation_therapy', 'additional_surgery_locoregional_procedure', 'age_at_initial_pathologic_diagnosis', 'bcr_followup_barcode', 'bcr_patient_barcode', 'bcr_sample_barcode', 'braf_gene_genotyping_outcome_lab_results_text', 'days_to_additional_surgery_metastatic_procedure', 'days_to_birth', 'days_to_collection', 'days_to_death', 'days_to_initial_pathologic_diagnosis', 'days_to_last_followup', 'days_to_new_tumor_event_additional_surgery_procedure', 'days_to_new_tumor_event_after_initial_treatment', 'extrathyroid_carcinoma_present_extension_status', 'first_degree_relative_history_thyrd_glnd_crcnm_dgnss_rltnshp_typ', 'followup_case_report_form_submission_reason', 'form_completion_date', 'gender', 'genotype_analysis_performed_indicator', 'genotyping_results_gene_mutation_not_reported_reason', 'histologic_disease_progression_present_indicator', 'histologic_disease_progression_present_type', 'histological_type', 'histological_type_other', 'history_of_neoadjuvant_treatment', 'i_131_first_administered_dose', 'i_131_subsequent_administered_dose', 'i_131_total_administered_dose', 'i_131_total_administered_preparation_technique', 'icd_10', 'icd_o_3_histology', 'icd_o_3_site', 'informed_consent_verified', 'initial_weight', 'is_ffpe', 'lost_follow_up', 'lymph_node_examined_count', 'lymph_node_preoperative_assessment_diagnostic_imaging_type', 'lymph_node_preoperative_scan_indicator', 'metastatic_neoplasm_confirmed_diagnosis_method_name', 'metastatic_neoplasm_confirmed_diagnosis_method_text', 'metastatic_site', 'neoplasm_depth', 'new_neoplasm_confirmed_diagnosis_method_name', 'new_neoplasm_event_occurrence_anatomic_site', 'new_neoplasm_event_type', 'new_neoplasm_occurrence_anatomic_site_text', 'new_tumor_event_additional_surgery_procedure', 'new_tumor_event_after_initial_treatment', 'number_of_lymphnodes_positive_by_he', 'oct_embedded', 'other_dx', 'other_genotyping_outcome_lab_results_text', 'other_metastatic_site', 'pathologic_M', 'pathologic_N', 'pathologic_T', 'pathologic_stage', 'pathology_report_file_name', 'patient_id', 'patient_personal_medical_history_thyroid_gland_disorder_name', 'patient_personal_medical_history_thyroid_other_specify_text', 'person_lifetime_risk_radiation_exposure_indicator', 'person_neoplasm_cancer_status', 'post_surgical_procedure_assessment_thyroid_gland_carcinoma_stats', 'postoperative_rx_tx', 'primary_lymph_node_presentation_assessment', 'primary_neoplasm_focus_type', 'primary_thyroid_gland_neoplasm_location_anatomic_site', 'radiation_therapy', 'radiation_therapy_administered_dose_text', 'radiation_therapy_administered_preparation_technique_text', 'radiosensitizing_agent_administered_indicator', 'ras_family_gene_genotyping_outcome_lab_results_text', 'residual_tumor', 'ret_ptc_rearrangement_genotyping_outcome_lab_results_text', 'sample_type', 'sample_type_id', 'system_version', 'targeted_molecular_therapy', 'therapeutic_procedure_new_neoplasm_required_additional_thrpy_typ', 'thyroid_gland_carcinoma_involvement_regional_lymph_node_type', 'tissue_prospective_collection_indicator', 'tissue_retrospective_collection_indicator', 'tissue_source_site', 'tumor_tissue_site', 'vial_number', 'vital_status', 'year_of_initial_pathologic_diagnosis', '_GENOMIC_ID_TCGA_THCA_exp_HiSeqV2_percentile', '_GENOMIC_ID_TCGA_THCA_hMethyl450', '_GENOMIC_ID_TCGA_THCA_mutation_bcm_gene', '_GENOMIC_ID_TCGA_THCA_RPPA', '_GENOMIC_ID_TCGA_THCA_exp_HiSeqV2', '_GENOMIC_ID_TCGA_THCA_gistic2', '_GENOMIC_ID_TCGA_THCA_PDMRNAseqCNV', '_GENOMIC_ID_TCGA_THCA_mutation_bcgsc_gene', '_GENOMIC_ID_TCGA_THCA_mutation', '_GENOMIC_ID_TCGA_THCA_PDMRNAseq', '_GENOMIC_ID_TCGA_THCA_mutation_broad_gene', '_GENOMIC_ID_TCGA_THCA_exp_HiSeqV2_exon', '_GENOMIC_ID_TCGA_THCA_miRNA_HiSeq', '_GENOMIC_ID_TCGA_THCA_exp_HiSeqV2_PANCAN', '_GENOMIC_ID_data/public/TCGA/THCA/miRNA_HiSeq_gene', '_GENOMIC_ID_TCGA_THCA_gistic2thd']\\n\""
      ]
     },
     "execution_count": 8,
     "metadata": {},
     "output_type": "execute_result"
    }
   ],
   "source": [
    "f'''\n",
    "Below is a list of column names from a biomedical dataset. Please examine it and identify the columns that are likely to contain information about patients' age. Additionally, please do the same for columns that may hold data on patients' gender. Please provide your answer by strictly following this format, without redundant words:\n",
    "candidate_age_cols = [col_name1, col_name2, ...]\n",
    "candidate_gender_cols = [col_name1, col_name2, ...]\n",
    "If no columns match a criterion, please provide an empty list.\n",
    "\n",
    "Column names:\n",
    "{clinical_data_cols}\n",
    "'''"
   ]
  },
  {
   "cell_type": "code",
   "execution_count": 9,
   "metadata": {
    "ExecuteTime": {
     "end_time": "2023-12-31T21:19:13.661938833Z",
     "start_time": "2023-12-31T21:19:13.656901848Z"
    }
   },
   "outputs": [],
   "source": [
    "candidate_age_cols = ['age_at_initial_pathologic_diagnosis',\n",
    "                      'days_to_birth']\n",
    "candidate_gender_cols = ['gender']"
   ]
  },
  {
   "cell_type": "markdown",
   "metadata": {
    "ExecuteTime": {
     "end_time": "2023-12-31T03:57:44.207565572Z",
     "start_time": "2023-12-31T03:57:44.202177544Z"
    }
   },
   "source": [
    "Choose a single column from the candidate columns that record age and gender information respectively.\n",
    "If no column meets the requirement, keep 'age_col' or 'gender_col' to None"
   ]
  },
  {
   "cell_type": "code",
   "execution_count": 10,
   "metadata": {
    "ExecuteTime": {
     "end_time": "2023-12-31T21:19:13.662078139Z",
     "start_time": "2023-12-31T21:19:13.657006017Z"
    }
   },
   "outputs": [
    {
     "data": {
      "text/plain": [
       "{'age_at_initial_pathologic_diagnosis': [74, 65, 55, 57, 33],\n",
       " 'days_to_birth': [-27348, -24102, -20361, -21008, -12295]}"
      ]
     },
     "execution_count": 10,
     "metadata": {},
     "output_type": "execute_result"
    }
   ],
   "source": [
    "preview_df(clinical_data[candidate_age_cols])"
   ]
  },
  {
   "cell_type": "code",
   "execution_count": 11,
   "metadata": {
    "ExecuteTime": {
     "end_time": "2023-12-31T21:19:13.777159137Z",
     "start_time": "2023-12-31T21:19:13.756210135Z"
    }
   },
   "outputs": [],
   "source": [
    "age_col = 'age_at_initial_pathologic_diagnosis'"
   ]
  },
  {
   "cell_type": "code",
   "execution_count": 12,
   "metadata": {
    "ExecuteTime": {
     "end_time": "2023-12-31T21:19:14.313425023Z",
     "start_time": "2023-12-31T21:19:14.305221062Z"
    }
   },
   "outputs": [
    {
     "data": {
      "text/plain": [
       "{'gender': ['FEMALE', 'MALE', 'MALE', 'MALE', 'FEMALE']}"
      ]
     },
     "execution_count": 12,
     "metadata": {},
     "output_type": "execute_result"
    }
   ],
   "source": [
    "preview_df(clinical_data[candidate_gender_cols])"
   ]
  },
  {
   "cell_type": "code",
   "execution_count": 13,
   "metadata": {
    "ExecuteTime": {
     "end_time": "2023-12-31T21:19:14.852502962Z",
     "start_time": "2023-12-31T21:19:14.845153121Z"
    }
   },
   "outputs": [],
   "source": [
    "gender_col = 'gender'"
   ]
  },
  {
   "cell_type": "code",
   "execution_count": 14,
   "metadata": {
    "ExecuteTime": {
     "end_time": "2023-12-31T21:19:15.246065025Z",
     "start_time": "2023-12-31T21:19:15.240279162Z"
    }
   },
   "outputs": [],
   "source": [
    "selected_clinical_data = xena_select_clinical_features(clinical_data, TRAIT, age_col, gender_col)"
   ]
  },
  {
   "cell_type": "code",
   "execution_count": 15,
   "metadata": {
    "ExecuteTime": {
     "end_time": "2023-12-31T21:19:15.593478652Z",
     "start_time": "2023-12-31T21:19:15.583841656Z"
    }
   },
   "outputs": [
    {
     "name": "stderr",
     "output_type": "stream",
     "text": [
      "15 input query terms found dup hits:\t[('GTF2IP1', 2), ('RBMY1A3P', 3), ('HERC2P2', 3), ('WASH3P', 3), ('NUDT9P1', 2), ('SNORD104', 2), ('\n",
      "154 input query terms found no hit:\t['C16orf13', 'C16orf11', 'LOC100272146', 'LOC339240', 'NACAP1', 'LOC441204', 'KLRA1', 'FAM183A', 'FA\n",
      "9 input query terms found dup hits:\t[('SUGT1P1', 2), ('SNORD127', 2), ('SNORA62', 4), ('IFITM4P', 8), ('HLA-DRB6', 2), ('FUNDC2P2', 2), \n",
      "190 input query terms found no hit:\t['NARFL', 'NFKBIL2', 'LOC150197', 'TMEM84', 'LOC162632', 'PPPDE1', 'PPPDE2', 'C1orf38', 'C1orf31', '\n",
      "20 input query terms found dup hits:\t[('PIP5K1P1', 2), ('SNORA40', 2), ('SNORD116-24', 2), ('SNORD116-25', 2), ('SNORD116-23', 2), ('SNOR\n",
      "149 input query terms found no hit:\t['FAM153C', 'C9orf167', 'CLK2P', 'CCDC76', 'CCDC75', 'CCDC72', 'HIST3H2BB', 'PRAC', 'LOC285780', 'LO\n",
      "18 input query terms found dup hits:\t[('SNORD58C', 2), ('UOX', 2), ('UBE2Q2P1', 3), ('PPP4R1L', 2), ('SNORD63', 3), ('SNORD116-22', 2), (\n",
      "158 input query terms found no hit:\t['C16orf91', 'LOC100130581', 'SFRS2', 'C16orf5', 'C16orf7', 'C16orf3', 'C21orf7', 'C21orf2', 'LOC389\n",
      "19 input query terms found dup hits:\t[('FAM66D', 2), ('FAM66A', 2), ('THSD1P1', 2), ('MSLNL', 2), ('EEF1DP3', 2), ('PGM5P2', 2), ('UBE2MP\n",
      "169 input query terms found no hit:\t['LOC284551', 'LOC285548', 'LOC728410', 'LOC541473', 'DULLARD', 'KIAA0368', 'EFTUD1', 'TWISTNB', 'SF\n",
      "17 input query terms found dup hits:\t[('S100A7L2', 2), ('POM121L8P', 2), ('SNORD16', 2), ('MEG8', 2), ('RPL23P8', 2), ('KIR3DX1', 5), ('R\n",
      "165 input query terms found no hit:\t['TMEM188', 'PDZD3', 'FAM102B', 'FAM102A', 'SMCR7L', 'G6PC', 'OSTCL', 'LOC653544', 'LOC653545', 'USP\n",
      "20 input query terms found dup hits:\t[('SNORD50B', 2), ('PCNAP1', 2), ('SNORA63', 7), ('C5orf60', 2), ('CEACAM22P', 2), ('SNORA16A', 2), \n",
      "147 input query terms found no hit:\t['LRRC37A4', 'LOC100131726', 'CPSF3L', 'COL4A3BP', 'PAR1', 'LOC92973', 'MICALCL', 'SMCR7', 'HIST4H4'\n",
      "15 input query terms found dup hits:\t[('SDHAP3', 2), ('PSORS1C3', 8), ('POM121L10P', 2), ('HLA-J', 9), ('HLA-H', 9), ('HLA-L', 7), ('NME2\n",
      "153 input query terms found no hit:\t['LOC100131193', 'KIAA1109', 'DUS2L', 'MYST1', 'IGLL3', 'C12orf69', 'NEURL', 'FAM188B', 'FLJ32063', \n",
      "8 input query terms found dup hits:\t[('PLGLA', 2), ('PA2G4P4', 2), ('RPL23AP7', 2), ('ST20', 2), ('RPL23AP64', 3), ('DPY19L2P2', 3), ('F\n",
      "177 input query terms found no hit:\t['LOC283314', 'RBM9', 'C20orf118', 'LOC150786', 'C20orf112', 'C20orf111', 'C20orf117', 'C20orf114', \n",
      "19 input query terms found dup hits:\t[('TPTE2P1', 2), ('FOLH1B', 2), ('ID2B', 2), ('MSX2P1', 2), ('RAET1K', 2), ('BMS1P4', 2), ('RPL23AP8\n",
      "175 input query terms found no hit:\t['MYEOV2', 'FAM35B2', 'C20orf85', 'FAM175A', 'C17orf73', 'C17orf72', 'C17orf71', 'C17orf70', 'C17orf\n",
      "26 input query terms found dup hits:\t[('CATSPER2P1', 2), ('AQP7P3', 2), ('AQP7P1', 2), ('ATP8B5P', 2), ('OR7E91P', 2), ('ZNF204P', 2), ('\n",
      "144 input query terms found no hit:\t['BASE', 'C14orf21', 'C14orf23', 'FAM5B', 'TROVE2', 'C18orf62', 'LOC401052', 'GNB2L1', 'FAM19A4', 'F\n",
      "17 input query terms found dup hits:\t[('P2RX6P', 2), ('RP9P', 2), ('SNORD1A', 2), ('SNORD10', 2), ('SNORD19', 2), ('NRADDP', 2), ('AOX2P'\n",
      "169 input query terms found no hit:\t['TTC15', 'C4orf29', 'FAM48A', 'C4orf21', 'C3orf65', 'C4orf23', 'C3orf67', 'LOC144742', 'C3orf63', '\n",
      "17 input query terms found dup hits:\t[('SNORA58', 2), ('PMCHL1', 2), ('FAM95B1', 2), ('TMEM191A', 2), ('RPL13P5', 2), ('SBDSP1', 2), ('CY\n",
      "143 input query terms found no hit:\t['LOC254312', 'ZNF542', 'CSDAP1', 'FAM73A', 'FAM73B', 'TCTE3', 'ZNF37B', 'LOC728875', 'KIAA1826', 'P\n",
      "16 input query terms found dup hits:\t[('ZFP91-CNTF', 2), ('SNORD116-27', 2), ('GSTM2P1', 2), ('C3P1', 2), ('NCF1B', 2), ('SNORD114-4', 2)\n",
      "138 input query terms found no hit:\t['LOC100129716', 'C14orf184', 'C14orf181', 'C14orf183', 'C14orf182', 'C7orf26', 'C7orf27', 'C7orf23'\n",
      "14 input query terms found dup hits:\t[('ANXA2P1', 2), ('ANXA2P3', 2), ('ANXA2P2', 2), ('SNORD116-12', 2), ('ZNF286B', 2), ('SAA3P', 2), (\n",
      "132 input query terms found no hit:\t['AKR1CL1', 'CCDC21', 'CCDC23', 'TMEM111', 'APOB48R', 'LOC595101', 'KIAA1430', 'KIAA1432', 'ORC4L', \n",
      "15 input query terms found dup hits:\t[('TCP10L2', 2), ('CXADRP3', 2), ('SNORD116-13', 2), ('TPTE2P3', 2), ('SNORD116-15', 2), ('SNORD116-\n",
      "175 input query terms found no hit:\t['DFNB59', 'LOC100170939', 'FAM36A', 'C2orf70', 'C2orf71', 'C2orf77', 'C2orf79', 'LOC100128191', 'HR\n",
      "16 input query terms found dup hits:\t[('PMS2CL', 2), ('BRD7P3', 2), ('SCARNA17', 2), ('GABARAPL3', 2), ('MT1IP', 2), ('ADAM6', 3), ('SNOR\n",
      "142 input query terms found no hit:\t['C9orf30', 'PEG3AS', 'C9orf37', 'TXNDC3', 'LOC442308', 'FAM46D', 'FAM46A', 'FAM46B', 'FAM46C', 'WDR\n",
      "13 input query terms found dup hits:\t[('FAM197Y2', 3), ('SNORD1C', 2), ('SNORA71B', 2), ('NAT8B', 3), ('SNORA21', 2), ('VENTXP7', 2), ('G\n",
      "148 input query terms found no hit:\t['FCGR1B', 'RG9MTD2', 'RARS', 'LOC727677', 'CCRN4L', 'SEPT14', 'HKR1', 'C1orf112', 'LOC100270710', '\n",
      "13 input query terms found dup hits:\t[('OR6W1P', 3), ('LYPLA2P1', 6), ('RPL23AP53', 2), ('TRPC2', 2), ('RBMY2FP', 2), ('BAGE2', 2), ('POM\n",
      "150 input query terms found no hit:\t['SIP1', 'FAM129C', 'GIF', 'TMCO7', 'CXorf61', 'CXorf64', 'ZNF192', 'SEPP1', 'KIRREL', 'MGC16121', '\n",
      "18 input query terms found dup hits:\t[('ISCA1P1', 2), ('SNORD116-5', 2), ('PCDHB19P', 3), ('NAPSB', 2), ('WASH7P', 2), ('TTTY11', 2), ('H\n",
      "135 input query terms found no hit:\t['PPYR1', 'FAM82A2', 'FLJ37453', 'FAM82A1', 'KIAA0947', 'MOBKL2B', 'MOBKL2C', 'MOBKL2A', 'CMAH', 'GR\n",
      "8 input query terms found dup hits:\t[('SNORD12B', 2), ('SNORD116-8', 2), ('SNORD116-4', 2), ('SNORD116-1', 2), ('SNORD116-3', 2), ('SNOR\n",
      "78 input query terms found no hit:\t['C14orf174', 'C14orf176', 'C14orf177', 'C14orf179', 'PTPLB', 'SGEF', 'LOC400752', 'GRLF1', 'SPANXE'\n"
     ]
    }
   ],
   "source": [
    "if NORMALIZE_GENE:\n",
    "    genetic_data = normalize_gene_symbols_in_index(genetic_data)"
   ]
  },
  {
   "cell_type": "code",
   "execution_count": 16,
   "metadata": {
    "ExecuteTime": {
     "end_time": "2023-12-31T21:19:16.074598194Z",
     "start_time": "2023-12-31T21:19:15.973600157Z"
    }
   },
   "outputs": [
    {
     "data": {
      "text/html": [
       "<div>\n",
       "<style scoped>\n",
       "    .dataframe tbody tr th:only-of-type {\n",
       "        vertical-align: middle;\n",
       "    }\n",
       "\n",
       "    .dataframe tbody tr th {\n",
       "        vertical-align: top;\n",
       "    }\n",
       "\n",
       "    .dataframe thead th {\n",
       "        text-align: right;\n",
       "    }\n",
       "</style>\n",
       "<table border=\"1\" class=\"dataframe\">\n",
       "  <thead>\n",
       "    <tr style=\"text-align: right;\">\n",
       "      <th></th>\n",
       "      <th>Thyroid Cancer</th>\n",
       "      <th>Age</th>\n",
       "      <th>Gender</th>\n",
       "      <th>ARHGEF10L</th>\n",
       "      <th>HIF3A</th>\n",
       "      <th>RNF17</th>\n",
       "      <th>RNF10</th>\n",
       "      <th>RNF11</th>\n",
       "      <th>RNF13</th>\n",
       "      <th>GTF2IP1</th>\n",
       "      <th>...</th>\n",
       "      <th>SLC7A10</th>\n",
       "      <th>PLA2G2C</th>\n",
       "      <th>TULP2</th>\n",
       "      <th>NPY5R</th>\n",
       "      <th>GNGT2</th>\n",
       "      <th>GNGT1</th>\n",
       "      <th>TULP3</th>\n",
       "      <th>BCL6B</th>\n",
       "      <th>GSTK1</th>\n",
       "      <th>SELP</th>\n",
       "    </tr>\n",
       "    <tr>\n",
       "      <th>sampleID</th>\n",
       "      <th></th>\n",
       "      <th></th>\n",
       "      <th></th>\n",
       "      <th></th>\n",
       "      <th></th>\n",
       "      <th></th>\n",
       "      <th></th>\n",
       "      <th></th>\n",
       "      <th></th>\n",
       "      <th></th>\n",
       "      <th></th>\n",
       "      <th></th>\n",
       "      <th></th>\n",
       "      <th></th>\n",
       "      <th></th>\n",
       "      <th></th>\n",
       "      <th></th>\n",
       "      <th></th>\n",
       "      <th></th>\n",
       "      <th></th>\n",
       "      <th></th>\n",
       "    </tr>\n",
       "  </thead>\n",
       "  <tbody>\n",
       "    <tr>\n",
       "      <th>TCGA-4C-A93U-01</th>\n",
       "      <td>1</td>\n",
       "      <td>74</td>\n",
       "      <td>0</td>\n",
       "      <td>-0.767592</td>\n",
       "      <td>-1.742926</td>\n",
       "      <td>-0.531035</td>\n",
       "      <td>-0.067972</td>\n",
       "      <td>0.265922</td>\n",
       "      <td>-0.13531</td>\n",
       "      <td>0.440006</td>\n",
       "      <td>...</td>\n",
       "      <td>-2.090786</td>\n",
       "      <td>-0.086682</td>\n",
       "      <td>-0.748878</td>\n",
       "      <td>-1.018517</td>\n",
       "      <td>0.205567</td>\n",
       "      <td>-1.28139</td>\n",
       "      <td>0.395523</td>\n",
       "      <td>0.945273</td>\n",
       "      <td>-0.186695</td>\n",
       "      <td>4.024767</td>\n",
       "    </tr>\n",
       "    <tr>\n",
       "      <th>TCGA-BJ-A0YZ-01</th>\n",
       "      <td>1</td>\n",
       "      <td>65</td>\n",
       "      <td>1</td>\n",
       "      <td>1.766308</td>\n",
       "      <td>0.273374</td>\n",
       "      <td>-0.531035</td>\n",
       "      <td>0.790028</td>\n",
       "      <td>1.209322</td>\n",
       "      <td>0.01229</td>\n",
       "      <td>0.704606</td>\n",
       "      <td>...</td>\n",
       "      <td>0.503714</td>\n",
       "      <td>-0.086682</td>\n",
       "      <td>0.125322</td>\n",
       "      <td>1.568883</td>\n",
       "      <td>0.626367</td>\n",
       "      <td>2.38101</td>\n",
       "      <td>0.275823</td>\n",
       "      <td>2.140073</td>\n",
       "      <td>1.380405</td>\n",
       "      <td>1.257367</td>\n",
       "    </tr>\n",
       "    <tr>\n",
       "      <th>TCGA-BJ-A0Z0-01</th>\n",
       "      <td>1</td>\n",
       "      <td>55</td>\n",
       "      <td>1</td>\n",
       "      <td>0.986808</td>\n",
       "      <td>-2.165726</td>\n",
       "      <td>-0.050935</td>\n",
       "      <td>0.051428</td>\n",
       "      <td>0.979522</td>\n",
       "      <td>0.48229</td>\n",
       "      <td>0.090106</td>\n",
       "      <td>...</td>\n",
       "      <td>-1.602586</td>\n",
       "      <td>-0.086682</td>\n",
       "      <td>-0.748878</td>\n",
       "      <td>-0.747417</td>\n",
       "      <td>-0.931133</td>\n",
       "      <td>-1.28139</td>\n",
       "      <td>-0.222077</td>\n",
       "      <td>0.725173</td>\n",
       "      <td>-0.254095</td>\n",
       "      <td>0.530667</td>\n",
       "    </tr>\n",
       "    <tr>\n",
       "      <th>TCGA-BJ-A0Z2-01</th>\n",
       "      <td>1</td>\n",
       "      <td>57</td>\n",
       "      <td>1</td>\n",
       "      <td>0.767208</td>\n",
       "      <td>-1.623626</td>\n",
       "      <td>-0.531035</td>\n",
       "      <td>0.182228</td>\n",
       "      <td>0.541622</td>\n",
       "      <td>0.65889</td>\n",
       "      <td>0.647206</td>\n",
       "      <td>...</td>\n",
       "      <td>-1.516086</td>\n",
       "      <td>0.474118</td>\n",
       "      <td>-0.748878</td>\n",
       "      <td>-1.587117</td>\n",
       "      <td>-1.292433</td>\n",
       "      <td>-1.28139</td>\n",
       "      <td>-0.602177</td>\n",
       "      <td>0.894473</td>\n",
       "      <td>-0.380395</td>\n",
       "      <td>-2.502833</td>\n",
       "    </tr>\n",
       "    <tr>\n",
       "      <th>TCGA-BJ-A0Z3-01</th>\n",
       "      <td>1</td>\n",
       "      <td>33</td>\n",
       "      <td>0</td>\n",
       "      <td>-0.287292</td>\n",
       "      <td>-1.766626</td>\n",
       "      <td>-0.531035</td>\n",
       "      <td>0.059628</td>\n",
       "      <td>0.920522</td>\n",
       "      <td>0.21849</td>\n",
       "      <td>0.336106</td>\n",
       "      <td>...</td>\n",
       "      <td>0.971714</td>\n",
       "      <td>-0.086682</td>\n",
       "      <td>-0.413778</td>\n",
       "      <td>1.111583</td>\n",
       "      <td>1.158867</td>\n",
       "      <td>-1.28139</td>\n",
       "      <td>0.003723</td>\n",
       "      <td>0.924373</td>\n",
       "      <td>-0.143495</td>\n",
       "      <td>2.613367</td>\n",
       "    </tr>\n",
       "  </tbody>\n",
       "</table>\n",
       "<p>5 rows × 17342 columns</p>\n",
       "</div>"
      ],
      "text/plain": [
       "                 Thyroid Cancer  Age  Gender  ARHGEF10L     HIF3A     RNF17  \\\n",
       "sampleID                                                                      \n",
       "TCGA-4C-A93U-01               1   74       0  -0.767592 -1.742926 -0.531035   \n",
       "TCGA-BJ-A0YZ-01               1   65       1   1.766308  0.273374 -0.531035   \n",
       "TCGA-BJ-A0Z0-01               1   55       1   0.986808 -2.165726 -0.050935   \n",
       "TCGA-BJ-A0Z2-01               1   57       1   0.767208 -1.623626 -0.531035   \n",
       "TCGA-BJ-A0Z3-01               1   33       0  -0.287292 -1.766626 -0.531035   \n",
       "\n",
       "                    RNF10     RNF11    RNF13   GTF2IP1  ...   SLC7A10  \\\n",
       "sampleID                                                ...             \n",
       "TCGA-4C-A93U-01 -0.067972  0.265922 -0.13531  0.440006  ... -2.090786   \n",
       "TCGA-BJ-A0YZ-01  0.790028  1.209322  0.01229  0.704606  ...  0.503714   \n",
       "TCGA-BJ-A0Z0-01  0.051428  0.979522  0.48229  0.090106  ... -1.602586   \n",
       "TCGA-BJ-A0Z2-01  0.182228  0.541622  0.65889  0.647206  ... -1.516086   \n",
       "TCGA-BJ-A0Z3-01  0.059628  0.920522  0.21849  0.336106  ...  0.971714   \n",
       "\n",
       "                  PLA2G2C     TULP2     NPY5R     GNGT2    GNGT1     TULP3  \\\n",
       "sampleID                                                                     \n",
       "TCGA-4C-A93U-01 -0.086682 -0.748878 -1.018517  0.205567 -1.28139  0.395523   \n",
       "TCGA-BJ-A0YZ-01 -0.086682  0.125322  1.568883  0.626367  2.38101  0.275823   \n",
       "TCGA-BJ-A0Z0-01 -0.086682 -0.748878 -0.747417 -0.931133 -1.28139 -0.222077   \n",
       "TCGA-BJ-A0Z2-01  0.474118 -0.748878 -1.587117 -1.292433 -1.28139 -0.602177   \n",
       "TCGA-BJ-A0Z3-01 -0.086682 -0.413778  1.111583  1.158867 -1.28139  0.003723   \n",
       "\n",
       "                    BCL6B     GSTK1      SELP  \n",
       "sampleID                                       \n",
       "TCGA-4C-A93U-01  0.945273 -0.186695  4.024767  \n",
       "TCGA-BJ-A0YZ-01  2.140073  1.380405  1.257367  \n",
       "TCGA-BJ-A0Z0-01  0.725173 -0.254095  0.530667  \n",
       "TCGA-BJ-A0Z2-01  0.894473 -0.380395 -2.502833  \n",
       "TCGA-BJ-A0Z3-01  0.924373 -0.143495  2.613367  \n",
       "\n",
       "[5 rows x 17342 columns]"
      ]
     },
     "execution_count": 16,
     "metadata": {},
     "output_type": "execute_result"
    }
   ],
   "source": [
    "merged_data = selected_clinical_data.join(genetic_data.T).dropna()\n",
    "merged_data.head()"
   ]
  },
  {
   "cell_type": "code",
   "execution_count": 17,
   "metadata": {
    "ExecuteTime": {
     "end_time": "2023-12-31T21:19:16.341121723Z",
     "start_time": "2023-12-31T21:19:16.330544222Z"
    }
   },
   "outputs": [
    {
     "name": "stdout",
     "output_type": "stream",
     "text": [
      "The merged dataset contains 572 samples.\n"
     ]
    }
   ],
   "source": [
    "print(f\"The merged dataset contains {len(merged_data)} samples.\")"
   ]
  },
  {
   "cell_type": "code",
   "execution_count": 18,
   "metadata": {
    "ExecuteTime": {
     "end_time": "2023-12-31T21:19:17.222505900Z",
     "start_time": "2023-12-31T21:19:17.218781412Z"
    }
   },
   "outputs": [
    {
     "name": "stdout",
     "output_type": "stream",
     "text": [
      "For the feature 'Thyroid Cancer', the least common label is '0' with 59 occurrences. This represents 10.31% of the dataset.\n",
      "The distribution of the feature 'Thyroid Cancer' in this dataset is fine.\n",
      "\n",
      "Quartiles for 'Age':\n",
      "  25%: 34.0\n",
      "  50% (Median): 46.0\n",
      "  75%: 58.0\n",
      "Min: 15\n",
      "Max: 89\n",
      "The distribution of the feature 'Age' in this dataset is fine.\n",
      "\n",
      "For the feature 'Gender', the least common label is '1' with 157 occurrences. This represents 27.45% of the dataset.\n",
      "The distribution of the feature 'Gender' in this dataset is fine.\n",
      "\n"
     ]
    },
    {
     "data": {
      "text/plain": [
       "False"
      ]
     },
     "execution_count": 18,
     "metadata": {},
     "output_type": "execute_result"
    }
   ],
   "source": [
    "is_trait_biased, merge_data = judge_and_remove_biased_features(merged_data, TRAIT, trait_type=trait_type)\n",
    "is_trait_biased"
   ]
  },
  {
   "cell_type": "code",
   "execution_count": 19,
   "metadata": {
    "ExecuteTime": {
     "end_time": "2023-12-31T21:19:35.401536463Z",
     "start_time": "2023-12-31T21:19:17.980683628Z"
    }
   },
   "outputs": [],
   "source": [
    "merged_data.head()\n",
    "if not is_trait_biased:\n",
    "    merge_data.to_csv(os.path.join(OUTPUT_DIR, cohort+'.csv'), index=False)"
   ]
  },
  {
   "cell_type": "code",
   "execution_count": 20,
   "metadata": {
    "ExecuteTime": {
     "end_time": "2023-12-31T21:19:35.405288661Z",
     "start_time": "2023-12-31T21:19:35.402799553Z"
    }
   },
   "outputs": [],
   "source": [
    "save_cohort_info(cohort, JSON_PATH, is_available, is_trait_biased, merged_data)"
   ]
  },
  {
   "cell_type": "markdown",
   "metadata": {
    "ExecuteTime": {
     "end_time": "2023-12-28T21:28:38.028916303Z",
     "start_time": "2023-12-28T21:28:38.016245426Z"
    }
   },
   "source": [
    "## 2.2. The GEO dataset"
   ]
  },
  {
   "cell_type": "markdown",
   "metadata": {
    "ExecuteTime": {
     "end_time": "2023-12-31T03:25:23.253882615Z",
     "start_time": "2023-12-31T03:25:23.244062710Z"
    }
   },
   "source": [
    "In GEO, there may be one or multiple cohorts for a trait. Each cohort is identified by an accession number. We iterate over all accession numbers in the corresponding subdirectory, preprocess the cohort data, and save them to csv files."
   ]
  },
  {
   "cell_type": "code",
   "execution_count": 21,
   "metadata": {
    "ExecuteTime": {
     "end_time": "2023-12-31T21:19:35.411177575Z",
     "start_time": "2023-12-31T21:19:35.405710636Z"
    }
   },
   "outputs": [
    {
     "data": {
      "text/plain": [
       "['GSE191117',\n",
       " 'GSE104005',\n",
       " 'GSE151179',\n",
       " 'GSE103996',\n",
       " 'GSE138198',\n",
       " 'GSE104006',\n",
       " 'GSE151181',\n",
       " 'GSE151180']"
      ]
     },
     "execution_count": 21,
     "metadata": {},
     "output_type": "execute_result"
    }
   ],
   "source": [
    "dataset = 'GEO'\n",
    "trait_subdir = \"Thyroid-Cancer\"\n",
    "\n",
    "trait_path = os.path.join(DATA_ROOT, dataset, trait_subdir)\n",
    "os.listdir(trait_path)"
   ]
  },
  {
   "cell_type": "markdown",
   "metadata": {
    "ExecuteTime": {
     "end_time": "2023-12-31T03:39:42.634870142Z",
     "start_time": "2023-12-31T03:39:42.534093295Z"
    }
   },
   "source": [
    "Repeat the below steps for all the accession numbers"
   ]
  },
  {
   "cell_type": "code",
   "execution_count": 175,
   "metadata": {
    "ExecuteTime": {
     "end_time": "2023-12-31T21:19:35.413836016Z",
     "start_time": "2023-12-31T21:19:35.410443976Z"
    }
   },
   "outputs": [
    {
     "data": {
      "text/plain": [
       "('../../DATA/GEO/Thyroid-Cancer/GSE191117/GSE191117_family.soft.gz',\n",
       " '../../DATA/GEO/Thyroid-Cancer/GSE191117/GSE191117_series_matrix.txt.gz')"
      ]
     },
     "execution_count": 175,
     "metadata": {},
     "output_type": "execute_result"
    }
   ],
   "source": [
    "cohort = accession_num = \"GSE191117\"\n",
    "cohort_dir = os.path.join(trait_path, accession_num)\n",
    "soft_file, matrix_file = get_relevant_filepaths(cohort_dir)\n",
    "soft_file, matrix_file"
   ]
  },
  {
   "cell_type": "markdown",
   "metadata": {},
   "source": [
    "### Inital filtering and clinical data preprocessing"
   ]
  },
  {
   "cell_type": "code",
   "execution_count": 176,
   "metadata": {
    "ExecuteTime": {
     "end_time": "2023-12-31T21:19:35.492119842Z",
     "start_time": "2023-12-31T21:19:35.413383102Z"
    }
   },
   "outputs": [
    {
     "name": "stdout",
     "output_type": "stream",
     "text": [
      "!Series_title\t\"miRNA Expression Pattern in Papillary Thyroid Cancer\"\n",
      "!Series_summary\t\"The aim of this study was to conduct a comparison of tissue miRNA in thyroid cancer (papillary (PTC), follicular (FTC), and microcancer (PTMC)) and  healthy thyroid tissue (Control). The expression level of 798 miRNAs using NanoString technology was examined. ROC curve analysis, and logistic regression modeling were performed. Gene ontology (GO), canonical pathways analysis were used to explore the biological functions of the miRNA target genes.\"\n",
      "!Series_summary\t\"The study revealed that 10 miRNAs were deregulated in samples of patients with PTC. Pathway analysis showed that miRNA target genes were mainly significantly enriched in endocrine resistance, EGFR tyrosine kinase inhibitor resistance, and pathways in cancer. ROC analysis demonstrated that miR-146-5p, miR-551b-3p, and miR-222-3p can be introduced as a diagnostic tool for PTC (AUC=0.770; 0.740; 0.720; respectively). Validation by qRT-PCR confirmed our findings. The results suggest that tissue miRNAs can potentially be used as predictive biomarkers of PTC in patients.\"\n",
      "!Series_overall_design\t\"A total of 111 FFFPE samples were included in the study. miRNA profile in 49 PTCs, 7 FTCs, 5 PTMCs and matched 50 normal thyroid samples was analyzed.\"\n"
     ]
    }
   ],
   "source": [
    "background_prefixes = ['!Series_title', '!Series_summary', '!Series_overall_design']\n",
    "clinical_prefixes = ['!Sample_geo_accession', '!Sample_characteristics_ch1']\n",
    "\n",
    "background_info, clinical_data = get_background_and_clinical_data(matrix_file, background_prefixes, clinical_prefixes)\n",
    "print(background_info)"
   ]
  },
  {
   "cell_type": "code",
   "execution_count": 177,
   "metadata": {
    "ExecuteTime": {
     "end_time": "2023-12-31T21:19:35.507840422Z",
     "start_time": "2023-12-31T21:19:35.451789107Z"
    }
   },
   "outputs": [
    {
     "data": {
      "text/html": [
       "<div>\n",
       "<style scoped>\n",
       "    .dataframe tbody tr th:only-of-type {\n",
       "        vertical-align: middle;\n",
       "    }\n",
       "\n",
       "    .dataframe tbody tr th {\n",
       "        vertical-align: top;\n",
       "    }\n",
       "\n",
       "    .dataframe thead th {\n",
       "        text-align: right;\n",
       "    }\n",
       "</style>\n",
       "<table border=\"1\" class=\"dataframe\">\n",
       "  <thead>\n",
       "    <tr style=\"text-align: right;\">\n",
       "      <th></th>\n",
       "      <th>!Sample_geo_accession</th>\n",
       "      <th>GSM5739405</th>\n",
       "      <th>GSM5739406</th>\n",
       "      <th>GSM5739407</th>\n",
       "      <th>GSM5739408</th>\n",
       "      <th>GSM5739409</th>\n",
       "      <th>GSM5739410</th>\n",
       "      <th>GSM5739411</th>\n",
       "      <th>GSM5739412</th>\n",
       "      <th>GSM5739413</th>\n",
       "      <th>...</th>\n",
       "      <th>GSM5739506</th>\n",
       "      <th>GSM5739507</th>\n",
       "      <th>GSM5739508</th>\n",
       "      <th>GSM5739509</th>\n",
       "      <th>GSM5739510</th>\n",
       "      <th>GSM5739511</th>\n",
       "      <th>GSM5739512</th>\n",
       "      <th>GSM5739513</th>\n",
       "      <th>GSM5739514</th>\n",
       "      <th>GSM5739515</th>\n",
       "    </tr>\n",
       "  </thead>\n",
       "  <tbody>\n",
       "    <tr>\n",
       "      <th>0</th>\n",
       "      <td>!Sample_characteristics_ch1</td>\n",
       "      <td>disease state: PTC</td>\n",
       "      <td>disease state: PTC</td>\n",
       "      <td>disease state: Control</td>\n",
       "      <td>disease state: FTC</td>\n",
       "      <td>disease state: Control</td>\n",
       "      <td>disease state: PTC</td>\n",
       "      <td>disease state: Control</td>\n",
       "      <td>disease state: Control</td>\n",
       "      <td>disease state: PTMC</td>\n",
       "      <td>...</td>\n",
       "      <td>disease state: Control</td>\n",
       "      <td>disease state: Control</td>\n",
       "      <td>disease state: PTC</td>\n",
       "      <td>disease state: Control</td>\n",
       "      <td>disease state: PTC</td>\n",
       "      <td>disease state: PTC</td>\n",
       "      <td>disease state: PTC</td>\n",
       "      <td>disease state: Control</td>\n",
       "      <td>disease state: PTC</td>\n",
       "      <td>disease state: PTC</td>\n",
       "    </tr>\n",
       "    <tr>\n",
       "      <th>1</th>\n",
       "      <td>!Sample_characteristics_ch1</td>\n",
       "      <td>tnm staging system: pT1m</td>\n",
       "      <td>tnm staging system: pT2b</td>\n",
       "      <td>tissue: control (normal thyroid)</td>\n",
       "      <td>tnm staging system: pT1m</td>\n",
       "      <td>tissue: control (normal thyroid)</td>\n",
       "      <td>tnm staging system: pT1b</td>\n",
       "      <td>tissue: control (normal thyroid)</td>\n",
       "      <td>tissue: control (normal thyroid)</td>\n",
       "      <td>tnm staging system: pT1a</td>\n",
       "      <td>...</td>\n",
       "      <td>tissue: control (normal thyroid)</td>\n",
       "      <td>tissue: control (normal thyroid)</td>\n",
       "      <td>tnm staging system: pT1a</td>\n",
       "      <td>tissue: control (normal thyroid)</td>\n",
       "      <td>tnm staging system: pT1a</td>\n",
       "      <td>tnm staging system: pT1a</td>\n",
       "      <td>tnm staging system: pT4</td>\n",
       "      <td>tissue: control (normal thyroid)</td>\n",
       "      <td>tnm staging system: pT1b</td>\n",
       "      <td>tnm staging system: pT1b</td>\n",
       "    </tr>\n",
       "    <tr>\n",
       "      <th>2</th>\n",
       "      <td>!Sample_characteristics_ch1</td>\n",
       "      <td>tumor size: 7</td>\n",
       "      <td>tumor size: 14</td>\n",
       "      <td>NaN</td>\n",
       "      <td>tumor size: 5</td>\n",
       "      <td>NaN</td>\n",
       "      <td>tumor size: 9</td>\n",
       "      <td>NaN</td>\n",
       "      <td>NaN</td>\n",
       "      <td>tumor size: 9</td>\n",
       "      <td>...</td>\n",
       "      <td>NaN</td>\n",
       "      <td>NaN</td>\n",
       "      <td>tumor size: 10</td>\n",
       "      <td>NaN</td>\n",
       "      <td>tumor size: 9</td>\n",
       "      <td>tumor size: 9</td>\n",
       "      <td>tumor size: 25</td>\n",
       "      <td>NaN</td>\n",
       "      <td>tumor size: 15</td>\n",
       "      <td>tumor size: 15</td>\n",
       "    </tr>\n",
       "    <tr>\n",
       "      <th>3</th>\n",
       "      <td>!Sample_characteristics_ch1</td>\n",
       "      <td>multifocalization: 1-presence</td>\n",
       "      <td>multifocalization: 1-presence</td>\n",
       "      <td>NaN</td>\n",
       "      <td>multifocalization: 1-presence</td>\n",
       "      <td>NaN</td>\n",
       "      <td>multifocalization: 1-presence</td>\n",
       "      <td>NaN</td>\n",
       "      <td>NaN</td>\n",
       "      <td>multifocalization: 0-absence</td>\n",
       "      <td>...</td>\n",
       "      <td>NaN</td>\n",
       "      <td>NaN</td>\n",
       "      <td>multifocalization: 0-absence</td>\n",
       "      <td>NaN</td>\n",
       "      <td>multifocalization: 0-absence</td>\n",
       "      <td>lymph node metastasis: 1-presence</td>\n",
       "      <td>multifocalization: 1-presence</td>\n",
       "      <td>NaN</td>\n",
       "      <td>lymph node metastasis: 1-presence</td>\n",
       "      <td>multifocalization: 1-presence</td>\n",
       "    </tr>\n",
       "    <tr>\n",
       "      <th>4</th>\n",
       "      <td>!Sample_characteristics_ch1</td>\n",
       "      <td>angioinvasion: 1-presence</td>\n",
       "      <td>angioinvasion: 1-presence</td>\n",
       "      <td>NaN</td>\n",
       "      <td>angioinvasion: 0-absence</td>\n",
       "      <td>NaN</td>\n",
       "      <td>angioinvasion: 0-absence</td>\n",
       "      <td>NaN</td>\n",
       "      <td>NaN</td>\n",
       "      <td>angioinvasion: 0-absence</td>\n",
       "      <td>...</td>\n",
       "      <td>NaN</td>\n",
       "      <td>NaN</td>\n",
       "      <td>angioinvasion: 0-absence</td>\n",
       "      <td>NaN</td>\n",
       "      <td>angioinvasion: 0-absence</td>\n",
       "      <td>tissue: PTC</td>\n",
       "      <td>angioinvasion: 0-absence</td>\n",
       "      <td>NaN</td>\n",
       "      <td>tissue: PTC</td>\n",
       "      <td>angioinvasion: 1-presence</td>\n",
       "    </tr>\n",
       "  </tbody>\n",
       "</table>\n",
       "<p>5 rows × 112 columns</p>\n",
       "</div>"
      ],
      "text/plain": [
       "         !Sample_geo_accession                     GSM5739405  \\\n",
       "0  !Sample_characteristics_ch1             disease state: PTC   \n",
       "1  !Sample_characteristics_ch1       tnm staging system: pT1m   \n",
       "2  !Sample_characteristics_ch1                  tumor size: 7   \n",
       "3  !Sample_characteristics_ch1  multifocalization: 1-presence   \n",
       "4  !Sample_characteristics_ch1      angioinvasion: 1-presence   \n",
       "\n",
       "                      GSM5739406                        GSM5739407  \\\n",
       "0             disease state: PTC            disease state: Control   \n",
       "1       tnm staging system: pT2b  tissue: control (normal thyroid)   \n",
       "2                 tumor size: 14                               NaN   \n",
       "3  multifocalization: 1-presence                               NaN   \n",
       "4      angioinvasion: 1-presence                               NaN   \n",
       "\n",
       "                      GSM5739408                        GSM5739409  \\\n",
       "0             disease state: FTC            disease state: Control   \n",
       "1       tnm staging system: pT1m  tissue: control (normal thyroid)   \n",
       "2                  tumor size: 5                               NaN   \n",
       "3  multifocalization: 1-presence                               NaN   \n",
       "4       angioinvasion: 0-absence                               NaN   \n",
       "\n",
       "                      GSM5739410                        GSM5739411  \\\n",
       "0             disease state: PTC            disease state: Control   \n",
       "1       tnm staging system: pT1b  tissue: control (normal thyroid)   \n",
       "2                  tumor size: 9                               NaN   \n",
       "3  multifocalization: 1-presence                               NaN   \n",
       "4       angioinvasion: 0-absence                               NaN   \n",
       "\n",
       "                         GSM5739412                    GSM5739413  ...  \\\n",
       "0            disease state: Control           disease state: PTMC  ...   \n",
       "1  tissue: control (normal thyroid)      tnm staging system: pT1a  ...   \n",
       "2                               NaN                 tumor size: 9  ...   \n",
       "3                               NaN  multifocalization: 0-absence  ...   \n",
       "4                               NaN      angioinvasion: 0-absence  ...   \n",
       "\n",
       "                         GSM5739506                        GSM5739507  \\\n",
       "0            disease state: Control            disease state: Control   \n",
       "1  tissue: control (normal thyroid)  tissue: control (normal thyroid)   \n",
       "2                               NaN                               NaN   \n",
       "3                               NaN                               NaN   \n",
       "4                               NaN                               NaN   \n",
       "\n",
       "                     GSM5739508                        GSM5739509  \\\n",
       "0            disease state: PTC            disease state: Control   \n",
       "1      tnm staging system: pT1a  tissue: control (normal thyroid)   \n",
       "2                tumor size: 10                               NaN   \n",
       "3  multifocalization: 0-absence                               NaN   \n",
       "4      angioinvasion: 0-absence                               NaN   \n",
       "\n",
       "                     GSM5739510                         GSM5739511  \\\n",
       "0            disease state: PTC                 disease state: PTC   \n",
       "1      tnm staging system: pT1a           tnm staging system: pT1a   \n",
       "2                 tumor size: 9                      tumor size: 9   \n",
       "3  multifocalization: 0-absence  lymph node metastasis: 1-presence   \n",
       "4      angioinvasion: 0-absence                        tissue: PTC   \n",
       "\n",
       "                      GSM5739512                        GSM5739513  \\\n",
       "0             disease state: PTC            disease state: Control   \n",
       "1        tnm staging system: pT4  tissue: control (normal thyroid)   \n",
       "2                 tumor size: 25                               NaN   \n",
       "3  multifocalization: 1-presence                               NaN   \n",
       "4       angioinvasion: 0-absence                               NaN   \n",
       "\n",
       "                          GSM5739514                     GSM5739515  \n",
       "0                 disease state: PTC             disease state: PTC  \n",
       "1           tnm staging system: pT1b       tnm staging system: pT1b  \n",
       "2                     tumor size: 15                 tumor size: 15  \n",
       "3  lymph node metastasis: 1-presence  multifocalization: 1-presence  \n",
       "4                        tissue: PTC      angioinvasion: 1-presence  \n",
       "\n",
       "[5 rows x 112 columns]"
      ]
     },
     "execution_count": 177,
     "metadata": {},
     "output_type": "execute_result"
    }
   ],
   "source": [
    "clinical_data.head()"
   ]
  },
  {
   "cell_type": "code",
   "execution_count": 187,
   "metadata": {
    "ExecuteTime": {
     "end_time": "2023-12-31T21:19:35.508015426Z",
     "start_time": "2023-12-31T21:19:35.492746637Z"
    }
   },
   "outputs": [
    {
     "data": {
      "text/plain": [
       "{0: ['disease state: PTC',\n",
       "  'disease state: Control',\n",
       "  'disease state: FTC',\n",
       "  'disease state: PTMC'],\n",
       " 1: ['tnm staging system: pT1m',\n",
       "  'tnm staging system: pT2b',\n",
       "  'tissue: control (normal thyroid)',\n",
       "  'tnm staging system: pT1b',\n",
       "  'tnm staging system: pT1a',\n",
       "  'tnm staging system: no data',\n",
       "  'tnm staging system: pT4',\n",
       "  'tnm staging system: pT1',\n",
       "  'tnm staging system: pT2',\n",
       "  'tnm staging system: pT2a',\n",
       "  'tnm staging system: pT3'],\n",
       " 2: ['tumor size: 7',\n",
       "  'tumor size: 14',\n",
       "  nan,\n",
       "  'tumor size: 5',\n",
       "  'tumor size: 9',\n",
       "  'tumor size: no data',\n",
       "  'tumor size: 8',\n",
       "  'tumor size: 10',\n",
       "  'tumor size: 45',\n",
       "  'tumor size: 3',\n",
       "  'tumor size: 11',\n",
       "  'tumor size: 20',\n",
       "  'tumor size: 15',\n",
       "  'tumor size: 6',\n",
       "  'tumor size: 19',\n",
       "  'tumor size: 1',\n",
       "  'tumor size: 30',\n",
       "  'tumor size: 13',\n",
       "  'tumor size: 18',\n",
       "  'tumor size: 25'],\n",
       " 3: ['multifocalization: 1-presence',\n",
       "  nan,\n",
       "  'multifocalization: 0-absence',\n",
       "  'multifocalization: no data',\n",
       "  'lymph node metastasis: 1-presence'],\n",
       " 4: ['angioinvasion: 1-presence',\n",
       "  nan,\n",
       "  'angioinvasion: 0-absence',\n",
       "  'angioinvasion: no data',\n",
       "  'tissue: PTC'],\n",
       " 5: ['lymph node metastasis: 0-absence',\n",
       "  nan,\n",
       "  'lymph node metastasis: 1-presence'],\n",
       " 6: ['tissue: PTC', nan, 'tissue: FTC', 'tissue: PTMC']}"
      ]
     },
     "execution_count": 187,
     "metadata": {},
     "output_type": "execute_result"
    }
   ],
   "source": [
    "clinical_data_unique = get_unique_values_by_row(clinical_data)\n",
    "clinical_data_unique"
   ]
  },
  {
   "cell_type": "markdown",
   "metadata": {
    "ExecuteTime": {
     "end_time": "2023-12-31T03:58:04.978204446Z",
     "start_time": "2023-12-31T03:58:04.922270095Z"
    }
   },
   "source": [
    "Analyze the metadata to determine data relevance and find ways to extract the clinical data.\n",
    "Reference prompt:"
   ]
  },
  {
   "cell_type": "code",
   "execution_count": 188,
   "metadata": {
    "ExecuteTime": {
     "end_time": "2023-12-31T21:19:35.508232400Z",
     "start_time": "2023-12-31T21:19:35.492903487Z"
    }
   },
   "outputs": [
    {
     "data": {
      "text/plain": [
       "'As a biomedical research team, we are selecting datasets to study the association between the human trait \\'Thyroid Cancer\\' and genetic factors, optionally considering the influence of age and gender. After searching the GEO database and parsing the matrix file of a series, we obtained background information and sample characteristics data. We will provide textual information about the dataset background, and a Python dictionary storing a list of unique values for each field of the sample characteristics data. Please carefully review the provided information and answer the following questions about this dataset:\\n1. Does this dataset contain gene expression data? (Note: Pure miRNA data is not suitable.)\\n2. For each of the traits \\'Thyroid Cancer\\', \\'age\\', and \\'gender\\', please address these points:\\n   (1) Is there human data available for this trait?\\n   (2) If so, identify the key in the sample characteristics dictionary where unique values of this trait is recorded. The key is an integer. The trait information might be explicitly recorded, or can be inferred from the field with some biomedical knowledge or understanding about the data collection process.\\n   (3) Choose an appropriate data type (either \\'continuous\\' or \\'binary\\') for each trait. Write a Python function to convert any given value of the trait to this data type. The function should handle inference about the trait value and convert unknown values to None.\\n   Name the functions \\'convert_trait\\', \\'convert_age\\', and \\'convert_gender\\', respectively.\\n   NOTE: Function \"convert_trait\" should return 1 or 0.\\n   \\nBackground information about the dataset:\\n!Series_title\\t\"miRNA Expression Pattern in Papillary Thyroid Cancer\"\\n!Series_summary\\t\"The aim of this study was to conduct a comparison of tissue miRNA in thyroid cancer (papillary (PTC), follicular (FTC), and microcancer (PTMC)) and  healthy thyroid tissue (Control). The expression level of 798 miRNAs using NanoString technology was examined. ROC curve analysis, and logistic regression modeling were performed. Gene ontology (GO), canonical pathways analysis were used to explore the biological functions of the miRNA target genes.\"\\n!Series_summary\\t\"The study revealed that 10 miRNAs were deregulated in samples of patients with PTC. Pathway analysis showed that miRNA target genes were mainly significantly enriched in endocrine resistance, EGFR tyrosine kinase inhibitor resistance, and pathways in cancer. ROC analysis demonstrated that miR-146-5p, miR-551b-3p, and miR-222-3p can be introduced as a diagnostic tool for PTC (AUC=0.770; 0.740; 0.720; respectively). Validation by qRT-PCR confirmed our findings. The results suggest that tissue miRNAs can potentially be used as predictive biomarkers of PTC in patients.\"\\n!Series_overall_design\\t\"A total of 111 FFFPE samples were included in the study. miRNA profile in 49 PTCs, 7 FTCs, 5 PTMCs and matched 50 normal thyroid samples was analyzed.\"\\n\\nSample characteristics dictionary (from \"!Sample_characteristics_ch1\", converted to a Python dictionary that stores the unique values for each field):\\n{0: [\\'disease state: PTC\\', \\'disease state: Control\\', \\'disease state: FTC\\', \\'disease state: PTMC\\'], 1: [\\'tnm staging system: pT1m\\', \\'tnm staging system: pT2b\\', \\'tissue: control (normal thyroid)\\', \\'tnm staging system: pT1b\\', \\'tnm staging system: pT1a\\', \\'tnm staging system: no data\\', \\'tnm staging system: pT4\\', \\'tnm staging system: pT1\\', \\'tnm staging system: pT2\\', \\'tnm staging system: pT2a\\', \\'tnm staging system: pT3\\'], 2: [\\'tumor size: 7\\', \\'tumor size: 14\\', nan, \\'tumor size: 5\\', \\'tumor size: 9\\', \\'tumor size: no data\\', \\'tumor size: 8\\', \\'tumor size: 10\\', \\'tumor size: 45\\', \\'tumor size: 3\\', \\'tumor size: 11\\', \\'tumor size: 20\\', \\'tumor size: 15\\', \\'tumor size: 6\\', \\'tumor size: 19\\', \\'tumor size: 1\\', \\'tumor size: 30\\', \\'tumor size: 13\\', \\'tumor size: 18\\', \\'tumor size: 25\\'], 3: [\\'multifocalization: 1-presence\\', nan, \\'multifocalization: 0-absence\\', \\'multifocalization: no data\\', \\'lymph node metastasis: 1-presence\\'], 4: [\\'angioinvasion: 1-presence\\', nan, \\'angioinvasion: 0-absence\\', \\'angioinvasion: no data\\', \\'tissue: PTC\\'], 5: [\\'lymph node metastasis: 0-absence\\', nan, \\'lymph node metastasis: 1-presence\\'], 6: [\\'tissue: PTC\\', nan, \\'tissue: FTC\\', \\'tissue: PTMC\\']}\\n'"
      ]
     },
     "execution_count": 188,
     "metadata": {},
     "output_type": "execute_result"
    }
   ],
   "source": [
    "f'''As a biomedical research team, we are selecting datasets to study the association between the human trait \\'{TRAIT}\\' and genetic factors, optionally considering the influence of age and gender. After searching the GEO database and parsing the matrix file of a series, we obtained background information and sample characteristics data. We will provide textual information about the dataset background, and a Python dictionary storing a list of unique values for each field of the sample characteristics data. Please carefully review the provided information and answer the following questions about this dataset:\n",
    "1. Does this dataset contain gene expression data? (Note: Pure miRNA data is not suitable.)\n",
    "2. For each of the traits \\'{TRAIT}\\', 'age', and 'gender', please address these points:\n",
    "   (1) Is there human data available for this trait?\n",
    "   (2) If so, identify the key in the sample characteristics dictionary where unique values of this trait is recorded. The key is an integer. The trait information might be explicitly recorded, or can be inferred from the field with some biomedical knowledge or understanding about the data collection process.\n",
    "   (3) Choose an appropriate data type (either 'continuous' or 'binary') for each trait. Write a Python function to convert any given value of the trait to this data type. The function should handle inference about the trait value and convert unknown values to None.\n",
    "   Name the functions 'convert_trait', 'convert_age', and 'convert_gender', respectively.\n",
    "   NOTE: Function \"convert_trait\" should return 1 or 0.\n",
    "   \n",
    "Background information about the dataset:\n",
    "{background_info}\n",
    "\n",
    "Sample characteristics dictionary (from \"!Sample_characteristics_ch1\", converted to a Python dictionary that stores the unique values for each field):\n",
    "{clinical_data_unique}\n",
    "'''"
   ]
  },
  {
   "cell_type": "markdown",
   "metadata": {
    "ExecuteTime": {
     "end_time": "2023-12-31T03:58:04.978240504Z",
     "start_time": "2023-12-31T03:58:04.922365324Z"
    }
   },
   "source": [
    "Understand and verify the answer from GPT, to assign values to the below variables. Assign None to the 'row_id' variables if relevant data row was not found.\n",
    "Later we need to let GPT format its answer to automatically do these. But given the complexity of this step, let's grow some insight from the free-text answers for now."
   ]
  },
  {
   "cell_type": "code",
   "execution_count": 180,
   "metadata": {},
   "outputs": [],
   "source": [
    "age_row = gender_row = None\n",
    "convert_age = convert_gender = None"
   ]
  },
  {
   "cell_type": "code",
   "execution_count": 183,
   "metadata": {
    "ExecuteTime": {
     "end_time": "2023-12-31T21:19:35.508295660Z",
     "start_time": "2023-12-31T21:19:35.493015671Z"
    }
   },
   "outputs": [],
   "source": [
    "is_gene_availabe = True\n",
    "trait_row = 0\n",
    "age_row = None\n",
    "gender_row = None\n",
    "\n",
    "trait_type = 'binary'"
   ]
  },
  {
   "cell_type": "code",
   "execution_count": 184,
   "metadata": {
    "ExecuteTime": {
     "end_time": "2023-12-31T21:19:35.508365153Z",
     "start_time": "2023-12-31T21:19:35.493151450Z"
    }
   },
   "outputs": [],
   "source": [
    "is_available = is_gene_availabe and (trait_row is not None)\n",
    "if not is_available:\n",
    "    save_cohort_info(cohort, JSON_PATH, is_available)\n",
    "    print(\"This cohort is not usable. Please skip the following steps and jump to the next accession number.\")"
   ]
  },
  {
   "cell_type": "code",
   "execution_count": 189,
   "metadata": {
    "ExecuteTime": {
     "end_time": "2023-12-31T21:19:35.508426069Z",
     "start_time": "2023-12-31T21:19:35.493220101Z"
    }
   },
   "outputs": [],
   "source": [
    "def convert_trait(value):\n",
    "    if 'Control' in value:\n",
    "        return 0  # presence of thyroid cancer\n",
    "    else:\n",
    "        return 1  # absence of thyroid cancer\n",
    "\n",
    "def convert_age(value):\n",
    "    if value.startswith('age: '):\n",
    "        return int(value.split(': ')[1])\n",
    "    else:\n",
    "        return None\n",
    "\n",
    "def convert_gender(value):\n",
    "    if value == 'Sex: M':\n",
    "        return 0\n",
    "    elif value == 'Sex: F':\n",
    "        return 1\n",
    "    else:\n",
    "        return None"
   ]
  },
  {
   "cell_type": "code",
   "execution_count": 190,
   "metadata": {
    "ExecuteTime": {
     "end_time": "2023-12-31T21:19:35.508533013Z",
     "start_time": "2023-12-31T21:19:35.493272992Z"
    }
   },
   "outputs": [
    {
     "data": {
      "text/html": [
       "<div>\n",
       "<style scoped>\n",
       "    .dataframe tbody tr th:only-of-type {\n",
       "        vertical-align: middle;\n",
       "    }\n",
       "\n",
       "    .dataframe tbody tr th {\n",
       "        vertical-align: top;\n",
       "    }\n",
       "\n",
       "    .dataframe thead th {\n",
       "        text-align: right;\n",
       "    }\n",
       "</style>\n",
       "<table border=\"1\" class=\"dataframe\">\n",
       "  <thead>\n",
       "    <tr style=\"text-align: right;\">\n",
       "      <th></th>\n",
       "      <th>GSM5739405</th>\n",
       "      <th>GSM5739406</th>\n",
       "      <th>GSM5739407</th>\n",
       "      <th>GSM5739408</th>\n",
       "      <th>GSM5739409</th>\n",
       "      <th>GSM5739410</th>\n",
       "      <th>GSM5739411</th>\n",
       "      <th>GSM5739412</th>\n",
       "      <th>GSM5739413</th>\n",
       "      <th>GSM5739414</th>\n",
       "      <th>...</th>\n",
       "      <th>GSM5739506</th>\n",
       "      <th>GSM5739507</th>\n",
       "      <th>GSM5739508</th>\n",
       "      <th>GSM5739509</th>\n",
       "      <th>GSM5739510</th>\n",
       "      <th>GSM5739511</th>\n",
       "      <th>GSM5739512</th>\n",
       "      <th>GSM5739513</th>\n",
       "      <th>GSM5739514</th>\n",
       "      <th>GSM5739515</th>\n",
       "    </tr>\n",
       "  </thead>\n",
       "  <tbody>\n",
       "    <tr>\n",
       "      <th>Thyroid Cancer</th>\n",
       "      <td>1</td>\n",
       "      <td>1</td>\n",
       "      <td>0</td>\n",
       "      <td>1</td>\n",
       "      <td>0</td>\n",
       "      <td>1</td>\n",
       "      <td>0</td>\n",
       "      <td>0</td>\n",
       "      <td>1</td>\n",
       "      <td>0</td>\n",
       "      <td>...</td>\n",
       "      <td>0</td>\n",
       "      <td>0</td>\n",
       "      <td>1</td>\n",
       "      <td>0</td>\n",
       "      <td>1</td>\n",
       "      <td>1</td>\n",
       "      <td>1</td>\n",
       "      <td>0</td>\n",
       "      <td>1</td>\n",
       "      <td>1</td>\n",
       "    </tr>\n",
       "  </tbody>\n",
       "</table>\n",
       "<p>1 rows × 111 columns</p>\n",
       "</div>"
      ],
      "text/plain": [
       "                GSM5739405  GSM5739406  GSM5739407  GSM5739408  GSM5739409  \\\n",
       "Thyroid Cancer           1           1           0           1           0   \n",
       "\n",
       "                GSM5739410  GSM5739411  GSM5739412  GSM5739413  GSM5739414  \\\n",
       "Thyroid Cancer           1           0           0           1           0   \n",
       "\n",
       "                ...  GSM5739506  GSM5739507  GSM5739508  GSM5739509  \\\n",
       "Thyroid Cancer  ...           0           0           1           0   \n",
       "\n",
       "                GSM5739510  GSM5739511  GSM5739512  GSM5739513  GSM5739514  \\\n",
       "Thyroid Cancer           1           1           1           0           1   \n",
       "\n",
       "                GSM5739515  \n",
       "Thyroid Cancer           1  \n",
       "\n",
       "[1 rows x 111 columns]"
      ]
     },
     "execution_count": 190,
     "metadata": {},
     "output_type": "execute_result"
    }
   ],
   "source": [
    "selected_clinical_data = geo_select_clinical_features(clinical_data, TRAIT, trait_row, convert_trait, age_row=age_row,\n",
    "                                                      convert_age=convert_age, gender_row=gender_row,\n",
    "                                                      convert_gender=convert_gender)\n",
    "selected_clinical_data.head()"
   ]
  },
  {
   "cell_type": "markdown",
   "metadata": {
    "ExecuteTime": {
     "end_time": "2023-12-31T03:58:04.978664193Z",
     "start_time": "2023-12-31T03:58:04.966117261Z"
    }
   },
   "source": [
    "### Genetic data preprocessing and final filtering"
   ]
  },
  {
   "cell_type": "code",
   "execution_count": 191,
   "metadata": {
    "ExecuteTime": {
     "end_time": "2023-12-31T21:19:35.590261560Z",
     "start_time": "2023-12-31T21:19:35.493320362Z"
    }
   },
   "outputs": [
    {
     "data": {
      "text/html": [
       "<div>\n",
       "<style scoped>\n",
       "    .dataframe tbody tr th:only-of-type {\n",
       "        vertical-align: middle;\n",
       "    }\n",
       "\n",
       "    .dataframe tbody tr th {\n",
       "        vertical-align: top;\n",
       "    }\n",
       "\n",
       "    .dataframe thead th {\n",
       "        text-align: right;\n",
       "    }\n",
       "</style>\n",
       "<table border=\"1\" class=\"dataframe\">\n",
       "  <thead>\n",
       "    <tr style=\"text-align: right;\">\n",
       "      <th></th>\n",
       "      <th>GSM5739405</th>\n",
       "      <th>GSM5739406</th>\n",
       "      <th>GSM5739407</th>\n",
       "      <th>GSM5739408</th>\n",
       "      <th>GSM5739409</th>\n",
       "      <th>GSM5739410</th>\n",
       "      <th>GSM5739411</th>\n",
       "      <th>GSM5739412</th>\n",
       "      <th>GSM5739413</th>\n",
       "      <th>GSM5739414</th>\n",
       "      <th>...</th>\n",
       "      <th>GSM5739506</th>\n",
       "      <th>GSM5739507</th>\n",
       "      <th>GSM5739508</th>\n",
       "      <th>GSM5739509</th>\n",
       "      <th>GSM5739510</th>\n",
       "      <th>GSM5739511</th>\n",
       "      <th>GSM5739512</th>\n",
       "      <th>GSM5739513</th>\n",
       "      <th>GSM5739514</th>\n",
       "      <th>GSM5739515</th>\n",
       "    </tr>\n",
       "    <tr>\n",
       "      <th>ID</th>\n",
       "      <th></th>\n",
       "      <th></th>\n",
       "      <th></th>\n",
       "      <th></th>\n",
       "      <th></th>\n",
       "      <th></th>\n",
       "      <th></th>\n",
       "      <th></th>\n",
       "      <th></th>\n",
       "      <th></th>\n",
       "      <th></th>\n",
       "      <th></th>\n",
       "      <th></th>\n",
       "      <th></th>\n",
       "      <th></th>\n",
       "      <th></th>\n",
       "      <th></th>\n",
       "      <th></th>\n",
       "      <th></th>\n",
       "      <th></th>\n",
       "      <th></th>\n",
       "    </tr>\n",
       "  </thead>\n",
       "  <tbody>\n",
       "    <tr>\n",
       "      <th>ACTB</th>\n",
       "      <td>20.000</td>\n",
       "      <td>481.473</td>\n",
       "      <td>20.000</td>\n",
       "      <td>1073.345</td>\n",
       "      <td>1990.023</td>\n",
       "      <td>846.540</td>\n",
       "      <td>110.106</td>\n",
       "      <td>20.000</td>\n",
       "      <td>97.238</td>\n",
       "      <td>20.000</td>\n",
       "      <td>...</td>\n",
       "      <td>3988.621</td>\n",
       "      <td>101.708</td>\n",
       "      <td>1101.062</td>\n",
       "      <td>5062.791</td>\n",
       "      <td>1318.050</td>\n",
       "      <td>142.817</td>\n",
       "      <td>97.150</td>\n",
       "      <td>46.242</td>\n",
       "      <td>224.837</td>\n",
       "      <td>800.849</td>\n",
       "    </tr>\n",
       "    <tr>\n",
       "      <th>ath-miR159a</th>\n",
       "      <td>20.000</td>\n",
       "      <td>24.440</td>\n",
       "      <td>827.367</td>\n",
       "      <td>29.172</td>\n",
       "      <td>22.061</td>\n",
       "      <td>33.254</td>\n",
       "      <td>36.523</td>\n",
       "      <td>249.451</td>\n",
       "      <td>106.725</td>\n",
       "      <td>338.793</td>\n",
       "      <td>...</td>\n",
       "      <td>20.000</td>\n",
       "      <td>56.207</td>\n",
       "      <td>20.000</td>\n",
       "      <td>20.000</td>\n",
       "      <td>20.000</td>\n",
       "      <td>132.616</td>\n",
       "      <td>20.000</td>\n",
       "      <td>20.000</td>\n",
       "      <td>20.000</td>\n",
       "      <td>20.000</td>\n",
       "    </tr>\n",
       "    <tr>\n",
       "      <th>B2M</th>\n",
       "      <td>618.571</td>\n",
       "      <td>2777.633</td>\n",
       "      <td>20.000</td>\n",
       "      <td>1589.395</td>\n",
       "      <td>6467.738</td>\n",
       "      <td>1408.050</td>\n",
       "      <td>1684.896</td>\n",
       "      <td>583.942</td>\n",
       "      <td>939.181</td>\n",
       "      <td>20.000</td>\n",
       "      <td>...</td>\n",
       "      <td>13520.488</td>\n",
       "      <td>248.917</td>\n",
       "      <td>5882.497</td>\n",
       "      <td>13687.668</td>\n",
       "      <td>3828.977</td>\n",
       "      <td>469.255</td>\n",
       "      <td>4242.232</td>\n",
       "      <td>249.706</td>\n",
       "      <td>2144.604</td>\n",
       "      <td>4225.565</td>\n",
       "    </tr>\n",
       "    <tr>\n",
       "      <th>cel-miR-248</th>\n",
       "      <td>20.000</td>\n",
       "      <td>20.000</td>\n",
       "      <td>20.000</td>\n",
       "      <td>20.000</td>\n",
       "      <td>20.000</td>\n",
       "      <td>20.000</td>\n",
       "      <td>20.000</td>\n",
       "      <td>20.000</td>\n",
       "      <td>20.000</td>\n",
       "      <td>20.000</td>\n",
       "      <td>...</td>\n",
       "      <td>20.000</td>\n",
       "      <td>20.000</td>\n",
       "      <td>20.000</td>\n",
       "      <td>20.000</td>\n",
       "      <td>20.000</td>\n",
       "      <td>20.000</td>\n",
       "      <td>20.000</td>\n",
       "      <td>20.000</td>\n",
       "      <td>20.000</td>\n",
       "      <td>20.000</td>\n",
       "    </tr>\n",
       "    <tr>\n",
       "      <th>cel-miR-254</th>\n",
       "      <td>1858696.125</td>\n",
       "      <td>107737.461</td>\n",
       "      <td>3510915.000</td>\n",
       "      <td>87826.172</td>\n",
       "      <td>41849.531</td>\n",
       "      <td>62179.359</td>\n",
       "      <td>37410.375</td>\n",
       "      <td>493986.875</td>\n",
       "      <td>176805.484</td>\n",
       "      <td>964194.438</td>\n",
       "      <td>...</td>\n",
       "      <td>112463.328</td>\n",
       "      <td>558705.250</td>\n",
       "      <td>199338.953</td>\n",
       "      <td>200832.938</td>\n",
       "      <td>141009.797</td>\n",
       "      <td>982222.688</td>\n",
       "      <td>362681.719</td>\n",
       "      <td>140227.531</td>\n",
       "      <td>41983.695</td>\n",
       "      <td>34797.746</td>\n",
       "    </tr>\n",
       "  </tbody>\n",
       "</table>\n",
       "<p>5 rows × 111 columns</p>\n",
       "</div>"
      ],
      "text/plain": [
       "              GSM5739405  GSM5739406   GSM5739407  GSM5739408  GSM5739409  \\\n",
       "ID                                                                          \n",
       "ACTB              20.000     481.473       20.000    1073.345    1990.023   \n",
       "ath-miR159a       20.000      24.440      827.367      29.172      22.061   \n",
       "B2M              618.571    2777.633       20.000    1589.395    6467.738   \n",
       "cel-miR-248       20.000      20.000       20.000      20.000      20.000   \n",
       "cel-miR-254  1858696.125  107737.461  3510915.000   87826.172   41849.531   \n",
       "\n",
       "             GSM5739410  GSM5739411  GSM5739412  GSM5739413  GSM5739414  ...  \\\n",
       "ID                                                                       ...   \n",
       "ACTB            846.540     110.106      20.000      97.238      20.000  ...   \n",
       "ath-miR159a      33.254      36.523     249.451     106.725     338.793  ...   \n",
       "B2M            1408.050    1684.896     583.942     939.181      20.000  ...   \n",
       "cel-miR-248      20.000      20.000      20.000      20.000      20.000  ...   \n",
       "cel-miR-254   62179.359   37410.375  493986.875  176805.484  964194.438  ...   \n",
       "\n",
       "             GSM5739506  GSM5739507  GSM5739508  GSM5739509  GSM5739510  \\\n",
       "ID                                                                        \n",
       "ACTB           3988.621     101.708    1101.062    5062.791    1318.050   \n",
       "ath-miR159a      20.000      56.207      20.000      20.000      20.000   \n",
       "B2M           13520.488     248.917    5882.497   13687.668    3828.977   \n",
       "cel-miR-248      20.000      20.000      20.000      20.000      20.000   \n",
       "cel-miR-254  112463.328  558705.250  199338.953  200832.938  141009.797   \n",
       "\n",
       "             GSM5739511  GSM5739512  GSM5739513  GSM5739514  GSM5739515  \n",
       "ID                                                                       \n",
       "ACTB            142.817      97.150      46.242     224.837     800.849  \n",
       "ath-miR159a     132.616      20.000      20.000      20.000      20.000  \n",
       "B2M             469.255    4242.232     249.706    2144.604    4225.565  \n",
       "cel-miR-248      20.000      20.000      20.000      20.000      20.000  \n",
       "cel-miR-254  982222.688  362681.719  140227.531   41983.695   34797.746  \n",
       "\n",
       "[5 rows x 111 columns]"
      ]
     },
     "execution_count": 191,
     "metadata": {},
     "output_type": "execute_result"
    }
   ],
   "source": [
    "genetic_data = get_genetic_data(matrix_file)\n",
    "genetic_data.head()"
   ]
  },
  {
   "cell_type": "code",
   "execution_count": 192,
   "metadata": {
    "ExecuteTime": {
     "end_time": "2023-12-31T21:19:35.590443507Z",
     "start_time": "2023-12-31T21:19:35.536713559Z"
    }
   },
   "outputs": [
    {
     "data": {
      "text/plain": [
       "['ACTB',\n",
       " 'ath-miR159a',\n",
       " 'B2M',\n",
       " 'cel-miR-248',\n",
       " 'cel-miR-254',\n",
       " 'GAPDH',\n",
       " 'hsa-let-7a-5p',\n",
       " 'hsa-let-7b-5p',\n",
       " 'hsa-let-7c-5p',\n",
       " 'hsa-let-7d-5p',\n",
       " 'hsa-let-7e-5p',\n",
       " 'hsa-let-7f-5p',\n",
       " 'hsa-let-7g-5p',\n",
       " 'hsa-let-7i-5p',\n",
       " 'hsa-miR-1-3p',\n",
       " 'hsa-miR-1-5p',\n",
       " 'hsa-miR-100-5p',\n",
       " 'hsa-miR-101-3p',\n",
       " 'hsa-miR-103a-3p',\n",
       " 'hsa-miR-105-5p']"
      ]
     },
     "execution_count": 192,
     "metadata": {},
     "output_type": "execute_result"
    }
   ],
   "source": [
    "gene_row_ids = genetic_data.index[:20].tolist()\n",
    "gene_row_ids"
   ]
  },
  {
   "cell_type": "markdown",
   "metadata": {
    "ExecuteTime": {
     "end_time": "2023-12-31T03:30:41.595335164Z",
     "start_time": "2023-12-31T03:30:41.513232329Z"
    }
   },
   "source": [
    "Check if the gene dataset requires mapping to get the gene symbols corresponding to each data row."
   ]
  },
  {
   "cell_type": "markdown",
   "metadata": {},
   "source": [
    "Reference prompt:"
   ]
  },
  {
   "cell_type": "code",
   "execution_count": 193,
   "metadata": {
    "ExecuteTime": {
     "end_time": "2023-12-31T21:19:35.590590427Z",
     "start_time": "2023-12-31T21:19:35.536780517Z"
    }
   },
   "outputs": [
    {
     "data": {
      "text/plain": [
       "\"\\nBelow are the row headers of a gene expression dataset in GEO. Based on your biomedical knowledge, are they human gene symbols, or are they some other identifiers that need to be mapped to gene symbols? Your answer should be concluded by starting a new line and strictly following this format:\\nrequires_gene_mapping = (True or False)\\n\\nRow headers:\\n['ACTB', 'ath-miR159a', 'B2M', 'cel-miR-248', 'cel-miR-254', 'GAPDH', 'hsa-let-7a-5p', 'hsa-let-7b-5p', 'hsa-let-7c-5p', 'hsa-let-7d-5p', 'hsa-let-7e-5p', 'hsa-let-7f-5p', 'hsa-let-7g-5p', 'hsa-let-7i-5p', 'hsa-miR-1-3p', 'hsa-miR-1-5p', 'hsa-miR-100-5p', 'hsa-miR-101-3p', 'hsa-miR-103a-3p', 'hsa-miR-105-5p']\\n\""
      ]
     },
     "execution_count": 193,
     "metadata": {},
     "output_type": "execute_result"
    }
   ],
   "source": [
    "f'''\n",
    "Below are the row headers of a gene expression dataset in GEO. Based on your biomedical knowledge, are they human gene symbols, or are they some other identifiers that need to be mapped to gene symbols? Your answer should be concluded by starting a new line and strictly following this format:\n",
    "requires_gene_mapping = (True or False)\n",
    "\n",
    "Row headers:\n",
    "{gene_row_ids}\n",
    "'''"
   ]
  },
  {
   "cell_type": "markdown",
   "metadata": {},
   "source": [
    "If not required, jump directly to the gene normalization step"
   ]
  },
  {
   "cell_type": "code",
   "execution_count": 194,
   "metadata": {
    "ExecuteTime": {
     "end_time": "2023-12-31T21:19:35.590648558Z",
     "start_time": "2023-12-31T21:19:35.536821375Z"
    }
   },
   "outputs": [],
   "source": [
    "requires_gene_mapping = True"
   ]
  },
  {
   "cell_type": "code",
   "execution_count": 195,
   "metadata": {
    "ExecuteTime": {
     "end_time": "2023-12-31T21:19:35.590695457Z",
     "start_time": "2023-12-31T21:19:35.536910836Z"
    }
   },
   "outputs": [
    {
     "name": "stdout",
     "output_type": "stream",
     "text": [
      "{'ID': ['hsa-let-7a-5p', 'hsa-let-7b-5p', 'hsa-let-7c-5p', 'hsa-let-7d-5p', 'hsa-let-7e-5p'], 'miRNA_ID_LIST': ['hsa-let-7a-5p', 'hsa-let-7b-5p', 'hsa-let-7c-5p', 'hsa-let-7d-5p', 'hsa-let-7e-5p'], 'Accession': ['MIMAT0000062', 'MIMAT0000063', 'MIMAT0000064', 'MIMAT0000065', 'MIMAT0000066'], 'Code Class': ['Endogenous', 'Endogenous', 'Endogenous', 'Endogenous', 'Endogenous'], 'SPOT_ID': [nan, nan, nan, nan, nan]}\n"
     ]
    }
   ],
   "source": [
    "if requires_gene_mapping:\n",
    "    gene_annotation = get_gene_annotation(soft_file)\n",
    "    gene_annotation_summary = preview_df(gene_annotation)\n",
    "    print(gene_annotation_summary)"
   ]
  },
  {
   "cell_type": "markdown",
   "metadata": {
    "ExecuteTime": {
     "end_time": "2023-12-31T03:58:04.978931927Z",
     "start_time": "2023-12-31T03:58:04.966328339Z"
    }
   },
   "source": [
    "Observe the first few cells in the ID column of the gene annotation dataframe, to find the names of columns that store the gene probe IDs and gene symbols respectively.\n",
    "Reference prompt:"
   ]
  },
  {
   "cell_type": "code",
   "execution_count": 136,
   "metadata": {
    "ExecuteTime": {
     "end_time": "2023-12-31T21:19:35.590742236Z",
     "start_time": "2023-12-31T21:19:35.537050893Z"
    }
   },
   "outputs": [
    {
     "data": {
      "text/plain": [
       "\"\\nAs a biomedical research team, we extracted the gene annotation data from a series in the GEO database, and saved it to a Python dictionary. Please read the dictionary, and decide which key stores the ID of the probe, and which key stores the gene symbols. Please strict follow this format in your answer:\\nprobe_name_key = key_name1\\ngene_name_key = key_name2\\n\\nGene annotation dictionary:\\n{'ID': ['1', '2', '3', '4', '5'], 'COL': ['192', '192', '192', '192', '192'], 'ROW': [328.0, 326.0, 324.0, 322.0, 320.0], 'SPOT_ID': ['miRNABrightCorner30', 'Blank', 'Blank', 'Blank', 'Blank'], 'CONTROL_TYPE': ['pos', 'pos', 'pos', 'pos', 'pos'], 'miRNA_ID': [nan, nan, nan, nan, nan], 'GENE_SYMBOL': [nan, nan, nan, nan, nan], 'GENE_NAME': [nan, nan, nan, nan, nan], 'ACCESSION_STRING': [nan, nan, nan, nan, nan], 'CHROMOSOMAL_LOCATION': [nan, nan, nan, nan, nan]}\\n\""
      ]
     },
     "execution_count": 136,
     "metadata": {},
     "output_type": "execute_result"
    }
   ],
   "source": [
    "# if requires_gene_mapping:\n",
    "f'''\n",
    "As a biomedical research team, we extracted the gene annotation data from a series in the GEO database, and saved it to a Python dictionary. Please read the dictionary, and decide which key stores the ID of the probe, and which key stores the gene symbols. Please strict follow this format in your answer:\n",
    "probe_name_key = key_name1\n",
    "gene_name_key = key_name2\n",
    "\n",
    "Gene annotation dictionary:\n",
    "{gene_annotation_summary}\n",
    "'''"
   ]
  },
  {
   "cell_type": "code",
   "execution_count": 138,
   "metadata": {
    "ExecuteTime": {
     "end_time": "2023-12-31T21:19:35.590786881Z",
     "start_time": "2023-12-31T21:19:35.537132859Z"
    }
   },
   "outputs": [],
   "source": [
    "if requires_gene_mapping:\n",
    "    probe_id_key = 'ID'\n",
    "    gene_symb_key = 'GENE_NAME'\n",
    "    gene_mapping = get_gene_mapping(gene_annotation, probe_id_key, gene_symb_key)\n",
    "    genetic_data = apply_gene_mapping(genetic_data, gene_mapping)"
   ]
  },
  {
   "cell_type": "code",
   "execution_count": 196,
   "metadata": {
    "ExecuteTime": {
     "end_time": "2023-12-31T21:19:35.590837318Z",
     "start_time": "2023-12-31T21:19:35.537209586Z"
    }
   },
   "outputs": [
    {
     "name": "stderr",
     "output_type": "stream",
     "text": [
      "822 input query terms found no hit:\t['ath-miR159a', 'cel-miR-248', 'cel-miR-254', 'hsa-let-7a-5p', 'hsa-let-7b-5p', 'hsa-let-7c-5p', 'hs\n"
     ]
    }
   ],
   "source": [
    "if NORMALIZE_GENE:\n",
    "    genetic_data = normalize_gene_symbols_in_index(genetic_data)"
   ]
  },
  {
   "cell_type": "code",
   "execution_count": 197,
   "metadata": {
    "ExecuteTime": {
     "end_time": "2023-12-31T21:19:35.590902191Z",
     "start_time": "2023-12-31T21:19:35.537285901Z"
    }
   },
   "outputs": [],
   "source": [
    "merged_data = geo_merge_clinical_genetic_data(selected_clinical_data, genetic_data)\n",
    "# The preprocessing runs through, which means is_available should be True\n",
    "is_available = True"
   ]
  },
  {
   "cell_type": "code",
   "execution_count": 198,
   "metadata": {
    "ExecuteTime": {
     "end_time": "2023-12-31T21:19:35.591095170Z",
     "start_time": "2023-12-31T21:19:35.538708445Z"
    }
   },
   "outputs": [
    {
     "name": "stdout",
     "output_type": "stream",
     "text": [
      "The merged dataset contains 111 samples.\n"
     ]
    }
   ],
   "source": [
    "print(f\"The merged dataset contains {len(merged_data)} samples.\")"
   ]
  },
  {
   "cell_type": "code",
   "execution_count": 199,
   "metadata": {
    "ExecuteTime": {
     "end_time": "2023-12-31T21:19:35.610849182Z",
     "start_time": "2023-12-31T21:19:35.541210258Z"
    }
   },
   "outputs": [
    {
     "name": "stdout",
     "output_type": "stream",
     "text": [
      "For the feature 'Thyroid Cancer', the least common label is '0.0' with 50 occurrences. This represents 45.05% of the dataset.\n",
      "The distribution of the feature 'Thyroid Cancer' in this dataset is fine.\n",
      "\n"
     ]
    },
    {
     "data": {
      "text/plain": [
       "False"
      ]
     },
     "execution_count": 199,
     "metadata": {},
     "output_type": "execute_result"
    }
   ],
   "source": [
    "is_trait_biased, merged_data = judge_and_remove_biased_features(merged_data, TRAIT, trait_type=trait_type)\n",
    "is_trait_biased"
   ]
  },
  {
   "cell_type": "code",
   "execution_count": 200,
   "metadata": {
    "ExecuteTime": {
     "end_time": "2023-12-31T21:19:35.610923234Z",
     "start_time": "2023-12-31T21:19:35.584848473Z"
    }
   },
   "outputs": [],
   "source": [
    "save_cohort_info(cohort, JSON_PATH, is_available, is_trait_biased, merged_data)"
   ]
  },
  {
   "cell_type": "code",
   "execution_count": 201,
   "metadata": {
    "ExecuteTime": {
     "end_time": "2023-12-31T21:19:35.610970734Z",
     "start_time": "2023-12-31T21:19:35.585042694Z"
    }
   },
   "outputs": [],
   "source": [
    "merged_data.head()\n",
    "if not is_trait_biased:\n",
    "    merged_data.to_csv(os.path.join(OUTPUT_DIR, cohort+'.csv'), index=False)"
   ]
  },
  {
   "cell_type": "markdown",
   "metadata": {
    "ExecuteTime": {
     "end_time": "2023-12-31T03:58:22.271683755Z",
     "start_time": "2023-12-31T03:58:22.246557674Z"
    },
    "id": "-MTPhRGxJV7I"
   },
   "source": [
    "### 3. Do regression & Cross Validation"
   ]
  },
  {
   "cell_type": "code",
   "execution_count": 4,
   "metadata": {
    "ExecuteTime": {
     "end_time": "2023-12-31T21:19:44.459442087Z",
     "start_time": "2023-12-31T21:19:44.416219648Z"
    }
   },
   "outputs": [
    {
     "data": {
      "text/html": [
       "<div>\n",
       "<style scoped>\n",
       "    .dataframe tbody tr th:only-of-type {\n",
       "        vertical-align: middle;\n",
       "    }\n",
       "\n",
       "    .dataframe tbody tr th {\n",
       "        vertical-align: top;\n",
       "    }\n",
       "\n",
       "    .dataframe thead th {\n",
       "        text-align: right;\n",
       "    }\n",
       "</style>\n",
       "<table border=\"1\" class=\"dataframe\">\n",
       "  <thead>\n",
       "    <tr style=\"text-align: right;\">\n",
       "      <th></th>\n",
       "      <th>cohort_id</th>\n",
       "      <th>is_usable</th>\n",
       "      <th>is_available</th>\n",
       "      <th>is_biased</th>\n",
       "      <th>has_age</th>\n",
       "      <th>has_gender</th>\n",
       "      <th>sample_size</th>\n",
       "      <th>note</th>\n",
       "    </tr>\n",
       "  </thead>\n",
       "  <tbody>\n",
       "    <tr>\n",
       "      <th>0</th>\n",
       "      <td>Xena</td>\n",
       "      <td>True</td>\n",
       "      <td>True</td>\n",
       "      <td>False</td>\n",
       "      <td>True</td>\n",
       "      <td>True</td>\n",
       "      <td>572</td>\n",
       "      <td></td>\n",
       "    </tr>\n",
       "    <tr>\n",
       "      <th>1</th>\n",
       "      <td>GSE191117</td>\n",
       "      <td>True</td>\n",
       "      <td>True</td>\n",
       "      <td>False</td>\n",
       "      <td>False</td>\n",
       "      <td>False</td>\n",
       "      <td>111</td>\n",
       "      <td></td>\n",
       "    </tr>\n",
       "    <tr>\n",
       "      <th>3</th>\n",
       "      <td>GSE151179</td>\n",
       "      <td>True</td>\n",
       "      <td>True</td>\n",
       "      <td>False</td>\n",
       "      <td>False</td>\n",
       "      <td>False</td>\n",
       "      <td>52</td>\n",
       "      <td></td>\n",
       "    </tr>\n",
       "    <tr>\n",
       "      <th>7</th>\n",
       "      <td>GSE151181</td>\n",
       "      <td>True</td>\n",
       "      <td>True</td>\n",
       "      <td>False</td>\n",
       "      <td>False</td>\n",
       "      <td>False</td>\n",
       "      <td>51</td>\n",
       "      <td></td>\n",
       "    </tr>\n",
       "    <tr>\n",
       "      <th>8</th>\n",
       "      <td>GSE151180</td>\n",
       "      <td>True</td>\n",
       "      <td>True</td>\n",
       "      <td>False</td>\n",
       "      <td>False</td>\n",
       "      <td>False</td>\n",
       "      <td>46</td>\n",
       "      <td></td>\n",
       "    </tr>\n",
       "    <tr>\n",
       "      <th>2</th>\n",
       "      <td>GSE104005</td>\n",
       "      <td>True</td>\n",
       "      <td>True</td>\n",
       "      <td>False</td>\n",
       "      <td>True</td>\n",
       "      <td>True</td>\n",
       "      <td>34</td>\n",
       "      <td></td>\n",
       "    </tr>\n",
       "    <tr>\n",
       "      <th>4</th>\n",
       "      <td>GSE103996</td>\n",
       "      <td>True</td>\n",
       "      <td>True</td>\n",
       "      <td>False</td>\n",
       "      <td>True</td>\n",
       "      <td>True</td>\n",
       "      <td>34</td>\n",
       "      <td></td>\n",
       "    </tr>\n",
       "    <tr>\n",
       "      <th>6</th>\n",
       "      <td>GSE104006</td>\n",
       "      <td>True</td>\n",
       "      <td>True</td>\n",
       "      <td>False</td>\n",
       "      <td>True</td>\n",
       "      <td>True</td>\n",
       "      <td>34</td>\n",
       "      <td></td>\n",
       "    </tr>\n",
       "  </tbody>\n",
       "</table>\n",
       "</div>"
      ],
      "text/plain": [
       "   cohort_id  is_usable  is_available  is_biased  has_age  has_gender  \\\n",
       "0       Xena       True          True      False     True        True   \n",
       "1  GSE191117       True          True      False    False       False   \n",
       "3  GSE151179       True          True      False    False       False   \n",
       "7  GSE151181       True          True      False    False       False   \n",
       "8  GSE151180       True          True      False    False       False   \n",
       "2  GSE104005       True          True      False     True        True   \n",
       "4  GSE103996       True          True      False     True        True   \n",
       "6  GSE104006       True          True      False     True        True   \n",
       "\n",
       "   sample_size note  \n",
       "0          572       \n",
       "1          111       \n",
       "3           52       \n",
       "7           51       \n",
       "8           46       \n",
       "2           34       \n",
       "4           34       \n",
       "6           34       "
      ]
     },
     "execution_count": 4,
     "metadata": {},
     "output_type": "execute_result"
    }
   ],
   "source": [
    "# Check the information of usable cohorts\n",
    "best_cohort, ranked_df = filter_and_rank_cohorts(JSON_PATH)\n",
    "ranked_df"
   ]
  },
  {
   "cell_type": "code",
   "execution_count": 5,
   "metadata": {
    "ExecuteTime": {
     "end_time": "2023-12-31T21:19:44.808945960Z",
     "start_time": "2023-12-31T21:19:44.799467072Z"
    }
   },
   "outputs": [
    {
     "data": {
      "text/plain": [
       "'Xena'"
      ]
     },
     "execution_count": 5,
     "metadata": {},
     "output_type": "execute_result"
    }
   ],
   "source": [
    "# If both age and gender have available cohorts, select 'age' as the condition.\n",
    "condition = 'Age'\n",
    "filter_column = 'has_' + condition.lower()\n",
    "\n",
    "condition_best_cohort, condition_ranked_df = filter_and_rank_cohorts(JSON_PATH, filter_column)\n",
    "condition_best_cohort"
   ]
  },
  {
   "cell_type": "code",
   "execution_count": 6,
   "metadata": {
    "ExecuteTime": {
     "end_time": "2023-12-31T21:19:52.222719978Z",
     "start_time": "2023-12-31T21:19:45.162873006Z"
    }
   },
   "outputs": [
    {
     "data": {
      "text/html": [
       "<div>\n",
       "<style scoped>\n",
       "    .dataframe tbody tr th:only-of-type {\n",
       "        vertical-align: middle;\n",
       "    }\n",
       "\n",
       "    .dataframe tbody tr th {\n",
       "        vertical-align: top;\n",
       "    }\n",
       "\n",
       "    .dataframe thead th {\n",
       "        text-align: right;\n",
       "    }\n",
       "</style>\n",
       "<table border=\"1\" class=\"dataframe\">\n",
       "  <thead>\n",
       "    <tr style=\"text-align: right;\">\n",
       "      <th></th>\n",
       "      <th>cohort_id</th>\n",
       "      <th>is_usable</th>\n",
       "      <th>is_available</th>\n",
       "      <th>is_biased</th>\n",
       "      <th>has_age</th>\n",
       "      <th>has_gender</th>\n",
       "      <th>sample_size</th>\n",
       "      <th>note</th>\n",
       "    </tr>\n",
       "  </thead>\n",
       "  <tbody>\n",
       "    <tr>\n",
       "      <th>0</th>\n",
       "      <td>Xena</td>\n",
       "      <td>True</td>\n",
       "      <td>True</td>\n",
       "      <td>False</td>\n",
       "      <td>True</td>\n",
       "      <td>True</td>\n",
       "      <td>572</td>\n",
       "      <td></td>\n",
       "    </tr>\n",
       "    <tr>\n",
       "      <th>2</th>\n",
       "      <td>GSE104005</td>\n",
       "      <td>True</td>\n",
       "      <td>True</td>\n",
       "      <td>False</td>\n",
       "      <td>True</td>\n",
       "      <td>True</td>\n",
       "      <td>34</td>\n",
       "      <td></td>\n",
       "    </tr>\n",
       "    <tr>\n",
       "      <th>4</th>\n",
       "      <td>GSE103996</td>\n",
       "      <td>True</td>\n",
       "      <td>True</td>\n",
       "      <td>False</td>\n",
       "      <td>True</td>\n",
       "      <td>True</td>\n",
       "      <td>34</td>\n",
       "      <td></td>\n",
       "    </tr>\n",
       "    <tr>\n",
       "      <th>6</th>\n",
       "      <td>GSE104006</td>\n",
       "      <td>True</td>\n",
       "      <td>True</td>\n",
       "      <td>False</td>\n",
       "      <td>True</td>\n",
       "      <td>True</td>\n",
       "      <td>34</td>\n",
       "      <td></td>\n",
       "    </tr>\n",
       "  </tbody>\n",
       "</table>\n",
       "</div>"
      ],
      "text/plain": [
       "   cohort_id  is_usable  is_available  is_biased  has_age  has_gender  \\\n",
       "0       Xena       True          True      False     True        True   \n",
       "2  GSE104005       True          True      False     True        True   \n",
       "4  GSE103996       True          True      False     True        True   \n",
       "6  GSE104006       True          True      False     True        True   \n",
       "\n",
       "   sample_size note  \n",
       "0          572       \n",
       "2           34       \n",
       "4           34       \n",
       "6           34       "
      ]
     },
     "execution_count": 6,
     "metadata": {},
     "output_type": "execute_result"
    }
   ],
   "source": [
    "condition_ranked_df.head()"
   ]
  },
  {
   "cell_type": "code",
   "execution_count": 7,
   "metadata": {
    "ExecuteTime": {
     "end_time": "2023-12-31T21:19:52.234945878Z",
     "start_time": "2023-12-31T21:19:52.231604618Z"
    }
   },
   "outputs": [
    {
     "data": {
      "text/html": [
       "<div>\n",
       "<style scoped>\n",
       "    .dataframe tbody tr th:only-of-type {\n",
       "        vertical-align: middle;\n",
       "    }\n",
       "\n",
       "    .dataframe tbody tr th {\n",
       "        vertical-align: top;\n",
       "    }\n",
       "\n",
       "    .dataframe thead th {\n",
       "        text-align: right;\n",
       "    }\n",
       "</style>\n",
       "<table border=\"1\" class=\"dataframe\">\n",
       "  <thead>\n",
       "    <tr style=\"text-align: right;\">\n",
       "      <th></th>\n",
       "      <th>Thyroid Cancer</th>\n",
       "      <th>Age</th>\n",
       "      <th>Gender</th>\n",
       "      <th>ARHGEF10L</th>\n",
       "      <th>HIF3A</th>\n",
       "      <th>RNF17</th>\n",
       "      <th>RNF10</th>\n",
       "      <th>RNF11</th>\n",
       "      <th>RNF13</th>\n",
       "      <th>GTF2IP1</th>\n",
       "      <th>...</th>\n",
       "      <th>SLC7A10</th>\n",
       "      <th>PLA2G2C</th>\n",
       "      <th>TULP2</th>\n",
       "      <th>NPY5R</th>\n",
       "      <th>GNGT2</th>\n",
       "      <th>GNGT1</th>\n",
       "      <th>TULP3</th>\n",
       "      <th>BCL6B</th>\n",
       "      <th>GSTK1</th>\n",
       "      <th>SELP</th>\n",
       "    </tr>\n",
       "  </thead>\n",
       "  <tbody>\n",
       "    <tr>\n",
       "      <th>0</th>\n",
       "      <td>1</td>\n",
       "      <td>74</td>\n",
       "      <td>0</td>\n",
       "      <td>-0.767592</td>\n",
       "      <td>-1.742926</td>\n",
       "      <td>-0.531035</td>\n",
       "      <td>-0.067972</td>\n",
       "      <td>0.265922</td>\n",
       "      <td>-0.13531</td>\n",
       "      <td>0.440006</td>\n",
       "      <td>...</td>\n",
       "      <td>-2.090786</td>\n",
       "      <td>-0.086682</td>\n",
       "      <td>-0.748878</td>\n",
       "      <td>-1.018517</td>\n",
       "      <td>0.205567</td>\n",
       "      <td>-1.28139</td>\n",
       "      <td>0.395523</td>\n",
       "      <td>0.945273</td>\n",
       "      <td>-0.186695</td>\n",
       "      <td>4.024767</td>\n",
       "    </tr>\n",
       "    <tr>\n",
       "      <th>1</th>\n",
       "      <td>1</td>\n",
       "      <td>65</td>\n",
       "      <td>1</td>\n",
       "      <td>1.766308</td>\n",
       "      <td>0.273374</td>\n",
       "      <td>-0.531035</td>\n",
       "      <td>0.790028</td>\n",
       "      <td>1.209322</td>\n",
       "      <td>0.01229</td>\n",
       "      <td>0.704606</td>\n",
       "      <td>...</td>\n",
       "      <td>0.503714</td>\n",
       "      <td>-0.086682</td>\n",
       "      <td>0.125322</td>\n",
       "      <td>1.568883</td>\n",
       "      <td>0.626367</td>\n",
       "      <td>2.38101</td>\n",
       "      <td>0.275823</td>\n",
       "      <td>2.140073</td>\n",
       "      <td>1.380405</td>\n",
       "      <td>1.257367</td>\n",
       "    </tr>\n",
       "    <tr>\n",
       "      <th>2</th>\n",
       "      <td>1</td>\n",
       "      <td>55</td>\n",
       "      <td>1</td>\n",
       "      <td>0.986808</td>\n",
       "      <td>-2.165726</td>\n",
       "      <td>-0.050935</td>\n",
       "      <td>0.051428</td>\n",
       "      <td>0.979522</td>\n",
       "      <td>0.48229</td>\n",
       "      <td>0.090106</td>\n",
       "      <td>...</td>\n",
       "      <td>-1.602586</td>\n",
       "      <td>-0.086682</td>\n",
       "      <td>-0.748878</td>\n",
       "      <td>-0.747417</td>\n",
       "      <td>-0.931133</td>\n",
       "      <td>-1.28139</td>\n",
       "      <td>-0.222077</td>\n",
       "      <td>0.725173</td>\n",
       "      <td>-0.254095</td>\n",
       "      <td>0.530667</td>\n",
       "    </tr>\n",
       "    <tr>\n",
       "      <th>3</th>\n",
       "      <td>1</td>\n",
       "      <td>57</td>\n",
       "      <td>1</td>\n",
       "      <td>0.767208</td>\n",
       "      <td>-1.623626</td>\n",
       "      <td>-0.531035</td>\n",
       "      <td>0.182228</td>\n",
       "      <td>0.541622</td>\n",
       "      <td>0.65889</td>\n",
       "      <td>0.647206</td>\n",
       "      <td>...</td>\n",
       "      <td>-1.516086</td>\n",
       "      <td>0.474118</td>\n",
       "      <td>-0.748878</td>\n",
       "      <td>-1.587117</td>\n",
       "      <td>-1.292433</td>\n",
       "      <td>-1.28139</td>\n",
       "      <td>-0.602177</td>\n",
       "      <td>0.894473</td>\n",
       "      <td>-0.380395</td>\n",
       "      <td>-2.502833</td>\n",
       "    </tr>\n",
       "    <tr>\n",
       "      <th>4</th>\n",
       "      <td>1</td>\n",
       "      <td>33</td>\n",
       "      <td>0</td>\n",
       "      <td>-0.287292</td>\n",
       "      <td>-1.766626</td>\n",
       "      <td>-0.531035</td>\n",
       "      <td>0.059628</td>\n",
       "      <td>0.920522</td>\n",
       "      <td>0.21849</td>\n",
       "      <td>0.336106</td>\n",
       "      <td>...</td>\n",
       "      <td>0.971714</td>\n",
       "      <td>-0.086682</td>\n",
       "      <td>-0.413778</td>\n",
       "      <td>1.111583</td>\n",
       "      <td>1.158867</td>\n",
       "      <td>-1.28139</td>\n",
       "      <td>0.003723</td>\n",
       "      <td>0.924373</td>\n",
       "      <td>-0.143495</td>\n",
       "      <td>2.613367</td>\n",
       "    </tr>\n",
       "  </tbody>\n",
       "</table>\n",
       "<p>5 rows × 17342 columns</p>\n",
       "</div>"
      ],
      "text/plain": [
       "   Thyroid Cancer  Age  Gender  ARHGEF10L     HIF3A     RNF17     RNF10  \\\n",
       "0               1   74       0  -0.767592 -1.742926 -0.531035 -0.067972   \n",
       "1               1   65       1   1.766308  0.273374 -0.531035  0.790028   \n",
       "2               1   55       1   0.986808 -2.165726 -0.050935  0.051428   \n",
       "3               1   57       1   0.767208 -1.623626 -0.531035  0.182228   \n",
       "4               1   33       0  -0.287292 -1.766626 -0.531035  0.059628   \n",
       "\n",
       "      RNF11    RNF13   GTF2IP1  ...   SLC7A10   PLA2G2C     TULP2     NPY5R  \\\n",
       "0  0.265922 -0.13531  0.440006  ... -2.090786 -0.086682 -0.748878 -1.018517   \n",
       "1  1.209322  0.01229  0.704606  ...  0.503714 -0.086682  0.125322  1.568883   \n",
       "2  0.979522  0.48229  0.090106  ... -1.602586 -0.086682 -0.748878 -0.747417   \n",
       "3  0.541622  0.65889  0.647206  ... -1.516086  0.474118 -0.748878 -1.587117   \n",
       "4  0.920522  0.21849  0.336106  ...  0.971714 -0.086682 -0.413778  1.111583   \n",
       "\n",
       "      GNGT2    GNGT1     TULP3     BCL6B     GSTK1      SELP  \n",
       "0  0.205567 -1.28139  0.395523  0.945273 -0.186695  4.024767  \n",
       "1  0.626367  2.38101  0.275823  2.140073  1.380405  1.257367  \n",
       "2 -0.931133 -1.28139 -0.222077  0.725173 -0.254095  0.530667  \n",
       "3 -1.292433 -1.28139 -0.602177  0.894473 -0.380395 -2.502833  \n",
       "4  1.158867 -1.28139  0.003723  0.924373 -0.143495  2.613367  \n",
       "\n",
       "[5 rows x 17342 columns]"
      ]
     },
     "execution_count": 7,
     "metadata": {},
     "output_type": "execute_result"
    }
   ],
   "source": [
    "merged_data = pd.read_csv(os.path.join(OUTPUT_DIR, condition_best_cohort + '.csv'))\n",
    "merged_data.head()"
   ]
  },
  {
   "cell_type": "code",
   "execution_count": 8,
   "metadata": {
    "ExecuteTime": {
     "end_time": "2023-12-31T21:19:52.312540150Z",
     "start_time": "2023-12-31T21:19:52.235772334Z"
    }
   },
   "outputs": [],
   "source": [
    "# Remove the other condition to prevent interference.\n",
    "merged_data = merged_data.drop(columns=['Gender'], errors='ignore').astype('float')\n",
    "\n",
    "X = merged_data.drop(columns=[TRAIT, condition]).values\n",
    "Y = merged_data[TRAIT].values\n",
    "Z = merged_data[condition].values"
   ]
  },
  {
   "cell_type": "markdown",
   "metadata": {},
   "source": [
    "Select the appropriate regression model depending on whether the dataset shows batch effect."
   ]
  },
  {
   "cell_type": "code",
   "execution_count": 9,
   "metadata": {
    "ExecuteTime": {
     "end_time": "2023-12-31T21:20:00.930840782Z",
     "start_time": "2023-12-31T21:19:52.319092572Z"
    }
   },
   "outputs": [
    {
     "data": {
      "text/plain": [
       "True"
      ]
     },
     "execution_count": 9,
     "metadata": {},
     "output_type": "execute_result"
    }
   ],
   "source": [
    "has_batch_effect = detect_batch_effect(X)\n",
    "has_batch_effect"
   ]
  },
  {
   "cell_type": "code",
   "execution_count": 10,
   "metadata": {
    "ExecuteTime": {
     "end_time": "2023-12-31T21:20:00.931029722Z",
     "start_time": "2023-12-31T21:20:00.929710828Z"
    }
   },
   "outputs": [],
   "source": [
    "# Select appropriate models based on whether the dataset has batch effect.\n",
    "# We experiment on two models for each branch. We will decide which one to choose later.\n",
    "\n",
    "if has_batch_effect:\n",
    "    model_constructor1 = VariableSelection\n",
    "    model_params1 = {'modified': True, 'lamda': 3e-4}\n",
    "    model_constructor2 = VariableSelection\n",
    "    model_params2 = {'modified': False}\n",
    "else:\n",
    "    model_constructor1 = Lasso\n",
    "    model_params1 = {'alpha': 1.0, 'random_state': 42}\n",
    "    model_constructor2 = VariableSelection\n",
    "    model_params2 = {'modified': False}"
   ]
  },
  {
   "cell_type": "code",
   "execution_count": 11,
   "metadata": {
    "ExecuteTime": {
     "end_time": "2023-12-31T21:20:20.709459824Z",
     "start_time": "2023-12-31T21:20:00.931657949Z"
    }
   },
   "outputs": [
    {
     "name": "stdout",
     "output_type": "stream",
     "text": [
      "alpha for Lasso: 0.0003\n",
      "alpha for Lasso: 0.0003\n",
      "alpha for Lasso: 0.0003\n",
      "alpha for Lasso: 0.0003\n",
      "alpha for Lasso: 0.0003\n",
      "The cross-validation accuracy is 51.05% ± 2.96%\n"
     ]
    }
   ],
   "source": [
    "trait_type = 'binary'  # Remember to set this properly, either 'binary' or 'continuous'\n",
    "cv_mean1, cv_std1 = cross_validation(X, Y, Z, model_constructor1, model_params1, target_type=trait_type)"
   ]
  },
  {
   "cell_type": "code",
   "execution_count": 12,
   "metadata": {
    "ExecuteTime": {
     "end_time": "2023-12-31T21:20:24.980870159Z",
     "start_time": "2023-12-31T21:20:20.516710807Z"
    }
   },
   "outputs": [
    {
     "name": "stderr",
     "output_type": "stream",
     "text": [
      "/Users/ollie/anaconda3/lib/python3.11/site-packages/sparse_lmm/helpingMethods.py:49: RuntimeWarning: invalid value encountered in divide\n",
      "  ts = beta / np.sqrt(var * sigma)\n",
      "/Users/ollie/anaconda3/lib/python3.11/site-packages/sparse_lmm/helpingMethods.py:49: RuntimeWarning: invalid value encountered in divide\n",
      "  ts = beta / np.sqrt(var * sigma)\n",
      "/Users/ollie/anaconda3/lib/python3.11/site-packages/sparse_lmm/helpingMethods.py:49: RuntimeWarning: invalid value encountered in divide\n",
      "  ts = beta / np.sqrt(var * sigma)\n",
      "/Users/ollie/anaconda3/lib/python3.11/site-packages/sparse_lmm/helpingMethods.py:49: RuntimeWarning: invalid value encountered in divide\n",
      "  ts = beta / np.sqrt(var * sigma)\n",
      "/Users/ollie/anaconda3/lib/python3.11/site-packages/sparse_lmm/helpingMethods.py:49: RuntimeWarning: invalid value encountered in divide\n",
      "  ts = beta / np.sqrt(var * sigma)\n"
     ]
    },
    {
     "name": "stdout",
     "output_type": "stream",
     "text": [
      "The cross-validation accuracy is 82.63% ± 3.06%\n"
     ]
    }
   ],
   "source": [
    "cv_mean2, cv_std2 = cross_validation(X, Y, Z, model_constructor2, model_params2, target_type=trait_type)"
   ]
  },
  {
   "cell_type": "code",
   "execution_count": 13,
   "metadata": {},
   "outputs": [
    {
     "name": "stdout",
     "output_type": "stream",
     "text": [
      "alpha for Lasso: 0.0003\n"
     ]
    },
    {
     "name": "stderr",
     "output_type": "stream",
     "text": [
      "/Users/ollie/anaconda3/lib/python3.11/site-packages/sparse_lmm/helpingMethods.py:49: RuntimeWarning: invalid value encountered in divide\n",
      "  ts = beta / np.sqrt(var * sigma)\n"
     ]
    }
   ],
   "source": [
    "normalized_X, _ = normalize_data(X)\n",
    "normalized_Z, _ = normalize_data(Z)\n",
    "\n",
    "# Train regression model on the whole dataset to identify significant genes\n",
    "model1 = ResidualizationRegressor(model_constructor1, model_params1)\n",
    "model1.fit(normalized_X, Y, normalized_Z)\n",
    "\n",
    "model2 = ResidualizationRegressor(model_constructor2, model_params2)\n",
    "model2.fit(normalized_X, Y, normalized_Z)"
   ]
  },
  {
   "cell_type": "markdown",
   "metadata": {
    "ExecuteTime": {
     "end_time": "2023-10-14T04:50:59.072075075Z",
     "start_time": "2023-10-14T04:50:38.739499998Z"
    },
    "id": "EjJrxbvb4nlj"
   },
   "source": [
    "### 4. Discussion and report"
   ]
  },
  {
   "cell_type": "code",
   "execution_count": 14,
   "metadata": {
    "ExecuteTime": {
     "end_time": "2023-12-31T21:20:25.000830410Z",
     "start_time": "2023-12-31T21:20:24.982834541Z"
    }
   },
   "outputs": [
    {
     "name": "stdout",
     "output_type": "stream",
     "text": [
      "Effect of the condition on the target variable:\n",
      "Variable: Age\n",
      "Coefficient: 0.0112\n",
      "Found 94 genes with non-zero coefficients associated with the trait 'Thyroid Cancer' conditional on the factor 'Age'. These genes are identified as significant based on the regression model.\n",
      "  Variable  Coefficient  Absolute Coefficient\n",
      "    SPATA1    -1.591095              1.591095\n",
      "      ODF4     1.276682              1.276682\n",
      "    BARHL2    -1.051818              1.051818\n",
      "   SULT1B1    -1.017430              1.017430\n",
      "   FAM153A     0.949215              0.949215\n",
      "   DCAF4L2     0.938226              0.938226\n",
      "      HBG2     0.869382              0.869382\n",
      "  FAM41AY1    -0.851217              0.851217\n",
      "    CT45A1     0.796943              0.796943\n",
      "  DEFB108B    -0.791760              0.791760\n",
      " RPL13AP17     0.768681              0.768681\n",
      "     OR4C3     0.736638              0.736638\n",
      "     UBL4B    -0.735610              0.735610\n",
      "    RNF151     0.731442              0.731442\n",
      "    UGT1A7     0.646855              0.646855\n",
      "    KCNA10     0.616164              0.616164\n",
      "      VHLL     0.591509              0.591509\n",
      "      ADH7     0.557762              0.557762\n",
      "      PSG2    -0.549573              0.549573\n",
      "     OLIG2    -0.549317              0.549317\n",
      "     KCNB2     0.533097              0.533097\n",
      "     OR2A2     0.521566              0.521566\n",
      "       PRL     0.517992              0.517992\n",
      "     OR2D2     0.496062              0.496062\n",
      "      ADH4    -0.484085              0.484085\n",
      "   LGALS9B    -0.475901              0.475901\n",
      "      DBX1     0.466255              0.466255\n",
      "      PAX4     0.465547              0.465547\n",
      "     TBX20     0.437449              0.437449\n",
      "  TMPRSS15     0.393413              0.393413\n",
      "  KIAA1210     0.387440              0.387440\n",
      "      GYPB    -0.384419              0.384419\n",
      "  KRTAP5-4    -0.379567              0.379567\n",
      "      NOX3     0.365992              0.365992\n",
      "    FAM27B     0.358672              0.358672\n",
      "       TAT    -0.354820              0.354820\n",
      "     OR2F1    -0.309776              0.309776\n",
      "      DAB1     0.308988              0.308988\n",
      "    FKSG29    -0.303971              0.303971\n",
      "     OR2T6     0.292791              0.292791\n",
      "   AADACL4    -0.269066              0.269066\n",
      "     NOMO2    -0.267010              0.267010\n",
      "      DRD2    -0.255865              0.255865\n",
      "    POU4F2     0.249998              0.249998\n",
      "     POTEA     0.235856              0.235856\n",
      "     OR2M3    -0.228271              0.228271\n",
      "   TMEM88B    -0.205377              0.205377\n",
      "    HCRTR2    -0.204541              0.204541\n",
      "     FANCB    -0.202537              0.202537\n",
      "    PRDM14     0.198219              0.198219\n",
      "     OTOP2     0.193726              0.193726\n",
      "    RPH3AL    -0.186876              0.186876\n",
      "     BHMT2     0.183445              0.183445\n",
      "    OR5H15    -0.177244              0.177244\n",
      "    POU3F3    -0.172287              0.172287\n",
      "     HOXD9     0.164925              0.164925\n",
      "     GSTT1    -0.152577              0.152577\n",
      "      LIPJ    -0.140197              0.140197\n",
      "  SLC22A14    -0.135787              0.135787\n",
      "   S100A12     0.133249              0.133249\n",
      "     TTC38     0.132269              0.132269\n",
      "       MAG    -0.130959              0.130959\n",
      "   NEUROG1     0.125025              0.125025\n",
      "   C5orf60    -0.122021              0.122021\n",
      "      LHX3     0.119985              0.119985\n",
      "     HSFX2    -0.112384              0.112384\n",
      "    HSD3B1     0.112320              0.112320\n",
      "    OPN1LW    -0.109598              0.109598\n",
      "   RIPPLY2    -0.103189              0.103189\n",
      "    TDRD12    -0.102329              0.102329\n",
      "    OR52N5     0.099705              0.099705\n",
      "  CXorf49B     0.096979              0.096979\n",
      "    OR10C1     0.095841              0.095841\n",
      "KRTAP10-11    -0.088448              0.088448\n",
      "   SNORA7B     0.085218              0.085218\n",
      "     OR1L4     0.080970              0.080970\n",
      " KRTAP15-1    -0.078191              0.078191\n",
      "    HOXD12    -0.072506              0.072506\n",
      "     TCF23     0.065325              0.065325\n",
      "  KRTAP6-3    -0.061466              0.061466\n",
      "     HTR3B     0.058288              0.058288\n",
      "  PRAMEF10    -0.057283              0.057283\n",
      "     C4BPB     0.051554              0.051554\n",
      "    OR5AK2     0.050925              0.050925\n",
      "      PKP3     0.050886              0.050886\n",
      "      IRX2    -0.040280              0.040280\n",
      "     MCHR2    -0.040033              0.040033\n",
      "   FOXD4L5     0.034321              0.034321\n",
      "     ERAP2     0.033100              0.033100\n",
      "    OR2M1P    -0.030723              0.030723\n",
      "   GOLGA6C     0.029551              0.029551\n",
      "     PYDC2     0.021838              0.021838\n",
      "     BMP10    -0.016914              0.016914\n",
      "     DDX43     0.001216              0.001216\n"
     ]
    },
    {
     "name": "stderr",
     "output_type": "stream",
     "text": [
      "/Users/ollie/Documents/JupyterProjects/AI4Science_gold_standard/stage1/Jinglin/utils.py:469: SettingWithCopyWarning: \n",
      "A value is trying to be set on a copy of a slice from a DataFrame.\n",
      "Try using .loc[row_indexer,col_indexer] = value instead\n",
      "\n",
      "See the caveats in the documentation: https://pandas.pydata.org/pandas-docs/stable/user_guide/indexing.html#returning-a-view-versus-a-copy\n",
      "  gene_regression_df['Absolute Coefficient'] = gene_regression_df['Coefficient'].abs()\n"
     ]
    }
   ],
   "source": [
    "feature_cols = merged_data.columns.tolist()\n",
    "feature_cols.remove(TRAIT)\n",
    "\n",
    "threshold = 0.05\n",
    "interpret_result(model1, feature_cols, TRAIT, condition, threshold=threshold, save_output=True,\n",
    "                 output_dir=OUTPUT_DIR, model_id=1)"
   ]
  },
  {
   "cell_type": "code",
   "execution_count": 15,
   "metadata": {},
   "outputs": [
    {
     "name": "stdout",
     "output_type": "stream",
     "text": [
      "Effect of the condition on the target variable:\n",
      "Variable: Age\n",
      "Coefficient: 0.0112\n",
      "Found 79 significant genes associated with the trait 'Thyroid Cancer' conditional on the factor 'Age', with corrected p-value < 0.05:\n",
      "   Variable  Coefficient      p_value  corrected_p_value\n",
      "     GABRB2     0.200481 1.324083e-27       2.295827e-23\n",
      "       LRP4     0.151621 1.103395e-14       9.565882e-11\n",
      "    SHROOM4     0.148440 1.732095e-12       1.001093e-08\n",
      "      HMGA2     0.121740 1.847765e-11       8.009598e-08\n",
      "       EPS8     0.148901 1.041999e-10       3.613444e-07\n",
      "    KLHDC8A     0.102289 2.549553e-10       7.367785e-07\n",
      "       LIPH     0.125905 3.460969e-10       8.572819e-07\n",
      "      MPZL2     0.123121 4.852839e-10       1.051792e-06\n",
      "      GABRD     0.084304 3.759076e-09       7.242070e-06\n",
      "       GJB3     0.102627 6.973397e-09       1.209117e-05\n",
      "      KCNQ3     0.133119 1.572177e-08       2.478179e-05\n",
      "        FN1     0.138885 4.020338e-08       5.809053e-05\n",
      "    ZCCHC12     0.089829 5.219035e-08       6.960988e-05\n",
      "      GRHL3     0.099488 6.368918e-08       7.887905e-05\n",
      "     ACTBL2     0.092031 1.221545e-07       1.412025e-04\n",
      "      SYT12     0.120309 4.753209e-07       4.847994e-04\n",
      "      CTXN1     0.104532 4.519792e-07       4.847994e-04\n",
      "       CSF2     0.085680 5.280387e-07       5.086479e-04\n",
      "     STK32A     0.074272 6.558278e-07       5.984947e-04\n",
      "     CDKN2B     0.064598 7.461635e-07       6.468865e-04\n",
      "       CPT2     0.074267 8.652932e-07       7.144438e-04\n",
      "      PLCD3     0.110426 1.112536e-06       8.768303e-04\n",
      "       CDH6     0.081765 1.562273e-06       1.177750e-03\n",
      "       IRX4    -0.035285 1.714771e-06       1.238850e-03\n",
      "       GLS2     0.078621 1.984926e-06       1.324530e-03\n",
      "   SNORA11E     0.034335 1.986146e-06       1.324530e-03\n",
      "      CDH13     0.059493 2.948079e-06       1.893213e-03\n",
      "    PLEKHN1     0.089199 3.095050e-06       1.916610e-03\n",
      "     GOLT1A     0.079859 3.315476e-06       1.982311e-03\n",
      "       GALE     0.115263 3.571833e-06       2.064401e-03\n",
      "     PHLDA3     0.081855 5.973621e-06       3.341181e-03\n",
      "     ADRA1B     0.053672 7.022066e-06       3.702905e-03\n",
      "       XKRX     0.064837 7.047458e-06       3.702905e-03\n",
      "     ACSM2B    -0.039618 7.891986e-06       4.024681e-03\n",
      "     ATPAF1     0.069688 8.541028e-06       4.231225e-03\n",
      "   SNORA71C     0.027562 1.142761e-05       5.463903e-03\n",
      "     ENTPD1     0.059690 1.165952e-05       5.463903e-03\n",
      "      DOCK9     0.109787 1.494575e-05       6.683224e-03\n",
      "     PTP4A3     0.071853 1.503234e-05       6.683224e-03\n",
      "    ADAMTS9     0.065670 1.626080e-05       7.048651e-03\n",
      "      ACER2     0.089618 1.697154e-05       7.177305e-03\n",
      "        INS    -0.030151 1.804895e-05       7.451208e-03\n",
      "    COL13A1     0.057371 1.885963e-05       7.604818e-03\n",
      "      PRR15     0.070756 2.255674e-05       8.888892e-03\n",
      "      SYTL5     0.065681 3.244394e-05       1.250101e-02\n",
      "SNORD116-20    -0.043405 4.146056e-05       1.562793e-02\n",
      "     GABRA2    -0.028246 4.425260e-05       1.632544e-02\n",
      "    PLEKHA6    -0.063022 4.778521e-05       1.726141e-02\n",
      "     ELOVL5    -0.056715 5.616712e-05       1.987514e-02\n",
      "       RXRG     0.069225 5.981895e-05       2.074402e-02\n",
      "      DUSP6     0.075812 6.215810e-05       2.088964e-02\n",
      "       NPC2     0.084925 6.264844e-05       2.088964e-02\n",
      "      CLDN1     0.078625 6.963302e-05       2.278051e-02\n",
      "      ACCSL    -0.021925 7.721925e-05       2.471351e-02\n",
      "    DENND2A    -0.047956 7.937987e-05       2.471351e-02\n",
      "      MYEF2     0.056973 7.981754e-05       2.471351e-02\n",
      "     ITGA10     0.044350 9.622203e-05       2.840669e-02\n",
      "       BBC3     0.061939 9.666039e-05       2.840669e-02\n",
      "       SDC4     0.101873 9.358493e-05       2.840669e-02\n",
      "     GALNT7     0.091453 1.181754e-04       3.304909e-02\n",
      "   SCARNA23     0.023536 1.163467e-04       3.304909e-02\n",
      "     TMEM92     0.057934 1.166307e-04       3.304909e-02\n",
      "       NGEF     0.061321 1.213054e-04       3.338595e-02\n",
      "     MAGEB6    -0.023755 1.331344e-04       3.606903e-02\n",
      "     RPS27L     0.053322 1.365159e-04       3.641615e-02\n",
      "       NOD1     0.102290 1.394876e-04       3.664510e-02\n",
      "      SLIT1     0.046365 1.439360e-04       3.724936e-02\n",
      "  TNFRSF10C     0.039509 1.462945e-04       3.730296e-02\n",
      "       ETV4     0.062104 1.486199e-04       3.734667e-02\n",
      "      OR6F1     0.023487 1.535698e-04       3.803925e-02\n",
      "     PLXND1     0.069152 1.609557e-04       3.930721e-02\n",
      "    TMEM215     0.049084 1.678964e-04       4.043271e-02\n",
      "     SLC9A5     0.057023 1.703413e-04       4.045957e-02\n",
      "    TFCP2L1     0.071802 1.929556e-04       4.474557e-02\n",
      "      EDA2R     0.044766 1.935473e-04       4.474557e-02\n",
      "    TMPRSS4     0.075001 1.991169e-04       4.521485e-02\n",
      "    SERINC2     0.063412 2.007926e-04       4.521485e-02\n",
      "    SLC6A15    -0.046164 2.095920e-04       4.659123e-02\n",
      "        CIT     0.035700 2.216705e-04       4.865246e-02\n"
     ]
    },
    {
     "name": "stderr",
     "output_type": "stream",
     "text": [
      "/Users/ollie/Documents/JupyterProjects/AI4Science_gold_standard/stage1/Jinglin/utils.py:478: SettingWithCopyWarning: \n",
      "A value is trying to be set on a copy of a slice from a DataFrame.\n",
      "Try using .loc[row_indexer,col_indexer] = value instead\n",
      "\n",
      "See the caveats in the documentation: https://pandas.pydata.org/pandas-docs/stable/user_guide/indexing.html#returning-a-view-versus-a-copy\n",
      "  gene_regression_df.loc[:, 'corrected_p_value'] = corrected_p_values\n"
     ]
    }
   ],
   "source": [
    "interpret_result(model2, feature_cols, TRAIT, condition, threshold=threshold, save_output=True,\n",
    "                 output_dir=OUTPUT_DIR, model_id=2)"
   ]
  },
  {
   "cell_type": "code",
   "execution_count": null,
   "metadata": {},
   "outputs": [],
   "source": []
  }
 ],
 "metadata": {
  "colab": {
   "provenance": []
  },
  "kernelspec": {
   "display_name": "Python 3 (ipykernel)",
   "language": "python",
   "name": "python3"
  },
  "language_info": {
   "codemirror_mode": {
    "name": "ipython",
    "version": 3
   },
   "file_extension": ".py",
   "mimetype": "text/x-python",
   "name": "python",
   "nbconvert_exporter": "python",
   "pygments_lexer": "ipython3",
   "version": "3.11.5"
  }
 },
 "nbformat": 4,
 "nbformat_minor": 1
}
