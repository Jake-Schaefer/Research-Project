{
 "cells": [
  {
   "cell_type": "markdown",
   "metadata": {},
   "source": [
    "# Gold standard curation: Preprocessing and single-step regression"
   ]
  },
  {
   "cell_type": "markdown",
   "metadata": {},
   "source": [
    "In this stage of gold standard curation, we will do the data preprocessing, selection, and single-step regression for the 153 traits in our question set. This file shows the reference steps using the trait \"Breast Cancer\" as an example. The workflow consists of the following steps:\n",
    "\n",
    "1. Preprocess all the cohorts related to this trait. Each cohort should be converted to a tabular form and saved to a csv file, with columns being genetic factors, the trait, and age, gender if available;\n",
    "2. If there exists at least one cohort with age or gender information, conduct regression analysis with genetic features together with age or gender as the regressors.\n"
   ]
  },
  {
   "cell_type": "markdown",
   "metadata": {},
   "source": [
    "# 1. Basic setup"
   ]
  },
  {
   "cell_type": "code",
   "execution_count": 17,
   "metadata": {
    "ExecuteTime": {
     "end_time": "2023-12-31T21:19:07.313098989Z",
     "start_time": "2023-12-31T21:19:07.312718292Z"
    }
   },
   "outputs": [],
   "source": [
    "import os\n",
    "\n",
    "# Set your preferred name\n",
    "USER = \"Jinglin\"\n",
    "# Set the data and output directories\n",
    "DATA_ROOT = '../../DATA'\n",
    "OUTPUT_ROOT = '../../output1'\n",
    "TRAIT = 'Testicular Cancer'\n",
    "\n",
    "OUTPUT_DIR = os.path.join(OUTPUT_ROOT, USER, '-'.join(TRAIT.split()))\n",
    "JSON_PATH = os.path.join(OUTPUT_DIR, \"cohort_info.json\")\n",
    "if not os.path.exists(OUTPUT_DIR):\n",
    "    os.makedirs(OUTPUT_DIR, exist_ok=True)\n",
    "\n",
    "# Gene symbol normalization may take 1-2 minutes. You may set it to False for debugging.\n",
    "# NORMALIZE_GENE = False\n",
    "NORMALIZE_GENE = True"
   ]
  },
  {
   "cell_type": "code",
   "execution_count": 2,
   "metadata": {
    "ExecuteTime": {
     "end_time": "2023-12-31T21:19:07.680659936Z",
     "start_time": "2023-12-31T21:19:07.666959145Z"
    },
    "colab": {
     "base_uri": "https://localhost:8080/"
    },
    "id": "jMTdsU43vVg3",
    "outputId": "38886111-f442-44b4-8398-96bf384d7abd"
   },
   "outputs": [
    {
     "data": {
      "text/plain": [
       "\"import os\\nfrom google.colab import drive\\n\\ndrive.mount('/content/drive', force_remount=True)\\nproj_dir = '/content/drive/MyDrive/AI4Science_Public'\\nos.chdir(proj_dir)\""
      ]
     },
     "execution_count": 2,
     "metadata": {},
     "output_type": "execute_result"
    }
   ],
   "source": [
    "# This cell is only for use on Google Colab. Skip it if you run your code in other environments\n",
    "\n",
    "\"\"\"import os\n",
    "from google.colab import drive\n",
    "\n",
    "drive.mount('/content/drive', force_remount=True)\n",
    "proj_dir = '/content/drive/MyDrive/AI4Science_Public'\n",
    "os.chdir(proj_dir)\"\"\""
   ]
  },
  {
   "cell_type": "markdown",
   "metadata": {},
   "source": [
    "# 2. Data preprocessing and selection"
   ]
  },
  {
   "cell_type": "markdown",
   "metadata": {},
   "source": [
    "## 2.1. The TCGA Xena dataset"
   ]
  },
  {
   "cell_type": "markdown",
   "metadata": {},
   "source": [
    "In TCGA Xena, there is either zero or one cohort related to the trait. We search the names of subdirectories to see if any matches the trait. If a match is found, we directly obtain the file paths."
   ]
  },
  {
   "cell_type": "code",
   "execution_count": 3,
   "metadata": {},
   "outputs": [
    {
     "data": {
      "text/plain": [
       "['TCGA_Pancreatic_Cancer_(PAAD)',\n",
       " 'TCGA_Bladder_Cancer_(BLCA)',\n",
       " '.DS_Store',\n",
       " 'TCGA_Testicular_Cancer_(TGCT)',\n",
       " 'TCGA_Acute_Myeloid_Leukemia_(LAML)',\n",
       " 'TCGA_Stomach_Cancer_(STAD)',\n",
       " 'TCGA_Thyroid_Cancer_(THCA)',\n",
       " 'TCGA_Glioblastoma_(GBM)']"
      ]
     },
     "execution_count": 3,
     "metadata": {},
     "output_type": "execute_result"
    }
   ],
   "source": [
    "import os\n",
    "from utils import *\n",
    "\n",
    "dataset = 'TCGA'\n",
    "dataset_dir = os.path.join(DATA_ROOT, dataset)\n",
    "os.listdir(dataset_dir)[:10]"
   ]
  },
  {
   "cell_type": "markdown",
   "metadata": {},
   "source": [
    "If no match is found, jump directly to GEO in Part 2.2"
   ]
  },
  {
   "cell_type": "code",
   "execution_count": 4,
   "metadata": {
    "ExecuteTime": {
     "end_time": "2023-12-31T21:19:09.918243934Z",
     "start_time": "2023-12-31T21:19:09.909021135Z"
    }
   },
   "outputs": [],
   "source": [
    "trait_subdir = \"TCGA_Testicular_Cancer_(TGCT)\"\n",
    "cohort = 'Xena'\n",
    "# All the cancer traits in Xena are binary\n",
    "trait_type = 'binary'\n",
    "# Once a relevant cohort is found in Xena, we can generally assume the gene and clinical data are available\n",
    "is_available = True\n",
    "\n",
    "clinical_data_file = os.path.join(dataset_dir, trait_subdir, 'TCGA.TGCT.sampleMap_TGCT_clinicalMatrix')\n",
    "genetic_data_file = os.path.join(dataset_dir, trait_subdir, 'TCGA.TGCT.sampleMap_HiSeqV2_PANCAN.gz')"
   ]
  },
  {
   "cell_type": "code",
   "execution_count": 5,
   "metadata": {
    "ExecuteTime": {
     "end_time": "2023-12-31T21:19:13.613198409Z",
     "start_time": "2023-12-31T21:19:10.409688003Z"
    },
    "id": "MudwB-_iz7sc"
   },
   "outputs": [],
   "source": [
    "import pandas as pd\n",
    "\n",
    "clinical_data = pd.read_csv(clinical_data_file, sep='\\t', index_col=0)\n",
    "genetic_data = pd.read_csv(genetic_data_file, compression='gzip', sep='\\t', index_col=0)\n",
    "age_col = gender_col = None"
   ]
  },
  {
   "cell_type": "code",
   "execution_count": 6,
   "metadata": {
    "ExecuteTime": {
     "end_time": "2023-12-31T21:19:13.617006167Z",
     "start_time": "2023-12-31T21:19:13.614080653Z"
    }
   },
   "outputs": [],
   "source": [
    "_, clinical_data_cols = check_rows_and_columns(clinical_data)"
   ]
  },
  {
   "cell_type": "code",
   "execution_count": 7,
   "metadata": {
    "ExecuteTime": {
     "end_time": "2023-12-31T21:19:13.661538569Z",
     "start_time": "2023-12-31T21:19:13.615946213Z"
    }
   },
   "outputs": [
    {
     "data": {
      "text/plain": [
       "['_INTEGRATION',\n",
       " '_PATIENT',\n",
       " '_cohort',\n",
       " '_primary_disease',\n",
       " '_primary_site',\n",
       " 'age_at_initial_pathologic_diagnosis',\n",
       " 'bcr_followup_barcode',\n",
       " 'bcr_patient_barcode',\n",
       " 'bcr_sample_barcode',\n",
       " 'bilateral_diagnosis_timing_type']"
      ]
     },
     "execution_count": 7,
     "metadata": {},
     "output_type": "execute_result"
    }
   ],
   "source": [
    "clinical_data_cols[:10]"
   ]
  },
  {
   "cell_type": "markdown",
   "metadata": {
    "ExecuteTime": {
     "end_time": "2023-12-28T20:20:11.841042813Z",
     "start_time": "2023-12-28T20:20:11.834458206Z"
    }
   },
   "source": [
    "Read all the column names in the clinical dataset, to find the columns that record information about age or gender.\n",
    "Reference prompt:"
   ]
  },
  {
   "cell_type": "code",
   "execution_count": 8,
   "metadata": {
    "ExecuteTime": {
     "end_time": "2023-12-31T21:19:13.661858700Z",
     "start_time": "2023-12-31T21:19:13.656749487Z"
    }
   },
   "outputs": [
    {
     "data": {
      "text/plain": [
       "\"\\nBelow is a list of column names from a biomedical dataset. Please examine it and identify the columns that are likely to contain information about patients' age. Additionally, please do the same for columns that may hold data on patients' gender. Please provide your answer by strictly following this format, without redundant words:\\ncandidate_age_cols = [col_name1, col_name2, ...]\\ncandidate_gender_cols = [col_name1, col_name2, ...]\\nIf no columns match a criterion, please provide an empty list.\\n\\nColumn names:\\n['_INTEGRATION', '_PATIENT', '_cohort', '_primary_disease', '_primary_site', 'age_at_initial_pathologic_diagnosis', 'bcr_followup_barcode', 'bcr_patient_barcode', 'bcr_sample_barcode', 'bilateral_diagnosis_timing_type', 'clinical_M', 'clinical_N', 'clinical_T', 'clinical_stage', 'days_to_bilateral_tumor_dx', 'days_to_birth', 'days_to_collection', 'days_to_death', 'days_to_initial_pathologic_diagnosis', 'days_to_last_followup', 'days_to_new_tumor_event_after_initial_treatment', 'days_to_post_orchi_serum_test', 'days_to_pre_orchi_serum_test', 'eastern_cancer_oncology_group', 'family_history_other_cancer', 'family_history_testicular_cancer', 'family_member_relationship_type', 'first_treatment_success', 'form_completion_date', 'gender', 'histological_percentage', 'histological_type', 'history_fertility', 'history_hypospadias', 'history_of_neoadjuvant_treatment', 'history_of_undescended_testis', 'icd_10', 'icd_o_3_histology', 'icd_o_3_site', 'igcccg_stage', 'informed_consent_verified', 'init_pathology_dx_method_other', 'initial_pathologic_diagnosis_method', 'initial_weight', 'intratubular_germ_cell_neoplasm', 'is_ffpe', 'karnofsky_performance_score', 'laterality', 'level_of_non_descent', 'lost_follow_up', 'lymphovascular_invasion_present', 'molecular_test_result', 'new_neoplasm_event_occurrence_anatomic_site', 'new_neoplasm_event_type', 'new_neoplasm_occurrence_anatomic_site_text', 'new_tumor_event_after_initial_treatment', 'oct_embedded', 'other_dx', 'pathologic_M', 'pathologic_N', 'pathologic_T', 'pathologic_stage', 'pathology_report_file_name', 'patient_death_reason', 'patient_id', 'person_neoplasm_cancer_status', 'post_orchi_afp', 'post_orchi_hcg', 'post_orchi_ldh', 'post_orchi_lh', 'post_orchi_lymph_node_dissection', 'post_orchi_testosterone', 'postoperative_rx_tx', 'postoperative_tx', 'pre_orchi_afp', 'pre_orchi_hcg', 'pre_orchi_ldh', 'pre_orchi_lh', 'pre_orchi_testosterone', 'primary_therapy_outcome_success', 'radiation_therapy', 'relation_testicular_cancer', 'relative_family_cancer_hx_text', 'sample_type', 'sample_type_id', 'serum_markers', 'source_of_patient_death_reason', 'synchronous_tumor_histology_pct', 'synchronous_tumor_histology_type', 'system_version', 'testis_tumor_macroextent', 'testis_tumor_macroextent_other', 'testis_tumor_microextent', 'tissue_prospective_collection_indicator', 'tissue_retrospective_collection_indicator', 'tissue_source_site', 'tumor_tissue_site', 'undescended_testis_corrected', 'undescended_testis_corrected_age', 'undescended_testis_method_left', 'undescended_testis_method_right', 'vial_number', 'vital_status', 'year_of_initial_pathologic_diagnosis', '_GENOMIC_ID_TCGA_TGCT_PDMRNAseqCNV', '_GENOMIC_ID_TCGA_TGCT_exp_HiSeqV2_exon', '_GENOMIC_ID_TCGA_TGCT_mutation_ucsc_maf_gene', '_GENOMIC_ID_TCGA_TGCT_exp_HiSeqV2', '_GENOMIC_ID_TCGA_TGCT_exp_HiSeqV2_PANCAN', '_GENOMIC_ID_TCGA_TGCT_hMethyl450', '_GENOMIC_ID_TCGA_TGCT_gistic2', '_GENOMIC_ID_data/public/TCGA/TGCT/miRNA_HiSeq_gene', '_GENOMIC_ID_TCGA_TGCT_gistic2thd', '_GENOMIC_ID_TCGA_TGCT_mutation_bcm_gene', '_GENOMIC_ID_TCGA_TGCT_miRNA_HiSeq', '_GENOMIC_ID_TCGA_TGCT_mutation_broad_gene', '_GENOMIC_ID_TCGA_TGCT_PDMRNAseq', '_GENOMIC_ID_TCGA_TGCT_RPPA', '_GENOMIC_ID_TCGA_TGCT_exp_HiSeqV2_percentile', '_GENOMIC_ID_TCGA_TGCT_mutation_bcgsc_gene']\\n\""
      ]
     },
     "execution_count": 8,
     "metadata": {},
     "output_type": "execute_result"
    }
   ],
   "source": [
    "f'''\n",
    "Below is a list of column names from a biomedical dataset. Please examine it and identify the columns that are likely to contain information about patients' age. Additionally, please do the same for columns that may hold data on patients' gender. Please provide your answer by strictly following this format, without redundant words:\n",
    "candidate_age_cols = [col_name1, col_name2, ...]\n",
    "candidate_gender_cols = [col_name1, col_name2, ...]\n",
    "If no columns match a criterion, please provide an empty list.\n",
    "\n",
    "Column names:\n",
    "{clinical_data_cols}\n",
    "'''"
   ]
  },
  {
   "cell_type": "code",
   "execution_count": 9,
   "metadata": {
    "ExecuteTime": {
     "end_time": "2023-12-31T21:19:13.661938833Z",
     "start_time": "2023-12-31T21:19:13.656901848Z"
    }
   },
   "outputs": [],
   "source": [
    "candidate_age_cols = ['age_at_initial_pathologic_diagnosis',\n",
    "                      'days_to_birth']\n",
    "candidate_gender_cols = ['gender']"
   ]
  },
  {
   "cell_type": "markdown",
   "metadata": {
    "ExecuteTime": {
     "end_time": "2023-12-31T03:57:44.207565572Z",
     "start_time": "2023-12-31T03:57:44.202177544Z"
    }
   },
   "source": [
    "Choose a single column from the candidate columns that record age and gender information respectively.\n",
    "If no column meets the requirement, keep 'age_col' or 'gender_col' to None"
   ]
  },
  {
   "cell_type": "code",
   "execution_count": 10,
   "metadata": {
    "ExecuteTime": {
     "end_time": "2023-12-31T21:19:13.662078139Z",
     "start_time": "2023-12-31T21:19:13.657006017Z"
    }
   },
   "outputs": [
    {
     "data": {
      "text/plain": [
       "{'age_at_initial_pathologic_diagnosis': [31.0, 38.0, 28.0, 30.0, 28.0],\n",
       " 'days_to_birth': [-11325.0, -13964.0, -10511.0, -10983.0, -10281.0]}"
      ]
     },
     "execution_count": 10,
     "metadata": {},
     "output_type": "execute_result"
    }
   ],
   "source": [
    "preview_df(clinical_data[candidate_age_cols])"
   ]
  },
  {
   "cell_type": "code",
   "execution_count": 11,
   "metadata": {
    "ExecuteTime": {
     "end_time": "2023-12-31T21:19:13.777159137Z",
     "start_time": "2023-12-31T21:19:13.756210135Z"
    }
   },
   "outputs": [],
   "source": [
    "age_col = 'age_at_initial_pathologic_diagnosis'"
   ]
  },
  {
   "cell_type": "code",
   "execution_count": 12,
   "metadata": {
    "ExecuteTime": {
     "end_time": "2023-12-31T21:19:14.313425023Z",
     "start_time": "2023-12-31T21:19:14.305221062Z"
    }
   },
   "outputs": [
    {
     "data": {
      "text/plain": [
       "{'gender': ['MALE', 'MALE', 'MALE', 'MALE', 'MALE']}"
      ]
     },
     "execution_count": 12,
     "metadata": {},
     "output_type": "execute_result"
    }
   ],
   "source": [
    "preview_df(clinical_data[candidate_gender_cols])"
   ]
  },
  {
   "cell_type": "code",
   "execution_count": 13,
   "metadata": {
    "ExecuteTime": {
     "end_time": "2023-12-31T21:19:14.852502962Z",
     "start_time": "2023-12-31T21:19:14.845153121Z"
    }
   },
   "outputs": [],
   "source": [
    "gender_col = 'gender'"
   ]
  },
  {
   "cell_type": "code",
   "execution_count": 14,
   "metadata": {
    "ExecuteTime": {
     "end_time": "2023-12-31T21:19:15.246065025Z",
     "start_time": "2023-12-31T21:19:15.240279162Z"
    }
   },
   "outputs": [],
   "source": [
    "selected_clinical_data = xena_select_clinical_features(clinical_data, TRAIT, age_col, gender_col)"
   ]
  },
  {
   "cell_type": "code",
   "execution_count": 18,
   "metadata": {
    "ExecuteTime": {
     "end_time": "2023-12-31T21:19:15.593478652Z",
     "start_time": "2023-12-31T21:19:15.583841656Z"
    }
   },
   "outputs": [
    {
     "name": "stderr",
     "output_type": "stream",
     "text": [
      "15 input query terms found dup hits:\t[('GTF2IP1', 2), ('RBMY1A3P', 3), ('HERC2P2', 3), ('WASH3P', 3), ('NUDT9P1', 2), ('SNORD104', 2), ('\n",
      "154 input query terms found no hit:\t['C16orf13', 'C16orf11', 'LOC100272146', 'LOC339240', 'NACAP1', 'LOC441204', 'KLRA1', 'FAM183A', 'FA\n",
      "9 input query terms found dup hits:\t[('SUGT1P1', 2), ('SNORD127', 2), ('SNORA62', 4), ('IFITM4P', 8), ('HLA-DRB6', 2), ('FUNDC2P2', 2), \n",
      "190 input query terms found no hit:\t['NARFL', 'NFKBIL2', 'LOC150197', 'TMEM84', 'LOC162632', 'PPPDE1', 'PPPDE2', 'C1orf38', 'C1orf31', '\n",
      "20 input query terms found dup hits:\t[('PIP5K1P1', 2), ('SNORA40', 2), ('SNORD116-24', 2), ('SNORD116-25', 2), ('SNORD116-23', 2), ('SNOR\n",
      "149 input query terms found no hit:\t['FAM153C', 'C9orf167', 'CLK2P', 'CCDC76', 'CCDC75', 'CCDC72', 'HIST3H2BB', 'PRAC', 'LOC285780', 'LO\n",
      "18 input query terms found dup hits:\t[('SNORD58C', 2), ('UOX', 2), ('UBE2Q2P1', 3), ('PPP4R1L', 2), ('SNORD63', 3), ('SNORD116-22', 2), (\n",
      "158 input query terms found no hit:\t['C16orf91', 'LOC100130581', 'SFRS2', 'C16orf5', 'C16orf7', 'C16orf3', 'C21orf7', 'C21orf2', 'LOC389\n",
      "19 input query terms found dup hits:\t[('FAM66D', 2), ('FAM66A', 2), ('THSD1P1', 2), ('MSLNL', 2), ('EEF1DP3', 2), ('PGM5P2', 2), ('UBE2MP\n",
      "169 input query terms found no hit:\t['LOC284551', 'LOC285548', 'LOC728410', 'LOC541473', 'DULLARD', 'KIAA0368', 'EFTUD1', 'TWISTNB', 'SF\n",
      "17 input query terms found dup hits:\t[('S100A7L2', 2), ('POM121L8P', 2), ('SNORD16', 2), ('MEG8', 2), ('RPL23P8', 2), ('KIR3DX1', 5), ('R\n",
      "165 input query terms found no hit:\t['TMEM188', 'PDZD3', 'FAM102B', 'FAM102A', 'SMCR7L', 'G6PC', 'OSTCL', 'LOC653544', 'LOC653545', 'USP\n",
      "20 input query terms found dup hits:\t[('SNORD50B', 2), ('PCNAP1', 2), ('SNORA63', 7), ('C5orf60', 2), ('CEACAM22P', 2), ('SNORA16A', 2), \n",
      "147 input query terms found no hit:\t['LRRC37A4', 'LOC100131726', 'CPSF3L', 'COL4A3BP', 'PAR1', 'LOC92973', 'MICALCL', 'SMCR7', 'HIST4H4'\n",
      "15 input query terms found dup hits:\t[('SDHAP3', 2), ('PSORS1C3', 8), ('POM121L10P', 2), ('HLA-J', 9), ('HLA-H', 9), ('HLA-L', 7), ('NME2\n",
      "153 input query terms found no hit:\t['LOC100131193', 'KIAA1109', 'DUS2L', 'MYST1', 'IGLL3', 'C12orf69', 'NEURL', 'FAM188B', 'FLJ32063', \n",
      "8 input query terms found dup hits:\t[('PLGLA', 2), ('PA2G4P4', 2), ('RPL23AP7', 2), ('ST20', 2), ('RPL23AP64', 3), ('DPY19L2P2', 3), ('F\n",
      "177 input query terms found no hit:\t['LOC283314', 'RBM9', 'C20orf118', 'LOC150786', 'C20orf112', 'C20orf111', 'C20orf117', 'C20orf114', \n",
      "19 input query terms found dup hits:\t[('TPTE2P1', 2), ('FOLH1B', 2), ('ID2B', 2), ('MSX2P1', 2), ('RAET1K', 2), ('BMS1P4', 2), ('RPL23AP8\n",
      "175 input query terms found no hit:\t['MYEOV2', 'FAM35B2', 'C20orf85', 'FAM175A', 'C17orf73', 'C17orf72', 'C17orf71', 'C17orf70', 'C17orf\n",
      "26 input query terms found dup hits:\t[('CATSPER2P1', 2), ('AQP7P3', 2), ('AQP7P1', 2), ('ATP8B5P', 2), ('OR7E91P', 2), ('ZNF204P', 2), ('\n",
      "144 input query terms found no hit:\t['BASE', 'C14orf21', 'C14orf23', 'FAM5B', 'TROVE2', 'C18orf62', 'LOC401052', 'GNB2L1', 'FAM19A4', 'F\n",
      "17 input query terms found dup hits:\t[('P2RX6P', 2), ('RP9P', 2), ('SNORD1A', 2), ('SNORD10', 2), ('SNORD19', 2), ('NRADDP', 2), ('AOX2P'\n",
      "169 input query terms found no hit:\t['TTC15', 'C4orf29', 'FAM48A', 'C4orf21', 'C3orf65', 'C4orf23', 'C3orf67', 'LOC144742', 'C3orf63', '\n",
      "17 input query terms found dup hits:\t[('SNORA58', 2), ('PMCHL1', 2), ('FAM95B1', 2), ('TMEM191A', 2), ('RPL13P5', 2), ('SBDSP1', 2), ('CY\n",
      "143 input query terms found no hit:\t['LOC254312', 'ZNF542', 'CSDAP1', 'FAM73A', 'FAM73B', 'TCTE3', 'ZNF37B', 'LOC728875', 'KIAA1826', 'P\n",
      "16 input query terms found dup hits:\t[('ZFP91-CNTF', 2), ('SNORD116-27', 2), ('GSTM2P1', 2), ('C3P1', 2), ('NCF1B', 2), ('SNORD114-4', 2)\n",
      "138 input query terms found no hit:\t['LOC100129716', 'C14orf184', 'C14orf181', 'C14orf183', 'C14orf182', 'C7orf26', 'C7orf27', 'C7orf23'\n",
      "14 input query terms found dup hits:\t[('ANXA2P1', 2), ('ANXA2P3', 2), ('ANXA2P2', 2), ('SNORD116-12', 2), ('ZNF286B', 2), ('SAA3P', 2), (\n",
      "132 input query terms found no hit:\t['AKR1CL1', 'CCDC21', 'CCDC23', 'TMEM111', 'APOB48R', 'LOC595101', 'KIAA1430', 'KIAA1432', 'ORC4L', \n",
      "15 input query terms found dup hits:\t[('TCP10L2', 2), ('CXADRP3', 2), ('SNORD116-13', 2), ('TPTE2P3', 2), ('SNORD116-15', 2), ('SNORD116-\n",
      "175 input query terms found no hit:\t['DFNB59', 'LOC100170939', 'FAM36A', 'C2orf70', 'C2orf71', 'C2orf77', 'C2orf79', 'LOC100128191', 'HR\n",
      "16 input query terms found dup hits:\t[('PMS2CL', 2), ('BRD7P3', 2), ('SCARNA17', 2), ('GABARAPL3', 2), ('MT1IP', 2), ('ADAM6', 3), ('SNOR\n",
      "142 input query terms found no hit:\t['C9orf30', 'PEG3AS', 'C9orf37', 'TXNDC3', 'LOC442308', 'FAM46D', 'FAM46A', 'FAM46B', 'FAM46C', 'WDR\n",
      "13 input query terms found dup hits:\t[('FAM197Y2', 3), ('SNORD1C', 2), ('SNORA71B', 2), ('NAT8B', 3), ('SNORA21', 2), ('VENTXP7', 2), ('G\n",
      "148 input query terms found no hit:\t['FCGR1B', 'RG9MTD2', 'RARS', 'LOC727677', 'CCRN4L', 'SEPT14', 'HKR1', 'C1orf112', 'LOC100270710', '\n",
      "13 input query terms found dup hits:\t[('OR6W1P', 3), ('LYPLA2P1', 6), ('RPL23AP53', 2), ('TRPC2', 2), ('RBMY2FP', 2), ('BAGE2', 2), ('POM\n",
      "150 input query terms found no hit:\t['SIP1', 'FAM129C', 'GIF', 'TMCO7', 'CXorf61', 'CXorf64', 'ZNF192', 'SEPP1', 'KIRREL', 'MGC16121', '\n",
      "18 input query terms found dup hits:\t[('ISCA1P1', 2), ('SNORD116-5', 2), ('PCDHB19P', 3), ('NAPSB', 2), ('WASH7P', 2), ('TTTY11', 2), ('H\n",
      "135 input query terms found no hit:\t['PPYR1', 'FAM82A2', 'FLJ37453', 'FAM82A1', 'KIAA0947', 'MOBKL2B', 'MOBKL2C', 'MOBKL2A', 'CMAH', 'GR\n",
      "8 input query terms found dup hits:\t[('SNORD12B', 2), ('SNORD116-8', 2), ('SNORD116-4', 2), ('SNORD116-1', 2), ('SNORD116-3', 2), ('SNOR\n",
      "78 input query terms found no hit:\t['C14orf174', 'C14orf176', 'C14orf177', 'C14orf179', 'PTPLB', 'SGEF', 'LOC400752', 'GRLF1', 'SPANXE'\n"
     ]
    }
   ],
   "source": [
    "if NORMALIZE_GENE:\n",
    "    genetic_data = normalize_gene_symbols_in_index(genetic_data)"
   ]
  },
  {
   "cell_type": "code",
   "execution_count": 20,
   "metadata": {
    "ExecuteTime": {
     "end_time": "2023-12-31T21:19:16.074598194Z",
     "start_time": "2023-12-31T21:19:15.973600157Z"
    }
   },
   "outputs": [
    {
     "data": {
      "text/html": [
       "<div>\n",
       "<style scoped>\n",
       "    .dataframe tbody tr th:only-of-type {\n",
       "        vertical-align: middle;\n",
       "    }\n",
       "\n",
       "    .dataframe tbody tr th {\n",
       "        vertical-align: top;\n",
       "    }\n",
       "\n",
       "    .dataframe thead th {\n",
       "        text-align: right;\n",
       "    }\n",
       "</style>\n",
       "<table border=\"1\" class=\"dataframe\">\n",
       "  <thead>\n",
       "    <tr style=\"text-align: right;\">\n",
       "      <th></th>\n",
       "      <th>Testicular Cancer</th>\n",
       "      <th>Age</th>\n",
       "      <th>Gender</th>\n",
       "      <th>ARHGEF10L</th>\n",
       "      <th>HIF3A</th>\n",
       "      <th>RNF17</th>\n",
       "      <th>RNF10</th>\n",
       "      <th>RNF11</th>\n",
       "      <th>RNF13</th>\n",
       "      <th>GTF2IP1</th>\n",
       "      <th>...</th>\n",
       "      <th>SLC7A10</th>\n",
       "      <th>PLA2G2C</th>\n",
       "      <th>TULP2</th>\n",
       "      <th>NPY5R</th>\n",
       "      <th>GNGT2</th>\n",
       "      <th>GNGT1</th>\n",
       "      <th>TULP3</th>\n",
       "      <th>BCL6B</th>\n",
       "      <th>GSTK1</th>\n",
       "      <th>SELP</th>\n",
       "    </tr>\n",
       "    <tr>\n",
       "      <th>sampleID</th>\n",
       "      <th></th>\n",
       "      <th></th>\n",
       "      <th></th>\n",
       "      <th></th>\n",
       "      <th></th>\n",
       "      <th></th>\n",
       "      <th></th>\n",
       "      <th></th>\n",
       "      <th></th>\n",
       "      <th></th>\n",
       "      <th></th>\n",
       "      <th></th>\n",
       "      <th></th>\n",
       "      <th></th>\n",
       "      <th></th>\n",
       "      <th></th>\n",
       "      <th></th>\n",
       "      <th></th>\n",
       "      <th></th>\n",
       "      <th></th>\n",
       "      <th></th>\n",
       "    </tr>\n",
       "  </thead>\n",
       "  <tbody>\n",
       "    <tr>\n",
       "      <th>TCGA-2G-AAEW-01</th>\n",
       "      <td>1</td>\n",
       "      <td>31.0</td>\n",
       "      <td>1.0</td>\n",
       "      <td>-1.247192</td>\n",
       "      <td>1.370174</td>\n",
       "      <td>9.255665</td>\n",
       "      <td>0.322728</td>\n",
       "      <td>-0.485378</td>\n",
       "      <td>-0.61291</td>\n",
       "      <td>1.315306</td>\n",
       "      <td>...</td>\n",
       "      <td>3.498714</td>\n",
       "      <td>-0.086682</td>\n",
       "      <td>4.207622</td>\n",
       "      <td>-0.237217</td>\n",
       "      <td>1.597767</td>\n",
       "      <td>0.23401</td>\n",
       "      <td>2.696223</td>\n",
       "      <td>3.097773</td>\n",
       "      <td>-1.468595</td>\n",
       "      <td>-0.043933</td>\n",
       "    </tr>\n",
       "    <tr>\n",
       "      <th>TCGA-2G-AAEX-01</th>\n",
       "      <td>1</td>\n",
       "      <td>38.0</td>\n",
       "      <td>1.0</td>\n",
       "      <td>-1.743692</td>\n",
       "      <td>1.814274</td>\n",
       "      <td>9.680665</td>\n",
       "      <td>0.636028</td>\n",
       "      <td>0.108222</td>\n",
       "      <td>-1.26731</td>\n",
       "      <td>1.206606</td>\n",
       "      <td>...</td>\n",
       "      <td>3.790214</td>\n",
       "      <td>0.487618</td>\n",
       "      <td>5.504822</td>\n",
       "      <td>0.846083</td>\n",
       "      <td>0.797867</td>\n",
       "      <td>0.02141</td>\n",
       "      <td>2.778623</td>\n",
       "      <td>0.329973</td>\n",
       "      <td>-1.447895</td>\n",
       "      <td>1.108067</td>\n",
       "    </tr>\n",
       "    <tr>\n",
       "      <th>TCGA-2G-AAF1-01</th>\n",
       "      <td>1</td>\n",
       "      <td>28.0</td>\n",
       "      <td>1.0</td>\n",
       "      <td>-1.397192</td>\n",
       "      <td>1.187274</td>\n",
       "      <td>9.598765</td>\n",
       "      <td>0.838328</td>\n",
       "      <td>-0.096978</td>\n",
       "      <td>-1.04111</td>\n",
       "      <td>1.560006</td>\n",
       "      <td>...</td>\n",
       "      <td>3.421714</td>\n",
       "      <td>-0.086682</td>\n",
       "      <td>4.813122</td>\n",
       "      <td>-0.005417</td>\n",
       "      <td>1.629067</td>\n",
       "      <td>0.64101</td>\n",
       "      <td>2.337123</td>\n",
       "      <td>2.008273</td>\n",
       "      <td>-1.256195</td>\n",
       "      <td>0.153367</td>\n",
       "    </tr>\n",
       "    <tr>\n",
       "      <th>TCGA-2G-AAF4-01</th>\n",
       "      <td>1</td>\n",
       "      <td>30.0</td>\n",
       "      <td>1.0</td>\n",
       "      <td>-0.994992</td>\n",
       "      <td>1.597874</td>\n",
       "      <td>9.971765</td>\n",
       "      <td>0.339728</td>\n",
       "      <td>-0.098878</td>\n",
       "      <td>-1.05091</td>\n",
       "      <td>0.858706</td>\n",
       "      <td>...</td>\n",
       "      <td>4.097814</td>\n",
       "      <td>-0.086682</td>\n",
       "      <td>4.213022</td>\n",
       "      <td>2.064083</td>\n",
       "      <td>1.162567</td>\n",
       "      <td>0.53161</td>\n",
       "      <td>3.066823</td>\n",
       "      <td>-0.735627</td>\n",
       "      <td>-1.617995</td>\n",
       "      <td>-0.710533</td>\n",
       "    </tr>\n",
       "    <tr>\n",
       "      <th>TCGA-2G-AAF6-01</th>\n",
       "      <td>1</td>\n",
       "      <td>28.0</td>\n",
       "      <td>1.0</td>\n",
       "      <td>-0.498792</td>\n",
       "      <td>2.274374</td>\n",
       "      <td>8.821565</td>\n",
       "      <td>0.247628</td>\n",
       "      <td>0.408722</td>\n",
       "      <td>-0.65491</td>\n",
       "      <td>1.862706</td>\n",
       "      <td>...</td>\n",
       "      <td>4.072914</td>\n",
       "      <td>-0.086682</td>\n",
       "      <td>5.124822</td>\n",
       "      <td>1.812383</td>\n",
       "      <td>0.734067</td>\n",
       "      <td>-0.88259</td>\n",
       "      <td>2.702423</td>\n",
       "      <td>-1.043427</td>\n",
       "      <td>-1.584895</td>\n",
       "      <td>-0.367333</td>\n",
       "    </tr>\n",
       "  </tbody>\n",
       "</table>\n",
       "<p>5 rows × 17342 columns</p>\n",
       "</div>"
      ],
      "text/plain": [
       "                 Testicular Cancer   Age  Gender  ARHGEF10L     HIF3A  \\\n",
       "sampleID                                                                \n",
       "TCGA-2G-AAEW-01                  1  31.0     1.0  -1.247192  1.370174   \n",
       "TCGA-2G-AAEX-01                  1  38.0     1.0  -1.743692  1.814274   \n",
       "TCGA-2G-AAF1-01                  1  28.0     1.0  -1.397192  1.187274   \n",
       "TCGA-2G-AAF4-01                  1  30.0     1.0  -0.994992  1.597874   \n",
       "TCGA-2G-AAF6-01                  1  28.0     1.0  -0.498792  2.274374   \n",
       "\n",
       "                    RNF17     RNF10     RNF11    RNF13   GTF2IP1  ...  \\\n",
       "sampleID                                                          ...   \n",
       "TCGA-2G-AAEW-01  9.255665  0.322728 -0.485378 -0.61291  1.315306  ...   \n",
       "TCGA-2G-AAEX-01  9.680665  0.636028  0.108222 -1.26731  1.206606  ...   \n",
       "TCGA-2G-AAF1-01  9.598765  0.838328 -0.096978 -1.04111  1.560006  ...   \n",
       "TCGA-2G-AAF4-01  9.971765  0.339728 -0.098878 -1.05091  0.858706  ...   \n",
       "TCGA-2G-AAF6-01  8.821565  0.247628  0.408722 -0.65491  1.862706  ...   \n",
       "\n",
       "                  SLC7A10   PLA2G2C     TULP2     NPY5R     GNGT2    GNGT1  \\\n",
       "sampleID                                                                     \n",
       "TCGA-2G-AAEW-01  3.498714 -0.086682  4.207622 -0.237217  1.597767  0.23401   \n",
       "TCGA-2G-AAEX-01  3.790214  0.487618  5.504822  0.846083  0.797867  0.02141   \n",
       "TCGA-2G-AAF1-01  3.421714 -0.086682  4.813122 -0.005417  1.629067  0.64101   \n",
       "TCGA-2G-AAF4-01  4.097814 -0.086682  4.213022  2.064083  1.162567  0.53161   \n",
       "TCGA-2G-AAF6-01  4.072914 -0.086682  5.124822  1.812383  0.734067 -0.88259   \n",
       "\n",
       "                    TULP3     BCL6B     GSTK1      SELP  \n",
       "sampleID                                                 \n",
       "TCGA-2G-AAEW-01  2.696223  3.097773 -1.468595 -0.043933  \n",
       "TCGA-2G-AAEX-01  2.778623  0.329973 -1.447895  1.108067  \n",
       "TCGA-2G-AAF1-01  2.337123  2.008273 -1.256195  0.153367  \n",
       "TCGA-2G-AAF4-01  3.066823 -0.735627 -1.617995 -0.710533  \n",
       "TCGA-2G-AAF6-01  2.702423 -1.043427 -1.584895 -0.367333  \n",
       "\n",
       "[5 rows x 17342 columns]"
      ]
     },
     "execution_count": 20,
     "metadata": {},
     "output_type": "execute_result"
    }
   ],
   "source": [
    "merged_data = selected_clinical_data.join(genetic_data.T).dropna()\n",
    "merged_data.head()"
   ]
  },
  {
   "cell_type": "code",
   "execution_count": 21,
   "metadata": {
    "ExecuteTime": {
     "end_time": "2023-12-31T21:19:16.341121723Z",
     "start_time": "2023-12-31T21:19:16.330544222Z"
    }
   },
   "outputs": [
    {
     "name": "stdout",
     "output_type": "stream",
     "text": [
      "The merged dataset contains 139 samples.\n"
     ]
    }
   ],
   "source": [
    "print(f\"The merged dataset contains {len(merged_data)} samples.\")"
   ]
  },
  {
   "cell_type": "code",
   "execution_count": 22,
   "metadata": {
    "ExecuteTime": {
     "end_time": "2023-12-31T21:19:17.222505900Z",
     "start_time": "2023-12-31T21:19:17.218781412Z"
    }
   },
   "outputs": [
    {
     "name": "stdout",
     "output_type": "stream",
     "text": [
      "For the feature 'Testicular Cancer', the least common label is '1' with 139 occurrences. This represents 100.00% of the dataset.\n",
      "The distribution of the feature 'Testicular Cancer' in this dataset is severely biased.\n",
      "\n",
      "Quartiles for 'Age':\n",
      "  25%: 26.0\n",
      "  50% (Median): 31.0\n",
      "  75%: 37.0\n",
      "Min: 14.0\n",
      "Max: 67.0\n",
      "The distribution of the feature 'Age' in this dataset is fine.\n",
      "\n",
      "For the feature 'Gender', the least common label is '1.0' with 139 occurrences. This represents 100.00% of the dataset.\n",
      "The distribution of the feature 'Gender' in this dataset is severely biased.\n",
      "\n"
     ]
    },
    {
     "data": {
      "text/plain": [
       "True"
      ]
     },
     "execution_count": 22,
     "metadata": {},
     "output_type": "execute_result"
    }
   ],
   "source": [
    "is_trait_biased, merge_data = judge_and_remove_biased_features(merged_data, TRAIT, trait_type=trait_type)\n",
    "is_trait_biased"
   ]
  },
  {
   "cell_type": "code",
   "execution_count": 23,
   "metadata": {
    "ExecuteTime": {
     "end_time": "2023-12-31T21:19:35.401536463Z",
     "start_time": "2023-12-31T21:19:17.980683628Z"
    }
   },
   "outputs": [],
   "source": [
    "merged_data.head()\n",
    "if not is_trait_biased:\n",
    "    merge_data.to_csv(os.path.join(OUTPUT_DIR, cohort+'.csv'), index=False)"
   ]
  },
  {
   "cell_type": "code",
   "execution_count": 24,
   "metadata": {
    "ExecuteTime": {
     "end_time": "2023-12-31T21:19:35.405288661Z",
     "start_time": "2023-12-31T21:19:35.402799553Z"
    }
   },
   "outputs": [
    {
     "name": "stdout",
     "output_type": "stream",
     "text": [
      "A new JSON file was created at: ../../output1/Jinglin/Testicular-Cancer/cohort_info.json\n"
     ]
    }
   ],
   "source": [
    "save_cohort_info(cohort, JSON_PATH, is_available, is_trait_biased, merged_data)"
   ]
  },
  {
   "cell_type": "markdown",
   "metadata": {
    "ExecuteTime": {
     "end_time": "2023-12-28T21:28:38.028916303Z",
     "start_time": "2023-12-28T21:28:38.016245426Z"
    }
   },
   "source": [
    "## 2.2. The GEO dataset"
   ]
  },
  {
   "cell_type": "markdown",
   "metadata": {
    "ExecuteTime": {
     "end_time": "2023-12-31T03:25:23.253882615Z",
     "start_time": "2023-12-31T03:25:23.244062710Z"
    }
   },
   "source": [
    "In GEO, there may be one or multiple cohorts for a trait. Each cohort is identified by an accession number. We iterate over all accession numbers in the corresponding subdirectory, preprocess the cohort data, and save them to csv files."
   ]
  },
  {
   "cell_type": "code",
   "execution_count": 25,
   "metadata": {
    "ExecuteTime": {
     "end_time": "2023-12-31T21:19:35.411177575Z",
     "start_time": "2023-12-31T21:19:35.405710636Z"
    }
   },
   "outputs": [
    {
     "data": {
      "text/plain": [
       "['GSE3921',\n",
       " 'GSE1818',\n",
       " 'GSE59520',\n",
       " 'GSE12630',\n",
       " 'GSE62523',\n",
       " 'GSE28094',\n",
       " 'GSE42647']"
      ]
     },
     "execution_count": 25,
     "metadata": {},
     "output_type": "execute_result"
    }
   ],
   "source": [
    "dataset = 'GEO'\n",
    "trait_subdir = \"Testicular-Cancer\"\n",
    "\n",
    "trait_path = os.path.join(DATA_ROOT, dataset, trait_subdir)\n",
    "os.listdir(trait_path)"
   ]
  },
  {
   "cell_type": "markdown",
   "metadata": {
    "ExecuteTime": {
     "end_time": "2023-12-31T03:39:42.634870142Z",
     "start_time": "2023-12-31T03:39:42.534093295Z"
    }
   },
   "source": [
    "Repeat the below steps for all the accession numbers"
   ]
  },
  {
   "cell_type": "code",
   "execution_count": 104,
   "metadata": {
    "ExecuteTime": {
     "end_time": "2023-12-31T21:19:35.413836016Z",
     "start_time": "2023-12-31T21:19:35.410443976Z"
    }
   },
   "outputs": [
    {
     "data": {
      "text/plain": [
       "('../../DATA/GEO/Testicular-Cancer/GSE42647/GSE42647_family.soft.gz',\n",
       " '../../DATA/GEO/Testicular-Cancer/GSE42647/GSE42647-GPL6947_series_matrix.txt.gz')"
      ]
     },
     "execution_count": 104,
     "metadata": {},
     "output_type": "execute_result"
    }
   ],
   "source": [
    "cohort = accession_num = \"GSE42647\"\n",
    "cohort_dir = os.path.join(trait_path, accession_num)\n",
    "soft_file, matrix_file = get_relevant_filepaths(cohort_dir)\n",
    "soft_file, matrix_file"
   ]
  },
  {
   "cell_type": "markdown",
   "metadata": {},
   "source": [
    "### Inital filtering and clinical data preprocessing"
   ]
  },
  {
   "cell_type": "code",
   "execution_count": 105,
   "metadata": {
    "ExecuteTime": {
     "end_time": "2023-12-31T21:19:35.492119842Z",
     "start_time": "2023-12-31T21:19:35.413383102Z"
    }
   },
   "outputs": [
    {
     "name": "stdout",
     "output_type": "stream",
     "text": [
      "!Series_title\t\"Acute hypersensitivity of pluripotent testicular cancer-derived embryonal carcinoma to low-dose 5-aza deoxycytidine\"\n",
      "!Series_summary\t\"This SuperSeries is composed of the SubSeries listed below.\"\n",
      "!Series_overall_design\t\"Refer to individual Series\"\n"
     ]
    }
   ],
   "source": [
    "background_prefixes = ['!Series_title', '!Series_summary', '!Series_overall_design']\n",
    "clinical_prefixes = ['!Sample_geo_accession', '!Sample_characteristics_ch1']\n",
    "\n",
    "background_info, clinical_data = get_background_and_clinical_data(matrix_file, background_prefixes, clinical_prefixes)\n",
    "print(background_info)"
   ]
  },
  {
   "cell_type": "code",
   "execution_count": 106,
   "metadata": {
    "ExecuteTime": {
     "end_time": "2023-12-31T21:19:35.507840422Z",
     "start_time": "2023-12-31T21:19:35.451789107Z"
    }
   },
   "outputs": [
    {
     "data": {
      "text/html": [
       "<div>\n",
       "<style scoped>\n",
       "    .dataframe tbody tr th:only-of-type {\n",
       "        vertical-align: middle;\n",
       "    }\n",
       "\n",
       "    .dataframe tbody tr th {\n",
       "        vertical-align: top;\n",
       "    }\n",
       "\n",
       "    .dataframe thead th {\n",
       "        text-align: right;\n",
       "    }\n",
       "</style>\n",
       "<table border=\"1\" class=\"dataframe\">\n",
       "  <thead>\n",
       "    <tr style=\"text-align: right;\">\n",
       "      <th></th>\n",
       "      <th>!Sample_geo_accession</th>\n",
       "      <th>GSM1047246</th>\n",
       "      <th>GSM1047247</th>\n",
       "      <th>GSM1047248</th>\n",
       "      <th>GSM1047249</th>\n",
       "      <th>GSM1047250</th>\n",
       "      <th>GSM1047251</th>\n",
       "      <th>GSM1047252</th>\n",
       "      <th>GSM1047253</th>\n",
       "      <th>GSM1047254</th>\n",
       "      <th>GSM1047255</th>\n",
       "      <th>GSM1047256</th>\n",
       "      <th>GSM1047257</th>\n",
       "    </tr>\n",
       "  </thead>\n",
       "  <tbody>\n",
       "    <tr>\n",
       "      <th>0</th>\n",
       "      <td>!Sample_characteristics_ch1</td>\n",
       "      <td>cell line: NT2/D1-R1</td>\n",
       "      <td>cell line: NT2/D1-R1</td>\n",
       "      <td>cell line: NT2/D1-R1</td>\n",
       "      <td>cell line: NT2/D1-R1</td>\n",
       "      <td>cell line: NT2/D1-R1</td>\n",
       "      <td>cell line: NT2/D1-R1</td>\n",
       "      <td>cell line: NT2/D1-R1</td>\n",
       "      <td>cell line: NT2/D1-R1</td>\n",
       "      <td>cell line: NT2/D1-R1</td>\n",
       "      <td>cell line: NT2/D1-R1</td>\n",
       "      <td>cell line: NT2/D1-R1</td>\n",
       "      <td>cell line: NT2/D1-R1</td>\n",
       "    </tr>\n",
       "    <tr>\n",
       "      <th>1</th>\n",
       "      <td>!Sample_characteristics_ch1</td>\n",
       "      <td>cell type: human ebryonal carcinoma</td>\n",
       "      <td>cell type: human ebryonal carcinoma</td>\n",
       "      <td>cell type: human ebryonal carcinoma</td>\n",
       "      <td>cell type: human ebryonal carcinoma</td>\n",
       "      <td>cell type: human ebryonal carcinoma</td>\n",
       "      <td>cell type: human ebryonal carcinoma</td>\n",
       "      <td>cell type: human ebryonal carcinoma</td>\n",
       "      <td>cell type: human ebryonal carcinoma</td>\n",
       "      <td>cell type: human ebryonal carcinoma</td>\n",
       "      <td>cell type: human ebryonal carcinoma</td>\n",
       "      <td>cell type: human ebryonal carcinoma</td>\n",
       "      <td>cell type: human ebryonal carcinoma</td>\n",
       "    </tr>\n",
       "  </tbody>\n",
       "</table>\n",
       "</div>"
      ],
      "text/plain": [
       "         !Sample_geo_accession                           GSM1047246  \\\n",
       "0  !Sample_characteristics_ch1                 cell line: NT2/D1-R1   \n",
       "1  !Sample_characteristics_ch1  cell type: human ebryonal carcinoma   \n",
       "\n",
       "                            GSM1047247                           GSM1047248  \\\n",
       "0                 cell line: NT2/D1-R1                 cell line: NT2/D1-R1   \n",
       "1  cell type: human ebryonal carcinoma  cell type: human ebryonal carcinoma   \n",
       "\n",
       "                            GSM1047249                           GSM1047250  \\\n",
       "0                 cell line: NT2/D1-R1                 cell line: NT2/D1-R1   \n",
       "1  cell type: human ebryonal carcinoma  cell type: human ebryonal carcinoma   \n",
       "\n",
       "                            GSM1047251                           GSM1047252  \\\n",
       "0                 cell line: NT2/D1-R1                 cell line: NT2/D1-R1   \n",
       "1  cell type: human ebryonal carcinoma  cell type: human ebryonal carcinoma   \n",
       "\n",
       "                            GSM1047253                           GSM1047254  \\\n",
       "0                 cell line: NT2/D1-R1                 cell line: NT2/D1-R1   \n",
       "1  cell type: human ebryonal carcinoma  cell type: human ebryonal carcinoma   \n",
       "\n",
       "                            GSM1047255                           GSM1047256  \\\n",
       "0                 cell line: NT2/D1-R1                 cell line: NT2/D1-R1   \n",
       "1  cell type: human ebryonal carcinoma  cell type: human ebryonal carcinoma   \n",
       "\n",
       "                            GSM1047257  \n",
       "0                 cell line: NT2/D1-R1  \n",
       "1  cell type: human ebryonal carcinoma  "
      ]
     },
     "execution_count": 106,
     "metadata": {},
     "output_type": "execute_result"
    }
   ],
   "source": [
    "clinical_data.head()"
   ]
  },
  {
   "cell_type": "code",
   "execution_count": 107,
   "metadata": {
    "ExecuteTime": {
     "end_time": "2023-12-31T21:19:35.508015426Z",
     "start_time": "2023-12-31T21:19:35.492746637Z"
    }
   },
   "outputs": [
    {
     "data": {
      "text/plain": [
       "{0: ['cell line: NT2/D1-R1'], 1: ['cell type: human ebryonal carcinoma']}"
      ]
     },
     "execution_count": 107,
     "metadata": {},
     "output_type": "execute_result"
    }
   ],
   "source": [
    "clinical_data_unique = get_unique_values_by_row(clinical_data)\n",
    "clinical_data_unique"
   ]
  },
  {
   "cell_type": "markdown",
   "metadata": {
    "ExecuteTime": {
     "end_time": "2023-12-31T03:58:04.978204446Z",
     "start_time": "2023-12-31T03:58:04.922270095Z"
    }
   },
   "source": [
    "Analyze the metadata to determine data relevance and find ways to extract the clinical data.\n",
    "Reference prompt:"
   ]
  },
  {
   "cell_type": "code",
   "execution_count": 108,
   "metadata": {
    "ExecuteTime": {
     "end_time": "2023-12-31T21:19:35.508232400Z",
     "start_time": "2023-12-31T21:19:35.492903487Z"
    }
   },
   "outputs": [
    {
     "data": {
      "text/plain": [
       "'As a biomedical research team, we are selecting datasets to study the association between the human trait \\'Testicular Cancer\\' and genetic factors, optionally considering the influence of age and gender. After searching the GEO database and parsing the matrix file of a series, we obtained background information and sample characteristics data. We will provide textual information about the dataset background, and a Python dictionary storing a list of unique values for each field of the sample characteristics data. Please carefully review the provided information and answer the following questions about this dataset:\\n1. Does this dataset contain gene expression data? (Note: Pure miRNA data is not suitable.)\\n2. For each of the traits \\'Testicular Cancer\\', \\'age\\', and \\'gender\\', please address these points:\\n   (1) Is there human data available for this trait?\\n   (2) If so, identify the key in the sample characteristics dictionary where unique values of this trait is recorded. The key is an integer. The trait information might be explicitly recorded, or can be inferred from the field with some biomedical knowledge or understanding about the data collection process.\\n   (3) Choose an appropriate data type (either \\'continuous\\' or \\'binary\\') for each trait. Write a Python function to convert any given value of the trait to this data type. The function should handle inference about the trait value and convert unknown values to None.\\n   Name the functions \\'convert_trait\\', \\'convert_age\\', and \\'convert_gender\\', respectively.\\n   NOTE: Function \"convert_trait\" should return 1 or 0.\\n   \\nBackground information about the dataset:\\n!Series_title\\t\"Acute hypersensitivity of pluripotent testicular cancer-derived embryonal carcinoma to low-dose 5-aza deoxycytidine\"\\n!Series_summary\\t\"This SuperSeries is composed of the SubSeries listed below.\"\\n!Series_overall_design\\t\"Refer to individual Series\"\\n\\nSample characteristics dictionary (from \"!Sample_characteristics_ch1\", converted to a Python dictionary that stores the unique values for each field):\\n{0: [\\'cell line: NT2/D1-R1\\'], 1: [\\'cell type: human ebryonal carcinoma\\']}\\n'"
      ]
     },
     "execution_count": 108,
     "metadata": {},
     "output_type": "execute_result"
    }
   ],
   "source": [
    "f'''As a biomedical research team, we are selecting datasets to study the association between the human trait \\'{TRAIT}\\' and genetic factors, optionally considering the influence of age and gender. After searching the GEO database and parsing the matrix file of a series, we obtained background information and sample characteristics data. We will provide textual information about the dataset background, and a Python dictionary storing a list of unique values for each field of the sample characteristics data. Please carefully review the provided information and answer the following questions about this dataset:\n",
    "1. Does this dataset contain gene expression data? (Note: Pure miRNA data is not suitable.)\n",
    "2. For each of the traits \\'{TRAIT}\\', 'age', and 'gender', please address these points:\n",
    "   (1) Is there human data available for this trait?\n",
    "   (2) If so, identify the key in the sample characteristics dictionary where unique values of this trait is recorded. The key is an integer. The trait information might be explicitly recorded, or can be inferred from the field with some biomedical knowledge or understanding about the data collection process.\n",
    "   (3) Choose an appropriate data type (either 'continuous' or 'binary') for each trait. Write a Python function to convert any given value of the trait to this data type. The function should handle inference about the trait value and convert unknown values to None.\n",
    "   Name the functions 'convert_trait', 'convert_age', and 'convert_gender', respectively.\n",
    "   NOTE: Function \"convert_trait\" should return 1 or 0.\n",
    "   \n",
    "Background information about the dataset:\n",
    "{background_info}\n",
    "\n",
    "Sample characteristics dictionary (from \"!Sample_characteristics_ch1\", converted to a Python dictionary that stores the unique values for each field):\n",
    "{clinical_data_unique}\n",
    "'''"
   ]
  },
  {
   "cell_type": "markdown",
   "metadata": {
    "ExecuteTime": {
     "end_time": "2023-12-31T03:58:04.978240504Z",
     "start_time": "2023-12-31T03:58:04.922365324Z"
    }
   },
   "source": [
    "Understand and verify the answer from GPT, to assign values to the below variables. Assign None to the 'row_id' variables if relevant data row was not found.\n",
    "Later we need to let GPT format its answer to automatically do these. But given the complexity of this step, let's grow some insight from the free-text answers for now."
   ]
  },
  {
   "cell_type": "code",
   "execution_count": 109,
   "metadata": {
    "ExecuteTime": {
     "end_time": "2023-12-31T21:19:35.508295660Z",
     "start_time": "2023-12-31T21:19:35.493015671Z"
    }
   },
   "outputs": [],
   "source": [
    "# is_gene_availabe = True\n",
    "is_gene_availabe = False\n",
    "trait_row_id = 1\n",
    "trait_type = 'binary'\n",
    "\n",
    "age_row_id = None\n",
    "# age_row_id = 1\n",
    "\n",
    "gender_row_id = None\n",
    "# gender_row_id = 0"
   ]
  },
  {
   "cell_type": "code",
   "execution_count": 110,
   "metadata": {
    "ExecuteTime": {
     "end_time": "2023-12-31T21:19:35.508365153Z",
     "start_time": "2023-12-31T21:19:35.493151450Z"
    }
   },
   "outputs": [
    {
     "name": "stdout",
     "output_type": "stream",
     "text": [
      "This cohort is not usable. Please skip the following steps and jump to the next accession number.\n"
     ]
    }
   ],
   "source": [
    "is_available = is_gene_availabe and (trait_row_id is not None)\n",
    "if not is_available:\n",
    "    save_cohort_info(cohort, JSON_PATH, is_available)\n",
    "    print(\"This cohort is not usable. Please skip the following steps and jump to the next accession number.\")"
   ]
  },
  {
   "cell_type": "code",
   "execution_count": 89,
   "metadata": {
    "ExecuteTime": {
     "end_time": "2023-12-31T21:19:35.508426069Z",
     "start_time": "2023-12-31T21:19:35.493220101Z"
    }
   },
   "outputs": [],
   "source": [
    "def convert_trait(value):\n",
    "    if 'testis cancer' in value or 'testis tumor tissue' in value:\n",
    "        return 1\n",
    "    else:\n",
    "        return 0\n",
    "\n",
    "def convert_age(value):\n",
    "    try:\n",
    "        if value.startswith('age: '):\n",
    "            return float(value.split(': ')[1])\n",
    "        else:\n",
    "            return None\n",
    "    except ValueError:\n",
    "        return None\n",
    "\n",
    "    \n",
    "def convert_gender(value):\n",
    "    if value == 'gender: male':\n",
    "        return 1\n",
    "    elif value == 'gender: female':\n",
    "        return 0\n",
    "    else:\n",
    "        return None\n"
   ]
  },
  {
   "cell_type": "code",
   "execution_count": 90,
   "metadata": {
    "ExecuteTime": {
     "end_time": "2023-12-31T21:19:35.508533013Z",
     "start_time": "2023-12-31T21:19:35.493272992Z"
    }
   },
   "outputs": [
    {
     "data": {
      "text/html": [
       "<div>\n",
       "<style scoped>\n",
       "    .dataframe tbody tr th:only-of-type {\n",
       "        vertical-align: middle;\n",
       "    }\n",
       "\n",
       "    .dataframe tbody tr th {\n",
       "        vertical-align: top;\n",
       "    }\n",
       "\n",
       "    .dataframe thead th {\n",
       "        text-align: right;\n",
       "    }\n",
       "</style>\n",
       "<table border=\"1\" class=\"dataframe\">\n",
       "  <thead>\n",
       "    <tr style=\"text-align: right;\">\n",
       "      <th></th>\n",
       "      <th>GSM694425</th>\n",
       "      <th>GSM694426</th>\n",
       "      <th>GSM694427</th>\n",
       "      <th>GSM694428</th>\n",
       "      <th>GSM694429</th>\n",
       "      <th>GSM694430</th>\n",
       "      <th>GSM694431</th>\n",
       "      <th>GSM694432</th>\n",
       "      <th>GSM694433</th>\n",
       "      <th>GSM694434</th>\n",
       "      <th>...</th>\n",
       "      <th>GSM696043</th>\n",
       "      <th>GSM696044</th>\n",
       "      <th>GSM696045</th>\n",
       "      <th>GSM696046</th>\n",
       "      <th>GSM696047</th>\n",
       "      <th>GSM696048</th>\n",
       "      <th>GSM696049</th>\n",
       "      <th>GSM696050</th>\n",
       "      <th>GSM696051</th>\n",
       "      <th>GSM696052</th>\n",
       "    </tr>\n",
       "  </thead>\n",
       "  <tbody>\n",
       "    <tr>\n",
       "      <th>Testicular Cancer</th>\n",
       "      <td>0</td>\n",
       "      <td>0</td>\n",
       "      <td>0.0</td>\n",
       "      <td>0</td>\n",
       "      <td>0</td>\n",
       "      <td>0.0</td>\n",
       "      <td>0</td>\n",
       "      <td>0</td>\n",
       "      <td>0.0</td>\n",
       "      <td>0</td>\n",
       "      <td>...</td>\n",
       "      <td>0</td>\n",
       "      <td>0</td>\n",
       "      <td>0</td>\n",
       "      <td>0</td>\n",
       "      <td>0</td>\n",
       "      <td>0</td>\n",
       "      <td>0</td>\n",
       "      <td>0</td>\n",
       "      <td>0</td>\n",
       "      <td>0.0</td>\n",
       "    </tr>\n",
       "    <tr>\n",
       "      <th>Age</th>\n",
       "      <td>None</td>\n",
       "      <td>None</td>\n",
       "      <td>65.0</td>\n",
       "      <td>None</td>\n",
       "      <td>None</td>\n",
       "      <td>79.0</td>\n",
       "      <td>None</td>\n",
       "      <td>None</td>\n",
       "      <td>51.0</td>\n",
       "      <td>None</td>\n",
       "      <td>...</td>\n",
       "      <td>None</td>\n",
       "      <td>None</td>\n",
       "      <td>None</td>\n",
       "      <td>None</td>\n",
       "      <td>None</td>\n",
       "      <td>None</td>\n",
       "      <td>None</td>\n",
       "      <td>None</td>\n",
       "      <td>None</td>\n",
       "      <td>56.0</td>\n",
       "    </tr>\n",
       "    <tr>\n",
       "      <th>Gender</th>\n",
       "      <td>None</td>\n",
       "      <td>None</td>\n",
       "      <td>1.0</td>\n",
       "      <td>None</td>\n",
       "      <td>None</td>\n",
       "      <td>1.0</td>\n",
       "      <td>None</td>\n",
       "      <td>None</td>\n",
       "      <td>1.0</td>\n",
       "      <td>None</td>\n",
       "      <td>...</td>\n",
       "      <td>None</td>\n",
       "      <td>None</td>\n",
       "      <td>None</td>\n",
       "      <td>None</td>\n",
       "      <td>None</td>\n",
       "      <td>None</td>\n",
       "      <td>None</td>\n",
       "      <td>None</td>\n",
       "      <td>None</td>\n",
       "      <td>0.0</td>\n",
       "    </tr>\n",
       "  </tbody>\n",
       "</table>\n",
       "<p>3 rows × 1628 columns</p>\n",
       "</div>"
      ],
      "text/plain": [
       "                  GSM694425 GSM694426  GSM694427 GSM694428 GSM694429  \\\n",
       "Testicular Cancer         0         0        0.0         0         0   \n",
       "Age                    None      None       65.0      None      None   \n",
       "Gender                 None      None        1.0      None      None   \n",
       "\n",
       "                   GSM694430 GSM694431 GSM694432  GSM694433 GSM694434  ...  \\\n",
       "Testicular Cancer        0.0         0         0        0.0         0  ...   \n",
       "Age                     79.0      None      None       51.0      None  ...   \n",
       "Gender                   1.0      None      None        1.0      None  ...   \n",
       "\n",
       "                  GSM696043  GSM696044  GSM696045  GSM696046 GSM696047  \\\n",
       "Testicular Cancer         0          0          0          0         0   \n",
       "Age                    None       None       None       None      None   \n",
       "Gender                 None       None       None       None      None   \n",
       "\n",
       "                  GSM696048  GSM696049 GSM696050 GSM696051  GSM696052  \n",
       "Testicular Cancer         0          0         0         0        0.0  \n",
       "Age                    None       None      None      None       56.0  \n",
       "Gender                 None       None      None      None        0.0  \n",
       "\n",
       "[3 rows x 1628 columns]"
      ]
     },
     "execution_count": 90,
     "metadata": {},
     "output_type": "execute_result"
    }
   ],
   "source": [
    "selected_clinical_data = geo_select_clinical_features(clinical_data, TRAIT, trait_row_id, age_row_id, gender_row_id,\n",
    "                                                      convert_trait, convert_age, convert_gender)\n",
    "selected_clinical_data.head()"
   ]
  },
  {
   "cell_type": "markdown",
   "metadata": {
    "ExecuteTime": {
     "end_time": "2023-12-31T03:58:04.978664193Z",
     "start_time": "2023-12-31T03:58:04.966117261Z"
    }
   },
   "source": [
    "### Genetic data preprocessing and final filtering"
   ]
  },
  {
   "cell_type": "code",
   "execution_count": 91,
   "metadata": {
    "ExecuteTime": {
     "end_time": "2023-12-31T21:19:35.590261560Z",
     "start_time": "2023-12-31T21:19:35.493320362Z"
    }
   },
   "outputs": [
    {
     "data": {
      "text/html": [
       "<div>\n",
       "<style scoped>\n",
       "    .dataframe tbody tr th:only-of-type {\n",
       "        vertical-align: middle;\n",
       "    }\n",
       "\n",
       "    .dataframe tbody tr th {\n",
       "        vertical-align: top;\n",
       "    }\n",
       "\n",
       "    .dataframe thead th {\n",
       "        text-align: right;\n",
       "    }\n",
       "</style>\n",
       "<table border=\"1\" class=\"dataframe\">\n",
       "  <thead>\n",
       "    <tr style=\"text-align: right;\">\n",
       "      <th></th>\n",
       "      <th>ID</th>\n",
       "      <th>GSM694425</th>\n",
       "      <th>GSM694426</th>\n",
       "      <th>GSM694427</th>\n",
       "      <th>GSM694428</th>\n",
       "      <th>GSM694429</th>\n",
       "      <th>GSM694430</th>\n",
       "      <th>GSM694431</th>\n",
       "      <th>GSM694432</th>\n",
       "      <th>GSM694433</th>\n",
       "      <th>...</th>\n",
       "      <th>GSM696043</th>\n",
       "      <th>GSM696044</th>\n",
       "      <th>GSM696045</th>\n",
       "      <th>GSM696046</th>\n",
       "      <th>GSM696047</th>\n",
       "      <th>GSM696048</th>\n",
       "      <th>GSM696049</th>\n",
       "      <th>GSM696050</th>\n",
       "      <th>GSM696051</th>\n",
       "      <th>GSM696052</th>\n",
       "    </tr>\n",
       "  </thead>\n",
       "  <tbody>\n",
       "    <tr>\n",
       "      <th>0</th>\n",
       "      <td>AATK_E63_R</td>\n",
       "      <td>0.48353</td>\n",
       "      <td>0.23711</td>\n",
       "      <td>0.85411</td>\n",
       "      <td>0.50129</td>\n",
       "      <td>0.82760</td>\n",
       "      <td>0.59996</td>\n",
       "      <td>0.68489</td>\n",
       "      <td>0.90238</td>\n",
       "      <td>0.92263</td>\n",
       "      <td>...</td>\n",
       "      <td>0.09186</td>\n",
       "      <td>0.91331</td>\n",
       "      <td>0.93600</td>\n",
       "      <td>0.16329</td>\n",
       "      <td>0.91098</td>\n",
       "      <td>0.34287</td>\n",
       "      <td>0.41839</td>\n",
       "      <td>0.32744</td>\n",
       "      <td>0.68380</td>\n",
       "      <td>0.88365</td>\n",
       "    </tr>\n",
       "    <tr>\n",
       "      <th>1</th>\n",
       "      <td>AATK_P519_R</td>\n",
       "      <td>0.89311</td>\n",
       "      <td>0.84668</td>\n",
       "      <td>0.70404</td>\n",
       "      <td>0.66548</td>\n",
       "      <td>0.89701</td>\n",
       "      <td>0.64044</td>\n",
       "      <td>0.88225</td>\n",
       "      <td>0.90956</td>\n",
       "      <td>0.92516</td>\n",
       "      <td>...</td>\n",
       "      <td>0.89194</td>\n",
       "      <td>0.92933</td>\n",
       "      <td>0.92402</td>\n",
       "      <td>0.05399</td>\n",
       "      <td>0.93193</td>\n",
       "      <td>0.22968</td>\n",
       "      <td>0.30236</td>\n",
       "      <td>0.20211</td>\n",
       "      <td>0.80366</td>\n",
       "      <td>0.91518</td>\n",
       "    </tr>\n",
       "    <tr>\n",
       "      <th>2</th>\n",
       "      <td>AATK_P709_R</td>\n",
       "      <td>0.91335</td>\n",
       "      <td>0.30281</td>\n",
       "      <td>0.37084</td>\n",
       "      <td>0.26867</td>\n",
       "      <td>0.26395</td>\n",
       "      <td>0.38570</td>\n",
       "      <td>0.33783</td>\n",
       "      <td>0.78834</td>\n",
       "      <td>0.87449</td>\n",
       "      <td>...</td>\n",
       "      <td>0.77597</td>\n",
       "      <td>0.76322</td>\n",
       "      <td>0.84806</td>\n",
       "      <td>0.02906</td>\n",
       "      <td>0.69019</td>\n",
       "      <td>0.07539</td>\n",
       "      <td>0.06704</td>\n",
       "      <td>0.12400</td>\n",
       "      <td>0.59265</td>\n",
       "      <td>0.82164</td>\n",
       "    </tr>\n",
       "    <tr>\n",
       "      <th>3</th>\n",
       "      <td>ABCA1_E120_R</td>\n",
       "      <td>0.03472</td>\n",
       "      <td>0.07660</td>\n",
       "      <td>0.03341</td>\n",
       "      <td>0.01977</td>\n",
       "      <td>0.03680</td>\n",
       "      <td>0.03003</td>\n",
       "      <td>0.03845</td>\n",
       "      <td>0.19101</td>\n",
       "      <td>0.02931</td>\n",
       "      <td>...</td>\n",
       "      <td>0.26583</td>\n",
       "      <td>0.42989</td>\n",
       "      <td>0.03674</td>\n",
       "      <td>0.02782</td>\n",
       "      <td>0.03731</td>\n",
       "      <td>0.01852</td>\n",
       "      <td>0.02787</td>\n",
       "      <td>0.02626</td>\n",
       "      <td>0.04036</td>\n",
       "      <td>0.02370</td>\n",
       "    </tr>\n",
       "    <tr>\n",
       "      <th>4</th>\n",
       "      <td>ABCA1_P45_F</td>\n",
       "      <td>0.07617</td>\n",
       "      <td>0.05157</td>\n",
       "      <td>0.02845</td>\n",
       "      <td>0.03297</td>\n",
       "      <td>0.06749</td>\n",
       "      <td>0.05253</td>\n",
       "      <td>0.04280</td>\n",
       "      <td>0.04870</td>\n",
       "      <td>0.03439</td>\n",
       "      <td>...</td>\n",
       "      <td>0.70815</td>\n",
       "      <td>0.11157</td>\n",
       "      <td>0.14586</td>\n",
       "      <td>0.04181</td>\n",
       "      <td>0.03450</td>\n",
       "      <td>0.03162</td>\n",
       "      <td>0.09569</td>\n",
       "      <td>0.03407</td>\n",
       "      <td>0.03279</td>\n",
       "      <td>0.01979</td>\n",
       "    </tr>\n",
       "  </tbody>\n",
       "</table>\n",
       "<p>5 rows × 1629 columns</p>\n",
       "</div>"
      ],
      "text/plain": [
       "             ID  GSM694425  GSM694426  GSM694427  GSM694428  GSM694429  \\\n",
       "0    AATK_E63_R    0.48353    0.23711    0.85411    0.50129    0.82760   \n",
       "1   AATK_P519_R    0.89311    0.84668    0.70404    0.66548    0.89701   \n",
       "2   AATK_P709_R    0.91335    0.30281    0.37084    0.26867    0.26395   \n",
       "3  ABCA1_E120_R    0.03472    0.07660    0.03341    0.01977    0.03680   \n",
       "4   ABCA1_P45_F    0.07617    0.05157    0.02845    0.03297    0.06749   \n",
       "\n",
       "   GSM694430  GSM694431  GSM694432  GSM694433  ...  GSM696043  GSM696044  \\\n",
       "0    0.59996    0.68489    0.90238    0.92263  ...    0.09186    0.91331   \n",
       "1    0.64044    0.88225    0.90956    0.92516  ...    0.89194    0.92933   \n",
       "2    0.38570    0.33783    0.78834    0.87449  ...    0.77597    0.76322   \n",
       "3    0.03003    0.03845    0.19101    0.02931  ...    0.26583    0.42989   \n",
       "4    0.05253    0.04280    0.04870    0.03439  ...    0.70815    0.11157   \n",
       "\n",
       "   GSM696045  GSM696046  GSM696047  GSM696048  GSM696049  GSM696050  \\\n",
       "0    0.93600    0.16329    0.91098    0.34287    0.41839    0.32744   \n",
       "1    0.92402    0.05399    0.93193    0.22968    0.30236    0.20211   \n",
       "2    0.84806    0.02906    0.69019    0.07539    0.06704    0.12400   \n",
       "3    0.03674    0.02782    0.03731    0.01852    0.02787    0.02626   \n",
       "4    0.14586    0.04181    0.03450    0.03162    0.09569    0.03407   \n",
       "\n",
       "   GSM696051  GSM696052  \n",
       "0    0.68380    0.88365  \n",
       "1    0.80366    0.91518  \n",
       "2    0.59265    0.82164  \n",
       "3    0.04036    0.02370  \n",
       "4    0.03279    0.01979  \n",
       "\n",
       "[5 rows x 1629 columns]"
      ]
     },
     "execution_count": 91,
     "metadata": {},
     "output_type": "execute_result"
    }
   ],
   "source": [
    "genetic_data = get_genetic_data(matrix_file)\n",
    "genetic_data.head()"
   ]
  },
  {
   "cell_type": "code",
   "execution_count": 92,
   "metadata": {
    "ExecuteTime": {
     "end_time": "2023-12-31T21:19:35.590443507Z",
     "start_time": "2023-12-31T21:19:35.536713559Z"
    }
   },
   "outputs": [
    {
     "data": {
      "text/plain": [
       "['AATK_E63_R',\n",
       " 'AATK_P519_R',\n",
       " 'AATK_P709_R',\n",
       " 'ABCA1_E120_R',\n",
       " 'ABCA1_P45_F',\n",
       " 'ABCB4_E429_F',\n",
       " 'ABCB4_P51_F',\n",
       " 'ABCB4_P892_F',\n",
       " 'ABCC2_E16_R',\n",
       " 'ABCC2_P88_F',\n",
       " 'ABCC5_P444_F',\n",
       " 'ABCG2_P178_R',\n",
       " 'ABCG2_P310_R',\n",
       " 'ABL1_P53_F',\n",
       " 'ABL2_P459_R',\n",
       " 'ABO_E110_F',\n",
       " 'ABO_P312_F',\n",
       " 'ACTG2_E98_R',\n",
       " 'ACTG2_P346_F',\n",
       " 'ACTG2_P455_R']"
      ]
     },
     "execution_count": 92,
     "metadata": {},
     "output_type": "execute_result"
    }
   ],
   "source": [
    "gene_row_ids = genetic_data['ID'][:20].tolist()\n",
    "gene_row_ids"
   ]
  },
  {
   "cell_type": "markdown",
   "metadata": {
    "ExecuteTime": {
     "end_time": "2023-12-31T03:30:41.595335164Z",
     "start_time": "2023-12-31T03:30:41.513232329Z"
    }
   },
   "source": [
    "Check if the gene dataset requires mapping to get the gene symbols corresponding to each data row."
   ]
  },
  {
   "cell_type": "markdown",
   "metadata": {},
   "source": [
    "Reference prompt:"
   ]
  },
  {
   "cell_type": "code",
   "execution_count": 93,
   "metadata": {
    "ExecuteTime": {
     "end_time": "2023-12-31T21:19:35.590590427Z",
     "start_time": "2023-12-31T21:19:35.536780517Z"
    },
    "scrolled": true
   },
   "outputs": [
    {
     "data": {
      "text/plain": [
       "\"\\nBelow are the row headers of a gene expression dataset in GEO. Based on your biomedical knowledge, are they human gene symbols, or are they some other identifiers that need to be mapped to gene symbols? Your answer should be concluded by starting a new line and strictly following this format:\\nrequires_gene_mapping = (True or False)\\n\\nRow headers:\\n['AATK_E63_R', 'AATK_P519_R', 'AATK_P709_R', 'ABCA1_E120_R', 'ABCA1_P45_F', 'ABCB4_E429_F', 'ABCB4_P51_F', 'ABCB4_P892_F', 'ABCC2_E16_R', 'ABCC2_P88_F', 'ABCC5_P444_F', 'ABCG2_P178_R', 'ABCG2_P310_R', 'ABL1_P53_F', 'ABL2_P459_R', 'ABO_E110_F', 'ABO_P312_F', 'ACTG2_E98_R', 'ACTG2_P346_F', 'ACTG2_P455_R']\\n\""
      ]
     },
     "execution_count": 93,
     "metadata": {},
     "output_type": "execute_result"
    }
   ],
   "source": [
    "f'''\n",
    "Below are the row headers of a gene expression dataset in GEO. Based on your biomedical knowledge, are they human gene symbols, or are they some other identifiers that need to be mapped to gene symbols? Your answer should be concluded by starting a new line and strictly following this format:\n",
    "requires_gene_mapping = (True or False)\n",
    "\n",
    "Row headers:\n",
    "{gene_row_ids}\n",
    "'''"
   ]
  },
  {
   "cell_type": "markdown",
   "metadata": {},
   "source": [
    "If not required, jump directly to the gene normalization step"
   ]
  },
  {
   "cell_type": "code",
   "execution_count": 94,
   "metadata": {
    "ExecuteTime": {
     "end_time": "2023-12-31T21:19:35.590648558Z",
     "start_time": "2023-12-31T21:19:35.536821375Z"
    }
   },
   "outputs": [],
   "source": [
    "requires_gene_mapping = True"
   ]
  },
  {
   "cell_type": "code",
   "execution_count": 95,
   "metadata": {
    "ExecuteTime": {
     "end_time": "2023-12-31T21:19:35.590695457Z",
     "start_time": "2023-12-31T21:19:35.536910836Z"
    }
   },
   "outputs": [],
   "source": [
    "if requires_gene_mapping:\n",
    "    gene_annotation = get_gene_annotation(soft_file)[0]\n",
    "    gene_annotation_summary = preview_df(gene_annotation)\n",
    "    gene_annotation_summary"
   ]
  },
  {
   "cell_type": "markdown",
   "metadata": {
    "ExecuteTime": {
     "end_time": "2023-12-31T03:58:04.978931927Z",
     "start_time": "2023-12-31T03:58:04.966328339Z"
    }
   },
   "source": [
    "Observe the first few cells in the ID column of the gene annotation dataframe, to find the names of columns that store the gene probe IDs and gene symbols respectively.\n",
    "Reference prompt:"
   ]
  },
  {
   "cell_type": "code",
   "execution_count": 96,
   "metadata": {
    "ExecuteTime": {
     "end_time": "2023-12-31T21:19:35.590742236Z",
     "start_time": "2023-12-31T21:19:35.537050893Z"
    }
   },
   "outputs": [
    {
     "data": {
      "text/plain": [
       "\"\\nAs a biomedical research team, we extracted the gene annotation data from a series in the GEO database, and saved it to a Python dictionary. Please read the dictionary, and decide which key stores the ID of the probe, and which key stores the gene symbols. Please strict follow this format in your answer:\\nprobe_id_key = key_name1\\ngene_symb_key = key_name2\\n\\nGene annotation dictionary:\\n{'ID': ['AATK_E63_R', 'AATK_P519_R', 'AATK_P709_R', 'ABCA1_E120_R', 'ABCA1_P45_F'], 'Gid': ['89041906', '89041906', '89041906', '21536375', '21536375'], 'GB_ACC': ['XM_927215.1', 'XM_927215.1', 'XM_927215.1', 'NM_005502.2', 'NM_005502.2'], 'SPOT_ID': [nan, nan, nan, nan, nan], 'Symbol': ['AATK', 'AATK', 'AATK', 'ABCA1', 'ABCA1'], 'Gene_ID': ['9625', '9625', '9625', '19', '19'], 'Chromosome': ['17', '17', '17', '9', '9'], 'REFSEQ': [36.1, 36.1, 36.1, 36.1, 36.1], 'CpG_Coordinate': [76709831.0, 76710413.0, 76710603.0, 106730137.0, 106730302.0], 'Dist_to_TSS': ['63', '-519', '-709', '120', '-45'], 'CpG_island': ['N', 'Y', 'Y', 'Y', 'Y'], 'SEQUENCE': ['GGGCAGAAGCCAGCTTGATGGCAGACACCT[CG]CCACCAGTAGCAGGCGTGGGAGAGTC', 'GGGGACGTGCCCAGTGGGTCCT[CG]AAGAAGGCAGGACAGAAGGCGG', 'ACGGGTGGCCCGTGGCCCAGCAG[CG]GCTCCATGGCCAGCGAGGCGG', 'ACCGGGGAAAAAACAAGGAGCAAAG[CG]CCCTGAGAACCGGCTCTGTTG', 'AGTTCCTTTTATAGATTCGGCTGCAC[CG]AGCGCAGAGGTTACTATCGGTCAAAGCCT'], 'Synonym': ['.', '.', '.', 'TGD, ABC1, CERP, ABC-1, HDLDT1', 'TGD, ABC1, CERP, ABC-1, HDLDT1'], 'Annotation': ['PREDICTED: Homo sapiens apoptosis-associated tyrosine kinase (AATK), mRNA.', 'PREDICTED: Homo sapiens apoptosis-associated tyrosine kinase (AATK), mRNA.', 'PREDICTED: Homo sapiens apoptosis-associated tyrosine kinase (AATK), mRNA.', 'Homo sapiens ATP-binding cassette, sub-family A (ABC1), member 1 (ABCA1), mRNA.', 'Homo sapiens ATP-binding cassette, sub-family A (ABC1), member 1 (ABCA1), mRNA.'], 'Product': ['apoptosis-associated tyrosine kinase', 'apoptosis-associated tyrosine kinase', 'apoptosis-associated tyrosine kinase', 'ATP-binding cassette, sub-family A member 1', 'ATP-binding cassette, sub-family A member 1'], 'cg_no': ['cg05292376', 'cg17279079', 'cg02979355', 'cg24415731', 'cg26272837']}\\n\""
      ]
     },
     "execution_count": 96,
     "metadata": {},
     "output_type": "execute_result"
    }
   ],
   "source": [
    "# if requires_gene_mapping:\n",
    "f'''\n",
    "As a biomedical research team, we extracted the gene annotation data from a series in the GEO database, and saved it to a Python dictionary. Please read the dictionary, and decide which key stores the ID of the probe, and which key stores the gene symbols. Please strict follow this format in your answer:\n",
    "probe_id_key = key_name1\n",
    "gene_symb_key = key_name2\n",
    "\n",
    "Gene annotation dictionary:\n",
    "{gene_annotation_summary}\n",
    "'''"
   ]
  },
  {
   "cell_type": "code",
   "execution_count": 97,
   "metadata": {
    "ExecuteTime": {
     "end_time": "2023-12-31T21:19:35.590786881Z",
     "start_time": "2023-12-31T21:19:35.537132859Z"
    }
   },
   "outputs": [],
   "source": [
    "if requires_gene_mapping:\n",
    "    probe_id_key = 'ID'\n",
    "    gene_symb_key = 'Symbol'\n",
    "    gene_mapping = get_gene_mapping(gene_annotation, probe_id_key, gene_symb_key)\n",
    "    genetic_data = apply_gene_mapping(genetic_data, gene_mapping)"
   ]
  },
  {
   "cell_type": "code",
   "execution_count": 98,
   "metadata": {
    "ExecuteTime": {
     "end_time": "2023-12-31T21:19:35.590837318Z",
     "start_time": "2023-12-31T21:19:35.537209586Z"
    }
   },
   "outputs": [
    {
     "name": "stderr",
     "output_type": "stream",
     "text": [
      "1 input query terms found dup hits:\t[('LY6G6E', 8)]\n",
      "47 input query terms found no hit:\t['BIRC4', 'CARD15', 'CSPG2', 'CTGF', 'DBC1', 'DKFZP564O0823', 'DNMT2', 'EMR3', 'EVI1', 'FAT', 'FVT1'\n"
     ]
    }
   ],
   "source": [
    "if NORMALIZE_GENE:\n",
    "    genetic_data = normalize_gene_symbols_in_index(genetic_data)"
   ]
  },
  {
   "cell_type": "code",
   "execution_count": 99,
   "metadata": {
    "ExecuteTime": {
     "end_time": "2023-12-31T21:19:35.590902191Z",
     "start_time": "2023-12-31T21:19:35.537285901Z"
    }
   },
   "outputs": [],
   "source": [
    "merged_data = geo_merge_clinical_genetic_data(selected_clinical_data, genetic_data)\n",
    "# The preprocessing runs through, which means is_available should be True\n",
    "is_available = True"
   ]
  },
  {
   "cell_type": "code",
   "execution_count": 100,
   "metadata": {
    "ExecuteTime": {
     "end_time": "2023-12-31T21:19:35.591095170Z",
     "start_time": "2023-12-31T21:19:35.538708445Z"
    }
   },
   "outputs": [
    {
     "name": "stdout",
     "output_type": "stream",
     "text": [
      "The merged dataset contains 1261 samples.\n"
     ]
    }
   ],
   "source": [
    "print(f\"The merged dataset contains {len(merged_data)} samples.\")"
   ]
  },
  {
   "cell_type": "code",
   "execution_count": 101,
   "metadata": {
    "ExecuteTime": {
     "end_time": "2023-12-31T21:19:35.610849182Z",
     "start_time": "2023-12-31T21:19:35.541210258Z"
    }
   },
   "outputs": [
    {
     "name": "stdout",
     "output_type": "stream",
     "text": [
      "For the feature 'Testicular Cancer', the least common label is '0.0' with 1261 occurrences. This represents 100.00% of the dataset.\n",
      "The distribution of the feature 'Testicular Cancer' in this dataset is severely biased.\n",
      "\n",
      "Quartiles for 'Age':\n",
      "  25%: 47.0\n",
      "  50% (Median): 62.0\n",
      "  75%: 72.0\n",
      "Min: 0.0\n",
      "Max: 106.0\n",
      "The distribution of the feature 'Age' in this dataset is fine.\n",
      "\n",
      "For the feature 'Gender', the least common label is '0.0' with 617 occurrences. This represents 48.93% of the dataset.\n",
      "The distribution of the feature 'Gender' in this dataset is fine.\n",
      "\n"
     ]
    },
    {
     "data": {
      "text/plain": [
       "True"
      ]
     },
     "execution_count": 101,
     "metadata": {},
     "output_type": "execute_result"
    }
   ],
   "source": [
    "is_trait_biased, merged_data = judge_and_remove_biased_features(merged_data, TRAIT, trait_type=trait_type)\n",
    "is_trait_biased"
   ]
  },
  {
   "cell_type": "code",
   "execution_count": 102,
   "metadata": {
    "ExecuteTime": {
     "end_time": "2023-12-31T21:19:35.610923234Z",
     "start_time": "2023-12-31T21:19:35.584848473Z"
    }
   },
   "outputs": [],
   "source": [
    "save_cohort_info(cohort, JSON_PATH, is_available, is_trait_biased, merged_data)"
   ]
  },
  {
   "cell_type": "code",
   "execution_count": 103,
   "metadata": {
    "ExecuteTime": {
     "end_time": "2023-12-31T21:19:35.610970734Z",
     "start_time": "2023-12-31T21:19:35.585042694Z"
    }
   },
   "outputs": [],
   "source": [
    "merged_data.head()\n",
    "if not is_trait_biased:\n",
    "    merged_data.to_csv(os.path.join(OUTPUT_DIR, cohort+'.csv'), index=False)"
   ]
  },
  {
   "cell_type": "markdown",
   "metadata": {
    "ExecuteTime": {
     "end_time": "2023-12-31T03:58:22.271683755Z",
     "start_time": "2023-12-31T03:58:22.246557674Z"
    },
    "id": "-MTPhRGxJV7I"
   },
   "source": [
    "### 3. Do regression & Cross Validation"
   ]
  },
  {
   "cell_type": "code",
   "execution_count": 111,
   "metadata": {
    "ExecuteTime": {
     "end_time": "2023-12-31T21:19:44.459442087Z",
     "start_time": "2023-12-31T21:19:44.416219648Z"
    }
   },
   "outputs": [],
   "source": [
    "best_cohort, ranked_df = filter_and_rank_cohorts(JSON_PATH, 'has_age')\n",
    "best_cohort"
   ]
  },
  {
   "cell_type": "code",
   "execution_count": 112,
   "metadata": {
    "ExecuteTime": {
     "end_time": "2023-12-31T21:19:44.808945960Z",
     "start_time": "2023-12-31T21:19:44.799467072Z"
    }
   },
   "outputs": [
    {
     "data": {
      "text/html": [
       "<div>\n",
       "<style scoped>\n",
       "    .dataframe tbody tr th:only-of-type {\n",
       "        vertical-align: middle;\n",
       "    }\n",
       "\n",
       "    .dataframe tbody tr th {\n",
       "        vertical-align: top;\n",
       "    }\n",
       "\n",
       "    .dataframe thead th {\n",
       "        text-align: right;\n",
       "    }\n",
       "</style>\n",
       "<table border=\"1\" class=\"dataframe\">\n",
       "  <thead>\n",
       "    <tr style=\"text-align: right;\">\n",
       "      <th></th>\n",
       "      <th>cohort_id</th>\n",
       "      <th>is_usable</th>\n",
       "      <th>is_available</th>\n",
       "      <th>is_biased</th>\n",
       "      <th>has_age</th>\n",
       "      <th>has_gender</th>\n",
       "      <th>sample_size</th>\n",
       "      <th>note</th>\n",
       "    </tr>\n",
       "  </thead>\n",
       "  <tbody>\n",
       "  </tbody>\n",
       "</table>\n",
       "</div>"
      ],
      "text/plain": [
       "Empty DataFrame\n",
       "Columns: [cohort_id, is_usable, is_available, is_biased, has_age, has_gender, sample_size, note]\n",
       "Index: []"
      ]
     },
     "execution_count": 112,
     "metadata": {},
     "output_type": "execute_result"
    }
   ],
   "source": [
    "ranked_df.head()"
   ]
  },
  {
   "cell_type": "code",
   "execution_count": 155,
   "metadata": {
    "ExecuteTime": {
     "end_time": "2023-12-31T21:19:52.222719978Z",
     "start_time": "2023-12-31T21:19:45.162873006Z"
    }
   },
   "outputs": [
    {
     "ename": "TypeError",
     "evalue": "unsupported operand type(s) for +: 'NoneType' and 'str'",
     "output_type": "error",
     "traceback": [
      "\u001b[0;31m---------------------------------------------------------------------------\u001b[0m",
      "\u001b[0;31mTypeError\u001b[0m                                 Traceback (most recent call last)",
      "Cell \u001b[0;32mIn[155], line 1\u001b[0m\n\u001b[0;32m----> 1\u001b[0m merged_data \u001b[38;5;241m=\u001b[39m pd\u001b[38;5;241m.\u001b[39mread_csv(os\u001b[38;5;241m.\u001b[39mpath\u001b[38;5;241m.\u001b[39mjoin(OUTPUT_DIR, best_cohort\u001b[38;5;241m+\u001b[39m\u001b[38;5;124m'\u001b[39m\u001b[38;5;124m.csv\u001b[39m\u001b[38;5;124m'\u001b[39m))\n",
      "\u001b[0;31mTypeError\u001b[0m: unsupported operand type(s) for +: 'NoneType' and 'str'"
     ]
    }
   ],
   "source": [
    "merged_data = pd.read_csv(os.path.join(OUTPUT_DIR, best_cohort+'.csv'))"
   ]
  },
  {
   "cell_type": "code",
   "execution_count": 195,
   "metadata": {
    "ExecuteTime": {
     "end_time": "2023-12-31T21:19:52.234945878Z",
     "start_time": "2023-12-31T21:19:52.231604618Z"
    }
   },
   "outputs": [
    {
     "data": {
      "text/html": [
       "<div>\n",
       "<style scoped>\n",
       "    .dataframe tbody tr th:only-of-type {\n",
       "        vertical-align: middle;\n",
       "    }\n",
       "\n",
       "    .dataframe tbody tr th {\n",
       "        vertical-align: top;\n",
       "    }\n",
       "\n",
       "    .dataframe thead th {\n",
       "        text-align: right;\n",
       "    }\n",
       "</style>\n",
       "<table border=\"1\" class=\"dataframe\">\n",
       "  <thead>\n",
       "    <tr style=\"text-align: right;\">\n",
       "      <th></th>\n",
       "      <th>Thyroid Cancer</th>\n",
       "      <th>Age</th>\n",
       "      <th>Gender</th>\n",
       "      <th>ARHGEF10L</th>\n",
       "      <th>HIF3A</th>\n",
       "      <th>RNF17</th>\n",
       "      <th>RNF10</th>\n",
       "      <th>RNF11</th>\n",
       "      <th>RNF13</th>\n",
       "      <th>GTF2IP1</th>\n",
       "      <th>...</th>\n",
       "      <th>TULP2</th>\n",
       "      <th>NPY5R</th>\n",
       "      <th>GNGT2</th>\n",
       "      <th>GNGT1</th>\n",
       "      <th>TULP3</th>\n",
       "      <th>PTRF</th>\n",
       "      <th>BCL6B</th>\n",
       "      <th>GSTK1</th>\n",
       "      <th>SELP</th>\n",
       "      <th>SELS</th>\n",
       "    </tr>\n",
       "  </thead>\n",
       "  <tbody>\n",
       "    <tr>\n",
       "      <th>0</th>\n",
       "      <td>1</td>\n",
       "      <td>74</td>\n",
       "      <td>0</td>\n",
       "      <td>-0.767592</td>\n",
       "      <td>-1.742926</td>\n",
       "      <td>-0.531035</td>\n",
       "      <td>-0.067972</td>\n",
       "      <td>0.265922</td>\n",
       "      <td>-0.13531</td>\n",
       "      <td>0.440006</td>\n",
       "      <td>...</td>\n",
       "      <td>-0.748878</td>\n",
       "      <td>-1.018517</td>\n",
       "      <td>0.205567</td>\n",
       "      <td>-1.28139</td>\n",
       "      <td>0.395523</td>\n",
       "      <td>1.735414</td>\n",
       "      <td>0.945273</td>\n",
       "      <td>-0.186695</td>\n",
       "      <td>4.024767</td>\n",
       "      <td>-0.273612</td>\n",
       "    </tr>\n",
       "    <tr>\n",
       "      <th>1</th>\n",
       "      <td>1</td>\n",
       "      <td>65</td>\n",
       "      <td>1</td>\n",
       "      <td>1.766308</td>\n",
       "      <td>0.273374</td>\n",
       "      <td>-0.531035</td>\n",
       "      <td>0.790028</td>\n",
       "      <td>1.209322</td>\n",
       "      <td>0.01229</td>\n",
       "      <td>0.704606</td>\n",
       "      <td>...</td>\n",
       "      <td>0.125322</td>\n",
       "      <td>1.568883</td>\n",
       "      <td>0.626367</td>\n",
       "      <td>2.38101</td>\n",
       "      <td>0.275823</td>\n",
       "      <td>1.820014</td>\n",
       "      <td>2.140073</td>\n",
       "      <td>1.380405</td>\n",
       "      <td>1.257367</td>\n",
       "      <td>-0.174312</td>\n",
       "    </tr>\n",
       "    <tr>\n",
       "      <th>2</th>\n",
       "      <td>1</td>\n",
       "      <td>55</td>\n",
       "      <td>1</td>\n",
       "      <td>0.986808</td>\n",
       "      <td>-2.165726</td>\n",
       "      <td>-0.050935</td>\n",
       "      <td>0.051428</td>\n",
       "      <td>0.979522</td>\n",
       "      <td>0.48229</td>\n",
       "      <td>0.090106</td>\n",
       "      <td>...</td>\n",
       "      <td>-0.748878</td>\n",
       "      <td>-0.747417</td>\n",
       "      <td>-0.931133</td>\n",
       "      <td>-1.28139</td>\n",
       "      <td>-0.222077</td>\n",
       "      <td>0.293414</td>\n",
       "      <td>0.725173</td>\n",
       "      <td>-0.254095</td>\n",
       "      <td>0.530667</td>\n",
       "      <td>-0.430812</td>\n",
       "    </tr>\n",
       "    <tr>\n",
       "      <th>3</th>\n",
       "      <td>1</td>\n",
       "      <td>57</td>\n",
       "      <td>1</td>\n",
       "      <td>0.767208</td>\n",
       "      <td>-1.623626</td>\n",
       "      <td>-0.531035</td>\n",
       "      <td>0.182228</td>\n",
       "      <td>0.541622</td>\n",
       "      <td>0.65889</td>\n",
       "      <td>0.647206</td>\n",
       "      <td>...</td>\n",
       "      <td>-0.748878</td>\n",
       "      <td>-1.587117</td>\n",
       "      <td>-1.292433</td>\n",
       "      <td>-1.28139</td>\n",
       "      <td>-0.602177</td>\n",
       "      <td>0.134114</td>\n",
       "      <td>0.894473</td>\n",
       "      <td>-0.380395</td>\n",
       "      <td>-2.502833</td>\n",
       "      <td>0.360588</td>\n",
       "    </tr>\n",
       "    <tr>\n",
       "      <th>4</th>\n",
       "      <td>1</td>\n",
       "      <td>33</td>\n",
       "      <td>0</td>\n",
       "      <td>-0.287292</td>\n",
       "      <td>-1.766626</td>\n",
       "      <td>-0.531035</td>\n",
       "      <td>0.059628</td>\n",
       "      <td>0.920522</td>\n",
       "      <td>0.21849</td>\n",
       "      <td>0.336106</td>\n",
       "      <td>...</td>\n",
       "      <td>-0.413778</td>\n",
       "      <td>1.111583</td>\n",
       "      <td>1.158867</td>\n",
       "      <td>-1.28139</td>\n",
       "      <td>0.003723</td>\n",
       "      <td>1.240514</td>\n",
       "      <td>0.924373</td>\n",
       "      <td>-0.143495</td>\n",
       "      <td>2.613367</td>\n",
       "      <td>-0.030012</td>\n",
       "    </tr>\n",
       "  </tbody>\n",
       "</table>\n",
       "<p>5 rows × 20533 columns</p>\n",
       "</div>"
      ],
      "text/plain": [
       "   Thyroid Cancer  Age  Gender  ARHGEF10L     HIF3A     RNF17     RNF10  \\\n",
       "0               1   74       0  -0.767592 -1.742926 -0.531035 -0.067972   \n",
       "1               1   65       1   1.766308  0.273374 -0.531035  0.790028   \n",
       "2               1   55       1   0.986808 -2.165726 -0.050935  0.051428   \n",
       "3               1   57       1   0.767208 -1.623626 -0.531035  0.182228   \n",
       "4               1   33       0  -0.287292 -1.766626 -0.531035  0.059628   \n",
       "\n",
       "      RNF11    RNF13   GTF2IP1  ...     TULP2     NPY5R     GNGT2    GNGT1  \\\n",
       "0  0.265922 -0.13531  0.440006  ... -0.748878 -1.018517  0.205567 -1.28139   \n",
       "1  1.209322  0.01229  0.704606  ...  0.125322  1.568883  0.626367  2.38101   \n",
       "2  0.979522  0.48229  0.090106  ... -0.748878 -0.747417 -0.931133 -1.28139   \n",
       "3  0.541622  0.65889  0.647206  ... -0.748878 -1.587117 -1.292433 -1.28139   \n",
       "4  0.920522  0.21849  0.336106  ... -0.413778  1.111583  1.158867 -1.28139   \n",
       "\n",
       "      TULP3      PTRF     BCL6B     GSTK1      SELP      SELS  \n",
       "0  0.395523  1.735414  0.945273 -0.186695  4.024767 -0.273612  \n",
       "1  0.275823  1.820014  2.140073  1.380405  1.257367 -0.174312  \n",
       "2 -0.222077  0.293414  0.725173 -0.254095  0.530667 -0.430812  \n",
       "3 -0.602177  0.134114  0.894473 -0.380395 -2.502833  0.360588  \n",
       "4  0.003723  1.240514  0.924373 -0.143495  2.613367 -0.030012  \n",
       "\n",
       "[5 rows x 20533 columns]"
      ]
     },
     "execution_count": 195,
     "metadata": {},
     "output_type": "execute_result"
    }
   ],
   "source": [
    "merged_data.head()"
   ]
  },
  {
   "cell_type": "code",
   "execution_count": 198,
   "metadata": {
    "ExecuteTime": {
     "end_time": "2023-12-31T21:19:52.312540150Z",
     "start_time": "2023-12-31T21:19:52.235772334Z"
    }
   },
   "outputs": [],
   "source": [
    "# If both age and gender features are available, select 'age' as the condition.\n",
    "condition = 'Age'\n",
    "# Remove the other condition to prevent interference.\n",
    "merged_data = merged_data.drop(columns=['Gender'], errors='ignore').astype('float')"
   ]
  },
  {
   "cell_type": "code",
   "execution_count": 199,
   "metadata": {
    "ExecuteTime": {
     "end_time": "2023-12-31T21:19:52.323468266Z",
     "start_time": "2023-12-31T21:19:52.290903989Z"
    }
   },
   "outputs": [],
   "source": [
    "X = merged_data.drop(columns=[TRAIT, condition]).values\n",
    "Y = merged_data[TRAIT].values\n",
    "Z = merged_data[condition].values"
   ]
  },
  {
   "cell_type": "markdown",
   "metadata": {},
   "source": [
    "Select the appropriate regression model depending on whether the dataset shows batch effect."
   ]
  },
  {
   "cell_type": "code",
   "execution_count": 200,
   "metadata": {
    "ExecuteTime": {
     "end_time": "2023-12-31T21:20:00.930840782Z",
     "start_time": "2023-12-31T21:19:52.319092572Z"
    }
   },
   "outputs": [
    {
     "data": {
      "text/plain": [
       "True"
      ]
     },
     "execution_count": 200,
     "metadata": {},
     "output_type": "execute_result"
    }
   ],
   "source": [
    "has_batch_effect = detect_batch_effect(X)\n",
    "has_batch_effect"
   ]
  },
  {
   "cell_type": "code",
   "execution_count": 201,
   "metadata": {
    "ExecuteTime": {
     "end_time": "2023-12-31T21:20:00.931029722Z",
     "start_time": "2023-12-31T21:20:00.929710828Z"
    }
   },
   "outputs": [],
   "source": [
    "if has_batch_effect:\n",
    "    model_constructor = VariableSelection\n",
    "    model_params = {}\n",
    "else:\n",
    "    model_constructor = Lasso\n",
    "    model_params = {'alpha': 1.0, 'random_state': 42}"
   ]
  },
  {
   "cell_type": "code",
   "execution_count": 202,
   "metadata": {
    "ExecuteTime": {
     "end_time": "2023-12-31T21:20:20.709459824Z",
     "start_time": "2023-12-31T21:20:00.931657949Z"
    }
   },
   "outputs": [
    {
     "name": "stderr",
     "output_type": "stream",
     "text": [
      "/Users/ollie/anaconda3/lib/python3.11/site-packages/sparse_lmm/helpingMethods.py:49: RuntimeWarning: invalid value encountered in divide\n",
      "  ts = beta / np.sqrt(var * sigma)\n",
      "/Users/ollie/anaconda3/lib/python3.11/site-packages/sparse_lmm/helpingMethods.py:49: RuntimeWarning: invalid value encountered in divide\n",
      "  ts = beta / np.sqrt(var * sigma)\n",
      "/Users/ollie/anaconda3/lib/python3.11/site-packages/sparse_lmm/helpingMethods.py:49: RuntimeWarning: invalid value encountered in divide\n",
      "  ts = beta / np.sqrt(var * sigma)\n",
      "/Users/ollie/anaconda3/lib/python3.11/site-packages/sparse_lmm/helpingMethods.py:49: RuntimeWarning: invalid value encountered in divide\n",
      "  ts = beta / np.sqrt(var * sigma)\n",
      "/Users/ollie/anaconda3/lib/python3.11/site-packages/sparse_lmm/helpingMethods.py:49: RuntimeWarning: invalid value encountered in divide\n",
      "  ts = beta / np.sqrt(var * sigma)\n"
     ]
    },
    {
     "name": "stdout",
     "output_type": "stream",
     "text": [
      "The cross-validation accuracy is 83.16% ± 5.64%\n"
     ]
    }
   ],
   "source": [
    "cv_mean, cv_std = cross_validation(X, Y, Z, model_constructor, model_params, target_type=trait_type)"
   ]
  },
  {
   "cell_type": "code",
   "execution_count": 203,
   "metadata": {
    "ExecuteTime": {
     "end_time": "2023-12-31T21:20:24.980870159Z",
     "start_time": "2023-12-31T21:20:20.516710807Z"
    }
   },
   "outputs": [
    {
     "name": "stderr",
     "output_type": "stream",
     "text": [
      "/Users/ollie/anaconda3/lib/python3.11/site-packages/sparse_lmm/helpingMethods.py:49: RuntimeWarning: invalid value encountered in divide\n",
      "  ts = beta / np.sqrt(var * sigma)\n"
     ]
    }
   ],
   "source": [
    "# Train regression model on the whole dataset to identify significant genes\n",
    "model = ResidualizationRegressor(model_constructor, model_params)\n",
    "normalized_X, _ = normalize_data(X)\n",
    "normalized_Z, _ = normalize_data(Z)\n",
    "model.fit(normalized_X, Y, normalized_Z)"
   ]
  },
  {
   "cell_type": "markdown",
   "metadata": {
    "ExecuteTime": {
     "end_time": "2023-10-14T04:50:59.072075075Z",
     "start_time": "2023-10-14T04:50:38.739499998Z"
    },
    "id": "EjJrxbvb4nlj"
   },
   "source": [
    "### 5. Discussion and report"
   ]
  },
  {
   "cell_type": "code",
   "execution_count": 204,
   "metadata": {
    "ExecuteTime": {
     "end_time": "2023-12-31T21:20:25.000830410Z",
     "start_time": "2023-12-31T21:20:24.982834541Z"
    }
   },
   "outputs": [
    {
     "name": "stdout",
     "output_type": "stream",
     "text": [
      "Effect of the condition on the target variable:\n",
      "Variable: Age\n",
      "Coefficient: 0.0112\n",
      "Found 100 significant genes associated with the trait 'Thyroid Cancer' conditional on the factor 'Age', with corrected p-value < 0.05:\n",
      "   Variable  Coefficient  corrected_p_value\n",
      "     GABRB2     0.199853       9.445009e-24\n",
      "       LRP4     0.153916       3.454747e-11\n",
      "    SHROOM4     0.150237       3.783756e-09\n",
      "      HMGA2     0.122833       4.533386e-08\n",
      "       EPS8     0.148314       3.922968e-07\n",
      "    KLHDC8A     0.103442       3.996388e-07\n",
      "       LIPH     0.126974       5.203673e-07\n",
      "      MPZL2     0.123835       7.878797e-07\n",
      "      GABRD     0.085857       3.424810e-06\n",
      "       GJB3     0.104297       7.705250e-06\n",
      "   C6orf168     0.106365       1.189886e-05\n",
      "        FN1     0.142549       1.760688e-05\n",
      "      KCNQ3     0.132879       2.031323e-05\n",
      "      GRHL3     0.103693       2.317901e-05\n",
      "    ZCCHC12     0.091659       3.351467e-05\n",
      "     ACTBL2     0.094812       6.476432e-05\n",
      "      SYT12     0.127073       8.248756e-05\n",
      "    METTL7B     0.102223       8.845054e-05\n",
      "   C6orf138     0.064603       9.904802e-05\n",
      "      CTXN1     0.105551       3.233898e-04\n",
      "      PLCD3     0.113021       3.909052e-04\n",
      "      PVRL4     0.114387       3.909052e-04\n",
      "     CDKN2B     0.065257       3.978743e-04\n",
      "       GLS2     0.082425       4.831588e-04\n",
      "       CSF2     0.084641       5.549598e-04\n",
      "       CPT2     0.074323       5.937739e-04\n",
      "     TMEM8C     0.036047       6.183523e-04\n",
      "     STK32A     0.073158       7.026420e-04\n",
      "       CDH6     0.081873       8.081472e-04\n",
      "    PLEKHN1     0.092362       8.523882e-04\n",
      "     FAM84A     0.065792       8.523882e-04\n",
      "       IRX4    -0.034751       1.128374e-03\n",
      "     GOLT1A     0.081213       1.128374e-03\n",
      "     ADRA1B     0.056606       1.128374e-03\n",
      "       GALE     0.117215       1.154715e-03\n",
      "   SNORA11E     0.034012       1.247804e-03\n",
      "       XKRX     0.065774       2.524043e-03\n",
      "      CDH13     0.057717       2.524043e-03\n",
      "      DOCK9     0.113009       3.762709e-03\n",
      "      PRR15     0.074195       3.806978e-03\n",
      "  LOC400794     0.080408       4.110989e-03\n",
      "     PHLDA3     0.079714       4.363095e-03\n",
      "    ADAMTS9     0.067113       4.404174e-03\n",
      "     ATPAF1     0.068504       4.879509e-03\n",
      "     ACSM2B    -0.038055       4.879509e-03\n",
      "    COL13A1     0.057927       6.002172e-03\n",
      "     PTP4A3     0.071456       6.002172e-03\n",
      "      ACER2     0.090176       6.255782e-03\n",
      "        INS    -0.028995       7.655848e-03\n",
      "   SNORA71C     0.027043       7.803120e-03\n",
      "    PLEKHA6    -0.064583       9.827137e-03\n",
      "     ENTPD1     0.057195       9.827137e-03\n",
      "      DUSP6     0.078752       9.827137e-03\n",
      "       RXRG     0.072075       9.827137e-03\n",
      "       SDC4     0.108154       1.050799e-02\n",
      "SNORD116-20    -0.044474       1.050799e-02\n",
      "      SYTL5     0.066324       1.050799e-02\n",
      "     ELOVL5    -0.058228       1.079067e-02\n",
      "     GALNT7     0.097652       1.115634e-02\n",
      "      ACCSL    -0.023081       1.158859e-02\n",
      "       NPC2     0.086596       1.261155e-02\n",
      "      MYEF2     0.058908       1.362345e-02\n",
      "     GABRA2    -0.028071       1.492404e-02\n",
      "       NGEF     0.064199       1.696571e-02\n",
      "       ETV4     0.065601       1.737360e-02\n",
      "     TMEM92     0.059671       2.013921e-02\n",
      "  TNFRSF10C     0.041236       2.014835e-02\n",
      "   SCARNA23     0.024189       2.048147e-02\n",
      "       TGFA     0.076997       2.263781e-02\n",
      "    TMPRSS6     0.081293       2.263781e-02\n",
      "      CLDN1     0.077079       2.263781e-02\n",
      "       NOD1     0.105072       2.263781e-02\n",
      "     PLXND1     0.070931       2.454117e-02\n",
      "   C12orf69     0.035480       2.730997e-02\n",
      "     MAGEB6    -0.024154       2.916878e-02\n",
      "     RPS27L     0.053936       3.037034e-02\n",
      "    SERINC2     0.065550       3.108738e-02\n",
      "    TMPRSS4     0.076835       3.110649e-02\n",
      "     SLC9A5     0.058166       3.110649e-02\n",
      "    TFCP2L1     0.073406       3.110649e-02\n",
      "      SLIT1     0.046413       3.110649e-02\n",
      "       BBC3     0.060568       3.110649e-02\n",
      "    DENND2A    -0.046341       3.110649e-02\n",
      "        F2R     0.054558       3.110649e-02\n",
      "     CLDN10     0.059617       3.124546e-02\n",
      "      FGF10    -0.040002       3.134473e-02\n",
      "     ITGA10     0.042926       3.134473e-02\n",
      "    SLC6A15    -0.047116       3.134473e-02\n",
      "      EDA2R     0.045361       3.138542e-02\n",
      "     SRCIN1     0.056393       3.253846e-02\n",
      "       DPP4     0.070001       3.366826e-02\n",
      "    TMEM215     0.049205       3.553350e-02\n",
      "      TRPC4     0.046801       3.627191e-02\n",
      "    RPSAP52     0.056997       3.641200e-02\n",
      "        CIT     0.036022       3.701246e-02\n",
      "      OR6F1     0.022945       4.161429e-02\n",
      "       COMP     0.043448       4.348080e-02\n",
      "      PROS1     0.093119       4.413354e-02\n",
      "       CDH3     0.070796       4.504393e-02\n",
      "       UPP1     0.074745       4.504393e-02\n"
     ]
    },
    {
     "name": "stderr",
     "output_type": "stream",
     "text": [
      "/Users/ollie/Documents/JupyterProjects/AI4Science_gold_standard/stage1/Jinglin/utils.py:425: SettingWithCopyWarning: \n",
      "A value is trying to be set on a copy of a slice from a DataFrame.\n",
      "Try using .loc[row_indexer,col_indexer] = value instead\n",
      "\n",
      "See the caveats in the documentation: https://pandas.pydata.org/pandas-docs/stable/user_guide/indexing.html#returning-a-view-versus-a-copy\n",
      "  gene_regression_df.loc[:, 'corrected_p_value'] = corrected_p_values\n"
     ]
    }
   ],
   "source": [
    "feature_cols = merged_data.columns.tolist()\n",
    "feature_cols.remove(TRAIT)\n",
    "\n",
    "if has_batch_effect:\n",
    "    report_result_from_lmm(model, feature_cols, TRAIT, condition, threshold=0.05, save_output=True,\n",
    "                           output_dir=OUTPUT_DIR)\n",
    "else:\n",
    "    report_result_from_lasso(model, feature_cols, TRAIT, condition, save_output=True, output_dir=OUTPUT_DIR)"
   ]
  },
  {
   "cell_type": "code",
   "execution_count": null,
   "metadata": {},
   "outputs": [],
   "source": []
  }
 ],
 "metadata": {
  "colab": {
   "provenance": []
  },
  "kernelspec": {
   "display_name": "Python 3 (ipykernel)",
   "language": "python",
   "name": "python3"
  },
  "language_info": {
   "codemirror_mode": {
    "name": "ipython",
    "version": 3
   },
   "file_extension": ".py",
   "mimetype": "text/x-python",
   "name": "python",
   "nbconvert_exporter": "python",
   "pygments_lexer": "ipython3",
   "version": "3.11.4"
  }
 },
 "nbformat": 4,
 "nbformat_minor": 1
}
