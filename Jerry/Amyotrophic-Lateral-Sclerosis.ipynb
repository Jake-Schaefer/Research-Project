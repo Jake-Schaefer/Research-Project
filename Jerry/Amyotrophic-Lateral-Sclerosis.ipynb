{
 "cells": [
  {
   "cell_type": "markdown",
   "metadata": {
    "collapsed": false
   },
   "source": [
    "# Gold standard curation: Preprocessing and single-step regression"
   ]
  },
  {
   "cell_type": "markdown",
   "metadata": {
    "collapsed": false
   },
   "source": [
    "In this stage of gold standard curation, we will do the data preprocessing, selection, and single-step regression for the 153 traits in our question set. This file shows the reference steps using the trait \"Breast Cancer\" as an example. The workflow consists of the following steps:\n",
    "\n",
    "1. Preprocess all the cohorts related to this trait. Each cohort should be converted to a tabular form and saved to a csv file, with columns being genetic factors, the trait, and age, gender if available;\n",
    "2. If there exists at least one cohort with age or gender information, conduct regression analysis with genetic features together with age or gender as the regressors.\n"
   ]
  },
  {
   "cell_type": "code",
   "execution_count": 1,
   "metadata": {},
   "outputs": [],
   "source": [
    "import os\n",
    "import mygene\n",
    "import io\n",
    "import re\n",
    "import pandas as pd\n",
    "import gzip\n",
    "import numpy as np\n",
    "from typing import Optional, List, Tuple, Union, Any\n",
    "import json\n",
    "from sparse_lmm import VariableSelection\n",
    "from sklearn.linear_model import Lasso, LogisticRegression\n",
    "from sklearn.metrics import accuracy_score, mean_squared_error\n",
    "from typing import Callable, Optional, List, Tuple, Union, Any\n",
    "from statsmodels.stats.multitest import multipletests\n",
    "\n",
    "def get_relevant_filepaths(cohort_dir):\n",
    "    \"\"\"Find the file paths of a SOFT file and a matrix file from the given data directory of a cohort.\n",
    "    If there are multiple SOFT files or matrix files, simply choose the first one. May be replaced by better\n",
    "    strategies later.\n",
    "    \"\"\"\n",
    "    files = os.listdir(cohort_dir)\n",
    "    soft_files = [f for f in files if 'soft' in f.lower()]\n",
    "    matrix_files = [f for f in files if 'matrix' in f.lower()]\n",
    "    assert len(soft_files) > 0 and len(matrix_files) > 0\n",
    "    soft_file_path = os.path.join(cohort_dir, soft_files[0])\n",
    "    matrix_file_path = os.path.join(cohort_dir, matrix_files[0])\n",
    "\n",
    "    return soft_file_path, matrix_file_path\n",
    "\n",
    "def line_generator(source, source_type):\n",
    "    \"\"\"Generator that yields lines from a file or a string.\n",
    "\n",
    "    Parameters:\n",
    "    - source: File path or string content.\n",
    "    - source_type: 'file' or 'string'.\n",
    "    \"\"\"\n",
    "    if source_type == 'file':\n",
    "        with gzip.open(source, 'rt') as f:\n",
    "            for line in f:\n",
    "                yield line.strip()\n",
    "    elif source_type == 'string':\n",
    "        for line in source.split('\\n'):\n",
    "            yield line.strip()\n",
    "    else:\n",
    "        raise ValueError(\"source_type must be 'file' or 'string'\")\n",
    "\n",
    "def filter_content_by_prefix(\n",
    "    source: str,\n",
    "    prefixes_a: List[str],\n",
    "    prefixes_b: Optional[List[str]] = None,\n",
    "    unselect: bool = False,\n",
    "    source_type: str = 'file',\n",
    "    return_df_a: bool = True,\n",
    "    return_df_b: bool = True\n",
    ") -> Tuple[Union[str, pd.DataFrame], Optional[Union[str, pd.DataFrame]]]:\n",
    "    \"\"\"\n",
    "    Filters rows from a file or a list of strings based on specified prefixes.\n",
    "\n",
    "    Parameters:\n",
    "    - source (str): File path or string content to filter.\n",
    "    - prefixes_a (List[str]): Primary list of prefixes to filter by.\n",
    "    - prefixes_b (Optional[List[str]]): Optional secondary list of prefixes to filter by.\n",
    "    - unselect (bool): If True, selects rows that do not start with the specified prefixes.\n",
    "    - source_type (str): 'file' if source is a file path, 'string' if source is a string of text.\n",
    "    - return_df_a (bool): If True, returns filtered content for prefixes_a as a pandas DataFrame.\n",
    "    - return_df_b (bool): If True, and if prefixes_b is provided, returns filtered content for prefixes_b as a pandas DataFrame.\n",
    "\n",
    "    Returns:\n",
    "    - Tuple: A tuple where the first element is the filtered content for prefixes_a, and the second element is the filtered content for prefixes_b.\n",
    "    \"\"\"\n",
    "    filtered_lines_a = []\n",
    "    filtered_lines_b = []\n",
    "    prefix_set_a = set(prefixes_a)\n",
    "    if prefixes_b is not None:\n",
    "        prefix_set_b = set(prefixes_b)\n",
    "\n",
    "    # Use generator to get lines\n",
    "    for line in line_generator(source, source_type):\n",
    "        matched_a = any(line.startswith(prefix) for prefix in prefix_set_a)\n",
    "        if matched_a != unselect:\n",
    "            filtered_lines_a.append(line)\n",
    "        if prefixes_b is not None:\n",
    "            matched_b = any(line.startswith(prefix) for prefix in prefix_set_b)\n",
    "            if matched_b != unselect:\n",
    "                filtered_lines_b.append(line)\n",
    "\n",
    "    filtered_content_a = '\\n'.join(filtered_lines_a)\n",
    "    if return_df_a:\n",
    "        filtered_content_a = pd.read_csv(io.StringIO(filtered_content_a), delimiter='\\t', low_memory=False, on_bad_lines='skip')\n",
    "    filtered_content_b = None\n",
    "    if filtered_lines_b:\n",
    "        filtered_content_b = '\\n'.join(filtered_lines_b)\n",
    "        if return_df_b:\n",
    "            filtered_content_b = pd.read_csv(io.StringIO(filtered_content_b), delimiter='\\t', low_memory=False, on_bad_lines='skip')\n",
    "\n",
    "    return filtered_content_a, filtered_content_b\n",
    "\n",
    "def get_background_and_clinical_data(file_path,\n",
    "                                     prefixes_a=['!Series_title', '!Series_summary', '!Series_overall_design'],\n",
    "                                     prefixes_b=['!Sample_geo_accession', '!Sample_characteristics_ch1']):\n",
    "    \"\"\"Extract from a matrix file the background information about the dataset, and sample characteristics data\"\"\"\n",
    "    background_info, clinical_data = filter_content_by_prefix(file_path, prefixes_a, prefixes_b, unselect=False,\n",
    "                                                              source_type='file',\n",
    "                                                              return_df_a=False, return_df_b=True)\n",
    "    return background_info, clinical_data\n",
    "\n",
    "def get_unique_values_by_row(dataframe, max_len=30):\n",
    "    \"\"\"\n",
    "    Organize the unique values in each row of the given dataframe, to get a dictionary\n",
    "    :param dataframe:\n",
    "    :param max_len:\n",
    "    :return:\n",
    "    \"\"\"\n",
    "    if '!Sample_geo_accession' in dataframe.columns:\n",
    "        dataframe = dataframe.drop(columns=['!Sample_geo_accession'])\n",
    "    unique_values_dict = {}\n",
    "    for index, row in dataframe.iterrows():\n",
    "        unique_values = list(row.unique())[:max_len]\n",
    "        unique_values_dict[index] = unique_values\n",
    "    return unique_values_dict\n",
    "\n",
    "def check_rows_and_columns(dataframe, display=False):\n",
    "    \"\"\"\n",
    "    Get the lists of row names and column names of a dataset, and optionally observe them.\n",
    "    :param dataframe:\n",
    "    :param display:\n",
    "    :return:\n",
    "    \"\"\"\n",
    "    dataframe_rows = dataframe.index.tolist()\n",
    "    if display:\n",
    "        print(f\"The dataset has {len(dataframe_rows)} rows, such as {dataframe_rows[:20]}\")\n",
    "    dataframe_cols = dataframe.columns.tolist()\n",
    "    if display:\n",
    "        print(f\"\\nThe dataset has {len(dataframe_cols)} columns, such as {dataframe_cols[:20]}\")\n",
    "    return dataframe_rows, dataframe_cols\n",
    "\n",
    "def preview_df(df, n=5):\n",
    "    return df.head(n).to_dict(orient='list')\n",
    "\n",
    "def xena_convert_trait(row_index: str):\n",
    "    \"\"\"\n",
    "    Convert the trait information from Sample IDs to labels depending on the last two digits.\n",
    "    Tumor types range from 01 - 09, normal types from 10 - 19.\n",
    "    :param row_index: the index value of a row\n",
    "    :return: the converted value\n",
    "    \"\"\"\n",
    "    last_two_digits = int(row_index[-2:])\n",
    "\n",
    "    if 1 <= last_two_digits <= 9:\n",
    "        return 1\n",
    "    elif 10 <= last_two_digits <= 19:\n",
    "        return 0\n",
    "    else:\n",
    "        return -1\n",
    "\n",
    "\n",
    "def xena_convert_gender(cell: str):\n",
    "    \"\"\"Convert the cell content about gender to a binary value\n",
    "    \"\"\"\n",
    "    if isinstance(cell, str):\n",
    "        cell = cell.lower()\n",
    "\n",
    "    if cell == \"female\":\n",
    "        return 0\n",
    "    elif cell == \"male\":\n",
    "        return 1\n",
    "    else:\n",
    "        return None\n",
    "\n",
    "\n",
    "def xena_convert_age(cell: str):\n",
    "    \"\"\"Convert the cell content about age to a numerical value using regular expression\n",
    "    \"\"\"\n",
    "    match = re.search(r'\\d+', str(cell))\n",
    "    if match:\n",
    "        return int(match.group())\n",
    "    else:\n",
    "        return None\n",
    "\n",
    "def xena_select_clinical_features(clinical_df, trait, age_col=None, gender_col=None):\n",
    "    feature_list = []\n",
    "    trait_data = clinical_df.index.to_series().apply(xena_convert_trait).rename(trait)\n",
    "    feature_list.append(trait_data)\n",
    "    if age_col:\n",
    "        age_data = clinical_df[age_col].apply(xena_convert_age).rename(\"Age\")\n",
    "        feature_list.append(age_data)\n",
    "    if gender_col:\n",
    "        gender_data = clinical_df[gender_col].apply(xena_convert_gender).rename(\"Gender\")\n",
    "        feature_list.append(gender_data)\n",
    "    selected_clinical_df = pd.concat(feature_list, axis=1)\n",
    "    return selected_clinical_df\n",
    "\n",
    "def normalize_gene_symbols(gene_symbols, batch_size=1000):\n",
    "    \"\"\"Normalize human gene symbols in batches using the 'mygenes' library\"\"\"\n",
    "    mg = mygene.MyGeneInfo()\n",
    "    normalized_genes = {}\n",
    "\n",
    "    # Process in batches\n",
    "    for i in range(0, len(gene_symbols), batch_size):\n",
    "        batch = gene_symbols[i:i + batch_size]\n",
    "        results = mg.querymany(batch, scopes='symbol', fields='symbol', species='human')\n",
    "\n",
    "        # Update the normalized_genes dictionary with results from this batch\n",
    "        for gene in results:\n",
    "            normalized_genes[gene['query']] = gene.get('symbol', None)\n",
    "\n",
    "    # Return the normalized symbols in the same order as the input\n",
    "    return [normalized_genes.get(symbol) for symbol in gene_symbols]\n",
    "\n",
    "def normalize_gene_symbols_in_index(gene_df):\n",
    "    \"\"\"Normalize the human gene symbols at the index of a dataframe, and replace the index with its normalized version.\n",
    "    Remove the rows where the index failed to be normalized.\"\"\"\n",
    "    normalized_gene_list = normalize_gene_symbols(gene_df.index.tolist())\n",
    "    assert len(normalized_gene_list) == len(gene_df.index)\n",
    "    gene_df.index = normalized_gene_list\n",
    "    gene_df = gene_df[gene_df.index.notnull()]\n",
    "    return gene_df\n",
    "\n",
    "def judge_binary_variable_biased(dataframe, col_name, min_proportion=0.1, min_num=5):\n",
    "    \"\"\"\n",
    "    Check if the distribution of a binary variable in the dataset is too biased to be usable for analysis\n",
    "    :param dataframe:\n",
    "    :param col_name:\n",
    "    :param min_proportion:\n",
    "    :param min_num:\n",
    "    :return:\n",
    "    \"\"\"\n",
    "    label_counter = dataframe[col_name].value_counts()\n",
    "    total_samples = len(dataframe)\n",
    "    rare_label_num = label_counter.min()\n",
    "    rare_label = label_counter.idxmin()\n",
    "    rare_label_proportion = rare_label_num / total_samples\n",
    "\n",
    "    print(\n",
    "        f\"For the feature \\'{col_name}\\', the least common label is '{rare_label}' with {rare_label_num} occurrences. This represents {rare_label_proportion:.2%} of the dataset.\")\n",
    "\n",
    "    biased = (len(label_counter) < 2) or ((rare_label_proportion < min_proportion) and (rare_label_num < min_num))\n",
    "    return bool(biased)\n",
    "\n",
    "def judge_continuous_variable_biased(dataframe, col_name):\n",
    "    \"\"\"Check if the distribution of a continuous variable in the dataset is too biased to be usable for analysis.\n",
    "    As a starting point, we consider it biased if all values are the same. For the next step, maybe ask GPT to judge\n",
    "    based on quartile statistics combined with its common sense knowledge about this feature.\n",
    "    \"\"\"\n",
    "    quartiles = dataframe[col_name].quantile([0.25, 0.5, 0.75])\n",
    "    min_value = dataframe[col_name].min()\n",
    "    max_value = dataframe[col_name].max()\n",
    "\n",
    "    # Printing quartile information\n",
    "    print(f\"Quartiles for '{col_name}':\")\n",
    "    print(f\"  25%: {quartiles[0.25]}\")\n",
    "    print(f\"  50% (Median): {quartiles[0.5]}\")\n",
    "    print(f\"  75%: {quartiles[0.75]}\")\n",
    "    print(f\"Min: {min_value}\")\n",
    "    print(f\"Max: {max_value}\")\n",
    "\n",
    "    biased = min_value == max_value\n",
    "\n",
    "    return bool(biased)\n",
    "\n",
    "def judge_and_remove_biased_features(df, trait, trait_type):\n",
    "    assert trait_type in [\"binary\", \"continuous\"], f\"The trait must be either a binary or a continuous variable!\"\n",
    "    if trait_type == \"binary\":\n",
    "        trait_biased = judge_binary_variable_biased(df, trait)\n",
    "    else:\n",
    "        trait_biased = judge_continuous_variable_biased(df, trait)\n",
    "    if trait_biased:\n",
    "        print(f\"The distribution of the feature \\'{trait}\\' in this dataset is severely biased.\\n\")\n",
    "    else:\n",
    "        print(f\"The distribution of the feature \\'{trait}\\' in this dataset is fine.\\n\")\n",
    "    if \"Age\" in df.columns:\n",
    "        age_biased = judge_continuous_variable_biased(df, 'Age')\n",
    "        if age_biased:\n",
    "            print(f\"The distribution of the feature \\'Age\\' in this dataset is severely biased.\\n\")\n",
    "            df = df.drop(columns='Age')\n",
    "        else:\n",
    "            print(f\"The distribution of the feature \\'Age\\' in this dataset is fine.\\n\")\n",
    "    if \"Gender\" in df.columns:\n",
    "        gender_biased = judge_binary_variable_biased(df, 'Gender')\n",
    "        if gender_biased:\n",
    "            print(f\"The distribution of the feature \\'Gender\\' in this dataset is severely biased.\\n\")\n",
    "            df = df.drop(columns='Gender')\n",
    "        else:\n",
    "            print(f\"The distribution of the feature \\'Gender\\' in this dataset is fine.\\n\")\n",
    "\n",
    "    return trait_biased, df\n",
    "\n",
    "def save_cohort_info(cohort: str, info_path: str, is_available: bool, is_biased: Optional[bool] = None,\n",
    "                     df: Optional[pd.DataFrame] = None, note: str = '') -> None:\n",
    "    \"\"\"\n",
    "    Add or update information about the usability and quality of a dataset for statistical analysis.\n",
    "\n",
    "    Parameters:\n",
    "    cohort (str): A unique identifier for the dataset.\n",
    "    info_path (str): File path to the JSON file where records are stored.\n",
    "    is_available (bool): Indicates whether both the genetic data and trait data are available in the dataset, and can be\n",
    "     preprocessed into a dataframe.\n",
    "    is_biased (bool, optional): Indicates whether the dataset is too biased to be usable.\n",
    "        Required if `is_available` is True.\n",
    "    df (pandas.DataFrame, optional): The preprocessed dataset. Required if `is_available` is True.\n",
    "    note (str, optional): Additional notes about the dataset.\n",
    "\n",
    "    Returns:\n",
    "    None: The function does not return a value but updates or creates a record in the specified JSON file.\n",
    "    \"\"\"\n",
    "    if is_available:\n",
    "        assert (df is not None) and (is_biased is not None), \"'df' and 'is_biased' should be provided if this cohort \" \\\n",
    "                                                             \"is relevant.\"\n",
    "    is_usable = is_available and (not is_biased)\n",
    "    new_record = {\"is_usable\": is_usable,\n",
    "                  \"is_available\": is_available,\n",
    "                  \"is_biased\": is_biased if is_available else None,\n",
    "                  \"has_age\": \"Age\" in df.columns if is_available else None,\n",
    "                  \"has_gender\": \"Gender\" in df.columns if is_available else None,\n",
    "                  \"sample_size\": len(df) if is_available else None,\n",
    "                  \"note\": note}\n",
    "\n",
    "    if not os.path.exists(info_path):\n",
    "        with open(info_path, 'w') as file:\n",
    "            json.dump({}, file)\n",
    "        print(f\"A new JSON file was created at: {info_path}\")\n",
    "\n",
    "    with open(info_path, \"r\") as file:\n",
    "        records = json.load(file)\n",
    "    records[cohort] = new_record\n",
    "\n",
    "    temp_path = info_path + \".tmp\"\n",
    "    try:\n",
    "        with open(temp_path, 'w') as file:\n",
    "            json.dump(records, file)\n",
    "        os.replace(temp_path, info_path)\n",
    "\n",
    "    except Exception as e:\n",
    "        print(f\"An error occurred: {e}\")\n",
    "        if os.path.exists(temp_path):\n",
    "            os.remove(temp_path)\n",
    "        raise\n",
    "\n",
    "def get_feature_data(clinical_df, row_id, feature, convert_fn):\n",
    "    \"\"\"select the row corresponding to a feature in the sample characteristics dataframe, and convert the feature into\n",
    "    a binary or continuous variable\"\"\"\n",
    "    clinical_df = clinical_df.iloc[row_id:row_id + 1].drop(columns=['!Sample_geo_accession'], errors='ignore')\n",
    "    clinical_df.index = [feature]\n",
    "    clinical_df = clinical_df.applymap(convert_fn)\n",
    "\n",
    "    return clinical_df\n",
    "\n",
    "def geo_select_clinical_features(clinical_df: pd.DataFrame, trait: str, trait_row: int,\n",
    "                                 convert_trait: Callable,\n",
    "                                 age_row: Optional[int] = None,\n",
    "                                 convert_age: Optional[Callable] = None,\n",
    "                                 gender_row: Optional[int] = None,\n",
    "                                 convert_gender: Optional[Callable] = None) -> pd.DataFrame:\n",
    "    \"\"\"\n",
    "    Extracts and processes specific clinical features from a DataFrame representing\n",
    "    sample characteristics in the GEO database series.\n",
    "\n",
    "    Parameters:\n",
    "    - clinical_df (pd.DataFrame): DataFrame containing clinical data.\n",
    "    - trait (str): The trait of interest.\n",
    "    - trait_row (int): Row identifier for the trait in the DataFrame.\n",
    "    - convert_trait (Callable): Function to convert trait data into a desired format.\n",
    "    - age_row (int, optional): Row identifier for age data. Default is None.\n",
    "    - convert_age (Callable, optional): Function to convert age data. Default is None.\n",
    "    - gender_row (int, optional): Row identifier for gender data. Default is None.\n",
    "    - convert_gender (Callable, optional): Function to convert gender data. Default is None.\n",
    "\n",
    "    Returns:\n",
    "    pd.DataFrame: A DataFrame containing the selected and processed clinical features.\n",
    "    \"\"\"\n",
    "    feature_list = []\n",
    "\n",
    "    trait_data = get_feature_data(clinical_df, trait_row, trait, convert_trait)\n",
    "    feature_list.append(trait_data)\n",
    "    if age_row is not None:\n",
    "        age_data = get_feature_data(clinical_df, age_row, 'Age', convert_age)\n",
    "        feature_list.append(age_data)\n",
    "    if gender_row is not None:\n",
    "        gender_data = get_feature_data(clinical_df, gender_row, 'Gender', convert_gender)\n",
    "        feature_list.append(gender_data)\n",
    "\n",
    "    selected_clinical_df = pd.concat(feature_list, axis=0)\n",
    "    return selected_clinical_df\n",
    "\n",
    "def get_genetic_data(file_path):\n",
    "    \"\"\"Read the gene expression data into a dataframe, and adjust its format\"\"\"\n",
    "    genetic_data = pd.read_csv(file_path, compression='gzip', skiprows=52, comment='!', delimiter='\\t')\n",
    "    genetic_data = genetic_data.dropna()\n",
    "    genetic_data = genetic_data.rename(columns={'ID_REF': 'ID'}).astype({'ID': 'str'})\n",
    "    genetic_data.set_index('ID', inplace=True)\n",
    "\n",
    "    return genetic_data\n",
    "\n",
    "def get_gene_annotation(file_path, prefixes=['^', '!', '#']):\n",
    "    \"\"\"Extract from a SOFT file the gene annotation data\"\"\"\n",
    "    gene_metadata = filter_content_by_prefix(file_path, prefixes_a=prefixes, unselect=True, source_type='file',\n",
    "                                             return_df_a=True)\n",
    "    return gene_metadata[0]\n",
    "\n",
    "def get_gene_mapping(annotation, prob_col, gene_col):\n",
    "    \"\"\"Process the gene annotation to get the mapping between gene names and gene probes.\n",
    "    \"\"\"\n",
    "    mapping_data = annotation.loc[:, [prob_col, gene_col]]\n",
    "    mapping_data = mapping_data.dropna()\n",
    "    mapping_data = mapping_data.rename(columns={gene_col: 'Gene'}).astype({'ID': 'str'})\n",
    "\n",
    "    return mapping_data\n",
    "\n",
    "def apply_gene_mapping(expression_df, mapping_df):\n",
    "    \"\"\"\n",
    "    Converts measured data about gene probes into gene expression data.\n",
    "    Handles the potential many-to-many relationship between probes and genes.\n",
    "\n",
    "    Parameters:\n",
    "    expression_df (DataFrame): A DataFrame with gene expression data, indexed by 'ID'.\n",
    "    mapping_df (DataFrame): A DataFrame mapping 'ID' to 'Gene', with 'ID' as a column.\n",
    "\n",
    "    Returns:\n",
    "    DataFrame: A DataFrame with mean gene expression values, indexed by 'Gene'.\n",
    "    \"\"\"\n",
    "\n",
    "    # Define a regex pattern for splitting gene names\n",
    "    split_pattern = r';|\\|+|/{2,}|,|\\[|\\]|\\(|\\)'\n",
    "\n",
    "    # Split the 'Gene' column in 'mapping_df' using the regex pattern\n",
    "    mapping_df['Gene'] = mapping_df['Gene'].str.split(split_pattern)\n",
    "    mapping_df = mapping_df.explode('Gene')\n",
    "\n",
    "    # Set 'ID' as the index of 'mapping_df' for merging\n",
    "    mapping_df.set_index('ID', inplace=True)\n",
    "\n",
    "    # Merge 'mapping_df' with 'expression_df' by their indices\n",
    "    merged_df = mapping_df.join(expression_df)\n",
    "\n",
    "    # Group by 'Gene' and calculate the mean expression values\n",
    "    gene_expression_df = merged_df.groupby('Gene').mean().dropna()\n",
    "\n",
    "    return gene_expression_df\n",
    "\n",
    "def geo_merge_clinical_genetic_data(clinical_df, genetic_df):\n",
    "    \"\"\"\n",
    "    Merge the clinical features and gene expression features from two dataframes into one dataframe\n",
    "    \"\"\"\n",
    "    if 'ID' in genetic_df.columns:\n",
    "        genetic_df = genetic_df.rename(columns={'ID': 'Gene'})\n",
    "    if 'Gene' in genetic_df.columns:\n",
    "        genetic_df = genetic_df.set_index('Gene')\n",
    "    merged_data = pd.concat([clinical_df, genetic_df], axis=0).T.dropna()\n",
    "    return merged_data\n",
    "\n",
    "def read_json_to_dataframe(json_file: str) -> pd.DataFrame:\n",
    "    \"\"\"\n",
    "    Reads a JSON file and converts it into a pandas DataFrame.\n",
    "\n",
    "    Args:\n",
    "    json_file (str): The path to the JSON file containing the data.\n",
    "\n",
    "    Returns:\n",
    "    DataFrame: A pandas DataFrame with the JSON data.\n",
    "    \"\"\"\n",
    "    with open(json_file, 'r') as file:\n",
    "        data = json.load(file)\n",
    "    return pd.DataFrame.from_dict(data, orient='index').reset_index().rename(columns={'index': 'cohort_id'})\n",
    "\n",
    "def filter_and_rank_cohorts(json_file: str, condition: Union[str, None] = None) -> Tuple[\n",
    "    Union[str, None], pd.DataFrame]:\n",
    "    \"\"\"\n",
    "    Reads a JSON file, filters cohorts based on usability and an optional condition, then ranks them by sample size.\n",
    "\n",
    "    Args:\n",
    "    json_file (str): The path to the JSON file containing the data.\n",
    "    condition (str, optional): An additional condition for filtering. If None, only 'is_usable' is considered.\n",
    "\n",
    "    Returns:\n",
    "    Tuple: A tuple containing the best cohort ID (str or None if no suitable cohort is found) and\n",
    "           the filtered and ranked DataFrame.\n",
    "    \"\"\"\n",
    "    # Read the JSON file into a DataFrame\n",
    "    df = read_json_to_dataframe(json_file)\n",
    "\n",
    "    if condition:\n",
    "        filtered_df = df[(df['is_usable'] == True) & (df[condition] == True)]\n",
    "    else:\n",
    "        filtered_df = df[df['is_usable'] == True]\n",
    "\n",
    "    ranked_df = filtered_df.sort_values(by='sample_size', ascending=False)\n",
    "    best_cohort_id = ranked_df.iloc[0]['cohort_id'] if not ranked_df.empty else None\n",
    "\n",
    "    return best_cohort_id, ranked_df\n",
    "\n",
    "def detect_batch_effect(X):\n",
    "    \"\"\"\n",
    "    Detect potential batch effects in a dataset using eigenvalues of XX^T.\n",
    "\n",
    "    Args:\n",
    "    X (numpy.ndarray): A feature matrix with shape (n_samples, n_features).\n",
    "\n",
    "    Returns:\n",
    "    bool: True if a potential batch effect is detected, False otherwise.\n",
    "    \"\"\"\n",
    "    n_samples = X.shape[0]\n",
    "\n",
    "    # Computing XX^T\n",
    "    XXt = np.dot(X, X.T)\n",
    "\n",
    "    # Compute the eigenvalues of XX^T\n",
    "    eigen_values = np.linalg.eigvalsh(XXt)  # Using eigvalsh since XX^T is symmetric\n",
    "    eigen_values = sorted(eigen_values, reverse=True)\n",
    "\n",
    "    # Check for large gaps in the eigenvalues\n",
    "    for i in range(len(eigen_values) - 1):\n",
    "        gap = eigen_values[i] - eigen_values[i + 1]\n",
    "        if gap > 1 / n_samples:  # You may need to adjust this threshold\n",
    "            return True\n",
    "\n",
    "    return False\n",
    "\n",
    "def normalize_data(X_train, X_test=None):\n",
    "    \"\"\"Compute the mean and standard deviation statistics of the training data, use them to normalize the training data,\n",
    "    and optionally the test data\"\"\"\n",
    "    mean = np.mean(X_train, axis=0)\n",
    "    std = np.std(X_train, axis=0)\n",
    "\n",
    "    # Handling columns with std = 0\n",
    "    std_no_zero = np.where(std == 0, 1, std)\n",
    "\n",
    "    # Normalize X_train\n",
    "    X_train_normalized = (X_train - mean) / std_no_zero\n",
    "    # Set normalized values to 0 where std was 0\n",
    "    X_train_normalized[:, std == 0] = 0\n",
    "\n",
    "    if X_test is not None:\n",
    "        X_test_normalized = (X_test - mean) / std_no_zero\n",
    "        X_test_normalized[:, std == 0] = 0\n",
    "    else:\n",
    "        X_test_normalized = None\n",
    "\n",
    "    return X_train_normalized, X_test_normalized\n",
    "\n",
    "\n",
    "class ResidualizationRegressor:\n",
    "    def __init__(self, regression_model_constructor, params=None):\n",
    "        if params is None:\n",
    "            params = {}\n",
    "        self.regression_model = regression_model_constructor(**params)\n",
    "        self.beta_Z = None  # Coefficients for regression of Y on Z\n",
    "        self.beta_X = None  # Coefficients for regression of residual on X\n",
    "        self.neg_log_p_values = None  # Negative logarithm of p-values\n",
    "        self.p_values = None  # Actual p-values\n",
    "\n",
    "    def _reshape_data(self, data):\n",
    "        \"\"\"\n",
    "        Reshape the data to ensure it's in the correct format (2D array).\n",
    "\n",
    "        :param data: The input data (can be 1D or 2D array).\n",
    "        :return: Reshaped 2D array.\n",
    "        \"\"\"\n",
    "        if data.ndim == 1:\n",
    "            return data.reshape(-1, 1)\n",
    "        return data\n",
    "\n",
    "    def _reshape_output(self, data):\n",
    "        \"\"\"\n",
    "        Reshape the output data to ensure it's in the correct format (1D array).\n",
    "\n",
    "        :param data: The output data (can be 1D or 2D array).\n",
    "        :return: Reshaped 1D array.\n",
    "        \"\"\"\n",
    "        if data.ndim == 2 and data.shape[1] == 1:\n",
    "            return data.ravel()\n",
    "        return data\n",
    "\n",
    "    def fit(self, X, Y, Z):\n",
    "        X = self._reshape_data(X)\n",
    "        Y = self._reshape_data(Y)\n",
    "        Z = self._reshape_data(Z)\n",
    "\n",
    "        # Step 1: Linear regression of Y on Z\n",
    "        Z_ones = np.column_stack((np.ones(Z.shape[0]), Z))\n",
    "        self.beta_Z = np.linalg.pinv(Z_ones.T @ Z_ones) @ Z_ones.T @ Y\n",
    "        Y_hat = Z_ones @ self.beta_Z\n",
    "        e_Y = Y - Y_hat  # Residual of Y\n",
    "\n",
    "        # Step 2: Regress the residual on X using the included regression model\n",
    "        self.regression_model.fit(X, e_Y)\n",
    "\n",
    "        # Obtain coefficients from the regression model\n",
    "        if hasattr(self.regression_model, 'coef_'):\n",
    "            self.beta_X = self.regression_model.coef_\n",
    "        elif hasattr(self.regression_model, 'getBeta'):\n",
    "            beta_output = self.regression_model.getBeta()\n",
    "            self.beta_X = self._reshape_output(beta_output)\n",
    "\n",
    "        # Obtain negative logarithm of p-values, if available\n",
    "        if hasattr(self.regression_model, 'getNegLogP'):\n",
    "            neg_log_p_output = self.regression_model.getNegLogP()\n",
    "            if neg_log_p_output is not None:\n",
    "                self.neg_log_p_values = self._reshape_output(neg_log_p_output)\n",
    "                self.p_values = np.exp(-self.neg_log_p_values)\n",
    "                # Concatenate the p-values of Z and X. The p-values of Z were not computed, mark with NaN.\n",
    "                p_values_Z = np.full(Z.shape[1], np.nan)\n",
    "                self.p_values = np.concatenate((p_values_Z, self.p_values))\n",
    "\n",
    "    def predict(self, X, Z):\n",
    "        X = self._reshape_data(X)\n",
    "        Z = self._reshape_data(Z)\n",
    "\n",
    "        Z_ones = np.column_stack((np.ones(Z.shape[0]), Z))\n",
    "        ZX = np.column_stack((Z, X))\n",
    "        combined_beta = np.concatenate((self.beta_Z[1:].ravel(), self.beta_X.ravel()))\n",
    "        return ZX @ combined_beta + self.beta_Z[0]\n",
    "\n",
    "    def get_coefficients(self):\n",
    "        return np.concatenate((self.beta_Z[1:].ravel(), self.beta_X.ravel()))\n",
    "\n",
    "    def get_p_values(self):\n",
    "        return self.p_values\n",
    "\n",
    "    def predict(self, X, Z):\n",
    "        X = self._reshape_data(X)\n",
    "        Z = self._reshape_data(Z)\n",
    "\n",
    "        Z_ones = np.column_stack((np.ones(Z.shape[0]), Z))\n",
    "        ZX = np.column_stack((Z, X))\n",
    "        combined_beta = np.concatenate((self.beta_Z[1:].ravel(), self.beta_X.ravel()))\n",
    "        return ZX @ combined_beta + self.beta_Z[0]\n",
    "\n",
    "    def get_coefficients(self):\n",
    "        return np.concatenate((self.beta_Z[1:].ravel(), self.beta_X.ravel()))\n",
    "\n",
    "    def get_p_values(self):\n",
    "        return self.p_values\n",
    "\n",
    "\n",
    "def cross_validation(X, Y, Z, model_constructor, model_params, k=5, target_type='binary'):\n",
    "    assert target_type in ['binary', 'continuous'], \"The target type must be chosen from 'binary' or 'continuous'\"\n",
    "    indices = np.arange(X.shape[0])\n",
    "    np.random.shuffle(indices)\n",
    "\n",
    "    fold_size = len(X) // k\n",
    "    performances = []\n",
    "\n",
    "    for i in range(k):\n",
    "        # Split data into train and test based on the current fold\n",
    "        test_indices = indices[i * fold_size: (i + 1) * fold_size]\n",
    "        train_indices = np.setdiff1d(indices, test_indices)\n",
    "\n",
    "        X_train, X_test = X[train_indices], X[test_indices]\n",
    "        Y_train, Y_test = Y[train_indices], Y[test_indices]\n",
    "        Z_train, Z_test = Z[train_indices], Z[test_indices]\n",
    "\n",
    "        normalized_X_train, normalized_X_test = normalize_data(X_train, X_test)\n",
    "        normalized_Z_train, normalized_Z_test = normalize_data(Z_train, Z_test)\n",
    "\n",
    "        # model = model_constructor(**model_params)\n",
    "        model = ResidualizationRegressor(model_constructor, model_params)\n",
    "        model.fit(normalized_X_train, Y_train, normalized_Z_train)\n",
    "        predictions = model.predict(normalized_X_test, normalized_Z_test)\n",
    "\n",
    "        if target_type == 'binary':\n",
    "            predictions = (predictions > 0.5).astype(int)\n",
    "            Y_test = (Y_test > 0.5).astype(int)\n",
    "            performance = accuracy_score(Y_test, predictions)\n",
    "        elif target_type == 'continuous':\n",
    "            performance = mean_squared_error(Y_test, predictions)\n",
    "\n",
    "        performances.append(performance)\n",
    "\n",
    "    cv_mean = np.mean(performances)\n",
    "    cv_std = np.std(performances)\n",
    "\n",
    "    if target_type == 'binary':\n",
    "        print(f'The cross-validation accuracy is {(cv_mean * 100):.2f}% ± {(cv_std * 100):.2f}%')\n",
    "    else:\n",
    "        print(f'The cross-validation MSE is {(cv_mean * 100):.2f}% ± {(cv_std * 100):.2f}%')\n",
    "\n",
    "    return cv_mean, cv_std\n",
    "\n",
    "def interpret_result(model: Any, feature_names: List[str], trait: str, condition: str,\n",
    "                     threshold: float = 0.05, save_output: bool = True,\n",
    "                     output_dir: str = './output', model_id: int = 1) -> None:\n",
    "    \"\"\"This function interprets and reports the result of a trained linear regression model, where the regressor\n",
    "    consists of one variable about condition and multiple variables about genetic factors.\n",
    "    The function extracts coefficients and p-values from the model, and identifies the significant genes based on\n",
    "    p-values or non-zero coefficients, depending on the availability of p-values.\n",
    "\n",
    "    Parameters:\n",
    "    model (Any): The trained regression Model.\n",
    "    feature_names (List[str]): A list of feature names corresponding to the model's coefficients.\n",
    "    trait (str): The target trait of interest.\n",
    "    condition (str): The specific condition to examine within the model.\n",
    "    threshold (float): Significance level for p-value correction. Defaults to 0.05.\n",
    "    save_output (bool): Flag to determine whether to save the output to a file. Defaults to True.\n",
    "    output_dir (str): Directory path where output files are saved. Defaults to './output'.\n",
    "    model_id (int): The index of the model, 1 or 2.\n",
    "\n",
    "    Returns:\n",
    "    None: This function does not return anything but prints and optionally saves the output.\n",
    "    \"\"\"\n",
    "    coefficients = model.get_coefficients().reshape(-1).tolist()\n",
    "    p_values = model.get_p_values()\n",
    "    if p_values is None:\n",
    "        regression_df = pd.DataFrame({\n",
    "            'Variable': feature_names,\n",
    "            'Coefficient': coefficients\n",
    "        })\n",
    "    else:\n",
    "        regression_df = pd.DataFrame({\n",
    "            'Variable': feature_names,\n",
    "            'Coefficient': coefficients,\n",
    "            'p_value': p_values.reshape(-1).tolist()\n",
    "        })\n",
    "\n",
    "    condition_effect = regression_df[regression_df['Variable'] == condition].iloc[0]\n",
    "\n",
    "    print(f\"Effect of the condition on the target variable:\")\n",
    "    print(f\"Variable: {condition}\")\n",
    "    print(f\"Coefficient: {condition_effect['Coefficient']:.4f}\")\n",
    "    gene_regression_df = regression_df[regression_df['Variable'] != condition]\n",
    "    if p_values is None:\n",
    "        gene_regression_df['Absolute Coefficient'] = gene_regression_df['Coefficient'].abs()\n",
    "        significant_genes = gene_regression_df[gene_regression_df['Coefficient'] != 0]\n",
    "        significant_genes_sorted = significant_genes.sort_values(by='Absolute Coefficient', ascending=False)\n",
    "        print(\n",
    "            f\"Found {len(significant_genes_sorted)} genes with non-zero coefficients associated with the trait '{trait}' \"\n",
    "            f\"conditional on the factor '{condition}'. These genes are identified as significant based on the regression model.\")\n",
    "    else:\n",
    "        # Apply the Benjamini-Hochberg correction, to get the corrected p-values\n",
    "        corrected_p_values = multipletests(gene_regression_df['p_value'], alpha=threshold, method='fdr_bh')[1]\n",
    "        gene_regression_df.loc[:, 'corrected_p_value'] = corrected_p_values\n",
    "        significant_genes = gene_regression_df.loc[gene_regression_df['corrected_p_value'] < threshold]\n",
    "        significant_genes_sorted = significant_genes.sort_values('corrected_p_value')\n",
    "        print(\n",
    "            f\"Found {len(significant_genes_sorted)} significant genes associated with the trait '{trait}' conditional on \"\n",
    "            f\"the factor '{condition}', with corrected p-value < {threshold}:\")\n",
    "\n",
    "    print(significant_genes_sorted.to_string(index=False))\n",
    "\n",
    "    # Optionally, save this to a CSV file\n",
    "    if save_output:\n",
    "        significant_genes_sorted.to_csv(\n",
    "            os.path.join(output_dir, f'significant_genes_condition_{condition}_{model_id}.csv'), index=False)\n",
    "\n"
   ]
  },
  {
   "cell_type": "markdown",
   "metadata": {
    "collapsed": false
   },
   "source": [
    "# 1. Basic setup"
   ]
  },
  {
   "cell_type": "code",
   "execution_count": 2,
   "metadata": {
    "ExecuteTime": {
     "end_time": "2024-01-10T22:35:17.389375573Z",
     "start_time": "2024-01-10T22:35:16.727055346Z"
    },
    "collapsed": false
   },
   "outputs": [],
   "source": [
    "# Set your preferred name\n",
    "USER = \"Jinglei\"\n",
    "# Set the data and output directories\n",
    "DATA_ROOT = '/Users/jane/UIUC/Research/Data'\n",
    "OUTPUT_ROOT = '/Users/jane/UIUC/Research/Output'\n",
    "TRAIT = 'Amyotrophic Lateral Sclerosis'\n",
    "\n",
    "OUTPUT_DIR = os.path.join(OUTPUT_ROOT, USER, '-'.join(TRAIT.split()))\n",
    "JSON_PATH = os.path.join(OUTPUT_DIR, \"cohort_info.json\")\n",
    "if not os.path.exists(OUTPUT_DIR):\n",
    "    os.makedirs(OUTPUT_DIR, exist_ok=True)\n",
    "\n",
    "# Gene symbol normalization may take 1-2 minutes. You may set it to False for debugging.\n",
    "NORMALIZE_GENE = True"
   ]
  },
  {
   "cell_type": "markdown",
   "metadata": {
    "collapsed": false
   },
   "source": [
    "# 2. Data preprocessing and selection"
   ]
  },
  {
   "cell_type": "markdown",
   "metadata": {
    "ExecuteTime": {
     "end_time": "2023-12-28T21:28:38.028916303Z",
     "start_time": "2023-12-28T21:28:38.016245426Z"
    },
    "collapsed": false
   },
   "source": [
    "## 2.2. The GEO dataset"
   ]
  },
  {
   "cell_type": "markdown",
   "metadata": {
    "ExecuteTime": {
     "end_time": "2023-12-31T03:25:23.253882615Z",
     "start_time": "2023-12-31T03:25:23.244062710Z"
    },
    "collapsed": false
   },
   "source": [
    "In GEO, there may be one or multiple cohorts for a trait. Each cohort is identified by an accession number. We iterate over all accession numbers in the corresponding subdirectory, preprocess the cohort data, and save them to csv files."
   ]
  },
  {
   "cell_type": "code",
   "execution_count": 3,
   "metadata": {
    "ExecuteTime": {
     "end_time": "2024-01-10T22:35:24.501752524Z",
     "start_time": "2024-01-10T22:35:24.482837955Z"
    },
    "collapsed": false
   },
   "outputs": [
    {
     "data": {
      "text/plain": [
       "['GSE118336', 'GSE139384', 'GSE163560', 'GSE112681', 'GSE112680', 'GSE107375']"
      ]
     },
     "execution_count": 3,
     "metadata": {},
     "output_type": "execute_result"
    }
   ],
   "source": [
    "dataset = 'GEO'\n",
    "trait_subdir = \"Amyotrophic-Lateral-Sclerosis\"\n",
    "\n",
    "trait_path = os.path.join(DATA_ROOT, dataset, trait_subdir)\n",
    "os.listdir(trait_path)"
   ]
  },
  {
   "cell_type": "markdown",
   "metadata": {
    "ExecuteTime": {
     "end_time": "2023-12-31T03:39:42.634870142Z",
     "start_time": "2023-12-31T03:39:42.534093295Z"
    },
    "collapsed": false
   },
   "source": [
    "Repeat the below steps for all the accession numbers"
   ]
  },
  {
   "cell_type": "code",
   "execution_count": 4,
   "metadata": {
    "ExecuteTime": {
     "end_time": "2024-01-10T22:35:24.987046441Z",
     "start_time": "2024-01-10T22:35:24.959501373Z"
    },
    "collapsed": false
   },
   "outputs": [
    {
     "data": {
      "text/plain": [
       "('/Users/jane/UIUC/Research/Data/GEO/Amyotrophic-Lateral-Sclerosis/GSE107375/GSE107375_family.soft.gz',\n",
       " '/Users/jane/UIUC/Research/Data/GEO/Amyotrophic-Lateral-Sclerosis/GSE107375/GSE107375_series_matrix.txt.gz')"
      ]
     },
     "execution_count": 4,
     "metadata": {},
     "output_type": "execute_result"
    }
   ],
   "source": [
    "cohort = accession_num = \"GSE107375\"\n",
    "cohort_dir = os.path.join(trait_path, accession_num)\n",
    "soft_file, matrix_file = get_relevant_filepaths(cohort_dir)\n",
    "soft_file, matrix_file"
   ]
  },
  {
   "cell_type": "markdown",
   "metadata": {
    "collapsed": false
   },
   "source": [
    "### Initial filtering and clinical data preprocessing"
   ]
  },
  {
   "cell_type": "code",
   "execution_count": 5,
   "metadata": {
    "ExecuteTime": {
     "end_time": "2024-01-10T22:35:25.542978467Z",
     "start_time": "2024-01-10T22:35:25.389340503Z"
    },
    "collapsed": false
   },
   "outputs": [
    {
     "name": "stdout",
     "output_type": "stream",
     "text": [
      "!Series_title\t\"High-resolution map of copy number variations in motor cortex of Control and Sporadic Amyotrphic Lateral Sclerosis patients by using a customized exon-centric comparative genomic hybridization array.\"\n",
      "!Series_summary\t\"Amyotrophic lateral sclerosis (ALS) is an incurable and fatal neurodegenerative disease. Increasing the chances of success for future clinical strategies requires more in-depth knowledge of the molecular basis underlying disease heterogeneity. We recently laid the foundation for a molecular taxonomy of ALS by whole transcriptome expression profiling of motor cortex from sporadic ALS (SALS) patients. Here, we analyzed genomic structural aberrations occurring in the same patients, by using a customized exon-centered comparative genomic hybridization array (aCGH) covering a large panel of ALS-related genes. Integrative analysis of copy number profiles with their associated transcriptomic data revealed subtype-specific genomic perturbations and candidate driver genes positively correlated with transcriptional signatures, which might represent novel potential biomarkers and therapeutic targets. This study represents the first comprehensive “omics” analysis of molecular events characterizing SALS pathology, providing a road map to facilitate genome-guided personalized diagnosis and treatments for this devastating disease.\"\n",
      "!Series_overall_design\t\"Motor cortex samples from 30 patients with clear SALS diagnosis and 10 control individuals were analysed by using an 8x60K custom exon-centric NeuroArray platform v. 2.0 (Agilent Technologies, Santa Clara, CA), tailored to detect single/multi-exon deletions and duplications in a large panel of ALS-related genes and to others additional neurological disorders. Two experimental conditions: DNA test and a reference of the same sex (Euro Reference, Agilent Technologies, Santa Clara, CA) were processed according to the manufacturer’s protocol (Agilent Technologies, Santa Clara, CA). SALS patient DNAs were labeled with Cy5-dUTP and reference DNAs for reference DNAs. Arrays were scanned at 3 µm resolution using an Agilent G4900DA SureScan Microarray Scanner System and aCGH image data were processed using Agilent’s Feature Extraction software. Feature extracted raw data was normalized, analyzed and visualized using Agilent CytoGenomics v. 4.0.3.12 and Genomic Workbench v. 7.0.4.0 software (Agilent Technologies, Santa Clara, CA, USA). GC correction with a window size of 2 kb and Diploid Peak Centralization were used for normalization. The Centralization Normalization Algorithm with a threshold of 6.0 and a bin size of 10 was also used for detecting aberrant regions or regions of constant CNVs. Aberrations were detected by the Aberration Detection Method II algorithm (ADM-2), with a sensitivity threshold of 6.0 and moving average window of 2Mb. Human reference sequence hg19 assembly was used to define the genomic coordinates of detected CNVs.\"\n"
     ]
    }
   ],
   "source": [
    "background_prefixes = ['!Series_title', '!Series_summary', '!Series_overall_design']\n",
    "clinical_prefixes = ['!Sample_geo_accession', '!Sample_characteristics_ch1']\n",
    "\n",
    "background_info, clinical_data = get_background_and_clinical_data(matrix_file, background_prefixes, clinical_prefixes)\n",
    "print(background_info)"
   ]
  },
  {
   "cell_type": "code",
   "execution_count": 6,
   "metadata": {
    "ExecuteTime": {
     "end_time": "2024-01-10T22:35:25.667635089Z",
     "start_time": "2024-01-10T22:35:25.621258628Z"
    },
    "collapsed": false
   },
   "outputs": [
    {
     "data": {
      "text/html": [
       "<div>\n",
       "<style scoped>\n",
       "    .dataframe tbody tr th:only-of-type {\n",
       "        vertical-align: middle;\n",
       "    }\n",
       "\n",
       "    .dataframe tbody tr th {\n",
       "        vertical-align: top;\n",
       "    }\n",
       "\n",
       "    .dataframe thead th {\n",
       "        text-align: right;\n",
       "    }\n",
       "</style>\n",
       "<table border=\"1\" class=\"dataframe\">\n",
       "  <thead>\n",
       "    <tr style=\"text-align: right;\">\n",
       "      <th></th>\n",
       "      <th>!Sample_geo_accession</th>\n",
       "      <th>GSM2865623</th>\n",
       "      <th>GSM2865624</th>\n",
       "      <th>GSM2865625</th>\n",
       "      <th>GSM2865626</th>\n",
       "      <th>GSM2865627</th>\n",
       "      <th>GSM2865628</th>\n",
       "      <th>GSM2865629</th>\n",
       "      <th>GSM2865630</th>\n",
       "      <th>GSM2865631</th>\n",
       "      <th>...</th>\n",
       "      <th>GSM2865653</th>\n",
       "      <th>GSM2865654</th>\n",
       "      <th>GSM2865655</th>\n",
       "      <th>GSM2865656</th>\n",
       "      <th>GSM2865657</th>\n",
       "      <th>GSM2865658</th>\n",
       "      <th>GSM2865659</th>\n",
       "      <th>GSM2865660</th>\n",
       "      <th>GSM2865661</th>\n",
       "      <th>GSM2865662</th>\n",
       "    </tr>\n",
       "  </thead>\n",
       "  <tbody>\n",
       "    <tr>\n",
       "      <th>0</th>\n",
       "      <td>!Sample_characteristics_ch1</td>\n",
       "      <td>Sex: male</td>\n",
       "      <td>Sex: male</td>\n",
       "      <td>Sex: male</td>\n",
       "      <td>Sex: female</td>\n",
       "      <td>Sex: male</td>\n",
       "      <td>Sex: male</td>\n",
       "      <td>Sex: male</td>\n",
       "      <td>Sex: male</td>\n",
       "      <td>Sex: male</td>\n",
       "      <td>...</td>\n",
       "      <td>Sex: female</td>\n",
       "      <td>Sex: female</td>\n",
       "      <td>Sex: male</td>\n",
       "      <td>Sex: female</td>\n",
       "      <td>Sex: female</td>\n",
       "      <td>Sex: female</td>\n",
       "      <td>Sex: male</td>\n",
       "      <td>Sex: male</td>\n",
       "      <td>Sex: male</td>\n",
       "      <td>Sex: male</td>\n",
       "    </tr>\n",
       "    <tr>\n",
       "      <th>1</th>\n",
       "      <td>!Sample_characteristics_ch1</td>\n",
       "      <td>age at death (in years): 31</td>\n",
       "      <td>age at death (in years): 59</td>\n",
       "      <td>age at death (in years): 68</td>\n",
       "      <td>age at death (in years): 71</td>\n",
       "      <td>age at death (in years): 48</td>\n",
       "      <td>age at death (in years): 58</td>\n",
       "      <td>age at death (in years): 60</td>\n",
       "      <td>age at death (in years): 44</td>\n",
       "      <td>age at death (in years): 73</td>\n",
       "      <td>...</td>\n",
       "      <td>age at death (in years): 61</td>\n",
       "      <td>age at death (in years): 51</td>\n",
       "      <td>age at death (in years): 63</td>\n",
       "      <td>age at death (in years): 70</td>\n",
       "      <td>age at death (in years): 69</td>\n",
       "      <td>age at death (in years): 64</td>\n",
       "      <td>age at death (in years): 46</td>\n",
       "      <td>age at death (in years): 55</td>\n",
       "      <td>age at death (in years): 51</td>\n",
       "      <td>age at death (in years): 59</td>\n",
       "    </tr>\n",
       "    <tr>\n",
       "      <th>2</th>\n",
       "      <td>!Sample_characteristics_ch1</td>\n",
       "      <td>disease state: Control</td>\n",
       "      <td>disease state: Control</td>\n",
       "      <td>disease state: Control</td>\n",
       "      <td>disease state: Control</td>\n",
       "      <td>disease state: Control</td>\n",
       "      <td>disease state: Control</td>\n",
       "      <td>disease state: Control</td>\n",
       "      <td>disease state: Control</td>\n",
       "      <td>disease state: Control</td>\n",
       "      <td>...</td>\n",
       "      <td>disease state: Sporadic Amyotrophic Lateral Sc...</td>\n",
       "      <td>disease state: Sporadic Amyotrophic Lateral Sc...</td>\n",
       "      <td>disease state: Sporadic Amyotrophic Lateral Sc...</td>\n",
       "      <td>disease state: Sporadic Amyotrophic Lateral Sc...</td>\n",
       "      <td>disease state: Sporadic Amyotrophic Lateral Sc...</td>\n",
       "      <td>disease state: Sporadic Amyotrophic Lateral Sc...</td>\n",
       "      <td>disease state: Sporadic Amyotrophic Lateral Sc...</td>\n",
       "      <td>disease state: Sporadic Amyotrophic Lateral Sc...</td>\n",
       "      <td>disease state: Sporadic Amyotrophic Lateral Sc...</td>\n",
       "      <td>disease state: Sporadic Amyotrophic Lateral Sc...</td>\n",
       "    </tr>\n",
       "    <tr>\n",
       "      <th>3</th>\n",
       "      <td>!Sample_characteristics_ch1</td>\n",
       "      <td>survival characteristics: n/a</td>\n",
       "      <td>survival characteristics: n/a</td>\n",
       "      <td>survival characteristics: n/a</td>\n",
       "      <td>survival characteristics: n/a</td>\n",
       "      <td>survival characteristics: n/a</td>\n",
       "      <td>survival characteristics: n/a</td>\n",
       "      <td>survival characteristics: n/a</td>\n",
       "      <td>survival characteristics: n/a</td>\n",
       "      <td>survival characteristics: n/a</td>\n",
       "      <td>...</td>\n",
       "      <td>survival characteristics: medium term survival...</td>\n",
       "      <td>survival characteristics: medium term survival...</td>\n",
       "      <td>survival characteristics: medium term survival...</td>\n",
       "      <td>survival characteristics: medium term survival...</td>\n",
       "      <td>survival characteristics: medium term survival...</td>\n",
       "      <td>survival characteristics: medium term survival...</td>\n",
       "      <td>survival characteristics: medium term survival...</td>\n",
       "      <td>survival characteristics: short term survival ...</td>\n",
       "      <td>survival characteristics: short term survival ...</td>\n",
       "      <td>survival characteristics: short term survival ...</td>\n",
       "    </tr>\n",
       "    <tr>\n",
       "      <th>4</th>\n",
       "      <td>!Sample_characteristics_ch1</td>\n",
       "      <td>survival time from date of onset (months): n/a</td>\n",
       "      <td>survival time from date of onset (months): n/a</td>\n",
       "      <td>survival time from date of onset (months): n/a</td>\n",
       "      <td>survival time from date of onset (months): n/a</td>\n",
       "      <td>survival time from date of onset (months): n/a</td>\n",
       "      <td>survival time from date of onset (months): n/a</td>\n",
       "      <td>survival time from date of onset (months): n/a</td>\n",
       "      <td>survival time from date of onset (months): n/a</td>\n",
       "      <td>survival time from date of onset (months): n/a</td>\n",
       "      <td>...</td>\n",
       "      <td>survival time from date of onset (months): 29</td>\n",
       "      <td>survival time from date of onset (months): 29</td>\n",
       "      <td>survival time from date of onset (months): 27</td>\n",
       "      <td>survival time from date of onset (months): 30</td>\n",
       "      <td>survival time from date of onset (months): 52</td>\n",
       "      <td>survival time from date of onset (months): 71</td>\n",
       "      <td>survival time from date of onset (months): 48</td>\n",
       "      <td>survival time from date of onset (months): 18</td>\n",
       "      <td>survival time from date of onset (months): 23</td>\n",
       "      <td>survival time from date of onset (months): 13</td>\n",
       "    </tr>\n",
       "  </tbody>\n",
       "</table>\n",
       "<p>5 rows × 41 columns</p>\n",
       "</div>"
      ],
      "text/plain": [
       "         !Sample_geo_accession  \\\n",
       "0  !Sample_characteristics_ch1   \n",
       "1  !Sample_characteristics_ch1   \n",
       "2  !Sample_characteristics_ch1   \n",
       "3  !Sample_characteristics_ch1   \n",
       "4  !Sample_characteristics_ch1   \n",
       "\n",
       "                                       GSM2865623  \\\n",
       "0                                       Sex: male   \n",
       "1                     age at death (in years): 31   \n",
       "2                          disease state: Control   \n",
       "3                   survival characteristics: n/a   \n",
       "4  survival time from date of onset (months): n/a   \n",
       "\n",
       "                                       GSM2865624  \\\n",
       "0                                       Sex: male   \n",
       "1                     age at death (in years): 59   \n",
       "2                          disease state: Control   \n",
       "3                   survival characteristics: n/a   \n",
       "4  survival time from date of onset (months): n/a   \n",
       "\n",
       "                                       GSM2865625  \\\n",
       "0                                       Sex: male   \n",
       "1                     age at death (in years): 68   \n",
       "2                          disease state: Control   \n",
       "3                   survival characteristics: n/a   \n",
       "4  survival time from date of onset (months): n/a   \n",
       "\n",
       "                                       GSM2865626  \\\n",
       "0                                     Sex: female   \n",
       "1                     age at death (in years): 71   \n",
       "2                          disease state: Control   \n",
       "3                   survival characteristics: n/a   \n",
       "4  survival time from date of onset (months): n/a   \n",
       "\n",
       "                                       GSM2865627  \\\n",
       "0                                       Sex: male   \n",
       "1                     age at death (in years): 48   \n",
       "2                          disease state: Control   \n",
       "3                   survival characteristics: n/a   \n",
       "4  survival time from date of onset (months): n/a   \n",
       "\n",
       "                                       GSM2865628  \\\n",
       "0                                       Sex: male   \n",
       "1                     age at death (in years): 58   \n",
       "2                          disease state: Control   \n",
       "3                   survival characteristics: n/a   \n",
       "4  survival time from date of onset (months): n/a   \n",
       "\n",
       "                                       GSM2865629  \\\n",
       "0                                       Sex: male   \n",
       "1                     age at death (in years): 60   \n",
       "2                          disease state: Control   \n",
       "3                   survival characteristics: n/a   \n",
       "4  survival time from date of onset (months): n/a   \n",
       "\n",
       "                                       GSM2865630  \\\n",
       "0                                       Sex: male   \n",
       "1                     age at death (in years): 44   \n",
       "2                          disease state: Control   \n",
       "3                   survival characteristics: n/a   \n",
       "4  survival time from date of onset (months): n/a   \n",
       "\n",
       "                                       GSM2865631  ...  \\\n",
       "0                                       Sex: male  ...   \n",
       "1                     age at death (in years): 73  ...   \n",
       "2                          disease state: Control  ...   \n",
       "3                   survival characteristics: n/a  ...   \n",
       "4  survival time from date of onset (months): n/a  ...   \n",
       "\n",
       "                                          GSM2865653  \\\n",
       "0                                        Sex: female   \n",
       "1                        age at death (in years): 61   \n",
       "2  disease state: Sporadic Amyotrophic Lateral Sc...   \n",
       "3  survival characteristics: medium term survival...   \n",
       "4      survival time from date of onset (months): 29   \n",
       "\n",
       "                                          GSM2865654  \\\n",
       "0                                        Sex: female   \n",
       "1                        age at death (in years): 51   \n",
       "2  disease state: Sporadic Amyotrophic Lateral Sc...   \n",
       "3  survival characteristics: medium term survival...   \n",
       "4      survival time from date of onset (months): 29   \n",
       "\n",
       "                                          GSM2865655  \\\n",
       "0                                          Sex: male   \n",
       "1                        age at death (in years): 63   \n",
       "2  disease state: Sporadic Amyotrophic Lateral Sc...   \n",
       "3  survival characteristics: medium term survival...   \n",
       "4      survival time from date of onset (months): 27   \n",
       "\n",
       "                                          GSM2865656  \\\n",
       "0                                        Sex: female   \n",
       "1                        age at death (in years): 70   \n",
       "2  disease state: Sporadic Amyotrophic Lateral Sc...   \n",
       "3  survival characteristics: medium term survival...   \n",
       "4      survival time from date of onset (months): 30   \n",
       "\n",
       "                                          GSM2865657  \\\n",
       "0                                        Sex: female   \n",
       "1                        age at death (in years): 69   \n",
       "2  disease state: Sporadic Amyotrophic Lateral Sc...   \n",
       "3  survival characteristics: medium term survival...   \n",
       "4      survival time from date of onset (months): 52   \n",
       "\n",
       "                                          GSM2865658  \\\n",
       "0                                        Sex: female   \n",
       "1                        age at death (in years): 64   \n",
       "2  disease state: Sporadic Amyotrophic Lateral Sc...   \n",
       "3  survival characteristics: medium term survival...   \n",
       "4      survival time from date of onset (months): 71   \n",
       "\n",
       "                                          GSM2865659  \\\n",
       "0                                          Sex: male   \n",
       "1                        age at death (in years): 46   \n",
       "2  disease state: Sporadic Amyotrophic Lateral Sc...   \n",
       "3  survival characteristics: medium term survival...   \n",
       "4      survival time from date of onset (months): 48   \n",
       "\n",
       "                                          GSM2865660  \\\n",
       "0                                          Sex: male   \n",
       "1                        age at death (in years): 55   \n",
       "2  disease state: Sporadic Amyotrophic Lateral Sc...   \n",
       "3  survival characteristics: short term survival ...   \n",
       "4      survival time from date of onset (months): 18   \n",
       "\n",
       "                                          GSM2865661  \\\n",
       "0                                          Sex: male   \n",
       "1                        age at death (in years): 51   \n",
       "2  disease state: Sporadic Amyotrophic Lateral Sc...   \n",
       "3  survival characteristics: short term survival ...   \n",
       "4      survival time from date of onset (months): 23   \n",
       "\n",
       "                                          GSM2865662  \n",
       "0                                          Sex: male  \n",
       "1                        age at death (in years): 59  \n",
       "2  disease state: Sporadic Amyotrophic Lateral Sc...  \n",
       "3  survival characteristics: short term survival ...  \n",
       "4      survival time from date of onset (months): 13  \n",
       "\n",
       "[5 rows x 41 columns]"
      ]
     },
     "execution_count": 6,
     "metadata": {},
     "output_type": "execute_result"
    }
   ],
   "source": [
    "clinical_data.head()"
   ]
  },
  {
   "cell_type": "code",
   "execution_count": 7,
   "metadata": {
    "ExecuteTime": {
     "end_time": "2024-01-10T22:35:25.865622581Z",
     "start_time": "2024-01-10T22:35:25.859057718Z"
    },
    "collapsed": false
   },
   "outputs": [
    {
     "data": {
      "text/plain": [
       "{0: ['Sex: male', 'Sex: female'],\n",
       " 1: ['age at death (in years): 31',\n",
       "  'age at death (in years): 59',\n",
       "  'age at death (in years): 68',\n",
       "  'age at death (in years): 71',\n",
       "  'age at death (in years): 48',\n",
       "  'age at death (in years): 58',\n",
       "  'age at death (in years): 60',\n",
       "  'age at death (in years): 44',\n",
       "  'age at death (in years): 73',\n",
       "  'age at death (in years): 39',\n",
       "  'age at death (in years): 67',\n",
       "  'age at death (in years): 41',\n",
       "  'age at death (in years): 65',\n",
       "  'age at death (in years): 43',\n",
       "  'age at death (in years): 54',\n",
       "  'age at death (in years): 38',\n",
       "  'age at death (in years): 45',\n",
       "  'age at death (in years): 46',\n",
       "  'age at death (in years): 51',\n",
       "  'age at death (in years): 69',\n",
       "  'age at death (in years): 61',\n",
       "  'age at death (in years): 40',\n",
       "  'age at death (in years): 63',\n",
       "  'age at death (in years): 70',\n",
       "  'age at death (in years): 64',\n",
       "  'age at death (in years): 55'],\n",
       " 2: ['disease state: Control',\n",
       "  'disease state: Sporadic Amyotrophic Lateral Sclerosis'],\n",
       " 3: ['survival characteristics: n/a',\n",
       "  'survival characteristics: long term survival more than 6 yrs',\n",
       "  'survival characteristics: medium term survival up to 6 yrs',\n",
       "  'survival characteristics: short term survival up to 24 months'],\n",
       " 4: ['survival time from date of onset (months): n/a',\n",
       "  'survival time from date of onset (months): 90',\n",
       "  'survival time from date of onset (months): 96',\n",
       "  'survival time from date of onset (months): 38',\n",
       "  'survival time from date of onset (months): 30',\n",
       "  'survival time from date of onset (months): 27',\n",
       "  'survival time from date of onset (months): 31',\n",
       "  'survival time from date of onset (months): 42',\n",
       "  'survival time from date of onset (months): 52',\n",
       "  'survival time from date of onset (months): 49',\n",
       "  'survival time from date of onset (months): 60',\n",
       "  'survival time from date of onset (months): 20',\n",
       "  'survival time from date of onset (months): 18',\n",
       "  'survival time from date of onset (months): 22',\n",
       "  'survival time from date of onset (months): 11',\n",
       "  'survival time from date of onset (months): 130',\n",
       "  'survival time from date of onset (months): 72',\n",
       "  'survival time from date of onset (months): 43',\n",
       "  'survival time from date of onset (months): 29',\n",
       "  'survival time from date of onset (months): 71',\n",
       "  'survival time from date of onset (months): 48',\n",
       "  'survival time from date of onset (months): 23',\n",
       "  'survival time from date of onset (months): 13'],\n",
       " 5: ['post-mortem interval in hours: 8',\n",
       "  'post-mortem interval in hours: 7',\n",
       "  'post-mortem interval in hours: 9',\n",
       "  'post-mortem interval in hours: 4',\n",
       "  'post-mortem interval in hours: 6.5',\n",
       "  'post-mortem interval in hours: 10',\n",
       "  'post-mortem interval in hours: 6',\n",
       "  'post-mortem interval in hours: 3',\n",
       "  'post-mortem interval in hours: 5',\n",
       "  'post-mortem interval in hours: 7.5',\n",
       "  'post-mortem interval in hours: 5.3'],\n",
       " 6: ['race: caucasian'],\n",
       " 7: ['location of onset: n/a',\n",
       "  'location of onset: arm onset',\n",
       "  'location of onset: trunk onset',\n",
       "  'location of onset: leg onset'],\n",
       " 8: ['occupation (job): n/a',\n",
       "  'occupation (job): technical architecture head civil servant',\n",
       "  'occupation (job): Employed in bike club as secretary. Sportive type, cycled 150 km a day up unill 1994.',\n",
       "  'occupation (job): Employed in agricultural machinery factory. Sportive type. Suffered a severe fall on her buttocks while skating on ice.',\n",
       "  'occupation (job): Administrator in gardening company, sportive man, Up until 1975 lived with his parents in gardening company and came into contact with different pesticides',\n",
       "  'occupation (job): Head constable of the policeforce in Haarlem',\n",
       "  'occupation (job): Plummer, intensive contact with copper and PVC-glue',\n",
       "  \"occupation (job): housewife and nurse in old people's nursing home untill 1987\",\n",
       "  'occupation (job): employed in management with stressful job (self report)',\n",
       "  'occupation (job): employed in administration in woodfactory and in past worked as barman',\n",
       "  'occupation (job): Ex-metal- bank employee',\n",
       "  'occupation (job): computer operator, worked also with chemical substances',\n",
       "  'occupation (job): employed in administration',\n",
       "  'occupation (job): housewife',\n",
       "  'occupation (job): housewife, previously worked in a taylorshop, wife of painter,/decorator',\n",
       "  'occupation (job): In the past contact with lead damps, and dental protheses with 9 amalgam fillings',\n",
       "  'occupation (job): occupation not known, however patient had been exposed to toxic substances',\n",
       "  'occupation (job): Assistent export manager in office product supplies. At the age of 16 suffered a heavy blow on his head'],\n",
       " 9: ['smoker or non smoker: n/a',\n",
       "  'smoker or non smoker: non smoker',\n",
       "  'smoker or non smoker: smoker'],\n",
       " 10: ['alchool use or not: n/a',\n",
       "  'alchool use or not: moderate use of alcohol ( 2/d men, 1/d women, elderly)',\n",
       "  'alchool use or not: abstinent',\n",
       "  'alchool use or not: more than moderate (3 /d men, 2/d women, elderly)',\n",
       "  'alchool use or not: abuse of acohol'],\n",
       " 11: ['other pathologies: n/a',\n",
       "  'other pathologies: (1989) Anamnesis of Chronic aspecific respiratory disease, hypertsension and adipositas. Uncinate fits (temporal epilepsy). In 1988 Salmonella typhimu',\n",
       "  'other pathologies: Suffered atopic eczema as a child (age 2 yrs). 1969 pneumonia. Chronic aspecific respiratory disease',\n",
       "  'other pathologies: diverticulosis since 2nd WW. Benign mammay cyst. Uterus myoma. Melanoma right leg',\n",
       "  'other pathologies: Back pain underwent a laminectomy (L4-L5).As a child also suffered kidney disease during a cold. Bad acn?, rontgen treatment of torax and face. In 1990 facial and bottom cheak infection',\n",
       "  'other pathologies: A lot of stress due to loss of family members/ friends and difficult contact with eldest son',\n",
       "  'other pathologies: period of alcohol abuse as well as depression period in the past. Suffered stomach ache',\n",
       "  'other pathologies: recidive sinusitis, suffered frequent colds',\n",
       "  'other pathologies: Begin 1990,hallucinations with signs of daementia, change in personality, planning capacity and disorienation. 1990 diagnosis:schizofrenia simplex with loss of intelligence and frontal, cortical atrophy',\n",
       "  'other pathologies: Had bronchitis untill 1945, had a period of hypertension during the use of the pill',\n",
       "  \"other pathologies: Raynaud's attacks\",\n",
       "  'other pathologies: transposition of n. ulnaris (1988)/in the past suffered some epileptic attacks/ spondylarthrosis deform. C4-C6',\n",
       "  'other pathologies: Suffered a heart attack after which he had probmlems of communication. August 1989 operated intestinal carcinoma (stoma was closed in november 1989)',\n",
       "  'other pathologies: Colic pains left side of abdomen, had previously been operated 13 times for similar problem. Suffered hypertension',\n",
       "  'other pathologies: psoriasis. Motor and car-accident',\n",
       "  'other pathologies: Stressful experiences in her life, such as traumatic birth of her son.',\n",
       "  'other pathologies: In the past frequent migrain headaches.Osteopenia and hypercholesterolemy. Trismus.',\n",
       "  'other pathologies: Injured nose (with nosebleeds), due to violent ex-partner. Very stressed due to personal situation, divorce. Previous womb operation.',\n",
       "  'other pathologies: Known with hypertension',\n",
       "  'other pathologies: Adipositas, diabetes mellitus, arthrosis. Amamnesis: womb operaion, and knees and ankles due to arthrosis',\n",
       "  'other pathologies: Possible leasion of periferic and central motoric neuron at the spinal level. Known with hypertension',\n",
       "  'other pathologies: known with hypertension since 1960. Hypercholesterolemia and ECG with signs of anteroseptal infarct.',\n",
       "  'other pathologies: malaria since 1991 (New-Guinea). Sincs 1990 diabetes type II. 1986 cholecystectomie, 1987 period with hypertension',\n",
       "  'other pathologies: In 1976 operated for aneurysma. Post-operational abducensparesis. in 1981 dogbite upperlip. 1983 angina complaints'],\n",
       " 12: ['therapy used: n/a',\n",
       "  'therapy used: Hypertension medication (tagamet, inhibin, trasolan, isoptin). Participated in the Acetyl cyst. trial',\n",
       "  'therapy used: rilutek',\n",
       "  'therapy used: Participated in the n-acetylcysteine trial',\n",
       "  'therapy used: Salazopyrin when needed',\n",
       "  'therapy used: In 1990 infections treated with different antibiotics and a mushroom extract. Vit B injections',\n",
       "  'therapy used: Vitamin B, Tryptizol, Prednison/Lactulose, Normison and lactulose when needed',\n",
       "  'therapy used: theolair retard, temesta, lactulose, codeine, zantac, regla, tranxene, euphiline, morfine hcl',\n",
       "  'therapy used: Participated in the n-acetylcysteine trial. Further medication Normison and Laxantia.',\n",
       "  'therapy used: rilutek, vit E, Oxazepam, amitriptyline-chloride, acetyl cyst.',\n",
       "  'therapy used: Acetyl cyst.',\n",
       "  'therapy used: Carbamazepine divitabs, sinaspril, clonazepam, importal, microlax',\n",
       "  'therapy used: Rilutek, cream for psoriasis',\n",
       "  'therapy used: vit-B complex, vitamine C',\n",
       "  'therapy used: Trismus treated with botox injections and irradiation of parotids for excessive saliva',\n",
       "  'therapy used: Participated in the n-acetylcysteine trial. Amytriptiline, Scopoderm plasters, Oxygen',\n",
       "  'therapy used: Participated in the n-acetylcysteine trial. Ozazepap when needed',\n",
       "  'therapy used: Renitec (hypertension). participated in the n-acetylcysteine trial',\n",
       "  'therapy used: Tolbutamide, magnesiumsulfate (for cramps), Rilutec, Fluimicil, etc',\n",
       "  'therapy used: Selokeen, vit C, vit E, Coenzyme q10, vitamax, vit. B complex, superoxyde dismutase.',\n",
       "  'therapy used: Participated in the Acetyl cyst. trial',\n",
       "  'therapy used: antidiabetics, Rastinon, glucophage',\n",
       "  'therapy used: Legendal, Tryptizol'],\n",
       " 13: ['vaccination boost: n/a', 'vaccination boost: polio vaccine (1992)'],\n",
       " 14: ['familial anamnesis: n/a',\n",
       "  'familial anamnesis: Father died of heart attack.',\n",
       "  'familial anamnesis: A son with asthma bronchiale. Brother with back problems.',\n",
       "  \"familial anamnesis: Several cases of Alzheimer in his mother's family\",\n",
       "  'familial anamnesis: A sister of her mother had MS and died after an ilness period of 10 years at the age of 68',\n",
       "  'familial anamnesis: father died in 1987 of brain tumor and had spinal cord tumors and intestine polyps',\n",
       "  'familial anamnesis: brother MS, daughter handicapped',\n",
       "  \"familial anamnesis: Husband died in 13-03-1986 in Switserland of ALS. A nephew of mother's side was paralyzed\",\n",
       "  'familial anamnesis: Mother died of cancer',\n",
       "  'familial anamnesis: sister with morbus Reckinhhausen',\n",
       "  'familial anamnesis: Mother died of cancer, father of consequences tentamen suicidii',\n",
       "  'familial anamnesis: father died at the age of 49 of hart disease and mother suffered of hypertension']}"
      ]
     },
     "execution_count": 7,
     "metadata": {},
     "output_type": "execute_result"
    }
   ],
   "source": [
    "clinical_data_unique = get_unique_values_by_row(clinical_data)\n",
    "clinical_data_unique"
   ]
  },
  {
   "cell_type": "markdown",
   "metadata": {
    "ExecuteTime": {
     "end_time": "2023-12-31T03:58:04.978204446Z",
     "start_time": "2023-12-31T03:58:04.922270095Z"
    },
    "collapsed": false
   },
   "source": [
    "Analyze the metadata to determine data relevance and find ways to extract the clinical data.\n",
    "Reference prompt:"
   ]
  },
  {
   "cell_type": "code",
   "execution_count": 8,
   "metadata": {
    "ExecuteTime": {
     "end_time": "2024-01-10T22:35:26.257455749Z",
     "start_time": "2024-01-10T22:35:26.245215578Z"
    },
    "collapsed": false
   },
   "outputs": [
    {
     "data": {
      "text/plain": [
       "'As a biomedical research team, we are selecting datasets to study the association between the human trait \\'Amyotrophic Lateral Sclerosis\\' and genetic factors, optionally considering the influence of age and gender. After searching the GEO database and parsing the matrix file of a series, we obtained background information and sample characteristics data. We will provide textual information about the dataset background, and a Python dictionary storing a list of unique values for each field of the sample characteristics data. Please carefully review the provided information and answer the following questions about this dataset:\\n1. Does this dataset contain gene expression data? (Note: Pure miRNA data is not suitable.)\\n2. For each of the traits \\'Amyotrophic Lateral Sclerosis\\', \\'age\\', and \\'gender\\', please address these points:\\n   (1) Is there human data available for this trait?\\n   (2) If so, identify the key in the sample characteristics dictionary where unique values of this trait is recorded. The key is an integer. The trait information might be explicitly recorded, or can be inferred from the field with some biomedical knowledge or understanding about the data collection process.\\n   (3) Choose an appropriate data type (either \\'continuous\\' or \\'binary\\') for each trait. Write a Python function to convert any given value of the trait to this data type. The function should handle inference about the trait value and convert unknown values to None.\\n   Name the functions \\'convert_trait\\', \\'convert_age\\', and \\'convert_gender\\', respectively.\\n\\nBackground information about the dataset:\\n!Series_title\\t\"High-resolution map of copy number variations in motor cortex of Control and Sporadic Amyotrphic Lateral Sclerosis patients by using a customized exon-centric comparative genomic hybridization array.\"\\n!Series_summary\\t\"Amyotrophic lateral sclerosis (ALS) is an incurable and fatal neurodegenerative disease. Increasing the chances of success for future clinical strategies requires more in-depth knowledge of the molecular basis underlying disease heterogeneity. We recently laid the foundation for a molecular taxonomy of ALS by whole transcriptome expression profiling of motor cortex from sporadic ALS (SALS) patients. Here, we analyzed genomic structural aberrations occurring in the same patients, by using a customized exon-centered comparative genomic hybridization array (aCGH) covering a large panel of ALS-related genes. Integrative analysis of copy number profiles with their associated transcriptomic data revealed subtype-specific genomic perturbations and candidate driver genes positively correlated with transcriptional signatures, which might represent novel potential biomarkers and therapeutic targets. This study represents the first comprehensive “omics” analysis of molecular events characterizing SALS pathology, providing a road map to facilitate genome-guided personalized diagnosis and treatments for this devastating disease.\"\\n!Series_overall_design\\t\"Motor cortex samples from 30 patients with clear SALS diagnosis and 10 control individuals were analysed by using an 8x60K custom exon-centric NeuroArray platform v. 2.0 (Agilent Technologies, Santa Clara, CA), tailored to detect single/multi-exon deletions and duplications in a large panel of ALS-related genes and to others additional neurological disorders. Two experimental conditions: DNA test and a reference of the same sex (Euro Reference, Agilent Technologies, Santa Clara, CA) were processed according to the manufacturer’s protocol (Agilent Technologies, Santa Clara, CA). SALS patient DNAs were labeled with Cy5-dUTP and reference DNAs for reference DNAs. Arrays were scanned at 3 µm resolution using an Agilent G4900DA SureScan Microarray Scanner System and aCGH image data were processed using Agilent’s Feature Extraction software. Feature extracted raw data was normalized, analyzed and visualized using Agilent CytoGenomics v. 4.0.3.12 and Genomic Workbench v. 7.0.4.0 software (Agilent Technologies, Santa Clara, CA, USA). GC correction with a window size of 2\\u2009kb and Diploid Peak Centralization were used for normalization. The Centralization Normalization Algorithm with a threshold of 6.0 and a bin size of 10 was also used for detecting aberrant regions or regions of constant CNVs. Aberrations were detected by the Aberration Detection Method II algorithm (ADM-2), with a sensitivity threshold of 6.0 and moving average window of 2Mb. Human reference sequence hg19 assembly was used to define the genomic coordinates of detected CNVs.\"\\n\\nSample characteristics dictionary (from \"!Sample_characteristics_ch1\", converted to a Python dictionary that stores the unique values for each field):\\n{0: [\\'Sex: male\\', \\'Sex: female\\'], 1: [\\'age at death (in years): 31\\', \\'age at death (in years): 59\\', \\'age at death (in years): 68\\', \\'age at death (in years): 71\\', \\'age at death (in years): 48\\', \\'age at death (in years): 58\\', \\'age at death (in years): 60\\', \\'age at death (in years): 44\\', \\'age at death (in years): 73\\', \\'age at death (in years): 39\\', \\'age at death (in years): 67\\', \\'age at death (in years): 41\\', \\'age at death (in years): 65\\', \\'age at death (in years): 43\\', \\'age at death (in years): 54\\', \\'age at death (in years): 38\\', \\'age at death (in years): 45\\', \\'age at death (in years): 46\\', \\'age at death (in years): 51\\', \\'age at death (in years): 69\\', \\'age at death (in years): 61\\', \\'age at death (in years): 40\\', \\'age at death (in years): 63\\', \\'age at death (in years): 70\\', \\'age at death (in years): 64\\', \\'age at death (in years): 55\\'], 2: [\\'disease state: Control\\', \\'disease state: Sporadic Amyotrophic Lateral Sclerosis\\'], 3: [\\'survival characteristics: n/a\\', \\'survival characteristics: long term survival more than 6 yrs\\', \\'survival characteristics: medium term survival up to 6 yrs\\', \\'survival characteristics: short term survival up to 24 months\\'], 4: [\\'survival time from date of onset (months): n/a\\', \\'survival time from date of onset (months): 90\\', \\'survival time from date of onset (months): 96\\', \\'survival time from date of onset (months): 38\\', \\'survival time from date of onset (months): 30\\', \\'survival time from date of onset (months): 27\\', \\'survival time from date of onset (months): 31\\', \\'survival time from date of onset (months): 42\\', \\'survival time from date of onset (months): 52\\', \\'survival time from date of onset (months): 49\\', \\'survival time from date of onset (months): 60\\', \\'survival time from date of onset (months): 20\\', \\'survival time from date of onset (months): 18\\', \\'survival time from date of onset (months): 22\\', \\'survival time from date of onset (months): 11\\', \\'survival time from date of onset (months): 130\\', \\'survival time from date of onset (months): 72\\', \\'survival time from date of onset (months): 43\\', \\'survival time from date of onset (months): 29\\', \\'survival time from date of onset (months): 71\\', \\'survival time from date of onset (months): 48\\', \\'survival time from date of onset (months): 23\\', \\'survival time from date of onset (months): 13\\'], 5: [\\'post-mortem interval in hours: 8\\', \\'post-mortem interval in hours: 7\\', \\'post-mortem interval in hours: 9\\', \\'post-mortem interval in hours: 4\\', \\'post-mortem interval in hours: 6.5\\', \\'post-mortem interval in hours: 10\\', \\'post-mortem interval in hours: 6\\', \\'post-mortem interval in hours: 3\\', \\'post-mortem interval in hours: 5\\', \\'post-mortem interval in hours: 7.5\\', \\'post-mortem interval in hours: 5.3\\'], 6: [\\'race: caucasian\\'], 7: [\\'location of onset: n/a\\', \\'location of onset: arm onset\\', \\'location of onset: trunk onset\\', \\'location of onset: leg onset\\'], 8: [\\'occupation (job): n/a\\', \\'occupation (job): technical architecture head civil servant\\', \\'occupation (job): Employed in bike club as secretary. Sportive type, cycled 150 km a day up unill 1994.\\', \\'occupation (job): Employed in agricultural machinery factory. Sportive type. Suffered a severe fall on her buttocks while skating on ice.\\', \\'occupation (job): Administrator in gardening company, sportive man, Up until 1975 lived with his parents in gardening company and came into contact with different pesticides\\', \\'occupation (job): Head constable of the policeforce in Haarlem\\', \\'occupation (job): Plummer, intensive contact with copper and PVC-glue\\', \"occupation (job): housewife and nurse in old people\\'s nursing home untill 1987\", \\'occupation (job): employed in management with stressful job (self report)\\', \\'occupation (job): employed in administration in woodfactory and in past worked as barman\\', \\'occupation (job): Ex-metal- bank employee\\', \\'occupation (job): computer operator, worked also with chemical substances\\', \\'occupation (job): employed in administration\\', \\'occupation (job): housewife\\', \\'occupation (job): housewife, previously worked in a taylorshop, wife of painter,/decorator\\', \\'occupation (job): In the past contact with lead damps, and dental protheses with 9 amalgam fillings\\', \\'occupation (job): occupation not known, however patient had been exposed to toxic substances\\', \\'occupation (job): Assistent export manager in office product supplies. At the age of 16 suffered a heavy blow on his head\\'], 9: [\\'smoker or non smoker: n/a\\', \\'smoker or non smoker: non smoker\\', \\'smoker or non smoker: smoker\\'], 10: [\\'alchool use or not: n/a\\', \\'alchool use or not: moderate use of alcohol ( 2/d men, 1/d women, elderly)\\', \\'alchool use or not: abstinent\\', \\'alchool use or not: more than moderate (3 /d men, 2/d women, elderly)\\', \\'alchool use or not: abuse of acohol\\'], 11: [\\'other pathologies: n/a\\', \\'other pathologies: (1989) Anamnesis of Chronic aspecific respiratory disease, hypertsension and adipositas. Uncinate fits (temporal epilepsy). In 1988 Salmonella typhimu\\', \\'other pathologies: Suffered atopic eczema as a child (age 2 yrs). 1969 pneumonia. Chronic aspecific respiratory disease\\', \\'other pathologies: diverticulosis since 2nd WW. Benign mammay cyst. Uterus myoma. Melanoma right leg\\', \\'other pathologies: Back pain underwent a laminectomy (L4-L5).As a child also suffered kidney disease during a cold. Bad acn?, rontgen treatment of torax and face. In 1990 facial and bottom cheak infection\\', \\'other pathologies: A lot of stress due to loss of family members/ friends and difficult contact with eldest son\\', \\'other pathologies: period of alcohol abuse as well as depression period in the past. Suffered stomach ache\\', \\'other pathologies: recidive sinusitis, suffered frequent colds\\', \\'other pathologies: Begin 1990,hallucinations with signs of daementia, change in personality, planning capacity and disorienation. 1990 diagnosis:schizofrenia simplex with loss of intelligence and frontal, cortical atrophy\\', \\'other pathologies: Had bronchitis untill 1945, had a period of hypertension during the use of the pill\\', \"other pathologies: Raynaud\\'s attacks\", \\'other pathologies: transposition of n. ulnaris (1988)/in the past suffered some epileptic attacks/ spondylarthrosis deform. C4-C6\\', \\'other pathologies: Suffered a heart attack after which he had probmlems of communication. August 1989 operated intestinal carcinoma (stoma was closed in november 1989)\\', \\'other pathologies: Colic pains left side of abdomen, had previously been operated 13 times for similar problem. Suffered hypertension\\', \\'other pathologies: psoriasis. Motor and car-accident\\', \\'other pathologies: Stressful experiences in her life, such as traumatic birth of her son.\\', \\'other pathologies: In the past frequent migrain headaches.Osteopenia and hypercholesterolemy. Trismus.\\', \\'other pathologies: Injured nose (with nosebleeds), due to violent ex-partner. Very stressed due to personal situation, divorce. Previous womb operation.\\', \\'other pathologies: Known with hypertension\\', \\'other pathologies: Adipositas, diabetes mellitus, arthrosis. Amamnesis: womb operaion, and knees and ankles due to arthrosis\\', \\'other pathologies: Possible leasion of periferic and central motoric neuron at the spinal level. Known with hypertension\\', \\'other pathologies: known with hypertension since 1960. Hypercholesterolemia and ECG with signs of anteroseptal infarct.\\', \\'other pathologies: malaria since 1991 (New-Guinea). Sincs 1990 diabetes type II. 1986 cholecystectomie, 1987 period with hypertension\\', \\'other pathologies: In 1976 operated for aneurysma. Post-operational abducensparesis. in 1981 dogbite upperlip. 1983 angina complaints\\'], 12: [\\'therapy used: n/a\\', \\'therapy used: Hypertension medication (tagamet, inhibin, trasolan, isoptin). Participated in the Acetyl cyst. trial\\', \\'therapy used: rilutek\\', \\'therapy used: Participated in the n-acetylcysteine trial\\', \\'therapy used: Salazopyrin when needed\\', \\'therapy used: In 1990 infections treated with different antibiotics and a mushroom extract. Vit B injections\\', \\'therapy used: Vitamin B, Tryptizol, Prednison/Lactulose, Normison and lactulose when needed\\', \\'therapy used: theolair retard, temesta, lactulose, codeine, zantac, regla, tranxene, euphiline, morfine hcl\\', \\'therapy used: Participated in the n-acetylcysteine trial. Further medication Normison and Laxantia.\\', \\'therapy used: rilutek, vit E, Oxazepam, amitriptyline-chloride, acetyl cyst.\\', \\'therapy used: Acetyl cyst.\\', \\'therapy used: Carbamazepine divitabs, sinaspril, clonazepam, importal, microlax\\', \\'therapy used: Rilutek, cream for psoriasis\\', \\'therapy used: vit-B complex, vitamine C\\', \\'therapy used: Trismus treated with botox injections and irradiation of parotids for excessive saliva\\', \\'therapy used: Participated in the n-acetylcysteine trial. Amytriptiline, Scopoderm plasters, Oxygen\\', \\'therapy used: Participated in the n-acetylcysteine trial. Ozazepap when needed\\', \\'therapy used: Renitec (hypertension). participated in the n-acetylcysteine trial\\', \\'therapy used: Tolbutamide, magnesiumsulfate (for cramps), Rilutec, Fluimicil, etc\\', \\'therapy used: Selokeen, vit C, vit E, Coenzyme q10, vitamax, vit. B complex, superoxyde dismutase.\\', \\'therapy used: Participated in the Acetyl cyst. trial\\', \\'therapy used: antidiabetics, Rastinon, glucophage\\', \\'therapy used: Legendal, Tryptizol\\'], 13: [\\'vaccination boost: n/a\\', \\'vaccination boost: polio vaccine (1992)\\'], 14: [\\'familial anamnesis: n/a\\', \\'familial anamnesis: Father died of heart attack.\\', \\'familial anamnesis: A son with asthma bronchiale. Brother with back problems.\\', \"familial anamnesis: Several cases of Alzheimer in his mother\\'s family\", \\'familial anamnesis: A sister of her mother had MS and died after an ilness period of 10 years at the age of 68\\', \\'familial anamnesis: father died in 1987 of brain tumor and had spinal cord tumors and intestine polyps\\', \\'familial anamnesis: brother MS, daughter handicapped\\', \"familial anamnesis: Husband died in 13-03-1986 in Switserland of ALS. A nephew of mother\\'s side was paralyzed\", \\'familial anamnesis: Mother died of cancer\\', \\'familial anamnesis: sister with morbus Reckinhhausen\\', \\'familial anamnesis: Mother died of cancer, father of consequences tentamen suicidii\\', \\'familial anamnesis: father died at the age of 49 of hart disease and mother suffered of hypertension\\']}\\n'"
      ]
     },
     "execution_count": 8,
     "metadata": {},
     "output_type": "execute_result"
    }
   ],
   "source": [
    "f'''As a biomedical research team, we are selecting datasets to study the association between the human trait \\'{TRAIT}\\' and genetic factors, optionally considering the influence of age and gender. After searching the GEO database and parsing the matrix file of a series, we obtained background information and sample characteristics data. We will provide textual information about the dataset background, and a Python dictionary storing a list of unique values for each field of the sample characteristics data. Please carefully review the provided information and answer the following questions about this dataset:\n",
    "1. Does this dataset contain gene expression data? (Note: Pure miRNA data is not suitable.)\n",
    "2. For each of the traits \\'{TRAIT}\\', 'age', and 'gender', please address these points:\n",
    "   (1) Is there human data available for this trait?\n",
    "   (2) If so, identify the key in the sample characteristics dictionary where unique values of this trait is recorded. The key is an integer. The trait information might be explicitly recorded, or can be inferred from the field with some biomedical knowledge or understanding about the data collection process.\n",
    "   (3) Choose an appropriate data type (either 'continuous' or 'binary') for each trait. Write a Python function to convert any given value of the trait to this data type. The function should handle inference about the trait value and convert unknown values to None.\n",
    "   Name the functions 'convert_trait', 'convert_age', and 'convert_gender', respectively.\n",
    "\n",
    "Background information about the dataset:\n",
    "{background_info}\n",
    "\n",
    "Sample characteristics dictionary (from \"!Sample_characteristics_ch1\", converted to a Python dictionary that stores the unique values for each field):\n",
    "{clinical_data_unique}\n",
    "'''"
   ]
  },
  {
   "cell_type": "markdown",
   "metadata": {
    "ExecuteTime": {
     "end_time": "2023-12-31T03:58:04.978240504Z",
     "start_time": "2023-12-31T03:58:04.922365324Z"
    },
    "collapsed": false
   },
   "source": [
    "Understand and verify the answer from GPT, to assign values to the below variables. Assign None to the 'row_id' variables if relevant data row was not found.\n",
    "Later we need to let GPT format its answer to automatically do these. But given the complexity of this step, let's grow some insight from the free-text answers for now."
   ]
  },
  {
   "cell_type": "code",
   "execution_count": 9,
   "metadata": {
    "ExecuteTime": {
     "end_time": "2024-01-10T22:35:26.880553410Z",
     "start_time": "2024-01-10T22:35:26.874815564Z"
    },
    "collapsed": false
   },
   "outputs": [],
   "source": [
    "is_gene_availabe = True\n",
    "trait_row = 2\n",
    "age_row = 1\n",
    "gender_row = 0\n",
    "\n",
    "trait_type = 'binary'"
   ]
  },
  {
   "cell_type": "code",
   "execution_count": 10,
   "metadata": {
    "ExecuteTime": {
     "end_time": "2024-01-10T22:35:27.115159871Z",
     "start_time": "2024-01-10T22:35:27.104408551Z"
    },
    "collapsed": false
   },
   "outputs": [],
   "source": [
    "is_available = is_gene_availabe and (trait_row is not None)\n",
    "if not is_available:\n",
    "    save_cohort_info(cohort, JSON_PATH, is_available)\n",
    "    print(\"This cohort is not usable. Please skip the following steps and jump to the next accession number.\")"
   ]
  },
  {
   "cell_type": "code",
   "execution_count": 11,
   "metadata": {
    "ExecuteTime": {
     "end_time": "2024-01-10T22:35:27.501693674Z",
     "start_time": "2024-01-10T22:35:27.497272055Z"
    },
    "collapsed": false
   },
   "outputs": [],
   "source": [
    "# Verify and use the functions generated by GPT\n",
    "\n",
    "def convert_trait(value):\n",
    "    \"\"\"\n",
    "    Convert the value to binary data type for ALS trait.\n",
    "    'Sporadic Amyotrophic Lateral Sclerosis' -> True (Presence of disease)\n",
    "    'Control' -> False (Absence of disease)\n",
    "    Unknown or other values -> None\n",
    "    \"\"\"\n",
    "    if value == 'disease state: Sporadic Amyotrophic Lateral Sclerosis':\n",
    "        return True\n",
    "    elif value == 'disease state: Control':\n",
    "        return False\n",
    "    else:\n",
    "        return None\n",
    "\n",
    "\n",
    "def convert_age(value):\n",
    "    \"\"\"\n",
    "    Convert the value to continuous data type for age.\n",
    "    Extracts the age in years from the string.\n",
    "    Example: 'age at death (in years): 31' -> 31\n",
    "    Unparsable or unknown values -> None\n",
    "    \"\"\"\n",
    "    if value.startswith('age at death (in years): '):\n",
    "        try:\n",
    "            return int(value.split(': ')[1])\n",
    "        except ValueError:\n",
    "            return None\n",
    "    else:\n",
    "        return None\n",
    "\n",
    "\n",
    "def convert_gender(value):\n",
    "    \"\"\"\n",
    "    Convert the value to binary data type for gender.\n",
    "    'Sex: male' -> True\n",
    "    'Sex: female' -> False\n",
    "    Unknown or other values -> None\n",
    "    \"\"\"\n",
    "    if value == 'Sex: male':\n",
    "        return True\n",
    "    elif value == 'Sex: female':\n",
    "        return False\n",
    "    else:\n",
    "        return None\n"
   ]
  },
  {
   "cell_type": "code",
   "execution_count": 12,
   "metadata": {
    "ExecuteTime": {
     "end_time": "2024-01-10T22:35:27.766905953Z",
     "start_time": "2024-01-10T22:35:27.724446061Z"
    },
    "collapsed": false
   },
   "outputs": [
    {
     "data": {
      "text/html": [
       "<div>\n",
       "<style scoped>\n",
       "    .dataframe tbody tr th:only-of-type {\n",
       "        vertical-align: middle;\n",
       "    }\n",
       "\n",
       "    .dataframe tbody tr th {\n",
       "        vertical-align: top;\n",
       "    }\n",
       "\n",
       "    .dataframe thead th {\n",
       "        text-align: right;\n",
       "    }\n",
       "</style>\n",
       "<table border=\"1\" class=\"dataframe\">\n",
       "  <thead>\n",
       "    <tr style=\"text-align: right;\">\n",
       "      <th></th>\n",
       "      <th>GSM2865623</th>\n",
       "      <th>GSM2865624</th>\n",
       "      <th>GSM2865625</th>\n",
       "      <th>GSM2865626</th>\n",
       "      <th>GSM2865627</th>\n",
       "      <th>GSM2865628</th>\n",
       "      <th>GSM2865629</th>\n",
       "      <th>GSM2865630</th>\n",
       "      <th>GSM2865631</th>\n",
       "      <th>GSM2865632</th>\n",
       "      <th>...</th>\n",
       "      <th>GSM2865653</th>\n",
       "      <th>GSM2865654</th>\n",
       "      <th>GSM2865655</th>\n",
       "      <th>GSM2865656</th>\n",
       "      <th>GSM2865657</th>\n",
       "      <th>GSM2865658</th>\n",
       "      <th>GSM2865659</th>\n",
       "      <th>GSM2865660</th>\n",
       "      <th>GSM2865661</th>\n",
       "      <th>GSM2865662</th>\n",
       "    </tr>\n",
       "  </thead>\n",
       "  <tbody>\n",
       "    <tr>\n",
       "      <th>Amyotrophic Lateral Sclerosis</th>\n",
       "      <td>0</td>\n",
       "      <td>0</td>\n",
       "      <td>0</td>\n",
       "      <td>0</td>\n",
       "      <td>0</td>\n",
       "      <td>0</td>\n",
       "      <td>0</td>\n",
       "      <td>0</td>\n",
       "      <td>0</td>\n",
       "      <td>0</td>\n",
       "      <td>...</td>\n",
       "      <td>1</td>\n",
       "      <td>1</td>\n",
       "      <td>1</td>\n",
       "      <td>1</td>\n",
       "      <td>1</td>\n",
       "      <td>1</td>\n",
       "      <td>1</td>\n",
       "      <td>1</td>\n",
       "      <td>1</td>\n",
       "      <td>1</td>\n",
       "    </tr>\n",
       "    <tr>\n",
       "      <th>Age</th>\n",
       "      <td>31</td>\n",
       "      <td>59</td>\n",
       "      <td>68</td>\n",
       "      <td>71</td>\n",
       "      <td>48</td>\n",
       "      <td>58</td>\n",
       "      <td>60</td>\n",
       "      <td>44</td>\n",
       "      <td>73</td>\n",
       "      <td>39</td>\n",
       "      <td>...</td>\n",
       "      <td>61</td>\n",
       "      <td>51</td>\n",
       "      <td>63</td>\n",
       "      <td>70</td>\n",
       "      <td>69</td>\n",
       "      <td>64</td>\n",
       "      <td>46</td>\n",
       "      <td>55</td>\n",
       "      <td>51</td>\n",
       "      <td>59</td>\n",
       "    </tr>\n",
       "    <tr>\n",
       "      <th>Gender</th>\n",
       "      <td>1</td>\n",
       "      <td>1</td>\n",
       "      <td>1</td>\n",
       "      <td>0</td>\n",
       "      <td>1</td>\n",
       "      <td>1</td>\n",
       "      <td>1</td>\n",
       "      <td>1</td>\n",
       "      <td>1</td>\n",
       "      <td>1</td>\n",
       "      <td>...</td>\n",
       "      <td>0</td>\n",
       "      <td>0</td>\n",
       "      <td>1</td>\n",
       "      <td>0</td>\n",
       "      <td>0</td>\n",
       "      <td>0</td>\n",
       "      <td>1</td>\n",
       "      <td>1</td>\n",
       "      <td>1</td>\n",
       "      <td>1</td>\n",
       "    </tr>\n",
       "  </tbody>\n",
       "</table>\n",
       "<p>3 rows × 40 columns</p>\n",
       "</div>"
      ],
      "text/plain": [
       "                               GSM2865623  GSM2865624  GSM2865625  GSM2865626  \\\n",
       "Amyotrophic Lateral Sclerosis           0           0           0           0   \n",
       "Age                                    31          59          68          71   \n",
       "Gender                                  1           1           1           0   \n",
       "\n",
       "                               GSM2865627  GSM2865628  GSM2865629  GSM2865630  \\\n",
       "Amyotrophic Lateral Sclerosis           0           0           0           0   \n",
       "Age                                    48          58          60          44   \n",
       "Gender                                  1           1           1           1   \n",
       "\n",
       "                               GSM2865631  GSM2865632  ...  GSM2865653  \\\n",
       "Amyotrophic Lateral Sclerosis           0           0  ...           1   \n",
       "Age                                    73          39  ...          61   \n",
       "Gender                                  1           1  ...           0   \n",
       "\n",
       "                               GSM2865654  GSM2865655  GSM2865656  GSM2865657  \\\n",
       "Amyotrophic Lateral Sclerosis           1           1           1           1   \n",
       "Age                                    51          63          70          69   \n",
       "Gender                                  0           1           0           0   \n",
       "\n",
       "                               GSM2865658  GSM2865659  GSM2865660  GSM2865661  \\\n",
       "Amyotrophic Lateral Sclerosis           1           1           1           1   \n",
       "Age                                    64          46          55          51   \n",
       "Gender                                  0           1           1           1   \n",
       "\n",
       "                               GSM2865662  \n",
       "Amyotrophic Lateral Sclerosis           1  \n",
       "Age                                    59  \n",
       "Gender                                  1  \n",
       "\n",
       "[3 rows x 40 columns]"
      ]
     },
     "execution_count": 12,
     "metadata": {},
     "output_type": "execute_result"
    }
   ],
   "source": [
    "selected_clinical_data = geo_select_clinical_features(clinical_data, TRAIT, trait_row, convert_trait, age_row=age_row,\n",
    "                                                      convert_age=convert_age, gender_row=gender_row,\n",
    "                                                      convert_gender=convert_gender)\n",
    "selected_clinical_data.head()"
   ]
  },
  {
   "cell_type": "markdown",
   "metadata": {
    "ExecuteTime": {
     "end_time": "2023-12-31T03:58:04.978664193Z",
     "start_time": "2023-12-31T03:58:04.966117261Z"
    },
    "collapsed": false
   },
   "source": [
    "### Genetic data preprocessing and final filtering"
   ]
  },
  {
   "cell_type": "code",
   "execution_count": 13,
   "metadata": {
    "ExecuteTime": {
     "end_time": "2024-01-10T22:35:28.390236406Z",
     "start_time": "2024-01-10T22:35:28.100474737Z"
    },
    "collapsed": false
   },
   "outputs": [
    {
     "data": {
      "text/html": [
       "<div>\n",
       "<style scoped>\n",
       "    .dataframe tbody tr th:only-of-type {\n",
       "        vertical-align: middle;\n",
       "    }\n",
       "\n",
       "    .dataframe tbody tr th {\n",
       "        vertical-align: top;\n",
       "    }\n",
       "\n",
       "    .dataframe thead th {\n",
       "        text-align: right;\n",
       "    }\n",
       "</style>\n",
       "<table border=\"1\" class=\"dataframe\">\n",
       "  <thead>\n",
       "    <tr style=\"text-align: right;\">\n",
       "      <th></th>\n",
       "      <th>GSM2865623</th>\n",
       "      <th>GSM2865624</th>\n",
       "      <th>GSM2865625</th>\n",
       "      <th>GSM2865626</th>\n",
       "      <th>GSM2865627</th>\n",
       "      <th>GSM2865628</th>\n",
       "      <th>GSM2865629</th>\n",
       "      <th>GSM2865630</th>\n",
       "      <th>GSM2865631</th>\n",
       "      <th>GSM2865632</th>\n",
       "      <th>...</th>\n",
       "      <th>GSM2865653</th>\n",
       "      <th>GSM2865654</th>\n",
       "      <th>GSM2865655</th>\n",
       "      <th>GSM2865656</th>\n",
       "      <th>GSM2865657</th>\n",
       "      <th>GSM2865658</th>\n",
       "      <th>GSM2865659</th>\n",
       "      <th>GSM2865660</th>\n",
       "      <th>GSM2865661</th>\n",
       "      <th>GSM2865662</th>\n",
       "    </tr>\n",
       "    <tr>\n",
       "      <th>ID</th>\n",
       "      <th></th>\n",
       "      <th></th>\n",
       "      <th></th>\n",
       "      <th></th>\n",
       "      <th></th>\n",
       "      <th></th>\n",
       "      <th></th>\n",
       "      <th></th>\n",
       "      <th></th>\n",
       "      <th></th>\n",
       "      <th></th>\n",
       "      <th></th>\n",
       "      <th></th>\n",
       "      <th></th>\n",
       "      <th></th>\n",
       "      <th></th>\n",
       "      <th></th>\n",
       "      <th></th>\n",
       "      <th></th>\n",
       "      <th></th>\n",
       "      <th></th>\n",
       "    </tr>\n",
       "  </thead>\n",
       "  <tbody>\n",
       "    <tr>\n",
       "      <th>A_14_P100049</th>\n",
       "      <td>0.158511</td>\n",
       "      <td>0.122782</td>\n",
       "      <td>0.313547</td>\n",
       "      <td>0.237369</td>\n",
       "      <td>-0.250916</td>\n",
       "      <td>-0.003914</td>\n",
       "      <td>0.332171</td>\n",
       "      <td>0.315163</td>\n",
       "      <td>-0.194198</td>\n",
       "      <td>0.142545</td>\n",
       "      <td>...</td>\n",
       "      <td>-0.012179</td>\n",
       "      <td>-0.434771</td>\n",
       "      <td>-0.629828</td>\n",
       "      <td>0.276529</td>\n",
       "      <td>0.068948</td>\n",
       "      <td>0.140358</td>\n",
       "      <td>-0.059485</td>\n",
       "      <td>-0.205791</td>\n",
       "      <td>-0.300968</td>\n",
       "      <td>0.162252</td>\n",
       "    </tr>\n",
       "    <tr>\n",
       "      <th>A_14_P100052</th>\n",
       "      <td>-0.465949</td>\n",
       "      <td>-0.465195</td>\n",
       "      <td>-0.627533</td>\n",
       "      <td>-0.355589</td>\n",
       "      <td>-0.637869</td>\n",
       "      <td>-0.444212</td>\n",
       "      <td>-0.342604</td>\n",
       "      <td>-0.539502</td>\n",
       "      <td>-0.631772</td>\n",
       "      <td>-0.452880</td>\n",
       "      <td>...</td>\n",
       "      <td>-0.460624</td>\n",
       "      <td>-0.187083</td>\n",
       "      <td>-0.282205</td>\n",
       "      <td>0.762378</td>\n",
       "      <td>-0.191386</td>\n",
       "      <td>-0.609364</td>\n",
       "      <td>-0.254617</td>\n",
       "      <td>-0.300799</td>\n",
       "      <td>-0.683098</td>\n",
       "      <td>-0.466992</td>\n",
       "    </tr>\n",
       "    <tr>\n",
       "      <th>A_14_P100059</th>\n",
       "      <td>-0.264345</td>\n",
       "      <td>-0.022725</td>\n",
       "      <td>-0.506681</td>\n",
       "      <td>0.047105</td>\n",
       "      <td>-0.512387</td>\n",
       "      <td>-0.523708</td>\n",
       "      <td>-0.403362</td>\n",
       "      <td>-0.456090</td>\n",
       "      <td>-0.339565</td>\n",
       "      <td>-0.522936</td>\n",
       "      <td>...</td>\n",
       "      <td>-0.606003</td>\n",
       "      <td>-0.485047</td>\n",
       "      <td>-0.395897</td>\n",
       "      <td>-0.234647</td>\n",
       "      <td>-0.111430</td>\n",
       "      <td>-0.391174</td>\n",
       "      <td>-0.449892</td>\n",
       "      <td>-0.296125</td>\n",
       "      <td>-0.541895</td>\n",
       "      <td>-0.291371</td>\n",
       "    </tr>\n",
       "    <tr>\n",
       "      <th>A_14_P100111</th>\n",
       "      <td>0.064543</td>\n",
       "      <td>0.145805</td>\n",
       "      <td>0.228838</td>\n",
       "      <td>0.001696</td>\n",
       "      <td>0.256267</td>\n",
       "      <td>-0.015340</td>\n",
       "      <td>-0.042994</td>\n",
       "      <td>0.124760</td>\n",
       "      <td>0.255914</td>\n",
       "      <td>0.050713</td>\n",
       "      <td>...</td>\n",
       "      <td>-0.098110</td>\n",
       "      <td>-0.131607</td>\n",
       "      <td>0.042037</td>\n",
       "      <td>0.287355</td>\n",
       "      <td>0.090604</td>\n",
       "      <td>0.153526</td>\n",
       "      <td>0.067395</td>\n",
       "      <td>0.211910</td>\n",
       "      <td>-0.049375</td>\n",
       "      <td>-0.049641</td>\n",
       "    </tr>\n",
       "    <tr>\n",
       "      <th>A_14_P100131</th>\n",
       "      <td>-0.431918</td>\n",
       "      <td>-0.348138</td>\n",
       "      <td>-0.445860</td>\n",
       "      <td>-0.060475</td>\n",
       "      <td>-0.846664</td>\n",
       "      <td>-0.647738</td>\n",
       "      <td>-0.225842</td>\n",
       "      <td>-0.066046</td>\n",
       "      <td>-0.207154</td>\n",
       "      <td>-0.570808</td>\n",
       "      <td>...</td>\n",
       "      <td>-0.555563</td>\n",
       "      <td>-0.464214</td>\n",
       "      <td>-0.246942</td>\n",
       "      <td>-0.223893</td>\n",
       "      <td>-0.121617</td>\n",
       "      <td>-0.502813</td>\n",
       "      <td>-0.504638</td>\n",
       "      <td>-0.509277</td>\n",
       "      <td>-0.455299</td>\n",
       "      <td>-0.343068</td>\n",
       "    </tr>\n",
       "  </tbody>\n",
       "</table>\n",
       "<p>5 rows × 40 columns</p>\n",
       "</div>"
      ],
      "text/plain": [
       "              GSM2865623  GSM2865624  GSM2865625  GSM2865626  GSM2865627  \\\n",
       "ID                                                                         \n",
       "A_14_P100049    0.158511    0.122782    0.313547    0.237369   -0.250916   \n",
       "A_14_P100052   -0.465949   -0.465195   -0.627533   -0.355589   -0.637869   \n",
       "A_14_P100059   -0.264345   -0.022725   -0.506681    0.047105   -0.512387   \n",
       "A_14_P100111    0.064543    0.145805    0.228838    0.001696    0.256267   \n",
       "A_14_P100131   -0.431918   -0.348138   -0.445860   -0.060475   -0.846664   \n",
       "\n",
       "              GSM2865628  GSM2865629  GSM2865630  GSM2865631  GSM2865632  ...  \\\n",
       "ID                                                                        ...   \n",
       "A_14_P100049   -0.003914    0.332171    0.315163   -0.194198    0.142545  ...   \n",
       "A_14_P100052   -0.444212   -0.342604   -0.539502   -0.631772   -0.452880  ...   \n",
       "A_14_P100059   -0.523708   -0.403362   -0.456090   -0.339565   -0.522936  ...   \n",
       "A_14_P100111   -0.015340   -0.042994    0.124760    0.255914    0.050713  ...   \n",
       "A_14_P100131   -0.647738   -0.225842   -0.066046   -0.207154   -0.570808  ...   \n",
       "\n",
       "              GSM2865653  GSM2865654  GSM2865655  GSM2865656  GSM2865657  \\\n",
       "ID                                                                         \n",
       "A_14_P100049   -0.012179   -0.434771   -0.629828    0.276529    0.068948   \n",
       "A_14_P100052   -0.460624   -0.187083   -0.282205    0.762378   -0.191386   \n",
       "A_14_P100059   -0.606003   -0.485047   -0.395897   -0.234647   -0.111430   \n",
       "A_14_P100111   -0.098110   -0.131607    0.042037    0.287355    0.090604   \n",
       "A_14_P100131   -0.555563   -0.464214   -0.246942   -0.223893   -0.121617   \n",
       "\n",
       "              GSM2865658  GSM2865659  GSM2865660  GSM2865661  GSM2865662  \n",
       "ID                                                                        \n",
       "A_14_P100049    0.140358   -0.059485   -0.205791   -0.300968    0.162252  \n",
       "A_14_P100052   -0.609364   -0.254617   -0.300799   -0.683098   -0.466992  \n",
       "A_14_P100059   -0.391174   -0.449892   -0.296125   -0.541895   -0.291371  \n",
       "A_14_P100111    0.153526    0.067395    0.211910   -0.049375   -0.049641  \n",
       "A_14_P100131   -0.502813   -0.504638   -0.509277   -0.455299   -0.343068  \n",
       "\n",
       "[5 rows x 40 columns]"
      ]
     },
     "execution_count": 13,
     "metadata": {},
     "output_type": "execute_result"
    }
   ],
   "source": [
    "genetic_data = get_genetic_data(matrix_file)\n",
    "genetic_data.head()"
   ]
  },
  {
   "cell_type": "code",
   "execution_count": 14,
   "metadata": {
    "ExecuteTime": {
     "end_time": "2024-01-10T22:35:28.504970777Z",
     "start_time": "2024-01-10T22:35:28.387016747Z"
    },
    "collapsed": false
   },
   "outputs": [
    {
     "data": {
      "text/plain": [
       "['A_14_P100049',\n",
       " 'A_14_P100052',\n",
       " 'A_14_P100059',\n",
       " 'A_14_P100111',\n",
       " 'A_14_P100131',\n",
       " 'A_14_P100146',\n",
       " 'A_14_P100226',\n",
       " 'A_14_P100245',\n",
       " 'A_14_P100257',\n",
       " 'A_14_P100290',\n",
       " 'A_14_P100331',\n",
       " 'A_14_P100351',\n",
       " 'A_14_P100440',\n",
       " 'A_14_P100442',\n",
       " 'A_14_P100453',\n",
       " 'A_14_P100465',\n",
       " 'A_14_P100469',\n",
       " 'A_14_P100478',\n",
       " 'A_14_P100497',\n",
       " 'A_14_P100505']"
      ]
     },
     "execution_count": 14,
     "metadata": {},
     "output_type": "execute_result"
    }
   ],
   "source": [
    "gene_row_ids = genetic_data.index[:20].tolist()\n",
    "gene_row_ids"
   ]
  },
  {
   "cell_type": "markdown",
   "metadata": {
    "ExecuteTime": {
     "end_time": "2023-12-31T03:30:41.595335164Z",
     "start_time": "2023-12-31T03:30:41.513232329Z"
    },
    "collapsed": false
   },
   "source": [
    "Check if the gene dataset requires mapping to get the gene symbols corresponding to each data row."
   ]
  },
  {
   "cell_type": "markdown",
   "metadata": {
    "collapsed": false
   },
   "source": [
    "Reference prompt:"
   ]
  },
  {
   "cell_type": "code",
   "execution_count": 15,
   "metadata": {
    "ExecuteTime": {
     "end_time": "2024-01-10T22:35:28.864348262Z",
     "start_time": "2024-01-10T22:35:28.855656327Z"
    },
    "collapsed": false
   },
   "outputs": [
    {
     "data": {
      "text/plain": [
       "\"\\nBelow are the row headers of a gene expression dataset in GEO. Based on your biomedical knowledge, are they human gene symbols, or are they some other identifiers that need to be mapped to gene symbols? Your answer should be concluded by starting a new line and strictly following this format:\\nrequires_gene_mapping = (True or False)\\n\\nRow headers:\\n['A_14_P100049', 'A_14_P100052', 'A_14_P100059', 'A_14_P100111', 'A_14_P100131', 'A_14_P100146', 'A_14_P100226', 'A_14_P100245', 'A_14_P100257', 'A_14_P100290', 'A_14_P100331', 'A_14_P100351', 'A_14_P100440', 'A_14_P100442', 'A_14_P100453', 'A_14_P100465', 'A_14_P100469', 'A_14_P100478', 'A_14_P100497', 'A_14_P100505']\\n\""
      ]
     },
     "execution_count": 15,
     "metadata": {},
     "output_type": "execute_result"
    }
   ],
   "source": [
    "f'''\n",
    "Below are the row headers of a gene expression dataset in GEO. Based on your biomedical knowledge, are they human gene symbols, or are they some other identifiers that need to be mapped to gene symbols? Your answer should be concluded by starting a new line and strictly following this format:\n",
    "requires_gene_mapping = (True or False)\n",
    "\n",
    "Row headers:\n",
    "{gene_row_ids}\n",
    "'''"
   ]
  },
  {
   "cell_type": "markdown",
   "metadata": {
    "collapsed": false
   },
   "source": [
    "If not required, jump directly to the gene normalization step"
   ]
  },
  {
   "cell_type": "code",
   "execution_count": 16,
   "metadata": {
    "ExecuteTime": {
     "end_time": "2024-01-10T22:35:29.247854265Z",
     "start_time": "2024-01-10T22:35:29.243816086Z"
    },
    "collapsed": false
   },
   "outputs": [],
   "source": [
    "requires_gene_mapping = True"
   ]
  },
  {
   "cell_type": "code",
   "execution_count": 17,
   "metadata": {
    "ExecuteTime": {
     "end_time": "2024-01-10T22:35:32.963372660Z",
     "start_time": "2024-01-10T22:35:29.430087750Z"
    },
    "collapsed": false
   },
   "outputs": [
    {
     "name": "stdout",
     "output_type": "stream",
     "text": [
      "{'ID': ['A_41_P00018570', 'A_18_P12461532', 'A_16_P34896363', 'A_41_P00029121', 'A_16_P01067899'], 'CONTROL_TYPE': ['FALSE', 'FALSE', 'FALSE', 'FALSE', 'FALSE'], 'GENOME_ACC': ['ENST00000180166', 'ENST00000200676', 'ENST00000216194', 'ENST00000220809', 'ENST00000226730'], 'GENE_SYMBOL': [nan, nan, nan, nan, nan], 'GENE_NAME': [nan, nan, nan, nan, nan], 'ACCESSION_STRING': ['ens|ENST00000180166', 'ens|ENST00000200676', 'ens|ENST00000216194|ens|ENST00000342312|ens|ENST00000498234|ens|ENST00000423176', 'ens|ENST00000220809', 'ens|ENST00000226730'], 'CHROMOSOMAL_LOCATION': ['chr8:16859654-16859698', 'chr16:56995764-56995808', 'chr22:40762638-40762690', 'chr8:42065216-42065260', 'chr4:123377644-123377703'], 'CHROMOSOME': ['chr8', 'chr16', 'chr22', 'chr8', 'chr4'], 'RANGE_GB': ['NC_000008.10', 'NC_000016.9', 'NC_000022.10', 'NC_000008.10', 'NC_000004.11'], 'RANGE_START': [16859654.0, 56995764.0, 40762638.0, 42065216.0, 123377644.0], 'RANGE_END': [16859698.0, 56995808.0, 40762690.0, 42065260.0, 123377703.0], 'DESCRIPTION': [nan, nan, nan, nan, nan], 'SPOT_ID': ['ENST00000180166', 'ENST00000200676', 'ENST00000216194', 'ENST00000220809', 'ENST00000226730']}\n"
     ]
    }
   ],
   "source": [
    "if requires_gene_mapping:\n",
    "    gene_annotation = get_gene_annotation(soft_file)\n",
    "    gene_annotation_summary = preview_df(gene_annotation)\n",
    "    print(gene_annotation_summary)"
   ]
  },
  {
   "cell_type": "markdown",
   "metadata": {
    "ExecuteTime": {
     "end_time": "2023-12-31T03:58:04.978931927Z",
     "start_time": "2023-12-31T03:58:04.966328339Z"
    },
    "collapsed": false
   },
   "source": [
    "Observe the first few cells in the ID column of the gene annotation dataframe, to find the names of columns that store the gene probe IDs and gene symbols respectively.\n",
    "Reference prompt:"
   ]
  },
  {
   "cell_type": "code",
   "execution_count": 18,
   "metadata": {
    "ExecuteTime": {
     "end_time": "2024-01-10T22:35:33.011996136Z",
     "start_time": "2024-01-10T22:35:32.962171369Z"
    },
    "collapsed": false
   },
   "outputs": [
    {
     "name": "stdout",
     "output_type": "stream",
     "text": [
      "\n",
      "    As a biomedical research team, we are analyzing a gene expression dataset, and find that its row headers are some identifiers related to genes:\n",
      "    ['A_14_P100049', 'A_14_P100052', 'A_14_P100059', 'A_14_P100111', 'A_14_P100131', 'A_14_P100146', 'A_14_P100226', 'A_14_P100245', 'A_14_P100257', 'A_14_P100290', 'A_14_P100331', 'A_14_P100351', 'A_14_P100440', 'A_14_P100442', 'A_14_P100453', 'A_14_P100465', 'A_14_P100469', 'A_14_P100478', 'A_14_P100497', 'A_14_P100505']\n",
      "    To get the mapping from those identifiers to actual gene symbols, we extracted the gene annotation data from a series in the GEO database, and saved it to a Python dictionary. Please read the dictionary, and decide which key stores the identifiers, and which key stores the gene symbols. Please strictly follow this format in your answer:\n",
      "    identifier_key = 'key_name1'\n",
      "    gene_symbol_key = 'key_name2'\n",
      "\n",
      "    Gene annotation dictionary:\n",
      "    {'ID': ['A_41_P00018570', 'A_18_P12461532', 'A_16_P34896363', 'A_41_P00029121', 'A_16_P01067899'], 'CONTROL_TYPE': ['FALSE', 'FALSE', 'FALSE', 'FALSE', 'FALSE'], 'GENOME_ACC': ['ENST00000180166', 'ENST00000200676', 'ENST00000216194', 'ENST00000220809', 'ENST00000226730'], 'GENE_SYMBOL': [nan, nan, nan, nan, nan], 'GENE_NAME': [nan, nan, nan, nan, nan], 'ACCESSION_STRING': ['ens|ENST00000180166', 'ens|ENST00000200676', 'ens|ENST00000216194|ens|ENST00000342312|ens|ENST00000498234|ens|ENST00000423176', 'ens|ENST00000220809', 'ens|ENST00000226730'], 'CHROMOSOMAL_LOCATION': ['chr8:16859654-16859698', 'chr16:56995764-56995808', 'chr22:40762638-40762690', 'chr8:42065216-42065260', 'chr4:123377644-123377703'], 'CHROMOSOME': ['chr8', 'chr16', 'chr22', 'chr8', 'chr4'], 'RANGE_GB': ['NC_000008.10', 'NC_000016.9', 'NC_000022.10', 'NC_000008.10', 'NC_000004.11'], 'RANGE_START': [16859654.0, 56995764.0, 40762638.0, 42065216.0, 123377644.0], 'RANGE_END': [16859698.0, 56995808.0, 40762690.0, 42065260.0, 123377703.0], 'DESCRIPTION': [nan, nan, nan, nan, nan], 'SPOT_ID': ['ENST00000180166', 'ENST00000200676', 'ENST00000216194', 'ENST00000220809', 'ENST00000226730']}\n",
      "    \n"
     ]
    }
   ],
   "source": [
    "if requires_gene_mapping:\n",
    "    print(f'''\n",
    "    As a biomedical research team, we are analyzing a gene expression dataset, and find that its row headers are some identifiers related to genes:\n",
    "    {gene_row_ids}\n",
    "    To get the mapping from those identifiers to actual gene symbols, we extracted the gene annotation data from a series in the GEO database, and saved it to a Python dictionary. Please read the dictionary, and decide which key stores the identifiers, and which key stores the gene symbols. Please strictly follow this format in your answer:\n",
    "    identifier_key = 'key_name1'\n",
    "    gene_symbol_key = 'key_name2'\n",
    "\n",
    "    Gene annotation dictionary:\n",
    "    {gene_annotation_summary}\n",
    "    ''')"
   ]
  },
  {
   "cell_type": "code",
   "execution_count": 19,
   "metadata": {
    "ExecuteTime": {
     "end_time": "2024-01-10T22:35:33.251224154Z",
     "start_time": "2024-01-10T22:35:33.003183996Z"
    },
    "collapsed": false
   },
   "outputs": [],
   "source": [
    "if requires_gene_mapping:\n",
    "    identifier_key = 'ID'\n",
    "    gene_symbol_key = 'GENE_SYMBOL'\n",
    "    gene_mapping = get_gene_mapping(gene_annotation, identifier_key, gene_symbol_key)\n",
    "    genetic_data = apply_gene_mapping(genetic_data, gene_mapping)"
   ]
  },
  {
   "cell_type": "code",
   "execution_count": 20,
   "metadata": {
    "ExecuteTime": {
     "end_time": "2024-01-10T22:35:44.671811264Z",
     "start_time": "2024-01-10T22:35:33.295037921Z"
    },
    "collapsed": false
   },
   "outputs": [
    {
     "name": "stderr",
     "output_type": "stream",
     "text": [
      "17 input query terms found dup hits:\t[('A2MP1', 2), ('ABCC6P1', 2), ('ADAMTS9-AS2', 2), ('ANKRD34C-AS1', 2), ('ANTXRLP1', 2), ('APOC4-APO\n",
      "54 input query terms found no hit:\t['AARS', 'ADCK3', 'ADRBK1', 'ADRBK2', 'AMICA1', 'ANKRD20A2', 'APCDD1L-AS1', 'ARNTL2', 'ATP5B', 'ATP5\n",
      "13 input query terms found dup hits:\t[('DIRC1', 2), ('DIRC3', 2), ('EDNRB-AS1', 2), ('EGFEM1P', 2), ('FAM157C', 2), ('FAM21EP', 2), ('GAT\n",
      "65 input query terms found no hit:\t['DARS', 'DCDC5', 'DDX26B', 'DFNB31', 'DKFZP686K1684', 'DPH6-AS1', 'DSCR3', 'EFTUD1', 'ERBB2IP', 'ER\n",
      "40 input query terms found dup hits:\t[('LANCL1-AS1', 2), ('LINC00333', 2), ('LINC00379', 2), ('LINC00400', 2), ('LINC00448', 2), ('LINC00\n",
      "148 input query terms found no hit:\t['KGFLP2', 'KIAA0196', 'KIAA0226', 'KIAA0226L', 'KIAA0355', 'KIAA0368', 'KIAA0430', 'KIAA0922', 'KIA\n",
      "14 input query terms found dup hits:\t[('PMS2P7', 2), ('PTCHD1-AS', 2), ('PVT1', 2), ('RNASEH2B-AS1', 2), ('RNF217-AS1', 2), ('RNU6-19P', \n",
      "25 input query terms found no hit:\t['PCNXL2', 'PCNXL4', 'PLA2G16', 'PLEKHM1P', 'PPAP2B', 'PPAP2C', 'PPAPDC1A', 'PRKRIR', 'PROL1', 'PROS\n",
      "13 input query terms found dup hits:\t[('STXBP5-AS1', 2), ('TSNAX-DISC1', 2), ('TTC41P', 2), ('UBE2Q2P1', 3), ('VPS13A-AS1', 2), ('WHAMMP2\n",
      "27 input query terms found no hit:\t['SUCLG2-AS1', 'SUV420H1', 'TEPP', 'TLDC1', 'TMEM161B-AS1', 'TMEM194A', 'TMEM5', 'TMPRSS4-AS1', 'TTC\n"
     ]
    }
   ],
   "source": [
    "if NORMALIZE_GENE:\n",
    "    genetic_data = normalize_gene_symbols_in_index(genetic_data)"
   ]
  },
  {
   "cell_type": "code",
   "execution_count": 21,
   "metadata": {
    "ExecuteTime": {
     "end_time": "2024-01-10T22:35:44.723357427Z",
     "start_time": "2024-01-10T22:35:44.679550325Z"
    },
    "collapsed": false
   },
   "outputs": [],
   "source": [
    "merged_data = geo_merge_clinical_genetic_data(selected_clinical_data, genetic_data)\n",
    "# The preprocessing runs through, which means is_available should be True\n",
    "is_available = True"
   ]
  },
  {
   "cell_type": "code",
   "execution_count": 22,
   "metadata": {
    "ExecuteTime": {
     "end_time": "2024-01-10T22:35:44.723686867Z",
     "start_time": "2024-01-10T22:35:44.723207836Z"
    },
    "collapsed": false
   },
   "outputs": [
    {
     "name": "stdout",
     "output_type": "stream",
     "text": [
      "The merged dataset contains 40 samples.\n"
     ]
    }
   ],
   "source": [
    "print(f\"The merged dataset contains {len(merged_data)} samples.\")"
   ]
  },
  {
   "cell_type": "code",
   "execution_count": 23,
   "metadata": {
    "ExecuteTime": {
     "end_time": "2024-01-10T22:35:44.724037948Z",
     "start_time": "2024-01-10T22:35:44.723502019Z"
    },
    "collapsed": false
   },
   "outputs": [
    {
     "name": "stdout",
     "output_type": "stream",
     "text": [
      "For the feature 'Amyotrophic Lateral Sclerosis', the least common label is '0.0' with 10 occurrences. This represents 25.00% of the dataset.\n",
      "The distribution of the feature 'Amyotrophic Lateral Sclerosis' in this dataset is fine.\n",
      "\n",
      "Quartiles for 'Age':\n",
      "  25%: 46.0\n",
      "  50% (Median): 59.0\n",
      "  75%: 67.0\n",
      "Min: 31.0\n",
      "Max: 73.0\n",
      "The distribution of the feature 'Age' in this dataset is fine.\n",
      "\n",
      "For the feature 'Gender', the least common label is '0.0' with 12 occurrences. This represents 30.00% of the dataset.\n",
      "The distribution of the feature 'Gender' in this dataset is fine.\n",
      "\n"
     ]
    },
    {
     "data": {
      "text/plain": [
       "False"
      ]
     },
     "execution_count": 23,
     "metadata": {},
     "output_type": "execute_result"
    }
   ],
   "source": [
    "is_trait_biased, merged_data = judge_and_remove_biased_features(merged_data, TRAIT, trait_type=trait_type)\n",
    "is_trait_biased"
   ]
  },
  {
   "cell_type": "code",
   "execution_count": 24,
   "metadata": {
    "ExecuteTime": {
     "end_time": "2024-01-10T22:35:44.724165548Z",
     "start_time": "2024-01-10T22:35:44.723629008Z"
    },
    "collapsed": false
   },
   "outputs": [
    {
     "name": "stdout",
     "output_type": "stream",
     "text": [
      "A new JSON file was created at: /Users/jane/UIUC/Research/Output/Jinglei/Amyotrophic-Lateral-Sclerosis/cohort_info.json\n"
     ]
    }
   ],
   "source": [
    "if is_available:\n",
    "    save_cohort_info(cohort, JSON_PATH, is_available, is_trait_biased, merged_data, note='')\n",
    "else:\n",
    "    save_cohort_info(cohort, JSON_PATH, is_available)"
   ]
  },
  {
   "cell_type": "code",
   "execution_count": 25,
   "metadata": {
    "ExecuteTime": {
     "end_time": "2024-01-10T22:35:44.851270613Z",
     "start_time": "2024-01-10T22:35:44.723865072Z"
    },
    "collapsed": false
   },
   "outputs": [],
   "source": [
    "merged_data.head()\n",
    "if not is_trait_biased:\n",
    "    merged_data.to_csv(os.path.join(OUTPUT_DIR, cohort + '.csv'), index=False)"
   ]
  },
  {
   "cell_type": "markdown",
   "metadata": {
    "ExecuteTime": {
     "end_time": "2023-12-31T03:58:22.271683755Z",
     "start_time": "2023-12-31T03:58:22.246557674Z"
    },
    "id": "-MTPhRGxJV7I"
   },
   "source": [
    "### 3. Do regression & Cross Validation"
   ]
  },
  {
   "cell_type": "code",
   "execution_count": 26,
   "metadata": {
    "ExecuteTime": {
     "end_time": "2024-01-10T22:35:44.851707696Z",
     "start_time": "2024-01-10T22:35:44.851421217Z"
    },
    "collapsed": false
   },
   "outputs": [
    {
     "data": {
      "text/html": [
       "<div>\n",
       "<style scoped>\n",
       "    .dataframe tbody tr th:only-of-type {\n",
       "        vertical-align: middle;\n",
       "    }\n",
       "\n",
       "    .dataframe tbody tr th {\n",
       "        vertical-align: top;\n",
       "    }\n",
       "\n",
       "    .dataframe thead th {\n",
       "        text-align: right;\n",
       "    }\n",
       "</style>\n",
       "<table border=\"1\" class=\"dataframe\">\n",
       "  <thead>\n",
       "    <tr style=\"text-align: right;\">\n",
       "      <th></th>\n",
       "      <th>cohort_id</th>\n",
       "      <th>is_usable</th>\n",
       "      <th>is_available</th>\n",
       "      <th>is_biased</th>\n",
       "      <th>has_age</th>\n",
       "      <th>has_gender</th>\n",
       "      <th>sample_size</th>\n",
       "      <th>note</th>\n",
       "    </tr>\n",
       "  </thead>\n",
       "  <tbody>\n",
       "    <tr>\n",
       "      <th>0</th>\n",
       "      <td>GSE107375</td>\n",
       "      <td>True</td>\n",
       "      <td>True</td>\n",
       "      <td>False</td>\n",
       "      <td>True</td>\n",
       "      <td>True</td>\n",
       "      <td>40</td>\n",
       "      <td></td>\n",
       "    </tr>\n",
       "  </tbody>\n",
       "</table>\n",
       "</div>"
      ],
      "text/plain": [
       "   cohort_id  is_usable  is_available  is_biased  has_age  has_gender  \\\n",
       "0  GSE107375       True          True      False     True        True   \n",
       "\n",
       "   sample_size note  \n",
       "0           40       "
      ]
     },
     "execution_count": 26,
     "metadata": {},
     "output_type": "execute_result"
    }
   ],
   "source": [
    "# Check the information of usable cohorts\n",
    "best_cohort, ranked_df = filter_and_rank_cohorts(JSON_PATH)\n",
    "ranked_df"
   ]
  },
  {
   "cell_type": "code",
   "execution_count": 27,
   "metadata": {
    "ExecuteTime": {
     "end_time": "2024-01-10T22:35:44.852763201Z",
     "start_time": "2024-01-10T22:35:44.851646029Z"
    },
    "collapsed": false
   },
   "outputs": [
    {
     "data": {
      "text/plain": [
       "'GSE107375'"
      ]
     },
     "execution_count": 27,
     "metadata": {},
     "output_type": "execute_result"
    }
   ],
   "source": [
    "# If both age and gender have available cohorts, select 'age' as the condition.\n",
    "condition = 'Age'\n",
    "filter_column = 'has_' + condition.lower()\n",
    "\n",
    "condition_best_cohort, condition_ranked_df = filter_and_rank_cohorts(JSON_PATH, filter_column)\n",
    "condition_best_cohort"
   ]
  },
  {
   "cell_type": "code",
   "execution_count": 28,
   "metadata": {
    "ExecuteTime": {
     "end_time": "2024-01-10T22:35:44.926936066Z",
     "start_time": "2024-01-10T22:35:44.856500393Z"
    },
    "collapsed": false
   },
   "outputs": [
    {
     "data": {
      "text/html": [
       "<div>\n",
       "<style scoped>\n",
       "    .dataframe tbody tr th:only-of-type {\n",
       "        vertical-align: middle;\n",
       "    }\n",
       "\n",
       "    .dataframe tbody tr th {\n",
       "        vertical-align: top;\n",
       "    }\n",
       "\n",
       "    .dataframe thead th {\n",
       "        text-align: right;\n",
       "    }\n",
       "</style>\n",
       "<table border=\"1\" class=\"dataframe\">\n",
       "  <thead>\n",
       "    <tr style=\"text-align: right;\">\n",
       "      <th></th>\n",
       "      <th>cohort_id</th>\n",
       "      <th>is_usable</th>\n",
       "      <th>is_available</th>\n",
       "      <th>is_biased</th>\n",
       "      <th>has_age</th>\n",
       "      <th>has_gender</th>\n",
       "      <th>sample_size</th>\n",
       "      <th>note</th>\n",
       "    </tr>\n",
       "  </thead>\n",
       "  <tbody>\n",
       "    <tr>\n",
       "      <th>0</th>\n",
       "      <td>GSE107375</td>\n",
       "      <td>True</td>\n",
       "      <td>True</td>\n",
       "      <td>False</td>\n",
       "      <td>True</td>\n",
       "      <td>True</td>\n",
       "      <td>40</td>\n",
       "      <td></td>\n",
       "    </tr>\n",
       "  </tbody>\n",
       "</table>\n",
       "</div>"
      ],
      "text/plain": [
       "   cohort_id  is_usable  is_available  is_biased  has_age  has_gender  \\\n",
       "0  GSE107375       True          True      False     True        True   \n",
       "\n",
       "   sample_size note  \n",
       "0           40       "
      ]
     },
     "execution_count": 28,
     "metadata": {},
     "output_type": "execute_result"
    }
   ],
   "source": [
    "condition_ranked_df.head()"
   ]
  },
  {
   "cell_type": "code",
   "execution_count": 29,
   "metadata": {
    "ExecuteTime": {
     "end_time": "2024-01-10T22:35:45.015378850Z",
     "start_time": "2024-01-10T22:35:44.915020217Z"
    },
    "collapsed": false
   },
   "outputs": [
    {
     "data": {
      "text/html": [
       "<div>\n",
       "<style scoped>\n",
       "    .dataframe tbody tr th:only-of-type {\n",
       "        vertical-align: middle;\n",
       "    }\n",
       "\n",
       "    .dataframe tbody tr th {\n",
       "        vertical-align: top;\n",
       "    }\n",
       "\n",
       "    .dataframe thead th {\n",
       "        text-align: right;\n",
       "    }\n",
       "</style>\n",
       "<table border=\"1\" class=\"dataframe\">\n",
       "  <thead>\n",
       "    <tr style=\"text-align: right;\">\n",
       "      <th></th>\n",
       "      <th>Amyotrophic Lateral Sclerosis</th>\n",
       "      <th>Age</th>\n",
       "      <th>Gender</th>\n",
       "      <th>A2M</th>\n",
       "      <th>A2MP1</th>\n",
       "      <th>A4GALT</th>\n",
       "      <th>A4GNT</th>\n",
       "      <th>AAK1</th>\n",
       "      <th>AATF</th>\n",
       "      <th>AATK</th>\n",
       "      <th>...</th>\n",
       "      <th>ZNF99</th>\n",
       "      <th>ZNHIT6</th>\n",
       "      <th>ZNRF3</th>\n",
       "      <th>ZP1</th>\n",
       "      <th>ZRANB3</th>\n",
       "      <th>ZSWIM2</th>\n",
       "      <th>ZSWIM7</th>\n",
       "      <th>ZWILCH</th>\n",
       "      <th>ZWINT</th>\n",
       "      <th>ZYG11B</th>\n",
       "    </tr>\n",
       "  </thead>\n",
       "  <tbody>\n",
       "    <tr>\n",
       "      <th>0</th>\n",
       "      <td>0.0</td>\n",
       "      <td>31.0</td>\n",
       "      <td>1.0</td>\n",
       "      <td>-0.004847</td>\n",
       "      <td>-0.135335</td>\n",
       "      <td>-0.565257</td>\n",
       "      <td>0.169738</td>\n",
       "      <td>-0.328454</td>\n",
       "      <td>-0.091404</td>\n",
       "      <td>-0.014589</td>\n",
       "      <td>...</td>\n",
       "      <td>-0.059230</td>\n",
       "      <td>-0.250433</td>\n",
       "      <td>-0.620941</td>\n",
       "      <td>-0.246279</td>\n",
       "      <td>-0.509790</td>\n",
       "      <td>-0.073736</td>\n",
       "      <td>-0.538623</td>\n",
       "      <td>-0.272386</td>\n",
       "      <td>0.310534</td>\n",
       "      <td>-0.619411</td>\n",
       "    </tr>\n",
       "    <tr>\n",
       "      <th>1</th>\n",
       "      <td>0.0</td>\n",
       "      <td>59.0</td>\n",
       "      <td>1.0</td>\n",
       "      <td>-0.045011</td>\n",
       "      <td>-0.148077</td>\n",
       "      <td>-0.475372</td>\n",
       "      <td>-0.151391</td>\n",
       "      <td>-0.431580</td>\n",
       "      <td>-0.333336</td>\n",
       "      <td>0.223615</td>\n",
       "      <td>...</td>\n",
       "      <td>-0.048612</td>\n",
       "      <td>-0.159478</td>\n",
       "      <td>-0.144896</td>\n",
       "      <td>-0.010009</td>\n",
       "      <td>-0.394601</td>\n",
       "      <td>0.051162</td>\n",
       "      <td>-0.372458</td>\n",
       "      <td>-0.134759</td>\n",
       "      <td>0.202294</td>\n",
       "      <td>-0.580036</td>\n",
       "    </tr>\n",
       "    <tr>\n",
       "      <th>2</th>\n",
       "      <td>0.0</td>\n",
       "      <td>68.0</td>\n",
       "      <td>1.0</td>\n",
       "      <td>-0.125488</td>\n",
       "      <td>-0.186328</td>\n",
       "      <td>-0.388824</td>\n",
       "      <td>-0.643891</td>\n",
       "      <td>-0.314285</td>\n",
       "      <td>0.165919</td>\n",
       "      <td>0.269319</td>\n",
       "      <td>...</td>\n",
       "      <td>0.189041</td>\n",
       "      <td>-0.565469</td>\n",
       "      <td>-0.618733</td>\n",
       "      <td>0.095957</td>\n",
       "      <td>-0.700641</td>\n",
       "      <td>-0.157810</td>\n",
       "      <td>-0.466758</td>\n",
       "      <td>-0.321367</td>\n",
       "      <td>0.360896</td>\n",
       "      <td>-0.563166</td>\n",
       "    </tr>\n",
       "    <tr>\n",
       "      <th>3</th>\n",
       "      <td>0.0</td>\n",
       "      <td>71.0</td>\n",
       "      <td>0.0</td>\n",
       "      <td>-0.028118</td>\n",
       "      <td>-0.001644</td>\n",
       "      <td>-0.022438</td>\n",
       "      <td>0.954080</td>\n",
       "      <td>-0.161354</td>\n",
       "      <td>-0.041350</td>\n",
       "      <td>-0.302779</td>\n",
       "      <td>...</td>\n",
       "      <td>0.113769</td>\n",
       "      <td>-0.244061</td>\n",
       "      <td>-0.595304</td>\n",
       "      <td>-0.258353</td>\n",
       "      <td>-0.534053</td>\n",
       "      <td>0.046687</td>\n",
       "      <td>-0.417058</td>\n",
       "      <td>-0.136860</td>\n",
       "      <td>0.195955</td>\n",
       "      <td>-0.450048</td>\n",
       "    </tr>\n",
       "    <tr>\n",
       "      <th>4</th>\n",
       "      <td>0.0</td>\n",
       "      <td>48.0</td>\n",
       "      <td>1.0</td>\n",
       "      <td>-0.138715</td>\n",
       "      <td>-0.251074</td>\n",
       "      <td>-0.328741</td>\n",
       "      <td>0.142354</td>\n",
       "      <td>-0.251076</td>\n",
       "      <td>0.059084</td>\n",
       "      <td>0.447362</td>\n",
       "      <td>...</td>\n",
       "      <td>0.543729</td>\n",
       "      <td>-0.835214</td>\n",
       "      <td>-0.842936</td>\n",
       "      <td>0.332248</td>\n",
       "      <td>-0.343578</td>\n",
       "      <td>0.201106</td>\n",
       "      <td>-0.458573</td>\n",
       "      <td>-0.271259</td>\n",
       "      <td>0.455792</td>\n",
       "      <td>-0.244759</td>\n",
       "    </tr>\n",
       "  </tbody>\n",
       "</table>\n",
       "<p>5 rows × 4348 columns</p>\n",
       "</div>"
      ],
      "text/plain": [
       "   Amyotrophic Lateral Sclerosis   Age  Gender       A2M     A2MP1    A4GALT  \\\n",
       "0                            0.0  31.0     1.0 -0.004847 -0.135335 -0.565257   \n",
       "1                            0.0  59.0     1.0 -0.045011 -0.148077 -0.475372   \n",
       "2                            0.0  68.0     1.0 -0.125488 -0.186328 -0.388824   \n",
       "3                            0.0  71.0     0.0 -0.028118 -0.001644 -0.022438   \n",
       "4                            0.0  48.0     1.0 -0.138715 -0.251074 -0.328741   \n",
       "\n",
       "      A4GNT      AAK1      AATF      AATK  ...     ZNF99    ZNHIT6     ZNRF3  \\\n",
       "0  0.169738 -0.328454 -0.091404 -0.014589  ... -0.059230 -0.250433 -0.620941   \n",
       "1 -0.151391 -0.431580 -0.333336  0.223615  ... -0.048612 -0.159478 -0.144896   \n",
       "2 -0.643891 -0.314285  0.165919  0.269319  ...  0.189041 -0.565469 -0.618733   \n",
       "3  0.954080 -0.161354 -0.041350 -0.302779  ...  0.113769 -0.244061 -0.595304   \n",
       "4  0.142354 -0.251076  0.059084  0.447362  ...  0.543729 -0.835214 -0.842936   \n",
       "\n",
       "        ZP1    ZRANB3    ZSWIM2    ZSWIM7    ZWILCH     ZWINT    ZYG11B  \n",
       "0 -0.246279 -0.509790 -0.073736 -0.538623 -0.272386  0.310534 -0.619411  \n",
       "1 -0.010009 -0.394601  0.051162 -0.372458 -0.134759  0.202294 -0.580036  \n",
       "2  0.095957 -0.700641 -0.157810 -0.466758 -0.321367  0.360896 -0.563166  \n",
       "3 -0.258353 -0.534053  0.046687 -0.417058 -0.136860  0.195955 -0.450048  \n",
       "4  0.332248 -0.343578  0.201106 -0.458573 -0.271259  0.455792 -0.244759  \n",
       "\n",
       "[5 rows x 4348 columns]"
      ]
     },
     "execution_count": 29,
     "metadata": {},
     "output_type": "execute_result"
    }
   ],
   "source": [
    "merged_data = pd.read_csv(os.path.join(OUTPUT_DIR, condition_best_cohort + '.csv'))\n",
    "merged_data.head()"
   ]
  },
  {
   "cell_type": "code",
   "execution_count": 30,
   "metadata": {
    "ExecuteTime": {
     "end_time": "2024-01-10T22:35:45.015526458Z",
     "start_time": "2024-01-10T22:35:44.991137972Z"
    },
    "collapsed": false
   },
   "outputs": [],
   "source": [
    "# Remove the other condition to prevent interference.\n",
    "merged_data = merged_data.drop(columns=['Gender'], errors='ignore').astype('float')\n",
    "\n",
    "X = merged_data.drop(columns=[TRAIT, condition]).values\n",
    "Y = merged_data[TRAIT].values\n",
    "Z = merged_data[condition].values"
   ]
  },
  {
   "cell_type": "markdown",
   "metadata": {
    "collapsed": false
   },
   "source": [
    "Select the appropriate regression model depending on whether the dataset shows batch effect."
   ]
  },
  {
   "cell_type": "code",
   "execution_count": 31,
   "metadata": {
    "ExecuteTime": {
     "end_time": "2024-01-10T22:35:45.015648307Z",
     "start_time": "2024-01-10T22:35:44.991286882Z"
    },
    "collapsed": false
   },
   "outputs": [
    {
     "data": {
      "text/plain": [
       "True"
      ]
     },
     "execution_count": 31,
     "metadata": {},
     "output_type": "execute_result"
    }
   ],
   "source": [
    "has_batch_effect = detect_batch_effect(X)\n",
    "has_batch_effect"
   ]
  },
  {
   "cell_type": "code",
   "execution_count": 32,
   "metadata": {
    "ExecuteTime": {
     "end_time": "2024-01-10T22:35:45.015703912Z",
     "start_time": "2024-01-10T22:35:44.991384596Z"
    },
    "collapsed": false
   },
   "outputs": [],
   "source": [
    "# Select appropriate models based on whether the dataset has batch effect.\n",
    "# We experiment on two models for each branch. We will decide which one to choose later.\n",
    "\n",
    "if has_batch_effect:\n",
    "    model_constructor1 = VariableSelection\n",
    "    model_params1 = {'modified': True, 'lamda': 3e-4}\n",
    "    model_constructor2 = VariableSelection\n",
    "    model_params2 = {'modified': False}\n",
    "else:\n",
    "    model_constructor1 = Lasso\n",
    "    model_params1 = {'alpha': 1.0, 'random_state': 42}\n",
    "    model_constructor2 = VariableSelection\n",
    "    model_params2 = {'modified': False}"
   ]
  },
  {
   "cell_type": "code",
   "execution_count": 33,
   "metadata": {
    "ExecuteTime": {
     "end_time": "2024-01-10T22:35:45.249476470Z",
     "start_time": "2024-01-10T22:35:44.991487670Z"
    },
    "collapsed": false
   },
   "outputs": [
    {
     "name": "stdout",
     "output_type": "stream",
     "text": [
      "alpha for Lasso: 0.0003\n",
      "alpha for Lasso: 0.0003\n",
      "alpha for Lasso: 0.0003\n",
      "alpha for Lasso: 0.0003\n",
      "alpha for Lasso: 0.0003\n",
      "The cross-validation accuracy is 57.50% ± 16.96%\n"
     ]
    }
   ],
   "source": [
    "trait_type = 'binary'  # Remember to set this properly, either 'binary' or 'continuous'\n",
    "cv_mean1, cv_std1 = cross_validation(X, Y, Z, model_constructor1, model_params1, target_type='binary')"
   ]
  },
  {
   "cell_type": "code",
   "execution_count": 34,
   "metadata": {
    "ExecuteTime": {
     "end_time": "2024-01-10T22:35:48.683131941Z",
     "start_time": "2024-01-10T22:35:45.251064608Z"
    },
    "collapsed": false
   },
   "outputs": [
    {
     "name": "stdout",
     "output_type": "stream",
     "text": [
      "The cross-validation accuracy is 52.50% ± 18.37%\n"
     ]
    }
   ],
   "source": [
    "cv_mean2, cv_std2 = cross_validation(X, Y, Z, model_constructor2, model_params2, target_type='binary')"
   ]
  },
  {
   "cell_type": "code",
   "execution_count": 35,
   "metadata": {
    "ExecuteTime": {
     "end_time": "2024-01-10T22:35:49.442003525Z",
     "start_time": "2024-01-10T22:35:48.683285500Z"
    },
    "collapsed": false
   },
   "outputs": [
    {
     "name": "stdout",
     "output_type": "stream",
     "text": [
      "alpha for Lasso: 0.0003\n"
     ]
    }
   ],
   "source": [
    "normalized_X, _ = normalize_data(X)\n",
    "normalized_Z, _ = normalize_data(Z)\n",
    "\n",
    "# Train regression model on the whole dataset to identify significant genes\n",
    "model1 = ResidualizationRegressor(model_constructor1, model_params1)\n",
    "model1.fit(normalized_X, Y, normalized_Z)\n",
    "\n",
    "model2 = ResidualizationRegressor(model_constructor2, model_params2)\n",
    "model2.fit(normalized_X, Y, normalized_Z)"
   ]
  },
  {
   "cell_type": "markdown",
   "metadata": {
    "ExecuteTime": {
     "end_time": "2023-10-14T04:50:59.072075075Z",
     "start_time": "2023-10-14T04:50:38.739499998Z"
    },
    "id": "EjJrxbvb4nlj"
   },
   "source": [
    "### 4. Discussion and report"
   ]
  },
  {
   "cell_type": "code",
   "execution_count": 36,
   "metadata": {
    "ExecuteTime": {
     "end_time": "2024-01-10T22:35:49.451766173Z",
     "start_time": "2024-01-10T22:35:49.445027345Z"
    },
    "collapsed": false
   },
   "outputs": [
    {
     "name": "stdout",
     "output_type": "stream",
     "text": [
      "Effect of the condition on the target variable:\n",
      "Variable: Age\n",
      "Coefficient: 0.0269\n",
      "Found 33 genes with non-zero coefficients associated with the trait 'Amyotrophic Lateral Sclerosis' conditional on the factor 'Age'. These genes are identified as significant based on the regression model.\n",
      "    Variable  Coefficient  Absolute Coefficient\n",
      "        DDX5    -5.330463              5.330463\n",
      "       RIOK2    -3.536659              3.536659\n",
      "        MED8     3.490872              3.490872\n",
      "       RAB8A     3.427584              3.427584\n",
      "        CMIP     3.243128              3.243128\n",
      "       PRRT2     2.747215              2.747215\n",
      "      IPCEF1    -2.557062              2.557062\n",
      "         MAK     2.383164              2.383164\n",
      "       ABCC6     2.071933              2.071933\n",
      "      ARPP21    -1.860757              1.860757\n",
      "     SLC7A13    -1.694573              1.694573\n",
      "LOC101927284    -1.660701              1.660701\n",
      "      COL9A1    -1.601814              1.601814\n",
      "      SCUBE1    -1.563631              1.563631\n",
      "        AFF2    -1.494098              1.494098\n",
      "       OR6P1    -1.205215              1.205215\n",
      "     GALNTL6    -1.000782              1.000782\n",
      "   LINC01016    -0.994597              0.994597\n",
      "      SPTBN1    -0.984701              0.984701\n",
      "   LINC00375    -0.966144              0.966144\n",
      "       PSMD6    -0.829608              0.829608\n",
      "       MBNL1     0.788786              0.788786\n",
      "       CLVS2    -0.744330              0.744330\n",
      "       ITSN2     0.635443              0.635443\n",
      "        CLN5    -0.620879              0.620879\n",
      "        PLD1    -0.536872              0.536872\n",
      "        MTM1     0.299459              0.299459\n",
      "        MBD5    -0.230589              0.230589\n",
      "       CWC27    -0.187721              0.187721\n",
      "      KCNK10     0.182148              0.182148\n",
      "       EXOC4    -0.152778              0.152778\n",
      "    SLC22A23    -0.083193              0.083193\n",
      "      ELAVL4    -0.054836              0.054836\n"
     ]
    },
    {
     "name": "stderr",
     "output_type": "stream",
     "text": [
      "/var/folders/kl/l78dml_d5ys7ch5n72qw8yq80000gn/T/ipykernel_97026/2288027067.py:721: SettingWithCopyWarning: \n",
      "A value is trying to be set on a copy of a slice from a DataFrame.\n",
      "Try using .loc[row_indexer,col_indexer] = value instead\n",
      "\n",
      "See the caveats in the documentation: https://pandas.pydata.org/pandas-docs/stable/user_guide/indexing.html#returning-a-view-versus-a-copy\n",
      "  gene_regression_df['Absolute Coefficient'] = gene_regression_df['Coefficient'].abs()\n"
     ]
    }
   ],
   "source": [
    "feature_cols = merged_data.columns.tolist()\n",
    "feature_cols.remove(TRAIT)\n",
    "\n",
    "threshold = 0.05\n",
    "interpret_result(model1, feature_cols, TRAIT, condition, threshold=threshold, save_output=True,\n",
    "                 output_dir=OUTPUT_DIR, model_id=1)"
   ]
  },
  {
   "cell_type": "code",
   "execution_count": 37,
   "metadata": {
    "ExecuteTime": {
     "end_time": "2024-01-10T22:35:49.458279097Z",
     "start_time": "2024-01-10T22:35:49.453197777Z"
    },
    "collapsed": false
   },
   "outputs": [
    {
     "name": "stdout",
     "output_type": "stream",
     "text": [
      "Effect of the condition on the target variable:\n",
      "Variable: Age\n",
      "Coefficient: 0.0269\n",
      "Found 0 significant genes associated with the trait 'Amyotrophic Lateral Sclerosis' conditional on the factor 'Age', with corrected p-value < 0.05:\n",
      "Empty DataFrame\n",
      "Columns: [Variable, Coefficient, p_value, corrected_p_value]\n",
      "Index: []\n"
     ]
    },
    {
     "name": "stderr",
     "output_type": "stream",
     "text": [
      "/var/folders/kl/l78dml_d5ys7ch5n72qw8yq80000gn/T/ipykernel_97026/2288027067.py:730: SettingWithCopyWarning: \n",
      "A value is trying to be set on a copy of a slice from a DataFrame.\n",
      "Try using .loc[row_indexer,col_indexer] = value instead\n",
      "\n",
      "See the caveats in the documentation: https://pandas.pydata.org/pandas-docs/stable/user_guide/indexing.html#returning-a-view-versus-a-copy\n",
      "  gene_regression_df.loc[:, 'corrected_p_value'] = corrected_p_values\n"
     ]
    }
   ],
   "source": [
    "interpret_result(model2, feature_cols, TRAIT, condition, threshold=threshold, save_output=True,\n",
    "                 output_dir=OUTPUT_DIR, model_id=2)"
   ]
  },
  {
   "cell_type": "code",
   "execution_count": null,
   "metadata": {
    "collapsed": false
   },
   "outputs": [],
   "source": []
  }
 ],
 "metadata": {
  "colab": {
   "provenance": []
  },
  "kernelspec": {
   "display_name": "Python 3 (ipykernel)",
   "language": "python",
   "name": "python3"
  },
  "language_info": {
   "codemirror_mode": {
    "name": "ipython",
    "version": 3
   },
   "file_extension": ".py",
   "mimetype": "text/x-python",
   "name": "python",
   "nbconvert_exporter": "python",
   "pygments_lexer": "ipython3",
   "version": "3.11.4"
  }
 },
 "nbformat": 4,
 "nbformat_minor": 0
}
