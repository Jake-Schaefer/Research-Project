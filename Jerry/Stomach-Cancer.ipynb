{
 "cells": [
  {
   "cell_type": "markdown",
   "metadata": {},
   "source": [
    "# Gold standard curation: Preprocessing and single-step regression"
   ]
  },
  {
   "cell_type": "markdown",
   "metadata": {},
   "source": [
    "In this stage of gold standard curation, we will do the data preprocessing, selection, and single-step regression for the 153 traits in our question set. This file shows the reference steps using the trait \"Breast Cancer\" as an example. The workflow consists of the following steps:\n",
    "\n",
    "1. Preprocess all the cohorts related to this trait. Each cohort should be converted to a tabular form and saved to a csv file, with columns being genetic factors, the trait, and age, gender if available;\n",
    "2. If there exists at least one cohort with age or gender information, conduct regression analysis with genetic features together with age or gender as the regressors.\n"
   ]
  },
  {
   "cell_type": "markdown",
   "metadata": {},
   "source": [
    "# 1. Basic setup"
   ]
  },
  {
   "cell_type": "code",
   "execution_count": 1,
   "metadata": {
    "ExecuteTime": {
     "end_time": "2023-12-31T21:19:07.313098989Z",
     "start_time": "2023-12-31T21:19:07.312718292Z"
    }
   },
   "outputs": [],
   "source": [
    "import os\n",
    "\n",
    "# Set your preferred name\n",
    "USER = \"Jinglin\"\n",
    "# Set the data and output directories\n",
    "DATA_ROOT = '../../DATA'\n",
    "OUTPUT_ROOT = '../../output1'\n",
    "TRAIT = 'Stomach Cancer'\n",
    "\n",
    "OUTPUT_DIR = os.path.join(OUTPUT_ROOT, USER, '-'.join(TRAIT.split()))\n",
    "JSON_PATH = os.path.join(OUTPUT_DIR, \"cohort_info.json\")\n",
    "if not os.path.exists(OUTPUT_DIR):\n",
    "    os.makedirs(OUTPUT_DIR, exist_ok=True)\n",
    "\n",
    "# Gene symbol normalization may take 1-2 minutes. You may set it to False for debugging.\n",
    "NORMALIZE_GENE = True"
   ]
  },
  {
   "cell_type": "code",
   "execution_count": 2,
   "metadata": {
    "ExecuteTime": {
     "end_time": "2023-12-31T21:19:07.680659936Z",
     "start_time": "2023-12-31T21:19:07.666959145Z"
    },
    "colab": {
     "base_uri": "https://localhost:8080/"
    },
    "id": "jMTdsU43vVg3",
    "outputId": "38886111-f442-44b4-8398-96bf384d7abd"
   },
   "outputs": [
    {
     "data": {
      "text/plain": [
       "\"import os\\nfrom google.colab import drive\\n\\ndrive.mount('/content/drive', force_remount=True)\\nproj_dir = '/content/drive/MyDrive/AI4Science_Public'\\nos.chdir(proj_dir)\""
      ]
     },
     "execution_count": 2,
     "metadata": {},
     "output_type": "execute_result"
    }
   ],
   "source": [
    "# This cell is only for use on Google Colab. Skip it if you run your code in other environments\n",
    "\n",
    "\"\"\"import os\n",
    "from google.colab import drive\n",
    "\n",
    "drive.mount('/content/drive', force_remount=True)\n",
    "proj_dir = '/content/drive/MyDrive/AI4Science_Public'\n",
    "os.chdir(proj_dir)\"\"\""
   ]
  },
  {
   "cell_type": "markdown",
   "metadata": {},
   "source": [
    "# 2. Data preprocessing and selection"
   ]
  },
  {
   "cell_type": "markdown",
   "metadata": {},
   "source": [
    "## 2.1. The TCGA Xena dataset"
   ]
  },
  {
   "cell_type": "markdown",
   "metadata": {},
   "source": [
    "In TCGA Xena, there is either zero or one cohort related to the trait. We search the names of subdirectories to see if any matches the trait. If a match is found, we directly obtain the file paths."
   ]
  },
  {
   "cell_type": "code",
   "execution_count": 3,
   "metadata": {},
   "outputs": [
    {
     "data": {
      "text/plain": [
       "['TCGA_Pancreatic_Cancer_(PAAD)',\n",
       " 'TCGA_Bladder_Cancer_(BLCA)',\n",
       " '.DS_Store',\n",
       " 'TCGA_Testicular_Cancer_(TGCT)',\n",
       " 'TCGA_Acute_Myeloid_Leukemia_(LAML)',\n",
       " 'TCGA_Breast_Cancer_(BRCA)',\n",
       " 'TCGA_Stomach_Cancer_(STAD)',\n",
       " 'TCGA_Thyroid_Cancer_(THCA)',\n",
       " 'TCGA_Glioblastoma_(GBM)']"
      ]
     },
     "execution_count": 3,
     "metadata": {},
     "output_type": "execute_result"
    }
   ],
   "source": [
    "import os\n",
    "from utils import *\n",
    "\n",
    "dataset = 'TCGA'\n",
    "dataset_dir = os.path.join(DATA_ROOT, dataset)\n",
    "os.listdir(dataset_dir)[:10]"
   ]
  },
  {
   "cell_type": "markdown",
   "metadata": {},
   "source": [
    "If no match is found, jump directly to GEO in Part 2.2"
   ]
  },
  {
   "cell_type": "code",
   "execution_count": 5,
   "metadata": {
    "ExecuteTime": {
     "end_time": "2023-12-31T21:19:09.918243934Z",
     "start_time": "2023-12-31T21:19:09.909021135Z"
    }
   },
   "outputs": [],
   "source": [
    "trait_subdir = \"TCGA_Stomach_Cancer_(STAD)\"\n",
    "cohort = 'Xena'\n",
    "# All the cancer traits in Xena are binary\n",
    "trait_type = 'binary'\n",
    "# Once a relevant cohort is found in Xena, we can generally assume the gene and clinical data are available\n",
    "is_available = True\n",
    "\n",
    "clinical_data_file = os.path.join(dataset_dir, trait_subdir, 'TCGA.STAD.sampleMap_STAD_clinicalMatrix')\n",
    "genetic_data_file = os.path.join(dataset_dir, trait_subdir, 'TCGA.STAD.sampleMap_HiSeqV2_PANCAN.gz')"
   ]
  },
  {
   "cell_type": "code",
   "execution_count": 6,
   "metadata": {
    "ExecuteTime": {
     "end_time": "2023-12-31T21:19:13.613198409Z",
     "start_time": "2023-12-31T21:19:10.409688003Z"
    },
    "id": "MudwB-_iz7sc"
   },
   "outputs": [],
   "source": [
    "import pandas as pd\n",
    "\n",
    "clinical_data = pd.read_csv(clinical_data_file, sep='\\t', index_col=0)\n",
    "genetic_data = pd.read_csv(genetic_data_file, compression='gzip', sep='\\t', index_col=0)\n",
    "age_col = gender_col = None"
   ]
  },
  {
   "cell_type": "code",
   "execution_count": 7,
   "metadata": {
    "ExecuteTime": {
     "end_time": "2023-12-31T21:19:13.617006167Z",
     "start_time": "2023-12-31T21:19:13.614080653Z"
    }
   },
   "outputs": [],
   "source": [
    "_, clinical_data_cols = check_rows_and_columns(clinical_data)"
   ]
  },
  {
   "cell_type": "code",
   "execution_count": 8,
   "metadata": {
    "ExecuteTime": {
     "end_time": "2023-12-31T21:19:13.661538569Z",
     "start_time": "2023-12-31T21:19:13.615946213Z"
    }
   },
   "outputs": [
    {
     "data": {
      "text/plain": [
       "['CDE_ID_3226963',\n",
       " '_INTEGRATION',\n",
       " '_PATIENT',\n",
       " '_cohort',\n",
       " '_primary_disease',\n",
       " '_primary_site',\n",
       " 'additional_pharmaceutical_therapy',\n",
       " 'additional_radiation_therapy',\n",
       " 'additional_surgery_locoregional_procedure',\n",
       " 'additional_surgery_metastatic_procedure']"
      ]
     },
     "execution_count": 8,
     "metadata": {},
     "output_type": "execute_result"
    }
   ],
   "source": [
    "clinical_data_cols[:10]"
   ]
  },
  {
   "cell_type": "markdown",
   "metadata": {
    "ExecuteTime": {
     "end_time": "2023-12-28T20:20:11.841042813Z",
     "start_time": "2023-12-28T20:20:11.834458206Z"
    }
   },
   "source": [
    "Read all the column names in the clinical dataset, to find the columns that record information about age or gender.\n",
    "Reference prompt:"
   ]
  },
  {
   "cell_type": "code",
   "execution_count": 9,
   "metadata": {
    "ExecuteTime": {
     "end_time": "2023-12-31T21:19:13.661858700Z",
     "start_time": "2023-12-31T21:19:13.656749487Z"
    }
   },
   "outputs": [
    {
     "data": {
      "text/plain": [
       "\"\\nBelow is a list of column names from a biomedical dataset. Please examine it and identify the columns that are likely to contain information about patients' age. Additionally, please do the same for columns that may hold data on patients' gender. Please provide your answer by strictly following this format, without redundant words:\\ncandidate_age_cols = [col_name1, col_name2, ...]\\ncandidate_gender_cols = [col_name1, col_name2, ...]\\nIf no columns match a criterion, please provide an empty list.\\n\\nColumn names:\\n['CDE_ID_3226963', '_INTEGRATION', '_PATIENT', '_cohort', '_primary_disease', '_primary_site', 'additional_pharmaceutical_therapy', 'additional_radiation_therapy', 'additional_surgery_locoregional_procedure', 'additional_surgery_metastatic_procedure', 'age_at_initial_pathologic_diagnosis', 'anatomic_neoplasm_subdivision', 'antireflux_treatment', 'antireflux_treatment_type', 'barretts_esophagus', 'bcr_followup_barcode', 'bcr_patient_barcode', 'bcr_sample_barcode', 'city_of_procurement', 'country_of_procurement', 'days_to_additional_surgery_locoregional_procedure', 'days_to_additional_surgery_metastatic_procedure', 'days_to_birth', 'days_to_collection', 'days_to_death', 'days_to_initial_pathologic_diagnosis', 'days_to_last_followup', 'days_to_new_tumor_event_after_initial_treatment', 'family_history_of_stomach_cancer', 'followup_case_report_form_submission_reason', 'followup_treatment_success', 'form_completion_date', 'gender', 'h_pylori_infection', 'histological_type', 'history_of_neoadjuvant_treatment', 'icd_10', 'icd_o_3_histology', 'icd_o_3_site', 'informed_consent_verified', 'initial_weight', 'intermediate_dimension', 'is_ffpe', 'longest_dimension', 'lost_follow_up', 'lymph_node_examined_count', 'neoplasm_histologic_grade', 'new_neoplasm_event_occurrence_anatomic_site', 'new_neoplasm_event_type', 'new_neoplasm_occurrence_anatomic_site_text', 'new_tumor_event_after_initial_treatment', 'number_of_lymphnodes_positive_by_he', 'number_of_relatives_with_stomach_cancer', 'oct_embedded', 'other_dx', 'pathologic_M', 'pathologic_N', 'pathologic_T', 'pathologic_stage', 'pathology_report_file_name', 'patient_death_reason', 'patient_id', 'person_neoplasm_cancer_status', 'primary_lymph_node_presentation_assessment', 'primary_therapy_outcome_success', 'progression_determined_by', 'radiation_therapy', 'reflux_history', 'residual_disease_post_new_tumor_event_margin_status', 'residual_tumor', 'sample_type', 'sample_type_id', 'shortest_dimension', 'system_version', 'targeted_molecular_therapy', 'tissue_prospective_collection_indicator', 'tissue_retrospective_collection_indicator', 'tissue_source_site', 'tumor_tissue_site', 'vial_number', 'vital_status', 'year_of_initial_pathologic_diagnosis', '_GENOMIC_ID_TCGA_STAD_mutation', '_GENOMIC_ID_TCGA_STAD_mutation_curated_broad_gene', '_GENOMIC_ID_TCGA_STAD_mutation_ucsc_maf_gene', '_GENOMIC_ID_TCGA_STAD_exp_GA_exon', '_GENOMIC_ID_TCGA_STAD_exp_HiSeqV2', '_GENOMIC_ID_TCGA_STAD_hMethyl27', '_GENOMIC_ID_TCGA_STAD_mutation_bcm_gene', '_GENOMIC_ID_TCGA_STAD_gistic2', '_GENOMIC_ID_TCGA_STAD_hMethyl450', '_GENOMIC_ID_data/public/TCGA/STAD/miRNA_GA_gene', '_GENOMIC_ID_TCGA_STAD_RPPA', '_GENOMIC_ID_TCGA_STAD_miRNA_HiSeq', '_GENOMIC_ID_TCGA_STAD_PDMRNAseqCNV', '_GENOMIC_ID_TCGA_STAD_gistic2thd', '_GENOMIC_ID_TCGA_STAD_exp_HiSeqV2_exon', '_GENOMIC_ID_TCGA_STAD_exp_HiSeq_exon', '_GENOMIC_ID_TCGA_STAD_exp_GA', '_GENOMIC_ID_TCGA_STAD_exp_HiSeqV2_PANCAN', '_GENOMIC_ID_TCGA_STAD_mutation_broad_gene', '_GENOMIC_ID_TCGA_STAD_PDMRNAseq', '_GENOMIC_ID_data/public/TCGA/STAD/miRNA_HiSeq_gene', '_GENOMIC_ID_TCGA_STAD_exp_HiSeqV2_percentile', '_GENOMIC_ID_TCGA_STAD_mutation_bcgsc_gene', '_GENOMIC_ID_TCGA_STAD_exp_HiSeq', '_GENOMIC_ID_TCGA_STAD_miRNA_GA']\\n\""
      ]
     },
     "execution_count": 9,
     "metadata": {},
     "output_type": "execute_result"
    }
   ],
   "source": [
    "f'''\n",
    "Below is a list of column names from a biomedical dataset. Please examine it and identify the columns that are likely to contain information about patients' age. Additionally, please do the same for columns that may hold data on patients' gender. Please provide your answer by strictly following this format, without redundant words:\n",
    "candidate_age_cols = [col_name1, col_name2, ...]\n",
    "candidate_gender_cols = [col_name1, col_name2, ...]\n",
    "If no columns match a criterion, please provide an empty list.\n",
    "\n",
    "Column names:\n",
    "{clinical_data_cols}\n",
    "'''"
   ]
  },
  {
   "cell_type": "code",
   "execution_count": 10,
   "metadata": {
    "ExecuteTime": {
     "end_time": "2023-12-31T21:19:13.661938833Z",
     "start_time": "2023-12-31T21:19:13.656901848Z"
    }
   },
   "outputs": [],
   "source": [
    "candidate_age_cols = ['age_at_initial_pathologic_diagnosis',\n",
    "                      'days_to_birth']\n",
    "candidate_gender_cols = ['gender']"
   ]
  },
  {
   "cell_type": "markdown",
   "metadata": {
    "ExecuteTime": {
     "end_time": "2023-12-31T03:57:44.207565572Z",
     "start_time": "2023-12-31T03:57:44.202177544Z"
    }
   },
   "source": [
    "Choose a single column from the candidate columns that record age and gender information respectively.\n",
    "If no column meets the requirement, keep 'age_col' or 'gender_col' to None"
   ]
  },
  {
   "cell_type": "code",
   "execution_count": 11,
   "metadata": {
    "ExecuteTime": {
     "end_time": "2023-12-31T21:19:13.662078139Z",
     "start_time": "2023-12-31T21:19:13.657006017Z"
    }
   },
   "outputs": [
    {
     "data": {
      "text/plain": [
       "{'age_at_initial_pathologic_diagnosis': [70.0, 51.0, 51.0, 62.0, 52.0],\n",
       " 'days_to_birth': [nan, nan, -18698.0, -22792.0, -19014.0]}"
      ]
     },
     "execution_count": 11,
     "metadata": {},
     "output_type": "execute_result"
    }
   ],
   "source": [
    "preview_df(clinical_data[candidate_age_cols])"
   ]
  },
  {
   "cell_type": "code",
   "execution_count": 12,
   "metadata": {
    "ExecuteTime": {
     "end_time": "2023-12-31T21:19:13.777159137Z",
     "start_time": "2023-12-31T21:19:13.756210135Z"
    }
   },
   "outputs": [],
   "source": [
    "age_col = 'age_at_initial_pathologic_diagnosis'"
   ]
  },
  {
   "cell_type": "code",
   "execution_count": 13,
   "metadata": {
    "ExecuteTime": {
     "end_time": "2023-12-31T21:19:14.313425023Z",
     "start_time": "2023-12-31T21:19:14.305221062Z"
    }
   },
   "outputs": [
    {
     "data": {
      "text/plain": [
       "{'gender': ['MALE', 'MALE', 'FEMALE', 'MALE', 'MALE']}"
      ]
     },
     "execution_count": 13,
     "metadata": {},
     "output_type": "execute_result"
    }
   ],
   "source": [
    "preview_df(clinical_data[candidate_gender_cols])"
   ]
  },
  {
   "cell_type": "code",
   "execution_count": 14,
   "metadata": {
    "ExecuteTime": {
     "end_time": "2023-12-31T21:19:14.852502962Z",
     "start_time": "2023-12-31T21:19:14.845153121Z"
    }
   },
   "outputs": [],
   "source": [
    "gender_col = 'gender'"
   ]
  },
  {
   "cell_type": "code",
   "execution_count": 15,
   "metadata": {
    "ExecuteTime": {
     "end_time": "2023-12-31T21:19:15.246065025Z",
     "start_time": "2023-12-31T21:19:15.240279162Z"
    }
   },
   "outputs": [],
   "source": [
    "selected_clinical_data = xena_select_clinical_features(clinical_data, TRAIT, age_col, gender_col)"
   ]
  },
  {
   "cell_type": "code",
   "execution_count": 16,
   "metadata": {
    "ExecuteTime": {
     "end_time": "2023-12-31T21:19:15.593478652Z",
     "start_time": "2023-12-31T21:19:15.583841656Z"
    }
   },
   "outputs": [
    {
     "name": "stderr",
     "output_type": "stream",
     "text": [
      "15 input query terms found dup hits:\t[('GTF2IP1', 2), ('RBMY1A3P', 3), ('HERC2P2', 3), ('WASH3P', 3), ('NUDT9P1', 2), ('SNORD104', 2), ('\n",
      "154 input query terms found no hit:\t['C16orf13', 'C16orf11', 'LOC100272146', 'LOC339240', 'NACAP1', 'LOC441204', 'KLRA1', 'FAM183A', 'FA\n",
      "9 input query terms found dup hits:\t[('SUGT1P1', 2), ('SNORD127', 2), ('SNORA62', 4), ('IFITM4P', 8), ('HLA-DRB6', 2), ('FUNDC2P2', 2), \n",
      "190 input query terms found no hit:\t['NARFL', 'NFKBIL2', 'LOC150197', 'TMEM84', 'LOC162632', 'PPPDE1', 'PPPDE2', 'C1orf38', 'C1orf31', '\n",
      "20 input query terms found dup hits:\t[('PIP5K1P1', 2), ('SNORA40', 2), ('SNORD116-24', 2), ('SNORD116-25', 2), ('SNORD116-23', 2), ('SNOR\n",
      "149 input query terms found no hit:\t['FAM153C', 'C9orf167', 'CLK2P', 'CCDC76', 'CCDC75', 'CCDC72', 'HIST3H2BB', 'PRAC', 'LOC285780', 'LO\n",
      "18 input query terms found dup hits:\t[('SNORD58C', 2), ('UOX', 2), ('UBE2Q2P1', 3), ('PPP4R1L', 2), ('SNORD63', 3), ('SNORD116-22', 2), (\n",
      "158 input query terms found no hit:\t['C16orf91', 'LOC100130581', 'SFRS2', 'C16orf5', 'C16orf7', 'C16orf3', 'C21orf7', 'C21orf2', 'LOC389\n",
      "19 input query terms found dup hits:\t[('FAM66D', 2), ('FAM66A', 2), ('THSD1P1', 2), ('MSLNL', 2), ('EEF1DP3', 2), ('PGM5P2', 2), ('UBE2MP\n",
      "169 input query terms found no hit:\t['LOC284551', 'LOC285548', 'LOC728410', 'LOC541473', 'DULLARD', 'KIAA0368', 'EFTUD1', 'TWISTNB', 'SF\n",
      "17 input query terms found dup hits:\t[('S100A7L2', 2), ('POM121L8P', 2), ('SNORD16', 2), ('MEG8', 2), ('RPL23P8', 2), ('KIR3DX1', 5), ('R\n",
      "165 input query terms found no hit:\t['TMEM188', 'PDZD3', 'FAM102B', 'FAM102A', 'SMCR7L', 'G6PC', 'OSTCL', 'LOC653544', 'LOC653545', 'USP\n",
      "20 input query terms found dup hits:\t[('SNORD50B', 2), ('PCNAP1', 2), ('SNORA63', 7), ('C5orf60', 2), ('CEACAM22P', 2), ('SNORA16A', 2), \n",
      "147 input query terms found no hit:\t['LRRC37A4', 'LOC100131726', 'CPSF3L', 'COL4A3BP', 'PAR1', 'LOC92973', 'MICALCL', 'SMCR7', 'HIST4H4'\n",
      "15 input query terms found dup hits:\t[('SDHAP3', 2), ('PSORS1C3', 8), ('POM121L10P', 2), ('HLA-J', 9), ('HLA-H', 9), ('HLA-L', 7), ('NME2\n",
      "153 input query terms found no hit:\t['LOC100131193', 'KIAA1109', 'DUS2L', 'MYST1', 'IGLL3', 'C12orf69', 'NEURL', 'FAM188B', 'FLJ32063', \n",
      "8 input query terms found dup hits:\t[('PLGLA', 2), ('PA2G4P4', 2), ('RPL23AP7', 2), ('ST20', 2), ('RPL23AP64', 3), ('DPY19L2P2', 3), ('F\n",
      "177 input query terms found no hit:\t['LOC283314', 'RBM9', 'C20orf118', 'LOC150786', 'C20orf112', 'C20orf111', 'C20orf117', 'C20orf114', \n",
      "19 input query terms found dup hits:\t[('TPTE2P1', 2), ('FOLH1B', 2), ('ID2B', 2), ('MSX2P1', 2), ('RAET1K', 2), ('BMS1P4', 2), ('RPL23AP8\n",
      "175 input query terms found no hit:\t['MYEOV2', 'FAM35B2', 'C20orf85', 'FAM175A', 'C17orf73', 'C17orf72', 'C17orf71', 'C17orf70', 'C17orf\n",
      "26 input query terms found dup hits:\t[('CATSPER2P1', 2), ('AQP7P3', 2), ('AQP7P1', 2), ('ATP8B5P', 2), ('OR7E91P', 2), ('ZNF204P', 2), ('\n",
      "144 input query terms found no hit:\t['BASE', 'C14orf21', 'C14orf23', 'FAM5B', 'TROVE2', 'C18orf62', 'LOC401052', 'GNB2L1', 'FAM19A4', 'F\n",
      "17 input query terms found dup hits:\t[('P2RX6P', 2), ('RP9P', 2), ('SNORD1A', 2), ('SNORD10', 2), ('SNORD19', 2), ('NRADDP', 2), ('AOX2P'\n",
      "169 input query terms found no hit:\t['TTC15', 'C4orf29', 'FAM48A', 'C4orf21', 'C3orf65', 'C4orf23', 'C3orf67', 'LOC144742', 'C3orf63', '\n",
      "17 input query terms found dup hits:\t[('SNORA58', 2), ('PMCHL1', 2), ('FAM95B1', 2), ('TMEM191A', 2), ('RPL13P5', 2), ('SBDSP1', 2), ('CY\n",
      "143 input query terms found no hit:\t['LOC254312', 'ZNF542', 'CSDAP1', 'FAM73A', 'FAM73B', 'TCTE3', 'ZNF37B', 'LOC728875', 'KIAA1826', 'P\n",
      "16 input query terms found dup hits:\t[('ZFP91-CNTF', 2), ('SNORD116-27', 2), ('GSTM2P1', 2), ('C3P1', 2), ('NCF1B', 2), ('SNORD114-4', 2)\n",
      "138 input query terms found no hit:\t['LOC100129716', 'C14orf184', 'C14orf181', 'C14orf183', 'C14orf182', 'C7orf26', 'C7orf27', 'C7orf23'\n",
      "14 input query terms found dup hits:\t[('ANXA2P1', 2), ('ANXA2P3', 2), ('ANXA2P2', 2), ('SNORD116-12', 2), ('ZNF286B', 2), ('SAA3P', 2), (\n",
      "132 input query terms found no hit:\t['AKR1CL1', 'CCDC21', 'CCDC23', 'TMEM111', 'APOB48R', 'LOC595101', 'KIAA1430', 'KIAA1432', 'ORC4L', \n",
      "15 input query terms found dup hits:\t[('TCP10L2', 2), ('CXADRP3', 2), ('SNORD116-13', 2), ('TPTE2P3', 2), ('SNORD116-15', 2), ('SNORD116-\n",
      "175 input query terms found no hit:\t['DFNB59', 'LOC100170939', 'FAM36A', 'C2orf70', 'C2orf71', 'C2orf77', 'C2orf79', 'LOC100128191', 'HR\n",
      "16 input query terms found dup hits:\t[('PMS2CL', 2), ('BRD7P3', 2), ('SCARNA17', 2), ('GABARAPL3', 2), ('MT1IP', 2), ('ADAM6', 3), ('SNOR\n",
      "142 input query terms found no hit:\t['C9orf30', 'PEG3AS', 'C9orf37', 'TXNDC3', 'LOC442308', 'FAM46D', 'FAM46A', 'FAM46B', 'FAM46C', 'WDR\n",
      "13 input query terms found dup hits:\t[('FAM197Y2', 3), ('SNORD1C', 2), ('SNORA71B', 2), ('NAT8B', 3), ('SNORA21', 2), ('VENTXP7', 2), ('G\n",
      "148 input query terms found no hit:\t['FCGR1B', 'RG9MTD2', 'RARS', 'LOC727677', 'CCRN4L', 'SEPT14', 'HKR1', 'C1orf112', 'LOC100270710', '\n",
      "13 input query terms found dup hits:\t[('OR6W1P', 3), ('LYPLA2P1', 6), ('RPL23AP53', 2), ('TRPC2', 2), ('RBMY2FP', 2), ('BAGE2', 2), ('POM\n",
      "150 input query terms found no hit:\t['SIP1', 'FAM129C', 'GIF', 'TMCO7', 'CXorf61', 'CXorf64', 'ZNF192', 'SEPP1', 'KIRREL', 'MGC16121', '\n",
      "18 input query terms found dup hits:\t[('ISCA1P1', 2), ('SNORD116-5', 2), ('PCDHB19P', 3), ('NAPSB', 2), ('WASH7P', 2), ('TTTY11', 2), ('H\n",
      "135 input query terms found no hit:\t['PPYR1', 'FAM82A2', 'FLJ37453', 'FAM82A1', 'KIAA0947', 'MOBKL2B', 'MOBKL2C', 'MOBKL2A', 'CMAH', 'GR\n",
      "8 input query terms found dup hits:\t[('SNORD12B', 2), ('SNORD116-8', 2), ('SNORD116-4', 2), ('SNORD116-1', 2), ('SNORD116-3', 2), ('SNOR\n",
      "78 input query terms found no hit:\t['C14orf174', 'C14orf176', 'C14orf177', 'C14orf179', 'PTPLB', 'SGEF', 'LOC400752', 'GRLF1', 'SPANXE'\n"
     ]
    }
   ],
   "source": [
    "if NORMALIZE_GENE:\n",
    "    genetic_data = normalize_gene_symbols_in_index(genetic_data)"
   ]
  },
  {
   "cell_type": "code",
   "execution_count": 17,
   "metadata": {
    "ExecuteTime": {
     "end_time": "2023-12-31T21:19:16.074598194Z",
     "start_time": "2023-12-31T21:19:15.973600157Z"
    }
   },
   "outputs": [
    {
     "data": {
      "text/html": [
       "<div>\n",
       "<style scoped>\n",
       "    .dataframe tbody tr th:only-of-type {\n",
       "        vertical-align: middle;\n",
       "    }\n",
       "\n",
       "    .dataframe tbody tr th {\n",
       "        vertical-align: top;\n",
       "    }\n",
       "\n",
       "    .dataframe thead th {\n",
       "        text-align: right;\n",
       "    }\n",
       "</style>\n",
       "<table border=\"1\" class=\"dataframe\">\n",
       "  <thead>\n",
       "    <tr style=\"text-align: right;\">\n",
       "      <th></th>\n",
       "      <th>Stomach Cancer</th>\n",
       "      <th>Age</th>\n",
       "      <th>Gender</th>\n",
       "      <th>ARHGEF10L</th>\n",
       "      <th>HIF3A</th>\n",
       "      <th>RNF17</th>\n",
       "      <th>RNF10</th>\n",
       "      <th>RNF11</th>\n",
       "      <th>RNF13</th>\n",
       "      <th>GTF2IP1</th>\n",
       "      <th>...</th>\n",
       "      <th>SLC7A10</th>\n",
       "      <th>PLA2G2C</th>\n",
       "      <th>TULP2</th>\n",
       "      <th>NPY5R</th>\n",
       "      <th>GNGT2</th>\n",
       "      <th>GNGT1</th>\n",
       "      <th>TULP3</th>\n",
       "      <th>BCL6B</th>\n",
       "      <th>GSTK1</th>\n",
       "      <th>SELP</th>\n",
       "    </tr>\n",
       "    <tr>\n",
       "      <th>sampleID</th>\n",
       "      <th></th>\n",
       "      <th></th>\n",
       "      <th></th>\n",
       "      <th></th>\n",
       "      <th></th>\n",
       "      <th></th>\n",
       "      <th></th>\n",
       "      <th></th>\n",
       "      <th></th>\n",
       "      <th></th>\n",
       "      <th></th>\n",
       "      <th></th>\n",
       "      <th></th>\n",
       "      <th></th>\n",
       "      <th></th>\n",
       "      <th></th>\n",
       "      <th></th>\n",
       "      <th></th>\n",
       "      <th></th>\n",
       "      <th></th>\n",
       "      <th></th>\n",
       "    </tr>\n",
       "  </thead>\n",
       "  <tbody>\n",
       "    <tr>\n",
       "      <th>TCGA-3M-AB46-01</th>\n",
       "      <td>1</td>\n",
       "      <td>70.0</td>\n",
       "      <td>1.0</td>\n",
       "      <td>2.168708</td>\n",
       "      <td>-0.956226</td>\n",
       "      <td>-0.531035</td>\n",
       "      <td>0.135928</td>\n",
       "      <td>0.349322</td>\n",
       "      <td>0.14139</td>\n",
       "      <td>-0.419494</td>\n",
       "      <td>...</td>\n",
       "      <td>-1.531086</td>\n",
       "      <td>-0.086682</td>\n",
       "      <td>0.213122</td>\n",
       "      <td>-1.587117</td>\n",
       "      <td>-0.417833</td>\n",
       "      <td>1.55901</td>\n",
       "      <td>-1.051477</td>\n",
       "      <td>-0.131827</td>\n",
       "      <td>0.312605</td>\n",
       "      <td>-2.890033</td>\n",
       "    </tr>\n",
       "    <tr>\n",
       "      <th>TCGA-3M-AB47-01</th>\n",
       "      <td>1</td>\n",
       "      <td>51.0</td>\n",
       "      <td>1.0</td>\n",
       "      <td>1.309708</td>\n",
       "      <td>1.160674</td>\n",
       "      <td>-0.037135</td>\n",
       "      <td>0.210328</td>\n",
       "      <td>0.313322</td>\n",
       "      <td>-0.28301</td>\n",
       "      <td>-0.415794</td>\n",
       "      <td>...</td>\n",
       "      <td>-1.592886</td>\n",
       "      <td>-0.086682</td>\n",
       "      <td>-0.254978</td>\n",
       "      <td>0.973083</td>\n",
       "      <td>0.544567</td>\n",
       "      <td>-0.42039</td>\n",
       "      <td>-0.167577</td>\n",
       "      <td>1.148673</td>\n",
       "      <td>0.948205</td>\n",
       "      <td>4.198067</td>\n",
       "    </tr>\n",
       "    <tr>\n",
       "      <th>TCGA-B7-5816-01</th>\n",
       "      <td>1</td>\n",
       "      <td>51.0</td>\n",
       "      <td>0.0</td>\n",
       "      <td>-0.045892</td>\n",
       "      <td>-2.968626</td>\n",
       "      <td>-0.531035</td>\n",
       "      <td>-0.206872</td>\n",
       "      <td>-0.105678</td>\n",
       "      <td>0.15469</td>\n",
       "      <td>-0.937094</td>\n",
       "      <td>...</td>\n",
       "      <td>0.165814</td>\n",
       "      <td>-0.086682</td>\n",
       "      <td>-0.748878</td>\n",
       "      <td>-1.587117</td>\n",
       "      <td>0.180067</td>\n",
       "      <td>-1.28139</td>\n",
       "      <td>-0.364377</td>\n",
       "      <td>0.564673</td>\n",
       "      <td>0.272405</td>\n",
       "      <td>1.328567</td>\n",
       "    </tr>\n",
       "    <tr>\n",
       "      <th>TCGA-B7-5818-01</th>\n",
       "      <td>1</td>\n",
       "      <td>62.0</td>\n",
       "      <td>1.0</td>\n",
       "      <td>0.076608</td>\n",
       "      <td>5.843574</td>\n",
       "      <td>-0.531035</td>\n",
       "      <td>-0.190272</td>\n",
       "      <td>-0.647478</td>\n",
       "      <td>-0.02321</td>\n",
       "      <td>-0.576694</td>\n",
       "      <td>...</td>\n",
       "      <td>-1.364086</td>\n",
       "      <td>-0.086682</td>\n",
       "      <td>0.818922</td>\n",
       "      <td>-1.587117</td>\n",
       "      <td>1.134367</td>\n",
       "      <td>-1.28139</td>\n",
       "      <td>-0.446777</td>\n",
       "      <td>-0.050027</td>\n",
       "      <td>1.929905</td>\n",
       "      <td>-2.179533</td>\n",
       "    </tr>\n",
       "    <tr>\n",
       "      <th>TCGA-B7-A5TI-01</th>\n",
       "      <td>1</td>\n",
       "      <td>52.0</td>\n",
       "      <td>1.0</td>\n",
       "      <td>0.046908</td>\n",
       "      <td>5.233774</td>\n",
       "      <td>-0.531035</td>\n",
       "      <td>-0.108772</td>\n",
       "      <td>-0.233578</td>\n",
       "      <td>0.21699</td>\n",
       "      <td>-1.040094</td>\n",
       "      <td>...</td>\n",
       "      <td>-2.090786</td>\n",
       "      <td>-0.086682</td>\n",
       "      <td>-0.748878</td>\n",
       "      <td>-1.587117</td>\n",
       "      <td>0.381167</td>\n",
       "      <td>2.98761</td>\n",
       "      <td>0.239123</td>\n",
       "      <td>1.278873</td>\n",
       "      <td>0.907905</td>\n",
       "      <td>1.724767</td>\n",
       "    </tr>\n",
       "  </tbody>\n",
       "</table>\n",
       "<p>5 rows × 17342 columns</p>\n",
       "</div>"
      ],
      "text/plain": [
       "                 Stomach Cancer   Age  Gender  ARHGEF10L     HIF3A     RNF17  \\\n",
       "sampleID                                                                       \n",
       "TCGA-3M-AB46-01               1  70.0     1.0   2.168708 -0.956226 -0.531035   \n",
       "TCGA-3M-AB47-01               1  51.0     1.0   1.309708  1.160674 -0.037135   \n",
       "TCGA-B7-5816-01               1  51.0     0.0  -0.045892 -2.968626 -0.531035   \n",
       "TCGA-B7-5818-01               1  62.0     1.0   0.076608  5.843574 -0.531035   \n",
       "TCGA-B7-A5TI-01               1  52.0     1.0   0.046908  5.233774 -0.531035   \n",
       "\n",
       "                    RNF10     RNF11    RNF13   GTF2IP1  ...   SLC7A10  \\\n",
       "sampleID                                                ...             \n",
       "TCGA-3M-AB46-01  0.135928  0.349322  0.14139 -0.419494  ... -1.531086   \n",
       "TCGA-3M-AB47-01  0.210328  0.313322 -0.28301 -0.415794  ... -1.592886   \n",
       "TCGA-B7-5816-01 -0.206872 -0.105678  0.15469 -0.937094  ...  0.165814   \n",
       "TCGA-B7-5818-01 -0.190272 -0.647478 -0.02321 -0.576694  ... -1.364086   \n",
       "TCGA-B7-A5TI-01 -0.108772 -0.233578  0.21699 -1.040094  ... -2.090786   \n",
       "\n",
       "                  PLA2G2C     TULP2     NPY5R     GNGT2    GNGT1     TULP3  \\\n",
       "sampleID                                                                     \n",
       "TCGA-3M-AB46-01 -0.086682  0.213122 -1.587117 -0.417833  1.55901 -1.051477   \n",
       "TCGA-3M-AB47-01 -0.086682 -0.254978  0.973083  0.544567 -0.42039 -0.167577   \n",
       "TCGA-B7-5816-01 -0.086682 -0.748878 -1.587117  0.180067 -1.28139 -0.364377   \n",
       "TCGA-B7-5818-01 -0.086682  0.818922 -1.587117  1.134367 -1.28139 -0.446777   \n",
       "TCGA-B7-A5TI-01 -0.086682 -0.748878 -1.587117  0.381167  2.98761  0.239123   \n",
       "\n",
       "                    BCL6B     GSTK1      SELP  \n",
       "sampleID                                       \n",
       "TCGA-3M-AB46-01 -0.131827  0.312605 -2.890033  \n",
       "TCGA-3M-AB47-01  1.148673  0.948205  4.198067  \n",
       "TCGA-B7-5816-01  0.564673  0.272405  1.328567  \n",
       "TCGA-B7-5818-01 -0.050027  1.929905 -2.179533  \n",
       "TCGA-B7-A5TI-01  1.278873  0.907905  1.724767  \n",
       "\n",
       "[5 rows x 17342 columns]"
      ]
     },
     "execution_count": 17,
     "metadata": {},
     "output_type": "execute_result"
    }
   ],
   "source": [
    "merged_data = selected_clinical_data.join(genetic_data.T).dropna()\n",
    "merged_data.head()"
   ]
  },
  {
   "cell_type": "code",
   "execution_count": 18,
   "metadata": {
    "ExecuteTime": {
     "end_time": "2023-12-31T21:19:16.341121723Z",
     "start_time": "2023-12-31T21:19:16.330544222Z"
    }
   },
   "outputs": [
    {
     "name": "stdout",
     "output_type": "stream",
     "text": [
      "The merged dataset contains 445 samples.\n"
     ]
    }
   ],
   "source": [
    "print(f\"The merged dataset contains {len(merged_data)} samples.\")"
   ]
  },
  {
   "cell_type": "code",
   "execution_count": 19,
   "metadata": {
    "ExecuteTime": {
     "end_time": "2023-12-31T21:19:17.222505900Z",
     "start_time": "2023-12-31T21:19:17.218781412Z"
    }
   },
   "outputs": [
    {
     "name": "stdout",
     "output_type": "stream",
     "text": [
      "For the feature 'Stomach Cancer', the least common label is '0' with 35 occurrences. This represents 7.87% of the dataset.\n",
      "The distribution of the feature 'Stomach Cancer' in this dataset is fine.\n",
      "\n",
      "Quartiles for 'Age':\n",
      "  25%: 58.0\n",
      "  50% (Median): 67.0\n",
      "  75%: 73.0\n",
      "Min: 30.0\n",
      "Max: 90.0\n",
      "The distribution of the feature 'Age' in this dataset is fine.\n",
      "\n",
      "For the feature 'Gender', the least common label is '0.0' with 157 occurrences. This represents 35.28% of the dataset.\n",
      "The distribution of the feature 'Gender' in this dataset is fine.\n",
      "\n"
     ]
    },
    {
     "data": {
      "text/plain": [
       "False"
      ]
     },
     "execution_count": 19,
     "metadata": {},
     "output_type": "execute_result"
    }
   ],
   "source": [
    "is_trait_biased, merge_data = judge_and_remove_biased_features(merged_data, TRAIT, trait_type=trait_type)\n",
    "is_trait_biased"
   ]
  },
  {
   "cell_type": "code",
   "execution_count": 20,
   "metadata": {
    "ExecuteTime": {
     "end_time": "2023-12-31T21:19:35.401536463Z",
     "start_time": "2023-12-31T21:19:17.980683628Z"
    }
   },
   "outputs": [],
   "source": [
    "merged_data.head()\n",
    "if not is_trait_biased:\n",
    "    merge_data.to_csv(os.path.join(OUTPUT_DIR, cohort+'.csv'), index=False)"
   ]
  },
  {
   "cell_type": "code",
   "execution_count": 21,
   "metadata": {
    "ExecuteTime": {
     "end_time": "2023-12-31T21:19:35.405288661Z",
     "start_time": "2023-12-31T21:19:35.402799553Z"
    }
   },
   "outputs": [],
   "source": [
    "save_cohort_info(cohort, JSON_PATH, is_available, is_trait_biased, merged_data)"
   ]
  },
  {
   "cell_type": "markdown",
   "metadata": {
    "ExecuteTime": {
     "end_time": "2023-12-28T21:28:38.028916303Z",
     "start_time": "2023-12-28T21:28:38.016245426Z"
    }
   },
   "source": [
    "## 2.2. The GEO dataset"
   ]
  },
  {
   "cell_type": "markdown",
   "metadata": {
    "ExecuteTime": {
     "end_time": "2023-12-31T03:25:23.253882615Z",
     "start_time": "2023-12-31T03:25:23.244062710Z"
    }
   },
   "source": [
    "In GEO, there may be one or multiple cohorts for a trait. Each cohort is identified by an accession number. We iterate over all accession numbers in the corresponding subdirectory, preprocess the cohort data, and save them to csv files."
   ]
  },
  {
   "cell_type": "code",
   "execution_count": 22,
   "metadata": {
    "ExecuteTime": {
     "end_time": "2023-12-31T21:19:35.411177575Z",
     "start_time": "2023-12-31T21:19:35.405710636Z"
    }
   },
   "outputs": [
    {
     "data": {
      "text/plain": [
       "['GSE207846', 'GSE172159', 'GSE147163', 'GSE211704', 'GSE172197']"
      ]
     },
     "execution_count": 22,
     "metadata": {},
     "output_type": "execute_result"
    }
   ],
   "source": [
    "dataset = 'GEO'\n",
    "trait_subdir = \"Stomach-Cancer\"\n",
    "\n",
    "trait_path = os.path.join(DATA_ROOT, dataset, trait_subdir)\n",
    "os.listdir(trait_path)"
   ]
  },
  {
   "cell_type": "markdown",
   "metadata": {
    "ExecuteTime": {
     "end_time": "2023-12-31T03:39:42.634870142Z",
     "start_time": "2023-12-31T03:39:42.534093295Z"
    }
   },
   "source": [
    "Repeat the below steps for all the accession numbers"
   ]
  },
  {
   "cell_type": "code",
   "execution_count": 6,
   "metadata": {
    "ExecuteTime": {
     "end_time": "2023-12-31T21:19:35.413836016Z",
     "start_time": "2023-12-31T21:19:35.410443976Z"
    }
   },
   "outputs": [
    {
     "data": {
      "text/plain": [
       "('../../DATA/GEO/Stomach-Cancer/GSE172197/GSE172197_family.soft.gz',\n",
       " '../../DATA/GEO/Stomach-Cancer/GSE172197/GSE172197_series_matrix.txt.gz')"
      ]
     },
     "execution_count": 6,
     "metadata": {},
     "output_type": "execute_result"
    }
   ],
   "source": [
    "cohort = accession_num = \"GSE172197\"\n",
    "cohort_dir = os.path.join(trait_path, accession_num)\n",
    "soft_file, matrix_file = get_relevant_filepaths(cohort_dir)\n",
    "soft_file, matrix_file"
   ]
  },
  {
   "cell_type": "markdown",
   "metadata": {},
   "source": [
    "### Inital filtering and clinical data preprocessing"
   ]
  },
  {
   "cell_type": "code",
   "execution_count": 9,
   "metadata": {
    "ExecuteTime": {
     "end_time": "2023-12-31T21:19:35.492119842Z",
     "start_time": "2023-12-31T21:19:35.413383102Z"
    }
   },
   "outputs": [
    {
     "name": "stdout",
     "output_type": "stream",
     "text": [
      "!Series_title\t\"mRNA expression profiles of newly established 49 gastric cancer cell lines.\"\n",
      "!Series_summary\t\"Establishment and molecular characterization of 49 peritoneally-metastatic gastric cancer cell lines from 18 patients’ ascites.\"\n",
      "!Series_summary\t\"We performed comprehensive transcriptome analyses using microarrays of our established gastric cancer cell lines.\"\n",
      "!Series_overall_design\t\"49 cancer cell lines\"\n"
     ]
    }
   ],
   "source": [
    "background_prefixes = ['!Series_title', '!Series_summary', '!Series_overall_design']\n",
    "clinical_prefixes = ['!Sample_geo_accession', '!Sample_characteristics_ch1']\n",
    "\n",
    "background_info, clinical_data = get_background_and_clinical_data(matrix_file, background_prefixes, clinical_prefixes)\n",
    "print(background_info)"
   ]
  },
  {
   "cell_type": "code",
   "execution_count": 10,
   "metadata": {
    "ExecuteTime": {
     "end_time": "2023-12-31T21:19:35.507840422Z",
     "start_time": "2023-12-31T21:19:35.451789107Z"
    }
   },
   "outputs": [
    {
     "data": {
      "text/html": [
       "<div>\n",
       "<style scoped>\n",
       "    .dataframe tbody tr th:only-of-type {\n",
       "        vertical-align: middle;\n",
       "    }\n",
       "\n",
       "    .dataframe tbody tr th {\n",
       "        vertical-align: top;\n",
       "    }\n",
       "\n",
       "    .dataframe thead th {\n",
       "        text-align: right;\n",
       "    }\n",
       "</style>\n",
       "<table border=\"1\" class=\"dataframe\">\n",
       "  <thead>\n",
       "    <tr style=\"text-align: right;\">\n",
       "      <th></th>\n",
       "      <th>!Sample_geo_accession</th>\n",
       "      <th>GSM5243830</th>\n",
       "      <th>GSM5243831</th>\n",
       "      <th>GSM5243832</th>\n",
       "      <th>GSM5243833</th>\n",
       "      <th>GSM5243834</th>\n",
       "      <th>GSM5243835</th>\n",
       "      <th>GSM5243836</th>\n",
       "      <th>GSM5243844</th>\n",
       "      <th>GSM5243845</th>\n",
       "      <th>...</th>\n",
       "      <th>GSM5243876</th>\n",
       "      <th>GSM5243877</th>\n",
       "      <th>GSM5243878</th>\n",
       "      <th>GSM5243879</th>\n",
       "      <th>GSM5243880</th>\n",
       "      <th>GSM5243881</th>\n",
       "      <th>GSM5243882</th>\n",
       "      <th>GSM5243883</th>\n",
       "      <th>GSM5243884</th>\n",
       "      <th>GSM5243885</th>\n",
       "    </tr>\n",
       "  </thead>\n",
       "  <tbody>\n",
       "    <tr>\n",
       "      <th>0</th>\n",
       "      <td>!Sample_characteristics_ch1</td>\n",
       "      <td>cell line: NSC-10C</td>\n",
       "      <td>cell line: NSC-10X1A</td>\n",
       "      <td>cell line: NSC-10X1aA</td>\n",
       "      <td>cell line: NSC-10X1aF</td>\n",
       "      <td>cell line: NSC-10X1aX1</td>\n",
       "      <td>cell line: NSC-10X1aX1a</td>\n",
       "      <td>cell line: NSC-10X1F</td>\n",
       "      <td>cell line: NSC-11C</td>\n",
       "      <td>cell line: NSC-11X1</td>\n",
       "      <td>...</td>\n",
       "      <td>cell line: NSC-40CX1</td>\n",
       "      <td>cell line: NSC-40CX1a</td>\n",
       "      <td>cell line: NSC-44CA</td>\n",
       "      <td>cell line: NSC-44CF</td>\n",
       "      <td>cell line: NSC-44CX1</td>\n",
       "      <td>cell line: NSC-44CX1a</td>\n",
       "      <td>cell line: NSC-47C</td>\n",
       "      <td>cell line: NSC-47CX1F</td>\n",
       "      <td>cell line: NSC-56C-1</td>\n",
       "      <td>cell line: NSC-56C-2</td>\n",
       "    </tr>\n",
       "  </tbody>\n",
       "</table>\n",
       "<p>1 rows × 50 columns</p>\n",
       "</div>"
      ],
      "text/plain": [
       "         !Sample_geo_accession          GSM5243830            GSM5243831  \\\n",
       "0  !Sample_characteristics_ch1  cell line: NSC-10C  cell line: NSC-10X1A   \n",
       "\n",
       "              GSM5243832             GSM5243833              GSM5243834  \\\n",
       "0  cell line: NSC-10X1aA  cell line: NSC-10X1aF  cell line: NSC-10X1aX1   \n",
       "\n",
       "                GSM5243835            GSM5243836          GSM5243844  \\\n",
       "0  cell line: NSC-10X1aX1a  cell line: NSC-10X1F  cell line: NSC-11C   \n",
       "\n",
       "            GSM5243845  ...            GSM5243876             GSM5243877  \\\n",
       "0  cell line: NSC-11X1  ...  cell line: NSC-40CX1  cell line: NSC-40CX1a   \n",
       "\n",
       "            GSM5243878           GSM5243879            GSM5243880  \\\n",
       "0  cell line: NSC-44CA  cell line: NSC-44CF  cell line: NSC-44CX1   \n",
       "\n",
       "              GSM5243881          GSM5243882             GSM5243883  \\\n",
       "0  cell line: NSC-44CX1a  cell line: NSC-47C  cell line: NSC-47CX1F   \n",
       "\n",
       "             GSM5243884            GSM5243885  \n",
       "0  cell line: NSC-56C-1  cell line: NSC-56C-2  \n",
       "\n",
       "[1 rows x 50 columns]"
      ]
     },
     "execution_count": 10,
     "metadata": {},
     "output_type": "execute_result"
    }
   ],
   "source": [
    "clinical_data.head()"
   ]
  },
  {
   "cell_type": "code",
   "execution_count": 11,
   "metadata": {
    "ExecuteTime": {
     "end_time": "2023-12-31T21:19:35.508015426Z",
     "start_time": "2023-12-31T21:19:35.492746637Z"
    }
   },
   "outputs": [
    {
     "data": {
      "text/plain": [
       "{0: ['cell line: NSC-10C',\n",
       "  'cell line: NSC-10X1A',\n",
       "  'cell line: NSC-10X1aA',\n",
       "  'cell line: NSC-10X1aF',\n",
       "  'cell line: NSC-10X1aX1',\n",
       "  'cell line: NSC-10X1aX1a',\n",
       "  'cell line: NSC-10X1F',\n",
       "  'cell line: NSC-11C',\n",
       "  'cell line: NSC-11X1',\n",
       "  'cell line: NSC-11X1a',\n",
       "  'cell line: NSC-15CA',\n",
       "  'cell line: NSC-15CF',\n",
       "  'cell line: NSC-16C',\n",
       "  'cell line: NSC-16CX1F',\n",
       "  'cell line: NSC-17CA',\n",
       "  'cell line: NSC-17CF',\n",
       "  'cell line: NSC-18C-1',\n",
       "  'cell line: NSC-18C-2',\n",
       "  'cell line: NSC-18C-3',\n",
       "  'cell line: NSC-20C',\n",
       "  'cell line: NSC-20CX1',\n",
       "  'cell line: NSC-20CX1a',\n",
       "  'cell line: NSC-20CX2',\n",
       "  'cell line: NSC-20CX2a',\n",
       "  'cell line: NSC-24C',\n",
       "  'cell line: NSC-24CX1a',\n",
       "  'cell line: NSC-26C-1',\n",
       "  'cell line: NSC-26C-2',\n",
       "  'cell line: NSC-28C',\n",
       "  'cell line: NSC-28CX1',\n",
       "  'cell line: NSC-28CX1a',\n",
       "  'cell line: NSC-32C',\n",
       "  'cell line: NSC-32CX1',\n",
       "  'cell line: NSC-32CX1a',\n",
       "  'cell line: NSC-35C-1',\n",
       "  'cell line: NSC-35C-2',\n",
       "  'cell line: NSC-38C-1',\n",
       "  'cell line: NSC-38C-2',\n",
       "  'cell line: NSC-40C',\n",
       "  'cell line: NSC-40CX1',\n",
       "  'cell line: NSC-40CX1a',\n",
       "  'cell line: NSC-44CA',\n",
       "  'cell line: NSC-44CF',\n",
       "  'cell line: NSC-44CX1',\n",
       "  'cell line: NSC-44CX1a',\n",
       "  'cell line: NSC-47C',\n",
       "  'cell line: NSC-47CX1F',\n",
       "  'cell line: NSC-56C-1',\n",
       "  'cell line: NSC-56C-2']}"
      ]
     },
     "execution_count": 11,
     "metadata": {},
     "output_type": "execute_result"
    }
   ],
   "source": [
    "clinical_data_unique = get_unique_values_by_row(clinical_data)\n",
    "clinical_data_unique"
   ]
  },
  {
   "cell_type": "markdown",
   "metadata": {
    "ExecuteTime": {
     "end_time": "2023-12-31T03:58:04.978204446Z",
     "start_time": "2023-12-31T03:58:04.922270095Z"
    }
   },
   "source": [
    "Analyze the metadata to determine data relevance and find ways to extract the clinical data.\n",
    "Reference prompt:"
   ]
  },
  {
   "cell_type": "code",
   "execution_count": 42,
   "metadata": {
    "ExecuteTime": {
     "end_time": "2023-12-31T21:19:35.508232400Z",
     "start_time": "2023-12-31T21:19:35.492903487Z"
    }
   },
   "outputs": [
    {
     "data": {
      "text/plain": [
       "'As a biomedical research team, we are selecting datasets to study the association between the human trait \\'Stomach Cancer\\' and genetic factors, optionally considering the influence of age and gender. After searching the GEO database and parsing the matrix file of a series, we obtained background information and sample characteristics data. We will provide textual information about the dataset background, and a Python dictionary storing a list of unique values for each field of the sample characteristics data. Please carefully review the provided information and answer the following questions about this dataset:\\n1. Does this dataset contain gene expression data? (Note: Pure miRNA data is not suitable.)\\n2. For each of the traits \\'Stomach Cancer\\', \\'age\\', and \\'gender\\', please address these points:\\n   (1) Is there human data available for this trait?\\n   (2) If so, identify the key in the sample characteristics dictionary where unique values of this trait is recorded. The key is an integer. The trait information might be explicitly recorded, or can be inferred from the field with some biomedical knowledge or understanding about the data collection process.\\n   (3) Choose an appropriate data type (either \\'continuous\\' or \\'binary\\') for each trait. Write a Python function to convert any given value of the trait to this data type. The function should handle inference about the trait value and convert unknown values to None.\\n   Name the functions \\'convert_trait\\', \\'convert_age\\', and \\'convert_gender\\', respectively.\\n   NOTE: Function \"convert_trait\" should return 1 or 0.\\n   \\nBackground information about the dataset:\\n!Series_title\\t\"Integrated analysis of cancer-related pathways affected by genetic and epigenetic alterations in gastric cancer\"\\n!Series_summary\\t\"DNA methylation was analyzed in human gastric cancers, and methylation status of cancer-related genes was analyzed.\"\\n!Series_overall_design\\t\"DNA methylation was analyzed in human gastric cancers, and methylation status of cancer-related genes was analyzed.\"\\n!Series_overall_design\\t\"Genome-wide DNA methylation analysis was conducted by an Infinium HumanMethylation450 BeadChip array.\"\\n\\nSample characteristics dictionary (from \"!Sample_characteristics_ch1\", converted to a Python dictionary that stores the unique values for each field):\\n{0: [\\'disease state: Gastric cancer\\'], 1: [\\'tissue: stomach\\', \\'stomach location: Body\\', \\'stomach location: n.s.\\', \\'stomach location: Antrum\\'], 2: [\\'stomach location: Body\\', \\'stomach location: Antrum\\', \\'stomach location: Anturm\\', \\'phenotype: Mucinous adenocarcinoma (poorly differenciated adenoca)\\', \\'phenotype: Poorly differentiated adenocarcinoma / Mucinous adenocarcinom\\', \\'phenotype: Poorly differentiated adenocarcinoma, solid type / moderately differentiated\\', \\'phenotype: Papillary adenocarcinoma / moderately differentiated\\', \\'phenotype: Moderately differentiated adenocarcinoma\\', \\'phenotype: Moderately differentiated adenocarcinoma / Poorly differentiated adenocarcinoma\\', \\'phenotype: Tubular adenocarcinoma\\', \\'phenotype: poorly differenciated adenoca\\', \\'phenotype: moderately to poorly adenoca\\', \\'phenotype: papillary and moderately adenoca\\', \\'phenotype: papillary and well differenciated adenoca\\', \\'phenotype: Poorly to moderately differenciated adenoca\\', \\'phenotype: moderately differenciated adenoca and papillary\\', \\'phenotype: poorly to well adenoca\\', \\'phenotype: well to moderate adenoca\\', \\'phenotype: poorly differenciated adenoca and sinnet cell carcinoma\\'], 3: [\\'phenotype: poorly differentiated adenoca and signet cell carcinoma\\', \\'phenotype: moderately differentiated adenoca\\', \\'phenotype: poorly differentiated adenoca\\', \\'phenotype: well differentiated adeno\\', \\'phenotype: Mucinous adenocarcinoma (poorly differentiated adenoca)\\', \\'phenotype: moderately to poorly adenoca\\', \\'phenotype: Endocrine carcinoma (poorly differentiated adenoca)\\', \\'phenotype: well and poorly differentiated adenoca\\', \\'phenotype: Mucinous adenocarcinoma (poorly differentiated adenoca and signet)\\', \\'phenotype: well differentiated adeno and papillary\\', \\'phenotype: Poorly to moderately differentiated adenoca\\', \\'ethnicity: Asian\\'], 4: [\\'ethnicity: Asian\\', nan]}\\n'"
      ]
     },
     "execution_count": 42,
     "metadata": {},
     "output_type": "execute_result"
    }
   ],
   "source": [
    "f'''As a biomedical research team, we are selecting datasets to study the association between the human trait \\'{TRAIT}\\' and genetic factors, optionally considering the influence of age and gender. After searching the GEO database and parsing the matrix file of a series, we obtained background information and sample characteristics data. We will provide textual information about the dataset background, and a Python dictionary storing a list of unique values for each field of the sample characteristics data. Please carefully review the provided information and answer the following questions about this dataset:\n",
    "1. Does this dataset contain gene expression data? (Note: Pure miRNA data is not suitable.)\n",
    "2. For each of the traits \\'{TRAIT}\\', 'age', and 'gender', please address these points:\n",
    "   (1) Is there human data available for this trait?\n",
    "   (2) If so, identify the key in the sample characteristics dictionary where unique values of this trait is recorded. The key is an integer. The trait information might be explicitly recorded, or can be inferred from the field with some biomedical knowledge or understanding about the data collection process.\n",
    "   (3) Choose an appropriate data type (either 'continuous' or 'binary') for each trait. Write a Python function to convert any given value of the trait to this data type. The function should handle inference about the trait value and convert unknown values to None.\n",
    "   Name the functions 'convert_trait', 'convert_age', and 'convert_gender', respectively.\n",
    "   NOTE: Function \"convert_trait\" should return 1 or 0.\n",
    "   \n",
    "Background information about the dataset:\n",
    "{background_info}\n",
    "\n",
    "Sample characteristics dictionary (from \"!Sample_characteristics_ch1\", converted to a Python dictionary that stores the unique values for each field):\n",
    "{clinical_data_unique}\n",
    "'''"
   ]
  },
  {
   "cell_type": "markdown",
   "metadata": {
    "ExecuteTime": {
     "end_time": "2023-12-31T03:58:04.978240504Z",
     "start_time": "2023-12-31T03:58:04.922365324Z"
    }
   },
   "source": [
    "Understand and verify the answer from GPT, to assign values to the below variables. Assign None to the 'row_id' variables if relevant data row was not found.\n",
    "Later we need to let GPT format its answer to automatically do these. But given the complexity of this step, let's grow some insight from the free-text answers for now."
   ]
  },
  {
   "cell_type": "code",
   "execution_count": 12,
   "metadata": {
    "ExecuteTime": {
     "end_time": "2023-12-31T21:19:35.508295660Z",
     "start_time": "2023-12-31T21:19:35.493015671Z"
    }
   },
   "outputs": [],
   "source": [
    "# is_gene_availabe = True\n",
    "is_gene_availabe = False\n",
    "trait_row_id = 0\n",
    "trait_type = 'binary'\n",
    "\n",
    "age_row_id = None\n",
    "# age_row_id = 1\n",
    "\n",
    "gender_row_id = None\n",
    "# gender_row_id = 2"
   ]
  },
  {
   "cell_type": "code",
   "execution_count": 13,
   "metadata": {
    "ExecuteTime": {
     "end_time": "2023-12-31T21:19:35.508365153Z",
     "start_time": "2023-12-31T21:19:35.493151450Z"
    }
   },
   "outputs": [
    {
     "name": "stdout",
     "output_type": "stream",
     "text": [
      "This cohort is not usable. Please skip the following steps and jump to the next accession number.\n"
     ]
    }
   ],
   "source": [
    "is_available = is_gene_availabe and (trait_row_id is not None)\n",
    "if not is_available:\n",
    "    save_cohort_info(cohort, JSON_PATH, is_available)\n",
    "    print(\"This cohort is not usable. Please skip the following steps and jump to the next accession number.\")"
   ]
  },
  {
   "cell_type": "code",
   "execution_count": 47,
   "metadata": {
    "ExecuteTime": {
     "end_time": "2023-12-31T21:19:35.508426069Z",
     "start_time": "2023-12-31T21:19:35.493220101Z"
    }
   },
   "outputs": [],
   "source": [
    "def convert_trait(value):\n",
    "    if value == 'disease state: Gastric cancer':\n",
    "          return 1\n",
    "    else:\n",
    "          return 0\n",
    "    \n",
    "def convert_age(value):\n",
    "    try:\n",
    "        # Split the string and extract the age part\n",
    "        age_str = value.split(': ')[-1]\n",
    "        return int(age_str)  # Convert the extracted age to an integer\n",
    "    except (ValueError, TypeError, IndexError):\n",
    "        return None  # Unable to convert or unknown age\n",
    "    \n",
    "def convert_gender(value):\n",
    "    if isinstance(value, str):\n",
    "        if 'F' in value:\n",
    "            return 0  # Female\n",
    "        elif 'M' in value:\n",
    "            return 1  # Male\n",
    "    return None  # Unknown or unhandled cases\n"
   ]
  },
  {
   "cell_type": "code",
   "execution_count": 48,
   "metadata": {
    "ExecuteTime": {
     "end_time": "2023-12-31T21:19:35.508533013Z",
     "start_time": "2023-12-31T21:19:35.493272992Z"
    }
   },
   "outputs": [
    {
     "data": {
      "text/html": [
       "<div>\n",
       "<style scoped>\n",
       "    .dataframe tbody tr th:only-of-type {\n",
       "        vertical-align: middle;\n",
       "    }\n",
       "\n",
       "    .dataframe tbody tr th {\n",
       "        vertical-align: top;\n",
       "    }\n",
       "\n",
       "    .dataframe thead th {\n",
       "        text-align: right;\n",
       "    }\n",
       "</style>\n",
       "<table border=\"1\" class=\"dataframe\">\n",
       "  <thead>\n",
       "    <tr style=\"text-align: right;\">\n",
       "      <th></th>\n",
       "      <th>GSM6499512</th>\n",
       "      <th>GSM6499513</th>\n",
       "      <th>GSM6499514</th>\n",
       "      <th>GSM6499515</th>\n",
       "      <th>GSM6499516</th>\n",
       "      <th>GSM6499517</th>\n",
       "      <th>GSM6499518</th>\n",
       "      <th>GSM6499519</th>\n",
       "      <th>GSM6499520</th>\n",
       "      <th>GSM6499521</th>\n",
       "      <th>...</th>\n",
       "      <th>GSM6552206</th>\n",
       "      <th>GSM6552207</th>\n",
       "      <th>GSM6552208</th>\n",
       "      <th>GSM6552209</th>\n",
       "      <th>GSM6552210</th>\n",
       "      <th>GSM6552211</th>\n",
       "      <th>GSM6552212</th>\n",
       "      <th>GSM6552213</th>\n",
       "      <th>GSM6552214</th>\n",
       "      <th>GSM6552215</th>\n",
       "    </tr>\n",
       "  </thead>\n",
       "  <tbody>\n",
       "    <tr>\n",
       "      <th>Stomach Cancer</th>\n",
       "      <td>1</td>\n",
       "      <td>1</td>\n",
       "      <td>1</td>\n",
       "      <td>1</td>\n",
       "      <td>1</td>\n",
       "      <td>1</td>\n",
       "      <td>1</td>\n",
       "      <td>1</td>\n",
       "      <td>1</td>\n",
       "      <td>1</td>\n",
       "      <td>...</td>\n",
       "      <td>1</td>\n",
       "      <td>1</td>\n",
       "      <td>1</td>\n",
       "      <td>1</td>\n",
       "      <td>1</td>\n",
       "      <td>1</td>\n",
       "      <td>1</td>\n",
       "      <td>1</td>\n",
       "      <td>1</td>\n",
       "      <td>1</td>\n",
       "    </tr>\n",
       "  </tbody>\n",
       "</table>\n",
       "<p>1 rows × 50 columns</p>\n",
       "</div>"
      ],
      "text/plain": [
       "                GSM6499512  GSM6499513  GSM6499514  GSM6499515  GSM6499516  \\\n",
       "Stomach Cancer           1           1           1           1           1   \n",
       "\n",
       "                GSM6499517  GSM6499518  GSM6499519  GSM6499520  GSM6499521  \\\n",
       "Stomach Cancer           1           1           1           1           1   \n",
       "\n",
       "                ...  GSM6552206  GSM6552207  GSM6552208  GSM6552209  \\\n",
       "Stomach Cancer  ...           1           1           1           1   \n",
       "\n",
       "                GSM6552210  GSM6552211  GSM6552212  GSM6552213  GSM6552214  \\\n",
       "Stomach Cancer           1           1           1           1           1   \n",
       "\n",
       "                GSM6552215  \n",
       "Stomach Cancer           1  \n",
       "\n",
       "[1 rows x 50 columns]"
      ]
     },
     "execution_count": 48,
     "metadata": {},
     "output_type": "execute_result"
    }
   ],
   "source": [
    "selected_clinical_data = geo_select_clinical_features(clinical_data, TRAIT, trait_row_id, age_row_id, gender_row_id,\n",
    "                                                      convert_trait, convert_age, convert_gender)\n",
    "selected_clinical_data.head()"
   ]
  },
  {
   "cell_type": "markdown",
   "metadata": {
    "ExecuteTime": {
     "end_time": "2023-12-31T03:58:04.978664193Z",
     "start_time": "2023-12-31T03:58:04.966117261Z"
    }
   },
   "source": [
    "### Genetic data preprocessing and final filtering"
   ]
  },
  {
   "cell_type": "code",
   "execution_count": 52,
   "metadata": {
    "ExecuteTime": {
     "end_time": "2023-12-31T21:19:35.590261560Z",
     "start_time": "2023-12-31T21:19:35.493320362Z"
    }
   },
   "outputs": [
    {
     "data": {
      "text/html": [
       "<div>\n",
       "<style scoped>\n",
       "    .dataframe tbody tr th:only-of-type {\n",
       "        vertical-align: middle;\n",
       "    }\n",
       "\n",
       "    .dataframe tbody tr th {\n",
       "        vertical-align: top;\n",
       "    }\n",
       "\n",
       "    .dataframe thead th {\n",
       "        text-align: right;\n",
       "    }\n",
       "</style>\n",
       "<table border=\"1\" class=\"dataframe\">\n",
       "  <thead>\n",
       "    <tr style=\"text-align: right;\">\n",
       "      <th></th>\n",
       "      <th>ID</th>\n",
       "      <th>GSM6499512</th>\n",
       "      <th>GSM6499513</th>\n",
       "      <th>GSM6499514</th>\n",
       "      <th>GSM6499515</th>\n",
       "      <th>GSM6499516</th>\n",
       "      <th>GSM6499517</th>\n",
       "      <th>GSM6499518</th>\n",
       "      <th>GSM6499519</th>\n",
       "      <th>GSM6499520</th>\n",
       "      <th>...</th>\n",
       "      <th>GSM6552206</th>\n",
       "      <th>GSM6552207</th>\n",
       "      <th>GSM6552208</th>\n",
       "      <th>GSM6552209</th>\n",
       "      <th>GSM6552210</th>\n",
       "      <th>GSM6552211</th>\n",
       "      <th>GSM6552212</th>\n",
       "      <th>GSM6552213</th>\n",
       "      <th>GSM6552214</th>\n",
       "      <th>GSM6552215</th>\n",
       "    </tr>\n",
       "  </thead>\n",
       "  <tbody>\n",
       "    <tr>\n",
       "      <th>0</th>\n",
       "      <td>cg00000029</td>\n",
       "      <td>0.332572</td>\n",
       "      <td>0.511428</td>\n",
       "      <td>0.418744</td>\n",
       "      <td>0.293688</td>\n",
       "      <td>0.246596</td>\n",
       "      <td>0.303733</td>\n",
       "      <td>0.337906</td>\n",
       "      <td>0.263289</td>\n",
       "      <td>0.234159</td>\n",
       "      <td>...</td>\n",
       "      <td>0.391020</td>\n",
       "      <td>0.273057</td>\n",
       "      <td>0.250134</td>\n",
       "      <td>0.186785</td>\n",
       "      <td>0.534048</td>\n",
       "      <td>0.291826</td>\n",
       "      <td>0.393869</td>\n",
       "      <td>0.171678</td>\n",
       "      <td>0.401537</td>\n",
       "      <td>0.309824</td>\n",
       "    </tr>\n",
       "    <tr>\n",
       "      <th>1</th>\n",
       "      <td>cg00000108</td>\n",
       "      <td>0.903620</td>\n",
       "      <td>0.942419</td>\n",
       "      <td>0.907896</td>\n",
       "      <td>0.940411</td>\n",
       "      <td>0.945472</td>\n",
       "      <td>0.922329</td>\n",
       "      <td>0.939412</td>\n",
       "      <td>0.801059</td>\n",
       "      <td>0.926147</td>\n",
       "      <td>...</td>\n",
       "      <td>0.929448</td>\n",
       "      <td>0.899164</td>\n",
       "      <td>0.850762</td>\n",
       "      <td>0.970414</td>\n",
       "      <td>0.872145</td>\n",
       "      <td>0.907492</td>\n",
       "      <td>0.949298</td>\n",
       "      <td>0.933325</td>\n",
       "      <td>0.918855</td>\n",
       "      <td>0.930271</td>\n",
       "    </tr>\n",
       "    <tr>\n",
       "      <th>2</th>\n",
       "      <td>cg00000109</td>\n",
       "      <td>0.842498</td>\n",
       "      <td>0.782451</td>\n",
       "      <td>0.863456</td>\n",
       "      <td>0.829853</td>\n",
       "      <td>0.803795</td>\n",
       "      <td>0.841160</td>\n",
       "      <td>0.872059</td>\n",
       "      <td>0.823878</td>\n",
       "      <td>0.897155</td>\n",
       "      <td>...</td>\n",
       "      <td>0.845600</td>\n",
       "      <td>0.836350</td>\n",
       "      <td>0.867638</td>\n",
       "      <td>0.874303</td>\n",
       "      <td>0.908187</td>\n",
       "      <td>0.860378</td>\n",
       "      <td>0.883108</td>\n",
       "      <td>0.720102</td>\n",
       "      <td>0.802628</td>\n",
       "      <td>0.805208</td>\n",
       "    </tr>\n",
       "    <tr>\n",
       "      <th>3</th>\n",
       "      <td>cg00000165</td>\n",
       "      <td>0.493801</td>\n",
       "      <td>0.208688</td>\n",
       "      <td>0.297658</td>\n",
       "      <td>0.380990</td>\n",
       "      <td>0.662907</td>\n",
       "      <td>0.413185</td>\n",
       "      <td>0.477908</td>\n",
       "      <td>0.624963</td>\n",
       "      <td>0.604757</td>\n",
       "      <td>...</td>\n",
       "      <td>0.629443</td>\n",
       "      <td>0.189181</td>\n",
       "      <td>0.361495</td>\n",
       "      <td>0.635423</td>\n",
       "      <td>0.792375</td>\n",
       "      <td>0.329569</td>\n",
       "      <td>0.537443</td>\n",
       "      <td>0.550747</td>\n",
       "      <td>0.396046</td>\n",
       "      <td>0.456668</td>\n",
       "    </tr>\n",
       "    <tr>\n",
       "      <th>4</th>\n",
       "      <td>cg00000236</td>\n",
       "      <td>0.834600</td>\n",
       "      <td>0.894552</td>\n",
       "      <td>0.805181</td>\n",
       "      <td>0.862047</td>\n",
       "      <td>0.830529</td>\n",
       "      <td>0.807524</td>\n",
       "      <td>0.852917</td>\n",
       "      <td>0.833126</td>\n",
       "      <td>0.869469</td>\n",
       "      <td>...</td>\n",
       "      <td>0.878394</td>\n",
       "      <td>0.783567</td>\n",
       "      <td>0.854523</td>\n",
       "      <td>0.914413</td>\n",
       "      <td>0.845754</td>\n",
       "      <td>0.859671</td>\n",
       "      <td>0.858270</td>\n",
       "      <td>0.883156</td>\n",
       "      <td>0.804368</td>\n",
       "      <td>0.800849</td>\n",
       "    </tr>\n",
       "  </tbody>\n",
       "</table>\n",
       "<p>5 rows × 51 columns</p>\n",
       "</div>"
      ],
      "text/plain": [
       "           ID  GSM6499512  GSM6499513  GSM6499514  GSM6499515  GSM6499516  \\\n",
       "0  cg00000029    0.332572    0.511428    0.418744    0.293688    0.246596   \n",
       "1  cg00000108    0.903620    0.942419    0.907896    0.940411    0.945472   \n",
       "2  cg00000109    0.842498    0.782451    0.863456    0.829853    0.803795   \n",
       "3  cg00000165    0.493801    0.208688    0.297658    0.380990    0.662907   \n",
       "4  cg00000236    0.834600    0.894552    0.805181    0.862047    0.830529   \n",
       "\n",
       "   GSM6499517  GSM6499518  GSM6499519  GSM6499520  ...  GSM6552206  \\\n",
       "0    0.303733    0.337906    0.263289    0.234159  ...    0.391020   \n",
       "1    0.922329    0.939412    0.801059    0.926147  ...    0.929448   \n",
       "2    0.841160    0.872059    0.823878    0.897155  ...    0.845600   \n",
       "3    0.413185    0.477908    0.624963    0.604757  ...    0.629443   \n",
       "4    0.807524    0.852917    0.833126    0.869469  ...    0.878394   \n",
       "\n",
       "   GSM6552207  GSM6552208  GSM6552209  GSM6552210  GSM6552211  GSM6552212  \\\n",
       "0    0.273057    0.250134    0.186785    0.534048    0.291826    0.393869   \n",
       "1    0.899164    0.850762    0.970414    0.872145    0.907492    0.949298   \n",
       "2    0.836350    0.867638    0.874303    0.908187    0.860378    0.883108   \n",
       "3    0.189181    0.361495    0.635423    0.792375    0.329569    0.537443   \n",
       "4    0.783567    0.854523    0.914413    0.845754    0.859671    0.858270   \n",
       "\n",
       "   GSM6552213  GSM6552214  GSM6552215  \n",
       "0    0.171678    0.401537    0.309824  \n",
       "1    0.933325    0.918855    0.930271  \n",
       "2    0.720102    0.802628    0.805208  \n",
       "3    0.550747    0.396046    0.456668  \n",
       "4    0.883156    0.804368    0.800849  \n",
       "\n",
       "[5 rows x 51 columns]"
      ]
     },
     "execution_count": 52,
     "metadata": {},
     "output_type": "execute_result"
    }
   ],
   "source": [
    "genetic_data = get_genetic_data(matrix_file)\n",
    "genetic_data.head()"
   ]
  },
  {
   "cell_type": "code",
   "execution_count": 53,
   "metadata": {
    "ExecuteTime": {
     "end_time": "2023-12-31T21:19:35.590443507Z",
     "start_time": "2023-12-31T21:19:35.536713559Z"
    }
   },
   "outputs": [
    {
     "data": {
      "text/plain": [
       "['cg00000029',\n",
       " 'cg00000108',\n",
       " 'cg00000109',\n",
       " 'cg00000165',\n",
       " 'cg00000236',\n",
       " 'cg00000289',\n",
       " 'cg00000292',\n",
       " 'cg00000321',\n",
       " 'cg00000363',\n",
       " 'cg00000622',\n",
       " 'cg00000658',\n",
       " 'cg00000714',\n",
       " 'cg00000721',\n",
       " 'cg00000734',\n",
       " 'cg00000769',\n",
       " 'cg00000807',\n",
       " 'cg00000884',\n",
       " 'cg00000905',\n",
       " 'cg00000924',\n",
       " 'cg00000948']"
      ]
     },
     "execution_count": 53,
     "metadata": {},
     "output_type": "execute_result"
    }
   ],
   "source": [
    "gene_row_ids = genetic_data['ID'][:20].tolist()\n",
    "gene_row_ids"
   ]
  },
  {
   "cell_type": "markdown",
   "metadata": {
    "ExecuteTime": {
     "end_time": "2023-12-31T03:30:41.595335164Z",
     "start_time": "2023-12-31T03:30:41.513232329Z"
    }
   },
   "source": [
    "Check if the gene dataset requires mapping to get the gene symbols corresponding to each data row."
   ]
  },
  {
   "cell_type": "markdown",
   "metadata": {},
   "source": [
    "Reference prompt:"
   ]
  },
  {
   "cell_type": "code",
   "execution_count": 54,
   "metadata": {
    "ExecuteTime": {
     "end_time": "2023-12-31T21:19:35.590590427Z",
     "start_time": "2023-12-31T21:19:35.536780517Z"
    },
    "scrolled": true
   },
   "outputs": [
    {
     "data": {
      "text/plain": [
       "\"\\nBelow are the row headers of a gene expression dataset in GEO. Based on your biomedical knowledge, are they human gene symbols, or are they some other identifiers that need to be mapped to gene symbols? Your answer should be concluded by starting a new line and strictly following this format:\\nrequires_gene_mapping = (True or False)\\n\\nRow headers:\\n['cg00000029', 'cg00000108', 'cg00000109', 'cg00000165', 'cg00000236', 'cg00000289', 'cg00000292', 'cg00000321', 'cg00000363', 'cg00000622', 'cg00000658', 'cg00000714', 'cg00000721', 'cg00000734', 'cg00000769', 'cg00000807', 'cg00000884', 'cg00000905', 'cg00000924', 'cg00000948']\\n\""
      ]
     },
     "execution_count": 54,
     "metadata": {},
     "output_type": "execute_result"
    }
   ],
   "source": [
    "f'''\n",
    "Below are the row headers of a gene expression dataset in GEO. Based on your biomedical knowledge, are they human gene symbols, or are they some other identifiers that need to be mapped to gene symbols? Your answer should be concluded by starting a new line and strictly following this format:\n",
    "requires_gene_mapping = (True or False)\n",
    "\n",
    "Row headers:\n",
    "{gene_row_ids}\n",
    "'''"
   ]
  },
  {
   "cell_type": "markdown",
   "metadata": {},
   "source": [
    "If not required, jump directly to the gene normalization step"
   ]
  },
  {
   "cell_type": "code",
   "execution_count": 55,
   "metadata": {
    "ExecuteTime": {
     "end_time": "2023-12-31T21:19:35.590648558Z",
     "start_time": "2023-12-31T21:19:35.536821375Z"
    }
   },
   "outputs": [],
   "source": [
    "requires_gene_mapping = True"
   ]
  },
  {
   "cell_type": "code",
   "execution_count": null,
   "metadata": {
    "ExecuteTime": {
     "end_time": "2023-12-31T21:19:35.590695457Z",
     "start_time": "2023-12-31T21:19:35.536910836Z"
    }
   },
   "outputs": [],
   "source": [
    "if requires_gene_mapping:\n",
    "    gene_annotation = get_gene_annotation(soft_file)[0]\n",
    "    gene_annotation_summary = preview_df(gene_annotation)\n",
    "gene_annotation_summary"
   ]
  },
  {
   "cell_type": "markdown",
   "metadata": {
    "ExecuteTime": {
     "end_time": "2023-12-31T03:58:04.978931927Z",
     "start_time": "2023-12-31T03:58:04.966328339Z"
    }
   },
   "source": [
    "Observe the first few cells in the ID column of the gene annotation dataframe, to find the names of columns that store the gene probe IDs and gene symbols respectively.\n",
    "Reference prompt:"
   ]
  },
  {
   "cell_type": "code",
   "execution_count": null,
   "metadata": {
    "ExecuteTime": {
     "end_time": "2023-12-31T21:19:35.590742236Z",
     "start_time": "2023-12-31T21:19:35.537050893Z"
    }
   },
   "outputs": [],
   "source": [
    "# if requires_gene_mapping:\n",
    "f'''\n",
    "As a biomedical research team, we extracted the gene annotation data from a series in the GEO database, and saved it to a Python dictionary. Please read the dictionary, and decide which key stores the ID of the probe, and which key stores the gene symbols. Please strict follow this format in your answer:\n",
    "probe_id_key = key_name1\n",
    "gene_symb_key = key_name2\n",
    "\n",
    "Gene annotation dictionary:\n",
    "{gene_annotation_summary}\n",
    "'''"
   ]
  },
  {
   "cell_type": "code",
   "execution_count": 31,
   "metadata": {
    "ExecuteTime": {
     "end_time": "2023-12-31T21:19:35.590786881Z",
     "start_time": "2023-12-31T21:19:35.537132859Z"
    }
   },
   "outputs": [],
   "source": [
    "if requires_gene_mapping:\n",
    "    probe_id_key = 'ID'\n",
    "    gene_symb_key = 'Symbol'\n",
    "    gene_mapping = get_gene_mapping(gene_annotation, probe_id_key, gene_symb_key)\n",
    "    genetic_data = apply_gene_mapping(genetic_data, gene_mapping)"
   ]
  },
  {
   "cell_type": "code",
   "execution_count": 32,
   "metadata": {
    "ExecuteTime": {
     "end_time": "2023-12-31T21:19:35.590837318Z",
     "start_time": "2023-12-31T21:19:35.537209586Z"
    }
   },
   "outputs": [],
   "source": [
    "if NORMALIZE_GENE:\n",
    "    genetic_data = normalize_gene_symbols_in_index(genetic_data)"
   ]
  },
  {
   "cell_type": "code",
   "execution_count": 33,
   "metadata": {
    "ExecuteTime": {
     "end_time": "2023-12-31T21:19:35.590902191Z",
     "start_time": "2023-12-31T21:19:35.537285901Z"
    }
   },
   "outputs": [],
   "source": [
    "merged_data = geo_merge_clinical_genetic_data(selected_clinical_data, genetic_data)\n",
    "# The preprocessing runs through, which means is_available should be True\n",
    "is_available = True"
   ]
  },
  {
   "cell_type": "code",
   "execution_count": 34,
   "metadata": {
    "ExecuteTime": {
     "end_time": "2023-12-31T21:19:35.591095170Z",
     "start_time": "2023-12-31T21:19:35.538708445Z"
    }
   },
   "outputs": [
    {
     "name": "stdout",
     "output_type": "stream",
     "text": [
      "The merged dataset contains 50 samples.\n"
     ]
    }
   ],
   "source": [
    "print(f\"The merged dataset contains {len(merged_data)} samples.\")"
   ]
  },
  {
   "cell_type": "code",
   "execution_count": 35,
   "metadata": {
    "ExecuteTime": {
     "end_time": "2023-12-31T21:19:35.610849182Z",
     "start_time": "2023-12-31T21:19:35.541210258Z"
    }
   },
   "outputs": [
    {
     "name": "stdout",
     "output_type": "stream",
     "text": [
      "For the feature 'Stomach Cancer', the least common label is '1.0' with 50 occurrences. This represents 100.00% of the dataset.\n",
      "The distribution of the feature 'Stomach Cancer' in this dataset is severely biased.\n",
      "\n"
     ]
    },
    {
     "data": {
      "text/plain": [
       "True"
      ]
     },
     "execution_count": 35,
     "metadata": {},
     "output_type": "execute_result"
    }
   ],
   "source": [
    "is_trait_biased, merged_data = judge_and_remove_biased_features(merged_data, TRAIT, trait_type=trait_type)\n",
    "is_trait_biased"
   ]
  },
  {
   "cell_type": "code",
   "execution_count": 36,
   "metadata": {
    "ExecuteTime": {
     "end_time": "2023-12-31T21:19:35.610923234Z",
     "start_time": "2023-12-31T21:19:35.584848473Z"
    }
   },
   "outputs": [],
   "source": [
    "save_cohort_info(cohort, JSON_PATH, is_available, is_trait_biased, merged_data)"
   ]
  },
  {
   "cell_type": "code",
   "execution_count": 37,
   "metadata": {
    "ExecuteTime": {
     "end_time": "2023-12-31T21:19:35.610970734Z",
     "start_time": "2023-12-31T21:19:35.585042694Z"
    }
   },
   "outputs": [],
   "source": [
    "merged_data.head()\n",
    "if not is_trait_biased:\n",
    "    merged_data.to_csv(os.path.join(OUTPUT_DIR, cohort+'.csv'), index=False)"
   ]
  },
  {
   "cell_type": "markdown",
   "metadata": {
    "ExecuteTime": {
     "end_time": "2023-12-31T03:58:22.271683755Z",
     "start_time": "2023-12-31T03:58:22.246557674Z"
    },
    "id": "-MTPhRGxJV7I"
   },
   "source": [
    "### 3. Do regression & Cross Validation"
   ]
  },
  {
   "cell_type": "code",
   "execution_count": 4,
   "metadata": {
    "ExecuteTime": {
     "end_time": "2023-12-31T21:19:44.459442087Z",
     "start_time": "2023-12-31T21:19:44.416219648Z"
    }
   },
   "outputs": [
    {
     "data": {
      "text/html": [
       "<div>\n",
       "<style scoped>\n",
       "    .dataframe tbody tr th:only-of-type {\n",
       "        vertical-align: middle;\n",
       "    }\n",
       "\n",
       "    .dataframe tbody tr th {\n",
       "        vertical-align: top;\n",
       "    }\n",
       "\n",
       "    .dataframe thead th {\n",
       "        text-align: right;\n",
       "    }\n",
       "</style>\n",
       "<table border=\"1\" class=\"dataframe\">\n",
       "  <thead>\n",
       "    <tr style=\"text-align: right;\">\n",
       "      <th></th>\n",
       "      <th>cohort_id</th>\n",
       "      <th>is_usable</th>\n",
       "      <th>is_available</th>\n",
       "      <th>is_biased</th>\n",
       "      <th>has_age</th>\n",
       "      <th>has_gender</th>\n",
       "      <th>sample_size</th>\n",
       "      <th>note</th>\n",
       "    </tr>\n",
       "  </thead>\n",
       "  <tbody>\n",
       "    <tr>\n",
       "      <th>0</th>\n",
       "      <td>Xena</td>\n",
       "      <td>True</td>\n",
       "      <td>True</td>\n",
       "      <td>False</td>\n",
       "      <td>True</td>\n",
       "      <td>True</td>\n",
       "      <td>445.0</td>\n",
       "      <td></td>\n",
       "    </tr>\n",
       "  </tbody>\n",
       "</table>\n",
       "</div>"
      ],
      "text/plain": [
       "  cohort_id  is_usable  is_available is_biased has_age has_gender  \\\n",
       "0      Xena       True          True     False    True       True   \n",
       "\n",
       "   sample_size note  \n",
       "0        445.0       "
      ]
     },
     "execution_count": 4,
     "metadata": {},
     "output_type": "execute_result"
    }
   ],
   "source": [
    "# Check the information of usable cohorts\n",
    "best_cohort, ranked_df = filter_and_rank_cohorts(JSON_PATH)\n",
    "ranked_df"
   ]
  },
  {
   "cell_type": "code",
   "execution_count": 5,
   "metadata": {
    "ExecuteTime": {
     "end_time": "2023-12-31T21:19:44.808945960Z",
     "start_time": "2023-12-31T21:19:44.799467072Z"
    }
   },
   "outputs": [
    {
     "data": {
      "text/plain": [
       "'Xena'"
      ]
     },
     "execution_count": 5,
     "metadata": {},
     "output_type": "execute_result"
    }
   ],
   "source": [
    "# If both age and gender have available cohorts, select 'age' as the condition.\n",
    "condition = 'Age'\n",
    "filter_column = 'has_' + condition.lower()\n",
    "\n",
    "condition_best_cohort, condition_ranked_df = filter_and_rank_cohorts(JSON_PATH, filter_column)\n",
    "condition_best_cohort"
   ]
  },
  {
   "cell_type": "code",
   "execution_count": 6,
   "metadata": {
    "ExecuteTime": {
     "end_time": "2023-12-31T21:19:52.222719978Z",
     "start_time": "2023-12-31T21:19:45.162873006Z"
    }
   },
   "outputs": [
    {
     "data": {
      "text/html": [
       "<div>\n",
       "<style scoped>\n",
       "    .dataframe tbody tr th:only-of-type {\n",
       "        vertical-align: middle;\n",
       "    }\n",
       "\n",
       "    .dataframe tbody tr th {\n",
       "        vertical-align: top;\n",
       "    }\n",
       "\n",
       "    .dataframe thead th {\n",
       "        text-align: right;\n",
       "    }\n",
       "</style>\n",
       "<table border=\"1\" class=\"dataframe\">\n",
       "  <thead>\n",
       "    <tr style=\"text-align: right;\">\n",
       "      <th></th>\n",
       "      <th>cohort_id</th>\n",
       "      <th>is_usable</th>\n",
       "      <th>is_available</th>\n",
       "      <th>is_biased</th>\n",
       "      <th>has_age</th>\n",
       "      <th>has_gender</th>\n",
       "      <th>sample_size</th>\n",
       "      <th>note</th>\n",
       "    </tr>\n",
       "  </thead>\n",
       "  <tbody>\n",
       "    <tr>\n",
       "      <th>0</th>\n",
       "      <td>Xena</td>\n",
       "      <td>True</td>\n",
       "      <td>True</td>\n",
       "      <td>False</td>\n",
       "      <td>True</td>\n",
       "      <td>True</td>\n",
       "      <td>445.0</td>\n",
       "      <td></td>\n",
       "    </tr>\n",
       "  </tbody>\n",
       "</table>\n",
       "</div>"
      ],
      "text/plain": [
       "  cohort_id  is_usable  is_available is_biased has_age has_gender  \\\n",
       "0      Xena       True          True     False    True       True   \n",
       "\n",
       "   sample_size note  \n",
       "0        445.0       "
      ]
     },
     "execution_count": 6,
     "metadata": {},
     "output_type": "execute_result"
    }
   ],
   "source": [
    "condition_ranked_df.head()"
   ]
  },
  {
   "cell_type": "code",
   "execution_count": 7,
   "metadata": {
    "ExecuteTime": {
     "end_time": "2023-12-31T21:19:52.234945878Z",
     "start_time": "2023-12-31T21:19:52.231604618Z"
    }
   },
   "outputs": [
    {
     "data": {
      "text/html": [
       "<div>\n",
       "<style scoped>\n",
       "    .dataframe tbody tr th:only-of-type {\n",
       "        vertical-align: middle;\n",
       "    }\n",
       "\n",
       "    .dataframe tbody tr th {\n",
       "        vertical-align: top;\n",
       "    }\n",
       "\n",
       "    .dataframe thead th {\n",
       "        text-align: right;\n",
       "    }\n",
       "</style>\n",
       "<table border=\"1\" class=\"dataframe\">\n",
       "  <thead>\n",
       "    <tr style=\"text-align: right;\">\n",
       "      <th></th>\n",
       "      <th>Stomach Cancer</th>\n",
       "      <th>Age</th>\n",
       "      <th>Gender</th>\n",
       "      <th>ARHGEF10L</th>\n",
       "      <th>HIF3A</th>\n",
       "      <th>RNF17</th>\n",
       "      <th>RNF10</th>\n",
       "      <th>RNF11</th>\n",
       "      <th>RNF13</th>\n",
       "      <th>GTF2IP1</th>\n",
       "      <th>...</th>\n",
       "      <th>SLC7A10</th>\n",
       "      <th>PLA2G2C</th>\n",
       "      <th>TULP2</th>\n",
       "      <th>NPY5R</th>\n",
       "      <th>GNGT2</th>\n",
       "      <th>GNGT1</th>\n",
       "      <th>TULP3</th>\n",
       "      <th>BCL6B</th>\n",
       "      <th>GSTK1</th>\n",
       "      <th>SELP</th>\n",
       "    </tr>\n",
       "  </thead>\n",
       "  <tbody>\n",
       "    <tr>\n",
       "      <th>0</th>\n",
       "      <td>1</td>\n",
       "      <td>70.0</td>\n",
       "      <td>1.0</td>\n",
       "      <td>2.168708</td>\n",
       "      <td>-0.956226</td>\n",
       "      <td>-0.531035</td>\n",
       "      <td>0.135928</td>\n",
       "      <td>0.349322</td>\n",
       "      <td>0.14139</td>\n",
       "      <td>-0.419494</td>\n",
       "      <td>...</td>\n",
       "      <td>-1.531086</td>\n",
       "      <td>-0.086682</td>\n",
       "      <td>0.213122</td>\n",
       "      <td>-1.587117</td>\n",
       "      <td>-0.417833</td>\n",
       "      <td>1.55901</td>\n",
       "      <td>-1.051477</td>\n",
       "      <td>-0.131827</td>\n",
       "      <td>0.312605</td>\n",
       "      <td>-2.890033</td>\n",
       "    </tr>\n",
       "    <tr>\n",
       "      <th>1</th>\n",
       "      <td>1</td>\n",
       "      <td>51.0</td>\n",
       "      <td>1.0</td>\n",
       "      <td>1.309708</td>\n",
       "      <td>1.160674</td>\n",
       "      <td>-0.037135</td>\n",
       "      <td>0.210328</td>\n",
       "      <td>0.313322</td>\n",
       "      <td>-0.28301</td>\n",
       "      <td>-0.415794</td>\n",
       "      <td>...</td>\n",
       "      <td>-1.592886</td>\n",
       "      <td>-0.086682</td>\n",
       "      <td>-0.254978</td>\n",
       "      <td>0.973083</td>\n",
       "      <td>0.544567</td>\n",
       "      <td>-0.42039</td>\n",
       "      <td>-0.167577</td>\n",
       "      <td>1.148673</td>\n",
       "      <td>0.948205</td>\n",
       "      <td>4.198067</td>\n",
       "    </tr>\n",
       "    <tr>\n",
       "      <th>2</th>\n",
       "      <td>1</td>\n",
       "      <td>51.0</td>\n",
       "      <td>0.0</td>\n",
       "      <td>-0.045892</td>\n",
       "      <td>-2.968626</td>\n",
       "      <td>-0.531035</td>\n",
       "      <td>-0.206872</td>\n",
       "      <td>-0.105678</td>\n",
       "      <td>0.15469</td>\n",
       "      <td>-0.937094</td>\n",
       "      <td>...</td>\n",
       "      <td>0.165814</td>\n",
       "      <td>-0.086682</td>\n",
       "      <td>-0.748878</td>\n",
       "      <td>-1.587117</td>\n",
       "      <td>0.180067</td>\n",
       "      <td>-1.28139</td>\n",
       "      <td>-0.364377</td>\n",
       "      <td>0.564673</td>\n",
       "      <td>0.272405</td>\n",
       "      <td>1.328567</td>\n",
       "    </tr>\n",
       "    <tr>\n",
       "      <th>3</th>\n",
       "      <td>1</td>\n",
       "      <td>62.0</td>\n",
       "      <td>1.0</td>\n",
       "      <td>0.076608</td>\n",
       "      <td>5.843574</td>\n",
       "      <td>-0.531035</td>\n",
       "      <td>-0.190272</td>\n",
       "      <td>-0.647478</td>\n",
       "      <td>-0.02321</td>\n",
       "      <td>-0.576694</td>\n",
       "      <td>...</td>\n",
       "      <td>-1.364086</td>\n",
       "      <td>-0.086682</td>\n",
       "      <td>0.818922</td>\n",
       "      <td>-1.587117</td>\n",
       "      <td>1.134367</td>\n",
       "      <td>-1.28139</td>\n",
       "      <td>-0.446777</td>\n",
       "      <td>-0.050027</td>\n",
       "      <td>1.929905</td>\n",
       "      <td>-2.179533</td>\n",
       "    </tr>\n",
       "    <tr>\n",
       "      <th>4</th>\n",
       "      <td>1</td>\n",
       "      <td>52.0</td>\n",
       "      <td>1.0</td>\n",
       "      <td>0.046908</td>\n",
       "      <td>5.233774</td>\n",
       "      <td>-0.531035</td>\n",
       "      <td>-0.108772</td>\n",
       "      <td>-0.233578</td>\n",
       "      <td>0.21699</td>\n",
       "      <td>-1.040094</td>\n",
       "      <td>...</td>\n",
       "      <td>-2.090786</td>\n",
       "      <td>-0.086682</td>\n",
       "      <td>-0.748878</td>\n",
       "      <td>-1.587117</td>\n",
       "      <td>0.381167</td>\n",
       "      <td>2.98761</td>\n",
       "      <td>0.239123</td>\n",
       "      <td>1.278873</td>\n",
       "      <td>0.907905</td>\n",
       "      <td>1.724767</td>\n",
       "    </tr>\n",
       "  </tbody>\n",
       "</table>\n",
       "<p>5 rows × 17342 columns</p>\n",
       "</div>"
      ],
      "text/plain": [
       "   Stomach Cancer   Age  Gender  ARHGEF10L     HIF3A     RNF17     RNF10  \\\n",
       "0               1  70.0     1.0   2.168708 -0.956226 -0.531035  0.135928   \n",
       "1               1  51.0     1.0   1.309708  1.160674 -0.037135  0.210328   \n",
       "2               1  51.0     0.0  -0.045892 -2.968626 -0.531035 -0.206872   \n",
       "3               1  62.0     1.0   0.076608  5.843574 -0.531035 -0.190272   \n",
       "4               1  52.0     1.0   0.046908  5.233774 -0.531035 -0.108772   \n",
       "\n",
       "      RNF11    RNF13   GTF2IP1  ...   SLC7A10   PLA2G2C     TULP2     NPY5R  \\\n",
       "0  0.349322  0.14139 -0.419494  ... -1.531086 -0.086682  0.213122 -1.587117   \n",
       "1  0.313322 -0.28301 -0.415794  ... -1.592886 -0.086682 -0.254978  0.973083   \n",
       "2 -0.105678  0.15469 -0.937094  ...  0.165814 -0.086682 -0.748878 -1.587117   \n",
       "3 -0.647478 -0.02321 -0.576694  ... -1.364086 -0.086682  0.818922 -1.587117   \n",
       "4 -0.233578  0.21699 -1.040094  ... -2.090786 -0.086682 -0.748878 -1.587117   \n",
       "\n",
       "      GNGT2    GNGT1     TULP3     BCL6B     GSTK1      SELP  \n",
       "0 -0.417833  1.55901 -1.051477 -0.131827  0.312605 -2.890033  \n",
       "1  0.544567 -0.42039 -0.167577  1.148673  0.948205  4.198067  \n",
       "2  0.180067 -1.28139 -0.364377  0.564673  0.272405  1.328567  \n",
       "3  1.134367 -1.28139 -0.446777 -0.050027  1.929905 -2.179533  \n",
       "4  0.381167  2.98761  0.239123  1.278873  0.907905  1.724767  \n",
       "\n",
       "[5 rows x 17342 columns]"
      ]
     },
     "execution_count": 7,
     "metadata": {},
     "output_type": "execute_result"
    }
   ],
   "source": [
    "merged_data = pd.read_csv(os.path.join(OUTPUT_DIR, condition_best_cohort + '.csv'))\n",
    "merged_data.head()"
   ]
  },
  {
   "cell_type": "code",
   "execution_count": 8,
   "metadata": {
    "ExecuteTime": {
     "end_time": "2023-12-31T21:19:52.312540150Z",
     "start_time": "2023-12-31T21:19:52.235772334Z"
    }
   },
   "outputs": [],
   "source": [
    "# Remove the other condition to prevent interference.\n",
    "merged_data = merged_data.drop(columns=['Gender'], errors='ignore').astype('float')\n",
    "\n",
    "X = merged_data.drop(columns=[TRAIT, condition]).values\n",
    "Y = merged_data[TRAIT].values\n",
    "Z = merged_data[condition].values"
   ]
  },
  {
   "cell_type": "markdown",
   "metadata": {},
   "source": [
    "Select the appropriate regression model depending on whether the dataset shows batch effect."
   ]
  },
  {
   "cell_type": "code",
   "execution_count": 9,
   "metadata": {
    "ExecuteTime": {
     "end_time": "2023-12-31T21:20:00.930840782Z",
     "start_time": "2023-12-31T21:19:52.319092572Z"
    }
   },
   "outputs": [
    {
     "data": {
      "text/plain": [
       "True"
      ]
     },
     "execution_count": 9,
     "metadata": {},
     "output_type": "execute_result"
    }
   ],
   "source": [
    "has_batch_effect = detect_batch_effect(X)\n",
    "has_batch_effect"
   ]
  },
  {
   "cell_type": "code",
   "execution_count": 10,
   "metadata": {
    "ExecuteTime": {
     "end_time": "2023-12-31T21:20:00.931029722Z",
     "start_time": "2023-12-31T21:20:00.929710828Z"
    }
   },
   "outputs": [],
   "source": [
    "# Select appropriate models based on whether the dataset has batch effect.\n",
    "# We experiment on two models for each branch. We will decide which one to choose later.\n",
    "\n",
    "if has_batch_effect:\n",
    "    model_constructor1 = VariableSelection\n",
    "    model_params1 = {'modified': True, 'lamda': 3e-4}\n",
    "    model_constructor2 = VariableSelection\n",
    "    model_params2 = {'modified': False}\n",
    "else:\n",
    "    model_constructor1 = Lasso\n",
    "    model_params1 = {'alpha': 1.0, 'random_state': 42}\n",
    "    model_constructor2 = VariableSelection\n",
    "    model_params2 = {'modified': False}"
   ]
  },
  {
   "cell_type": "code",
   "execution_count": 11,
   "metadata": {},
   "outputs": [
    {
     "name": "stdout",
     "output_type": "stream",
     "text": [
      "alpha for Lasso: 0.0003\n",
      "alpha for Lasso: 0.0003\n",
      "alpha for Lasso: 0.0003\n",
      "alpha for Lasso: 0.0003\n",
      "alpha for Lasso: 0.0003\n",
      "The cross-validation accuracy is 46.07% ± 8.32%\n"
     ]
    }
   ],
   "source": [
    "trait_type = 'binary'  # Remember to set this properly, either 'binary' or 'continuous'\n",
    "cv_mean1, cv_std1 = cross_validation(X, Y, Z, model_constructor1, model_params1, target_type=trait_type)"
   ]
  },
  {
   "cell_type": "code",
   "execution_count": 12,
   "metadata": {
    "ExecuteTime": {
     "end_time": "2023-12-31T21:20:20.709459824Z",
     "start_time": "2023-12-31T21:20:00.931657949Z"
    }
   },
   "outputs": [
    {
     "name": "stderr",
     "output_type": "stream",
     "text": [
      "/Users/ollie/anaconda3/lib/python3.11/site-packages/sparse_lmm/helpingMethods.py:49: RuntimeWarning: invalid value encountered in divide\n",
      "  ts = beta / np.sqrt(var * sigma)\n",
      "/Users/ollie/anaconda3/lib/python3.11/site-packages/sparse_lmm/helpingMethods.py:49: RuntimeWarning: invalid value encountered in divide\n",
      "  ts = beta / np.sqrt(var * sigma)\n",
      "/Users/ollie/anaconda3/lib/python3.11/site-packages/sparse_lmm/helpingMethods.py:49: RuntimeWarning: invalid value encountered in divide\n",
      "  ts = beta / np.sqrt(var * sigma)\n",
      "/Users/ollie/anaconda3/lib/python3.11/site-packages/sparse_lmm/helpingMethods.py:49: RuntimeWarning: invalid value encountered in divide\n",
      "  ts = beta / np.sqrt(var * sigma)\n",
      "/Users/ollie/anaconda3/lib/python3.11/site-packages/sparse_lmm/helpingMethods.py:49: RuntimeWarning: invalid value encountered in divide\n",
      "  ts = beta / np.sqrt(var * sigma)\n"
     ]
    },
    {
     "name": "stdout",
     "output_type": "stream",
     "text": [
      "The cross-validation accuracy is 82.70% ± 3.38%\n"
     ]
    }
   ],
   "source": [
    "cv_mean2, cv_std2 = cross_validation(X, Y, Z, model_constructor2, model_params2, target_type=trait_type)"
   ]
  },
  {
   "cell_type": "code",
   "execution_count": 13,
   "metadata": {
    "ExecuteTime": {
     "end_time": "2023-12-31T21:20:24.980870159Z",
     "start_time": "2023-12-31T21:20:20.516710807Z"
    }
   },
   "outputs": [
    {
     "name": "stdout",
     "output_type": "stream",
     "text": [
      "alpha for Lasso: 0.0003\n"
     ]
    },
    {
     "name": "stderr",
     "output_type": "stream",
     "text": [
      "/Users/ollie/anaconda3/lib/python3.11/site-packages/sparse_lmm/helpingMethods.py:49: RuntimeWarning: invalid value encountered in divide\n",
      "  ts = beta / np.sqrt(var * sigma)\n"
     ]
    }
   ],
   "source": [
    "normalized_X, _ = normalize_data(X)\n",
    "normalized_Z, _ = normalize_data(Z)\n",
    "\n",
    "# Train regression model on the whole dataset to identify significant genes\n",
    "model1 = ResidualizationRegressor(model_constructor1, model_params1)\n",
    "model1.fit(normalized_X, Y, normalized_Z)\n",
    "\n",
    "model2 = ResidualizationRegressor(model_constructor2, model_params2)\n",
    "model2.fit(normalized_X, Y, normalized_Z)"
   ]
  },
  {
   "cell_type": "markdown",
   "metadata": {
    "ExecuteTime": {
     "end_time": "2023-10-14T04:50:59.072075075Z",
     "start_time": "2023-10-14T04:50:38.739499998Z"
    },
    "id": "EjJrxbvb4nlj"
   },
   "source": [
    "### 5. Discussion and report"
   ]
  },
  {
   "cell_type": "code",
   "execution_count": 14,
   "metadata": {
    "ExecuteTime": {
     "end_time": "2023-12-31T21:20:25.000830410Z",
     "start_time": "2023-12-31T21:20:24.982834541Z"
    }
   },
   "outputs": [
    {
     "name": "stdout",
     "output_type": "stream",
     "text": [
      "Effect of the condition on the target variable:\n",
      "Variable: Age\n",
      "Coefficient: -0.0095\n",
      "Found 45 genes with non-zero coefficients associated with the trait 'Stomach Cancer' conditional on the factor 'Age'. These genes are identified as significant based on the regression model.\n",
      " Variable  Coefficient  Absolute Coefficient\n",
      "   ARL17B    -1.301043              1.301043\n",
      "     GNMT     1.048123              1.048123\n",
      "    SCN2A     0.944232              0.944232\n",
      "    CD177     0.939321              0.939321\n",
      " DEFB108B     0.878645              0.878645\n",
      "    CDH26     0.872231              0.872231\n",
      "    SSTR4    -0.815231              0.815231\n",
      "    ASB18     0.696554              0.696554\n",
      "    SPEM1    -0.630551              0.630551\n",
      "   ZNF492     0.579907              0.579907\n",
      "    WNT16    -0.543612              0.543612\n",
      "    SATL1     0.533077              0.533077\n",
      "    SIRPD    -0.523171              0.523171\n",
      "    UBAC1     0.471536              0.471536\n",
      "    INSL6     0.447704              0.447704\n",
      "   GAGE10     0.442204              0.442204\n",
      "     MSH4    -0.400200              0.400200\n",
      " PCDHGA10     0.367063              0.367063\n",
      "    KRT39    -0.346208              0.346208\n",
      "    OR1F1    -0.340948              0.340948\n",
      " C22orf42     0.328494              0.328494\n",
      " KRTAP4-3    -0.324253              0.324253\n",
      "    XRCC4    -0.300596              0.300596\n",
      " SNORA11D    -0.298298              0.298298\n",
      "     ALX3    -0.290268              0.290268\n",
      "   RNF138    -0.282617              0.282617\n",
      "  SDR42E1    -0.272248              0.272248\n",
      "   OR52I1     0.270647              0.270647\n",
      " TBC1D3P2    -0.251699              0.251699\n",
      "   PLSCR2    -0.214193              0.214193\n",
      "KRTAP4-12    -0.128460              0.128460\n",
      "    KRT38    -0.113055              0.113055\n",
      "   HS6ST3    -0.107907              0.107907\n",
      "  SNORA11     0.090026              0.090026\n",
      "    PBOV1     0.090023              0.090023\n",
      " DEFB105A    -0.088828              0.088828\n",
      "   LYSMD4    -0.085333              0.085333\n",
      "    VN1R5     0.064619              0.064619\n",
      "    SAMD7     0.063241              0.063241\n",
      "    RCVRN    -0.061430              0.061430\n",
      "    IGFL3     0.046536              0.046536\n",
      "  SLC22A4    -0.034250              0.034250\n",
      "      EPO    -0.021908              0.021908\n",
      "  FAM86B2    -0.013598              0.013598\n",
      "    MT1DP     0.010483              0.010483\n"
     ]
    },
    {
     "name": "stderr",
     "output_type": "stream",
     "text": [
      "/Users/ollie/Documents/JupyterProjects/AI4Science_gold_standard/stage1/Jinglin/utils.py:469: SettingWithCopyWarning: \n",
      "A value is trying to be set on a copy of a slice from a DataFrame.\n",
      "Try using .loc[row_indexer,col_indexer] = value instead\n",
      "\n",
      "See the caveats in the documentation: https://pandas.pydata.org/pandas-docs/stable/user_guide/indexing.html#returning-a-view-versus-a-copy\n",
      "  gene_regression_df['Absolute Coefficient'] = gene_regression_df['Coefficient'].abs()\n"
     ]
    }
   ],
   "source": [
    "feature_cols = merged_data.columns.tolist()\n",
    "feature_cols.remove(TRAIT)\n",
    "\n",
    "threshold = 0.05\n",
    "interpret_result(model1, feature_cols, TRAIT, condition, threshold=threshold, save_output=True,\n",
    "                 output_dir=OUTPUT_DIR, model_id=1)"
   ]
  },
  {
   "cell_type": "code",
   "execution_count": 15,
   "metadata": {},
   "outputs": [
    {
     "name": "stdout",
     "output_type": "stream",
     "text": [
      "Effect of the condition on the target variable:\n",
      "Variable: Age\n",
      "Coefficient: -0.0095\n",
      "Found 52 significant genes associated with the trait 'Stomach Cancer' conditional on the factor 'Age', with corrected p-value < 0.05:\n",
      " Variable  Coefficient      p_value  corrected_p_value\n",
      "    TREM2     0.108970 4.751191e-14       8.238090e-10\n",
      "      BGN     0.126377 5.442266e-11       4.718172e-07\n",
      "  COL10A1     0.099321 8.491581e-11       4.907851e-07\n",
      "   HPCAL4    -0.060357 4.208342e-09       1.824211e-05\n",
      "    INHBA     0.092665 6.916513e-09       2.398508e-05\n",
      " ADAMTS18     0.058923 9.512741e-09       2.749023e-05\n",
      "    APOC1     0.074443 1.638887e-07       4.059524e-04\n",
      "   PKMYT1     0.102345 4.276538e-07       8.238989e-04\n",
      "      SDS     0.065192 4.082816e-07       8.238989e-04\n",
      "   OLFML1    -0.096786 5.857173e-07       1.015575e-03\n",
      "   HOXC11     0.047712 1.163186e-06       1.833499e-03\n",
      "  ONECUT2     0.052472 1.395640e-06       2.016583e-03\n",
      "     WIF1    -0.044932 1.608712e-06       2.145650e-03\n",
      "    CLDN7     0.068968 1.805602e-06       2.236238e-03\n",
      "     ESM1     0.056756 2.074246e-06       2.397690e-03\n",
      "    CLSPN     0.093917 2.960634e-06       3.028877e-03\n",
      " ADAMTSL1    -0.069110 2.969658e-06       3.028877e-03\n",
      "    SFRP4     0.070520 3.995587e-06       3.848860e-03\n",
      "    LYVE1    -0.059678 4.522426e-06       4.127071e-03\n",
      "   CTHRC1     0.078186 6.347304e-06       5.502795e-03\n",
      " MARCKSL1     0.065194 6.671208e-06       5.508194e-03\n",
      "    TROAP     0.093216 7.622272e-06       5.746199e-03\n",
      "    EPCAM     0.076911 7.311989e-06       5.746199e-03\n",
      "    IGFN1     0.041247 9.820406e-06       6.811040e-03\n",
      "     OLR1     0.052239 9.778192e-06       6.811040e-03\n",
      "     RECK    -0.099312 1.398788e-05       9.328300e-03\n",
      "  FAM167B     0.061541 1.721611e-05       1.105593e-02\n",
      "      FAP     0.075345 1.926781e-05       1.193159e-02\n",
      "    PMP22    -0.064743 2.064608e-05       1.234422e-02\n",
      "   IGFBP6    -0.057710 2.241662e-05       1.295606e-02\n",
      "   SLC3A1     0.049543 2.496963e-05       1.396608e-02\n",
      "    MKI67     0.084732 2.736868e-05       1.482955e-02\n",
      "    CCL15     0.050829 2.938624e-05       1.544025e-02\n",
      "    P4HA3     0.057247 3.263236e-05       1.664154e-02\n",
      "TNFRSF12A     0.052265 4.537606e-05       2.247930e-02\n",
      "     MSR1     0.066256 5.125477e-05       2.468629e-02\n",
      "    MYBL2     0.080109 6.113828e-05       2.865072e-02\n",
      "    APLNR     0.053181 7.475634e-05       3.282312e-02\n",
      "    FOXS1     0.056882 7.328736e-05       3.282312e-02\n",
      "   CLEC3B    -0.066635 7.572091e-05       3.282312e-02\n",
      "   HOXA13     0.045813 7.946437e-05       3.286276e-02\n",
      "  SLC18A3     0.044360 7.960297e-05       3.286276e-02\n",
      "  CREB3L1     0.052212 9.796145e-05       3.774563e-02\n",
      "  PGLYRP1    -0.031695 9.631437e-05       3.774563e-02\n",
      "    PHKG1     0.042286 9.468937e-05       3.774563e-02\n",
      "  ARHGAP8     0.054829 1.090767e-04       4.111479e-02\n",
      " MARVELD3     0.054069 1.239964e-04       4.574413e-02\n",
      "     ZEB2    -0.096732 1.385562e-04       4.710640e-02\n",
      "    MSRB3    -0.105728 1.376377e-04       4.710640e-02\n",
      "      F2R     0.057343 1.309791e-04       4.710640e-02\n",
      "   COL4A1     0.067477 1.359786e-04       4.710640e-02\n",
      "   EPS8L3     0.056845 1.471742e-04       4.907411e-02\n"
     ]
    },
    {
     "name": "stderr",
     "output_type": "stream",
     "text": [
      "/Users/ollie/Documents/JupyterProjects/AI4Science_gold_standard/stage1/Jinglin/utils.py:478: SettingWithCopyWarning: \n",
      "A value is trying to be set on a copy of a slice from a DataFrame.\n",
      "Try using .loc[row_indexer,col_indexer] = value instead\n",
      "\n",
      "See the caveats in the documentation: https://pandas.pydata.org/pandas-docs/stable/user_guide/indexing.html#returning-a-view-versus-a-copy\n",
      "  gene_regression_df.loc[:, 'corrected_p_value'] = corrected_p_values\n"
     ]
    }
   ],
   "source": [
    "interpret_result(model2, feature_cols, TRAIT, condition, threshold=threshold, save_output=True,\n",
    "                 output_dir=OUTPUT_DIR, model_id=2)"
   ]
  },
  {
   "cell_type": "code",
   "execution_count": null,
   "metadata": {},
   "outputs": [],
   "source": []
  }
 ],
 "metadata": {
  "colab": {
   "provenance": []
  },
  "kernelspec": {
   "display_name": "Python 3 (ipykernel)",
   "language": "python",
   "name": "python3"
  },
  "language_info": {
   "codemirror_mode": {
    "name": "ipython",
    "version": 3
   },
   "file_extension": ".py",
   "mimetype": "text/x-python",
   "name": "python",
   "nbconvert_exporter": "python",
   "pygments_lexer": "ipython3",
   "version": "3.11.5"
  }
 },
 "nbformat": 4,
 "nbformat_minor": 1
}
