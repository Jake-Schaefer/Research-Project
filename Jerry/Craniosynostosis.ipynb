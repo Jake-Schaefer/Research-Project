{
 "cells": [
  {
   "cell_type": "markdown",
   "metadata": {},
   "source": [
    "# Gold standard curation: Preprocessing and single-step regression"
   ]
  },
  {
   "cell_type": "markdown",
   "metadata": {},
   "source": [
    "In this stage of gold standard curation, we will do the data preprocessing, selection, and single-step regression for the 153 traits in our question set. This file shows the reference steps using the trait \"Breast Cancer\" as an example. The workflow consists of the following steps:\n",
    "\n",
    "1. Preprocess all the cohorts related to this trait. Each cohort should be converted to a tabular form and saved to a csv file, with columns being genetic factors, the trait, and age, gender if available;\n",
    "2. If there exists at least one cohort with age or gender information, conduct regression analysis with genetic features together with age or gender as the regressors.\n"
   ]
  },
  {
   "cell_type": "markdown",
   "metadata": {},
   "source": [
    "# 1. Basic setup"
   ]
  },
  {
   "cell_type": "code",
   "execution_count": 1,
   "metadata": {
    "ExecuteTime": {
     "end_time": "2023-12-31T21:19:07.313098989Z",
     "start_time": "2023-12-31T21:19:07.312718292Z"
    }
   },
   "outputs": [],
   "source": [
    "import os\n",
    "\n",
    "# Set your preferred name\n",
    "USER = \"Jinglin\"\n",
    "# Set the data and output directories\n",
    "DATA_ROOT = '../../DATA'\n",
    "OUTPUT_ROOT = '../../output1'\n",
    "TRAIT = 'Craniosynostosis'\n",
    "\n",
    "OUTPUT_DIR = os.path.join(OUTPUT_ROOT, USER, '-'.join(TRAIT.split()))\n",
    "JSON_PATH = os.path.join(OUTPUT_DIR, \"cohort_info.json\")\n",
    "if not os.path.exists(OUTPUT_DIR):\n",
    "    os.makedirs(OUTPUT_DIR, exist_ok=True)\n",
    "\n",
    "# Gene symbol normalization may take 1-2 minutes. You may set it to False for debugging.\n",
    "NORMALIZE_GENE = True"
   ]
  },
  {
   "cell_type": "code",
   "execution_count": 2,
   "metadata": {
    "ExecuteTime": {
     "end_time": "2023-12-31T21:19:07.680659936Z",
     "start_time": "2023-12-31T21:19:07.666959145Z"
    },
    "colab": {
     "base_uri": "https://localhost:8080/"
    },
    "id": "jMTdsU43vVg3",
    "outputId": "38886111-f442-44b4-8398-96bf384d7abd"
   },
   "outputs": [
    {
     "data": {
      "text/plain": [
       "\"import os\\nfrom google.colab import drive\\n\\ndrive.mount('/content/drive', force_remount=True)\\nproj_dir = '/content/drive/MyDrive/AI4Science_Public'\\nos.chdir(proj_dir)\""
      ]
     },
     "execution_count": 2,
     "metadata": {},
     "output_type": "execute_result"
    }
   ],
   "source": [
    "# This cell is only for use on Google Colab. Skip it if you run your code in other environments\n",
    "\n",
    "\"\"\"import os\n",
    "from google.colab import drive\n",
    "\n",
    "drive.mount('/content/drive', force_remount=True)\n",
    "proj_dir = '/content/drive/MyDrive/AI4Science_Public'\n",
    "os.chdir(proj_dir)\"\"\""
   ]
  },
  {
   "cell_type": "markdown",
   "metadata": {},
   "source": [
    "# 2. Data preprocessing and selection"
   ]
  },
  {
   "cell_type": "markdown",
   "metadata": {},
   "source": [
    "## 2.1. The TCGA Xena dataset"
   ]
  },
  {
   "cell_type": "markdown",
   "metadata": {},
   "source": [
    "In TCGA Xena, there is either zero or one cohort related to the trait. We search the names of subdirectories to see if any matches the trait. If a match is found, we directly obtain the file paths."
   ]
  },
  {
   "cell_type": "code",
   "execution_count": 7,
   "metadata": {},
   "outputs": [
    {
     "data": {
      "text/plain": [
       "['TCGA_Pancreatic_Cancer_(PAAD)',\n",
       " 'TCGA_Bladder_Cancer_(BLCA)',\n",
       " '.DS_Store',\n",
       " 'TCGA_Testicular_Cancer_(TGCT)',\n",
       " 'TCGA_Acute_Myeloid_Leukemia_(LAML)',\n",
       " 'TCGA_Breast_Cancer_(BRCA)',\n",
       " 'TCGA_Stomach_Cancer_(STAD)',\n",
       " 'TCGA_Thyroid_Cancer_(THCA)',\n",
       " 'TCGA_Glioblastoma_(GBM)']"
      ]
     },
     "execution_count": 7,
     "metadata": {},
     "output_type": "execute_result"
    }
   ],
   "source": [
    "import os\n",
    "from utils import *\n",
    "\n",
    "dataset = 'TCGA'\n",
    "dataset_dir = os.path.join(DATA_ROOT, dataset)\n",
    "os.listdir(dataset_dir)[:10]"
   ]
  },
  {
   "cell_type": "markdown",
   "metadata": {},
   "source": [
    "If no match is found, jump directly to GEO in Part 2.2"
   ]
  },
  {
   "cell_type": "code",
   "execution_count": 6,
   "metadata": {
    "ExecuteTime": {
     "end_time": "2023-12-31T21:19:09.918243934Z",
     "start_time": "2023-12-31T21:19:09.909021135Z"
    }
   },
   "outputs": [],
   "source": [
    "trait_subdir = \"TCGA_Thyroid_Cancer_(THCA)\"\n",
    "cohort = 'Xena'\n",
    "# All the cancer traits in Xena are binary\n",
    "trait_type = 'binary'\n",
    "# Once a relevant cohort is found in Xena, we can generally assume the gene and clinical data are available\n",
    "is_available = True\n",
    "\n",
    "clinical_data_file = os.path.join(dataset_dir, trait_subdir, 'TCGA.THCA.sampleMap_THCA_clinicalMatrix')\n",
    "genetic_data_file = os.path.join(dataset_dir, trait_subdir, 'TCGA.THCA.sampleMap_HiSeqV2_PANCAN.gz')"
   ]
  },
  {
   "cell_type": "code",
   "execution_count": 6,
   "metadata": {
    "ExecuteTime": {
     "end_time": "2023-12-31T21:19:13.613198409Z",
     "start_time": "2023-12-31T21:19:10.409688003Z"
    },
    "id": "MudwB-_iz7sc"
   },
   "outputs": [],
   "source": [
    "import pandas as pd\n",
    "\n",
    "clinical_data = pd.read_csv(clinical_data_file, sep='\\t', index_col=0)\n",
    "genetic_data = pd.read_csv(genetic_data_file, compression='gzip', sep='\\t', index_col=0)\n",
    "age_col = gender_col = None"
   ]
  },
  {
   "cell_type": "code",
   "execution_count": 7,
   "metadata": {
    "ExecuteTime": {
     "end_time": "2023-12-31T21:19:13.617006167Z",
     "start_time": "2023-12-31T21:19:13.614080653Z"
    }
   },
   "outputs": [],
   "source": [
    "_, clinical_data_cols = check_rows_and_columns(clinical_data)"
   ]
  },
  {
   "cell_type": "code",
   "execution_count": 8,
   "metadata": {
    "ExecuteTime": {
     "end_time": "2023-12-31T21:19:13.661538569Z",
     "start_time": "2023-12-31T21:19:13.615946213Z"
    }
   },
   "outputs": [
    {
     "data": {
      "text/plain": [
       "['_INTEGRATION',\n",
       " '_PATIENT',\n",
       " '_cohort',\n",
       " '_primary_disease',\n",
       " '_primary_site',\n",
       " 'additional_pharmaceutical_therapy',\n",
       " 'additional_radiation_therapy',\n",
       " 'additional_surgery_locoregional_procedure',\n",
       " 'age_at_initial_pathologic_diagnosis',\n",
       " 'bcr_followup_barcode']"
      ]
     },
     "execution_count": 8,
     "metadata": {},
     "output_type": "execute_result"
    }
   ],
   "source": [
    "clinical_data_cols[:10]"
   ]
  },
  {
   "cell_type": "markdown",
   "metadata": {
    "ExecuteTime": {
     "end_time": "2023-12-28T20:20:11.841042813Z",
     "start_time": "2023-12-28T20:20:11.834458206Z"
    }
   },
   "source": [
    "Read all the column names in the clinical dataset, to find the columns that record information about age or gender.\n",
    "Reference prompt:"
   ]
  },
  {
   "cell_type": "code",
   "execution_count": 9,
   "metadata": {
    "ExecuteTime": {
     "end_time": "2023-12-31T21:19:13.661858700Z",
     "start_time": "2023-12-31T21:19:13.656749487Z"
    }
   },
   "outputs": [
    {
     "data": {
      "text/plain": [
       "\"\\nBelow is a list of column names from a biomedical dataset. Please examine it and identify the columns that are likely to contain information about patients' age. Additionally, please do the same for columns that may hold data on patients' gender. Please provide your answer by strictly following this format, without redundant words:\\ncandidate_age_cols = [col_name1, col_name2, ...]\\ncandidate_gender_cols = [col_name1, col_name2, ...]\\nIf no columns match a criterion, please provide an empty list.\\n\\nColumn names:\\n['_INTEGRATION', '_PATIENT', '_cohort', '_primary_disease', '_primary_site', 'additional_pharmaceutical_therapy', 'additional_radiation_therapy', 'additional_surgery_locoregional_procedure', 'age_at_initial_pathologic_diagnosis', 'bcr_followup_barcode', 'bcr_patient_barcode', 'bcr_sample_barcode', 'braf_gene_genotyping_outcome_lab_results_text', 'days_to_additional_surgery_metastatic_procedure', 'days_to_birth', 'days_to_collection', 'days_to_death', 'days_to_initial_pathologic_diagnosis', 'days_to_last_followup', 'days_to_new_tumor_event_additional_surgery_procedure', 'days_to_new_tumor_event_after_initial_treatment', 'extrathyroid_carcinoma_present_extension_status', 'first_degree_relative_history_thyrd_glnd_crcnm_dgnss_rltnshp_typ', 'followup_case_report_form_submission_reason', 'form_completion_date', 'gender', 'genotype_analysis_performed_indicator', 'genotyping_results_gene_mutation_not_reported_reason', 'histologic_disease_progression_present_indicator', 'histologic_disease_progression_present_type', 'histological_type', 'histological_type_other', 'history_of_neoadjuvant_treatment', 'i_131_first_administered_dose', 'i_131_subsequent_administered_dose', 'i_131_total_administered_dose', 'i_131_total_administered_preparation_technique', 'icd_10', 'icd_o_3_histology', 'icd_o_3_site', 'informed_consent_verified', 'initial_weight', 'is_ffpe', 'lost_follow_up', 'lymph_node_examined_count', 'lymph_node_preoperative_assessment_diagnostic_imaging_type', 'lymph_node_preoperative_scan_indicator', 'metastatic_neoplasm_confirmed_diagnosis_method_name', 'metastatic_neoplasm_confirmed_diagnosis_method_text', 'metastatic_site', 'neoplasm_depth', 'new_neoplasm_confirmed_diagnosis_method_name', 'new_neoplasm_event_occurrence_anatomic_site', 'new_neoplasm_event_type', 'new_neoplasm_occurrence_anatomic_site_text', 'new_tumor_event_additional_surgery_procedure', 'new_tumor_event_after_initial_treatment', 'number_of_lymphnodes_positive_by_he', 'oct_embedded', 'other_dx', 'other_genotyping_outcome_lab_results_text', 'other_metastatic_site', 'pathologic_M', 'pathologic_N', 'pathologic_T', 'pathologic_stage', 'pathology_report_file_name', 'patient_id', 'patient_personal_medical_history_thyroid_gland_disorder_name', 'patient_personal_medical_history_thyroid_other_specify_text', 'person_lifetime_risk_radiation_exposure_indicator', 'person_neoplasm_cancer_status', 'post_surgical_procedure_assessment_thyroid_gland_carcinoma_stats', 'postoperative_rx_tx', 'primary_lymph_node_presentation_assessment', 'primary_neoplasm_focus_type', 'primary_thyroid_gland_neoplasm_location_anatomic_site', 'radiation_therapy', 'radiation_therapy_administered_dose_text', 'radiation_therapy_administered_preparation_technique_text', 'radiosensitizing_agent_administered_indicator', 'ras_family_gene_genotyping_outcome_lab_results_text', 'residual_tumor', 'ret_ptc_rearrangement_genotyping_outcome_lab_results_text', 'sample_type', 'sample_type_id', 'system_version', 'targeted_molecular_therapy', 'therapeutic_procedure_new_neoplasm_required_additional_thrpy_typ', 'thyroid_gland_carcinoma_involvement_regional_lymph_node_type', 'tissue_prospective_collection_indicator', 'tissue_retrospective_collection_indicator', 'tissue_source_site', 'tumor_tissue_site', 'vial_number', 'vital_status', 'year_of_initial_pathologic_diagnosis', '_GENOMIC_ID_TCGA_THCA_exp_HiSeqV2_percentile', '_GENOMIC_ID_TCGA_THCA_hMethyl450', '_GENOMIC_ID_TCGA_THCA_mutation_bcm_gene', '_GENOMIC_ID_TCGA_THCA_RPPA', '_GENOMIC_ID_TCGA_THCA_exp_HiSeqV2', '_GENOMIC_ID_TCGA_THCA_gistic2', '_GENOMIC_ID_TCGA_THCA_PDMRNAseqCNV', '_GENOMIC_ID_TCGA_THCA_mutation_bcgsc_gene', '_GENOMIC_ID_TCGA_THCA_mutation', '_GENOMIC_ID_TCGA_THCA_PDMRNAseq', '_GENOMIC_ID_TCGA_THCA_mutation_broad_gene', '_GENOMIC_ID_TCGA_THCA_exp_HiSeqV2_exon', '_GENOMIC_ID_TCGA_THCA_miRNA_HiSeq', '_GENOMIC_ID_TCGA_THCA_exp_HiSeqV2_PANCAN', '_GENOMIC_ID_data/public/TCGA/THCA/miRNA_HiSeq_gene', '_GENOMIC_ID_TCGA_THCA_gistic2thd']\\n\""
      ]
     },
     "execution_count": 9,
     "metadata": {},
     "output_type": "execute_result"
    }
   ],
   "source": [
    "f'''\n",
    "Below is a list of column names from a biomedical dataset. Please examine it and identify the columns that are likely to contain information about patients' age. Additionally, please do the same for columns that may hold data on patients' gender. Please provide your answer by strictly following this format, without redundant words:\n",
    "candidate_age_cols = [col_name1, col_name2, ...]\n",
    "candidate_gender_cols = [col_name1, col_name2, ...]\n",
    "If no columns match a criterion, please provide an empty list.\n",
    "\n",
    "Column names:\n",
    "{clinical_data_cols}\n",
    "'''"
   ]
  },
  {
   "cell_type": "code",
   "execution_count": 12,
   "metadata": {
    "ExecuteTime": {
     "end_time": "2023-12-31T21:19:13.661938833Z",
     "start_time": "2023-12-31T21:19:13.656901848Z"
    }
   },
   "outputs": [],
   "source": [
    "candidate_age_cols = ['age_at_initial_pathologic_diagnosis',\n",
    "                      'days_to_birth']\n",
    "candidate_gender_cols = ['gender']"
   ]
  },
  {
   "cell_type": "markdown",
   "metadata": {
    "ExecuteTime": {
     "end_time": "2023-12-31T03:57:44.207565572Z",
     "start_time": "2023-12-31T03:57:44.202177544Z"
    }
   },
   "source": [
    "Choose a single column from the candidate columns that record age and gender information respectively.\n",
    "If no column meets the requirement, keep 'age_col' or 'gender_col' to None"
   ]
  },
  {
   "cell_type": "code",
   "execution_count": 13,
   "metadata": {
    "ExecuteTime": {
     "end_time": "2023-12-31T21:19:13.662078139Z",
     "start_time": "2023-12-31T21:19:13.657006017Z"
    }
   },
   "outputs": [
    {
     "data": {
      "text/plain": [
       "{'age_at_initial_pathologic_diagnosis': [74, 65, 55, 57, 33],\n",
       " 'days_to_birth': [-27348, -24102, -20361, -21008, -12295]}"
      ]
     },
     "execution_count": 13,
     "metadata": {},
     "output_type": "execute_result"
    }
   ],
   "source": [
    "preview_df(clinical_data[candidate_age_cols])"
   ]
  },
  {
   "cell_type": "code",
   "execution_count": 16,
   "metadata": {
    "ExecuteTime": {
     "end_time": "2023-12-31T21:19:13.777159137Z",
     "start_time": "2023-12-31T21:19:13.756210135Z"
    }
   },
   "outputs": [],
   "source": [
    "age_col = 'age_at_initial_pathologic_diagnosis'"
   ]
  },
  {
   "cell_type": "code",
   "execution_count": 17,
   "metadata": {
    "ExecuteTime": {
     "end_time": "2023-12-31T21:19:14.313425023Z",
     "start_time": "2023-12-31T21:19:14.305221062Z"
    }
   },
   "outputs": [
    {
     "data": {
      "text/plain": [
       "{'gender': ['FEMALE', 'MALE', 'MALE', 'MALE', 'FEMALE']}"
      ]
     },
     "execution_count": 17,
     "metadata": {},
     "output_type": "execute_result"
    }
   ],
   "source": [
    "preview_df(clinical_data[candidate_gender_cols])"
   ]
  },
  {
   "cell_type": "code",
   "execution_count": 18,
   "metadata": {
    "ExecuteTime": {
     "end_time": "2023-12-31T21:19:14.852502962Z",
     "start_time": "2023-12-31T21:19:14.845153121Z"
    }
   },
   "outputs": [],
   "source": [
    "gender_col = 'gender'"
   ]
  },
  {
   "cell_type": "code",
   "execution_count": 19,
   "metadata": {
    "ExecuteTime": {
     "end_time": "2023-12-31T21:19:15.246065025Z",
     "start_time": "2023-12-31T21:19:15.240279162Z"
    }
   },
   "outputs": [],
   "source": [
    "selected_clinical_data = xena_select_clinical_features(clinical_data, TRAIT, age_col, gender_col)"
   ]
  },
  {
   "cell_type": "code",
   "execution_count": 20,
   "metadata": {
    "ExecuteTime": {
     "end_time": "2023-12-31T21:19:15.593478652Z",
     "start_time": "2023-12-31T21:19:15.583841656Z"
    }
   },
   "outputs": [],
   "source": [
    "if NORMALIZE_GENE:\n",
    "    genetic_data = normalize_gene_symbols_in_index(genetic_data)"
   ]
  },
  {
   "cell_type": "code",
   "execution_count": 21,
   "metadata": {
    "ExecuteTime": {
     "end_time": "2023-12-31T21:19:16.074598194Z",
     "start_time": "2023-12-31T21:19:15.973600157Z"
    }
   },
   "outputs": [
    {
     "data": {
      "text/html": [
       "<div>\n",
       "<style scoped>\n",
       "    .dataframe tbody tr th:only-of-type {\n",
       "        vertical-align: middle;\n",
       "    }\n",
       "\n",
       "    .dataframe tbody tr th {\n",
       "        vertical-align: top;\n",
       "    }\n",
       "\n",
       "    .dataframe thead th {\n",
       "        text-align: right;\n",
       "    }\n",
       "</style>\n",
       "<table border=\"1\" class=\"dataframe\">\n",
       "  <thead>\n",
       "    <tr style=\"text-align: right;\">\n",
       "      <th></th>\n",
       "      <th>Thyroid Cancer</th>\n",
       "      <th>Age</th>\n",
       "      <th>Gender</th>\n",
       "      <th>ARHGEF10L</th>\n",
       "      <th>HIF3A</th>\n",
       "      <th>RNF17</th>\n",
       "      <th>RNF10</th>\n",
       "      <th>RNF11</th>\n",
       "      <th>RNF13</th>\n",
       "      <th>GTF2IP1</th>\n",
       "      <th>...</th>\n",
       "      <th>TULP2</th>\n",
       "      <th>NPY5R</th>\n",
       "      <th>GNGT2</th>\n",
       "      <th>GNGT1</th>\n",
       "      <th>TULP3</th>\n",
       "      <th>PTRF</th>\n",
       "      <th>BCL6B</th>\n",
       "      <th>GSTK1</th>\n",
       "      <th>SELP</th>\n",
       "      <th>SELS</th>\n",
       "    </tr>\n",
       "    <tr>\n",
       "      <th>sampleID</th>\n",
       "      <th></th>\n",
       "      <th></th>\n",
       "      <th></th>\n",
       "      <th></th>\n",
       "      <th></th>\n",
       "      <th></th>\n",
       "      <th></th>\n",
       "      <th></th>\n",
       "      <th></th>\n",
       "      <th></th>\n",
       "      <th></th>\n",
       "      <th></th>\n",
       "      <th></th>\n",
       "      <th></th>\n",
       "      <th></th>\n",
       "      <th></th>\n",
       "      <th></th>\n",
       "      <th></th>\n",
       "      <th></th>\n",
       "      <th></th>\n",
       "      <th></th>\n",
       "    </tr>\n",
       "  </thead>\n",
       "  <tbody>\n",
       "    <tr>\n",
       "      <th>TCGA-4C-A93U-01</th>\n",
       "      <td>1</td>\n",
       "      <td>74</td>\n",
       "      <td>0</td>\n",
       "      <td>-0.767592</td>\n",
       "      <td>-1.742926</td>\n",
       "      <td>-0.531035</td>\n",
       "      <td>-0.067972</td>\n",
       "      <td>0.265922</td>\n",
       "      <td>-0.13531</td>\n",
       "      <td>0.440006</td>\n",
       "      <td>...</td>\n",
       "      <td>-0.748878</td>\n",
       "      <td>-1.018517</td>\n",
       "      <td>0.205567</td>\n",
       "      <td>-1.28139</td>\n",
       "      <td>0.395523</td>\n",
       "      <td>1.735414</td>\n",
       "      <td>0.945273</td>\n",
       "      <td>-0.186695</td>\n",
       "      <td>4.024767</td>\n",
       "      <td>-0.273612</td>\n",
       "    </tr>\n",
       "    <tr>\n",
       "      <th>TCGA-BJ-A0YZ-01</th>\n",
       "      <td>1</td>\n",
       "      <td>65</td>\n",
       "      <td>1</td>\n",
       "      <td>1.766308</td>\n",
       "      <td>0.273374</td>\n",
       "      <td>-0.531035</td>\n",
       "      <td>0.790028</td>\n",
       "      <td>1.209322</td>\n",
       "      <td>0.01229</td>\n",
       "      <td>0.704606</td>\n",
       "      <td>...</td>\n",
       "      <td>0.125322</td>\n",
       "      <td>1.568883</td>\n",
       "      <td>0.626367</td>\n",
       "      <td>2.38101</td>\n",
       "      <td>0.275823</td>\n",
       "      <td>1.820014</td>\n",
       "      <td>2.140073</td>\n",
       "      <td>1.380405</td>\n",
       "      <td>1.257367</td>\n",
       "      <td>-0.174312</td>\n",
       "    </tr>\n",
       "    <tr>\n",
       "      <th>TCGA-BJ-A0Z0-01</th>\n",
       "      <td>1</td>\n",
       "      <td>55</td>\n",
       "      <td>1</td>\n",
       "      <td>0.986808</td>\n",
       "      <td>-2.165726</td>\n",
       "      <td>-0.050935</td>\n",
       "      <td>0.051428</td>\n",
       "      <td>0.979522</td>\n",
       "      <td>0.48229</td>\n",
       "      <td>0.090106</td>\n",
       "      <td>...</td>\n",
       "      <td>-0.748878</td>\n",
       "      <td>-0.747417</td>\n",
       "      <td>-0.931133</td>\n",
       "      <td>-1.28139</td>\n",
       "      <td>-0.222077</td>\n",
       "      <td>0.293414</td>\n",
       "      <td>0.725173</td>\n",
       "      <td>-0.254095</td>\n",
       "      <td>0.530667</td>\n",
       "      <td>-0.430812</td>\n",
       "    </tr>\n",
       "    <tr>\n",
       "      <th>TCGA-BJ-A0Z2-01</th>\n",
       "      <td>1</td>\n",
       "      <td>57</td>\n",
       "      <td>1</td>\n",
       "      <td>0.767208</td>\n",
       "      <td>-1.623626</td>\n",
       "      <td>-0.531035</td>\n",
       "      <td>0.182228</td>\n",
       "      <td>0.541622</td>\n",
       "      <td>0.65889</td>\n",
       "      <td>0.647206</td>\n",
       "      <td>...</td>\n",
       "      <td>-0.748878</td>\n",
       "      <td>-1.587117</td>\n",
       "      <td>-1.292433</td>\n",
       "      <td>-1.28139</td>\n",
       "      <td>-0.602177</td>\n",
       "      <td>0.134114</td>\n",
       "      <td>0.894473</td>\n",
       "      <td>-0.380395</td>\n",
       "      <td>-2.502833</td>\n",
       "      <td>0.360588</td>\n",
       "    </tr>\n",
       "    <tr>\n",
       "      <th>TCGA-BJ-A0Z3-01</th>\n",
       "      <td>1</td>\n",
       "      <td>33</td>\n",
       "      <td>0</td>\n",
       "      <td>-0.287292</td>\n",
       "      <td>-1.766626</td>\n",
       "      <td>-0.531035</td>\n",
       "      <td>0.059628</td>\n",
       "      <td>0.920522</td>\n",
       "      <td>0.21849</td>\n",
       "      <td>0.336106</td>\n",
       "      <td>...</td>\n",
       "      <td>-0.413778</td>\n",
       "      <td>1.111583</td>\n",
       "      <td>1.158867</td>\n",
       "      <td>-1.28139</td>\n",
       "      <td>0.003723</td>\n",
       "      <td>1.240514</td>\n",
       "      <td>0.924373</td>\n",
       "      <td>-0.143495</td>\n",
       "      <td>2.613367</td>\n",
       "      <td>-0.030012</td>\n",
       "    </tr>\n",
       "  </tbody>\n",
       "</table>\n",
       "<p>5 rows × 20533 columns</p>\n",
       "</div>"
      ],
      "text/plain": [
       "                 Thyroid Cancer  Age  Gender  ARHGEF10L     HIF3A     RNF17  \\\n",
       "sampleID                                                                      \n",
       "TCGA-4C-A93U-01               1   74       0  -0.767592 -1.742926 -0.531035   \n",
       "TCGA-BJ-A0YZ-01               1   65       1   1.766308  0.273374 -0.531035   \n",
       "TCGA-BJ-A0Z0-01               1   55       1   0.986808 -2.165726 -0.050935   \n",
       "TCGA-BJ-A0Z2-01               1   57       1   0.767208 -1.623626 -0.531035   \n",
       "TCGA-BJ-A0Z3-01               1   33       0  -0.287292 -1.766626 -0.531035   \n",
       "\n",
       "                    RNF10     RNF11    RNF13   GTF2IP1  ...     TULP2  \\\n",
       "sampleID                                                ...             \n",
       "TCGA-4C-A93U-01 -0.067972  0.265922 -0.13531  0.440006  ... -0.748878   \n",
       "TCGA-BJ-A0YZ-01  0.790028  1.209322  0.01229  0.704606  ...  0.125322   \n",
       "TCGA-BJ-A0Z0-01  0.051428  0.979522  0.48229  0.090106  ... -0.748878   \n",
       "TCGA-BJ-A0Z2-01  0.182228  0.541622  0.65889  0.647206  ... -0.748878   \n",
       "TCGA-BJ-A0Z3-01  0.059628  0.920522  0.21849  0.336106  ... -0.413778   \n",
       "\n",
       "                    NPY5R     GNGT2    GNGT1     TULP3      PTRF     BCL6B  \\\n",
       "sampleID                                                                     \n",
       "TCGA-4C-A93U-01 -1.018517  0.205567 -1.28139  0.395523  1.735414  0.945273   \n",
       "TCGA-BJ-A0YZ-01  1.568883  0.626367  2.38101  0.275823  1.820014  2.140073   \n",
       "TCGA-BJ-A0Z0-01 -0.747417 -0.931133 -1.28139 -0.222077  0.293414  0.725173   \n",
       "TCGA-BJ-A0Z2-01 -1.587117 -1.292433 -1.28139 -0.602177  0.134114  0.894473   \n",
       "TCGA-BJ-A0Z3-01  1.111583  1.158867 -1.28139  0.003723  1.240514  0.924373   \n",
       "\n",
       "                    GSTK1      SELP      SELS  \n",
       "sampleID                                       \n",
       "TCGA-4C-A93U-01 -0.186695  4.024767 -0.273612  \n",
       "TCGA-BJ-A0YZ-01  1.380405  1.257367 -0.174312  \n",
       "TCGA-BJ-A0Z0-01 -0.254095  0.530667 -0.430812  \n",
       "TCGA-BJ-A0Z2-01 -0.380395 -2.502833  0.360588  \n",
       "TCGA-BJ-A0Z3-01 -0.143495  2.613367 -0.030012  \n",
       "\n",
       "[5 rows x 20533 columns]"
      ]
     },
     "execution_count": 21,
     "metadata": {},
     "output_type": "execute_result"
    }
   ],
   "source": [
    "merged_data = selected_clinical_data.join(genetic_data.T).dropna()\n",
    "merged_data.head()"
   ]
  },
  {
   "cell_type": "code",
   "execution_count": 22,
   "metadata": {
    "ExecuteTime": {
     "end_time": "2023-12-31T21:19:16.341121723Z",
     "start_time": "2023-12-31T21:19:16.330544222Z"
    }
   },
   "outputs": [
    {
     "name": "stdout",
     "output_type": "stream",
     "text": [
      "The merged dataset contains 572 samples.\n"
     ]
    }
   ],
   "source": [
    "print(f\"The merged dataset contains {len(merged_data)} samples.\")"
   ]
  },
  {
   "cell_type": "code",
   "execution_count": 23,
   "metadata": {
    "ExecuteTime": {
     "end_time": "2023-12-31T21:19:17.222505900Z",
     "start_time": "2023-12-31T21:19:17.218781412Z"
    }
   },
   "outputs": [
    {
     "name": "stdout",
     "output_type": "stream",
     "text": [
      "For the feature 'Thyroid Cancer', the least common label is '0' with 59 occurrences. This represents 10.31% of the dataset.\n",
      "The distribution of the feature 'Thyroid Cancer' in this dataset is fine.\n",
      "\n",
      "Quartiles for 'Age':\n",
      "  25%: 34.0\n",
      "  50% (Median): 46.0\n",
      "  75%: 58.0\n",
      "Min: 15\n",
      "Max: 89\n",
      "The distribution of the feature 'Age' in this dataset is fine.\n",
      "\n",
      "For the feature 'Gender', the least common label is '1' with 157 occurrences. This represents 27.45% of the dataset.\n",
      "The distribution of the feature 'Gender' in this dataset is fine.\n",
      "\n"
     ]
    },
    {
     "data": {
      "text/plain": [
       "False"
      ]
     },
     "execution_count": 23,
     "metadata": {},
     "output_type": "execute_result"
    }
   ],
   "source": [
    "is_trait_biased, merge_data = judge_and_remove_biased_features(merged_data, TRAIT, trait_type=trait_type)\n",
    "is_trait_biased"
   ]
  },
  {
   "cell_type": "code",
   "execution_count": 24,
   "metadata": {
    "ExecuteTime": {
     "end_time": "2023-12-31T21:19:35.401536463Z",
     "start_time": "2023-12-31T21:19:17.980683628Z"
    }
   },
   "outputs": [],
   "source": [
    "merged_data.head()\n",
    "if not is_trait_biased:\n",
    "    merge_data.to_csv(os.path.join(OUTPUT_DIR, cohort+'.csv'), index=False)"
   ]
  },
  {
   "cell_type": "code",
   "execution_count": 25,
   "metadata": {
    "ExecuteTime": {
     "end_time": "2023-12-31T21:19:35.405288661Z",
     "start_time": "2023-12-31T21:19:35.402799553Z"
    }
   },
   "outputs": [
    {
     "name": "stdout",
     "output_type": "stream",
     "text": [
      "A new JSON file was created at: ../../output1/Jinglin/Thyroid-Cancer/cohort_info.json\n"
     ]
    }
   ],
   "source": [
    "save_cohort_info(cohort, JSON_PATH, is_available, is_trait_biased, merged_data)"
   ]
  },
  {
   "cell_type": "markdown",
   "metadata": {
    "ExecuteTime": {
     "end_time": "2023-12-28T21:28:38.028916303Z",
     "start_time": "2023-12-28T21:28:38.016245426Z"
    }
   },
   "source": [
    "## 2.2. The GEO dataset"
   ]
  },
  {
   "cell_type": "markdown",
   "metadata": {
    "ExecuteTime": {
     "end_time": "2023-12-31T03:25:23.253882615Z",
     "start_time": "2023-12-31T03:25:23.244062710Z"
    }
   },
   "source": [
    "In GEO, there may be one or multiple cohorts for a trait. Each cohort is identified by an accession number. We iterate over all accession numbers in the corresponding subdirectory, preprocess the cohort data, and save them to csv files."
   ]
  },
  {
   "cell_type": "code",
   "execution_count": 4,
   "metadata": {
    "ExecuteTime": {
     "end_time": "2023-12-31T21:19:35.411177575Z",
     "start_time": "2023-12-31T21:19:35.405710636Z"
    }
   },
   "outputs": [
    {
     "data": {
      "text/plain": [
       "['GSE27976']"
      ]
     },
     "execution_count": 4,
     "metadata": {},
     "output_type": "execute_result"
    }
   ],
   "source": [
    "dataset = 'GEO'\n",
    "trait_subdir = \"Craniosynostosis\"\n",
    "\n",
    "trait_path = os.path.join(DATA_ROOT, dataset, trait_subdir)\n",
    "os.listdir(trait_path)"
   ]
  },
  {
   "cell_type": "markdown",
   "metadata": {
    "ExecuteTime": {
     "end_time": "2023-12-31T03:39:42.634870142Z",
     "start_time": "2023-12-31T03:39:42.534093295Z"
    }
   },
   "source": [
    "Repeat the below steps for all the accession numbers"
   ]
  },
  {
   "cell_type": "code",
   "execution_count": 5,
   "metadata": {
    "ExecuteTime": {
     "end_time": "2023-12-31T21:19:35.413836016Z",
     "start_time": "2023-12-31T21:19:35.410443976Z"
    }
   },
   "outputs": [
    {
     "data": {
      "text/plain": [
       "('../../DATA/GEO/Craniosynostosis/GSE27976/GSE27976_family.soft.gz',\n",
       " '../../DATA/GEO/Craniosynostosis/GSE27976/GSE27976_series_matrix.txt.gz')"
      ]
     },
     "execution_count": 5,
     "metadata": {},
     "output_type": "execute_result"
    }
   ],
   "source": [
    "cohort = accession_num = \"GSE27976\"\n",
    "cohort_dir = os.path.join(trait_path, accession_num)\n",
    "soft_file, matrix_file = get_relevant_filepaths(cohort_dir)\n",
    "soft_file, matrix_file"
   ]
  },
  {
   "cell_type": "markdown",
   "metadata": {},
   "source": [
    "### Inital filtering and clinical data preprocessing"
   ]
  },
  {
   "cell_type": "code",
   "execution_count": 6,
   "metadata": {
    "ExecuteTime": {
     "end_time": "2023-12-31T21:19:35.492119842Z",
     "start_time": "2023-12-31T21:19:35.413383102Z"
    }
   },
   "outputs": [
    {
     "name": "stdout",
     "output_type": "stream",
     "text": [
      "!Series_title\t\"Calvarial osteoblast transcriptome analysis identifies genetic targets and extracellular matrix-mediated focal adhesion as potential biomarkers for single-suture craniosynostosis\"\n",
      "!Series_summary\t\"Craniosynostosis is a disease defined by premature fusion of one or more cranial sutures. The mechanistic pathology of isolated single-suture craniosynostosis is complex and while a number of genetic biomarkers and environmental predispositions have been identified, in many cases the causes remain controversial and inconclusive at best.  After controlling for variables contributing to potential bias, FGF7, SFRP4, and VCAM1 emerged as potential genetic biomarkers for single-suture craniosynostosis due to their significantly large changes in gene expression compared to the control population.  Furthermore, pathway analysis implicated focal adhesion and extracellular matrix (ECM)-receptor interaction as differentially regulated gene networks when comparing all cases of single-suture synostosis and controls.  Lastly, overall gene expression was found to be highly conserved between coronal and metopic cases, as evidenced by the fact that WNT2 and IGFBP2 were the only differentially regulated genes identified in a direct comparison.  These results not only confirm the roles of previously reported craniosynostosis-related targets but also introduce novel genetic biomarkers and pathways that may play critical roles in its pathogenesis.\"\n",
      "!Series_overall_design\t\"In this study, gene expression data from 199 patients with isolated sagittal (n= 100), unilateral coronal (n = 50), and metopic (n = 49) synostosis are compared against both a control population (n = 50), as well as each other.\"\n"
     ]
    }
   ],
   "source": [
    "background_prefixes = ['!Series_title', '!Series_summary', '!Series_overall_design']\n",
    "clinical_prefixes = ['!Sample_geo_accession', '!Sample_characteristics_ch1']\n",
    "\n",
    "background_info, clinical_data = get_background_and_clinical_data(matrix_file, background_prefixes, clinical_prefixes)\n",
    "print(background_info)"
   ]
  },
  {
   "cell_type": "code",
   "execution_count": 7,
   "metadata": {
    "ExecuteTime": {
     "end_time": "2023-12-31T21:19:35.507840422Z",
     "start_time": "2023-12-31T21:19:35.451789107Z"
    }
   },
   "outputs": [
    {
     "data": {
      "text/html": [
       "<div>\n",
       "<style scoped>\n",
       "    .dataframe tbody tr th:only-of-type {\n",
       "        vertical-align: middle;\n",
       "    }\n",
       "\n",
       "    .dataframe tbody tr th {\n",
       "        vertical-align: top;\n",
       "    }\n",
       "\n",
       "    .dataframe thead th {\n",
       "        text-align: right;\n",
       "    }\n",
       "</style>\n",
       "<table border=\"1\" class=\"dataframe\">\n",
       "  <thead>\n",
       "    <tr style=\"text-align: right;\">\n",
       "      <th></th>\n",
       "      <th>!Sample_geo_accession</th>\n",
       "      <th>GSM692146</th>\n",
       "      <th>GSM692147</th>\n",
       "      <th>GSM692148</th>\n",
       "      <th>GSM692149</th>\n",
       "      <th>GSM692150</th>\n",
       "      <th>GSM692151</th>\n",
       "      <th>GSM692152</th>\n",
       "      <th>GSM692153</th>\n",
       "      <th>GSM692154</th>\n",
       "      <th>...</th>\n",
       "      <th>GSM692385</th>\n",
       "      <th>GSM692386</th>\n",
       "      <th>GSM692387</th>\n",
       "      <th>GSM692388</th>\n",
       "      <th>GSM692389</th>\n",
       "      <th>GSM692390</th>\n",
       "      <th>GSM692391</th>\n",
       "      <th>GSM692392</th>\n",
       "      <th>GSM692393</th>\n",
       "      <th>GSM692394</th>\n",
       "    </tr>\n",
       "  </thead>\n",
       "  <tbody>\n",
       "    <tr>\n",
       "      <th>0</th>\n",
       "      <td>!Sample_characteristics_ch1</td>\n",
       "      <td>age months: 12.87</td>\n",
       "      <td>age months: 10.4</td>\n",
       "      <td>age months: 12.3</td>\n",
       "      <td>age months: 11.4</td>\n",
       "      <td>age months: 10.1</td>\n",
       "      <td>age months: 11</td>\n",
       "      <td>age months: 4.27</td>\n",
       "      <td>age months: 7.97</td>\n",
       "      <td>age months: 4.33</td>\n",
       "      <td>...</td>\n",
       "      <td>age months: 84</td>\n",
       "      <td>age months: 13</td>\n",
       "      <td>age months: 2</td>\n",
       "      <td>age months: 0.5</td>\n",
       "      <td>age months: 0.75</td>\n",
       "      <td>age months: 0.57</td>\n",
       "      <td>age months: 25.03</td>\n",
       "      <td>age months: 4.47</td>\n",
       "      <td>age months: 4.23</td>\n",
       "      <td>age months: 10.4</td>\n",
       "    </tr>\n",
       "    <tr>\n",
       "      <th>1</th>\n",
       "      <td>!Sample_characteristics_ch1</td>\n",
       "      <td>gender: F</td>\n",
       "      <td>gender: F</td>\n",
       "      <td>gender: M</td>\n",
       "      <td>gender: M</td>\n",
       "      <td>gender: F</td>\n",
       "      <td>gender: M</td>\n",
       "      <td>gender: M</td>\n",
       "      <td>gender: M</td>\n",
       "      <td>gender: F</td>\n",
       "      <td>...</td>\n",
       "      <td>gender: M</td>\n",
       "      <td>gender: M</td>\n",
       "      <td>gender: M</td>\n",
       "      <td>gender: M</td>\n",
       "      <td>gender: M</td>\n",
       "      <td>gender: M</td>\n",
       "      <td>gender: F</td>\n",
       "      <td>gender: M</td>\n",
       "      <td>gender: M</td>\n",
       "      <td>gender: M</td>\n",
       "    </tr>\n",
       "    <tr>\n",
       "      <th>2</th>\n",
       "      <td>!Sample_characteristics_ch1</td>\n",
       "      <td>type: Metopic Synostosis</td>\n",
       "      <td>type: Metopic Synostosis</td>\n",
       "      <td>type: Coronal Synostosis R</td>\n",
       "      <td>type: Metopic Synostosis</td>\n",
       "      <td>type: Metopic Synostosis</td>\n",
       "      <td>type: Metopic Synostosis</td>\n",
       "      <td>type: Sagittal Synostosis</td>\n",
       "      <td>type: Sagittal Synostosis</td>\n",
       "      <td>type: Sagittal Synostosis</td>\n",
       "      <td>...</td>\n",
       "      <td>type: Control</td>\n",
       "      <td>type: Control</td>\n",
       "      <td>type: Sagittal Synostosis</td>\n",
       "      <td>type: Control</td>\n",
       "      <td>type: Control</td>\n",
       "      <td>type: Control</td>\n",
       "      <td>type: Control</td>\n",
       "      <td>type: Control</td>\n",
       "      <td>type: Control</td>\n",
       "      <td>type: Control</td>\n",
       "    </tr>\n",
       "    <tr>\n",
       "      <th>3</th>\n",
       "      <td>!Sample_characteristics_ch1</td>\n",
       "      <td>cell lines: osteoblast</td>\n",
       "      <td>cell lines: osteoblast</td>\n",
       "      <td>cell lines: osteoblast</td>\n",
       "      <td>cell lines: osteoblast</td>\n",
       "      <td>cell lines: osteoblast</td>\n",
       "      <td>cell lines: osteoblast</td>\n",
       "      <td>cell lines: osteoblast</td>\n",
       "      <td>cell lines: osteoblast</td>\n",
       "      <td>cell lines: osteoblast</td>\n",
       "      <td>...</td>\n",
       "      <td>cell lines: osteoblast</td>\n",
       "      <td>cell lines: osteoblast</td>\n",
       "      <td>cell lines: osteoblast</td>\n",
       "      <td>cell lines: osteoblast</td>\n",
       "      <td>cell lines: osteoblast</td>\n",
       "      <td>cell lines: osteoblast</td>\n",
       "      <td>cell lines: osteoblast</td>\n",
       "      <td>cell lines: osteoblast</td>\n",
       "      <td>cell lines: osteoblast</td>\n",
       "      <td>cell lines: osteoblast</td>\n",
       "    </tr>\n",
       "    <tr>\n",
       "      <th>4</th>\n",
       "      <td>!Sample_characteristics_ch1</td>\n",
       "      <td>tissue: skull</td>\n",
       "      <td>tissue: skull</td>\n",
       "      <td>tissue: skull</td>\n",
       "      <td>tissue: skull</td>\n",
       "      <td>tissue: skull</td>\n",
       "      <td>tissue: skull</td>\n",
       "      <td>tissue: skull</td>\n",
       "      <td>tissue: skull</td>\n",
       "      <td>tissue: skull</td>\n",
       "      <td>...</td>\n",
       "      <td>tissue: skull</td>\n",
       "      <td>tissue: skull</td>\n",
       "      <td>tissue: skull</td>\n",
       "      <td>tissue: skull</td>\n",
       "      <td>tissue: skull</td>\n",
       "      <td>tissue: skull</td>\n",
       "      <td>tissue: skull</td>\n",
       "      <td>tissue: skull</td>\n",
       "      <td>tissue: skull</td>\n",
       "      <td>tissue: skull</td>\n",
       "    </tr>\n",
       "  </tbody>\n",
       "</table>\n",
       "<p>5 rows × 250 columns</p>\n",
       "</div>"
      ],
      "text/plain": [
       "         !Sample_geo_accession                 GSM692146  \\\n",
       "0  !Sample_characteristics_ch1         age months: 12.87   \n",
       "1  !Sample_characteristics_ch1                 gender: F   \n",
       "2  !Sample_characteristics_ch1  type: Metopic Synostosis   \n",
       "3  !Sample_characteristics_ch1    cell lines: osteoblast   \n",
       "4  !Sample_characteristics_ch1             tissue: skull   \n",
       "\n",
       "                  GSM692147                   GSM692148  \\\n",
       "0          age months: 10.4            age months: 12.3   \n",
       "1                 gender: F                   gender: M   \n",
       "2  type: Metopic Synostosis  type: Coronal Synostosis R   \n",
       "3    cell lines: osteoblast      cell lines: osteoblast   \n",
       "4             tissue: skull               tissue: skull   \n",
       "\n",
       "                  GSM692149                 GSM692150  \\\n",
       "0          age months: 11.4          age months: 10.1   \n",
       "1                 gender: M                 gender: F   \n",
       "2  type: Metopic Synostosis  type: Metopic Synostosis   \n",
       "3    cell lines: osteoblast    cell lines: osteoblast   \n",
       "4             tissue: skull             tissue: skull   \n",
       "\n",
       "                  GSM692151                  GSM692152  \\\n",
       "0            age months: 11           age months: 4.27   \n",
       "1                 gender: M                  gender: M   \n",
       "2  type: Metopic Synostosis  type: Sagittal Synostosis   \n",
       "3    cell lines: osteoblast     cell lines: osteoblast   \n",
       "4             tissue: skull              tissue: skull   \n",
       "\n",
       "                   GSM692153                  GSM692154  ...  \\\n",
       "0           age months: 7.97           age months: 4.33  ...   \n",
       "1                  gender: M                  gender: F  ...   \n",
       "2  type: Sagittal Synostosis  type: Sagittal Synostosis  ...   \n",
       "3     cell lines: osteoblast     cell lines: osteoblast  ...   \n",
       "4              tissue: skull              tissue: skull  ...   \n",
       "\n",
       "                GSM692385               GSM692386                  GSM692387  \\\n",
       "0          age months: 84          age months: 13              age months: 2   \n",
       "1               gender: M               gender: M                  gender: M   \n",
       "2           type: Control           type: Control  type: Sagittal Synostosis   \n",
       "3  cell lines: osteoblast  cell lines: osteoblast     cell lines: osteoblast   \n",
       "4           tissue: skull           tissue: skull              tissue: skull   \n",
       "\n",
       "                GSM692388               GSM692389               GSM692390  \\\n",
       "0         age months: 0.5        age months: 0.75        age months: 0.57   \n",
       "1               gender: M               gender: M               gender: M   \n",
       "2           type: Control           type: Control           type: Control   \n",
       "3  cell lines: osteoblast  cell lines: osteoblast  cell lines: osteoblast   \n",
       "4           tissue: skull           tissue: skull           tissue: skull   \n",
       "\n",
       "                GSM692391               GSM692392               GSM692393  \\\n",
       "0       age months: 25.03        age months: 4.47        age months: 4.23   \n",
       "1               gender: F               gender: M               gender: M   \n",
       "2           type: Control           type: Control           type: Control   \n",
       "3  cell lines: osteoblast  cell lines: osteoblast  cell lines: osteoblast   \n",
       "4           tissue: skull           tissue: skull           tissue: skull   \n",
       "\n",
       "                GSM692394  \n",
       "0        age months: 10.4  \n",
       "1               gender: M  \n",
       "2           type: Control  \n",
       "3  cell lines: osteoblast  \n",
       "4           tissue: skull  \n",
       "\n",
       "[5 rows x 250 columns]"
      ]
     },
     "execution_count": 7,
     "metadata": {},
     "output_type": "execute_result"
    }
   ],
   "source": [
    "clinical_data.head()"
   ]
  },
  {
   "cell_type": "code",
   "execution_count": 8,
   "metadata": {
    "ExecuteTime": {
     "end_time": "2023-12-31T21:19:35.508015426Z",
     "start_time": "2023-12-31T21:19:35.492746637Z"
    }
   },
   "outputs": [
    {
     "data": {
      "text/plain": [
       "{0: ['age months: 12.87',\n",
       "  'age months: 10.4',\n",
       "  'age months: 12.3',\n",
       "  'age months: 11.4',\n",
       "  'age months: 10.1',\n",
       "  'age months: 11',\n",
       "  'age months: 4.27',\n",
       "  'age months: 7.97',\n",
       "  'age months: 4.33',\n",
       "  'age months: 9.33',\n",
       "  'age months: 7.93',\n",
       "  'age months: 10.27',\n",
       "  'age months: 10.87',\n",
       "  'age months: 3.87',\n",
       "  'age months: 3.2',\n",
       "  'age months: 13.27',\n",
       "  'age months: 5.6',\n",
       "  'age months: 14.9',\n",
       "  'age months: 3.03',\n",
       "  'age months: 12.4',\n",
       "  'age months: 8.9',\n",
       "  'age months: 14.17',\n",
       "  'age months: 6.33',\n",
       "  'age months: 14.87',\n",
       "  'age months: 8.4',\n",
       "  'age months: 9.07',\n",
       "  'age months: 13.33',\n",
       "  'age months: 10',\n",
       "  'age months: 13.23',\n",
       "  'age months: 10.33'],\n",
       " 1: ['gender: F', 'gender: M'],\n",
       " 2: ['type: Metopic Synostosis',\n",
       "  'type: Coronal Synostosis R',\n",
       "  'type: Sagittal Synostosis',\n",
       "  'type: Coronal Synostosis L',\n",
       "  'type: Control'],\n",
       " 3: ['cell lines: osteoblast'],\n",
       " 4: ['tissue: skull']}"
      ]
     },
     "execution_count": 8,
     "metadata": {},
     "output_type": "execute_result"
    }
   ],
   "source": [
    "clinical_data_unique = get_unique_values_by_row(clinical_data)\n",
    "clinical_data_unique"
   ]
  },
  {
   "cell_type": "markdown",
   "metadata": {
    "ExecuteTime": {
     "end_time": "2023-12-31T03:58:04.978204446Z",
     "start_time": "2023-12-31T03:58:04.922270095Z"
    }
   },
   "source": [
    "Analyze the metadata to determine data relevance and find ways to extract the clinical data.\n",
    "Reference prompt:"
   ]
  },
  {
   "cell_type": "code",
   "execution_count": 9,
   "metadata": {
    "ExecuteTime": {
     "end_time": "2023-12-31T21:19:35.508232400Z",
     "start_time": "2023-12-31T21:19:35.492903487Z"
    }
   },
   "outputs": [
    {
     "data": {
      "text/plain": [
       "'As a biomedical research team, we are selecting datasets to study the association between the human trait \\'Craniosynostosis\\' and genetic factors, optionally considering the influence of age and gender. After searching the GEO database and parsing the matrix file of a series, we obtained background information and sample characteristics data. We will provide textual information about the dataset background, and a Python dictionary storing a list of unique values for each field of the sample characteristics data. Please carefully review the provided information and answer the following questions about this dataset:\\n1. Does this dataset contain gene expression data? (Note: Pure miRNA data is not suitable.)\\n2. For each of the traits \\'Craniosynostosis\\', \\'age\\', and \\'gender\\', please address these points:\\n   (1) Is there human data available for this trait?\\n   (2) If so, identify the key in the sample characteristics dictionary where unique values of this trait is recorded. The key is an integer. The trait information might be explicitly recorded, or can be inferred from the field with some biomedical knowledge or understanding about the data collection process.\\n   (3) Choose an appropriate data type (either \\'continuous\\' or \\'binary\\') for each trait. Write a Python function to convert any given value of the trait to this data type. The function should handle inference about the trait value and convert unknown values to None.\\n   Name the functions \\'convert_trait\\', \\'convert_age\\', and \\'convert_gender\\', respectively.\\n   NOTE: Function \"convert_trait\" should return 1 or 0.\\n   \\nBackground information about the dataset:\\n!Series_title\\t\"Calvarial osteoblast transcriptome analysis identifies genetic targets and extracellular matrix-mediated focal adhesion as potential biomarkers for single-suture craniosynostosis\"\\n!Series_summary\\t\"Craniosynostosis is a disease defined by premature fusion of one or more cranial sutures. The mechanistic pathology of isolated single-suture craniosynostosis is complex and while a number of genetic biomarkers and environmental predispositions have been identified, in many cases the causes remain controversial and inconclusive at best.  After controlling for variables contributing to potential bias, FGF7, SFRP4, and VCAM1 emerged as potential genetic biomarkers for single-suture craniosynostosis due to their significantly large changes in gene expression compared to the control population.  Furthermore, pathway analysis implicated focal adhesion and extracellular matrix (ECM)-receptor interaction as differentially regulated gene networks when comparing all cases of single-suture synostosis and controls.  Lastly, overall gene expression was found to be highly conserved between coronal and metopic cases, as evidenced by the fact that WNT2 and IGFBP2 were the only differentially regulated genes identified in a direct comparison.  These results not only confirm the roles of previously reported craniosynostosis-related targets but also introduce novel genetic biomarkers and pathways that may play critical roles in its pathogenesis.\"\\n!Series_overall_design\\t\"In this study, gene expression data from 199 patients with isolated sagittal (n= 100), unilateral coronal (n = 50), and metopic (n = 49) synostosis are compared against both a control population (n = 50), as well as each other.\"\\n\\nSample characteristics dictionary (from \"!Sample_characteristics_ch1\", converted to a Python dictionary that stores the unique values for each field):\\n{0: [\\'age months: 12.87\\', \\'age months: 10.4\\', \\'age months: 12.3\\', \\'age months: 11.4\\', \\'age months: 10.1\\', \\'age months: 11\\', \\'age months: 4.27\\', \\'age months: 7.97\\', \\'age months: 4.33\\', \\'age months: 9.33\\', \\'age months: 7.93\\', \\'age months: 10.27\\', \\'age months: 10.87\\', \\'age months: 3.87\\', \\'age months: 3.2\\', \\'age months: 13.27\\', \\'age months: 5.6\\', \\'age months: 14.9\\', \\'age months: 3.03\\', \\'age months: 12.4\\', \\'age months: 8.9\\', \\'age months: 14.17\\', \\'age months: 6.33\\', \\'age months: 14.87\\', \\'age months: 8.4\\', \\'age months: 9.07\\', \\'age months: 13.33\\', \\'age months: 10\\', \\'age months: 13.23\\', \\'age months: 10.33\\'], 1: [\\'gender: F\\', \\'gender: M\\'], 2: [\\'type: Metopic Synostosis\\', \\'type: Coronal Synostosis R\\', \\'type: Sagittal Synostosis\\', \\'type: Coronal Synostosis L\\', \\'type: Control\\'], 3: [\\'cell lines: osteoblast\\'], 4: [\\'tissue: skull\\']}\\n'"
      ]
     },
     "execution_count": 9,
     "metadata": {},
     "output_type": "execute_result"
    }
   ],
   "source": [
    "f'''As a biomedical research team, we are selecting datasets to study the association between the human trait \\'{TRAIT}\\' and genetic factors, optionally considering the influence of age and gender. After searching the GEO database and parsing the matrix file of a series, we obtained background information and sample characteristics data. We will provide textual information about the dataset background, and a Python dictionary storing a list of unique values for each field of the sample characteristics data. Please carefully review the provided information and answer the following questions about this dataset:\n",
    "1. Does this dataset contain gene expression data? (Note: Pure miRNA data is not suitable.)\n",
    "2. For each of the traits \\'{TRAIT}\\', 'age', and 'gender', please address these points:\n",
    "   (1) Is there human data available for this trait?\n",
    "   (2) If so, identify the key in the sample characteristics dictionary where unique values of this trait is recorded. The key is an integer. The trait information might be explicitly recorded, or can be inferred from the field with some biomedical knowledge or understanding about the data collection process.\n",
    "   (3) Choose an appropriate data type (either 'continuous' or 'binary') for each trait. Write a Python function to convert any given value of the trait to this data type. The function should handle inference about the trait value and convert unknown values to None.\n",
    "   Name the functions 'convert_trait', 'convert_age', and 'convert_gender', respectively.\n",
    "   NOTE: Function \"convert_trait\" should return 1 or 0.\n",
    "   \n",
    "Background information about the dataset:\n",
    "{background_info}\n",
    "\n",
    "Sample characteristics dictionary (from \"!Sample_characteristics_ch1\", converted to a Python dictionary that stores the unique values for each field):\n",
    "{clinical_data_unique}\n",
    "'''"
   ]
  },
  {
   "cell_type": "markdown",
   "metadata": {
    "ExecuteTime": {
     "end_time": "2023-12-31T03:58:04.978240504Z",
     "start_time": "2023-12-31T03:58:04.922365324Z"
    }
   },
   "source": [
    "Understand and verify the answer from GPT, to assign values to the below variables. Assign None to the 'row_id' variables if relevant data row was not found.\n",
    "Later we need to let GPT format its answer to automatically do these. But given the complexity of this step, let's grow some insight from the free-text answers for now."
   ]
  },
  {
   "cell_type": "code",
   "execution_count": 35,
   "metadata": {},
   "outputs": [],
   "source": [
    "age_row = gender_row = None\n",
    "convert_age = convert_gender = None"
   ]
  },
  {
   "cell_type": "code",
   "execution_count": 36,
   "metadata": {
    "ExecuteTime": {
     "end_time": "2023-12-31T21:19:35.508295660Z",
     "start_time": "2023-12-31T21:19:35.493015671Z"
    }
   },
   "outputs": [],
   "source": [
    "is_gene_availabe = True\n",
    "trait_row = 2\n",
    "\n",
    "age_row = 0\n",
    "gender_row = 1\n",
    "\n",
    "trait_type = 'binary'"
   ]
  },
  {
   "cell_type": "code",
   "execution_count": 37,
   "metadata": {
    "ExecuteTime": {
     "end_time": "2023-12-31T21:19:35.508365153Z",
     "start_time": "2023-12-31T21:19:35.493151450Z"
    }
   },
   "outputs": [],
   "source": [
    "is_available = is_gene_availabe and (trait_row is not None)\n",
    "if not is_available:\n",
    "    save_cohort_info(cohort, JSON_PATH, is_available)\n",
    "    print(\"This cohort is not usable. Please skip the following steps and jump to the next accession number.\")"
   ]
  },
  {
   "cell_type": "code",
   "execution_count": 38,
   "metadata": {
    "ExecuteTime": {
     "end_time": "2023-12-31T21:19:35.508426069Z",
     "start_time": "2023-12-31T21:19:35.493220101Z"
    }
   },
   "outputs": [],
   "source": [
    "def convert_trait(value):\n",
    "    \"\"\"\n",
    "    Converts a given value to a binary representation for craniosynostosis.\n",
    "    Assumes craniosynostosis presence is indicated by specific keywords (e.g., types of synostosis).\n",
    "    Returns 1 for presence, 0 for absence, and None for unknown values.\n",
    "\n",
    "    :param value: The value to be converted (string).\n",
    "    :return: Binary representation (1 or 0) or None.\n",
    "    \"\"\"\n",
    "    # Assuming presence of craniosynostosis is indicated by certain keywords\n",
    "    craniosynostosis_keywords = ['sagittal', 'coronal', 'metopic']\n",
    "    \n",
    "    if any(keyword in value.lower() for keyword in craniosynostosis_keywords):\n",
    "        return 1\n",
    "    elif 'control' in value.lower():\n",
    "        return 0\n",
    "    else:\n",
    "        return None\n",
    "\n",
    "# Function to convert age values to continuous\n",
    "def convert_age(value):\n",
    "    try:\n",
    "        # Extracting the numerical part of the age value\n",
    "        age = float(value.split(': ')[1])\n",
    "        return age\n",
    "    except (ValueError, IndexError):\n",
    "        # If conversion fails or format is unexpected, return None\n",
    "        return None\n",
    "\n",
    "# Function to convert gender values to binary\n",
    "def convert_gender(value):\n",
    "    # Convert gender to binary, M as 1 and F as 0\n",
    "    if value == \"gender: M\":\n",
    "        return 1\n",
    "    elif value == \"gender: F\":\n",
    "        return 0\n",
    "    else:\n",
    "        return None"
   ]
  },
  {
   "cell_type": "code",
   "execution_count": 39,
   "metadata": {
    "ExecuteTime": {
     "end_time": "2023-12-31T21:19:35.508533013Z",
     "start_time": "2023-12-31T21:19:35.493272992Z"
    }
   },
   "outputs": [
    {
     "data": {
      "text/html": [
       "<div>\n",
       "<style scoped>\n",
       "    .dataframe tbody tr th:only-of-type {\n",
       "        vertical-align: middle;\n",
       "    }\n",
       "\n",
       "    .dataframe tbody tr th {\n",
       "        vertical-align: top;\n",
       "    }\n",
       "\n",
       "    .dataframe thead th {\n",
       "        text-align: right;\n",
       "    }\n",
       "</style>\n",
       "<table border=\"1\" class=\"dataframe\">\n",
       "  <thead>\n",
       "    <tr style=\"text-align: right;\">\n",
       "      <th></th>\n",
       "      <th>GSM692146</th>\n",
       "      <th>GSM692147</th>\n",
       "      <th>GSM692148</th>\n",
       "      <th>GSM692149</th>\n",
       "      <th>GSM692150</th>\n",
       "      <th>GSM692151</th>\n",
       "      <th>GSM692152</th>\n",
       "      <th>GSM692153</th>\n",
       "      <th>GSM692154</th>\n",
       "      <th>GSM692155</th>\n",
       "      <th>...</th>\n",
       "      <th>GSM692385</th>\n",
       "      <th>GSM692386</th>\n",
       "      <th>GSM692387</th>\n",
       "      <th>GSM692388</th>\n",
       "      <th>GSM692389</th>\n",
       "      <th>GSM692390</th>\n",
       "      <th>GSM692391</th>\n",
       "      <th>GSM692392</th>\n",
       "      <th>GSM692393</th>\n",
       "      <th>GSM692394</th>\n",
       "    </tr>\n",
       "  </thead>\n",
       "  <tbody>\n",
       "    <tr>\n",
       "      <th>Craniosynostosis</th>\n",
       "      <td>1.00</td>\n",
       "      <td>1.0</td>\n",
       "      <td>1.0</td>\n",
       "      <td>1.0</td>\n",
       "      <td>1.0</td>\n",
       "      <td>1.0</td>\n",
       "      <td>1.00</td>\n",
       "      <td>1.00</td>\n",
       "      <td>1.00</td>\n",
       "      <td>1.00</td>\n",
       "      <td>...</td>\n",
       "      <td>0.0</td>\n",
       "      <td>0.0</td>\n",
       "      <td>1.0</td>\n",
       "      <td>0.0</td>\n",
       "      <td>0.00</td>\n",
       "      <td>0.00</td>\n",
       "      <td>0.00</td>\n",
       "      <td>0.00</td>\n",
       "      <td>0.00</td>\n",
       "      <td>0.0</td>\n",
       "    </tr>\n",
       "    <tr>\n",
       "      <th>Age</th>\n",
       "      <td>12.87</td>\n",
       "      <td>10.4</td>\n",
       "      <td>12.3</td>\n",
       "      <td>11.4</td>\n",
       "      <td>10.1</td>\n",
       "      <td>11.0</td>\n",
       "      <td>4.27</td>\n",
       "      <td>7.97</td>\n",
       "      <td>4.33</td>\n",
       "      <td>9.33</td>\n",
       "      <td>...</td>\n",
       "      <td>84.0</td>\n",
       "      <td>13.0</td>\n",
       "      <td>2.0</td>\n",
       "      <td>0.5</td>\n",
       "      <td>0.75</td>\n",
       "      <td>0.57</td>\n",
       "      <td>25.03</td>\n",
       "      <td>4.47</td>\n",
       "      <td>4.23</td>\n",
       "      <td>10.4</td>\n",
       "    </tr>\n",
       "    <tr>\n",
       "      <th>Gender</th>\n",
       "      <td>0.00</td>\n",
       "      <td>0.0</td>\n",
       "      <td>1.0</td>\n",
       "      <td>1.0</td>\n",
       "      <td>0.0</td>\n",
       "      <td>1.0</td>\n",
       "      <td>1.00</td>\n",
       "      <td>1.00</td>\n",
       "      <td>0.00</td>\n",
       "      <td>1.00</td>\n",
       "      <td>...</td>\n",
       "      <td>1.0</td>\n",
       "      <td>1.0</td>\n",
       "      <td>1.0</td>\n",
       "      <td>1.0</td>\n",
       "      <td>1.00</td>\n",
       "      <td>1.00</td>\n",
       "      <td>0.00</td>\n",
       "      <td>1.00</td>\n",
       "      <td>1.00</td>\n",
       "      <td>1.0</td>\n",
       "    </tr>\n",
       "  </tbody>\n",
       "</table>\n",
       "<p>3 rows × 249 columns</p>\n",
       "</div>"
      ],
      "text/plain": [
       "                  GSM692146  GSM692147  GSM692148  GSM692149  GSM692150  \\\n",
       "Craniosynostosis       1.00        1.0        1.0        1.0        1.0   \n",
       "Age                   12.87       10.4       12.3       11.4       10.1   \n",
       "Gender                 0.00        0.0        1.0        1.0        0.0   \n",
       "\n",
       "                  GSM692151  GSM692152  GSM692153  GSM692154  GSM692155  ...  \\\n",
       "Craniosynostosis        1.0       1.00       1.00       1.00       1.00  ...   \n",
       "Age                    11.0       4.27       7.97       4.33       9.33  ...   \n",
       "Gender                  1.0       1.00       1.00       0.00       1.00  ...   \n",
       "\n",
       "                  GSM692385  GSM692386  GSM692387  GSM692388  GSM692389  \\\n",
       "Craniosynostosis        0.0        0.0        1.0        0.0       0.00   \n",
       "Age                    84.0       13.0        2.0        0.5       0.75   \n",
       "Gender                  1.0        1.0        1.0        1.0       1.00   \n",
       "\n",
       "                  GSM692390  GSM692391  GSM692392  GSM692393  GSM692394  \n",
       "Craniosynostosis       0.00       0.00       0.00       0.00        0.0  \n",
       "Age                    0.57      25.03       4.47       4.23       10.4  \n",
       "Gender                 1.00       0.00       1.00       1.00        1.0  \n",
       "\n",
       "[3 rows x 249 columns]"
      ]
     },
     "execution_count": 39,
     "metadata": {},
     "output_type": "execute_result"
    }
   ],
   "source": [
    "selected_clinical_data = geo_select_clinical_features(clinical_data, TRAIT, trait_row, convert_trait, age_row=age_row,\n",
    "                                                      convert_age=convert_age, gender_row=gender_row,\n",
    "                                                      convert_gender=convert_gender)\n",
    "selected_clinical_data.head()"
   ]
  },
  {
   "cell_type": "markdown",
   "metadata": {
    "ExecuteTime": {
     "end_time": "2023-12-31T03:58:04.978664193Z",
     "start_time": "2023-12-31T03:58:04.966117261Z"
    }
   },
   "source": [
    "### Genetic data preprocessing and final filtering"
   ]
  },
  {
   "cell_type": "code",
   "execution_count": 40,
   "metadata": {
    "ExecuteTime": {
     "end_time": "2023-12-31T21:19:35.590261560Z",
     "start_time": "2023-12-31T21:19:35.493320362Z"
    }
   },
   "outputs": [
    {
     "data": {
      "text/html": [
       "<div>\n",
       "<style scoped>\n",
       "    .dataframe tbody tr th:only-of-type {\n",
       "        vertical-align: middle;\n",
       "    }\n",
       "\n",
       "    .dataframe tbody tr th {\n",
       "        vertical-align: top;\n",
       "    }\n",
       "\n",
       "    .dataframe thead th {\n",
       "        text-align: right;\n",
       "    }\n",
       "</style>\n",
       "<table border=\"1\" class=\"dataframe\">\n",
       "  <thead>\n",
       "    <tr style=\"text-align: right;\">\n",
       "      <th></th>\n",
       "      <th>GSM692146</th>\n",
       "      <th>GSM692147</th>\n",
       "      <th>GSM692148</th>\n",
       "      <th>GSM692149</th>\n",
       "      <th>GSM692150</th>\n",
       "      <th>GSM692151</th>\n",
       "      <th>GSM692152</th>\n",
       "      <th>GSM692153</th>\n",
       "      <th>GSM692154</th>\n",
       "      <th>GSM692155</th>\n",
       "      <th>...</th>\n",
       "      <th>GSM692385</th>\n",
       "      <th>GSM692386</th>\n",
       "      <th>GSM692387</th>\n",
       "      <th>GSM692388</th>\n",
       "      <th>GSM692389</th>\n",
       "      <th>GSM692390</th>\n",
       "      <th>GSM692391</th>\n",
       "      <th>GSM692392</th>\n",
       "      <th>GSM692393</th>\n",
       "      <th>GSM692394</th>\n",
       "    </tr>\n",
       "    <tr>\n",
       "      <th>ID</th>\n",
       "      <th></th>\n",
       "      <th></th>\n",
       "      <th></th>\n",
       "      <th></th>\n",
       "      <th></th>\n",
       "      <th></th>\n",
       "      <th></th>\n",
       "      <th></th>\n",
       "      <th></th>\n",
       "      <th></th>\n",
       "      <th></th>\n",
       "      <th></th>\n",
       "      <th></th>\n",
       "      <th></th>\n",
       "      <th></th>\n",
       "      <th></th>\n",
       "      <th></th>\n",
       "      <th></th>\n",
       "      <th></th>\n",
       "      <th></th>\n",
       "      <th></th>\n",
       "    </tr>\n",
       "  </thead>\n",
       "  <tbody>\n",
       "    <tr>\n",
       "      <th>7892501</th>\n",
       "      <td>7.947704</td>\n",
       "      <td>6.676798</td>\n",
       "      <td>7.843258</td>\n",
       "      <td>6.321158</td>\n",
       "      <td>8.001171</td>\n",
       "      <td>6.948549</td>\n",
       "      <td>6.845051</td>\n",
       "      <td>7.614498</td>\n",
       "      <td>6.022057</td>\n",
       "      <td>7.501036</td>\n",
       "      <td>...</td>\n",
       "      <td>7.340116</td>\n",
       "      <td>6.576175</td>\n",
       "      <td>5.896850</td>\n",
       "      <td>8.151285</td>\n",
       "      <td>7.850658</td>\n",
       "      <td>8.319950</td>\n",
       "      <td>6.557796</td>\n",
       "      <td>6.952909</td>\n",
       "      <td>6.710567</td>\n",
       "      <td>7.381286</td>\n",
       "    </tr>\n",
       "    <tr>\n",
       "      <th>7892502</th>\n",
       "      <td>5.720497</td>\n",
       "      <td>5.853777</td>\n",
       "      <td>5.592118</td>\n",
       "      <td>5.358243</td>\n",
       "      <td>5.870100</td>\n",
       "      <td>5.505210</td>\n",
       "      <td>6.317334</td>\n",
       "      <td>5.849439</td>\n",
       "      <td>5.875447</td>\n",
       "      <td>6.162370</td>\n",
       "      <td>...</td>\n",
       "      <td>6.084514</td>\n",
       "      <td>5.738185</td>\n",
       "      <td>5.146971</td>\n",
       "      <td>6.325365</td>\n",
       "      <td>6.339419</td>\n",
       "      <td>5.683592</td>\n",
       "      <td>6.064663</td>\n",
       "      <td>5.688963</td>\n",
       "      <td>5.608666</td>\n",
       "      <td>6.098935</td>\n",
       "    </tr>\n",
       "    <tr>\n",
       "      <th>7892503</th>\n",
       "      <td>3.692077</td>\n",
       "      <td>3.784867</td>\n",
       "      <td>3.564129</td>\n",
       "      <td>2.796225</td>\n",
       "      <td>3.101595</td>\n",
       "      <td>3.334568</td>\n",
       "      <td>3.599359</td>\n",
       "      <td>3.861042</td>\n",
       "      <td>3.160540</td>\n",
       "      <td>4.897819</td>\n",
       "      <td>...</td>\n",
       "      <td>4.090935</td>\n",
       "      <td>3.089079</td>\n",
       "      <td>4.097332</td>\n",
       "      <td>3.758362</td>\n",
       "      <td>2.921880</td>\n",
       "      <td>3.968212</td>\n",
       "      <td>4.643388</td>\n",
       "      <td>4.330150</td>\n",
       "      <td>4.137814</td>\n",
       "      <td>5.568669</td>\n",
       "    </tr>\n",
       "    <tr>\n",
       "      <th>7892504</th>\n",
       "      <td>9.967597</td>\n",
       "      <td>9.804028</td>\n",
       "      <td>9.837678</td>\n",
       "      <td>9.732824</td>\n",
       "      <td>9.386302</td>\n",
       "      <td>9.655602</td>\n",
       "      <td>9.210620</td>\n",
       "      <td>9.076825</td>\n",
       "      <td>9.091269</td>\n",
       "      <td>9.542767</td>\n",
       "      <td>...</td>\n",
       "      <td>9.819561</td>\n",
       "      <td>9.686096</td>\n",
       "      <td>10.014200</td>\n",
       "      <td>9.600938</td>\n",
       "      <td>9.319043</td>\n",
       "      <td>9.200205</td>\n",
       "      <td>9.751630</td>\n",
       "      <td>10.008660</td>\n",
       "      <td>10.079070</td>\n",
       "      <td>9.826204</td>\n",
       "    </tr>\n",
       "    <tr>\n",
       "      <th>7892505</th>\n",
       "      <td>4.004615</td>\n",
       "      <td>2.961565</td>\n",
       "      <td>3.170119</td>\n",
       "      <td>2.939202</td>\n",
       "      <td>3.164947</td>\n",
       "      <td>2.621078</td>\n",
       "      <td>3.695578</td>\n",
       "      <td>2.330928</td>\n",
       "      <td>2.530791</td>\n",
       "      <td>3.602525</td>\n",
       "      <td>...</td>\n",
       "      <td>3.220282</td>\n",
       "      <td>4.483160</td>\n",
       "      <td>4.089536</td>\n",
       "      <td>3.040828</td>\n",
       "      <td>3.294937</td>\n",
       "      <td>2.908012</td>\n",
       "      <td>2.486737</td>\n",
       "      <td>2.756370</td>\n",
       "      <td>3.498060</td>\n",
       "      <td>2.938303</td>\n",
       "    </tr>\n",
       "  </tbody>\n",
       "</table>\n",
       "<p>5 rows × 249 columns</p>\n",
       "</div>"
      ],
      "text/plain": [
       "         GSM692146  GSM692147  GSM692148  GSM692149  GSM692150  GSM692151  \\\n",
       "ID                                                                          \n",
       "7892501   7.947704   6.676798   7.843258   6.321158   8.001171   6.948549   \n",
       "7892502   5.720497   5.853777   5.592118   5.358243   5.870100   5.505210   \n",
       "7892503   3.692077   3.784867   3.564129   2.796225   3.101595   3.334568   \n",
       "7892504   9.967597   9.804028   9.837678   9.732824   9.386302   9.655602   \n",
       "7892505   4.004615   2.961565   3.170119   2.939202   3.164947   2.621078   \n",
       "\n",
       "         GSM692152  GSM692153  GSM692154  GSM692155  ...  GSM692385  \\\n",
       "ID                                                   ...              \n",
       "7892501   6.845051   7.614498   6.022057   7.501036  ...   7.340116   \n",
       "7892502   6.317334   5.849439   5.875447   6.162370  ...   6.084514   \n",
       "7892503   3.599359   3.861042   3.160540   4.897819  ...   4.090935   \n",
       "7892504   9.210620   9.076825   9.091269   9.542767  ...   9.819561   \n",
       "7892505   3.695578   2.330928   2.530791   3.602525  ...   3.220282   \n",
       "\n",
       "         GSM692386  GSM692387  GSM692388  GSM692389  GSM692390  GSM692391  \\\n",
       "ID                                                                          \n",
       "7892501   6.576175   5.896850   8.151285   7.850658   8.319950   6.557796   \n",
       "7892502   5.738185   5.146971   6.325365   6.339419   5.683592   6.064663   \n",
       "7892503   3.089079   4.097332   3.758362   2.921880   3.968212   4.643388   \n",
       "7892504   9.686096  10.014200   9.600938   9.319043   9.200205   9.751630   \n",
       "7892505   4.483160   4.089536   3.040828   3.294937   2.908012   2.486737   \n",
       "\n",
       "         GSM692392  GSM692393  GSM692394  \n",
       "ID                                        \n",
       "7892501   6.952909   6.710567   7.381286  \n",
       "7892502   5.688963   5.608666   6.098935  \n",
       "7892503   4.330150   4.137814   5.568669  \n",
       "7892504  10.008660  10.079070   9.826204  \n",
       "7892505   2.756370   3.498060   2.938303  \n",
       "\n",
       "[5 rows x 249 columns]"
      ]
     },
     "execution_count": 40,
     "metadata": {},
     "output_type": "execute_result"
    }
   ],
   "source": [
    "genetic_data = get_genetic_data(matrix_file)\n",
    "genetic_data.head()"
   ]
  },
  {
   "cell_type": "code",
   "execution_count": 41,
   "metadata": {
    "ExecuteTime": {
     "end_time": "2023-12-31T21:19:35.590443507Z",
     "start_time": "2023-12-31T21:19:35.536713559Z"
    }
   },
   "outputs": [
    {
     "data": {
      "text/plain": [
       "['7892501',\n",
       " '7892502',\n",
       " '7892503',\n",
       " '7892504',\n",
       " '7892505',\n",
       " '7892506',\n",
       " '7892507',\n",
       " '7892508',\n",
       " '7892509',\n",
       " '7892510',\n",
       " '7892511',\n",
       " '7892512',\n",
       " '7892513',\n",
       " '7892514',\n",
       " '7892515',\n",
       " '7892516',\n",
       " '7892517',\n",
       " '7892518',\n",
       " '7892519',\n",
       " '7892520']"
      ]
     },
     "execution_count": 41,
     "metadata": {},
     "output_type": "execute_result"
    }
   ],
   "source": [
    "gene_row_ids = genetic_data.index[:20].tolist()\n",
    "gene_row_ids"
   ]
  },
  {
   "cell_type": "markdown",
   "metadata": {
    "ExecuteTime": {
     "end_time": "2023-12-31T03:30:41.595335164Z",
     "start_time": "2023-12-31T03:30:41.513232329Z"
    }
   },
   "source": [
    "Check if the gene dataset requires mapping to get the gene symbols corresponding to each data row."
   ]
  },
  {
   "cell_type": "markdown",
   "metadata": {},
   "source": [
    "Reference prompt:"
   ]
  },
  {
   "cell_type": "code",
   "execution_count": 42,
   "metadata": {
    "ExecuteTime": {
     "end_time": "2023-12-31T21:19:35.590590427Z",
     "start_time": "2023-12-31T21:19:35.536780517Z"
    },
    "scrolled": true
   },
   "outputs": [
    {
     "data": {
      "text/plain": [
       "\"\\nBelow are the row headers of a gene expression dataset in GEO. Based on your biomedical knowledge, are they human gene symbols, or are they some other identifiers that need to be mapped to gene symbols? Your answer should be concluded by starting a new line and strictly following this format:\\nrequires_gene_mapping = (True or False)\\n\\nRow headers:\\n['7892501', '7892502', '7892503', '7892504', '7892505', '7892506', '7892507', '7892508', '7892509', '7892510', '7892511', '7892512', '7892513', '7892514', '7892515', '7892516', '7892517', '7892518', '7892519', '7892520']\\n\""
      ]
     },
     "execution_count": 42,
     "metadata": {},
     "output_type": "execute_result"
    }
   ],
   "source": [
    "f'''\n",
    "Below are the row headers of a gene expression dataset in GEO. Based on your biomedical knowledge, are they human gene symbols, or are they some other identifiers that need to be mapped to gene symbols? Your answer should be concluded by starting a new line and strictly following this format:\n",
    "requires_gene_mapping = (True or False)\n",
    "\n",
    "Row headers:\n",
    "{gene_row_ids}\n",
    "'''"
   ]
  },
  {
   "cell_type": "markdown",
   "metadata": {},
   "source": [
    "If not required, jump directly to the gene normalization step"
   ]
  },
  {
   "cell_type": "code",
   "execution_count": 43,
   "metadata": {
    "ExecuteTime": {
     "end_time": "2023-12-31T21:19:35.590648558Z",
     "start_time": "2023-12-31T21:19:35.536821375Z"
    }
   },
   "outputs": [],
   "source": [
    "requires_gene_mapping = True"
   ]
  },
  {
   "cell_type": "code",
   "execution_count": 23,
   "metadata": {
    "ExecuteTime": {
     "end_time": "2023-12-31T21:19:35.590695457Z",
     "start_time": "2023-12-31T21:19:35.536910836Z"
    }
   },
   "outputs": [
    {
     "name": "stdout",
     "output_type": "stream",
     "text": [
      "{'ID': ['7896736', '7896738', '7896740', '7896742', '7896744'], 'GB_LIST': [nan, nan, 'NM_001004195,NM_001005240,NM_001005484,BC136848,BC136867,BC136907,BC136908', 'NR_024437,XM_006711854,XM_006726377,XR_430662,AK298283,AL137655,BC032332,BC118988,BC122537,BC131690,NM_207366,AK301928,BC071667', 'NM_001005221,NM_001005224,NM_001005277,NM_001005504,BC137547,BC137568'], 'SPOT_ID': ['chr1:53049-54936', 'chr1:63015-63887', 'chr1:69091-70008', 'chr1:334129-334296', 'chr1:367659-368597'], 'seqname': ['chr1', 'chr1', 'chr1', 'chr1', 'chr1'], 'RANGE_GB': ['NC_000001.10', 'NC_000001.10', 'NC_000001.10', 'NC_000001.10', 'NC_000001.10'], 'RANGE_STRAND': ['+', '+', '+', '+', '+'], 'RANGE_START': ['53049', '63015', '69091', '334129', '367659'], 'RANGE_STOP': ['54936', '63887', '70008', '334296', '368597'], 'total_probes': [7.0, 31.0, 24.0, 6.0, 36.0], 'gene_assignment': ['---', 'ENST00000328113 // OR4G2P // olfactory receptor, family 4, subfamily G, member 2 pseudogene // --- // --- /// ENST00000492842 // OR4G11P // olfactory receptor, family 4, subfamily G, member 11 pseudogene // --- // --- /// ENST00000588632 // OR4G1P // olfactory receptor, family 4, subfamily G, member 1 pseudogene // --- // ---', 'NM_001004195 // OR4F4 // olfactory receptor, family 4, subfamily F, member 4 // 15q26.3 // 26682 /// NM_001005240 // OR4F17 // olfactory receptor, family 4, subfamily F, member 17 // 19p13.3 // 81099 /// NM_001005484 // OR4F5 // olfactory receptor, family 4, subfamily F, member 5 // 1p36.33 // 79501 /// ENST00000318050 // OR4F17 // olfactory receptor, family 4, subfamily F, member 17 // 19p13.3 // 81099 /// ENST00000326183 // OR4F4 // olfactory receptor, family 4, subfamily F, member 4 // 15q26.3 // 26682 /// ENST00000335137 // OR4F5 // olfactory receptor, family 4, subfamily F, member 5 // 1p36.33 // 79501 /// ENST00000585993 // OR4F17 // olfactory receptor, family 4, subfamily F, member 17 // 19p13.3 // 81099 /// BC136848 // OR4F17 // olfactory receptor, family 4, subfamily F, member 17 // 19p13.3 // 81099 /// BC136867 // OR4F17 // olfactory receptor, family 4, subfamily F, member 17 // 19p13.3 // 81099 /// BC136907 // OR4F4 // olfactory receptor, family 4, subfamily F, member 4 // 15q26.3 // 26682 /// BC136908 // OR4F4 // olfactory receptor, family 4, subfamily F, member 4 // 15q26.3 // 26682', 'NR_024437 // LOC728323 // uncharacterized LOC728323 // 2q37.3 // 728323 /// XM_006711854 // LOC101060626 // F-box only protein 25-like // --- // 101060626 /// XM_006726377 // LOC101060626 // F-box only protein 25-like // --- // 101060626 /// XR_430662 // LOC101927097 // uncharacterized LOC101927097 // --- // 101927097 /// ENST00000279067 // LINC00266-1 // long intergenic non-protein coding RNA 266-1 // 20q13.33 // 140849 /// ENST00000431812 // LOC101928706 // uncharacterized LOC101928706 // --- // 101928706 /// ENST00000431812 // LOC101929823 // uncharacterized LOC101929823 // --- // 101929823 /// ENST00000433444 // LOC728323 // uncharacterized LOC728323 // 2q37.3 // 728323 /// ENST00000436899 // LINC00266-3 // long intergenic non-protein coding RNA 266-3 // --- // --- /// ENST00000445252 // LINC00266-1 // long intergenic non-protein coding RNA 266-1 // 20q13.33 // 140849 /// ENST00000455207 // LOC101928706 // uncharacterized LOC101928706 // --- // 101928706 /// ENST00000455207 // LOC101929823 // uncharacterized LOC101929823 // --- // 101929823 /// ENST00000455464 // LOC101928706 // uncharacterized LOC101928706 // --- // 101928706 /// ENST00000455464 // LOC101929823 // uncharacterized LOC101929823 // --- // 101929823 /// ENST00000456398 // LOC728323 // uncharacterized LOC728323 // 2q37.3 // 728323 /// ENST00000601814 // LOC101928706 // uncharacterized LOC101928706 // --- // 101928706 /// ENST00000601814 // LOC101929823 // uncharacterized LOC101929823 // --- // 101929823 /// AK298283 // LOC728323 // uncharacterized LOC728323 // 2q37.3 // 728323 /// AL137655 // LOC100134822 // uncharacterized LOC100134822 // --- // 100134822 /// BC032332 // PCMTD2 // protein-L-isoaspartate (D-aspartate) O-methyltransferase domain containing 2 // 20q13.33 // 55251 /// BC118988 // LINC00266-1 // long intergenic non-protein coding RNA 266-1 // 20q13.33 // 140849 /// BC122537 // LINC00266-1 // long intergenic non-protein coding RNA 266-1 // 20q13.33 // 140849 /// BC131690 // LOC728323 // uncharacterized LOC728323 // 2q37.3 // 728323 /// NM_207366 // SEPT14 // septin 14 // 7p11.2 // 346288 /// ENST00000388975 // SEPT14 // septin 14 // 7p11.2 // 346288 /// ENST00000427373 // LINC00266-4P // long intergenic non-protein coding RNA 266-4, pseudogene // --- // --- /// ENST00000431796 // LOC728323 // uncharacterized LOC728323 // 2q37.3 // 728323 /// ENST00000509776 // LINC00266-2P // long intergenic non-protein coding RNA 266-2, pseudogene // --- // --- /// ENST00000570230 // LOC101929008 // uncharacterized LOC101929008 // --- // 101929008 /// ENST00000570230 // LOC101929038 // uncharacterized LOC101929038 // --- // 101929038 /// ENST00000570230 // LOC101930130 // uncharacterized LOC101930130 // --- // 101930130 /// ENST00000570230 // LOC101930567 // uncharacterized LOC101930567 // --- // 101930567 /// AK301928 // SEPT14 // septin 14 // 7p11.2 // 346288', 'NM_001005221 // OR4F29 // olfactory receptor, family 4, subfamily F, member 29 // 1p36.33 // 729759 /// NM_001005224 // OR4F3 // olfactory receptor, family 4, subfamily F, member 3 // 5q35.3 // 26683 /// NM_001005277 // OR4F16 // olfactory receptor, family 4, subfamily F, member 16 // 1p36.33 // 81399 /// NM_001005504 // OR4F21 // olfactory receptor, family 4, subfamily F, member 21 // 8p23.3 // 441308 /// ENST00000320901 // OR4F21 // olfactory receptor, family 4, subfamily F, member 21 // 8p23.3 // 441308 /// ENST00000332831 // OR4F3 // olfactory receptor, family 4, subfamily F, member 3 // 5q35.3 // 26683 /// ENST00000332831 // OR4F16 // olfactory receptor, family 4, subfamily F, member 16 // 1p36.33 // 81399 /// ENST00000332831 // OR4F29 // olfactory receptor, family 4, subfamily F, member 29 // 1p36.33 // 729759 /// ENST00000402444 // OR4F7P // olfactory receptor, family 4, subfamily F, member 7 pseudogene // --- // --- /// ENST00000405102 // OR4F1P // olfactory receptor, family 4, subfamily F, member 1 pseudogene // --- // --- /// ENST00000424047 // OR4F2P // olfactory receptor, family 4, subfamily F, member 2 pseudogene // --- // --- /// ENST00000426406 // OR4F3 // olfactory receptor, family 4, subfamily F, member 3 // 5q35.3 // 26683 /// ENST00000426406 // OR4F16 // olfactory receptor, family 4, subfamily F, member 16 // 1p36.33 // 81399 /// ENST00000426406 // OR4F29 // olfactory receptor, family 4, subfamily F, member 29 // 1p36.33 // 729759 /// ENST00000456475 // OR4F3 // olfactory receptor, family 4, subfamily F, member 3 // 5q35.3 // 26683 /// ENST00000456475 // OR4F16 // olfactory receptor, family 4, subfamily F, member 16 // 1p36.33 // 81399 /// ENST00000456475 // OR4F29 // olfactory receptor, family 4, subfamily F, member 29 // 1p36.33 // 729759 /// ENST00000559128 // OR4F28P // olfactory receptor, family 4, subfamily F, member 28 pseudogene // --- // --- /// BC137547 // OR4F3 // olfactory receptor, family 4, subfamily F, member 3 // 5q35.3 // 26683 /// BC137547 // OR4F16 // olfactory receptor, family 4, subfamily F, member 16 // 1p36.33 // 81399 /// BC137547 // OR4F29 // olfactory receptor, family 4, subfamily F, member 29 // 1p36.33 // 729759 /// BC137568 // OR4F3 // olfactory receptor, family 4, subfamily F, member 3 // 5q35.3 // 26683 /// BC137568 // OR4F16 // olfactory receptor, family 4, subfamily F, member 16 // 1p36.33 // 81399 /// BC137568 // OR4F29 // olfactory receptor, family 4, subfamily F, member 29 // 1p36.33 // 729759 /// ENST00000589943 // OR4F8P // olfactory receptor, family 4, subfamily F, member 8 pseudogene // --- // ---'], 'mrna_assignment': ['NONHSAT060105 // NONCODE // Non-coding transcript identified by NONCODE // chr1 // 100 // 100 // 7 // 7 // 0', 'ENST00000328113 // ENSEMBL // havana:known chromosome:GRCh38:15:101926805:101927707:-1 gene:ENSG00000183909 gene_biotype:unprocessed_pseudogene transcript_biotype:unprocessed_pseudogene // chr1 // 100 // 100 // 31 // 31 // 0 /// ENST00000492842 // ENSEMBL // havana:known chromosome:GRCh38:1:62948:63887:1 gene:ENSG00000240361 gene_biotype:unprocessed_pseudogene transcript_biotype:unprocessed_pseudogene // chr1 // 100 // 100 // 31 // 31 // 0 /// ENST00000588632 // ENSEMBL // havana:known chromosome:GRCh38:19:104535:105471:1 gene:ENSG00000267310 gene_biotype:unprocessed_pseudogene transcript_biotype:unprocessed_pseudogene // chr1 // 100 // 100 // 31 // 31 // 0 /// NONHSAT000016 // NONCODE // Non-coding transcript identified by NONCODE: Linc // chr1 // 100 // 100 // 31 // 31 // 0 /// NONHSAT051704 // NONCODE // Non-coding transcript identified by NONCODE: Linc // chr1 // 100 // 100 // 31 // 31 // 0 /// NONHSAT060106 // NONCODE // Non-coding transcript identified by NONCODE: Linc // chr1 // 100 // 100 // 31 // 31 // 0', 'NM_001004195 // RefSeq // Homo sapiens olfactory receptor, family 4, subfamily F, member 4 (OR4F4), mRNA. // chr1 // 100 // 100 // 24 // 24 // 0 /// NM_001005240 // RefSeq // Homo sapiens olfactory receptor, family 4, subfamily F, member 17 (OR4F17), mRNA. // chr1 // 100 // 100 // 24 // 24 // 0 /// NM_001005484 // RefSeq // Homo sapiens olfactory receptor, family 4, subfamily F, member 5 (OR4F5), mRNA. // chr1 // 100 // 100 // 24 // 24 // 0 /// ENST00000318050 // ENSEMBL // ensembl:known chromosome:GRCh38:19:110643:111696:1 gene:ENSG00000176695 gene_biotype:protein_coding transcript_biotype:protein_coding // chr1 // 100 // 100 // 24 // 24 // 0 /// ENST00000326183 // ENSEMBL // ensembl_havana_transcript:known chromosome:GRCh38:15:101922042:101923095:-1 gene:ENSG00000177693 gene_biotype:protein_coding transcript_biotype:protein_coding // chr1 // 100 // 100 // 24 // 24 // 0 /// ENST00000335137 // ENSEMBL // ensembl_havana_transcript:known chromosome:GRCh38:1:69091:70008:1 gene:ENSG00000186092 gene_biotype:protein_coding transcript_biotype:protein_coding // chr1 // 100 // 100 // 24 // 24 // 0 /// ENST00000585993 // ENSEMBL // havana:known chromosome:GRCh38:19:107461:111696:1 gene:ENSG00000176695 gene_biotype:protein_coding transcript_biotype:protein_coding // chr1 // 100 // 100 // 24 // 24 // 0 /// BC136848 // GenBank // Homo sapiens olfactory receptor, family 4, subfamily F, member 17, mRNA (cDNA clone MGC:168462 IMAGE:9020839), complete cds. // chr1 // 100 // 100 // 24 // 24 // 0 /// BC136867 // GenBank // Homo sapiens olfactory receptor, family 4, subfamily F, member 17, mRNA (cDNA clone MGC:168481 IMAGE:9020858), complete cds. // chr1 // 100 // 100 // 24 // 24 // 0 /// BC136907 // GenBank // Homo sapiens olfactory receptor, family 4, subfamily F, member 4, mRNA (cDNA clone MGC:168521 IMAGE:9020898), complete cds. // chr1 // 100 // 100 // 24 // 24 // 0 /// BC136908 // GenBank // Homo sapiens olfactory receptor, family 4, subfamily F, member 4, mRNA (cDNA clone MGC:168522 IMAGE:9020899), complete cds. // chr1 // 100 // 100 // 24 // 24 // 0 /// ENST00000618231 // ENSEMBL // havana:known chromosome:GRCh38:19:110613:111417:1 gene:ENSG00000176695 gene_biotype:protein_coding transcript_biotype:retained_intron // chr1 // 100 // 88 // 21 // 21 // 0', 'NR_024437 // RefSeq // Homo sapiens uncharacterized LOC728323 (LOC728323), long non-coding RNA. // chr1 // 100 // 100 // 6 // 6 // 0 /// XM_006711854 // RefSeq // PREDICTED: Homo sapiens F-box only protein 25-like (LOC101060626), partial mRNA. // chr1 // 100 // 100 // 6 // 6 // 0 /// XM_006726377 // RefSeq // PREDICTED: Homo sapiens F-box only protein 25-like (LOC101060626), partial mRNA. // chr1 // 100 // 100 // 6 // 6 // 0 /// XR_430662 // RefSeq // PREDICTED: Homo sapiens uncharacterized LOC101927097 (LOC101927097), misc_RNA. // chr1 // 100 // 100 // 6 // 6 // 0 /// ENST00000279067 // ENSEMBL // ensembl_havana_transcript:known chromosome:GRCh38:20:64290385:64303559:1 gene:ENSG00000149656 gene_biotype:processed_transcript transcript_biotype:processed_transcript // chr1 // 100 // 100 // 6 // 6 // 0 /// ENST00000431812 // ENSEMBL // havana:known chromosome:GRCh38:1:485066:489553:-1 gene:ENSG00000237094 gene_biotype:lincRNA transcript_biotype:lincRNA // chr1 // 83 // 100 // 5 // 6 // 0 /// ENST00000433444 // ENSEMBL // havana:putative chromosome:GRCh38:2:242122293:242138888:1 gene:ENSG00000220804 gene_biotype:transcribed_unprocessed_pseudogene transcript_biotype:processed_transcript // chr1 // 100 // 100 // 6 // 6 // 0 /// ENST00000436899 // ENSEMBL // havana:known chromosome:GRCh38:6:131910:144885:-1 gene:ENSG00000170590 gene_biotype:lincRNA transcript_biotype:lincRNA // chr1 // 100 // 100 // 6 // 6 // 0 /// ENST00000445252 // ENSEMBL // havana:known chromosome:GRCh38:20:64294897:64311371:1 gene:ENSG00000149656 gene_biotype:processed_transcript transcript_biotype:processed_transcript // chr1 // 100 // 100 // 6 // 6 // 0 /// ENST00000455207 // ENSEMBL // havana:known chromosome:GRCh38:1:373182:485208:-1 gene:ENSG00000237094 gene_biotype:lincRNA transcript_biotype:lincRNA // chr1 // 100 // 100 // 6 // 6 // 0 /// ENST00000455464 // ENSEMBL // havana:known chromosome:GRCh38:1:476531:497259:-1 gene:ENSG00000237094 gene_biotype:lincRNA transcript_biotype:lincRNA // chr1 // 100 // 100 // 6 // 6 // 0 /// ENST00000456398 // ENSEMBL // havana:known chromosome:GRCh38:2:242088633:242140638:1 gene:ENSG00000220804 gene_biotype:transcribed_unprocessed_pseudogene transcript_biotype:processed_transcript // chr1 // 100 // 100 // 6 // 6 // 0 /// ENST00000601814 // ENSEMBL // havana:known chromosome:GRCh38:1:484832:495476:-1 gene:ENSG00000237094 gene_biotype:lincRNA transcript_biotype:lincRNA // chr1 // 100 // 100 // 6 // 6 // 0 /// AK298283 // GenBank // Homo sapiens cDNA FLJ60027 complete cds, moderately similar to F-box only protein 25. // chr1 // 100 // 100 // 6 // 6 // 0 /// AL137655 // GenBank // Homo sapiens mRNA; cDNA DKFZp434B2016 (from clone DKFZp434B2016). // chr1 // 100 // 100 // 6 // 6 // 0 /// BC032332 // GenBank // Homo sapiens protein-L-isoaspartate (D-aspartate) O-methyltransferase domain containing 2, mRNA (cDNA clone MGC:40288 IMAGE:5169056), complete cds. // chr1 // 100 // 100 // 6 // 6 // 0 /// BC118988 // GenBank // Homo sapiens chromosome 20 open reading frame 69, mRNA (cDNA clone MGC:141807 IMAGE:40035995), complete cds. // chr1 // 100 // 100 // 6 // 6 // 0 /// BC122537 // GenBank // Homo sapiens chromosome 20 open reading frame 69, mRNA (cDNA clone MGC:141808 IMAGE:40035996), complete cds. // chr1 // 100 // 100 // 6 // 6 // 0 /// BC131690 // GenBank // Homo sapiens similar to bA476I15.3 (novel protein similar to septin), mRNA (cDNA clone IMAGE:40119684), partial cds. // chr1 // 100 // 100 // 6 // 6 // 0 /// NM_207366 // RefSeq // Homo sapiens septin 14 (SEPT14), mRNA. // chr1 // 50 // 100 // 3 // 6 // 0 /// ENST00000388975 // ENSEMBL // ensembl_havana_transcript:known chromosome:GRCh38:7:55793544:55862789:-1 gene:ENSG00000154997 gene_biotype:protein_coding transcript_biotype:protein_coding // chr1 // 50 // 100 // 3 // 6 // 0 /// ENST00000427373 // ENSEMBL // havana:known chromosome:GRCh38:Y:25378300:25394719:-1 gene:ENSG00000228786 gene_biotype:lincRNA transcript_biotype:lincRNA // chr1 // 67 // 100 // 4 // 6 // 0 /// ENST00000431796 // ENSEMBL // havana:known chromosome:GRCh38:2:242088693:242122405:1 gene:ENSG00000220804 gene_biotype:transcribed_unprocessed_pseudogene transcript_biotype:processed_transcript // chr1 // 60 // 83 // 3 // 5 // 0 /// ENST00000509776 // ENSEMBL // havana:known chromosome:GRCh38:Y:24278681:24291346:1 gene:ENSG00000248792 gene_biotype:unprocessed_pseudogene transcript_biotype:unprocessed_pseudogene // chr1 // 67 // 100 // 4 // 6 // 0 /// ENST00000570230 // ENSEMBL // havana:known chromosome:GRCh38:16:90157932:90178344:1 gene:ENSG00000260528 gene_biotype:processed_transcript transcript_biotype:processed_transcript // chr1 // 67 // 100 // 4 // 6 // 0 /// AK301928 // GenBank // Homo sapiens cDNA FLJ59065 complete cds, moderately similar to Septin-10. // chr1 // 50 // 100 // 3 // 6 // 0 /// ENST00000413839 // ENSEMBL // havana:known chromosome:GRCh38:7:45816557:45821064:1 gene:ENSG00000226838 gene_biotype:unprocessed_pseudogene transcript_biotype:unprocessed_pseudogene // chr1 // 83 // 100 // 5 // 6 // 0 /// ENST00000414688 // ENSEMBL // havana:known chromosome:GRCh38:1:711342:720200:-1 gene:ENSG00000230021 gene_biotype:lincRNA transcript_biotype:lincRNA // chr1 // 100 // 100 // 6 // 6 // 0 /// ENST00000419394 // ENSEMBL // havana:known chromosome:GRCh38:1:703685:720194:-1 gene:ENSG00000230021 gene_biotype:lincRNA transcript_biotype:lincRNA // chr1 // 100 // 100 // 6 // 6 // 0 /// ENST00000420830 // ENSEMBL // havana:known chromosome:GRCh38:1:243031272:243047869:-1 gene:ENSG00000231512 gene_biotype:lincRNA transcript_biotype:lincRNA // chr1 // 83 // 100 // 5 // 6 // 0 /// ENST00000428915 // ENSEMBL // havana:known chromosome:GRCh38:10:38453181:38466176:1 gene:ENSG00000203496 gene_biotype:lincRNA transcript_biotype:lincRNA // chr1 // 100 // 100 // 6 // 6 // 0 /// ENST00000439401 // ENSEMBL // havana:known chromosome:GRCh38:3:198228194:198228376:1 gene:ENSG00000226008 gene_biotype:unprocessed_pseudogene transcript_biotype:unprocessed_pseudogene // chr1 // 100 // 100 // 6 // 6 // 0 /// ENST00000440200 // ENSEMBL // havana:known chromosome:GRCh38:1:601436:720200:-1 gene:ENSG00000230021 gene_biotype:lincRNA transcript_biotype:lincRNA // chr1 // 100 // 100 // 6 // 6 // 0 /// ENST00000441245 // ENSEMBL // havana:known chromosome:GRCh38:1:701936:720150:-1 gene:ENSG00000230021 gene_biotype:lincRNA transcript_biotype:lincRNA // chr1 // 100 // 67 // 4 // 4 // 0 /// ENST00000445840 // ENSEMBL // havana:known chromosome:GRCh38:1:485032:485211:-1 gene:ENSG00000224813 gene_biotype:transcribed_unprocessed_pseudogene transcript_biotype:transcribed_unprocessed_pseudogene // chr1 // 100 // 100 // 6 // 6 // 0 /// ENST00000447954 // ENSEMBL // havana:known chromosome:GRCh38:1:720058:724550:-1 gene:ENSG00000230021 gene_biotype:lincRNA transcript_biotype:lincRNA // chr1 // 83 // 100 // 5 // 6 // 0 /// ENST00000450226 // ENSEMBL // havana:known chromosome:GRCh38:1:243038914:243047875:-1 gene:ENSG00000231512 gene_biotype:lincRNA transcript_biotype:lincRNA // chr1 // 83 // 100 // 5 // 6 // 0 /// ENST00000453405 // ENSEMBL // havana:known chromosome:GRCh38:2:242122287:242122469:1 gene:ENSG00000244528 gene_biotype:processed_pseudogene transcript_biotype:processed_pseudogene // chr1 // 100 // 100 // 6 // 6 // 0 /// ENST00000477740 // ENSEMBL // havana:known chromosome:GRCh38:1:92230:129217:-1 gene:ENSG00000238009 gene_biotype:lincRNA transcript_biotype:lincRNA // chr1 // 83 // 100 // 5 // 6 // 0 /// ENST00000508026 // ENSEMBL // havana:known chromosome:GRCh38:8:200385:200562:-1 gene:ENSG00000255464 gene_biotype:processed_pseudogene transcript_biotype:processed_pseudogene // chr1 // 100 // 100 // 6 // 6 // 0 /// ENST00000509192 // ENSEMBL // havana:known chromosome:GRCh38:5:181329241:181342213:1 gene:ENSG00000250765 gene_biotype:lincRNA transcript_biotype:lincRNA // chr1 // 100 // 100 // 6 // 6 // 0 /// ENST00000513445 // ENSEMBL // havana:known chromosome:GRCh38:4:118640673:118640858:1 gene:ENSG00000251155 gene_biotype:processed_pseudogene transcript_biotype:processed_pseudogene // chr1 // 83 // 100 // 5 // 6 // 0 /// ENST00000523795 // ENSEMBL // havana:known chromosome:GRCh38:8:192091:200563:-1 gene:ENSG00000250210 gene_biotype:protein_coding transcript_biotype:protein_coding // chr1 // 100 // 100 // 6 // 6 // 0 /// ENST00000529266 // ENSEMBL // havana:known chromosome:GRCh38:11:121279:125784:-1 gene:ENSG00000254468 gene_biotype:lincRNA transcript_biotype:lincRNA // chr1 // 100 // 100 // 6 // 6 // 0 /// ENST00000587432 // ENSEMBL // havana:known chromosome:GRCh38:19:191212:195696:-1 gene:ENSG00000267237 gene_biotype:transcribed_unprocessed_pseudogene transcript_biotype:processed_transcript // chr1 // 83 // 100 // 5 // 6 // 0 /// ENST00000610542 // ENSEMBL // ensembl:known chromosome:GRCh38:1:120725:133723:-1 gene:ENSG00000238009 gene_biotype:lincRNA transcript_biotype:lincRNA // chr1 // 83 // 100 // 5 // 6 // 0 /// ENST00000612088 // ENSEMBL // ensembl:known chromosome:GRCh38:10:38453181:38466176:1 gene:ENSG00000203496 gene_biotype:lincRNA transcript_biotype:lincRNA // chr1 // 100 // 100 // 6 // 6 // 0 /// ENST00000612214 // ENSEMBL // havana:known chromosome:GRCh38:19:186371:191429:-1 gene:ENSG00000267237 gene_biotype:transcribed_unprocessed_pseudogene transcript_biotype:processed_transcript // chr1 // 100 // 100 // 6 // 6 // 0 /// ENST00000613471 // ENSEMBL // ensembl:known chromosome:GRCh38:1:476738:489710:-1 gene:ENSG00000237094 gene_biotype:lincRNA transcript_biotype:lincRNA // chr1 // 100 // 100 // 6 // 6 // 0 /// ENST00000615295 // ENSEMBL // ensembl:known chromosome:GRCh38:5:181329241:181342213:1 gene:ENSG00000250765 gene_biotype:lincRNA transcript_biotype:lincRNA // chr1 // 100 // 100 // 6 // 6 // 0 /// ENST00000616585 // ENSEMBL // ensembl:known chromosome:GRCh38:1:711715:724707:-1 gene:ENSG00000230021 gene_biotype:lincRNA transcript_biotype:lincRNA // chr1 // 100 // 100 // 6 // 6 // 0 /// ENST00000618096 // ENSEMBL // havana:known chromosome:GRCh38:19:191178:191354:-1 gene:ENSG00000267237 gene_biotype:transcribed_unprocessed_pseudogene transcript_biotype:transcribed_unprocessed_pseudogene // chr1 // 100 // 100 // 6 // 6 // 0 /// ENST00000618222 // ENSEMBL // ensembl:known chromosome:GRCh38:6:131910:144885:-1 gene:ENSG00000170590 gene_biotype:lincRNA transcript_biotype:lincRNA // chr1 // 100 // 100 // 6 // 6 // 0 /// ENST00000622435 // ENSEMBL // havana:known chromosome:GRCh38:2:242088684:242159382:1 gene:ENSG00000220804 gene_biotype:transcribed_unprocessed_pseudogene transcript_biotype:processed_transcript // chr1 // 100 // 100 // 6 // 6 // 0 /// ENST00000622626 // ENSEMBL // ensembl:known chromosome:GRCh38:11:112967:125927:-1 gene:ENSG00000254468 gene_biotype:lincRNA transcript_biotype:lincRNA // chr1 // 100 // 100 // 6 // 6 // 0 /// GENSCAN00000007486 // ENSEMBL // cdna:genscan chromosome:GRCh38:2:242089132:242175655:1 transcript_biotype:protein_coding // chr1 // 100 // 100 // 6 // 6 // 0 /// GENSCAN00000023775 // ENSEMBL // cdna:genscan chromosome:GRCh38:7:45812479:45856081:1 transcript_biotype:protein_coding // chr1 // 100 // 100 // 6 // 6 // 0 /// GENSCAN00000045845 // ENSEMBL // cdna:genscan chromosome:GRCh38:8:166086:213433:-1 transcript_biotype:protein_coding // chr1 // 100 // 100 // 6 // 6 // 0 /// BC071667 // GenBank HTC // Homo sapiens cDNA clone IMAGE:4384656, **** WARNING: chimeric clone ****. // chr1 // 100 // 100 // 6 // 6 // 0 /// NONHSAT000053 // NONCODE // Non-coding transcript identified by NONCODE: Sense No Exonic // chr1 // 100 // 100 // 6 // 6 // 0 /// NONHSAT000055 // NONCODE // Non-coding transcript identified by NONCODE: Sense No Exonic // chr1 // 100 // 100 // 6 // 6 // 0 /// NONHSAT000063 // NONCODE // Non-coding transcript identified by NONCODE: Sense No Exonic // chr1 // 83 // 100 // 5 // 6 // 0 /// NONHSAT000064 // NONCODE // Non-coding transcript identified by NONCODE // chr1 // 100 // 100 // 6 // 6 // 0 /// NONHSAT000065 // NONCODE // Non-coding transcript identified by NONCODE: Sense No Exonic // chr1 // 100 // 100 // 6 // 6 // 0 /// NONHSAT000086 // NONCODE // Non-coding transcript identified by NONCODE: Sense No Exonic // chr1 // 100 // 100 // 6 // 6 // 0 /// NONHSAT000097 // NONCODE // Non-coding transcript identified by NONCODE: Sense No Exonic // chr1 // 100 // 67 // 4 // 4 // 0 /// NONHSAT000098 // NONCODE // Non-coding transcript identified by NONCODE: Sense No Exonic // chr1 // 83 // 100 // 5 // 6 // 0 /// NONHSAT010578 // NONCODE // Non-coding transcript identified by NONCODE: Linc // chr1 // 83 // 100 // 5 // 6 // 0 /// NONHSAT012829 // NONCODE // Non-coding transcript identified by NONCODE: Linc // chr1 // 100 // 100 // 6 // 6 // 0 /// NONHSAT017180 // NONCODE // Non-coding transcript identified by NONCODE: Linc // chr1 // 100 // 100 // 6 // 6 // 0 /// NONHSAT060112 // NONCODE // Non-coding transcript identified by NONCODE: Linc // chr1 // 100 // 100 // 6 // 6 // 0 /// NONHSAT078034 // NONCODE // Non-coding transcript identified by NONCODE: Linc // chr1 // 100 // 100 // 6 // 6 // 0 /// NONHSAT078035 // NONCODE // Non-coding transcript identified by NONCODE: Linc // chr1 // 100 // 100 // 6 // 6 // 0 /// NONHSAT078039 // NONCODE // Non-coding transcript identified by NONCODE // chr1 // 100 // 100 // 6 // 6 // 0 /// NONHSAT078040 // NONCODE // Non-coding transcript identified by NONCODE: Linc // chr1 // 100 // 100 // 6 // 6 // 0 /// NONHSAT078041 // NONCODE // Non-coding transcript identified by NONCODE: Linc // chr1 // 100 // 100 // 6 // 6 // 0 /// NONHSAT081035 // NONCODE // Non-coding transcript identified by NONCODE: Linc // chr1 // 100 // 100 // 6 // 6 // 0 /// NONHSAT081036 // NONCODE // Non-coding transcript identified by NONCODE: Linc // chr1 // 100 // 100 // 6 // 6 // 0 /// NONHSAT094494 // NONCODE // Non-coding transcript identified by NONCODE: Linc // chr1 // 100 // 100 // 6 // 6 // 0 /// NONHSAT094497 // NONCODE // Non-coding transcript identified by NONCODE // chr1 // 100 // 100 // 6 // 6 // 0 /// NONHSAT098010 // NONCODE // Non-coding transcript identified by NONCODE // chr1 // 83 // 100 // 5 // 6 // 0 /// NONHSAT105956 // NONCODE // Non-coding transcript identified by NONCODE: Linc // chr1 // 100 // 100 // 6 // 6 // 0 /// NONHSAT105968 // NONCODE // Non-coding transcript identified by NONCODE: Linc // chr1 // 100 // 100 // 6 // 6 // 0 /// NONHSAT120472 // NONCODE // Non-coding transcript identified by NONCODE: Linc // chr1 // 83 // 100 // 5 // 6 // 0 /// NONHSAT124571 // NONCODE // Non-coding transcript identified by NONCODE // chr1 // 100 // 100 // 6 // 6 // 0 /// TCONS_l2_00001800-XLOC_l2_001331 // Broad TUCP // linc-TP53BP2-4 chr1:-:224133091-224222680 // chr1 // 100 // 100 // 6 // 6 // 0 /// TCONS_l2_00001926-XLOC_l2_000004 // Broad TUCP // linc-OR4F16-1 chr1:+:329783-334271 // chr1 // 83 // 100 // 5 // 6 // 0 /// TCONS_l2_00001927-XLOC_l2_000004 // Broad TUCP // linc-OR4F16-1 chr1:+:334139-342806 // chr1 // 100 // 100 // 6 // 6 // 0 /// TCONS_l2_00002370-XLOC_l2_000720 // Broad TUCP // linc-ZNF692-5 chr1:-:92229-129217 // chr1 // 83 // 100 // 5 // 6 // 0 /// TCONS_l2_00002386-XLOC_l2_000726 // Broad TUCP // linc-OR4F29-1 chr1:-:637315-655530 // chr1 // 100 // 67 // 4 // 4 // 0 /// TCONS_l2_00002387-XLOC_l2_000726 // Broad TUCP // linc-OR4F29-1 chr1:-:639064-655574 // chr1 // 100 // 100 // 6 // 6 // 0 /// TCONS_l2_00002388-XLOC_l2_000726 // Broad TUCP // linc-OR4F29-1 chr1:-:646721-655580 // chr1 // 100 // 100 // 6 // 6 // 0 /// TCONS_l2_00002389-XLOC_l2_000726 // Broad TUCP // linc-OR4F29-1 chr1:-:655437-659930 // chr1 // 83 // 100 // 5 // 6 // 0 /// TCONS_l2_00002812-XLOC_l2_001398 // Broad TUCP // linc-PLD5-4 chr1:-:243194573-243211171 // chr1 // 83 // 100 // 5 // 6 // 0 /// TCONS_l2_00003949-XLOC_l2_001561 // Broad TUCP // linc-BMS1-9 chr10:+:38742108-38755311 // chr1 // 100 // 100 // 6 // 6 // 0 /// TCONS_l2_00003950-XLOC_l2_001561 // Broad TUCP // linc-BMS1-9 chr10:+:38742265-38764837 // chr1 // 100 // 100 // 6 // 6 // 0 /// TCONS_l2_00014349-XLOC_l2_007835 // Broad TUCP // linc-ORC6-14 chr2:+:243030831-243101574 // chr1 // 100 // 100 // 6 // 6 // 0 /// TCONS_l2_00014350-XLOC_l2_007835 // Broad TUCP // linc-ORC6-14 chr2:+:243030855-243102147 // chr1 // 100 // 100 // 6 // 6 // 0 /// TCONS_l2_00014351-XLOC_l2_007835 // Broad TUCP // linc-ORC6-14 chr2:+:243030868-243101569 // chr1 // 100 // 100 // 6 // 6 // 0 /// TCONS_l2_00014352-XLOC_l2_007835 // Broad TUCP // linc-ORC6-14 chr2:+:243030886-243064759 // chr1 // 100 // 100 // 6 // 6 // 0 /// TCONS_l2_00014354-XLOC_l2_007835 // Broad TUCP // linc-ORC6-14 chr2:+:243030931-243067562 // chr1 // 100 // 100 // 6 // 6 // 0 /// TCONS_l2_00014355-XLOC_l2_007835 // Broad TUCP // linc-ORC6-14 chr2:+:243030941-243102157 // chr1 // 100 // 100 // 6 // 6 // 0 /// TCONS_l2_00014357-XLOC_l2_007835 // Broad TUCP // linc-ORC6-14 chr2:+:243037045-243101538 // chr1 // 100 // 100 // 6 // 6 // 0 /// TCONS_l2_00014358-XLOC_l2_007835 // Broad TUCP // linc-ORC6-14 chr2:+:243058329-243064628 // chr1 // 100 // 100 // 6 // 6 // 0 /// TCONS_l2_00015637-XLOC_l2_007835 // Broad TUCP // linc-ORC6-14 chr2:+:243030783-243082789 // chr1 // 100 // 100 // 6 // 6 // 0 /// TCONS_l2_00015638-XLOC_l2_007835 // Broad TUCP // linc-ORC6-14 chr2:+:243030843-243065243 // chr1 // 100 // 100 // 6 // 6 // 0 /// TCONS_l2_00015639-XLOC_l2_007835 // Broad TUCP // linc-ORC6-14 chr2:+:243030843-243102469 // chr1 // 100 // 100 // 6 // 6 // 0 /// TCONS_l2_00015640-XLOC_l2_007835 // Broad TUCP // linc-ORC6-14 chr2:+:243030843-243102469 // chr1 // 100 // 100 // 6 // 6 // 0 /// TCONS_l2_00015641-XLOC_l2_007835 // Broad TUCP // linc-ORC6-14 chr2:+:243030843-243102469 // chr1 // 100 // 100 // 6 // 6 // 0 /// TCONS_l2_00015643-XLOC_l2_007835 // Broad TUCP // linc-ORC6-14 chr2:+:243064443-243081039 // chr1 // 100 // 100 // 6 // 6 // 0 /// TCONS_l2_00016828-XLOC_l2_008724 // Broad TUCP // linc-HNF1B-4 chr20:+:62921737-62934707 // chr1 // 100 // 100 // 6 // 6 // 0 /// TCONS_l2_00020055-XLOC_l2_010084 // Broad TUCP // linc-MCMBP-2 chr3:+:197937115-197955676 // chr1 // 100 // 100 // 6 // 6 // 0 /// TCONS_l2_00025304-XLOC_l2_012836 // Broad TUCP // linc-PDCD2-1 chr6:-:131909-144885 // chr1 // 100 // 100 // 6 // 6 // 0 /// TCONS_l2_00025849-XLOC_l2_013383 // Broad TUCP // linc-IGFBP1-1 chr7:+:45831387-45863181 // chr1 // 100 // 100 // 6 // 6 // 0 /// TCONS_l2_00025850-XLOC_l2_013383 // Broad TUCP // linc-IGFBP1-1 chr7:+:45836951-45863174 // chr1 // 100 // 100 // 6 // 6 // 0 /// ENST00000437691 // ENSEMBL // havana:known chromosome:GRCh38:1:243047737:243052252:-1 gene:ENSG00000231512 gene_biotype:lincRNA transcript_biotype:lincRNA // chr1 // 67 // 100 // 4 // 6 // 0 /// ENST00000447236 // ENSEMBL // havana:known chromosome:GRCh38:7:56360362:56360541:-1 gene:ENSG00000231299 gene_biotype:unprocessed_pseudogene transcript_biotype:unprocessed_pseudogene // chr1 // 50 // 100 // 3 // 6 // 0 /// ENST00000453576 // ENSEMBL // havana:known chromosome:GRCh38:1:129081:133566:-1 gene:ENSG00000238009 gene_biotype:lincRNA transcript_biotype:lincRNA // chr1 // 67 // 100 // 4 // 6 // 0 /// ENST00000611754 // ENSEMBL // ensembl:known chromosome:GRCh38:Y:25378671:25391610:-1 gene:ENSG00000228786 gene_biotype:lincRNA transcript_biotype:lincRNA // chr1 // 67 // 100 // 4 // 6 // 0 /// ENST00000617978 // ENSEMBL // havana:known chromosome:GRCh38:1:227980051:227980227:1 gene:ENSG00000274886 gene_biotype:unprocessed_pseudogene transcript_biotype:unprocessed_pseudogene // chr1 // 67 // 100 // 4 // 6 // 0 /// ENST00000621799 // ENSEMBL // ensembl:known chromosome:GRCh38:16:90173217:90186204:1 gene:ENSG00000260528 gene_biotype:processed_transcript transcript_biotype:processed_transcript // chr1 // 67 // 100 // 4 // 6 // 0 /// NONHSAT000022 // NONCODE // Non-coding transcript identified by NONCODE: Linc // chr1 // 67 // 100 // 4 // 6 // 0 /// NONHSAT010579 // NONCODE // Non-coding transcript identified by NONCODE: Linc // chr1 // 67 // 100 // 4 // 6 // 0 /// NONHSAT010580 // NONCODE // Non-coding transcript identified by NONCODE: Linc // chr1 // 67 // 100 // 4 // 6 // 0 /// NONHSAT120743 // NONCODE // Non-coding transcript identified by NONCODE // chr1 // 50 // 100 // 3 // 6 // 0 /// NONHSAT139746 // NONCODE // Non-coding transcript identified by NONCODE: Linc // chr1 // 67 // 100 // 4 // 6 // 0 /// NONHSAT144650 // NONCODE // Non-coding transcript identified by NONCODE: Linc // chr1 // 67 // 100 // 4 // 6 // 0 /// NONHSAT144655 // NONCODE // Non-coding transcript identified by NONCODE: Linc // chr1 // 67 // 100 // 4 // 6 // 0 /// TCONS_l2_00002372-XLOC_l2_000720 // Broad TUCP // linc-ZNF692-5 chr1:-:129080-133566 // chr1 // 67 // 100 // 4 // 6 // 0 /// TCONS_l2_00002813-XLOC_l2_001398 // Broad TUCP // linc-PLD5-4 chr1:-:243202215-243211826 // chr1 // 67 // 100 // 4 // 6 // 0 /// TCONS_l2_00002814-XLOC_l2_001398 // Broad TUCP // linc-PLD5-4 chr1:-:243211038-243215554 // chr1 // 67 // 100 // 4 // 6 // 0 /// TCONS_l2_00010440-XLOC_l2_005352 // Broad TUCP // linc-RBM11-5 chr16:+:90244124-90289080 // chr1 // 67 // 100 // 4 // 6 // 0 /// TCONS_l2_00031062-XLOC_l2_015962 // Broad TUCP // linc-BPY2B-4 chrY:-:27524446-27540866 // chr1 // 67 // 100 // 4 // 6 // 0', 'NM_001005221 // RefSeq // Homo sapiens olfactory receptor, family 4, subfamily F, member 29 (OR4F29), mRNA. // chr1 // 100 // 100 // 36 // 36 // 0 /// NM_001005224 // RefSeq // Homo sapiens olfactory receptor, family 4, subfamily F, member 3 (OR4F3), mRNA. // chr1 // 100 // 100 // 36 // 36 // 0 /// NM_001005277 // RefSeq // Homo sapiens olfactory receptor, family 4, subfamily F, member 16 (OR4F16), mRNA. // chr1 // 100 // 100 // 36 // 36 // 0 /// NM_001005504 // RefSeq // Homo sapiens olfactory receptor, family 4, subfamily F, member 21 (OR4F21), mRNA. // chr1 // 89 // 100 // 32 // 36 // 0 /// ENST00000320901 // ENSEMBL // ensembl_havana_transcript:known chromosome:GRCh38:8:166049:167043:-1 gene:ENSG00000176269 gene_biotype:protein_coding transcript_biotype:protein_coding // chr1 // 89 // 100 // 32 // 36 // 0 /// ENST00000332831 // ENSEMBL // ensembl_havana_transcript:known chromosome:GRCh38:1:685716:686654:-1 gene:ENSG00000273547 gene_biotype:protein_coding transcript_biotype:protein_coding gene:ENSG00000185097 // chr1 // 100 // 100 // 36 // 36 // 0 /// ENST00000402444 // ENSEMBL // havana:known chromosome:GRCh38:6:170639606:170640536:1 gene:ENSG00000217874 gene_biotype:unprocessed_pseudogene transcript_biotype:unprocessed_pseudogene // chr1 // 78 // 100 // 28 // 36 // 0 /// ENST00000405102 // ENSEMBL // havana:known chromosome:GRCh38:6:105919:106856:-1 gene:ENSG00000220212 gene_biotype:unprocessed_pseudogene transcript_biotype:unprocessed_pseudogene // chr1 // 81 // 100 // 29 // 36 // 0 /// ENST00000424047 // ENSEMBL // havana:known chromosome:GRCh38:11:86649:87586:-1 gene:ENSG00000224777 gene_biotype:unprocessed_pseudogene transcript_biotype:unprocessed_pseudogene // chr1 // 78 // 100 // 28 // 36 // 0 /// ENST00000426406 // ENSEMBL // ensembl_havana_transcript:known chromosome:GRCh38:1:450740:451678:-1 gene:ENSG00000278566 gene_biotype:protein_coding transcript_biotype:protein_coding gene:ENSG00000235249 // chr1 // 100 // 100 // 36 // 36 // 0 /// ENST00000456475 // ENSEMBL // ensembl_havana_transcript:known chromosome:GRCh38:5:181367268:181368262:1 gene:ENSG00000230178 gene_biotype:protein_coding transcript_biotype:protein_coding // chr1 // 100 // 100 // 36 // 36 // 0 /// ENST00000559128 // ENSEMBL // havana:known chromosome:GRCh38:15:101875964:101876901:1 gene:ENSG00000257109 gene_biotype:unprocessed_pseudogene transcript_biotype:unprocessed_pseudogene // chr1 // 83 // 100 // 30 // 36 // 0 /// BC137547 // GenBank // Homo sapiens olfactory receptor, family 4, subfamily F, member 3, mRNA (cDNA clone MGC:169170 IMAGE:9021547), complete cds. // chr1 // 100 // 100 // 36 // 36 // 0 /// BC137568 // GenBank // Homo sapiens olfactory receptor, family 4, subfamily F, member 3, mRNA (cDNA clone MGC:169191 IMAGE:9021568), complete cds. // chr1 // 100 // 100 // 36 // 36 // 0 /// ENST00000589943 // ENSEMBL // havana:known chromosome:GRCh38:19:156279:157215:-1 gene:ENSG00000266971 gene_biotype:unprocessed_pseudogene transcript_biotype:unprocessed_pseudogene // chr1 // 72 // 100 // 26 // 36 // 0 /// GENSCAN00000011446 // ENSEMBL // cdna:genscan chromosome:GRCh38:5:181367527:181368225:1 transcript_biotype:protein_coding // chr1 // 100 // 64 // 23 // 23 // 0 /// GENSCAN00000017675 // ENSEMBL // cdna:genscan chromosome:GRCh38:1:685716:686414:-1 transcript_biotype:protein_coding // chr1 // 100 // 64 // 23 // 23 // 0 /// GENSCAN00000017679 // ENSEMBL // cdna:genscan chromosome:GRCh38:1:450740:451438:-1 transcript_biotype:protein_coding // chr1 // 100 // 64 // 23 // 23 // 0 /// GENSCAN00000045845 // ENSEMBL // cdna:genscan chromosome:GRCh38:8:166086:213433:-1 transcript_biotype:protein_coding // chr1 // 87 // 83 // 26 // 30 // 0 /// NONHSAT051700 // NONCODE // Non-coding transcript identified by NONCODE: Linc // chr1 // 83 // 100 // 30 // 36 // 0 /// NONHSAT051701 // NONCODE // Non-coding transcript identified by NONCODE: Linc // chr1 // 83 // 100 // 30 // 36 // 0 /// NONHSAT105966 // NONCODE // Non-coding transcript identified by NONCODE: Linc // chr1 // 81 // 100 // 29 // 36 // 0 /// NONHSAT060109 // NONCODE // Non-coding transcript identified by NONCODE: Linc // chr1 // 72 // 100 // 26 // 36 // 0'], 'category': ['main', 'main', 'main', 'main', 'main']}\n"
     ]
    }
   ],
   "source": [
    "if requires_gene_mapping:\n",
    "    gene_annotation = get_gene_annotation(soft_file)\n",
    "    gene_annotation_summary = preview_df(gene_annotation)\n",
    "    print(gene_annotation_summary)"
   ]
  },
  {
   "cell_type": "markdown",
   "metadata": {
    "ExecuteTime": {
     "end_time": "2023-12-31T03:58:04.978931927Z",
     "start_time": "2023-12-31T03:58:04.966328339Z"
    }
   },
   "source": [
    "Observe the first few cells in the ID column of the gene annotation dataframe, to find the names of columns that store the gene probe IDs and gene symbols respectively.\n",
    "Reference prompt:"
   ]
  },
  {
   "cell_type": "code",
   "execution_count": 24,
   "metadata": {
    "ExecuteTime": {
     "end_time": "2023-12-31T21:19:35.590742236Z",
     "start_time": "2023-12-31T21:19:35.537050893Z"
    }
   },
   "outputs": [
    {
     "data": {
      "text/plain": [
       "\"\\nAs a biomedical research team, we extracted the gene annotation data from a series in the GEO database, and saved it to a Python dictionary. Please read the dictionary, and decide which key stores the ID of the probe, and which key stores the gene symbols. Please strict follow this format in your answer:\\nprobe_id_key = key_name1\\ngene_symb_key = key_name2\\n\\nGene annotation dictionary:\\n{'ID': ['7896736', '7896738', '7896740', '7896742', '7896744'], 'GB_LIST': [nan, nan, 'NM_001004195,NM_001005240,NM_001005484,BC136848,BC136867,BC136907,BC136908', 'NR_024437,XM_006711854,XM_006726377,XR_430662,AK298283,AL137655,BC032332,BC118988,BC122537,BC131690,NM_207366,AK301928,BC071667', 'NM_001005221,NM_001005224,NM_001005277,NM_001005504,BC137547,BC137568'], 'SPOT_ID': ['chr1:53049-54936', 'chr1:63015-63887', 'chr1:69091-70008', 'chr1:334129-334296', 'chr1:367659-368597'], 'seqname': ['chr1', 'chr1', 'chr1', 'chr1', 'chr1'], 'RANGE_GB': ['NC_000001.10', 'NC_000001.10', 'NC_000001.10', 'NC_000001.10', 'NC_000001.10'], 'RANGE_STRAND': ['+', '+', '+', '+', '+'], 'RANGE_START': ['53049', '63015', '69091', '334129', '367659'], 'RANGE_STOP': ['54936', '63887', '70008', '334296', '368597'], 'total_probes': [7.0, 31.0, 24.0, 6.0, 36.0], 'gene_assignment': ['---', 'ENST00000328113 // OR4G2P // olfactory receptor, family 4, subfamily G, member 2 pseudogene // --- // --- /// ENST00000492842 // OR4G11P // olfactory receptor, family 4, subfamily G, member 11 pseudogene // --- // --- /// ENST00000588632 // OR4G1P // olfactory receptor, family 4, subfamily G, member 1 pseudogene // --- // ---', 'NM_001004195 // OR4F4 // olfactory receptor, family 4, subfamily F, member 4 // 15q26.3 // 26682 /// NM_001005240 // OR4F17 // olfactory receptor, family 4, subfamily F, member 17 // 19p13.3 // 81099 /// NM_001005484 // OR4F5 // olfactory receptor, family 4, subfamily F, member 5 // 1p36.33 // 79501 /// ENST00000318050 // OR4F17 // olfactory receptor, family 4, subfamily F, member 17 // 19p13.3 // 81099 /// ENST00000326183 // OR4F4 // olfactory receptor, family 4, subfamily F, member 4 // 15q26.3 // 26682 /// ENST00000335137 // OR4F5 // olfactory receptor, family 4, subfamily F, member 5 // 1p36.33 // 79501 /// ENST00000585993 // OR4F17 // olfactory receptor, family 4, subfamily F, member 17 // 19p13.3 // 81099 /// BC136848 // OR4F17 // olfactory receptor, family 4, subfamily F, member 17 // 19p13.3 // 81099 /// BC136867 // OR4F17 // olfactory receptor, family 4, subfamily F, member 17 // 19p13.3 // 81099 /// BC136907 // OR4F4 // olfactory receptor, family 4, subfamily F, member 4 // 15q26.3 // 26682 /// BC136908 // OR4F4 // olfactory receptor, family 4, subfamily F, member 4 // 15q26.3 // 26682', 'NR_024437 // LOC728323 // uncharacterized LOC728323 // 2q37.3 // 728323 /// XM_006711854 // LOC101060626 // F-box only protein 25-like // --- // 101060626 /// XM_006726377 // LOC101060626 // F-box only protein 25-like // --- // 101060626 /// XR_430662 // LOC101927097 // uncharacterized LOC101927097 // --- // 101927097 /// ENST00000279067 // LINC00266-1 // long intergenic non-protein coding RNA 266-1 // 20q13.33 // 140849 /// ENST00000431812 // LOC101928706 // uncharacterized LOC101928706 // --- // 101928706 /// ENST00000431812 // LOC101929823 // uncharacterized LOC101929823 // --- // 101929823 /// ENST00000433444 // LOC728323 // uncharacterized LOC728323 // 2q37.3 // 728323 /// ENST00000436899 // LINC00266-3 // long intergenic non-protein coding RNA 266-3 // --- // --- /// ENST00000445252 // LINC00266-1 // long intergenic non-protein coding RNA 266-1 // 20q13.33 // 140849 /// ENST00000455207 // LOC101928706 // uncharacterized LOC101928706 // --- // 101928706 /// ENST00000455207 // LOC101929823 // uncharacterized LOC101929823 // --- // 101929823 /// ENST00000455464 // LOC101928706 // uncharacterized LOC101928706 // --- // 101928706 /// ENST00000455464 // LOC101929823 // uncharacterized LOC101929823 // --- // 101929823 /// ENST00000456398 // LOC728323 // uncharacterized LOC728323 // 2q37.3 // 728323 /// ENST00000601814 // LOC101928706 // uncharacterized LOC101928706 // --- // 101928706 /// ENST00000601814 // LOC101929823 // uncharacterized LOC101929823 // --- // 101929823 /// AK298283 // LOC728323 // uncharacterized LOC728323 // 2q37.3 // 728323 /// AL137655 // LOC100134822 // uncharacterized LOC100134822 // --- // 100134822 /// BC032332 // PCMTD2 // protein-L-isoaspartate (D-aspartate) O-methyltransferase domain containing 2 // 20q13.33 // 55251 /// BC118988 // LINC00266-1 // long intergenic non-protein coding RNA 266-1 // 20q13.33 // 140849 /// BC122537 // LINC00266-1 // long intergenic non-protein coding RNA 266-1 // 20q13.33 // 140849 /// BC131690 // LOC728323 // uncharacterized LOC728323 // 2q37.3 // 728323 /// NM_207366 // SEPT14 // septin 14 // 7p11.2 // 346288 /// ENST00000388975 // SEPT14 // septin 14 // 7p11.2 // 346288 /// ENST00000427373 // LINC00266-4P // long intergenic non-protein coding RNA 266-4, pseudogene // --- // --- /// ENST00000431796 // LOC728323 // uncharacterized LOC728323 // 2q37.3 // 728323 /// ENST00000509776 // LINC00266-2P // long intergenic non-protein coding RNA 266-2, pseudogene // --- // --- /// ENST00000570230 // LOC101929008 // uncharacterized LOC101929008 // --- // 101929008 /// ENST00000570230 // LOC101929038 // uncharacterized LOC101929038 // --- // 101929038 /// ENST00000570230 // LOC101930130 // uncharacterized LOC101930130 // --- // 101930130 /// ENST00000570230 // LOC101930567 // uncharacterized LOC101930567 // --- // 101930567 /// AK301928 // SEPT14 // septin 14 // 7p11.2 // 346288', 'NM_001005221 // OR4F29 // olfactory receptor, family 4, subfamily F, member 29 // 1p36.33 // 729759 /// NM_001005224 // OR4F3 // olfactory receptor, family 4, subfamily F, member 3 // 5q35.3 // 26683 /// NM_001005277 // OR4F16 // olfactory receptor, family 4, subfamily F, member 16 // 1p36.33 // 81399 /// NM_001005504 // OR4F21 // olfactory receptor, family 4, subfamily F, member 21 // 8p23.3 // 441308 /// ENST00000320901 // OR4F21 // olfactory receptor, family 4, subfamily F, member 21 // 8p23.3 // 441308 /// ENST00000332831 // OR4F3 // olfactory receptor, family 4, subfamily F, member 3 // 5q35.3 // 26683 /// ENST00000332831 // OR4F16 // olfactory receptor, family 4, subfamily F, member 16 // 1p36.33 // 81399 /// ENST00000332831 // OR4F29 // olfactory receptor, family 4, subfamily F, member 29 // 1p36.33 // 729759 /// ENST00000402444 // OR4F7P // olfactory receptor, family 4, subfamily F, member 7 pseudogene // --- // --- /// ENST00000405102 // OR4F1P // olfactory receptor, family 4, subfamily F, member 1 pseudogene // --- // --- /// ENST00000424047 // OR4F2P // olfactory receptor, family 4, subfamily F, member 2 pseudogene // --- // --- /// ENST00000426406 // OR4F3 // olfactory receptor, family 4, subfamily F, member 3 // 5q35.3 // 26683 /// ENST00000426406 // OR4F16 // olfactory receptor, family 4, subfamily F, member 16 // 1p36.33 // 81399 /// ENST00000426406 // OR4F29 // olfactory receptor, family 4, subfamily F, member 29 // 1p36.33 // 729759 /// ENST00000456475 // OR4F3 // olfactory receptor, family 4, subfamily F, member 3 // 5q35.3 // 26683 /// ENST00000456475 // OR4F16 // olfactory receptor, family 4, subfamily F, member 16 // 1p36.33 // 81399 /// ENST00000456475 // OR4F29 // olfactory receptor, family 4, subfamily F, member 29 // 1p36.33 // 729759 /// ENST00000559128 // OR4F28P // olfactory receptor, family 4, subfamily F, member 28 pseudogene // --- // --- /// BC137547 // OR4F3 // olfactory receptor, family 4, subfamily F, member 3 // 5q35.3 // 26683 /// BC137547 // OR4F16 // olfactory receptor, family 4, subfamily F, member 16 // 1p36.33 // 81399 /// BC137547 // OR4F29 // olfactory receptor, family 4, subfamily F, member 29 // 1p36.33 // 729759 /// BC137568 // OR4F3 // olfactory receptor, family 4, subfamily F, member 3 // 5q35.3 // 26683 /// BC137568 // OR4F16 // olfactory receptor, family 4, subfamily F, member 16 // 1p36.33 // 81399 /// BC137568 // OR4F29 // olfactory receptor, family 4, subfamily F, member 29 // 1p36.33 // 729759 /// ENST00000589943 // OR4F8P // olfactory receptor, family 4, subfamily F, member 8 pseudogene // --- // ---'], 'mrna_assignment': ['NONHSAT060105 // NONCODE // Non-coding transcript identified by NONCODE // chr1 // 100 // 100 // 7 // 7 // 0', 'ENST00000328113 // ENSEMBL // havana:known chromosome:GRCh38:15:101926805:101927707:-1 gene:ENSG00000183909 gene_biotype:unprocessed_pseudogene transcript_biotype:unprocessed_pseudogene // chr1 // 100 // 100 // 31 // 31 // 0 /// ENST00000492842 // ENSEMBL // havana:known chromosome:GRCh38:1:62948:63887:1 gene:ENSG00000240361 gene_biotype:unprocessed_pseudogene transcript_biotype:unprocessed_pseudogene // chr1 // 100 // 100 // 31 // 31 // 0 /// ENST00000588632 // ENSEMBL // havana:known chromosome:GRCh38:19:104535:105471:1 gene:ENSG00000267310 gene_biotype:unprocessed_pseudogene transcript_biotype:unprocessed_pseudogene // chr1 // 100 // 100 // 31 // 31 // 0 /// NONHSAT000016 // NONCODE // Non-coding transcript identified by NONCODE: Linc // chr1 // 100 // 100 // 31 // 31 // 0 /// NONHSAT051704 // NONCODE // Non-coding transcript identified by NONCODE: Linc // chr1 // 100 // 100 // 31 // 31 // 0 /// NONHSAT060106 // NONCODE // Non-coding transcript identified by NONCODE: Linc // chr1 // 100 // 100 // 31 // 31 // 0', 'NM_001004195 // RefSeq // Homo sapiens olfactory receptor, family 4, subfamily F, member 4 (OR4F4), mRNA. // chr1 // 100 // 100 // 24 // 24 // 0 /// NM_001005240 // RefSeq // Homo sapiens olfactory receptor, family 4, subfamily F, member 17 (OR4F17), mRNA. // chr1 // 100 // 100 // 24 // 24 // 0 /// NM_001005484 // RefSeq // Homo sapiens olfactory receptor, family 4, subfamily F, member 5 (OR4F5), mRNA. // chr1 // 100 // 100 // 24 // 24 // 0 /// ENST00000318050 // ENSEMBL // ensembl:known chromosome:GRCh38:19:110643:111696:1 gene:ENSG00000176695 gene_biotype:protein_coding transcript_biotype:protein_coding // chr1 // 100 // 100 // 24 // 24 // 0 /// ENST00000326183 // ENSEMBL // ensembl_havana_transcript:known chromosome:GRCh38:15:101922042:101923095:-1 gene:ENSG00000177693 gene_biotype:protein_coding transcript_biotype:protein_coding // chr1 // 100 // 100 // 24 // 24 // 0 /// ENST00000335137 // ENSEMBL // ensembl_havana_transcript:known chromosome:GRCh38:1:69091:70008:1 gene:ENSG00000186092 gene_biotype:protein_coding transcript_biotype:protein_coding // chr1 // 100 // 100 // 24 // 24 // 0 /// ENST00000585993 // ENSEMBL // havana:known chromosome:GRCh38:19:107461:111696:1 gene:ENSG00000176695 gene_biotype:protein_coding transcript_biotype:protein_coding // chr1 // 100 // 100 // 24 // 24 // 0 /// BC136848 // GenBank // Homo sapiens olfactory receptor, family 4, subfamily F, member 17, mRNA (cDNA clone MGC:168462 IMAGE:9020839), complete cds. // chr1 // 100 // 100 // 24 // 24 // 0 /// BC136867 // GenBank // Homo sapiens olfactory receptor, family 4, subfamily F, member 17, mRNA (cDNA clone MGC:168481 IMAGE:9020858), complete cds. // chr1 // 100 // 100 // 24 // 24 // 0 /// BC136907 // GenBank // Homo sapiens olfactory receptor, family 4, subfamily F, member 4, mRNA (cDNA clone MGC:168521 IMAGE:9020898), complete cds. // chr1 // 100 // 100 // 24 // 24 // 0 /// BC136908 // GenBank // Homo sapiens olfactory receptor, family 4, subfamily F, member 4, mRNA (cDNA clone MGC:168522 IMAGE:9020899), complete cds. // chr1 // 100 // 100 // 24 // 24 // 0 /// ENST00000618231 // ENSEMBL // havana:known chromosome:GRCh38:19:110613:111417:1 gene:ENSG00000176695 gene_biotype:protein_coding transcript_biotype:retained_intron // chr1 // 100 // 88 // 21 // 21 // 0', 'NR_024437 // RefSeq // Homo sapiens uncharacterized LOC728323 (LOC728323), long non-coding RNA. // chr1 // 100 // 100 // 6 // 6 // 0 /// XM_006711854 // RefSeq // PREDICTED: Homo sapiens F-box only protein 25-like (LOC101060626), partial mRNA. // chr1 // 100 // 100 // 6 // 6 // 0 /// XM_006726377 // RefSeq // PREDICTED: Homo sapiens F-box only protein 25-like (LOC101060626), partial mRNA. // chr1 // 100 // 100 // 6 // 6 // 0 /// XR_430662 // RefSeq // PREDICTED: Homo sapiens uncharacterized LOC101927097 (LOC101927097), misc_RNA. // chr1 // 100 // 100 // 6 // 6 // 0 /// ENST00000279067 // ENSEMBL // ensembl_havana_transcript:known chromosome:GRCh38:20:64290385:64303559:1 gene:ENSG00000149656 gene_biotype:processed_transcript transcript_biotype:processed_transcript // chr1 // 100 // 100 // 6 // 6 // 0 /// ENST00000431812 // ENSEMBL // havana:known chromosome:GRCh38:1:485066:489553:-1 gene:ENSG00000237094 gene_biotype:lincRNA transcript_biotype:lincRNA // chr1 // 83 // 100 // 5 // 6 // 0 /// ENST00000433444 // ENSEMBL // havana:putative chromosome:GRCh38:2:242122293:242138888:1 gene:ENSG00000220804 gene_biotype:transcribed_unprocessed_pseudogene transcript_biotype:processed_transcript // chr1 // 100 // 100 // 6 // 6 // 0 /// ENST00000436899 // ENSEMBL // havana:known chromosome:GRCh38:6:131910:144885:-1 gene:ENSG00000170590 gene_biotype:lincRNA transcript_biotype:lincRNA // chr1 // 100 // 100 // 6 // 6 // 0 /// ENST00000445252 // ENSEMBL // havana:known chromosome:GRCh38:20:64294897:64311371:1 gene:ENSG00000149656 gene_biotype:processed_transcript transcript_biotype:processed_transcript // chr1 // 100 // 100 // 6 // 6 // 0 /// ENST00000455207 // ENSEMBL // havana:known chromosome:GRCh38:1:373182:485208:-1 gene:ENSG00000237094 gene_biotype:lincRNA transcript_biotype:lincRNA // chr1 // 100 // 100 // 6 // 6 // 0 /// ENST00000455464 // ENSEMBL // havana:known chromosome:GRCh38:1:476531:497259:-1 gene:ENSG00000237094 gene_biotype:lincRNA transcript_biotype:lincRNA // chr1 // 100 // 100 // 6 // 6 // 0 /// ENST00000456398 // ENSEMBL // havana:known chromosome:GRCh38:2:242088633:242140638:1 gene:ENSG00000220804 gene_biotype:transcribed_unprocessed_pseudogene transcript_biotype:processed_transcript // chr1 // 100 // 100 // 6 // 6 // 0 /// ENST00000601814 // ENSEMBL // havana:known chromosome:GRCh38:1:484832:495476:-1 gene:ENSG00000237094 gene_biotype:lincRNA transcript_biotype:lincRNA // chr1 // 100 // 100 // 6 // 6 // 0 /// AK298283 // GenBank // Homo sapiens cDNA FLJ60027 complete cds, moderately similar to F-box only protein 25. // chr1 // 100 // 100 // 6 // 6 // 0 /// AL137655 // GenBank // Homo sapiens mRNA; cDNA DKFZp434B2016 (from clone DKFZp434B2016). // chr1 // 100 // 100 // 6 // 6 // 0 /// BC032332 // GenBank // Homo sapiens protein-L-isoaspartate (D-aspartate) O-methyltransferase domain containing 2, mRNA (cDNA clone MGC:40288 IMAGE:5169056), complete cds. // chr1 // 100 // 100 // 6 // 6 // 0 /// BC118988 // GenBank // Homo sapiens chromosome 20 open reading frame 69, mRNA (cDNA clone MGC:141807 IMAGE:40035995), complete cds. // chr1 // 100 // 100 // 6 // 6 // 0 /// BC122537 // GenBank // Homo sapiens chromosome 20 open reading frame 69, mRNA (cDNA clone MGC:141808 IMAGE:40035996), complete cds. // chr1 // 100 // 100 // 6 // 6 // 0 /// BC131690 // GenBank // Homo sapiens similar to bA476I15.3 (novel protein similar to septin), mRNA (cDNA clone IMAGE:40119684), partial cds. // chr1 // 100 // 100 // 6 // 6 // 0 /// NM_207366 // RefSeq // Homo sapiens septin 14 (SEPT14), mRNA. // chr1 // 50 // 100 // 3 // 6 // 0 /// ENST00000388975 // ENSEMBL // ensembl_havana_transcript:known chromosome:GRCh38:7:55793544:55862789:-1 gene:ENSG00000154997 gene_biotype:protein_coding transcript_biotype:protein_coding // chr1 // 50 // 100 // 3 // 6 // 0 /// ENST00000427373 // ENSEMBL // havana:known chromosome:GRCh38:Y:25378300:25394719:-1 gene:ENSG00000228786 gene_biotype:lincRNA transcript_biotype:lincRNA // chr1 // 67 // 100 // 4 // 6 // 0 /// ENST00000431796 // ENSEMBL // havana:known chromosome:GRCh38:2:242088693:242122405:1 gene:ENSG00000220804 gene_biotype:transcribed_unprocessed_pseudogene transcript_biotype:processed_transcript // chr1 // 60 // 83 // 3 // 5 // 0 /// ENST00000509776 // ENSEMBL // havana:known chromosome:GRCh38:Y:24278681:24291346:1 gene:ENSG00000248792 gene_biotype:unprocessed_pseudogene transcript_biotype:unprocessed_pseudogene // chr1 // 67 // 100 // 4 // 6 // 0 /// ENST00000570230 // ENSEMBL // havana:known chromosome:GRCh38:16:90157932:90178344:1 gene:ENSG00000260528 gene_biotype:processed_transcript transcript_biotype:processed_transcript // chr1 // 67 // 100 // 4 // 6 // 0 /// AK301928 // GenBank // Homo sapiens cDNA FLJ59065 complete cds, moderately similar to Septin-10. // chr1 // 50 // 100 // 3 // 6 // 0 /// ENST00000413839 // ENSEMBL // havana:known chromosome:GRCh38:7:45816557:45821064:1 gene:ENSG00000226838 gene_biotype:unprocessed_pseudogene transcript_biotype:unprocessed_pseudogene // chr1 // 83 // 100 // 5 // 6 // 0 /// ENST00000414688 // ENSEMBL // havana:known chromosome:GRCh38:1:711342:720200:-1 gene:ENSG00000230021 gene_biotype:lincRNA transcript_biotype:lincRNA // chr1 // 100 // 100 // 6 // 6 // 0 /// ENST00000419394 // ENSEMBL // havana:known chromosome:GRCh38:1:703685:720194:-1 gene:ENSG00000230021 gene_biotype:lincRNA transcript_biotype:lincRNA // chr1 // 100 // 100 // 6 // 6 // 0 /// ENST00000420830 // ENSEMBL // havana:known chromosome:GRCh38:1:243031272:243047869:-1 gene:ENSG00000231512 gene_biotype:lincRNA transcript_biotype:lincRNA // chr1 // 83 // 100 // 5 // 6 // 0 /// ENST00000428915 // ENSEMBL // havana:known chromosome:GRCh38:10:38453181:38466176:1 gene:ENSG00000203496 gene_biotype:lincRNA transcript_biotype:lincRNA // chr1 // 100 // 100 // 6 // 6 // 0 /// ENST00000439401 // ENSEMBL // havana:known chromosome:GRCh38:3:198228194:198228376:1 gene:ENSG00000226008 gene_biotype:unprocessed_pseudogene transcript_biotype:unprocessed_pseudogene // chr1 // 100 // 100 // 6 // 6 // 0 /// ENST00000440200 // ENSEMBL // havana:known chromosome:GRCh38:1:601436:720200:-1 gene:ENSG00000230021 gene_biotype:lincRNA transcript_biotype:lincRNA // chr1 // 100 // 100 // 6 // 6 // 0 /// ENST00000441245 // ENSEMBL // havana:known chromosome:GRCh38:1:701936:720150:-1 gene:ENSG00000230021 gene_biotype:lincRNA transcript_biotype:lincRNA // chr1 // 100 // 67 // 4 // 4 // 0 /// ENST00000445840 // ENSEMBL // havana:known chromosome:GRCh38:1:485032:485211:-1 gene:ENSG00000224813 gene_biotype:transcribed_unprocessed_pseudogene transcript_biotype:transcribed_unprocessed_pseudogene // chr1 // 100 // 100 // 6 // 6 // 0 /// ENST00000447954 // ENSEMBL // havana:known chromosome:GRCh38:1:720058:724550:-1 gene:ENSG00000230021 gene_biotype:lincRNA transcript_biotype:lincRNA // chr1 // 83 // 100 // 5 // 6 // 0 /// ENST00000450226 // ENSEMBL // havana:known chromosome:GRCh38:1:243038914:243047875:-1 gene:ENSG00000231512 gene_biotype:lincRNA transcript_biotype:lincRNA // chr1 // 83 // 100 // 5 // 6 // 0 /// ENST00000453405 // ENSEMBL // havana:known chromosome:GRCh38:2:242122287:242122469:1 gene:ENSG00000244528 gene_biotype:processed_pseudogene transcript_biotype:processed_pseudogene // chr1 // 100 // 100 // 6 // 6 // 0 /// ENST00000477740 // ENSEMBL // havana:known chromosome:GRCh38:1:92230:129217:-1 gene:ENSG00000238009 gene_biotype:lincRNA transcript_biotype:lincRNA // chr1 // 83 // 100 // 5 // 6 // 0 /// ENST00000508026 // ENSEMBL // havana:known chromosome:GRCh38:8:200385:200562:-1 gene:ENSG00000255464 gene_biotype:processed_pseudogene transcript_biotype:processed_pseudogene // chr1 // 100 // 100 // 6 // 6 // 0 /// ENST00000509192 // ENSEMBL // havana:known chromosome:GRCh38:5:181329241:181342213:1 gene:ENSG00000250765 gene_biotype:lincRNA transcript_biotype:lincRNA // chr1 // 100 // 100 // 6 // 6 // 0 /// ENST00000513445 // ENSEMBL // havana:known chromosome:GRCh38:4:118640673:118640858:1 gene:ENSG00000251155 gene_biotype:processed_pseudogene transcript_biotype:processed_pseudogene // chr1 // 83 // 100 // 5 // 6 // 0 /// ENST00000523795 // ENSEMBL // havana:known chromosome:GRCh38:8:192091:200563:-1 gene:ENSG00000250210 gene_biotype:protein_coding transcript_biotype:protein_coding // chr1 // 100 // 100 // 6 // 6 // 0 /// ENST00000529266 // ENSEMBL // havana:known chromosome:GRCh38:11:121279:125784:-1 gene:ENSG00000254468 gene_biotype:lincRNA transcript_biotype:lincRNA // chr1 // 100 // 100 // 6 // 6 // 0 /// ENST00000587432 // ENSEMBL // havana:known chromosome:GRCh38:19:191212:195696:-1 gene:ENSG00000267237 gene_biotype:transcribed_unprocessed_pseudogene transcript_biotype:processed_transcript // chr1 // 83 // 100 // 5 // 6 // 0 /// ENST00000610542 // ENSEMBL // ensembl:known chromosome:GRCh38:1:120725:133723:-1 gene:ENSG00000238009 gene_biotype:lincRNA transcript_biotype:lincRNA // chr1 // 83 // 100 // 5 // 6 // 0 /// ENST00000612088 // ENSEMBL // ensembl:known chromosome:GRCh38:10:38453181:38466176:1 gene:ENSG00000203496 gene_biotype:lincRNA transcript_biotype:lincRNA // chr1 // 100 // 100 // 6 // 6 // 0 /// ENST00000612214 // ENSEMBL // havana:known chromosome:GRCh38:19:186371:191429:-1 gene:ENSG00000267237 gene_biotype:transcribed_unprocessed_pseudogene transcript_biotype:processed_transcript // chr1 // 100 // 100 // 6 // 6 // 0 /// ENST00000613471 // ENSEMBL // ensembl:known chromosome:GRCh38:1:476738:489710:-1 gene:ENSG00000237094 gene_biotype:lincRNA transcript_biotype:lincRNA // chr1 // 100 // 100 // 6 // 6 // 0 /// ENST00000615295 // ENSEMBL // ensembl:known chromosome:GRCh38:5:181329241:181342213:1 gene:ENSG00000250765 gene_biotype:lincRNA transcript_biotype:lincRNA // chr1 // 100 // 100 // 6 // 6 // 0 /// ENST00000616585 // ENSEMBL // ensembl:known chromosome:GRCh38:1:711715:724707:-1 gene:ENSG00000230021 gene_biotype:lincRNA transcript_biotype:lincRNA // chr1 // 100 // 100 // 6 // 6 // 0 /// ENST00000618096 // ENSEMBL // havana:known chromosome:GRCh38:19:191178:191354:-1 gene:ENSG00000267237 gene_biotype:transcribed_unprocessed_pseudogene transcript_biotype:transcribed_unprocessed_pseudogene // chr1 // 100 // 100 // 6 // 6 // 0 /// ENST00000618222 // ENSEMBL // ensembl:known chromosome:GRCh38:6:131910:144885:-1 gene:ENSG00000170590 gene_biotype:lincRNA transcript_biotype:lincRNA // chr1 // 100 // 100 // 6 // 6 // 0 /// ENST00000622435 // ENSEMBL // havana:known chromosome:GRCh38:2:242088684:242159382:1 gene:ENSG00000220804 gene_biotype:transcribed_unprocessed_pseudogene transcript_biotype:processed_transcript // chr1 // 100 // 100 // 6 // 6 // 0 /// ENST00000622626 // ENSEMBL // ensembl:known chromosome:GRCh38:11:112967:125927:-1 gene:ENSG00000254468 gene_biotype:lincRNA transcript_biotype:lincRNA // chr1 // 100 // 100 // 6 // 6 // 0 /// GENSCAN00000007486 // ENSEMBL // cdna:genscan chromosome:GRCh38:2:242089132:242175655:1 transcript_biotype:protein_coding // chr1 // 100 // 100 // 6 // 6 // 0 /// GENSCAN00000023775 // ENSEMBL // cdna:genscan chromosome:GRCh38:7:45812479:45856081:1 transcript_biotype:protein_coding // chr1 // 100 // 100 // 6 // 6 // 0 /// GENSCAN00000045845 // ENSEMBL // cdna:genscan chromosome:GRCh38:8:166086:213433:-1 transcript_biotype:protein_coding // chr1 // 100 // 100 // 6 // 6 // 0 /// BC071667 // GenBank HTC // Homo sapiens cDNA clone IMAGE:4384656, **** WARNING: chimeric clone ****. // chr1 // 100 // 100 // 6 // 6 // 0 /// NONHSAT000053 // NONCODE // Non-coding transcript identified by NONCODE: Sense No Exonic // chr1 // 100 // 100 // 6 // 6 // 0 /// NONHSAT000055 // NONCODE // Non-coding transcript identified by NONCODE: Sense No Exonic // chr1 // 100 // 100 // 6 // 6 // 0 /// NONHSAT000063 // NONCODE // Non-coding transcript identified by NONCODE: Sense No Exonic // chr1 // 83 // 100 // 5 // 6 // 0 /// NONHSAT000064 // NONCODE // Non-coding transcript identified by NONCODE // chr1 // 100 // 100 // 6 // 6 // 0 /// NONHSAT000065 // NONCODE // Non-coding transcript identified by NONCODE: Sense No Exonic // chr1 // 100 // 100 // 6 // 6 // 0 /// NONHSAT000086 // NONCODE // Non-coding transcript identified by NONCODE: Sense No Exonic // chr1 // 100 // 100 // 6 // 6 // 0 /// NONHSAT000097 // NONCODE // Non-coding transcript identified by NONCODE: Sense No Exonic // chr1 // 100 // 67 // 4 // 4 // 0 /// NONHSAT000098 // NONCODE // Non-coding transcript identified by NONCODE: Sense No Exonic // chr1 // 83 // 100 // 5 // 6 // 0 /// NONHSAT010578 // NONCODE // Non-coding transcript identified by NONCODE: Linc // chr1 // 83 // 100 // 5 // 6 // 0 /// NONHSAT012829 // NONCODE // Non-coding transcript identified by NONCODE: Linc // chr1 // 100 // 100 // 6 // 6 // 0 /// NONHSAT017180 // NONCODE // Non-coding transcript identified by NONCODE: Linc // chr1 // 100 // 100 // 6 // 6 // 0 /// NONHSAT060112 // NONCODE // Non-coding transcript identified by NONCODE: Linc // chr1 // 100 // 100 // 6 // 6 // 0 /// NONHSAT078034 // NONCODE // Non-coding transcript identified by NONCODE: Linc // chr1 // 100 // 100 // 6 // 6 // 0 /// NONHSAT078035 // NONCODE // Non-coding transcript identified by NONCODE: Linc // chr1 // 100 // 100 // 6 // 6 // 0 /// NONHSAT078039 // NONCODE // Non-coding transcript identified by NONCODE // chr1 // 100 // 100 // 6 // 6 // 0 /// NONHSAT078040 // NONCODE // Non-coding transcript identified by NONCODE: Linc // chr1 // 100 // 100 // 6 // 6 // 0 /// NONHSAT078041 // NONCODE // Non-coding transcript identified by NONCODE: Linc // chr1 // 100 // 100 // 6 // 6 // 0 /// NONHSAT081035 // NONCODE // Non-coding transcript identified by NONCODE: Linc // chr1 // 100 // 100 // 6 // 6 // 0 /// NONHSAT081036 // NONCODE // Non-coding transcript identified by NONCODE: Linc // chr1 // 100 // 100 // 6 // 6 // 0 /// NONHSAT094494 // NONCODE // Non-coding transcript identified by NONCODE: Linc // chr1 // 100 // 100 // 6 // 6 // 0 /// NONHSAT094497 // NONCODE // Non-coding transcript identified by NONCODE // chr1 // 100 // 100 // 6 // 6 // 0 /// NONHSAT098010 // NONCODE // Non-coding transcript identified by NONCODE // chr1 // 83 // 100 // 5 // 6 // 0 /// NONHSAT105956 // NONCODE // Non-coding transcript identified by NONCODE: Linc // chr1 // 100 // 100 // 6 // 6 // 0 /// NONHSAT105968 // NONCODE // Non-coding transcript identified by NONCODE: Linc // chr1 // 100 // 100 // 6 // 6 // 0 /// NONHSAT120472 // NONCODE // Non-coding transcript identified by NONCODE: Linc // chr1 // 83 // 100 // 5 // 6 // 0 /// NONHSAT124571 // NONCODE // Non-coding transcript identified by NONCODE // chr1 // 100 // 100 // 6 // 6 // 0 /// TCONS_l2_00001800-XLOC_l2_001331 // Broad TUCP // linc-TP53BP2-4 chr1:-:224133091-224222680 // chr1 // 100 // 100 // 6 // 6 // 0 /// TCONS_l2_00001926-XLOC_l2_000004 // Broad TUCP // linc-OR4F16-1 chr1:+:329783-334271 // chr1 // 83 // 100 // 5 // 6 // 0 /// TCONS_l2_00001927-XLOC_l2_000004 // Broad TUCP // linc-OR4F16-1 chr1:+:334139-342806 // chr1 // 100 // 100 // 6 // 6 // 0 /// TCONS_l2_00002370-XLOC_l2_000720 // Broad TUCP // linc-ZNF692-5 chr1:-:92229-129217 // chr1 // 83 // 100 // 5 // 6 // 0 /// TCONS_l2_00002386-XLOC_l2_000726 // Broad TUCP // linc-OR4F29-1 chr1:-:637315-655530 // chr1 // 100 // 67 // 4 // 4 // 0 /// TCONS_l2_00002387-XLOC_l2_000726 // Broad TUCP // linc-OR4F29-1 chr1:-:639064-655574 // chr1 // 100 // 100 // 6 // 6 // 0 /// TCONS_l2_00002388-XLOC_l2_000726 // Broad TUCP // linc-OR4F29-1 chr1:-:646721-655580 // chr1 // 100 // 100 // 6 // 6 // 0 /// TCONS_l2_00002389-XLOC_l2_000726 // Broad TUCP // linc-OR4F29-1 chr1:-:655437-659930 // chr1 // 83 // 100 // 5 // 6 // 0 /// TCONS_l2_00002812-XLOC_l2_001398 // Broad TUCP // linc-PLD5-4 chr1:-:243194573-243211171 // chr1 // 83 // 100 // 5 // 6 // 0 /// TCONS_l2_00003949-XLOC_l2_001561 // Broad TUCP // linc-BMS1-9 chr10:+:38742108-38755311 // chr1 // 100 // 100 // 6 // 6 // 0 /// TCONS_l2_00003950-XLOC_l2_001561 // Broad TUCP // linc-BMS1-9 chr10:+:38742265-38764837 // chr1 // 100 // 100 // 6 // 6 // 0 /// TCONS_l2_00014349-XLOC_l2_007835 // Broad TUCP // linc-ORC6-14 chr2:+:243030831-243101574 // chr1 // 100 // 100 // 6 // 6 // 0 /// TCONS_l2_00014350-XLOC_l2_007835 // Broad TUCP // linc-ORC6-14 chr2:+:243030855-243102147 // chr1 // 100 // 100 // 6 // 6 // 0 /// TCONS_l2_00014351-XLOC_l2_007835 // Broad TUCP // linc-ORC6-14 chr2:+:243030868-243101569 // chr1 // 100 // 100 // 6 // 6 // 0 /// TCONS_l2_00014352-XLOC_l2_007835 // Broad TUCP // linc-ORC6-14 chr2:+:243030886-243064759 // chr1 // 100 // 100 // 6 // 6 // 0 /// TCONS_l2_00014354-XLOC_l2_007835 // Broad TUCP // linc-ORC6-14 chr2:+:243030931-243067562 // chr1 // 100 // 100 // 6 // 6 // 0 /// TCONS_l2_00014355-XLOC_l2_007835 // Broad TUCP // linc-ORC6-14 chr2:+:243030941-243102157 // chr1 // 100 // 100 // 6 // 6 // 0 /// TCONS_l2_00014357-XLOC_l2_007835 // Broad TUCP // linc-ORC6-14 chr2:+:243037045-243101538 // chr1 // 100 // 100 // 6 // 6 // 0 /// TCONS_l2_00014358-XLOC_l2_007835 // Broad TUCP // linc-ORC6-14 chr2:+:243058329-243064628 // chr1 // 100 // 100 // 6 // 6 // 0 /// TCONS_l2_00015637-XLOC_l2_007835 // Broad TUCP // linc-ORC6-14 chr2:+:243030783-243082789 // chr1 // 100 // 100 // 6 // 6 // 0 /// TCONS_l2_00015638-XLOC_l2_007835 // Broad TUCP // linc-ORC6-14 chr2:+:243030843-243065243 // chr1 // 100 // 100 // 6 // 6 // 0 /// TCONS_l2_00015639-XLOC_l2_007835 // Broad TUCP // linc-ORC6-14 chr2:+:243030843-243102469 // chr1 // 100 // 100 // 6 // 6 // 0 /// TCONS_l2_00015640-XLOC_l2_007835 // Broad TUCP // linc-ORC6-14 chr2:+:243030843-243102469 // chr1 // 100 // 100 // 6 // 6 // 0 /// TCONS_l2_00015641-XLOC_l2_007835 // Broad TUCP // linc-ORC6-14 chr2:+:243030843-243102469 // chr1 // 100 // 100 // 6 // 6 // 0 /// TCONS_l2_00015643-XLOC_l2_007835 // Broad TUCP // linc-ORC6-14 chr2:+:243064443-243081039 // chr1 // 100 // 100 // 6 // 6 // 0 /// TCONS_l2_00016828-XLOC_l2_008724 // Broad TUCP // linc-HNF1B-4 chr20:+:62921737-62934707 // chr1 // 100 // 100 // 6 // 6 // 0 /// TCONS_l2_00020055-XLOC_l2_010084 // Broad TUCP // linc-MCMBP-2 chr3:+:197937115-197955676 // chr1 // 100 // 100 // 6 // 6 // 0 /// TCONS_l2_00025304-XLOC_l2_012836 // Broad TUCP // linc-PDCD2-1 chr6:-:131909-144885 // chr1 // 100 // 100 // 6 // 6 // 0 /// TCONS_l2_00025849-XLOC_l2_013383 // Broad TUCP // linc-IGFBP1-1 chr7:+:45831387-45863181 // chr1 // 100 // 100 // 6 // 6 // 0 /// TCONS_l2_00025850-XLOC_l2_013383 // Broad TUCP // linc-IGFBP1-1 chr7:+:45836951-45863174 // chr1 // 100 // 100 // 6 // 6 // 0 /// ENST00000437691 // ENSEMBL // havana:known chromosome:GRCh38:1:243047737:243052252:-1 gene:ENSG00000231512 gene_biotype:lincRNA transcript_biotype:lincRNA // chr1 // 67 // 100 // 4 // 6 // 0 /// ENST00000447236 // ENSEMBL // havana:known chromosome:GRCh38:7:56360362:56360541:-1 gene:ENSG00000231299 gene_biotype:unprocessed_pseudogene transcript_biotype:unprocessed_pseudogene // chr1 // 50 // 100 // 3 // 6 // 0 /// ENST00000453576 // ENSEMBL // havana:known chromosome:GRCh38:1:129081:133566:-1 gene:ENSG00000238009 gene_biotype:lincRNA transcript_biotype:lincRNA // chr1 // 67 // 100 // 4 // 6 // 0 /// ENST00000611754 // ENSEMBL // ensembl:known chromosome:GRCh38:Y:25378671:25391610:-1 gene:ENSG00000228786 gene_biotype:lincRNA transcript_biotype:lincRNA // chr1 // 67 // 100 // 4 // 6 // 0 /// ENST00000617978 // ENSEMBL // havana:known chromosome:GRCh38:1:227980051:227980227:1 gene:ENSG00000274886 gene_biotype:unprocessed_pseudogene transcript_biotype:unprocessed_pseudogene // chr1 // 67 // 100 // 4 // 6 // 0 /// ENST00000621799 // ENSEMBL // ensembl:known chromosome:GRCh38:16:90173217:90186204:1 gene:ENSG00000260528 gene_biotype:processed_transcript transcript_biotype:processed_transcript // chr1 // 67 // 100 // 4 // 6 // 0 /// NONHSAT000022 // NONCODE // Non-coding transcript identified by NONCODE: Linc // chr1 // 67 // 100 // 4 // 6 // 0 /// NONHSAT010579 // NONCODE // Non-coding transcript identified by NONCODE: Linc // chr1 // 67 // 100 // 4 // 6 // 0 /// NONHSAT010580 // NONCODE // Non-coding transcript identified by NONCODE: Linc // chr1 // 67 // 100 // 4 // 6 // 0 /// NONHSAT120743 // NONCODE // Non-coding transcript identified by NONCODE // chr1 // 50 // 100 // 3 // 6 // 0 /// NONHSAT139746 // NONCODE // Non-coding transcript identified by NONCODE: Linc // chr1 // 67 // 100 // 4 // 6 // 0 /// NONHSAT144650 // NONCODE // Non-coding transcript identified by NONCODE: Linc // chr1 // 67 // 100 // 4 // 6 // 0 /// NONHSAT144655 // NONCODE // Non-coding transcript identified by NONCODE: Linc // chr1 // 67 // 100 // 4 // 6 // 0 /// TCONS_l2_00002372-XLOC_l2_000720 // Broad TUCP // linc-ZNF692-5 chr1:-:129080-133566 // chr1 // 67 // 100 // 4 // 6 // 0 /// TCONS_l2_00002813-XLOC_l2_001398 // Broad TUCP // linc-PLD5-4 chr1:-:243202215-243211826 // chr1 // 67 // 100 // 4 // 6 // 0 /// TCONS_l2_00002814-XLOC_l2_001398 // Broad TUCP // linc-PLD5-4 chr1:-:243211038-243215554 // chr1 // 67 // 100 // 4 // 6 // 0 /// TCONS_l2_00010440-XLOC_l2_005352 // Broad TUCP // linc-RBM11-5 chr16:+:90244124-90289080 // chr1 // 67 // 100 // 4 // 6 // 0 /// TCONS_l2_00031062-XLOC_l2_015962 // Broad TUCP // linc-BPY2B-4 chrY:-:27524446-27540866 // chr1 // 67 // 100 // 4 // 6 // 0', 'NM_001005221 // RefSeq // Homo sapiens olfactory receptor, family 4, subfamily F, member 29 (OR4F29), mRNA. // chr1 // 100 // 100 // 36 // 36 // 0 /// NM_001005224 // RefSeq // Homo sapiens olfactory receptor, family 4, subfamily F, member 3 (OR4F3), mRNA. // chr1 // 100 // 100 // 36 // 36 // 0 /// NM_001005277 // RefSeq // Homo sapiens olfactory receptor, family 4, subfamily F, member 16 (OR4F16), mRNA. // chr1 // 100 // 100 // 36 // 36 // 0 /// NM_001005504 // RefSeq // Homo sapiens olfactory receptor, family 4, subfamily F, member 21 (OR4F21), mRNA. // chr1 // 89 // 100 // 32 // 36 // 0 /// ENST00000320901 // ENSEMBL // ensembl_havana_transcript:known chromosome:GRCh38:8:166049:167043:-1 gene:ENSG00000176269 gene_biotype:protein_coding transcript_biotype:protein_coding // chr1 // 89 // 100 // 32 // 36 // 0 /// ENST00000332831 // ENSEMBL // ensembl_havana_transcript:known chromosome:GRCh38:1:685716:686654:-1 gene:ENSG00000273547 gene_biotype:protein_coding transcript_biotype:protein_coding gene:ENSG00000185097 // chr1 // 100 // 100 // 36 // 36 // 0 /// ENST00000402444 // ENSEMBL // havana:known chromosome:GRCh38:6:170639606:170640536:1 gene:ENSG00000217874 gene_biotype:unprocessed_pseudogene transcript_biotype:unprocessed_pseudogene // chr1 // 78 // 100 // 28 // 36 // 0 /// ENST00000405102 // ENSEMBL // havana:known chromosome:GRCh38:6:105919:106856:-1 gene:ENSG00000220212 gene_biotype:unprocessed_pseudogene transcript_biotype:unprocessed_pseudogene // chr1 // 81 // 100 // 29 // 36 // 0 /// ENST00000424047 // ENSEMBL // havana:known chromosome:GRCh38:11:86649:87586:-1 gene:ENSG00000224777 gene_biotype:unprocessed_pseudogene transcript_biotype:unprocessed_pseudogene // chr1 // 78 // 100 // 28 // 36 // 0 /// ENST00000426406 // ENSEMBL // ensembl_havana_transcript:known chromosome:GRCh38:1:450740:451678:-1 gene:ENSG00000278566 gene_biotype:protein_coding transcript_biotype:protein_coding gene:ENSG00000235249 // chr1 // 100 // 100 // 36 // 36 // 0 /// ENST00000456475 // ENSEMBL // ensembl_havana_transcript:known chromosome:GRCh38:5:181367268:181368262:1 gene:ENSG00000230178 gene_biotype:protein_coding transcript_biotype:protein_coding // chr1 // 100 // 100 // 36 // 36 // 0 /// ENST00000559128 // ENSEMBL // havana:known chromosome:GRCh38:15:101875964:101876901:1 gene:ENSG00000257109 gene_biotype:unprocessed_pseudogene transcript_biotype:unprocessed_pseudogene // chr1 // 83 // 100 // 30 // 36 // 0 /// BC137547 // GenBank // Homo sapiens olfactory receptor, family 4, subfamily F, member 3, mRNA (cDNA clone MGC:169170 IMAGE:9021547), complete cds. // chr1 // 100 // 100 // 36 // 36 // 0 /// BC137568 // GenBank // Homo sapiens olfactory receptor, family 4, subfamily F, member 3, mRNA (cDNA clone MGC:169191 IMAGE:9021568), complete cds. // chr1 // 100 // 100 // 36 // 36 // 0 /// ENST00000589943 // ENSEMBL // havana:known chromosome:GRCh38:19:156279:157215:-1 gene:ENSG00000266971 gene_biotype:unprocessed_pseudogene transcript_biotype:unprocessed_pseudogene // chr1 // 72 // 100 // 26 // 36 // 0 /// GENSCAN00000011446 // ENSEMBL // cdna:genscan chromosome:GRCh38:5:181367527:181368225:1 transcript_biotype:protein_coding // chr1 // 100 // 64 // 23 // 23 // 0 /// GENSCAN00000017675 // ENSEMBL // cdna:genscan chromosome:GRCh38:1:685716:686414:-1 transcript_biotype:protein_coding // chr1 // 100 // 64 // 23 // 23 // 0 /// GENSCAN00000017679 // ENSEMBL // cdna:genscan chromosome:GRCh38:1:450740:451438:-1 transcript_biotype:protein_coding // chr1 // 100 // 64 // 23 // 23 // 0 /// GENSCAN00000045845 // ENSEMBL // cdna:genscan chromosome:GRCh38:8:166086:213433:-1 transcript_biotype:protein_coding // chr1 // 87 // 83 // 26 // 30 // 0 /// NONHSAT051700 // NONCODE // Non-coding transcript identified by NONCODE: Linc // chr1 // 83 // 100 // 30 // 36 // 0 /// NONHSAT051701 // NONCODE // Non-coding transcript identified by NONCODE: Linc // chr1 // 83 // 100 // 30 // 36 // 0 /// NONHSAT105966 // NONCODE // Non-coding transcript identified by NONCODE: Linc // chr1 // 81 // 100 // 29 // 36 // 0 /// NONHSAT060109 // NONCODE // Non-coding transcript identified by NONCODE: Linc // chr1 // 72 // 100 // 26 // 36 // 0'], 'category': ['main', 'main', 'main', 'main', 'main']}\\n\""
      ]
     },
     "execution_count": 24,
     "metadata": {},
     "output_type": "execute_result"
    }
   ],
   "source": [
    "# if requires_gene_mapping:\n",
    "f'''\n",
    "As a biomedical research team, we extracted the gene annotation data from a series in the GEO database, and saved it to a Python dictionary. Please read the dictionary, and decide which key stores the ID of the probe, and which key stores the gene symbols. Please strict follow this format in your answer:\n",
    "probe_id_key = key_name1\n",
    "gene_symb_key = key_name2\n",
    "\n",
    "Gene annotation dictionary:\n",
    "{gene_annotation_summary}\n",
    "'''"
   ]
  },
  {
   "cell_type": "code",
   "execution_count": 44,
   "metadata": {
    "ExecuteTime": {
     "end_time": "2023-12-31T21:19:35.590786881Z",
     "start_time": "2023-12-31T21:19:35.537132859Z"
    }
   },
   "outputs": [],
   "source": [
    "if requires_gene_mapping:\n",
    "    probe_id_key = 'ID'\n",
    "    gene_symb_key = 'gene_assignment'\n",
    "    gene_mapping = get_gene_mapping(gene_annotation, probe_id_key, gene_symb_key)\n",
    "    genetic_data = apply_gene_mapping(genetic_data, gene_mapping)"
   ]
  },
  {
   "cell_type": "code",
   "execution_count": 45,
   "metadata": {
    "ExecuteTime": {
     "end_time": "2023-12-31T21:19:35.590837318Z",
     "start_time": "2023-12-31T21:19:35.537209586Z"
    }
   },
   "outputs": [
    {
     "name": "stderr",
     "output_type": "stream",
     "text": [
      "998 input query terms found no hit:\t['---', '---', '1', '1', '1 alpha subcomplex', '1 beta subcomplex', '1 like', '1 pseudogene', '1 pse\n",
      "1000 input query terms found no hit:\t['100507404', '100507424', '100507424', '100507436', '100507436', '100507444', '100507463', '1005074\n",
      "1000 input query terms found no hit:\t['101930567', '101930568', '101930571', '101930578', '101930578', '101930583', '101930591', '1019305\n",
      "1000 input query terms found no hit:\t['10625', '10626', '10626', '10627', '10627', '10628', '10628', '10629', '10629', '1063', '1063', '1\n",
      "1000 input query terms found no hit:\t['1117', '1117', '11170', '11170', '11171', '11171', '11172', '11172', '11173', '11173', '11174', '1\n",
      "1000 input query terms found no hit:\t['1184', '1184', '118421', '118421', '118424', '118424', '118425', '118425', '118426', '118426', '11\n",
      "1000 input query terms found no hit:\t['128360', '128366', '128366', '128367', '128367', '128368', '128368', '128371', '128371', '128372',\n",
      "1000 input query terms found no hit:\t['13q33-q34', '13q33.1', '13q33.2', '13q33.3', '13q34', '14', '14', '14.5kDa', '14.7kDa', '140', '14\n",
      "1000 input query terms found no hit:\t['14q24', '14q24', '14q24-q32', '14q24.1', '14q24.2', '14q24.2-q24.3', '14q24.3', '14q24.3-q31', '14\n",
      "1000 input query terms found no hit:\t['162282', '162282', '162333', '162333', '162387', '162387', '162394', '162394', '162417', '162417',\n",
      "1000 input query terms found no hit:\t['1908', '1908', '1909', '1909', '190kDa', '191', '191', '1910', '1910', '1911', '1911', '1912', '19\n",
      "1000 input query terms found no hit:\t['2077', '2077', '2078', '2078', '2079', '2079', '208', '208', '2081', '2081', '2086', '2086', '2091\n",
      "1000 input query terms found no hit:\t['22878', '22878', '22879', '22879', '2288', '2288', '22880', '22880', '22881', '22881', '22882', '2\n",
      "1000 input query terms found no hit:\t['23436', '23436', '23438', '23438', '23439', '23439', '23440', '23440', '23443', '23443', '23446', \n",
      "1000 input query terms found no hit:\t['257044', '257062', '257062', '257068', '257068', '2571', '2571', '257101', '257101', '257103', '25\n",
      "1000 input query terms found no hit:\t['2653', '26531', '26531', '26532', '26532', '26533', '26533', '26534', '26534', '26538', '26538', '\n",
      "1000 input query terms found no hit:\t['2831', '2831', '283102', '283102', '283106', '283111', '283111', '283116', '283120', '283129', '28\n",
      "1000 input query terms found no hit:\t['28987', '28987', '28988', '28989', '28989', '2899', '2899', '28990', '28990', '28991', '28992', '2\n",
      "1000 input query terms found no hit:\t['3110', '3111', '3111', '3112', '3112', '3113', '3113', '3115', '3115', '3116', '3116', '3117', '31\n",
      "1000 input query terms found no hit:\t['343171', '343172', '343172', '343173', '343263', '343263', '3433', '3433', '3434', '3434', '343406\n",
      "1000 input query terms found no hit:\t['375519', '375519', '375567', '375567', '375593', '3756', '3756', '375607', '375607', '375611', '37\n",
      "1000 input query terms found no hit:\t['391004', '391013', '391013', '391059', '391059', '3911', '3911', '391104', '391104', '391107', '39\n",
      "1000 input query terms found no hit:\t['406888', '406888', '406889', '406889', '406890', '406890', '406891', '406891', '406892', '406892',\n",
      "1000 input query terms found no hit:\t['440757', '440757', '440792', '440804', '440822', '440822', '440836', '440836', '440865', '440867',\n",
      "1000 input query terms found no hit:\t['494324', '494324', '494326', '494326', '494331', '494335', '494336', '494336', '494337', '494337',\n",
      "1000 input query terms found no hit:\t['51264', '51264', '51265', '51265', '51266', '51266', '51267', '51267', '51268', '51268', '5127', '\n",
      "1000 input query terms found no hit:\t['53340', '53342', '53342', '53343', '53343', '53344', '53344', '53345', '53345', '53346', '53346', \n",
      "1000 input query terms found no hit:\t['54918', '54919', '54919', '54920', '54920', '54921', '54921', '54922', '54922', '54923', '54923', \n",
      "1000 input query terms found no hit:\t['55540', '55540', '55544', '55544', '55545', '55545', '5555', '5555', '55552', '55552', '55553', '5\n",
      "1000 input query terms found no hit:\t['56650', '56651', '56651', '56652', '56652', '56654', '56654', '56655', '56655', '56656', '56656', \n",
      "1000 input query terms found no hit:\t['57574', '57574', '57575', '57575', '57576', '57576', '57577', '57577', '57578', '57578', '57579', \n",
      "1000 input query terms found no hit:\t['5S ribosomal pseudogene 258', '5S ribosomal pseudogene 259', '5S ribosomal pseudogene 26', '5S rib\n",
      "1000 input query terms found no hit:\t['6348', '6348', '6349', '635', '635', '6351', '6351', '6352', '6352', '6354', '6354', '6355', '6355\n",
      "1000 input query terms found no hit:\t['64735', '6474', '6474', '64743', '64743', '64744', '64744', '64745', '64745', '64746', '64746', '6\n",
      "1000 input query terms found no hit:\t['6709', '6709', '671', '671', '6710', '6710', '6711', '6711', '6712', '6712', '6713', '6713', '6714\n",
      "1000 input query terms found no hit:\t['7127', '7127', '7128', '7128', '713', '713', '7130', '7130', '7132', '7132', '7133', '7133', '7134\n",
      "1000 input query terms found no hit:\t['759', '7592', '7592', '7593', '7593', '7594', '7594', '7596', '7596', '7597', '7597', '75kDa', '76\n",
      "1000 input query terms found no hit:\t['79753', '79754', '79754', '79755', '79755', '79758', '79758', '79759', '79759', '7976', '7976', '7\n",
      "1000 input query terms found no hit:\t['80237', '80237', '80243', '80243', '80254', '80254', '80255', '80255', '80256', '80256', '80258', \n",
      "1000 input query terms found no hit:\t['83647', '83647', '83648', '83648', '8365', '8365', '83650', '83650', '83655', '83655', '83656', '8\n",
      "1000 input query terms found no hit:\t['84660', '84660', '84661', '84661', '84662', '84662', '84665', '84665', '84666', '84666', '84667', \n",
      "1000 input query terms found no hit:\t['8707', '8707', '8708', '8708', '871', '871', '8710', '8710', '8711', '8711', '8712', '8712', '8714\n",
      "1000 input query terms found no hit:\t['9094', '9094', '9095', '9095', '90952', '90952', '90956', '90956', '90957', '90957', '9096', '9096\n",
      "1000 input query terms found no hit:\t['9403', '94030', '94030', '94031', '94031', '94032', '94032', '94033', '94033', '94039', '94039', '\n",
      "972 input query terms found no hit:\t['9910', '9911', '9911', '9912', '9912', '9913', '9913', '9914', '9914', '9915', '9915', '9917', '99\n",
      "1000 input query terms found no hit:\t['AB023170', 'AB023178', 'AB023182', 'AB023184', 'AB023188', 'AB023191', 'AB023193', 'AB023194', 'AB\n",
      "1000 input query terms found no hit:\t['AB056106', 'AB056107', 'AB056152', 'AB056161', 'AB056476', 'AB056477', 'AB056507', 'AB056508', 'AB\n",
      "1000 input query terms found no hit:\t['AB180938', 'AB181393', 'AB181519', 'AB181916', 'AB182123', 'AB183427', 'AB183428', 'AB183433', 'AB\n",
      "22 input query terms found dup hits:\t[('ABCC13', 2), ('ABCC6P1', 2), ('ABCC6P2', 3), ('ABHD17AP1', 2), ('ABHD17AP3', 2), ('ABHD17AP4', 2)\n",
      "648 input query terms found no hit:\t['AB462502', 'AB465501', 'AB465502', 'AB465599', 'AB465600', 'AB470072', 'AB470308', 'AB470309', 'AB\n",
      "1000 input query terms found no hit:\t['AF009678', 'AF009746', 'AF009801', 'AF009961', 'AF010126', 'AF010127', 'AF010141', 'AF010187', 'AF\n",
      "1000 input query terms found no hit:\t['AF051311', 'AF051314', 'AF051315', 'AF051316', 'AF051321', 'AF051323', 'AF051325', 'AF051334', 'AF\n",
      "1000 input query terms found no hit:\t['AF086034', 'AF086056', 'AF086090', 'AF086095', 'AF086107', 'AF086113', 'AF086120', 'AF086122', 'AF\n",
      "1000 input query terms found no hit:\t['AF118108', 'AF118124', 'AF118125', 'AF118141', 'AF118224', 'AF118240', 'AF118270', 'AF118274', 'AF\n",
      "1000 input query terms found no hit:\t['AF154054', 'AF154065', 'AF154108', 'AF154115', 'AF154121', 'AF154335', 'AF154415', 'AF154502', 'AF\n",
      "1000 input query terms found no hit:\t['AF203032', 'AF203373', 'AF203447', 'AF203474', 'AF203687', 'AF203689', 'AF203694', 'AF203910', 'AF\n",
      "1000 input query terms found no hit:\t['AF254795', 'AF254868', 'AF254956', 'AF255050', 'AF255303', 'AF255304', 'AF255309', 'AF255310', 'AF\n",
      "1000 input query terms found no hit:\t['AF309699', 'AF309774', 'AF309777', 'AF310103', 'AF310105', 'AF310106', 'AF310133', 'AF310233', 'AF\n",
      "1000 input query terms found no hit:\t['AF389430', 'AF389880', 'AF390018', 'AF390028', 'AF390029', 'AF390030', 'AF390037', 'AF390106', 'AF\n",
      "3 input query terms found dup hits:\t[('AGAP11', 2), ('AGAP7P', 2), ('AHCTF1P1', 2)]\n"
     ]
    },
    {
     "name": "stderr",
     "output_type": "stream",
     "text": [
      "913 input query terms found no hit:\t['AF493785', 'AF493798', 'AF493869', 'AF493871', 'AF493872', 'AF493873', 'AF493874', 'AF493875', 'AF\n",
      "998 input query terms found no hit:\t['AJ420501', 'AJ420505', 'AJ420506', 'AJ420507', 'AJ420510', 'AJ420514', 'AJ420518', 'AJ420519', 'AJ\n",
      "1000 input query terms found no hit:\t['AK026744', 'AK026746', 'AK026747', 'AK026754', 'AK026760', 'AK026762', 'AK026765', 'AK026786', 'AK\n",
      "1000 input query terms found no hit:\t['AK075051', 'AK075065', 'AK075071', 'AK075095', 'AK075099', 'AK075103', 'AK075115', 'AK075130', 'AK\n",
      "1000 input query terms found no hit:\t['AK094047', 'AK094051', 'AK094052', 'AK094054', 'AK094059', 'AK094062', 'AK094065', 'AK094067', 'AK\n",
      "999 input query terms found no hit:\t['AK098243', 'AK098255', 'AK098260', 'AK098262', 'AK098266', 'AK098267', 'AK098268', 'AK098276', 'AK\n",
      "1000 input query terms found no hit:\t['AK126025', 'AK126030', 'AK126032', 'AK126033', 'AK126034', 'AK126041', 'AK126044', 'AK126046', 'AK\n",
      "999 input query terms found no hit:\t['AK131093', 'AK131096', 'AK131097', 'AK131098', 'AK131099', 'AK131101', 'AK131102', 'AK131103', 'AK\n",
      "1000 input query terms found no hit:\t['AK289892', 'AK289893', 'AK289894', 'AK289895', 'AK289896', 'AK289897', 'AK289898', 'AK289899', 'AK\n",
      "1000 input query terms found no hit:\t['AK290929', 'AK290930', 'AK290931', 'AK290932', 'AK290933', 'AK290934', 'AK290935', 'AK290936', 'AK\n",
      "1000 input query terms found no hit:\t['AK291965', 'AK291966', 'AK291967', 'AK291968', 'AK291969', 'AK291970', 'AK291971', 'AK291972', 'AK\n",
      "1000 input query terms found no hit:\t['AK293000', 'AK293001', 'AK293002', 'AK293003', 'AK293004', 'AK293005', 'AK293006', 'AK293007', 'AK\n",
      "1000 input query terms found no hit:\t['AK294103', 'AK294104', 'AK294105', 'AK294106', 'AK294107', 'AK294108', 'AK294109', 'AK294110', 'AK\n",
      "1000 input query terms found no hit:\t['AK295217', 'AK295218', 'AK295219', 'AK295220', 'AK295221', 'AK295222', 'AK295223', 'AK295224', 'AK\n",
      "1000 input query terms found no hit:\t['AK296346', 'AK296347', 'AK296348', 'AK296350', 'AK296351', 'AK296352', 'AK296353', 'AK296354', 'AK\n",
      "1000 input query terms found no hit:\t['AK297440', 'AK297441', 'AK297442', 'AK297443', 'AK297444', 'AK297445', 'AK297446', 'AK297447', 'AK\n",
      "1000 input query terms found no hit:\t['AK298532', 'AK298533', 'AK298534', 'AK298536', 'AK298537', 'AK298538', 'AK298539', 'AK298540', 'AK\n",
      "1 input query terms found dup hits:\t[('AK2P2', 2)]\n",
      "998 input query terms found no hit:\t['AK299627', 'AK299628', 'AK299630', 'AK299631', 'AK299632', 'AK299633', 'AK299634', 'AK299635', 'AK\n",
      "1000 input query terms found no hit:\t['AK300739', 'AK300740', 'AK300741', 'AK300742', 'AK300743', 'AK300744', 'AK300745', 'AK300746', 'AK\n",
      "1000 input query terms found no hit:\t['AK301837', 'AK301838', 'AK301839', 'AK301840', 'AK301841', 'AK301842', 'AK301843', 'AK301844', 'AK\n",
      "1000 input query terms found no hit:\t['AK302925', 'AK302926', 'AK302927', 'AK302929', 'AK302930', 'AK302931', 'AK302932', 'AK302933', 'AK\n",
      "1000 input query terms found no hit:\t['AK304046', 'AK304047', 'AK304048', 'AK304050', 'AK304051', 'AK304052', 'AK304053', 'AK304054', 'AK\n",
      "1000 input query terms found no hit:\t['AK308288', 'AK308293', 'AK308295', 'AK308297', 'AK308301', 'AK308308', 'AK308312', 'AK308313', 'AK\n",
      "1000 input query terms found no hit:\t['AK310389', 'AK310391', 'AK310392', 'AK310394', 'AK310395', 'AK310398', 'AK310402', 'AK310403', 'AK\n",
      "5 input query terms found dup hits:\t[('AK4P1', 3), ('AK4P3', 2), ('AK4P6', 2), ('AKR1C6P', 2), ('AKR7A2P1', 3)]\n",
      "952 input query terms found no hit:\t['AK316087', 'AK316088', 'AK316089', 'AK316090', 'AK316091', 'AK316092', 'AK316093', 'AK316094', 'AK\n",
      "39 input query terms found dup hits:\t[('ALDOAP2', 2), ('ALG1', 2), ('ALG10', 2), ('ALG10B', 2), ('ALG11', 2), ('ALG12', 2), ('ALG13', 2),\n",
      "638 input query terms found no hit:\t['AL512707', 'AL512710', 'AL512733', 'AL512736', 'AL512750', 'AL512754', 'AL512761', 'AL512769', 'AL\n",
      "25 input query terms found dup hits:\t[('APOC4-APOC2', 2), ('AQP4-AS1', 2), ('AQP7P1', 2), ('AQP7P2', 2), ('AQP7P3', 2), ('AQP7P4', 2), ('\n",
      "527 input query terms found no hit:\t['APOC4-APOC2 readthrough', 'APOPT1', 'AQP4 antisense RNA 1', 'AQPEP', 'ARAF pseudogene 2', 'ARF bin\n",
      "1000 input query terms found no hit:\t['AY042239', 'AY042240', 'AY043013', 'AY043278', 'AY043282', 'AY043301', 'AY043322', 'AY043324', 'AY\n",
      "1000 input query terms found no hit:\t['AY192149', 'AY192154', 'AY192162', 'AY192728', 'AY194238', 'AY194242', 'AY194243', 'AY194287', 'AY\n",
      "1000 input query terms found no hit:\t['AY353237', 'AY353238', 'AY353255', 'AY354201', 'AY354202', 'AY354203', 'AY354204', 'AY354497', 'AY\n",
      "1000 input query terms found no hit:\t['AY363912', 'AY364230', 'AY364238', 'AY364240', 'AY364241', 'AY364244', 'AY364248', 'AY364249', 'AY\n",
      "1000 input query terms found no hit:\t['AY610514', 'AY611480', 'AY611481', 'AY611630', 'AY613431', 'AY613432', 'AY615283', 'AY615372', 'AY\n",
      "3 input query terms found dup hits:\t[('BAGE2', 2), ('BAK1P2', 2), ('BANF1P3', 2)]\n",
      "905 input query terms found no hit:\t['AY952295', 'AY952376', 'AY952377', 'AY952881', 'AY952889', 'AY954110', 'AY954513', 'AY954624', 'AY\n",
      "1000 input query terms found no hit:\t['BC001044', 'BC001045', 'BC001046', 'BC001047', 'BC001048', 'BC001049', 'BC001050', 'BC001052', 'BC\n",
      "1000 input query terms found no hit:\t['BC002765', 'BC002767', 'BC002768', 'BC002769', 'BC002772', 'BC002773', 'BC002774', 'BC002775', 'BC\n",
      "1000 input query terms found no hit:\t['BC005151', 'BC005152', 'BC005153', 'BC005156', 'BC005157', 'BC005158', 'BC005161', 'BC005162', 'BC\n",
      "1000 input query terms found no hit:\t['BC007610', 'BC007611', 'BC007612', 'BC007613', 'BC007615', 'BC007616', 'BC007618', 'BC007621', 'BC\n",
      "1000 input query terms found no hit:\t['BC009606', 'BC009607', 'BC009609', 'BC009610', 'BC009611', 'BC009612', 'BC009613', 'BC009614', 'BC\n",
      "1000 input query terms found no hit:\t['BC011925', 'BC011926', 'BC011930', 'BC011932', 'BC011933', 'BC011934', 'BC011935', 'BC011936', 'BC\n",
      "1000 input query terms found no hit:\t['BC014264', 'BC014267', 'BC014268', 'BC014269', 'BC014270', 'BC014271', 'BC014272', 'BC014274', 'BC\n",
      "1000 input query terms found no hit:\t['BC016675', 'BC016677', 'BC016678', 'BC016681', 'BC016687', 'BC016689', 'BC016690', 'BC016692', 'BC\n",
      "1000 input query terms found no hit:\t['BC019271', 'BC019272', 'BC019274', 'BC019275', 'BC019276', 'BC019277', 'BC019278', 'BC019279', 'BC\n",
      "1000 input query terms found no hit:\t['BC022489', 'BC022494', 'BC022495', 'BC022496', 'BC022497', 'BC022500', 'BC022501', 'BC022503', 'BC\n",
      "1000 input query terms found no hit:\t['BC027942', 'BC027946', 'BC027948', 'BC027949', 'BC027951', 'BC027952', 'BC027953', 'BC027955', 'BC\n",
      "1000 input query terms found no hit:\t['BC031064', 'BC031066', 'BC031067', 'BC031068', 'BC031069', 'BC031070', 'BC031073', 'BC031074', 'BC\n",
      "1000 input query terms found no hit:\t['BC033870', 'BC033871', 'BC033872', 'BC033873', 'BC033877', 'BC033881', 'BC033882', 'BC033883', 'BC\n",
      "1000 input query terms found no hit:\t['BC036683', 'BC036689', 'BC036694', 'BC036697', 'BC036699', 'BC036701', 'BC036703', 'BC036704', 'BC\n",
      "1000 input query terms found no hit:\t['BC040601', 'BC040603', 'BC040604', 'BC040605', 'BC040609', 'BC040611', 'BC040613', 'BC040615', 'BC\n",
      "1000 input query terms found no hit:\t['BC047233', 'BC047235', 'BC047237', 'BC047238', 'BC047240', 'BC047242', 'BC047243', 'BC047244', 'BC\n",
      "1000 input query terms found no hit:\t['BC052593', 'BC052597', 'BC052598', 'BC052601', 'BC052602', 'BC052603', 'BC052604', 'BC052605', 'BC\n",
      "1000 input query terms found no hit:\t['BC062674', 'BC062678', 'BC062679', 'BC062680', 'BC062681', 'BC062682', 'BC062683', 'BC062684', 'BC\n",
      "1000 input query terms found no hit:\t['BC066876', 'BC066879', 'BC066880', 'BC066881', 'BC066882', 'BC066884', 'BC066885', 'BC066886', 'BC\n",
      "1000 input query terms found no hit:\t['BC069655', 'BC069661', 'BC069662', 'BC069663', 'BC069664', 'BC069666', 'BC069667', 'BC069668', 'BC\n",
      "1000 input query terms found no hit:\t['BC074973', 'BC074974', 'BC074975', 'BC074976', 'BC074977', 'BC074978', 'BC074979', 'BC074980', 'BC\n",
      "1000 input query terms found no hit:\t['BC093996', 'BC093997', 'BC093999', 'BC094000', 'BC094001', 'BC094002', 'BC094003', 'BC094005', 'BC\n",
      "1000 input query terms found no hit:\t['BC100949', 'BC100950', 'BC100951', 'BC100952', 'BC100953', 'BC100954', 'BC100955', 'BC100956', 'BC\n"
     ]
    },
    {
     "name": "stderr",
     "output_type": "stream",
     "text": [
      "1000 input query terms found no hit:\t['BC104203', 'BC104206', 'BC104207', 'BC104208', 'BC104212', 'BC104213', 'BC104214', 'BC104216', 'BC\n",
      "1000 input query terms found no hit:\t['BC108666', 'BC108669', 'BC108670', 'BC108675', 'BC108676', 'BC108677', 'BC108680', 'BC108684', 'BC\n",
      "1000 input query terms found no hit:\t['BC112195', 'BC112196', 'BC112197', 'BC112199', 'BC112200', 'BC112201', 'BC112203', 'BC112207', 'BC\n",
      "1000 input query terms found no hit:\t['BC117351', 'BC117354', 'BC117356', 'BC117357', 'BC117358', 'BC117359', 'BC117360', 'BC117362', 'BC\n",
      "1000 input query terms found no hit:\t['BC126402', 'BC126404', 'BC126405', 'BC126406', 'BC126407', 'BC126408', 'BC126409', 'BC126410', 'BC\n",
      "1000 input query terms found no hit:\t['BC132850', 'BC132851', 'BC132852', 'BC132854', 'BC132859', 'BC132860', 'BC132862', 'BC132863', 'BC\n",
      "1000 input query terms found no hit:\t['BC137201', 'BC137202', 'BC137203', 'BC137204', 'BC137205', 'BC137206', 'BC137208', 'BC137209', 'BC\n",
      "1000 input query terms found no hit:\t['BC143636', 'BC143639', 'BC143641', 'BC143642', 'BC143643', 'BC143644', 'BC143645', 'BC143647', 'BC\n",
      "23 input query terms found dup hits:\t[('BCORP1', 2), ('BCRP2', 2), ('BCRP4', 2), ('BCRP6', 2), ('BCRP7', 2), ('BCRP8', 2), ('BDH2P1', 2),\n",
      "758 input query terms found no hit:\t['BC150638', 'BC150639', 'BC150640', 'BC150641', 'BC150642', 'BC150643', 'BC150644', 'BC150645', 'BC\n",
      "9 input query terms found dup hits:\t[('BTF3L4P1', 2), ('BTF3L4P2', 2), ('BTF3L4P3', 2), ('BTF3L4P4', 2), ('BTF3P10', 2), ('BTF3P11', 2),\n",
      "967 input query terms found no hit:\t['BT006934', 'BT006935', 'BT006936', 'BT006937', 'BT006939', 'BT006940', 'BT006941', 'BT006942', 'BT\n",
      "987 input query terms found no hit:\t['BUB1 mitotic checkpoint serine/threonine kinase', 'BUB1 mitotic checkpoint serine/threonine kinase\n",
      "10 input query terms found dup hits:\t[('BZW1P2', 2), ('C1DP1', 2), ('C1DP2', 2), ('C1DP3', 2), ('C1DP4', 2), ('C1QTNF3-AMACR', 2), ('C20o\n",
      "758 input query terms found no hit:\t['BX648576', 'BX648580', 'BX648581', 'BX648582', 'BX648584', 'BX648593', 'BX648596', 'BX648597', 'BX\n",
      "23 input query terms found dup hits:\t[('CA5BP1', 2), ('CACYBPP2', 2), ('CATSPER2P1', 2), ('CBX1P1', 2), ('CBX1P5', 2), ('CBX3P1', 2), ('C\n",
      "260 input query terms found no hit:\t['C9orf116', 'C9orf117', 'C9orf129', 'C9orf131', 'C9orf135', 'C9orf139', 'C9orf142', 'C9orf156', 'C9\n",
      "33 input query terms found dup hits:\t[('CEP170P1', 2), ('CFL1P3', 2), ('CHCHD2P6', 2), ('CHCHD2P8', 2), ('CHCHD2P9', 2), ('CHIAP2', 2), (\n",
      "291 input query terms found no hit:\t['CENPB DNA-binding domains containing 1', 'CENPBD1', 'CENPBD1 pseudogene 1', 'CENPBD1P1', 'CENPVP1'\n",
      "1000 input query terms found no hit:\t['CR456403', 'CR456404', 'CR456405', 'CR456406', 'CR456407', 'CR456408', 'CR456409', 'CR456410', 'CR\n",
      "14 input query terms found dup hits:\t[('CRIP1P4', 2), ('CROCCP2', 2), ('CRYBB2P1', 2), ('CSAG4', 3), ('CSNK1A1P1', 2), ('CSPG4P11', 3), (\n",
      "794 input query terms found no hit:\t['CR541664', 'CR541665', 'CR541666', 'CR541668', 'CR541669', 'CR541670', 'CR541671', 'CR541672', 'CR\n",
      "15 input query terms found dup hits:\t[('CTR9', 2), ('CTSL3P', 2), ('CXXC1P1', 2), ('CYCSP39', 2), ('CYCSP51', 2), ('CYP21A1P', 5), ('CYP2\n",
      "792 input query terms found no hit:\t['CTF18', 'CTF8', 'CTGF', 'CTGLF10P', 'CTGLF12P', 'CTGLF8P', 'CTP synthase 1', 'CTP synthase 2', 'CT\n",
      "34 input query terms found dup hits:\t[('DAZAP2P1', 2), ('DBIL5P', 2), ('DDX11L1', 2), ('DDX11L10', 2), ('DDX11L16', 3), ('DDX11L2', 2), (\n",
      "412 input query terms found no hit:\t['D87292', 'D87327', 'D87328', 'D87342', 'D87343', 'D87367', 'D87437', 'D87444', 'D87447', 'D87455',\n",
      "21 input query terms found dup hits:\t[('DRD5P1', 2), ('DRD5P2', 2), ('DSN1', 2), ('DSTNP2', 2), ('DTX2P1', 2), ('DUSP5P1', 3), ('DUTP1', \n",
      "850 input query terms found no hit:\t['DQ013130', 'DQ013303', 'DQ013876', 'DQ015922', 'DQ016496', 'DQ016498', 'DQ016500', 'DQ017081', 'DQ\n",
      "45 input query terms found dup hits:\t[('ECEL1P2', 2), ('EEF1A1P10', 2), ('EEF1A1P11', 2), ('EEF1A1P12', 2), ('EEF1A1P13', 2), ('EEF1A1P14\n",
      "674 input query terms found no hit:\t['E3 ubiquitin ligase', 'E3 ubiquitin protein ligase', 'E3 ubiquitin protein ligase pseudogene 1', '\n",
      "1000 input query terms found no hit:\t['ENST00000009105', 'ENST00000009180', 'ENST00000009530', 'ENST00000009589', 'ENST00000010132', 'ENS\n",
      "1000 input query terms found no hit:\t['ENST00000225296', 'ENST00000225298', 'ENST00000225308', 'ENST00000225328', 'ENST00000225371', 'ENS\n",
      "1000 input query terms found no hit:\t['ENST00000247001', 'ENST00000247003', 'ENST00000247005', 'ENST00000247020', 'ENST00000247026', 'ENS\n",
      "1000 input query terms found no hit:\t['ENST00000259512', 'ENST00000259523', 'ENST00000259526', 'ENST00000259555', 'ENST00000259569', 'ENS\n",
      "1000 input query terms found no hit:\t['ENST00000264441', 'ENST00000264444', 'ENST00000264447', 'ENST00000264449', 'ENST00000264451', 'ENS\n",
      "1000 input query terms found no hit:\t['ENST00000274255', 'ENST00000274276', 'ENST00000274278', 'ENST00000274289', 'ENST00000274306', 'ENS\n",
      "1000 input query terms found no hit:\t['ENST00000288710', 'ENST00000288723', 'ENST00000288745', 'ENST00000288757', 'ENST00000288774', 'ENS\n",
      "1000 input query terms found no hit:\t['ENST00000298049', 'ENST00000298050', 'ENST00000298068', 'ENST00000298085', 'ENST00000298090', 'ENS\n",
      "1000 input query terms found no hit:\t['ENST00000305119', 'ENST00000305123', 'ENST00000305124', 'ENST00000305127', 'ENST00000305135', 'ENS\n",
      "1000 input query terms found no hit:\t['ENST00000311661', 'ENST00000311669', 'ENST00000311672', 'ENST00000311694', 'ENST00000311713', 'ENS\n",
      "1000 input query terms found no hit:\t['ENST00000318837', 'ENST00000318842', 'ENST00000318876', 'ENST00000318881', 'ENST00000318887', 'ENS\n",
      "1000 input query terms found no hit:\t['ENST00000326333', 'ENST00000326335', 'ENST00000326341', 'ENST00000326361', 'ENST00000326397', 'ENS\n",
      "1000 input query terms found no hit:\t['ENST00000332884', 'ENST00000332885', 'ENST00000332896', 'ENST00000332900', 'ENST00000332904', 'ENS\n",
      "1000 input query terms found no hit:\t['ENST00000338448', 'ENST00000338450', 'ENST00000338458', 'ENST00000338465', 'ENST00000338468', 'ENS\n",
      "1000 input query terms found no hit:\t['ENST00000343110', 'ENST00000343111', 'ENST00000343114', 'ENST00000343115', 'ENST00000343118', 'ENS\n",
      "1000 input query terms found no hit:\t['ENST00000350842', 'ENST00000350849', 'ENST00000350878', 'ENST00000350881', 'ENST00000350887', 'ENS\n",
      "1000 input query terms found no hit:\t['ENST00000356404', 'ENST00000356406', 'ENST00000356407', 'ENST00000356413', 'ENST00000356415', 'ENS\n",
      "1000 input query terms found no hit:\t['ENST00000359358', 'ENST00000359359', 'ENST00000359361', 'ENST00000359362', 'ENST00000359365', 'ENS\n",
      "1000 input query terms found no hit:\t['ENST00000362095', 'ENST00000362096', 'ENST00000362097', 'ENST00000362102', 'ENST00000362103', 'ENS\n",
      "1000 input query terms found no hit:\t['ENST00000367931', 'ENST00000367935', 'ENST00000367937', 'ENST00000367940', 'ENST00000367941', 'ENS\n",
      "1000 input query terms found no hit:\t['ENST00000369838', 'ENST00000369839', 'ENST00000369840', 'ENST00000369842', 'ENST00000369846', 'ENS\n",
      "1000 input query terms found no hit:\t['ENST00000371847', 'ENST00000371848', 'ENST00000371850', 'ENST00000371851', 'ENST00000371852', 'ENS\n",
      "1000 input query terms found no hit:\t['ENST00000373680', 'ENST00000373684', 'ENST00000373685', 'ENST00000373686', 'ENST00000373688', 'ENS\n",
      "1000 input query terms found no hit:\t['ENST00000375802', 'ENST00000375804', 'ENST00000375805', 'ENST00000375806', 'ENST00000375807', 'ENS\n",
      "1000 input query terms found no hit:\t['ENST00000378202', 'ENST00000378203', 'ENST00000378204', 'ENST00000378206', 'ENST00000378209', 'ENS\n",
      "1000 input query terms found no hit:\t['ENST00000380615', 'ENST00000380617', 'ENST00000380618', 'ENST00000380620', 'ENST00000380622', 'ENS\n",
      "1000 input query terms found no hit:\t['ENST00000383440', 'ENST00000383446', 'ENST00000383448', 'ENST00000383450', 'ENST00000383455', 'ENS\n",
      "1000 input query terms found no hit:\t['ENST00000391980', 'ENST00000391983', 'ENST00000391984', 'ENST00000391985', 'ENST00000391987', 'ENS\n",
      "1000 input query terms found no hit:\t['ENST00000394065', 'ENST00000394066', 'ENST00000394067', 'ENST00000394069', 'ENST00000394070', 'ENS\n",
      "1000 input query terms found no hit:\t['ENST00000395989', 'ENST00000395990', 'ENST00000395995', 'ENST00000395997', 'ENST00000395999', 'ENS\n"
     ]
    },
    {
     "name": "stderr",
     "output_type": "stream",
     "text": [
      "1000 input query terms found no hit:\t['ENST00000398165', 'ENST00000398168', 'ENST00000398169', 'ENST00000398174', 'ENST00000398179', 'ENS\n",
      "1000 input query terms found no hit:\t['ENST00000401609', 'ENST00000401611', 'ENST00000401617', 'ENST00000401624', 'ENST00000401630', 'ENS\n",
      "1000 input query terms found no hit:\t['ENST00000406482', 'ENST00000406486', 'ENST00000406487', 'ENST00000406492', 'ENST00000406503', 'ENS\n",
      "1000 input query terms found no hit:\t['ENST00000409816', 'ENST00000409817', 'ENST00000409818', 'ENST00000409820', 'ENST00000409822', 'ENS\n",
      "1000 input query terms found no hit:\t['ENST00000413733', 'ENST00000413748', 'ENST00000413749', 'ENST00000413751', 'ENST00000413755', 'ENS\n",
      "1000 input query terms found no hit:\t['ENST00000416793', 'ENST00000416795', 'ENST00000416796', 'ENST00000416801', 'ENST00000416802', 'ENS\n",
      "1000 input query terms found no hit:\t['ENST00000419892', 'ENST00000419893', 'ENST00000419908', 'ENST00000419909', 'ENST00000419910', 'ENS\n",
      "1000 input query terms found no hit:\t['ENST00000423011', 'ENST00000423015', 'ENST00000423019', 'ENST00000423024', 'ENST00000423025', 'ENS\n",
      "1000 input query terms found no hit:\t['ENST00000426089', 'ENST00000426094', 'ENST00000426095', 'ENST00000426105', 'ENST00000426106', 'ENS\n",
      "1000 input query terms found no hit:\t['ENST00000429189', 'ENST00000429192', 'ENST00000429199', 'ENST00000429201', 'ENST00000429204', 'ENS\n",
      "1000 input query terms found no hit:\t['ENST00000432289', 'ENST00000432290', 'ENST00000432292', 'ENST00000432295', 'ENST00000432298', 'ENS\n",
      "1000 input query terms found no hit:\t['ENST00000435350', 'ENST00000435354', 'ENST00000435358', 'ENST00000435359', 'ENST00000435360', 'ENS\n",
      "1000 input query terms found no hit:\t['ENST00000438515', 'ENST00000438520', 'ENST00000438526', 'ENST00000438527', 'ENST00000438528', 'ENS\n",
      "1000 input query terms found no hit:\t['ENST00000441619', 'ENST00000441621', 'ENST00000441623', 'ENST00000441626', 'ENST00000441627', 'ENS\n",
      "1000 input query terms found no hit:\t['ENST00000444773', 'ENST00000444774', 'ENST00000444776', 'ENST00000444777', 'ENST00000444780', 'ENS\n",
      "1000 input query terms found no hit:\t['ENST00000447852', 'ENST00000447853', 'ENST00000447855', 'ENST00000447857', 'ENST00000447863', 'ENS\n",
      "1000 input query terms found no hit:\t['ENST00000450814', 'ENST00000450816', 'ENST00000450817', 'ENST00000450824', 'ENST00000450827', 'ENS\n",
      "1000 input query terms found no hit:\t['ENST00000453897', 'ENST00000453899', 'ENST00000453908', 'ENST00000453910', 'ENST00000453912', 'ENS\n",
      "1000 input query terms found no hit:\t['ENST00000457092', 'ENST00000457094', 'ENST00000457095', 'ENST00000457100', 'ENST00000457101', 'ENS\n",
      "1000 input query terms found no hit:\t['ENST00000460657', 'ENST00000460658', 'ENST00000460661', 'ENST00000460662', 'ENST00000460663', 'ENS\n",
      "1000 input query terms found no hit:\t['ENST00000463160', 'ENST00000463161', 'ENST00000463165', 'ENST00000463166', 'ENST00000463172', 'ENS\n",
      "1000 input query terms found no hit:\t['ENST00000465527', 'ENST00000465530', 'ENST00000465532', 'ENST00000465533', 'ENST00000465534', 'ENS\n",
      "1000 input query terms found no hit:\t['ENST00000467934', 'ENST00000467935', 'ENST00000467938', 'ENST00000467940', 'ENST00000467943', 'ENS\n",
      "1000 input query terms found no hit:\t['ENST00000470336', 'ENST00000470339', 'ENST00000470342', 'ENST00000470343', 'ENST00000470345', 'ENS\n",
      "1000 input query terms found no hit:\t['ENST00000472757', 'ENST00000472762', 'ENST00000472764', 'ENST00000472765', 'ENST00000472766', 'ENS\n",
      "1000 input query terms found no hit:\t['ENST00000475159', 'ENST00000475163', 'ENST00000475167', 'ENST00000475168', 'ENST00000475170', 'ENS\n",
      "1000 input query terms found no hit:\t['ENST00000477554', 'ENST00000477555', 'ENST00000477557', 'ENST00000477558', 'ENST00000477560', 'ENS\n",
      "1000 input query terms found no hit:\t['ENST00000479900', 'ENST00000479901', 'ENST00000479906', 'ENST00000479907', 'ENST00000479908', 'ENS\n",
      "1000 input query terms found no hit:\t['ENST00000482231', 'ENST00000482234', 'ENST00000482239', 'ENST00000482241', 'ENST00000482243', 'ENS\n",
      "1000 input query terms found no hit:\t['ENST00000484567', 'ENST00000484568', 'ENST00000484570', 'ENST00000484585', 'ENST00000484589', 'ENS\n",
      "1000 input query terms found no hit:\t['ENST00000487034', 'ENST00000487035', 'ENST00000487038', 'ENST00000487042', 'ENST00000487043', 'ENS\n",
      "1000 input query terms found no hit:\t['ENST00000489355', 'ENST00000489356', 'ENST00000489357', 'ENST00000489358', 'ENST00000489360', 'ENS\n",
      "1000 input query terms found no hit:\t['ENST00000491642', 'ENST00000491645', 'ENST00000491647', 'ENST00000491648', 'ENST00000491650', 'ENS\n",
      "1000 input query terms found no hit:\t['ENST00000494067', 'ENST00000494068', 'ENST00000494073', 'ENST00000494074', 'ENST00000494075', 'ENS\n",
      "1000 input query terms found no hit:\t['ENST00000496406', 'ENST00000496407', 'ENST00000496410', 'ENST00000496411', 'ENST00000496414', 'ENS\n",
      "1000 input query terms found no hit:\t['ENST00000499023', 'ENST00000499044', 'ENST00000499077', 'ENST00000499247', 'ENST00000499304', 'ENS\n",
      "1000 input query terms found no hit:\t['ENST00000504825', 'ENST00000504830', 'ENST00000504835', 'ENST00000504836', 'ENST00000504837', 'ENS\n",
      "1000 input query terms found no hit:\t['ENST00000507543', 'ENST00000507544', 'ENST00000507546', 'ENST00000507549', 'ENST00000507550', 'ENS\n",
      "1000 input query terms found no hit:\t['ENST00000510414', 'ENST00000510428', 'ENST00000510431', 'ENST00000510434', 'ENST00000510437', 'ENS\n",
      "1000 input query terms found no hit:\t['ENST00000513180', 'ENST00000513185', 'ENST00000513189', 'ENST00000513190', 'ENST00000513194', 'ENS\n",
      "1000 input query terms found no hit:\t['ENST00000516328', 'ENST00000516400', 'ENST00000516414', 'ENST00000516430', 'ENST00000516485', 'ENS\n",
      "1000 input query terms found no hit:\t['ENST00000519830', 'ENST00000519831', 'ENST00000519832', 'ENST00000519833', 'ENST00000519834', 'ENS\n",
      "1000 input query terms found no hit:\t['ENST00000522328', 'ENST00000522329', 'ENST00000522333', 'ENST00000522334', 'ENST00000522335', 'ENS\n",
      "1000 input query terms found no hit:\t['ENST00000524799', 'ENST00000524800', 'ENST00000524801', 'ENST00000524803', 'ENST00000524805', 'ENS\n",
      "1000 input query terms found no hit:\t['ENST00000526981', 'ENST00000526982', 'ENST00000526986', 'ENST00000526988', 'ENST00000526991', 'ENS\n",
      "1000 input query terms found no hit:\t['ENST00000529084', 'ENST00000529086', 'ENST00000529090', 'ENST00000529091', 'ENST00000529097', 'ENS\n",
      "1000 input query terms found no hit:\t['ENST00000531185', 'ENST00000531186', 'ENST00000531187', 'ENST00000531188', 'ENST00000531189', 'ENS\n",
      "1000 input query terms found no hit:\t['ENST00000533331', 'ENST00000533332', 'ENST00000533333', 'ENST00000533339', 'ENST00000533340', 'ENS\n",
      "1000 input query terms found no hit:\t['ENST00000535638', 'ENST00000535641', 'ENST00000535642', 'ENST00000535644', 'ENST00000535648', 'ENS\n",
      "1000 input query terms found no hit:\t['ENST00000538437', 'ENST00000538439', 'ENST00000538440', 'ENST00000538442', 'ENST00000538446', 'ENS\n",
      "1000 input query terms found no hit:\t['ENST00000541178', 'ENST00000541179', 'ENST00000541182', 'ENST00000541183', 'ENST00000541184', 'ENS\n",
      "1000 input query terms found no hit:\t['ENST00000543895', 'ENST00000543896', 'ENST00000543897', 'ENST00000543898', 'ENST00000543906', 'ENS\n",
      "1000 input query terms found no hit:\t['ENST00000546672', 'ENST00000546677', 'ENST00000546682', 'ENST00000546684', 'ENST00000546685', 'ENS\n",
      "1000 input query terms found no hit:\t['ENST00000549679', 'ENST00000549685', 'ENST00000549686', 'ENST00000549687', 'ENST00000549689', 'ENS\n",
      "1000 input query terms found no hit:\t['ENST00000552635', 'ENST00000552638', 'ENST00000552641', 'ENST00000552643', 'ENST00000552645', 'ENS\n",
      "1000 input query terms found no hit:\t['ENST00000555085', 'ENST00000555086', 'ENST00000555088', 'ENST00000555089', 'ENST00000555092', 'ENS\n",
      "1000 input query terms found no hit:\t['ENST00000557431', 'ENST00000557433', 'ENST00000557434', 'ENST00000557436', 'ENST00000557439', 'ENS\n",
      "1000 input query terms found no hit:\t['ENST00000560045', 'ENST00000560049', 'ENST00000560052', 'ENST00000560055', 'ENST00000560061', 'ENS\n",
      "1000 input query terms found no hit:\t['ENST00000563069', 'ENST00000563078', 'ENST00000563080', 'ENST00000563081', 'ENST00000563085', 'ENS\n",
      "1000 input query terms found no hit:\t['ENST00000566025', 'ENST00000566026', 'ENST00000566029', 'ENST00000566034', 'ENST00000566035', 'ENS\n"
     ]
    },
    {
     "name": "stderr",
     "output_type": "stream",
     "text": [
      "1000 input query terms found no hit:\t['ENST00000568900', 'ENST00000568901', 'ENST00000568907', 'ENST00000568908', 'ENST00000568909', 'ENS\n",
      "1000 input query terms found no hit:\t['ENST00000572431', 'ENST00000572438', 'ENST00000572447', 'ENST00000572448', 'ENST00000572449', 'ENS\n",
      "1000 input query terms found no hit:\t['ENST00000576362', 'ENST00000576363', 'ENST00000576369', 'ENST00000576370', 'ENST00000576372', 'ENS\n",
      "1000 input query terms found no hit:\t['ENST00000580548', 'ENST00000580551', 'ENST00000580556', 'ENST00000580557', 'ENST00000580558', 'ENS\n",
      "1000 input query terms found no hit:\t['ENST00000584668', 'ENST00000584678', 'ENST00000584689', 'ENST00000584701', 'ENST00000584709', 'ENS\n",
      "1000 input query terms found no hit:\t['ENST00000587671', 'ENST00000587673', 'ENST00000587675', 'ENST00000587678', 'ENST00000587679', 'ENS\n",
      "1000 input query terms found no hit:\t['ENST00000590347', 'ENST00000590348', 'ENST00000590354', 'ENST00000590360', 'ENST00000590361', 'ENS\n",
      "1000 input query terms found no hit:\t['ENST00000593130', 'ENST00000593131', 'ENST00000593133', 'ENST00000593135', 'ENST00000593136', 'ENS\n",
      "1000 input query terms found no hit:\t['ENST00000597198', 'ENST00000597209', 'ENST00000597212', 'ENST00000597214', 'ENST00000597215', 'ENS\n",
      "1000 input query terms found no hit:\t['ENST00000601216', 'ENST00000601220', 'ENST00000601224', 'ENST00000601232', 'ENST00000601236', 'ENS\n",
      "5 input query terms found dup hits:\t[('EPB41L4A-AS1', 2), ('EPS15P1', 2), ('ERVK13-1', 2), ('ESF1', 2), ('ESPNP', 2)]\n",
      "826 input query terms found no hit:\t['ENST00000608642', 'ENST00000608645', 'ENST00000608646', 'ENST00000608648', 'ENST00000608655', 'ENS\n",
      "44 input query terms found dup hits:\t[('EXOC5P1', 2), ('FABP3P2', 2), ('FABP5P1', 2), ('FABP5P10', 2), ('FABP5P11', 2), ('FABP5P2', 2), (\n",
      "420 input query terms found no hit:\t['EU887653', 'EU887654', 'EU887655', 'EU915602', 'EU915606', 'EU915607', 'EU915608', 'EU915609', 'EU\n",
      "22 input query terms found dup hits:\t[('FKBP9P1', 2), ('FMO8P', 2), ('FMO9P', 2), ('FOLH1B', 2), ('FOXN3P1', 2), ('FTH1P1', 2), ('FTH1P11\n",
      "722 input query terms found no hit:\t['FJ200495', 'FJ207420', 'FJ211061', 'FJ211596', 'FJ211598', 'FJ215684', 'FJ216964', 'FJ222241', 'FJ\n",
      "32 input query terms found dup hits:\t[('GABARAPL3', 2), ('GAGE12B', 2), ('GAPDHP22', 2), ('GAPDHP27', 2), ('GAPDHP29', 2), ('GAPDHP46', 2\n",
      "303 input query terms found no hit:\t['G protein-coupled receptor 87', 'G protein-coupled receptor 88', 'G protein-coupled receptor 89A',\n",
      "30 input query terms found dup hits:\t[('GSTM2P1', 2), ('GSTM5P1', 2), ('GSTO3P', 2), ('GTF2H2B', 2), ('GTF2IRD2P1', 2), ('GUSBP1', 2), ('\n",
      "616 input query terms found no hit:\t['GRINL1A complex locus 1', 'GRINL1B complex locus 2', 'GRIP and coiled-coil domain containing 1', '\n",
      "138 input query terms found dup hits:\t[('HLA-DRB6', 2), ('HLA-DRB7', 2), ('HLA-DRB9', 9), ('HLA-H', 9), ('HLA-J', 9), ('HLA-L', 7), ('HMGA\n",
      "567 input query terms found no hit:\t['HM002604', 'HM002605', 'HM002606', 'HM002607', 'HM002609', 'HM002610', 'HM002611', 'HM002613', 'HM\n",
      "126 input query terms found dup hits:\t[('ID2B', 2), ('IDSP1', 2), ('IGBP1P1', 2), ('IGHA1', 3), ('IGHA2', 3), ('IGHD', 3), ('IGHE', 3), ('\n",
      "400 input query terms found no hit:\t['IDI2 antisense RNA 1', 'IFMQ9370', 'IGF-like family member 1', 'IGF-like family member 2', 'IGF-li\n",
      "9 input query terms found dup hits:\t[('KATNBL1P6', 2), ('KCTD9P2', 2), ('KIN', 2), ('KIR2DP1', 10), ('KIR3DP1', 10), ('KIR3DX1', 5), ('K\n",
      "604 input query terms found no hit:\t['JMJD7-PLA2G4B readthrough', 'JN003579', 'JN003607', 'JN007471', 'JN007472', 'JN007473', 'JN007474'\n",
      "35 input query terms found dup hits:\t[('KLRC4-KLRK1', 2), ('KRIT1', 2), ('KRR1', 2), ('KRT16P1', 3), ('KRT16P2', 2), ('KRT16P3', 2), ('KR\n",
      "758 input query terms found no hit:\t['KLRAP1', 'KLRC4-KLRK1 readthrough', 'KN motif and ankyrin repeat domains 1', 'KN motif and ankyrin\n",
      "42 input query terms found dup hits:\t[('LAMTOR5P1', 2), ('LCN1P1', 3), ('LCN1P2', 3), ('LDHAL6CP', 2), ('LIMD1-AS1', 2), ('LINC00029', 2)\n",
      "521 input query terms found no hit:\t['L40401', 'L40403', 'L40432', 'L40586', 'L40636', 'L40823', 'L41066', 'L41067', 'L41142', 'L41143',\n",
      "22 input query terms found dup hits:\t[('LPAL2', 2), ('LRP5L', 2), ('LRRC37A11P', 2), ('LRRC37A14P', 2), ('LRRC37A16P', 2), ('LRRC37A17P',\n",
      "588 input query terms found no hit:\t['LOC101928061', 'LOC101928082', 'LOC101928189', 'LOC101928261', 'LOC101928349', 'LOC101928422', 'LO\n",
      "998 input query terms found no hit:\t['M14764', 'M14766', 'M14777', 'M14780', 'M14963', 'M14993', 'M15024', 'M15036', 'M15059', 'M15169',\n",
      "15 input query terms found dup hits:\t[('MAGEA13P', 2), ('MALAT1', 2), ('MAP1LC3BP1', 2), ('MAP3K14-AS1', 2), ('MAPT-AS1', 4), ('MCFD2P1',\n",
      "545 input query terms found no hit:\t['M74775', 'M74777', 'M74782', 'M74817', 'M74826', 'M74903', 'M74905', 'M74921', 'M75099', 'M75106',\n",
      "37 input query terms found dup hits:\t[('MICC', 9), ('MIR320A', 2), ('MIR320C1', 2), ('MIR503HG', 2), ('MKRN4P', 2), ('MKRN9P', 2), ('MLX'\n",
      "120 input query terms found no hit:\t['MIA-RAB4B readthrough', 'MICAL C-terminal like', 'MICAL-like 1', 'MICAL-like 2', 'MICALCL', 'MID1 \n",
      "28 input query terms found dup hits:\t[('MYH16', 2), ('NACA3P', 2), ('NANOGP1', 2), ('NANOGP4', 2), ('NANOGP7', 3), ('NAP1L4P1', 2), ('NAP\n",
      "449 input query terms found no hit:\t['MYL8P', 'MYLPF', 'MYM-type 1', 'MYM-type 2', 'MYM-type 3', 'MYM-type 4', 'MYM-type 5', 'MYM-type 6\n",
      "1000 input query terms found no hit:\t['NM_001003895', 'NM_001003897', 'NM_001003936', 'NM_001003942', 'NM_001003943', 'NM_001004023', 'NM\n",
      "1000 input query terms found no hit:\t['NM_001090', 'NM_001093726', 'NM_001093755', 'NM_001093756', 'NM_001093770', 'NM_001093772', 'NM_00\n",
      "1000 input query terms found no hit:\t['NM_001137549', 'NM_001137550', 'NM_001137551', 'NM_001137553', 'NM_001137554', 'NM_001137560', 'NM\n",
      "1000 input query terms found no hit:\t['NM_001164722', 'NM_001164723', 'NM_001164731', 'NM_001164732', 'NM_001164738', 'NM_001164747', 'NM\n",
      "1000 input query terms found no hit:\t['NM_001193278', 'NM_001193279', 'NM_001193280', 'NM_001193281', 'NM_001193283', 'NM_001193289', 'NM\n",
      "1000 input query terms found no hit:\t['NM_001207016', 'NM_001207018', 'NM_001207024', 'NM_001207026', 'NM_001207034', 'NM_001207036', 'NM\n",
      "1000 input query terms found no hit:\t['NM_001257097', 'NM_001257098', 'NM_001257101', 'NM_001257118', 'NM_001257119', 'NM_001257134', 'NM\n",
      "1000 input query terms found no hit:\t['NM_001278074', 'NM_001278098', 'NM_001278114', 'NM_001278116', 'NM_001278121', 'NM_001278122', 'NM\n",
      "1000 input query terms found no hit:\t['NM_001284242', 'NM_001284243', 'NM_001284246', 'NM_001284247', 'NM_001284252', 'NM_001284253', 'NM\n",
      "1000 input query terms found no hit:\t['NM_001289608', 'NM_001289609', 'NM_001289610', 'NM_001289698', 'NM_001289745', 'NM_001289746', 'NM\n",
      "1000 input query terms found no hit:\t['NM_002587', 'NM_002589', 'NM_002594', 'NM_002595', 'NM_002598', 'NM_002599', 'NM_002600', 'NM_0026\n",
      "1000 input query terms found no hit:\t['NM_004945', 'NM_004953', 'NM_004954', 'NM_004955', 'NM_004956', 'NM_004957', 'NM_004960', 'NM_0049\n",
      "1000 input query terms found no hit:\t['NM_007343', 'NM_007347', 'NM_007353', 'NM_007355', 'NM_007357', 'NM_007358', 'NM_007360', 'NM_0073\n",
      "1000 input query terms found no hit:\t['NM_015984', 'NM_015989', 'NM_015990', 'NM_015997', 'NM_015999', 'NM_016003', 'NM_016008', 'NM_0160\n",
      "1000 input query terms found no hit:\t['NM_020379', 'NM_020383', 'NM_020384', 'NM_020385', 'NM_020389', 'NM_020394', 'NM_020395', 'NM_0203\n",
      "1000 input query terms found no hit:\t['NM_030798', 'NM_030799', 'NM_030801', 'NM_030803', 'NM_030805', 'NM_030807', 'NM_030808', 'NM_0308\n",
      "1000 input query terms found no hit:\t['NM_080703', 'NM_080704', 'NM_080705', 'NM_080706', 'NM_080717', 'NM_080720', 'NM_080730', 'NM_0807\n",
      "1000 input query terms found no hit:\t['NM_152542', 'NM_152553', 'NM_152557', 'NM_152558', 'NM_152563', 'NM_152564', 'NM_152570', 'NM_1525\n",
      "1000 input query terms found no hit:\t['NM_181307', 'NM_181308', 'NM_181309', 'NM_181310', 'NM_181311', 'NM_181312', 'NM_181313', 'NM_1813\n",
      "7 input query terms found dup hits:\t[('NOS2P1', 2), ('NOS2P2', 3), ('NOS2P3', 2), ('NPHP3-ACAD11', 2), ('NPIPB1P', 2), ('NPIPP1', 2), ('\n",
      "813 input query terms found no hit:\t['NM_201648', 'NM_201649', 'NM_201650', 'NM_201651', 'NM_201653', 'NM_201995', 'NM_201997', 'NM_2019\n"
     ]
    },
    {
     "name": "stderr",
     "output_type": "stream",
     "text": [
      "1000 input query terms found no hit:\t['NR_026598', 'NR_026641', 'NR_026643', 'NR_026644', 'NR_026645', 'NR_026648', 'NR_026649', 'NR_0266\n",
      "1000 input query terms found no hit:\t['NR_040718', 'NR_040722', 'NR_040723', 'NR_040724', 'NR_040733', 'NR_040762', 'NR_044998', 'NR_0449\n",
      "30 input query terms found dup hits:\t[('NSL1', 2), ('NSUN5P2', 2), ('NUDT4P2', 2), ('NUDT9P1', 2), ('NUF2', 2), ('NUS1P1', 2), ('NUS1P2',\n",
      "685 input query terms found no hit:\t['NR_103837', 'NR_103842', 'NR_103864', 'NR_103866', 'NR_103867', 'NR_103868', 'NR_103869', 'NR_1038\n",
      "171 input query terms found dup hits:\t[('OR13D3P', 2), ('OR1D3P', 2), ('OR1E3', 2), ('OR1H1P', 2), ('OR1P1', 2), ('OR2A1-AS1', 2), ('OR2A3\n",
      "83 input query terms found no hit:\t['OR13C7P', 'OR14L1P', 'OR1F12', 'OR2A1 antisense RNA 1', 'OR2W5', 'OR4D12P', 'OR51H1P', 'OR52A4', '\n",
      "66 input query terms found dup hits:\t[('PDIA3P1', 2), ('PDXDC2P', 2), ('PERP', 2), ('PFN1P3', 2), ('PFN1P4', 2), ('PFN1P9', 2), ('PGAM1P1\n",
      "151 input query terms found no hit:\t['PDGFA associated protein 1', 'PDLIM1 interacting kinase 1 like', 'PDS5', 'PDX1 C-terminal inhibiti\n",
      "105 input query terms found dup hits:\t[('PPP4R1L', 2), ('PPT2-EGFL8', 2), ('PRAMENP', 2), ('PRELID1P1', 2), ('PRKXP1', 2), ('PRORY', 2), (\n",
      "221 input query terms found no hit:\t['PPT2-EGFL8 readthrough', 'PPY2', 'PQ loop repeat containing 1', 'PQ loop repeat containing 2', 'PQ\n",
      "532 input query terms found dup hits:\t[('RAP2A', 2), ('RAP2B', 2), ('RAP2C', 2), ('RASA4CP', 2), ('RASA4DP', 2), ('RBAKDN', 2), ('RBMS1P1'\n",
      "80 input query terms found no hit:\t['RAR-related orphan receptor A', 'RAR-related orphan receptor B', 'RAR-related orphan receptor C', \n",
      "756 input query terms found dup hits:\t[('RN7SL432P', 2), ('RN7SL434P', 2), ('RN7SL435P', 2), ('RN7SL43P', 2), ('RN7SL441P', 2), ('RN7SL442\n",
      "109 input query terms found no hit:\t['RN7SL639P', 'RN7SL739P', 'RN7SL755P', 'RNA', 'RNA', 'RNA 2', 'RNA 3-terminal phosphate cyclase', '\n",
      "956 input query terms found dup hits:\t[('RNU11-2P', 2), ('RNU11-3P', 2), ('RNU11-4P', 2), ('RNU11-5P', 2), ('RNU11-6P', 2), ('RNU12-2P', 2\n",
      "20 input query terms found no hit:\t['RNU2-67P', 'RNU6-1002P', 'RNU6-1033P', 'RNU6-1058P', 'RNU6-1063P', 'RNU6-1142P', 'RNU6-1166P', 'RN\n",
      "526 input query terms found dup hits:\t[('RNU6-718P', 2), ('RNU6-719P', 2), ('RNU6-71P', 2), ('RNU6-720P', 2), ('RNU6-721P', 2), ('RNU6-723\n",
      "184 input query terms found no hit:\t['RNU6-736P', 'RNU6-773P', 'RNU6-802P', 'RNU6-814P', 'RNU6-868P', 'RNU6-963P', 'RNU6-96P', 'RNU6-981\n",
      "28 input query terms found dup hits:\t[('S100A11P2', 2), ('S100A7L2', 2), ('SAA3P', 2), ('SCAND2P', 3), ('SCARNA17', 2), ('SCARNA4', 2), (\n",
      "343 input query terms found no hit:\t['Ro-associated Y4 pseudogene 23', 'Ro-associated Y4 pseudogene 24', 'Ro-associated Y4 pseudogene 27\n",
      "104 input query terms found dup hits:\t[('SLC25A51P1', 3), ('SLC25A6P2', 2), ('SLC2A3P2', 2), ('SLC6A10P', 2), ('SLC7A5P1', 2), ('SLC7A5P2'\n",
      "77 input query terms found no hit:\t['SLC22A20', 'SLC25A5 antisense RNA 1', 'SLC26A10', 'SLC2A4 regulator', 'SLC35G4P', 'SLC9A3R1', 'SLC\n",
      "58 input query terms found dup hits:\t[('SP3P', 2), ('SPATA31B1P', 2), ('SPATA31D5P', 2), ('SPATA41', 2), ('SPC24', 2), ('SPC25', 2), ('SP\n",
      "281 input query terms found no hit:\t['SP100 nuclear antigen', 'SP110 nuclear body protein', 'SP140 nuclear body protein', 'SP140 nuclear\n",
      "26 input query terms found dup hits:\t[('TAPT1-AS1', 2), ('TATDN2P1', 2), ('TBC1D3P1', 2), ('TBC1D3P2', 2), ('TBC1D3P5', 2), ('TCEA1P2', 2\n",
      "177 input query terms found no hit:\t['TAM41', 'TANK-binding kinase 1', 'TAO kinase 1', 'TAO kinase 2', 'TAO kinase 3', 'TAP binding prot\n",
      "79 input query terms found dup hits:\t[('TNK2-AS1', 2), ('TNRC18P2', 2), ('TNRC18P3', 2), ('TNXA', 5), ('TOB2P1', 2), ('TOMM22P5', 2), ('T\n",
      "364 input query terms found no hit:\t['TNK2 antisense RNA 1', 'TNNI3 interacting kinase', 'TOMM70A', 'TOPBP1-interacting checkpoint and r\n",
      "996 input query terms found no hit:\t['U1 small nuclear 105', 'U1 small nuclear 106', 'U1 small nuclear 107', 'U1 small nuclear 108', 'U1\n",
      "1000 input query terms found no hit:\t['U4 small nuclear 34', 'U4 small nuclear 35', 'U4 small nuclear 36', 'U4 small nuclear 38', 'U4 sma\n",
      "1000 input query terms found no hit:\t['U6 small nuclear 263', 'U6 small nuclear 264', 'U6 small nuclear 266', 'U6 small nuclear 267', 'U6\n",
      "32 input query terms found dup hits:\t[('UBBP4', 2), ('UBE2CP4', 2), ('UBE2D3P1', 2), ('UBE2E4P', 2), ('UBE2F-SCLY', 2), ('UBE2L4', 2), ('\n",
      "731 input query terms found no hit:\t['U71374', 'U71382', 'U71383', 'U72066', 'U72069', 'U72206', 'U72245', 'U72263', 'U72355', 'U72391',\n",
      "32 input query terms found dup hits:\t[('USP17L14P', 2), ('USP17L16P', 2), ('USP17L23', 2), ('USP32P1', 2), ('USP32P2', 2), ('USP32P3', 2)\n",
      "577 input query terms found no hit:\t['USP17L1P', 'USP27X antisense RNA 1', 'USP27X-AS1', 'USP6 N-terminal like', 'USP6NL intronic transc\n",
      "2 input query terms found dup hits:\t[('XK', 2), ('XKRY', 2)]\n",
      "972 input query terms found no hit:\t['X89673', 'X89984', 'X90392', 'X90828', 'X90846', 'X90857', 'X90872', 'X91196', 'X91348', 'X91809',\n",
      "1000 input query terms found no hit:\t['XM_005254140', 'XM_005254143', 'XM_005254145', 'XM_005254157', 'XM_005254158', 'XM_005254165', 'XM\n",
      "1000 input query terms found no hit:\t['XM_005264612', 'XM_005264617', 'XM_005264633', 'XM_005264653', 'XM_005264669', 'XM_005264672', 'XM\n",
      "1000 input query terms found no hit:\t['XM_006710132', 'XM_006710135', 'XM_006710156', 'XM_006710174', 'XM_006710184', 'XM_006710191', 'XM\n",
      "1000 input query terms found no hit:\t['XM_006715704', 'XM_006715707', 'XM_006715711', 'XM_006715712', 'XM_006715716', 'XM_006715721', 'XM\n",
      "979 input query terms found no hit:\t['XM_006720982', 'XM_006720983', 'XM_006720984', 'XM_006720985', 'XM_006720987', 'XM_006720988', 'XM\n",
      "8 input query terms found dup hits:\t[('YBX1P1', 2), ('YBX1P10', 2), ('YBX1P2', 2), ('YWHAEP5', 2), ('YWHAQP8', 2), ('YWHAZP3', 2), ('ZBT\n",
      "854 input query terms found no hit:\t['XR_243639', 'XR_243677', 'XR_243683', 'XR_243685', 'XR_243813', 'XR_243849', 'XR_243912', 'XR_2439\n",
      "31 input query terms found dup hits:\t[('ZFP91-CNTF', 2), ('ZNF123P', 2), ('ZNF137P', 2), ('ZNF204P', 2), ('ZNF252P', 2), ('ZNF286B', 2), \n",
      "277 input query terms found no hit:\t['ZCCHC6', 'ZDHHC8P1', 'ZFP1 zinc finger protein', 'ZFP14 zinc finger protein', 'ZFP2 zinc finger pr\n",
      "1000 input query terms found no hit:\t['adenosine A2b receptor', 'adenosine A3 receptor', 'adenosine deaminase', 'adenosine deaminase', 'a\n",
      "997 input query terms found no hit:\t['beta 6 class V', 'beta 7', 'beta 7', 'beta 8', 'beta 8 class VIII', 'beta 8 class VIII pseudogene \n",
      "998 input query terms found no hit:\t['chromosome 1 open reading frame 52', 'chromosome 1 open reading frame 53', 'chromosome 1 open read\n",
      "999 input query terms found no hit:\t['cyclic nucleotide gated channel alpha 3', 'cyclic nucleotide gated channel alpha 4', 'cyclic nucle\n",
      "998 input query terms found no hit:\t['diazepam binding inhibitor-like 5', 'diazepam binding inhibitor-like 5 pseudogene 2', 'dicarbonyl/\n",
      "998 input query terms found no hit:\t['fibrinogen beta chain', 'fibrinogen gamma chain', 'fibrinogen silencer binding protein', 'fibrinog\n",
      "999 input query terms found no hit:\t['heterogeneous nuclear ribonucleoprotein A1 pseudogene 5', 'heterogeneous nuclear ribonucleoprotein\n",
      "998 input query terms found no hit:\t['keratin 3', 'keratin 31', 'keratin 32', 'keratin 33A', 'keratin 33B', 'keratin 34', 'keratin 35', \n",
      "1000 input query terms found no hit:\t['mannosidase alpha-like 3', 'mannosyl', 'mannosyl-oligosaccharide glucosidase', 'marginal zone B an\n",
      "999 input query terms found no hit:\t['microRNA 7114', 'microRNA 7162', 'microRNA 7641-2', 'microRNA 7703', 'microRNA 7975', 'microRNA 80\n",
      "1000 input query terms found no hit:\t['nucleotide binding protein 2', 'nucleotide binding protein-like', 'nucleotide pyrophosphohydrolase\n",
      "1000 input query terms found no hit:\t['proliferation-associated', 'proliferation-associated 2G4', 'proline', 'proline and serine rich 1',\n",
      "1000 input query terms found no hit:\t['ribosomal protein L7-like 1 pseudogene 5', 'ribosomal protein L7-like 1 pseudogene 8', 'ribosomal \n",
      "998 input query terms found no hit:\t['spermatogenesis associated 18', 'spermatogenesis associated 19', 'spermatogenesis associated 2', '\n",
      "1000 input query terms found no hit:\t['transcription factor AP-2 epsilon', 'transcription factor AP-2 gamma', 'transcription factor AP-4'\n"
     ]
    },
    {
     "name": "stderr",
     "output_type": "stream",
     "text": [
      "1000 input query terms found no hit:\t['uncharacterized FLJ40288', 'uncharacterized FLJ44385', 'uncharacterized FLJ44790', 'uncharacterize\n",
      "1000 input query terms found no hit:\t['zinc finger protein 141', 'zinc finger protein 142', 'zinc finger protein 143', 'zinc finger prote\n",
      "998 input query terms found no hit:\t['AF318333', 'AF318380', 'AF357221', 'AF400439', 'AF422192', 'AF426264', 'AF438406', 'AF452715', 'AF\n",
      "1000 input query terms found no hit:\t['ENST00000363937', 'ENST00000363944', 'ENST00000363947', 'ENST00000363948', 'ENST00000363957', 'ENS\n",
      "1000 input query terms found no hit:\t['ENST00000391269', 'ENST00000391270', 'ENST00000391274', 'ENST00000391295', 'ENST00000391297', 'ENS\n",
      "1000 input query terms found no hit:\t['ENST00000468013', 'ENST00000468131', 'ENST00000468140', 'ENST00000468169', 'ENST00000468197', 'ENS\n",
      "997 input query terms found no hit:\t['ENST00000522536', 'ENST00000522557', 'ENST00000522581', 'ENST00000522969', 'ENST00000522992', 'ENS\n",
      "1000 input query terms found no hit:\t['NM_000533', 'NM_000534', 'NM_000535', 'NM_000536', 'NM_000537', 'NM_000538', 'NM_000539', 'NM_0005\n",
      "1000 input query terms found no hit:\t['NM_001006605', 'NM_001006607', 'NM_001006610', 'NM_001006612', 'NM_001006616', 'NM_001006617', 'NM\n",
      "1000 input query terms found no hit:\t['NM_001037498', 'NM_001037499', 'NM_001037500', 'NM_001037501', 'NM_001037535', 'NM_001037537', 'NM\n",
      "1000 input query terms found no hit:\t['NM_001100590', 'NM_001100592', 'NM_001100594', 'NM_001100595', 'NM_001100598', 'NM_001100600', 'NM\n",
      "1000 input query terms found no hit:\t['NM_001142286', 'NM_001142288', 'NM_001142290', 'NM_001142292', 'NM_001142293', 'NM_001142294', 'NM\n",
      "1000 input query terms found no hit:\t['NM_001168648', 'NM_001168683', 'NM_001169', 'NM_001169109', 'NM_001169117', 'NM_001169122', 'NM_00\n",
      "1000 input query terms found no hit:\t['NM_001206938', 'NM_001206942', 'NM_001206950', 'NM_001206955', 'NM_001206957', 'NM_001206960', 'NM\n",
      "1000 input query terms found no hit:\t['NM_001277115', 'NM_001277126', 'NM_001277127', 'NM_001277140', 'NM_001277155', 'NM_001277161', 'NM\n",
      "1000 input query terms found no hit:\t['NM_001293626', 'NM_001293627', 'NM_001293634', 'NM_001293640', 'NM_001293643', 'NM_001293725', 'NM\n",
      "1000 input query terms found no hit:\t['NM_003108', 'NM_003112', 'NM_003114', 'NM_003115', 'NM_003116', 'NM_003118', 'NM_003119', 'NM_0031\n",
      "1000 input query terms found no hit:\t['NM_005085', 'NM_005091', 'NM_005092', 'NM_005094', 'NM_005095', 'NM_005097', 'NM_005098', 'NM_0050\n",
      "1000 input query terms found no hit:\t['NM_007065', 'NM_007069', 'NM_007076', 'NM_007083', 'NM_007084', 'NM_007085', 'NM_007100', 'NM_0071\n",
      "1000 input query terms found no hit:\t['NM_015260', 'NM_015261', 'NM_015267', 'NM_015268', 'NM_015270', 'NM_015276', 'NM_015278', 'NM_0152\n",
      "1000 input query terms found no hit:\t['NM_018710', 'NM_018711', 'NM_018713', 'NM_018714', 'NM_018717', 'NM_018724', 'NM_018727', 'NM_0187\n",
      "1000 input query terms found no hit:\t['NM_024407', 'NM_024409', 'NM_024410', 'NM_024419', 'NM_024420', 'NM_024430', 'NM_024490', 'NM_0244\n",
      "1000 input query terms found no hit:\t['NM_052862', 'NM_052863', 'NM_052864', 'NM_052865', 'NM_052866', 'NM_052867', 'NM_052869', 'NM_0528\n",
      "1000 input query terms found no hit:\t['NM_152891', 'NM_152892', 'NM_152896', 'NM_152898', 'NM_152901', 'NM_152903', 'NM_152911', 'NM_1529\n",
      "1000 input query terms found no hit:\t['NM_201589', 'NM_201628', 'NM_201631', 'NM_202001', 'NM_203288', 'NM_203290', 'NM_203301', 'NM_2033\n",
      "1 input query terms found dup hits:\t[('U1', 4)]\n",
      "993 input query terms found no hit:\t['NR_028106', 'NR_028139', 'NR_028287', 'NR_028295', 'NR_028324', 'NR_028330', 'NR_028334', 'NR_0283\n",
      "638 input query terms found no hit:\t['axonal', 'bacterial', 'bacterial acetolactate synthase', 'basic', 'basic helix-loop-helix', 'basic\n"
     ]
    }
   ],
   "source": [
    "if NORMALIZE_GENE:\n",
    "    genetic_data = normalize_gene_symbols_in_index(genetic_data)"
   ]
  },
  {
   "cell_type": "code",
   "execution_count": 46,
   "metadata": {
    "ExecuteTime": {
     "end_time": "2023-12-31T21:19:35.590902191Z",
     "start_time": "2023-12-31T21:19:35.537285901Z"
    }
   },
   "outputs": [],
   "source": [
    "merged_data = geo_merge_clinical_genetic_data(selected_clinical_data, genetic_data)\n",
    "# The preprocessing runs through, which means is_available should be True\n",
    "is_available = True"
   ]
  },
  {
   "cell_type": "code",
   "execution_count": 47,
   "metadata": {
    "ExecuteTime": {
     "end_time": "2023-12-31T21:19:35.591095170Z",
     "start_time": "2023-12-31T21:19:35.538708445Z"
    }
   },
   "outputs": [
    {
     "name": "stdout",
     "output_type": "stream",
     "text": [
      "The merged dataset contains 249 samples.\n"
     ]
    }
   ],
   "source": [
    "print(f\"The merged dataset contains {len(merged_data)} samples.\")"
   ]
  },
  {
   "cell_type": "code",
   "execution_count": 48,
   "metadata": {
    "ExecuteTime": {
     "end_time": "2023-12-31T21:19:35.610849182Z",
     "start_time": "2023-12-31T21:19:35.541210258Z"
    }
   },
   "outputs": [
    {
     "name": "stdout",
     "output_type": "stream",
     "text": [
      "For the feature 'Craniosynostosis', the least common label is '0.0' with 50 occurrences. This represents 20.08% of the dataset.\n",
      "The distribution of the feature 'Craniosynostosis' in this dataset is fine.\n",
      "\n",
      "Quartiles for 'Age':\n",
      "  25%: 5.23\n",
      "  50% (Median): 8.77\n",
      "  75%: 12.0\n",
      "Min: 0.5\n",
      "Max: 120.0\n",
      "The distribution of the feature 'Age' in this dataset is fine.\n",
      "\n",
      "For the feature 'Gender', the least common label is '0.0' with 83 occurrences. This represents 33.33% of the dataset.\n",
      "The distribution of the feature 'Gender' in this dataset is fine.\n",
      "\n"
     ]
    },
    {
     "data": {
      "text/plain": [
       "False"
      ]
     },
     "execution_count": 48,
     "metadata": {},
     "output_type": "execute_result"
    }
   ],
   "source": [
    "is_trait_biased, merged_data = judge_and_remove_biased_features(merged_data, TRAIT, trait_type=trait_type)\n",
    "is_trait_biased"
   ]
  },
  {
   "cell_type": "code",
   "execution_count": 49,
   "metadata": {
    "ExecuteTime": {
     "end_time": "2023-12-31T21:19:35.610923234Z",
     "start_time": "2023-12-31T21:19:35.584848473Z"
    }
   },
   "outputs": [],
   "source": [
    "save_cohort_info(cohort, JSON_PATH, is_available, is_trait_biased, merged_data)"
   ]
  },
  {
   "cell_type": "code",
   "execution_count": 50,
   "metadata": {
    "ExecuteTime": {
     "end_time": "2023-12-31T21:19:35.610970734Z",
     "start_time": "2023-12-31T21:19:35.585042694Z"
    }
   },
   "outputs": [],
   "source": [
    "merged_data.head()\n",
    "if not is_trait_biased:\n",
    "    merged_data.to_csv(os.path.join(OUTPUT_DIR, cohort+'.csv'), index=False)"
   ]
  },
  {
   "cell_type": "markdown",
   "metadata": {
    "ExecuteTime": {
     "end_time": "2023-12-31T03:58:22.271683755Z",
     "start_time": "2023-12-31T03:58:22.246557674Z"
    },
    "id": "-MTPhRGxJV7I"
   },
   "source": [
    "### 3. Do regression & Cross Validation"
   ]
  },
  {
   "cell_type": "code",
   "execution_count": 14,
   "metadata": {
    "ExecuteTime": {
     "end_time": "2023-12-31T21:19:44.459442087Z",
     "start_time": "2023-12-31T21:19:44.416219648Z"
    }
   },
   "outputs": [
    {
     "data": {
      "text/html": [
       "<div>\n",
       "<style scoped>\n",
       "    .dataframe tbody tr th:only-of-type {\n",
       "        vertical-align: middle;\n",
       "    }\n",
       "\n",
       "    .dataframe tbody tr th {\n",
       "        vertical-align: top;\n",
       "    }\n",
       "\n",
       "    .dataframe thead th {\n",
       "        text-align: right;\n",
       "    }\n",
       "</style>\n",
       "<table border=\"1\" class=\"dataframe\">\n",
       "  <thead>\n",
       "    <tr style=\"text-align: right;\">\n",
       "      <th></th>\n",
       "      <th>cohort_id</th>\n",
       "      <th>is_usable</th>\n",
       "      <th>is_available</th>\n",
       "      <th>is_biased</th>\n",
       "      <th>has_age</th>\n",
       "      <th>has_gender</th>\n",
       "      <th>sample_size</th>\n",
       "      <th>note</th>\n",
       "    </tr>\n",
       "  </thead>\n",
       "  <tbody>\n",
       "    <tr>\n",
       "      <th>0</th>\n",
       "      <td>GSE27976</td>\n",
       "      <td>True</td>\n",
       "      <td>True</td>\n",
       "      <td>False</td>\n",
       "      <td>True</td>\n",
       "      <td>True</td>\n",
       "      <td>249</td>\n",
       "      <td></td>\n",
       "    </tr>\n",
       "  </tbody>\n",
       "</table>\n",
       "</div>"
      ],
      "text/plain": [
       "  cohort_id  is_usable  is_available  is_biased  has_age  has_gender  \\\n",
       "0  GSE27976       True          True      False     True        True   \n",
       "\n",
       "   sample_size note  \n",
       "0          249       "
      ]
     },
     "execution_count": 14,
     "metadata": {},
     "output_type": "execute_result"
    }
   ],
   "source": [
    "# Check the information of usable cohorts\n",
    "best_cohort, ranked_df = filter_and_rank_cohorts(JSON_PATH)\n",
    "ranked_df"
   ]
  },
  {
   "cell_type": "code",
   "execution_count": 15,
   "metadata": {
    "ExecuteTime": {
     "end_time": "2023-12-31T21:19:44.808945960Z",
     "start_time": "2023-12-31T21:19:44.799467072Z"
    }
   },
   "outputs": [
    {
     "data": {
      "text/plain": [
       "'GSE27976'"
      ]
     },
     "execution_count": 15,
     "metadata": {},
     "output_type": "execute_result"
    }
   ],
   "source": [
    "# If both age and gender have available cohorts, select 'age' as the condition.\n",
    "condition = 'Age'\n",
    "filter_column = 'has_' + condition.lower()\n",
    "\n",
    "condition_best_cohort, condition_ranked_df = filter_and_rank_cohorts(JSON_PATH, filter_column)\n",
    "condition_best_cohort"
   ]
  },
  {
   "cell_type": "code",
   "execution_count": 16,
   "metadata": {
    "ExecuteTime": {
     "end_time": "2023-12-31T21:19:52.222719978Z",
     "start_time": "2023-12-31T21:19:45.162873006Z"
    }
   },
   "outputs": [
    {
     "data": {
      "text/html": [
       "<div>\n",
       "<style scoped>\n",
       "    .dataframe tbody tr th:only-of-type {\n",
       "        vertical-align: middle;\n",
       "    }\n",
       "\n",
       "    .dataframe tbody tr th {\n",
       "        vertical-align: top;\n",
       "    }\n",
       "\n",
       "    .dataframe thead th {\n",
       "        text-align: right;\n",
       "    }\n",
       "</style>\n",
       "<table border=\"1\" class=\"dataframe\">\n",
       "  <thead>\n",
       "    <tr style=\"text-align: right;\">\n",
       "      <th></th>\n",
       "      <th>cohort_id</th>\n",
       "      <th>is_usable</th>\n",
       "      <th>is_available</th>\n",
       "      <th>is_biased</th>\n",
       "      <th>has_age</th>\n",
       "      <th>has_gender</th>\n",
       "      <th>sample_size</th>\n",
       "      <th>note</th>\n",
       "    </tr>\n",
       "  </thead>\n",
       "  <tbody>\n",
       "    <tr>\n",
       "      <th>0</th>\n",
       "      <td>GSE27976</td>\n",
       "      <td>True</td>\n",
       "      <td>True</td>\n",
       "      <td>False</td>\n",
       "      <td>True</td>\n",
       "      <td>True</td>\n",
       "      <td>249</td>\n",
       "      <td></td>\n",
       "    </tr>\n",
       "  </tbody>\n",
       "</table>\n",
       "</div>"
      ],
      "text/plain": [
       "  cohort_id  is_usable  is_available  is_biased  has_age  has_gender  \\\n",
       "0  GSE27976       True          True      False     True        True   \n",
       "\n",
       "   sample_size note  \n",
       "0          249       "
      ]
     },
     "execution_count": 16,
     "metadata": {},
     "output_type": "execute_result"
    }
   ],
   "source": [
    "condition_ranked_df.head()"
   ]
  },
  {
   "cell_type": "code",
   "execution_count": 17,
   "metadata": {
    "ExecuteTime": {
     "end_time": "2023-12-31T21:19:52.234945878Z",
     "start_time": "2023-12-31T21:19:52.231604618Z"
    }
   },
   "outputs": [
    {
     "data": {
      "text/html": [
       "<div>\n",
       "<style scoped>\n",
       "    .dataframe tbody tr th:only-of-type {\n",
       "        vertical-align: middle;\n",
       "    }\n",
       "\n",
       "    .dataframe tbody tr th {\n",
       "        vertical-align: top;\n",
       "    }\n",
       "\n",
       "    .dataframe thead th {\n",
       "        text-align: right;\n",
       "    }\n",
       "</style>\n",
       "<table border=\"1\" class=\"dataframe\">\n",
       "  <thead>\n",
       "    <tr style=\"text-align: right;\">\n",
       "      <th></th>\n",
       "      <th>Craniosynostosis</th>\n",
       "      <th>Age</th>\n",
       "      <th>Gender</th>\n",
       "      <th>CA14</th>\n",
       "      <th>CD79A</th>\n",
       "      <th>EOS</th>\n",
       "      <th>FUSE</th>\n",
       "      <th>FAS</th>\n",
       "      <th>PARN</th>\n",
       "      <th>PTPRF</th>\n",
       "      <th>RCC1</th>\n",
       "      <th>TBP</th>\n",
       "      <th>TPR</th>\n",
       "      <th>U1</th>\n",
       "      <th>UCN</th>\n",
       "      <th>GLA</th>\n",
       "      <th>HASPIN</th>\n",
       "      <th>SP1</th>\n",
       "      <th>TESMIN</th>\n",
       "    </tr>\n",
       "  </thead>\n",
       "  <tbody>\n",
       "    <tr>\n",
       "      <th>0</th>\n",
       "      <td>1.0</td>\n",
       "      <td>12.87</td>\n",
       "      <td>0.0</td>\n",
       "      <td>4.145010</td>\n",
       "      <td>8.201351</td>\n",
       "      <td>6.197000</td>\n",
       "      <td>9.854183</td>\n",
       "      <td>8.773215</td>\n",
       "      <td>4.893692</td>\n",
       "      <td>6.120276</td>\n",
       "      <td>7.702718</td>\n",
       "      <td>8.048879</td>\n",
       "      <td>8.591189</td>\n",
       "      <td>10.193450</td>\n",
       "      <td>11.66027</td>\n",
       "      <td>6.971736</td>\n",
       "      <td>6.117955</td>\n",
       "      <td>6.481451</td>\n",
       "      <td>5.188073</td>\n",
       "    </tr>\n",
       "    <tr>\n",
       "      <th>1</th>\n",
       "      <td>1.0</td>\n",
       "      <td>10.40</td>\n",
       "      <td>0.0</td>\n",
       "      <td>4.552640</td>\n",
       "      <td>8.226059</td>\n",
       "      <td>6.348450</td>\n",
       "      <td>10.059643</td>\n",
       "      <td>9.900642</td>\n",
       "      <td>5.082298</td>\n",
       "      <td>6.344258</td>\n",
       "      <td>7.599204</td>\n",
       "      <td>8.069599</td>\n",
       "      <td>8.504405</td>\n",
       "      <td>10.072650</td>\n",
       "      <td>11.35244</td>\n",
       "      <td>7.406352</td>\n",
       "      <td>6.598113</td>\n",
       "      <td>6.815678</td>\n",
       "      <td>5.241590</td>\n",
       "    </tr>\n",
       "    <tr>\n",
       "      <th>2</th>\n",
       "      <td>1.0</td>\n",
       "      <td>12.30</td>\n",
       "      <td>1.0</td>\n",
       "      <td>4.450482</td>\n",
       "      <td>8.327156</td>\n",
       "      <td>6.384476</td>\n",
       "      <td>9.926943</td>\n",
       "      <td>9.791214</td>\n",
       "      <td>4.701365</td>\n",
       "      <td>6.514661</td>\n",
       "      <td>8.280797</td>\n",
       "      <td>7.957904</td>\n",
       "      <td>8.378644</td>\n",
       "      <td>10.102500</td>\n",
       "      <td>11.70149</td>\n",
       "      <td>6.916776</td>\n",
       "      <td>5.854379</td>\n",
       "      <td>7.335926</td>\n",
       "      <td>5.095693</td>\n",
       "    </tr>\n",
       "    <tr>\n",
       "      <th>3</th>\n",
       "      <td>1.0</td>\n",
       "      <td>11.40</td>\n",
       "      <td>1.0</td>\n",
       "      <td>4.776999</td>\n",
       "      <td>7.865775</td>\n",
       "      <td>6.127192</td>\n",
       "      <td>9.815677</td>\n",
       "      <td>8.663057</td>\n",
       "      <td>4.891577</td>\n",
       "      <td>6.508160</td>\n",
       "      <td>7.443244</td>\n",
       "      <td>7.794022</td>\n",
       "      <td>8.456080</td>\n",
       "      <td>9.980424</td>\n",
       "      <td>11.88101</td>\n",
       "      <td>7.637656</td>\n",
       "      <td>6.259962</td>\n",
       "      <td>6.595198</td>\n",
       "      <td>5.481439</td>\n",
       "    </tr>\n",
       "    <tr>\n",
       "      <th>4</th>\n",
       "      <td>1.0</td>\n",
       "      <td>10.10</td>\n",
       "      <td>0.0</td>\n",
       "      <td>4.324631</td>\n",
       "      <td>8.490404</td>\n",
       "      <td>5.941068</td>\n",
       "      <td>9.929050</td>\n",
       "      <td>9.084288</td>\n",
       "      <td>4.666295</td>\n",
       "      <td>6.201364</td>\n",
       "      <td>7.960722</td>\n",
       "      <td>8.056880</td>\n",
       "      <td>8.520315</td>\n",
       "      <td>9.885635</td>\n",
       "      <td>11.05687</td>\n",
       "      <td>7.402481</td>\n",
       "      <td>6.050254</td>\n",
       "      <td>6.500354</td>\n",
       "      <td>5.156267</td>\n",
       "    </tr>\n",
       "  </tbody>\n",
       "</table>\n",
       "</div>"
      ],
      "text/plain": [
       "   Craniosynostosis    Age  Gender      CA14     CD79A       EOS       FUSE  \\\n",
       "0               1.0  12.87     0.0  4.145010  8.201351  6.197000   9.854183   \n",
       "1               1.0  10.40     0.0  4.552640  8.226059  6.348450  10.059643   \n",
       "2               1.0  12.30     1.0  4.450482  8.327156  6.384476   9.926943   \n",
       "3               1.0  11.40     1.0  4.776999  7.865775  6.127192   9.815677   \n",
       "4               1.0  10.10     0.0  4.324631  8.490404  5.941068   9.929050   \n",
       "\n",
       "        FAS      PARN     PTPRF      RCC1       TBP       TPR         U1  \\\n",
       "0  8.773215  4.893692  6.120276  7.702718  8.048879  8.591189  10.193450   \n",
       "1  9.900642  5.082298  6.344258  7.599204  8.069599  8.504405  10.072650   \n",
       "2  9.791214  4.701365  6.514661  8.280797  7.957904  8.378644  10.102500   \n",
       "3  8.663057  4.891577  6.508160  7.443244  7.794022  8.456080   9.980424   \n",
       "4  9.084288  4.666295  6.201364  7.960722  8.056880  8.520315   9.885635   \n",
       "\n",
       "        UCN       GLA    HASPIN       SP1    TESMIN  \n",
       "0  11.66027  6.971736  6.117955  6.481451  5.188073  \n",
       "1  11.35244  7.406352  6.598113  6.815678  5.241590  \n",
       "2  11.70149  6.916776  5.854379  7.335926  5.095693  \n",
       "3  11.88101  7.637656  6.259962  6.595198  5.481439  \n",
       "4  11.05687  7.402481  6.050254  6.500354  5.156267  "
      ]
     },
     "execution_count": 17,
     "metadata": {},
     "output_type": "execute_result"
    }
   ],
   "source": [
    "merged_data = pd.read_csv(os.path.join(OUTPUT_DIR, condition_best_cohort + '.csv'))\n",
    "merged_data.head()"
   ]
  },
  {
   "cell_type": "code",
   "execution_count": 18,
   "metadata": {
    "ExecuteTime": {
     "end_time": "2023-12-31T21:19:52.312540150Z",
     "start_time": "2023-12-31T21:19:52.235772334Z"
    }
   },
   "outputs": [],
   "source": [
    "# Remove the other condition to prevent interference.\n",
    "merged_data = merged_data.drop(columns=['Gender'], errors='ignore').astype('float')\n",
    "\n",
    "X = merged_data.drop(columns=[TRAIT, condition]).values\n",
    "Y = merged_data[TRAIT].values\n",
    "Z = merged_data[condition].values"
   ]
  },
  {
   "cell_type": "markdown",
   "metadata": {},
   "source": [
    "Select the appropriate regression model depending on whether the dataset shows batch effect."
   ]
  },
  {
   "cell_type": "code",
   "execution_count": 19,
   "metadata": {
    "ExecuteTime": {
     "end_time": "2023-12-31T21:20:00.930840782Z",
     "start_time": "2023-12-31T21:19:52.319092572Z"
    }
   },
   "outputs": [
    {
     "data": {
      "text/plain": [
       "True"
      ]
     },
     "execution_count": 19,
     "metadata": {},
     "output_type": "execute_result"
    }
   ],
   "source": [
    "has_batch_effect = detect_batch_effect(X)\n",
    "has_batch_effect"
   ]
  },
  {
   "cell_type": "code",
   "execution_count": 20,
   "metadata": {
    "ExecuteTime": {
     "end_time": "2023-12-31T21:20:00.931029722Z",
     "start_time": "2023-12-31T21:20:00.929710828Z"
    }
   },
   "outputs": [],
   "source": [
    "# Select appropriate models based on whether the dataset has batch effect.\n",
    "# We experiment on two models for each branch. We will decide which one to choose later.\n",
    "\n",
    "if has_batch_effect:\n",
    "    model_constructor1 = VariableSelection\n",
    "    model_params1 = {'modified': True, 'lamda': 3e-4}\n",
    "    model_constructor2 = VariableSelection\n",
    "    model_params2 = {'modified': False}\n",
    "else:\n",
    "    model_constructor1 = Lasso\n",
    "    model_params1 = {'alpha': 1.0, 'random_state': 42}\n",
    "    model_constructor2 = VariableSelection\n",
    "    model_params2 = {'modified': False}"
   ]
  },
  {
   "cell_type": "code",
   "execution_count": 21,
   "metadata": {
    "ExecuteTime": {
     "end_time": "2023-12-31T21:20:20.709459824Z",
     "start_time": "2023-12-31T21:20:00.931657949Z"
    }
   },
   "outputs": [
    {
     "name": "stdout",
     "output_type": "stream",
     "text": [
      "alpha for Lasso: 0.0003\n",
      "alpha for Lasso: 0.0003\n",
      "alpha for Lasso: 0.0003\n",
      "alpha for Lasso: 0.0003\n",
      "alpha for Lasso: 0.0003\n",
      "The cross-validation accuracy is 49.80% ± 3.56%\n"
     ]
    }
   ],
   "source": [
    "trait_type = 'binary'  # Remember to set this properly, either 'binary' or 'continuous'\n",
    "cv_mean1, cv_std1 = cross_validation(X, Y, Z, model_constructor1, model_params1, target_type=trait_type)"
   ]
  },
  {
   "cell_type": "code",
   "execution_count": 23,
   "metadata": {
    "ExecuteTime": {
     "end_time": "2023-12-31T21:20:24.980870159Z",
     "start_time": "2023-12-31T21:20:20.516710807Z"
    }
   },
   "outputs": [
    {
     "name": "stdout",
     "output_type": "stream",
     "text": [
      "The cross-validation accuracy is 84.08% ± 2.71%\n"
     ]
    }
   ],
   "source": [
    "cv_mean2, cv_std2 = cross_validation(X, Y, Z, model_constructor2, model_params2, target_type=trait_type)"
   ]
  },
  {
   "cell_type": "code",
   "execution_count": 24,
   "metadata": {},
   "outputs": [
    {
     "name": "stdout",
     "output_type": "stream",
     "text": [
      "alpha for Lasso: 0.0003\n"
     ]
    }
   ],
   "source": [
    "normalized_X, _ = normalize_data(X)\n",
    "normalized_Z, _ = normalize_data(Z)\n",
    "\n",
    "# Train regression model on the whole dataset to identify significant genes\n",
    "model1 = ResidualizationRegressor(model_constructor1, model_params1)\n",
    "model1.fit(normalized_X, Y, normalized_Z)\n",
    "\n",
    "model2 = ResidualizationRegressor(model_constructor2, model_params2)\n",
    "model2.fit(normalized_X, Y, normalized_Z)"
   ]
  },
  {
   "cell_type": "markdown",
   "metadata": {
    "ExecuteTime": {
     "end_time": "2023-10-14T04:50:59.072075075Z",
     "start_time": "2023-10-14T04:50:38.739499998Z"
    },
    "id": "EjJrxbvb4nlj"
   },
   "source": [
    "### 4. Discussion and report"
   ]
  },
  {
   "cell_type": "code",
   "execution_count": 25,
   "metadata": {
    "ExecuteTime": {
     "end_time": "2023-12-31T21:20:25.000830410Z",
     "start_time": "2023-12-31T21:20:24.982834541Z"
    }
   },
   "outputs": [
    {
     "name": "stdout",
     "output_type": "stream",
     "text": [
      "Effect of the condition on the target variable:\n",
      "Variable: Age\n",
      "Coefficient: -0.1972\n",
      "Found 14 genes with non-zero coefficients associated with the trait 'Craniosynostosis' conditional on the factor 'Age'. These genes are identified as significant based on the regression model.\n",
      "Variable  Coefficient  Absolute Coefficient\n",
      "    CA14     1.579909              1.579909\n",
      "     UCN    -1.486378              1.486378\n",
      "    FUSE    -1.438487              1.438487\n",
      "     SP1    -1.015300              1.015300\n",
      "   CD79A    -0.971751              0.971751\n",
      "   PTPRF     0.896482              0.896482\n",
      "     TPR     0.819390              0.819390\n",
      "  HASPIN     0.815927              0.815927\n",
      "     FAS     0.663122              0.663122\n",
      "      U1    -0.530949              0.530949\n",
      "    RCC1    -0.459531              0.459531\n",
      "  TESMIN    -0.332096              0.332096\n",
      "    PARN    -0.235098              0.235098\n",
      "     EOS     0.036797              0.036797\n"
     ]
    },
    {
     "name": "stderr",
     "output_type": "stream",
     "text": [
      "/Users/ollie/Documents/JupyterProjects/AI4Science_gold_standard/stage1/Jinglin/utils.py:469: SettingWithCopyWarning: \n",
      "A value is trying to be set on a copy of a slice from a DataFrame.\n",
      "Try using .loc[row_indexer,col_indexer] = value instead\n",
      "\n",
      "See the caveats in the documentation: https://pandas.pydata.org/pandas-docs/stable/user_guide/indexing.html#returning-a-view-versus-a-copy\n",
      "  gene_regression_df['Absolute Coefficient'] = gene_regression_df['Coefficient'].abs()\n"
     ]
    }
   ],
   "source": [
    "feature_cols = merged_data.columns.tolist()\n",
    "feature_cols.remove(TRAIT)\n",
    "\n",
    "threshold = 0.05\n",
    "interpret_result(model1, feature_cols, TRAIT, condition, threshold=threshold, save_output=True,\n",
    "                 output_dir=OUTPUT_DIR, model_id=1)"
   ]
  },
  {
   "cell_type": "code",
   "execution_count": 26,
   "metadata": {},
   "outputs": [
    {
     "name": "stdout",
     "output_type": "stream",
     "text": [
      "Effect of the condition on the target variable:\n",
      "Variable: Age\n",
      "Coefficient: -0.1972\n",
      "Found 0 significant genes associated with the trait 'Craniosynostosis' conditional on the factor 'Age', with corrected p-value < 0.05:\n",
      "Empty DataFrame\n",
      "Columns: [Variable, Coefficient, p_value, corrected_p_value]\n",
      "Index: []\n"
     ]
    },
    {
     "name": "stderr",
     "output_type": "stream",
     "text": [
      "/Users/ollie/Documents/JupyterProjects/AI4Science_gold_standard/stage1/Jinglin/utils.py:478: SettingWithCopyWarning: \n",
      "A value is trying to be set on a copy of a slice from a DataFrame.\n",
      "Try using .loc[row_indexer,col_indexer] = value instead\n",
      "\n",
      "See the caveats in the documentation: https://pandas.pydata.org/pandas-docs/stable/user_guide/indexing.html#returning-a-view-versus-a-copy\n",
      "  gene_regression_df.loc[:, 'corrected_p_value'] = corrected_p_values\n"
     ]
    }
   ],
   "source": [
    "interpret_result(model2, feature_cols, TRAIT, condition, threshold=threshold, save_output=True,\n",
    "                 output_dir=OUTPUT_DIR, model_id=2)"
   ]
  }
 ],
 "metadata": {
  "colab": {
   "provenance": []
  },
  "kernelspec": {
   "display_name": "Python 3 (ipykernel)",
   "language": "python",
   "name": "python3"
  },
  "language_info": {
   "codemirror_mode": {
    "name": "ipython",
    "version": 3
   },
   "file_extension": ".py",
   "mimetype": "text/x-python",
   "name": "python",
   "nbconvert_exporter": "python",
   "pygments_lexer": "ipython3",
   "version": "3.11.5"
  }
 },
 "nbformat": 4,
 "nbformat_minor": 1
}
