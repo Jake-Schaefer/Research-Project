{
 "cells": [
  {
   "cell_type": "markdown",
   "metadata": {
    "collapsed": false
   },
   "source": [
    "# Gold standard curation: Preprocessing and single-step regression"
   ]
  },
  {
   "cell_type": "markdown",
   "metadata": {
    "collapsed": false
   },
   "source": [
    "In this stage of gold standard curation, we will do the data preprocessing, selection, and single-step regression for the 153 traits in our question set. This file shows the reference steps using the trait \"Glucocorticoid Sensitivity\" as an example. The workflow consists of the following steps:\n",
    "\n",
    "1. Preprocess all the cohorts related to this trait. Each cohort should be converted to a tabular form and saved to a csv file, with columns being genetic factors, the trait, and age, gender if available;\n",
    "2. If there exists at least one cohort with age or gender information, conduct regression analysis with genetic features together with age or gender as the regressors.\n"
   ]
  },
  {
   "cell_type": "markdown",
   "metadata": {
    "collapsed": false
   },
   "source": [
    "# 1. Basic setup"
   ]
  },
  {
   "cell_type": "code",
   "execution_count": 1,
   "metadata": {
    "ExecuteTime": {
     "end_time": "2024-02-27T00:22:19.918139380Z",
     "start_time": "2024-02-27T00:22:19.235047906Z"
    },
    "collapsed": false
   },
   "outputs": [
    {
     "name": "stdout",
     "output_type": "stream",
     "text": [
      "utils.py has been loaded\n"
     ]
    }
   ],
   "source": [
    "import os\n",
    "import sys\n",
    "\n",
    "sys.path.append('..')\n",
    "from utils import *\n",
    "\n",
    "# Set your preferred name\n",
    "USER = \"Lisa\"\n",
    "# Set the data and output directories\n",
    "DATA_ROOT = '/Users/wjt/Desktop/is_data/2'\n",
    "OUTPUT_ROOT = 'output2'\n",
    "TRAIT = 'Glucocorticoid-Sensitivity'\n",
    "\n",
    "OUTPUT_DIR = os.path.join(OUTPUT_ROOT, USER, '-'.join(TRAIT.split()))\n",
    "JSON_PATH = os.path.join(OUTPUT_DIR, \"cohort_info.json\")\n",
    "if not os.path.exists(OUTPUT_DIR):\n",
    "    os.makedirs(OUTPUT_DIR, exist_ok=True)\n",
    "\n",
    "# Gene symbol normalization may take 1-2 minutes. You may set it to False for debugging.\n",
    "NORMALIZE_GENE = True"
   ]
  },
  {
   "cell_type": "code",
   "execution_count": 2,
   "metadata": {
    "ExecuteTime": {
     "end_time": "2024-02-27T00:22:19.923963844Z",
     "start_time": "2024-02-27T00:22:19.920633515Z"
    },
    "colab": {
     "base_uri": "https://localhost:8080/"
    },
    "id": "jMTdsU43vVg3",
    "outputId": "38886111-f442-44b4-8398-96bf384d7abd"
   },
   "outputs": [
    {
     "data": {
      "text/plain": [
       "\"import os\\nfrom google.colab import drive\\n\\ndrive.mount('/content/drive', force_remount=True)\\nproj_dir = '/content/drive/MyDrive/AI4Science_Public'\\nos.chdir(proj_dir)\""
      ]
     },
     "execution_count": 2,
     "metadata": {},
     "output_type": "execute_result"
    }
   ],
   "source": [
    "# This cell is only for use on Google Colab. Skip it if you run your code in other environments\n",
    "\n",
    "\"\"\"import os\n",
    "from google.colab import drive\n",
    "\n",
    "drive.mount('/content/drive', force_remount=True)\n",
    "proj_dir = '/content/drive/MyDrive/AI4Science_Public'\n",
    "os.chdir(proj_dir)\"\"\""
   ]
  },
  {
   "cell_type": "markdown",
   "metadata": {
    "collapsed": false
   },
   "source": [
    "# 2. Data preprocessing and selection"
   ]
  },
  {
   "cell_type": "markdown",
   "metadata": {
    "collapsed": false
   },
   "source": [
    "## 2.1. The TCGA Xena dataset xxthis part is not changedxx"
   ]
  },
  {
   "cell_type": "markdown",
   "metadata": {
    "collapsed": false
   },
   "source": [
    "In TCGA Xena, there is either zero or one cohort related to the trait. We search the names of subdirectories to see if any matches the trait. If a match is found, we directly obtain the file paths."
   ]
  },
  {
   "cell_type": "code",
   "execution_count": 3,
   "metadata": {
    "ExecuteTime": {
     "end_time": "2024-02-27T00:22:21.140790869Z",
     "start_time": "2024-02-27T00:22:21.133208795Z"
    },
    "collapsed": false
   },
   "outputs": [
    {
     "data": {
      "text/plain": [
       "['TCGA_Lower_Grade_Glioma_(LGG)',\n",
       " 'TCGA_lower_grade_glioma_and_glioblastoma_(GBMLGG)',\n",
       " 'TCGA_Lung_Adenocarcinoma_(LUAD)',\n",
       " 'TCGA_Lung_Cancer_(LUNG)',\n",
       " 'TCGA_Lung_Squamous_Cell_Carcinoma_(LUSC)',\n",
       " 'TCGA_Melanoma_(SKCM)',\n",
       " 'TCGA_Mesothelioma_(MESO)',\n",
       " 'TCGA_Ocular_melanomas_(UVM)',\n",
       " 'TCGA_Ovarian_Cancer_(OV)',\n",
       " 'TCGA_Pancreatic_Cancer_(PAAD)']"
      ]
     },
     "execution_count": 3,
     "metadata": {},
     "output_type": "execute_result"
    }
   ],
   "source": [
    "dataset = 'TCGA'\n",
    "dataset_dir = os.path.join(DATA_ROOT, dataset)\n",
    "os.listdir(dataset_dir)[:10]"
   ]
  },
  {
   "cell_type": "markdown",
   "metadata": {
    "collapsed": false
   },
   "source": [
    "If no match is found, jump directly to GEO in Part 2.2"
   ]
  },
  {
   "cell_type": "code",
   "execution_count": 4,
   "metadata": {
    "ExecuteTime": {
     "end_time": "2024-02-27T00:22:21.985144212Z",
     "start_time": "2024-02-27T00:22:21.981084968Z"
    },
    "collapsed": false
   },
   "outputs": [],
   "source": [
    "trait_subdir = \"TCGA_Breast_Cancer_(BRCA)\"\n",
    "cohort = 'Xena'\n",
    "# All the cancer traits in Xena are binary\n",
    "trait_type = 'binary'\n",
    "# Once a relevant cohort is found in Xena, we can generally assume the gene and clinical data are available\n",
    "is_available = True\n",
    "\n",
    "cohort_dir = os.path.join(DATA_ROOT, dataset, trait_subdir)\n",
    "clinical_data_file, genetic_data_file = xena_get_relevant_filepaths(cohort_dir)"
   ]
  },
  {
   "cell_type": "code",
   "execution_count": 5,
   "metadata": {
    "ExecuteTime": {
     "end_time": "2024-02-27T00:22:25.794819905Z",
     "start_time": "2024-02-27T00:22:22.357077391Z"
    },
    "id": "MudwB-_iz7sc"
   },
   "outputs": [],
   "source": [
    "import pandas as pd\n",
    "\n",
    "clinical_data = pd.read_csv(clinical_data_file, sep='\\t', index_col=0)\n",
    "genetic_data = pd.read_csv(genetic_data_file, compression='gzip', sep='\\t', index_col=0)\n",
    "age_col = gender_col = None"
   ]
  },
  {
   "cell_type": "code",
   "execution_count": 6,
   "metadata": {
    "ExecuteTime": {
     "end_time": "2024-02-27T00:22:25.798785383Z",
     "start_time": "2024-02-27T00:22:25.796474039Z"
    },
    "collapsed": false
   },
   "outputs": [
    {
     "data": {
      "text/plain": [
       "['AJCC_Stage_nature2012',\n",
       " 'Age_at_Initial_Pathologic_Diagnosis_nature2012',\n",
       " 'CN_Clusters_nature2012',\n",
       " 'Converted_Stage_nature2012',\n",
       " 'Days_to_Date_of_Last_Contact_nature2012',\n",
       " 'Days_to_date_of_Death_nature2012',\n",
       " 'ER_Status_nature2012',\n",
       " 'Gender_nature2012',\n",
       " 'HER2_Final_Status_nature2012',\n",
       " 'Integrated_Clusters_no_exp__nature2012']"
      ]
     },
     "execution_count": 6,
     "metadata": {},
     "output_type": "execute_result"
    }
   ],
   "source": [
    "_, clinical_data_cols = check_rows_and_columns(clinical_data)\n",
    "clinical_data_cols[:10]"
   ]
  },
  {
   "cell_type": "markdown",
   "metadata": {
    "ExecuteTime": {
     "end_time": "2023-12-28T20:20:11.841042813Z",
     "start_time": "2023-12-28T20:20:11.834458206Z"
    },
    "collapsed": false
   },
   "source": [
    "Read all the column names in the clinical dataset, to find the columns that record information about age or gender.\n",
    "Reference prompt:"
   ]
  },
  {
   "cell_type": "code",
   "execution_count": 7,
   "metadata": {
    "ExecuteTime": {
     "end_time": "2024-02-27T00:22:25.802838875Z",
     "start_time": "2024-02-27T00:22:25.798659327Z"
    },
    "collapsed": false
   },
   "outputs": [
    {
     "data": {
      "text/plain": [
       "\"\\nBelow is a list of column names from a biomedical dataset. Please examine it and identify the columns that are likely to contain information about patients' age. Additionally, please do the same for columns that may hold data on patients' gender. Please provide your answer by strictly following this format, without redundant words:\\ncandidate_age_cols = [col_name1, col_name2, ...]\\ncandidate_gender_cols = [col_name1, col_name2, ...]\\nIf no columns match a criterion, please provide an empty list.\\n\\nColumn names:\\n['AJCC_Stage_nature2012', 'Age_at_Initial_Pathologic_Diagnosis_nature2012', 'CN_Clusters_nature2012', 'Converted_Stage_nature2012', 'Days_to_Date_of_Last_Contact_nature2012', 'Days_to_date_of_Death_nature2012', 'ER_Status_nature2012', 'Gender_nature2012', 'HER2_Final_Status_nature2012', 'Integrated_Clusters_no_exp__nature2012', 'Integrated_Clusters_unsup_exp__nature2012', 'Integrated_Clusters_with_PAM50__nature2012', 'Metastasis_Coded_nature2012', 'Metastasis_nature2012', 'Node_Coded_nature2012', 'Node_nature2012', 'OS_Time_nature2012', 'OS_event_nature2012', 'PAM50Call_RNAseq', 'PAM50_mRNA_nature2012', 'PR_Status_nature2012', 'RPPA_Clusters_nature2012', 'SigClust_Intrinsic_mRNA_nature2012', 'SigClust_Unsupervised_mRNA_nature2012', 'Survival_Data_Form_nature2012', 'Tumor_T1_Coded_nature2012', 'Tumor_nature2012', 'Vital_Status_nature2012', '_INTEGRATION', '_PANCAN_CNA_PANCAN_K8', '_PANCAN_Cluster_Cluster_PANCAN', '_PANCAN_DNAMethyl_BRCA', '_PANCAN_DNAMethyl_PANCAN', '_PANCAN_RPPA_PANCAN_K8', '_PANCAN_UNC_RNAseq_PANCAN_K16', '_PANCAN_miRNA_PANCAN', '_PANCAN_mirna_BRCA', '_PANCAN_mutation_PANCAN', '_PATIENT', '_cohort', '_primary_disease', '_primary_site', 'additional_pharmaceutical_therapy', 'additional_radiation_therapy', 'additional_surgery_locoregional_procedure', 'additional_surgery_metastatic_procedure', 'age_at_initial_pathologic_diagnosis', 'anatomic_neoplasm_subdivision', 'axillary_lymph_node_stage_method_type', 'axillary_lymph_node_stage_other_method_descriptive_text', 'bcr_followup_barcode', 'bcr_patient_barcode', 'bcr_sample_barcode', 'breast_cancer_surgery_margin_status', 'breast_carcinoma_estrogen_receptor_status', 'breast_carcinoma_immunohistochemistry_er_pos_finding_scale', 'breast_carcinoma_immunohistochemistry_pos_cell_score', 'breast_carcinoma_immunohistochemistry_prgstrn_rcptr_ps_fndng_scl', 'breast_carcinoma_primary_surgical_procedure_name', 'breast_carcinoma_progesterone_receptor_status', 'breast_carcinoma_surgical_procedure_name', 'breast_neoplasm_other_surgical_procedure_descriptive_text', 'cytokeratin_immunohistochemistry_staining_method_mcrmtstss_ndctr', 'days_to_additional_surgery_locoregional_procedure', 'days_to_additional_surgery_metastatic_procedure', 'days_to_birth', 'days_to_collection', 'days_to_death', 'days_to_initial_pathologic_diagnosis', 'days_to_last_followup', 'days_to_last_known_alive', 'days_to_new_tumor_event_additional_surgery_procedure', 'days_to_new_tumor_event_after_initial_treatment', 'disease_code', 'distant_metastasis_present_ind2', 'er_detection_method_text', 'er_level_cell_percentage_category', 'fluorescence_in_st_hybrdztn_dgnstc_prcdr_chrmsm_17_sgnl_rslt_rng', 'followup_case_report_form_submission_reason', 'form_completion_date', 'gender', 'her2_and_centromere_17_positive_finding_other_measuremnt_scl_txt', 'her2_erbb_method_calculation_method_text', 'her2_erbb_pos_finding_cell_percent_category', 'her2_erbb_pos_finding_fluorescence_n_st_hybrdztn_clcltn_mthd_txt', 'her2_immunohistochemistry_level_result', 'her2_neu_and_centromere_17_copy_number_analysis_npt_ttl_nmbr_cnt', 'her2_neu_breast_carcinoma_copy_analysis_input_total_number', 'her2_neu_chromosone_17_signal_ratio_value', 'her2_neu_metastatic_breast_carcinoma_copy_analysis_inpt_ttl_nmbr', 'histological_type', 'histological_type_other', 'history_of_neoadjuvant_treatment', 'hr2_n_nd_cntrmr_17_cpy_nmbr_mtsttc_brst_crcnm_nlyss_npt_ttl_nmbr', 'icd_10', 'icd_o_3_histology', 'icd_o_3_site', 'immunohistochemistry_positive_cell_score', 'informed_consent_verified', 'init_pathology_dx_method_other', 'initial_pathologic_diagnosis_method', 'initial_weight', 'is_ffpe', 'lab_proc_her2_neu_immunohistochemistry_receptor_status', 'lab_procedure_her2_neu_in_situ_hybrid_outcome_type', 'lost_follow_up', 'lymph_node_examined_count', 'margin_status', 'menopause_status', 'metastatic_breast_carcinm_ps_fndng_prgstrn_rcptr_thr_msr_scl_txt', 'metastatic_breast_carcinom_lb_prc_hr2_n_mmnhstchmstry_rcptr_stts', 'metastatic_breast_carcinoma_erbb2_immunohistochemistry_levl_rslt', 'metastatic_breast_carcinoma_estrogen_receptor_detection_mthd_txt', 'metastatic_breast_carcinoma_estrogen_receptor_status', 'metastatic_breast_carcinoma_estrogen_receptr_lvl_cll_prcnt_ctgry', 'metastatic_breast_carcinoma_her2_erbb_method_calculatin_mthd_txt', 'metastatic_breast_carcinoma_her2_erbb_pos_findng_cll_prcnt_ctgry', 'metastatic_breast_carcinoma_her2_neu_chromosone_17_signal_rat_vl', 'metastatic_breast_carcinoma_immunhstchmstry_r_pstv_fndng_scl_typ', 'metastatic_breast_carcinoma_immunohistochemistry_er_pos_cell_scr', 'metastatic_breast_carcinoma_immunohistochemistry_pr_pos_cell_scr', 'metastatic_breast_carcinoma_lab_proc_hr2_n_n_st_hybrdztn_tcm_typ', 'metastatic_breast_carcinoma_pos_finding_hr2_rbb2_thr_msr_scl_txt', 'metastatic_breast_carcinoma_progestern_rcptr_lvl_cll_prcnt_ctgry', 'metastatic_breast_carcinoma_progesterone_receptor_dtctn_mthd_txt', 'metastatic_breast_carcinoma_progesterone_receptor_status', 'metastatic_site_at_diagnosis', 'metastatic_site_at_diagnosis_other', 'methylation_Clusters_nature2012', 'miRNA_Clusters_nature2012', 'mtsttc_brst_crcnm_flrscnc_n_st_hybrdztn_dgnstc_prc_cntrmr_17_sgn', 'mtsttc_brst_crcnm_hr2_rbb_ps_fndng_flrscnc_n_st_hybrdztn_clcltn', 'mtsttc_brst_crcnm_mmnhstchmstry_prgstrn_rcptr_pstv_fndng_scl_typ', 'new_neoplasm_event_occurrence_anatomic_site', 'new_neoplasm_event_type', 'new_neoplasm_occurrence_anatomic_site_text', 'new_tumor_event_additional_surgery_procedure', 'new_tumor_event_after_initial_treatment', 'number_of_lymphnodes_positive_by_he', 'number_of_lymphnodes_positive_by_ihc', 'oct_embedded', 'other_dx', 'pathologic_M', 'pathologic_N', 'pathologic_T', 'pathologic_stage', 'pathology_report_file_name', 'patient_id', 'person_neoplasm_cancer_status', 'pgr_detection_method_text', 'pos_finding_her2_erbb2_other_measurement_scale_text', 'pos_finding_metastatic_brst_crcnm_strgn_rcptr_thr_msrmnt_scl_txt', 'pos_finding_progesterone_receptor_other_measurement_scale_text', 'positive_finding_estrogen_receptor_other_measurement_scale_text', 'postoperative_rx_tx', 'primary_lymph_node_presentation_assessment', 'progesterone_receptor_level_cell_percent_category', 'project_code', 'radiation_therapy', 'sample_type', 'sample_type_id', 'surgical_procedure_purpose_other_text', 'system_version', 'targeted_molecular_therapy', 'tissue_prospective_collection_indicator', 'tissue_retrospective_collection_indicator', 'tissue_source_site', 'tumor_tissue_site', 'vial_number', 'vital_status', 'year_of_initial_pathologic_diagnosis', '_GENOMIC_ID_TCGA_BRCA_exp_HiSeqV2_exon', '_GENOMIC_ID_TCGA_BRCA_exp_HiSeqV2_PANCAN', '_GENOMIC_ID_TCGA_BRCA_RPPA_RBN', '_GENOMIC_ID_TCGA_BRCA_mutation', '_GENOMIC_ID_TCGA_BRCA_PDMRNAseq', '_GENOMIC_ID_TCGA_BRCA_hMethyl450', '_GENOMIC_ID_TCGA_BRCA_RPPA', '_GENOMIC_ID_TCGA_BRCA_PDMRNAseqCNV', '_GENOMIC_ID_TCGA_BRCA_mutation_curated_wustl_gene', '_GENOMIC_ID_TCGA_BRCA_hMethyl27', '_GENOMIC_ID_TCGA_BRCA_PDMarrayCNV', '_GENOMIC_ID_TCGA_BRCA_miRNA_HiSeq', '_GENOMIC_ID_TCGA_BRCA_mutation_wustl_gene', '_GENOMIC_ID_TCGA_BRCA_miRNA_GA', '_GENOMIC_ID_TCGA_BRCA_exp_HiSeqV2_percentile', '_GENOMIC_ID_data/public/TCGA/BRCA/miRNA_GA_gene', '_GENOMIC_ID_TCGA_BRCA_gistic2thd', '_GENOMIC_ID_data/public/TCGA/BRCA/miRNA_HiSeq_gene', '_GENOMIC_ID_TCGA_BRCA_G4502A_07_3', '_GENOMIC_ID_TCGA_BRCA_exp_HiSeqV2', '_GENOMIC_ID_TCGA_BRCA_gistic2', '_GENOMIC_ID_TCGA_BRCA_PDMarray']\\n\""
      ]
     },
     "execution_count": 7,
     "metadata": {},
     "output_type": "execute_result"
    }
   ],
   "source": [
    "f'''\n",
    "Below is a list of column names from a biomedical dataset. Please examine it and identify the columns that are likely to contain information about patients' age. Additionally, please do the same for columns that may hold data on patients' gender. Please provide your answer by strictly following this format, without redundant words:\n",
    "candidate_age_cols = [col_name1, col_name2, ...]\n",
    "candidate_gender_cols = [col_name1, col_name2, ...]\n",
    "If no columns match a criterion, please provide an empty list.\n",
    "\n",
    "Column names:\n",
    "{clinical_data_cols}\n",
    "'''"
   ]
  },
  {
   "cell_type": "code",
   "execution_count": 8,
   "metadata": {
    "ExecuteTime": {
     "end_time": "2024-02-27T00:22:25.864092575Z",
     "start_time": "2024-02-27T00:22:25.802001989Z"
    },
    "collapsed": false
   },
   "outputs": [],
   "source": [
    "candidate_age_cols = ['Age_at_Initial_Pathologic_Diagnosis_nature2012', 'age_at_initial_pathologic_diagnosis',\n",
    "                      'days_to_birth', 'year_of_initial_pathologic_diagnosis']\n",
    "candidate_gender_cols = ['Gender_nature2012', 'gender']"
   ]
  },
  {
   "cell_type": "markdown",
   "metadata": {
    "ExecuteTime": {
     "end_time": "2023-12-31T03:57:44.207565572Z",
     "start_time": "2023-12-31T03:57:44.202177544Z"
    },
    "collapsed": false
   },
   "source": [
    "\n",
    "Choose a single column from the candidate columns that record age and gender information respectively.\n",
    "If no column meets the requirement, keep 'age_col' or 'gender_col' to None"
   ]
  },
  {
   "cell_type": "code",
   "execution_count": 9,
   "metadata": {
    "ExecuteTime": {
     "end_time": "2024-02-27T00:22:25.883993050Z",
     "start_time": "2024-02-27T00:22:25.843002735Z"
    },
    "collapsed": false
   },
   "outputs": [
    {
     "data": {
      "text/plain": [
       "{'Age_at_Initial_Pathologic_Diagnosis_nature2012': [nan, nan, nan, nan, nan],\n",
       " 'age_at_initial_pathologic_diagnosis': [55.0, 50.0, 62.0, 52.0, 50.0],\n",
       " 'days_to_birth': [-20211.0, -18538.0, -22848.0, -19074.0, -18371.0],\n",
       " 'year_of_initial_pathologic_diagnosis': [2004.0,\n",
       "  2003.0,\n",
       "  2011.0,\n",
       "  2011.0,\n",
       "  2013.0]}"
      ]
     },
     "execution_count": 9,
     "metadata": {},
     "output_type": "execute_result"
    }
   ],
   "source": [
    "preview_df(clinical_data[candidate_age_cols])"
   ]
  },
  {
   "cell_type": "code",
   "execution_count": 10,
   "metadata": {
    "ExecuteTime": {
     "end_time": "2024-02-27T00:22:26.108535524Z",
     "start_time": "2024-02-27T00:22:26.101435803Z"
    },
    "collapsed": false
   },
   "outputs": [],
   "source": [
    "age_col = 'age_at_initial_pathologic_diagnosis'"
   ]
  },
  {
   "cell_type": "code",
   "execution_count": 11,
   "metadata": {
    "ExecuteTime": {
     "end_time": "2024-02-27T00:22:26.627515444Z",
     "start_time": "2024-02-27T00:22:26.621590532Z"
    },
    "collapsed": false
   },
   "outputs": [
    {
     "data": {
      "text/plain": [
       "{'Gender_nature2012': [nan, nan, nan, nan, nan],\n",
       " 'gender': ['FEMALE', 'FEMALE', 'FEMALE', 'FEMALE', 'FEMALE']}"
      ]
     },
     "execution_count": 11,
     "metadata": {},
     "output_type": "execute_result"
    }
   ],
   "source": [
    "preview_df(clinical_data[candidate_gender_cols])"
   ]
  },
  {
   "cell_type": "code",
   "execution_count": 12,
   "metadata": {
    "ExecuteTime": {
     "end_time": "2024-02-27T00:22:27.048689083Z",
     "start_time": "2024-02-27T00:22:27.042025799Z"
    },
    "collapsed": false
   },
   "outputs": [],
   "source": [
    "gender_col = 'gender'"
   ]
  },
  {
   "cell_type": "code",
   "execution_count": 13,
   "metadata": {
    "ExecuteTime": {
     "end_time": "2024-02-27T00:22:27.533988678Z",
     "start_time": "2024-02-27T00:22:27.530516924Z"
    },
    "collapsed": false
   },
   "outputs": [],
   "source": [
    "selected_clinical_data = xena_select_clinical_features(clinical_data, TRAIT, age_col=age_col, gender_col=gender_col)"
   ]
  },
  {
   "cell_type": "code",
   "execution_count": 14,
   "metadata": {
    "ExecuteTime": {
     "end_time": "2024-02-27T00:23:16.602458026Z",
     "start_time": "2024-02-27T00:22:27.839636769Z"
    },
    "collapsed": false
   },
   "outputs": [],
   "source": [
    "if NORMALIZE_GENE:\n",
    "    genetic_data = normalize_gene_symbols_in_index(genetic_data)"
   ]
  },
  {
   "cell_type": "code",
   "execution_count": 15,
   "metadata": {
    "ExecuteTime": {
     "end_time": "2024-02-27T00:23:16.720144304Z",
     "start_time": "2024-02-27T00:23:16.643071320Z"
    },
    "collapsed": false
   },
   "outputs": [
    {
     "data": {
      "text/html": [
       "<div>\n",
       "<style scoped>\n",
       "    .dataframe tbody tr th:only-of-type {\n",
       "        vertical-align: middle;\n",
       "    }\n",
       "\n",
       "    .dataframe tbody tr th {\n",
       "        vertical-align: top;\n",
       "    }\n",
       "\n",
       "    .dataframe thead th {\n",
       "        text-align: right;\n",
       "    }\n",
       "</style>\n",
       "<table border=\"1\" class=\"dataframe\">\n",
       "  <thead>\n",
       "    <tr style=\"text-align: right;\">\n",
       "      <th></th>\n",
       "      <th>Breast Cancer</th>\n",
       "      <th>Age</th>\n",
       "      <th>Gender</th>\n",
       "      <th>ARHGEF10L</th>\n",
       "      <th>HIF3A</th>\n",
       "      <th>RNF17</th>\n",
       "      <th>RNF10</th>\n",
       "      <th>RNF11</th>\n",
       "      <th>RNF13</th>\n",
       "      <th>GTF2IP1</th>\n",
       "      <th>...</th>\n",
       "      <th>SLC7A10</th>\n",
       "      <th>PLA2G2C</th>\n",
       "      <th>TULP2</th>\n",
       "      <th>NPY5R</th>\n",
       "      <th>GNGT2</th>\n",
       "      <th>GNGT1</th>\n",
       "      <th>TULP3</th>\n",
       "      <th>BCL6B</th>\n",
       "      <th>GSTK1</th>\n",
       "      <th>SELP</th>\n",
       "    </tr>\n",
       "    <tr>\n",
       "      <th>sampleID</th>\n",
       "      <th></th>\n",
       "      <th></th>\n",
       "      <th></th>\n",
       "      <th></th>\n",
       "      <th></th>\n",
       "      <th></th>\n",
       "      <th></th>\n",
       "      <th></th>\n",
       "      <th></th>\n",
       "      <th></th>\n",
       "      <th></th>\n",
       "      <th></th>\n",
       "      <th></th>\n",
       "      <th></th>\n",
       "      <th></th>\n",
       "      <th></th>\n",
       "      <th></th>\n",
       "      <th></th>\n",
       "      <th></th>\n",
       "      <th></th>\n",
       "      <th></th>\n",
       "    </tr>\n",
       "  </thead>\n",
       "  <tbody>\n",
       "    <tr>\n",
       "      <th>TCGA-3C-AAAU-01</th>\n",
       "      <td>1</td>\n",
       "      <td>55.0</td>\n",
       "      <td>0.0</td>\n",
       "      <td>0.607308</td>\n",
       "      <td>-3.194126</td>\n",
       "      <td>-0.531035</td>\n",
       "      <td>-0.145872</td>\n",
       "      <td>0.237422</td>\n",
       "      <td>-0.29921</td>\n",
       "      <td>-0.142694</td>\n",
       "      <td>...</td>\n",
       "      <td>-1.331386</td>\n",
       "      <td>-0.086682</td>\n",
       "      <td>-0.748878</td>\n",
       "      <td>0.565583</td>\n",
       "      <td>-0.767233</td>\n",
       "      <td>-1.28139</td>\n",
       "      <td>-0.271377</td>\n",
       "      <td>0.360373</td>\n",
       "      <td>1.067905</td>\n",
       "      <td>0.076267</td>\n",
       "    </tr>\n",
       "    <tr>\n",
       "      <th>TCGA-3C-AALI-01</th>\n",
       "      <td>1</td>\n",
       "      <td>50.0</td>\n",
       "      <td>0.0</td>\n",
       "      <td>-0.641192</td>\n",
       "      <td>-4.928226</td>\n",
       "      <td>0.095465</td>\n",
       "      <td>0.098128</td>\n",
       "      <td>-0.541978</td>\n",
       "      <td>-0.32291</td>\n",
       "      <td>-0.044694</td>\n",
       "      <td>...</td>\n",
       "      <td>1.426614</td>\n",
       "      <td>-0.086682</td>\n",
       "      <td>0.312922</td>\n",
       "      <td>0.079683</td>\n",
       "      <td>0.475267</td>\n",
       "      <td>1.99661</td>\n",
       "      <td>0.161423</td>\n",
       "      <td>0.644673</td>\n",
       "      <td>-0.428695</td>\n",
       "      <td>0.068667</td>\n",
       "    </tr>\n",
       "    <tr>\n",
       "      <th>TCGA-3C-AALJ-01</th>\n",
       "      <td>1</td>\n",
       "      <td>62.0</td>\n",
       "      <td>0.0</td>\n",
       "      <td>1.082808</td>\n",
       "      <td>-4.623726</td>\n",
       "      <td>-0.531035</td>\n",
       "      <td>0.484028</td>\n",
       "      <td>-0.183678</td>\n",
       "      <td>-0.91901</td>\n",
       "      <td>0.261106</td>\n",
       "      <td>...</td>\n",
       "      <td>1.694014</td>\n",
       "      <td>-0.086682</td>\n",
       "      <td>-0.748878</td>\n",
       "      <td>-0.656117</td>\n",
       "      <td>-0.216733</td>\n",
       "      <td>0.21081</td>\n",
       "      <td>0.101023</td>\n",
       "      <td>1.295073</td>\n",
       "      <td>0.915105</td>\n",
       "      <td>0.168567</td>\n",
       "    </tr>\n",
       "    <tr>\n",
       "      <th>TCGA-3C-AALK-01</th>\n",
       "      <td>1</td>\n",
       "      <td>52.0</td>\n",
       "      <td>0.0</td>\n",
       "      <td>0.121608</td>\n",
       "      <td>-2.881526</td>\n",
       "      <td>-0.531035</td>\n",
       "      <td>0.179128</td>\n",
       "      <td>0.039222</td>\n",
       "      <td>-0.45491</td>\n",
       "      <td>0.180306</td>\n",
       "      <td>...</td>\n",
       "      <td>-1.211186</td>\n",
       "      <td>-0.086682</td>\n",
       "      <td>0.415422</td>\n",
       "      <td>-0.178417</td>\n",
       "      <td>-0.211233</td>\n",
       "      <td>-1.28139</td>\n",
       "      <td>0.108023</td>\n",
       "      <td>0.496773</td>\n",
       "      <td>0.240105</td>\n",
       "      <td>3.099767</td>\n",
       "    </tr>\n",
       "    <tr>\n",
       "      <th>TCGA-4H-AAAK-01</th>\n",
       "      <td>1</td>\n",
       "      <td>50.0</td>\n",
       "      <td>0.0</td>\n",
       "      <td>0.420208</td>\n",
       "      <td>-3.282726</td>\n",
       "      <td>-0.531035</td>\n",
       "      <td>-0.020972</td>\n",
       "      <td>-0.117978</td>\n",
       "      <td>-0.55781</td>\n",
       "      <td>-0.173794</td>\n",
       "      <td>...</td>\n",
       "      <td>-0.901186</td>\n",
       "      <td>0.424818</td>\n",
       "      <td>0.685222</td>\n",
       "      <td>-0.698717</td>\n",
       "      <td>-0.484233</td>\n",
       "      <td>-1.28139</td>\n",
       "      <td>-0.223577</td>\n",
       "      <td>0.225573</td>\n",
       "      <td>-0.301995</td>\n",
       "      <td>0.200067</td>\n",
       "    </tr>\n",
       "  </tbody>\n",
       "</table>\n",
       "<p>5 rows × 17342 columns</p>\n",
       "</div>"
      ],
      "text/plain": [
       "                 Breast Cancer   Age  Gender  ARHGEF10L     HIF3A     RNF17  \\\n",
       "sampleID                                                                      \n",
       "TCGA-3C-AAAU-01              1  55.0     0.0   0.607308 -3.194126 -0.531035   \n",
       "TCGA-3C-AALI-01              1  50.0     0.0  -0.641192 -4.928226  0.095465   \n",
       "TCGA-3C-AALJ-01              1  62.0     0.0   1.082808 -4.623726 -0.531035   \n",
       "TCGA-3C-AALK-01              1  52.0     0.0   0.121608 -2.881526 -0.531035   \n",
       "TCGA-4H-AAAK-01              1  50.0     0.0   0.420208 -3.282726 -0.531035   \n",
       "\n",
       "                    RNF10     RNF11    RNF13   GTF2IP1  ...   SLC7A10  \\\n",
       "sampleID                                                ...             \n",
       "TCGA-3C-AAAU-01 -0.145872  0.237422 -0.29921 -0.142694  ... -1.331386   \n",
       "TCGA-3C-AALI-01  0.098128 -0.541978 -0.32291 -0.044694  ...  1.426614   \n",
       "TCGA-3C-AALJ-01  0.484028 -0.183678 -0.91901  0.261106  ...  1.694014   \n",
       "TCGA-3C-AALK-01  0.179128  0.039222 -0.45491  0.180306  ... -1.211186   \n",
       "TCGA-4H-AAAK-01 -0.020972 -0.117978 -0.55781 -0.173794  ... -0.901186   \n",
       "\n",
       "                  PLA2G2C     TULP2     NPY5R     GNGT2    GNGT1     TULP3  \\\n",
       "sampleID                                                                     \n",
       "TCGA-3C-AAAU-01 -0.086682 -0.748878  0.565583 -0.767233 -1.28139 -0.271377   \n",
       "TCGA-3C-AALI-01 -0.086682  0.312922  0.079683  0.475267  1.99661  0.161423   \n",
       "TCGA-3C-AALJ-01 -0.086682 -0.748878 -0.656117 -0.216733  0.21081  0.101023   \n",
       "TCGA-3C-AALK-01 -0.086682  0.415422 -0.178417 -0.211233 -1.28139  0.108023   \n",
       "TCGA-4H-AAAK-01  0.424818  0.685222 -0.698717 -0.484233 -1.28139 -0.223577   \n",
       "\n",
       "                    BCL6B     GSTK1      SELP  \n",
       "sampleID                                       \n",
       "TCGA-3C-AAAU-01  0.360373  1.067905  0.076267  \n",
       "TCGA-3C-AALI-01  0.644673 -0.428695  0.068667  \n",
       "TCGA-3C-AALJ-01  1.295073  0.915105  0.168567  \n",
       "TCGA-3C-AALK-01  0.496773  0.240105  3.099767  \n",
       "TCGA-4H-AAAK-01  0.225573 -0.301995  0.200067  \n",
       "\n",
       "[5 rows x 17342 columns]"
      ]
     },
     "execution_count": 15,
     "metadata": {},
     "output_type": "execute_result"
    }
   ],
   "source": [
    "merged_data = selected_clinical_data.join(genetic_data.T).dropna()\n",
    "merged_data.head()"
   ]
  },
  {
   "cell_type": "code",
   "execution_count": 16,
   "metadata": {
    "ExecuteTime": {
     "end_time": "2024-02-27T00:23:16.731303752Z",
     "start_time": "2024-02-27T00:23:16.717316474Z"
    },
    "collapsed": false
   },
   "outputs": [
    {
     "name": "stdout",
     "output_type": "stream",
     "text": [
      "The merged dataset contains 1215 samples.\n",
      "For the feature 'Breast Cancer', the least common label is '0' with 113 occurrences. This represents 9.30% of the dataset.\n",
      "The distribution of the feature 'Breast Cancer' in this dataset is fine.\n",
      "\n",
      "Quartiles for 'Age':\n",
      "  25%: 48.0\n",
      "  50% (Median): 58.0\n",
      "  75%: 67.0\n",
      "Min: 26.0\n",
      "Max: 90.0\n",
      "The distribution of the feature 'Age' in this dataset is fine.\n",
      "\n",
      "For the feature 'Gender', the least common label is '1.0' with 13 occurrences. This represents 1.07% of the dataset.\n",
      "The distribution of the feature 'Gender' in this dataset is fine.\n",
      "\n"
     ]
    },
    {
     "data": {
      "text/plain": [
       "False"
      ]
     },
     "execution_count": 16,
     "metadata": {},
     "output_type": "execute_result"
    }
   ],
   "source": [
    "print(f\"The merged dataset contains {len(merged_data)} samples.\")\n",
    "is_trait_biased, merge_data = judge_and_remove_biased_features(merged_data, TRAIT, trait_type=trait_type)\n",
    "is_trait_biased"
   ]
  },
  {
   "cell_type": "code",
   "execution_count": 17,
   "metadata": {
    "ExecuteTime": {
     "end_time": "2024-02-27T00:23:30.252387093Z",
     "start_time": "2024-02-27T00:23:16.722533204Z"
    },
    "collapsed": false
   },
   "outputs": [],
   "source": [
    "merged_data.head()\n",
    "if not is_trait_biased:\n",
    "    merge_data.to_csv(os.path.join(OUTPUT_DIR, cohort + '.csv'), index=False)"
   ]
  },
  {
   "cell_type": "code",
   "execution_count": 18,
   "metadata": {
    "ExecuteTime": {
     "end_time": "2024-02-27T00:23:30.302271525Z",
     "start_time": "2024-02-27T00:23:30.295066253Z"
    },
    "collapsed": false
   },
   "outputs": [
    {
     "name": "stdout",
     "output_type": "stream",
     "text": [
      "A new JSON file was created at: ../../output1/Haoyang/Breast-Cancer/cohort_info.json\n"
     ]
    }
   ],
   "source": [
    "save_cohort_info(cohort, JSON_PATH, is_available, is_trait_biased, merged_data)"
   ]
  },
  {
   "cell_type": "markdown",
   "metadata": {
    "ExecuteTime": {
     "end_time": "2023-12-28T21:28:38.028916303Z",
     "start_time": "2023-12-28T21:28:38.016245426Z"
    },
    "collapsed": false
   },
   "source": [
    "## 2.2. The GEO dataset"
   ]
  },
  {
   "cell_type": "markdown",
   "metadata": {
    "ExecuteTime": {
     "end_time": "2023-12-31T03:25:23.253882615Z",
     "start_time": "2023-12-31T03:25:23.244062710Z"
    },
    "collapsed": false
   },
   "source": [
    "In GEO, there may be one or multiple cohorts for a trait. Each cohort is identified by an accession number. We iterate over all accession numbers in the corresponding subdirectory, preprocess the cohort data, and save them to csv files."
   ]
  },
  {
   "cell_type": "code",
   "execution_count": 2,
   "metadata": {
    "ExecuteTime": {
     "end_time": "2024-02-27T00:23:30.302587016Z",
     "start_time": "2024-02-27T00:23:30.295278811Z"
    },
    "collapsed": false
   },
   "outputs": [
    {
     "data": {
      "text/plain": [
       "['GSE38352',\n",
       " 'GSE58715',\n",
       " 'GSE32962',\n",
       " 'GSE50012',\n",
       " 'GSE15820',\n",
       " 'GSE2842',\n",
       " 'GSE65645',\n",
       " 'GSE42002',\n",
       " 'GSE57795',\n",
       " 'GSE33649',\n",
       " 'GSE5824',\n",
       " 'GSE94302',\n",
       " 'GSE67042',\n",
       " 'GSE48801',\n",
       " 'GSE67044',\n",
       " 'GSE66705',\n",
       " 'GSE66702']"
      ]
     },
     "execution_count": 2,
     "metadata": {},
     "output_type": "execute_result"
    }
   ],
   "source": [
    "dataset = 'GEO'\n",
    "trait_subdir = \"Glucocorticoid-Sensitivity\"\n",
    "\n",
    "trait_path = os.path.join(DATA_ROOT, dataset, trait_subdir)\n",
    "os.listdir(trait_path)"
   ]
  },
  {
   "cell_type": "markdown",
   "metadata": {
    "ExecuteTime": {
     "end_time": "2023-12-31T03:39:42.634870142Z",
     "start_time": "2023-12-31T03:39:42.534093295Z"
    },
    "collapsed": false
   },
   "source": [
    "Repeat the below steps for all the accession numbers"
   ]
  },
  {
   "cell_type": "code",
   "execution_count": 32,
   "metadata": {
    "ExecuteTime": {
     "end_time": "2024-02-27T00:23:30.302864515Z",
     "start_time": "2024-02-27T00:23:30.295388276Z"
    },
    "collapsed": false
   },
   "outputs": [
    {
     "data": {
      "text/plain": [
       "('/Users/wjt/Desktop/is_data/2/GEO/Glucocorticoid-Sensitivity/GSE32962/GSE32962_family.soft.gz',\n",
       " '/Users/wjt/Desktop/is_data/2/GEO/Glucocorticoid-Sensitivity/GSE32962/GSE32962_series_matrix.txt.gz')"
      ]
     },
     "execution_count": 32,
     "metadata": {},
     "output_type": "execute_result"
    }
   ],
   "source": [
    "# first two gse doesn't provide helpful info\n",
    "cohort = accession_num = \"GSE32962\"\n",
    "cohort_dir = os.path.join(trait_path, accession_num)\n",
    "soft_file, matrix_file = geo_get_relevant_filepaths(cohort_dir)\n",
    "soft_file, matrix_file"
   ]
  },
  {
   "cell_type": "markdown",
   "metadata": {
    "collapsed": false
   },
   "source": [
    "### Initial filtering and clinical data preprocessing"
   ]
  },
  {
   "cell_type": "code",
   "execution_count": 33,
   "metadata": {
    "ExecuteTime": {
     "end_time": "2024-02-27T00:23:30.303301102Z",
     "start_time": "2024-02-27T00:23:30.295491459Z"
    },
    "collapsed": false
   },
   "outputs": [
    {
     "name": "stdout",
     "output_type": "stream",
     "text": [
      "!Series_title\t\"In vitro prednisolone resistance signature in MLL-rearranged infant ALL\"\n",
      "!Series_summary\t\"Acute Lymphoblastic Leukemia (ALL) in infants (<1 year of age) is characterized by a high incidence of MLL translocations which is associated with a poor prognosis. Contributing to this poor prognosis is cellular drug resistance, especially to glucocorticoids like prednisolone. Although in vitro prednisolone resistance mechanisms have been proposed in pediatric ALL, it has never been studied in MLL-rearranged infant ALL, which are highly resistant to glucocorticoids in vitro and in vivo.\"\n",
      "!Series_overall_design\t\"We analyzed primary MLL-rearranged infant ALL expression profiles, which were either in vitro prednisolone-resistant or prednisolone-sensitive, in order to study in vitro prednisolone resistance.\"\n"
     ]
    }
   ],
   "source": [
    "background_prefixes = ['!Series_title', '!Series_summary', '!Series_overall_design']\n",
    "clinical_prefixes = ['!Sample_geo_accession', '!Sample_characteristics_ch1']\n",
    "\n",
    "background_info, clinical_data = get_background_and_clinical_data(matrix_file, background_prefixes, clinical_prefixes)\n",
    "print(background_info)"
   ]
  },
  {
   "cell_type": "code",
   "execution_count": 34,
   "metadata": {
    "ExecuteTime": {
     "end_time": "2024-02-27T00:23:30.303593599Z",
     "start_time": "2024-02-27T00:23:30.299747893Z"
    },
    "collapsed": false
   },
   "outputs": [
    {
     "data": {
      "text/html": [
       "<div>\n",
       "<style scoped>\n",
       "    .dataframe tbody tr th:only-of-type {\n",
       "        vertical-align: middle;\n",
       "    }\n",
       "\n",
       "    .dataframe tbody tr th {\n",
       "        vertical-align: top;\n",
       "    }\n",
       "\n",
       "    .dataframe thead th {\n",
       "        text-align: right;\n",
       "    }\n",
       "</style>\n",
       "<table border=\"1\" class=\"dataframe\">\n",
       "  <thead>\n",
       "    <tr style=\"text-align: right;\">\n",
       "      <th></th>\n",
       "      <th>!Sample_geo_accession</th>\n",
       "      <th>GSM816393</th>\n",
       "      <th>GSM816394</th>\n",
       "      <th>GSM816395</th>\n",
       "      <th>GSM816396</th>\n",
       "      <th>GSM816397</th>\n",
       "      <th>GSM816398</th>\n",
       "      <th>GSM816399</th>\n",
       "      <th>GSM816400</th>\n",
       "      <th>GSM816401</th>\n",
       "      <th>...</th>\n",
       "      <th>GSM816426</th>\n",
       "      <th>GSM816427</th>\n",
       "      <th>GSM816428</th>\n",
       "      <th>GSM816429</th>\n",
       "      <th>GSM816430</th>\n",
       "      <th>GSM816431</th>\n",
       "      <th>GSM816432</th>\n",
       "      <th>GSM816433</th>\n",
       "      <th>GSM816434</th>\n",
       "      <th>GSM816435</th>\n",
       "    </tr>\n",
       "  </thead>\n",
       "  <tbody>\n",
       "    <tr>\n",
       "      <th>0</th>\n",
       "      <td>!Sample_characteristics_ch1</td>\n",
       "      <td>disease state: Precursor B-cell acute lymphobl...</td>\n",
       "      <td>disease state: Precursor B-cell acute lymphobl...</td>\n",
       "      <td>disease state: Precursor B-cell acute lymphobl...</td>\n",
       "      <td>disease state: Precursor B-cell acute lymphobl...</td>\n",
       "      <td>disease state: Precursor B-cell acute lymphobl...</td>\n",
       "      <td>disease state: Precursor B-cell acute lymphobl...</td>\n",
       "      <td>disease state: Precursor B-cell acute lymphobl...</td>\n",
       "      <td>disease state: Precursor B-cell acute lymphobl...</td>\n",
       "      <td>disease state: Precursor B-cell acute lymphobl...</td>\n",
       "      <td>...</td>\n",
       "      <td>disease state: Precursor B-cell acute lymphobl...</td>\n",
       "      <td>disease state: Precursor B-cell acute lymphobl...</td>\n",
       "      <td>disease state: Precursor B-cell acute lymphobl...</td>\n",
       "      <td>disease state: Precursor B-cell acute lymphobl...</td>\n",
       "      <td>disease state: Precursor B-cell acute lymphobl...</td>\n",
       "      <td>disease state: Precursor B-cell acute lymphobl...</td>\n",
       "      <td>disease state: Precursor B-cell acute lymphobl...</td>\n",
       "      <td>disease state: Precursor B-cell acute lymphobl...</td>\n",
       "      <td>disease state: Precursor B-cell acute lymphobl...</td>\n",
       "      <td>disease state: Precursor B-cell acute lymphobl...</td>\n",
       "    </tr>\n",
       "    <tr>\n",
       "      <th>1</th>\n",
       "      <td>!Sample_characteristics_ch1</td>\n",
       "      <td>cell type: Primary infant ALL cells at diagnos...</td>\n",
       "      <td>cell type: Primary infant ALL cells at diagnos...</td>\n",
       "      <td>cell type: Primary infant ALL cells at diagnos...</td>\n",
       "      <td>cell type: Primary infant ALL cells at diagnos...</td>\n",
       "      <td>cell type: Primary infant ALL cells at diagnos...</td>\n",
       "      <td>cell type: Primary infant ALL cells at diagnos...</td>\n",
       "      <td>cell type: Primary infant ALL cells at diagnos...</td>\n",
       "      <td>cell type: Primary infant ALL cells at diagnos...</td>\n",
       "      <td>cell type: Primary infant ALL cells at diagnos...</td>\n",
       "      <td>...</td>\n",
       "      <td>cell type: Primary infant ALL cells at diagnos...</td>\n",
       "      <td>cell type: Primary infant ALL cells at diagnos...</td>\n",
       "      <td>cell type: Primary infant ALL cells at diagnos...</td>\n",
       "      <td>cell type: Primary infant ALL cells at diagnos...</td>\n",
       "      <td>cell type: Primary infant ALL cells at diagnos...</td>\n",
       "      <td>cell type: Primary infant ALL cells at diagnos...</td>\n",
       "      <td>cell type: Primary infant ALL cells at diagnos...</td>\n",
       "      <td>cell type: Primary infant ALL cells at diagnos...</td>\n",
       "      <td>cell type: Primary infant ALL cells at diagnos...</td>\n",
       "      <td>cell type: Primary infant ALL cells at diagnos...</td>\n",
       "    </tr>\n",
       "    <tr>\n",
       "      <th>2</th>\n",
       "      <td>!Sample_characteristics_ch1</td>\n",
       "      <td>genotype: MLL-rearranged</td>\n",
       "      <td>genotype: MLL-rearranged</td>\n",
       "      <td>genotype: MLL-rearranged</td>\n",
       "      <td>genotype: MLL-rearranged</td>\n",
       "      <td>genotype: MLL-rearranged</td>\n",
       "      <td>genotype: MLL-rearranged</td>\n",
       "      <td>genotype: MLL-rearranged</td>\n",
       "      <td>genotype: MLL-rearranged</td>\n",
       "      <td>genotype: MLL-rearranged</td>\n",
       "      <td>...</td>\n",
       "      <td>genotype: MLL-rearranged</td>\n",
       "      <td>genotype: MLL-rearranged</td>\n",
       "      <td>genotype: MLL-rearranged</td>\n",
       "      <td>genotype: MLL-rearranged</td>\n",
       "      <td>genotype: MLL-rearranged</td>\n",
       "      <td>genotype: MLL-rearranged</td>\n",
       "      <td>genotype: MLL-rearranged</td>\n",
       "      <td>genotype: MLL-rearranged</td>\n",
       "      <td>genotype: MLL-rearranged</td>\n",
       "      <td>genotype: MLL-rearranged</td>\n",
       "    </tr>\n",
       "    <tr>\n",
       "      <th>3</th>\n",
       "      <td>!Sample_characteristics_ch1</td>\n",
       "      <td>age: &lt; 1 year of age</td>\n",
       "      <td>age: &lt; 1 year of age</td>\n",
       "      <td>age: &lt; 1 year of age</td>\n",
       "      <td>age: &lt; 1 year of age</td>\n",
       "      <td>age: &lt; 1 year of age</td>\n",
       "      <td>age: &lt; 1 year of age</td>\n",
       "      <td>age: &lt; 1 year of age</td>\n",
       "      <td>age: &lt; 1 year of age</td>\n",
       "      <td>age: &lt; 1 year of age</td>\n",
       "      <td>...</td>\n",
       "      <td>age: &lt; 1 year of age</td>\n",
       "      <td>age: &lt; 1 year of age</td>\n",
       "      <td>age: &lt; 1 year of age</td>\n",
       "      <td>age: &lt; 1 year of age</td>\n",
       "      <td>age: &lt; 1 year of age</td>\n",
       "      <td>age: &lt; 1 year of age</td>\n",
       "      <td>age: &lt; 1 year of age</td>\n",
       "      <td>age: &lt; 1 year of age</td>\n",
       "      <td>age: &lt; 1 year of age</td>\n",
       "      <td>age: &lt; 1 year of age</td>\n",
       "    </tr>\n",
       "    <tr>\n",
       "      <th>4</th>\n",
       "      <td>!Sample_characteristics_ch1</td>\n",
       "      <td>prednisolone sensitivity: resistant</td>\n",
       "      <td>prednisolone sensitivity: resistant</td>\n",
       "      <td>prednisolone sensitivity: resistant</td>\n",
       "      <td>prednisolone sensitivity: resistant</td>\n",
       "      <td>prednisolone sensitivity: resistant</td>\n",
       "      <td>prednisolone sensitivity: resistant</td>\n",
       "      <td>prednisolone sensitivity: resistant</td>\n",
       "      <td>prednisolone sensitivity: resistant</td>\n",
       "      <td>prednisolone sensitivity: resistant</td>\n",
       "      <td>...</td>\n",
       "      <td>prednisolone sensitivity: sensitive</td>\n",
       "      <td>prednisolone sensitivity: sensitive</td>\n",
       "      <td>prednisolone sensitivity: sensitive</td>\n",
       "      <td>prednisolone sensitivity: sensitive</td>\n",
       "      <td>prednisolone sensitivity: sensitive</td>\n",
       "      <td>prednisolone sensitivity: sensitive</td>\n",
       "      <td>prednisolone sensitivity: sensitive</td>\n",
       "      <td>prednisolone sensitivity: sensitive</td>\n",
       "      <td>prednisolone sensitivity: sensitive</td>\n",
       "      <td>prednisolone sensitivity: sensitive</td>\n",
       "    </tr>\n",
       "  </tbody>\n",
       "</table>\n",
       "<p>5 rows × 44 columns</p>\n",
       "</div>"
      ],
      "text/plain": [
       "         !Sample_geo_accession  \\\n",
       "0  !Sample_characteristics_ch1   \n",
       "1  !Sample_characteristics_ch1   \n",
       "2  !Sample_characteristics_ch1   \n",
       "3  !Sample_characteristics_ch1   \n",
       "4  !Sample_characteristics_ch1   \n",
       "\n",
       "                                           GSM816393  \\\n",
       "0  disease state: Precursor B-cell acute lymphobl...   \n",
       "1  cell type: Primary infant ALL cells at diagnos...   \n",
       "2                           genotype: MLL-rearranged   \n",
       "3                               age: < 1 year of age   \n",
       "4                prednisolone sensitivity: resistant   \n",
       "\n",
       "                                           GSM816394  \\\n",
       "0  disease state: Precursor B-cell acute lymphobl...   \n",
       "1  cell type: Primary infant ALL cells at diagnos...   \n",
       "2                           genotype: MLL-rearranged   \n",
       "3                               age: < 1 year of age   \n",
       "4                prednisolone sensitivity: resistant   \n",
       "\n",
       "                                           GSM816395  \\\n",
       "0  disease state: Precursor B-cell acute lymphobl...   \n",
       "1  cell type: Primary infant ALL cells at diagnos...   \n",
       "2                           genotype: MLL-rearranged   \n",
       "3                               age: < 1 year of age   \n",
       "4                prednisolone sensitivity: resistant   \n",
       "\n",
       "                                           GSM816396  \\\n",
       "0  disease state: Precursor B-cell acute lymphobl...   \n",
       "1  cell type: Primary infant ALL cells at diagnos...   \n",
       "2                           genotype: MLL-rearranged   \n",
       "3                               age: < 1 year of age   \n",
       "4                prednisolone sensitivity: resistant   \n",
       "\n",
       "                                           GSM816397  \\\n",
       "0  disease state: Precursor B-cell acute lymphobl...   \n",
       "1  cell type: Primary infant ALL cells at diagnos...   \n",
       "2                           genotype: MLL-rearranged   \n",
       "3                               age: < 1 year of age   \n",
       "4                prednisolone sensitivity: resistant   \n",
       "\n",
       "                                           GSM816398  \\\n",
       "0  disease state: Precursor B-cell acute lymphobl...   \n",
       "1  cell type: Primary infant ALL cells at diagnos...   \n",
       "2                           genotype: MLL-rearranged   \n",
       "3                               age: < 1 year of age   \n",
       "4                prednisolone sensitivity: resistant   \n",
       "\n",
       "                                           GSM816399  \\\n",
       "0  disease state: Precursor B-cell acute lymphobl...   \n",
       "1  cell type: Primary infant ALL cells at diagnos...   \n",
       "2                           genotype: MLL-rearranged   \n",
       "3                               age: < 1 year of age   \n",
       "4                prednisolone sensitivity: resistant   \n",
       "\n",
       "                                           GSM816400  \\\n",
       "0  disease state: Precursor B-cell acute lymphobl...   \n",
       "1  cell type: Primary infant ALL cells at diagnos...   \n",
       "2                           genotype: MLL-rearranged   \n",
       "3                               age: < 1 year of age   \n",
       "4                prednisolone sensitivity: resistant   \n",
       "\n",
       "                                           GSM816401  ...  \\\n",
       "0  disease state: Precursor B-cell acute lymphobl...  ...   \n",
       "1  cell type: Primary infant ALL cells at diagnos...  ...   \n",
       "2                           genotype: MLL-rearranged  ...   \n",
       "3                               age: < 1 year of age  ...   \n",
       "4                prednisolone sensitivity: resistant  ...   \n",
       "\n",
       "                                           GSM816426  \\\n",
       "0  disease state: Precursor B-cell acute lymphobl...   \n",
       "1  cell type: Primary infant ALL cells at diagnos...   \n",
       "2                           genotype: MLL-rearranged   \n",
       "3                               age: < 1 year of age   \n",
       "4                prednisolone sensitivity: sensitive   \n",
       "\n",
       "                                           GSM816427  \\\n",
       "0  disease state: Precursor B-cell acute lymphobl...   \n",
       "1  cell type: Primary infant ALL cells at diagnos...   \n",
       "2                           genotype: MLL-rearranged   \n",
       "3                               age: < 1 year of age   \n",
       "4                prednisolone sensitivity: sensitive   \n",
       "\n",
       "                                           GSM816428  \\\n",
       "0  disease state: Precursor B-cell acute lymphobl...   \n",
       "1  cell type: Primary infant ALL cells at diagnos...   \n",
       "2                           genotype: MLL-rearranged   \n",
       "3                               age: < 1 year of age   \n",
       "4                prednisolone sensitivity: sensitive   \n",
       "\n",
       "                                           GSM816429  \\\n",
       "0  disease state: Precursor B-cell acute lymphobl...   \n",
       "1  cell type: Primary infant ALL cells at diagnos...   \n",
       "2                           genotype: MLL-rearranged   \n",
       "3                               age: < 1 year of age   \n",
       "4                prednisolone sensitivity: sensitive   \n",
       "\n",
       "                                           GSM816430  \\\n",
       "0  disease state: Precursor B-cell acute lymphobl...   \n",
       "1  cell type: Primary infant ALL cells at diagnos...   \n",
       "2                           genotype: MLL-rearranged   \n",
       "3                               age: < 1 year of age   \n",
       "4                prednisolone sensitivity: sensitive   \n",
       "\n",
       "                                           GSM816431  \\\n",
       "0  disease state: Precursor B-cell acute lymphobl...   \n",
       "1  cell type: Primary infant ALL cells at diagnos...   \n",
       "2                           genotype: MLL-rearranged   \n",
       "3                               age: < 1 year of age   \n",
       "4                prednisolone sensitivity: sensitive   \n",
       "\n",
       "                                           GSM816432  \\\n",
       "0  disease state: Precursor B-cell acute lymphobl...   \n",
       "1  cell type: Primary infant ALL cells at diagnos...   \n",
       "2                           genotype: MLL-rearranged   \n",
       "3                               age: < 1 year of age   \n",
       "4                prednisolone sensitivity: sensitive   \n",
       "\n",
       "                                           GSM816433  \\\n",
       "0  disease state: Precursor B-cell acute lymphobl...   \n",
       "1  cell type: Primary infant ALL cells at diagnos...   \n",
       "2                           genotype: MLL-rearranged   \n",
       "3                               age: < 1 year of age   \n",
       "4                prednisolone sensitivity: sensitive   \n",
       "\n",
       "                                           GSM816434  \\\n",
       "0  disease state: Precursor B-cell acute lymphobl...   \n",
       "1  cell type: Primary infant ALL cells at diagnos...   \n",
       "2                           genotype: MLL-rearranged   \n",
       "3                               age: < 1 year of age   \n",
       "4                prednisolone sensitivity: sensitive   \n",
       "\n",
       "                                           GSM816435  \n",
       "0  disease state: Precursor B-cell acute lymphobl...  \n",
       "1  cell type: Primary infant ALL cells at diagnos...  \n",
       "2                           genotype: MLL-rearranged  \n",
       "3                               age: < 1 year of age  \n",
       "4                prednisolone sensitivity: sensitive  \n",
       "\n",
       "[5 rows x 44 columns]"
      ]
     },
     "execution_count": 34,
     "metadata": {},
     "output_type": "execute_result"
    }
   ],
   "source": [
    "clinical_data.head()"
   ]
  },
  {
   "cell_type": "code",
   "execution_count": 35,
   "metadata": {
    "ExecuteTime": {
     "end_time": "2024-02-27T00:23:30.315072345Z",
     "start_time": "2024-02-27T00:23:30.305535332Z"
    },
    "collapsed": false
   },
   "outputs": [
    {
     "data": {
      "text/plain": [
       "{0: ['disease state: Precursor B-cell acute lymphoblastic leukemia (ALL)'],\n",
       " 1: ['cell type: Primary infant ALL cells at diagnosis (untreated) (>90% blasts)'],\n",
       " 2: ['genotype: MLL-rearranged'],\n",
       " 3: ['age: < 1 year of age'],\n",
       " 4: ['prednisolone sensitivity: resistant',\n",
       "  'prednisolone sensitivity: sensitive']}"
      ]
     },
     "execution_count": 35,
     "metadata": {},
     "output_type": "execute_result"
    }
   ],
   "source": [
    "clinical_data_unique = get_unique_values_by_row(clinical_data)\n",
    "clinical_data_unique"
   ]
  },
  {
   "cell_type": "markdown",
   "metadata": {
    "ExecuteTime": {
     "end_time": "2023-12-31T03:58:04.978204446Z",
     "start_time": "2023-12-31T03:58:04.922270095Z"
    },
    "collapsed": false
   },
   "source": [
    "Analyze the metadata to determine data relevance and find ways to extract the clinical data.\n",
    "Reference prompt:"
   ]
  },
  {
   "cell_type": "code",
   "execution_count": 36,
   "metadata": {
    "ExecuteTime": {
     "end_time": "2024-02-27T00:23:30.385584131Z",
     "start_time": "2024-02-27T00:23:30.309414449Z"
    },
    "collapsed": false
   },
   "outputs": [
    {
     "data": {
      "text/plain": [
       "'As a biomedical research team, we are selecting datasets to study the association between the human trait \\'Glucocorticoid-Sensitivity\\' and genetic factors, optionally considering the influence of age and gender. After searching the GEO database and parsing the matrix file of a series, we obtained background information and sample characteristics data. We will provide textual information about the dataset background, and a Python dictionary storing a list of unique values for each field of the sample characteristics data. Please carefully review the provided information and answer the following questions about this dataset:\\n1. Does this dataset contain gene expression data? (Note: Pure miRNA data is not suitable.)\\n2. For each of the traits \\'Glucocorticoid-Sensitivity\\', \\'age\\', and \\'gender\\', please address these points:\\n   (1) Is there human data available for this trait?\\n   (2) If so, identify the key in the sample characteristics dictionary where unique values of this trait is recorded. The key is an integer. The trait information might be explicitly recorded, or can be inferred from the field with some biomedical knowledge or understanding about the data collection process.\\n   (3) Choose an appropriate data type (either \\'continuous\\' or \\'binary\\') for each trait. Write a Python function to convert any given value of the trait to this data type. The function should handle inference about the trait value and convert unknown values to None.\\n   Name the functions \\'convert_trait\\', \\'convert_age\\', and \\'convert_gender\\', respectively.\\n\\nBackground information about the dataset:\\n!Series_title\\t\"In vitro prednisolone resistance signature in MLL-rearranged infant ALL\"\\n!Series_summary\\t\"Acute Lymphoblastic Leukemia (ALL) in infants (<1 year of age) is characterized by a high incidence of MLL translocations which is associated with a poor prognosis. Contributing to this poor prognosis is cellular drug resistance, especially to glucocorticoids like prednisolone. Although in vitro prednisolone resistance mechanisms have been proposed in pediatric ALL, it has never been studied in MLL-rearranged infant ALL, which are highly resistant to glucocorticoids in vitro and in vivo.\"\\n!Series_overall_design\\t\"We analyzed primary MLL-rearranged infant ALL expression profiles, which were either in vitro prednisolone-resistant or prednisolone-sensitive, in order to study in vitro prednisolone resistance.\"\\n\\nSample characteristics dictionary (from \"!Sample_characteristics_ch1\", converted to a Python dictionary that stores the unique values for each field):\\n{0: [\\'disease state: Precursor B-cell acute lymphoblastic leukemia (ALL)\\'], 1: [\\'cell type: Primary infant ALL cells at diagnosis (untreated) (>90% blasts)\\'], 2: [\\'genotype: MLL-rearranged\\'], 3: [\\'age: < 1 year of age\\'], 4: [\\'prednisolone sensitivity: resistant\\', \\'prednisolone sensitivity: sensitive\\']}\\n'"
      ]
     },
     "execution_count": 36,
     "metadata": {},
     "output_type": "execute_result"
    }
   ],
   "source": [
    "f'''As a biomedical research team, we are selecting datasets to study the association between the human trait \\'{TRAIT}\\' and genetic factors, optionally considering the influence of age and gender. After searching the GEO database and parsing the matrix file of a series, we obtained background information and sample characteristics data. We will provide textual information about the dataset background, and a Python dictionary storing a list of unique values for each field of the sample characteristics data. Please carefully review the provided information and answer the following questions about this dataset:\n",
    "1. Does this dataset contain gene expression data? (Note: Pure miRNA data is not suitable.)\n",
    "2. For each of the traits \\'{TRAIT}\\', 'age', and 'gender', please address these points:\n",
    "   (1) Is there human data available for this trait?\n",
    "   (2) If so, identify the key in the sample characteristics dictionary where unique values of this trait is recorded. The key is an integer. The trait information might be explicitly recorded, or can be inferred from the field with some biomedical knowledge or understanding about the data collection process.\n",
    "   (3) Choose an appropriate data type (either 'continuous' or 'binary') for each trait. Write a Python function to convert any given value of the trait to this data type. The function should handle inference about the trait value and convert unknown values to None.\n",
    "   Name the functions 'convert_trait', 'convert_age', and 'convert_gender', respectively.\n",
    "\n",
    "Background information about the dataset:\n",
    "{background_info}\n",
    "\n",
    "Sample characteristics dictionary (from \"!Sample_characteristics_ch1\", converted to a Python dictionary that stores the unique values for each field):\n",
    "{clinical_data_unique}\n",
    "'''"
   ]
  },
  {
   "cell_type": "markdown",
   "metadata": {
    "ExecuteTime": {
     "end_time": "2023-12-31T03:58:04.978240504Z",
     "start_time": "2023-12-31T03:58:04.922365324Z"
    },
    "collapsed": false
   },
   "source": [
    "Understand and verify the answer from GPT, to assign values to the below variables. Assign None to the 'row_id' variables if relevant data row was not found.\n",
    "Later we need to let GPT format its answer to automatically do these. But given the complexity of this step, let's grow some insight from the free-text answers for now."
   ]
  },
  {
   "cell_type": "code",
   "execution_count": 37,
   "metadata": {
    "ExecuteTime": {
     "end_time": "2024-02-27T00:23:30.385782943Z",
     "start_time": "2024-02-27T00:23:30.350942586Z"
    },
    "collapsed": false
   },
   "outputs": [],
   "source": [
    "age_row = gender_row = None\n",
    "convert_age = convert_gender = None"
   ]
  },
  {
   "cell_type": "code",
   "execution_count": 38,
   "metadata": {
    "ExecuteTime": {
     "end_time": "2024-02-27T00:23:30.385870186Z",
     "start_time": "2024-02-27T00:23:30.351051500Z"
    },
    "collapsed": false
   },
   "outputs": [],
   "source": [
    "is_gene_availabe = True\n",
    "trait_row = 1\n",
    "age_row = 3\n",
    "gender_row = None\n",
    "\n",
    "trait_type = 'binary'"
   ]
  },
  {
   "cell_type": "code",
   "execution_count": 39,
   "metadata": {
    "ExecuteTime": {
     "end_time": "2024-02-27T00:23:30.385957890Z",
     "start_time": "2024-02-27T00:23:30.351268817Z"
    },
    "collapsed": false
   },
   "outputs": [],
   "source": [
    "is_available = is_gene_availabe and (trait_row is not None)\n",
    "if not is_available:\n",
    "    save_cohort_info(cohort, JSON_PATH, is_available)\n",
    "    print(\"This cohort is not usable. Please skip the following steps and jump to the next accession number.\")"
   ]
  },
  {
   "cell_type": "code",
   "execution_count": 40,
   "metadata": {
    "ExecuteTime": {
     "end_time": "2024-02-27T00:23:30.386037459Z",
     "start_time": "2024-02-27T00:23:30.351367211Z"
    },
    "collapsed": false
   },
   "outputs": [],
   "source": [
    "# Verify and use the functions generated by GPT\n",
    "\n",
    "# the diagnosis column only have either control or alcohol\n",
    "\n",
    "def convert_trait(trait_string):\n",
    "    if trait_string == \"disease state: Precursor B-cell acute lymphoblastic leukemia (ALL)\":\n",
    "        return 1\n",
    "    else:\n",
    "        return 0\n",
    "    \n",
    "def convert_age(age_string):\n",
    "    return 1 # all samples are infant < 1 yrs\n",
    "    "
   ]
  },
  {
   "cell_type": "code",
   "execution_count": 42,
   "metadata": {
    "ExecuteTime": {
     "end_time": "2024-02-27T00:23:30.386191717Z",
     "start_time": "2024-02-27T00:23:30.351458802Z"
    },
    "collapsed": false
   },
   "outputs": [
    {
     "data": {
      "text/html": [
       "<div>\n",
       "<style scoped>\n",
       "    .dataframe tbody tr th:only-of-type {\n",
       "        vertical-align: middle;\n",
       "    }\n",
       "\n",
       "    .dataframe tbody tr th {\n",
       "        vertical-align: top;\n",
       "    }\n",
       "\n",
       "    .dataframe thead th {\n",
       "        text-align: right;\n",
       "    }\n",
       "</style>\n",
       "<table border=\"1\" class=\"dataframe\">\n",
       "  <thead>\n",
       "    <tr style=\"text-align: right;\">\n",
       "      <th></th>\n",
       "      <th>GSM816393</th>\n",
       "      <th>GSM816394</th>\n",
       "      <th>GSM816395</th>\n",
       "      <th>GSM816396</th>\n",
       "      <th>GSM816397</th>\n",
       "      <th>GSM816398</th>\n",
       "      <th>GSM816399</th>\n",
       "      <th>GSM816400</th>\n",
       "      <th>GSM816401</th>\n",
       "      <th>GSM816402</th>\n",
       "      <th>...</th>\n",
       "      <th>GSM816426</th>\n",
       "      <th>GSM816427</th>\n",
       "      <th>GSM816428</th>\n",
       "      <th>GSM816429</th>\n",
       "      <th>GSM816430</th>\n",
       "      <th>GSM816431</th>\n",
       "      <th>GSM816432</th>\n",
       "      <th>GSM816433</th>\n",
       "      <th>GSM816434</th>\n",
       "      <th>GSM816435</th>\n",
       "    </tr>\n",
       "  </thead>\n",
       "  <tbody>\n",
       "    <tr>\n",
       "      <th>Glucocorticoid-Sensitivity</th>\n",
       "      <td>0</td>\n",
       "      <td>0</td>\n",
       "      <td>0</td>\n",
       "      <td>0</td>\n",
       "      <td>0</td>\n",
       "      <td>0</td>\n",
       "      <td>0</td>\n",
       "      <td>0</td>\n",
       "      <td>0</td>\n",
       "      <td>0</td>\n",
       "      <td>...</td>\n",
       "      <td>0</td>\n",
       "      <td>0</td>\n",
       "      <td>0</td>\n",
       "      <td>0</td>\n",
       "      <td>0</td>\n",
       "      <td>0</td>\n",
       "      <td>0</td>\n",
       "      <td>0</td>\n",
       "      <td>0</td>\n",
       "      <td>0</td>\n",
       "    </tr>\n",
       "    <tr>\n",
       "      <th>Age</th>\n",
       "      <td>1</td>\n",
       "      <td>1</td>\n",
       "      <td>1</td>\n",
       "      <td>1</td>\n",
       "      <td>1</td>\n",
       "      <td>1</td>\n",
       "      <td>1</td>\n",
       "      <td>1</td>\n",
       "      <td>1</td>\n",
       "      <td>1</td>\n",
       "      <td>...</td>\n",
       "      <td>1</td>\n",
       "      <td>1</td>\n",
       "      <td>1</td>\n",
       "      <td>1</td>\n",
       "      <td>1</td>\n",
       "      <td>1</td>\n",
       "      <td>1</td>\n",
       "      <td>1</td>\n",
       "      <td>1</td>\n",
       "      <td>1</td>\n",
       "    </tr>\n",
       "  </tbody>\n",
       "</table>\n",
       "<p>2 rows × 43 columns</p>\n",
       "</div>"
      ],
      "text/plain": [
       "                            GSM816393  GSM816394  GSM816395  GSM816396  \\\n",
       "Glucocorticoid-Sensitivity          0          0          0          0   \n",
       "Age                                 1          1          1          1   \n",
       "\n",
       "                            GSM816397  GSM816398  GSM816399  GSM816400  \\\n",
       "Glucocorticoid-Sensitivity          0          0          0          0   \n",
       "Age                                 1          1          1          1   \n",
       "\n",
       "                            GSM816401  GSM816402  ...  GSM816426  GSM816427  \\\n",
       "Glucocorticoid-Sensitivity          0          0  ...          0          0   \n",
       "Age                                 1          1  ...          1          1   \n",
       "\n",
       "                            GSM816428  GSM816429  GSM816430  GSM816431  \\\n",
       "Glucocorticoid-Sensitivity          0          0          0          0   \n",
       "Age                                 1          1          1          1   \n",
       "\n",
       "                            GSM816432  GSM816433  GSM816434  GSM816435  \n",
       "Glucocorticoid-Sensitivity          0          0          0          0  \n",
       "Age                                 1          1          1          1  \n",
       "\n",
       "[2 rows x 43 columns]"
      ]
     },
     "execution_count": 42,
     "metadata": {},
     "output_type": "execute_result"
    }
   ],
   "source": [
    "selected_clinical_data = geo_select_clinical_features(clinical_data, TRAIT, trait_row, convert_trait, age_row=age_row,\n",
    "                                                      convert_age=convert_age, gender_row=gender_row,\n",
    "                                                      convert_gender=None)\n",
    "selected_clinical_data.head()"
   ]
  },
  {
   "cell_type": "markdown",
   "metadata": {
    "ExecuteTime": {
     "end_time": "2023-12-31T03:58:04.978664193Z",
     "start_time": "2023-12-31T03:58:04.966117261Z"
    },
    "collapsed": false
   },
   "source": [
    "### Genetic data preprocessing and final filtering"
   ]
  },
  {
   "cell_type": "code",
   "execution_count": 43,
   "metadata": {
    "ExecuteTime": {
     "end_time": "2024-02-27T00:23:30.394809420Z",
     "start_time": "2024-02-27T00:23:30.351566744Z"
    },
    "collapsed": false
   },
   "outputs": [
    {
     "data": {
      "text/html": [
       "<div>\n",
       "<style scoped>\n",
       "    .dataframe tbody tr th:only-of-type {\n",
       "        vertical-align: middle;\n",
       "    }\n",
       "\n",
       "    .dataframe tbody tr th {\n",
       "        vertical-align: top;\n",
       "    }\n",
       "\n",
       "    .dataframe thead th {\n",
       "        text-align: right;\n",
       "    }\n",
       "</style>\n",
       "<table border=\"1\" class=\"dataframe\">\n",
       "  <thead>\n",
       "    <tr style=\"text-align: right;\">\n",
       "      <th></th>\n",
       "      <th>GSM816393</th>\n",
       "      <th>GSM816394</th>\n",
       "      <th>GSM816395</th>\n",
       "      <th>GSM816396</th>\n",
       "      <th>GSM816397</th>\n",
       "      <th>GSM816398</th>\n",
       "      <th>GSM816399</th>\n",
       "      <th>GSM816400</th>\n",
       "      <th>GSM816401</th>\n",
       "      <th>GSM816402</th>\n",
       "      <th>...</th>\n",
       "      <th>GSM816426</th>\n",
       "      <th>GSM816427</th>\n",
       "      <th>GSM816428</th>\n",
       "      <th>GSM816429</th>\n",
       "      <th>GSM816430</th>\n",
       "      <th>GSM816431</th>\n",
       "      <th>GSM816432</th>\n",
       "      <th>GSM816433</th>\n",
       "      <th>GSM816434</th>\n",
       "      <th>GSM816435</th>\n",
       "    </tr>\n",
       "    <tr>\n",
       "      <th>ID</th>\n",
       "      <th></th>\n",
       "      <th></th>\n",
       "      <th></th>\n",
       "      <th></th>\n",
       "      <th></th>\n",
       "      <th></th>\n",
       "      <th></th>\n",
       "      <th></th>\n",
       "      <th></th>\n",
       "      <th></th>\n",
       "      <th></th>\n",
       "      <th></th>\n",
       "      <th></th>\n",
       "      <th></th>\n",
       "      <th></th>\n",
       "      <th></th>\n",
       "      <th></th>\n",
       "      <th></th>\n",
       "      <th></th>\n",
       "      <th></th>\n",
       "      <th></th>\n",
       "    </tr>\n",
       "  </thead>\n",
       "  <tbody>\n",
       "    <tr>\n",
       "      <th>1007_s_at</th>\n",
       "      <td>3.907564</td>\n",
       "      <td>3.318963</td>\n",
       "      <td>3.985367</td>\n",
       "      <td>4.271082</td>\n",
       "      <td>2.662878</td>\n",
       "      <td>4.922714</td>\n",
       "      <td>5.212087</td>\n",
       "      <td>3.542450</td>\n",
       "      <td>5.171344</td>\n",
       "      <td>4.097394</td>\n",
       "      <td>...</td>\n",
       "      <td>4.594496</td>\n",
       "      <td>5.191706</td>\n",
       "      <td>4.793711</td>\n",
       "      <td>4.587338</td>\n",
       "      <td>4.639497</td>\n",
       "      <td>5.590971</td>\n",
       "      <td>4.499215</td>\n",
       "      <td>5.771728</td>\n",
       "      <td>5.431384</td>\n",
       "      <td>5.558481</td>\n",
       "    </tr>\n",
       "    <tr>\n",
       "      <th>1053_at</th>\n",
       "      <td>4.404269</td>\n",
       "      <td>5.267678</td>\n",
       "      <td>4.539179</td>\n",
       "      <td>4.891534</td>\n",
       "      <td>5.064097</td>\n",
       "      <td>5.337912</td>\n",
       "      <td>4.928466</td>\n",
       "      <td>4.307055</td>\n",
       "      <td>3.948908</td>\n",
       "      <td>5.264532</td>\n",
       "      <td>...</td>\n",
       "      <td>4.295837</td>\n",
       "      <td>4.972317</td>\n",
       "      <td>4.782170</td>\n",
       "      <td>4.139538</td>\n",
       "      <td>4.757697</td>\n",
       "      <td>4.373431</td>\n",
       "      <td>4.451412</td>\n",
       "      <td>5.157447</td>\n",
       "      <td>4.756136</td>\n",
       "      <td>4.369354</td>\n",
       "    </tr>\n",
       "    <tr>\n",
       "      <th>117_at</th>\n",
       "      <td>4.769070</td>\n",
       "      <td>3.110839</td>\n",
       "      <td>3.244361</td>\n",
       "      <td>3.926155</td>\n",
       "      <td>5.386958</td>\n",
       "      <td>3.751462</td>\n",
       "      <td>3.986725</td>\n",
       "      <td>3.570925</td>\n",
       "      <td>3.623077</td>\n",
       "      <td>3.060380</td>\n",
       "      <td>...</td>\n",
       "      <td>1.755544</td>\n",
       "      <td>3.072875</td>\n",
       "      <td>3.210591</td>\n",
       "      <td>3.673747</td>\n",
       "      <td>3.337412</td>\n",
       "      <td>2.735827</td>\n",
       "      <td>1.802536</td>\n",
       "      <td>3.403442</td>\n",
       "      <td>3.588838</td>\n",
       "      <td>3.011477</td>\n",
       "    </tr>\n",
       "    <tr>\n",
       "      <th>121_at</th>\n",
       "      <td>4.968366</td>\n",
       "      <td>4.761078</td>\n",
       "      <td>5.385307</td>\n",
       "      <td>5.357564</td>\n",
       "      <td>4.931862</td>\n",
       "      <td>5.110691</td>\n",
       "      <td>5.088696</td>\n",
       "      <td>4.898593</td>\n",
       "      <td>5.311087</td>\n",
       "      <td>5.145220</td>\n",
       "      <td>...</td>\n",
       "      <td>5.371725</td>\n",
       "      <td>5.187910</td>\n",
       "      <td>5.120238</td>\n",
       "      <td>5.262056</td>\n",
       "      <td>5.097478</td>\n",
       "      <td>5.127509</td>\n",
       "      <td>5.009288</td>\n",
       "      <td>5.021278</td>\n",
       "      <td>5.359483</td>\n",
       "      <td>5.173847</td>\n",
       "    </tr>\n",
       "    <tr>\n",
       "      <th>1255_g_at</th>\n",
       "      <td>3.229889</td>\n",
       "      <td>3.038434</td>\n",
       "      <td>3.269090</td>\n",
       "      <td>3.228394</td>\n",
       "      <td>2.316240</td>\n",
       "      <td>3.115293</td>\n",
       "      <td>3.069392</td>\n",
       "      <td>1.655464</td>\n",
       "      <td>2.318928</td>\n",
       "      <td>2.988429</td>\n",
       "      <td>...</td>\n",
       "      <td>2.635434</td>\n",
       "      <td>3.152379</td>\n",
       "      <td>3.150118</td>\n",
       "      <td>3.240674</td>\n",
       "      <td>2.606971</td>\n",
       "      <td>2.986977</td>\n",
       "      <td>3.424922</td>\n",
       "      <td>3.070557</td>\n",
       "      <td>3.053786</td>\n",
       "      <td>3.563141</td>\n",
       "    </tr>\n",
       "  </tbody>\n",
       "</table>\n",
       "<p>5 rows × 43 columns</p>\n",
       "</div>"
      ],
      "text/plain": [
       "           GSM816393  GSM816394  GSM816395  GSM816396  GSM816397  GSM816398  \\\n",
       "ID                                                                            \n",
       "1007_s_at   3.907564   3.318963   3.985367   4.271082   2.662878   4.922714   \n",
       "1053_at     4.404269   5.267678   4.539179   4.891534   5.064097   5.337912   \n",
       "117_at      4.769070   3.110839   3.244361   3.926155   5.386958   3.751462   \n",
       "121_at      4.968366   4.761078   5.385307   5.357564   4.931862   5.110691   \n",
       "1255_g_at   3.229889   3.038434   3.269090   3.228394   2.316240   3.115293   \n",
       "\n",
       "           GSM816399  GSM816400  GSM816401  GSM816402  ...  GSM816426  \\\n",
       "ID                                                     ...              \n",
       "1007_s_at   5.212087   3.542450   5.171344   4.097394  ...   4.594496   \n",
       "1053_at     4.928466   4.307055   3.948908   5.264532  ...   4.295837   \n",
       "117_at      3.986725   3.570925   3.623077   3.060380  ...   1.755544   \n",
       "121_at      5.088696   4.898593   5.311087   5.145220  ...   5.371725   \n",
       "1255_g_at   3.069392   1.655464   2.318928   2.988429  ...   2.635434   \n",
       "\n",
       "           GSM816427  GSM816428  GSM816429  GSM816430  GSM816431  GSM816432  \\\n",
       "ID                                                                            \n",
       "1007_s_at   5.191706   4.793711   4.587338   4.639497   5.590971   4.499215   \n",
       "1053_at     4.972317   4.782170   4.139538   4.757697   4.373431   4.451412   \n",
       "117_at      3.072875   3.210591   3.673747   3.337412   2.735827   1.802536   \n",
       "121_at      5.187910   5.120238   5.262056   5.097478   5.127509   5.009288   \n",
       "1255_g_at   3.152379   3.150118   3.240674   2.606971   2.986977   3.424922   \n",
       "\n",
       "           GSM816433  GSM816434  GSM816435  \n",
       "ID                                          \n",
       "1007_s_at   5.771728   5.431384   5.558481  \n",
       "1053_at     5.157447   4.756136   4.369354  \n",
       "117_at      3.403442   3.588838   3.011477  \n",
       "121_at      5.021278   5.359483   5.173847  \n",
       "1255_g_at   3.070557   3.053786   3.563141  \n",
       "\n",
       "[5 rows x 43 columns]"
      ]
     },
     "execution_count": 43,
     "metadata": {},
     "output_type": "execute_result"
    }
   ],
   "source": [
    "genetic_data = get_genetic_data(matrix_file)\n",
    "genetic_data.head()"
   ]
  },
  {
   "cell_type": "code",
   "execution_count": 44,
   "metadata": {
    "ExecuteTime": {
     "end_time": "2024-02-27T00:23:30.481283320Z",
     "start_time": "2024-02-27T00:23:30.363656224Z"
    },
    "collapsed": false
   },
   "outputs": [
    {
     "data": {
      "text/plain": [
       "['1007_s_at',\n",
       " '1053_at',\n",
       " '117_at',\n",
       " '121_at',\n",
       " '1255_g_at',\n",
       " '1294_at',\n",
       " '1316_at',\n",
       " '1320_at',\n",
       " '1405_i_at',\n",
       " '1431_at',\n",
       " '1438_at',\n",
       " '1487_at',\n",
       " '1494_f_at',\n",
       " '1552256_a_at',\n",
       " '1552257_a_at',\n",
       " '1552258_at',\n",
       " '1552261_at',\n",
       " '1552263_at',\n",
       " '1552264_a_at',\n",
       " '1552266_at']"
      ]
     },
     "execution_count": 44,
     "metadata": {},
     "output_type": "execute_result"
    }
   ],
   "source": [
    "gene_row_ids = genetic_data.index[:20].tolist()\n",
    "gene_row_ids"
   ]
  },
  {
   "cell_type": "markdown",
   "metadata": {
    "ExecuteTime": {
     "end_time": "2023-12-31T03:30:41.595335164Z",
     "start_time": "2023-12-31T03:30:41.513232329Z"
    },
    "collapsed": false
   },
   "source": [
    "Check if the gene dataset requires mapping to get the gene symbols corresponding to each data row."
   ]
  },
  {
   "cell_type": "markdown",
   "metadata": {
    "collapsed": false
   },
   "source": [
    "Reference prompt:"
   ]
  },
  {
   "cell_type": "code",
   "execution_count": 45,
   "metadata": {
    "ExecuteTime": {
     "end_time": "2024-02-27T00:23:30.481654274Z",
     "start_time": "2024-02-27T00:23:30.413379675Z"
    },
    "collapsed": false
   },
   "outputs": [
    {
     "data": {
      "text/plain": [
       "\"\\nBelow are the row headers of a gene expression dataset in GEO. Based on your biomedical knowledge, are they human gene symbols, or are they some other identifiers that need to be mapped to gene symbols? Your answer should be concluded by starting a new line and strictly following this format:\\nrequires_gene_mapping = (True or False)\\n\\nRow headers:\\n['1007_s_at', '1053_at', '117_at', '121_at', '1255_g_at', '1294_at', '1316_at', '1320_at', '1405_i_at', '1431_at', '1438_at', '1487_at', '1494_f_at', '1552256_a_at', '1552257_a_at', '1552258_at', '1552261_at', '1552263_at', '1552264_a_at', '1552266_at']\\n\""
      ]
     },
     "execution_count": 45,
     "metadata": {},
     "output_type": "execute_result"
    }
   ],
   "source": [
    "f'''\n",
    "Below are the row headers of a gene expression dataset in GEO. Based on your biomedical knowledge, are they human gene symbols, or are they some other identifiers that need to be mapped to gene symbols? Your answer should be concluded by starting a new line and strictly following this format:\n",
    "requires_gene_mapping = (True or False)\n",
    "\n",
    "Row headers:\n",
    "{gene_row_ids}\n",
    "'''"
   ]
  },
  {
   "cell_type": "markdown",
   "metadata": {
    "collapsed": false
   },
   "source": [
    "\n",
    "If not required, jump directly to the gene normalization step"
   ]
  },
  {
   "cell_type": "code",
   "execution_count": 46,
   "metadata": {
    "ExecuteTime": {
     "end_time": "2024-02-27T00:23:30.481758349Z",
     "start_time": "2024-02-27T00:23:30.413504759Z"
    },
    "collapsed": false
   },
   "outputs": [],
   "source": [
    "requires_gene_mapping = False"
   ]
  },
  {
   "cell_type": "code",
   "execution_count": 47,
   "metadata": {
    "ExecuteTime": {
     "end_time": "2024-02-27T00:23:30.481841494Z",
     "start_time": "2024-02-27T00:23:30.413594938Z"
    },
    "collapsed": false
   },
   "outputs": [],
   "source": [
    "if requires_gene_mapping:\n",
    "    gene_annotation = get_gene_annotation(soft_file)\n",
    "    gene_annotation_summary = preview_df(gene_annotation)\n",
    "    print(gene_annotation_summary)"
   ]
  },
  {
   "cell_type": "markdown",
   "metadata": {
    "ExecuteTime": {
     "end_time": "2023-12-31T03:58:04.978931927Z",
     "start_time": "2023-12-31T03:58:04.966328339Z"
    },
    "collapsed": false
   },
   "source": [
    "Observe the first few cells in the ID column of the gene annotation dataframe, to find the names of columns that store the gene probe IDs and gene symbols respectively.\n",
    "Reference prompt:"
   ]
  },
  {
   "cell_type": "code",
   "execution_count": 48,
   "metadata": {
    "ExecuteTime": {
     "end_time": "2024-02-27T00:23:30.481923598Z",
     "start_time": "2024-02-27T00:23:30.413680388Z"
    },
    "collapsed": false
   },
   "outputs": [],
   "source": [
    "if requires_gene_mapping:\n",
    "    print(f'''\n",
    "    As a biomedical research team, we are analyzing a gene expression dataset, and find that its row headers are some identifiers related to genes:\n",
    "    {gene_row_ids}\n",
    "    To get the mapping from those identifiers to actual gene symbols, we extracted the gene annotation data from a series in the GEO database, and saved it to a Python dictionary. Please read the dictionary, and decide which key stores the identifiers, and which key stores the gene symbols. Please strictly follow this format in your answer:\n",
    "    identifier_key = 'key_name1'\n",
    "    gene_symbol_key = 'key_name2'\n",
    "\n",
    "    Gene annotation dictionary:\n",
    "    {gene_annotation_summary}\n",
    "    ''')"
   ]
  },
  {
   "cell_type": "code",
   "execution_count": 49,
   "metadata": {
    "ExecuteTime": {
     "end_time": "2024-02-27T00:23:30.482007034Z",
     "start_time": "2024-02-27T00:23:30.413823155Z"
    },
    "collapsed": false
   },
   "outputs": [],
   "source": [
    "if requires_gene_mapping:\n",
    "    identifier_key = 'ID'\n",
    "    gene_symbol_key = 'UCSC_RefGene_Name'\n",
    "    gene_mapping = get_gene_mapping(gene_annotation, identifier_key, gene_symbol_key)\n",
    "    genetic_data = apply_gene_mapping(genetic_data, gene_mapping)"
   ]
  },
  {
   "cell_type": "code",
   "execution_count": 50,
   "metadata": {
    "ExecuteTime": {
     "end_time": "2024-02-27T00:23:32.440490271Z",
     "start_time": "2024-02-27T00:23:30.413912422Z"
    },
    "collapsed": false
   },
   "outputs": [],
   "source": [
    "if NORMALIZE_GENE:\n",
    "    genetic_data = normalize_gene_symbols_in_index(genetic_data)"
   ]
  },
  {
   "cell_type": "code",
   "execution_count": 51,
   "metadata": {
    "ExecuteTime": {
     "end_time": "2024-02-27T00:23:32.491265391Z",
     "start_time": "2024-02-27T00:23:32.447650138Z"
    },
    "collapsed": false
   },
   "outputs": [],
   "source": [
    "merged_data = geo_merge_clinical_genetic_data(selected_clinical_data, genetic_data)\n",
    "# The preprocessing runs through, which means is_available should be True\n",
    "is_available = True"
   ]
  },
  {
   "cell_type": "code",
   "execution_count": 52,
   "metadata": {
    "ExecuteTime": {
     "end_time": "2024-02-27T00:23:32.491666522Z",
     "start_time": "2024-02-27T00:23:32.491106344Z"
    },
    "collapsed": false
   },
   "outputs": [
    {
     "name": "stdout",
     "output_type": "stream",
     "text": [
      "The merged dataset contains 43 samples.\n"
     ]
    }
   ],
   "source": [
    "print(f\"The merged dataset contains {len(merged_data)} samples.\")"
   ]
  },
  {
   "cell_type": "code",
   "execution_count": 53,
   "metadata": {
    "ExecuteTime": {
     "end_time": "2024-02-27T00:23:32.492392340Z",
     "start_time": "2024-02-27T00:23:32.491448724Z"
    },
    "collapsed": false
   },
   "outputs": [
    {
     "name": "stdout",
     "output_type": "stream",
     "text": [
      "For the feature 'Glucocorticoid-Sensitivity', the least common label is '0.0' with 43 occurrences. This represents 100.00% of the dataset.\n",
      "The distribution of the feature 'Glucocorticoid-Sensitivity' in this dataset is severely biased.\n",
      "\n",
      "Quartiles for 'Age':\n",
      "  25%: 1.0\n",
      "  50% (Median): 1.0\n",
      "  75%: 1.0\n",
      "Min: 1.0\n",
      "Max: 1.0\n",
      "The distribution of the feature 'Age' in this dataset is severely biased.\n",
      "\n"
     ]
    },
    {
     "data": {
      "text/plain": [
       "True"
      ]
     },
     "execution_count": 53,
     "metadata": {},
     "output_type": "execute_result"
    }
   ],
   "source": [
    "is_trait_biased, merged_data = judge_and_remove_biased_features(merged_data, TRAIT, trait_type=trait_type)\n",
    "is_trait_biased"
   ]
  },
  {
   "cell_type": "code",
   "execution_count": 54,
   "metadata": {
    "ExecuteTime": {
     "end_time": "2024-02-27T00:23:32.492558941Z",
     "start_time": "2024-02-27T00:23:32.491785675Z"
    },
    "collapsed": false
   },
   "outputs": [
    {
     "name": "stdout",
     "output_type": "stream",
     "text": [
      "A new JSON file was created at: output2/Lisa/Glucocorticoid-Sensitivity/cohort_info.json\n"
     ]
    }
   ],
   "source": [
    "if is_available:\n",
    "    save_cohort_info(cohort, JSON_PATH, is_available, is_trait_biased, merged_data, note='')\n",
    "else:\n",
    "    save_cohort_info(cohort, JSON_PATH, is_available)"
   ]
  },
  {
   "cell_type": "code",
   "execution_count": 55,
   "metadata": {
    "ExecuteTime": {
     "end_time": "2024-02-27T00:23:32.498376085Z",
     "start_time": "2024-02-27T00:23:32.492193538Z"
    },
    "collapsed": false
   },
   "outputs": [],
   "source": [
    "merged_data.head()\n",
    "if not is_trait_biased:\n",
    "    merged_data.to_csv(os.path.join(OUTPUT_DIR, cohort + '.csv'), index=False)"
   ]
  },
  {
   "cell_type": "markdown",
   "metadata": {
    "ExecuteTime": {
     "end_time": "2023-12-31T03:58:22.271683755Z",
     "start_time": "2023-12-31T03:58:22.246557674Z"
    },
    "id": "-MTPhRGxJV7I"
   },
   "source": [
    "### 3. Do regression & Cross Validation (didnt change)"
   ]
  },
  {
   "cell_type": "code",
   "execution_count": 35,
   "metadata": {
    "ExecuteTime": {
     "end_time": "2024-02-27T00:23:32.547717211Z",
     "start_time": "2024-02-27T00:23:32.505440491Z"
    },
    "collapsed": false
   },
   "outputs": [
    {
     "data": {
      "text/html": [
       "<div>\n",
       "<style scoped>\n",
       "    .dataframe tbody tr th:only-of-type {\n",
       "        vertical-align: middle;\n",
       "    }\n",
       "\n",
       "    .dataframe tbody tr th {\n",
       "        vertical-align: top;\n",
       "    }\n",
       "\n",
       "    .dataframe thead th {\n",
       "        text-align: right;\n",
       "    }\n",
       "</style>\n",
       "<table border=\"1\" class=\"dataframe\">\n",
       "  <thead>\n",
       "    <tr style=\"text-align: right;\">\n",
       "      <th></th>\n",
       "      <th>cohort_id</th>\n",
       "      <th>is_usable</th>\n",
       "      <th>is_available</th>\n",
       "      <th>is_biased</th>\n",
       "      <th>has_age</th>\n",
       "      <th>has_gender</th>\n",
       "      <th>sample_size</th>\n",
       "      <th>note</th>\n",
       "    </tr>\n",
       "  </thead>\n",
       "  <tbody>\n",
       "    <tr>\n",
       "      <th>0</th>\n",
       "      <td>GSE161986</td>\n",
       "      <td>True</td>\n",
       "      <td>True</td>\n",
       "      <td>False</td>\n",
       "      <td>True</td>\n",
       "      <td>False</td>\n",
       "      <td>35</td>\n",
       "      <td></td>\n",
       "    </tr>\n",
       "  </tbody>\n",
       "</table>\n",
       "</div>"
      ],
      "text/plain": [
       "   cohort_id  is_usable  is_available  is_biased  has_age  has_gender  \\\n",
       "0  GSE161986       True          True      False     True       False   \n",
       "\n",
       "   sample_size note  \n",
       "0           35       "
      ]
     },
     "execution_count": 35,
     "metadata": {},
     "output_type": "execute_result"
    }
   ],
   "source": [
    "# Check the information of usable cohorts\n",
    "best_cohort, ranked_df = filter_and_rank_cohorts(JSON_PATH)\n",
    "ranked_df"
   ]
  },
  {
   "cell_type": "code",
   "execution_count": 36,
   "metadata": {
    "ExecuteTime": {
     "end_time": "2024-02-27T00:23:32.548029335Z",
     "start_time": "2024-02-27T00:23:32.547124542Z"
    },
    "collapsed": false
   },
   "outputs": [
    {
     "data": {
      "text/plain": [
       "'GSE161986'"
      ]
     },
     "execution_count": 36,
     "metadata": {},
     "output_type": "execute_result"
    }
   ],
   "source": [
    "# If both age and gender have available cohorts, select 'age' as the condition.\n",
    "condition = 'Age'\n",
    "filter_column = 'has_' + condition.lower()\n",
    "\n",
    "condition_best_cohort, condition_ranked_df = filter_and_rank_cohorts(JSON_PATH, filter_column)\n",
    "condition_best_cohort"
   ]
  },
  {
   "cell_type": "code",
   "execution_count": 37,
   "metadata": {
    "ExecuteTime": {
     "end_time": "2024-02-27T00:23:32.548270706Z",
     "start_time": "2024-02-27T00:23:32.547406760Z"
    },
    "collapsed": false
   },
   "outputs": [
    {
     "data": {
      "text/html": [
       "<div>\n",
       "<style scoped>\n",
       "    .dataframe tbody tr th:only-of-type {\n",
       "        vertical-align: middle;\n",
       "    }\n",
       "\n",
       "    .dataframe tbody tr th {\n",
       "        vertical-align: top;\n",
       "    }\n",
       "\n",
       "    .dataframe thead th {\n",
       "        text-align: right;\n",
       "    }\n",
       "</style>\n",
       "<table border=\"1\" class=\"dataframe\">\n",
       "  <thead>\n",
       "    <tr style=\"text-align: right;\">\n",
       "      <th></th>\n",
       "      <th>cohort_id</th>\n",
       "      <th>is_usable</th>\n",
       "      <th>is_available</th>\n",
       "      <th>is_biased</th>\n",
       "      <th>has_age</th>\n",
       "      <th>has_gender</th>\n",
       "      <th>sample_size</th>\n",
       "      <th>note</th>\n",
       "    </tr>\n",
       "  </thead>\n",
       "  <tbody>\n",
       "    <tr>\n",
       "      <th>0</th>\n",
       "      <td>GSE161986</td>\n",
       "      <td>True</td>\n",
       "      <td>True</td>\n",
       "      <td>False</td>\n",
       "      <td>True</td>\n",
       "      <td>False</td>\n",
       "      <td>35</td>\n",
       "      <td></td>\n",
       "    </tr>\n",
       "  </tbody>\n",
       "</table>\n",
       "</div>"
      ],
      "text/plain": [
       "   cohort_id  is_usable  is_available  is_biased  has_age  has_gender  \\\n",
       "0  GSE161986       True          True      False     True       False   \n",
       "\n",
       "   sample_size note  \n",
       "0           35       "
      ]
     },
     "execution_count": 37,
     "metadata": {},
     "output_type": "execute_result"
    }
   ],
   "source": [
    "\n",
    "condition_ranked_df.head()"
   ]
  },
  {
   "cell_type": "code",
   "execution_count": 38,
   "metadata": {
    "ExecuteTime": {
     "end_time": "2024-02-27T00:23:38.343632200Z",
     "start_time": "2024-02-27T00:23:32.547609900Z"
    },
    "collapsed": false
   },
   "outputs": [
    {
     "data": {
      "text/html": [
       "<div>\n",
       "<style scoped>\n",
       "    .dataframe tbody tr th:only-of-type {\n",
       "        vertical-align: middle;\n",
       "    }\n",
       "\n",
       "    .dataframe tbody tr th {\n",
       "        vertical-align: top;\n",
       "    }\n",
       "\n",
       "    .dataframe thead th {\n",
       "        text-align: right;\n",
       "    }\n",
       "</style>\n",
       "<table border=\"1\" class=\"dataframe\">\n",
       "  <thead>\n",
       "    <tr style=\"text-align: right;\">\n",
       "      <th></th>\n",
       "      <th>Substance-Use-Disorder</th>\n",
       "      <th>Age</th>\n",
       "    </tr>\n",
       "  </thead>\n",
       "  <tbody>\n",
       "    <tr>\n",
       "      <th>0</th>\n",
       "      <td>1.0</td>\n",
       "      <td>61.0</td>\n",
       "    </tr>\n",
       "    <tr>\n",
       "      <th>1</th>\n",
       "      <td>0.0</td>\n",
       "      <td>44.0</td>\n",
       "    </tr>\n",
       "    <tr>\n",
       "      <th>2</th>\n",
       "      <td>0.0</td>\n",
       "      <td>62.0</td>\n",
       "    </tr>\n",
       "    <tr>\n",
       "      <th>3</th>\n",
       "      <td>1.0</td>\n",
       "      <td>56.0</td>\n",
       "    </tr>\n",
       "    <tr>\n",
       "      <th>4</th>\n",
       "      <td>0.0</td>\n",
       "      <td>63.0</td>\n",
       "    </tr>\n",
       "  </tbody>\n",
       "</table>\n",
       "</div>"
      ],
      "text/plain": [
       "   Substance-Use-Disorder   Age\n",
       "0                     1.0  61.0\n",
       "1                     0.0  44.0\n",
       "2                     0.0  62.0\n",
       "3                     1.0  56.0\n",
       "4                     0.0  63.0"
      ]
     },
     "execution_count": 38,
     "metadata": {},
     "output_type": "execute_result"
    }
   ],
   "source": [
    "merged_data = pd.read_csv(os.path.join(OUTPUT_DIR, condition_best_cohort + '.csv'))\n",
    "merged_data.head()\n",
    "# no age this data"
   ]
  },
  {
   "cell_type": "code",
   "execution_count": 39,
   "metadata": {
    "ExecuteTime": {
     "end_time": "2024-02-27T00:23:38.415287128Z",
     "start_time": "2024-02-27T00:23:38.364271637Z"
    },
    "collapsed": false
   },
   "outputs": [],
   "source": [
    "# Remove the other condition to prevent interference.\n",
    "merged_data = merged_data.drop(columns=['Gender'], errors='ignore').astype('float')\n",
    "\n",
    "X = merged_data.drop(columns=[TRAIT, condition]).values\n",
    "Y = merged_data[TRAIT].values\n",
    "Z = merged_data[condition].values"
   ]
  },
  {
   "cell_type": "markdown",
   "metadata": {
    "collapsed": false
   },
   "source": [
    "\n",
    "\n",
    "\n",
    "Select the appropriate regression model depending on whether the dataset shows batch effect."
   ]
  },
  {
   "cell_type": "code",
   "execution_count": 31,
   "metadata": {
    "ExecuteTime": {
     "end_time": "2024-02-27T00:23:38.660228117Z",
     "start_time": "2024-02-27T00:23:38.411536280Z"
    },
    "collapsed": false
   },
   "outputs": [
    {
     "ename": "NameError",
     "evalue": "name 'X' is not defined",
     "output_type": "error",
     "traceback": [
      "\u001b[0;31m---------------------------------------------------------------------------\u001b[0m",
      "\u001b[0;31mNameError\u001b[0m                                 Traceback (most recent call last)",
      "Input \u001b[0;32mIn [31]\u001b[0m, in \u001b[0;36m<cell line: 1>\u001b[0;34m()\u001b[0m\n\u001b[0;32m----> 1\u001b[0m has_batch_effect \u001b[38;5;241m=\u001b[39m detect_batch_effect(\u001b[43mX\u001b[49m)\n\u001b[1;32m      2\u001b[0m has_batch_effect\n",
      "\u001b[0;31mNameError\u001b[0m: name 'X' is not defined"
     ]
    }
   ],
   "source": [
    "has_batch_effect = detect_batch_effect(X)\n",
    "has_batch_effect"
   ]
  },
  {
   "cell_type": "code",
   "execution_count": 49,
   "metadata": {
    "ExecuteTime": {
     "end_time": "2024-02-27T00:23:38.713688031Z",
     "start_time": "2024-02-27T00:23:38.660009818Z"
    },
    "collapsed": false
   },
   "outputs": [],
   "source": [
    "# Select appropriate models based on whether the dataset has batch effect.\n",
    "# We experiment on two models for each branch. We will decide which one to choose later.\n",
    "\n",
    "if has_batch_effect:\n",
    "    model_constructor1 = VariableSelection\n",
    "    model_params1 = {'modified': True, 'lamda': 3e-4}\n",
    "    model_constructor2 = VariableSelection\n",
    "    model_params2 = {'modified': False}\n",
    "else:\n",
    "    model_constructor1 = Lasso\n",
    "    model_params1 = {'alpha': 1.0, 'random_state': 42}\n",
    "    model_constructor2 = VariableSelection\n",
    "    model_params2 = {'modified': False}"
   ]
  },
  {
   "cell_type": "code",
   "execution_count": 50,
   "metadata": {
    "ExecuteTime": {
     "end_time": "2024-02-27T00:23:41.714245522Z",
     "start_time": "2024-02-27T00:23:38.703272032Z"
    },
    "collapsed": false
   },
   "outputs": [
    {
     "name": "stdout",
     "output_type": "stream",
     "text": [
      "alpha for Lasso: 0.0003\n",
      "alpha for Lasso: 0.0003\n",
      "alpha for Lasso: 0.0003\n",
      "alpha for Lasso: 0.0003\n",
      "alpha for Lasso: 0.0003\n",
      "The cross-validation accuracy is 67.82% ± 6.72%\n"
     ]
    }
   ],
   "source": [
    "trait_type = 'binary'  # Remember to set this properly, either 'binary' or 'continuous'\n",
    "cv_mean1, cv_std1 = cross_validation(X, Y, Z, model_constructor1, model_params1, target_type=trait_type)"
   ]
  },
  {
   "cell_type": "code",
   "execution_count": 51,
   "metadata": {
    "ExecuteTime": {
     "end_time": "2024-02-27T00:23:58.274133852Z",
     "start_time": "2024-02-27T00:23:41.714766427Z"
    },
    "collapsed": false
   },
   "outputs": [
    {
     "name": "stderr",
     "output_type": "stream",
     "text": [
      "/home/techt/anaconda3/envs/hl/lib/python3.8/site-packages/sparse_lmm/helpingMethods.py:49: RuntimeWarning: invalid value encountered in divide\n",
      "  ts = beta / np.sqrt(var * sigma)\n",
      "/home/techt/anaconda3/envs/hl/lib/python3.8/site-packages/sparse_lmm/helpingMethods.py:49: RuntimeWarning: invalid value encountered in divide\n",
      "  ts = beta / np.sqrt(var * sigma)\n",
      "/home/techt/anaconda3/envs/hl/lib/python3.8/site-packages/sparse_lmm/helpingMethods.py:49: RuntimeWarning: invalid value encountered in divide\n",
      "  ts = beta / np.sqrt(var * sigma)\n",
      "/home/techt/anaconda3/envs/hl/lib/python3.8/site-packages/sparse_lmm/helpingMethods.py:49: RuntimeWarning: invalid value encountered in divide\n",
      "  ts = beta / np.sqrt(var * sigma)\n",
      "/home/techt/anaconda3/envs/hl/lib/python3.8/site-packages/sparse_lmm/helpingMethods.py:49: RuntimeWarning: invalid value encountered in divide\n",
      "  ts = beta / np.sqrt(var * sigma)\n"
     ]
    },
    {
     "name": "stdout",
     "output_type": "stream",
     "text": [
      "The cross-validation accuracy is 90.86% ± 0.84%\n"
     ]
    }
   ],
   "source": [
    "cv_mean2, cv_std2 = cross_validation(X, Y, Z, model_constructor2, model_params2, target_type=trait_type)"
   ]
  },
  {
   "cell_type": "code",
   "execution_count": 52,
   "metadata": {
    "ExecuteTime": {
     "end_time": "2024-02-27T00:24:02.476194192Z",
     "start_time": "2024-02-27T00:23:58.272434972Z"
    },
    "collapsed": false
   },
   "outputs": [
    {
     "name": "stdout",
     "output_type": "stream",
     "text": [
      "alpha for Lasso: 0.0003\n"
     ]
    },
    {
     "name": "stderr",
     "output_type": "stream",
     "text": [
      "/home/techt/anaconda3/envs/hl/lib/python3.8/site-packages/sparse_lmm/helpingMethods.py:49: RuntimeWarning: invalid value encountered in divide\n",
      "  ts = beta / np.sqrt(var * sigma)\n"
     ]
    }
   ],
   "source": [
    "normalized_X, _ = normalize_data(X)\n",
    "normalized_Z, _ = normalize_data(Z)\n",
    "\n",
    "# Train regression model on the whole dataset to identify significant genes\n",
    "model1 = ResidualizationRegressor(model_constructor1, model_params1)\n",
    "model1.fit(normalized_X, Y, normalized_Z)\n",
    "\n",
    "model2 = ResidualizationRegressor(model_constructor2, model_params2)\n",
    "model2.fit(normalized_X, Y, normalized_Z)"
   ]
  },
  {
   "cell_type": "markdown",
   "metadata": {
    "ExecuteTime": {
     "end_time": "2023-10-14T04:50:59.072075075Z",
     "start_time": "2023-10-14T04:50:38.739499998Z"
    },
    "id": "EjJrxbvb4nlj"
   },
   "source": [
    "### 4. Discussion and report"
   ]
  },
  {
   "cell_type": "code",
   "execution_count": 53,
   "metadata": {
    "ExecuteTime": {
     "end_time": "2024-02-27T00:24:02.485641600Z",
     "start_time": "2024-02-27T00:24:02.477523460Z"
    },
    "collapsed": false
   },
   "outputs": [
    {
     "name": "stdout",
     "output_type": "stream",
     "text": [
      "Effect of the condition on the target variable:\n",
      "Variable: Age\n",
      "Coefficient: 0.0065\n",
      "Found 4 genes with non-zero coefficients associated with the trait 'Breast Cancer' conditional on the factor 'Age'. These genes are identified as significant based on the regression model.\n",
      "    Variable  Coefficient  Absolute Coefficient\n",
      "     C5orf52    -0.503090              0.503090\n",
      "LOC100129935    -0.091620              0.091620\n",
      "        HAO2     0.043399              0.043399\n",
      "      TTTY21    -0.008845              0.008845\n"
     ]
    },
    {
     "name": "stderr",
     "output_type": "stream",
     "text": [
      "/home/techt/AI4Science_gold_standard/utils.py:486: SettingWithCopyWarning: \n",
      "A value is trying to be set on a copy of a slice from a DataFrame.\n",
      "Try using .loc[row_indexer,col_indexer] = value instead\n",
      "\n",
      "See the caveats in the documentation: https://pandas.pydata.org/pandas-docs/stable/user_guide/indexing.html#returning-a-view-versus-a-copy\n",
      "  gene_regression_df['Absolute Coefficient'] = gene_regression_df['Coefficient'].abs()\n"
     ]
    }
   ],
   "source": [
    "feature_cols = merged_data.columns.tolist()\n",
    "feature_cols.remove(TRAIT)\n",
    "\n",
    "threshold = 0.05\n",
    "interpret_result(model1, feature_cols, TRAIT, condition, threshold=threshold, save_output=True,\n",
    "                 output_dir=OUTPUT_DIR, model_id=1)"
   ]
  },
  {
   "cell_type": "code",
   "execution_count": 54,
   "metadata": {
    "ExecuteTime": {
     "end_time": "2024-02-27T00:24:02.496973825Z",
     "start_time": "2024-02-27T00:24:02.485560148Z"
    },
    "collapsed": false
   },
   "outputs": [
    {
     "name": "stdout",
     "output_type": "stream",
     "text": [
      "Effect of the condition on the target variable:\n",
      "Variable: Age\n",
      "Coefficient: 0.0065\n",
      "Found 56 significant genes associated with the trait 'Breast Cancer' conditional on the factor 'Age', with corrected p-value < 0.05:\n",
      " Variable  Coefficient      p_value  corrected_p_value\n",
      "  COL10A1     0.139801 2.272959e-32       3.941083e-28\n",
      "      BGN     0.096090 1.371919e-18       1.189385e-14\n",
      "    MMP11     0.082105 1.200864e-14       6.940595e-11\n",
      "  HSD17B6     0.051075 5.396057e-11       2.099223e-07\n",
      "   CTHRC1     0.058965 6.696716e-11       2.099223e-07\n",
      "    MFAP5    -0.055412 7.264165e-11       2.099223e-07\n",
      "   OR51D1     0.023976 1.231414e-09       3.050213e-06\n",
      "   CLEC5A     0.046623 1.873539e-09       4.060661e-06\n",
      "       GC     0.027701 5.093728e-09       9.813350e-06\n",
      "      FN1     0.064388 3.437602e-08       5.960458e-05\n",
      "  C1QTNF6     0.050616 5.341210e-08       7.717604e-05\n",
      "     COMP     0.040724 5.254171e-08       7.717604e-05\n",
      "   LRRC15     0.051955 6.597041e-08       8.798931e-05\n",
      "    INHBA     0.050265 4.503237e-07       5.222718e-04\n",
      "     ECM2    -0.067315 4.518182e-07       5.222718e-04\n",
      "    CILP2     0.041136 4.902079e-07       5.312321e-04\n",
      "    FNDC1     0.041567 9.997157e-07       1.019651e-03\n",
      "  SLC24A2     0.043677 1.088907e-06       1.048920e-03\n",
      "     VCAN     0.060144 1.465059e-06       1.336982e-03\n",
      "      DCN    -0.061377 1.598331e-06       1.385673e-03\n",
      "    CD248    -0.047072 1.713127e-06       1.414472e-03\n",
      "      FAP     0.061535 1.970426e-06       1.552964e-03\n",
      "    P4HA3     0.043197 2.226118e-06       1.678202e-03\n",
      "      F2R     0.042153 2.823189e-06       2.039636e-03\n",
      "    MFAP2     0.046080 3.173463e-06       2.200987e-03\n",
      "  OLFML2A    -0.036874 3.441412e-06       2.295025e-03\n",
      "     HEYL     0.037219 4.178849e-06       2.683595e-03\n",
      "    OR2L3    -0.017440 4.804225e-06       2.975016e-03\n",
      "POM121L12     0.029506 5.325683e-06       3.184208e-03\n",
      "   COL5A2     0.063997 5.989358e-06       3.461649e-03\n",
      "    SPARC     0.055097 6.679719e-06       3.736118e-03\n",
      "   OLFML1    -0.061369 9.075918e-06       4.917729e-03\n",
      "      MAF    -0.039889 1.228983e-05       6.457376e-03\n",
      "    LOXL1     0.043604 1.607333e-05       8.196928e-03\n",
      "  CYP19A1     0.021867 1.833526e-05       9.083287e-03\n",
      "   LEFTY2     0.025998 3.583211e-05       1.725814e-02\n",
      "   KBTBD6    -0.030732 3.743350e-05       1.754215e-02\n",
      "     NRG3    -0.019332 3.930243e-05       1.793329e-02\n",
      "    PRDM8    -0.037232 4.162295e-05       1.850514e-02\n",
      "    CFHR5    -0.018284 4.601881e-05       1.994801e-02\n",
      "   COL1A1     0.046078 5.430926e-05       2.296752e-02\n",
      "    WNT8A     0.014852 6.121294e-05       2.468305e-02\n",
      "    GNG11    -0.066023 6.120003e-05       2.468305e-02\n",
      "   ADAM12     0.041917 6.725552e-05       2.650326e-02\n",
      "    GGT8P    -0.017786 8.624514e-05       3.323121e-02\n",
      "     RECK    -0.052323 9.888791e-05       3.727429e-02\n",
      "     CNTF    -0.020411 1.139612e-04       3.991115e-02\n",
      "   CLEC3B    -0.040284 1.150907e-04       3.991115e-02\n",
      "   PCOLCE    -0.047793 1.150044e-04       3.991115e-02\n",
      " SERPINE1     0.025811 1.125835e-04       3.991115e-02\n",
      "     ACAN     0.024426 1.178990e-04       4.008335e-02\n",
      "  TMEM119     0.035586 1.240881e-04       4.137624e-02\n",
      "    KCNC1    -0.023441 1.413518e-04       4.624336e-02\n",
      "  OLFML2B     0.035631 1.451487e-04       4.660618e-02\n",
      "    SRPX2    -0.033834 1.589026e-04       4.920021e-02\n",
      "      SST    -0.014828 1.562419e-04       4.920021e-02\n"
     ]
    },
    {
     "name": "stderr",
     "output_type": "stream",
     "text": [
      "/home/techt/AI4Science_gold_standard/utils.py:495: SettingWithCopyWarning: \n",
      "A value is trying to be set on a copy of a slice from a DataFrame.\n",
      "Try using .loc[row_indexer,col_indexer] = value instead\n",
      "\n",
      "See the caveats in the documentation: https://pandas.pydata.org/pandas-docs/stable/user_guide/indexing.html#returning-a-view-versus-a-copy\n",
      "  gene_regression_df.loc[:, 'corrected_p_value'] = corrected_p_values\n"
     ]
    }
   ],
   "source": [
    "interpret_result(model2, feature_cols, TRAIT, condition, threshold=threshold, save_output=True,\n",
    "                 output_dir=OUTPUT_DIR, model_id=2)"
   ]
  },
  {
   "cell_type": "code",
   "execution_count": null,
   "metadata": {
    "collapsed": false
   },
   "outputs": [],
   "source": []
  }
 ],
 "metadata": {
  "colab": {
   "provenance": []
  },
  "kernelspec": {
   "display_name": "Python 3 (ipykernel)",
   "language": "python",
   "name": "python3"
  },
  "language_info": {
   "codemirror_mode": {
    "name": "ipython",
    "version": 3
   },
   "file_extension": ".py",
   "mimetype": "text/x-python",
   "name": "python",
   "nbconvert_exporter": "python",
   "pygments_lexer": "ipython3",
   "version": "3.9.12"
  }
 },
 "nbformat": 4,
 "nbformat_minor": 0
}
