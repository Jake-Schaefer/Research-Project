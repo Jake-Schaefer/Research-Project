{
 "cells": [
  {
   "cell_type": "markdown",
   "metadata": {
    "collapsed": false
   },
   "source": [
    "# Gold standard curation: Preprocessing and single-step regression"
   ]
  },
  {
   "cell_type": "markdown",
   "metadata": {
    "collapsed": false
   },
   "source": [
    "In this stage of gold standard curation, we will do the data preprocessing, selection, and single-step regression for the 153 traits in our question set. This file shows the reference steps using the trait \"Stomach Cancer\" as an example. The workflow consists of the following steps:\n",
    "\n",
    "1. Preprocess all the cohorts related to this trait. Each cohort should be converted to a tabular form and saved to a csv file, with columns being genetic factors, the trait, and age, gender if available;\n",
    "2. If there exists at least one cohort with age or gender information, conduct regression analysis with genetic features together with age or gender as the regressors.\n"
   ]
  },
  {
   "cell_type": "markdown",
   "metadata": {
    "collapsed": false
   },
   "source": [
    "# 1. Basic setup"
   ]
  },
  {
   "cell_type": "code",
   "execution_count": 1,
   "metadata": {
    "ExecuteTime": {
     "end_time": "2024-02-27T00:22:19.918139380Z",
     "start_time": "2024-02-27T00:22:19.235047906Z"
    },
    "collapsed": false
   },
   "outputs": [
    {
     "name": "stdout",
     "output_type": "stream",
     "text": [
      "utils.py has been loaded\n"
     ]
    }
   ],
   "source": [
    "import os\n",
    "import sys\n",
    "\n",
    "sys.path.append('..')\n",
    "from utils import *\n",
    "\n",
    "# Set your preferred name\n",
    "USER = \"Lisa\"\n",
    "# Set the data and output directories\n",
    "DATA_ROOT = '/Users/wjt/Desktop/is_data/2'\n",
    "OUTPUT_ROOT = 'output2'\n",
    "TRAIT = 'Stomach-Cancer'\n",
    "\n",
    "OUTPUT_DIR = os.path.join(OUTPUT_ROOT, USER, '-'.join(TRAIT.split()))\n",
    "JSON_PATH = os.path.join(OUTPUT_DIR, \"cohort_info.json\")\n",
    "if not os.path.exists(OUTPUT_DIR):\n",
    "    os.makedirs(OUTPUT_DIR, exist_ok=True)\n",
    "\n",
    "# Gene symbol normalization may take 1-2 minutes. You may set it to False for debugging.\n",
    "NORMALIZE_GENE = True"
   ]
  },
  {
   "cell_type": "code",
   "execution_count": 2,
   "metadata": {
    "ExecuteTime": {
     "end_time": "2024-02-27T00:22:19.923963844Z",
     "start_time": "2024-02-27T00:22:19.920633515Z"
    },
    "colab": {
     "base_uri": "https://localhost:8080/"
    },
    "id": "jMTdsU43vVg3",
    "outputId": "38886111-f442-44b4-8398-96bf384d7abd"
   },
   "outputs": [
    {
     "data": {
      "text/plain": [
       "\"import os\\nfrom google.colab import drive\\n\\ndrive.mount('/content/drive', force_remount=True)\\nproj_dir = '/content/drive/MyDrive/AI4Science_Public'\\nos.chdir(proj_dir)\""
      ]
     },
     "execution_count": 2,
     "metadata": {},
     "output_type": "execute_result"
    }
   ],
   "source": [
    "# This cell is only for use on Google Colab. Skip it if you run your code in other environments\n",
    "\n",
    "\"\"\"import os\n",
    "from google.colab import drive\n",
    "\n",
    "drive.mount('/content/drive', force_remount=True)\n",
    "proj_dir = '/content/drive/MyDrive/AI4Science_Public'\n",
    "os.chdir(proj_dir)\"\"\""
   ]
  },
  {
   "cell_type": "markdown",
   "metadata": {
    "collapsed": false
   },
   "source": [
    "# 2. Data preprocessing and selection"
   ]
  },
  {
   "cell_type": "markdown",
   "metadata": {
    "collapsed": false
   },
   "source": [
    "## 2.1. The TCGA Xena dataset xxthis part is not changedxx"
   ]
  },
  {
   "cell_type": "markdown",
   "metadata": {
    "collapsed": false
   },
   "source": [
    "In TCGA Xena, there is either zero or one cohort related to the trait. We search the names of subdirectories to see if any matches the trait. If a match is found, we directly obtain the file paths."
   ]
  },
  {
   "cell_type": "code",
   "execution_count": 3,
   "metadata": {
    "ExecuteTime": {
     "end_time": "2024-02-27T00:22:21.140790869Z",
     "start_time": "2024-02-27T00:22:21.133208795Z"
    },
    "collapsed": false
   },
   "outputs": [
    {
     "data": {
      "text/plain": [
       "['TCGA_Lower_Grade_Glioma_(LGG)',\n",
       " 'TCGA_lower_grade_glioma_and_glioblastoma_(GBMLGG)',\n",
       " 'TCGA_Lung_Adenocarcinoma_(LUAD)',\n",
       " 'TCGA_Lung_Cancer_(LUNG)',\n",
       " 'TCGA_Lung_Squamous_Cell_Carcinoma_(LUSC)',\n",
       " 'TCGA_Melanoma_(SKCM)',\n",
       " 'TCGA_Mesothelioma_(MESO)',\n",
       " 'TCGA_Ocular_melanomas_(UVM)',\n",
       " 'TCGA_Ovarian_Cancer_(OV)',\n",
       " 'TCGA_Pancreatic_Cancer_(PAAD)']"
      ]
     },
     "execution_count": 3,
     "metadata": {},
     "output_type": "execute_result"
    }
   ],
   "source": [
    "dataset = 'TCGA'\n",
    "dataset_dir = os.path.join(DATA_ROOT, dataset)\n",
    "os.listdir(dataset_dir)[:10]"
   ]
  },
  {
   "cell_type": "markdown",
   "metadata": {
    "collapsed": false
   },
   "source": [
    "If no match is found, jump directly to GEO in Part 2.2"
   ]
  },
  {
   "cell_type": "code",
   "execution_count": 4,
   "metadata": {
    "ExecuteTime": {
     "end_time": "2024-02-27T00:22:21.985144212Z",
     "start_time": "2024-02-27T00:22:21.981084968Z"
    },
    "collapsed": false
   },
   "outputs": [],
   "source": [
    "trait_subdir = \"TCGA_Breast_Cancer_(BRCA)\"\n",
    "cohort = 'Xena'\n",
    "# All the cancer traits in Xena are binary\n",
    "trait_type = 'binary'\n",
    "# Once a relevant cohort is found in Xena, we can generally assume the gene and clinical data are available\n",
    "is_available = True\n",
    "\n",
    "cohort_dir = os.path.join(DATA_ROOT, dataset, trait_subdir)\n",
    "clinical_data_file, genetic_data_file = xena_get_relevant_filepaths(cohort_dir)"
   ]
  },
  {
   "cell_type": "code",
   "execution_count": 5,
   "metadata": {
    "ExecuteTime": {
     "end_time": "2024-02-27T00:22:25.794819905Z",
     "start_time": "2024-02-27T00:22:22.357077391Z"
    },
    "id": "MudwB-_iz7sc"
   },
   "outputs": [],
   "source": [
    "import pandas as pd\n",
    "\n",
    "clinical_data = pd.read_csv(clinical_data_file, sep='\\t', index_col=0)\n",
    "genetic_data = pd.read_csv(genetic_data_file, compression='gzip', sep='\\t', index_col=0)\n",
    "age_col = gender_col = None"
   ]
  },
  {
   "cell_type": "code",
   "execution_count": 6,
   "metadata": {
    "ExecuteTime": {
     "end_time": "2024-02-27T00:22:25.798785383Z",
     "start_time": "2024-02-27T00:22:25.796474039Z"
    },
    "collapsed": false
   },
   "outputs": [
    {
     "data": {
      "text/plain": [
       "['AJCC_Stage_nature2012',\n",
       " 'Age_at_Initial_Pathologic_Diagnosis_nature2012',\n",
       " 'CN_Clusters_nature2012',\n",
       " 'Converted_Stage_nature2012',\n",
       " 'Days_to_Date_of_Last_Contact_nature2012',\n",
       " 'Days_to_date_of_Death_nature2012',\n",
       " 'ER_Status_nature2012',\n",
       " 'Gender_nature2012',\n",
       " 'HER2_Final_Status_nature2012',\n",
       " 'Integrated_Clusters_no_exp__nature2012']"
      ]
     },
     "execution_count": 6,
     "metadata": {},
     "output_type": "execute_result"
    }
   ],
   "source": [
    "_, clinical_data_cols = check_rows_and_columns(clinical_data)\n",
    "clinical_data_cols[:10]"
   ]
  },
  {
   "cell_type": "markdown",
   "metadata": {
    "ExecuteTime": {
     "end_time": "2023-12-28T20:20:11.841042813Z",
     "start_time": "2023-12-28T20:20:11.834458206Z"
    },
    "collapsed": false
   },
   "source": [
    "Read all the column names in the clinical dataset, to find the columns that record information about age or gender.\n",
    "Reference prompt:"
   ]
  },
  {
   "cell_type": "code",
   "execution_count": 7,
   "metadata": {
    "ExecuteTime": {
     "end_time": "2024-02-27T00:22:25.802838875Z",
     "start_time": "2024-02-27T00:22:25.798659327Z"
    },
    "collapsed": false
   },
   "outputs": [
    {
     "data": {
      "text/plain": [
       "\"\\nBelow is a list of column names from a biomedical dataset. Please examine it and identify the columns that are likely to contain information about patients' age. Additionally, please do the same for columns that may hold data on patients' gender. Please provide your answer by strictly following this format, without redundant words:\\ncandidate_age_cols = [col_name1, col_name2, ...]\\ncandidate_gender_cols = [col_name1, col_name2, ...]\\nIf no columns match a criterion, please provide an empty list.\\n\\nColumn names:\\n['AJCC_Stage_nature2012', 'Age_at_Initial_Pathologic_Diagnosis_nature2012', 'CN_Clusters_nature2012', 'Converted_Stage_nature2012', 'Days_to_Date_of_Last_Contact_nature2012', 'Days_to_date_of_Death_nature2012', 'ER_Status_nature2012', 'Gender_nature2012', 'HER2_Final_Status_nature2012', 'Integrated_Clusters_no_exp__nature2012', 'Integrated_Clusters_unsup_exp__nature2012', 'Integrated_Clusters_with_PAM50__nature2012', 'Metastasis_Coded_nature2012', 'Metastasis_nature2012', 'Node_Coded_nature2012', 'Node_nature2012', 'OS_Time_nature2012', 'OS_event_nature2012', 'PAM50Call_RNAseq', 'PAM50_mRNA_nature2012', 'PR_Status_nature2012', 'RPPA_Clusters_nature2012', 'SigClust_Intrinsic_mRNA_nature2012', 'SigClust_Unsupervised_mRNA_nature2012', 'Survival_Data_Form_nature2012', 'Tumor_T1_Coded_nature2012', 'Tumor_nature2012', 'Vital_Status_nature2012', '_INTEGRATION', '_PANCAN_CNA_PANCAN_K8', '_PANCAN_Cluster_Cluster_PANCAN', '_PANCAN_DNAMethyl_BRCA', '_PANCAN_DNAMethyl_PANCAN', '_PANCAN_RPPA_PANCAN_K8', '_PANCAN_UNC_RNAseq_PANCAN_K16', '_PANCAN_miRNA_PANCAN', '_PANCAN_mirna_BRCA', '_PANCAN_mutation_PANCAN', '_PATIENT', '_cohort', '_primary_disease', '_primary_site', 'additional_pharmaceutical_therapy', 'additional_radiation_therapy', 'additional_surgery_locoregional_procedure', 'additional_surgery_metastatic_procedure', 'age_at_initial_pathologic_diagnosis', 'anatomic_neoplasm_subdivision', 'axillary_lymph_node_stage_method_type', 'axillary_lymph_node_stage_other_method_descriptive_text', 'bcr_followup_barcode', 'bcr_patient_barcode', 'bcr_sample_barcode', 'breast_cancer_surgery_margin_status', 'breast_carcinoma_estrogen_receptor_status', 'breast_carcinoma_immunohistochemistry_er_pos_finding_scale', 'breast_carcinoma_immunohistochemistry_pos_cell_score', 'breast_carcinoma_immunohistochemistry_prgstrn_rcptr_ps_fndng_scl', 'breast_carcinoma_primary_surgical_procedure_name', 'breast_carcinoma_progesterone_receptor_status', 'breast_carcinoma_surgical_procedure_name', 'breast_neoplasm_other_surgical_procedure_descriptive_text', 'cytokeratin_immunohistochemistry_staining_method_mcrmtstss_ndctr', 'days_to_additional_surgery_locoregional_procedure', 'days_to_additional_surgery_metastatic_procedure', 'days_to_birth', 'days_to_collection', 'days_to_death', 'days_to_initial_pathologic_diagnosis', 'days_to_last_followup', 'days_to_last_known_alive', 'days_to_new_tumor_event_additional_surgery_procedure', 'days_to_new_tumor_event_after_initial_treatment', 'disease_code', 'distant_metastasis_present_ind2', 'er_detection_method_text', 'er_level_cell_percentage_category', 'fluorescence_in_st_hybrdztn_dgnstc_prcdr_chrmsm_17_sgnl_rslt_rng', 'followup_case_report_form_submission_reason', 'form_completion_date', 'gender', 'her2_and_centromere_17_positive_finding_other_measuremnt_scl_txt', 'her2_erbb_method_calculation_method_text', 'her2_erbb_pos_finding_cell_percent_category', 'her2_erbb_pos_finding_fluorescence_n_st_hybrdztn_clcltn_mthd_txt', 'her2_immunohistochemistry_level_result', 'her2_neu_and_centromere_17_copy_number_analysis_npt_ttl_nmbr_cnt', 'her2_neu_breast_carcinoma_copy_analysis_input_total_number', 'her2_neu_chromosone_17_signal_ratio_value', 'her2_neu_metastatic_breast_carcinoma_copy_analysis_inpt_ttl_nmbr', 'histological_type', 'histological_type_other', 'history_of_neoadjuvant_treatment', 'hr2_n_nd_cntrmr_17_cpy_nmbr_mtsttc_brst_crcnm_nlyss_npt_ttl_nmbr', 'icd_10', 'icd_o_3_histology', 'icd_o_3_site', 'immunohistochemistry_positive_cell_score', 'informed_consent_verified', 'init_pathology_dx_method_other', 'initial_pathologic_diagnosis_method', 'initial_weight', 'is_ffpe', 'lab_proc_her2_neu_immunohistochemistry_receptor_status', 'lab_procedure_her2_neu_in_situ_hybrid_outcome_type', 'lost_follow_up', 'lymph_node_examined_count', 'margin_status', 'menopause_status', 'metastatic_breast_carcinm_ps_fndng_prgstrn_rcptr_thr_msr_scl_txt', 'metastatic_breast_carcinom_lb_prc_hr2_n_mmnhstchmstry_rcptr_stts', 'metastatic_breast_carcinoma_erbb2_immunohistochemistry_levl_rslt', 'metastatic_breast_carcinoma_estrogen_receptor_detection_mthd_txt', 'metastatic_breast_carcinoma_estrogen_receptor_status', 'metastatic_breast_carcinoma_estrogen_receptr_lvl_cll_prcnt_ctgry', 'metastatic_breast_carcinoma_her2_erbb_method_calculatin_mthd_txt', 'metastatic_breast_carcinoma_her2_erbb_pos_findng_cll_prcnt_ctgry', 'metastatic_breast_carcinoma_her2_neu_chromosone_17_signal_rat_vl', 'metastatic_breast_carcinoma_immunhstchmstry_r_pstv_fndng_scl_typ', 'metastatic_breast_carcinoma_immunohistochemistry_er_pos_cell_scr', 'metastatic_breast_carcinoma_immunohistochemistry_pr_pos_cell_scr', 'metastatic_breast_carcinoma_lab_proc_hr2_n_n_st_hybrdztn_tcm_typ', 'metastatic_breast_carcinoma_pos_finding_hr2_rbb2_thr_msr_scl_txt', 'metastatic_breast_carcinoma_progestern_rcptr_lvl_cll_prcnt_ctgry', 'metastatic_breast_carcinoma_progesterone_receptor_dtctn_mthd_txt', 'metastatic_breast_carcinoma_progesterone_receptor_status', 'metastatic_site_at_diagnosis', 'metastatic_site_at_diagnosis_other', 'methylation_Clusters_nature2012', 'miRNA_Clusters_nature2012', 'mtsttc_brst_crcnm_flrscnc_n_st_hybrdztn_dgnstc_prc_cntrmr_17_sgn', 'mtsttc_brst_crcnm_hr2_rbb_ps_fndng_flrscnc_n_st_hybrdztn_clcltn', 'mtsttc_brst_crcnm_mmnhstchmstry_prgstrn_rcptr_pstv_fndng_scl_typ', 'new_neoplasm_event_occurrence_anatomic_site', 'new_neoplasm_event_type', 'new_neoplasm_occurrence_anatomic_site_text', 'new_tumor_event_additional_surgery_procedure', 'new_tumor_event_after_initial_treatment', 'number_of_lymphnodes_positive_by_he', 'number_of_lymphnodes_positive_by_ihc', 'oct_embedded', 'other_dx', 'pathologic_M', 'pathologic_N', 'pathologic_T', 'pathologic_stage', 'pathology_report_file_name', 'patient_id', 'person_neoplasm_cancer_status', 'pgr_detection_method_text', 'pos_finding_her2_erbb2_other_measurement_scale_text', 'pos_finding_metastatic_brst_crcnm_strgn_rcptr_thr_msrmnt_scl_txt', 'pos_finding_progesterone_receptor_other_measurement_scale_text', 'positive_finding_estrogen_receptor_other_measurement_scale_text', 'postoperative_rx_tx', 'primary_lymph_node_presentation_assessment', 'progesterone_receptor_level_cell_percent_category', 'project_code', 'radiation_therapy', 'sample_type', 'sample_type_id', 'surgical_procedure_purpose_other_text', 'system_version', 'targeted_molecular_therapy', 'tissue_prospective_collection_indicator', 'tissue_retrospective_collection_indicator', 'tissue_source_site', 'tumor_tissue_site', 'vial_number', 'vital_status', 'year_of_initial_pathologic_diagnosis', '_GENOMIC_ID_TCGA_BRCA_exp_HiSeqV2_exon', '_GENOMIC_ID_TCGA_BRCA_exp_HiSeqV2_PANCAN', '_GENOMIC_ID_TCGA_BRCA_RPPA_RBN', '_GENOMIC_ID_TCGA_BRCA_mutation', '_GENOMIC_ID_TCGA_BRCA_PDMRNAseq', '_GENOMIC_ID_TCGA_BRCA_hMethyl450', '_GENOMIC_ID_TCGA_BRCA_RPPA', '_GENOMIC_ID_TCGA_BRCA_PDMRNAseqCNV', '_GENOMIC_ID_TCGA_BRCA_mutation_curated_wustl_gene', '_GENOMIC_ID_TCGA_BRCA_hMethyl27', '_GENOMIC_ID_TCGA_BRCA_PDMarrayCNV', '_GENOMIC_ID_TCGA_BRCA_miRNA_HiSeq', '_GENOMIC_ID_TCGA_BRCA_mutation_wustl_gene', '_GENOMIC_ID_TCGA_BRCA_miRNA_GA', '_GENOMIC_ID_TCGA_BRCA_exp_HiSeqV2_percentile', '_GENOMIC_ID_data/public/TCGA/BRCA/miRNA_GA_gene', '_GENOMIC_ID_TCGA_BRCA_gistic2thd', '_GENOMIC_ID_data/public/TCGA/BRCA/miRNA_HiSeq_gene', '_GENOMIC_ID_TCGA_BRCA_G4502A_07_3', '_GENOMIC_ID_TCGA_BRCA_exp_HiSeqV2', '_GENOMIC_ID_TCGA_BRCA_gistic2', '_GENOMIC_ID_TCGA_BRCA_PDMarray']\\n\""
      ]
     },
     "execution_count": 7,
     "metadata": {},
     "output_type": "execute_result"
    }
   ],
   "source": [
    "f'''\n",
    "Below is a list of column names from a biomedical dataset. Please examine it and identify the columns that are likely to contain information about patients' age. Additionally, please do the same for columns that may hold data on patients' gender. Please provide your answer by strictly following this format, without redundant words:\n",
    "candidate_age_cols = [col_name1, col_name2, ...]\n",
    "candidate_gender_cols = [col_name1, col_name2, ...]\n",
    "If no columns match a criterion, please provide an empty list.\n",
    "\n",
    "Column names:\n",
    "{clinical_data_cols}\n",
    "'''"
   ]
  },
  {
   "cell_type": "code",
   "execution_count": 8,
   "metadata": {
    "ExecuteTime": {
     "end_time": "2024-02-27T00:22:25.864092575Z",
     "start_time": "2024-02-27T00:22:25.802001989Z"
    },
    "collapsed": false
   },
   "outputs": [],
   "source": [
    "candidate_age_cols = ['Age_at_Initial_Pathologic_Diagnosis_nature2012', 'age_at_initial_pathologic_diagnosis',\n",
    "                      'days_to_birth', 'year_of_initial_pathologic_diagnosis']\n",
    "candidate_gender_cols = ['Gender_nature2012', 'gender']"
   ]
  },
  {
   "cell_type": "markdown",
   "metadata": {
    "ExecuteTime": {
     "end_time": "2023-12-31T03:57:44.207565572Z",
     "start_time": "2023-12-31T03:57:44.202177544Z"
    },
    "collapsed": false
   },
   "source": [
    "\n",
    "Choose a single column from the candidate columns that record age and gender information respectively.\n",
    "If no column meets the requirement, keep 'age_col' or 'gender_col' to None"
   ]
  },
  {
   "cell_type": "code",
   "execution_count": 9,
   "metadata": {
    "ExecuteTime": {
     "end_time": "2024-02-27T00:22:25.883993050Z",
     "start_time": "2024-02-27T00:22:25.843002735Z"
    },
    "collapsed": false
   },
   "outputs": [
    {
     "data": {
      "text/plain": [
       "{'Age_at_Initial_Pathologic_Diagnosis_nature2012': [nan, nan, nan, nan, nan],\n",
       " 'age_at_initial_pathologic_diagnosis': [55.0, 50.0, 62.0, 52.0, 50.0],\n",
       " 'days_to_birth': [-20211.0, -18538.0, -22848.0, -19074.0, -18371.0],\n",
       " 'year_of_initial_pathologic_diagnosis': [2004.0,\n",
       "  2003.0,\n",
       "  2011.0,\n",
       "  2011.0,\n",
       "  2013.0]}"
      ]
     },
     "execution_count": 9,
     "metadata": {},
     "output_type": "execute_result"
    }
   ],
   "source": [
    "preview_df(clinical_data[candidate_age_cols])"
   ]
  },
  {
   "cell_type": "code",
   "execution_count": 10,
   "metadata": {
    "ExecuteTime": {
     "end_time": "2024-02-27T00:22:26.108535524Z",
     "start_time": "2024-02-27T00:22:26.101435803Z"
    },
    "collapsed": false
   },
   "outputs": [],
   "source": [
    "age_col = 'age_at_initial_pathologic_diagnosis'"
   ]
  },
  {
   "cell_type": "code",
   "execution_count": 11,
   "metadata": {
    "ExecuteTime": {
     "end_time": "2024-02-27T00:22:26.627515444Z",
     "start_time": "2024-02-27T00:22:26.621590532Z"
    },
    "collapsed": false
   },
   "outputs": [
    {
     "data": {
      "text/plain": [
       "{'Gender_nature2012': [nan, nan, nan, nan, nan],\n",
       " 'gender': ['FEMALE', 'FEMALE', 'FEMALE', 'FEMALE', 'FEMALE']}"
      ]
     },
     "execution_count": 11,
     "metadata": {},
     "output_type": "execute_result"
    }
   ],
   "source": [
    "preview_df(clinical_data[candidate_gender_cols])"
   ]
  },
  {
   "cell_type": "code",
   "execution_count": 12,
   "metadata": {
    "ExecuteTime": {
     "end_time": "2024-02-27T00:22:27.048689083Z",
     "start_time": "2024-02-27T00:22:27.042025799Z"
    },
    "collapsed": false
   },
   "outputs": [],
   "source": [
    "gender_col = 'gender'"
   ]
  },
  {
   "cell_type": "code",
   "execution_count": 13,
   "metadata": {
    "ExecuteTime": {
     "end_time": "2024-02-27T00:22:27.533988678Z",
     "start_time": "2024-02-27T00:22:27.530516924Z"
    },
    "collapsed": false
   },
   "outputs": [],
   "source": [
    "selected_clinical_data = xena_select_clinical_features(clinical_data, TRAIT, age_col=age_col, gender_col=gender_col)"
   ]
  },
  {
   "cell_type": "code",
   "execution_count": 14,
   "metadata": {
    "ExecuteTime": {
     "end_time": "2024-02-27T00:23:16.602458026Z",
     "start_time": "2024-02-27T00:22:27.839636769Z"
    },
    "collapsed": false
   },
   "outputs": [],
   "source": [
    "if NORMALIZE_GENE:\n",
    "    genetic_data = normalize_gene_symbols_in_index(genetic_data)"
   ]
  },
  {
   "cell_type": "code",
   "execution_count": 15,
   "metadata": {
    "ExecuteTime": {
     "end_time": "2024-02-27T00:23:16.720144304Z",
     "start_time": "2024-02-27T00:23:16.643071320Z"
    },
    "collapsed": false
   },
   "outputs": [
    {
     "data": {
      "text/html": [
       "<div>\n",
       "<style scoped>\n",
       "    .dataframe tbody tr th:only-of-type {\n",
       "        vertical-align: middle;\n",
       "    }\n",
       "\n",
       "    .dataframe tbody tr th {\n",
       "        vertical-align: top;\n",
       "    }\n",
       "\n",
       "    .dataframe thead th {\n",
       "        text-align: right;\n",
       "    }\n",
       "</style>\n",
       "<table border=\"1\" class=\"dataframe\">\n",
       "  <thead>\n",
       "    <tr style=\"text-align: right;\">\n",
       "      <th></th>\n",
       "      <th>Breast Cancer</th>\n",
       "      <th>Age</th>\n",
       "      <th>Gender</th>\n",
       "      <th>ARHGEF10L</th>\n",
       "      <th>HIF3A</th>\n",
       "      <th>RNF17</th>\n",
       "      <th>RNF10</th>\n",
       "      <th>RNF11</th>\n",
       "      <th>RNF13</th>\n",
       "      <th>GTF2IP1</th>\n",
       "      <th>...</th>\n",
       "      <th>SLC7A10</th>\n",
       "      <th>PLA2G2C</th>\n",
       "      <th>TULP2</th>\n",
       "      <th>NPY5R</th>\n",
       "      <th>GNGT2</th>\n",
       "      <th>GNGT1</th>\n",
       "      <th>TULP3</th>\n",
       "      <th>BCL6B</th>\n",
       "      <th>GSTK1</th>\n",
       "      <th>SELP</th>\n",
       "    </tr>\n",
       "    <tr>\n",
       "      <th>sampleID</th>\n",
       "      <th></th>\n",
       "      <th></th>\n",
       "      <th></th>\n",
       "      <th></th>\n",
       "      <th></th>\n",
       "      <th></th>\n",
       "      <th></th>\n",
       "      <th></th>\n",
       "      <th></th>\n",
       "      <th></th>\n",
       "      <th></th>\n",
       "      <th></th>\n",
       "      <th></th>\n",
       "      <th></th>\n",
       "      <th></th>\n",
       "      <th></th>\n",
       "      <th></th>\n",
       "      <th></th>\n",
       "      <th></th>\n",
       "      <th></th>\n",
       "      <th></th>\n",
       "    </tr>\n",
       "  </thead>\n",
       "  <tbody>\n",
       "    <tr>\n",
       "      <th>TCGA-3C-AAAU-01</th>\n",
       "      <td>1</td>\n",
       "      <td>55.0</td>\n",
       "      <td>0.0</td>\n",
       "      <td>0.607308</td>\n",
       "      <td>-3.194126</td>\n",
       "      <td>-0.531035</td>\n",
       "      <td>-0.145872</td>\n",
       "      <td>0.237422</td>\n",
       "      <td>-0.29921</td>\n",
       "      <td>-0.142694</td>\n",
       "      <td>...</td>\n",
       "      <td>-1.331386</td>\n",
       "      <td>-0.086682</td>\n",
       "      <td>-0.748878</td>\n",
       "      <td>0.565583</td>\n",
       "      <td>-0.767233</td>\n",
       "      <td>-1.28139</td>\n",
       "      <td>-0.271377</td>\n",
       "      <td>0.360373</td>\n",
       "      <td>1.067905</td>\n",
       "      <td>0.076267</td>\n",
       "    </tr>\n",
       "    <tr>\n",
       "      <th>TCGA-3C-AALI-01</th>\n",
       "      <td>1</td>\n",
       "      <td>50.0</td>\n",
       "      <td>0.0</td>\n",
       "      <td>-0.641192</td>\n",
       "      <td>-4.928226</td>\n",
       "      <td>0.095465</td>\n",
       "      <td>0.098128</td>\n",
       "      <td>-0.541978</td>\n",
       "      <td>-0.32291</td>\n",
       "      <td>-0.044694</td>\n",
       "      <td>...</td>\n",
       "      <td>1.426614</td>\n",
       "      <td>-0.086682</td>\n",
       "      <td>0.312922</td>\n",
       "      <td>0.079683</td>\n",
       "      <td>0.475267</td>\n",
       "      <td>1.99661</td>\n",
       "      <td>0.161423</td>\n",
       "      <td>0.644673</td>\n",
       "      <td>-0.428695</td>\n",
       "      <td>0.068667</td>\n",
       "    </tr>\n",
       "    <tr>\n",
       "      <th>TCGA-3C-AALJ-01</th>\n",
       "      <td>1</td>\n",
       "      <td>62.0</td>\n",
       "      <td>0.0</td>\n",
       "      <td>1.082808</td>\n",
       "      <td>-4.623726</td>\n",
       "      <td>-0.531035</td>\n",
       "      <td>0.484028</td>\n",
       "      <td>-0.183678</td>\n",
       "      <td>-0.91901</td>\n",
       "      <td>0.261106</td>\n",
       "      <td>...</td>\n",
       "      <td>1.694014</td>\n",
       "      <td>-0.086682</td>\n",
       "      <td>-0.748878</td>\n",
       "      <td>-0.656117</td>\n",
       "      <td>-0.216733</td>\n",
       "      <td>0.21081</td>\n",
       "      <td>0.101023</td>\n",
       "      <td>1.295073</td>\n",
       "      <td>0.915105</td>\n",
       "      <td>0.168567</td>\n",
       "    </tr>\n",
       "    <tr>\n",
       "      <th>TCGA-3C-AALK-01</th>\n",
       "      <td>1</td>\n",
       "      <td>52.0</td>\n",
       "      <td>0.0</td>\n",
       "      <td>0.121608</td>\n",
       "      <td>-2.881526</td>\n",
       "      <td>-0.531035</td>\n",
       "      <td>0.179128</td>\n",
       "      <td>0.039222</td>\n",
       "      <td>-0.45491</td>\n",
       "      <td>0.180306</td>\n",
       "      <td>...</td>\n",
       "      <td>-1.211186</td>\n",
       "      <td>-0.086682</td>\n",
       "      <td>0.415422</td>\n",
       "      <td>-0.178417</td>\n",
       "      <td>-0.211233</td>\n",
       "      <td>-1.28139</td>\n",
       "      <td>0.108023</td>\n",
       "      <td>0.496773</td>\n",
       "      <td>0.240105</td>\n",
       "      <td>3.099767</td>\n",
       "    </tr>\n",
       "    <tr>\n",
       "      <th>TCGA-4H-AAAK-01</th>\n",
       "      <td>1</td>\n",
       "      <td>50.0</td>\n",
       "      <td>0.0</td>\n",
       "      <td>0.420208</td>\n",
       "      <td>-3.282726</td>\n",
       "      <td>-0.531035</td>\n",
       "      <td>-0.020972</td>\n",
       "      <td>-0.117978</td>\n",
       "      <td>-0.55781</td>\n",
       "      <td>-0.173794</td>\n",
       "      <td>...</td>\n",
       "      <td>-0.901186</td>\n",
       "      <td>0.424818</td>\n",
       "      <td>0.685222</td>\n",
       "      <td>-0.698717</td>\n",
       "      <td>-0.484233</td>\n",
       "      <td>-1.28139</td>\n",
       "      <td>-0.223577</td>\n",
       "      <td>0.225573</td>\n",
       "      <td>-0.301995</td>\n",
       "      <td>0.200067</td>\n",
       "    </tr>\n",
       "  </tbody>\n",
       "</table>\n",
       "<p>5 rows × 17342 columns</p>\n",
       "</div>"
      ],
      "text/plain": [
       "                 Breast Cancer   Age  Gender  ARHGEF10L     HIF3A     RNF17  \\\n",
       "sampleID                                                                      \n",
       "TCGA-3C-AAAU-01              1  55.0     0.0   0.607308 -3.194126 -0.531035   \n",
       "TCGA-3C-AALI-01              1  50.0     0.0  -0.641192 -4.928226  0.095465   \n",
       "TCGA-3C-AALJ-01              1  62.0     0.0   1.082808 -4.623726 -0.531035   \n",
       "TCGA-3C-AALK-01              1  52.0     0.0   0.121608 -2.881526 -0.531035   \n",
       "TCGA-4H-AAAK-01              1  50.0     0.0   0.420208 -3.282726 -0.531035   \n",
       "\n",
       "                    RNF10     RNF11    RNF13   GTF2IP1  ...   SLC7A10  \\\n",
       "sampleID                                                ...             \n",
       "TCGA-3C-AAAU-01 -0.145872  0.237422 -0.29921 -0.142694  ... -1.331386   \n",
       "TCGA-3C-AALI-01  0.098128 -0.541978 -0.32291 -0.044694  ...  1.426614   \n",
       "TCGA-3C-AALJ-01  0.484028 -0.183678 -0.91901  0.261106  ...  1.694014   \n",
       "TCGA-3C-AALK-01  0.179128  0.039222 -0.45491  0.180306  ... -1.211186   \n",
       "TCGA-4H-AAAK-01 -0.020972 -0.117978 -0.55781 -0.173794  ... -0.901186   \n",
       "\n",
       "                  PLA2G2C     TULP2     NPY5R     GNGT2    GNGT1     TULP3  \\\n",
       "sampleID                                                                     \n",
       "TCGA-3C-AAAU-01 -0.086682 -0.748878  0.565583 -0.767233 -1.28139 -0.271377   \n",
       "TCGA-3C-AALI-01 -0.086682  0.312922  0.079683  0.475267  1.99661  0.161423   \n",
       "TCGA-3C-AALJ-01 -0.086682 -0.748878 -0.656117 -0.216733  0.21081  0.101023   \n",
       "TCGA-3C-AALK-01 -0.086682  0.415422 -0.178417 -0.211233 -1.28139  0.108023   \n",
       "TCGA-4H-AAAK-01  0.424818  0.685222 -0.698717 -0.484233 -1.28139 -0.223577   \n",
       "\n",
       "                    BCL6B     GSTK1      SELP  \n",
       "sampleID                                       \n",
       "TCGA-3C-AAAU-01  0.360373  1.067905  0.076267  \n",
       "TCGA-3C-AALI-01  0.644673 -0.428695  0.068667  \n",
       "TCGA-3C-AALJ-01  1.295073  0.915105  0.168567  \n",
       "TCGA-3C-AALK-01  0.496773  0.240105  3.099767  \n",
       "TCGA-4H-AAAK-01  0.225573 -0.301995  0.200067  \n",
       "\n",
       "[5 rows x 17342 columns]"
      ]
     },
     "execution_count": 15,
     "metadata": {},
     "output_type": "execute_result"
    }
   ],
   "source": [
    "merged_data = selected_clinical_data.join(genetic_data.T).dropna()\n",
    "merged_data.head()"
   ]
  },
  {
   "cell_type": "code",
   "execution_count": 16,
   "metadata": {
    "ExecuteTime": {
     "end_time": "2024-02-27T00:23:16.731303752Z",
     "start_time": "2024-02-27T00:23:16.717316474Z"
    },
    "collapsed": false
   },
   "outputs": [
    {
     "name": "stdout",
     "output_type": "stream",
     "text": [
      "The merged dataset contains 1215 samples.\n",
      "For the feature 'Breast Cancer', the least common label is '0' with 113 occurrences. This represents 9.30% of the dataset.\n",
      "The distribution of the feature 'Breast Cancer' in this dataset is fine.\n",
      "\n",
      "Quartiles for 'Age':\n",
      "  25%: 48.0\n",
      "  50% (Median): 58.0\n",
      "  75%: 67.0\n",
      "Min: 26.0\n",
      "Max: 90.0\n",
      "The distribution of the feature 'Age' in this dataset is fine.\n",
      "\n",
      "For the feature 'Gender', the least common label is '1.0' with 13 occurrences. This represents 1.07% of the dataset.\n",
      "The distribution of the feature 'Gender' in this dataset is fine.\n",
      "\n"
     ]
    },
    {
     "data": {
      "text/plain": [
       "False"
      ]
     },
     "execution_count": 16,
     "metadata": {},
     "output_type": "execute_result"
    }
   ],
   "source": [
    "print(f\"The merged dataset contains {len(merged_data)} samples.\")\n",
    "is_trait_biased, merge_data = judge_and_remove_biased_features(merged_data, TRAIT, trait_type=trait_type)\n",
    "is_trait_biased"
   ]
  },
  {
   "cell_type": "code",
   "execution_count": 17,
   "metadata": {
    "ExecuteTime": {
     "end_time": "2024-02-27T00:23:30.252387093Z",
     "start_time": "2024-02-27T00:23:16.722533204Z"
    },
    "collapsed": false
   },
   "outputs": [],
   "source": [
    "merged_data.head()\n",
    "if not is_trait_biased:\n",
    "    merge_data.to_csv(os.path.join(OUTPUT_DIR, cohort + '.csv'), index=False)"
   ]
  },
  {
   "cell_type": "code",
   "execution_count": 18,
   "metadata": {
    "ExecuteTime": {
     "end_time": "2024-02-27T00:23:30.302271525Z",
     "start_time": "2024-02-27T00:23:30.295066253Z"
    },
    "collapsed": false
   },
   "outputs": [
    {
     "name": "stdout",
     "output_type": "stream",
     "text": [
      "A new JSON file was created at: ../../output1/Haoyang/Breast-Cancer/cohort_info.json\n"
     ]
    }
   ],
   "source": [
    "save_cohort_info(cohort, JSON_PATH, is_available, is_trait_biased, merged_data)"
   ]
  },
  {
   "cell_type": "markdown",
   "metadata": {
    "ExecuteTime": {
     "end_time": "2023-12-28T21:28:38.028916303Z",
     "start_time": "2023-12-28T21:28:38.016245426Z"
    },
    "collapsed": false
   },
   "source": [
    "## 2.2. The GEO dataset"
   ]
  },
  {
   "cell_type": "markdown",
   "metadata": {
    "ExecuteTime": {
     "end_time": "2023-12-31T03:25:23.253882615Z",
     "start_time": "2023-12-31T03:25:23.244062710Z"
    },
    "collapsed": false
   },
   "source": [
    "In GEO, there may be one or multiple cohorts for a trait. Each cohort is identified by an accession number. We iterate over all accession numbers in the corresponding subdirectory, preprocess the cohort data, and save them to csv files."
   ]
  },
  {
   "cell_type": "code",
   "execution_count": 2,
   "metadata": {
    "ExecuteTime": {
     "end_time": "2024-02-27T00:23:30.302587016Z",
     "start_time": "2024-02-27T00:23:30.295278811Z"
    },
    "collapsed": false
   },
   "outputs": [
    {
     "data": {
      "text/plain": [
       "['GSE207846', 'GSE172159', 'GSE147163', 'GSE211704', 'GSE172197']"
      ]
     },
     "execution_count": 2,
     "metadata": {},
     "output_type": "execute_result"
    }
   ],
   "source": [
    "dataset = 'GEO'\n",
    "trait_subdir = \"Stomach-Cancer\"\n",
    "\n",
    "trait_path = os.path.join(DATA_ROOT, dataset, trait_subdir)\n",
    "os.listdir(trait_path)"
   ]
  },
  {
   "cell_type": "markdown",
   "metadata": {
    "ExecuteTime": {
     "end_time": "2023-12-31T03:39:42.634870142Z",
     "start_time": "2023-12-31T03:39:42.534093295Z"
    },
    "collapsed": false
   },
   "source": [
    "Repeat the below steps for all the accession numbers"
   ]
  },
  {
   "cell_type": "code",
   "execution_count": 63,
   "metadata": {
    "ExecuteTime": {
     "end_time": "2024-02-27T00:23:30.302864515Z",
     "start_time": "2024-02-27T00:23:30.295388276Z"
    },
    "collapsed": false
   },
   "outputs": [
    {
     "data": {
      "text/plain": [
       "('/Users/wjt/Desktop/is_data/2/GEO/Stomach-Cancer/GSE211704/GSE211704_family.soft.gz',\n",
       " '/Users/wjt/Desktop/is_data/2/GEO/Stomach-Cancer/GSE211704/GSE211704_series_matrix.txt.gz')"
      ]
     },
     "execution_count": 63,
     "metadata": {},
     "output_type": "execute_result"
    }
   ],
   "source": [
    "# first GSE not much info \n",
    "# second not much info\n",
    "# third only tissue\n",
    "# 4 has disease state but no othe rinfo\n",
    "# 5 not much info\n",
    "cohort = accession_num = \"GSE211704\"\n",
    "cohort_dir = os.path.join(trait_path, accession_num)\n",
    "soft_file, matrix_file = geo_get_relevant_filepaths(cohort_dir)\n",
    "soft_file, matrix_file"
   ]
  },
  {
   "cell_type": "markdown",
   "metadata": {
    "collapsed": false
   },
   "source": [
    "### Initial filtering and clinical data preprocessing"
   ]
  },
  {
   "cell_type": "code",
   "execution_count": 64,
   "metadata": {
    "ExecuteTime": {
     "end_time": "2024-02-27T00:23:30.303301102Z",
     "start_time": "2024-02-27T00:23:30.295491459Z"
    },
    "collapsed": false
   },
   "outputs": [
    {
     "name": "stdout",
     "output_type": "stream",
     "text": [
      "!Series_title\t\"Integrated analysis of cancer-related pathways affected by genetic and epigenetic alterations in gastric cancer\"\n",
      "!Series_summary\t\"DNA methylation was analyzed in human gastric cancers, and methylation status of cancer-related genes was analyzed.\"\n",
      "!Series_overall_design\t\"DNA methylation was analyzed in human gastric cancers, and methylation status of cancer-related genes was analyzed.\"\n",
      "!Series_overall_design\t\"Genome-wide DNA methylation analysis was conducted by an Infinium HumanMethylation450 BeadChip array.\"\n"
     ]
    }
   ],
   "source": [
    "background_prefixes = ['!Series_title', '!Series_summary', '!Series_overall_design']\n",
    "clinical_prefixes = ['!Sample_geo_accession', '!Sample_characteristics_ch1']\n",
    "\n",
    "background_info, clinical_data = get_background_and_clinical_data(matrix_file, background_prefixes, clinical_prefixes)\n",
    "print(background_info)"
   ]
  },
  {
   "cell_type": "code",
   "execution_count": 65,
   "metadata": {
    "ExecuteTime": {
     "end_time": "2024-02-27T00:23:30.303593599Z",
     "start_time": "2024-02-27T00:23:30.299747893Z"
    },
    "collapsed": false
   },
   "outputs": [
    {
     "data": {
      "text/html": [
       "<div>\n",
       "<style scoped>\n",
       "    .dataframe tbody tr th:only-of-type {\n",
       "        vertical-align: middle;\n",
       "    }\n",
       "\n",
       "    .dataframe tbody tr th {\n",
       "        vertical-align: top;\n",
       "    }\n",
       "\n",
       "    .dataframe thead th {\n",
       "        text-align: right;\n",
       "    }\n",
       "</style>\n",
       "<table border=\"1\" class=\"dataframe\">\n",
       "  <thead>\n",
       "    <tr style=\"text-align: right;\">\n",
       "      <th></th>\n",
       "      <th>!Sample_geo_accession</th>\n",
       "      <th>GSM6499512</th>\n",
       "      <th>GSM6499513</th>\n",
       "      <th>GSM6499514</th>\n",
       "      <th>GSM6499515</th>\n",
       "      <th>GSM6499516</th>\n",
       "      <th>GSM6499517</th>\n",
       "      <th>GSM6499518</th>\n",
       "      <th>GSM6499519</th>\n",
       "      <th>GSM6499520</th>\n",
       "      <th>...</th>\n",
       "      <th>GSM6552206</th>\n",
       "      <th>GSM6552207</th>\n",
       "      <th>GSM6552208</th>\n",
       "      <th>GSM6552209</th>\n",
       "      <th>GSM6552210</th>\n",
       "      <th>GSM6552211</th>\n",
       "      <th>GSM6552212</th>\n",
       "      <th>GSM6552213</th>\n",
       "      <th>GSM6552214</th>\n",
       "      <th>GSM6552215</th>\n",
       "    </tr>\n",
       "  </thead>\n",
       "  <tbody>\n",
       "    <tr>\n",
       "      <th>0</th>\n",
       "      <td>!Sample_characteristics_ch1</td>\n",
       "      <td>disease state: Gastric cancer</td>\n",
       "      <td>disease state: Gastric cancer</td>\n",
       "      <td>disease state: Gastric cancer</td>\n",
       "      <td>disease state: Gastric cancer</td>\n",
       "      <td>disease state: Gastric cancer</td>\n",
       "      <td>disease state: Gastric cancer</td>\n",
       "      <td>disease state: Gastric cancer</td>\n",
       "      <td>disease state: Gastric cancer</td>\n",
       "      <td>disease state: Gastric cancer</td>\n",
       "      <td>...</td>\n",
       "      <td>disease state: Gastric cancer</td>\n",
       "      <td>disease state: Gastric cancer</td>\n",
       "      <td>disease state: Gastric cancer</td>\n",
       "      <td>disease state: Gastric cancer</td>\n",
       "      <td>disease state: Gastric cancer</td>\n",
       "      <td>disease state: Gastric cancer</td>\n",
       "      <td>disease state: Gastric cancer</td>\n",
       "      <td>disease state: Gastric cancer</td>\n",
       "      <td>disease state: Gastric cancer</td>\n",
       "      <td>disease state: Gastric cancer</td>\n",
       "    </tr>\n",
       "    <tr>\n",
       "      <th>1</th>\n",
       "      <td>!Sample_characteristics_ch1</td>\n",
       "      <td>tissue: stomach</td>\n",
       "      <td>tissue: stomach</td>\n",
       "      <td>tissue: stomach</td>\n",
       "      <td>tissue: stomach</td>\n",
       "      <td>tissue: stomach</td>\n",
       "      <td>tissue: stomach</td>\n",
       "      <td>tissue: stomach</td>\n",
       "      <td>tissue: stomach</td>\n",
       "      <td>tissue: stomach</td>\n",
       "      <td>...</td>\n",
       "      <td>stomach location: Body</td>\n",
       "      <td>stomach location: Body</td>\n",
       "      <td>stomach location: Body</td>\n",
       "      <td>stomach location: Body</td>\n",
       "      <td>stomach location: Body</td>\n",
       "      <td>stomach location: Body</td>\n",
       "      <td>stomach location: Body</td>\n",
       "      <td>stomach location: Body</td>\n",
       "      <td>stomach location: Body</td>\n",
       "      <td>stomach location: Body</td>\n",
       "    </tr>\n",
       "    <tr>\n",
       "      <th>2</th>\n",
       "      <td>!Sample_characteristics_ch1</td>\n",
       "      <td>stomach location: Body</td>\n",
       "      <td>stomach location: Body</td>\n",
       "      <td>stomach location: Antrum</td>\n",
       "      <td>stomach location: Antrum</td>\n",
       "      <td>stomach location: Body</td>\n",
       "      <td>stomach location: Body</td>\n",
       "      <td>stomach location: Body</td>\n",
       "      <td>stomach location: Body</td>\n",
       "      <td>stomach location: Anturm</td>\n",
       "      <td>...</td>\n",
       "      <td>phenotype: Poorly to moderately differenciated...</td>\n",
       "      <td>phenotype: Poorly to moderately differenciated...</td>\n",
       "      <td>phenotype: moderately differenciated adenoca a...</td>\n",
       "      <td>phenotype: poorly differenciated adenoca</td>\n",
       "      <td>phenotype: poorly to well adenoca</td>\n",
       "      <td>phenotype: Mucinous adenocarcinoma (poorly dif...</td>\n",
       "      <td>phenotype: well to moderate adenoca</td>\n",
       "      <td>phenotype: poorly differenciated adenoca and s...</td>\n",
       "      <td>phenotype: poorly differenciated adenoca and s...</td>\n",
       "      <td>phenotype: moderately to poorly adenoca</td>\n",
       "    </tr>\n",
       "    <tr>\n",
       "      <th>3</th>\n",
       "      <td>!Sample_characteristics_ch1</td>\n",
       "      <td>phenotype: poorly differentiated adenoca and s...</td>\n",
       "      <td>phenotype: moderately differentiated adenoca</td>\n",
       "      <td>phenotype: poorly differentiated adenoca</td>\n",
       "      <td>phenotype: moderately differentiated adenoca</td>\n",
       "      <td>phenotype: well differentiated adeno</td>\n",
       "      <td>phenotype: Mucinous adenocarcinoma (poorly dif...</td>\n",
       "      <td>phenotype: poorly differentiated adenoca</td>\n",
       "      <td>phenotype: moderately to poorly adenoca</td>\n",
       "      <td>phenotype: Endocrine carcinoma (poorly differe...</td>\n",
       "      <td>...</td>\n",
       "      <td>ethnicity: Asian</td>\n",
       "      <td>ethnicity: Asian</td>\n",
       "      <td>ethnicity: Asian</td>\n",
       "      <td>ethnicity: Asian</td>\n",
       "      <td>ethnicity: Asian</td>\n",
       "      <td>ethnicity: Asian</td>\n",
       "      <td>ethnicity: Asian</td>\n",
       "      <td>ethnicity: Asian</td>\n",
       "      <td>ethnicity: Asian</td>\n",
       "      <td>ethnicity: Asian</td>\n",
       "    </tr>\n",
       "    <tr>\n",
       "      <th>4</th>\n",
       "      <td>!Sample_characteristics_ch1</td>\n",
       "      <td>ethnicity: Asian</td>\n",
       "      <td>ethnicity: Asian</td>\n",
       "      <td>ethnicity: Asian</td>\n",
       "      <td>ethnicity: Asian</td>\n",
       "      <td>ethnicity: Asian</td>\n",
       "      <td>ethnicity: Asian</td>\n",
       "      <td>ethnicity: Asian</td>\n",
       "      <td>ethnicity: Asian</td>\n",
       "      <td>ethnicity: Asian</td>\n",
       "      <td>...</td>\n",
       "      <td>NaN</td>\n",
       "      <td>NaN</td>\n",
       "      <td>NaN</td>\n",
       "      <td>NaN</td>\n",
       "      <td>NaN</td>\n",
       "      <td>NaN</td>\n",
       "      <td>NaN</td>\n",
       "      <td>NaN</td>\n",
       "      <td>NaN</td>\n",
       "      <td>NaN</td>\n",
       "    </tr>\n",
       "  </tbody>\n",
       "</table>\n",
       "<p>5 rows × 51 columns</p>\n",
       "</div>"
      ],
      "text/plain": [
       "         !Sample_geo_accession  \\\n",
       "0  !Sample_characteristics_ch1   \n",
       "1  !Sample_characteristics_ch1   \n",
       "2  !Sample_characteristics_ch1   \n",
       "3  !Sample_characteristics_ch1   \n",
       "4  !Sample_characteristics_ch1   \n",
       "\n",
       "                                          GSM6499512  \\\n",
       "0                      disease state: Gastric cancer   \n",
       "1                                    tissue: stomach   \n",
       "2                             stomach location: Body   \n",
       "3  phenotype: poorly differentiated adenoca and s...   \n",
       "4                                   ethnicity: Asian   \n",
       "\n",
       "                                     GSM6499513  \\\n",
       "0                 disease state: Gastric cancer   \n",
       "1                               tissue: stomach   \n",
       "2                        stomach location: Body   \n",
       "3  phenotype: moderately differentiated adenoca   \n",
       "4                              ethnicity: Asian   \n",
       "\n",
       "                                 GSM6499514  \\\n",
       "0             disease state: Gastric cancer   \n",
       "1                           tissue: stomach   \n",
       "2                  stomach location: Antrum   \n",
       "3  phenotype: poorly differentiated adenoca   \n",
       "4                          ethnicity: Asian   \n",
       "\n",
       "                                     GSM6499515  \\\n",
       "0                 disease state: Gastric cancer   \n",
       "1                               tissue: stomach   \n",
       "2                      stomach location: Antrum   \n",
       "3  phenotype: moderately differentiated adenoca   \n",
       "4                              ethnicity: Asian   \n",
       "\n",
       "                             GSM6499516  \\\n",
       "0         disease state: Gastric cancer   \n",
       "1                       tissue: stomach   \n",
       "2                stomach location: Body   \n",
       "3  phenotype: well differentiated adeno   \n",
       "4                      ethnicity: Asian   \n",
       "\n",
       "                                          GSM6499517  \\\n",
       "0                      disease state: Gastric cancer   \n",
       "1                                    tissue: stomach   \n",
       "2                             stomach location: Body   \n",
       "3  phenotype: Mucinous adenocarcinoma (poorly dif...   \n",
       "4                                   ethnicity: Asian   \n",
       "\n",
       "                                 GSM6499518  \\\n",
       "0             disease state: Gastric cancer   \n",
       "1                           tissue: stomach   \n",
       "2                    stomach location: Body   \n",
       "3  phenotype: poorly differentiated adenoca   \n",
       "4                          ethnicity: Asian   \n",
       "\n",
       "                                GSM6499519  \\\n",
       "0            disease state: Gastric cancer   \n",
       "1                          tissue: stomach   \n",
       "2                   stomach location: Body   \n",
       "3  phenotype: moderately to poorly adenoca   \n",
       "4                         ethnicity: Asian   \n",
       "\n",
       "                                          GSM6499520  ...  \\\n",
       "0                      disease state: Gastric cancer  ...   \n",
       "1                                    tissue: stomach  ...   \n",
       "2                           stomach location: Anturm  ...   \n",
       "3  phenotype: Endocrine carcinoma (poorly differe...  ...   \n",
       "4                                   ethnicity: Asian  ...   \n",
       "\n",
       "                                          GSM6552206  \\\n",
       "0                      disease state: Gastric cancer   \n",
       "1                             stomach location: Body   \n",
       "2  phenotype: Poorly to moderately differenciated...   \n",
       "3                                   ethnicity: Asian   \n",
       "4                                                NaN   \n",
       "\n",
       "                                          GSM6552207  \\\n",
       "0                      disease state: Gastric cancer   \n",
       "1                             stomach location: Body   \n",
       "2  phenotype: Poorly to moderately differenciated...   \n",
       "3                                   ethnicity: Asian   \n",
       "4                                                NaN   \n",
       "\n",
       "                                          GSM6552208  \\\n",
       "0                      disease state: Gastric cancer   \n",
       "1                             stomach location: Body   \n",
       "2  phenotype: moderately differenciated adenoca a...   \n",
       "3                                   ethnicity: Asian   \n",
       "4                                                NaN   \n",
       "\n",
       "                                 GSM6552209  \\\n",
       "0             disease state: Gastric cancer   \n",
       "1                    stomach location: Body   \n",
       "2  phenotype: poorly differenciated adenoca   \n",
       "3                          ethnicity: Asian   \n",
       "4                                       NaN   \n",
       "\n",
       "                          GSM6552210  \\\n",
       "0      disease state: Gastric cancer   \n",
       "1             stomach location: Body   \n",
       "2  phenotype: poorly to well adenoca   \n",
       "3                   ethnicity: Asian   \n",
       "4                                NaN   \n",
       "\n",
       "                                          GSM6552211  \\\n",
       "0                      disease state: Gastric cancer   \n",
       "1                             stomach location: Body   \n",
       "2  phenotype: Mucinous adenocarcinoma (poorly dif...   \n",
       "3                                   ethnicity: Asian   \n",
       "4                                                NaN   \n",
       "\n",
       "                            GSM6552212  \\\n",
       "0        disease state: Gastric cancer   \n",
       "1               stomach location: Body   \n",
       "2  phenotype: well to moderate adenoca   \n",
       "3                     ethnicity: Asian   \n",
       "4                                  NaN   \n",
       "\n",
       "                                          GSM6552213  \\\n",
       "0                      disease state: Gastric cancer   \n",
       "1                             stomach location: Body   \n",
       "2  phenotype: poorly differenciated adenoca and s...   \n",
       "3                                   ethnicity: Asian   \n",
       "4                                                NaN   \n",
       "\n",
       "                                          GSM6552214  \\\n",
       "0                      disease state: Gastric cancer   \n",
       "1                             stomach location: Body   \n",
       "2  phenotype: poorly differenciated adenoca and s...   \n",
       "3                                   ethnicity: Asian   \n",
       "4                                                NaN   \n",
       "\n",
       "                                GSM6552215  \n",
       "0            disease state: Gastric cancer  \n",
       "1                   stomach location: Body  \n",
       "2  phenotype: moderately to poorly adenoca  \n",
       "3                         ethnicity: Asian  \n",
       "4                                      NaN  \n",
       "\n",
       "[5 rows x 51 columns]"
      ]
     },
     "execution_count": 65,
     "metadata": {},
     "output_type": "execute_result"
    }
   ],
   "source": [
    "clinical_data.head()"
   ]
  },
  {
   "cell_type": "code",
   "execution_count": 66,
   "metadata": {
    "ExecuteTime": {
     "end_time": "2024-02-27T00:23:30.315072345Z",
     "start_time": "2024-02-27T00:23:30.305535332Z"
    },
    "collapsed": false
   },
   "outputs": [
    {
     "data": {
      "text/plain": [
       "{0: ['disease state: Gastric cancer'],\n",
       " 1: ['tissue: stomach',\n",
       "  'stomach location: Body',\n",
       "  'stomach location: n.s.',\n",
       "  'stomach location: Antrum'],\n",
       " 2: ['stomach location: Body',\n",
       "  'stomach location: Antrum',\n",
       "  'stomach location: Anturm',\n",
       "  'phenotype: Mucinous adenocarcinoma (poorly differenciated adenoca)',\n",
       "  'phenotype: Poorly differentiated adenocarcinoma / Mucinous adenocarcinom',\n",
       "  'phenotype: Poorly differentiated adenocarcinoma, solid type / moderately differentiated',\n",
       "  'phenotype: Papillary adenocarcinoma / moderately differentiated',\n",
       "  'phenotype: Moderately differentiated adenocarcinoma',\n",
       "  'phenotype: Moderately differentiated adenocarcinoma / Poorly differentiated adenocarcinoma',\n",
       "  'phenotype: Tubular adenocarcinoma',\n",
       "  'phenotype: poorly differenciated adenoca',\n",
       "  'phenotype: moderately to poorly adenoca',\n",
       "  'phenotype: papillary and moderately adenoca',\n",
       "  'phenotype: papillary and well differenciated adenoca',\n",
       "  'phenotype: Poorly to moderately differenciated adenoca',\n",
       "  'phenotype: moderately differenciated adenoca and papillary',\n",
       "  'phenotype: poorly to well adenoca',\n",
       "  'phenotype: well to moderate adenoca',\n",
       "  'phenotype: poorly differenciated adenoca and sinnet cell carcinoma'],\n",
       " 3: ['phenotype: poorly differentiated adenoca and signet cell carcinoma',\n",
       "  'phenotype: moderately differentiated adenoca',\n",
       "  'phenotype: poorly differentiated adenoca',\n",
       "  'phenotype: well differentiated adeno',\n",
       "  'phenotype: Mucinous adenocarcinoma (poorly differentiated adenoca)',\n",
       "  'phenotype: moderately to poorly adenoca',\n",
       "  'phenotype: Endocrine carcinoma (poorly differentiated adenoca)',\n",
       "  'phenotype: well and poorly differentiated adenoca',\n",
       "  'phenotype: Mucinous adenocarcinoma (poorly differentiated adenoca and signet)',\n",
       "  'phenotype: well differentiated adeno and papillary',\n",
       "  'phenotype: Poorly to moderately differentiated adenoca',\n",
       "  'ethnicity: Asian'],\n",
       " 4: ['ethnicity: Asian', nan]}"
      ]
     },
     "execution_count": 66,
     "metadata": {},
     "output_type": "execute_result"
    }
   ],
   "source": [
    "clinical_data_unique = get_unique_values_by_row(clinical_data)\n",
    "clinical_data_unique"
   ]
  },
  {
   "cell_type": "markdown",
   "metadata": {
    "ExecuteTime": {
     "end_time": "2023-12-31T03:58:04.978204446Z",
     "start_time": "2023-12-31T03:58:04.922270095Z"
    },
    "collapsed": false
   },
   "source": [
    "Analyze the metadata to determine data relevance and find ways to extract the clinical data.\n",
    "Reference prompt:"
   ]
  },
  {
   "cell_type": "code",
   "execution_count": 67,
   "metadata": {
    "ExecuteTime": {
     "end_time": "2024-02-27T00:23:30.385584131Z",
     "start_time": "2024-02-27T00:23:30.309414449Z"
    },
    "collapsed": false
   },
   "outputs": [
    {
     "data": {
      "text/plain": [
       "'As a biomedical research team, we are selecting datasets to study the association between the human trait \\'Stomach-Cancer\\' and genetic factors, optionally considering the influence of age and gender. After searching the GEO database and parsing the matrix file of a series, we obtained background information and sample characteristics data. We will provide textual information about the dataset background, and a Python dictionary storing a list of unique values for each field of the sample characteristics data. Please carefully review the provided information and answer the following questions about this dataset:\\n1. Does this dataset contain gene expression data? (Note: Pure miRNA data is not suitable.)\\n2. For each of the traits \\'Stomach-Cancer\\', \\'age\\', and \\'gender\\', please address these points:\\n   (1) Is there human data available for this trait?\\n   (2) If so, identify the key in the sample characteristics dictionary where unique values of this trait is recorded. The key is an integer. The trait information might be explicitly recorded, or can be inferred from the field with some biomedical knowledge or understanding about the data collection process.\\n   (3) Choose an appropriate data type (either \\'continuous\\' or \\'binary\\') for each trait. Write a Python function to convert any given value of the trait to this data type. The function should handle inference about the trait value and convert unknown values to None.\\n   Name the functions \\'convert_trait\\', \\'convert_age\\', and \\'convert_gender\\', respectively.\\n\\nBackground information about the dataset:\\n!Series_title\\t\"Integrated analysis of cancer-related pathways affected by genetic and epigenetic alterations in gastric cancer\"\\n!Series_summary\\t\"DNA methylation was analyzed in human gastric cancers, and methylation status of cancer-related genes was analyzed.\"\\n!Series_overall_design\\t\"DNA methylation was analyzed in human gastric cancers, and methylation status of cancer-related genes was analyzed.\"\\n!Series_overall_design\\t\"Genome-wide DNA methylation analysis was conducted by an Infinium HumanMethylation450 BeadChip array.\"\\n\\nSample characteristics dictionary (from \"!Sample_characteristics_ch1\", converted to a Python dictionary that stores the unique values for each field):\\n{0: [\\'disease state: Gastric cancer\\'], 1: [\\'tissue: stomach\\', \\'stomach location: Body\\', \\'stomach location: n.s.\\', \\'stomach location: Antrum\\'], 2: [\\'stomach location: Body\\', \\'stomach location: Antrum\\', \\'stomach location: Anturm\\', \\'phenotype: Mucinous adenocarcinoma (poorly differenciated adenoca)\\', \\'phenotype: Poorly differentiated adenocarcinoma / Mucinous adenocarcinom\\', \\'phenotype: Poorly differentiated adenocarcinoma, solid type / moderately differentiated\\', \\'phenotype: Papillary adenocarcinoma / moderately differentiated\\', \\'phenotype: Moderately differentiated adenocarcinoma\\', \\'phenotype: Moderately differentiated adenocarcinoma / Poorly differentiated adenocarcinoma\\', \\'phenotype: Tubular adenocarcinoma\\', \\'phenotype: poorly differenciated adenoca\\', \\'phenotype: moderately to poorly adenoca\\', \\'phenotype: papillary and moderately adenoca\\', \\'phenotype: papillary and well differenciated adenoca\\', \\'phenotype: Poorly to moderately differenciated adenoca\\', \\'phenotype: moderately differenciated adenoca and papillary\\', \\'phenotype: poorly to well adenoca\\', \\'phenotype: well to moderate adenoca\\', \\'phenotype: poorly differenciated adenoca and sinnet cell carcinoma\\'], 3: [\\'phenotype: poorly differentiated adenoca and signet cell carcinoma\\', \\'phenotype: moderately differentiated adenoca\\', \\'phenotype: poorly differentiated adenoca\\', \\'phenotype: well differentiated adeno\\', \\'phenotype: Mucinous adenocarcinoma (poorly differentiated adenoca)\\', \\'phenotype: moderately to poorly adenoca\\', \\'phenotype: Endocrine carcinoma (poorly differentiated adenoca)\\', \\'phenotype: well and poorly differentiated adenoca\\', \\'phenotype: Mucinous adenocarcinoma (poorly differentiated adenoca and signet)\\', \\'phenotype: well differentiated adeno and papillary\\', \\'phenotype: Poorly to moderately differentiated adenoca\\', \\'ethnicity: Asian\\'], 4: [\\'ethnicity: Asian\\', nan]}\\n'"
      ]
     },
     "execution_count": 67,
     "metadata": {},
     "output_type": "execute_result"
    }
   ],
   "source": [
    "f'''As a biomedical research team, we are selecting datasets to study the association between the human trait \\'{TRAIT}\\' and genetic factors, optionally considering the influence of age and gender. After searching the GEO database and parsing the matrix file of a series, we obtained background information and sample characteristics data. We will provide textual information about the dataset background, and a Python dictionary storing a list of unique values for each field of the sample characteristics data. Please carefully review the provided information and answer the following questions about this dataset:\n",
    "1. Does this dataset contain gene expression data? (Note: Pure miRNA data is not suitable.)\n",
    "2. For each of the traits \\'{TRAIT}\\', 'age', and 'gender', please address these points:\n",
    "   (1) Is there human data available for this trait?\n",
    "   (2) If so, identify the key in the sample characteristics dictionary where unique values of this trait is recorded. The key is an integer. The trait information might be explicitly recorded, or can be inferred from the field with some biomedical knowledge or understanding about the data collection process.\n",
    "   (3) Choose an appropriate data type (either 'continuous' or 'binary') for each trait. Write a Python function to convert any given value of the trait to this data type. The function should handle inference about the trait value and convert unknown values to None.\n",
    "   Name the functions 'convert_trait', 'convert_age', and 'convert_gender', respectively.\n",
    "\n",
    "Background information about the dataset:\n",
    "{background_info}\n",
    "\n",
    "Sample characteristics dictionary (from \"!Sample_characteristics_ch1\", converted to a Python dictionary that stores the unique values for each field):\n",
    "{clinical_data_unique}\n",
    "'''"
   ]
  },
  {
   "cell_type": "markdown",
   "metadata": {
    "ExecuteTime": {
     "end_time": "2023-12-31T03:58:04.978240504Z",
     "start_time": "2023-12-31T03:58:04.922365324Z"
    },
    "collapsed": false
   },
   "source": [
    "Understand and verify the answer from GPT, to assign values to the below variables. Assign None to the 'row_id' variables if relevant data row was not found.\n",
    "Later we need to let GPT format its answer to automatically do these. But given the complexity of this step, let's grow some insight from the free-text answers for now."
   ]
  },
  {
   "cell_type": "code",
   "execution_count": 68,
   "metadata": {
    "ExecuteTime": {
     "end_time": "2024-02-27T00:23:30.385782943Z",
     "start_time": "2024-02-27T00:23:30.350942586Z"
    },
    "collapsed": false
   },
   "outputs": [],
   "source": [
    "age_row = gender_row = None\n",
    "convert_age = convert_gender = None"
   ]
  },
  {
   "cell_type": "code",
   "execution_count": 72,
   "metadata": {
    "ExecuteTime": {
     "end_time": "2024-02-27T00:23:30.385870186Z",
     "start_time": "2024-02-27T00:23:30.351051500Z"
    },
    "collapsed": false
   },
   "outputs": [],
   "source": [
    "is_gene_availabe = True\n",
    "trait_row = 0\n",
    "age_row = None\n",
    "gender_row = None\n",
    "\n",
    "trait_type = 'binary'"
   ]
  },
  {
   "cell_type": "code",
   "execution_count": 27,
   "metadata": {
    "ExecuteTime": {
     "end_time": "2024-02-27T00:23:30.385957890Z",
     "start_time": "2024-02-27T00:23:30.351268817Z"
    },
    "collapsed": false
   },
   "outputs": [],
   "source": [
    "is_available = is_gene_availabe and (trait_row is not None)\n",
    "if not is_available:\n",
    "    save_cohort_info(cohort, JSON_PATH, is_available)\n",
    "    print(\"This cohort is not usable. Please skip the following steps and jump to the next accession number.\")"
   ]
  },
  {
   "cell_type": "code",
   "execution_count": 69,
   "metadata": {
    "ExecuteTime": {
     "end_time": "2024-02-27T00:23:30.386037459Z",
     "start_time": "2024-02-27T00:23:30.351367211Z"
    },
    "collapsed": false
   },
   "outputs": [],
   "source": [
    "# Verify and use the functions generated by GPT\n",
    "\n",
    "def convert_trait(trait_string):\n",
    "    if trait_string == \"disease state: Gastric cancer\":\n",
    "        return 1\n",
    "    else:\n",
    "        return None\n",
    "    "
   ]
  },
  {
   "cell_type": "code",
   "execution_count": 73,
   "metadata": {
    "ExecuteTime": {
     "end_time": "2024-02-27T00:23:30.386191717Z",
     "start_time": "2024-02-27T00:23:30.351458802Z"
    },
    "collapsed": false
   },
   "outputs": [
    {
     "data": {
      "text/html": [
       "<div>\n",
       "<style scoped>\n",
       "    .dataframe tbody tr th:only-of-type {\n",
       "        vertical-align: middle;\n",
       "    }\n",
       "\n",
       "    .dataframe tbody tr th {\n",
       "        vertical-align: top;\n",
       "    }\n",
       "\n",
       "    .dataframe thead th {\n",
       "        text-align: right;\n",
       "    }\n",
       "</style>\n",
       "<table border=\"1\" class=\"dataframe\">\n",
       "  <thead>\n",
       "    <tr style=\"text-align: right;\">\n",
       "      <th></th>\n",
       "      <th>GSM6499512</th>\n",
       "      <th>GSM6499513</th>\n",
       "      <th>GSM6499514</th>\n",
       "      <th>GSM6499515</th>\n",
       "      <th>GSM6499516</th>\n",
       "      <th>GSM6499517</th>\n",
       "      <th>GSM6499518</th>\n",
       "      <th>GSM6499519</th>\n",
       "      <th>GSM6499520</th>\n",
       "      <th>GSM6499521</th>\n",
       "      <th>...</th>\n",
       "      <th>GSM6552206</th>\n",
       "      <th>GSM6552207</th>\n",
       "      <th>GSM6552208</th>\n",
       "      <th>GSM6552209</th>\n",
       "      <th>GSM6552210</th>\n",
       "      <th>GSM6552211</th>\n",
       "      <th>GSM6552212</th>\n",
       "      <th>GSM6552213</th>\n",
       "      <th>GSM6552214</th>\n",
       "      <th>GSM6552215</th>\n",
       "    </tr>\n",
       "  </thead>\n",
       "  <tbody>\n",
       "    <tr>\n",
       "      <th>Stomach-Cancer</th>\n",
       "      <td>1</td>\n",
       "      <td>1</td>\n",
       "      <td>1</td>\n",
       "      <td>1</td>\n",
       "      <td>1</td>\n",
       "      <td>1</td>\n",
       "      <td>1</td>\n",
       "      <td>1</td>\n",
       "      <td>1</td>\n",
       "      <td>1</td>\n",
       "      <td>...</td>\n",
       "      <td>1</td>\n",
       "      <td>1</td>\n",
       "      <td>1</td>\n",
       "      <td>1</td>\n",
       "      <td>1</td>\n",
       "      <td>1</td>\n",
       "      <td>1</td>\n",
       "      <td>1</td>\n",
       "      <td>1</td>\n",
       "      <td>1</td>\n",
       "    </tr>\n",
       "  </tbody>\n",
       "</table>\n",
       "<p>1 rows × 50 columns</p>\n",
       "</div>"
      ],
      "text/plain": [
       "                GSM6499512  GSM6499513  GSM6499514  GSM6499515  GSM6499516  \\\n",
       "Stomach-Cancer           1           1           1           1           1   \n",
       "\n",
       "                GSM6499517  GSM6499518  GSM6499519  GSM6499520  GSM6499521  \\\n",
       "Stomach-Cancer           1           1           1           1           1   \n",
       "\n",
       "                ...  GSM6552206  GSM6552207  GSM6552208  GSM6552209  \\\n",
       "Stomach-Cancer  ...           1           1           1           1   \n",
       "\n",
       "                GSM6552210  GSM6552211  GSM6552212  GSM6552213  GSM6552214  \\\n",
       "Stomach-Cancer           1           1           1           1           1   \n",
       "\n",
       "                GSM6552215  \n",
       "Stomach-Cancer           1  \n",
       "\n",
       "[1 rows x 50 columns]"
      ]
     },
     "execution_count": 73,
     "metadata": {},
     "output_type": "execute_result"
    }
   ],
   "source": [
    "selected_clinical_data = geo_select_clinical_features(clinical_data, TRAIT, trait_row, convert_trait, age_row=age_row,\n",
    "                                                      convert_age=None, gender_row=gender_row,\n",
    "                                                      convert_gender=None)\n",
    "selected_clinical_data.head()"
   ]
  },
  {
   "cell_type": "markdown",
   "metadata": {
    "ExecuteTime": {
     "end_time": "2023-12-31T03:58:04.978664193Z",
     "start_time": "2023-12-31T03:58:04.966117261Z"
    },
    "collapsed": false
   },
   "source": [
    "### Genetic data preprocessing and final filtering"
   ]
  },
  {
   "cell_type": "code",
   "execution_count": 74,
   "metadata": {
    "ExecuteTime": {
     "end_time": "2024-02-27T00:23:30.394809420Z",
     "start_time": "2024-02-27T00:23:30.351566744Z"
    },
    "collapsed": false
   },
   "outputs": [
    {
     "data": {
      "text/html": [
       "<div>\n",
       "<style scoped>\n",
       "    .dataframe tbody tr th:only-of-type {\n",
       "        vertical-align: middle;\n",
       "    }\n",
       "\n",
       "    .dataframe tbody tr th {\n",
       "        vertical-align: top;\n",
       "    }\n",
       "\n",
       "    .dataframe thead th {\n",
       "        text-align: right;\n",
       "    }\n",
       "</style>\n",
       "<table border=\"1\" class=\"dataframe\">\n",
       "  <thead>\n",
       "    <tr style=\"text-align: right;\">\n",
       "      <th></th>\n",
       "      <th>GSM6499512</th>\n",
       "      <th>GSM6499513</th>\n",
       "      <th>GSM6499514</th>\n",
       "      <th>GSM6499515</th>\n",
       "      <th>GSM6499516</th>\n",
       "      <th>GSM6499517</th>\n",
       "      <th>GSM6499518</th>\n",
       "      <th>GSM6499519</th>\n",
       "      <th>GSM6499520</th>\n",
       "      <th>GSM6499521</th>\n",
       "      <th>...</th>\n",
       "      <th>GSM6552206</th>\n",
       "      <th>GSM6552207</th>\n",
       "      <th>GSM6552208</th>\n",
       "      <th>GSM6552209</th>\n",
       "      <th>GSM6552210</th>\n",
       "      <th>GSM6552211</th>\n",
       "      <th>GSM6552212</th>\n",
       "      <th>GSM6552213</th>\n",
       "      <th>GSM6552214</th>\n",
       "      <th>GSM6552215</th>\n",
       "    </tr>\n",
       "    <tr>\n",
       "      <th>ID</th>\n",
       "      <th></th>\n",
       "      <th></th>\n",
       "      <th></th>\n",
       "      <th></th>\n",
       "      <th></th>\n",
       "      <th></th>\n",
       "      <th></th>\n",
       "      <th></th>\n",
       "      <th></th>\n",
       "      <th></th>\n",
       "      <th></th>\n",
       "      <th></th>\n",
       "      <th></th>\n",
       "      <th></th>\n",
       "      <th></th>\n",
       "      <th></th>\n",
       "      <th></th>\n",
       "      <th></th>\n",
       "      <th></th>\n",
       "      <th></th>\n",
       "      <th></th>\n",
       "    </tr>\n",
       "  </thead>\n",
       "  <tbody>\n",
       "    <tr>\n",
       "      <th>cg00000029</th>\n",
       "      <td>0.332572</td>\n",
       "      <td>0.511428</td>\n",
       "      <td>0.418744</td>\n",
       "      <td>0.293688</td>\n",
       "      <td>0.246596</td>\n",
       "      <td>0.303733</td>\n",
       "      <td>0.337906</td>\n",
       "      <td>0.263289</td>\n",
       "      <td>0.234159</td>\n",
       "      <td>0.754704</td>\n",
       "      <td>...</td>\n",
       "      <td>0.391020</td>\n",
       "      <td>0.273057</td>\n",
       "      <td>0.250134</td>\n",
       "      <td>0.186785</td>\n",
       "      <td>0.534048</td>\n",
       "      <td>0.291826</td>\n",
       "      <td>0.393869</td>\n",
       "      <td>0.171678</td>\n",
       "      <td>0.401537</td>\n",
       "      <td>0.309824</td>\n",
       "    </tr>\n",
       "    <tr>\n",
       "      <th>cg00000108</th>\n",
       "      <td>0.903620</td>\n",
       "      <td>0.942419</td>\n",
       "      <td>0.907896</td>\n",
       "      <td>0.940411</td>\n",
       "      <td>0.945472</td>\n",
       "      <td>0.922329</td>\n",
       "      <td>0.939412</td>\n",
       "      <td>0.801059</td>\n",
       "      <td>0.926147</td>\n",
       "      <td>0.913734</td>\n",
       "      <td>...</td>\n",
       "      <td>0.929448</td>\n",
       "      <td>0.899164</td>\n",
       "      <td>0.850762</td>\n",
       "      <td>0.970414</td>\n",
       "      <td>0.872145</td>\n",
       "      <td>0.907492</td>\n",
       "      <td>0.949298</td>\n",
       "      <td>0.933325</td>\n",
       "      <td>0.918855</td>\n",
       "      <td>0.930271</td>\n",
       "    </tr>\n",
       "    <tr>\n",
       "      <th>cg00000109</th>\n",
       "      <td>0.842498</td>\n",
       "      <td>0.782451</td>\n",
       "      <td>0.863456</td>\n",
       "      <td>0.829853</td>\n",
       "      <td>0.803795</td>\n",
       "      <td>0.841160</td>\n",
       "      <td>0.872059</td>\n",
       "      <td>0.823878</td>\n",
       "      <td>0.897155</td>\n",
       "      <td>0.856245</td>\n",
       "      <td>...</td>\n",
       "      <td>0.845600</td>\n",
       "      <td>0.836350</td>\n",
       "      <td>0.867638</td>\n",
       "      <td>0.874303</td>\n",
       "      <td>0.908187</td>\n",
       "      <td>0.860378</td>\n",
       "      <td>0.883108</td>\n",
       "      <td>0.720102</td>\n",
       "      <td>0.802628</td>\n",
       "      <td>0.805208</td>\n",
       "    </tr>\n",
       "    <tr>\n",
       "      <th>cg00000165</th>\n",
       "      <td>0.493801</td>\n",
       "      <td>0.208688</td>\n",
       "      <td>0.297658</td>\n",
       "      <td>0.380990</td>\n",
       "      <td>0.662907</td>\n",
       "      <td>0.413185</td>\n",
       "      <td>0.477908</td>\n",
       "      <td>0.624963</td>\n",
       "      <td>0.604757</td>\n",
       "      <td>0.514530</td>\n",
       "      <td>...</td>\n",
       "      <td>0.629443</td>\n",
       "      <td>0.189181</td>\n",
       "      <td>0.361495</td>\n",
       "      <td>0.635423</td>\n",
       "      <td>0.792375</td>\n",
       "      <td>0.329569</td>\n",
       "      <td>0.537443</td>\n",
       "      <td>0.550747</td>\n",
       "      <td>0.396046</td>\n",
       "      <td>0.456668</td>\n",
       "    </tr>\n",
       "    <tr>\n",
       "      <th>cg00000236</th>\n",
       "      <td>0.834600</td>\n",
       "      <td>0.894552</td>\n",
       "      <td>0.805181</td>\n",
       "      <td>0.862047</td>\n",
       "      <td>0.830529</td>\n",
       "      <td>0.807524</td>\n",
       "      <td>0.852917</td>\n",
       "      <td>0.833126</td>\n",
       "      <td>0.869469</td>\n",
       "      <td>0.880170</td>\n",
       "      <td>...</td>\n",
       "      <td>0.878394</td>\n",
       "      <td>0.783567</td>\n",
       "      <td>0.854523</td>\n",
       "      <td>0.914413</td>\n",
       "      <td>0.845754</td>\n",
       "      <td>0.859671</td>\n",
       "      <td>0.858270</td>\n",
       "      <td>0.883156</td>\n",
       "      <td>0.804368</td>\n",
       "      <td>0.800849</td>\n",
       "    </tr>\n",
       "  </tbody>\n",
       "</table>\n",
       "<p>5 rows × 50 columns</p>\n",
       "</div>"
      ],
      "text/plain": [
       "            GSM6499512  GSM6499513  GSM6499514  GSM6499515  GSM6499516  \\\n",
       "ID                                                                       \n",
       "cg00000029    0.332572    0.511428    0.418744    0.293688    0.246596   \n",
       "cg00000108    0.903620    0.942419    0.907896    0.940411    0.945472   \n",
       "cg00000109    0.842498    0.782451    0.863456    0.829853    0.803795   \n",
       "cg00000165    0.493801    0.208688    0.297658    0.380990    0.662907   \n",
       "cg00000236    0.834600    0.894552    0.805181    0.862047    0.830529   \n",
       "\n",
       "            GSM6499517  GSM6499518  GSM6499519  GSM6499520  GSM6499521  ...  \\\n",
       "ID                                                                      ...   \n",
       "cg00000029    0.303733    0.337906    0.263289    0.234159    0.754704  ...   \n",
       "cg00000108    0.922329    0.939412    0.801059    0.926147    0.913734  ...   \n",
       "cg00000109    0.841160    0.872059    0.823878    0.897155    0.856245  ...   \n",
       "cg00000165    0.413185    0.477908    0.624963    0.604757    0.514530  ...   \n",
       "cg00000236    0.807524    0.852917    0.833126    0.869469    0.880170  ...   \n",
       "\n",
       "            GSM6552206  GSM6552207  GSM6552208  GSM6552209  GSM6552210  \\\n",
       "ID                                                                       \n",
       "cg00000029    0.391020    0.273057    0.250134    0.186785    0.534048   \n",
       "cg00000108    0.929448    0.899164    0.850762    0.970414    0.872145   \n",
       "cg00000109    0.845600    0.836350    0.867638    0.874303    0.908187   \n",
       "cg00000165    0.629443    0.189181    0.361495    0.635423    0.792375   \n",
       "cg00000236    0.878394    0.783567    0.854523    0.914413    0.845754   \n",
       "\n",
       "            GSM6552211  GSM6552212  GSM6552213  GSM6552214  GSM6552215  \n",
       "ID                                                                      \n",
       "cg00000029    0.291826    0.393869    0.171678    0.401537    0.309824  \n",
       "cg00000108    0.907492    0.949298    0.933325    0.918855    0.930271  \n",
       "cg00000109    0.860378    0.883108    0.720102    0.802628    0.805208  \n",
       "cg00000165    0.329569    0.537443    0.550747    0.396046    0.456668  \n",
       "cg00000236    0.859671    0.858270    0.883156    0.804368    0.800849  \n",
       "\n",
       "[5 rows x 50 columns]"
      ]
     },
     "execution_count": 74,
     "metadata": {},
     "output_type": "execute_result"
    }
   ],
   "source": [
    "genetic_data = get_genetic_data(matrix_file)\n",
    "genetic_data.head()"
   ]
  },
  {
   "cell_type": "code",
   "execution_count": 75,
   "metadata": {
    "ExecuteTime": {
     "end_time": "2024-02-27T00:23:30.481283320Z",
     "start_time": "2024-02-27T00:23:30.363656224Z"
    },
    "collapsed": false
   },
   "outputs": [
    {
     "data": {
      "text/plain": [
       "['cg00000029',\n",
       " 'cg00000108',\n",
       " 'cg00000109',\n",
       " 'cg00000165',\n",
       " 'cg00000236',\n",
       " 'cg00000289',\n",
       " 'cg00000292',\n",
       " 'cg00000321',\n",
       " 'cg00000363',\n",
       " 'cg00000622',\n",
       " 'cg00000658',\n",
       " 'cg00000714',\n",
       " 'cg00000721',\n",
       " 'cg00000734',\n",
       " 'cg00000769',\n",
       " 'cg00000807',\n",
       " 'cg00000884',\n",
       " 'cg00000905',\n",
       " 'cg00000924',\n",
       " 'cg00000948']"
      ]
     },
     "execution_count": 75,
     "metadata": {},
     "output_type": "execute_result"
    }
   ],
   "source": [
    "gene_row_ids = genetic_data.index[:20].tolist()\n",
    "gene_row_ids"
   ]
  },
  {
   "cell_type": "markdown",
   "metadata": {
    "ExecuteTime": {
     "end_time": "2023-12-31T03:30:41.595335164Z",
     "start_time": "2023-12-31T03:30:41.513232329Z"
    },
    "collapsed": false
   },
   "source": [
    "Check if the gene dataset requires mapping to get the gene symbols corresponding to each data row."
   ]
  },
  {
   "cell_type": "markdown",
   "metadata": {
    "collapsed": false
   },
   "source": [
    "Reference prompt:"
   ]
  },
  {
   "cell_type": "code",
   "execution_count": 77,
   "metadata": {
    "ExecuteTime": {
     "end_time": "2024-02-27T00:23:30.481654274Z",
     "start_time": "2024-02-27T00:23:30.413379675Z"
    },
    "collapsed": false
   },
   "outputs": [
    {
     "data": {
      "text/plain": [
       "\"\\nBelow are the row headers of a gene expression dataset in GEO. Based on your biomedical knowledge, are they human gene symbols, or are they some other identifiers that need to be mapped to gene symbols? Your answer should be concluded by starting a new line and strictly following this format:\\nrequires_gene_mapping = (True or False)\\n\\nRow headers:\\n['cg00000029', 'cg00000108', 'cg00000109', 'cg00000165', 'cg00000236', 'cg00000289', 'cg00000292', 'cg00000321', 'cg00000363', 'cg00000622', 'cg00000658', 'cg00000714', 'cg00000721', 'cg00000734', 'cg00000769', 'cg00000807', 'cg00000884', 'cg00000905', 'cg00000924', 'cg00000948']\\n\""
      ]
     },
     "execution_count": 77,
     "metadata": {},
     "output_type": "execute_result"
    }
   ],
   "source": [
    "f'''\n",
    "Below are the row headers of a gene expression dataset in GEO. Based on your biomedical knowledge, are they human gene symbols, or are they some other identifiers that need to be mapped to gene symbols? Your answer should be concluded by starting a new line and strictly following this format:\n",
    "requires_gene_mapping = (True or False)\n",
    "\n",
    "Row headers:\n",
    "{gene_row_ids}\n",
    "'''"
   ]
  },
  {
   "cell_type": "markdown",
   "metadata": {
    "collapsed": false
   },
   "source": [
    "\n",
    "If not required, jump directly to the gene normalization step"
   ]
  },
  {
   "cell_type": "code",
   "execution_count": 78,
   "metadata": {
    "ExecuteTime": {
     "end_time": "2024-02-27T00:23:30.481758349Z",
     "start_time": "2024-02-27T00:23:30.413504759Z"
    },
    "collapsed": false
   },
   "outputs": [],
   "source": [
    "requires_gene_mapping = False"
   ]
  },
  {
   "cell_type": "code",
   "execution_count": 79,
   "metadata": {
    "ExecuteTime": {
     "end_time": "2024-02-27T00:23:30.481841494Z",
     "start_time": "2024-02-27T00:23:30.413594938Z"
    },
    "collapsed": false
   },
   "outputs": [],
   "source": [
    "if requires_gene_mapping:\n",
    "    gene_annotation = get_gene_annotation(soft_file)\n",
    "    gene_annotation_summary = preview_df(gene_annotation)\n",
    "    print(gene_annotation_summary)"
   ]
  },
  {
   "cell_type": "markdown",
   "metadata": {
    "ExecuteTime": {
     "end_time": "2023-12-31T03:58:04.978931927Z",
     "start_time": "2023-12-31T03:58:04.966328339Z"
    },
    "collapsed": false
   },
   "source": [
    "Observe the first few cells in the ID column of the gene annotation dataframe, to find the names of columns that store the gene probe IDs and gene symbols respectively.\n",
    "Reference prompt:"
   ]
  },
  {
   "cell_type": "code",
   "execution_count": 80,
   "metadata": {
    "ExecuteTime": {
     "end_time": "2024-02-27T00:23:30.481923598Z",
     "start_time": "2024-02-27T00:23:30.413680388Z"
    },
    "collapsed": false
   },
   "outputs": [],
   "source": [
    "if requires_gene_mapping:\n",
    "    print(f'''\n",
    "    As a biomedical research team, we are analyzing a gene expression dataset, and find that its row headers are some identifiers related to genes:\n",
    "    {gene_row_ids}\n",
    "    To get the mapping from those identifiers to actual gene symbols, we extracted the gene annotation data from a series in the GEO database, and saved it to a Python dictionary. Please read the dictionary, and decide which key stores the identifiers, and which key stores the gene symbols. Please strictly follow this format in your answer:\n",
    "    identifier_key = 'key_name1'\n",
    "    gene_symbol_key = 'key_name2'\n",
    "\n",
    "    Gene annotation dictionary:\n",
    "    {gene_annotation_summary}\n",
    "    ''')"
   ]
  },
  {
   "cell_type": "code",
   "execution_count": 81,
   "metadata": {
    "ExecuteTime": {
     "end_time": "2024-02-27T00:23:30.482007034Z",
     "start_time": "2024-02-27T00:23:30.413823155Z"
    },
    "collapsed": false
   },
   "outputs": [],
   "source": [
    "if requires_gene_mapping:\n",
    "    identifier_key = 'ID'\n",
    "    gene_symbol_key = 'UCSC_RefGene_Name'\n",
    "    gene_mapping = get_gene_mapping(gene_annotation, identifier_key, gene_symbol_key)\n",
    "    genetic_data = apply_gene_mapping(genetic_data, gene_mapping)"
   ]
  },
  {
   "cell_type": "code",
   "execution_count": 82,
   "metadata": {
    "ExecuteTime": {
     "end_time": "2024-02-27T00:23:32.440490271Z",
     "start_time": "2024-02-27T00:23:30.413912422Z"
    },
    "collapsed": false
   },
   "outputs": [],
   "source": [
    "if NORMALIZE_GENE:\n",
    "    genetic_data = normalize_gene_symbols_in_index(genetic_data)"
   ]
  },
  {
   "cell_type": "code",
   "execution_count": 83,
   "metadata": {
    "ExecuteTime": {
     "end_time": "2024-02-27T00:23:32.491265391Z",
     "start_time": "2024-02-27T00:23:32.447650138Z"
    },
    "collapsed": false
   },
   "outputs": [],
   "source": [
    "merged_data = geo_merge_clinical_genetic_data(selected_clinical_data, genetic_data)\n",
    "# The preprocessing runs through, which means is_available should be True\n",
    "is_available = True"
   ]
  },
  {
   "cell_type": "code",
   "execution_count": 84,
   "metadata": {
    "ExecuteTime": {
     "end_time": "2024-02-27T00:23:32.491666522Z",
     "start_time": "2024-02-27T00:23:32.491106344Z"
    },
    "collapsed": false
   },
   "outputs": [
    {
     "name": "stdout",
     "output_type": "stream",
     "text": [
      "The merged dataset contains 50 samples.\n"
     ]
    }
   ],
   "source": [
    "print(f\"The merged dataset contains {len(merged_data)} samples.\")"
   ]
  },
  {
   "cell_type": "code",
   "execution_count": 85,
   "metadata": {
    "ExecuteTime": {
     "end_time": "2024-02-27T00:23:32.492392340Z",
     "start_time": "2024-02-27T00:23:32.491448724Z"
    },
    "collapsed": false
   },
   "outputs": [
    {
     "name": "stdout",
     "output_type": "stream",
     "text": [
      "For the feature 'Stomach-Cancer', the least common label is '1.0' with 50 occurrences. This represents 100.00% of the dataset.\n",
      "The distribution of the feature 'Stomach-Cancer' in this dataset is severely biased.\n",
      "\n"
     ]
    },
    {
     "data": {
      "text/plain": [
       "True"
      ]
     },
     "execution_count": 85,
     "metadata": {},
     "output_type": "execute_result"
    }
   ],
   "source": [
    "is_trait_biased, merged_data = judge_and_remove_biased_features(merged_data, TRAIT, trait_type=trait_type)\n",
    "is_trait_biased"
   ]
  },
  {
   "cell_type": "code",
   "execution_count": 86,
   "metadata": {
    "ExecuteTime": {
     "end_time": "2024-02-27T00:23:32.492558941Z",
     "start_time": "2024-02-27T00:23:32.491785675Z"
    },
    "collapsed": false
   },
   "outputs": [
    {
     "name": "stdout",
     "output_type": "stream",
     "text": [
      "A new JSON file was created at: output2/Lisa/Stomach-Cancer/cohort_info.json\n"
     ]
    }
   ],
   "source": [
    "if is_available:\n",
    "    save_cohort_info(cohort, JSON_PATH, is_available, is_trait_biased, merged_data, note='')\n",
    "else:\n",
    "    save_cohort_info(cohort, JSON_PATH, is_available)"
   ]
  },
  {
   "cell_type": "code",
   "execution_count": 87,
   "metadata": {
    "ExecuteTime": {
     "end_time": "2024-02-27T00:23:32.498376085Z",
     "start_time": "2024-02-27T00:23:32.492193538Z"
    },
    "collapsed": false
   },
   "outputs": [],
   "source": [
    "merged_data.head()\n",
    "if not is_trait_biased:\n",
    "    merged_data.to_csv(os.path.join(OUTPUT_DIR, cohort + '.csv'), index=False)"
   ]
  },
  {
   "cell_type": "markdown",
   "metadata": {
    "ExecuteTime": {
     "end_time": "2023-12-31T03:58:22.271683755Z",
     "start_time": "2023-12-31T03:58:22.246557674Z"
    },
    "id": "-MTPhRGxJV7I"
   },
   "source": [
    "### 3. Do regression & Cross Validation (didnt change)"
   ]
  },
  {
   "cell_type": "code",
   "execution_count": 26,
   "metadata": {
    "ExecuteTime": {
     "end_time": "2024-02-27T00:23:32.547717211Z",
     "start_time": "2024-02-27T00:23:32.505440491Z"
    },
    "collapsed": false
   },
   "outputs": [
    {
     "data": {
      "text/html": [
       "<div>\n",
       "<style scoped>\n",
       "    .dataframe tbody tr th:only-of-type {\n",
       "        vertical-align: middle;\n",
       "    }\n",
       "\n",
       "    .dataframe tbody tr th {\n",
       "        vertical-align: top;\n",
       "    }\n",
       "\n",
       "    .dataframe thead th {\n",
       "        text-align: right;\n",
       "    }\n",
       "</style>\n",
       "<table border=\"1\" class=\"dataframe\">\n",
       "  <thead>\n",
       "    <tr style=\"text-align: right;\">\n",
       "      <th></th>\n",
       "      <th>cohort_id</th>\n",
       "      <th>is_usable</th>\n",
       "      <th>is_available</th>\n",
       "      <th>is_biased</th>\n",
       "      <th>has_age</th>\n",
       "      <th>has_gender</th>\n",
       "      <th>sample_size</th>\n",
       "      <th>note</th>\n",
       "    </tr>\n",
       "  </thead>\n",
       "  <tbody>\n",
       "    <tr>\n",
       "      <th>0</th>\n",
       "      <td>GSE41445</td>\n",
       "      <td>True</td>\n",
       "      <td>True</td>\n",
       "      <td>False</td>\n",
       "      <td>False</td>\n",
       "      <td>True</td>\n",
       "      <td>63</td>\n",
       "      <td></td>\n",
       "    </tr>\n",
       "  </tbody>\n",
       "</table>\n",
       "</div>"
      ],
      "text/plain": [
       "  cohort_id  is_usable  is_available  is_biased  has_age  has_gender  \\\n",
       "0  GSE41445       True          True      False    False        True   \n",
       "\n",
       "   sample_size note  \n",
       "0           63       "
      ]
     },
     "execution_count": 26,
     "metadata": {},
     "output_type": "execute_result"
    }
   ],
   "source": [
    "# Check the information of usable cohorts\n",
    "best_cohort, ranked_df = filter_and_rank_cohorts(JSON_PATH)\n",
    "ranked_df"
   ]
  },
  {
   "cell_type": "code",
   "execution_count": 27,
   "metadata": {
    "ExecuteTime": {
     "end_time": "2024-02-27T00:23:32.548029335Z",
     "start_time": "2024-02-27T00:23:32.547124542Z"
    },
    "collapsed": false
   },
   "outputs": [],
   "source": [
    "# If both age and gender have available cohorts, select 'age' as the condition.\n",
    "condition = 'Age'\n",
    "filter_column = 'has_' + condition.lower()\n",
    "\n",
    "condition_best_cohort, condition_ranked_df = filter_and_rank_cohorts(JSON_PATH, filter_column)\n",
    "condition_best_cohort"
   ]
  },
  {
   "cell_type": "code",
   "execution_count": 28,
   "metadata": {
    "ExecuteTime": {
     "end_time": "2024-02-27T00:23:32.548270706Z",
     "start_time": "2024-02-27T00:23:32.547406760Z"
    },
    "collapsed": false
   },
   "outputs": [
    {
     "data": {
      "text/html": [
       "<div>\n",
       "<style scoped>\n",
       "    .dataframe tbody tr th:only-of-type {\n",
       "        vertical-align: middle;\n",
       "    }\n",
       "\n",
       "    .dataframe tbody tr th {\n",
       "        vertical-align: top;\n",
       "    }\n",
       "\n",
       "    .dataframe thead th {\n",
       "        text-align: right;\n",
       "    }\n",
       "</style>\n",
       "<table border=\"1\" class=\"dataframe\">\n",
       "  <thead>\n",
       "    <tr style=\"text-align: right;\">\n",
       "      <th></th>\n",
       "      <th>cohort_id</th>\n",
       "      <th>is_usable</th>\n",
       "      <th>is_available</th>\n",
       "      <th>is_biased</th>\n",
       "      <th>has_age</th>\n",
       "      <th>has_gender</th>\n",
       "      <th>sample_size</th>\n",
       "      <th>note</th>\n",
       "    </tr>\n",
       "  </thead>\n",
       "  <tbody>\n",
       "  </tbody>\n",
       "</table>\n",
       "</div>"
      ],
      "text/plain": [
       "Empty DataFrame\n",
       "Columns: [cohort_id, is_usable, is_available, is_biased, has_age, has_gender, sample_size, note]\n",
       "Index: []"
      ]
     },
     "execution_count": 28,
     "metadata": {},
     "output_type": "execute_result"
    }
   ],
   "source": [
    "\n",
    "condition_ranked_df.head()"
   ]
  },
  {
   "cell_type": "code",
   "execution_count": 29,
   "metadata": {
    "ExecuteTime": {
     "end_time": "2024-02-27T00:23:38.343632200Z",
     "start_time": "2024-02-27T00:23:32.547609900Z"
    },
    "collapsed": false
   },
   "outputs": [
    {
     "ename": "TypeError",
     "evalue": "unsupported operand type(s) for +: 'NoneType' and 'str'",
     "output_type": "error",
     "traceback": [
      "\u001b[0;31m---------------------------------------------------------------------------\u001b[0m",
      "\u001b[0;31mTypeError\u001b[0m                                 Traceback (most recent call last)",
      "Input \u001b[0;32mIn [29]\u001b[0m, in \u001b[0;36m<cell line: 1>\u001b[0;34m()\u001b[0m\n\u001b[0;32m----> 1\u001b[0m merged_data \u001b[38;5;241m=\u001b[39m pd\u001b[38;5;241m.\u001b[39mread_csv(os\u001b[38;5;241m.\u001b[39mpath\u001b[38;5;241m.\u001b[39mjoin(OUTPUT_DIR, \u001b[43mcondition_best_cohort\u001b[49m\u001b[43m \u001b[49m\u001b[38;5;241;43m+\u001b[39;49m\u001b[43m \u001b[49m\u001b[38;5;124;43m'\u001b[39;49m\u001b[38;5;124;43m.csv\u001b[39;49m\u001b[38;5;124;43m'\u001b[39;49m))\n\u001b[1;32m      2\u001b[0m merged_data\u001b[38;5;241m.\u001b[39mhead()\n",
      "\u001b[0;31mTypeError\u001b[0m: unsupported operand type(s) for +: 'NoneType' and 'str'"
     ]
    }
   ],
   "source": [
    "merged_data = pd.read_csv(os.path.join(OUTPUT_DIR, condition_best_cohort + '.csv'))\n",
    "merged_data.head()\n",
    "# no age this data"
   ]
  },
  {
   "cell_type": "code",
   "execution_count": 30,
   "metadata": {
    "ExecuteTime": {
     "end_time": "2024-02-27T00:23:38.415287128Z",
     "start_time": "2024-02-27T00:23:38.364271637Z"
    },
    "collapsed": false
   },
   "outputs": [
    {
     "ename": "KeyError",
     "evalue": "\"['Age'] not found in axis\"",
     "output_type": "error",
     "traceback": [
      "\u001b[0;31m---------------------------------------------------------------------------\u001b[0m",
      "\u001b[0;31mKeyError\u001b[0m                                  Traceback (most recent call last)",
      "Input \u001b[0;32mIn [30]\u001b[0m, in \u001b[0;36m<cell line: 4>\u001b[0;34m()\u001b[0m\n\u001b[1;32m      1\u001b[0m \u001b[38;5;66;03m# Remove the other condition to prevent interference.\u001b[39;00m\n\u001b[1;32m      2\u001b[0m merged_data \u001b[38;5;241m=\u001b[39m merged_data\u001b[38;5;241m.\u001b[39mdrop(columns\u001b[38;5;241m=\u001b[39m[\u001b[38;5;124m'\u001b[39m\u001b[38;5;124mGender\u001b[39m\u001b[38;5;124m'\u001b[39m], errors\u001b[38;5;241m=\u001b[39m\u001b[38;5;124m'\u001b[39m\u001b[38;5;124mignore\u001b[39m\u001b[38;5;124m'\u001b[39m)\u001b[38;5;241m.\u001b[39mastype(\u001b[38;5;124m'\u001b[39m\u001b[38;5;124mfloat\u001b[39m\u001b[38;5;124m'\u001b[39m)\n\u001b[0;32m----> 4\u001b[0m X \u001b[38;5;241m=\u001b[39m \u001b[43mmerged_data\u001b[49m\u001b[38;5;241;43m.\u001b[39;49m\u001b[43mdrop\u001b[49m\u001b[43m(\u001b[49m\u001b[43mcolumns\u001b[49m\u001b[38;5;241;43m=\u001b[39;49m\u001b[43m[\u001b[49m\u001b[43mTRAIT\u001b[49m\u001b[43m,\u001b[49m\u001b[43m \u001b[49m\u001b[43mcondition\u001b[49m\u001b[43m]\u001b[49m\u001b[43m)\u001b[49m\u001b[38;5;241m.\u001b[39mvalues\n\u001b[1;32m      5\u001b[0m Y \u001b[38;5;241m=\u001b[39m merged_data[TRAIT]\u001b[38;5;241m.\u001b[39mvalues\n\u001b[1;32m      6\u001b[0m Z \u001b[38;5;241m=\u001b[39m merged_data[condition]\u001b[38;5;241m.\u001b[39mvalues\n",
      "File \u001b[0;32m~/opt/anaconda3/lib/python3.9/site-packages/pandas/core/frame.py:5258\u001b[0m, in \u001b[0;36mDataFrame.drop\u001b[0;34m(self, labels, axis, index, columns, level, inplace, errors)\u001b[0m\n\u001b[1;32m   5110\u001b[0m \u001b[38;5;28;01mdef\u001b[39;00m \u001b[38;5;21mdrop\u001b[39m(\n\u001b[1;32m   5111\u001b[0m     \u001b[38;5;28mself\u001b[39m,\n\u001b[1;32m   5112\u001b[0m     labels: IndexLabel \u001b[38;5;241m=\u001b[39m \u001b[38;5;28;01mNone\u001b[39;00m,\n\u001b[0;32m   (...)\u001b[0m\n\u001b[1;32m   5119\u001b[0m     errors: IgnoreRaise \u001b[38;5;241m=\u001b[39m \u001b[38;5;124m\"\u001b[39m\u001b[38;5;124mraise\u001b[39m\u001b[38;5;124m\"\u001b[39m,\n\u001b[1;32m   5120\u001b[0m ) \u001b[38;5;241m-\u001b[39m\u001b[38;5;241m>\u001b[39m DataFrame \u001b[38;5;241m|\u001b[39m \u001b[38;5;28;01mNone\u001b[39;00m:\n\u001b[1;32m   5121\u001b[0m     \u001b[38;5;124;03m\"\"\"\u001b[39;00m\n\u001b[1;32m   5122\u001b[0m \u001b[38;5;124;03m    Drop specified labels from rows or columns.\u001b[39;00m\n\u001b[1;32m   5123\u001b[0m \n\u001b[0;32m   (...)\u001b[0m\n\u001b[1;32m   5256\u001b[0m \u001b[38;5;124;03m            weight  1.0     0.8\u001b[39;00m\n\u001b[1;32m   5257\u001b[0m \u001b[38;5;124;03m    \"\"\"\u001b[39;00m\n\u001b[0;32m-> 5258\u001b[0m     \u001b[38;5;28;01mreturn\u001b[39;00m \u001b[38;5;28;43msuper\u001b[39;49m\u001b[43m(\u001b[49m\u001b[43m)\u001b[49m\u001b[38;5;241;43m.\u001b[39;49m\u001b[43mdrop\u001b[49m\u001b[43m(\u001b[49m\n\u001b[1;32m   5259\u001b[0m \u001b[43m        \u001b[49m\u001b[43mlabels\u001b[49m\u001b[38;5;241;43m=\u001b[39;49m\u001b[43mlabels\u001b[49m\u001b[43m,\u001b[49m\n\u001b[1;32m   5260\u001b[0m \u001b[43m        \u001b[49m\u001b[43maxis\u001b[49m\u001b[38;5;241;43m=\u001b[39;49m\u001b[43maxis\u001b[49m\u001b[43m,\u001b[49m\n\u001b[1;32m   5261\u001b[0m \u001b[43m        \u001b[49m\u001b[43mindex\u001b[49m\u001b[38;5;241;43m=\u001b[39;49m\u001b[43mindex\u001b[49m\u001b[43m,\u001b[49m\n\u001b[1;32m   5262\u001b[0m \u001b[43m        \u001b[49m\u001b[43mcolumns\u001b[49m\u001b[38;5;241;43m=\u001b[39;49m\u001b[43mcolumns\u001b[49m\u001b[43m,\u001b[49m\n\u001b[1;32m   5263\u001b[0m \u001b[43m        \u001b[49m\u001b[43mlevel\u001b[49m\u001b[38;5;241;43m=\u001b[39;49m\u001b[43mlevel\u001b[49m\u001b[43m,\u001b[49m\n\u001b[1;32m   5264\u001b[0m \u001b[43m        \u001b[49m\u001b[43minplace\u001b[49m\u001b[38;5;241;43m=\u001b[39;49m\u001b[43minplace\u001b[49m\u001b[43m,\u001b[49m\n\u001b[1;32m   5265\u001b[0m \u001b[43m        \u001b[49m\u001b[43merrors\u001b[49m\u001b[38;5;241;43m=\u001b[39;49m\u001b[43merrors\u001b[49m\u001b[43m,\u001b[49m\n\u001b[1;32m   5266\u001b[0m \u001b[43m    \u001b[49m\u001b[43m)\u001b[49m\n",
      "File \u001b[0;32m~/opt/anaconda3/lib/python3.9/site-packages/pandas/core/generic.py:4549\u001b[0m, in \u001b[0;36mNDFrame.drop\u001b[0;34m(self, labels, axis, index, columns, level, inplace, errors)\u001b[0m\n\u001b[1;32m   4547\u001b[0m \u001b[38;5;28;01mfor\u001b[39;00m axis, labels \u001b[38;5;129;01min\u001b[39;00m axes\u001b[38;5;241m.\u001b[39mitems():\n\u001b[1;32m   4548\u001b[0m     \u001b[38;5;28;01mif\u001b[39;00m labels \u001b[38;5;129;01mis\u001b[39;00m \u001b[38;5;129;01mnot\u001b[39;00m \u001b[38;5;28;01mNone\u001b[39;00m:\n\u001b[0;32m-> 4549\u001b[0m         obj \u001b[38;5;241m=\u001b[39m \u001b[43mobj\u001b[49m\u001b[38;5;241;43m.\u001b[39;49m\u001b[43m_drop_axis\u001b[49m\u001b[43m(\u001b[49m\u001b[43mlabels\u001b[49m\u001b[43m,\u001b[49m\u001b[43m \u001b[49m\u001b[43maxis\u001b[49m\u001b[43m,\u001b[49m\u001b[43m \u001b[49m\u001b[43mlevel\u001b[49m\u001b[38;5;241;43m=\u001b[39;49m\u001b[43mlevel\u001b[49m\u001b[43m,\u001b[49m\u001b[43m \u001b[49m\u001b[43merrors\u001b[49m\u001b[38;5;241;43m=\u001b[39;49m\u001b[43merrors\u001b[49m\u001b[43m)\u001b[49m\n\u001b[1;32m   4551\u001b[0m \u001b[38;5;28;01mif\u001b[39;00m inplace:\n\u001b[1;32m   4552\u001b[0m     \u001b[38;5;28mself\u001b[39m\u001b[38;5;241m.\u001b[39m_update_inplace(obj)\n",
      "File \u001b[0;32m~/opt/anaconda3/lib/python3.9/site-packages/pandas/core/generic.py:4591\u001b[0m, in \u001b[0;36mNDFrame._drop_axis\u001b[0;34m(self, labels, axis, level, errors, only_slice)\u001b[0m\n\u001b[1;32m   4589\u001b[0m         new_axis \u001b[38;5;241m=\u001b[39m axis\u001b[38;5;241m.\u001b[39mdrop(labels, level\u001b[38;5;241m=\u001b[39mlevel, errors\u001b[38;5;241m=\u001b[39merrors)\n\u001b[1;32m   4590\u001b[0m     \u001b[38;5;28;01melse\u001b[39;00m:\n\u001b[0;32m-> 4591\u001b[0m         new_axis \u001b[38;5;241m=\u001b[39m \u001b[43maxis\u001b[49m\u001b[38;5;241;43m.\u001b[39;49m\u001b[43mdrop\u001b[49m\u001b[43m(\u001b[49m\u001b[43mlabels\u001b[49m\u001b[43m,\u001b[49m\u001b[43m \u001b[49m\u001b[43merrors\u001b[49m\u001b[38;5;241;43m=\u001b[39;49m\u001b[43merrors\u001b[49m\u001b[43m)\u001b[49m\n\u001b[1;32m   4592\u001b[0m     indexer \u001b[38;5;241m=\u001b[39m axis\u001b[38;5;241m.\u001b[39mget_indexer(new_axis)\n\u001b[1;32m   4594\u001b[0m \u001b[38;5;66;03m# Case for non-unique axis\u001b[39;00m\n\u001b[1;32m   4595\u001b[0m \u001b[38;5;28;01melse\u001b[39;00m:\n",
      "File \u001b[0;32m~/opt/anaconda3/lib/python3.9/site-packages/pandas/core/indexes/base.py:6699\u001b[0m, in \u001b[0;36mIndex.drop\u001b[0;34m(self, labels, errors)\u001b[0m\n\u001b[1;32m   6697\u001b[0m \u001b[38;5;28;01mif\u001b[39;00m mask\u001b[38;5;241m.\u001b[39many():\n\u001b[1;32m   6698\u001b[0m     \u001b[38;5;28;01mif\u001b[39;00m errors \u001b[38;5;241m!=\u001b[39m \u001b[38;5;124m\"\u001b[39m\u001b[38;5;124mignore\u001b[39m\u001b[38;5;124m\"\u001b[39m:\n\u001b[0;32m-> 6699\u001b[0m         \u001b[38;5;28;01mraise\u001b[39;00m \u001b[38;5;167;01mKeyError\u001b[39;00m(\u001b[38;5;124mf\u001b[39m\u001b[38;5;124m\"\u001b[39m\u001b[38;5;132;01m{\u001b[39;00m\u001b[38;5;28mlist\u001b[39m(labels[mask])\u001b[38;5;132;01m}\u001b[39;00m\u001b[38;5;124m not found in axis\u001b[39m\u001b[38;5;124m\"\u001b[39m)\n\u001b[1;32m   6700\u001b[0m     indexer \u001b[38;5;241m=\u001b[39m indexer[\u001b[38;5;241m~\u001b[39mmask]\n\u001b[1;32m   6701\u001b[0m \u001b[38;5;28;01mreturn\u001b[39;00m \u001b[38;5;28mself\u001b[39m\u001b[38;5;241m.\u001b[39mdelete(indexer)\n",
      "\u001b[0;31mKeyError\u001b[0m: \"['Age'] not found in axis\""
     ]
    }
   ],
   "source": [
    "# Remove the other condition to prevent interference.\n",
    "merged_data = merged_data.drop(columns=['Gender'], errors='ignore').astype('float')\n",
    "\n",
    "X = merged_data.drop(columns=[TRAIT, condition]).values\n",
    "Y = merged_data[TRAIT].values\n",
    "Z = merged_data[condition].values"
   ]
  },
  {
   "cell_type": "markdown",
   "metadata": {
    "collapsed": false
   },
   "source": [
    "\n",
    "\n",
    "\n",
    "Select the appropriate regression model depending on whether the dataset shows batch effect."
   ]
  },
  {
   "cell_type": "code",
   "execution_count": 31,
   "metadata": {
    "ExecuteTime": {
     "end_time": "2024-02-27T00:23:38.660228117Z",
     "start_time": "2024-02-27T00:23:38.411536280Z"
    },
    "collapsed": false
   },
   "outputs": [
    {
     "ename": "NameError",
     "evalue": "name 'X' is not defined",
     "output_type": "error",
     "traceback": [
      "\u001b[0;31m---------------------------------------------------------------------------\u001b[0m",
      "\u001b[0;31mNameError\u001b[0m                                 Traceback (most recent call last)",
      "Input \u001b[0;32mIn [31]\u001b[0m, in \u001b[0;36m<cell line: 1>\u001b[0;34m()\u001b[0m\n\u001b[0;32m----> 1\u001b[0m has_batch_effect \u001b[38;5;241m=\u001b[39m detect_batch_effect(\u001b[43mX\u001b[49m)\n\u001b[1;32m      2\u001b[0m has_batch_effect\n",
      "\u001b[0;31mNameError\u001b[0m: name 'X' is not defined"
     ]
    }
   ],
   "source": [
    "has_batch_effect = detect_batch_effect(X)\n",
    "has_batch_effect"
   ]
  },
  {
   "cell_type": "code",
   "execution_count": 49,
   "metadata": {
    "ExecuteTime": {
     "end_time": "2024-02-27T00:23:38.713688031Z",
     "start_time": "2024-02-27T00:23:38.660009818Z"
    },
    "collapsed": false
   },
   "outputs": [],
   "source": [
    "# Select appropriate models based on whether the dataset has batch effect.\n",
    "# We experiment on two models for each branch. We will decide which one to choose later.\n",
    "\n",
    "if has_batch_effect:\n",
    "    model_constructor1 = VariableSelection\n",
    "    model_params1 = {'modified': True, 'lamda': 3e-4}\n",
    "    model_constructor2 = VariableSelection\n",
    "    model_params2 = {'modified': False}\n",
    "else:\n",
    "    model_constructor1 = Lasso\n",
    "    model_params1 = {'alpha': 1.0, 'random_state': 42}\n",
    "    model_constructor2 = VariableSelection\n",
    "    model_params2 = {'modified': False}"
   ]
  },
  {
   "cell_type": "code",
   "execution_count": 50,
   "metadata": {
    "ExecuteTime": {
     "end_time": "2024-02-27T00:23:41.714245522Z",
     "start_time": "2024-02-27T00:23:38.703272032Z"
    },
    "collapsed": false
   },
   "outputs": [
    {
     "name": "stdout",
     "output_type": "stream",
     "text": [
      "alpha for Lasso: 0.0003\n",
      "alpha for Lasso: 0.0003\n",
      "alpha for Lasso: 0.0003\n",
      "alpha for Lasso: 0.0003\n",
      "alpha for Lasso: 0.0003\n",
      "The cross-validation accuracy is 67.82% ± 6.72%\n"
     ]
    }
   ],
   "source": [
    "trait_type = 'binary'  # Remember to set this properly, either 'binary' or 'continuous'\n",
    "cv_mean1, cv_std1 = cross_validation(X, Y, Z, model_constructor1, model_params1, target_type=trait_type)"
   ]
  },
  {
   "cell_type": "code",
   "execution_count": 51,
   "metadata": {
    "ExecuteTime": {
     "end_time": "2024-02-27T00:23:58.274133852Z",
     "start_time": "2024-02-27T00:23:41.714766427Z"
    },
    "collapsed": false
   },
   "outputs": [
    {
     "name": "stderr",
     "output_type": "stream",
     "text": [
      "/home/techt/anaconda3/envs/hl/lib/python3.8/site-packages/sparse_lmm/helpingMethods.py:49: RuntimeWarning: invalid value encountered in divide\n",
      "  ts = beta / np.sqrt(var * sigma)\n",
      "/home/techt/anaconda3/envs/hl/lib/python3.8/site-packages/sparse_lmm/helpingMethods.py:49: RuntimeWarning: invalid value encountered in divide\n",
      "  ts = beta / np.sqrt(var * sigma)\n",
      "/home/techt/anaconda3/envs/hl/lib/python3.8/site-packages/sparse_lmm/helpingMethods.py:49: RuntimeWarning: invalid value encountered in divide\n",
      "  ts = beta / np.sqrt(var * sigma)\n",
      "/home/techt/anaconda3/envs/hl/lib/python3.8/site-packages/sparse_lmm/helpingMethods.py:49: RuntimeWarning: invalid value encountered in divide\n",
      "  ts = beta / np.sqrt(var * sigma)\n",
      "/home/techt/anaconda3/envs/hl/lib/python3.8/site-packages/sparse_lmm/helpingMethods.py:49: RuntimeWarning: invalid value encountered in divide\n",
      "  ts = beta / np.sqrt(var * sigma)\n"
     ]
    },
    {
     "name": "stdout",
     "output_type": "stream",
     "text": [
      "The cross-validation accuracy is 90.86% ± 0.84%\n"
     ]
    }
   ],
   "source": [
    "cv_mean2, cv_std2 = cross_validation(X, Y, Z, model_constructor2, model_params2, target_type=trait_type)"
   ]
  },
  {
   "cell_type": "code",
   "execution_count": 52,
   "metadata": {
    "ExecuteTime": {
     "end_time": "2024-02-27T00:24:02.476194192Z",
     "start_time": "2024-02-27T00:23:58.272434972Z"
    },
    "collapsed": false
   },
   "outputs": [
    {
     "name": "stdout",
     "output_type": "stream",
     "text": [
      "alpha for Lasso: 0.0003\n"
     ]
    },
    {
     "name": "stderr",
     "output_type": "stream",
     "text": [
      "/home/techt/anaconda3/envs/hl/lib/python3.8/site-packages/sparse_lmm/helpingMethods.py:49: RuntimeWarning: invalid value encountered in divide\n",
      "  ts = beta / np.sqrt(var * sigma)\n"
     ]
    }
   ],
   "source": [
    "normalized_X, _ = normalize_data(X)\n",
    "normalized_Z, _ = normalize_data(Z)\n",
    "\n",
    "# Train regression model on the whole dataset to identify significant genes\n",
    "model1 = ResidualizationRegressor(model_constructor1, model_params1)\n",
    "model1.fit(normalized_X, Y, normalized_Z)\n",
    "\n",
    "model2 = ResidualizationRegressor(model_constructor2, model_params2)\n",
    "model2.fit(normalized_X, Y, normalized_Z)"
   ]
  },
  {
   "cell_type": "markdown",
   "metadata": {
    "ExecuteTime": {
     "end_time": "2023-10-14T04:50:59.072075075Z",
     "start_time": "2023-10-14T04:50:38.739499998Z"
    },
    "id": "EjJrxbvb4nlj"
   },
   "source": [
    "### 4. Discussion and report"
   ]
  },
  {
   "cell_type": "code",
   "execution_count": 53,
   "metadata": {
    "ExecuteTime": {
     "end_time": "2024-02-27T00:24:02.485641600Z",
     "start_time": "2024-02-27T00:24:02.477523460Z"
    },
    "collapsed": false
   },
   "outputs": [
    {
     "name": "stdout",
     "output_type": "stream",
     "text": [
      "Effect of the condition on the target variable:\n",
      "Variable: Age\n",
      "Coefficient: 0.0065\n",
      "Found 4 genes with non-zero coefficients associated with the trait 'Breast Cancer' conditional on the factor 'Age'. These genes are identified as significant based on the regression model.\n",
      "    Variable  Coefficient  Absolute Coefficient\n",
      "     C5orf52    -0.503090              0.503090\n",
      "LOC100129935    -0.091620              0.091620\n",
      "        HAO2     0.043399              0.043399\n",
      "      TTTY21    -0.008845              0.008845\n"
     ]
    },
    {
     "name": "stderr",
     "output_type": "stream",
     "text": [
      "/home/techt/AI4Science_gold_standard/utils.py:486: SettingWithCopyWarning: \n",
      "A value is trying to be set on a copy of a slice from a DataFrame.\n",
      "Try using .loc[row_indexer,col_indexer] = value instead\n",
      "\n",
      "See the caveats in the documentation: https://pandas.pydata.org/pandas-docs/stable/user_guide/indexing.html#returning-a-view-versus-a-copy\n",
      "  gene_regression_df['Absolute Coefficient'] = gene_regression_df['Coefficient'].abs()\n"
     ]
    }
   ],
   "source": [
    "feature_cols = merged_data.columns.tolist()\n",
    "feature_cols.remove(TRAIT)\n",
    "\n",
    "threshold = 0.05\n",
    "interpret_result(model1, feature_cols, TRAIT, condition, threshold=threshold, save_output=True,\n",
    "                 output_dir=OUTPUT_DIR, model_id=1)"
   ]
  },
  {
   "cell_type": "code",
   "execution_count": 54,
   "metadata": {
    "ExecuteTime": {
     "end_time": "2024-02-27T00:24:02.496973825Z",
     "start_time": "2024-02-27T00:24:02.485560148Z"
    },
    "collapsed": false
   },
   "outputs": [
    {
     "name": "stdout",
     "output_type": "stream",
     "text": [
      "Effect of the condition on the target variable:\n",
      "Variable: Age\n",
      "Coefficient: 0.0065\n",
      "Found 56 significant genes associated with the trait 'Breast Cancer' conditional on the factor 'Age', with corrected p-value < 0.05:\n",
      " Variable  Coefficient      p_value  corrected_p_value\n",
      "  COL10A1     0.139801 2.272959e-32       3.941083e-28\n",
      "      BGN     0.096090 1.371919e-18       1.189385e-14\n",
      "    MMP11     0.082105 1.200864e-14       6.940595e-11\n",
      "  HSD17B6     0.051075 5.396057e-11       2.099223e-07\n",
      "   CTHRC1     0.058965 6.696716e-11       2.099223e-07\n",
      "    MFAP5    -0.055412 7.264165e-11       2.099223e-07\n",
      "   OR51D1     0.023976 1.231414e-09       3.050213e-06\n",
      "   CLEC5A     0.046623 1.873539e-09       4.060661e-06\n",
      "       GC     0.027701 5.093728e-09       9.813350e-06\n",
      "      FN1     0.064388 3.437602e-08       5.960458e-05\n",
      "  C1QTNF6     0.050616 5.341210e-08       7.717604e-05\n",
      "     COMP     0.040724 5.254171e-08       7.717604e-05\n",
      "   LRRC15     0.051955 6.597041e-08       8.798931e-05\n",
      "    INHBA     0.050265 4.503237e-07       5.222718e-04\n",
      "     ECM2    -0.067315 4.518182e-07       5.222718e-04\n",
      "    CILP2     0.041136 4.902079e-07       5.312321e-04\n",
      "    FNDC1     0.041567 9.997157e-07       1.019651e-03\n",
      "  SLC24A2     0.043677 1.088907e-06       1.048920e-03\n",
      "     VCAN     0.060144 1.465059e-06       1.336982e-03\n",
      "      DCN    -0.061377 1.598331e-06       1.385673e-03\n",
      "    CD248    -0.047072 1.713127e-06       1.414472e-03\n",
      "      FAP     0.061535 1.970426e-06       1.552964e-03\n",
      "    P4HA3     0.043197 2.226118e-06       1.678202e-03\n",
      "      F2R     0.042153 2.823189e-06       2.039636e-03\n",
      "    MFAP2     0.046080 3.173463e-06       2.200987e-03\n",
      "  OLFML2A    -0.036874 3.441412e-06       2.295025e-03\n",
      "     HEYL     0.037219 4.178849e-06       2.683595e-03\n",
      "    OR2L3    -0.017440 4.804225e-06       2.975016e-03\n",
      "POM121L12     0.029506 5.325683e-06       3.184208e-03\n",
      "   COL5A2     0.063997 5.989358e-06       3.461649e-03\n",
      "    SPARC     0.055097 6.679719e-06       3.736118e-03\n",
      "   OLFML1    -0.061369 9.075918e-06       4.917729e-03\n",
      "      MAF    -0.039889 1.228983e-05       6.457376e-03\n",
      "    LOXL1     0.043604 1.607333e-05       8.196928e-03\n",
      "  CYP19A1     0.021867 1.833526e-05       9.083287e-03\n",
      "   LEFTY2     0.025998 3.583211e-05       1.725814e-02\n",
      "   KBTBD6    -0.030732 3.743350e-05       1.754215e-02\n",
      "     NRG3    -0.019332 3.930243e-05       1.793329e-02\n",
      "    PRDM8    -0.037232 4.162295e-05       1.850514e-02\n",
      "    CFHR5    -0.018284 4.601881e-05       1.994801e-02\n",
      "   COL1A1     0.046078 5.430926e-05       2.296752e-02\n",
      "    WNT8A     0.014852 6.121294e-05       2.468305e-02\n",
      "    GNG11    -0.066023 6.120003e-05       2.468305e-02\n",
      "   ADAM12     0.041917 6.725552e-05       2.650326e-02\n",
      "    GGT8P    -0.017786 8.624514e-05       3.323121e-02\n",
      "     RECK    -0.052323 9.888791e-05       3.727429e-02\n",
      "     CNTF    -0.020411 1.139612e-04       3.991115e-02\n",
      "   CLEC3B    -0.040284 1.150907e-04       3.991115e-02\n",
      "   PCOLCE    -0.047793 1.150044e-04       3.991115e-02\n",
      " SERPINE1     0.025811 1.125835e-04       3.991115e-02\n",
      "     ACAN     0.024426 1.178990e-04       4.008335e-02\n",
      "  TMEM119     0.035586 1.240881e-04       4.137624e-02\n",
      "    KCNC1    -0.023441 1.413518e-04       4.624336e-02\n",
      "  OLFML2B     0.035631 1.451487e-04       4.660618e-02\n",
      "    SRPX2    -0.033834 1.589026e-04       4.920021e-02\n",
      "      SST    -0.014828 1.562419e-04       4.920021e-02\n"
     ]
    },
    {
     "name": "stderr",
     "output_type": "stream",
     "text": [
      "/home/techt/AI4Science_gold_standard/utils.py:495: SettingWithCopyWarning: \n",
      "A value is trying to be set on a copy of a slice from a DataFrame.\n",
      "Try using .loc[row_indexer,col_indexer] = value instead\n",
      "\n",
      "See the caveats in the documentation: https://pandas.pydata.org/pandas-docs/stable/user_guide/indexing.html#returning-a-view-versus-a-copy\n",
      "  gene_regression_df.loc[:, 'corrected_p_value'] = corrected_p_values\n"
     ]
    }
   ],
   "source": [
    "interpret_result(model2, feature_cols, TRAIT, condition, threshold=threshold, save_output=True,\n",
    "                 output_dir=OUTPUT_DIR, model_id=2)"
   ]
  },
  {
   "cell_type": "code",
   "execution_count": null,
   "metadata": {
    "collapsed": false
   },
   "outputs": [],
   "source": []
  }
 ],
 "metadata": {
  "colab": {
   "provenance": []
  },
  "kernelspec": {
   "display_name": "Python 3 (ipykernel)",
   "language": "python",
   "name": "python3"
  },
  "language_info": {
   "codemirror_mode": {
    "name": "ipython",
    "version": 3
   },
   "file_extension": ".py",
   "mimetype": "text/x-python",
   "name": "python",
   "nbconvert_exporter": "python",
   "pygments_lexer": "ipython3",
   "version": "3.9.12"
  }
 },
 "nbformat": 4,
 "nbformat_minor": 0
}
