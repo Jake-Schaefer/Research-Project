{
 "cells": [
  {
   "cell_type": "markdown",
   "metadata": {
    "collapsed": false
   },
   "source": [
    "# Gold standard curation: Preprocessing and single-step regression"
   ]
  },
  {
   "cell_type": "markdown",
   "metadata": {
    "collapsed": false
   },
   "source": [
    "In this stage of gold standard curation, we will do the data preprocessing, selection, and single-step regression for the 153 traits in our question set. This file shows the reference steps using the trait \"Breast Cancer\" as an example. The workflow consists of the following steps:\n",
    "\n",
    "1. Preprocess all the cohorts related to this trait. Each cohort should be converted to a tabular form and saved to a csv file, with columns being genetic factors, the trait, and age, gender if available;\n",
    "2. If there exists at least one cohort with age or gender information, conduct regression analysis with genetic features together with age or gender as the regressors.\n"
   ]
  },
  {
   "cell_type": "markdown",
   "metadata": {
    "collapsed": false
   },
   "source": [
    "# 1. Basic setup"
   ]
  },
  {
   "cell_type": "code",
   "execution_count": 2,
   "metadata": {
    "ExecuteTime": {
     "end_time": "2024-02-27T00:22:19.918139380Z",
     "start_time": "2024-02-27T00:22:19.235047906Z"
    },
    "collapsed": false
   },
   "outputs": [],
   "source": [
    "import os\n",
    "import sys\n",
    "\n",
    "sys.path.append('..')\n",
    "from utils import *\n",
    "\n",
    "# Set your preferred name\n",
    "USER = \"Jake\"\n",
    "# Set the data and output directories\n",
    "DATA_ROOT = '/Users/jacob/Documents'\n",
    "OUTPUT_ROOT = '/Users/jacob/Documents/output'\n",
    "TRAIT = 'Gaucher Disease'\n",
    "\n",
    "OUTPUT_DIR = os.path.join(OUTPUT_ROOT, USER, '-'.join(TRAIT.split()))\n",
    "JSON_PATH = os.path.join(OUTPUT_DIR, \"cohort_info.json\")\n",
    "if not os.path.exists(OUTPUT_DIR):\n",
    "    os.makedirs(OUTPUT_DIR, exist_ok=True)\n",
    "\n",
    "# Gene symbol normalization may take 1-2 minutes. You may set it to False for debugging.\n",
    "NORMALIZE_GENE = True"
   ]
  },
  {
   "cell_type": "code",
   "execution_count": 3,
   "metadata": {},
   "outputs": [
    {
     "name": "stdout",
     "output_type": "stream",
     "text": [
      "utils.py has been loaded\n"
     ]
    }
   ],
   "source": [
    "import os\n",
    "import io\n",
    "import pandas as pd\n",
    "import gzip\n",
    "import mygene\n",
    "import re\n",
    "import tempfile\n",
    "import shutil\n",
    "\n",
    "import seaborn as sns\n",
    "import matplotlib.pyplot as plt\n",
    "import numpy as np\n",
    "import json\n",
    "from typing import Callable, Optional, List, Tuple, Union, Any\n",
    "from sklearn.linear_model import LinearRegression, Lasso, LogisticRegression\n",
    "from sparse_lmm import VariableSelection\n",
    "from statsmodels.stats.multitest import multipletests\n",
    "from sklearn.metrics import accuracy_score, mean_squared_error\n",
    "\n",
    "print(\"utils.py has been loaded\")\n",
    "def geo_get_relevant_filepaths(cohort_dir):\n",
    "    \"\"\"Find the file paths of a SOFT file and a matrix file from the given data directory of a cohort.\n",
    "    If there are multiple SOFT files or matrix files, simply choose the first one. Used for the GEO dataset.\n",
    "    \"\"\"\n",
    "    files = os.listdir(cohort_dir)\n",
    "    soft_files = [f for f in files if 'soft' in f.lower()]\n",
    "    matrix_files = [f for f in files if 'matrix' in f.lower()]\n",
    "    assert len(soft_files) > 0 and len(matrix_files) > 0\n",
    "    soft_file_path = os.path.join(cohort_dir, soft_files[0])\n",
    "    matrix_file_path = os.path.join(cohort_dir, matrix_files[0])\n",
    "\n",
    "    return soft_file_path, matrix_file_path\n",
    "\n",
    "\n",
    "def xena_get_relevant_filepaths(cohort_dir):\n",
    "    \"\"\"Find the file paths of a clinical file and a genetic file from the given data directory of a cohort.\n",
    "    If there are multiple clinical or genetic data files, simply choose the first one. Used for the TCGA Xena dataset.\n",
    "    \"\"\"\n",
    "    files = os.listdir(cohort_dir)\n",
    "    clinical_files = [f for f in files if 'clinicalmatrix' in f.lower()]\n",
    "    genetic_files = [f for f in files if 'pancan' in f.lower()]\n",
    "    clinical_file_path = os.path.join(cohort_dir, clinical_files[0])\n",
    "    genetic_file_path = os.path.join(cohort_dir, genetic_files[0])\n",
    "    return clinical_file_path, genetic_file_path\n",
    "\n",
    "def line_generator(source, source_type):\n",
    "    \"\"\"Generator that yields lines from a file or a string.\n",
    "\n",
    "    Parameters:\n",
    "    - source: File path or string content.\n",
    "    - source_type: 'file' or 'string'.\n",
    "    \"\"\"\n",
    "    if source_type == 'file':\n",
    "        with gzip.open(source, 'rt') as f:\n",
    "            for line in f:\n",
    "                yield line.strip()\n",
    "    elif source_type == 'string':\n",
    "        for line in source.split('\\n'):\n",
    "            yield line.strip()\n",
    "    else:\n",
    "        raise ValueError(\"source_type must be 'file' or 'string'\")\n",
    "\n",
    "\n",
    "def filter_content_by_prefix(\n",
    "    source: str,\n",
    "    prefixes_a: List[str],\n",
    "    prefixes_b: Optional[List[str]] = None,\n",
    "    unselect: bool = False,\n",
    "    source_type: str = 'file',\n",
    "    return_df_a: bool = True,\n",
    "    return_df_b: bool = True\n",
    ") -> Tuple[Union[str, pd.DataFrame], Optional[Union[str, pd.DataFrame]]]:\n",
    "    \"\"\"\n",
    "    Filters rows from a file or a list of strings based on specified prefixes.\n",
    "\n",
    "    Parameters:\n",
    "    - source (str): File path or string content to filter.\n",
    "    - prefixes_a (List[str]): Primary list of prefixes to filter by.\n",
    "    - prefixes_b (Optional[List[str]]): Optional secondary list of prefixes to filter by.\n",
    "    - unselect (bool): If True, selects rows that do not start with the specified prefixes.\n",
    "    - source_type (str): 'file' if source is a file path, 'string' if source is a string of text.\n",
    "    - return_df_a (bool): If True, returns filtered content for prefixes_a as a pandas DataFrame.\n",
    "    - return_df_b (bool): If True, and if prefixes_b is provided, returns filtered content for prefixes_b as a pandas DataFrame.\n",
    "\n",
    "    Returns:\n",
    "    - Tuple: A tuple where the first element is the filtered content for prefixes_a, and the second element is the filtered content for prefixes_b.\n",
    "    \"\"\"\n",
    "    filtered_lines_a = []\n",
    "    filtered_lines_b = []\n",
    "    prefix_set_a = set(prefixes_a)\n",
    "    if prefixes_b is not None:\n",
    "        prefix_set_b = set(prefixes_b)\n",
    "\n",
    "    # Use generator to get lines\n",
    "    for line in line_generator(source, source_type):\n",
    "        matched_a = any(line.startswith(prefix) for prefix in prefix_set_a)\n",
    "        if matched_a != unselect:\n",
    "            filtered_lines_a.append(line)\n",
    "        if prefixes_b is not None:\n",
    "            matched_b = any(line.startswith(prefix) for prefix in prefix_set_b)\n",
    "            if matched_b != unselect:\n",
    "                filtered_lines_b.append(line)\n",
    "\n",
    "    filtered_content_a = '\\n'.join(filtered_lines_a)\n",
    "    if return_df_a:\n",
    "        filtered_content_a = pd.read_csv(io.StringIO(filtered_content_a), delimiter='\\t', low_memory=False, on_bad_lines='skip')\n",
    "    filtered_content_b = None\n",
    "    if filtered_lines_b:\n",
    "        filtered_content_b = '\\n'.join(filtered_lines_b)\n",
    "        if return_df_b:\n",
    "            filtered_content_b = pd.read_csv(io.StringIO(filtered_content_b), delimiter='\\t', low_memory=False, on_bad_lines='skip')\n",
    "\n",
    "    return filtered_content_a, filtered_content_b\n",
    "\n",
    "\n",
    "def get_background_and_clinical_data(file_path,\n",
    "                                     prefixes_a=['!Series_title', '!Series_summary', '!Series_overall_design'],\n",
    "                                     prefixes_b=['!Sample_geo_accession', '!Sample_characteristics_ch1']):\n",
    "    \"\"\"Extract from a matrix file the background information about the dataset, and sample characteristics data\"\"\"\n",
    "    background_info, clinical_data = filter_content_by_prefix(file_path, prefixes_a, prefixes_b, unselect=False,\n",
    "                                                              source_type='file',\n",
    "                                                              return_df_a=False, return_df_b=True)\n",
    "    return background_info, clinical_data\n",
    "\n",
    "\n",
    "def get_gene_annotation(file_path, prefixes=['^', '!', '#']):\n",
    "    \"\"\"Extract from a SOFT file the gene annotation data\"\"\"\n",
    "    gene_metadata = filter_content_by_prefix(file_path, prefixes_a=prefixes, unselect=True, source_type='file',\n",
    "                                             return_df_a=True)\n",
    "    return gene_metadata[0]\n",
    "\n",
    "\n",
    "def get_gene_mapping(annotation, prob_col, gene_col):\n",
    "    \"\"\"Process the gene annotation to get the mapping between gene names and gene probes.\n",
    "    \"\"\"\n",
    "    mapping_data = annotation.loc[:, [prob_col, gene_col]]\n",
    "    mapping_data = mapping_data.dropna()\n",
    "    mapping_data = mapping_data.rename(columns={gene_col: 'Gene'}).astype({'ID': 'str'})\n",
    "\n",
    "    return mapping_data\n",
    "\n",
    "\n",
    "def get_genetic_data(file_path):\n",
    "    \"\"\"Read the gene expression data into a dataframe, and adjust its format\"\"\"\n",
    "    genetic_data = pd.read_csv(file_path, compression='gzip', skiprows=52, comment='!', delimiter='\\t')\n",
    "    genetic_data = genetic_data.dropna()\n",
    "    genetic_data = genetic_data.rename(columns={'ID_REF': 'ID'}).astype({'ID': 'str'})\n",
    "    genetic_data.set_index('ID', inplace=True)\n",
    "\n",
    "    return genetic_data\n",
    "\n",
    "\n",
    "def apply_gene_mapping(expression_df, mapping_df):\n",
    "    \"\"\"\n",
    "    Converts measured data about gene probes into gene expression data.\n",
    "    Handles the potential many-to-many relationship between probes and genes.\n",
    "\n",
    "    Parameters:\n",
    "    expression_df (DataFrame): A DataFrame with gene expression data, indexed by 'ID'.\n",
    "    mapping_df (DataFrame): A DataFrame mapping 'ID' to 'Gene', with 'ID' as a column.\n",
    "\n",
    "    Returns:\n",
    "    DataFrame: A DataFrame with mean gene expression values, indexed by 'Gene'.\n",
    "    \"\"\"\n",
    "\n",
    "    # Define a regex pattern for splitting gene names\n",
    "    split_pattern = r';|\\|+|/{2,}|,|\\[|\\]|\\(|\\)'\n",
    "\n",
    "    # Split the 'Gene' column in 'mapping_df' using the regex pattern\n",
    "    mapping_df['Gene'] = mapping_df['Gene'].str.split(split_pattern)\n",
    "    mapping_df = mapping_df.explode('Gene')\n",
    "\n",
    "    # Set 'ID' as the index of 'mapping_df' for merging\n",
    "    mapping_df.set_index('ID', inplace=True)\n",
    "\n",
    "    # Merge 'mapping_df' with 'expression_df' by their indices\n",
    "    merged_df = mapping_df.join(expression_df)\n",
    "\n",
    "    # Group by 'Gene' and calculate the mean expression values\n",
    "    gene_expression_df = merged_df.groupby('Gene').mean().dropna()\n",
    "\n",
    "    return gene_expression_df\n",
    "\n",
    "\n",
    "def normalize_gene_symbols(gene_symbols, batch_size=1000):\n",
    "    \"\"\"Normalize human gene symbols in batches using the 'mygenes' library\"\"\"\n",
    "    mg = mygene.MyGeneInfo()\n",
    "    normalized_genes = {}\n",
    "\n",
    "    # Process in batches\n",
    "    for i in range(0, len(gene_symbols), batch_size):\n",
    "        batch = gene_symbols[i:i + batch_size]\n",
    "        results = mg.querymany(batch, scopes='symbol', fields='symbol', species='human', verbose=False)\n",
    "\n",
    "        # Update the normalized_genes dictionary with results from this batch\n",
    "        for gene in results:\n",
    "            normalized_genes[gene['query']] = gene.get('symbol', None)\n",
    "\n",
    "    # Return the normalized symbols in the same order as the input\n",
    "    return [normalized_genes.get(symbol) for symbol in gene_symbols]\n",
    "\n",
    "\n",
    "def normalize_gene_symbols_in_index(gene_df):\n",
    "    \"\"\"Normalize the human gene symbols at the index of a dataframe, and replace the index with its normalized version.\n",
    "    Remove the rows where the index failed to be normalized.\"\"\"\n",
    "    normalized_gene_list = normalize_gene_symbols(gene_df.index.tolist())\n",
    "    assert len(normalized_gene_list) == len(gene_df.index)\n",
    "    gene_df.index = normalized_gene_list\n",
    "    gene_df = gene_df[gene_df.index.notnull()]\n",
    "    return gene_df\n",
    "\n",
    "\n",
    "def get_feature_data(clinical_df, row_id, feature, convert_fn):\n",
    "    \"\"\"select the row corresponding to a feature in the sample characteristics dataframe, and convert the feature into\n",
    "    a binary or continuous variable\"\"\"\n",
    "    clinical_df = clinical_df.iloc[row_id:row_id + 1].drop(columns=['!Sample_geo_accession'], errors='ignore')\n",
    "    clinical_df.index = [feature]\n",
    "    clinical_df = clinical_df.applymap(convert_fn)\n",
    "\n",
    "    return clinical_df\n",
    "\n",
    "\n",
    "def plot_numeric_distribution(df, column):\n",
    "    \"\"\"Plot the distribution of a numeric variable stored in the given column of a dataframe\"\"\"\n",
    "    plt.figure(figsize=(10, 6))\n",
    "    sns.histplot(df[column], kde=True, bins=30)\n",
    "    plt.title(f'Distribution of {column.capitalize()}')\n",
    "    plt.xlabel('')\n",
    "    plt.ylabel('Frequency')\n",
    "    plt.show()\n",
    "\n",
    "\n",
    "def plot_categorical_distribution(df, column):\n",
    "    \"\"\"Plot the distribution of a categorical variable stored in the given column of a dataframe\"\"\"\n",
    "    plt.figure(figsize=(10, 6))\n",
    "    sns.countplot(y=column, data=df, order=df[column].value_counts().index)\n",
    "    plt.title(f'Distribution of {column.capitalize()}')\n",
    "    plt.xlabel('Frequency')\n",
    "    plt.ylabel('')\n",
    "    plt.show()\n",
    "\n",
    "\n",
    "def analyze_distributions(df, numerical_columns, categorical_columns):\n",
    "    \"\"\"Plot the distribution of the numerical and categorical variables stored in given columns of a dataframe\"\"\"\n",
    "    for col in numerical_columns:\n",
    "        plot_numeric_distribution(df, col)\n",
    "\n",
    "    for col in categorical_columns:\n",
    "        plot_categorical_distribution(df, col)\n",
    "\n",
    "\n",
    "def normalize_data(X_train, X_test=None):\n",
    "    \"\"\"Compute the mean and standard deviation statistics of the training data, use them to normalize the training data,\n",
    "    and optionally the test data\"\"\"\n",
    "    mean = np.mean(X_train, axis=0)\n",
    "    std = np.std(X_train, axis=0)\n",
    "\n",
    "    # Handling columns with std = 0\n",
    "    std_no_zero = np.where(std == 0, 1, std)\n",
    "\n",
    "    # Normalize X_train\n",
    "    X_train_normalized = (X_train - mean) / std_no_zero\n",
    "    # Set normalized values to 0 where std was 0\n",
    "    X_train_normalized[:, std == 0] = 0\n",
    "\n",
    "    if X_test is not None:\n",
    "        X_test_normalized = (X_test - mean) / std_no_zero\n",
    "        X_test_normalized[:, std == 0] = 0\n",
    "    else:\n",
    "        X_test_normalized = None\n",
    "\n",
    "    return X_train_normalized, X_test_normalized\n",
    "\n",
    "\n",
    "class ResidualizationRegressor:\n",
    "    def __init__(self, regression_model_constructor, params=None):\n",
    "        if params is None:\n",
    "            params = {}\n",
    "        self.regression_model = regression_model_constructor(**params)\n",
    "        self.beta_Z = None  # Coefficients for regression of Y on Z\n",
    "        self.beta_X = None  # Coefficients for regression of residual on X\n",
    "        self.neg_log_p_values = None  # Negative logarithm of p-values\n",
    "        self.p_values = None  # Actual p-values\n",
    "\n",
    "    def _reshape_data(self, data):\n",
    "        \"\"\"\n",
    "        Reshape the data to ensure it's in the correct format (2D array).\n",
    "\n",
    "        :param data: The input data (can be 1D or 2D array).\n",
    "        :return: Reshaped 2D array.\n",
    "        \"\"\"\n",
    "        if data.ndim == 1:\n",
    "            return data.reshape(-1, 1)\n",
    "        return data\n",
    "\n",
    "    def _reshape_output(self, data):\n",
    "        \"\"\"\n",
    "        Reshape the output data to ensure it's in the correct format (1D array).\n",
    "\n",
    "        :param data: The output data (can be 1D or 2D array).\n",
    "        :return: Reshaped 1D array.\n",
    "        \"\"\"\n",
    "        if data.ndim == 2 and data.shape[1] == 1:\n",
    "            return data.ravel()\n",
    "        return data\n",
    "\n",
    "    def fit(self, X, Y, Z):\n",
    "        X = self._reshape_data(X)\n",
    "        Y = self._reshape_data(Y)\n",
    "        Z = self._reshape_data(Z)\n",
    "\n",
    "        # Step 1: Linear regression of Y on Z\n",
    "        Z_ones = np.column_stack((np.ones(Z.shape[0]), Z))\n",
    "        self.beta_Z = np.linalg.pinv(Z_ones.T @ Z_ones) @ Z_ones.T @ Y\n",
    "        Y_hat = Z_ones @ self.beta_Z\n",
    "        e_Y = Y - Y_hat  # Residual of Y\n",
    "\n",
    "        # Step 2: Regress the residual on X using the included regression model\n",
    "        self.regression_model.fit(X, e_Y)\n",
    "\n",
    "        # Obtain coefficients from the regression model\n",
    "        if hasattr(self.regression_model, 'coef_'):\n",
    "            self.beta_X = self.regression_model.coef_\n",
    "        elif hasattr(self.regression_model, 'getBeta'):\n",
    "            beta_output = self.regression_model.getBeta()\n",
    "            self.beta_X = self._reshape_output(beta_output)\n",
    "\n",
    "        # Obtain negative logarithm of p-values, if available\n",
    "        if hasattr(self.regression_model, 'getNegLogP'):\n",
    "            neg_log_p_output = self.regression_model.getNegLogP()\n",
    "            if neg_log_p_output is not None:\n",
    "                self.neg_log_p_values = self._reshape_output(neg_log_p_output)\n",
    "                self.p_values = np.exp(-self.neg_log_p_values)\n",
    "                # Concatenate the p-values of Z and X. The p-values of Z were not computed, mark with NaN.\n",
    "                p_values_Z = np.full(Z.shape[1], np.nan)\n",
    "                self.p_values = np.concatenate((p_values_Z, self.p_values))\n",
    "\n",
    "    def predict(self, X, Z):\n",
    "        X = self._reshape_data(X)\n",
    "        Z = self._reshape_data(Z)\n",
    "\n",
    "        Z_ones = np.column_stack((np.ones(Z.shape[0]), Z))\n",
    "        ZX = np.column_stack((Z, X))\n",
    "        combined_beta = np.concatenate((self.beta_Z[1:].ravel(), self.beta_X.ravel()))\n",
    "        return ZX @ combined_beta + self.beta_Z[0]\n",
    "\n",
    "    def get_coefficients(self):\n",
    "        return np.concatenate((self.beta_Z[1:].ravel(), self.beta_X.ravel()))\n",
    "\n",
    "    def get_p_values(self):\n",
    "        return self.p_values\n",
    "\n",
    "\n",
    "def cross_validation(X, Y, Z, model_constructor, model_params, k=5, target_type='binary'):\n",
    "    assert target_type in ['binary', 'continuous'], \"The target type must be chosen from 'binary' or 'continuous'\"\n",
    "    indices = np.arange(X.shape[0])\n",
    "    np.random.shuffle(indices)\n",
    "\n",
    "    fold_size = len(X) // k\n",
    "    performances = []\n",
    "\n",
    "    for i in range(k):\n",
    "        # Split data into train and test based on the current fold\n",
    "        test_indices = indices[i * fold_size: (i + 1) * fold_size]\n",
    "        train_indices = np.setdiff1d(indices, test_indices)\n",
    "\n",
    "        X_train, X_test = X[train_indices], X[test_indices]\n",
    "        Y_train, Y_test = Y[train_indices], Y[test_indices]\n",
    "        Z_train, Z_test = Z[train_indices], Z[test_indices]\n",
    "\n",
    "        normalized_X_train, normalized_X_test = normalize_data(X_train, X_test)\n",
    "        normalized_Z_train, normalized_Z_test = normalize_data(Z_train, Z_test)\n",
    "\n",
    "        # model = model_constructor(**model_params)\n",
    "        model = ResidualizationRegressor(model_constructor, model_params)\n",
    "        model.fit(normalized_X_train, Y_train, normalized_Z_train)\n",
    "        predictions = model.predict(normalized_X_test, normalized_Z_test)\n",
    "\n",
    "        if target_type == 'binary':\n",
    "            predictions = (predictions > 0.5).astype(int)\n",
    "            Y_test = (Y_test > 0.5).astype(int)\n",
    "            performance = accuracy_score(Y_test, predictions)\n",
    "        elif target_type == 'continuous':\n",
    "            performance = mean_squared_error(Y_test, predictions)\n",
    "\n",
    "        performances.append(performance)\n",
    "\n",
    "    cv_mean = np.mean(performances)\n",
    "    cv_std = np.std(performances)\n",
    "\n",
    "    if target_type == 'binary':\n",
    "        print(f'The cross-validation accuracy is {(cv_mean * 100):.2f}% ± {(cv_std * 100):.2f}%')\n",
    "    else:\n",
    "        print(f'The cross-validation MSE is {(cv_mean * 100):.2f} ± {(cv_std * 100):.2f}')\n",
    "\n",
    "    return cv_mean, cv_std\n",
    "\n",
    "\n",
    "def get_feature_related_genes(file_path, feature, normalize):\n",
    "    \"\"\"Read a csv file into a dataframe about gene-trait association, and get the gene symbols related to a given\n",
    "    trait\"\"\"\n",
    "    related_gene_df = pd.read_csv(file_path)\n",
    "    related_gene_df = related_gene_df.loc[:, ['Disease Name', 'Corresponding_Gene_Symbol']].set_index('Disease Name')\n",
    "    feature_related_genes = related_gene_df.loc[feature].tolist()[0].strip().split(',')\n",
    "    feature_related_genes = [gn.strip() for gn in feature_related_genes]\n",
    "    if normalize:\n",
    "        feature_related_genes = normalize_gene_symbols(feature_related_genes)\n",
    "\n",
    "    return feature_related_genes\n",
    "\n",
    "\n",
    "def get_gene_regressors(trait, trait_df, condition_df, related_genes):\n",
    "    \"\"\"Find the appropriate genes for two-step regression. Compare the indices of two dataframes to find the genes\n",
    "    in common, and select those that are known to be related to a trait\"\"\"\n",
    "    gene_regressors = None\n",
    "    genes_in_trait_data = set(trait_df.columns) - {'Age', 'Gender', trait}\n",
    "    genes_in_condition_data = set(condition_df.columns) - {'Age', 'Gender', trait}\n",
    "\n",
    "    common_genes_across_data = genes_in_trait_data.intersection(genes_in_condition_data)\n",
    "    if len(common_genes_across_data) == 0:\n",
    "        #print(\"The trait and condition datasets have no genes in common. Please try other datasets\")\n",
    "        return None\n",
    "    else:\n",
    "        ##print(\n",
    "            ## f\"The trait and condition datasets have {len(common_genes_across_data)} genes in common, such as {list(common_genes_across_data)[:10]}.\")\n",
    "        common_genes = [g for g in related_genes if g in common_genes_across_data]\n",
    "        if len(common_genes) > 0:\n",
    "            gene_regressors = list(common_genes)[:10]\n",
    "            #print(\n",
    "                #f\"Found {len(common_genes)} candidate genes that can be used in two-step regression analysis, such as {gene_regressors[:10]}.\")\n",
    "        else:\n",
    "            #print(\n",
    "                #f\"The condition and trait datasets have common genes, but among them we didn't find indicator genes for the condition\")\n",
    "            return None\n",
    "\n",
    "    return gene_regressors\n",
    "\n",
    "\n",
    "def normalize_trait(trait):\n",
    "    trait = '-'.join(trait.split())\n",
    "    normalized_trait = ''.join(trait.split(\"'\"))\n",
    "    return normalized_trait\n",
    "\n",
    "def interpret_result(model: Any, feature_names: List[str], trait: str, condition: str,\n",
    "                     threshold: float = 0.05, save_output: bool = True,\n",
    "                     output_dir: str = './output', model_id: int = 1) -> None:\n",
    "    \"\"\"This function interprets and reports the result of a trained linear regression model, where the regressor\n",
    "    consists of one variable about condition and multiple variables about genetic factors.\n",
    "    The function extracts coefficients and p-values from the model, and identifies the significant genes based on\n",
    "    p-values or non-zero coefficients, depending on the availability of p-values.\n",
    "\n",
    "    Parameters:\n",
    "    model (Any): The trained regression Model.\n",
    "    feature_names (List[str]): A list of feature names corresponding to the model's coefficients.\n",
    "    trait (str): The target trait of interest.\n",
    "    condition (str): The specific condition to examine within the model.\n",
    "    threshold (float): Significance level for p-value correction. Defaults to 0.05.\n",
    "    save_output (bool): Flag to determine whether to save the output to a file. Defaults to True.\n",
    "    output_dir (str): Directory path where output files are saved. Defaults to './output'.\n",
    "    model_id (int): The index of the model, 1 or 2.\n",
    "\n",
    "    Returns:\n",
    "    None: This function does not return anything but prints and optionally saves the output.\n",
    "    \"\"\"\n",
    "    coefficients = model.get_coefficients().reshape(-1).tolist()\n",
    "    p_values = model.get_p_values()\n",
    "    if p_values is None:\n",
    "        regression_df = pd.DataFrame({\n",
    "            'Variable': feature_names,\n",
    "            'Coefficient': coefficients\n",
    "        })\n",
    "    else:\n",
    "        regression_df = pd.DataFrame({\n",
    "            'Variable': feature_names,\n",
    "            'Coefficient': coefficients,\n",
    "            'p_value': p_values.reshape(-1).tolist()\n",
    "        })\n",
    "\n",
    "    condition_effect = regression_df[regression_df['Variable'] == condition].iloc[0]\n",
    "\n",
    "    print(f\"Effect of the condition on the target variable:\")\n",
    "    print(f\"Variable: {condition}\")\n",
    "    print(f\"Coefficient: {condition_effect['Coefficient']:.4f}\")\n",
    "    gene_regression_df = regression_df[regression_df['Variable'] != condition]\n",
    "    if p_values is None:\n",
    "        gene_regression_df['Absolute Coefficient'] = gene_regression_df['Coefficient'].abs()\n",
    "        significant_genes = gene_regression_df[gene_regression_df['Coefficient'] != 0]\n",
    "        significant_genes_sorted = significant_genes.sort_values(by='Absolute Coefficient', ascending=False)\n",
    "        print(\n",
    "            f\"Found {len(significant_genes_sorted)} genes with non-zero coefficients associated with the trait '{trait}' \"\n",
    "            f\"conditional on the factor '{condition}'. These genes are identified as significant based on the regression model.\")\n",
    "    else:\n",
    "        # Apply the Benjamini-Hochberg correction, to get the corrected p-values\n",
    "        corrected_p_values = multipletests(gene_regression_df['p_value'], alpha=threshold, method='fdr_bh')[1]\n",
    "        gene_regression_df.loc[:, 'corrected_p_value'] = corrected_p_values\n",
    "        significant_genes = gene_regression_df.loc[gene_regression_df['corrected_p_value'] < threshold]\n",
    "        significant_genes_sorted = significant_genes.sort_values('corrected_p_value')\n",
    "        print(\n",
    "            f\"Found {len(significant_genes_sorted)} significant genes associated with the trait '{trait}' conditional on \"\n",
    "            f\"the factor '{condition}', with corrected p-value < {threshold}:\")\n",
    "\n",
    "    print(significant_genes_sorted.to_string(index=False))\n",
    "\n",
    "    nm_condition = normalize_trait(condition)\n",
    "    # Optionally, save this to a CSV file\n",
    "    if save_output:\n",
    "        significant_genes_sorted.to_csv(\n",
    "            os.path.join(output_dir, f'significant_genes_condition_{nm_condition}_{model_id}.csv'), index=False)\n",
    "\n",
    "\n",
    "def judge_binary_variable_biased(dataframe, col_name, min_proportion=0.1, min_num=5):\n",
    "    \"\"\"\n",
    "    Check if the distribution of a binary variable in the dataset is too biased to be usable for analysis\n",
    "    :param dataframe:\n",
    "    :param col_name:\n",
    "    :param min_proportion:\n",
    "    :param min_num:\n",
    "    :return:\n",
    "    \"\"\"\n",
    "    label_counter = dataframe[col_name].value_counts()\n",
    "    total_samples = len(dataframe)\n",
    "    rare_label_num = label_counter.min()\n",
    "    rare_label = label_counter.idxmin()\n",
    "    rare_label_proportion = rare_label_num / total_samples\n",
    "\n",
    "    print(\n",
    "        f\"For the feature \\'{col_name}\\', the least common label is '{rare_label}' with {rare_label_num} occurrences. This represents {rare_label_proportion:.2%} of the dataset.\")\n",
    "\n",
    "    biased = (len(label_counter) < 2) or ((rare_label_proportion < min_proportion) and (rare_label_num < min_num))\n",
    "    return bool(biased)\n",
    "\n",
    "\n",
    "def judge_continuous_variable_biased(dataframe, col_name):\n",
    "    \"\"\"Check if the distribution of a continuous variable in the dataset is too biased to be usable for analysis.\n",
    "    As a starting point, we consider it biased if all values are the same. For the next step, maybe ask GPT to judge\n",
    "    based on quartile statistics combined with its common sense knowledge about this feature.\n",
    "    \"\"\"\n",
    "    quartiles = dataframe[col_name].quantile([0.25, 0.5, 0.75])\n",
    "    min_value = dataframe[col_name].min()\n",
    "    max_value = dataframe[col_name].max()\n",
    "\n",
    "    # Printing quartile information\n",
    "    print(f\"Quartiles for '{col_name}':\")\n",
    "    print(f\"  25%: {quartiles[0.25]}\")\n",
    "    print(f\"  50% (Median): {quartiles[0.5]}\")\n",
    "    print(f\"  75%: {quartiles[0.75]}\")\n",
    "    print(f\"Min: {min_value}\")\n",
    "    print(f\"Max: {max_value}\")\n",
    "\n",
    "    biased = min_value == max_value\n",
    "\n",
    "    return bool(biased)\n",
    "\n",
    "\n",
    "def check_rows_and_columns(dataframe, display=False):\n",
    "    \"\"\"\n",
    "    Get the lists of row names and column names of a dataset, and optionally observe them.\n",
    "    :param dataframe:\n",
    "    :param display:\n",
    "    :return:\n",
    "    \"\"\"\n",
    "    dataframe_rows = dataframe.index.tolist()\n",
    "    if display:\n",
    "        print(f\"The dataset has {len(dataframe_rows)} rows, such as {dataframe_rows[:20]}\")\n",
    "    dataframe_cols = dataframe.columns.tolist()\n",
    "    if display:\n",
    "        print(f\"\\nThe dataset has {len(dataframe_cols)} columns, such as {dataframe_cols[:20]}\")\n",
    "    return dataframe_rows, dataframe_cols\n",
    "\n",
    "\n",
    "def xena_convert_trait(row_index: str):\n",
    "    \"\"\"\n",
    "    Convert the trait information from Sample IDs to labels depending on the last two digits.\n",
    "    Tumor types range from 01 - 09, normal types from 10 - 19.\n",
    "    :param row_index: the index value of a row\n",
    "    :return: the converted value\n",
    "    \"\"\"\n",
    "    last_two_digits = int(row_index[-2:])\n",
    "\n",
    "    if 1 <= last_two_digits <= 9:\n",
    "        return 1\n",
    "    elif 10 <= last_two_digits <= 19:\n",
    "        return 0\n",
    "    else:\n",
    "        return -1\n",
    "\n",
    "\n",
    "def xena_convert_gender(cell: str):\n",
    "    \"\"\"Convert the cell content about gender to a binary value\n",
    "    \"\"\"\n",
    "    if isinstance(cell, str):\n",
    "        cell = cell.lower()\n",
    "\n",
    "    if cell == \"female\":\n",
    "        return 0\n",
    "    elif cell == \"male\":\n",
    "        return 1\n",
    "    else:\n",
    "        return None\n",
    "\n",
    "\n",
    "def xena_convert_age(cell: str):\n",
    "    \"\"\"Convert the cell content about age to a numerical value using regular expression\n",
    "    \"\"\"\n",
    "    match = re.search(r'\\d+', str(cell))\n",
    "    if match:\n",
    "        return int(match.group())\n",
    "    else:\n",
    "        return None\n",
    "\n",
    "\n",
    "def detect_batch_effect(X):\n",
    "    \"\"\"\n",
    "    Detect potential batch effects in a dataset using eigenvalues of XX^T.\n",
    "\n",
    "    Args:\n",
    "    X (numpy.ndarray): A feature matrix with shape (n_samples, n_features).\n",
    "\n",
    "    Returns:\n",
    "    bool: True if a potential batch effect is detected, False otherwise.\n",
    "    \"\"\"\n",
    "    n_samples = X.shape[0]\n",
    "\n",
    "    # Computing XX^T\n",
    "    XXt = np.dot(X, X.T)\n",
    "\n",
    "    # Compute the eigenvalues of XX^T\n",
    "    eigen_values = np.linalg.eigvalsh(XXt)  # Using eigvalsh since XX^T is symmetric\n",
    "    eigen_values = sorted(eigen_values, reverse=True)[:10]\n",
    "    eigen_values = np.array(eigen_values)\n",
    "    normalized_ev = eigen_values / eigen_values[0]\n",
    "\n",
    "    # Check for large gaps in the eigenvalues\n",
    "    for i in range(len(normalized_ev) - 1):\n",
    "        gap = normalized_ev[i] - normalized_ev[i + 1]\n",
    "        if gap > 1 / n_samples:  # You may need to adjust this threshold\n",
    "            return True\n",
    "\n",
    "    return False\n",
    "\n",
    "\n",
    "def get_unique_values_by_row(dataframe, max_len=30):\n",
    "    \"\"\"\n",
    "    Organize the unique values in each row of the given dataframe, to get a dictionary\n",
    "    :param dataframe:\n",
    "    :param max_len:\n",
    "    :return:\n",
    "    \"\"\"\n",
    "    if '!Sample_geo_accession' in dataframe.columns:\n",
    "        dataframe = dataframe.drop(columns=['!Sample_geo_accession'])\n",
    "    unique_values_dict = {}\n",
    "    for index, row in dataframe.iterrows():\n",
    "        unique_values = list(row.unique())[:max_len]\n",
    "        unique_values_dict[index] = unique_values\n",
    "    return unique_values_dict\n",
    "\n",
    "\n",
    "def xena_select_clinical_features(clinical_df, trait, age_col=None, gender_col=None):\n",
    "    feature_list = []\n",
    "    trait_data = clinical_df.index.to_series().apply(xena_convert_trait).rename(trait)\n",
    "    feature_list.append(trait_data)\n",
    "    if age_col:\n",
    "        age_data = clinical_df[age_col].apply(xena_convert_age).rename(\"Age\")\n",
    "        feature_list.append(age_data)\n",
    "    if gender_col:\n",
    "        gender_data = clinical_df[gender_col].apply(xena_convert_gender).rename(\"Gender\")\n",
    "        feature_list.append(gender_data)\n",
    "    selected_clinical_df = pd.concat(feature_list, axis=1)\n",
    "    return selected_clinical_df\n",
    "\n",
    "\n",
    "def geo_select_clinical_features(clinical_df: pd.DataFrame, trait: str, trait_row: int,\n",
    "                                 convert_trait: Callable,\n",
    "                                 age_row: Optional[int] = None,\n",
    "                                 convert_age: Optional[Callable] = None,\n",
    "                                 gender_row: Optional[int] = None,\n",
    "                                 convert_gender: Optional[Callable] = None) -> pd.DataFrame:\n",
    "    \"\"\"\n",
    "    Extracts and processes specific clinical features from a DataFrame representing\n",
    "    sample characteristics in the GEO database series.\n",
    "\n",
    "    Parameters:\n",
    "    - clinical_df (pd.DataFrame): DataFrame containing clinical data.\n",
    "    - trait (str): The trait of interest.\n",
    "    - trait_row (int): Row identifier for the trait in the DataFrame.\n",
    "    - convert_trait (Callable): Function to convert trait data into a desired format.\n",
    "    - age_row (int, optional): Row identifier for age data. Default is None.\n",
    "    - convert_age (Callable, optional): Function to convert age data. Default is None.\n",
    "    - gender_row (int, optional): Row identifier for gender data. Default is None.\n",
    "    - convert_gender (Callable, optional): Function to convert gender data. Default is None.\n",
    "\n",
    "    Returns:\n",
    "    pd.DataFrame: A DataFrame containing the selected and processed clinical features.\n",
    "    \"\"\"\n",
    "    feature_list = []\n",
    "\n",
    "    trait_data = get_feature_data(clinical_df, trait_row, trait, convert_trait)\n",
    "    feature_list.append(trait_data)\n",
    "    if age_row is not None:\n",
    "        age_data = get_feature_data(clinical_df, age_row, 'Age', convert_age)\n",
    "        feature_list.append(age_data)\n",
    "    if gender_row is not None:\n",
    "        gender_data = get_feature_data(clinical_df, gender_row, 'Gender', convert_gender)\n",
    "        feature_list.append(gender_data)\n",
    "\n",
    "    selected_clinical_df = pd.concat(feature_list, axis=0)\n",
    "    return selected_clinical_df\n",
    "\n",
    "\n",
    "def geo_merge_clinical_genetic_data(clinical_df, genetic_df):\n",
    "    \"\"\"\n",
    "    Merge the clinical features and gene expression features from two dataframes into one dataframe\n",
    "    \"\"\"\n",
    "    if 'ID' in genetic_df.columns:\n",
    "        genetic_df = genetic_df.rename(columns={'ID': 'Gene'})\n",
    "    if 'Gene' in genetic_df.columns:\n",
    "        genetic_df = genetic_df.set_index('Gene')\n",
    "    merged_data = pd.concat([clinical_df, genetic_df], axis=0).T.dropna()\n",
    "    return merged_data\n",
    "\n",
    "\n",
    "def judge_and_remove_biased_features(df, trait, trait_type):\n",
    "    assert trait_type in [\"binary\", \"continuous\"], f\"The trait must be either a binary or a continuous variable!\"\n",
    "    if trait_type == \"binary\":\n",
    "        trait_biased = judge_binary_variable_biased(df, trait)\n",
    "    else:\n",
    "        trait_biased = judge_continuous_variable_biased(df, trait)\n",
    "    if trait_biased:\n",
    "        print(f\"The distribution of the feature \\'{trait}\\' in this dataset is severely biased.\\n\")\n",
    "    else:\n",
    "        print(f\"The distribution of the feature \\'{trait}\\' in this dataset is fine.\\n\")\n",
    "    if \"Age\" in df.columns:\n",
    "        age_biased = judge_continuous_variable_biased(df, 'Age')\n",
    "        if age_biased:\n",
    "            print(f\"The distribution of the feature \\'Age\\' in this dataset is severely biased.\\n\")\n",
    "            df = df.drop(columns='Age')\n",
    "        else:\n",
    "            print(f\"The distribution of the feature \\'Age\\' in this dataset is fine.\\n\")\n",
    "    if \"Gender\" in df.columns:\n",
    "        gender_biased = judge_binary_variable_biased(df, 'Gender')\n",
    "        if gender_biased:\n",
    "            print(f\"The distribution of the feature \\'Gender\\' in this dataset is severely biased.\\n\")\n",
    "            df = df.drop(columns='Gender')\n",
    "        else:\n",
    "            print(f\"The distribution of the feature \\'Gender\\' in this dataset is fine.\\n\")\n",
    "\n",
    "    return trait_biased, df\n",
    "\n",
    "\n",
    "def save_cohort_info(cohort: str, info_path: str, is_available: bool, is_biased: Optional[bool] = None,\n",
    "                     df: Optional[pd.DataFrame] = None, note: str = '') -> None:\n",
    "    \"\"\"\n",
    "    Add or update information about the usability and quality of a dataset for statistical analysis.\n",
    "\n",
    "    Parameters:\n",
    "    cohort (str): A unique identifier for the dataset.\n",
    "    info_path (str): File path to the JSON file where records are stored.\n",
    "    is_available (bool): Indicates whether both the genetic data and trait data are available in the dataset, and can be\n",
    "     preprocessed into a dataframe.\n",
    "    is_biased (bool, optional): Indicates whether the dataset is too biased to be usable.\n",
    "        Required if `is_available` is True.\n",
    "    df (pandas.DataFrame, optional): The preprocessed dataset. Required if `is_available` is True.\n",
    "    note (str, optional): Additional notes about the dataset.\n",
    "\n",
    "    Returns:\n",
    "    None: The function does not return a value but updates or creates a record in the specified JSON file.\n",
    "    \"\"\"\n",
    "    if is_available:\n",
    "        assert (df is not None) and (is_biased is not None), \"'df' and 'is_biased' should be provided if this cohort \" \\\n",
    "                                                             \"is relevant.\"\n",
    "    is_usable = is_available and (not is_biased)\n",
    "    new_record = {\"is_usable\": is_usable,\n",
    "                  \"is_available\": is_available,\n",
    "                  \"is_biased\": is_biased if is_available else None,\n",
    "                  \"has_age\": \"Age\" in df.columns if is_available else None,\n",
    "                  \"has_gender\": \"Gender\" in df.columns if is_available else None,\n",
    "                  \"sample_size\": len(df) if is_available else None,\n",
    "                  \"note\": note}\n",
    "\n",
    "    trait_directory = os.path.dirname(info_path)\n",
    "    os.makedirs(trait_directory, exist_ok=True)\n",
    "    if not os.path.exists(info_path):\n",
    "        with open(info_path, 'w') as file:\n",
    "            json.dump({}, file)\n",
    "        print(f\"A new JSON file was created at: {info_path}\")\n",
    "\n",
    "    with open(info_path, \"r\") as file:\n",
    "        records = json.load(file)\n",
    "    records[cohort] = new_record\n",
    "\n",
    "    temp_path = info_path + \".tmp\"\n",
    "    try:\n",
    "        with open(temp_path, 'w') as file:\n",
    "            json.dump(records, file)\n",
    "        os.replace(temp_path, info_path)\n",
    "\n",
    "    except Exception as e:\n",
    "        print(f\"An error occurred: {e}\")\n",
    "        if os.path.exists(temp_path):\n",
    "            os.remove(temp_path)\n",
    "        raise\n",
    "\n",
    "\n",
    "def read_json_to_dataframe(json_file: str) -> pd.DataFrame:\n",
    "    \"\"\"\n",
    "    Reads a JSON file and converts it into a pandas DataFrame.\n",
    "\n",
    "    Args:\n",
    "    json_file (str): The path to the JSON file containing the data.\n",
    "\n",
    "    Returns:\n",
    "    DataFrame: A pandas DataFrame with the JSON data.\n",
    "    \"\"\"\n",
    "    with open(json_file, 'r') as file:\n",
    "        data = json.load(file)\n",
    "    return pd.DataFrame.from_dict(data, orient='index').reset_index().rename(columns={'index': 'cohort_id'})\n",
    "\n",
    "\n",
    "def filter_and_rank_cohorts(json_file: str, condition: Union[str, None] = None) -> Tuple[\n",
    "    Union[str, None], pd.DataFrame]:\n",
    "    \"\"\"\n",
    "    Reads a JSON file, filters cohorts based on usability and an optional condition, then ranks them by sample size.\n",
    "\n",
    "    Args:\n",
    "    json_file (str): The path to the JSON file containing the data.\n",
    "    condition (str, optional): An additional condition for filtering. If None, only 'is_usable' is considered.\n",
    "\n",
    "    Returns:\n",
    "    Tuple: A tuple containing the best cohort ID (str or None if no suitable cohort is found) and\n",
    "           the filtered and ranked DataFrame.\n",
    "    \"\"\"\n",
    "    # Read the JSON file into a DataFrame\n",
    "    df = read_json_to_dataframe(json_file)\n",
    "\n",
    "    if condition:\n",
    "        filtered_df = df[(df['is_usable'] == True) & (df[condition] == True)]\n",
    "    else:\n",
    "        filtered_df = df[df['is_usable'] == True]\n",
    "\n",
    "    ranked_df = filtered_df.sort_values(by='sample_size', ascending=False)\n",
    "    best_cohort_id = ranked_df.iloc[0]['cohort_id'] if not ranked_df.empty else None\n",
    "\n",
    "    return best_cohort_id, ranked_df\n",
    "\n",
    "\n",
    "def read_json_to_dataframe(json_file: str) -> pd.DataFrame:\n",
    "    \"\"\"\n",
    "    Reads a JSON file and converts it into a pandas DataFrame.\n",
    "    \"\"\"\n",
    "    with open(json_file, 'r') as file:\n",
    "        data = json.load(file)\n",
    "    return pd.DataFrame.from_dict(data, orient='index').reset_index().rename(columns={'index': 'cohort_id'})\n",
    "\n",
    "\n",
    "def filter_and_rank_cohorts(json_file: str, condition: Union[str, None] = None) -> Tuple[\n",
    "    Union[str, None], pd.DataFrame]:\n",
    "    \"\"\"\n",
    "    Reads a JSON file, filters cohorts based on usability and an optional condition, then ranks them by sample size.\n",
    "\n",
    "    Args:\n",
    "    json_file (str): The path to the JSON file containing the data.\n",
    "    condition (str, optional): An additional condition for filtering. If None, only 'is_usable' is considered.\n",
    "\n",
    "    Returns:\n",
    "    Tuple: A tuple containing the best cohort ID (str or None if no suitable cohort is found) and\n",
    "           the filtered and ranked DataFrame.\n",
    "    \"\"\"\n",
    "    df = read_json_to_dataframe(json_file)\n",
    "    if condition:\n",
    "        if condition.lower() in ['age', 'gender']:\n",
    "            condition = 'has_' + condition.lower()\n",
    "        assert condition in ['has_age', 'has_gender']\n",
    "        filtered_df = df[(df['is_usable'] == True) & (df[condition] == True)]\n",
    "    else:\n",
    "        filtered_df = df[df['is_usable'] == True]\n",
    "    ranked_df = filtered_df.sort_values(by='sample_size', ascending=False)\n",
    "    best_cohort_id = ranked_df.iloc[0]['cohort_id'] if not ranked_df.empty else None\n",
    "\n",
    "    return best_cohort_id, ranked_df\n",
    "\n",
    "\n",
    "def preview_df(df, n=5):\n",
    "    return df.head(n).to_dict(orient='list')\n"
   ]
  },
  {
   "cell_type": "code",
   "execution_count": 2,
   "metadata": {
    "ExecuteTime": {
     "end_time": "2024-02-27T00:22:19.923963844Z",
     "start_time": "2024-02-27T00:22:19.920633515Z"
    },
    "colab": {
     "base_uri": "https://localhost:8080/"
    },
    "id": "jMTdsU43vVg3",
    "outputId": "38886111-f442-44b4-8398-96bf384d7abd"
   },
   "outputs": [
    {
     "data": {
      "text/plain": [
       "\"import os\\nfrom google.colab import drive\\n\\ndrive.mount('/content/drive', force_remount=True)\\nproj_dir = '/content/drive/MyDrive/AI4Science_Public'\\nos.chdir(proj_dir)\""
      ]
     },
     "execution_count": 2,
     "metadata": {},
     "output_type": "execute_result"
    }
   ],
   "source": [
    "# This cell is only for use on Google Colab. Skip it if you run your code in other environments\n",
    "\n",
    "\"\"\"import os\n",
    "from google.colab import drive\n",
    "\n",
    "drive.mount('/content/drive', force_remount=True)\n",
    "proj_dir = '/content/drive/MyDrive/AI4Science_Public'\n",
    "os.chdir(proj_dir)\"\"\""
   ]
  },
  {
   "cell_type": "markdown",
   "metadata": {
    "collapsed": false
   },
   "source": [
    "# 2. Data preprocessing and selection"
   ]
  },
  {
   "cell_type": "markdown",
   "metadata": {
    "collapsed": false
   },
   "source": [
    "## 2.1. The TCGA Xena dataset"
   ]
  },
  {
   "cell_type": "markdown",
   "metadata": {
    "collapsed": false
   },
   "source": [
    "In TCGA Xena, there is either zero or one cohort related to the trait. We search the names of subdirectories to see if any matches the trait. If a match is found, we directly obtain the file paths."
   ]
  },
  {
   "cell_type": "code",
   "execution_count": 3,
   "metadata": {
    "ExecuteTime": {
     "end_time": "2024-02-27T00:22:21.140790869Z",
     "start_time": "2024-02-27T00:22:21.133208795Z"
    },
    "collapsed": false
   },
   "outputs": [
    {
     "data": {
      "text/plain": [
       "['TCGA_Lower_Grade_Glioma_(LGG)',\n",
       " 'TCGA_lower_grade_glioma_and_glioblastoma_(GBMLGG)',\n",
       " 'TCGA_Lung_Adenocarcinoma_(LUAD)',\n",
       " 'TCGA_Lung_Cancer_(LUNG)',\n",
       " 'TCGA_Lung_Squamous_Cell_Carcinoma_(LUSC)',\n",
       " 'TCGA_Melanoma_(SKCM)',\n",
       " 'TCGA_Mesothelioma_(MESO)',\n",
       " 'TCGA_Ocular_melanomas_(UVM)',\n",
       " 'TCGA_Ovarian_Cancer_(OV)',\n",
       " 'TCGA_Pancreatic_Cancer_(PAAD)']"
      ]
     },
     "execution_count": 3,
     "metadata": {},
     "output_type": "execute_result"
    }
   ],
   "source": [
    "dataset = 'TCGA'\n",
    "dataset_dir = os.path.join(DATA_ROOT, dataset)\n",
    "os.listdir(dataset_dir)[:10]"
   ]
  },
  {
   "cell_type": "markdown",
   "metadata": {
    "collapsed": false
   },
   "source": [
    "If no match is found, jump directly to GEO in Part 2.2"
   ]
  },
  {
   "cell_type": "code",
   "execution_count": 4,
   "metadata": {
    "ExecuteTime": {
     "end_time": "2024-02-27T00:22:21.985144212Z",
     "start_time": "2024-02-27T00:22:21.981084968Z"
    },
    "collapsed": false
   },
   "outputs": [],
   "source": [
    "trait_subdir = \"TCGA_Breast_Cancer_(BRCA)\"\n",
    "cohort = 'Xena'\n",
    "# All the cancer traits in Xena are binary\n",
    "trait_type = 'binary'\n",
    "# Once a relevant cohort is found in Xena, we can generally assume the gene and clinical data are available\n",
    "is_available = True\n",
    "\n",
    "cohort_dir = os.path.join(DATA_ROOT, dataset, trait_subdir)\n",
    "clinical_data_file, genetic_data_file = xena_get_relevant_filepaths(cohort_dir)"
   ]
  },
  {
   "cell_type": "code",
   "execution_count": 5,
   "metadata": {
    "ExecuteTime": {
     "end_time": "2024-02-27T00:22:25.794819905Z",
     "start_time": "2024-02-27T00:22:22.357077391Z"
    },
    "id": "MudwB-_iz7sc"
   },
   "outputs": [],
   "source": [
    "import pandas as pd\n",
    "\n",
    "clinical_data = pd.read_csv(clinical_data_file, sep='\\t', index_col=0)\n",
    "genetic_data = pd.read_csv(genetic_data_file, compression='gzip', sep='\\t', index_col=0)\n",
    "age_col = gender_col = None"
   ]
  },
  {
   "cell_type": "code",
   "execution_count": 6,
   "metadata": {
    "ExecuteTime": {
     "end_time": "2024-02-27T00:22:25.798785383Z",
     "start_time": "2024-02-27T00:22:25.796474039Z"
    },
    "collapsed": false
   },
   "outputs": [
    {
     "data": {
      "text/plain": [
       "['AJCC_Stage_nature2012',\n",
       " 'Age_at_Initial_Pathologic_Diagnosis_nature2012',\n",
       " 'CN_Clusters_nature2012',\n",
       " 'Converted_Stage_nature2012',\n",
       " 'Days_to_Date_of_Last_Contact_nature2012',\n",
       " 'Days_to_date_of_Death_nature2012',\n",
       " 'ER_Status_nature2012',\n",
       " 'Gender_nature2012',\n",
       " 'HER2_Final_Status_nature2012',\n",
       " 'Integrated_Clusters_no_exp__nature2012']"
      ]
     },
     "execution_count": 6,
     "metadata": {},
     "output_type": "execute_result"
    }
   ],
   "source": [
    "_, clinical_data_cols = check_rows_and_columns(clinical_data)\n",
    "clinical_data_cols[:10]"
   ]
  },
  {
   "cell_type": "markdown",
   "metadata": {
    "ExecuteTime": {
     "end_time": "2023-12-28T20:20:11.841042813Z",
     "start_time": "2023-12-28T20:20:11.834458206Z"
    },
    "collapsed": false
   },
   "source": [
    "Read all the column names in the clinical dataset, to find the columns that record information about age or gender.\n",
    "Reference prompt:"
   ]
  },
  {
   "cell_type": "code",
   "execution_count": 7,
   "metadata": {
    "ExecuteTime": {
     "end_time": "2024-02-27T00:22:25.802838875Z",
     "start_time": "2024-02-27T00:22:25.798659327Z"
    },
    "collapsed": false
   },
   "outputs": [
    {
     "data": {
      "text/plain": [
       "\"\\nBelow is a list of column names from a biomedical dataset. Please examine it and identify the columns that are likely to contain information about patients' age. Additionally, please do the same for columns that may hold data on patients' gender. Please provide your answer by strictly following this format, without redundant words:\\ncandidate_age_cols = [col_name1, col_name2, ...]\\ncandidate_gender_cols = [col_name1, col_name2, ...]\\nIf no columns match a criterion, please provide an empty list.\\n\\nColumn names:\\n['AJCC_Stage_nature2012', 'Age_at_Initial_Pathologic_Diagnosis_nature2012', 'CN_Clusters_nature2012', 'Converted_Stage_nature2012', 'Days_to_Date_of_Last_Contact_nature2012', 'Days_to_date_of_Death_nature2012', 'ER_Status_nature2012', 'Gender_nature2012', 'HER2_Final_Status_nature2012', 'Integrated_Clusters_no_exp__nature2012', 'Integrated_Clusters_unsup_exp__nature2012', 'Integrated_Clusters_with_PAM50__nature2012', 'Metastasis_Coded_nature2012', 'Metastasis_nature2012', 'Node_Coded_nature2012', 'Node_nature2012', 'OS_Time_nature2012', 'OS_event_nature2012', 'PAM50Call_RNAseq', 'PAM50_mRNA_nature2012', 'PR_Status_nature2012', 'RPPA_Clusters_nature2012', 'SigClust_Intrinsic_mRNA_nature2012', 'SigClust_Unsupervised_mRNA_nature2012', 'Survival_Data_Form_nature2012', 'Tumor_T1_Coded_nature2012', 'Tumor_nature2012', 'Vital_Status_nature2012', '_INTEGRATION', '_PANCAN_CNA_PANCAN_K8', '_PANCAN_Cluster_Cluster_PANCAN', '_PANCAN_DNAMethyl_BRCA', '_PANCAN_DNAMethyl_PANCAN', '_PANCAN_RPPA_PANCAN_K8', '_PANCAN_UNC_RNAseq_PANCAN_K16', '_PANCAN_miRNA_PANCAN', '_PANCAN_mirna_BRCA', '_PANCAN_mutation_PANCAN', '_PATIENT', '_cohort', '_primary_disease', '_primary_site', 'additional_pharmaceutical_therapy', 'additional_radiation_therapy', 'additional_surgery_locoregional_procedure', 'additional_surgery_metastatic_procedure', 'age_at_initial_pathologic_diagnosis', 'anatomic_neoplasm_subdivision', 'axillary_lymph_node_stage_method_type', 'axillary_lymph_node_stage_other_method_descriptive_text', 'bcr_followup_barcode', 'bcr_patient_barcode', 'bcr_sample_barcode', 'breast_cancer_surgery_margin_status', 'breast_carcinoma_estrogen_receptor_status', 'breast_carcinoma_immunohistochemistry_er_pos_finding_scale', 'breast_carcinoma_immunohistochemistry_pos_cell_score', 'breast_carcinoma_immunohistochemistry_prgstrn_rcptr_ps_fndng_scl', 'breast_carcinoma_primary_surgical_procedure_name', 'breast_carcinoma_progesterone_receptor_status', 'breast_carcinoma_surgical_procedure_name', 'breast_neoplasm_other_surgical_procedure_descriptive_text', 'cytokeratin_immunohistochemistry_staining_method_mcrmtstss_ndctr', 'days_to_additional_surgery_locoregional_procedure', 'days_to_additional_surgery_metastatic_procedure', 'days_to_birth', 'days_to_collection', 'days_to_death', 'days_to_initial_pathologic_diagnosis', 'days_to_last_followup', 'days_to_last_known_alive', 'days_to_new_tumor_event_additional_surgery_procedure', 'days_to_new_tumor_event_after_initial_treatment', 'disease_code', 'distant_metastasis_present_ind2', 'er_detection_method_text', 'er_level_cell_percentage_category', 'fluorescence_in_st_hybrdztn_dgnstc_prcdr_chrmsm_17_sgnl_rslt_rng', 'followup_case_report_form_submission_reason', 'form_completion_date', 'gender', 'her2_and_centromere_17_positive_finding_other_measuremnt_scl_txt', 'her2_erbb_method_calculation_method_text', 'her2_erbb_pos_finding_cell_percent_category', 'her2_erbb_pos_finding_fluorescence_n_st_hybrdztn_clcltn_mthd_txt', 'her2_immunohistochemistry_level_result', 'her2_neu_and_centromere_17_copy_number_analysis_npt_ttl_nmbr_cnt', 'her2_neu_breast_carcinoma_copy_analysis_input_total_number', 'her2_neu_chromosone_17_signal_ratio_value', 'her2_neu_metastatic_breast_carcinoma_copy_analysis_inpt_ttl_nmbr', 'histological_type', 'histological_type_other', 'history_of_neoadjuvant_treatment', 'hr2_n_nd_cntrmr_17_cpy_nmbr_mtsttc_brst_crcnm_nlyss_npt_ttl_nmbr', 'icd_10', 'icd_o_3_histology', 'icd_o_3_site', 'immunohistochemistry_positive_cell_score', 'informed_consent_verified', 'init_pathology_dx_method_other', 'initial_pathologic_diagnosis_method', 'initial_weight', 'is_ffpe', 'lab_proc_her2_neu_immunohistochemistry_receptor_status', 'lab_procedure_her2_neu_in_situ_hybrid_outcome_type', 'lost_follow_up', 'lymph_node_examined_count', 'margin_status', 'menopause_status', 'metastatic_breast_carcinm_ps_fndng_prgstrn_rcptr_thr_msr_scl_txt', 'metastatic_breast_carcinom_lb_prc_hr2_n_mmnhstchmstry_rcptr_stts', 'metastatic_breast_carcinoma_erbb2_immunohistochemistry_levl_rslt', 'metastatic_breast_carcinoma_estrogen_receptor_detection_mthd_txt', 'metastatic_breast_carcinoma_estrogen_receptor_status', 'metastatic_breast_carcinoma_estrogen_receptr_lvl_cll_prcnt_ctgry', 'metastatic_breast_carcinoma_her2_erbb_method_calculatin_mthd_txt', 'metastatic_breast_carcinoma_her2_erbb_pos_findng_cll_prcnt_ctgry', 'metastatic_breast_carcinoma_her2_neu_chromosone_17_signal_rat_vl', 'metastatic_breast_carcinoma_immunhstchmstry_r_pstv_fndng_scl_typ', 'metastatic_breast_carcinoma_immunohistochemistry_er_pos_cell_scr', 'metastatic_breast_carcinoma_immunohistochemistry_pr_pos_cell_scr', 'metastatic_breast_carcinoma_lab_proc_hr2_n_n_st_hybrdztn_tcm_typ', 'metastatic_breast_carcinoma_pos_finding_hr2_rbb2_thr_msr_scl_txt', 'metastatic_breast_carcinoma_progestern_rcptr_lvl_cll_prcnt_ctgry', 'metastatic_breast_carcinoma_progesterone_receptor_dtctn_mthd_txt', 'metastatic_breast_carcinoma_progesterone_receptor_status', 'metastatic_site_at_diagnosis', 'metastatic_site_at_diagnosis_other', 'methylation_Clusters_nature2012', 'miRNA_Clusters_nature2012', 'mtsttc_brst_crcnm_flrscnc_n_st_hybrdztn_dgnstc_prc_cntrmr_17_sgn', 'mtsttc_brst_crcnm_hr2_rbb_ps_fndng_flrscnc_n_st_hybrdztn_clcltn', 'mtsttc_brst_crcnm_mmnhstchmstry_prgstrn_rcptr_pstv_fndng_scl_typ', 'new_neoplasm_event_occurrence_anatomic_site', 'new_neoplasm_event_type', 'new_neoplasm_occurrence_anatomic_site_text', 'new_tumor_event_additional_surgery_procedure', 'new_tumor_event_after_initial_treatment', 'number_of_lymphnodes_positive_by_he', 'number_of_lymphnodes_positive_by_ihc', 'oct_embedded', 'other_dx', 'pathologic_M', 'pathologic_N', 'pathologic_T', 'pathologic_stage', 'pathology_report_file_name', 'patient_id', 'person_neoplasm_cancer_status', 'pgr_detection_method_text', 'pos_finding_her2_erbb2_other_measurement_scale_text', 'pos_finding_metastatic_brst_crcnm_strgn_rcptr_thr_msrmnt_scl_txt', 'pos_finding_progesterone_receptor_other_measurement_scale_text', 'positive_finding_estrogen_receptor_other_measurement_scale_text', 'postoperative_rx_tx', 'primary_lymph_node_presentation_assessment', 'progesterone_receptor_level_cell_percent_category', 'project_code', 'radiation_therapy', 'sample_type', 'sample_type_id', 'surgical_procedure_purpose_other_text', 'system_version', 'targeted_molecular_therapy', 'tissue_prospective_collection_indicator', 'tissue_retrospective_collection_indicator', 'tissue_source_site', 'tumor_tissue_site', 'vial_number', 'vital_status', 'year_of_initial_pathologic_diagnosis', '_GENOMIC_ID_TCGA_BRCA_exp_HiSeqV2_exon', '_GENOMIC_ID_TCGA_BRCA_exp_HiSeqV2_PANCAN', '_GENOMIC_ID_TCGA_BRCA_RPPA_RBN', '_GENOMIC_ID_TCGA_BRCA_mutation', '_GENOMIC_ID_TCGA_BRCA_PDMRNAseq', '_GENOMIC_ID_TCGA_BRCA_hMethyl450', '_GENOMIC_ID_TCGA_BRCA_RPPA', '_GENOMIC_ID_TCGA_BRCA_PDMRNAseqCNV', '_GENOMIC_ID_TCGA_BRCA_mutation_curated_wustl_gene', '_GENOMIC_ID_TCGA_BRCA_hMethyl27', '_GENOMIC_ID_TCGA_BRCA_PDMarrayCNV', '_GENOMIC_ID_TCGA_BRCA_miRNA_HiSeq', '_GENOMIC_ID_TCGA_BRCA_mutation_wustl_gene', '_GENOMIC_ID_TCGA_BRCA_miRNA_GA', '_GENOMIC_ID_TCGA_BRCA_exp_HiSeqV2_percentile', '_GENOMIC_ID_data/public/TCGA/BRCA/miRNA_GA_gene', '_GENOMIC_ID_TCGA_BRCA_gistic2thd', '_GENOMIC_ID_data/public/TCGA/BRCA/miRNA_HiSeq_gene', '_GENOMIC_ID_TCGA_BRCA_G4502A_07_3', '_GENOMIC_ID_TCGA_BRCA_exp_HiSeqV2', '_GENOMIC_ID_TCGA_BRCA_gistic2', '_GENOMIC_ID_TCGA_BRCA_PDMarray']\\n\""
      ]
     },
     "execution_count": 7,
     "metadata": {},
     "output_type": "execute_result"
    }
   ],
   "source": [
    "f'''\n",
    "Below is a list of column names from a biomedical dataset. Please examine it and identify the columns that are likely to contain information about patients' age. Additionally, please do the same for columns that may hold data on patients' gender. Please provide your answer by strictly following this format, without redundant words:\n",
    "candidate_age_cols = [col_name1, col_name2, ...]\n",
    "candidate_gender_cols = [col_name1, col_name2, ...]\n",
    "If no columns match a criterion, please provide an empty list.\n",
    "\n",
    "Column names:\n",
    "{clinical_data_cols}\n",
    "'''"
   ]
  },
  {
   "cell_type": "code",
   "execution_count": 8,
   "metadata": {
    "ExecuteTime": {
     "end_time": "2024-02-27T00:22:25.864092575Z",
     "start_time": "2024-02-27T00:22:25.802001989Z"
    },
    "collapsed": false
   },
   "outputs": [],
   "source": [
    "candidate_age_cols = ['Age_at_Initial_Pathologic_Diagnosis_nature2012', 'age_at_initial_pathologic_diagnosis',\n",
    "                      'days_to_birth', 'year_of_initial_pathologic_diagnosis']\n",
    "candidate_gender_cols = ['Gender_nature2012', 'gender']"
   ]
  },
  {
   "cell_type": "markdown",
   "metadata": {
    "ExecuteTime": {
     "end_time": "2023-12-31T03:57:44.207565572Z",
     "start_time": "2023-12-31T03:57:44.202177544Z"
    },
    "collapsed": false
   },
   "source": [
    "\n",
    "Choose a single column from the candidate columns that record age and gender information respectively.\n",
    "If no column meets the requirement, keep 'age_col' or 'gender_col' to None"
   ]
  },
  {
   "cell_type": "code",
   "execution_count": 9,
   "metadata": {
    "ExecuteTime": {
     "end_time": "2024-02-27T00:22:25.883993050Z",
     "start_time": "2024-02-27T00:22:25.843002735Z"
    },
    "collapsed": false
   },
   "outputs": [
    {
     "data": {
      "text/plain": [
       "{'Age_at_Initial_Pathologic_Diagnosis_nature2012': [nan, nan, nan, nan, nan],\n",
       " 'age_at_initial_pathologic_diagnosis': [55.0, 50.0, 62.0, 52.0, 50.0],\n",
       " 'days_to_birth': [-20211.0, -18538.0, -22848.0, -19074.0, -18371.0],\n",
       " 'year_of_initial_pathologic_diagnosis': [2004.0,\n",
       "  2003.0,\n",
       "  2011.0,\n",
       "  2011.0,\n",
       "  2013.0]}"
      ]
     },
     "execution_count": 9,
     "metadata": {},
     "output_type": "execute_result"
    }
   ],
   "source": [
    "preview_df(clinical_data[candidate_age_cols])"
   ]
  },
  {
   "cell_type": "code",
   "execution_count": 10,
   "metadata": {
    "ExecuteTime": {
     "end_time": "2024-02-27T00:22:26.108535524Z",
     "start_time": "2024-02-27T00:22:26.101435803Z"
    },
    "collapsed": false
   },
   "outputs": [],
   "source": [
    "age_col = 'age_at_initial_pathologic_diagnosis'"
   ]
  },
  {
   "cell_type": "code",
   "execution_count": 11,
   "metadata": {
    "ExecuteTime": {
     "end_time": "2024-02-27T00:22:26.627515444Z",
     "start_time": "2024-02-27T00:22:26.621590532Z"
    },
    "collapsed": false
   },
   "outputs": [
    {
     "data": {
      "text/plain": [
       "{'Gender_nature2012': [nan, nan, nan, nan, nan],\n",
       " 'gender': ['FEMALE', 'FEMALE', 'FEMALE', 'FEMALE', 'FEMALE']}"
      ]
     },
     "execution_count": 11,
     "metadata": {},
     "output_type": "execute_result"
    }
   ],
   "source": [
    "preview_df(clinical_data[candidate_gender_cols])"
   ]
  },
  {
   "cell_type": "code",
   "execution_count": 12,
   "metadata": {
    "ExecuteTime": {
     "end_time": "2024-02-27T00:22:27.048689083Z",
     "start_time": "2024-02-27T00:22:27.042025799Z"
    },
    "collapsed": false
   },
   "outputs": [],
   "source": [
    "gender_col = 'gender'"
   ]
  },
  {
   "cell_type": "code",
   "execution_count": 13,
   "metadata": {
    "ExecuteTime": {
     "end_time": "2024-02-27T00:22:27.533988678Z",
     "start_time": "2024-02-27T00:22:27.530516924Z"
    },
    "collapsed": false
   },
   "outputs": [],
   "source": [
    "selected_clinical_data = xena_select_clinical_features(clinical_data, TRAIT, age_col=age_col, gender_col=gender_col)"
   ]
  },
  {
   "cell_type": "code",
   "execution_count": 14,
   "metadata": {
    "ExecuteTime": {
     "end_time": "2024-02-27T00:23:16.602458026Z",
     "start_time": "2024-02-27T00:22:27.839636769Z"
    },
    "collapsed": false
   },
   "outputs": [],
   "source": [
    "if NORMALIZE_GENE:\n",
    "    genetic_data = normalize_gene_symbols_in_index(genetic_data)"
   ]
  },
  {
   "cell_type": "code",
   "execution_count": 15,
   "metadata": {
    "ExecuteTime": {
     "end_time": "2024-02-27T00:23:16.720144304Z",
     "start_time": "2024-02-27T00:23:16.643071320Z"
    },
    "collapsed": false
   },
   "outputs": [
    {
     "data": {
      "text/html": [
       "<div>\n",
       "<style scoped>\n",
       "    .dataframe tbody tr th:only-of-type {\n",
       "        vertical-align: middle;\n",
       "    }\n",
       "\n",
       "    .dataframe tbody tr th {\n",
       "        vertical-align: top;\n",
       "    }\n",
       "\n",
       "    .dataframe thead th {\n",
       "        text-align: right;\n",
       "    }\n",
       "</style>\n",
       "<table border=\"1\" class=\"dataframe\">\n",
       "  <thead>\n",
       "    <tr style=\"text-align: right;\">\n",
       "      <th></th>\n",
       "      <th>Breast Cancer</th>\n",
       "      <th>Age</th>\n",
       "      <th>Gender</th>\n",
       "      <th>ARHGEF10L</th>\n",
       "      <th>HIF3A</th>\n",
       "      <th>RNF17</th>\n",
       "      <th>RNF10</th>\n",
       "      <th>RNF11</th>\n",
       "      <th>RNF13</th>\n",
       "      <th>GTF2IP1</th>\n",
       "      <th>...</th>\n",
       "      <th>SLC7A10</th>\n",
       "      <th>PLA2G2C</th>\n",
       "      <th>TULP2</th>\n",
       "      <th>NPY5R</th>\n",
       "      <th>GNGT2</th>\n",
       "      <th>GNGT1</th>\n",
       "      <th>TULP3</th>\n",
       "      <th>BCL6B</th>\n",
       "      <th>GSTK1</th>\n",
       "      <th>SELP</th>\n",
       "    </tr>\n",
       "    <tr>\n",
       "      <th>sampleID</th>\n",
       "      <th></th>\n",
       "      <th></th>\n",
       "      <th></th>\n",
       "      <th></th>\n",
       "      <th></th>\n",
       "      <th></th>\n",
       "      <th></th>\n",
       "      <th></th>\n",
       "      <th></th>\n",
       "      <th></th>\n",
       "      <th></th>\n",
       "      <th></th>\n",
       "      <th></th>\n",
       "      <th></th>\n",
       "      <th></th>\n",
       "      <th></th>\n",
       "      <th></th>\n",
       "      <th></th>\n",
       "      <th></th>\n",
       "      <th></th>\n",
       "      <th></th>\n",
       "    </tr>\n",
       "  </thead>\n",
       "  <tbody>\n",
       "    <tr>\n",
       "      <th>TCGA-3C-AAAU-01</th>\n",
       "      <td>1</td>\n",
       "      <td>55.0</td>\n",
       "      <td>0.0</td>\n",
       "      <td>0.607308</td>\n",
       "      <td>-3.194126</td>\n",
       "      <td>-0.531035</td>\n",
       "      <td>-0.145872</td>\n",
       "      <td>0.237422</td>\n",
       "      <td>-0.29921</td>\n",
       "      <td>-0.142694</td>\n",
       "      <td>...</td>\n",
       "      <td>-1.331386</td>\n",
       "      <td>-0.086682</td>\n",
       "      <td>-0.748878</td>\n",
       "      <td>0.565583</td>\n",
       "      <td>-0.767233</td>\n",
       "      <td>-1.28139</td>\n",
       "      <td>-0.271377</td>\n",
       "      <td>0.360373</td>\n",
       "      <td>1.067905</td>\n",
       "      <td>0.076267</td>\n",
       "    </tr>\n",
       "    <tr>\n",
       "      <th>TCGA-3C-AALI-01</th>\n",
       "      <td>1</td>\n",
       "      <td>50.0</td>\n",
       "      <td>0.0</td>\n",
       "      <td>-0.641192</td>\n",
       "      <td>-4.928226</td>\n",
       "      <td>0.095465</td>\n",
       "      <td>0.098128</td>\n",
       "      <td>-0.541978</td>\n",
       "      <td>-0.32291</td>\n",
       "      <td>-0.044694</td>\n",
       "      <td>...</td>\n",
       "      <td>1.426614</td>\n",
       "      <td>-0.086682</td>\n",
       "      <td>0.312922</td>\n",
       "      <td>0.079683</td>\n",
       "      <td>0.475267</td>\n",
       "      <td>1.99661</td>\n",
       "      <td>0.161423</td>\n",
       "      <td>0.644673</td>\n",
       "      <td>-0.428695</td>\n",
       "      <td>0.068667</td>\n",
       "    </tr>\n",
       "    <tr>\n",
       "      <th>TCGA-3C-AALJ-01</th>\n",
       "      <td>1</td>\n",
       "      <td>62.0</td>\n",
       "      <td>0.0</td>\n",
       "      <td>1.082808</td>\n",
       "      <td>-4.623726</td>\n",
       "      <td>-0.531035</td>\n",
       "      <td>0.484028</td>\n",
       "      <td>-0.183678</td>\n",
       "      <td>-0.91901</td>\n",
       "      <td>0.261106</td>\n",
       "      <td>...</td>\n",
       "      <td>1.694014</td>\n",
       "      <td>-0.086682</td>\n",
       "      <td>-0.748878</td>\n",
       "      <td>-0.656117</td>\n",
       "      <td>-0.216733</td>\n",
       "      <td>0.21081</td>\n",
       "      <td>0.101023</td>\n",
       "      <td>1.295073</td>\n",
       "      <td>0.915105</td>\n",
       "      <td>0.168567</td>\n",
       "    </tr>\n",
       "    <tr>\n",
       "      <th>TCGA-3C-AALK-01</th>\n",
       "      <td>1</td>\n",
       "      <td>52.0</td>\n",
       "      <td>0.0</td>\n",
       "      <td>0.121608</td>\n",
       "      <td>-2.881526</td>\n",
       "      <td>-0.531035</td>\n",
       "      <td>0.179128</td>\n",
       "      <td>0.039222</td>\n",
       "      <td>-0.45491</td>\n",
       "      <td>0.180306</td>\n",
       "      <td>...</td>\n",
       "      <td>-1.211186</td>\n",
       "      <td>-0.086682</td>\n",
       "      <td>0.415422</td>\n",
       "      <td>-0.178417</td>\n",
       "      <td>-0.211233</td>\n",
       "      <td>-1.28139</td>\n",
       "      <td>0.108023</td>\n",
       "      <td>0.496773</td>\n",
       "      <td>0.240105</td>\n",
       "      <td>3.099767</td>\n",
       "    </tr>\n",
       "    <tr>\n",
       "      <th>TCGA-4H-AAAK-01</th>\n",
       "      <td>1</td>\n",
       "      <td>50.0</td>\n",
       "      <td>0.0</td>\n",
       "      <td>0.420208</td>\n",
       "      <td>-3.282726</td>\n",
       "      <td>-0.531035</td>\n",
       "      <td>-0.020972</td>\n",
       "      <td>-0.117978</td>\n",
       "      <td>-0.55781</td>\n",
       "      <td>-0.173794</td>\n",
       "      <td>...</td>\n",
       "      <td>-0.901186</td>\n",
       "      <td>0.424818</td>\n",
       "      <td>0.685222</td>\n",
       "      <td>-0.698717</td>\n",
       "      <td>-0.484233</td>\n",
       "      <td>-1.28139</td>\n",
       "      <td>-0.223577</td>\n",
       "      <td>0.225573</td>\n",
       "      <td>-0.301995</td>\n",
       "      <td>0.200067</td>\n",
       "    </tr>\n",
       "  </tbody>\n",
       "</table>\n",
       "<p>5 rows × 17342 columns</p>\n",
       "</div>"
      ],
      "text/plain": [
       "                 Breast Cancer   Age  Gender  ARHGEF10L     HIF3A     RNF17  \\\n",
       "sampleID                                                                      \n",
       "TCGA-3C-AAAU-01              1  55.0     0.0   0.607308 -3.194126 -0.531035   \n",
       "TCGA-3C-AALI-01              1  50.0     0.0  -0.641192 -4.928226  0.095465   \n",
       "TCGA-3C-AALJ-01              1  62.0     0.0   1.082808 -4.623726 -0.531035   \n",
       "TCGA-3C-AALK-01              1  52.0     0.0   0.121608 -2.881526 -0.531035   \n",
       "TCGA-4H-AAAK-01              1  50.0     0.0   0.420208 -3.282726 -0.531035   \n",
       "\n",
       "                    RNF10     RNF11    RNF13   GTF2IP1  ...   SLC7A10  \\\n",
       "sampleID                                                ...             \n",
       "TCGA-3C-AAAU-01 -0.145872  0.237422 -0.29921 -0.142694  ... -1.331386   \n",
       "TCGA-3C-AALI-01  0.098128 -0.541978 -0.32291 -0.044694  ...  1.426614   \n",
       "TCGA-3C-AALJ-01  0.484028 -0.183678 -0.91901  0.261106  ...  1.694014   \n",
       "TCGA-3C-AALK-01  0.179128  0.039222 -0.45491  0.180306  ... -1.211186   \n",
       "TCGA-4H-AAAK-01 -0.020972 -0.117978 -0.55781 -0.173794  ... -0.901186   \n",
       "\n",
       "                  PLA2G2C     TULP2     NPY5R     GNGT2    GNGT1     TULP3  \\\n",
       "sampleID                                                                     \n",
       "TCGA-3C-AAAU-01 -0.086682 -0.748878  0.565583 -0.767233 -1.28139 -0.271377   \n",
       "TCGA-3C-AALI-01 -0.086682  0.312922  0.079683  0.475267  1.99661  0.161423   \n",
       "TCGA-3C-AALJ-01 -0.086682 -0.748878 -0.656117 -0.216733  0.21081  0.101023   \n",
       "TCGA-3C-AALK-01 -0.086682  0.415422 -0.178417 -0.211233 -1.28139  0.108023   \n",
       "TCGA-4H-AAAK-01  0.424818  0.685222 -0.698717 -0.484233 -1.28139 -0.223577   \n",
       "\n",
       "                    BCL6B     GSTK1      SELP  \n",
       "sampleID                                       \n",
       "TCGA-3C-AAAU-01  0.360373  1.067905  0.076267  \n",
       "TCGA-3C-AALI-01  0.644673 -0.428695  0.068667  \n",
       "TCGA-3C-AALJ-01  1.295073  0.915105  0.168567  \n",
       "TCGA-3C-AALK-01  0.496773  0.240105  3.099767  \n",
       "TCGA-4H-AAAK-01  0.225573 -0.301995  0.200067  \n",
       "\n",
       "[5 rows x 17342 columns]"
      ]
     },
     "execution_count": 15,
     "metadata": {},
     "output_type": "execute_result"
    }
   ],
   "source": [
    "merged_data = selected_clinical_data.join(genetic_data.T).dropna()\n",
    "merged_data.head()"
   ]
  },
  {
   "cell_type": "code",
   "execution_count": 16,
   "metadata": {
    "ExecuteTime": {
     "end_time": "2024-02-27T00:23:16.731303752Z",
     "start_time": "2024-02-27T00:23:16.717316474Z"
    },
    "collapsed": false
   },
   "outputs": [
    {
     "name": "stdout",
     "output_type": "stream",
     "text": [
      "The merged dataset contains 1215 samples.\n",
      "For the feature 'Breast Cancer', the least common label is '0' with 113 occurrences. This represents 9.30% of the dataset.\n",
      "The distribution of the feature 'Breast Cancer' in this dataset is fine.\n",
      "\n",
      "Quartiles for 'Age':\n",
      "  25%: 48.0\n",
      "  50% (Median): 58.0\n",
      "  75%: 67.0\n",
      "Min: 26.0\n",
      "Max: 90.0\n",
      "The distribution of the feature 'Age' in this dataset is fine.\n",
      "\n",
      "For the feature 'Gender', the least common label is '1.0' with 13 occurrences. This represents 1.07% of the dataset.\n",
      "The distribution of the feature 'Gender' in this dataset is fine.\n",
      "\n"
     ]
    },
    {
     "data": {
      "text/plain": [
       "False"
      ]
     },
     "execution_count": 16,
     "metadata": {},
     "output_type": "execute_result"
    }
   ],
   "source": [
    "print(f\"The merged dataset contains {len(merged_data)} samples.\")\n",
    "is_trait_biased, merge_data = judge_and_remove_biased_features(merged_data, TRAIT, trait_type=trait_type)\n",
    "is_trait_biased"
   ]
  },
  {
   "cell_type": "code",
   "execution_count": 17,
   "metadata": {
    "ExecuteTime": {
     "end_time": "2024-02-27T00:23:30.252387093Z",
     "start_time": "2024-02-27T00:23:16.722533204Z"
    },
    "collapsed": false
   },
   "outputs": [],
   "source": [
    "merged_data.head()\n",
    "if not is_trait_biased:\n",
    "    merge_data.to_csv(os.path.join(OUTPUT_DIR, cohort + '.csv'), index=False)"
   ]
  },
  {
   "cell_type": "code",
   "execution_count": 18,
   "metadata": {
    "ExecuteTime": {
     "end_time": "2024-02-27T00:23:30.302271525Z",
     "start_time": "2024-02-27T00:23:30.295066253Z"
    },
    "collapsed": false
   },
   "outputs": [
    {
     "name": "stdout",
     "output_type": "stream",
     "text": [
      "A new JSON file was created at: ../../output1/Haoyang/Breast-Cancer/cohort_info.json\n"
     ]
    }
   ],
   "source": [
    "save_cohort_info(cohort, JSON_PATH, is_available, is_trait_biased, merged_data)"
   ]
  },
  {
   "cell_type": "markdown",
   "metadata": {
    "ExecuteTime": {
     "end_time": "2023-12-28T21:28:38.028916303Z",
     "start_time": "2023-12-28T21:28:38.016245426Z"
    },
    "collapsed": false
   },
   "source": [
    "## 2.2. The GEO dataset"
   ]
  },
  {
   "cell_type": "markdown",
   "metadata": {
    "ExecuteTime": {
     "end_time": "2023-12-31T03:25:23.253882615Z",
     "start_time": "2023-12-31T03:25:23.244062710Z"
    },
    "collapsed": false
   },
   "source": [
    "In GEO, there may be one or multiple cohorts for a trait. Each cohort is identified by an accession number. We iterate over all accession numbers in the corresponding subdirectory, preprocess the cohort data, and save them to csv files."
   ]
  },
  {
   "cell_type": "code",
   "execution_count": 8,
   "metadata": {
    "ExecuteTime": {
     "end_time": "2024-02-27T00:23:30.302587016Z",
     "start_time": "2024-02-27T00:23:30.295278811Z"
    },
    "collapsed": false
   },
   "outputs": [
    {
     "data": {
      "text/plain": [
       "['GSE124283']"
      ]
     },
     "execution_count": 8,
     "metadata": {},
     "output_type": "execute_result"
    }
   ],
   "source": [
    "dataset = 'GEO'\n",
    "trait_subdir = \"Gaucher-Disease\"\n",
    "\n",
    "trait_path = os.path.join(DATA_ROOT, dataset, trait_subdir)\n",
    "os.listdir(trait_path)"
   ]
  },
  {
   "cell_type": "markdown",
   "metadata": {
    "ExecuteTime": {
     "end_time": "2023-12-31T03:39:42.634870142Z",
     "start_time": "2023-12-31T03:39:42.534093295Z"
    },
    "collapsed": false
   },
   "source": [
    "Repeat the below steps for all the accession numbers"
   ]
  },
  {
   "cell_type": "code",
   "execution_count": 9,
   "metadata": {
    "ExecuteTime": {
     "end_time": "2024-02-27T00:23:30.302864515Z",
     "start_time": "2024-02-27T00:23:30.295388276Z"
    },
    "collapsed": false
   },
   "outputs": [
    {
     "data": {
      "text/plain": [
       "('/Users/jacob/Documents\\\\GEO\\\\Gaucher-Disease\\\\GSE124283\\\\GSE124283_family.soft.gz',\n",
       " '/Users/jacob/Documents\\\\GEO\\\\Gaucher-Disease\\\\GSE124283\\\\GSE124283_series_matrix.txt.gz')"
      ]
     },
     "execution_count": 9,
     "metadata": {},
     "output_type": "execute_result"
    }
   ],
   "source": [
    "cohort = accession_num = \"GSE124283\"\n",
    "cohort_dir = os.path.join(trait_path, accession_num)\n",
    "soft_file, matrix_file = geo_get_relevant_filepaths(cohort_dir)\n",
    "soft_file, matrix_file"
   ]
  },
  {
   "cell_type": "markdown",
   "metadata": {
    "collapsed": false
   },
   "source": [
    "### Initial filtering and clinical data preprocessing"
   ]
  },
  {
   "cell_type": "code",
   "execution_count": 10,
   "metadata": {
    "ExecuteTime": {
     "end_time": "2024-02-27T00:23:30.303301102Z",
     "start_time": "2024-02-27T00:23:30.295491459Z"
    },
    "collapsed": false
   },
   "outputs": [
    {
     "ename": "UnicodeDecodeError",
     "evalue": "'charmap' codec can't decode byte 0x81 in position 2481: character maps to <undefined>",
     "output_type": "error",
     "traceback": [
      "\u001b[1;31m---------------------------------------------------------------------------\u001b[0m",
      "\u001b[1;31mUnicodeDecodeError\u001b[0m                        Traceback (most recent call last)",
      "Cell \u001b[1;32mIn[10], line 4\u001b[0m\n\u001b[0;32m      1\u001b[0m background_prefixes \u001b[38;5;241m=\u001b[39m [\u001b[38;5;124m'\u001b[39m\u001b[38;5;124m!Series_title\u001b[39m\u001b[38;5;124m'\u001b[39m, \u001b[38;5;124m'\u001b[39m\u001b[38;5;124m!Series_summary\u001b[39m\u001b[38;5;124m'\u001b[39m, \u001b[38;5;124m'\u001b[39m\u001b[38;5;124m!Series_overall_design\u001b[39m\u001b[38;5;124m'\u001b[39m]\n\u001b[0;32m      2\u001b[0m clinical_prefixes \u001b[38;5;241m=\u001b[39m [\u001b[38;5;124m'\u001b[39m\u001b[38;5;124m!Sample_geo_accession\u001b[39m\u001b[38;5;124m'\u001b[39m, \u001b[38;5;124m'\u001b[39m\u001b[38;5;124m!Sample_characteristics_ch1\u001b[39m\u001b[38;5;124m'\u001b[39m]\n\u001b[1;32m----> 4\u001b[0m background_info, clinical_data \u001b[38;5;241m=\u001b[39m \u001b[43mget_background_and_clinical_data\u001b[49m\u001b[43m(\u001b[49m\u001b[43mmatrix_file\u001b[49m\u001b[43m,\u001b[49m\u001b[43m \u001b[49m\u001b[43mbackground_prefixes\u001b[49m\u001b[43m,\u001b[49m\u001b[43m \u001b[49m\u001b[43mclinical_prefixes\u001b[49m\u001b[43m)\u001b[49m\n\u001b[0;32m      5\u001b[0m \u001b[38;5;28mprint\u001b[39m(background_info)\n",
      "Cell \u001b[1;32mIn[3], line 120\u001b[0m, in \u001b[0;36mget_background_and_clinical_data\u001b[1;34m(file_path, prefixes_a, prefixes_b)\u001b[0m\n\u001b[0;32m    116\u001b[0m \u001b[38;5;28;01mdef\u001b[39;00m \u001b[38;5;21mget_background_and_clinical_data\u001b[39m(file_path,\n\u001b[0;32m    117\u001b[0m                                      prefixes_a\u001b[38;5;241m=\u001b[39m[\u001b[38;5;124m'\u001b[39m\u001b[38;5;124m!Series_title\u001b[39m\u001b[38;5;124m'\u001b[39m, \u001b[38;5;124m'\u001b[39m\u001b[38;5;124m!Series_summary\u001b[39m\u001b[38;5;124m'\u001b[39m, \u001b[38;5;124m'\u001b[39m\u001b[38;5;124m!Series_overall_design\u001b[39m\u001b[38;5;124m'\u001b[39m],\n\u001b[0;32m    118\u001b[0m                                      prefixes_b\u001b[38;5;241m=\u001b[39m[\u001b[38;5;124m'\u001b[39m\u001b[38;5;124m!Sample_geo_accession\u001b[39m\u001b[38;5;124m'\u001b[39m, \u001b[38;5;124m'\u001b[39m\u001b[38;5;124m!Sample_characteristics_ch1\u001b[39m\u001b[38;5;124m'\u001b[39m]):\n\u001b[0;32m    119\u001b[0m \u001b[38;5;250m    \u001b[39m\u001b[38;5;124;03m\"\"\"Extract from a matrix file the background information about the dataset, and sample characteristics data\"\"\"\u001b[39;00m\n\u001b[1;32m--> 120\u001b[0m     background_info, clinical_data \u001b[38;5;241m=\u001b[39m \u001b[43mfilter_content_by_prefix\u001b[49m\u001b[43m(\u001b[49m\u001b[43mfile_path\u001b[49m\u001b[43m,\u001b[49m\u001b[43m \u001b[49m\u001b[43mprefixes_a\u001b[49m\u001b[43m,\u001b[49m\u001b[43m \u001b[49m\u001b[43mprefixes_b\u001b[49m\u001b[43m,\u001b[49m\u001b[43m \u001b[49m\u001b[43munselect\u001b[49m\u001b[38;5;241;43m=\u001b[39;49m\u001b[38;5;28;43;01mFalse\u001b[39;49;00m\u001b[43m,\u001b[49m\n\u001b[0;32m    121\u001b[0m \u001b[43m                                                              \u001b[49m\u001b[43msource_type\u001b[49m\u001b[38;5;241;43m=\u001b[39;49m\u001b[38;5;124;43m'\u001b[39;49m\u001b[38;5;124;43mfile\u001b[39;49m\u001b[38;5;124;43m'\u001b[39;49m\u001b[43m,\u001b[49m\n\u001b[0;32m    122\u001b[0m \u001b[43m                                                              \u001b[49m\u001b[43mreturn_df_a\u001b[49m\u001b[38;5;241;43m=\u001b[39;49m\u001b[38;5;28;43;01mFalse\u001b[39;49;00m\u001b[43m,\u001b[49m\u001b[43m \u001b[49m\u001b[43mreturn_df_b\u001b[49m\u001b[38;5;241;43m=\u001b[39;49m\u001b[38;5;28;43;01mTrue\u001b[39;49;00m\u001b[43m)\u001b[49m\n\u001b[0;32m    123\u001b[0m     \u001b[38;5;28;01mreturn\u001b[39;00m background_info, clinical_data\n",
      "Cell \u001b[1;32mIn[3], line 95\u001b[0m, in \u001b[0;36mfilter_content_by_prefix\u001b[1;34m(source, prefixes_a, prefixes_b, unselect, source_type, return_df_a, return_df_b)\u001b[0m\n\u001b[0;32m     92\u001b[0m     prefix_set_b \u001b[38;5;241m=\u001b[39m \u001b[38;5;28mset\u001b[39m(prefixes_b)\n\u001b[0;32m     94\u001b[0m \u001b[38;5;66;03m# Use generator to get lines\u001b[39;00m\n\u001b[1;32m---> 95\u001b[0m \u001b[43m\u001b[49m\u001b[38;5;28;43;01mfor\u001b[39;49;00m\u001b[43m \u001b[49m\u001b[43mline\u001b[49m\u001b[43m \u001b[49m\u001b[38;5;129;43;01min\u001b[39;49;00m\u001b[43m \u001b[49m\u001b[43mline_generator\u001b[49m\u001b[43m(\u001b[49m\u001b[43msource\u001b[49m\u001b[43m,\u001b[49m\u001b[43m \u001b[49m\u001b[43msource_type\u001b[49m\u001b[43m)\u001b[49m\u001b[43m:\u001b[49m\n\u001b[0;32m     96\u001b[0m \u001b[43m    \u001b[49m\u001b[43mmatched_a\u001b[49m\u001b[43m \u001b[49m\u001b[38;5;241;43m=\u001b[39;49m\u001b[43m \u001b[49m\u001b[38;5;28;43many\u001b[39;49m\u001b[43m(\u001b[49m\u001b[43mline\u001b[49m\u001b[38;5;241;43m.\u001b[39;49m\u001b[43mstartswith\u001b[49m\u001b[43m(\u001b[49m\u001b[43mprefix\u001b[49m\u001b[43m)\u001b[49m\u001b[43m \u001b[49m\u001b[38;5;28;43;01mfor\u001b[39;49;00m\u001b[43m \u001b[49m\u001b[43mprefix\u001b[49m\u001b[43m \u001b[49m\u001b[38;5;129;43;01min\u001b[39;49;00m\u001b[43m \u001b[49m\u001b[43mprefix_set_a\u001b[49m\u001b[43m)\u001b[49m\n\u001b[0;32m     97\u001b[0m \u001b[43m    \u001b[49m\u001b[38;5;28;43;01mif\u001b[39;49;00m\u001b[43m \u001b[49m\u001b[43mmatched_a\u001b[49m\u001b[43m \u001b[49m\u001b[38;5;241;43m!=\u001b[39;49m\u001b[43m \u001b[49m\u001b[43munselect\u001b[49m\u001b[43m:\u001b[49m\n",
      "Cell \u001b[1;32mIn[3], line 55\u001b[0m, in \u001b[0;36mline_generator\u001b[1;34m(source, source_type)\u001b[0m\n\u001b[0;32m     53\u001b[0m \u001b[38;5;28;01mif\u001b[39;00m source_type \u001b[38;5;241m==\u001b[39m \u001b[38;5;124m'\u001b[39m\u001b[38;5;124mfile\u001b[39m\u001b[38;5;124m'\u001b[39m:\n\u001b[0;32m     54\u001b[0m     \u001b[38;5;28;01mwith\u001b[39;00m gzip\u001b[38;5;241m.\u001b[39mopen(source, \u001b[38;5;124m'\u001b[39m\u001b[38;5;124mrt\u001b[39m\u001b[38;5;124m'\u001b[39m) \u001b[38;5;28;01mas\u001b[39;00m f:\n\u001b[1;32m---> 55\u001b[0m \u001b[43m        \u001b[49m\u001b[38;5;28;43;01mfor\u001b[39;49;00m\u001b[43m \u001b[49m\u001b[43mline\u001b[49m\u001b[43m \u001b[49m\u001b[38;5;129;43;01min\u001b[39;49;00m\u001b[43m \u001b[49m\u001b[43mf\u001b[49m\u001b[43m:\u001b[49m\n\u001b[0;32m     56\u001b[0m \u001b[43m            \u001b[49m\u001b[38;5;28;43;01myield\u001b[39;49;00m\u001b[43m \u001b[49m\u001b[43mline\u001b[49m\u001b[38;5;241;43m.\u001b[39;49m\u001b[43mstrip\u001b[49m\u001b[43m(\u001b[49m\u001b[43m)\u001b[49m\n\u001b[0;32m     57\u001b[0m \u001b[38;5;28;01melif\u001b[39;00m source_type \u001b[38;5;241m==\u001b[39m \u001b[38;5;124m'\u001b[39m\u001b[38;5;124mstring\u001b[39m\u001b[38;5;124m'\u001b[39m:\n",
      "File \u001b[1;32mC:\\Program Files\\WindowsApps\\PythonSoftwareFoundation.Python.3.11_3.11.2544.0_x64__qbz5n2kfra8p0\\Lib\\encodings\\cp1252.py:23\u001b[0m, in \u001b[0;36mIncrementalDecoder.decode\u001b[1;34m(self, input, final)\u001b[0m\n\u001b[0;32m     22\u001b[0m \u001b[38;5;28;01mdef\u001b[39;00m \u001b[38;5;21mdecode\u001b[39m(\u001b[38;5;28mself\u001b[39m, \u001b[38;5;28minput\u001b[39m, final\u001b[38;5;241m=\u001b[39m\u001b[38;5;28;01mFalse\u001b[39;00m):\n\u001b[1;32m---> 23\u001b[0m     \u001b[38;5;28;01mreturn\u001b[39;00m codecs\u001b[38;5;241m.\u001b[39mcharmap_decode(\u001b[38;5;28minput\u001b[39m,\u001b[38;5;28mself\u001b[39m\u001b[38;5;241m.\u001b[39merrors,decoding_table)[\u001b[38;5;241m0\u001b[39m]\n",
      "\u001b[1;31mUnicodeDecodeError\u001b[0m: 'charmap' codec can't decode byte 0x81 in position 2481: character maps to <undefined>"
     ]
    }
   ],
   "source": [
    "background_prefixes = ['!Series_title', '!Series_summary', '!Series_overall_design']\n",
    "clinical_prefixes = ['!Sample_geo_accession', '!Sample_characteristics_ch1']\n",
    "\n",
    "background_info, clinical_data = get_background_and_clinical_data(matrix_file, background_prefixes, clinical_prefixes)\n",
    "print(background_info)"
   ]
  },
  {
   "cell_type": "code",
   "execution_count": 11,
   "metadata": {
    "ExecuteTime": {
     "end_time": "2024-02-27T00:23:30.303593599Z",
     "start_time": "2024-02-27T00:23:30.299747893Z"
    },
    "collapsed": false
   },
   "outputs": [
    {
     "ename": "NameError",
     "evalue": "name 'clinical_data' is not defined",
     "output_type": "error",
     "traceback": [
      "\u001b[1;31m---------------------------------------------------------------------------\u001b[0m",
      "\u001b[1;31mNameError\u001b[0m                                 Traceback (most recent call last)",
      "Cell \u001b[1;32mIn[11], line 1\u001b[0m\n\u001b[1;32m----> 1\u001b[0m \u001b[43mclinical_data\u001b[49m\u001b[38;5;241m.\u001b[39mhead()\n",
      "\u001b[1;31mNameError\u001b[0m: name 'clinical_data' is not defined"
     ]
    }
   ],
   "source": [
    "clinical_data.head()"
   ]
  },
  {
   "cell_type": "code",
   "execution_count": 23,
   "metadata": {
    "ExecuteTime": {
     "end_time": "2024-02-27T00:23:30.315072345Z",
     "start_time": "2024-02-27T00:23:30.305535332Z"
    },
    "collapsed": false
   },
   "outputs": [
    {
     "data": {
      "text/plain": [
       "{0: ['age at diagnosis: 49',\n",
       "  'age at diagnosis: 44',\n",
       "  'age at diagnosis: 41',\n",
       "  'age at diagnosis: 40',\n",
       "  'age at diagnosis: 48',\n",
       "  'age at diagnosis: 42',\n",
       "  'age at diagnosis: 47',\n",
       "  'age at diagnosis: 53',\n",
       "  'age at diagnosis: 74',\n",
       "  'age at diagnosis: 58',\n",
       "  'age at diagnosis: 51',\n",
       "  'age at diagnosis: 55',\n",
       "  'age at diagnosis: 46',\n",
       "  'age at diagnosis: 59',\n",
       "  'age at diagnosis: 50',\n",
       "  'age at diagnosis: 57',\n",
       "  'age at diagnosis: 60',\n",
       "  'age at diagnosis: 69',\n",
       "  'age at diagnosis: n.a.',\n",
       "  'age at diagnosis: 65',\n",
       "  'age at diagnosis: 37',\n",
       "  'age at diagnosis: 63',\n",
       "  'age at diagnosis: 70',\n",
       "  'age at diagnosis: 66',\n",
       "  'age at diagnosis: 64'],\n",
       " 1: ['Sex: female', 'Sex: male'],\n",
       " 2: ['histology: TNBC',\n",
       "  'histology: ER+ PR+ HER2-',\n",
       "  'histology: Unknown',\n",
       "  'histology: ER- PR- HER2+',\n",
       "  'histology: ER+ PR-HER2+',\n",
       "  'histology: ER+ PR- HER2-',\n",
       "  'histology: ER- PR+ HER2-',\n",
       "  'histology: adenocaricnoma'],\n",
       " 3: ['smoking status: n.a',\n",
       "  'smoking status: former-smoker',\n",
       "  'smoking status: smoker',\n",
       "  'smoking status: Never smoking',\n",
       "  'smoking status: unknown',\n",
       "  'smoking status: former-roker'],\n",
       " 4: ['treatment after surgery of bm: surgery + chemotherpy',\n",
       "  'treatment after surgery of bm: surgery +  chemotherpy + Radiotherapy',\n",
       "  'treatment after surgery of bm: surgery + chemotherapy + Radiotherapy',\n",
       "  'treatment after surgery of bm: surgery',\n",
       "  'treatment after surgery of bm: surgery +  chemotherapy + Radiotherapy',\n",
       "  'treatment after surgery of bm: surgery + chemotherapy',\n",
       "  'treatment after surgery of bm: surgery + chemotherpy + Radiotherapy',\n",
       "  'treatment after surgery of bm: surgery + chemotheapy + Radiotherapy',\n",
       "  'treatment after surgery of bm: Chemoterapy',\n",
       "  'treatment after surgery of bm: Radiotherapy & Chemoterapy',\n",
       "  'treatment after surgery of bm: Radiotherapy',\n",
       "  'treatment after surgery of bm: Other',\n",
       "  'treatment after surgery of bm: Surgery & Chemotherapy & Radiotherapy',\n",
       "  'treatment after surgery of bm: surgery & Radiotherapy',\n",
       "  'treatment after surgery of bm: surgery & Radiochemotherapy',\n",
       "  'treatment after surgery of bm: No treatment',\n",
       "  'treatment after surgery of bm: WBRT',\n",
       "  'treatment after surgery of bm: SRT']}"
      ]
     },
     "execution_count": 23,
     "metadata": {},
     "output_type": "execute_result"
    }
   ],
   "source": [
    "clinical_data_unique = get_unique_values_by_row(clinical_data)\n",
    "clinical_data_unique"
   ]
  },
  {
   "cell_type": "markdown",
   "metadata": {
    "ExecuteTime": {
     "end_time": "2023-12-31T03:58:04.978204446Z",
     "start_time": "2023-12-31T03:58:04.922270095Z"
    },
    "collapsed": false
   },
   "source": [
    "Analyze the metadata to determine data relevance and find ways to extract the clinical data.\n",
    "Reference prompt:"
   ]
  },
  {
   "cell_type": "code",
   "execution_count": 24,
   "metadata": {
    "ExecuteTime": {
     "end_time": "2024-02-27T00:23:30.385584131Z",
     "start_time": "2024-02-27T00:23:30.309414449Z"
    },
    "collapsed": false
   },
   "outputs": [
    {
     "data": {
      "text/plain": [
       "'As a biomedical research team, we are selecting datasets to study the association between the human trait \\'Breast Cancer\\' and genetic factors, optionally considering the influence of age and gender. After searching the GEO database and parsing the matrix file of a series, we obtained background information and sample characteristics data. We will provide textual information about the dataset background, and a Python dictionary storing a list of unique values for each field of the sample characteristics data. Please carefully review the provided information and answer the following questions about this dataset:\\n1. Does this dataset contain gene expression data? (Note: Pure miRNA data is not suitable.)\\n2. For each of the traits \\'Breast Cancer\\', \\'age\\', and \\'gender\\', please address these points:\\n   (1) Is there human data available for this trait?\\n   (2) If so, identify the key in the sample characteristics dictionary where unique values of this trait is recorded. The key is an integer. The trait information might be explicitly recorded, or can be inferred from the field with some biomedical knowledge or understanding about the data collection process.\\n   (3) Choose an appropriate data type (either \\'continuous\\' or \\'binary\\') for each trait. Write a Python function to convert any given value of the trait to this data type. The function should handle inference about the trait value and convert unknown values to None.\\n   Name the functions \\'convert_trait\\', \\'convert_age\\', and \\'convert_gender\\', respectively.\\n\\nBackground information about the dataset:\\n!Series_title\\t\"Unlocking Molecular mechanisms and identifying druggable targets in matched-paired brain metastasis of Breast and Lung cancers\\xa0\"\\n!Series_summary\\t\"Introduction: The incidence of brain metastases in cancer patients is increasing, with lung and breast cancer being the most common sources. Despite advancements in targeted therapies, the prognosis remains poor, highlighting the importance to investigate the underlying mechanisms in brain metastases. The aim of this study was to investigate the differences in the molecular mechanisms involved in brain metastasis of breast and lung cancers. In addition, we aimed to identify cancer lineage-specific druggable targets in the brain metastasis. Methods: To that aim, a cohort of 44 FFPE tissue samples, including 22 breast cancer and 22 lung adenocarcinoma (LUAD) and their matched-paired brain metastases were collected. Targeted gene expression profiles of primary tumors were compared to their matched-paired brain metastases samples using nCounter PanCancer IO 360™ Panel of NanoString technologies. Pathway analysis was performed using gene set analysis (GSA) and gene set enrichment analysis (GSEA). The validation was performed by using Immunohistochemistry (IHC) to confirm the expression of immune checkpoint inhibitors. Results: Our results revealed the significant upregulation of cancer-related genes in primary tumors compared to their matched-paired brain metastases (adj. p\\u2009≤\\u20090.05). We found that upregulated differentially expressed genes in breast cancer brain metastasis (BM-BC) and brain metastasis from lung adenocarcinoma (BM-LUAD) were associated with the metabolic stress pathway, particularly related to the glycolysis. Additionally, we found that the upregulated genes in BM-BC and BM-LUAD played roles in immune response regulation, tumor growth, and proliferation. Importantly, we identified high expression of the immune checkpoint VTCN1 in BM-BC, and VISTA, IDO1, NT5E, and HDAC3 in BM-LUAD. Validation using immunohistochemistry further supported these findings. Conclusion: In conclusion, the findings highlight the significance of using matched-paired samples to identify cancer lineage-specific therapies that may improve brain metastasis patients outcomes.\"\\n!Series_overall_design\\t\"RNA was extracted from FFPE samples of (primary LUAD and their matched paired brain metastasis n=22, primary BC and their matched paired brain metastasis n=22)\"\\n\\nSample characteristics dictionary (from \"!Sample_characteristics_ch1\", converted to a Python dictionary that stores the unique values for each field):\\n{0: [\\'age at diagnosis: 49\\', \\'age at diagnosis: 44\\', \\'age at diagnosis: 41\\', \\'age at diagnosis: 40\\', \\'age at diagnosis: 48\\', \\'age at diagnosis: 42\\', \\'age at diagnosis: 47\\', \\'age at diagnosis: 53\\', \\'age at diagnosis: 74\\', \\'age at diagnosis: 58\\', \\'age at diagnosis: 51\\', \\'age at diagnosis: 55\\', \\'age at diagnosis: 46\\', \\'age at diagnosis: 59\\', \\'age at diagnosis: 50\\', \\'age at diagnosis: 57\\', \\'age at diagnosis: 60\\', \\'age at diagnosis: 69\\', \\'age at diagnosis: n.a.\\', \\'age at diagnosis: 65\\', \\'age at diagnosis: 37\\', \\'age at diagnosis: 63\\', \\'age at diagnosis: 70\\', \\'age at diagnosis: 66\\', \\'age at diagnosis: 64\\'], 1: [\\'Sex: female\\', \\'Sex: male\\'], 2: [\\'histology: TNBC\\', \\'histology: ER+ PR+ HER2-\\', \\'histology: Unknown\\', \\'histology: ER- PR- HER2+\\', \\'histology: ER+ PR-HER2+\\', \\'histology: ER+ PR- HER2-\\', \\'histology: ER- PR+ HER2-\\', \\'histology: adenocaricnoma\\'], 3: [\\'smoking status: n.a\\', \\'smoking status: former-smoker\\', \\'smoking status: smoker\\', \\'smoking status: Never smoking\\', \\'smoking status: unknown\\', \\'smoking status: former-roker\\'], 4: [\\'treatment after surgery of bm: surgery + chemotherpy\\', \\'treatment after surgery of bm: surgery +  chemotherpy + Radiotherapy\\', \\'treatment after surgery of bm: surgery + chemotherapy + Radiotherapy\\', \\'treatment after surgery of bm: surgery\\', \\'treatment after surgery of bm: surgery +  chemotherapy + Radiotherapy\\', \\'treatment after surgery of bm: surgery + chemotherapy\\', \\'treatment after surgery of bm: surgery + chemotherpy + Radiotherapy\\', \\'treatment after surgery of bm: surgery + chemotheapy + Radiotherapy\\', \\'treatment after surgery of bm: Chemoterapy\\', \\'treatment after surgery of bm: Radiotherapy & Chemoterapy\\', \\'treatment after surgery of bm: Radiotherapy\\', \\'treatment after surgery of bm: Other\\', \\'treatment after surgery of bm: Surgery & Chemotherapy & Radiotherapy\\', \\'treatment after surgery of bm: surgery & Radiotherapy\\', \\'treatment after surgery of bm: surgery & Radiochemotherapy\\', \\'treatment after surgery of bm: No treatment\\', \\'treatment after surgery of bm: WBRT\\', \\'treatment after surgery of bm: SRT\\']}\\n'"
      ]
     },
     "execution_count": 24,
     "metadata": {},
     "output_type": "execute_result"
    }
   ],
   "source": [
    "f'''As a biomedical research team, we are selecting datasets to study the association between the human trait \\'{TRAIT}\\' and genetic factors, optionally considering the influence of age and gender. After searching the GEO database and parsing the matrix file of a series, we obtained background information and sample characteristics data. We will provide textual information about the dataset background, and a Python dictionary storing a list of unique values for each field of the sample characteristics data. Please carefully review the provided information and answer the following questions about this dataset:\n",
    "1. Does this dataset contain gene expression data? (Note: Pure miRNA data is not suitable.)\n",
    "2. For each of the traits \\'{TRAIT}\\', 'age', and 'gender', please address these points:\n",
    "   (1) Is there human data available for this trait?\n",
    "   (2) If so, identify the key in the sample characteristics dictionary where unique values of this trait is recorded. The key is an integer. The trait information might be explicitly recorded, or can be inferred from the field with some biomedical knowledge or understanding about the data collection process.\n",
    "   (3) Choose an appropriate data type (either 'continuous' or 'binary') for each trait. Write a Python function to convert any given value of the trait to this data type. The function should handle inference about the trait value and convert unknown values to None.\n",
    "   Name the functions 'convert_trait', 'convert_age', and 'convert_gender', respectively.\n",
    "\n",
    "Background information about the dataset:\n",
    "{background_info}\n",
    "\n",
    "Sample characteristics dictionary (from \"!Sample_characteristics_ch1\", converted to a Python dictionary that stores the unique values for each field):\n",
    "{clinical_data_unique}\n",
    "'''"
   ]
  },
  {
   "cell_type": "markdown",
   "metadata": {
    "ExecuteTime": {
     "end_time": "2023-12-31T03:58:04.978240504Z",
     "start_time": "2023-12-31T03:58:04.922365324Z"
    },
    "collapsed": false
   },
   "source": [
    "Understand and verify the answer from GPT, to assign values to the below variables. Assign None to the 'row_id' variables if relevant data row was not found.\n",
    "Later we need to let GPT format its answer to automatically do these. But given the complexity of this step, let's grow some insight from the free-text answers for now."
   ]
  },
  {
   "cell_type": "code",
   "execution_count": 25,
   "metadata": {
    "ExecuteTime": {
     "end_time": "2024-02-27T00:23:30.385782943Z",
     "start_time": "2024-02-27T00:23:30.350942586Z"
    },
    "collapsed": false
   },
   "outputs": [],
   "source": [
    "age_row = gender_row = None\n",
    "convert_age = convert_gender = None"
   ]
  },
  {
   "cell_type": "code",
   "execution_count": 26,
   "metadata": {
    "ExecuteTime": {
     "end_time": "2024-02-27T00:23:30.385870186Z",
     "start_time": "2024-02-27T00:23:30.351051500Z"
    },
    "collapsed": false
   },
   "outputs": [],
   "source": [
    "is_gene_availabe = True\n",
    "trait_row = 2\n",
    "age_row = 0\n",
    "gender_row = 1\n",
    "\n",
    "trait_type = 'binary'"
   ]
  },
  {
   "cell_type": "code",
   "execution_count": 27,
   "metadata": {
    "ExecuteTime": {
     "end_time": "2024-02-27T00:23:30.385957890Z",
     "start_time": "2024-02-27T00:23:30.351268817Z"
    },
    "collapsed": false
   },
   "outputs": [],
   "source": [
    "is_available = is_gene_availabe and (trait_row is not None)\n",
    "if not is_available:\n",
    "    save_cohort_info(cohort, JSON_PATH, is_available)\n",
    "    print(\"This cohort is not usable. Please skip the following steps and jump to the next accession number.\")"
   ]
  },
  {
   "cell_type": "code",
   "execution_count": 28,
   "metadata": {
    "ExecuteTime": {
     "end_time": "2024-02-27T00:23:30.386037459Z",
     "start_time": "2024-02-27T00:23:30.351367211Z"
    },
    "collapsed": false
   },
   "outputs": [],
   "source": [
    "# Verify and use the functions generated by GPT\n",
    "\n",
    "def convert_trait(histology_string):\n",
    "    \"\"\"\n",
    "    Convert histology string to a binary value representing breast cancer.\n",
    "    Presence of breast cancer is represented as 1, absence as 0.\n",
    "    Unknown or non-breast cancer histologies are converted to None.\n",
    "    \"\"\"\n",
    "    breast_cancer_histologies = ['tnbc', 'er+ pr+ her2-', 'er- pr- her2+', 'er+ pr-her2+', 'er+ pr- her2-',\n",
    "                                 'er- pr+ her2-']\n",
    "    histology = histology_string.split(': ')[1].lower()\n",
    "    if histology in breast_cancer_histologies:\n",
    "        return 1\n",
    "    elif histology == 'unknown':\n",
    "        return None\n",
    "    else:\n",
    "        return 0\n",
    "\n",
    "\n",
    "def convert_age(age_string):\n",
    "    \"\"\"\n",
    "    Convert age string to a continuous numerical value.\n",
    "    Unknown values are converted to None.\n",
    "    \"\"\"\n",
    "    if age_string.lower() == 'n.a.':\n",
    "        return None\n",
    "    try:\n",
    "        # Extract age as an integer from the string\n",
    "        age = int(age_string.split(': ')[1])\n",
    "        return age\n",
    "    except (ValueError, IndexError):\n",
    "        # In case of any format error or unexpected string structure\n",
    "        return None\n",
    "\n",
    "\n",
    "# It sometimes maps 'female' to 0, and sometimes 1. Does it matter?\n",
    "def convert_gender(gender_string):\n",
    "    \"\"\"\n",
    "    Convert gender string to a binary value.\n",
    "    'female' is represented as 1, 'male' as 0.\n",
    "    Unknown values are converted to None.\n",
    "    \"\"\"\n",
    "    if gender_string.lower() == 'sex: female':\n",
    "        return 1\n",
    "    elif gender_string.lower() == 'sex: male':\n",
    "        return 0\n",
    "    else:\n",
    "        return None"
   ]
  },
  {
   "cell_type": "code",
   "execution_count": 29,
   "metadata": {
    "ExecuteTime": {
     "end_time": "2024-02-27T00:23:30.386191717Z",
     "start_time": "2024-02-27T00:23:30.351458802Z"
    },
    "collapsed": false
   },
   "outputs": [
    {
     "data": {
      "text/html": [
       "<div>\n",
       "<style scoped>\n",
       "    .dataframe tbody tr th:only-of-type {\n",
       "        vertical-align: middle;\n",
       "    }\n",
       "\n",
       "    .dataframe tbody tr th {\n",
       "        vertical-align: top;\n",
       "    }\n",
       "\n",
       "    .dataframe thead th {\n",
       "        text-align: right;\n",
       "    }\n",
       "</style>\n",
       "<table border=\"1\" class=\"dataframe\">\n",
       "  <thead>\n",
       "    <tr style=\"text-align: right;\">\n",
       "      <th></th>\n",
       "      <th>GSM7920782</th>\n",
       "      <th>GSM7920783</th>\n",
       "      <th>GSM7920784</th>\n",
       "      <th>GSM7920785</th>\n",
       "      <th>GSM7920786</th>\n",
       "      <th>GSM7920787</th>\n",
       "      <th>GSM7920788</th>\n",
       "      <th>GSM7920789</th>\n",
       "      <th>GSM7920790</th>\n",
       "      <th>GSM7920791</th>\n",
       "      <th>...</th>\n",
       "      <th>GSM7920816</th>\n",
       "      <th>GSM7920817</th>\n",
       "      <th>GSM7920818</th>\n",
       "      <th>GSM7920819</th>\n",
       "      <th>GSM7920820</th>\n",
       "      <th>GSM7920821</th>\n",
       "      <th>GSM7920822</th>\n",
       "      <th>GSM7920823</th>\n",
       "      <th>GSM7920824</th>\n",
       "      <th>GSM7920825</th>\n",
       "    </tr>\n",
       "  </thead>\n",
       "  <tbody>\n",
       "    <tr>\n",
       "      <th>Breast Cancer</th>\n",
       "      <td>1</td>\n",
       "      <td>1</td>\n",
       "      <td>None</td>\n",
       "      <td>1</td>\n",
       "      <td>1</td>\n",
       "      <td>None</td>\n",
       "      <td>1</td>\n",
       "      <td>1</td>\n",
       "      <td>1</td>\n",
       "      <td>1</td>\n",
       "      <td>...</td>\n",
       "      <td>0</td>\n",
       "      <td>0</td>\n",
       "      <td>0</td>\n",
       "      <td>0</td>\n",
       "      <td>0</td>\n",
       "      <td>0</td>\n",
       "      <td>0</td>\n",
       "      <td>0</td>\n",
       "      <td>0</td>\n",
       "      <td>0</td>\n",
       "    </tr>\n",
       "    <tr>\n",
       "      <th>Age</th>\n",
       "      <td>49</td>\n",
       "      <td>44</td>\n",
       "      <td>41</td>\n",
       "      <td>40</td>\n",
       "      <td>48</td>\n",
       "      <td>42</td>\n",
       "      <td>47</td>\n",
       "      <td>53</td>\n",
       "      <td>41</td>\n",
       "      <td>74</td>\n",
       "      <td>...</td>\n",
       "      <td>63</td>\n",
       "      <td>60</td>\n",
       "      <td>58</td>\n",
       "      <td>70</td>\n",
       "      <td>66</td>\n",
       "      <td>64</td>\n",
       "      <td>60</td>\n",
       "      <td>50</td>\n",
       "      <td>66</td>\n",
       "      <td>74</td>\n",
       "    </tr>\n",
       "    <tr>\n",
       "      <th>Gender</th>\n",
       "      <td>1</td>\n",
       "      <td>1</td>\n",
       "      <td>1</td>\n",
       "      <td>1</td>\n",
       "      <td>1</td>\n",
       "      <td>1</td>\n",
       "      <td>1</td>\n",
       "      <td>1</td>\n",
       "      <td>1</td>\n",
       "      <td>1</td>\n",
       "      <td>...</td>\n",
       "      <td>0</td>\n",
       "      <td>0</td>\n",
       "      <td>1</td>\n",
       "      <td>1</td>\n",
       "      <td>1</td>\n",
       "      <td>0</td>\n",
       "      <td>0</td>\n",
       "      <td>1</td>\n",
       "      <td>0</td>\n",
       "      <td>0</td>\n",
       "    </tr>\n",
       "  </tbody>\n",
       "</table>\n",
       "<p>3 rows × 44 columns</p>\n",
       "</div>"
      ],
      "text/plain": [
       "               GSM7920782  GSM7920783 GSM7920784  GSM7920785  GSM7920786  \\\n",
       "Breast Cancer           1           1       None           1           1   \n",
       "Age                    49          44         41          40          48   \n",
       "Gender                  1           1          1           1           1   \n",
       "\n",
       "              GSM7920787  GSM7920788  GSM7920789  GSM7920790  GSM7920791  ...  \\\n",
       "Breast Cancer       None           1           1           1           1  ...   \n",
       "Age                   42          47          53          41          74  ...   \n",
       "Gender                 1           1           1           1           1  ...   \n",
       "\n",
       "               GSM7920816  GSM7920817  GSM7920818 GSM7920819  GSM7920820  \\\n",
       "Breast Cancer           0           0           0          0           0   \n",
       "Age                    63          60          58         70          66   \n",
       "Gender                  0           0           1          1           1   \n",
       "\n",
       "               GSM7920821  GSM7920822  GSM7920823  GSM7920824  GSM7920825  \n",
       "Breast Cancer           0           0           0           0           0  \n",
       "Age                    64          60          50          66          74  \n",
       "Gender                  0           0           1           0           0  \n",
       "\n",
       "[3 rows x 44 columns]"
      ]
     },
     "execution_count": 29,
     "metadata": {},
     "output_type": "execute_result"
    }
   ],
   "source": [
    "selected_clinical_data = geo_select_clinical_features(clinical_data, TRAIT, trait_row, convert_trait, age_row=age_row,\n",
    "                                                      convert_age=convert_age, gender_row=gender_row,\n",
    "                                                      convert_gender=convert_gender)\n",
    "selected_clinical_data.head()"
   ]
  },
  {
   "cell_type": "markdown",
   "metadata": {
    "ExecuteTime": {
     "end_time": "2023-12-31T03:58:04.978664193Z",
     "start_time": "2023-12-31T03:58:04.966117261Z"
    },
    "collapsed": false
   },
   "source": [
    "### Genetic data preprocessing and final filtering"
   ]
  },
  {
   "cell_type": "code",
   "execution_count": 30,
   "metadata": {
    "ExecuteTime": {
     "end_time": "2024-02-27T00:23:30.394809420Z",
     "start_time": "2024-02-27T00:23:30.351566744Z"
    },
    "collapsed": false
   },
   "outputs": [
    {
     "data": {
      "text/html": [
       "<div>\n",
       "<style scoped>\n",
       "    .dataframe tbody tr th:only-of-type {\n",
       "        vertical-align: middle;\n",
       "    }\n",
       "\n",
       "    .dataframe tbody tr th {\n",
       "        vertical-align: top;\n",
       "    }\n",
       "\n",
       "    .dataframe thead th {\n",
       "        text-align: right;\n",
       "    }\n",
       "</style>\n",
       "<table border=\"1\" class=\"dataframe\">\n",
       "  <thead>\n",
       "    <tr style=\"text-align: right;\">\n",
       "      <th></th>\n",
       "      <th>GSM7920782</th>\n",
       "      <th>GSM7920783</th>\n",
       "      <th>GSM7920784</th>\n",
       "      <th>GSM7920785</th>\n",
       "      <th>GSM7920786</th>\n",
       "      <th>GSM7920787</th>\n",
       "      <th>GSM7920788</th>\n",
       "      <th>GSM7920789</th>\n",
       "      <th>GSM7920790</th>\n",
       "      <th>GSM7920791</th>\n",
       "      <th>...</th>\n",
       "      <th>GSM7920816</th>\n",
       "      <th>GSM7920817</th>\n",
       "      <th>GSM7920818</th>\n",
       "      <th>GSM7920819</th>\n",
       "      <th>GSM7920820</th>\n",
       "      <th>GSM7920821</th>\n",
       "      <th>GSM7920822</th>\n",
       "      <th>GSM7920823</th>\n",
       "      <th>GSM7920824</th>\n",
       "      <th>GSM7920825</th>\n",
       "    </tr>\n",
       "    <tr>\n",
       "      <th>ID</th>\n",
       "      <th></th>\n",
       "      <th></th>\n",
       "      <th></th>\n",
       "      <th></th>\n",
       "      <th></th>\n",
       "      <th></th>\n",
       "      <th></th>\n",
       "      <th></th>\n",
       "      <th></th>\n",
       "      <th></th>\n",
       "      <th></th>\n",
       "      <th></th>\n",
       "      <th></th>\n",
       "      <th></th>\n",
       "      <th></th>\n",
       "      <th></th>\n",
       "      <th></th>\n",
       "      <th></th>\n",
       "      <th></th>\n",
       "      <th></th>\n",
       "      <th></th>\n",
       "    </tr>\n",
       "  </thead>\n",
       "  <tbody>\n",
       "    <tr>\n",
       "      <th>A2M</th>\n",
       "      <td>13.210102</td>\n",
       "      <td>13.237969</td>\n",
       "      <td>14.728878</td>\n",
       "      <td>15.399663</td>\n",
       "      <td>12.970464</td>\n",
       "      <td>13.014807</td>\n",
       "      <td>12.521967</td>\n",
       "      <td>13.055481</td>\n",
       "      <td>13.219538</td>\n",
       "      <td>14.543370</td>\n",
       "      <td>...</td>\n",
       "      <td>12.635802</td>\n",
       "      <td>12.487090</td>\n",
       "      <td>11.743261</td>\n",
       "      <td>13.219376</td>\n",
       "      <td>12.499513</td>\n",
       "      <td>11.719452</td>\n",
       "      <td>12.509194</td>\n",
       "      <td>11.682523</td>\n",
       "      <td>10.885632</td>\n",
       "      <td>11.277235</td>\n",
       "    </tr>\n",
       "    <tr>\n",
       "      <th>ACVR1C</th>\n",
       "      <td>5.128485</td>\n",
       "      <td>5.336850</td>\n",
       "      <td>5.611523</td>\n",
       "      <td>5.041711</td>\n",
       "      <td>6.342262</td>\n",
       "      <td>5.005301</td>\n",
       "      <td>4.148600</td>\n",
       "      <td>5.665523</td>\n",
       "      <td>5.548821</td>\n",
       "      <td>5.081208</td>\n",
       "      <td>...</td>\n",
       "      <td>5.756039</td>\n",
       "      <td>6.795792</td>\n",
       "      <td>6.873777</td>\n",
       "      <td>6.848304</td>\n",
       "      <td>5.106051</td>\n",
       "      <td>6.790117</td>\n",
       "      <td>3.936121</td>\n",
       "      <td>2.998025</td>\n",
       "      <td>6.339292</td>\n",
       "      <td>4.463217</td>\n",
       "    </tr>\n",
       "    <tr>\n",
       "      <th>ADAM12</th>\n",
       "      <td>9.806557</td>\n",
       "      <td>12.374397</td>\n",
       "      <td>9.953351</td>\n",
       "      <td>8.507092</td>\n",
       "      <td>11.402156</td>\n",
       "      <td>10.739489</td>\n",
       "      <td>9.114680</td>\n",
       "      <td>11.095729</td>\n",
       "      <td>8.762302</td>\n",
       "      <td>9.600964</td>\n",
       "      <td>...</td>\n",
       "      <td>8.280338</td>\n",
       "      <td>6.973884</td>\n",
       "      <td>7.113936</td>\n",
       "      <td>8.036966</td>\n",
       "      <td>8.398832</td>\n",
       "      <td>5.346283</td>\n",
       "      <td>9.429915</td>\n",
       "      <td>7.863096</td>\n",
       "      <td>10.774084</td>\n",
       "      <td>4.708329</td>\n",
       "    </tr>\n",
       "    <tr>\n",
       "      <th>ADGRE1</th>\n",
       "      <td>4.128485</td>\n",
       "      <td>3.751888</td>\n",
       "      <td>4.611523</td>\n",
       "      <td>4.582279</td>\n",
       "      <td>3.771514</td>\n",
       "      <td>4.420338</td>\n",
       "      <td>2.863198</td>\n",
       "      <td>4.800452</td>\n",
       "      <td>3.860765</td>\n",
       "      <td>3.844169</td>\n",
       "      <td>...</td>\n",
       "      <td>2.806079</td>\n",
       "      <td>5.926579</td>\n",
       "      <td>2.066422</td>\n",
       "      <td>6.447342</td>\n",
       "      <td>4.286623</td>\n",
       "      <td>3.665105</td>\n",
       "      <td>3.415288</td>\n",
       "      <td>1.190670</td>\n",
       "      <td>2.251830</td>\n",
       "      <td>-0.291671</td>\n",
       "    </tr>\n",
       "    <tr>\n",
       "      <th>ADM</th>\n",
       "      <td>10.953762</td>\n",
       "      <td>10.544678</td>\n",
       "      <td>8.155844</td>\n",
       "      <td>9.333824</td>\n",
       "      <td>8.438938</td>\n",
       "      <td>9.446117</td>\n",
       "      <td>8.285262</td>\n",
       "      <td>8.551518</td>\n",
       "      <td>9.567357</td>\n",
       "      <td>8.437694</td>\n",
       "      <td>...</td>\n",
       "      <td>11.577869</td>\n",
       "      <td>11.051458</td>\n",
       "      <td>7.742883</td>\n",
       "      <td>9.596892</td>\n",
       "      <td>6.993576</td>\n",
       "      <td>8.531638</td>\n",
       "      <td>8.579977</td>\n",
       "      <td>8.150672</td>\n",
       "      <td>9.623969</td>\n",
       "      <td>7.790478</td>\n",
       "    </tr>\n",
       "  </tbody>\n",
       "</table>\n",
       "<p>5 rows × 44 columns</p>\n",
       "</div>"
      ],
      "text/plain": [
       "        GSM7920782  GSM7920783  GSM7920784  GSM7920785  GSM7920786  \\\n",
       "ID                                                                   \n",
       "A2M      13.210102   13.237969   14.728878   15.399663   12.970464   \n",
       "ACVR1C    5.128485    5.336850    5.611523    5.041711    6.342262   \n",
       "ADAM12    9.806557   12.374397    9.953351    8.507092   11.402156   \n",
       "ADGRE1    4.128485    3.751888    4.611523    4.582279    3.771514   \n",
       "ADM      10.953762   10.544678    8.155844    9.333824    8.438938   \n",
       "\n",
       "        GSM7920787  GSM7920788  GSM7920789  GSM7920790  GSM7920791  ...  \\\n",
       "ID                                                                  ...   \n",
       "A2M      13.014807   12.521967   13.055481   13.219538   14.543370  ...   \n",
       "ACVR1C    5.005301    4.148600    5.665523    5.548821    5.081208  ...   \n",
       "ADAM12   10.739489    9.114680   11.095729    8.762302    9.600964  ...   \n",
       "ADGRE1    4.420338    2.863198    4.800452    3.860765    3.844169  ...   \n",
       "ADM       9.446117    8.285262    8.551518    9.567357    8.437694  ...   \n",
       "\n",
       "        GSM7920816  GSM7920817  GSM7920818  GSM7920819  GSM7920820  \\\n",
       "ID                                                                   \n",
       "A2M      12.635802   12.487090   11.743261   13.219376   12.499513   \n",
       "ACVR1C    5.756039    6.795792    6.873777    6.848304    5.106051   \n",
       "ADAM12    8.280338    6.973884    7.113936    8.036966    8.398832   \n",
       "ADGRE1    2.806079    5.926579    2.066422    6.447342    4.286623   \n",
       "ADM      11.577869   11.051458    7.742883    9.596892    6.993576   \n",
       "\n",
       "        GSM7920821  GSM7920822  GSM7920823  GSM7920824  GSM7920825  \n",
       "ID                                                                  \n",
       "A2M      11.719452   12.509194   11.682523   10.885632   11.277235  \n",
       "ACVR1C    6.790117    3.936121    2.998025    6.339292    4.463217  \n",
       "ADAM12    5.346283    9.429915    7.863096   10.774084    4.708329  \n",
       "ADGRE1    3.665105    3.415288    1.190670    2.251830   -0.291671  \n",
       "ADM       8.531638    8.579977    8.150672    9.623969    7.790478  \n",
       "\n",
       "[5 rows x 44 columns]"
      ]
     },
     "execution_count": 30,
     "metadata": {},
     "output_type": "execute_result"
    }
   ],
   "source": [
    "genetic_data = get_genetic_data(matrix_file)\n",
    "genetic_data.head()"
   ]
  },
  {
   "cell_type": "code",
   "execution_count": 31,
   "metadata": {
    "ExecuteTime": {
     "end_time": "2024-02-27T00:23:30.481283320Z",
     "start_time": "2024-02-27T00:23:30.363656224Z"
    },
    "collapsed": false
   },
   "outputs": [
    {
     "data": {
      "text/plain": [
       "['A2M',\n",
       " 'ACVR1C',\n",
       " 'ADAM12',\n",
       " 'ADGRE1',\n",
       " 'ADM',\n",
       " 'ADORA2A',\n",
       " 'AKT1',\n",
       " 'ALDOA',\n",
       " 'ALDOC',\n",
       " 'ANGPT1',\n",
       " 'ANGPT2',\n",
       " 'ANGPTL4',\n",
       " 'ANLN',\n",
       " 'APC',\n",
       " 'APH1B',\n",
       " 'API5',\n",
       " 'APLNR',\n",
       " 'APOE',\n",
       " 'APOL6',\n",
       " 'AQP9']"
      ]
     },
     "execution_count": 31,
     "metadata": {},
     "output_type": "execute_result"
    }
   ],
   "source": [
    "gene_row_ids = genetic_data.index[:20].tolist()\n",
    "gene_row_ids"
   ]
  },
  {
   "cell_type": "markdown",
   "metadata": {
    "ExecuteTime": {
     "end_time": "2023-12-31T03:30:41.595335164Z",
     "start_time": "2023-12-31T03:30:41.513232329Z"
    },
    "collapsed": false
   },
   "source": [
    "Check if the gene dataset requires mapping to get the gene symbols corresponding to each data row."
   ]
  },
  {
   "cell_type": "markdown",
   "metadata": {
    "collapsed": false
   },
   "source": [
    "Reference prompt:"
   ]
  },
  {
   "cell_type": "code",
   "execution_count": 32,
   "metadata": {
    "ExecuteTime": {
     "end_time": "2024-02-27T00:23:30.481654274Z",
     "start_time": "2024-02-27T00:23:30.413379675Z"
    },
    "collapsed": false
   },
   "outputs": [
    {
     "data": {
      "text/plain": [
       "\"\\nBelow are the row headers of a gene expression dataset in GEO. Based on your biomedical knowledge, are they human gene symbols, or are they some other identifiers that need to be mapped to gene symbols? Your answer should be concluded by starting a new line and strictly following this format:\\nrequires_gene_mapping = (True or False)\\n\\nRow headers:\\n['A2M', 'ACVR1C', 'ADAM12', 'ADGRE1', 'ADM', 'ADORA2A', 'AKT1', 'ALDOA', 'ALDOC', 'ANGPT1', 'ANGPT2', 'ANGPTL4', 'ANLN', 'APC', 'APH1B', 'API5', 'APLNR', 'APOE', 'APOL6', 'AQP9']\\n\""
      ]
     },
     "execution_count": 32,
     "metadata": {},
     "output_type": "execute_result"
    }
   ],
   "source": [
    "f'''\n",
    "Below are the row headers of a gene expression dataset in GEO. Based on your biomedical knowledge, are they human gene symbols, or are they some other identifiers that need to be mapped to gene symbols? Your answer should be concluded by starting a new line and strictly following this format:\n",
    "requires_gene_mapping = (True or False)\n",
    "\n",
    "Row headers:\n",
    "{gene_row_ids}\n",
    "'''"
   ]
  },
  {
   "cell_type": "markdown",
   "metadata": {
    "collapsed": false
   },
   "source": [
    "\n",
    "If not required, jump directly to the gene normalization step"
   ]
  },
  {
   "cell_type": "code",
   "execution_count": 33,
   "metadata": {
    "ExecuteTime": {
     "end_time": "2024-02-27T00:23:30.481758349Z",
     "start_time": "2024-02-27T00:23:30.413504759Z"
    },
    "collapsed": false
   },
   "outputs": [],
   "source": [
    "requires_gene_mapping = False"
   ]
  },
  {
   "cell_type": "code",
   "execution_count": 34,
   "metadata": {
    "ExecuteTime": {
     "end_time": "2024-02-27T00:23:30.481841494Z",
     "start_time": "2024-02-27T00:23:30.413594938Z"
    },
    "collapsed": false
   },
   "outputs": [],
   "source": [
    "if requires_gene_mapping:\n",
    "    gene_annotation = get_gene_annotation(soft_file)\n",
    "    gene_annotation_summary = preview_df(gene_annotation)\n",
    "    print(gene_annotation_summary)"
   ]
  },
  {
   "cell_type": "markdown",
   "metadata": {
    "ExecuteTime": {
     "end_time": "2023-12-31T03:58:04.978931927Z",
     "start_time": "2023-12-31T03:58:04.966328339Z"
    },
    "collapsed": false
   },
   "source": [
    "Observe the first few cells in the ID column of the gene annotation dataframe, to find the names of columns that store the gene probe IDs and gene symbols respectively.\n",
    "Reference prompt:"
   ]
  },
  {
   "cell_type": "code",
   "execution_count": 35,
   "metadata": {
    "ExecuteTime": {
     "end_time": "2024-02-27T00:23:30.481923598Z",
     "start_time": "2024-02-27T00:23:30.413680388Z"
    },
    "collapsed": false
   },
   "outputs": [],
   "source": [
    "if requires_gene_mapping:\n",
    "    print(f'''\n",
    "    As a biomedical research team, we are analyzing a gene expression dataset, and find that its row headers are some identifiers related to genes:\n",
    "    {gene_row_ids}\n",
    "    To get the mapping from those identifiers to actual gene symbols, we extracted the gene annotation data from a series in the GEO database, and saved it to a Python dictionary. Please read the dictionary, and decide which key stores the identifiers, and which key stores the gene symbols. Please strictly follow this format in your answer:\n",
    "    identifier_key = 'key_name1'\n",
    "    gene_symbol_key = 'key_name2'\n",
    "\n",
    "    Gene annotation dictionary:\n",
    "    {gene_annotation_summary}\n",
    "    ''')"
   ]
  },
  {
   "cell_type": "code",
   "execution_count": 36,
   "metadata": {
    "ExecuteTime": {
     "end_time": "2024-02-27T00:23:30.482007034Z",
     "start_time": "2024-02-27T00:23:30.413823155Z"
    },
    "collapsed": false
   },
   "outputs": [],
   "source": [
    "if requires_gene_mapping:\n",
    "    identifier_key = 'ID'\n",
    "    gene_symbol_key = 'UCSC_RefGene_Name'\n",
    "    gene_mapping = get_gene_mapping(gene_annotation, identifier_key, gene_symbol_key)\n",
    "    genetic_data = apply_gene_mapping(genetic_data, gene_mapping)"
   ]
  },
  {
   "cell_type": "code",
   "execution_count": 37,
   "metadata": {
    "ExecuteTime": {
     "end_time": "2024-02-27T00:23:32.440490271Z",
     "start_time": "2024-02-27T00:23:30.413912422Z"
    },
    "collapsed": false
   },
   "outputs": [],
   "source": [
    "if NORMALIZE_GENE:\n",
    "    genetic_data = normalize_gene_symbols_in_index(genetic_data)"
   ]
  },
  {
   "cell_type": "code",
   "execution_count": 38,
   "metadata": {
    "ExecuteTime": {
     "end_time": "2024-02-27T00:23:32.491265391Z",
     "start_time": "2024-02-27T00:23:32.447650138Z"
    },
    "collapsed": false
   },
   "outputs": [],
   "source": [
    "merged_data = geo_merge_clinical_genetic_data(selected_clinical_data, genetic_data)\n",
    "# The preprocessing runs through, which means is_available should be True\n",
    "is_available = True"
   ]
  },
  {
   "cell_type": "code",
   "execution_count": 39,
   "metadata": {
    "ExecuteTime": {
     "end_time": "2024-02-27T00:23:32.491666522Z",
     "start_time": "2024-02-27T00:23:32.491106344Z"
    },
    "collapsed": false
   },
   "outputs": [
    {
     "name": "stdout",
     "output_type": "stream",
     "text": [
      "The merged dataset contains 38 samples.\n"
     ]
    }
   ],
   "source": [
    "print(f\"The merged dataset contains {len(merged_data)} samples.\")"
   ]
  },
  {
   "cell_type": "code",
   "execution_count": 40,
   "metadata": {
    "ExecuteTime": {
     "end_time": "2024-02-27T00:23:32.492392340Z",
     "start_time": "2024-02-27T00:23:32.491448724Z"
    },
    "collapsed": false
   },
   "outputs": [
    {
     "name": "stdout",
     "output_type": "stream",
     "text": [
      "For the feature 'Breast Cancer', the least common label is '1.0' with 19 occurrences. This represents 50.00% of the dataset.\n",
      "The distribution of the feature 'Breast Cancer' in this dataset is fine.\n",
      "\n",
      "Quartiles for 'Age':\n",
      "  25%: 47.25\n",
      "  50% (Median): 55.0\n",
      "  75%: 62.25\n",
      "Min: 37.0\n",
      "Max: 74.0\n",
      "The distribution of the feature 'Age' in this dataset is fine.\n",
      "\n",
      "For the feature 'Gender', the least common label is '0.0' with 11 occurrences. This represents 28.95% of the dataset.\n",
      "The distribution of the feature 'Gender' in this dataset is fine.\n",
      "\n"
     ]
    },
    {
     "data": {
      "text/plain": [
       "False"
      ]
     },
     "execution_count": 40,
     "metadata": {},
     "output_type": "execute_result"
    }
   ],
   "source": [
    "is_trait_biased, merged_data = judge_and_remove_biased_features(merged_data, TRAIT, trait_type=trait_type)\n",
    "is_trait_biased"
   ]
  },
  {
   "cell_type": "code",
   "execution_count": 41,
   "metadata": {
    "ExecuteTime": {
     "end_time": "2024-02-27T00:23:32.492558941Z",
     "start_time": "2024-02-27T00:23:32.491785675Z"
    },
    "collapsed": false
   },
   "outputs": [],
   "source": [
    "if is_available:\n",
    "    save_cohort_info(cohort, JSON_PATH, is_available, is_trait_biased, merged_data, note='')\n",
    "else:\n",
    "    save_cohort_info(cohort, JSON_PATH, is_available)"
   ]
  },
  {
   "cell_type": "code",
   "execution_count": 42,
   "metadata": {
    "ExecuteTime": {
     "end_time": "2024-02-27T00:23:32.498376085Z",
     "start_time": "2024-02-27T00:23:32.492193538Z"
    },
    "collapsed": false
   },
   "outputs": [],
   "source": [
    "merged_data.head()\n",
    "if not is_trait_biased:\n",
    "    merged_data.to_csv(os.path.join(OUTPUT_DIR, cohort + '.csv'), index=False)"
   ]
  },
  {
   "cell_type": "markdown",
   "metadata": {
    "ExecuteTime": {
     "end_time": "2023-12-31T03:58:22.271683755Z",
     "start_time": "2023-12-31T03:58:22.246557674Z"
    },
    "id": "-MTPhRGxJV7I"
   },
   "source": [
    "### 3. Do regression & Cross Validation"
   ]
  },
  {
   "cell_type": "code",
   "execution_count": 43,
   "metadata": {
    "ExecuteTime": {
     "end_time": "2024-02-27T00:23:32.547717211Z",
     "start_time": "2024-02-27T00:23:32.505440491Z"
    },
    "collapsed": false
   },
   "outputs": [
    {
     "data": {
      "text/html": [
       "<div>\n",
       "<style scoped>\n",
       "    .dataframe tbody tr th:only-of-type {\n",
       "        vertical-align: middle;\n",
       "    }\n",
       "\n",
       "    .dataframe tbody tr th {\n",
       "        vertical-align: top;\n",
       "    }\n",
       "\n",
       "    .dataframe thead th {\n",
       "        text-align: right;\n",
       "    }\n",
       "</style>\n",
       "<table border=\"1\" class=\"dataframe\">\n",
       "  <thead>\n",
       "    <tr style=\"text-align: right;\">\n",
       "      <th></th>\n",
       "      <th>cohort_id</th>\n",
       "      <th>is_usable</th>\n",
       "      <th>is_available</th>\n",
       "      <th>is_biased</th>\n",
       "      <th>has_age</th>\n",
       "      <th>has_gender</th>\n",
       "      <th>sample_size</th>\n",
       "      <th>note</th>\n",
       "    </tr>\n",
       "  </thead>\n",
       "  <tbody>\n",
       "    <tr>\n",
       "      <th>0</th>\n",
       "      <td>Xena</td>\n",
       "      <td>True</td>\n",
       "      <td>True</td>\n",
       "      <td>False</td>\n",
       "      <td>True</td>\n",
       "      <td>True</td>\n",
       "      <td>1215</td>\n",
       "      <td></td>\n",
       "    </tr>\n",
       "    <tr>\n",
       "      <th>1</th>\n",
       "      <td>GSE248830</td>\n",
       "      <td>True</td>\n",
       "      <td>True</td>\n",
       "      <td>False</td>\n",
       "      <td>True</td>\n",
       "      <td>True</td>\n",
       "      <td>38</td>\n",
       "      <td></td>\n",
       "    </tr>\n",
       "  </tbody>\n",
       "</table>\n",
       "</div>"
      ],
      "text/plain": [
       "   cohort_id  is_usable  is_available  is_biased  has_age  has_gender  \\\n",
       "0       Xena       True          True      False     True        True   \n",
       "1  GSE248830       True          True      False     True        True   \n",
       "\n",
       "   sample_size note  \n",
       "0         1215       \n",
       "1           38       "
      ]
     },
     "execution_count": 43,
     "metadata": {},
     "output_type": "execute_result"
    }
   ],
   "source": [
    "# Check the information of usable cohorts\n",
    "best_cohort, ranked_df = filter_and_rank_cohorts(JSON_PATH)\n",
    "ranked_df"
   ]
  },
  {
   "cell_type": "code",
   "execution_count": 44,
   "metadata": {
    "ExecuteTime": {
     "end_time": "2024-02-27T00:23:32.548029335Z",
     "start_time": "2024-02-27T00:23:32.547124542Z"
    },
    "collapsed": false
   },
   "outputs": [
    {
     "data": {
      "text/plain": [
       "'Xena'"
      ]
     },
     "execution_count": 44,
     "metadata": {},
     "output_type": "execute_result"
    }
   ],
   "source": [
    "# If both age and gender have available cohorts, select 'age' as the condition.\n",
    "condition = 'Age'\n",
    "filter_column = 'has_' + condition.lower()\n",
    "\n",
    "condition_best_cohort, condition_ranked_df = filter_and_rank_cohorts(JSON_PATH, filter_column)\n",
    "condition_best_cohort"
   ]
  },
  {
   "cell_type": "code",
   "execution_count": 45,
   "metadata": {
    "ExecuteTime": {
     "end_time": "2024-02-27T00:23:32.548270706Z",
     "start_time": "2024-02-27T00:23:32.547406760Z"
    },
    "collapsed": false
   },
   "outputs": [
    {
     "data": {
      "text/html": [
       "<div>\n",
       "<style scoped>\n",
       "    .dataframe tbody tr th:only-of-type {\n",
       "        vertical-align: middle;\n",
       "    }\n",
       "\n",
       "    .dataframe tbody tr th {\n",
       "        vertical-align: top;\n",
       "    }\n",
       "\n",
       "    .dataframe thead th {\n",
       "        text-align: right;\n",
       "    }\n",
       "</style>\n",
       "<table border=\"1\" class=\"dataframe\">\n",
       "  <thead>\n",
       "    <tr style=\"text-align: right;\">\n",
       "      <th></th>\n",
       "      <th>cohort_id</th>\n",
       "      <th>is_usable</th>\n",
       "      <th>is_available</th>\n",
       "      <th>is_biased</th>\n",
       "      <th>has_age</th>\n",
       "      <th>has_gender</th>\n",
       "      <th>sample_size</th>\n",
       "      <th>note</th>\n",
       "    </tr>\n",
       "  </thead>\n",
       "  <tbody>\n",
       "    <tr>\n",
       "      <th>0</th>\n",
       "      <td>Xena</td>\n",
       "      <td>True</td>\n",
       "      <td>True</td>\n",
       "      <td>False</td>\n",
       "      <td>True</td>\n",
       "      <td>True</td>\n",
       "      <td>1215</td>\n",
       "      <td></td>\n",
       "    </tr>\n",
       "    <tr>\n",
       "      <th>1</th>\n",
       "      <td>GSE248830</td>\n",
       "      <td>True</td>\n",
       "      <td>True</td>\n",
       "      <td>False</td>\n",
       "      <td>True</td>\n",
       "      <td>True</td>\n",
       "      <td>38</td>\n",
       "      <td></td>\n",
       "    </tr>\n",
       "  </tbody>\n",
       "</table>\n",
       "</div>"
      ],
      "text/plain": [
       "   cohort_id  is_usable  is_available  is_biased  has_age  has_gender  \\\n",
       "0       Xena       True          True      False     True        True   \n",
       "1  GSE248830       True          True      False     True        True   \n",
       "\n",
       "   sample_size note  \n",
       "0         1215       \n",
       "1           38       "
      ]
     },
     "execution_count": 45,
     "metadata": {},
     "output_type": "execute_result"
    }
   ],
   "source": [
    "\n",
    "condition_ranked_df.head()"
   ]
  },
  {
   "cell_type": "code",
   "execution_count": 46,
   "metadata": {
    "ExecuteTime": {
     "end_time": "2024-02-27T00:23:38.343632200Z",
     "start_time": "2024-02-27T00:23:32.547609900Z"
    },
    "collapsed": false
   },
   "outputs": [
    {
     "data": {
      "text/html": [
       "<div>\n",
       "<style scoped>\n",
       "    .dataframe tbody tr th:only-of-type {\n",
       "        vertical-align: middle;\n",
       "    }\n",
       "\n",
       "    .dataframe tbody tr th {\n",
       "        vertical-align: top;\n",
       "    }\n",
       "\n",
       "    .dataframe thead th {\n",
       "        text-align: right;\n",
       "    }\n",
       "</style>\n",
       "<table border=\"1\" class=\"dataframe\">\n",
       "  <thead>\n",
       "    <tr style=\"text-align: right;\">\n",
       "      <th></th>\n",
       "      <th>Breast Cancer</th>\n",
       "      <th>Age</th>\n",
       "      <th>Gender</th>\n",
       "      <th>ARHGEF10L</th>\n",
       "      <th>HIF3A</th>\n",
       "      <th>RNF17</th>\n",
       "      <th>RNF10</th>\n",
       "      <th>RNF11</th>\n",
       "      <th>RNF13</th>\n",
       "      <th>GTF2IP1</th>\n",
       "      <th>...</th>\n",
       "      <th>SLC7A10</th>\n",
       "      <th>PLA2G2C</th>\n",
       "      <th>TULP2</th>\n",
       "      <th>NPY5R</th>\n",
       "      <th>GNGT2</th>\n",
       "      <th>GNGT1</th>\n",
       "      <th>TULP3</th>\n",
       "      <th>BCL6B</th>\n",
       "      <th>GSTK1</th>\n",
       "      <th>SELP</th>\n",
       "    </tr>\n",
       "  </thead>\n",
       "  <tbody>\n",
       "    <tr>\n",
       "      <th>0</th>\n",
       "      <td>1</td>\n",
       "      <td>55.0</td>\n",
       "      <td>0.0</td>\n",
       "      <td>0.607308</td>\n",
       "      <td>-3.194126</td>\n",
       "      <td>-0.531035</td>\n",
       "      <td>-0.145872</td>\n",
       "      <td>0.237422</td>\n",
       "      <td>-0.29921</td>\n",
       "      <td>-0.142694</td>\n",
       "      <td>...</td>\n",
       "      <td>-1.331386</td>\n",
       "      <td>-0.086682</td>\n",
       "      <td>-0.748878</td>\n",
       "      <td>0.565583</td>\n",
       "      <td>-0.767233</td>\n",
       "      <td>-1.28139</td>\n",
       "      <td>-0.271377</td>\n",
       "      <td>0.360373</td>\n",
       "      <td>1.067905</td>\n",
       "      <td>0.076267</td>\n",
       "    </tr>\n",
       "    <tr>\n",
       "      <th>1</th>\n",
       "      <td>1</td>\n",
       "      <td>50.0</td>\n",
       "      <td>0.0</td>\n",
       "      <td>-0.641192</td>\n",
       "      <td>-4.928226</td>\n",
       "      <td>0.095465</td>\n",
       "      <td>0.098128</td>\n",
       "      <td>-0.541978</td>\n",
       "      <td>-0.32291</td>\n",
       "      <td>-0.044694</td>\n",
       "      <td>...</td>\n",
       "      <td>1.426614</td>\n",
       "      <td>-0.086682</td>\n",
       "      <td>0.312922</td>\n",
       "      <td>0.079683</td>\n",
       "      <td>0.475267</td>\n",
       "      <td>1.99661</td>\n",
       "      <td>0.161423</td>\n",
       "      <td>0.644673</td>\n",
       "      <td>-0.428695</td>\n",
       "      <td>0.068667</td>\n",
       "    </tr>\n",
       "    <tr>\n",
       "      <th>2</th>\n",
       "      <td>1</td>\n",
       "      <td>62.0</td>\n",
       "      <td>0.0</td>\n",
       "      <td>1.082808</td>\n",
       "      <td>-4.623726</td>\n",
       "      <td>-0.531035</td>\n",
       "      <td>0.484028</td>\n",
       "      <td>-0.183678</td>\n",
       "      <td>-0.91901</td>\n",
       "      <td>0.261106</td>\n",
       "      <td>...</td>\n",
       "      <td>1.694014</td>\n",
       "      <td>-0.086682</td>\n",
       "      <td>-0.748878</td>\n",
       "      <td>-0.656117</td>\n",
       "      <td>-0.216733</td>\n",
       "      <td>0.21081</td>\n",
       "      <td>0.101023</td>\n",
       "      <td>1.295073</td>\n",
       "      <td>0.915105</td>\n",
       "      <td>0.168567</td>\n",
       "    </tr>\n",
       "    <tr>\n",
       "      <th>3</th>\n",
       "      <td>1</td>\n",
       "      <td>52.0</td>\n",
       "      <td>0.0</td>\n",
       "      <td>0.121608</td>\n",
       "      <td>-2.881526</td>\n",
       "      <td>-0.531035</td>\n",
       "      <td>0.179128</td>\n",
       "      <td>0.039222</td>\n",
       "      <td>-0.45491</td>\n",
       "      <td>0.180306</td>\n",
       "      <td>...</td>\n",
       "      <td>-1.211186</td>\n",
       "      <td>-0.086682</td>\n",
       "      <td>0.415422</td>\n",
       "      <td>-0.178417</td>\n",
       "      <td>-0.211233</td>\n",
       "      <td>-1.28139</td>\n",
       "      <td>0.108023</td>\n",
       "      <td>0.496773</td>\n",
       "      <td>0.240105</td>\n",
       "      <td>3.099767</td>\n",
       "    </tr>\n",
       "    <tr>\n",
       "      <th>4</th>\n",
       "      <td>1</td>\n",
       "      <td>50.0</td>\n",
       "      <td>0.0</td>\n",
       "      <td>0.420208</td>\n",
       "      <td>-3.282726</td>\n",
       "      <td>-0.531035</td>\n",
       "      <td>-0.020972</td>\n",
       "      <td>-0.117978</td>\n",
       "      <td>-0.55781</td>\n",
       "      <td>-0.173794</td>\n",
       "      <td>...</td>\n",
       "      <td>-0.901186</td>\n",
       "      <td>0.424818</td>\n",
       "      <td>0.685222</td>\n",
       "      <td>-0.698717</td>\n",
       "      <td>-0.484233</td>\n",
       "      <td>-1.28139</td>\n",
       "      <td>-0.223577</td>\n",
       "      <td>0.225573</td>\n",
       "      <td>-0.301995</td>\n",
       "      <td>0.200067</td>\n",
       "    </tr>\n",
       "  </tbody>\n",
       "</table>\n",
       "<p>5 rows × 17342 columns</p>\n",
       "</div>"
      ],
      "text/plain": [
       "   Breast Cancer   Age  Gender  ARHGEF10L     HIF3A     RNF17     RNF10  \\\n",
       "0              1  55.0     0.0   0.607308 -3.194126 -0.531035 -0.145872   \n",
       "1              1  50.0     0.0  -0.641192 -4.928226  0.095465  0.098128   \n",
       "2              1  62.0     0.0   1.082808 -4.623726 -0.531035  0.484028   \n",
       "3              1  52.0     0.0   0.121608 -2.881526 -0.531035  0.179128   \n",
       "4              1  50.0     0.0   0.420208 -3.282726 -0.531035 -0.020972   \n",
       "\n",
       "      RNF11    RNF13   GTF2IP1  ...   SLC7A10   PLA2G2C     TULP2     NPY5R  \\\n",
       "0  0.237422 -0.29921 -0.142694  ... -1.331386 -0.086682 -0.748878  0.565583   \n",
       "1 -0.541978 -0.32291 -0.044694  ...  1.426614 -0.086682  0.312922  0.079683   \n",
       "2 -0.183678 -0.91901  0.261106  ...  1.694014 -0.086682 -0.748878 -0.656117   \n",
       "3  0.039222 -0.45491  0.180306  ... -1.211186 -0.086682  0.415422 -0.178417   \n",
       "4 -0.117978 -0.55781 -0.173794  ... -0.901186  0.424818  0.685222 -0.698717   \n",
       "\n",
       "      GNGT2    GNGT1     TULP3     BCL6B     GSTK1      SELP  \n",
       "0 -0.767233 -1.28139 -0.271377  0.360373  1.067905  0.076267  \n",
       "1  0.475267  1.99661  0.161423  0.644673 -0.428695  0.068667  \n",
       "2 -0.216733  0.21081  0.101023  1.295073  0.915105  0.168567  \n",
       "3 -0.211233 -1.28139  0.108023  0.496773  0.240105  3.099767  \n",
       "4 -0.484233 -1.28139 -0.223577  0.225573 -0.301995  0.200067  \n",
       "\n",
       "[5 rows x 17342 columns]"
      ]
     },
     "execution_count": 46,
     "metadata": {},
     "output_type": "execute_result"
    }
   ],
   "source": [
    "merged_data = pd.read_csv(os.path.join(OUTPUT_DIR, condition_best_cohort + '.csv'))\n",
    "merged_data.head()"
   ]
  },
  {
   "cell_type": "code",
   "execution_count": 47,
   "metadata": {
    "ExecuteTime": {
     "end_time": "2024-02-27T00:23:38.415287128Z",
     "start_time": "2024-02-27T00:23:38.364271637Z"
    },
    "collapsed": false
   },
   "outputs": [],
   "source": [
    "# Remove the other condition to prevent interference.\n",
    "merged_data = merged_data.drop(columns=['Gender'], errors='ignore').astype('float')\n",
    "\n",
    "X = merged_data.drop(columns=[TRAIT, condition]).values\n",
    "Y = merged_data[TRAIT].values\n",
    "Z = merged_data[condition].values"
   ]
  },
  {
   "cell_type": "markdown",
   "metadata": {
    "collapsed": false
   },
   "source": [
    "\n",
    "\n",
    "\n",
    "Select the appropriate regression model depending on whether the dataset shows batch effect."
   ]
  },
  {
   "cell_type": "code",
   "execution_count": 48,
   "metadata": {
    "ExecuteTime": {
     "end_time": "2024-02-27T00:23:38.660228117Z",
     "start_time": "2024-02-27T00:23:38.411536280Z"
    },
    "collapsed": false
   },
   "outputs": [
    {
     "data": {
      "text/plain": [
       "True"
      ]
     },
     "execution_count": 48,
     "metadata": {},
     "output_type": "execute_result"
    }
   ],
   "source": [
    "has_batch_effect = detect_batch_effect(X)\n",
    "has_batch_effect"
   ]
  },
  {
   "cell_type": "code",
   "execution_count": 49,
   "metadata": {
    "ExecuteTime": {
     "end_time": "2024-02-27T00:23:38.713688031Z",
     "start_time": "2024-02-27T00:23:38.660009818Z"
    },
    "collapsed": false
   },
   "outputs": [],
   "source": [
    "# Select appropriate models based on whether the dataset has batch effect.\n",
    "# We experiment on two models for each branch. We will decide which one to choose later.\n",
    "\n",
    "if has_batch_effect:\n",
    "    model_constructor1 = VariableSelection\n",
    "    model_params1 = {'modified': True, 'lamda': 3e-4}\n",
    "    model_constructor2 = VariableSelection\n",
    "    model_params2 = {'modified': False}\n",
    "else:\n",
    "    model_constructor1 = Lasso\n",
    "    model_params1 = {'alpha': 1.0, 'random_state': 42}\n",
    "    model_constructor2 = VariableSelection\n",
    "    model_params2 = {'modified': False}"
   ]
  },
  {
   "cell_type": "code",
   "execution_count": 50,
   "metadata": {
    "ExecuteTime": {
     "end_time": "2024-02-27T00:23:41.714245522Z",
     "start_time": "2024-02-27T00:23:38.703272032Z"
    },
    "collapsed": false
   },
   "outputs": [
    {
     "name": "stdout",
     "output_type": "stream",
     "text": [
      "alpha for Lasso: 0.0003\n",
      "alpha for Lasso: 0.0003\n",
      "alpha for Lasso: 0.0003\n",
      "alpha for Lasso: 0.0003\n",
      "alpha for Lasso: 0.0003\n",
      "The cross-validation accuracy is 67.82% ± 6.72%\n"
     ]
    }
   ],
   "source": [
    "trait_type = 'binary'  # Remember to set this properly, either 'binary' or 'continuous'\n",
    "cv_mean1, cv_std1 = cross_validation(X, Y, Z, model_constructor1, model_params1, target_type=trait_type)"
   ]
  },
  {
   "cell_type": "code",
   "execution_count": 51,
   "metadata": {
    "ExecuteTime": {
     "end_time": "2024-02-27T00:23:58.274133852Z",
     "start_time": "2024-02-27T00:23:41.714766427Z"
    },
    "collapsed": false
   },
   "outputs": [
    {
     "name": "stderr",
     "output_type": "stream",
     "text": [
      "/home/techt/anaconda3/envs/hl/lib/python3.8/site-packages/sparse_lmm/helpingMethods.py:49: RuntimeWarning: invalid value encountered in divide\n",
      "  ts = beta / np.sqrt(var * sigma)\n",
      "/home/techt/anaconda3/envs/hl/lib/python3.8/site-packages/sparse_lmm/helpingMethods.py:49: RuntimeWarning: invalid value encountered in divide\n",
      "  ts = beta / np.sqrt(var * sigma)\n",
      "/home/techt/anaconda3/envs/hl/lib/python3.8/site-packages/sparse_lmm/helpingMethods.py:49: RuntimeWarning: invalid value encountered in divide\n",
      "  ts = beta / np.sqrt(var * sigma)\n",
      "/home/techt/anaconda3/envs/hl/lib/python3.8/site-packages/sparse_lmm/helpingMethods.py:49: RuntimeWarning: invalid value encountered in divide\n",
      "  ts = beta / np.sqrt(var * sigma)\n",
      "/home/techt/anaconda3/envs/hl/lib/python3.8/site-packages/sparse_lmm/helpingMethods.py:49: RuntimeWarning: invalid value encountered in divide\n",
      "  ts = beta / np.sqrt(var * sigma)\n"
     ]
    },
    {
     "name": "stdout",
     "output_type": "stream",
     "text": [
      "The cross-validation accuracy is 90.86% ± 0.84%\n"
     ]
    }
   ],
   "source": [
    "cv_mean2, cv_std2 = cross_validation(X, Y, Z, model_constructor2, model_params2, target_type=trait_type)"
   ]
  },
  {
   "cell_type": "code",
   "execution_count": 52,
   "metadata": {
    "ExecuteTime": {
     "end_time": "2024-02-27T00:24:02.476194192Z",
     "start_time": "2024-02-27T00:23:58.272434972Z"
    },
    "collapsed": false
   },
   "outputs": [
    {
     "name": "stdout",
     "output_type": "stream",
     "text": [
      "alpha for Lasso: 0.0003\n"
     ]
    },
    {
     "name": "stderr",
     "output_type": "stream",
     "text": [
      "/home/techt/anaconda3/envs/hl/lib/python3.8/site-packages/sparse_lmm/helpingMethods.py:49: RuntimeWarning: invalid value encountered in divide\n",
      "  ts = beta / np.sqrt(var * sigma)\n"
     ]
    }
   ],
   "source": [
    "normalized_X, _ = normalize_data(X)\n",
    "normalized_Z, _ = normalize_data(Z)\n",
    "\n",
    "# Train regression model on the whole dataset to identify significant genes\n",
    "model1 = ResidualizationRegressor(model_constructor1, model_params1)\n",
    "model1.fit(normalized_X, Y, normalized_Z)\n",
    "\n",
    "model2 = ResidualizationRegressor(model_constructor2, model_params2)\n",
    "model2.fit(normalized_X, Y, normalized_Z)"
   ]
  },
  {
   "cell_type": "markdown",
   "metadata": {
    "ExecuteTime": {
     "end_time": "2023-10-14T04:50:59.072075075Z",
     "start_time": "2023-10-14T04:50:38.739499998Z"
    },
    "id": "EjJrxbvb4nlj"
   },
   "source": [
    "### 4. Discussion and report"
   ]
  },
  {
   "cell_type": "code",
   "execution_count": 53,
   "metadata": {
    "ExecuteTime": {
     "end_time": "2024-02-27T00:24:02.485641600Z",
     "start_time": "2024-02-27T00:24:02.477523460Z"
    },
    "collapsed": false
   },
   "outputs": [
    {
     "name": "stdout",
     "output_type": "stream",
     "text": [
      "Effect of the condition on the target variable:\n",
      "Variable: Age\n",
      "Coefficient: 0.0065\n",
      "Found 4 genes with non-zero coefficients associated with the trait 'Breast Cancer' conditional on the factor 'Age'. These genes are identified as significant based on the regression model.\n",
      "    Variable  Coefficient  Absolute Coefficient\n",
      "     C5orf52    -0.503090              0.503090\n",
      "LOC100129935    -0.091620              0.091620\n",
      "        HAO2     0.043399              0.043399\n",
      "      TTTY21    -0.008845              0.008845\n"
     ]
    },
    {
     "name": "stderr",
     "output_type": "stream",
     "text": [
      "/home/techt/AI4Science_gold_standard/utils.py:486: SettingWithCopyWarning: \n",
      "A value is trying to be set on a copy of a slice from a DataFrame.\n",
      "Try using .loc[row_indexer,col_indexer] = value instead\n",
      "\n",
      "See the caveats in the documentation: https://pandas.pydata.org/pandas-docs/stable/user_guide/indexing.html#returning-a-view-versus-a-copy\n",
      "  gene_regression_df['Absolute Coefficient'] = gene_regression_df['Coefficient'].abs()\n"
     ]
    }
   ],
   "source": [
    "feature_cols = merged_data.columns.tolist()\n",
    "feature_cols.remove(TRAIT)\n",
    "\n",
    "threshold = 0.05\n",
    "interpret_result(model1, feature_cols, TRAIT, condition, threshold=threshold, save_output=True,\n",
    "                 output_dir=OUTPUT_DIR, model_id=1)"
   ]
  },
  {
   "cell_type": "code",
   "execution_count": 54,
   "metadata": {
    "ExecuteTime": {
     "end_time": "2024-02-27T00:24:02.496973825Z",
     "start_time": "2024-02-27T00:24:02.485560148Z"
    },
    "collapsed": false
   },
   "outputs": [
    {
     "name": "stdout",
     "output_type": "stream",
     "text": [
      "Effect of the condition on the target variable:\n",
      "Variable: Age\n",
      "Coefficient: 0.0065\n",
      "Found 56 significant genes associated with the trait 'Breast Cancer' conditional on the factor 'Age', with corrected p-value < 0.05:\n",
      " Variable  Coefficient      p_value  corrected_p_value\n",
      "  COL10A1     0.139801 2.272959e-32       3.941083e-28\n",
      "      BGN     0.096090 1.371919e-18       1.189385e-14\n",
      "    MMP11     0.082105 1.200864e-14       6.940595e-11\n",
      "  HSD17B6     0.051075 5.396057e-11       2.099223e-07\n",
      "   CTHRC1     0.058965 6.696716e-11       2.099223e-07\n",
      "    MFAP5    -0.055412 7.264165e-11       2.099223e-07\n",
      "   OR51D1     0.023976 1.231414e-09       3.050213e-06\n",
      "   CLEC5A     0.046623 1.873539e-09       4.060661e-06\n",
      "       GC     0.027701 5.093728e-09       9.813350e-06\n",
      "      FN1     0.064388 3.437602e-08       5.960458e-05\n",
      "  C1QTNF6     0.050616 5.341210e-08       7.717604e-05\n",
      "     COMP     0.040724 5.254171e-08       7.717604e-05\n",
      "   LRRC15     0.051955 6.597041e-08       8.798931e-05\n",
      "    INHBA     0.050265 4.503237e-07       5.222718e-04\n",
      "     ECM2    -0.067315 4.518182e-07       5.222718e-04\n",
      "    CILP2     0.041136 4.902079e-07       5.312321e-04\n",
      "    FNDC1     0.041567 9.997157e-07       1.019651e-03\n",
      "  SLC24A2     0.043677 1.088907e-06       1.048920e-03\n",
      "     VCAN     0.060144 1.465059e-06       1.336982e-03\n",
      "      DCN    -0.061377 1.598331e-06       1.385673e-03\n",
      "    CD248    -0.047072 1.713127e-06       1.414472e-03\n",
      "      FAP     0.061535 1.970426e-06       1.552964e-03\n",
      "    P4HA3     0.043197 2.226118e-06       1.678202e-03\n",
      "      F2R     0.042153 2.823189e-06       2.039636e-03\n",
      "    MFAP2     0.046080 3.173463e-06       2.200987e-03\n",
      "  OLFML2A    -0.036874 3.441412e-06       2.295025e-03\n",
      "     HEYL     0.037219 4.178849e-06       2.683595e-03\n",
      "    OR2L3    -0.017440 4.804225e-06       2.975016e-03\n",
      "POM121L12     0.029506 5.325683e-06       3.184208e-03\n",
      "   COL5A2     0.063997 5.989358e-06       3.461649e-03\n",
      "    SPARC     0.055097 6.679719e-06       3.736118e-03\n",
      "   OLFML1    -0.061369 9.075918e-06       4.917729e-03\n",
      "      MAF    -0.039889 1.228983e-05       6.457376e-03\n",
      "    LOXL1     0.043604 1.607333e-05       8.196928e-03\n",
      "  CYP19A1     0.021867 1.833526e-05       9.083287e-03\n",
      "   LEFTY2     0.025998 3.583211e-05       1.725814e-02\n",
      "   KBTBD6    -0.030732 3.743350e-05       1.754215e-02\n",
      "     NRG3    -0.019332 3.930243e-05       1.793329e-02\n",
      "    PRDM8    -0.037232 4.162295e-05       1.850514e-02\n",
      "    CFHR5    -0.018284 4.601881e-05       1.994801e-02\n",
      "   COL1A1     0.046078 5.430926e-05       2.296752e-02\n",
      "    WNT8A     0.014852 6.121294e-05       2.468305e-02\n",
      "    GNG11    -0.066023 6.120003e-05       2.468305e-02\n",
      "   ADAM12     0.041917 6.725552e-05       2.650326e-02\n",
      "    GGT8P    -0.017786 8.624514e-05       3.323121e-02\n",
      "     RECK    -0.052323 9.888791e-05       3.727429e-02\n",
      "     CNTF    -0.020411 1.139612e-04       3.991115e-02\n",
      "   CLEC3B    -0.040284 1.150907e-04       3.991115e-02\n",
      "   PCOLCE    -0.047793 1.150044e-04       3.991115e-02\n",
      " SERPINE1     0.025811 1.125835e-04       3.991115e-02\n",
      "     ACAN     0.024426 1.178990e-04       4.008335e-02\n",
      "  TMEM119     0.035586 1.240881e-04       4.137624e-02\n",
      "    KCNC1    -0.023441 1.413518e-04       4.624336e-02\n",
      "  OLFML2B     0.035631 1.451487e-04       4.660618e-02\n",
      "    SRPX2    -0.033834 1.589026e-04       4.920021e-02\n",
      "      SST    -0.014828 1.562419e-04       4.920021e-02\n"
     ]
    },
    {
     "name": "stderr",
     "output_type": "stream",
     "text": [
      "/home/techt/AI4Science_gold_standard/utils.py:495: SettingWithCopyWarning: \n",
      "A value is trying to be set on a copy of a slice from a DataFrame.\n",
      "Try using .loc[row_indexer,col_indexer] = value instead\n",
      "\n",
      "See the caveats in the documentation: https://pandas.pydata.org/pandas-docs/stable/user_guide/indexing.html#returning-a-view-versus-a-copy\n",
      "  gene_regression_df.loc[:, 'corrected_p_value'] = corrected_p_values\n"
     ]
    }
   ],
   "source": [
    "interpret_result(model2, feature_cols, TRAIT, condition, threshold=threshold, save_output=True,\n",
    "                 output_dir=OUTPUT_DIR, model_id=2)"
   ]
  },
  {
   "cell_type": "code",
   "execution_count": null,
   "metadata": {
    "collapsed": false
   },
   "outputs": [],
   "source": []
  }
 ],
 "metadata": {
  "colab": {
   "provenance": []
  },
  "kernelspec": {
   "display_name": "Python 3 (ipykernel)",
   "language": "python",
   "name": "python3"
  },
  "language_info": {
   "codemirror_mode": {
    "name": "ipython",
    "version": 3
   },
   "file_extension": ".py",
   "mimetype": "text/x-python",
   "name": "python",
   "nbconvert_exporter": "python",
   "pygments_lexer": "ipython3",
   "version": "3.11.9"
  }
 },
 "nbformat": 4,
 "nbformat_minor": 0
}
