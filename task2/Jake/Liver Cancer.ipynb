{
 "cells": [
  {
   "cell_type": "markdown",
   "metadata": {
    "collapsed": false
   },
   "source": [
    "# Gold standard curation: Preprocessing and single-step regression"
   ]
  },
  {
   "cell_type": "markdown",
   "metadata": {
    "collapsed": false
   },
   "source": [
    "In this stage of gold standard curation, we will do the data preprocessing, selection, and single-step regression for the 153 traits in our question set. This file shows the reference steps using the trait \"Breast Cancer\" as an example. The workflow consists of the following steps:\n",
    "\n",
    "1. Preprocess all the cohorts related to this trait. Each cohort should be converted to a tabular form and saved to a csv file, with columns being genetic factors, the trait, and age, gender if available;\n",
    "2. If there exists at least one cohort with age or gender information, conduct regression analysis with genetic features together with age or gender as the regressors.\n"
   ]
  },
  {
   "cell_type": "markdown",
   "metadata": {
    "collapsed": false
   },
   "source": [
    "# 1. Basic setup"
   ]
  },
  {
   "cell_type": "code",
   "execution_count": 2,
   "metadata": {
    "ExecuteTime": {
     "end_time": "2024-02-27T00:22:19.918139380Z",
     "start_time": "2024-02-27T00:22:19.235047906Z"
    },
    "collapsed": false
   },
   "outputs": [],
   "source": [
    "import os\n",
    "import sys\n",
    "\n",
    "sys.path.append('..')\n",
    "from utils import *\n",
    "\n",
    "# Set your preferred name\n",
    "USER = \"Jake\"\n",
    "# Set the data and output directories\n",
    "DATA_ROOT = '/Users/jacob/Documents'\n",
    "OUTPUT_ROOT = '/Users/jacob/Documents/output'\n",
    "TRAIT = 'Hemochromatosis'\n",
    "\n",
    "OUTPUT_DIR = os.path.join(OUTPUT_ROOT, USER, '-'.join(TRAIT.split()))\n",
    "JSON_PATH = os.path.join(OUTPUT_DIR, \"cohort_info.json\")\n",
    "if not os.path.exists(OUTPUT_DIR):\n",
    "    os.makedirs(OUTPUT_DIR, exist_ok=True)\n",
    "\n",
    "# Gene symbol normalization may take 1-2 minutes. You may set it to False for debugging.\n",
    "NORMALIZE_GENE = True"
   ]
  },
  {
   "cell_type": "code",
   "execution_count": 1,
   "metadata": {},
   "outputs": [
    {
     "name": "stdout",
     "output_type": "stream",
     "text": [
      "utils.py has been loaded\n"
     ]
    }
   ],
   "source": [
    "import os\n",
    "import io\n",
    "import pandas as pd\n",
    "import gzip\n",
    "import mygene\n",
    "import re\n",
    "import tempfile\n",
    "import shutil\n",
    "\n",
    "import seaborn as sns\n",
    "import matplotlib.pyplot as plt\n",
    "import numpy as np\n",
    "import json\n",
    "from typing import Callable, Optional, List, Tuple, Union, Any\n",
    "from sklearn.linear_model import LinearRegression, Lasso, LogisticRegression\n",
    "from sparse_lmm import VariableSelection\n",
    "from statsmodels.stats.multitest import multipletests\n",
    "from sklearn.metrics import accuracy_score, mean_squared_error\n",
    "\n",
    "print(\"utils.py has been loaded\")\n",
    "def geo_get_relevant_filepaths(cohort_dir):\n",
    "    \"\"\"Find the file paths of a SOFT file and a matrix file from the given data directory of a cohort.\n",
    "    If there are multiple SOFT files or matrix files, simply choose the first one. Used for the GEO dataset.\n",
    "    \"\"\"\n",
    "    files = os.listdir(cohort_dir)\n",
    "    soft_files = [f for f in files if 'soft' in f.lower()]\n",
    "    matrix_files = [f for f in files if 'matrix' in f.lower()]\n",
    "    assert len(soft_files) > 0 and len(matrix_files) > 0\n",
    "    soft_file_path = os.path.join(cohort_dir, soft_files[0])\n",
    "    matrix_file_path = os.path.join(cohort_dir, matrix_files[0])\n",
    "\n",
    "    return soft_file_path, matrix_file_path\n",
    "\n",
    "\n",
    "def xena_get_relevant_filepaths(cohort_dir):\n",
    "    \"\"\"Find the file paths of a clinical file and a genetic file from the given data directory of a cohort.\n",
    "    If there are multiple clinical or genetic data files, simply choose the first one. Used for the TCGA Xena dataset.\n",
    "    \"\"\"\n",
    "    files = os.listdir(cohort_dir)\n",
    "    clinical_files = [f for f in files if 'clinicalmatrix' in f.lower()]\n",
    "    genetic_files = [f for f in files if 'pancan' in f.lower()]\n",
    "    clinical_file_path = os.path.join(cohort_dir, clinical_files[0])\n",
    "    genetic_file_path = os.path.join(cohort_dir, genetic_files[0])\n",
    "    return clinical_file_path, genetic_file_path\n",
    "\n",
    "def line_generator(source, source_type):\n",
    "    \"\"\"Generator that yields lines from a file or a string.\n",
    "\n",
    "    Parameters:\n",
    "    - source: File path or string content.\n",
    "    - source_type: 'file' or 'string'.\n",
    "    \"\"\"\n",
    "    if source_type == 'file':\n",
    "        with gzip.open(source, 'rt') as f:\n",
    "            for line in f:\n",
    "                yield line.strip()\n",
    "    elif source_type == 'string':\n",
    "        for line in source.split('\\n'):\n",
    "            yield line.strip()\n",
    "    else:\n",
    "        raise ValueError(\"source_type must be 'file' or 'string'\")\n",
    "\n",
    "\n",
    "def filter_content_by_prefix(\n",
    "    source: str,\n",
    "    prefixes_a: List[str],\n",
    "    prefixes_b: Optional[List[str]] = None,\n",
    "    unselect: bool = False,\n",
    "    source_type: str = 'file',\n",
    "    return_df_a: bool = True,\n",
    "    return_df_b: bool = True\n",
    ") -> Tuple[Union[str, pd.DataFrame], Optional[Union[str, pd.DataFrame]]]:\n",
    "    \"\"\"\n",
    "    Filters rows from a file or a list of strings based on specified prefixes.\n",
    "\n",
    "    Parameters:\n",
    "    - source (str): File path or string content to filter.\n",
    "    - prefixes_a (List[str]): Primary list of prefixes to filter by.\n",
    "    - prefixes_b (Optional[List[str]]): Optional secondary list of prefixes to filter by.\n",
    "    - unselect (bool): If True, selects rows that do not start with the specified prefixes.\n",
    "    - source_type (str): 'file' if source is a file path, 'string' if source is a string of text.\n",
    "    - return_df_a (bool): If True, returns filtered content for prefixes_a as a pandas DataFrame.\n",
    "    - return_df_b (bool): If True, and if prefixes_b is provided, returns filtered content for prefixes_b as a pandas DataFrame.\n",
    "\n",
    "    Returns:\n",
    "    - Tuple: A tuple where the first element is the filtered content for prefixes_a, and the second element is the filtered content for prefixes_b.\n",
    "    \"\"\"\n",
    "    filtered_lines_a = []\n",
    "    filtered_lines_b = []\n",
    "    prefix_set_a = set(prefixes_a)\n",
    "    if prefixes_b is not None:\n",
    "        prefix_set_b = set(prefixes_b)\n",
    "\n",
    "    # Use generator to get lines\n",
    "    for line in line_generator(source, source_type):\n",
    "        matched_a = any(line.startswith(prefix) for prefix in prefix_set_a)\n",
    "        if matched_a != unselect:\n",
    "            filtered_lines_a.append(line)\n",
    "        if prefixes_b is not None:\n",
    "            matched_b = any(line.startswith(prefix) for prefix in prefix_set_b)\n",
    "            if matched_b != unselect:\n",
    "                filtered_lines_b.append(line)\n",
    "\n",
    "    filtered_content_a = '\\n'.join(filtered_lines_a)\n",
    "    if return_df_a:\n",
    "        filtered_content_a = pd.read_csv(io.StringIO(filtered_content_a), delimiter='\\t', low_memory=False, on_bad_lines='skip')\n",
    "    filtered_content_b = None\n",
    "    if filtered_lines_b:\n",
    "        filtered_content_b = '\\n'.join(filtered_lines_b)\n",
    "        if return_df_b:\n",
    "            filtered_content_b = pd.read_csv(io.StringIO(filtered_content_b), delimiter='\\t', low_memory=False, on_bad_lines='skip')\n",
    "\n",
    "    return filtered_content_a, filtered_content_b\n",
    "\n",
    "\n",
    "def get_background_and_clinical_data(file_path,\n",
    "                                     prefixes_a=['!Series_title', '!Series_summary', '!Series_overall_design'],\n",
    "                                     prefixes_b=['!Sample_geo_accession', '!Sample_characteristics_ch1']):\n",
    "    \"\"\"Extract from a matrix file the background information about the dataset, and sample characteristics data\"\"\"\n",
    "    background_info, clinical_data = filter_content_by_prefix(file_path, prefixes_a, prefixes_b, unselect=False,\n",
    "                                                              source_type='file',\n",
    "                                                              return_df_a=False, return_df_b=True)\n",
    "    return background_info, clinical_data\n",
    "\n",
    "\n",
    "def get_gene_annotation(file_path, prefixes=['^', '!', '#']):\n",
    "    \"\"\"Extract from a SOFT file the gene annotation data\"\"\"\n",
    "    gene_metadata = filter_content_by_prefix(file_path, prefixes_a=prefixes, unselect=True, source_type='file',\n",
    "                                             return_df_a=True)\n",
    "    return gene_metadata[0]\n",
    "\n",
    "\n",
    "def get_gene_mapping(annotation, prob_col, gene_col):\n",
    "    \"\"\"Process the gene annotation to get the mapping between gene names and gene probes.\n",
    "    \"\"\"\n",
    "    mapping_data = annotation.loc[:, [prob_col, gene_col]]\n",
    "    mapping_data = mapping_data.dropna()\n",
    "    mapping_data = mapping_data.rename(columns={gene_col: 'Gene'}).astype({'ID': 'str'})\n",
    "\n",
    "    return mapping_data\n",
    "\n",
    "\n",
    "def get_genetic_data(file_path):\n",
    "    \"\"\"Read the gene expression data into a dataframe, and adjust its format\"\"\"\n",
    "    genetic_data = pd.read_csv(file_path, compression='gzip', skiprows=52, comment='!', delimiter='\\t')\n",
    "    genetic_data = genetic_data.dropna()\n",
    "    genetic_data = genetic_data.rename(columns={'ID_REF': 'ID'}).astype({'ID': 'str'})\n",
    "    genetic_data.set_index('ID', inplace=True)\n",
    "\n",
    "    return genetic_data\n",
    "\n",
    "\n",
    "def apply_gene_mapping(expression_df, mapping_df):\n",
    "    \"\"\"\n",
    "    Converts measured data about gene probes into gene expression data.\n",
    "    Handles the potential many-to-many relationship between probes and genes.\n",
    "\n",
    "    Parameters:\n",
    "    expression_df (DataFrame): A DataFrame with gene expression data, indexed by 'ID'.\n",
    "    mapping_df (DataFrame): A DataFrame mapping 'ID' to 'Gene', with 'ID' as a column.\n",
    "\n",
    "    Returns:\n",
    "    DataFrame: A DataFrame with mean gene expression values, indexed by 'Gene'.\n",
    "    \"\"\"\n",
    "\n",
    "    # Define a regex pattern for splitting gene names\n",
    "    split_pattern = r';|\\|+|/{2,}|,|\\[|\\]|\\(|\\)'\n",
    "\n",
    "    # Split the 'Gene' column in 'mapping_df' using the regex pattern\n",
    "    mapping_df['Gene'] = mapping_df['Gene'].str.split(split_pattern)\n",
    "    mapping_df = mapping_df.explode('Gene')\n",
    "\n",
    "    # Set 'ID' as the index of 'mapping_df' for merging\n",
    "    mapping_df.set_index('ID', inplace=True)\n",
    "\n",
    "    # Merge 'mapping_df' with 'expression_df' by their indices\n",
    "    merged_df = mapping_df.join(expression_df)\n",
    "\n",
    "    # Group by 'Gene' and calculate the mean expression values\n",
    "    gene_expression_df = merged_df.groupby('Gene').mean().dropna()\n",
    "\n",
    "    return gene_expression_df\n",
    "\n",
    "\n",
    "def normalize_gene_symbols(gene_symbols, batch_size=1000):\n",
    "    \"\"\"Normalize human gene symbols in batches using the 'mygenes' library\"\"\"\n",
    "    mg = mygene.MyGeneInfo()\n",
    "    normalized_genes = {}\n",
    "\n",
    "    # Process in batches\n",
    "    for i in range(0, len(gene_symbols), batch_size):\n",
    "        batch = gene_symbols[i:i + batch_size]\n",
    "        results = mg.querymany(batch, scopes='symbol', fields='symbol', species='human', verbose=False)\n",
    "\n",
    "        # Update the normalized_genes dictionary with results from this batch\n",
    "        for gene in results:\n",
    "            normalized_genes[gene['query']] = gene.get('symbol', None)\n",
    "\n",
    "    # Return the normalized symbols in the same order as the input\n",
    "    return [normalized_genes.get(symbol) for symbol in gene_symbols]\n",
    "\n",
    "\n",
    "def normalize_gene_symbols_in_index(gene_df):\n",
    "    \"\"\"Normalize the human gene symbols at the index of a dataframe, and replace the index with its normalized version.\n",
    "    Remove the rows where the index failed to be normalized.\"\"\"\n",
    "    normalized_gene_list = normalize_gene_symbols(gene_df.index.tolist())\n",
    "    assert len(normalized_gene_list) == len(gene_df.index)\n",
    "    gene_df.index = normalized_gene_list\n",
    "    gene_df = gene_df[gene_df.index.notnull()]\n",
    "    return gene_df\n",
    "\n",
    "\n",
    "def get_feature_data(clinical_df, row_id, feature, convert_fn):\n",
    "    \"\"\"select the row corresponding to a feature in the sample characteristics dataframe, and convert the feature into\n",
    "    a binary or continuous variable\"\"\"\n",
    "    clinical_df = clinical_df.iloc[row_id:row_id + 1].drop(columns=['!Sample_geo_accession'], errors='ignore')\n",
    "    clinical_df.index = [feature]\n",
    "    clinical_df = clinical_df.applymap(convert_fn)\n",
    "\n",
    "    return clinical_df\n",
    "\n",
    "\n",
    "def plot_numeric_distribution(df, column):\n",
    "    \"\"\"Plot the distribution of a numeric variable stored in the given column of a dataframe\"\"\"\n",
    "    plt.figure(figsize=(10, 6))\n",
    "    sns.histplot(df[column], kde=True, bins=30)\n",
    "    plt.title(f'Distribution of {column.capitalize()}')\n",
    "    plt.xlabel('')\n",
    "    plt.ylabel('Frequency')\n",
    "    plt.show()\n",
    "\n",
    "\n",
    "def plot_categorical_distribution(df, column):\n",
    "    \"\"\"Plot the distribution of a categorical variable stored in the given column of a dataframe\"\"\"\n",
    "    plt.figure(figsize=(10, 6))\n",
    "    sns.countplot(y=column, data=df, order=df[column].value_counts().index)\n",
    "    plt.title(f'Distribution of {column.capitalize()}')\n",
    "    plt.xlabel('Frequency')\n",
    "    plt.ylabel('')\n",
    "    plt.show()\n",
    "\n",
    "\n",
    "def analyze_distributions(df, numerical_columns, categorical_columns):\n",
    "    \"\"\"Plot the distribution of the numerical and categorical variables stored in given columns of a dataframe\"\"\"\n",
    "    for col in numerical_columns:\n",
    "        plot_numeric_distribution(df, col)\n",
    "\n",
    "    for col in categorical_columns:\n",
    "        plot_categorical_distribution(df, col)\n",
    "\n",
    "\n",
    "def normalize_data(X_train, X_test=None):\n",
    "    \"\"\"Compute the mean and standard deviation statistics of the training data, use them to normalize the training data,\n",
    "    and optionally the test data\"\"\"\n",
    "    mean = np.mean(X_train, axis=0)\n",
    "    std = np.std(X_train, axis=0)\n",
    "\n",
    "    # Handling columns with std = 0\n",
    "    std_no_zero = np.where(std == 0, 1, std)\n",
    "\n",
    "    # Normalize X_train\n",
    "    X_train_normalized = (X_train - mean) / std_no_zero\n",
    "    # Set normalized values to 0 where std was 0\n",
    "    X_train_normalized[:, std == 0] = 0\n",
    "\n",
    "    if X_test is not None:\n",
    "        X_test_normalized = (X_test - mean) / std_no_zero\n",
    "        X_test_normalized[:, std == 0] = 0\n",
    "    else:\n",
    "        X_test_normalized = None\n",
    "\n",
    "    return X_train_normalized, X_test_normalized\n",
    "\n",
    "\n",
    "class ResidualizationRegressor:\n",
    "    def __init__(self, regression_model_constructor, params=None):\n",
    "        if params is None:\n",
    "            params = {}\n",
    "        self.regression_model = regression_model_constructor(**params)\n",
    "        self.beta_Z = None  # Coefficients for regression of Y on Z\n",
    "        self.beta_X = None  # Coefficients for regression of residual on X\n",
    "        self.neg_log_p_values = None  # Negative logarithm of p-values\n",
    "        self.p_values = None  # Actual p-values\n",
    "\n",
    "    def _reshape_data(self, data):\n",
    "        \"\"\"\n",
    "        Reshape the data to ensure it's in the correct format (2D array).\n",
    "\n",
    "        :param data: The input data (can be 1D or 2D array).\n",
    "        :return: Reshaped 2D array.\n",
    "        \"\"\"\n",
    "        if data.ndim == 1:\n",
    "            return data.reshape(-1, 1)\n",
    "        return data\n",
    "\n",
    "    def _reshape_output(self, data):\n",
    "        \"\"\"\n",
    "        Reshape the output data to ensure it's in the correct format (1D array).\n",
    "\n",
    "        :param data: The output data (can be 1D or 2D array).\n",
    "        :return: Reshaped 1D array.\n",
    "        \"\"\"\n",
    "        if data.ndim == 2 and data.shape[1] == 1:\n",
    "            return data.ravel()\n",
    "        return data\n",
    "\n",
    "    def fit(self, X, Y, Z):\n",
    "        X = self._reshape_data(X)\n",
    "        Y = self._reshape_data(Y)\n",
    "        Z = self._reshape_data(Z)\n",
    "\n",
    "        # Step 1: Linear regression of Y on Z\n",
    "        Z_ones = np.column_stack((np.ones(Z.shape[0]), Z))\n",
    "        self.beta_Z = np.linalg.pinv(Z_ones.T @ Z_ones) @ Z_ones.T @ Y\n",
    "        Y_hat = Z_ones @ self.beta_Z\n",
    "        e_Y = Y - Y_hat  # Residual of Y\n",
    "\n",
    "        # Step 2: Regress the residual on X using the included regression model\n",
    "        self.regression_model.fit(X, e_Y)\n",
    "\n",
    "        # Obtain coefficients from the regression model\n",
    "        if hasattr(self.regression_model, 'coef_'):\n",
    "            self.beta_X = self.regression_model.coef_\n",
    "        elif hasattr(self.regression_model, 'getBeta'):\n",
    "            beta_output = self.regression_model.getBeta()\n",
    "            self.beta_X = self._reshape_output(beta_output)\n",
    "\n",
    "        # Obtain negative logarithm of p-values, if available\n",
    "        if hasattr(self.regression_model, 'getNegLogP'):\n",
    "            neg_log_p_output = self.regression_model.getNegLogP()\n",
    "            if neg_log_p_output is not None:\n",
    "                self.neg_log_p_values = self._reshape_output(neg_log_p_output)\n",
    "                self.p_values = np.exp(-self.neg_log_p_values)\n",
    "                # Concatenate the p-values of Z and X. The p-values of Z were not computed, mark with NaN.\n",
    "                p_values_Z = np.full(Z.shape[1], np.nan)\n",
    "                self.p_values = np.concatenate((p_values_Z, self.p_values))\n",
    "\n",
    "    def predict(self, X, Z):\n",
    "        X = self._reshape_data(X)\n",
    "        Z = self._reshape_data(Z)\n",
    "\n",
    "        Z_ones = np.column_stack((np.ones(Z.shape[0]), Z))\n",
    "        ZX = np.column_stack((Z, X))\n",
    "        combined_beta = np.concatenate((self.beta_Z[1:].ravel(), self.beta_X.ravel()))\n",
    "        return ZX @ combined_beta + self.beta_Z[0]\n",
    "\n",
    "    def get_coefficients(self):\n",
    "        return np.concatenate((self.beta_Z[1:].ravel(), self.beta_X.ravel()))\n",
    "\n",
    "    def get_p_values(self):\n",
    "        return self.p_values\n",
    "\n",
    "\n",
    "def cross_validation(X, Y, Z, model_constructor, model_params, k=5, target_type='binary'):\n",
    "    assert target_type in ['binary', 'continuous'], \"The target type must be chosen from 'binary' or 'continuous'\"\n",
    "    indices = np.arange(X.shape[0])\n",
    "    np.random.shuffle(indices)\n",
    "\n",
    "    fold_size = len(X) // k\n",
    "    performances = []\n",
    "\n",
    "    for i in range(k):\n",
    "        # Split data into train and test based on the current fold\n",
    "        test_indices = indices[i * fold_size: (i + 1) * fold_size]\n",
    "        train_indices = np.setdiff1d(indices, test_indices)\n",
    "\n",
    "        X_train, X_test = X[train_indices], X[test_indices]\n",
    "        Y_train, Y_test = Y[train_indices], Y[test_indices]\n",
    "        Z_train, Z_test = Z[train_indices], Z[test_indices]\n",
    "\n",
    "        normalized_X_train, normalized_X_test = normalize_data(X_train, X_test)\n",
    "        normalized_Z_train, normalized_Z_test = normalize_data(Z_train, Z_test)\n",
    "\n",
    "        # model = model_constructor(**model_params)\n",
    "        model = ResidualizationRegressor(model_constructor, model_params)\n",
    "        model.fit(normalized_X_train, Y_train, normalized_Z_train)\n",
    "        predictions = model.predict(normalized_X_test, normalized_Z_test)\n",
    "\n",
    "        if target_type == 'binary':\n",
    "            predictions = (predictions > 0.5).astype(int)\n",
    "            Y_test = (Y_test > 0.5).astype(int)\n",
    "            performance = accuracy_score(Y_test, predictions)\n",
    "        elif target_type == 'continuous':\n",
    "            performance = mean_squared_error(Y_test, predictions)\n",
    "\n",
    "        performances.append(performance)\n",
    "\n",
    "    cv_mean = np.mean(performances)\n",
    "    cv_std = np.std(performances)\n",
    "\n",
    "    if target_type == 'binary':\n",
    "        print(f'The cross-validation accuracy is {(cv_mean * 100):.2f}% ± {(cv_std * 100):.2f}%')\n",
    "    else:\n",
    "        print(f'The cross-validation MSE is {(cv_mean * 100):.2f} ± {(cv_std * 100):.2f}')\n",
    "\n",
    "    return cv_mean, cv_std\n",
    "\n",
    "\n",
    "def get_feature_related_genes(file_path, feature, normalize):\n",
    "    \"\"\"Read a csv file into a dataframe about gene-trait association, and get the gene symbols related to a given\n",
    "    trait\"\"\"\n",
    "    related_gene_df = pd.read_csv(file_path)\n",
    "    related_gene_df = related_gene_df.loc[:, ['Disease Name', 'Corresponding_Gene_Symbol']].set_index('Disease Name')\n",
    "    feature_related_genes = related_gene_df.loc[feature].tolist()[0].strip().split(',')\n",
    "    feature_related_genes = [gn.strip() for gn in feature_related_genes]\n",
    "    if normalize:\n",
    "        feature_related_genes = normalize_gene_symbols(feature_related_genes)\n",
    "\n",
    "    return feature_related_genes\n",
    "\n",
    "\n",
    "def get_gene_regressors(trait, trait_df, condition_df, related_genes):\n",
    "    \"\"\"Find the appropriate genes for two-step regression. Compare the indices of two dataframes to find the genes\n",
    "    in common, and select those that are known to be related to a trait\"\"\"\n",
    "    gene_regressors = None\n",
    "    genes_in_trait_data = set(trait_df.columns) - {'Age', 'Gender', trait}\n",
    "    genes_in_condition_data = set(condition_df.columns) - {'Age', 'Gender', trait}\n",
    "\n",
    "    common_genes_across_data = genes_in_trait_data.intersection(genes_in_condition_data)\n",
    "    if len(common_genes_across_data) == 0:\n",
    "        #print(\"The trait and condition datasets have no genes in common. Please try other datasets\")\n",
    "        return None\n",
    "    else:\n",
    "        ##print(\n",
    "            ## f\"The trait and condition datasets have {len(common_genes_across_data)} genes in common, such as {list(common_genes_across_data)[:10]}.\")\n",
    "        common_genes = [g for g in related_genes if g in common_genes_across_data]\n",
    "        if len(common_genes) > 0:\n",
    "            gene_regressors = list(common_genes)[:10]\n",
    "            #print(\n",
    "                #f\"Found {len(common_genes)} candidate genes that can be used in two-step regression analysis, such as {gene_regressors[:10]}.\")\n",
    "        else:\n",
    "            #print(\n",
    "                #f\"The condition and trait datasets have common genes, but among them we didn't find indicator genes for the condition\")\n",
    "            return None\n",
    "\n",
    "    return gene_regressors\n",
    "\n",
    "\n",
    "def normalize_trait(trait):\n",
    "    trait = '-'.join(trait.split())\n",
    "    normalized_trait = ''.join(trait.split(\"'\"))\n",
    "    return normalized_trait\n",
    "\n",
    "def interpret_result(model: Any, feature_names: List[str], trait: str, condition: str,\n",
    "                     threshold: float = 0.05, save_output: bool = True,\n",
    "                     output_dir: str = './output', model_id: int = 1) -> None:\n",
    "    \"\"\"This function interprets and reports the result of a trained linear regression model, where the regressor\n",
    "    consists of one variable about condition and multiple variables about genetic factors.\n",
    "    The function extracts coefficients and p-values from the model, and identifies the significant genes based on\n",
    "    p-values or non-zero coefficients, depending on the availability of p-values.\n",
    "\n",
    "    Parameters:\n",
    "    model (Any): The trained regression Model.\n",
    "    feature_names (List[str]): A list of feature names corresponding to the model's coefficients.\n",
    "    trait (str): The target trait of interest.\n",
    "    condition (str): The specific condition to examine within the model.\n",
    "    threshold (float): Significance level for p-value correction. Defaults to 0.05.\n",
    "    save_output (bool): Flag to determine whether to save the output to a file. Defaults to True.\n",
    "    output_dir (str): Directory path where output files are saved. Defaults to './output'.\n",
    "    model_id (int): The index of the model, 1 or 2.\n",
    "\n",
    "    Returns:\n",
    "    None: This function does not return anything but prints and optionally saves the output.\n",
    "    \"\"\"\n",
    "    coefficients = model.get_coefficients().reshape(-1).tolist()\n",
    "    p_values = model.get_p_values()\n",
    "    if p_values is None:\n",
    "        regression_df = pd.DataFrame({\n",
    "            'Variable': feature_names,\n",
    "            'Coefficient': coefficients\n",
    "        })\n",
    "    else:\n",
    "        regression_df = pd.DataFrame({\n",
    "            'Variable': feature_names,\n",
    "            'Coefficient': coefficients,\n",
    "            'p_value': p_values.reshape(-1).tolist()\n",
    "        })\n",
    "\n",
    "    condition_effect = regression_df[regression_df['Variable'] == condition].iloc[0]\n",
    "\n",
    "    print(f\"Effect of the condition on the target variable:\")\n",
    "    print(f\"Variable: {condition}\")\n",
    "    print(f\"Coefficient: {condition_effect['Coefficient']:.4f}\")\n",
    "    gene_regression_df = regression_df[regression_df['Variable'] != condition]\n",
    "    if p_values is None:\n",
    "        gene_regression_df['Absolute Coefficient'] = gene_regression_df['Coefficient'].abs()\n",
    "        significant_genes = gene_regression_df[gene_regression_df['Coefficient'] != 0]\n",
    "        significant_genes_sorted = significant_genes.sort_values(by='Absolute Coefficient', ascending=False)\n",
    "        print(\n",
    "            f\"Found {len(significant_genes_sorted)} genes with non-zero coefficients associated with the trait '{trait}' \"\n",
    "            f\"conditional on the factor '{condition}'. These genes are identified as significant based on the regression model.\")\n",
    "    else:\n",
    "        # Apply the Benjamini-Hochberg correction, to get the corrected p-values\n",
    "        corrected_p_values = multipletests(gene_regression_df['p_value'], alpha=threshold, method='fdr_bh')[1]\n",
    "        gene_regression_df.loc[:, 'corrected_p_value'] = corrected_p_values\n",
    "        significant_genes = gene_regression_df.loc[gene_regression_df['corrected_p_value'] < threshold]\n",
    "        significant_genes_sorted = significant_genes.sort_values('corrected_p_value')\n",
    "        print(\n",
    "            f\"Found {len(significant_genes_sorted)} significant genes associated with the trait '{trait}' conditional on \"\n",
    "            f\"the factor '{condition}', with corrected p-value < {threshold}:\")\n",
    "\n",
    "    print(significant_genes_sorted.to_string(index=False))\n",
    "\n",
    "    nm_condition = normalize_trait(condition)\n",
    "    # Optionally, save this to a CSV file\n",
    "    if save_output:\n",
    "        significant_genes_sorted.to_csv(\n",
    "            os.path.join(output_dir, f'significant_genes_condition_{nm_condition}_{model_id}.csv'), index=False)\n",
    "\n",
    "\n",
    "def judge_binary_variable_biased(dataframe, col_name, min_proportion=0.1, min_num=5):\n",
    "    \"\"\"\n",
    "    Check if the distribution of a binary variable in the dataset is too biased to be usable for analysis\n",
    "    :param dataframe:\n",
    "    :param col_name:\n",
    "    :param min_proportion:\n",
    "    :param min_num:\n",
    "    :return:\n",
    "    \"\"\"\n",
    "    label_counter = dataframe[col_name].value_counts()\n",
    "    total_samples = len(dataframe)\n",
    "    rare_label_num = label_counter.min()\n",
    "    rare_label = label_counter.idxmin()\n",
    "    rare_label_proportion = rare_label_num / total_samples\n",
    "\n",
    "    print(\n",
    "        f\"For the feature \\'{col_name}\\', the least common label is '{rare_label}' with {rare_label_num} occurrences. This represents {rare_label_proportion:.2%} of the dataset.\")\n",
    "\n",
    "    biased = (len(label_counter) < 2) or ((rare_label_proportion < min_proportion) and (rare_label_num < min_num))\n",
    "    return bool(biased)\n",
    "\n",
    "\n",
    "def judge_continuous_variable_biased(dataframe, col_name):\n",
    "    \"\"\"Check if the distribution of a continuous variable in the dataset is too biased to be usable for analysis.\n",
    "    As a starting point, we consider it biased if all values are the same. For the next step, maybe ask GPT to judge\n",
    "    based on quartile statistics combined with its common sense knowledge about this feature.\n",
    "    \"\"\"\n",
    "    quartiles = dataframe[col_name].quantile([0.25, 0.5, 0.75])\n",
    "    min_value = dataframe[col_name].min()\n",
    "    max_value = dataframe[col_name].max()\n",
    "\n",
    "    # Printing quartile information\n",
    "    print(f\"Quartiles for '{col_name}':\")\n",
    "    print(f\"  25%: {quartiles[0.25]}\")\n",
    "    print(f\"  50% (Median): {quartiles[0.5]}\")\n",
    "    print(f\"  75%: {quartiles[0.75]}\")\n",
    "    print(f\"Min: {min_value}\")\n",
    "    print(f\"Max: {max_value}\")\n",
    "\n",
    "    biased = min_value == max_value\n",
    "\n",
    "    return bool(biased)\n",
    "\n",
    "\n",
    "def check_rows_and_columns(dataframe, display=False):\n",
    "    \"\"\"\n",
    "    Get the lists of row names and column names of a dataset, and optionally observe them.\n",
    "    :param dataframe:\n",
    "    :param display:\n",
    "    :return:\n",
    "    \"\"\"\n",
    "    dataframe_rows = dataframe.index.tolist()\n",
    "    if display:\n",
    "        print(f\"The dataset has {len(dataframe_rows)} rows, such as {dataframe_rows[:20]}\")\n",
    "    dataframe_cols = dataframe.columns.tolist()\n",
    "    if display:\n",
    "        print(f\"\\nThe dataset has {len(dataframe_cols)} columns, such as {dataframe_cols[:20]}\")\n",
    "    return dataframe_rows, dataframe_cols\n",
    "\n",
    "\n",
    "def xena_convert_trait(row_index: str):\n",
    "    \"\"\"\n",
    "    Convert the trait information from Sample IDs to labels depending on the last two digits.\n",
    "    Tumor types range from 01 - 09, normal types from 10 - 19.\n",
    "    :param row_index: the index value of a row\n",
    "    :return: the converted value\n",
    "    \"\"\"\n",
    "    last_two_digits = int(row_index[-2:])\n",
    "\n",
    "    if 1 <= last_two_digits <= 9:\n",
    "        return 1\n",
    "    elif 10 <= last_two_digits <= 19:\n",
    "        return 0\n",
    "    else:\n",
    "        return -1\n",
    "\n",
    "\n",
    "def xena_convert_gender(cell: str):\n",
    "    \"\"\"Convert the cell content about gender to a binary value\n",
    "    \"\"\"\n",
    "    if isinstance(cell, str):\n",
    "        cell = cell.lower()\n",
    "\n",
    "    if cell == \"female\":\n",
    "        return 0\n",
    "    elif cell == \"male\":\n",
    "        return 1\n",
    "    else:\n",
    "        return None\n",
    "\n",
    "\n",
    "def xena_convert_age(cell: str):\n",
    "    \"\"\"Convert the cell content about age to a numerical value using regular expression\n",
    "    \"\"\"\n",
    "    match = re.search(r'\\d+', str(cell))\n",
    "    if match:\n",
    "        return int(match.group())\n",
    "    else:\n",
    "        return None\n",
    "\n",
    "\n",
    "def detect_batch_effect(X):\n",
    "    \"\"\"\n",
    "    Detect potential batch effects in a dataset using eigenvalues of XX^T.\n",
    "\n",
    "    Args:\n",
    "    X (numpy.ndarray): A feature matrix with shape (n_samples, n_features).\n",
    "\n",
    "    Returns:\n",
    "    bool: True if a potential batch effect is detected, False otherwise.\n",
    "    \"\"\"\n",
    "    n_samples = X.shape[0]\n",
    "\n",
    "    # Computing XX^T\n",
    "    XXt = np.dot(X, X.T)\n",
    "\n",
    "    # Compute the eigenvalues of XX^T\n",
    "    eigen_values = np.linalg.eigvalsh(XXt)  # Using eigvalsh since XX^T is symmetric\n",
    "    eigen_values = sorted(eigen_values, reverse=True)[:10]\n",
    "    eigen_values = np.array(eigen_values)\n",
    "    normalized_ev = eigen_values / eigen_values[0]\n",
    "\n",
    "    # Check for large gaps in the eigenvalues\n",
    "    for i in range(len(normalized_ev) - 1):\n",
    "        gap = normalized_ev[i] - normalized_ev[i + 1]\n",
    "        if gap > 1 / n_samples:  # You may need to adjust this threshold\n",
    "            return True\n",
    "\n",
    "    return False\n",
    "\n",
    "\n",
    "def get_unique_values_by_row(dataframe, max_len=30):\n",
    "    \"\"\"\n",
    "    Organize the unique values in each row of the given dataframe, to get a dictionary\n",
    "    :param dataframe:\n",
    "    :param max_len:\n",
    "    :return:\n",
    "    \"\"\"\n",
    "    if '!Sample_geo_accession' in dataframe.columns:\n",
    "        dataframe = dataframe.drop(columns=['!Sample_geo_accession'])\n",
    "    unique_values_dict = {}\n",
    "    for index, row in dataframe.iterrows():\n",
    "        unique_values = list(row.unique())[:max_len]\n",
    "        unique_values_dict[index] = unique_values\n",
    "    return unique_values_dict\n",
    "\n",
    "\n",
    "def xena_select_clinical_features(clinical_df, trait, age_col=None, gender_col=None):\n",
    "    feature_list = []\n",
    "    trait_data = clinical_df.index.to_series().apply(xena_convert_trait).rename(trait)\n",
    "    feature_list.append(trait_data)\n",
    "    if age_col:\n",
    "        age_data = clinical_df[age_col].apply(xena_convert_age).rename(\"Age\")\n",
    "        feature_list.append(age_data)\n",
    "    if gender_col:\n",
    "        gender_data = clinical_df[gender_col].apply(xena_convert_gender).rename(\"Gender\")\n",
    "        feature_list.append(gender_data)\n",
    "    selected_clinical_df = pd.concat(feature_list, axis=1)\n",
    "    return selected_clinical_df\n",
    "\n",
    "\n",
    "def geo_select_clinical_features(clinical_df: pd.DataFrame, trait: str, trait_row: int,\n",
    "                                 convert_trait: Callable,\n",
    "                                 age_row: Optional[int] = None,\n",
    "                                 convert_age: Optional[Callable] = None,\n",
    "                                 gender_row: Optional[int] = None,\n",
    "                                 convert_gender: Optional[Callable] = None) -> pd.DataFrame:\n",
    "    \"\"\"\n",
    "    Extracts and processes specific clinical features from a DataFrame representing\n",
    "    sample characteristics in the GEO database series.\n",
    "\n",
    "    Parameters:\n",
    "    - clinical_df (pd.DataFrame): DataFrame containing clinical data.\n",
    "    - trait (str): The trait of interest.\n",
    "    - trait_row (int): Row identifier for the trait in the DataFrame.\n",
    "    - convert_trait (Callable): Function to convert trait data into a desired format.\n",
    "    - age_row (int, optional): Row identifier for age data. Default is None.\n",
    "    - convert_age (Callable, optional): Function to convert age data. Default is None.\n",
    "    - gender_row (int, optional): Row identifier for gender data. Default is None.\n",
    "    - convert_gender (Callable, optional): Function to convert gender data. Default is None.\n",
    "\n",
    "    Returns:\n",
    "    pd.DataFrame: A DataFrame containing the selected and processed clinical features.\n",
    "    \"\"\"\n",
    "    feature_list = []\n",
    "\n",
    "    trait_data = get_feature_data(clinical_df, trait_row, trait, convert_trait)\n",
    "    feature_list.append(trait_data)\n",
    "    if age_row is not None:\n",
    "        age_data = get_feature_data(clinical_df, age_row, 'Age', convert_age)\n",
    "        feature_list.append(age_data)\n",
    "    if gender_row is not None:\n",
    "        gender_data = get_feature_data(clinical_df, gender_row, 'Gender', convert_gender)\n",
    "        feature_list.append(gender_data)\n",
    "\n",
    "    selected_clinical_df = pd.concat(feature_list, axis=0)\n",
    "    return selected_clinical_df\n",
    "\n",
    "\n",
    "def geo_merge_clinical_genetic_data(clinical_df, genetic_df):\n",
    "    \"\"\"\n",
    "    Merge the clinical features and gene expression features from two dataframes into one dataframe\n",
    "    \"\"\"\n",
    "    if 'ID' in genetic_df.columns:\n",
    "        genetic_df = genetic_df.rename(columns={'ID': 'Gene'})\n",
    "    if 'Gene' in genetic_df.columns:\n",
    "        genetic_df = genetic_df.set_index('Gene')\n",
    "    merged_data = pd.concat([clinical_df, genetic_df], axis=0).T.dropna()\n",
    "    return merged_data\n",
    "\n",
    "\n",
    "def judge_and_remove_biased_features(df, trait, trait_type):\n",
    "    assert trait_type in [\"binary\", \"continuous\"], f\"The trait must be either a binary or a continuous variable!\"\n",
    "    if trait_type == \"binary\":\n",
    "        trait_biased = judge_binary_variable_biased(df, trait)\n",
    "    else:\n",
    "        trait_biased = judge_continuous_variable_biased(df, trait)\n",
    "    if trait_biased:\n",
    "        print(f\"The distribution of the feature \\'{trait}\\' in this dataset is severely biased.\\n\")\n",
    "    else:\n",
    "        print(f\"The distribution of the feature \\'{trait}\\' in this dataset is fine.\\n\")\n",
    "    if \"Age\" in df.columns:\n",
    "        age_biased = judge_continuous_variable_biased(df, 'Age')\n",
    "        if age_biased:\n",
    "            print(f\"The distribution of the feature \\'Age\\' in this dataset is severely biased.\\n\")\n",
    "            df = df.drop(columns='Age')\n",
    "        else:\n",
    "            print(f\"The distribution of the feature \\'Age\\' in this dataset is fine.\\n\")\n",
    "    if \"Gender\" in df.columns:\n",
    "        gender_biased = judge_binary_variable_biased(df, 'Gender')\n",
    "        if gender_biased:\n",
    "            print(f\"The distribution of the feature \\'Gender\\' in this dataset is severely biased.\\n\")\n",
    "            df = df.drop(columns='Gender')\n",
    "        else:\n",
    "            print(f\"The distribution of the feature \\'Gender\\' in this dataset is fine.\\n\")\n",
    "\n",
    "    return trait_biased, df\n",
    "\n",
    "\n",
    "def save_cohort_info(cohort: str, info_path: str, is_available: bool, is_biased: Optional[bool] = None,\n",
    "                     df: Optional[pd.DataFrame] = None, note: str = '') -> None:\n",
    "    \"\"\"\n",
    "    Add or update information about the usability and quality of a dataset for statistical analysis.\n",
    "\n",
    "    Parameters:\n",
    "    cohort (str): A unique identifier for the dataset.\n",
    "    info_path (str): File path to the JSON file where records are stored.\n",
    "    is_available (bool): Indicates whether both the genetic data and trait data are available in the dataset, and can be\n",
    "     preprocessed into a dataframe.\n",
    "    is_biased (bool, optional): Indicates whether the dataset is too biased to be usable.\n",
    "        Required if `is_available` is True.\n",
    "    df (pandas.DataFrame, optional): The preprocessed dataset. Required if `is_available` is True.\n",
    "    note (str, optional): Additional notes about the dataset.\n",
    "\n",
    "    Returns:\n",
    "    None: The function does not return a value but updates or creates a record in the specified JSON file.\n",
    "    \"\"\"\n",
    "    if is_available:\n",
    "        assert (df is not None) and (is_biased is not None), \"'df' and 'is_biased' should be provided if this cohort \" \\\n",
    "                                                             \"is relevant.\"\n",
    "    is_usable = is_available and (not is_biased)\n",
    "    new_record = {\"is_usable\": is_usable,\n",
    "                  \"is_available\": is_available,\n",
    "                  \"is_biased\": is_biased if is_available else None,\n",
    "                  \"has_age\": \"Age\" in df.columns if is_available else None,\n",
    "                  \"has_gender\": \"Gender\" in df.columns if is_available else None,\n",
    "                  \"sample_size\": len(df) if is_available else None,\n",
    "                  \"note\": note}\n",
    "\n",
    "    trait_directory = os.path.dirname(info_path)\n",
    "    os.makedirs(trait_directory, exist_ok=True)\n",
    "    if not os.path.exists(info_path):\n",
    "        with open(info_path, 'w') as file:\n",
    "            json.dump({}, file)\n",
    "        print(f\"A new JSON file was created at: {info_path}\")\n",
    "\n",
    "    with open(info_path, \"r\") as file:\n",
    "        records = json.load(file)\n",
    "    records[cohort] = new_record\n",
    "\n",
    "    temp_path = info_path + \".tmp\"\n",
    "    try:\n",
    "        with open(temp_path, 'w') as file:\n",
    "            json.dump(records, file)\n",
    "        os.replace(temp_path, info_path)\n",
    "\n",
    "    except Exception as e:\n",
    "        print(f\"An error occurred: {e}\")\n",
    "        if os.path.exists(temp_path):\n",
    "            os.remove(temp_path)\n",
    "        raise\n",
    "\n",
    "\n",
    "def read_json_to_dataframe(json_file: str) -> pd.DataFrame:\n",
    "    \"\"\"\n",
    "    Reads a JSON file and converts it into a pandas DataFrame.\n",
    "\n",
    "    Args:\n",
    "    json_file (str): The path to the JSON file containing the data.\n",
    "\n",
    "    Returns:\n",
    "    DataFrame: A pandas DataFrame with the JSON data.\n",
    "    \"\"\"\n",
    "    with open(json_file, 'r') as file:\n",
    "        data = json.load(file)\n",
    "    return pd.DataFrame.from_dict(data, orient='index').reset_index().rename(columns={'index': 'cohort_id'})\n",
    "\n",
    "\n",
    "def filter_and_rank_cohorts(json_file: str, condition: Union[str, None] = None) -> Tuple[\n",
    "    Union[str, None], pd.DataFrame]:\n",
    "    \"\"\"\n",
    "    Reads a JSON file, filters cohorts based on usability and an optional condition, then ranks them by sample size.\n",
    "\n",
    "    Args:\n",
    "    json_file (str): The path to the JSON file containing the data.\n",
    "    condition (str, optional): An additional condition for filtering. If None, only 'is_usable' is considered.\n",
    "\n",
    "    Returns:\n",
    "    Tuple: A tuple containing the best cohort ID (str or None if no suitable cohort is found) and\n",
    "           the filtered and ranked DataFrame.\n",
    "    \"\"\"\n",
    "    # Read the JSON file into a DataFrame\n",
    "    df = read_json_to_dataframe(json_file)\n",
    "\n",
    "    if condition:\n",
    "        filtered_df = df[(df['is_usable'] == True) & (df[condition] == True)]\n",
    "    else:\n",
    "        filtered_df = df[df['is_usable'] == True]\n",
    "\n",
    "    ranked_df = filtered_df.sort_values(by='sample_size', ascending=False)\n",
    "    best_cohort_id = ranked_df.iloc[0]['cohort_id'] if not ranked_df.empty else None\n",
    "\n",
    "    return best_cohort_id, ranked_df\n",
    "\n",
    "\n",
    "def read_json_to_dataframe(json_file: str) -> pd.DataFrame:\n",
    "    \"\"\"\n",
    "    Reads a JSON file and converts it into a pandas DataFrame.\n",
    "    \"\"\"\n",
    "    with open(json_file, 'r') as file:\n",
    "        data = json.load(file)\n",
    "    return pd.DataFrame.from_dict(data, orient='index').reset_index().rename(columns={'index': 'cohort_id'})\n",
    "\n",
    "\n",
    "def filter_and_rank_cohorts(json_file: str, condition: Union[str, None] = None) -> Tuple[\n",
    "    Union[str, None], pd.DataFrame]:\n",
    "    \"\"\"\n",
    "    Reads a JSON file, filters cohorts based on usability and an optional condition, then ranks them by sample size.\n",
    "\n",
    "    Args:\n",
    "    json_file (str): The path to the JSON file containing the data.\n",
    "    condition (str, optional): An additional condition for filtering. If None, only 'is_usable' is considered.\n",
    "\n",
    "    Returns:\n",
    "    Tuple: A tuple containing the best cohort ID (str or None if no suitable cohort is found) and\n",
    "           the filtered and ranked DataFrame.\n",
    "    \"\"\"\n",
    "    df = read_json_to_dataframe(json_file)\n",
    "    if condition:\n",
    "        if condition.lower() in ['age', 'gender']:\n",
    "            condition = 'has_' + condition.lower()\n",
    "        assert condition in ['has_age', 'has_gender']\n",
    "        filtered_df = df[(df['is_usable'] == True) & (df[condition] == True)]\n",
    "    else:\n",
    "        filtered_df = df[df['is_usable'] == True]\n",
    "    ranked_df = filtered_df.sort_values(by='sample_size', ascending=False)\n",
    "    best_cohort_id = ranked_df.iloc[0]['cohort_id'] if not ranked_df.empty else None\n",
    "\n",
    "    return best_cohort_id, ranked_df\n",
    "\n",
    "\n",
    "def preview_df(df, n=5):\n",
    "    return df.head(n).to_dict(orient='list')\n"
   ]
  },
  {
   "cell_type": "code",
   "execution_count": 2,
   "metadata": {
    "ExecuteTime": {
     "end_time": "2024-02-27T00:22:19.923963844Z",
     "start_time": "2024-02-27T00:22:19.920633515Z"
    },
    "colab": {
     "base_uri": "https://localhost:8080/"
    },
    "id": "jMTdsU43vVg3",
    "outputId": "38886111-f442-44b4-8398-96bf384d7abd"
   },
   "outputs": [
    {
     "data": {
      "text/plain": [
       "\"import os\\nfrom google.colab import drive\\n\\ndrive.mount('/content/drive', force_remount=True)\\nproj_dir = '/content/drive/MyDrive/AI4Science_Public'\\nos.chdir(proj_dir)\""
      ]
     },
     "execution_count": 2,
     "metadata": {},
     "output_type": "execute_result"
    }
   ],
   "source": [
    "# This cell is only for use on Google Colab. Skip it if you run your code in other environments\n",
    "\n",
    "\"\"\"import os\n",
    "from google.colab import drive\n",
    "\n",
    "drive.mount('/content/drive', force_remount=True)\n",
    "proj_dir = '/content/drive/MyDrive/AI4Science_Public'\n",
    "os.chdir(proj_dir)\"\"\""
   ]
  },
  {
   "cell_type": "markdown",
   "metadata": {
    "collapsed": false
   },
   "source": [
    "# 2. Data preprocessing and selection"
   ]
  },
  {
   "cell_type": "markdown",
   "metadata": {
    "collapsed": false
   },
   "source": [
    "## 2.1. The TCGA Xena dataset"
   ]
  },
  {
   "cell_type": "markdown",
   "metadata": {
    "collapsed": false
   },
   "source": [
    "In TCGA Xena, there is either zero or one cohort related to the trait. We search the names of subdirectories to see if any matches the trait. If a match is found, we directly obtain the file paths."
   ]
  },
  {
   "cell_type": "code",
   "execution_count": 3,
   "metadata": {
    "ExecuteTime": {
     "end_time": "2024-02-27T00:22:21.140790869Z",
     "start_time": "2024-02-27T00:22:21.133208795Z"
    },
    "collapsed": false
   },
   "outputs": [
    {
     "data": {
      "text/plain": [
       "['TCGA_Cervical_Cancer_(LUNG)']"
      ]
     },
     "execution_count": 3,
     "metadata": {},
     "output_type": "execute_result"
    }
   ],
   "source": [
    "dataset = 'TCGA'\n",
    "dataset_dir = os.path.join(DATA_ROOT, dataset)\n",
    "os.listdir(dataset_dir)[:10]"
   ]
  },
  {
   "cell_type": "markdown",
   "metadata": {
    "collapsed": false
   },
   "source": [
    "If no match is found, jump directly to GEO in Part 2.2"
   ]
  },
  {
   "cell_type": "code",
   "execution_count": 5,
   "metadata": {
    "ExecuteTime": {
     "end_time": "2024-02-27T00:22:21.985144212Z",
     "start_time": "2024-02-27T00:22:21.981084968Z"
    },
    "collapsed": false
   },
   "outputs": [
    {
     "ename": "FileNotFoundError",
     "evalue": "[WinError 3] The system cannot find the path specified: '/Users/jacob/Documents\\\\TCGA\\\\TCGA_Lung_Cancer_(LUNG)'",
     "output_type": "error",
     "traceback": [
      "\u001b[1;31m---------------------------------------------------------------------------\u001b[0m",
      "\u001b[1;31mFileNotFoundError\u001b[0m                         Traceback (most recent call last)",
      "Cell \u001b[1;32mIn[5], line 9\u001b[0m\n\u001b[0;32m      6\u001b[0m is_available \u001b[38;5;241m=\u001b[39m \u001b[38;5;28;01mTrue\u001b[39;00m\n\u001b[0;32m      8\u001b[0m cohort_dir \u001b[38;5;241m=\u001b[39m os\u001b[38;5;241m.\u001b[39mpath\u001b[38;5;241m.\u001b[39mjoin(DATA_ROOT, dataset, trait_subdir)\n\u001b[1;32m----> 9\u001b[0m clinical_data_file, genetic_data_file \u001b[38;5;241m=\u001b[39m \u001b[43mxena_get_relevant_filepaths\u001b[49m\u001b[43m(\u001b[49m\u001b[43mcohort_dir\u001b[49m\u001b[43m)\u001b[49m\n",
      "Cell \u001b[1;32mIn[1], line 39\u001b[0m, in \u001b[0;36mxena_get_relevant_filepaths\u001b[1;34m(cohort_dir)\u001b[0m\n\u001b[0;32m     35\u001b[0m \u001b[38;5;28;01mdef\u001b[39;00m \u001b[38;5;21mxena_get_relevant_filepaths\u001b[39m(cohort_dir):\n\u001b[0;32m     36\u001b[0m \u001b[38;5;250m    \u001b[39m\u001b[38;5;124;03m\"\"\"Find the file paths of a clinical file and a genetic file from the given data directory of a cohort.\u001b[39;00m\n\u001b[0;32m     37\u001b[0m \u001b[38;5;124;03m    If there are multiple clinical or genetic data files, simply choose the first one. Used for the TCGA Xena dataset.\u001b[39;00m\n\u001b[0;32m     38\u001b[0m \u001b[38;5;124;03m    \"\"\"\u001b[39;00m\n\u001b[1;32m---> 39\u001b[0m     files \u001b[38;5;241m=\u001b[39m \u001b[43mos\u001b[49m\u001b[38;5;241;43m.\u001b[39;49m\u001b[43mlistdir\u001b[49m\u001b[43m(\u001b[49m\u001b[43mcohort_dir\u001b[49m\u001b[43m)\u001b[49m\n\u001b[0;32m     40\u001b[0m     clinical_files \u001b[38;5;241m=\u001b[39m [f \u001b[38;5;28;01mfor\u001b[39;00m f \u001b[38;5;129;01min\u001b[39;00m files \u001b[38;5;28;01mif\u001b[39;00m \u001b[38;5;124m'\u001b[39m\u001b[38;5;124mclinicalmatrix\u001b[39m\u001b[38;5;124m'\u001b[39m \u001b[38;5;129;01min\u001b[39;00m f\u001b[38;5;241m.\u001b[39mlower()]\n\u001b[0;32m     41\u001b[0m     genetic_files \u001b[38;5;241m=\u001b[39m [f \u001b[38;5;28;01mfor\u001b[39;00m f \u001b[38;5;129;01min\u001b[39;00m files \u001b[38;5;28;01mif\u001b[39;00m \u001b[38;5;124m'\u001b[39m\u001b[38;5;124mpancan\u001b[39m\u001b[38;5;124m'\u001b[39m \u001b[38;5;129;01min\u001b[39;00m f\u001b[38;5;241m.\u001b[39mlower()]\n",
      "\u001b[1;31mFileNotFoundError\u001b[0m: [WinError 3] The system cannot find the path specified: '/Users/jacob/Documents\\\\TCGA\\\\TCGA_Lung_Cancer_(LUNG)'"
     ]
    }
   ],
   "source": [
    "trait_subdir = \"TCGA_Lung_Cancer_(LUNG)\"\n",
    "cohort = 'Xena'\n",
    "# All the cancer traits in Xena are binary\n",
    "trait_type = 'binary'\n",
    "# Once a relevant cohort is found in Xena, we can generally assume the gene and clinical data are available\n",
    "is_available = True\n",
    "\n",
    "cohort_dir = os.path.join(DATA_ROOT, dataset, trait_subdir)\n",
    "clinical_data_file, genetic_data_file = xena_get_relevant_filepaths(cohort_dir)"
   ]
  },
  {
   "cell_type": "code",
   "execution_count": 5,
   "metadata": {
    "ExecuteTime": {
     "end_time": "2024-02-27T00:22:25.794819905Z",
     "start_time": "2024-02-27T00:22:22.357077391Z"
    },
    "id": "MudwB-_iz7sc"
   },
   "outputs": [],
   "source": [
    "import pandas as pd\n",
    "\n",
    "clinical_data = pd.read_csv(clinical_data_file, sep='\\t', index_col=0)\n",
    "genetic_data = pd.read_csv(genetic_data_file, compression='gzip', sep='\\t', index_col=0)\n",
    "age_col = gender_col = None"
   ]
  },
  {
   "cell_type": "code",
   "execution_count": 6,
   "metadata": {
    "ExecuteTime": {
     "end_time": "2024-02-27T00:22:25.798785383Z",
     "start_time": "2024-02-27T00:22:25.796474039Z"
    },
    "collapsed": false
   },
   "outputs": [
    {
     "data": {
      "text/plain": [
       "['AJCC_Stage_nature2012',\n",
       " 'Age_at_Initial_Pathologic_Diagnosis_nature2012',\n",
       " 'CN_Clusters_nature2012',\n",
       " 'Converted_Stage_nature2012',\n",
       " 'Days_to_Date_of_Last_Contact_nature2012',\n",
       " 'Days_to_date_of_Death_nature2012',\n",
       " 'ER_Status_nature2012',\n",
       " 'Gender_nature2012',\n",
       " 'HER2_Final_Status_nature2012',\n",
       " 'Integrated_Clusters_no_exp__nature2012']"
      ]
     },
     "execution_count": 6,
     "metadata": {},
     "output_type": "execute_result"
    }
   ],
   "source": [
    "_, clinical_data_cols = check_rows_and_columns(clinical_data)\n",
    "clinical_data_cols[:10]"
   ]
  },
  {
   "cell_type": "markdown",
   "metadata": {
    "ExecuteTime": {
     "end_time": "2023-12-28T20:20:11.841042813Z",
     "start_time": "2023-12-28T20:20:11.834458206Z"
    },
    "collapsed": false
   },
   "source": [
    "Read all the column names in the clinical dataset, to find the columns that record information about age or gender.\n",
    "Reference prompt:"
   ]
  },
  {
   "cell_type": "code",
   "execution_count": 7,
   "metadata": {
    "ExecuteTime": {
     "end_time": "2024-02-27T00:22:25.802838875Z",
     "start_time": "2024-02-27T00:22:25.798659327Z"
    },
    "collapsed": false
   },
   "outputs": [
    {
     "data": {
      "text/plain": [
       "\"\\nBelow is a list of column names from a biomedical dataset. Please examine it and identify the columns that are likely to contain information about patients' age. Additionally, please do the same for columns that may hold data on patients' gender. Please provide your answer by strictly following this format, without redundant words:\\ncandidate_age_cols = [col_name1, col_name2, ...]\\ncandidate_gender_cols = [col_name1, col_name2, ...]\\nIf no columns match a criterion, please provide an empty list.\\n\\nColumn names:\\n['AJCC_Stage_nature2012', 'Age_at_Initial_Pathologic_Diagnosis_nature2012', 'CN_Clusters_nature2012', 'Converted_Stage_nature2012', 'Days_to_Date_of_Last_Contact_nature2012', 'Days_to_date_of_Death_nature2012', 'ER_Status_nature2012', 'Gender_nature2012', 'HER2_Final_Status_nature2012', 'Integrated_Clusters_no_exp__nature2012', 'Integrated_Clusters_unsup_exp__nature2012', 'Integrated_Clusters_with_PAM50__nature2012', 'Metastasis_Coded_nature2012', 'Metastasis_nature2012', 'Node_Coded_nature2012', 'Node_nature2012', 'OS_Time_nature2012', 'OS_event_nature2012', 'PAM50Call_RNAseq', 'PAM50_mRNA_nature2012', 'PR_Status_nature2012', 'RPPA_Clusters_nature2012', 'SigClust_Intrinsic_mRNA_nature2012', 'SigClust_Unsupervised_mRNA_nature2012', 'Survival_Data_Form_nature2012', 'Tumor_T1_Coded_nature2012', 'Tumor_nature2012', 'Vital_Status_nature2012', '_INTEGRATION', '_PANCAN_CNA_PANCAN_K8', '_PANCAN_Cluster_Cluster_PANCAN', '_PANCAN_DNAMethyl_BRCA', '_PANCAN_DNAMethyl_PANCAN', '_PANCAN_RPPA_PANCAN_K8', '_PANCAN_UNC_RNAseq_PANCAN_K16', '_PANCAN_miRNA_PANCAN', '_PANCAN_mirna_BRCA', '_PANCAN_mutation_PANCAN', '_PATIENT', '_cohort', '_primary_disease', '_primary_site', 'additional_pharmaceutical_therapy', 'additional_radiation_therapy', 'additional_surgery_locoregional_procedure', 'additional_surgery_metastatic_procedure', 'age_at_initial_pathologic_diagnosis', 'anatomic_neoplasm_subdivision', 'axillary_lymph_node_stage_method_type', 'axillary_lymph_node_stage_other_method_descriptive_text', 'bcr_followup_barcode', 'bcr_patient_barcode', 'bcr_sample_barcode', 'breast_cancer_surgery_margin_status', 'breast_carcinoma_estrogen_receptor_status', 'breast_carcinoma_immunohistochemistry_er_pos_finding_scale', 'breast_carcinoma_immunohistochemistry_pos_cell_score', 'breast_carcinoma_immunohistochemistry_prgstrn_rcptr_ps_fndng_scl', 'breast_carcinoma_primary_surgical_procedure_name', 'breast_carcinoma_progesterone_receptor_status', 'breast_carcinoma_surgical_procedure_name', 'breast_neoplasm_other_surgical_procedure_descriptive_text', 'cytokeratin_immunohistochemistry_staining_method_mcrmtstss_ndctr', 'days_to_additional_surgery_locoregional_procedure', 'days_to_additional_surgery_metastatic_procedure', 'days_to_birth', 'days_to_collection', 'days_to_death', 'days_to_initial_pathologic_diagnosis', 'days_to_last_followup', 'days_to_last_known_alive', 'days_to_new_tumor_event_additional_surgery_procedure', 'days_to_new_tumor_event_after_initial_treatment', 'disease_code', 'distant_metastasis_present_ind2', 'er_detection_method_text', 'er_level_cell_percentage_category', 'fluorescence_in_st_hybrdztn_dgnstc_prcdr_chrmsm_17_sgnl_rslt_rng', 'followup_case_report_form_submission_reason', 'form_completion_date', 'gender', 'her2_and_centromere_17_positive_finding_other_measuremnt_scl_txt', 'her2_erbb_method_calculation_method_text', 'her2_erbb_pos_finding_cell_percent_category', 'her2_erbb_pos_finding_fluorescence_n_st_hybrdztn_clcltn_mthd_txt', 'her2_immunohistochemistry_level_result', 'her2_neu_and_centromere_17_copy_number_analysis_npt_ttl_nmbr_cnt', 'her2_neu_breast_carcinoma_copy_analysis_input_total_number', 'her2_neu_chromosone_17_signal_ratio_value', 'her2_neu_metastatic_breast_carcinoma_copy_analysis_inpt_ttl_nmbr', 'histological_type', 'histological_type_other', 'history_of_neoadjuvant_treatment', 'hr2_n_nd_cntrmr_17_cpy_nmbr_mtsttc_brst_crcnm_nlyss_npt_ttl_nmbr', 'icd_10', 'icd_o_3_histology', 'icd_o_3_site', 'immunohistochemistry_positive_cell_score', 'informed_consent_verified', 'init_pathology_dx_method_other', 'initial_pathologic_diagnosis_method', 'initial_weight', 'is_ffpe', 'lab_proc_her2_neu_immunohistochemistry_receptor_status', 'lab_procedure_her2_neu_in_situ_hybrid_outcome_type', 'lost_follow_up', 'lymph_node_examined_count', 'margin_status', 'menopause_status', 'metastatic_breast_carcinm_ps_fndng_prgstrn_rcptr_thr_msr_scl_txt', 'metastatic_breast_carcinom_lb_prc_hr2_n_mmnhstchmstry_rcptr_stts', 'metastatic_breast_carcinoma_erbb2_immunohistochemistry_levl_rslt', 'metastatic_breast_carcinoma_estrogen_receptor_detection_mthd_txt', 'metastatic_breast_carcinoma_estrogen_receptor_status', 'metastatic_breast_carcinoma_estrogen_receptr_lvl_cll_prcnt_ctgry', 'metastatic_breast_carcinoma_her2_erbb_method_calculatin_mthd_txt', 'metastatic_breast_carcinoma_her2_erbb_pos_findng_cll_prcnt_ctgry', 'metastatic_breast_carcinoma_her2_neu_chromosone_17_signal_rat_vl', 'metastatic_breast_carcinoma_immunhstchmstry_r_pstv_fndng_scl_typ', 'metastatic_breast_carcinoma_immunohistochemistry_er_pos_cell_scr', 'metastatic_breast_carcinoma_immunohistochemistry_pr_pos_cell_scr', 'metastatic_breast_carcinoma_lab_proc_hr2_n_n_st_hybrdztn_tcm_typ', 'metastatic_breast_carcinoma_pos_finding_hr2_rbb2_thr_msr_scl_txt', 'metastatic_breast_carcinoma_progestern_rcptr_lvl_cll_prcnt_ctgry', 'metastatic_breast_carcinoma_progesterone_receptor_dtctn_mthd_txt', 'metastatic_breast_carcinoma_progesterone_receptor_status', 'metastatic_site_at_diagnosis', 'metastatic_site_at_diagnosis_other', 'methylation_Clusters_nature2012', 'miRNA_Clusters_nature2012', 'mtsttc_brst_crcnm_flrscnc_n_st_hybrdztn_dgnstc_prc_cntrmr_17_sgn', 'mtsttc_brst_crcnm_hr2_rbb_ps_fndng_flrscnc_n_st_hybrdztn_clcltn', 'mtsttc_brst_crcnm_mmnhstchmstry_prgstrn_rcptr_pstv_fndng_scl_typ', 'new_neoplasm_event_occurrence_anatomic_site', 'new_neoplasm_event_type', 'new_neoplasm_occurrence_anatomic_site_text', 'new_tumor_event_additional_surgery_procedure', 'new_tumor_event_after_initial_treatment', 'number_of_lymphnodes_positive_by_he', 'number_of_lymphnodes_positive_by_ihc', 'oct_embedded', 'other_dx', 'pathologic_M', 'pathologic_N', 'pathologic_T', 'pathologic_stage', 'pathology_report_file_name', 'patient_id', 'person_neoplasm_cancer_status', 'pgr_detection_method_text', 'pos_finding_her2_erbb2_other_measurement_scale_text', 'pos_finding_metastatic_brst_crcnm_strgn_rcptr_thr_msrmnt_scl_txt', 'pos_finding_progesterone_receptor_other_measurement_scale_text', 'positive_finding_estrogen_receptor_other_measurement_scale_text', 'postoperative_rx_tx', 'primary_lymph_node_presentation_assessment', 'progesterone_receptor_level_cell_percent_category', 'project_code', 'radiation_therapy', 'sample_type', 'sample_type_id', 'surgical_procedure_purpose_other_text', 'system_version', 'targeted_molecular_therapy', 'tissue_prospective_collection_indicator', 'tissue_retrospective_collection_indicator', 'tissue_source_site', 'tumor_tissue_site', 'vial_number', 'vital_status', 'year_of_initial_pathologic_diagnosis', '_GENOMIC_ID_TCGA_BRCA_exp_HiSeqV2_exon', '_GENOMIC_ID_TCGA_BRCA_exp_HiSeqV2_PANCAN', '_GENOMIC_ID_TCGA_BRCA_RPPA_RBN', '_GENOMIC_ID_TCGA_BRCA_mutation', '_GENOMIC_ID_TCGA_BRCA_PDMRNAseq', '_GENOMIC_ID_TCGA_BRCA_hMethyl450', '_GENOMIC_ID_TCGA_BRCA_RPPA', '_GENOMIC_ID_TCGA_BRCA_PDMRNAseqCNV', '_GENOMIC_ID_TCGA_BRCA_mutation_curated_wustl_gene', '_GENOMIC_ID_TCGA_BRCA_hMethyl27', '_GENOMIC_ID_TCGA_BRCA_PDMarrayCNV', '_GENOMIC_ID_TCGA_BRCA_miRNA_HiSeq', '_GENOMIC_ID_TCGA_BRCA_mutation_wustl_gene', '_GENOMIC_ID_TCGA_BRCA_miRNA_GA', '_GENOMIC_ID_TCGA_BRCA_exp_HiSeqV2_percentile', '_GENOMIC_ID_data/public/TCGA/BRCA/miRNA_GA_gene', '_GENOMIC_ID_TCGA_BRCA_gistic2thd', '_GENOMIC_ID_data/public/TCGA/BRCA/miRNA_HiSeq_gene', '_GENOMIC_ID_TCGA_BRCA_G4502A_07_3', '_GENOMIC_ID_TCGA_BRCA_exp_HiSeqV2', '_GENOMIC_ID_TCGA_BRCA_gistic2', '_GENOMIC_ID_TCGA_BRCA_PDMarray']\\n\""
      ]
     },
     "execution_count": 7,
     "metadata": {},
     "output_type": "execute_result"
    }
   ],
   "source": [
    "f'''\n",
    "Below is a list of column names from a biomedical dataset. Please examine it and identify the columns that are likely to contain information about patients' age. Additionally, please do the same for columns that may hold data on patients' gender. Please provide your answer by strictly following this format, without redundant words:\n",
    "candidate_age_cols = [col_name1, col_name2, ...]\n",
    "candidate_gender_cols = [col_name1, col_name2, ...]\n",
    "If no columns match a criterion, please provide an empty list.\n",
    "\n",
    "Column names:\n",
    "{clinical_data_cols}\n",
    "'''"
   ]
  },
  {
   "cell_type": "code",
   "execution_count": 8,
   "metadata": {
    "ExecuteTime": {
     "end_time": "2024-02-27T00:22:25.864092575Z",
     "start_time": "2024-02-27T00:22:25.802001989Z"
    },
    "collapsed": false
   },
   "outputs": [],
   "source": [
    "candidate_age_cols = ['Age_at_Initial_Pathologic_Diagnosis_nature2012', 'age_at_initial_pathologic_diagnosis',\n",
    "                      'days_to_birth', 'year_of_initial_pathologic_diagnosis']\n",
    "candidate_gender_cols = ['Gender_nature2012', 'gender']"
   ]
  },
  {
   "cell_type": "markdown",
   "metadata": {
    "ExecuteTime": {
     "end_time": "2023-12-31T03:57:44.207565572Z",
     "start_time": "2023-12-31T03:57:44.202177544Z"
    },
    "collapsed": false
   },
   "source": [
    "\n",
    "Choose a single column from the candidate columns that record age and gender information respectively.\n",
    "If no column meets the requirement, keep 'age_col' or 'gender_col' to None"
   ]
  },
  {
   "cell_type": "code",
   "execution_count": 9,
   "metadata": {
    "ExecuteTime": {
     "end_time": "2024-02-27T00:22:25.883993050Z",
     "start_time": "2024-02-27T00:22:25.843002735Z"
    },
    "collapsed": false
   },
   "outputs": [
    {
     "data": {
      "text/plain": [
       "{'Age_at_Initial_Pathologic_Diagnosis_nature2012': [nan, nan, nan, nan, nan],\n",
       " 'age_at_initial_pathologic_diagnosis': [55.0, 50.0, 62.0, 52.0, 50.0],\n",
       " 'days_to_birth': [-20211.0, -18538.0, -22848.0, -19074.0, -18371.0],\n",
       " 'year_of_initial_pathologic_diagnosis': [2004.0,\n",
       "  2003.0,\n",
       "  2011.0,\n",
       "  2011.0,\n",
       "  2013.0]}"
      ]
     },
     "execution_count": 9,
     "metadata": {},
     "output_type": "execute_result"
    }
   ],
   "source": [
    "preview_df(clinical_data[candidate_age_cols])"
   ]
  },
  {
   "cell_type": "code",
   "execution_count": 10,
   "metadata": {
    "ExecuteTime": {
     "end_time": "2024-02-27T00:22:26.108535524Z",
     "start_time": "2024-02-27T00:22:26.101435803Z"
    },
    "collapsed": false
   },
   "outputs": [],
   "source": [
    "age_col = 'age_at_initial_pathologic_diagnosis'"
   ]
  },
  {
   "cell_type": "code",
   "execution_count": 11,
   "metadata": {
    "ExecuteTime": {
     "end_time": "2024-02-27T00:22:26.627515444Z",
     "start_time": "2024-02-27T00:22:26.621590532Z"
    },
    "collapsed": false
   },
   "outputs": [
    {
     "data": {
      "text/plain": [
       "{'Gender_nature2012': [nan, nan, nan, nan, nan],\n",
       " 'gender': ['FEMALE', 'FEMALE', 'FEMALE', 'FEMALE', 'FEMALE']}"
      ]
     },
     "execution_count": 11,
     "metadata": {},
     "output_type": "execute_result"
    }
   ],
   "source": [
    "preview_df(clinical_data[candidate_gender_cols])"
   ]
  },
  {
   "cell_type": "code",
   "execution_count": 12,
   "metadata": {
    "ExecuteTime": {
     "end_time": "2024-02-27T00:22:27.048689083Z",
     "start_time": "2024-02-27T00:22:27.042025799Z"
    },
    "collapsed": false
   },
   "outputs": [],
   "source": [
    "gender_col = 'gender'"
   ]
  },
  {
   "cell_type": "code",
   "execution_count": 13,
   "metadata": {
    "ExecuteTime": {
     "end_time": "2024-02-27T00:22:27.533988678Z",
     "start_time": "2024-02-27T00:22:27.530516924Z"
    },
    "collapsed": false
   },
   "outputs": [],
   "source": [
    "selected_clinical_data = xena_select_clinical_features(clinical_data, TRAIT, age_col=age_col, gender_col=gender_col)"
   ]
  },
  {
   "cell_type": "code",
   "execution_count": 14,
   "metadata": {
    "ExecuteTime": {
     "end_time": "2024-02-27T00:23:16.602458026Z",
     "start_time": "2024-02-27T00:22:27.839636769Z"
    },
    "collapsed": false
   },
   "outputs": [],
   "source": [
    "if NORMALIZE_GENE:\n",
    "    genetic_data = normalize_gene_symbols_in_index(genetic_data)"
   ]
  },
  {
   "cell_type": "code",
   "execution_count": 15,
   "metadata": {
    "ExecuteTime": {
     "end_time": "2024-02-27T00:23:16.720144304Z",
     "start_time": "2024-02-27T00:23:16.643071320Z"
    },
    "collapsed": false
   },
   "outputs": [
    {
     "data": {
      "text/html": [
       "<div>\n",
       "<style scoped>\n",
       "    .dataframe tbody tr th:only-of-type {\n",
       "        vertical-align: middle;\n",
       "    }\n",
       "\n",
       "    .dataframe tbody tr th {\n",
       "        vertical-align: top;\n",
       "    }\n",
       "\n",
       "    .dataframe thead th {\n",
       "        text-align: right;\n",
       "    }\n",
       "</style>\n",
       "<table border=\"1\" class=\"dataframe\">\n",
       "  <thead>\n",
       "    <tr style=\"text-align: right;\">\n",
       "      <th></th>\n",
       "      <th>Breast Cancer</th>\n",
       "      <th>Age</th>\n",
       "      <th>Gender</th>\n",
       "      <th>ARHGEF10L</th>\n",
       "      <th>HIF3A</th>\n",
       "      <th>RNF17</th>\n",
       "      <th>RNF10</th>\n",
       "      <th>RNF11</th>\n",
       "      <th>RNF13</th>\n",
       "      <th>GTF2IP1</th>\n",
       "      <th>...</th>\n",
       "      <th>SLC7A10</th>\n",
       "      <th>PLA2G2C</th>\n",
       "      <th>TULP2</th>\n",
       "      <th>NPY5R</th>\n",
       "      <th>GNGT2</th>\n",
       "      <th>GNGT1</th>\n",
       "      <th>TULP3</th>\n",
       "      <th>BCL6B</th>\n",
       "      <th>GSTK1</th>\n",
       "      <th>SELP</th>\n",
       "    </tr>\n",
       "    <tr>\n",
       "      <th>sampleID</th>\n",
       "      <th></th>\n",
       "      <th></th>\n",
       "      <th></th>\n",
       "      <th></th>\n",
       "      <th></th>\n",
       "      <th></th>\n",
       "      <th></th>\n",
       "      <th></th>\n",
       "      <th></th>\n",
       "      <th></th>\n",
       "      <th></th>\n",
       "      <th></th>\n",
       "      <th></th>\n",
       "      <th></th>\n",
       "      <th></th>\n",
       "      <th></th>\n",
       "      <th></th>\n",
       "      <th></th>\n",
       "      <th></th>\n",
       "      <th></th>\n",
       "      <th></th>\n",
       "    </tr>\n",
       "  </thead>\n",
       "  <tbody>\n",
       "    <tr>\n",
       "      <th>TCGA-3C-AAAU-01</th>\n",
       "      <td>1</td>\n",
       "      <td>55.0</td>\n",
       "      <td>0.0</td>\n",
       "      <td>0.607308</td>\n",
       "      <td>-3.194126</td>\n",
       "      <td>-0.531035</td>\n",
       "      <td>-0.145872</td>\n",
       "      <td>0.237422</td>\n",
       "      <td>-0.29921</td>\n",
       "      <td>-0.142694</td>\n",
       "      <td>...</td>\n",
       "      <td>-1.331386</td>\n",
       "      <td>-0.086682</td>\n",
       "      <td>-0.748878</td>\n",
       "      <td>0.565583</td>\n",
       "      <td>-0.767233</td>\n",
       "      <td>-1.28139</td>\n",
       "      <td>-0.271377</td>\n",
       "      <td>0.360373</td>\n",
       "      <td>1.067905</td>\n",
       "      <td>0.076267</td>\n",
       "    </tr>\n",
       "    <tr>\n",
       "      <th>TCGA-3C-AALI-01</th>\n",
       "      <td>1</td>\n",
       "      <td>50.0</td>\n",
       "      <td>0.0</td>\n",
       "      <td>-0.641192</td>\n",
       "      <td>-4.928226</td>\n",
       "      <td>0.095465</td>\n",
       "      <td>0.098128</td>\n",
       "      <td>-0.541978</td>\n",
       "      <td>-0.32291</td>\n",
       "      <td>-0.044694</td>\n",
       "      <td>...</td>\n",
       "      <td>1.426614</td>\n",
       "      <td>-0.086682</td>\n",
       "      <td>0.312922</td>\n",
       "      <td>0.079683</td>\n",
       "      <td>0.475267</td>\n",
       "      <td>1.99661</td>\n",
       "      <td>0.161423</td>\n",
       "      <td>0.644673</td>\n",
       "      <td>-0.428695</td>\n",
       "      <td>0.068667</td>\n",
       "    </tr>\n",
       "    <tr>\n",
       "      <th>TCGA-3C-AALJ-01</th>\n",
       "      <td>1</td>\n",
       "      <td>62.0</td>\n",
       "      <td>0.0</td>\n",
       "      <td>1.082808</td>\n",
       "      <td>-4.623726</td>\n",
       "      <td>-0.531035</td>\n",
       "      <td>0.484028</td>\n",
       "      <td>-0.183678</td>\n",
       "      <td>-0.91901</td>\n",
       "      <td>0.261106</td>\n",
       "      <td>...</td>\n",
       "      <td>1.694014</td>\n",
       "      <td>-0.086682</td>\n",
       "      <td>-0.748878</td>\n",
       "      <td>-0.656117</td>\n",
       "      <td>-0.216733</td>\n",
       "      <td>0.21081</td>\n",
       "      <td>0.101023</td>\n",
       "      <td>1.295073</td>\n",
       "      <td>0.915105</td>\n",
       "      <td>0.168567</td>\n",
       "    </tr>\n",
       "    <tr>\n",
       "      <th>TCGA-3C-AALK-01</th>\n",
       "      <td>1</td>\n",
       "      <td>52.0</td>\n",
       "      <td>0.0</td>\n",
       "      <td>0.121608</td>\n",
       "      <td>-2.881526</td>\n",
       "      <td>-0.531035</td>\n",
       "      <td>0.179128</td>\n",
       "      <td>0.039222</td>\n",
       "      <td>-0.45491</td>\n",
       "      <td>0.180306</td>\n",
       "      <td>...</td>\n",
       "      <td>-1.211186</td>\n",
       "      <td>-0.086682</td>\n",
       "      <td>0.415422</td>\n",
       "      <td>-0.178417</td>\n",
       "      <td>-0.211233</td>\n",
       "      <td>-1.28139</td>\n",
       "      <td>0.108023</td>\n",
       "      <td>0.496773</td>\n",
       "      <td>0.240105</td>\n",
       "      <td>3.099767</td>\n",
       "    </tr>\n",
       "    <tr>\n",
       "      <th>TCGA-4H-AAAK-01</th>\n",
       "      <td>1</td>\n",
       "      <td>50.0</td>\n",
       "      <td>0.0</td>\n",
       "      <td>0.420208</td>\n",
       "      <td>-3.282726</td>\n",
       "      <td>-0.531035</td>\n",
       "      <td>-0.020972</td>\n",
       "      <td>-0.117978</td>\n",
       "      <td>-0.55781</td>\n",
       "      <td>-0.173794</td>\n",
       "      <td>...</td>\n",
       "      <td>-0.901186</td>\n",
       "      <td>0.424818</td>\n",
       "      <td>0.685222</td>\n",
       "      <td>-0.698717</td>\n",
       "      <td>-0.484233</td>\n",
       "      <td>-1.28139</td>\n",
       "      <td>-0.223577</td>\n",
       "      <td>0.225573</td>\n",
       "      <td>-0.301995</td>\n",
       "      <td>0.200067</td>\n",
       "    </tr>\n",
       "  </tbody>\n",
       "</table>\n",
       "<p>5 rows × 17342 columns</p>\n",
       "</div>"
      ],
      "text/plain": [
       "                 Breast Cancer   Age  Gender  ARHGEF10L     HIF3A     RNF17  \\\n",
       "sampleID                                                                      \n",
       "TCGA-3C-AAAU-01              1  55.0     0.0   0.607308 -3.194126 -0.531035   \n",
       "TCGA-3C-AALI-01              1  50.0     0.0  -0.641192 -4.928226  0.095465   \n",
       "TCGA-3C-AALJ-01              1  62.0     0.0   1.082808 -4.623726 -0.531035   \n",
       "TCGA-3C-AALK-01              1  52.0     0.0   0.121608 -2.881526 -0.531035   \n",
       "TCGA-4H-AAAK-01              1  50.0     0.0   0.420208 -3.282726 -0.531035   \n",
       "\n",
       "                    RNF10     RNF11    RNF13   GTF2IP1  ...   SLC7A10  \\\n",
       "sampleID                                                ...             \n",
       "TCGA-3C-AAAU-01 -0.145872  0.237422 -0.29921 -0.142694  ... -1.331386   \n",
       "TCGA-3C-AALI-01  0.098128 -0.541978 -0.32291 -0.044694  ...  1.426614   \n",
       "TCGA-3C-AALJ-01  0.484028 -0.183678 -0.91901  0.261106  ...  1.694014   \n",
       "TCGA-3C-AALK-01  0.179128  0.039222 -0.45491  0.180306  ... -1.211186   \n",
       "TCGA-4H-AAAK-01 -0.020972 -0.117978 -0.55781 -0.173794  ... -0.901186   \n",
       "\n",
       "                  PLA2G2C     TULP2     NPY5R     GNGT2    GNGT1     TULP3  \\\n",
       "sampleID                                                                     \n",
       "TCGA-3C-AAAU-01 -0.086682 -0.748878  0.565583 -0.767233 -1.28139 -0.271377   \n",
       "TCGA-3C-AALI-01 -0.086682  0.312922  0.079683  0.475267  1.99661  0.161423   \n",
       "TCGA-3C-AALJ-01 -0.086682 -0.748878 -0.656117 -0.216733  0.21081  0.101023   \n",
       "TCGA-3C-AALK-01 -0.086682  0.415422 -0.178417 -0.211233 -1.28139  0.108023   \n",
       "TCGA-4H-AAAK-01  0.424818  0.685222 -0.698717 -0.484233 -1.28139 -0.223577   \n",
       "\n",
       "                    BCL6B     GSTK1      SELP  \n",
       "sampleID                                       \n",
       "TCGA-3C-AAAU-01  0.360373  1.067905  0.076267  \n",
       "TCGA-3C-AALI-01  0.644673 -0.428695  0.068667  \n",
       "TCGA-3C-AALJ-01  1.295073  0.915105  0.168567  \n",
       "TCGA-3C-AALK-01  0.496773  0.240105  3.099767  \n",
       "TCGA-4H-AAAK-01  0.225573 -0.301995  0.200067  \n",
       "\n",
       "[5 rows x 17342 columns]"
      ]
     },
     "execution_count": 15,
     "metadata": {},
     "output_type": "execute_result"
    }
   ],
   "source": [
    "merged_data = selected_clinical_data.join(genetic_data.T).dropna()\n",
    "merged_data.head()"
   ]
  },
  {
   "cell_type": "code",
   "execution_count": 16,
   "metadata": {
    "ExecuteTime": {
     "end_time": "2024-02-27T00:23:16.731303752Z",
     "start_time": "2024-02-27T00:23:16.717316474Z"
    },
    "collapsed": false
   },
   "outputs": [
    {
     "name": "stdout",
     "output_type": "stream",
     "text": [
      "The merged dataset contains 1215 samples.\n",
      "For the feature 'Breast Cancer', the least common label is '0' with 113 occurrences. This represents 9.30% of the dataset.\n",
      "The distribution of the feature 'Breast Cancer' in this dataset is fine.\n",
      "\n",
      "Quartiles for 'Age':\n",
      "  25%: 48.0\n",
      "  50% (Median): 58.0\n",
      "  75%: 67.0\n",
      "Min: 26.0\n",
      "Max: 90.0\n",
      "The distribution of the feature 'Age' in this dataset is fine.\n",
      "\n",
      "For the feature 'Gender', the least common label is '1.0' with 13 occurrences. This represents 1.07% of the dataset.\n",
      "The distribution of the feature 'Gender' in this dataset is fine.\n",
      "\n"
     ]
    },
    {
     "data": {
      "text/plain": [
       "False"
      ]
     },
     "execution_count": 16,
     "metadata": {},
     "output_type": "execute_result"
    }
   ],
   "source": [
    "print(f\"The merged dataset contains {len(merged_data)} samples.\")\n",
    "is_trait_biased, merge_data = judge_and_remove_biased_features(merged_data, TRAIT, trait_type=trait_type)\n",
    "is_trait_biased"
   ]
  },
  {
   "cell_type": "code",
   "execution_count": 17,
   "metadata": {
    "ExecuteTime": {
     "end_time": "2024-02-27T00:23:30.252387093Z",
     "start_time": "2024-02-27T00:23:16.722533204Z"
    },
    "collapsed": false
   },
   "outputs": [],
   "source": [
    "merged_data.head()\n",
    "if not is_trait_biased:\n",
    "    merge_data.to_csv(os.path.join(OUTPUT_DIR, cohort + '.csv'), index=False)"
   ]
  },
  {
   "cell_type": "code",
   "execution_count": 18,
   "metadata": {
    "ExecuteTime": {
     "end_time": "2024-02-27T00:23:30.302271525Z",
     "start_time": "2024-02-27T00:23:30.295066253Z"
    },
    "collapsed": false
   },
   "outputs": [
    {
     "name": "stdout",
     "output_type": "stream",
     "text": [
      "A new JSON file was created at: ../../output1/Haoyang/Breast-Cancer/cohort_info.json\n"
     ]
    }
   ],
   "source": [
    "save_cohort_info(cohort, JSON_PATH, is_available, is_trait_biased, merged_data)"
   ]
  },
  {
   "cell_type": "markdown",
   "metadata": {
    "ExecuteTime": {
     "end_time": "2023-12-28T21:28:38.028916303Z",
     "start_time": "2023-12-28T21:28:38.016245426Z"
    },
    "collapsed": false
   },
   "source": [
    "## 2.2. The GEO dataset"
   ]
  },
  {
   "cell_type": "markdown",
   "metadata": {
    "ExecuteTime": {
     "end_time": "2023-12-31T03:25:23.253882615Z",
     "start_time": "2023-12-31T03:25:23.244062710Z"
    },
    "collapsed": false
   },
   "source": [
    "In GEO, there may be one or multiple cohorts for a trait. Each cohort is identified by an accession number. We iterate over all accession numbers in the corresponding subdirectory, preprocess the cohort data, and save them to csv files."
   ]
  },
  {
   "cell_type": "code",
   "execution_count": 34,
   "metadata": {
    "ExecuteTime": {
     "end_time": "2024-02-27T00:23:30.302587016Z",
     "start_time": "2024-02-27T00:23:30.295278811Z"
    },
    "collapsed": false
   },
   "outputs": [
    {
     "data": {
      "text/plain": [
       "['GSE212211', 'GSE72170', 'GSE82302', 'GSE82303']"
      ]
     },
     "execution_count": 34,
     "metadata": {},
     "output_type": "execute_result"
    }
   ],
   "source": [
    "dataset = 'GEO'\n",
    "trait_subdir = \"Liver-Cancer\"\n",
    "\n",
    "trait_path = os.path.join(DATA_ROOT, dataset, trait_subdir)\n",
    "os.listdir(trait_path)"
   ]
  },
  {
   "cell_type": "markdown",
   "metadata": {
    "ExecuteTime": {
     "end_time": "2023-12-31T03:39:42.634870142Z",
     "start_time": "2023-12-31T03:39:42.534093295Z"
    },
    "collapsed": false
   },
   "source": [
    "Repeat the below steps for all the accession numbers"
   ]
  },
  {
   "cell_type": "code",
   "execution_count": 61,
   "metadata": {
    "ExecuteTime": {
     "end_time": "2024-02-27T00:23:30.302864515Z",
     "start_time": "2024-02-27T00:23:30.295388276Z"
    },
    "collapsed": false
   },
   "outputs": [
    {
     "data": {
      "text/plain": [
       "('/Users/jacob/Documents\\\\GEO\\\\Liver-Cancer\\\\GSE82302\\\\GSE82302_family.soft.gz',\n",
       " '/Users/jacob/Documents\\\\GEO\\\\Liver-Cancer\\\\GSE82302\\\\GSE82302_series_matrix.txt.gz')"
      ]
     },
     "execution_count": 61,
     "metadata": {},
     "output_type": "execute_result"
    }
   ],
   "source": [
    "cohort = accession_num = \"GSE212211\"\n",
    "cohort_dir = os.path.join(trait_path, accession_num)\n",
    "soft_file, matrix_file = geo_get_relevant_filepaths(cohort_dir)\n",
    "soft_file, matrix_file"
   ]
  },
  {
   "cell_type": "code",
   "execution_count": 66,
   "metadata": {},
   "outputs": [
    {
     "data": {
      "text/plain": [
       "('/Users/jacob/Documents\\\\GEO\\\\Liver-Cancer\\\\GSE72170\\\\GSE72170_family.soft.gz',\n",
       " '/Users/jacob/Documents\\\\GEO\\\\Liver-Cancer\\\\GSE72170\\\\GSE72170_series_matrix.txt.gz')"
      ]
     },
     "execution_count": 66,
     "metadata": {},
     "output_type": "execute_result"
    }
   ],
   "source": [
    "cohort = accession_num = \"GSE72170\"\n",
    "cohort_dir = os.path.join(trait_path, accession_num)\n",
    "soft_file, matrix_file = geo_get_relevant_filepaths(cohort_dir)\n",
    "soft_file, matrix_file"
   ]
  },
  {
   "cell_type": "code",
   "execution_count": 67,
   "metadata": {},
   "outputs": [
    {
     "data": {
      "text/plain": [
       "('/Users/jacob/Documents\\\\GEO\\\\Liver-Cancer\\\\GSE82302\\\\GSE82302_family.soft.gz',\n",
       " '/Users/jacob/Documents\\\\GEO\\\\Liver-Cancer\\\\GSE82302\\\\GSE82302_series_matrix.txt.gz')"
      ]
     },
     "execution_count": 67,
     "metadata": {},
     "output_type": "execute_result"
    }
   ],
   "source": [
    "cohort = accession_num = \"GSE82302\"\n",
    "cohort_dir = os.path.join(trait_path, accession_num)\n",
    "soft_file, matrix_file = geo_get_relevant_filepaths(cohort_dir)\n",
    "soft_file, matrix_file"
   ]
  },
  {
   "cell_type": "code",
   "execution_count": 68,
   "metadata": {},
   "outputs": [
    {
     "data": {
      "text/plain": [
       "('/Users/jacob/Documents\\\\GEO\\\\Liver-Cancer\\\\GSE82303\\\\GSE82303_family.soft.gz',\n",
       " '/Users/jacob/Documents\\\\GEO\\\\Liver-Cancer\\\\GSE82303\\\\GSE82303_series_matrix.txt.gz')"
      ]
     },
     "execution_count": 68,
     "metadata": {},
     "output_type": "execute_result"
    }
   ],
   "source": [
    "cohort = accession_num = \"GSE82303\"\n",
    "cohort_dir = os.path.join(trait_path, accession_num)\n",
    "soft_file, matrix_file = geo_get_relevant_filepaths(cohort_dir)\n",
    "soft_file, matrix_file"
   ]
  },
  {
   "cell_type": "markdown",
   "metadata": {
    "collapsed": false
   },
   "source": [
    "### Initial filtering and clinical data preprocessing"
   ]
  },
  {
   "cell_type": "code",
   "execution_count": 69,
   "metadata": {
    "ExecuteTime": {
     "end_time": "2024-02-27T00:23:30.303301102Z",
     "start_time": "2024-02-27T00:23:30.295491459Z"
    },
    "collapsed": false
   },
   "outputs": [
    {
     "name": "stdout",
     "output_type": "stream",
     "text": [
      "!Series_title\t\"Blood exsosomal miRNAs of patients with normal livers and liver disease patients\"\n",
      "!Series_summary\t\"This SuperSeries is composed of the SubSeries listed below.\"\n",
      "!Series_overall_design\t\"Refer to individual Series\"\n"
     ]
    }
   ],
   "source": [
    "background_prefixes = ['!Series_title', '!Series_summary', '!Series_overall_design']\n",
    "clinical_prefixes = ['!Sample_geo_accession', '!Sample_characteristics_ch1']\n",
    "\n",
    "background_info, clinical_data = get_background_and_clinical_data(matrix_file, background_prefixes, clinical_prefixes)\n",
    "print(background_info)"
   ]
  },
  {
   "cell_type": "code",
   "execution_count": 70,
   "metadata": {
    "ExecuteTime": {
     "end_time": "2024-02-27T00:23:30.303593599Z",
     "start_time": "2024-02-27T00:23:30.299747893Z"
    },
    "collapsed": false
   },
   "outputs": [
    {
     "data": {
      "text/html": [
       "<div>\n",
       "<style scoped>\n",
       "    .dataframe tbody tr th:only-of-type {\n",
       "        vertical-align: middle;\n",
       "    }\n",
       "\n",
       "    .dataframe tbody tr th {\n",
       "        vertical-align: top;\n",
       "    }\n",
       "\n",
       "    .dataframe thead th {\n",
       "        text-align: right;\n",
       "    }\n",
       "</style>\n",
       "<table border=\"1\" class=\"dataframe\">\n",
       "  <thead>\n",
       "    <tr style=\"text-align: right;\">\n",
       "      <th></th>\n",
       "      <th>!Sample_geo_accession</th>\n",
       "      <th>GSM2188553</th>\n",
       "      <th>GSM2188554</th>\n",
       "      <th>GSM2188555</th>\n",
       "      <th>GSM2188556</th>\n",
       "      <th>GSM2188557</th>\n",
       "      <th>GSM2188558</th>\n",
       "      <th>GSM2188559</th>\n",
       "      <th>GSM2188560</th>\n",
       "      <th>GSM2188561</th>\n",
       "      <th>...</th>\n",
       "      <th>GSM2188664</th>\n",
       "      <th>GSM2188665</th>\n",
       "      <th>GSM2188666</th>\n",
       "      <th>GSM2188667</th>\n",
       "      <th>GSM2188668</th>\n",
       "      <th>GSM2188669</th>\n",
       "      <th>GSM2188670</th>\n",
       "      <th>GSM2188671</th>\n",
       "      <th>GSM2188672</th>\n",
       "      <th>GSM2188673</th>\n",
       "    </tr>\n",
       "  </thead>\n",
       "  <tbody>\n",
       "    <tr>\n",
       "      <th>0</th>\n",
       "      <td>!Sample_characteristics_ch1</td>\n",
       "      <td>subject id: NL30</td>\n",
       "      <td>subject id: NL32</td>\n",
       "      <td>subject id: NL34</td>\n",
       "      <td>subject id: NL35</td>\n",
       "      <td>subject id: NL36</td>\n",
       "      <td>subject id: NL37</td>\n",
       "      <td>subject id: NL38</td>\n",
       "      <td>subject id: NL39</td>\n",
       "      <td>subject id: NL41</td>\n",
       "      <td>...</td>\n",
       "      <td>subject status/id: HCC patient 18</td>\n",
       "      <td>subject status/id: HCC patient 19</td>\n",
       "      <td>subject status/id: HCC patient 20</td>\n",
       "      <td>subject status/id: HCC patient 21</td>\n",
       "      <td>subject status/id: HCC patient 22</td>\n",
       "      <td>subject status/id: HCC patient 23</td>\n",
       "      <td>subject status/id: HCC patient 24</td>\n",
       "      <td>subject status/id: HCC patient 25</td>\n",
       "      <td>subject status/id: HCC patient 26</td>\n",
       "      <td>subject status/id: HCC patient 27</td>\n",
       "    </tr>\n",
       "    <tr>\n",
       "      <th>1</th>\n",
       "      <td>!Sample_characteristics_ch1</td>\n",
       "      <td>tissue: blood exosome</td>\n",
       "      <td>tissue: blood exosome</td>\n",
       "      <td>tissue: blood exosome</td>\n",
       "      <td>tissue: blood exosome</td>\n",
       "      <td>tissue: blood exosome</td>\n",
       "      <td>tissue: blood exosome</td>\n",
       "      <td>tissue: blood exosome</td>\n",
       "      <td>tissue: blood exosome</td>\n",
       "      <td>tissue: blood exosome</td>\n",
       "      <td>...</td>\n",
       "      <td>age: 71</td>\n",
       "      <td>age: 80</td>\n",
       "      <td>age: 71</td>\n",
       "      <td>age: 64</td>\n",
       "      <td>age: 62</td>\n",
       "      <td>age: 83</td>\n",
       "      <td>age: 79</td>\n",
       "      <td>age: 71</td>\n",
       "      <td>age: 83</td>\n",
       "      <td>age: 69</td>\n",
       "    </tr>\n",
       "    <tr>\n",
       "      <th>2</th>\n",
       "      <td>!Sample_characteristics_ch1</td>\n",
       "      <td>extraction date: ND</td>\n",
       "      <td>extraction date: ND</td>\n",
       "      <td>extraction date: ND</td>\n",
       "      <td>extraction date: ND</td>\n",
       "      <td>extraction date: ND</td>\n",
       "      <td>extraction date: ND</td>\n",
       "      <td>extraction date: 2012-11-20</td>\n",
       "      <td>extraction date: 2012-11-20</td>\n",
       "      <td>extraction date: 2012-11-15</td>\n",
       "      <td>...</td>\n",
       "      <td>gender: male</td>\n",
       "      <td>gender: male</td>\n",
       "      <td>gender: male</td>\n",
       "      <td>gender: male</td>\n",
       "      <td>gender: male</td>\n",
       "      <td>gender: male</td>\n",
       "      <td>gender: male</td>\n",
       "      <td>gender: male</td>\n",
       "      <td>gender: male</td>\n",
       "      <td>gender: female</td>\n",
       "    </tr>\n",
       "    <tr>\n",
       "      <th>3</th>\n",
       "      <td>!Sample_characteristics_ch1</td>\n",
       "      <td>gender: female</td>\n",
       "      <td>gender: female</td>\n",
       "      <td>gender: female</td>\n",
       "      <td>gender: female</td>\n",
       "      <td>gender: female</td>\n",
       "      <td>gender: female</td>\n",
       "      <td>gender: female</td>\n",
       "      <td>gender: female</td>\n",
       "      <td>gender: male</td>\n",
       "      <td>...</td>\n",
       "      <td>hbsag: (-)</td>\n",
       "      <td>hbsag: (-)</td>\n",
       "      <td>hbsag: (-)</td>\n",
       "      <td>hbsag: (-)</td>\n",
       "      <td>hbsag: (-)</td>\n",
       "      <td>hbsag: (-)</td>\n",
       "      <td>hbsag: (-)</td>\n",
       "      <td>hbsag: (-)</td>\n",
       "      <td>hbsag: (-)</td>\n",
       "      <td>hbsag: (-)</td>\n",
       "    </tr>\n",
       "    <tr>\n",
       "      <th>4</th>\n",
       "      <td>!Sample_characteristics_ch1</td>\n",
       "      <td>age (yrs): 60</td>\n",
       "      <td>age (yrs): 84</td>\n",
       "      <td>age (yrs): 63</td>\n",
       "      <td>age (yrs): 76</td>\n",
       "      <td>age (yrs): 61</td>\n",
       "      <td>age (yrs): 69</td>\n",
       "      <td>age (yrs): 84</td>\n",
       "      <td>age (yrs): 76</td>\n",
       "      <td>age (yrs): 56</td>\n",
       "      <td>...</td>\n",
       "      <td>anti-hcv: (+)</td>\n",
       "      <td>anti-hcv: (+)</td>\n",
       "      <td>anti-hcv: (+)</td>\n",
       "      <td>anti-hcv: (+)</td>\n",
       "      <td>anti-hcv: (+)</td>\n",
       "      <td>anti-hcv: (+)</td>\n",
       "      <td>anti-hcv: (+)</td>\n",
       "      <td>anti-hcv: (+)</td>\n",
       "      <td>anti-hcv: (+)</td>\n",
       "      <td>anti-hcv: (+)</td>\n",
       "    </tr>\n",
       "  </tbody>\n",
       "</table>\n",
       "<p>5 rows × 122 columns</p>\n",
       "</div>"
      ],
      "text/plain": [
       "         !Sample_geo_accession             GSM2188553             GSM2188554  \\\n",
       "0  !Sample_characteristics_ch1       subject id: NL30       subject id: NL32   \n",
       "1  !Sample_characteristics_ch1  tissue: blood exosome  tissue: blood exosome   \n",
       "2  !Sample_characteristics_ch1    extraction date: ND    extraction date: ND   \n",
       "3  !Sample_characteristics_ch1         gender: female         gender: female   \n",
       "4  !Sample_characteristics_ch1          age (yrs): 60          age (yrs): 84   \n",
       "\n",
       "              GSM2188555             GSM2188556             GSM2188557  \\\n",
       "0       subject id: NL34       subject id: NL35       subject id: NL36   \n",
       "1  tissue: blood exosome  tissue: blood exosome  tissue: blood exosome   \n",
       "2    extraction date: ND    extraction date: ND    extraction date: ND   \n",
       "3         gender: female         gender: female         gender: female   \n",
       "4          age (yrs): 63          age (yrs): 76          age (yrs): 61   \n",
       "\n",
       "              GSM2188558                   GSM2188559  \\\n",
       "0       subject id: NL37             subject id: NL38   \n",
       "1  tissue: blood exosome        tissue: blood exosome   \n",
       "2    extraction date: ND  extraction date: 2012-11-20   \n",
       "3         gender: female               gender: female   \n",
       "4          age (yrs): 69                age (yrs): 84   \n",
       "\n",
       "                    GSM2188560                   GSM2188561  ...  \\\n",
       "0             subject id: NL39             subject id: NL41  ...   \n",
       "1        tissue: blood exosome        tissue: blood exosome  ...   \n",
       "2  extraction date: 2012-11-20  extraction date: 2012-11-15  ...   \n",
       "3               gender: female                 gender: male  ...   \n",
       "4                age (yrs): 76                age (yrs): 56  ...   \n",
       "\n",
       "                          GSM2188664                         GSM2188665  \\\n",
       "0  subject status/id: HCC patient 18  subject status/id: HCC patient 19   \n",
       "1                            age: 71                            age: 80   \n",
       "2                       gender: male                       gender: male   \n",
       "3                         hbsag: (-)                         hbsag: (-)   \n",
       "4                      anti-hcv: (+)                      anti-hcv: (+)   \n",
       "\n",
       "                          GSM2188666                         GSM2188667  \\\n",
       "0  subject status/id: HCC patient 20  subject status/id: HCC patient 21   \n",
       "1                            age: 71                            age: 64   \n",
       "2                       gender: male                       gender: male   \n",
       "3                         hbsag: (-)                         hbsag: (-)   \n",
       "4                      anti-hcv: (+)                      anti-hcv: (+)   \n",
       "\n",
       "                          GSM2188668                         GSM2188669  \\\n",
       "0  subject status/id: HCC patient 22  subject status/id: HCC patient 23   \n",
       "1                            age: 62                            age: 83   \n",
       "2                       gender: male                       gender: male   \n",
       "3                         hbsag: (-)                         hbsag: (-)   \n",
       "4                      anti-hcv: (+)                      anti-hcv: (+)   \n",
       "\n",
       "                          GSM2188670                         GSM2188671  \\\n",
       "0  subject status/id: HCC patient 24  subject status/id: HCC patient 25   \n",
       "1                            age: 79                            age: 71   \n",
       "2                       gender: male                       gender: male   \n",
       "3                         hbsag: (-)                         hbsag: (-)   \n",
       "4                      anti-hcv: (+)                      anti-hcv: (+)   \n",
       "\n",
       "                          GSM2188672                         GSM2188673  \n",
       "0  subject status/id: HCC patient 26  subject status/id: HCC patient 27  \n",
       "1                            age: 83                            age: 69  \n",
       "2                       gender: male                     gender: female  \n",
       "3                         hbsag: (-)                         hbsag: (-)  \n",
       "4                      anti-hcv: (+)                      anti-hcv: (+)  \n",
       "\n",
       "[5 rows x 122 columns]"
      ]
     },
     "execution_count": 70,
     "metadata": {},
     "output_type": "execute_result"
    }
   ],
   "source": [
    "clinical_data.head()"
   ]
  },
  {
   "cell_type": "code",
   "execution_count": 71,
   "metadata": {
    "ExecuteTime": {
     "end_time": "2024-02-27T00:23:30.315072345Z",
     "start_time": "2024-02-27T00:23:30.305535332Z"
    },
    "collapsed": false
   },
   "outputs": [
    {
     "data": {
      "text/plain": [
       "{0: ['subject id: NL30',\n",
       "  'subject id: NL32',\n",
       "  'subject id: NL34',\n",
       "  'subject id: NL35',\n",
       "  'subject id: NL36',\n",
       "  'subject id: NL37',\n",
       "  'subject id: NL38',\n",
       "  'subject id: NL39',\n",
       "  'subject id: NL41',\n",
       "  'subject id: NL42',\n",
       "  'subject id: NL43',\n",
       "  'subject id: NL44',\n",
       "  'subject id: NL45',\n",
       "  'subject id: NL46',\n",
       "  'subject id: NL47',\n",
       "  'subject id: NL48',\n",
       "  'subject id: NL49',\n",
       "  'subject id: NL50',\n",
       "  'subject id: NL51',\n",
       "  'subject id: NL52',\n",
       "  'subject id: NL53',\n",
       "  'subject id: NL54',\n",
       "  'subject id: NL55',\n",
       "  'subject id: NL56',\n",
       "  'subject id: NL58',\n",
       "  'subject id: NL59',\n",
       "  'subject id: NL60',\n",
       "  'subject id: NL61',\n",
       "  'subject id: NL62',\n",
       "  'subject id: NL63'],\n",
       " 1: ['tissue: blood exosome',\n",
       "  'age: 80',\n",
       "  'age: 66',\n",
       "  'age: 39',\n",
       "  'age: 31',\n",
       "  'age: 68',\n",
       "  'age: 34',\n",
       "  'age: 63',\n",
       "  'age: 50',\n",
       "  'age: 62',\n",
       "  'age: 77',\n",
       "  'age: 73',\n",
       "  'age: 78',\n",
       "  'age: 45',\n",
       "  'age: 51',\n",
       "  'age: 71',\n",
       "  'age: 72',\n",
       "  'age: 75',\n",
       "  'age: 88',\n",
       "  'age: 67',\n",
       "  'age: 84',\n",
       "  'age: 83',\n",
       "  'age: 85',\n",
       "  'age: 64',\n",
       "  'age: 79',\n",
       "  'age: 69'],\n",
       " 2: ['extraction date: ND',\n",
       "  'extraction date: 2012-11-20',\n",
       "  'extraction date: 2012-11-15',\n",
       "  'extraction date: 2012-11-13',\n",
       "  'extraction date: 2012-11-08',\n",
       "  'extraction date: 2012-11-06',\n",
       "  'extraction date: 2012-11-01',\n",
       "  'extraction date: 2012-10-30',\n",
       "  'extraction date: 2012-10-02',\n",
       "  'extraction date: 2012-10-25',\n",
       "  'extraction date: 2012-10-23',\n",
       "  'extraction date: 2012-10-18',\n",
       "  'extraction date: 2012-10-16',\n",
       "  'extraction date: 2012-10-09',\n",
       "  'extraction date: 2012-09-27',\n",
       "  'extraction date: 2012-09-25',\n",
       "  'extraction date: 2012-09-13',\n",
       "  'extraction date: 2012-09-11',\n",
       "  'extraction date: 2012-09-04',\n",
       "  'extraction date: 2012-08-30',\n",
       "  'extraction date: 2012-08-28',\n",
       "  'extraction date: 2012-08-23',\n",
       "  'extraction date: 2012-08-21',\n",
       "  'extraction date: 2012-08-16',\n",
       "  'extraction date: 2012-08-02',\n",
       "  'extraction date: 2012-07-19',\n",
       "  'extraction date: 2012-07-05',\n",
       "  'extraction date: 2012-06-26',\n",
       "  'extraction date: 2012-06-12',\n",
       "  'extraction date: 2012-06-05'],\n",
       " 3: ['gender: female', 'gender: male', 'hbsag: (-)'],\n",
       " 4: ['age (yrs): 60',\n",
       "  'age (yrs): 84',\n",
       "  'age (yrs): 63',\n",
       "  'age (yrs): 76',\n",
       "  'age (yrs): 61',\n",
       "  'age (yrs): 69',\n",
       "  'age (yrs): 56',\n",
       "  'age (yrs): 83',\n",
       "  'age (yrs): 79',\n",
       "  'age (yrs): 75',\n",
       "  'age (yrs): 17',\n",
       "  'age (yrs): 85',\n",
       "  'age (yrs): 67',\n",
       "  'age (yrs): 58',\n",
       "  'age (yrs): 64',\n",
       "  'age (yrs): 51',\n",
       "  'age (yrs): 74',\n",
       "  'age (yrs): 50',\n",
       "  'age (yrs): 65',\n",
       "  'age (yrs): 68',\n",
       "  'age (yrs): 70',\n",
       "  'age (yrs): 59',\n",
       "  'age (yrs): 54',\n",
       "  'age (yrs): 77',\n",
       "  'age (yrs): 48',\n",
       "  'age (yrs): 71',\n",
       "  'age (yrs): 73',\n",
       "  'age (yrs): 26',\n",
       "  'age (yrs): 78',\n",
       "  'age (yrs): 87'],\n",
       " 5: ['height (cm): 152',\n",
       "  'height (cm): 145',\n",
       "  'height (cm): 149',\n",
       "  'height (cm): 155',\n",
       "  'height (cm): 161',\n",
       "  'height (cm): 176',\n",
       "  'height (cm): 157',\n",
       "  'height (cm): 167',\n",
       "  'height (cm): 150',\n",
       "  'height (cm): 162',\n",
       "  'height (cm): 174',\n",
       "  'hbsag: (-)',\n",
       "  'height (cm): 151',\n",
       "  'height (cm): 171',\n",
       "  'height (cm): 147',\n",
       "  'height (cm): 169',\n",
       "  'height (cm): 159',\n",
       "  'height (cm): 153',\n",
       "  'height (cm): 168',\n",
       "  'height (cm): 154',\n",
       "  'height (cm): 158',\n",
       "  'height (cm): 143',\n",
       "  'height (cm): 160',\n",
       "  'height (cm): 140',\n",
       "  'height (cm): 175',\n",
       "  'height (cm): 144',\n",
       "  'height (cm): 148',\n",
       "  'height (cm): 156',\n",
       "  'height (cm): 164',\n",
       "  'height (cm): 165'],\n",
       " 6: ['weight (kg): 82',\n",
       "  'weight (kg): 43',\n",
       "  'weight (kg): 51',\n",
       "  'weight (kg): 70',\n",
       "  'weight (kg): 66',\n",
       "  'weight (kg): 56',\n",
       "  'weight (kg): 61',\n",
       "  'weight (kg): 75',\n",
       "  'weight (kg): 57',\n",
       "  'weight (kg): 72',\n",
       "  'weight (kg): 47',\n",
       "  'weight (kg): 50',\n",
       "  'weight (kg): 42',\n",
       "  'anti-hcv: (-)',\n",
       "  'weight (kg): 59',\n",
       "  'weight (kg): 65',\n",
       "  'weight (kg): 53',\n",
       "  'weight (kg): 36',\n",
       "  'weight (kg): 55',\n",
       "  'weight (kg): 48',\n",
       "  'weight (kg): 67',\n",
       "  'weight (kg): 60',\n",
       "  'weight (kg): 71',\n",
       "  'weight (kg): 80',\n",
       "  'weight (kg): 69',\n",
       "  'weight (kg): 54',\n",
       "  'weight (kg): 68',\n",
       "  'weight (kg): 38',\n",
       "  'weight (kg): 40',\n",
       "  'weight (kg): 49'],\n",
       " 7: ['bmi: 35.4916897507',\n",
       "  'bmi: 20.451843044',\n",
       "  'bmi: 22.971938201',\n",
       "  'bmi: 29.1363163371',\n",
       "  'bmi: 27.471383975',\n",
       "  'bmi: 24.2382271468',\n",
       "  'bmi: 23.5330427067',\n",
       "  'bmi: 24.2122933884',\n",
       "  'bmi: 23.124670372',\n",
       "  'bmi: 25.8166302126',\n",
       "  'bmi: 24.2568370987',\n",
       "  'bmi: 20.8888888889',\n",
       "  'bmi: 19.0519737845',\n",
       "  'bmi: 13.8723741577',\n",
       "  'bmi: 29.3333333333',\n",
       "  'ast: 29',\n",
       "  'bmi: 25.8760580676',\n",
       "  'bmi: 28.8888888889',\n",
       "  'bmi: 23.2445945353',\n",
       "  'bmi: 14.9843912591',\n",
       "  'bmi: 18.6666666667',\n",
       "  'bmi: 18.8092062515',\n",
       "  'bmi: 25.3333333333',\n",
       "  'bmi: 23.1385071035',\n",
       "  'bmi: 16.806134239',\n",
       "  'bmi: 19.777698667',\n",
       "  'bmi: 28.6214703746',\n",
       "  'bmi: 24.3417582863',\n",
       "  'bmi: 27.053802774',\n",
       "  'ast: 22'],\n",
       " 8: ['hbsag: (-)',\n",
       "  'alt: 33',\n",
       "  'alt: 22',\n",
       "  'alt: 25',\n",
       "  'alt: 9',\n",
       "  'alt: 12',\n",
       "  'alt: 14',\n",
       "  'alt: 13',\n",
       "  'alt: 31',\n",
       "  'ca19-9: 9',\n",
       "  'ca19-9: 8',\n",
       "  'ca19-9: 85',\n",
       "  'ca19-9: 82',\n",
       "  'ca19-9: 396',\n",
       "  'ca19-9: 1043',\n",
       "  'ca19-9: 54',\n",
       "  'ca19-9: 1170',\n",
       "  'ca19-9: 35456',\n",
       "  'ca19-9: 28',\n",
       "  'ca19-9: 5',\n",
       "  'ca19-9: 68',\n",
       "  'ca19-9: 6',\n",
       "  'ca19-9: 29',\n",
       "  'ca19-9: NT',\n",
       "  'ca19-9: 3',\n",
       "  'ca19-9: 25',\n",
       "  'ca19-9: 7',\n",
       "  'ca19-9: 15'],\n",
       " 9: ['anti-hcv: (-)',\n",
       "  'wbc: 6970',\n",
       "  'wbc: 4500',\n",
       "  'wbc: 4770',\n",
       "  'wbc: 7020',\n",
       "  'wbc: 5660',\n",
       "  'wbc: 3840',\n",
       "  'wbc: 6530',\n",
       "  'wbc: 7090',\n",
       "  'tissue: peripheral blood'],\n",
       " 10: ['ast: 13',\n",
       "  'ast: 27',\n",
       "  'ast: 18',\n",
       "  'ast: 33',\n",
       "  'ast: 22',\n",
       "  'ast: 25',\n",
       "  'ast: 26',\n",
       "  'ast: 19',\n",
       "  'ast: 16',\n",
       "  'ast: 28',\n",
       "  'plt: 23.1',\n",
       "  'ast: 21',\n",
       "  'ast: 24',\n",
       "  'ast: 14',\n",
       "  'ast: 36',\n",
       "  'ast: 31',\n",
       "  'ast: 39',\n",
       "  'ast: 17',\n",
       "  'plt: 18.4',\n",
       "  'ast: 23',\n",
       "  'plt: 25.9',\n",
       "  'ast: 9',\n",
       "  'ast: 29',\n",
       "  'plt: 20.8',\n",
       "  'ast: 15',\n",
       "  'ast: 30',\n",
       "  'ast: 32',\n",
       "  'plt: 30',\n",
       "  'plt: 28.6',\n",
       "  'plt: 21.7'],\n",
       " 11: ['alt: 15',\n",
       "  'alt: 23',\n",
       "  'alt: 26',\n",
       "  'alt: 29',\n",
       "  'alt: 41',\n",
       "  'alt: 20',\n",
       "  'alt: 13',\n",
       "  'alt: 21',\n",
       "  'alt: 12',\n",
       "  'alt: 30',\n",
       "  'alt: 17',\n",
       "  'alt: 10',\n",
       "  'alt: 27',\n",
       "  'alt: 11',\n",
       "  't_bil: 0.7',\n",
       "  'alt: 25',\n",
       "  'alt: 42',\n",
       "  'alt: 43',\n",
       "  'alt: 24',\n",
       "  't_bil: 1.6',\n",
       "  't_bil: 1',\n",
       "  'alt: 22',\n",
       "  't_bil: 0.5',\n",
       "  'alt: 18',\n",
       "  'alt: 36',\n",
       "  't_bil: 0.3',\n",
       "  't_bil: 0.6',\n",
       "  't_bil: 1.1',\n",
       "  'alt: 14',\n",
       "  'alt: 28'],\n",
       " 12: ['wbc: 6220',\n",
       "  'wbc: 5250',\n",
       "  'wbc: 5830',\n",
       "  'wbc: 6620',\n",
       "  'wbc: 6400',\n",
       "  'wbc: 5010',\n",
       "  'wbc: 4190',\n",
       "  'wbc: 3390',\n",
       "  'wbc: 5120',\n",
       "  'wbc: 14650',\n",
       "  'wbc: 5550',\n",
       "  'wbc: 8630',\n",
       "  'wbc: 6170',\n",
       "  'wbc: 6600',\n",
       "  'wbc: 6500',\n",
       "  'wbc: 7110',\n",
       "  'wbc: 5490',\n",
       "  'alp: 353',\n",
       "  'wbc: 7930',\n",
       "  'wbc: 3990',\n",
       "  'wbc: 9740',\n",
       "  'wbc: 5900',\n",
       "  'wbc: 3660',\n",
       "  'wbc: 7640',\n",
       "  'wbc: 3600',\n",
       "  'wbc: 7310',\n",
       "  'wbc: 5860',\n",
       "  'wbc: 3180',\n",
       "  'wbc: 3620',\n",
       "  'wbc: 5440'],\n",
       " 13: ['plt: 37.7',\n",
       "  'plt: 26.4',\n",
       "  'plt: 35.2',\n",
       "  'plt: 30.3',\n",
       "  'plt: 36.3',\n",
       "  'plt: 24',\n",
       "  'plt: 22',\n",
       "  'plt: 24.7',\n",
       "  'plt: 36.6',\n",
       "  'plt: 21.2',\n",
       "  'plt: 40.9',\n",
       "  'plt: 33.6',\n",
       "  'plt: 32.1',\n",
       "  'plt: 54.8',\n",
       "  'plt: 30.7',\n",
       "  'plt: 35.1',\n",
       "  'ggtp: 27',\n",
       "  'plt: 34.8',\n",
       "  'plt: 17.6',\n",
       "  'plt: 51.5',\n",
       "  'plt: 22.1',\n",
       "  'plt: 18.3',\n",
       "  'plt: 38.2',\n",
       "  'plt: 24.4',\n",
       "  'plt: 22.2',\n",
       "  'plt: 14.5',\n",
       "  'plt: 19.1',\n",
       "  'plt: 25.7',\n",
       "  'plt: 28.4',\n",
       "  'plt: 17.7'],\n",
       " 14: ['t_bil: 0.4',\n",
       "  't_bil: 1',\n",
       "  't_bil: 0.5',\n",
       "  't_bil: 0.6',\n",
       "  't_bil: 1.2',\n",
       "  't_bil: 0.8',\n",
       "  't_bil: 1.5',\n",
       "  't_bil: 0.3',\n",
       "  't_bil: 0.9',\n",
       "  'hb: 15.3',\n",
       "  't_bil: 0.7',\n",
       "  't_bil: 1.7',\n",
       "  't_bil: 0.2',\n",
       "  't_bil: 2.1',\n",
       "  'hb: 14.8',\n",
       "  'hb: 13.4',\n",
       "  't_bil: 1.3',\n",
       "  'hb: 12',\n",
       "  'hb: 11.8',\n",
       "  'hb: 14.3',\n",
       "  'hb: 17.6',\n",
       "  't_bil: 1.1',\n",
       "  nan],\n",
       " 15: ['alp: 178',\n",
       "  'alp: 232',\n",
       "  'alp: 272',\n",
       "  'alp: 363',\n",
       "  'alp: 237',\n",
       "  'alp: 233',\n",
       "  'alp: 151',\n",
       "  'alp: 186',\n",
       "  'alp: 141',\n",
       "  'alp: 203',\n",
       "  'alp: 219',\n",
       "  'alp: 187',\n",
       "  'alp: 263',\n",
       "  'alp: 1802',\n",
       "  'alp: 283',\n",
       "  'alp: 253',\n",
       "  'alb: 4.4',\n",
       "  'alp: 226',\n",
       "  'alp: 175',\n",
       "  'alp: 479',\n",
       "  'alp: 180',\n",
       "  'alp: 224',\n",
       "  'alp: 216',\n",
       "  'alp: 188',\n",
       "  'alp: 356',\n",
       "  'alp: 213',\n",
       "  'alp: 181',\n",
       "  'alp: 318',\n",
       "  'alp: 278',\n",
       "  'alp: 122'],\n",
       " 16: ['ggtp: 25',\n",
       "  'ggtp: 23',\n",
       "  'ggtp: 36',\n",
       "  'ggtp: 32',\n",
       "  'ggtp: 37',\n",
       "  'ggtp: 18',\n",
       "  'ggtp: 20',\n",
       "  'ggtp: 11',\n",
       "  'ggtp: 16',\n",
       "  'ggtp: 13',\n",
       "  'ggtp: 31',\n",
       "  'ggtp: 15',\n",
       "  'ggtp: 423',\n",
       "  'ggtp: 22',\n",
       "  'ggtp: 28',\n",
       "  'bs: 116',\n",
       "  'ggtp: 43',\n",
       "  'ggtp: 116',\n",
       "  'ggtp: 26',\n",
       "  'ggtp: 30',\n",
       "  'ggtp: 39',\n",
       "  'ggtp: 54',\n",
       "  'ggtp: 93',\n",
       "  'bs: 110',\n",
       "  'ggtp: 55',\n",
       "  'bs: 107',\n",
       "  'ggtp: 170',\n",
       "  'bs: 112',\n",
       "  'ggtp: 21',\n",
       "  'ggtp: 52'],\n",
       " 17: ['hb: 13',\n",
       "  'hb: 13.5',\n",
       "  'hb: 14',\n",
       "  'hb: 15.8',\n",
       "  'hb: 14.5',\n",
       "  'hb: 13.7',\n",
       "  'hb: 13.8',\n",
       "  'hb: 11.8',\n",
       "  'hb: 13.4',\n",
       "  'hb: 8.1',\n",
       "  'hb: 13.2',\n",
       "  'hb: 7.5',\n",
       "  'hb: 13.3',\n",
       "  'hb: 14.7',\n",
       "  'hb: 14.3',\n",
       "  'tg: 95',\n",
       "  'hb: 12',\n",
       "  'hb: 12.7',\n",
       "  'hb: 11.6',\n",
       "  'hb: 15.5',\n",
       "  'hb: 13.6',\n",
       "  'hb: 12.1',\n",
       "  'hb: 15.3',\n",
       "  'tg: 38',\n",
       "  'tg: 119',\n",
       "  'hb: 15.1',\n",
       "  'tg: 79',\n",
       "  'hb: 9.5',\n",
       "  'hb: 14.2',\n",
       "  'hb: 11.5'],\n",
       " 18: ['alb: 4.1',\n",
       "  'alb: 4.3',\n",
       "  'alb: 4.2',\n",
       "  'alb: 4.6',\n",
       "  'alb: 4.4',\n",
       "  'alb: 4.7',\n",
       "  'alb: 4.5',\n",
       "  'alb: 4',\n",
       "  'alb: 4.8',\n",
       "  't_chol: 210',\n",
       "  'alb: 3.9',\n",
       "  'alb: 3.7',\n",
       "  't_chol: 172',\n",
       "  't_chol: 267',\n",
       "  't_chol: 198',\n",
       "  't_chol: 154',\n",
       "  't_chol: 235',\n",
       "  't_chol: 213',\n",
       "  'alb: 4.9',\n",
       "  't_chol: 253',\n",
       "  nan],\n",
       " 19: ['bs: 108',\n",
       "  'bs: 111',\n",
       "  'bs: 97',\n",
       "  'bs: 116',\n",
       "  'bs: 115',\n",
       "  'tg: 161',\n",
       "  'bs: 102',\n",
       "  'bs: 158',\n",
       "  't_chol: 192',\n",
       "  'bs: 129',\n",
       "  'bs: 113',\n",
       "  'bs: 133',\n",
       "  'bs: 103',\n",
       "  'bs: 89',\n",
       "  'bs: 104',\n",
       "  'hba1c: 5',\n",
       "  'bs: 118',\n",
       "  'bs: 100',\n",
       "  'bs: 91',\n",
       "  'bs: 93',\n",
       "  'bs: 92',\n",
       "  'bs: 99',\n",
       "  'bs: 76',\n",
       "  'bs: 101',\n",
       "  'bs: 85',\n",
       "  'hba1c: 5.1',\n",
       "  'hba1c: 5.4',\n",
       "  'bs: 134',\n",
       "  'bs: 96',\n",
       "  'bs: 146'],\n",
       " 20: ['tg: 84',\n",
       "  'tg: 146',\n",
       "  't_chol: 214',\n",
       "  'tg: 197',\n",
       "  'tg: 244',\n",
       "  't_chol: 186',\n",
       "  'tg: 106',\n",
       "  'tg: 68',\n",
       "  'molecule subtype: microRNA',\n",
       "  't_chol: 216',\n",
       "  'tg: 202',\n",
       "  't_chol: 159',\n",
       "  't_chol: 266',\n",
       "  'tg: 124',\n",
       "  'tg: 75',\n",
       "  'tg: 69',\n",
       "  'tg: 59',\n",
       "  'tg: 55',\n",
       "  'tg: 107',\n",
       "  't_chol: 160',\n",
       "  'tg: 54',\n",
       "  'tg: 141',\n",
       "  'tg: 67',\n",
       "  'tg: 98',\n",
       "  'tg: 128',\n",
       "  'tg: 318',\n",
       "  'tg: 145',\n",
       "  'tg: 117',\n",
       "  'tg: 177',\n",
       "  'tg: 82'],\n",
       " 21: ['t_chol: 230',\n",
       "  't_chol: 174',\n",
       "  'molecule subtype: microRNA',\n",
       "  't_chol: 196',\n",
       "  't_chol: 179',\n",
       "  't_chol: 225',\n",
       "  nan,\n",
       "  'hba1c: 5.3',\n",
       "  't_chol: 148',\n",
       "  'hba1c: 6.6',\n",
       "  'hba1c: 5.2',\n",
       "  't_chol: 218',\n",
       "  't_chol: 248',\n",
       "  't_chol: 183',\n",
       "  't_chol: 258',\n",
       "  't_chol: 203',\n",
       "  't_chol: 221',\n",
       "  't_chol: 209',\n",
       "  'hba1c: 4.5',\n",
       "  't_chol: 142',\n",
       "  't_chol: 199',\n",
       "  't_chol: 214',\n",
       "  't_chol: 155',\n",
       "  't_chol: 139',\n",
       "  't_chol: 204',\n",
       "  't_chol: 215',\n",
       "  't_chol: 182',\n",
       "  't_chol: 208',\n",
       "  't_chol: 201',\n",
       "  't_chol: 261'],\n",
       " 22: ['hba1c: 5.3',\n",
       "  nan,\n",
       "  'hba1c: 5.4',\n",
       "  'hba1c: 5.2',\n",
       "  'hba1c: 4.9',\n",
       "  'hba1c: 6.2',\n",
       "  'molecule subtype: microRNA',\n",
       "  'hba1c: 5.7',\n",
       "  'hba1c: 4.8',\n",
       "  'hba1c: 5',\n",
       "  'hba1c: 5.6',\n",
       "  'hba1c: 4.5',\n",
       "  'hba1c: 5.1',\n",
       "  'hba1c: 6.7',\n",
       "  'hba1c: 6.3',\n",
       "  'hba1c: 4.7',\n",
       "  'hba1c: 5.8',\n",
       "  'hba1c: 5.5',\n",
       "  'hba1c: 4.3',\n",
       "  'hba1c: 5.9',\n",
       "  'hba1c: 4.6'],\n",
       " 23: ['molecule subtype: microRNA', nan]}"
      ]
     },
     "execution_count": 71,
     "metadata": {},
     "output_type": "execute_result"
    }
   ],
   "source": [
    "clinical_data_unique = get_unique_values_by_row(clinical_data)\n",
    "clinical_data_unique"
   ]
  },
  {
   "cell_type": "markdown",
   "metadata": {
    "ExecuteTime": {
     "end_time": "2023-12-31T03:58:04.978204446Z",
     "start_time": "2023-12-31T03:58:04.922270095Z"
    },
    "collapsed": false
   },
   "source": [
    "Analyze the metadata to determine data relevance and find ways to extract the clinical data.\n",
    "Reference prompt:"
   ]
  },
  {
   "cell_type": "code",
   "execution_count": 72,
   "metadata": {
    "ExecuteTime": {
     "end_time": "2024-02-27T00:23:30.385584131Z",
     "start_time": "2024-02-27T00:23:30.309414449Z"
    },
    "collapsed": false
   },
   "outputs": [
    {
     "data": {
      "text/plain": [
       "'As a biomedical research team, we are selecting datasets to study the association between the human trait \\'Hemochromatosis\\' and genetic factors, optionally considering the influence of age and gender. After searching the GEO database and parsing the matrix file of a series, we obtained background information and sample characteristics data. We will provide textual information about the dataset background, and a Python dictionary storing a list of unique values for each field of the sample characteristics data. Please carefully review the provided information and answer the following questions about this dataset:\\n1. Does this dataset contain gene expression data? (Note: Pure miRNA data is not suitable.)\\n2. For each of the traits \\'Hemochromatosis\\', \\'age\\', and \\'gender\\', please address these points:\\n   (1) Is there human data available for this trait?\\n   (2) If so, identify the key in the sample characteristics dictionary where unique values of this trait is recorded. The key is an integer. The trait information might be explicitly recorded, or can be inferred from the field with some biomedical knowledge or understanding about the data collection process.\\n   (3) Choose an appropriate data type (either \\'continuous\\' or \\'binary\\') for each trait. Write a Python function to convert any given value of the trait to this data type. The function should handle inference about the trait value and convert unknown values to None.\\n   Name the functions \\'convert_trait\\', \\'convert_age\\', and \\'convert_gender\\', respectively.\\n\\nBackground information about the dataset:\\n!Series_title\\t\"Blood exsosomal miRNAs of patients with normal livers and liver disease patients\"\\n!Series_summary\\t\"This SuperSeries is composed of the SubSeries listed below.\"\\n!Series_overall_design\\t\"Refer to individual Series\"\\n\\nSample characteristics dictionary (from \"!Sample_characteristics_ch1\", converted to a Python dictionary that stores the unique values for each field):\\n{0: [\\'subject id: NL30\\', \\'subject id: NL32\\', \\'subject id: NL34\\', \\'subject id: NL35\\', \\'subject id: NL36\\', \\'subject id: NL37\\', \\'subject id: NL38\\', \\'subject id: NL39\\', \\'subject id: NL41\\', \\'subject id: NL42\\', \\'subject id: NL43\\', \\'subject id: NL44\\', \\'subject id: NL45\\', \\'subject id: NL46\\', \\'subject id: NL47\\', \\'subject id: NL48\\', \\'subject id: NL49\\', \\'subject id: NL50\\', \\'subject id: NL51\\', \\'subject id: NL52\\', \\'subject id: NL53\\', \\'subject id: NL54\\', \\'subject id: NL55\\', \\'subject id: NL56\\', \\'subject id: NL58\\', \\'subject id: NL59\\', \\'subject id: NL60\\', \\'subject id: NL61\\', \\'subject id: NL62\\', \\'subject id: NL63\\'], 1: [\\'tissue: blood exosome\\', \\'age: 80\\', \\'age: 66\\', \\'age: 39\\', \\'age: 31\\', \\'age: 68\\', \\'age: 34\\', \\'age: 63\\', \\'age: 50\\', \\'age: 62\\', \\'age: 77\\', \\'age: 73\\', \\'age: 78\\', \\'age: 45\\', \\'age: 51\\', \\'age: 71\\', \\'age: 72\\', \\'age: 75\\', \\'age: 88\\', \\'age: 67\\', \\'age: 84\\', \\'age: 83\\', \\'age: 85\\', \\'age: 64\\', \\'age: 79\\', \\'age: 69\\'], 2: [\\'extraction date: ND\\', \\'extraction date: 2012-11-20\\', \\'extraction date: 2012-11-15\\', \\'extraction date: 2012-11-13\\', \\'extraction date: 2012-11-08\\', \\'extraction date: 2012-11-06\\', \\'extraction date: 2012-11-01\\', \\'extraction date: 2012-10-30\\', \\'extraction date: 2012-10-02\\', \\'extraction date: 2012-10-25\\', \\'extraction date: 2012-10-23\\', \\'extraction date: 2012-10-18\\', \\'extraction date: 2012-10-16\\', \\'extraction date: 2012-10-09\\', \\'extraction date: 2012-09-27\\', \\'extraction date: 2012-09-25\\', \\'extraction date: 2012-09-13\\', \\'extraction date: 2012-09-11\\', \\'extraction date: 2012-09-04\\', \\'extraction date: 2012-08-30\\', \\'extraction date: 2012-08-28\\', \\'extraction date: 2012-08-23\\', \\'extraction date: 2012-08-21\\', \\'extraction date: 2012-08-16\\', \\'extraction date: 2012-08-02\\', \\'extraction date: 2012-07-19\\', \\'extraction date: 2012-07-05\\', \\'extraction date: 2012-06-26\\', \\'extraction date: 2012-06-12\\', \\'extraction date: 2012-06-05\\'], 3: [\\'gender: female\\', \\'gender: male\\', \\'hbsag: (-)\\'], 4: [\\'age (yrs): 60\\', \\'age (yrs): 84\\', \\'age (yrs): 63\\', \\'age (yrs): 76\\', \\'age (yrs): 61\\', \\'age (yrs): 69\\', \\'age (yrs): 56\\', \\'age (yrs): 83\\', \\'age (yrs): 79\\', \\'age (yrs): 75\\', \\'age (yrs): 17\\', \\'age (yrs): 85\\', \\'age (yrs): 67\\', \\'age (yrs): 58\\', \\'age (yrs): 64\\', \\'age (yrs): 51\\', \\'age (yrs): 74\\', \\'age (yrs): 50\\', \\'age (yrs): 65\\', \\'age (yrs): 68\\', \\'age (yrs): 70\\', \\'age (yrs): 59\\', \\'age (yrs): 54\\', \\'age (yrs): 77\\', \\'age (yrs): 48\\', \\'age (yrs): 71\\', \\'age (yrs): 73\\', \\'age (yrs): 26\\', \\'age (yrs): 78\\', \\'age (yrs): 87\\'], 5: [\\'height (cm): 152\\', \\'height (cm): 145\\', \\'height (cm): 149\\', \\'height (cm): 155\\', \\'height (cm): 161\\', \\'height (cm): 176\\', \\'height (cm): 157\\', \\'height (cm): 167\\', \\'height (cm): 150\\', \\'height (cm): 162\\', \\'height (cm): 174\\', \\'hbsag: (-)\\', \\'height (cm): 151\\', \\'height (cm): 171\\', \\'height (cm): 147\\', \\'height (cm): 169\\', \\'height (cm): 159\\', \\'height (cm): 153\\', \\'height (cm): 168\\', \\'height (cm): 154\\', \\'height (cm): 158\\', \\'height (cm): 143\\', \\'height (cm): 160\\', \\'height (cm): 140\\', \\'height (cm): 175\\', \\'height (cm): 144\\', \\'height (cm): 148\\', \\'height (cm): 156\\', \\'height (cm): 164\\', \\'height (cm): 165\\'], 6: [\\'weight (kg): 82\\', \\'weight (kg): 43\\', \\'weight (kg): 51\\', \\'weight (kg): 70\\', \\'weight (kg): 66\\', \\'weight (kg): 56\\', \\'weight (kg): 61\\', \\'weight (kg): 75\\', \\'weight (kg): 57\\', \\'weight (kg): 72\\', \\'weight (kg): 47\\', \\'weight (kg): 50\\', \\'weight (kg): 42\\', \\'anti-hcv: (-)\\', \\'weight (kg): 59\\', \\'weight (kg): 65\\', \\'weight (kg): 53\\', \\'weight (kg): 36\\', \\'weight (kg): 55\\', \\'weight (kg): 48\\', \\'weight (kg): 67\\', \\'weight (kg): 60\\', \\'weight (kg): 71\\', \\'weight (kg): 80\\', \\'weight (kg): 69\\', \\'weight (kg): 54\\', \\'weight (kg): 68\\', \\'weight (kg): 38\\', \\'weight (kg): 40\\', \\'weight (kg): 49\\'], 7: [\\'bmi: 35.4916897507\\', \\'bmi: 20.451843044\\', \\'bmi: 22.971938201\\', \\'bmi: 29.1363163371\\', \\'bmi: 27.471383975\\', \\'bmi: 24.2382271468\\', \\'bmi: 23.5330427067\\', \\'bmi: 24.2122933884\\', \\'bmi: 23.124670372\\', \\'bmi: 25.8166302126\\', \\'bmi: 24.2568370987\\', \\'bmi: 20.8888888889\\', \\'bmi: 19.0519737845\\', \\'bmi: 13.8723741577\\', \\'bmi: 29.3333333333\\', \\'ast: 29\\', \\'bmi: 25.8760580676\\', \\'bmi: 28.8888888889\\', \\'bmi: 23.2445945353\\', \\'bmi: 14.9843912591\\', \\'bmi: 18.6666666667\\', \\'bmi: 18.8092062515\\', \\'bmi: 25.3333333333\\', \\'bmi: 23.1385071035\\', \\'bmi: 16.806134239\\', \\'bmi: 19.777698667\\', \\'bmi: 28.6214703746\\', \\'bmi: 24.3417582863\\', \\'bmi: 27.053802774\\', \\'ast: 22\\'], 8: [\\'hbsag: (-)\\', \\'alt: 33\\', \\'alt: 22\\', \\'alt: 25\\', \\'alt: 9\\', \\'alt: 12\\', \\'alt: 14\\', \\'alt: 13\\', \\'alt: 31\\', \\'ca19-9: 9\\', \\'ca19-9: 8\\', \\'ca19-9: 85\\', \\'ca19-9: 82\\', \\'ca19-9: 396\\', \\'ca19-9: 1043\\', \\'ca19-9: 54\\', \\'ca19-9: 1170\\', \\'ca19-9: 35456\\', \\'ca19-9: 28\\', \\'ca19-9: 5\\', \\'ca19-9: 68\\', \\'ca19-9: 6\\', \\'ca19-9: 29\\', \\'ca19-9: NT\\', \\'ca19-9: 3\\', \\'ca19-9: 25\\', \\'ca19-9: 7\\', \\'ca19-9: 15\\'], 9: [\\'anti-hcv: (-)\\', \\'wbc: 6970\\', \\'wbc: 4500\\', \\'wbc: 4770\\', \\'wbc: 7020\\', \\'wbc: 5660\\', \\'wbc: 3840\\', \\'wbc: 6530\\', \\'wbc: 7090\\', \\'tissue: peripheral blood\\'], 10: [\\'ast: 13\\', \\'ast: 27\\', \\'ast: 18\\', \\'ast: 33\\', \\'ast: 22\\', \\'ast: 25\\', \\'ast: 26\\', \\'ast: 19\\', \\'ast: 16\\', \\'ast: 28\\', \\'plt: 23.1\\', \\'ast: 21\\', \\'ast: 24\\', \\'ast: 14\\', \\'ast: 36\\', \\'ast: 31\\', \\'ast: 39\\', \\'ast: 17\\', \\'plt: 18.4\\', \\'ast: 23\\', \\'plt: 25.9\\', \\'ast: 9\\', \\'ast: 29\\', \\'plt: 20.8\\', \\'ast: 15\\', \\'ast: 30\\', \\'ast: 32\\', \\'plt: 30\\', \\'plt: 28.6\\', \\'plt: 21.7\\'], 11: [\\'alt: 15\\', \\'alt: 23\\', \\'alt: 26\\', \\'alt: 29\\', \\'alt: 41\\', \\'alt: 20\\', \\'alt: 13\\', \\'alt: 21\\', \\'alt: 12\\', \\'alt: 30\\', \\'alt: 17\\', \\'alt: 10\\', \\'alt: 27\\', \\'alt: 11\\', \\'t_bil: 0.7\\', \\'alt: 25\\', \\'alt: 42\\', \\'alt: 43\\', \\'alt: 24\\', \\'t_bil: 1.6\\', \\'t_bil: 1\\', \\'alt: 22\\', \\'t_bil: 0.5\\', \\'alt: 18\\', \\'alt: 36\\', \\'t_bil: 0.3\\', \\'t_bil: 0.6\\', \\'t_bil: 1.1\\', \\'alt: 14\\', \\'alt: 28\\'], 12: [\\'wbc: 6220\\', \\'wbc: 5250\\', \\'wbc: 5830\\', \\'wbc: 6620\\', \\'wbc: 6400\\', \\'wbc: 5010\\', \\'wbc: 4190\\', \\'wbc: 3390\\', \\'wbc: 5120\\', \\'wbc: 14650\\', \\'wbc: 5550\\', \\'wbc: 8630\\', \\'wbc: 6170\\', \\'wbc: 6600\\', \\'wbc: 6500\\', \\'wbc: 7110\\', \\'wbc: 5490\\', \\'alp: 353\\', \\'wbc: 7930\\', \\'wbc: 3990\\', \\'wbc: 9740\\', \\'wbc: 5900\\', \\'wbc: 3660\\', \\'wbc: 7640\\', \\'wbc: 3600\\', \\'wbc: 7310\\', \\'wbc: 5860\\', \\'wbc: 3180\\', \\'wbc: 3620\\', \\'wbc: 5440\\'], 13: [\\'plt: 37.7\\', \\'plt: 26.4\\', \\'plt: 35.2\\', \\'plt: 30.3\\', \\'plt: 36.3\\', \\'plt: 24\\', \\'plt: 22\\', \\'plt: 24.7\\', \\'plt: 36.6\\', \\'plt: 21.2\\', \\'plt: 40.9\\', \\'plt: 33.6\\', \\'plt: 32.1\\', \\'plt: 54.8\\', \\'plt: 30.7\\', \\'plt: 35.1\\', \\'ggtp: 27\\', \\'plt: 34.8\\', \\'plt: 17.6\\', \\'plt: 51.5\\', \\'plt: 22.1\\', \\'plt: 18.3\\', \\'plt: 38.2\\', \\'plt: 24.4\\', \\'plt: 22.2\\', \\'plt: 14.5\\', \\'plt: 19.1\\', \\'plt: 25.7\\', \\'plt: 28.4\\', \\'plt: 17.7\\'], 14: [\\'t_bil: 0.4\\', \\'t_bil: 1\\', \\'t_bil: 0.5\\', \\'t_bil: 0.6\\', \\'t_bil: 1.2\\', \\'t_bil: 0.8\\', \\'t_bil: 1.5\\', \\'t_bil: 0.3\\', \\'t_bil: 0.9\\', \\'hb: 15.3\\', \\'t_bil: 0.7\\', \\'t_bil: 1.7\\', \\'t_bil: 0.2\\', \\'t_bil: 2.1\\', \\'hb: 14.8\\', \\'hb: 13.4\\', \\'t_bil: 1.3\\', \\'hb: 12\\', \\'hb: 11.8\\', \\'hb: 14.3\\', \\'hb: 17.6\\', \\'t_bil: 1.1\\', nan], 15: [\\'alp: 178\\', \\'alp: 232\\', \\'alp: 272\\', \\'alp: 363\\', \\'alp: 237\\', \\'alp: 233\\', \\'alp: 151\\', \\'alp: 186\\', \\'alp: 141\\', \\'alp: 203\\', \\'alp: 219\\', \\'alp: 187\\', \\'alp: 263\\', \\'alp: 1802\\', \\'alp: 283\\', \\'alp: 253\\', \\'alb: 4.4\\', \\'alp: 226\\', \\'alp: 175\\', \\'alp: 479\\', \\'alp: 180\\', \\'alp: 224\\', \\'alp: 216\\', \\'alp: 188\\', \\'alp: 356\\', \\'alp: 213\\', \\'alp: 181\\', \\'alp: 318\\', \\'alp: 278\\', \\'alp: 122\\'], 16: [\\'ggtp: 25\\', \\'ggtp: 23\\', \\'ggtp: 36\\', \\'ggtp: 32\\', \\'ggtp: 37\\', \\'ggtp: 18\\', \\'ggtp: 20\\', \\'ggtp: 11\\', \\'ggtp: 16\\', \\'ggtp: 13\\', \\'ggtp: 31\\', \\'ggtp: 15\\', \\'ggtp: 423\\', \\'ggtp: 22\\', \\'ggtp: 28\\', \\'bs: 116\\', \\'ggtp: 43\\', \\'ggtp: 116\\', \\'ggtp: 26\\', \\'ggtp: 30\\', \\'ggtp: 39\\', \\'ggtp: 54\\', \\'ggtp: 93\\', \\'bs: 110\\', \\'ggtp: 55\\', \\'bs: 107\\', \\'ggtp: 170\\', \\'bs: 112\\', \\'ggtp: 21\\', \\'ggtp: 52\\'], 17: [\\'hb: 13\\', \\'hb: 13.5\\', \\'hb: 14\\', \\'hb: 15.8\\', \\'hb: 14.5\\', \\'hb: 13.7\\', \\'hb: 13.8\\', \\'hb: 11.8\\', \\'hb: 13.4\\', \\'hb: 8.1\\', \\'hb: 13.2\\', \\'hb: 7.5\\', \\'hb: 13.3\\', \\'hb: 14.7\\', \\'hb: 14.3\\', \\'tg: 95\\', \\'hb: 12\\', \\'hb: 12.7\\', \\'hb: 11.6\\', \\'hb: 15.5\\', \\'hb: 13.6\\', \\'hb: 12.1\\', \\'hb: 15.3\\', \\'tg: 38\\', \\'tg: 119\\', \\'hb: 15.1\\', \\'tg: 79\\', \\'hb: 9.5\\', \\'hb: 14.2\\', \\'hb: 11.5\\'], 18: [\\'alb: 4.1\\', \\'alb: 4.3\\', \\'alb: 4.2\\', \\'alb: 4.6\\', \\'alb: 4.4\\', \\'alb: 4.7\\', \\'alb: 4.5\\', \\'alb: 4\\', \\'alb: 4.8\\', \\'t_chol: 210\\', \\'alb: 3.9\\', \\'alb: 3.7\\', \\'t_chol: 172\\', \\'t_chol: 267\\', \\'t_chol: 198\\', \\'t_chol: 154\\', \\'t_chol: 235\\', \\'t_chol: 213\\', \\'alb: 4.9\\', \\'t_chol: 253\\', nan], 19: [\\'bs: 108\\', \\'bs: 111\\', \\'bs: 97\\', \\'bs: 116\\', \\'bs: 115\\', \\'tg: 161\\', \\'bs: 102\\', \\'bs: 158\\', \\'t_chol: 192\\', \\'bs: 129\\', \\'bs: 113\\', \\'bs: 133\\', \\'bs: 103\\', \\'bs: 89\\', \\'bs: 104\\', \\'hba1c: 5\\', \\'bs: 118\\', \\'bs: 100\\', \\'bs: 91\\', \\'bs: 93\\', \\'bs: 92\\', \\'bs: 99\\', \\'bs: 76\\', \\'bs: 101\\', \\'bs: 85\\', \\'hba1c: 5.1\\', \\'hba1c: 5.4\\', \\'bs: 134\\', \\'bs: 96\\', \\'bs: 146\\'], 20: [\\'tg: 84\\', \\'tg: 146\\', \\'t_chol: 214\\', \\'tg: 197\\', \\'tg: 244\\', \\'t_chol: 186\\', \\'tg: 106\\', \\'tg: 68\\', \\'molecule subtype: microRNA\\', \\'t_chol: 216\\', \\'tg: 202\\', \\'t_chol: 159\\', \\'t_chol: 266\\', \\'tg: 124\\', \\'tg: 75\\', \\'tg: 69\\', \\'tg: 59\\', \\'tg: 55\\', \\'tg: 107\\', \\'t_chol: 160\\', \\'tg: 54\\', \\'tg: 141\\', \\'tg: 67\\', \\'tg: 98\\', \\'tg: 128\\', \\'tg: 318\\', \\'tg: 145\\', \\'tg: 117\\', \\'tg: 177\\', \\'tg: 82\\'], 21: [\\'t_chol: 230\\', \\'t_chol: 174\\', \\'molecule subtype: microRNA\\', \\'t_chol: 196\\', \\'t_chol: 179\\', \\'t_chol: 225\\', nan, \\'hba1c: 5.3\\', \\'t_chol: 148\\', \\'hba1c: 6.6\\', \\'hba1c: 5.2\\', \\'t_chol: 218\\', \\'t_chol: 248\\', \\'t_chol: 183\\', \\'t_chol: 258\\', \\'t_chol: 203\\', \\'t_chol: 221\\', \\'t_chol: 209\\', \\'hba1c: 4.5\\', \\'t_chol: 142\\', \\'t_chol: 199\\', \\'t_chol: 214\\', \\'t_chol: 155\\', \\'t_chol: 139\\', \\'t_chol: 204\\', \\'t_chol: 215\\', \\'t_chol: 182\\', \\'t_chol: 208\\', \\'t_chol: 201\\', \\'t_chol: 261\\'], 22: [\\'hba1c: 5.3\\', nan, \\'hba1c: 5.4\\', \\'hba1c: 5.2\\', \\'hba1c: 4.9\\', \\'hba1c: 6.2\\', \\'molecule subtype: microRNA\\', \\'hba1c: 5.7\\', \\'hba1c: 4.8\\', \\'hba1c: 5\\', \\'hba1c: 5.6\\', \\'hba1c: 4.5\\', \\'hba1c: 5.1\\', \\'hba1c: 6.7\\', \\'hba1c: 6.3\\', \\'hba1c: 4.7\\', \\'hba1c: 5.8\\', \\'hba1c: 5.5\\', \\'hba1c: 4.3\\', \\'hba1c: 5.9\\', \\'hba1c: 4.6\\'], 23: [\\'molecule subtype: microRNA\\', nan]}\\n'"
      ]
     },
     "execution_count": 72,
     "metadata": {},
     "output_type": "execute_result"
    }
   ],
   "source": [
    "f'''As a biomedical research team, we are selecting datasets to study the association between the human trait \\'{TRAIT}\\' and genetic factors, optionally considering the influence of age and gender. After searching the GEO database and parsing the matrix file of a series, we obtained background information and sample characteristics data. We will provide textual information about the dataset background, and a Python dictionary storing a list of unique values for each field of the sample characteristics data. Please carefully review the provided information and answer the following questions about this dataset:\n",
    "1. Does this dataset contain gene expression data? (Note: Pure miRNA data is not suitable.)\n",
    "2. For each of the traits \\'{TRAIT}\\', 'age', and 'gender', please address these points:\n",
    "   (1) Is there human data available for this trait?\n",
    "   (2) If so, identify the key in the sample characteristics dictionary where unique values of this trait is recorded. The key is an integer. The trait information might be explicitly recorded, or can be inferred from the field with some biomedical knowledge or understanding about the data collection process.\n",
    "   (3) Choose an appropriate data type (either 'continuous' or 'binary') for each trait. Write a Python function to convert any given value of the trait to this data type. The function should handle inference about the trait value and convert unknown values to None.\n",
    "   Name the functions 'convert_trait', 'convert_age', and 'convert_gender', respectively.\n",
    "\n",
    "Background information about the dataset:\n",
    "{background_info}\n",
    "\n",
    "Sample characteristics dictionary (from \"!Sample_characteristics_ch1\", converted to a Python dictionary that stores the unique values for each field):\n",
    "{clinical_data_unique}\n",
    "'''"
   ]
  },
  {
   "cell_type": "markdown",
   "metadata": {
    "ExecuteTime": {
     "end_time": "2023-12-31T03:58:04.978240504Z",
     "start_time": "2023-12-31T03:58:04.922365324Z"
    },
    "collapsed": false
   },
   "source": [
    "Understand and verify the answer from GPT, to assign values to the below variables. Assign None to the 'row_id' variables if relevant data row was not found.\n",
    "Later we need to let GPT format its answer to automatically do these. But given the complexity of this step, let's grow some insight from the free-text answers for now."
   ]
  },
  {
   "cell_type": "code",
   "execution_count": 73,
   "metadata": {
    "ExecuteTime": {
     "end_time": "2024-02-27T00:23:30.385870186Z",
     "start_time": "2024-02-27T00:23:30.351051500Z"
    },
    "collapsed": false
   },
   "outputs": [],
   "source": [
    "is_gene_availabe = True\n",
    "trait_row = 0\n",
    "age_row = None \n",
    "gender_row = None \n",
    "\n",
    "trait_type = 'binary'"
   ]
  },
  {
   "cell_type": "code",
   "execution_count": 74,
   "metadata": {
    "ExecuteTime": {
     "end_time": "2024-02-27T00:23:30.385957890Z",
     "start_time": "2024-02-27T00:23:30.351268817Z"
    },
    "collapsed": false
   },
   "outputs": [],
   "source": [
    "is_available = is_gene_availabe and (trait_row is not None)\n",
    "if not is_available:\n",
    "    save_cohort_info(cohort, JSON_PATH, is_available)\n",
    "    print(\"This cohort is not usable. Please skip the following steps and jump to the next accession number.\")"
   ]
  },
  {
   "cell_type": "code",
   "execution_count": 75,
   "metadata": {
    "ExecuteTime": {
     "end_time": "2024-02-27T00:23:30.386037459Z",
     "start_time": "2024-02-27T00:23:30.351367211Z"
    },
    "collapsed": false
   },
   "outputs": [],
   "source": [
    "# Verify and use the functions generated by GPT\n",
    "\n",
    "def convert_trait(histology_string):\n",
    "    \"\"\"\n",
    "    Convert histology string to a binary value representing breast cancer.\n",
    "    Presence of breast cancer is represented as 1, absence as 0.\n",
    "    Unknown or non-breast cancer histologies are converted to None.\n",
    "    \"\"\"\n",
    "    breast_cancer_histologies = ['tnbc', 'er+ pr+ her2-', 'er- pr- her2+', 'er+ pr-her2+', 'er+ pr- her2-',\n",
    "                                 'er- pr+ her2-']\n",
    "    histology = histology_string.split(': ')[1].lower()\n",
    "    if histology in breast_cancer_histologies:\n",
    "        return 1\n",
    "    elif histology == 'unknown':\n",
    "        return None\n",
    "    else:\n",
    "        return 0\n",
    "\n",
    "\n",
    "def convert_age(age_string):\n",
    "    \"\"\"\n",
    "    Convert age string to a continuous numerical value.\n",
    "    Unknown values are converted to None.\n",
    "    \"\"\"\n",
    "    if age_string.lower() == 'n.a.':\n",
    "        return None\n",
    "    try:\n",
    "        # Extract age as an integer from the string\n",
    "        age = int(age_string.split(': ')[1])\n",
    "        return age\n",
    "    except (ValueError, IndexError):\n",
    "        # In case of any format error or unexpected string structure\n",
    "        return None\n",
    "\n",
    "\n",
    "# It sometimes maps 'female' to 0, and sometimes 1. Does it matter?\n",
    "def convert_gender(gender_string):\n",
    "    \"\"\"\n",
    "    Convert gender string to a binary value.\n",
    "    'female' is represented as 1, 'male' as 0.\n",
    "    Unknown values are converted to None.\n",
    "    \"\"\"\n",
    "    if gender_string.lower() == 'sex: female':\n",
    "        return 1\n",
    "    elif gender_string.lower() == 'sex: male':\n",
    "        return 0\n",
    "    else:\n",
    "        return None"
   ]
  },
  {
   "cell_type": "code",
   "execution_count": 76,
   "metadata": {
    "ExecuteTime": {
     "end_time": "2024-02-27T00:23:30.386191717Z",
     "start_time": "2024-02-27T00:23:30.351458802Z"
    },
    "collapsed": false
   },
   "outputs": [
    {
     "name": "stderr",
     "output_type": "stream",
     "text": [
      "C:\\Users\\jacob\\AppData\\Local\\Temp\\ipykernel_14072\\2151059819.py:218: FutureWarning: DataFrame.applymap has been deprecated. Use DataFrame.map instead.\n",
      "  clinical_df = clinical_df.applymap(convert_fn)\n"
     ]
    },
    {
     "data": {
      "text/html": [
       "<div>\n",
       "<style scoped>\n",
       "    .dataframe tbody tr th:only-of-type {\n",
       "        vertical-align: middle;\n",
       "    }\n",
       "\n",
       "    .dataframe tbody tr th {\n",
       "        vertical-align: top;\n",
       "    }\n",
       "\n",
       "    .dataframe thead th {\n",
       "        text-align: right;\n",
       "    }\n",
       "</style>\n",
       "<table border=\"1\" class=\"dataframe\">\n",
       "  <thead>\n",
       "    <tr style=\"text-align: right;\">\n",
       "      <th></th>\n",
       "      <th>GSM2188553</th>\n",
       "      <th>GSM2188554</th>\n",
       "      <th>GSM2188555</th>\n",
       "      <th>GSM2188556</th>\n",
       "      <th>GSM2188557</th>\n",
       "      <th>GSM2188558</th>\n",
       "      <th>GSM2188559</th>\n",
       "      <th>GSM2188560</th>\n",
       "      <th>GSM2188561</th>\n",
       "      <th>GSM2188562</th>\n",
       "      <th>...</th>\n",
       "      <th>GSM2188664</th>\n",
       "      <th>GSM2188665</th>\n",
       "      <th>GSM2188666</th>\n",
       "      <th>GSM2188667</th>\n",
       "      <th>GSM2188668</th>\n",
       "      <th>GSM2188669</th>\n",
       "      <th>GSM2188670</th>\n",
       "      <th>GSM2188671</th>\n",
       "      <th>GSM2188672</th>\n",
       "      <th>GSM2188673</th>\n",
       "    </tr>\n",
       "  </thead>\n",
       "  <tbody>\n",
       "    <tr>\n",
       "      <th>Hemochromatosis</th>\n",
       "      <td>0</td>\n",
       "      <td>0</td>\n",
       "      <td>0</td>\n",
       "      <td>0</td>\n",
       "      <td>0</td>\n",
       "      <td>0</td>\n",
       "      <td>0</td>\n",
       "      <td>0</td>\n",
       "      <td>0</td>\n",
       "      <td>0</td>\n",
       "      <td>...</td>\n",
       "      <td>0</td>\n",
       "      <td>0</td>\n",
       "      <td>0</td>\n",
       "      <td>0</td>\n",
       "      <td>0</td>\n",
       "      <td>0</td>\n",
       "      <td>0</td>\n",
       "      <td>0</td>\n",
       "      <td>0</td>\n",
       "      <td>0</td>\n",
       "    </tr>\n",
       "  </tbody>\n",
       "</table>\n",
       "<p>1 rows × 121 columns</p>\n",
       "</div>"
      ],
      "text/plain": [
       "                 GSM2188553  GSM2188554  GSM2188555  GSM2188556  GSM2188557  \\\n",
       "Hemochromatosis           0           0           0           0           0   \n",
       "\n",
       "                 GSM2188558  GSM2188559  GSM2188560  GSM2188561  GSM2188562  \\\n",
       "Hemochromatosis           0           0           0           0           0   \n",
       "\n",
       "                 ...  GSM2188664  GSM2188665  GSM2188666  GSM2188667  \\\n",
       "Hemochromatosis  ...           0           0           0           0   \n",
       "\n",
       "                 GSM2188668  GSM2188669  GSM2188670  GSM2188671  GSM2188672  \\\n",
       "Hemochromatosis           0           0           0           0           0   \n",
       "\n",
       "                 GSM2188673  \n",
       "Hemochromatosis           0  \n",
       "\n",
       "[1 rows x 121 columns]"
      ]
     },
     "execution_count": 76,
     "metadata": {},
     "output_type": "execute_result"
    }
   ],
   "source": [
    "selected_clinical_data = geo_select_clinical_features(clinical_data, TRAIT, trait_row, convert_trait, age_row=age_row,\n",
    "                                                      convert_age=convert_age, gender_row=gender_row,\n",
    "                                                      convert_gender=convert_gender)\n",
    "selected_clinical_data.head()"
   ]
  },
  {
   "cell_type": "markdown",
   "metadata": {
    "ExecuteTime": {
     "end_time": "2023-12-31T03:58:04.978664193Z",
     "start_time": "2023-12-31T03:58:04.966117261Z"
    },
    "collapsed": false
   },
   "source": [
    "### Genetic data preprocessing and final filtering"
   ]
  },
  {
   "cell_type": "code",
   "execution_count": 77,
   "metadata": {
    "ExecuteTime": {
     "end_time": "2024-02-27T00:23:30.394809420Z",
     "start_time": "2024-02-27T00:23:30.351566744Z"
    },
    "collapsed": false
   },
   "outputs": [
    {
     "data": {
      "text/html": [
       "<div>\n",
       "<style scoped>\n",
       "    .dataframe tbody tr th:only-of-type {\n",
       "        vertical-align: middle;\n",
       "    }\n",
       "\n",
       "    .dataframe tbody tr th {\n",
       "        vertical-align: top;\n",
       "    }\n",
       "\n",
       "    .dataframe thead th {\n",
       "        text-align: right;\n",
       "    }\n",
       "</style>\n",
       "<table border=\"1\" class=\"dataframe\">\n",
       "  <thead>\n",
       "    <tr style=\"text-align: right;\">\n",
       "      <th></th>\n",
       "      <th>GSM2188553</th>\n",
       "      <th>GSM2188554</th>\n",
       "      <th>GSM2188555</th>\n",
       "      <th>GSM2188556</th>\n",
       "      <th>GSM2188557</th>\n",
       "      <th>GSM2188558</th>\n",
       "      <th>GSM2188559</th>\n",
       "      <th>GSM2188560</th>\n",
       "      <th>GSM2188561</th>\n",
       "      <th>GSM2188562</th>\n",
       "      <th>...</th>\n",
       "      <th>GSM2188664</th>\n",
       "      <th>GSM2188665</th>\n",
       "      <th>GSM2188666</th>\n",
       "      <th>GSM2188667</th>\n",
       "      <th>GSM2188668</th>\n",
       "      <th>GSM2188669</th>\n",
       "      <th>GSM2188670</th>\n",
       "      <th>GSM2188671</th>\n",
       "      <th>GSM2188672</th>\n",
       "      <th>GSM2188673</th>\n",
       "    </tr>\n",
       "    <tr>\n",
       "      <th>ID</th>\n",
       "      <th></th>\n",
       "      <th></th>\n",
       "      <th></th>\n",
       "      <th></th>\n",
       "      <th></th>\n",
       "      <th></th>\n",
       "      <th></th>\n",
       "      <th></th>\n",
       "      <th></th>\n",
       "      <th></th>\n",
       "      <th></th>\n",
       "      <th></th>\n",
       "      <th></th>\n",
       "      <th></th>\n",
       "      <th></th>\n",
       "      <th></th>\n",
       "      <th></th>\n",
       "      <th></th>\n",
       "      <th></th>\n",
       "      <th></th>\n",
       "      <th></th>\n",
       "    </tr>\n",
       "  </thead>\n",
       "  <tbody>\n",
       "    <tr>\n",
       "      <th>3</th>\n",
       "      <td>7.931536</td>\n",
       "      <td>3.102668</td>\n",
       "      <td>49.265340</td>\n",
       "      <td>77.475350</td>\n",
       "      <td>-0.928245</td>\n",
       "      <td>15.342500</td>\n",
       "      <td>33.615040</td>\n",
       "      <td>7.385301</td>\n",
       "      <td>2.821918</td>\n",
       "      <td>8.258295</td>\n",
       "      <td>...</td>\n",
       "      <td>-1.487942</td>\n",
       "      <td>6.870545</td>\n",
       "      <td>21.502650</td>\n",
       "      <td>29.397710</td>\n",
       "      <td>-1.544877</td>\n",
       "      <td>39.087920</td>\n",
       "      <td>105.267500</td>\n",
       "      <td>106.991400</td>\n",
       "      <td>0.162450</td>\n",
       "      <td>7.129088</td>\n",
       "    </tr>\n",
       "    <tr>\n",
       "      <th>4</th>\n",
       "      <td>2.409988</td>\n",
       "      <td>-1.147867</td>\n",
       "      <td>-0.532708</td>\n",
       "      <td>1.689750</td>\n",
       "      <td>-4.346320</td>\n",
       "      <td>-2.249653</td>\n",
       "      <td>7.330230</td>\n",
       "      <td>-4.403905</td>\n",
       "      <td>0.167342</td>\n",
       "      <td>2.822354</td>\n",
       "      <td>...</td>\n",
       "      <td>-2.372100</td>\n",
       "      <td>4.236973</td>\n",
       "      <td>6.282951</td>\n",
       "      <td>4.430559</td>\n",
       "      <td>-6.286805</td>\n",
       "      <td>3.129385</td>\n",
       "      <td>7.312864</td>\n",
       "      <td>-0.051147</td>\n",
       "      <td>-3.408465</td>\n",
       "      <td>-1.113715</td>\n",
       "    </tr>\n",
       "    <tr>\n",
       "      <th>5</th>\n",
       "      <td>7.245647</td>\n",
       "      <td>8.397180</td>\n",
       "      <td>19.958200</td>\n",
       "      <td>12.798220</td>\n",
       "      <td>-2.874208</td>\n",
       "      <td>5.906268</td>\n",
       "      <td>20.025160</td>\n",
       "      <td>6.710071</td>\n",
       "      <td>5.169348</td>\n",
       "      <td>15.255070</td>\n",
       "      <td>...</td>\n",
       "      <td>1.205489</td>\n",
       "      <td>10.244320</td>\n",
       "      <td>13.993880</td>\n",
       "      <td>14.852150</td>\n",
       "      <td>-5.208034</td>\n",
       "      <td>28.872980</td>\n",
       "      <td>40.345110</td>\n",
       "      <td>11.765080</td>\n",
       "      <td>-2.322796</td>\n",
       "      <td>11.363570</td>\n",
       "    </tr>\n",
       "    <tr>\n",
       "      <th>6</th>\n",
       "      <td>8.575367</td>\n",
       "      <td>8.903895</td>\n",
       "      <td>9.119478</td>\n",
       "      <td>18.065770</td>\n",
       "      <td>-0.268711</td>\n",
       "      <td>6.682973</td>\n",
       "      <td>0.981146</td>\n",
       "      <td>-10.352960</td>\n",
       "      <td>6.708045</td>\n",
       "      <td>2.643704</td>\n",
       "      <td>...</td>\n",
       "      <td>10.241980</td>\n",
       "      <td>-1.211883</td>\n",
       "      <td>6.258286</td>\n",
       "      <td>1.577373</td>\n",
       "      <td>7.376555</td>\n",
       "      <td>2.936030</td>\n",
       "      <td>4.336572</td>\n",
       "      <td>0.919890</td>\n",
       "      <td>2.653853</td>\n",
       "      <td>4.791024</td>\n",
       "    </tr>\n",
       "    <tr>\n",
       "      <th>7</th>\n",
       "      <td>9.469930</td>\n",
       "      <td>7.868720</td>\n",
       "      <td>3.338943</td>\n",
       "      <td>9.935066</td>\n",
       "      <td>7.301607</td>\n",
       "      <td>3.850779</td>\n",
       "      <td>-3.709841</td>\n",
       "      <td>-14.678190</td>\n",
       "      <td>7.660424</td>\n",
       "      <td>0.019532</td>\n",
       "      <td>...</td>\n",
       "      <td>13.686380</td>\n",
       "      <td>2.410748</td>\n",
       "      <td>4.406696</td>\n",
       "      <td>5.440111</td>\n",
       "      <td>10.694640</td>\n",
       "      <td>9.358142</td>\n",
       "      <td>8.083342</td>\n",
       "      <td>2.656148</td>\n",
       "      <td>5.643307</td>\n",
       "      <td>3.693268</td>\n",
       "    </tr>\n",
       "  </tbody>\n",
       "</table>\n",
       "<p>5 rows × 121 columns</p>\n",
       "</div>"
      ],
      "text/plain": [
       "    GSM2188553  GSM2188554  GSM2188555  GSM2188556  GSM2188557  GSM2188558  \\\n",
       "ID                                                                           \n",
       "3     7.931536    3.102668   49.265340   77.475350   -0.928245   15.342500   \n",
       "4     2.409988   -1.147867   -0.532708    1.689750   -4.346320   -2.249653   \n",
       "5     7.245647    8.397180   19.958200   12.798220   -2.874208    5.906268   \n",
       "6     8.575367    8.903895    9.119478   18.065770   -0.268711    6.682973   \n",
       "7     9.469930    7.868720    3.338943    9.935066    7.301607    3.850779   \n",
       "\n",
       "    GSM2188559  GSM2188560  GSM2188561  GSM2188562  ...  GSM2188664  \\\n",
       "ID                                                  ...               \n",
       "3    33.615040    7.385301    2.821918    8.258295  ...   -1.487942   \n",
       "4     7.330230   -4.403905    0.167342    2.822354  ...   -2.372100   \n",
       "5    20.025160    6.710071    5.169348   15.255070  ...    1.205489   \n",
       "6     0.981146  -10.352960    6.708045    2.643704  ...   10.241980   \n",
       "7    -3.709841  -14.678190    7.660424    0.019532  ...   13.686380   \n",
       "\n",
       "    GSM2188665  GSM2188666  GSM2188667  GSM2188668  GSM2188669  GSM2188670  \\\n",
       "ID                                                                           \n",
       "3     6.870545   21.502650   29.397710   -1.544877   39.087920  105.267500   \n",
       "4     4.236973    6.282951    4.430559   -6.286805    3.129385    7.312864   \n",
       "5    10.244320   13.993880   14.852150   -5.208034   28.872980   40.345110   \n",
       "6    -1.211883    6.258286    1.577373    7.376555    2.936030    4.336572   \n",
       "7     2.410748    4.406696    5.440111   10.694640    9.358142    8.083342   \n",
       "\n",
       "    GSM2188671  GSM2188672  GSM2188673  \n",
       "ID                                      \n",
       "3   106.991400    0.162450    7.129088  \n",
       "4    -0.051147   -3.408465   -1.113715  \n",
       "5    11.765080   -2.322796   11.363570  \n",
       "6     0.919890    2.653853    4.791024  \n",
       "7     2.656148    5.643307    3.693268  \n",
       "\n",
       "[5 rows x 121 columns]"
      ]
     },
     "execution_count": 77,
     "metadata": {},
     "output_type": "execute_result"
    }
   ],
   "source": [
    "genetic_data = get_genetic_data(matrix_file)\n",
    "genetic_data.head()"
   ]
  },
  {
   "cell_type": "code",
   "execution_count": 78,
   "metadata": {
    "ExecuteTime": {
     "end_time": "2024-02-27T00:23:30.481283320Z",
     "start_time": "2024-02-27T00:23:30.363656224Z"
    },
    "collapsed": false
   },
   "outputs": [
    {
     "data": {
      "text/plain": [
       "['3',\n",
       " '4',\n",
       " '5',\n",
       " '6',\n",
       " '7',\n",
       " '8',\n",
       " '9',\n",
       " '10',\n",
       " '11',\n",
       " '12',\n",
       " '13',\n",
       " '14',\n",
       " '15',\n",
       " '16',\n",
       " '17',\n",
       " '18',\n",
       " '19',\n",
       " '20',\n",
       " '21',\n",
       " '22']"
      ]
     },
     "execution_count": 78,
     "metadata": {},
     "output_type": "execute_result"
    }
   ],
   "source": [
    "gene_row_ids = genetic_data.index[:20].tolist()\n",
    "gene_row_ids"
   ]
  },
  {
   "cell_type": "markdown",
   "metadata": {
    "ExecuteTime": {
     "end_time": "2023-12-31T03:30:41.595335164Z",
     "start_time": "2023-12-31T03:30:41.513232329Z"
    },
    "collapsed": false
   },
   "source": [
    "Check if the gene dataset requires mapping to get the gene symbols corresponding to each data row."
   ]
  },
  {
   "cell_type": "markdown",
   "metadata": {
    "collapsed": false
   },
   "source": [
    "Reference prompt:"
   ]
  },
  {
   "cell_type": "code",
   "execution_count": 79,
   "metadata": {
    "ExecuteTime": {
     "end_time": "2024-02-27T00:23:30.481654274Z",
     "start_time": "2024-02-27T00:23:30.413379675Z"
    },
    "collapsed": false
   },
   "outputs": [
    {
     "data": {
      "text/plain": [
       "\"\\nBelow are the row headers of a gene expression dataset in GEO. Based on your biomedical knowledge, are they human gene symbols, or are they some other identifiers that need to be mapped to gene symbols? Your answer should be concluded by starting a new line and strictly following this format:\\nrequires_gene_mapping = (True or False)\\n\\nRow headers:\\n['3', '4', '5', '6', '7', '8', '9', '10', '11', '12', '13', '14', '15', '16', '17', '18', '19', '20', '21', '22']\\n\""
      ]
     },
     "execution_count": 79,
     "metadata": {},
     "output_type": "execute_result"
    }
   ],
   "source": [
    "f'''\n",
    "Below are the row headers of a gene expression dataset in GEO. Based on your biomedical knowledge, are they human gene symbols, or are they some other identifiers that need to be mapped to gene symbols? Your answer should be concluded by starting a new line and strictly following this format:\n",
    "requires_gene_mapping = (True or False)\n",
    "\n",
    "Row headers:\n",
    "{gene_row_ids}\n",
    "'''"
   ]
  },
  {
   "cell_type": "markdown",
   "metadata": {
    "collapsed": false
   },
   "source": [
    "\n",
    "If not required, jump directly to the gene normalization step"
   ]
  },
  {
   "cell_type": "code",
   "execution_count": 80,
   "metadata": {
    "ExecuteTime": {
     "end_time": "2024-02-27T00:23:30.481758349Z",
     "start_time": "2024-02-27T00:23:30.413504759Z"
    },
    "collapsed": false
   },
   "outputs": [],
   "source": [
    "requires_gene_mapping = True"
   ]
  },
  {
   "cell_type": "code",
   "execution_count": 81,
   "metadata": {
    "ExecuteTime": {
     "end_time": "2024-02-27T00:23:30.481841494Z",
     "start_time": "2024-02-27T00:23:30.413594938Z"
    },
    "collapsed": false
   },
   "outputs": [
    {
     "name": "stdout",
     "output_type": "stream",
     "text": [
      "{'ID': ['1', '2', '3', '4', '5'], 'Row': ['1', '1', '1', '1', '1'], 'Col': [1.0, 2.0, 3.0, 4.0, 5.0], 'SubTypeMask': [0.0, 66.0, 0.0, 0.0, 0.0], 'ControlType': [1.0, 1.0, 0.0, 0.0, 0.0], 'ProbeName': ['miRNABrightCorner30', 'DarkCorner', 'A_25_P00012859', 'A_25_P00013059', 'A_25_P00012978'], 'SystematicName': ['miRNABrightCorner30', 'DarkCorner', 'hsa-miR-542-5p', 'hsa-miR-509-3-5p', 'hsa-miR-190b'], 'miRNA_ID': [nan, nan, 'hsa-miR-542-5p', 'hsa-miR-509-3-5p', 'hsa-miR-190b'], 'SPOT_ID': ['--miRNABrightCorner30', '--DarkCorner', nan, nan, nan]}\n"
     ]
    }
   ],
   "source": [
    "if requires_gene_mapping:\n",
    "    gene_annotation = get_gene_annotation(soft_file)\n",
    "    gene_annotation_summary = preview_df(gene_annotation)\n",
    "    print(gene_annotation_summary)"
   ]
  },
  {
   "cell_type": "markdown",
   "metadata": {
    "ExecuteTime": {
     "end_time": "2023-12-31T03:58:04.978931927Z",
     "start_time": "2023-12-31T03:58:04.966328339Z"
    },
    "collapsed": false
   },
   "source": [
    "Observe the first few cells in the ID column of the gene annotation dataframe, to find the names of columns that store the gene probe IDs and gene symbols respectively.\n",
    "Reference prompt:"
   ]
  },
  {
   "cell_type": "code",
   "execution_count": 82,
   "metadata": {
    "ExecuteTime": {
     "end_time": "2024-02-27T00:23:30.481923598Z",
     "start_time": "2024-02-27T00:23:30.413680388Z"
    },
    "collapsed": false
   },
   "outputs": [
    {
     "name": "stdout",
     "output_type": "stream",
     "text": [
      "\n",
      "    As a biomedical research team, we are analyzing a gene expression dataset, and find that its row headers are some identifiers related to genes:\n",
      "    ['3', '4', '5', '6', '7', '8', '9', '10', '11', '12', '13', '14', '15', '16', '17', '18', '19', '20', '21', '22']\n",
      "    To get the mapping from those identifiers to actual gene symbols, we extracted the gene annotation data from a series in the GEO database, and saved it to a Python dictionary. Please read the dictionary, and decide which key stores the identifiers, and which key stores the gene symbols. Please strictly follow this format in your answer:\n",
      "    identifier_key = 'key_name1'\n",
      "    gene_symbol_key = 'key_name2'\n",
      "\n",
      "    Gene annotation dictionary:\n",
      "    {'ID': ['1', '2', '3', '4', '5'], 'Row': ['1', '1', '1', '1', '1'], 'Col': [1.0, 2.0, 3.0, 4.0, 5.0], 'SubTypeMask': [0.0, 66.0, 0.0, 0.0, 0.0], 'ControlType': [1.0, 1.0, 0.0, 0.0, 0.0], 'ProbeName': ['miRNABrightCorner30', 'DarkCorner', 'A_25_P00012859', 'A_25_P00013059', 'A_25_P00012978'], 'SystematicName': ['miRNABrightCorner30', 'DarkCorner', 'hsa-miR-542-5p', 'hsa-miR-509-3-5p', 'hsa-miR-190b'], 'miRNA_ID': [nan, nan, 'hsa-miR-542-5p', 'hsa-miR-509-3-5p', 'hsa-miR-190b'], 'SPOT_ID': ['--miRNABrightCorner30', '--DarkCorner', nan, nan, nan]}\n",
      "    \n"
     ]
    }
   ],
   "source": [
    "if requires_gene_mapping:\n",
    "    print(f'''\n",
    "    As a biomedical research team, we are analyzing a gene expression dataset, and find that its row headers are some identifiers related to genes:\n",
    "    {gene_row_ids}\n",
    "    To get the mapping from those identifiers to actual gene symbols, we extracted the gene annotation data from a series in the GEO database, and saved it to a Python dictionary. Please read the dictionary, and decide which key stores the identifiers, and which key stores the gene symbols. Please strictly follow this format in your answer:\n",
    "    identifier_key = 'key_name1'\n",
    "    gene_symbol_key = 'key_name2'\n",
    "\n",
    "    Gene annotation dictionary:\n",
    "    {gene_annotation_summary}\n",
    "    ''')"
   ]
  },
  {
   "cell_type": "code",
   "execution_count": 83,
   "metadata": {
    "ExecuteTime": {
     "end_time": "2024-02-27T00:23:30.482007034Z",
     "start_time": "2024-02-27T00:23:30.413823155Z"
    },
    "collapsed": false
   },
   "outputs": [],
   "source": [
    "if requires_gene_mapping:\n",
    "    identifier_key = 'ID'\n",
    "    gene_symbol_key = 'SystematicName'\n",
    "    gene_mapping = get_gene_mapping(gene_annotation, identifier_key, gene_symbol_key)\n",
    "    genetic_data = apply_gene_mapping(genetic_data, gene_mapping)"
   ]
  },
  {
   "cell_type": "code",
   "execution_count": 84,
   "metadata": {
    "ExecuteTime": {
     "end_time": "2024-02-27T00:23:32.440490271Z",
     "start_time": "2024-02-27T00:23:30.413912422Z"
    },
    "collapsed": false
   },
   "outputs": [],
   "source": [
    "if NORMALIZE_GENE:\n",
    "    genetic_data = normalize_gene_symbols_in_index(genetic_data)"
   ]
  },
  {
   "cell_type": "code",
   "execution_count": 85,
   "metadata": {
    "ExecuteTime": {
     "end_time": "2024-02-27T00:23:32.491265391Z",
     "start_time": "2024-02-27T00:23:32.447650138Z"
    },
    "collapsed": false
   },
   "outputs": [],
   "source": [
    "merged_data = geo_merge_clinical_genetic_data(selected_clinical_data, genetic_data)\n",
    "# The preprocessing runs through, which means is_available should be True\n",
    "is_available = True"
   ]
  },
  {
   "cell_type": "code",
   "execution_count": 86,
   "metadata": {
    "ExecuteTime": {
     "end_time": "2024-02-27T00:23:32.491666522Z",
     "start_time": "2024-02-27T00:23:32.491106344Z"
    },
    "collapsed": false
   },
   "outputs": [
    {
     "name": "stdout",
     "output_type": "stream",
     "text": [
      "The merged dataset contains 121 samples.\n"
     ]
    }
   ],
   "source": [
    "print(f\"The merged dataset contains {len(merged_data)} samples.\")"
   ]
  },
  {
   "cell_type": "code",
   "execution_count": 87,
   "metadata": {
    "ExecuteTime": {
     "end_time": "2024-02-27T00:23:32.492392340Z",
     "start_time": "2024-02-27T00:23:32.491448724Z"
    },
    "collapsed": false
   },
   "outputs": [
    {
     "name": "stdout",
     "output_type": "stream",
     "text": [
      "For the feature 'Hemochromatosis', the least common label is '0.0' with 121 occurrences. This represents 100.00% of the dataset.\n",
      "The distribution of the feature 'Hemochromatosis' in this dataset is severely biased.\n",
      "\n"
     ]
    },
    {
     "data": {
      "text/plain": [
       "True"
      ]
     },
     "execution_count": 87,
     "metadata": {},
     "output_type": "execute_result"
    }
   ],
   "source": [
    "is_trait_biased, merged_data = judge_and_remove_biased_features(merged_data, TRAIT, trait_type=trait_type)\n",
    "is_trait_biased"
   ]
  },
  {
   "cell_type": "code",
   "execution_count": 88,
   "metadata": {
    "ExecuteTime": {
     "end_time": "2024-02-27T00:23:32.492558941Z",
     "start_time": "2024-02-27T00:23:32.491785675Z"
    },
    "collapsed": false
   },
   "outputs": [],
   "source": [
    "if is_available:\n",
    "    save_cohort_info(cohort, JSON_PATH, is_available, is_trait_biased, merged_data, note='')\n",
    "else:\n",
    "    save_cohort_info(cohort, JSON_PATH, is_available)"
   ]
  },
  {
   "cell_type": "code",
   "execution_count": 89,
   "metadata": {
    "ExecuteTime": {
     "end_time": "2024-02-27T00:23:32.498376085Z",
     "start_time": "2024-02-27T00:23:32.492193538Z"
    },
    "collapsed": false
   },
   "outputs": [],
   "source": [
    "merged_data.head()\n",
    "if not is_trait_biased:\n",
    "    merged_data.to_csv(os.path.join(OUTPUT_DIR, cohort + '.csv'), index=False)"
   ]
  },
  {
   "cell_type": "markdown",
   "metadata": {
    "ExecuteTime": {
     "end_time": "2023-12-31T03:58:22.271683755Z",
     "start_time": "2023-12-31T03:58:22.246557674Z"
    },
    "id": "-MTPhRGxJV7I"
   },
   "source": [
    "### 3. Do regression & Cross Validation"
   ]
  },
  {
   "cell_type": "code",
   "execution_count": 90,
   "metadata": {
    "ExecuteTime": {
     "end_time": "2024-02-27T00:23:32.547717211Z",
     "start_time": "2024-02-27T00:23:32.505440491Z"
    },
    "collapsed": false
   },
   "outputs": [
    {
     "data": {
      "text/html": [
       "<div>\n",
       "<style scoped>\n",
       "    .dataframe tbody tr th:only-of-type {\n",
       "        vertical-align: middle;\n",
       "    }\n",
       "\n",
       "    .dataframe tbody tr th {\n",
       "        vertical-align: top;\n",
       "    }\n",
       "\n",
       "    .dataframe thead th {\n",
       "        text-align: right;\n",
       "    }\n",
       "</style>\n",
       "<table border=\"1\" class=\"dataframe\">\n",
       "  <thead>\n",
       "    <tr style=\"text-align: right;\">\n",
       "      <th></th>\n",
       "      <th>cohort_id</th>\n",
       "      <th>is_usable</th>\n",
       "      <th>is_available</th>\n",
       "      <th>is_biased</th>\n",
       "      <th>has_age</th>\n",
       "      <th>has_gender</th>\n",
       "      <th>sample_size</th>\n",
       "      <th>note</th>\n",
       "    </tr>\n",
       "  </thead>\n",
       "  <tbody>\n",
       "  </tbody>\n",
       "</table>\n",
       "</div>"
      ],
      "text/plain": [
       "Empty DataFrame\n",
       "Columns: [cohort_id, is_usable, is_available, is_biased, has_age, has_gender, sample_size, note]\n",
       "Index: []"
      ]
     },
     "execution_count": 90,
     "metadata": {},
     "output_type": "execute_result"
    }
   ],
   "source": [
    "# Check the information of usable cohorts\n",
    "best_cohort, ranked_df = filter_and_rank_cohorts(JSON_PATH)\n",
    "ranked_df"
   ]
  },
  {
   "cell_type": "code",
   "execution_count": 91,
   "metadata": {
    "ExecuteTime": {
     "end_time": "2024-02-27T00:23:32.548029335Z",
     "start_time": "2024-02-27T00:23:32.547124542Z"
    },
    "collapsed": false
   },
   "outputs": [],
   "source": [
    "# If both age and gender have available cohorts, select 'age' as the condition.\n",
    "condition = 'Age'\n",
    "filter_column = 'has_' + condition.lower()\n",
    "\n",
    "condition_best_cohort, condition_ranked_df = filter_and_rank_cohorts(JSON_PATH, filter_column)\n",
    "condition_best_cohort"
   ]
  },
  {
   "cell_type": "code",
   "execution_count": 92,
   "metadata": {
    "ExecuteTime": {
     "end_time": "2024-02-27T00:23:32.548270706Z",
     "start_time": "2024-02-27T00:23:32.547406760Z"
    },
    "collapsed": false
   },
   "outputs": [
    {
     "data": {
      "text/html": [
       "<div>\n",
       "<style scoped>\n",
       "    .dataframe tbody tr th:only-of-type {\n",
       "        vertical-align: middle;\n",
       "    }\n",
       "\n",
       "    .dataframe tbody tr th {\n",
       "        vertical-align: top;\n",
       "    }\n",
       "\n",
       "    .dataframe thead th {\n",
       "        text-align: right;\n",
       "    }\n",
       "</style>\n",
       "<table border=\"1\" class=\"dataframe\">\n",
       "  <thead>\n",
       "    <tr style=\"text-align: right;\">\n",
       "      <th></th>\n",
       "      <th>cohort_id</th>\n",
       "      <th>is_usable</th>\n",
       "      <th>is_available</th>\n",
       "      <th>is_biased</th>\n",
       "      <th>has_age</th>\n",
       "      <th>has_gender</th>\n",
       "      <th>sample_size</th>\n",
       "      <th>note</th>\n",
       "    </tr>\n",
       "  </thead>\n",
       "  <tbody>\n",
       "  </tbody>\n",
       "</table>\n",
       "</div>"
      ],
      "text/plain": [
       "Empty DataFrame\n",
       "Columns: [cohort_id, is_usable, is_available, is_biased, has_age, has_gender, sample_size, note]\n",
       "Index: []"
      ]
     },
     "execution_count": 92,
     "metadata": {},
     "output_type": "execute_result"
    }
   ],
   "source": [
    "\n",
    "condition_ranked_df.head()"
   ]
  },
  {
   "cell_type": "code",
   "execution_count": 93,
   "metadata": {
    "ExecuteTime": {
     "end_time": "2024-02-27T00:23:38.343632200Z",
     "start_time": "2024-02-27T00:23:32.547609900Z"
    },
    "collapsed": false
   },
   "outputs": [
    {
     "ename": "TypeError",
     "evalue": "unsupported operand type(s) for +: 'NoneType' and 'str'",
     "output_type": "error",
     "traceback": [
      "\u001b[1;31m---------------------------------------------------------------------------\u001b[0m",
      "\u001b[1;31mTypeError\u001b[0m                                 Traceback (most recent call last)",
      "Cell \u001b[1;32mIn[93], line 1\u001b[0m\n\u001b[1;32m----> 1\u001b[0m merged_data \u001b[38;5;241m=\u001b[39m pd\u001b[38;5;241m.\u001b[39mread_csv(os\u001b[38;5;241m.\u001b[39mpath\u001b[38;5;241m.\u001b[39mjoin(OUTPUT_DIR, \u001b[43mcondition_best_cohort\u001b[49m\u001b[43m \u001b[49m\u001b[38;5;241;43m+\u001b[39;49m\u001b[43m \u001b[49m\u001b[38;5;124;43m'\u001b[39;49m\u001b[38;5;124;43m.csv\u001b[39;49m\u001b[38;5;124;43m'\u001b[39;49m))\n\u001b[0;32m      2\u001b[0m merged_data\u001b[38;5;241m.\u001b[39mhead()\n",
      "\u001b[1;31mTypeError\u001b[0m: unsupported operand type(s) for +: 'NoneType' and 'str'"
     ]
    }
   ],
   "source": [
    "merged_data = pd.read_csv(os.path.join(OUTPUT_DIR, condition_best_cohort + '.csv'))\n",
    "merged_data.head()"
   ]
  },
  {
   "cell_type": "code",
   "execution_count": 94,
   "metadata": {
    "ExecuteTime": {
     "end_time": "2024-02-27T00:23:38.415287128Z",
     "start_time": "2024-02-27T00:23:38.364271637Z"
    },
    "collapsed": false
   },
   "outputs": [
    {
     "ename": "KeyError",
     "evalue": "\"['Age'] not found in axis\"",
     "output_type": "error",
     "traceback": [
      "\u001b[1;31m---------------------------------------------------------------------------\u001b[0m",
      "\u001b[1;31mKeyError\u001b[0m                                  Traceback (most recent call last)",
      "Cell \u001b[1;32mIn[94], line 4\u001b[0m\n\u001b[0;32m      1\u001b[0m \u001b[38;5;66;03m# Remove the other condition to prevent interference.\u001b[39;00m\n\u001b[0;32m      2\u001b[0m merged_data \u001b[38;5;241m=\u001b[39m merged_data\u001b[38;5;241m.\u001b[39mdrop(columns\u001b[38;5;241m=\u001b[39m[\u001b[38;5;124m'\u001b[39m\u001b[38;5;124mGender\u001b[39m\u001b[38;5;124m'\u001b[39m], errors\u001b[38;5;241m=\u001b[39m\u001b[38;5;124m'\u001b[39m\u001b[38;5;124mignore\u001b[39m\u001b[38;5;124m'\u001b[39m)\u001b[38;5;241m.\u001b[39mastype(\u001b[38;5;124m'\u001b[39m\u001b[38;5;124mfloat\u001b[39m\u001b[38;5;124m'\u001b[39m)\n\u001b[1;32m----> 4\u001b[0m X \u001b[38;5;241m=\u001b[39m \u001b[43mmerged_data\u001b[49m\u001b[38;5;241;43m.\u001b[39;49m\u001b[43mdrop\u001b[49m\u001b[43m(\u001b[49m\u001b[43mcolumns\u001b[49m\u001b[38;5;241;43m=\u001b[39;49m\u001b[43m[\u001b[49m\u001b[43mTRAIT\u001b[49m\u001b[43m,\u001b[49m\u001b[43m \u001b[49m\u001b[43mcondition\u001b[49m\u001b[43m]\u001b[49m\u001b[43m)\u001b[49m\u001b[38;5;241m.\u001b[39mvalues\n\u001b[0;32m      5\u001b[0m Y \u001b[38;5;241m=\u001b[39m merged_data[TRAIT]\u001b[38;5;241m.\u001b[39mvalues\n\u001b[0;32m      6\u001b[0m Z \u001b[38;5;241m=\u001b[39m merged_data[condition]\u001b[38;5;241m.\u001b[39mvalues\n",
      "File \u001b[1;32m~\\AppData\\Local\\Packages\\PythonSoftwareFoundation.Python.3.11_qbz5n2kfra8p0\\LocalCache\\local-packages\\Python311\\site-packages\\pandas\\core\\frame.py:5568\u001b[0m, in \u001b[0;36mDataFrame.drop\u001b[1;34m(self, labels, axis, index, columns, level, inplace, errors)\u001b[0m\n\u001b[0;32m   5420\u001b[0m \u001b[38;5;28;01mdef\u001b[39;00m \u001b[38;5;21mdrop\u001b[39m(\n\u001b[0;32m   5421\u001b[0m     \u001b[38;5;28mself\u001b[39m,\n\u001b[0;32m   5422\u001b[0m     labels: IndexLabel \u001b[38;5;241m|\u001b[39m \u001b[38;5;28;01mNone\u001b[39;00m \u001b[38;5;241m=\u001b[39m \u001b[38;5;28;01mNone\u001b[39;00m,\n\u001b[1;32m   (...)\u001b[0m\n\u001b[0;32m   5429\u001b[0m     errors: IgnoreRaise \u001b[38;5;241m=\u001b[39m \u001b[38;5;124m\"\u001b[39m\u001b[38;5;124mraise\u001b[39m\u001b[38;5;124m\"\u001b[39m,\n\u001b[0;32m   5430\u001b[0m ) \u001b[38;5;241m-\u001b[39m\u001b[38;5;241m>\u001b[39m DataFrame \u001b[38;5;241m|\u001b[39m \u001b[38;5;28;01mNone\u001b[39;00m:\n\u001b[0;32m   5431\u001b[0m \u001b[38;5;250m    \u001b[39m\u001b[38;5;124;03m\"\"\"\u001b[39;00m\n\u001b[0;32m   5432\u001b[0m \u001b[38;5;124;03m    Drop specified labels from rows or columns.\u001b[39;00m\n\u001b[0;32m   5433\u001b[0m \n\u001b[1;32m   (...)\u001b[0m\n\u001b[0;32m   5566\u001b[0m \u001b[38;5;124;03m            weight  1.0     0.8\u001b[39;00m\n\u001b[0;32m   5567\u001b[0m \u001b[38;5;124;03m    \"\"\"\u001b[39;00m\n\u001b[1;32m-> 5568\u001b[0m     \u001b[38;5;28;01mreturn\u001b[39;00m \u001b[38;5;28;43msuper\u001b[39;49m\u001b[43m(\u001b[49m\u001b[43m)\u001b[49m\u001b[38;5;241;43m.\u001b[39;49m\u001b[43mdrop\u001b[49m\u001b[43m(\u001b[49m\n\u001b[0;32m   5569\u001b[0m \u001b[43m        \u001b[49m\u001b[43mlabels\u001b[49m\u001b[38;5;241;43m=\u001b[39;49m\u001b[43mlabels\u001b[49m\u001b[43m,\u001b[49m\n\u001b[0;32m   5570\u001b[0m \u001b[43m        \u001b[49m\u001b[43maxis\u001b[49m\u001b[38;5;241;43m=\u001b[39;49m\u001b[43maxis\u001b[49m\u001b[43m,\u001b[49m\n\u001b[0;32m   5571\u001b[0m \u001b[43m        \u001b[49m\u001b[43mindex\u001b[49m\u001b[38;5;241;43m=\u001b[39;49m\u001b[43mindex\u001b[49m\u001b[43m,\u001b[49m\n\u001b[0;32m   5572\u001b[0m \u001b[43m        \u001b[49m\u001b[43mcolumns\u001b[49m\u001b[38;5;241;43m=\u001b[39;49m\u001b[43mcolumns\u001b[49m\u001b[43m,\u001b[49m\n\u001b[0;32m   5573\u001b[0m \u001b[43m        \u001b[49m\u001b[43mlevel\u001b[49m\u001b[38;5;241;43m=\u001b[39;49m\u001b[43mlevel\u001b[49m\u001b[43m,\u001b[49m\n\u001b[0;32m   5574\u001b[0m \u001b[43m        \u001b[49m\u001b[43minplace\u001b[49m\u001b[38;5;241;43m=\u001b[39;49m\u001b[43minplace\u001b[49m\u001b[43m,\u001b[49m\n\u001b[0;32m   5575\u001b[0m \u001b[43m        \u001b[49m\u001b[43merrors\u001b[49m\u001b[38;5;241;43m=\u001b[39;49m\u001b[43merrors\u001b[49m\u001b[43m,\u001b[49m\n\u001b[0;32m   5576\u001b[0m \u001b[43m    \u001b[49m\u001b[43m)\u001b[49m\n",
      "File \u001b[1;32m~\\AppData\\Local\\Packages\\PythonSoftwareFoundation.Python.3.11_qbz5n2kfra8p0\\LocalCache\\local-packages\\Python311\\site-packages\\pandas\\core\\generic.py:4785\u001b[0m, in \u001b[0;36mNDFrame.drop\u001b[1;34m(self, labels, axis, index, columns, level, inplace, errors)\u001b[0m\n\u001b[0;32m   4783\u001b[0m \u001b[38;5;28;01mfor\u001b[39;00m axis, labels \u001b[38;5;129;01min\u001b[39;00m axes\u001b[38;5;241m.\u001b[39mitems():\n\u001b[0;32m   4784\u001b[0m     \u001b[38;5;28;01mif\u001b[39;00m labels \u001b[38;5;129;01mis\u001b[39;00m \u001b[38;5;129;01mnot\u001b[39;00m \u001b[38;5;28;01mNone\u001b[39;00m:\n\u001b[1;32m-> 4785\u001b[0m         obj \u001b[38;5;241m=\u001b[39m \u001b[43mobj\u001b[49m\u001b[38;5;241;43m.\u001b[39;49m\u001b[43m_drop_axis\u001b[49m\u001b[43m(\u001b[49m\u001b[43mlabels\u001b[49m\u001b[43m,\u001b[49m\u001b[43m \u001b[49m\u001b[43maxis\u001b[49m\u001b[43m,\u001b[49m\u001b[43m \u001b[49m\u001b[43mlevel\u001b[49m\u001b[38;5;241;43m=\u001b[39;49m\u001b[43mlevel\u001b[49m\u001b[43m,\u001b[49m\u001b[43m \u001b[49m\u001b[43merrors\u001b[49m\u001b[38;5;241;43m=\u001b[39;49m\u001b[43merrors\u001b[49m\u001b[43m)\u001b[49m\n\u001b[0;32m   4787\u001b[0m \u001b[38;5;28;01mif\u001b[39;00m inplace:\n\u001b[0;32m   4788\u001b[0m     \u001b[38;5;28mself\u001b[39m\u001b[38;5;241m.\u001b[39m_update_inplace(obj)\n",
      "File \u001b[1;32m~\\AppData\\Local\\Packages\\PythonSoftwareFoundation.Python.3.11_qbz5n2kfra8p0\\LocalCache\\local-packages\\Python311\\site-packages\\pandas\\core\\generic.py:4827\u001b[0m, in \u001b[0;36mNDFrame._drop_axis\u001b[1;34m(self, labels, axis, level, errors, only_slice)\u001b[0m\n\u001b[0;32m   4825\u001b[0m         new_axis \u001b[38;5;241m=\u001b[39m axis\u001b[38;5;241m.\u001b[39mdrop(labels, level\u001b[38;5;241m=\u001b[39mlevel, errors\u001b[38;5;241m=\u001b[39merrors)\n\u001b[0;32m   4826\u001b[0m     \u001b[38;5;28;01melse\u001b[39;00m:\n\u001b[1;32m-> 4827\u001b[0m         new_axis \u001b[38;5;241m=\u001b[39m \u001b[43maxis\u001b[49m\u001b[38;5;241;43m.\u001b[39;49m\u001b[43mdrop\u001b[49m\u001b[43m(\u001b[49m\u001b[43mlabels\u001b[49m\u001b[43m,\u001b[49m\u001b[43m \u001b[49m\u001b[43merrors\u001b[49m\u001b[38;5;241;43m=\u001b[39;49m\u001b[43merrors\u001b[49m\u001b[43m)\u001b[49m\n\u001b[0;32m   4828\u001b[0m     indexer \u001b[38;5;241m=\u001b[39m axis\u001b[38;5;241m.\u001b[39mget_indexer(new_axis)\n\u001b[0;32m   4830\u001b[0m \u001b[38;5;66;03m# Case for non-unique axis\u001b[39;00m\n\u001b[0;32m   4831\u001b[0m \u001b[38;5;28;01melse\u001b[39;00m:\n",
      "File \u001b[1;32m~\\AppData\\Local\\Packages\\PythonSoftwareFoundation.Python.3.11_qbz5n2kfra8p0\\LocalCache\\local-packages\\Python311\\site-packages\\pandas\\core\\indexes\\base.py:7070\u001b[0m, in \u001b[0;36mIndex.drop\u001b[1;34m(self, labels, errors)\u001b[0m\n\u001b[0;32m   7068\u001b[0m \u001b[38;5;28;01mif\u001b[39;00m mask\u001b[38;5;241m.\u001b[39many():\n\u001b[0;32m   7069\u001b[0m     \u001b[38;5;28;01mif\u001b[39;00m errors \u001b[38;5;241m!=\u001b[39m \u001b[38;5;124m\"\u001b[39m\u001b[38;5;124mignore\u001b[39m\u001b[38;5;124m\"\u001b[39m:\n\u001b[1;32m-> 7070\u001b[0m         \u001b[38;5;28;01mraise\u001b[39;00m \u001b[38;5;167;01mKeyError\u001b[39;00m(\u001b[38;5;124mf\u001b[39m\u001b[38;5;124m\"\u001b[39m\u001b[38;5;132;01m{\u001b[39;00mlabels[mask]\u001b[38;5;241m.\u001b[39mtolist()\u001b[38;5;132;01m}\u001b[39;00m\u001b[38;5;124m not found in axis\u001b[39m\u001b[38;5;124m\"\u001b[39m)\n\u001b[0;32m   7071\u001b[0m     indexer \u001b[38;5;241m=\u001b[39m indexer[\u001b[38;5;241m~\u001b[39mmask]\n\u001b[0;32m   7072\u001b[0m \u001b[38;5;28;01mreturn\u001b[39;00m \u001b[38;5;28mself\u001b[39m\u001b[38;5;241m.\u001b[39mdelete(indexer)\n",
      "\u001b[1;31mKeyError\u001b[0m: \"['Age'] not found in axis\""
     ]
    }
   ],
   "source": [
    "# Remove the other condition to prevent interference.\n",
    "merged_data = merged_data.drop(columns=['Gender'], errors='ignore').astype('float')\n",
    "\n",
    "X = merged_data.drop(columns=[TRAIT, condition]).values\n",
    "Y = merged_data[TRAIT].values\n",
    "Z = merged_data[condition].values"
   ]
  },
  {
   "cell_type": "markdown",
   "metadata": {
    "collapsed": false
   },
   "source": [
    "\n",
    "\n",
    "\n",
    "Select the appropriate regression model depending on whether the dataset shows batch effect."
   ]
  },
  {
   "cell_type": "code",
   "execution_count": 95,
   "metadata": {
    "ExecuteTime": {
     "end_time": "2024-02-27T00:23:38.660228117Z",
     "start_time": "2024-02-27T00:23:38.411536280Z"
    },
    "collapsed": false
   },
   "outputs": [
    {
     "ename": "NameError",
     "evalue": "name 'X' is not defined",
     "output_type": "error",
     "traceback": [
      "\u001b[1;31m---------------------------------------------------------------------------\u001b[0m",
      "\u001b[1;31mNameError\u001b[0m                                 Traceback (most recent call last)",
      "Cell \u001b[1;32mIn[95], line 1\u001b[0m\n\u001b[1;32m----> 1\u001b[0m has_batch_effect \u001b[38;5;241m=\u001b[39m detect_batch_effect(\u001b[43mX\u001b[49m)\n\u001b[0;32m      2\u001b[0m has_batch_effect\n",
      "\u001b[1;31mNameError\u001b[0m: name 'X' is not defined"
     ]
    }
   ],
   "source": [
    "has_batch_effect = detect_batch_effect(X)\n",
    "has_batch_effect"
   ]
  },
  {
   "cell_type": "code",
   "execution_count": 49,
   "metadata": {
    "ExecuteTime": {
     "end_time": "2024-02-27T00:23:38.713688031Z",
     "start_time": "2024-02-27T00:23:38.660009818Z"
    },
    "collapsed": false
   },
   "outputs": [],
   "source": [
    "# Select appropriate models based on whether the dataset has batch effect.\n",
    "# We experiment on two models for each branch. We will decide which one to choose later.\n",
    "\n",
    "if has_batch_effect:\n",
    "    model_constructor1 = VariableSelection\n",
    "    model_params1 = {'modified': True, 'lamda': 3e-4}\n",
    "    model_constructor2 = VariableSelection\n",
    "    model_params2 = {'modified': False}\n",
    "else:\n",
    "    model_constructor1 = Lasso\n",
    "    model_params1 = {'alpha': 1.0, 'random_state': 42}\n",
    "    model_constructor2 = VariableSelection\n",
    "    model_params2 = {'modified': False}"
   ]
  },
  {
   "cell_type": "code",
   "execution_count": 50,
   "metadata": {
    "ExecuteTime": {
     "end_time": "2024-02-27T00:23:41.714245522Z",
     "start_time": "2024-02-27T00:23:38.703272032Z"
    },
    "collapsed": false
   },
   "outputs": [
    {
     "name": "stdout",
     "output_type": "stream",
     "text": [
      "alpha for Lasso: 0.0003\n",
      "alpha for Lasso: 0.0003\n",
      "alpha for Lasso: 0.0003\n",
      "alpha for Lasso: 0.0003\n",
      "alpha for Lasso: 0.0003\n",
      "The cross-validation accuracy is 67.82% ± 6.72%\n"
     ]
    }
   ],
   "source": [
    "trait_type = 'binary'  # Remember to set this properly, either 'binary' or 'continuous'\n",
    "cv_mean1, cv_std1 = cross_validation(X, Y, Z, model_constructor1, model_params1, target_type=trait_type)"
   ]
  },
  {
   "cell_type": "code",
   "execution_count": 51,
   "metadata": {
    "ExecuteTime": {
     "end_time": "2024-02-27T00:23:58.274133852Z",
     "start_time": "2024-02-27T00:23:41.714766427Z"
    },
    "collapsed": false
   },
   "outputs": [
    {
     "name": "stderr",
     "output_type": "stream",
     "text": [
      "/home/techt/anaconda3/envs/hl/lib/python3.8/site-packages/sparse_lmm/helpingMethods.py:49: RuntimeWarning: invalid value encountered in divide\n",
      "  ts = beta / np.sqrt(var * sigma)\n",
      "/home/techt/anaconda3/envs/hl/lib/python3.8/site-packages/sparse_lmm/helpingMethods.py:49: RuntimeWarning: invalid value encountered in divide\n",
      "  ts = beta / np.sqrt(var * sigma)\n",
      "/home/techt/anaconda3/envs/hl/lib/python3.8/site-packages/sparse_lmm/helpingMethods.py:49: RuntimeWarning: invalid value encountered in divide\n",
      "  ts = beta / np.sqrt(var * sigma)\n",
      "/home/techt/anaconda3/envs/hl/lib/python3.8/site-packages/sparse_lmm/helpingMethods.py:49: RuntimeWarning: invalid value encountered in divide\n",
      "  ts = beta / np.sqrt(var * sigma)\n",
      "/home/techt/anaconda3/envs/hl/lib/python3.8/site-packages/sparse_lmm/helpingMethods.py:49: RuntimeWarning: invalid value encountered in divide\n",
      "  ts = beta / np.sqrt(var * sigma)\n"
     ]
    },
    {
     "name": "stdout",
     "output_type": "stream",
     "text": [
      "The cross-validation accuracy is 90.86% ± 0.84%\n"
     ]
    }
   ],
   "source": [
    "cv_mean2, cv_std2 = cross_validation(X, Y, Z, model_constructor2, model_params2, target_type=trait_type)"
   ]
  },
  {
   "cell_type": "code",
   "execution_count": 52,
   "metadata": {
    "ExecuteTime": {
     "end_time": "2024-02-27T00:24:02.476194192Z",
     "start_time": "2024-02-27T00:23:58.272434972Z"
    },
    "collapsed": false
   },
   "outputs": [
    {
     "name": "stdout",
     "output_type": "stream",
     "text": [
      "alpha for Lasso: 0.0003\n"
     ]
    },
    {
     "name": "stderr",
     "output_type": "stream",
     "text": [
      "/home/techt/anaconda3/envs/hl/lib/python3.8/site-packages/sparse_lmm/helpingMethods.py:49: RuntimeWarning: invalid value encountered in divide\n",
      "  ts = beta / np.sqrt(var * sigma)\n"
     ]
    }
   ],
   "source": [
    "normalized_X, _ = normalize_data(X)\n",
    "normalized_Z, _ = normalize_data(Z)\n",
    "\n",
    "# Train regression model on the whole dataset to identify significant genes\n",
    "model1 = ResidualizationRegressor(model_constructor1, model_params1)\n",
    "model1.fit(normalized_X, Y, normalized_Z)\n",
    "\n",
    "model2 = ResidualizationRegressor(model_constructor2, model_params2)\n",
    "model2.fit(normalized_X, Y, normalized_Z)"
   ]
  },
  {
   "cell_type": "markdown",
   "metadata": {
    "ExecuteTime": {
     "end_time": "2023-10-14T04:50:59.072075075Z",
     "start_time": "2023-10-14T04:50:38.739499998Z"
    },
    "id": "EjJrxbvb4nlj"
   },
   "source": [
    "### 4. Discussion and report"
   ]
  },
  {
   "cell_type": "code",
   "execution_count": 53,
   "metadata": {
    "ExecuteTime": {
     "end_time": "2024-02-27T00:24:02.485641600Z",
     "start_time": "2024-02-27T00:24:02.477523460Z"
    },
    "collapsed": false
   },
   "outputs": [
    {
     "name": "stdout",
     "output_type": "stream",
     "text": [
      "Effect of the condition on the target variable:\n",
      "Variable: Age\n",
      "Coefficient: 0.0065\n",
      "Found 4 genes with non-zero coefficients associated with the trait 'Breast Cancer' conditional on the factor 'Age'. These genes are identified as significant based on the regression model.\n",
      "    Variable  Coefficient  Absolute Coefficient\n",
      "     C5orf52    -0.503090              0.503090\n",
      "LOC100129935    -0.091620              0.091620\n",
      "        HAO2     0.043399              0.043399\n",
      "      TTTY21    -0.008845              0.008845\n"
     ]
    },
    {
     "name": "stderr",
     "output_type": "stream",
     "text": [
      "/home/techt/AI4Science_gold_standard/utils.py:486: SettingWithCopyWarning: \n",
      "A value is trying to be set on a copy of a slice from a DataFrame.\n",
      "Try using .loc[row_indexer,col_indexer] = value instead\n",
      "\n",
      "See the caveats in the documentation: https://pandas.pydata.org/pandas-docs/stable/user_guide/indexing.html#returning-a-view-versus-a-copy\n",
      "  gene_regression_df['Absolute Coefficient'] = gene_regression_df['Coefficient'].abs()\n"
     ]
    }
   ],
   "source": [
    "feature_cols = merged_data.columns.tolist()\n",
    "feature_cols.remove(TRAIT)\n",
    "\n",
    "threshold = 0.05\n",
    "interpret_result(model1, feature_cols, TRAIT, condition, threshold=threshold, save_output=True,\n",
    "                 output_dir=OUTPUT_DIR, model_id=1)"
   ]
  },
  {
   "cell_type": "code",
   "execution_count": 54,
   "metadata": {
    "ExecuteTime": {
     "end_time": "2024-02-27T00:24:02.496973825Z",
     "start_time": "2024-02-27T00:24:02.485560148Z"
    },
    "collapsed": false
   },
   "outputs": [
    {
     "name": "stdout",
     "output_type": "stream",
     "text": [
      "Effect of the condition on the target variable:\n",
      "Variable: Age\n",
      "Coefficient: 0.0065\n",
      "Found 56 significant genes associated with the trait 'Breast Cancer' conditional on the factor 'Age', with corrected p-value < 0.05:\n",
      " Variable  Coefficient      p_value  corrected_p_value\n",
      "  COL10A1     0.139801 2.272959e-32       3.941083e-28\n",
      "      BGN     0.096090 1.371919e-18       1.189385e-14\n",
      "    MMP11     0.082105 1.200864e-14       6.940595e-11\n",
      "  HSD17B6     0.051075 5.396057e-11       2.099223e-07\n",
      "   CTHRC1     0.058965 6.696716e-11       2.099223e-07\n",
      "    MFAP5    -0.055412 7.264165e-11       2.099223e-07\n",
      "   OR51D1     0.023976 1.231414e-09       3.050213e-06\n",
      "   CLEC5A     0.046623 1.873539e-09       4.060661e-06\n",
      "       GC     0.027701 5.093728e-09       9.813350e-06\n",
      "      FN1     0.064388 3.437602e-08       5.960458e-05\n",
      "  C1QTNF6     0.050616 5.341210e-08       7.717604e-05\n",
      "     COMP     0.040724 5.254171e-08       7.717604e-05\n",
      "   LRRC15     0.051955 6.597041e-08       8.798931e-05\n",
      "    INHBA     0.050265 4.503237e-07       5.222718e-04\n",
      "     ECM2    -0.067315 4.518182e-07       5.222718e-04\n",
      "    CILP2     0.041136 4.902079e-07       5.312321e-04\n",
      "    FNDC1     0.041567 9.997157e-07       1.019651e-03\n",
      "  SLC24A2     0.043677 1.088907e-06       1.048920e-03\n",
      "     VCAN     0.060144 1.465059e-06       1.336982e-03\n",
      "      DCN    -0.061377 1.598331e-06       1.385673e-03\n",
      "    CD248    -0.047072 1.713127e-06       1.414472e-03\n",
      "      FAP     0.061535 1.970426e-06       1.552964e-03\n",
      "    P4HA3     0.043197 2.226118e-06       1.678202e-03\n",
      "      F2R     0.042153 2.823189e-06       2.039636e-03\n",
      "    MFAP2     0.046080 3.173463e-06       2.200987e-03\n",
      "  OLFML2A    -0.036874 3.441412e-06       2.295025e-03\n",
      "     HEYL     0.037219 4.178849e-06       2.683595e-03\n",
      "    OR2L3    -0.017440 4.804225e-06       2.975016e-03\n",
      "POM121L12     0.029506 5.325683e-06       3.184208e-03\n",
      "   COL5A2     0.063997 5.989358e-06       3.461649e-03\n",
      "    SPARC     0.055097 6.679719e-06       3.736118e-03\n",
      "   OLFML1    -0.061369 9.075918e-06       4.917729e-03\n",
      "      MAF    -0.039889 1.228983e-05       6.457376e-03\n",
      "    LOXL1     0.043604 1.607333e-05       8.196928e-03\n",
      "  CYP19A1     0.021867 1.833526e-05       9.083287e-03\n",
      "   LEFTY2     0.025998 3.583211e-05       1.725814e-02\n",
      "   KBTBD6    -0.030732 3.743350e-05       1.754215e-02\n",
      "     NRG3    -0.019332 3.930243e-05       1.793329e-02\n",
      "    PRDM8    -0.037232 4.162295e-05       1.850514e-02\n",
      "    CFHR5    -0.018284 4.601881e-05       1.994801e-02\n",
      "   COL1A1     0.046078 5.430926e-05       2.296752e-02\n",
      "    WNT8A     0.014852 6.121294e-05       2.468305e-02\n",
      "    GNG11    -0.066023 6.120003e-05       2.468305e-02\n",
      "   ADAM12     0.041917 6.725552e-05       2.650326e-02\n",
      "    GGT8P    -0.017786 8.624514e-05       3.323121e-02\n",
      "     RECK    -0.052323 9.888791e-05       3.727429e-02\n",
      "     CNTF    -0.020411 1.139612e-04       3.991115e-02\n",
      "   CLEC3B    -0.040284 1.150907e-04       3.991115e-02\n",
      "   PCOLCE    -0.047793 1.150044e-04       3.991115e-02\n",
      " SERPINE1     0.025811 1.125835e-04       3.991115e-02\n",
      "     ACAN     0.024426 1.178990e-04       4.008335e-02\n",
      "  TMEM119     0.035586 1.240881e-04       4.137624e-02\n",
      "    KCNC1    -0.023441 1.413518e-04       4.624336e-02\n",
      "  OLFML2B     0.035631 1.451487e-04       4.660618e-02\n",
      "    SRPX2    -0.033834 1.589026e-04       4.920021e-02\n",
      "      SST    -0.014828 1.562419e-04       4.920021e-02\n"
     ]
    },
    {
     "name": "stderr",
     "output_type": "stream",
     "text": [
      "/home/techt/AI4Science_gold_standard/utils.py:495: SettingWithCopyWarning: \n",
      "A value is trying to be set on a copy of a slice from a DataFrame.\n",
      "Try using .loc[row_indexer,col_indexer] = value instead\n",
      "\n",
      "See the caveats in the documentation: https://pandas.pydata.org/pandas-docs/stable/user_guide/indexing.html#returning-a-view-versus-a-copy\n",
      "  gene_regression_df.loc[:, 'corrected_p_value'] = corrected_p_values\n"
     ]
    }
   ],
   "source": [
    "interpret_result(model2, feature_cols, TRAIT, condition, threshold=threshold, save_output=True,\n",
    "                 output_dir=OUTPUT_DIR, model_id=2)"
   ]
  },
  {
   "cell_type": "code",
   "execution_count": null,
   "metadata": {
    "collapsed": false
   },
   "outputs": [],
   "source": []
  }
 ],
 "metadata": {
  "colab": {
   "provenance": []
  },
  "kernelspec": {
   "display_name": "Python 3 (ipykernel)",
   "language": "python",
   "name": "python3"
  },
  "language_info": {
   "codemirror_mode": {
    "name": "ipython",
    "version": 3
   },
   "file_extension": ".py",
   "mimetype": "text/x-python",
   "name": "python",
   "nbconvert_exporter": "python",
   "pygments_lexer": "ipython3",
   "version": "3.11.9"
  }
 },
 "nbformat": 4,
 "nbformat_minor": 0
}
