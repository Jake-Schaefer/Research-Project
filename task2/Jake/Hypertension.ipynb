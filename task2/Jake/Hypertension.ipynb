{
 "cells": [
  {
   "cell_type": "markdown",
   "metadata": {
    "collapsed": false
   },
   "source": [
    "# Gold standard curation: Preprocessing and single-step regression"
   ]
  },
  {
   "cell_type": "markdown",
   "metadata": {
    "collapsed": false
   },
   "source": [
    "In this stage of gold standard curation, we will do the data preprocessing, selection, and single-step regression for the 153 traits in our question set. The workflow consists of the following steps:\n",
    "\n",
    "1. Preprocess all the cohorts related to this trait. Each cohort should be converted to a tabular form and saved to a csv file, with columns being genetic factors, the trait, and age, gender if available;\n",
    "2. If there exists at least one cohort with age or gender information, conduct regression analysis with genetic features together with age or gender as the regressors.\n"
   ]
  },
  {
   "cell_type": "markdown",
   "metadata": {
    "collapsed": false
   },
   "source": [
    "# 1. Basic setup"
   ]
  },
  {
   "cell_type": "code",
   "execution_count": 3,
   "metadata": {
    "ExecuteTime": {
     "end_time": "2024-01-02T01:02:53.240839272Z",
     "start_time": "2024-01-02T01:02:53.240575109Z"
    },
    "collapsed": false
   },
   "outputs": [],
   "source": [
    "import os\n",
    "import sys\n",
    "\n",
    "sys.path.append('..')\n",
    "# Set your preferred name\n",
    "USER = \"Yuxuan\"\n",
    "# Set the data and output directories\n",
    "DATA_ROOT = '/home/yxcheng'\n",
    "OUTPUT_ROOT = '../../output1'\n",
    "TRAIT = 'Hypertension'\n",
    "\n",
    "OUTPUT_DIR = os.path.join(OUTPUT_ROOT, USER, '-'.join(TRAIT.split()))\n",
    "JSON_PATH = os.path.join(OUTPUT_DIR, \"cohort_info.json\")\n",
    "if not os.path.exists(OUTPUT_DIR):\n",
    "    os.makedirs(OUTPUT_DIR, exist_ok=True)\n",
    "\n",
    "# Gene symbol normalization may take 1-2 minutes. You may set it to False for debugging.\n",
    "NORMALIZE_GENE = True"
   ]
  },
  {
   "cell_type": "code",
   "execution_count": 2,
   "metadata": {
    "ExecuteTime": {
     "end_time": "2024-01-02T01:02:53.501910797Z",
     "start_time": "2024-01-02T01:02:53.496254990Z"
    },
    "colab": {
     "base_uri": "https://localhost:8080/"
    },
    "id": "jMTdsU43vVg3",
    "outputId": "38886111-f442-44b4-8398-96bf384d7abd"
   },
   "outputs": [
    {
     "data": {
      "text/plain": [
       "\"import os\\nfrom google.colab import drive\\n\\ndrive.mount('/content/drive', force_remount=True)\\nproj_dir = '/content/drive/MyDrive/AI4Science_Public'\\nos.chdir(proj_dir)\""
      ]
     },
     "execution_count": 2,
     "metadata": {},
     "output_type": "execute_result"
    }
   ],
   "source": [
    "# This cell is only for use on Google Colab. Skip it if you run your code in other environments\n",
    "\n",
    "\"\"\"import os\n",
    "from google.colab import drive\n",
    "\n",
    "drive.mount('/content/drive', force_remount=True)\n",
    "proj_dir = '/content/drive/MyDrive/AI4Science_Public'\n",
    "os.chdir(proj_dir)\"\"\""
   ]
  },
  {
   "cell_type": "markdown",
   "metadata": {
    "collapsed": false
   },
   "source": [
    "# 2. Data preprocessing and selection"
   ]
  },
  {
   "cell_type": "markdown",
   "metadata": {
    "collapsed": false
   },
   "source": [
    "## 2.1. The TCGA Xena dataset"
   ]
  },
  {
   "cell_type": "markdown",
   "metadata": {
    "collapsed": false
   },
   "source": [
    "In TCGA Xena, there is either zero or one cohort related to the trait. We search the names of subdirectories to see if any matches the trait. If a match is found, we directly obtain the file paths."
   ]
  },
  {
   "cell_type": "code",
   "execution_count": 4,
   "metadata": {
    "ExecuteTime": {
     "end_time": "2024-01-02T01:02:56.462746833Z",
     "start_time": "2024-01-02T01:02:55.818581842Z"
    },
    "collapsed": false
   },
   "outputs": [
    {
     "data": {
      "text/plain": [
       "['TCGA_Adrenocortical_Cancer_(ACC)',\n",
       " 'TCGA_Bile_Duct_Cancer_(CHOL)',\n",
       " 'TCGA_Lower_Grade_Glioma_(LGG)',\n",
       " 'TCGA_Acute_Myeloid_Leukemia_(LAML)',\n",
       " 'TCGA_Esophageal_Cancer_(ESCA)',\n",
       " 'TCGA_Thyroid_Cancer_(THCA)',\n",
       " 'TCGA_Ocular_melanomas_(UVM)',\n",
       " 'TCGA_Ovarian_Cancer_(OV)',\n",
       " 'TCGA_Prostate_Cancer_(PRAD)',\n",
       " 'CrawlData.ipynb',\n",
       " 'TCGA_Kidney_Papillary_Cell_Carcinoma_(KIRP)',\n",
       " 'TCGA_Lung_Cancer_(LUNG)',\n",
       " 'TCGA_Endometrioid_Cancer_(UCEC)',\n",
       " 'TCGA_Testicular_Cancer_(TGCT)',\n",
       " 'TCGA_lower_grade_glioma_and_glioblastoma_(GBMLGG)',\n",
       " 'TCGA_Pancreatic_Cancer_(PAAD)',\n",
       " 'TCGA_Glioblastoma_(GBM)',\n",
       " 'TCGA_Melanoma_(SKCM)',\n",
       " 'TCGA_Kidney_Clear_Cell_Carcinoma_(KIRC)',\n",
       " 'TCGA_Mesothelioma_(MESO)',\n",
       " 'TCGA_Rectal_Cancer_(READ)',\n",
       " 'TCGA_Head_and_Neck_Cancer_(HNSC)',\n",
       " 'TCGA_Large_Bcell_Lymphoma_(DLBC)',\n",
       " 'TCGA_Uterine_Carcinosarcoma_(UCS)',\n",
       " 'TCGA_Colon_Cancer_(COAD)',\n",
       " 'TCGA_Breast_Cancer_(BRCA)',\n",
       " 'TCGA_Bladder_Cancer_(BLCA)',\n",
       " 'TCGA_Sarcoma_(SARC)',\n",
       " 'TCGA_Lung_Squamous_Cell_Carcinoma_(LUSC)',\n",
       " 'TCGA_Cervical_Cancer_(CESC)',\n",
       " 'TCGA_Kidney_Chromophobe_(KICH)',\n",
       " 'TCGA_Stomach_Cancer_(STAD)',\n",
       " 'TCGA_Lung_Adenocarcinoma_(LUAD)',\n",
       " '.DS_Store',\n",
       " 'TCGA_Thymoma_(THYM)',\n",
       " 'TCGA_Colon_and_Rectal_Cancer_(COADREAD)',\n",
       " 'TCGA_Pheochromocytoma_Paraganglioma_(PCPG)',\n",
       " 'TCGA_Liver_Cancer_(LIHC)']"
      ]
     },
     "execution_count": 4,
     "metadata": {},
     "output_type": "execute_result"
    }
   ],
   "source": [
    "import os\n",
    "from utils import *\n",
    "\n",
    "dataset = 'TCGA'\n",
    "dataset_dir = os.path.join(DATA_ROOT, dataset)\n",
    "os.listdir(dataset_dir)[:]"
   ]
  },
  {
   "cell_type": "markdown",
   "metadata": {
    "collapsed": false
   },
   "source": [
    "If no match is found, jump directly to GEO in Part 2.2"
   ]
  },
  {
   "cell_type": "code",
   "execution_count": 27,
   "metadata": {
    "collapsed": false
   },
   "outputs": [],
   "source": [
    "trait_subdir = \"TCGA_Lung_Cancer_(LUNG)\"\n",
    "cohort = 'Xena'\n",
    "# All the cancer traits in Xena are binary\n",
    "trait_type = 'binary'\n",
    "# Once a relevant cohort is found in Xena, we can generally assume the gene and clinical data are available\n",
    "is_available = True\n",
    "\n",
    "clinical_data_file = os.path.join(dataset_dir, trait_subdir, 'TCGA.LUNG.sampleMap_LUNG_clinicalMatrix')\n",
    "genetic_data_file = os.path.join(dataset_dir, trait_subdir, 'TCGA.LUNG.sampleMap_HiSeqV2_PANCAN.gz')"
   ]
  },
  {
   "cell_type": "code",
   "execution_count": 28,
   "metadata": {
    "id": "MudwB-_iz7sc"
   },
   "outputs": [
    {
     "ename": "ParserError",
     "evalue": "Error tokenizing data. C error: Calling read(nbytes) on source failed. Try engine='python'.",
     "output_type": "error",
     "traceback": [
      "\u001b[0;31m---------------------------------------------------------------------------\u001b[0m",
      "\u001b[0;31mParserError\u001b[0m                               Traceback (most recent call last)",
      "\u001b[1;32m/home/yxcheng/AI4Science_gold_standard/stage1/Yuxuan/Psoriasis.ipynb 单元格 12\u001b[0m line \u001b[0;36m4\n\u001b[1;32m      <a href='vscode-notebook-cell://ssh-remote%2B218.199.69.68/home/yxcheng/AI4Science_gold_standard/stage1/Yuxuan/Psoriasis.ipynb#X14sdnNjb2RlLXJlbW90ZQ%3D%3D?line=0'>1</a>\u001b[0m \u001b[39mimport\u001b[39;00m \u001b[39mpandas\u001b[39;00m \u001b[39mas\u001b[39;00m \u001b[39mpd\u001b[39;00m\n\u001b[1;32m      <a href='vscode-notebook-cell://ssh-remote%2B218.199.69.68/home/yxcheng/AI4Science_gold_standard/stage1/Yuxuan/Psoriasis.ipynb#X14sdnNjb2RlLXJlbW90ZQ%3D%3D?line=2'>3</a>\u001b[0m clinical_data \u001b[39m=\u001b[39m pd\u001b[39m.\u001b[39mread_csv(clinical_data_file, sep\u001b[39m=\u001b[39m\u001b[39m'\u001b[39m\u001b[39m\\t\u001b[39;00m\u001b[39m'\u001b[39m, index_col\u001b[39m=\u001b[39m\u001b[39m0\u001b[39m)\n\u001b[0;32m----> <a href='vscode-notebook-cell://ssh-remote%2B218.199.69.68/home/yxcheng/AI4Science_gold_standard/stage1/Yuxuan/Psoriasis.ipynb#X14sdnNjb2RlLXJlbW90ZQ%3D%3D?line=3'>4</a>\u001b[0m genetic_data \u001b[39m=\u001b[39m pd\u001b[39m.\u001b[39;49mread_csv(genetic_data_file, compression\u001b[39m=\u001b[39;49m\u001b[39m'\u001b[39;49m\u001b[39mgzip\u001b[39;49m\u001b[39m'\u001b[39;49m, sep\u001b[39m=\u001b[39;49m\u001b[39m'\u001b[39;49m\u001b[39m\\t\u001b[39;49;00m\u001b[39m'\u001b[39;49m, index_col\u001b[39m=\u001b[39;49m\u001b[39m0\u001b[39;49m)\n\u001b[1;32m      <a href='vscode-notebook-cell://ssh-remote%2B218.199.69.68/home/yxcheng/AI4Science_gold_standard/stage1/Yuxuan/Psoriasis.ipynb#X14sdnNjb2RlLXJlbW90ZQ%3D%3D?line=4'>5</a>\u001b[0m age_col \u001b[39m=\u001b[39m gender_col \u001b[39m=\u001b[39m \u001b[39mNone\u001b[39;00m\n",
      "File \u001b[0;32m~/anaconda3/envs/ai4sci/lib/python3.10/site-packages/pandas/io/parsers/readers.py:948\u001b[0m, in \u001b[0;36mread_csv\u001b[0;34m(filepath_or_buffer, sep, delimiter, header, names, index_col, usecols, dtype, engine, converters, true_values, false_values, skipinitialspace, skiprows, skipfooter, nrows, na_values, keep_default_na, na_filter, verbose, skip_blank_lines, parse_dates, infer_datetime_format, keep_date_col, date_parser, date_format, dayfirst, cache_dates, iterator, chunksize, compression, thousands, decimal, lineterminator, quotechar, quoting, doublequote, escapechar, comment, encoding, encoding_errors, dialect, on_bad_lines, delim_whitespace, low_memory, memory_map, float_precision, storage_options, dtype_backend)\u001b[0m\n\u001b[1;32m    935\u001b[0m kwds_defaults \u001b[39m=\u001b[39m _refine_defaults_read(\n\u001b[1;32m    936\u001b[0m     dialect,\n\u001b[1;32m    937\u001b[0m     delimiter,\n\u001b[0;32m   (...)\u001b[0m\n\u001b[1;32m    944\u001b[0m     dtype_backend\u001b[39m=\u001b[39mdtype_backend,\n\u001b[1;32m    945\u001b[0m )\n\u001b[1;32m    946\u001b[0m kwds\u001b[39m.\u001b[39mupdate(kwds_defaults)\n\u001b[0;32m--> 948\u001b[0m \u001b[39mreturn\u001b[39;00m _read(filepath_or_buffer, kwds)\n",
      "File \u001b[0;32m~/anaconda3/envs/ai4sci/lib/python3.10/site-packages/pandas/io/parsers/readers.py:617\u001b[0m, in \u001b[0;36m_read\u001b[0;34m(filepath_or_buffer, kwds)\u001b[0m\n\u001b[1;32m    614\u001b[0m     \u001b[39mreturn\u001b[39;00m parser\n\u001b[1;32m    616\u001b[0m \u001b[39mwith\u001b[39;00m parser:\n\u001b[0;32m--> 617\u001b[0m     \u001b[39mreturn\u001b[39;00m parser\u001b[39m.\u001b[39;49mread(nrows)\n",
      "File \u001b[0;32m~/anaconda3/envs/ai4sci/lib/python3.10/site-packages/pandas/io/parsers/readers.py:1748\u001b[0m, in \u001b[0;36mTextFileReader.read\u001b[0;34m(self, nrows)\u001b[0m\n\u001b[1;32m   1741\u001b[0m nrows \u001b[39m=\u001b[39m validate_integer(\u001b[39m\"\u001b[39m\u001b[39mnrows\u001b[39m\u001b[39m\"\u001b[39m, nrows)\n\u001b[1;32m   1742\u001b[0m \u001b[39mtry\u001b[39;00m:\n\u001b[1;32m   1743\u001b[0m     \u001b[39m# error: \"ParserBase\" has no attribute \"read\"\u001b[39;00m\n\u001b[1;32m   1744\u001b[0m     (\n\u001b[1;32m   1745\u001b[0m         index,\n\u001b[1;32m   1746\u001b[0m         columns,\n\u001b[1;32m   1747\u001b[0m         col_dict,\n\u001b[0;32m-> 1748\u001b[0m     ) \u001b[39m=\u001b[39m \u001b[39mself\u001b[39;49m\u001b[39m.\u001b[39;49m_engine\u001b[39m.\u001b[39;49mread(  \u001b[39m# type: ignore[attr-defined]\u001b[39;49;00m\n\u001b[1;32m   1749\u001b[0m         nrows\n\u001b[1;32m   1750\u001b[0m     )\n\u001b[1;32m   1751\u001b[0m \u001b[39mexcept\u001b[39;00m \u001b[39mException\u001b[39;00m:\n\u001b[1;32m   1752\u001b[0m     \u001b[39mself\u001b[39m\u001b[39m.\u001b[39mclose()\n",
      "File \u001b[0;32m~/anaconda3/envs/ai4sci/lib/python3.10/site-packages/pandas/io/parsers/c_parser_wrapper.py:234\u001b[0m, in \u001b[0;36mCParserWrapper.read\u001b[0;34m(self, nrows)\u001b[0m\n\u001b[1;32m    232\u001b[0m \u001b[39mtry\u001b[39;00m:\n\u001b[1;32m    233\u001b[0m     \u001b[39mif\u001b[39;00m \u001b[39mself\u001b[39m\u001b[39m.\u001b[39mlow_memory:\n\u001b[0;32m--> 234\u001b[0m         chunks \u001b[39m=\u001b[39m \u001b[39mself\u001b[39;49m\u001b[39m.\u001b[39;49m_reader\u001b[39m.\u001b[39;49mread_low_memory(nrows)\n\u001b[1;32m    235\u001b[0m         \u001b[39m# destructive to chunks\u001b[39;00m\n\u001b[1;32m    236\u001b[0m         data \u001b[39m=\u001b[39m _concatenate_chunks(chunks)\n",
      "File \u001b[0;32mparsers.pyx:843\u001b[0m, in \u001b[0;36mpandas._libs.parsers.TextReader.read_low_memory\u001b[0;34m()\u001b[0m\n",
      "File \u001b[0;32mparsers.pyx:904\u001b[0m, in \u001b[0;36mpandas._libs.parsers.TextReader._read_rows\u001b[0;34m()\u001b[0m\n",
      "File \u001b[0;32mparsers.pyx:879\u001b[0m, in \u001b[0;36mpandas._libs.parsers.TextReader._tokenize_rows\u001b[0;34m()\u001b[0m\n",
      "File \u001b[0;32mparsers.pyx:890\u001b[0m, in \u001b[0;36mpandas._libs.parsers.TextReader._check_tokenize_status\u001b[0;34m()\u001b[0m\n",
      "File \u001b[0;32mparsers.pyx:2058\u001b[0m, in \u001b[0;36mpandas._libs.parsers.raise_parser_error\u001b[0;34m()\u001b[0m\n",
      "\u001b[0;31mParserError\u001b[0m: Error tokenizing data. C error: Calling read(nbytes) on source failed. Try engine='python'."
     ]
    }
   ],
   "source": [
    "import pandas as pd\n",
    "\n",
    "clinical_data = pd.read_csv(clinical_data_file, sep='\\t', index_col=0)\n",
    "genetic_data = pd.read_csv(genetic_data_file, compression='gzip', sep='\\t', index_col=0)\n",
    "age_col = gender_col = None"
   ]
  },
  {
   "cell_type": "code",
   "execution_count": null,
   "metadata": {
    "collapsed": false
   },
   "outputs": [],
   "source": [
    "_, clinical_data_cols = check_rows_and_columns(clinical_data)"
   ]
  },
  {
   "cell_type": "code",
   "execution_count": null,
   "metadata": {
    "collapsed": false
   },
   "outputs": [
    {
     "data": {
      "text/plain": [
       "['ABSOLUTE_Ploidy',\n",
       " 'ABSOLUTE_Purity',\n",
       " 'AKT1',\n",
       " 'ALK_translocation',\n",
       " 'BRAF',\n",
       " 'CBL',\n",
       " 'CTNNB1',\n",
       " 'Canonical_mut_in_KRAS_EGFR_ALK',\n",
       " 'Cnncl_mt_n_KRAS_EGFR_ALK_RET_ROS1_BRAF_ERBB2_HRAS_NRAS_AKT1_MAP2',\n",
       " 'EGFR']"
      ]
     },
     "execution_count": 8,
     "metadata": {},
     "output_type": "execute_result"
    }
   ],
   "source": [
    "clinical_data_cols[:10]"
   ]
  },
  {
   "cell_type": "markdown",
   "metadata": {
    "ExecuteTime": {
     "end_time": "2023-12-28T20:20:11.841042813Z",
     "start_time": "2023-12-28T20:20:11.834458206Z"
    },
    "collapsed": false
   },
   "source": [
    "Read all the column names in the clinical dataset, to find the columns that record information about age or gender.\n",
    "Reference prompt:"
   ]
  },
  {
   "cell_type": "code",
   "execution_count": null,
   "metadata": {
    "collapsed": false
   },
   "outputs": [
    {
     "data": {
      "text/plain": [
       "\"\\nBelow is a list of column names from a biomedical dataset. Please examine it and identify the columns that are likely to contain information about patients' age. Additionally, please do the same for columns that may hold data on patients' gender. Please provide your answer by strictly following this format, without redundant words:\\ncandidate_age_cols = [col_name1, col_name2, ...]\\ncandidate_gender_cols = [col_name1, col_name2, ...]\\nIf no columns match a criterion, please provide an empty list.\\n\\nColumn names:\\n['ABSOLUTE_Ploidy', 'ABSOLUTE_Purity', 'AKT1', 'ALK_translocation', 'BRAF', 'CBL', 'CTNNB1', 'Canonical_mut_in_KRAS_EGFR_ALK', 'Cnncl_mt_n_KRAS_EGFR_ALK_RET_ROS1_BRAF_ERBB2_HRAS_NRAS_AKT1_MAP2', 'EGFR', 'ERBB2', 'ERBB4', 'Estimated_allele_fraction_of_a_clonal_varnt_prsnt_t_1_cpy_pr_cll', 'Expression_Subtype', 'HRAS', 'KRAS', 'MAP2K1', 'MET', 'NRAS', 'PIK3CA', 'PTPN11', 'Pathology', 'Pathology_Updated', 'RET_translocation', 'ROS1_translocation', 'STK11', 'WGS_as_of_20120731_0_no_1_yes', '_INTEGRATION', '_PANCAN_CNA_PANCAN_K8', '_PANCAN_Cluster_Cluster_PANCAN', '_PANCAN_DNAMethyl_PANCAN', '_PANCAN_RPPA_PANCAN_K8', '_PANCAN_UNC_RNAseq_PANCAN_K16', '_PANCAN_miRNA_PANCAN', '_PANCAN_mutation_PANCAN', '_PATIENT', '_cohort', '_primary_disease', '_primary_site', 'additional_pharmaceutical_therapy', 'additional_radiation_therapy', 'additional_surgery_locoregional_procedure', 'additional_surgery_metastatic_procedure', 'age_at_initial_pathologic_diagnosis', 'anatomic_neoplasm_subdivision', 'anatomic_neoplasm_subdivision_other', 'bcr_followup_barcode', 'bcr_patient_barcode', 'bcr_sample_barcode', 'days_to_additional_surgery_locoregional_procedure', 'days_to_additional_surgery_metastatic_procedure', 'days_to_birth', 'days_to_collection', 'days_to_death', 'days_to_initial_pathologic_diagnosis', 'days_to_last_followup', 'days_to_new_tumor_event_after_initial_treatment', 'disease_code', 'dlco_predictive_percent', 'eastern_cancer_oncology_group', 'egfr_mutation_performed', 'egfr_mutation_result', 'eml4_alk_translocation_method', 'eml4_alk_translocation_performed', 'followup_case_report_form_submission_reason', 'followup_treatment_success', 'form_completion_date', 'gender', 'histological_type', 'history_of_neoadjuvant_treatment', 'icd_10', 'icd_o_3_histology', 'icd_o_3_site', 'informed_consent_verified', 'initial_weight', 'intermediate_dimension', 'is_ffpe', 'karnofsky_performance_score', 'kras_gene_analysis_performed', 'kras_mutation_found', 'kras_mutation_result', 'location_in_lung_parenchyma', 'longest_dimension', 'lost_follow_up', 'new_neoplasm_event_type', 'new_tumor_event_after_initial_treatment', 'number_pack_years_smoked', 'oct_embedded', 'other_dx', 'pathologic_M', 'pathologic_N', 'pathologic_T', 'pathologic_stage', 'pathology_report_file_name', 'patient_id', 'performance_status_scale_timing', 'person_neoplasm_cancer_status', 'post_bronchodilator_fev1_fvc_percent', 'post_bronchodilator_fev1_percent', 'pre_bronchodilator_fev1_fvc_percent', 'pre_bronchodilator_fev1_percent', 'primary_therapy_outcome_success', 'progression_determined_by', 'project_code', 'pulmonary_function_test_performed', 'radiation_therapy', 'residual_tumor', 'sample_type', 'sample_type_id', 'shortest_dimension', 'stopped_smoking_year', 'system_version', 'targeted_molecular_therapy', 'tissue_prospective_collection_indicator', 'tissue_retrospective_collection_indicator', 'tissue_source_site', 'tobacco_smoking_history', 'tobacco_smoking_history_indicator', 'tumor_tissue_site', 'vial_number', 'vital_status', 'year_of_initial_pathologic_diagnosis', 'year_of_tobacco_smoking_onset', '_GENOMIC_ID_TCGA_LUNG_exp_HiSeqV2_exon', '_GENOMIC_ID_TCGA_LUNG_hMethyl27', '_GENOMIC_ID_TCGA_LUNG_mutation', '_GENOMIC_ID_TCGA_LUNG_exp_HiSeqV2_PANCAN', '_GENOMIC_ID_TCGA_LUNG_hMethyl450', '_GENOMIC_ID_TCGA_LUNG_gistic2thd', '_GENOMIC_ID_TCGA_LUNG_G4502A_07_3', '_GENOMIC_ID_TCGA_LUNG_exp_HiSeqV2', '_GENOMIC_ID_TCGA_LUNG_gistic2', '_GENOMIC_ID_TCGA_LUNG_RPPA_RBN']\\n\""
      ]
     },
     "execution_count": 9,
     "metadata": {},
     "output_type": "execute_result"
    }
   ],
   "source": [
    "f'''\n",
    "Below is a list of column names from a biomedical dataset. Please examine it and identify the columns that are likely to contain information about patients' age. Additionally, please do the same for columns that may hold data on patients' gender. Please provide your answer by strictly following this format, without redundant words:\n",
    "candidate_age_cols = [col_name1, col_name2, ...]\n",
    "candidate_gender_cols = [col_name1, col_name2, ...]\n",
    "If no columns match a criterion, please provide an empty list.\n",
    "\n",
    "Column names:\n",
    "{clinical_data_cols}\n",
    "'''"
   ]
  },
  {
   "cell_type": "code",
   "execution_count": null,
   "metadata": {
    "collapsed": false
   },
   "outputs": [],
   "source": [
    "candidate_age_cols = ['age_at_initial_pathologic_diagnosis', 'days_to_birth', 'days_to_collection', 'days_to_death', 'days_to_initial_pathologic_diagnosis', 'days_to_last_followup', 'days_to_new_tumor_event_after_initial_treatment', 'stopped_smoking_year', 'year_of_initial_pathologic_diagnosis', 'year_of_tobacco_smoking_onset']\n",
    "\n",
    "candidate_gender_cols = ['gender']"
   ]
  },
  {
   "cell_type": "markdown",
   "metadata": {
    "ExecuteTime": {
     "end_time": "2023-12-31T03:57:44.207565572Z",
     "start_time": "2023-12-31T03:57:44.202177544Z"
    },
    "collapsed": false
   },
   "source": [
    "Choose a single column from the candidate columns that record age and gender information respectively.\n",
    "If no column meets the requirement, keep 'age_col' or 'gender_col' to None"
   ]
  },
  {
   "cell_type": "code",
   "execution_count": null,
   "metadata": {
    "collapsed": false
   },
   "outputs": [
    {
     "data": {
      "text/plain": [
       "{'age_at_initial_pathologic_diagnosis': [70.0, 67.0, 79.0, 68.0, 66.0],\n",
       " 'days_to_birth': [-25752.0, -24532.0, -29068.0, -24868.0, -24411.0],\n",
       " 'days_to_collection': [nan, nan, nan, nan, nan],\n",
       " 'days_to_death': [nan, nan, '121', nan, nan],\n",
       " 'days_to_initial_pathologic_diagnosis': [0.0, 0.0, 0.0, 0.0, 0.0],\n",
       " 'days_to_last_followup': ['0', '1523', nan, '607', '426'],\n",
       " 'days_to_new_tumor_event_after_initial_treatment': [nan,\n",
       "  nan,\n",
       "  nan,\n",
       "  334.0,\n",
       "  183.0],\n",
       " 'stopped_smoking_year': [nan, nan, nan, nan, 1987.0],\n",
       " 'year_of_initial_pathologic_diagnosis': [2009.0,\n",
       "  2007.0,\n",
       "  2007.0,\n",
       "  2009.0,\n",
       "  2009.0],\n",
       " 'year_of_tobacco_smoking_onset': [nan, nan, nan, nan, 1963.0]}"
      ]
     },
     "execution_count": 11,
     "metadata": {},
     "output_type": "execute_result"
    }
   ],
   "source": [
    "preview_df(clinical_data[candidate_age_cols])"
   ]
  },
  {
   "cell_type": "code",
   "execution_count": null,
   "metadata": {
    "collapsed": false
   },
   "outputs": [],
   "source": [
    "age_col = 'age_at_initial_pathologic_diagnosis'"
   ]
  },
  {
   "cell_type": "code",
   "execution_count": null,
   "metadata": {
    "collapsed": false
   },
   "outputs": [
    {
     "data": {
      "text/plain": [
       "{'gender': ['MALE', 'MALE', 'FEMALE', 'MALE', 'MALE']}"
      ]
     },
     "execution_count": 13,
     "metadata": {},
     "output_type": "execute_result"
    }
   ],
   "source": [
    "preview_df(clinical_data[candidate_gender_cols])"
   ]
  },
  {
   "cell_type": "code",
   "execution_count": null,
   "metadata": {
    "collapsed": false
   },
   "outputs": [],
   "source": [
    "gender_col = 'gender'"
   ]
  },
  {
   "cell_type": "code",
   "execution_count": null,
   "metadata": {
    "collapsed": false
   },
   "outputs": [],
   "source": [
    "selected_clinical_data = xena_select_clinical_features(clinical_data, TRAIT, age_col, gender_col)"
   ]
  },
  {
   "cell_type": "code",
   "execution_count": null,
   "metadata": {
    "collapsed": false
   },
   "outputs": [],
   "source": [
    "if NORMALIZE_GENE:\n",
    "    genetic_data = normalize_gene_symbols_in_index(genetic_data)"
   ]
  },
  {
   "cell_type": "code",
   "execution_count": null,
   "metadata": {
    "collapsed": false
   },
   "outputs": [
    {
     "data": {
      "text/html": [
       "<div>\n",
       "<style scoped>\n",
       "    .dataframe tbody tr th:only-of-type {\n",
       "        vertical-align: middle;\n",
       "    }\n",
       "\n",
       "    .dataframe tbody tr th {\n",
       "        vertical-align: top;\n",
       "    }\n",
       "\n",
       "    .dataframe thead th {\n",
       "        text-align: right;\n",
       "    }\n",
       "</style>\n",
       "<table border=\"1\" class=\"dataframe\">\n",
       "  <thead>\n",
       "    <tr style=\"text-align: right;\">\n",
       "      <th></th>\n",
       "      <th>Lung-Cancer</th>\n",
       "      <th>Age</th>\n",
       "      <th>Gender</th>\n",
       "      <th>ARHGEF10L</th>\n",
       "      <th>HIF3A</th>\n",
       "      <th>RNF17</th>\n",
       "      <th>RNF10</th>\n",
       "      <th>RNF11</th>\n",
       "      <th>RNF13</th>\n",
       "      <th>GTF2IP1</th>\n",
       "      <th>...</th>\n",
       "      <th>TULP2</th>\n",
       "      <th>NPY5R</th>\n",
       "      <th>GNGT2</th>\n",
       "      <th>GNGT1</th>\n",
       "      <th>TULP3</th>\n",
       "      <th>PTRF</th>\n",
       "      <th>BCL6B</th>\n",
       "      <th>GSTK1</th>\n",
       "      <th>SELP</th>\n",
       "      <th>SELS</th>\n",
       "    </tr>\n",
       "    <tr>\n",
       "      <th>sampleID</th>\n",
       "      <th></th>\n",
       "      <th></th>\n",
       "      <th></th>\n",
       "      <th></th>\n",
       "      <th></th>\n",
       "      <th></th>\n",
       "      <th></th>\n",
       "      <th></th>\n",
       "      <th></th>\n",
       "      <th></th>\n",
       "      <th></th>\n",
       "      <th></th>\n",
       "      <th></th>\n",
       "      <th></th>\n",
       "      <th></th>\n",
       "      <th></th>\n",
       "      <th></th>\n",
       "      <th></th>\n",
       "      <th></th>\n",
       "      <th></th>\n",
       "      <th></th>\n",
       "    </tr>\n",
       "  </thead>\n",
       "  <tbody>\n",
       "    <tr>\n",
       "      <th>TCGA-05-4244-01</th>\n",
       "      <td>1</td>\n",
       "      <td>70.0</td>\n",
       "      <td>1.0</td>\n",
       "      <td>-0.056592</td>\n",
       "      <td>2.128674</td>\n",
       "      <td>-0.531035</td>\n",
       "      <td>-0.185972</td>\n",
       "      <td>-0.190878</td>\n",
       "      <td>-0.11891</td>\n",
       "      <td>-0.659794</td>\n",
       "      <td>...</td>\n",
       "      <td>0.015022</td>\n",
       "      <td>-1.155117</td>\n",
       "      <td>0.528367</td>\n",
       "      <td>2.75061</td>\n",
       "      <td>0.428423</td>\n",
       "      <td>-0.639586</td>\n",
       "      <td>-0.195527</td>\n",
       "      <td>-0.324695</td>\n",
       "      <td>0.193167</td>\n",
       "      <td>-0.572812</td>\n",
       "    </tr>\n",
       "    <tr>\n",
       "      <th>TCGA-05-4249-01</th>\n",
       "      <td>1</td>\n",
       "      <td>67.0</td>\n",
       "      <td>1.0</td>\n",
       "      <td>-0.569692</td>\n",
       "      <td>-0.318126</td>\n",
       "      <td>-0.531035</td>\n",
       "      <td>0.237428</td>\n",
       "      <td>0.011822</td>\n",
       "      <td>-0.00611</td>\n",
       "      <td>1.018406</td>\n",
       "      <td>...</td>\n",
       "      <td>-0.031778</td>\n",
       "      <td>-0.393117</td>\n",
       "      <td>1.632467</td>\n",
       "      <td>2.33551</td>\n",
       "      <td>-0.145577</td>\n",
       "      <td>-0.997486</td>\n",
       "      <td>-0.276027</td>\n",
       "      <td>-1.219395</td>\n",
       "      <td>1.850967</td>\n",
       "      <td>-0.471212</td>\n",
       "    </tr>\n",
       "    <tr>\n",
       "      <th>TCGA-05-4250-01</th>\n",
       "      <td>1</td>\n",
       "      <td>79.0</td>\n",
       "      <td>0.0</td>\n",
       "      <td>-0.899992</td>\n",
       "      <td>-0.918126</td>\n",
       "      <td>-0.531035</td>\n",
       "      <td>-0.621472</td>\n",
       "      <td>-0.454178</td>\n",
       "      <td>0.58719</td>\n",
       "      <td>-0.198894</td>\n",
       "      <td>...</td>\n",
       "      <td>-0.748878</td>\n",
       "      <td>-1.173917</td>\n",
       "      <td>1.966367</td>\n",
       "      <td>-1.28139</td>\n",
       "      <td>-0.374877</td>\n",
       "      <td>0.959514</td>\n",
       "      <td>0.714373</td>\n",
       "      <td>0.112305</td>\n",
       "      <td>-0.532833</td>\n",
       "      <td>-0.003812</td>\n",
       "    </tr>\n",
       "    <tr>\n",
       "      <th>TCGA-05-4382-01</th>\n",
       "      <td>1</td>\n",
       "      <td>68.0</td>\n",
       "      <td>1.0</td>\n",
       "      <td>0.667508</td>\n",
       "      <td>3.895974</td>\n",
       "      <td>-0.221535</td>\n",
       "      <td>-0.367272</td>\n",
       "      <td>0.131822</td>\n",
       "      <td>0.97629</td>\n",
       "      <td>-0.494994</td>\n",
       "      <td>...</td>\n",
       "      <td>1.013722</td>\n",
       "      <td>-1.587117</td>\n",
       "      <td>0.359267</td>\n",
       "      <td>2.59051</td>\n",
       "      <td>0.806623</td>\n",
       "      <td>0.812114</td>\n",
       "      <td>0.367373</td>\n",
       "      <td>-0.494595</td>\n",
       "      <td>-1.062233</td>\n",
       "      <td>0.108588</td>\n",
       "    </tr>\n",
       "    <tr>\n",
       "      <th>TCGA-05-4384-01</th>\n",
       "      <td>1</td>\n",
       "      <td>66.0</td>\n",
       "      <td>1.0</td>\n",
       "      <td>-0.316892</td>\n",
       "      <td>2.380374</td>\n",
       "      <td>0.156865</td>\n",
       "      <td>0.232828</td>\n",
       "      <td>0.054822</td>\n",
       "      <td>0.27059</td>\n",
       "      <td>0.128606</td>\n",
       "      <td>...</td>\n",
       "      <td>-0.060978</td>\n",
       "      <td>-0.435417</td>\n",
       "      <td>1.111467</td>\n",
       "      <td>-1.28139</td>\n",
       "      <td>-0.128477</td>\n",
       "      <td>0.110214</td>\n",
       "      <td>1.469373</td>\n",
       "      <td>0.194605</td>\n",
       "      <td>1.404667</td>\n",
       "      <td>-0.290712</td>\n",
       "    </tr>\n",
       "  </tbody>\n",
       "</table>\n",
       "<p>5 rows × 20533 columns</p>\n",
       "</div>"
      ],
      "text/plain": [
       "                 Lung-Cancer   Age  Gender  ARHGEF10L     HIF3A     RNF17  \\\n",
       "sampleID                                                                    \n",
       "TCGA-05-4244-01            1  70.0     1.0  -0.056592  2.128674 -0.531035   \n",
       "TCGA-05-4249-01            1  67.0     1.0  -0.569692 -0.318126 -0.531035   \n",
       "TCGA-05-4250-01            1  79.0     0.0  -0.899992 -0.918126 -0.531035   \n",
       "TCGA-05-4382-01            1  68.0     1.0   0.667508  3.895974 -0.221535   \n",
       "TCGA-05-4384-01            1  66.0     1.0  -0.316892  2.380374  0.156865   \n",
       "\n",
       "                    RNF10     RNF11    RNF13   GTF2IP1  ...     TULP2  \\\n",
       "sampleID                                                ...             \n",
       "TCGA-05-4244-01 -0.185972 -0.190878 -0.11891 -0.659794  ...  0.015022   \n",
       "TCGA-05-4249-01  0.237428  0.011822 -0.00611  1.018406  ... -0.031778   \n",
       "TCGA-05-4250-01 -0.621472 -0.454178  0.58719 -0.198894  ... -0.748878   \n",
       "TCGA-05-4382-01 -0.367272  0.131822  0.97629 -0.494994  ...  1.013722   \n",
       "TCGA-05-4384-01  0.232828  0.054822  0.27059  0.128606  ... -0.060978   \n",
       "\n",
       "                    NPY5R     GNGT2    GNGT1     TULP3      PTRF     BCL6B  \\\n",
       "sampleID                                                                     \n",
       "TCGA-05-4244-01 -1.155117  0.528367  2.75061  0.428423 -0.639586 -0.195527   \n",
       "TCGA-05-4249-01 -0.393117  1.632467  2.33551 -0.145577 -0.997486 -0.276027   \n",
       "TCGA-05-4250-01 -1.173917  1.966367 -1.28139 -0.374877  0.959514  0.714373   \n",
       "TCGA-05-4382-01 -1.587117  0.359267  2.59051  0.806623  0.812114  0.367373   \n",
       "TCGA-05-4384-01 -0.435417  1.111467 -1.28139 -0.128477  0.110214  1.469373   \n",
       "\n",
       "                    GSTK1      SELP      SELS  \n",
       "sampleID                                       \n",
       "TCGA-05-4244-01 -0.324695  0.193167 -0.572812  \n",
       "TCGA-05-4249-01 -1.219395  1.850967 -0.471212  \n",
       "TCGA-05-4250-01  0.112305 -0.532833 -0.003812  \n",
       "TCGA-05-4382-01 -0.494595 -1.062233  0.108588  \n",
       "TCGA-05-4384-01  0.194605  1.404667 -0.290712  \n",
       "\n",
       "[5 rows x 20533 columns]"
      ]
     },
     "execution_count": 17,
     "metadata": {},
     "output_type": "execute_result"
    }
   ],
   "source": [
    "merged_data = selected_clinical_data.join(genetic_data.T).dropna()\n",
    "merged_data.head()"
   ]
  },
  {
   "cell_type": "code",
   "execution_count": null,
   "metadata": {
    "collapsed": false
   },
   "outputs": [
    {
     "name": "stdout",
     "output_type": "stream",
     "text": [
      "The merged dataset contains 1100 samples.\n"
     ]
    }
   ],
   "source": [
    "print(f\"The merged dataset contains {len(merged_data)} samples.\")"
   ]
  },
  {
   "cell_type": "code",
   "execution_count": null,
   "metadata": {
    "collapsed": false
   },
   "outputs": [
    {
     "name": "stdout",
     "output_type": "stream",
     "text": [
      "For the feature 'Lung-Cancer', the least common label is '0' with 110 occurrences. This represents 10.00% of the dataset.\n",
      "The distribution of the feature 'Lung-Cancer' in this dataset is fine.\n",
      "\n",
      "Quartiles for 'Age':\n",
      "  25%: 60.0\n",
      "  50% (Median): 67.0\n",
      "  75%: 73.0\n",
      "Min: 38.0\n",
      "Max: 90.0\n",
      "The distribution of the feature 'Age' in this dataset is fine.\n",
      "\n",
      "For the feature 'Gender', the least common label is '0.0' with 443 occurrences. This represents 40.27% of the dataset.\n",
      "The distribution of the feature 'Gender' in this dataset is fine.\n",
      "\n"
     ]
    },
    {
     "data": {
      "text/plain": [
       "False"
      ]
     },
     "execution_count": 19,
     "metadata": {},
     "output_type": "execute_result"
    }
   ],
   "source": [
    "is_trait_biased, merge_data = judge_and_remove_biased_features(merged_data, TRAIT, trait_type=trait_type)\n",
    "is_trait_biased"
   ]
  },
  {
   "cell_type": "code",
   "execution_count": null,
   "metadata": {
    "collapsed": false
   },
   "outputs": [],
   "source": [
    "merged_data.head()\n",
    "if not is_trait_biased:\n",
    "    merge_data.to_csv(os.path.join(OUTPUT_DIR, cohort+'.csv'), index=False)"
   ]
  },
  {
   "cell_type": "code",
   "execution_count": null,
   "metadata": {
    "collapsed": false
   },
   "outputs": [
    {
     "name": "stdout",
     "output_type": "stream",
     "text": [
      "A new JSON file was created at: ../../output1/Yuxuan/Lung-Cancer/cohort_info.json\n"
     ]
    }
   ],
   "source": [
    "save_cohort_info(cohort, JSON_PATH, is_available, is_trait_biased, merged_data)"
   ]
  },
  {
   "cell_type": "markdown",
   "metadata": {
    "ExecuteTime": {
     "end_time": "2023-12-28T21:28:38.028916303Z",
     "start_time": "2023-12-28T21:28:38.016245426Z"
    },
    "collapsed": false
   },
   "source": [
    "## 2.2. The GEO dataset"
   ]
  },
  {
   "cell_type": "markdown",
   "metadata": {
    "ExecuteTime": {
     "end_time": "2023-12-31T03:25:23.253882615Z",
     "start_time": "2023-12-31T03:25:23.244062710Z"
    },
    "collapsed": false
   },
   "source": [
    "In GEO, there may be one or multiple cohorts for a trait. Each cohort is identified by an accession number. We iterate over all accession numbers in the corresponding subdirectory, preprocess the cohort data, and save them to csv files."
   ]
  },
  {
   "cell_type": "code",
   "execution_count": 5,
   "metadata": {
    "ExecuteTime": {
     "end_time": "2024-01-02T01:02:59.503572381Z",
     "start_time": "2024-01-02T01:02:59.491400342Z"
    },
    "collapsed": false
   },
   "outputs": [
    {
     "data": {
      "text/plain": [
       "['GSE181339', 'GSE205138', 'GSE207015']"
      ]
     },
     "execution_count": 5,
     "metadata": {},
     "output_type": "execute_result"
    }
   ],
   "source": [
    "dataset = 'GEO'\n",
    "trait_subdir = \"Hypertension\"\n",
    "\n",
    "trait_path = os.path.join(DATA_ROOT, dataset, trait_subdir)\n",
    "os.listdir(trait_path)"
   ]
  },
  {
   "cell_type": "markdown",
   "metadata": {
    "ExecuteTime": {
     "end_time": "2023-12-31T03:39:42.634870142Z",
     "start_time": "2023-12-31T03:39:42.534093295Z"
    },
    "collapsed": false
   },
   "source": [
    "Repeat the below steps for all the accession numbers"
   ]
  },
  {
   "cell_type": "code",
   "execution_count": 14,
   "metadata": {
    "ExecuteTime": {
     "end_time": "2024-01-02T01:03:00.287218362Z",
     "start_time": "2024-01-02T01:03:00.278758251Z"
    },
    "collapsed": false
   },
   "outputs": [
    {
     "data": {
      "text/plain": [
       "('/home/yxcheng/GEO/Hypertension/GSE207015/GSE207015_family.soft.gz',\n",
       " '/home/yxcheng/GEO/Hypertension/GSE207015/GSE207015_series_matrix.txt.gz')"
      ]
     },
     "execution_count": 14,
     "metadata": {},
     "output_type": "execute_result"
    }
   ],
   "source": [
    "cohort = accession_num = \"GSE207015\"\n",
    "cohort_dir = os.path.join(trait_path, accession_num)\n",
    "soft_file, matrix_file = get_relevant_filepaths(cohort_dir)\n",
    "soft_file, matrix_file"
   ]
  },
  {
   "cell_type": "markdown",
   "metadata": {
    "collapsed": false
   },
   "source": [
    "### Inital filtering and clinical data preprocessing"
   ]
  },
  {
   "cell_type": "code",
   "execution_count": 15,
   "metadata": {
    "ExecuteTime": {
     "end_time": "2024-01-02T01:03:01.634861460Z",
     "start_time": "2024-01-02T01:03:01.076370517Z"
    },
    "collapsed": false
   },
   "outputs": [
    {
     "name": "stdout",
     "output_type": "stream",
     "text": [
      "!Series_title\t\"COVID-19 drives a distinct plasma proteome in pregnant and non-pregnant individuals\"\n",
      "!Series_summary\t\"This study used SomaScan v 4.1 to profile>7000 proteins in human plasma and assess changes with Sars-Cov-2 infection and with Covid-19 disease severity in pregnant and non-pregnant individuals.\"\n",
      "!Series_overall_design\t\"This is a cross-sectional study that included non infected controls and Sars-Cov-2 infected patients with various degrees of disease serverity.\"\n"
     ]
    }
   ],
   "source": [
    "background_prefixes = ['!Series_title', '!Series_summary', '!Series_overall_design']\n",
    "clinical_prefixes = ['!Sample_geo_accession', '!Sample_characteristics_ch1']\n",
    "\n",
    "background_info, clinical_data = get_background_and_clinical_data(matrix_file, background_prefixes, clinical_prefixes)\n",
    "print(background_info)"
   ]
  },
  {
   "cell_type": "code",
   "execution_count": 20,
   "metadata": {
    "ExecuteTime": {
     "end_time": "2024-01-02T01:03:01.642310454Z",
     "start_time": "2024-01-02T01:03:01.635048940Z"
    },
    "collapsed": false
   },
   "outputs": [
    {
     "data": {
      "text/html": [
       "<div>\n",
       "<style scoped>\n",
       "    .dataframe tbody tr th:only-of-type {\n",
       "        vertical-align: middle;\n",
       "    }\n",
       "\n",
       "    .dataframe tbody tr th {\n",
       "        vertical-align: top;\n",
       "    }\n",
       "\n",
       "    .dataframe thead th {\n",
       "        text-align: right;\n",
       "    }\n",
       "</style>\n",
       "<table border=\"1\" class=\"dataframe\">\n",
       "  <thead>\n",
       "    <tr style=\"text-align: right;\">\n",
       "      <th></th>\n",
       "      <th>!Sample_geo_accession</th>\n",
       "      <th>GSM6268053</th>\n",
       "      <th>GSM6268054</th>\n",
       "      <th>GSM6268055</th>\n",
       "      <th>GSM6268056</th>\n",
       "      <th>GSM6268057</th>\n",
       "      <th>GSM6268058</th>\n",
       "      <th>GSM6268059</th>\n",
       "      <th>GSM6268060</th>\n",
       "      <th>GSM6268061</th>\n",
       "      <th>...</th>\n",
       "      <th>GSM6268237</th>\n",
       "      <th>GSM6268238</th>\n",
       "      <th>GSM6268239</th>\n",
       "      <th>GSM6268240</th>\n",
       "      <th>GSM6268241</th>\n",
       "      <th>GSM6268242</th>\n",
       "      <th>GSM6268243</th>\n",
       "      <th>GSM6268244</th>\n",
       "      <th>GSM6268245</th>\n",
       "      <th>GSM6268246</th>\n",
       "    </tr>\n",
       "  </thead>\n",
       "  <tbody>\n",
       "    <tr>\n",
       "      <th>0</th>\n",
       "      <td>!Sample_characteristics_ch1</td>\n",
       "      <td>individual: PNI087001</td>\n",
       "      <td>individual: CPN019001</td>\n",
       "      <td>individual: PNI015001</td>\n",
       "      <td>individual: PNI049001</td>\n",
       "      <td>individual: PNI072001</td>\n",
       "      <td>individual: PNI060001</td>\n",
       "      <td>individual: CPN031001</td>\n",
       "      <td>individual: PNI114001</td>\n",
       "      <td>individual: PNI093001</td>\n",
       "      <td>...</td>\n",
       "      <td>individual: CWNIH010</td>\n",
       "      <td>individual: CWNIH012</td>\n",
       "      <td>individual: CWNIH013</td>\n",
       "      <td>individual: CWNIH014</td>\n",
       "      <td>individual: CWNIH015</td>\n",
       "      <td>individual: CWNIH016</td>\n",
       "      <td>individual: CWNIH017</td>\n",
       "      <td>individual: CWNIH018</td>\n",
       "      <td>individual: CWNIH019</td>\n",
       "      <td>individual: CWNIH020</td>\n",
       "    </tr>\n",
       "    <tr>\n",
       "      <th>1</th>\n",
       "      <td>!Sample_characteristics_ch1</td>\n",
       "      <td>age: 23</td>\n",
       "      <td>age: 34</td>\n",
       "      <td>age: 32</td>\n",
       "      <td>age: 36</td>\n",
       "      <td>age: 29</td>\n",
       "      <td>age: 18</td>\n",
       "      <td>age: 18</td>\n",
       "      <td>age: 29</td>\n",
       "      <td>age: 34</td>\n",
       "      <td>...</td>\n",
       "      <td>age: 58</td>\n",
       "      <td>age: 58</td>\n",
       "      <td>age: 63</td>\n",
       "      <td>age: 32</td>\n",
       "      <td>age: 25</td>\n",
       "      <td>age: 34</td>\n",
       "      <td>age: 68</td>\n",
       "      <td>age: 62</td>\n",
       "      <td>age: 68</td>\n",
       "      <td>age: 25</td>\n",
       "    </tr>\n",
       "    <tr>\n",
       "      <th>2</th>\n",
       "      <td>!Sample_characteristics_ch1</td>\n",
       "      <td>bmi: 23.2</td>\n",
       "      <td>bmi: 27.6</td>\n",
       "      <td>bmi: 32</td>\n",
       "      <td>bmi: 24.5</td>\n",
       "      <td>bmi: 34.5</td>\n",
       "      <td>bmi: 26.1</td>\n",
       "      <td>bmi: 25.5</td>\n",
       "      <td>bmi: 32.5</td>\n",
       "      <td>bmi: 28</td>\n",
       "      <td>...</td>\n",
       "      <td>bmi: 22</td>\n",
       "      <td>bmi: 28.2</td>\n",
       "      <td>bmi: 33.1</td>\n",
       "      <td>bmi: 22</td>\n",
       "      <td>bmi: 28.7</td>\n",
       "      <td>bmi: 26.1</td>\n",
       "      <td>bmi: 26.6</td>\n",
       "      <td>bmi: 26</td>\n",
       "      <td>bmi: 31.6</td>\n",
       "      <td>bmi: 26.8</td>\n",
       "    </tr>\n",
       "    <tr>\n",
       "      <th>3</th>\n",
       "      <td>!Sample_characteristics_ch1</td>\n",
       "      <td>chronic hypertension: No</td>\n",
       "      <td>chronic hypertension: Yes</td>\n",
       "      <td>chronic hypertension: No</td>\n",
       "      <td>chronic hypertension: No</td>\n",
       "      <td>chronic hypertension: No</td>\n",
       "      <td>chronic hypertension: No</td>\n",
       "      <td>chronic hypertension: No</td>\n",
       "      <td>chronic hypertension: No</td>\n",
       "      <td>chronic hypertension: No</td>\n",
       "      <td>...</td>\n",
       "      <td>chronic hypertension: No</td>\n",
       "      <td>chronic hypertension: Yes</td>\n",
       "      <td>chronic hypertension: Yes</td>\n",
       "      <td>chronic hypertension: No</td>\n",
       "      <td>chronic hypertension: No</td>\n",
       "      <td>chronic hypertension: No</td>\n",
       "      <td>chronic hypertension: Yes</td>\n",
       "      <td>chronic hypertension: No</td>\n",
       "      <td>chronic hypertension: No</td>\n",
       "      <td>chronic hypertension: Yes</td>\n",
       "    </tr>\n",
       "    <tr>\n",
       "      <th>4</th>\n",
       "      <td>!Sample_characteristics_ch1</td>\n",
       "      <td>Sex: Female</td>\n",
       "      <td>Sex: Female</td>\n",
       "      <td>Sex: Female</td>\n",
       "      <td>Sex: Female</td>\n",
       "      <td>Sex: Female</td>\n",
       "      <td>Sex: Female</td>\n",
       "      <td>Sex: Female</td>\n",
       "      <td>Sex: Female</td>\n",
       "      <td>Sex: Female</td>\n",
       "      <td>...</td>\n",
       "      <td>Sex: Female</td>\n",
       "      <td>Sex: Female</td>\n",
       "      <td>Sex: Female</td>\n",
       "      <td>Sex: Female</td>\n",
       "      <td>Sex: Female</td>\n",
       "      <td>Sex: Female</td>\n",
       "      <td>Sex: Female</td>\n",
       "      <td>Sex: Female</td>\n",
       "      <td>Sex: Female</td>\n",
       "      <td>Sex: Female</td>\n",
       "    </tr>\n",
       "  </tbody>\n",
       "</table>\n",
       "<p>5 rows × 195 columns</p>\n",
       "</div>"
      ],
      "text/plain": [
       "         !Sample_geo_accession                GSM6268053  \\\n",
       "0  !Sample_characteristics_ch1     individual: PNI087001   \n",
       "1  !Sample_characteristics_ch1                   age: 23   \n",
       "2  !Sample_characteristics_ch1                 bmi: 23.2   \n",
       "3  !Sample_characteristics_ch1  chronic hypertension: No   \n",
       "4  !Sample_characteristics_ch1               Sex: Female   \n",
       "\n",
       "                  GSM6268054                GSM6268055  \\\n",
       "0      individual: CPN019001     individual: PNI015001   \n",
       "1                    age: 34                   age: 32   \n",
       "2                  bmi: 27.6                   bmi: 32   \n",
       "3  chronic hypertension: Yes  chronic hypertension: No   \n",
       "4                Sex: Female               Sex: Female   \n",
       "\n",
       "                 GSM6268056                GSM6268057  \\\n",
       "0     individual: PNI049001     individual: PNI072001   \n",
       "1                   age: 36                   age: 29   \n",
       "2                 bmi: 24.5                 bmi: 34.5   \n",
       "3  chronic hypertension: No  chronic hypertension: No   \n",
       "4               Sex: Female               Sex: Female   \n",
       "\n",
       "                 GSM6268058                GSM6268059  \\\n",
       "0     individual: PNI060001     individual: CPN031001   \n",
       "1                   age: 18                   age: 18   \n",
       "2                 bmi: 26.1                 bmi: 25.5   \n",
       "3  chronic hypertension: No  chronic hypertension: No   \n",
       "4               Sex: Female               Sex: Female   \n",
       "\n",
       "                 GSM6268060                GSM6268061  ...  \\\n",
       "0     individual: PNI114001     individual: PNI093001  ...   \n",
       "1                   age: 29                   age: 34  ...   \n",
       "2                 bmi: 32.5                   bmi: 28  ...   \n",
       "3  chronic hypertension: No  chronic hypertension: No  ...   \n",
       "4               Sex: Female               Sex: Female  ...   \n",
       "\n",
       "                 GSM6268237                 GSM6268238  \\\n",
       "0      individual: CWNIH010       individual: CWNIH012   \n",
       "1                   age: 58                    age: 58   \n",
       "2                   bmi: 22                  bmi: 28.2   \n",
       "3  chronic hypertension: No  chronic hypertension: Yes   \n",
       "4               Sex: Female                Sex: Female   \n",
       "\n",
       "                  GSM6268239                GSM6268240  \\\n",
       "0       individual: CWNIH013      individual: CWNIH014   \n",
       "1                    age: 63                   age: 32   \n",
       "2                  bmi: 33.1                   bmi: 22   \n",
       "3  chronic hypertension: Yes  chronic hypertension: No   \n",
       "4                Sex: Female               Sex: Female   \n",
       "\n",
       "                 GSM6268241                GSM6268242  \\\n",
       "0      individual: CWNIH015      individual: CWNIH016   \n",
       "1                   age: 25                   age: 34   \n",
       "2                 bmi: 28.7                 bmi: 26.1   \n",
       "3  chronic hypertension: No  chronic hypertension: No   \n",
       "4               Sex: Female               Sex: Female   \n",
       "\n",
       "                  GSM6268243                GSM6268244  \\\n",
       "0       individual: CWNIH017      individual: CWNIH018   \n",
       "1                    age: 68                   age: 62   \n",
       "2                  bmi: 26.6                   bmi: 26   \n",
       "3  chronic hypertension: Yes  chronic hypertension: No   \n",
       "4                Sex: Female               Sex: Female   \n",
       "\n",
       "                 GSM6268245                 GSM6268246  \n",
       "0      individual: CWNIH019       individual: CWNIH020  \n",
       "1                   age: 68                    age: 25  \n",
       "2                 bmi: 31.6                  bmi: 26.8  \n",
       "3  chronic hypertension: No  chronic hypertension: Yes  \n",
       "4               Sex: Female                Sex: Female  \n",
       "\n",
       "[5 rows x 195 columns]"
      ]
     },
     "execution_count": 20,
     "metadata": {},
     "output_type": "execute_result"
    }
   ],
   "source": [
    "clinical_data.head()"
   ]
  },
  {
   "cell_type": "code",
   "execution_count": 19,
   "metadata": {
    "ExecuteTime": {
     "end_time": "2024-01-02T01:03:01.805026160Z",
     "start_time": "2024-01-02T01:03:01.804428154Z"
    },
    "collapsed": false
   },
   "outputs": [
    {
     "data": {
      "text/plain": [
       "{0: ['individual: PNI087001',\n",
       "  'individual: CPN019001',\n",
       "  'individual: PNI015001',\n",
       "  'individual: PNI049001',\n",
       "  'individual: PNI072001',\n",
       "  'individual: PNI060001',\n",
       "  'individual: CPN031001',\n",
       "  'individual: PNI114001',\n",
       "  'individual: PNI093001',\n",
       "  'individual: PNI089001',\n",
       "  'individual: PNI062001',\n",
       "  'individual: PNI032001',\n",
       "  'individual: PNI034002',\n",
       "  'individual: PNI111001',\n",
       "  'individual: CPN010001',\n",
       "  'individual: PNI110001',\n",
       "  'individual: PNI002001',\n",
       "  'individual: PNI088001',\n",
       "  'individual: PNI068001',\n",
       "  'individual: PNI014001',\n",
       "  'individual: PNI043001',\n",
       "  'individual: PNI046001',\n",
       "  'individual: PNI120001',\n",
       "  'individual: PNI036001',\n",
       "  'individual: PNI097001',\n",
       "  'individual: PNI055001',\n",
       "  'individual: PNI119001',\n",
       "  'individual: PNI053001',\n",
       "  'individual: PNI031001',\n",
       "  'individual: PNI045001'],\n",
       " 1: ['age: 23',\n",
       "  'age: 34',\n",
       "  'age: 32',\n",
       "  'age: 36',\n",
       "  'age: 29',\n",
       "  'age: 18',\n",
       "  'age: 28',\n",
       "  'age: 33',\n",
       "  'age: 41',\n",
       "  'age: 37',\n",
       "  'age: 27',\n",
       "  'age: 21',\n",
       "  'age: 35',\n",
       "  'age: 39',\n",
       "  'age: 25',\n",
       "  'age: 31',\n",
       "  'age: 24',\n",
       "  'age: 20',\n",
       "  'age: 38',\n",
       "  'age: 30',\n",
       "  'age: 22',\n",
       "  'age: 26',\n",
       "  'age: 40',\n",
       "  'age: 16',\n",
       "  'age: 81',\n",
       "  'age: 48',\n",
       "  'age: 70',\n",
       "  'age: 60',\n",
       "  'age: 53',\n",
       "  'age: 42'],\n",
       " 2: ['bmi: 23.2',\n",
       "  'bmi: 27.6',\n",
       "  'bmi: 32',\n",
       "  'bmi: 24.5',\n",
       "  'bmi: 34.5',\n",
       "  'bmi: 26.1',\n",
       "  'bmi: 25.5',\n",
       "  'bmi: 32.5',\n",
       "  'bmi: 28',\n",
       "  'bmi: 28.7',\n",
       "  'bmi: 33.2',\n",
       "  'bmi: 32.4',\n",
       "  'bmi: 33.6',\n",
       "  'bmi: 24.8',\n",
       "  'bmi: 24.2',\n",
       "  'bmi: 29.6',\n",
       "  'bmi: 30.9',\n",
       "  'bmi: 31.3',\n",
       "  'bmi: 27.5',\n",
       "  'bmi: 26',\n",
       "  'bmi: 30.3',\n",
       "  'bmi: 25.8',\n",
       "  'bmi: 23.9',\n",
       "  'bmi: 27',\n",
       "  'bmi: 43.3',\n",
       "  'bmi: 29.4',\n",
       "  'bmi: 32.8',\n",
       "  'bmi: 21.3',\n",
       "  'bmi: 26.7',\n",
       "  'bmi: 38.9'],\n",
       " 3: ['chronic hypertension: No', 'chronic hypertension: Yes'],\n",
       " 4: ['Sex: Female', 'Sex: Male'],\n",
       " 5: ['group: Cases', 'group: Controls'],\n",
       " 6: ['clinical spectrum nih classification: Mild',\n",
       "  'clinical spectrum nih classification: NA',\n",
       "  'clinical spectrum nih classification: Critical',\n",
       "  'clinical spectrum nih classification: Moderate',\n",
       "  'clinical spectrum nih classification: Severe',\n",
       "  'clinical spectrum nih classification: Asymptomatic'],\n",
       " 7: ['parity: 0', 'parity: 2', 'parity: 1', 'parity: 3', 'parity: NA'],\n",
       " 8: ['ga: 23.2',\n",
       "  'ga: 23.4',\n",
       "  'ga: 24',\n",
       "  'ga: 24.6',\n",
       "  'ga: 26',\n",
       "  'ga: 26.1',\n",
       "  'ga: 26.2',\n",
       "  'ga: 26.3',\n",
       "  'ga: 26.4',\n",
       "  'ga: 26.6',\n",
       "  'ga: 27',\n",
       "  'ga: 27.1',\n",
       "  'ga: 27.2',\n",
       "  'ga: 27.4',\n",
       "  'ga: 27.5',\n",
       "  'ga: 28',\n",
       "  'ga: 28.2',\n",
       "  'ga: 28.3',\n",
       "  'ga: 28.6',\n",
       "  'ga: 29',\n",
       "  'ga: 29.2',\n",
       "  'ga: 29.3',\n",
       "  'ga: 29.6',\n",
       "  'ga: 30.2',\n",
       "  'ga: 30.5',\n",
       "  'ga: 31.1',\n",
       "  'ga: 31.2',\n",
       "  'ga: 31.3',\n",
       "  'ga: 31.4',\n",
       "  'ga: 32']}"
      ]
     },
     "execution_count": 19,
     "metadata": {},
     "output_type": "execute_result"
    }
   ],
   "source": [
    "clinical_data_unique = get_unique_values_by_row(clinical_data)\n",
    "clinical_data_unique"
   ]
  },
  {
   "cell_type": "markdown",
   "metadata": {
    "ExecuteTime": {
     "end_time": "2023-12-31T03:58:04.978204446Z",
     "start_time": "2023-12-31T03:58:04.922270095Z"
    },
    "collapsed": false
   },
   "source": [
    "Analyze the metadata to determine data relevance and find ways to extract the clinical data.\n",
    "Reference prompt:"
   ]
  },
  {
   "cell_type": "code",
   "execution_count": 33,
   "metadata": {
    "ExecuteTime": {
     "end_time": "2024-01-02T01:03:02.369775044Z",
     "start_time": "2024-01-02T01:03:02.356501629Z"
    },
    "collapsed": false
   },
   "outputs": [
    {
     "data": {
      "text/plain": [
       "'As a biomedical research team, we are selecting datasets to study the association between the human trait \\'Psoriasis\\' and genetic factors, optionally considering the influence of age and gender. After searching the GEO database and parsing the matrix file of a series, we obtained background information and sample characteristics data. We will provide textual information about the dataset background, and a Python dictionary storing a list of unique values for each field of the sample characteristics data. Please carefully review the provided information and answer the following questions about this dataset:\\n1. Does this dataset contain gene expression data? (Note: Pure miRNA data is not suitable.)\\n2. For each of the traits \\'Psoriasis\\', \\'age\\', and \\'gender\\', please address these points:\\n   (1) Is there human data available for this trait?\\n   (2) If so, identify the key in the sample characteristics dictionary where unique values of this trait is recorded. The key is an integer. The trait information might be explicitly recorded, or can be inferred from the field with some biomedical knowledge or understanding about the data collection process.\\n   (3) Choose an appropriate data type (either \\'continuous\\' or \\'binary\\') for each trait. Write a Python function to convert any given value of the trait to this data type. The function should handle inference about the trait value and convert unknown values to None.\\n   Name the functions \\'convert_trait\\', \\'convert_age\\', and \\'convert_gender\\', respectively.\\n\\nBackground information about the dataset:\\n!Series_title\\t\"A validated single-cell-based strategy to identify diagnostic and therapeutic targets in complex diseases\"\\n!Series_summary\\t\"This SuperSeries is composed of the SubSeries listed below.\"\\n!Series_overall_design\\t\"Refer to individual Series\"\\n\\nSample characteristics dictionary (from \"!Sample_characteristics_ch1\", converted to a Python dictionary that stores the unique values for each field):\\n{0: [\\'cell type: CD4+ T cells\\'], 1: [\\'primary diagnosis: ASTHMA\\', \\'primary diagnosis: ATHEROSCLEROSIS\\', \\'primary diagnosis: BREAST_CANCER\\', \\'primary diagnosis: CHRONIC_LYMPHOCYTIC_LEUKEMIA\\', \\'primary diagnosis: CROHN_DISEASE\\', \\'primary diagnosis: ATOPIC_ECZEMA\\', \\'primary diagnosis: HEALTHY_CONTROL\\', \\'primary diagnosis: INFLUENZA\\', \\'primary diagnosis: OBESITY\\', \\'primary diagnosis: PSORIASIS\\', \\'primary diagnosis: SEASONAL_ALLERGIC_RHINITIS\\', \\'primary diagnosis: TYPE_1_DIABETES\\', \\'primary diagnosis: ACUTE_TONSILLITIS\\', \\'primary diagnosis: ULCERATIVE_COLITIS\\', \\'primary diagnosis: Breast cancer\\', \\'primary diagnosis: Control\\'], 2: [\\'Sex: Male\\', \\'diagnosis2: ATOPIC_ECZEMA\\', \\'Sex: Female\\', \\'diagnosis2: ATHEROSCLEROSIS\\', \\'diagnosis2: ASTHMA_OBESITY\\', \\'diagnosis2: ASTHMA\\', \\'diagnosis2: ASTMHA_SEASONAL_ALLERGIC_RHINITIS\\', \\'diagnosis2: OBESITY\\'], 3: [\\'age: 56\\', \\'Sex: Male\\', \\'age: 20\\', \\'age: 51\\', \\'age: 37\\', \\'age: 61\\', \\'age: 31\\', \\'age: 41\\', \\'age: 80\\', \\'age: 53\\', \\'age: 73\\', \\'age: 60\\', \\'age: 76\\', \\'age: 77\\', \\'age: 74\\', \\'age: 69\\', \\'age: 81\\', \\'age: 70\\', \\'age: 82\\', \\'age: 67\\', \\'age: 78\\', \\'age: 72\\', \\'age: 66\\', \\'age: 36\\', \\'age: 45\\', \\'age: 65\\', \\'age: 48\\', \\'age: 50\\', \\'age: 24\\', \\'age: 42\\'], 4: [nan, \\'age: 63\\', \\'age: 74\\', \\'age: 49\\', \\'age: 60\\', \\'age: 68\\', \\'age: 38\\', \\'age: 16\\', \\'age: 12\\', \\'age: 27\\']}\\n'"
      ]
     },
     "execution_count": 33,
     "metadata": {},
     "output_type": "execute_result"
    }
   ],
   "source": [
    "f'''As a biomedical research team, we are selecting datasets to study the association between the human trait \\'{TRAIT}\\' and genetic factors, optionally considering the influence of age and gender. After searching the GEO database and parsing the matrix file of a series, we obtained background information and sample characteristics data. We will provide textual information about the dataset background, and a Python dictionary storing a list of unique values for each field of the sample characteristics data. Please carefully review the provided information and answer the following questions about this dataset:\n",
    "1. Does this dataset contain gene expression data? (Note: Pure miRNA data is not suitable.)\n",
    "2. For each of the traits \\'{TRAIT}\\', 'age', and 'gender', please address these points:\n",
    "   (1) Is there human data available for this trait?\n",
    "   (2) If so, identify the key in the sample characteristics dictionary where unique values of this trait is recorded. The key is an integer. The trait information might be explicitly recorded, or can be inferred from the field with some biomedical knowledge or understanding about the data collection process.\n",
    "   (3) Choose an appropriate data type (either 'continuous' or 'binary') for each trait. Write a Python function to convert any given value of the trait to this data type. The function should handle inference about the trait value and convert unknown values to None.\n",
    "   Name the functions 'convert_trait', 'convert_age', and 'convert_gender', respectively.\n",
    "\n",
    "Background information about the dataset:\n",
    "{background_info}\n",
    "\n",
    "Sample characteristics dictionary (from \"!Sample_characteristics_ch1\", converted to a Python dictionary that stores the unique values for each field):\n",
    "{clinical_data_unique}\n",
    "'''"
   ]
  },
  {
   "cell_type": "markdown",
   "metadata": {
    "ExecuteTime": {
     "end_time": "2023-12-31T03:58:04.978240504Z",
     "start_time": "2023-12-31T03:58:04.922365324Z"
    },
    "collapsed": false
   },
   "source": [
    "Understand and verify the answer from GPT, to assign values to the below variables. Assign None to the 'row_id' variables if relevant data row was not found.\n",
    "Later we need to let GPT format its answer to automatically do these. But given the complexity of this step, let's grow some insight from the free-text answers for now."
   ]
  },
  {
   "cell_type": "code",
   "execution_count": 21,
   "metadata": {
    "ExecuteTime": {
     "end_time": "2024-01-02T01:03:03.079540570Z",
     "start_time": "2024-01-02T01:03:03.073638535Z"
    },
    "collapsed": false
   },
   "outputs": [],
   "source": [
    "is_gene_availabe = True\n",
    "trait_row = 3\n",
    "age_row = 1\n",
    "gender_row = 4\n",
    "\n",
    "trait_type = 'binary'"
   ]
  },
  {
   "cell_type": "code",
   "execution_count": 22,
   "metadata": {
    "ExecuteTime": {
     "end_time": "2024-01-02T01:03:03.572682163Z",
     "start_time": "2024-01-02T01:03:03.559775513Z"
    },
    "collapsed": false
   },
   "outputs": [],
   "source": [
    "is_available = is_gene_availabe and (trait_row is not None)\n",
    "if not is_available:\n",
    "    save_cohort_info(cohort, JSON_PATH, is_available)\n",
    "    print(\"This cohort is not usable. Please skip the following steps and jump to the next accession number.\")"
   ]
  },
  {
   "cell_type": "code",
   "execution_count": 23,
   "metadata": {
    "ExecuteTime": {
     "end_time": "2024-01-02T01:03:03.973964287Z",
     "start_time": "2024-01-02T01:03:03.964958096Z"
    },
    "collapsed": false
   },
   "outputs": [
    {
     "data": {
      "text/plain": [
       "(0, None, None)"
      ]
     },
     "execution_count": 23,
     "metadata": {},
     "output_type": "execute_result"
    }
   ],
   "source": [
    "def convert_trait(tissue_type):\n",
    "    \"\"\"\n",
    "    Convert tissue type to epilepsy presence (binary).\n",
    "    Assuming epilepsy presence for 'Hippocampus' tissue.\n",
    "    \"\"\"\n",
    "    if tissue_type == 'chronic hypertension: Yes':\n",
    "        return 1  # Epilepsy present\n",
    "    else:\n",
    "        return 0  # Epilepsy not present\n",
    "\n",
    "def convert_age(age_string):\n",
    "    \"\"\"\n",
    "    Convert age string to a numerical value.\n",
    "    \"\"\"\n",
    "    if age_string.startswith('age: '):\n",
    "        try:\n",
    "            return int(age_string.split('age: ')[1].rstrip(''))  # Extracting numeric part\n",
    "        except ValueError:\n",
    "            return None  # In case of parsing error\n",
    "    else:\n",
    "        return None  # If age string does not follow expected format\n",
    "\n",
    "def convert_gender(gender_string):\n",
    "    \"\"\"\n",
    "    Convert gender string to a binary representation.\n",
    "    Female -> 0, Male -> 1, Unknown -> None\n",
    "    \"\"\"\n",
    "    if gender_string == 'Sex: Female':\n",
    "        return 0\n",
    "    elif gender_string == 'Sex: Male':\n",
    "        return 1\n",
    "    else:\n",
    "        return None  # In case of unknown gender\n",
    "\n",
    "# Example usage\n",
    "example_tissue = 'tissue: Hippocampus'\n",
    "example_age = 'age: 23y'\n",
    "example_gender = 'gender: Male'\n",
    "\n",
    "converted_trait = convert_trait(example_tissue)\n",
    "converted_age = convert_age(example_age)\n",
    "converted_gender = convert_gender(example_gender)\n",
    "\n",
    "converted_trait, converted_age, converted_gender"
   ]
  },
  {
   "cell_type": "code",
   "execution_count": 24,
   "metadata": {
    "ExecuteTime": {
     "end_time": "2024-01-02T01:03:04.637878352Z",
     "start_time": "2024-01-02T01:03:04.593886885Z"
    },
    "collapsed": false
   },
   "outputs": [
    {
     "name": "stderr",
     "output_type": "stream",
     "text": [
      "/home/yxcheng/AI4Science_gold_standard/stage1/YIjiang/../utils.py:208: FutureWarning: DataFrame.applymap has been deprecated. Use DataFrame.map instead.\n",
      "  clinical_df = clinical_df.applymap(convert_fn)\n",
      "/home/yxcheng/AI4Science_gold_standard/stage1/YIjiang/../utils.py:208: FutureWarning: DataFrame.applymap has been deprecated. Use DataFrame.map instead.\n",
      "  clinical_df = clinical_df.applymap(convert_fn)\n",
      "/home/yxcheng/AI4Science_gold_standard/stage1/YIjiang/../utils.py:208: FutureWarning: DataFrame.applymap has been deprecated. Use DataFrame.map instead.\n",
      "  clinical_df = clinical_df.applymap(convert_fn)\n"
     ]
    },
    {
     "data": {
      "text/html": [
       "<div>\n",
       "<style scoped>\n",
       "    .dataframe tbody tr th:only-of-type {\n",
       "        vertical-align: middle;\n",
       "    }\n",
       "\n",
       "    .dataframe tbody tr th {\n",
       "        vertical-align: top;\n",
       "    }\n",
       "\n",
       "    .dataframe thead th {\n",
       "        text-align: right;\n",
       "    }\n",
       "</style>\n",
       "<table border=\"1\" class=\"dataframe\">\n",
       "  <thead>\n",
       "    <tr style=\"text-align: right;\">\n",
       "      <th></th>\n",
       "      <th>GSM6268053</th>\n",
       "      <th>GSM6268054</th>\n",
       "      <th>GSM6268055</th>\n",
       "      <th>GSM6268056</th>\n",
       "      <th>GSM6268057</th>\n",
       "      <th>GSM6268058</th>\n",
       "      <th>GSM6268059</th>\n",
       "      <th>GSM6268060</th>\n",
       "      <th>GSM6268061</th>\n",
       "      <th>GSM6268062</th>\n",
       "      <th>...</th>\n",
       "      <th>GSM6268237</th>\n",
       "      <th>GSM6268238</th>\n",
       "      <th>GSM6268239</th>\n",
       "      <th>GSM6268240</th>\n",
       "      <th>GSM6268241</th>\n",
       "      <th>GSM6268242</th>\n",
       "      <th>GSM6268243</th>\n",
       "      <th>GSM6268244</th>\n",
       "      <th>GSM6268245</th>\n",
       "      <th>GSM6268246</th>\n",
       "    </tr>\n",
       "  </thead>\n",
       "  <tbody>\n",
       "    <tr>\n",
       "      <th>Hypertension</th>\n",
       "      <td>0</td>\n",
       "      <td>1</td>\n",
       "      <td>0</td>\n",
       "      <td>0</td>\n",
       "      <td>0</td>\n",
       "      <td>0</td>\n",
       "      <td>0</td>\n",
       "      <td>0</td>\n",
       "      <td>0</td>\n",
       "      <td>0</td>\n",
       "      <td>...</td>\n",
       "      <td>0</td>\n",
       "      <td>1</td>\n",
       "      <td>1</td>\n",
       "      <td>0</td>\n",
       "      <td>0</td>\n",
       "      <td>0</td>\n",
       "      <td>1</td>\n",
       "      <td>0</td>\n",
       "      <td>0</td>\n",
       "      <td>1</td>\n",
       "    </tr>\n",
       "    <tr>\n",
       "      <th>Age</th>\n",
       "      <td>23</td>\n",
       "      <td>34</td>\n",
       "      <td>32</td>\n",
       "      <td>36</td>\n",
       "      <td>29</td>\n",
       "      <td>18</td>\n",
       "      <td>18</td>\n",
       "      <td>29</td>\n",
       "      <td>34</td>\n",
       "      <td>28</td>\n",
       "      <td>...</td>\n",
       "      <td>58</td>\n",
       "      <td>58</td>\n",
       "      <td>63</td>\n",
       "      <td>32</td>\n",
       "      <td>25</td>\n",
       "      <td>34</td>\n",
       "      <td>68</td>\n",
       "      <td>62</td>\n",
       "      <td>68</td>\n",
       "      <td>25</td>\n",
       "    </tr>\n",
       "    <tr>\n",
       "      <th>Gender</th>\n",
       "      <td>0</td>\n",
       "      <td>0</td>\n",
       "      <td>0</td>\n",
       "      <td>0</td>\n",
       "      <td>0</td>\n",
       "      <td>0</td>\n",
       "      <td>0</td>\n",
       "      <td>0</td>\n",
       "      <td>0</td>\n",
       "      <td>0</td>\n",
       "      <td>...</td>\n",
       "      <td>0</td>\n",
       "      <td>0</td>\n",
       "      <td>0</td>\n",
       "      <td>0</td>\n",
       "      <td>0</td>\n",
       "      <td>0</td>\n",
       "      <td>0</td>\n",
       "      <td>0</td>\n",
       "      <td>0</td>\n",
       "      <td>0</td>\n",
       "    </tr>\n",
       "  </tbody>\n",
       "</table>\n",
       "<p>3 rows × 194 columns</p>\n",
       "</div>"
      ],
      "text/plain": [
       "              GSM6268053  GSM6268054  GSM6268055  GSM6268056  GSM6268057  \\\n",
       "Hypertension           0           1           0           0           0   \n",
       "Age                   23          34          32          36          29   \n",
       "Gender                 0           0           0           0           0   \n",
       "\n",
       "              GSM6268058  GSM6268059  GSM6268060  GSM6268061  GSM6268062  ...  \\\n",
       "Hypertension           0           0           0           0           0  ...   \n",
       "Age                   18          18          29          34          28  ...   \n",
       "Gender                 0           0           0           0           0  ...   \n",
       "\n",
       "              GSM6268237  GSM6268238  GSM6268239  GSM6268240  GSM6268241  \\\n",
       "Hypertension           0           1           1           0           0   \n",
       "Age                   58          58          63          32          25   \n",
       "Gender                 0           0           0           0           0   \n",
       "\n",
       "              GSM6268242  GSM6268243  GSM6268244  GSM6268245  GSM6268246  \n",
       "Hypertension           0           1           0           0           1  \n",
       "Age                   34          68          62          68          25  \n",
       "Gender                 0           0           0           0           0  \n",
       "\n",
       "[3 rows x 194 columns]"
      ]
     },
     "execution_count": 24,
     "metadata": {},
     "output_type": "execute_result"
    }
   ],
   "source": [
    "selected_clinical_data = geo_select_clinical_features(clinical_data, TRAIT, trait_row, convert_trait, age_row=age_row,\n",
    "                                                      convert_age=convert_age, gender_row=gender_row,\n",
    "                                                      convert_gender=convert_gender)\n",
    "selected_clinical_data.head()"
   ]
  },
  {
   "cell_type": "markdown",
   "metadata": {
    "ExecuteTime": {
     "end_time": "2023-12-31T03:58:04.978664193Z",
     "start_time": "2023-12-31T03:58:04.966117261Z"
    },
    "collapsed": false
   },
   "source": [
    "### Genetic data preprocessing and final filtering"
   ]
  },
  {
   "cell_type": "code",
   "execution_count": 25,
   "metadata": {
    "ExecuteTime": {
     "end_time": "2024-01-02T01:03:06.246474256Z",
     "start_time": "2024-01-02T01:03:05.670354792Z"
    },
    "collapsed": false
   },
   "outputs": [
    {
     "data": {
      "text/html": [
       "<div>\n",
       "<style scoped>\n",
       "    .dataframe tbody tr th:only-of-type {\n",
       "        vertical-align: middle;\n",
       "    }\n",
       "\n",
       "    .dataframe tbody tr th {\n",
       "        vertical-align: top;\n",
       "    }\n",
       "\n",
       "    .dataframe thead th {\n",
       "        text-align: right;\n",
       "    }\n",
       "</style>\n",
       "<table border=\"1\" class=\"dataframe\">\n",
       "  <thead>\n",
       "    <tr style=\"text-align: right;\">\n",
       "      <th></th>\n",
       "      <th>GSM6268053</th>\n",
       "      <th>GSM6268054</th>\n",
       "      <th>GSM6268055</th>\n",
       "      <th>GSM6268056</th>\n",
       "      <th>GSM6268057</th>\n",
       "      <th>GSM6268058</th>\n",
       "      <th>GSM6268059</th>\n",
       "      <th>GSM6268060</th>\n",
       "      <th>GSM6268061</th>\n",
       "      <th>GSM6268062</th>\n",
       "      <th>...</th>\n",
       "      <th>GSM6268237</th>\n",
       "      <th>GSM6268238</th>\n",
       "      <th>GSM6268239</th>\n",
       "      <th>GSM6268240</th>\n",
       "      <th>GSM6268241</th>\n",
       "      <th>GSM6268242</th>\n",
       "      <th>GSM6268243</th>\n",
       "      <th>GSM6268244</th>\n",
       "      <th>GSM6268245</th>\n",
       "      <th>GSM6268246</th>\n",
       "    </tr>\n",
       "    <tr>\n",
       "      <th>ID</th>\n",
       "      <th></th>\n",
       "      <th></th>\n",
       "      <th></th>\n",
       "      <th></th>\n",
       "      <th></th>\n",
       "      <th></th>\n",
       "      <th></th>\n",
       "      <th></th>\n",
       "      <th></th>\n",
       "      <th></th>\n",
       "      <th></th>\n",
       "      <th></th>\n",
       "      <th></th>\n",
       "      <th></th>\n",
       "      <th></th>\n",
       "      <th></th>\n",
       "      <th></th>\n",
       "      <th></th>\n",
       "      <th></th>\n",
       "      <th></th>\n",
       "      <th></th>\n",
       "    </tr>\n",
       "  </thead>\n",
       "  <tbody>\n",
       "    <tr>\n",
       "      <th>A1BG.16561.9</th>\n",
       "      <td>11.202246</td>\n",
       "      <td>11.207136</td>\n",
       "      <td>10.426998</td>\n",
       "      <td>11.173365</td>\n",
       "      <td>11.010388</td>\n",
       "      <td>10.933986</td>\n",
       "      <td>11.123345</td>\n",
       "      <td>10.727325</td>\n",
       "      <td>10.966866</td>\n",
       "      <td>11.104599</td>\n",
       "      <td>...</td>\n",
       "      <td>10.907191</td>\n",
       "      <td>11.041522</td>\n",
       "      <td>10.683609</td>\n",
       "      <td>10.546219</td>\n",
       "      <td>10.323167</td>\n",
       "      <td>10.745758</td>\n",
       "      <td>11.066426</td>\n",
       "      <td>10.849170</td>\n",
       "      <td>10.322041</td>\n",
       "      <td>10.770168</td>\n",
       "    </tr>\n",
       "    <tr>\n",
       "      <th>A1CF.12423.38</th>\n",
       "      <td>10.481699</td>\n",
       "      <td>10.417114</td>\n",
       "      <td>10.795877</td>\n",
       "      <td>10.951430</td>\n",
       "      <td>10.082016</td>\n",
       "      <td>10.290595</td>\n",
       "      <td>10.873290</td>\n",
       "      <td>10.687201</td>\n",
       "      <td>10.794091</td>\n",
       "      <td>12.203379</td>\n",
       "      <td>...</td>\n",
       "      <td>10.225448</td>\n",
       "      <td>9.634811</td>\n",
       "      <td>9.708394</td>\n",
       "      <td>9.804776</td>\n",
       "      <td>10.227616</td>\n",
       "      <td>9.840148</td>\n",
       "      <td>9.760720</td>\n",
       "      <td>9.771820</td>\n",
       "      <td>9.695402</td>\n",
       "      <td>13.576189</td>\n",
       "    </tr>\n",
       "    <tr>\n",
       "      <th>A2M.3708.62</th>\n",
       "      <td>14.462036</td>\n",
       "      <td>13.766643</td>\n",
       "      <td>14.160848</td>\n",
       "      <td>14.046126</td>\n",
       "      <td>13.529931</td>\n",
       "      <td>13.476696</td>\n",
       "      <td>14.154715</td>\n",
       "      <td>13.102615</td>\n",
       "      <td>13.900339</td>\n",
       "      <td>14.349254</td>\n",
       "      <td>...</td>\n",
       "      <td>13.635310</td>\n",
       "      <td>13.305449</td>\n",
       "      <td>13.750749</td>\n",
       "      <td>13.891926</td>\n",
       "      <td>14.377305</td>\n",
       "      <td>13.716755</td>\n",
       "      <td>13.310499</td>\n",
       "      <td>13.777779</td>\n",
       "      <td>12.418248</td>\n",
       "      <td>13.683444</td>\n",
       "    </tr>\n",
       "    <tr>\n",
       "      <th>A2ML1.15482.12</th>\n",
       "      <td>11.501240</td>\n",
       "      <td>9.385431</td>\n",
       "      <td>9.401733</td>\n",
       "      <td>9.282857</td>\n",
       "      <td>8.822730</td>\n",
       "      <td>9.000282</td>\n",
       "      <td>11.093021</td>\n",
       "      <td>8.976134</td>\n",
       "      <td>9.367633</td>\n",
       "      <td>9.392747</td>\n",
       "      <td>...</td>\n",
       "      <td>14.534370</td>\n",
       "      <td>9.979568</td>\n",
       "      <td>9.094342</td>\n",
       "      <td>9.599727</td>\n",
       "      <td>9.482808</td>\n",
       "      <td>9.161888</td>\n",
       "      <td>9.384784</td>\n",
       "      <td>9.029011</td>\n",
       "      <td>9.120756</td>\n",
       "      <td>9.109047</td>\n",
       "    </tr>\n",
       "    <tr>\n",
       "      <th>A4GALT.8759.29</th>\n",
       "      <td>9.506605</td>\n",
       "      <td>8.936638</td>\n",
       "      <td>8.972693</td>\n",
       "      <td>8.960292</td>\n",
       "      <td>8.149747</td>\n",
       "      <td>8.414474</td>\n",
       "      <td>9.221104</td>\n",
       "      <td>8.379378</td>\n",
       "      <td>8.976134</td>\n",
       "      <td>9.237210</td>\n",
       "      <td>...</td>\n",
       "      <td>8.455327</td>\n",
       "      <td>10.254320</td>\n",
       "      <td>8.974988</td>\n",
       "      <td>9.244126</td>\n",
       "      <td>9.071194</td>\n",
       "      <td>8.983849</td>\n",
       "      <td>9.185123</td>\n",
       "      <td>8.812498</td>\n",
       "      <td>8.381110</td>\n",
       "      <td>9.057992</td>\n",
       "    </tr>\n",
       "  </tbody>\n",
       "</table>\n",
       "<p>5 rows × 194 columns</p>\n",
       "</div>"
      ],
      "text/plain": [
       "                GSM6268053  GSM6268054  GSM6268055  GSM6268056  GSM6268057  \\\n",
       "ID                                                                           \n",
       "A1BG.16561.9     11.202246   11.207136   10.426998   11.173365   11.010388   \n",
       "A1CF.12423.38    10.481699   10.417114   10.795877   10.951430   10.082016   \n",
       "A2M.3708.62      14.462036   13.766643   14.160848   14.046126   13.529931   \n",
       "A2ML1.15482.12   11.501240    9.385431    9.401733    9.282857    8.822730   \n",
       "A4GALT.8759.29    9.506605    8.936638    8.972693    8.960292    8.149747   \n",
       "\n",
       "                GSM6268058  GSM6268059  GSM6268060  GSM6268061  GSM6268062  \\\n",
       "ID                                                                           \n",
       "A1BG.16561.9     10.933986   11.123345   10.727325   10.966866   11.104599   \n",
       "A1CF.12423.38    10.290595   10.873290   10.687201   10.794091   12.203379   \n",
       "A2M.3708.62      13.476696   14.154715   13.102615   13.900339   14.349254   \n",
       "A2ML1.15482.12    9.000282   11.093021    8.976134    9.367633    9.392747   \n",
       "A4GALT.8759.29    8.414474    9.221104    8.379378    8.976134    9.237210   \n",
       "\n",
       "                ...  GSM6268237  GSM6268238  GSM6268239  GSM6268240  \\\n",
       "ID              ...                                                   \n",
       "A1BG.16561.9    ...   10.907191   11.041522   10.683609   10.546219   \n",
       "A1CF.12423.38   ...   10.225448    9.634811    9.708394    9.804776   \n",
       "A2M.3708.62     ...   13.635310   13.305449   13.750749   13.891926   \n",
       "A2ML1.15482.12  ...   14.534370    9.979568    9.094342    9.599727   \n",
       "A4GALT.8759.29  ...    8.455327   10.254320    8.974988    9.244126   \n",
       "\n",
       "                GSM6268241  GSM6268242  GSM6268243  GSM6268244  GSM6268245  \\\n",
       "ID                                                                           \n",
       "A1BG.16561.9     10.323167   10.745758   11.066426   10.849170   10.322041   \n",
       "A1CF.12423.38    10.227616    9.840148    9.760720    9.771820    9.695402   \n",
       "A2M.3708.62      14.377305   13.716755   13.310499   13.777779   12.418248   \n",
       "A2ML1.15482.12    9.482808    9.161888    9.384784    9.029011    9.120756   \n",
       "A4GALT.8759.29    9.071194    8.983849    9.185123    8.812498    8.381110   \n",
       "\n",
       "                GSM6268246  \n",
       "ID                          \n",
       "A1BG.16561.9     10.770168  \n",
       "A1CF.12423.38    13.576189  \n",
       "A2M.3708.62      13.683444  \n",
       "A2ML1.15482.12    9.109047  \n",
       "A4GALT.8759.29    9.057992  \n",
       "\n",
       "[5 rows x 194 columns]"
      ]
     },
     "execution_count": 25,
     "metadata": {},
     "output_type": "execute_result"
    }
   ],
   "source": [
    "genetic_data = get_genetic_data(matrix_file)\n",
    "genetic_data.head()"
   ]
  },
  {
   "cell_type": "code",
   "execution_count": 26,
   "metadata": {
    "ExecuteTime": {
     "end_time": "2024-01-02T01:03:06.250833943Z",
     "start_time": "2024-01-02T01:03:06.246758837Z"
    },
    "collapsed": false
   },
   "outputs": [
    {
     "data": {
      "text/plain": [
       "['A1BG.16561.9',\n",
       " 'A1CF.12423.38',\n",
       " 'A2M.3708.62',\n",
       " 'A2ML1.15482.12',\n",
       " 'A4GALT.8759.29',\n",
       " 'A4GNT.10835.25',\n",
       " 'AACS.21515.61',\n",
       " 'AADAT.22023.3',\n",
       " 'AAGAB.11926.23',\n",
       " 'AAMDC.24216.30',\n",
       " 'AARS1.12340.17',\n",
       " 'AARSD1.21535.5',\n",
       " 'AASDHPPT.17320.19',\n",
       " 'ABCC6.8935.22',\n",
       " 'ABCD4.25886.11',\n",
       " 'ABCF3.23700.42',\n",
       " 'ABHD10.17370.186',\n",
       " 'ABHD12.7825.7',\n",
       " 'ABHD14A.5715.4',\n",
       " 'ABHD14B.19325.21']"
      ]
     },
     "execution_count": 26,
     "metadata": {},
     "output_type": "execute_result"
    }
   ],
   "source": [
    "gene_row_ids = genetic_data.index[:20].tolist()\n",
    "gene_row_ids"
   ]
  },
  {
   "cell_type": "markdown",
   "metadata": {
    "ExecuteTime": {
     "end_time": "2023-12-31T03:30:41.595335164Z",
     "start_time": "2023-12-31T03:30:41.513232329Z"
    },
    "collapsed": false
   },
   "source": [
    "Check if the gene dataset requires mapping to get the gene symbols corresponding to each data row."
   ]
  },
  {
   "cell_type": "markdown",
   "metadata": {
    "collapsed": false
   },
   "source": [
    "Reference prompt:"
   ]
  },
  {
   "cell_type": "code",
   "execution_count": 27,
   "metadata": {
    "ExecuteTime": {
     "end_time": "2024-01-02T01:03:07.586216481Z",
     "start_time": "2024-01-02T01:03:07.574527035Z"
    },
    "collapsed": false
   },
   "outputs": [
    {
     "data": {
      "text/plain": [
       "\"\\nBelow are the row headers of a gene expression dataset in GEO. Based on your biomedical knowledge, are they human gene symbols, or are they some other identifiers that need to be mapped to gene symbols? Your answer should be concluded by starting a new line and strictly following this format:\\nrequires_gene_mapping = (True or False)\\n\\nRow headers:\\n['A1BG.16561.9', 'A1CF.12423.38', 'A2M.3708.62', 'A2ML1.15482.12', 'A4GALT.8759.29', 'A4GNT.10835.25', 'AACS.21515.61', 'AADAT.22023.3', 'AAGAB.11926.23', 'AAMDC.24216.30', 'AARS1.12340.17', 'AARSD1.21535.5', 'AASDHPPT.17320.19', 'ABCC6.8935.22', 'ABCD4.25886.11', 'ABCF3.23700.42', 'ABHD10.17370.186', 'ABHD12.7825.7', 'ABHD14A.5715.4', 'ABHD14B.19325.21']\\n\""
      ]
     },
     "execution_count": 27,
     "metadata": {},
     "output_type": "execute_result"
    }
   ],
   "source": [
    "f'''\n",
    "Below are the row headers of a gene expression dataset in GEO. Based on your biomedical knowledge, are they human gene symbols, or are they some other identifiers that need to be mapped to gene symbols? Your answer should be concluded by starting a new line and strictly following this format:\n",
    "requires_gene_mapping = (True or False)\n",
    "\n",
    "Row headers:\n",
    "{gene_row_ids}\n",
    "'''"
   ]
  },
  {
   "cell_type": "markdown",
   "metadata": {
    "collapsed": false
   },
   "source": [
    "If not required, jump directly to the gene normalization step"
   ]
  },
  {
   "cell_type": "code",
   "execution_count": 28,
   "metadata": {
    "ExecuteTime": {
     "end_time": "2024-01-02T01:03:08.263712538Z",
     "start_time": "2024-01-02T01:03:08.260656314Z"
    },
    "collapsed": false
   },
   "outputs": [],
   "source": [
    "requires_gene_mapping = True"
   ]
  },
  {
   "cell_type": "code",
   "execution_count": 29,
   "metadata": {
    "ExecuteTime": {
     "end_time": "2024-01-02T01:03:33.822550310Z",
     "start_time": "2024-01-02T01:03:08.648958912Z"
    },
    "collapsed": false
   },
   "outputs": [
    {
     "name": "stdout",
     "output_type": "stream",
     "text": [
      "{'ID': ['CRYBB2.10000.28', 'RAF1.10001.7', 'ZNF41.10003.15', 'ELK1.10006.25', 'GUCA1A.10008.43'], 'SeqId': ['10000-28', '10001-7', '10003-15', '10006-25', '10008-43'], 'SeqIdVersion': [3.0, 3.0, 3.0, 3.0, 3.0], 'SomaId': ['SL019233', 'SL002564', 'SL019245', 'SL019228', 'SL019234'], 'TargetFullName': ['Beta-crystallin B2', 'RAF proto-oncogene serine/threonine-protein kinase', 'Zinc finger protein 41', 'ETS domain-containing protein Elk-1', 'Guanylyl cyclase-activating protein 1'], 'Target': ['CRBB2', 'c-Raf', 'ZNF41', 'ELK1', 'GUC1A'], 'UniProt': ['P43320', 'P04049', 'P51814', 'P19419', 'P43080'], 'EntrezGeneID': ['1415', '5894', '7592', '2002', '2978'], 'EntrezGeneSymbol': ['CRYBB2', 'RAF1', 'ZNF41', 'ELK1', 'GUCA1A'], 'Organism': ['Human', 'Human', 'Human', 'Human', 'Human'], 'Units': ['RFU', 'RFU', 'RFU', 'RFU', 'RFU'], 'Type': ['Protein', 'Protein', 'Protein', 'Protein', 'Protein'], 'SPOT_ID': ['SL019233', 'SL002564', 'SL019245', 'SL019228', 'SL019234']}\n"
     ]
    }
   ],
   "source": [
    "if requires_gene_mapping:\n",
    "    gene_annotation = get_gene_annotation(soft_file)\n",
    "    gene_annotation_summary = preview_df(gene_annotation)\n",
    "    print(gene_annotation_summary)"
   ]
  },
  {
   "cell_type": "markdown",
   "metadata": {
    "ExecuteTime": {
     "end_time": "2023-12-31T03:58:04.978931927Z",
     "start_time": "2023-12-31T03:58:04.966328339Z"
    },
    "collapsed": false
   },
   "source": [
    "Observe the first few cells in the ID column of the gene annotation dataframe, to find the names of columns that store the gene probe IDs and gene symbols respectively.\n",
    "Reference prompt:"
   ]
  },
  {
   "cell_type": "code",
   "execution_count": 30,
   "metadata": {
    "ExecuteTime": {
     "end_time": "2024-01-02T01:03:33.822912446Z",
     "start_time": "2024-01-02T01:03:33.804491826Z"
    },
    "collapsed": false
   },
   "outputs": [
    {
     "name": "stdout",
     "output_type": "stream",
     "text": [
      "\n",
      "    As a biomedical research team, we extracted the gene annotation data from a series in the GEO database, and saved it to a Python dictionary. Please read the dictionary, and decide which key stores the ID of the probe, and which key stores the gene symbols. Please strict follow this format in your answer:\n",
      "    probe_name_key = 'key_name1'\n",
      "    gene_name_key = 'key_name2'\n",
      "\n",
      "    Gene annotation dictionary:\n",
      "    {'ID': ['CRYBB2.10000.28', 'RAF1.10001.7', 'ZNF41.10003.15', 'ELK1.10006.25', 'GUCA1A.10008.43'], 'SeqId': ['10000-28', '10001-7', '10003-15', '10006-25', '10008-43'], 'SeqIdVersion': [3.0, 3.0, 3.0, 3.0, 3.0], 'SomaId': ['SL019233', 'SL002564', 'SL019245', 'SL019228', 'SL019234'], 'TargetFullName': ['Beta-crystallin B2', 'RAF proto-oncogene serine/threonine-protein kinase', 'Zinc finger protein 41', 'ETS domain-containing protein Elk-1', 'Guanylyl cyclase-activating protein 1'], 'Target': ['CRBB2', 'c-Raf', 'ZNF41', 'ELK1', 'GUC1A'], 'UniProt': ['P43320', 'P04049', 'P51814', 'P19419', 'P43080'], 'EntrezGeneID': ['1415', '5894', '7592', '2002', '2978'], 'EntrezGeneSymbol': ['CRYBB2', 'RAF1', 'ZNF41', 'ELK1', 'GUCA1A'], 'Organism': ['Human', 'Human', 'Human', 'Human', 'Human'], 'Units': ['RFU', 'RFU', 'RFU', 'RFU', 'RFU'], 'Type': ['Protein', 'Protein', 'Protein', 'Protein', 'Protein'], 'SPOT_ID': ['SL019233', 'SL002564', 'SL019245', 'SL019228', 'SL019234']}\n",
      "    \n"
     ]
    }
   ],
   "source": [
    "if requires_gene_mapping:\n",
    "    print(f'''\n",
    "    As a biomedical research team, we extracted the gene annotation data from a series in the GEO database, and saved it to a Python dictionary. Please read the dictionary, and decide which key stores the ID of the probe, and which key stores the gene symbols. Please strict follow this format in your answer:\n",
    "    probe_name_key = 'key_name1'\n",
    "    gene_name_key = 'key_name2'\n",
    "\n",
    "    Gene annotation dictionary:\n",
    "    {gene_annotation_summary}\n",
    "    ''')"
   ]
  },
  {
   "cell_type": "code",
   "execution_count": 31,
   "metadata": {
    "ExecuteTime": {
     "end_time": "2024-01-02T01:03:35.113359369Z",
     "start_time": "2024-01-02T01:03:33.804666371Z"
    },
    "collapsed": false
   },
   "outputs": [],
   "source": [
    "if requires_gene_mapping:\n",
    "    probe_id_key = 'ID'\n",
    "    gene_symb_key = 'EntrezGeneSymbol'\n",
    "    gene_mapping = get_gene_mapping(gene_annotation, probe_id_key, gene_symb_key)\n",
    "    genetic_data = apply_gene_mapping(genetic_data, gene_mapping)"
   ]
  },
  {
   "cell_type": "code",
   "execution_count": 32,
   "metadata": {
    "ExecuteTime": {
     "end_time": "2024-01-02T01:03:35.156584675Z",
     "start_time": "2024-01-02T01:03:35.114652593Z"
    },
    "collapsed": false
   },
   "outputs": [
    {
     "name": "stderr",
     "output_type": "stream",
     "text": [
      "1 input query terms found dup hits:\t[('BAGE2', 2)]\n",
      "10 input query terms found no hit:\t['ANP32C', 'BAP18', 'C11orf49', 'C12orf65', 'C16orf71', 'C16orf72', 'C19orf54', 'C5orf38', 'C7orf69'\n",
      "1 input query terms found dup hits:\t[('DNAJB3', 2)]\n",
      "9 input query terms found no hit:\t['DDX58', 'DUPD1', 'DUSP13', 'EFCAB1', 'EURL', 'FAM102B', 'FAM160B1', 'FAM172A', 'FAM189A2']\n",
      "10 input query terms found dup hits:\t[('HBD', 2), ('IGHA1', 2), ('IGHA2', 2), ('IGHD', 2), ('IGHE', 2), ('IGHG1', 2), ('IGHG2', 2), ('IGH\n",
      "7 input query terms found no hit:\t['FAM92A', 'FLJ44635', 'GBA', 'GGT2', 'H2AW', 'H2BU1', 'HHLA3']\n",
      "9 input query terms found no hit:\t['LAS2', 'LEG1', 'MAGEA5', 'MENT', 'MPP5', 'MPP6', 'MYLPF', 'NMES1', 'NRAC']\n",
      "3 input query terms found dup hits:\t[('SIGLEC5', 2), ('TCP10L3', 2), ('TEC', 2)]\n",
      "6 input query terms found no hit:\t['SARG', 'SLC9A3R1', 'SPATA5', 'TDGF1', 'TSTA3', 'TTC25']\n",
      "1 input query terms found dup hits:\t[('TYMSOS', 2)]\n",
      "2 input query terms found no hit:\t['TXNRD3NB', 'ZADH2']\n"
     ]
    }
   ],
   "source": [
    "if NORMALIZE_GENE:\n",
    "    genetic_data = normalize_gene_symbols_in_index(genetic_data)"
   ]
  },
  {
   "cell_type": "code",
   "execution_count": 33,
   "metadata": {
    "ExecuteTime": {
     "end_time": "2024-01-02T01:03:35.158174021Z",
     "start_time": "2024-01-02T01:03:35.156777134Z"
    },
    "collapsed": false
   },
   "outputs": [],
   "source": [
    "merged_data = geo_merge_clinical_genetic_data(selected_clinical_data, genetic_data)\n",
    "# The preprocessing runs through, which means is_available should be True\n",
    "is_available = True"
   ]
  },
  {
   "cell_type": "code",
   "execution_count": 34,
   "metadata": {
    "ExecuteTime": {
     "end_time": "2024-01-02T01:03:35.158378853Z",
     "start_time": "2024-01-02T01:03:35.156895194Z"
    },
    "collapsed": false
   },
   "outputs": [
    {
     "name": "stdout",
     "output_type": "stream",
     "text": [
      "The merged dataset contains 194 samples.\n"
     ]
    }
   ],
   "source": [
    "print(f\"The merged dataset contains {len(merged_data)} samples.\")"
   ]
  },
  {
   "cell_type": "code",
   "execution_count": 35,
   "metadata": {
    "ExecuteTime": {
     "end_time": "2024-01-02T01:03:35.158646754Z",
     "start_time": "2024-01-02T01:03:35.156975304Z"
    },
    "collapsed": false
   },
   "outputs": [
    {
     "name": "stdout",
     "output_type": "stream",
     "text": [
      "For the feature 'Hypertension', the least common label is '1.0' with 53 occurrences. This represents 27.32% of the dataset.\n",
      "The distribution of the feature 'Hypertension' in this dataset is fine.\n",
      "\n",
      "Quartiles for 'Age':\n",
      "  25%: 28.0\n",
      "  50% (Median): 35.5\n",
      "  75%: 57.75\n",
      "Min: 16.0\n",
      "Max: 85.0\n",
      "The distribution of the feature 'Age' in this dataset is fine.\n",
      "\n",
      "For the feature 'Gender', the least common label is '1.0' with 44 occurrences. This represents 22.68% of the dataset.\n",
      "The distribution of the feature 'Gender' in this dataset is fine.\n",
      "\n"
     ]
    },
    {
     "data": {
      "text/plain": [
       "False"
      ]
     },
     "execution_count": 35,
     "metadata": {},
     "output_type": "execute_result"
    }
   ],
   "source": [
    "is_trait_biased, merged_data = judge_and_remove_biased_features(merged_data, TRAIT, trait_type=trait_type)\n",
    "is_trait_biased"
   ]
  },
  {
   "cell_type": "code",
   "execution_count": 36,
   "metadata": {
    "ExecuteTime": {
     "end_time": "2024-01-02T01:03:35.158803015Z",
     "start_time": "2024-01-02T01:03:35.157063388Z"
    },
    "collapsed": false
   },
   "outputs": [
    {
     "name": "stdout",
     "output_type": "stream",
     "text": [
      "A new JSON file was created at: ../../output1/Yuxuan/Hypertension/cohort_info.json\n"
     ]
    }
   ],
   "source": [
    "save_cohort_info(cohort, JSON_PATH, is_available, is_trait_biased, merged_data, note='')"
   ]
  },
  {
   "cell_type": "code",
   "execution_count": 37,
   "metadata": {
    "ExecuteTime": {
     "end_time": "2024-01-02T01:03:36.004312476Z",
     "start_time": "2024-01-02T01:03:35.157165158Z"
    },
    "collapsed": false
   },
   "outputs": [],
   "source": [
    "merged_data.head()\n",
    "if not is_trait_biased:\n",
    "    merged_data.to_csv(os.path.join(OUTPUT_DIR, cohort+'.csv'), index=False)"
   ]
  },
  {
   "cell_type": "markdown",
   "metadata": {
    "ExecuteTime": {
     "end_time": "2023-12-31T03:58:22.271683755Z",
     "start_time": "2023-12-31T03:58:22.246557674Z"
    },
    "id": "-MTPhRGxJV7I"
   },
   "source": [
    "### 3. Do regression & Cross Validation"
   ]
  },
  {
   "cell_type": "code",
   "execution_count": 38,
   "metadata": {
    "ExecuteTime": {
     "end_time": "2024-01-02T01:03:36.048788605Z",
     "start_time": "2024-01-02T01:03:36.005925887Z"
    },
    "collapsed": false
   },
   "outputs": [],
   "source": [
    "from utils import *"
   ]
  },
  {
   "cell_type": "code",
   "execution_count": 39,
   "metadata": {
    "ExecuteTime": {
     "end_time": "2024-01-02T01:03:36.049183603Z",
     "start_time": "2024-01-02T01:03:36.048440305Z"
    },
    "collapsed": false
   },
   "outputs": [
    {
     "data": {
      "text/plain": [
       "'GSE207015'"
      ]
     },
     "execution_count": 39,
     "metadata": {},
     "output_type": "execute_result"
    }
   ],
   "source": [
    "best_cohort, ranked_df = filter_and_rank_cohorts(JSON_PATH, 'has_age')\n",
    "best_cohort"
   ]
  },
  {
   "cell_type": "code",
   "execution_count": 40,
   "metadata": {
    "ExecuteTime": {
     "end_time": "2024-01-02T01:03:36.049430313Z",
     "start_time": "2024-01-02T01:03:36.048984361Z"
    },
    "collapsed": false
   },
   "outputs": [
    {
     "data": {
      "text/html": [
       "<div>\n",
       "<style scoped>\n",
       "    .dataframe tbody tr th:only-of-type {\n",
       "        vertical-align: middle;\n",
       "    }\n",
       "\n",
       "    .dataframe tbody tr th {\n",
       "        vertical-align: top;\n",
       "    }\n",
       "\n",
       "    .dataframe thead th {\n",
       "        text-align: right;\n",
       "    }\n",
       "</style>\n",
       "<table border=\"1\" class=\"dataframe\">\n",
       "  <thead>\n",
       "    <tr style=\"text-align: right;\">\n",
       "      <th></th>\n",
       "      <th>cohort_id</th>\n",
       "      <th>is_usable</th>\n",
       "      <th>is_available</th>\n",
       "      <th>is_biased</th>\n",
       "      <th>has_age</th>\n",
       "      <th>has_gender</th>\n",
       "      <th>sample_size</th>\n",
       "      <th>note</th>\n",
       "    </tr>\n",
       "  </thead>\n",
       "  <tbody>\n",
       "    <tr>\n",
       "      <th>0</th>\n",
       "      <td>GSE207015</td>\n",
       "      <td>True</td>\n",
       "      <td>True</td>\n",
       "      <td>False</td>\n",
       "      <td>True</td>\n",
       "      <td>True</td>\n",
       "      <td>194</td>\n",
       "      <td></td>\n",
       "    </tr>\n",
       "  </tbody>\n",
       "</table>\n",
       "</div>"
      ],
      "text/plain": [
       "   cohort_id  is_usable  is_available  is_biased  has_age  has_gender  \\\n",
       "0  GSE207015       True          True      False     True        True   \n",
       "\n",
       "   sample_size note  \n",
       "0          194       "
      ]
     },
     "execution_count": 40,
     "metadata": {},
     "output_type": "execute_result"
    }
   ],
   "source": [
    "ranked_df.head()"
   ]
  },
  {
   "cell_type": "code",
   "execution_count": 41,
   "metadata": {
    "ExecuteTime": {
     "end_time": "2024-01-02T01:03:36.345375576Z",
     "start_time": "2024-01-02T01:03:36.049289340Z"
    },
    "collapsed": false
   },
   "outputs": [],
   "source": [
    "ck=100\n",
    "listq=[]\n",
    "for df in pd.read_csv(os.path.join(OUTPUT_DIR, best_cohort+'.csv'),chunksize=ck):\n",
    "    listq.append(df)\n",
    "merged_data = pd.concat(listq)\n",
    "#merged_data = pd.read_csv(os.path.join(OUTPUT_DIR, best_cohort+'.csv'))"
   ]
  },
  {
   "cell_type": "code",
   "execution_count": 42,
   "metadata": {
    "ExecuteTime": {
     "end_time": "2024-01-02T01:03:36.400788548Z",
     "start_time": "2024-01-02T01:03:36.355439168Z"
    },
    "collapsed": false
   },
   "outputs": [
    {
     "data": {
      "text/html": [
       "<div>\n",
       "<style scoped>\n",
       "    .dataframe tbody tr th:only-of-type {\n",
       "        vertical-align: middle;\n",
       "    }\n",
       "\n",
       "    .dataframe tbody tr th {\n",
       "        vertical-align: top;\n",
       "    }\n",
       "\n",
       "    .dataframe thead th {\n",
       "        text-align: right;\n",
       "    }\n",
       "</style>\n",
       "<table border=\"1\" class=\"dataframe\">\n",
       "  <thead>\n",
       "    <tr style=\"text-align: right;\">\n",
       "      <th></th>\n",
       "      <th>Hypertension</th>\n",
       "      <th>Age</th>\n",
       "      <th>Gender</th>\n",
       "      <th>A1BG</th>\n",
       "      <th>A1CF</th>\n",
       "      <th>A2M</th>\n",
       "      <th>A2ML1</th>\n",
       "      <th>A4GALT</th>\n",
       "      <th>A4GNT</th>\n",
       "      <th>AACS</th>\n",
       "      <th>...</th>\n",
       "      <th>ZP4</th>\n",
       "      <th>ZPBP</th>\n",
       "      <th>ZPBP2</th>\n",
       "      <th>ZPLD1</th>\n",
       "      <th>ZRANB1</th>\n",
       "      <th>ZSWIM7</th>\n",
       "      <th>ZW10</th>\n",
       "      <th>ZWILCH</th>\n",
       "      <th>ZWINT</th>\n",
       "      <th>ZYX</th>\n",
       "    </tr>\n",
       "  </thead>\n",
       "  <tbody>\n",
       "    <tr>\n",
       "      <th>0</th>\n",
       "      <td>0.0</td>\n",
       "      <td>23.0</td>\n",
       "      <td>0.0</td>\n",
       "      <td>11.202246</td>\n",
       "      <td>10.481699</td>\n",
       "      <td>14.462036</td>\n",
       "      <td>11.501240</td>\n",
       "      <td>9.506605</td>\n",
       "      <td>9.536247</td>\n",
       "      <td>10.440869</td>\n",
       "      <td>...</td>\n",
       "      <td>10.449665</td>\n",
       "      <td>11.465362</td>\n",
       "      <td>5.889960</td>\n",
       "      <td>9.269828</td>\n",
       "      <td>10.495655</td>\n",
       "      <td>8.822093</td>\n",
       "      <td>12.875404</td>\n",
       "      <td>11.514320</td>\n",
       "      <td>10.832099</td>\n",
       "      <td>14.440649</td>\n",
       "    </tr>\n",
       "    <tr>\n",
       "      <th>1</th>\n",
       "      <td>1.0</td>\n",
       "      <td>34.0</td>\n",
       "      <td>0.0</td>\n",
       "      <td>11.207136</td>\n",
       "      <td>10.417114</td>\n",
       "      <td>13.766643</td>\n",
       "      <td>9.385431</td>\n",
       "      <td>8.936638</td>\n",
       "      <td>10.080018</td>\n",
       "      <td>9.851749</td>\n",
       "      <td>...</td>\n",
       "      <td>10.443254</td>\n",
       "      <td>11.665691</td>\n",
       "      <td>5.951868</td>\n",
       "      <td>9.280075</td>\n",
       "      <td>10.116864</td>\n",
       "      <td>8.731998</td>\n",
       "      <td>12.718704</td>\n",
       "      <td>11.920874</td>\n",
       "      <td>10.926741</td>\n",
       "      <td>14.629698</td>\n",
       "    </tr>\n",
       "    <tr>\n",
       "      <th>2</th>\n",
       "      <td>0.0</td>\n",
       "      <td>32.0</td>\n",
       "      <td>0.0</td>\n",
       "      <td>10.426998</td>\n",
       "      <td>10.795877</td>\n",
       "      <td>14.160848</td>\n",
       "      <td>9.401733</td>\n",
       "      <td>8.972693</td>\n",
       "      <td>9.459227</td>\n",
       "      <td>9.207502</td>\n",
       "      <td>...</td>\n",
       "      <td>10.239360</td>\n",
       "      <td>11.642954</td>\n",
       "      <td>6.123087</td>\n",
       "      <td>9.475531</td>\n",
       "      <td>9.081350</td>\n",
       "      <td>8.866661</td>\n",
       "      <td>13.817613</td>\n",
       "      <td>11.538771</td>\n",
       "      <td>10.524248</td>\n",
       "      <td>11.585808</td>\n",
       "    </tr>\n",
       "    <tr>\n",
       "      <th>3</th>\n",
       "      <td>0.0</td>\n",
       "      <td>36.0</td>\n",
       "      <td>0.0</td>\n",
       "      <td>11.173365</td>\n",
       "      <td>10.951430</td>\n",
       "      <td>14.046126</td>\n",
       "      <td>9.282857</td>\n",
       "      <td>8.960292</td>\n",
       "      <td>10.177420</td>\n",
       "      <td>9.693313</td>\n",
       "      <td>...</td>\n",
       "      <td>10.394570</td>\n",
       "      <td>11.491001</td>\n",
       "      <td>6.011227</td>\n",
       "      <td>9.435670</td>\n",
       "      <td>9.810572</td>\n",
       "      <td>8.781360</td>\n",
       "      <td>12.481875</td>\n",
       "      <td>11.457022</td>\n",
       "      <td>10.685800</td>\n",
       "      <td>13.942469</td>\n",
       "    </tr>\n",
       "    <tr>\n",
       "      <th>4</th>\n",
       "      <td>0.0</td>\n",
       "      <td>29.0</td>\n",
       "      <td>0.0</td>\n",
       "      <td>11.010388</td>\n",
       "      <td>10.082016</td>\n",
       "      <td>13.529931</td>\n",
       "      <td>8.822730</td>\n",
       "      <td>8.149747</td>\n",
       "      <td>9.485226</td>\n",
       "      <td>9.278449</td>\n",
       "      <td>...</td>\n",
       "      <td>10.235775</td>\n",
       "      <td>11.550699</td>\n",
       "      <td>5.956521</td>\n",
       "      <td>9.401306</td>\n",
       "      <td>9.400666</td>\n",
       "      <td>8.659282</td>\n",
       "      <td>12.754136</td>\n",
       "      <td>11.274203</td>\n",
       "      <td>10.301153</td>\n",
       "      <td>13.308239</td>\n",
       "    </tr>\n",
       "  </tbody>\n",
       "</table>\n",
       "<p>5 rows × 6324 columns</p>\n",
       "</div>"
      ],
      "text/plain": [
       "   Hypertension   Age  Gender       A1BG       A1CF        A2M      A2ML1  \\\n",
       "0           0.0  23.0     0.0  11.202246  10.481699  14.462036  11.501240   \n",
       "1           1.0  34.0     0.0  11.207136  10.417114  13.766643   9.385431   \n",
       "2           0.0  32.0     0.0  10.426998  10.795877  14.160848   9.401733   \n",
       "3           0.0  36.0     0.0  11.173365  10.951430  14.046126   9.282857   \n",
       "4           0.0  29.0     0.0  11.010388  10.082016  13.529931   8.822730   \n",
       "\n",
       "     A4GALT      A4GNT       AACS  ...        ZP4       ZPBP     ZPBP2  \\\n",
       "0  9.506605   9.536247  10.440869  ...  10.449665  11.465362  5.889960   \n",
       "1  8.936638  10.080018   9.851749  ...  10.443254  11.665691  5.951868   \n",
       "2  8.972693   9.459227   9.207502  ...  10.239360  11.642954  6.123087   \n",
       "3  8.960292  10.177420   9.693313  ...  10.394570  11.491001  6.011227   \n",
       "4  8.149747   9.485226   9.278449  ...  10.235775  11.550699  5.956521   \n",
       "\n",
       "      ZPLD1     ZRANB1    ZSWIM7       ZW10     ZWILCH      ZWINT        ZYX  \n",
       "0  9.269828  10.495655  8.822093  12.875404  11.514320  10.832099  14.440649  \n",
       "1  9.280075  10.116864  8.731998  12.718704  11.920874  10.926741  14.629698  \n",
       "2  9.475531   9.081350  8.866661  13.817613  11.538771  10.524248  11.585808  \n",
       "3  9.435670   9.810572  8.781360  12.481875  11.457022  10.685800  13.942469  \n",
       "4  9.401306   9.400666  8.659282  12.754136  11.274203  10.301153  13.308239  \n",
       "\n",
       "[5 rows x 6324 columns]"
      ]
     },
     "execution_count": 42,
     "metadata": {},
     "output_type": "execute_result"
    }
   ],
   "source": [
    "merged_data.head()"
   ]
  },
  {
   "cell_type": "code",
   "execution_count": 43,
   "metadata": {
    "ExecuteTime": {
     "end_time": "2024-01-02T01:03:36.401002087Z",
     "start_time": "2024-01-02T01:03:36.400659608Z"
    },
    "collapsed": false
   },
   "outputs": [],
   "source": [
    "# If both age and gender features are available, select 'age' as the condition.\n",
    "condition = 'Age'\n",
    "# Remove the other condition to prevent interference.\n",
    "merged_data = merged_data.drop(columns=['Gender'], errors='ignore').astype('float')"
   ]
  },
  {
   "cell_type": "code",
   "execution_count": 44,
   "metadata": {
    "ExecuteTime": {
     "end_time": "2024-01-02T01:03:36.403035823Z",
     "start_time": "2024-01-02T01:03:36.401081946Z"
    },
    "collapsed": false
   },
   "outputs": [],
   "source": [
    "X = merged_data.drop(columns=[TRAIT, condition]).values\n",
    "Y = merged_data[TRAIT].values\n",
    "Z = merged_data[condition].values"
   ]
  },
  {
   "cell_type": "markdown",
   "metadata": {
    "collapsed": false
   },
   "source": [
    "Select the appropriate regression model depending on whether the dataset shows batch effect."
   ]
  },
  {
   "cell_type": "code",
   "execution_count": 45,
   "metadata": {
    "ExecuteTime": {
     "end_time": "2024-01-02T01:03:36.403263628Z",
     "start_time": "2024-01-02T01:03:36.401336170Z"
    },
    "collapsed": false
   },
   "outputs": [
    {
     "data": {
      "text/plain": [
       "True"
      ]
     },
     "execution_count": 45,
     "metadata": {},
     "output_type": "execute_result"
    }
   ],
   "source": [
    "has_batch_effect = detect_batch_effect(X)\n",
    "has_batch_effect"
   ]
  },
  {
   "cell_type": "code",
   "execution_count": 46,
   "metadata": {
    "ExecuteTime": {
     "end_time": "2024-01-02T01:03:36.475053437Z",
     "start_time": "2024-01-02T01:03:36.444397231Z"
    },
    "collapsed": false
   },
   "outputs": [],
   "source": [
    "\n",
    "if has_batch_effect:\n",
    "    model_constructor1 = VariableSelection\n",
    "    model_params1 = {'modified': True, 'lamda': 3e-4}\n",
    "    model_constructor2 = VariableSelection\n",
    "    model_params2 = {'modified': False}\n",
    "else:\n",
    "    model_constructor1 = Lasso\n",
    "    model_params1 = {'alpha': 1.0, 'random_state': 42}\n",
    "    model_constructor2 = VariableSelection\n",
    "    model_params2 = {'modified': False}"
   ]
  },
  {
   "cell_type": "code",
   "execution_count": 47,
   "metadata": {
    "ExecuteTime": {
     "end_time": "2024-01-02T01:03:50.733335364Z",
     "start_time": "2024-01-02T01:03:36.444563711Z"
    },
    "collapsed": false
   },
   "outputs": [
    {
     "name": "stdout",
     "output_type": "stream",
     "text": [
      "alpha for Lasso: 0.0003\n",
      "alpha for Lasso: 0.0003\n",
      "alpha for Lasso: 0.0003\n",
      "alpha for Lasso: 0.0003\n",
      "alpha for Lasso: 0.0003\n",
      "The cross-validation accuracy is 43.16% ± 3.57%\n"
     ]
    }
   ],
   "source": [
    "trait_type = 'binary'  # Remember to set this properly, either 'binary' or 'continuous'\n",
    "cv_mean1, cv_std1 = cross_validation(X, Y, Z, model_constructor1, model_params1, target_type=trait_type)"
   ]
  },
  {
   "cell_type": "code",
   "execution_count": 48,
   "metadata": {},
   "outputs": [
    {
     "name": "stdout",
     "output_type": "stream",
     "text": [
      "The cross-validation accuracy is 46.84% ± 4.53%\n"
     ]
    }
   ],
   "source": [
    "cv_mean2, cv_std2 = cross_validation(X, Y, Z, model_constructor2, model_params2, target_type=trait_type)"
   ]
  },
  {
   "cell_type": "code",
   "execution_count": 52,
   "metadata": {
    "ExecuteTime": {
     "end_time": "2024-01-02T01:03:53.587340410Z",
     "start_time": "2024-01-02T01:03:50.732779025Z"
    },
    "collapsed": false
   },
   "outputs": [
    {
     "name": "stdout",
     "output_type": "stream",
     "text": [
      "alpha for Lasso: 0.0003\n"
     ]
    }
   ],
   "source": [
    "normalized_X, _ = normalize_data(X)\n",
    "normalized_Z, _ = normalize_data(Z)\n",
    "\n",
    "# Train regression model on the whole dataset to identify significant genes\n",
    "model1 = ResidualizationRegressor(model_constructor1, model_params1)\n",
    "model1.fit(normalized_X, Y, normalized_Z)\n",
    "\n",
    "model2 = ResidualizationRegressor(model_constructor2, model_params2)\n",
    "model2.fit(normalized_X, Y, normalized_Z)"
   ]
  },
  {
   "cell_type": "markdown",
   "metadata": {
    "ExecuteTime": {
     "end_time": "2023-10-14T04:50:59.072075075Z",
     "start_time": "2023-10-14T04:50:38.739499998Z"
    },
    "id": "EjJrxbvb4nlj"
   },
   "source": [
    "### 5. Discussion and report"
   ]
  },
  {
   "cell_type": "code",
   "execution_count": 50,
   "metadata": {
    "ExecuteTime": {
     "end_time": "2024-01-02T01:03:53.641570844Z",
     "start_time": "2024-01-02T01:03:53.627778553Z"
    },
    "collapsed": false
   },
   "outputs": [
    {
     "name": "stdout",
     "output_type": "stream",
     "text": [
      "Effect of the condition on the target variable:\n",
      "Variable: Age\n",
      "Coefficient: 0.2864\n",
      "Found 130 genes with non-zero coefficients associated with the trait 'Hypertension' conditional on the factor 'Age'. These genes are identified as significant based on the regression model.\n",
      "Variable  Coefficient  Absolute Coefficient\n",
      " ST8SIA4    -2.745913              2.745913\n",
      "    DPP4     2.509702              2.509702\n",
      "   CRLF2     2.413312              2.413312\n",
      "   NAGLU     1.903141              1.903141\n",
      "  KLHL14     1.794163              1.794163\n",
      "  EPS8L3    -1.783291              1.783291\n",
      "     GK5     1.730039              1.730039\n",
      "  FRRS1L     1.670916              1.670916\n",
      "    BTLA    -1.648225              1.648225\n",
      "  SEMA6A     1.644073              1.644073\n",
      "   RALYL     1.613170              1.613170\n",
      "    USF1    -1.417886              1.417886\n",
      "  GLT8D1     1.399191              1.399191\n",
      "   PRPF6     1.302602              1.302602\n",
      " DNAJC15    -1.280723              1.280723\n",
      "    SGSH     1.174956              1.174956\n",
      "    ATG7    -1.169200              1.169200\n",
      "   IFNB1     1.152550              1.152550\n",
      "  MRPL14    -1.123832              1.123832\n",
      "   ADAM9    -1.115293              1.115293\n",
      "  ZRANB1    -1.093366              1.093366\n",
      "   ADRM1     1.001977              1.001977\n",
      "    TBX5     0.995212              0.995212\n",
      "  AKR1C2    -0.991334              0.991334\n",
      "    MUL1    -0.985095              0.985095\n",
      "   RFPL3     0.978435              0.978435\n",
      "  CYP3A4     0.965949              0.965949\n",
      "   HHLA2    -0.926679              0.926679\n",
      "   ERP27     0.919047              0.919047\n",
      "   HCAR2     0.882675              0.882675\n",
      "   EVA1C     0.878995              0.878995\n",
      "   NRXN1     0.867749              0.867749\n",
      " GDAP1L1    -0.809615              0.809615\n",
      "   PSMB2    -0.805240              0.805240\n",
      "   DCP1B     0.800966              0.800966\n",
      "   CLCF1     0.797815              0.797815\n",
      "   POTEG     0.794204              0.794204\n",
      "   PSMD5     0.792056              0.792056\n",
      "    IGHE     0.764755              0.764755\n",
      "HLA-DRB3    -0.750210              0.750210\n",
      " BCL2L11    -0.732108              0.732108\n",
      "   CXCL8     0.715943              0.715943\n",
      "  HSF2BP     0.698956              0.698956\n",
      "    IGHD     0.689702              0.689702\n",
      "  GUCA2B    -0.686950              0.686950\n",
      "  LILRB2     0.672463              0.672463\n",
      "    B9D2    -0.658568              0.658568\n",
      "     F10     0.628500              0.628500\n",
      "    TLE5     0.613851              0.613851\n",
      "   LIN7B    -0.612953              0.612953\n",
      "  TMEM52    -0.601276              0.601276\n",
      "C22orf15    -0.593165              0.593165\n",
      "   NR4A1     0.586035              0.586035\n",
      "    XCL1    -0.554457              0.554457\n",
      "  CRYBB2     0.546073              0.546073\n",
      "  BAIAP2    -0.542530              0.542530\n",
      "    PTK2     0.537909              0.537909\n",
      "    PUS7     0.527550              0.527550\n",
      "   RAB14    -0.515680              0.515680\n",
      " FAM86B1    -0.493563              0.493563\n",
      "    NENF     0.493088              0.493088\n",
      "  PXYLP1    -0.488840              0.488840\n",
      "  PSENEN     0.488386              0.488386\n",
      "    DLST    -0.487468              0.487468\n",
      "    RTL6     0.485506              0.485506\n",
      "  MRPL33     0.483522              0.483522\n",
      "   KLRK1     0.455578              0.455578\n",
      "   MYOM3     0.454798              0.454798\n",
      " MICOS10    -0.452842              0.452842\n",
      " SPAG11A     0.447164              0.447164\n",
      "  DYNLT3    -0.447029              0.447029\n",
      "   CRYGC     0.432703              0.432703\n",
      "     CTH     0.414321              0.414321\n",
      " SIGLEC5    -0.408099              0.408099\n",
      "  ADAM17     0.403428              0.403428\n",
      "   PTPN2    -0.399171              0.399171\n",
      "    GJA1     0.383693              0.383693\n",
      "   PSMG4     0.379179              0.379179\n",
      " CD300LF     0.375678              0.375678\n",
      " RAB3IL1    -0.371406              0.371406\n",
      " SLC6A16    -0.370000              0.370000\n",
      "  COL3A1     0.353409              0.353409\n",
      "  S100A2     0.348247              0.348247\n",
      "   CDH11     0.347155              0.347155\n",
      "     EHF    -0.340763              0.340763\n",
      "    SYT8     0.338121              0.338121\n",
      "  MINPP1     0.324923              0.324923\n",
      " COLEC11     0.323251              0.323251\n",
      " TRMT61B    -0.303963              0.303963\n",
      "   BET1L    -0.300578              0.300578\n",
      "    RORC     0.300043              0.300043\n",
      " DEFB115     0.297208              0.297208\n",
      "   CTRB2     0.296125              0.296125\n",
      "    FSHB    -0.291366              0.291366\n",
      " PPP1R42    -0.287912              0.287912\n",
      "   GLRX5     0.249458              0.249458\n",
      "  POU6F1     0.245596              0.245596\n",
      " SLC16A3     0.230118              0.230118\n",
      "  PLCXD3     0.214103              0.214103\n",
      "   SYTL2     0.201442              0.201442\n",
      "   GRID1    -0.193915              0.193915\n",
      "    PDCL     0.189735              0.189735\n",
      "  ADGRG2    -0.182240              0.182240\n",
      "  SLAMF9    -0.180267              0.180267\n",
      "  WFDC11     0.178081              0.178081\n",
      "  NFATC4     0.173972              0.173972\n",
      "   MSRB1     0.172768              0.172768\n",
      "   CDHR3     0.169013              0.169013\n",
      "   FCRL2    -0.168821              0.168821\n",
      "    CD86     0.166793              0.166793\n",
      "    IL1B     0.156754              0.156754\n",
      "   CRLF1     0.147414              0.147414\n",
      "   CHD1L    -0.139183              0.139183\n",
      "    CLTC     0.125142              0.125142\n",
      "   DOT1L    -0.120993              0.120993\n",
      "C1orf115     0.108473              0.108473\n",
      "   CAPN3     0.107360              0.107360\n",
      "    RELN     0.104806              0.104806\n",
      "  METTL1     0.085355              0.085355\n",
      "   DSCAM     0.081770              0.081770\n",
      "   PQBP1     0.070368              0.070368\n",
      " IL18RAP     0.067659              0.067659\n",
      "  CARTPT     0.052393              0.052393\n",
      "  FAM24B     0.050995              0.050995\n",
      "    ERN1     0.044990              0.044990\n",
      "  PLXNB2     0.042794              0.042794\n",
      "    CLPS     0.028830              0.028830\n",
      "    BEX2    -0.025446              0.025446\n",
      " ANKRD27     0.004688              0.004688\n",
      "   MRPL2    -0.000054              0.000054\n"
     ]
    },
    {
     "name": "stderr",
     "output_type": "stream",
     "text": [
      "/home/yxcheng/AI4Science_gold_standard/stage1/YIjiang/../utils.py:469: SettingWithCopyWarning: \n",
      "A value is trying to be set on a copy of a slice from a DataFrame.\n",
      "Try using .loc[row_indexer,col_indexer] = value instead\n",
      "\n",
      "See the caveats in the documentation: https://pandas.pydata.org/pandas-docs/stable/user_guide/indexing.html#returning-a-view-versus-a-copy\n",
      "  gene_regression_df['Absolute Coefficient'] = gene_regression_df['Coefficient'].abs()\n"
     ]
    }
   ],
   "source": [
    "\n",
    "feature_cols = merged_data.columns.tolist()\n",
    "feature_cols.remove(TRAIT)\n",
    "\n",
    "threshold = 0.05\n",
    "interpret_result(model1, feature_cols, TRAIT, condition, threshold=threshold, save_output=True,\n",
    "                 output_dir=OUTPUT_DIR, model_id=1)"
   ]
  },
  {
   "cell_type": "code",
   "execution_count": 51,
   "metadata": {
    "collapsed": false
   },
   "outputs": [
    {
     "name": "stdout",
     "output_type": "stream",
     "text": [
      "Effect of the condition on the target variable:\n",
      "Variable: Age\n",
      "Coefficient: 0.2864\n",
      "Found 0 significant genes associated with the trait 'Hypertension' conditional on the factor 'Age', with corrected p-value < 0.05:\n",
      "Empty DataFrame\n",
      "Columns: [Variable, Coefficient, p_value, corrected_p_value]\n",
      "Index: []\n"
     ]
    },
    {
     "name": "stderr",
     "output_type": "stream",
     "text": [
      "/home/yxcheng/AI4Science_gold_standard/stage1/YIjiang/../utils.py:478: SettingWithCopyWarning: \n",
      "A value is trying to be set on a copy of a slice from a DataFrame.\n",
      "Try using .loc[row_indexer,col_indexer] = value instead\n",
      "\n",
      "See the caveats in the documentation: https://pandas.pydata.org/pandas-docs/stable/user_guide/indexing.html#returning-a-view-versus-a-copy\n",
      "  gene_regression_df.loc[:, 'corrected_p_value'] = corrected_p_values\n"
     ]
    }
   ],
   "source": [
    "interpret_result(model2, feature_cols, TRAIT, condition, threshold=threshold, save_output=True,\n",
    "                 output_dir=OUTPUT_DIR, model_id=2)"
   ]
  }
 ],
 "metadata": {
  "colab": {
   "provenance": []
  },
  "kernelspec": {
   "display_name": "Python 3 (ipykernel)",
   "language": "python",
   "name": "python3"
  },
  "language_info": {
   "codemirror_mode": {
    "name": "ipython",
    "version": 3
   },
   "file_extension": ".py",
   "mimetype": "text/x-python",
   "name": "python",
   "nbconvert_exporter": "python",
   "pygments_lexer": "ipython3",
   "version": "3.10.13"
  }
 },
 "nbformat": 4,
 "nbformat_minor": 0
}
