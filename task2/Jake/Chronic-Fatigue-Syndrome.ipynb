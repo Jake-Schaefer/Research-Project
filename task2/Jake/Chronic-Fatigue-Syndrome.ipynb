{
 "cells": [
  {
   "cell_type": "markdown",
   "metadata": {
    "collapsed": false
   },
   "source": [
    "# Gold standard curation: Preprocessing and single-step regression"
   ]
  },
  {
   "cell_type": "markdown",
   "metadata": {
    "collapsed": false
   },
   "source": [
    "In this stage of gold standard curation, we will do the data preprocessing, selection, and single-step regression for the 153 traits in our question set. The workflow consists of the following steps:\n",
    "\n",
    "1. Preprocess all the cohorts related to this trait. Each cohort should be converted to a tabular form and saved to a csv file, with columns being genetic factors, the trait, and age, gender if available;\n",
    "2. If there exists at least one cohort with age or gender information, conduct regression analysis with genetic features together with age or gender as the regressors.\n"
   ]
  },
  {
   "cell_type": "markdown",
   "metadata": {
    "collapsed": false
   },
   "source": [
    "# 1. Basic setup"
   ]
  },
  {
   "cell_type": "code",
   "execution_count": 1,
   "metadata": {
    "ExecuteTime": {
     "end_time": "2024-01-02T01:02:53.240839272Z",
     "start_time": "2024-01-02T01:02:53.240575109Z"
    },
    "collapsed": false
   },
   "outputs": [],
   "source": [
    "import os\n",
    "import sys\n",
    "\n",
    "sys.path.append('..')\n",
    "from utils import *\n",
    "# Set your preferred name\n",
    "USER = \"Jake\"\n",
    "# Set the data and output directories\n",
    "DATA_ROOT = '/Users/jacob/Documents'\n",
    "OUTPUT_ROOT = '/Users/jacob/Documents/Output'\n",
    "TRAIT = 'Chronic-Fatigue-Syndrome'\n",
    "\n",
    "OUTPUT_DIR = os.path.join(OUTPUT_ROOT, USER, '-'.join(TRAIT.split()))\n",
    "JSON_PATH = os.path.join(OUTPUT_DIR, \"cohort_info.json\")\n",
    "if not os.path.exists(OUTPUT_DIR):\n",
    "    os.makedirs(OUTPUT_DIR, exist_ok=True)\n",
    "\n",
    "# Gene symbol normalization may take 1-2 minutes. You may set it to False for debugging.\n",
    "NORMALIZE_GENE = True"
   ]
  },
  {
   "cell_type": "code",
   "execution_count": 5,
   "metadata": {},
   "outputs": [
    {
     "name": "stdout",
     "output_type": "stream",
     "text": [
      "utils.py has been loaded\n"
     ]
    }
   ],
   "source": [
    "import os\n",
    "import io\n",
    "import pandas as pd\n",
    "import gzip\n",
    "import mygene\n",
    "import re\n",
    "import tempfile\n",
    "import shutil\n",
    "\n",
    "import seaborn as sns\n",
    "import matplotlib.pyplot as plt\n",
    "import numpy as np\n",
    "import json\n",
    "from typing import Callable, Optional, List, Tuple, Union, Any\n",
    "from sklearn.linear_model import LinearRegression, Lasso, LogisticRegression\n",
    "from sparse_lmm import VariableSelection\n",
    "from statsmodels.stats.multitest import multipletests\n",
    "from sklearn.metrics import accuracy_score, mean_squared_error\n",
    "\n",
    "print(\"utils.py has been loaded\")\n",
    "def geo_get_relevant_filepaths(cohort_dir):\n",
    "    \"\"\"Find the file paths of a SOFT file and a matrix file from the given data directory of a cohort.\n",
    "    If there are multiple SOFT files or matrix files, simply choose the first one. Used for the GEO dataset.\n",
    "    \"\"\"\n",
    "    files = os.listdir(cohort_dir)\n",
    "    soft_files = [f for f in files if 'soft' in f.lower()]\n",
    "    matrix_files = [f for f in files if 'matrix' in f.lower()]\n",
    "    assert len(soft_files) > 0 and len(matrix_files) > 0\n",
    "    soft_file_path = os.path.join(cohort_dir, soft_files[0])\n",
    "    matrix_file_path = os.path.join(cohort_dir, matrix_files[0])\n",
    "\n",
    "    return soft_file_path, matrix_file_path\n",
    "\n",
    "\n",
    "def xena_get_relevant_filepaths(cohort_dir):\n",
    "    \"\"\"Find the file paths of a clinical file and a genetic file from the given data directory of a cohort.\n",
    "    If there are multiple clinical or genetic data files, simply choose the first one. Used for the TCGA Xena dataset.\n",
    "    \"\"\"\n",
    "    files = os.listdir(cohort_dir)\n",
    "    clinical_files = [f for f in files if 'clinicalmatrix' in f.lower()]\n",
    "    genetic_files = [f for f in files if 'pancan' in f.lower()]\n",
    "    clinical_file_path = os.path.join(cohort_dir, clinical_files[0])\n",
    "    genetic_file_path = os.path.join(cohort_dir, genetic_files[0])\n",
    "    return clinical_file_path, genetic_file_path\n",
    "\n",
    "def line_generator(source, source_type):\n",
    "    \"\"\"Generator that yields lines from a file or a string.\n",
    "\n",
    "    Parameters:\n",
    "    - source: File path or string content.\n",
    "    - source_type: 'file' or 'string'.\n",
    "    \"\"\"\n",
    "    if source_type == 'file':\n",
    "        with gzip.open(source, 'rt') as f:\n",
    "            for line in f:\n",
    "                yield line.strip()\n",
    "    elif source_type == 'string':\n",
    "        for line in source.split('\\n'):\n",
    "            yield line.strip()\n",
    "    else:\n",
    "        raise ValueError(\"source_type must be 'file' or 'string'\")\n",
    "\n",
    "\n",
    "def filter_content_by_prefix(\n",
    "    source: str,\n",
    "    prefixes_a: List[str],\n",
    "    prefixes_b: Optional[List[str]] = None,\n",
    "    unselect: bool = False,\n",
    "    source_type: str = 'file',\n",
    "    return_df_a: bool = True,\n",
    "    return_df_b: bool = True\n",
    ") -> Tuple[Union[str, pd.DataFrame], Optional[Union[str, pd.DataFrame]]]:\n",
    "    \"\"\"\n",
    "    Filters rows from a file or a list of strings based on specified prefixes.\n",
    "\n",
    "    Parameters:\n",
    "    - source (str): File path or string content to filter.\n",
    "    - prefixes_a (List[str]): Primary list of prefixes to filter by.\n",
    "    - prefixes_b (Optional[List[str]]): Optional secondary list of prefixes to filter by.\n",
    "    - unselect (bool): If True, selects rows that do not start with the specified prefixes.\n",
    "    - source_type (str): 'file' if source is a file path, 'string' if source is a string of text.\n",
    "    - return_df_a (bool): If True, returns filtered content for prefixes_a as a pandas DataFrame.\n",
    "    - return_df_b (bool): If True, and if prefixes_b is provided, returns filtered content for prefixes_b as a pandas DataFrame.\n",
    "\n",
    "    Returns:\n",
    "    - Tuple: A tuple where the first element is the filtered content for prefixes_a, and the second element is the filtered content for prefixes_b.\n",
    "    \"\"\"\n",
    "    filtered_lines_a = []\n",
    "    filtered_lines_b = []\n",
    "    prefix_set_a = set(prefixes_a)\n",
    "    if prefixes_b is not None:\n",
    "        prefix_set_b = set(prefixes_b)\n",
    "\n",
    "    # Use generator to get lines\n",
    "    for line in line_generator(source, source_type):\n",
    "        matched_a = any(line.startswith(prefix) for prefix in prefix_set_a)\n",
    "        if matched_a != unselect:\n",
    "            filtered_lines_a.append(line)\n",
    "        if prefixes_b is not None:\n",
    "            matched_b = any(line.startswith(prefix) for prefix in prefix_set_b)\n",
    "            if matched_b != unselect:\n",
    "                filtered_lines_b.append(line)\n",
    "\n",
    "    filtered_content_a = '\\n'.join(filtered_lines_a)\n",
    "    if return_df_a:\n",
    "        filtered_content_a = pd.read_csv(io.StringIO(filtered_content_a), delimiter='\\t', low_memory=False, on_bad_lines='skip')\n",
    "    filtered_content_b = None\n",
    "    if filtered_lines_b:\n",
    "        filtered_content_b = '\\n'.join(filtered_lines_b)\n",
    "        if return_df_b:\n",
    "            filtered_content_b = pd.read_csv(io.StringIO(filtered_content_b), delimiter='\\t', low_memory=False, on_bad_lines='skip')\n",
    "\n",
    "    return filtered_content_a, filtered_content_b\n",
    "\n",
    "\n",
    "def get_background_and_clinical_data(file_path,\n",
    "                                     prefixes_a=['!Series_title', '!Series_summary', '!Series_overall_design'],\n",
    "                                     prefixes_b=['!Sample_geo_accession', '!Sample_characteristics_ch1']):\n",
    "    \"\"\"Extract from a matrix file the background information about the dataset, and sample characteristics data\"\"\"\n",
    "    background_info, clinical_data = filter_content_by_prefix(file_path, prefixes_a, prefixes_b, unselect=False,\n",
    "                                                              source_type='file',\n",
    "                                                              return_df_a=False, return_df_b=True)\n",
    "    return background_info, clinical_data\n",
    "\n",
    "\n",
    "def get_gene_annotation(file_path, prefixes=['^', '!', '#']):\n",
    "    \"\"\"Extract from a SOFT file the gene annotation data\"\"\"\n",
    "    gene_metadata = filter_content_by_prefix(file_path, prefixes_a=prefixes, unselect=True, source_type='file',\n",
    "                                             return_df_a=True)\n",
    "    return gene_metadata[0]\n",
    "\n",
    "\n",
    "def get_gene_mapping(annotation, prob_col, gene_col):\n",
    "    \"\"\"Process the gene annotation to get the mapping between gene names and gene probes.\n",
    "    \"\"\"\n",
    "    mapping_data = annotation.loc[:, [prob_col, gene_col]]\n",
    "    mapping_data = mapping_data.dropna()\n",
    "    mapping_data = mapping_data.rename(columns={gene_col: 'Gene'}).astype({'ID': 'str'})\n",
    "\n",
    "    return mapping_data\n",
    "\n",
    "\n",
    "def get_genetic_data(file_path):\n",
    "    \"\"\"Read the gene expression data into a dataframe, and adjust its format\"\"\"\n",
    "    genetic_data = pd.read_csv(file_path, compression='gzip', skiprows=52, comment='!', delimiter='\\t')\n",
    "    genetic_data = genetic_data.dropna()\n",
    "    genetic_data = genetic_data.rename(columns={'ID_REF': 'ID'}).astype({'ID': 'str'})\n",
    "    genetic_data.set_index('ID', inplace=True)\n",
    "\n",
    "    return genetic_data\n",
    "\n",
    "\n",
    "def apply_gene_mapping(expression_df, mapping_df):\n",
    "    \"\"\"\n",
    "    Converts measured data about gene probes into gene expression data.\n",
    "    Handles the potential many-to-many relationship between probes and genes.\n",
    "\n",
    "    Parameters:\n",
    "    expression_df (DataFrame): A DataFrame with gene expression data, indexed by 'ID'.\n",
    "    mapping_df (DataFrame): A DataFrame mapping 'ID' to 'Gene', with 'ID' as a column.\n",
    "\n",
    "    Returns:\n",
    "    DataFrame: A DataFrame with mean gene expression values, indexed by 'Gene'.\n",
    "    \"\"\"\n",
    "\n",
    "    # Define a regex pattern for splitting gene names\n",
    "    split_pattern = r';|\\|+|/{2,}|,|\\[|\\]|\\(|\\)'\n",
    "\n",
    "    # Split the 'Gene' column in 'mapping_df' using the regex pattern\n",
    "    mapping_df['Gene'] = mapping_df['Gene'].str.split(split_pattern)\n",
    "    mapping_df = mapping_df.explode('Gene')\n",
    "\n",
    "    # Set 'ID' as the index of 'mapping_df' for merging\n",
    "    mapping_df.set_index('ID', inplace=True)\n",
    "\n",
    "    # Merge 'mapping_df' with 'expression_df' by their indices\n",
    "    merged_df = mapping_df.join(expression_df)\n",
    "\n",
    "    # Group by 'Gene' and calculate the mean expression values\n",
    "    gene_expression_df = merged_df.groupby('Gene').mean().dropna()\n",
    "\n",
    "    return gene_expression_df\n",
    "\n",
    "\n",
    "def normalize_gene_symbols(gene_symbols, batch_size=1000):\n",
    "    \"\"\"Normalize human gene symbols in batches using the 'mygenes' library\"\"\"\n",
    "    mg = mygene.MyGeneInfo()\n",
    "    normalized_genes = {}\n",
    "\n",
    "    # Process in batches\n",
    "    for i in range(0, len(gene_symbols), batch_size):\n",
    "        batch = gene_symbols[i:i + batch_size]\n",
    "        results = mg.querymany(batch, scopes='symbol', fields='symbol', species='human', verbose=False)\n",
    "\n",
    "        # Update the normalized_genes dictionary with results from this batch\n",
    "        for gene in results:\n",
    "            normalized_genes[gene['query']] = gene.get('symbol', None)\n",
    "\n",
    "    # Return the normalized symbols in the same order as the input\n",
    "    return [normalized_genes.get(symbol) for symbol in gene_symbols]\n",
    "\n",
    "\n",
    "def normalize_gene_symbols_in_index(gene_df):\n",
    "    \"\"\"Normalize the human gene symbols at the index of a dataframe, and replace the index with its normalized version.\n",
    "    Remove the rows where the index failed to be normalized.\"\"\"\n",
    "    normalized_gene_list = normalize_gene_symbols(gene_df.index.tolist())\n",
    "    assert len(normalized_gene_list) == len(gene_df.index)\n",
    "    gene_df.index = normalized_gene_list\n",
    "    gene_df = gene_df[gene_df.index.notnull()]\n",
    "    return gene_df\n",
    "\n",
    "\n",
    "def get_feature_data(clinical_df, row_id, feature, convert_fn):\n",
    "    \"\"\"select the row corresponding to a feature in the sample characteristics dataframe, and convert the feature into\n",
    "    a binary or continuous variable\"\"\"\n",
    "    clinical_df = clinical_df.iloc[row_id:row_id + 1].drop(columns=['!Sample_geo_accession'], errors='ignore')\n",
    "    clinical_df.index = [feature]\n",
    "    clinical_df = clinical_df.applymap(convert_fn)\n",
    "\n",
    "    return clinical_df\n",
    "\n",
    "\n",
    "def plot_numeric_distribution(df, column):\n",
    "    \"\"\"Plot the distribution of a numeric variable stored in the given column of a dataframe\"\"\"\n",
    "    plt.figure(figsize=(10, 6))\n",
    "    sns.histplot(df[column], kde=True, bins=30)\n",
    "    plt.title(f'Distribution of {column.capitalize()}')\n",
    "    plt.xlabel('')\n",
    "    plt.ylabel('Frequency')\n",
    "    plt.show()\n",
    "\n",
    "\n",
    "def plot_categorical_distribution(df, column):\n",
    "    \"\"\"Plot the distribution of a categorical variable stored in the given column of a dataframe\"\"\"\n",
    "    plt.figure(figsize=(10, 6))\n",
    "    sns.countplot(y=column, data=df, order=df[column].value_counts().index)\n",
    "    plt.title(f'Distribution of {column.capitalize()}')\n",
    "    plt.xlabel('Frequency')\n",
    "    plt.ylabel('')\n",
    "    plt.show()\n",
    "\n",
    "\n",
    "def analyze_distributions(df, numerical_columns, categorical_columns):\n",
    "    \"\"\"Plot the distribution of the numerical and categorical variables stored in given columns of a dataframe\"\"\"\n",
    "    for col in numerical_columns:\n",
    "        plot_numeric_distribution(df, col)\n",
    "\n",
    "    for col in categorical_columns:\n",
    "        plot_categorical_distribution(df, col)\n",
    "\n",
    "\n",
    "def normalize_data(X_train, X_test=None):\n",
    "    \"\"\"Compute the mean and standard deviation statistics of the training data, use them to normalize the training data,\n",
    "    and optionally the test data\"\"\"\n",
    "    mean = np.mean(X_train, axis=0)\n",
    "    std = np.std(X_train, axis=0)\n",
    "\n",
    "    # Handling columns with std = 0\n",
    "    std_no_zero = np.where(std == 0, 1, std)\n",
    "\n",
    "    # Normalize X_train\n",
    "    X_train_normalized = (X_train - mean) / std_no_zero\n",
    "    # Set normalized values to 0 where std was 0\n",
    "    X_train_normalized[:, std == 0] = 0\n",
    "\n",
    "    if X_test is not None:\n",
    "        X_test_normalized = (X_test - mean) / std_no_zero\n",
    "        X_test_normalized[:, std == 0] = 0\n",
    "    else:\n",
    "        X_test_normalized = None\n",
    "\n",
    "    return X_train_normalized, X_test_normalized\n",
    "\n",
    "\n",
    "class ResidualizationRegressor:\n",
    "    def __init__(self, regression_model_constructor, params=None):\n",
    "        if params is None:\n",
    "            params = {}\n",
    "        self.regression_model = regression_model_constructor(**params)\n",
    "        self.beta_Z = None  # Coefficients for regression of Y on Z\n",
    "        self.beta_X = None  # Coefficients for regression of residual on X\n",
    "        self.neg_log_p_values = None  # Negative logarithm of p-values\n",
    "        self.p_values = None  # Actual p-values\n",
    "\n",
    "    def _reshape_data(self, data):\n",
    "        \"\"\"\n",
    "        Reshape the data to ensure it's in the correct format (2D array).\n",
    "\n",
    "        :param data: The input data (can be 1D or 2D array).\n",
    "        :return: Reshaped 2D array.\n",
    "        \"\"\"\n",
    "        if data.ndim == 1:\n",
    "            return data.reshape(-1, 1)\n",
    "        return data\n",
    "\n",
    "    def _reshape_output(self, data):\n",
    "        \"\"\"\n",
    "        Reshape the output data to ensure it's in the correct format (1D array).\n",
    "\n",
    "        :param data: The output data (can be 1D or 2D array).\n",
    "        :return: Reshaped 1D array.\n",
    "        \"\"\"\n",
    "        if data.ndim == 2 and data.shape[1] == 1:\n",
    "            return data.ravel()\n",
    "        return data\n",
    "\n",
    "    def fit(self, X, Y, Z):\n",
    "        X = self._reshape_data(X)\n",
    "        Y = self._reshape_data(Y)\n",
    "        Z = self._reshape_data(Z)\n",
    "\n",
    "        # Step 1: Linear regression of Y on Z\n",
    "        Z_ones = np.column_stack((np.ones(Z.shape[0]), Z))\n",
    "        self.beta_Z = np.linalg.pinv(Z_ones.T @ Z_ones) @ Z_ones.T @ Y\n",
    "        Y_hat = Z_ones @ self.beta_Z\n",
    "        e_Y = Y - Y_hat  # Residual of Y\n",
    "\n",
    "        # Step 2: Regress the residual on X using the included regression model\n",
    "        self.regression_model.fit(X, e_Y)\n",
    "\n",
    "        # Obtain coefficients from the regression model\n",
    "        if hasattr(self.regression_model, 'coef_'):\n",
    "            self.beta_X = self.regression_model.coef_\n",
    "        elif hasattr(self.regression_model, 'getBeta'):\n",
    "            beta_output = self.regression_model.getBeta()\n",
    "            self.beta_X = self._reshape_output(beta_output)\n",
    "\n",
    "        # Obtain negative logarithm of p-values, if available\n",
    "        if hasattr(self.regression_model, 'getNegLogP'):\n",
    "            neg_log_p_output = self.regression_model.getNegLogP()\n",
    "            if neg_log_p_output is not None:\n",
    "                self.neg_log_p_values = self._reshape_output(neg_log_p_output)\n",
    "                self.p_values = np.exp(-self.neg_log_p_values)\n",
    "                # Concatenate the p-values of Z and X. The p-values of Z were not computed, mark with NaN.\n",
    "                p_values_Z = np.full(Z.shape[1], np.nan)\n",
    "                self.p_values = np.concatenate((p_values_Z, self.p_values))\n",
    "\n",
    "    def predict(self, X, Z):\n",
    "        X = self._reshape_data(X)\n",
    "        Z = self._reshape_data(Z)\n",
    "\n",
    "        Z_ones = np.column_stack((np.ones(Z.shape[0]), Z))\n",
    "        ZX = np.column_stack((Z, X))\n",
    "        combined_beta = np.concatenate((self.beta_Z[1:].ravel(), self.beta_X.ravel()))\n",
    "        return ZX @ combined_beta + self.beta_Z[0]\n",
    "\n",
    "    def get_coefficients(self):\n",
    "        return np.concatenate((self.beta_Z[1:].ravel(), self.beta_X.ravel()))\n",
    "\n",
    "    def get_p_values(self):\n",
    "        return self.p_values\n",
    "\n",
    "\n",
    "def cross_validation(X, Y, Z, model_constructor, model_params, k=5, target_type='binary'):\n",
    "    assert target_type in ['binary', 'continuous'], \"The target type must be chosen from 'binary' or 'continuous'\"\n",
    "    indices = np.arange(X.shape[0])\n",
    "    np.random.shuffle(indices)\n",
    "\n",
    "    fold_size = len(X) // k\n",
    "    performances = []\n",
    "\n",
    "    for i in range(k):\n",
    "        # Split data into train and test based on the current fold\n",
    "        test_indices = indices[i * fold_size: (i + 1) * fold_size]\n",
    "        train_indices = np.setdiff1d(indices, test_indices)\n",
    "\n",
    "        X_train, X_test = X[train_indices], X[test_indices]\n",
    "        Y_train, Y_test = Y[train_indices], Y[test_indices]\n",
    "        Z_train, Z_test = Z[train_indices], Z[test_indices]\n",
    "\n",
    "        normalized_X_train, normalized_X_test = normalize_data(X_train, X_test)\n",
    "        normalized_Z_train, normalized_Z_test = normalize_data(Z_train, Z_test)\n",
    "\n",
    "        # model = model_constructor(**model_params)\n",
    "        model = ResidualizationRegressor(model_constructor, model_params)\n",
    "        model.fit(normalized_X_train, Y_train, normalized_Z_train)\n",
    "        predictions = model.predict(normalized_X_test, normalized_Z_test)\n",
    "\n",
    "        if target_type == 'binary':\n",
    "            predictions = (predictions > 0.5).astype(int)\n",
    "            Y_test = (Y_test > 0.5).astype(int)\n",
    "            performance = accuracy_score(Y_test, predictions)\n",
    "        elif target_type == 'continuous':\n",
    "            performance = mean_squared_error(Y_test, predictions)\n",
    "\n",
    "        performances.append(performance)\n",
    "\n",
    "    cv_mean = np.mean(performances)\n",
    "    cv_std = np.std(performances)\n",
    "\n",
    "    if target_type == 'binary':\n",
    "        print(f'The cross-validation accuracy is {(cv_mean * 100):.2f}% ± {(cv_std * 100):.2f}%')\n",
    "    else:\n",
    "        print(f'The cross-validation MSE is {(cv_mean * 100):.2f} ± {(cv_std * 100):.2f}')\n",
    "\n",
    "    return cv_mean, cv_std\n",
    "\n",
    "\n",
    "def get_feature_related_genes(file_path, feature, normalize):\n",
    "    \"\"\"Read a csv file into a dataframe about gene-trait association, and get the gene symbols related to a given\n",
    "    trait\"\"\"\n",
    "    related_gene_df = pd.read_csv(file_path)\n",
    "    related_gene_df = related_gene_df.loc[:, ['Disease Name', 'Corresponding_Gene_Symbol']].set_index('Disease Name')\n",
    "    feature_related_genes = related_gene_df.loc[feature].tolist()[0].strip().split(',')\n",
    "    feature_related_genes = [gn.strip() for gn in feature_related_genes]\n",
    "    if normalize:\n",
    "        feature_related_genes = normalize_gene_symbols(feature_related_genes)\n",
    "\n",
    "    return feature_related_genes\n",
    "\n",
    "\n",
    "def get_gene_regressors(trait, trait_df, condition_df, related_genes):\n",
    "    \"\"\"Find the appropriate genes for two-step regression. Compare the indices of two dataframes to find the genes\n",
    "    in common, and select those that are known to be related to a trait\"\"\"\n",
    "    gene_regressors = None\n",
    "    genes_in_trait_data = set(trait_df.columns) - {'Age', 'Gender', trait}\n",
    "    genes_in_condition_data = set(condition_df.columns) - {'Age', 'Gender', trait}\n",
    "\n",
    "    common_genes_across_data = genes_in_trait_data.intersection(genes_in_condition_data)\n",
    "    if len(common_genes_across_data) == 0:\n",
    "        #print(\"The trait and condition datasets have no genes in common. Please try other datasets\")\n",
    "        return None\n",
    "    else:\n",
    "        ##print(\n",
    "            ## f\"The trait and condition datasets have {len(common_genes_across_data)} genes in common, such as {list(common_genes_across_data)[:10]}.\")\n",
    "        common_genes = [g for g in related_genes if g in common_genes_across_data]\n",
    "        if len(common_genes) > 0:\n",
    "            gene_regressors = list(common_genes)[:10]\n",
    "            #print(\n",
    "                #f\"Found {len(common_genes)} candidate genes that can be used in two-step regression analysis, such as {gene_regressors[:10]}.\")\n",
    "        else:\n",
    "            #print(\n",
    "                #f\"The condition and trait datasets have common genes, but among them we didn't find indicator genes for the condition\")\n",
    "            return None\n",
    "\n",
    "    return gene_regressors\n",
    "\n",
    "\n",
    "def normalize_trait(trait):\n",
    "    trait = '-'.join(trait.split())\n",
    "    normalized_trait = ''.join(trait.split(\"'\"))\n",
    "    return normalized_trait\n",
    "\n",
    "def interpret_result(model: Any, feature_names: List[str], trait: str, condition: str,\n",
    "                     threshold: float = 0.05, save_output: bool = True,\n",
    "                     output_dir: str = './output', model_id: int = 1) -> None:\n",
    "    \"\"\"This function interprets and reports the result of a trained linear regression model, where the regressor\n",
    "    consists of one variable about condition and multiple variables about genetic factors.\n",
    "    The function extracts coefficients and p-values from the model, and identifies the significant genes based on\n",
    "    p-values or non-zero coefficients, depending on the availability of p-values.\n",
    "\n",
    "    Parameters:\n",
    "    model (Any): The trained regression Model.\n",
    "    feature_names (List[str]): A list of feature names corresponding to the model's coefficients.\n",
    "    trait (str): The target trait of interest.\n",
    "    condition (str): The specific condition to examine within the model.\n",
    "    threshold (float): Significance level for p-value correction. Defaults to 0.05.\n",
    "    save_output (bool): Flag to determine whether to save the output to a file. Defaults to True.\n",
    "    output_dir (str): Directory path where output files are saved. Defaults to './output'.\n",
    "    model_id (int): The index of the model, 1 or 2.\n",
    "\n",
    "    Returns:\n",
    "    None: This function does not return anything but prints and optionally saves the output.\n",
    "    \"\"\"\n",
    "    coefficients = model.get_coefficients().reshape(-1).tolist()\n",
    "    p_values = model.get_p_values()\n",
    "    if p_values is None:\n",
    "        regression_df = pd.DataFrame({\n",
    "            'Variable': feature_names,\n",
    "            'Coefficient': coefficients\n",
    "        })\n",
    "    else:\n",
    "        regression_df = pd.DataFrame({\n",
    "            'Variable': feature_names,\n",
    "            'Coefficient': coefficients,\n",
    "            'p_value': p_values.reshape(-1).tolist()\n",
    "        })\n",
    "\n",
    "    condition_effect = regression_df[regression_df['Variable'] == condition].iloc[0]\n",
    "\n",
    "    print(f\"Effect of the condition on the target variable:\")\n",
    "    print(f\"Variable: {condition}\")\n",
    "    print(f\"Coefficient: {condition_effect['Coefficient']:.4f}\")\n",
    "    gene_regression_df = regression_df[regression_df['Variable'] != condition]\n",
    "    if p_values is None:\n",
    "        gene_regression_df['Absolute Coefficient'] = gene_regression_df['Coefficient'].abs()\n",
    "        significant_genes = gene_regression_df[gene_regression_df['Coefficient'] != 0]\n",
    "        significant_genes_sorted = significant_genes.sort_values(by='Absolute Coefficient', ascending=False)\n",
    "        print(\n",
    "            f\"Found {len(significant_genes_sorted)} genes with non-zero coefficients associated with the trait '{trait}' \"\n",
    "            f\"conditional on the factor '{condition}'. These genes are identified as significant based on the regression model.\")\n",
    "    else:\n",
    "        # Apply the Benjamini-Hochberg correction, to get the corrected p-values\n",
    "        corrected_p_values = multipletests(gene_regression_df['p_value'], alpha=threshold, method='fdr_bh')[1]\n",
    "        gene_regression_df.loc[:, 'corrected_p_value'] = corrected_p_values\n",
    "        significant_genes = gene_regression_df.loc[gene_regression_df['corrected_p_value'] < threshold]\n",
    "        significant_genes_sorted = significant_genes.sort_values('corrected_p_value')\n",
    "        print(\n",
    "            f\"Found {len(significant_genes_sorted)} significant genes associated with the trait '{trait}' conditional on \"\n",
    "            f\"the factor '{condition}', with corrected p-value < {threshold}:\")\n",
    "\n",
    "    print(significant_genes_sorted.to_string(index=False))\n",
    "\n",
    "    nm_condition = normalize_trait(condition)\n",
    "    # Optionally, save this to a CSV file\n",
    "    if save_output:\n",
    "        significant_genes_sorted.to_csv(\n",
    "            os.path.join(output_dir, f'significant_genes_condition_{nm_condition}_{model_id}.csv'), index=False)\n",
    "\n",
    "\n",
    "def judge_binary_variable_biased(dataframe, col_name, min_proportion=0.1, min_num=5):\n",
    "    \"\"\"\n",
    "    Check if the distribution of a binary variable in the dataset is too biased to be usable for analysis\n",
    "    :param dataframe:\n",
    "    :param col_name:\n",
    "    :param min_proportion:\n",
    "    :param min_num:\n",
    "    :return:\n",
    "    \"\"\"\n",
    "    label_counter = dataframe[col_name].value_counts()\n",
    "    total_samples = len(dataframe)\n",
    "    rare_label_num = label_counter.min()\n",
    "    rare_label = label_counter.idxmin()\n",
    "    rare_label_proportion = rare_label_num / total_samples\n",
    "\n",
    "    print(\n",
    "        f\"For the feature \\'{col_name}\\', the least common label is '{rare_label}' with {rare_label_num} occurrences. This represents {rare_label_proportion:.2%} of the dataset.\")\n",
    "\n",
    "    biased = (len(label_counter) < 2) or ((rare_label_proportion < min_proportion) and (rare_label_num < min_num))\n",
    "    return bool(biased)\n",
    "\n",
    "\n",
    "def judge_continuous_variable_biased(dataframe, col_name):\n",
    "    \"\"\"Check if the distribution of a continuous variable in the dataset is too biased to be usable for analysis.\n",
    "    As a starting point, we consider it biased if all values are the same. For the next step, maybe ask GPT to judge\n",
    "    based on quartile statistics combined with its common sense knowledge about this feature.\n",
    "    \"\"\"\n",
    "    quartiles = dataframe[col_name].quantile([0.25, 0.5, 0.75])\n",
    "    min_value = dataframe[col_name].min()\n",
    "    max_value = dataframe[col_name].max()\n",
    "\n",
    "    # Printing quartile information\n",
    "    print(f\"Quartiles for '{col_name}':\")\n",
    "    print(f\"  25%: {quartiles[0.25]}\")\n",
    "    print(f\"  50% (Median): {quartiles[0.5]}\")\n",
    "    print(f\"  75%: {quartiles[0.75]}\")\n",
    "    print(f\"Min: {min_value}\")\n",
    "    print(f\"Max: {max_value}\")\n",
    "\n",
    "    biased = min_value == max_value\n",
    "\n",
    "    return bool(biased)\n",
    "\n",
    "\n",
    "def check_rows_and_columns(dataframe, display=False):\n",
    "    \"\"\"\n",
    "    Get the lists of row names and column names of a dataset, and optionally observe them.\n",
    "    :param dataframe:\n",
    "    :param display:\n",
    "    :return:\n",
    "    \"\"\"\n",
    "    dataframe_rows = dataframe.index.tolist()\n",
    "    if display:\n",
    "        print(f\"The dataset has {len(dataframe_rows)} rows, such as {dataframe_rows[:20]}\")\n",
    "    dataframe_cols = dataframe.columns.tolist()\n",
    "    if display:\n",
    "        print(f\"\\nThe dataset has {len(dataframe_cols)} columns, such as {dataframe_cols[:20]}\")\n",
    "    return dataframe_rows, dataframe_cols\n",
    "\n",
    "\n",
    "def xena_convert_trait(row_index: str):\n",
    "    \"\"\"\n",
    "    Convert the trait information from Sample IDs to labels depending on the last two digits.\n",
    "    Tumor types range from 01 - 09, normal types from 10 - 19.\n",
    "    :param row_index: the index value of a row\n",
    "    :return: the converted value\n",
    "    \"\"\"\n",
    "    last_two_digits = int(row_index[-2:])\n",
    "\n",
    "    if 1 <= last_two_digits <= 9:\n",
    "        return 1\n",
    "    elif 10 <= last_two_digits <= 19:\n",
    "        return 0\n",
    "    else:\n",
    "        return -1\n",
    "\n",
    "\n",
    "def xena_convert_gender(cell: str):\n",
    "    \"\"\"Convert the cell content about gender to a binary value\n",
    "    \"\"\"\n",
    "    if isinstance(cell, str):\n",
    "        cell = cell.lower()\n",
    "\n",
    "    if cell == \"female\":\n",
    "        return 0\n",
    "    elif cell == \"male\":\n",
    "        return 1\n",
    "    else:\n",
    "        return None\n",
    "\n",
    "\n",
    "def xena_convert_age(cell: str):\n",
    "    \"\"\"Convert the cell content about age to a numerical value using regular expression\n",
    "    \"\"\"\n",
    "    match = re.search(r'\\d+', str(cell))\n",
    "    if match:\n",
    "        return int(match.group())\n",
    "    else:\n",
    "        return None\n",
    "\n",
    "\n",
    "def detect_batch_effect(X):\n",
    "    \"\"\"\n",
    "    Detect potential batch effects in a dataset using eigenvalues of XX^T.\n",
    "\n",
    "    Args:\n",
    "    X (numpy.ndarray): A feature matrix with shape (n_samples, n_features).\n",
    "\n",
    "    Returns:\n",
    "    bool: True if a potential batch effect is detected, False otherwise.\n",
    "    \"\"\"\n",
    "    n_samples = X.shape[0]\n",
    "\n",
    "    # Computing XX^T\n",
    "    XXt = np.dot(X, X.T)\n",
    "\n",
    "    # Compute the eigenvalues of XX^T\n",
    "    eigen_values = np.linalg.eigvalsh(XXt)  # Using eigvalsh since XX^T is symmetric\n",
    "    eigen_values = sorted(eigen_values, reverse=True)[:10]\n",
    "    eigen_values = np.array(eigen_values)\n",
    "    normalized_ev = eigen_values / eigen_values[0]\n",
    "\n",
    "    # Check for large gaps in the eigenvalues\n",
    "    for i in range(len(normalized_ev) - 1):\n",
    "        gap = normalized_ev[i] - normalized_ev[i + 1]\n",
    "        if gap > 1 / n_samples:  # You may need to adjust this threshold\n",
    "            return True\n",
    "\n",
    "    return False\n",
    "\n",
    "\n",
    "def get_unique_values_by_row(dataframe, max_len=30):\n",
    "    \"\"\"\n",
    "    Organize the unique values in each row of the given dataframe, to get a dictionary\n",
    "    :param dataframe:\n",
    "    :param max_len:\n",
    "    :return:\n",
    "    \"\"\"\n",
    "    if '!Sample_geo_accession' in dataframe.columns:\n",
    "        dataframe = dataframe.drop(columns=['!Sample_geo_accession'])\n",
    "    unique_values_dict = {}\n",
    "    for index, row in dataframe.iterrows():\n",
    "        unique_values = list(row.unique())[:max_len]\n",
    "        unique_values_dict[index] = unique_values\n",
    "    return unique_values_dict\n",
    "\n",
    "\n",
    "def xena_select_clinical_features(clinical_df, trait, age_col=None, gender_col=None):\n",
    "    feature_list = []\n",
    "    trait_data = clinical_df.index.to_series().apply(xena_convert_trait).rename(trait)\n",
    "    feature_list.append(trait_data)\n",
    "    if age_col:\n",
    "        age_data = clinical_df[age_col].apply(xena_convert_age).rename(\"Age\")\n",
    "        feature_list.append(age_data)\n",
    "    if gender_col:\n",
    "        gender_data = clinical_df[gender_col].apply(xena_convert_gender).rename(\"Gender\")\n",
    "        feature_list.append(gender_data)\n",
    "    selected_clinical_df = pd.concat(feature_list, axis=1)\n",
    "    return selected_clinical_df\n",
    "\n",
    "\n",
    "def geo_select_clinical_features(clinical_df: pd.DataFrame, trait: str, trait_row: int,\n",
    "                                 convert_trait: Callable,\n",
    "                                 age_row: Optional[int] = None,\n",
    "                                 convert_age: Optional[Callable] = None,\n",
    "                                 gender_row: Optional[int] = None,\n",
    "                                 convert_gender: Optional[Callable] = None) -> pd.DataFrame:\n",
    "    \"\"\"\n",
    "    Extracts and processes specific clinical features from a DataFrame representing\n",
    "    sample characteristics in the GEO database series.\n",
    "\n",
    "    Parameters:\n",
    "    - clinical_df (pd.DataFrame): DataFrame containing clinical data.\n",
    "    - trait (str): The trait of interest.\n",
    "    - trait_row (int): Row identifier for the trait in the DataFrame.\n",
    "    - convert_trait (Callable): Function to convert trait data into a desired format.\n",
    "    - age_row (int, optional): Row identifier for age data. Default is None.\n",
    "    - convert_age (Callable, optional): Function to convert age data. Default is None.\n",
    "    - gender_row (int, optional): Row identifier for gender data. Default is None.\n",
    "    - convert_gender (Callable, optional): Function to convert gender data. Default is None.\n",
    "\n",
    "    Returns:\n",
    "    pd.DataFrame: A DataFrame containing the selected and processed clinical features.\n",
    "    \"\"\"\n",
    "    feature_list = []\n",
    "\n",
    "    trait_data = get_feature_data(clinical_df, trait_row, trait, convert_trait)\n",
    "    feature_list.append(trait_data)\n",
    "    if age_row is not None:\n",
    "        age_data = get_feature_data(clinical_df, age_row, 'Age', convert_age)\n",
    "        feature_list.append(age_data)\n",
    "    if gender_row is not None:\n",
    "        gender_data = get_feature_data(clinical_df, gender_row, 'Gender', convert_gender)\n",
    "        feature_list.append(gender_data)\n",
    "\n",
    "    selected_clinical_df = pd.concat(feature_list, axis=0)\n",
    "    return selected_clinical_df\n",
    "\n",
    "\n",
    "def geo_merge_clinical_genetic_data(clinical_df, genetic_df):\n",
    "    \"\"\"\n",
    "    Merge the clinical features and gene expression features from two dataframes into one dataframe\n",
    "    \"\"\"\n",
    "    if 'ID' in genetic_df.columns:\n",
    "        genetic_df = genetic_df.rename(columns={'ID': 'Gene'})\n",
    "    if 'Gene' in genetic_df.columns:\n",
    "        genetic_df = genetic_df.set_index('Gene')\n",
    "    merged_data = pd.concat([clinical_df, genetic_df], axis=0).T.dropna()\n",
    "    return merged_data\n",
    "\n",
    "\n",
    "def judge_and_remove_biased_features(df, trait, trait_type):\n",
    "    assert trait_type in [\"binary\", \"continuous\"], f\"The trait must be either a binary or a continuous variable!\"\n",
    "    if trait_type == \"binary\":\n",
    "        trait_biased = judge_binary_variable_biased(df, trait)\n",
    "    else:\n",
    "        trait_biased = judge_continuous_variable_biased(df, trait)\n",
    "    if trait_biased:\n",
    "        print(f\"The distribution of the feature \\'{trait}\\' in this dataset is severely biased.\\n\")\n",
    "    else:\n",
    "        print(f\"The distribution of the feature \\'{trait}\\' in this dataset is fine.\\n\")\n",
    "    if \"Age\" in df.columns:\n",
    "        age_biased = judge_continuous_variable_biased(df, 'Age')\n",
    "        if age_biased:\n",
    "            print(f\"The distribution of the feature \\'Age\\' in this dataset is severely biased.\\n\")\n",
    "            df = df.drop(columns='Age')\n",
    "        else:\n",
    "            print(f\"The distribution of the feature \\'Age\\' in this dataset is fine.\\n\")\n",
    "    if \"Gender\" in df.columns:\n",
    "        gender_biased = judge_binary_variable_biased(df, 'Gender')\n",
    "        if gender_biased:\n",
    "            print(f\"The distribution of the feature \\'Gender\\' in this dataset is severely biased.\\n\")\n",
    "            df = df.drop(columns='Gender')\n",
    "        else:\n",
    "            print(f\"The distribution of the feature \\'Gender\\' in this dataset is fine.\\n\")\n",
    "\n",
    "    return trait_biased, df\n",
    "\n",
    "\n",
    "def save_cohort_info(cohort: str, info_path: str, is_available: bool, is_biased: Optional[bool] = None,\n",
    "                     df: Optional[pd.DataFrame] = None, note: str = '') -> None:\n",
    "    \"\"\"\n",
    "    Add or update information about the usability and quality of a dataset for statistical analysis.\n",
    "\n",
    "    Parameters:\n",
    "    cohort (str): A unique identifier for the dataset.\n",
    "    info_path (str): File path to the JSON file where records are stored.\n",
    "    is_available (bool): Indicates whether both the genetic data and trait data are available in the dataset, and can be\n",
    "     preprocessed into a dataframe.\n",
    "    is_biased (bool, optional): Indicates whether the dataset is too biased to be usable.\n",
    "        Required if `is_available` is True.\n",
    "    df (pandas.DataFrame, optional): The preprocessed dataset. Required if `is_available` is True.\n",
    "    note (str, optional): Additional notes about the dataset.\n",
    "\n",
    "    Returns:\n",
    "    None: The function does not return a value but updates or creates a record in the specified JSON file.\n",
    "    \"\"\"\n",
    "    if is_available:\n",
    "        assert (df is not None) and (is_biased is not None), \"'df' and 'is_biased' should be provided if this cohort \" \\\n",
    "                                                             \"is relevant.\"\n",
    "    is_usable = is_available and (not is_biased)\n",
    "    new_record = {\"is_usable\": is_usable,\n",
    "                  \"is_available\": is_available,\n",
    "                  \"is_biased\": is_biased if is_available else None,\n",
    "                  \"has_age\": \"Age\" in df.columns if is_available else None,\n",
    "                  \"has_gender\": \"Gender\" in df.columns if is_available else None,\n",
    "                  \"sample_size\": len(df) if is_available else None,\n",
    "                  \"note\": note}\n",
    "\n",
    "    trait_directory = os.path.dirname(info_path)\n",
    "    os.makedirs(trait_directory, exist_ok=True)\n",
    "    if not os.path.exists(info_path):\n",
    "        with open(info_path, 'w') as file:\n",
    "            json.dump({}, file)\n",
    "        print(f\"A new JSON file was created at: {info_path}\")\n",
    "\n",
    "    with open(info_path, \"r\") as file:\n",
    "        records = json.load(file)\n",
    "    records[cohort] = new_record\n",
    "\n",
    "    temp_path = info_path + \".tmp\"\n",
    "    try:\n",
    "        with open(temp_path, 'w') as file:\n",
    "            json.dump(records, file)\n",
    "        os.replace(temp_path, info_path)\n",
    "\n",
    "    except Exception as e:\n",
    "        print(f\"An error occurred: {e}\")\n",
    "        if os.path.exists(temp_path):\n",
    "            os.remove(temp_path)\n",
    "        raise\n",
    "\n",
    "\n",
    "def read_json_to_dataframe(json_file: str) -> pd.DataFrame:\n",
    "    \"\"\"\n",
    "    Reads a JSON file and converts it into a pandas DataFrame.\n",
    "\n",
    "    Args:\n",
    "    json_file (str): The path to the JSON file containing the data.\n",
    "\n",
    "    Returns:\n",
    "    DataFrame: A pandas DataFrame with the JSON data.\n",
    "    \"\"\"\n",
    "    with open(json_file, 'r') as file:\n",
    "        data = json.load(file)\n",
    "    return pd.DataFrame.from_dict(data, orient='index').reset_index().rename(columns={'index': 'cohort_id'})\n",
    "\n",
    "\n",
    "def filter_and_rank_cohorts(json_file: str, condition: Union[str, None] = None) -> Tuple[\n",
    "    Union[str, None], pd.DataFrame]:\n",
    "    \"\"\"\n",
    "    Reads a JSON file, filters cohorts based on usability and an optional condition, then ranks them by sample size.\n",
    "\n",
    "    Args:\n",
    "    json_file (str): The path to the JSON file containing the data.\n",
    "    condition (str, optional): An additional condition for filtering. If None, only 'is_usable' is considered.\n",
    "\n",
    "    Returns:\n",
    "    Tuple: A tuple containing the best cohort ID (str or None if no suitable cohort is found) and\n",
    "           the filtered and ranked DataFrame.\n",
    "    \"\"\"\n",
    "    # Read the JSON file into a DataFrame\n",
    "    df = read_json_to_dataframe(json_file)\n",
    "\n",
    "    if condition:\n",
    "        filtered_df = df[(df['is_usable'] == True) & (df[condition] == True)]\n",
    "    else:\n",
    "        filtered_df = df[df['is_usable'] == True]\n",
    "\n",
    "    ranked_df = filtered_df.sort_values(by='sample_size', ascending=False)\n",
    "    best_cohort_id = ranked_df.iloc[0]['cohort_id'] if not ranked_df.empty else None\n",
    "\n",
    "    return best_cohort_id, ranked_df\n",
    "\n",
    "\n",
    "def read_json_to_dataframe(json_file: str) -> pd.DataFrame:\n",
    "    \"\"\"\n",
    "    Reads a JSON file and converts it into a pandas DataFrame.\n",
    "    \"\"\"\n",
    "    with open(json_file, 'r') as file:\n",
    "        data = json.load(file)\n",
    "    return pd.DataFrame.from_dict(data, orient='index').reset_index().rename(columns={'index': 'cohort_id'})\n",
    "\n",
    "\n",
    "def filter_and_rank_cohorts(json_file: str, condition: Union[str, None] = None) -> Tuple[\n",
    "    Union[str, None], pd.DataFrame]:\n",
    "    \"\"\"\n",
    "    Reads a JSON file, filters cohorts based on usability and an optional condition, then ranks them by sample size.\n",
    "\n",
    "    Args:\n",
    "    json_file (str): The path to the JSON file containing the data.\n",
    "    condition (str, optional): An additional condition for filtering. If None, only 'is_usable' is considered.\n",
    "\n",
    "    Returns:\n",
    "    Tuple: A tuple containing the best cohort ID (str or None if no suitable cohort is found) and\n",
    "           the filtered and ranked DataFrame.\n",
    "    \"\"\"\n",
    "    df = read_json_to_dataframe(json_file)\n",
    "    if condition:\n",
    "        if condition.lower() in ['age', 'gender']:\n",
    "            condition = 'has_' + condition.lower()\n",
    "        assert condition in ['has_age', 'has_gender']\n",
    "        filtered_df = df[(df['is_usable'] == True) & (df[condition] == True)]\n",
    "    else:\n",
    "        filtered_df = df[df['is_usable'] == True]\n",
    "    ranked_df = filtered_df.sort_values(by='sample_size', ascending=False)\n",
    "    best_cohort_id = ranked_df.iloc[0]['cohort_id'] if not ranked_df.empty else None\n",
    "\n",
    "    return best_cohort_id, ranked_df\n",
    "\n",
    "\n",
    "def preview_df(df, n=5):\n",
    "    return df.head(n).to_dict(orient='list')\n"
   ]
  },
  {
   "cell_type": "code",
   "execution_count": 139,
   "metadata": {
    "ExecuteTime": {
     "end_time": "2024-01-02T01:02:53.501910797Z",
     "start_time": "2024-01-02T01:02:53.496254990Z"
    },
    "colab": {
     "base_uri": "https://localhost:8080/"
    },
    "id": "jMTdsU43vVg3",
    "outputId": "38886111-f442-44b4-8398-96bf384d7abd"
   },
   "outputs": [
    {
     "data": {
      "text/plain": [
       "\"import os\\nfrom google.colab import drive\\n\\ndrive.mount('/content/drive', force_remount=True)\\nproj_dir = '/content/drive/MyDrive/AI4Science_Public'\\nos.chdir(proj_dir)\""
      ]
     },
     "execution_count": 139,
     "metadata": {},
     "output_type": "execute_result"
    }
   ],
   "source": [
    "# This cell is only for use on Google Colab. Skip it if you run your code in other environments\n",
    "\n",
    "\"\"\"import os\n",
    "from google.colab import drive\n",
    "\n",
    "drive.mount('/content/drive', force_remount=True)\n",
    "proj_dir = '/content/drive/MyDrive/AI4Science_Public'\n",
    "os.chdir(proj_dir)\"\"\""
   ]
  },
  {
   "cell_type": "markdown",
   "metadata": {
    "collapsed": false
   },
   "source": [
    "# 2. Data preprocessing and selection"
   ]
  },
  {
   "cell_type": "markdown",
   "metadata": {
    "collapsed": false
   },
   "source": [
    "## 2.1. The TCGA Xena dataset"
   ]
  },
  {
   "cell_type": "markdown",
   "metadata": {
    "collapsed": false
   },
   "source": [
    "In TCGA Xena, there is either zero or one cohort related to the trait. We search the names of subdirectories to see if any matches the trait. If a match is found, we directly obtain the file paths."
   ]
  },
  {
   "cell_type": "code",
   "execution_count": 2,
   "metadata": {
    "ExecuteTime": {
     "end_time": "2024-01-02T01:02:56.462746833Z",
     "start_time": "2024-01-02T01:02:55.818581842Z"
    },
    "collapsed": false
   },
   "outputs": [
    {
     "data": {
      "text/plain": [
       "['TCGA_Adrenocortical_Cancer_(ACC)',\n",
       " 'TCGA_Bile_Duct_Cancer_(CHOL)',\n",
       " 'TCGA_Lower_Grade_Glioma_(LGG)',\n",
       " 'TCGA_Acute_Myeloid_Leukemia_(LAML)',\n",
       " 'TCGA_Esophageal_Cancer_(ESCA)',\n",
       " 'TCGA_Thyroid_Cancer_(THCA)',\n",
       " 'TCGA_Ocular_melanomas_(UVM)',\n",
       " 'TCGA_Ovarian_Cancer_(OV)',\n",
       " 'TCGA_Prostate_Cancer_(PRAD)',\n",
       " 'CrawlData.ipynb']"
      ]
     },
     "execution_count": 2,
     "metadata": {},
     "output_type": "execute_result"
    }
   ],
   "source": [
    "import os\n",
    "from utils import *\n",
    "\n",
    "dataset = 'TCGA'\n",
    "dataset_dir = os.path.join(DATA_ROOT, dataset)\n",
    "os.listdir(dataset_dir)[:10]"
   ]
  },
  {
   "cell_type": "markdown",
   "metadata": {
    "collapsed": false
   },
   "source": [
    "If no match is found, jump directly to GEO in Part 2.2"
   ]
  },
  {
   "cell_type": "code",
   "execution_count": 4,
   "metadata": {
    "collapsed": false
   },
   "outputs": [],
   "source": [
    "trait_subdir = \"TCGA_Breast_Cancer_(BRCA)\"\n",
    "cohort = 'Xena'\n",
    "# All the cancer traits in Xena are binary\n",
    "trait_type = 'binary'\n",
    "# Once a relevant cohort is found in Xena, we can generally assume the gene and clinical data are available\n",
    "is_available = True\n",
    "\n",
    "clinical_data_file = os.path.join(dataset_dir, trait_subdir, 'TCGA.BRCA.sampleMap_BRCA_clinicalMatrix')\n",
    "genetic_data_file = os.path.join(dataset_dir, trait_subdir, 'TCGA.BRCA.sampleMap_HiSeqV2_PANCAN.gz')"
   ]
  },
  {
   "cell_type": "code",
   "execution_count": 28,
   "metadata": {
    "id": "MudwB-_iz7sc"
   },
   "outputs": [],
   "source": [
    "import pandas as pd\n",
    "\n",
    "clinical_data = pd.read_csv(clinical_data_file, sep='\\t', index_col=0)\n",
    "genetic_data = pd.read_csv(genetic_data_file, compression='gzip', sep='\\t', index_col=0)\n",
    "age_col = gender_col = None"
   ]
  },
  {
   "cell_type": "code",
   "execution_count": 29,
   "metadata": {
    "collapsed": false
   },
   "outputs": [],
   "source": [
    "_, clinical_data_cols = check_rows_and_columns(clinical_data)"
   ]
  },
  {
   "cell_type": "code",
   "execution_count": 30,
   "metadata": {
    "collapsed": false
   },
   "outputs": [
    {
     "data": {
      "text/plain": [
       "['AJCC_Stage_nature2012',\n",
       " 'Age_at_Initial_Pathologic_Diagnosis_nature2012',\n",
       " 'CN_Clusters_nature2012',\n",
       " 'Converted_Stage_nature2012',\n",
       " 'Days_to_Date_of_Last_Contact_nature2012',\n",
       " 'Days_to_date_of_Death_nature2012',\n",
       " 'ER_Status_nature2012',\n",
       " 'Gender_nature2012',\n",
       " 'HER2_Final_Status_nature2012',\n",
       " 'Integrated_Clusters_no_exp__nature2012']"
      ]
     },
     "execution_count": 30,
     "metadata": {},
     "output_type": "execute_result"
    }
   ],
   "source": [
    "clinical_data_cols[:10]"
   ]
  },
  {
   "cell_type": "markdown",
   "metadata": {
    "ExecuteTime": {
     "end_time": "2023-12-28T20:20:11.841042813Z",
     "start_time": "2023-12-28T20:20:11.834458206Z"
    },
    "collapsed": false
   },
   "source": [
    "Read all the column names in the clinical dataset, to find the columns that record information about age or gender.\n",
    "Reference prompt:"
   ]
  },
  {
   "cell_type": "code",
   "execution_count": null,
   "metadata": {
    "collapsed": false
   },
   "outputs": [],
   "source": [
    "f'''\n",
    "Below is a list of column names from a biomedical dataset. Please examine it and identify the columns that are likely to contain information about patients' age. Additionally, please do the same for columns that may hold data on patients' gender. Please provide your answer by strictly following this format, without redundant words:\n",
    "candidate_age_cols = [col_name1, col_name2, ...]\n",
    "candidate_gender_cols = [col_name1, col_name2, ...]\n",
    "If no columns match a criterion, please provide an empty list.\n",
    "\n",
    "Column names:\n",
    "{clinical_data_cols}\n",
    "'''"
   ]
  },
  {
   "cell_type": "code",
   "execution_count": null,
   "metadata": {
    "collapsed": false
   },
   "outputs": [],
   "source": [
    "candidate_age_cols = ['Age_at_Initial_Pathologic_Diagnosis_nature2012', 'age_at_initial_pathologic_diagnosis',\n",
    "                      'days_to_birth', 'year_of_initial_pathologic_diagnosis']\n",
    "candidate_gender_cols = ['Gender_nature2012', 'gender']"
   ]
  },
  {
   "cell_type": "markdown",
   "metadata": {
    "ExecuteTime": {
     "end_time": "2023-12-31T03:57:44.207565572Z",
     "start_time": "2023-12-31T03:57:44.202177544Z"
    },
    "collapsed": false
   },
   "source": [
    "Choose a single column from the candidate columns that record age and gender information respectively.\n",
    "If no column meets the requirement, keep 'age_col' or 'gender_col' to None"
   ]
  },
  {
   "cell_type": "code",
   "execution_count": null,
   "metadata": {
    "collapsed": false
   },
   "outputs": [],
   "source": [
    "preview_df(clinical_data[candidate_age_cols])"
   ]
  },
  {
   "cell_type": "code",
   "execution_count": null,
   "metadata": {
    "collapsed": false
   },
   "outputs": [],
   "source": [
    "age_col = 'age_at_initial_pathologic_diagnosis'"
   ]
  },
  {
   "cell_type": "code",
   "execution_count": null,
   "metadata": {
    "collapsed": false
   },
   "outputs": [],
   "source": [
    "preview_df(clinical_data[candidate_gender_cols])"
   ]
  },
  {
   "cell_type": "code",
   "execution_count": null,
   "metadata": {
    "collapsed": false
   },
   "outputs": [],
   "source": [
    "gender_col = 'gender'"
   ]
  },
  {
   "cell_type": "code",
   "execution_count": null,
   "metadata": {
    "collapsed": false
   },
   "outputs": [],
   "source": [
    "selected_clinical_data = xena_select_clinical_features(clinical_data, TRAIT, age_col, gender_col)"
   ]
  },
  {
   "cell_type": "code",
   "execution_count": null,
   "metadata": {
    "collapsed": false
   },
   "outputs": [],
   "source": [
    "if NORMALIZE_GENE:\n",
    "    genetic_data = normalize_gene_symbols_in_index(genetic_data)"
   ]
  },
  {
   "cell_type": "code",
   "execution_count": null,
   "metadata": {
    "collapsed": false
   },
   "outputs": [],
   "source": [
    "merged_data = selected_clinical_data.join(genetic_data.T).dropna()\n",
    "merged_data.head()"
   ]
  },
  {
   "cell_type": "code",
   "execution_count": null,
   "metadata": {
    "collapsed": false
   },
   "outputs": [],
   "source": [
    "print(f\"The merged dataset contains {len(merged_data)} samples.\")"
   ]
  },
  {
   "cell_type": "code",
   "execution_count": null,
   "metadata": {
    "collapsed": false
   },
   "outputs": [],
   "source": [
    "is_trait_biased, merge_data = judge_and_remove_biased_features(merged_data, TRAIT, trait_type=trait_type)\n",
    "is_trait_biased"
   ]
  },
  {
   "cell_type": "code",
   "execution_count": null,
   "metadata": {
    "collapsed": false
   },
   "outputs": [],
   "source": [
    "merged_data.head()\n",
    "if not is_trait_biased:\n",
    "    merge_data.to_csv(os.path.join(OUTPUT_DIR, cohort+'.csv'), index=False)"
   ]
  },
  {
   "cell_type": "code",
   "execution_count": null,
   "metadata": {
    "collapsed": false
   },
   "outputs": [],
   "source": [
    "save_cohort_info(cohort, JSON_PATH, is_available, is_trait_biased, merged_data)"
   ]
  },
  {
   "cell_type": "markdown",
   "metadata": {
    "ExecuteTime": {
     "end_time": "2023-12-28T21:28:38.028916303Z",
     "start_time": "2023-12-28T21:28:38.016245426Z"
    },
    "collapsed": false
   },
   "source": [
    "## 2.2. The GEO dataset"
   ]
  },
  {
   "cell_type": "markdown",
   "metadata": {
    "ExecuteTime": {
     "end_time": "2023-12-31T03:25:23.253882615Z",
     "start_time": "2023-12-31T03:25:23.244062710Z"
    },
    "collapsed": false
   },
   "source": [
    "In GEO, there may be one or multiple cohorts for a trait. Each cohort is identified by an accession number. We iterate over all accession numbers in the corresponding subdirectory, preprocess the cohort data, and save them to csv files."
   ]
  },
  {
   "cell_type": "code",
   "execution_count": 6,
   "metadata": {
    "ExecuteTime": {
     "end_time": "2024-01-02T01:02:59.503572381Z",
     "start_time": "2024-01-02T01:02:59.491400342Z"
    },
    "collapsed": false
   },
   "outputs": [
    {
     "data": {
      "text/plain": [
       "['GSE14577', 'GSE16059', 'GSE39684', 'GSE67311']"
      ]
     },
     "execution_count": 6,
     "metadata": {},
     "output_type": "execute_result"
    }
   ],
   "source": [
    "dataset = 'GEO'\n",
    "trait_subdir = \"Chronic-Fatigue-Syndrome\"\n",
    "\n",
    "trait_path = os.path.join(DATA_ROOT, dataset, trait_subdir)\n",
    "os.listdir(trait_path)"
   ]
  },
  {
   "cell_type": "markdown",
   "metadata": {
    "ExecuteTime": {
     "end_time": "2023-12-31T03:39:42.634870142Z",
     "start_time": "2023-12-31T03:39:42.534093295Z"
    },
    "collapsed": false
   },
   "source": [
    "Repeat the below steps for all the accession numbers"
   ]
  },
  {
   "cell_type": "code",
   "execution_count": 50,
   "metadata": {
    "ExecuteTime": {
     "end_time": "2024-01-02T01:03:00.287218362Z",
     "start_time": "2024-01-02T01:03:00.278758251Z"
    },
    "collapsed": false
   },
   "outputs": [
    {
     "data": {
      "text/plain": [
       "('/Users/jacob/Documents\\\\GEO\\\\Chronic-Fatigue-Syndrome\\\\GSE67311\\\\GSE67311_family.soft.gz',\n",
       " '/Users/jacob/Documents\\\\GEO\\\\Chronic-Fatigue-Syndrome\\\\GSE67311\\\\GSE67311_series_matrix.txt.gz')"
      ]
     },
     "execution_count": 50,
     "metadata": {},
     "output_type": "execute_result"
    }
   ],
   "source": [
    "cohort = accession_num = \"GSE67311\"\n",
    "cohort_dir = os.path.join(trait_path, accession_num)\n",
    "soft_file, matrix_file = geo_get_relevant_filepaths(cohort_dir)\n",
    "soft_file, matrix_file"
   ]
  },
  {
   "cell_type": "markdown",
   "metadata": {
    "collapsed": false
   },
   "source": [
    "### Inital filtering and clinical data preprocessing"
   ]
  },
  {
   "cell_type": "code",
   "execution_count": 51,
   "metadata": {
    "ExecuteTime": {
     "end_time": "2024-01-02T01:03:01.634861460Z",
     "start_time": "2024-01-02T01:03:01.076370517Z"
    },
    "collapsed": false
   },
   "outputs": [
    {
     "name": "stdout",
     "output_type": "stream",
     "text": [
      "!Series_title\t\"Peripheral Blood Gene Expression in Fibromyalgia Patients Reveals  Potential Biological Markers and Physiological Pathways\"\n",
      "!Series_summary\t\"Fibromyalgia (FM) is a common pain disorder characterized by dysregulation in the processing of pain. Although FM has similarities with other rheumatologic pain disorders, the search for objective markers has not been successful. In the current study we analyzed gene expression in the whole blood of 70 fibromyalgia patients and 70 healthy matched controls. Global molecular profiling revealed an upregulation of several inflammatory molecules in FM patients and downregulation of specific pathways related to hypersensitivity and allergy. There was a differential expression of genes in known pathways for pain processing, such as glutamine/glutamate signaling and axonal development. We also identified a panel of candidate gene expression-based classifiers that could establish an objective blood-based molecular diagnostic to objectively identify FM patients and guide design and testing of new therapies. Ten classifier probesets (CPA3, C11orf83, LOC100131943, RGS17, PARD3B, ANKRD20A9P, TTLL7, C8orf12, KAT2B and RIOK3) provided a diagnostic sensitivity of 95% and a specificity of 96%. Molecular scores developed from these classifiers were able to clearly distinguish FM patients from healthy controls. An understanding of molecular dysregulation in fibromyalgia is in its infancy; however the results described herein indicate blood global gene expression profiling provides many testable hypotheses that deserve further exploration.\"\n",
      "!Series_overall_design\t\"Blood samples were collected in PAXgene tubes and collected samples were stored at -80oC.  The RNA was isolated using the PAXgene RNA isolation kit according to standard protocols. Total RNA was quantified on a Nanodrop spectrophotometer and visualized for quality on an Agilent Bioanalyzer. Samples with an average RIN (RNA Integrity Number) >8, indicating good quality RNA, were processed. 200ng of total RNA was amplified and then hybridized to AffymetrixÂ® Human Gene 1.1 ST Peg arrays using standard manufacturerâ€™s protocols on a Gene Titan MC instrument. Data was analyzed using Partek Genomics Suite (version 6.6) using RMA normalization. All genes with Log2 signal intensity less than 4.8 were excluded from analysis based on low expression. Differential expression analysis was carried out using a one way ANOVA by using Method of Moments and Fisher's Least Significant Difference (LSD) tests with a threshold p-value <0.005 for the biological and molecular function analyses, and a more conservative threshold p-value <0.001 (FDR q-value range 0.002% to 13%) for candidate diagnostic signatures.\"\n"
     ]
    }
   ],
   "source": [
    "background_prefixes = ['!Series_title', '!Series_summary', '!Series_overall_design']\n",
    "clinical_prefixes = ['!Sample_geo_accession', '!Sample_characteristics_ch1']\n",
    "\n",
    "background_info, clinical_data = get_background_and_clinical_data(matrix_file, background_prefixes, clinical_prefixes)\n",
    "print(background_info)"
   ]
  },
  {
   "cell_type": "code",
   "execution_count": 52,
   "metadata": {
    "ExecuteTime": {
     "end_time": "2024-01-02T01:03:01.642310454Z",
     "start_time": "2024-01-02T01:03:01.635048940Z"
    },
    "collapsed": false
   },
   "outputs": [
    {
     "data": {
      "text/html": [
       "<div>\n",
       "<style scoped>\n",
       "    .dataframe tbody tr th:only-of-type {\n",
       "        vertical-align: middle;\n",
       "    }\n",
       "\n",
       "    .dataframe tbody tr th {\n",
       "        vertical-align: top;\n",
       "    }\n",
       "\n",
       "    .dataframe thead th {\n",
       "        text-align: right;\n",
       "    }\n",
       "</style>\n",
       "<table border=\"1\" class=\"dataframe\">\n",
       "  <thead>\n",
       "    <tr style=\"text-align: right;\">\n",
       "      <th></th>\n",
       "      <th>!Sample_geo_accession</th>\n",
       "      <th>GSM1644447</th>\n",
       "      <th>GSM1644448</th>\n",
       "      <th>GSM1644449</th>\n",
       "      <th>GSM1644450</th>\n",
       "      <th>GSM1644451</th>\n",
       "      <th>GSM1644452</th>\n",
       "      <th>GSM1644453</th>\n",
       "      <th>GSM1644454</th>\n",
       "      <th>GSM1644455</th>\n",
       "      <th>...</th>\n",
       "      <th>GSM1644579</th>\n",
       "      <th>GSM1644580</th>\n",
       "      <th>GSM1644581</th>\n",
       "      <th>GSM1644582</th>\n",
       "      <th>GSM1644583</th>\n",
       "      <th>GSM1644584</th>\n",
       "      <th>GSM1644585</th>\n",
       "      <th>GSM1644586</th>\n",
       "      <th>GSM1644587</th>\n",
       "      <th>GSM1644588</th>\n",
       "    </tr>\n",
       "  </thead>\n",
       "  <tbody>\n",
       "    <tr>\n",
       "      <th>0</th>\n",
       "      <td>!Sample_characteristics_ch1</td>\n",
       "      <td>diagnosis: healthy control</td>\n",
       "      <td>diagnosis: healthy control</td>\n",
       "      <td>diagnosis: healthy control</td>\n",
       "      <td>diagnosis: healthy control</td>\n",
       "      <td>diagnosis: healthy control</td>\n",
       "      <td>diagnosis: healthy control</td>\n",
       "      <td>diagnosis: healthy control</td>\n",
       "      <td>diagnosis: healthy control</td>\n",
       "      <td>diagnosis: healthy control</td>\n",
       "      <td>...</td>\n",
       "      <td>diagnosis: fibromyalgia</td>\n",
       "      <td>diagnosis: fibromyalgia</td>\n",
       "      <td>diagnosis: fibromyalgia</td>\n",
       "      <td>diagnosis: fibromyalgia</td>\n",
       "      <td>diagnosis: fibromyalgia</td>\n",
       "      <td>diagnosis: fibromyalgia</td>\n",
       "      <td>diagnosis: fibromyalgia</td>\n",
       "      <td>diagnosis: fibromyalgia</td>\n",
       "      <td>diagnosis: fibromyalgia</td>\n",
       "      <td>diagnosis: fibromyalgia</td>\n",
       "    </tr>\n",
       "    <tr>\n",
       "      <th>1</th>\n",
       "      <td>!Sample_characteristics_ch1</td>\n",
       "      <td>tissue: peripheral blood</td>\n",
       "      <td>tissue: peripheral blood</td>\n",
       "      <td>tissue: peripheral blood</td>\n",
       "      <td>tissue: peripheral blood</td>\n",
       "      <td>tissue: peripheral blood</td>\n",
       "      <td>tissue: peripheral blood</td>\n",
       "      <td>tissue: peripheral blood</td>\n",
       "      <td>tissue: peripheral blood</td>\n",
       "      <td>tissue: peripheral blood</td>\n",
       "      <td>...</td>\n",
       "      <td>tissue: peripheral blood</td>\n",
       "      <td>tissue: peripheral blood</td>\n",
       "      <td>tissue: peripheral blood</td>\n",
       "      <td>tissue: peripheral blood</td>\n",
       "      <td>tissue: peripheral blood</td>\n",
       "      <td>tissue: peripheral blood</td>\n",
       "      <td>tissue: peripheral blood</td>\n",
       "      <td>tissue: peripheral blood</td>\n",
       "      <td>tissue: peripheral blood</td>\n",
       "      <td>tissue: peripheral blood</td>\n",
       "    </tr>\n",
       "    <tr>\n",
       "      <th>2</th>\n",
       "      <td>!Sample_characteristics_ch1</td>\n",
       "      <td>fiqr score: 8.5</td>\n",
       "      <td>fiqr score: -2.0</td>\n",
       "      <td>fiqr score: 9.8</td>\n",
       "      <td>fiqr score: 0.5</td>\n",
       "      <td>fiqr score: -1.0</td>\n",
       "      <td>fiqr score: -0.5</td>\n",
       "      <td>fiqr score: 2.2</td>\n",
       "      <td>fiqr score: -2.0</td>\n",
       "      <td>fiqr score: -2.0</td>\n",
       "      <td>...</td>\n",
       "      <td>fiqr score: 41.8</td>\n",
       "      <td>fiqr score: 54.5</td>\n",
       "      <td>fiqr score: 63.0</td>\n",
       "      <td>fiqr score: 64.0</td>\n",
       "      <td>fiqr score: 67.2</td>\n",
       "      <td>fiqr score: 17.8</td>\n",
       "      <td>fiqr score: 17.8</td>\n",
       "      <td>fiqr score: 41.7</td>\n",
       "      <td>fiqr score: 81.2</td>\n",
       "      <td>fiqr score: 54.7</td>\n",
       "    </tr>\n",
       "    <tr>\n",
       "      <th>3</th>\n",
       "      <td>!Sample_characteristics_ch1</td>\n",
       "      <td>bmi: 36</td>\n",
       "      <td>bmi: 34</td>\n",
       "      <td>bmi: 33</td>\n",
       "      <td>bmi: 22</td>\n",
       "      <td>bmi: 24</td>\n",
       "      <td>bmi: 28</td>\n",
       "      <td>bmi: 23</td>\n",
       "      <td>bmi: 48</td>\n",
       "      <td>bmi: 48</td>\n",
       "      <td>...</td>\n",
       "      <td>bmi: 22</td>\n",
       "      <td>bmi: 25</td>\n",
       "      <td>bmi: 29</td>\n",
       "      <td>bmi: 38</td>\n",
       "      <td>bmi: 28</td>\n",
       "      <td>bmi: 37</td>\n",
       "      <td>bmi: 0</td>\n",
       "      <td>bmi: 38</td>\n",
       "      <td>bmi: 20</td>\n",
       "      <td>bmi: 34</td>\n",
       "    </tr>\n",
       "    <tr>\n",
       "      <th>4</th>\n",
       "      <td>!Sample_characteristics_ch1</td>\n",
       "      <td>migraine: No</td>\n",
       "      <td>migraine: No</td>\n",
       "      <td>migraine: No</td>\n",
       "      <td>migraine: No</td>\n",
       "      <td>migraine: No</td>\n",
       "      <td>migraine: No</td>\n",
       "      <td>migraine: No</td>\n",
       "      <td>migraine: No</td>\n",
       "      <td>migraine: No</td>\n",
       "      <td>...</td>\n",
       "      <td>migraine: No</td>\n",
       "      <td>migraine: Yes</td>\n",
       "      <td>migraine: Yes</td>\n",
       "      <td>migraine: No</td>\n",
       "      <td>migraine: Yes</td>\n",
       "      <td>migraine: Yes</td>\n",
       "      <td>migraine: -</td>\n",
       "      <td>migraine: Yes</td>\n",
       "      <td>migraine: Yes</td>\n",
       "      <td>migraine: No</td>\n",
       "    </tr>\n",
       "  </tbody>\n",
       "</table>\n",
       "<p>5 rows × 143 columns</p>\n",
       "</div>"
      ],
      "text/plain": [
       "         !Sample_geo_accession                  GSM1644447  \\\n",
       "0  !Sample_characteristics_ch1  diagnosis: healthy control   \n",
       "1  !Sample_characteristics_ch1    tissue: peripheral blood   \n",
       "2  !Sample_characteristics_ch1             fiqr score: 8.5   \n",
       "3  !Sample_characteristics_ch1                     bmi: 36   \n",
       "4  !Sample_characteristics_ch1                migraine: No   \n",
       "\n",
       "                   GSM1644448                  GSM1644449  \\\n",
       "0  diagnosis: healthy control  diagnosis: healthy control   \n",
       "1    tissue: peripheral blood    tissue: peripheral blood   \n",
       "2            fiqr score: -2.0             fiqr score: 9.8   \n",
       "3                     bmi: 34                     bmi: 33   \n",
       "4                migraine: No                migraine: No   \n",
       "\n",
       "                   GSM1644450                  GSM1644451  \\\n",
       "0  diagnosis: healthy control  diagnosis: healthy control   \n",
       "1    tissue: peripheral blood    tissue: peripheral blood   \n",
       "2             fiqr score: 0.5            fiqr score: -1.0   \n",
       "3                     bmi: 22                     bmi: 24   \n",
       "4                migraine: No                migraine: No   \n",
       "\n",
       "                   GSM1644452                  GSM1644453  \\\n",
       "0  diagnosis: healthy control  diagnosis: healthy control   \n",
       "1    tissue: peripheral blood    tissue: peripheral blood   \n",
       "2            fiqr score: -0.5             fiqr score: 2.2   \n",
       "3                     bmi: 28                     bmi: 23   \n",
       "4                migraine: No                migraine: No   \n",
       "\n",
       "                   GSM1644454                  GSM1644455  ...  \\\n",
       "0  diagnosis: healthy control  diagnosis: healthy control  ...   \n",
       "1    tissue: peripheral blood    tissue: peripheral blood  ...   \n",
       "2            fiqr score: -2.0            fiqr score: -2.0  ...   \n",
       "3                     bmi: 48                     bmi: 48  ...   \n",
       "4                migraine: No                migraine: No  ...   \n",
       "\n",
       "                 GSM1644579                GSM1644580  \\\n",
       "0   diagnosis: fibromyalgia   diagnosis: fibromyalgia   \n",
       "1  tissue: peripheral blood  tissue: peripheral blood   \n",
       "2          fiqr score: 41.8          fiqr score: 54.5   \n",
       "3                   bmi: 22                   bmi: 25   \n",
       "4              migraine: No             migraine: Yes   \n",
       "\n",
       "                 GSM1644581                GSM1644582  \\\n",
       "0   diagnosis: fibromyalgia   diagnosis: fibromyalgia   \n",
       "1  tissue: peripheral blood  tissue: peripheral blood   \n",
       "2          fiqr score: 63.0          fiqr score: 64.0   \n",
       "3                   bmi: 29                   bmi: 38   \n",
       "4             migraine: Yes              migraine: No   \n",
       "\n",
       "                 GSM1644583                GSM1644584  \\\n",
       "0   diagnosis: fibromyalgia   diagnosis: fibromyalgia   \n",
       "1  tissue: peripheral blood  tissue: peripheral blood   \n",
       "2          fiqr score: 67.2          fiqr score: 17.8   \n",
       "3                   bmi: 28                   bmi: 37   \n",
       "4             migraine: Yes             migraine: Yes   \n",
       "\n",
       "                 GSM1644585                GSM1644586  \\\n",
       "0   diagnosis: fibromyalgia   diagnosis: fibromyalgia   \n",
       "1  tissue: peripheral blood  tissue: peripheral blood   \n",
       "2          fiqr score: 17.8          fiqr score: 41.7   \n",
       "3                    bmi: 0                   bmi: 38   \n",
       "4               migraine: -             migraine: Yes   \n",
       "\n",
       "                 GSM1644587                GSM1644588  \n",
       "0   diagnosis: fibromyalgia   diagnosis: fibromyalgia  \n",
       "1  tissue: peripheral blood  tissue: peripheral blood  \n",
       "2          fiqr score: 81.2          fiqr score: 54.7  \n",
       "3                   bmi: 20                   bmi: 34  \n",
       "4             migraine: Yes              migraine: No  \n",
       "\n",
       "[5 rows x 143 columns]"
      ]
     },
     "execution_count": 52,
     "metadata": {},
     "output_type": "execute_result"
    }
   ],
   "source": [
    "clinical_data.head()"
   ]
  },
  {
   "cell_type": "code",
   "execution_count": 53,
   "metadata": {
    "ExecuteTime": {
     "end_time": "2024-01-02T01:03:01.805026160Z",
     "start_time": "2024-01-02T01:03:01.804428154Z"
    },
    "collapsed": false
   },
   "outputs": [
    {
     "data": {
      "text/plain": [
       "{0: ['diagnosis: healthy control', 'diagnosis: fibromyalgia'],\n",
       " 1: ['tissue: peripheral blood'],\n",
       " 2: ['fiqr score: 8.5',\n",
       "  'fiqr score: -2.0',\n",
       "  'fiqr score: 9.8',\n",
       "  'fiqr score: 0.5',\n",
       "  'fiqr score: -1.0',\n",
       "  'fiqr score: -0.5',\n",
       "  'fiqr score: 2.2',\n",
       "  'fiqr score: 15.3',\n",
       "  'fiqr score: 4.0',\n",
       "  'fiqr score: 29.3',\n",
       "  'fiqr score: 27.2',\n",
       "  'fiqr score: 5.0',\n",
       "  'fiqr score: 1.0',\n",
       "  'fiqr score: 2.5',\n",
       "  'fiqr score: 3.0',\n",
       "  'fiqr score: -1.5',\n",
       "  'fiqr score: 1.3',\n",
       "  'fiqr score: 21.7',\n",
       "  'fiqr score: -1.2',\n",
       "  'fiqr score: 4.3',\n",
       "  'fiqr score: 6.5',\n",
       "  'fiqr score: 2.0',\n",
       "  'fiqr score: 11.7',\n",
       "  'fiqr score: 15.0',\n",
       "  'fiqr score: 6.0',\n",
       "  'fiqr score: 14.2',\n",
       "  'fiqr score: -0.2',\n",
       "  'fiqr score: 12.8',\n",
       "  'fiqr score: 15.7',\n",
       "  'fiqr score: 0.0'],\n",
       " 3: ['bmi: 36',\n",
       "  'bmi: 34',\n",
       "  'bmi: 33',\n",
       "  'bmi: 22',\n",
       "  'bmi: 24',\n",
       "  'bmi: 28',\n",
       "  'bmi: 23',\n",
       "  'bmi: 48',\n",
       "  'bmi: 25',\n",
       "  'bmi: 46',\n",
       "  'bmi: 32',\n",
       "  'bmi: 31',\n",
       "  'bmi: 21',\n",
       "  'bmi: 27',\n",
       "  'bmi: 39',\n",
       "  'bmi: 52',\n",
       "  'bmi: 37',\n",
       "  'bmi: 0',\n",
       "  'bmi: 38',\n",
       "  'bmi: 26',\n",
       "  'bmi: 42',\n",
       "  'bmi: 20',\n",
       "  'bmi: 30',\n",
       "  'bmi: 43',\n",
       "  'bmi: 35',\n",
       "  'bmi: 44',\n",
       "  'bmi: 29',\n",
       "  'bmi: 45',\n",
       "  'bmi: 40',\n",
       "  'bmi: 47'],\n",
       " 4: ['migraine: No', 'migraine: Yes', 'migraine: -'],\n",
       " 5: ['irritable bowel syndrome: No',\n",
       "  'irritable bowel syndrome: Yes',\n",
       "  'irritable bowel syndrome: -'],\n",
       " 6: ['major depression: No', 'major depression: -', 'major depression: Yes'],\n",
       " 7: ['bipolar disorder: No', 'bipolar disorder: -', 'bipolar disorder: Yes'],\n",
       " 8: ['chronic fatigue syndrome: No',\n",
       "  nan,\n",
       "  'chronic fatigue syndrome: -',\n",
       "  'chronic fatigue syndrome: Yes']}"
      ]
     },
     "execution_count": 53,
     "metadata": {},
     "output_type": "execute_result"
    }
   ],
   "source": [
    "clinical_data_unique = get_unique_values_by_row(clinical_data)\n",
    "clinical_data_unique"
   ]
  },
  {
   "cell_type": "markdown",
   "metadata": {
    "ExecuteTime": {
     "end_time": "2023-12-31T03:58:04.978204446Z",
     "start_time": "2023-12-31T03:58:04.922270095Z"
    },
    "collapsed": false
   },
   "source": [
    "Analyze the metadata to determine data relevance and find ways to extract the clinical data.\n",
    "Reference prompt:"
   ]
  },
  {
   "cell_type": "code",
   "execution_count": 54,
   "metadata": {
    "ExecuteTime": {
     "end_time": "2024-01-02T01:03:02.369775044Z",
     "start_time": "2024-01-02T01:03:02.356501629Z"
    },
    "collapsed": false
   },
   "outputs": [
    {
     "data": {
      "text/plain": [
       "'As a biomedical research team, we are selecting datasets to study the association between the human trait \\'Chronic-Fatigue-Syndrome\\' and genetic factors, optionally considering the influence of age and gender. After searching the GEO database and parsing the matrix file of a series, we obtained background information and sample characteristics data. We will provide textual information about the dataset background, and a Python dictionary storing a list of unique values for each field of the sample characteristics data. Please carefully review the provided information and answer the following questions about this dataset:\\n1. Does this dataset contain gene expression data? (Note: Pure miRNA data is not suitable.)\\n2. For each of the traits \\'Chronic-Fatigue-Syndrome\\', \\'age\\', and \\'gender\\', please address these points:\\n   (1) Is there human data available for this trait?\\n   (2) If so, identify the key in the sample characteristics dictionary where unique values of this trait is recorded. The key is an integer. The trait information might be explicitly recorded, or can be inferred from the field with some biomedical knowledge or understanding about the data collection process.\\n   (3) Choose an appropriate data type (either \\'continuous\\' or \\'binary\\') for each trait. Write a Python function to convert any given value of the trait to this data type. The function should handle inference about the trait value and convert unknown values to None.\\n   Name the functions \\'convert_trait\\', \\'convert_age\\', and \\'convert_gender\\', respectively.\\n\\nBackground information about the dataset:\\n!Series_title\\t\"Peripheral Blood Gene Expression in Fibromyalgia Patients Reveals  Potential Biological Markers and Physiological Pathways\"\\n!Series_summary\\t\"Fibromyalgia (FM) is a common pain disorder characterized by dysregulation in the processing of pain. Although FM has similarities with other rheumatologic pain disorders, the search for objective markers has not been successful. In the current study we analyzed gene expression in the whole blood of 70 fibromyalgia patients and 70 healthy matched controls. Global molecular profiling revealed an upregulation of several inflammatory molecules in FM patients and downregulation of specific pathways related to hypersensitivity and allergy. There was a differential expression of genes in known pathways for pain processing, such as glutamine/glutamate signaling and axonal development. We also identified a panel of candidate gene expression-based classifiers that could establish an objective blood-based molecular diagnostic to objectively identify FM patients and guide design and testing of new therapies. Ten classifier probesets (CPA3, C11orf83, LOC100131943, RGS17, PARD3B, ANKRD20A9P, TTLL7, C8orf12, KAT2B and RIOK3) provided a diagnostic sensitivity of 95% and a specificity of 96%. Molecular scores developed from these classifiers were able to clearly distinguish FM patients from healthy controls. An understanding of molecular dysregulation in fibromyalgia is in its infancy; however the results described herein indicate blood global gene expression profiling provides many testable hypotheses that deserve further exploration.\"\\n!Series_overall_design\\t\"Blood samples were collected in PAXgene tubes and collected samples were stored at -80oC.  The RNA was isolated using the PAXgene RNA isolation kit according to standard protocols. Total RNA was quantified on a Nanodrop spectrophotometer and visualized for quality on an Agilent Bioanalyzer. Samples with an average RIN (RNA Integrity Number) >8, indicating good quality RNA, were processed. 200ng of total RNA was amplified and then hybridized to AffymetrixÂ® Human Gene 1.1 ST Peg arrays using standard manufacturerâ€™s protocols on a Gene Titan MC instrument. Data was analyzed using Partek Genomics Suite (version 6.6) using RMA normalization. All genes with Log2 signal intensity less than 4.8 were excluded from analysis based on low expression. Differential expression analysis was carried out using a one way ANOVA by using Method of Moments and Fisher\\'s Least Significant Difference (LSD) tests with a threshold p-value <0.005 for the biological and molecular function analyses, and a more conservative threshold p-value <0.001 (FDR q-value range 0.002% to 13%) for candidate diagnostic signatures.\"\\n\\nSample characteristics dictionary (from \"!Sample_characteristics_ch1\", converted to a Python dictionary that stores the unique values for each field):\\n{0: [\\'diagnosis: healthy control\\', \\'diagnosis: fibromyalgia\\'], 1: [\\'tissue: peripheral blood\\'], 2: [\\'fiqr score: 8.5\\', \\'fiqr score: -2.0\\', \\'fiqr score: 9.8\\', \\'fiqr score: 0.5\\', \\'fiqr score: -1.0\\', \\'fiqr score: -0.5\\', \\'fiqr score: 2.2\\', \\'fiqr score: 15.3\\', \\'fiqr score: 4.0\\', \\'fiqr score: 29.3\\', \\'fiqr score: 27.2\\', \\'fiqr score: 5.0\\', \\'fiqr score: 1.0\\', \\'fiqr score: 2.5\\', \\'fiqr score: 3.0\\', \\'fiqr score: -1.5\\', \\'fiqr score: 1.3\\', \\'fiqr score: 21.7\\', \\'fiqr score: -1.2\\', \\'fiqr score: 4.3\\', \\'fiqr score: 6.5\\', \\'fiqr score: 2.0\\', \\'fiqr score: 11.7\\', \\'fiqr score: 15.0\\', \\'fiqr score: 6.0\\', \\'fiqr score: 14.2\\', \\'fiqr score: -0.2\\', \\'fiqr score: 12.8\\', \\'fiqr score: 15.7\\', \\'fiqr score: 0.0\\'], 3: [\\'bmi: 36\\', \\'bmi: 34\\', \\'bmi: 33\\', \\'bmi: 22\\', \\'bmi: 24\\', \\'bmi: 28\\', \\'bmi: 23\\', \\'bmi: 48\\', \\'bmi: 25\\', \\'bmi: 46\\', \\'bmi: 32\\', \\'bmi: 31\\', \\'bmi: 21\\', \\'bmi: 27\\', \\'bmi: 39\\', \\'bmi: 52\\', \\'bmi: 37\\', \\'bmi: 0\\', \\'bmi: 38\\', \\'bmi: 26\\', \\'bmi: 42\\', \\'bmi: 20\\', \\'bmi: 30\\', \\'bmi: 43\\', \\'bmi: 35\\', \\'bmi: 44\\', \\'bmi: 29\\', \\'bmi: 45\\', \\'bmi: 40\\', \\'bmi: 47\\'], 4: [\\'migraine: No\\', \\'migraine: Yes\\', \\'migraine: -\\'], 5: [\\'irritable bowel syndrome: No\\', \\'irritable bowel syndrome: Yes\\', \\'irritable bowel syndrome: -\\'], 6: [\\'major depression: No\\', \\'major depression: -\\', \\'major depression: Yes\\'], 7: [\\'bipolar disorder: No\\', \\'bipolar disorder: -\\', \\'bipolar disorder: Yes\\'], 8: [\\'chronic fatigue syndrome: No\\', nan, \\'chronic fatigue syndrome: -\\', \\'chronic fatigue syndrome: Yes\\']}\\n'"
      ]
     },
     "execution_count": 54,
     "metadata": {},
     "output_type": "execute_result"
    }
   ],
   "source": [
    "f'''As a biomedical research team, we are selecting datasets to study the association between the human trait \\'{TRAIT}\\' and genetic factors, optionally considering the influence of age and gender. After searching the GEO database and parsing the matrix file of a series, we obtained background information and sample characteristics data. We will provide textual information about the dataset background, and a Python dictionary storing a list of unique values for each field of the sample characteristics data. Please carefully review the provided information and answer the following questions about this dataset:\n",
    "1. Does this dataset contain gene expression data? (Note: Pure miRNA data is not suitable.)\n",
    "2. For each of the traits \\'{TRAIT}\\', 'age', and 'gender', please address these points:\n",
    "   (1) Is there human data available for this trait?\n",
    "   (2) If so, identify the key in the sample characteristics dictionary where unique values of this trait is recorded. The key is an integer. The trait information might be explicitly recorded, or can be inferred from the field with some biomedical knowledge or understanding about the data collection process.\n",
    "   (3) Choose an appropriate data type (either 'continuous' or 'binary') for each trait. Write a Python function to convert any given value of the trait to this data type. The function should handle inference about the trait value and convert unknown values to None.\n",
    "   Name the functions 'convert_trait', 'convert_age', and 'convert_gender', respectively.\n",
    "\n",
    "Background information about the dataset:\n",
    "{background_info}\n",
    "\n",
    "Sample characteristics dictionary (from \"!Sample_characteristics_ch1\", converted to a Python dictionary that stores the unique values for each field):\n",
    "{clinical_data_unique}\n",
    "'''"
   ]
  },
  {
   "cell_type": "markdown",
   "metadata": {
    "ExecuteTime": {
     "end_time": "2023-12-31T03:58:04.978240504Z",
     "start_time": "2023-12-31T03:58:04.922365324Z"
    },
    "collapsed": false
   },
   "source": [
    "Understand and verify the answer from GPT, to assign values to the below variables. Assign None to the 'row_id' variables if relevant data row was not found.\n",
    "Later we need to let GPT format its answer to automatically do these. But given the complexity of this step, let's grow some insight from the free-text answers for now."
   ]
  },
  {
   "cell_type": "code",
   "execution_count": 55,
   "metadata": {
    "ExecuteTime": {
     "end_time": "2024-01-02T01:03:03.079540570Z",
     "start_time": "2024-01-02T01:03:03.073638535Z"
    },
    "collapsed": false
   },
   "outputs": [],
   "source": [
    "is_gene_availabe = True\n",
    "trait_row = 8\n",
    "age_row = None  \n",
    "gender_row = None \n",
    "\n",
    "trait_type = 'binary'"
   ]
  },
  {
   "cell_type": "code",
   "execution_count": 56,
   "metadata": {
    "ExecuteTime": {
     "end_time": "2024-01-02T01:03:03.572682163Z",
     "start_time": "2024-01-02T01:03:03.559775513Z"
    },
    "collapsed": false
   },
   "outputs": [],
   "source": [
    "is_available = is_gene_availabe and (trait_row is not None)\n",
    "if not is_available:\n",
    "    save_cohort_info(cohort, JSON_PATH, is_available)\n",
    "    print(\"This cohort is not usable. Please skip the following steps and jump to the next accession number.\")"
   ]
  },
  {
   "cell_type": "code",
   "execution_count": 57,
   "metadata": {
    "ExecuteTime": {
     "end_time": "2024-01-02T01:03:03.973964287Z",
     "start_time": "2024-01-02T01:03:03.964958096Z"
    },
    "collapsed": false
   },
   "outputs": [
    {
     "data": {
      "text/plain": [
       "(0, 0.2, 1)"
      ]
     },
     "execution_count": 57,
     "metadata": {},
     "output_type": "execute_result"
    }
   ],
   "source": [
    "def convert_trait(tissue_type):\n",
    "    \"\"\"\n",
    "    Convert tissue type to epilepsy presence (binary).\n",
    "    Assuming epilepsy presence for 'Hippocampus' tissue.\n",
    "    \"\"\"\n",
    "    if tissue_type == 'tissue: Brain':\n",
    "        return 1  # Epilepsy present\n",
    "    else:\n",
    "        return 0  # Epilepsy not present\n",
    "\n",
    "def convert_age(age_string):\n",
    "    \"\"\"\n",
    "    \n",
    "    \"\"\"\n",
    "    if age_string.startswith('age: '): \n",
    "        try:\n",
    "            \n",
    "            age_value = float(age_string.split('age: ')[1].rstrip(' weeks'))\n",
    "            return age_value\n",
    "        except ValueError:\n",
    "            return None \n",
    "    else:\n",
    "        return None  \n",
    "\n",
    "\n",
    "def convert_gender(gender_string):\n",
    "    \"\"\"\n",
    "    Convert gender string to a binary representation.\n",
    "    Female -> 0, Male -> 1, Unknown -> None\n",
    "    \"\"\"\n",
    "    if gender_string == 'gender: female':\n",
    "        return 0\n",
    "    elif gender_string == 'gender: male':\n",
    "        return 1\n",
    "    else:\n",
    "        return None  # In case of unknown gender\n",
    "\n",
    "# Example usage\n",
    "example_tissue = 'tissue: Heart'\n",
    "example_age = 'age: 0.2 weeks'\n",
    "example_gender = 'gender: male'\n",
    "\n",
    "converted_trait = convert_trait(example_tissue)\n",
    "converted_age = convert_age(example_age)\n",
    "converted_gender = convert_gender(example_gender)\n",
    "\n",
    "converted_trait, converted_age, converted_gender"
   ]
  },
  {
   "cell_type": "code",
   "execution_count": 58,
   "metadata": {
    "ExecuteTime": {
     "end_time": "2024-01-02T01:03:04.637878352Z",
     "start_time": "2024-01-02T01:03:04.593886885Z"
    },
    "collapsed": false
   },
   "outputs": [
    {
     "name": "stderr",
     "output_type": "stream",
     "text": [
      "C:\\Users\\jacob\\AppData\\Local\\Temp\\ipykernel_10852\\2151059819.py:218: FutureWarning: DataFrame.applymap has been deprecated. Use DataFrame.map instead.\n",
      "  clinical_df = clinical_df.applymap(convert_fn)\n"
     ]
    },
    {
     "data": {
      "text/html": [
       "<div>\n",
       "<style scoped>\n",
       "    .dataframe tbody tr th:only-of-type {\n",
       "        vertical-align: middle;\n",
       "    }\n",
       "\n",
       "    .dataframe tbody tr th {\n",
       "        vertical-align: top;\n",
       "    }\n",
       "\n",
       "    .dataframe thead th {\n",
       "        text-align: right;\n",
       "    }\n",
       "</style>\n",
       "<table border=\"1\" class=\"dataframe\">\n",
       "  <thead>\n",
       "    <tr style=\"text-align: right;\">\n",
       "      <th></th>\n",
       "      <th>GSM1644447</th>\n",
       "      <th>GSM1644448</th>\n",
       "      <th>GSM1644449</th>\n",
       "      <th>GSM1644450</th>\n",
       "      <th>GSM1644451</th>\n",
       "      <th>GSM1644452</th>\n",
       "      <th>GSM1644453</th>\n",
       "      <th>GSM1644454</th>\n",
       "      <th>GSM1644455</th>\n",
       "      <th>GSM1644456</th>\n",
       "      <th>...</th>\n",
       "      <th>GSM1644579</th>\n",
       "      <th>GSM1644580</th>\n",
       "      <th>GSM1644581</th>\n",
       "      <th>GSM1644582</th>\n",
       "      <th>GSM1644583</th>\n",
       "      <th>GSM1644584</th>\n",
       "      <th>GSM1644585</th>\n",
       "      <th>GSM1644586</th>\n",
       "      <th>GSM1644587</th>\n",
       "      <th>GSM1644588</th>\n",
       "    </tr>\n",
       "  </thead>\n",
       "  <tbody>\n",
       "    <tr>\n",
       "      <th>Chronic-Fatigue-Syndrome</th>\n",
       "      <td>0</td>\n",
       "      <td>0</td>\n",
       "      <td>0</td>\n",
       "      <td>0</td>\n",
       "      <td>0</td>\n",
       "      <td>0</td>\n",
       "      <td>0</td>\n",
       "      <td>0</td>\n",
       "      <td>0</td>\n",
       "      <td>0</td>\n",
       "      <td>...</td>\n",
       "      <td>0</td>\n",
       "      <td>0</td>\n",
       "      <td>0</td>\n",
       "      <td>0</td>\n",
       "      <td>0</td>\n",
       "      <td>0</td>\n",
       "      <td>0</td>\n",
       "      <td>0</td>\n",
       "      <td>0</td>\n",
       "      <td>0</td>\n",
       "    </tr>\n",
       "  </tbody>\n",
       "</table>\n",
       "<p>1 rows × 142 columns</p>\n",
       "</div>"
      ],
      "text/plain": [
       "                          GSM1644447  GSM1644448  GSM1644449  GSM1644450  \\\n",
       "Chronic-Fatigue-Syndrome           0           0           0           0   \n",
       "\n",
       "                          GSM1644451  GSM1644452  GSM1644453  GSM1644454  \\\n",
       "Chronic-Fatigue-Syndrome           0           0           0           0   \n",
       "\n",
       "                          GSM1644455  GSM1644456  ...  GSM1644579  GSM1644580  \\\n",
       "Chronic-Fatigue-Syndrome           0           0  ...           0           0   \n",
       "\n",
       "                          GSM1644581  GSM1644582  GSM1644583  GSM1644584  \\\n",
       "Chronic-Fatigue-Syndrome           0           0           0           0   \n",
       "\n",
       "                          GSM1644585  GSM1644586  GSM1644587  GSM1644588  \n",
       "Chronic-Fatigue-Syndrome           0           0           0           0  \n",
       "\n",
       "[1 rows x 142 columns]"
      ]
     },
     "execution_count": 58,
     "metadata": {},
     "output_type": "execute_result"
    }
   ],
   "source": [
    "selected_clinical_data = geo_select_clinical_features(clinical_data, TRAIT, trait_row, convert_trait, age_row=age_row,\n",
    "                                                      convert_age=convert_age, gender_row=gender_row,\n",
    "                                                      convert_gender=convert_gender)\n",
    "selected_clinical_data.head()"
   ]
  },
  {
   "cell_type": "markdown",
   "metadata": {
    "ExecuteTime": {
     "end_time": "2023-12-31T03:58:04.978664193Z",
     "start_time": "2023-12-31T03:58:04.966117261Z"
    },
    "collapsed": false
   },
   "source": [
    "### Genetic data preprocessing and final filtering"
   ]
  },
  {
   "cell_type": "code",
   "execution_count": 59,
   "metadata": {
    "ExecuteTime": {
     "end_time": "2024-01-02T01:03:06.246474256Z",
     "start_time": "2024-01-02T01:03:05.670354792Z"
    },
    "collapsed": false
   },
   "outputs": [
    {
     "data": {
      "text/html": [
       "<div>\n",
       "<style scoped>\n",
       "    .dataframe tbody tr th:only-of-type {\n",
       "        vertical-align: middle;\n",
       "    }\n",
       "\n",
       "    .dataframe tbody tr th {\n",
       "        vertical-align: top;\n",
       "    }\n",
       "\n",
       "    .dataframe thead th {\n",
       "        text-align: right;\n",
       "    }\n",
       "</style>\n",
       "<table border=\"1\" class=\"dataframe\">\n",
       "  <thead>\n",
       "    <tr style=\"text-align: right;\">\n",
       "      <th></th>\n",
       "      <th>GSM1644447</th>\n",
       "      <th>GSM1644448</th>\n",
       "      <th>GSM1644449</th>\n",
       "      <th>GSM1644450</th>\n",
       "      <th>GSM1644451</th>\n",
       "      <th>GSM1644452</th>\n",
       "      <th>GSM1644453</th>\n",
       "      <th>GSM1644454</th>\n",
       "      <th>GSM1644455</th>\n",
       "      <th>GSM1644456</th>\n",
       "      <th>...</th>\n",
       "      <th>GSM1644579</th>\n",
       "      <th>GSM1644580</th>\n",
       "      <th>GSM1644581</th>\n",
       "      <th>GSM1644582</th>\n",
       "      <th>GSM1644583</th>\n",
       "      <th>GSM1644584</th>\n",
       "      <th>GSM1644585</th>\n",
       "      <th>GSM1644586</th>\n",
       "      <th>GSM1644587</th>\n",
       "      <th>GSM1644588</th>\n",
       "    </tr>\n",
       "    <tr>\n",
       "      <th>ID</th>\n",
       "      <th></th>\n",
       "      <th></th>\n",
       "      <th></th>\n",
       "      <th></th>\n",
       "      <th></th>\n",
       "      <th></th>\n",
       "      <th></th>\n",
       "      <th></th>\n",
       "      <th></th>\n",
       "      <th></th>\n",
       "      <th></th>\n",
       "      <th></th>\n",
       "      <th></th>\n",
       "      <th></th>\n",
       "      <th></th>\n",
       "      <th></th>\n",
       "      <th></th>\n",
       "      <th></th>\n",
       "      <th></th>\n",
       "      <th></th>\n",
       "      <th></th>\n",
       "    </tr>\n",
       "  </thead>\n",
       "  <tbody>\n",
       "    <tr>\n",
       "      <th>7892501</th>\n",
       "      <td>5.62341</td>\n",
       "      <td>4.54841</td>\n",
       "      <td>4.74053</td>\n",
       "      <td>3.06227</td>\n",
       "      <td>3.65178</td>\n",
       "      <td>4.34336</td>\n",
       "      <td>5.36535</td>\n",
       "      <td>3.69126</td>\n",
       "      <td>2.52748</td>\n",
       "      <td>4.45481</td>\n",
       "      <td>...</td>\n",
       "      <td>2.93373</td>\n",
       "      <td>4.78499</td>\n",
       "      <td>2.86791</td>\n",
       "      <td>5.63311</td>\n",
       "      <td>4.38304</td>\n",
       "      <td>3.72055</td>\n",
       "      <td>3.03068</td>\n",
       "      <td>4.61205</td>\n",
       "      <td>5.38301</td>\n",
       "      <td>3.56539</td>\n",
       "    </tr>\n",
       "    <tr>\n",
       "      <th>7892502</th>\n",
       "      <td>5.37542</td>\n",
       "      <td>4.78069</td>\n",
       "      <td>5.70991</td>\n",
       "      <td>5.38193</td>\n",
       "      <td>5.92017</td>\n",
       "      <td>6.09522</td>\n",
       "      <td>5.78167</td>\n",
       "      <td>4.59286</td>\n",
       "      <td>5.16439</td>\n",
       "      <td>5.94071</td>\n",
       "      <td>...</td>\n",
       "      <td>5.68648</td>\n",
       "      <td>5.48387</td>\n",
       "      <td>5.50597</td>\n",
       "      <td>5.27264</td>\n",
       "      <td>6.12783</td>\n",
       "      <td>6.24468</td>\n",
       "      <td>4.73856</td>\n",
       "      <td>5.35777</td>\n",
       "      <td>5.66831</td>\n",
       "      <td>6.07197</td>\n",
       "    </tr>\n",
       "    <tr>\n",
       "      <th>7892503</th>\n",
       "      <td>5.14609</td>\n",
       "      <td>4.74459</td>\n",
       "      <td>5.57936</td>\n",
       "      <td>4.72783</td>\n",
       "      <td>4.83541</td>\n",
       "      <td>5.62107</td>\n",
       "      <td>5.26481</td>\n",
       "      <td>4.34715</td>\n",
       "      <td>3.71148</td>\n",
       "      <td>4.25644</td>\n",
       "      <td>...</td>\n",
       "      <td>5.23848</td>\n",
       "      <td>4.28919</td>\n",
       "      <td>4.21250</td>\n",
       "      <td>4.37036</td>\n",
       "      <td>5.32584</td>\n",
       "      <td>4.36270</td>\n",
       "      <td>5.43636</td>\n",
       "      <td>5.27041</td>\n",
       "      <td>5.41011</td>\n",
       "      <td>6.01511</td>\n",
       "    </tr>\n",
       "    <tr>\n",
       "      <th>7892504</th>\n",
       "      <td>9.50803</td>\n",
       "      <td>9.64513</td>\n",
       "      <td>9.51809</td>\n",
       "      <td>9.20097</td>\n",
       "      <td>9.20887</td>\n",
       "      <td>9.34666</td>\n",
       "      <td>9.15673</td>\n",
       "      <td>10.11560</td>\n",
       "      <td>9.40959</td>\n",
       "      <td>9.49014</td>\n",
       "      <td>...</td>\n",
       "      <td>9.02612</td>\n",
       "      <td>9.15626</td>\n",
       "      <td>9.21809</td>\n",
       "      <td>8.86528</td>\n",
       "      <td>9.47661</td>\n",
       "      <td>10.31210</td>\n",
       "      <td>9.50119</td>\n",
       "      <td>9.54925</td>\n",
       "      <td>9.48669</td>\n",
       "      <td>8.83406</td>\n",
       "    </tr>\n",
       "    <tr>\n",
       "      <th>7892505</th>\n",
       "      <td>3.15360</td>\n",
       "      <td>3.26439</td>\n",
       "      <td>4.35030</td>\n",
       "      <td>2.60544</td>\n",
       "      <td>3.78148</td>\n",
       "      <td>4.04654</td>\n",
       "      <td>5.30473</td>\n",
       "      <td>3.62526</td>\n",
       "      <td>2.82275</td>\n",
       "      <td>2.74823</td>\n",
       "      <td>...</td>\n",
       "      <td>2.64208</td>\n",
       "      <td>2.78818</td>\n",
       "      <td>3.98362</td>\n",
       "      <td>3.54878</td>\n",
       "      <td>2.34695</td>\n",
       "      <td>3.96788</td>\n",
       "      <td>3.31853</td>\n",
       "      <td>2.57307</td>\n",
       "      <td>3.19400</td>\n",
       "      <td>3.01890</td>\n",
       "    </tr>\n",
       "  </tbody>\n",
       "</table>\n",
       "<p>5 rows × 142 columns</p>\n",
       "</div>"
      ],
      "text/plain": [
       "         GSM1644447  GSM1644448  GSM1644449  GSM1644450  GSM1644451  \\\n",
       "ID                                                                    \n",
       "7892501     5.62341     4.54841     4.74053     3.06227     3.65178   \n",
       "7892502     5.37542     4.78069     5.70991     5.38193     5.92017   \n",
       "7892503     5.14609     4.74459     5.57936     4.72783     4.83541   \n",
       "7892504     9.50803     9.64513     9.51809     9.20097     9.20887   \n",
       "7892505     3.15360     3.26439     4.35030     2.60544     3.78148   \n",
       "\n",
       "         GSM1644452  GSM1644453  GSM1644454  GSM1644455  GSM1644456  ...  \\\n",
       "ID                                                                   ...   \n",
       "7892501     4.34336     5.36535     3.69126     2.52748     4.45481  ...   \n",
       "7892502     6.09522     5.78167     4.59286     5.16439     5.94071  ...   \n",
       "7892503     5.62107     5.26481     4.34715     3.71148     4.25644  ...   \n",
       "7892504     9.34666     9.15673    10.11560     9.40959     9.49014  ...   \n",
       "7892505     4.04654     5.30473     3.62526     2.82275     2.74823  ...   \n",
       "\n",
       "         GSM1644579  GSM1644580  GSM1644581  GSM1644582  GSM1644583  \\\n",
       "ID                                                                    \n",
       "7892501     2.93373     4.78499     2.86791     5.63311     4.38304   \n",
       "7892502     5.68648     5.48387     5.50597     5.27264     6.12783   \n",
       "7892503     5.23848     4.28919     4.21250     4.37036     5.32584   \n",
       "7892504     9.02612     9.15626     9.21809     8.86528     9.47661   \n",
       "7892505     2.64208     2.78818     3.98362     3.54878     2.34695   \n",
       "\n",
       "         GSM1644584  GSM1644585  GSM1644586  GSM1644587  GSM1644588  \n",
       "ID                                                                   \n",
       "7892501     3.72055     3.03068     4.61205     5.38301     3.56539  \n",
       "7892502     6.24468     4.73856     5.35777     5.66831     6.07197  \n",
       "7892503     4.36270     5.43636     5.27041     5.41011     6.01511  \n",
       "7892504    10.31210     9.50119     9.54925     9.48669     8.83406  \n",
       "7892505     3.96788     3.31853     2.57307     3.19400     3.01890  \n",
       "\n",
       "[5 rows x 142 columns]"
      ]
     },
     "execution_count": 59,
     "metadata": {},
     "output_type": "execute_result"
    }
   ],
   "source": [
    "genetic_data = get_genetic_data(matrix_file)\n",
    "genetic_data.head()"
   ]
  },
  {
   "cell_type": "code",
   "execution_count": 60,
   "metadata": {
    "ExecuteTime": {
     "end_time": "2024-01-02T01:03:06.250833943Z",
     "start_time": "2024-01-02T01:03:06.246758837Z"
    },
    "collapsed": false
   },
   "outputs": [
    {
     "data": {
      "text/plain": [
       "['7892501',\n",
       " '7892502',\n",
       " '7892503',\n",
       " '7892504',\n",
       " '7892505',\n",
       " '7892506',\n",
       " '7892507',\n",
       " '7892508',\n",
       " '7892509',\n",
       " '7892510',\n",
       " '7892511',\n",
       " '7892512',\n",
       " '7892513',\n",
       " '7892514',\n",
       " '7892515',\n",
       " '7892516',\n",
       " '7892517',\n",
       " '7892518',\n",
       " '7892519',\n",
       " '7892520']"
      ]
     },
     "execution_count": 60,
     "metadata": {},
     "output_type": "execute_result"
    }
   ],
   "source": [
    "gene_row_ids = genetic_data.index[:20].tolist()\n",
    "gene_row_ids"
   ]
  },
  {
   "cell_type": "markdown",
   "metadata": {
    "ExecuteTime": {
     "end_time": "2023-12-31T03:30:41.595335164Z",
     "start_time": "2023-12-31T03:30:41.513232329Z"
    },
    "collapsed": false
   },
   "source": [
    "Check if the gene dataset requires mapping to get the gene symbols corresponding to each data row."
   ]
  },
  {
   "cell_type": "markdown",
   "metadata": {
    "collapsed": false
   },
   "source": [
    "Reference prompt:"
   ]
  },
  {
   "cell_type": "code",
   "execution_count": 61,
   "metadata": {
    "ExecuteTime": {
     "end_time": "2024-01-02T01:03:07.586216481Z",
     "start_time": "2024-01-02T01:03:07.574527035Z"
    },
    "collapsed": false
   },
   "outputs": [
    {
     "data": {
      "text/plain": [
       "\"\\nBelow are the row headers of a gene expression dataset in GEO. Based on your biomedical knowledge, are they human gene symbols, or are they some other identifiers that need to be mapped to gene symbols? Your answer should be concluded by starting a new line and strictly following this format:\\nrequires_gene_mapping = (True or False)\\n\\nRow headers:\\n['7892501', '7892502', '7892503', '7892504', '7892505', '7892506', '7892507', '7892508', '7892509', '7892510', '7892511', '7892512', '7892513', '7892514', '7892515', '7892516', '7892517', '7892518', '7892519', '7892520']\\n\""
      ]
     },
     "execution_count": 61,
     "metadata": {},
     "output_type": "execute_result"
    }
   ],
   "source": [
    "f'''\n",
    "Below are the row headers of a gene expression dataset in GEO. Based on your biomedical knowledge, are they human gene symbols, or are they some other identifiers that need to be mapped to gene symbols? Your answer should be concluded by starting a new line and strictly following this format:\n",
    "requires_gene_mapping = (True or False)\n",
    "\n",
    "Row headers:\n",
    "{gene_row_ids}\n",
    "'''"
   ]
  },
  {
   "cell_type": "markdown",
   "metadata": {
    "collapsed": false
   },
   "source": [
    "If not required, jump directly to the gene normalization step"
   ]
  },
  {
   "cell_type": "code",
   "execution_count": 62,
   "metadata": {
    "ExecuteTime": {
     "end_time": "2024-01-02T01:03:08.263712538Z",
     "start_time": "2024-01-02T01:03:08.260656314Z"
    },
    "collapsed": false
   },
   "outputs": [],
   "source": [
    "requires_gene_mapping = True"
   ]
  },
  {
   "cell_type": "code",
   "execution_count": 63,
   "metadata": {
    "ExecuteTime": {
     "end_time": "2024-01-02T01:03:33.822550310Z",
     "start_time": "2024-01-02T01:03:08.648958912Z"
    },
    "collapsed": false
   },
   "outputs": [
    {
     "name": "stdout",
     "output_type": "stream",
     "text": [
      "{'ID': ['7896736', '7896738', '7896740', '7896742', '7896744'], 'GB_LIST': [nan, nan, 'NM_001005240,NM_001004195,NM_001005484,BC136848,BC136907', 'BC118988,AL137655', 'NM_001005277,NM_001005221,NM_001005224,NM_001005504,BC137547'], 'SPOT_ID': ['chr1:53049-54936', 'chr1:63015-63887', 'chr1:69091-70008', 'chr1:334129-334296', 'chr1:367659-368597'], 'seqname': ['chr1', 'chr1', 'chr1', 'chr1', 'chr1'], 'RANGE_GB': ['NC_000001.10', 'NC_000001.10', 'NC_000001.10', 'NC_000001.10', 'NC_000001.10'], 'RANGE_STRAND': ['+', '+', '+', '+', '+'], 'RANGE_START': [53049.0, 63015.0, 69091.0, 334129.0, 367659.0], 'RANGE_STOP': [54936.0, 63887.0, 70008.0, 334296.0, 368597.0], 'total_probes': [7.0, 31.0, 24.0, 6.0, 36.0], 'gene_assignment': ['---', '---', 'NM_001005240 // OR4F17 // olfactory receptor, family 4, subfamily F, member 17 // 19p13.3 // 81099 /// NM_001004195 // OR4F4 // olfactory receptor, family 4, subfamily F, member 4 // 15q26.3 // 26682 /// NM_001005484 // OR4F5 // olfactory receptor, family 4, subfamily F, member 5 // 1p36.33 // 79501 /// ENST00000318050 // OR4F17 // olfactory receptor, family 4, subfamily F, member 17 // 19p13.3 // 81099 /// ENST00000335137 // OR4F4 // olfactory receptor, family 4, subfamily F, member 4 // 15q26.3 // 26682 /// ENST00000326183 // OR4F5 // olfactory receptor, family 4, subfamily F, member 5 // 1p36.33 // 79501 /// BC136848 // OR4F17 // olfactory receptor, family 4, subfamily F, member 17 // 19p13.3 // 81099 /// BC136907 // OR4F4 // olfactory receptor, family 4, subfamily F, member 4 // 15q26.3 // 26682 /// ENST00000442916 // OR4F17 // olfactory receptor, family 4, subfamily F, member 17 // 19p13.3 // 81099', 'ENST00000388975 // SEPT14 // septin 14 // 7p11.2 // 346288 /// BC118988 // NCRNA00266 // non-protein coding RNA 266 // --- // 140849 /// AL137655 // LOC100134822 // similar to hCG1739109 // --- // 100134822', 'NM_001005277 // OR4F16 // olfactory receptor, family 4, subfamily F, member 16 // 1p36.33 // 81399 /// NM_001005221 // OR4F29 // olfactory receptor, family 4, subfamily F, member 29 // 1p36.33 // 729759 /// NM_001005224 // OR4F3 // olfactory receptor, family 4, subfamily F, member 3 // 5q35.3 // 26683 /// NM_001005504 // OR4F21 // olfactory receptor, family 4, subfamily F, member 21 // 8p23.3 // 441308 /// ENST00000320901 // OR4F21 // olfactory receptor, family 4, subfamily F, member 21 // 8p23.3 // 441308 /// BC137547 // OR4F3 // olfactory receptor, family 4, subfamily F, member 3 // 5q35.3 // 26683 /// BC137547 // OR4F16 // olfactory receptor, family 4, subfamily F, member 16 // 1p36.33 // 81399 /// BC137547 // OR4F29 // olfactory receptor, family 4, subfamily F, member 29 // 1p36.33 // 729759'], 'mrna_assignment': ['---', 'ENST00000328113 // ENSEMBL // cdna:pseudogene chromosome:GRCh37:15:102467008:102467910:-1 gene:ENSG00000183909 // chr1 // 100 // 100 // 31 // 31 // 0 /// ENST00000318181 // ENSEMBL // cdna:pseudogene chromosome:GRCh37:19:104601:105256:1 gene:ENSG00000176705 // chr1 // 100 // 100 // 31 // 31 // 0 /// ENST00000492842 // ENSEMBL // cdna:pseudogene chromosome:GRCh37:1:62948:63887:1 gene:ENSG00000240361 // chr1 // 100 // 100 // 31 // 31 // 0', 'NM_001005240 // RefSeq // Homo sapiens olfactory receptor, family 4, subfamily F, member 17 (OR4F17), mRNA. // chr1 // 100 // 100 // 24 // 24 // 0 /// NM_001004195 // RefSeq // Homo sapiens olfactory receptor, family 4, subfamily F, member 4 (OR4F4), mRNA. // chr1 // 100 // 100 // 24 // 24 // 0 /// NM_001005484 // RefSeq // Homo sapiens olfactory receptor, family 4, subfamily F, member 5 (OR4F5), mRNA. // chr1 // 100 // 100 // 24 // 24 // 0 /// ENST00000318050 // ENSEMBL // Olfactory receptor 4F17 gene:ENSG00000176695 // chr1 // 100 // 100 // 24 // 24 // 0 /// ENST00000335137 // ENSEMBL // Olfactory receptor 4F4 gene:ENSG00000186092 // chr1 // 100 // 100 // 24 // 24 // 0 /// ENST00000326183 // ENSEMBL // Olfactory receptor 4F5 gene:ENSG00000177693 // chr1 // 100 // 100 // 24 // 24 // 0 /// BC136848 // GenBank // Homo sapiens olfactory receptor, family 4, subfamily F, member 17, mRNA (cDNA clone MGC:168462 IMAGE:9020839), complete cds. // chr1 // 100 // 100 // 24 // 24 // 0 /// BC136907 // GenBank // Homo sapiens olfactory receptor, family 4, subfamily F, member 4, mRNA (cDNA clone MGC:168521 IMAGE:9020898), complete cds. // chr1 // 100 // 100 // 24 // 24 // 0 /// ENST00000442916 // ENSEMBL // OR4F4 (Fragment) gene:ENSG00000176695 // chr1 // 100 // 88 // 21 // 21 // 0', 'ENST00000388975 // ENSEMBL // Septin-14 gene:ENSG00000154997 // chr1 // 50 // 100 // 3 // 6 // 0 /// BC118988 // GenBank // Homo sapiens chromosome 20 open reading frame 69, mRNA (cDNA clone MGC:141807 IMAGE:40035995), complete cds. // chr1 // 100 // 100 // 6 // 6 // 0 /// AL137655 // GenBank // Homo sapiens mRNA; cDNA DKFZp434B2016 (from clone DKFZp434B2016). // chr1 // 100 // 100 // 6 // 6 // 0 /// ENST00000428915 // ENSEMBL // cdna:known chromosome:GRCh37:10:38742109:38755311:1 gene:ENSG00000203496 // chr1 // 100 // 100 // 6 // 6 // 0 /// ENST00000455207 // ENSEMBL // cdna:known chromosome:GRCh37:1:334129:446155:1 gene:ENSG00000224813 // chr1 // 100 // 100 // 6 // 6 // 0 /// ENST00000455464 // ENSEMBL // cdna:known chromosome:GRCh37:1:334140:342806:1 gene:ENSG00000224813 // chr1 // 100 // 100 // 6 // 6 // 0 /// ENST00000440200 // ENSEMBL // cdna:known chromosome:GRCh37:1:536816:655580:-1 gene:ENSG00000230021 // chr1 // 100 // 100 // 6 // 6 // 0 /// ENST00000279067 // ENSEMBL // cdna:known chromosome:GRCh37:20:62921738:62934912:1 gene:ENSG00000149656 // chr1 // 100 // 100 // 6 // 6 // 0 /// ENST00000499986 // ENSEMBL // cdna:known chromosome:GRCh37:5:180717576:180761371:1 gene:ENSG00000248628 // chr1 // 100 // 100 // 6 // 6 // 0 /// ENST00000436899 // ENSEMBL // cdna:known chromosome:GRCh37:6:131910:144885:-1 gene:ENSG00000170590 // chr1 // 100 // 100 // 6 // 6 // 0 /// ENST00000432557 // ENSEMBL // cdna:known chromosome:GRCh37:8:132324:150572:-1 gene:ENSG00000250210 // chr1 // 100 // 100 // 6 // 6 // 0 /// ENST00000523795 // ENSEMBL // cdna:known chromosome:GRCh37:8:141690:150563:-1 gene:ENSG00000250210 // chr1 // 100 // 100 // 6 // 6 // 0 /// ENST00000490482 // ENSEMBL // cdna:known chromosome:GRCh37:8:149942:163324:-1 gene:ENSG00000223508 // chr1 // 100 // 100 // 6 // 6 // 0 /// ENST00000307499 // ENSEMBL // cdna:known supercontig::GL000227.1:57780:70752:-1 gene:ENSG00000229450 // chr1 // 100 // 100 // 6 // 6 // 0 /// ENST00000441245 // ENSEMBL // cdna:known chromosome:GRCh37:1:637316:655530:-1 gene:ENSG00000230021 // chr1 // 100 // 67 // 4 // 4 // 0 /// ENST00000425473 // ENSEMBL // cdna:known chromosome:GRCh37:20:62926294:62944485:1 gene:ENSG00000149656 // chr1 // 100 // 67 // 4 // 4 // 0 /// ENST00000471248 // ENSEMBL // cdna:known chromosome:GRCh37:1:110953:129173:-1 gene:ENSG00000238009 // chr1 // 75 // 67 // 3 // 4 // 0', 'NM_001005277 // RefSeq // Homo sapiens olfactory receptor, family 4, subfamily F, member 16 (OR4F16), mRNA. // chr1 // 100 // 100 // 36 // 36 // 0 /// NM_001005221 // RefSeq // Homo sapiens olfactory receptor, family 4, subfamily F, member 29 (OR4F29), mRNA. // chr1 // 100 // 100 // 36 // 36 // 0 /// NM_001005224 // RefSeq // Homo sapiens olfactory receptor, family 4, subfamily F, member 3 (OR4F3), mRNA. // chr1 // 100 // 100 // 36 // 36 // 0 /// NM_001005504 // RefSeq // Homo sapiens olfactory receptor, family 4, subfamily F, member 21 (OR4F21), mRNA. // chr1 // 89 // 100 // 32 // 36 // 0 /// ENST00000320901 // ENSEMBL // Olfactory receptor 4F21 gene:ENSG00000176269 // chr1 // 89 // 100 // 32 // 36 // 0 /// BC137547 // GenBank // Homo sapiens olfactory receptor, family 4, subfamily F, member 3, mRNA (cDNA clone MGC:169170 IMAGE:9021547), complete cds. // chr1 // 100 // 100 // 36 // 36 // 0 /// ENST00000426406 // ENSEMBL // cdna:known chromosome:GRCh37:1:367640:368634:1 gene:ENSG00000235249 // chr1 // 100 // 100 // 36 // 36 // 0 /// ENST00000332831 // ENSEMBL // cdna:known chromosome:GRCh37:1:621096:622034:-1 gene:ENSG00000185097 // chr1 // 100 // 100 // 36 // 36 // 0 /// ENST00000456475 // ENSEMBL // cdna:known chromosome:GRCh37:5:180794269:180795263:1 gene:ENSG00000230178 // chr1 // 100 // 100 // 36 // 36 // 0 /// ENST00000521196 // ENSEMBL // cdna:known chromosome:GRCh37:11:86612:87605:-1 gene:ENSG00000224777 // chr1 // 78 // 100 // 28 // 36 // 0'], 'category': ['---', 'main', 'main', 'main', 'main']}\n"
     ]
    }
   ],
   "source": [
    "if requires_gene_mapping:\n",
    "    gene_annotation = get_gene_annotation(soft_file)\n",
    "    gene_annotation_summary = preview_df(gene_annotation)\n",
    "    print(gene_annotation_summary)"
   ]
  },
  {
   "cell_type": "markdown",
   "metadata": {
    "ExecuteTime": {
     "end_time": "2023-12-31T03:58:04.978931927Z",
     "start_time": "2023-12-31T03:58:04.966328339Z"
    },
    "collapsed": false
   },
   "source": [
    "Observe the first few cells in the ID column of the gene annotation dataframe, to find the names of columns that store the gene probe IDs and gene symbols respectively.\n",
    "Reference prompt:"
   ]
  },
  {
   "cell_type": "code",
   "execution_count": 64,
   "metadata": {
    "ExecuteTime": {
     "end_time": "2024-01-02T01:03:33.822912446Z",
     "start_time": "2024-01-02T01:03:33.804491826Z"
    },
    "collapsed": false
   },
   "outputs": [
    {
     "name": "stdout",
     "output_type": "stream",
     "text": [
      "\n",
      "    As a biomedical research team, we extracted the gene annotation data from a series in the GEO database, and saved it to a Python dictionary. Please read the dictionary, and decide which key stores the ID of the probe, and which key stores the gene symbols. Please strict follow this format in your answer:\n",
      "    probe_name_key = 'key_name1'\n",
      "    gene_name_key = 'key_name2'\n",
      "\n",
      "    Gene annotation dictionary:\n",
      "    {'ID': ['7896736', '7896738', '7896740', '7896742', '7896744'], 'GB_LIST': [nan, nan, 'NM_001005240,NM_001004195,NM_001005484,BC136848,BC136907', 'BC118988,AL137655', 'NM_001005277,NM_001005221,NM_001005224,NM_001005504,BC137547'], 'SPOT_ID': ['chr1:53049-54936', 'chr1:63015-63887', 'chr1:69091-70008', 'chr1:334129-334296', 'chr1:367659-368597'], 'seqname': ['chr1', 'chr1', 'chr1', 'chr1', 'chr1'], 'RANGE_GB': ['NC_000001.10', 'NC_000001.10', 'NC_000001.10', 'NC_000001.10', 'NC_000001.10'], 'RANGE_STRAND': ['+', '+', '+', '+', '+'], 'RANGE_START': [53049.0, 63015.0, 69091.0, 334129.0, 367659.0], 'RANGE_STOP': [54936.0, 63887.0, 70008.0, 334296.0, 368597.0], 'total_probes': [7.0, 31.0, 24.0, 6.0, 36.0], 'gene_assignment': ['---', '---', 'NM_001005240 // OR4F17 // olfactory receptor, family 4, subfamily F, member 17 // 19p13.3 // 81099 /// NM_001004195 // OR4F4 // olfactory receptor, family 4, subfamily F, member 4 // 15q26.3 // 26682 /// NM_001005484 // OR4F5 // olfactory receptor, family 4, subfamily F, member 5 // 1p36.33 // 79501 /// ENST00000318050 // OR4F17 // olfactory receptor, family 4, subfamily F, member 17 // 19p13.3 // 81099 /// ENST00000335137 // OR4F4 // olfactory receptor, family 4, subfamily F, member 4 // 15q26.3 // 26682 /// ENST00000326183 // OR4F5 // olfactory receptor, family 4, subfamily F, member 5 // 1p36.33 // 79501 /// BC136848 // OR4F17 // olfactory receptor, family 4, subfamily F, member 17 // 19p13.3 // 81099 /// BC136907 // OR4F4 // olfactory receptor, family 4, subfamily F, member 4 // 15q26.3 // 26682 /// ENST00000442916 // OR4F17 // olfactory receptor, family 4, subfamily F, member 17 // 19p13.3 // 81099', 'ENST00000388975 // SEPT14 // septin 14 // 7p11.2 // 346288 /// BC118988 // NCRNA00266 // non-protein coding RNA 266 // --- // 140849 /// AL137655 // LOC100134822 // similar to hCG1739109 // --- // 100134822', 'NM_001005277 // OR4F16 // olfactory receptor, family 4, subfamily F, member 16 // 1p36.33 // 81399 /// NM_001005221 // OR4F29 // olfactory receptor, family 4, subfamily F, member 29 // 1p36.33 // 729759 /// NM_001005224 // OR4F3 // olfactory receptor, family 4, subfamily F, member 3 // 5q35.3 // 26683 /// NM_001005504 // OR4F21 // olfactory receptor, family 4, subfamily F, member 21 // 8p23.3 // 441308 /// ENST00000320901 // OR4F21 // olfactory receptor, family 4, subfamily F, member 21 // 8p23.3 // 441308 /// BC137547 // OR4F3 // olfactory receptor, family 4, subfamily F, member 3 // 5q35.3 // 26683 /// BC137547 // OR4F16 // olfactory receptor, family 4, subfamily F, member 16 // 1p36.33 // 81399 /// BC137547 // OR4F29 // olfactory receptor, family 4, subfamily F, member 29 // 1p36.33 // 729759'], 'mrna_assignment': ['---', 'ENST00000328113 // ENSEMBL // cdna:pseudogene chromosome:GRCh37:15:102467008:102467910:-1 gene:ENSG00000183909 // chr1 // 100 // 100 // 31 // 31 // 0 /// ENST00000318181 // ENSEMBL // cdna:pseudogene chromosome:GRCh37:19:104601:105256:1 gene:ENSG00000176705 // chr1 // 100 // 100 // 31 // 31 // 0 /// ENST00000492842 // ENSEMBL // cdna:pseudogene chromosome:GRCh37:1:62948:63887:1 gene:ENSG00000240361 // chr1 // 100 // 100 // 31 // 31 // 0', 'NM_001005240 // RefSeq // Homo sapiens olfactory receptor, family 4, subfamily F, member 17 (OR4F17), mRNA. // chr1 // 100 // 100 // 24 // 24 // 0 /// NM_001004195 // RefSeq // Homo sapiens olfactory receptor, family 4, subfamily F, member 4 (OR4F4), mRNA. // chr1 // 100 // 100 // 24 // 24 // 0 /// NM_001005484 // RefSeq // Homo sapiens olfactory receptor, family 4, subfamily F, member 5 (OR4F5), mRNA. // chr1 // 100 // 100 // 24 // 24 // 0 /// ENST00000318050 // ENSEMBL // Olfactory receptor 4F17 gene:ENSG00000176695 // chr1 // 100 // 100 // 24 // 24 // 0 /// ENST00000335137 // ENSEMBL // Olfactory receptor 4F4 gene:ENSG00000186092 // chr1 // 100 // 100 // 24 // 24 // 0 /// ENST00000326183 // ENSEMBL // Olfactory receptor 4F5 gene:ENSG00000177693 // chr1 // 100 // 100 // 24 // 24 // 0 /// BC136848 // GenBank // Homo sapiens olfactory receptor, family 4, subfamily F, member 17, mRNA (cDNA clone MGC:168462 IMAGE:9020839), complete cds. // chr1 // 100 // 100 // 24 // 24 // 0 /// BC136907 // GenBank // Homo sapiens olfactory receptor, family 4, subfamily F, member 4, mRNA (cDNA clone MGC:168521 IMAGE:9020898), complete cds. // chr1 // 100 // 100 // 24 // 24 // 0 /// ENST00000442916 // ENSEMBL // OR4F4 (Fragment) gene:ENSG00000176695 // chr1 // 100 // 88 // 21 // 21 // 0', 'ENST00000388975 // ENSEMBL // Septin-14 gene:ENSG00000154997 // chr1 // 50 // 100 // 3 // 6 // 0 /// BC118988 // GenBank // Homo sapiens chromosome 20 open reading frame 69, mRNA (cDNA clone MGC:141807 IMAGE:40035995), complete cds. // chr1 // 100 // 100 // 6 // 6 // 0 /// AL137655 // GenBank // Homo sapiens mRNA; cDNA DKFZp434B2016 (from clone DKFZp434B2016). // chr1 // 100 // 100 // 6 // 6 // 0 /// ENST00000428915 // ENSEMBL // cdna:known chromosome:GRCh37:10:38742109:38755311:1 gene:ENSG00000203496 // chr1 // 100 // 100 // 6 // 6 // 0 /// ENST00000455207 // ENSEMBL // cdna:known chromosome:GRCh37:1:334129:446155:1 gene:ENSG00000224813 // chr1 // 100 // 100 // 6 // 6 // 0 /// ENST00000455464 // ENSEMBL // cdna:known chromosome:GRCh37:1:334140:342806:1 gene:ENSG00000224813 // chr1 // 100 // 100 // 6 // 6 // 0 /// ENST00000440200 // ENSEMBL // cdna:known chromosome:GRCh37:1:536816:655580:-1 gene:ENSG00000230021 // chr1 // 100 // 100 // 6 // 6 // 0 /// ENST00000279067 // ENSEMBL // cdna:known chromosome:GRCh37:20:62921738:62934912:1 gene:ENSG00000149656 // chr1 // 100 // 100 // 6 // 6 // 0 /// ENST00000499986 // ENSEMBL // cdna:known chromosome:GRCh37:5:180717576:180761371:1 gene:ENSG00000248628 // chr1 // 100 // 100 // 6 // 6 // 0 /// ENST00000436899 // ENSEMBL // cdna:known chromosome:GRCh37:6:131910:144885:-1 gene:ENSG00000170590 // chr1 // 100 // 100 // 6 // 6 // 0 /// ENST00000432557 // ENSEMBL // cdna:known chromosome:GRCh37:8:132324:150572:-1 gene:ENSG00000250210 // chr1 // 100 // 100 // 6 // 6 // 0 /// ENST00000523795 // ENSEMBL // cdna:known chromosome:GRCh37:8:141690:150563:-1 gene:ENSG00000250210 // chr1 // 100 // 100 // 6 // 6 // 0 /// ENST00000490482 // ENSEMBL // cdna:known chromosome:GRCh37:8:149942:163324:-1 gene:ENSG00000223508 // chr1 // 100 // 100 // 6 // 6 // 0 /// ENST00000307499 // ENSEMBL // cdna:known supercontig::GL000227.1:57780:70752:-1 gene:ENSG00000229450 // chr1 // 100 // 100 // 6 // 6 // 0 /// ENST00000441245 // ENSEMBL // cdna:known chromosome:GRCh37:1:637316:655530:-1 gene:ENSG00000230021 // chr1 // 100 // 67 // 4 // 4 // 0 /// ENST00000425473 // ENSEMBL // cdna:known chromosome:GRCh37:20:62926294:62944485:1 gene:ENSG00000149656 // chr1 // 100 // 67 // 4 // 4 // 0 /// ENST00000471248 // ENSEMBL // cdna:known chromosome:GRCh37:1:110953:129173:-1 gene:ENSG00000238009 // chr1 // 75 // 67 // 3 // 4 // 0', 'NM_001005277 // RefSeq // Homo sapiens olfactory receptor, family 4, subfamily F, member 16 (OR4F16), mRNA. // chr1 // 100 // 100 // 36 // 36 // 0 /// NM_001005221 // RefSeq // Homo sapiens olfactory receptor, family 4, subfamily F, member 29 (OR4F29), mRNA. // chr1 // 100 // 100 // 36 // 36 // 0 /// NM_001005224 // RefSeq // Homo sapiens olfactory receptor, family 4, subfamily F, member 3 (OR4F3), mRNA. // chr1 // 100 // 100 // 36 // 36 // 0 /// NM_001005504 // RefSeq // Homo sapiens olfactory receptor, family 4, subfamily F, member 21 (OR4F21), mRNA. // chr1 // 89 // 100 // 32 // 36 // 0 /// ENST00000320901 // ENSEMBL // Olfactory receptor 4F21 gene:ENSG00000176269 // chr1 // 89 // 100 // 32 // 36 // 0 /// BC137547 // GenBank // Homo sapiens olfactory receptor, family 4, subfamily F, member 3, mRNA (cDNA clone MGC:169170 IMAGE:9021547), complete cds. // chr1 // 100 // 100 // 36 // 36 // 0 /// ENST00000426406 // ENSEMBL // cdna:known chromosome:GRCh37:1:367640:368634:1 gene:ENSG00000235249 // chr1 // 100 // 100 // 36 // 36 // 0 /// ENST00000332831 // ENSEMBL // cdna:known chromosome:GRCh37:1:621096:622034:-1 gene:ENSG00000185097 // chr1 // 100 // 100 // 36 // 36 // 0 /// ENST00000456475 // ENSEMBL // cdna:known chromosome:GRCh37:5:180794269:180795263:1 gene:ENSG00000230178 // chr1 // 100 // 100 // 36 // 36 // 0 /// ENST00000521196 // ENSEMBL // cdna:known chromosome:GRCh37:11:86612:87605:-1 gene:ENSG00000224777 // chr1 // 78 // 100 // 28 // 36 // 0'], 'category': ['---', 'main', 'main', 'main', 'main']}\n",
      "    \n"
     ]
    }
   ],
   "source": [
    "if requires_gene_mapping:\n",
    "    print(f'''\n",
    "    As a biomedical research team, we extracted the gene annotation data from a series in the GEO database, and saved it to a Python dictionary. Please read the dictionary, and decide which key stores the ID of the probe, and which key stores the gene symbols. Please strict follow this format in your answer:\n",
    "    probe_name_key = 'key_name1'\n",
    "    gene_name_key = 'key_name2'\n",
    "\n",
    "    Gene annotation dictionary:\n",
    "    {gene_annotation_summary}\n",
    "    ''')"
   ]
  },
  {
   "cell_type": "code",
   "execution_count": 66,
   "metadata": {
    "ExecuteTime": {
     "end_time": "2024-01-02T01:03:35.113359369Z",
     "start_time": "2024-01-02T01:03:33.804666371Z"
    },
    "collapsed": false
   },
   "outputs": [],
   "source": [
    "if requires_gene_mapping:\n",
    "    probe_id_key = 'ID'\n",
    "    gene_symb_key = 'gene_assignment'\n",
    "    gene_mapping = get_gene_mapping(gene_annotation, probe_id_key, gene_symb_key)\n",
    "    genetic_data = apply_gene_mapping(genetic_data, gene_mapping)"
   ]
  },
  {
   "cell_type": "code",
   "execution_count": 67,
   "metadata": {
    "ExecuteTime": {
     "end_time": "2024-01-02T01:03:35.156584675Z",
     "start_time": "2024-01-02T01:03:35.114652593Z"
    },
    "collapsed": false
   },
   "outputs": [],
   "source": [
    "if NORMALIZE_GENE:\n",
    "    genetic_data = normalize_gene_symbols_in_index(genetic_data)"
   ]
  },
  {
   "cell_type": "code",
   "execution_count": 68,
   "metadata": {
    "ExecuteTime": {
     "end_time": "2024-01-02T01:03:35.158174021Z",
     "start_time": "2024-01-02T01:03:35.156777134Z"
    },
    "collapsed": false
   },
   "outputs": [],
   "source": [
    "merged_data = geo_merge_clinical_genetic_data(selected_clinical_data, genetic_data)\n",
    "# The preprocessing runs through, which means is_available should be True\n",
    "is_available = True"
   ]
  },
  {
   "cell_type": "code",
   "execution_count": 69,
   "metadata": {
    "ExecuteTime": {
     "end_time": "2024-01-02T01:03:35.158378853Z",
     "start_time": "2024-01-02T01:03:35.156895194Z"
    },
    "collapsed": false
   },
   "outputs": [
    {
     "name": "stdout",
     "output_type": "stream",
     "text": [
      "The merged dataset contains 142 samples.\n"
     ]
    },
    {
     "data": {
      "text/html": [
       "<div>\n",
       "<style scoped>\n",
       "    .dataframe tbody tr th:only-of-type {\n",
       "        vertical-align: middle;\n",
       "    }\n",
       "\n",
       "    .dataframe tbody tr th {\n",
       "        vertical-align: top;\n",
       "    }\n",
       "\n",
       "    .dataframe thead th {\n",
       "        text-align: right;\n",
       "    }\n",
       "</style>\n",
       "<table border=\"1\" class=\"dataframe\">\n",
       "  <thead>\n",
       "    <tr style=\"text-align: right;\">\n",
       "      <th></th>\n",
       "      <th>Chronic-Fatigue-Syndrome</th>\n",
       "      <th>C7</th>\n",
       "      <th>CA14</th>\n",
       "      <th>CD79A</th>\n",
       "      <th>EOS</th>\n",
       "      <th>FUSE</th>\n",
       "      <th>FAS</th>\n",
       "      <th>PARN</th>\n",
       "      <th>PTPRF</th>\n",
       "      <th>RCC1</th>\n",
       "      <th>TBP</th>\n",
       "      <th>TPR</th>\n",
       "      <th>U1</th>\n",
       "      <th>UBE3A</th>\n",
       "      <th>EPPIN</th>\n",
       "      <th>GLA</th>\n",
       "      <th>HASPIN</th>\n",
       "      <th>SP1</th>\n",
       "      <th>TESMIN</th>\n",
       "    </tr>\n",
       "  </thead>\n",
       "  <tbody>\n",
       "    <tr>\n",
       "      <th>GSM1644447</th>\n",
       "      <td>0.0</td>\n",
       "      <td>4.57083</td>\n",
       "      <td>3.97740</td>\n",
       "      <td>7.624507</td>\n",
       "      <td>6.31147</td>\n",
       "      <td>8.834907</td>\n",
       "      <td>5.19227</td>\n",
       "      <td>4.10652</td>\n",
       "      <td>5.445881</td>\n",
       "      <td>8.144465</td>\n",
       "      <td>7.002813</td>\n",
       "      <td>8.472690</td>\n",
       "      <td>8.37762</td>\n",
       "      <td>8.82759</td>\n",
       "      <td>4.038118</td>\n",
       "      <td>6.71220</td>\n",
       "      <td>4.74224</td>\n",
       "      <td>7.840035</td>\n",
       "      <td>5.45890</td>\n",
       "    </tr>\n",
       "    <tr>\n",
       "      <th>GSM1644448</th>\n",
       "      <td>0.0</td>\n",
       "      <td>4.44980</td>\n",
       "      <td>4.12215</td>\n",
       "      <td>7.159343</td>\n",
       "      <td>6.45200</td>\n",
       "      <td>8.770260</td>\n",
       "      <td>5.28869</td>\n",
       "      <td>4.47094</td>\n",
       "      <td>5.564544</td>\n",
       "      <td>8.450075</td>\n",
       "      <td>6.850624</td>\n",
       "      <td>8.204035</td>\n",
       "      <td>8.54458</td>\n",
       "      <td>9.05710</td>\n",
       "      <td>4.015955</td>\n",
       "      <td>6.96979</td>\n",
       "      <td>4.56926</td>\n",
       "      <td>8.086289</td>\n",
       "      <td>5.30916</td>\n",
       "    </tr>\n",
       "    <tr>\n",
       "      <th>GSM1644449</th>\n",
       "      <td>0.0</td>\n",
       "      <td>4.63459</td>\n",
       "      <td>4.08301</td>\n",
       "      <td>7.274733</td>\n",
       "      <td>6.75592</td>\n",
       "      <td>8.967027</td>\n",
       "      <td>5.46280</td>\n",
       "      <td>4.30655</td>\n",
       "      <td>5.404842</td>\n",
       "      <td>8.549557</td>\n",
       "      <td>6.878068</td>\n",
       "      <td>8.183720</td>\n",
       "      <td>8.56057</td>\n",
       "      <td>9.21091</td>\n",
       "      <td>4.243238</td>\n",
       "      <td>6.54337</td>\n",
       "      <td>4.74863</td>\n",
       "      <td>7.964869</td>\n",
       "      <td>5.68128</td>\n",
       "    </tr>\n",
       "    <tr>\n",
       "      <th>GSM1644450</th>\n",
       "      <td>0.0</td>\n",
       "      <td>4.35288</td>\n",
       "      <td>4.70939</td>\n",
       "      <td>7.324977</td>\n",
       "      <td>6.76477</td>\n",
       "      <td>8.855590</td>\n",
       "      <td>4.74321</td>\n",
       "      <td>4.44848</td>\n",
       "      <td>5.570248</td>\n",
       "      <td>8.521710</td>\n",
       "      <td>6.717619</td>\n",
       "      <td>8.251675</td>\n",
       "      <td>8.25392</td>\n",
       "      <td>8.96618</td>\n",
       "      <td>4.436203</td>\n",
       "      <td>6.92601</td>\n",
       "      <td>4.76971</td>\n",
       "      <td>8.209112</td>\n",
       "      <td>5.49133</td>\n",
       "    </tr>\n",
       "    <tr>\n",
       "      <th>GSM1644451</th>\n",
       "      <td>0.0</td>\n",
       "      <td>4.71978</td>\n",
       "      <td>4.95712</td>\n",
       "      <td>7.016447</td>\n",
       "      <td>6.66918</td>\n",
       "      <td>9.046603</td>\n",
       "      <td>5.65581</td>\n",
       "      <td>4.54684</td>\n",
       "      <td>5.451766</td>\n",
       "      <td>8.468917</td>\n",
       "      <td>6.874385</td>\n",
       "      <td>8.234940</td>\n",
       "      <td>8.59143</td>\n",
       "      <td>9.14027</td>\n",
       "      <td>4.082275</td>\n",
       "      <td>6.88906</td>\n",
       "      <td>4.94568</td>\n",
       "      <td>8.107431</td>\n",
       "      <td>5.51877</td>\n",
       "    </tr>\n",
       "    <tr>\n",
       "      <th>...</th>\n",
       "      <td>...</td>\n",
       "      <td>...</td>\n",
       "      <td>...</td>\n",
       "      <td>...</td>\n",
       "      <td>...</td>\n",
       "      <td>...</td>\n",
       "      <td>...</td>\n",
       "      <td>...</td>\n",
       "      <td>...</td>\n",
       "      <td>...</td>\n",
       "      <td>...</td>\n",
       "      <td>...</td>\n",
       "      <td>...</td>\n",
       "      <td>...</td>\n",
       "      <td>...</td>\n",
       "      <td>...</td>\n",
       "      <td>...</td>\n",
       "      <td>...</td>\n",
       "      <td>...</td>\n",
       "    </tr>\n",
       "    <tr>\n",
       "      <th>GSM1644584</th>\n",
       "      <td>0.0</td>\n",
       "      <td>4.88470</td>\n",
       "      <td>4.40520</td>\n",
       "      <td>6.900327</td>\n",
       "      <td>5.99165</td>\n",
       "      <td>9.253453</td>\n",
       "      <td>5.50456</td>\n",
       "      <td>4.95950</td>\n",
       "      <td>5.608976</td>\n",
       "      <td>8.422573</td>\n",
       "      <td>7.027183</td>\n",
       "      <td>8.090215</td>\n",
       "      <td>8.83920</td>\n",
       "      <td>9.44755</td>\n",
       "      <td>4.172465</td>\n",
       "      <td>6.63166</td>\n",
       "      <td>4.74474</td>\n",
       "      <td>7.759914</td>\n",
       "      <td>5.60442</td>\n",
       "    </tr>\n",
       "    <tr>\n",
       "      <th>GSM1644585</th>\n",
       "      <td>0.0</td>\n",
       "      <td>4.45642</td>\n",
       "      <td>4.39358</td>\n",
       "      <td>7.115423</td>\n",
       "      <td>6.36993</td>\n",
       "      <td>9.167267</td>\n",
       "      <td>5.80253</td>\n",
       "      <td>5.26942</td>\n",
       "      <td>5.500210</td>\n",
       "      <td>8.589145</td>\n",
       "      <td>7.044510</td>\n",
       "      <td>8.309740</td>\n",
       "      <td>8.78020</td>\n",
       "      <td>8.50899</td>\n",
       "      <td>4.075470</td>\n",
       "      <td>6.39332</td>\n",
       "      <td>5.08563</td>\n",
       "      <td>7.896002</td>\n",
       "      <td>5.02792</td>\n",
       "    </tr>\n",
       "    <tr>\n",
       "      <th>GSM1644586</th>\n",
       "      <td>0.0</td>\n",
       "      <td>4.51313</td>\n",
       "      <td>4.48533</td>\n",
       "      <td>7.508717</td>\n",
       "      <td>6.62544</td>\n",
       "      <td>8.841087</td>\n",
       "      <td>5.68349</td>\n",
       "      <td>4.35930</td>\n",
       "      <td>5.554889</td>\n",
       "      <td>8.550867</td>\n",
       "      <td>6.835286</td>\n",
       "      <td>8.191125</td>\n",
       "      <td>8.39672</td>\n",
       "      <td>8.85011</td>\n",
       "      <td>4.198148</td>\n",
       "      <td>6.26681</td>\n",
       "      <td>4.74990</td>\n",
       "      <td>7.803565</td>\n",
       "      <td>5.57622</td>\n",
       "    </tr>\n",
       "    <tr>\n",
       "      <th>GSM1644587</th>\n",
       "      <td>0.0</td>\n",
       "      <td>4.43163</td>\n",
       "      <td>4.26646</td>\n",
       "      <td>7.359123</td>\n",
       "      <td>6.36028</td>\n",
       "      <td>9.230653</td>\n",
       "      <td>5.70209</td>\n",
       "      <td>4.27756</td>\n",
       "      <td>5.414117</td>\n",
       "      <td>8.350013</td>\n",
       "      <td>7.076681</td>\n",
       "      <td>8.155715</td>\n",
       "      <td>8.47149</td>\n",
       "      <td>9.03507</td>\n",
       "      <td>4.120023</td>\n",
       "      <td>5.91873</td>\n",
       "      <td>4.76323</td>\n",
       "      <td>7.665895</td>\n",
       "      <td>5.37424</td>\n",
       "    </tr>\n",
       "    <tr>\n",
       "      <th>GSM1644588</th>\n",
       "      <td>0.0</td>\n",
       "      <td>4.50217</td>\n",
       "      <td>4.37958</td>\n",
       "      <td>7.202440</td>\n",
       "      <td>6.21786</td>\n",
       "      <td>9.341440</td>\n",
       "      <td>6.60141</td>\n",
       "      <td>4.56838</td>\n",
       "      <td>5.525129</td>\n",
       "      <td>8.566007</td>\n",
       "      <td>7.014180</td>\n",
       "      <td>8.261920</td>\n",
       "      <td>8.43424</td>\n",
       "      <td>9.29865</td>\n",
       "      <td>4.240525</td>\n",
       "      <td>6.18278</td>\n",
       "      <td>4.76369</td>\n",
       "      <td>7.779141</td>\n",
       "      <td>5.46767</td>\n",
       "    </tr>\n",
       "  </tbody>\n",
       "</table>\n",
       "<p>142 rows × 19 columns</p>\n",
       "</div>"
      ],
      "text/plain": [
       "            Chronic-Fatigue-Syndrome       C7     CA14     CD79A      EOS  \\\n",
       "GSM1644447                       0.0  4.57083  3.97740  7.624507  6.31147   \n",
       "GSM1644448                       0.0  4.44980  4.12215  7.159343  6.45200   \n",
       "GSM1644449                       0.0  4.63459  4.08301  7.274733  6.75592   \n",
       "GSM1644450                       0.0  4.35288  4.70939  7.324977  6.76477   \n",
       "GSM1644451                       0.0  4.71978  4.95712  7.016447  6.66918   \n",
       "...                              ...      ...      ...       ...      ...   \n",
       "GSM1644584                       0.0  4.88470  4.40520  6.900327  5.99165   \n",
       "GSM1644585                       0.0  4.45642  4.39358  7.115423  6.36993   \n",
       "GSM1644586                       0.0  4.51313  4.48533  7.508717  6.62544   \n",
       "GSM1644587                       0.0  4.43163  4.26646  7.359123  6.36028   \n",
       "GSM1644588                       0.0  4.50217  4.37958  7.202440  6.21786   \n",
       "\n",
       "                FUSE      FAS     PARN     PTPRF      RCC1       TBP  \\\n",
       "GSM1644447  8.834907  5.19227  4.10652  5.445881  8.144465  7.002813   \n",
       "GSM1644448  8.770260  5.28869  4.47094  5.564544  8.450075  6.850624   \n",
       "GSM1644449  8.967027  5.46280  4.30655  5.404842  8.549557  6.878068   \n",
       "GSM1644450  8.855590  4.74321  4.44848  5.570248  8.521710  6.717619   \n",
       "GSM1644451  9.046603  5.65581  4.54684  5.451766  8.468917  6.874385   \n",
       "...              ...      ...      ...       ...       ...       ...   \n",
       "GSM1644584  9.253453  5.50456  4.95950  5.608976  8.422573  7.027183   \n",
       "GSM1644585  9.167267  5.80253  5.26942  5.500210  8.589145  7.044510   \n",
       "GSM1644586  8.841087  5.68349  4.35930  5.554889  8.550867  6.835286   \n",
       "GSM1644587  9.230653  5.70209  4.27756  5.414117  8.350013  7.076681   \n",
       "GSM1644588  9.341440  6.60141  4.56838  5.525129  8.566007  7.014180   \n",
       "\n",
       "                 TPR       U1    UBE3A     EPPIN      GLA   HASPIN       SP1  \\\n",
       "GSM1644447  8.472690  8.37762  8.82759  4.038118  6.71220  4.74224  7.840035   \n",
       "GSM1644448  8.204035  8.54458  9.05710  4.015955  6.96979  4.56926  8.086289   \n",
       "GSM1644449  8.183720  8.56057  9.21091  4.243238  6.54337  4.74863  7.964869   \n",
       "GSM1644450  8.251675  8.25392  8.96618  4.436203  6.92601  4.76971  8.209112   \n",
       "GSM1644451  8.234940  8.59143  9.14027  4.082275  6.88906  4.94568  8.107431   \n",
       "...              ...      ...      ...       ...      ...      ...       ...   \n",
       "GSM1644584  8.090215  8.83920  9.44755  4.172465  6.63166  4.74474  7.759914   \n",
       "GSM1644585  8.309740  8.78020  8.50899  4.075470  6.39332  5.08563  7.896002   \n",
       "GSM1644586  8.191125  8.39672  8.85011  4.198148  6.26681  4.74990  7.803565   \n",
       "GSM1644587  8.155715  8.47149  9.03507  4.120023  5.91873  4.76323  7.665895   \n",
       "GSM1644588  8.261920  8.43424  9.29865  4.240525  6.18278  4.76369  7.779141   \n",
       "\n",
       "             TESMIN  \n",
       "GSM1644447  5.45890  \n",
       "GSM1644448  5.30916  \n",
       "GSM1644449  5.68128  \n",
       "GSM1644450  5.49133  \n",
       "GSM1644451  5.51877  \n",
       "...             ...  \n",
       "GSM1644584  5.60442  \n",
       "GSM1644585  5.02792  \n",
       "GSM1644586  5.57622  \n",
       "GSM1644587  5.37424  \n",
       "GSM1644588  5.46767  \n",
       "\n",
       "[142 rows x 19 columns]"
      ]
     },
     "execution_count": 69,
     "metadata": {},
     "output_type": "execute_result"
    }
   ],
   "source": [
    "print(f\"The merged dataset contains {len(merged_data)} samples.\")\n",
    "merged_data"
   ]
  },
  {
   "cell_type": "code",
   "execution_count": 70,
   "metadata": {
    "ExecuteTime": {
     "end_time": "2024-01-02T01:03:35.158646754Z",
     "start_time": "2024-01-02T01:03:35.156975304Z"
    },
    "collapsed": false
   },
   "outputs": [
    {
     "name": "stdout",
     "output_type": "stream",
     "text": [
      "For the feature 'Chronic-Fatigue-Syndrome', the least common label is '0.0' with 142 occurrences. This represents 100.00% of the dataset.\n",
      "The distribution of the feature 'Chronic-Fatigue-Syndrome' in this dataset is severely biased.\n",
      "\n"
     ]
    },
    {
     "data": {
      "text/plain": [
       "True"
      ]
     },
     "execution_count": 70,
     "metadata": {},
     "output_type": "execute_result"
    }
   ],
   "source": [
    "is_trait_biased, merged_data = judge_and_remove_biased_features(merged_data, TRAIT, trait_type=trait_type)\n",
    "is_trait_biased"
   ]
  },
  {
   "cell_type": "code",
   "execution_count": 101,
   "metadata": {},
   "outputs": [],
   "source": [
    "merged_data.head()\n",
    "if not is_trait_biased:\n",
    "    merge_data.to_csv(os.path.join(OUTPUT_DIR, cohort + '.csv'), index=False)"
   ]
  },
  {
   "cell_type": "code",
   "execution_count": 102,
   "metadata": {},
   "outputs": [],
   "source": [
    "from typing import Callable, Optional, List, Tuple, Union, Any\n"
   ]
  },
  {
   "cell_type": "code",
   "execution_count": 103,
   "metadata": {},
   "outputs": [],
   "source": [
    "def save_cohort_info(cohort: str, info_path: str, is_available: bool, is_biased: Optional[bool] = None,\n",
    "                     df: Optional[pd.DataFrame] = None, note: str = '') -> None:\n",
    "    \"\"\"\n",
    "    Add or update information about the usability and quality of a dataset for statistical analysis.\n",
    "\n",
    "    Parameters:\n",
    "    cohort (str): A unique identifier for the dataset.\n",
    "    info_path (str): File path to the JSON file where records are stored.\n",
    "    is_available (bool): Indicates whether both the genetic data and trait data are available in the dataset, and can be\n",
    "     preprocessed into a dataframe.\n",
    "    is_biased (bool, optional): Indicates whether the dataset is too biased to be usable.\n",
    "        Required if `is_available` is True.\n",
    "    df (pandas.DataFrame, optional): The preprocessed dataset. Required if `is_available` is True.\n",
    "    note (str, optional): Additional notes about the dataset.\n",
    "\n",
    "    Returns:\n",
    "    None: The function does not return a value but updates or creates a record in the specified JSON file.\n",
    "    \"\"\"\n",
    "    if is_available:\n",
    "        assert (df is not None) and (is_biased is not None), \"'df' and 'is_biased' should be provided if this cohort \" \\\n",
    "                                                             \"is relevant.\"\n",
    "    is_usable = is_available and (not is_biased)\n",
    "    new_record = {\"is_usable\": is_usable,\n",
    "                  \"is_available\": is_available,\n",
    "                  \"is_biased\": is_biased if is_available else None,\n",
    "                  \"has_age\": \"Age\" in df.columns if is_available else None,\n",
    "                  \"has_gender\": \"Gender\" in df.columns if is_available else None,\n",
    "                  \"sample_size\": len(df) if is_available else None,\n",
    "                  \"note\": note}\n",
    "    \n",
    "    if not os.path.exists(info_path):\n",
    "        with open(info_path, 'w') as file:\n",
    "            json.dump({}, file)\n",
    "        print(f\"A new JSON file was created at: {info_path}\")\n",
    "\n",
    "    with open(info_path, \"r\") as file:\n",
    "        records = json.load(file)\n",
    "    records[cohort] = new_record\n",
    "\n",
    "    temp_path = info_path + \".tmp\"\n",
    "    try:\n",
    "        with open(temp_path, 'w') as file:\n",
    "            json.dump(records, file)\n",
    "        os.replace(temp_path, info_path)\n",
    "\n",
    "    except Exception as e:\n",
    "        print(f\"An error occurred: {e}\")\n",
    "        if os.path.exists(temp_path):\n",
    "            os.remove(temp_path)\n",
    "        raise"
   ]
  },
  {
   "cell_type": "code",
   "execution_count": 104,
   "metadata": {
    "ExecuteTime": {
     "end_time": "2024-01-02T01:03:35.158803015Z",
     "start_time": "2024-01-02T01:03:35.157063388Z"
    },
    "collapsed": false
   },
   "outputs": [],
   "source": [
    "save_cohort_info(cohort, JSON_PATH, is_available, is_trait_biased, merged_data, note='')"
   ]
  },
  {
   "cell_type": "code",
   "execution_count": 105,
   "metadata": {
    "ExecuteTime": {
     "end_time": "2024-01-02T01:03:36.004312476Z",
     "start_time": "2024-01-02T01:03:35.157165158Z"
    },
    "collapsed": false
   },
   "outputs": [],
   "source": [
    "merged_data.head()\n",
    "if not is_trait_biased:\n",
    "    merged_data.to_csv(os.path.join(OUTPUT_DIR, cohort+'.csv'), index=False)\n",
    "#merged_data"
   ]
  },
  {
   "cell_type": "markdown",
   "metadata": {
    "ExecuteTime": {
     "end_time": "2023-12-31T03:58:22.271683755Z",
     "start_time": "2023-12-31T03:58:22.246557674Z"
    },
    "id": "-MTPhRGxJV7I"
   },
   "source": [
    "### 3. Do regression & Cross Validation"
   ]
  },
  {
   "cell_type": "code",
   "execution_count": 106,
   "metadata": {},
   "outputs": [],
   "source": [
    "def read_json_to_dataframe(json_file: str) -> pd.DataFrame:\n",
    "    \"\"\"\n",
    "    Reads a JSON file and converts it into a pandas DataFrame.\n",
    "\n",
    "    Args:\n",
    "    json_file (str): The path to the JSON file containing the data.\n",
    "\n",
    "    Returns:\n",
    "    DataFrame: A pandas DataFrame with the JSON data.\n",
    "    \"\"\"\n",
    "    with open(json_file, 'r') as file:\n",
    "        data = json.load(file)\n",
    "    return pd.DataFrame.from_dict(data, orient='index').reset_index().rename(columns={'index': 'cohort_id'})"
   ]
  },
  {
   "cell_type": "code",
   "execution_count": 107,
   "metadata": {},
   "outputs": [],
   "source": [
    "def filter_and_rank_cohorts(json_file: str, condition: Union[str, None] = None) -> Tuple[\n",
    "    Union[str, None], pd.DataFrame]:\n",
    "    \"\"\"\n",
    "    Reads a JSON file, filters cohorts based on usability and an optional condition, then ranks them by sample size.\n",
    "\n",
    "    Args:\n",
    "    json_file (str): The path to the JSON file containing the data.\n",
    "    condition (str, optional): An additional condition for filtering. If None, only 'is_usable' is considered.\n",
    "\n",
    "    Returns:\n",
    "    Tuple: A tuple containing the best cohort ID (str or None if no suitable cohort is found) and\n",
    "           the filtered and ranked DataFrame.\n",
    "    \"\"\"\n",
    "    # Read the JSON file into a DataFrame\n",
    "    df = read_json_to_dataframe(json_file)\n",
    "\n",
    "    if condition:\n",
    "        filtered_df = df[(df['is_usable'] == True) & (df[condition] == True)]\n",
    "    else:\n",
    "        filtered_df = df[df['is_usable'] == True]\n",
    "\n",
    "    ranked_df = filtered_df.sort_values(by='sample_size', ascending=False)\n",
    "    best_cohort_id = ranked_df.iloc[0]['cohort_id'] if not ranked_df.empty else None\n",
    "\n",
    "    return best_cohort_id, ranked_df"
   ]
  },
  {
   "cell_type": "code",
   "execution_count": 108,
   "metadata": {},
   "outputs": [
    {
     "data": {
      "text/html": [
       "<div>\n",
       "<style scoped>\n",
       "    .dataframe tbody tr th:only-of-type {\n",
       "        vertical-align: middle;\n",
       "    }\n",
       "\n",
       "    .dataframe tbody tr th {\n",
       "        vertical-align: top;\n",
       "    }\n",
       "\n",
       "    .dataframe thead th {\n",
       "        text-align: right;\n",
       "    }\n",
       "</style>\n",
       "<table border=\"1\" class=\"dataframe\">\n",
       "  <thead>\n",
       "    <tr style=\"text-align: right;\">\n",
       "      <th></th>\n",
       "      <th>cohort_id</th>\n",
       "      <th>is_usable</th>\n",
       "      <th>is_available</th>\n",
       "      <th>is_biased</th>\n",
       "      <th>has_age</th>\n",
       "      <th>has_gender</th>\n",
       "      <th>sample_size</th>\n",
       "      <th>note</th>\n",
       "    </tr>\n",
       "  </thead>\n",
       "  <tbody>\n",
       "  </tbody>\n",
       "</table>\n",
       "</div>"
      ],
      "text/plain": [
       "Empty DataFrame\n",
       "Columns: [cohort_id, is_usable, is_available, is_biased, has_age, has_gender, sample_size, note]\n",
       "Index: []"
      ]
     },
     "execution_count": 108,
     "metadata": {},
     "output_type": "execute_result"
    }
   ],
   "source": [
    "best_cohort, ranked_df = filter_and_rank_cohorts(JSON_PATH)\n",
    "ranked_df"
   ]
  },
  {
   "cell_type": "code",
   "execution_count": 92,
   "metadata": {},
   "outputs": [],
   "source": [
    "condition = 'Age'\n",
    "filter_column = 'has_' + condition.lower()\n",
    "\n",
    "condition_best_cohort, condition_ranked_df = filter_and_rank_cohorts(JSON_PATH, filter_column)\n",
    "condition_best_cohort"
   ]
  },
  {
   "cell_type": "code",
   "execution_count": 100,
   "metadata": {
    "ExecuteTime": {
     "end_time": "2024-01-02T01:03:36.345375576Z",
     "start_time": "2024-01-02T01:03:36.049289340Z"
    },
    "collapsed": false
   },
   "outputs": [
    {
     "ename": "TypeError",
     "evalue": "unsupported operand type(s) for +: 'NoneType' and 'str'",
     "output_type": "error",
     "traceback": [
      "\u001b[1;31m---------------------------------------------------------------------------\u001b[0m",
      "\u001b[1;31mTypeError\u001b[0m                                 Traceback (most recent call last)",
      "Cell \u001b[1;32mIn[100], line 1\u001b[0m\n\u001b[1;32m----> 1\u001b[0m merged_data \u001b[38;5;241m=\u001b[39m pd\u001b[38;5;241m.\u001b[39mread_csv(os\u001b[38;5;241m.\u001b[39mpath\u001b[38;5;241m.\u001b[39mjoin(OUTPUT_DIR, \u001b[43mcondition_best_cohort\u001b[49m\u001b[43m \u001b[49m\u001b[38;5;241;43m+\u001b[39;49m\u001b[43m \u001b[49m\u001b[38;5;124;43m'\u001b[39;49m\u001b[38;5;124;43m.csv\u001b[39;49m\u001b[38;5;124;43m'\u001b[39;49m))\n\u001b[0;32m      2\u001b[0m merged_data\u001b[38;5;241m.\u001b[39mhead()\n",
      "\u001b[1;31mTypeError\u001b[0m: unsupported operand type(s) for +: 'NoneType' and 'str'"
     ]
    }
   ],
   "source": [
    "merged_data = pd.read_csv(os.path.join(OUTPUT_DIR, condition_best_cohort + '.csv'))\n",
    "merged_data.head()"
   ]
  },
  {
   "cell_type": "code",
   "execution_count": 98,
   "metadata": {
    "ExecuteTime": {
     "end_time": "2024-01-02T01:03:36.401002087Z",
     "start_time": "2024-01-02T01:03:36.400659608Z"
    },
    "collapsed": false
   },
   "outputs": [],
   "source": [
    "# If both age and gender features are available, select 'age' as the condition.\n",
    "condition = 'Age'\n",
    "# Remove the other condition to prevent interference.\n",
    "merged_data = merged_data.drop(columns=['Gender'], errors='ignore').astype('float')"
   ]
  },
  {
   "cell_type": "code",
   "execution_count": 99,
   "metadata": {
    "ExecuteTime": {
     "end_time": "2024-01-02T01:03:36.403035823Z",
     "start_time": "2024-01-02T01:03:36.401081946Z"
    },
    "collapsed": false
   },
   "outputs": [
    {
     "ename": "KeyError",
     "evalue": "\"['Age'] not found in axis\"",
     "output_type": "error",
     "traceback": [
      "\u001b[1;31m---------------------------------------------------------------------------\u001b[0m",
      "\u001b[1;31mKeyError\u001b[0m                                  Traceback (most recent call last)",
      "Cell \u001b[1;32mIn[99], line 1\u001b[0m\n\u001b[1;32m----> 1\u001b[0m X \u001b[38;5;241m=\u001b[39m \u001b[43mmerged_data\u001b[49m\u001b[38;5;241;43m.\u001b[39;49m\u001b[43mdrop\u001b[49m\u001b[43m(\u001b[49m\u001b[43mcolumns\u001b[49m\u001b[38;5;241;43m=\u001b[39;49m\u001b[43m[\u001b[49m\u001b[43mTRAIT\u001b[49m\u001b[43m,\u001b[49m\u001b[43m \u001b[49m\u001b[43mcondition\u001b[49m\u001b[43m]\u001b[49m\u001b[43m)\u001b[49m\u001b[38;5;241m.\u001b[39mvalues\n\u001b[0;32m      2\u001b[0m Y \u001b[38;5;241m=\u001b[39m merged_data[TRAIT]\u001b[38;5;241m.\u001b[39mvalues\n\u001b[0;32m      3\u001b[0m Z \u001b[38;5;241m=\u001b[39m merged_data[condition]\u001b[38;5;241m.\u001b[39mvalues\n",
      "File \u001b[1;32m~\\AppData\\Local\\Packages\\PythonSoftwareFoundation.Python.3.11_qbz5n2kfra8p0\\LocalCache\\local-packages\\Python311\\site-packages\\pandas\\core\\frame.py:5568\u001b[0m, in \u001b[0;36mDataFrame.drop\u001b[1;34m(self, labels, axis, index, columns, level, inplace, errors)\u001b[0m\n\u001b[0;32m   5420\u001b[0m \u001b[38;5;28;01mdef\u001b[39;00m \u001b[38;5;21mdrop\u001b[39m(\n\u001b[0;32m   5421\u001b[0m     \u001b[38;5;28mself\u001b[39m,\n\u001b[0;32m   5422\u001b[0m     labels: IndexLabel \u001b[38;5;241m|\u001b[39m \u001b[38;5;28;01mNone\u001b[39;00m \u001b[38;5;241m=\u001b[39m \u001b[38;5;28;01mNone\u001b[39;00m,\n\u001b[1;32m   (...)\u001b[0m\n\u001b[0;32m   5429\u001b[0m     errors: IgnoreRaise \u001b[38;5;241m=\u001b[39m \u001b[38;5;124m\"\u001b[39m\u001b[38;5;124mraise\u001b[39m\u001b[38;5;124m\"\u001b[39m,\n\u001b[0;32m   5430\u001b[0m ) \u001b[38;5;241m-\u001b[39m\u001b[38;5;241m>\u001b[39m DataFrame \u001b[38;5;241m|\u001b[39m \u001b[38;5;28;01mNone\u001b[39;00m:\n\u001b[0;32m   5431\u001b[0m \u001b[38;5;250m    \u001b[39m\u001b[38;5;124;03m\"\"\"\u001b[39;00m\n\u001b[0;32m   5432\u001b[0m \u001b[38;5;124;03m    Drop specified labels from rows or columns.\u001b[39;00m\n\u001b[0;32m   5433\u001b[0m \n\u001b[1;32m   (...)\u001b[0m\n\u001b[0;32m   5566\u001b[0m \u001b[38;5;124;03m            weight  1.0     0.8\u001b[39;00m\n\u001b[0;32m   5567\u001b[0m \u001b[38;5;124;03m    \"\"\"\u001b[39;00m\n\u001b[1;32m-> 5568\u001b[0m     \u001b[38;5;28;01mreturn\u001b[39;00m \u001b[38;5;28;43msuper\u001b[39;49m\u001b[43m(\u001b[49m\u001b[43m)\u001b[49m\u001b[38;5;241;43m.\u001b[39;49m\u001b[43mdrop\u001b[49m\u001b[43m(\u001b[49m\n\u001b[0;32m   5569\u001b[0m \u001b[43m        \u001b[49m\u001b[43mlabels\u001b[49m\u001b[38;5;241;43m=\u001b[39;49m\u001b[43mlabels\u001b[49m\u001b[43m,\u001b[49m\n\u001b[0;32m   5570\u001b[0m \u001b[43m        \u001b[49m\u001b[43maxis\u001b[49m\u001b[38;5;241;43m=\u001b[39;49m\u001b[43maxis\u001b[49m\u001b[43m,\u001b[49m\n\u001b[0;32m   5571\u001b[0m \u001b[43m        \u001b[49m\u001b[43mindex\u001b[49m\u001b[38;5;241;43m=\u001b[39;49m\u001b[43mindex\u001b[49m\u001b[43m,\u001b[49m\n\u001b[0;32m   5572\u001b[0m \u001b[43m        \u001b[49m\u001b[43mcolumns\u001b[49m\u001b[38;5;241;43m=\u001b[39;49m\u001b[43mcolumns\u001b[49m\u001b[43m,\u001b[49m\n\u001b[0;32m   5573\u001b[0m \u001b[43m        \u001b[49m\u001b[43mlevel\u001b[49m\u001b[38;5;241;43m=\u001b[39;49m\u001b[43mlevel\u001b[49m\u001b[43m,\u001b[49m\n\u001b[0;32m   5574\u001b[0m \u001b[43m        \u001b[49m\u001b[43minplace\u001b[49m\u001b[38;5;241;43m=\u001b[39;49m\u001b[43minplace\u001b[49m\u001b[43m,\u001b[49m\n\u001b[0;32m   5575\u001b[0m \u001b[43m        \u001b[49m\u001b[43merrors\u001b[49m\u001b[38;5;241;43m=\u001b[39;49m\u001b[43merrors\u001b[49m\u001b[43m,\u001b[49m\n\u001b[0;32m   5576\u001b[0m \u001b[43m    \u001b[49m\u001b[43m)\u001b[49m\n",
      "File \u001b[1;32m~\\AppData\\Local\\Packages\\PythonSoftwareFoundation.Python.3.11_qbz5n2kfra8p0\\LocalCache\\local-packages\\Python311\\site-packages\\pandas\\core\\generic.py:4785\u001b[0m, in \u001b[0;36mNDFrame.drop\u001b[1;34m(self, labels, axis, index, columns, level, inplace, errors)\u001b[0m\n\u001b[0;32m   4783\u001b[0m \u001b[38;5;28;01mfor\u001b[39;00m axis, labels \u001b[38;5;129;01min\u001b[39;00m axes\u001b[38;5;241m.\u001b[39mitems():\n\u001b[0;32m   4784\u001b[0m     \u001b[38;5;28;01mif\u001b[39;00m labels \u001b[38;5;129;01mis\u001b[39;00m \u001b[38;5;129;01mnot\u001b[39;00m \u001b[38;5;28;01mNone\u001b[39;00m:\n\u001b[1;32m-> 4785\u001b[0m         obj \u001b[38;5;241m=\u001b[39m \u001b[43mobj\u001b[49m\u001b[38;5;241;43m.\u001b[39;49m\u001b[43m_drop_axis\u001b[49m\u001b[43m(\u001b[49m\u001b[43mlabels\u001b[49m\u001b[43m,\u001b[49m\u001b[43m \u001b[49m\u001b[43maxis\u001b[49m\u001b[43m,\u001b[49m\u001b[43m \u001b[49m\u001b[43mlevel\u001b[49m\u001b[38;5;241;43m=\u001b[39;49m\u001b[43mlevel\u001b[49m\u001b[43m,\u001b[49m\u001b[43m \u001b[49m\u001b[43merrors\u001b[49m\u001b[38;5;241;43m=\u001b[39;49m\u001b[43merrors\u001b[49m\u001b[43m)\u001b[49m\n\u001b[0;32m   4787\u001b[0m \u001b[38;5;28;01mif\u001b[39;00m inplace:\n\u001b[0;32m   4788\u001b[0m     \u001b[38;5;28mself\u001b[39m\u001b[38;5;241m.\u001b[39m_update_inplace(obj)\n",
      "File \u001b[1;32m~\\AppData\\Local\\Packages\\PythonSoftwareFoundation.Python.3.11_qbz5n2kfra8p0\\LocalCache\\local-packages\\Python311\\site-packages\\pandas\\core\\generic.py:4827\u001b[0m, in \u001b[0;36mNDFrame._drop_axis\u001b[1;34m(self, labels, axis, level, errors, only_slice)\u001b[0m\n\u001b[0;32m   4825\u001b[0m         new_axis \u001b[38;5;241m=\u001b[39m axis\u001b[38;5;241m.\u001b[39mdrop(labels, level\u001b[38;5;241m=\u001b[39mlevel, errors\u001b[38;5;241m=\u001b[39merrors)\n\u001b[0;32m   4826\u001b[0m     \u001b[38;5;28;01melse\u001b[39;00m:\n\u001b[1;32m-> 4827\u001b[0m         new_axis \u001b[38;5;241m=\u001b[39m \u001b[43maxis\u001b[49m\u001b[38;5;241;43m.\u001b[39;49m\u001b[43mdrop\u001b[49m\u001b[43m(\u001b[49m\u001b[43mlabels\u001b[49m\u001b[43m,\u001b[49m\u001b[43m \u001b[49m\u001b[43merrors\u001b[49m\u001b[38;5;241;43m=\u001b[39;49m\u001b[43merrors\u001b[49m\u001b[43m)\u001b[49m\n\u001b[0;32m   4828\u001b[0m     indexer \u001b[38;5;241m=\u001b[39m axis\u001b[38;5;241m.\u001b[39mget_indexer(new_axis)\n\u001b[0;32m   4830\u001b[0m \u001b[38;5;66;03m# Case for non-unique axis\u001b[39;00m\n\u001b[0;32m   4831\u001b[0m \u001b[38;5;28;01melse\u001b[39;00m:\n",
      "File \u001b[1;32m~\\AppData\\Local\\Packages\\PythonSoftwareFoundation.Python.3.11_qbz5n2kfra8p0\\LocalCache\\local-packages\\Python311\\site-packages\\pandas\\core\\indexes\\base.py:7070\u001b[0m, in \u001b[0;36mIndex.drop\u001b[1;34m(self, labels, errors)\u001b[0m\n\u001b[0;32m   7068\u001b[0m \u001b[38;5;28;01mif\u001b[39;00m mask\u001b[38;5;241m.\u001b[39many():\n\u001b[0;32m   7069\u001b[0m     \u001b[38;5;28;01mif\u001b[39;00m errors \u001b[38;5;241m!=\u001b[39m \u001b[38;5;124m\"\u001b[39m\u001b[38;5;124mignore\u001b[39m\u001b[38;5;124m\"\u001b[39m:\n\u001b[1;32m-> 7070\u001b[0m         \u001b[38;5;28;01mraise\u001b[39;00m \u001b[38;5;167;01mKeyError\u001b[39;00m(\u001b[38;5;124mf\u001b[39m\u001b[38;5;124m\"\u001b[39m\u001b[38;5;132;01m{\u001b[39;00mlabels[mask]\u001b[38;5;241m.\u001b[39mtolist()\u001b[38;5;132;01m}\u001b[39;00m\u001b[38;5;124m not found in axis\u001b[39m\u001b[38;5;124m\"\u001b[39m)\n\u001b[0;32m   7071\u001b[0m     indexer \u001b[38;5;241m=\u001b[39m indexer[\u001b[38;5;241m~\u001b[39mmask]\n\u001b[0;32m   7072\u001b[0m \u001b[38;5;28;01mreturn\u001b[39;00m \u001b[38;5;28mself\u001b[39m\u001b[38;5;241m.\u001b[39mdelete(indexer)\n",
      "\u001b[1;31mKeyError\u001b[0m: \"['Age'] not found in axis\""
     ]
    }
   ],
   "source": [
    "X = merged_data.drop(columns=[TRAIT, condition]).values\n",
    "Y = merged_data[TRAIT].values\n",
    "Z = merged_data[condition].values"
   ]
  },
  {
   "cell_type": "markdown",
   "metadata": {
    "collapsed": false
   },
   "source": [
    "Select the appropriate regression model depending on whether the dataset shows batch effect."
   ]
  },
  {
   "cell_type": "code",
   "execution_count": 96,
   "metadata": {
    "ExecuteTime": {
     "end_time": "2024-01-02T01:03:36.403263628Z",
     "start_time": "2024-01-02T01:03:36.401336170Z"
    },
    "collapsed": false
   },
   "outputs": [
    {
     "ename": "NameError",
     "evalue": "name 'X' is not defined",
     "output_type": "error",
     "traceback": [
      "\u001b[1;31m---------------------------------------------------------------------------\u001b[0m",
      "\u001b[1;31mNameError\u001b[0m                                 Traceback (most recent call last)",
      "Cell \u001b[1;32mIn[96], line 1\u001b[0m\n\u001b[1;32m----> 1\u001b[0m has_batch_effect \u001b[38;5;241m=\u001b[39m detect_batch_effect(\u001b[43mX\u001b[49m)\n\u001b[0;32m      2\u001b[0m has_batch_effect\n",
      "\u001b[1;31mNameError\u001b[0m: name 'X' is not defined"
     ]
    }
   ],
   "source": [
    "has_batch_effect = detect_batch_effect(X)\n",
    "has_batch_effect"
   ]
  },
  {
   "cell_type": "code",
   "execution_count": 171,
   "metadata": {
    "ExecuteTime": {
     "end_time": "2024-01-02T01:03:36.475053437Z",
     "start_time": "2024-01-02T01:03:36.444397231Z"
    },
    "collapsed": false
   },
   "outputs": [],
   "source": [
    "\n",
    "if has_batch_effect:\n",
    "    model_constructor1 = VariableSelection\n",
    "    model_params1 = {'modified': True, 'lamda': 3e-4}\n",
    "    model_constructor2 = VariableSelection\n",
    "    model_params2 = {'modified': False}\n",
    "else:\n",
    "    model_constructor1 = Lasso\n",
    "    model_params1 = {'alpha': 1.0, 'random_state': 42}\n",
    "    model_constructor2 = VariableSelection\n",
    "    model_params2 = {'modified': False}"
   ]
  },
  {
   "cell_type": "code",
   "execution_count": 172,
   "metadata": {
    "ExecuteTime": {
     "end_time": "2024-01-02T01:03:50.733335364Z",
     "start_time": "2024-01-02T01:03:36.444563711Z"
    },
    "collapsed": false
   },
   "outputs": [
    {
     "name": "stdout",
     "output_type": "stream",
     "text": [
      "alpha for Lasso: 0.0003\n",
      "alpha for Lasso: 0.0003\n",
      "alpha for Lasso: 0.0003\n",
      "alpha for Lasso: 0.0003\n",
      "alpha for Lasso: 0.0003\n",
      "The cross-validation accuracy is 56.67% ± 20.68%\n"
     ]
    }
   ],
   "source": [
    "trait_type = 'binary'  # Remember to set this properly, either 'binary' or 'continuous'\n",
    "cv_mean1, cv_std1 = cross_validation(X, Y, Z, model_constructor1, model_params1, target_type=trait_type)"
   ]
  },
  {
   "cell_type": "code",
   "execution_count": 175,
   "metadata": {},
   "outputs": [
    {
     "name": "stdout",
     "output_type": "stream",
     "text": [
      "The cross-validation accuracy is 95.00% ± 6.67%\n"
     ]
    }
   ],
   "source": [
    "cv_mean2, cv_std2 = cross_validation(X, Y, Z, model_constructor2, model_params2, target_type=trait_type)"
   ]
  },
  {
   "cell_type": "code",
   "execution_count": 176,
   "metadata": {
    "ExecuteTime": {
     "end_time": "2024-01-02T01:03:53.587340410Z",
     "start_time": "2024-01-02T01:03:50.732779025Z"
    },
    "collapsed": false
   },
   "outputs": [
    {
     "name": "stdout",
     "output_type": "stream",
     "text": [
      "alpha for Lasso: 0.0003\n"
     ]
    }
   ],
   "source": [
    "normalized_X, _ = normalize_data(X)\n",
    "normalized_Z, _ = normalize_data(Z)\n",
    "\n",
    "# Train regression model on the whole dataset to identify significant genes\n",
    "model1 = ResidualizationRegressor(model_constructor1, model_params1)\n",
    "model1.fit(normalized_X, Y, normalized_Z)\n",
    "\n",
    "model2 = ResidualizationRegressor(model_constructor2, model_params2)\n",
    "model2.fit(normalized_X, Y, normalized_Z)"
   ]
  },
  {
   "cell_type": "markdown",
   "metadata": {
    "ExecuteTime": {
     "end_time": "2023-10-14T04:50:59.072075075Z",
     "start_time": "2023-10-14T04:50:38.739499998Z"
    },
    "id": "EjJrxbvb4nlj"
   },
   "source": [
    "### 4. Discussion and report"
   ]
  },
  {
   "cell_type": "code",
   "execution_count": 177,
   "metadata": {
    "ExecuteTime": {
     "end_time": "2024-01-02T01:03:53.641570844Z",
     "start_time": "2024-01-02T01:03:53.627778553Z"
    },
    "collapsed": false
   },
   "outputs": [
    {
     "name": "stdout",
     "output_type": "stream",
     "text": [
      "Effect of the condition on the target variable:\n",
      "Variable: Age\n",
      "Coefficient: -0.0429\n",
      "Found 50 genes with non-zero coefficients associated with the trait 'Brugada Syndrome' conditional on the factor 'Age'. These genes are identified as significant based on the regression model.\n",
      "Variable  Coefficient  Absolute Coefficient\n",
      "   SFXN5     6.968654              6.968654\n",
      "    HNMT     5.931100              5.931100\n",
      "   LIMK2    -5.185019              5.185019\n",
      "  PDLIM2     5.138317              5.138317\n",
      "   EXOC3    -4.691808              4.691808\n",
      "  KCNK15    -4.399284              4.399284\n",
      "    UGP2     3.874205              3.874205\n",
      "    LCAT     3.625004              3.625004\n",
      " RHOBTB1    -3.490019              3.490019\n",
      "   METRN     3.480335              3.480335\n",
      "   PKHD1     3.149871              3.149871\n",
      "    CHDH     3.043823              3.043823\n",
      "    KPRP    -3.011505              3.011505\n",
      " TNFSF12     2.901458              2.901458\n",
      " MADCAM1    -2.832544              2.832544\n",
      "    CES2     2.748216              2.748216\n",
      " PCDH11Y    -2.723167              2.723167\n",
      "   MKLN1     2.692490              2.692490\n",
      "    CSF2    -2.667795              2.667795\n",
      "    MYH3     2.592556              2.592556\n",
      "   APOL6     2.373610              2.373610\n",
      " FAM118A    -2.033151              2.033151\n",
      "   RNPC3    -1.876619              1.876619\n",
      " CCDC88B     1.849324              1.849324\n",
      "    ZNF7     1.746636              1.746636\n",
      "  ZNF229    -1.702903              1.702903\n",
      "    HCN4     1.618782              1.618782\n",
      "   GSTT1     1.552547              1.552547\n",
      " ALDH5A1     1.484526              1.484526\n",
      "   NXPH3    -1.078968              1.078968\n",
      "   ATP7A    -1.070324              1.070324\n",
      "   CLDN6     1.052002              1.052002\n",
      "   ACTN1     1.022854              1.022854\n",
      "   GOSR1     0.994648              0.994648\n",
      "  MRPL44     0.865972              0.865972\n",
      "     HDC    -0.851602              0.851602\n",
      "CLEC4GP1    -0.846276              0.846276\n",
      "    NET1     0.780215              0.780215\n",
      "  ZCCHC2     0.690786              0.690786\n",
      "    USP6     0.640616              0.640616\n",
      "    JPH3    -0.560973              0.560973\n",
      "    UTF1     0.548955              0.548955\n",
      "    AQP5     0.541504              0.541504\n",
      "   GRHL2     0.404603              0.404603\n",
      "    GLG1     0.377791              0.377791\n",
      "     CD2     0.360389              0.360389\n",
      "     WT1    -0.245814              0.245814\n",
      "   ERP27    -0.058313              0.058313\n",
      "    GGA2     0.026740              0.026740\n",
      "   ANXA6     0.022428              0.022428\n"
     ]
    },
    {
     "name": "stderr",
     "output_type": "stream",
     "text": [
      "/home/yxcheng/AI4Science_gold_standard/stage1/Yuxuan/../utils.py:469: SettingWithCopyWarning: \n",
      "A value is trying to be set on a copy of a slice from a DataFrame.\n",
      "Try using .loc[row_indexer,col_indexer] = value instead\n",
      "\n",
      "See the caveats in the documentation: https://pandas.pydata.org/pandas-docs/stable/user_guide/indexing.html#returning-a-view-versus-a-copy\n",
      "  gene_regression_df['Absolute Coefficient'] = gene_regression_df['Coefficient'].abs()\n"
     ]
    }
   ],
   "source": [
    "\n",
    "feature_cols = merged_data.columns.tolist()\n",
    "feature_cols.remove(TRAIT)\n",
    "\n",
    "threshold = 0.05\n",
    "interpret_result(model1, feature_cols, TRAIT, condition, threshold=threshold, save_output=True,\n",
    "                 output_dir=OUTPUT_DIR, model_id=1)"
   ]
  },
  {
   "cell_type": "code",
   "execution_count": 178,
   "metadata": {
    "collapsed": false
   },
   "outputs": [
    {
     "name": "stdout",
     "output_type": "stream",
     "text": [
      "Effect of the condition on the target variable:\n",
      "Variable: Age\n",
      "Coefficient: -0.0429\n",
      "Found 247 significant genes associated with the trait 'Brugada Syndrome' conditional on the factor 'Age', with corrected p-value < 0.05:\n",
      "Variable  Coefficient      p_value  corrected_p_value\n",
      "     BSN     0.330125 5.704162e-13       4.845115e-09\n",
      "    DPP6     0.340749 4.314206e-13       4.845115e-09\n",
      "     MT3     0.279684 1.196420e-12       6.774928e-09\n",
      " PPP2R2C     0.348435 1.795095e-11       7.623769e-08\n",
      "   GAP43     0.341790 5.879802e-11       1.664768e-07\n",
      "    SCG3     0.288491 5.537623e-11       1.664768e-07\n",
      "   KIF5A     0.294121 7.789659e-11       1.890439e-07\n",
      "  SNAP25     0.273705 1.313348e-10       2.788894e-07\n",
      "    MAP2     0.305473 3.887751e-10       7.338346e-07\n",
      "   GNAO1     0.277382 5.207726e-10       8.846884e-07\n",
      "    NNAT     0.310292 5.988944e-10       9.249108e-07\n",
      "    CHD5     0.285377 1.723972e-09       2.440569e-06\n",
      "    RTN1     0.316324 2.505213e-09       2.862876e-06\n",
      "   TRIM9     0.250064 2.527851e-09       2.862876e-06\n",
      "   PDZD4     0.273653 2.319458e-09       2.862876e-06\n",
      "    HPCA     0.292228 3.948644e-09       4.192472e-06\n",
      "    DNM1     0.251860 5.416192e-09       5.412369e-06\n",
      "     SYP     0.250300 8.322826e-09       7.854898e-06\n",
      "   NRXN2     0.304611 9.009515e-09       8.055454e-06\n",
      "  TCEAL2     0.273106 2.015561e-08       1.712017e-05\n",
      "    DLG2     0.299978 3.216514e-08       2.483734e-05\n",
      "  SCAMP5     0.249398 3.208037e-08       2.483734e-05\n",
      "   GPM6B     0.219235 3.786019e-08       2.796387e-05\n",
      "  SYNGR1     0.268259 5.345124e-08       3.783457e-05\n",
      "    SNCB     0.240309 8.696716e-08       5.909592e-05\n",
      "    NEFL     0.268417 9.724533e-08       6.353860e-05\n",
      " PPP2R2B     0.273955 1.041832e-07       6.452689e-05\n",
      "   CSPG5     0.259623 1.063547e-07       6.452689e-05\n",
      "    SCG2     0.249428 1.405840e-07       8.235316e-05\n",
      "KIAA0513     0.222348 1.610977e-07       9.122428e-05\n",
      "   CAMKV     0.229741 4.958029e-07       2.506581e-04\n",
      "  MAPK10     0.228232 4.980424e-07       2.506581e-04\n",
      "   GRIN1     0.250916 4.749839e-07       2.506581e-04\n",
      "   SYT11     0.243537 5.016702e-07       2.506581e-04\n",
      "   ABCG4     0.213292 5.294595e-07       2.569845e-04\n",
      "   GRIK5     0.213905 5.884144e-07       2.776662e-04\n",
      "    SCG5     0.221402 7.195197e-07       3.303568e-04\n",
      "    GRM3     0.261928 8.671949e-07       3.852880e-04\n",
      "    MATK     0.204453 8.845204e-07       3.852880e-04\n",
      " CAMK2N1     0.175927 9.906508e-07       4.207294e-04\n",
      "     CPE     0.205378 1.021386e-06       4.232026e-04\n",
      "ATP6V0E2     0.174795 1.253332e-06       5.069429e-04\n",
      "    ATL1     0.221436 1.663875e-06       6.573467e-04\n",
      "     NTM     0.239310 1.838437e-06       7.098038e-04\n",
      " HSPA12A     0.190252 1.934029e-06       7.142452e-04\n",
      "   CRMP1     0.258343 1.905958e-06       7.142452e-04\n",
      " PLEKHB1     0.115160 2.183464e-06       7.892059e-04\n",
      "  CLSTN1     0.220236 2.508671e-06       8.878606e-04\n",
      "     IDS     0.194816 2.627980e-06       9.111046e-04\n",
      "  FRMPD4     0.203314 2.929093e-06       9.951888e-04\n",
      "  SH3GL2     0.195848 3.241120e-06       1.074190e-03\n",
      "    CA11     0.144604 3.348980e-06       1.074190e-03\n",
      "    APC2     0.245338 3.351311e-06       1.074190e-03\n",
      "  CELSR2     0.217328 4.046098e-06       1.272873e-03\n",
      "   TUBB3     0.212586 4.508757e-06       1.343768e-03\n",
      " KBTBD11     0.210426 4.418979e-06       1.343768e-03\n",
      "  MGAT5B     0.191377 4.450409e-06       1.343768e-03\n",
      "   WDR17     0.180019 5.384147e-06       1.576998e-03\n",
      "    SYN1     0.200736 5.847763e-06       1.683759e-03\n",
      "  PCSK1N     0.218409 6.148395e-06       1.697479e-03\n",
      "   BAALC     0.163073 6.195178e-06       1.697479e-03\n",
      "  SH3GL3     0.214328 6.039072e-06       1.697479e-03\n",
      "   VAMP2     0.209190 6.352575e-06       1.701269e-03\n",
      "  STXBP1     0.223867 6.509447e-06       1.701269e-03\n",
      " CCDC136     0.205548 6.444706e-06       1.701269e-03\n",
      "   CLIP3     0.206951 6.991501e-06       1.799570e-03\n",
      "  RAB40B     0.135350 8.504208e-06       2.127007e-03\n",
      "   KNDC1     0.132176 8.514036e-06       2.127007e-03\n",
      "   GABRD     0.137986 9.009605e-06       2.206102e-03\n",
      "    LRP8     0.173825 9.090364e-06       2.206102e-03\n",
      "   ITM2C     0.151201 9.326483e-06       2.231525e-03\n",
      "   FABP6     0.163878 1.089933e-05       2.571636e-03\n",
      "   DOC2A     0.200117 1.142358e-05       2.658408e-03\n",
      "   LSAMP     0.212827 1.214657e-05       2.788459e-03\n",
      "  NDFIP1     0.194657 1.257484e-05       2.848285e-03\n",
      "   PAQR6     0.125222 1.388907e-05       3.024968e-03\n",
      "   OLFM2     0.196563 1.363372e-05       3.024968e-03\n",
      "    ENHO     0.152964 1.375422e-05       3.024968e-03\n",
      "    SNCG     0.113796 1.436721e-05       3.089495e-03\n",
      "    SV2B     0.169016 1.586794e-05       3.369557e-03\n",
      "  NAP1L5     0.195197 1.618710e-05       3.394894e-03\n",
      "   PTPRA     0.197173 1.778093e-05       3.683687e-03\n",
      "   KIFC2     0.166818 1.810715e-05       3.706076e-03\n",
      "   MAP1A     0.155509 1.860531e-05       3.762702e-03\n",
      "     APC     0.169761 1.889137e-05       3.775606e-03\n",
      "    NRGN     0.185256 1.935318e-05       3.822928e-03\n",
      "  CACNB3     0.164978 2.156075e-05       4.194513e-03\n",
      "    SHC3     0.119470 2.172811e-05       4.194513e-03\n",
      "   STMN2     0.198133 2.223742e-05       4.244599e-03\n",
      "    NRG3     0.181395 2.340529e-05       4.417879e-03\n",
      "  VSTM2A     0.170399 2.568539e-05       4.733113e-03\n",
      "    KLC1     0.226301 2.590060e-05       4.733113e-03\n",
      "   SYNJ1     0.173186 2.591120e-05       4.733113e-03\n",
      "   AP3B2     0.182733 2.846517e-05       5.144322e-03\n",
      "SLC25A22     0.148583 2.972414e-05       5.315302e-03\n",
      "   PLCD4     0.112900 3.097765e-05       5.481753e-03\n",
      "  DBNDD1     0.148482 3.199324e-05       5.489911e-03\n",
      "    DTNB     0.154810 3.173785e-05       5.489911e-03\n",
      "    PALM     0.174259 3.149095e-05       5.489911e-03\n",
      "   CEND1     0.144296 3.298909e-05       5.604187e-03\n",
      "    SYT1     0.214982 3.568059e-05       6.001405e-03\n",
      "  KATNB1     0.167362 3.867642e-05       6.441520e-03\n",
      " CNTNAP2     0.163160 3.957464e-05       6.527126e-03\n",
      "   NTRK2     0.152313 4.128876e-05       6.604206e-03\n",
      "    GNG3     0.186094 4.198577e-05       6.604206e-03\n",
      "  GABRB1     0.176060 4.169033e-05       6.604206e-03\n",
      "   EXTL1     0.122895 4.152849e-05       6.604206e-03\n",
      "  CKMT1B     0.174506 4.111156e-05       6.604206e-03\n",
      "   MCTP1     0.162047 4.358370e-05       6.649376e-03\n",
      "   CPLX1     0.123740 4.383860e-05       6.649376e-03\n",
      " COL11A1     0.151173 4.276834e-05       6.649376e-03\n",
      "HSD11B1L     0.159868 4.309800e-05       6.649376e-03\n",
      "   TTYH1     0.144639 4.600251e-05       6.915846e-03\n",
      "   CHRM3     0.156486 4.862624e-05       7.246163e-03\n",
      "    DLL3     0.182818 5.077945e-05       7.501229e-03\n",
      "   SFXN5     0.114674 5.134219e-05       7.518976e-03\n",
      "  FAM98C     0.129173 5.342667e-05       7.757370e-03\n",
      "   TTBK1     0.159224 5.577080e-05       8.029105e-03\n",
      "  GABRA3     0.172105 5.764402e-05       8.229048e-03\n",
      "  LRRC3B     0.144124 5.830184e-05       8.253597e-03\n",
      "  ABLIM2     0.123431 6.014711e-05       8.444455e-03\n",
      "   NDRG3     0.187842 6.674602e-05       9.251407e-03\n",
      "    PMP2     0.099771 6.824234e-05       9.251407e-03\n",
      "     INA     0.175892 6.916227e-05       9.251407e-03\n",
      "  CAMK2A     0.131720 6.814689e-05       9.251407e-03\n",
      "   RASD2     0.143697 6.864237e-05       9.251407e-03\n",
      "   STOX2     0.159730 6.733327e-05       9.251407e-03\n",
      "  PPFIA2     0.167404 7.012768e-05       9.307258e-03\n",
      " ANKRD35     0.114046 7.302233e-05       9.616306e-03\n",
      "   DDHD2     0.137829 7.921766e-05       1.035192e-02\n",
      "  TAGLN3     0.163728 8.010262e-05       1.038766e-02\n",
      "  IGSF21     0.187154 8.436511e-05       1.085753e-02\n",
      "    MAPT     0.206703 8.894255e-05       1.136057e-02\n",
      " SLC6A17     0.174970 9.116135e-05       1.155708e-02\n",
      "     TNR     0.126782 9.202809e-05       1.158054e-02\n",
      "  PARD6A     0.136769 9.718753e-05       1.213987e-02\n",
      "    ULK2     0.187225 9.954189e-05       1.220017e-02\n",
      "  ZNF706     0.159178 9.982482e-05       1.220017e-02\n",
      "  CACNG2     0.176683 9.963065e-05       1.220017e-02\n",
      "   AGAP3     0.163295 1.015935e-04       1.232764e-02\n",
      "    FSD1     0.196282 1.050931e-04       1.266186e-02\n",
      "    MXD4     0.136422 1.172472e-04       1.402673e-02\n",
      " PPP2R5B     0.174135 1.258176e-04       1.474488e-02\n",
      "    GAD2     0.109645 1.243270e-04       1.474488e-02\n",
      "   OLFM1     0.130172 1.258540e-04       1.474488e-02\n",
      "   NR2F1     0.148320 1.429272e-04       1.663046e-02\n",
      "  TMEFF2     0.165659 1.495104e-04       1.727811e-02\n",
      "   KCNC2     0.137266 1.522853e-04       1.747989e-02\n",
      "   CPEB1     0.142127 1.538985e-04       1.754649e-02\n",
      "   PRMT8     0.150023 1.603464e-04       1.815976e-02\n",
      "  HPCAL4     0.151855 1.653759e-04       1.860534e-02\n",
      "  KCNMA1     0.131146 1.679526e-04       1.864822e-02\n",
      "   KIF1B     0.182362 1.679243e-04       1.864822e-02\n",
      "   BEND6     0.148147 1.759053e-04       1.932066e-02\n",
      "   KCNH3     0.128195 1.762834e-04       1.932066e-02\n",
      " CCDC85A     0.143442 1.776603e-04       1.934675e-02\n",
      " TBC1D9B     0.113830 1.802853e-04       1.950756e-02\n",
      "  ELOVL7     0.080796 1.844814e-04       1.980278e-02\n",
      " ST3GAL5     0.145637 1.853451e-04       1.980278e-02\n",
      "  GALNT9     0.099611 1.881947e-04       1.998157e-02\n",
      "  GABRA2     0.145766 1.908313e-04       2.013567e-02\n",
      "   CLCN4     0.132858 1.926959e-04       2.015581e-02\n",
      "   BRSK1     0.134134 1.933952e-04       2.015581e-02\n",
      "   DGCR5     0.110990 1.994284e-04       2.065786e-02\n",
      " SNRNP25     0.090461 2.077730e-04       2.135815e-02\n",
      "    SYN2     0.125524 2.087034e-04       2.135815e-02\n",
      " FAM171B     0.141650 2.114034e-04       2.147810e-02\n",
      "   MAPK4     0.100590 2.124041e-04       2.147810e-02\n",
      "   UCHL1     0.195550 2.208904e-04       2.207345e-02\n",
      "   TIAM1     0.123126 2.197467e-04       2.207345e-02\n",
      "  SERGEF     0.101009 2.247409e-04       2.232689e-02\n",
      " ATP6V1H     0.162742 2.289043e-04       2.237600e-02\n",
      "   HABP4     0.116439 2.276195e-04       2.237600e-02\n",
      "   ATP9A     0.163911 2.291867e-04       2.237600e-02\n",
      "    BCAN     0.105311 2.364264e-04       2.272715e-02\n",
      "  EMX2OS     0.091902 2.367968e-04       2.272715e-02\n",
      " OSBPL1A     0.119973 2.355505e-04       2.272715e-02\n",
      "   KIF3C     0.155821 2.505187e-04       2.390905e-02\n",
      "    GIT1     0.165683 2.554552e-04       2.424398e-02\n",
      "  TSPAN7     0.155981 2.630081e-04       2.482212e-02\n",
      "    CHL1     0.171580 2.709342e-04       2.531167e-02\n",
      "   PTPRN     0.154096 2.711752e-04       2.531167e-02\n",
      "    PKP4     0.131940 2.773839e-04       2.574971e-02\n",
      "   NDST3     0.123883 2.818296e-04       2.602022e-02\n",
      "   PDE8B     0.121992 2.883271e-04       2.647622e-02\n",
      "   PRKCB     0.136047 2.919714e-04       2.666673e-02\n",
      "   RUFY3     0.179072 2.955578e-04       2.684992e-02\n",
      "TMEM170B     0.137052 2.998065e-04       2.709102e-02\n",
      "  MAP6D1     0.131288 3.041205e-04       2.719158e-02\n",
      "   KCNT1     0.101571 3.027531e-04       2.719158e-02\n",
      "  ELAVL3     0.162482 3.118247e-04       2.773444e-02\n",
      "    CUX2     0.143913 3.147176e-04       2.784595e-02\n",
      "  SCUBE2     0.085749 3.246365e-04       2.857474e-02\n",
      "SERPINI1     0.122117 3.309389e-04       2.897933e-02\n",
      "    NGRN     0.131240 3.396298e-04       2.958785e-02\n",
      "  RGS7BP     0.108910 3.432680e-04       2.964643e-02\n",
      "   KCNB1     0.126034 3.437925e-04       2.964643e-02\n",
      "  ELOVL4     0.163925 3.599559e-04       3.088349e-02\n",
      "  SLC9A2     0.101549 3.648591e-04       3.114687e-02\n",
      "  KCNAB1     0.115185 3.714489e-04       3.155087e-02\n",
      "  SPTBN2     0.123930 3.790768e-04       3.203859e-02\n",
      "   RIMS3     0.123147 3.814291e-04       3.207781e-02\n",
      "     NSF     0.147245 3.980840e-04       3.331355e-02\n",
      "   KCNK2     0.105354 4.184783e-04       3.484858e-02\n",
      "   SPEF1     0.117456 4.236586e-04       3.495083e-02\n",
      "   ZBTB4     0.124233 4.238210e-04       3.495083e-02\n",
      " FAM184A     0.108342 4.346211e-04       3.566833e-02\n",
      " PHACTR3     0.151142 4.383866e-04       3.580438e-02\n",
      "  GPR162     0.137856 4.418980e-04       3.591848e-02\n",
      "    LIX1     0.110901 4.455228e-04       3.604067e-02\n",
      "    PLD6     0.092033 4.567233e-04       3.677164e-02\n",
      "   DACT3     0.147719 4.595173e-04       3.682207e-02\n",
      "    WDR7     0.146797 4.624502e-04       3.688312e-02\n",
      "   MATR3     0.145534 4.766346e-04       3.783677e-02\n",
      "   KCNF1     0.097256 4.843072e-04       3.826702e-02\n",
      "  PKNOX2     0.137160 4.878156e-04       3.836579e-02\n",
      "  FBXW11     0.149783 4.913618e-04       3.842838e-02\n",
      "  PTPN13     0.129202 4.931356e-04       3.842838e-02\n",
      "  MAPRE3     0.130784 5.052709e-04       3.918239e-02\n",
      "   KCNJ3     0.116258 5.074244e-04       3.918239e-02\n",
      "  CNRIP1     0.167718 5.161968e-04       3.950068e-02\n",
      "  ATP1A2     0.078218 5.138885e-04       3.950068e-02\n",
      "   KCTD2     0.151808 5.274591e-04       4.018150e-02\n",
      "  SLC8A2     0.164603 5.330220e-04       4.042401e-02\n",
      "   FBXW7     0.134916 5.387017e-04       4.067317e-02\n",
      "   CLCN6     0.120421 5.438119e-04       4.080584e-02\n",
      " PHYHIPL     0.163147 5.452629e-04       4.080584e-02\n",
      "   DUSP8     0.125627 5.553908e-04       4.138148e-02\n",
      "    FRZB     0.089496 5.681140e-04       4.197745e-02\n",
      "    HCN1     0.113047 5.683314e-04       4.197745e-02\n",
      "   GRIK1     0.124642 5.750766e-04       4.229178e-02\n",
      "   SULF2     0.077999 5.777708e-04       4.230677e-02\n",
      "    BEX2     0.141698 5.856830e-04       4.241106e-02\n",
      "  TCEAL3     0.119400 5.866846e-04       4.241106e-02\n",
      "   PLCD3     0.115103 5.820810e-04       4.241106e-02\n",
      "    GAD1     0.129978 6.108239e-04       4.396897e-02\n",
      "  CAMTA1     0.133257 6.208426e-04       4.450158e-02\n",
      "  LANCL2     0.134767 6.346478e-04       4.522644e-02\n",
      "  B3GAT1     0.126546 6.362797e-04       4.522644e-02\n",
      "  ANKS1B     0.159587 6.502776e-04       4.583783e-02\n",
      "  PPP4R4     0.096205 6.490270e-04       4.583783e-02\n",
      "    EPN2     0.136880 6.613098e-04       4.642286e-02\n",
      "  SHANK2     0.148388 6.810770e-04       4.751977e-02\n",
      "   APBA2     0.148777 6.825302e-04       4.751977e-02\n",
      " PPP1R9B     0.107132 7.001796e-04       4.854960e-02\n",
      "  ZNF540     0.106253 7.079638e-04       4.888979e-02\n",
      "   PHF14     0.145137 7.133620e-04       4.906313e-02\n"
     ]
    },
    {
     "name": "stderr",
     "output_type": "stream",
     "text": [
      "/home/yxcheng/AI4Science_gold_standard/stage1/Yuxuan/../utils.py:478: SettingWithCopyWarning: \n",
      "A value is trying to be set on a copy of a slice from a DataFrame.\n",
      "Try using .loc[row_indexer,col_indexer] = value instead\n",
      "\n",
      "See the caveats in the documentation: https://pandas.pydata.org/pandas-docs/stable/user_guide/indexing.html#returning-a-view-versus-a-copy\n",
      "  gene_regression_df.loc[:, 'corrected_p_value'] = corrected_p_values\n"
     ]
    }
   ],
   "source": [
    "\n",
    "interpret_result(model2, feature_cols, TRAIT, condition, threshold=threshold, save_output=True,\n",
    "                 output_dir=OUTPUT_DIR, model_id=2)"
   ]
  }
 ],
 "metadata": {
  "colab": {
   "provenance": []
  },
  "kernelspec": {
   "display_name": "Python 3 (ipykernel)",
   "language": "python",
   "name": "python3"
  },
  "language_info": {
   "codemirror_mode": {
    "name": "ipython",
    "version": 3
   },
   "file_extension": ".py",
   "mimetype": "text/x-python",
   "name": "python",
   "nbconvert_exporter": "python",
   "pygments_lexer": "ipython3",
   "version": "3.11.9"
  }
 },
 "nbformat": 4,
 "nbformat_minor": 0
}
