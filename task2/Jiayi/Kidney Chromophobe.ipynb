{
 "cells": [
  {
   "cell_type": "markdown",
   "metadata": {
    "collapsed": false
   },
   "source": [
    "# 1. Basic setup"
   ]
  },
  {
   "cell_type": "code",
   "execution_count": 1,
   "metadata": {
    "ExecuteTime": {
     "end_time": "2024-02-27T00:22:19.918139380Z",
     "start_time": "2024-02-27T00:22:19.235047906Z"
    },
    "collapsed": false
   },
   "outputs": [
    {
     "name": "stdout",
     "output_type": "stream",
     "text": [
      "utils.py has been loaded\n"
     ]
    }
   ],
   "source": [
    "import os\n",
    "import sys\n",
    "\n",
    "sys.path.append('..')\n",
    "from utils import *\n",
    "\n",
    "USER = \"Jiayi\"\n",
    "DATA_ROOT = '/Users/legion/Desktop/Courses/IS389/data'   \n",
    "OUTPUT_ROOT = '/Users/legion/Desktop/Courses/IS389/output2'\n",
    "TRAIT = 'Kidney Chromophobe'\n",
    "\n",
    "OUTPUT_DIR = os.path.join(OUTPUT_ROOT, USER, '-'.join(TRAIT.split()))\n",
    "JSON_PATH = os.path.join(OUTPUT_DIR, \"cohort_info.json\")\n",
    "if not os.path.exists(OUTPUT_DIR):\n",
    "    os.makedirs(OUTPUT_DIR, exist_ok=True)\n"
   ]
  },
  {
   "cell_type": "markdown",
   "metadata": {
    "collapsed": false
   },
   "source": [
    "# 2. Data preprocessing and selection"
   ]
  },
  {
   "cell_type": "markdown",
   "metadata": {
    "collapsed": false
   },
   "source": [
    "## 2.1. The TCGA Xena dataset"
   ]
  },
  {
   "cell_type": "markdown",
   "metadata": {
    "collapsed": false
   },
   "source": [
    "In TCGA Xena, there is either zero or one cohort related to the trait. We search the names of subdirectories to see if any matches the trait. If a match is found, we directly obtain the file paths."
   ]
  },
  {
   "cell_type": "code",
   "execution_count": 2,
   "metadata": {
    "ExecuteTime": {
     "end_time": "2024-02-27T00:22:21.140790869Z",
     "start_time": "2024-02-27T00:22:21.133208795Z"
    },
    "collapsed": false
   },
   "outputs": [
    {
     "data": {
      "text/plain": [
       "['TCGA_Adrenocortical_Cancer_(ACC)',\n",
       " 'TCGA_Breast_Cancer_(BRCA)',\n",
       " 'TCGA_Cervical_Cancer_(CESC)',\n",
       " 'TCGA_Kidney_Chromophobe_(KICH)',\n",
       " 'TCGA_Kidney_Papillary_Cell_Carcinoma_(KIRP)',\n",
       " 'TCGA_Lower_Grade_Glioma_(LGG)',\n",
       " 'TCGA_Melanoma_(SKCM)',\n",
       " 'TCGA_Mesothelioma_(MESO)',\n",
       " 'TCGA_Testicular_Cancer_(TGCT)',\n",
       " 'TCGA_Uterine_Carcinosarcoma_(UCS)']"
      ]
     },
     "execution_count": 2,
     "metadata": {},
     "output_type": "execute_result"
    }
   ],
   "source": [
    "dataset = 'TCGA'\n",
    "dataset_dir = os.path.join(DATA_ROOT, dataset)\n",
    "os.listdir(dataset_dir)[:10]"
   ]
  },
  {
   "cell_type": "code",
   "execution_count": 3,
   "metadata": {
    "ExecuteTime": {
     "end_time": "2024-02-27T00:22:21.985144212Z",
     "start_time": "2024-02-27T00:22:21.981084968Z"
    },
    "collapsed": false
   },
   "outputs": [
    {
     "data": {
      "text/plain": [
       "('/Users/legion/Desktop/Courses/IS389/data\\\\TCGA\\\\TCGA_Kidney_Chromophobe_(KICH)\\\\TCGA.KICH.sampleMap_KICH_clinicalMatrix',\n",
       " '/Users/legion/Desktop/Courses/IS389/data\\\\TCGA\\\\TCGA_Kidney_Chromophobe_(KICH)\\\\TCGA.KICH.sampleMap_HiSeqV2_PANCAN.gz')"
      ]
     },
     "execution_count": 3,
     "metadata": {},
     "output_type": "execute_result"
    }
   ],
   "source": [
    "trait_subdir = \"TCGA_Kidney_Chromophobe_(KICH)\"\n",
    "cohort = 'Xena'\n",
    "trait_type = 'binary'\n",
    "is_available = True\n",
    "\n",
    "cohort_dir = os.path.join(DATA_ROOT, dataset, trait_subdir)\n",
    "clinical_data_file, genetic_data_file = xena_get_relevant_filepaths(cohort_dir)\n",
    "clinical_data_file, genetic_data_file"
   ]
  },
  {
   "cell_type": "code",
   "execution_count": 4,
   "metadata": {
    "ExecuteTime": {
     "end_time": "2024-02-27T00:22:25.794819905Z",
     "start_time": "2024-02-27T00:22:22.357077391Z"
    },
    "id": "MudwB-_iz7sc"
   },
   "outputs": [],
   "source": [
    "import pandas as pd\n",
    "\n",
    "clinical_data = pd.read_csv(clinical_data_file, sep='\\t', index_col=0)\n",
    "genetic_data = pd.read_csv(genetic_data_file, compression='gzip', sep='\\t', index_col=0)\n",
    "age_col = gender_col = None"
   ]
  },
  {
   "cell_type": "code",
   "execution_count": 5,
   "metadata": {
    "ExecuteTime": {
     "end_time": "2024-02-27T00:22:25.798785383Z",
     "start_time": "2024-02-27T00:22:25.796474039Z"
    },
    "collapsed": false
   },
   "outputs": [
    {
     "data": {
      "text/plain": [
       "['_INTEGRATION',\n",
       " '_PATIENT',\n",
       " '_cohort',\n",
       " '_primary_disease',\n",
       " '_primary_site',\n",
       " 'additional_pharmaceutical_therapy',\n",
       " 'additional_radiation_therapy',\n",
       " 'additional_surgery_locoregional_procedure',\n",
       " 'additional_surgery_metastatic_procedure',\n",
       " 'age_at_initial_pathologic_diagnosis']"
      ]
     },
     "execution_count": 5,
     "metadata": {},
     "output_type": "execute_result"
    }
   ],
   "source": [
    "_, clinical_data_cols = check_rows_and_columns(clinical_data)\n",
    "clinical_data_cols[:10]"
   ]
  },
  {
   "cell_type": "markdown",
   "metadata": {
    "ExecuteTime": {
     "end_time": "2023-12-28T20:20:11.841042813Z",
     "start_time": "2023-12-28T20:20:11.834458206Z"
    },
    "collapsed": false
   },
   "source": [
    "Read all the column names in the clinical dataset, to find the columns that record information about age or gender.\n",
    "Reference prompt:"
   ]
  },
  {
   "cell_type": "code",
   "execution_count": 6,
   "metadata": {
    "ExecuteTime": {
     "end_time": "2024-02-27T00:22:25.802838875Z",
     "start_time": "2024-02-27T00:22:25.798659327Z"
    },
    "collapsed": false
   },
   "outputs": [
    {
     "data": {
      "text/plain": [
       "\"\\nBelow is a list of column names from a biomedical dataset. Please examine it and identify the columns that are likely to contain information about patients' age. Additionally, please do the same for columns that may hold data on patients' gender. Please provide your answer by strictly following this format, without redundant words:\\ncandidate_age_cols = [col_name1, col_name2, ...]\\ncandidate_gender_cols = [col_name1, col_name2, ...]\\nIf no columns match a criterion, please provide an empty list.\\n\\nColumn names:\\n['_INTEGRATION', '_PATIENT', '_cohort', '_primary_disease', '_primary_site', 'additional_pharmaceutical_therapy', 'additional_radiation_therapy', 'additional_surgery_locoregional_procedure', 'additional_surgery_metastatic_procedure', 'age_at_initial_pathologic_diagnosis', 'bcr_followup_barcode', 'bcr_patient_barcode', 'bcr_sample_barcode', 'clinical_M', 'days_to_additional_surgery_metastatic_procedure', 'days_to_birth', 'days_to_death', 'days_to_initial_pathologic_diagnosis', 'days_to_last_followup', 'days_to_new_tumor_event_after_initial_treatment', 'eastern_cancer_oncology_group', 'followup_case_report_form_submission_reason', 'followup_treatment_success', 'form_completion_date', 'gender', 'hemoglobin_result', 'histological_type', 'history_of_neoadjuvant_treatment', 'icd_10', 'icd_o_3_histology', 'icd_o_3_site', 'informed_consent_verified', 'intermediate_dimension', 'is_ffpe', 'karnofsky_performance_score', 'lactate_dehydrogenase_result', 'laterality', 'longest_dimension', 'lost_follow_up', 'lymph_node_examined_count', 'new_tumor_event_after_initial_treatment', 'number_of_lymphnodes_positive', 'number_pack_years_smoked', 'other_dx', 'pathologic_M', 'pathologic_N', 'pathologic_T', 'pathologic_stage', 'pathology_report_file_name', 'patient_id', 'percent_tumor_sarcomatoid', 'performance_status_scale_timing', 'person_neoplasm_cancer_status', 'platelet_qualitative_result', 'presence_of_sarcomatoid_features', 'primary_lymph_node_presentation_assessment', 'primary_therapy_outcome_success', 'radiation_therapy', 'sample_type', 'sample_type_id', 'serum_calcium_result', 'shortest_dimension', 'stopped_smoking_year', 'system_version', 'targeted_molecular_therapy', 'tissue_prospective_collection_indicator', 'tissue_retrospective_collection_indicator', 'tissue_source_site', 'tobacco_smoking_history', 'tumor_tissue_site', 'vial_number', 'vital_status', 'white_cell_count_result', 'year_of_initial_pathologic_diagnosis', 'year_of_tobacco_smoking_onset', '_GENOMIC_ID_TCGA_KICH_PDMRNAseq', '_GENOMIC_ID_TCGA_KICH_exp_HiSeqV2_percentile', '_GENOMIC_ID_TCGA_KICH_gistic2thd', '_GENOMIC_ID_TCGA_KICH_mutation_bcgsc_gene', '_GENOMIC_ID_TCGA_KICH_exp_HiSeqV2', '_GENOMIC_ID_TCGA_KICH_RPPA', '_GENOMIC_ID_TCGA_KICH_miRNA_HiSeq', '_GENOMIC_ID_TCGA_KICH_mutation_bcm_gene', '_GENOMIC_ID_TCGA_KICH_exp_HiSeqV2_exon', '_GENOMIC_ID_TCGA_KICH_PDMRNAseqCNV', '_GENOMIC_ID_TCGA_KICH_exp_HiSeqV2_PANCAN', '_GENOMIC_ID_TCGA_KICH_hMethyl450', '_GENOMIC_ID_TCGA_KICH_mutation_broad_gene', '_GENOMIC_ID_data/public/TCGA/KICH/miRNA_HiSeq_gene', '_GENOMIC_ID_TCGA_KICH_gistic2']\\n\""
      ]
     },
     "execution_count": 6,
     "metadata": {},
     "output_type": "execute_result"
    }
   ],
   "source": [
    "f'''\n",
    "Below is a list of column names from a biomedical dataset. Please examine it and identify the columns that are likely to contain information about patients' age. Additionally, please do the same for columns that may hold data on patients' gender. Please provide your answer by strictly following this format, without redundant words:\n",
    "candidate_age_cols = [col_name1, col_name2, ...]\n",
    "candidate_gender_cols = [col_name1, col_name2, ...]\n",
    "If no columns match a criterion, please provide an empty list.\n",
    "\n",
    "Column names:\n",
    "{clinical_data_cols}\n",
    "'''"
   ]
  },
  {
   "cell_type": "code",
   "execution_count": 7,
   "metadata": {
    "ExecuteTime": {
     "end_time": "2024-02-27T00:22:25.864092575Z",
     "start_time": "2024-02-27T00:22:25.802001989Z"
    },
    "collapsed": false
   },
   "outputs": [],
   "source": [
    "candidate_age_cols = ['age_at_initial_pathologic_diagnosis']\n",
    "candidate_gender_cols = ['gender']"
   ]
  },
  {
   "cell_type": "markdown",
   "metadata": {
    "ExecuteTime": {
     "end_time": "2023-12-31T03:57:44.207565572Z",
     "start_time": "2023-12-31T03:57:44.202177544Z"
    },
    "collapsed": false
   },
   "source": [
    "\n",
    "Choose a single column from the candidate columns that record age and gender information respectively.\n",
    "If no column meets the requirement, keep 'age_col' or 'gender_col' to None"
   ]
  },
  {
   "cell_type": "code",
   "execution_count": 8,
   "metadata": {
    "ExecuteTime": {
     "end_time": "2024-02-27T00:22:26.108535524Z",
     "start_time": "2024-02-27T00:22:26.101435803Z"
    },
    "collapsed": false
   },
   "outputs": [],
   "source": [
    "age_col = 'age_at_initial_pathologic_diagnosis'\n",
    "gender_col = 'gender'\n",
    "selected_clinical_data = xena_select_clinical_features(clinical_data, TRAIT, age_col=age_col, gender_col=gender_col)"
   ]
  },
  {
   "cell_type": "code",
   "execution_count": 9,
   "metadata": {
    "ExecuteTime": {
     "end_time": "2024-02-27T00:23:16.602458026Z",
     "start_time": "2024-02-27T00:22:27.839636769Z"
    },
    "collapsed": false
   },
   "outputs": [],
   "source": [
    "genetic_data = normalize_gene_symbols_in_index(genetic_data)"
   ]
  },
  {
   "cell_type": "code",
   "execution_count": 10,
   "metadata": {},
   "outputs": [
    {
     "data": {
      "text/html": [
       "<div>\n",
       "<style scoped>\n",
       "    .dataframe tbody tr th:only-of-type {\n",
       "        vertical-align: middle;\n",
       "    }\n",
       "\n",
       "    .dataframe tbody tr th {\n",
       "        vertical-align: top;\n",
       "    }\n",
       "\n",
       "    .dataframe thead th {\n",
       "        text-align: right;\n",
       "    }\n",
       "</style>\n",
       "<table border=\"1\" class=\"dataframe\">\n",
       "  <thead>\n",
       "    <tr style=\"text-align: right;\">\n",
       "      <th></th>\n",
       "      <th>TCGA-KN-8419-01</th>\n",
       "      <th>TCGA-KL-8346-01</th>\n",
       "      <th>TCGA-KN-8422-01</th>\n",
       "      <th>TCGA-KN-8431-11</th>\n",
       "      <th>TCGA-KN-8430-11</th>\n",
       "      <th>TCGA-KM-8440-01</th>\n",
       "      <th>TCGA-KO-8414-01</th>\n",
       "      <th>TCGA-KL-8323-01</th>\n",
       "      <th>TCGA-KM-8639-01</th>\n",
       "      <th>TCGA-KO-8415-11</th>\n",
       "      <th>...</th>\n",
       "      <th>TCGA-KN-8421-01</th>\n",
       "      <th>TCGA-KO-8417-01</th>\n",
       "      <th>TCGA-KM-8438-01</th>\n",
       "      <th>TCGA-KL-8340-01</th>\n",
       "      <th>TCGA-KO-8406-01</th>\n",
       "      <th>TCGA-KO-8408-01</th>\n",
       "      <th>TCGA-KM-8443-01</th>\n",
       "      <th>TCGA-KM-8442-01</th>\n",
       "      <th>TCGA-KL-8332-11</th>\n",
       "      <th>TCGA-KL-8327-01</th>\n",
       "    </tr>\n",
       "  </thead>\n",
       "  <tbody>\n",
       "    <tr>\n",
       "      <th>ARHGEF10L</th>\n",
       "      <td>0.257008</td>\n",
       "      <td>0.964108</td>\n",
       "      <td>0.816608</td>\n",
       "      <td>1.059108</td>\n",
       "      <td>1.249508</td>\n",
       "      <td>0.780508</td>\n",
       "      <td>0.980108</td>\n",
       "      <td>-0.295492</td>\n",
       "      <td>2.236608</td>\n",
       "      <td>0.908808</td>\n",
       "      <td>...</td>\n",
       "      <td>0.826308</td>\n",
       "      <td>0.301308</td>\n",
       "      <td>-0.360592</td>\n",
       "      <td>0.154508</td>\n",
       "      <td>0.552708</td>\n",
       "      <td>0.850708</td>\n",
       "      <td>0.726308</td>\n",
       "      <td>0.377608</td>\n",
       "      <td>0.691208</td>\n",
       "      <td>1.040008</td>\n",
       "    </tr>\n",
       "    <tr>\n",
       "      <th>HIF3A</th>\n",
       "      <td>-1.608126</td>\n",
       "      <td>-2.427326</td>\n",
       "      <td>-2.976826</td>\n",
       "      <td>1.754774</td>\n",
       "      <td>2.650674</td>\n",
       "      <td>-2.327726</td>\n",
       "      <td>-0.067726</td>\n",
       "      <td>-3.487426</td>\n",
       "      <td>-0.698526</td>\n",
       "      <td>1.916374</td>\n",
       "      <td>...</td>\n",
       "      <td>-1.335726</td>\n",
       "      <td>-1.632126</td>\n",
       "      <td>0.457674</td>\n",
       "      <td>-1.470526</td>\n",
       "      <td>-1.885926</td>\n",
       "      <td>-0.121726</td>\n",
       "      <td>-1.197026</td>\n",
       "      <td>-3.668326</td>\n",
       "      <td>0.663774</td>\n",
       "      <td>0.647674</td>\n",
       "    </tr>\n",
       "    <tr>\n",
       "      <th>RNF17</th>\n",
       "      <td>-0.531035</td>\n",
       "      <td>-0.531035</td>\n",
       "      <td>-0.531035</td>\n",
       "      <td>-0.531035</td>\n",
       "      <td>-0.531035</td>\n",
       "      <td>-0.531035</td>\n",
       "      <td>-0.531035</td>\n",
       "      <td>-0.531035</td>\n",
       "      <td>-0.531035</td>\n",
       "      <td>0.014365</td>\n",
       "      <td>...</td>\n",
       "      <td>-0.531035</td>\n",
       "      <td>-0.531035</td>\n",
       "      <td>-0.531035</td>\n",
       "      <td>-0.531035</td>\n",
       "      <td>-0.531035</td>\n",
       "      <td>-0.531035</td>\n",
       "      <td>-0.531035</td>\n",
       "      <td>-0.531035</td>\n",
       "      <td>-0.531035</td>\n",
       "      <td>-0.531035</td>\n",
       "    </tr>\n",
       "    <tr>\n",
       "      <th>RNF10</th>\n",
       "      <td>0.890128</td>\n",
       "      <td>1.293828</td>\n",
       "      <td>0.925828</td>\n",
       "      <td>0.546928</td>\n",
       "      <td>0.702228</td>\n",
       "      <td>0.581128</td>\n",
       "      <td>1.434328</td>\n",
       "      <td>0.359428</td>\n",
       "      <td>0.797228</td>\n",
       "      <td>0.330828</td>\n",
       "      <td>...</td>\n",
       "      <td>0.701928</td>\n",
       "      <td>0.747728</td>\n",
       "      <td>1.093628</td>\n",
       "      <td>0.640128</td>\n",
       "      <td>0.393228</td>\n",
       "      <td>1.213428</td>\n",
       "      <td>1.045428</td>\n",
       "      <td>0.668028</td>\n",
       "      <td>0.035528</td>\n",
       "      <td>0.602928</td>\n",
       "    </tr>\n",
       "    <tr>\n",
       "      <th>RNF11</th>\n",
       "      <td>0.952122</td>\n",
       "      <td>0.350422</td>\n",
       "      <td>0.932922</td>\n",
       "      <td>0.568222</td>\n",
       "      <td>0.330522</td>\n",
       "      <td>0.872422</td>\n",
       "      <td>0.283722</td>\n",
       "      <td>0.850422</td>\n",
       "      <td>0.617222</td>\n",
       "      <td>0.726922</td>\n",
       "      <td>...</td>\n",
       "      <td>0.505022</td>\n",
       "      <td>0.668122</td>\n",
       "      <td>0.657722</td>\n",
       "      <td>0.770122</td>\n",
       "      <td>0.867222</td>\n",
       "      <td>0.240622</td>\n",
       "      <td>0.627322</td>\n",
       "      <td>0.675022</td>\n",
       "      <td>1.234822</td>\n",
       "      <td>0.143422</td>\n",
       "    </tr>\n",
       "    <tr>\n",
       "      <th>...</th>\n",
       "      <td>...</td>\n",
       "      <td>...</td>\n",
       "      <td>...</td>\n",
       "      <td>...</td>\n",
       "      <td>...</td>\n",
       "      <td>...</td>\n",
       "      <td>...</td>\n",
       "      <td>...</td>\n",
       "      <td>...</td>\n",
       "      <td>...</td>\n",
       "      <td>...</td>\n",
       "      <td>...</td>\n",
       "      <td>...</td>\n",
       "      <td>...</td>\n",
       "      <td>...</td>\n",
       "      <td>...</td>\n",
       "      <td>...</td>\n",
       "      <td>...</td>\n",
       "      <td>...</td>\n",
       "      <td>...</td>\n",
       "      <td>...</td>\n",
       "    </tr>\n",
       "    <tr>\n",
       "      <th>GNGT1</th>\n",
       "      <td>1.217210</td>\n",
       "      <td>1.124410</td>\n",
       "      <td>-0.352490</td>\n",
       "      <td>-0.340290</td>\n",
       "      <td>-0.531490</td>\n",
       "      <td>4.614510</td>\n",
       "      <td>2.826310</td>\n",
       "      <td>-0.797090</td>\n",
       "      <td>0.631510</td>\n",
       "      <td>-0.735990</td>\n",
       "      <td>...</td>\n",
       "      <td>1.273010</td>\n",
       "      <td>2.212910</td>\n",
       "      <td>-0.710790</td>\n",
       "      <td>5.190910</td>\n",
       "      <td>3.372210</td>\n",
       "      <td>-1.281390</td>\n",
       "      <td>-1.281390</td>\n",
       "      <td>1.955710</td>\n",
       "      <td>0.246610</td>\n",
       "      <td>1.454210</td>\n",
       "    </tr>\n",
       "    <tr>\n",
       "      <th>TULP3</th>\n",
       "      <td>-1.385877</td>\n",
       "      <td>-1.782277</td>\n",
       "      <td>-1.814177</td>\n",
       "      <td>-0.256377</td>\n",
       "      <td>-0.236177</td>\n",
       "      <td>-1.816577</td>\n",
       "      <td>-0.695777</td>\n",
       "      <td>-1.328077</td>\n",
       "      <td>-0.343577</td>\n",
       "      <td>-0.293877</td>\n",
       "      <td>...</td>\n",
       "      <td>-0.527977</td>\n",
       "      <td>-1.313977</td>\n",
       "      <td>-1.251077</td>\n",
       "      <td>-0.998277</td>\n",
       "      <td>-1.109277</td>\n",
       "      <td>-1.842577</td>\n",
       "      <td>-1.526577</td>\n",
       "      <td>-1.119977</td>\n",
       "      <td>-0.389377</td>\n",
       "      <td>-1.161377</td>\n",
       "    </tr>\n",
       "    <tr>\n",
       "      <th>BCL6B</th>\n",
       "      <td>1.992473</td>\n",
       "      <td>0.141973</td>\n",
       "      <td>0.097473</td>\n",
       "      <td>1.239873</td>\n",
       "      <td>0.437773</td>\n",
       "      <td>-0.504027</td>\n",
       "      <td>0.164073</td>\n",
       "      <td>0.933073</td>\n",
       "      <td>-0.169027</td>\n",
       "      <td>1.522073</td>\n",
       "      <td>...</td>\n",
       "      <td>-2.038527</td>\n",
       "      <td>0.217073</td>\n",
       "      <td>2.418173</td>\n",
       "      <td>0.946373</td>\n",
       "      <td>0.921673</td>\n",
       "      <td>0.736373</td>\n",
       "      <td>-0.095527</td>\n",
       "      <td>0.793373</td>\n",
       "      <td>0.742973</td>\n",
       "      <td>1.130973</td>\n",
       "    </tr>\n",
       "    <tr>\n",
       "      <th>GSTK1</th>\n",
       "      <td>1.805805</td>\n",
       "      <td>1.411305</td>\n",
       "      <td>2.360905</td>\n",
       "      <td>0.652505</td>\n",
       "      <td>0.646505</td>\n",
       "      <td>1.609705</td>\n",
       "      <td>2.030605</td>\n",
       "      <td>2.015005</td>\n",
       "      <td>0.610805</td>\n",
       "      <td>0.746705</td>\n",
       "      <td>...</td>\n",
       "      <td>1.141605</td>\n",
       "      <td>1.702505</td>\n",
       "      <td>2.053205</td>\n",
       "      <td>1.577805</td>\n",
       "      <td>1.480605</td>\n",
       "      <td>2.513905</td>\n",
       "      <td>1.527905</td>\n",
       "      <td>0.928605</td>\n",
       "      <td>2.015505</td>\n",
       "      <td>2.087105</td>\n",
       "    </tr>\n",
       "    <tr>\n",
       "      <th>SELP</th>\n",
       "      <td>1.022267</td>\n",
       "      <td>-5.009633</td>\n",
       "      <td>-0.292833</td>\n",
       "      <td>2.980267</td>\n",
       "      <td>2.294467</td>\n",
       "      <td>0.485367</td>\n",
       "      <td>0.629067</td>\n",
       "      <td>0.025067</td>\n",
       "      <td>0.887167</td>\n",
       "      <td>3.361067</td>\n",
       "      <td>...</td>\n",
       "      <td>-2.643033</td>\n",
       "      <td>-1.637033</td>\n",
       "      <td>-3.969433</td>\n",
       "      <td>-2.833933</td>\n",
       "      <td>-0.278133</td>\n",
       "      <td>0.557067</td>\n",
       "      <td>-0.951333</td>\n",
       "      <td>0.467967</td>\n",
       "      <td>1.723167</td>\n",
       "      <td>-3.010233</td>\n",
       "    </tr>\n",
       "  </tbody>\n",
       "</table>\n",
       "<p>17339 rows × 91 columns</p>\n",
       "</div>"
      ],
      "text/plain": [
       "           TCGA-KN-8419-01  TCGA-KL-8346-01  TCGA-KN-8422-01  TCGA-KN-8431-11  \\\n",
       "ARHGEF10L         0.257008         0.964108         0.816608         1.059108   \n",
       "HIF3A            -1.608126        -2.427326        -2.976826         1.754774   \n",
       "RNF17            -0.531035        -0.531035        -0.531035        -0.531035   \n",
       "RNF10             0.890128         1.293828         0.925828         0.546928   \n",
       "RNF11             0.952122         0.350422         0.932922         0.568222   \n",
       "...                    ...              ...              ...              ...   \n",
       "GNGT1             1.217210         1.124410        -0.352490        -0.340290   \n",
       "TULP3            -1.385877        -1.782277        -1.814177        -0.256377   \n",
       "BCL6B             1.992473         0.141973         0.097473         1.239873   \n",
       "GSTK1             1.805805         1.411305         2.360905         0.652505   \n",
       "SELP              1.022267        -5.009633        -0.292833         2.980267   \n",
       "\n",
       "           TCGA-KN-8430-11  TCGA-KM-8440-01  TCGA-KO-8414-01  TCGA-KL-8323-01  \\\n",
       "ARHGEF10L         1.249508         0.780508         0.980108        -0.295492   \n",
       "HIF3A             2.650674        -2.327726        -0.067726        -3.487426   \n",
       "RNF17            -0.531035        -0.531035        -0.531035        -0.531035   \n",
       "RNF10             0.702228         0.581128         1.434328         0.359428   \n",
       "RNF11             0.330522         0.872422         0.283722         0.850422   \n",
       "...                    ...              ...              ...              ...   \n",
       "GNGT1            -0.531490         4.614510         2.826310        -0.797090   \n",
       "TULP3            -0.236177        -1.816577        -0.695777        -1.328077   \n",
       "BCL6B             0.437773        -0.504027         0.164073         0.933073   \n",
       "GSTK1             0.646505         1.609705         2.030605         2.015005   \n",
       "SELP              2.294467         0.485367         0.629067         0.025067   \n",
       "\n",
       "           TCGA-KM-8639-01  TCGA-KO-8415-11  ...  TCGA-KN-8421-01  \\\n",
       "ARHGEF10L         2.236608         0.908808  ...         0.826308   \n",
       "HIF3A            -0.698526         1.916374  ...        -1.335726   \n",
       "RNF17            -0.531035         0.014365  ...        -0.531035   \n",
       "RNF10             0.797228         0.330828  ...         0.701928   \n",
       "RNF11             0.617222         0.726922  ...         0.505022   \n",
       "...                    ...              ...  ...              ...   \n",
       "GNGT1             0.631510        -0.735990  ...         1.273010   \n",
       "TULP3            -0.343577        -0.293877  ...        -0.527977   \n",
       "BCL6B            -0.169027         1.522073  ...        -2.038527   \n",
       "GSTK1             0.610805         0.746705  ...         1.141605   \n",
       "SELP              0.887167         3.361067  ...        -2.643033   \n",
       "\n",
       "           TCGA-KO-8417-01  TCGA-KM-8438-01  TCGA-KL-8340-01  TCGA-KO-8406-01  \\\n",
       "ARHGEF10L         0.301308        -0.360592         0.154508         0.552708   \n",
       "HIF3A            -1.632126         0.457674        -1.470526        -1.885926   \n",
       "RNF17            -0.531035        -0.531035        -0.531035        -0.531035   \n",
       "RNF10             0.747728         1.093628         0.640128         0.393228   \n",
       "RNF11             0.668122         0.657722         0.770122         0.867222   \n",
       "...                    ...              ...              ...              ...   \n",
       "GNGT1             2.212910        -0.710790         5.190910         3.372210   \n",
       "TULP3            -1.313977        -1.251077        -0.998277        -1.109277   \n",
       "BCL6B             0.217073         2.418173         0.946373         0.921673   \n",
       "GSTK1             1.702505         2.053205         1.577805         1.480605   \n",
       "SELP             -1.637033        -3.969433        -2.833933        -0.278133   \n",
       "\n",
       "           TCGA-KO-8408-01  TCGA-KM-8443-01  TCGA-KM-8442-01  TCGA-KL-8332-11  \\\n",
       "ARHGEF10L         0.850708         0.726308         0.377608         0.691208   \n",
       "HIF3A            -0.121726        -1.197026        -3.668326         0.663774   \n",
       "RNF17            -0.531035        -0.531035        -0.531035        -0.531035   \n",
       "RNF10             1.213428         1.045428         0.668028         0.035528   \n",
       "RNF11             0.240622         0.627322         0.675022         1.234822   \n",
       "...                    ...              ...              ...              ...   \n",
       "GNGT1            -1.281390        -1.281390         1.955710         0.246610   \n",
       "TULP3            -1.842577        -1.526577        -1.119977        -0.389377   \n",
       "BCL6B             0.736373        -0.095527         0.793373         0.742973   \n",
       "GSTK1             2.513905         1.527905         0.928605         2.015505   \n",
       "SELP              0.557067        -0.951333         0.467967         1.723167   \n",
       "\n",
       "           TCGA-KL-8327-01  \n",
       "ARHGEF10L         1.040008  \n",
       "HIF3A             0.647674  \n",
       "RNF17            -0.531035  \n",
       "RNF10             0.602928  \n",
       "RNF11             0.143422  \n",
       "...                    ...  \n",
       "GNGT1             1.454210  \n",
       "TULP3            -1.161377  \n",
       "BCL6B             1.130973  \n",
       "GSTK1             2.087105  \n",
       "SELP             -3.010233  \n",
       "\n",
       "[17339 rows x 91 columns]"
      ]
     },
     "execution_count": 10,
     "metadata": {},
     "output_type": "execute_result"
    }
   ],
   "source": [
    "genetic_data"
   ]
  },
  {
   "cell_type": "code",
   "execution_count": 11,
   "metadata": {
    "ExecuteTime": {
     "end_time": "2024-02-27T00:23:16.720144304Z",
     "start_time": "2024-02-27T00:23:16.643071320Z"
    },
    "collapsed": false
   },
   "outputs": [
    {
     "data": {
      "text/html": [
       "<div>\n",
       "<style scoped>\n",
       "    .dataframe tbody tr th:only-of-type {\n",
       "        vertical-align: middle;\n",
       "    }\n",
       "\n",
       "    .dataframe tbody tr th {\n",
       "        vertical-align: top;\n",
       "    }\n",
       "\n",
       "    .dataframe thead th {\n",
       "        text-align: right;\n",
       "    }\n",
       "</style>\n",
       "<table border=\"1\" class=\"dataframe\">\n",
       "  <thead>\n",
       "    <tr style=\"text-align: right;\">\n",
       "      <th></th>\n",
       "      <th>Kidney Chromophobe</th>\n",
       "      <th>Age</th>\n",
       "      <th>Gender</th>\n",
       "      <th>ARHGEF10L</th>\n",
       "      <th>HIF3A</th>\n",
       "      <th>RNF17</th>\n",
       "      <th>RNF10</th>\n",
       "      <th>RNF11</th>\n",
       "      <th>RNF13</th>\n",
       "      <th>GTF2IP1</th>\n",
       "      <th>...</th>\n",
       "      <th>SLC7A10</th>\n",
       "      <th>PLA2G2C</th>\n",
       "      <th>TULP2</th>\n",
       "      <th>NPY5R</th>\n",
       "      <th>GNGT2</th>\n",
       "      <th>GNGT1</th>\n",
       "      <th>TULP3</th>\n",
       "      <th>BCL6B</th>\n",
       "      <th>GSTK1</th>\n",
       "      <th>SELP</th>\n",
       "    </tr>\n",
       "    <tr>\n",
       "      <th>sampleID</th>\n",
       "      <th></th>\n",
       "      <th></th>\n",
       "      <th></th>\n",
       "      <th></th>\n",
       "      <th></th>\n",
       "      <th></th>\n",
       "      <th></th>\n",
       "      <th></th>\n",
       "      <th></th>\n",
       "      <th></th>\n",
       "      <th></th>\n",
       "      <th></th>\n",
       "      <th></th>\n",
       "      <th></th>\n",
       "      <th></th>\n",
       "      <th></th>\n",
       "      <th></th>\n",
       "      <th></th>\n",
       "      <th></th>\n",
       "      <th></th>\n",
       "      <th></th>\n",
       "    </tr>\n",
       "  </thead>\n",
       "  <tbody>\n",
       "    <tr>\n",
       "      <th>TCGA-KL-8323-01</th>\n",
       "      <td>1</td>\n",
       "      <td>57</td>\n",
       "      <td>0</td>\n",
       "      <td>-0.295492</td>\n",
       "      <td>-3.487426</td>\n",
       "      <td>-0.531035</td>\n",
       "      <td>0.359428</td>\n",
       "      <td>0.850422</td>\n",
       "      <td>0.58019</td>\n",
       "      <td>-0.739994</td>\n",
       "      <td>...</td>\n",
       "      <td>-2.090786</td>\n",
       "      <td>0.397618</td>\n",
       "      <td>-0.748878</td>\n",
       "      <td>0.731583</td>\n",
       "      <td>-1.308333</td>\n",
       "      <td>-0.79709</td>\n",
       "      <td>-1.328077</td>\n",
       "      <td>0.933073</td>\n",
       "      <td>2.015005</td>\n",
       "      <td>0.025067</td>\n",
       "    </tr>\n",
       "    <tr>\n",
       "      <th>TCGA-KL-8324-01</th>\n",
       "      <td>1</td>\n",
       "      <td>67</td>\n",
       "      <td>0</td>\n",
       "      <td>0.581408</td>\n",
       "      <td>0.368474</td>\n",
       "      <td>-0.531035</td>\n",
       "      <td>1.217628</td>\n",
       "      <td>0.626922</td>\n",
       "      <td>0.06679</td>\n",
       "      <td>-0.058894</td>\n",
       "      <td>...</td>\n",
       "      <td>-2.090786</td>\n",
       "      <td>-0.086682</td>\n",
       "      <td>-0.193178</td>\n",
       "      <td>0.513683</td>\n",
       "      <td>-0.912933</td>\n",
       "      <td>-0.32549</td>\n",
       "      <td>-1.035777</td>\n",
       "      <td>0.221073</td>\n",
       "      <td>1.600605</td>\n",
       "      <td>2.456767</td>\n",
       "    </tr>\n",
       "    <tr>\n",
       "      <th>TCGA-KL-8324-11</th>\n",
       "      <td>0</td>\n",
       "      <td>67</td>\n",
       "      <td>0</td>\n",
       "      <td>1.119008</td>\n",
       "      <td>2.198374</td>\n",
       "      <td>-0.531035</td>\n",
       "      <td>0.341628</td>\n",
       "      <td>0.681022</td>\n",
       "      <td>0.46319</td>\n",
       "      <td>0.057806</td>\n",
       "      <td>...</td>\n",
       "      <td>-0.837786</td>\n",
       "      <td>-0.086682</td>\n",
       "      <td>0.006622</td>\n",
       "      <td>5.587783</td>\n",
       "      <td>0.113667</td>\n",
       "      <td>-0.03259</td>\n",
       "      <td>0.051323</td>\n",
       "      <td>1.403473</td>\n",
       "      <td>0.786105</td>\n",
       "      <td>3.303867</td>\n",
       "    </tr>\n",
       "    <tr>\n",
       "      <th>TCGA-KL-8325-01</th>\n",
       "      <td>1</td>\n",
       "      <td>56</td>\n",
       "      <td>0</td>\n",
       "      <td>0.572008</td>\n",
       "      <td>-1.889926</td>\n",
       "      <td>-0.531035</td>\n",
       "      <td>0.683828</td>\n",
       "      <td>0.971922</td>\n",
       "      <td>1.55029</td>\n",
       "      <td>-0.150194</td>\n",
       "      <td>...</td>\n",
       "      <td>-2.090786</td>\n",
       "      <td>-0.086682</td>\n",
       "      <td>-0.748878</td>\n",
       "      <td>0.414383</td>\n",
       "      <td>-2.250633</td>\n",
       "      <td>1.13531</td>\n",
       "      <td>-1.257677</td>\n",
       "      <td>-1.076027</td>\n",
       "      <td>1.424005</td>\n",
       "      <td>-0.464633</td>\n",
       "    </tr>\n",
       "    <tr>\n",
       "      <th>TCGA-KL-8326-01</th>\n",
       "      <td>1</td>\n",
       "      <td>69</td>\n",
       "      <td>1</td>\n",
       "      <td>0.259208</td>\n",
       "      <td>-0.380726</td>\n",
       "      <td>-0.531035</td>\n",
       "      <td>0.992728</td>\n",
       "      <td>0.311022</td>\n",
       "      <td>0.65699</td>\n",
       "      <td>0.050806</td>\n",
       "      <td>...</td>\n",
       "      <td>-0.295086</td>\n",
       "      <td>-0.086682</td>\n",
       "      <td>-0.748878</td>\n",
       "      <td>1.982883</td>\n",
       "      <td>-0.845733</td>\n",
       "      <td>1.40521</td>\n",
       "      <td>-1.536277</td>\n",
       "      <td>0.100373</td>\n",
       "      <td>1.883005</td>\n",
       "      <td>0.013067</td>\n",
       "    </tr>\n",
       "  </tbody>\n",
       "</table>\n",
       "<p>5 rows × 17342 columns</p>\n",
       "</div>"
      ],
      "text/plain": [
       "                 Kidney Chromophobe  Age  Gender  ARHGEF10L     HIF3A  \\\n",
       "sampleID                                                                \n",
       "TCGA-KL-8323-01                   1   57       0  -0.295492 -3.487426   \n",
       "TCGA-KL-8324-01                   1   67       0   0.581408  0.368474   \n",
       "TCGA-KL-8324-11                   0   67       0   1.119008  2.198374   \n",
       "TCGA-KL-8325-01                   1   56       0   0.572008 -1.889926   \n",
       "TCGA-KL-8326-01                   1   69       1   0.259208 -0.380726   \n",
       "\n",
       "                    RNF17     RNF10     RNF11    RNF13   GTF2IP1  ...  \\\n",
       "sampleID                                                          ...   \n",
       "TCGA-KL-8323-01 -0.531035  0.359428  0.850422  0.58019 -0.739994  ...   \n",
       "TCGA-KL-8324-01 -0.531035  1.217628  0.626922  0.06679 -0.058894  ...   \n",
       "TCGA-KL-8324-11 -0.531035  0.341628  0.681022  0.46319  0.057806  ...   \n",
       "TCGA-KL-8325-01 -0.531035  0.683828  0.971922  1.55029 -0.150194  ...   \n",
       "TCGA-KL-8326-01 -0.531035  0.992728  0.311022  0.65699  0.050806  ...   \n",
       "\n",
       "                  SLC7A10   PLA2G2C     TULP2     NPY5R     GNGT2    GNGT1  \\\n",
       "sampleID                                                                     \n",
       "TCGA-KL-8323-01 -2.090786  0.397618 -0.748878  0.731583 -1.308333 -0.79709   \n",
       "TCGA-KL-8324-01 -2.090786 -0.086682 -0.193178  0.513683 -0.912933 -0.32549   \n",
       "TCGA-KL-8324-11 -0.837786 -0.086682  0.006622  5.587783  0.113667 -0.03259   \n",
       "TCGA-KL-8325-01 -2.090786 -0.086682 -0.748878  0.414383 -2.250633  1.13531   \n",
       "TCGA-KL-8326-01 -0.295086 -0.086682 -0.748878  1.982883 -0.845733  1.40521   \n",
       "\n",
       "                    TULP3     BCL6B     GSTK1      SELP  \n",
       "sampleID                                                 \n",
       "TCGA-KL-8323-01 -1.328077  0.933073  2.015005  0.025067  \n",
       "TCGA-KL-8324-01 -1.035777  0.221073  1.600605  2.456767  \n",
       "TCGA-KL-8324-11  0.051323  1.403473  0.786105  3.303867  \n",
       "TCGA-KL-8325-01 -1.257677 -1.076027  1.424005 -0.464633  \n",
       "TCGA-KL-8326-01 -1.536277  0.100373  1.883005  0.013067  \n",
       "\n",
       "[5 rows x 17342 columns]"
      ]
     },
     "execution_count": 11,
     "metadata": {},
     "output_type": "execute_result"
    }
   ],
   "source": [
    "merged_data = selected_clinical_data.join(genetic_data.T).dropna()\n",
    "merged_data.head()"
   ]
  },
  {
   "cell_type": "code",
   "execution_count": 12,
   "metadata": {
    "ExecuteTime": {
     "end_time": "2024-02-27T00:23:16.731303752Z",
     "start_time": "2024-02-27T00:23:16.717316474Z"
    },
    "collapsed": false
   },
   "outputs": [
    {
     "name": "stdout",
     "output_type": "stream",
     "text": [
      "The merged dataset contains 91 samples.\n",
      "For the feature 'Kidney Chromophobe', the least common label is '0' with 25 occurrences. This represents 27.47% of the dataset.\n",
      "The distribution of the feature 'Kidney Chromophobe' in this dataset is fine.\n",
      "\n",
      "Quartiles for 'Age':\n",
      "  25%: 42.5\n",
      "  50% (Median): 51.0\n",
      "  75%: 62.0\n",
      "Min: 17\n",
      "Max: 86\n",
      "The distribution of the feature 'Age' in this dataset is fine.\n",
      "\n",
      "For the feature 'Gender', the least common label is '0' with 39 occurrences. This represents 42.86% of the dataset.\n",
      "The distribution of the feature 'Gender' in this dataset is fine.\n",
      "\n"
     ]
    },
    {
     "data": {
      "text/plain": [
       "False"
      ]
     },
     "execution_count": 12,
     "metadata": {},
     "output_type": "execute_result"
    }
   ],
   "source": [
    "print(f\"The merged dataset contains {len(merged_data)} samples.\")\n",
    "is_trait_biased, merge_data = judge_and_remove_biased_features(merged_data, TRAIT, trait_type=trait_type)\n",
    "is_trait_biased"
   ]
  },
  {
   "cell_type": "code",
   "execution_count": 13,
   "metadata": {
    "ExecuteTime": {
     "end_time": "2024-02-27T00:23:30.252387093Z",
     "start_time": "2024-02-27T00:23:16.722533204Z"
    },
    "collapsed": false
   },
   "outputs": [],
   "source": [
    "merged_data.head()\n",
    "if not is_trait_biased:\n",
    "    merge_data.to_csv(os.path.join(OUTPUT_DIR, cohort + '.csv'), index=False)"
   ]
  },
  {
   "cell_type": "code",
   "execution_count": 14,
   "metadata": {
    "ExecuteTime": {
     "end_time": "2024-02-27T00:23:30.302271525Z",
     "start_time": "2024-02-27T00:23:30.295066253Z"
    },
    "collapsed": false
   },
   "outputs": [
    {
     "name": "stdout",
     "output_type": "stream",
     "text": [
      "A new JSON file was created at: /Users/legion/Desktop/Courses/IS389/output2\\Jiayi\\Kidney-Chromophobe\\cohort_info.json\n"
     ]
    }
   ],
   "source": [
    "save_cohort_info(cohort, JSON_PATH, is_available, is_trait_biased, merged_data)"
   ]
  },
  {
   "cell_type": "markdown",
   "metadata": {
    "ExecuteTime": {
     "end_time": "2023-12-28T21:28:38.028916303Z",
     "start_time": "2023-12-28T21:28:38.016245426Z"
    },
    "collapsed": false
   },
   "source": [
    "## 2.2. The GEO dataset"
   ]
  },
  {
   "cell_type": "code",
   "execution_count": 15,
   "metadata": {
    "ExecuteTime": {
     "end_time": "2024-02-27T00:23:30.302587016Z",
     "start_time": "2024-02-27T00:23:30.295278811Z"
    },
    "collapsed": false
   },
   "outputs": [
    {
     "data": {
      "text/plain": [
       "['GSE11024',\n",
       " 'GSE11151',\n",
       " 'GSE11447',\n",
       " 'GSE144082',\n",
       " 'GSE14670',\n",
       " 'GSE15641',\n",
       " 'GSE17746',\n",
       " 'GSE19949',\n",
       " 'GSE19982',\n",
       " 'GSE26574',\n",
       " 'GSE3',\n",
       " 'GSE40911',\n",
       " 'GSE40912',\n",
       " 'GSE40914',\n",
       " 'GSE4125',\n",
       " 'GSE42977',\n",
       " 'GSE57162',\n",
       " 'GSE6280',\n",
       " 'GSE68606',\n",
       " 'GSE8271',\n",
       " 'GSE95425']"
      ]
     },
     "execution_count": 15,
     "metadata": {},
     "output_type": "execute_result"
    }
   ],
   "source": [
    "dataset = 'GEO'\n",
    "trait_subdir = \"Kidney-Chromophobe\"\n",
    "\n",
    "trait_path = os.path.join(DATA_ROOT, dataset, trait_subdir)\n",
    "os.listdir(trait_path)"
   ]
  },
  {
   "cell_type": "markdown",
   "metadata": {
    "ExecuteTime": {
     "end_time": "2023-12-31T03:39:42.634870142Z",
     "start_time": "2023-12-31T03:39:42.534093295Z"
    },
    "collapsed": false
   },
   "source": [
    "Repeat the below steps for all the accession numbers"
   ]
  },
  {
   "cell_type": "code",
   "execution_count": 16,
   "metadata": {
    "ExecuteTime": {
     "end_time": "2024-02-27T00:23:30.302864515Z",
     "start_time": "2024-02-27T00:23:30.295388276Z"
    },
    "collapsed": false
   },
   "outputs": [
    {
     "data": {
      "text/plain": [
       "('/Users/legion/Desktop/Courses/IS389/data\\\\GEO\\\\Kidney-Chromophobe\\\\GSE11024\\\\GSE11024_family.soft.gz',\n",
       " '/Users/legion/Desktop/Courses/IS389/data\\\\GEO\\\\Kidney-Chromophobe\\\\GSE11024\\\\GSE11024_series_matrix.txt.gz')"
      ]
     },
     "execution_count": 16,
     "metadata": {},
     "output_type": "execute_result"
    }
   ],
   "source": [
    "# Finished\n",
    "cohort = accession_num = \"GSE11024\"\n",
    "cohort_dir = os.path.join(trait_path, accession_num)\n",
    "soft_file, matrix_file = geo_get_relevant_filepaths(cohort_dir)\n",
    "soft_file, matrix_file"
   ]
  },
  {
   "cell_type": "code",
   "execution_count": 31,
   "metadata": {},
   "outputs": [
    {
     "data": {
      "text/plain": [
       "('/Users/legion/Desktop/Courses/IS389/data\\\\GEO\\\\Kidney-Chromophobe\\\\GSE11151\\\\GSE11151_family.soft.gz',\n",
       " '/Users/legion/Desktop/Courses/IS389/data\\\\GEO\\\\Kidney-Chromophobe\\\\GSE11151\\\\GSE11151_series_matrix.txt.gz')"
      ]
     },
     "execution_count": 31,
     "metadata": {},
     "output_type": "execute_result"
    }
   ],
   "source": [
    "# Finished\n",
    "cohort = accession_num = \"GSE11151\"\n",
    "cohort_dir = os.path.join(trait_path, accession_num)\n",
    "soft_file, matrix_file = geo_get_relevant_filepaths(cohort_dir)\n",
    "soft_file, matrix_file"
   ]
  },
  {
   "cell_type": "code",
   "execution_count": 44,
   "metadata": {},
   "outputs": [
    {
     "data": {
      "text/plain": [
       "('/Users/legion/Desktop/Courses/IS389/data\\\\GEO\\\\Kidney-Chromophobe\\\\GSE11447\\\\GSE11447_family.soft.gz',\n",
       " '/Users/legion/Desktop/Courses/IS389/data\\\\GEO\\\\Kidney-Chromophobe\\\\GSE11447\\\\GSE11447_series_matrix.txt.gz')"
      ]
     },
     "execution_count": 44,
     "metadata": {},
     "output_type": "execute_result"
    }
   ],
   "source": [
    "# Biased\n",
    "cohort = accession_num = \"GSE11447\"\n",
    "cohort_dir = os.path.join(trait_path, accession_num)\n",
    "soft_file, matrix_file = geo_get_relevant_filepaths(cohort_dir)\n",
    "soft_file, matrix_file"
   ]
  },
  {
   "cell_type": "code",
   "execution_count": 48,
   "metadata": {},
   "outputs": [
    {
     "data": {
      "text/plain": [
       "('/Users/legion/Desktop/Courses/IS389/data\\\\GEO\\\\Kidney-Chromophobe\\\\GSE144082\\\\GSE144082_family.soft.gz',\n",
       " '/Users/legion/Desktop/Courses/IS389/data\\\\GEO\\\\Kidney-Chromophobe\\\\GSE144082\\\\GSE144082_series_matrix.txt.gz')"
      ]
     },
     "execution_count": 48,
     "metadata": {},
     "output_type": "execute_result"
    }
   ],
   "source": [
    "# Biased\n",
    "cohort = accession_num = \"GSE144082\"\n",
    "cohort_dir = os.path.join(trait_path, accession_num)\n",
    "soft_file, matrix_file = geo_get_relevant_filepaths(cohort_dir)\n",
    "soft_file, matrix_file"
   ]
  },
  {
   "cell_type": "code",
   "execution_count": 54,
   "metadata": {},
   "outputs": [
    {
     "data": {
      "text/plain": [
       "('/Users/legion/Desktop/Courses/IS389/data\\\\GEO\\\\Kidney-Chromophobe\\\\GSE14670\\\\GSE14670_family.soft.gz',\n",
       " '/Users/legion/Desktop/Courses/IS389/data\\\\GEO\\\\Kidney-Chromophobe\\\\GSE14670\\\\GSE14670-GPL2641_series_matrix.txt.gz')"
      ]
     },
     "execution_count": 54,
     "metadata": {},
     "output_type": "execute_result"
    }
   ],
   "source": [
    "# Biased \n",
    "cohort = accession_num = \"GSE14670\"\n",
    "cohort_dir = os.path.join(trait_path, accession_num)\n",
    "soft_file, matrix_file = geo_get_relevant_filepaths(cohort_dir)\n",
    "soft_file, matrix_file"
   ]
  },
  {
   "cell_type": "code",
   "execution_count": 57,
   "metadata": {},
   "outputs": [
    {
     "data": {
      "text/plain": [
       "('/Users/legion/Desktop/Courses/IS389/data\\\\GEO\\\\Kidney-Chromophobe\\\\GSE15641\\\\GSE15641_family.soft.gz',\n",
       " '/Users/legion/Desktop/Courses/IS389/data\\\\GEO\\\\Kidney-Chromophobe\\\\GSE15641\\\\GSE15641_series_matrix.txt.gz')"
      ]
     },
     "execution_count": 57,
     "metadata": {},
     "output_type": "execute_result"
    }
   ],
   "source": [
    "# Biased\n",
    "cohort = accession_num = \"GSE15641\"\n",
    "cohort_dir = os.path.join(trait_path, accession_num)\n",
    "soft_file, matrix_file = geo_get_relevant_filepaths(cohort_dir)\n",
    "soft_file, matrix_file"
   ]
  },
  {
   "cell_type": "code",
   "execution_count": 61,
   "metadata": {},
   "outputs": [
    {
     "data": {
      "text/plain": [
       "('/Users/legion/Desktop/Courses/IS389/data\\\\GEO\\\\Kidney-Chromophobe\\\\GSE17746\\\\GSE17746_family.soft.gz',\n",
       " '/Users/legion/Desktop/Courses/IS389/data\\\\GEO\\\\Kidney-Chromophobe\\\\GSE17746\\\\GSE17746-GPL9064_series_matrix.txt.gz')"
      ]
     },
     "execution_count": 61,
     "metadata": {},
     "output_type": "execute_result"
    }
   ],
   "source": [
    "# No trait\n",
    "cohort = accession_num = \"GSE17746\"\n",
    "cohort_dir = os.path.join(trait_path, accession_num)\n",
    "soft_file, matrix_file = geo_get_relevant_filepaths(cohort_dir)\n",
    "soft_file, matrix_file"
   ]
  },
  {
   "cell_type": "code",
   "execution_count": 65,
   "metadata": {},
   "outputs": [
    {
     "data": {
      "text/plain": [
       "('/Users/legion/Desktop/Courses/IS389/data\\\\GEO\\\\Kidney-Chromophobe\\\\GSE19949\\\\GSE19949_family.soft.gz',\n",
       " '/Users/legion/Desktop/Courses/IS389/data\\\\GEO\\\\Kidney-Chromophobe\\\\GSE19949\\\\GSE19949-GPL3921_series_matrix.txt.gz')"
      ]
     },
     "execution_count": 65,
     "metadata": {},
     "output_type": "execute_result"
    }
   ],
   "source": [
    "# No obviuos traits\n",
    "cohort = accession_num = \"GSE19949\"\n",
    "cohort_dir = os.path.join(trait_path, accession_num)\n",
    "soft_file, matrix_file = geo_get_relevant_filepaths(cohort_dir)\n",
    "soft_file, matrix_file"
   ]
  },
  {
   "cell_type": "code",
   "execution_count": 68,
   "metadata": {},
   "outputs": [
    {
     "data": {
      "text/plain": [
       "('/Users/legion/Desktop/Courses/IS389/data\\\\GEO\\\\Kidney-Chromophobe\\\\GSE19982\\\\GSE19982_family.soft.gz',\n",
       " '/Users/legion/Desktop/Courses/IS389/data\\\\GEO\\\\Kidney-Chromophobe\\\\GSE19982\\\\GSE19982_series_matrix.txt.gz')"
      ]
     },
     "execution_count": 68,
     "metadata": {},
     "output_type": "execute_result"
    }
   ],
   "source": [
    "# Finished\n",
    "cohort = accession_num = \"GSE19982\"\n",
    "cohort_dir = os.path.join(trait_path, accession_num)\n",
    "soft_file, matrix_file = geo_get_relevant_filepaths(cohort_dir)\n",
    "soft_file, matrix_file"
   ]
  },
  {
   "cell_type": "code",
   "execution_count": 81,
   "metadata": {},
   "outputs": [
    {
     "data": {
      "text/plain": [
       "('/Users/legion/Desktop/Courses/IS389/data\\\\GEO\\\\Kidney-Chromophobe\\\\GSE26574\\\\GSE26574_family.soft.gz',\n",
       " '/Users/legion/Desktop/Courses/IS389/data\\\\GEO\\\\Kidney-Chromophobe\\\\GSE26574\\\\GSE26574_series_matrix.txt.gz')"
      ]
     },
     "execution_count": 81,
     "metadata": {},
     "output_type": "execute_result"
    }
   ],
   "source": [
    "# Finished\n",
    "cohort = accession_num = \"GSE26574\"\n",
    "cohort_dir = os.path.join(trait_path, accession_num)\n",
    "soft_file, matrix_file = geo_get_relevant_filepaths(cohort_dir)\n",
    "soft_file, matrix_file"
   ]
  },
  {
   "cell_type": "code",
   "execution_count": 94,
   "metadata": {},
   "outputs": [
    {
     "data": {
      "text/plain": [
       "('/Users/legion/Desktop/Courses/IS389/data\\\\GEO\\\\Kidney-Chromophobe\\\\GSE3\\\\GSE3_family.soft.gz',\n",
       " '/Users/legion/Desktop/Courses/IS389/data\\\\GEO\\\\Kidney-Chromophobe\\\\GSE3\\\\GSE3-GPL10_series_matrix.txt.gz')"
      ]
     },
     "execution_count": 94,
     "metadata": {},
     "output_type": "execute_result"
    }
   ],
   "source": [
    "# Clinical data is empty\n",
    "cohort = accession_num = \"GSE3\"\n",
    "cohort_dir = os.path.join(trait_path, accession_num)\n",
    "soft_file, matrix_file = geo_get_relevant_filepaths(cohort_dir)\n",
    "soft_file, matrix_file"
   ]
  },
  {
   "cell_type": "code",
   "execution_count": 97,
   "metadata": {},
   "outputs": [
    {
     "data": {
      "text/plain": [
       "('/Users/legion/Desktop/Courses/IS389/data\\\\GEO\\\\Kidney-Chromophobe\\\\GSE40911\\\\GSE40911_family.soft.gz',\n",
       " '/Users/legion/Desktop/Courses/IS389/data\\\\GEO\\\\Kidney-Chromophobe\\\\GSE40911\\\\GSE40911_series_matrix.txt.gz')"
      ]
     },
     "execution_count": 97,
     "metadata": {},
     "output_type": "execute_result"
    }
   ],
   "source": [
    "# No traits\n",
    "cohort = accession_num = \"GSE40911\"\n",
    "cohort_dir = os.path.join(trait_path, accession_num)\n",
    "soft_file, matrix_file = geo_get_relevant_filepaths(cohort_dir)\n",
    "soft_file, matrix_file"
   ]
  },
  {
   "cell_type": "code",
   "execution_count": 100,
   "metadata": {},
   "outputs": [
    {
     "data": {
      "text/plain": [
       "('/Users/legion/Desktop/Courses/IS389/data\\\\GEO\\\\Kidney-Chromophobe\\\\GSE40912\\\\GSE40912_family.soft.gz',\n",
       " '/Users/legion/Desktop/Courses/IS389/data\\\\GEO\\\\Kidney-Chromophobe\\\\GSE40912\\\\GSE40912_series_matrix.txt.gz')"
      ]
     },
     "execution_count": 100,
     "metadata": {},
     "output_type": "execute_result"
    }
   ],
   "source": [
    "# Biased\n",
    "cohort = accession_num = \"GSE40912\"\n",
    "cohort_dir = os.path.join(trait_path, accession_num)\n",
    "soft_file, matrix_file = geo_get_relevant_filepaths(cohort_dir)\n",
    "soft_file, matrix_file"
   ]
  },
  {
   "cell_type": "code",
   "execution_count": 104,
   "metadata": {},
   "outputs": [
    {
     "data": {
      "text/plain": [
       "('/Users/legion/Desktop/Courses/IS389/data\\\\GEO\\\\Kidney-Chromophobe\\\\GSE40914\\\\GSE40914_family.soft.gz',\n",
       " '/Users/legion/Desktop/Courses/IS389/data\\\\GEO\\\\Kidney-Chromophobe\\\\GSE40914\\\\GSE40914-GPL3985_series_matrix.txt.gz')"
      ]
     },
     "execution_count": 104,
     "metadata": {},
     "output_type": "execute_result"
    }
   ],
   "source": [
    "# No traits\n",
    "cohort = accession_num = \"GSE40914\"\n",
    "cohort_dir = os.path.join(trait_path, accession_num)\n",
    "soft_file, matrix_file = geo_get_relevant_filepaths(cohort_dir)\n",
    "soft_file, matrix_file"
   ]
  },
  {
   "cell_type": "code",
   "execution_count": 107,
   "metadata": {},
   "outputs": [
    {
     "data": {
      "text/plain": [
       "('/Users/legion/Desktop/Courses/IS389/data\\\\GEO\\\\Kidney-Chromophobe\\\\GSE4125\\\\GSE4125_family.soft.gz',\n",
       " '/Users/legion/Desktop/Courses/IS389/data\\\\GEO\\\\Kidney-Chromophobe\\\\GSE4125\\\\GSE4125-GPL2649_series_matrix.txt.gz')"
      ]
     },
     "execution_count": 107,
     "metadata": {},
     "output_type": "execute_result"
    }
   ],
   "source": [
    "# Biased\n",
    "cohort = accession_num = \"GSE4125\"\n",
    "cohort_dir = os.path.join(trait_path, accession_num)\n",
    "soft_file, matrix_file = geo_get_relevant_filepaths(cohort_dir)\n",
    "soft_file, matrix_file"
   ]
  },
  {
   "cell_type": "code",
   "execution_count": 110,
   "metadata": {},
   "outputs": [
    {
     "data": {
      "text/plain": [
       "('/Users/legion/Desktop/Courses/IS389/data\\\\GEO\\\\Kidney-Chromophobe\\\\GSE42977\\\\GSE42977_family.soft.gz',\n",
       " '/Users/legion/Desktop/Courses/IS389/data\\\\GEO\\\\Kidney-Chromophobe\\\\GSE42977\\\\GSE42977_series_matrix.txt.gz')"
      ]
     },
     "execution_count": 110,
     "metadata": {},
     "output_type": "execute_result"
    }
   ],
   "source": [
    "# Finished\n",
    "cohort = accession_num = \"GSE42977\"\n",
    "cohort_dir = os.path.join(trait_path, accession_num)\n",
    "soft_file, matrix_file = geo_get_relevant_filepaths(cohort_dir)\n",
    "soft_file, matrix_file"
   ]
  },
  {
   "cell_type": "code",
   "execution_count": 123,
   "metadata": {},
   "outputs": [
    {
     "data": {
      "text/plain": [
       "('/Users/legion/Desktop/Courses/IS389/data\\\\GEO\\\\Kidney-Chromophobe\\\\GSE57162\\\\GSE57162_family.soft.gz',\n",
       " '/Users/legion/Desktop/Courses/IS389/data\\\\GEO\\\\Kidney-Chromophobe\\\\GSE57162\\\\GSE57162_series_matrix.txt.gz')"
      ]
     },
     "execution_count": 123,
     "metadata": {},
     "output_type": "execute_result"
    }
   ],
   "source": [
    "# No obvious traits\n",
    "cohort = accession_num = \"GSE57162\"\n",
    "cohort_dir = os.path.join(trait_path, accession_num)\n",
    "soft_file, matrix_file = geo_get_relevant_filepaths(cohort_dir)\n",
    "soft_file, matrix_file"
   ]
  },
  {
   "cell_type": "code",
   "execution_count": 129,
   "metadata": {},
   "outputs": [
    {
     "data": {
      "text/plain": [
       "('/Users/legion/Desktop/Courses/IS389/data\\\\GEO\\\\Kidney-Chromophobe\\\\GSE6280\\\\GSE6280_family.soft.gz',\n",
       " '/Users/legion/Desktop/Courses/IS389/data\\\\GEO\\\\Kidney-Chromophobe\\\\GSE6280\\\\GSE6280-GPL96_series_matrix.txt.gz')"
      ]
     },
     "execution_count": 129,
     "metadata": {},
     "output_type": "execute_result"
    }
   ],
   "source": [
    "# Finished\n",
    "cohort = accession_num = \"GSE6280\"\n",
    "cohort_dir = os.path.join(trait_path, accession_num)\n",
    "soft_file, matrix_file = geo_get_relevant_filepaths(cohort_dir)\n",
    "soft_file, matrix_file"
   ]
  },
  {
   "cell_type": "code",
   "execution_count": 142,
   "metadata": {},
   "outputs": [
    {
     "data": {
      "text/plain": [
       "('/Users/legion/Desktop/Courses/IS389/data\\\\GEO\\\\Kidney-Chromophobe\\\\GSE68606\\\\GSE68606_family.soft.gz',\n",
       " '/Users/legion/Desktop/Courses/IS389/data\\\\GEO\\\\Kidney-Chromophobe\\\\GSE68606\\\\GSE68606_series_matrix.txt.gz')"
      ]
     },
     "execution_count": 142,
     "metadata": {},
     "output_type": "execute_result"
    }
   ],
   "source": [
    "# No traits\n",
    "cohort = accession_num = \"GSE68606\"\n",
    "cohort_dir = os.path.join(trait_path, accession_num)\n",
    "soft_file, matrix_file = geo_get_relevant_filepaths(cohort_dir)\n",
    "soft_file, matrix_file"
   ]
  },
  {
   "cell_type": "code",
   "execution_count": 151,
   "metadata": {},
   "outputs": [
    {
     "data": {
      "text/plain": [
       "('/Users/legion/Desktop/Courses/IS389/data\\\\GEO\\\\Kidney-Chromophobe\\\\GSE8271\\\\GSE8271_family.soft.gz',\n",
       " '/Users/legion/Desktop/Courses/IS389/data\\\\GEO\\\\Kidney-Chromophobe\\\\GSE8271\\\\GSE8271-GPL2004_series_matrix.txt')"
      ]
     },
     "execution_count": 151,
     "metadata": {},
     "output_type": "execute_result"
    }
   ],
   "source": [
    "# Not a gzipped file (b'!S')\n",
    "cohort = accession_num = \"GSE8271\"\n",
    "cohort_dir = os.path.join(trait_path, accession_num)\n",
    "soft_file, matrix_file = geo_get_relevant_filepaths(cohort_dir)\n",
    "soft_file, matrix_file"
   ]
  },
  {
   "cell_type": "code",
   "execution_count": 153,
   "metadata": {},
   "outputs": [
    {
     "data": {
      "text/plain": [
       "('/Users/legion/Desktop/Courses/IS389/data\\\\GEO\\\\Kidney-Chromophobe\\\\GSE95425\\\\GSE95425_family.soft.gz',\n",
       " '/Users/legion/Desktop/Courses/IS389/data\\\\GEO\\\\Kidney-Chromophobe\\\\GSE95425\\\\GSE95425_series_matrix.txt.gz')"
      ]
     },
     "execution_count": 153,
     "metadata": {},
     "output_type": "execute_result"
    }
   ],
   "source": [
    "# No trait\n",
    "cohort = accession_num = \"GSE95425\"\n",
    "cohort_dir = os.path.join(trait_path, accession_num)\n",
    "soft_file, matrix_file = geo_get_relevant_filepaths(cohort_dir)\n",
    "soft_file, matrix_file"
   ]
  },
  {
   "cell_type": "markdown",
   "metadata": {
    "collapsed": false
   },
   "source": [
    "### Initial filtering and clinical data preprocessing"
   ]
  },
  {
   "cell_type": "code",
   "execution_count": 154,
   "metadata": {
    "ExecuteTime": {
     "end_time": "2024-02-27T00:23:30.303301102Z",
     "start_time": "2024-02-27T00:23:30.295491459Z"
    },
    "collapsed": false
   },
   "outputs": [
    {
     "name": "stdout",
     "output_type": "stream",
     "text": [
      "!Series_title\t\"Cell-type specific gene programs of the normal human nephron define kidney cancer subtypes\"\n",
      "!Series_summary\t\"Comprehensive transcriptome studies of cancers often rely on corresponding normal tissue samples to serve as a transcriptional reference. In this study we performed in-depth analyses of normal kidney tissue transcriptomes from TCGA and demonstrate that the histological variability in cellularity, inherent in the kidney architecture, lead to considerable transcriptional differences between samples. This should be considered when comparing expression profiles of normal and cancerous kidney tissues. We exploited these differences to define renal cell-specific gene signatures and used these as framework to analyze renal cell carcinoma (RCC) ontogeny. Chromophobe RCCs express FOXI1-driven genes that define collecting duct intercalated cells whereas HNF-regulated genes, specific for proximal tubule cells, are an integral part of clear cell and papillary RCC transcriptomes. These networks may be used as framework for understanding the interplay between genomic changes in RCC subtypes and the lineage-defining regulatory machinery of their non-neoplastic counterparts.\"\n",
      "!Series_overall_design\t\"Samples from different parts of the kidneys were procured using core-sampling from approximately 10 mm thick sections obtained from nephrectomized patients in surgery for renal neoplasms. Sampling was performed in the part of the kidney that was farthest from the tumor. Sections were thereafter embedded and hematoxylin-eosin stained allowing for approximation of the respective site in kidney from which the sample was obtained. In all cases a histologically normal kidney histology was confirmed. In all, 53 samples from 5 different renal specimens were included in the analysis.\"\n"
     ]
    }
   ],
   "source": [
    "from utils import *\n",
    "background_prefixes = ['!Series_title', '!Series_summary', '!Series_overall_design']\n",
    "clinical_prefixes = ['!Sample_geo_accession', '!Sample_characteristics_ch1']    \n",
    "\n",
    "background_info, clinical_data = get_background_and_clinical_data(matrix_file, background_prefixes, clinical_prefixes)\n",
    "print(background_info)"
   ]
  },
  {
   "cell_type": "code",
   "execution_count": 155,
   "metadata": {
    "ExecuteTime": {
     "end_time": "2024-02-27T00:23:30.303593599Z",
     "start_time": "2024-02-27T00:23:30.299747893Z"
    },
    "collapsed": false
   },
   "outputs": [
    {
     "data": {
      "text/html": [
       "<div>\n",
       "<style scoped>\n",
       "    .dataframe tbody tr th:only-of-type {\n",
       "        vertical-align: middle;\n",
       "    }\n",
       "\n",
       "    .dataframe tbody tr th {\n",
       "        vertical-align: top;\n",
       "    }\n",
       "\n",
       "    .dataframe thead th {\n",
       "        text-align: right;\n",
       "    }\n",
       "</style>\n",
       "<table border=\"1\" class=\"dataframe\">\n",
       "  <thead>\n",
       "    <tr style=\"text-align: right;\">\n",
       "      <th></th>\n",
       "      <th>!Sample_geo_accession</th>\n",
       "      <th>GSM2510512</th>\n",
       "      <th>GSM2510513</th>\n",
       "      <th>GSM2510514</th>\n",
       "      <th>GSM2510515</th>\n",
       "      <th>GSM2510516</th>\n",
       "      <th>GSM2510517</th>\n",
       "      <th>GSM2510518</th>\n",
       "      <th>GSM2510519</th>\n",
       "      <th>GSM2510520</th>\n",
       "      <th>...</th>\n",
       "      <th>GSM2510555</th>\n",
       "      <th>GSM2510556</th>\n",
       "      <th>GSM2510557</th>\n",
       "      <th>GSM2510558</th>\n",
       "      <th>GSM2510559</th>\n",
       "      <th>GSM2510560</th>\n",
       "      <th>GSM2510561</th>\n",
       "      <th>GSM2510562</th>\n",
       "      <th>GSM2510563</th>\n",
       "      <th>GSM2510564</th>\n",
       "    </tr>\n",
       "  </thead>\n",
       "  <tbody>\n",
       "    <tr>\n",
       "      <th>0</th>\n",
       "      <td>!Sample_characteristics_ch1</td>\n",
       "      <td>patient id: R099</td>\n",
       "      <td>patient id: R099</td>\n",
       "      <td>patient id: R099</td>\n",
       "      <td>patient id: R099</td>\n",
       "      <td>patient id: R099</td>\n",
       "      <td>patient id: R116</td>\n",
       "      <td>patient id: R116</td>\n",
       "      <td>patient id: R116</td>\n",
       "      <td>patient id: R116</td>\n",
       "      <td>...</td>\n",
       "      <td>patient id: R164</td>\n",
       "      <td>patient id: R164</td>\n",
       "      <td>patient id: R164</td>\n",
       "      <td>patient id: R164</td>\n",
       "      <td>patient id: R164</td>\n",
       "      <td>patient id: R164</td>\n",
       "      <td>patient id: R164</td>\n",
       "      <td>patient id: R164</td>\n",
       "      <td>patient id: R164</td>\n",
       "      <td>patient id: R164</td>\n",
       "    </tr>\n",
       "    <tr>\n",
       "      <th>1</th>\n",
       "      <td>!Sample_characteristics_ch1</td>\n",
       "      <td>patient type: Normal kidney tissue</td>\n",
       "      <td>patient type: Normal kidney tissue</td>\n",
       "      <td>patient type: Normal kidney tissue</td>\n",
       "      <td>patient type: Normal kidney tissue</td>\n",
       "      <td>patient type: Normal kidney tissue</td>\n",
       "      <td>patient type: Normal kidney tissue</td>\n",
       "      <td>patient type: Normal kidney tissue</td>\n",
       "      <td>patient type: Normal kidney tissue</td>\n",
       "      <td>patient type: Normal kidney tissue</td>\n",
       "      <td>...</td>\n",
       "      <td>patient type: Normal kidney tissue</td>\n",
       "      <td>patient type: Normal kidney tissue</td>\n",
       "      <td>patient type: Normal kidney tissue</td>\n",
       "      <td>patient type: Normal kidney tissue</td>\n",
       "      <td>patient type: Normal kidney tissue</td>\n",
       "      <td>patient type: Normal kidney tissue</td>\n",
       "      <td>patient type: Normal kidney tissue</td>\n",
       "      <td>patient type: Normal kidney tissue</td>\n",
       "      <td>patient type: Normal kidney tissue</td>\n",
       "      <td>patient type: Normal kidney tissue</td>\n",
       "    </tr>\n",
       "    <tr>\n",
       "      <th>2</th>\n",
       "      <td>!Sample_characteristics_ch1</td>\n",
       "      <td>sampling depth: cortex</td>\n",
       "      <td>sampling depth: cortex/medulla</td>\n",
       "      <td>sampling depth: medulla</td>\n",
       "      <td>sampling depth: medulla</td>\n",
       "      <td>sampling depth: cortex</td>\n",
       "      <td>sampling depth: cortex</td>\n",
       "      <td>sampling depth: cortex</td>\n",
       "      <td>sampling depth: cortex</td>\n",
       "      <td>sampling depth: cortex</td>\n",
       "      <td>...</td>\n",
       "      <td>sampling depth: medulla</td>\n",
       "      <td>sampling depth: medulla</td>\n",
       "      <td>sampling depth: cortex</td>\n",
       "      <td>sampling depth: cortex</td>\n",
       "      <td>sampling depth: cortex/medulla</td>\n",
       "      <td>sampling depth: medulla</td>\n",
       "      <td>sampling depth: cortex/medulla</td>\n",
       "      <td>sampling depth: cortex</td>\n",
       "      <td>sampling depth: cortex</td>\n",
       "      <td>sampling depth: medulla</td>\n",
       "    </tr>\n",
       "  </tbody>\n",
       "</table>\n",
       "<p>3 rows × 54 columns</p>\n",
       "</div>"
      ],
      "text/plain": [
       "         !Sample_geo_accession                          GSM2510512  \\\n",
       "0  !Sample_characteristics_ch1                    patient id: R099   \n",
       "1  !Sample_characteristics_ch1  patient type: Normal kidney tissue   \n",
       "2  !Sample_characteristics_ch1              sampling depth: cortex   \n",
       "\n",
       "                           GSM2510513                          GSM2510514  \\\n",
       "0                    patient id: R099                    patient id: R099   \n",
       "1  patient type: Normal kidney tissue  patient type: Normal kidney tissue   \n",
       "2      sampling depth: cortex/medulla             sampling depth: medulla   \n",
       "\n",
       "                           GSM2510515                          GSM2510516  \\\n",
       "0                    patient id: R099                    patient id: R099   \n",
       "1  patient type: Normal kidney tissue  patient type: Normal kidney tissue   \n",
       "2             sampling depth: medulla              sampling depth: cortex   \n",
       "\n",
       "                           GSM2510517                          GSM2510518  \\\n",
       "0                    patient id: R116                    patient id: R116   \n",
       "1  patient type: Normal kidney tissue  patient type: Normal kidney tissue   \n",
       "2              sampling depth: cortex              sampling depth: cortex   \n",
       "\n",
       "                           GSM2510519                          GSM2510520  \\\n",
       "0                    patient id: R116                    patient id: R116   \n",
       "1  patient type: Normal kidney tissue  patient type: Normal kidney tissue   \n",
       "2              sampling depth: cortex              sampling depth: cortex   \n",
       "\n",
       "   ...                          GSM2510555  \\\n",
       "0  ...                    patient id: R164   \n",
       "1  ...  patient type: Normal kidney tissue   \n",
       "2  ...             sampling depth: medulla   \n",
       "\n",
       "                           GSM2510556                          GSM2510557  \\\n",
       "0                    patient id: R164                    patient id: R164   \n",
       "1  patient type: Normal kidney tissue  patient type: Normal kidney tissue   \n",
       "2             sampling depth: medulla              sampling depth: cortex   \n",
       "\n",
       "                           GSM2510558                          GSM2510559  \\\n",
       "0                    patient id: R164                    patient id: R164   \n",
       "1  patient type: Normal kidney tissue  patient type: Normal kidney tissue   \n",
       "2              sampling depth: cortex      sampling depth: cortex/medulla   \n",
       "\n",
       "                           GSM2510560                          GSM2510561  \\\n",
       "0                    patient id: R164                    patient id: R164   \n",
       "1  patient type: Normal kidney tissue  patient type: Normal kidney tissue   \n",
       "2             sampling depth: medulla      sampling depth: cortex/medulla   \n",
       "\n",
       "                           GSM2510562                          GSM2510563  \\\n",
       "0                    patient id: R164                    patient id: R164   \n",
       "1  patient type: Normal kidney tissue  patient type: Normal kidney tissue   \n",
       "2              sampling depth: cortex              sampling depth: cortex   \n",
       "\n",
       "                           GSM2510564  \n",
       "0                    patient id: R164  \n",
       "1  patient type: Normal kidney tissue  \n",
       "2             sampling depth: medulla  \n",
       "\n",
       "[3 rows x 54 columns]"
      ]
     },
     "execution_count": 155,
     "metadata": {},
     "output_type": "execute_result"
    }
   ],
   "source": [
    "clinical_data"
   ]
  },
  {
   "cell_type": "markdown",
   "metadata": {},
   "source": [
    "Analyze the trait row:"
   ]
  },
  {
   "cell_type": "code",
   "execution_count": 156,
   "metadata": {},
   "outputs": [
    {
     "data": {
      "text/plain": [
       "array(['!Sample_characteristics_ch1',\n",
       "       'patient type: Normal kidney tissue'], dtype=object)"
      ]
     },
     "execution_count": 156,
     "metadata": {},
     "output_type": "execute_result"
    }
   ],
   "source": [
    "tumor_stage_row = clinical_data.iloc[1]\n",
    "tumor_stage_row.unique()"
   ]
  },
  {
   "cell_type": "markdown",
   "metadata": {},
   "source": [
    "Determine the trait row, age row, and gender row. Then implement the conversion functions:"
   ]
  },
  {
   "cell_type": "code",
   "execution_count": 133,
   "metadata": {
    "ExecuteTime": {
     "end_time": "2024-02-27T00:23:30.385870186Z",
     "start_time": "2024-02-27T00:23:30.351051500Z"
    },
    "collapsed": false
   },
   "outputs": [],
   "source": [
    "trait_row = 0\n",
    "age_row = None\n",
    "gender_row = None\n",
    "\n",
    "def convert_trait(trait):\n",
    "    if (trait == 'tumor kidney'):\n",
    "        return 1\n",
    "    else:\n",
    "        return 0\n",
    "\n",
    "def convert_age(age_string):\n",
    "    if age_string == 'n.a.':\n",
    "        return None\n",
    "    try:\n",
    "        age = int(age_string.split(': ')[1])\n",
    "        return age\n",
    "    except (ValueError, IndexError):\n",
    "        return None\n",
    "\n",
    "def convert_gender(gender_string):\n",
    "    if (gender_string.lower() == 'sex: female' or gender_string.lower() == 'sex: f' or gender_string.lower() == 'gender: female' or gender_string.lower() == 'gender: f'):\n",
    "        return 1\n",
    "    elif (gender_string.lower() == 'sex: male' or gender_string.lower() == 'sex: m' or gender_string.lower() == 'gender: male' or gender_string.lower() == 'gender: m') :  # changeed \n",
    "        return 0\n",
    "    else:\n",
    "        return None"
   ]
  },
  {
   "cell_type": "markdown",
   "metadata": {},
   "source": [
    "Check the processed clinical data:"
   ]
  },
  {
   "cell_type": "code",
   "execution_count": 134,
   "metadata": {
    "ExecuteTime": {
     "end_time": "2024-02-27T00:23:30.386191717Z",
     "start_time": "2024-02-27T00:23:30.351458802Z"
    },
    "collapsed": false
   },
   "outputs": [
    {
     "name": "stderr",
     "output_type": "stream",
     "text": [
      "c:\\Users\\legion\\Desktop\\TAIS_2024SP\\TAIS_2024SP\\task2\\Jiayi\\utils.py:218: FutureWarning: DataFrame.applymap has been deprecated. Use DataFrame.map instead.\n",
      "  clinical_df = clinical_df.applymap(convert_fn)\n"
     ]
    },
    {
     "data": {
      "text/html": [
       "<div>\n",
       "<style scoped>\n",
       "    .dataframe tbody tr th:only-of-type {\n",
       "        vertical-align: middle;\n",
       "    }\n",
       "\n",
       "    .dataframe tbody tr th {\n",
       "        vertical-align: top;\n",
       "    }\n",
       "\n",
       "    .dataframe thead th {\n",
       "        text-align: right;\n",
       "    }\n",
       "</style>\n",
       "<table border=\"1\" class=\"dataframe\">\n",
       "  <thead>\n",
       "    <tr style=\"text-align: right;\">\n",
       "      <th></th>\n",
       "      <th>GSM144461</th>\n",
       "      <th>GSM144462</th>\n",
       "      <th>GSM144463</th>\n",
       "      <th>GSM144464</th>\n",
       "      <th>GSM144465</th>\n",
       "      <th>GSM144466</th>\n",
       "      <th>GSM144467</th>\n",
       "      <th>GSM144468</th>\n",
       "      <th>GSM144469</th>\n",
       "      <th>GSM144470</th>\n",
       "      <th>GSM144471</th>\n",
       "      <th>GSM144472</th>\n",
       "      <th>GSM144473</th>\n",
       "      <th>GSM144474</th>\n",
       "      <th>GSM144475</th>\n",
       "      <th>GSM144476</th>\n",
       "      <th>GSM144477</th>\n",
       "      <th>GSM144478</th>\n",
       "      <th>GSM144479</th>\n",
       "      <th>GSM144480</th>\n",
       "    </tr>\n",
       "  </thead>\n",
       "  <tbody>\n",
       "    <tr>\n",
       "      <th>Kidney Chromophobe</th>\n",
       "      <td>0</td>\n",
       "      <td>0</td>\n",
       "      <td>0</td>\n",
       "      <td>1</td>\n",
       "      <td>1</td>\n",
       "      <td>1</td>\n",
       "      <td>1</td>\n",
       "      <td>1</td>\n",
       "      <td>1</td>\n",
       "      <td>1</td>\n",
       "      <td>1</td>\n",
       "      <td>0</td>\n",
       "      <td>0</td>\n",
       "      <td>0</td>\n",
       "      <td>1</td>\n",
       "      <td>1</td>\n",
       "      <td>1</td>\n",
       "      <td>1</td>\n",
       "      <td>1</td>\n",
       "      <td>1</td>\n",
       "    </tr>\n",
       "  </tbody>\n",
       "</table>\n",
       "</div>"
      ],
      "text/plain": [
       "                    GSM144461  GSM144462  GSM144463  GSM144464  GSM144465  \\\n",
       "Kidney Chromophobe          0          0          0          1          1   \n",
       "\n",
       "                    GSM144466  GSM144467  GSM144468  GSM144469  GSM144470  \\\n",
       "Kidney Chromophobe          1          1          1          1          1   \n",
       "\n",
       "                    GSM144471  GSM144472  GSM144473  GSM144474  GSM144475  \\\n",
       "Kidney Chromophobe          1          0          0          0          1   \n",
       "\n",
       "                    GSM144476  GSM144477  GSM144478  GSM144479  GSM144480  \n",
       "Kidney Chromophobe          1          1          1          1          1  "
      ]
     },
     "execution_count": 134,
     "metadata": {},
     "output_type": "execute_result"
    }
   ],
   "source": [
    "selected_clinical_data = geo_select_clinical_features(clinical_data, TRAIT, trait_row, convert_trait, age_row=age_row,\n",
    "                                                      convert_age=convert_age, gender_row=gender_row,\n",
    "                                                      convert_gender=convert_gender)\n",
    "selected_clinical_data.head()"
   ]
  },
  {
   "cell_type": "markdown",
   "metadata": {
    "ExecuteTime": {
     "end_time": "2023-12-31T03:58:04.978664193Z",
     "start_time": "2023-12-31T03:58:04.966117261Z"
    },
    "collapsed": false
   },
   "source": [
    "### Genetic data preprocessing and final filtering"
   ]
  },
  {
   "cell_type": "markdown",
   "metadata": {},
   "source": [
    "Check the genetic data:"
   ]
  },
  {
   "cell_type": "code",
   "execution_count": 135,
   "metadata": {
    "ExecuteTime": {
     "end_time": "2024-02-27T00:23:30.394809420Z",
     "start_time": "2024-02-27T00:23:30.351566744Z"
    },
    "collapsed": false
   },
   "outputs": [
    {
     "data": {
      "text/html": [
       "<div>\n",
       "<style scoped>\n",
       "    .dataframe tbody tr th:only-of-type {\n",
       "        vertical-align: middle;\n",
       "    }\n",
       "\n",
       "    .dataframe tbody tr th {\n",
       "        vertical-align: top;\n",
       "    }\n",
       "\n",
       "    .dataframe thead th {\n",
       "        text-align: right;\n",
       "    }\n",
       "</style>\n",
       "<table border=\"1\" class=\"dataframe\">\n",
       "  <thead>\n",
       "    <tr style=\"text-align: right;\">\n",
       "      <th></th>\n",
       "      <th>GSM144461</th>\n",
       "      <th>GSM144462</th>\n",
       "      <th>GSM144463</th>\n",
       "      <th>GSM144464</th>\n",
       "      <th>GSM144465</th>\n",
       "      <th>GSM144466</th>\n",
       "      <th>GSM144467</th>\n",
       "      <th>GSM144468</th>\n",
       "      <th>GSM144469</th>\n",
       "      <th>GSM144470</th>\n",
       "      <th>GSM144471</th>\n",
       "      <th>GSM144472</th>\n",
       "      <th>GSM144473</th>\n",
       "      <th>GSM144474</th>\n",
       "      <th>GSM144475</th>\n",
       "      <th>GSM144476</th>\n",
       "      <th>GSM144477</th>\n",
       "      <th>GSM144478</th>\n",
       "      <th>GSM144479</th>\n",
       "      <th>GSM144480</th>\n",
       "    </tr>\n",
       "    <tr>\n",
       "      <th>ID</th>\n",
       "      <th></th>\n",
       "      <th></th>\n",
       "      <th></th>\n",
       "      <th></th>\n",
       "      <th></th>\n",
       "      <th></th>\n",
       "      <th></th>\n",
       "      <th></th>\n",
       "      <th></th>\n",
       "      <th></th>\n",
       "      <th></th>\n",
       "      <th></th>\n",
       "      <th></th>\n",
       "      <th></th>\n",
       "      <th></th>\n",
       "      <th></th>\n",
       "      <th></th>\n",
       "      <th></th>\n",
       "      <th></th>\n",
       "      <th></th>\n",
       "    </tr>\n",
       "  </thead>\n",
       "  <tbody>\n",
       "    <tr>\n",
       "      <th>1007_s_at</th>\n",
       "      <td>2448.330886</td>\n",
       "      <td>2088.191130</td>\n",
       "      <td>2378.890584</td>\n",
       "      <td>1501.130673</td>\n",
       "      <td>771.981443</td>\n",
       "      <td>4088.512902</td>\n",
       "      <td>2674.766372</td>\n",
       "      <td>2286.899182</td>\n",
       "      <td>2255.434749</td>\n",
       "      <td>4876.216458</td>\n",
       "      <td>3433.645343</td>\n",
       "      <td>2689.300832</td>\n",
       "      <td>2689.834147</td>\n",
       "      <td>3059.908622</td>\n",
       "      <td>2561.649765</td>\n",
       "      <td>1811.874920</td>\n",
       "      <td>3602.765213</td>\n",
       "      <td>2531.526362</td>\n",
       "      <td>3454.985698</td>\n",
       "      <td>3151.208379</td>\n",
       "    </tr>\n",
       "    <tr>\n",
       "      <th>1053_at</th>\n",
       "      <td>269.267608</td>\n",
       "      <td>255.284169</td>\n",
       "      <td>130.821070</td>\n",
       "      <td>594.034183</td>\n",
       "      <td>319.061124</td>\n",
       "      <td>341.086623</td>\n",
       "      <td>365.735131</td>\n",
       "      <td>219.483530</td>\n",
       "      <td>329.812076</td>\n",
       "      <td>216.788189</td>\n",
       "      <td>199.533818</td>\n",
       "      <td>324.270167</td>\n",
       "      <td>206.305211</td>\n",
       "      <td>190.849472</td>\n",
       "      <td>597.407031</td>\n",
       "      <td>545.976134</td>\n",
       "      <td>305.906321</td>\n",
       "      <td>451.409917</td>\n",
       "      <td>314.377460</td>\n",
       "      <td>1375.650135</td>\n",
       "    </tr>\n",
       "    <tr>\n",
       "      <th>117_at</th>\n",
       "      <td>150.751626</td>\n",
       "      <td>89.611468</td>\n",
       "      <td>158.252438</td>\n",
       "      <td>213.004294</td>\n",
       "      <td>116.680020</td>\n",
       "      <td>93.676357</td>\n",
       "      <td>128.268059</td>\n",
       "      <td>150.931762</td>\n",
       "      <td>179.156876</td>\n",
       "      <td>205.794808</td>\n",
       "      <td>181.775719</td>\n",
       "      <td>119.492901</td>\n",
       "      <td>146.260180</td>\n",
       "      <td>91.682200</td>\n",
       "      <td>158.098088</td>\n",
       "      <td>101.154749</td>\n",
       "      <td>55.827173</td>\n",
       "      <td>69.107962</td>\n",
       "      <td>121.030158</td>\n",
       "      <td>81.037344</td>\n",
       "    </tr>\n",
       "    <tr>\n",
       "      <th>121_at</th>\n",
       "      <td>3467.996211</td>\n",
       "      <td>3847.292272</td>\n",
       "      <td>5602.932328</td>\n",
       "      <td>842.191072</td>\n",
       "      <td>1196.802806</td>\n",
       "      <td>4141.360747</td>\n",
       "      <td>5117.171706</td>\n",
       "      <td>2718.372649</td>\n",
       "      <td>2631.707567</td>\n",
       "      <td>3926.912036</td>\n",
       "      <td>3590.686255</td>\n",
       "      <td>3265.272459</td>\n",
       "      <td>3282.760092</td>\n",
       "      <td>3882.516064</td>\n",
       "      <td>4932.537734</td>\n",
       "      <td>3609.311177</td>\n",
       "      <td>4432.245655</td>\n",
       "      <td>3881.644349</td>\n",
       "      <td>4720.401807</td>\n",
       "      <td>4589.636116</td>\n",
       "    </tr>\n",
       "    <tr>\n",
       "      <th>1255_g_at</th>\n",
       "      <td>37.933956</td>\n",
       "      <td>11.354336</td>\n",
       "      <td>8.648698</td>\n",
       "      <td>246.040227</td>\n",
       "      <td>2.941446</td>\n",
       "      <td>32.068664</td>\n",
       "      <td>10.235054</td>\n",
       "      <td>13.217591</td>\n",
       "      <td>6.237206</td>\n",
       "      <td>11.205480</td>\n",
       "      <td>10.448371</td>\n",
       "      <td>62.219285</td>\n",
       "      <td>64.184627</td>\n",
       "      <td>49.127612</td>\n",
       "      <td>40.457592</td>\n",
       "      <td>38.888257</td>\n",
       "      <td>37.353680</td>\n",
       "      <td>61.525593</td>\n",
       "      <td>33.006454</td>\n",
       "      <td>51.429233</td>\n",
       "    </tr>\n",
       "  </tbody>\n",
       "</table>\n",
       "</div>"
      ],
      "text/plain": [
       "             GSM144461    GSM144462    GSM144463    GSM144464    GSM144465  \\\n",
       "ID                                                                           \n",
       "1007_s_at  2448.330886  2088.191130  2378.890584  1501.130673   771.981443   \n",
       "1053_at     269.267608   255.284169   130.821070   594.034183   319.061124   \n",
       "117_at      150.751626    89.611468   158.252438   213.004294   116.680020   \n",
       "121_at     3467.996211  3847.292272  5602.932328   842.191072  1196.802806   \n",
       "1255_g_at    37.933956    11.354336     8.648698   246.040227     2.941446   \n",
       "\n",
       "             GSM144466    GSM144467    GSM144468    GSM144469    GSM144470  \\\n",
       "ID                                                                           \n",
       "1007_s_at  4088.512902  2674.766372  2286.899182  2255.434749  4876.216458   \n",
       "1053_at     341.086623   365.735131   219.483530   329.812076   216.788189   \n",
       "117_at       93.676357   128.268059   150.931762   179.156876   205.794808   \n",
       "121_at     4141.360747  5117.171706  2718.372649  2631.707567  3926.912036   \n",
       "1255_g_at    32.068664    10.235054    13.217591     6.237206    11.205480   \n",
       "\n",
       "             GSM144471    GSM144472    GSM144473    GSM144474    GSM144475  \\\n",
       "ID                                                                           \n",
       "1007_s_at  3433.645343  2689.300832  2689.834147  3059.908622  2561.649765   \n",
       "1053_at     199.533818   324.270167   206.305211   190.849472   597.407031   \n",
       "117_at      181.775719   119.492901   146.260180    91.682200   158.098088   \n",
       "121_at     3590.686255  3265.272459  3282.760092  3882.516064  4932.537734   \n",
       "1255_g_at    10.448371    62.219285    64.184627    49.127612    40.457592   \n",
       "\n",
       "             GSM144476    GSM144477    GSM144478    GSM144479    GSM144480  \n",
       "ID                                                                          \n",
       "1007_s_at  1811.874920  3602.765213  2531.526362  3454.985698  3151.208379  \n",
       "1053_at     545.976134   305.906321   451.409917   314.377460  1375.650135  \n",
       "117_at      101.154749    55.827173    69.107962   121.030158    81.037344  \n",
       "121_at     3609.311177  4432.245655  3881.644349  4720.401807  4589.636116  \n",
       "1255_g_at    38.888257    37.353680    61.525593    33.006454    51.429233  "
      ]
     },
     "execution_count": 135,
     "metadata": {},
     "output_type": "execute_result"
    }
   ],
   "source": [
    "genetic_data = get_genetic_data(matrix_file)\n",
    "genetic_data.head()"
   ]
  },
  {
   "cell_type": "markdown",
   "metadata": {
    "ExecuteTime": {
     "end_time": "2023-12-31T03:30:41.595335164Z",
     "start_time": "2023-12-31T03:30:41.513232329Z"
    },
    "collapsed": false
   },
   "source": [
    "Check if the gene dataset requires mapping to get the gene symbols corresponding to each data row."
   ]
  },
  {
   "cell_type": "code",
   "execution_count": 136,
   "metadata": {},
   "outputs": [
    {
     "name": "stdout",
     "output_type": "stream",
     "text": [
      "{'ID': ['1007_s_at', '1053_at', '117_at', '121_at', '1255_g_at'], 'GB_ACC': ['U48705', 'M87338', 'X51757', 'X69699', 'L36861'], 'SPOT_ID': [nan, nan, nan, nan, nan], 'Species Scientific Name': ['Homo sapiens', 'Homo sapiens', 'Homo sapiens', 'Homo sapiens', 'Homo sapiens'], 'Annotation Date': ['Oct 6, 2014', 'Oct 6, 2014', 'Oct 6, 2014', 'Oct 6, 2014', 'Oct 6, 2014'], 'Sequence Type': ['Exemplar sequence', 'Exemplar sequence', 'Exemplar sequence', 'Exemplar sequence', 'Exemplar sequence'], 'Sequence Source': ['Affymetrix Proprietary Database', 'GenBank', 'Affymetrix Proprietary Database', 'GenBank', 'Affymetrix Proprietary Database'], 'Target Description': ['U48705 /FEATURE=mRNA /DEFINITION=HSU48705 Human receptor tyrosine kinase DDR gene, complete cds', 'M87338 /FEATURE= /DEFINITION=HUMA1SBU Human replication factor C, 40-kDa subunit (A1) mRNA, complete cds', \"X51757 /FEATURE=cds /DEFINITION=HSP70B Human heat-shock protein HSP70B' gene\", 'X69699 /FEATURE= /DEFINITION=HSPAX8A H.sapiens Pax8 mRNA', 'L36861 /FEATURE=expanded_cds /DEFINITION=HUMGCAPB Homo sapiens guanylate cyclase activating protein (GCAP) gene exons 1-4, complete cds'], 'Representative Public ID': ['U48705', 'M87338', 'X51757', 'X69699', 'L36861'], 'Gene Title': ['discoidin domain receptor tyrosine kinase 1 /// microRNA 4640', 'replication factor C (activator 1) 2, 40kDa', \"heat shock 70kDa protein 6 (HSP70B')\", 'paired box 8', 'guanylate cyclase activator 1A (retina)'], 'Gene Symbol': ['DDR1 /// MIR4640', 'RFC2', 'HSPA6', 'PAX8', 'GUCA1A'], 'ENTREZ_GENE_ID': ['780 /// 100616237', '5982', '3310', '7849', '2978'], 'RefSeq Transcript ID': ['NM_001202521 /// NM_001202522 /// NM_001202523 /// NM_001954 /// NM_013993 /// NM_013994 /// NR_039783 /// XM_005249385 /// XM_005249386 /// XM_005249387 /// XM_005249389 /// XM_005272873 /// XM_005272874 /// XM_005272875 /// XM_005272877 /// XM_005275027 /// XM_005275028 /// XM_005275030 /// XM_005275031 /// XM_005275162 /// XM_005275163 /// XM_005275164 /// XM_005275166 /// XM_005275457 /// XM_005275458 /// XM_005275459 /// XM_005275461 /// XM_006715185 /// XM_006715186 /// XM_006715187 /// XM_006715188 /// XM_006715189 /// XM_006715190 /// XM_006725501 /// XM_006725502 /// XM_006725503 /// XM_006725504 /// XM_006725505 /// XM_006725506 /// XM_006725714 /// XM_006725715 /// XM_006725716 /// XM_006725717 /// XM_006725718 /// XM_006725719 /// XM_006725720 /// XM_006725721 /// XM_006725722 /// XM_006725827 /// XM_006725828 /// XM_006725829 /// XM_006725830 /// XM_006725831 /// XM_006725832 /// XM_006726017 /// XM_006726018 /// XM_006726019 /// XM_006726020 /// XM_006726021 /// XM_006726022 /// XR_427836 /// XR_430858 /// XR_430938 /// XR_430974 /// XR_431015', 'NM_001278791 /// NM_001278792 /// NM_001278793 /// NM_002914 /// NM_181471 /// XM_006716080', 'NM_002155', 'NM_003466 /// NM_013951 /// NM_013952 /// NM_013953 /// NM_013992', 'NM_000409 /// XM_006715073'], 'Gene Ontology Biological Process': ['0001558 // regulation of cell growth // inferred from electronic annotation /// 0001952 // regulation of cell-matrix adhesion // inferred from electronic annotation /// 0006468 // protein phosphorylation // inferred from electronic annotation /// 0007155 // cell adhesion // traceable author statement /// 0007169 // transmembrane receptor protein tyrosine kinase signaling pathway // inferred from electronic annotation /// 0007565 // female pregnancy // inferred from electronic annotation /// 0007566 // embryo implantation // inferred from electronic annotation /// 0007595 // lactation // inferred from electronic annotation /// 0008285 // negative regulation of cell proliferation // inferred from electronic annotation /// 0010715 // regulation of extracellular matrix disassembly // inferred from mutant phenotype /// 0014909 // smooth muscle cell migration // inferred from mutant phenotype /// 0016310 // phosphorylation // inferred from electronic annotation /// 0018108 // peptidyl-tyrosine phosphorylation // inferred from electronic annotation /// 0030198 // extracellular matrix organization // traceable author statement /// 0038063 // collagen-activated tyrosine kinase receptor signaling pathway // inferred from direct assay /// 0038063 // collagen-activated tyrosine kinase receptor signaling pathway // inferred from mutant phenotype /// 0038083 // peptidyl-tyrosine autophosphorylation // inferred from direct assay /// 0043583 // ear development // inferred from electronic annotation /// 0044319 // wound healing, spreading of cells // inferred from mutant phenotype /// 0046777 // protein autophosphorylation // inferred from direct assay /// 0060444 // branching involved in mammary gland duct morphogenesis // inferred from electronic annotation /// 0060749 // mammary gland alveolus development // inferred from electronic annotation /// 0061302 // smooth muscle cell-matrix adhesion // inferred from mutant phenotype', '0000278 // mitotic cell cycle // traceable author statement /// 0000722 // telomere maintenance via recombination // traceable author statement /// 0000723 // telomere maintenance // traceable author statement /// 0006260 // DNA replication // traceable author statement /// 0006271 // DNA strand elongation involved in DNA replication // traceable author statement /// 0006281 // DNA repair // traceable author statement /// 0006283 // transcription-coupled nucleotide-excision repair // traceable author statement /// 0006289 // nucleotide-excision repair // traceable author statement /// 0006297 // nucleotide-excision repair, DNA gap filling // traceable author statement /// 0015979 // photosynthesis // inferred from electronic annotation /// 0015995 // chlorophyll biosynthetic process // inferred from electronic annotation /// 0032201 // telomere maintenance via semi-conservative replication // traceable author statement', '0000902 // cell morphogenesis // inferred from electronic annotation /// 0006200 // ATP catabolic process // inferred from direct assay /// 0006950 // response to stress // inferred from electronic annotation /// 0006986 // response to unfolded protein // traceable author statement /// 0034605 // cellular response to heat // inferred from direct assay /// 0042026 // protein refolding // inferred from direct assay /// 0070370 // cellular heat acclimation // inferred from mutant phenotype', '0001655 // urogenital system development // inferred from sequence or structural similarity /// 0001656 // metanephros development // inferred from electronic annotation /// 0001658 // branching involved in ureteric bud morphogenesis // inferred from expression pattern /// 0001822 // kidney development // inferred from expression pattern /// 0001823 // mesonephros development // inferred from sequence or structural similarity /// 0003337 // mesenchymal to epithelial transition involved in metanephros morphogenesis // inferred from expression pattern /// 0006351 // transcription, DNA-templated // inferred from direct assay /// 0006355 // regulation of transcription, DNA-templated // inferred from electronic annotation /// 0007275 // multicellular organismal development // inferred from electronic annotation /// 0007417 // central nervous system development // inferred from expression pattern /// 0009653 // anatomical structure morphogenesis // traceable author statement /// 0030154 // cell differentiation // inferred from electronic annotation /// 0030878 // thyroid gland development // inferred from expression pattern /// 0030878 // thyroid gland development // inferred from mutant phenotype /// 0038194 // thyroid-stimulating hormone signaling pathway // traceable author statement /// 0039003 // pronephric field specification // inferred from sequence or structural similarity /// 0042472 // inner ear morphogenesis // inferred from sequence or structural similarity /// 0042981 // regulation of apoptotic process // inferred from sequence or structural similarity /// 0045893 // positive regulation of transcription, DNA-templated // inferred from direct assay /// 0045893 // positive regulation of transcription, DNA-templated // inferred from sequence or structural similarity /// 0045944 // positive regulation of transcription from RNA polymerase II promoter // inferred from direct assay /// 0048793 // pronephros development // inferred from sequence or structural similarity /// 0071371 // cellular response to gonadotropin stimulus // inferred from direct assay /// 0071599 // otic vesicle development // inferred from expression pattern /// 0072050 // S-shaped body morphogenesis // inferred from electronic annotation /// 0072073 // kidney epithelium development // inferred from electronic annotation /// 0072108 // positive regulation of mesenchymal to epithelial transition involved in metanephros morphogenesis // inferred from sequence or structural similarity /// 0072164 // mesonephric tubule development // inferred from electronic annotation /// 0072207 // metanephric epithelium development // inferred from expression pattern /// 0072221 // metanephric distal convoluted tubule development // inferred from sequence or structural similarity /// 0072278 // metanephric comma-shaped body morphogenesis // inferred from expression pattern /// 0072284 // metanephric S-shaped body morphogenesis // inferred from expression pattern /// 0072289 // metanephric nephron tubule formation // inferred from sequence or structural similarity /// 0072305 // negative regulation of mesenchymal cell apoptotic process involved in metanephric nephron morphogenesis // inferred from sequence or structural similarity /// 0072307 // regulation of metanephric nephron tubule epithelial cell differentiation // inferred from sequence or structural similarity /// 0090190 // positive regulation of branching involved in ureteric bud morphogenesis // inferred from sequence or structural similarity /// 1900212 // negative regulation of mesenchymal cell apoptotic process involved in metanephros development // inferred from sequence or structural similarity /// 1900215 // negative regulation of apoptotic process involved in metanephric collecting duct development // inferred from sequence or structural similarity /// 1900218 // negative regulation of apoptotic process involved in metanephric nephron tubule development // inferred from sequence or structural similarity /// 2000594 // positive regulation of metanephric DCT cell differentiation // inferred from sequence or structural similarity /// 2000611 // positive regulation of thyroid hormone generation // inferred from mutant phenotype /// 2000612 // regulation of thyroid-stimulating hormone secretion // inferred from mutant phenotype', '0007165 // signal transduction // non-traceable author statement /// 0007601 // visual perception // inferred from electronic annotation /// 0007602 // phototransduction // inferred from electronic annotation /// 0007603 // phototransduction, visible light // traceable author statement /// 0016056 // rhodopsin mediated signaling pathway // traceable author statement /// 0022400 // regulation of rhodopsin mediated signaling pathway // traceable author statement /// 0030828 // positive regulation of cGMP biosynthetic process // inferred from electronic annotation /// 0031282 // regulation of guanylate cyclase activity // inferred from electronic annotation /// 0031284 // positive regulation of guanylate cyclase activity // inferred from electronic annotation /// 0050896 // response to stimulus // inferred from electronic annotation'], 'Gene Ontology Cellular Component': ['0005576 // extracellular region // inferred from electronic annotation /// 0005615 // extracellular space // inferred from direct assay /// 0005886 // plasma membrane // traceable author statement /// 0005887 // integral component of plasma membrane // traceable author statement /// 0016020 // membrane // inferred from electronic annotation /// 0016021 // integral component of membrane // inferred from electronic annotation /// 0043235 // receptor complex // inferred from direct assay /// 0070062 // extracellular vesicular exosome // inferred from direct assay', '0005634 // nucleus // inferred from electronic annotation /// 0005654 // nucleoplasm // traceable author statement /// 0005663 // DNA replication factor C complex // inferred from direct assay', '0005737 // cytoplasm // inferred from direct assay /// 0005814 // centriole // inferred from direct assay /// 0005829 // cytosol // inferred from direct assay /// 0008180 // COP9 signalosome // inferred from direct assay /// 0070062 // extracellular vesicular exosome // inferred from direct assay /// 0072562 // blood microparticle // inferred from direct assay', '0005634 // nucleus // inferred from direct assay /// 0005654 // nucleoplasm // inferred from sequence or structural similarity /// 0005730 // nucleolus // inferred from direct assay', '0001750 // photoreceptor outer segment // inferred from electronic annotation /// 0001917 // photoreceptor inner segment // inferred from electronic annotation /// 0005578 // proteinaceous extracellular matrix // inferred from electronic annotation /// 0005886 // plasma membrane // inferred from direct assay /// 0016020 // membrane // inferred from electronic annotation /// 0097381 // photoreceptor disc membrane // traceable author statement'], 'Gene Ontology Molecular Function': ['0000166 // nucleotide binding // inferred from electronic annotation /// 0004672 // protein kinase activity // inferred from electronic annotation /// 0004713 // protein tyrosine kinase activity // inferred from electronic annotation /// 0004714 // transmembrane receptor protein tyrosine kinase activity // traceable author statement /// 0005515 // protein binding // inferred from physical interaction /// 0005518 // collagen binding // inferred from direct assay /// 0005518 // collagen binding // inferred from mutant phenotype /// 0005524 // ATP binding // inferred from electronic annotation /// 0016301 // kinase activity // inferred from electronic annotation /// 0016740 // transferase activity // inferred from electronic annotation /// 0016772 // transferase activity, transferring phosphorus-containing groups // inferred from electronic annotation /// 0038062 // protein tyrosine kinase collagen receptor activity // inferred from direct assay /// 0046872 // metal ion binding // inferred from electronic annotation', '0000166 // nucleotide binding // inferred from electronic annotation /// 0003677 // DNA binding // inferred from electronic annotation /// 0005515 // protein binding // inferred from physical interaction /// 0005524 // ATP binding // inferred from electronic annotation /// 0016851 // magnesium chelatase activity // inferred from electronic annotation /// 0017111 // nucleoside-triphosphatase activity // inferred from electronic annotation', '0000166 // nucleotide binding // inferred from electronic annotation /// 0005524 // ATP binding // inferred from electronic annotation /// 0019899 // enzyme binding // inferred from physical interaction /// 0031072 // heat shock protein binding // inferred from physical interaction /// 0042623 // ATPase activity, coupled // inferred from direct assay /// 0051082 // unfolded protein binding // inferred from direct assay', '0000979 // RNA polymerase II core promoter sequence-specific DNA binding // inferred from direct assay /// 0003677 // DNA binding // inferred from direct assay /// 0003677 // DNA binding // inferred from mutant phenotype /// 0003700 // sequence-specific DNA binding transcription factor activity // inferred from direct assay /// 0004996 // thyroid-stimulating hormone receptor activity // traceable author statement /// 0005515 // protein binding // inferred from physical interaction /// 0044212 // transcription regulatory region DNA binding // inferred from direct assay', '0005509 // calcium ion binding // inferred from electronic annotation /// 0008048 // calcium sensitive guanylate cyclase activator activity // inferred from electronic annotation /// 0030249 // guanylate cyclase regulator activity // inferred from electronic annotation /// 0046872 // metal ion binding // inferred from electronic annotation']}\n"
     ]
    },
    {
     "data": {
      "text/plain": [
       "Index(['ID', 'GB_ACC', 'SPOT_ID', 'Species Scientific Name', 'Annotation Date',\n",
       "       'Sequence Type', 'Sequence Source', 'Target Description',\n",
       "       'Representative Public ID', 'Gene Title', 'Gene Symbol',\n",
       "       'ENTREZ_GENE_ID', 'RefSeq Transcript ID',\n",
       "       'Gene Ontology Biological Process', 'Gene Ontology Cellular Component',\n",
       "       'Gene Ontology Molecular Function'],\n",
       "      dtype='object')"
      ]
     },
     "execution_count": 136,
     "metadata": {},
     "output_type": "execute_result"
    }
   ],
   "source": [
    "requires_gene_mapping = True\n",
    "\n",
    "if requires_gene_mapping:\n",
    "    gene_annotation = get_gene_annotation(soft_file)\n",
    "    gene_annotation_summary = preview_df(gene_annotation)\n",
    "    print(gene_annotation_summary)\n",
    "\n",
    "gene_annotation.columns"
   ]
  },
  {
   "cell_type": "code",
   "execution_count": 137,
   "metadata": {},
   "outputs": [],
   "source": [
    "if requires_gene_mapping:\n",
    "    identifier_key = 'ID'\n",
    "    gene_symbol_key = 'Gene Symbol'\n",
    "    gene_mapping = get_gene_mapping(gene_annotation, identifier_key, gene_symbol_key)\n",
    "    genetic_data = apply_gene_mapping(genetic_data, gene_mapping)"
   ]
  },
  {
   "cell_type": "code",
   "execution_count": 138,
   "metadata": {},
   "outputs": [
    {
     "data": {
      "text/html": [
       "<div>\n",
       "<style scoped>\n",
       "    .dataframe tbody tr th:only-of-type {\n",
       "        vertical-align: middle;\n",
       "    }\n",
       "\n",
       "    .dataframe tbody tr th {\n",
       "        vertical-align: top;\n",
       "    }\n",
       "\n",
       "    .dataframe thead th {\n",
       "        text-align: right;\n",
       "    }\n",
       "</style>\n",
       "<table border=\"1\" class=\"dataframe\">\n",
       "  <thead>\n",
       "    <tr style=\"text-align: right;\">\n",
       "      <th></th>\n",
       "      <th>GSM144461</th>\n",
       "      <th>GSM144462</th>\n",
       "      <th>GSM144463</th>\n",
       "      <th>GSM144464</th>\n",
       "      <th>GSM144465</th>\n",
       "      <th>GSM144466</th>\n",
       "      <th>GSM144467</th>\n",
       "      <th>GSM144468</th>\n",
       "      <th>GSM144469</th>\n",
       "      <th>GSM144470</th>\n",
       "      <th>GSM144471</th>\n",
       "      <th>GSM144472</th>\n",
       "      <th>GSM144473</th>\n",
       "      <th>GSM144474</th>\n",
       "      <th>GSM144475</th>\n",
       "      <th>GSM144476</th>\n",
       "      <th>GSM144477</th>\n",
       "      <th>GSM144478</th>\n",
       "      <th>GSM144479</th>\n",
       "      <th>GSM144480</th>\n",
       "    </tr>\n",
       "  </thead>\n",
       "  <tbody>\n",
       "    <tr>\n",
       "      <th>A1CF</th>\n",
       "      <td>393.944297</td>\n",
       "      <td>419.312700</td>\n",
       "      <td>839.088737</td>\n",
       "      <td>336.467647</td>\n",
       "      <td>304.352824</td>\n",
       "      <td>335.174207</td>\n",
       "      <td>459.603000</td>\n",
       "      <td>1346.091671</td>\n",
       "      <td>1345.810652</td>\n",
       "      <td>445.784383</td>\n",
       "      <td>660.345296</td>\n",
       "      <td>361.051493</td>\n",
       "      <td>413.444966</td>\n",
       "      <td>1107.773843</td>\n",
       "      <td>347.994816</td>\n",
       "      <td>274.886142</td>\n",
       "      <td>306.428206</td>\n",
       "      <td>267.995520</td>\n",
       "      <td>290.416351</td>\n",
       "      <td>512.066390</td>\n",
       "    </tr>\n",
       "    <tr>\n",
       "      <th>A2M</th>\n",
       "      <td>4719.007492</td>\n",
       "      <td>3439.718868</td>\n",
       "      <td>10632.142690</td>\n",
       "      <td>1682.869608</td>\n",
       "      <td>2528.103999</td>\n",
       "      <td>2393.567193</td>\n",
       "      <td>1469.914264</td>\n",
       "      <td>9117.143657</td>\n",
       "      <td>6980.921708</td>\n",
       "      <td>3251.944599</td>\n",
       "      <td>3579.008811</td>\n",
       "      <td>3119.766026</td>\n",
       "      <td>3835.602773</td>\n",
       "      <td>9127.886413</td>\n",
       "      <td>103.539432</td>\n",
       "      <td>89.829983</td>\n",
       "      <td>72.924917</td>\n",
       "      <td>91.767363</td>\n",
       "      <td>102.311943</td>\n",
       "      <td>131.196707</td>\n",
       "    </tr>\n",
       "    <tr>\n",
       "      <th>A4GALT</th>\n",
       "      <td>49.958838</td>\n",
       "      <td>79.301499</td>\n",
       "      <td>90.511041</td>\n",
       "      <td>55.524387</td>\n",
       "      <td>16.177150</td>\n",
       "      <td>224.417580</td>\n",
       "      <td>64.379765</td>\n",
       "      <td>194.931170</td>\n",
       "      <td>168.587980</td>\n",
       "      <td>177.297132</td>\n",
       "      <td>70.003244</td>\n",
       "      <td>86.315557</td>\n",
       "      <td>25.267943</td>\n",
       "      <td>154.023404</td>\n",
       "      <td>93.232293</td>\n",
       "      <td>151.859925</td>\n",
       "      <td>109.757082</td>\n",
       "      <td>124.494964</td>\n",
       "      <td>107.948949</td>\n",
       "      <td>116.635868</td>\n",
       "    </tr>\n",
       "    <tr>\n",
       "      <th>A4GNT</th>\n",
       "      <td>131.615662</td>\n",
       "      <td>49.544167</td>\n",
       "      <td>119.047538</td>\n",
       "      <td>88.923424</td>\n",
       "      <td>69.388208</td>\n",
       "      <td>80.916960</td>\n",
       "      <td>166.375412</td>\n",
       "      <td>116.424861</td>\n",
       "      <td>22.586034</td>\n",
       "      <td>165.208876</td>\n",
       "      <td>206.573198</td>\n",
       "      <td>131.353374</td>\n",
       "      <td>85.458122</td>\n",
       "      <td>112.478623</td>\n",
       "      <td>158.033502</td>\n",
       "      <td>67.860074</td>\n",
       "      <td>116.941110</td>\n",
       "      <td>60.102529</td>\n",
       "      <td>123.193870</td>\n",
       "      <td>161.910441</td>\n",
       "    </tr>\n",
       "    <tr>\n",
       "      <th>AAAS</th>\n",
       "      <td>131.478372</td>\n",
       "      <td>131.223627</td>\n",
       "      <td>38.636492</td>\n",
       "      <td>189.905822</td>\n",
       "      <td>181.276047</td>\n",
       "      <td>158.221706</td>\n",
       "      <td>113.384153</td>\n",
       "      <td>136.317584</td>\n",
       "      <td>297.286839</td>\n",
       "      <td>45.135663</td>\n",
       "      <td>47.571577</td>\n",
       "      <td>126.026207</td>\n",
       "      <td>219.367983</td>\n",
       "      <td>166.142089</td>\n",
       "      <td>181.547875</td>\n",
       "      <td>100.878947</td>\n",
       "      <td>42.981564</td>\n",
       "      <td>25.980267</td>\n",
       "      <td>23.553774</td>\n",
       "      <td>63.487871</td>\n",
       "    </tr>\n",
       "    <tr>\n",
       "      <th>...</th>\n",
       "      <td>...</td>\n",
       "      <td>...</td>\n",
       "      <td>...</td>\n",
       "      <td>...</td>\n",
       "      <td>...</td>\n",
       "      <td>...</td>\n",
       "      <td>...</td>\n",
       "      <td>...</td>\n",
       "      <td>...</td>\n",
       "      <td>...</td>\n",
       "      <td>...</td>\n",
       "      <td>...</td>\n",
       "      <td>...</td>\n",
       "      <td>...</td>\n",
       "      <td>...</td>\n",
       "      <td>...</td>\n",
       "      <td>...</td>\n",
       "      <td>...</td>\n",
       "      <td>...</td>\n",
       "      <td>...</td>\n",
       "    </tr>\n",
       "    <tr>\n",
       "      <th>ZXDB</th>\n",
       "      <td>10.558654</td>\n",
       "      <td>33.947600</td>\n",
       "      <td>46.070455</td>\n",
       "      <td>43.445391</td>\n",
       "      <td>61.595873</td>\n",
       "      <td>39.224029</td>\n",
       "      <td>37.271771</td>\n",
       "      <td>91.102073</td>\n",
       "      <td>42.849965</td>\n",
       "      <td>82.402914</td>\n",
       "      <td>91.435893</td>\n",
       "      <td>52.568486</td>\n",
       "      <td>16.065046</td>\n",
       "      <td>106.432828</td>\n",
       "      <td>15.418238</td>\n",
       "      <td>17.135592</td>\n",
       "      <td>48.544495</td>\n",
       "      <td>32.215183</td>\n",
       "      <td>60.254770</td>\n",
       "      <td>95.287158</td>\n",
       "    </tr>\n",
       "    <tr>\n",
       "      <th>ZXDC</th>\n",
       "      <td>423.033883</td>\n",
       "      <td>340.566859</td>\n",
       "      <td>373.343082</td>\n",
       "      <td>217.649532</td>\n",
       "      <td>523.625683</td>\n",
       "      <td>289.331912</td>\n",
       "      <td>287.891936</td>\n",
       "      <td>395.398262</td>\n",
       "      <td>479.461459</td>\n",
       "      <td>86.904721</td>\n",
       "      <td>136.707254</td>\n",
       "      <td>313.826599</td>\n",
       "      <td>318.848531</td>\n",
       "      <td>127.976212</td>\n",
       "      <td>55.265391</td>\n",
       "      <td>82.592402</td>\n",
       "      <td>176.259601</td>\n",
       "      <td>171.470474</td>\n",
       "      <td>166.607842</td>\n",
       "      <td>69.168220</td>\n",
       "    </tr>\n",
       "    <tr>\n",
       "      <th>ZYX</th>\n",
       "      <td>921.478534</td>\n",
       "      <td>506.799871</td>\n",
       "      <td>990.485936</td>\n",
       "      <td>848.028158</td>\n",
       "      <td>784.246503</td>\n",
       "      <td>1656.972634</td>\n",
       "      <td>1332.797022</td>\n",
       "      <td>733.009275</td>\n",
       "      <td>973.694145</td>\n",
       "      <td>260.131155</td>\n",
       "      <td>201.479456</td>\n",
       "      <td>969.376201</td>\n",
       "      <td>939.347579</td>\n",
       "      <td>1149.685743</td>\n",
       "      <td>2501.301051</td>\n",
       "      <td>1619.250402</td>\n",
       "      <td>2691.822218</td>\n",
       "      <td>1965.301338</td>\n",
       "      <td>2535.658897</td>\n",
       "      <td>2752.516539</td>\n",
       "    </tr>\n",
       "    <tr>\n",
       "      <th>ZZEF1</th>\n",
       "      <td>176.096677</td>\n",
       "      <td>111.808237</td>\n",
       "      <td>87.818233</td>\n",
       "      <td>98.616717</td>\n",
       "      <td>156.785762</td>\n",
       "      <td>193.936914</td>\n",
       "      <td>75.116985</td>\n",
       "      <td>137.827812</td>\n",
       "      <td>136.597780</td>\n",
       "      <td>61.583107</td>\n",
       "      <td>96.379313</td>\n",
       "      <td>100.145365</td>\n",
       "      <td>143.097354</td>\n",
       "      <td>124.260339</td>\n",
       "      <td>122.797954</td>\n",
       "      <td>106.893822</td>\n",
       "      <td>129.684998</td>\n",
       "      <td>126.550386</td>\n",
       "      <td>128.342315</td>\n",
       "      <td>149.553053</td>\n",
       "    </tr>\n",
       "    <tr>\n",
       "      <th>ZZZ3</th>\n",
       "      <td>1280.653366</td>\n",
       "      <td>990.276121</td>\n",
       "      <td>607.497664</td>\n",
       "      <td>611.688165</td>\n",
       "      <td>710.384150</td>\n",
       "      <td>672.479055</td>\n",
       "      <td>416.914697</td>\n",
       "      <td>405.237446</td>\n",
       "      <td>526.876845</td>\n",
       "      <td>452.282034</td>\n",
       "      <td>988.318427</td>\n",
       "      <td>894.453028</td>\n",
       "      <td>869.243641</td>\n",
       "      <td>410.082619</td>\n",
       "      <td>615.407798</td>\n",
       "      <td>781.128982</td>\n",
       "      <td>677.497065</td>\n",
       "      <td>640.044406</td>\n",
       "      <td>705.645011</td>\n",
       "      <td>214.185045</td>\n",
       "    </tr>\n",
       "  </tbody>\n",
       "</table>\n",
       "<p>11727 rows × 20 columns</p>\n",
       "</div>"
      ],
      "text/plain": [
       "          GSM144461    GSM144462     GSM144463    GSM144464    GSM144465  \\\n",
       "A1CF     393.944297   419.312700    839.088737   336.467647   304.352824   \n",
       "A2M     4719.007492  3439.718868  10632.142690  1682.869608  2528.103999   \n",
       "A4GALT    49.958838    79.301499     90.511041    55.524387    16.177150   \n",
       "A4GNT    131.615662    49.544167    119.047538    88.923424    69.388208   \n",
       "AAAS     131.478372   131.223627     38.636492   189.905822   181.276047   \n",
       "...             ...          ...           ...          ...          ...   \n",
       "ZXDB      10.558654    33.947600     46.070455    43.445391    61.595873   \n",
       "ZXDC     423.033883   340.566859    373.343082   217.649532   523.625683   \n",
       "ZYX      921.478534   506.799871    990.485936   848.028158   784.246503   \n",
       "ZZEF1    176.096677   111.808237     87.818233    98.616717   156.785762   \n",
       "ZZZ3    1280.653366   990.276121    607.497664   611.688165   710.384150   \n",
       "\n",
       "          GSM144466    GSM144467    GSM144468    GSM144469    GSM144470  \\\n",
       "A1CF     335.174207   459.603000  1346.091671  1345.810652   445.784383   \n",
       "A2M     2393.567193  1469.914264  9117.143657  6980.921708  3251.944599   \n",
       "A4GALT   224.417580    64.379765   194.931170   168.587980   177.297132   \n",
       "A4GNT     80.916960   166.375412   116.424861    22.586034   165.208876   \n",
       "AAAS     158.221706   113.384153   136.317584   297.286839    45.135663   \n",
       "...             ...          ...          ...          ...          ...   \n",
       "ZXDB      39.224029    37.271771    91.102073    42.849965    82.402914   \n",
       "ZXDC     289.331912   287.891936   395.398262   479.461459    86.904721   \n",
       "ZYX     1656.972634  1332.797022   733.009275   973.694145   260.131155   \n",
       "ZZEF1    193.936914    75.116985   137.827812   136.597780    61.583107   \n",
       "ZZZ3     672.479055   416.914697   405.237446   526.876845   452.282034   \n",
       "\n",
       "          GSM144471    GSM144472    GSM144473    GSM144474    GSM144475  \\\n",
       "A1CF     660.345296   361.051493   413.444966  1107.773843   347.994816   \n",
       "A2M     3579.008811  3119.766026  3835.602773  9127.886413   103.539432   \n",
       "A4GALT    70.003244    86.315557    25.267943   154.023404    93.232293   \n",
       "A4GNT    206.573198   131.353374    85.458122   112.478623   158.033502   \n",
       "AAAS      47.571577   126.026207   219.367983   166.142089   181.547875   \n",
       "...             ...          ...          ...          ...          ...   \n",
       "ZXDB      91.435893    52.568486    16.065046   106.432828    15.418238   \n",
       "ZXDC     136.707254   313.826599   318.848531   127.976212    55.265391   \n",
       "ZYX      201.479456   969.376201   939.347579  1149.685743  2501.301051   \n",
       "ZZEF1     96.379313   100.145365   143.097354   124.260339   122.797954   \n",
       "ZZZ3     988.318427   894.453028   869.243641   410.082619   615.407798   \n",
       "\n",
       "          GSM144476    GSM144477    GSM144478    GSM144479    GSM144480  \n",
       "A1CF     274.886142   306.428206   267.995520   290.416351   512.066390  \n",
       "A2M       89.829983    72.924917    91.767363   102.311943   131.196707  \n",
       "A4GALT   151.859925   109.757082   124.494964   107.948949   116.635868  \n",
       "A4GNT     67.860074   116.941110    60.102529   123.193870   161.910441  \n",
       "AAAS     100.878947    42.981564    25.980267    23.553774    63.487871  \n",
       "...             ...          ...          ...          ...          ...  \n",
       "ZXDB      17.135592    48.544495    32.215183    60.254770    95.287158  \n",
       "ZXDC      82.592402   176.259601   171.470474   166.607842    69.168220  \n",
       "ZYX     1619.250402  2691.822218  1965.301338  2535.658897  2752.516539  \n",
       "ZZEF1    106.893822   129.684998   126.550386   128.342315   149.553053  \n",
       "ZZZ3     781.128982   677.497065   640.044406   705.645011   214.185045  \n",
       "\n",
       "[11727 rows x 20 columns]"
      ]
     },
     "execution_count": 138,
     "metadata": {},
     "output_type": "execute_result"
    }
   ],
   "source": [
    "genetic_data = normalize_gene_symbols_in_index(genetic_data)\n",
    "genetic_data"
   ]
  },
  {
   "cell_type": "markdown",
   "metadata": {},
   "source": [
    "Use selected clinical data and genetic data to generate the merged data:"
   ]
  },
  {
   "cell_type": "code",
   "execution_count": 139,
   "metadata": {},
   "outputs": [
    {
     "data": {
      "text/html": [
       "<div>\n",
       "<style scoped>\n",
       "    .dataframe tbody tr th:only-of-type {\n",
       "        vertical-align: middle;\n",
       "    }\n",
       "\n",
       "    .dataframe tbody tr th {\n",
       "        vertical-align: top;\n",
       "    }\n",
       "\n",
       "    .dataframe thead th {\n",
       "        text-align: right;\n",
       "    }\n",
       "</style>\n",
       "<table border=\"1\" class=\"dataframe\">\n",
       "  <thead>\n",
       "    <tr style=\"text-align: right;\">\n",
       "      <th></th>\n",
       "      <th>Kidney Chromophobe</th>\n",
       "      <th>A1CF</th>\n",
       "      <th>A2M</th>\n",
       "      <th>A4GALT</th>\n",
       "      <th>A4GNT</th>\n",
       "      <th>AAAS</th>\n",
       "      <th>AACS</th>\n",
       "      <th>AADAC</th>\n",
       "      <th>AAGAB</th>\n",
       "      <th>AAK1</th>\n",
       "      <th>...</th>\n",
       "      <th>ZSWIM1</th>\n",
       "      <th>ZSWIM8</th>\n",
       "      <th>ZW10</th>\n",
       "      <th>ZWILCH</th>\n",
       "      <th>ZWINT</th>\n",
       "      <th>ZXDB</th>\n",
       "      <th>ZXDC</th>\n",
       "      <th>ZYX</th>\n",
       "      <th>ZZEF1</th>\n",
       "      <th>ZZZ3</th>\n",
       "    </tr>\n",
       "  </thead>\n",
       "  <tbody>\n",
       "    <tr>\n",
       "      <th>GSM144461</th>\n",
       "      <td>0.0</td>\n",
       "      <td>393.944297</td>\n",
       "      <td>4719.007492</td>\n",
       "      <td>49.958838</td>\n",
       "      <td>131.615662</td>\n",
       "      <td>131.478372</td>\n",
       "      <td>462.966645</td>\n",
       "      <td>7.547504</td>\n",
       "      <td>104.462909</td>\n",
       "      <td>121.518358</td>\n",
       "      <td>...</td>\n",
       "      <td>157.946930</td>\n",
       "      <td>307.996299</td>\n",
       "      <td>575.516348</td>\n",
       "      <td>262.633939</td>\n",
       "      <td>1459.738442</td>\n",
       "      <td>10.558654</td>\n",
       "      <td>423.033883</td>\n",
       "      <td>921.478534</td>\n",
       "      <td>176.096677</td>\n",
       "      <td>1280.653366</td>\n",
       "    </tr>\n",
       "    <tr>\n",
       "      <th>GSM144462</th>\n",
       "      <td>0.0</td>\n",
       "      <td>419.312700</td>\n",
       "      <td>3439.718868</td>\n",
       "      <td>79.301499</td>\n",
       "      <td>49.544167</td>\n",
       "      <td>131.223627</td>\n",
       "      <td>447.606918</td>\n",
       "      <td>11.506281</td>\n",
       "      <td>145.003755</td>\n",
       "      <td>130.319579</td>\n",
       "      <td>...</td>\n",
       "      <td>128.761465</td>\n",
       "      <td>355.480853</td>\n",
       "      <td>592.043995</td>\n",
       "      <td>170.986463</td>\n",
       "      <td>957.986100</td>\n",
       "      <td>33.947600</td>\n",
       "      <td>340.566859</td>\n",
       "      <td>506.799871</td>\n",
       "      <td>111.808237</td>\n",
       "      <td>990.276121</td>\n",
       "    </tr>\n",
       "    <tr>\n",
       "      <th>GSM144463</th>\n",
       "      <td>0.0</td>\n",
       "      <td>839.088737</td>\n",
       "      <td>10632.142690</td>\n",
       "      <td>90.511041</td>\n",
       "      <td>119.047538</td>\n",
       "      <td>38.636492</td>\n",
       "      <td>380.267530</td>\n",
       "      <td>16.028805</td>\n",
       "      <td>185.398330</td>\n",
       "      <td>236.420183</td>\n",
       "      <td>...</td>\n",
       "      <td>206.321747</td>\n",
       "      <td>452.471203</td>\n",
       "      <td>337.618206</td>\n",
       "      <td>14.578266</td>\n",
       "      <td>325.414536</td>\n",
       "      <td>46.070455</td>\n",
       "      <td>373.343082</td>\n",
       "      <td>990.485936</td>\n",
       "      <td>87.818233</td>\n",
       "      <td>607.497664</td>\n",
       "    </tr>\n",
       "    <tr>\n",
       "      <th>GSM144464</th>\n",
       "      <td>1.0</td>\n",
       "      <td>336.467647</td>\n",
       "      <td>1682.869608</td>\n",
       "      <td>55.524387</td>\n",
       "      <td>88.923424</td>\n",
       "      <td>189.905822</td>\n",
       "      <td>546.137019</td>\n",
       "      <td>12.986112</td>\n",
       "      <td>260.016757</td>\n",
       "      <td>126.586850</td>\n",
       "      <td>...</td>\n",
       "      <td>144.294869</td>\n",
       "      <td>321.884265</td>\n",
       "      <td>631.321929</td>\n",
       "      <td>538.712478</td>\n",
       "      <td>1768.975867</td>\n",
       "      <td>43.445391</td>\n",
       "      <td>217.649532</td>\n",
       "      <td>848.028158</td>\n",
       "      <td>98.616717</td>\n",
       "      <td>611.688165</td>\n",
       "    </tr>\n",
       "    <tr>\n",
       "      <th>GSM144465</th>\n",
       "      <td>1.0</td>\n",
       "      <td>304.352824</td>\n",
       "      <td>2528.103999</td>\n",
       "      <td>16.177150</td>\n",
       "      <td>69.388208</td>\n",
       "      <td>181.276047</td>\n",
       "      <td>410.124951</td>\n",
       "      <td>8.106628</td>\n",
       "      <td>205.610911</td>\n",
       "      <td>152.169285</td>\n",
       "      <td>...</td>\n",
       "      <td>127.444978</td>\n",
       "      <td>487.996451</td>\n",
       "      <td>570.303431</td>\n",
       "      <td>389.849283</td>\n",
       "      <td>1080.700123</td>\n",
       "      <td>61.595873</td>\n",
       "      <td>523.625683</td>\n",
       "      <td>784.246503</td>\n",
       "      <td>156.785762</td>\n",
       "      <td>710.384150</td>\n",
       "    </tr>\n",
       "    <tr>\n",
       "      <th>GSM144466</th>\n",
       "      <td>1.0</td>\n",
       "      <td>335.174207</td>\n",
       "      <td>2393.567193</td>\n",
       "      <td>224.417580</td>\n",
       "      <td>80.916960</td>\n",
       "      <td>158.221706</td>\n",
       "      <td>446.913434</td>\n",
       "      <td>12.557300</td>\n",
       "      <td>251.259770</td>\n",
       "      <td>180.410165</td>\n",
       "      <td>...</td>\n",
       "      <td>118.930734</td>\n",
       "      <td>399.247372</td>\n",
       "      <td>416.674309</td>\n",
       "      <td>101.277905</td>\n",
       "      <td>325.019757</td>\n",
       "      <td>39.224029</td>\n",
       "      <td>289.331912</td>\n",
       "      <td>1656.972634</td>\n",
       "      <td>193.936914</td>\n",
       "      <td>672.479055</td>\n",
       "    </tr>\n",
       "    <tr>\n",
       "      <th>GSM144467</th>\n",
       "      <td>1.0</td>\n",
       "      <td>459.603000</td>\n",
       "      <td>1469.914264</td>\n",
       "      <td>64.379765</td>\n",
       "      <td>166.375412</td>\n",
       "      <td>113.384153</td>\n",
       "      <td>495.138195</td>\n",
       "      <td>10.760307</td>\n",
       "      <td>306.258201</td>\n",
       "      <td>188.590295</td>\n",
       "      <td>...</td>\n",
       "      <td>191.973947</td>\n",
       "      <td>183.822971</td>\n",
       "      <td>439.882323</td>\n",
       "      <td>96.552485</td>\n",
       "      <td>380.991633</td>\n",
       "      <td>37.271771</td>\n",
       "      <td>287.891936</td>\n",
       "      <td>1332.797022</td>\n",
       "      <td>75.116985</td>\n",
       "      <td>416.914697</td>\n",
       "    </tr>\n",
       "    <tr>\n",
       "      <th>GSM144468</th>\n",
       "      <td>1.0</td>\n",
       "      <td>1346.091671</td>\n",
       "      <td>9117.143657</td>\n",
       "      <td>194.931170</td>\n",
       "      <td>116.424861</td>\n",
       "      <td>136.317584</td>\n",
       "      <td>295.533127</td>\n",
       "      <td>16.908484</td>\n",
       "      <td>140.985456</td>\n",
       "      <td>170.954997</td>\n",
       "      <td>...</td>\n",
       "      <td>192.403265</td>\n",
       "      <td>445.919467</td>\n",
       "      <td>456.478396</td>\n",
       "      <td>6.491022</td>\n",
       "      <td>348.142671</td>\n",
       "      <td>91.102073</td>\n",
       "      <td>395.398262</td>\n",
       "      <td>733.009275</td>\n",
       "      <td>137.827812</td>\n",
       "      <td>405.237446</td>\n",
       "    </tr>\n",
       "    <tr>\n",
       "      <th>GSM144469</th>\n",
       "      <td>1.0</td>\n",
       "      <td>1345.810652</td>\n",
       "      <td>6980.921708</td>\n",
       "      <td>168.587980</td>\n",
       "      <td>22.586034</td>\n",
       "      <td>297.286839</td>\n",
       "      <td>317.869036</td>\n",
       "      <td>9.872151</td>\n",
       "      <td>151.278739</td>\n",
       "      <td>135.681200</td>\n",
       "      <td>...</td>\n",
       "      <td>30.741197</td>\n",
       "      <td>488.605292</td>\n",
       "      <td>401.334453</td>\n",
       "      <td>50.910698</td>\n",
       "      <td>350.587775</td>\n",
       "      <td>42.849965</td>\n",
       "      <td>479.461459</td>\n",
       "      <td>973.694145</td>\n",
       "      <td>136.597780</td>\n",
       "      <td>526.876845</td>\n",
       "    </tr>\n",
       "    <tr>\n",
       "      <th>GSM144470</th>\n",
       "      <td>1.0</td>\n",
       "      <td>445.784383</td>\n",
       "      <td>3251.944599</td>\n",
       "      <td>177.297132</td>\n",
       "      <td>165.208876</td>\n",
       "      <td>45.135663</td>\n",
       "      <td>371.403622</td>\n",
       "      <td>21.059056</td>\n",
       "      <td>254.574584</td>\n",
       "      <td>166.202472</td>\n",
       "      <td>...</td>\n",
       "      <td>168.860554</td>\n",
       "      <td>173.289270</td>\n",
       "      <td>824.131863</td>\n",
       "      <td>80.999068</td>\n",
       "      <td>239.980663</td>\n",
       "      <td>82.402914</td>\n",
       "      <td>86.904721</td>\n",
       "      <td>260.131155</td>\n",
       "      <td>61.583107</td>\n",
       "      <td>452.282034</td>\n",
       "    </tr>\n",
       "    <tr>\n",
       "      <th>GSM144471</th>\n",
       "      <td>1.0</td>\n",
       "      <td>660.345296</td>\n",
       "      <td>3579.008811</td>\n",
       "      <td>70.003244</td>\n",
       "      <td>206.573198</td>\n",
       "      <td>47.571577</td>\n",
       "      <td>759.520736</td>\n",
       "      <td>39.312988</td>\n",
       "      <td>265.942356</td>\n",
       "      <td>167.611343</td>\n",
       "      <td>...</td>\n",
       "      <td>223.460524</td>\n",
       "      <td>205.268319</td>\n",
       "      <td>651.088688</td>\n",
       "      <td>50.357059</td>\n",
       "      <td>680.727259</td>\n",
       "      <td>91.435893</td>\n",
       "      <td>136.707254</td>\n",
       "      <td>201.479456</td>\n",
       "      <td>96.379313</td>\n",
       "      <td>988.318427</td>\n",
       "    </tr>\n",
       "    <tr>\n",
       "      <th>GSM144472</th>\n",
       "      <td>0.0</td>\n",
       "      <td>361.051493</td>\n",
       "      <td>3119.766026</td>\n",
       "      <td>86.315557</td>\n",
       "      <td>131.353374</td>\n",
       "      <td>126.026207</td>\n",
       "      <td>574.951414</td>\n",
       "      <td>17.014145</td>\n",
       "      <td>217.262832</td>\n",
       "      <td>147.511635</td>\n",
       "      <td>...</td>\n",
       "      <td>144.867633</td>\n",
       "      <td>304.927395</td>\n",
       "      <td>601.855009</td>\n",
       "      <td>328.904919</td>\n",
       "      <td>1418.866119</td>\n",
       "      <td>52.568486</td>\n",
       "      <td>313.826599</td>\n",
       "      <td>969.376201</td>\n",
       "      <td>100.145365</td>\n",
       "      <td>894.453028</td>\n",
       "    </tr>\n",
       "    <tr>\n",
       "      <th>GSM144473</th>\n",
       "      <td>0.0</td>\n",
       "      <td>413.444966</td>\n",
       "      <td>3835.602773</td>\n",
       "      <td>25.267943</td>\n",
       "      <td>85.458122</td>\n",
       "      <td>219.367983</td>\n",
       "      <td>578.182607</td>\n",
       "      <td>14.584935</td>\n",
       "      <td>228.320536</td>\n",
       "      <td>143.228740</td>\n",
       "      <td>...</td>\n",
       "      <td>189.808841</td>\n",
       "      <td>349.446956</td>\n",
       "      <td>717.624328</td>\n",
       "      <td>260.019533</td>\n",
       "      <td>873.077735</td>\n",
       "      <td>16.065046</td>\n",
       "      <td>318.848531</td>\n",
       "      <td>939.347579</td>\n",
       "      <td>143.097354</td>\n",
       "      <td>869.243641</td>\n",
       "    </tr>\n",
       "    <tr>\n",
       "      <th>GSM144474</th>\n",
       "      <td>0.0</td>\n",
       "      <td>1107.773843</td>\n",
       "      <td>9127.886413</td>\n",
       "      <td>154.023404</td>\n",
       "      <td>112.478623</td>\n",
       "      <td>166.142089</td>\n",
       "      <td>497.900192</td>\n",
       "      <td>10.242301</td>\n",
       "      <td>277.447054</td>\n",
       "      <td>223.233649</td>\n",
       "      <td>...</td>\n",
       "      <td>241.460350</td>\n",
       "      <td>353.323418</td>\n",
       "      <td>611.472503</td>\n",
       "      <td>62.259162</td>\n",
       "      <td>470.799840</td>\n",
       "      <td>106.432828</td>\n",
       "      <td>127.976212</td>\n",
       "      <td>1149.685743</td>\n",
       "      <td>124.260339</td>\n",
       "      <td>410.082619</td>\n",
       "    </tr>\n",
       "    <tr>\n",
       "      <th>GSM144475</th>\n",
       "      <td>1.0</td>\n",
       "      <td>347.994816</td>\n",
       "      <td>103.539432</td>\n",
       "      <td>93.232293</td>\n",
       "      <td>158.033502</td>\n",
       "      <td>181.547875</td>\n",
       "      <td>819.363465</td>\n",
       "      <td>23.130576</td>\n",
       "      <td>283.933450</td>\n",
       "      <td>96.805956</td>\n",
       "      <td>...</td>\n",
       "      <td>116.428291</td>\n",
       "      <td>235.686803</td>\n",
       "      <td>893.451745</td>\n",
       "      <td>479.249437</td>\n",
       "      <td>2036.628356</td>\n",
       "      <td>15.418238</td>\n",
       "      <td>55.265391</td>\n",
       "      <td>2501.301051</td>\n",
       "      <td>122.797954</td>\n",
       "      <td>615.407798</td>\n",
       "    </tr>\n",
       "    <tr>\n",
       "      <th>GSM144476</th>\n",
       "      <td>1.0</td>\n",
       "      <td>274.886142</td>\n",
       "      <td>89.829983</td>\n",
       "      <td>151.859925</td>\n",
       "      <td>67.860074</td>\n",
       "      <td>100.878947</td>\n",
       "      <td>890.587280</td>\n",
       "      <td>12.789136</td>\n",
       "      <td>274.873402</td>\n",
       "      <td>86.142954</td>\n",
       "      <td>...</td>\n",
       "      <td>110.876155</td>\n",
       "      <td>224.259822</td>\n",
       "      <td>728.298389</td>\n",
       "      <td>459.164711</td>\n",
       "      <td>2619.198037</td>\n",
       "      <td>17.135592</td>\n",
       "      <td>82.592402</td>\n",
       "      <td>1619.250402</td>\n",
       "      <td>106.893822</td>\n",
       "      <td>781.128982</td>\n",
       "    </tr>\n",
       "    <tr>\n",
       "      <th>GSM144477</th>\n",
       "      <td>1.0</td>\n",
       "      <td>306.428206</td>\n",
       "      <td>72.924917</td>\n",
       "      <td>109.757082</td>\n",
       "      <td>116.941110</td>\n",
       "      <td>42.981564</td>\n",
       "      <td>1113.653836</td>\n",
       "      <td>24.902194</td>\n",
       "      <td>258.720951</td>\n",
       "      <td>96.354017</td>\n",
       "      <td>...</td>\n",
       "      <td>108.494913</td>\n",
       "      <td>238.321250</td>\n",
       "      <td>605.423626</td>\n",
       "      <td>325.527677</td>\n",
       "      <td>1081.027543</td>\n",
       "      <td>48.544495</td>\n",
       "      <td>176.259601</td>\n",
       "      <td>2691.822218</td>\n",
       "      <td>129.684998</td>\n",
       "      <td>677.497065</td>\n",
       "    </tr>\n",
       "    <tr>\n",
       "      <th>GSM144478</th>\n",
       "      <td>1.0</td>\n",
       "      <td>267.995520</td>\n",
       "      <td>91.767363</td>\n",
       "      <td>124.494964</td>\n",
       "      <td>60.102529</td>\n",
       "      <td>25.980267</td>\n",
       "      <td>642.770948</td>\n",
       "      <td>13.072453</td>\n",
       "      <td>239.028265</td>\n",
       "      <td>88.726413</td>\n",
       "      <td>...</td>\n",
       "      <td>122.528922</td>\n",
       "      <td>178.837533</td>\n",
       "      <td>831.413222</td>\n",
       "      <td>656.874654</td>\n",
       "      <td>3240.481587</td>\n",
       "      <td>32.215183</td>\n",
       "      <td>171.470474</td>\n",
       "      <td>1965.301338</td>\n",
       "      <td>126.550386</td>\n",
       "      <td>640.044406</td>\n",
       "    </tr>\n",
       "    <tr>\n",
       "      <th>GSM144479</th>\n",
       "      <td>1.0</td>\n",
       "      <td>290.416351</td>\n",
       "      <td>102.311943</td>\n",
       "      <td>107.948949</td>\n",
       "      <td>123.193870</td>\n",
       "      <td>23.553774</td>\n",
       "      <td>869.281682</td>\n",
       "      <td>22.790123</td>\n",
       "      <td>269.260397</td>\n",
       "      <td>142.055122</td>\n",
       "      <td>...</td>\n",
       "      <td>126.022008</td>\n",
       "      <td>213.675866</td>\n",
       "      <td>682.955885</td>\n",
       "      <td>306.934402</td>\n",
       "      <td>1175.574611</td>\n",
       "      <td>60.254770</td>\n",
       "      <td>166.607842</td>\n",
       "      <td>2535.658897</td>\n",
       "      <td>128.342315</td>\n",
       "      <td>705.645011</td>\n",
       "    </tr>\n",
       "    <tr>\n",
       "      <th>GSM144480</th>\n",
       "      <td>1.0</td>\n",
       "      <td>512.066390</td>\n",
       "      <td>131.196707</td>\n",
       "      <td>116.635868</td>\n",
       "      <td>161.910441</td>\n",
       "      <td>63.487871</td>\n",
       "      <td>1144.583251</td>\n",
       "      <td>38.444682</td>\n",
       "      <td>204.777108</td>\n",
       "      <td>126.753180</td>\n",
       "      <td>...</td>\n",
       "      <td>192.276861</td>\n",
       "      <td>349.325387</td>\n",
       "      <td>695.096690</td>\n",
       "      <td>214.609161</td>\n",
       "      <td>1786.384617</td>\n",
       "      <td>95.287158</td>\n",
       "      <td>69.168220</td>\n",
       "      <td>2752.516539</td>\n",
       "      <td>149.553053</td>\n",
       "      <td>214.185045</td>\n",
       "    </tr>\n",
       "  </tbody>\n",
       "</table>\n",
       "<p>20 rows × 11728 columns</p>\n",
       "</div>"
      ],
      "text/plain": [
       "           Kidney Chromophobe         A1CF           A2M      A4GALT  \\\n",
       "GSM144461                 0.0   393.944297   4719.007492   49.958838   \n",
       "GSM144462                 0.0   419.312700   3439.718868   79.301499   \n",
       "GSM144463                 0.0   839.088737  10632.142690   90.511041   \n",
       "GSM144464                 1.0   336.467647   1682.869608   55.524387   \n",
       "GSM144465                 1.0   304.352824   2528.103999   16.177150   \n",
       "GSM144466                 1.0   335.174207   2393.567193  224.417580   \n",
       "GSM144467                 1.0   459.603000   1469.914264   64.379765   \n",
       "GSM144468                 1.0  1346.091671   9117.143657  194.931170   \n",
       "GSM144469                 1.0  1345.810652   6980.921708  168.587980   \n",
       "GSM144470                 1.0   445.784383   3251.944599  177.297132   \n",
       "GSM144471                 1.0   660.345296   3579.008811   70.003244   \n",
       "GSM144472                 0.0   361.051493   3119.766026   86.315557   \n",
       "GSM144473                 0.0   413.444966   3835.602773   25.267943   \n",
       "GSM144474                 0.0  1107.773843   9127.886413  154.023404   \n",
       "GSM144475                 1.0   347.994816    103.539432   93.232293   \n",
       "GSM144476                 1.0   274.886142     89.829983  151.859925   \n",
       "GSM144477                 1.0   306.428206     72.924917  109.757082   \n",
       "GSM144478                 1.0   267.995520     91.767363  124.494964   \n",
       "GSM144479                 1.0   290.416351    102.311943  107.948949   \n",
       "GSM144480                 1.0   512.066390    131.196707  116.635868   \n",
       "\n",
       "                A4GNT        AAAS         AACS      AADAC       AAGAB  \\\n",
       "GSM144461  131.615662  131.478372   462.966645   7.547504  104.462909   \n",
       "GSM144462   49.544167  131.223627   447.606918  11.506281  145.003755   \n",
       "GSM144463  119.047538   38.636492   380.267530  16.028805  185.398330   \n",
       "GSM144464   88.923424  189.905822   546.137019  12.986112  260.016757   \n",
       "GSM144465   69.388208  181.276047   410.124951   8.106628  205.610911   \n",
       "GSM144466   80.916960  158.221706   446.913434  12.557300  251.259770   \n",
       "GSM144467  166.375412  113.384153   495.138195  10.760307  306.258201   \n",
       "GSM144468  116.424861  136.317584   295.533127  16.908484  140.985456   \n",
       "GSM144469   22.586034  297.286839   317.869036   9.872151  151.278739   \n",
       "GSM144470  165.208876   45.135663   371.403622  21.059056  254.574584   \n",
       "GSM144471  206.573198   47.571577   759.520736  39.312988  265.942356   \n",
       "GSM144472  131.353374  126.026207   574.951414  17.014145  217.262832   \n",
       "GSM144473   85.458122  219.367983   578.182607  14.584935  228.320536   \n",
       "GSM144474  112.478623  166.142089   497.900192  10.242301  277.447054   \n",
       "GSM144475  158.033502  181.547875   819.363465  23.130576  283.933450   \n",
       "GSM144476   67.860074  100.878947   890.587280  12.789136  274.873402   \n",
       "GSM144477  116.941110   42.981564  1113.653836  24.902194  258.720951   \n",
       "GSM144478   60.102529   25.980267   642.770948  13.072453  239.028265   \n",
       "GSM144479  123.193870   23.553774   869.281682  22.790123  269.260397   \n",
       "GSM144480  161.910441   63.487871  1144.583251  38.444682  204.777108   \n",
       "\n",
       "                 AAK1  ...      ZSWIM1      ZSWIM8        ZW10      ZWILCH  \\\n",
       "GSM144461  121.518358  ...  157.946930  307.996299  575.516348  262.633939   \n",
       "GSM144462  130.319579  ...  128.761465  355.480853  592.043995  170.986463   \n",
       "GSM144463  236.420183  ...  206.321747  452.471203  337.618206   14.578266   \n",
       "GSM144464  126.586850  ...  144.294869  321.884265  631.321929  538.712478   \n",
       "GSM144465  152.169285  ...  127.444978  487.996451  570.303431  389.849283   \n",
       "GSM144466  180.410165  ...  118.930734  399.247372  416.674309  101.277905   \n",
       "GSM144467  188.590295  ...  191.973947  183.822971  439.882323   96.552485   \n",
       "GSM144468  170.954997  ...  192.403265  445.919467  456.478396    6.491022   \n",
       "GSM144469  135.681200  ...   30.741197  488.605292  401.334453   50.910698   \n",
       "GSM144470  166.202472  ...  168.860554  173.289270  824.131863   80.999068   \n",
       "GSM144471  167.611343  ...  223.460524  205.268319  651.088688   50.357059   \n",
       "GSM144472  147.511635  ...  144.867633  304.927395  601.855009  328.904919   \n",
       "GSM144473  143.228740  ...  189.808841  349.446956  717.624328  260.019533   \n",
       "GSM144474  223.233649  ...  241.460350  353.323418  611.472503   62.259162   \n",
       "GSM144475   96.805956  ...  116.428291  235.686803  893.451745  479.249437   \n",
       "GSM144476   86.142954  ...  110.876155  224.259822  728.298389  459.164711   \n",
       "GSM144477   96.354017  ...  108.494913  238.321250  605.423626  325.527677   \n",
       "GSM144478   88.726413  ...  122.528922  178.837533  831.413222  656.874654   \n",
       "GSM144479  142.055122  ...  126.022008  213.675866  682.955885  306.934402   \n",
       "GSM144480  126.753180  ...  192.276861  349.325387  695.096690  214.609161   \n",
       "\n",
       "                 ZWINT        ZXDB        ZXDC          ZYX       ZZEF1  \\\n",
       "GSM144461  1459.738442   10.558654  423.033883   921.478534  176.096677   \n",
       "GSM144462   957.986100   33.947600  340.566859   506.799871  111.808237   \n",
       "GSM144463   325.414536   46.070455  373.343082   990.485936   87.818233   \n",
       "GSM144464  1768.975867   43.445391  217.649532   848.028158   98.616717   \n",
       "GSM144465  1080.700123   61.595873  523.625683   784.246503  156.785762   \n",
       "GSM144466   325.019757   39.224029  289.331912  1656.972634  193.936914   \n",
       "GSM144467   380.991633   37.271771  287.891936  1332.797022   75.116985   \n",
       "GSM144468   348.142671   91.102073  395.398262   733.009275  137.827812   \n",
       "GSM144469   350.587775   42.849965  479.461459   973.694145  136.597780   \n",
       "GSM144470   239.980663   82.402914   86.904721   260.131155   61.583107   \n",
       "GSM144471   680.727259   91.435893  136.707254   201.479456   96.379313   \n",
       "GSM144472  1418.866119   52.568486  313.826599   969.376201  100.145365   \n",
       "GSM144473   873.077735   16.065046  318.848531   939.347579  143.097354   \n",
       "GSM144474   470.799840  106.432828  127.976212  1149.685743  124.260339   \n",
       "GSM144475  2036.628356   15.418238   55.265391  2501.301051  122.797954   \n",
       "GSM144476  2619.198037   17.135592   82.592402  1619.250402  106.893822   \n",
       "GSM144477  1081.027543   48.544495  176.259601  2691.822218  129.684998   \n",
       "GSM144478  3240.481587   32.215183  171.470474  1965.301338  126.550386   \n",
       "GSM144479  1175.574611   60.254770  166.607842  2535.658897  128.342315   \n",
       "GSM144480  1786.384617   95.287158   69.168220  2752.516539  149.553053   \n",
       "\n",
       "                  ZZZ3  \n",
       "GSM144461  1280.653366  \n",
       "GSM144462   990.276121  \n",
       "GSM144463   607.497664  \n",
       "GSM144464   611.688165  \n",
       "GSM144465   710.384150  \n",
       "GSM144466   672.479055  \n",
       "GSM144467   416.914697  \n",
       "GSM144468   405.237446  \n",
       "GSM144469   526.876845  \n",
       "GSM144470   452.282034  \n",
       "GSM144471   988.318427  \n",
       "GSM144472   894.453028  \n",
       "GSM144473   869.243641  \n",
       "GSM144474   410.082619  \n",
       "GSM144475   615.407798  \n",
       "GSM144476   781.128982  \n",
       "GSM144477   677.497065  \n",
       "GSM144478   640.044406  \n",
       "GSM144479   705.645011  \n",
       "GSM144480   214.185045  \n",
       "\n",
       "[20 rows x 11728 columns]"
      ]
     },
     "execution_count": 139,
     "metadata": {},
     "output_type": "execute_result"
    }
   ],
   "source": [
    "merged_data = geo_merge_clinical_genetic_data(selected_clinical_data, genetic_data)\n",
    "is_available = True\n",
    "\n",
    "merged_data"
   ]
  },
  {
   "cell_type": "markdown",
   "metadata": {},
   "source": [
    "Check if the merged data biased or not:"
   ]
  },
  {
   "cell_type": "code",
   "execution_count": 140,
   "metadata": {},
   "outputs": [
    {
     "name": "stdout",
     "output_type": "stream",
     "text": [
      "The merged dataset contains 20 samples.\n",
      "For the feature 'Kidney Chromophobe', the least common label is '0.0' with 6 occurrences. This represents 30.00% of the dataset.\n",
      "The distribution of the feature 'Kidney Chromophobe' in this dataset is fine.\n",
      "\n"
     ]
    },
    {
     "data": {
      "text/plain": [
       "False"
      ]
     },
     "execution_count": 140,
     "metadata": {},
     "output_type": "execute_result"
    }
   ],
   "source": [
    "trait_type = 'binary'\n",
    "print(f\"The merged dataset contains {len(merged_data)} samples.\")\n",
    "is_trait_biased, merged_data = judge_and_remove_biased_features(merged_data, TRAIT, trait_type=trait_type)\n",
    "is_trait_biased"
   ]
  },
  {
   "cell_type": "markdown",
   "metadata": {},
   "source": [
    "Save the data as a csv file:"
   ]
  },
  {
   "cell_type": "code",
   "execution_count": 141,
   "metadata": {},
   "outputs": [],
   "source": [
    "if is_available:\n",
    "    save_cohort_info(cohort, JSON_PATH, is_available, is_trait_biased, merged_data, note='')\n",
    "else:\n",
    "    save_cohort_info(cohort, JSON_PATH, is_available)\n",
    "merged_data.head()\n",
    "if not is_trait_biased:\n",
    "    merged_data.to_csv(os.path.join(OUTPUT_DIR, cohort + '.csv'), index=False)"
   ]
  }
 ],
 "metadata": {
  "colab": {
   "provenance": []
  },
  "kernelspec": {
   "display_name": "Python 3 (ipykernel)",
   "language": "python",
   "name": "python3"
  },
  "language_info": {
   "codemirror_mode": {
    "name": "ipython",
    "version": 3
   },
   "file_extension": ".py",
   "mimetype": "text/x-python",
   "name": "python",
   "nbconvert_exporter": "python",
   "pygments_lexer": "ipython3",
   "version": "3.11.9"
  }
 },
 "nbformat": 4,
 "nbformat_minor": 0
}
