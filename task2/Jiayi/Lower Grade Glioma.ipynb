{
 "cells": [
  {
   "cell_type": "markdown",
   "metadata": {
    "collapsed": false
   },
   "source": [
    "# 1. Basic setup"
   ]
  },
  {
   "cell_type": "code",
   "execution_count": 1,
   "metadata": {
    "ExecuteTime": {
     "end_time": "2024-02-27T00:22:19.918139380Z",
     "start_time": "2024-02-27T00:22:19.235047906Z"
    },
    "collapsed": false
   },
   "outputs": [
    {
     "name": "stdout",
     "output_type": "stream",
     "text": [
      "utils.py has been loaded\n"
     ]
    }
   ],
   "source": [
    "import os\n",
    "import sys\n",
    "\n",
    "sys.path.append('..')\n",
    "from utils import *\n",
    "\n",
    "USER = \"Jiayi\"\n",
    "DATA_ROOT = '/Users/legion/Desktop/Courses/IS389/data'   \n",
    "OUTPUT_ROOT = '/Users/legion/Desktop/Courses/IS389/output2'\n",
    "TRAIT = 'Lower Grade Glioma'\n",
    "\n",
    "OUTPUT_DIR = os.path.join(OUTPUT_ROOT, USER, '-'.join(TRAIT.split()))\n",
    "JSON_PATH = os.path.join(OUTPUT_DIR, \"cohort_info.json\")\n",
    "if not os.path.exists(OUTPUT_DIR):\n",
    "    os.makedirs(OUTPUT_DIR, exist_ok=True)\n"
   ]
  },
  {
   "cell_type": "markdown",
   "metadata": {
    "collapsed": false
   },
   "source": [
    "# 2. Data preprocessing and selection"
   ]
  },
  {
   "cell_type": "markdown",
   "metadata": {
    "collapsed": false
   },
   "source": [
    "## 2.1. The TCGA Xena dataset"
   ]
  },
  {
   "cell_type": "markdown",
   "metadata": {
    "collapsed": false
   },
   "source": [
    "In TCGA Xena, there is either zero or one cohort related to the trait. We search the names of subdirectories to see if any matches the trait. If a match is found, we directly obtain the file paths."
   ]
  },
  {
   "cell_type": "code",
   "execution_count": 2,
   "metadata": {
    "ExecuteTime": {
     "end_time": "2024-02-27T00:22:21.140790869Z",
     "start_time": "2024-02-27T00:22:21.133208795Z"
    },
    "collapsed": false
   },
   "outputs": [
    {
     "data": {
      "text/plain": [
       "['TCGA_Adrenocortical_Cancer_(ACC)',\n",
       " 'TCGA_Breast_Cancer_(BRCA)',\n",
       " 'TCGA_Cervical_Cancer_(CESC)',\n",
       " 'TCGA_Kidney_Chromophobe_(KICH)',\n",
       " 'TCGA_Kidney_Papillary_Cell_Carcinoma_(KIRP)',\n",
       " 'TCGA_Lower_Grade_Glioma_(LGG)',\n",
       " 'TCGA_Melanoma_(SKCM)',\n",
       " 'TCGA_Mesothelioma_(MESO)',\n",
       " 'TCGA_Testicular_Cancer_(TGCT)',\n",
       " 'TCGA_Uterine_Carcinosarcoma_(UCS)']"
      ]
     },
     "execution_count": 2,
     "metadata": {},
     "output_type": "execute_result"
    }
   ],
   "source": [
    "dataset = 'TCGA'\n",
    "dataset_dir = os.path.join(DATA_ROOT, dataset)\n",
    "os.listdir(dataset_dir)[:10]"
   ]
  },
  {
   "cell_type": "code",
   "execution_count": 3,
   "metadata": {
    "ExecuteTime": {
     "end_time": "2024-02-27T00:22:21.985144212Z",
     "start_time": "2024-02-27T00:22:21.981084968Z"
    },
    "collapsed": false
   },
   "outputs": [
    {
     "data": {
      "text/plain": [
       "('/Users/legion/Desktop/Courses/IS389/data\\\\TCGA\\\\TCGA_Lower_Grade_Glioma_(LGG)\\\\TCGA.LGG.sampleMap_LGG_clinicalMatrix',\n",
       " '/Users/legion/Desktop/Courses/IS389/data\\\\TCGA\\\\TCGA_Lower_Grade_Glioma_(LGG)\\\\TCGA.LGG.sampleMap_HiSeqV2_PANCAN.gz')"
      ]
     },
     "execution_count": 3,
     "metadata": {},
     "output_type": "execute_result"
    }
   ],
   "source": [
    "trait_subdir = \"TCGA_Lower_Grade_Glioma_(LGG)\"\n",
    "cohort = 'Xena'\n",
    "trait_type = 'binary'\n",
    "is_available = True\n",
    "\n",
    "cohort_dir = os.path.join(DATA_ROOT, dataset, trait_subdir)\n",
    "clinical_data_file, genetic_data_file = xena_get_relevant_filepaths(cohort_dir)\n",
    "clinical_data_file, genetic_data_file"
   ]
  },
  {
   "cell_type": "code",
   "execution_count": 4,
   "metadata": {
    "ExecuteTime": {
     "end_time": "2024-02-27T00:22:25.794819905Z",
     "start_time": "2024-02-27T00:22:22.357077391Z"
    },
    "id": "MudwB-_iz7sc"
   },
   "outputs": [],
   "source": [
    "import pandas as pd\n",
    "\n",
    "clinical_data = pd.read_csv(clinical_data_file, sep='\\t', index_col=0)\n",
    "genetic_data = pd.read_csv(genetic_data_file, compression='gzip', sep='\\t', index_col=0)\n",
    "age_col = gender_col = None"
   ]
  },
  {
   "cell_type": "code",
   "execution_count": 5,
   "metadata": {
    "ExecuteTime": {
     "end_time": "2024-02-27T00:22:25.798785383Z",
     "start_time": "2024-02-27T00:22:25.796474039Z"
    },
    "collapsed": false
   },
   "outputs": [
    {
     "data": {
      "text/plain": [
       "['_INTEGRATION',\n",
       " '_PATIENT',\n",
       " '_cohort',\n",
       " '_primary_disease',\n",
       " '_primary_site',\n",
       " 'additional_pharmaceutical_therapy',\n",
       " 'additional_radiation_therapy',\n",
       " 'additional_surgery_locoregional_procedure',\n",
       " 'additional_surgery_metastatic_procedure',\n",
       " 'age_at_initial_pathologic_diagnosis']"
      ]
     },
     "execution_count": 5,
     "metadata": {},
     "output_type": "execute_result"
    }
   ],
   "source": [
    "_, clinical_data_cols = check_rows_and_columns(clinical_data)\n",
    "clinical_data_cols[:10]"
   ]
  },
  {
   "cell_type": "markdown",
   "metadata": {
    "ExecuteTime": {
     "end_time": "2023-12-28T20:20:11.841042813Z",
     "start_time": "2023-12-28T20:20:11.834458206Z"
    },
    "collapsed": false
   },
   "source": [
    "Read all the column names in the clinical dataset, to find the columns that record information about age or gender.\n",
    "Reference prompt:"
   ]
  },
  {
   "cell_type": "code",
   "execution_count": 6,
   "metadata": {
    "ExecuteTime": {
     "end_time": "2024-02-27T00:22:25.802838875Z",
     "start_time": "2024-02-27T00:22:25.798659327Z"
    },
    "collapsed": false
   },
   "outputs": [
    {
     "data": {
      "text/plain": [
       "\"\\nBelow is a list of column names from a biomedical dataset. Please examine it and identify the columns that are likely to contain information about patients' age. Additionally, please do the same for columns that may hold data on patients' gender. Please provide your answer by strictly following this format, without redundant words:\\ncandidate_age_cols = [col_name1, col_name2, ...]\\ncandidate_gender_cols = [col_name1, col_name2, ...]\\nIf no columns match a criterion, please provide an empty list.\\n\\nColumn names:\\n['_INTEGRATION', '_PATIENT', '_cohort', '_primary_disease', '_primary_site', 'additional_pharmaceutical_therapy', 'additional_radiation_therapy', 'additional_surgery_locoregional_procedure', 'additional_surgery_metastatic_procedure', 'age_at_initial_pathologic_diagnosis', 'animal_insect_allergy_history', 'animal_insect_allergy_types', 'asthma_history', 'bcr_followup_barcode', 'bcr_patient_barcode', 'bcr_sample_barcode', 'days_to_additional_surgery_locoregional_procedure', 'days_to_additional_surgery_metastatic_procedure', 'days_to_birth', 'days_to_collection', 'days_to_death', 'days_to_initial_pathologic_diagnosis', 'days_to_last_followup', 'days_to_new_tumor_event_after_initial_treatment', 'days_to_performance_status_assessment', 'eastern_cancer_oncology_group', 'eczema_history', 'family_history_of_cancer', 'family_history_of_primary_brain_tumor', 'first_diagnosis_age_asth_ecz_hay_fev_mold_dust', 'first_diagnosis_age_of_animal_insect_allergy', 'first_diagnosis_age_of_food_allergy', 'first_presenting_symptom', 'first_presenting_symptom_longest_duration', 'followup_case_report_form_submission_reason', 'followup_treatment_success', 'food_allergy_history', 'food_allergy_types', 'form_completion_date', 'gender', 'hay_fever_history', 'headache_history', 'histological_type', 'history_ionizing_rt_to_head', 'history_of_neoadjuvant_treatment', 'icd_10', 'icd_o_3_histology', 'icd_o_3_site', 'informed_consent_verified', 'inherited_genetic_syndrome_found', 'inherited_genetic_syndrome_result', 'initial_weight', 'intermediate_dimension', 'is_ffpe', 'karnofsky_performance_score', 'laterality', 'ldh1_mutation_found', 'ldh1_mutation_test_method', 'ldh1_mutation_tested', 'longest_dimension', 'lost_follow_up', 'mental_status_changes', 'mold_or_dust_allergy_history', 'motor_movement_changes', 'neoplasm_histologic_grade', 'new_tumor_event_after_initial_treatment', 'oct_embedded', 'other_dx', 'pathology_report_file_name', 'patient_id', 'performance_status_scale_timing', 'person_neoplasm_cancer_status', 'preoperative_antiseizure_meds', 'preoperative_corticosteroids', 'primary_therapy_outcome_success', 'radiation_therapy', 'sample_type', 'sample_type_id', 'seizure_history', 'sensory_changes', 'shortest_dimension', 'supratentorial_localization', 'targeted_molecular_therapy', 'tissue_prospective_collection_indicator', 'tissue_retrospective_collection_indicator', 'tissue_source_site', 'tumor_location', 'tumor_tissue_site', 'vial_number', 'visual_changes', 'vital_status', 'year_of_initial_pathologic_diagnosis', '_GENOMIC_ID_TCGA_LGG_mutation', '_GENOMIC_ID_TCGA_LGG_PDMRNAseq', '_GENOMIC_ID_TCGA_LGG_RPPA', '_GENOMIC_ID_TCGA_LGG_mutation_broad_gene', '_GENOMIC_ID_TCGA_LGG_gistic2', '_GENOMIC_ID_TCGA_LGG_exp_HiSeqV2_exon', '_GENOMIC_ID_TCGA_LGG_miRNA_HiSeq', '_GENOMIC_ID_TCGA_LGG_PDMarrayCNV', '_GENOMIC_ID_data/public/TCGA/LGG/miRNA_HiSeq_gene', '_GENOMIC_ID_TCGA_LGG_mutation_curated_broad_gene', '_GENOMIC_ID_TCGA_LGG_exp_HiSeqV2_percentile', '_GENOMIC_ID_TCGA_LGG_hMethyl450_MethylMix', '_GENOMIC_ID_TCGA_LGG_PDMRNAseqCNV', '_GENOMIC_ID_TCGA_LGG_mutation_bcm_gene', '_GENOMIC_ID_TCGA_LGG_hMethyl450', '_GENOMIC_ID_TCGA_LGG_PDMarray', '_GENOMIC_ID_TCGA_LGG_exp_HiSeqV2', '_GENOMIC_ID_TCGA_LGG_G4502A_07_3', '_GENOMIC_ID_TCGA_LGG_exp_HiSeqV2_PANCAN', '_GENOMIC_ID_TCGA_LGG_gistic2thd', '_GENOMIC_ID_TCGA_LGG_mutation_ucsc_maf_gene']\\n\""
      ]
     },
     "execution_count": 6,
     "metadata": {},
     "output_type": "execute_result"
    }
   ],
   "source": [
    "f'''\n",
    "Below is a list of column names from a biomedical dataset. Please examine it and identify the columns that are likely to contain information about patients' age. Additionally, please do the same for columns that may hold data on patients' gender. Please provide your answer by strictly following this format, without redundant words:\n",
    "candidate_age_cols = [col_name1, col_name2, ...]\n",
    "candidate_gender_cols = [col_name1, col_name2, ...]\n",
    "If no columns match a criterion, please provide an empty list.\n",
    "\n",
    "Column names:\n",
    "{clinical_data_cols}\n",
    "'''"
   ]
  },
  {
   "cell_type": "code",
   "execution_count": 7,
   "metadata": {
    "ExecuteTime": {
     "end_time": "2024-02-27T00:22:25.864092575Z",
     "start_time": "2024-02-27T00:22:25.802001989Z"
    },
    "collapsed": false
   },
   "outputs": [],
   "source": [
    "candidate_age_cols = ['age_at_initial_pathologic_diagnosis']\n",
    "candidate_gender_cols = ['gender']"
   ]
  },
  {
   "cell_type": "markdown",
   "metadata": {
    "ExecuteTime": {
     "end_time": "2023-12-31T03:57:44.207565572Z",
     "start_time": "2023-12-31T03:57:44.202177544Z"
    },
    "collapsed": false
   },
   "source": [
    "\n",
    "Choose a single column from the candidate columns that record age and gender information respectively.\n",
    "If no column meets the requirement, keep 'age_col' or 'gender_col' to None"
   ]
  },
  {
   "cell_type": "code",
   "execution_count": 8,
   "metadata": {
    "ExecuteTime": {
     "end_time": "2024-02-27T00:22:26.108535524Z",
     "start_time": "2024-02-27T00:22:26.101435803Z"
    },
    "collapsed": false
   },
   "outputs": [],
   "source": [
    "age_col = 'age_at_initial_pathologic_diagnosis'\n",
    "gender_col = 'gender'\n",
    "selected_clinical_data = xena_select_clinical_features(clinical_data, TRAIT, age_col=age_col, gender_col=gender_col)"
   ]
  },
  {
   "cell_type": "code",
   "execution_count": 9,
   "metadata": {
    "ExecuteTime": {
     "end_time": "2024-02-27T00:23:16.602458026Z",
     "start_time": "2024-02-27T00:22:27.839636769Z"
    },
    "collapsed": false
   },
   "outputs": [],
   "source": [
    "genetic_data = normalize_gene_symbols_in_index(genetic_data)"
   ]
  },
  {
   "cell_type": "code",
   "execution_count": 10,
   "metadata": {},
   "outputs": [
    {
     "data": {
      "text/html": [
       "<div>\n",
       "<style scoped>\n",
       "    .dataframe tbody tr th:only-of-type {\n",
       "        vertical-align: middle;\n",
       "    }\n",
       "\n",
       "    .dataframe tbody tr th {\n",
       "        vertical-align: top;\n",
       "    }\n",
       "\n",
       "    .dataframe thead th {\n",
       "        text-align: right;\n",
       "    }\n",
       "</style>\n",
       "<table border=\"1\" class=\"dataframe\">\n",
       "  <thead>\n",
       "    <tr style=\"text-align: right;\">\n",
       "      <th></th>\n",
       "      <th>TCGA-E1-5319-01</th>\n",
       "      <th>TCGA-HT-7693-01</th>\n",
       "      <th>TCGA-CS-6665-01</th>\n",
       "      <th>TCGA-S9-A7J2-01</th>\n",
       "      <th>TCGA-FG-A6J3-01</th>\n",
       "      <th>TCGA-FG-6688-01</th>\n",
       "      <th>TCGA-S9-A6TX-01</th>\n",
       "      <th>TCGA-VM-A8C8-01</th>\n",
       "      <th>TCGA-HT-A74L-01</th>\n",
       "      <th>TCGA-S9-A7QY-01</th>\n",
       "      <th>...</th>\n",
       "      <th>TCGA-HT-7483-01</th>\n",
       "      <th>TCGA-HT-7687-01</th>\n",
       "      <th>TCGA-TM-A84G-01</th>\n",
       "      <th>TCGA-E1-A7Z6-01</th>\n",
       "      <th>TCGA-DU-7014-01</th>\n",
       "      <th>TCGA-HT-A74O-01</th>\n",
       "      <th>TCGA-DU-A76O-01</th>\n",
       "      <th>TCGA-DU-A5TW-01</th>\n",
       "      <th>TCGA-HT-7857-01</th>\n",
       "      <th>TCGA-FG-5962-01</th>\n",
       "    </tr>\n",
       "  </thead>\n",
       "  <tbody>\n",
       "    <tr>\n",
       "      <th>ARHGEF10L</th>\n",
       "      <td>0.256808</td>\n",
       "      <td>1.944408</td>\n",
       "      <td>0.323208</td>\n",
       "      <td>1.093608</td>\n",
       "      <td>0.808408</td>\n",
       "      <td>0.999308</td>\n",
       "      <td>0.975108</td>\n",
       "      <td>1.795608</td>\n",
       "      <td>1.522108</td>\n",
       "      <td>0.720008</td>\n",
       "      <td>...</td>\n",
       "      <td>1.967008</td>\n",
       "      <td>0.300808</td>\n",
       "      <td>0.192708</td>\n",
       "      <td>1.406008</td>\n",
       "      <td>0.700708</td>\n",
       "      <td>2.647808</td>\n",
       "      <td>2.005508</td>\n",
       "      <td>2.097808</td>\n",
       "      <td>0.358508</td>\n",
       "      <td>0.526108</td>\n",
       "    </tr>\n",
       "    <tr>\n",
       "      <th>HIF3A</th>\n",
       "      <td>4.895874</td>\n",
       "      <td>4.962574</td>\n",
       "      <td>-1.908126</td>\n",
       "      <td>-0.744826</td>\n",
       "      <td>-2.776226</td>\n",
       "      <td>4.063474</td>\n",
       "      <td>5.198274</td>\n",
       "      <td>3.007474</td>\n",
       "      <td>5.320174</td>\n",
       "      <td>2.826174</td>\n",
       "      <td>...</td>\n",
       "      <td>-0.469026</td>\n",
       "      <td>1.635574</td>\n",
       "      <td>3.304574</td>\n",
       "      <td>6.879274</td>\n",
       "      <td>3.960974</td>\n",
       "      <td>1.864074</td>\n",
       "      <td>0.761774</td>\n",
       "      <td>3.381074</td>\n",
       "      <td>-1.957226</td>\n",
       "      <td>3.988474</td>\n",
       "    </tr>\n",
       "    <tr>\n",
       "      <th>RNF17</th>\n",
       "      <td>-0.531035</td>\n",
       "      <td>-0.531035</td>\n",
       "      <td>-0.531035</td>\n",
       "      <td>-0.065335</td>\n",
       "      <td>-0.531035</td>\n",
       "      <td>-0.531035</td>\n",
       "      <td>-0.531035</td>\n",
       "      <td>-0.531035</td>\n",
       "      <td>-0.531035</td>\n",
       "      <td>1.444865</td>\n",
       "      <td>...</td>\n",
       "      <td>-0.531035</td>\n",
       "      <td>-0.531035</td>\n",
       "      <td>-0.531035</td>\n",
       "      <td>0.425565</td>\n",
       "      <td>-0.531035</td>\n",
       "      <td>0.032465</td>\n",
       "      <td>-0.531035</td>\n",
       "      <td>-0.531035</td>\n",
       "      <td>-0.531035</td>\n",
       "      <td>-0.531035</td>\n",
       "    </tr>\n",
       "    <tr>\n",
       "      <th>RNF10</th>\n",
       "      <td>-0.560472</td>\n",
       "      <td>0.119828</td>\n",
       "      <td>-0.240672</td>\n",
       "      <td>-0.510072</td>\n",
       "      <td>0.038228</td>\n",
       "      <td>-0.298372</td>\n",
       "      <td>-0.364772</td>\n",
       "      <td>-0.509872</td>\n",
       "      <td>-0.630572</td>\n",
       "      <td>-0.385472</td>\n",
       "      <td>...</td>\n",
       "      <td>-0.225872</td>\n",
       "      <td>-0.799172</td>\n",
       "      <td>-1.303872</td>\n",
       "      <td>-0.068072</td>\n",
       "      <td>-0.036672</td>\n",
       "      <td>0.160928</td>\n",
       "      <td>-0.155172</td>\n",
       "      <td>-0.377372</td>\n",
       "      <td>-0.097372</td>\n",
       "      <td>-0.441172</td>\n",
       "    </tr>\n",
       "    <tr>\n",
       "      <th>RNF11</th>\n",
       "      <td>0.034422</td>\n",
       "      <td>0.718222</td>\n",
       "      <td>0.318222</td>\n",
       "      <td>-0.791778</td>\n",
       "      <td>-0.808078</td>\n",
       "      <td>0.324922</td>\n",
       "      <td>-0.685278</td>\n",
       "      <td>0.387022</td>\n",
       "      <td>-0.427078</td>\n",
       "      <td>-0.014078</td>\n",
       "      <td>...</td>\n",
       "      <td>0.702722</td>\n",
       "      <td>0.181722</td>\n",
       "      <td>-0.350178</td>\n",
       "      <td>0.579722</td>\n",
       "      <td>0.335422</td>\n",
       "      <td>-0.194778</td>\n",
       "      <td>-0.074678</td>\n",
       "      <td>0.082822</td>\n",
       "      <td>0.087522</td>\n",
       "      <td>0.594722</td>\n",
       "    </tr>\n",
       "    <tr>\n",
       "      <th>...</th>\n",
       "      <td>...</td>\n",
       "      <td>...</td>\n",
       "      <td>...</td>\n",
       "      <td>...</td>\n",
       "      <td>...</td>\n",
       "      <td>...</td>\n",
       "      <td>...</td>\n",
       "      <td>...</td>\n",
       "      <td>...</td>\n",
       "      <td>...</td>\n",
       "      <td>...</td>\n",
       "      <td>...</td>\n",
       "      <td>...</td>\n",
       "      <td>...</td>\n",
       "      <td>...</td>\n",
       "      <td>...</td>\n",
       "      <td>...</td>\n",
       "      <td>...</td>\n",
       "      <td>...</td>\n",
       "      <td>...</td>\n",
       "      <td>...</td>\n",
       "    </tr>\n",
       "    <tr>\n",
       "      <th>GNGT1</th>\n",
       "      <td>-1.281390</td>\n",
       "      <td>-1.281390</td>\n",
       "      <td>-1.281390</td>\n",
       "      <td>-1.281390</td>\n",
       "      <td>-1.281390</td>\n",
       "      <td>-1.281390</td>\n",
       "      <td>-1.281390</td>\n",
       "      <td>-0.677990</td>\n",
       "      <td>-1.281390</td>\n",
       "      <td>-1.281390</td>\n",
       "      <td>...</td>\n",
       "      <td>-1.281390</td>\n",
       "      <td>-1.281390</td>\n",
       "      <td>-1.281390</td>\n",
       "      <td>-0.725190</td>\n",
       "      <td>-1.281390</td>\n",
       "      <td>-1.281390</td>\n",
       "      <td>-1.281390</td>\n",
       "      <td>-1.281390</td>\n",
       "      <td>-1.281390</td>\n",
       "      <td>-1.281390</td>\n",
       "    </tr>\n",
       "    <tr>\n",
       "      <th>TULP3</th>\n",
       "      <td>0.086323</td>\n",
       "      <td>0.633423</td>\n",
       "      <td>-0.743977</td>\n",
       "      <td>0.032023</td>\n",
       "      <td>1.087723</td>\n",
       "      <td>-0.049377</td>\n",
       "      <td>-0.079777</td>\n",
       "      <td>-0.170077</td>\n",
       "      <td>-0.187077</td>\n",
       "      <td>-0.145077</td>\n",
       "      <td>...</td>\n",
       "      <td>-0.166277</td>\n",
       "      <td>-0.662477</td>\n",
       "      <td>-0.289077</td>\n",
       "      <td>0.196323</td>\n",
       "      <td>-0.201477</td>\n",
       "      <td>-0.136577</td>\n",
       "      <td>-0.864777</td>\n",
       "      <td>-0.396977</td>\n",
       "      <td>-0.381577</td>\n",
       "      <td>-0.628677</td>\n",
       "    </tr>\n",
       "    <tr>\n",
       "      <th>BCL6B</th>\n",
       "      <td>0.028173</td>\n",
       "      <td>0.167973</td>\n",
       "      <td>0.546073</td>\n",
       "      <td>-1.305127</td>\n",
       "      <td>-0.318227</td>\n",
       "      <td>-0.186927</td>\n",
       "      <td>0.341773</td>\n",
       "      <td>-1.553027</td>\n",
       "      <td>-0.576727</td>\n",
       "      <td>-1.726127</td>\n",
       "      <td>...</td>\n",
       "      <td>-0.206127</td>\n",
       "      <td>0.039273</td>\n",
       "      <td>0.162273</td>\n",
       "      <td>-0.966827</td>\n",
       "      <td>-0.151927</td>\n",
       "      <td>-0.431527</td>\n",
       "      <td>-0.931827</td>\n",
       "      <td>-0.674327</td>\n",
       "      <td>0.260773</td>\n",
       "      <td>-1.236427</td>\n",
       "    </tr>\n",
       "    <tr>\n",
       "      <th>GSTK1</th>\n",
       "      <td>-1.294695</td>\n",
       "      <td>-1.360295</td>\n",
       "      <td>-1.143995</td>\n",
       "      <td>-1.485295</td>\n",
       "      <td>-0.573495</td>\n",
       "      <td>-0.069795</td>\n",
       "      <td>-1.353595</td>\n",
       "      <td>-1.173395</td>\n",
       "      <td>-1.181495</td>\n",
       "      <td>-0.702795</td>\n",
       "      <td>...</td>\n",
       "      <td>-1.676795</td>\n",
       "      <td>-1.353095</td>\n",
       "      <td>-1.520095</td>\n",
       "      <td>-1.312995</td>\n",
       "      <td>-1.088295</td>\n",
       "      <td>-0.003995</td>\n",
       "      <td>-1.109095</td>\n",
       "      <td>-0.680295</td>\n",
       "      <td>-0.047695</td>\n",
       "      <td>-1.578195</td>\n",
       "    </tr>\n",
       "    <tr>\n",
       "      <th>SELP</th>\n",
       "      <td>-5.038433</td>\n",
       "      <td>-3.839133</td>\n",
       "      <td>-3.771733</td>\n",
       "      <td>-5.525533</td>\n",
       "      <td>-4.909333</td>\n",
       "      <td>-5.525533</td>\n",
       "      <td>-5.525533</td>\n",
       "      <td>-3.903933</td>\n",
       "      <td>-4.276133</td>\n",
       "      <td>-5.020533</td>\n",
       "      <td>...</td>\n",
       "      <td>-2.923733</td>\n",
       "      <td>-3.725433</td>\n",
       "      <td>-5.062033</td>\n",
       "      <td>-2.602333</td>\n",
       "      <td>-5.525533</td>\n",
       "      <td>-5.525533</td>\n",
       "      <td>-4.274133</td>\n",
       "      <td>-5.525533</td>\n",
       "      <td>0.946867</td>\n",
       "      <td>-4.816333</td>\n",
       "    </tr>\n",
       "  </tbody>\n",
       "</table>\n",
       "<p>17339 rows × 530 columns</p>\n",
       "</div>"
      ],
      "text/plain": [
       "           TCGA-E1-5319-01  TCGA-HT-7693-01  TCGA-CS-6665-01  TCGA-S9-A7J2-01  \\\n",
       "ARHGEF10L         0.256808         1.944408         0.323208         1.093608   \n",
       "HIF3A             4.895874         4.962574        -1.908126        -0.744826   \n",
       "RNF17            -0.531035        -0.531035        -0.531035        -0.065335   \n",
       "RNF10            -0.560472         0.119828        -0.240672        -0.510072   \n",
       "RNF11             0.034422         0.718222         0.318222        -0.791778   \n",
       "...                    ...              ...              ...              ...   \n",
       "GNGT1            -1.281390        -1.281390        -1.281390        -1.281390   \n",
       "TULP3             0.086323         0.633423        -0.743977         0.032023   \n",
       "BCL6B             0.028173         0.167973         0.546073        -1.305127   \n",
       "GSTK1            -1.294695        -1.360295        -1.143995        -1.485295   \n",
       "SELP             -5.038433        -3.839133        -3.771733        -5.525533   \n",
       "\n",
       "           TCGA-FG-A6J3-01  TCGA-FG-6688-01  TCGA-S9-A6TX-01  TCGA-VM-A8C8-01  \\\n",
       "ARHGEF10L         0.808408         0.999308         0.975108         1.795608   \n",
       "HIF3A            -2.776226         4.063474         5.198274         3.007474   \n",
       "RNF17            -0.531035        -0.531035        -0.531035        -0.531035   \n",
       "RNF10             0.038228        -0.298372        -0.364772        -0.509872   \n",
       "RNF11            -0.808078         0.324922        -0.685278         0.387022   \n",
       "...                    ...              ...              ...              ...   \n",
       "GNGT1            -1.281390        -1.281390        -1.281390        -0.677990   \n",
       "TULP3             1.087723        -0.049377        -0.079777        -0.170077   \n",
       "BCL6B            -0.318227        -0.186927         0.341773        -1.553027   \n",
       "GSTK1            -0.573495        -0.069795        -1.353595        -1.173395   \n",
       "SELP             -4.909333        -5.525533        -5.525533        -3.903933   \n",
       "\n",
       "           TCGA-HT-A74L-01  TCGA-S9-A7QY-01  ...  TCGA-HT-7483-01  \\\n",
       "ARHGEF10L         1.522108         0.720008  ...         1.967008   \n",
       "HIF3A             5.320174         2.826174  ...        -0.469026   \n",
       "RNF17            -0.531035         1.444865  ...        -0.531035   \n",
       "RNF10            -0.630572        -0.385472  ...        -0.225872   \n",
       "RNF11            -0.427078        -0.014078  ...         0.702722   \n",
       "...                    ...              ...  ...              ...   \n",
       "GNGT1            -1.281390        -1.281390  ...        -1.281390   \n",
       "TULP3            -0.187077        -0.145077  ...        -0.166277   \n",
       "BCL6B            -0.576727        -1.726127  ...        -0.206127   \n",
       "GSTK1            -1.181495        -0.702795  ...        -1.676795   \n",
       "SELP             -4.276133        -5.020533  ...        -2.923733   \n",
       "\n",
       "           TCGA-HT-7687-01  TCGA-TM-A84G-01  TCGA-E1-A7Z6-01  TCGA-DU-7014-01  \\\n",
       "ARHGEF10L         0.300808         0.192708         1.406008         0.700708   \n",
       "HIF3A             1.635574         3.304574         6.879274         3.960974   \n",
       "RNF17            -0.531035        -0.531035         0.425565        -0.531035   \n",
       "RNF10            -0.799172        -1.303872        -0.068072        -0.036672   \n",
       "RNF11             0.181722        -0.350178         0.579722         0.335422   \n",
       "...                    ...              ...              ...              ...   \n",
       "GNGT1            -1.281390        -1.281390        -0.725190        -1.281390   \n",
       "TULP3            -0.662477        -0.289077         0.196323        -0.201477   \n",
       "BCL6B             0.039273         0.162273        -0.966827        -0.151927   \n",
       "GSTK1            -1.353095        -1.520095        -1.312995        -1.088295   \n",
       "SELP             -3.725433        -5.062033        -2.602333        -5.525533   \n",
       "\n",
       "           TCGA-HT-A74O-01  TCGA-DU-A76O-01  TCGA-DU-A5TW-01  TCGA-HT-7857-01  \\\n",
       "ARHGEF10L         2.647808         2.005508         2.097808         0.358508   \n",
       "HIF3A             1.864074         0.761774         3.381074        -1.957226   \n",
       "RNF17             0.032465        -0.531035        -0.531035        -0.531035   \n",
       "RNF10             0.160928        -0.155172        -0.377372        -0.097372   \n",
       "RNF11            -0.194778        -0.074678         0.082822         0.087522   \n",
       "...                    ...              ...              ...              ...   \n",
       "GNGT1            -1.281390        -1.281390        -1.281390        -1.281390   \n",
       "TULP3            -0.136577        -0.864777        -0.396977        -0.381577   \n",
       "BCL6B            -0.431527        -0.931827        -0.674327         0.260773   \n",
       "GSTK1            -0.003995        -1.109095        -0.680295        -0.047695   \n",
       "SELP             -5.525533        -4.274133        -5.525533         0.946867   \n",
       "\n",
       "           TCGA-FG-5962-01  \n",
       "ARHGEF10L         0.526108  \n",
       "HIF3A             3.988474  \n",
       "RNF17            -0.531035  \n",
       "RNF10            -0.441172  \n",
       "RNF11             0.594722  \n",
       "...                    ...  \n",
       "GNGT1            -1.281390  \n",
       "TULP3            -0.628677  \n",
       "BCL6B            -1.236427  \n",
       "GSTK1            -1.578195  \n",
       "SELP             -4.816333  \n",
       "\n",
       "[17339 rows x 530 columns]"
      ]
     },
     "execution_count": 10,
     "metadata": {},
     "output_type": "execute_result"
    }
   ],
   "source": [
    "genetic_data"
   ]
  },
  {
   "cell_type": "code",
   "execution_count": 11,
   "metadata": {
    "ExecuteTime": {
     "end_time": "2024-02-27T00:23:16.720144304Z",
     "start_time": "2024-02-27T00:23:16.643071320Z"
    },
    "collapsed": false
   },
   "outputs": [
    {
     "data": {
      "text/html": [
       "<div>\n",
       "<style scoped>\n",
       "    .dataframe tbody tr th:only-of-type {\n",
       "        vertical-align: middle;\n",
       "    }\n",
       "\n",
       "    .dataframe tbody tr th {\n",
       "        vertical-align: top;\n",
       "    }\n",
       "\n",
       "    .dataframe thead th {\n",
       "        text-align: right;\n",
       "    }\n",
       "</style>\n",
       "<table border=\"1\" class=\"dataframe\">\n",
       "  <thead>\n",
       "    <tr style=\"text-align: right;\">\n",
       "      <th></th>\n",
       "      <th>Lower Grade Glioma</th>\n",
       "      <th>Age</th>\n",
       "      <th>Gender</th>\n",
       "      <th>ARHGEF10L</th>\n",
       "      <th>HIF3A</th>\n",
       "      <th>RNF17</th>\n",
       "      <th>RNF10</th>\n",
       "      <th>RNF11</th>\n",
       "      <th>RNF13</th>\n",
       "      <th>GTF2IP1</th>\n",
       "      <th>...</th>\n",
       "      <th>SLC7A10</th>\n",
       "      <th>PLA2G2C</th>\n",
       "      <th>TULP2</th>\n",
       "      <th>NPY5R</th>\n",
       "      <th>GNGT2</th>\n",
       "      <th>GNGT1</th>\n",
       "      <th>TULP3</th>\n",
       "      <th>BCL6B</th>\n",
       "      <th>GSTK1</th>\n",
       "      <th>SELP</th>\n",
       "    </tr>\n",
       "    <tr>\n",
       "      <th>sampleID</th>\n",
       "      <th></th>\n",
       "      <th></th>\n",
       "      <th></th>\n",
       "      <th></th>\n",
       "      <th></th>\n",
       "      <th></th>\n",
       "      <th></th>\n",
       "      <th></th>\n",
       "      <th></th>\n",
       "      <th></th>\n",
       "      <th></th>\n",
       "      <th></th>\n",
       "      <th></th>\n",
       "      <th></th>\n",
       "      <th></th>\n",
       "      <th></th>\n",
       "      <th></th>\n",
       "      <th></th>\n",
       "      <th></th>\n",
       "      <th></th>\n",
       "      <th></th>\n",
       "    </tr>\n",
       "  </thead>\n",
       "  <tbody>\n",
       "    <tr>\n",
       "      <th>TCGA-CS-4938-01</th>\n",
       "      <td>1</td>\n",
       "      <td>31.0</td>\n",
       "      <td>0.0</td>\n",
       "      <td>1.675408</td>\n",
       "      <td>2.256574</td>\n",
       "      <td>-0.025535</td>\n",
       "      <td>-0.129672</td>\n",
       "      <td>0.512522</td>\n",
       "      <td>1.00569</td>\n",
       "      <td>0.980606</td>\n",
       "      <td>...</td>\n",
       "      <td>2.145814</td>\n",
       "      <td>-0.086682</td>\n",
       "      <td>-0.748878</td>\n",
       "      <td>-0.411617</td>\n",
       "      <td>0.508467</td>\n",
       "      <td>-1.28139</td>\n",
       "      <td>0.587923</td>\n",
       "      <td>-1.931327</td>\n",
       "      <td>-1.200995</td>\n",
       "      <td>-5.525533</td>\n",
       "    </tr>\n",
       "    <tr>\n",
       "      <th>TCGA-CS-4941-01</th>\n",
       "      <td>1</td>\n",
       "      <td>67.0</td>\n",
       "      <td>1.0</td>\n",
       "      <td>1.677108</td>\n",
       "      <td>1.531874</td>\n",
       "      <td>-0.103335</td>\n",
       "      <td>-0.044972</td>\n",
       "      <td>1.044022</td>\n",
       "      <td>0.68629</td>\n",
       "      <td>0.715906</td>\n",
       "      <td>...</td>\n",
       "      <td>3.563814</td>\n",
       "      <td>-0.086682</td>\n",
       "      <td>2.294922</td>\n",
       "      <td>2.043683</td>\n",
       "      <td>0.703167</td>\n",
       "      <td>-1.28139</td>\n",
       "      <td>-0.211777</td>\n",
       "      <td>-0.691827</td>\n",
       "      <td>-0.067395</td>\n",
       "      <td>-4.274433</td>\n",
       "    </tr>\n",
       "    <tr>\n",
       "      <th>TCGA-CS-4942-01</th>\n",
       "      <td>1</td>\n",
       "      <td>44.0</td>\n",
       "      <td>0.0</td>\n",
       "      <td>1.451408</td>\n",
       "      <td>0.339574</td>\n",
       "      <td>0.227665</td>\n",
       "      <td>-0.359972</td>\n",
       "      <td>0.479422</td>\n",
       "      <td>0.83969</td>\n",
       "      <td>0.928806</td>\n",
       "      <td>...</td>\n",
       "      <td>2.061014</td>\n",
       "      <td>-0.086682</td>\n",
       "      <td>-0.748878</td>\n",
       "      <td>2.006583</td>\n",
       "      <td>1.287867</td>\n",
       "      <td>-1.28139</td>\n",
       "      <td>-0.521377</td>\n",
       "      <td>-1.996927</td>\n",
       "      <td>-1.020895</td>\n",
       "      <td>-5.096833</td>\n",
       "    </tr>\n",
       "    <tr>\n",
       "      <th>TCGA-CS-4943-01</th>\n",
       "      <td>1</td>\n",
       "      <td>37.0</td>\n",
       "      <td>1.0</td>\n",
       "      <td>1.159508</td>\n",
       "      <td>1.747574</td>\n",
       "      <td>0.193265</td>\n",
       "      <td>0.049128</td>\n",
       "      <td>0.345022</td>\n",
       "      <td>0.20049</td>\n",
       "      <td>0.736706</td>\n",
       "      <td>...</td>\n",
       "      <td>-0.864186</td>\n",
       "      <td>-0.086682</td>\n",
       "      <td>-0.748878</td>\n",
       "      <td>-0.862817</td>\n",
       "      <td>0.231767</td>\n",
       "      <td>-1.28139</td>\n",
       "      <td>0.760023</td>\n",
       "      <td>-1.260727</td>\n",
       "      <td>-2.100995</td>\n",
       "      <td>-4.541333</td>\n",
       "    </tr>\n",
       "    <tr>\n",
       "      <th>TCGA-CS-4944-01</th>\n",
       "      <td>1</td>\n",
       "      <td>50.0</td>\n",
       "      <td>1.0</td>\n",
       "      <td>0.847608</td>\n",
       "      <td>3.430774</td>\n",
       "      <td>-0.531035</td>\n",
       "      <td>-0.503272</td>\n",
       "      <td>0.820222</td>\n",
       "      <td>1.21089</td>\n",
       "      <td>0.934706</td>\n",
       "      <td>...</td>\n",
       "      <td>3.457214</td>\n",
       "      <td>-0.086682</td>\n",
       "      <td>-0.159678</td>\n",
       "      <td>1.123883</td>\n",
       "      <td>0.491667</td>\n",
       "      <td>-1.28139</td>\n",
       "      <td>-0.713077</td>\n",
       "      <td>-1.252627</td>\n",
       "      <td>-1.109495</td>\n",
       "      <td>-3.516133</td>\n",
       "    </tr>\n",
       "  </tbody>\n",
       "</table>\n",
       "<p>5 rows × 17342 columns</p>\n",
       "</div>"
      ],
      "text/plain": [
       "                 Lower Grade Glioma   Age  Gender  ARHGEF10L     HIF3A  \\\n",
       "sampleID                                                                 \n",
       "TCGA-CS-4938-01                   1  31.0     0.0   1.675408  2.256574   \n",
       "TCGA-CS-4941-01                   1  67.0     1.0   1.677108  1.531874   \n",
       "TCGA-CS-4942-01                   1  44.0     0.0   1.451408  0.339574   \n",
       "TCGA-CS-4943-01                   1  37.0     1.0   1.159508  1.747574   \n",
       "TCGA-CS-4944-01                   1  50.0     1.0   0.847608  3.430774   \n",
       "\n",
       "                    RNF17     RNF10     RNF11    RNF13   GTF2IP1  ...  \\\n",
       "sampleID                                                          ...   \n",
       "TCGA-CS-4938-01 -0.025535 -0.129672  0.512522  1.00569  0.980606  ...   \n",
       "TCGA-CS-4941-01 -0.103335 -0.044972  1.044022  0.68629  0.715906  ...   \n",
       "TCGA-CS-4942-01  0.227665 -0.359972  0.479422  0.83969  0.928806  ...   \n",
       "TCGA-CS-4943-01  0.193265  0.049128  0.345022  0.20049  0.736706  ...   \n",
       "TCGA-CS-4944-01 -0.531035 -0.503272  0.820222  1.21089  0.934706  ...   \n",
       "\n",
       "                  SLC7A10   PLA2G2C     TULP2     NPY5R     GNGT2    GNGT1  \\\n",
       "sampleID                                                                     \n",
       "TCGA-CS-4938-01  2.145814 -0.086682 -0.748878 -0.411617  0.508467 -1.28139   \n",
       "TCGA-CS-4941-01  3.563814 -0.086682  2.294922  2.043683  0.703167 -1.28139   \n",
       "TCGA-CS-4942-01  2.061014 -0.086682 -0.748878  2.006583  1.287867 -1.28139   \n",
       "TCGA-CS-4943-01 -0.864186 -0.086682 -0.748878 -0.862817  0.231767 -1.28139   \n",
       "TCGA-CS-4944-01  3.457214 -0.086682 -0.159678  1.123883  0.491667 -1.28139   \n",
       "\n",
       "                    TULP3     BCL6B     GSTK1      SELP  \n",
       "sampleID                                                 \n",
       "TCGA-CS-4938-01  0.587923 -1.931327 -1.200995 -5.525533  \n",
       "TCGA-CS-4941-01 -0.211777 -0.691827 -0.067395 -4.274433  \n",
       "TCGA-CS-4942-01 -0.521377 -1.996927 -1.020895 -5.096833  \n",
       "TCGA-CS-4943-01  0.760023 -1.260727 -2.100995 -4.541333  \n",
       "TCGA-CS-4944-01 -0.713077 -1.252627 -1.109495 -3.516133  \n",
       "\n",
       "[5 rows x 17342 columns]"
      ]
     },
     "execution_count": 11,
     "metadata": {},
     "output_type": "execute_result"
    }
   ],
   "source": [
    "merged_data = selected_clinical_data.join(genetic_data.T).dropna()\n",
    "merged_data.head()"
   ]
  },
  {
   "cell_type": "code",
   "execution_count": 12,
   "metadata": {
    "ExecuteTime": {
     "end_time": "2024-02-27T00:23:16.731303752Z",
     "start_time": "2024-02-27T00:23:16.717316474Z"
    },
    "collapsed": false
   },
   "outputs": [
    {
     "name": "stdout",
     "output_type": "stream",
     "text": [
      "The merged dataset contains 529 samples.\n",
      "For the feature 'Lower Grade Glioma', the least common label is '1' with 529 occurrences. This represents 100.00% of the dataset.\n",
      "The distribution of the feature 'Lower Grade Glioma' in this dataset is severely biased.\n",
      "\n",
      "Quartiles for 'Age':\n",
      "  25%: 32.0\n",
      "  50% (Median): 41.0\n",
      "  75%: 53.0\n",
      "Min: 14.0\n",
      "Max: 87.0\n",
      "The distribution of the feature 'Age' in this dataset is fine.\n",
      "\n",
      "For the feature 'Gender', the least common label is '0.0' with 238 occurrences. This represents 44.99% of the dataset.\n",
      "The distribution of the feature 'Gender' in this dataset is fine.\n",
      "\n"
     ]
    },
    {
     "data": {
      "text/plain": [
       "True"
      ]
     },
     "execution_count": 12,
     "metadata": {},
     "output_type": "execute_result"
    }
   ],
   "source": [
    "print(f\"The merged dataset contains {len(merged_data)} samples.\")\n",
    "is_trait_biased, merge_data = judge_and_remove_biased_features(merged_data, TRAIT, trait_type=trait_type)\n",
    "is_trait_biased"
   ]
  },
  {
   "cell_type": "code",
   "execution_count": 13,
   "metadata": {
    "ExecuteTime": {
     "end_time": "2024-02-27T00:23:30.252387093Z",
     "start_time": "2024-02-27T00:23:16.722533204Z"
    },
    "collapsed": false
   },
   "outputs": [],
   "source": [
    "merged_data.head()\n",
    "if not is_trait_biased:\n",
    "    merge_data.to_csv(os.path.join(OUTPUT_DIR, cohort + '.csv'), index=False)"
   ]
  },
  {
   "cell_type": "code",
   "execution_count": 14,
   "metadata": {
    "ExecuteTime": {
     "end_time": "2024-02-27T00:23:30.302271525Z",
     "start_time": "2024-02-27T00:23:30.295066253Z"
    },
    "collapsed": false
   },
   "outputs": [
    {
     "name": "stdout",
     "output_type": "stream",
     "text": [
      "A new JSON file was created at: /Users/legion/Desktop/Courses/IS389/output2\\Jiayi\\Lower-Grade-Glioma\\cohort_info.json\n"
     ]
    }
   ],
   "source": [
    "save_cohort_info(cohort, JSON_PATH, is_available, is_trait_biased, merged_data)"
   ]
  },
  {
   "cell_type": "markdown",
   "metadata": {
    "ExecuteTime": {
     "end_time": "2023-12-28T21:28:38.028916303Z",
     "start_time": "2023-12-28T21:28:38.016245426Z"
    },
    "collapsed": false
   },
   "source": [
    "## 2.2. The GEO dataset"
   ]
  },
  {
   "cell_type": "code",
   "execution_count": 15,
   "metadata": {
    "ExecuteTime": {
     "end_time": "2024-02-27T00:23:30.302587016Z",
     "start_time": "2024-02-27T00:23:30.295278811Z"
    },
    "collapsed": false
   },
   "outputs": [
    {
     "data": {
      "text/plain": [
       "['GSE107850',\n",
       " 'GSE111627',\n",
       " 'GSE14',\n",
       " 'GSE143843',\n",
       " 'GSE145510',\n",
       " 'GSE15309',\n",
       " 'GSE19578',\n",
       " 'GSE24072',\n",
       " 'GSE28271',\n",
       " 'GSE35158',\n",
       " 'GSE4058',\n",
       " 'GSE74567']"
      ]
     },
     "execution_count": 15,
     "metadata": {},
     "output_type": "execute_result"
    }
   ],
   "source": [
    "dataset = 'GEO'\n",
    "trait_subdir = \"Lower-Grade-Glioma\"\n",
    "\n",
    "trait_path = os.path.join(DATA_ROOT, dataset, trait_subdir)\n",
    "os.listdir(trait_path)"
   ]
  },
  {
   "cell_type": "markdown",
   "metadata": {
    "ExecuteTime": {
     "end_time": "2023-12-31T03:39:42.634870142Z",
     "start_time": "2023-12-31T03:39:42.534093295Z"
    },
    "collapsed": false
   },
   "source": [
    "Repeat the below steps for all the accession numbers"
   ]
  },
  {
   "cell_type": "code",
   "execution_count": 16,
   "metadata": {
    "ExecuteTime": {
     "end_time": "2024-02-27T00:23:30.302864515Z",
     "start_time": "2024-02-27T00:23:30.295388276Z"
    },
    "collapsed": false
   },
   "outputs": [
    {
     "data": {
      "text/plain": [
       "('/Users/legion/Desktop/Courses/IS389/data\\\\GEO\\\\Lower-Grade-Glioma\\\\GSE107850\\\\GSE107850_family.soft.gz',\n",
       " '/Users/legion/Desktop/Courses/IS389/data\\\\GEO\\\\Lower-Grade-Glioma\\\\GSE107850\\\\GSE107850_series_matrix.txt.gz')"
      ]
     },
     "execution_count": 16,
     "metadata": {},
     "output_type": "execute_result"
    }
   ],
   "source": [
    "# No obvious traits\n",
    "cohort = accession_num = \"GSE107850\"\n",
    "cohort_dir = os.path.join(trait_path, accession_num)\n",
    "soft_file, matrix_file = geo_get_relevant_filepaths(cohort_dir)\n",
    "soft_file, matrix_file"
   ]
  },
  {
   "cell_type": "code",
   "execution_count": 19,
   "metadata": {},
   "outputs": [
    {
     "data": {
      "text/plain": [
       "('/Users/legion/Desktop/Courses/IS389/data\\\\GEO\\\\Lower-Grade-Glioma\\\\GSE111627\\\\GSE111627_family.soft.gz',\n",
       " '/Users/legion/Desktop/Courses/IS389/data\\\\GEO\\\\Lower-Grade-Glioma\\\\GSE111627\\\\GSE111627_series_matrix.txt.gz')"
      ]
     },
     "execution_count": 19,
     "metadata": {},
     "output_type": "execute_result"
    }
   ],
   "source": [
    "# Biased\n",
    "cohort = accession_num = \"GSE111627\"\n",
    "cohort_dir = os.path.join(trait_path, accession_num)\n",
    "soft_file, matrix_file = geo_get_relevant_filepaths(cohort_dir)\n",
    "soft_file, matrix_file"
   ]
  },
  {
   "cell_type": "code",
   "execution_count": 23,
   "metadata": {},
   "outputs": [
    {
     "data": {
      "text/plain": [
       "('/Users/legion/Desktop/Courses/IS389/data\\\\GEO\\\\Lower-Grade-Glioma\\\\GSE14\\\\GSE14_family.soft.gz',\n",
       " '/Users/legion/Desktop/Courses/IS389/data\\\\GEO\\\\Lower-Grade-Glioma\\\\GSE14\\\\GSE14-GPL11_series_matrix.txt.gz')"
      ]
     },
     "execution_count": 23,
     "metadata": {},
     "output_type": "execute_result"
    }
   ],
   "source": [
    "# No obvious traits\n",
    "cohort = accession_num = \"GSE14\"\n",
    "cohort_dir = os.path.join(trait_path, accession_num)\n",
    "soft_file, matrix_file = geo_get_relevant_filepaths(cohort_dir)\n",
    "soft_file, matrix_file"
   ]
  },
  {
   "cell_type": "code",
   "execution_count": 27,
   "metadata": {},
   "outputs": [
    {
     "data": {
      "text/plain": [
       "('/Users/legion/Desktop/Courses/IS389/data\\\\GEO\\\\Lower-Grade-Glioma\\\\GSE143843\\\\GSE143843_family.soft.gz',\n",
       " '/Users/legion/Desktop/Courses/IS389/data\\\\GEO\\\\Lower-Grade-Glioma\\\\GSE143843\\\\GSE143843-GPL21145_series_matrix.txt.gz')"
      ]
     },
     "execution_count": 27,
     "metadata": {},
     "output_type": "execute_result"
    }
   ],
   "source": [
    "# Biased\n",
    "cohort = accession_num = \"GSE143843\"\n",
    "cohort_dir = os.path.join(trait_path, accession_num)\n",
    "soft_file, matrix_file = geo_get_relevant_filepaths(cohort_dir)\n",
    "soft_file, matrix_file"
   ]
  },
  {
   "cell_type": "code",
   "execution_count": 33,
   "metadata": {},
   "outputs": [
    {
     "data": {
      "text/plain": [
       "('/Users/legion/Desktop/Courses/IS389/data\\\\GEO\\\\Lower-Grade-Glioma\\\\GSE145510\\\\GSE145510_family.soft.gz',\n",
       " '/Users/legion/Desktop/Courses/IS389/data\\\\GEO\\\\Lower-Grade-Glioma\\\\GSE145510\\\\GSE145510_series_matrix.txt.gz')"
      ]
     },
     "execution_count": 33,
     "metadata": {},
     "output_type": "execute_result"
    }
   ],
   "source": [
    "# No gene mapping\n",
    "cohort = accession_num = \"GSE145510\"\n",
    "cohort_dir = os.path.join(trait_path, accession_num)\n",
    "soft_file, matrix_file = geo_get_relevant_filepaths(cohort_dir)\n",
    "soft_file, matrix_file"
   ]
  },
  {
   "cell_type": "code",
   "execution_count": 41,
   "metadata": {},
   "outputs": [
    {
     "data": {
      "text/plain": [
       "('/Users/legion/Desktop/Courses/IS389/data\\\\GEO\\\\Lower-Grade-Glioma\\\\GSE15309\\\\GSE15309_family.soft.gz',\n",
       " '/Users/legion/Desktop/Courses/IS389/data\\\\GEO\\\\Lower-Grade-Glioma\\\\GSE15309\\\\GSE15309_series_matrix.txt.gz')"
      ]
     },
     "execution_count": 41,
     "metadata": {},
     "output_type": "execute_result"
    }
   ],
   "source": [
    "# No obvious traits\n",
    "cohort = accession_num = \"GSE15309\"\n",
    "cohort_dir = os.path.join(trait_path, accession_num)\n",
    "soft_file, matrix_file = geo_get_relevant_filepaths(cohort_dir)\n",
    "soft_file, matrix_file"
   ]
  },
  {
   "cell_type": "code",
   "execution_count": 44,
   "metadata": {},
   "outputs": [
    {
     "data": {
      "text/plain": [
       "('/Users/legion/Desktop/Courses/IS389/data\\\\GEO\\\\Lower-Grade-Glioma\\\\GSE19578\\\\GSE19578_family.soft.gz',\n",
       " '/Users/legion/Desktop/Courses/IS389/data\\\\GEO\\\\Lower-Grade-Glioma\\\\GSE19578\\\\GSE19578-GPL3718_series_matrix.txt.gz')"
      ]
     },
     "execution_count": 44,
     "metadata": {},
     "output_type": "execute_result"
    }
   ],
   "source": [
    "# MemoryError\n",
    "cohort = accession_num = \"GSE19578\"\n",
    "cohort_dir = os.path.join(trait_path, accession_num)\n",
    "soft_file, matrix_file = geo_get_relevant_filepaths(cohort_dir)\n",
    "soft_file, matrix_file"
   ]
  },
  {
   "cell_type": "code",
   "execution_count": 52,
   "metadata": {},
   "outputs": [
    {
     "data": {
      "text/plain": [
       "('/Users/legion/Desktop/Courses/IS389/data\\\\GEO\\\\Lower-Grade-Glioma\\\\GSE24072\\\\GSE24072_family.soft.gz',\n",
       " '/Users/legion/Desktop/Courses/IS389/data\\\\GEO\\\\Lower-Grade-Glioma\\\\GSE24072\\\\GSE24072_series_matrix.txt.gz')"
      ]
     },
     "execution_count": 52,
     "metadata": {},
     "output_type": "execute_result"
    }
   ],
   "source": [
    "# Finished\n",
    "cohort = accession_num = \"GSE24072\"\n",
    "cohort_dir = os.path.join(trait_path, accession_num)\n",
    "soft_file, matrix_file = geo_get_relevant_filepaths(cohort_dir)\n",
    "soft_file, matrix_file"
   ]
  },
  {
   "cell_type": "code",
   "execution_count": 65,
   "metadata": {},
   "outputs": [
    {
     "data": {
      "text/plain": [
       "('/Users/legion/Desktop/Courses/IS389/data\\\\GEO\\\\Lower-Grade-Glioma\\\\GSE28271\\\\GSE28271_family.soft.gz',\n",
       " '/Users/legion/Desktop/Courses/IS389/data\\\\GEO\\\\Lower-Grade-Glioma\\\\GSE28271\\\\GSE28271_series_matrix.txt.gz')"
      ]
     },
     "execution_count": 65,
     "metadata": {},
     "output_type": "execute_result"
    }
   ],
   "source": [
    "# Finished\n",
    "cohort = accession_num = \"GSE28271\"\n",
    "cohort_dir = os.path.join(trait_path, accession_num)\n",
    "soft_file, matrix_file = geo_get_relevant_filepaths(cohort_dir)\n",
    "soft_file, matrix_file"
   ]
  },
  {
   "cell_type": "code",
   "execution_count": 79,
   "metadata": {},
   "outputs": [
    {
     "data": {
      "text/plain": [
       "('/Users/legion/Desktop/Courses/IS389/data\\\\GEO\\\\Lower-Grade-Glioma\\\\GSE35158\\\\GSE35158_family.soft.gz',\n",
       " '/Users/legion/Desktop/Courses/IS389/data\\\\GEO\\\\Lower-Grade-Glioma\\\\GSE35158\\\\GSE35158_series_matrix.txt.gz')"
      ]
     },
     "execution_count": 79,
     "metadata": {},
     "output_type": "execute_result"
    }
   ],
   "source": [
    "# Biased\n",
    "cohort = accession_num = \"GSE35158\"\n",
    "cohort_dir = os.path.join(trait_path, accession_num)\n",
    "soft_file, matrix_file = geo_get_relevant_filepaths(cohort_dir)\n",
    "soft_file, matrix_file"
   ]
  },
  {
   "cell_type": "code",
   "execution_count": 93,
   "metadata": {},
   "outputs": [
    {
     "data": {
      "text/plain": [
       "('/Users/legion/Desktop/Courses/IS389/data\\\\GEO\\\\Lower-Grade-Glioma\\\\GSE4058\\\\GSE4058_family.soft.gz',\n",
       " '/Users/legion/Desktop/Courses/IS389/data\\\\GEO\\\\Lower-Grade-Glioma\\\\GSE4058\\\\GSE4058-GPL182_series_matrix.txt.gz')"
      ]
     },
     "execution_count": 93,
     "metadata": {},
     "output_type": "execute_result"
    }
   ],
   "source": [
    "# No traits\n",
    "cohort = accession_num = \"GSE4058\"\n",
    "cohort_dir = os.path.join(trait_path, accession_num)\n",
    "soft_file, matrix_file = geo_get_relevant_filepaths(cohort_dir)\n",
    "soft_file, matrix_file"
   ]
  },
  {
   "cell_type": "code",
   "execution_count": 96,
   "metadata": {},
   "outputs": [
    {
     "data": {
      "text/plain": [
       "('/Users/legion/Desktop/Courses/IS389/data\\\\GEO\\\\Lower-Grade-Glioma\\\\GSE74567\\\\GSE74567_family.soft.gz',\n",
       " '/Users/legion/Desktop/Courses/IS389/data\\\\GEO\\\\Lower-Grade-Glioma\\\\GSE74567\\\\GSE74567_series_matrix.txt.gz')"
      ]
     },
     "execution_count": 96,
     "metadata": {},
     "output_type": "execute_result"
    }
   ],
   "source": [
    "# No obvious traits\n",
    "cohort = accession_num = \"GSE74567\"\n",
    "cohort_dir = os.path.join(trait_path, accession_num)\n",
    "soft_file, matrix_file = geo_get_relevant_filepaths(cohort_dir)\n",
    "soft_file, matrix_file"
   ]
  },
  {
   "cell_type": "markdown",
   "metadata": {
    "collapsed": false
   },
   "source": [
    "### Initial filtering and clinical data preprocessing"
   ]
  },
  {
   "cell_type": "code",
   "execution_count": 97,
   "metadata": {
    "ExecuteTime": {
     "end_time": "2024-02-27T00:23:30.303301102Z",
     "start_time": "2024-02-27T00:23:30.295491459Z"
    },
    "collapsed": false
   },
   "outputs": [
    {
     "name": "stdout",
     "output_type": "stream",
     "text": [
      "!Series_title\t\"Astrocytoma cell lines transduced to either express GFAP isoforms or to knockdown GFAP isoforms\"\n",
      "!Series_summary\t\"Modulation of the GFAP cytoskeleton in astrocytoma cells alters processes involved in extracellular matrix remodelling and cell-cell signalling – a transcriptome analysis\"\n",
      "!Series_summary\t\"Astrocytomas grade IV are malignant brain tumours with no effective treatment and a five year survival rate of only 5%. Expression of Glial Fibrillary Acidic Protein (GFAP) is lower in high astrocytoma grade, but the expression of the splice isoform GFAPδ is similar in low and high-grade astrocytomas. Thus the ratio of GFAPδ/α is increased in high-grade astrocytomas. We studied transcriptome changes in astrocytoma cell lines resulting from an induced alteration of GFAP isoform expression. GFAPα or GFAPδ were increased or decreased by recombinant expression or shRNA mediated knockdown of GFAPpan or GFAPα. We find that the most prominent effects are induced by the modulations where the GFAPδ/GFAPα ratio is increased. Gene ontology analysis revealed that the main effects of GFAP modulation take place in the extracellular matrix remodelling and cellular signalling clusters, with possible implications in astrocytoma invasive behaviour and angiogenesis.\"\n",
      "!Series_overall_design\t\"2 cell lines (U251 and U373) with respectively recombinant expression or knockdown of GFAP isoforms. Biological replicates: U251 control - N=8, U251 recombinant GFAPa - N=8, U251 Recombinant GFAPdelta - N=8, U373 shRNA Non Targeting Control - N=6, U373 shRNA GFAPalpha - N=5, U373 shRNA GFAPpan - N=5\"\n"
     ]
    }
   ],
   "source": [
    "from utils import *\n",
    "background_prefixes = ['!Series_title', '!Series_summary', '!Series_overall_design']\n",
    "clinical_prefixes = ['!Sample_geo_accession', '!Sample_characteristics_ch1']    \n",
    "\n",
    "background_info, clinical_data = get_background_and_clinical_data(matrix_file, background_prefixes, clinical_prefixes)\n",
    "print(background_info)"
   ]
  },
  {
   "cell_type": "code",
   "execution_count": 98,
   "metadata": {
    "ExecuteTime": {
     "end_time": "2024-02-27T00:23:30.303593599Z",
     "start_time": "2024-02-27T00:23:30.299747893Z"
    },
    "collapsed": false
   },
   "outputs": [
    {
     "data": {
      "text/html": [
       "<div>\n",
       "<style scoped>\n",
       "    .dataframe tbody tr th:only-of-type {\n",
       "        vertical-align: middle;\n",
       "    }\n",
       "\n",
       "    .dataframe tbody tr th {\n",
       "        vertical-align: top;\n",
       "    }\n",
       "\n",
       "    .dataframe thead th {\n",
       "        text-align: right;\n",
       "    }\n",
       "</style>\n",
       "<table border=\"1\" class=\"dataframe\">\n",
       "  <thead>\n",
       "    <tr style=\"text-align: right;\">\n",
       "      <th></th>\n",
       "      <th>!Sample_geo_accession</th>\n",
       "      <th>GSM1923085</th>\n",
       "      <th>GSM1923086</th>\n",
       "      <th>GSM1923087</th>\n",
       "      <th>GSM1923088</th>\n",
       "      <th>GSM1923089</th>\n",
       "      <th>GSM1923090</th>\n",
       "      <th>GSM1923091</th>\n",
       "      <th>GSM1923092</th>\n",
       "      <th>GSM1923093</th>\n",
       "      <th>...</th>\n",
       "      <th>GSM1923115</th>\n",
       "      <th>GSM1923116</th>\n",
       "      <th>GSM1923117</th>\n",
       "      <th>GSM1923118</th>\n",
       "      <th>GSM1923119</th>\n",
       "      <th>GSM1923120</th>\n",
       "      <th>GSM1923121</th>\n",
       "      <th>GSM1923122</th>\n",
       "      <th>GSM1923123</th>\n",
       "      <th>GSM1923124</th>\n",
       "    </tr>\n",
       "  </thead>\n",
       "  <tbody>\n",
       "    <tr>\n",
       "      <th>0</th>\n",
       "      <td>!Sample_characteristics_ch1</td>\n",
       "      <td>tumour line: U373</td>\n",
       "      <td>tumour line: U373</td>\n",
       "      <td>tumour line: U373</td>\n",
       "      <td>tumour line: U373</td>\n",
       "      <td>tumour line: U373</td>\n",
       "      <td>tumour line: U373</td>\n",
       "      <td>tumour line: U373</td>\n",
       "      <td>tumour line: U373</td>\n",
       "      <td>tumour line: U373</td>\n",
       "      <td>...</td>\n",
       "      <td>tumour line: U251</td>\n",
       "      <td>tumour line: U251</td>\n",
       "      <td>tumour line: U251</td>\n",
       "      <td>tumour line: U251</td>\n",
       "      <td>tumour line: U251</td>\n",
       "      <td>tumour line: U251</td>\n",
       "      <td>tumour line: U251</td>\n",
       "      <td>tumour line: U251</td>\n",
       "      <td>tumour line: U251</td>\n",
       "      <td>tumour line: U251</td>\n",
       "    </tr>\n",
       "    <tr>\n",
       "      <th>1</th>\n",
       "      <td>!Sample_characteristics_ch1</td>\n",
       "      <td>construct: shRNA GFAPpan</td>\n",
       "      <td>construct: shRNA NTC</td>\n",
       "      <td>construct: shRNA GFAPalpha</td>\n",
       "      <td>construct: shRNA GFAPalpha</td>\n",
       "      <td>construct: shRNA GFAPpan</td>\n",
       "      <td>construct: shRNA NTC</td>\n",
       "      <td>construct: shRNA NTC</td>\n",
       "      <td>construct: shRNA GFAPalpha</td>\n",
       "      <td>construct: shRNA NTC</td>\n",
       "      <td>...</td>\n",
       "      <td>construct: recombinant GFAPdelta - IRES - mCherry</td>\n",
       "      <td>construct: recombinant GFAPalpha - IRES - GFP</td>\n",
       "      <td>construct: recombinant mCherry</td>\n",
       "      <td>construct: recombinant mCherry</td>\n",
       "      <td>construct: recombinant GFAPalpha - IRES - GFP</td>\n",
       "      <td>construct: recombinant GFAPdelta - IRES - mCherry</td>\n",
       "      <td>construct: recombinant GFAPalpha - IRES - GFP</td>\n",
       "      <td>construct: recombinant GFAPdelta - IRES - mCherry</td>\n",
       "      <td>construct: recombinant mCherry</td>\n",
       "      <td>construct: recombinant mCherry</td>\n",
       "    </tr>\n",
       "    <tr>\n",
       "      <th>2</th>\n",
       "      <td>!Sample_characteristics_ch1</td>\n",
       "      <td>substrate: PDMS coated with YIGSR peptide</td>\n",
       "      <td>substrate: PDMS coated with YIGSR peptide</td>\n",
       "      <td>substrate: PDMS coated with YIGSR peptide</td>\n",
       "      <td>substrate: PDMS coated with YIGSR peptide</td>\n",
       "      <td>substrate: PDMS coated with YIGSR peptide</td>\n",
       "      <td>substrate: PDMS coated with YIGSR peptide</td>\n",
       "      <td>substrate: PDMS coated with YIGSR peptide</td>\n",
       "      <td>substrate: PDMS coated with YIGSR peptide</td>\n",
       "      <td>substrate: PDMS coated with YIGSR peptide</td>\n",
       "      <td>...</td>\n",
       "      <td>substrate: PDMS coated with YIGSR peptide</td>\n",
       "      <td>substrate: PDMS coated with YIGSR peptide</td>\n",
       "      <td>substrate: PDMS coated with YIGSR peptide</td>\n",
       "      <td>substrate: PDMS coated with YIGSR peptide</td>\n",
       "      <td>substrate: PDMS coated with YIGSR peptide</td>\n",
       "      <td>substrate: PDMS coated with YIGSR peptide</td>\n",
       "      <td>substrate: PDMS coated with YIGSR peptide</td>\n",
       "      <td>substrate: PDMS coated with YIGSR peptide</td>\n",
       "      <td>substrate: PDMS coated with YIGSR peptide</td>\n",
       "      <td>substrate: PDMS coated with YIGSR peptide</td>\n",
       "    </tr>\n",
       "  </tbody>\n",
       "</table>\n",
       "<p>3 rows × 41 columns</p>\n",
       "</div>"
      ],
      "text/plain": [
       "         !Sample_geo_accession                                 GSM1923085  \\\n",
       "0  !Sample_characteristics_ch1                          tumour line: U373   \n",
       "1  !Sample_characteristics_ch1                   construct: shRNA GFAPpan   \n",
       "2  !Sample_characteristics_ch1  substrate: PDMS coated with YIGSR peptide   \n",
       "\n",
       "                                  GSM1923086  \\\n",
       "0                          tumour line: U373   \n",
       "1                       construct: shRNA NTC   \n",
       "2  substrate: PDMS coated with YIGSR peptide   \n",
       "\n",
       "                                  GSM1923087  \\\n",
       "0                          tumour line: U373   \n",
       "1                 construct: shRNA GFAPalpha   \n",
       "2  substrate: PDMS coated with YIGSR peptide   \n",
       "\n",
       "                                  GSM1923088  \\\n",
       "0                          tumour line: U373   \n",
       "1                 construct: shRNA GFAPalpha   \n",
       "2  substrate: PDMS coated with YIGSR peptide   \n",
       "\n",
       "                                  GSM1923089  \\\n",
       "0                          tumour line: U373   \n",
       "1                   construct: shRNA GFAPpan   \n",
       "2  substrate: PDMS coated with YIGSR peptide   \n",
       "\n",
       "                                  GSM1923090  \\\n",
       "0                          tumour line: U373   \n",
       "1                       construct: shRNA NTC   \n",
       "2  substrate: PDMS coated with YIGSR peptide   \n",
       "\n",
       "                                  GSM1923091  \\\n",
       "0                          tumour line: U373   \n",
       "1                       construct: shRNA NTC   \n",
       "2  substrate: PDMS coated with YIGSR peptide   \n",
       "\n",
       "                                  GSM1923092  \\\n",
       "0                          tumour line: U373   \n",
       "1                 construct: shRNA GFAPalpha   \n",
       "2  substrate: PDMS coated with YIGSR peptide   \n",
       "\n",
       "                                  GSM1923093  ...  \\\n",
       "0                          tumour line: U373  ...   \n",
       "1                       construct: shRNA NTC  ...   \n",
       "2  substrate: PDMS coated with YIGSR peptide  ...   \n",
       "\n",
       "                                          GSM1923115  \\\n",
       "0                                  tumour line: U251   \n",
       "1  construct: recombinant GFAPdelta - IRES - mCherry   \n",
       "2          substrate: PDMS coated with YIGSR peptide   \n",
       "\n",
       "                                      GSM1923116  \\\n",
       "0                              tumour line: U251   \n",
       "1  construct: recombinant GFAPalpha - IRES - GFP   \n",
       "2      substrate: PDMS coated with YIGSR peptide   \n",
       "\n",
       "                                  GSM1923117  \\\n",
       "0                          tumour line: U251   \n",
       "1             construct: recombinant mCherry   \n",
       "2  substrate: PDMS coated with YIGSR peptide   \n",
       "\n",
       "                                  GSM1923118  \\\n",
       "0                          tumour line: U251   \n",
       "1             construct: recombinant mCherry   \n",
       "2  substrate: PDMS coated with YIGSR peptide   \n",
       "\n",
       "                                      GSM1923119  \\\n",
       "0                              tumour line: U251   \n",
       "1  construct: recombinant GFAPalpha - IRES - GFP   \n",
       "2      substrate: PDMS coated with YIGSR peptide   \n",
       "\n",
       "                                          GSM1923120  \\\n",
       "0                                  tumour line: U251   \n",
       "1  construct: recombinant GFAPdelta - IRES - mCherry   \n",
       "2          substrate: PDMS coated with YIGSR peptide   \n",
       "\n",
       "                                      GSM1923121  \\\n",
       "0                              tumour line: U251   \n",
       "1  construct: recombinant GFAPalpha - IRES - GFP   \n",
       "2      substrate: PDMS coated with YIGSR peptide   \n",
       "\n",
       "                                          GSM1923122  \\\n",
       "0                                  tumour line: U251   \n",
       "1  construct: recombinant GFAPdelta - IRES - mCherry   \n",
       "2          substrate: PDMS coated with YIGSR peptide   \n",
       "\n",
       "                                  GSM1923123  \\\n",
       "0                          tumour line: U251   \n",
       "1             construct: recombinant mCherry   \n",
       "2  substrate: PDMS coated with YIGSR peptide   \n",
       "\n",
       "                                  GSM1923124  \n",
       "0                          tumour line: U251  \n",
       "1             construct: recombinant mCherry  \n",
       "2  substrate: PDMS coated with YIGSR peptide  \n",
       "\n",
       "[3 rows x 41 columns]"
      ]
     },
     "execution_count": 98,
     "metadata": {},
     "output_type": "execute_result"
    }
   ],
   "source": [
    "clinical_data"
   ]
  },
  {
   "cell_type": "markdown",
   "metadata": {},
   "source": [
    "Analyze the trait row:"
   ]
  },
  {
   "cell_type": "code",
   "execution_count": 101,
   "metadata": {},
   "outputs": [
    {
     "data": {
      "text/plain": [
       "array(['!Sample_characteristics_ch1',\n",
       "       'substrate: PDMS coated with YIGSR peptide'], dtype=object)"
      ]
     },
     "execution_count": 101,
     "metadata": {},
     "output_type": "execute_result"
    }
   ],
   "source": [
    "tumor_stage_row = clinical_data.iloc[2]\n",
    "tumor_stage_row.unique()"
   ]
  },
  {
   "cell_type": "markdown",
   "metadata": {},
   "source": [
    "Determine the trait row, age row, and gender row. Then implement the conversion functions:"
   ]
  },
  {
   "cell_type": "code",
   "execution_count": 83,
   "metadata": {
    "ExecuteTime": {
     "end_time": "2024-02-27T00:23:30.385870186Z",
     "start_time": "2024-02-27T00:23:30.351051500Z"
    },
    "collapsed": false
   },
   "outputs": [],
   "source": [
    "trait_row = 0\n",
    "age_row = None\n",
    "gender_row = None\n",
    "\n",
    "def convert_trait(trait):\n",
    "    if (trait == 'tumor type: diffuse astrocytic glioma'):\n",
    "        return 1\n",
    "    else:\n",
    "        return 0\n",
    "\n",
    "def convert_age(age_string):\n",
    "    if age_string == 'n.a.':\n",
    "        return None\n",
    "    try:\n",
    "        age = int(age_string.split(': ')[1])\n",
    "        return age\n",
    "    except (ValueError, IndexError):\n",
    "        return None\n",
    "\n",
    "def convert_gender(gender_string):\n",
    "    if (gender_string.lower() == 'sex: female' or gender_string.lower() == 'sex: f' or gender_string.lower() == 'gender: female' or gender_string.lower() == 'gender: f'):\n",
    "        return 1\n",
    "    elif (gender_string.lower() == 'sex: male' or gender_string.lower() == 'sex: m' or gender_string.lower() == 'gender: male' or gender_string.lower() == 'gender: m') :  # changeed \n",
    "        return 0\n",
    "    else:\n",
    "        return None"
   ]
  },
  {
   "cell_type": "markdown",
   "metadata": {},
   "source": [
    "Check the processed clinical data:"
   ]
  },
  {
   "cell_type": "code",
   "execution_count": 84,
   "metadata": {
    "ExecuteTime": {
     "end_time": "2024-02-27T00:23:30.386191717Z",
     "start_time": "2024-02-27T00:23:30.351458802Z"
    },
    "collapsed": false
   },
   "outputs": [
    {
     "name": "stderr",
     "output_type": "stream",
     "text": [
      "c:\\Users\\legion\\Desktop\\TAIS_2024SP\\TAIS_2024SP\\task2\\Jiayi\\utils.py:218: FutureWarning: DataFrame.applymap has been deprecated. Use DataFrame.map instead.\n",
      "  clinical_df = clinical_df.applymap(convert_fn)\n"
     ]
    },
    {
     "data": {
      "text/html": [
       "<div>\n",
       "<style scoped>\n",
       "    .dataframe tbody tr th:only-of-type {\n",
       "        vertical-align: middle;\n",
       "    }\n",
       "\n",
       "    .dataframe tbody tr th {\n",
       "        vertical-align: top;\n",
       "    }\n",
       "\n",
       "    .dataframe thead th {\n",
       "        text-align: right;\n",
       "    }\n",
       "</style>\n",
       "<table border=\"1\" class=\"dataframe\">\n",
       "  <thead>\n",
       "    <tr style=\"text-align: right;\">\n",
       "      <th></th>\n",
       "      <th>GSM864095</th>\n",
       "      <th>GSM864096</th>\n",
       "      <th>GSM864097</th>\n",
       "      <th>GSM864098</th>\n",
       "      <th>GSM864099</th>\n",
       "      <th>GSM864100</th>\n",
       "      <th>GSM864101</th>\n",
       "      <th>GSM864102</th>\n",
       "      <th>GSM864103</th>\n",
       "      <th>GSM864104</th>\n",
       "      <th>...</th>\n",
       "      <th>GSM864166</th>\n",
       "      <th>GSM864167</th>\n",
       "      <th>GSM864168</th>\n",
       "      <th>GSM864169</th>\n",
       "      <th>GSM864170</th>\n",
       "      <th>GSM864171</th>\n",
       "      <th>GSM864172</th>\n",
       "      <th>GSM864173</th>\n",
       "      <th>GSM864174</th>\n",
       "      <th>GSM864175</th>\n",
       "    </tr>\n",
       "  </thead>\n",
       "  <tbody>\n",
       "    <tr>\n",
       "      <th>Lower Grade Glioma</th>\n",
       "      <td>0</td>\n",
       "      <td>1</td>\n",
       "      <td>1</td>\n",
       "      <td>1</td>\n",
       "      <td>1</td>\n",
       "      <td>1</td>\n",
       "      <td>1</td>\n",
       "      <td>1</td>\n",
       "      <td>1</td>\n",
       "      <td>1</td>\n",
       "      <td>...</td>\n",
       "      <td>1</td>\n",
       "      <td>1</td>\n",
       "      <td>1</td>\n",
       "      <td>1</td>\n",
       "      <td>1</td>\n",
       "      <td>1</td>\n",
       "      <td>1</td>\n",
       "      <td>1</td>\n",
       "      <td>1</td>\n",
       "      <td>1</td>\n",
       "    </tr>\n",
       "  </tbody>\n",
       "</table>\n",
       "<p>1 rows × 81 columns</p>\n",
       "</div>"
      ],
      "text/plain": [
       "                    GSM864095  GSM864096  GSM864097  GSM864098  GSM864099  \\\n",
       "Lower Grade Glioma          0          1          1          1          1   \n",
       "\n",
       "                    GSM864100  GSM864101  GSM864102  GSM864103  GSM864104  \\\n",
       "Lower Grade Glioma          1          1          1          1          1   \n",
       "\n",
       "                    ...  GSM864166  GSM864167  GSM864168  GSM864169  \\\n",
       "Lower Grade Glioma  ...          1          1          1          1   \n",
       "\n",
       "                    GSM864170  GSM864171  GSM864172  GSM864173  GSM864174  \\\n",
       "Lower Grade Glioma          1          1          1          1          1   \n",
       "\n",
       "                    GSM864175  \n",
       "Lower Grade Glioma          1  \n",
       "\n",
       "[1 rows x 81 columns]"
      ]
     },
     "execution_count": 84,
     "metadata": {},
     "output_type": "execute_result"
    }
   ],
   "source": [
    "selected_clinical_data = geo_select_clinical_features(clinical_data, TRAIT, trait_row, convert_trait, age_row=age_row,\n",
    "                                                      convert_age=convert_age, gender_row=gender_row,\n",
    "                                                      convert_gender=convert_gender)\n",
    "selected_clinical_data.head()"
   ]
  },
  {
   "cell_type": "markdown",
   "metadata": {
    "ExecuteTime": {
     "end_time": "2023-12-31T03:58:04.978664193Z",
     "start_time": "2023-12-31T03:58:04.966117261Z"
    },
    "collapsed": false
   },
   "source": [
    "### Genetic data preprocessing and final filtering"
   ]
  },
  {
   "cell_type": "markdown",
   "metadata": {},
   "source": [
    "Check the genetic data:"
   ]
  },
  {
   "cell_type": "code",
   "execution_count": 85,
   "metadata": {
    "ExecuteTime": {
     "end_time": "2024-02-27T00:23:30.394809420Z",
     "start_time": "2024-02-27T00:23:30.351566744Z"
    },
    "collapsed": false
   },
   "outputs": [
    {
     "data": {
      "text/html": [
       "<div>\n",
       "<style scoped>\n",
       "    .dataframe tbody tr th:only-of-type {\n",
       "        vertical-align: middle;\n",
       "    }\n",
       "\n",
       "    .dataframe tbody tr th {\n",
       "        vertical-align: top;\n",
       "    }\n",
       "\n",
       "    .dataframe thead th {\n",
       "        text-align: right;\n",
       "    }\n",
       "</style>\n",
       "<table border=\"1\" class=\"dataframe\">\n",
       "  <thead>\n",
       "    <tr style=\"text-align: right;\">\n",
       "      <th></th>\n",
       "      <th>GSM864095</th>\n",
       "      <th>GSM864096</th>\n",
       "      <th>GSM864097</th>\n",
       "      <th>GSM864098</th>\n",
       "      <th>GSM864099</th>\n",
       "      <th>GSM864100</th>\n",
       "      <th>GSM864101</th>\n",
       "      <th>GSM864102</th>\n",
       "      <th>GSM864103</th>\n",
       "      <th>GSM864104</th>\n",
       "      <th>...</th>\n",
       "      <th>GSM864166</th>\n",
       "      <th>GSM864167</th>\n",
       "      <th>GSM864168</th>\n",
       "      <th>GSM864169</th>\n",
       "      <th>GSM864170</th>\n",
       "      <th>GSM864171</th>\n",
       "      <th>GSM864172</th>\n",
       "      <th>GSM864173</th>\n",
       "      <th>GSM864174</th>\n",
       "      <th>GSM864175</th>\n",
       "    </tr>\n",
       "    <tr>\n",
       "      <th>ID</th>\n",
       "      <th></th>\n",
       "      <th></th>\n",
       "      <th></th>\n",
       "      <th></th>\n",
       "      <th></th>\n",
       "      <th></th>\n",
       "      <th></th>\n",
       "      <th></th>\n",
       "      <th></th>\n",
       "      <th></th>\n",
       "      <th></th>\n",
       "      <th></th>\n",
       "      <th></th>\n",
       "      <th></th>\n",
       "      <th></th>\n",
       "      <th></th>\n",
       "      <th></th>\n",
       "      <th></th>\n",
       "      <th></th>\n",
       "      <th></th>\n",
       "      <th></th>\n",
       "    </tr>\n",
       "  </thead>\n",
       "  <tbody>\n",
       "    <tr>\n",
       "      <th>ILMN_1651209</th>\n",
       "      <td>7.08126</td>\n",
       "      <td>7.02804</td>\n",
       "      <td>7.04731</td>\n",
       "      <td>6.89578</td>\n",
       "      <td>7.54783</td>\n",
       "      <td>7.05696</td>\n",
       "      <td>7.02078</td>\n",
       "      <td>7.08857</td>\n",
       "      <td>6.93991</td>\n",
       "      <td>7.23049</td>\n",
       "      <td>...</td>\n",
       "      <td>8.39485</td>\n",
       "      <td>8.31617</td>\n",
       "      <td>7.57317</td>\n",
       "      <td>6.61048</td>\n",
       "      <td>7.14696</td>\n",
       "      <td>6.64119</td>\n",
       "      <td>6.90180</td>\n",
       "      <td>7.34592</td>\n",
       "      <td>6.85502</td>\n",
       "      <td>6.88195</td>\n",
       "    </tr>\n",
       "    <tr>\n",
       "      <th>ILMN_1651228</th>\n",
       "      <td>12.26640</td>\n",
       "      <td>11.81630</td>\n",
       "      <td>12.25260</td>\n",
       "      <td>12.76770</td>\n",
       "      <td>12.55510</td>\n",
       "      <td>12.59100</td>\n",
       "      <td>12.44120</td>\n",
       "      <td>12.68280</td>\n",
       "      <td>12.06800</td>\n",
       "      <td>12.24920</td>\n",
       "      <td>...</td>\n",
       "      <td>12.71940</td>\n",
       "      <td>12.84890</td>\n",
       "      <td>12.85570</td>\n",
       "      <td>12.75380</td>\n",
       "      <td>11.33130</td>\n",
       "      <td>11.60430</td>\n",
       "      <td>11.29920</td>\n",
       "      <td>11.60190</td>\n",
       "      <td>7.72358</td>\n",
       "      <td>11.15930</td>\n",
       "    </tr>\n",
       "    <tr>\n",
       "      <th>ILMN_1651229</th>\n",
       "      <td>11.51870</td>\n",
       "      <td>11.18470</td>\n",
       "      <td>10.52200</td>\n",
       "      <td>10.83890</td>\n",
       "      <td>10.72500</td>\n",
       "      <td>11.09250</td>\n",
       "      <td>11.29930</td>\n",
       "      <td>9.72791</td>\n",
       "      <td>10.88010</td>\n",
       "      <td>10.72500</td>\n",
       "      <td>...</td>\n",
       "      <td>10.15800</td>\n",
       "      <td>9.88498</td>\n",
       "      <td>9.72949</td>\n",
       "      <td>9.72235</td>\n",
       "      <td>8.09054</td>\n",
       "      <td>8.93811</td>\n",
       "      <td>9.89586</td>\n",
       "      <td>7.60621</td>\n",
       "      <td>8.16145</td>\n",
       "      <td>8.77942</td>\n",
       "    </tr>\n",
       "    <tr>\n",
       "      <th>ILMN_1651235</th>\n",
       "      <td>11.06620</td>\n",
       "      <td>11.11270</td>\n",
       "      <td>12.09500</td>\n",
       "      <td>12.04060</td>\n",
       "      <td>11.62470</td>\n",
       "      <td>11.73560</td>\n",
       "      <td>11.46170</td>\n",
       "      <td>12.19640</td>\n",
       "      <td>11.83190</td>\n",
       "      <td>11.60460</td>\n",
       "      <td>...</td>\n",
       "      <td>11.22910</td>\n",
       "      <td>11.57700</td>\n",
       "      <td>11.60540</td>\n",
       "      <td>11.60870</td>\n",
       "      <td>7.03031</td>\n",
       "      <td>7.28178</td>\n",
       "      <td>7.38760</td>\n",
       "      <td>7.25692</td>\n",
       "      <td>10.22190</td>\n",
       "      <td>7.19244</td>\n",
       "    </tr>\n",
       "    <tr>\n",
       "      <th>ILMN_1651236</th>\n",
       "      <td>6.71231</td>\n",
       "      <td>6.80484</td>\n",
       "      <td>7.71360</td>\n",
       "      <td>6.76902</td>\n",
       "      <td>6.83577</td>\n",
       "      <td>6.98686</td>\n",
       "      <td>6.77434</td>\n",
       "      <td>6.89079</td>\n",
       "      <td>6.82580</td>\n",
       "      <td>7.22916</td>\n",
       "      <td>...</td>\n",
       "      <td>6.96177</td>\n",
       "      <td>6.65941</td>\n",
       "      <td>7.13952</td>\n",
       "      <td>7.26050</td>\n",
       "      <td>7.03282</td>\n",
       "      <td>7.09629</td>\n",
       "      <td>7.05044</td>\n",
       "      <td>7.23764</td>\n",
       "      <td>7.09740</td>\n",
       "      <td>7.16042</td>\n",
       "    </tr>\n",
       "  </tbody>\n",
       "</table>\n",
       "<p>5 rows × 81 columns</p>\n",
       "</div>"
      ],
      "text/plain": [
       "              GSM864095  GSM864096  GSM864097  GSM864098  GSM864099  \\\n",
       "ID                                                                    \n",
       "ILMN_1651209    7.08126    7.02804    7.04731    6.89578    7.54783   \n",
       "ILMN_1651228   12.26640   11.81630   12.25260   12.76770   12.55510   \n",
       "ILMN_1651229   11.51870   11.18470   10.52200   10.83890   10.72500   \n",
       "ILMN_1651235   11.06620   11.11270   12.09500   12.04060   11.62470   \n",
       "ILMN_1651236    6.71231    6.80484    7.71360    6.76902    6.83577   \n",
       "\n",
       "              GSM864100  GSM864101  GSM864102  GSM864103  GSM864104  ...  \\\n",
       "ID                                                                   ...   \n",
       "ILMN_1651209    7.05696    7.02078    7.08857    6.93991    7.23049  ...   \n",
       "ILMN_1651228   12.59100   12.44120   12.68280   12.06800   12.24920  ...   \n",
       "ILMN_1651229   11.09250   11.29930    9.72791   10.88010   10.72500  ...   \n",
       "ILMN_1651235   11.73560   11.46170   12.19640   11.83190   11.60460  ...   \n",
       "ILMN_1651236    6.98686    6.77434    6.89079    6.82580    7.22916  ...   \n",
       "\n",
       "              GSM864166  GSM864167  GSM864168  GSM864169  GSM864170  \\\n",
       "ID                                                                    \n",
       "ILMN_1651209    8.39485    8.31617    7.57317    6.61048    7.14696   \n",
       "ILMN_1651228   12.71940   12.84890   12.85570   12.75380   11.33130   \n",
       "ILMN_1651229   10.15800    9.88498    9.72949    9.72235    8.09054   \n",
       "ILMN_1651235   11.22910   11.57700   11.60540   11.60870    7.03031   \n",
       "ILMN_1651236    6.96177    6.65941    7.13952    7.26050    7.03282   \n",
       "\n",
       "              GSM864171  GSM864172  GSM864173  GSM864174  GSM864175  \n",
       "ID                                                                   \n",
       "ILMN_1651209    6.64119    6.90180    7.34592    6.85502    6.88195  \n",
       "ILMN_1651228   11.60430   11.29920   11.60190    7.72358   11.15930  \n",
       "ILMN_1651229    8.93811    9.89586    7.60621    8.16145    8.77942  \n",
       "ILMN_1651235    7.28178    7.38760    7.25692   10.22190    7.19244  \n",
       "ILMN_1651236    7.09629    7.05044    7.23764    7.09740    7.16042  \n",
       "\n",
       "[5 rows x 81 columns]"
      ]
     },
     "execution_count": 85,
     "metadata": {},
     "output_type": "execute_result"
    }
   ],
   "source": [
    "genetic_data = get_genetic_data(matrix_file)\n",
    "genetic_data.head()"
   ]
  },
  {
   "cell_type": "markdown",
   "metadata": {
    "ExecuteTime": {
     "end_time": "2023-12-31T03:30:41.595335164Z",
     "start_time": "2023-12-31T03:30:41.513232329Z"
    },
    "collapsed": false
   },
   "source": [
    "Check if the gene dataset requires mapping to get the gene symbols corresponding to each data row."
   ]
  },
  {
   "cell_type": "code",
   "execution_count": 86,
   "metadata": {},
   "outputs": [
    {
     "name": "stdout",
     "output_type": "stream",
     "text": [
      "{'ID': ['ILMN_3166687', 'ILMN_3165566', 'ILMN_3164811', 'ILMN_3165363', 'ILMN_3166511'], 'Transcript': ['ILMN_333737', 'ILMN_333646', 'ILMN_333584', 'ILMN_333628', 'ILMN_333719'], 'Species': ['ILMN Controls', 'ILMN Controls', 'ILMN Controls', 'ILMN Controls', 'ILMN Controls'], 'Source': ['ILMN_Controls', 'ILMN_Controls', 'ILMN_Controls', 'ILMN_Controls', 'ILMN_Controls'], 'Search_Key': ['ERCC-00162', 'ERCC-00071', 'ERCC-00009', 'ERCC-00053', 'ERCC-00144'], 'ILMN_Gene': ['ERCC-00162', 'ERCC-00071', 'ERCC-00009', 'ERCC-00053', 'ERCC-00144'], 'Source_Reference_ID': ['ERCC-00162', 'ERCC-00071', 'ERCC-00009', 'ERCC-00053', 'ERCC-00144'], 'RefSeq_ID': [nan, nan, nan, nan, nan], 'Entrez_Gene_ID': [nan, nan, nan, nan, nan], 'GI': [nan, nan, nan, nan, nan], 'Accession': ['DQ516750', 'DQ883654', 'DQ668364', 'DQ516785', 'DQ854995'], 'Symbol': ['ERCC-00162', 'ERCC-00071', 'ERCC-00009', 'ERCC-00053', 'ERCC-00144'], 'Protein_Product': [nan, nan, nan, nan, nan], 'Array_Address_Id': [5270161.0, 4260594.0, 7610424.0, 5260356.0, 2030196.0], 'Probe_Type': ['S', 'S', 'S', 'S', 'S'], 'Probe_Start': [12.0, 224.0, 868.0, 873.0, 130.0], 'SEQUENCE': ['CCCATGTGTCCAATTCTGAATATCTTTCCAGCTAAGTGCTTCTGCCCACC', 'GGATTAACTGCTGTGGTGTGTCATACTCGGCTACCTCCTGGTTTGGCGTC', 'GACCACGCCTTGTAATCGTATGACACGCGCTTGACACGACTGAATCCAGC', 'CTGCAATGCCATTAACAACCTTAGCACGGTATTTCCAGTAGCTGGTGAGC', 'CGTGCAGACAGGGATCGTAAGGCGATCCAGCCGGTATACCTTAGTCACAT'], 'Chromosome': [nan, nan, nan, nan, nan], 'Probe_Chr_Orientation': [nan, nan, nan, nan, nan], 'Probe_Coordinates': [nan, nan, nan, nan, nan], 'Cytoband': [nan, nan, nan, nan, nan], 'Definition': ['Methanocaldococcus jannaschii spike-in control MJ-500-33 genomic sequence', 'Synthetic construct clone NISTag13 external RNA control sequence', 'Synthetic construct clone TagJ microarray control', 'Methanocaldococcus jannaschii spike-in control MJ-1000-68 genomic sequence', 'Synthetic construct clone AG006.1100 external RNA control sequence'], 'Ontology_Component': [nan, nan, nan, nan, nan], 'Ontology_Process': [nan, nan, nan, nan, nan], 'Ontology_Function': [nan, nan, nan, nan, nan], 'Synonyms': [nan, nan, nan, nan, nan], 'Obsolete_Probe_Id': [nan, nan, nan, nan, nan], 'GB_ACC': ['DQ516750', 'DQ883654', 'DQ668364', 'DQ516785', 'DQ854995']}\n"
     ]
    },
    {
     "data": {
      "text/plain": [
       "Index(['ID', 'Transcript', 'Species', 'Source', 'Search_Key', 'ILMN_Gene',\n",
       "       'Source_Reference_ID', 'RefSeq_ID', 'Entrez_Gene_ID', 'GI', 'Accession',\n",
       "       'Symbol', 'Protein_Product', 'Array_Address_Id', 'Probe_Type',\n",
       "       'Probe_Start', 'SEQUENCE', 'Chromosome', 'Probe_Chr_Orientation',\n",
       "       'Probe_Coordinates', 'Cytoband', 'Definition', 'Ontology_Component',\n",
       "       'Ontology_Process', 'Ontology_Function', 'Synonyms',\n",
       "       'Obsolete_Probe_Id', 'GB_ACC'],\n",
       "      dtype='object')"
      ]
     },
     "execution_count": 86,
     "metadata": {},
     "output_type": "execute_result"
    }
   ],
   "source": [
    "requires_gene_mapping = True\n",
    "\n",
    "if requires_gene_mapping:\n",
    "    gene_annotation = get_gene_annotation(soft_file)\n",
    "    gene_annotation_summary = preview_df(gene_annotation)\n",
    "    print(gene_annotation_summary)\n",
    "\n",
    "gene_annotation.columns"
   ]
  },
  {
   "cell_type": "code",
   "execution_count": 87,
   "metadata": {},
   "outputs": [],
   "source": [
    "if requires_gene_mapping:\n",
    "    identifier_key = 'ID'\n",
    "    gene_symbol_key = 'Symbol'\n",
    "    gene_mapping = get_gene_mapping(gene_annotation, identifier_key, gene_symbol_key)\n",
    "    genetic_data = apply_gene_mapping(genetic_data, gene_mapping)"
   ]
  },
  {
   "cell_type": "code",
   "execution_count": 88,
   "metadata": {},
   "outputs": [
    {
     "data": {
      "text/html": [
       "<div>\n",
       "<style scoped>\n",
       "    .dataframe tbody tr th:only-of-type {\n",
       "        vertical-align: middle;\n",
       "    }\n",
       "\n",
       "    .dataframe tbody tr th {\n",
       "        vertical-align: top;\n",
       "    }\n",
       "\n",
       "    .dataframe thead th {\n",
       "        text-align: right;\n",
       "    }\n",
       "</style>\n",
       "<table border=\"1\" class=\"dataframe\">\n",
       "  <thead>\n",
       "    <tr style=\"text-align: right;\">\n",
       "      <th></th>\n",
       "      <th>GSM864095</th>\n",
       "      <th>GSM864096</th>\n",
       "      <th>GSM864097</th>\n",
       "      <th>GSM864098</th>\n",
       "      <th>GSM864099</th>\n",
       "      <th>GSM864100</th>\n",
       "      <th>GSM864101</th>\n",
       "      <th>GSM864102</th>\n",
       "      <th>GSM864103</th>\n",
       "      <th>GSM864104</th>\n",
       "      <th>...</th>\n",
       "      <th>GSM864166</th>\n",
       "      <th>GSM864167</th>\n",
       "      <th>GSM864168</th>\n",
       "      <th>GSM864169</th>\n",
       "      <th>GSM864170</th>\n",
       "      <th>GSM864171</th>\n",
       "      <th>GSM864172</th>\n",
       "      <th>GSM864173</th>\n",
       "      <th>GSM864174</th>\n",
       "      <th>GSM864175</th>\n",
       "    </tr>\n",
       "  </thead>\n",
       "  <tbody>\n",
       "    <tr>\n",
       "      <th>A1BG</th>\n",
       "      <td>7.26299</td>\n",
       "      <td>7.33984</td>\n",
       "      <td>7.05604</td>\n",
       "      <td>7.35527</td>\n",
       "      <td>7.29422</td>\n",
       "      <td>6.98433</td>\n",
       "      <td>7.63733</td>\n",
       "      <td>7.25926</td>\n",
       "      <td>6.92810</td>\n",
       "      <td>7.51760</td>\n",
       "      <td>...</td>\n",
       "      <td>7.09568</td>\n",
       "      <td>8.34684</td>\n",
       "      <td>7.36993</td>\n",
       "      <td>7.63071</td>\n",
       "      <td>7.35173</td>\n",
       "      <td>7.37455</td>\n",
       "      <td>7.13238</td>\n",
       "      <td>6.62549</td>\n",
       "      <td>6.74157</td>\n",
       "      <td>6.91874</td>\n",
       "    </tr>\n",
       "    <tr>\n",
       "      <th>A1CF</th>\n",
       "      <td>7.00445</td>\n",
       "      <td>7.25328</td>\n",
       "      <td>6.81456</td>\n",
       "      <td>7.24100</td>\n",
       "      <td>6.83460</td>\n",
       "      <td>7.03233</td>\n",
       "      <td>6.92788</td>\n",
       "      <td>6.61342</td>\n",
       "      <td>7.18611</td>\n",
       "      <td>6.97340</td>\n",
       "      <td>...</td>\n",
       "      <td>6.97962</td>\n",
       "      <td>6.94430</td>\n",
       "      <td>7.15381</td>\n",
       "      <td>6.60018</td>\n",
       "      <td>6.98928</td>\n",
       "      <td>7.08978</td>\n",
       "      <td>7.19660</td>\n",
       "      <td>6.88211</td>\n",
       "      <td>7.23039</td>\n",
       "      <td>7.21305</td>\n",
       "    </tr>\n",
       "    <tr>\n",
       "      <th>A2M</th>\n",
       "      <td>12.66320</td>\n",
       "      <td>12.12180</td>\n",
       "      <td>12.21760</td>\n",
       "      <td>12.68280</td>\n",
       "      <td>12.40220</td>\n",
       "      <td>12.28430</td>\n",
       "      <td>12.31000</td>\n",
       "      <td>12.47900</td>\n",
       "      <td>12.69650</td>\n",
       "      <td>12.61970</td>\n",
       "      <td>...</td>\n",
       "      <td>12.01350</td>\n",
       "      <td>11.18670</td>\n",
       "      <td>11.92090</td>\n",
       "      <td>12.46340</td>\n",
       "      <td>10.83410</td>\n",
       "      <td>7.03836</td>\n",
       "      <td>7.48536</td>\n",
       "      <td>6.95512</td>\n",
       "      <td>7.31170</td>\n",
       "      <td>9.08426</td>\n",
       "    </tr>\n",
       "    <tr>\n",
       "      <th>A2ML1</th>\n",
       "      <td>8.89724</td>\n",
       "      <td>8.02318</td>\n",
       "      <td>6.53002</td>\n",
       "      <td>7.77120</td>\n",
       "      <td>8.58752</td>\n",
       "      <td>7.73412</td>\n",
       "      <td>7.72119</td>\n",
       "      <td>8.66294</td>\n",
       "      <td>8.26156</td>\n",
       "      <td>8.55367</td>\n",
       "      <td>...</td>\n",
       "      <td>8.50179</td>\n",
       "      <td>9.39235</td>\n",
       "      <td>6.77108</td>\n",
       "      <td>8.56073</td>\n",
       "      <td>7.57273</td>\n",
       "      <td>8.88461</td>\n",
       "      <td>8.48545</td>\n",
       "      <td>7.35455</td>\n",
       "      <td>7.73330</td>\n",
       "      <td>7.18958</td>\n",
       "    </tr>\n",
       "    <tr>\n",
       "      <th>A3GALT2</th>\n",
       "      <td>6.58877</td>\n",
       "      <td>6.59165</td>\n",
       "      <td>6.65354</td>\n",
       "      <td>7.26082</td>\n",
       "      <td>6.81609</td>\n",
       "      <td>6.72278</td>\n",
       "      <td>7.18236</td>\n",
       "      <td>6.84640</td>\n",
       "      <td>6.66252</td>\n",
       "      <td>6.64315</td>\n",
       "      <td>...</td>\n",
       "      <td>7.06416</td>\n",
       "      <td>8.10593</td>\n",
       "      <td>7.52797</td>\n",
       "      <td>7.00872</td>\n",
       "      <td>7.14662</td>\n",
       "      <td>6.60719</td>\n",
       "      <td>6.89761</td>\n",
       "      <td>6.94392</td>\n",
       "      <td>6.96191</td>\n",
       "      <td>6.77036</td>\n",
       "    </tr>\n",
       "    <tr>\n",
       "      <th>...</th>\n",
       "      <td>...</td>\n",
       "      <td>...</td>\n",
       "      <td>...</td>\n",
       "      <td>...</td>\n",
       "      <td>...</td>\n",
       "      <td>...</td>\n",
       "      <td>...</td>\n",
       "      <td>...</td>\n",
       "      <td>...</td>\n",
       "      <td>...</td>\n",
       "      <td>...</td>\n",
       "      <td>...</td>\n",
       "      <td>...</td>\n",
       "      <td>...</td>\n",
       "      <td>...</td>\n",
       "      <td>...</td>\n",
       "      <td>...</td>\n",
       "      <td>...</td>\n",
       "      <td>...</td>\n",
       "      <td>...</td>\n",
       "      <td>...</td>\n",
       "    </tr>\n",
       "    <tr>\n",
       "      <th>ZYG11A</th>\n",
       "      <td>6.99325</td>\n",
       "      <td>8.22443</td>\n",
       "      <td>10.40700</td>\n",
       "      <td>10.15350</td>\n",
       "      <td>6.76882</td>\n",
       "      <td>7.33668</td>\n",
       "      <td>7.48604</td>\n",
       "      <td>8.74448</td>\n",
       "      <td>9.16049</td>\n",
       "      <td>6.61523</td>\n",
       "      <td>...</td>\n",
       "      <td>6.64472</td>\n",
       "      <td>6.52377</td>\n",
       "      <td>6.57874</td>\n",
       "      <td>6.61732</td>\n",
       "      <td>7.23060</td>\n",
       "      <td>7.18165</td>\n",
       "      <td>7.21305</td>\n",
       "      <td>6.94335</td>\n",
       "      <td>7.46759</td>\n",
       "      <td>8.14860</td>\n",
       "    </tr>\n",
       "    <tr>\n",
       "      <th>ZYG11B</th>\n",
       "      <td>11.20560</td>\n",
       "      <td>11.12960</td>\n",
       "      <td>11.71370</td>\n",
       "      <td>11.31940</td>\n",
       "      <td>11.25370</td>\n",
       "      <td>11.28910</td>\n",
       "      <td>11.29440</td>\n",
       "      <td>11.65360</td>\n",
       "      <td>11.27060</td>\n",
       "      <td>11.27740</td>\n",
       "      <td>...</td>\n",
       "      <td>11.67890</td>\n",
       "      <td>11.97270</td>\n",
       "      <td>11.58070</td>\n",
       "      <td>11.22320</td>\n",
       "      <td>10.06810</td>\n",
       "      <td>8.17997</td>\n",
       "      <td>7.31621</td>\n",
       "      <td>10.77050</td>\n",
       "      <td>7.10785</td>\n",
       "      <td>8.81633</td>\n",
       "    </tr>\n",
       "    <tr>\n",
       "      <th>ZYX</th>\n",
       "      <td>9.65265</td>\n",
       "      <td>8.76356</td>\n",
       "      <td>8.46257</td>\n",
       "      <td>9.92270</td>\n",
       "      <td>10.60330</td>\n",
       "      <td>8.77365</td>\n",
       "      <td>9.56414</td>\n",
       "      <td>9.67786</td>\n",
       "      <td>9.09486</td>\n",
       "      <td>10.20100</td>\n",
       "      <td>...</td>\n",
       "      <td>9.32799</td>\n",
       "      <td>10.18560</td>\n",
       "      <td>8.12342</td>\n",
       "      <td>9.55623</td>\n",
       "      <td>8.95185</td>\n",
       "      <td>10.33370</td>\n",
       "      <td>9.04514</td>\n",
       "      <td>8.45426</td>\n",
       "      <td>9.24264</td>\n",
       "      <td>8.22080</td>\n",
       "    </tr>\n",
       "    <tr>\n",
       "      <th>ZZEF1</th>\n",
       "      <td>9.66498</td>\n",
       "      <td>9.18799</td>\n",
       "      <td>8.17041</td>\n",
       "      <td>7.38441</td>\n",
       "      <td>9.76300</td>\n",
       "      <td>9.90751</td>\n",
       "      <td>9.71319</td>\n",
       "      <td>9.61425</td>\n",
       "      <td>10.00860</td>\n",
       "      <td>9.81844</td>\n",
       "      <td>...</td>\n",
       "      <td>7.48423</td>\n",
       "      <td>6.94775</td>\n",
       "      <td>8.85493</td>\n",
       "      <td>8.71635</td>\n",
       "      <td>9.09447</td>\n",
       "      <td>10.72160</td>\n",
       "      <td>9.26359</td>\n",
       "      <td>8.52914</td>\n",
       "      <td>8.79593</td>\n",
       "      <td>7.38667</td>\n",
       "    </tr>\n",
       "    <tr>\n",
       "      <th>ZZZ3</th>\n",
       "      <td>9.71133</td>\n",
       "      <td>10.01200</td>\n",
       "      <td>10.26000</td>\n",
       "      <td>9.54446</td>\n",
       "      <td>10.24570</td>\n",
       "      <td>9.88022</td>\n",
       "      <td>10.26710</td>\n",
       "      <td>10.38530</td>\n",
       "      <td>10.01170</td>\n",
       "      <td>9.65924</td>\n",
       "      <td>...</td>\n",
       "      <td>9.15495</td>\n",
       "      <td>9.50455</td>\n",
       "      <td>9.54555</td>\n",
       "      <td>9.34649</td>\n",
       "      <td>7.70009</td>\n",
       "      <td>7.89890</td>\n",
       "      <td>7.77520</td>\n",
       "      <td>7.45045</td>\n",
       "      <td>7.68737</td>\n",
       "      <td>9.23792</td>\n",
       "    </tr>\n",
       "  </tbody>\n",
       "</table>\n",
       "<p>16987 rows × 81 columns</p>\n",
       "</div>"
      ],
      "text/plain": [
       "         GSM864095  GSM864096  GSM864097  GSM864098  GSM864099  GSM864100  \\\n",
       "A1BG       7.26299    7.33984    7.05604    7.35527    7.29422    6.98433   \n",
       "A1CF       7.00445    7.25328    6.81456    7.24100    6.83460    7.03233   \n",
       "A2M       12.66320   12.12180   12.21760   12.68280   12.40220   12.28430   \n",
       "A2ML1      8.89724    8.02318    6.53002    7.77120    8.58752    7.73412   \n",
       "A3GALT2    6.58877    6.59165    6.65354    7.26082    6.81609    6.72278   \n",
       "...            ...        ...        ...        ...        ...        ...   \n",
       "ZYG11A     6.99325    8.22443   10.40700   10.15350    6.76882    7.33668   \n",
       "ZYG11B    11.20560   11.12960   11.71370   11.31940   11.25370   11.28910   \n",
       "ZYX        9.65265    8.76356    8.46257    9.92270   10.60330    8.77365   \n",
       "ZZEF1      9.66498    9.18799    8.17041    7.38441    9.76300    9.90751   \n",
       "ZZZ3       9.71133   10.01200   10.26000    9.54446   10.24570    9.88022   \n",
       "\n",
       "         GSM864101  GSM864102  GSM864103  GSM864104  ...  GSM864166  \\\n",
       "A1BG       7.63733    7.25926    6.92810    7.51760  ...    7.09568   \n",
       "A1CF       6.92788    6.61342    7.18611    6.97340  ...    6.97962   \n",
       "A2M       12.31000   12.47900   12.69650   12.61970  ...   12.01350   \n",
       "A2ML1      7.72119    8.66294    8.26156    8.55367  ...    8.50179   \n",
       "A3GALT2    7.18236    6.84640    6.66252    6.64315  ...    7.06416   \n",
       "...            ...        ...        ...        ...  ...        ...   \n",
       "ZYG11A     7.48604    8.74448    9.16049    6.61523  ...    6.64472   \n",
       "ZYG11B    11.29440   11.65360   11.27060   11.27740  ...   11.67890   \n",
       "ZYX        9.56414    9.67786    9.09486   10.20100  ...    9.32799   \n",
       "ZZEF1      9.71319    9.61425   10.00860    9.81844  ...    7.48423   \n",
       "ZZZ3      10.26710   10.38530   10.01170    9.65924  ...    9.15495   \n",
       "\n",
       "         GSM864167  GSM864168  GSM864169  GSM864170  GSM864171  GSM864172  \\\n",
       "A1BG       8.34684    7.36993    7.63071    7.35173    7.37455    7.13238   \n",
       "A1CF       6.94430    7.15381    6.60018    6.98928    7.08978    7.19660   \n",
       "A2M       11.18670   11.92090   12.46340   10.83410    7.03836    7.48536   \n",
       "A2ML1      9.39235    6.77108    8.56073    7.57273    8.88461    8.48545   \n",
       "A3GALT2    8.10593    7.52797    7.00872    7.14662    6.60719    6.89761   \n",
       "...            ...        ...        ...        ...        ...        ...   \n",
       "ZYG11A     6.52377    6.57874    6.61732    7.23060    7.18165    7.21305   \n",
       "ZYG11B    11.97270   11.58070   11.22320   10.06810    8.17997    7.31621   \n",
       "ZYX       10.18560    8.12342    9.55623    8.95185   10.33370    9.04514   \n",
       "ZZEF1      6.94775    8.85493    8.71635    9.09447   10.72160    9.26359   \n",
       "ZZZ3       9.50455    9.54555    9.34649    7.70009    7.89890    7.77520   \n",
       "\n",
       "         GSM864173  GSM864174  GSM864175  \n",
       "A1BG       6.62549    6.74157    6.91874  \n",
       "A1CF       6.88211    7.23039    7.21305  \n",
       "A2M        6.95512    7.31170    9.08426  \n",
       "A2ML1      7.35455    7.73330    7.18958  \n",
       "A3GALT2    6.94392    6.96191    6.77036  \n",
       "...            ...        ...        ...  \n",
       "ZYG11A     6.94335    7.46759    8.14860  \n",
       "ZYG11B    10.77050    7.10785    8.81633  \n",
       "ZYX        8.45426    9.24264    8.22080  \n",
       "ZZEF1      8.52914    8.79593    7.38667  \n",
       "ZZZ3       7.45045    7.68737    9.23792  \n",
       "\n",
       "[16987 rows x 81 columns]"
      ]
     },
     "execution_count": 88,
     "metadata": {},
     "output_type": "execute_result"
    }
   ],
   "source": [
    "genetic_data = normalize_gene_symbols_in_index(genetic_data)\n",
    "genetic_data"
   ]
  },
  {
   "cell_type": "markdown",
   "metadata": {},
   "source": [
    "Use selected clinical data and genetic data to generate the merged data:"
   ]
  },
  {
   "cell_type": "code",
   "execution_count": 89,
   "metadata": {},
   "outputs": [
    {
     "data": {
      "text/html": [
       "<div>\n",
       "<style scoped>\n",
       "    .dataframe tbody tr th:only-of-type {\n",
       "        vertical-align: middle;\n",
       "    }\n",
       "\n",
       "    .dataframe tbody tr th {\n",
       "        vertical-align: top;\n",
       "    }\n",
       "\n",
       "    .dataframe thead th {\n",
       "        text-align: right;\n",
       "    }\n",
       "</style>\n",
       "<table border=\"1\" class=\"dataframe\">\n",
       "  <thead>\n",
       "    <tr style=\"text-align: right;\">\n",
       "      <th></th>\n",
       "      <th>Lower Grade Glioma</th>\n",
       "      <th>A1BG</th>\n",
       "      <th>A1CF</th>\n",
       "      <th>A2M</th>\n",
       "      <th>A2ML1</th>\n",
       "      <th>A3GALT2</th>\n",
       "      <th>A4GALT</th>\n",
       "      <th>A4GNT</th>\n",
       "      <th>AAA1</th>\n",
       "      <th>AAAS</th>\n",
       "      <th>...</th>\n",
       "      <th>ZWILCH</th>\n",
       "      <th>ZWINT</th>\n",
       "      <th>ZXDA</th>\n",
       "      <th>ZXDB</th>\n",
       "      <th>ZXDC</th>\n",
       "      <th>ZYG11A</th>\n",
       "      <th>ZYG11B</th>\n",
       "      <th>ZYX</th>\n",
       "      <th>ZZEF1</th>\n",
       "      <th>ZZZ3</th>\n",
       "    </tr>\n",
       "  </thead>\n",
       "  <tbody>\n",
       "    <tr>\n",
       "      <th>GSM864095</th>\n",
       "      <td>0.0</td>\n",
       "      <td>7.26299</td>\n",
       "      <td>7.00445</td>\n",
       "      <td>12.66320</td>\n",
       "      <td>8.89724</td>\n",
       "      <td>6.58877</td>\n",
       "      <td>10.49320</td>\n",
       "      <td>6.90447</td>\n",
       "      <td>7.52565</td>\n",
       "      <td>9.24826</td>\n",
       "      <td>...</td>\n",
       "      <td>8.76605</td>\n",
       "      <td>7.13261</td>\n",
       "      <td>9.71837</td>\n",
       "      <td>10.35020</td>\n",
       "      <td>10.13400</td>\n",
       "      <td>6.99325</td>\n",
       "      <td>11.20560</td>\n",
       "      <td>9.65265</td>\n",
       "      <td>9.66498</td>\n",
       "      <td>9.71133</td>\n",
       "    </tr>\n",
       "    <tr>\n",
       "      <th>GSM864096</th>\n",
       "      <td>1.0</td>\n",
       "      <td>7.33984</td>\n",
       "      <td>7.25328</td>\n",
       "      <td>12.12180</td>\n",
       "      <td>8.02318</td>\n",
       "      <td>6.59165</td>\n",
       "      <td>7.29236</td>\n",
       "      <td>6.60890</td>\n",
       "      <td>7.28486</td>\n",
       "      <td>9.19508</td>\n",
       "      <td>...</td>\n",
       "      <td>9.37420</td>\n",
       "      <td>8.34295</td>\n",
       "      <td>11.35850</td>\n",
       "      <td>9.94582</td>\n",
       "      <td>10.47930</td>\n",
       "      <td>8.22443</td>\n",
       "      <td>11.12960</td>\n",
       "      <td>8.76356</td>\n",
       "      <td>9.18799</td>\n",
       "      <td>10.01200</td>\n",
       "    </tr>\n",
       "    <tr>\n",
       "      <th>GSM864097</th>\n",
       "      <td>1.0</td>\n",
       "      <td>7.05604</td>\n",
       "      <td>6.81456</td>\n",
       "      <td>12.21760</td>\n",
       "      <td>6.53002</td>\n",
       "      <td>6.65354</td>\n",
       "      <td>7.16371</td>\n",
       "      <td>7.17169</td>\n",
       "      <td>8.86592</td>\n",
       "      <td>8.22297</td>\n",
       "      <td>...</td>\n",
       "      <td>9.13227</td>\n",
       "      <td>9.17095</td>\n",
       "      <td>10.78920</td>\n",
       "      <td>7.21657</td>\n",
       "      <td>9.40957</td>\n",
       "      <td>10.40700</td>\n",
       "      <td>11.71370</td>\n",
       "      <td>8.46257</td>\n",
       "      <td>8.17041</td>\n",
       "      <td>10.26000</td>\n",
       "    </tr>\n",
       "    <tr>\n",
       "      <th>GSM864098</th>\n",
       "      <td>1.0</td>\n",
       "      <td>7.35527</td>\n",
       "      <td>7.24100</td>\n",
       "      <td>12.68280</td>\n",
       "      <td>7.77120</td>\n",
       "      <td>7.26082</td>\n",
       "      <td>7.14636</td>\n",
       "      <td>6.74501</td>\n",
       "      <td>8.58840</td>\n",
       "      <td>7.42137</td>\n",
       "      <td>...</td>\n",
       "      <td>9.72717</td>\n",
       "      <td>7.92411</td>\n",
       "      <td>10.61190</td>\n",
       "      <td>10.04980</td>\n",
       "      <td>10.71390</td>\n",
       "      <td>10.15350</td>\n",
       "      <td>11.31940</td>\n",
       "      <td>9.92270</td>\n",
       "      <td>7.38441</td>\n",
       "      <td>9.54446</td>\n",
       "    </tr>\n",
       "    <tr>\n",
       "      <th>GSM864099</th>\n",
       "      <td>1.0</td>\n",
       "      <td>7.29422</td>\n",
       "      <td>6.83460</td>\n",
       "      <td>12.40220</td>\n",
       "      <td>8.58752</td>\n",
       "      <td>6.81609</td>\n",
       "      <td>8.86649</td>\n",
       "      <td>7.10791</td>\n",
       "      <td>7.00043</td>\n",
       "      <td>9.20572</td>\n",
       "      <td>...</td>\n",
       "      <td>9.57788</td>\n",
       "      <td>8.13050</td>\n",
       "      <td>10.87190</td>\n",
       "      <td>8.95779</td>\n",
       "      <td>11.38540</td>\n",
       "      <td>6.76882</td>\n",
       "      <td>11.25370</td>\n",
       "      <td>10.60330</td>\n",
       "      <td>9.76300</td>\n",
       "      <td>10.24570</td>\n",
       "    </tr>\n",
       "    <tr>\n",
       "      <th>...</th>\n",
       "      <td>...</td>\n",
       "      <td>...</td>\n",
       "      <td>...</td>\n",
       "      <td>...</td>\n",
       "      <td>...</td>\n",
       "      <td>...</td>\n",
       "      <td>...</td>\n",
       "      <td>...</td>\n",
       "      <td>...</td>\n",
       "      <td>...</td>\n",
       "      <td>...</td>\n",
       "      <td>...</td>\n",
       "      <td>...</td>\n",
       "      <td>...</td>\n",
       "      <td>...</td>\n",
       "      <td>...</td>\n",
       "      <td>...</td>\n",
       "      <td>...</td>\n",
       "      <td>...</td>\n",
       "      <td>...</td>\n",
       "      <td>...</td>\n",
       "    </tr>\n",
       "    <tr>\n",
       "      <th>GSM864171</th>\n",
       "      <td>1.0</td>\n",
       "      <td>7.37455</td>\n",
       "      <td>7.08978</td>\n",
       "      <td>7.03836</td>\n",
       "      <td>8.88461</td>\n",
       "      <td>6.60719</td>\n",
       "      <td>9.88613</td>\n",
       "      <td>7.51475</td>\n",
       "      <td>7.46655</td>\n",
       "      <td>10.68630</td>\n",
       "      <td>...</td>\n",
       "      <td>7.32621</td>\n",
       "      <td>7.85855</td>\n",
       "      <td>9.01334</td>\n",
       "      <td>7.32259</td>\n",
       "      <td>8.77541</td>\n",
       "      <td>7.18165</td>\n",
       "      <td>8.17997</td>\n",
       "      <td>10.33370</td>\n",
       "      <td>10.72160</td>\n",
       "      <td>7.89890</td>\n",
       "    </tr>\n",
       "    <tr>\n",
       "      <th>GSM864172</th>\n",
       "      <td>1.0</td>\n",
       "      <td>7.13238</td>\n",
       "      <td>7.19660</td>\n",
       "      <td>7.48536</td>\n",
       "      <td>8.48545</td>\n",
       "      <td>6.89761</td>\n",
       "      <td>8.16306</td>\n",
       "      <td>6.76468</td>\n",
       "      <td>7.83845</td>\n",
       "      <td>8.44184</td>\n",
       "      <td>...</td>\n",
       "      <td>8.35084</td>\n",
       "      <td>7.17168</td>\n",
       "      <td>8.71861</td>\n",
       "      <td>7.99772</td>\n",
       "      <td>9.49643</td>\n",
       "      <td>7.21305</td>\n",
       "      <td>7.31621</td>\n",
       "      <td>9.04514</td>\n",
       "      <td>9.26359</td>\n",
       "      <td>7.77520</td>\n",
       "    </tr>\n",
       "    <tr>\n",
       "      <th>GSM864173</th>\n",
       "      <td>1.0</td>\n",
       "      <td>6.62549</td>\n",
       "      <td>6.88211</td>\n",
       "      <td>6.95512</td>\n",
       "      <td>7.35455</td>\n",
       "      <td>6.94392</td>\n",
       "      <td>7.69466</td>\n",
       "      <td>6.99440</td>\n",
       "      <td>6.87859</td>\n",
       "      <td>7.76972</td>\n",
       "      <td>...</td>\n",
       "      <td>8.15137</td>\n",
       "      <td>8.16665</td>\n",
       "      <td>8.58264</td>\n",
       "      <td>8.38555</td>\n",
       "      <td>7.65254</td>\n",
       "      <td>6.94335</td>\n",
       "      <td>10.77050</td>\n",
       "      <td>8.45426</td>\n",
       "      <td>8.52914</td>\n",
       "      <td>7.45045</td>\n",
       "    </tr>\n",
       "    <tr>\n",
       "      <th>GSM864174</th>\n",
       "      <td>1.0</td>\n",
       "      <td>6.74157</td>\n",
       "      <td>7.23039</td>\n",
       "      <td>7.31170</td>\n",
       "      <td>7.73330</td>\n",
       "      <td>6.96191</td>\n",
       "      <td>8.30797</td>\n",
       "      <td>6.77792</td>\n",
       "      <td>8.04829</td>\n",
       "      <td>8.39400</td>\n",
       "      <td>...</td>\n",
       "      <td>8.27122</td>\n",
       "      <td>7.43365</td>\n",
       "      <td>8.50119</td>\n",
       "      <td>7.88391</td>\n",
       "      <td>8.95584</td>\n",
       "      <td>7.46759</td>\n",
       "      <td>7.10785</td>\n",
       "      <td>9.24264</td>\n",
       "      <td>8.79593</td>\n",
       "      <td>7.68737</td>\n",
       "    </tr>\n",
       "    <tr>\n",
       "      <th>GSM864175</th>\n",
       "      <td>1.0</td>\n",
       "      <td>6.91874</td>\n",
       "      <td>7.21305</td>\n",
       "      <td>9.08426</td>\n",
       "      <td>7.18958</td>\n",
       "      <td>6.77036</td>\n",
       "      <td>7.48419</td>\n",
       "      <td>6.67570</td>\n",
       "      <td>8.20904</td>\n",
       "      <td>7.54344</td>\n",
       "      <td>...</td>\n",
       "      <td>8.27421</td>\n",
       "      <td>7.99365</td>\n",
       "      <td>8.46040</td>\n",
       "      <td>7.81245</td>\n",
       "      <td>7.30265</td>\n",
       "      <td>8.14860</td>\n",
       "      <td>8.81633</td>\n",
       "      <td>8.22080</td>\n",
       "      <td>7.38667</td>\n",
       "      <td>9.23792</td>\n",
       "    </tr>\n",
       "  </tbody>\n",
       "</table>\n",
       "<p>81 rows × 16988 columns</p>\n",
       "</div>"
      ],
      "text/plain": [
       "           Lower Grade Glioma     A1BG     A1CF       A2M    A2ML1  A3GALT2  \\\n",
       "GSM864095                 0.0  7.26299  7.00445  12.66320  8.89724  6.58877   \n",
       "GSM864096                 1.0  7.33984  7.25328  12.12180  8.02318  6.59165   \n",
       "GSM864097                 1.0  7.05604  6.81456  12.21760  6.53002  6.65354   \n",
       "GSM864098                 1.0  7.35527  7.24100  12.68280  7.77120  7.26082   \n",
       "GSM864099                 1.0  7.29422  6.83460  12.40220  8.58752  6.81609   \n",
       "...                       ...      ...      ...       ...      ...      ...   \n",
       "GSM864171                 1.0  7.37455  7.08978   7.03836  8.88461  6.60719   \n",
       "GSM864172                 1.0  7.13238  7.19660   7.48536  8.48545  6.89761   \n",
       "GSM864173                 1.0  6.62549  6.88211   6.95512  7.35455  6.94392   \n",
       "GSM864174                 1.0  6.74157  7.23039   7.31170  7.73330  6.96191   \n",
       "GSM864175                 1.0  6.91874  7.21305   9.08426  7.18958  6.77036   \n",
       "\n",
       "             A4GALT    A4GNT     AAA1      AAAS  ...   ZWILCH    ZWINT  \\\n",
       "GSM864095  10.49320  6.90447  7.52565   9.24826  ...  8.76605  7.13261   \n",
       "GSM864096   7.29236  6.60890  7.28486   9.19508  ...  9.37420  8.34295   \n",
       "GSM864097   7.16371  7.17169  8.86592   8.22297  ...  9.13227  9.17095   \n",
       "GSM864098   7.14636  6.74501  8.58840   7.42137  ...  9.72717  7.92411   \n",
       "GSM864099   8.86649  7.10791  7.00043   9.20572  ...  9.57788  8.13050   \n",
       "...             ...      ...      ...       ...  ...      ...      ...   \n",
       "GSM864171   9.88613  7.51475  7.46655  10.68630  ...  7.32621  7.85855   \n",
       "GSM864172   8.16306  6.76468  7.83845   8.44184  ...  8.35084  7.17168   \n",
       "GSM864173   7.69466  6.99440  6.87859   7.76972  ...  8.15137  8.16665   \n",
       "GSM864174   8.30797  6.77792  8.04829   8.39400  ...  8.27122  7.43365   \n",
       "GSM864175   7.48419  6.67570  8.20904   7.54344  ...  8.27421  7.99365   \n",
       "\n",
       "               ZXDA      ZXDB      ZXDC    ZYG11A    ZYG11B       ZYX  \\\n",
       "GSM864095   9.71837  10.35020  10.13400   6.99325  11.20560   9.65265   \n",
       "GSM864096  11.35850   9.94582  10.47930   8.22443  11.12960   8.76356   \n",
       "GSM864097  10.78920   7.21657   9.40957  10.40700  11.71370   8.46257   \n",
       "GSM864098  10.61190  10.04980  10.71390  10.15350  11.31940   9.92270   \n",
       "GSM864099  10.87190   8.95779  11.38540   6.76882  11.25370  10.60330   \n",
       "...             ...       ...       ...       ...       ...       ...   \n",
       "GSM864171   9.01334   7.32259   8.77541   7.18165   8.17997  10.33370   \n",
       "GSM864172   8.71861   7.99772   9.49643   7.21305   7.31621   9.04514   \n",
       "GSM864173   8.58264   8.38555   7.65254   6.94335  10.77050   8.45426   \n",
       "GSM864174   8.50119   7.88391   8.95584   7.46759   7.10785   9.24264   \n",
       "GSM864175   8.46040   7.81245   7.30265   8.14860   8.81633   8.22080   \n",
       "\n",
       "              ZZEF1      ZZZ3  \n",
       "GSM864095   9.66498   9.71133  \n",
       "GSM864096   9.18799  10.01200  \n",
       "GSM864097   8.17041  10.26000  \n",
       "GSM864098   7.38441   9.54446  \n",
       "GSM864099   9.76300  10.24570  \n",
       "...             ...       ...  \n",
       "GSM864171  10.72160   7.89890  \n",
       "GSM864172   9.26359   7.77520  \n",
       "GSM864173   8.52914   7.45045  \n",
       "GSM864174   8.79593   7.68737  \n",
       "GSM864175   7.38667   9.23792  \n",
       "\n",
       "[81 rows x 16988 columns]"
      ]
     },
     "execution_count": 89,
     "metadata": {},
     "output_type": "execute_result"
    }
   ],
   "source": [
    "merged_data = geo_merge_clinical_genetic_data(selected_clinical_data, genetic_data)\n",
    "is_available = True\n",
    "\n",
    "merged_data"
   ]
  },
  {
   "cell_type": "markdown",
   "metadata": {},
   "source": [
    "Check if the merged data biased or not:"
   ]
  },
  {
   "cell_type": "code",
   "execution_count": 90,
   "metadata": {},
   "outputs": [
    {
     "name": "stdout",
     "output_type": "stream",
     "text": [
      "The merged dataset contains 81 samples.\n",
      "For the feature 'Lower Grade Glioma', the least common label is '0.0' with 1 occurrences. This represents 1.23% of the dataset.\n",
      "The distribution of the feature 'Lower Grade Glioma' in this dataset is severely biased.\n",
      "\n"
     ]
    },
    {
     "data": {
      "text/plain": [
       "True"
      ]
     },
     "execution_count": 90,
     "metadata": {},
     "output_type": "execute_result"
    }
   ],
   "source": [
    "trait_type = 'binary'\n",
    "print(f\"The merged dataset contains {len(merged_data)} samples.\")\n",
    "is_trait_biased, merged_data = judge_and_remove_biased_features(merged_data, TRAIT, trait_type=trait_type)\n",
    "is_trait_biased"
   ]
  },
  {
   "cell_type": "markdown",
   "metadata": {},
   "source": [
    "Save the data as a csv file:"
   ]
  },
  {
   "cell_type": "code",
   "execution_count": 91,
   "metadata": {},
   "outputs": [],
   "source": [
    "if is_available:\n",
    "    save_cohort_info(cohort, JSON_PATH, is_available, is_trait_biased, merged_data, note='')\n",
    "else:\n",
    "    save_cohort_info(cohort, JSON_PATH, is_available)\n",
    "merged_data.head()\n",
    "if not is_trait_biased:\n",
    "    merged_data.to_csv(os.path.join(OUTPUT_DIR, cohort + '.csv'), index=False)"
   ]
  }
 ],
 "metadata": {
  "colab": {
   "provenance": []
  },
  "kernelspec": {
   "display_name": "Python 3 (ipykernel)",
   "language": "python",
   "name": "python3"
  },
  "language_info": {
   "codemirror_mode": {
    "name": "ipython",
    "version": 3
   },
   "file_extension": ".py",
   "mimetype": "text/x-python",
   "name": "python",
   "nbconvert_exporter": "python",
   "pygments_lexer": "ipython3",
   "version": "3.11.9"
  }
 },
 "nbformat": 4,
 "nbformat_minor": 0
}
