{
 "cells": [
  {
   "cell_type": "markdown",
   "metadata": {
    "collapsed": false
   },
   "source": [
    "# 1. Basic setup"
   ]
  },
  {
   "cell_type": "code",
   "execution_count": 1,
   "metadata": {
    "ExecuteTime": {
     "end_time": "2024-02-27T00:22:19.918139380Z",
     "start_time": "2024-02-27T00:22:19.235047906Z"
    },
    "collapsed": false
   },
   "outputs": [
    {
     "name": "stdout",
     "output_type": "stream",
     "text": [
      "utils.py has been loaded\n"
     ]
    }
   ],
   "source": [
    "import os\n",
    "import sys\n",
    "\n",
    "sys.path.append('..')\n",
    "from utils import *\n",
    "\n",
    "USER = \"Jiayi\"\n",
    "DATA_ROOT = '/Users/legion/Desktop/Courses/IS389/data'   \n",
    "OUTPUT_ROOT = '/Users/legion/Desktop/Courses/IS389/output2'\n",
    "TRAIT = \"Chronic kidney disease\"\n",
    "\n",
    "OUTPUT_DIR = os.path.join(OUTPUT_ROOT, USER, '-'.join(TRAIT.split()))\n",
    "JSON_PATH = os.path.join(OUTPUT_DIR, \"cohort_info.json\")\n",
    "if not os.path.exists(OUTPUT_DIR):\n",
    "    os.makedirs(OUTPUT_DIR, exist_ok=True)\n"
   ]
  },
  {
   "cell_type": "markdown",
   "metadata": {
    "ExecuteTime": {
     "end_time": "2023-12-28T21:28:38.028916303Z",
     "start_time": "2023-12-28T21:28:38.016245426Z"
    },
    "collapsed": false
   },
   "source": [
    "## The GEO dataset"
   ]
  },
  {
   "cell_type": "code",
   "execution_count": 2,
   "metadata": {
    "ExecuteTime": {
     "end_time": "2024-02-27T00:23:30.302587016Z",
     "start_time": "2024-02-27T00:23:30.295278811Z"
    },
    "collapsed": false
   },
   "outputs": [
    {
     "data": {
      "text/plain": [
       "['GSE104948',\n",
       " 'GSE104954',\n",
       " 'GSE127136',\n",
       " 'GSE142153',\n",
       " 'GSE180393',\n",
       " 'GSE180394',\n",
       " 'GSE224705',\n",
       " 'GSE37171',\n",
       " 'GSE45709',\n",
       " 'GSE45980',\n",
       " 'GSE47183',\n",
       " 'GSE47184',\n",
       " 'GSE60861',\n",
       " 'GSE66494',\n",
       " 'GSE69438']"
      ]
     },
     "execution_count": 2,
     "metadata": {},
     "output_type": "execute_result"
    }
   ],
   "source": [
    "dataset = 'GEO'\n",
    "trait_subdir = \"Chronic-kidney-disease\"\n",
    "\n",
    "trait_path = os.path.join(DATA_ROOT, dataset, trait_subdir)\n",
    "os.listdir(trait_path)"
   ]
  },
  {
   "cell_type": "markdown",
   "metadata": {
    "ExecuteTime": {
     "end_time": "2023-12-31T03:39:42.634870142Z",
     "start_time": "2023-12-31T03:39:42.534093295Z"
    },
    "collapsed": false
   },
   "source": [
    "Repeat the below steps for all the accession numbers"
   ]
  },
  {
   "cell_type": "code",
   "execution_count": 3,
   "metadata": {
    "ExecuteTime": {
     "end_time": "2024-02-27T00:23:30.302864515Z",
     "start_time": "2024-02-27T00:23:30.295388276Z"
    },
    "collapsed": false
   },
   "outputs": [
    {
     "data": {
      "text/plain": [
       "('/Users/legion/Desktop/Courses/IS389/data\\\\GEO\\\\Chronic-kidney-disease\\\\GSE104948\\\\GSE104948_family.soft.gz',\n",
       " '/Users/legion/Desktop/Courses/IS389/data\\\\GEO\\\\Chronic-kidney-disease\\\\GSE104948\\\\GSE104948-GPL22945_series_matrix.txt.gz')"
      ]
     },
     "execution_count": 3,
     "metadata": {},
     "output_type": "execute_result"
    }
   ],
   "source": [
    "# No obvious traits\n",
    "cohort = accession_num = \"GSE104948\"\n",
    "cohort_dir = os.path.join(trait_path, accession_num)\n",
    "soft_file, matrix_file = geo_get_relevant_filepaths(cohort_dir)\n",
    "soft_file, matrix_file"
   ]
  },
  {
   "cell_type": "code",
   "execution_count": 8,
   "metadata": {},
   "outputs": [
    {
     "data": {
      "text/plain": [
       "('/Users/legion/Desktop/Courses/IS389/data\\\\GEO\\\\Chronic-kidney-disease\\\\GSE104954\\\\GSE104954_family.soft.gz',\n",
       " '/Users/legion/Desktop/Courses/IS389/data\\\\GEO\\\\Chronic-kidney-disease\\\\GSE104954\\\\GSE104954-GPL22945_series_matrix.txt.gz')"
      ]
     },
     "execution_count": 8,
     "metadata": {},
     "output_type": "execute_result"
    }
   ],
   "source": [
    "# No obvious traits\n",
    "cohort = accession_num = \"GSE104954\"\n",
    "cohort_dir = os.path.join(trait_path, accession_num)\n",
    "soft_file, matrix_file = geo_get_relevant_filepaths(cohort_dir)\n",
    "soft_file, matrix_file"
   ]
  },
  {
   "cell_type": "code",
   "execution_count": 14,
   "metadata": {},
   "outputs": [
    {
     "data": {
      "text/plain": [
       "('/Users/legion/Desktop/Courses/IS389/data\\\\GEO\\\\Chronic-kidney-disease\\\\GSE127136\\\\GSE127136_family.soft.gz',\n",
       " '/Users/legion/Desktop/Courses/IS389/data\\\\GEO\\\\Chronic-kidney-disease\\\\GSE127136\\\\GSE127136_series_matrix.txt.gz')"
      ]
     },
     "execution_count": 14,
     "metadata": {},
     "output_type": "execute_result"
    }
   ],
   "source": [
    "# Matrix file is empty\n",
    "cohort = accession_num = \"GSE127136\"\n",
    "cohort_dir = os.path.join(trait_path, accession_num)\n",
    "soft_file, matrix_file = geo_get_relevant_filepaths(cohort_dir)\n",
    "soft_file, matrix_file"
   ]
  },
  {
   "cell_type": "code",
   "execution_count": 18,
   "metadata": {},
   "outputs": [
    {
     "data": {
      "text/plain": [
       "('/Users/legion/Desktop/Courses/IS389/data\\\\GEO\\\\Hypertrophic-Cardiomyopathy\\\\GSE36961\\\\GSE36961_family.soft.gz',\n",
       " '/Users/legion/Desktop/Courses/IS389/data\\\\GEO\\\\Hypertrophic-Cardiomyopathy\\\\GSE36961\\\\GSE36961_series_matrix.txt.gz')"
      ]
     },
     "execution_count": 18,
     "metadata": {},
     "output_type": "execute_result"
    }
   ],
   "source": [
    "# Finished\n",
    "cohort = accession_num = \"GSE142153\"\n",
    "cohort_dir = os.path.join(trait_path, accession_num)\n",
    "soft_file, matrix_file = geo_get_relevant_filepaths(cohort_dir)\n",
    "soft_file, matrix_file"
   ]
  },
  {
   "cell_type": "code",
   "execution_count": 22,
   "metadata": {},
   "outputs": [
    {
     "data": {
      "text/plain": [
       "('/Users/legion/Desktop/Courses/IS389/data\\\\GEO\\\\Chronic-kidney-disease\\\\GSE180393\\\\GSE180393_family.soft.gz',\n",
       " '/Users/legion/Desktop/Courses/IS389/data\\\\GEO\\\\Chronic-kidney-disease\\\\GSE180393\\\\GSE180393_series_matrix.txt.gz')"
      ]
     },
     "execution_count": 22,
     "metadata": {},
     "output_type": "execute_result"
    }
   ],
   "source": [
    "# No gene mapping\n",
    "cohort = accession_num = \"GSE180393\"\n",
    "cohort_dir = os.path.join(trait_path, accession_num)\n",
    "soft_file, matrix_file = geo_get_relevant_filepaths(cohort_dir)\n",
    "soft_file, matrix_file"
   ]
  },
  {
   "cell_type": "code",
   "execution_count": 33,
   "metadata": {},
   "outputs": [
    {
     "data": {
      "text/plain": [
       "('/Users/legion/Desktop/Courses/IS389/data\\\\GEO\\\\Chronic-kidney-disease\\\\GSE180394\\\\GSE180394_family.soft.gz',\n",
       " '/Users/legion/Desktop/Courses/IS389/data\\\\GEO\\\\Chronic-kidney-disease\\\\GSE180394\\\\GSE180394_series_matrix.txt.gz')"
      ]
     },
     "execution_count": 33,
     "metadata": {},
     "output_type": "execute_result"
    }
   ],
   "source": [
    "# No gene mapping\n",
    "cohort = accession_num = \"GSE180394\"\n",
    "cohort_dir = os.path.join(trait_path, accession_num)\n",
    "soft_file, matrix_file = geo_get_relevant_filepaths(cohort_dir)\n",
    "soft_file, matrix_file"
   ]
  },
  {
   "cell_type": "code",
   "execution_count": 40,
   "metadata": {},
   "outputs": [
    {
     "data": {
      "text/plain": [
       "('/Users/legion/Desktop/Courses/IS389/data\\\\GEO\\\\Chronic-kidney-disease\\\\GSE224705\\\\GSE224705_family.soft.gz',\n",
       " '/Users/legion/Desktop/Courses/IS389/data\\\\GEO\\\\Chronic-kidney-disease\\\\GSE224705\\\\GSE224705_series_matrix.txt.gz')"
      ]
     },
     "execution_count": 40,
     "metadata": {},
     "output_type": "execute_result"
    }
   ],
   "source": [
    "# No gene mapping\n",
    "cohort = accession_num = \"GSE224705\"\n",
    "cohort_dir = os.path.join(trait_path, accession_num)\n",
    "soft_file, matrix_file = geo_get_relevant_filepaths(cohort_dir)\n",
    "soft_file, matrix_file"
   ]
  },
  {
   "cell_type": "code",
   "execution_count": 43,
   "metadata": {},
   "outputs": [
    {
     "data": {
      "text/plain": [
       "('/Users/legion/Desktop/Courses/IS389/data\\\\GEO\\\\Chronic-kidney-disease\\\\GSE37171\\\\GSE37171_family.soft.gz',\n",
       " '/Users/legion/Desktop/Courses/IS389/data\\\\GEO\\\\Chronic-kidney-disease\\\\GSE37171\\\\GSE37171_series_matrix.txt.gz')"
      ]
     },
     "execution_count": 43,
     "metadata": {},
     "output_type": "execute_result"
    }
   ],
   "source": [
    "# Finished\n",
    "cohort = accession_num = \"GSE37171\"\n",
    "cohort_dir = os.path.join(trait_path, accession_num)\n",
    "soft_file, matrix_file = geo_get_relevant_filepaths(cohort_dir)\n",
    "soft_file, matrix_file"
   ]
  },
  {
   "cell_type": "code",
   "execution_count": 59,
   "metadata": {},
   "outputs": [
    {
     "data": {
      "text/plain": [
       "('/Users/legion/Desktop/Courses/IS389/data\\\\GEO\\\\Chronic-kidney-disease\\\\GSE45709\\\\GSE45709_family.soft.gz',\n",
       " '/Users/legion/Desktop/Courses/IS389/data\\\\GEO\\\\Chronic-kidney-disease\\\\GSE45709\\\\GSE45709_series_matrix.txt.gz')"
      ]
     },
     "execution_count": 59,
     "metadata": {},
     "output_type": "execute_result"
    }
   ],
   "source": [
    "# No gene mapping\n",
    "cohort = accession_num = \"GSE45709\"\n",
    "cohort_dir = os.path.join(trait_path, accession_num)\n",
    "soft_file, matrix_file = geo_get_relevant_filepaths(cohort_dir)\n",
    "soft_file, matrix_file"
   ]
  },
  {
   "cell_type": "code",
   "execution_count": 84,
   "metadata": {},
   "outputs": [
    {
     "data": {
      "text/plain": [
       "('/Users/legion/Desktop/Courses/IS389/data\\\\GEO\\\\Chronic-kidney-disease\\\\GSE45980\\\\GSE45980_family.soft.gz',\n",
       " '/Users/legion/Desktop/Courses/IS389/data\\\\GEO\\\\Chronic-kidney-disease\\\\GSE45980\\\\GSE45980_series_matrix.txt.gz')"
      ]
     },
     "execution_count": 84,
     "metadata": {},
     "output_type": "execute_result"
    }
   ],
   "source": [
    "# Biased\n",
    "cohort = accession_num = \"GSE45980\"\n",
    "cohort_dir = os.path.join(trait_path, accession_num)\n",
    "soft_file, matrix_file = geo_get_relevant_filepaths(cohort_dir)\n",
    "soft_file, matrix_file"
   ]
  },
  {
   "cell_type": "code",
   "execution_count": 102,
   "metadata": {},
   "outputs": [
    {
     "data": {
      "text/plain": [
       "('/Users/legion/Desktop/Courses/IS389/data\\\\GEO\\\\Chronic-kidney-disease\\\\GSE47183\\\\GSE47183_family.soft.gz',\n",
       " '/Users/legion/Desktop/Courses/IS389/data\\\\GEO\\\\Chronic-kidney-disease\\\\GSE47183\\\\GSE47183-GPL11670_series_matrix.txt.gz')"
      ]
     },
     "execution_count": 102,
     "metadata": {},
     "output_type": "execute_result"
    }
   ],
   "source": [
    "# No obvious traits\n",
    "cohort = accession_num = \"GSE47183\"\n",
    "cohort_dir = os.path.join(trait_path, accession_num)\n",
    "soft_file, matrix_file = geo_get_relevant_filepaths(cohort_dir)\n",
    "soft_file, matrix_file"
   ]
  },
  {
   "cell_type": "code",
   "execution_count": 111,
   "metadata": {},
   "outputs": [
    {
     "data": {
      "text/plain": [
       "('/Users/legion/Desktop/Courses/IS389/data\\\\GEO\\\\Chronic-kidney-disease\\\\GSE47184\\\\GSE47184_family.soft.gz',\n",
       " '/Users/legion/Desktop/Courses/IS389/data\\\\GEO\\\\Chronic-kidney-disease\\\\GSE47184\\\\GSE47184-GPL11670_series_matrix.txt.gz')"
      ]
     },
     "execution_count": 111,
     "metadata": {},
     "output_type": "execute_result"
    }
   ],
   "source": [
    "# No obvious traits\n",
    "cohort = accession_num = \"GSE47184\"\n",
    "cohort_dir = os.path.join(trait_path, accession_num)\n",
    "soft_file, matrix_file = geo_get_relevant_filepaths(cohort_dir)\n",
    "soft_file, matrix_file"
   ]
  },
  {
   "cell_type": "code",
   "execution_count": 112,
   "metadata": {},
   "outputs": [
    {
     "data": {
      "text/plain": [
       "('/Users/legion/Desktop/Courses/IS389/data\\\\GEO\\\\Chronic-kidney-disease\\\\GSE60861\\\\GSE60861_family.soft.gz',\n",
       " '/Users/legion/Desktop/Courses/IS389/data\\\\GEO\\\\Chronic-kidney-disease\\\\GSE60861\\\\GSE60861_series_matrix.txt.gz')"
      ]
     },
     "execution_count": 112,
     "metadata": {},
     "output_type": "execute_result"
    }
   ],
   "source": [
    "# No obvious traits\n",
    "cohort = accession_num = \"GSE60861\"\n",
    "cohort_dir = os.path.join(trait_path, accession_num)\n",
    "soft_file, matrix_file = geo_get_relevant_filepaths(cohort_dir)\n",
    "soft_file, matrix_file"
   ]
  },
  {
   "cell_type": "code",
   "execution_count": 131,
   "metadata": {},
   "outputs": [
    {
     "data": {
      "text/plain": [
       "('/Users/legion/Desktop/Courses/IS389/data\\\\GEO\\\\Chronic-kidney-disease\\\\GSE66494\\\\GSE66494_family.soft.gz',\n",
       " '/Users/legion/Desktop/Courses/IS389/data\\\\GEO\\\\Chronic-kidney-disease\\\\GSE66494\\\\GSE66494_series_matrix.txt.gz')"
      ]
     },
     "execution_count": 131,
     "metadata": {},
     "output_type": "execute_result"
    }
   ],
   "source": [
    "# Finished\n",
    "cohort = accession_num = \"GSE66494\"\n",
    "cohort_dir = os.path.join(trait_path, accession_num)\n",
    "soft_file, matrix_file = geo_get_relevant_filepaths(cohort_dir)\n",
    "soft_file, matrix_file"
   ]
  },
  {
   "cell_type": "code",
   "execution_count": 136,
   "metadata": {},
   "outputs": [
    {
     "data": {
      "text/plain": [
       "('/Users/legion/Desktop/Courses/IS389/data\\\\GEO\\\\Chronic-kidney-disease\\\\GSE69438\\\\GSE69438_family.soft.gz',\n",
       " '/Users/legion/Desktop/Courses/IS389/data\\\\GEO\\\\Chronic-kidney-disease\\\\GSE69438\\\\GSE69438_series_matrix.txt.gz')"
      ]
     },
     "execution_count": 136,
     "metadata": {},
     "output_type": "execute_result"
    }
   ],
   "source": [
    "# No obvious traits\n",
    "cohort = accession_num = \"GSE69438\"\n",
    "cohort_dir = os.path.join(trait_path, accession_num)\n",
    "soft_file, matrix_file = geo_get_relevant_filepaths(cohort_dir)\n",
    "soft_file, matrix_file"
   ]
  },
  {
   "cell_type": "markdown",
   "metadata": {
    "collapsed": false
   },
   "source": [
    "### Initial filtering and clinical data preprocessing"
   ]
  },
  {
   "cell_type": "code",
   "execution_count": 137,
   "metadata": {
    "ExecuteTime": {
     "end_time": "2024-02-27T00:23:30.303301102Z",
     "start_time": "2024-02-27T00:23:30.295491459Z"
    },
    "collapsed": false
   },
   "outputs": [
    {
     "name": "stdout",
     "output_type": "stream",
     "text": [
      "!Series_title\t\"Tissue Transcriptome Driven Identification of Epidermal Growth Factor as a Chronic Kidney Disease Biomarker\"\n",
      "!Series_summary\t\"We identified EGF as the top candidates predicting kidney function through an intrarenal transcriptome-driven approach, and demonstrated it is an independent risk predictor of CKD progression and can significantly improve prediction of renal outcome by established clinical parameters in diverse populations with CKD from a wide spectrum of causes and stages\"\n",
      "!Series_overall_design\t\"Chronic Kidney Disease, Lupus nephritis, Focal and Segmental Glomerulosclerosis, Nephropathies, Membranous Glomerulonephritis\"\n"
     ]
    }
   ],
   "source": [
    "from utils import *\n",
    "background_prefixes = ['!Series_title', '!Series_summary', '!Series_overall_design']\n",
    "clinical_prefixes = ['!Sample_geo_accession', '!Sample_characteristics_ch1']    \n",
    "\n",
    "background_info, clinical_data = get_background_and_clinical_data(matrix_file, background_prefixes, clinical_prefixes)\n",
    "print(background_info)"
   ]
  },
  {
   "cell_type": "code",
   "execution_count": 138,
   "metadata": {
    "ExecuteTime": {
     "end_time": "2024-02-27T00:23:30.303593599Z",
     "start_time": "2024-02-27T00:23:30.299747893Z"
    },
    "collapsed": false
   },
   "outputs": [
    {
     "data": {
      "text/html": [
       "<div>\n",
       "<style scoped>\n",
       "    .dataframe tbody tr th:only-of-type {\n",
       "        vertical-align: middle;\n",
       "    }\n",
       "\n",
       "    .dataframe tbody tr th {\n",
       "        vertical-align: top;\n",
       "    }\n",
       "\n",
       "    .dataframe thead th {\n",
       "        text-align: right;\n",
       "    }\n",
       "</style>\n",
       "<table border=\"1\" class=\"dataframe\">\n",
       "  <thead>\n",
       "    <tr style=\"text-align: right;\">\n",
       "      <th></th>\n",
       "      <th>!Sample_geo_accession</th>\n",
       "      <th>GSM1701203</th>\n",
       "      <th>GSM1701204</th>\n",
       "      <th>GSM1701205</th>\n",
       "      <th>GSM1701206</th>\n",
       "      <th>GSM1701207</th>\n",
       "      <th>GSM1701208</th>\n",
       "      <th>GSM1701209</th>\n",
       "      <th>GSM1701210</th>\n",
       "      <th>GSM1701211</th>\n",
       "      <th>...</th>\n",
       "      <th>GSM1701235</th>\n",
       "      <th>GSM1701236</th>\n",
       "      <th>GSM1701237</th>\n",
       "      <th>GSM1701238</th>\n",
       "      <th>GSM1701239</th>\n",
       "      <th>GSM1701240</th>\n",
       "      <th>GSM1701241</th>\n",
       "      <th>GSM1701242</th>\n",
       "      <th>GSM1701243</th>\n",
       "      <th>GSM1701244</th>\n",
       "    </tr>\n",
       "  </thead>\n",
       "  <tbody>\n",
       "    <tr>\n",
       "      <th>0</th>\n",
       "      <td>!Sample_characteristics_ch1</td>\n",
       "      <td>tissue: Tubulointerstitium from kidney biopsy</td>\n",
       "      <td>tissue: Tubulointerstitium from kidney biopsy</td>\n",
       "      <td>tissue: Tubulointerstitium from kidney biopsy</td>\n",
       "      <td>tissue: Tubulointerstitium from kidney biopsy</td>\n",
       "      <td>tissue: Tubulointerstitium from kidney biopsy</td>\n",
       "      <td>tissue: Tubulointerstitium from kidney biopsy</td>\n",
       "      <td>tissue: Tubulointerstitium from kidney biopsy</td>\n",
       "      <td>tissue: Tubulointerstitium from kidney biopsy</td>\n",
       "      <td>tissue: Tubulointerstitium from kidney biopsy</td>\n",
       "      <td>...</td>\n",
       "      <td>tissue: Tubulointerstitium from kidney biopsy</td>\n",
       "      <td>tissue: Tubulointerstitium from kidney biopsy</td>\n",
       "      <td>tissue: Tubulointerstitium from kidney biopsy</td>\n",
       "      <td>tissue: Tubulointerstitium from kidney biopsy</td>\n",
       "      <td>tissue: Tubulointerstitium from kidney biopsy</td>\n",
       "      <td>tissue: Tubulointerstitium from kidney biopsy</td>\n",
       "      <td>tissue: Tubulointerstitium from kidney biopsy</td>\n",
       "      <td>tissue: Tubulointerstitium from kidney biopsy</td>\n",
       "      <td>tissue: Tubulointerstitium from kidney biopsy</td>\n",
       "      <td>tissue: Tubulointerstitium from kidney biopsy</td>\n",
       "    </tr>\n",
       "  </tbody>\n",
       "</table>\n",
       "<p>1 rows × 43 columns</p>\n",
       "</div>"
      ],
      "text/plain": [
       "         !Sample_geo_accession                                     GSM1701203  \\\n",
       "0  !Sample_characteristics_ch1  tissue: Tubulointerstitium from kidney biopsy   \n",
       "\n",
       "                                      GSM1701204  \\\n",
       "0  tissue: Tubulointerstitium from kidney biopsy   \n",
       "\n",
       "                                      GSM1701205  \\\n",
       "0  tissue: Tubulointerstitium from kidney biopsy   \n",
       "\n",
       "                                      GSM1701206  \\\n",
       "0  tissue: Tubulointerstitium from kidney biopsy   \n",
       "\n",
       "                                      GSM1701207  \\\n",
       "0  tissue: Tubulointerstitium from kidney biopsy   \n",
       "\n",
       "                                      GSM1701208  \\\n",
       "0  tissue: Tubulointerstitium from kidney biopsy   \n",
       "\n",
       "                                      GSM1701209  \\\n",
       "0  tissue: Tubulointerstitium from kidney biopsy   \n",
       "\n",
       "                                      GSM1701210  \\\n",
       "0  tissue: Tubulointerstitium from kidney biopsy   \n",
       "\n",
       "                                      GSM1701211  ...  \\\n",
       "0  tissue: Tubulointerstitium from kidney biopsy  ...   \n",
       "\n",
       "                                      GSM1701235  \\\n",
       "0  tissue: Tubulointerstitium from kidney biopsy   \n",
       "\n",
       "                                      GSM1701236  \\\n",
       "0  tissue: Tubulointerstitium from kidney biopsy   \n",
       "\n",
       "                                      GSM1701237  \\\n",
       "0  tissue: Tubulointerstitium from kidney biopsy   \n",
       "\n",
       "                                      GSM1701238  \\\n",
       "0  tissue: Tubulointerstitium from kidney biopsy   \n",
       "\n",
       "                                      GSM1701239  \\\n",
       "0  tissue: Tubulointerstitium from kidney biopsy   \n",
       "\n",
       "                                      GSM1701240  \\\n",
       "0  tissue: Tubulointerstitium from kidney biopsy   \n",
       "\n",
       "                                      GSM1701241  \\\n",
       "0  tissue: Tubulointerstitium from kidney biopsy   \n",
       "\n",
       "                                      GSM1701242  \\\n",
       "0  tissue: Tubulointerstitium from kidney biopsy   \n",
       "\n",
       "                                      GSM1701243  \\\n",
       "0  tissue: Tubulointerstitium from kidney biopsy   \n",
       "\n",
       "                                      GSM1701244  \n",
       "0  tissue: Tubulointerstitium from kidney biopsy  \n",
       "\n",
       "[1 rows x 43 columns]"
      ]
     },
     "execution_count": 138,
     "metadata": {},
     "output_type": "execute_result"
    }
   ],
   "source": [
    "clinical_data.head()"
   ]
  },
  {
   "cell_type": "markdown",
   "metadata": {},
   "source": [
    "Analyze the trait row:"
   ]
  },
  {
   "cell_type": "code",
   "execution_count": 139,
   "metadata": {},
   "outputs": [
    {
     "data": {
      "text/plain": [
       "array(['!Sample_characteristics_ch1',\n",
       "       'tissue: Tubulointerstitium from kidney biopsy'], dtype=object)"
      ]
     },
     "execution_count": 139,
     "metadata": {},
     "output_type": "execute_result"
    }
   ],
   "source": [
    "tumor_stage_row = clinical_data.iloc[0]\n",
    "tumor_stage_row.unique()"
   ]
  },
  {
   "cell_type": "markdown",
   "metadata": {},
   "source": [
    "Determine the trait row, age row, and gender row. Then implement the conversion functions:"
   ]
  },
  {
   "cell_type": "code",
   "execution_count": 135,
   "metadata": {
    "ExecuteTime": {
     "end_time": "2024-02-27T00:23:30.385870186Z",
     "start_time": "2024-02-27T00:23:30.351051500Z"
    },
    "collapsed": false
   },
   "outputs": [],
   "source": [
    "trait_row = 1\n",
    "age_row = None\n",
    "gender_row = None\n",
    "\n",
    "def convert_trait(trait):\n",
    "    if (trait == 'sample type: Normal kidney total RNA'):\n",
    "        return 0\n",
    "    else:\n",
    "        return 1\n",
    "\n",
    "\n",
    "def convert_age(age_string):\n",
    "    if age_string.lower() == 'n.a.':\n",
    "        return None\n",
    "    try:\n",
    "        age = int(age_string.split(':')[1])\n",
    "        return age\n",
    "    except (ValueError, IndexError):\n",
    "        return None\n",
    "\n",
    "def convert_gender(gender_string):\n",
    "    if (gender_string.lower() == 'sex: female' or gender_string.lower() == 'sex: f' or gender_string.lower() == 'gender: female' or gender_string.lower() == 'gender: f'):\n",
    "        return 1\n",
    "    elif (gender_string.lower() == 'sex: male' or gender_string.lower() == 'sex: m' or gender_string.lower() == 'gender: male' or gender_string.lower() == 'gender: m') :  # changeed \n",
    "        return 0\n",
    "    else:\n",
    "        return None"
   ]
  },
  {
   "cell_type": "markdown",
   "metadata": {},
   "source": [
    "Check the processed clinical data:"
   ]
  },
  {
   "cell_type": "code",
   "execution_count": 123,
   "metadata": {
    "ExecuteTime": {
     "end_time": "2024-02-27T00:23:30.386191717Z",
     "start_time": "2024-02-27T00:23:30.351458802Z"
    },
    "collapsed": false
   },
   "outputs": [
    {
     "name": "stderr",
     "output_type": "stream",
     "text": [
      "c:\\Users\\legion\\Desktop\\TAIS_2024SP\\TAIS_2024SP\\task2\\Jiayi\\utils.py:218: FutureWarning: DataFrame.applymap has been deprecated. Use DataFrame.map instead.\n",
      "  clinical_df = clinical_df.applymap(convert_fn)\n"
     ]
    },
    {
     "data": {
      "text/html": [
       "<div>\n",
       "<style scoped>\n",
       "    .dataframe tbody tr th:only-of-type {\n",
       "        vertical-align: middle;\n",
       "    }\n",
       "\n",
       "    .dataframe tbody tr th {\n",
       "        vertical-align: top;\n",
       "    }\n",
       "\n",
       "    .dataframe thead th {\n",
       "        text-align: right;\n",
       "    }\n",
       "</style>\n",
       "<table border=\"1\" class=\"dataframe\">\n",
       "  <thead>\n",
       "    <tr style=\"text-align: right;\">\n",
       "      <th></th>\n",
       "      <th>GSM1623299</th>\n",
       "      <th>GSM1623300</th>\n",
       "      <th>GSM1623301</th>\n",
       "      <th>GSM1623302</th>\n",
       "      <th>GSM1623303</th>\n",
       "      <th>GSM1623304</th>\n",
       "      <th>GSM1623305</th>\n",
       "      <th>GSM1623306</th>\n",
       "      <th>GSM1623307</th>\n",
       "      <th>GSM1623308</th>\n",
       "      <th>...</th>\n",
       "      <th>GSM1623350</th>\n",
       "      <th>GSM1623351</th>\n",
       "      <th>GSM1623352</th>\n",
       "      <th>GSM1623353</th>\n",
       "      <th>GSM1623354</th>\n",
       "      <th>GSM1623355</th>\n",
       "      <th>GSM1623356</th>\n",
       "      <th>GSM1623357</th>\n",
       "      <th>GSM1623358</th>\n",
       "      <th>GSM1623359</th>\n",
       "    </tr>\n",
       "  </thead>\n",
       "  <tbody>\n",
       "    <tr>\n",
       "      <th>Chronic kidney disease</th>\n",
       "      <td>1</td>\n",
       "      <td>1</td>\n",
       "      <td>1</td>\n",
       "      <td>1</td>\n",
       "      <td>1</td>\n",
       "      <td>1</td>\n",
       "      <td>1</td>\n",
       "      <td>1</td>\n",
       "      <td>1</td>\n",
       "      <td>1</td>\n",
       "      <td>...</td>\n",
       "      <td>0</td>\n",
       "      <td>0</td>\n",
       "      <td>1</td>\n",
       "      <td>1</td>\n",
       "      <td>1</td>\n",
       "      <td>1</td>\n",
       "      <td>1</td>\n",
       "      <td>0</td>\n",
       "      <td>0</td>\n",
       "      <td>0</td>\n",
       "    </tr>\n",
       "  </tbody>\n",
       "</table>\n",
       "<p>1 rows × 61 columns</p>\n",
       "</div>"
      ],
      "text/plain": [
       "                        GSM1623299  GSM1623300  GSM1623301  GSM1623302  \\\n",
       "Chronic kidney disease           1           1           1           1   \n",
       "\n",
       "                        GSM1623303  GSM1623304  GSM1623305  GSM1623306  \\\n",
       "Chronic kidney disease           1           1           1           1   \n",
       "\n",
       "                        GSM1623307  GSM1623308  ...  GSM1623350  GSM1623351  \\\n",
       "Chronic kidney disease           1           1  ...           0           0   \n",
       "\n",
       "                        GSM1623352  GSM1623353  GSM1623354  GSM1623355  \\\n",
       "Chronic kidney disease           1           1           1           1   \n",
       "\n",
       "                        GSM1623356  GSM1623357  GSM1623358  GSM1623359  \n",
       "Chronic kidney disease           1           0           0           0  \n",
       "\n",
       "[1 rows x 61 columns]"
      ]
     },
     "execution_count": 123,
     "metadata": {},
     "output_type": "execute_result"
    }
   ],
   "source": [
    "selected_clinical_data = geo_select_clinical_features(clinical_data, TRAIT, trait_row, convert_trait, age_row=age_row,\n",
    "                                                      convert_age=convert_age, gender_row=gender_row,\n",
    "                                                      convert_gender=convert_gender)\n",
    "selected_clinical_data.head()"
   ]
  },
  {
   "cell_type": "markdown",
   "metadata": {
    "ExecuteTime": {
     "end_time": "2023-12-31T03:58:04.978664193Z",
     "start_time": "2023-12-31T03:58:04.966117261Z"
    },
    "collapsed": false
   },
   "source": [
    "### Genetic data preprocessing and final filtering"
   ]
  },
  {
   "cell_type": "markdown",
   "metadata": {},
   "source": [
    "Check the genetic data:"
   ]
  },
  {
   "cell_type": "code",
   "execution_count": 124,
   "metadata": {
    "ExecuteTime": {
     "end_time": "2024-02-27T00:23:30.394809420Z",
     "start_time": "2024-02-27T00:23:30.351566744Z"
    },
    "collapsed": false
   },
   "outputs": [
    {
     "data": {
      "text/html": [
       "<div>\n",
       "<style scoped>\n",
       "    .dataframe tbody tr th:only-of-type {\n",
       "        vertical-align: middle;\n",
       "    }\n",
       "\n",
       "    .dataframe tbody tr th {\n",
       "        vertical-align: top;\n",
       "    }\n",
       "\n",
       "    .dataframe thead th {\n",
       "        text-align: right;\n",
       "    }\n",
       "</style>\n",
       "<table border=\"1\" class=\"dataframe\">\n",
       "  <thead>\n",
       "    <tr style=\"text-align: right;\">\n",
       "      <th></th>\n",
       "      <th>GSM1623299</th>\n",
       "      <th>GSM1623300</th>\n",
       "      <th>GSM1623301</th>\n",
       "      <th>GSM1623302</th>\n",
       "      <th>GSM1623303</th>\n",
       "      <th>GSM1623304</th>\n",
       "      <th>GSM1623305</th>\n",
       "      <th>GSM1623306</th>\n",
       "      <th>GSM1623307</th>\n",
       "      <th>GSM1623308</th>\n",
       "      <th>...</th>\n",
       "      <th>GSM1623350</th>\n",
       "      <th>GSM1623351</th>\n",
       "      <th>GSM1623352</th>\n",
       "      <th>GSM1623353</th>\n",
       "      <th>GSM1623354</th>\n",
       "      <th>GSM1623355</th>\n",
       "      <th>GSM1623356</th>\n",
       "      <th>GSM1623357</th>\n",
       "      <th>GSM1623358</th>\n",
       "      <th>GSM1623359</th>\n",
       "    </tr>\n",
       "    <tr>\n",
       "      <th>ID</th>\n",
       "      <th></th>\n",
       "      <th></th>\n",
       "      <th></th>\n",
       "      <th></th>\n",
       "      <th></th>\n",
       "      <th></th>\n",
       "      <th></th>\n",
       "      <th></th>\n",
       "      <th></th>\n",
       "      <th></th>\n",
       "      <th></th>\n",
       "      <th></th>\n",
       "      <th></th>\n",
       "      <th></th>\n",
       "      <th></th>\n",
       "      <th></th>\n",
       "      <th></th>\n",
       "      <th></th>\n",
       "      <th></th>\n",
       "      <th></th>\n",
       "      <th></th>\n",
       "    </tr>\n",
       "  </thead>\n",
       "  <tbody>\n",
       "    <tr>\n",
       "      <th>A_23_P100001</th>\n",
       "      <td>4.130915</td>\n",
       "      <td>7.196451</td>\n",
       "      <td>4.447412</td>\n",
       "      <td>5.552394</td>\n",
       "      <td>7.488012</td>\n",
       "      <td>6.001083</td>\n",
       "      <td>2.394743</td>\n",
       "      <td>10.043503</td>\n",
       "      <td>3.784250</td>\n",
       "      <td>2.627315</td>\n",
       "      <td>...</td>\n",
       "      <td>3.048840</td>\n",
       "      <td>3.053362</td>\n",
       "      <td>1.760907</td>\n",
       "      <td>5.129226</td>\n",
       "      <td>2.953872</td>\n",
       "      <td>3.183397</td>\n",
       "      <td>4.535605</td>\n",
       "      <td>4.068553</td>\n",
       "      <td>3.936768</td>\n",
       "      <td>3.807201</td>\n",
       "    </tr>\n",
       "    <tr>\n",
       "      <th>A_23_P100011</th>\n",
       "      <td>0.147132</td>\n",
       "      <td>0.210062</td>\n",
       "      <td>0.160009</td>\n",
       "      <td>0.107925</td>\n",
       "      <td>0.090619</td>\n",
       "      <td>0.266602</td>\n",
       "      <td>0.302839</td>\n",
       "      <td>0.410110</td>\n",
       "      <td>0.317810</td>\n",
       "      <td>0.442425</td>\n",
       "      <td>...</td>\n",
       "      <td>0.301012</td>\n",
       "      <td>0.361652</td>\n",
       "      <td>0.734535</td>\n",
       "      <td>0.125607</td>\n",
       "      <td>0.225909</td>\n",
       "      <td>0.168436</td>\n",
       "      <td>0.343899</td>\n",
       "      <td>0.350141</td>\n",
       "      <td>0.405691</td>\n",
       "      <td>0.399181</td>\n",
       "    </tr>\n",
       "    <tr>\n",
       "      <th>A_23_P100022</th>\n",
       "      <td>3.907870</td>\n",
       "      <td>3.327555</td>\n",
       "      <td>1.916772</td>\n",
       "      <td>1.483245</td>\n",
       "      <td>8.623109</td>\n",
       "      <td>1.720839</td>\n",
       "      <td>2.846809</td>\n",
       "      <td>1.098986</td>\n",
       "      <td>2.608736</td>\n",
       "      <td>1.086212</td>\n",
       "      <td>...</td>\n",
       "      <td>0.646545</td>\n",
       "      <td>0.686610</td>\n",
       "      <td>3.167144</td>\n",
       "      <td>6.389475</td>\n",
       "      <td>2.848148</td>\n",
       "      <td>3.598935</td>\n",
       "      <td>1.240645</td>\n",
       "      <td>0.876765</td>\n",
       "      <td>0.792963</td>\n",
       "      <td>0.805732</td>\n",
       "    </tr>\n",
       "    <tr>\n",
       "      <th>A_23_P100056</th>\n",
       "      <td>0.426146</td>\n",
       "      <td>0.401487</td>\n",
       "      <td>2.426482</td>\n",
       "      <td>0.808467</td>\n",
       "      <td>0.420939</td>\n",
       "      <td>3.200327</td>\n",
       "      <td>0.746913</td>\n",
       "      <td>1.840242</td>\n",
       "      <td>1.735957</td>\n",
       "      <td>2.251156</td>\n",
       "      <td>...</td>\n",
       "      <td>1.816479</td>\n",
       "      <td>1.714723</td>\n",
       "      <td>1.815770</td>\n",
       "      <td>1.258793</td>\n",
       "      <td>1.532383</td>\n",
       "      <td>0.444932</td>\n",
       "      <td>0.357534</td>\n",
       "      <td>2.735043</td>\n",
       "      <td>2.532193</td>\n",
       "      <td>2.762726</td>\n",
       "    </tr>\n",
       "    <tr>\n",
       "      <th>A_23_P100074</th>\n",
       "      <td>5.230722</td>\n",
       "      <td>3.833417</td>\n",
       "      <td>13.161534</td>\n",
       "      <td>13.673666</td>\n",
       "      <td>10.147046</td>\n",
       "      <td>21.019512</td>\n",
       "      <td>5.356592</td>\n",
       "      <td>19.088257</td>\n",
       "      <td>12.063126</td>\n",
       "      <td>17.395967</td>\n",
       "      <td>...</td>\n",
       "      <td>6.934141</td>\n",
       "      <td>7.064570</td>\n",
       "      <td>4.215108</td>\n",
       "      <td>6.569894</td>\n",
       "      <td>15.609033</td>\n",
       "      <td>8.387245</td>\n",
       "      <td>6.876524</td>\n",
       "      <td>8.062073</td>\n",
       "      <td>8.150031</td>\n",
       "      <td>7.977626</td>\n",
       "    </tr>\n",
       "  </tbody>\n",
       "</table>\n",
       "<p>5 rows × 61 columns</p>\n",
       "</div>"
      ],
      "text/plain": [
       "              GSM1623299  GSM1623300  GSM1623301  GSM1623302  GSM1623303  \\\n",
       "ID                                                                         \n",
       "A_23_P100001    4.130915    7.196451    4.447412    5.552394    7.488012   \n",
       "A_23_P100011    0.147132    0.210062    0.160009    0.107925    0.090619   \n",
       "A_23_P100022    3.907870    3.327555    1.916772    1.483245    8.623109   \n",
       "A_23_P100056    0.426146    0.401487    2.426482    0.808467    0.420939   \n",
       "A_23_P100074    5.230722    3.833417   13.161534   13.673666   10.147046   \n",
       "\n",
       "              GSM1623304  GSM1623305  GSM1623306  GSM1623307  GSM1623308  ...  \\\n",
       "ID                                                                        ...   \n",
       "A_23_P100001    6.001083    2.394743   10.043503    3.784250    2.627315  ...   \n",
       "A_23_P100011    0.266602    0.302839    0.410110    0.317810    0.442425  ...   \n",
       "A_23_P100022    1.720839    2.846809    1.098986    2.608736    1.086212  ...   \n",
       "A_23_P100056    3.200327    0.746913    1.840242    1.735957    2.251156  ...   \n",
       "A_23_P100074   21.019512    5.356592   19.088257   12.063126   17.395967  ...   \n",
       "\n",
       "              GSM1623350  GSM1623351  GSM1623352  GSM1623353  GSM1623354  \\\n",
       "ID                                                                         \n",
       "A_23_P100001    3.048840    3.053362    1.760907    5.129226    2.953872   \n",
       "A_23_P100011    0.301012    0.361652    0.734535    0.125607    0.225909   \n",
       "A_23_P100022    0.646545    0.686610    3.167144    6.389475    2.848148   \n",
       "A_23_P100056    1.816479    1.714723    1.815770    1.258793    1.532383   \n",
       "A_23_P100074    6.934141    7.064570    4.215108    6.569894   15.609033   \n",
       "\n",
       "              GSM1623355  GSM1623356  GSM1623357  GSM1623358  GSM1623359  \n",
       "ID                                                                        \n",
       "A_23_P100001    3.183397    4.535605    4.068553    3.936768    3.807201  \n",
       "A_23_P100011    0.168436    0.343899    0.350141    0.405691    0.399181  \n",
       "A_23_P100022    3.598935    1.240645    0.876765    0.792963    0.805732  \n",
       "A_23_P100056    0.444932    0.357534    2.735043    2.532193    2.762726  \n",
       "A_23_P100074    8.387245    6.876524    8.062073    8.150031    7.977626  \n",
       "\n",
       "[5 rows x 61 columns]"
      ]
     },
     "execution_count": 124,
     "metadata": {},
     "output_type": "execute_result"
    }
   ],
   "source": [
    "genetic_data = get_genetic_data(matrix_file)\n",
    "genetic_data.head()"
   ]
  },
  {
   "cell_type": "markdown",
   "metadata": {
    "ExecuteTime": {
     "end_time": "2023-12-31T03:30:41.595335164Z",
     "start_time": "2023-12-31T03:30:41.513232329Z"
    },
    "collapsed": false
   },
   "source": [
    "Check if the gene dataset requires mapping to get the gene symbols corresponding to each data row."
   ]
  },
  {
   "cell_type": "code",
   "execution_count": 125,
   "metadata": {},
   "outputs": [
    {
     "name": "stdout",
     "output_type": "stream",
     "text": [
      "{'ID': ['A_23_P100001', 'A_23_P100011', 'A_23_P100022', 'A_23_P100056', 'A_23_P100074'], 'SPOT_ID': ['A_23_P100001', 'A_23_P100011', 'A_23_P100022', 'A_23_P100056', 'A_23_P100074'], 'CONTROL_TYPE': ['FALSE', 'FALSE', 'FALSE', 'FALSE', 'FALSE'], 'REFSEQ': ['NM_207446', 'NM_005829', 'NM_014848', 'NM_194272', 'NM_020371'], 'GB_ACC': ['NM_207446', 'NM_005829', 'NM_014848', 'NM_194272', 'NM_020371'], 'GENE': [400451.0, 10239.0, 9899.0, 348093.0, 57099.0], 'GENE_SYMBOL': ['FAM174B', 'AP3S2', 'SV2B', 'RBPMS2', 'AVEN'], 'GENE_NAME': ['family with sequence similarity 174, member B', 'adaptor-related protein complex 3, sigma 2 subunit', 'synaptic vesicle glycoprotein 2B', 'RNA binding protein with multiple splicing 2', 'apoptosis, caspase activation inhibitor'], 'UNIGENE_ID': ['Hs.27373', 'Hs.632161', 'Hs.21754', 'Hs.436518', 'Hs.555966'], 'ENSEMBL_ID': ['ENST00000557398', nan, 'ENST00000557410', 'ENST00000300069', 'ENST00000306730'], 'TIGR_ID': [nan, nan, nan, nan, nan], 'ACCESSION_STRING': ['ref|NM_207446|ens|ENST00000557398|ens|ENST00000553393|ens|ENST00000327355', 'ref|NM_005829|ref|NM_001199058|ref|NR_023361|ref|NR_037582', 'ref|NM_014848|ref|NM_001167580|ens|ENST00000557410|ens|ENST00000330276', 'ref|NM_194272|ens|ENST00000300069|gb|AK127873|gb|AK124123', 'ref|NM_020371|ens|ENST00000306730|gb|AF283508|gb|BC010488'], 'CHROMOSOMAL_LOCATION': ['chr15:93160848-93160789', 'chr15:90378743-90378684', 'chr15:91838329-91838388', 'chr15:65032375-65032316', 'chr15:34158739-34158680'], 'CYTOBAND': ['hs|15q26.1', 'hs|15q26.1', 'hs|15q26.1', 'hs|15q22.31', 'hs|15q14'], 'DESCRIPTION': ['Homo sapiens family with sequence similarity 174, member B (FAM174B), mRNA [NM_207446]', 'Homo sapiens adaptor-related protein complex 3, sigma 2 subunit (AP3S2), transcript variant 1, mRNA [NM_005829]', 'Homo sapiens synaptic vesicle glycoprotein 2B (SV2B), transcript variant 1, mRNA [NM_014848]', 'Homo sapiens RNA binding protein with multiple splicing 2 (RBPMS2), mRNA [NM_194272]', 'Homo sapiens apoptosis, caspase activation inhibitor (AVEN), mRNA [NM_020371]'], 'GO_ID': ['GO:0016020(membrane)|GO:0016021(integral to membrane)', 'GO:0005794(Golgi apparatus)|GO:0006886(intracellular protein transport)|GO:0008565(protein transporter activity)|GO:0016020(membrane)|GO:0016192(vesicle-mediated transport)|GO:0030117(membrane coat)|GO:0030659(cytoplasmic vesicle membrane)|GO:0031410(cytoplasmic vesicle)', 'GO:0001669(acrosomal vesicle)|GO:0006836(neurotransmitter transport)|GO:0016020(membrane)|GO:0016021(integral to membrane)|GO:0022857(transmembrane transporter activity)|GO:0030054(cell junction)|GO:0030672(synaptic vesicle membrane)|GO:0031410(cytoplasmic vesicle)|GO:0045202(synapse)', 'GO:0000166(nucleotide binding)|GO:0003676(nucleic acid binding)', 'GO:0005515(protein binding)|GO:0005622(intracellular)|GO:0005624(membrane fraction)|GO:0006915(apoptosis)|GO:0006916(anti-apoptosis)|GO:0012505(endomembrane system)|GO:0016020(membrane)'], 'SEQUENCE': ['ATCTCATGGAAAAGCTGGATTCCTCTGCCTTACGCAGAAACACCCGGGCTCCATCTGCCA', 'TCAAGTATTGGCCTGACATAGAGTCCTTAAGACAAGCAAAGACAAGCAAGGCAAGCACGT', 'ATGTCGGCTGTGGAGGGTTAAAGGGATGAGGCTTTCCTTTGTTTAGCAAATCTGTTCACA', 'CCCTGTCAGATAAGTTTAATGTTTAGTTTGAGGCATGAAGAAGAAAAGGGTTTCCATTCT', 'GACCAGCCAGTTTACAAGCATGTCTCAAGCTAGTGTGTTCCATTATGCTCACAGCAGTAA']}\n"
     ]
    },
    {
     "data": {
      "text/plain": [
       "Index(['ID', 'SPOT_ID', 'CONTROL_TYPE', 'REFSEQ', 'GB_ACC', 'GENE',\n",
       "       'GENE_SYMBOL', 'GENE_NAME', 'UNIGENE_ID', 'ENSEMBL_ID', 'TIGR_ID',\n",
       "       'ACCESSION_STRING', 'CHROMOSOMAL_LOCATION', 'CYTOBAND', 'DESCRIPTION',\n",
       "       'GO_ID', 'SEQUENCE'],\n",
       "      dtype='object')"
      ]
     },
     "execution_count": 125,
     "metadata": {},
     "output_type": "execute_result"
    }
   ],
   "source": [
    "requires_gene_mapping = True\n",
    "\n",
    "if requires_gene_mapping:\n",
    "    gene_annotation = get_gene_annotation(soft_file)\n",
    "    gene_annotation_summary = preview_df(gene_annotation)\n",
    "    print(gene_annotation_summary)\n",
    "\n",
    "gene_annotation.columns"
   ]
  },
  {
   "cell_type": "code",
   "execution_count": 126,
   "metadata": {},
   "outputs": [],
   "source": [
    "if requires_gene_mapping:\n",
    "    identifier_key = 'ID'\n",
    "    gene_symbol_key = 'GENE_SYMBOL'\n",
    "    gene_mapping = get_gene_mapping(gene_annotation, identifier_key, gene_symbol_key)\n",
    "    genetic_data = apply_gene_mapping(genetic_data, gene_mapping)"
   ]
  },
  {
   "cell_type": "code",
   "execution_count": 127,
   "metadata": {},
   "outputs": [
    {
     "data": {
      "text/html": [
       "<div>\n",
       "<style scoped>\n",
       "    .dataframe tbody tr th:only-of-type {\n",
       "        vertical-align: middle;\n",
       "    }\n",
       "\n",
       "    .dataframe tbody tr th {\n",
       "        vertical-align: top;\n",
       "    }\n",
       "\n",
       "    .dataframe thead th {\n",
       "        text-align: right;\n",
       "    }\n",
       "</style>\n",
       "<table border=\"1\" class=\"dataframe\">\n",
       "  <thead>\n",
       "    <tr style=\"text-align: right;\">\n",
       "      <th></th>\n",
       "      <th>GSM1623299</th>\n",
       "      <th>GSM1623300</th>\n",
       "      <th>GSM1623301</th>\n",
       "      <th>GSM1623302</th>\n",
       "      <th>GSM1623303</th>\n",
       "      <th>GSM1623304</th>\n",
       "      <th>GSM1623305</th>\n",
       "      <th>GSM1623306</th>\n",
       "      <th>GSM1623307</th>\n",
       "      <th>GSM1623308</th>\n",
       "      <th>...</th>\n",
       "      <th>GSM1623350</th>\n",
       "      <th>GSM1623351</th>\n",
       "      <th>GSM1623352</th>\n",
       "      <th>GSM1623353</th>\n",
       "      <th>GSM1623354</th>\n",
       "      <th>GSM1623355</th>\n",
       "      <th>GSM1623356</th>\n",
       "      <th>GSM1623357</th>\n",
       "      <th>GSM1623358</th>\n",
       "      <th>GSM1623359</th>\n",
       "    </tr>\n",
       "  </thead>\n",
       "  <tbody>\n",
       "    <tr>\n",
       "      <th>A1BG</th>\n",
       "      <td>1.218932</td>\n",
       "      <td>1.260622</td>\n",
       "      <td>1.066807</td>\n",
       "      <td>2.045379</td>\n",
       "      <td>1.552104</td>\n",
       "      <td>0.422785</td>\n",
       "      <td>0.599982</td>\n",
       "      <td>1.245298</td>\n",
       "      <td>0.819484</td>\n",
       "      <td>0.737273</td>\n",
       "      <td>...</td>\n",
       "      <td>0.743015</td>\n",
       "      <td>0.719585</td>\n",
       "      <td>1.499146</td>\n",
       "      <td>0.556147</td>\n",
       "      <td>1.303445</td>\n",
       "      <td>1.030400</td>\n",
       "      <td>3.463112</td>\n",
       "      <td>1.109233</td>\n",
       "      <td>0.999866</td>\n",
       "      <td>0.982252</td>\n",
       "    </tr>\n",
       "    <tr>\n",
       "      <th>A1BG-AS1</th>\n",
       "      <td>0.304418</td>\n",
       "      <td>0.490157</td>\n",
       "      <td>0.283849</td>\n",
       "      <td>1.000899</td>\n",
       "      <td>0.731566</td>\n",
       "      <td>0.178405</td>\n",
       "      <td>0.352113</td>\n",
       "      <td>0.265049</td>\n",
       "      <td>0.342144</td>\n",
       "      <td>0.253210</td>\n",
       "      <td>...</td>\n",
       "      <td>0.488333</td>\n",
       "      <td>0.498485</td>\n",
       "      <td>0.726101</td>\n",
       "      <td>0.425360</td>\n",
       "      <td>0.477539</td>\n",
       "      <td>0.504504</td>\n",
       "      <td>1.445706</td>\n",
       "      <td>0.514461</td>\n",
       "      <td>0.558063</td>\n",
       "      <td>0.552587</td>\n",
       "    </tr>\n",
       "    <tr>\n",
       "      <th>A1CF</th>\n",
       "      <td>0.157276</td>\n",
       "      <td>0.085785</td>\n",
       "      <td>16.222054</td>\n",
       "      <td>6.756964</td>\n",
       "      <td>1.287068</td>\n",
       "      <td>22.157043</td>\n",
       "      <td>0.745383</td>\n",
       "      <td>3.330416</td>\n",
       "      <td>16.955330</td>\n",
       "      <td>6.813107</td>\n",
       "      <td>...</td>\n",
       "      <td>7.085919</td>\n",
       "      <td>6.684666</td>\n",
       "      <td>1.973010</td>\n",
       "      <td>0.258552</td>\n",
       "      <td>6.646337</td>\n",
       "      <td>2.318142</td>\n",
       "      <td>0.800970</td>\n",
       "      <td>4.910943</td>\n",
       "      <td>4.457469</td>\n",
       "      <td>4.697814</td>\n",
       "    </tr>\n",
       "    <tr>\n",
       "      <th>A2M</th>\n",
       "      <td>540.742573</td>\n",
       "      <td>614.371469</td>\n",
       "      <td>129.542896</td>\n",
       "      <td>424.783213</td>\n",
       "      <td>275.774885</td>\n",
       "      <td>233.040787</td>\n",
       "      <td>450.305607</td>\n",
       "      <td>147.945514</td>\n",
       "      <td>231.677238</td>\n",
       "      <td>112.732689</td>\n",
       "      <td>...</td>\n",
       "      <td>230.410521</td>\n",
       "      <td>242.137650</td>\n",
       "      <td>173.709522</td>\n",
       "      <td>467.379848</td>\n",
       "      <td>441.044837</td>\n",
       "      <td>327.636068</td>\n",
       "      <td>350.782750</td>\n",
       "      <td>264.076324</td>\n",
       "      <td>242.944726</td>\n",
       "      <td>238.303709</td>\n",
       "    </tr>\n",
       "    <tr>\n",
       "      <th>A2ML1</th>\n",
       "      <td>6.826797</td>\n",
       "      <td>4.805410</td>\n",
       "      <td>4.599218</td>\n",
       "      <td>3.852563</td>\n",
       "      <td>4.027143</td>\n",
       "      <td>6.630714</td>\n",
       "      <td>2.893580</td>\n",
       "      <td>5.412166</td>\n",
       "      <td>3.802612</td>\n",
       "      <td>4.229111</td>\n",
       "      <td>...</td>\n",
       "      <td>5.765796</td>\n",
       "      <td>5.353098</td>\n",
       "      <td>1.961178</td>\n",
       "      <td>5.523837</td>\n",
       "      <td>6.569304</td>\n",
       "      <td>6.626189</td>\n",
       "      <td>3.614157</td>\n",
       "      <td>4.936043</td>\n",
       "      <td>5.221398</td>\n",
       "      <td>4.841953</td>\n",
       "    </tr>\n",
       "    <tr>\n",
       "      <th>...</th>\n",
       "      <td>...</td>\n",
       "      <td>...</td>\n",
       "      <td>...</td>\n",
       "      <td>...</td>\n",
       "      <td>...</td>\n",
       "      <td>...</td>\n",
       "      <td>...</td>\n",
       "      <td>...</td>\n",
       "      <td>...</td>\n",
       "      <td>...</td>\n",
       "      <td>...</td>\n",
       "      <td>...</td>\n",
       "      <td>...</td>\n",
       "      <td>...</td>\n",
       "      <td>...</td>\n",
       "      <td>...</td>\n",
       "      <td>...</td>\n",
       "      <td>...</td>\n",
       "      <td>...</td>\n",
       "      <td>...</td>\n",
       "      <td>...</td>\n",
       "    </tr>\n",
       "    <tr>\n",
       "      <th>ZYG11A</th>\n",
       "      <td>0.156980</td>\n",
       "      <td>0.090291</td>\n",
       "      <td>2.476573</td>\n",
       "      <td>0.849832</td>\n",
       "      <td>0.339230</td>\n",
       "      <td>2.253758</td>\n",
       "      <td>0.055983</td>\n",
       "      <td>2.519859</td>\n",
       "      <td>2.267496</td>\n",
       "      <td>1.937999</td>\n",
       "      <td>...</td>\n",
       "      <td>2.637354</td>\n",
       "      <td>2.669265</td>\n",
       "      <td>0.809021</td>\n",
       "      <td>0.296077</td>\n",
       "      <td>1.279018</td>\n",
       "      <td>0.286623</td>\n",
       "      <td>0.415590</td>\n",
       "      <td>4.245273</td>\n",
       "      <td>3.779091</td>\n",
       "      <td>3.755085</td>\n",
       "    </tr>\n",
       "    <tr>\n",
       "      <th>ZYG11B</th>\n",
       "      <td>8.954803</td>\n",
       "      <td>8.376368</td>\n",
       "      <td>26.556611</td>\n",
       "      <td>14.465412</td>\n",
       "      <td>16.863825</td>\n",
       "      <td>29.176463</td>\n",
       "      <td>16.613276</td>\n",
       "      <td>9.912672</td>\n",
       "      <td>20.719085</td>\n",
       "      <td>9.639071</td>\n",
       "      <td>...</td>\n",
       "      <td>11.113468</td>\n",
       "      <td>11.389709</td>\n",
       "      <td>5.925940</td>\n",
       "      <td>17.814649</td>\n",
       "      <td>18.966740</td>\n",
       "      <td>14.265153</td>\n",
       "      <td>11.475978</td>\n",
       "      <td>12.888703</td>\n",
       "      <td>12.460258</td>\n",
       "      <td>12.555633</td>\n",
       "    </tr>\n",
       "    <tr>\n",
       "      <th>ZYX</th>\n",
       "      <td>1.174709</td>\n",
       "      <td>2.786389</td>\n",
       "      <td>2.114315</td>\n",
       "      <td>2.432707</td>\n",
       "      <td>1.259715</td>\n",
       "      <td>1.478948</td>\n",
       "      <td>3.966357</td>\n",
       "      <td>2.949362</td>\n",
       "      <td>2.099527</td>\n",
       "      <td>2.702376</td>\n",
       "      <td>...</td>\n",
       "      <td>2.883569</td>\n",
       "      <td>2.795094</td>\n",
       "      <td>0.842317</td>\n",
       "      <td>1.151076</td>\n",
       "      <td>1.992044</td>\n",
       "      <td>2.810027</td>\n",
       "      <td>2.193766</td>\n",
       "      <td>2.798917</td>\n",
       "      <td>2.789904</td>\n",
       "      <td>2.588279</td>\n",
       "    </tr>\n",
       "    <tr>\n",
       "      <th>ZZEF1</th>\n",
       "      <td>6.771286</td>\n",
       "      <td>6.482597</td>\n",
       "      <td>12.091392</td>\n",
       "      <td>9.653932</td>\n",
       "      <td>14.014311</td>\n",
       "      <td>15.694550</td>\n",
       "      <td>8.825436</td>\n",
       "      <td>6.512127</td>\n",
       "      <td>10.523993</td>\n",
       "      <td>7.781083</td>\n",
       "      <td>...</td>\n",
       "      <td>8.134523</td>\n",
       "      <td>8.222230</td>\n",
       "      <td>4.796717</td>\n",
       "      <td>16.401400</td>\n",
       "      <td>12.359549</td>\n",
       "      <td>11.757381</td>\n",
       "      <td>13.173358</td>\n",
       "      <td>7.772661</td>\n",
       "      <td>7.739442</td>\n",
       "      <td>7.794862</td>\n",
       "    </tr>\n",
       "    <tr>\n",
       "      <th>ZZZ3</th>\n",
       "      <td>4.927757</td>\n",
       "      <td>3.813102</td>\n",
       "      <td>6.078537</td>\n",
       "      <td>5.285042</td>\n",
       "      <td>9.169600</td>\n",
       "      <td>6.963997</td>\n",
       "      <td>4.633989</td>\n",
       "      <td>4.509021</td>\n",
       "      <td>6.026857</td>\n",
       "      <td>4.087716</td>\n",
       "      <td>...</td>\n",
       "      <td>2.189658</td>\n",
       "      <td>2.339073</td>\n",
       "      <td>2.538610</td>\n",
       "      <td>7.523788</td>\n",
       "      <td>6.747663</td>\n",
       "      <td>5.699212</td>\n",
       "      <td>4.276762</td>\n",
       "      <td>2.979724</td>\n",
       "      <td>2.853553</td>\n",
       "      <td>2.898925</td>\n",
       "    </tr>\n",
       "  </tbody>\n",
       "</table>\n",
       "<p>16564 rows × 61 columns</p>\n",
       "</div>"
      ],
      "text/plain": [
       "          GSM1623299  GSM1623300  GSM1623301  GSM1623302  GSM1623303  \\\n",
       "A1BG        1.218932    1.260622    1.066807    2.045379    1.552104   \n",
       "A1BG-AS1    0.304418    0.490157    0.283849    1.000899    0.731566   \n",
       "A1CF        0.157276    0.085785   16.222054    6.756964    1.287068   \n",
       "A2M       540.742573  614.371469  129.542896  424.783213  275.774885   \n",
       "A2ML1       6.826797    4.805410    4.599218    3.852563    4.027143   \n",
       "...              ...         ...         ...         ...         ...   \n",
       "ZYG11A      0.156980    0.090291    2.476573    0.849832    0.339230   \n",
       "ZYG11B      8.954803    8.376368   26.556611   14.465412   16.863825   \n",
       "ZYX         1.174709    2.786389    2.114315    2.432707    1.259715   \n",
       "ZZEF1       6.771286    6.482597   12.091392    9.653932   14.014311   \n",
       "ZZZ3        4.927757    3.813102    6.078537    5.285042    9.169600   \n",
       "\n",
       "          GSM1623304  GSM1623305  GSM1623306  GSM1623307  GSM1623308  ...  \\\n",
       "A1BG        0.422785    0.599982    1.245298    0.819484    0.737273  ...   \n",
       "A1BG-AS1    0.178405    0.352113    0.265049    0.342144    0.253210  ...   \n",
       "A1CF       22.157043    0.745383    3.330416   16.955330    6.813107  ...   \n",
       "A2M       233.040787  450.305607  147.945514  231.677238  112.732689  ...   \n",
       "A2ML1       6.630714    2.893580    5.412166    3.802612    4.229111  ...   \n",
       "...              ...         ...         ...         ...         ...  ...   \n",
       "ZYG11A      2.253758    0.055983    2.519859    2.267496    1.937999  ...   \n",
       "ZYG11B     29.176463   16.613276    9.912672   20.719085    9.639071  ...   \n",
       "ZYX         1.478948    3.966357    2.949362    2.099527    2.702376  ...   \n",
       "ZZEF1      15.694550    8.825436    6.512127   10.523993    7.781083  ...   \n",
       "ZZZ3        6.963997    4.633989    4.509021    6.026857    4.087716  ...   \n",
       "\n",
       "          GSM1623350  GSM1623351  GSM1623352  GSM1623353  GSM1623354  \\\n",
       "A1BG        0.743015    0.719585    1.499146    0.556147    1.303445   \n",
       "A1BG-AS1    0.488333    0.498485    0.726101    0.425360    0.477539   \n",
       "A1CF        7.085919    6.684666    1.973010    0.258552    6.646337   \n",
       "A2M       230.410521  242.137650  173.709522  467.379848  441.044837   \n",
       "A2ML1       5.765796    5.353098    1.961178    5.523837    6.569304   \n",
       "...              ...         ...         ...         ...         ...   \n",
       "ZYG11A      2.637354    2.669265    0.809021    0.296077    1.279018   \n",
       "ZYG11B     11.113468   11.389709    5.925940   17.814649   18.966740   \n",
       "ZYX         2.883569    2.795094    0.842317    1.151076    1.992044   \n",
       "ZZEF1       8.134523    8.222230    4.796717   16.401400   12.359549   \n",
       "ZZZ3        2.189658    2.339073    2.538610    7.523788    6.747663   \n",
       "\n",
       "          GSM1623355  GSM1623356  GSM1623357  GSM1623358  GSM1623359  \n",
       "A1BG        1.030400    3.463112    1.109233    0.999866    0.982252  \n",
       "A1BG-AS1    0.504504    1.445706    0.514461    0.558063    0.552587  \n",
       "A1CF        2.318142    0.800970    4.910943    4.457469    4.697814  \n",
       "A2M       327.636068  350.782750  264.076324  242.944726  238.303709  \n",
       "A2ML1       6.626189    3.614157    4.936043    5.221398    4.841953  \n",
       "...              ...         ...         ...         ...         ...  \n",
       "ZYG11A      0.286623    0.415590    4.245273    3.779091    3.755085  \n",
       "ZYG11B     14.265153   11.475978   12.888703   12.460258   12.555633  \n",
       "ZYX         2.810027    2.193766    2.798917    2.789904    2.588279  \n",
       "ZZEF1      11.757381   13.173358    7.772661    7.739442    7.794862  \n",
       "ZZZ3        5.699212    4.276762    2.979724    2.853553    2.898925  \n",
       "\n",
       "[16564 rows x 61 columns]"
      ]
     },
     "execution_count": 127,
     "metadata": {},
     "output_type": "execute_result"
    }
   ],
   "source": [
    "genetic_data = normalize_gene_symbols_in_index(genetic_data)\n",
    "genetic_data"
   ]
  },
  {
   "cell_type": "markdown",
   "metadata": {},
   "source": [
    "Use selected clinical data and genetic data to generate the merged data:"
   ]
  },
  {
   "cell_type": "code",
   "execution_count": 128,
   "metadata": {},
   "outputs": [
    {
     "data": {
      "text/html": [
       "<div>\n",
       "<style scoped>\n",
       "    .dataframe tbody tr th:only-of-type {\n",
       "        vertical-align: middle;\n",
       "    }\n",
       "\n",
       "    .dataframe tbody tr th {\n",
       "        vertical-align: top;\n",
       "    }\n",
       "\n",
       "    .dataframe thead th {\n",
       "        text-align: right;\n",
       "    }\n",
       "</style>\n",
       "<table border=\"1\" class=\"dataframe\">\n",
       "  <thead>\n",
       "    <tr style=\"text-align: right;\">\n",
       "      <th></th>\n",
       "      <th>Chronic kidney disease</th>\n",
       "      <th>A1BG</th>\n",
       "      <th>A1BG-AS1</th>\n",
       "      <th>A1CF</th>\n",
       "      <th>A2M</th>\n",
       "      <th>A2ML1</th>\n",
       "      <th>A4GALT</th>\n",
       "      <th>A4GNT</th>\n",
       "      <th>AAAS</th>\n",
       "      <th>AACS</th>\n",
       "      <th>...</th>\n",
       "      <th>ZW10</th>\n",
       "      <th>ZWILCH</th>\n",
       "      <th>ZWINT</th>\n",
       "      <th>ZXDA</th>\n",
       "      <th>ZXDC</th>\n",
       "      <th>ZYG11A</th>\n",
       "      <th>ZYG11B</th>\n",
       "      <th>ZYX</th>\n",
       "      <th>ZZEF1</th>\n",
       "      <th>ZZZ3</th>\n",
       "    </tr>\n",
       "  </thead>\n",
       "  <tbody>\n",
       "    <tr>\n",
       "      <th>GSM1623299</th>\n",
       "      <td>1.0</td>\n",
       "      <td>1.218932</td>\n",
       "      <td>0.304418</td>\n",
       "      <td>0.157276</td>\n",
       "      <td>540.742573</td>\n",
       "      <td>6.826797</td>\n",
       "      <td>2.349770</td>\n",
       "      <td>0.182119</td>\n",
       "      <td>3.345828</td>\n",
       "      <td>9.911180</td>\n",
       "      <td>...</td>\n",
       "      <td>3.444760</td>\n",
       "      <td>1.713055</td>\n",
       "      <td>5.701269</td>\n",
       "      <td>1.360436</td>\n",
       "      <td>0.872757</td>\n",
       "      <td>0.156980</td>\n",
       "      <td>8.954803</td>\n",
       "      <td>1.174709</td>\n",
       "      <td>6.771286</td>\n",
       "      <td>4.927757</td>\n",
       "    </tr>\n",
       "    <tr>\n",
       "      <th>GSM1623300</th>\n",
       "      <td>1.0</td>\n",
       "      <td>1.260622</td>\n",
       "      <td>0.490157</td>\n",
       "      <td>0.085785</td>\n",
       "      <td>614.371469</td>\n",
       "      <td>4.805410</td>\n",
       "      <td>3.809799</td>\n",
       "      <td>0.100023</td>\n",
       "      <td>2.670081</td>\n",
       "      <td>4.477342</td>\n",
       "      <td>...</td>\n",
       "      <td>1.925295</td>\n",
       "      <td>1.009661</td>\n",
       "      <td>2.692918</td>\n",
       "      <td>1.481666</td>\n",
       "      <td>1.039220</td>\n",
       "      <td>0.090291</td>\n",
       "      <td>8.376368</td>\n",
       "      <td>2.786389</td>\n",
       "      <td>6.482597</td>\n",
       "      <td>3.813102</td>\n",
       "    </tr>\n",
       "    <tr>\n",
       "      <th>GSM1623301</th>\n",
       "      <td>1.0</td>\n",
       "      <td>1.066807</td>\n",
       "      <td>0.283849</td>\n",
       "      <td>16.222054</td>\n",
       "      <td>129.542896</td>\n",
       "      <td>4.599218</td>\n",
       "      <td>4.918054</td>\n",
       "      <td>0.082721</td>\n",
       "      <td>3.908973</td>\n",
       "      <td>4.600227</td>\n",
       "      <td>...</td>\n",
       "      <td>3.394741</td>\n",
       "      <td>0.686985</td>\n",
       "      <td>4.227749</td>\n",
       "      <td>2.314192</td>\n",
       "      <td>1.179826</td>\n",
       "      <td>2.476573</td>\n",
       "      <td>26.556611</td>\n",
       "      <td>2.114315</td>\n",
       "      <td>12.091392</td>\n",
       "      <td>6.078537</td>\n",
       "    </tr>\n",
       "    <tr>\n",
       "      <th>GSM1623302</th>\n",
       "      <td>1.0</td>\n",
       "      <td>2.045379</td>\n",
       "      <td>1.000899</td>\n",
       "      <td>6.756964</td>\n",
       "      <td>424.783213</td>\n",
       "      <td>3.852563</td>\n",
       "      <td>5.109633</td>\n",
       "      <td>0.067631</td>\n",
       "      <td>3.620666</td>\n",
       "      <td>4.950579</td>\n",
       "      <td>...</td>\n",
       "      <td>3.585163</td>\n",
       "      <td>0.715107</td>\n",
       "      <td>3.557064</td>\n",
       "      <td>1.799609</td>\n",
       "      <td>1.291793</td>\n",
       "      <td>0.849832</td>\n",
       "      <td>14.465412</td>\n",
       "      <td>2.432707</td>\n",
       "      <td>9.653932</td>\n",
       "      <td>5.285042</td>\n",
       "    </tr>\n",
       "    <tr>\n",
       "      <th>GSM1623303</th>\n",
       "      <td>1.0</td>\n",
       "      <td>1.552104</td>\n",
       "      <td>0.731566</td>\n",
       "      <td>1.287068</td>\n",
       "      <td>275.774885</td>\n",
       "      <td>4.027143</td>\n",
       "      <td>4.216796</td>\n",
       "      <td>0.540665</td>\n",
       "      <td>2.921127</td>\n",
       "      <td>7.825998</td>\n",
       "      <td>...</td>\n",
       "      <td>3.150866</td>\n",
       "      <td>2.370772</td>\n",
       "      <td>5.299681</td>\n",
       "      <td>2.847084</td>\n",
       "      <td>1.782643</td>\n",
       "      <td>0.339230</td>\n",
       "      <td>16.863825</td>\n",
       "      <td>1.259715</td>\n",
       "      <td>14.014311</td>\n",
       "      <td>9.169600</td>\n",
       "    </tr>\n",
       "    <tr>\n",
       "      <th>...</th>\n",
       "      <td>...</td>\n",
       "      <td>...</td>\n",
       "      <td>...</td>\n",
       "      <td>...</td>\n",
       "      <td>...</td>\n",
       "      <td>...</td>\n",
       "      <td>...</td>\n",
       "      <td>...</td>\n",
       "      <td>...</td>\n",
       "      <td>...</td>\n",
       "      <td>...</td>\n",
       "      <td>...</td>\n",
       "      <td>...</td>\n",
       "      <td>...</td>\n",
       "      <td>...</td>\n",
       "      <td>...</td>\n",
       "      <td>...</td>\n",
       "      <td>...</td>\n",
       "      <td>...</td>\n",
       "      <td>...</td>\n",
       "      <td>...</td>\n",
       "    </tr>\n",
       "    <tr>\n",
       "      <th>GSM1623355</th>\n",
       "      <td>1.0</td>\n",
       "      <td>1.030400</td>\n",
       "      <td>0.504504</td>\n",
       "      <td>2.318142</td>\n",
       "      <td>327.636068</td>\n",
       "      <td>6.626189</td>\n",
       "      <td>3.988220</td>\n",
       "      <td>0.194300</td>\n",
       "      <td>3.102152</td>\n",
       "      <td>4.086519</td>\n",
       "      <td>...</td>\n",
       "      <td>3.090866</td>\n",
       "      <td>0.877729</td>\n",
       "      <td>8.142057</td>\n",
       "      <td>2.211852</td>\n",
       "      <td>1.003628</td>\n",
       "      <td>0.286623</td>\n",
       "      <td>14.265153</td>\n",
       "      <td>2.810027</td>\n",
       "      <td>11.757381</td>\n",
       "      <td>5.699212</td>\n",
       "    </tr>\n",
       "    <tr>\n",
       "      <th>GSM1623356</th>\n",
       "      <td>1.0</td>\n",
       "      <td>3.463112</td>\n",
       "      <td>1.445706</td>\n",
       "      <td>0.800970</td>\n",
       "      <td>350.782750</td>\n",
       "      <td>3.614157</td>\n",
       "      <td>3.317270</td>\n",
       "      <td>0.537839</td>\n",
       "      <td>2.808263</td>\n",
       "      <td>1.891519</td>\n",
       "      <td>...</td>\n",
       "      <td>1.270208</td>\n",
       "      <td>0.448355</td>\n",
       "      <td>1.271735</td>\n",
       "      <td>1.941104</td>\n",
       "      <td>1.106026</td>\n",
       "      <td>0.415590</td>\n",
       "      <td>11.475978</td>\n",
       "      <td>2.193766</td>\n",
       "      <td>13.173358</td>\n",
       "      <td>4.276762</td>\n",
       "    </tr>\n",
       "    <tr>\n",
       "      <th>GSM1623357</th>\n",
       "      <td>0.0</td>\n",
       "      <td>1.109233</td>\n",
       "      <td>0.514461</td>\n",
       "      <td>4.910943</td>\n",
       "      <td>264.076324</td>\n",
       "      <td>4.936043</td>\n",
       "      <td>6.846879</td>\n",
       "      <td>0.055640</td>\n",
       "      <td>5.882647</td>\n",
       "      <td>8.705971</td>\n",
       "      <td>...</td>\n",
       "      <td>3.034038</td>\n",
       "      <td>0.412920</td>\n",
       "      <td>1.984565</td>\n",
       "      <td>0.908974</td>\n",
       "      <td>1.873947</td>\n",
       "      <td>4.245273</td>\n",
       "      <td>12.888703</td>\n",
       "      <td>2.798917</td>\n",
       "      <td>7.772661</td>\n",
       "      <td>2.979724</td>\n",
       "    </tr>\n",
       "    <tr>\n",
       "      <th>GSM1623358</th>\n",
       "      <td>0.0</td>\n",
       "      <td>0.999866</td>\n",
       "      <td>0.558063</td>\n",
       "      <td>4.457469</td>\n",
       "      <td>242.944726</td>\n",
       "      <td>5.221398</td>\n",
       "      <td>6.458536</td>\n",
       "      <td>0.049817</td>\n",
       "      <td>5.624879</td>\n",
       "      <td>7.982473</td>\n",
       "      <td>...</td>\n",
       "      <td>2.855068</td>\n",
       "      <td>0.450787</td>\n",
       "      <td>2.021770</td>\n",
       "      <td>0.821104</td>\n",
       "      <td>1.788767</td>\n",
       "      <td>3.779091</td>\n",
       "      <td>12.460258</td>\n",
       "      <td>2.789904</td>\n",
       "      <td>7.739442</td>\n",
       "      <td>2.853553</td>\n",
       "    </tr>\n",
       "    <tr>\n",
       "      <th>GSM1623359</th>\n",
       "      <td>0.0</td>\n",
       "      <td>0.982252</td>\n",
       "      <td>0.552587</td>\n",
       "      <td>4.697814</td>\n",
       "      <td>238.303709</td>\n",
       "      <td>4.841953</td>\n",
       "      <td>6.604972</td>\n",
       "      <td>0.054900</td>\n",
       "      <td>5.517244</td>\n",
       "      <td>7.840992</td>\n",
       "      <td>...</td>\n",
       "      <td>2.863058</td>\n",
       "      <td>0.467304</td>\n",
       "      <td>2.095566</td>\n",
       "      <td>0.866451</td>\n",
       "      <td>1.793541</td>\n",
       "      <td>3.755085</td>\n",
       "      <td>12.555633</td>\n",
       "      <td>2.588279</td>\n",
       "      <td>7.794862</td>\n",
       "      <td>2.898925</td>\n",
       "    </tr>\n",
       "  </tbody>\n",
       "</table>\n",
       "<p>61 rows × 16565 columns</p>\n",
       "</div>"
      ],
      "text/plain": [
       "            Chronic kidney disease      A1BG  A1BG-AS1       A1CF         A2M  \\\n",
       "GSM1623299                     1.0  1.218932  0.304418   0.157276  540.742573   \n",
       "GSM1623300                     1.0  1.260622  0.490157   0.085785  614.371469   \n",
       "GSM1623301                     1.0  1.066807  0.283849  16.222054  129.542896   \n",
       "GSM1623302                     1.0  2.045379  1.000899   6.756964  424.783213   \n",
       "GSM1623303                     1.0  1.552104  0.731566   1.287068  275.774885   \n",
       "...                            ...       ...       ...        ...         ...   \n",
       "GSM1623355                     1.0  1.030400  0.504504   2.318142  327.636068   \n",
       "GSM1623356                     1.0  3.463112  1.445706   0.800970  350.782750   \n",
       "GSM1623357                     0.0  1.109233  0.514461   4.910943  264.076324   \n",
       "GSM1623358                     0.0  0.999866  0.558063   4.457469  242.944726   \n",
       "GSM1623359                     0.0  0.982252  0.552587   4.697814  238.303709   \n",
       "\n",
       "               A2ML1    A4GALT     A4GNT      AAAS      AACS  ...      ZW10  \\\n",
       "GSM1623299  6.826797  2.349770  0.182119  3.345828  9.911180  ...  3.444760   \n",
       "GSM1623300  4.805410  3.809799  0.100023  2.670081  4.477342  ...  1.925295   \n",
       "GSM1623301  4.599218  4.918054  0.082721  3.908973  4.600227  ...  3.394741   \n",
       "GSM1623302  3.852563  5.109633  0.067631  3.620666  4.950579  ...  3.585163   \n",
       "GSM1623303  4.027143  4.216796  0.540665  2.921127  7.825998  ...  3.150866   \n",
       "...              ...       ...       ...       ...       ...  ...       ...   \n",
       "GSM1623355  6.626189  3.988220  0.194300  3.102152  4.086519  ...  3.090866   \n",
       "GSM1623356  3.614157  3.317270  0.537839  2.808263  1.891519  ...  1.270208   \n",
       "GSM1623357  4.936043  6.846879  0.055640  5.882647  8.705971  ...  3.034038   \n",
       "GSM1623358  5.221398  6.458536  0.049817  5.624879  7.982473  ...  2.855068   \n",
       "GSM1623359  4.841953  6.604972  0.054900  5.517244  7.840992  ...  2.863058   \n",
       "\n",
       "              ZWILCH     ZWINT      ZXDA      ZXDC    ZYG11A     ZYG11B  \\\n",
       "GSM1623299  1.713055  5.701269  1.360436  0.872757  0.156980   8.954803   \n",
       "GSM1623300  1.009661  2.692918  1.481666  1.039220  0.090291   8.376368   \n",
       "GSM1623301  0.686985  4.227749  2.314192  1.179826  2.476573  26.556611   \n",
       "GSM1623302  0.715107  3.557064  1.799609  1.291793  0.849832  14.465412   \n",
       "GSM1623303  2.370772  5.299681  2.847084  1.782643  0.339230  16.863825   \n",
       "...              ...       ...       ...       ...       ...        ...   \n",
       "GSM1623355  0.877729  8.142057  2.211852  1.003628  0.286623  14.265153   \n",
       "GSM1623356  0.448355  1.271735  1.941104  1.106026  0.415590  11.475978   \n",
       "GSM1623357  0.412920  1.984565  0.908974  1.873947  4.245273  12.888703   \n",
       "GSM1623358  0.450787  2.021770  0.821104  1.788767  3.779091  12.460258   \n",
       "GSM1623359  0.467304  2.095566  0.866451  1.793541  3.755085  12.555633   \n",
       "\n",
       "                 ZYX      ZZEF1      ZZZ3  \n",
       "GSM1623299  1.174709   6.771286  4.927757  \n",
       "GSM1623300  2.786389   6.482597  3.813102  \n",
       "GSM1623301  2.114315  12.091392  6.078537  \n",
       "GSM1623302  2.432707   9.653932  5.285042  \n",
       "GSM1623303  1.259715  14.014311  9.169600  \n",
       "...              ...        ...       ...  \n",
       "GSM1623355  2.810027  11.757381  5.699212  \n",
       "GSM1623356  2.193766  13.173358  4.276762  \n",
       "GSM1623357  2.798917   7.772661  2.979724  \n",
       "GSM1623358  2.789904   7.739442  2.853553  \n",
       "GSM1623359  2.588279   7.794862  2.898925  \n",
       "\n",
       "[61 rows x 16565 columns]"
      ]
     },
     "execution_count": 128,
     "metadata": {},
     "output_type": "execute_result"
    }
   ],
   "source": [
    "merged_data = geo_merge_clinical_genetic_data(selected_clinical_data, genetic_data)\n",
    "is_available = True\n",
    "\n",
    "merged_data"
   ]
  },
  {
   "cell_type": "markdown",
   "metadata": {},
   "source": [
    "Check if the merged data biased or not:"
   ]
  },
  {
   "cell_type": "code",
   "execution_count": 129,
   "metadata": {},
   "outputs": [
    {
     "name": "stdout",
     "output_type": "stream",
     "text": [
      "The merged dataset contains 61 samples.\n",
      "For the feature 'Chronic kidney disease', the least common label is '0.0' with 8 occurrences. This represents 13.11% of the dataset.\n",
      "The distribution of the feature 'Chronic kidney disease' in this dataset is fine.\n",
      "\n"
     ]
    },
    {
     "data": {
      "text/plain": [
       "False"
      ]
     },
     "execution_count": 129,
     "metadata": {},
     "output_type": "execute_result"
    }
   ],
   "source": [
    "trait_type = 'binary'\n",
    "print(f\"The merged dataset contains {len(merged_data)} samples.\")\n",
    "is_trait_biased, merged_data = judge_and_remove_biased_features(merged_data, TRAIT, trait_type=trait_type)\n",
    "is_trait_biased"
   ]
  },
  {
   "cell_type": "markdown",
   "metadata": {},
   "source": [
    "Save the data as a csv file:"
   ]
  },
  {
   "cell_type": "code",
   "execution_count": 130,
   "metadata": {},
   "outputs": [],
   "source": [
    "is_available = True\n",
    "\n",
    "if is_available:\n",
    "    save_cohort_info(cohort, JSON_PATH, is_available, is_trait_biased, merged_data, note='')\n",
    "else:\n",
    "    save_cohort_info(cohort, JSON_PATH, is_available)\n",
    "merged_data.head()\n",
    "if not is_trait_biased:\n",
    "    merged_data.to_csv(os.path.join(OUTPUT_DIR, cohort + '.csv'), index=False)"
   ]
  }
 ],
 "metadata": {
  "colab": {
   "provenance": []
  },
  "kernelspec": {
   "display_name": "Python 3 (ipykernel)",
   "language": "python",
   "name": "python3"
  },
  "language_info": {
   "codemirror_mode": {
    "name": "ipython",
    "version": 3
   },
   "file_extension": ".py",
   "mimetype": "text/x-python",
   "name": "python",
   "nbconvert_exporter": "python",
   "pygments_lexer": "ipython3",
   "version": "3.11.9"
  }
 },
 "nbformat": 4,
 "nbformat_minor": 0
}
