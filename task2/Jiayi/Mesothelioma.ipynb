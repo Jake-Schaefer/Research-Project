{
 "cells": [
  {
   "cell_type": "markdown",
   "metadata": {
    "collapsed": false
   },
   "source": [
    "# 1. Basic setup"
   ]
  },
  {
   "cell_type": "code",
   "execution_count": 1,
   "metadata": {
    "ExecuteTime": {
     "end_time": "2024-02-27T00:22:19.918139380Z",
     "start_time": "2024-02-27T00:22:19.235047906Z"
    },
    "collapsed": false
   },
   "outputs": [
    {
     "name": "stdout",
     "output_type": "stream",
     "text": [
      "utils.py has been loaded\n"
     ]
    }
   ],
   "source": [
    "import os\n",
    "import sys\n",
    "\n",
    "sys.path.append('..')\n",
    "from utils import *\n",
    "\n",
    "USER = \"Jiayi\"\n",
    "DATA_ROOT = '/Users/legion/Desktop/Courses/IS389/data'   \n",
    "OUTPUT_ROOT = '/Users/legion/Desktop/Courses/IS389/output2'\n",
    "TRAIT = 'Mesothelioma'\n",
    "\n",
    "OUTPUT_DIR = os.path.join(OUTPUT_ROOT, USER, '-'.join(TRAIT.split()))\n",
    "JSON_PATH = os.path.join(OUTPUT_DIR, \"cohort_info.json\")\n",
    "if not os.path.exists(OUTPUT_DIR):\n",
    "    os.makedirs(OUTPUT_DIR, exist_ok=True)\n"
   ]
  },
  {
   "cell_type": "markdown",
   "metadata": {
    "collapsed": false
   },
   "source": [
    "# 2. Data preprocessing and selection"
   ]
  },
  {
   "cell_type": "markdown",
   "metadata": {
    "collapsed": false
   },
   "source": [
    "## 2.1. The TCGA Xena dataset"
   ]
  },
  {
   "cell_type": "markdown",
   "metadata": {
    "collapsed": false
   },
   "source": [
    "In TCGA Xena, there is either zero or one cohort related to the trait. We search the names of subdirectories to see if any matches the trait. If a match is found, we directly obtain the file paths."
   ]
  },
  {
   "cell_type": "code",
   "execution_count": 2,
   "metadata": {
    "ExecuteTime": {
     "end_time": "2024-02-27T00:22:21.140790869Z",
     "start_time": "2024-02-27T00:22:21.133208795Z"
    },
    "collapsed": false
   },
   "outputs": [
    {
     "data": {
      "text/plain": [
       "['TCGA_Adrenocortical_Cancer_(ACC)',\n",
       " 'TCGA_Breast_Cancer_(BRCA)',\n",
       " 'TCGA_Cervical_Cancer_(CESC)',\n",
       " 'TCGA_Kidney_Chromophobe_(KICH)',\n",
       " 'TCGA_Kidney_Papillary_Cell_Carcinoma_(KIRP)',\n",
       " 'TCGA_Lower_Grade_Glioma_(LGG)',\n",
       " 'TCGA_Melanoma_(SKCM)',\n",
       " 'TCGA_Mesothelioma_(MESO)',\n",
       " 'TCGA_Testicular_Cancer_(TGCT)',\n",
       " 'TCGA_Uterine_Carcinosarcoma_(UCS)']"
      ]
     },
     "execution_count": 2,
     "metadata": {},
     "output_type": "execute_result"
    }
   ],
   "source": [
    "dataset = 'TCGA'\n",
    "dataset_dir = os.path.join(DATA_ROOT, dataset)\n",
    "os.listdir(dataset_dir)[:10]"
   ]
  },
  {
   "cell_type": "code",
   "execution_count": 3,
   "metadata": {
    "ExecuteTime": {
     "end_time": "2024-02-27T00:22:21.985144212Z",
     "start_time": "2024-02-27T00:22:21.981084968Z"
    },
    "collapsed": false
   },
   "outputs": [
    {
     "data": {
      "text/plain": [
       "('/Users/legion/Desktop/Courses/IS389/data\\\\TCGA\\\\TCGA_Mesothelioma_(MESO)\\\\TCGA.MESO.sampleMap_MESO_clinicalMatrix',\n",
       " '/Users/legion/Desktop/Courses/IS389/data\\\\TCGA\\\\TCGA_Mesothelioma_(MESO)\\\\TCGA.MESO.sampleMap_HiSeqV2_PANCAN.gz')"
      ]
     },
     "execution_count": 3,
     "metadata": {},
     "output_type": "execute_result"
    }
   ],
   "source": [
    "trait_subdir = \"TCGA_Mesothelioma_(MESO)\"\n",
    "cohort = 'Xena'\n",
    "trait_type = 'binary'\n",
    "is_available = True\n",
    "\n",
    "cohort_dir = os.path.join(DATA_ROOT, dataset, trait_subdir)\n",
    "clinical_data_file, genetic_data_file = xena_get_relevant_filepaths(cohort_dir)\n",
    "clinical_data_file, genetic_data_file"
   ]
  },
  {
   "cell_type": "code",
   "execution_count": 4,
   "metadata": {
    "ExecuteTime": {
     "end_time": "2024-02-27T00:22:25.794819905Z",
     "start_time": "2024-02-27T00:22:22.357077391Z"
    },
    "id": "MudwB-_iz7sc"
   },
   "outputs": [],
   "source": [
    "import pandas as pd\n",
    "\n",
    "clinical_data = pd.read_csv(clinical_data_file, sep='\\t', index_col=0)\n",
    "genetic_data = pd.read_csv(genetic_data_file, compression='gzip', sep='\\t', index_col=0)\n",
    "age_col = gender_col = None"
   ]
  },
  {
   "cell_type": "code",
   "execution_count": 5,
   "metadata": {
    "ExecuteTime": {
     "end_time": "2024-02-27T00:22:25.798785383Z",
     "start_time": "2024-02-27T00:22:25.796474039Z"
    },
    "collapsed": false
   },
   "outputs": [
    {
     "data": {
      "text/plain": [
       "['_INTEGRATION',\n",
       " '_PATIENT',\n",
       " '_cohort',\n",
       " '_primary_disease',\n",
       " '_primary_site',\n",
       " 'additional_pharmaceutical_therapy',\n",
       " 'additional_radiation_therapy',\n",
       " 'age_at_initial_pathologic_diagnosis',\n",
       " 'asbestos_exposure_age',\n",
       " 'asbestos_exposure_age_last']"
      ]
     },
     "execution_count": 5,
     "metadata": {},
     "output_type": "execute_result"
    }
   ],
   "source": [
    "_, clinical_data_cols = check_rows_and_columns(clinical_data)\n",
    "clinical_data_cols[:10]"
   ]
  },
  {
   "cell_type": "markdown",
   "metadata": {
    "ExecuteTime": {
     "end_time": "2023-12-28T20:20:11.841042813Z",
     "start_time": "2023-12-28T20:20:11.834458206Z"
    },
    "collapsed": false
   },
   "source": [
    "Read all the column names in the clinical dataset, to find the columns that record information about age or gender.\n",
    "Reference prompt:"
   ]
  },
  {
   "cell_type": "code",
   "execution_count": 6,
   "metadata": {
    "ExecuteTime": {
     "end_time": "2024-02-27T00:22:25.802838875Z",
     "start_time": "2024-02-27T00:22:25.798659327Z"
    },
    "collapsed": false
   },
   "outputs": [
    {
     "data": {
      "text/plain": [
       "\"\\nBelow is a list of column names from a biomedical dataset. Please examine it and identify the columns that are likely to contain information about patients' age. Additionally, please do the same for columns that may hold data on patients' gender. Please provide your answer by strictly following this format, without redundant words:\\ncandidate_age_cols = [col_name1, col_name2, ...]\\ncandidate_gender_cols = [col_name1, col_name2, ...]\\nIf no columns match a criterion, please provide an empty list.\\n\\nColumn names:\\n['_INTEGRATION', '_PATIENT', '_cohort', '_primary_disease', '_primary_site', 'additional_pharmaceutical_therapy', 'additional_radiation_therapy', 'age_at_initial_pathologic_diagnosis', 'asbestos_exposure_age', 'asbestos_exposure_age_last', 'asbestos_exposure_source', 'asbestos_exposure_type', 'asbestos_exposure_years', 'assessment_timepoint_category', 'bcr_followup_barcode', 'bcr_patient_barcode', 'bcr_sample_barcode', 'creatinine_norm_range_lower', 'creatinine_norm_range_upper', 'creatinine_prior_tx', 'days_to_birth', 'days_to_collection', 'days_to_death', 'days_to_initial_pathologic_diagnosis', 'days_to_last_followup', 'days_to_new_tumor_event_after_initial_treatment', 'eastern_cancer_oncology_group', 'family_history_cancer_type', 'family_history_cancer_type_other', 'family_member_relationship_type', 'form_completion_date', 'gender', 'histological_type', 'history_asbestos_exposure', 'history_of_neoadjuvant_treatment', 'icd_10', 'icd_o_3_histology', 'icd_o_3_site', 'informed_consent_verified', 'initial_weight', 'is_ffpe', 'karnofsky_performance_score', 'laterality', 'lost_follow_up', 'mesothelioma_detection_method', 'new_neoplasm_event_occurrence_anatomic_site', 'new_neoplasm_event_type', 'new_neoplasm_occurrence_anatomic_site_text', 'new_tumor_event_additional_surgery_procedure', 'new_tumor_event_after_initial_treatment', 'oct_embedded', 'other_dx', 'pathologic_M', 'pathologic_N', 'pathologic_T', 'pathologic_stage', 'pathology_report_file_name', 'patient_id', 'performance_status_scale_timing', 'person_neoplasm_cancer_status', 'person_occupation_years_number', 'pleurodesis_performed', 'pleurodesis_performed_90_days', 'postoperative_rx_tx', 'primary_occupation', 'primary_occupation_other', 'radiation_therapy', 'residual_tumor', 'sample_type', 'sample_type_id', 'serum_mesothelin_lower_limit', 'serum_mesothelin_prior_tx', 'serum_mesothelin_upper_limit', 'suv_of_pleura_max', 'system_version', 'tissue_prospective_collection_indicator', 'tissue_retrospective_collection_indicator', 'tissue_source_site', 'tumor_tissue_site', 'vial_number', 'vital_status', 'year_of_initial_pathologic_diagnosis', '_GENOMIC_ID_TCGA_MESO_PDMRNAseq', '_GENOMIC_ID_data/public/TCGA/MESO/miRNA_HiSeq_gene', '_GENOMIC_ID_TCGA_MESO_exp_HiSeqV2_exon', '_GENOMIC_ID_TCGA_MESO_mutation_broad_gene', '_GENOMIC_ID_TCGA_MESO_mutation_bcgsc_gene', '_GENOMIC_ID_TCGA_MESO_exp_HiSeqV2_percentile', '_GENOMIC_ID_TCGA_MESO_RPPA', '_GENOMIC_ID_TCGA_MESO_gistic2', '_GENOMIC_ID_TCGA_MESO_exp_HiSeqV2_PANCAN', '_GENOMIC_ID_TCGA_MESO_miRNA_HiSeq', '_GENOMIC_ID_TCGA_MESO_exp_HiSeqV2', '_GENOMIC_ID_TCGA_MESO_PDMRNAseqCNV', '_GENOMIC_ID_TCGA_MESO_gistic2thd', '_GENOMIC_ID_TCGA_MESO_hMethyl450']\\n\""
      ]
     },
     "execution_count": 6,
     "metadata": {},
     "output_type": "execute_result"
    }
   ],
   "source": [
    "f'''\n",
    "Below is a list of column names from a biomedical dataset. Please examine it and identify the columns that are likely to contain information about patients' age. Additionally, please do the same for columns that may hold data on patients' gender. Please provide your answer by strictly following this format, without redundant words:\n",
    "candidate_age_cols = [col_name1, col_name2, ...]\n",
    "candidate_gender_cols = [col_name1, col_name2, ...]\n",
    "If no columns match a criterion, please provide an empty list.\n",
    "\n",
    "Column names:\n",
    "{clinical_data_cols}\n",
    "'''"
   ]
  },
  {
   "cell_type": "code",
   "execution_count": 7,
   "metadata": {
    "ExecuteTime": {
     "end_time": "2024-02-27T00:22:25.864092575Z",
     "start_time": "2024-02-27T00:22:25.802001989Z"
    },
    "collapsed": false
   },
   "outputs": [],
   "source": [
    "candidate_age_cols = ['age_at_initial_pathologic_diagnosis']\n",
    "candidate_gender_cols = ['gender']"
   ]
  },
  {
   "cell_type": "markdown",
   "metadata": {
    "ExecuteTime": {
     "end_time": "2023-12-31T03:57:44.207565572Z",
     "start_time": "2023-12-31T03:57:44.202177544Z"
    },
    "collapsed": false
   },
   "source": [
    "\n",
    "Choose a single column from the candidate columns that record age and gender information respectively.\n",
    "If no column meets the requirement, keep 'age_col' or 'gender_col' to None"
   ]
  },
  {
   "cell_type": "code",
   "execution_count": 8,
   "metadata": {
    "ExecuteTime": {
     "end_time": "2024-02-27T00:22:26.108535524Z",
     "start_time": "2024-02-27T00:22:26.101435803Z"
    },
    "collapsed": false
   },
   "outputs": [],
   "source": [
    "age_col = 'age_at_initial_pathologic_diagnosis'\n",
    "gender_col = 'gender'\n",
    "selected_clinical_data = xena_select_clinical_features(clinical_data, TRAIT, age_col=age_col, gender_col=gender_col)"
   ]
  },
  {
   "cell_type": "code",
   "execution_count": 9,
   "metadata": {
    "ExecuteTime": {
     "end_time": "2024-02-27T00:23:16.602458026Z",
     "start_time": "2024-02-27T00:22:27.839636769Z"
    },
    "collapsed": false
   },
   "outputs": [],
   "source": [
    "genetic_data = normalize_gene_symbols_in_index(genetic_data)"
   ]
  },
  {
   "cell_type": "code",
   "execution_count": 10,
   "metadata": {},
   "outputs": [
    {
     "data": {
      "text/html": [
       "<div>\n",
       "<style scoped>\n",
       "    .dataframe tbody tr th:only-of-type {\n",
       "        vertical-align: middle;\n",
       "    }\n",
       "\n",
       "    .dataframe tbody tr th {\n",
       "        vertical-align: top;\n",
       "    }\n",
       "\n",
       "    .dataframe thead th {\n",
       "        text-align: right;\n",
       "    }\n",
       "</style>\n",
       "<table border=\"1\" class=\"dataframe\">\n",
       "  <thead>\n",
       "    <tr style=\"text-align: right;\">\n",
       "      <th></th>\n",
       "      <th>TCGA-SH-A7BC-01</th>\n",
       "      <th>TCGA-LK-A4NY-01</th>\n",
       "      <th>TCGA-3H-AB3L-01</th>\n",
       "      <th>TCGA-3U-A98F-01</th>\n",
       "      <th>TCGA-NQ-A638-01</th>\n",
       "      <th>TCGA-MQ-A6BS-01</th>\n",
       "      <th>TCGA-ZN-A9VV-01</th>\n",
       "      <th>TCGA-3H-AB3X-01</th>\n",
       "      <th>TCGA-3U-A98G-01</th>\n",
       "      <th>TCGA-TS-A7PB-01</th>\n",
       "      <th>...</th>\n",
       "      <th>TCGA-YS-A95C-01</th>\n",
       "      <th>TCGA-MQ-A4LM-01</th>\n",
       "      <th>TCGA-3H-AB3T-01</th>\n",
       "      <th>TCGA-UT-A88D-01</th>\n",
       "      <th>TCGA-MQ-A4KX-01</th>\n",
       "      <th>TCGA-3U-A98I-01</th>\n",
       "      <th>TCGA-TS-A7OU-01</th>\n",
       "      <th>TCGA-LK-A4O6-01</th>\n",
       "      <th>TCGA-TS-A7P7-01</th>\n",
       "      <th>TCGA-ZN-A9VW-01</th>\n",
       "    </tr>\n",
       "  </thead>\n",
       "  <tbody>\n",
       "    <tr>\n",
       "      <th>ARHGEF10L</th>\n",
       "      <td>-0.566692</td>\n",
       "      <td>-1.148192</td>\n",
       "      <td>0.200408</td>\n",
       "      <td>-2.360992</td>\n",
       "      <td>-0.098292</td>\n",
       "      <td>-0.386092</td>\n",
       "      <td>-1.352492</td>\n",
       "      <td>0.503108</td>\n",
       "      <td>-0.662192</td>\n",
       "      <td>-1.328692</td>\n",
       "      <td>...</td>\n",
       "      <td>-0.833992</td>\n",
       "      <td>-1.056392</td>\n",
       "      <td>-0.505092</td>\n",
       "      <td>-0.207492</td>\n",
       "      <td>0.072908</td>\n",
       "      <td>-0.578292</td>\n",
       "      <td>0.354308</td>\n",
       "      <td>-0.479092</td>\n",
       "      <td>-1.472692</td>\n",
       "      <td>-0.856492</td>\n",
       "    </tr>\n",
       "    <tr>\n",
       "      <th>HIF3A</th>\n",
       "      <td>-3.993126</td>\n",
       "      <td>-0.560126</td>\n",
       "      <td>-4.117426</td>\n",
       "      <td>2.860974</td>\n",
       "      <td>-1.254426</td>\n",
       "      <td>-1.119526</td>\n",
       "      <td>1.532374</td>\n",
       "      <td>-1.579526</td>\n",
       "      <td>-0.520126</td>\n",
       "      <td>-1.517626</td>\n",
       "      <td>...</td>\n",
       "      <td>-3.770726</td>\n",
       "      <td>-2.890926</td>\n",
       "      <td>-5.554726</td>\n",
       "      <td>-0.867826</td>\n",
       "      <td>-2.518126</td>\n",
       "      <td>-1.904426</td>\n",
       "      <td>-3.805626</td>\n",
       "      <td>0.799274</td>\n",
       "      <td>3.710074</td>\n",
       "      <td>-0.225026</td>\n",
       "    </tr>\n",
       "    <tr>\n",
       "      <th>RNF17</th>\n",
       "      <td>-0.124735</td>\n",
       "      <td>-0.531035</td>\n",
       "      <td>-0.531035</td>\n",
       "      <td>-0.055435</td>\n",
       "      <td>-0.047735</td>\n",
       "      <td>0.034365</td>\n",
       "      <td>-0.531035</td>\n",
       "      <td>-0.531035</td>\n",
       "      <td>-0.531035</td>\n",
       "      <td>-0.531035</td>\n",
       "      <td>...</td>\n",
       "      <td>0.620765</td>\n",
       "      <td>-0.531035</td>\n",
       "      <td>-0.531035</td>\n",
       "      <td>1.192765</td>\n",
       "      <td>-0.531035</td>\n",
       "      <td>-0.531035</td>\n",
       "      <td>-0.531035</td>\n",
       "      <td>-0.531035</td>\n",
       "      <td>-0.531035</td>\n",
       "      <td>-0.531035</td>\n",
       "    </tr>\n",
       "    <tr>\n",
       "      <th>RNF10</th>\n",
       "      <td>0.743328</td>\n",
       "      <td>0.631928</td>\n",
       "      <td>0.786128</td>\n",
       "      <td>0.011228</td>\n",
       "      <td>0.930628</td>\n",
       "      <td>0.492728</td>\n",
       "      <td>0.161328</td>\n",
       "      <td>0.271728</td>\n",
       "      <td>-0.002872</td>\n",
       "      <td>0.686128</td>\n",
       "      <td>...</td>\n",
       "      <td>1.299528</td>\n",
       "      <td>-0.037572</td>\n",
       "      <td>0.036928</td>\n",
       "      <td>-0.110272</td>\n",
       "      <td>1.019828</td>\n",
       "      <td>0.159728</td>\n",
       "      <td>1.244628</td>\n",
       "      <td>0.156228</td>\n",
       "      <td>0.730128</td>\n",
       "      <td>0.141428</td>\n",
       "    </tr>\n",
       "    <tr>\n",
       "      <th>RNF11</th>\n",
       "      <td>0.085322</td>\n",
       "      <td>-0.046578</td>\n",
       "      <td>-0.033878</td>\n",
       "      <td>-0.855678</td>\n",
       "      <td>-0.103878</td>\n",
       "      <td>0.332522</td>\n",
       "      <td>0.252122</td>\n",
       "      <td>-0.106878</td>\n",
       "      <td>0.498622</td>\n",
       "      <td>0.189322</td>\n",
       "      <td>...</td>\n",
       "      <td>-0.638678</td>\n",
       "      <td>-0.081278</td>\n",
       "      <td>-0.100678</td>\n",
       "      <td>0.005822</td>\n",
       "      <td>-0.070778</td>\n",
       "      <td>0.338022</td>\n",
       "      <td>0.530122</td>\n",
       "      <td>-0.568078</td>\n",
       "      <td>0.219122</td>\n",
       "      <td>0.302922</td>\n",
       "    </tr>\n",
       "    <tr>\n",
       "      <th>...</th>\n",
       "      <td>...</td>\n",
       "      <td>...</td>\n",
       "      <td>...</td>\n",
       "      <td>...</td>\n",
       "      <td>...</td>\n",
       "      <td>...</td>\n",
       "      <td>...</td>\n",
       "      <td>...</td>\n",
       "      <td>...</td>\n",
       "      <td>...</td>\n",
       "      <td>...</td>\n",
       "      <td>...</td>\n",
       "      <td>...</td>\n",
       "      <td>...</td>\n",
       "      <td>...</td>\n",
       "      <td>...</td>\n",
       "      <td>...</td>\n",
       "      <td>...</td>\n",
       "      <td>...</td>\n",
       "      <td>...</td>\n",
       "      <td>...</td>\n",
       "    </tr>\n",
       "    <tr>\n",
       "      <th>GNGT1</th>\n",
       "      <td>-1.281390</td>\n",
       "      <td>1.454410</td>\n",
       "      <td>-0.390690</td>\n",
       "      <td>2.342010</td>\n",
       "      <td>2.171210</td>\n",
       "      <td>-0.715990</td>\n",
       "      <td>0.100810</td>\n",
       "      <td>0.254810</td>\n",
       "      <td>-1.281390</td>\n",
       "      <td>-1.281390</td>\n",
       "      <td>...</td>\n",
       "      <td>-1.281390</td>\n",
       "      <td>-1.281390</td>\n",
       "      <td>-1.281390</td>\n",
       "      <td>1.475110</td>\n",
       "      <td>-1.281390</td>\n",
       "      <td>-1.281390</td>\n",
       "      <td>-0.611990</td>\n",
       "      <td>-1.281390</td>\n",
       "      <td>-1.281390</td>\n",
       "      <td>-1.281390</td>\n",
       "    </tr>\n",
       "    <tr>\n",
       "      <th>TULP3</th>\n",
       "      <td>0.134123</td>\n",
       "      <td>0.154123</td>\n",
       "      <td>0.113323</td>\n",
       "      <td>1.073923</td>\n",
       "      <td>-0.391177</td>\n",
       "      <td>0.763823</td>\n",
       "      <td>0.077423</td>\n",
       "      <td>-0.024977</td>\n",
       "      <td>0.468523</td>\n",
       "      <td>-0.419677</td>\n",
       "      <td>...</td>\n",
       "      <td>-0.209177</td>\n",
       "      <td>0.134323</td>\n",
       "      <td>-1.045577</td>\n",
       "      <td>0.414723</td>\n",
       "      <td>-0.498677</td>\n",
       "      <td>0.493123</td>\n",
       "      <td>-0.536977</td>\n",
       "      <td>0.235023</td>\n",
       "      <td>0.834123</td>\n",
       "      <td>0.455123</td>\n",
       "    </tr>\n",
       "    <tr>\n",
       "      <th>BCL6B</th>\n",
       "      <td>-0.633227</td>\n",
       "      <td>-1.092527</td>\n",
       "      <td>0.166873</td>\n",
       "      <td>-0.200927</td>\n",
       "      <td>-1.125027</td>\n",
       "      <td>-1.323527</td>\n",
       "      <td>-2.129627</td>\n",
       "      <td>-1.716927</td>\n",
       "      <td>3.365873</td>\n",
       "      <td>-1.964427</td>\n",
       "      <td>...</td>\n",
       "      <td>-1.842127</td>\n",
       "      <td>1.431473</td>\n",
       "      <td>1.057773</td>\n",
       "      <td>0.249673</td>\n",
       "      <td>-1.179527</td>\n",
       "      <td>1.599373</td>\n",
       "      <td>-0.951527</td>\n",
       "      <td>0.721473</td>\n",
       "      <td>1.862473</td>\n",
       "      <td>0.223173</td>\n",
       "    </tr>\n",
       "    <tr>\n",
       "      <th>GSTK1</th>\n",
       "      <td>0.519305</td>\n",
       "      <td>0.420705</td>\n",
       "      <td>0.070905</td>\n",
       "      <td>-0.438495</td>\n",
       "      <td>0.260005</td>\n",
       "      <td>0.039505</td>\n",
       "      <td>-0.650595</td>\n",
       "      <td>0.232705</td>\n",
       "      <td>-0.073595</td>\n",
       "      <td>0.885805</td>\n",
       "      <td>...</td>\n",
       "      <td>0.577505</td>\n",
       "      <td>0.401905</td>\n",
       "      <td>0.222905</td>\n",
       "      <td>-0.274595</td>\n",
       "      <td>0.420605</td>\n",
       "      <td>-0.354695</td>\n",
       "      <td>0.629005</td>\n",
       "      <td>0.526505</td>\n",
       "      <td>-0.112595</td>\n",
       "      <td>-0.243395</td>\n",
       "    </tr>\n",
       "    <tr>\n",
       "      <th>SELP</th>\n",
       "      <td>1.216667</td>\n",
       "      <td>2.621967</td>\n",
       "      <td>0.942767</td>\n",
       "      <td>0.941467</td>\n",
       "      <td>0.033967</td>\n",
       "      <td>0.866967</td>\n",
       "      <td>1.811467</td>\n",
       "      <td>3.840567</td>\n",
       "      <td>1.227867</td>\n",
       "      <td>1.415167</td>\n",
       "      <td>...</td>\n",
       "      <td>1.880667</td>\n",
       "      <td>2.049467</td>\n",
       "      <td>0.964667</td>\n",
       "      <td>4.050567</td>\n",
       "      <td>3.083567</td>\n",
       "      <td>2.327567</td>\n",
       "      <td>-0.204833</td>\n",
       "      <td>2.945267</td>\n",
       "      <td>1.602767</td>\n",
       "      <td>0.003267</td>\n",
       "    </tr>\n",
       "  </tbody>\n",
       "</table>\n",
       "<p>17339 rows × 87 columns</p>\n",
       "</div>"
      ],
      "text/plain": [
       "           TCGA-SH-A7BC-01  TCGA-LK-A4NY-01  TCGA-3H-AB3L-01  TCGA-3U-A98F-01  \\\n",
       "ARHGEF10L        -0.566692        -1.148192         0.200408        -2.360992   \n",
       "HIF3A            -3.993126        -0.560126        -4.117426         2.860974   \n",
       "RNF17            -0.124735        -0.531035        -0.531035        -0.055435   \n",
       "RNF10             0.743328         0.631928         0.786128         0.011228   \n",
       "RNF11             0.085322        -0.046578        -0.033878        -0.855678   \n",
       "...                    ...              ...              ...              ...   \n",
       "GNGT1            -1.281390         1.454410        -0.390690         2.342010   \n",
       "TULP3             0.134123         0.154123         0.113323         1.073923   \n",
       "BCL6B            -0.633227        -1.092527         0.166873        -0.200927   \n",
       "GSTK1             0.519305         0.420705         0.070905        -0.438495   \n",
       "SELP              1.216667         2.621967         0.942767         0.941467   \n",
       "\n",
       "           TCGA-NQ-A638-01  TCGA-MQ-A6BS-01  TCGA-ZN-A9VV-01  TCGA-3H-AB3X-01  \\\n",
       "ARHGEF10L        -0.098292        -0.386092        -1.352492         0.503108   \n",
       "HIF3A            -1.254426        -1.119526         1.532374        -1.579526   \n",
       "RNF17            -0.047735         0.034365        -0.531035        -0.531035   \n",
       "RNF10             0.930628         0.492728         0.161328         0.271728   \n",
       "RNF11            -0.103878         0.332522         0.252122        -0.106878   \n",
       "...                    ...              ...              ...              ...   \n",
       "GNGT1             2.171210        -0.715990         0.100810         0.254810   \n",
       "TULP3            -0.391177         0.763823         0.077423        -0.024977   \n",
       "BCL6B            -1.125027        -1.323527        -2.129627        -1.716927   \n",
       "GSTK1             0.260005         0.039505        -0.650595         0.232705   \n",
       "SELP              0.033967         0.866967         1.811467         3.840567   \n",
       "\n",
       "           TCGA-3U-A98G-01  TCGA-TS-A7PB-01  ...  TCGA-YS-A95C-01  \\\n",
       "ARHGEF10L        -0.662192        -1.328692  ...        -0.833992   \n",
       "HIF3A            -0.520126        -1.517626  ...        -3.770726   \n",
       "RNF17            -0.531035        -0.531035  ...         0.620765   \n",
       "RNF10            -0.002872         0.686128  ...         1.299528   \n",
       "RNF11             0.498622         0.189322  ...        -0.638678   \n",
       "...                    ...              ...  ...              ...   \n",
       "GNGT1            -1.281390        -1.281390  ...        -1.281390   \n",
       "TULP3             0.468523        -0.419677  ...        -0.209177   \n",
       "BCL6B             3.365873        -1.964427  ...        -1.842127   \n",
       "GSTK1            -0.073595         0.885805  ...         0.577505   \n",
       "SELP              1.227867         1.415167  ...         1.880667   \n",
       "\n",
       "           TCGA-MQ-A4LM-01  TCGA-3H-AB3T-01  TCGA-UT-A88D-01  TCGA-MQ-A4KX-01  \\\n",
       "ARHGEF10L        -1.056392        -0.505092        -0.207492         0.072908   \n",
       "HIF3A            -2.890926        -5.554726        -0.867826        -2.518126   \n",
       "RNF17            -0.531035        -0.531035         1.192765        -0.531035   \n",
       "RNF10            -0.037572         0.036928        -0.110272         1.019828   \n",
       "RNF11            -0.081278        -0.100678         0.005822        -0.070778   \n",
       "...                    ...              ...              ...              ...   \n",
       "GNGT1            -1.281390        -1.281390         1.475110        -1.281390   \n",
       "TULP3             0.134323        -1.045577         0.414723        -0.498677   \n",
       "BCL6B             1.431473         1.057773         0.249673        -1.179527   \n",
       "GSTK1             0.401905         0.222905        -0.274595         0.420605   \n",
       "SELP              2.049467         0.964667         4.050567         3.083567   \n",
       "\n",
       "           TCGA-3U-A98I-01  TCGA-TS-A7OU-01  TCGA-LK-A4O6-01  TCGA-TS-A7P7-01  \\\n",
       "ARHGEF10L        -0.578292         0.354308        -0.479092        -1.472692   \n",
       "HIF3A            -1.904426        -3.805626         0.799274         3.710074   \n",
       "RNF17            -0.531035        -0.531035        -0.531035        -0.531035   \n",
       "RNF10             0.159728         1.244628         0.156228         0.730128   \n",
       "RNF11             0.338022         0.530122        -0.568078         0.219122   \n",
       "...                    ...              ...              ...              ...   \n",
       "GNGT1            -1.281390        -0.611990        -1.281390        -1.281390   \n",
       "TULP3             0.493123        -0.536977         0.235023         0.834123   \n",
       "BCL6B             1.599373        -0.951527         0.721473         1.862473   \n",
       "GSTK1            -0.354695         0.629005         0.526505        -0.112595   \n",
       "SELP              2.327567        -0.204833         2.945267         1.602767   \n",
       "\n",
       "           TCGA-ZN-A9VW-01  \n",
       "ARHGEF10L        -0.856492  \n",
       "HIF3A            -0.225026  \n",
       "RNF17            -0.531035  \n",
       "RNF10             0.141428  \n",
       "RNF11             0.302922  \n",
       "...                    ...  \n",
       "GNGT1            -1.281390  \n",
       "TULP3             0.455123  \n",
       "BCL6B             0.223173  \n",
       "GSTK1            -0.243395  \n",
       "SELP              0.003267  \n",
       "\n",
       "[17339 rows x 87 columns]"
      ]
     },
     "execution_count": 10,
     "metadata": {},
     "output_type": "execute_result"
    }
   ],
   "source": [
    "genetic_data"
   ]
  },
  {
   "cell_type": "code",
   "execution_count": 11,
   "metadata": {
    "ExecuteTime": {
     "end_time": "2024-02-27T00:23:16.720144304Z",
     "start_time": "2024-02-27T00:23:16.643071320Z"
    },
    "collapsed": false
   },
   "outputs": [
    {
     "data": {
      "text/html": [
       "<div>\n",
       "<style scoped>\n",
       "    .dataframe tbody tr th:only-of-type {\n",
       "        vertical-align: middle;\n",
       "    }\n",
       "\n",
       "    .dataframe tbody tr th {\n",
       "        vertical-align: top;\n",
       "    }\n",
       "\n",
       "    .dataframe thead th {\n",
       "        text-align: right;\n",
       "    }\n",
       "</style>\n",
       "<table border=\"1\" class=\"dataframe\">\n",
       "  <thead>\n",
       "    <tr style=\"text-align: right;\">\n",
       "      <th></th>\n",
       "      <th>Mesothelioma</th>\n",
       "      <th>Age</th>\n",
       "      <th>Gender</th>\n",
       "      <th>ARHGEF10L</th>\n",
       "      <th>HIF3A</th>\n",
       "      <th>RNF17</th>\n",
       "      <th>RNF10</th>\n",
       "      <th>RNF11</th>\n",
       "      <th>RNF13</th>\n",
       "      <th>GTF2IP1</th>\n",
       "      <th>...</th>\n",
       "      <th>SLC7A10</th>\n",
       "      <th>PLA2G2C</th>\n",
       "      <th>TULP2</th>\n",
       "      <th>NPY5R</th>\n",
       "      <th>GNGT2</th>\n",
       "      <th>GNGT1</th>\n",
       "      <th>TULP3</th>\n",
       "      <th>BCL6B</th>\n",
       "      <th>GSTK1</th>\n",
       "      <th>SELP</th>\n",
       "    </tr>\n",
       "    <tr>\n",
       "      <th>sampleID</th>\n",
       "      <th></th>\n",
       "      <th></th>\n",
       "      <th></th>\n",
       "      <th></th>\n",
       "      <th></th>\n",
       "      <th></th>\n",
       "      <th></th>\n",
       "      <th></th>\n",
       "      <th></th>\n",
       "      <th></th>\n",
       "      <th></th>\n",
       "      <th></th>\n",
       "      <th></th>\n",
       "      <th></th>\n",
       "      <th></th>\n",
       "      <th></th>\n",
       "      <th></th>\n",
       "      <th></th>\n",
       "      <th></th>\n",
       "      <th></th>\n",
       "      <th></th>\n",
       "    </tr>\n",
       "  </thead>\n",
       "  <tbody>\n",
       "    <tr>\n",
       "      <th>TCGA-3H-AB3K-01</th>\n",
       "      <td>1</td>\n",
       "      <td>64</td>\n",
       "      <td>1</td>\n",
       "      <td>0.160908</td>\n",
       "      <td>-3.157426</td>\n",
       "      <td>-0.531035</td>\n",
       "      <td>0.483128</td>\n",
       "      <td>-0.152778</td>\n",
       "      <td>0.65969</td>\n",
       "      <td>0.001606</td>\n",
       "      <td>...</td>\n",
       "      <td>-0.068986</td>\n",
       "      <td>-0.086682</td>\n",
       "      <td>-0.061978</td>\n",
       "      <td>-0.900217</td>\n",
       "      <td>0.803567</td>\n",
       "      <td>-1.28139</td>\n",
       "      <td>-0.551677</td>\n",
       "      <td>-2.035927</td>\n",
       "      <td>0.175405</td>\n",
       "      <td>0.164067</td>\n",
       "    </tr>\n",
       "    <tr>\n",
       "      <th>TCGA-3H-AB3L-01</th>\n",
       "      <td>1</td>\n",
       "      <td>60</td>\n",
       "      <td>1</td>\n",
       "      <td>0.200408</td>\n",
       "      <td>-4.117426</td>\n",
       "      <td>-0.531035</td>\n",
       "      <td>0.786128</td>\n",
       "      <td>-0.033878</td>\n",
       "      <td>0.10959</td>\n",
       "      <td>-0.456594</td>\n",
       "      <td>...</td>\n",
       "      <td>-1.573486</td>\n",
       "      <td>-0.086682</td>\n",
       "      <td>-0.748878</td>\n",
       "      <td>-1.074117</td>\n",
       "      <td>0.139267</td>\n",
       "      <td>-0.39069</td>\n",
       "      <td>0.113323</td>\n",
       "      <td>0.166873</td>\n",
       "      <td>0.070905</td>\n",
       "      <td>0.942767</td>\n",
       "    </tr>\n",
       "    <tr>\n",
       "      <th>TCGA-3H-AB3M-01</th>\n",
       "      <td>1</td>\n",
       "      <td>53</td>\n",
       "      <td>0</td>\n",
       "      <td>-1.009592</td>\n",
       "      <td>-2.663326</td>\n",
       "      <td>-0.068835</td>\n",
       "      <td>0.828928</td>\n",
       "      <td>-0.737678</td>\n",
       "      <td>0.77649</td>\n",
       "      <td>-0.002594</td>\n",
       "      <td>...</td>\n",
       "      <td>1.636814</td>\n",
       "      <td>-0.086682</td>\n",
       "      <td>0.062822</td>\n",
       "      <td>-1.124917</td>\n",
       "      <td>0.242467</td>\n",
       "      <td>-0.46969</td>\n",
       "      <td>0.307823</td>\n",
       "      <td>-1.703127</td>\n",
       "      <td>-0.213695</td>\n",
       "      <td>1.932667</td>\n",
       "    </tr>\n",
       "    <tr>\n",
       "      <th>TCGA-3H-AB3O-01</th>\n",
       "      <td>1</td>\n",
       "      <td>58</td>\n",
       "      <td>1</td>\n",
       "      <td>-0.147492</td>\n",
       "      <td>-2.266526</td>\n",
       "      <td>-0.531035</td>\n",
       "      <td>0.274528</td>\n",
       "      <td>-0.311878</td>\n",
       "      <td>0.31179</td>\n",
       "      <td>-1.012494</td>\n",
       "      <td>...</td>\n",
       "      <td>-0.528386</td>\n",
       "      <td>-0.086682</td>\n",
       "      <td>1.031722</td>\n",
       "      <td>0.384783</td>\n",
       "      <td>3.061667</td>\n",
       "      <td>-1.28139</td>\n",
       "      <td>-0.580077</td>\n",
       "      <td>0.947073</td>\n",
       "      <td>1.408105</td>\n",
       "      <td>2.816367</td>\n",
       "    </tr>\n",
       "    <tr>\n",
       "      <th>TCGA-3H-AB3S-01</th>\n",
       "      <td>1</td>\n",
       "      <td>69</td>\n",
       "      <td>1</td>\n",
       "      <td>0.282008</td>\n",
       "      <td>-2.042126</td>\n",
       "      <td>-0.531035</td>\n",
       "      <td>0.825228</td>\n",
       "      <td>-0.210878</td>\n",
       "      <td>0.07039</td>\n",
       "      <td>-0.070994</td>\n",
       "      <td>...</td>\n",
       "      <td>-2.090786</td>\n",
       "      <td>-0.086682</td>\n",
       "      <td>-0.748878</td>\n",
       "      <td>-1.587117</td>\n",
       "      <td>-0.441533</td>\n",
       "      <td>-1.28139</td>\n",
       "      <td>0.417023</td>\n",
       "      <td>-0.154627</td>\n",
       "      <td>-0.004295</td>\n",
       "      <td>-0.111033</td>\n",
       "    </tr>\n",
       "  </tbody>\n",
       "</table>\n",
       "<p>5 rows × 17342 columns</p>\n",
       "</div>"
      ],
      "text/plain": [
       "                 Mesothelioma  Age  Gender  ARHGEF10L     HIF3A     RNF17  \\\n",
       "sampleID                                                                    \n",
       "TCGA-3H-AB3K-01             1   64       1   0.160908 -3.157426 -0.531035   \n",
       "TCGA-3H-AB3L-01             1   60       1   0.200408 -4.117426 -0.531035   \n",
       "TCGA-3H-AB3M-01             1   53       0  -1.009592 -2.663326 -0.068835   \n",
       "TCGA-3H-AB3O-01             1   58       1  -0.147492 -2.266526 -0.531035   \n",
       "TCGA-3H-AB3S-01             1   69       1   0.282008 -2.042126 -0.531035   \n",
       "\n",
       "                    RNF10     RNF11    RNF13   GTF2IP1  ...   SLC7A10  \\\n",
       "sampleID                                                ...             \n",
       "TCGA-3H-AB3K-01  0.483128 -0.152778  0.65969  0.001606  ... -0.068986   \n",
       "TCGA-3H-AB3L-01  0.786128 -0.033878  0.10959 -0.456594  ... -1.573486   \n",
       "TCGA-3H-AB3M-01  0.828928 -0.737678  0.77649 -0.002594  ...  1.636814   \n",
       "TCGA-3H-AB3O-01  0.274528 -0.311878  0.31179 -1.012494  ... -0.528386   \n",
       "TCGA-3H-AB3S-01  0.825228 -0.210878  0.07039 -0.070994  ... -2.090786   \n",
       "\n",
       "                  PLA2G2C     TULP2     NPY5R     GNGT2    GNGT1     TULP3  \\\n",
       "sampleID                                                                     \n",
       "TCGA-3H-AB3K-01 -0.086682 -0.061978 -0.900217  0.803567 -1.28139 -0.551677   \n",
       "TCGA-3H-AB3L-01 -0.086682 -0.748878 -1.074117  0.139267 -0.39069  0.113323   \n",
       "TCGA-3H-AB3M-01 -0.086682  0.062822 -1.124917  0.242467 -0.46969  0.307823   \n",
       "TCGA-3H-AB3O-01 -0.086682  1.031722  0.384783  3.061667 -1.28139 -0.580077   \n",
       "TCGA-3H-AB3S-01 -0.086682 -0.748878 -1.587117 -0.441533 -1.28139  0.417023   \n",
       "\n",
       "                    BCL6B     GSTK1      SELP  \n",
       "sampleID                                       \n",
       "TCGA-3H-AB3K-01 -2.035927  0.175405  0.164067  \n",
       "TCGA-3H-AB3L-01  0.166873  0.070905  0.942767  \n",
       "TCGA-3H-AB3M-01 -1.703127 -0.213695  1.932667  \n",
       "TCGA-3H-AB3O-01  0.947073  1.408105  2.816367  \n",
       "TCGA-3H-AB3S-01 -0.154627 -0.004295 -0.111033  \n",
       "\n",
       "[5 rows x 17342 columns]"
      ]
     },
     "execution_count": 11,
     "metadata": {},
     "output_type": "execute_result"
    }
   ],
   "source": [
    "merged_data = selected_clinical_data.join(genetic_data.T).dropna()\n",
    "merged_data.head()"
   ]
  },
  {
   "cell_type": "code",
   "execution_count": 12,
   "metadata": {
    "ExecuteTime": {
     "end_time": "2024-02-27T00:23:16.731303752Z",
     "start_time": "2024-02-27T00:23:16.717316474Z"
    },
    "collapsed": false
   },
   "outputs": [
    {
     "name": "stdout",
     "output_type": "stream",
     "text": [
      "The merged dataset contains 87 samples.\n",
      "For the feature 'Mesothelioma', the least common label is '1' with 87 occurrences. This represents 100.00% of the dataset.\n",
      "The distribution of the feature 'Mesothelioma' in this dataset is severely biased.\n",
      "\n",
      "Quartiles for 'Age':\n",
      "  25%: 57.0\n",
      "  50% (Median): 64.0\n",
      "  75%: 69.0\n",
      "Min: 28\n",
      "Max: 81\n",
      "The distribution of the feature 'Age' in this dataset is fine.\n",
      "\n",
      "For the feature 'Gender', the least common label is '0' with 16 occurrences. This represents 18.39% of the dataset.\n",
      "The distribution of the feature 'Gender' in this dataset is fine.\n",
      "\n"
     ]
    },
    {
     "data": {
      "text/plain": [
       "True"
      ]
     },
     "execution_count": 12,
     "metadata": {},
     "output_type": "execute_result"
    }
   ],
   "source": [
    "print(f\"The merged dataset contains {len(merged_data)} samples.\")\n",
    "is_trait_biased, merge_data = judge_and_remove_biased_features(merged_data, TRAIT, trait_type=trait_type)\n",
    "is_trait_biased"
   ]
  },
  {
   "cell_type": "code",
   "execution_count": 13,
   "metadata": {
    "ExecuteTime": {
     "end_time": "2024-02-27T00:23:30.252387093Z",
     "start_time": "2024-02-27T00:23:16.722533204Z"
    },
    "collapsed": false
   },
   "outputs": [],
   "source": [
    "merged_data.head()\n",
    "if not is_trait_biased:\n",
    "    merge_data.to_csv(os.path.join(OUTPUT_DIR, cohort + '.csv'), index=False)"
   ]
  },
  {
   "cell_type": "code",
   "execution_count": 14,
   "metadata": {
    "ExecuteTime": {
     "end_time": "2024-02-27T00:23:30.302271525Z",
     "start_time": "2024-02-27T00:23:30.295066253Z"
    },
    "collapsed": false
   },
   "outputs": [
    {
     "name": "stdout",
     "output_type": "stream",
     "text": [
      "A new JSON file was created at: /Users/legion/Desktop/Courses/IS389/output2\\Jiayi\\Mesothelioma\\cohort_info.json\n"
     ]
    }
   ],
   "source": [
    "save_cohort_info(cohort, JSON_PATH, is_available, is_trait_biased, merged_data)"
   ]
  },
  {
   "cell_type": "markdown",
   "metadata": {
    "ExecuteTime": {
     "end_time": "2023-12-28T21:28:38.028916303Z",
     "start_time": "2023-12-28T21:28:38.016245426Z"
    },
    "collapsed": false
   },
   "source": [
    "## 2.2. The GEO dataset"
   ]
  },
  {
   "cell_type": "code",
   "execution_count": 15,
   "metadata": {
    "ExecuteTime": {
     "end_time": "2024-02-27T00:23:30.302587016Z",
     "start_time": "2024-02-27T00:23:30.295278811Z"
    },
    "collapsed": false
   },
   "outputs": [
    {
     "data": {
      "text/plain": [
       "['GSE107754',\n",
       " 'GSE112154',\n",
       " 'GSE117668',\n",
       " 'GSE131027',\n",
       " 'GSE163720',\n",
       " 'GSE163721',\n",
       " 'GSE163722',\n",
       " 'GSE172159',\n",
       " 'GSE40345',\n",
       " 'GSE42977',\n",
       " 'GSE51024',\n",
       " 'GSE52788',\n",
       " 'GSE57464',\n",
       " 'GSE64738',\n",
       " 'GSE67487',\n",
       " 'GSE68950',\n",
       " 'GSE73161',\n",
       " 'GSE73162',\n",
       " 'GSE99362']"
      ]
     },
     "execution_count": 15,
     "metadata": {},
     "output_type": "execute_result"
    }
   ],
   "source": [
    "dataset = 'GEO'\n",
    "trait_subdir = \"Mesothelioma\"\n",
    "\n",
    "trait_path = os.path.join(DATA_ROOT, dataset, trait_subdir)\n",
    "os.listdir(trait_path)"
   ]
  },
  {
   "cell_type": "markdown",
   "metadata": {
    "ExecuteTime": {
     "end_time": "2023-12-31T03:39:42.634870142Z",
     "start_time": "2023-12-31T03:39:42.534093295Z"
    },
    "collapsed": false
   },
   "source": [
    "Repeat the below steps for all the accession numbers"
   ]
  },
  {
   "cell_type": "code",
   "execution_count": 16,
   "metadata": {
    "ExecuteTime": {
     "end_time": "2024-02-27T00:23:30.302864515Z",
     "start_time": "2024-02-27T00:23:30.295388276Z"
    },
    "collapsed": false
   },
   "outputs": [
    {
     "data": {
      "text/plain": [
       "('/Users/legion/Desktop/Courses/IS389/data\\\\GEO\\\\Mesothelioma\\\\GSE107754\\\\GSE107754_family.soft.gz',\n",
       " '/Users/legion/Desktop/Courses/IS389/data\\\\GEO\\\\Mesothelioma\\\\GSE107754\\\\GSE107754_series_matrix.txt.gz')"
      ]
     },
     "execution_count": 16,
     "metadata": {},
     "output_type": "execute_result"
    }
   ],
   "source": [
    "# No obvious trait\n",
    "cohort = accession_num = \"GSE107754\"\n",
    "cohort_dir = os.path.join(trait_path, accession_num)\n",
    "soft_file, matrix_file = geo_get_relevant_filepaths(cohort_dir)\n",
    "soft_file, matrix_file"
   ]
  },
  {
   "cell_type": "code",
   "execution_count": 22,
   "metadata": {},
   "outputs": [
    {
     "data": {
      "text/plain": [
       "('/Users/legion/Desktop/Courses/IS389/data\\\\GEO\\\\Mesothelioma\\\\GSE112154\\\\GSE112154_family.soft.gz',\n",
       " '/Users/legion/Desktop/Courses/IS389/data\\\\GEO\\\\Mesothelioma\\\\GSE112154\\\\GSE112154_series_matrix.txt.gz')"
      ]
     },
     "execution_count": 22,
     "metadata": {},
     "output_type": "execute_result"
    }
   ],
   "source": [
    "# Biased\n",
    "cohort = accession_num = \"GSE112154\"\n",
    "cohort_dir = os.path.join(trait_path, accession_num)\n",
    "soft_file, matrix_file = geo_get_relevant_filepaths(cohort_dir)\n",
    "soft_file, matrix_file"
   ]
  },
  {
   "cell_type": "code",
   "execution_count": 35,
   "metadata": {},
   "outputs": [
    {
     "data": {
      "text/plain": [
       "('/Users/legion/Desktop/Courses/IS389/data\\\\GEO\\\\Mesothelioma\\\\GSE117668\\\\GSE117668_family.soft.gz',\n",
       " '/Users/legion/Desktop/Courses/IS389/data\\\\GEO\\\\Mesothelioma\\\\GSE117668\\\\GSE117668_series_matrix.txt.gz')"
      ]
     },
     "execution_count": 35,
     "metadata": {},
     "output_type": "execute_result"
    }
   ],
   "source": [
    "# No gene mapping\n",
    "cohort = accession_num = \"GSE117668\"\n",
    "cohort_dir = os.path.join(trait_path, accession_num)\n",
    "soft_file, matrix_file = geo_get_relevant_filepaths(cohort_dir)\n",
    "soft_file, matrix_file"
   ]
  },
  {
   "cell_type": "code",
   "execution_count": 43,
   "metadata": {},
   "outputs": [
    {
     "data": {
      "text/plain": [
       "('/Users/legion/Desktop/Courses/IS389/data\\\\GEO\\\\Mesothelioma\\\\GSE131027\\\\GSE131027_family.soft.gz',\n",
       " '/Users/legion/Desktop/Courses/IS389/data\\\\GEO\\\\Mesothelioma\\\\GSE131027\\\\GSE131027_series_matrix.txt.gz')"
      ]
     },
     "execution_count": 43,
     "metadata": {},
     "output_type": "execute_result"
    }
   ],
   "source": [
    "# Finished\n",
    "cohort = accession_num = \"GSE131027\"\n",
    "cohort_dir = os.path.join(trait_path, accession_num)\n",
    "soft_file, matrix_file = geo_get_relevant_filepaths(cohort_dir)\n",
    "soft_file, matrix_file"
   ]
  },
  {
   "cell_type": "code",
   "execution_count": 56,
   "metadata": {},
   "outputs": [
    {
     "data": {
      "text/plain": [
       "('/Users/legion/Desktop/Courses/IS389/data\\\\GEO\\\\Mesothelioma\\\\GSE163720\\\\GSE163720_family.soft.gz',\n",
       " '/Users/legion/Desktop/Courses/IS389/data\\\\GEO\\\\Mesothelioma\\\\GSE163720\\\\GSE163720_series_matrix.txt.gz')"
      ]
     },
     "execution_count": 56,
     "metadata": {},
     "output_type": "execute_result"
    }
   ],
   "source": [
    "# No obvious trait\n",
    "cohort = accession_num = \"GSE163720\"\n",
    "cohort_dir = os.path.join(trait_path, accession_num)\n",
    "soft_file, matrix_file = geo_get_relevant_filepaths(cohort_dir)\n",
    "soft_file, matrix_file"
   ]
  },
  {
   "cell_type": "code",
   "execution_count": 67,
   "metadata": {},
   "outputs": [
    {
     "data": {
      "text/plain": [
       "('/Users/legion/Desktop/Courses/IS389/data\\\\GEO\\\\Mesothelioma\\\\GSE163721\\\\GSE163721_family.soft.gz',\n",
       " '/Users/legion/Desktop/Courses/IS389/data\\\\GEO\\\\Mesothelioma\\\\GSE163721\\\\GSE163721_series_matrix.txt.gz')"
      ]
     },
     "execution_count": 67,
     "metadata": {},
     "output_type": "execute_result"
    }
   ],
   "source": [
    "# Biased\n",
    "cohort = accession_num = \"GSE163721\"\n",
    "cohort_dir = os.path.join(trait_path, accession_num)\n",
    "soft_file, matrix_file = geo_get_relevant_filepaths(cohort_dir)\n",
    "soft_file, matrix_file"
   ]
  },
  {
   "cell_type": "code",
   "execution_count": 71,
   "metadata": {},
   "outputs": [
    {
     "data": {
      "text/plain": [
       "('/Users/legion/Desktop/Courses/IS389/data\\\\GEO\\\\Mesothelioma\\\\GSE163722\\\\GSE163722_family.soft.gz',\n",
       " '/Users/legion/Desktop/Courses/IS389/data\\\\GEO\\\\Mesothelioma\\\\GSE163722\\\\GSE163722-GPL11532_series_matrix.txt.gz')"
      ]
     },
     "execution_count": 71,
     "metadata": {},
     "output_type": "execute_result"
    }
   ],
   "source": [
    "# No obvious trait\n",
    "cohort = accession_num = \"GSE163722\"\n",
    "cohort_dir = os.path.join(trait_path, accession_num)\n",
    "soft_file, matrix_file = geo_get_relevant_filepaths(cohort_dir)\n",
    "soft_file, matrix_file"
   ]
  },
  {
   "cell_type": "code",
   "execution_count": 75,
   "metadata": {},
   "outputs": [
    {
     "data": {
      "text/plain": [
       "('/Users/legion/Desktop/Courses/IS389/data\\\\GEO\\\\Mesothelioma\\\\GSE172159\\\\GSE172159_family.soft.gz',\n",
       " '/Users/legion/Desktop/Courses/IS389/data\\\\GEO\\\\Mesothelioma\\\\GSE172159\\\\GSE172159_series_matrix.txt.gz')"
      ]
     },
     "execution_count": 75,
     "metadata": {},
     "output_type": "execute_result"
    }
   ],
   "source": [
    "# No obvious trait\n",
    "cohort = accession_num = \"GSE172159\"\n",
    "cohort_dir = os.path.join(trait_path, accession_num)\n",
    "soft_file, matrix_file = geo_get_relevant_filepaths(cohort_dir)\n",
    "soft_file, matrix_file"
   ]
  },
  {
   "cell_type": "code",
   "execution_count": 79,
   "metadata": {},
   "outputs": [
    {
     "data": {
      "text/plain": [
       "('/Users/legion/Desktop/Courses/IS389/data\\\\GEO\\\\Mesothelioma\\\\GSE40345\\\\GSE40345_family.soft.gz',\n",
       " '/Users/legion/Desktop/Courses/IS389/data\\\\GEO\\\\Mesothelioma\\\\GSE40345\\\\GSE40345_series_matrix.txt.gz')"
      ]
     },
     "execution_count": 79,
     "metadata": {},
     "output_type": "execute_result"
    }
   ],
   "source": [
    "# No gene mapping\n",
    "cohort = accession_num = \"GSE40345\"\n",
    "cohort_dir = os.path.join(trait_path, accession_num)\n",
    "soft_file, matrix_file = geo_get_relevant_filepaths(cohort_dir)\n",
    "soft_file, matrix_file"
   ]
  },
  {
   "cell_type": "code",
   "execution_count": 91,
   "metadata": {},
   "outputs": [
    {
     "data": {
      "text/plain": [
       "('/Users/legion/Desktop/Courses/IS389/data\\\\GEO\\\\Mesothelioma\\\\GSE42977\\\\GSE42977_family.soft.gz',\n",
       " '/Users/legion/Desktop/Courses/IS389/data\\\\GEO\\\\Mesothelioma\\\\GSE42977\\\\GSE42977_series_matrix.txt.gz')"
      ]
     },
     "execution_count": 91,
     "metadata": {},
     "output_type": "execute_result"
    }
   ],
   "source": [
    "# Biased\n",
    "cohort = accession_num = \"GSE42977\"\n",
    "cohort_dir = os.path.join(trait_path, accession_num)\n",
    "soft_file, matrix_file = geo_get_relevant_filepaths(cohort_dir)\n",
    "soft_file, matrix_file"
   ]
  },
  {
   "cell_type": "code",
   "execution_count": 105,
   "metadata": {},
   "outputs": [
    {
     "data": {
      "text/plain": [
       "('/Users/legion/Desktop/Courses/IS389/data\\\\GEO\\\\Mesothelioma\\\\GSE51024\\\\GSE51024_family.soft.gz',\n",
       " '/Users/legion/Desktop/Courses/IS389/data\\\\GEO\\\\Mesothelioma\\\\GSE51024\\\\GSE51024_series_matrix.txt.gz')"
      ]
     },
     "execution_count": 105,
     "metadata": {},
     "output_type": "execute_result"
    }
   ],
   "source": [
    "# Finished\n",
    "cohort = accession_num = \"GSE51024\"\n",
    "cohort_dir = os.path.join(trait_path, accession_num)\n",
    "soft_file, matrix_file = geo_get_relevant_filepaths(cohort_dir)\n",
    "soft_file, matrix_file"
   ]
  },
  {
   "cell_type": "code",
   "execution_count": 129,
   "metadata": {},
   "outputs": [
    {
     "data": {
      "text/plain": [
       "('/Users/legion/Desktop/Courses/IS389/data\\\\GEO\\\\Mesothelioma\\\\GSE52788\\\\GSE52788_family.soft.gz',\n",
       " '/Users/legion/Desktop/Courses/IS389/data\\\\GEO\\\\Mesothelioma\\\\GSE52788\\\\GSE52788-GPL3718_series_matrix.txt.gz')"
      ]
     },
     "execution_count": 129,
     "metadata": {},
     "output_type": "execute_result"
    }
   ],
   "source": [
    "# No obvious trait\n",
    "cohort = accession_num = \"GSE52788\"\n",
    "cohort_dir = os.path.join(trait_path, accession_num)\n",
    "soft_file, matrix_file = geo_get_relevant_filepaths(cohort_dir)\n",
    "soft_file, matrix_file"
   ]
  },
  {
   "cell_type": "code",
   "execution_count": 133,
   "metadata": {},
   "outputs": [
    {
     "data": {
      "text/plain": [
       "('/Users/legion/Desktop/Courses/IS389/data\\\\GEO\\\\Mesothelioma\\\\GSE57464\\\\GSE57464_family.soft.gz',\n",
       " '/Users/legion/Desktop/Courses/IS389/data\\\\GEO\\\\Mesothelioma\\\\GSE57464\\\\GSE57464_series_matrix.txt.gz')"
      ]
     },
     "execution_count": 133,
     "metadata": {},
     "output_type": "execute_result"
    }
   ],
   "source": [
    "# Biased\n",
    "cohort = accession_num = \"GSE57464\"\n",
    "cohort_dir = os.path.join(trait_path, accession_num)\n",
    "soft_file, matrix_file = geo_get_relevant_filepaths(cohort_dir)\n",
    "soft_file, matrix_file"
   ]
  },
  {
   "cell_type": "code",
   "execution_count": 146,
   "metadata": {},
   "outputs": [
    {
     "data": {
      "text/plain": [
       "('/Users/legion/Desktop/Courses/IS389/data\\\\GEO\\\\Mesothelioma\\\\GSE64738\\\\GSE64738_family.soft.gz',\n",
       " '/Users/legion/Desktop/Courses/IS389/data\\\\GEO\\\\Mesothelioma\\\\GSE64738\\\\GSE64738_series_matrix.txt.gz')"
      ]
     },
     "execution_count": 146,
     "metadata": {},
     "output_type": "execute_result"
    }
   ],
   "source": [
    "# No obvious traits\n",
    "cohort = accession_num = \"GSE64738\"\n",
    "cohort_dir = os.path.join(trait_path, accession_num)\n",
    "soft_file, matrix_file = geo_get_relevant_filepaths(cohort_dir)\n",
    "soft_file, matrix_file"
   ]
  },
  {
   "cell_type": "code",
   "execution_count": 150,
   "metadata": {},
   "outputs": [
    {
     "data": {
      "text/plain": [
       "('/Users/legion/Desktop/Courses/IS389/data\\\\GEO\\\\Mesothelioma\\\\GSE67487\\\\GSE67487_family.soft.gz',\n",
       " '/Users/legion/Desktop/Courses/IS389/data\\\\GEO\\\\Mesothelioma\\\\GSE67487\\\\GSE67487_series_matrix.txt.gz')"
      ]
     },
     "execution_count": 150,
     "metadata": {},
     "output_type": "execute_result"
    }
   ],
   "source": [
    "# Biased\n",
    "cohort = accession_num = \"GSE67487\"\n",
    "cohort_dir = os.path.join(trait_path, accession_num)\n",
    "soft_file, matrix_file = geo_get_relevant_filepaths(cohort_dir)\n",
    "soft_file, matrix_file"
   ]
  },
  {
   "cell_type": "code",
   "execution_count": 154,
   "metadata": {},
   "outputs": [
    {
     "data": {
      "text/plain": [
       "('/Users/legion/Desktop/Courses/IS389/data\\\\GEO\\\\Mesothelioma\\\\GSE68950\\\\GSE68950_family.soft.gz',\n",
       " '/Users/legion/Desktop/Courses/IS389/data\\\\GEO\\\\Mesothelioma\\\\GSE68950\\\\GSE68950_series_matrix.txt.gz')"
      ]
     },
     "execution_count": 154,
     "metadata": {},
     "output_type": "execute_result"
    }
   ],
   "source": [
    "# No obvious traits\n",
    "cohort = accession_num = \"GSE68950\"\n",
    "cohort_dir = os.path.join(trait_path, accession_num)\n",
    "soft_file, matrix_file = geo_get_relevant_filepaths(cohort_dir)\n",
    "soft_file, matrix_file"
   ]
  },
  {
   "cell_type": "code",
   "execution_count": 170,
   "metadata": {},
   "outputs": [
    {
     "data": {
      "text/plain": [
       "('/Users/legion/Desktop/Courses/IS389/data\\\\GEO\\\\Mesothelioma\\\\GSE73161\\\\GSE73161_family.soft.gz',\n",
       " '/Users/legion/Desktop/Courses/IS389/data\\\\GEO\\\\Mesothelioma\\\\GSE73161\\\\GSE73161_series_matrix.txt.gz')"
      ]
     },
     "execution_count": 170,
     "metadata": {},
     "output_type": "execute_result"
    }
   ],
   "source": [
    "# No gene mapping\n",
    "cohort = accession_num = \"GSE73161\"\n",
    "cohort_dir = os.path.join(trait_path, accession_num)\n",
    "soft_file, matrix_file = geo_get_relevant_filepaths(cohort_dir)\n",
    "soft_file, matrix_file"
   ]
  },
  {
   "cell_type": "code",
   "execution_count": 174,
   "metadata": {},
   "outputs": [
    {
     "data": {
      "text/plain": [
       "('/Users/legion/Desktop/Courses/IS389/data\\\\GEO\\\\Mesothelioma\\\\GSE73162\\\\GSE73162_family.soft.gz',\n",
       " '/Users/legion/Desktop/Courses/IS389/data\\\\GEO\\\\Mesothelioma\\\\GSE73162\\\\GSE73162-GPL20275_series_matrix.txt.gz')"
      ]
     },
     "execution_count": 174,
     "metadata": {},
     "output_type": "execute_result"
    }
   ],
   "source": [
    "# No gene mapping\n",
    "cohort = accession_num = \"GSE73162\"\n",
    "cohort_dir = os.path.join(trait_path, accession_num)\n",
    "soft_file, matrix_file = geo_get_relevant_filepaths(cohort_dir)\n",
    "soft_file, matrix_file"
   ]
  },
  {
   "cell_type": "code",
   "execution_count": 185,
   "metadata": {},
   "outputs": [
    {
     "data": {
      "text/plain": [
       "('/Users/legion/Desktop/Courses/IS389/data\\\\GEO\\\\Mesothelioma\\\\GSE99362\\\\GSE99362_family.soft.gz',\n",
       " '/Users/legion/Desktop/Courses/IS389/data\\\\GEO\\\\Mesothelioma\\\\GSE99362\\\\GSE99362_series_matrix.txt.gz')"
      ]
     },
     "execution_count": 185,
     "metadata": {},
     "output_type": "execute_result"
    }
   ],
   "source": [
    "# No gene mapping\n",
    "cohort = accession_num = \"GSE99362\"\n",
    "cohort_dir = os.path.join(trait_path, accession_num)\n",
    "soft_file, matrix_file = geo_get_relevant_filepaths(cohort_dir)\n",
    "soft_file, matrix_file"
   ]
  },
  {
   "cell_type": "markdown",
   "metadata": {
    "collapsed": false
   },
   "source": [
    "### Initial filtering and clinical data preprocessing"
   ]
  },
  {
   "cell_type": "code",
   "execution_count": 186,
   "metadata": {
    "ExecuteTime": {
     "end_time": "2024-02-27T00:23:30.303301102Z",
     "start_time": "2024-02-27T00:23:30.295491459Z"
    },
    "collapsed": false
   },
   "outputs": [
    {
     "name": "stdout",
     "output_type": "stream",
     "text": [
      "!Series_title\t\"microRNA expression profiling in diffuse malignant peritoneal mesothelioma\"\n",
      "!Series_summary\t\"Diffuse malignant peritoneal mesothelioma (DMPM) is a rapidly lethal malignancy. The comprehension of the molecular and cellular features of DMPM is of utmost importance for the fruitful management of the disease, especially in patients who fail standard treatments and have a poor prognosis due to the lack of effective alternative therapeutic options. In this context, we previously found that telomerase activity (TA), which accounts for the limitless proliferative potential of cancer cells, is prognostic for disease relapse and cancer-related death in DMPM patients. Consequently, the identification of factors involved in telomerase activation/regulation may pave the way towards the development of novel therapeutic interventions for the disease. In the present study, miRNA expression profiling was carried out in a series of DMPM tissue specimens, previously characterized for the occurrence of TA, in order to possibly identify miRNAs that may play a role in the establishment/regulation of such a telomere maintenance mechanism in this malignancy and consequently furnish a biological rationale for the possible future development of miRNA-based telomerase-targeted therapeutic approaches.\"\n",
      "!Series_overall_design\t\"microRNA expression profiling was carried out on a series of 51 frozen surgical specimens of diffuse malignant peritoneal mesothelioma (DMPM), 5 normal peritoneum samples, 1 normal mesothelial cell line (MES-F) and 1 cell line derived from the tumor of a DMPM patient.\"\n"
     ]
    }
   ],
   "source": [
    "from utils import *\n",
    "background_prefixes = ['!Series_title', '!Series_summary', '!Series_overall_design']\n",
    "clinical_prefixes = ['!Sample_geo_accession', '!Sample_characteristics_ch1']    \n",
    "\n",
    "background_info, clinical_data = get_background_and_clinical_data(matrix_file, background_prefixes, clinical_prefixes)\n",
    "print(background_info)"
   ]
  },
  {
   "cell_type": "code",
   "execution_count": 187,
   "metadata": {
    "ExecuteTime": {
     "end_time": "2024-02-27T00:23:30.303593599Z",
     "start_time": "2024-02-27T00:23:30.299747893Z"
    },
    "collapsed": false
   },
   "outputs": [
    {
     "data": {
      "text/html": [
       "<div>\n",
       "<style scoped>\n",
       "    .dataframe tbody tr th:only-of-type {\n",
       "        vertical-align: middle;\n",
       "    }\n",
       "\n",
       "    .dataframe tbody tr th {\n",
       "        vertical-align: top;\n",
       "    }\n",
       "\n",
       "    .dataframe thead th {\n",
       "        text-align: right;\n",
       "    }\n",
       "</style>\n",
       "<table border=\"1\" class=\"dataframe\">\n",
       "  <thead>\n",
       "    <tr style=\"text-align: right;\">\n",
       "      <th></th>\n",
       "      <th>!Sample_geo_accession</th>\n",
       "      <th>GSM2642980</th>\n",
       "      <th>GSM2642981</th>\n",
       "      <th>GSM2642982</th>\n",
       "      <th>GSM2642983</th>\n",
       "      <th>GSM2642984</th>\n",
       "      <th>GSM2642985</th>\n",
       "      <th>GSM2642986</th>\n",
       "      <th>GSM2642987</th>\n",
       "      <th>GSM2642988</th>\n",
       "      <th>...</th>\n",
       "      <th>GSM2643028</th>\n",
       "      <th>GSM2643029</th>\n",
       "      <th>GSM2643030</th>\n",
       "      <th>GSM2643031</th>\n",
       "      <th>GSM2643032</th>\n",
       "      <th>GSM2643033</th>\n",
       "      <th>GSM2643034</th>\n",
       "      <th>GSM2643035</th>\n",
       "      <th>GSM2643036</th>\n",
       "      <th>GSM2643037</th>\n",
       "    </tr>\n",
       "  </thead>\n",
       "  <tbody>\n",
       "    <tr>\n",
       "      <th>0</th>\n",
       "      <td>!Sample_characteristics_ch1</td>\n",
       "      <td>tissue: normal peritoneum</td>\n",
       "      <td>tissue: normal peritoneum</td>\n",
       "      <td>tissue: normal peritoneum</td>\n",
       "      <td>tissue: normal peritoneum</td>\n",
       "      <td>tissue: normal peritoneum</td>\n",
       "      <td>cell line: cell line derived from the tumor of...</td>\n",
       "      <td>tissue: DMPM frozen tumor specimen</td>\n",
       "      <td>tissue: DMPM frozen tumor specimen</td>\n",
       "      <td>tissue: DMPM frozen tumor specimen</td>\n",
       "      <td>...</td>\n",
       "      <td>tissue: DMPM frozen tumor specimen</td>\n",
       "      <td>tissue: DMPM frozen tumor specimen</td>\n",
       "      <td>tissue: DMPM frozen tumor specimen</td>\n",
       "      <td>tissue: DMPM frozen tumor specimen</td>\n",
       "      <td>tissue: DMPM frozen tumor specimen</td>\n",
       "      <td>tissue: DMPM frozen tumor specimen</td>\n",
       "      <td>tissue: DMPM frozen tumor specimen</td>\n",
       "      <td>tissue: DMPM frozen tumor specimen</td>\n",
       "      <td>tissue: DMPM frozen tumor specimen</td>\n",
       "      <td>tissue: DMPM frozen tumor specimen</td>\n",
       "    </tr>\n",
       "    <tr>\n",
       "      <th>1</th>\n",
       "      <td>!Sample_characteristics_ch1</td>\n",
       "      <td>telomerase activity: NA</td>\n",
       "      <td>telomerase activity: NA</td>\n",
       "      <td>telomerase activity: NA</td>\n",
       "      <td>telomerase activity: NA</td>\n",
       "      <td>telomerase activity: NA</td>\n",
       "      <td>telomerase activity: 1</td>\n",
       "      <td>telomerase activity: 1</td>\n",
       "      <td>telomerase activity: 1</td>\n",
       "      <td>telomerase activity: 1</td>\n",
       "      <td>...</td>\n",
       "      <td>telomerase activity: 1</td>\n",
       "      <td>telomerase activity: 0</td>\n",
       "      <td>telomerase activity: 0</td>\n",
       "      <td>telomerase activity: 1</td>\n",
       "      <td>telomerase activity: 1</td>\n",
       "      <td>telomerase activity: 0</td>\n",
       "      <td>telomerase activity: 1</td>\n",
       "      <td>telomerase activity: 1</td>\n",
       "      <td>telomerase activity: 0</td>\n",
       "      <td>telomerase activity: 1</td>\n",
       "    </tr>\n",
       "  </tbody>\n",
       "</table>\n",
       "<p>2 rows × 59 columns</p>\n",
       "</div>"
      ],
      "text/plain": [
       "         !Sample_geo_accession                 GSM2642980  \\\n",
       "0  !Sample_characteristics_ch1  tissue: normal peritoneum   \n",
       "1  !Sample_characteristics_ch1    telomerase activity: NA   \n",
       "\n",
       "                  GSM2642981                 GSM2642982  \\\n",
       "0  tissue: normal peritoneum  tissue: normal peritoneum   \n",
       "1    telomerase activity: NA    telomerase activity: NA   \n",
       "\n",
       "                  GSM2642983                 GSM2642984  \\\n",
       "0  tissue: normal peritoneum  tissue: normal peritoneum   \n",
       "1    telomerase activity: NA    telomerase activity: NA   \n",
       "\n",
       "                                          GSM2642985  \\\n",
       "0  cell line: cell line derived from the tumor of...   \n",
       "1                             telomerase activity: 1   \n",
       "\n",
       "                           GSM2642986                          GSM2642987  \\\n",
       "0  tissue: DMPM frozen tumor specimen  tissue: DMPM frozen tumor specimen   \n",
       "1              telomerase activity: 1              telomerase activity: 1   \n",
       "\n",
       "                           GSM2642988  ...  \\\n",
       "0  tissue: DMPM frozen tumor specimen  ...   \n",
       "1              telomerase activity: 1  ...   \n",
       "\n",
       "                           GSM2643028                          GSM2643029  \\\n",
       "0  tissue: DMPM frozen tumor specimen  tissue: DMPM frozen tumor specimen   \n",
       "1              telomerase activity: 1              telomerase activity: 0   \n",
       "\n",
       "                           GSM2643030                          GSM2643031  \\\n",
       "0  tissue: DMPM frozen tumor specimen  tissue: DMPM frozen tumor specimen   \n",
       "1              telomerase activity: 0              telomerase activity: 1   \n",
       "\n",
       "                           GSM2643032                          GSM2643033  \\\n",
       "0  tissue: DMPM frozen tumor specimen  tissue: DMPM frozen tumor specimen   \n",
       "1              telomerase activity: 1              telomerase activity: 0   \n",
       "\n",
       "                           GSM2643034                          GSM2643035  \\\n",
       "0  tissue: DMPM frozen tumor specimen  tissue: DMPM frozen tumor specimen   \n",
       "1              telomerase activity: 1              telomerase activity: 1   \n",
       "\n",
       "                           GSM2643036                          GSM2643037  \n",
       "0  tissue: DMPM frozen tumor specimen  tissue: DMPM frozen tumor specimen  \n",
       "1              telomerase activity: 0              telomerase activity: 1  \n",
       "\n",
       "[2 rows x 59 columns]"
      ]
     },
     "execution_count": 187,
     "metadata": {},
     "output_type": "execute_result"
    }
   ],
   "source": [
    "clinical_data"
   ]
  },
  {
   "cell_type": "markdown",
   "metadata": {},
   "source": [
    "Analyze the trait row:"
   ]
  },
  {
   "cell_type": "code",
   "execution_count": 189,
   "metadata": {},
   "outputs": [
    {
     "data": {
      "text/plain": [
       "array(['!Sample_characteristics_ch1', 'tissue: normal peritoneum',\n",
       "       'cell line: cell line derived from the tumor of a DMPM patient',\n",
       "       'tissue: DMPM frozen tumor specimen',\n",
       "       'cell line: normal mesothelial cell line (MES-F)'], dtype=object)"
      ]
     },
     "execution_count": 189,
     "metadata": {},
     "output_type": "execute_result"
    }
   ],
   "source": [
    "tumor_stage_row = clinical_data.iloc[0]\n",
    "tumor_stage_row.unique()"
   ]
  },
  {
   "cell_type": "markdown",
   "metadata": {},
   "source": [
    "Determine the trait row, age row, and gender row. Then implement the conversion functions:"
   ]
  },
  {
   "cell_type": "code",
   "execution_count": 190,
   "metadata": {
    "ExecuteTime": {
     "end_time": "2024-02-27T00:23:30.385870186Z",
     "start_time": "2024-02-27T00:23:30.351051500Z"
    },
    "collapsed": false
   },
   "outputs": [],
   "source": [
    "trait_row = 0\n",
    "age_row = None\n",
    "gender_row = None\n",
    "\n",
    "def convert_trait(trait):\n",
    "    if (trait == 'tissue: normal peritoneum' or 'cell line: normal mesothelial cell line (MES-F)'):\n",
    "        return 0\n",
    "    else:\n",
    "        return 1\n",
    "\n",
    "def convert_age(age_string):\n",
    "    if age_string == 'n.a.':\n",
    "        return None\n",
    "    try:\n",
    "        age = int(age_string.split(': ')[1])\n",
    "        return age\n",
    "    except (ValueError, IndexError):\n",
    "        return None\n",
    "\n",
    "def convert_gender(gender_string):\n",
    "    if (gender_string.lower() == 'sex: female' or gender_string.lower() == 'sex: f' or gender_string.lower() == 'gender: female' or gender_string.lower() == 'gender: f'):\n",
    "        return 1\n",
    "    elif (gender_string.lower() == 'sex: male' or gender_string.lower() == 'sex: m' or gender_string.lower() == 'gender: male' or gender_string.lower() == 'gender: m') :  # changeed \n",
    "        return 0\n",
    "    else:\n",
    "        return None"
   ]
  },
  {
   "cell_type": "markdown",
   "metadata": {},
   "source": [
    "Check the processed clinical data:"
   ]
  },
  {
   "cell_type": "code",
   "execution_count": 191,
   "metadata": {
    "ExecuteTime": {
     "end_time": "2024-02-27T00:23:30.386191717Z",
     "start_time": "2024-02-27T00:23:30.351458802Z"
    },
    "collapsed": false
   },
   "outputs": [
    {
     "name": "stderr",
     "output_type": "stream",
     "text": [
      "c:\\Users\\legion\\Desktop\\TAIS_2024SP\\TAIS_2024SP\\task2\\Jiayi\\utils.py:218: FutureWarning: DataFrame.applymap has been deprecated. Use DataFrame.map instead.\n",
      "  clinical_df = clinical_df.applymap(convert_fn)\n"
     ]
    },
    {
     "data": {
      "text/html": [
       "<div>\n",
       "<style scoped>\n",
       "    .dataframe tbody tr th:only-of-type {\n",
       "        vertical-align: middle;\n",
       "    }\n",
       "\n",
       "    .dataframe tbody tr th {\n",
       "        vertical-align: top;\n",
       "    }\n",
       "\n",
       "    .dataframe thead th {\n",
       "        text-align: right;\n",
       "    }\n",
       "</style>\n",
       "<table border=\"1\" class=\"dataframe\">\n",
       "  <thead>\n",
       "    <tr style=\"text-align: right;\">\n",
       "      <th></th>\n",
       "      <th>GSM2642980</th>\n",
       "      <th>GSM2642981</th>\n",
       "      <th>GSM2642982</th>\n",
       "      <th>GSM2642983</th>\n",
       "      <th>GSM2642984</th>\n",
       "      <th>GSM2642985</th>\n",
       "      <th>GSM2642986</th>\n",
       "      <th>GSM2642987</th>\n",
       "      <th>GSM2642988</th>\n",
       "      <th>GSM2642989</th>\n",
       "      <th>...</th>\n",
       "      <th>GSM2643028</th>\n",
       "      <th>GSM2643029</th>\n",
       "      <th>GSM2643030</th>\n",
       "      <th>GSM2643031</th>\n",
       "      <th>GSM2643032</th>\n",
       "      <th>GSM2643033</th>\n",
       "      <th>GSM2643034</th>\n",
       "      <th>GSM2643035</th>\n",
       "      <th>GSM2643036</th>\n",
       "      <th>GSM2643037</th>\n",
       "    </tr>\n",
       "  </thead>\n",
       "  <tbody>\n",
       "    <tr>\n",
       "      <th>Mesothelioma</th>\n",
       "      <td>0</td>\n",
       "      <td>0</td>\n",
       "      <td>0</td>\n",
       "      <td>0</td>\n",
       "      <td>0</td>\n",
       "      <td>0</td>\n",
       "      <td>0</td>\n",
       "      <td>0</td>\n",
       "      <td>0</td>\n",
       "      <td>0</td>\n",
       "      <td>...</td>\n",
       "      <td>0</td>\n",
       "      <td>0</td>\n",
       "      <td>0</td>\n",
       "      <td>0</td>\n",
       "      <td>0</td>\n",
       "      <td>0</td>\n",
       "      <td>0</td>\n",
       "      <td>0</td>\n",
       "      <td>0</td>\n",
       "      <td>0</td>\n",
       "    </tr>\n",
       "  </tbody>\n",
       "</table>\n",
       "<p>1 rows × 58 columns</p>\n",
       "</div>"
      ],
      "text/plain": [
       "              GSM2642980  GSM2642981  GSM2642982  GSM2642983  GSM2642984  \\\n",
       "Mesothelioma           0           0           0           0           0   \n",
       "\n",
       "              GSM2642985  GSM2642986  GSM2642987  GSM2642988  GSM2642989  ...  \\\n",
       "Mesothelioma           0           0           0           0           0  ...   \n",
       "\n",
       "              GSM2643028  GSM2643029  GSM2643030  GSM2643031  GSM2643032  \\\n",
       "Mesothelioma           0           0           0           0           0   \n",
       "\n",
       "              GSM2643033  GSM2643034  GSM2643035  GSM2643036  GSM2643037  \n",
       "Mesothelioma           0           0           0           0           0  \n",
       "\n",
       "[1 rows x 58 columns]"
      ]
     },
     "execution_count": 191,
     "metadata": {},
     "output_type": "execute_result"
    }
   ],
   "source": [
    "selected_clinical_data = geo_select_clinical_features(clinical_data, TRAIT, trait_row, convert_trait, age_row=age_row,\n",
    "                                                      convert_age=convert_age, gender_row=gender_row,\n",
    "                                                      convert_gender=convert_gender)\n",
    "selected_clinical_data.head()"
   ]
  },
  {
   "cell_type": "markdown",
   "metadata": {
    "ExecuteTime": {
     "end_time": "2023-12-31T03:58:04.978664193Z",
     "start_time": "2023-12-31T03:58:04.966117261Z"
    },
    "collapsed": false
   },
   "source": [
    "### Genetic data preprocessing and final filtering"
   ]
  },
  {
   "cell_type": "markdown",
   "metadata": {},
   "source": [
    "Check the genetic data:"
   ]
  },
  {
   "cell_type": "code",
   "execution_count": 192,
   "metadata": {
    "ExecuteTime": {
     "end_time": "2024-02-27T00:23:30.394809420Z",
     "start_time": "2024-02-27T00:23:30.351566744Z"
    },
    "collapsed": false
   },
   "outputs": [
    {
     "data": {
      "text/html": [
       "<div>\n",
       "<style scoped>\n",
       "    .dataframe tbody tr th:only-of-type {\n",
       "        vertical-align: middle;\n",
       "    }\n",
       "\n",
       "    .dataframe tbody tr th {\n",
       "        vertical-align: top;\n",
       "    }\n",
       "\n",
       "    .dataframe thead th {\n",
       "        text-align: right;\n",
       "    }\n",
       "</style>\n",
       "<table border=\"1\" class=\"dataframe\">\n",
       "  <thead>\n",
       "    <tr style=\"text-align: right;\">\n",
       "      <th></th>\n",
       "      <th>GSM2642980</th>\n",
       "      <th>GSM2642981</th>\n",
       "      <th>GSM2642982</th>\n",
       "      <th>GSM2642983</th>\n",
       "      <th>GSM2642984</th>\n",
       "      <th>GSM2642985</th>\n",
       "      <th>GSM2642986</th>\n",
       "      <th>GSM2642987</th>\n",
       "      <th>GSM2642988</th>\n",
       "      <th>GSM2642989</th>\n",
       "      <th>...</th>\n",
       "      <th>GSM2643028</th>\n",
       "      <th>GSM2643029</th>\n",
       "      <th>GSM2643030</th>\n",
       "      <th>GSM2643031</th>\n",
       "      <th>GSM2643032</th>\n",
       "      <th>GSM2643033</th>\n",
       "      <th>GSM2643034</th>\n",
       "      <th>GSM2643035</th>\n",
       "      <th>GSM2643036</th>\n",
       "      <th>GSM2643037</th>\n",
       "    </tr>\n",
       "    <tr>\n",
       "      <th>ID</th>\n",
       "      <th></th>\n",
       "      <th></th>\n",
       "      <th></th>\n",
       "      <th></th>\n",
       "      <th></th>\n",
       "      <th></th>\n",
       "      <th></th>\n",
       "      <th></th>\n",
       "      <th></th>\n",
       "      <th></th>\n",
       "      <th></th>\n",
       "      <th></th>\n",
       "      <th></th>\n",
       "      <th></th>\n",
       "      <th></th>\n",
       "      <th></th>\n",
       "      <th></th>\n",
       "      <th></th>\n",
       "      <th></th>\n",
       "      <th></th>\n",
       "      <th></th>\n",
       "    </tr>\n",
       "  </thead>\n",
       "  <tbody>\n",
       "    <tr>\n",
       "      <th>ILMN_3166935</th>\n",
       "      <td>13.300435</td>\n",
       "      <td>12.087595</td>\n",
       "      <td>12.638770</td>\n",
       "      <td>11.822171</td>\n",
       "      <td>8.716875</td>\n",
       "      <td>10.726839</td>\n",
       "      <td>13.549784</td>\n",
       "      <td>13.385954</td>\n",
       "      <td>12.357774</td>\n",
       "      <td>12.288539</td>\n",
       "      <td>...</td>\n",
       "      <td>11.345022</td>\n",
       "      <td>10.932050</td>\n",
       "      <td>11.485401</td>\n",
       "      <td>12.556914</td>\n",
       "      <td>13.095150</td>\n",
       "      <td>12.363069</td>\n",
       "      <td>10.784803</td>\n",
       "      <td>12.331233</td>\n",
       "      <td>12.357690</td>\n",
       "      <td>12.815934</td>\n",
       "    </tr>\n",
       "    <tr>\n",
       "      <th>ILMN_3166938</th>\n",
       "      <td>14.868356</td>\n",
       "      <td>13.778544</td>\n",
       "      <td>14.673963</td>\n",
       "      <td>14.599408</td>\n",
       "      <td>14.019286</td>\n",
       "      <td>14.253204</td>\n",
       "      <td>14.721321</td>\n",
       "      <td>14.656522</td>\n",
       "      <td>14.932162</td>\n",
       "      <td>14.942375</td>\n",
       "      <td>...</td>\n",
       "      <td>14.939675</td>\n",
       "      <td>14.848200</td>\n",
       "      <td>14.249257</td>\n",
       "      <td>14.415290</td>\n",
       "      <td>14.719228</td>\n",
       "      <td>14.537560</td>\n",
       "      <td>15.084427</td>\n",
       "      <td>14.504822</td>\n",
       "      <td>14.263423</td>\n",
       "      <td>14.344565</td>\n",
       "    </tr>\n",
       "    <tr>\n",
       "      <th>ILMN_3166940</th>\n",
       "      <td>9.591793</td>\n",
       "      <td>10.395940</td>\n",
       "      <td>10.214005</td>\n",
       "      <td>10.621650</td>\n",
       "      <td>11.244769</td>\n",
       "      <td>11.397247</td>\n",
       "      <td>10.451249</td>\n",
       "      <td>10.580562</td>\n",
       "      <td>10.463574</td>\n",
       "      <td>10.340009</td>\n",
       "      <td>...</td>\n",
       "      <td>11.274713</td>\n",
       "      <td>11.501298</td>\n",
       "      <td>12.444835</td>\n",
       "      <td>10.485318</td>\n",
       "      <td>9.864390</td>\n",
       "      <td>11.608942</td>\n",
       "      <td>10.675793</td>\n",
       "      <td>11.528785</td>\n",
       "      <td>12.224715</td>\n",
       "      <td>10.665295</td>\n",
       "    </tr>\n",
       "    <tr>\n",
       "      <th>ILMN_3166941</th>\n",
       "      <td>14.045577</td>\n",
       "      <td>13.192169</td>\n",
       "      <td>13.924135</td>\n",
       "      <td>13.356833</td>\n",
       "      <td>10.616447</td>\n",
       "      <td>13.102322</td>\n",
       "      <td>14.230610</td>\n",
       "      <td>14.794105</td>\n",
       "      <td>13.658476</td>\n",
       "      <td>13.805841</td>\n",
       "      <td>...</td>\n",
       "      <td>13.499657</td>\n",
       "      <td>13.514177</td>\n",
       "      <td>13.434260</td>\n",
       "      <td>13.971901</td>\n",
       "      <td>13.802834</td>\n",
       "      <td>13.711218</td>\n",
       "      <td>13.353869</td>\n",
       "      <td>14.128303</td>\n",
       "      <td>14.017096</td>\n",
       "      <td>13.907098</td>\n",
       "    </tr>\n",
       "    <tr>\n",
       "      <th>ILMN_3166943</th>\n",
       "      <td>11.242290</td>\n",
       "      <td>9.787049</td>\n",
       "      <td>10.759074</td>\n",
       "      <td>10.491387</td>\n",
       "      <td>10.793983</td>\n",
       "      <td>9.499666</td>\n",
       "      <td>9.606616</td>\n",
       "      <td>9.864562</td>\n",
       "      <td>10.373289</td>\n",
       "      <td>10.269825</td>\n",
       "      <td>...</td>\n",
       "      <td>9.639816</td>\n",
       "      <td>9.951462</td>\n",
       "      <td>9.377465</td>\n",
       "      <td>9.734800</td>\n",
       "      <td>10.392706</td>\n",
       "      <td>10.295869</td>\n",
       "      <td>10.114188</td>\n",
       "      <td>10.528065</td>\n",
       "      <td>9.387953</td>\n",
       "      <td>9.635768</td>\n",
       "    </tr>\n",
       "  </tbody>\n",
       "</table>\n",
       "<p>5 rows × 58 columns</p>\n",
       "</div>"
      ],
      "text/plain": [
       "              GSM2642980  GSM2642981  GSM2642982  GSM2642983  GSM2642984  \\\n",
       "ID                                                                         \n",
       "ILMN_3166935   13.300435   12.087595   12.638770   11.822171    8.716875   \n",
       "ILMN_3166938   14.868356   13.778544   14.673963   14.599408   14.019286   \n",
       "ILMN_3166940    9.591793   10.395940   10.214005   10.621650   11.244769   \n",
       "ILMN_3166941   14.045577   13.192169   13.924135   13.356833   10.616447   \n",
       "ILMN_3166943   11.242290    9.787049   10.759074   10.491387   10.793983   \n",
       "\n",
       "              GSM2642985  GSM2642986  GSM2642987  GSM2642988  GSM2642989  ...  \\\n",
       "ID                                                                        ...   \n",
       "ILMN_3166935   10.726839   13.549784   13.385954   12.357774   12.288539  ...   \n",
       "ILMN_3166938   14.253204   14.721321   14.656522   14.932162   14.942375  ...   \n",
       "ILMN_3166940   11.397247   10.451249   10.580562   10.463574   10.340009  ...   \n",
       "ILMN_3166941   13.102322   14.230610   14.794105   13.658476   13.805841  ...   \n",
       "ILMN_3166943    9.499666    9.606616    9.864562   10.373289   10.269825  ...   \n",
       "\n",
       "              GSM2643028  GSM2643029  GSM2643030  GSM2643031  GSM2643032  \\\n",
       "ID                                                                         \n",
       "ILMN_3166935   11.345022   10.932050   11.485401   12.556914   13.095150   \n",
       "ILMN_3166938   14.939675   14.848200   14.249257   14.415290   14.719228   \n",
       "ILMN_3166940   11.274713   11.501298   12.444835   10.485318    9.864390   \n",
       "ILMN_3166941   13.499657   13.514177   13.434260   13.971901   13.802834   \n",
       "ILMN_3166943    9.639816    9.951462    9.377465    9.734800   10.392706   \n",
       "\n",
       "              GSM2643033  GSM2643034  GSM2643035  GSM2643036  GSM2643037  \n",
       "ID                                                                        \n",
       "ILMN_3166935   12.363069   10.784803   12.331233   12.357690   12.815934  \n",
       "ILMN_3166938   14.537560   15.084427   14.504822   14.263423   14.344565  \n",
       "ILMN_3166940   11.608942   10.675793   11.528785   12.224715   10.665295  \n",
       "ILMN_3166941   13.711218   13.353869   14.128303   14.017096   13.907098  \n",
       "ILMN_3166943   10.295869   10.114188   10.528065    9.387953    9.635768  \n",
       "\n",
       "[5 rows x 58 columns]"
      ]
     },
     "execution_count": 192,
     "metadata": {},
     "output_type": "execute_result"
    }
   ],
   "source": [
    "genetic_data = get_genetic_data(matrix_file)\n",
    "genetic_data.head()"
   ]
  },
  {
   "cell_type": "markdown",
   "metadata": {
    "ExecuteTime": {
     "end_time": "2023-12-31T03:30:41.595335164Z",
     "start_time": "2023-12-31T03:30:41.513232329Z"
    },
    "collapsed": false
   },
   "source": [
    "Check if the gene dataset requires mapping to get the gene symbols corresponding to each data row."
   ]
  },
  {
   "cell_type": "code",
   "execution_count": 193,
   "metadata": {},
   "outputs": [
    {
     "name": "stdout",
     "output_type": "stream",
     "text": [
      "{'ID': ['ILMN_3167151', 'ILMN_3167958', 'ILMN_3167403', 'ILMN_3167819', 'ILMN_3167659'], 'SYMBOL': ['ILMN_3167151', 'ILMN_3167958', 'ILMN_3167403', 'ILMN_3167819', 'ILMN_3167659'], 'ILMN_Gene': ['hsa-miR-553', 'HS_124', 'hsa-miR-320d,hsa-miR-320b,hsa-miR-320a,hsa-miR-320c', 'hsa-miR-522', 'hsa-miR-1537'], 'Search_Key': ['hsa-miR-553', 'HS_124', 'hsa-miR-320d,hsa-miR-320b,hsa-miR-320a,hsa-miR-320c', 'hsa-miR-522', 'hsa-miR-1537'], 'SEQUENCE': ['AAAACGGTGAGATTTTGTT', 'AAAAGAACATGGGTTGAG', 'AAAAGCTGGGTTGAGAGG', 'AAAATGGTTCCCTTTAGAGT', 'AAACCGTCTAGTTACAGTTGT'], 'TargetMatureSeqs': ['AAAACGGTGAGATTTTGTTTT', 'AAAAGAACATGGGTTGAG', 'AAAAGCTGGGTTGAGAGGA,AAAAGCTGGGTTGAGAGGGCAA,AAAAGCTGGGTTGAGAGGGCGA,AAAAGCTGGGTTGAGAGGGT', 'AAAATGGTTCCCTTTAGAGTGT', 'AAAACCGTCTAGTTACAGTTGT'], 'TargetMatureName': ['hsa-miR-553', 'HS_124', 'hsa-miR-320d,hsa-miR-320b,hsa-miR-320a,hsa-miR-320c', 'hsa-miR-522', 'hsa-miR-1537'], 'miRNA_ID': ['hsa-miR-553', nan, 'hsa-miR-320d,hsa-miR-320b,hsa-miR-320a,hsa-miR-320c', 'hsa-miR-522', 'hsa-miR-1537'], 'SPOT_ID': [nan, 'HS_124', nan, nan, nan], 'NumTargets': [1.0, 1.0, 4.0, 1.0, 1.0], 'TargetMatureVersion': [12.0, 0.0, 12.0, 12.0, 12.0], 'OriginalMatureSeq': ['AAAACGGTGAGATTTTGTTTT', 'AAAAGAACATGGGTTGAG', 'AAAAGCTGGGTTGAGAGGGCGAA', 'AAAATGGTTCCCTTTAGAGTGTT', 'AAACCGTCTAGTTACAGTTGT'], 'OriginalMatureName': ['hsa-miR-553', 'HS_124', 'hsa-miR-320', 'hsa-miR-522', 'HS_92.1'], 'Source': ['Sanger miRNAdb (v_8.2, July 2006)', 'Nature Genet 2006 Dec;38:1375-1377', 'Sanger miRNAdb (v_8.2, July 2006)', 'Sanger miRNAdb (v_8.2, July 2006)', 'Genome Res 2006 Oct;16:1289-1298'], 'Array_Address_Id': [1655.0, 2324.0, 913.0, 1375.0, 2247.0], 'Illumicode': ['TAGCTGGCCCACGAAATCTGCG', 'TGAGGTGACGCATCCCTCCATT', 'ACCCGATGGATAGGTCGGTGAA', 'CAGTAATCAGGCGTCTGTTGGC', 'CAGTCAGCAGCCGATCTCGGAT'], 'Oligo': ['ACTTCGTCAGTAACGGACTAGCTGGCCCACGAAATCTGCGAAAACGGTGAGATTTTGTT', 'ACTTCGTCAGTAACGGACTGAGGTGACGCATCCCTCCATTAAAAGAACATGGGTTGAG', 'ACTTCGTCAGTAACGGACACCCGATGGATAGGTCGGTGAAAAAAGCTGGGTTGAGAGG', 'ACTTCGTCAGTAACGGACCAGTAATCAGGCGTCTGTTGGCAAAATGGTTCCCTTTAGAGT', 'ACTTCGTCAGTAACGGACCAGTCAGCAGCCGATCTCGGATAAACCGTCTAGTTACAGTTGT'], 'U3_Seq': ['ACTTCGTCAGTAACGGAC', 'ACTTCGTCAGTAACGGAC', 'ACTTCGTCAGTAACGGAC', 'ACTTCGTCAGTAACGGAC', 'ACTTCGTCAGTAACGGAC'], 'Ploidy': ['diploid', 'diploid', 'diploid', 'diploid', 'diploid'], 'Species': ['human', 'human', 'human', 'human', 'human'], 'Probe_MatchOrder': ['1', '1', '2,2,1,2', '1', '1'], 'Chromosome': ['1', '0', '13,X,1,1,8,18,18', '19', '1'], 'Probe_Coordinates': ['100519399', '0', '40,199,983,139,836,000,000,000,000,000,000,000,000,000,000,000,000,000,000,000', '58946329', '234082945'], 'Probe_Chr_Orientation': ['+', '+', '-,-,+,-,-,+,+', '+', '-']}\n"
     ]
    },
    {
     "data": {
      "text/plain": [
       "Index(['ID', 'SYMBOL', 'ILMN_Gene', 'Search_Key', 'SEQUENCE',\n",
       "       'TargetMatureSeqs', 'TargetMatureName', 'miRNA_ID', 'SPOT_ID',\n",
       "       'NumTargets', 'TargetMatureVersion', 'OriginalMatureSeq',\n",
       "       'OriginalMatureName', 'Source', 'Array_Address_Id', 'Illumicode',\n",
       "       'Oligo', 'U3_Seq', 'Ploidy', 'Species', 'Probe_MatchOrder',\n",
       "       'Chromosome', 'Probe_Coordinates', 'Probe_Chr_Orientation'],\n",
       "      dtype='object')"
      ]
     },
     "execution_count": 193,
     "metadata": {},
     "output_type": "execute_result"
    }
   ],
   "source": [
    "requires_gene_mapping = True\n",
    "\n",
    "if requires_gene_mapping:\n",
    "    gene_annotation = get_gene_annotation(soft_file)\n",
    "    gene_annotation_summary = preview_df(gene_annotation)\n",
    "    print(gene_annotation_summary)\n",
    "\n",
    "gene_annotation.columns"
   ]
  },
  {
   "cell_type": "code",
   "execution_count": 183,
   "metadata": {},
   "outputs": [],
   "source": [
    "if requires_gene_mapping:\n",
    "    identifier_key = 'ID'\n",
    "    gene_symbol_key = 'gene_symbol'\n",
    "    gene_mapping = get_gene_mapping(gene_annotation, identifier_key, gene_symbol_key)\n",
    "    genetic_data = apply_gene_mapping(genetic_data, gene_mapping)"
   ]
  },
  {
   "cell_type": "code",
   "execution_count": 194,
   "metadata": {},
   "outputs": [
    {
     "data": {
      "text/html": [
       "<div>\n",
       "<style scoped>\n",
       "    .dataframe tbody tr th:only-of-type {\n",
       "        vertical-align: middle;\n",
       "    }\n",
       "\n",
       "    .dataframe tbody tr th {\n",
       "        vertical-align: top;\n",
       "    }\n",
       "\n",
       "    .dataframe thead th {\n",
       "        text-align: right;\n",
       "    }\n",
       "</style>\n",
       "<table border=\"1\" class=\"dataframe\">\n",
       "  <thead>\n",
       "    <tr style=\"text-align: right;\">\n",
       "      <th></th>\n",
       "      <th>GSM2642980</th>\n",
       "      <th>GSM2642981</th>\n",
       "      <th>GSM2642982</th>\n",
       "      <th>GSM2642983</th>\n",
       "      <th>GSM2642984</th>\n",
       "      <th>GSM2642985</th>\n",
       "      <th>GSM2642986</th>\n",
       "      <th>GSM2642987</th>\n",
       "      <th>GSM2642988</th>\n",
       "      <th>GSM2642989</th>\n",
       "      <th>...</th>\n",
       "      <th>GSM2643028</th>\n",
       "      <th>GSM2643029</th>\n",
       "      <th>GSM2643030</th>\n",
       "      <th>GSM2643031</th>\n",
       "      <th>GSM2643032</th>\n",
       "      <th>GSM2643033</th>\n",
       "      <th>GSM2643034</th>\n",
       "      <th>GSM2643035</th>\n",
       "      <th>GSM2643036</th>\n",
       "      <th>GSM2643037</th>\n",
       "    </tr>\n",
       "  </thead>\n",
       "  <tbody>\n",
       "  </tbody>\n",
       "</table>\n",
       "<p>0 rows × 58 columns</p>\n",
       "</div>"
      ],
      "text/plain": [
       "Empty DataFrame\n",
       "Columns: [GSM2642980, GSM2642981, GSM2642982, GSM2642983, GSM2642984, GSM2642985, GSM2642986, GSM2642987, GSM2642988, GSM2642989, GSM2642990, GSM2642991, GSM2642992, GSM2642993, GSM2642994, GSM2642995, GSM2642996, GSM2642997, GSM2642998, GSM2642999, GSM2643000, GSM2643001, GSM2643002, GSM2643003, GSM2643004, GSM2643005, GSM2643006, GSM2643007, GSM2643008, GSM2643009, GSM2643010, GSM2643011, GSM2643012, GSM2643013, GSM2643014, GSM2643015, GSM2643016, GSM2643017, GSM2643018, GSM2643019, GSM2643020, GSM2643021, GSM2643022, GSM2643023, GSM2643024, GSM2643025, GSM2643026, GSM2643027, GSM2643028, GSM2643029, GSM2643030, GSM2643031, GSM2643032, GSM2643033, GSM2643034, GSM2643035, GSM2643036, GSM2643037]\n",
       "Index: []\n",
       "\n",
       "[0 rows x 58 columns]"
      ]
     },
     "execution_count": 194,
     "metadata": {},
     "output_type": "execute_result"
    }
   ],
   "source": [
    "genetic_data = normalize_gene_symbols_in_index(genetic_data)\n",
    "genetic_data"
   ]
  },
  {
   "cell_type": "markdown",
   "metadata": {},
   "source": [
    "Use selected clinical data and genetic data to generate the merged data:"
   ]
  },
  {
   "cell_type": "code",
   "execution_count": 143,
   "metadata": {},
   "outputs": [
    {
     "data": {
      "text/html": [
       "<div>\n",
       "<style scoped>\n",
       "    .dataframe tbody tr th:only-of-type {\n",
       "        vertical-align: middle;\n",
       "    }\n",
       "\n",
       "    .dataframe tbody tr th {\n",
       "        vertical-align: top;\n",
       "    }\n",
       "\n",
       "    .dataframe thead th {\n",
       "        text-align: right;\n",
       "    }\n",
       "</style>\n",
       "<table border=\"1\" class=\"dataframe\">\n",
       "  <thead>\n",
       "    <tr style=\"text-align: right;\">\n",
       "      <th></th>\n",
       "      <th>Mesothelioma</th>\n",
       "      <th>A2ML1</th>\n",
       "      <th>A4GALT</th>\n",
       "      <th>ABCA4</th>\n",
       "      <th>ABCC6</th>\n",
       "      <th>ABHD14A</th>\n",
       "      <th>ABHD14A-ACY1</th>\n",
       "      <th>ABHD14B</th>\n",
       "      <th>ABHD5</th>\n",
       "      <th>ABHD6</th>\n",
       "      <th>...</th>\n",
       "      <th>ZNF607</th>\n",
       "      <th>ZNF622</th>\n",
       "      <th>ZNF624</th>\n",
       "      <th>ZNF658</th>\n",
       "      <th>ZNF660</th>\n",
       "      <th>ZNF682</th>\n",
       "      <th>ZNF727</th>\n",
       "      <th>ZNF786</th>\n",
       "      <th>ZNF804B</th>\n",
       "      <th>ZRANB3</th>\n",
       "    </tr>\n",
       "  </thead>\n",
       "  <tbody>\n",
       "    <tr>\n",
       "      <th>GSM1383156</th>\n",
       "      <td>1.0</td>\n",
       "      <td>-0.23</td>\n",
       "      <td>-0.22</td>\n",
       "      <td>-0.47</td>\n",
       "      <td>0.33</td>\n",
       "      <td>-0.254483</td>\n",
       "      <td>-0.110000</td>\n",
       "      <td>0.0036</td>\n",
       "      <td>-0.213743</td>\n",
       "      <td>0.01</td>\n",
       "      <td>...</td>\n",
       "      <td>0.00</td>\n",
       "      <td>-0.09</td>\n",
       "      <td>0.10</td>\n",
       "      <td>-0.14</td>\n",
       "      <td>-0.639792</td>\n",
       "      <td>-0.32</td>\n",
       "      <td>0.04</td>\n",
       "      <td>0.20</td>\n",
       "      <td>-0.42</td>\n",
       "      <td>-0.57</td>\n",
       "    </tr>\n",
       "    <tr>\n",
       "      <th>GSM1383157</th>\n",
       "      <td>1.0</td>\n",
       "      <td>-0.11</td>\n",
       "      <td>0.82</td>\n",
       "      <td>0.89</td>\n",
       "      <td>0.06</td>\n",
       "      <td>-0.054483</td>\n",
       "      <td>0.115833</td>\n",
       "      <td>0.0796</td>\n",
       "      <td>-0.525965</td>\n",
       "      <td>-1.05</td>\n",
       "      <td>...</td>\n",
       "      <td>0.08</td>\n",
       "      <td>0.03</td>\n",
       "      <td>0.58</td>\n",
       "      <td>-0.85</td>\n",
       "      <td>-0.181667</td>\n",
       "      <td>0.28</td>\n",
       "      <td>0.12</td>\n",
       "      <td>-0.63</td>\n",
       "      <td>-0.53</td>\n",
       "      <td>-0.54</td>\n",
       "    </tr>\n",
       "    <tr>\n",
       "      <th>GSM1383158</th>\n",
       "      <td>1.0</td>\n",
       "      <td>0.53</td>\n",
       "      <td>1.11</td>\n",
       "      <td>0.37</td>\n",
       "      <td>1.14</td>\n",
       "      <td>0.489310</td>\n",
       "      <td>0.577500</td>\n",
       "      <td>0.5884</td>\n",
       "      <td>0.539123</td>\n",
       "      <td>0.00</td>\n",
       "      <td>...</td>\n",
       "      <td>0.82</td>\n",
       "      <td>0.34</td>\n",
       "      <td>0.96</td>\n",
       "      <td>0.71</td>\n",
       "      <td>0.099375</td>\n",
       "      <td>0.29</td>\n",
       "      <td>0.90</td>\n",
       "      <td>0.92</td>\n",
       "      <td>0.14</td>\n",
       "      <td>0.19</td>\n",
       "    </tr>\n",
       "    <tr>\n",
       "      <th>GSM1383159</th>\n",
       "      <td>1.0</td>\n",
       "      <td>-0.06</td>\n",
       "      <td>0.37</td>\n",
       "      <td>0.25</td>\n",
       "      <td>0.86</td>\n",
       "      <td>0.122414</td>\n",
       "      <td>0.346944</td>\n",
       "      <td>0.2892</td>\n",
       "      <td>-0.330643</td>\n",
       "      <td>-0.67</td>\n",
       "      <td>...</td>\n",
       "      <td>-0.03</td>\n",
       "      <td>1.27</td>\n",
       "      <td>0.84</td>\n",
       "      <td>0.45</td>\n",
       "      <td>-0.116667</td>\n",
       "      <td>0.17</td>\n",
       "      <td>0.76</td>\n",
       "      <td>-0.22</td>\n",
       "      <td>-0.40</td>\n",
       "      <td>0.27</td>\n",
       "    </tr>\n",
       "    <tr>\n",
       "      <th>GSM1383160</th>\n",
       "      <td>1.0</td>\n",
       "      <td>-0.15</td>\n",
       "      <td>-0.71</td>\n",
       "      <td>-0.65</td>\n",
       "      <td>0.12</td>\n",
       "      <td>-0.348276</td>\n",
       "      <td>-0.270833</td>\n",
       "      <td>-0.1732</td>\n",
       "      <td>-0.814444</td>\n",
       "      <td>0.08</td>\n",
       "      <td>...</td>\n",
       "      <td>-0.09</td>\n",
       "      <td>0.16</td>\n",
       "      <td>-0.87</td>\n",
       "      <td>-0.35</td>\n",
       "      <td>-0.746667</td>\n",
       "      <td>0.29</td>\n",
       "      <td>-0.14</td>\n",
       "      <td>0.01</td>\n",
       "      <td>-0.16</td>\n",
       "      <td>-0.15</td>\n",
       "    </tr>\n",
       "    <tr>\n",
       "      <th>GSM1383161</th>\n",
       "      <td>1.0</td>\n",
       "      <td>-0.42</td>\n",
       "      <td>-0.27</td>\n",
       "      <td>0.01</td>\n",
       "      <td>0.78</td>\n",
       "      <td>0.040000</td>\n",
       "      <td>0.158611</td>\n",
       "      <td>0.1964</td>\n",
       "      <td>-0.138889</td>\n",
       "      <td>-0.26</td>\n",
       "      <td>...</td>\n",
       "      <td>0.61</td>\n",
       "      <td>0.89</td>\n",
       "      <td>-0.27</td>\n",
       "      <td>0.41</td>\n",
       "      <td>-0.169167</td>\n",
       "      <td>0.49</td>\n",
       "      <td>0.64</td>\n",
       "      <td>0.54</td>\n",
       "      <td>0.76</td>\n",
       "      <td>0.77</td>\n",
       "    </tr>\n",
       "    <tr>\n",
       "      <th>GSM1383162</th>\n",
       "      <td>1.0</td>\n",
       "      <td>-0.74</td>\n",
       "      <td>-0.43</td>\n",
       "      <td>-0.58</td>\n",
       "      <td>0.21</td>\n",
       "      <td>-0.898276</td>\n",
       "      <td>-0.730833</td>\n",
       "      <td>-0.6884</td>\n",
       "      <td>-0.377251</td>\n",
       "      <td>-0.54</td>\n",
       "      <td>...</td>\n",
       "      <td>-0.56</td>\n",
       "      <td>0.10</td>\n",
       "      <td>-0.04</td>\n",
       "      <td>0.64</td>\n",
       "      <td>-0.284792</td>\n",
       "      <td>-0.43</td>\n",
       "      <td>0.04</td>\n",
       "      <td>-0.83</td>\n",
       "      <td>-0.20</td>\n",
       "      <td>-0.28</td>\n",
       "    </tr>\n",
       "    <tr>\n",
       "      <th>GSM1383163</th>\n",
       "      <td>0.0</td>\n",
       "      <td>-0.35</td>\n",
       "      <td>0.02</td>\n",
       "      <td>0.26</td>\n",
       "      <td>0.43</td>\n",
       "      <td>0.034138</td>\n",
       "      <td>0.075278</td>\n",
       "      <td>0.1140</td>\n",
       "      <td>-0.029942</td>\n",
       "      <td>0.05</td>\n",
       "      <td>...</td>\n",
       "      <td>-0.09</td>\n",
       "      <td>0.01</td>\n",
       "      <td>0.02</td>\n",
       "      <td>-0.02</td>\n",
       "      <td>0.029792</td>\n",
       "      <td>-0.20</td>\n",
       "      <td>0.00</td>\n",
       "      <td>-0.03</td>\n",
       "      <td>-0.19</td>\n",
       "      <td>0.01</td>\n",
       "    </tr>\n",
       "    <tr>\n",
       "      <th>GSM2159884</th>\n",
       "      <td>1.0</td>\n",
       "      <td>-0.09</td>\n",
       "      <td>-0.31</td>\n",
       "      <td>0.20</td>\n",
       "      <td>0.48</td>\n",
       "      <td>0.049310</td>\n",
       "      <td>0.152222</td>\n",
       "      <td>0.1388</td>\n",
       "      <td>-0.089474</td>\n",
       "      <td>-0.32</td>\n",
       "      <td>...</td>\n",
       "      <td>0.07</td>\n",
       "      <td>0.45</td>\n",
       "      <td>-0.08</td>\n",
       "      <td>0.23</td>\n",
       "      <td>-0.118125</td>\n",
       "      <td>-0.03</td>\n",
       "      <td>0.46</td>\n",
       "      <td>0.12</td>\n",
       "      <td>0.39</td>\n",
       "      <td>0.24</td>\n",
       "    </tr>\n",
       "    <tr>\n",
       "      <th>GSM2159885</th>\n",
       "      <td>1.0</td>\n",
       "      <td>-0.23</td>\n",
       "      <td>-0.21</td>\n",
       "      <td>0.37</td>\n",
       "      <td>0.25</td>\n",
       "      <td>0.053103</td>\n",
       "      <td>0.008611</td>\n",
       "      <td>0.1328</td>\n",
       "      <td>-0.032339</td>\n",
       "      <td>0.08</td>\n",
       "      <td>...</td>\n",
       "      <td>0.48</td>\n",
       "      <td>0.88</td>\n",
       "      <td>-0.15</td>\n",
       "      <td>0.21</td>\n",
       "      <td>-0.076667</td>\n",
       "      <td>-0.22</td>\n",
       "      <td>0.32</td>\n",
       "      <td>0.20</td>\n",
       "      <td>0.33</td>\n",
       "      <td>0.23</td>\n",
       "    </tr>\n",
       "    <tr>\n",
       "      <th>GSM2159886</th>\n",
       "      <td>1.0</td>\n",
       "      <td>-0.66</td>\n",
       "      <td>-0.18</td>\n",
       "      <td>0.16</td>\n",
       "      <td>-0.24</td>\n",
       "      <td>-0.026897</td>\n",
       "      <td>0.070556</td>\n",
       "      <td>0.1388</td>\n",
       "      <td>-0.067602</td>\n",
       "      <td>-0.32</td>\n",
       "      <td>...</td>\n",
       "      <td>-0.55</td>\n",
       "      <td>-0.02</td>\n",
       "      <td>-0.38</td>\n",
       "      <td>-0.41</td>\n",
       "      <td>-0.030833</td>\n",
       "      <td>-0.65</td>\n",
       "      <td>-0.37</td>\n",
       "      <td>-0.55</td>\n",
       "      <td>-0.61</td>\n",
       "      <td>-0.43</td>\n",
       "    </tr>\n",
       "    <tr>\n",
       "      <th>GSM2159887</th>\n",
       "      <td>1.0</td>\n",
       "      <td>-0.83</td>\n",
       "      <td>-0.49</td>\n",
       "      <td>-0.44</td>\n",
       "      <td>0.28</td>\n",
       "      <td>0.149310</td>\n",
       "      <td>0.129167</td>\n",
       "      <td>0.2244</td>\n",
       "      <td>-0.010468</td>\n",
       "      <td>-0.03</td>\n",
       "      <td>...</td>\n",
       "      <td>-0.04</td>\n",
       "      <td>0.06</td>\n",
       "      <td>-0.65</td>\n",
       "      <td>0.07</td>\n",
       "      <td>0.031667</td>\n",
       "      <td>-0.25</td>\n",
       "      <td>-0.10</td>\n",
       "      <td>-0.73</td>\n",
       "      <td>-0.26</td>\n",
       "      <td>-0.16</td>\n",
       "    </tr>\n",
       "    <tr>\n",
       "      <th>GSM2159888</th>\n",
       "      <td>1.0</td>\n",
       "      <td>-0.25</td>\n",
       "      <td>-0.76</td>\n",
       "      <td>0.33</td>\n",
       "      <td>-0.19</td>\n",
       "      <td>0.014138</td>\n",
       "      <td>0.013333</td>\n",
       "      <td>0.0560</td>\n",
       "      <td>0.054386</td>\n",
       "      <td>-0.06</td>\n",
       "      <td>...</td>\n",
       "      <td>-0.10</td>\n",
       "      <td>-0.24</td>\n",
       "      <td>0.04</td>\n",
       "      <td>-0.38</td>\n",
       "      <td>0.023542</td>\n",
       "      <td>-0.04</td>\n",
       "      <td>0.28</td>\n",
       "      <td>0.03</td>\n",
       "      <td>0.03</td>\n",
       "      <td>-0.09</td>\n",
       "    </tr>\n",
       "    <tr>\n",
       "      <th>GSM2159889</th>\n",
       "      <td>1.0</td>\n",
       "      <td>-0.16</td>\n",
       "      <td>-0.34</td>\n",
       "      <td>0.06</td>\n",
       "      <td>0.13</td>\n",
       "      <td>0.130690</td>\n",
       "      <td>0.145556</td>\n",
       "      <td>0.1752</td>\n",
       "      <td>-0.045848</td>\n",
       "      <td>-0.14</td>\n",
       "      <td>...</td>\n",
       "      <td>-0.48</td>\n",
       "      <td>-0.03</td>\n",
       "      <td>-0.13</td>\n",
       "      <td>0.01</td>\n",
       "      <td>0.015417</td>\n",
       "      <td>-0.14</td>\n",
       "      <td>-0.11</td>\n",
       "      <td>-0.06</td>\n",
       "      <td>-0.27</td>\n",
       "      <td>-0.17</td>\n",
       "    </tr>\n",
       "    <tr>\n",
       "      <th>GSM2159890</th>\n",
       "      <td>1.0</td>\n",
       "      <td>-0.24</td>\n",
       "      <td>0.08</td>\n",
       "      <td>0.22</td>\n",
       "      <td>0.31</td>\n",
       "      <td>0.170345</td>\n",
       "      <td>0.178333</td>\n",
       "      <td>0.2520</td>\n",
       "      <td>-0.030292</td>\n",
       "      <td>-0.19</td>\n",
       "      <td>...</td>\n",
       "      <td>0.25</td>\n",
       "      <td>0.43</td>\n",
       "      <td>-0.15</td>\n",
       "      <td>-0.15</td>\n",
       "      <td>0.032500</td>\n",
       "      <td>-0.14</td>\n",
       "      <td>0.14</td>\n",
       "      <td>0.03</td>\n",
       "      <td>-0.05</td>\n",
       "      <td>-0.20</td>\n",
       "    </tr>\n",
       "    <tr>\n",
       "      <th>GSM2159891</th>\n",
       "      <td>1.0</td>\n",
       "      <td>0.02</td>\n",
       "      <td>-0.04</td>\n",
       "      <td>0.07</td>\n",
       "      <td>0.33</td>\n",
       "      <td>0.041724</td>\n",
       "      <td>0.045000</td>\n",
       "      <td>0.1228</td>\n",
       "      <td>-0.013801</td>\n",
       "      <td>-0.09</td>\n",
       "      <td>...</td>\n",
       "      <td>0.10</td>\n",
       "      <td>0.32</td>\n",
       "      <td>-0.28</td>\n",
       "      <td>0.05</td>\n",
       "      <td>-0.094583</td>\n",
       "      <td>-0.07</td>\n",
       "      <td>0.07</td>\n",
       "      <td>-0.17</td>\n",
       "      <td>-0.04</td>\n",
       "      <td>-0.08</td>\n",
       "    </tr>\n",
       "    <tr>\n",
       "      <th>GSM2159892</th>\n",
       "      <td>1.0</td>\n",
       "      <td>-0.21</td>\n",
       "      <td>0.19</td>\n",
       "      <td>0.21</td>\n",
       "      <td>0.62</td>\n",
       "      <td>0.218276</td>\n",
       "      <td>0.239444</td>\n",
       "      <td>0.3004</td>\n",
       "      <td>-0.042047</td>\n",
       "      <td>-0.08</td>\n",
       "      <td>...</td>\n",
       "      <td>-0.15</td>\n",
       "      <td>0.08</td>\n",
       "      <td>-0.06</td>\n",
       "      <td>-0.19</td>\n",
       "      <td>0.027708</td>\n",
       "      <td>-0.27</td>\n",
       "      <td>-0.08</td>\n",
       "      <td>-0.19</td>\n",
       "      <td>-0.24</td>\n",
       "      <td>-0.19</td>\n",
       "    </tr>\n",
       "    <tr>\n",
       "      <th>GSM2159893</th>\n",
       "      <td>1.0</td>\n",
       "      <td>-0.13</td>\n",
       "      <td>-0.25</td>\n",
       "      <td>-0.43</td>\n",
       "      <td>0.22</td>\n",
       "      <td>-0.022069</td>\n",
       "      <td>-0.044722</td>\n",
       "      <td>0.0708</td>\n",
       "      <td>-0.475789</td>\n",
       "      <td>0.01</td>\n",
       "      <td>...</td>\n",
       "      <td>-0.19</td>\n",
       "      <td>0.12</td>\n",
       "      <td>-0.67</td>\n",
       "      <td>-0.22</td>\n",
       "      <td>-0.502917</td>\n",
       "      <td>0.52</td>\n",
       "      <td>-0.15</td>\n",
       "      <td>-0.49</td>\n",
       "      <td>-0.03</td>\n",
       "      <td>-0.11</td>\n",
       "    </tr>\n",
       "    <tr>\n",
       "      <th>GSM2159894</th>\n",
       "      <td>1.0</td>\n",
       "      <td>-0.10</td>\n",
       "      <td>-0.18</td>\n",
       "      <td>-0.05</td>\n",
       "      <td>0.48</td>\n",
       "      <td>0.248276</td>\n",
       "      <td>0.200833</td>\n",
       "      <td>0.2752</td>\n",
       "      <td>-0.019708</td>\n",
       "      <td>0.19</td>\n",
       "      <td>...</td>\n",
       "      <td>-0.23</td>\n",
       "      <td>-0.37</td>\n",
       "      <td>-0.36</td>\n",
       "      <td>-0.02</td>\n",
       "      <td>0.085417</td>\n",
       "      <td>-0.29</td>\n",
       "      <td>-0.41</td>\n",
       "      <td>-0.10</td>\n",
       "      <td>-0.55</td>\n",
       "      <td>-0.25</td>\n",
       "    </tr>\n",
       "    <tr>\n",
       "      <th>GSM2159895</th>\n",
       "      <td>1.0</td>\n",
       "      <td>0.37</td>\n",
       "      <td>-0.47</td>\n",
       "      <td>-0.18</td>\n",
       "      <td>0.66</td>\n",
       "      <td>0.194138</td>\n",
       "      <td>0.101667</td>\n",
       "      <td>0.2308</td>\n",
       "      <td>-0.019942</td>\n",
       "      <td>0.63</td>\n",
       "      <td>...</td>\n",
       "      <td>1.08</td>\n",
       "      <td>0.59</td>\n",
       "      <td>-0.43</td>\n",
       "      <td>0.08</td>\n",
       "      <td>-0.083542</td>\n",
       "      <td>0.49</td>\n",
       "      <td>0.34</td>\n",
       "      <td>0.13</td>\n",
       "      <td>0.48</td>\n",
       "      <td>0.52</td>\n",
       "    </tr>\n",
       "    <tr>\n",
       "      <th>GSM2159896</th>\n",
       "      <td>1.0</td>\n",
       "      <td>0.29</td>\n",
       "      <td>-0.51</td>\n",
       "      <td>0.54</td>\n",
       "      <td>0.61</td>\n",
       "      <td>0.127586</td>\n",
       "      <td>0.096389</td>\n",
       "      <td>0.2224</td>\n",
       "      <td>0.024737</td>\n",
       "      <td>0.60</td>\n",
       "      <td>...</td>\n",
       "      <td>0.36</td>\n",
       "      <td>0.47</td>\n",
       "      <td>0.22</td>\n",
       "      <td>0.56</td>\n",
       "      <td>-0.057500</td>\n",
       "      <td>0.09</td>\n",
       "      <td>0.37</td>\n",
       "      <td>0.24</td>\n",
       "      <td>0.43</td>\n",
       "      <td>0.60</td>\n",
       "    </tr>\n",
       "    <tr>\n",
       "      <th>GSM2159897</th>\n",
       "      <td>1.0</td>\n",
       "      <td>-0.09</td>\n",
       "      <td>-0.41</td>\n",
       "      <td>0.06</td>\n",
       "      <td>0.23</td>\n",
       "      <td>0.065172</td>\n",
       "      <td>0.022500</td>\n",
       "      <td>0.0932</td>\n",
       "      <td>-0.068246</td>\n",
       "      <td>0.00</td>\n",
       "      <td>...</td>\n",
       "      <td>0.10</td>\n",
       "      <td>0.04</td>\n",
       "      <td>-0.26</td>\n",
       "      <td>0.10</td>\n",
       "      <td>-0.083333</td>\n",
       "      <td>-0.46</td>\n",
       "      <td>0.06</td>\n",
       "      <td>-0.11</td>\n",
       "      <td>-0.05</td>\n",
       "      <td>0.22</td>\n",
       "    </tr>\n",
       "    <tr>\n",
       "      <th>GSM2159898</th>\n",
       "      <td>1.0</td>\n",
       "      <td>-0.25</td>\n",
       "      <td>-0.85</td>\n",
       "      <td>-0.23</td>\n",
       "      <td>-0.14</td>\n",
       "      <td>-0.034483</td>\n",
       "      <td>-0.106944</td>\n",
       "      <td>-0.0248</td>\n",
       "      <td>0.147076</td>\n",
       "      <td>-0.51</td>\n",
       "      <td>...</td>\n",
       "      <td>-0.22</td>\n",
       "      <td>-0.05</td>\n",
       "      <td>-0.63</td>\n",
       "      <td>0.13</td>\n",
       "      <td>0.135208</td>\n",
       "      <td>-0.21</td>\n",
       "      <td>-0.15</td>\n",
       "      <td>-0.18</td>\n",
       "      <td>-0.22</td>\n",
       "      <td>-0.42</td>\n",
       "    </tr>\n",
       "    <tr>\n",
       "      <th>GSM2159899</th>\n",
       "      <td>1.0</td>\n",
       "      <td>0.37</td>\n",
       "      <td>0.36</td>\n",
       "      <td>0.24</td>\n",
       "      <td>1.01</td>\n",
       "      <td>0.185517</td>\n",
       "      <td>0.225278</td>\n",
       "      <td>0.3300</td>\n",
       "      <td>-0.006199</td>\n",
       "      <td>0.09</td>\n",
       "      <td>...</td>\n",
       "      <td>0.67</td>\n",
       "      <td>0.37</td>\n",
       "      <td>0.46</td>\n",
       "      <td>0.69</td>\n",
       "      <td>-0.008542</td>\n",
       "      <td>-0.03</td>\n",
       "      <td>-0.30</td>\n",
       "      <td>0.54</td>\n",
       "      <td>0.69</td>\n",
       "      <td>0.97</td>\n",
       "    </tr>\n",
       "    <tr>\n",
       "      <th>GSM2159900</th>\n",
       "      <td>1.0</td>\n",
       "      <td>-0.26</td>\n",
       "      <td>-0.27</td>\n",
       "      <td>0.13</td>\n",
       "      <td>-0.02</td>\n",
       "      <td>-0.224828</td>\n",
       "      <td>-0.208056</td>\n",
       "      <td>-0.1396</td>\n",
       "      <td>-0.253099</td>\n",
       "      <td>-0.34</td>\n",
       "      <td>...</td>\n",
       "      <td>-0.36</td>\n",
       "      <td>0.33</td>\n",
       "      <td>-0.36</td>\n",
       "      <td>-0.31</td>\n",
       "      <td>-0.227083</td>\n",
       "      <td>-0.33</td>\n",
       "      <td>-0.33</td>\n",
       "      <td>-0.15</td>\n",
       "      <td>-0.22</td>\n",
       "      <td>-0.21</td>\n",
       "    </tr>\n",
       "    <tr>\n",
       "      <th>GSM2159901</th>\n",
       "      <td>1.0</td>\n",
       "      <td>-0.20</td>\n",
       "      <td>-0.52</td>\n",
       "      <td>-0.03</td>\n",
       "      <td>0.19</td>\n",
       "      <td>0.000690</td>\n",
       "      <td>-0.150556</td>\n",
       "      <td>0.0452</td>\n",
       "      <td>0.058129</td>\n",
       "      <td>0.45</td>\n",
       "      <td>...</td>\n",
       "      <td>0.33</td>\n",
       "      <td>-0.04</td>\n",
       "      <td>-0.25</td>\n",
       "      <td>0.13</td>\n",
       "      <td>-0.043125</td>\n",
       "      <td>-0.30</td>\n",
       "      <td>-0.12</td>\n",
       "      <td>-0.24</td>\n",
       "      <td>0.05</td>\n",
       "      <td>0.27</td>\n",
       "    </tr>\n",
       "    <tr>\n",
       "      <th>GSM2159902</th>\n",
       "      <td>1.0</td>\n",
       "      <td>-0.18</td>\n",
       "      <td>-0.32</td>\n",
       "      <td>0.17</td>\n",
       "      <td>0.39</td>\n",
       "      <td>-0.063793</td>\n",
       "      <td>-0.030833</td>\n",
       "      <td>0.0444</td>\n",
       "      <td>-0.305848</td>\n",
       "      <td>-0.29</td>\n",
       "      <td>...</td>\n",
       "      <td>-0.04</td>\n",
       "      <td>0.06</td>\n",
       "      <td>-0.04</td>\n",
       "      <td>0.04</td>\n",
       "      <td>-0.255208</td>\n",
       "      <td>-0.19</td>\n",
       "      <td>-0.17</td>\n",
       "      <td>-0.22</td>\n",
       "      <td>-0.15</td>\n",
       "      <td>-0.19</td>\n",
       "    </tr>\n",
       "    <tr>\n",
       "      <th>GSM2159903</th>\n",
       "      <td>1.0</td>\n",
       "      <td>0.02</td>\n",
       "      <td>-0.58</td>\n",
       "      <td>-0.18</td>\n",
       "      <td>-0.34</td>\n",
       "      <td>-0.020000</td>\n",
       "      <td>0.036389</td>\n",
       "      <td>0.0580</td>\n",
       "      <td>-0.175029</td>\n",
       "      <td>-0.14</td>\n",
       "      <td>...</td>\n",
       "      <td>0.37</td>\n",
       "      <td>0.30</td>\n",
       "      <td>-0.43</td>\n",
       "      <td>-0.31</td>\n",
       "      <td>-0.133542</td>\n",
       "      <td>0.65</td>\n",
       "      <td>0.12</td>\n",
       "      <td>0.02</td>\n",
       "      <td>0.07</td>\n",
       "      <td>-0.09</td>\n",
       "    </tr>\n",
       "    <tr>\n",
       "      <th>GSM2159904</th>\n",
       "      <td>1.0</td>\n",
       "      <td>-0.04</td>\n",
       "      <td>-0.45</td>\n",
       "      <td>0.39</td>\n",
       "      <td>0.36</td>\n",
       "      <td>0.053103</td>\n",
       "      <td>0.038056</td>\n",
       "      <td>0.1040</td>\n",
       "      <td>-0.029825</td>\n",
       "      <td>-0.37</td>\n",
       "      <td>...</td>\n",
       "      <td>0.23</td>\n",
       "      <td>0.60</td>\n",
       "      <td>0.15</td>\n",
       "      <td>0.39</td>\n",
       "      <td>0.008333</td>\n",
       "      <td>0.24</td>\n",
       "      <td>0.23</td>\n",
       "      <td>-0.09</td>\n",
       "      <td>0.14</td>\n",
       "      <td>0.07</td>\n",
       "    </tr>\n",
       "    <tr>\n",
       "      <th>GSM2159905</th>\n",
       "      <td>1.0</td>\n",
       "      <td>0.20</td>\n",
       "      <td>-0.50</td>\n",
       "      <td>-0.17</td>\n",
       "      <td>0.71</td>\n",
       "      <td>0.058276</td>\n",
       "      <td>0.039444</td>\n",
       "      <td>0.1508</td>\n",
       "      <td>-0.044327</td>\n",
       "      <td>-0.14</td>\n",
       "      <td>...</td>\n",
       "      <td>0.40</td>\n",
       "      <td>0.27</td>\n",
       "      <td>0.13</td>\n",
       "      <td>0.41</td>\n",
       "      <td>-0.135625</td>\n",
       "      <td>0.35</td>\n",
       "      <td>-0.04</td>\n",
       "      <td>0.05</td>\n",
       "      <td>0.08</td>\n",
       "      <td>0.13</td>\n",
       "    </tr>\n",
       "    <tr>\n",
       "      <th>GSM2159906</th>\n",
       "      <td>1.0</td>\n",
       "      <td>-0.12</td>\n",
       "      <td>-0.56</td>\n",
       "      <td>0.28</td>\n",
       "      <td>0.50</td>\n",
       "      <td>0.097586</td>\n",
       "      <td>0.063889</td>\n",
       "      <td>0.1648</td>\n",
       "      <td>0.000877</td>\n",
       "      <td>-0.09</td>\n",
       "      <td>...</td>\n",
       "      <td>-0.13</td>\n",
       "      <td>0.34</td>\n",
       "      <td>-0.12</td>\n",
       "      <td>0.02</td>\n",
       "      <td>-0.096458</td>\n",
       "      <td>0.13</td>\n",
       "      <td>0.54</td>\n",
       "      <td>0.27</td>\n",
       "      <td>0.49</td>\n",
       "      <td>0.00</td>\n",
       "    </tr>\n",
       "    <tr>\n",
       "      <th>GSM2159907</th>\n",
       "      <td>1.0</td>\n",
       "      <td>-0.37</td>\n",
       "      <td>-1.43</td>\n",
       "      <td>-0.27</td>\n",
       "      <td>-0.13</td>\n",
       "      <td>-0.023448</td>\n",
       "      <td>-0.081667</td>\n",
       "      <td>0.0040</td>\n",
       "      <td>0.019649</td>\n",
       "      <td>-0.12</td>\n",
       "      <td>...</td>\n",
       "      <td>-0.42</td>\n",
       "      <td>0.28</td>\n",
       "      <td>-0.50</td>\n",
       "      <td>-0.26</td>\n",
       "      <td>-0.104792</td>\n",
       "      <td>-0.49</td>\n",
       "      <td>0.01</td>\n",
       "      <td>-0.48</td>\n",
       "      <td>0.04</td>\n",
       "      <td>0.10</td>\n",
       "    </tr>\n",
       "    <tr>\n",
       "      <th>GSM2159908</th>\n",
       "      <td>1.0</td>\n",
       "      <td>-0.15</td>\n",
       "      <td>-0.29</td>\n",
       "      <td>-0.21</td>\n",
       "      <td>0.34</td>\n",
       "      <td>0.114483</td>\n",
       "      <td>0.138333</td>\n",
       "      <td>0.1780</td>\n",
       "      <td>-0.108889</td>\n",
       "      <td>-0.05</td>\n",
       "      <td>...</td>\n",
       "      <td>0.05</td>\n",
       "      <td>0.16</td>\n",
       "      <td>0.00</td>\n",
       "      <td>0.01</td>\n",
       "      <td>-0.015208</td>\n",
       "      <td>-0.22</td>\n",
       "      <td>-0.19</td>\n",
       "      <td>-0.30</td>\n",
       "      <td>-0.30</td>\n",
       "      <td>-0.12</td>\n",
       "    </tr>\n",
       "    <tr>\n",
       "      <th>GSM2159909</th>\n",
       "      <td>1.0</td>\n",
       "      <td>0.14</td>\n",
       "      <td>-0.76</td>\n",
       "      <td>0.34</td>\n",
       "      <td>-0.01</td>\n",
       "      <td>-0.050345</td>\n",
       "      <td>-0.018056</td>\n",
       "      <td>-0.0184</td>\n",
       "      <td>0.049532</td>\n",
       "      <td>0.32</td>\n",
       "      <td>...</td>\n",
       "      <td>0.08</td>\n",
       "      <td>0.17</td>\n",
       "      <td>-0.06</td>\n",
       "      <td>0.11</td>\n",
       "      <td>0.036667</td>\n",
       "      <td>-0.28</td>\n",
       "      <td>0.24</td>\n",
       "      <td>0.02</td>\n",
       "      <td>-0.01</td>\n",
       "      <td>0.18</td>\n",
       "    </tr>\n",
       "  </tbody>\n",
       "</table>\n",
       "<p>34 rows × 1221 columns</p>\n",
       "</div>"
      ],
      "text/plain": [
       "            Mesothelioma  A2ML1  A4GALT  ABCA4  ABCC6   ABHD14A  ABHD14A-ACY1  \\\n",
       "GSM1383156           1.0  -0.23   -0.22  -0.47   0.33 -0.254483     -0.110000   \n",
       "GSM1383157           1.0  -0.11    0.82   0.89   0.06 -0.054483      0.115833   \n",
       "GSM1383158           1.0   0.53    1.11   0.37   1.14  0.489310      0.577500   \n",
       "GSM1383159           1.0  -0.06    0.37   0.25   0.86  0.122414      0.346944   \n",
       "GSM1383160           1.0  -0.15   -0.71  -0.65   0.12 -0.348276     -0.270833   \n",
       "GSM1383161           1.0  -0.42   -0.27   0.01   0.78  0.040000      0.158611   \n",
       "GSM1383162           1.0  -0.74   -0.43  -0.58   0.21 -0.898276     -0.730833   \n",
       "GSM1383163           0.0  -0.35    0.02   0.26   0.43  0.034138      0.075278   \n",
       "GSM2159884           1.0  -0.09   -0.31   0.20   0.48  0.049310      0.152222   \n",
       "GSM2159885           1.0  -0.23   -0.21   0.37   0.25  0.053103      0.008611   \n",
       "GSM2159886           1.0  -0.66   -0.18   0.16  -0.24 -0.026897      0.070556   \n",
       "GSM2159887           1.0  -0.83   -0.49  -0.44   0.28  0.149310      0.129167   \n",
       "GSM2159888           1.0  -0.25   -0.76   0.33  -0.19  0.014138      0.013333   \n",
       "GSM2159889           1.0  -0.16   -0.34   0.06   0.13  0.130690      0.145556   \n",
       "GSM2159890           1.0  -0.24    0.08   0.22   0.31  0.170345      0.178333   \n",
       "GSM2159891           1.0   0.02   -0.04   0.07   0.33  0.041724      0.045000   \n",
       "GSM2159892           1.0  -0.21    0.19   0.21   0.62  0.218276      0.239444   \n",
       "GSM2159893           1.0  -0.13   -0.25  -0.43   0.22 -0.022069     -0.044722   \n",
       "GSM2159894           1.0  -0.10   -0.18  -0.05   0.48  0.248276      0.200833   \n",
       "GSM2159895           1.0   0.37   -0.47  -0.18   0.66  0.194138      0.101667   \n",
       "GSM2159896           1.0   0.29   -0.51   0.54   0.61  0.127586      0.096389   \n",
       "GSM2159897           1.0  -0.09   -0.41   0.06   0.23  0.065172      0.022500   \n",
       "GSM2159898           1.0  -0.25   -0.85  -0.23  -0.14 -0.034483     -0.106944   \n",
       "GSM2159899           1.0   0.37    0.36   0.24   1.01  0.185517      0.225278   \n",
       "GSM2159900           1.0  -0.26   -0.27   0.13  -0.02 -0.224828     -0.208056   \n",
       "GSM2159901           1.0  -0.20   -0.52  -0.03   0.19  0.000690     -0.150556   \n",
       "GSM2159902           1.0  -0.18   -0.32   0.17   0.39 -0.063793     -0.030833   \n",
       "GSM2159903           1.0   0.02   -0.58  -0.18  -0.34 -0.020000      0.036389   \n",
       "GSM2159904           1.0  -0.04   -0.45   0.39   0.36  0.053103      0.038056   \n",
       "GSM2159905           1.0   0.20   -0.50  -0.17   0.71  0.058276      0.039444   \n",
       "GSM2159906           1.0  -0.12   -0.56   0.28   0.50  0.097586      0.063889   \n",
       "GSM2159907           1.0  -0.37   -1.43  -0.27  -0.13 -0.023448     -0.081667   \n",
       "GSM2159908           1.0  -0.15   -0.29  -0.21   0.34  0.114483      0.138333   \n",
       "GSM2159909           1.0   0.14   -0.76   0.34  -0.01 -0.050345     -0.018056   \n",
       "\n",
       "            ABHD14B     ABHD5  ABHD6  ...  ZNF607  ZNF622  ZNF624  ZNF658  \\\n",
       "GSM1383156   0.0036 -0.213743   0.01  ...    0.00   -0.09    0.10   -0.14   \n",
       "GSM1383157   0.0796 -0.525965  -1.05  ...    0.08    0.03    0.58   -0.85   \n",
       "GSM1383158   0.5884  0.539123   0.00  ...    0.82    0.34    0.96    0.71   \n",
       "GSM1383159   0.2892 -0.330643  -0.67  ...   -0.03    1.27    0.84    0.45   \n",
       "GSM1383160  -0.1732 -0.814444   0.08  ...   -0.09    0.16   -0.87   -0.35   \n",
       "GSM1383161   0.1964 -0.138889  -0.26  ...    0.61    0.89   -0.27    0.41   \n",
       "GSM1383162  -0.6884 -0.377251  -0.54  ...   -0.56    0.10   -0.04    0.64   \n",
       "GSM1383163   0.1140 -0.029942   0.05  ...   -0.09    0.01    0.02   -0.02   \n",
       "GSM2159884   0.1388 -0.089474  -0.32  ...    0.07    0.45   -0.08    0.23   \n",
       "GSM2159885   0.1328 -0.032339   0.08  ...    0.48    0.88   -0.15    0.21   \n",
       "GSM2159886   0.1388 -0.067602  -0.32  ...   -0.55   -0.02   -0.38   -0.41   \n",
       "GSM2159887   0.2244 -0.010468  -0.03  ...   -0.04    0.06   -0.65    0.07   \n",
       "GSM2159888   0.0560  0.054386  -0.06  ...   -0.10   -0.24    0.04   -0.38   \n",
       "GSM2159889   0.1752 -0.045848  -0.14  ...   -0.48   -0.03   -0.13    0.01   \n",
       "GSM2159890   0.2520 -0.030292  -0.19  ...    0.25    0.43   -0.15   -0.15   \n",
       "GSM2159891   0.1228 -0.013801  -0.09  ...    0.10    0.32   -0.28    0.05   \n",
       "GSM2159892   0.3004 -0.042047  -0.08  ...   -0.15    0.08   -0.06   -0.19   \n",
       "GSM2159893   0.0708 -0.475789   0.01  ...   -0.19    0.12   -0.67   -0.22   \n",
       "GSM2159894   0.2752 -0.019708   0.19  ...   -0.23   -0.37   -0.36   -0.02   \n",
       "GSM2159895   0.2308 -0.019942   0.63  ...    1.08    0.59   -0.43    0.08   \n",
       "GSM2159896   0.2224  0.024737   0.60  ...    0.36    0.47    0.22    0.56   \n",
       "GSM2159897   0.0932 -0.068246   0.00  ...    0.10    0.04   -0.26    0.10   \n",
       "GSM2159898  -0.0248  0.147076  -0.51  ...   -0.22   -0.05   -0.63    0.13   \n",
       "GSM2159899   0.3300 -0.006199   0.09  ...    0.67    0.37    0.46    0.69   \n",
       "GSM2159900  -0.1396 -0.253099  -0.34  ...   -0.36    0.33   -0.36   -0.31   \n",
       "GSM2159901   0.0452  0.058129   0.45  ...    0.33   -0.04   -0.25    0.13   \n",
       "GSM2159902   0.0444 -0.305848  -0.29  ...   -0.04    0.06   -0.04    0.04   \n",
       "GSM2159903   0.0580 -0.175029  -0.14  ...    0.37    0.30   -0.43   -0.31   \n",
       "GSM2159904   0.1040 -0.029825  -0.37  ...    0.23    0.60    0.15    0.39   \n",
       "GSM2159905   0.1508 -0.044327  -0.14  ...    0.40    0.27    0.13    0.41   \n",
       "GSM2159906   0.1648  0.000877  -0.09  ...   -0.13    0.34   -0.12    0.02   \n",
       "GSM2159907   0.0040  0.019649  -0.12  ...   -0.42    0.28   -0.50   -0.26   \n",
       "GSM2159908   0.1780 -0.108889  -0.05  ...    0.05    0.16    0.00    0.01   \n",
       "GSM2159909  -0.0184  0.049532   0.32  ...    0.08    0.17   -0.06    0.11   \n",
       "\n",
       "              ZNF660  ZNF682  ZNF727  ZNF786  ZNF804B  ZRANB3  \n",
       "GSM1383156 -0.639792   -0.32    0.04    0.20    -0.42   -0.57  \n",
       "GSM1383157 -0.181667    0.28    0.12   -0.63    -0.53   -0.54  \n",
       "GSM1383158  0.099375    0.29    0.90    0.92     0.14    0.19  \n",
       "GSM1383159 -0.116667    0.17    0.76   -0.22    -0.40    0.27  \n",
       "GSM1383160 -0.746667    0.29   -0.14    0.01    -0.16   -0.15  \n",
       "GSM1383161 -0.169167    0.49    0.64    0.54     0.76    0.77  \n",
       "GSM1383162 -0.284792   -0.43    0.04   -0.83    -0.20   -0.28  \n",
       "GSM1383163  0.029792   -0.20    0.00   -0.03    -0.19    0.01  \n",
       "GSM2159884 -0.118125   -0.03    0.46    0.12     0.39    0.24  \n",
       "GSM2159885 -0.076667   -0.22    0.32    0.20     0.33    0.23  \n",
       "GSM2159886 -0.030833   -0.65   -0.37   -0.55    -0.61   -0.43  \n",
       "GSM2159887  0.031667   -0.25   -0.10   -0.73    -0.26   -0.16  \n",
       "GSM2159888  0.023542   -0.04    0.28    0.03     0.03   -0.09  \n",
       "GSM2159889  0.015417   -0.14   -0.11   -0.06    -0.27   -0.17  \n",
       "GSM2159890  0.032500   -0.14    0.14    0.03    -0.05   -0.20  \n",
       "GSM2159891 -0.094583   -0.07    0.07   -0.17    -0.04   -0.08  \n",
       "GSM2159892  0.027708   -0.27   -0.08   -0.19    -0.24   -0.19  \n",
       "GSM2159893 -0.502917    0.52   -0.15   -0.49    -0.03   -0.11  \n",
       "GSM2159894  0.085417   -0.29   -0.41   -0.10    -0.55   -0.25  \n",
       "GSM2159895 -0.083542    0.49    0.34    0.13     0.48    0.52  \n",
       "GSM2159896 -0.057500    0.09    0.37    0.24     0.43    0.60  \n",
       "GSM2159897 -0.083333   -0.46    0.06   -0.11    -0.05    0.22  \n",
       "GSM2159898  0.135208   -0.21   -0.15   -0.18    -0.22   -0.42  \n",
       "GSM2159899 -0.008542   -0.03   -0.30    0.54     0.69    0.97  \n",
       "GSM2159900 -0.227083   -0.33   -0.33   -0.15    -0.22   -0.21  \n",
       "GSM2159901 -0.043125   -0.30   -0.12   -0.24     0.05    0.27  \n",
       "GSM2159902 -0.255208   -0.19   -0.17   -0.22    -0.15   -0.19  \n",
       "GSM2159903 -0.133542    0.65    0.12    0.02     0.07   -0.09  \n",
       "GSM2159904  0.008333    0.24    0.23   -0.09     0.14    0.07  \n",
       "GSM2159905 -0.135625    0.35   -0.04    0.05     0.08    0.13  \n",
       "GSM2159906 -0.096458    0.13    0.54    0.27     0.49    0.00  \n",
       "GSM2159907 -0.104792   -0.49    0.01   -0.48     0.04    0.10  \n",
       "GSM2159908 -0.015208   -0.22   -0.19   -0.30    -0.30   -0.12  \n",
       "GSM2159909  0.036667   -0.28    0.24    0.02    -0.01    0.18  \n",
       "\n",
       "[34 rows x 1221 columns]"
      ]
     },
     "execution_count": 143,
     "metadata": {},
     "output_type": "execute_result"
    }
   ],
   "source": [
    "merged_data = geo_merge_clinical_genetic_data(selected_clinical_data, genetic_data)\n",
    "is_available = True\n",
    "\n",
    "merged_data"
   ]
  },
  {
   "cell_type": "markdown",
   "metadata": {},
   "source": [
    "Check if the merged data biased or not:"
   ]
  },
  {
   "cell_type": "code",
   "execution_count": 144,
   "metadata": {},
   "outputs": [
    {
     "name": "stdout",
     "output_type": "stream",
     "text": [
      "The merged dataset contains 34 samples.\n",
      "For the feature 'Mesothelioma', the least common label is '0.0' with 1 occurrences. This represents 2.94% of the dataset.\n",
      "The distribution of the feature 'Mesothelioma' in this dataset is severely biased.\n",
      "\n"
     ]
    },
    {
     "data": {
      "text/plain": [
       "True"
      ]
     },
     "execution_count": 144,
     "metadata": {},
     "output_type": "execute_result"
    }
   ],
   "source": [
    "trait_type = 'binary'\n",
    "print(f\"The merged dataset contains {len(merged_data)} samples.\")\n",
    "is_trait_biased, merged_data = judge_and_remove_biased_features(merged_data, TRAIT, trait_type=trait_type)\n",
    "is_trait_biased"
   ]
  },
  {
   "cell_type": "markdown",
   "metadata": {},
   "source": [
    "Save the data as a csv file:"
   ]
  },
  {
   "cell_type": "code",
   "execution_count": 145,
   "metadata": {},
   "outputs": [],
   "source": [
    "if is_available:\n",
    "    save_cohort_info(cohort, JSON_PATH, is_available, is_trait_biased, merged_data, note='')\n",
    "else:\n",
    "    save_cohort_info(cohort, JSON_PATH, is_available)\n",
    "merged_data.head()\n",
    "if not is_trait_biased:\n",
    "    merged_data.to_csv(os.path.join(OUTPUT_DIR, cohort + '.csv'), index=False)"
   ]
  }
 ],
 "metadata": {
  "colab": {
   "provenance": []
  },
  "kernelspec": {
   "display_name": "Python 3 (ipykernel)",
   "language": "python",
   "name": "python3"
  },
  "language_info": {
   "codemirror_mode": {
    "name": "ipython",
    "version": 3
   },
   "file_extension": ".py",
   "mimetype": "text/x-python",
   "name": "python",
   "nbconvert_exporter": "python",
   "pygments_lexer": "ipython3",
   "version": "3.11.9"
  }
 },
 "nbformat": 4,
 "nbformat_minor": 0
}
