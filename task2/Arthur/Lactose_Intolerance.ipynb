{
 "cells": [
  {
   "cell_type": "markdown",
   "metadata": {
    "collapsed": false
   },
   "source": [
    "# Gold standard curation: Preprocessing and single-step regression"
   ]
  },
  {
   "cell_type": "markdown",
   "metadata": {
    "collapsed": false
   },
   "source": [
    "In this stage of gold standard curation, we will do the data preprocessing, selection, and single-step regression for the 153 traits in our question set. This file shows the reference steps using the trait \"Breast Cancer\" as an example. The workflow consists of the following steps:\n",
    "\n",
    "1. Preprocess all the cohorts related to this trait. Each cohort should be converted to a tabular form and saved to a csv file, with columns being genetic factors, the trait, and age, gender if available;\n",
    "2. If there exists at least one cohort with age or gender information, conduct regression analysis with genetic features together with age or gender as the regressors.\n"
   ]
  },
  {
   "cell_type": "markdown",
   "metadata": {
    "collapsed": false
   },
   "source": [
    "# 1. Basic setup"
   ]
  },
  {
   "cell_type": "code",
   "execution_count": 1,
   "metadata": {
    "ExecuteTime": {
     "end_time": "2024-01-10T21:37:25.927828954Z",
     "start_time": "2024-01-10T21:37:25.311064788Z"
    },
    "collapsed": false
   },
   "outputs": [
    {
     "name": "stdout",
     "output_type": "stream",
     "text": [
      "utils.py has been loaded\n"
     ]
    }
   ],
   "source": [
    "import os\n",
    "import sys\n",
    "\n",
    "sys.path.append('..')\n",
    "from utils import *\n",
    "\n",
    "# Set your preferred name\n",
    "USER = \"Arthur\"\n",
    "# Set the data and output directories\n",
    "DATA_ROOT = 'C:/Users/arthu/Downloads'\n",
    "OUTPUT_ROOT = 'C:/Users/arthu/OneDrive/Documents/GitHub/output2'\n",
    "TRAIT = \"Lactose-Intolerance\"\n",
    "\n",
    "OUTPUT_DIR = os.path.join(OUTPUT_ROOT, USER, '-'.join(TRAIT.split()))\n",
    "JSON_PATH = os.path.join(OUTPUT_DIR, \"cohort_info.json\")\n",
    "if not os.path.exists(OUTPUT_DIR):\n",
    "    os.makedirs(OUTPUT_DIR, exist_ok=True)\n",
    "\n",
    "# Gene symbol normalization may take 1-2 minutes. You may set it to False for debugging.\n",
    "NORMALIZE_GENE = True"
   ]
  },
  {
   "cell_type": "markdown",
   "metadata": {
    "collapsed": false
   },
   "source": [
    "# 2. Data preprocessing and selection"
   ]
  },
  {
   "cell_type": "markdown",
   "metadata": {
    "ExecuteTime": {
     "end_time": "2023-12-28T21:28:38.028916303Z",
     "start_time": "2023-12-28T21:28:38.016245426Z"
    },
    "collapsed": false
   },
   "source": [
    "## 2.2. The GEO dataset"
   ]
  },
  {
   "cell_type": "markdown",
   "metadata": {
    "ExecuteTime": {
     "end_time": "2023-12-31T03:25:23.253882615Z",
     "start_time": "2023-12-31T03:25:23.244062710Z"
    },
    "collapsed": false
   },
   "source": [
    "In GEO, there may be one or multiple cohorts for a trait. Each cohort is identified by an accession number. We iterate over all accession numbers in the corresponding subdirectory, preprocess the cohort data, and save them to csv files."
   ]
  },
  {
   "cell_type": "code",
   "execution_count": 2,
   "metadata": {
    "ExecuteTime": {
     "end_time": "2024-01-10T21:38:31.425592571Z",
     "start_time": "2024-01-10T21:38:31.419137625Z"
    },
    "collapsed": false
   },
   "outputs": [
    {
     "data": {
      "text/plain": [
       "['GSE136395', 'GSE138297']"
      ]
     },
     "execution_count": 2,
     "metadata": {},
     "output_type": "execute_result"
    }
   ],
   "source": [
    "dataset = 'GEO'\n",
    "trait_subdir = \"Lactose-Intolerance\"\n",
    "\n",
    "trait_path = os.path.join(DATA_ROOT, dataset, trait_subdir)\n",
    "os.listdir(trait_path)"
   ]
  },
  {
   "cell_type": "code",
   "execution_count": 11,
   "metadata": {
    "ExecuteTime": {
     "end_time": "2024-01-10T21:39:02.935079426Z",
     "start_time": "2024-01-10T21:39:02.923698385Z"
    },
    "collapsed": false
   },
   "outputs": [
    {
     "data": {
      "text/plain": [
       "('C:/Users/arthu/Downloads\\\\GEO\\\\Lactose-Intolerance\\\\GSE138297\\\\GSE138297_family.soft.gz',\n",
       " 'C:/Users/arthu/Downloads\\\\GEO\\\\Lactose-Intolerance\\\\GSE138297\\\\GSE138297_series_matrix.txt.gz')"
      ]
     },
     "execution_count": 11,
     "metadata": {},
     "output_type": "execute_result"
    }
   ],
   "source": [
    "cohort = accession_num = \"GSE138297\"\n",
    "cohort_dir = os.path.join(trait_path, accession_num)\n",
    "soft_file, matrix_file = geo_get_relevant_filepaths(cohort_dir)\n",
    "soft_file, matrix_file"
   ]
  },
  {
   "cell_type": "markdown",
   "metadata": {
    "collapsed": false
   },
   "source": [
    "### Initial filtering and clinical data preprocessing"
   ]
  },
  {
   "cell_type": "code",
   "execution_count": 12,
   "metadata": {
    "ExecuteTime": {
     "end_time": "2024-01-10T21:39:03.718770427Z",
     "start_time": "2024-01-10T21:39:03.677006442Z"
    },
    "collapsed": false
   },
   "outputs": [
    {
     "name": "stdout",
     "output_type": "stream",
     "text": [
      "!Series_title\t\"The host response of IBS patients to allogenic and autologous faecal microbiota transfer\"\n",
      "!Series_summary\t\"In this randomised placebo-controlled trial, irritable bowel syndrome (IBS) patients were treated with faecal material from a healthy donor (n=8, allogenic FMT) or with their own faecal microbiota (n=8, autologous FMT). The faecal transplant was administered by whole colonoscopy into the caecum (30 g of stool in 150 ml sterile saline). Two weeks before the FMT (baseline) as well as two and eight weeks after the FMT, the participants underwent a sigmoidoscopy, and biopsies were collected at a standardised location (20-25 cm from the anal verge at the crossing with the arteria iliaca communis) from an uncleansed sigmoid. In patients treated with allogenic FMT, predominantly immune response-related genes sets were induced, with the strongest response two weeks after FMT. In patients treated with autologous FMT, predominantly metabolism-related gene sets were affected.\"\n",
      "!Series_overall_design\t\"Microarray analysis was performed on sigmoid biopsies from ucleansed colon at baseline, 2 weeks and 8 weeks after FMT .\"\n"
     ]
    }
   ],
   "source": [
    "background_prefixes = ['!Series_title', '!Series_summary', '!Series_overall_design']\n",
    "clinical_prefixes = ['!Sample_geo_accession', '!Sample_characteristics_ch1']\n",
    "\n",
    "background_info, clinical_data = get_background_and_clinical_data(matrix_file, background_prefixes, clinical_prefixes)\n",
    "print(background_info)"
   ]
  },
  {
   "cell_type": "code",
   "execution_count": 13,
   "metadata": {
    "ExecuteTime": {
     "end_time": "2024-01-10T21:39:04.022548957Z",
     "start_time": "2024-01-10T21:39:04.008519515Z"
    },
    "collapsed": false
   },
   "outputs": [
    {
     "data": {
      "text/html": [
       "<div>\n",
       "<style scoped>\n",
       "    .dataframe tbody tr th:only-of-type {\n",
       "        vertical-align: middle;\n",
       "    }\n",
       "\n",
       "    .dataframe tbody tr th {\n",
       "        vertical-align: top;\n",
       "    }\n",
       "\n",
       "    .dataframe thead th {\n",
       "        text-align: right;\n",
       "    }\n",
       "</style>\n",
       "<table border=\"1\" class=\"dataframe\">\n",
       "  <thead>\n",
       "    <tr style=\"text-align: right;\">\n",
       "      <th></th>\n",
       "      <th>!Sample_geo_accession</th>\n",
       "      <th>GSM4104672</th>\n",
       "      <th>GSM4104673</th>\n",
       "      <th>GSM4104674</th>\n",
       "      <th>GSM4104675</th>\n",
       "      <th>GSM4104676</th>\n",
       "      <th>GSM4104677</th>\n",
       "      <th>GSM4104678</th>\n",
       "      <th>GSM4104679</th>\n",
       "      <th>GSM4104680</th>\n",
       "      <th>...</th>\n",
       "      <th>GSM4104707</th>\n",
       "      <th>GSM4104708</th>\n",
       "      <th>GSM4104709</th>\n",
       "      <th>GSM4104710</th>\n",
       "      <th>GSM4104711</th>\n",
       "      <th>GSM4104712</th>\n",
       "      <th>GSM4104713</th>\n",
       "      <th>GSM4104714</th>\n",
       "      <th>GSM4104715</th>\n",
       "      <th>GSM4104716</th>\n",
       "    </tr>\n",
       "  </thead>\n",
       "  <tbody>\n",
       "    <tr>\n",
       "      <th>0</th>\n",
       "      <td>!Sample_characteristics_ch1</td>\n",
       "      <td>tissue: uncleansed colon</td>\n",
       "      <td>tissue: uncleansed colon</td>\n",
       "      <td>tissue: uncleansed colon</td>\n",
       "      <td>tissue: uncleansed colon</td>\n",
       "      <td>tissue: uncleansed colon</td>\n",
       "      <td>tissue: uncleansed colon</td>\n",
       "      <td>tissue: uncleansed colon</td>\n",
       "      <td>tissue: uncleansed colon</td>\n",
       "      <td>tissue: uncleansed colon</td>\n",
       "      <td>...</td>\n",
       "      <td>tissue: uncleansed colon</td>\n",
       "      <td>tissue: uncleansed colon</td>\n",
       "      <td>tissue: uncleansed colon</td>\n",
       "      <td>tissue: uncleansed colon</td>\n",
       "      <td>tissue: uncleansed colon</td>\n",
       "      <td>tissue: uncleansed colon</td>\n",
       "      <td>tissue: uncleansed colon</td>\n",
       "      <td>tissue: uncleansed colon</td>\n",
       "      <td>tissue: uncleansed colon</td>\n",
       "      <td>tissue: uncleansed colon</td>\n",
       "    </tr>\n",
       "    <tr>\n",
       "      <th>1</th>\n",
       "      <td>!Sample_characteristics_ch1</td>\n",
       "      <td>sex (female=1, male=0): 1</td>\n",
       "      <td>sex (female=1, male=0): 1</td>\n",
       "      <td>sex (female=1, male=0): 1</td>\n",
       "      <td>sex (female=1, male=0): 0</td>\n",
       "      <td>sex (female=1, male=0): 0</td>\n",
       "      <td>sex (female=1, male=0): 0</td>\n",
       "      <td>sex (female=1, male=0): 0</td>\n",
       "      <td>sex (female=1, male=0): 0</td>\n",
       "      <td>sex (female=1, male=0): 0</td>\n",
       "      <td>...</td>\n",
       "      <td>sex (female=1, male=0): 1</td>\n",
       "      <td>sex (female=1, male=0): 0</td>\n",
       "      <td>sex (female=1, male=0): 0</td>\n",
       "      <td>sex (female=1, male=0): 0</td>\n",
       "      <td>sex (female=1, male=0): 0</td>\n",
       "      <td>sex (female=1, male=0): 0</td>\n",
       "      <td>sex (female=1, male=0): 0</td>\n",
       "      <td>sex (female=1, male=0): 1</td>\n",
       "      <td>sex (female=1, male=0): 1</td>\n",
       "      <td>sex (female=1, male=0): 1</td>\n",
       "    </tr>\n",
       "    <tr>\n",
       "      <th>2</th>\n",
       "      <td>!Sample_characteristics_ch1</td>\n",
       "      <td>subjectid: 1</td>\n",
       "      <td>subjectid: 1</td>\n",
       "      <td>subjectid: 1</td>\n",
       "      <td>subjectid: 2</td>\n",
       "      <td>subjectid: 2</td>\n",
       "      <td>subjectid: 2</td>\n",
       "      <td>subjectid: 3</td>\n",
       "      <td>subjectid: 3</td>\n",
       "      <td>subjectid: 3</td>\n",
       "      <td>...</td>\n",
       "      <td>subjectid: 13</td>\n",
       "      <td>subjectid: 14</td>\n",
       "      <td>subjectid: 14</td>\n",
       "      <td>subjectid: 14</td>\n",
       "      <td>subjectid: 15</td>\n",
       "      <td>subjectid: 15</td>\n",
       "      <td>subjectid: 15</td>\n",
       "      <td>subjectid: 16</td>\n",
       "      <td>subjectid: 16</td>\n",
       "      <td>subjectid: 16</td>\n",
       "    </tr>\n",
       "    <tr>\n",
       "      <th>3</th>\n",
       "      <td>!Sample_characteristics_ch1</td>\n",
       "      <td>age (yrs): 49</td>\n",
       "      <td>age (yrs): 49</td>\n",
       "      <td>age (yrs): 49</td>\n",
       "      <td>age (yrs): 21</td>\n",
       "      <td>age (yrs): 21</td>\n",
       "      <td>age (yrs): 21</td>\n",
       "      <td>age (yrs): 31</td>\n",
       "      <td>age (yrs): 31</td>\n",
       "      <td>age (yrs): 31</td>\n",
       "      <td>...</td>\n",
       "      <td>age (yrs): 23</td>\n",
       "      <td>age (yrs): 50</td>\n",
       "      <td>age (yrs): 50</td>\n",
       "      <td>age (yrs): 50</td>\n",
       "      <td>age (yrs): 32</td>\n",
       "      <td>age (yrs): 32</td>\n",
       "      <td>age (yrs): 32</td>\n",
       "      <td>age (yrs): 38</td>\n",
       "      <td>age (yrs): 38</td>\n",
       "      <td>age (yrs): 38</td>\n",
       "    </tr>\n",
       "    <tr>\n",
       "      <th>4</th>\n",
       "      <td>!Sample_characteristics_ch1</td>\n",
       "      <td>moment of sampling (pre/post intervention): Ba...</td>\n",
       "      <td>moment of sampling (pre/post intervention): 2 ...</td>\n",
       "      <td>moment of sampling (pre/post intervention): 8 ...</td>\n",
       "      <td>moment of sampling (pre/post intervention): Ba...</td>\n",
       "      <td>moment of sampling (pre/post intervention): 2 ...</td>\n",
       "      <td>moment of sampling (pre/post intervention): 8 ...</td>\n",
       "      <td>moment of sampling (pre/post intervention): Ba...</td>\n",
       "      <td>moment of sampling (pre/post intervention): 2 ...</td>\n",
       "      <td>moment of sampling (pre/post intervention): 8 ...</td>\n",
       "      <td>...</td>\n",
       "      <td>moment of sampling (pre/post intervention): 8 ...</td>\n",
       "      <td>moment of sampling (pre/post intervention): Ba...</td>\n",
       "      <td>moment of sampling (pre/post intervention): 2 ...</td>\n",
       "      <td>moment of sampling (pre/post intervention): 8 ...</td>\n",
       "      <td>moment of sampling (pre/post intervention): Ba...</td>\n",
       "      <td>moment of sampling (pre/post intervention): 2 ...</td>\n",
       "      <td>moment of sampling (pre/post intervention): 8 ...</td>\n",
       "      <td>moment of sampling (pre/post intervention): Ba...</td>\n",
       "      <td>moment of sampling (pre/post intervention): 2 ...</td>\n",
       "      <td>moment of sampling (pre/post intervention): 8 ...</td>\n",
       "    </tr>\n",
       "    <tr>\n",
       "      <th>5</th>\n",
       "      <td>!Sample_characteristics_ch1</td>\n",
       "      <td>time of sampling: Morning, after overnight fas...</td>\n",
       "      <td>time of sampling: Morning, after overnight fas...</td>\n",
       "      <td>time of sampling: Morning, after overnight fas...</td>\n",
       "      <td>time of sampling: Morning, after overnight fas...</td>\n",
       "      <td>time of sampling: Morning, after overnight fas...</td>\n",
       "      <td>time of sampling: Morning, after overnight fas...</td>\n",
       "      <td>time of sampling: Morning, after overnight fas...</td>\n",
       "      <td>time of sampling: Morning, after overnight fas...</td>\n",
       "      <td>time of sampling: Morning, after overnight fas...</td>\n",
       "      <td>...</td>\n",
       "      <td>time of sampling: Morning, after overnight fas...</td>\n",
       "      <td>time of sampling: Morning, after overnight fas...</td>\n",
       "      <td>time of sampling: Morning, after overnight fas...</td>\n",
       "      <td>time of sampling: Morning, after overnight fas...</td>\n",
       "      <td>time of sampling: Morning, after overnight fas...</td>\n",
       "      <td>time of sampling: Morning, after overnight fas...</td>\n",
       "      <td>time of sampling: Morning, after overnight fas...</td>\n",
       "      <td>time of sampling: Morning, after overnight fas...</td>\n",
       "      <td>time of sampling: Morning, after overnight fas...</td>\n",
       "      <td>time of sampling: Morning, after overnight fas...</td>\n",
       "    </tr>\n",
       "    <tr>\n",
       "      <th>6</th>\n",
       "      <td>!Sample_characteristics_ch1</td>\n",
       "      <td>experimental condition: Allogenic FMT</td>\n",
       "      <td>experimental condition: Allogenic FMT</td>\n",
       "      <td>experimental condition: Allogenic FMT</td>\n",
       "      <td>experimental condition: Allogenic FMT</td>\n",
       "      <td>experimental condition: Allogenic FMT</td>\n",
       "      <td>experimental condition: Allogenic FMT</td>\n",
       "      <td>experimental condition: Autologous FMT</td>\n",
       "      <td>experimental condition: Autologous FMT</td>\n",
       "      <td>experimental condition: Autologous FMT</td>\n",
       "      <td>...</td>\n",
       "      <td>experimental condition: Allogenic FMT</td>\n",
       "      <td>experimental condition: Autologous FMT</td>\n",
       "      <td>experimental condition: Autologous FMT</td>\n",
       "      <td>experimental condition: Autologous FMT</td>\n",
       "      <td>experimental condition: Allogenic FMT</td>\n",
       "      <td>experimental condition: Allogenic FMT</td>\n",
       "      <td>experimental condition: Allogenic FMT</td>\n",
       "      <td>experimental condition: Autologous FMT</td>\n",
       "      <td>experimental condition: Autologous FMT</td>\n",
       "      <td>experimental condition: Autologous FMT</td>\n",
       "    </tr>\n",
       "  </tbody>\n",
       "</table>\n",
       "<p>7 rows × 46 columns</p>\n",
       "</div>"
      ],
      "text/plain": [
       "         !Sample_geo_accession  \\\n",
       "0  !Sample_characteristics_ch1   \n",
       "1  !Sample_characteristics_ch1   \n",
       "2  !Sample_characteristics_ch1   \n",
       "3  !Sample_characteristics_ch1   \n",
       "4  !Sample_characteristics_ch1   \n",
       "5  !Sample_characteristics_ch1   \n",
       "6  !Sample_characteristics_ch1   \n",
       "\n",
       "                                          GSM4104672  \\\n",
       "0                           tissue: uncleansed colon   \n",
       "1                          sex (female=1, male=0): 1   \n",
       "2                                       subjectid: 1   \n",
       "3                                      age (yrs): 49   \n",
       "4  moment of sampling (pre/post intervention): Ba...   \n",
       "5  time of sampling: Morning, after overnight fas...   \n",
       "6              experimental condition: Allogenic FMT   \n",
       "\n",
       "                                          GSM4104673  \\\n",
       "0                           tissue: uncleansed colon   \n",
       "1                          sex (female=1, male=0): 1   \n",
       "2                                       subjectid: 1   \n",
       "3                                      age (yrs): 49   \n",
       "4  moment of sampling (pre/post intervention): 2 ...   \n",
       "5  time of sampling: Morning, after overnight fas...   \n",
       "6              experimental condition: Allogenic FMT   \n",
       "\n",
       "                                          GSM4104674  \\\n",
       "0                           tissue: uncleansed colon   \n",
       "1                          sex (female=1, male=0): 1   \n",
       "2                                       subjectid: 1   \n",
       "3                                      age (yrs): 49   \n",
       "4  moment of sampling (pre/post intervention): 8 ...   \n",
       "5  time of sampling: Morning, after overnight fas...   \n",
       "6              experimental condition: Allogenic FMT   \n",
       "\n",
       "                                          GSM4104675  \\\n",
       "0                           tissue: uncleansed colon   \n",
       "1                          sex (female=1, male=0): 0   \n",
       "2                                       subjectid: 2   \n",
       "3                                      age (yrs): 21   \n",
       "4  moment of sampling (pre/post intervention): Ba...   \n",
       "5  time of sampling: Morning, after overnight fas...   \n",
       "6              experimental condition: Allogenic FMT   \n",
       "\n",
       "                                          GSM4104676  \\\n",
       "0                           tissue: uncleansed colon   \n",
       "1                          sex (female=1, male=0): 0   \n",
       "2                                       subjectid: 2   \n",
       "3                                      age (yrs): 21   \n",
       "4  moment of sampling (pre/post intervention): 2 ...   \n",
       "5  time of sampling: Morning, after overnight fas...   \n",
       "6              experimental condition: Allogenic FMT   \n",
       "\n",
       "                                          GSM4104677  \\\n",
       "0                           tissue: uncleansed colon   \n",
       "1                          sex (female=1, male=0): 0   \n",
       "2                                       subjectid: 2   \n",
       "3                                      age (yrs): 21   \n",
       "4  moment of sampling (pre/post intervention): 8 ...   \n",
       "5  time of sampling: Morning, after overnight fas...   \n",
       "6              experimental condition: Allogenic FMT   \n",
       "\n",
       "                                          GSM4104678  \\\n",
       "0                           tissue: uncleansed colon   \n",
       "1                          sex (female=1, male=0): 0   \n",
       "2                                       subjectid: 3   \n",
       "3                                      age (yrs): 31   \n",
       "4  moment of sampling (pre/post intervention): Ba...   \n",
       "5  time of sampling: Morning, after overnight fas...   \n",
       "6             experimental condition: Autologous FMT   \n",
       "\n",
       "                                          GSM4104679  \\\n",
       "0                           tissue: uncleansed colon   \n",
       "1                          sex (female=1, male=0): 0   \n",
       "2                                       subjectid: 3   \n",
       "3                                      age (yrs): 31   \n",
       "4  moment of sampling (pre/post intervention): 2 ...   \n",
       "5  time of sampling: Morning, after overnight fas...   \n",
       "6             experimental condition: Autologous FMT   \n",
       "\n",
       "                                          GSM4104680  ...  \\\n",
       "0                           tissue: uncleansed colon  ...   \n",
       "1                          sex (female=1, male=0): 0  ...   \n",
       "2                                       subjectid: 3  ...   \n",
       "3                                      age (yrs): 31  ...   \n",
       "4  moment of sampling (pre/post intervention): 8 ...  ...   \n",
       "5  time of sampling: Morning, after overnight fas...  ...   \n",
       "6             experimental condition: Autologous FMT  ...   \n",
       "\n",
       "                                          GSM4104707  \\\n",
       "0                           tissue: uncleansed colon   \n",
       "1                          sex (female=1, male=0): 1   \n",
       "2                                      subjectid: 13   \n",
       "3                                      age (yrs): 23   \n",
       "4  moment of sampling (pre/post intervention): 8 ...   \n",
       "5  time of sampling: Morning, after overnight fas...   \n",
       "6              experimental condition: Allogenic FMT   \n",
       "\n",
       "                                          GSM4104708  \\\n",
       "0                           tissue: uncleansed colon   \n",
       "1                          sex (female=1, male=0): 0   \n",
       "2                                      subjectid: 14   \n",
       "3                                      age (yrs): 50   \n",
       "4  moment of sampling (pre/post intervention): Ba...   \n",
       "5  time of sampling: Morning, after overnight fas...   \n",
       "6             experimental condition: Autologous FMT   \n",
       "\n",
       "                                          GSM4104709  \\\n",
       "0                           tissue: uncleansed colon   \n",
       "1                          sex (female=1, male=0): 0   \n",
       "2                                      subjectid: 14   \n",
       "3                                      age (yrs): 50   \n",
       "4  moment of sampling (pre/post intervention): 2 ...   \n",
       "5  time of sampling: Morning, after overnight fas...   \n",
       "6             experimental condition: Autologous FMT   \n",
       "\n",
       "                                          GSM4104710  \\\n",
       "0                           tissue: uncleansed colon   \n",
       "1                          sex (female=1, male=0): 0   \n",
       "2                                      subjectid: 14   \n",
       "3                                      age (yrs): 50   \n",
       "4  moment of sampling (pre/post intervention): 8 ...   \n",
       "5  time of sampling: Morning, after overnight fas...   \n",
       "6             experimental condition: Autologous FMT   \n",
       "\n",
       "                                          GSM4104711  \\\n",
       "0                           tissue: uncleansed colon   \n",
       "1                          sex (female=1, male=0): 0   \n",
       "2                                      subjectid: 15   \n",
       "3                                      age (yrs): 32   \n",
       "4  moment of sampling (pre/post intervention): Ba...   \n",
       "5  time of sampling: Morning, after overnight fas...   \n",
       "6              experimental condition: Allogenic FMT   \n",
       "\n",
       "                                          GSM4104712  \\\n",
       "0                           tissue: uncleansed colon   \n",
       "1                          sex (female=1, male=0): 0   \n",
       "2                                      subjectid: 15   \n",
       "3                                      age (yrs): 32   \n",
       "4  moment of sampling (pre/post intervention): 2 ...   \n",
       "5  time of sampling: Morning, after overnight fas...   \n",
       "6              experimental condition: Allogenic FMT   \n",
       "\n",
       "                                          GSM4104713  \\\n",
       "0                           tissue: uncleansed colon   \n",
       "1                          sex (female=1, male=0): 0   \n",
       "2                                      subjectid: 15   \n",
       "3                                      age (yrs): 32   \n",
       "4  moment of sampling (pre/post intervention): 8 ...   \n",
       "5  time of sampling: Morning, after overnight fas...   \n",
       "6              experimental condition: Allogenic FMT   \n",
       "\n",
       "                                          GSM4104714  \\\n",
       "0                           tissue: uncleansed colon   \n",
       "1                          sex (female=1, male=0): 1   \n",
       "2                                      subjectid: 16   \n",
       "3                                      age (yrs): 38   \n",
       "4  moment of sampling (pre/post intervention): Ba...   \n",
       "5  time of sampling: Morning, after overnight fas...   \n",
       "6             experimental condition: Autologous FMT   \n",
       "\n",
       "                                          GSM4104715  \\\n",
       "0                           tissue: uncleansed colon   \n",
       "1                          sex (female=1, male=0): 1   \n",
       "2                                      subjectid: 16   \n",
       "3                                      age (yrs): 38   \n",
       "4  moment of sampling (pre/post intervention): 2 ...   \n",
       "5  time of sampling: Morning, after overnight fas...   \n",
       "6             experimental condition: Autologous FMT   \n",
       "\n",
       "                                          GSM4104716  \n",
       "0                           tissue: uncleansed colon  \n",
       "1                          sex (female=1, male=0): 1  \n",
       "2                                      subjectid: 16  \n",
       "3                                      age (yrs): 38  \n",
       "4  moment of sampling (pre/post intervention): 8 ...  \n",
       "5  time of sampling: Morning, after overnight fas...  \n",
       "6             experimental condition: Autologous FMT  \n",
       "\n",
       "[7 rows x 46 columns]"
      ]
     },
     "execution_count": 13,
     "metadata": {},
     "output_type": "execute_result"
    }
   ],
   "source": [
    "clinical_data"
   ]
  },
  {
   "cell_type": "code",
   "execution_count": 14,
   "metadata": {
    "ExecuteTime": {
     "end_time": "2024-01-10T21:39:04.307639583Z",
     "start_time": "2024-01-10T21:39:04.289352075Z"
    },
    "collapsed": false
   },
   "outputs": [
    {
     "data": {
      "text/plain": [
       "{0: ['tissue: uncleansed colon'],\n",
       " 1: ['sex (female=1, male=0): 1', 'sex (female=1, male=0): 0'],\n",
       " 2: ['subjectid: 1',\n",
       "  'subjectid: 2',\n",
       "  'subjectid: 3',\n",
       "  'subjectid: 4',\n",
       "  'subjectid: 5',\n",
       "  'subjectid: 6',\n",
       "  'subjectid: 7',\n",
       "  'subjectid: 8',\n",
       "  'subjectid: 10',\n",
       "  'subjectid: 11',\n",
       "  'subjectid: 12',\n",
       "  'subjectid: 13',\n",
       "  'subjectid: 14',\n",
       "  'subjectid: 15',\n",
       "  'subjectid: 16'],\n",
       " 3: ['age (yrs): 49',\n",
       "  'age (yrs): 21',\n",
       "  'age (yrs): 31',\n",
       "  'age (yrs): 59',\n",
       "  'age (yrs): 40',\n",
       "  'age (yrs): 33',\n",
       "  'age (yrs): 28',\n",
       "  'age (yrs): 36',\n",
       "  'age (yrs): 50',\n",
       "  'age (yrs): 27',\n",
       "  'age (yrs): 23',\n",
       "  'age (yrs): 32',\n",
       "  'age (yrs): 38'],\n",
       " 4: ['moment of sampling (pre/post intervention): Baseline (app. 2w before intervention)',\n",
       "  'moment of sampling (pre/post intervention): 2 weeks after intervention',\n",
       "  'moment of sampling (pre/post intervention): 8 weeks after intervention'],\n",
       " 5: ['time of sampling: Morning, after overnight fasting'],\n",
       " 6: ['experimental condition: Allogenic FMT',\n",
       "  'experimental condition: Autologous FMT']}"
      ]
     },
     "execution_count": 14,
     "metadata": {},
     "output_type": "execute_result"
    }
   ],
   "source": [
    "clinical_data_unique = get_unique_values_by_row(clinical_data)\n",
    "clinical_data_unique"
   ]
  },
  {
   "cell_type": "markdown",
   "metadata": {
    "ExecuteTime": {
     "end_time": "2023-12-31T03:58:04.978204446Z",
     "start_time": "2023-12-31T03:58:04.922270095Z"
    },
    "collapsed": false
   },
   "source": [
    "Analyze the metadata to determine data relevance and find ways to extract the clinical data.\n",
    "Reference prompt:"
   ]
  },
  {
   "cell_type": "code",
   "execution_count": 15,
   "metadata": {
    "ExecuteTime": {
     "end_time": "2024-01-10T21:39:04.854586192Z",
     "start_time": "2024-01-10T21:39:04.836283516Z"
    },
    "collapsed": false
   },
   "outputs": [
    {
     "data": {
      "text/plain": [
       "'As a biomedical research team, we are selecting datasets to study the association between the human trait \\'Lactose-Intolerance\\' and genetic factors, optionally considering the influence of age and gender. After searching the GEO database and parsing the matrix file of a series, we obtained background information and sample characteristics data. We will provide textual information about the dataset background, and a Python dictionary storing a list of unique values for each field of the sample characteristics data. Please carefully review the provided information and answer the following questions about this dataset:\\n1. Does this dataset contain gene expression data? (Note: Pure miRNA data is not suitable.)\\n2. For each of the traits \\'Lactose-Intolerance\\', \\'age\\', and \\'gender\\', please address these points:\\n   (1) Is there human data available for this trait?\\n   (2) If so, identify the key in the sample characteristics dictionary where unique values of this trait is recorded. The key is an integer. The trait information might be explicitly recorded, or can be inferred from the field with some biomedical knowledge or understanding about the data collection process.\\n   (3) Choose an appropriate data type (either \\'continuous\\' or \\'binary\\') for each trait. Write a Python function to convert any given value of the trait to this data type. The function should handle inference about the trait value and convert unknown values to None.\\n   Name the functions \\'convert_trait\\', \\'convert_age\\', and \\'convert_gender\\', respectively.\\n\\nBackground information about the dataset:\\n!Series_title\\t\"The host response of IBS patients to allogenic and autologous faecal microbiota transfer\"\\n!Series_summary\\t\"In this randomised placebo-controlled trial, irritable bowel syndrome (IBS) patients were treated with faecal material from a healthy donor (n=8, allogenic FMT) or with their own faecal microbiota (n=8, autologous FMT). The faecal transplant was administered by whole colonoscopy into the caecum (30 g of stool in 150 ml sterile saline). Two weeks before the FMT (baseline) as well as two and eight weeks after the FMT, the participants underwent a sigmoidoscopy, and biopsies were collected at a standardised location (20-25 cm from the anal verge at the crossing with the arteria iliaca communis) from an uncleansed sigmoid. In patients treated with allogenic FMT, predominantly immune response-related genes sets were induced, with the strongest response two weeks after FMT. In patients treated with autologous FMT, predominantly metabolism-related gene sets were affected.\"\\n!Series_overall_design\\t\"Microarray analysis was performed on sigmoid biopsies from ucleansed colon at baseline, 2 weeks and 8 weeks after FMT .\"\\n\\nSample characteristics dictionary (from \"!Sample_characteristics_ch1\", converted to a Python dictionary that stores the unique values for each field):\\n{0: [\\'tissue: uncleansed colon\\'], 1: [\\'sex (female=1, male=0): 1\\', \\'sex (female=1, male=0): 0\\'], 2: [\\'subjectid: 1\\', \\'subjectid: 2\\', \\'subjectid: 3\\', \\'subjectid: 4\\', \\'subjectid: 5\\', \\'subjectid: 6\\', \\'subjectid: 7\\', \\'subjectid: 8\\', \\'subjectid: 10\\', \\'subjectid: 11\\', \\'subjectid: 12\\', \\'subjectid: 13\\', \\'subjectid: 14\\', \\'subjectid: 15\\', \\'subjectid: 16\\'], 3: [\\'age (yrs): 49\\', \\'age (yrs): 21\\', \\'age (yrs): 31\\', \\'age (yrs): 59\\', \\'age (yrs): 40\\', \\'age (yrs): 33\\', \\'age (yrs): 28\\', \\'age (yrs): 36\\', \\'age (yrs): 50\\', \\'age (yrs): 27\\', \\'age (yrs): 23\\', \\'age (yrs): 32\\', \\'age (yrs): 38\\'], 4: [\\'moment of sampling (pre/post intervention): Baseline (app. 2w before intervention)\\', \\'moment of sampling (pre/post intervention): 2 weeks after intervention\\', \\'moment of sampling (pre/post intervention): 8 weeks after intervention\\'], 5: [\\'time of sampling: Morning, after overnight fasting\\'], 6: [\\'experimental condition: Allogenic FMT\\', \\'experimental condition: Autologous FMT\\']}\\n'"
      ]
     },
     "execution_count": 15,
     "metadata": {},
     "output_type": "execute_result"
    }
   ],
   "source": [
    "f'''As a biomedical research team, we are selecting datasets to study the association between the human trait \\'{TRAIT}\\' and genetic factors, optionally considering the influence of age and gender. After searching the GEO database and parsing the matrix file of a series, we obtained background information and sample characteristics data. We will provide textual information about the dataset background, and a Python dictionary storing a list of unique values for each field of the sample characteristics data. Please carefully review the provided information and answer the following questions about this dataset:\n",
    "1. Does this dataset contain gene expression data? (Note: Pure miRNA data is not suitable.)\n",
    "2. For each of the traits \\'{TRAIT}\\', 'age', and 'gender', please address these points:\n",
    "   (1) Is there human data available for this trait?\n",
    "   (2) If so, identify the key in the sample characteristics dictionary where unique values of this trait is recorded. The key is an integer. The trait information might be explicitly recorded, or can be inferred from the field with some biomedical knowledge or understanding about the data collection process.\n",
    "   (3) Choose an appropriate data type (either 'continuous' or 'binary') for each trait. Write a Python function to convert any given value of the trait to this data type. The function should handle inference about the trait value and convert unknown values to None.\n",
    "   Name the functions 'convert_trait', 'convert_age', and 'convert_gender', respectively.\n",
    "\n",
    "Background information about the dataset:\n",
    "{background_info}\n",
    "\n",
    "Sample characteristics dictionary (from \"!Sample_characteristics_ch1\", converted to a Python dictionary that stores the unique values for each field):\n",
    "{clinical_data_unique}\n",
    "'''"
   ]
  },
  {
   "cell_type": "markdown",
   "metadata": {
    "ExecuteTime": {
     "end_time": "2023-12-31T03:58:04.978240504Z",
     "start_time": "2023-12-31T03:58:04.922365324Z"
    },
    "collapsed": false
   },
   "source": [
    "Understand and verify the answer from GPT, to assign values to the below variables. Assign None to the 'row_id' variables if relevant data row was not found.\n",
    "Later we need to let GPT format its answer to automatically do these. But given the complexity of this step, let's grow some insight from the free-text answers for now."
   ]
  },
  {
   "cell_type": "code",
   "execution_count": 16,
   "metadata": {
    "ExecuteTime": {
     "end_time": "2024-01-10T21:39:05.366304590Z",
     "start_time": "2024-01-10T21:39:05.356983082Z"
    },
    "collapsed": false
   },
   "outputs": [],
   "source": [
    "age_row = gender_row = None\n",
    "convert_age = convert_gender = None"
   ]
  },
  {
   "cell_type": "code",
   "execution_count": 17,
   "metadata": {
    "ExecuteTime": {
     "end_time": "2024-01-10T21:40:09.324053151Z",
     "start_time": "2024-01-10T21:40:09.251131090Z"
    },
    "collapsed": false
   },
   "outputs": [],
   "source": [
    "is_gene_availabe = True\n",
    "trait_row = None\n",
    "age_row = 3\n",
    "gender_row = 1\n",
    "\n",
    "trait_type = 'binary'"
   ]
  },
  {
   "cell_type": "code",
   "execution_count": 18,
   "metadata": {
    "ExecuteTime": {
     "end_time": "2024-01-10T21:40:09.912115984Z",
     "start_time": "2024-01-10T21:40:09.907913460Z"
    },
    "collapsed": false
   },
   "outputs": [
    {
     "name": "stdout",
     "output_type": "stream",
     "text": [
      "This cohort is not usable. Please skip the following steps and jump to the next accession number.\n"
     ]
    }
   ],
   "source": [
    "is_available = is_gene_availabe and (trait_row is not None)\n",
    "if not is_available:\n",
    "    save_cohort_info(cohort, JSON_PATH, is_available)\n",
    "    print(\"This cohort is not usable. Please skip the following steps and jump to the next accession number.\")"
   ]
  },
  {
   "cell_type": "code",
   "execution_count": 128,
   "metadata": {
    "ExecuteTime": {
     "end_time": "2024-01-10T21:40:10.982148317Z",
     "start_time": "2024-01-10T21:40:10.967368918Z"
    },
    "collapsed": false
   },
   "outputs": [
    {
     "data": {
      "text/plain": [
       "(1, 49, 1)"
      ]
     },
     "execution_count": 128,
     "metadata": {},
     "output_type": "execute_result"
    }
   ],
   "source": [
    "def convert_trait(tissue_type):\n",
    "    \"\"\"\n",
    "    Convert tissue type to epilepsy presence (binary).\n",
    "    Assuming epilepsy presence for 'Hippocampus' tissue.\n",
    "    \"\"\"\n",
    "    if tissue_type == 'tissue: uncleansed colon':\n",
    "        return 1  \n",
    "    else:\n",
    "        return 0 \n",
    "\n",
    "def convert_age(age_string):\n",
    "    \"\"\"\n",
    "    Convert age string to a numerical value.\n",
    "    \"\"\"\n",
    "    if age_string.startswith('age (yrs): '):\n",
    "        try:\n",
    "            return int(age_string.split('age (yrs): ')[1].rstrip('y'))  # Extracting numeric part\n",
    "        except ValueError:\n",
    "            return None  # In case of parsing error\n",
    "    else:\n",
    "        return None  # If age string does not follow expected format\n",
    "\n",
    "def convert_gender(gender_string):\n",
    "    \"\"\"\n",
    "    Convert gender string to a binary representation.\n",
    "    Female -> 0, Male -> 1, Unknown -> None\n",
    "    \"\"\"\n",
    "    if gender_string == 'sex (female=1, male=0): 1':\n",
    "        return 0\n",
    "    elif gender_string == 'sex (female=1, male=0): 0':\n",
    "        return 1\n",
    "    else:\n",
    "        return None  # In case of unknown gender\n",
    "\n",
    "# Example usage\n",
    "example_tissue = 'tissue: uncleansed colon'\n",
    "example_age = 'age (yrs): 49'\n",
    "example_gender = 'sex (female=1, male=0): 0'\n",
    "\n",
    "converted_trait = convert_trait(example_tissue)\n",
    "converted_age = convert_age(example_age)\n",
    "converted_gender = convert_gender(example_gender)\n",
    "\n",
    "converted_trait, converted_age, converted_gender"
   ]
  },
  {
   "cell_type": "code",
   "execution_count": 129,
   "metadata": {
    "ExecuteTime": {
     "end_time": "2024-01-10T21:40:11.684556802Z",
     "start_time": "2024-01-10T21:40:11.665079581Z"
    },
    "collapsed": false
   },
   "outputs": [
    {
     "data": {
      "text/html": [
       "<div>\n",
       "<style scoped>\n",
       "    .dataframe tbody tr th:only-of-type {\n",
       "        vertical-align: middle;\n",
       "    }\n",
       "\n",
       "    .dataframe tbody tr th {\n",
       "        vertical-align: top;\n",
       "    }\n",
       "\n",
       "    .dataframe thead th {\n",
       "        text-align: right;\n",
       "    }\n",
       "</style>\n",
       "<table border=\"1\" class=\"dataframe\">\n",
       "  <thead>\n",
       "    <tr style=\"text-align: right;\">\n",
       "      <th></th>\n",
       "      <th>GSM4104672</th>\n",
       "      <th>GSM4104673</th>\n",
       "      <th>GSM4104674</th>\n",
       "      <th>GSM4104675</th>\n",
       "      <th>GSM4104676</th>\n",
       "      <th>GSM4104677</th>\n",
       "      <th>GSM4104678</th>\n",
       "      <th>GSM4104679</th>\n",
       "      <th>GSM4104680</th>\n",
       "      <th>GSM4104681</th>\n",
       "      <th>...</th>\n",
       "      <th>GSM4104707</th>\n",
       "      <th>GSM4104708</th>\n",
       "      <th>GSM4104709</th>\n",
       "      <th>GSM4104710</th>\n",
       "      <th>GSM4104711</th>\n",
       "      <th>GSM4104712</th>\n",
       "      <th>GSM4104713</th>\n",
       "      <th>GSM4104714</th>\n",
       "      <th>GSM4104715</th>\n",
       "      <th>GSM4104716</th>\n",
       "    </tr>\n",
       "  </thead>\n",
       "  <tbody>\n",
       "    <tr>\n",
       "      <th>Lactose-Intolerance</th>\n",
       "      <td>1</td>\n",
       "      <td>1</td>\n",
       "      <td>1</td>\n",
       "      <td>1</td>\n",
       "      <td>1</td>\n",
       "      <td>1</td>\n",
       "      <td>1</td>\n",
       "      <td>1</td>\n",
       "      <td>1</td>\n",
       "      <td>1</td>\n",
       "      <td>...</td>\n",
       "      <td>1</td>\n",
       "      <td>1</td>\n",
       "      <td>1</td>\n",
       "      <td>1</td>\n",
       "      <td>1</td>\n",
       "      <td>1</td>\n",
       "      <td>1</td>\n",
       "      <td>1</td>\n",
       "      <td>1</td>\n",
       "      <td>1</td>\n",
       "    </tr>\n",
       "    <tr>\n",
       "      <th>Age</th>\n",
       "      <td>49</td>\n",
       "      <td>49</td>\n",
       "      <td>49</td>\n",
       "      <td>21</td>\n",
       "      <td>21</td>\n",
       "      <td>21</td>\n",
       "      <td>31</td>\n",
       "      <td>31</td>\n",
       "      <td>31</td>\n",
       "      <td>59</td>\n",
       "      <td>...</td>\n",
       "      <td>23</td>\n",
       "      <td>50</td>\n",
       "      <td>50</td>\n",
       "      <td>50</td>\n",
       "      <td>32</td>\n",
       "      <td>32</td>\n",
       "      <td>32</td>\n",
       "      <td>38</td>\n",
       "      <td>38</td>\n",
       "      <td>38</td>\n",
       "    </tr>\n",
       "    <tr>\n",
       "      <th>Gender</th>\n",
       "      <td>0</td>\n",
       "      <td>0</td>\n",
       "      <td>0</td>\n",
       "      <td>1</td>\n",
       "      <td>1</td>\n",
       "      <td>1</td>\n",
       "      <td>1</td>\n",
       "      <td>1</td>\n",
       "      <td>1</td>\n",
       "      <td>1</td>\n",
       "      <td>...</td>\n",
       "      <td>0</td>\n",
       "      <td>1</td>\n",
       "      <td>1</td>\n",
       "      <td>1</td>\n",
       "      <td>1</td>\n",
       "      <td>1</td>\n",
       "      <td>1</td>\n",
       "      <td>0</td>\n",
       "      <td>0</td>\n",
       "      <td>0</td>\n",
       "    </tr>\n",
       "  </tbody>\n",
       "</table>\n",
       "<p>3 rows × 45 columns</p>\n",
       "</div>"
      ],
      "text/plain": [
       "                     GSM4104672  GSM4104673  GSM4104674  GSM4104675  \\\n",
       "Lactose-Intolerance           1           1           1           1   \n",
       "Age                          49          49          49          21   \n",
       "Gender                        0           0           0           1   \n",
       "\n",
       "                     GSM4104676  GSM4104677  GSM4104678  GSM4104679  \\\n",
       "Lactose-Intolerance           1           1           1           1   \n",
       "Age                          21          21          31          31   \n",
       "Gender                        1           1           1           1   \n",
       "\n",
       "                     GSM4104680  GSM4104681  ...  GSM4104707  GSM4104708  \\\n",
       "Lactose-Intolerance           1           1  ...           1           1   \n",
       "Age                          31          59  ...          23          50   \n",
       "Gender                        1           1  ...           0           1   \n",
       "\n",
       "                     GSM4104709  GSM4104710  GSM4104711  GSM4104712  \\\n",
       "Lactose-Intolerance           1           1           1           1   \n",
       "Age                          50          50          32          32   \n",
       "Gender                        1           1           1           1   \n",
       "\n",
       "                     GSM4104713  GSM4104714  GSM4104715  GSM4104716  \n",
       "Lactose-Intolerance           1           1           1           1  \n",
       "Age                          32          38          38          38  \n",
       "Gender                        1           0           0           0  \n",
       "\n",
       "[3 rows x 45 columns]"
      ]
     },
     "execution_count": 129,
     "metadata": {},
     "output_type": "execute_result"
    }
   ],
   "source": [
    "selected_clinical_data = geo_select_clinical_features(clinical_data, TRAIT, trait_row, convert_trait, age_row=age_row,\n",
    "                                                      convert_age=convert_age, gender_row=gender_row,\n",
    "                                                      convert_gender=convert_gender)\n",
    "selected_clinical_data.head()"
   ]
  },
  {
   "cell_type": "markdown",
   "metadata": {
    "ExecuteTime": {
     "end_time": "2023-12-31T03:58:04.978664193Z",
     "start_time": "2023-12-31T03:58:04.966117261Z"
    },
    "collapsed": false
   },
   "source": [
    "### Genetic data preprocessing and final filtering"
   ]
  },
  {
   "cell_type": "code",
   "execution_count": 130,
   "metadata": {
    "ExecuteTime": {
     "end_time": "2024-01-10T21:40:13.509252107Z",
     "start_time": "2024-01-10T21:40:13.468235630Z"
    },
    "collapsed": false
   },
   "outputs": [
    {
     "data": {
      "text/html": [
       "<div>\n",
       "<style scoped>\n",
       "    .dataframe tbody tr th:only-of-type {\n",
       "        vertical-align: middle;\n",
       "    }\n",
       "\n",
       "    .dataframe tbody tr th {\n",
       "        vertical-align: top;\n",
       "    }\n",
       "\n",
       "    .dataframe thead th {\n",
       "        text-align: right;\n",
       "    }\n",
       "</style>\n",
       "<table border=\"1\" class=\"dataframe\">\n",
       "  <thead>\n",
       "    <tr style=\"text-align: right;\">\n",
       "      <th></th>\n",
       "      <th>GSM4104672</th>\n",
       "      <th>GSM4104673</th>\n",
       "      <th>GSM4104674</th>\n",
       "      <th>GSM4104675</th>\n",
       "      <th>GSM4104676</th>\n",
       "      <th>GSM4104677</th>\n",
       "      <th>GSM4104678</th>\n",
       "      <th>GSM4104679</th>\n",
       "      <th>GSM4104680</th>\n",
       "      <th>GSM4104681</th>\n",
       "      <th>...</th>\n",
       "      <th>GSM4104707</th>\n",
       "      <th>GSM4104708</th>\n",
       "      <th>GSM4104709</th>\n",
       "      <th>GSM4104710</th>\n",
       "      <th>GSM4104711</th>\n",
       "      <th>GSM4104712</th>\n",
       "      <th>GSM4104713</th>\n",
       "      <th>GSM4104714</th>\n",
       "      <th>GSM4104715</th>\n",
       "      <th>GSM4104716</th>\n",
       "    </tr>\n",
       "    <tr>\n",
       "      <th>ID</th>\n",
       "      <th></th>\n",
       "      <th></th>\n",
       "      <th></th>\n",
       "      <th></th>\n",
       "      <th></th>\n",
       "      <th></th>\n",
       "      <th></th>\n",
       "      <th></th>\n",
       "      <th></th>\n",
       "      <th></th>\n",
       "      <th></th>\n",
       "      <th></th>\n",
       "      <th></th>\n",
       "      <th></th>\n",
       "      <th></th>\n",
       "      <th></th>\n",
       "      <th></th>\n",
       "      <th></th>\n",
       "      <th></th>\n",
       "      <th></th>\n",
       "      <th></th>\n",
       "    </tr>\n",
       "  </thead>\n",
       "  <tbody>\n",
       "    <tr>\n",
       "      <th>16650001</th>\n",
       "      <td>1.605655</td>\n",
       "      <td>1.843828</td>\n",
       "      <td>1.899724</td>\n",
       "      <td>1.617481</td>\n",
       "      <td>1.920638</td>\n",
       "      <td>3.633856</td>\n",
       "      <td>1.934084</td>\n",
       "      <td>1.573835</td>\n",
       "      <td>1.409345</td>\n",
       "      <td>2.211837</td>\n",
       "      <td>...</td>\n",
       "      <td>3.874015</td>\n",
       "      <td>2.754243</td>\n",
       "      <td>0.907163</td>\n",
       "      <td>1.654553</td>\n",
       "      <td>0.595274</td>\n",
       "      <td>1.030531</td>\n",
       "      <td>1.829221</td>\n",
       "      <td>2.945017</td>\n",
       "      <td>3.135033</td>\n",
       "      <td>3.589383</td>\n",
       "    </tr>\n",
       "    <tr>\n",
       "      <th>16650003</th>\n",
       "      <td>2.279692</td>\n",
       "      <td>2.658503</td>\n",
       "      <td>1.714000</td>\n",
       "      <td>3.420702</td>\n",
       "      <td>2.070772</td>\n",
       "      <td>1.712379</td>\n",
       "      <td>1.600772</td>\n",
       "      <td>2.391815</td>\n",
       "      <td>1.506170</td>\n",
       "      <td>1.935247</td>\n",
       "      <td>...</td>\n",
       "      <td>1.538323</td>\n",
       "      <td>2.271402</td>\n",
       "      <td>2.014419</td>\n",
       "      <td>1.721832</td>\n",
       "      <td>1.707934</td>\n",
       "      <td>2.081874</td>\n",
       "      <td>2.134537</td>\n",
       "      <td>1.668077</td>\n",
       "      <td>1.741112</td>\n",
       "      <td>1.988065</td>\n",
       "    </tr>\n",
       "    <tr>\n",
       "      <th>16650005</th>\n",
       "      <td>1.574519</td>\n",
       "      <td>1.461831</td>\n",
       "      <td>1.534462</td>\n",
       "      <td>1.327591</td>\n",
       "      <td>2.968294</td>\n",
       "      <td>1.456212</td>\n",
       "      <td>1.499459</td>\n",
       "      <td>2.294922</td>\n",
       "      <td>2.467470</td>\n",
       "      <td>2.137064</td>\n",
       "      <td>...</td>\n",
       "      <td>2.205266</td>\n",
       "      <td>1.238521</td>\n",
       "      <td>1.626757</td>\n",
       "      <td>1.765212</td>\n",
       "      <td>2.255707</td>\n",
       "      <td>1.892722</td>\n",
       "      <td>1.583878</td>\n",
       "      <td>1.790000</td>\n",
       "      <td>1.904948</td>\n",
       "      <td>2.471706</td>\n",
       "    </tr>\n",
       "    <tr>\n",
       "      <th>16650007</th>\n",
       "      <td>1.630632</td>\n",
       "      <td>1.678148</td>\n",
       "      <td>1.366905</td>\n",
       "      <td>1.685712</td>\n",
       "      <td>1.274810</td>\n",
       "      <td>2.059780</td>\n",
       "      <td>2.571425</td>\n",
       "      <td>1.768870</td>\n",
       "      <td>2.069762</td>\n",
       "      <td>1.733600</td>\n",
       "      <td>...</td>\n",
       "      <td>1.526955</td>\n",
       "      <td>3.184611</td>\n",
       "      <td>2.405612</td>\n",
       "      <td>1.292599</td>\n",
       "      <td>3.129706</td>\n",
       "      <td>1.468203</td>\n",
       "      <td>1.940357</td>\n",
       "      <td>1.344478</td>\n",
       "      <td>2.081564</td>\n",
       "      <td>2.053391</td>\n",
       "    </tr>\n",
       "    <tr>\n",
       "      <th>16650009</th>\n",
       "      <td>0.922291</td>\n",
       "      <td>1.683431</td>\n",
       "      <td>1.366627</td>\n",
       "      <td>1.115257</td>\n",
       "      <td>1.310950</td>\n",
       "      <td>1.362507</td>\n",
       "      <td>1.347023</td>\n",
       "      <td>1.358300</td>\n",
       "      <td>1.193375</td>\n",
       "      <td>1.046035</td>\n",
       "      <td>...</td>\n",
       "      <td>1.072729</td>\n",
       "      <td>1.293214</td>\n",
       "      <td>1.218343</td>\n",
       "      <td>1.324958</td>\n",
       "      <td>3.572712</td>\n",
       "      <td>1.295168</td>\n",
       "      <td>1.050756</td>\n",
       "      <td>1.094166</td>\n",
       "      <td>0.927726</td>\n",
       "      <td>0.924413</td>\n",
       "    </tr>\n",
       "  </tbody>\n",
       "</table>\n",
       "<p>5 rows × 45 columns</p>\n",
       "</div>"
      ],
      "text/plain": [
       "          GSM4104672  GSM4104673  GSM4104674  GSM4104675  GSM4104676  \\\n",
       "ID                                                                     \n",
       "16650001    1.605655    1.843828    1.899724    1.617481    1.920638   \n",
       "16650003    2.279692    2.658503    1.714000    3.420702    2.070772   \n",
       "16650005    1.574519    1.461831    1.534462    1.327591    2.968294   \n",
       "16650007    1.630632    1.678148    1.366905    1.685712    1.274810   \n",
       "16650009    0.922291    1.683431    1.366627    1.115257    1.310950   \n",
       "\n",
       "          GSM4104677  GSM4104678  GSM4104679  GSM4104680  GSM4104681  ...  \\\n",
       "ID                                                                    ...   \n",
       "16650001    3.633856    1.934084    1.573835    1.409345    2.211837  ...   \n",
       "16650003    1.712379    1.600772    2.391815    1.506170    1.935247  ...   \n",
       "16650005    1.456212    1.499459    2.294922    2.467470    2.137064  ...   \n",
       "16650007    2.059780    2.571425    1.768870    2.069762    1.733600  ...   \n",
       "16650009    1.362507    1.347023    1.358300    1.193375    1.046035  ...   \n",
       "\n",
       "          GSM4104707  GSM4104708  GSM4104709  GSM4104710  GSM4104711  \\\n",
       "ID                                                                     \n",
       "16650001    3.874015    2.754243    0.907163    1.654553    0.595274   \n",
       "16650003    1.538323    2.271402    2.014419    1.721832    1.707934   \n",
       "16650005    2.205266    1.238521    1.626757    1.765212    2.255707   \n",
       "16650007    1.526955    3.184611    2.405612    1.292599    3.129706   \n",
       "16650009    1.072729    1.293214    1.218343    1.324958    3.572712   \n",
       "\n",
       "          GSM4104712  GSM4104713  GSM4104714  GSM4104715  GSM4104716  \n",
       "ID                                                                    \n",
       "16650001    1.030531    1.829221    2.945017    3.135033    3.589383  \n",
       "16650003    2.081874    2.134537    1.668077    1.741112    1.988065  \n",
       "16650005    1.892722    1.583878    1.790000    1.904948    2.471706  \n",
       "16650007    1.468203    1.940357    1.344478    2.081564    2.053391  \n",
       "16650009    1.295168    1.050756    1.094166    0.927726    0.924413  \n",
       "\n",
       "[5 rows x 45 columns]"
      ]
     },
     "execution_count": 130,
     "metadata": {},
     "output_type": "execute_result"
    }
   ],
   "source": [
    "genetic_data = get_genetic_data(matrix_file)\n",
    "genetic_data.head()"
   ]
  },
  {
   "cell_type": "code",
   "execution_count": 131,
   "metadata": {
    "ExecuteTime": {
     "end_time": "2024-01-10T21:40:14.107050774Z",
     "start_time": "2024-01-10T21:40:14.090977173Z"
    },
    "collapsed": false
   },
   "outputs": [
    {
     "data": {
      "text/plain": [
       "['16650001',\n",
       " '16650003',\n",
       " '16650005',\n",
       " '16650007',\n",
       " '16650009',\n",
       " '16650011',\n",
       " '16650013',\n",
       " '16650015',\n",
       " '16650017',\n",
       " '16650019',\n",
       " '16650021',\n",
       " '16650023',\n",
       " '16650025',\n",
       " '16650027',\n",
       " '16650029',\n",
       " '16650031',\n",
       " '16650033',\n",
       " '16650035',\n",
       " '16650037',\n",
       " '16650041']"
      ]
     },
     "execution_count": 131,
     "metadata": {},
     "output_type": "execute_result"
    }
   ],
   "source": [
    "gene_row_ids = genetic_data.index[:20].tolist()\n",
    "gene_row_ids"
   ]
  },
  {
   "cell_type": "markdown",
   "metadata": {
    "ExecuteTime": {
     "end_time": "2023-12-31T03:30:41.595335164Z",
     "start_time": "2023-12-31T03:30:41.513232329Z"
    },
    "collapsed": false
   },
   "source": [
    "Check if the gene dataset requires mapping to get the gene symbols corresponding to each data row."
   ]
  },
  {
   "cell_type": "markdown",
   "metadata": {
    "collapsed": false
   },
   "source": [
    "Reference prompt:"
   ]
  },
  {
   "cell_type": "code",
   "execution_count": 132,
   "metadata": {
    "ExecuteTime": {
     "end_time": "2024-01-10T21:40:16.445692615Z",
     "start_time": "2024-01-10T21:40:16.435117932Z"
    },
    "collapsed": false
   },
   "outputs": [
    {
     "data": {
      "text/plain": [
       "\"\\nBelow are the row headers of a gene expression dataset in GEO. Based on your biomedical knowledge, are they human gene symbols, or are they some other identifiers that need to be mapped to gene symbols? Your answer should be concluded by starting a new line and strictly following this format:\\nrequires_gene_mapping = (True or False)\\n\\nRow headers:\\n['16650001', '16650003', '16650005', '16650007', '16650009', '16650011', '16650013', '16650015', '16650017', '16650019', '16650021', '16650023', '16650025', '16650027', '16650029', '16650031', '16650033', '16650035', '16650037', '16650041']\\n\""
      ]
     },
     "execution_count": 132,
     "metadata": {},
     "output_type": "execute_result"
    }
   ],
   "source": [
    "f'''\n",
    "Below are the row headers of a gene expression dataset in GEO. Based on your biomedical knowledge, are they human gene symbols, or are they some other identifiers that need to be mapped to gene symbols? Your answer should be concluded by starting a new line and strictly following this format:\n",
    "requires_gene_mapping = (True or False)\n",
    "\n",
    "Row headers:\n",
    "{gene_row_ids}\n",
    "'''"
   ]
  },
  {
   "cell_type": "markdown",
   "metadata": {
    "collapsed": false
   },
   "source": [
    "\n",
    "If not required, jump directly to the gene normalization step"
   ]
  },
  {
   "cell_type": "code",
   "execution_count": 133,
   "metadata": {
    "ExecuteTime": {
     "end_time": "2024-01-10T21:40:17.098774002Z",
     "start_time": "2024-01-10T21:40:17.094437169Z"
    },
    "collapsed": false
   },
   "outputs": [],
   "source": [
    "requires_gene_mapping = False"
   ]
  },
  {
   "cell_type": "code",
   "execution_count": 134,
   "metadata": {
    "ExecuteTime": {
     "end_time": "2024-01-10T21:40:17.399324928Z",
     "start_time": "2024-01-10T21:40:17.381475568Z"
    },
    "collapsed": false
   },
   "outputs": [],
   "source": [
    "if requires_gene_mapping:\n",
    "    gene_annotation = get_gene_annotation(soft_file)\n",
    "    gene_annotation_summary = preview_df(gene_annotation)\n",
    "    print(gene_annotation_summary)"
   ]
  },
  {
   "cell_type": "markdown",
   "metadata": {
    "ExecuteTime": {
     "end_time": "2023-12-31T03:58:04.978931927Z",
     "start_time": "2023-12-31T03:58:04.966328339Z"
    },
    "collapsed": false
   },
   "source": [
    "Observe the first few cells in the ID column of the gene annotation dataframe, to find the names of columns that store the gene probe IDs and gene symbols respectively.\n",
    "Reference prompt:"
   ]
  },
  {
   "cell_type": "code",
   "execution_count": 135,
   "metadata": {
    "ExecuteTime": {
     "end_time": "2024-01-10T21:40:17.944343822Z",
     "start_time": "2024-01-10T21:40:17.933815553Z"
    },
    "collapsed": false
   },
   "outputs": [],
   "source": [
    "if requires_gene_mapping:\n",
    "    print(f'''\n",
    "    As a biomedical research team, we are analyzing a gene expression dataset, and find that its row headers are some identifiers related to genes:\n",
    "    {gene_row_ids}\n",
    "    To get the mapping from those identifiers to actual gene symbols, we extracted the gene annotation data from a series in the GEO database, and saved it to a Python dictionary. Please read the dictionary, and decide which key stores the identifiers, and which key stores the gene symbols. Please strictly follow this format in your answer:\n",
    "    identifier_key = 'key_name1'\n",
    "    gene_symbol_key = 'key_name2'\n",
    "\n",
    "    Gene annotation dictionary:\n",
    "    {gene_annotation_summary}\n",
    "    ''')"
   ]
  },
  {
   "cell_type": "code",
   "execution_count": 136,
   "metadata": {
    "ExecuteTime": {
     "end_time": "2024-01-10T21:40:18.245811669Z",
     "start_time": "2024-01-10T21:40:18.234480277Z"
    },
    "collapsed": false
   },
   "outputs": [],
   "source": [
    "if requires_gene_mapping:\n",
    "    identifier_key = 'ID'\n",
    "    gene_symbol_key = 'UCSC_RefGene_Name'\n",
    "    gene_mapping = get_gene_mapping(gene_annotation, identifier_key, gene_symbol_key)\n",
    "    genetic_data = apply_gene_mapping(genetic_data, gene_mapping)"
   ]
  },
  {
   "cell_type": "code",
   "execution_count": 137,
   "metadata": {
    "ExecuteTime": {
     "end_time": "2024-01-10T21:40:20.559860684Z",
     "start_time": "2024-01-10T21:40:18.521711414Z"
    },
    "collapsed": false
   },
   "outputs": [
    {
     "name": "stderr",
     "output_type": "stream",
     "text": [
      "1000 input query terms found no hit:\t['16650001', '16650003', '16650005', '16650007', '16650009', '16650011', '16650013', '16650015', '16\n",
      "1000 input query terms found no hit:\t['16652093', '16652095', '16652097', '16652099', '16652101', '16652103', '16652105', '16652107', '16\n",
      "1000 input query terms found no hit:\t['16654185', '16654187', '16654189', '16654191', '16654193', '16654195', '16654197', '16654199', '16\n",
      "1000 input query terms found no hit:\t['16656247', '16656249', '16656251', '16656253', '16656255', '16656257', '16656259', '16656261', '16\n",
      "1000 input query terms found no hit:\t['16661723', '16661726', '16661730', '16661770', '16661773', '16661776', '16661778', '16661782', '16\n",
      "1000 input query terms found no hit:\t['16672006', '16672027', '16672043', '16672052', '16672072', '16672075', '16672080', '16672082', '16\n",
      "1000 input query terms found no hit:\t['16682148', '16682161', '16682175', '16682203', '16682219', '16682225', '16682259', '16682275', '16\n",
      "1000 input query terms found no hit:\t['16693357', '16693361', '16693365', '16693370', '16693375', '16693379', '16693383', '16693393', '16\n",
      "1000 input query terms found no hit:\t['16703062', '16703064', '16703066', '16703068', '16703108', '16703110', '16703112', '16703114', '16\n",
      "1000 input query terms found no hit:\t['16712503', '16712505', '16712513', '16712526', '16712528', '16712531', '16712576', '16712587', '16\n",
      "1000 input query terms found no hit:\t['16722684', '16722708', '16722713', '16722720', '16722776', '16722779', '16722781', '16722785', '16\n",
      "1000 input query terms found no hit:\t['16733620', '16733640', '16733643', '16733660', '16733689', '16733719', '16733759', '16733774', '16\n",
      "1000 input query terms found no hit:\t['16743548', '16743554', '16743556', '16743560', '16743566', '16743569', '16743572', '16743574', '16\n",
      "1000 input query terms found no hit:\t['16754416', '16754450', '16754452', '16754455', '16754457', '16754459', '16754463', '16754467', '16\n",
      "1000 input query terms found no hit:\t['16765192', '16765226', '16765254', '16765281', '16765284', '16765315', '16765322', '16765325', '16\n",
      "1000 input query terms found no hit:\t['16774301', '16774303', '16774310', '16774312', '16774314', '16774319', '16774362', '16774378', '16\n",
      "1000 input query terms found no hit:\t['16782098', '16782100', '16782102', '16782104', '16782106', '16782108', '16782110', '16782112', '16\n",
      "1000 input query terms found no hit:\t['16792303', '16792305', '16792308', '16792312', '16792317', '16792323', '16792331', '16792333', '16\n",
      "1000 input query terms found no hit:\t['16801376', '16801395', '16801400', '16801428', '16801469', '16801473', '16801487', '16801506', '16\n",
      "1000 input query terms found no hit:\t['16812735', '16812738', '16812746', '16812755', '16812757', '16812759', '16812761', '16812764', '16\n",
      "1000 input query terms found no hit:\t['16822868', '16822877', '16822889', '16822892', '16822904', '16822913', '16822917', '16822919', '16\n",
      "1000 input query terms found no hit:\t['16833019', '16833024', '16833026', '16833029', '16833032', '16833035', '16833037', '16833060', '16\n",
      "1000 input query terms found no hit:\t['16843072', '16843074', '16843076', '16843078', '16843096', '16843098', '16843113', '16843115', '16\n",
      "1000 input query terms found no hit:\t['16852993', '16852997', '16853001', '16853009', '16853012', '16853016', '16853019', '16853021', '16\n",
      "1000 input query terms found no hit:\t['16861887', '16861890', '16861895', '16861907', '16861914', '16861930', '16861945', '16861953', '16\n",
      "1000 input query terms found no hit:\t['16872089', '16872125', '16872131', '16872152', '16872163', '16872166', '16872176', '16872178', '16\n",
      "1000 input query terms found no hit:\t['16881649', '16881653', '16881660', '16881676', '16881678', '16881687', '16881708', '16881735', '16\n",
      "1000 input query terms found no hit:\t['16892015', '16892032', '16892039', '16892073', '16892075', '16892112', '16892114', '16892116', '16\n",
      "1000 input query terms found no hit:\t['16901680', '16901683', '16901688', '16901699', '16901716', '16901755', '16901790', '16901793', '16\n",
      "1000 input query terms found no hit:\t['16912685', '16912703', '16912718', '16912738', '16912742', '16912753', '16912763', '16912776', '16\n",
      "1000 input query terms found no hit:\t['16921973', '16921999', '16922007', '16922011', '16922028', '16922031', '16922033', '16922036', '16\n",
      "1000 input query terms found no hit:\t['16931942', '16931957', '16931979', '16931985', '16931990', '16932006', '16932008', '16932023', '16\n",
      "1000 input query terms found no hit:\t['16943157', '16943161', '16943165', '16943167', '16943169', '16943171', '16943175', '16943178', '16\n",
      "1000 input query terms found no hit:\t['16954325', '16954341', '16954343', '16954345', '16954351', '16954354', '16954385', '16954401', '16\n",
      "1000 input query terms found no hit:\t['16965480', '16965482', '16965484', '16965490', '16965493', '16965499', '16965505', '16965509', '16\n",
      "1000 input query terms found no hit:\t['16974737', '16974740', '16974744', '16974746', '16974749', '16974772', '16974774', '16974779', '16\n",
      "1000 input query terms found no hit:\t['16983738', '16983740', '16983742', '16983744', '16983746', '16983765', '16983784', '16983792', '16\n",
      "1000 input query terms found no hit:\t['16993672', '16993678', '16993681', '16993684', '16993688', '16993691', '16993693', '16993701', '16\n",
      "1000 input query terms found no hit:\t['17002820', '17002839', '17002843', '17002846', '17002856', '17002858', '17002861', '17002871', '17\n",
      "1000 input query terms found no hit:\t['17012034', '17012036', '17012043', '17012045', '17012047', '17012079', '17012087', '17012098', '17\n",
      "1000 input query terms found no hit:\t['17021557', '17021573', '17021585', '17021596', '17021607', '17021612', '17021628', '17021736', '17\n",
      "1000 input query terms found no hit:\t['17033237', '17033246', '17033249', '17033255', '17033265', '17033275', '17033277', '17033279', '17\n",
      "1000 input query terms found no hit:\t['17045787', '17045794', '17045797', '17045799', '17045802', '17045806', '17045834', '17045836', '17\n",
      "1000 input query terms found no hit:\t['17056248', '17056275', '17056277', '17056281', '17056285', '17056289', '17056291', '17056310', '17\n",
      "1000 input query terms found no hit:\t['17066334', '17066341', '17066346', '17066355', '17066365', '17066370', '17066375', '17066378', '17\n",
      "1000 input query terms found no hit:\t['17075970', '17075973', '17075983', '17075986', '17075989', '17075992', '17076000', '17076005', '17\n",
      "1000 input query terms found no hit:\t['17085491', '17085495', '17085498', '17085500', '17085507', '17085510', '17085513', '17085516', '17\n",
      "1000 input query terms found no hit:\t['17095217', '17095243', '17095246', '17095248', '17095264', '17095284', '17095307', '17095318', '17\n",
      "1000 input query terms found no hit:\t['17104408', '17104410', '17104412', '17104416', '17104427', '17104437', '17104448', '17104450', '17\n",
      "1000 input query terms found no hit:\t['17114209', '17114220', '17114239', '17114241', '17114256', '17114266', '17114270', '17114272', '17\n",
      "1000 input query terms found no hit:\t['17118900', '17118902', '17118904', '17118906', '17118908', '17118916', '17118918', '17118920', '17\n",
      "1000 input query terms found no hit:\t['17121332', '17121334', '17121336', '17121338', '17121340', '17121342', '17121344', '17121346', '17\n",
      "1000 input query terms found no hit:\t['17123334', '17123336', '17123338', '17123340', '17123342', '17123344', '17123346', '17123348', '17\n",
      "617 input query terms found no hit:\t['17125344', '17125346', '17125348', '17125350', '17125352', '17125354', '17125356', '17125358', '17\n"
     ]
    }
   ],
   "source": [
    "if NORMALIZE_GENE:\n",
    "    genetic_data = normalize_gene_symbols_in_index(genetic_data)"
   ]
  },
  {
   "cell_type": "code",
   "execution_count": 138,
   "metadata": {
    "ExecuteTime": {
     "end_time": "2024-01-10T21:40:20.572778564Z",
     "start_time": "2024-01-10T21:40:20.565101065Z"
    },
    "collapsed": false
   },
   "outputs": [],
   "source": [
    "merged_data = geo_merge_clinical_genetic_data(selected_clinical_data, genetic_data)\n",
    "# The preprocessing runs through, which means is_available should be True\n",
    "is_available = True"
   ]
  },
  {
   "cell_type": "code",
   "execution_count": 139,
   "metadata": {
    "ExecuteTime": {
     "end_time": "2024-01-10T21:40:20.595385887Z",
     "start_time": "2024-01-10T21:40:20.574630883Z"
    },
    "collapsed": false
   },
   "outputs": [
    {
     "name": "stdout",
     "output_type": "stream",
     "text": [
      "The merged dataset contains 45 samples.\n"
     ]
    }
   ],
   "source": [
    "print(f\"The merged dataset contains {len(merged_data)} samples.\")"
   ]
  },
  {
   "cell_type": "code",
   "execution_count": 140,
   "metadata": {
    "ExecuteTime": {
     "end_time": "2024-01-10T21:40:20.595934649Z",
     "start_time": "2024-01-10T21:40:20.580408525Z"
    },
    "collapsed": false
   },
   "outputs": [
    {
     "name": "stdout",
     "output_type": "stream",
     "text": [
      "For the feature 'Lactose-Intolerance', the least common label is '1.0' with 45 occurrences. This represents 100.00% of the dataset.\n",
      "The distribution of the feature 'Lactose-Intolerance' in this dataset is severely biased.\n",
      "\n",
      "Quartiles for 'Age':\n",
      "  25%: 28.0\n",
      "  50% (Median): 36.0\n",
      "  75%: 49.0\n",
      "Min: 21.0\n",
      "Max: 59.0\n",
      "The distribution of the feature 'Age' in this dataset is fine.\n",
      "\n",
      "For the feature 'Gender', the least common label is '0.0' with 21 occurrences. This represents 46.67% of the dataset.\n",
      "The distribution of the feature 'Gender' in this dataset is fine.\n",
      "\n"
     ]
    },
    {
     "data": {
      "text/plain": [
       "True"
      ]
     },
     "execution_count": 140,
     "metadata": {},
     "output_type": "execute_result"
    }
   ],
   "source": [
    "is_trait_biased, merged_data = judge_and_remove_biased_features(merged_data, TRAIT, trait_type=trait_type)\n",
    "is_trait_biased"
   ]
  },
  {
   "cell_type": "code",
   "execution_count": 141,
   "metadata": {
    "ExecuteTime": {
     "end_time": "2024-01-10T21:40:20.596022151Z",
     "start_time": "2024-01-10T21:40:20.588443384Z"
    },
    "collapsed": false
   },
   "outputs": [],
   "source": [
    "if is_available:\n",
    "    save_cohort_info(cohort, JSON_PATH, is_available, is_trait_biased, merged_data, note='')\n",
    "else:\n",
    "    save_cohort_info(cohort, JSON_PATH, is_available)"
   ]
  },
  {
   "cell_type": "code",
   "execution_count": 142,
   "metadata": {
    "ExecuteTime": {
     "end_time": "2024-01-10T21:40:20.681345468Z",
     "start_time": "2024-01-10T21:40:20.591286171Z"
    },
    "collapsed": false
   },
   "outputs": [],
   "source": [
    "merged_data.head()\n",
    "if not is_trait_biased:\n",
    "    merged_data.to_csv(os.path.join(OUTPUT_DIR, cohort + '.csv'), index=False)"
   ]
  },
  {
   "cell_type": "markdown",
   "metadata": {
    "ExecuteTime": {
     "end_time": "2023-12-31T03:58:22.271683755Z",
     "start_time": "2023-12-31T03:58:22.246557674Z"
    },
    "id": "-MTPhRGxJV7I"
   },
   "source": [
    "### 3. Do regression & Cross Validation"
   ]
  },
  {
   "cell_type": "code",
   "execution_count": 143,
   "metadata": {
    "ExecuteTime": {
     "end_time": "2024-01-10T21:40:20.694597045Z",
     "start_time": "2024-01-10T21:40:20.642161512Z"
    },
    "collapsed": false
   },
   "outputs": [
    {
     "data": {
      "text/html": [
       "<div>\n",
       "<style scoped>\n",
       "    .dataframe tbody tr th:only-of-type {\n",
       "        vertical-align: middle;\n",
       "    }\n",
       "\n",
       "    .dataframe tbody tr th {\n",
       "        vertical-align: top;\n",
       "    }\n",
       "\n",
       "    .dataframe thead th {\n",
       "        text-align: right;\n",
       "    }\n",
       "</style>\n",
       "<table border=\"1\" class=\"dataframe\">\n",
       "  <thead>\n",
       "    <tr style=\"text-align: right;\">\n",
       "      <th></th>\n",
       "      <th>cohort_id</th>\n",
       "      <th>is_usable</th>\n",
       "      <th>is_available</th>\n",
       "      <th>is_biased</th>\n",
       "      <th>has_age</th>\n",
       "      <th>has_gender</th>\n",
       "      <th>sample_size</th>\n",
       "      <th>note</th>\n",
       "    </tr>\n",
       "  </thead>\n",
       "  <tbody>\n",
       "  </tbody>\n",
       "</table>\n",
       "</div>"
      ],
      "text/plain": [
       "Empty DataFrame\n",
       "Columns: [cohort_id, is_usable, is_available, is_biased, has_age, has_gender, sample_size, note]\n",
       "Index: []"
      ]
     },
     "execution_count": 143,
     "metadata": {},
     "output_type": "execute_result"
    }
   ],
   "source": [
    "# Check the information of usable cohorts\n",
    "best_cohort, ranked_df = filter_and_rank_cohorts(JSON_PATH)\n",
    "ranked_df"
   ]
  },
  {
   "cell_type": "code",
   "execution_count": 144,
   "metadata": {
    "ExecuteTime": {
     "end_time": "2024-01-10T21:40:20.907514912Z",
     "start_time": "2024-01-10T21:40:20.907178250Z"
    },
    "collapsed": false
   },
   "outputs": [],
   "source": [
    "# If both age and gender have available cohorts, select 'age' as the condition.\n",
    "condition = 'Age'\n",
    "filter_column = 'has_' + condition.lower()\n",
    "\n",
    "condition_best_cohort, condition_ranked_df = filter_and_rank_cohorts(JSON_PATH, filter_column)\n",
    "condition_best_cohort"
   ]
  },
  {
   "cell_type": "code",
   "execution_count": 145,
   "metadata": {
    "ExecuteTime": {
     "end_time": "2024-01-10T21:40:21.120075804Z",
     "start_time": "2024-01-10T21:40:21.109376558Z"
    },
    "collapsed": false
   },
   "outputs": [
    {
     "data": {
      "text/html": [
       "<div>\n",
       "<style scoped>\n",
       "    .dataframe tbody tr th:only-of-type {\n",
       "        vertical-align: middle;\n",
       "    }\n",
       "\n",
       "    .dataframe tbody tr th {\n",
       "        vertical-align: top;\n",
       "    }\n",
       "\n",
       "    .dataframe thead th {\n",
       "        text-align: right;\n",
       "    }\n",
       "</style>\n",
       "<table border=\"1\" class=\"dataframe\">\n",
       "  <thead>\n",
       "    <tr style=\"text-align: right;\">\n",
       "      <th></th>\n",
       "      <th>cohort_id</th>\n",
       "      <th>is_usable</th>\n",
       "      <th>is_available</th>\n",
       "      <th>is_biased</th>\n",
       "      <th>has_age</th>\n",
       "      <th>has_gender</th>\n",
       "      <th>sample_size</th>\n",
       "      <th>note</th>\n",
       "    </tr>\n",
       "  </thead>\n",
       "  <tbody>\n",
       "  </tbody>\n",
       "</table>\n",
       "</div>"
      ],
      "text/plain": [
       "Empty DataFrame\n",
       "Columns: [cohort_id, is_usable, is_available, is_biased, has_age, has_gender, sample_size, note]\n",
       "Index: []"
      ]
     },
     "execution_count": 145,
     "metadata": {},
     "output_type": "execute_result"
    }
   ],
   "source": [
    "condition_ranked_df.head()"
   ]
  }
 ],
 "metadata": {
  "colab": {
   "provenance": []
  },
  "kernelspec": {
   "display_name": "Python 3 (ipykernel)",
   "language": "python",
   "name": "python3"
  },
  "language_info": {
   "codemirror_mode": {
    "name": "ipython",
    "version": 3
   },
   "file_extension": ".py",
   "mimetype": "text/x-python",
   "name": "python",
   "nbconvert_exporter": "python",
   "pygments_lexer": "ipython3",
   "version": "3.11.9"
  }
 },
 "nbformat": 4,
 "nbformat_minor": 0
}
