{
 "cells": [
  {
   "cell_type": "code",
   "execution_count": 1,
   "metadata": {},
   "outputs": [
    {
     "name": "stdout",
     "output_type": "stream",
     "text": [
      "utils.py has been loaded\n"
     ]
    }
   ],
   "source": [
    "import os\n",
    "import sys\n",
    "\n",
    "sys.path.append('..')\n",
    "from utils import *\n",
    "\n",
    "# Set your preferred name\n",
    "USER = \"Arthur\"\n",
    "# Set the data and output directories\n",
    "DATA_ROOT = 'C:/Users/arthu/Downloads'\n",
    "OUTPUT_ROOT = 'C:/Users/arthu/OneDrive/Documents/GitHub/output2'\n",
    "TRAIT = 'Werner-Syndrome'\n",
    "\n",
    "OUTPUT_DIR = os.path.join(OUTPUT_ROOT, USER, '-'.join(TRAIT.split()))\n",
    "JSON_PATH = os.path.join(OUTPUT_DIR, \"cohort_info.json\")\n",
    "if not os.path.exists(OUTPUT_DIR):\n",
    "    os.makedirs(OUTPUT_DIR, exist_ok=True)\n",
    "\n",
    "# Gene symbol normalization may take 1-2 minutes. You may set it to False for debugging.\n",
    "NORMALIZE_GENE = True"
   ]
  },
  {
   "cell_type": "markdown",
   "metadata": {},
   "source": [
    "2. Data preprocessing and selection\n",
    "\n",
    "The GEO dataset"
   ]
  },
  {
   "cell_type": "code",
   "execution_count": 2,
   "metadata": {},
   "outputs": [
    {
     "data": {
      "text/plain": [
       "['GSE48761', 'GSE62877']"
      ]
     },
     "execution_count": 2,
     "metadata": {},
     "output_type": "execute_result"
    }
   ],
   "source": [
    "dataset = 'GEO'\n",
    "trait_subdir = \"Werner-Syndrome\"\n",
    "\n",
    "trait_path = os.path.join(DATA_ROOT, dataset, trait_subdir)\n",
    "os.listdir(trait_path)"
   ]
  },
  {
   "cell_type": "code",
   "execution_count": 23,
   "metadata": {},
   "outputs": [
    {
     "data": {
      "text/plain": [
       "('C:/Users/arthu/Downloads\\\\GEO\\\\Werner-Syndrome\\\\GSE62877\\\\GSE62877_family.soft.gz',\n",
       " 'C:/Users/arthu/Downloads\\\\GEO\\\\Werner-Syndrome\\\\GSE62877\\\\GSE62877-GPL14592_series_matrix.txt.gz')"
      ]
     },
     "execution_count": 23,
     "metadata": {},
     "output_type": "execute_result"
    }
   ],
   "source": [
    "cohort = accession_num = \"GSE62877\"\n",
    "cohort_dir = os.path.join(trait_path, accession_num)\n",
    "soft_file, matrix_file = geo_get_relevant_filepaths(cohort_dir)\n",
    "soft_file, matrix_file"
   ]
  },
  {
   "cell_type": "code",
   "execution_count": 24,
   "metadata": {},
   "outputs": [
    {
     "name": "stdout",
     "output_type": "stream",
     "text": [
      "!Series_title\t\"Werner syndrome WRN helicase alters gene expression in a G-quadruplex DNA-dependent manner to antagonize a pro-senescence gene expression program\"\n",
      "!Series_summary\t\"Werner syndrome (WS) is a human adult progeroid syndrome caused by loss-of-function mutations in the WRN RECQ helicase gene. We analyzed mRNA and miRNA expression in fibroblasts from WS patients and in fibroblasts depleted of WRN protein in order to determine the role of WRN in transcription regulation, and to identify genes and miRNAs that might drive WS disease pathogenesis. Genes altered in WS cells participate in cellular growth, proliferation and survival; in tRNA charging and in oncogenic signaling; and in connective tissue and developmental networks. Genes down-regulated in WS cells were highly enriched in Gquadruplex (G4) DNA motifs, indicating G4 motifs are physiologic substrates for WRN. In contrast, there was a remarkable, coordinate up-regulation of nearly all of the cytoplasmic tRNA synthetases and of genes associated with the senescence-associated secretory phenotype (SASP). These results identify canonical pathways that may drive the pathogenesis of Werner syndrome and associated disease risks.\"\n",
      "!Series_overall_design\t\"Primary fibroblasts from 6 patients and 8 matched normal controls, and in 9 primary diploid fibroblasts. The 9  primary diploid fibroblasts included 3 depleted of the WRN protein by WRN-specific shRNA, 3 controls, and 3 scrambled shRNA with no known target sequence in the human genome.\"\n"
     ]
    }
   ],
   "source": [
    "background_prefixes = ['!Series_title', '!Series_summary', '!Series_overall_design']\n",
    "clinical_prefixes = ['!Sample_geo_accession', '!Sample_characteristics_ch1']\n",
    "\n",
    "background_info, clinical_data = get_background_and_clinical_data(matrix_file, background_prefixes, clinical_prefixes)\n",
    "print(background_info)"
   ]
  },
  {
   "cell_type": "code",
   "execution_count": 45,
   "metadata": {},
   "outputs": [
    {
     "data": {
      "text/html": [
       "<div>\n",
       "<style scoped>\n",
       "    .dataframe tbody tr th:only-of-type {\n",
       "        vertical-align: middle;\n",
       "    }\n",
       "\n",
       "    .dataframe tbody tr th {\n",
       "        vertical-align: top;\n",
       "    }\n",
       "\n",
       "    .dataframe thead th {\n",
       "        text-align: right;\n",
       "    }\n",
       "</style>\n",
       "<table border=\"1\" class=\"dataframe\">\n",
       "  <thead>\n",
       "    <tr style=\"text-align: right;\">\n",
       "      <th></th>\n",
       "      <th>!Sample_geo_accession</th>\n",
       "      <th>GSM1317006</th>\n",
       "      <th>GSM1317010</th>\n",
       "      <th>GSM1317011</th>\n",
       "      <th>GSM1317013</th>\n",
       "      <th>GSM1317016</th>\n",
       "      <th>GSM1317018</th>\n",
       "      <th>GSM1317021</th>\n",
       "      <th>GSM1317022</th>\n",
       "      <th>GSM1317024</th>\n",
       "      <th>GSM1535467</th>\n",
       "      <th>GSM1535468</th>\n",
       "      <th>GSM1535469</th>\n",
       "      <th>GSM1535470</th>\n",
       "      <th>GSM1535471</th>\n",
       "      <th>GSM1535472</th>\n",
       "    </tr>\n",
       "  </thead>\n",
       "  <tbody>\n",
       "    <tr>\n",
       "      <th>0</th>\n",
       "      <td>!Sample_characteristics_ch1</td>\n",
       "      <td>cell line: GM00730</td>\n",
       "      <td>cell line: GM01651</td>\n",
       "      <td>cell line: GM01948</td>\n",
       "      <td>cell line: GM02185</td>\n",
       "      <td>cell line: GM02674</td>\n",
       "      <td>cell line: GM03377</td>\n",
       "      <td>cell line: GM03651</td>\n",
       "      <td>cell line: GM04260</td>\n",
       "      <td>cell line: GM07532</td>\n",
       "      <td>tissue: primary fibroblast</td>\n",
       "      <td>tissue: primary fibroblast</td>\n",
       "      <td>tissue: primary fibroblast</td>\n",
       "      <td>tissue: primary fibroblast</td>\n",
       "      <td>tissue: primary fibroblast</td>\n",
       "      <td>tissue: primary fibroblast</td>\n",
       "    </tr>\n",
       "    <tr>\n",
       "      <th>1</th>\n",
       "      <td>!Sample_characteristics_ch1</td>\n",
       "      <td>cell type: primary fibroblast</td>\n",
       "      <td>cell type: primary fibroblast</td>\n",
       "      <td>cell type: primary fibroblast</td>\n",
       "      <td>cell type: primary fibroblast</td>\n",
       "      <td>cell type: primary fibroblast</td>\n",
       "      <td>cell type: primary fibroblast</td>\n",
       "      <td>cell type: primary fibroblast</td>\n",
       "      <td>cell type: primary fibroblast</td>\n",
       "      <td>cell type: primary fibroblast</td>\n",
       "      <td>age: 60</td>\n",
       "      <td>age: 13</td>\n",
       "      <td>age: 37</td>\n",
       "      <td>age: 30</td>\n",
       "      <td>age: 36</td>\n",
       "      <td>age: 25</td>\n",
       "    </tr>\n",
       "    <tr>\n",
       "      <th>2</th>\n",
       "      <td>!Sample_characteristics_ch1</td>\n",
       "      <td>blm mutation: Wildtype</td>\n",
       "      <td>blm mutation: homozygous (1544insA of RECQL3 g...</td>\n",
       "      <td>blm mutation: Wildtype</td>\n",
       "      <td>blm mutation: Wildtype</td>\n",
       "      <td>blm mutation: homozygous (6-bp del/7-bp ins] a...</td>\n",
       "      <td>blm mutation: homozyguous (2293delC of RECQL3 ...</td>\n",
       "      <td>blm mutation: compound heterozygous (3261delT ...</td>\n",
       "      <td>blm mutation: compound heterozygous ([2015A&gt;G]...</td>\n",
       "      <td>blm mutation: Q700X missen mutation in BLM pro...</td>\n",
       "      <td>gender: M</td>\n",
       "      <td>gender: F</td>\n",
       "      <td>gender: M</td>\n",
       "      <td>gender: F</td>\n",
       "      <td>gender: M</td>\n",
       "      <td>gender: M</td>\n",
       "    </tr>\n",
       "    <tr>\n",
       "      <th>3</th>\n",
       "      <td>!Sample_characteristics_ch1</td>\n",
       "      <td>clinical features: Not clinically affected</td>\n",
       "      <td>clinical features: Bloom syndrome</td>\n",
       "      <td>clinical features: Not clinically affected</td>\n",
       "      <td>clinical features: Not clinically affected</td>\n",
       "      <td>clinical features: Bloom syndrome</td>\n",
       "      <td>clinical features: Bloom syndrome</td>\n",
       "      <td>clinical features: Bloom syndrome</td>\n",
       "      <td>clinical features: Bloom syndrome</td>\n",
       "      <td>clinical features: Bloom syndrome</td>\n",
       "      <td>NaN</td>\n",
       "      <td>NaN</td>\n",
       "      <td>NaN</td>\n",
       "      <td>NaN</td>\n",
       "      <td>NaN</td>\n",
       "      <td>NaN</td>\n",
       "    </tr>\n",
       "    <tr>\n",
       "      <th>4</th>\n",
       "      <td>!Sample_characteristics_ch1</td>\n",
       "      <td>age: 45</td>\n",
       "      <td>age: 13</td>\n",
       "      <td>age: 27</td>\n",
       "      <td>age: 36</td>\n",
       "      <td>age: 29</td>\n",
       "      <td>age: 19</td>\n",
       "      <td>age: 25</td>\n",
       "      <td>age: 60</td>\n",
       "      <td>age: 16</td>\n",
       "      <td>NaN</td>\n",
       "      <td>NaN</td>\n",
       "      <td>NaN</td>\n",
       "      <td>NaN</td>\n",
       "      <td>NaN</td>\n",
       "      <td>NaN</td>\n",
       "    </tr>\n",
       "  </tbody>\n",
       "</table>\n",
       "</div>"
      ],
      "text/plain": [
       "         !Sample_geo_accession                                  GSM1317006  \\\n",
       "0  !Sample_characteristics_ch1                          cell line: GM00730   \n",
       "1  !Sample_characteristics_ch1               cell type: primary fibroblast   \n",
       "2  !Sample_characteristics_ch1                      blm mutation: Wildtype   \n",
       "3  !Sample_characteristics_ch1  clinical features: Not clinically affected   \n",
       "4  !Sample_characteristics_ch1                                     age: 45   \n",
       "\n",
       "                                          GSM1317010  \\\n",
       "0                                 cell line: GM01651   \n",
       "1                      cell type: primary fibroblast   \n",
       "2  blm mutation: homozygous (1544insA of RECQL3 g...   \n",
       "3                  clinical features: Bloom syndrome   \n",
       "4                                            age: 13   \n",
       "\n",
       "                                   GSM1317011  \\\n",
       "0                          cell line: GM01948   \n",
       "1               cell type: primary fibroblast   \n",
       "2                      blm mutation: Wildtype   \n",
       "3  clinical features: Not clinically affected   \n",
       "4                                     age: 27   \n",
       "\n",
       "                                   GSM1317013  \\\n",
       "0                          cell line: GM02185   \n",
       "1               cell type: primary fibroblast   \n",
       "2                      blm mutation: Wildtype   \n",
       "3  clinical features: Not clinically affected   \n",
       "4                                     age: 36   \n",
       "\n",
       "                                          GSM1317016  \\\n",
       "0                                 cell line: GM02674   \n",
       "1                      cell type: primary fibroblast   \n",
       "2  blm mutation: homozygous (6-bp del/7-bp ins] a...   \n",
       "3                  clinical features: Bloom syndrome   \n",
       "4                                            age: 29   \n",
       "\n",
       "                                          GSM1317018  \\\n",
       "0                                 cell line: GM03377   \n",
       "1                      cell type: primary fibroblast   \n",
       "2  blm mutation: homozyguous (2293delC of RECQL3 ...   \n",
       "3                  clinical features: Bloom syndrome   \n",
       "4                                            age: 19   \n",
       "\n",
       "                                          GSM1317021  \\\n",
       "0                                 cell line: GM03651   \n",
       "1                      cell type: primary fibroblast   \n",
       "2  blm mutation: compound heterozygous (3261delT ...   \n",
       "3                  clinical features: Bloom syndrome   \n",
       "4                                            age: 25   \n",
       "\n",
       "                                          GSM1317022  \\\n",
       "0                                 cell line: GM04260   \n",
       "1                      cell type: primary fibroblast   \n",
       "2  blm mutation: compound heterozygous ([2015A>G]...   \n",
       "3                  clinical features: Bloom syndrome   \n",
       "4                                            age: 60   \n",
       "\n",
       "                                          GSM1317024  \\\n",
       "0                                 cell line: GM07532   \n",
       "1                      cell type: primary fibroblast   \n",
       "2  blm mutation: Q700X missen mutation in BLM pro...   \n",
       "3                  clinical features: Bloom syndrome   \n",
       "4                                            age: 16   \n",
       "\n",
       "                   GSM1535467                  GSM1535468  \\\n",
       "0  tissue: primary fibroblast  tissue: primary fibroblast   \n",
       "1                     age: 60                     age: 13   \n",
       "2                   gender: M                   gender: F   \n",
       "3                         NaN                         NaN   \n",
       "4                         NaN                         NaN   \n",
       "\n",
       "                   GSM1535469                  GSM1535470  \\\n",
       "0  tissue: primary fibroblast  tissue: primary fibroblast   \n",
       "1                     age: 37                     age: 30   \n",
       "2                   gender: M                   gender: F   \n",
       "3                         NaN                         NaN   \n",
       "4                         NaN                         NaN   \n",
       "\n",
       "                   GSM1535471                  GSM1535472  \n",
       "0  tissue: primary fibroblast  tissue: primary fibroblast  \n",
       "1                     age: 36                     age: 25  \n",
       "2                   gender: M                   gender: M  \n",
       "3                         NaN                         NaN  \n",
       "4                         NaN                         NaN  "
      ]
     },
     "execution_count": 45,
     "metadata": {},
     "output_type": "execute_result"
    }
   ],
   "source": [
    "clinical_data.head()"
   ]
  },
  {
   "cell_type": "code",
   "execution_count": 26,
   "metadata": {},
   "outputs": [
    {
     "data": {
      "text/plain": [
       "{0: ['cell line: GM00730',\n",
       "  'cell line: GM01651',\n",
       "  'cell line: GM01948',\n",
       "  'cell line: GM02185',\n",
       "  'cell line: GM02674',\n",
       "  'cell line: GM03377',\n",
       "  'cell line: GM03651',\n",
       "  'cell line: GM04260',\n",
       "  'cell line: GM07532',\n",
       "  'tissue: primary fibroblast'],\n",
       " 1: ['cell type: primary fibroblast',\n",
       "  'age: 60',\n",
       "  'age: 13',\n",
       "  'age: 37',\n",
       "  'age: 30',\n",
       "  'age: 36',\n",
       "  'age: 25'],\n",
       " 2: ['blm mutation: Wildtype',\n",
       "  'blm mutation: homozygous (1544insA of RECQL3 gene)',\n",
       "  'blm mutation: homozygous (6-bp del/7-bp ins] at nucleotide 2,281 of RECQL3 gene)',\n",
       "  'blm mutation: homozyguous (2293delC of RECQL3 gene)',\n",
       "  'blm mutation: compound heterozygous (3261delT and 2281delT of RECQL3 gene',\n",
       "  'blm mutation: compound heterozygous ([2015A>G] and [IVS5-2A>G] of RECQL3 gene)',\n",
       "  'blm mutation: Q700X missen mutation in BLM protein',\n",
       "  'gender: M',\n",
       "  'gender: F'],\n",
       " 3: ['clinical features: Not clinically affected',\n",
       "  'clinical features: Bloom syndrome',\n",
       "  nan],\n",
       " 4: ['age: 45',\n",
       "  'age: 13',\n",
       "  'age: 27',\n",
       "  'age: 36',\n",
       "  'age: 29',\n",
       "  'age: 19',\n",
       "  'age: 25',\n",
       "  'age: 60',\n",
       "  'age: 16',\n",
       "  nan],\n",
       " 5: ['gender: F', 'gender: M', nan]}"
      ]
     },
     "execution_count": 26,
     "metadata": {},
     "output_type": "execute_result"
    }
   ],
   "source": [
    "clinical_data_unique = get_unique_values_by_row(clinical_data)\n",
    "clinical_data_unique"
   ]
  },
  {
   "cell_type": "code",
   "execution_count": 27,
   "metadata": {},
   "outputs": [
    {
     "data": {
      "text/plain": [
       "'As a biomedical research team, we are selecting datasets to study the association between the human trait \\'Werner-Syndrome\\' and genetic factors, optionally considering the influence of age and gender. After searching the GEO database and parsing the matrix file of a series, we obtained background information and sample characteristics data. We will provide textual information about the dataset background, and a Python dictionary storing a list of unique values for each field of the sample characteristics data. Please carefully review the provided information and answer the following questions about this dataset:\\n1. Does this dataset contain gene expression data? (Note: Pure miRNA data is not suitable.)\\n2. For each of the traits \\'Werner-Syndrome\\', \\'age\\', and \\'gender\\', please address these points:\\n   (1) Is there human data available for this trait?\\n   (2) If so, identify the key in the sample characteristics dictionary where unique values of this trait is recorded. The key is an integer. The trait information might be explicitly recorded, or can be inferred from the field with some biomedical knowledge or understanding about the data collection process.\\n   (3) Choose an appropriate data type (either \\'continuous\\' or \\'binary\\') for each trait. Write a Python function to convert any given value of the trait to this data type. The function should handle inference about the trait value and convert unknown values to None.\\n   Name the functions \\'convert_trait\\', \\'convert_age\\', and \\'convert_gender\\', respectively.\\n\\nBackground information about the dataset:\\n!Series_title\\t\"Werner syndrome WRN helicase alters gene expression in a G-quadruplex DNA-dependent manner to antagonize a pro-senescence gene expression program\"\\n!Series_summary\\t\"Werner syndrome (WS) is a human adult progeroid syndrome caused by loss-of-function mutations in the WRN RECQ helicase gene. We analyzed mRNA and miRNA expression in fibroblasts from WS patients and in fibroblasts depleted of WRN protein in order to determine the role of WRN in transcription regulation, and to identify genes and miRNAs that might drive WS disease pathogenesis. Genes altered in WS cells participate in cellular growth, proliferation and survival; in tRNA charging and in oncogenic signaling; and in connective tissue and developmental networks. Genes down-regulated in WS cells were highly enriched in Gquadruplex (G4) DNA motifs, indicating G4 motifs are physiologic substrates for WRN. In contrast, there was a remarkable, coordinate up-regulation of nearly all of the cytoplasmic tRNA synthetases and of genes associated with the senescence-associated secretory phenotype (SASP). These results identify canonical pathways that may drive the pathogenesis of Werner syndrome and associated disease risks.\"\\n!Series_overall_design\\t\"Primary fibroblasts from 6 patients and 8 matched normal controls, and in 9 primary diploid fibroblasts. The 9  primary diploid fibroblasts included 3 depleted of the WRN protein by WRN-specific shRNA, 3 controls, and 3 scrambled shRNA with no known target sequence in the human genome.\"\\n\\nSample characteristics dictionary (from \"!Sample_characteristics_ch1\", converted to a Python dictionary that stores the unique values for each field):\\n{0: [\\'cell line: GM00730\\', \\'cell line: GM01651\\', \\'cell line: GM01948\\', \\'cell line: GM02185\\', \\'cell line: GM02674\\', \\'cell line: GM03377\\', \\'cell line: GM03651\\', \\'cell line: GM04260\\', \\'cell line: GM07532\\', \\'tissue: primary fibroblast\\'], 1: [\\'cell type: primary fibroblast\\', \\'age: 60\\', \\'age: 13\\', \\'age: 37\\', \\'age: 30\\', \\'age: 36\\', \\'age: 25\\'], 2: [\\'blm mutation: Wildtype\\', \\'blm mutation: homozygous (1544insA of RECQL3 gene)\\', \\'blm mutation: homozygous (6-bp del/7-bp ins] at nucleotide 2,281 of RECQL3 gene)\\', \\'blm mutation: homozyguous (2293delC of RECQL3 gene)\\', \\'blm mutation: compound heterozygous (3261delT and 2281delT of RECQL3 gene\\', \\'blm mutation: compound heterozygous ([2015A>G] and [IVS5-2A>G] of RECQL3 gene)\\', \\'blm mutation: Q700X missen mutation in BLM protein\\', \\'gender: M\\', \\'gender: F\\'], 3: [\\'clinical features: Not clinically affected\\', \\'clinical features: Bloom syndrome\\', nan], 4: [\\'age: 45\\', \\'age: 13\\', \\'age: 27\\', \\'age: 36\\', \\'age: 29\\', \\'age: 19\\', \\'age: 25\\', \\'age: 60\\', \\'age: 16\\', nan], 5: [\\'gender: F\\', \\'gender: M\\', nan]}\\n'"
      ]
     },
     "execution_count": 27,
     "metadata": {},
     "output_type": "execute_result"
    }
   ],
   "source": [
    "\n",
    "f'''As a biomedical research team, we are selecting datasets to study the association between the human trait \\'{TRAIT}\\' and genetic factors, optionally considering the influence of age and gender. After searching the GEO database and parsing the matrix file of a series, we obtained background information and sample characteristics data. We will provide textual information about the dataset background, and a Python dictionary storing a list of unique values for each field of the sample characteristics data. Please carefully review the provided information and answer the following questions about this dataset:\n",
    "1. Does this dataset contain gene expression data? (Note: Pure miRNA data is not suitable.)\n",
    "2. For each of the traits \\'{TRAIT}\\', 'age', and 'gender', please address these points:\n",
    "   (1) Is there human data available for this trait?\n",
    "   (2) If so, identify the key in the sample characteristics dictionary where unique values of this trait is recorded. The key is an integer. The trait information might be explicitly recorded, or can be inferred from the field with some biomedical knowledge or understanding about the data collection process.\n",
    "   (3) Choose an appropriate data type (either 'continuous' or 'binary') for each trait. Write a Python function to convert any given value of the trait to this data type. The function should handle inference about the trait value and convert unknown values to None.\n",
    "   Name the functions 'convert_trait', 'convert_age', and 'convert_gender', respectively.\n",
    "\n",
    "Background information about the dataset:\n",
    "{background_info}\n",
    "\n",
    "Sample characteristics dictionary (from \"!Sample_characteristics_ch1\", converted to a Python dictionary that stores the unique values for each field):\n",
    "{clinical_data_unique}\n",
    "'''\n",
    "     "
   ]
  },
  {
   "cell_type": "code",
   "execution_count": 47,
   "metadata": {},
   "outputs": [],
   "source": [
    "is_gene_availabe = True\n",
    "trait_row = 3\n",
    "age_row =1\n",
    "gender_row = 2\n",
    "\n",
    "trait_type = 'binary'"
   ]
  },
  {
   "cell_type": "code",
   "execution_count": 48,
   "metadata": {},
   "outputs": [],
   "source": [
    "is_available = is_gene_availabe and (trait_row is not None)\n",
    "if not is_available:\n",
    "    save_cohort_info(cohort, JSON_PATH, is_available)\n",
    "    print(\"This cohort is not usable. Please skip the following steps and jump to the next accession number.\")"
   ]
  },
  {
   "cell_type": "code",
   "execution_count": 55,
   "metadata": {},
   "outputs": [],
   "source": [
    "# Verify and use the functions generated by GPT\n",
    "\n",
    "def convert_trait(value):\n",
    "    if isinstance(value, str):\n",
    "        if 'Werner syndrome' in value:\n",
    "            return True\n",
    "        elif 'Bloom syndrome' in value:\n",
    "            return True\n",
    "    return False\n",
    "\n",
    "\n",
    "\n",
    "\n",
    "def convert_age(value):\n",
    "    try:\n",
    "        age = int(value.split(': ')[1])  # Extracting the age value\n",
    "        return age\n",
    "    except (IndexError, ValueError):\n",
    "        return None\n",
    "\n",
    "\n",
    "def convert_gender(value):\n",
    "    if value == 'gender: M':\n",
    "        return 'Male'\n",
    "    elif value == 'gender: F':\n",
    "        return 'Female'\n",
    "    else:\n",
    "        return None  # Convert unknown values to None\n",
    "\n",
    "\n",
    "\n",
    "    \n",
    "     "
   ]
  },
  {
   "cell_type": "code",
   "execution_count": 56,
   "metadata": {},
   "outputs": [
    {
     "data": {
      "text/html": [
       "<div>\n",
       "<style scoped>\n",
       "    .dataframe tbody tr th:only-of-type {\n",
       "        vertical-align: middle;\n",
       "    }\n",
       "\n",
       "    .dataframe tbody tr th {\n",
       "        vertical-align: top;\n",
       "    }\n",
       "\n",
       "    .dataframe thead th {\n",
       "        text-align: right;\n",
       "    }\n",
       "</style>\n",
       "<table border=\"1\" class=\"dataframe\">\n",
       "  <thead>\n",
       "    <tr style=\"text-align: right;\">\n",
       "      <th></th>\n",
       "      <th>GSM1317006</th>\n",
       "      <th>GSM1317010</th>\n",
       "      <th>GSM1317011</th>\n",
       "      <th>GSM1317013</th>\n",
       "      <th>GSM1317016</th>\n",
       "      <th>GSM1317018</th>\n",
       "      <th>GSM1317021</th>\n",
       "      <th>GSM1317022</th>\n",
       "      <th>GSM1317024</th>\n",
       "      <th>GSM1535467</th>\n",
       "      <th>GSM1535468</th>\n",
       "      <th>GSM1535469</th>\n",
       "      <th>GSM1535470</th>\n",
       "      <th>GSM1535471</th>\n",
       "      <th>GSM1535472</th>\n",
       "    </tr>\n",
       "  </thead>\n",
       "  <tbody>\n",
       "    <tr>\n",
       "      <th>Werner-Syndrome</th>\n",
       "      <td>False</td>\n",
       "      <td>True</td>\n",
       "      <td>False</td>\n",
       "      <td>False</td>\n",
       "      <td>True</td>\n",
       "      <td>True</td>\n",
       "      <td>True</td>\n",
       "      <td>True</td>\n",
       "      <td>True</td>\n",
       "      <td>False</td>\n",
       "      <td>False</td>\n",
       "      <td>False</td>\n",
       "      <td>False</td>\n",
       "      <td>False</td>\n",
       "      <td>False</td>\n",
       "    </tr>\n",
       "    <tr>\n",
       "      <th>Age</th>\n",
       "      <td>None</td>\n",
       "      <td>None</td>\n",
       "      <td>None</td>\n",
       "      <td>None</td>\n",
       "      <td>None</td>\n",
       "      <td>None</td>\n",
       "      <td>None</td>\n",
       "      <td>None</td>\n",
       "      <td>None</td>\n",
       "      <td>60</td>\n",
       "      <td>13</td>\n",
       "      <td>37</td>\n",
       "      <td>30</td>\n",
       "      <td>36</td>\n",
       "      <td>25</td>\n",
       "    </tr>\n",
       "    <tr>\n",
       "      <th>Gender</th>\n",
       "      <td>None</td>\n",
       "      <td>None</td>\n",
       "      <td>None</td>\n",
       "      <td>None</td>\n",
       "      <td>None</td>\n",
       "      <td>None</td>\n",
       "      <td>None</td>\n",
       "      <td>None</td>\n",
       "      <td>None</td>\n",
       "      <td>Male</td>\n",
       "      <td>Female</td>\n",
       "      <td>Male</td>\n",
       "      <td>Female</td>\n",
       "      <td>Male</td>\n",
       "      <td>Male</td>\n",
       "    </tr>\n",
       "  </tbody>\n",
       "</table>\n",
       "</div>"
      ],
      "text/plain": [
       "                GSM1317006 GSM1317010 GSM1317011 GSM1317013 GSM1317016  \\\n",
       "Werner-Syndrome      False       True      False      False       True   \n",
       "Age                   None       None       None       None       None   \n",
       "Gender                None       None       None       None       None   \n",
       "\n",
       "                GSM1317018 GSM1317021 GSM1317022 GSM1317024 GSM1535467  \\\n",
       "Werner-Syndrome       True       True       True       True      False   \n",
       "Age                   None       None       None       None         60   \n",
       "Gender                None       None       None       None       Male   \n",
       "\n",
       "                GSM1535468 GSM1535469 GSM1535470 GSM1535471 GSM1535472  \n",
       "Werner-Syndrome      False      False      False      False      False  \n",
       "Age                     13         37         30         36         25  \n",
       "Gender              Female       Male     Female       Male       Male  "
      ]
     },
     "execution_count": 56,
     "metadata": {},
     "output_type": "execute_result"
    }
   ],
   "source": [
    "selected_clinical_data = geo_select_clinical_features(clinical_data, TRAIT, trait_row, convert_trait, age_row=age_row,\n",
    "                                                      convert_age=convert_age, gender_row=gender_row,\n",
    "                                                      convert_gender=convert_gender)\n",
    "selected_clinical_data.head()"
   ]
  },
  {
   "cell_type": "code",
   "execution_count": 57,
   "metadata": {},
   "outputs": [
    {
     "data": {
      "text/html": [
       "<div>\n",
       "<style scoped>\n",
       "    .dataframe tbody tr th:only-of-type {\n",
       "        vertical-align: middle;\n",
       "    }\n",
       "\n",
       "    .dataframe tbody tr th {\n",
       "        vertical-align: top;\n",
       "    }\n",
       "\n",
       "    .dataframe thead th {\n",
       "        text-align: right;\n",
       "    }\n",
       "</style>\n",
       "<table border=\"1\" class=\"dataframe\">\n",
       "  <thead>\n",
       "    <tr style=\"text-align: right;\">\n",
       "      <th></th>\n",
       "      <th>GSM1317006</th>\n",
       "      <th>GSM1317010</th>\n",
       "      <th>GSM1317011</th>\n",
       "      <th>GSM1317013</th>\n",
       "      <th>GSM1317016</th>\n",
       "      <th>GSM1317018</th>\n",
       "      <th>GSM1317021</th>\n",
       "      <th>GSM1317022</th>\n",
       "      <th>GSM1317024</th>\n",
       "      <th>GSM1535467</th>\n",
       "      <th>GSM1535468</th>\n",
       "      <th>GSM1535469</th>\n",
       "      <th>GSM1535470</th>\n",
       "      <th>GSM1535471</th>\n",
       "      <th>GSM1535472</th>\n",
       "    </tr>\n",
       "    <tr>\n",
       "      <th>ID</th>\n",
       "      <th></th>\n",
       "      <th></th>\n",
       "      <th></th>\n",
       "      <th></th>\n",
       "      <th></th>\n",
       "      <th></th>\n",
       "      <th></th>\n",
       "      <th></th>\n",
       "      <th></th>\n",
       "      <th></th>\n",
       "      <th></th>\n",
       "      <th></th>\n",
       "      <th></th>\n",
       "      <th></th>\n",
       "      <th></th>\n",
       "    </tr>\n",
       "  </thead>\n",
       "  <tbody>\n",
       "    <tr>\n",
       "      <th>1</th>\n",
       "      <td>25518</td>\n",
       "      <td>31913</td>\n",
       "      <td>19889</td>\n",
       "      <td>43757</td>\n",
       "      <td>17311</td>\n",
       "      <td>28011</td>\n",
       "      <td>26908</td>\n",
       "      <td>29231</td>\n",
       "      <td>19883</td>\n",
       "      <td>10938</td>\n",
       "      <td>35604</td>\n",
       "      <td>40101</td>\n",
       "      <td>36023</td>\n",
       "      <td>27038</td>\n",
       "      <td>24668</td>\n",
       "    </tr>\n",
       "    <tr>\n",
       "      <th>2</th>\n",
       "      <td>25467</td>\n",
       "      <td>29581</td>\n",
       "      <td>20771</td>\n",
       "      <td>42873</td>\n",
       "      <td>19908</td>\n",
       "      <td>26325</td>\n",
       "      <td>25309</td>\n",
       "      <td>26724</td>\n",
       "      <td>21199</td>\n",
       "      <td>10949</td>\n",
       "      <td>37349</td>\n",
       "      <td>43451</td>\n",
       "      <td>34213</td>\n",
       "      <td>27103</td>\n",
       "      <td>25537</td>\n",
       "    </tr>\n",
       "    <tr>\n",
       "      <th>3</th>\n",
       "      <td>26</td>\n",
       "      <td>215</td>\n",
       "      <td>334</td>\n",
       "      <td>195</td>\n",
       "      <td>86</td>\n",
       "      <td>74</td>\n",
       "      <td>123</td>\n",
       "      <td>65</td>\n",
       "      <td>141</td>\n",
       "      <td>73</td>\n",
       "      <td>392</td>\n",
       "      <td>314</td>\n",
       "      <td>303</td>\n",
       "      <td>255</td>\n",
       "      <td>271</td>\n",
       "    </tr>\n",
       "    <tr>\n",
       "      <th>4</th>\n",
       "      <td>94</td>\n",
       "      <td>239</td>\n",
       "      <td>318</td>\n",
       "      <td>175</td>\n",
       "      <td>79</td>\n",
       "      <td>72</td>\n",
       "      <td>138</td>\n",
       "      <td>132</td>\n",
       "      <td>157</td>\n",
       "      <td>144</td>\n",
       "      <td>245</td>\n",
       "      <td>287</td>\n",
       "      <td>326</td>\n",
       "      <td>124</td>\n",
       "      <td>177</td>\n",
       "    </tr>\n",
       "    <tr>\n",
       "      <th>5</th>\n",
       "      <td>389</td>\n",
       "      <td>128</td>\n",
       "      <td>273</td>\n",
       "      <td>243</td>\n",
       "      <td>215</td>\n",
       "      <td>363</td>\n",
       "      <td>319</td>\n",
       "      <td>106</td>\n",
       "      <td>117</td>\n",
       "      <td>93</td>\n",
       "      <td>312</td>\n",
       "      <td>495</td>\n",
       "      <td>303</td>\n",
       "      <td>191</td>\n",
       "      <td>161</td>\n",
       "    </tr>\n",
       "  </tbody>\n",
       "</table>\n",
       "</div>"
      ],
      "text/plain": [
       "    GSM1317006  GSM1317010  GSM1317011  GSM1317013  GSM1317016  GSM1317018  \\\n",
       "ID                                                                           \n",
       "1        25518       31913       19889       43757       17311       28011   \n",
       "2        25467       29581       20771       42873       19908       26325   \n",
       "3           26         215         334         195          86          74   \n",
       "4           94         239         318         175          79          72   \n",
       "5          389         128         273         243         215         363   \n",
       "\n",
       "    GSM1317021  GSM1317022  GSM1317024  GSM1535467  GSM1535468  GSM1535469  \\\n",
       "ID                                                                           \n",
       "1        26908       29231       19883       10938       35604       40101   \n",
       "2        25309       26724       21199       10949       37349       43451   \n",
       "3          123          65         141          73         392         314   \n",
       "4          138         132         157         144         245         287   \n",
       "5          319         106         117          93         312         495   \n",
       "\n",
       "    GSM1535470  GSM1535471  GSM1535472  \n",
       "ID                                      \n",
       "1        36023       27038       24668  \n",
       "2        34213       27103       25537  \n",
       "3          303         255         271  \n",
       "4          326         124         177  \n",
       "5          303         191         161  "
      ]
     },
     "execution_count": 57,
     "metadata": {},
     "output_type": "execute_result"
    }
   ],
   "source": [
    "genetic_data = get_genetic_data(matrix_file)\n",
    "genetic_data.head()"
   ]
  },
  {
   "cell_type": "code",
   "execution_count": 58,
   "metadata": {},
   "outputs": [
    {
     "data": {
      "text/plain": [
       "['1',\n",
       " '2',\n",
       " '3',\n",
       " '4',\n",
       " '5',\n",
       " '6',\n",
       " '7',\n",
       " '8',\n",
       " '9',\n",
       " '10',\n",
       " '11',\n",
       " '12',\n",
       " '13',\n",
       " '14',\n",
       " '15',\n",
       " '16',\n",
       " '17',\n",
       " '18',\n",
       " '19',\n",
       " '20']"
      ]
     },
     "execution_count": 58,
     "metadata": {},
     "output_type": "execute_result"
    }
   ],
   "source": [
    "gene_row_ids = genetic_data.index[:20].tolist()\n",
    "gene_row_ids"
   ]
  },
  {
   "cell_type": "code",
   "execution_count": 59,
   "metadata": {},
   "outputs": [
    {
     "data": {
      "text/plain": [
       "\"\\nBelow are the row headers of a gene expression dataset in GEO. Based on your biomedical knowledge, are they human gene symbols, or are they some other identifiers that need to be mapped to gene symbols? Your answer should be concluded by starting a new line and strictly following this format:\\nrequires_gene_mapping = (True or False)\\n\\nRow headers:\\n['1', '2', '3', '4', '5', '6', '7', '8', '9', '10', '11', '12', '13', '14', '15', '16', '17', '18', '19', '20']\\n\""
      ]
     },
     "execution_count": 59,
     "metadata": {},
     "output_type": "execute_result"
    }
   ],
   "source": [
    "\n",
    "f'''\n",
    "Below are the row headers of a gene expression dataset in GEO. Based on your biomedical knowledge, are they human gene symbols, or are they some other identifiers that need to be mapped to gene symbols? Your answer should be concluded by starting a new line and strictly following this format:\n",
    "requires_gene_mapping = (True or False)\n",
    "\n",
    "Row headers:\n",
    "{gene_row_ids}\n",
    "'''"
   ]
  },
  {
   "cell_type": "code",
   "execution_count": 60,
   "metadata": {},
   "outputs": [],
   "source": [
    "requires_gene_mapping = False"
   ]
  },
  {
   "cell_type": "code",
   "execution_count": 61,
   "metadata": {},
   "outputs": [],
   "source": [
    "if requires_gene_mapping:\n",
    "    gene_annotation = get_gene_annotation(soft_file)\n",
    "    gene_annotation_summary = preview_df(gene_annotation)\n",
    "    print(gene_annotation_summary)"
   ]
  },
  {
   "cell_type": "code",
   "execution_count": 62,
   "metadata": {},
   "outputs": [],
   "source": [
    "if requires_gene_mapping:\n",
    "    print(f'''\n",
    "    As a biomedical research team, we are analyzing a gene expression dataset, and find that its row headers are some identifiers related to genes:\n",
    "    {gene_row_ids}\n",
    "    To get the mapping from those identifiers to actual gene symbols, we extracted the gene annotation data from a series in the GEO database, and saved it to a Python dictionary. Please read the dictionary, and decide which key stores the identifiers, and which key stores the gene symbols. Please strictly follow this format in your answer:\n",
    "    identifier_key = 'key_name1'\n",
    "    gene_symbol_key = 'key_name2'\n",
    "\n",
    "    Gene annotation dictionary:\n",
    "    {gene_annotation_summary}\n",
    "    ''')"
   ]
  },
  {
   "cell_type": "code",
   "execution_count": 20,
   "metadata": {},
   "outputs": [],
   "source": [
    "if requires_gene_mapping:\n",
    "    identifier_key = 'ID'\n",
    "    gene_symbol_key = 'UCSC_RefGene_Name'\n",
    "    gene_mapping = get_gene_mapping(gene_annotation, identifier_key, gene_symbol_key)\n",
    "    genetic_data = apply_gene_mapping(genetic_data, gene_mapping)"
   ]
  },
  {
   "cell_type": "code",
   "execution_count": 63,
   "metadata": {},
   "outputs": [],
   "source": [
    "if NORMALIZE_GENE:\n",
    "    genetic_data = normalize_gene_symbols_in_index(genetic_data)"
   ]
  },
  {
   "cell_type": "code",
   "execution_count": 64,
   "metadata": {},
   "outputs": [],
   "source": [
    "merged_data = geo_merge_clinical_genetic_data(selected_clinical_data, genetic_data)\n",
    "# The preprocessing runs through, which means is_available should be True\n",
    "is_available = True"
   ]
  },
  {
   "cell_type": "code",
   "execution_count": 65,
   "metadata": {},
   "outputs": [
    {
     "name": "stdout",
     "output_type": "stream",
     "text": [
      "The merged dataset contains 6 samples.\n"
     ]
    }
   ],
   "source": [
    "print(f\"The merged dataset contains {len(merged_data)} samples.\")"
   ]
  },
  {
   "cell_type": "code",
   "execution_count": 66,
   "metadata": {},
   "outputs": [
    {
     "name": "stdout",
     "output_type": "stream",
     "text": [
      "For the feature 'Werner-Syndrome', the least common label is 'False' with 6 occurrences. This represents 100.00% of the dataset.\n",
      "The distribution of the feature 'Werner-Syndrome' in this dataset is severely biased.\n",
      "\n",
      "Quartiles for 'Age':\n",
      "  25%: 26.25\n",
      "  50% (Median): 33.0\n",
      "  75%: 36.75\n",
      "Min: 13\n",
      "Max: 60\n",
      "The distribution of the feature 'Age' in this dataset is fine.\n",
      "\n",
      "For the feature 'Gender', the least common label is 'Female' with 2 occurrences. This represents 33.33% of the dataset.\n",
      "The distribution of the feature 'Gender' in this dataset is fine.\n",
      "\n"
     ]
    },
    {
     "data": {
      "text/plain": [
       "True"
      ]
     },
     "execution_count": 66,
     "metadata": {},
     "output_type": "execute_result"
    }
   ],
   "source": [
    "is_trait_biased, merged_data = judge_and_remove_biased_features(merged_data, TRAIT, trait_type=trait_type)\n",
    "is_trait_biased"
   ]
  },
  {
   "cell_type": "code",
   "execution_count": 67,
   "metadata": {},
   "outputs": [],
   "source": [
    "if is_available:\n",
    "    save_cohort_info(cohort, JSON_PATH, is_available, is_trait_biased, merged_data, note='')\n",
    "else:\n",
    "    save_cohort_info(cohort, JSON_PATH, is_available)"
   ]
  },
  {
   "cell_type": "code",
   "execution_count": 68,
   "metadata": {},
   "outputs": [],
   "source": [
    "merged_data.head()\n",
    "if not is_trait_biased:\n",
    "    merged_data.to_csv(os.path.join(OUTPUT_DIR, cohort + '.csv'), index=False)"
   ]
  }
 ],
 "metadata": {
  "kernelspec": {
   "display_name": "Python 3",
   "language": "python",
   "name": "python3"
  },
  "language_info": {
   "codemirror_mode": {
    "name": "ipython",
    "version": 3
   },
   "file_extension": ".py",
   "mimetype": "text/x-python",
   "name": "python",
   "nbconvert_exporter": "python",
   "pygments_lexer": "ipython3",
   "version": "3.11.9"
  }
 },
 "nbformat": 4,
 "nbformat_minor": 2
}
