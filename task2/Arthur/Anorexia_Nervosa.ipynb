{
 "cells": [
  {
   "cell_type": "markdown",
   "metadata": {
    "collapsed": false
   },
   "source": [
    "# Gold standard curation: Preprocessing and single-step regression"
   ]
  },
  {
   "cell_type": "markdown",
   "metadata": {
    "collapsed": false
   },
   "source": [
    "In this stage of gold standard curation, we will do the data preprocessing, selection, and single-step regression for the 153 traits in our question set. This file shows the reference steps using the trait \"Breast Cancer\" as an example. The workflow consists of the following steps:\n",
    "\n",
    "1. Preprocess all the cohorts related to this trait. Each cohort should be converted to a tabular form and saved to a csv file, with columns being genetic factors, the trait, and age, gender if available;\n",
    "2. If there exists at least one cohort with age or gender information, conduct regression analysis with genetic features together with age or gender as the regressors.\n"
   ]
  },
  {
   "cell_type": "markdown",
   "metadata": {
    "collapsed": false
   },
   "source": [
    "# 1. Basic setup"
   ]
  },
  {
   "cell_type": "code",
   "execution_count": 16,
   "metadata": {
    "ExecuteTime": {
     "end_time": "2024-01-10T21:37:25.927828954Z",
     "start_time": "2024-01-10T21:37:25.311064788Z"
    },
    "collapsed": false
   },
   "outputs": [],
   "source": [
    "import os\n",
    "import sys\n",
    "\n",
    "sys.path.append('..')\n",
    "from utils import *\n",
    "\n",
    "# Set your preferred name\n",
    "USER = \"Arthur\"\n",
    "# Set the data and output directories\n",
    "DATA_ROOT = 'C:/Users/arthu/Downloads'\n",
    "OUTPUT_ROOT = 'C:/Users/arthu/OneDrive/Documents/GitHub/output2'\n",
    "TRAIT = \"Anorexia-Nervosa\"\n",
    "\n",
    "OUTPUT_DIR = os.path.join(OUTPUT_ROOT, USER, '-'.join(TRAIT.split()))\n",
    "JSON_PATH = os.path.join(OUTPUT_DIR, \"cohort_info.json\")\n",
    "if not os.path.exists(OUTPUT_DIR):\n",
    "    os.makedirs(OUTPUT_DIR, exist_ok=True)\n",
    "\n",
    "# Gene symbol normalization may take 1-2 minutes. You may set it to False for debugging.\n",
    "NORMALIZE_GENE = True"
   ]
  },
  {
   "cell_type": "markdown",
   "metadata": {
    "collapsed": false
   },
   "source": [
    "# 2. Data preprocessing and selection"
   ]
  },
  {
   "cell_type": "markdown",
   "metadata": {
    "ExecuteTime": {
     "end_time": "2023-12-28T21:28:38.028916303Z",
     "start_time": "2023-12-28T21:28:38.016245426Z"
    },
    "collapsed": false
   },
   "source": [
    "## 2.2. The GEO dataset"
   ]
  },
  {
   "cell_type": "markdown",
   "metadata": {
    "ExecuteTime": {
     "end_time": "2023-12-31T03:25:23.253882615Z",
     "start_time": "2023-12-31T03:25:23.244062710Z"
    },
    "collapsed": false
   },
   "source": [
    "In GEO, there may be one or multiple cohorts for a trait. Each cohort is identified by an accession number. We iterate over all accession numbers in the corresponding subdirectory, preprocess the cohort data, and save them to csv files."
   ]
  },
  {
   "cell_type": "code",
   "execution_count": 13,
   "metadata": {
    "ExecuteTime": {
     "end_time": "2024-01-10T21:38:31.425592571Z",
     "start_time": "2024-01-10T21:38:31.419137625Z"
    },
    "collapsed": false
   },
   "outputs": [
    {
     "data": {
      "text/plain": [
       "['GSE60190']"
      ]
     },
     "execution_count": 13,
     "metadata": {},
     "output_type": "execute_result"
    }
   ],
   "source": [
    "dataset = 'GEO'\n",
    "trait_subdir = \"Anorexia-Nervosa\"\n",
    "\n",
    "trait_path = os.path.join(DATA_ROOT, dataset, trait_subdir)\n",
    "os.listdir(trait_path)"
   ]
  },
  {
   "cell_type": "code",
   "execution_count": 18,
   "metadata": {
    "ExecuteTime": {
     "end_time": "2024-01-10T21:39:02.935079426Z",
     "start_time": "2024-01-10T21:39:02.923698385Z"
    },
    "collapsed": false
   },
   "outputs": [
    {
     "data": {
      "text/plain": [
       "('C:/Users/arthu/Downloads\\\\GEO\\\\Anorexia-Nervosa\\\\GSE60190\\\\GSE60190_family.soft.gz',\n",
       " 'C:/Users/arthu/Downloads\\\\GEO\\\\Anorexia-Nervosa\\\\GSE60190\\\\GSE60190_series_matrix.txt.gz')"
      ]
     },
     "execution_count": 18,
     "metadata": {},
     "output_type": "execute_result"
    }
   ],
   "source": [
    "cohort = accession_num = \"GSE60190\"\n",
    "cohort_dir = os.path.join(trait_path, accession_num)\n",
    "soft_file, matrix_file = geo_get_relevant_filepaths(cohort_dir)\n",
    "soft_file, matrix_file"
   ]
  },
  {
   "cell_type": "markdown",
   "metadata": {
    "collapsed": false
   },
   "source": [
    "### Initial filtering and clinical data preprocessing"
   ]
  },
  {
   "cell_type": "code",
   "execution_count": 19,
   "metadata": {
    "ExecuteTime": {
     "end_time": "2024-01-10T21:39:03.718770427Z",
     "start_time": "2024-01-10T21:39:03.677006442Z"
    },
    "collapsed": false
   },
   "outputs": [
    {
     "name": "stdout",
     "output_type": "stream",
     "text": [
      "!Series_title\t\"Genetic Neuropathology of Obsessive Psychiatric Syndromes\"\n",
      "!Series_summary\t\"Anorexia nervosa (AN), bulimia nervosa (BN), and obsessive-compulsive disorder (OCD) are complex psychiatric disorders with shared obsessive features, thought to arise from the interaction of multiple genes of small effect with environmental factors.  Potential candidate genes for AN, BN, and OCD have been identified through clinical association and neuroimaging studies; however, recent genome-wide association studies of eating disorders (ED) so far have failed to report significant findings. Additionally, few if any studies have interrogated postmortem brain tissue for evidence of eQTLs associated with candidate genes, which has particular promise as an approach to elucidating molecular mechanisms of association. We therefore selected single nucleotide polymorphisms (SNPs) based on candidate gene studies for AN, BN, and OCD from the literature, and examined the association of these SNPs with gene expression across the lifespan in prefrontal cortex of a non-psychiatric control cohort (N=268).   Several risk-predisposing SNPs were significantly associated with gene expression among control subjects. We then measured gene expression in the prefrontal cortex of cases previously diagnosed with obsessive psychiatric disorders, e.g., eating disorders (ED; N=15), and obsessive-compulsive disorder/obsessive-compulsive personality disorder or tics (OCD/OCPD/Tic; N=16), and non-psychiatric controls (N=102) and identified 6 and 286 genes that were differentially expressed between ED compared to controls and OCD cases compared to controls, respectively (FDR < 5%). However, none of the clinical risk SNPs were among the eQTLs and none were significantly associated with gene expression within the broad obsessive cohort, suggesting larger sample sizes or other brain regions may be required to identify candidate molecular mechanisms of clinical association in postmortem brain datasets.\"\n",
      "!Series_overall_design\t\"Gene expression data from the dorsolateral prefrontal cortex (DLPFC) from postmortem tissue on 133 subjects - 15 eating disorder (ED) patients, 16 obessive compulsive disorder (OCD) patients, and 102 non-psychiatric controls - run on the Illumina HumanHT-12 v3 microarray\"\n"
     ]
    }
   ],
   "source": [
    "background_prefixes = ['!Series_title', '!Series_summary', '!Series_overall_design']\n",
    "clinical_prefixes = ['!Sample_geo_accession', '!Sample_characteristics_ch1']\n",
    "\n",
    "background_info, clinical_data = get_background_and_clinical_data(matrix_file, background_prefixes, clinical_prefixes)\n",
    "print(background_info)"
   ]
  },
  {
   "cell_type": "code",
   "execution_count": 30,
   "metadata": {
    "ExecuteTime": {
     "end_time": "2024-01-10T21:39:04.022548957Z",
     "start_time": "2024-01-10T21:39:04.008519515Z"
    },
    "collapsed": false
   },
   "outputs": [
    {
     "data": {
      "text/html": [
       "<div>\n",
       "<style scoped>\n",
       "    .dataframe tbody tr th:only-of-type {\n",
       "        vertical-align: middle;\n",
       "    }\n",
       "\n",
       "    .dataframe tbody tr th {\n",
       "        vertical-align: top;\n",
       "    }\n",
       "\n",
       "    .dataframe thead th {\n",
       "        text-align: right;\n",
       "    }\n",
       "</style>\n",
       "<table border=\"1\" class=\"dataframe\">\n",
       "  <thead>\n",
       "    <tr style=\"text-align: right;\">\n",
       "      <th></th>\n",
       "      <th>!Sample_geo_accession</th>\n",
       "      <th>GSM1467273</th>\n",
       "      <th>GSM1467274</th>\n",
       "      <th>GSM1467275</th>\n",
       "      <th>GSM1467276</th>\n",
       "      <th>GSM1467277</th>\n",
       "      <th>GSM1467278</th>\n",
       "      <th>GSM1467279</th>\n",
       "      <th>GSM1467280</th>\n",
       "      <th>GSM1467281</th>\n",
       "      <th>...</th>\n",
       "      <th>GSM1467396</th>\n",
       "      <th>GSM1467397</th>\n",
       "      <th>GSM1467398</th>\n",
       "      <th>GSM1467399</th>\n",
       "      <th>GSM1467400</th>\n",
       "      <th>GSM1467401</th>\n",
       "      <th>GSM1467402</th>\n",
       "      <th>GSM1467403</th>\n",
       "      <th>GSM1467404</th>\n",
       "      <th>GSM1467405</th>\n",
       "    </tr>\n",
       "  </thead>\n",
       "  <tbody>\n",
       "    <tr>\n",
       "      <th>0</th>\n",
       "      <td>!Sample_characteristics_ch1</td>\n",
       "      <td>rin: 7.4</td>\n",
       "      <td>rin: 8.6</td>\n",
       "      <td>rin: 7.8</td>\n",
       "      <td>rin: 8.2</td>\n",
       "      <td>rin: 8.5</td>\n",
       "      <td>rin: 8.3</td>\n",
       "      <td>rin: 8.1</td>\n",
       "      <td>rin: 8.8</td>\n",
       "      <td>rin: 8.7</td>\n",
       "      <td>...</td>\n",
       "      <td>rin: 8.4</td>\n",
       "      <td>rin: 8</td>\n",
       "      <td>rin: 8.3</td>\n",
       "      <td>rin: 7.5</td>\n",
       "      <td>rin: 8.1</td>\n",
       "      <td>rin: 8.5</td>\n",
       "      <td>rin: 6.6</td>\n",
       "      <td>rin: 7.1</td>\n",
       "      <td>rin: 9</td>\n",
       "      <td>rin: 8.3</td>\n",
       "    </tr>\n",
       "    <tr>\n",
       "      <th>1</th>\n",
       "      <td>!Sample_characteristics_ch1</td>\n",
       "      <td>ocd: ED</td>\n",
       "      <td>ocd: Control</td>\n",
       "      <td>ocd: OCD</td>\n",
       "      <td>ocd: Control</td>\n",
       "      <td>ocd: Control</td>\n",
       "      <td>ocd: ED</td>\n",
       "      <td>ocd: Control</td>\n",
       "      <td>ocd: Control</td>\n",
       "      <td>ocd: Control</td>\n",
       "      <td>...</td>\n",
       "      <td>ocd: ED</td>\n",
       "      <td>ocd: Control</td>\n",
       "      <td>ocd: Control</td>\n",
       "      <td>ocd: Control</td>\n",
       "      <td>ocd: Control</td>\n",
       "      <td>ocd: Control</td>\n",
       "      <td>ocd: ED</td>\n",
       "      <td>ocd: Control</td>\n",
       "      <td>ocd: Control</td>\n",
       "      <td>ocd: Control</td>\n",
       "    </tr>\n",
       "    <tr>\n",
       "      <th>2</th>\n",
       "      <td>!Sample_characteristics_ch1</td>\n",
       "      <td>rinmatched: 1</td>\n",
       "      <td>rinmatched: 0</td>\n",
       "      <td>rinmatched: 1</td>\n",
       "      <td>rinmatched: 0</td>\n",
       "      <td>rinmatched: 0</td>\n",
       "      <td>rinmatched: 1</td>\n",
       "      <td>rinmatched: 0</td>\n",
       "      <td>rinmatched: 0</td>\n",
       "      <td>rinmatched: 0</td>\n",
       "      <td>...</td>\n",
       "      <td>rinmatched: 1</td>\n",
       "      <td>rinmatched: 1</td>\n",
       "      <td>rinmatched: 0</td>\n",
       "      <td>rinmatched: 1</td>\n",
       "      <td>rinmatched: 1</td>\n",
       "      <td>rinmatched: 0</td>\n",
       "      <td>rinmatched: 1</td>\n",
       "      <td>rinmatched: 1</td>\n",
       "      <td>rinmatched: 0</td>\n",
       "      <td>rinmatched: 0</td>\n",
       "    </tr>\n",
       "    <tr>\n",
       "      <th>3</th>\n",
       "      <td>!Sample_characteristics_ch1</td>\n",
       "      <td>dx: Bipolar</td>\n",
       "      <td>dx: Control</td>\n",
       "      <td>dx: Bipolar</td>\n",
       "      <td>dx: Control</td>\n",
       "      <td>dx: Control</td>\n",
       "      <td>dx: Bipolar</td>\n",
       "      <td>dx: Control</td>\n",
       "      <td>dx: Control</td>\n",
       "      <td>dx: Control</td>\n",
       "      <td>...</td>\n",
       "      <td>dx: ED</td>\n",
       "      <td>dx: Control</td>\n",
       "      <td>dx: Control</td>\n",
       "      <td>dx: Control</td>\n",
       "      <td>dx: Control</td>\n",
       "      <td>dx: Control</td>\n",
       "      <td>dx: MDD</td>\n",
       "      <td>dx: Control</td>\n",
       "      <td>dx: Control</td>\n",
       "      <td>dx: Control</td>\n",
       "    </tr>\n",
       "    <tr>\n",
       "      <th>4</th>\n",
       "      <td>!Sample_characteristics_ch1</td>\n",
       "      <td>ph: 6.18</td>\n",
       "      <td>ph: 6.59</td>\n",
       "      <td>ph: 6.37</td>\n",
       "      <td>ph: 6.6</td>\n",
       "      <td>ph: 6.38</td>\n",
       "      <td>ph: 6.02</td>\n",
       "      <td>ph: 6.87</td>\n",
       "      <td>ph: 6.95</td>\n",
       "      <td>ph: 6.82</td>\n",
       "      <td>...</td>\n",
       "      <td>ph: 6.34</td>\n",
       "      <td>ph: 6.5</td>\n",
       "      <td>ph: 6.51</td>\n",
       "      <td>ph: 6.59</td>\n",
       "      <td>ph: 6.65</td>\n",
       "      <td>ph: 6.71</td>\n",
       "      <td>ph: 6.2</td>\n",
       "      <td>ph: 6.2</td>\n",
       "      <td>ph: 6.83</td>\n",
       "      <td>ph: 6.92</td>\n",
       "    </tr>\n",
       "    <tr>\n",
       "      <th>5</th>\n",
       "      <td>!Sample_characteristics_ch1</td>\n",
       "      <td>age: 50.421917</td>\n",
       "      <td>age: 27.49863</td>\n",
       "      <td>age: 30.627397</td>\n",
       "      <td>age: 61.167123</td>\n",
       "      <td>age: 32.69589</td>\n",
       "      <td>age: 39.213698</td>\n",
       "      <td>age: 58.605479</td>\n",
       "      <td>age: 49.2</td>\n",
       "      <td>age: 41.041095</td>\n",
       "      <td>...</td>\n",
       "      <td>age: 30.726027</td>\n",
       "      <td>age: 63.471232</td>\n",
       "      <td>age: 54.808219</td>\n",
       "      <td>age: 57.512328</td>\n",
       "      <td>age: 57.610958</td>\n",
       "      <td>age: 44.958904</td>\n",
       "      <td>age: 35.684931</td>\n",
       "      <td>age: 63</td>\n",
       "      <td>age: 38.780821</td>\n",
       "      <td>age: 45.978082</td>\n",
       "    </tr>\n",
       "    <tr>\n",
       "      <th>6</th>\n",
       "      <td>!Sample_characteristics_ch1</td>\n",
       "      <td>pmi: 27</td>\n",
       "      <td>pmi: 19.5</td>\n",
       "      <td>pmi: 71.5</td>\n",
       "      <td>pmi: 19.5</td>\n",
       "      <td>pmi: 22.5</td>\n",
       "      <td>pmi: 22.5</td>\n",
       "      <td>pmi: 64</td>\n",
       "      <td>pmi: 28</td>\n",
       "      <td>pmi: 18</td>\n",
       "      <td>...</td>\n",
       "      <td>pmi: 19</td>\n",
       "      <td>pmi: 37</td>\n",
       "      <td>pmi: 21</td>\n",
       "      <td>pmi: 24</td>\n",
       "      <td>pmi: 17</td>\n",
       "      <td>pmi: 20</td>\n",
       "      <td>pmi: 33</td>\n",
       "      <td>pmi: 45.5</td>\n",
       "      <td>pmi: 29</td>\n",
       "      <td>pmi: 34</td>\n",
       "    </tr>\n",
       "    <tr>\n",
       "      <th>7</th>\n",
       "      <td>!Sample_characteristics_ch1</td>\n",
       "      <td>Sex: F</td>\n",
       "      <td>Sex: M</td>\n",
       "      <td>Sex: M</td>\n",
       "      <td>Sex: M</td>\n",
       "      <td>Sex: M</td>\n",
       "      <td>Sex: F</td>\n",
       "      <td>Sex: M</td>\n",
       "      <td>Sex: M</td>\n",
       "      <td>Sex: M</td>\n",
       "      <td>...</td>\n",
       "      <td>Sex: F</td>\n",
       "      <td>Sex: M</td>\n",
       "      <td>Sex: M</td>\n",
       "      <td>Sex: M</td>\n",
       "      <td>Sex: M</td>\n",
       "      <td>Sex: M</td>\n",
       "      <td>Sex: F</td>\n",
       "      <td>Sex: M</td>\n",
       "      <td>Sex: M</td>\n",
       "      <td>Sex: M</td>\n",
       "    </tr>\n",
       "    <tr>\n",
       "      <th>8</th>\n",
       "      <td>!Sample_characteristics_ch1</td>\n",
       "      <td>race: CAUC</td>\n",
       "      <td>race: CAUC</td>\n",
       "      <td>race: CAUC</td>\n",
       "      <td>race: CAUC</td>\n",
       "      <td>race: CAUC</td>\n",
       "      <td>race: CAUC</td>\n",
       "      <td>race: CAUC</td>\n",
       "      <td>race: CAUC</td>\n",
       "      <td>race: CAUC</td>\n",
       "      <td>...</td>\n",
       "      <td>race: CAUC</td>\n",
       "      <td>race: CAUC</td>\n",
       "      <td>race: CAUC</td>\n",
       "      <td>race: CAUC</td>\n",
       "      <td>race: CAUC</td>\n",
       "      <td>race: CAUC</td>\n",
       "      <td>race: CAUC</td>\n",
       "      <td>race: CAUC</td>\n",
       "      <td>race: CAUC</td>\n",
       "      <td>race: CAUC</td>\n",
       "    </tr>\n",
       "    <tr>\n",
       "      <th>9</th>\n",
       "      <td>!Sample_characteristics_ch1</td>\n",
       "      <td>batch1: 16</td>\n",
       "      <td>batch1: 18</td>\n",
       "      <td>batch1: 18</td>\n",
       "      <td>batch1: 18</td>\n",
       "      <td>batch1: 19</td>\n",
       "      <td>batch1: 19</td>\n",
       "      <td>batch1: 20</td>\n",
       "      <td>batch1: 21</td>\n",
       "      <td>batch1: 21</td>\n",
       "      <td>...</td>\n",
       "      <td>batch1: 96</td>\n",
       "      <td>batch1: 96</td>\n",
       "      <td>batch1: 97</td>\n",
       "      <td>batch1: 98</td>\n",
       "      <td>batch1: 99</td>\n",
       "      <td>batch1: 99</td>\n",
       "      <td>batch1: 100</td>\n",
       "      <td>batch1: 102</td>\n",
       "      <td>batch1: 102</td>\n",
       "      <td>batch1: 102</td>\n",
       "    </tr>\n",
       "  </tbody>\n",
       "</table>\n",
       "<p>10 rows × 134 columns</p>\n",
       "</div>"
      ],
      "text/plain": [
       "         !Sample_geo_accession      GSM1467273     GSM1467274      GSM1467275  \\\n",
       "0  !Sample_characteristics_ch1        rin: 7.4       rin: 8.6        rin: 7.8   \n",
       "1  !Sample_characteristics_ch1         ocd: ED   ocd: Control        ocd: OCD   \n",
       "2  !Sample_characteristics_ch1   rinmatched: 1  rinmatched: 0   rinmatched: 1   \n",
       "3  !Sample_characteristics_ch1     dx: Bipolar    dx: Control     dx: Bipolar   \n",
       "4  !Sample_characteristics_ch1        ph: 6.18       ph: 6.59        ph: 6.37   \n",
       "5  !Sample_characteristics_ch1  age: 50.421917  age: 27.49863  age: 30.627397   \n",
       "6  !Sample_characteristics_ch1         pmi: 27      pmi: 19.5       pmi: 71.5   \n",
       "7  !Sample_characteristics_ch1          Sex: F         Sex: M          Sex: M   \n",
       "8  !Sample_characteristics_ch1      race: CAUC     race: CAUC      race: CAUC   \n",
       "9  !Sample_characteristics_ch1      batch1: 16     batch1: 18      batch1: 18   \n",
       "\n",
       "       GSM1467276     GSM1467277      GSM1467278      GSM1467279  \\\n",
       "0        rin: 8.2       rin: 8.5        rin: 8.3        rin: 8.1   \n",
       "1    ocd: Control   ocd: Control         ocd: ED    ocd: Control   \n",
       "2   rinmatched: 0  rinmatched: 0   rinmatched: 1   rinmatched: 0   \n",
       "3     dx: Control    dx: Control     dx: Bipolar     dx: Control   \n",
       "4         ph: 6.6       ph: 6.38        ph: 6.02        ph: 6.87   \n",
       "5  age: 61.167123  age: 32.69589  age: 39.213698  age: 58.605479   \n",
       "6       pmi: 19.5      pmi: 22.5       pmi: 22.5         pmi: 64   \n",
       "7          Sex: M         Sex: M          Sex: F          Sex: M   \n",
       "8      race: CAUC     race: CAUC      race: CAUC      race: CAUC   \n",
       "9      batch1: 18     batch1: 19      batch1: 19      batch1: 20   \n",
       "\n",
       "      GSM1467280      GSM1467281  ...      GSM1467396      GSM1467397  \\\n",
       "0       rin: 8.8        rin: 8.7  ...        rin: 8.4          rin: 8   \n",
       "1   ocd: Control    ocd: Control  ...         ocd: ED    ocd: Control   \n",
       "2  rinmatched: 0   rinmatched: 0  ...   rinmatched: 1   rinmatched: 1   \n",
       "3    dx: Control     dx: Control  ...          dx: ED     dx: Control   \n",
       "4       ph: 6.95        ph: 6.82  ...        ph: 6.34         ph: 6.5   \n",
       "5      age: 49.2  age: 41.041095  ...  age: 30.726027  age: 63.471232   \n",
       "6        pmi: 28         pmi: 18  ...         pmi: 19         pmi: 37   \n",
       "7         Sex: M          Sex: M  ...          Sex: F          Sex: M   \n",
       "8     race: CAUC      race: CAUC  ...      race: CAUC      race: CAUC   \n",
       "9     batch1: 21      batch1: 21  ...      batch1: 96      batch1: 96   \n",
       "\n",
       "       GSM1467398      GSM1467399      GSM1467400      GSM1467401  \\\n",
       "0        rin: 8.3        rin: 7.5        rin: 8.1        rin: 8.5   \n",
       "1    ocd: Control    ocd: Control    ocd: Control    ocd: Control   \n",
       "2   rinmatched: 0   rinmatched: 1   rinmatched: 1   rinmatched: 0   \n",
       "3     dx: Control     dx: Control     dx: Control     dx: Control   \n",
       "4        ph: 6.51        ph: 6.59        ph: 6.65        ph: 6.71   \n",
       "5  age: 54.808219  age: 57.512328  age: 57.610958  age: 44.958904   \n",
       "6         pmi: 21         pmi: 24         pmi: 17         pmi: 20   \n",
       "7          Sex: M          Sex: M          Sex: M          Sex: M   \n",
       "8      race: CAUC      race: CAUC      race: CAUC      race: CAUC   \n",
       "9      batch1: 97      batch1: 98      batch1: 99      batch1: 99   \n",
       "\n",
       "       GSM1467402     GSM1467403      GSM1467404      GSM1467405  \n",
       "0        rin: 6.6       rin: 7.1          rin: 9        rin: 8.3  \n",
       "1         ocd: ED   ocd: Control    ocd: Control    ocd: Control  \n",
       "2   rinmatched: 1  rinmatched: 1   rinmatched: 0   rinmatched: 0  \n",
       "3         dx: MDD    dx: Control     dx: Control     dx: Control  \n",
       "4         ph: 6.2        ph: 6.2        ph: 6.83        ph: 6.92  \n",
       "5  age: 35.684931        age: 63  age: 38.780821  age: 45.978082  \n",
       "6         pmi: 33      pmi: 45.5         pmi: 29         pmi: 34  \n",
       "7          Sex: F         Sex: M          Sex: M          Sex: M  \n",
       "8      race: CAUC     race: CAUC      race: CAUC      race: CAUC  \n",
       "9     batch1: 100    batch1: 102     batch1: 102     batch1: 102  \n",
       "\n",
       "[10 rows x 134 columns]"
      ]
     },
     "execution_count": 30,
     "metadata": {},
     "output_type": "execute_result"
    }
   ],
   "source": [
    "clinical_data.head(10)"
   ]
  },
  {
   "cell_type": "code",
   "execution_count": 21,
   "metadata": {
    "ExecuteTime": {
     "end_time": "2024-01-10T21:39:04.307639583Z",
     "start_time": "2024-01-10T21:39:04.289352075Z"
    },
    "collapsed": false
   },
   "outputs": [
    {
     "data": {
      "text/plain": [
       "{0: ['rin: 7.4',\n",
       "  'rin: 8.6',\n",
       "  'rin: 7.8',\n",
       "  'rin: 8.2',\n",
       "  'rin: 8.5',\n",
       "  'rin: 8.3',\n",
       "  'rin: 8.1',\n",
       "  'rin: 8.8',\n",
       "  'rin: 8.7',\n",
       "  'rin: 7.5',\n",
       "  'rin: 9',\n",
       "  'rin: 7.1',\n",
       "  'rin: 7.2',\n",
       "  'rin: 7.7',\n",
       "  'rin: 8.9',\n",
       "  'rin: 6.7',\n",
       "  'rin: 6',\n",
       "  'rin: 8.4',\n",
       "  'rin: 7.3',\n",
       "  'rin: 8',\n",
       "  'rin: 9.1',\n",
       "  'rin: 7.9',\n",
       "  'rin: 9.7',\n",
       "  'rin: 9.2',\n",
       "  'rin: 6.5',\n",
       "  'rin: 7',\n",
       "  'rin: 7.6',\n",
       "  'rin: 6.6',\n",
       "  'rin: 5.4',\n",
       "  'rin: 5.6'],\n",
       " 1: ['ocd: ED', 'ocd: Control', 'ocd: OCD'],\n",
       " 2: ['rinmatched: 1', 'rinmatched: 0'],\n",
       " 3: ['dx: Bipolar', 'dx: Control', 'dx: MDD', 'dx: Tics', 'dx: OCD', 'dx: ED'],\n",
       " 4: ['ph: 6.18',\n",
       "  'ph: 6.59',\n",
       "  'ph: 6.37',\n",
       "  'ph: 6.6',\n",
       "  'ph: 6.38',\n",
       "  'ph: 6.02',\n",
       "  'ph: 6.87',\n",
       "  'ph: 6.95',\n",
       "  'ph: 6.82',\n",
       "  'ph: 6.27',\n",
       "  'ph: 6.53',\n",
       "  'ph: 6.55',\n",
       "  'ph: 6',\n",
       "  'ph: 6.13',\n",
       "  'ph: 6.08',\n",
       "  'ph: 6.29',\n",
       "  'ph: 6.98',\n",
       "  'ph: 5.91',\n",
       "  'ph: 6.06',\n",
       "  'ph: 6.9',\n",
       "  'ph: 6.83',\n",
       "  'ph: 6.36',\n",
       "  'ph: 6.84',\n",
       "  'ph: 6.74',\n",
       "  'ph: 6.28',\n",
       "  'ph: 6.49',\n",
       "  'ph: 6.7',\n",
       "  'ph: 6.63',\n",
       "  'ph: 6.48',\n",
       "  'ph: 6.62'],\n",
       " 5: ['age: 50.421917',\n",
       "  'age: 27.49863',\n",
       "  'age: 30.627397',\n",
       "  'age: 61.167123',\n",
       "  'age: 32.69589',\n",
       "  'age: 39.213698',\n",
       "  'age: 58.605479',\n",
       "  'age: 49.2',\n",
       "  'age: 41.041095',\n",
       "  'age: 51.750684',\n",
       "  'age: 50.89863',\n",
       "  'age: 26.745205',\n",
       "  'age: 29.104109',\n",
       "  'age: 39.301369',\n",
       "  'age: 48.978082',\n",
       "  'age: 57.884931',\n",
       "  'age: 28.364383',\n",
       "  'age: 24.041095',\n",
       "  'age: 19.268493',\n",
       "  'age: 27.230136',\n",
       "  'age: 46.605479',\n",
       "  'age: 23.443835',\n",
       "  'age: 51.038356',\n",
       "  'age: 39.663013',\n",
       "  'age: 46.109589',\n",
       "  'age: 77.989041',\n",
       "  'age: 46.967123',\n",
       "  'age: 63.241095',\n",
       "  'age: 62.306849',\n",
       "  'age: 83.641095'],\n",
       " 6: ['pmi: 27',\n",
       "  'pmi: 19.5',\n",
       "  'pmi: 71.5',\n",
       "  'pmi: 22.5',\n",
       "  'pmi: 64',\n",
       "  'pmi: 28',\n",
       "  'pmi: 18',\n",
       "  'pmi: 29',\n",
       "  'pmi: 49',\n",
       "  'pmi: 13',\n",
       "  'pmi: 26.5',\n",
       "  'pmi: 16.5',\n",
       "  'pmi: 35',\n",
       "  'pmi: 19',\n",
       "  'pmi: 20.5',\n",
       "  'pmi: 9.5',\n",
       "  'pmi: 65.5',\n",
       "  'pmi: 68',\n",
       "  'pmi: 17.5',\n",
       "  'pmi: 44',\n",
       "  'pmi: 34',\n",
       "  'pmi: 21.5',\n",
       "  'pmi: 67.5',\n",
       "  'pmi: 26',\n",
       "  'pmi: 46.5',\n",
       "  'pmi: 33.5',\n",
       "  'pmi: 24.5',\n",
       "  'pmi: 30.5',\n",
       "  'pmi: 29.5',\n",
       "  'pmi: 51.5'],\n",
       " 7: ['Sex: F', 'Sex: M'],\n",
       " 8: ['race: CAUC'],\n",
       " 9: ['batch1: 16',\n",
       "  'batch1: 18',\n",
       "  'batch1: 19',\n",
       "  'batch1: 20',\n",
       "  'batch1: 21',\n",
       "  'batch1: 9',\n",
       "  'batch1: 10',\n",
       "  'batch1: 12',\n",
       "  'batch1: 14',\n",
       "  'batch1: 23',\n",
       "  'batch1: 24',\n",
       "  'batch1: 25',\n",
       "  'batch1: 26',\n",
       "  'batch1: 27',\n",
       "  'batch1: 29',\n",
       "  'batch1: 33',\n",
       "  'batch1: 32',\n",
       "  'batch1: 31',\n",
       "  'batch1: 36',\n",
       "  'batch1: 37',\n",
       "  'batch1: 38',\n",
       "  'batch1: 39',\n",
       "  'batch1: 40',\n",
       "  'batch1: 41',\n",
       "  'batch1: 42',\n",
       "  'batch1: 44',\n",
       "  'batch1: 45',\n",
       "  'batch1: 48',\n",
       "  'batch1: 53',\n",
       "  'batch1: 59']}"
      ]
     },
     "execution_count": 21,
     "metadata": {},
     "output_type": "execute_result"
    }
   ],
   "source": [
    "clinical_data_unique = get_unique_values_by_row(clinical_data)\n",
    "clinical_data_unique"
   ]
  },
  {
   "cell_type": "markdown",
   "metadata": {
    "ExecuteTime": {
     "end_time": "2023-12-31T03:58:04.978204446Z",
     "start_time": "2023-12-31T03:58:04.922270095Z"
    },
    "collapsed": false
   },
   "source": [
    "Analyze the metadata to determine data relevance and find ways to extract the clinical data.\n",
    "Reference prompt:"
   ]
  },
  {
   "cell_type": "code",
   "execution_count": 22,
   "metadata": {
    "ExecuteTime": {
     "end_time": "2024-01-10T21:39:04.854586192Z",
     "start_time": "2024-01-10T21:39:04.836283516Z"
    },
    "collapsed": false
   },
   "outputs": [
    {
     "data": {
      "text/plain": [
       "'As a biomedical research team, we are selecting datasets to study the association between the human trait \\'Anorexia-Nervosa\\' and genetic factors, optionally considering the influence of age and gender. After searching the GEO database and parsing the matrix file of a series, we obtained background information and sample characteristics data. We will provide textual information about the dataset background, and a Python dictionary storing a list of unique values for each field of the sample characteristics data. Please carefully review the provided information and answer the following questions about this dataset:\\n1. Does this dataset contain gene expression data? (Note: Pure miRNA data is not suitable.)\\n2. For each of the traits \\'Anorexia-Nervosa\\', \\'age\\', and \\'gender\\', please address these points:\\n   (1) Is there human data available for this trait?\\n   (2) If so, identify the key in the sample characteristics dictionary where unique values of this trait is recorded. The key is an integer. The trait information might be explicitly recorded, or can be inferred from the field with some biomedical knowledge or understanding about the data collection process.\\n   (3) Choose an appropriate data type (either \\'continuous\\' or \\'binary\\') for each trait. Write a Python function to convert any given value of the trait to this data type. The function should handle inference about the trait value and convert unknown values to None.\\n   Name the functions \\'convert_trait\\', \\'convert_age\\', and \\'convert_gender\\', respectively.\\n\\nBackground information about the dataset:\\n!Series_title\\t\"Genetic Neuropathology of Obsessive Psychiatric Syndromes\"\\n!Series_summary\\t\"Anorexia nervosa (AN), bulimia nervosa (BN), and obsessive-compulsive disorder (OCD) are complex psychiatric disorders with shared obsessive features, thought to arise from the interaction of multiple genes of small effect with environmental factors.  Potential candidate genes for AN, BN, and OCD have been identified through clinical association and neuroimaging studies; however, recent genome-wide association studies of eating disorders (ED) so far have failed to report significant findings. Additionally, few if any studies have interrogated postmortem brain tissue for evidence of eQTLs associated with candidate genes, which has particular promise as an approach to elucidating molecular mechanisms of association. We therefore selected single nucleotide polymorphisms (SNPs) based on candidate gene studies for AN, BN, and OCD from the literature, and examined the association of these SNPs with gene expression across the lifespan in prefrontal cortex of a non-psychiatric control cohort (N=268).   Several risk-predisposing SNPs were significantly associated with gene expression among control subjects. We then measured gene expression in the prefrontal cortex of cases previously diagnosed with obsessive psychiatric disorders, e.g., eating disorders (ED; N=15), and obsessive-compulsive disorder/obsessive-compulsive personality disorder or tics (OCD/OCPD/Tic; N=16), and non-psychiatric controls (N=102) and identified 6 and 286 genes that were differentially expressed between ED compared to controls and OCD cases compared to controls, respectively (FDR < 5%). However, none of the clinical risk SNPs were among the eQTLs and none were significantly associated with gene expression within the broad obsessive cohort, suggesting larger sample sizes or other brain regions may be required to identify candidate molecular mechanisms of clinical association in postmortem brain datasets.\"\\n!Series_overall_design\\t\"Gene expression data from the dorsolateral prefrontal cortex (DLPFC) from postmortem tissue on 133 subjects - 15 eating disorder (ED) patients, 16 obessive compulsive disorder (OCD) patients, and 102 non-psychiatric controls - run on the Illumina HumanHT-12 v3 microarray\"\\n\\nSample characteristics dictionary (from \"!Sample_characteristics_ch1\", converted to a Python dictionary that stores the unique values for each field):\\n{0: [\\'rin: 7.4\\', \\'rin: 8.6\\', \\'rin: 7.8\\', \\'rin: 8.2\\', \\'rin: 8.5\\', \\'rin: 8.3\\', \\'rin: 8.1\\', \\'rin: 8.8\\', \\'rin: 8.7\\', \\'rin: 7.5\\', \\'rin: 9\\', \\'rin: 7.1\\', \\'rin: 7.2\\', \\'rin: 7.7\\', \\'rin: 8.9\\', \\'rin: 6.7\\', \\'rin: 6\\', \\'rin: 8.4\\', \\'rin: 7.3\\', \\'rin: 8\\', \\'rin: 9.1\\', \\'rin: 7.9\\', \\'rin: 9.7\\', \\'rin: 9.2\\', \\'rin: 6.5\\', \\'rin: 7\\', \\'rin: 7.6\\', \\'rin: 6.6\\', \\'rin: 5.4\\', \\'rin: 5.6\\'], 1: [\\'ocd: ED\\', \\'ocd: Control\\', \\'ocd: OCD\\'], 2: [\\'rinmatched: 1\\', \\'rinmatched: 0\\'], 3: [\\'dx: Bipolar\\', \\'dx: Control\\', \\'dx: MDD\\', \\'dx: Tics\\', \\'dx: OCD\\', \\'dx: ED\\'], 4: [\\'ph: 6.18\\', \\'ph: 6.59\\', \\'ph: 6.37\\', \\'ph: 6.6\\', \\'ph: 6.38\\', \\'ph: 6.02\\', \\'ph: 6.87\\', \\'ph: 6.95\\', \\'ph: 6.82\\', \\'ph: 6.27\\', \\'ph: 6.53\\', \\'ph: 6.55\\', \\'ph: 6\\', \\'ph: 6.13\\', \\'ph: 6.08\\', \\'ph: 6.29\\', \\'ph: 6.98\\', \\'ph: 5.91\\', \\'ph: 6.06\\', \\'ph: 6.9\\', \\'ph: 6.83\\', \\'ph: 6.36\\', \\'ph: 6.84\\', \\'ph: 6.74\\', \\'ph: 6.28\\', \\'ph: 6.49\\', \\'ph: 6.7\\', \\'ph: 6.63\\', \\'ph: 6.48\\', \\'ph: 6.62\\'], 5: [\\'age: 50.421917\\', \\'age: 27.49863\\', \\'age: 30.627397\\', \\'age: 61.167123\\', \\'age: 32.69589\\', \\'age: 39.213698\\', \\'age: 58.605479\\', \\'age: 49.2\\', \\'age: 41.041095\\', \\'age: 51.750684\\', \\'age: 50.89863\\', \\'age: 26.745205\\', \\'age: 29.104109\\', \\'age: 39.301369\\', \\'age: 48.978082\\', \\'age: 57.884931\\', \\'age: 28.364383\\', \\'age: 24.041095\\', \\'age: 19.268493\\', \\'age: 27.230136\\', \\'age: 46.605479\\', \\'age: 23.443835\\', \\'age: 51.038356\\', \\'age: 39.663013\\', \\'age: 46.109589\\', \\'age: 77.989041\\', \\'age: 46.967123\\', \\'age: 63.241095\\', \\'age: 62.306849\\', \\'age: 83.641095\\'], 6: [\\'pmi: 27\\', \\'pmi: 19.5\\', \\'pmi: 71.5\\', \\'pmi: 22.5\\', \\'pmi: 64\\', \\'pmi: 28\\', \\'pmi: 18\\', \\'pmi: 29\\', \\'pmi: 49\\', \\'pmi: 13\\', \\'pmi: 26.5\\', \\'pmi: 16.5\\', \\'pmi: 35\\', \\'pmi: 19\\', \\'pmi: 20.5\\', \\'pmi: 9.5\\', \\'pmi: 65.5\\', \\'pmi: 68\\', \\'pmi: 17.5\\', \\'pmi: 44\\', \\'pmi: 34\\', \\'pmi: 21.5\\', \\'pmi: 67.5\\', \\'pmi: 26\\', \\'pmi: 46.5\\', \\'pmi: 33.5\\', \\'pmi: 24.5\\', \\'pmi: 30.5\\', \\'pmi: 29.5\\', \\'pmi: 51.5\\'], 7: [\\'Sex: F\\', \\'Sex: M\\'], 8: [\\'race: CAUC\\'], 9: [\\'batch1: 16\\', \\'batch1: 18\\', \\'batch1: 19\\', \\'batch1: 20\\', \\'batch1: 21\\', \\'batch1: 9\\', \\'batch1: 10\\', \\'batch1: 12\\', \\'batch1: 14\\', \\'batch1: 23\\', \\'batch1: 24\\', \\'batch1: 25\\', \\'batch1: 26\\', \\'batch1: 27\\', \\'batch1: 29\\', \\'batch1: 33\\', \\'batch1: 32\\', \\'batch1: 31\\', \\'batch1: 36\\', \\'batch1: 37\\', \\'batch1: 38\\', \\'batch1: 39\\', \\'batch1: 40\\', \\'batch1: 41\\', \\'batch1: 42\\', \\'batch1: 44\\', \\'batch1: 45\\', \\'batch1: 48\\', \\'batch1: 53\\', \\'batch1: 59\\']}\\n'"
      ]
     },
     "execution_count": 22,
     "metadata": {},
     "output_type": "execute_result"
    }
   ],
   "source": [
    "f'''As a biomedical research team, we are selecting datasets to study the association between the human trait \\'{TRAIT}\\' and genetic factors, optionally considering the influence of age and gender. After searching the GEO database and parsing the matrix file of a series, we obtained background information and sample characteristics data. We will provide textual information about the dataset background, and a Python dictionary storing a list of unique values for each field of the sample characteristics data. Please carefully review the provided information and answer the following questions about this dataset:\n",
    "1. Does this dataset contain gene expression data? (Note: Pure miRNA data is not suitable.)\n",
    "2. For each of the traits \\'{TRAIT}\\', 'age', and 'gender', please address these points:\n",
    "   (1) Is there human data available for this trait?\n",
    "   (2) If so, identify the key in the sample characteristics dictionary where unique values of this trait is recorded. The key is an integer. The trait information might be explicitly recorded, or can be inferred from the field with some biomedical knowledge or understanding about the data collection process.\n",
    "   (3) Choose an appropriate data type (either 'continuous' or 'binary') for each trait. Write a Python function to convert any given value of the trait to this data type. The function should handle inference about the trait value and convert unknown values to None.\n",
    "   Name the functions 'convert_trait', 'convert_age', and 'convert_gender', respectively.\n",
    "\n",
    "Background information about the dataset:\n",
    "{background_info}\n",
    "\n",
    "Sample characteristics dictionary (from \"!Sample_characteristics_ch1\", converted to a Python dictionary that stores the unique values for each field):\n",
    "{clinical_data_unique}\n",
    "'''"
   ]
  },
  {
   "cell_type": "markdown",
   "metadata": {
    "ExecuteTime": {
     "end_time": "2023-12-31T03:58:04.978240504Z",
     "start_time": "2023-12-31T03:58:04.922365324Z"
    },
    "collapsed": false
   },
   "source": [
    "Understand and verify the answer from GPT, to assign values to the below variables. Assign None to the 'row_id' variables if relevant data row was not found.\n",
    "Later we need to let GPT format its answer to automatically do these. But given the complexity of this step, let's grow some insight from the free-text answers for now."
   ]
  },
  {
   "cell_type": "code",
   "execution_count": 23,
   "metadata": {
    "ExecuteTime": {
     "end_time": "2024-01-10T21:39:05.366304590Z",
     "start_time": "2024-01-10T21:39:05.356983082Z"
    },
    "collapsed": false
   },
   "outputs": [],
   "source": [
    "age_row = gender_row = None\n",
    "convert_age = convert_gender = None"
   ]
  },
  {
   "cell_type": "code",
   "execution_count": 24,
   "metadata": {
    "ExecuteTime": {
     "end_time": "2024-01-10T21:40:09.324053151Z",
     "start_time": "2024-01-10T21:40:09.251131090Z"
    },
    "collapsed": false
   },
   "outputs": [],
   "source": [
    "is_gene_availabe = True\n",
    "trait_row = 1\n",
    "age_row = 5\n",
    "gender_row = 7\n",
    "\n",
    "trait_type = 'binary'"
   ]
  },
  {
   "cell_type": "code",
   "execution_count": 25,
   "metadata": {
    "ExecuteTime": {
     "end_time": "2024-01-10T21:40:09.912115984Z",
     "start_time": "2024-01-10T21:40:09.907913460Z"
    },
    "collapsed": false
   },
   "outputs": [],
   "source": [
    "is_available = is_gene_availabe and (trait_row is not None)\n",
    "if not is_available:\n",
    "    save_cohort_info(cohort, JSON_PATH, is_available)\n",
    "    print(\"This cohort is not usable. Please skip the following steps and jump to the next accession number.\")"
   ]
  },
  {
   "cell_type": "code",
   "execution_count": 28,
   "metadata": {
    "ExecuteTime": {
     "end_time": "2024-01-10T21:40:10.982148317Z",
     "start_time": "2024-01-10T21:40:10.967368918Z"
    },
    "collapsed": false
   },
   "outputs": [
    {
     "data": {
      "text/plain": [
       "(1, 63.0, 1)"
      ]
     },
     "execution_count": 28,
     "metadata": {},
     "output_type": "execute_result"
    }
   ],
   "source": [
    "def convert_trait(tissue_type):\n",
    "    \"\"\"\n",
    "    Convert tissue type to epilepsy presence (binary).\n",
    "    Assuming epilepsy presence for 'Hippocampus' tissue.\n",
    "    \"\"\"\n",
    "    if tissue_type == 'ocd: ED':\n",
    "        return 1  \n",
    "    else:\n",
    "        return 0 \n",
    "\n",
    "def convert_age(value):\n",
    "    try:\n",
    "        return float(value.split(': ')[1])\n",
    "    except (IndexError, ValueError):\n",
    "        return None  # Convert unknown values to None\n",
    "\n",
    "\n",
    "def convert_gender(gender_string):\n",
    "    \"\"\"\n",
    "    Convert gender string to a binary representation.\n",
    "    Female -> 0, Male -> 1, Unknown -> None\n",
    "    \"\"\"\n",
    "    if gender_string == 'Sex: F':\n",
    "        return 0\n",
    "    elif gender_string == 'Sex: M':\n",
    "        return 1\n",
    "    else:\n",
    "        return None  # In case of unknown gender\n",
    "\n",
    "# Example usage\n",
    "example_tissue = 'ocd: ED'\n",
    "example_age = 'age: 63'\n",
    "example_gender = 'Sex: M'\n",
    "\n",
    "converted_trait = convert_trait(example_tissue)\n",
    "converted_age = convert_age(example_age)\n",
    "converted_gender = convert_gender(example_gender)\n",
    "\n",
    "converted_trait, converted_age, converted_gender"
   ]
  },
  {
   "cell_type": "code",
   "execution_count": 29,
   "metadata": {
    "ExecuteTime": {
     "end_time": "2024-01-10T21:40:11.684556802Z",
     "start_time": "2024-01-10T21:40:11.665079581Z"
    },
    "collapsed": false
   },
   "outputs": [
    {
     "data": {
      "text/html": [
       "<div>\n",
       "<style scoped>\n",
       "    .dataframe tbody tr th:only-of-type {\n",
       "        vertical-align: middle;\n",
       "    }\n",
       "\n",
       "    .dataframe tbody tr th {\n",
       "        vertical-align: top;\n",
       "    }\n",
       "\n",
       "    .dataframe thead th {\n",
       "        text-align: right;\n",
       "    }\n",
       "</style>\n",
       "<table border=\"1\" class=\"dataframe\">\n",
       "  <thead>\n",
       "    <tr style=\"text-align: right;\">\n",
       "      <th></th>\n",
       "      <th>GSM1467273</th>\n",
       "      <th>GSM1467274</th>\n",
       "      <th>GSM1467275</th>\n",
       "      <th>GSM1467276</th>\n",
       "      <th>GSM1467277</th>\n",
       "      <th>GSM1467278</th>\n",
       "      <th>GSM1467279</th>\n",
       "      <th>GSM1467280</th>\n",
       "      <th>GSM1467281</th>\n",
       "      <th>GSM1467282</th>\n",
       "      <th>...</th>\n",
       "      <th>GSM1467396</th>\n",
       "      <th>GSM1467397</th>\n",
       "      <th>GSM1467398</th>\n",
       "      <th>GSM1467399</th>\n",
       "      <th>GSM1467400</th>\n",
       "      <th>GSM1467401</th>\n",
       "      <th>GSM1467402</th>\n",
       "      <th>GSM1467403</th>\n",
       "      <th>GSM1467404</th>\n",
       "      <th>GSM1467405</th>\n",
       "    </tr>\n",
       "  </thead>\n",
       "  <tbody>\n",
       "    <tr>\n",
       "      <th>Anorexia-Nervosa</th>\n",
       "      <td>1.000000</td>\n",
       "      <td>0.00000</td>\n",
       "      <td>0.000000</td>\n",
       "      <td>0.000000</td>\n",
       "      <td>0.00000</td>\n",
       "      <td>1.000000</td>\n",
       "      <td>0.000000</td>\n",
       "      <td>0.0</td>\n",
       "      <td>0.000000</td>\n",
       "      <td>0.000000</td>\n",
       "      <td>...</td>\n",
       "      <td>1.000000</td>\n",
       "      <td>0.000000</td>\n",
       "      <td>0.000000</td>\n",
       "      <td>0.000000</td>\n",
       "      <td>0.000000</td>\n",
       "      <td>0.000000</td>\n",
       "      <td>1.000000</td>\n",
       "      <td>0.0</td>\n",
       "      <td>0.000000</td>\n",
       "      <td>0.000000</td>\n",
       "    </tr>\n",
       "    <tr>\n",
       "      <th>Age</th>\n",
       "      <td>50.421917</td>\n",
       "      <td>27.49863</td>\n",
       "      <td>30.627397</td>\n",
       "      <td>61.167123</td>\n",
       "      <td>32.69589</td>\n",
       "      <td>39.213698</td>\n",
       "      <td>58.605479</td>\n",
       "      <td>49.2</td>\n",
       "      <td>41.041095</td>\n",
       "      <td>51.750684</td>\n",
       "      <td>...</td>\n",
       "      <td>30.726027</td>\n",
       "      <td>63.471232</td>\n",
       "      <td>54.808219</td>\n",
       "      <td>57.512328</td>\n",
       "      <td>57.610958</td>\n",
       "      <td>44.958904</td>\n",
       "      <td>35.684931</td>\n",
       "      <td>63.0</td>\n",
       "      <td>38.780821</td>\n",
       "      <td>45.978082</td>\n",
       "    </tr>\n",
       "    <tr>\n",
       "      <th>Gender</th>\n",
       "      <td>0.000000</td>\n",
       "      <td>1.00000</td>\n",
       "      <td>1.000000</td>\n",
       "      <td>1.000000</td>\n",
       "      <td>1.00000</td>\n",
       "      <td>0.000000</td>\n",
       "      <td>1.000000</td>\n",
       "      <td>1.0</td>\n",
       "      <td>1.000000</td>\n",
       "      <td>1.000000</td>\n",
       "      <td>...</td>\n",
       "      <td>0.000000</td>\n",
       "      <td>1.000000</td>\n",
       "      <td>1.000000</td>\n",
       "      <td>1.000000</td>\n",
       "      <td>1.000000</td>\n",
       "      <td>1.000000</td>\n",
       "      <td>0.000000</td>\n",
       "      <td>1.0</td>\n",
       "      <td>1.000000</td>\n",
       "      <td>1.000000</td>\n",
       "    </tr>\n",
       "  </tbody>\n",
       "</table>\n",
       "<p>3 rows × 133 columns</p>\n",
       "</div>"
      ],
      "text/plain": [
       "                  GSM1467273  GSM1467274  GSM1467275  GSM1467276  GSM1467277  \\\n",
       "Anorexia-Nervosa    1.000000     0.00000    0.000000    0.000000     0.00000   \n",
       "Age                50.421917    27.49863   30.627397   61.167123    32.69589   \n",
       "Gender              0.000000     1.00000    1.000000    1.000000     1.00000   \n",
       "\n",
       "                  GSM1467278  GSM1467279  GSM1467280  GSM1467281  GSM1467282  \\\n",
       "Anorexia-Nervosa    1.000000    0.000000         0.0    0.000000    0.000000   \n",
       "Age                39.213698   58.605479        49.2   41.041095   51.750684   \n",
       "Gender              0.000000    1.000000         1.0    1.000000    1.000000   \n",
       "\n",
       "                  ...  GSM1467396  GSM1467397  GSM1467398  GSM1467399  \\\n",
       "Anorexia-Nervosa  ...    1.000000    0.000000    0.000000    0.000000   \n",
       "Age               ...   30.726027   63.471232   54.808219   57.512328   \n",
       "Gender            ...    0.000000    1.000000    1.000000    1.000000   \n",
       "\n",
       "                  GSM1467400  GSM1467401  GSM1467402  GSM1467403  GSM1467404  \\\n",
       "Anorexia-Nervosa    0.000000    0.000000    1.000000         0.0    0.000000   \n",
       "Age                57.610958   44.958904   35.684931        63.0   38.780821   \n",
       "Gender              1.000000    1.000000    0.000000         1.0    1.000000   \n",
       "\n",
       "                  GSM1467405  \n",
       "Anorexia-Nervosa    0.000000  \n",
       "Age                45.978082  \n",
       "Gender              1.000000  \n",
       "\n",
       "[3 rows x 133 columns]"
      ]
     },
     "execution_count": 29,
     "metadata": {},
     "output_type": "execute_result"
    }
   ],
   "source": [
    "selected_clinical_data = geo_select_clinical_features(clinical_data, TRAIT, trait_row, convert_trait, age_row=age_row,\n",
    "                                                      convert_age=convert_age, gender_row=gender_row,\n",
    "                                                      convert_gender=convert_gender)\n",
    "selected_clinical_data.head()"
   ]
  },
  {
   "cell_type": "markdown",
   "metadata": {
    "ExecuteTime": {
     "end_time": "2023-12-31T03:58:04.978664193Z",
     "start_time": "2023-12-31T03:58:04.966117261Z"
    },
    "collapsed": false
   },
   "source": [
    "### Genetic data preprocessing and final filtering"
   ]
  },
  {
   "cell_type": "code",
   "execution_count": 31,
   "metadata": {
    "ExecuteTime": {
     "end_time": "2024-01-10T21:40:13.509252107Z",
     "start_time": "2024-01-10T21:40:13.468235630Z"
    },
    "collapsed": false
   },
   "outputs": [
    {
     "data": {
      "text/html": [
       "<div>\n",
       "<style scoped>\n",
       "    .dataframe tbody tr th:only-of-type {\n",
       "        vertical-align: middle;\n",
       "    }\n",
       "\n",
       "    .dataframe tbody tr th {\n",
       "        vertical-align: top;\n",
       "    }\n",
       "\n",
       "    .dataframe thead th {\n",
       "        text-align: right;\n",
       "    }\n",
       "</style>\n",
       "<table border=\"1\" class=\"dataframe\">\n",
       "  <thead>\n",
       "    <tr style=\"text-align: right;\">\n",
       "      <th></th>\n",
       "      <th>GSM1467273</th>\n",
       "      <th>GSM1467274</th>\n",
       "      <th>GSM1467275</th>\n",
       "      <th>GSM1467276</th>\n",
       "      <th>GSM1467277</th>\n",
       "      <th>GSM1467278</th>\n",
       "      <th>GSM1467279</th>\n",
       "      <th>GSM1467280</th>\n",
       "      <th>GSM1467281</th>\n",
       "      <th>GSM1467282</th>\n",
       "      <th>...</th>\n",
       "      <th>GSM1467396</th>\n",
       "      <th>GSM1467397</th>\n",
       "      <th>GSM1467398</th>\n",
       "      <th>GSM1467399</th>\n",
       "      <th>GSM1467400</th>\n",
       "      <th>GSM1467401</th>\n",
       "      <th>GSM1467402</th>\n",
       "      <th>GSM1467403</th>\n",
       "      <th>GSM1467404</th>\n",
       "      <th>GSM1467405</th>\n",
       "    </tr>\n",
       "    <tr>\n",
       "      <th>ID</th>\n",
       "      <th></th>\n",
       "      <th></th>\n",
       "      <th></th>\n",
       "      <th></th>\n",
       "      <th></th>\n",
       "      <th></th>\n",
       "      <th></th>\n",
       "      <th></th>\n",
       "      <th></th>\n",
       "      <th></th>\n",
       "      <th></th>\n",
       "      <th></th>\n",
       "      <th></th>\n",
       "      <th></th>\n",
       "      <th></th>\n",
       "      <th></th>\n",
       "      <th></th>\n",
       "      <th></th>\n",
       "      <th></th>\n",
       "      <th></th>\n",
       "      <th></th>\n",
       "    </tr>\n",
       "  </thead>\n",
       "  <tbody>\n",
       "    <tr>\n",
       "      <th>ILMN_1343291</th>\n",
       "      <td>14.631928</td>\n",
       "      <td>14.846268</td>\n",
       "      <td>14.949614</td>\n",
       "      <td>15.044821</td>\n",
       "      <td>14.790150</td>\n",
       "      <td>14.670395</td>\n",
       "      <td>14.730323</td>\n",
       "      <td>14.972534</td>\n",
       "      <td>14.826768</td>\n",
       "      <td>14.790150</td>\n",
       "      <td>...</td>\n",
       "      <td>14.749395</td>\n",
       "      <td>14.593207</td>\n",
       "      <td>14.558687</td>\n",
       "      <td>14.490661</td>\n",
       "      <td>14.540732</td>\n",
       "      <td>14.540732</td>\n",
       "      <td>14.972534</td>\n",
       "      <td>14.730323</td>\n",
       "      <td>14.790150</td>\n",
       "      <td>14.609839</td>\n",
       "    </tr>\n",
       "    <tr>\n",
       "      <th>ILMN_1343295</th>\n",
       "      <td>13.015539</td>\n",
       "      <td>13.199489</td>\n",
       "      <td>13.256768</td>\n",
       "      <td>13.030246</td>\n",
       "      <td>12.611440</td>\n",
       "      <td>13.030246</td>\n",
       "      <td>12.894845</td>\n",
       "      <td>12.668329</td>\n",
       "      <td>12.536053</td>\n",
       "      <td>12.684084</td>\n",
       "      <td>...</td>\n",
       "      <td>12.729559</td>\n",
       "      <td>12.628114</td>\n",
       "      <td>12.729559</td>\n",
       "      <td>12.526797</td>\n",
       "      <td>12.921417</td>\n",
       "      <td>12.536053</td>\n",
       "      <td>12.616903</td>\n",
       "      <td>12.685365</td>\n",
       "      <td>12.729559</td>\n",
       "      <td>12.894845</td>\n",
       "    </tr>\n",
       "    <tr>\n",
       "      <th>ILMN_1651199</th>\n",
       "      <td>7.407451</td>\n",
       "      <td>7.404480</td>\n",
       "      <td>7.384722</td>\n",
       "      <td>7.398199</td>\n",
       "      <td>7.388903</td>\n",
       "      <td>7.392256</td>\n",
       "      <td>7.411295</td>\n",
       "      <td>7.392441</td>\n",
       "      <td>7.402658</td>\n",
       "      <td>7.397018</td>\n",
       "      <td>...</td>\n",
       "      <td>7.386564</td>\n",
       "      <td>7.392892</td>\n",
       "      <td>7.387466</td>\n",
       "      <td>7.398703</td>\n",
       "      <td>7.387851</td>\n",
       "      <td>7.380980</td>\n",
       "      <td>7.391920</td>\n",
       "      <td>7.391737</td>\n",
       "      <td>7.384270</td>\n",
       "      <td>7.391287</td>\n",
       "    </tr>\n",
       "    <tr>\n",
       "      <th>ILMN_1651209</th>\n",
       "      <td>7.551069</td>\n",
       "      <td>7.489157</td>\n",
       "      <td>7.481180</td>\n",
       "      <td>7.454187</td>\n",
       "      <td>7.468150</td>\n",
       "      <td>7.538856</td>\n",
       "      <td>7.516444</td>\n",
       "      <td>7.428403</td>\n",
       "      <td>7.420693</td>\n",
       "      <td>7.435272</td>\n",
       "      <td>...</td>\n",
       "      <td>7.492618</td>\n",
       "      <td>7.517797</td>\n",
       "      <td>7.570776</td>\n",
       "      <td>7.491987</td>\n",
       "      <td>7.543178</td>\n",
       "      <td>7.536219</td>\n",
       "      <td>7.486087</td>\n",
       "      <td>7.445162</td>\n",
       "      <td>7.523485</td>\n",
       "      <td>7.524602</td>\n",
       "    </tr>\n",
       "    <tr>\n",
       "      <th>ILMN_1651210</th>\n",
       "      <td>7.389822</td>\n",
       "      <td>7.396480</td>\n",
       "      <td>7.392958</td>\n",
       "      <td>7.389106</td>\n",
       "      <td>7.399044</td>\n",
       "      <td>7.401760</td>\n",
       "      <td>7.412553</td>\n",
       "      <td>7.418004</td>\n",
       "      <td>7.383820</td>\n",
       "      <td>7.399614</td>\n",
       "      <td>...</td>\n",
       "      <td>7.383362</td>\n",
       "      <td>7.386934</td>\n",
       "      <td>7.383795</td>\n",
       "      <td>7.390598</td>\n",
       "      <td>7.383517</td>\n",
       "      <td>7.380075</td>\n",
       "      <td>7.383755</td>\n",
       "      <td>7.392136</td>\n",
       "      <td>7.383855</td>\n",
       "      <td>7.395560</td>\n",
       "    </tr>\n",
       "  </tbody>\n",
       "</table>\n",
       "<p>5 rows × 133 columns</p>\n",
       "</div>"
      ],
      "text/plain": [
       "              GSM1467273  GSM1467274  GSM1467275  GSM1467276  GSM1467277  \\\n",
       "ID                                                                         \n",
       "ILMN_1343291   14.631928   14.846268   14.949614   15.044821   14.790150   \n",
       "ILMN_1343295   13.015539   13.199489   13.256768   13.030246   12.611440   \n",
       "ILMN_1651199    7.407451    7.404480    7.384722    7.398199    7.388903   \n",
       "ILMN_1651209    7.551069    7.489157    7.481180    7.454187    7.468150   \n",
       "ILMN_1651210    7.389822    7.396480    7.392958    7.389106    7.399044   \n",
       "\n",
       "              GSM1467278  GSM1467279  GSM1467280  GSM1467281  GSM1467282  ...  \\\n",
       "ID                                                                        ...   \n",
       "ILMN_1343291   14.670395   14.730323   14.972534   14.826768   14.790150  ...   \n",
       "ILMN_1343295   13.030246   12.894845   12.668329   12.536053   12.684084  ...   \n",
       "ILMN_1651199    7.392256    7.411295    7.392441    7.402658    7.397018  ...   \n",
       "ILMN_1651209    7.538856    7.516444    7.428403    7.420693    7.435272  ...   \n",
       "ILMN_1651210    7.401760    7.412553    7.418004    7.383820    7.399614  ...   \n",
       "\n",
       "              GSM1467396  GSM1467397  GSM1467398  GSM1467399  GSM1467400  \\\n",
       "ID                                                                         \n",
       "ILMN_1343291   14.749395   14.593207   14.558687   14.490661   14.540732   \n",
       "ILMN_1343295   12.729559   12.628114   12.729559   12.526797   12.921417   \n",
       "ILMN_1651199    7.386564    7.392892    7.387466    7.398703    7.387851   \n",
       "ILMN_1651209    7.492618    7.517797    7.570776    7.491987    7.543178   \n",
       "ILMN_1651210    7.383362    7.386934    7.383795    7.390598    7.383517   \n",
       "\n",
       "              GSM1467401  GSM1467402  GSM1467403  GSM1467404  GSM1467405  \n",
       "ID                                                                        \n",
       "ILMN_1343291   14.540732   14.972534   14.730323   14.790150   14.609839  \n",
       "ILMN_1343295   12.536053   12.616903   12.685365   12.729559   12.894845  \n",
       "ILMN_1651199    7.380980    7.391920    7.391737    7.384270    7.391287  \n",
       "ILMN_1651209    7.536219    7.486087    7.445162    7.523485    7.524602  \n",
       "ILMN_1651210    7.380075    7.383755    7.392136    7.383855    7.395560  \n",
       "\n",
       "[5 rows x 133 columns]"
      ]
     },
     "execution_count": 31,
     "metadata": {},
     "output_type": "execute_result"
    }
   ],
   "source": [
    "genetic_data = get_genetic_data(matrix_file)\n",
    "genetic_data.head()"
   ]
  },
  {
   "cell_type": "code",
   "execution_count": 33,
   "metadata": {
    "ExecuteTime": {
     "end_time": "2024-01-10T21:40:14.107050774Z",
     "start_time": "2024-01-10T21:40:14.090977173Z"
    },
    "collapsed": false
   },
   "outputs": [
    {
     "data": {
      "text/plain": [
       "['ILMN_1343291',\n",
       " 'ILMN_1343295',\n",
       " 'ILMN_1651199',\n",
       " 'ILMN_1651209',\n",
       " 'ILMN_1651210',\n",
       " 'ILMN_1651221',\n",
       " 'ILMN_1651228',\n",
       " 'ILMN_1651229',\n",
       " 'ILMN_1651230',\n",
       " 'ILMN_1651232',\n",
       " 'ILMN_1651235',\n",
       " 'ILMN_1651236',\n",
       " 'ILMN_1651237',\n",
       " 'ILMN_1651238',\n",
       " 'ILMN_1651249',\n",
       " 'ILMN_1651253',\n",
       " 'ILMN_1651254',\n",
       " 'ILMN_1651259',\n",
       " 'ILMN_1651260',\n",
       " 'ILMN_1651262']"
      ]
     },
     "execution_count": 33,
     "metadata": {},
     "output_type": "execute_result"
    }
   ],
   "source": [
    "gene_row_ids = genetic_data.index[:20].tolist()\n",
    "gene_row_ids"
   ]
  },
  {
   "cell_type": "markdown",
   "metadata": {
    "ExecuteTime": {
     "end_time": "2023-12-31T03:30:41.595335164Z",
     "start_time": "2023-12-31T03:30:41.513232329Z"
    },
    "collapsed": false
   },
   "source": [
    "Check if the gene dataset requires mapping to get the gene symbols corresponding to each data row."
   ]
  },
  {
   "cell_type": "markdown",
   "metadata": {
    "collapsed": false
   },
   "source": [
    "Reference prompt:"
   ]
  },
  {
   "cell_type": "code",
   "execution_count": 34,
   "metadata": {
    "ExecuteTime": {
     "end_time": "2024-01-10T21:40:16.445692615Z",
     "start_time": "2024-01-10T21:40:16.435117932Z"
    },
    "collapsed": false
   },
   "outputs": [
    {
     "data": {
      "text/plain": [
       "\"\\nBelow are the row headers of a gene expression dataset in GEO. Based on your biomedical knowledge, are they human gene symbols, or are they some other identifiers that need to be mapped to gene symbols? Your answer should be concluded by starting a new line and strictly following this format:\\nrequires_gene_mapping = (True or False)\\n\\nRow headers:\\n['ILMN_1343291', 'ILMN_1343295', 'ILMN_1651199', 'ILMN_1651209', 'ILMN_1651210', 'ILMN_1651221', 'ILMN_1651228', 'ILMN_1651229', 'ILMN_1651230', 'ILMN_1651232', 'ILMN_1651235', 'ILMN_1651236', 'ILMN_1651237', 'ILMN_1651238', 'ILMN_1651249', 'ILMN_1651253', 'ILMN_1651254', 'ILMN_1651259', 'ILMN_1651260', 'ILMN_1651262']\\n\""
      ]
     },
     "execution_count": 34,
     "metadata": {},
     "output_type": "execute_result"
    }
   ],
   "source": [
    "f'''\n",
    "Below are the row headers of a gene expression dataset in GEO. Based on your biomedical knowledge, are they human gene symbols, or are they some other identifiers that need to be mapped to gene symbols? Your answer should be concluded by starting a new line and strictly following this format:\n",
    "requires_gene_mapping = (True or False)\n",
    "\n",
    "Row headers:\n",
    "{gene_row_ids}\n",
    "'''"
   ]
  },
  {
   "cell_type": "markdown",
   "metadata": {
    "collapsed": false
   },
   "source": [
    "\n",
    "If not required, jump directly to the gene normalization step"
   ]
  },
  {
   "cell_type": "code",
   "execution_count": 35,
   "metadata": {
    "ExecuteTime": {
     "end_time": "2024-01-10T21:40:17.098774002Z",
     "start_time": "2024-01-10T21:40:17.094437169Z"
    },
    "collapsed": false
   },
   "outputs": [],
   "source": [
    "requires_gene_mapping = True"
   ]
  },
  {
   "cell_type": "code",
   "execution_count": 36,
   "metadata": {
    "ExecuteTime": {
     "end_time": "2024-01-10T21:40:17.399324928Z",
     "start_time": "2024-01-10T21:40:17.381475568Z"
    },
    "collapsed": false
   },
   "outputs": [
    {
     "name": "stdout",
     "output_type": "stream",
     "text": [
      "{'ID': ['ILMN_1725881', 'ILMN_1910180', 'ILMN_1804174', 'ILMN_1796063', 'ILMN_1811966'], 'nuID': ['rp13_p1x6D80lNLk3c', 'NEX0oqCV8.er4HVfU4', 'KyqQynMZxJcruyylEU', 'xXl7eXuF7sbPEp.KFI', '9ckqJrioiaej9_ajeQ'], 'Species': ['Homo sapiens', 'Homo sapiens', 'Homo sapiens', 'Homo sapiens', 'Homo sapiens'], 'Source': ['RefSeq', 'Unigene', 'RefSeq', 'RefSeq', 'RefSeq'], 'Search_Key': ['ILMN_44919', 'ILMN_127219', 'ILMN_139282', 'ILMN_5006', 'ILMN_38756'], 'Transcript': ['ILMN_44919', 'ILMN_127219', 'ILMN_139282', 'ILMN_5006', 'ILMN_38756'], 'ILMN_Gene': ['LOC23117', 'HS.575038', 'FCGR2B', 'TRIM44', 'LOC653895'], 'Source_Reference_ID': ['XM_933824.1', 'Hs.575038', 'XM_938851.1', 'NM_017583.3', 'XM_936379.1'], 'RefSeq_ID': ['XM_933824.1', nan, 'XM_938851.1', 'NM_017583.3', 'XM_936379.1'], 'Unigene_ID': [nan, 'Hs.575038', nan, nan, nan], 'Entrez_Gene_ID': [23117.0, nan, 2213.0, 54765.0, 653895.0], 'GI': [89040007.0, 10437021.0, 88952550.0, 29029528.0, 89033487.0], 'Accession': ['XM_933824.1', 'AK024680', 'XM_938851.1', 'NM_017583.3', 'XM_936379.1'], 'Symbol': ['LOC23117', nan, 'FCGR2B', 'TRIM44', 'LOC653895'], 'Protein_Product': ['XP_938917.1', nan, 'XP_943944.1', 'NP_060053.2', 'XP_941472.1'], 'Array_Address_Id': [1710221.0, 5900364.0, 2480717.0, 1300239.0, 4480719.0], 'Probe_Type': ['I', 'S', 'I', 'S', 'S'], 'Probe_Start': [122.0, 1409.0, 1643.0, 2901.0, 25.0], 'SEQUENCE': ['GGCTCCTCTTTGGGCTCCTACTGGAATTTATCAGCCATCAGTGCATCTCT', 'ACACCTTCAGGAGGGAAGCCCTTATTTCTGGGTTGAACTCCCCTTCCATG', 'TAGGGGCAATAGGCTATACGCTACAGCCTAGGTGTGTAGTAGGCCACACC', 'CCTGCCTGTCTGCCTGTGACCTGTGTACGTATTACAGGCTTTAGGACCAG', 'CTAGCAGGGAGCGGTGAGGGAGAGCGGCTGGATTTCTTGCGGGATCTGCA'], 'Chromosome': ['16', nan, nan, '11', nan], 'Probe_Chr_Orientation': ['-', nan, nan, '+', nan], 'Probe_Coordinates': ['21766363-21766363:21769901-21769949', nan, nan, '35786070-35786119', nan], 'Cytoband': ['16p12.2a', nan, '1q23.3b', '11p13a', '10q11.23b'], 'Definition': ['PREDICTED: Homo sapiens KIAA0220-like protein, transcript variant 11 (LOC23117), mRNA.', 'Homo sapiens cDNA: FLJ21027 fis, clone CAE07110', 'PREDICTED: Homo sapiens Fc fragment of IgG, low affinity IIb, receptor (CD32) (FCGR2B), mRNA.', 'Homo sapiens tripartite motif-containing 44 (TRIM44), mRNA.', 'PREDICTED: Homo sapiens similar to protein geranylgeranyltransferase type I, beta subunit (LOC653895), mRNA.'], 'Ontology_Component': [nan, nan, nan, 'intracellular [goid 5622] [evidence IEA]', nan], 'Ontology_Process': [nan, nan, nan, nan, nan], 'Ontology_Function': [nan, nan, nan, 'zinc ion binding [goid 8270] [evidence IEA]; metal ion binding [goid 46872] [evidence IEA]', nan], 'Synonyms': [nan, nan, nan, 'MGC3490; MC7; HSA249128; DIPB', nan], 'Obsolete_Probe_Id': [nan, nan, nan, 'MGC3490; MC7; HSA249128; DIPB', nan], 'GB_ACC': ['XM_933824.1', 'AK024680', 'XM_938851.1', 'NM_017583.3', 'XM_936379.1']}\n"
     ]
    }
   ],
   "source": [
    "if requires_gene_mapping:\n",
    "    gene_annotation = get_gene_annotation(soft_file)\n",
    "    gene_annotation_summary = preview_df(gene_annotation)\n",
    "    print(gene_annotation_summary)"
   ]
  },
  {
   "cell_type": "markdown",
   "metadata": {
    "ExecuteTime": {
     "end_time": "2023-12-31T03:58:04.978931927Z",
     "start_time": "2023-12-31T03:58:04.966328339Z"
    },
    "collapsed": false
   },
   "source": [
    "Observe the first few cells in the ID column of the gene annotation dataframe, to find the names of columns that store the gene probe IDs and gene symbols respectively.\n",
    "Reference prompt:"
   ]
  },
  {
   "cell_type": "code",
   "execution_count": 37,
   "metadata": {
    "ExecuteTime": {
     "end_time": "2024-01-10T21:40:17.944343822Z",
     "start_time": "2024-01-10T21:40:17.933815553Z"
    },
    "collapsed": false
   },
   "outputs": [
    {
     "name": "stdout",
     "output_type": "stream",
     "text": [
      "\n",
      "    As a biomedical research team, we are analyzing a gene expression dataset, and find that its row headers are some identifiers related to genes:\n",
      "    ['ILMN_1343291', 'ILMN_1343295', 'ILMN_1651199', 'ILMN_1651209', 'ILMN_1651210', 'ILMN_1651221', 'ILMN_1651228', 'ILMN_1651229', 'ILMN_1651230', 'ILMN_1651232', 'ILMN_1651235', 'ILMN_1651236', 'ILMN_1651237', 'ILMN_1651238', 'ILMN_1651249', 'ILMN_1651253', 'ILMN_1651254', 'ILMN_1651259', 'ILMN_1651260', 'ILMN_1651262']\n",
      "    To get the mapping from those identifiers to actual gene symbols, we extracted the gene annotation data from a series in the GEO database, and saved it to a Python dictionary. Please read the dictionary, and decide which key stores the identifiers, and which key stores the gene symbols. Please strictly follow this format in your answer:\n",
      "    identifier_key = 'key_name1'\n",
      "    gene_symbol_key = 'key_name2'\n",
      "\n",
      "    Gene annotation dictionary:\n",
      "    {'ID': ['ILMN_1725881', 'ILMN_1910180', 'ILMN_1804174', 'ILMN_1796063', 'ILMN_1811966'], 'nuID': ['rp13_p1x6D80lNLk3c', 'NEX0oqCV8.er4HVfU4', 'KyqQynMZxJcruyylEU', 'xXl7eXuF7sbPEp.KFI', '9ckqJrioiaej9_ajeQ'], 'Species': ['Homo sapiens', 'Homo sapiens', 'Homo sapiens', 'Homo sapiens', 'Homo sapiens'], 'Source': ['RefSeq', 'Unigene', 'RefSeq', 'RefSeq', 'RefSeq'], 'Search_Key': ['ILMN_44919', 'ILMN_127219', 'ILMN_139282', 'ILMN_5006', 'ILMN_38756'], 'Transcript': ['ILMN_44919', 'ILMN_127219', 'ILMN_139282', 'ILMN_5006', 'ILMN_38756'], 'ILMN_Gene': ['LOC23117', 'HS.575038', 'FCGR2B', 'TRIM44', 'LOC653895'], 'Source_Reference_ID': ['XM_933824.1', 'Hs.575038', 'XM_938851.1', 'NM_017583.3', 'XM_936379.1'], 'RefSeq_ID': ['XM_933824.1', nan, 'XM_938851.1', 'NM_017583.3', 'XM_936379.1'], 'Unigene_ID': [nan, 'Hs.575038', nan, nan, nan], 'Entrez_Gene_ID': [23117.0, nan, 2213.0, 54765.0, 653895.0], 'GI': [89040007.0, 10437021.0, 88952550.0, 29029528.0, 89033487.0], 'Accession': ['XM_933824.1', 'AK024680', 'XM_938851.1', 'NM_017583.3', 'XM_936379.1'], 'Symbol': ['LOC23117', nan, 'FCGR2B', 'TRIM44', 'LOC653895'], 'Protein_Product': ['XP_938917.1', nan, 'XP_943944.1', 'NP_060053.2', 'XP_941472.1'], 'Array_Address_Id': [1710221.0, 5900364.0, 2480717.0, 1300239.0, 4480719.0], 'Probe_Type': ['I', 'S', 'I', 'S', 'S'], 'Probe_Start': [122.0, 1409.0, 1643.0, 2901.0, 25.0], 'SEQUENCE': ['GGCTCCTCTTTGGGCTCCTACTGGAATTTATCAGCCATCAGTGCATCTCT', 'ACACCTTCAGGAGGGAAGCCCTTATTTCTGGGTTGAACTCCCCTTCCATG', 'TAGGGGCAATAGGCTATACGCTACAGCCTAGGTGTGTAGTAGGCCACACC', 'CCTGCCTGTCTGCCTGTGACCTGTGTACGTATTACAGGCTTTAGGACCAG', 'CTAGCAGGGAGCGGTGAGGGAGAGCGGCTGGATTTCTTGCGGGATCTGCA'], 'Chromosome': ['16', nan, nan, '11', nan], 'Probe_Chr_Orientation': ['-', nan, nan, '+', nan], 'Probe_Coordinates': ['21766363-21766363:21769901-21769949', nan, nan, '35786070-35786119', nan], 'Cytoband': ['16p12.2a', nan, '1q23.3b', '11p13a', '10q11.23b'], 'Definition': ['PREDICTED: Homo sapiens KIAA0220-like protein, transcript variant 11 (LOC23117), mRNA.', 'Homo sapiens cDNA: FLJ21027 fis, clone CAE07110', 'PREDICTED: Homo sapiens Fc fragment of IgG, low affinity IIb, receptor (CD32) (FCGR2B), mRNA.', 'Homo sapiens tripartite motif-containing 44 (TRIM44), mRNA.', 'PREDICTED: Homo sapiens similar to protein geranylgeranyltransferase type I, beta subunit (LOC653895), mRNA.'], 'Ontology_Component': [nan, nan, nan, 'intracellular [goid 5622] [evidence IEA]', nan], 'Ontology_Process': [nan, nan, nan, nan, nan], 'Ontology_Function': [nan, nan, nan, 'zinc ion binding [goid 8270] [evidence IEA]; metal ion binding [goid 46872] [evidence IEA]', nan], 'Synonyms': [nan, nan, nan, 'MGC3490; MC7; HSA249128; DIPB', nan], 'Obsolete_Probe_Id': [nan, nan, nan, 'MGC3490; MC7; HSA249128; DIPB', nan], 'GB_ACC': ['XM_933824.1', 'AK024680', 'XM_938851.1', 'NM_017583.3', 'XM_936379.1']}\n",
      "    \n"
     ]
    }
   ],
   "source": [
    "if requires_gene_mapping:\n",
    "    print(f'''\n",
    "    As a biomedical research team, we are analyzing a gene expression dataset, and find that its row headers are some identifiers related to genes:\n",
    "    {gene_row_ids}\n",
    "    To get the mapping from those identifiers to actual gene symbols, we extracted the gene annotation data from a series in the GEO database, and saved it to a Python dictionary. Please read the dictionary, and decide which key stores the identifiers, and which key stores the gene symbols. Please strictly follow this format in your answer:\n",
    "    identifier_key = 'key_name1'\n",
    "    gene_symbol_key = 'key_name2'\n",
    "\n",
    "    Gene annotation dictionary:\n",
    "    {gene_annotation_summary}\n",
    "    ''')"
   ]
  },
  {
   "cell_type": "code",
   "execution_count": 38,
   "metadata": {
    "ExecuteTime": {
     "end_time": "2024-01-10T21:40:18.245811669Z",
     "start_time": "2024-01-10T21:40:18.234480277Z"
    },
    "collapsed": false
   },
   "outputs": [],
   "source": [
    "if requires_gene_mapping:\n",
    "    identifier_key = 'ID'\n",
    "    gene_symbol_key = 'Symbol'\n",
    "    gene_mapping = get_gene_mapping(gene_annotation, identifier_key, gene_symbol_key)\n",
    "    genetic_data = apply_gene_mapping(genetic_data, gene_mapping)"
   ]
  },
  {
   "cell_type": "code",
   "execution_count": 39,
   "metadata": {
    "ExecuteTime": {
     "end_time": "2024-01-10T21:40:20.559860684Z",
     "start_time": "2024-01-10T21:40:18.521711414Z"
    },
    "collapsed": false
   },
   "outputs": [],
   "source": [
    "if NORMALIZE_GENE:\n",
    "    genetic_data = normalize_gene_symbols_in_index(genetic_data)"
   ]
  },
  {
   "cell_type": "code",
   "execution_count": 40,
   "metadata": {
    "ExecuteTime": {
     "end_time": "2024-01-10T21:40:20.572778564Z",
     "start_time": "2024-01-10T21:40:20.565101065Z"
    },
    "collapsed": false
   },
   "outputs": [],
   "source": [
    "merged_data = geo_merge_clinical_genetic_data(selected_clinical_data, genetic_data)\n",
    "# The preprocessing runs through, which means is_available should be True\n",
    "is_available = True"
   ]
  },
  {
   "cell_type": "code",
   "execution_count": 41,
   "metadata": {
    "ExecuteTime": {
     "end_time": "2024-01-10T21:40:20.595385887Z",
     "start_time": "2024-01-10T21:40:20.574630883Z"
    },
    "collapsed": false
   },
   "outputs": [
    {
     "name": "stdout",
     "output_type": "stream",
     "text": [
      "The merged dataset contains 133 samples.\n"
     ]
    }
   ],
   "source": [
    "print(f\"The merged dataset contains {len(merged_data)} samples.\")"
   ]
  },
  {
   "cell_type": "code",
   "execution_count": 42,
   "metadata": {
    "ExecuteTime": {
     "end_time": "2024-01-10T21:40:20.595934649Z",
     "start_time": "2024-01-10T21:40:20.580408525Z"
    },
    "collapsed": false
   },
   "outputs": [
    {
     "name": "stdout",
     "output_type": "stream",
     "text": [
      "For the feature 'Anorexia-Nervosa', the least common label is '1.0' with 15 occurrences. This represents 11.28% of the dataset.\n",
      "The distribution of the feature 'Anorexia-Nervosa' in this dataset is fine.\n",
      "\n",
      "Quartiles for 'Age':\n",
      "  25%: 30.043835\n",
      "  50% (Median): 45.224657\n",
      "  75%: 54.424657\n",
      "Min: 16.183561\n",
      "Max: 84.057534\n",
      "The distribution of the feature 'Age' in this dataset is fine.\n",
      "\n",
      "For the feature 'Gender', the least common label is '0.0' with 36 occurrences. This represents 27.07% of the dataset.\n",
      "The distribution of the feature 'Gender' in this dataset is fine.\n",
      "\n"
     ]
    },
    {
     "data": {
      "text/plain": [
       "False"
      ]
     },
     "execution_count": 42,
     "metadata": {},
     "output_type": "execute_result"
    }
   ],
   "source": [
    "is_trait_biased, merged_data = judge_and_remove_biased_features(merged_data, TRAIT, trait_type=trait_type)\n",
    "is_trait_biased"
   ]
  },
  {
   "cell_type": "code",
   "execution_count": 43,
   "metadata": {
    "ExecuteTime": {
     "end_time": "2024-01-10T21:40:20.596022151Z",
     "start_time": "2024-01-10T21:40:20.588443384Z"
    },
    "collapsed": false
   },
   "outputs": [
    {
     "name": "stdout",
     "output_type": "stream",
     "text": [
      "A new JSON file was created at: C:/Users/arthu/OneDrive/Documents/GitHub/output2\\Arthur\\Anorexia-Nervosa\\cohort_info.json\n"
     ]
    }
   ],
   "source": [
    "if is_available:\n",
    "    save_cohort_info(cohort, JSON_PATH, is_available, is_trait_biased, merged_data, note='')\n",
    "else:\n",
    "    save_cohort_info(cohort, JSON_PATH, is_available)"
   ]
  },
  {
   "cell_type": "code",
   "execution_count": 44,
   "metadata": {
    "ExecuteTime": {
     "end_time": "2024-01-10T21:40:20.681345468Z",
     "start_time": "2024-01-10T21:40:20.591286171Z"
    },
    "collapsed": false
   },
   "outputs": [],
   "source": [
    "merged_data.head()\n",
    "if not is_trait_biased:\n",
    "    merged_data.to_csv(os.path.join(OUTPUT_DIR, cohort + '.csv'), index=False)"
   ]
  },
  {
   "cell_type": "markdown",
   "metadata": {
    "ExecuteTime": {
     "end_time": "2023-12-31T03:58:22.271683755Z",
     "start_time": "2023-12-31T03:58:22.246557674Z"
    },
    "id": "-MTPhRGxJV7I"
   },
   "source": [
    "### 3. Do regression & Cross Validation"
   ]
  },
  {
   "cell_type": "code",
   "execution_count": 50,
   "metadata": {
    "ExecuteTime": {
     "end_time": "2024-01-10T21:40:20.694597045Z",
     "start_time": "2024-01-10T21:40:20.642161512Z"
    },
    "collapsed": false
   },
   "outputs": [
    {
     "data": {
      "text/html": [
       "<div>\n",
       "<style scoped>\n",
       "    .dataframe tbody tr th:only-of-type {\n",
       "        vertical-align: middle;\n",
       "    }\n",
       "\n",
       "    .dataframe tbody tr th {\n",
       "        vertical-align: top;\n",
       "    }\n",
       "\n",
       "    .dataframe thead th {\n",
       "        text-align: right;\n",
       "    }\n",
       "</style>\n",
       "<table border=\"1\" class=\"dataframe\">\n",
       "  <thead>\n",
       "    <tr style=\"text-align: right;\">\n",
       "      <th></th>\n",
       "      <th>cohort_id</th>\n",
       "      <th>is_usable</th>\n",
       "      <th>is_available</th>\n",
       "      <th>is_biased</th>\n",
       "      <th>has_age</th>\n",
       "      <th>has_gender</th>\n",
       "      <th>sample_size</th>\n",
       "      <th>note</th>\n",
       "    </tr>\n",
       "  </thead>\n",
       "  <tbody>\n",
       "    <tr>\n",
       "      <th>0</th>\n",
       "      <td>GSE60190</td>\n",
       "      <td>True</td>\n",
       "      <td>True</td>\n",
       "      <td>False</td>\n",
       "      <td>False</td>\n",
       "      <td>True</td>\n",
       "      <td>133</td>\n",
       "      <td></td>\n",
       "    </tr>\n",
       "  </tbody>\n",
       "</table>\n",
       "</div>"
      ],
      "text/plain": [
       "  cohort_id  is_usable  is_available  is_biased  has_age  has_gender  \\\n",
       "0  GSE60190       True          True      False    False        True   \n",
       "\n",
       "   sample_size note  \n",
       "0          133       "
      ]
     },
     "execution_count": 50,
     "metadata": {},
     "output_type": "execute_result"
    }
   ],
   "source": [
    "# Check the information of usable cohorts\n",
    "best_cohort, ranked_df = filter_and_rank_cohorts(JSON_PATH)\n",
    "ranked_df"
   ]
  },
  {
   "cell_type": "code",
   "execution_count": 51,
   "metadata": {
    "ExecuteTime": {
     "end_time": "2024-01-10T21:40:20.907514912Z",
     "start_time": "2024-01-10T21:40:20.907178250Z"
    },
    "collapsed": false
   },
   "outputs": [],
   "source": [
    "# If both age and gender have available cohorts, select 'age' as the condition.\n",
    "condition = 'Age'\n",
    "filter_column = 'has_' + condition.lower()\n",
    "\n",
    "condition_best_cohort, condition_ranked_df = filter_and_rank_cohorts(JSON_PATH, filter_column)\n",
    "condition_best_cohort"
   ]
  },
  {
   "cell_type": "code",
   "execution_count": 52,
   "metadata": {
    "ExecuteTime": {
     "end_time": "2024-01-10T21:40:21.120075804Z",
     "start_time": "2024-01-10T21:40:21.109376558Z"
    },
    "collapsed": false
   },
   "outputs": [
    {
     "data": {
      "text/html": [
       "<div>\n",
       "<style scoped>\n",
       "    .dataframe tbody tr th:only-of-type {\n",
       "        vertical-align: middle;\n",
       "    }\n",
       "\n",
       "    .dataframe tbody tr th {\n",
       "        vertical-align: top;\n",
       "    }\n",
       "\n",
       "    .dataframe thead th {\n",
       "        text-align: right;\n",
       "    }\n",
       "</style>\n",
       "<table border=\"1\" class=\"dataframe\">\n",
       "  <thead>\n",
       "    <tr style=\"text-align: right;\">\n",
       "      <th></th>\n",
       "      <th>cohort_id</th>\n",
       "      <th>is_usable</th>\n",
       "      <th>is_available</th>\n",
       "      <th>is_biased</th>\n",
       "      <th>has_age</th>\n",
       "      <th>has_gender</th>\n",
       "      <th>sample_size</th>\n",
       "      <th>note</th>\n",
       "    </tr>\n",
       "  </thead>\n",
       "  <tbody>\n",
       "  </tbody>\n",
       "</table>\n",
       "</div>"
      ],
      "text/plain": [
       "Empty DataFrame\n",
       "Columns: [cohort_id, is_usable, is_available, is_biased, has_age, has_gender, sample_size, note]\n",
       "Index: []"
      ]
     },
     "execution_count": 52,
     "metadata": {},
     "output_type": "execute_result"
    }
   ],
   "source": [
    "condition_ranked_df.head()"
   ]
  }
 ],
 "metadata": {
  "colab": {
   "provenance": []
  },
  "kernelspec": {
   "display_name": "Python 3 (ipykernel)",
   "language": "python",
   "name": "python3"
  },
  "language_info": {
   "codemirror_mode": {
    "name": "ipython",
    "version": 3
   },
   "file_extension": ".py",
   "mimetype": "text/x-python",
   "name": "python",
   "nbconvert_exporter": "python",
   "pygments_lexer": "ipython3",
   "version": "3.11.9"
  }
 },
 "nbformat": 4,
 "nbformat_minor": 0
}
