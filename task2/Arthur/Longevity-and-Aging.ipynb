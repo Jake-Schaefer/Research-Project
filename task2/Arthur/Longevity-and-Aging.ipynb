{
 "cells": [
  {
   "cell_type": "markdown",
   "metadata": {
    "collapsed": false
   },
   "source": [
    "# Gold standard curation: Preprocessing and single-step regression"
   ]
  },
  {
   "cell_type": "markdown",
   "metadata": {
    "collapsed": false
   },
   "source": [
    "In this stage of gold standard curation, we will do the data preprocessing, selection, and single-step regression for the 153 traits in our question set. The workflow consists of the following steps:\n",
    "\n",
    "1. Preprocess all the cohorts related to this trait. Each cohort should be converted to a tabular form and saved to a csv file, with columns being genetic factors, the trait, and age, gender if available;\n",
    "2. If there exists at least one cohort with age or gender information, conduct regression analysis with genetic features together with age or gender as the regressors.\n"
   ]
  },
  {
   "cell_type": "markdown",
   "metadata": {
    "collapsed": false
   },
   "source": [
    "# 1. Basic setup"
   ]
  },
  {
   "cell_type": "code",
   "execution_count": 2,
   "metadata": {
    "ExecuteTime": {
     "end_time": "2024-01-02T01:02:53.240839272Z",
     "start_time": "2024-01-02T01:02:53.240575109Z"
    },
    "collapsed": false
   },
   "outputs": [
    {
     "name": "stdout",
     "output_type": "stream",
     "text": [
      "utils.py has been loaded\n"
     ]
    }
   ],
   "source": [
    "import os\n",
    "import sys\n",
    "\n",
    "sys.path.append('..')\n",
    "from utils import *\n",
    "\n",
    "# Set your preferred name\n",
    "USER = \"Arthur\"\n",
    "# Set the data and output directories\n",
    "DATA_ROOT = 'C:/Users/arthu/Downloads'\n",
    "OUTPUT_ROOT = 'C:/Users/arthu/OneDrive/Documents/GitHub/output2'\n",
    "TRAIT = 'Longevity-and-Aging'\n",
    "OUTPUT_DIR = os.path.join(OUTPUT_ROOT, USER, '-'.join(TRAIT.split()))\n",
    "JSON_PATH = os.path.join(OUTPUT_DIR, \"cohort_info.json\")\n",
    "if not os.path.exists(OUTPUT_DIR):\n",
    "    os.makedirs(OUTPUT_DIR, exist_ok=True)\n",
    "\n",
    "# Gene symbol normalization may take 1-2 minutes. You may set it to False for debugging.\n",
    "NORMALIZE_GENE = True"
   ]
  },
  {
   "cell_type": "code",
   "execution_count": 3,
   "metadata": {
    "ExecuteTime": {
     "end_time": "2024-01-02T01:02:53.501910797Z",
     "start_time": "2024-01-02T01:02:53.496254990Z"
    },
    "colab": {
     "base_uri": "https://localhost:8080/"
    },
    "id": "jMTdsU43vVg3",
    "outputId": "38886111-f442-44b4-8398-96bf384d7abd"
   },
   "outputs": [
    {
     "data": {
      "text/plain": [
       "\"import os\\nfrom google.colab import drive\\n\\ndrive.mount('/content/drive', force_remount=True)\\nproj_dir = '/content/drive/MyDrive/AI4Science_Public'\\nos.chdir(proj_dir)\""
      ]
     },
     "execution_count": 3,
     "metadata": {},
     "output_type": "execute_result"
    }
   ],
   "source": [
    "# This cell is only for use on Google Colab. Skip it if you run your code in other environments\n",
    "\n",
    "\"\"\"import os\n",
    "from google.colab import drive\n",
    "\n",
    "drive.mount('/content/drive', force_remount=True)\n",
    "proj_dir = '/content/drive/MyDrive/AI4Science_Public'\n",
    "os.chdir(proj_dir)\"\"\""
   ]
  },
  {
   "cell_type": "markdown",
   "metadata": {
    "collapsed": false
   },
   "source": [
    "# 2. Data preprocessing and selection"
   ]
  },
  {
   "cell_type": "markdown",
   "metadata": {
    "collapsed": false
   },
   "source": [
    "## 2.1. The TCGA Xena dataset"
   ]
  },
  {
   "cell_type": "markdown",
   "metadata": {
    "collapsed": false
   },
   "source": [
    "In TCGA Xena, there is either zero or one cohort related to the trait. We search the names of subdirectories to see if any matches the trait. If a match is found, we directly obtain the file paths."
   ]
  },
  {
   "cell_type": "code",
   "execution_count": 3,
   "metadata": {
    "ExecuteTime": {
     "end_time": "2024-01-02T01:02:56.462746833Z",
     "start_time": "2024-01-02T01:02:55.818581842Z"
    },
    "collapsed": false
   },
   "outputs": [
    {
     "data": {
      "text/plain": [
       "['TCGA_Cervical_Cancer_(CESC)']"
      ]
     },
     "execution_count": 3,
     "metadata": {},
     "output_type": "execute_result"
    }
   ],
   "source": [
    "import os\n",
    "from utils import *\n",
    "\n",
    "dataset = 'TCGA'\n",
    "dataset_dir = os.path.join(DATA_ROOT, dataset)\n",
    "os.listdir(dataset_dir)[:]"
   ]
  },
  {
   "cell_type": "markdown",
   "metadata": {
    "collapsed": false
   },
   "source": [
    "If no match is found, jump directly to GEO in Part 2.2"
   ]
  },
  {
   "cell_type": "code",
   "execution_count": 27,
   "metadata": {
    "collapsed": false
   },
   "outputs": [],
   "source": [
    "trait_subdir = \"TCGA_Lung_Cancer_(LUNG)\"\n",
    "cohort = 'Xena'\n",
    "# All the cancer traits in Xena are binary\n",
    "trait_type = 'binary'\n",
    "# Once a relevant cohort is found in Xena, we can generally assume the gene and clinical data are available\n",
    "is_available = True\n",
    "\n",
    "clinical_data_file = os.path.join(dataset_dir, trait_subdir, 'TCGA.LUNG.sampleMap_LUNG_clinicalMatrix')\n",
    "genetic_data_file = os.path.join(dataset_dir, trait_subdir, 'TCGA.LUNG.sampleMap_HiSeqV2_PANCAN.gz')"
   ]
  },
  {
   "cell_type": "code",
   "execution_count": 28,
   "metadata": {
    "id": "MudwB-_iz7sc"
   },
   "outputs": [
    {
     "ename": "ParserError",
     "evalue": "Error tokenizing data. C error: Calling read(nbytes) on source failed. Try engine='python'.",
     "output_type": "error",
     "traceback": [
      "\u001b[0;31m---------------------------------------------------------------------------\u001b[0m",
      "\u001b[0;31mParserError\u001b[0m                               Traceback (most recent call last)",
      "\u001b[1;32m/home/yxcheng/AI4Science_gold_standard/stage1/Yuxuan/Psoriasis.ipynb 单元格 12\u001b[0m line \u001b[0;36m4\n\u001b[1;32m      <a href='vscode-notebook-cell://ssh-remote%2B218.199.69.68/home/yxcheng/AI4Science_gold_standard/stage1/Yuxuan/Psoriasis.ipynb#X14sdnNjb2RlLXJlbW90ZQ%3D%3D?line=0'>1</a>\u001b[0m \u001b[39mimport\u001b[39;00m \u001b[39mpandas\u001b[39;00m \u001b[39mas\u001b[39;00m \u001b[39mpd\u001b[39;00m\n\u001b[1;32m      <a href='vscode-notebook-cell://ssh-remote%2B218.199.69.68/home/yxcheng/AI4Science_gold_standard/stage1/Yuxuan/Psoriasis.ipynb#X14sdnNjb2RlLXJlbW90ZQ%3D%3D?line=2'>3</a>\u001b[0m clinical_data \u001b[39m=\u001b[39m pd\u001b[39m.\u001b[39mread_csv(clinical_data_file, sep\u001b[39m=\u001b[39m\u001b[39m'\u001b[39m\u001b[39m\\t\u001b[39;00m\u001b[39m'\u001b[39m, index_col\u001b[39m=\u001b[39m\u001b[39m0\u001b[39m)\n\u001b[0;32m----> <a href='vscode-notebook-cell://ssh-remote%2B218.199.69.68/home/yxcheng/AI4Science_gold_standard/stage1/Yuxuan/Psoriasis.ipynb#X14sdnNjb2RlLXJlbW90ZQ%3D%3D?line=3'>4</a>\u001b[0m genetic_data \u001b[39m=\u001b[39m pd\u001b[39m.\u001b[39;49mread_csv(genetic_data_file, compression\u001b[39m=\u001b[39;49m\u001b[39m'\u001b[39;49m\u001b[39mgzip\u001b[39;49m\u001b[39m'\u001b[39;49m, sep\u001b[39m=\u001b[39;49m\u001b[39m'\u001b[39;49m\u001b[39m\\t\u001b[39;49;00m\u001b[39m'\u001b[39;49m, index_col\u001b[39m=\u001b[39;49m\u001b[39m0\u001b[39;49m)\n\u001b[1;32m      <a href='vscode-notebook-cell://ssh-remote%2B218.199.69.68/home/yxcheng/AI4Science_gold_standard/stage1/Yuxuan/Psoriasis.ipynb#X14sdnNjb2RlLXJlbW90ZQ%3D%3D?line=4'>5</a>\u001b[0m age_col \u001b[39m=\u001b[39m gender_col \u001b[39m=\u001b[39m \u001b[39mNone\u001b[39;00m\n",
      "File \u001b[0;32m~/anaconda3/envs/ai4sci/lib/python3.10/site-packages/pandas/io/parsers/readers.py:948\u001b[0m, in \u001b[0;36mread_csv\u001b[0;34m(filepath_or_buffer, sep, delimiter, header, names, index_col, usecols, dtype, engine, converters, true_values, false_values, skipinitialspace, skiprows, skipfooter, nrows, na_values, keep_default_na, na_filter, verbose, skip_blank_lines, parse_dates, infer_datetime_format, keep_date_col, date_parser, date_format, dayfirst, cache_dates, iterator, chunksize, compression, thousands, decimal, lineterminator, quotechar, quoting, doublequote, escapechar, comment, encoding, encoding_errors, dialect, on_bad_lines, delim_whitespace, low_memory, memory_map, float_precision, storage_options, dtype_backend)\u001b[0m\n\u001b[1;32m    935\u001b[0m kwds_defaults \u001b[39m=\u001b[39m _refine_defaults_read(\n\u001b[1;32m    936\u001b[0m     dialect,\n\u001b[1;32m    937\u001b[0m     delimiter,\n\u001b[0;32m   (...)\u001b[0m\n\u001b[1;32m    944\u001b[0m     dtype_backend\u001b[39m=\u001b[39mdtype_backend,\n\u001b[1;32m    945\u001b[0m )\n\u001b[1;32m    946\u001b[0m kwds\u001b[39m.\u001b[39mupdate(kwds_defaults)\n\u001b[0;32m--> 948\u001b[0m \u001b[39mreturn\u001b[39;00m _read(filepath_or_buffer, kwds)\n",
      "File \u001b[0;32m~/anaconda3/envs/ai4sci/lib/python3.10/site-packages/pandas/io/parsers/readers.py:617\u001b[0m, in \u001b[0;36m_read\u001b[0;34m(filepath_or_buffer, kwds)\u001b[0m\n\u001b[1;32m    614\u001b[0m     \u001b[39mreturn\u001b[39;00m parser\n\u001b[1;32m    616\u001b[0m \u001b[39mwith\u001b[39;00m parser:\n\u001b[0;32m--> 617\u001b[0m     \u001b[39mreturn\u001b[39;00m parser\u001b[39m.\u001b[39;49mread(nrows)\n",
      "File \u001b[0;32m~/anaconda3/envs/ai4sci/lib/python3.10/site-packages/pandas/io/parsers/readers.py:1748\u001b[0m, in \u001b[0;36mTextFileReader.read\u001b[0;34m(self, nrows)\u001b[0m\n\u001b[1;32m   1741\u001b[0m nrows \u001b[39m=\u001b[39m validate_integer(\u001b[39m\"\u001b[39m\u001b[39mnrows\u001b[39m\u001b[39m\"\u001b[39m, nrows)\n\u001b[1;32m   1742\u001b[0m \u001b[39mtry\u001b[39;00m:\n\u001b[1;32m   1743\u001b[0m     \u001b[39m# error: \"ParserBase\" has no attribute \"read\"\u001b[39;00m\n\u001b[1;32m   1744\u001b[0m     (\n\u001b[1;32m   1745\u001b[0m         index,\n\u001b[1;32m   1746\u001b[0m         columns,\n\u001b[1;32m   1747\u001b[0m         col_dict,\n\u001b[0;32m-> 1748\u001b[0m     ) \u001b[39m=\u001b[39m \u001b[39mself\u001b[39;49m\u001b[39m.\u001b[39;49m_engine\u001b[39m.\u001b[39;49mread(  \u001b[39m# type: ignore[attr-defined]\u001b[39;49;00m\n\u001b[1;32m   1749\u001b[0m         nrows\n\u001b[1;32m   1750\u001b[0m     )\n\u001b[1;32m   1751\u001b[0m \u001b[39mexcept\u001b[39;00m \u001b[39mException\u001b[39;00m:\n\u001b[1;32m   1752\u001b[0m     \u001b[39mself\u001b[39m\u001b[39m.\u001b[39mclose()\n",
      "File \u001b[0;32m~/anaconda3/envs/ai4sci/lib/python3.10/site-packages/pandas/io/parsers/c_parser_wrapper.py:234\u001b[0m, in \u001b[0;36mCParserWrapper.read\u001b[0;34m(self, nrows)\u001b[0m\n\u001b[1;32m    232\u001b[0m \u001b[39mtry\u001b[39;00m:\n\u001b[1;32m    233\u001b[0m     \u001b[39mif\u001b[39;00m \u001b[39mself\u001b[39m\u001b[39m.\u001b[39mlow_memory:\n\u001b[0;32m--> 234\u001b[0m         chunks \u001b[39m=\u001b[39m \u001b[39mself\u001b[39;49m\u001b[39m.\u001b[39;49m_reader\u001b[39m.\u001b[39;49mread_low_memory(nrows)\n\u001b[1;32m    235\u001b[0m         \u001b[39m# destructive to chunks\u001b[39;00m\n\u001b[1;32m    236\u001b[0m         data \u001b[39m=\u001b[39m _concatenate_chunks(chunks)\n",
      "File \u001b[0;32mparsers.pyx:843\u001b[0m, in \u001b[0;36mpandas._libs.parsers.TextReader.read_low_memory\u001b[0;34m()\u001b[0m\n",
      "File \u001b[0;32mparsers.pyx:904\u001b[0m, in \u001b[0;36mpandas._libs.parsers.TextReader._read_rows\u001b[0;34m()\u001b[0m\n",
      "File \u001b[0;32mparsers.pyx:879\u001b[0m, in \u001b[0;36mpandas._libs.parsers.TextReader._tokenize_rows\u001b[0;34m()\u001b[0m\n",
      "File \u001b[0;32mparsers.pyx:890\u001b[0m, in \u001b[0;36mpandas._libs.parsers.TextReader._check_tokenize_status\u001b[0;34m()\u001b[0m\n",
      "File \u001b[0;32mparsers.pyx:2058\u001b[0m, in \u001b[0;36mpandas._libs.parsers.raise_parser_error\u001b[0;34m()\u001b[0m\n",
      "\u001b[0;31mParserError\u001b[0m: Error tokenizing data. C error: Calling read(nbytes) on source failed. Try engine='python'."
     ]
    }
   ],
   "source": [
    "import pandas as pd\n",
    "\n",
    "clinical_data = pd.read_csv(clinical_data_file, sep='\\t', index_col=0)\n",
    "genetic_data = pd.read_csv(genetic_data_file, compression='gzip', sep='\\t', index_col=0)\n",
    "age_col = gender_col = None"
   ]
  },
  {
   "cell_type": "code",
   "execution_count": null,
   "metadata": {
    "collapsed": false
   },
   "outputs": [],
   "source": [
    "_, clinical_data_cols = check_rows_and_columns(clinical_data)"
   ]
  },
  {
   "cell_type": "code",
   "execution_count": null,
   "metadata": {
    "collapsed": false
   },
   "outputs": [
    {
     "data": {
      "text/plain": [
       "['ABSOLUTE_Ploidy',\n",
       " 'ABSOLUTE_Purity',\n",
       " 'AKT1',\n",
       " 'ALK_translocation',\n",
       " 'BRAF',\n",
       " 'CBL',\n",
       " 'CTNNB1',\n",
       " 'Canonical_mut_in_KRAS_EGFR_ALK',\n",
       " 'Cnncl_mt_n_KRAS_EGFR_ALK_RET_ROS1_BRAF_ERBB2_HRAS_NRAS_AKT1_MAP2',\n",
       " 'EGFR']"
      ]
     },
     "execution_count": 8,
     "metadata": {},
     "output_type": "execute_result"
    }
   ],
   "source": [
    "clinical_data_cols[:10]"
   ]
  },
  {
   "cell_type": "markdown",
   "metadata": {
    "ExecuteTime": {
     "end_time": "2023-12-28T20:20:11.841042813Z",
     "start_time": "2023-12-28T20:20:11.834458206Z"
    },
    "collapsed": false
   },
   "source": [
    "Read all the column names in the clinical dataset, to find the columns that record information about age or gender.\n",
    "Reference prompt:"
   ]
  },
  {
   "cell_type": "code",
   "execution_count": null,
   "metadata": {
    "collapsed": false
   },
   "outputs": [
    {
     "data": {
      "text/plain": [
       "\"\\nBelow is a list of column names from a biomedical dataset. Please examine it and identify the columns that are likely to contain information about patients' age. Additionally, please do the same for columns that may hold data on patients' gender. Please provide your answer by strictly following this format, without redundant words:\\ncandidate_age_cols = [col_name1, col_name2, ...]\\ncandidate_gender_cols = [col_name1, col_name2, ...]\\nIf no columns match a criterion, please provide an empty list.\\n\\nColumn names:\\n['ABSOLUTE_Ploidy', 'ABSOLUTE_Purity', 'AKT1', 'ALK_translocation', 'BRAF', 'CBL', 'CTNNB1', 'Canonical_mut_in_KRAS_EGFR_ALK', 'Cnncl_mt_n_KRAS_EGFR_ALK_RET_ROS1_BRAF_ERBB2_HRAS_NRAS_AKT1_MAP2', 'EGFR', 'ERBB2', 'ERBB4', 'Estimated_allele_fraction_of_a_clonal_varnt_prsnt_t_1_cpy_pr_cll', 'Expression_Subtype', 'HRAS', 'KRAS', 'MAP2K1', 'MET', 'NRAS', 'PIK3CA', 'PTPN11', 'Pathology', 'Pathology_Updated', 'RET_translocation', 'ROS1_translocation', 'STK11', 'WGS_as_of_20120731_0_no_1_yes', '_INTEGRATION', '_PANCAN_CNA_PANCAN_K8', '_PANCAN_Cluster_Cluster_PANCAN', '_PANCAN_DNAMethyl_PANCAN', '_PANCAN_RPPA_PANCAN_K8', '_PANCAN_UNC_RNAseq_PANCAN_K16', '_PANCAN_miRNA_PANCAN', '_PANCAN_mutation_PANCAN', '_PATIENT', '_cohort', '_primary_disease', '_primary_site', 'additional_pharmaceutical_therapy', 'additional_radiation_therapy', 'additional_surgery_locoregional_procedure', 'additional_surgery_metastatic_procedure', 'age_at_initial_pathologic_diagnosis', 'anatomic_neoplasm_subdivision', 'anatomic_neoplasm_subdivision_other', 'bcr_followup_barcode', 'bcr_patient_barcode', 'bcr_sample_barcode', 'days_to_additional_surgery_locoregional_procedure', 'days_to_additional_surgery_metastatic_procedure', 'days_to_birth', 'days_to_collection', 'days_to_death', 'days_to_initial_pathologic_diagnosis', 'days_to_last_followup', 'days_to_new_tumor_event_after_initial_treatment', 'disease_code', 'dlco_predictive_percent', 'eastern_cancer_oncology_group', 'egfr_mutation_performed', 'egfr_mutation_result', 'eml4_alk_translocation_method', 'eml4_alk_translocation_performed', 'followup_case_report_form_submission_reason', 'followup_treatment_success', 'form_completion_date', 'gender', 'histological_type', 'history_of_neoadjuvant_treatment', 'icd_10', 'icd_o_3_histology', 'icd_o_3_site', 'informed_consent_verified', 'initial_weight', 'intermediate_dimension', 'is_ffpe', 'karnofsky_performance_score', 'kras_gene_analysis_performed', 'kras_mutation_found', 'kras_mutation_result', 'location_in_lung_parenchyma', 'longest_dimension', 'lost_follow_up', 'new_neoplasm_event_type', 'new_tumor_event_after_initial_treatment', 'number_pack_years_smoked', 'oct_embedded', 'other_dx', 'pathologic_M', 'pathologic_N', 'pathologic_T', 'pathologic_stage', 'pathology_report_file_name', 'patient_id', 'performance_status_scale_timing', 'person_neoplasm_cancer_status', 'post_bronchodilator_fev1_fvc_percent', 'post_bronchodilator_fev1_percent', 'pre_bronchodilator_fev1_fvc_percent', 'pre_bronchodilator_fev1_percent', 'primary_therapy_outcome_success', 'progression_determined_by', 'project_code', 'pulmonary_function_test_performed', 'radiation_therapy', 'residual_tumor', 'sample_type', 'sample_type_id', 'shortest_dimension', 'stopped_smoking_year', 'system_version', 'targeted_molecular_therapy', 'tissue_prospective_collection_indicator', 'tissue_retrospective_collection_indicator', 'tissue_source_site', 'tobacco_smoking_history', 'tobacco_smoking_history_indicator', 'tumor_tissue_site', 'vial_number', 'vital_status', 'year_of_initial_pathologic_diagnosis', 'year_of_tobacco_smoking_onset', '_GENOMIC_ID_TCGA_LUNG_exp_HiSeqV2_exon', '_GENOMIC_ID_TCGA_LUNG_hMethyl27', '_GENOMIC_ID_TCGA_LUNG_mutation', '_GENOMIC_ID_TCGA_LUNG_exp_HiSeqV2_PANCAN', '_GENOMIC_ID_TCGA_LUNG_hMethyl450', '_GENOMIC_ID_TCGA_LUNG_gistic2thd', '_GENOMIC_ID_TCGA_LUNG_G4502A_07_3', '_GENOMIC_ID_TCGA_LUNG_exp_HiSeqV2', '_GENOMIC_ID_TCGA_LUNG_gistic2', '_GENOMIC_ID_TCGA_LUNG_RPPA_RBN']\\n\""
      ]
     },
     "execution_count": 9,
     "metadata": {},
     "output_type": "execute_result"
    }
   ],
   "source": [
    "f'''\n",
    "Below is a list of column names from a biomedical dataset. Please examine it and identify the columns that are likely to contain information about patients' age. Additionally, please do the same for columns that may hold data on patients' gender. Please provide your answer by strictly following this format, without redundant words:\n",
    "candidate_age_cols = [col_name1, col_name2, ...]\n",
    "candidate_gender_cols = [col_name1, col_name2, ...]\n",
    "If no columns match a criterion, please provide an empty list.\n",
    "\n",
    "Column names:\n",
    "{clinical_data_cols}\n",
    "'''"
   ]
  },
  {
   "cell_type": "code",
   "execution_count": null,
   "metadata": {
    "collapsed": false
   },
   "outputs": [],
   "source": [
    "candidate_age_cols = ['age_at_initial_pathologic_diagnosis', 'days_to_birth', 'days_to_collection', 'days_to_death', 'days_to_initial_pathologic_diagnosis', 'days_to_last_followup', 'days_to_new_tumor_event_after_initial_treatment', 'stopped_smoking_year', 'year_of_initial_pathologic_diagnosis', 'year_of_tobacco_smoking_onset']\n",
    "\n",
    "candidate_gender_cols = ['gender']"
   ]
  },
  {
   "cell_type": "markdown",
   "metadata": {
    "ExecuteTime": {
     "end_time": "2023-12-31T03:57:44.207565572Z",
     "start_time": "2023-12-31T03:57:44.202177544Z"
    },
    "collapsed": false
   },
   "source": [
    "Choose a single column from the candidate columns that record age and gender information respectively.\n",
    "If no column meets the requirement, keep 'age_col' or 'gender_col' to None"
   ]
  },
  {
   "cell_type": "code",
   "execution_count": null,
   "metadata": {
    "collapsed": false
   },
   "outputs": [
    {
     "data": {
      "text/plain": [
       "{'age_at_initial_pathologic_diagnosis': [70.0, 67.0, 79.0, 68.0, 66.0],\n",
       " 'days_to_birth': [-25752.0, -24532.0, -29068.0, -24868.0, -24411.0],\n",
       " 'days_to_collection': [nan, nan, nan, nan, nan],\n",
       " 'days_to_death': [nan, nan, '121', nan, nan],\n",
       " 'days_to_initial_pathologic_diagnosis': [0.0, 0.0, 0.0, 0.0, 0.0],\n",
       " 'days_to_last_followup': ['0', '1523', nan, '607', '426'],\n",
       " 'days_to_new_tumor_event_after_initial_treatment': [nan,\n",
       "  nan,\n",
       "  nan,\n",
       "  334.0,\n",
       "  183.0],\n",
       " 'stopped_smoking_year': [nan, nan, nan, nan, 1987.0],\n",
       " 'year_of_initial_pathologic_diagnosis': [2009.0,\n",
       "  2007.0,\n",
       "  2007.0,\n",
       "  2009.0,\n",
       "  2009.0],\n",
       " 'year_of_tobacco_smoking_onset': [nan, nan, nan, nan, 1963.0]}"
      ]
     },
     "execution_count": 11,
     "metadata": {},
     "output_type": "execute_result"
    }
   ],
   "source": [
    "preview_df(clinical_data[candidate_age_cols])"
   ]
  },
  {
   "cell_type": "code",
   "execution_count": null,
   "metadata": {
    "collapsed": false
   },
   "outputs": [],
   "source": [
    "age_col = 'age_at_initial_pathologic_diagnosis'"
   ]
  },
  {
   "cell_type": "code",
   "execution_count": null,
   "metadata": {
    "collapsed": false
   },
   "outputs": [
    {
     "data": {
      "text/plain": [
       "{'gender': ['MALE', 'MALE', 'FEMALE', 'MALE', 'MALE']}"
      ]
     },
     "execution_count": 13,
     "metadata": {},
     "output_type": "execute_result"
    }
   ],
   "source": [
    "preview_df(clinical_data[candidate_gender_cols])"
   ]
  },
  {
   "cell_type": "code",
   "execution_count": null,
   "metadata": {
    "collapsed": false
   },
   "outputs": [],
   "source": [
    "gender_col = 'gender'"
   ]
  },
  {
   "cell_type": "code",
   "execution_count": null,
   "metadata": {
    "collapsed": false
   },
   "outputs": [],
   "source": [
    "selected_clinical_data = xena_select_clinical_features(clinical_data, TRAIT, age_col, gender_col)"
   ]
  },
  {
   "cell_type": "code",
   "execution_count": null,
   "metadata": {
    "collapsed": false
   },
   "outputs": [],
   "source": [
    "if NORMALIZE_GENE:\n",
    "    genetic_data = normalize_gene_symbols_in_index(genetic_data)"
   ]
  },
  {
   "cell_type": "code",
   "execution_count": null,
   "metadata": {
    "collapsed": false
   },
   "outputs": [
    {
     "data": {
      "text/html": [
       "<div>\n",
       "<style scoped>\n",
       "    .dataframe tbody tr th:only-of-type {\n",
       "        vertical-align: middle;\n",
       "    }\n",
       "\n",
       "    .dataframe tbody tr th {\n",
       "        vertical-align: top;\n",
       "    }\n",
       "\n",
       "    .dataframe thead th {\n",
       "        text-align: right;\n",
       "    }\n",
       "</style>\n",
       "<table border=\"1\" class=\"dataframe\">\n",
       "  <thead>\n",
       "    <tr style=\"text-align: right;\">\n",
       "      <th></th>\n",
       "      <th>Lung-Cancer</th>\n",
       "      <th>Age</th>\n",
       "      <th>Gender</th>\n",
       "      <th>ARHGEF10L</th>\n",
       "      <th>HIF3A</th>\n",
       "      <th>RNF17</th>\n",
       "      <th>RNF10</th>\n",
       "      <th>RNF11</th>\n",
       "      <th>RNF13</th>\n",
       "      <th>GTF2IP1</th>\n",
       "      <th>...</th>\n",
       "      <th>TULP2</th>\n",
       "      <th>NPY5R</th>\n",
       "      <th>GNGT2</th>\n",
       "      <th>GNGT1</th>\n",
       "      <th>TULP3</th>\n",
       "      <th>PTRF</th>\n",
       "      <th>BCL6B</th>\n",
       "      <th>GSTK1</th>\n",
       "      <th>SELP</th>\n",
       "      <th>SELS</th>\n",
       "    </tr>\n",
       "    <tr>\n",
       "      <th>sampleID</th>\n",
       "      <th></th>\n",
       "      <th></th>\n",
       "      <th></th>\n",
       "      <th></th>\n",
       "      <th></th>\n",
       "      <th></th>\n",
       "      <th></th>\n",
       "      <th></th>\n",
       "      <th></th>\n",
       "      <th></th>\n",
       "      <th></th>\n",
       "      <th></th>\n",
       "      <th></th>\n",
       "      <th></th>\n",
       "      <th></th>\n",
       "      <th></th>\n",
       "      <th></th>\n",
       "      <th></th>\n",
       "      <th></th>\n",
       "      <th></th>\n",
       "      <th></th>\n",
       "    </tr>\n",
       "  </thead>\n",
       "  <tbody>\n",
       "    <tr>\n",
       "      <th>TCGA-05-4244-01</th>\n",
       "      <td>1</td>\n",
       "      <td>70.0</td>\n",
       "      <td>1.0</td>\n",
       "      <td>-0.056592</td>\n",
       "      <td>2.128674</td>\n",
       "      <td>-0.531035</td>\n",
       "      <td>-0.185972</td>\n",
       "      <td>-0.190878</td>\n",
       "      <td>-0.11891</td>\n",
       "      <td>-0.659794</td>\n",
       "      <td>...</td>\n",
       "      <td>0.015022</td>\n",
       "      <td>-1.155117</td>\n",
       "      <td>0.528367</td>\n",
       "      <td>2.75061</td>\n",
       "      <td>0.428423</td>\n",
       "      <td>-0.639586</td>\n",
       "      <td>-0.195527</td>\n",
       "      <td>-0.324695</td>\n",
       "      <td>0.193167</td>\n",
       "      <td>-0.572812</td>\n",
       "    </tr>\n",
       "    <tr>\n",
       "      <th>TCGA-05-4249-01</th>\n",
       "      <td>1</td>\n",
       "      <td>67.0</td>\n",
       "      <td>1.0</td>\n",
       "      <td>-0.569692</td>\n",
       "      <td>-0.318126</td>\n",
       "      <td>-0.531035</td>\n",
       "      <td>0.237428</td>\n",
       "      <td>0.011822</td>\n",
       "      <td>-0.00611</td>\n",
       "      <td>1.018406</td>\n",
       "      <td>...</td>\n",
       "      <td>-0.031778</td>\n",
       "      <td>-0.393117</td>\n",
       "      <td>1.632467</td>\n",
       "      <td>2.33551</td>\n",
       "      <td>-0.145577</td>\n",
       "      <td>-0.997486</td>\n",
       "      <td>-0.276027</td>\n",
       "      <td>-1.219395</td>\n",
       "      <td>1.850967</td>\n",
       "      <td>-0.471212</td>\n",
       "    </tr>\n",
       "    <tr>\n",
       "      <th>TCGA-05-4250-01</th>\n",
       "      <td>1</td>\n",
       "      <td>79.0</td>\n",
       "      <td>0.0</td>\n",
       "      <td>-0.899992</td>\n",
       "      <td>-0.918126</td>\n",
       "      <td>-0.531035</td>\n",
       "      <td>-0.621472</td>\n",
       "      <td>-0.454178</td>\n",
       "      <td>0.58719</td>\n",
       "      <td>-0.198894</td>\n",
       "      <td>...</td>\n",
       "      <td>-0.748878</td>\n",
       "      <td>-1.173917</td>\n",
       "      <td>1.966367</td>\n",
       "      <td>-1.28139</td>\n",
       "      <td>-0.374877</td>\n",
       "      <td>0.959514</td>\n",
       "      <td>0.714373</td>\n",
       "      <td>0.112305</td>\n",
       "      <td>-0.532833</td>\n",
       "      <td>-0.003812</td>\n",
       "    </tr>\n",
       "    <tr>\n",
       "      <th>TCGA-05-4382-01</th>\n",
       "      <td>1</td>\n",
       "      <td>68.0</td>\n",
       "      <td>1.0</td>\n",
       "      <td>0.667508</td>\n",
       "      <td>3.895974</td>\n",
       "      <td>-0.221535</td>\n",
       "      <td>-0.367272</td>\n",
       "      <td>0.131822</td>\n",
       "      <td>0.97629</td>\n",
       "      <td>-0.494994</td>\n",
       "      <td>...</td>\n",
       "      <td>1.013722</td>\n",
       "      <td>-1.587117</td>\n",
       "      <td>0.359267</td>\n",
       "      <td>2.59051</td>\n",
       "      <td>0.806623</td>\n",
       "      <td>0.812114</td>\n",
       "      <td>0.367373</td>\n",
       "      <td>-0.494595</td>\n",
       "      <td>-1.062233</td>\n",
       "      <td>0.108588</td>\n",
       "    </tr>\n",
       "    <tr>\n",
       "      <th>TCGA-05-4384-01</th>\n",
       "      <td>1</td>\n",
       "      <td>66.0</td>\n",
       "      <td>1.0</td>\n",
       "      <td>-0.316892</td>\n",
       "      <td>2.380374</td>\n",
       "      <td>0.156865</td>\n",
       "      <td>0.232828</td>\n",
       "      <td>0.054822</td>\n",
       "      <td>0.27059</td>\n",
       "      <td>0.128606</td>\n",
       "      <td>...</td>\n",
       "      <td>-0.060978</td>\n",
       "      <td>-0.435417</td>\n",
       "      <td>1.111467</td>\n",
       "      <td>-1.28139</td>\n",
       "      <td>-0.128477</td>\n",
       "      <td>0.110214</td>\n",
       "      <td>1.469373</td>\n",
       "      <td>0.194605</td>\n",
       "      <td>1.404667</td>\n",
       "      <td>-0.290712</td>\n",
       "    </tr>\n",
       "  </tbody>\n",
       "</table>\n",
       "<p>5 rows × 20533 columns</p>\n",
       "</div>"
      ],
      "text/plain": [
       "                 Lung-Cancer   Age  Gender  ARHGEF10L     HIF3A     RNF17  \\\n",
       "sampleID                                                                    \n",
       "TCGA-05-4244-01            1  70.0     1.0  -0.056592  2.128674 -0.531035   \n",
       "TCGA-05-4249-01            1  67.0     1.0  -0.569692 -0.318126 -0.531035   \n",
       "TCGA-05-4250-01            1  79.0     0.0  -0.899992 -0.918126 -0.531035   \n",
       "TCGA-05-4382-01            1  68.0     1.0   0.667508  3.895974 -0.221535   \n",
       "TCGA-05-4384-01            1  66.0     1.0  -0.316892  2.380374  0.156865   \n",
       "\n",
       "                    RNF10     RNF11    RNF13   GTF2IP1  ...     TULP2  \\\n",
       "sampleID                                                ...             \n",
       "TCGA-05-4244-01 -0.185972 -0.190878 -0.11891 -0.659794  ...  0.015022   \n",
       "TCGA-05-4249-01  0.237428  0.011822 -0.00611  1.018406  ... -0.031778   \n",
       "TCGA-05-4250-01 -0.621472 -0.454178  0.58719 -0.198894  ... -0.748878   \n",
       "TCGA-05-4382-01 -0.367272  0.131822  0.97629 -0.494994  ...  1.013722   \n",
       "TCGA-05-4384-01  0.232828  0.054822  0.27059  0.128606  ... -0.060978   \n",
       "\n",
       "                    NPY5R     GNGT2    GNGT1     TULP3      PTRF     BCL6B  \\\n",
       "sampleID                                                                     \n",
       "TCGA-05-4244-01 -1.155117  0.528367  2.75061  0.428423 -0.639586 -0.195527   \n",
       "TCGA-05-4249-01 -0.393117  1.632467  2.33551 -0.145577 -0.997486 -0.276027   \n",
       "TCGA-05-4250-01 -1.173917  1.966367 -1.28139 -0.374877  0.959514  0.714373   \n",
       "TCGA-05-4382-01 -1.587117  0.359267  2.59051  0.806623  0.812114  0.367373   \n",
       "TCGA-05-4384-01 -0.435417  1.111467 -1.28139 -0.128477  0.110214  1.469373   \n",
       "\n",
       "                    GSTK1      SELP      SELS  \n",
       "sampleID                                       \n",
       "TCGA-05-4244-01 -0.324695  0.193167 -0.572812  \n",
       "TCGA-05-4249-01 -1.219395  1.850967 -0.471212  \n",
       "TCGA-05-4250-01  0.112305 -0.532833 -0.003812  \n",
       "TCGA-05-4382-01 -0.494595 -1.062233  0.108588  \n",
       "TCGA-05-4384-01  0.194605  1.404667 -0.290712  \n",
       "\n",
       "[5 rows x 20533 columns]"
      ]
     },
     "execution_count": 17,
     "metadata": {},
     "output_type": "execute_result"
    }
   ],
   "source": [
    "merged_data = selected_clinical_data.join(genetic_data.T).dropna()\n",
    "merged_data.head()"
   ]
  },
  {
   "cell_type": "code",
   "execution_count": null,
   "metadata": {
    "collapsed": false
   },
   "outputs": [
    {
     "name": "stdout",
     "output_type": "stream",
     "text": [
      "The merged dataset contains 1100 samples.\n"
     ]
    }
   ],
   "source": [
    "print(f\"The merged dataset contains {len(merged_data)} samples.\")"
   ]
  },
  {
   "cell_type": "code",
   "execution_count": null,
   "metadata": {
    "collapsed": false
   },
   "outputs": [
    {
     "name": "stdout",
     "output_type": "stream",
     "text": [
      "For the feature 'Lung-Cancer', the least common label is '0' with 110 occurrences. This represents 10.00% of the dataset.\n",
      "The distribution of the feature 'Lung-Cancer' in this dataset is fine.\n",
      "\n",
      "Quartiles for 'Age':\n",
      "  25%: 60.0\n",
      "  50% (Median): 67.0\n",
      "  75%: 73.0\n",
      "Min: 38.0\n",
      "Max: 90.0\n",
      "The distribution of the feature 'Age' in this dataset is fine.\n",
      "\n",
      "For the feature 'Gender', the least common label is '0.0' with 443 occurrences. This represents 40.27% of the dataset.\n",
      "The distribution of the feature 'Gender' in this dataset is fine.\n",
      "\n"
     ]
    },
    {
     "data": {
      "text/plain": [
       "False"
      ]
     },
     "execution_count": 19,
     "metadata": {},
     "output_type": "execute_result"
    }
   ],
   "source": [
    "is_trait_biased, merge_data = judge_and_remove_biased_features(merged_data, TRAIT, trait_type=trait_type)\n",
    "is_trait_biased"
   ]
  },
  {
   "cell_type": "code",
   "execution_count": null,
   "metadata": {
    "collapsed": false
   },
   "outputs": [],
   "source": [
    "merged_data.head()\n",
    "if not is_trait_biased:\n",
    "    merge_data.to_csv(os.path.join(OUTPUT_DIR, cohort+'.csv'), index=False)"
   ]
  },
  {
   "cell_type": "code",
   "execution_count": null,
   "metadata": {
    "collapsed": false
   },
   "outputs": [
    {
     "name": "stdout",
     "output_type": "stream",
     "text": [
      "A new JSON file was created at: ../../output1/Yuxuan/Lung-Cancer/cohort_info.json\n"
     ]
    }
   ],
   "source": [
    "save_cohort_info(cohort, JSON_PATH, is_available, is_trait_biased, merged_data)"
   ]
  },
  {
   "cell_type": "markdown",
   "metadata": {
    "ExecuteTime": {
     "end_time": "2023-12-28T21:28:38.028916303Z",
     "start_time": "2023-12-28T21:28:38.016245426Z"
    },
    "collapsed": false
   },
   "source": [
    "## 2.2. The GEO dataset"
   ]
  },
  {
   "cell_type": "markdown",
   "metadata": {
    "ExecuteTime": {
     "end_time": "2023-12-31T03:25:23.253882615Z",
     "start_time": "2023-12-31T03:25:23.244062710Z"
    },
    "collapsed": false
   },
   "source": [
    "In GEO, there may be one or multiple cohorts for a trait. Each cohort is identified by an accession number. We iterate over all accession numbers in the corresponding subdirectory, preprocess the cohort data, and save them to csv files."
   ]
  },
  {
   "cell_type": "code",
   "execution_count": 3,
   "metadata": {
    "ExecuteTime": {
     "end_time": "2024-01-02T01:02:59.503572381Z",
     "start_time": "2024-01-02T01:02:59.491400342Z"
    },
    "collapsed": false
   },
   "outputs": [
    {
     "data": {
      "text/plain": [
       "['GSE155177', 'GSE16717', 'GSE234154', 'GSE44147', 'GSE4741', 'GSE48264']"
      ]
     },
     "execution_count": 3,
     "metadata": {},
     "output_type": "execute_result"
    }
   ],
   "source": [
    "dataset = 'GEO'\n",
    "trait_subdir = \"Longevity-and-Aging\"\n",
    "\n",
    "trait_path = os.path.join(DATA_ROOT, dataset, trait_subdir)\n",
    "os.listdir(trait_path)"
   ]
  },
  {
   "cell_type": "markdown",
   "metadata": {
    "ExecuteTime": {
     "end_time": "2023-12-31T03:39:42.634870142Z",
     "start_time": "2023-12-31T03:39:42.534093295Z"
    },
    "collapsed": false
   },
   "source": [
    "Repeat the below steps for all the accession numbers"
   ]
  },
  {
   "cell_type": "code",
   "execution_count": 21,
   "metadata": {},
   "outputs": [
    {
     "data": {
      "text/plain": [
       "('C:/Users/arthu/Downloads\\\\GEO\\\\Longevity-and-Aging\\\\GSE48264\\\\GSE48264_family.soft.gz',\n",
       " 'C:/Users/arthu/Downloads\\\\GEO\\\\Longevity-and-Aging\\\\GSE48264\\\\GSE48264_series_matrix.txt.gz')"
      ]
     },
     "execution_count": 21,
     "metadata": {},
     "output_type": "execute_result"
    }
   ],
   "source": [
    "cohort = accession_num = \"GSE48264\"\n",
    "cohort_dir = os.path.join(trait_path, accession_num)\n",
    "soft_file, matrix_file = geo_get_relevant_filepaths(cohort_dir)\n",
    "soft_file, matrix_file"
   ]
  },
  {
   "cell_type": "markdown",
   "metadata": {
    "collapsed": false
   },
   "source": [
    "### Inital filtering and clinical data preprocessing"
   ]
  },
  {
   "cell_type": "code",
   "execution_count": 22,
   "metadata": {
    "ExecuteTime": {
     "end_time": "2024-01-02T01:03:01.634861460Z",
     "start_time": "2024-01-02T01:03:01.076370517Z"
    },
    "collapsed": false
   },
   "outputs": [
    {
     "name": "stdout",
     "output_type": "stream",
     "text": [
      "!Series_title\t\"Uppsala Longitudinal Study of Adult Men (ULSAM)\"\n",
      "!Series_summary\t\"The Uppsala Longitudinal Study of Adult Men is a population-based study aimed at identifying risk factors for cardiovascular disease. At the time of biopsy all subjects were ~ 70yr of age\"\n",
      "!Series_overall_design\t\"We extracted RNA from muscle tissue taken from 129 subjects, when they were aged ~70yr and characterised as disease-free (note the above average longevity in Swedes born circa 1920 compared with US and UK populations). From these samples, 108 yielded RNA of sufficient quality to profile on Affymetrix gene-chips.\"\n",
      "!Series_overall_design\t\"Only survival data are used in the paper.\"\n",
      "!Series_overall_design\t\"There are no data from cardiovascular disease subjects; we only profiled the healthy subjects and followed for 20yrs.\"\n"
     ]
    }
   ],
   "source": [
    "background_prefixes = ['!Series_title', '!Series_summary', '!Series_overall_design']\n",
    "clinical_prefixes = ['!Sample_geo_accession', '!Sample_characteristics_ch1']\n",
    "\n",
    "background_info, clinical_data = get_background_and_clinical_data(matrix_file, background_prefixes, clinical_prefixes)\n",
    "print(background_info)"
   ]
  },
  {
   "cell_type": "code",
   "execution_count": 23,
   "metadata": {
    "ExecuteTime": {
     "end_time": "2024-01-02T01:03:01.642310454Z",
     "start_time": "2024-01-02T01:03:01.635048940Z"
    },
    "collapsed": false
   },
   "outputs": [
    {
     "data": {
      "text/html": [
       "<div>\n",
       "<style scoped>\n",
       "    .dataframe tbody tr th:only-of-type {\n",
       "        vertical-align: middle;\n",
       "    }\n",
       "\n",
       "    .dataframe tbody tr th {\n",
       "        vertical-align: top;\n",
       "    }\n",
       "\n",
       "    .dataframe thead th {\n",
       "        text-align: right;\n",
       "    }\n",
       "</style>\n",
       "<table border=\"1\" class=\"dataframe\">\n",
       "  <thead>\n",
       "    <tr style=\"text-align: right;\">\n",
       "      <th></th>\n",
       "      <th>!Sample_geo_accession</th>\n",
       "      <th>GSM1173505</th>\n",
       "      <th>GSM1173506</th>\n",
       "      <th>GSM1173507</th>\n",
       "      <th>GSM1173508</th>\n",
       "      <th>GSM1173509</th>\n",
       "      <th>GSM1173510</th>\n",
       "      <th>GSM1173511</th>\n",
       "      <th>GSM1173512</th>\n",
       "      <th>GSM1173513</th>\n",
       "      <th>...</th>\n",
       "      <th>GSM1173603</th>\n",
       "      <th>GSM1173604</th>\n",
       "      <th>GSM1173605</th>\n",
       "      <th>GSM1173606</th>\n",
       "      <th>GSM1173607</th>\n",
       "      <th>GSM1173608</th>\n",
       "      <th>GSM1173609</th>\n",
       "      <th>GSM1173610</th>\n",
       "      <th>GSM1173611</th>\n",
       "      <th>GSM1173612</th>\n",
       "    </tr>\n",
       "  </thead>\n",
       "  <tbody>\n",
       "    <tr>\n",
       "      <th>0</th>\n",
       "      <td>!Sample_characteristics_ch1</td>\n",
       "      <td>disease-free: disease-free</td>\n",
       "      <td>disease-free: disease-free</td>\n",
       "      <td>disease-free: disease-free</td>\n",
       "      <td>disease-free: disease-free</td>\n",
       "      <td>disease-free: disease-free</td>\n",
       "      <td>disease-free: disease-free</td>\n",
       "      <td>disease-free: disease-free</td>\n",
       "      <td>disease-free: disease-free</td>\n",
       "      <td>disease-free: disease-free</td>\n",
       "      <td>...</td>\n",
       "      <td>disease-free: disease-free</td>\n",
       "      <td>disease-free: disease-free</td>\n",
       "      <td>disease-free: disease-free</td>\n",
       "      <td>disease-free: disease-free</td>\n",
       "      <td>disease-free: disease-free</td>\n",
       "      <td>disease-free: disease-free</td>\n",
       "      <td>disease-free: disease-free</td>\n",
       "      <td>disease-free: disease-free</td>\n",
       "      <td>disease-free: disease-free</td>\n",
       "      <td>disease-free: disease-free</td>\n",
       "    </tr>\n",
       "    <tr>\n",
       "      <th>1</th>\n",
       "      <td>!Sample_characteristics_ch1</td>\n",
       "      <td>age(approx): 70 yr</td>\n",
       "      <td>age(approx): 70 yr</td>\n",
       "      <td>age(approx): 70 yr</td>\n",
       "      <td>age(approx): 70 yr</td>\n",
       "      <td>age(approx): 70 yr</td>\n",
       "      <td>age(approx): 70 yr</td>\n",
       "      <td>age(approx): 70 yr</td>\n",
       "      <td>age(approx): 70 yr</td>\n",
       "      <td>age(approx): 70 yr</td>\n",
       "      <td>...</td>\n",
       "      <td>age(approx): 70 yr</td>\n",
       "      <td>age(approx): 70 yr</td>\n",
       "      <td>age(approx): 70 yr</td>\n",
       "      <td>age(approx): 70 yr</td>\n",
       "      <td>age(approx): 70 yr</td>\n",
       "      <td>age(approx): 70 yr</td>\n",
       "      <td>age(approx): 70 yr</td>\n",
       "      <td>age(approx): 70 yr</td>\n",
       "      <td>age(approx): 70 yr</td>\n",
       "      <td>age(approx): 70 yr</td>\n",
       "    </tr>\n",
       "    <tr>\n",
       "      <th>2</th>\n",
       "      <td>!Sample_characteristics_ch1</td>\n",
       "      <td>tissue: skeletal muscle biopsy (baseline)</td>\n",
       "      <td>tissue: skeletal muscle biopsy (baseline)</td>\n",
       "      <td>tissue: skeletal muscle biopsy (baseline)</td>\n",
       "      <td>tissue: skeletal muscle biopsy (baseline)</td>\n",
       "      <td>tissue: skeletal muscle biopsy (baseline)</td>\n",
       "      <td>tissue: skeletal muscle biopsy (baseline)</td>\n",
       "      <td>tissue: skeletal muscle biopsy (baseline)</td>\n",
       "      <td>tissue: skeletal muscle biopsy (baseline)</td>\n",
       "      <td>tissue: skeletal muscle biopsy (baseline)</td>\n",
       "      <td>...</td>\n",
       "      <td>tissue: skeletal muscle biopsy (baseline)</td>\n",
       "      <td>tissue: skeletal muscle biopsy (baseline)</td>\n",
       "      <td>tissue: skeletal muscle biopsy (baseline)</td>\n",
       "      <td>tissue: skeletal muscle biopsy (baseline)</td>\n",
       "      <td>tissue: skeletal muscle biopsy (baseline)</td>\n",
       "      <td>tissue: skeletal muscle biopsy (baseline)</td>\n",
       "      <td>tissue: skeletal muscle biopsy (baseline)</td>\n",
       "      <td>tissue: skeletal muscle biopsy (baseline)</td>\n",
       "      <td>tissue: skeletal muscle biopsy (baseline)</td>\n",
       "      <td>tissue: skeletal muscle biopsy (baseline)</td>\n",
       "    </tr>\n",
       "    <tr>\n",
       "      <th>3</th>\n",
       "      <td>!Sample_characteristics_ch1</td>\n",
       "      <td>survival: None</td>\n",
       "      <td>survival: Hosp</td>\n",
       "      <td>survival: Death</td>\n",
       "      <td>survival: Hosp</td>\n",
       "      <td>survival: Hosp</td>\n",
       "      <td>survival: Death</td>\n",
       "      <td>survival: None</td>\n",
       "      <td>survival: Death</td>\n",
       "      <td>survival: Hosp</td>\n",
       "      <td>...</td>\n",
       "      <td>survival: Hosp</td>\n",
       "      <td>survival: Death</td>\n",
       "      <td>survival: Hosp</td>\n",
       "      <td>survival: Death</td>\n",
       "      <td>survival: Hosp</td>\n",
       "      <td>survival: Hosp</td>\n",
       "      <td>survival: Hosp</td>\n",
       "      <td>survival: Hosp</td>\n",
       "      <td>survival: Hosp</td>\n",
       "      <td>survival: None</td>\n",
       "    </tr>\n",
       "    <tr>\n",
       "      <th>4</th>\n",
       "      <td>!Sample_characteristics_ch1</td>\n",
       "      <td>patient id: 32</td>\n",
       "      <td>patient id: 117</td>\n",
       "      <td>patient id: 152</td>\n",
       "      <td>patient id: 211</td>\n",
       "      <td>patient id: 241</td>\n",
       "      <td>patient id: 254</td>\n",
       "      <td>patient id: 255</td>\n",
       "      <td>patient id: 296</td>\n",
       "      <td>patient id: 298</td>\n",
       "      <td>...</td>\n",
       "      <td>patient id: 1573</td>\n",
       "      <td>patient id: 1597</td>\n",
       "      <td>patient id: 1609</td>\n",
       "      <td>patient id: 1617</td>\n",
       "      <td>patient id: 1631</td>\n",
       "      <td>patient id: 1638</td>\n",
       "      <td>patient id: 1649</td>\n",
       "      <td>patient id: 1655</td>\n",
       "      <td>patient id: 1661</td>\n",
       "      <td>patient id: 1670</td>\n",
       "    </tr>\n",
       "  </tbody>\n",
       "</table>\n",
       "<p>5 rows × 109 columns</p>\n",
       "</div>"
      ],
      "text/plain": [
       "         !Sample_geo_accession                                 GSM1173505  \\\n",
       "0  !Sample_characteristics_ch1                 disease-free: disease-free   \n",
       "1  !Sample_characteristics_ch1                         age(approx): 70 yr   \n",
       "2  !Sample_characteristics_ch1  tissue: skeletal muscle biopsy (baseline)   \n",
       "3  !Sample_characteristics_ch1                             survival: None   \n",
       "4  !Sample_characteristics_ch1                             patient id: 32   \n",
       "\n",
       "                                  GSM1173506  \\\n",
       "0                 disease-free: disease-free   \n",
       "1                         age(approx): 70 yr   \n",
       "2  tissue: skeletal muscle biopsy (baseline)   \n",
       "3                             survival: Hosp   \n",
       "4                            patient id: 117   \n",
       "\n",
       "                                  GSM1173507  \\\n",
       "0                 disease-free: disease-free   \n",
       "1                         age(approx): 70 yr   \n",
       "2  tissue: skeletal muscle biopsy (baseline)   \n",
       "3                            survival: Death   \n",
       "4                            patient id: 152   \n",
       "\n",
       "                                  GSM1173508  \\\n",
       "0                 disease-free: disease-free   \n",
       "1                         age(approx): 70 yr   \n",
       "2  tissue: skeletal muscle biopsy (baseline)   \n",
       "3                             survival: Hosp   \n",
       "4                            patient id: 211   \n",
       "\n",
       "                                  GSM1173509  \\\n",
       "0                 disease-free: disease-free   \n",
       "1                         age(approx): 70 yr   \n",
       "2  tissue: skeletal muscle biopsy (baseline)   \n",
       "3                             survival: Hosp   \n",
       "4                            patient id: 241   \n",
       "\n",
       "                                  GSM1173510  \\\n",
       "0                 disease-free: disease-free   \n",
       "1                         age(approx): 70 yr   \n",
       "2  tissue: skeletal muscle biopsy (baseline)   \n",
       "3                            survival: Death   \n",
       "4                            patient id: 254   \n",
       "\n",
       "                                  GSM1173511  \\\n",
       "0                 disease-free: disease-free   \n",
       "1                         age(approx): 70 yr   \n",
       "2  tissue: skeletal muscle biopsy (baseline)   \n",
       "3                             survival: None   \n",
       "4                            patient id: 255   \n",
       "\n",
       "                                  GSM1173512  \\\n",
       "0                 disease-free: disease-free   \n",
       "1                         age(approx): 70 yr   \n",
       "2  tissue: skeletal muscle biopsy (baseline)   \n",
       "3                            survival: Death   \n",
       "4                            patient id: 296   \n",
       "\n",
       "                                  GSM1173513  ...  \\\n",
       "0                 disease-free: disease-free  ...   \n",
       "1                         age(approx): 70 yr  ...   \n",
       "2  tissue: skeletal muscle biopsy (baseline)  ...   \n",
       "3                             survival: Hosp  ...   \n",
       "4                            patient id: 298  ...   \n",
       "\n",
       "                                  GSM1173603  \\\n",
       "0                 disease-free: disease-free   \n",
       "1                         age(approx): 70 yr   \n",
       "2  tissue: skeletal muscle biopsy (baseline)   \n",
       "3                             survival: Hosp   \n",
       "4                           patient id: 1573   \n",
       "\n",
       "                                  GSM1173604  \\\n",
       "0                 disease-free: disease-free   \n",
       "1                         age(approx): 70 yr   \n",
       "2  tissue: skeletal muscle biopsy (baseline)   \n",
       "3                            survival: Death   \n",
       "4                           patient id: 1597   \n",
       "\n",
       "                                  GSM1173605  \\\n",
       "0                 disease-free: disease-free   \n",
       "1                         age(approx): 70 yr   \n",
       "2  tissue: skeletal muscle biopsy (baseline)   \n",
       "3                             survival: Hosp   \n",
       "4                           patient id: 1609   \n",
       "\n",
       "                                  GSM1173606  \\\n",
       "0                 disease-free: disease-free   \n",
       "1                         age(approx): 70 yr   \n",
       "2  tissue: skeletal muscle biopsy (baseline)   \n",
       "3                            survival: Death   \n",
       "4                           patient id: 1617   \n",
       "\n",
       "                                  GSM1173607  \\\n",
       "0                 disease-free: disease-free   \n",
       "1                         age(approx): 70 yr   \n",
       "2  tissue: skeletal muscle biopsy (baseline)   \n",
       "3                             survival: Hosp   \n",
       "4                           patient id: 1631   \n",
       "\n",
       "                                  GSM1173608  \\\n",
       "0                 disease-free: disease-free   \n",
       "1                         age(approx): 70 yr   \n",
       "2  tissue: skeletal muscle biopsy (baseline)   \n",
       "3                             survival: Hosp   \n",
       "4                           patient id: 1638   \n",
       "\n",
       "                                  GSM1173609  \\\n",
       "0                 disease-free: disease-free   \n",
       "1                         age(approx): 70 yr   \n",
       "2  tissue: skeletal muscle biopsy (baseline)   \n",
       "3                             survival: Hosp   \n",
       "4                           patient id: 1649   \n",
       "\n",
       "                                  GSM1173610  \\\n",
       "0                 disease-free: disease-free   \n",
       "1                         age(approx): 70 yr   \n",
       "2  tissue: skeletal muscle biopsy (baseline)   \n",
       "3                             survival: Hosp   \n",
       "4                           patient id: 1655   \n",
       "\n",
       "                                  GSM1173611  \\\n",
       "0                 disease-free: disease-free   \n",
       "1                         age(approx): 70 yr   \n",
       "2  tissue: skeletal muscle biopsy (baseline)   \n",
       "3                             survival: Hosp   \n",
       "4                           patient id: 1661   \n",
       "\n",
       "                                  GSM1173612  \n",
       "0                 disease-free: disease-free  \n",
       "1                         age(approx): 70 yr  \n",
       "2  tissue: skeletal muscle biopsy (baseline)  \n",
       "3                             survival: None  \n",
       "4                           patient id: 1670  \n",
       "\n",
       "[5 rows x 109 columns]"
      ]
     },
     "execution_count": 23,
     "metadata": {},
     "output_type": "execute_result"
    }
   ],
   "source": [
    "clinical_data.head()"
   ]
  },
  {
   "cell_type": "code",
   "execution_count": 24,
   "metadata": {
    "ExecuteTime": {
     "end_time": "2024-01-02T01:03:01.805026160Z",
     "start_time": "2024-01-02T01:03:01.804428154Z"
    },
    "collapsed": false
   },
   "outputs": [
    {
     "data": {
      "text/plain": [
       "{0: ['disease-free: disease-free'],\n",
       " 1: ['age(approx): 70 yr'],\n",
       " 2: ['tissue: skeletal muscle biopsy (baseline)'],\n",
       " 3: ['survival: None', 'survival: Hosp', 'survival: Death'],\n",
       " 4: ['patient id: 32',\n",
       "  'patient id: 117',\n",
       "  'patient id: 152',\n",
       "  'patient id: 211',\n",
       "  'patient id: 241',\n",
       "  'patient id: 254',\n",
       "  'patient id: 255',\n",
       "  'patient id: 296',\n",
       "  'patient id: 298',\n",
       "  'patient id: 300',\n",
       "  'patient id: 317',\n",
       "  'patient id: 349',\n",
       "  'patient id: 351',\n",
       "  'patient id: 355',\n",
       "  'patient id: 373',\n",
       "  'patient id: 377',\n",
       "  'patient id: 381',\n",
       "  'patient id: 397',\n",
       "  'patient id: 421',\n",
       "  'patient id: 465',\n",
       "  'patient id: 498',\n",
       "  'patient id: 521',\n",
       "  'patient id: 549',\n",
       "  'patient id: 554',\n",
       "  'patient id: 576',\n",
       "  'patient id: 621',\n",
       "  'patient id: 632',\n",
       "  'patient id: 634',\n",
       "  'patient id: 664',\n",
       "  'patient id: 674']}"
      ]
     },
     "execution_count": 24,
     "metadata": {},
     "output_type": "execute_result"
    }
   ],
   "source": [
    "clinical_data_unique = get_unique_values_by_row(clinical_data)\n",
    "clinical_data_unique"
   ]
  },
  {
   "cell_type": "markdown",
   "metadata": {
    "ExecuteTime": {
     "end_time": "2023-12-31T03:58:04.978204446Z",
     "start_time": "2023-12-31T03:58:04.922270095Z"
    },
    "collapsed": false
   },
   "source": [
    "Analyze the metadata to determine data relevance and find ways to extract the clinical data.\n",
    "Reference prompt:"
   ]
  },
  {
   "cell_type": "code",
   "execution_count": 25,
   "metadata": {
    "ExecuteTime": {
     "end_time": "2024-01-02T01:03:02.369775044Z",
     "start_time": "2024-01-02T01:03:02.356501629Z"
    },
    "collapsed": false
   },
   "outputs": [
    {
     "data": {
      "text/plain": [
       "'As a biomedical research team, we are selecting datasets to study the association between the human trait \\'Longevity-and-Aging\\' and genetic factors, optionally considering the influence of age and gender. After searching the GEO database and parsing the matrix file of a series, we obtained background information and sample characteristics data. We will provide textual information about the dataset background, and a Python dictionary storing a list of unique values for each field of the sample characteristics data. Please carefully review the provided information and answer the following questions about this dataset:\\n1. Does this dataset contain gene expression data? (Note: Pure miRNA data is not suitable.)\\n2. For each of the traits \\'Longevity-and-Aging\\', \\'age\\', and \\'gender\\', please address these points:\\n   (1) Is there human data available for this trait?\\n   (2) If so, identify the key in the sample characteristics dictionary where unique values of this trait is recorded. The key is an integer. The trait information might be explicitly recorded, or can be inferred from the field with some biomedical knowledge or understanding about the data collection process.\\n   (3) Choose an appropriate data type (either \\'continuous\\' or \\'binary\\') for each trait. Write a Python function to convert any given value of the trait to this data type. The function should handle inference about the trait value and convert unknown values to None.\\n   Name the functions \\'convert_trait\\', \\'convert_age\\', and \\'convert_gender\\', respectively.\\n\\nBackground information about the dataset:\\n!Series_title\\t\"Uppsala Longitudinal Study of Adult Men (ULSAM)\"\\n!Series_summary\\t\"The Uppsala Longitudinal Study of Adult Men is a population-based study aimed at identifying risk factors for cardiovascular disease. At the time of biopsy all subjects were ~ 70yr of age\"\\n!Series_overall_design\\t\"We extracted RNA from muscle tissue taken from 129 subjects, when they were aged ~70yr and characterised as disease-free (note the above average longevity in Swedes born circa 1920 compared with US and UK populations). From these samples, 108 yielded RNA of sufficient quality to profile on Affymetrix gene-chips.\"\\n!Series_overall_design\\t\"Only survival data are used in the paper.\"\\n!Series_overall_design\\t\"There are no data from cardiovascular disease subjects; we only profiled the healthy subjects and followed for 20yrs.\"\\n\\nSample characteristics dictionary (from \"!Sample_characteristics_ch1\", converted to a Python dictionary that stores the unique values for each field):\\n{0: [\\'disease-free: disease-free\\'], 1: [\\'age(approx): 70 yr\\'], 2: [\\'tissue: skeletal muscle biopsy (baseline)\\'], 3: [\\'survival: None\\', \\'survival: Hosp\\', \\'survival: Death\\'], 4: [\\'patient id: 32\\', \\'patient id: 117\\', \\'patient id: 152\\', \\'patient id: 211\\', \\'patient id: 241\\', \\'patient id: 254\\', \\'patient id: 255\\', \\'patient id: 296\\', \\'patient id: 298\\', \\'patient id: 300\\', \\'patient id: 317\\', \\'patient id: 349\\', \\'patient id: 351\\', \\'patient id: 355\\', \\'patient id: 373\\', \\'patient id: 377\\', \\'patient id: 381\\', \\'patient id: 397\\', \\'patient id: 421\\', \\'patient id: 465\\', \\'patient id: 498\\', \\'patient id: 521\\', \\'patient id: 549\\', \\'patient id: 554\\', \\'patient id: 576\\', \\'patient id: 621\\', \\'patient id: 632\\', \\'patient id: 634\\', \\'patient id: 664\\', \\'patient id: 674\\']}\\n'"
      ]
     },
     "execution_count": 25,
     "metadata": {},
     "output_type": "execute_result"
    }
   ],
   "source": [
    "f'''As a biomedical research team, we are selecting datasets to study the association between the human trait \\'{TRAIT}\\' and genetic factors, optionally considering the influence of age and gender. After searching the GEO database and parsing the matrix file of a series, we obtained background information and sample characteristics data. We will provide textual information about the dataset background, and a Python dictionary storing a list of unique values for each field of the sample characteristics data. Please carefully review the provided information and answer the following questions about this dataset:\n",
    "1. Does this dataset contain gene expression data? (Note: Pure miRNA data is not suitable.)\n",
    "2. For each of the traits \\'{TRAIT}\\', 'age', and 'gender', please address these points:\n",
    "   (1) Is there human data available for this trait?\n",
    "   (2) If so, identify the key in the sample characteristics dictionary where unique values of this trait is recorded. The key is an integer. The trait information might be explicitly recorded, or can be inferred from the field with some biomedical knowledge or understanding about the data collection process.\n",
    "   (3) Choose an appropriate data type (either 'continuous' or 'binary') for each trait. Write a Python function to convert any given value of the trait to this data type. The function should handle inference about the trait value and convert unknown values to None.\n",
    "   Name the functions 'convert_trait', 'convert_age', and 'convert_gender', respectively.\n",
    "\n",
    "Background information about the dataset:\n",
    "{background_info}\n",
    "\n",
    "Sample characteristics dictionary (from \"!Sample_characteristics_ch1\", converted to a Python dictionary that stores the unique values for each field):\n",
    "{clinical_data_unique}\n",
    "'''"
   ]
  },
  {
   "cell_type": "markdown",
   "metadata": {
    "ExecuteTime": {
     "end_time": "2023-12-31T03:58:04.978240504Z",
     "start_time": "2023-12-31T03:58:04.922365324Z"
    },
    "collapsed": false
   },
   "source": [
    "Understand and verify the answer from GPT, to assign values to the below variables. Assign None to the 'row_id' variables if relevant data row was not found.\n",
    "Later we need to let GPT format its answer to automatically do these. But given the complexity of this step, let's grow some insight from the free-text answers for now."
   ]
  },
  {
   "cell_type": "code",
   "execution_count": 26,
   "metadata": {
    "ExecuteTime": {
     "end_time": "2024-01-02T01:03:03.079540570Z",
     "start_time": "2024-01-02T01:03:03.073638535Z"
    },
    "collapsed": false
   },
   "outputs": [],
   "source": [
    "is_gene_availabe =  True\n",
    "trait_row = None\n",
    "age_row = 1\n",
    "gender_row = None\n",
    "\n",
    "trait_type = None"
   ]
  },
  {
   "cell_type": "code",
   "execution_count": 27,
   "metadata": {
    "ExecuteTime": {
     "end_time": "2024-01-02T01:03:03.572682163Z",
     "start_time": "2024-01-02T01:03:03.559775513Z"
    },
    "collapsed": false
   },
   "outputs": [
    {
     "name": "stdout",
     "output_type": "stream",
     "text": [
      "This cohort is not usable. Please skip the following steps and jump to the next accession number.\n"
     ]
    }
   ],
   "source": [
    "is_available = is_gene_availabe and (trait_row is not None)\n",
    "if not is_available:\n",
    "    save_cohort_info(cohort, JSON_PATH, is_available)\n",
    "    print(\"This cohort is not usable. Please skip the following steps and jump to the next accession number.\")"
   ]
  },
  {
   "cell_type": "code",
   "execution_count": 10,
   "metadata": {
    "ExecuteTime": {
     "end_time": "2024-01-02T01:03:03.973964287Z",
     "start_time": "2024-01-02T01:03:03.964958096Z"
    },
    "collapsed": false
   },
   "outputs": [
    {
     "data": {
      "text/plain": [
       "(0, 23.1, None)"
      ]
     },
     "execution_count": 10,
     "metadata": {},
     "output_type": "execute_result"
    }
   ],
   "source": [
    "def convert_trait(value):\n",
    "    if value in ['group: long-lived sib', 'group: control', 'group: offspring']:\n",
    "        return 1  # Representing presence of the trait\n",
    "    else:\n",
    "        return 0  # Representing absence of the trait or unknown value\n",
    "\n",
    "\n",
    "def convert_age(age_string):\n",
    "    \"\"\"\n",
    "    Convert age string to a numerical value.\n",
    "    \"\"\"\n",
    "    if age_string.startswith('age: '):\n",
    "        try:\n",
    "            #return int(age_string.split('age: ')[1].rstrip('years'))  # Extracting numeric part\n",
    "            return float(age_string.split('age: ')[1].rstrip(' years'))  \n",
    "        except ValueError:\n",
    "            return None  # In case of parsing error\n",
    "    else:\n",
    "        return None  # If age string does not follow expected format\n",
    "def convert_gender(value):\n",
    "    if value in ['gender: female', 'gender: male']:\n",
    "        return value.split(' ')[1]  # Extracting 'female' or 'male'\n",
    "    else:\n",
    "        return None  # Handling unknown or incorrectly formatted values\n",
    "\n",
    "\n",
    "# Example usage\n",
    "example_tissue = 'tissue: Hippocampus'\n",
    "example_age = 'age: 23.1 years'\n",
    "example_gender = 'gender: Male'\n",
    "\n",
    "converted_trait = convert_trait(example_tissue)\n",
    "converted_age = convert_age(example_age)\n",
    "converted_gender = convert_gender(example_gender)\n",
    "\n",
    "converted_trait, converted_age, converted_gender"
   ]
  },
  {
   "cell_type": "code",
   "execution_count": 11,
   "metadata": {
    "ExecuteTime": {
     "end_time": "2024-01-02T01:03:04.637878352Z",
     "start_time": "2024-01-02T01:03:04.593886885Z"
    },
    "collapsed": false
   },
   "outputs": [
    {
     "data": {
      "text/html": [
       "<div>\n",
       "<style scoped>\n",
       "    .dataframe tbody tr th:only-of-type {\n",
       "        vertical-align: middle;\n",
       "    }\n",
       "\n",
       "    .dataframe tbody tr th {\n",
       "        vertical-align: top;\n",
       "    }\n",
       "\n",
       "    .dataframe thead th {\n",
       "        text-align: right;\n",
       "    }\n",
       "</style>\n",
       "<table border=\"1\" class=\"dataframe\">\n",
       "  <thead>\n",
       "    <tr style=\"text-align: right;\">\n",
       "      <th></th>\n",
       "      <th>GSM418770</th>\n",
       "      <th>GSM418771</th>\n",
       "      <th>GSM418772</th>\n",
       "      <th>GSM418773</th>\n",
       "      <th>GSM418774</th>\n",
       "      <th>GSM418775</th>\n",
       "      <th>GSM418776</th>\n",
       "      <th>GSM418777</th>\n",
       "      <th>GSM418778</th>\n",
       "      <th>GSM418779</th>\n",
       "      <th>...</th>\n",
       "      <th>GSM418910</th>\n",
       "      <th>GSM418911</th>\n",
       "      <th>GSM418912</th>\n",
       "      <th>GSM418913</th>\n",
       "      <th>GSM418914</th>\n",
       "      <th>GSM418915</th>\n",
       "      <th>GSM418916</th>\n",
       "      <th>GSM418917</th>\n",
       "      <th>GSM418918</th>\n",
       "      <th>GSM418919</th>\n",
       "    </tr>\n",
       "  </thead>\n",
       "  <tbody>\n",
       "    <tr>\n",
       "      <th>Longevity-and-Aging</th>\n",
       "      <td>1</td>\n",
       "      <td>1</td>\n",
       "      <td>1</td>\n",
       "      <td>1</td>\n",
       "      <td>1</td>\n",
       "      <td>1</td>\n",
       "      <td>1</td>\n",
       "      <td>1</td>\n",
       "      <td>1</td>\n",
       "      <td>1</td>\n",
       "      <td>...</td>\n",
       "      <td>1</td>\n",
       "      <td>1</td>\n",
       "      <td>1</td>\n",
       "      <td>1</td>\n",
       "      <td>1</td>\n",
       "      <td>1</td>\n",
       "      <td>1</td>\n",
       "      <td>1</td>\n",
       "      <td>1</td>\n",
       "      <td>1</td>\n",
       "    </tr>\n",
       "    <tr>\n",
       "      <th>Age</th>\n",
       "      <td>91.53</td>\n",
       "      <td>56.1</td>\n",
       "      <td>91.52</td>\n",
       "      <td>52.83</td>\n",
       "      <td>64.11</td>\n",
       "      <td>64.27</td>\n",
       "      <td>59.75</td>\n",
       "      <td>93.4</td>\n",
       "      <td>61.47</td>\n",
       "      <td>93.19</td>\n",
       "      <td>...</td>\n",
       "      <td>66.29</td>\n",
       "      <td>43.71</td>\n",
       "      <td>42.79</td>\n",
       "      <td>91.62</td>\n",
       "      <td>63.92</td>\n",
       "      <td>97.14</td>\n",
       "      <td>66.85</td>\n",
       "      <td>68.17</td>\n",
       "      <td>92.69</td>\n",
       "      <td>94.95</td>\n",
       "    </tr>\n",
       "    <tr>\n",
       "      <th>Gender</th>\n",
       "      <td>female</td>\n",
       "      <td>female</td>\n",
       "      <td>male</td>\n",
       "      <td>male</td>\n",
       "      <td>female</td>\n",
       "      <td>male</td>\n",
       "      <td>male</td>\n",
       "      <td>female</td>\n",
       "      <td>male</td>\n",
       "      <td>male</td>\n",
       "      <td>...</td>\n",
       "      <td>male</td>\n",
       "      <td>female</td>\n",
       "      <td>male</td>\n",
       "      <td>male</td>\n",
       "      <td>male</td>\n",
       "      <td>female</td>\n",
       "      <td>male</td>\n",
       "      <td>male</td>\n",
       "      <td>female</td>\n",
       "      <td>male</td>\n",
       "    </tr>\n",
       "  </tbody>\n",
       "</table>\n",
       "<p>3 rows × 150 columns</p>\n",
       "</div>"
      ],
      "text/plain": [
       "                    GSM418770 GSM418771 GSM418772 GSM418773 GSM418774  \\\n",
       "Longevity-and-Aging         1         1         1         1         1   \n",
       "Age                     91.53      56.1     91.52     52.83     64.11   \n",
       "Gender                 female    female      male      male    female   \n",
       "\n",
       "                    GSM418775 GSM418776 GSM418777 GSM418778 GSM418779  ...  \\\n",
       "Longevity-and-Aging         1         1         1         1         1  ...   \n",
       "Age                     64.27     59.75      93.4     61.47     93.19  ...   \n",
       "Gender                   male      male    female      male      male  ...   \n",
       "\n",
       "                    GSM418910 GSM418911 GSM418912 GSM418913 GSM418914  \\\n",
       "Longevity-and-Aging         1         1         1         1         1   \n",
       "Age                     66.29     43.71     42.79     91.62     63.92   \n",
       "Gender                   male    female      male      male      male   \n",
       "\n",
       "                    GSM418915 GSM418916 GSM418917 GSM418918 GSM418919  \n",
       "Longevity-and-Aging         1         1         1         1         1  \n",
       "Age                     97.14     66.85     68.17     92.69     94.95  \n",
       "Gender                 female      male      male    female      male  \n",
       "\n",
       "[3 rows x 150 columns]"
      ]
     },
     "execution_count": 11,
     "metadata": {},
     "output_type": "execute_result"
    }
   ],
   "source": [
    "selected_clinical_data = geo_select_clinical_features(clinical_data, TRAIT, trait_row, convert_trait, age_row=age_row,\n",
    "                                                      convert_age=convert_age, gender_row=gender_row,\n",
    "                                                      convert_gender=convert_gender)\n",
    "selected_clinical_data.head()"
   ]
  },
  {
   "cell_type": "markdown",
   "metadata": {
    "ExecuteTime": {
     "end_time": "2023-12-31T03:58:04.978664193Z",
     "start_time": "2023-12-31T03:58:04.966117261Z"
    },
    "collapsed": false
   },
   "source": [
    "### Genetic data preprocessing and final filtering"
   ]
  },
  {
   "cell_type": "code",
   "execution_count": 12,
   "metadata": {
    "ExecuteTime": {
     "end_time": "2024-01-02T01:03:06.246474256Z",
     "start_time": "2024-01-02T01:03:05.670354792Z"
    },
    "collapsed": false
   },
   "outputs": [
    {
     "data": {
      "text/html": [
       "<div>\n",
       "<style scoped>\n",
       "    .dataframe tbody tr th:only-of-type {\n",
       "        vertical-align: middle;\n",
       "    }\n",
       "\n",
       "    .dataframe tbody tr th {\n",
       "        vertical-align: top;\n",
       "    }\n",
       "\n",
       "    .dataframe thead th {\n",
       "        text-align: right;\n",
       "    }\n",
       "</style>\n",
       "<table border=\"1\" class=\"dataframe\">\n",
       "  <thead>\n",
       "    <tr style=\"text-align: right;\">\n",
       "      <th></th>\n",
       "      <th>GSM418770</th>\n",
       "      <th>GSM418771</th>\n",
       "      <th>GSM418772</th>\n",
       "      <th>GSM418773</th>\n",
       "      <th>GSM418774</th>\n",
       "      <th>GSM418775</th>\n",
       "      <th>GSM418776</th>\n",
       "      <th>GSM418777</th>\n",
       "      <th>GSM418778</th>\n",
       "      <th>GSM418779</th>\n",
       "      <th>...</th>\n",
       "      <th>GSM418910</th>\n",
       "      <th>GSM418911</th>\n",
       "      <th>GSM418912</th>\n",
       "      <th>GSM418913</th>\n",
       "      <th>GSM418914</th>\n",
       "      <th>GSM418915</th>\n",
       "      <th>GSM418916</th>\n",
       "      <th>GSM418917</th>\n",
       "      <th>GSM418918</th>\n",
       "      <th>GSM418919</th>\n",
       "    </tr>\n",
       "    <tr>\n",
       "      <th>ID</th>\n",
       "      <th></th>\n",
       "      <th></th>\n",
       "      <th></th>\n",
       "      <th></th>\n",
       "      <th></th>\n",
       "      <th></th>\n",
       "      <th></th>\n",
       "      <th></th>\n",
       "      <th></th>\n",
       "      <th></th>\n",
       "      <th></th>\n",
       "      <th></th>\n",
       "      <th></th>\n",
       "      <th></th>\n",
       "      <th></th>\n",
       "      <th></th>\n",
       "      <th></th>\n",
       "      <th></th>\n",
       "      <th></th>\n",
       "      <th></th>\n",
       "      <th></th>\n",
       "    </tr>\n",
       "  </thead>\n",
       "  <tbody>\n",
       "    <tr>\n",
       "      <th>1005</th>\n",
       "      <td>3.270627</td>\n",
       "      <td>1.443745</td>\n",
       "      <td>2.165435</td>\n",
       "      <td>2.958053</td>\n",
       "      <td>-0.012361</td>\n",
       "      <td>0.183089</td>\n",
       "      <td>4.678742</td>\n",
       "      <td>1.355026</td>\n",
       "      <td>0.476758</td>\n",
       "      <td>0.576805</td>\n",
       "      <td>...</td>\n",
       "      <td>1.166188</td>\n",
       "      <td>2.421311</td>\n",
       "      <td>3.554502</td>\n",
       "      <td>3.178734</td>\n",
       "      <td>3.357477</td>\n",
       "      <td>2.879241</td>\n",
       "      <td>2.383955</td>\n",
       "      <td>2.694113</td>\n",
       "      <td>2.528392</td>\n",
       "      <td>0.731126</td>\n",
       "    </tr>\n",
       "    <tr>\n",
       "      <th>1006</th>\n",
       "      <td>3.357982</td>\n",
       "      <td>3.001623</td>\n",
       "      <td>2.098785</td>\n",
       "      <td>1.874185</td>\n",
       "      <td>3.126547</td>\n",
       "      <td>2.542565</td>\n",
       "      <td>2.249156</td>\n",
       "      <td>4.621413</td>\n",
       "      <td>4.535040</td>\n",
       "      <td>2.425851</td>\n",
       "      <td>...</td>\n",
       "      <td>4.311294</td>\n",
       "      <td>2.552124</td>\n",
       "      <td>3.938536</td>\n",
       "      <td>3.109024</td>\n",
       "      <td>3.652286</td>\n",
       "      <td>3.989664</td>\n",
       "      <td>3.616673</td>\n",
       "      <td>3.478957</td>\n",
       "      <td>2.152819</td>\n",
       "      <td>3.623570</td>\n",
       "    </tr>\n",
       "    <tr>\n",
       "      <th>1007</th>\n",
       "      <td>2.850012</td>\n",
       "      <td>3.756270</td>\n",
       "      <td>-0.479744</td>\n",
       "      <td>3.997663</td>\n",
       "      <td>4.377559</td>\n",
       "      <td>3.540897</td>\n",
       "      <td>4.449276</td>\n",
       "      <td>2.865519</td>\n",
       "      <td>3.787468</td>\n",
       "      <td>5.486711</td>\n",
       "      <td>...</td>\n",
       "      <td>3.867406</td>\n",
       "      <td>2.439018</td>\n",
       "      <td>3.067604</td>\n",
       "      <td>3.370675</td>\n",
       "      <td>3.998063</td>\n",
       "      <td>3.350959</td>\n",
       "      <td>4.193385</td>\n",
       "      <td>3.841488</td>\n",
       "      <td>3.893967</td>\n",
       "      <td>3.375831</td>\n",
       "    </tr>\n",
       "    <tr>\n",
       "      <th>1010</th>\n",
       "      <td>11.689739</td>\n",
       "      <td>11.289610</td>\n",
       "      <td>11.361654</td>\n",
       "      <td>11.010983</td>\n",
       "      <td>11.077953</td>\n",
       "      <td>11.207382</td>\n",
       "      <td>11.329192</td>\n",
       "      <td>11.387695</td>\n",
       "      <td>11.221407</td>\n",
       "      <td>11.102112</td>\n",
       "      <td>...</td>\n",
       "      <td>11.685822</td>\n",
       "      <td>11.431046</td>\n",
       "      <td>11.653290</td>\n",
       "      <td>11.127514</td>\n",
       "      <td>11.684558</td>\n",
       "      <td>11.465079</td>\n",
       "      <td>11.531564</td>\n",
       "      <td>10.768201</td>\n",
       "      <td>11.167387</td>\n",
       "      <td>11.428991</td>\n",
       "    </tr>\n",
       "    <tr>\n",
       "      <th>1011</th>\n",
       "      <td>5.379569</td>\n",
       "      <td>5.197754</td>\n",
       "      <td>4.909275</td>\n",
       "      <td>5.078186</td>\n",
       "      <td>4.634247</td>\n",
       "      <td>4.722292</td>\n",
       "      <td>5.426901</td>\n",
       "      <td>5.420935</td>\n",
       "      <td>5.072376</td>\n",
       "      <td>5.073200</td>\n",
       "      <td>...</td>\n",
       "      <td>5.243837</td>\n",
       "      <td>5.171475</td>\n",
       "      <td>5.528213</td>\n",
       "      <td>5.239949</td>\n",
       "      <td>5.522672</td>\n",
       "      <td>5.542548</td>\n",
       "      <td>5.593226</td>\n",
       "      <td>5.039504</td>\n",
       "      <td>5.343694</td>\n",
       "      <td>5.227207</td>\n",
       "    </tr>\n",
       "  </tbody>\n",
       "</table>\n",
       "<p>5 rows × 150 columns</p>\n",
       "</div>"
      ],
      "text/plain": [
       "      GSM418770  GSM418771  GSM418772  GSM418773  GSM418774  GSM418775  \\\n",
       "ID                                                                       \n",
       "1005   3.270627   1.443745   2.165435   2.958053  -0.012361   0.183089   \n",
       "1006   3.357982   3.001623   2.098785   1.874185   3.126547   2.542565   \n",
       "1007   2.850012   3.756270  -0.479744   3.997663   4.377559   3.540897   \n",
       "1010  11.689739  11.289610  11.361654  11.010983  11.077953  11.207382   \n",
       "1011   5.379569   5.197754   4.909275   5.078186   4.634247   4.722292   \n",
       "\n",
       "      GSM418776  GSM418777  GSM418778  GSM418779  ...  GSM418910  GSM418911  \\\n",
       "ID                                                ...                         \n",
       "1005   4.678742   1.355026   0.476758   0.576805  ...   1.166188   2.421311   \n",
       "1006   2.249156   4.621413   4.535040   2.425851  ...   4.311294   2.552124   \n",
       "1007   4.449276   2.865519   3.787468   5.486711  ...   3.867406   2.439018   \n",
       "1010  11.329192  11.387695  11.221407  11.102112  ...  11.685822  11.431046   \n",
       "1011   5.426901   5.420935   5.072376   5.073200  ...   5.243837   5.171475   \n",
       "\n",
       "      GSM418912  GSM418913  GSM418914  GSM418915  GSM418916  GSM418917  \\\n",
       "ID                                                                       \n",
       "1005   3.554502   3.178734   3.357477   2.879241   2.383955   2.694113   \n",
       "1006   3.938536   3.109024   3.652286   3.989664   3.616673   3.478957   \n",
       "1007   3.067604   3.370675   3.998063   3.350959   4.193385   3.841488   \n",
       "1010  11.653290  11.127514  11.684558  11.465079  11.531564  10.768201   \n",
       "1011   5.528213   5.239949   5.522672   5.542548   5.593226   5.039504   \n",
       "\n",
       "      GSM418918  GSM418919  \n",
       "ID                          \n",
       "1005   2.528392   0.731126  \n",
       "1006   2.152819   3.623570  \n",
       "1007   3.893967   3.375831  \n",
       "1010  11.167387  11.428991  \n",
       "1011   5.343694   5.227207  \n",
       "\n",
       "[5 rows x 150 columns]"
      ]
     },
     "execution_count": 12,
     "metadata": {},
     "output_type": "execute_result"
    }
   ],
   "source": [
    "genetic_data = get_genetic_data(matrix_file)\n",
    "genetic_data.head()"
   ]
  },
  {
   "cell_type": "code",
   "execution_count": 13,
   "metadata": {
    "ExecuteTime": {
     "end_time": "2024-01-02T01:03:06.250833943Z",
     "start_time": "2024-01-02T01:03:06.246758837Z"
    },
    "collapsed": false
   },
   "outputs": [
    {
     "data": {
      "text/plain": [
       "['1005',\n",
       " '1006',\n",
       " '1007',\n",
       " '1010',\n",
       " '1011',\n",
       " '1014',\n",
       " '1023',\n",
       " '1027',\n",
       " '1028',\n",
       " '1048',\n",
       " '1054',\n",
       " '1059',\n",
       " '1061',\n",
       " '1065',\n",
       " '1072',\n",
       " '1073',\n",
       " '1074',\n",
       " '1076',\n",
       " '1079',\n",
       " '1080']"
      ]
     },
     "execution_count": 13,
     "metadata": {},
     "output_type": "execute_result"
    }
   ],
   "source": [
    "gene_row_ids = genetic_data.index[:20].tolist()\n",
    "gene_row_ids"
   ]
  },
  {
   "cell_type": "markdown",
   "metadata": {
    "ExecuteTime": {
     "end_time": "2023-12-31T03:30:41.595335164Z",
     "start_time": "2023-12-31T03:30:41.513232329Z"
    },
    "collapsed": false
   },
   "source": [
    "Check if the gene dataset requires mapping to get the gene symbols corresponding to each data row."
   ]
  },
  {
   "cell_type": "markdown",
   "metadata": {
    "collapsed": false
   },
   "source": [
    "Reference prompt:"
   ]
  },
  {
   "cell_type": "code",
   "execution_count": 14,
   "metadata": {
    "ExecuteTime": {
     "end_time": "2024-01-02T01:03:07.586216481Z",
     "start_time": "2024-01-02T01:03:07.574527035Z"
    },
    "collapsed": false
   },
   "outputs": [
    {
     "data": {
      "text/plain": [
       "\"\\nBelow are the row headers of a gene expression dataset in GEO. Based on your biomedical knowledge, are they human gene symbols, or are they some other identifiers that need to be mapped to gene symbols? Your answer should be concluded by starting a new line and strictly following this format:\\nrequires_gene_mapping = (True or False)\\n\\nRow headers:\\n['1005', '1006', '1007', '1010', '1011', '1014', '1023', '1027', '1028', '1048', '1054', '1059', '1061', '1065', '1072', '1073', '1074', '1076', '1079', '1080']\\n\""
      ]
     },
     "execution_count": 14,
     "metadata": {},
     "output_type": "execute_result"
    }
   ],
   "source": [
    "f'''\n",
    "Below are the row headers of a gene expression dataset in GEO. Based on your biomedical knowledge, are they human gene symbols, or are they some other identifiers that need to be mapped to gene symbols? Your answer should be concluded by starting a new line and strictly following this format:\n",
    "requires_gene_mapping = (True or False)\n",
    "\n",
    "Row headers:\n",
    "{gene_row_ids}\n",
    "'''"
   ]
  },
  {
   "cell_type": "markdown",
   "metadata": {
    "collapsed": false
   },
   "source": [
    "If not required, jump directly to the gene normalization step"
   ]
  },
  {
   "cell_type": "code",
   "execution_count": 15,
   "metadata": {
    "ExecuteTime": {
     "end_time": "2024-01-02T01:03:08.263712538Z",
     "start_time": "2024-01-02T01:03:08.260656314Z"
    },
    "collapsed": false
   },
   "outputs": [],
   "source": [
    "requires_gene_mapping = True"
   ]
  },
  {
   "cell_type": "code",
   "execution_count": 16,
   "metadata": {
    "ExecuteTime": {
     "end_time": "2024-01-02T01:03:33.822550310Z",
     "start_time": "2024-01-02T01:03:08.648958912Z"
    },
    "collapsed": false
   },
   "outputs": [
    {
     "ename": "",
     "evalue": "",
     "output_type": "error",
     "traceback": [
      "\u001b[1;31mThe Kernel crashed while executing code in the current cell or a previous cell. \n",
      "\u001b[1;31mPlease review the code in the cell(s) to identify a possible cause of the failure. \n",
      "\u001b[1;31mClick <a href='https://aka.ms/vscodeJupyterKernelCrash'>here</a> for more info. \n",
      "\u001b[1;31mView Jupyter <a href='command:jupyter.viewOutput'>log</a> for further details."
     ]
    }
   ],
   "source": [
    "if requires_gene_mapping:\n",
    "    gene_annotation = get_gene_annotation(soft_file)\n",
    "    gene_annotation_summary = preview_df(gene_annotation)\n",
    "    print(gene_annotation_summary)"
   ]
  },
  {
   "cell_type": "markdown",
   "metadata": {
    "ExecuteTime": {
     "end_time": "2023-12-31T03:58:04.978931927Z",
     "start_time": "2023-12-31T03:58:04.966328339Z"
    },
    "collapsed": false
   },
   "source": [
    "Observe the first few cells in the ID column of the gene annotation dataframe, to find the names of columns that store the gene probe IDs and gene symbols respectively.\n",
    "Reference prompt:"
   ]
  },
  {
   "cell_type": "code",
   "execution_count": 27,
   "metadata": {
    "ExecuteTime": {
     "end_time": "2024-01-02T01:03:33.822912446Z",
     "start_time": "2024-01-02T01:03:33.804491826Z"
    },
    "collapsed": false
   },
   "outputs": [
    {
     "name": "stdout",
     "output_type": "stream",
     "text": [
      "\n",
      "    As a biomedical research team, we extracted the gene annotation data from a series in the GEO database, and saved it to a Python dictionary. Please read the dictionary, and decide which key stores the ID of the probe, and which key stores the gene symbols. Please strict follow this format in your answer:\n",
      "    probe_name_key = 'key_name1'\n",
      "    gene_name_key = 'key_name2'\n",
      "\n",
      "    Gene annotation dictionary:\n",
      "    {'ID': ['MIMAT0000062', 'MIMAT0000063', 'MIMAT0000064', 'MIMAT0000065', 'MIMAT0000066'], 'miRNA': ['MIMAT0000062', 'MIMAT0000063', 'MIMAT0000064', 'MIMAT0000065', 'MIMAT0000066'], 'miRNA_ID_LIST': ['hsa-let-7a-5p', 'hsa-let-7b-5p', 'hsa-let-7c-5p', 'hsa-let-7d-5p', 'hsa-let-7e-5p']}\n",
      "    \n"
     ]
    }
   ],
   "source": [
    "if requires_gene_mapping:\n",
    "    print(f'''\n",
    "    As a biomedical research team, we extracted the gene annotation data from a series in the GEO database, and saved it to a Python dictionary. Please read the dictionary, and decide which key stores the ID of the probe, and which key stores the gene symbols. Please strict follow this format in your answer:\n",
    "    probe_name_key = 'key_name1'\n",
    "    gene_name_key = 'key_name2'\n",
    "\n",
    "    Gene annotation dictionary:\n",
    "    {gene_annotation_summary}\n",
    "    ''')"
   ]
  },
  {
   "cell_type": "code",
   "execution_count": 28,
   "metadata": {
    "ExecuteTime": {
     "end_time": "2024-01-02T01:03:35.113359369Z",
     "start_time": "2024-01-02T01:03:33.804666371Z"
    },
    "collapsed": false
   },
   "outputs": [
    {
     "ename": "KeyError",
     "evalue": "\"['GB_LIST'] not in index\"",
     "output_type": "error",
     "traceback": [
      "\u001b[1;31m---------------------------------------------------------------------------\u001b[0m",
      "\u001b[1;31mKeyError\u001b[0m                                  Traceback (most recent call last)",
      "Cell \u001b[1;32mIn[28], line 5\u001b[0m\n\u001b[0;32m      2\u001b[0m probe_id_key \u001b[38;5;241m=\u001b[39m \u001b[38;5;124m'\u001b[39m\u001b[38;5;124mID\u001b[39m\u001b[38;5;124m'\u001b[39m\n\u001b[0;32m      3\u001b[0m gene_symb_key \u001b[38;5;241m=\u001b[39m\u001b[38;5;124m'\u001b[39m\u001b[38;5;124mGB_LIST\u001b[39m\u001b[38;5;124m'\u001b[39m\n\u001b[1;32m----> 5\u001b[0m gene_mapping \u001b[38;5;241m=\u001b[39m \u001b[43mget_gene_mapping\u001b[49m\u001b[43m(\u001b[49m\u001b[43mgene_annotation\u001b[49m\u001b[43m,\u001b[49m\u001b[43m \u001b[49m\u001b[43mprobe_id_key\u001b[49m\u001b[43m,\u001b[49m\u001b[43m \u001b[49m\u001b[43mgene_symb_key\u001b[49m\u001b[43m)\u001b[49m\n\u001b[0;32m      6\u001b[0m genetic_data \u001b[38;5;241m=\u001b[39m apply_gene_mapping(genetic_data, gene_mapping)\n",
      "Cell \u001b[1;32mIn[1], line 136\u001b[0m, in \u001b[0;36mget_gene_mapping\u001b[1;34m(annotation, prob_col, gene_col)\u001b[0m\n\u001b[0;32m    133\u001b[0m \u001b[38;5;28;01mdef\u001b[39;00m \u001b[38;5;21mget_gene_mapping\u001b[39m(annotation, prob_col, gene_col):\n\u001b[0;32m    134\u001b[0m \u001b[38;5;250m    \u001b[39m\u001b[38;5;124;03m\"\"\"Process the gene annotation to get the mapping between gene names and gene probes.\u001b[39;00m\n\u001b[0;32m    135\u001b[0m \u001b[38;5;124;03m    \"\"\"\u001b[39;00m\n\u001b[1;32m--> 136\u001b[0m     mapping_data \u001b[38;5;241m=\u001b[39m \u001b[43mannotation\u001b[49m\u001b[38;5;241;43m.\u001b[39;49m\u001b[43mloc\u001b[49m\u001b[43m[\u001b[49m\u001b[43m:\u001b[49m\u001b[43m,\u001b[49m\u001b[43m \u001b[49m\u001b[43m[\u001b[49m\u001b[43mprob_col\u001b[49m\u001b[43m,\u001b[49m\u001b[43m \u001b[49m\u001b[43mgene_col\u001b[49m\u001b[43m]\u001b[49m\u001b[43m]\u001b[49m\n\u001b[0;32m    137\u001b[0m     mapping_data \u001b[38;5;241m=\u001b[39m mapping_data\u001b[38;5;241m.\u001b[39mdropna()\n\u001b[0;32m    138\u001b[0m     mapping_data \u001b[38;5;241m=\u001b[39m mapping_data\u001b[38;5;241m.\u001b[39mrename(columns\u001b[38;5;241m=\u001b[39m{gene_col: \u001b[38;5;124m'\u001b[39m\u001b[38;5;124mGene\u001b[39m\u001b[38;5;124m'\u001b[39m})\u001b[38;5;241m.\u001b[39mastype({\u001b[38;5;124m'\u001b[39m\u001b[38;5;124mID\u001b[39m\u001b[38;5;124m'\u001b[39m: \u001b[38;5;124m'\u001b[39m\u001b[38;5;124mstr\u001b[39m\u001b[38;5;124m'\u001b[39m})\n",
      "File \u001b[1;32m~\\AppData\\Local\\Packages\\PythonSoftwareFoundation.Python.3.11_qbz5n2kfra8p0\\LocalCache\\local-packages\\Python311\\site-packages\\pandas\\core\\indexing.py:1184\u001b[0m, in \u001b[0;36m_LocationIndexer.__getitem__\u001b[1;34m(self, key)\u001b[0m\n\u001b[0;32m   1182\u001b[0m     \u001b[38;5;28;01mif\u001b[39;00m \u001b[38;5;28mself\u001b[39m\u001b[38;5;241m.\u001b[39m_is_scalar_access(key):\n\u001b[0;32m   1183\u001b[0m         \u001b[38;5;28;01mreturn\u001b[39;00m \u001b[38;5;28mself\u001b[39m\u001b[38;5;241m.\u001b[39mobj\u001b[38;5;241m.\u001b[39m_get_value(\u001b[38;5;241m*\u001b[39mkey, takeable\u001b[38;5;241m=\u001b[39m\u001b[38;5;28mself\u001b[39m\u001b[38;5;241m.\u001b[39m_takeable)\n\u001b[1;32m-> 1184\u001b[0m     \u001b[38;5;28;01mreturn\u001b[39;00m \u001b[38;5;28;43mself\u001b[39;49m\u001b[38;5;241;43m.\u001b[39;49m\u001b[43m_getitem_tuple\u001b[49m\u001b[43m(\u001b[49m\u001b[43mkey\u001b[49m\u001b[43m)\u001b[49m\n\u001b[0;32m   1185\u001b[0m \u001b[38;5;28;01melse\u001b[39;00m:\n\u001b[0;32m   1186\u001b[0m     \u001b[38;5;66;03m# we by definition only have the 0th axis\u001b[39;00m\n\u001b[0;32m   1187\u001b[0m     axis \u001b[38;5;241m=\u001b[39m \u001b[38;5;28mself\u001b[39m\u001b[38;5;241m.\u001b[39maxis \u001b[38;5;129;01mor\u001b[39;00m \u001b[38;5;241m0\u001b[39m\n",
      "File \u001b[1;32m~\\AppData\\Local\\Packages\\PythonSoftwareFoundation.Python.3.11_qbz5n2kfra8p0\\LocalCache\\local-packages\\Python311\\site-packages\\pandas\\core\\indexing.py:1377\u001b[0m, in \u001b[0;36m_LocIndexer._getitem_tuple\u001b[1;34m(self, tup)\u001b[0m\n\u001b[0;32m   1374\u001b[0m \u001b[38;5;28;01mif\u001b[39;00m \u001b[38;5;28mself\u001b[39m\u001b[38;5;241m.\u001b[39m_multi_take_opportunity(tup):\n\u001b[0;32m   1375\u001b[0m     \u001b[38;5;28;01mreturn\u001b[39;00m \u001b[38;5;28mself\u001b[39m\u001b[38;5;241m.\u001b[39m_multi_take(tup)\n\u001b[1;32m-> 1377\u001b[0m \u001b[38;5;28;01mreturn\u001b[39;00m \u001b[38;5;28;43mself\u001b[39;49m\u001b[38;5;241;43m.\u001b[39;49m\u001b[43m_getitem_tuple_same_dim\u001b[49m\u001b[43m(\u001b[49m\u001b[43mtup\u001b[49m\u001b[43m)\u001b[49m\n",
      "File \u001b[1;32m~\\AppData\\Local\\Packages\\PythonSoftwareFoundation.Python.3.11_qbz5n2kfra8p0\\LocalCache\\local-packages\\Python311\\site-packages\\pandas\\core\\indexing.py:1020\u001b[0m, in \u001b[0;36m_LocationIndexer._getitem_tuple_same_dim\u001b[1;34m(self, tup)\u001b[0m\n\u001b[0;32m   1017\u001b[0m \u001b[38;5;28;01mif\u001b[39;00m com\u001b[38;5;241m.\u001b[39mis_null_slice(key):\n\u001b[0;32m   1018\u001b[0m     \u001b[38;5;28;01mcontinue\u001b[39;00m\n\u001b[1;32m-> 1020\u001b[0m retval \u001b[38;5;241m=\u001b[39m \u001b[38;5;28;43mgetattr\u001b[39;49m\u001b[43m(\u001b[49m\u001b[43mretval\u001b[49m\u001b[43m,\u001b[49m\u001b[43m \u001b[49m\u001b[38;5;28;43mself\u001b[39;49m\u001b[38;5;241;43m.\u001b[39;49m\u001b[43mname\u001b[49m\u001b[43m)\u001b[49m\u001b[38;5;241;43m.\u001b[39;49m\u001b[43m_getitem_axis\u001b[49m\u001b[43m(\u001b[49m\u001b[43mkey\u001b[49m\u001b[43m,\u001b[49m\u001b[43m \u001b[49m\u001b[43maxis\u001b[49m\u001b[38;5;241;43m=\u001b[39;49m\u001b[43mi\u001b[49m\u001b[43m)\u001b[49m\n\u001b[0;32m   1021\u001b[0m \u001b[38;5;66;03m# We should never have retval.ndim < self.ndim, as that should\u001b[39;00m\n\u001b[0;32m   1022\u001b[0m \u001b[38;5;66;03m#  be handled by the _getitem_lowerdim call above.\u001b[39;00m\n\u001b[0;32m   1023\u001b[0m \u001b[38;5;28;01massert\u001b[39;00m retval\u001b[38;5;241m.\u001b[39mndim \u001b[38;5;241m==\u001b[39m \u001b[38;5;28mself\u001b[39m\u001b[38;5;241m.\u001b[39mndim\n",
      "File \u001b[1;32m~\\AppData\\Local\\Packages\\PythonSoftwareFoundation.Python.3.11_qbz5n2kfra8p0\\LocalCache\\local-packages\\Python311\\site-packages\\pandas\\core\\indexing.py:1420\u001b[0m, in \u001b[0;36m_LocIndexer._getitem_axis\u001b[1;34m(self, key, axis)\u001b[0m\n\u001b[0;32m   1417\u001b[0m     \u001b[38;5;28;01mif\u001b[39;00m \u001b[38;5;28mhasattr\u001b[39m(key, \u001b[38;5;124m\"\u001b[39m\u001b[38;5;124mndim\u001b[39m\u001b[38;5;124m\"\u001b[39m) \u001b[38;5;129;01mand\u001b[39;00m key\u001b[38;5;241m.\u001b[39mndim \u001b[38;5;241m>\u001b[39m \u001b[38;5;241m1\u001b[39m:\n\u001b[0;32m   1418\u001b[0m         \u001b[38;5;28;01mraise\u001b[39;00m \u001b[38;5;167;01mValueError\u001b[39;00m(\u001b[38;5;124m\"\u001b[39m\u001b[38;5;124mCannot index with multidimensional key\u001b[39m\u001b[38;5;124m\"\u001b[39m)\n\u001b[1;32m-> 1420\u001b[0m     \u001b[38;5;28;01mreturn\u001b[39;00m \u001b[38;5;28;43mself\u001b[39;49m\u001b[38;5;241;43m.\u001b[39;49m\u001b[43m_getitem_iterable\u001b[49m\u001b[43m(\u001b[49m\u001b[43mkey\u001b[49m\u001b[43m,\u001b[49m\u001b[43m \u001b[49m\u001b[43maxis\u001b[49m\u001b[38;5;241;43m=\u001b[39;49m\u001b[43maxis\u001b[49m\u001b[43m)\u001b[49m\n\u001b[0;32m   1422\u001b[0m \u001b[38;5;66;03m# nested tuple slicing\u001b[39;00m\n\u001b[0;32m   1423\u001b[0m \u001b[38;5;28;01mif\u001b[39;00m is_nested_tuple(key, labels):\n",
      "File \u001b[1;32m~\\AppData\\Local\\Packages\\PythonSoftwareFoundation.Python.3.11_qbz5n2kfra8p0\\LocalCache\\local-packages\\Python311\\site-packages\\pandas\\core\\indexing.py:1360\u001b[0m, in \u001b[0;36m_LocIndexer._getitem_iterable\u001b[1;34m(self, key, axis)\u001b[0m\n\u001b[0;32m   1357\u001b[0m \u001b[38;5;28mself\u001b[39m\u001b[38;5;241m.\u001b[39m_validate_key(key, axis)\n\u001b[0;32m   1359\u001b[0m \u001b[38;5;66;03m# A collection of keys\u001b[39;00m\n\u001b[1;32m-> 1360\u001b[0m keyarr, indexer \u001b[38;5;241m=\u001b[39m \u001b[38;5;28;43mself\u001b[39;49m\u001b[38;5;241;43m.\u001b[39;49m\u001b[43m_get_listlike_indexer\u001b[49m\u001b[43m(\u001b[49m\u001b[43mkey\u001b[49m\u001b[43m,\u001b[49m\u001b[43m \u001b[49m\u001b[43maxis\u001b[49m\u001b[43m)\u001b[49m\n\u001b[0;32m   1361\u001b[0m \u001b[38;5;28;01mreturn\u001b[39;00m \u001b[38;5;28mself\u001b[39m\u001b[38;5;241m.\u001b[39mobj\u001b[38;5;241m.\u001b[39m_reindex_with_indexers(\n\u001b[0;32m   1362\u001b[0m     {axis: [keyarr, indexer]}, copy\u001b[38;5;241m=\u001b[39m\u001b[38;5;28;01mTrue\u001b[39;00m, allow_dups\u001b[38;5;241m=\u001b[39m\u001b[38;5;28;01mTrue\u001b[39;00m\n\u001b[0;32m   1363\u001b[0m )\n",
      "File \u001b[1;32m~\\AppData\\Local\\Packages\\PythonSoftwareFoundation.Python.3.11_qbz5n2kfra8p0\\LocalCache\\local-packages\\Python311\\site-packages\\pandas\\core\\indexing.py:1558\u001b[0m, in \u001b[0;36m_LocIndexer._get_listlike_indexer\u001b[1;34m(self, key, axis)\u001b[0m\n\u001b[0;32m   1555\u001b[0m ax \u001b[38;5;241m=\u001b[39m \u001b[38;5;28mself\u001b[39m\u001b[38;5;241m.\u001b[39mobj\u001b[38;5;241m.\u001b[39m_get_axis(axis)\n\u001b[0;32m   1556\u001b[0m axis_name \u001b[38;5;241m=\u001b[39m \u001b[38;5;28mself\u001b[39m\u001b[38;5;241m.\u001b[39mobj\u001b[38;5;241m.\u001b[39m_get_axis_name(axis)\n\u001b[1;32m-> 1558\u001b[0m keyarr, indexer \u001b[38;5;241m=\u001b[39m \u001b[43max\u001b[49m\u001b[38;5;241;43m.\u001b[39;49m\u001b[43m_get_indexer_strict\u001b[49m\u001b[43m(\u001b[49m\u001b[43mkey\u001b[49m\u001b[43m,\u001b[49m\u001b[43m \u001b[49m\u001b[43maxis_name\u001b[49m\u001b[43m)\u001b[49m\n\u001b[0;32m   1560\u001b[0m \u001b[38;5;28;01mreturn\u001b[39;00m keyarr, indexer\n",
      "File \u001b[1;32m~\\AppData\\Local\\Packages\\PythonSoftwareFoundation.Python.3.11_qbz5n2kfra8p0\\LocalCache\\local-packages\\Python311\\site-packages\\pandas\\core\\indexes\\base.py:6200\u001b[0m, in \u001b[0;36mIndex._get_indexer_strict\u001b[1;34m(self, key, axis_name)\u001b[0m\n\u001b[0;32m   6197\u001b[0m \u001b[38;5;28;01melse\u001b[39;00m:\n\u001b[0;32m   6198\u001b[0m     keyarr, indexer, new_indexer \u001b[38;5;241m=\u001b[39m \u001b[38;5;28mself\u001b[39m\u001b[38;5;241m.\u001b[39m_reindex_non_unique(keyarr)\n\u001b[1;32m-> 6200\u001b[0m \u001b[38;5;28;43mself\u001b[39;49m\u001b[38;5;241;43m.\u001b[39;49m\u001b[43m_raise_if_missing\u001b[49m\u001b[43m(\u001b[49m\u001b[43mkeyarr\u001b[49m\u001b[43m,\u001b[49m\u001b[43m \u001b[49m\u001b[43mindexer\u001b[49m\u001b[43m,\u001b[49m\u001b[43m \u001b[49m\u001b[43maxis_name\u001b[49m\u001b[43m)\u001b[49m\n\u001b[0;32m   6202\u001b[0m keyarr \u001b[38;5;241m=\u001b[39m \u001b[38;5;28mself\u001b[39m\u001b[38;5;241m.\u001b[39mtake(indexer)\n\u001b[0;32m   6203\u001b[0m \u001b[38;5;28;01mif\u001b[39;00m \u001b[38;5;28misinstance\u001b[39m(key, Index):\n\u001b[0;32m   6204\u001b[0m     \u001b[38;5;66;03m# GH 42790 - Preserve name from an Index\u001b[39;00m\n",
      "File \u001b[1;32m~\\AppData\\Local\\Packages\\PythonSoftwareFoundation.Python.3.11_qbz5n2kfra8p0\\LocalCache\\local-packages\\Python311\\site-packages\\pandas\\core\\indexes\\base.py:6252\u001b[0m, in \u001b[0;36mIndex._raise_if_missing\u001b[1;34m(self, key, indexer, axis_name)\u001b[0m\n\u001b[0;32m   6249\u001b[0m     \u001b[38;5;28;01mraise\u001b[39;00m \u001b[38;5;167;01mKeyError\u001b[39;00m(\u001b[38;5;124mf\u001b[39m\u001b[38;5;124m\"\u001b[39m\u001b[38;5;124mNone of [\u001b[39m\u001b[38;5;132;01m{\u001b[39;00mkey\u001b[38;5;132;01m}\u001b[39;00m\u001b[38;5;124m] are in the [\u001b[39m\u001b[38;5;132;01m{\u001b[39;00maxis_name\u001b[38;5;132;01m}\u001b[39;00m\u001b[38;5;124m]\u001b[39m\u001b[38;5;124m\"\u001b[39m)\n\u001b[0;32m   6251\u001b[0m not_found \u001b[38;5;241m=\u001b[39m \u001b[38;5;28mlist\u001b[39m(ensure_index(key)[missing_mask\u001b[38;5;241m.\u001b[39mnonzero()[\u001b[38;5;241m0\u001b[39m]]\u001b[38;5;241m.\u001b[39munique())\n\u001b[1;32m-> 6252\u001b[0m \u001b[38;5;28;01mraise\u001b[39;00m \u001b[38;5;167;01mKeyError\u001b[39;00m(\u001b[38;5;124mf\u001b[39m\u001b[38;5;124m\"\u001b[39m\u001b[38;5;132;01m{\u001b[39;00mnot_found\u001b[38;5;132;01m}\u001b[39;00m\u001b[38;5;124m not in index\u001b[39m\u001b[38;5;124m\"\u001b[39m)\n",
      "\u001b[1;31mKeyError\u001b[0m: \"['GB_LIST'] not in index\""
     ]
    }
   ],
   "source": [
    "if requires_gene_mapping:\n",
    "    probe_id_key = 'ID'\n",
    "    gene_symb_key ='GB_LIST'\n",
    "\n",
    "    gene_mapping = get_gene_mapping(gene_annotation, probe_id_key, gene_symb_key)\n",
    "    genetic_data = apply_gene_mapping(genetic_data, gene_mapping)"
   ]
  },
  {
   "cell_type": "code",
   "execution_count": 29,
   "metadata": {
    "ExecuteTime": {
     "end_time": "2024-01-02T01:03:35.156584675Z",
     "start_time": "2024-01-02T01:03:35.114652593Z"
    },
    "collapsed": false
   },
   "outputs": [],
   "source": [
    "if NORMALIZE_GENE:\n",
    "    genetic_data = normalize_gene_symbols_in_index(genetic_data)"
   ]
  },
  {
   "cell_type": "code",
   "execution_count": 30,
   "metadata": {
    "ExecuteTime": {
     "end_time": "2024-01-02T01:03:35.158174021Z",
     "start_time": "2024-01-02T01:03:35.156777134Z"
    },
    "collapsed": false
   },
   "outputs": [],
   "source": [
    "merged_data = geo_merge_clinical_genetic_data(selected_clinical_data, genetic_data)\n",
    "# The preprocessing runs through, which means is_available should be True\n",
    "is_available = True"
   ]
  },
  {
   "cell_type": "code",
   "execution_count": 31,
   "metadata": {
    "ExecuteTime": {
     "end_time": "2024-01-02T01:03:35.158378853Z",
     "start_time": "2024-01-02T01:03:35.156895194Z"
    },
    "collapsed": false
   },
   "outputs": [
    {
     "name": "stdout",
     "output_type": "stream",
     "text": [
      "The merged dataset contains 0 samples.\n"
     ]
    }
   ],
   "source": [
    "print(f\"The merged dataset contains {len(merged_data)} samples.\")"
   ]
  },
  {
   "cell_type": "code",
   "execution_count": 32,
   "metadata": {
    "ExecuteTime": {
     "end_time": "2024-01-02T01:03:35.158646754Z",
     "start_time": "2024-01-02T01:03:35.156975304Z"
    },
    "collapsed": false
   },
   "outputs": [
    {
     "ename": "ValueError",
     "evalue": "attempt to get argmin of an empty sequence",
     "output_type": "error",
     "traceback": [
      "\u001b[1;31m---------------------------------------------------------------------------\u001b[0m",
      "\u001b[1;31mValueError\u001b[0m                                Traceback (most recent call last)",
      "Cell \u001b[1;32mIn[32], line 1\u001b[0m\n\u001b[1;32m----> 1\u001b[0m is_trait_biased, merged_data \u001b[38;5;241m=\u001b[39m \u001b[43mjudge_and_remove_biased_features\u001b[49m\u001b[43m(\u001b[49m\u001b[43mmerged_data\u001b[49m\u001b[43m,\u001b[49m\u001b[43m \u001b[49m\u001b[43mTRAIT\u001b[49m\u001b[43m,\u001b[49m\u001b[43m \u001b[49m\u001b[43mtrait_type\u001b[49m\u001b[38;5;241;43m=\u001b[39;49m\u001b[43mtrait_type\u001b[49m\u001b[43m)\u001b[49m\n\u001b[0;32m      2\u001b[0m is_trait_biased\n",
      "Cell \u001b[1;32mIn[1], line 725\u001b[0m, in \u001b[0;36mjudge_and_remove_biased_features\u001b[1;34m(df, trait, trait_type)\u001b[0m\n\u001b[0;32m    723\u001b[0m \u001b[38;5;28;01massert\u001b[39;00m trait_type \u001b[38;5;129;01min\u001b[39;00m [\u001b[38;5;124m\"\u001b[39m\u001b[38;5;124mbinary\u001b[39m\u001b[38;5;124m\"\u001b[39m, \u001b[38;5;124m\"\u001b[39m\u001b[38;5;124mcontinuous\u001b[39m\u001b[38;5;124m\"\u001b[39m], \u001b[38;5;124mf\u001b[39m\u001b[38;5;124m\"\u001b[39m\u001b[38;5;124mThe trait must be either a binary or a continuous variable!\u001b[39m\u001b[38;5;124m\"\u001b[39m\n\u001b[0;32m    724\u001b[0m \u001b[38;5;28;01mif\u001b[39;00m trait_type \u001b[38;5;241m==\u001b[39m \u001b[38;5;124m\"\u001b[39m\u001b[38;5;124mbinary\u001b[39m\u001b[38;5;124m\"\u001b[39m:\n\u001b[1;32m--> 725\u001b[0m     trait_biased \u001b[38;5;241m=\u001b[39m \u001b[43mjudge_binary_variable_biased\u001b[49m\u001b[43m(\u001b[49m\u001b[43mdf\u001b[49m\u001b[43m,\u001b[49m\u001b[43m \u001b[49m\u001b[43mtrait\u001b[49m\u001b[43m)\u001b[49m\n\u001b[0;32m    726\u001b[0m \u001b[38;5;28;01melse\u001b[39;00m:\n\u001b[0;32m    727\u001b[0m     trait_biased \u001b[38;5;241m=\u001b[39m judge_continuous_variable_biased(df, trait)\n",
      "Cell \u001b[1;32mIn[1], line 523\u001b[0m, in \u001b[0;36mjudge_binary_variable_biased\u001b[1;34m(dataframe, col_name, min_proportion, min_num)\u001b[0m\n\u001b[0;32m    521\u001b[0m total_samples \u001b[38;5;241m=\u001b[39m \u001b[38;5;28mlen\u001b[39m(dataframe)\n\u001b[0;32m    522\u001b[0m rare_label_num \u001b[38;5;241m=\u001b[39m label_counter\u001b[38;5;241m.\u001b[39mmin()\n\u001b[1;32m--> 523\u001b[0m rare_label \u001b[38;5;241m=\u001b[39m \u001b[43mlabel_counter\u001b[49m\u001b[38;5;241;43m.\u001b[39;49m\u001b[43midxmin\u001b[49m\u001b[43m(\u001b[49m\u001b[43m)\u001b[49m\n\u001b[0;32m    524\u001b[0m rare_label_proportion \u001b[38;5;241m=\u001b[39m rare_label_num \u001b[38;5;241m/\u001b[39m total_samples\n\u001b[0;32m    526\u001b[0m \u001b[38;5;28mprint\u001b[39m(\n\u001b[0;32m    527\u001b[0m     \u001b[38;5;124mf\u001b[39m\u001b[38;5;124m\"\u001b[39m\u001b[38;5;124mFor the feature \u001b[39m\u001b[38;5;130;01m\\'\u001b[39;00m\u001b[38;5;132;01m{\u001b[39;00mcol_name\u001b[38;5;132;01m}\u001b[39;00m\u001b[38;5;130;01m\\'\u001b[39;00m\u001b[38;5;124m, the least common label is \u001b[39m\u001b[38;5;124m'\u001b[39m\u001b[38;5;132;01m{\u001b[39;00mrare_label\u001b[38;5;132;01m}\u001b[39;00m\u001b[38;5;124m'\u001b[39m\u001b[38;5;124m with \u001b[39m\u001b[38;5;132;01m{\u001b[39;00mrare_label_num\u001b[38;5;132;01m}\u001b[39;00m\u001b[38;5;124m occurrences. This represents \u001b[39m\u001b[38;5;132;01m{\u001b[39;00mrare_label_proportion\u001b[38;5;132;01m:\u001b[39;00m\u001b[38;5;124m.2%\u001b[39m\u001b[38;5;132;01m}\u001b[39;00m\u001b[38;5;124m of the dataset.\u001b[39m\u001b[38;5;124m\"\u001b[39m)\n",
      "File \u001b[1;32m~\\AppData\\Local\\Packages\\PythonSoftwareFoundation.Python.3.11_qbz5n2kfra8p0\\LocalCache\\local-packages\\Python311\\site-packages\\pandas\\core\\series.py:2668\u001b[0m, in \u001b[0;36mSeries.idxmin\u001b[1;34m(self, axis, skipna, *args, **kwargs)\u001b[0m\n\u001b[0;32m   2663\u001b[0m \u001b[38;5;28;01mwith\u001b[39;00m warnings\u001b[38;5;241m.\u001b[39mcatch_warnings():\n\u001b[0;32m   2664\u001b[0m     \u001b[38;5;66;03m# TODO(3.0): this catching/filtering can be removed\u001b[39;00m\n\u001b[0;32m   2665\u001b[0m     \u001b[38;5;66;03m# ignore warning produced by argmin since we will issue a different\u001b[39;00m\n\u001b[0;32m   2666\u001b[0m     \u001b[38;5;66;03m#  warning for idxmin\u001b[39;00m\n\u001b[0;32m   2667\u001b[0m     warnings\u001b[38;5;241m.\u001b[39msimplefilter(\u001b[38;5;124m\"\u001b[39m\u001b[38;5;124mignore\u001b[39m\u001b[38;5;124m\"\u001b[39m)\n\u001b[1;32m-> 2668\u001b[0m     i \u001b[38;5;241m=\u001b[39m \u001b[38;5;28;43mself\u001b[39;49m\u001b[38;5;241;43m.\u001b[39;49m\u001b[43margmin\u001b[49m\u001b[43m(\u001b[49m\u001b[43maxis\u001b[49m\u001b[43m,\u001b[49m\u001b[43m \u001b[49m\u001b[43mskipna\u001b[49m\u001b[43m,\u001b[49m\u001b[43m \u001b[49m\u001b[38;5;241;43m*\u001b[39;49m\u001b[43margs\u001b[49m\u001b[43m,\u001b[49m\u001b[43m \u001b[49m\u001b[38;5;241;43m*\u001b[39;49m\u001b[38;5;241;43m*\u001b[39;49m\u001b[43mkwargs\u001b[49m\u001b[43m)\u001b[49m\n\u001b[0;32m   2670\u001b[0m \u001b[38;5;28;01mif\u001b[39;00m i \u001b[38;5;241m==\u001b[39m \u001b[38;5;241m-\u001b[39m\u001b[38;5;241m1\u001b[39m:\n\u001b[0;32m   2671\u001b[0m     \u001b[38;5;66;03m# GH#43587 give correct NA value for Index.\u001b[39;00m\n\u001b[0;32m   2672\u001b[0m     warnings\u001b[38;5;241m.\u001b[39mwarn(\n\u001b[0;32m   2673\u001b[0m         \u001b[38;5;124mf\u001b[39m\u001b[38;5;124m\"\u001b[39m\u001b[38;5;124mThe behavior of \u001b[39m\u001b[38;5;132;01m{\u001b[39;00m\u001b[38;5;28mtype\u001b[39m(\u001b[38;5;28mself\u001b[39m)\u001b[38;5;241m.\u001b[39m\u001b[38;5;18m__name__\u001b[39m\u001b[38;5;132;01m}\u001b[39;00m\u001b[38;5;124m.idxmin with all-NA \u001b[39m\u001b[38;5;124m\"\u001b[39m\n\u001b[0;32m   2674\u001b[0m         \u001b[38;5;124m\"\u001b[39m\u001b[38;5;124mvalues, or any-NA and skipna=False, is deprecated. In a future \u001b[39m\u001b[38;5;124m\"\u001b[39m\n\u001b[1;32m   (...)\u001b[0m\n\u001b[0;32m   2677\u001b[0m         stacklevel\u001b[38;5;241m=\u001b[39mfind_stack_level(),\n\u001b[0;32m   2678\u001b[0m     )\n",
      "File \u001b[1;32m~\\AppData\\Local\\Packages\\PythonSoftwareFoundation.Python.3.11_qbz5n2kfra8p0\\LocalCache\\local-packages\\Python311\\site-packages\\pandas\\core\\base.py:785\u001b[0m, in \u001b[0;36mIndexOpsMixin.argmin\u001b[1;34m(self, axis, skipna, *args, **kwargs)\u001b[0m\n\u001b[0;32m    783\u001b[0m         \u001b[38;5;28;01mreturn\u001b[39;00m delegate\u001b[38;5;241m.\u001b[39margmin()\n\u001b[0;32m    784\u001b[0m \u001b[38;5;28;01melse\u001b[39;00m:\n\u001b[1;32m--> 785\u001b[0m     result \u001b[38;5;241m=\u001b[39m \u001b[43mnanops\u001b[49m\u001b[38;5;241;43m.\u001b[39;49m\u001b[43mnanargmin\u001b[49m\u001b[43m(\u001b[49m\u001b[43mdelegate\u001b[49m\u001b[43m,\u001b[49m\u001b[43m \u001b[49m\u001b[43mskipna\u001b[49m\u001b[38;5;241;43m=\u001b[39;49m\u001b[43mskipna\u001b[49m\u001b[43m)\u001b[49m\n\u001b[0;32m    786\u001b[0m     \u001b[38;5;28;01mif\u001b[39;00m result \u001b[38;5;241m==\u001b[39m \u001b[38;5;241m-\u001b[39m\u001b[38;5;241m1\u001b[39m:\n\u001b[0;32m    787\u001b[0m         warnings\u001b[38;5;241m.\u001b[39mwarn(\n\u001b[0;32m    788\u001b[0m             \u001b[38;5;124mf\u001b[39m\u001b[38;5;124m\"\u001b[39m\u001b[38;5;124mThe behavior of \u001b[39m\u001b[38;5;132;01m{\u001b[39;00m\u001b[38;5;28mtype\u001b[39m(\u001b[38;5;28mself\u001b[39m)\u001b[38;5;241m.\u001b[39m\u001b[38;5;18m__name__\u001b[39m\u001b[38;5;132;01m}\u001b[39;00m\u001b[38;5;124m.argmax/argmin \u001b[39m\u001b[38;5;124m\"\u001b[39m\n\u001b[0;32m    789\u001b[0m             \u001b[38;5;124m\"\u001b[39m\u001b[38;5;124mwith skipna=False and NAs, or with all-NAs is deprecated. \u001b[39m\u001b[38;5;124m\"\u001b[39m\n\u001b[1;32m   (...)\u001b[0m\n\u001b[0;32m    792\u001b[0m             stacklevel\u001b[38;5;241m=\u001b[39mfind_stack_level(),\n\u001b[0;32m    793\u001b[0m         )\n",
      "File \u001b[1;32m~\\AppData\\Local\\Packages\\PythonSoftwareFoundation.Python.3.11_qbz5n2kfra8p0\\LocalCache\\local-packages\\Python311\\site-packages\\pandas\\core\\nanops.py:1194\u001b[0m, in \u001b[0;36mnanargmin\u001b[1;34m(values, axis, skipna, mask)\u001b[0m\n\u001b[0;32m   1162\u001b[0m \u001b[38;5;250m\u001b[39m\u001b[38;5;124;03m\"\"\"\u001b[39;00m\n\u001b[0;32m   1163\u001b[0m \u001b[38;5;124;03mParameters\u001b[39;00m\n\u001b[0;32m   1164\u001b[0m \u001b[38;5;124;03m----------\u001b[39;00m\n\u001b[1;32m   (...)\u001b[0m\n\u001b[0;32m   1191\u001b[0m \u001b[38;5;124;03marray([0, 0, 1, 1])\u001b[39;00m\n\u001b[0;32m   1192\u001b[0m \u001b[38;5;124;03m\"\"\"\u001b[39;00m\n\u001b[0;32m   1193\u001b[0m values, mask \u001b[38;5;241m=\u001b[39m _get_values(values, \u001b[38;5;28;01mTrue\u001b[39;00m, fill_value_typ\u001b[38;5;241m=\u001b[39m\u001b[38;5;124m\"\u001b[39m\u001b[38;5;124m+inf\u001b[39m\u001b[38;5;124m\"\u001b[39m, mask\u001b[38;5;241m=\u001b[39mmask)\n\u001b[1;32m-> 1194\u001b[0m result \u001b[38;5;241m=\u001b[39m \u001b[43mvalues\u001b[49m\u001b[38;5;241;43m.\u001b[39;49m\u001b[43margmin\u001b[49m\u001b[43m(\u001b[49m\u001b[43maxis\u001b[49m\u001b[43m)\u001b[49m\n\u001b[0;32m   1195\u001b[0m \u001b[38;5;66;03m# error: Argument 1 to \"_maybe_arg_null_out\" has incompatible type \"Any |\u001b[39;00m\n\u001b[0;32m   1196\u001b[0m \u001b[38;5;66;03m# signedinteger[Any]\"; expected \"ndarray[Any, Any]\"\u001b[39;00m\n\u001b[0;32m   1197\u001b[0m result \u001b[38;5;241m=\u001b[39m _maybe_arg_null_out(result, axis, mask, skipna)  \u001b[38;5;66;03m# type: ignore[arg-type]\u001b[39;00m\n",
      "\u001b[1;31mValueError\u001b[0m: attempt to get argmin of an empty sequence"
     ]
    }
   ],
   "source": [
    "is_trait_biased, merged_data = judge_and_remove_biased_features(merged_data, TRAIT, trait_type=trait_type)\n",
    "is_trait_biased"
   ]
  },
  {
   "cell_type": "code",
   "execution_count": 33,
   "metadata": {
    "ExecuteTime": {
     "end_time": "2024-01-02T01:03:35.158803015Z",
     "start_time": "2024-01-02T01:03:35.157063388Z"
    },
    "collapsed": false
   },
   "outputs": [
    {
     "ename": "NameError",
     "evalue": "name 'is_trait_biased' is not defined",
     "output_type": "error",
     "traceback": [
      "\u001b[1;31m---------------------------------------------------------------------------\u001b[0m",
      "\u001b[1;31mNameError\u001b[0m                                 Traceback (most recent call last)",
      "Cell \u001b[1;32mIn[33], line 1\u001b[0m\n\u001b[1;32m----> 1\u001b[0m save_cohort_info(cohort, JSON_PATH, is_available, \u001b[43mis_trait_biased\u001b[49m, merged_data, note\u001b[38;5;241m=\u001b[39m\u001b[38;5;124m'\u001b[39m\u001b[38;5;124m'\u001b[39m)\n",
      "\u001b[1;31mNameError\u001b[0m: name 'is_trait_biased' is not defined"
     ]
    }
   ],
   "source": [
    "save_cohort_info(cohort, JSON_PATH, is_available, is_trait_biased, merged_data, note='')"
   ]
  },
  {
   "cell_type": "code",
   "execution_count": 34,
   "metadata": {
    "ExecuteTime": {
     "end_time": "2024-01-02T01:03:36.004312476Z",
     "start_time": "2024-01-02T01:03:35.157165158Z"
    },
    "collapsed": false
   },
   "outputs": [
    {
     "ename": "NameError",
     "evalue": "name 'is_trait_biased' is not defined",
     "output_type": "error",
     "traceback": [
      "\u001b[1;31m---------------------------------------------------------------------------\u001b[0m",
      "\u001b[1;31mNameError\u001b[0m                                 Traceback (most recent call last)",
      "Cell \u001b[1;32mIn[34], line 2\u001b[0m\n\u001b[0;32m      1\u001b[0m merged_data\u001b[38;5;241m.\u001b[39mhead()\n\u001b[1;32m----> 2\u001b[0m \u001b[38;5;28;01mif\u001b[39;00m \u001b[38;5;129;01mnot\u001b[39;00m \u001b[43mis_trait_biased\u001b[49m:\n\u001b[0;32m      3\u001b[0m     merged_data\u001b[38;5;241m.\u001b[39mto_csv(os\u001b[38;5;241m.\u001b[39mpath\u001b[38;5;241m.\u001b[39mjoin(OUTPUT_DIR, cohort\u001b[38;5;241m+\u001b[39m\u001b[38;5;124m'\u001b[39m\u001b[38;5;124m.csv\u001b[39m\u001b[38;5;124m'\u001b[39m), index\u001b[38;5;241m=\u001b[39m\u001b[38;5;28;01mFalse\u001b[39;00m)\n",
      "\u001b[1;31mNameError\u001b[0m: name 'is_trait_biased' is not defined"
     ]
    }
   ],
   "source": [
    "merged_data.head()\n",
    "if not is_trait_biased:\n",
    "    merged_data.to_csv(os.path.join(OUTPUT_DIR, cohort+'.csv'), index=False)"
   ]
  },
  {
   "cell_type": "markdown",
   "metadata": {
    "ExecuteTime": {
     "end_time": "2023-12-31T03:58:22.271683755Z",
     "start_time": "2023-12-31T03:58:22.246557674Z"
    },
    "id": "-MTPhRGxJV7I"
   },
   "source": [
    "### 3. Do regression & Cross Validation"
   ]
  },
  {
   "cell_type": "code",
   "execution_count": 35,
   "metadata": {
    "ExecuteTime": {
     "end_time": "2024-01-02T01:03:36.048788605Z",
     "start_time": "2024-01-02T01:03:36.005925887Z"
    },
    "collapsed": false
   },
   "outputs": [],
   "source": [
    "from utils import *"
   ]
  },
  {
   "cell_type": "code",
   "execution_count": 36,
   "metadata": {
    "ExecuteTime": {
     "end_time": "2024-01-02T01:03:36.049183603Z",
     "start_time": "2024-01-02T01:03:36.048440305Z"
    },
    "collapsed": false
   },
   "outputs": [
    {
     "ename": "FileNotFoundError",
     "evalue": "[Errno 2] No such file or directory: '/Users/jacob/Documents/output\\\\Jake\\\\Longevity-and-Aging\\\\cohort_info.json'",
     "output_type": "error",
     "traceback": [
      "\u001b[1;31m---------------------------------------------------------------------------\u001b[0m",
      "\u001b[1;31mFileNotFoundError\u001b[0m                         Traceback (most recent call last)",
      "Cell \u001b[1;32mIn[36], line 1\u001b[0m\n\u001b[1;32m----> 1\u001b[0m best_cohort, ranked_df \u001b[38;5;241m=\u001b[39m \u001b[43mfilter_and_rank_cohorts\u001b[49m\u001b[43m(\u001b[49m\u001b[43mJSON_PATH\u001b[49m\u001b[43m,\u001b[49m\u001b[43m \u001b[49m\u001b[38;5;124;43m'\u001b[39;49m\u001b[38;5;124;43mhas_age\u001b[39;49m\u001b[38;5;124;43m'\u001b[39;49m\u001b[43m)\u001b[49m\n\u001b[0;32m      2\u001b[0m best_cohort\n",
      "Cell \u001b[1;32mIn[1], line 868\u001b[0m, in \u001b[0;36mfilter_and_rank_cohorts\u001b[1;34m(json_file, condition)\u001b[0m\n\u001b[0;32m    855\u001b[0m \u001b[38;5;28;01mdef\u001b[39;00m \u001b[38;5;21mfilter_and_rank_cohorts\u001b[39m(json_file: \u001b[38;5;28mstr\u001b[39m, condition: Union[\u001b[38;5;28mstr\u001b[39m, \u001b[38;5;28;01mNone\u001b[39;00m] \u001b[38;5;241m=\u001b[39m \u001b[38;5;28;01mNone\u001b[39;00m) \u001b[38;5;241m-\u001b[39m\u001b[38;5;241m>\u001b[39m Tuple[\n\u001b[0;32m    856\u001b[0m     Union[\u001b[38;5;28mstr\u001b[39m, \u001b[38;5;28;01mNone\u001b[39;00m], pd\u001b[38;5;241m.\u001b[39mDataFrame]:\n\u001b[0;32m    857\u001b[0m \u001b[38;5;250m    \u001b[39m\u001b[38;5;124;03m\"\"\"\u001b[39;00m\n\u001b[0;32m    858\u001b[0m \u001b[38;5;124;03m    Reads a JSON file, filters cohorts based on usability and an optional condition, then ranks them by sample size.\u001b[39;00m\n\u001b[0;32m    859\u001b[0m \n\u001b[1;32m   (...)\u001b[0m\n\u001b[0;32m    866\u001b[0m \u001b[38;5;124;03m           the filtered and ranked DataFrame.\u001b[39;00m\n\u001b[0;32m    867\u001b[0m \u001b[38;5;124;03m    \"\"\"\u001b[39;00m\n\u001b[1;32m--> 868\u001b[0m     df \u001b[38;5;241m=\u001b[39m \u001b[43mread_json_to_dataframe\u001b[49m\u001b[43m(\u001b[49m\u001b[43mjson_file\u001b[49m\u001b[43m)\u001b[49m\n\u001b[0;32m    869\u001b[0m     \u001b[38;5;28;01mif\u001b[39;00m condition:\n\u001b[0;32m    870\u001b[0m         \u001b[38;5;28;01mif\u001b[39;00m condition\u001b[38;5;241m.\u001b[39mlower() \u001b[38;5;129;01min\u001b[39;00m [\u001b[38;5;124m'\u001b[39m\u001b[38;5;124mage\u001b[39m\u001b[38;5;124m'\u001b[39m, \u001b[38;5;124m'\u001b[39m\u001b[38;5;124mgender\u001b[39m\u001b[38;5;124m'\u001b[39m]:\n",
      "Cell \u001b[1;32mIn[1], line 850\u001b[0m, in \u001b[0;36mread_json_to_dataframe\u001b[1;34m(json_file)\u001b[0m\n\u001b[0;32m    846\u001b[0m \u001b[38;5;28;01mdef\u001b[39;00m \u001b[38;5;21mread_json_to_dataframe\u001b[39m(json_file: \u001b[38;5;28mstr\u001b[39m) \u001b[38;5;241m-\u001b[39m\u001b[38;5;241m>\u001b[39m pd\u001b[38;5;241m.\u001b[39mDataFrame:\n\u001b[0;32m    847\u001b[0m \u001b[38;5;250m    \u001b[39m\u001b[38;5;124;03m\"\"\"\u001b[39;00m\n\u001b[0;32m    848\u001b[0m \u001b[38;5;124;03m    Reads a JSON file and converts it into a pandas DataFrame.\u001b[39;00m\n\u001b[0;32m    849\u001b[0m \u001b[38;5;124;03m    \"\"\"\u001b[39;00m\n\u001b[1;32m--> 850\u001b[0m     \u001b[38;5;28;01mwith\u001b[39;00m \u001b[38;5;28;43mopen\u001b[39;49m\u001b[43m(\u001b[49m\u001b[43mjson_file\u001b[49m\u001b[43m,\u001b[49m\u001b[43m \u001b[49m\u001b[38;5;124;43m'\u001b[39;49m\u001b[38;5;124;43mr\u001b[39;49m\u001b[38;5;124;43m'\u001b[39;49m\u001b[43m)\u001b[49m \u001b[38;5;28;01mas\u001b[39;00m file:\n\u001b[0;32m    851\u001b[0m         data \u001b[38;5;241m=\u001b[39m json\u001b[38;5;241m.\u001b[39mload(file)\n\u001b[0;32m    852\u001b[0m     \u001b[38;5;28;01mreturn\u001b[39;00m pd\u001b[38;5;241m.\u001b[39mDataFrame\u001b[38;5;241m.\u001b[39mfrom_dict(data, orient\u001b[38;5;241m=\u001b[39m\u001b[38;5;124m'\u001b[39m\u001b[38;5;124mindex\u001b[39m\u001b[38;5;124m'\u001b[39m)\u001b[38;5;241m.\u001b[39mreset_index()\u001b[38;5;241m.\u001b[39mrename(columns\u001b[38;5;241m=\u001b[39m{\u001b[38;5;124m'\u001b[39m\u001b[38;5;124mindex\u001b[39m\u001b[38;5;124m'\u001b[39m: \u001b[38;5;124m'\u001b[39m\u001b[38;5;124mcohort_id\u001b[39m\u001b[38;5;124m'\u001b[39m})\n",
      "File \u001b[1;32m~\\AppData\\Local\\Packages\\PythonSoftwareFoundation.Python.3.11_qbz5n2kfra8p0\\LocalCache\\local-packages\\Python311\\site-packages\\IPython\\core\\interactiveshell.py:308\u001b[0m, in \u001b[0;36m_modified_open\u001b[1;34m(file, *args, **kwargs)\u001b[0m\n\u001b[0;32m    301\u001b[0m \u001b[38;5;28;01mif\u001b[39;00m file \u001b[38;5;129;01min\u001b[39;00m {\u001b[38;5;241m0\u001b[39m, \u001b[38;5;241m1\u001b[39m, \u001b[38;5;241m2\u001b[39m}:\n\u001b[0;32m    302\u001b[0m     \u001b[38;5;28;01mraise\u001b[39;00m \u001b[38;5;167;01mValueError\u001b[39;00m(\n\u001b[0;32m    303\u001b[0m         \u001b[38;5;124mf\u001b[39m\u001b[38;5;124m\"\u001b[39m\u001b[38;5;124mIPython won\u001b[39m\u001b[38;5;124m'\u001b[39m\u001b[38;5;124mt let you open fd=\u001b[39m\u001b[38;5;132;01m{\u001b[39;00mfile\u001b[38;5;132;01m}\u001b[39;00m\u001b[38;5;124m by default \u001b[39m\u001b[38;5;124m\"\u001b[39m\n\u001b[0;32m    304\u001b[0m         \u001b[38;5;124m\"\u001b[39m\u001b[38;5;124mas it is likely to crash IPython. If you know what you are doing, \u001b[39m\u001b[38;5;124m\"\u001b[39m\n\u001b[0;32m    305\u001b[0m         \u001b[38;5;124m\"\u001b[39m\u001b[38;5;124myou can use builtins\u001b[39m\u001b[38;5;124m'\u001b[39m\u001b[38;5;124m open.\u001b[39m\u001b[38;5;124m\"\u001b[39m\n\u001b[0;32m    306\u001b[0m     )\n\u001b[1;32m--> 308\u001b[0m \u001b[38;5;28;01mreturn\u001b[39;00m \u001b[43mio_open\u001b[49m\u001b[43m(\u001b[49m\u001b[43mfile\u001b[49m\u001b[43m,\u001b[49m\u001b[43m \u001b[49m\u001b[38;5;241;43m*\u001b[39;49m\u001b[43margs\u001b[49m\u001b[43m,\u001b[49m\u001b[43m \u001b[49m\u001b[38;5;241;43m*\u001b[39;49m\u001b[38;5;241;43m*\u001b[39;49m\u001b[43mkwargs\u001b[49m\u001b[43m)\u001b[49m\n",
      "\u001b[1;31mFileNotFoundError\u001b[0m: [Errno 2] No such file or directory: '/Users/jacob/Documents/output\\\\Jake\\\\Longevity-and-Aging\\\\cohort_info.json'"
     ]
    }
   ],
   "source": [
    "best_cohort, ranked_df = filter_and_rank_cohorts(JSON_PATH, 'has_age')\n",
    "best_cohort"
   ]
  },
  {
   "cell_type": "code",
   "execution_count": 37,
   "metadata": {
    "ExecuteTime": {
     "end_time": "2024-01-02T01:03:36.049430313Z",
     "start_time": "2024-01-02T01:03:36.048984361Z"
    },
    "collapsed": false
   },
   "outputs": [
    {
     "ename": "NameError",
     "evalue": "name 'ranked_df' is not defined",
     "output_type": "error",
     "traceback": [
      "\u001b[1;31m---------------------------------------------------------------------------\u001b[0m",
      "\u001b[1;31mNameError\u001b[0m                                 Traceback (most recent call last)",
      "Cell \u001b[1;32mIn[37], line 1\u001b[0m\n\u001b[1;32m----> 1\u001b[0m \u001b[43mranked_df\u001b[49m\u001b[38;5;241m.\u001b[39mhead()\n",
      "\u001b[1;31mNameError\u001b[0m: name 'ranked_df' is not defined"
     ]
    }
   ],
   "source": [
    "ranked_df.head()"
   ]
  },
  {
   "cell_type": "code",
   "execution_count": 51,
   "metadata": {
    "ExecuteTime": {
     "end_time": "2024-01-02T01:03:36.345375576Z",
     "start_time": "2024-01-02T01:03:36.049289340Z"
    },
    "collapsed": false
   },
   "outputs": [],
   "source": [
    "ck=100\n",
    "listq=[]\n",
    "for df in pd.read_csv(os.path.join(OUTPUT_DIR, best_cohort+'.csv'),chunksize=ck):\n",
    "    listq.append(df)\n",
    "merged_data = pd.concat(listq)\n",
    "#merged_data = pd.read_csv(os.path.join(OUTPUT_DIR, best_cohort+'.csv'))"
   ]
  },
  {
   "cell_type": "code",
   "execution_count": 52,
   "metadata": {
    "ExecuteTime": {
     "end_time": "2024-01-02T01:03:36.400788548Z",
     "start_time": "2024-01-02T01:03:36.355439168Z"
    },
    "collapsed": false
   },
   "outputs": [
    {
     "data": {
      "text/html": [
       "<div>\n",
       "<style scoped>\n",
       "    .dataframe tbody tr th:only-of-type {\n",
       "        vertical-align: middle;\n",
       "    }\n",
       "\n",
       "    .dataframe tbody tr th {\n",
       "        vertical-align: top;\n",
       "    }\n",
       "\n",
       "    .dataframe thead th {\n",
       "        text-align: right;\n",
       "    }\n",
       "</style>\n",
       "<table border=\"1\" class=\"dataframe\">\n",
       "  <thead>\n",
       "    <tr style=\"text-align: right;\">\n",
       "      <th></th>\n",
       "      <th>Longevity-and-Aging</th>\n",
       "      <th>Age</th>\n",
       "    </tr>\n",
       "  </thead>\n",
       "  <tbody>\n",
       "    <tr>\n",
       "      <th>0</th>\n",
       "      <td>1.0</td>\n",
       "      <td>91.53</td>\n",
       "    </tr>\n",
       "    <tr>\n",
       "      <th>1</th>\n",
       "      <td>0.0</td>\n",
       "      <td>56.10</td>\n",
       "    </tr>\n",
       "    <tr>\n",
       "      <th>2</th>\n",
       "      <td>0.0</td>\n",
       "      <td>64.11</td>\n",
       "    </tr>\n",
       "    <tr>\n",
       "      <th>3</th>\n",
       "      <td>1.0</td>\n",
       "      <td>93.40</td>\n",
       "    </tr>\n",
       "    <tr>\n",
       "      <th>4</th>\n",
       "      <td>0.0</td>\n",
       "      <td>53.40</td>\n",
       "    </tr>\n",
       "  </tbody>\n",
       "</table>\n",
       "</div>"
      ],
      "text/plain": [
       "   Longevity-and-Aging    Age\n",
       "0                  1.0  91.53\n",
       "1                  0.0  56.10\n",
       "2                  0.0  64.11\n",
       "3                  1.0  93.40\n",
       "4                  0.0  53.40"
      ]
     },
     "execution_count": 52,
     "metadata": {},
     "output_type": "execute_result"
    }
   ],
   "source": [
    "merged_data.head()"
   ]
  },
  {
   "cell_type": "code",
   "execution_count": 53,
   "metadata": {
    "ExecuteTime": {
     "end_time": "2024-01-02T01:03:36.401002087Z",
     "start_time": "2024-01-02T01:03:36.400659608Z"
    },
    "collapsed": false
   },
   "outputs": [],
   "source": [
    "# If both age and gender features are available, select 'age' as the condition.\n",
    "condition = 'Age'\n",
    "# Remove the other condition to prevent interference.\n",
    "merged_data = merged_data.drop(columns=['Gender'], errors='ignore').astype('float')"
   ]
  },
  {
   "cell_type": "code",
   "execution_count": 54,
   "metadata": {
    "ExecuteTime": {
     "end_time": "2024-01-02T01:03:36.403035823Z",
     "start_time": "2024-01-02T01:03:36.401081946Z"
    },
    "collapsed": false
   },
   "outputs": [],
   "source": [
    "X = merged_data.drop(columns=[TRAIT, condition]).values\n",
    "Y = merged_data[TRAIT].values\n",
    "Z = merged_data[condition].values"
   ]
  },
  {
   "cell_type": "markdown",
   "metadata": {
    "collapsed": false
   },
   "source": [
    "Select the appropriate regression model depending on whether the dataset shows batch effect."
   ]
  },
  {
   "cell_type": "code",
   "execution_count": 55,
   "metadata": {
    "ExecuteTime": {
     "end_time": "2024-01-02T01:03:36.403263628Z",
     "start_time": "2024-01-02T01:03:36.401336170Z"
    },
    "collapsed": false
   },
   "outputs": [
    {
     "data": {
      "text/plain": [
       "False"
      ]
     },
     "execution_count": 55,
     "metadata": {},
     "output_type": "execute_result"
    }
   ],
   "source": [
    "has_batch_effect = detect_batch_effect(X)\n",
    "has_batch_effect"
   ]
  },
  {
   "cell_type": "code",
   "execution_count": 57,
   "metadata": {
    "ExecuteTime": {
     "end_time": "2024-01-02T01:03:36.475053437Z",
     "start_time": "2024-01-02T01:03:36.444397231Z"
    },
    "collapsed": false
   },
   "outputs": [],
   "source": [
    "\n",
    "if has_batch_effect:\n",
    "    model_constructor1 = VariableSelection\n",
    "    model_params1 = {'modified': True, 'lamda': 3e-4}\n",
    "    model_constructor2 = VariableSelection\n",
    "    model_params2 = {'modified': False}\n",
    "else:\n",
    "    model_constructor1 = Lasso\n",
    "    model_params1 = {'alpha': 1.0, 'random_state': 42}\n",
    "    model_constructor2 = VariableSelection\n",
    "    model_params2 = {'modified': False}"
   ]
  },
  {
   "cell_type": "code",
   "execution_count": 58,
   "metadata": {
    "ExecuteTime": {
     "end_time": "2024-01-02T01:03:50.733335364Z",
     "start_time": "2024-01-02T01:03:36.444563711Z"
    },
    "collapsed": false
   },
   "outputs": [
    {
     "ename": "ValueError",
     "evalue": "Found array with 0 feature(s) (shape=(60, 0)) while a minimum of 1 is required by Lasso.",
     "output_type": "error",
     "traceback": [
      "\u001b[0;31m---------------------------------------------------------------------------\u001b[0m",
      "\u001b[0;31mValueError\u001b[0m                                Traceback (most recent call last)",
      "\u001b[1;32m/home/yxcheng/AI4Science_gold_standard/stage1/Jianrong/Longevity-and-Aging.ipynb 单元格 75\u001b[0m line \u001b[0;36m2\n\u001b[1;32m      <a href='vscode-notebook-cell://ssh-remote%2B218.199.69.68/home/yxcheng/AI4Science_gold_standard/stage1/Jianrong/Longevity-and-Aging.ipynb#Y134sdnNjb2RlLXJlbW90ZQ%3D%3D?line=0'>1</a>\u001b[0m trait_type \u001b[39m=\u001b[39m \u001b[39m'\u001b[39m\u001b[39mbinary\u001b[39m\u001b[39m'\u001b[39m  \u001b[39m# Remember to set this properly, either 'binary' or 'continuous'\u001b[39;00m\n\u001b[0;32m----> <a href='vscode-notebook-cell://ssh-remote%2B218.199.69.68/home/yxcheng/AI4Science_gold_standard/stage1/Jianrong/Longevity-and-Aging.ipynb#Y134sdnNjb2RlLXJlbW90ZQ%3D%3D?line=1'>2</a>\u001b[0m cv_mean1, cv_std1 \u001b[39m=\u001b[39m cross_validation(X, Y, Z, model_constructor1, model_params1, target_type\u001b[39m=\u001b[39;49mtrait_type)\n",
      "File \u001b[0;32m~/AI4Science_gold_standard/stage1/Jianrong/../utils.py:366\u001b[0m, in \u001b[0;36mcross_validation\u001b[0;34m(X, Y, Z, model_constructor, model_params, k, target_type)\u001b[0m\n\u001b[1;32m    364\u001b[0m \u001b[39m# model = model_constructor(**model_params)\u001b[39;00m\n\u001b[1;32m    365\u001b[0m model \u001b[39m=\u001b[39m ResidualizationRegressor(model_constructor, model_params)\n\u001b[0;32m--> 366\u001b[0m model\u001b[39m.\u001b[39;49mfit(normalized_X_train, Y_train, normalized_Z_train)\n\u001b[1;32m    367\u001b[0m predictions \u001b[39m=\u001b[39m model\u001b[39m.\u001b[39mpredict(normalized_X_test, normalized_Z_test)\n\u001b[1;32m    369\u001b[0m \u001b[39mif\u001b[39;00m target_type \u001b[39m==\u001b[39m \u001b[39m'\u001b[39m\u001b[39mbinary\u001b[39m\u001b[39m'\u001b[39m:\n",
      "File \u001b[0;32m~/AI4Science_gold_standard/stage1/Jianrong/../utils.py:309\u001b[0m, in \u001b[0;36mResidualizationRegressor.fit\u001b[0;34m(self, X, Y, Z)\u001b[0m\n\u001b[1;32m    306\u001b[0m e_Y \u001b[39m=\u001b[39m Y \u001b[39m-\u001b[39m Y_hat  \u001b[39m# Residual of Y\u001b[39;00m\n\u001b[1;32m    308\u001b[0m \u001b[39m# Step 2: Regress the residual on X using the included regression model\u001b[39;00m\n\u001b[0;32m--> 309\u001b[0m \u001b[39mself\u001b[39;49m\u001b[39m.\u001b[39;49mregression_model\u001b[39m.\u001b[39;49mfit(X, e_Y)\n\u001b[1;32m    311\u001b[0m \u001b[39m# Obtain coefficients from the regression model\u001b[39;00m\n\u001b[1;32m    312\u001b[0m \u001b[39mif\u001b[39;00m \u001b[39mhasattr\u001b[39m(\u001b[39mself\u001b[39m\u001b[39m.\u001b[39mregression_model, \u001b[39m'\u001b[39m\u001b[39mcoef_\u001b[39m\u001b[39m'\u001b[39m):\n",
      "File \u001b[0;32m~/anaconda3/envs/ai4sci/lib/python3.10/site-packages/sklearn/base.py:1152\u001b[0m, in \u001b[0;36m_fit_context.<locals>.decorator.<locals>.wrapper\u001b[0;34m(estimator, *args, **kwargs)\u001b[0m\n\u001b[1;32m   1145\u001b[0m     estimator\u001b[39m.\u001b[39m_validate_params()\n\u001b[1;32m   1147\u001b[0m \u001b[39mwith\u001b[39;00m config_context(\n\u001b[1;32m   1148\u001b[0m     skip_parameter_validation\u001b[39m=\u001b[39m(\n\u001b[1;32m   1149\u001b[0m         prefer_skip_nested_validation \u001b[39mor\u001b[39;00m global_skip_validation\n\u001b[1;32m   1150\u001b[0m     )\n\u001b[1;32m   1151\u001b[0m ):\n\u001b[0;32m-> 1152\u001b[0m     \u001b[39mreturn\u001b[39;00m fit_method(estimator, \u001b[39m*\u001b[39;49margs, \u001b[39m*\u001b[39;49m\u001b[39m*\u001b[39;49mkwargs)\n",
      "File \u001b[0;32m~/anaconda3/envs/ai4sci/lib/python3.10/site-packages/sklearn/linear_model/_coordinate_descent.py:905\u001b[0m, in \u001b[0;36mElasticNet.fit\u001b[0;34m(self, X, y, sample_weight, check_input)\u001b[0m\n\u001b[1;32m    903\u001b[0m \u001b[39mif\u001b[39;00m check_input:\n\u001b[1;32m    904\u001b[0m     X_copied \u001b[39m=\u001b[39m \u001b[39mself\u001b[39m\u001b[39m.\u001b[39mcopy_X \u001b[39mand\u001b[39;00m \u001b[39mself\u001b[39m\u001b[39m.\u001b[39mfit_intercept\n\u001b[0;32m--> 905\u001b[0m     X, y \u001b[39m=\u001b[39m \u001b[39mself\u001b[39;49m\u001b[39m.\u001b[39;49m_validate_data(\n\u001b[1;32m    906\u001b[0m         X,\n\u001b[1;32m    907\u001b[0m         y,\n\u001b[1;32m    908\u001b[0m         accept_sparse\u001b[39m=\u001b[39;49m\u001b[39m\"\u001b[39;49m\u001b[39mcsc\u001b[39;49m\u001b[39m\"\u001b[39;49m,\n\u001b[1;32m    909\u001b[0m         order\u001b[39m=\u001b[39;49m\u001b[39m\"\u001b[39;49m\u001b[39mF\u001b[39;49m\u001b[39m\"\u001b[39;49m,\n\u001b[1;32m    910\u001b[0m         dtype\u001b[39m=\u001b[39;49m[np\u001b[39m.\u001b[39;49mfloat64, np\u001b[39m.\u001b[39;49mfloat32],\n\u001b[1;32m    911\u001b[0m         copy\u001b[39m=\u001b[39;49mX_copied,\n\u001b[1;32m    912\u001b[0m         multi_output\u001b[39m=\u001b[39;49m\u001b[39mTrue\u001b[39;49;00m,\n\u001b[1;32m    913\u001b[0m         y_numeric\u001b[39m=\u001b[39;49m\u001b[39mTrue\u001b[39;49;00m,\n\u001b[1;32m    914\u001b[0m     )\n\u001b[1;32m    915\u001b[0m     y \u001b[39m=\u001b[39m check_array(\n\u001b[1;32m    916\u001b[0m         y, order\u001b[39m=\u001b[39m\u001b[39m\"\u001b[39m\u001b[39mF\u001b[39m\u001b[39m\"\u001b[39m, copy\u001b[39m=\u001b[39m\u001b[39mFalse\u001b[39;00m, dtype\u001b[39m=\u001b[39mX\u001b[39m.\u001b[39mdtype\u001b[39m.\u001b[39mtype, ensure_2d\u001b[39m=\u001b[39m\u001b[39mFalse\u001b[39;00m\n\u001b[1;32m    917\u001b[0m     )\n\u001b[1;32m    919\u001b[0m n_samples, n_features \u001b[39m=\u001b[39m X\u001b[39m.\u001b[39mshape\n",
      "File \u001b[0;32m~/anaconda3/envs/ai4sci/lib/python3.10/site-packages/sklearn/base.py:622\u001b[0m, in \u001b[0;36mBaseEstimator._validate_data\u001b[0;34m(self, X, y, reset, validate_separately, cast_to_ndarray, **check_params)\u001b[0m\n\u001b[1;32m    620\u001b[0m         y \u001b[39m=\u001b[39m check_array(y, input_name\u001b[39m=\u001b[39m\u001b[39m\"\u001b[39m\u001b[39my\u001b[39m\u001b[39m\"\u001b[39m, \u001b[39m*\u001b[39m\u001b[39m*\u001b[39mcheck_y_params)\n\u001b[1;32m    621\u001b[0m     \u001b[39melse\u001b[39;00m:\n\u001b[0;32m--> 622\u001b[0m         X, y \u001b[39m=\u001b[39m check_X_y(X, y, \u001b[39m*\u001b[39;49m\u001b[39m*\u001b[39;49mcheck_params)\n\u001b[1;32m    623\u001b[0m     out \u001b[39m=\u001b[39m X, y\n\u001b[1;32m    625\u001b[0m \u001b[39mif\u001b[39;00m \u001b[39mnot\u001b[39;00m no_val_X \u001b[39mand\u001b[39;00m check_params\u001b[39m.\u001b[39mget(\u001b[39m\"\u001b[39m\u001b[39mensure_2d\u001b[39m\u001b[39m\"\u001b[39m, \u001b[39mTrue\u001b[39;00m):\n",
      "File \u001b[0;32m~/anaconda3/envs/ai4sci/lib/python3.10/site-packages/sklearn/utils/validation.py:1146\u001b[0m, in \u001b[0;36mcheck_X_y\u001b[0;34m(X, y, accept_sparse, accept_large_sparse, dtype, order, copy, force_all_finite, ensure_2d, allow_nd, multi_output, ensure_min_samples, ensure_min_features, y_numeric, estimator)\u001b[0m\n\u001b[1;32m   1141\u001b[0m         estimator_name \u001b[39m=\u001b[39m _check_estimator_name(estimator)\n\u001b[1;32m   1142\u001b[0m     \u001b[39mraise\u001b[39;00m \u001b[39mValueError\u001b[39;00m(\n\u001b[1;32m   1143\u001b[0m         \u001b[39mf\u001b[39m\u001b[39m\"\u001b[39m\u001b[39m{\u001b[39;00mestimator_name\u001b[39m}\u001b[39;00m\u001b[39m requires y to be passed, but the target y is None\u001b[39m\u001b[39m\"\u001b[39m\n\u001b[1;32m   1144\u001b[0m     )\n\u001b[0;32m-> 1146\u001b[0m X \u001b[39m=\u001b[39m check_array(\n\u001b[1;32m   1147\u001b[0m     X,\n\u001b[1;32m   1148\u001b[0m     accept_sparse\u001b[39m=\u001b[39;49maccept_sparse,\n\u001b[1;32m   1149\u001b[0m     accept_large_sparse\u001b[39m=\u001b[39;49maccept_large_sparse,\n\u001b[1;32m   1150\u001b[0m     dtype\u001b[39m=\u001b[39;49mdtype,\n\u001b[1;32m   1151\u001b[0m     order\u001b[39m=\u001b[39;49morder,\n\u001b[1;32m   1152\u001b[0m     copy\u001b[39m=\u001b[39;49mcopy,\n\u001b[1;32m   1153\u001b[0m     force_all_finite\u001b[39m=\u001b[39;49mforce_all_finite,\n\u001b[1;32m   1154\u001b[0m     ensure_2d\u001b[39m=\u001b[39;49mensure_2d,\n\u001b[1;32m   1155\u001b[0m     allow_nd\u001b[39m=\u001b[39;49mallow_nd,\n\u001b[1;32m   1156\u001b[0m     ensure_min_samples\u001b[39m=\u001b[39;49mensure_min_samples,\n\u001b[1;32m   1157\u001b[0m     ensure_min_features\u001b[39m=\u001b[39;49mensure_min_features,\n\u001b[1;32m   1158\u001b[0m     estimator\u001b[39m=\u001b[39;49mestimator,\n\u001b[1;32m   1159\u001b[0m     input_name\u001b[39m=\u001b[39;49m\u001b[39m\"\u001b[39;49m\u001b[39mX\u001b[39;49m\u001b[39m\"\u001b[39;49m,\n\u001b[1;32m   1160\u001b[0m )\n\u001b[1;32m   1162\u001b[0m y \u001b[39m=\u001b[39m _check_y(y, multi_output\u001b[39m=\u001b[39mmulti_output, y_numeric\u001b[39m=\u001b[39my_numeric, estimator\u001b[39m=\u001b[39mestimator)\n\u001b[1;32m   1164\u001b[0m check_consistent_length(X, y)\n",
      "File \u001b[0;32m~/anaconda3/envs/ai4sci/lib/python3.10/site-packages/sklearn/utils/validation.py:976\u001b[0m, in \u001b[0;36mcheck_array\u001b[0;34m(array, accept_sparse, accept_large_sparse, dtype, order, copy, force_all_finite, ensure_2d, allow_nd, ensure_min_samples, ensure_min_features, estimator, input_name)\u001b[0m\n\u001b[1;32m    974\u001b[0m     n_features \u001b[39m=\u001b[39m array\u001b[39m.\u001b[39mshape[\u001b[39m1\u001b[39m]\n\u001b[1;32m    975\u001b[0m     \u001b[39mif\u001b[39;00m n_features \u001b[39m<\u001b[39m ensure_min_features:\n\u001b[0;32m--> 976\u001b[0m         \u001b[39mraise\u001b[39;00m \u001b[39mValueError\u001b[39;00m(\n\u001b[1;32m    977\u001b[0m             \u001b[39m\"\u001b[39m\u001b[39mFound array with \u001b[39m\u001b[39m%d\u001b[39;00m\u001b[39m feature(s) (shape=\u001b[39m\u001b[39m%s\u001b[39;00m\u001b[39m) while\u001b[39m\u001b[39m\"\u001b[39m\n\u001b[1;32m    978\u001b[0m             \u001b[39m\"\u001b[39m\u001b[39m a minimum of \u001b[39m\u001b[39m%d\u001b[39;00m\u001b[39m is required\u001b[39m\u001b[39m%s\u001b[39;00m\u001b[39m.\u001b[39m\u001b[39m\"\u001b[39m\n\u001b[1;32m    979\u001b[0m             \u001b[39m%\u001b[39m (n_features, array\u001b[39m.\u001b[39mshape, ensure_min_features, context)\n\u001b[1;32m    980\u001b[0m         )\n\u001b[1;32m    982\u001b[0m \u001b[39mif\u001b[39;00m copy:\n\u001b[1;32m    983\u001b[0m     \u001b[39mif\u001b[39;00m _is_numpy_namespace(xp):\n\u001b[1;32m    984\u001b[0m         \u001b[39m# only make a copy if `array` and `array_orig` may share memory`\u001b[39;00m\n",
      "\u001b[0;31mValueError\u001b[0m: Found array with 0 feature(s) (shape=(60, 0)) while a minimum of 1 is required by Lasso."
     ]
    }
   ],
   "source": [
    "trait_type = 'binary'  # Remember to set this properly, either 'binary' or 'continuous'\n",
    "cv_mean1, cv_std1 = cross_validation(X, Y, Z, model_constructor1, model_params1, target_type=trait_type)"
   ]
  },
  {
   "cell_type": "code",
   "execution_count": null,
   "metadata": {},
   "outputs": [],
   "source": [
    "cv_mean2, cv_std2 = cross_validation(X, Y, Z, model_constructor2, model_params2, target_type=trait_type)"
   ]
  },
  {
   "cell_type": "code",
   "execution_count": null,
   "metadata": {
    "ExecuteTime": {
     "end_time": "2024-01-02T01:03:53.587340410Z",
     "start_time": "2024-01-02T01:03:50.732779025Z"
    },
    "collapsed": false
   },
   "outputs": [],
   "source": [
    "normalized_X, _ = normalize_data(X)\n",
    "normalized_Z, _ = normalize_data(Z)\n",
    "\n",
    "# Train regression model on the whole dataset to identify significant genes\n",
    "model1 = ResidualizationRegressor(model_constructor1, model_params1)\n",
    "model1.fit(normalized_X, Y, normalized_Z)\n",
    "\n",
    "model2 = ResidualizationRegressor(model_constructor2, model_params2)\n",
    "model2.fit(normalized_X, Y, normalized_Z)"
   ]
  },
  {
   "cell_type": "markdown",
   "metadata": {
    "ExecuteTime": {
     "end_time": "2023-10-14T04:50:59.072075075Z",
     "start_time": "2023-10-14T04:50:38.739499998Z"
    },
    "id": "EjJrxbvb4nlj"
   },
   "source": [
    "### 5. Discussion and report"
   ]
  },
  {
   "cell_type": "code",
   "execution_count": null,
   "metadata": {
    "ExecuteTime": {
     "end_time": "2024-01-02T01:03:53.641570844Z",
     "start_time": "2024-01-02T01:03:53.627778553Z"
    },
    "collapsed": false
   },
   "outputs": [
    {
     "name": "stdout",
     "output_type": "stream",
     "text": [
      "Effect of the condition on the target variable:\n",
      "Variable: Age\n",
      "Coefficient: 0.0025\n",
      "Found 547 significant genes associated with the trait 'Psoriasis' conditional on the factor 'Age', with corrected p-value < 0.05:\n",
      "   Variable  Coefficient  corrected_p_value\n",
      "4.430015695     0.087750           0.001231\n",
      "4.478193647     0.087750           0.001231\n",
      "4.478966158     0.087750           0.001231\n",
      " 4.48687579     0.087750           0.001231\n",
      "4.491851159     0.087750           0.001231\n",
      "4.492453853     0.087750           0.001231\n",
      "4.494270678     0.087750           0.001231\n",
      "4.504245863     0.087750           0.001231\n",
      "4.505190735     0.087750           0.001231\n",
      "4.505235806     0.087750           0.001231\n",
      "4.506891502     0.087750           0.001231\n",
      "4.510669146     0.087750           0.001231\n",
      "4.476613942     0.087750           0.001231\n",
      " 4.51198966     0.087750           0.001231\n",
      "4.513528153     0.087750           0.001231\n",
      "4.516930407     0.087750           0.001231\n",
      "4.806825082     0.087750           0.001231\n",
      "4.806472355     0.087750           0.001231\n",
      "4.803063266     0.087750           0.001231\n",
      " 4.52918761     0.087750           0.001231\n",
      "4.531488153     0.087750           0.001231\n",
      "4.796764234     0.087750           0.001231\n",
      "4.534374587     0.087750           0.001231\n",
      "4.544427446     0.087750           0.001231\n",
      " 4.54592774     0.087750           0.001231\n",
      "4.512419391     0.087750           0.001231\n",
      "4.549525143     0.087750           0.001231\n",
      "4.808785555     0.087750           0.001231\n",
      "4.822091729     0.087750           0.001231\n",
      "4.879190448     0.087750           0.001231\n",
      "4.425075714     0.087750           0.001231\n",
      " 4.72671124     0.087750           0.001231\n",
      "4.874043922     0.087750           0.001231\n",
      "4.433027679     0.087750           0.001231\n",
      "4.433355205     0.087750           0.001231\n",
      "4.872522198     0.087750           0.001231\n",
      "4.867851455     0.087750           0.001231\n",
      "4.442816841     0.087750           0.001231\n",
      " 4.85813597     0.087750           0.001231\n",
      "4.443660273     0.087750           0.001231\n",
      "4.473690178     0.087750           0.001231\n",
      "9.425064512     0.087750           0.001231\n",
      "4.854220574     0.087750           0.001231\n",
      " 4.83766585     0.087750           0.001231\n",
      "4.451208778     0.087750           0.001231\n",
      " 4.45407269     0.087750           0.001231\n",
      "4.454379679     0.087750           0.001231\n",
      "4.462918625     0.087750           0.001231\n",
      "4.834657195     0.087750           0.001231\n",
      " 4.46650314     0.087750           0.001231\n",
      "4.829760096     0.087750           0.001231\n",
      "4.467820996     0.087750           0.001231\n",
      "4.472055203     0.087750           0.001231\n",
      "4.445849705     0.087750           0.001231\n",
      "4.553736052     0.087750           0.001231\n",
      "4.557001614     0.087750           0.001231\n",
      "4.562842786     0.087750           0.001231\n",
      " 4.66556908     0.087750           0.001231\n",
      "4.759488929     0.087750           0.001231\n",
      "5.382735413     0.087750           0.001231\n",
      "4.671919882     0.087750           0.001231\n",
      "4.674761185     0.087750           0.001231\n",
      "4.675411221     0.087750           0.001231\n",
      "4.675683407     0.087750           0.001231\n",
      "4.676411081     0.087750           0.001231\n",
      "4.677967937     0.087750           0.001231\n",
      " 4.67982582     0.087750           0.001231\n",
      "4.687264924     0.087750           0.001231\n",
      "4.761181767     0.087750           0.001231\n",
      "4.741530021     0.087750           0.001231\n",
      "4.694839273     0.087750           0.001231\n",
      "4.698885868     0.087750           0.001231\n",
      "4.740506814     0.087750           0.001231\n",
      "4.740286147     0.087750           0.001231\n",
      "4.737399443     0.087750           0.001231\n",
      "4.735885263     0.087750           0.001231\n",
      "4.706862811     0.087750           0.001231\n",
      "4.710628179     0.087750           0.001231\n",
      "4.711292054     0.087750           0.001231\n",
      "4.732035059     0.087750           0.001231\n",
      "4.731468703     0.087750           0.001231\n",
      "4.688632873     0.087750           0.001231\n",
      "4.762588577     0.087750           0.001231\n",
      "4.646725963     0.087750           0.001231\n",
      "4.638217769     0.087750           0.001231\n",
      "4.563282175     0.087750           0.001231\n",
      "4.569090452     0.087750           0.001231\n",
      "4.569402987     0.087750           0.001231\n",
      "4.570215076     0.087750           0.001231\n",
      "4.791240988     0.087750           0.001231\n",
      "4.576024053     0.087750           0.001231\n",
      "4.577675667     0.087750           0.001231\n",
      "4.580291854     0.087750           0.001231\n",
      " 4.78606554     0.087750           0.001231\n",
      "4.584420045     0.087750           0.001231\n",
      "4.592759769     0.087750           0.001231\n",
      "4.785193456     0.087750           0.001231\n",
      " 4.59360188     0.087750           0.001231\n",
      "4.781238383     0.087750           0.001231\n",
      "4.613865121     0.087750           0.001231\n",
      " 4.61675507     0.087750           0.001231\n",
      " 4.77870642     0.087750           0.001231\n",
      "4.618744882     0.087750           0.001231\n",
      "4.625252145     0.087750           0.001231\n",
      "4.625901327     0.087750           0.001231\n",
      "4.626864304     0.087750           0.001231\n",
      "4.628349104     0.087750           0.001231\n",
      "4.628600501     0.087750           0.001231\n",
      "4.629169422     0.087750           0.001231\n",
      "4.777291454     0.087750           0.001231\n",
      "4.881373687     0.087750           0.001231\n",
      "4.882400311     0.087750           0.001231\n",
      "4.725623522     0.087750           0.001231\n",
      "4.885354833     0.087750           0.001231\n",
      "5.057111612     0.087750           0.001231\n",
      "4.041850755     0.087750           0.001231\n",
      "4.054082796     0.087750           0.001231\n",
      "4.081967423     0.087750           0.001231\n",
      "4.083330148     0.087750           0.001231\n",
      "5.017545177     0.087750           0.001231\n",
      "5.012285797     0.087750           0.001231\n",
      " 4.10018943     0.087750           0.001231\n",
      "4.106355402     0.087750           0.001231\n",
      "5.004567345     0.087750           0.001231\n",
      "4.117590782     0.087750           0.001231\n",
      "4.119019499     0.087750           0.001231\n",
      " 4.11939731     0.087750           0.001231\n",
      "4.140588201     0.087750           0.001231\n",
      "4.141023152     0.087750           0.001231\n",
      "4.145826358     0.087750           0.001231\n",
      "4.147083099     0.087750           0.001231\n",
      "4.149737552     0.087750           0.001231\n",
      "4.412978608     0.087750           0.001231\n",
      "4.167091893     0.087750           0.001231\n",
      "5.002045104     0.087750           0.001231\n",
      "5.059731601     0.087750           0.001231\n",
      "4.000440652     0.087750           0.001231\n",
      " 5.06293084     0.087750           0.001231\n",
      " 5.06881156     0.087750           0.001231\n",
      "5.313396949     0.087750           0.001231\n",
      " 5.46270626     0.087750           0.001231\n",
      " 5.27152682     0.087750           0.001231\n",
      "5.508126353     0.087750           0.001231\n",
      "5.240872109     0.087750           0.001231\n",
      "5.232109065     0.087750           0.001231\n",
      "5.228262845     0.087750           0.001231\n",
      "5.195595077     0.087750           0.001231\n",
      "5.176185101     0.087750           0.001231\n",
      "      80069     0.087750           0.001231\n",
      "4.198656864     0.087750           0.001231\n",
      "5.155229124     0.087750           0.001231\n",
      "3.711122839     0.087750           0.001231\n",
      "3.812795596     0.087750           0.001231\n",
      " 5.11329107     0.087750           0.001231\n",
      "3.864205214     0.087750           0.001231\n",
      "5.093487128     0.087750           0.001231\n",
      "3.968169551     0.087750           0.001231\n",
      "3.974118074     0.087750           0.001231\n",
      "3.978228552     0.087750           0.001231\n",
      "5.075086942     0.087750           0.001231\n",
      "5.072285198     0.087750           0.001231\n",
      "5.137355125     0.087750           0.001231\n",
      "4.209792546     0.087750           0.001231\n",
      "4.152990359     0.087750           0.001231\n",
      "4.319029457     0.087750           0.001231\n",
      "4.916043318     0.087750           0.001231\n",
      "4.292743021     0.087750           0.001231\n",
      "4.296486459     0.087750           0.001231\n",
      "4.301166569     0.087750           0.001231\n",
      "4.937820613     0.087750           0.001231\n",
      "4.915852772     0.087750           0.001231\n",
      "4.387185664     0.087750           0.001231\n",
      " 4.93147037     0.087750           0.001231\n",
      "4.329078894     0.087750           0.001231\n",
      "4.333274697     0.087750           0.001231\n",
      "4.333476552     0.087750           0.001231\n",
      "4.336026182     0.087750           0.001231\n",
      "4.925435038     0.087750           0.001231\n",
      " 4.34169289     0.087750           0.001231\n",
      "4.344970312     0.087750           0.001231\n",
      "4.915904215     0.087750           0.001231\n",
      "6.441467272     0.087750           0.001231\n",
      "4.919615221     0.087750           0.001231\n",
      "4.373771291     0.087750           0.001231\n",
      "4.908478529     0.087750           0.001231\n",
      "4.943758394     0.087750           0.001231\n",
      "4.914002154     0.087750           0.001231\n",
      "4.268435099     0.087750           0.001231\n",
      "4.978086668     0.087750           0.001231\n",
      "4.215195928     0.087750           0.001231\n",
      "4.216662741     0.087750           0.001231\n",
      "4.400491944     0.087750           0.001231\n",
      "4.217929364     0.087750           0.001231\n",
      "4.949575543     0.087750           0.001231\n",
      "4.233205941     0.087750           0.001231\n",
      "4.235668089     0.087750           0.001231\n",
      "4.386314592     0.087750           0.001231\n",
      " 4.24313456     0.087750           0.001231\n",
      "4.949861934     0.087750           0.001231\n",
      "4.906360475     0.087750           0.001231\n",
      "4.241935396     0.087750           0.001231\n",
      "4.249585891     0.087750           0.001231\n",
      "4.254832845     0.087750           0.001231\n",
      "4.395653877     0.087750           0.001231\n",
      "4.890120978     0.087750           0.001231\n",
      "9.184293909     0.108569           0.001709\n",
      "      84916     0.083592           0.002061\n",
      "      84818     0.074710           0.002711\n",
      "8.969393233     0.094545           0.004001\n",
      "9.125045569    -0.151916           0.005308\n",
      "       5356    -0.151916           0.005308\n",
      "4.733036243    -0.109810           0.007405\n",
      "5.343763975    -0.109810           0.007405\n",
      "5.194111389    -0.109810           0.007405\n",
      "5.313040586    -0.109810           0.007405\n",
      "4.802121823    -0.109810           0.007405\n",
      "4.920244775    -0.109810           0.007405\n",
      "4.795398239    -0.109810           0.007405\n",
      "4.794661995    -0.109810           0.007405\n",
      "4.991742514    -0.109810           0.007405\n",
      "5.846474378    -0.109810           0.007405\n",
      "4.965010199    -0.109810           0.007405\n",
      "5.669965495    -0.109810           0.007405\n",
      "4.794148887    -0.109810           0.007405\n",
      "4.964243443    -0.109810           0.007405\n",
      "4.941959571    -0.109810           0.007405\n",
      "5.022275543    -0.109810           0.007405\n",
      "5.031175535    -0.109810           0.007405\n",
      "4.931694217    -0.109810           0.007405\n",
      "4.814359096    -0.109810           0.007405\n",
      " 4.97924616    -0.109810           0.007405\n",
      "4.765588599    -0.109810           0.007405\n",
      "4.917185337    -0.109810           0.007405\n",
      "9.594389045     0.375357           0.007405\n",
      " 4.66619639    -0.109810           0.007405\n",
      "4.719733385    -0.109810           0.007405\n",
      "4.289631413    -0.109810           0.007405\n",
      "4.306570925    -0.109810           0.007405\n",
      "4.316321809    -0.109810           0.007405\n",
      "4.318116539    -0.109810           0.007405\n",
      "4.341070475    -0.109810           0.007405\n",
      "4.345931906    -0.109810           0.007405\n",
      "4.366991949    -0.109810           0.007405\n",
      "4.368022818    -0.109810           0.007405\n",
      "4.379190072    -0.109810           0.007405\n",
      " 4.38693764    -0.109810           0.007405\n",
      "4.388550112    -0.109810           0.007405\n",
      "4.393234036    -0.109810           0.007405\n",
      " 4.39410031    -0.109810           0.007405\n",
      "4.396921589    -0.109810           0.007405\n",
      " 4.40460193    -0.109810           0.007405\n",
      "4.413855811    -0.109810           0.007405\n",
      "4.417902492    -0.109810           0.007405\n",
      "4.276988391    -0.109810           0.007405\n",
      "4.270026284    -0.109810           0.007405\n",
      "4.265507679    -0.109810           0.007405\n",
      "4.260529712    -0.109810           0.007405\n",
      "9.136524971     0.269209           0.007405\n",
      "3.556741279    -0.109810           0.007405\n",
      "3.576488063    -0.109810           0.007405\n",
      "3.659064023    -0.109810           0.007405\n",
      "3.700422652    -0.109810           0.007405\n",
      "3.841942702    -0.109810           0.007405\n",
      "3.960951441    -0.109810           0.007405\n",
      "      64849    -0.109810           0.007405\n",
      "4.421387222    -0.109810           0.007405\n",
      "4.007681275    -0.109810           0.007405\n",
      "4.725497375    -0.109810           0.007405\n",
      "4.093456467    -0.109810           0.007405\n",
      "4.111944369    -0.109810           0.007405\n",
      "4.128702441    -0.109810           0.007405\n",
      "4.187280255    -0.109810           0.007405\n",
      "4.191354084    -0.109810           0.007405\n",
      "4.212589315    -0.109810           0.007405\n",
      "  4.2183996    -0.109810           0.007405\n",
      " 4.01276489    -0.109810           0.007405\n",
      "4.431010853    -0.109810           0.007405\n",
      "4.086876467    -0.109810           0.007405\n",
      "4.475337359    -0.109810           0.007405\n",
      "4.546668716    -0.109810           0.007405\n",
      "4.539182766    -0.109810           0.007405\n",
      "4.442326388    -0.109810           0.007405\n",
      "4.652766681    -0.109810           0.007405\n",
      "4.574047715    -0.109810           0.007405\n",
      "4.532817765    -0.109810           0.007405\n",
      "4.532723667    -0.109810           0.007405\n",
      "4.611508044    -0.109810           0.007405\n",
      "4.529061678    -0.109810           0.007405\n",
      "4.520825584    -0.109810           0.007405\n",
      "4.518832117    -0.109810           0.007405\n",
      "4.584256544    -0.109810           0.007405\n",
      "4.473014588    -0.109810           0.007405\n",
      "4.617144012    -0.109810           0.007405\n",
      "4.593153584    -0.109810           0.007405\n",
      "4.472706214    -0.109810           0.007405\n",
      "4.467597156    -0.109810           0.007405\n",
      "4.463983441    -0.109810           0.007405\n",
      "4.712299652    -0.109810           0.007405\n",
      "4.447130026    -0.109810           0.007405\n",
      "4.701745991    -0.109810           0.007405\n",
      " 4.44702525    -0.109810           0.007405\n",
      " 4.44403655    -0.109810           0.007405\n",
      "4.443145944    -0.109810           0.007405\n",
      "4.711576412    -0.109810           0.007405\n",
      " 4.65147927    -0.109810           0.007405\n",
      "4.665851094    -0.109810           0.007405\n",
      "4.636271161    -0.109810           0.007405\n",
      "4.688390434    -0.109810           0.007405\n",
      "6.622567681     0.163494           0.007905\n",
      "8.902917609     0.163049           0.009066\n",
      "  100505942     0.070249           0.010743\n",
      "2.900145612     0.082946           0.010829\n",
      "3.132911066     0.093890           0.012257\n",
      "3.539205038     0.101398           0.012411\n",
      "2.950159801     0.080531           0.015226\n",
      "5.118491552     0.109830           0.016862\n",
      "     284801     0.077680           0.018406\n",
      "5.516859444     0.136176           0.020458\n",
      "5.511320044     0.071235           0.022634\n",
      "       8799    -0.138743           0.022634\n",
      "5.505902525     0.071235           0.022634\n",
      "5.519523062     0.071235           0.022634\n",
      "5.498729942     0.071235           0.022634\n",
      "5.520746811     0.071235           0.022634\n",
      "5.521513569     0.071235           0.022634\n",
      "5.497501968     0.071235           0.022634\n",
      "5.522303597     0.071235           0.022634\n",
      "5.493562243     0.071235           0.022634\n",
      "5.879436076     0.071235           0.022634\n",
      " 5.49122468     0.071235           0.022634\n",
      "5.489772704     0.071235           0.022634\n",
      "5.507072378     0.071235           0.022634\n",
      "  6.0046947     0.071235           0.022634\n",
      "5.466429547     0.071235           0.022634\n",
      "5.485280093     0.071235           0.022634\n",
      "5.395626179     0.071235           0.022634\n",
      "5.409952463     0.071235           0.022634\n",
      "5.412615463     0.071235           0.022634\n",
      " 5.41341278     0.071235           0.022634\n",
      "5.416510981     0.071235           0.022634\n",
      "5.425395151     0.071235           0.022634\n",
      "5.430895559     0.071235           0.022634\n",
      "5.435578418     0.071235           0.022634\n",
      "5.439038169     0.071235           0.022634\n",
      "5.440627364     0.071235           0.022634\n",
      "5.444812733     0.071235           0.022634\n",
      "5.450736284     0.071235           0.022634\n",
      "5.489361126     0.071235           0.022634\n",
      "5.455436356     0.071235           0.022634\n",
      "5.458195499     0.071235           0.022634\n",
      "5.458546033     0.071235           0.022634\n",
      "9.147110417     0.192527           0.022634\n",
      "9.145100121     0.132672           0.022634\n",
      " 5.45929722     0.071235           0.022634\n",
      "5.529422719     0.071235           0.022634\n",
      "5.470915076     0.071235           0.022634\n",
      "5.471456973     0.071235           0.022634\n",
      " 5.47178808     0.071235           0.022634\n",
      "5.475927233     0.071235           0.022634\n",
      "5.479681639     0.071235           0.022634\n",
      "5.480777272     0.071235           0.022634\n",
      "5.457922537     0.071235           0.022634\n",
      "5.532383116     0.071235           0.022634\n",
      "5.561676216     0.071235           0.022634\n",
      "5.533415049     0.071235           0.022634\n",
      "5.651691119     0.071235           0.022634\n",
      "5.654114655     0.071235           0.022634\n",
      "5.665260488     0.071235           0.022634\n",
      "5.689015492     0.071235           0.022634\n",
      "5.692674268     0.071235           0.022634\n",
      "5.702507073     0.071235           0.022634\n",
      " 6.51733961     0.071235           0.022634\n",
      "5.858814695     0.071235           0.022634\n",
      "5.928937137     0.071235           0.022634\n",
      "5.708868259     0.071235           0.022634\n",
      "5.733920315     0.071235           0.022634\n",
      "5.650808929     0.071235           0.022634\n",
      "5.935705084     0.071235           0.022634\n",
      "5.741333405     0.071235           0.022634\n",
      "5.743300741     0.071235           0.022634\n",
      "5.838653537     0.071235           0.022634\n",
      "5.760046366     0.071235           0.022634\n",
      "6.373141434     0.071235           0.022634\n",
      "5.838634595     0.071235           0.022634\n",
      "5.778202655     0.071235           0.022634\n",
      "5.824089777     0.071235           0.022634\n",
      "5.815976395     0.071235           0.022634\n",
      "5.788813448     0.071235           0.022634\n",
      "5.791455985     0.071235           0.022634\n",
      "5.740400588     0.071235           0.022634\n",
      "5.894532745     0.071235           0.022634\n",
      "5.643342137     0.071235           0.022634\n",
      "5.640985491     0.071235           0.022634\n",
      "5.535230839     0.071235           0.022634\n",
      "5.535951388     0.071235           0.022634\n",
      "5.537262887     0.071235           0.022634\n",
      " 5.53781128     0.071235           0.022634\n",
      "5.538585441     0.071235           0.022634\n",
      " 5.53972973     0.071235           0.022634\n",
      "5.539808734     0.071235           0.022634\n",
      "5.923377702     0.071235           0.022634\n",
      "5.540530373     0.071235           0.022634\n",
      "5.550127232     0.071235           0.022634\n",
      "5.550339562     0.071235           0.022634\n",
      "6.932588565     0.071235           0.022634\n",
      "5.563443024     0.071235           0.022634\n",
      "5.572493637     0.071235           0.022634\n",
      "8.894525703    -0.138743           0.022634\n",
      "5.575347692     0.071235           0.022634\n",
      "8.773624098    -0.138743           0.022634\n",
      "5.579069232     0.071235           0.022634\n",
      "5.582667089     0.071235           0.022634\n",
      " 5.92360053     0.071235           0.022634\n",
      "5.589407044     0.071235           0.022634\n",
      "5.602155125     0.071235           0.022634\n",
      "5.621517605     0.071235           0.022634\n",
      "5.629457437     0.071235           0.022634\n",
      " 5.56695549     0.071235           0.022634\n",
      "5.369865762     0.071235           0.022634\n",
      "10.96845059    -0.212239           0.022634\n",
      "5.364918105     0.071235           0.022634\n",
      " 4.94343232     0.071235           0.022634\n",
      "4.943857359     0.071235           0.022634\n",
      "4.958679834     0.071235           0.022634\n",
      "4.979255008     0.071235           0.022634\n",
      "4.982827995     0.071235           0.022634\n",
      "4.985146808     0.071235           0.022634\n",
      "5.002100387     0.071235           0.022634\n",
      "5.003701877     0.071235           0.022634\n",
      " 5.00685314     0.071235           0.022634\n",
      " 5.01961486     0.071235           0.022634\n",
      "5.024848414     0.071235           0.022634\n",
      "5.028718006     0.071235           0.022634\n",
      " 5.03566348     0.071235           0.022634\n",
      "5.041095524     0.071235           0.022634\n",
      "5.041345016     0.071235           0.022634\n",
      " 5.05123636     0.071235           0.022634\n",
      "5.365697584     0.071235           0.022634\n",
      "5.063807942     0.071235           0.022634\n",
      "5.066785974     0.071235           0.022634\n",
      "5.069203363     0.071235           0.022634\n",
      "5.078474069     0.071235           0.022634\n",
      "5.082658681     0.071235           0.022634\n",
      "5.097997726     0.071235           0.022634\n",
      "4.935183963     0.071235           0.022634\n",
      "4.918740139     0.071235           0.022634\n",
      "4.898400571     0.071235           0.022634\n",
      "4.878153319     0.071235           0.022634\n",
      "11.00004335    -0.164449           0.022634\n",
      "12.75698068     0.071235           0.022634\n",
      "3.384080486     0.081070           0.022634\n",
      "3.579903005     0.080853           0.022634\n",
      " 3.95143502     0.071235           0.022634\n",
      "3.994042715    -0.108209           0.022634\n",
      "     387742     0.071235           0.022634\n",
      "4.211827094     0.071235           0.022634\n",
      "4.348840492     0.071235           0.022634\n",
      "4.389641267     0.071235           0.022634\n",
      "4.519774222     0.071235           0.022634\n",
      "5.103350591     0.071235           0.022634\n",
      "4.534302897     0.071235           0.022634\n",
      "4.665251156     0.071235           0.022634\n",
      "4.700151783     0.071235           0.022634\n",
      "4.704327123     0.071235           0.022634\n",
      "  4.7065898     0.071235           0.022634\n",
      " 4.78970593     0.071235           0.022634\n",
      " 4.79416188     0.071235           0.022634\n",
      "4.825101141     0.071235           0.022634\n",
      "4.835215442     0.071235           0.022634\n",
      "4.840146602     0.071235           0.022634\n",
      "4.858889905     0.071235           0.022634\n",
      "4.867427946     0.071235           0.022634\n",
      "4.570598065     0.071235           0.022634\n",
      "5.104584953     0.071235           0.022634\n",
      "5.059210022     0.071235           0.022634\n",
      "5.112538008     0.071235           0.022634\n",
      "5.290964545     0.071235           0.022634\n",
      "5.291391052     0.071235           0.022634\n",
      "5.291922406     0.071235           0.022634\n",
      "5.294773978     0.071235           0.022634\n",
      "5.106676657     0.071235           0.022634\n",
      "5.300526949     0.071235           0.022634\n",
      "5.310376016     0.071235           0.022634\n",
      "5.313680782     0.071235           0.022634\n",
      "5.314810709     0.071235           0.022634\n",
      "5.315582837     0.071235           0.022634\n",
      "5.316469301     0.071235           0.022634\n",
      "5.287627795     0.071235           0.022634\n",
      "5.317036734     0.071235           0.022634\n",
      "5.318404087     0.071235           0.022634\n",
      "5.322299905     0.071235           0.022634\n",
      "5.327320637     0.071235           0.022634\n",
      "5.339288366     0.071235           0.022634\n",
      "5.343917283     0.071235           0.022634\n",
      "5.352475339     0.071235           0.022634\n",
      "5.356389778     0.071235           0.022634\n",
      "5.360868154     0.071235           0.022634\n",
      "5.361456451     0.071235           0.022634\n",
      " 5.36396828     0.071235           0.022634\n",
      "5.364493538     0.071235           0.022634\n",
      "5.318197403     0.071235           0.022634\n",
      "5.278731207     0.071235           0.022634\n",
      "5.296934746     0.071235           0.022634\n",
      "5.156886031     0.071235           0.022634\n",
      "5.114546941     0.071235           0.022634\n",
      "5.126895892     0.071235           0.022634\n",
      "5.142113918     0.071235           0.022634\n",
      "5.146275938     0.071235           0.022634\n",
      "5.147940142     0.071235           0.022634\n",
      "5.151106843     0.071235           0.022634\n",
      "5.152029269     0.071235           0.022634\n",
      "5.152901089     0.071235           0.022634\n",
      "5.276190952     0.071235           0.022634\n",
      "5.167212712     0.071235           0.022634\n",
      "5.181135543     0.071235           0.022634\n",
      " 5.19541624     0.071235           0.022634\n",
      "5.202166996     0.071235           0.022634\n",
      "4.855012788     0.071235           0.022634\n",
      "5.234474009     0.071235           0.022634\n",
      "5.239062658     0.071235           0.022634\n",
      "5.272783073     0.071235           0.022634\n",
      "5.244963003     0.071235           0.022634\n",
      "5.266402589     0.071235           0.022634\n",
      "5.248996201     0.071235           0.022634\n",
      "5.249722029     0.071235           0.022634\n",
      "5.263867103     0.071235           0.022634\n",
      "5.251816286     0.071235           0.022634\n",
      "5.261657433     0.071235           0.022634\n",
      "5.255367742     0.071235           0.022634\n",
      "5.218994709     0.071235           0.022634\n",
      "4.027502961    -0.120462           0.022692\n",
      "11.27369242    -0.286784           0.023162\n",
      "3.983532258     0.077339           0.024090\n",
      "3.470195675     0.075224           0.030735\n",
      "5.701501751     0.215165           0.031079\n",
      "4.434451174    -0.102141           0.032627\n",
      "8.846569903     0.154946           0.038505\n",
      "3.645867023     0.070060           0.039396\n",
      "3.022732127     0.070060           0.039396\n",
      "5.861471324     0.178796           0.040563\n",
      " 3.57053999     0.090656           0.043893\n",
      "9.089247562     0.134869           0.044630\n",
      "4.089061738    -0.116953           0.045933\n",
      "7.745020478     0.141581           0.047799\n",
      "4.915304527    -0.116762           0.048942\n",
      "3.996311684     0.089618           0.049238\n",
      "5.984827706     0.144979           0.049599\n"
     ]
    },
    {
     "name": "stderr",
     "output_type": "stream",
     "text": [
      "/home/yxcheng/AI4Science_gold_standard/stage1/Yuxuan/utils.py:425: SettingWithCopyWarning: \n",
      "A value is trying to be set on a copy of a slice from a DataFrame.\n",
      "Try using .loc[row_indexer,col_indexer] = value instead\n",
      "\n",
      "See the caveats in the documentation: https://pandas.pydata.org/pandas-docs/stable/user_guide/indexing.html#returning-a-view-versus-a-copy\n",
      "  gene_regression_df.loc[:, 'corrected_p_value'] = corrected_p_values\n"
     ]
    }
   ],
   "source": [
    "\n",
    "feature_cols = merged_data.columns.tolist()\n",
    "feature_cols.remove(TRAIT)\n",
    "\n",
    "threshold = 0.05\n",
    "interpret_result(model1, feature_cols, TRAIT, condition, threshold=threshold, save_output=True,\n",
    "                 output_dir=OUTPUT_DIR, model_id=1)"
   ]
  },
  {
   "cell_type": "code",
   "execution_count": null,
   "metadata": {
    "collapsed": false
   },
   "outputs": [],
   "source": [
    "interpret_result(model2, feature_cols, TRAIT, condition, threshold=threshold, save_output=True,\n",
    "                 output_dir=OUTPUT_DIR, model_id=2)"
   ]
  }
 ],
 "metadata": {
  "colab": {
   "provenance": []
  },
  "kernelspec": {
   "display_name": "Python 3 (ipykernel)",
   "language": "python",
   "name": "python3"
  },
  "language_info": {
   "codemirror_mode": {
    "name": "ipython",
    "version": 3
   },
   "file_extension": ".py",
   "mimetype": "text/x-python",
   "name": "python",
   "nbconvert_exporter": "python",
   "pygments_lexer": "ipython3",
   "version": "3.11.9"
  }
 },
 "nbformat": 4,
 "nbformat_minor": 0
}
