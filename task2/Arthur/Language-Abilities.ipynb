{
 "cells": [
  {
   "cell_type": "markdown",
   "metadata": {
    "collapsed": false
   },
   "source": [
    "# Gold standard curation: Preprocessing and single-step regression"
   ]
  },
  {
   "cell_type": "markdown",
   "metadata": {
    "collapsed": false
   },
   "source": [
    "In this stage of gold standard curation, we will do the data preprocessing, selection, and single-step regression for the 153 traits in our question set. The workflow consists of the following steps:\n",
    "\n",
    "1. Preprocess all the cohorts related to this trait. Each cohort should be converted to a tabular form and saved to a csv file, with columns being genetic factors, the trait, and age, gender if available;\n",
    "2. If there exists at least one cohort with age or gender information, conduct regression analysis with genetic features together with age or gender as the regressors.\n"
   ]
  },
  {
   "cell_type": "markdown",
   "metadata": {
    "collapsed": false
   },
   "source": [
    "# 1. Basic setup"
   ]
  },
  {
   "cell_type": "code",
   "execution_count": 4,
   "metadata": {
    "ExecuteTime": {
     "end_time": "2024-01-02T01:02:53.240839272Z",
     "start_time": "2024-01-02T01:02:53.240575109Z"
    },
    "collapsed": false
   },
   "outputs": [
    {
     "name": "stdout",
     "output_type": "stream",
     "text": [
      "utils.py has been loaded\n"
     ]
    }
   ],
   "source": [
    "import os\n",
    "import sys\n",
    "\n",
    "sys.path.append('..')\n",
    "from utils import *\n",
    "# Set your preferred name\n",
    "USER = \"Arthur\"\n",
    "# Set the data and output directories\n",
    "DATA_ROOT = 'C:/Users/arthu/Downloads'\n",
    "OUTPUT_ROOT = 'C:/Users/arthu/OneDrive/Documents/GitHub/output2'\n",
    "TRAIT = 'Language-Abilities'\n",
    "\n",
    "OUTPUT_DIR = os.path.join(OUTPUT_ROOT, USER, '-'.join(TRAIT.split()))\n",
    "JSON_PATH = os.path.join(OUTPUT_DIR, \"cohort_info.json\")\n",
    "if not os.path.exists(OUTPUT_DIR):\n",
    "    os.makedirs(OUTPUT_DIR, exist_ok=True)\n",
    "\n",
    "# Gene symbol normalization may take 1-2 minutes. You may set it to False for debugging.\n",
    "NORMALIZE_GENE = True"
   ]
  },
  {
   "cell_type": "code",
   "execution_count": 2,
   "metadata": {
    "ExecuteTime": {
     "end_time": "2024-01-02T01:02:53.501910797Z",
     "start_time": "2024-01-02T01:02:53.496254990Z"
    },
    "colab": {
     "base_uri": "https://localhost:8080/"
    },
    "id": "jMTdsU43vVg3",
    "outputId": "38886111-f442-44b4-8398-96bf384d7abd"
   },
   "outputs": [
    {
     "data": {
      "text/plain": [
       "\"import os\\nfrom google.colab import drive\\n\\ndrive.mount('/content/drive', force_remount=True)\\nproj_dir = '/content/drive/MyDrive/AI4Science_Public'\\nos.chdir(proj_dir)\""
      ]
     },
     "execution_count": 2,
     "metadata": {},
     "output_type": "execute_result"
    }
   ],
   "source": [
    "# This cell is only for use on Google Colab. Skip it if you run your code in other environments\n",
    "\n",
    "\"\"\"import os\n",
    "from google.colab import drive\n",
    "\n",
    "drive.mount('/content/drive', force_remount=True)\n",
    "proj_dir = '/content/drive/MyDrive/AI4Science_Public'\n",
    "os.chdir(proj_dir)\"\"\""
   ]
  },
  {
   "cell_type": "markdown",
   "metadata": {
    "collapsed": false
   },
   "source": [
    "# 2. Data preprocessing and selection"
   ]
  },
  {
   "cell_type": "markdown",
   "metadata": {
    "collapsed": false
   },
   "source": [
    "## 2.1. The TCGA Xena dataset"
   ]
  },
  {
   "cell_type": "markdown",
   "metadata": {
    "collapsed": false
   },
   "source": [
    "In TCGA Xena, there is either zero or one cohort related to the trait. We search the names of subdirectories to see if any matches the trait. If a match is found, we directly obtain the file paths."
   ]
  },
  {
   "cell_type": "code",
   "execution_count": 2,
   "metadata": {
    "ExecuteTime": {
     "end_time": "2024-01-02T01:02:56.462746833Z",
     "start_time": "2024-01-02T01:02:55.818581842Z"
    },
    "collapsed": false
   },
   "outputs": [
    {
     "data": {
      "text/plain": [
       "['TCGA_Adrenocortical_Cancer_(ACC)',\n",
       " 'TCGA_Bile_Duct_Cancer_(CHOL)',\n",
       " 'TCGA_Lower_Grade_Glioma_(LGG)',\n",
       " 'TCGA_Acute_Myeloid_Leukemia_(LAML)',\n",
       " 'TCGA_Esophageal_Cancer_(ESCA)',\n",
       " 'TCGA_Thyroid_Cancer_(THCA)',\n",
       " 'TCGA_Ocular_melanomas_(UVM)',\n",
       " 'TCGA_Ovarian_Cancer_(OV)',\n",
       " 'TCGA_Prostate_Cancer_(PRAD)',\n",
       " 'CrawlData.ipynb',\n",
       " 'TCGA_Kidney_Papillary_Cell_Carcinoma_(KIRP)',\n",
       " 'TCGA_Lung_Cancer_(LUNG)',\n",
       " 'TCGA_Endometrioid_Cancer_(UCEC)',\n",
       " 'TCGA_Testicular_Cancer_(TGCT)',\n",
       " 'TCGA_lower_grade_glioma_and_glioblastoma_(GBMLGG)',\n",
       " 'TCGA_Pancreatic_Cancer_(PAAD)',\n",
       " 'TCGA_Glioblastoma_(GBM)',\n",
       " 'TCGA_Melanoma_(SKCM)',\n",
       " 'TCGA_Kidney_Clear_Cell_Carcinoma_(KIRC)',\n",
       " 'TCGA_Mesothelioma_(MESO)',\n",
       " 'TCGA_Rectal_Cancer_(READ)',\n",
       " 'TCGA_Head_and_Neck_Cancer_(HNSC)',\n",
       " 'TCGA_Large_Bcell_Lymphoma_(DLBC)',\n",
       " 'TCGA_Uterine_Carcinosarcoma_(UCS)',\n",
       " 'TCGA_Colon_Cancer_(COAD)',\n",
       " 'TCGA_Breast_Cancer_(BRCA)',\n",
       " 'TCGA_Bladder_Cancer_(BLCA)',\n",
       " 'TCGA_Sarcoma_(SARC)',\n",
       " 'TCGA_Lung_Squamous_Cell_Carcinoma_(LUSC)',\n",
       " 'TCGA_Cervical_Cancer_(CESC)',\n",
       " 'TCGA_Kidney_Chromophobe_(KICH)',\n",
       " 'TCGA_Stomach_Cancer_(STAD)',\n",
       " 'TCGA_Lung_Adenocarcinoma_(LUAD)',\n",
       " '.DS_Store',\n",
       " 'TCGA_Thymoma_(THYM)',\n",
       " 'TCGA_Colon_and_Rectal_Cancer_(COADREAD)',\n",
       " 'TCGA_Pheochromocytoma_Paraganglioma_(PCPG)',\n",
       " 'TCGA_Liver_Cancer_(LIHC)']"
      ]
     },
     "execution_count": 2,
     "metadata": {},
     "output_type": "execute_result"
    }
   ],
   "source": [
    "import os\n",
    "from utils import *\n",
    "\n",
    "dataset = 'TCGA'\n",
    "dataset_dir = os.path.join(DATA_ROOT, dataset)\n",
    "os.listdir(dataset_dir)[:]"
   ]
  },
  {
   "cell_type": "markdown",
   "metadata": {
    "collapsed": false
   },
   "source": [
    "If no match is found, jump directly to GEO in Part 2.2"
   ]
  },
  {
   "cell_type": "code",
   "execution_count": 27,
   "metadata": {
    "collapsed": false
   },
   "outputs": [],
   "source": [
    "trait_subdir = \"TCGA_Lung_Cancer_(LUNG)\"\n",
    "cohort = 'Xena'\n",
    "# All the cancer traits in Xena are binary\n",
    "trait_type = 'binary'\n",
    "# Once a relevant cohort is found in Xena, we can generally assume the gene and clinical data are available\n",
    "is_available = True\n",
    "\n",
    "clinical_data_file = os.path.join(dataset_dir, trait_subdir, 'TCGA.LUNG.sampleMap_LUNG_clinicalMatrix')\n",
    "genetic_data_file = os.path.join(dataset_dir, trait_subdir, 'TCGA.LUNG.sampleMap_HiSeqV2_PANCAN.gz')"
   ]
  },
  {
   "cell_type": "code",
   "execution_count": 28,
   "metadata": {
    "id": "MudwB-_iz7sc"
   },
   "outputs": [
    {
     "ename": "ParserError",
     "evalue": "Error tokenizing data. C error: Calling read(nbytes) on source failed. Try engine='python'.",
     "output_type": "error",
     "traceback": [
      "\u001b[0;31m---------------------------------------------------------------------------\u001b[0m",
      "\u001b[0;31mParserError\u001b[0m                               Traceback (most recent call last)",
      "\u001b[1;32m/home/yxcheng/AI4Science_gold_standard/stage1/Yuxuan/Psoriasis.ipynb 单元格 12\u001b[0m line \u001b[0;36m4\n\u001b[1;32m      <a href='vscode-notebook-cell://ssh-remote%2B218.199.69.68/home/yxcheng/AI4Science_gold_standard/stage1/Yuxuan/Psoriasis.ipynb#X14sdnNjb2RlLXJlbW90ZQ%3D%3D?line=0'>1</a>\u001b[0m \u001b[39mimport\u001b[39;00m \u001b[39mpandas\u001b[39;00m \u001b[39mas\u001b[39;00m \u001b[39mpd\u001b[39;00m\n\u001b[1;32m      <a href='vscode-notebook-cell://ssh-remote%2B218.199.69.68/home/yxcheng/AI4Science_gold_standard/stage1/Yuxuan/Psoriasis.ipynb#X14sdnNjb2RlLXJlbW90ZQ%3D%3D?line=2'>3</a>\u001b[0m clinical_data \u001b[39m=\u001b[39m pd\u001b[39m.\u001b[39mread_csv(clinical_data_file, sep\u001b[39m=\u001b[39m\u001b[39m'\u001b[39m\u001b[39m\\t\u001b[39;00m\u001b[39m'\u001b[39m, index_col\u001b[39m=\u001b[39m\u001b[39m0\u001b[39m)\n\u001b[0;32m----> <a href='vscode-notebook-cell://ssh-remote%2B218.199.69.68/home/yxcheng/AI4Science_gold_standard/stage1/Yuxuan/Psoriasis.ipynb#X14sdnNjb2RlLXJlbW90ZQ%3D%3D?line=3'>4</a>\u001b[0m genetic_data \u001b[39m=\u001b[39m pd\u001b[39m.\u001b[39;49mread_csv(genetic_data_file, compression\u001b[39m=\u001b[39;49m\u001b[39m'\u001b[39;49m\u001b[39mgzip\u001b[39;49m\u001b[39m'\u001b[39;49m, sep\u001b[39m=\u001b[39;49m\u001b[39m'\u001b[39;49m\u001b[39m\\t\u001b[39;49;00m\u001b[39m'\u001b[39;49m, index_col\u001b[39m=\u001b[39;49m\u001b[39m0\u001b[39;49m)\n\u001b[1;32m      <a href='vscode-notebook-cell://ssh-remote%2B218.199.69.68/home/yxcheng/AI4Science_gold_standard/stage1/Yuxuan/Psoriasis.ipynb#X14sdnNjb2RlLXJlbW90ZQ%3D%3D?line=4'>5</a>\u001b[0m age_col \u001b[39m=\u001b[39m gender_col \u001b[39m=\u001b[39m \u001b[39mNone\u001b[39;00m\n",
      "File \u001b[0;32m~/anaconda3/envs/ai4sci/lib/python3.10/site-packages/pandas/io/parsers/readers.py:948\u001b[0m, in \u001b[0;36mread_csv\u001b[0;34m(filepath_or_buffer, sep, delimiter, header, names, index_col, usecols, dtype, engine, converters, true_values, false_values, skipinitialspace, skiprows, skipfooter, nrows, na_values, keep_default_na, na_filter, verbose, skip_blank_lines, parse_dates, infer_datetime_format, keep_date_col, date_parser, date_format, dayfirst, cache_dates, iterator, chunksize, compression, thousands, decimal, lineterminator, quotechar, quoting, doublequote, escapechar, comment, encoding, encoding_errors, dialect, on_bad_lines, delim_whitespace, low_memory, memory_map, float_precision, storage_options, dtype_backend)\u001b[0m\n\u001b[1;32m    935\u001b[0m kwds_defaults \u001b[39m=\u001b[39m _refine_defaults_read(\n\u001b[1;32m    936\u001b[0m     dialect,\n\u001b[1;32m    937\u001b[0m     delimiter,\n\u001b[0;32m   (...)\u001b[0m\n\u001b[1;32m    944\u001b[0m     dtype_backend\u001b[39m=\u001b[39mdtype_backend,\n\u001b[1;32m    945\u001b[0m )\n\u001b[1;32m    946\u001b[0m kwds\u001b[39m.\u001b[39mupdate(kwds_defaults)\n\u001b[0;32m--> 948\u001b[0m \u001b[39mreturn\u001b[39;00m _read(filepath_or_buffer, kwds)\n",
      "File \u001b[0;32m~/anaconda3/envs/ai4sci/lib/python3.10/site-packages/pandas/io/parsers/readers.py:617\u001b[0m, in \u001b[0;36m_read\u001b[0;34m(filepath_or_buffer, kwds)\u001b[0m\n\u001b[1;32m    614\u001b[0m     \u001b[39mreturn\u001b[39;00m parser\n\u001b[1;32m    616\u001b[0m \u001b[39mwith\u001b[39;00m parser:\n\u001b[0;32m--> 617\u001b[0m     \u001b[39mreturn\u001b[39;00m parser\u001b[39m.\u001b[39;49mread(nrows)\n",
      "File \u001b[0;32m~/anaconda3/envs/ai4sci/lib/python3.10/site-packages/pandas/io/parsers/readers.py:1748\u001b[0m, in \u001b[0;36mTextFileReader.read\u001b[0;34m(self, nrows)\u001b[0m\n\u001b[1;32m   1741\u001b[0m nrows \u001b[39m=\u001b[39m validate_integer(\u001b[39m\"\u001b[39m\u001b[39mnrows\u001b[39m\u001b[39m\"\u001b[39m, nrows)\n\u001b[1;32m   1742\u001b[0m \u001b[39mtry\u001b[39;00m:\n\u001b[1;32m   1743\u001b[0m     \u001b[39m# error: \"ParserBase\" has no attribute \"read\"\u001b[39;00m\n\u001b[1;32m   1744\u001b[0m     (\n\u001b[1;32m   1745\u001b[0m         index,\n\u001b[1;32m   1746\u001b[0m         columns,\n\u001b[1;32m   1747\u001b[0m         col_dict,\n\u001b[0;32m-> 1748\u001b[0m     ) \u001b[39m=\u001b[39m \u001b[39mself\u001b[39;49m\u001b[39m.\u001b[39;49m_engine\u001b[39m.\u001b[39;49mread(  \u001b[39m# type: ignore[attr-defined]\u001b[39;49;00m\n\u001b[1;32m   1749\u001b[0m         nrows\n\u001b[1;32m   1750\u001b[0m     )\n\u001b[1;32m   1751\u001b[0m \u001b[39mexcept\u001b[39;00m \u001b[39mException\u001b[39;00m:\n\u001b[1;32m   1752\u001b[0m     \u001b[39mself\u001b[39m\u001b[39m.\u001b[39mclose()\n",
      "File \u001b[0;32m~/anaconda3/envs/ai4sci/lib/python3.10/site-packages/pandas/io/parsers/c_parser_wrapper.py:234\u001b[0m, in \u001b[0;36mCParserWrapper.read\u001b[0;34m(self, nrows)\u001b[0m\n\u001b[1;32m    232\u001b[0m \u001b[39mtry\u001b[39;00m:\n\u001b[1;32m    233\u001b[0m     \u001b[39mif\u001b[39;00m \u001b[39mself\u001b[39m\u001b[39m.\u001b[39mlow_memory:\n\u001b[0;32m--> 234\u001b[0m         chunks \u001b[39m=\u001b[39m \u001b[39mself\u001b[39;49m\u001b[39m.\u001b[39;49m_reader\u001b[39m.\u001b[39;49mread_low_memory(nrows)\n\u001b[1;32m    235\u001b[0m         \u001b[39m# destructive to chunks\u001b[39;00m\n\u001b[1;32m    236\u001b[0m         data \u001b[39m=\u001b[39m _concatenate_chunks(chunks)\n",
      "File \u001b[0;32mparsers.pyx:843\u001b[0m, in \u001b[0;36mpandas._libs.parsers.TextReader.read_low_memory\u001b[0;34m()\u001b[0m\n",
      "File \u001b[0;32mparsers.pyx:904\u001b[0m, in \u001b[0;36mpandas._libs.parsers.TextReader._read_rows\u001b[0;34m()\u001b[0m\n",
      "File \u001b[0;32mparsers.pyx:879\u001b[0m, in \u001b[0;36mpandas._libs.parsers.TextReader._tokenize_rows\u001b[0;34m()\u001b[0m\n",
      "File \u001b[0;32mparsers.pyx:890\u001b[0m, in \u001b[0;36mpandas._libs.parsers.TextReader._check_tokenize_status\u001b[0;34m()\u001b[0m\n",
      "File \u001b[0;32mparsers.pyx:2058\u001b[0m, in \u001b[0;36mpandas._libs.parsers.raise_parser_error\u001b[0;34m()\u001b[0m\n",
      "\u001b[0;31mParserError\u001b[0m: Error tokenizing data. C error: Calling read(nbytes) on source failed. Try engine='python'."
     ]
    }
   ],
   "source": [
    "import pandas as pd\n",
    "\n",
    "clinical_data = pd.read_csv(clinical_data_file, sep='\\t', index_col=0)\n",
    "genetic_data = pd.read_csv(genetic_data_file, compression='gzip', sep='\\t', index_col=0)\n",
    "age_col = gender_col = None"
   ]
  },
  {
   "cell_type": "code",
   "execution_count": null,
   "metadata": {
    "collapsed": false
   },
   "outputs": [],
   "source": [
    "_, clinical_data_cols = check_rows_and_columns(clinical_data)"
   ]
  },
  {
   "cell_type": "code",
   "execution_count": null,
   "metadata": {
    "collapsed": false
   },
   "outputs": [
    {
     "data": {
      "text/plain": [
       "['ABSOLUTE_Ploidy',\n",
       " 'ABSOLUTE_Purity',\n",
       " 'AKT1',\n",
       " 'ALK_translocation',\n",
       " 'BRAF',\n",
       " 'CBL',\n",
       " 'CTNNB1',\n",
       " 'Canonical_mut_in_KRAS_EGFR_ALK',\n",
       " 'Cnncl_mt_n_KRAS_EGFR_ALK_RET_ROS1_BRAF_ERBB2_HRAS_NRAS_AKT1_MAP2',\n",
       " 'EGFR']"
      ]
     },
     "execution_count": 8,
     "metadata": {},
     "output_type": "execute_result"
    }
   ],
   "source": [
    "clinical_data_cols[:10]"
   ]
  },
  {
   "cell_type": "markdown",
   "metadata": {
    "ExecuteTime": {
     "end_time": "2023-12-28T20:20:11.841042813Z",
     "start_time": "2023-12-28T20:20:11.834458206Z"
    },
    "collapsed": false
   },
   "source": [
    "Read all the column names in the clinical dataset, to find the columns that record information about age or gender.\n",
    "Reference prompt:"
   ]
  },
  {
   "cell_type": "code",
   "execution_count": null,
   "metadata": {
    "collapsed": false
   },
   "outputs": [
    {
     "data": {
      "text/plain": [
       "\"\\nBelow is a list of column names from a biomedical dataset. Please examine it and identify the columns that are likely to contain information about patients' age. Additionally, please do the same for columns that may hold data on patients' gender. Please provide your answer by strictly following this format, without redundant words:\\ncandidate_age_cols = [col_name1, col_name2, ...]\\ncandidate_gender_cols = [col_name1, col_name2, ...]\\nIf no columns match a criterion, please provide an empty list.\\n\\nColumn names:\\n['ABSOLUTE_Ploidy', 'ABSOLUTE_Purity', 'AKT1', 'ALK_translocation', 'BRAF', 'CBL', 'CTNNB1', 'Canonical_mut_in_KRAS_EGFR_ALK', 'Cnncl_mt_n_KRAS_EGFR_ALK_RET_ROS1_BRAF_ERBB2_HRAS_NRAS_AKT1_MAP2', 'EGFR', 'ERBB2', 'ERBB4', 'Estimated_allele_fraction_of_a_clonal_varnt_prsnt_t_1_cpy_pr_cll', 'Expression_Subtype', 'HRAS', 'KRAS', 'MAP2K1', 'MET', 'NRAS', 'PIK3CA', 'PTPN11', 'Pathology', 'Pathology_Updated', 'RET_translocation', 'ROS1_translocation', 'STK11', 'WGS_as_of_20120731_0_no_1_yes', '_INTEGRATION', '_PANCAN_CNA_PANCAN_K8', '_PANCAN_Cluster_Cluster_PANCAN', '_PANCAN_DNAMethyl_PANCAN', '_PANCAN_RPPA_PANCAN_K8', '_PANCAN_UNC_RNAseq_PANCAN_K16', '_PANCAN_miRNA_PANCAN', '_PANCAN_mutation_PANCAN', '_PATIENT', '_cohort', '_primary_disease', '_primary_site', 'additional_pharmaceutical_therapy', 'additional_radiation_therapy', 'additional_surgery_locoregional_procedure', 'additional_surgery_metastatic_procedure', 'age_at_initial_pathologic_diagnosis', 'anatomic_neoplasm_subdivision', 'anatomic_neoplasm_subdivision_other', 'bcr_followup_barcode', 'bcr_patient_barcode', 'bcr_sample_barcode', 'days_to_additional_surgery_locoregional_procedure', 'days_to_additional_surgery_metastatic_procedure', 'days_to_birth', 'days_to_collection', 'days_to_death', 'days_to_initial_pathologic_diagnosis', 'days_to_last_followup', 'days_to_new_tumor_event_after_initial_treatment', 'disease_code', 'dlco_predictive_percent', 'eastern_cancer_oncology_group', 'egfr_mutation_performed', 'egfr_mutation_result', 'eml4_alk_translocation_method', 'eml4_alk_translocation_performed', 'followup_case_report_form_submission_reason', 'followup_treatment_success', 'form_completion_date', 'gender', 'histological_type', 'history_of_neoadjuvant_treatment', 'icd_10', 'icd_o_3_histology', 'icd_o_3_site', 'informed_consent_verified', 'initial_weight', 'intermediate_dimension', 'is_ffpe', 'karnofsky_performance_score', 'kras_gene_analysis_performed', 'kras_mutation_found', 'kras_mutation_result', 'location_in_lung_parenchyma', 'longest_dimension', 'lost_follow_up', 'new_neoplasm_event_type', 'new_tumor_event_after_initial_treatment', 'number_pack_years_smoked', 'oct_embedded', 'other_dx', 'pathologic_M', 'pathologic_N', 'pathologic_T', 'pathologic_stage', 'pathology_report_file_name', 'patient_id', 'performance_status_scale_timing', 'person_neoplasm_cancer_status', 'post_bronchodilator_fev1_fvc_percent', 'post_bronchodilator_fev1_percent', 'pre_bronchodilator_fev1_fvc_percent', 'pre_bronchodilator_fev1_percent', 'primary_therapy_outcome_success', 'progression_determined_by', 'project_code', 'pulmonary_function_test_performed', 'radiation_therapy', 'residual_tumor', 'sample_type', 'sample_type_id', 'shortest_dimension', 'stopped_smoking_year', 'system_version', 'targeted_molecular_therapy', 'tissue_prospective_collection_indicator', 'tissue_retrospective_collection_indicator', 'tissue_source_site', 'tobacco_smoking_history', 'tobacco_smoking_history_indicator', 'tumor_tissue_site', 'vial_number', 'vital_status', 'year_of_initial_pathologic_diagnosis', 'year_of_tobacco_smoking_onset', '_GENOMIC_ID_TCGA_LUNG_exp_HiSeqV2_exon', '_GENOMIC_ID_TCGA_LUNG_hMethyl27', '_GENOMIC_ID_TCGA_LUNG_mutation', '_GENOMIC_ID_TCGA_LUNG_exp_HiSeqV2_PANCAN', '_GENOMIC_ID_TCGA_LUNG_hMethyl450', '_GENOMIC_ID_TCGA_LUNG_gistic2thd', '_GENOMIC_ID_TCGA_LUNG_G4502A_07_3', '_GENOMIC_ID_TCGA_LUNG_exp_HiSeqV2', '_GENOMIC_ID_TCGA_LUNG_gistic2', '_GENOMIC_ID_TCGA_LUNG_RPPA_RBN']\\n\""
      ]
     },
     "execution_count": 9,
     "metadata": {},
     "output_type": "execute_result"
    }
   ],
   "source": [
    "f'''\n",
    "Below is a list of column names from a biomedical dataset. Please examine it and identify the columns that are likely to contain information about patients' age. Additionally, please do the same for columns that may hold data on patients' gender. Please provide your answer by strictly following this format, without redundant words:\n",
    "candidate_age_cols = [col_name1, col_name2, ...]\n",
    "candidate_gender_cols = [col_name1, col_name2, ...]\n",
    "If no columns match a criterion, please provide an empty list.\n",
    "\n",
    "Column names:\n",
    "{clinical_data_cols}\n",
    "'''"
   ]
  },
  {
   "cell_type": "code",
   "execution_count": null,
   "metadata": {
    "collapsed": false
   },
   "outputs": [],
   "source": [
    "candidate_age_cols = ['age_at_initial_pathologic_diagnosis', 'days_to_birth', 'days_to_collection', 'days_to_death', 'days_to_initial_pathologic_diagnosis', 'days_to_last_followup', 'days_to_new_tumor_event_after_initial_treatment', 'stopped_smoking_year', 'year_of_initial_pathologic_diagnosis', 'year_of_tobacco_smoking_onset']\n",
    "\n",
    "candidate_gender_cols = ['gender']"
   ]
  },
  {
   "cell_type": "markdown",
   "metadata": {
    "ExecuteTime": {
     "end_time": "2023-12-31T03:57:44.207565572Z",
     "start_time": "2023-12-31T03:57:44.202177544Z"
    },
    "collapsed": false
   },
   "source": [
    "Choose a single column from the candidate columns that record age and gender information respectively.\n",
    "If no column meets the requirement, keep 'age_col' or 'gender_col' to None"
   ]
  },
  {
   "cell_type": "code",
   "execution_count": null,
   "metadata": {
    "collapsed": false
   },
   "outputs": [
    {
     "data": {
      "text/plain": [
       "{'age_at_initial_pathologic_diagnosis': [70.0, 67.0, 79.0, 68.0, 66.0],\n",
       " 'days_to_birth': [-25752.0, -24532.0, -29068.0, -24868.0, -24411.0],\n",
       " 'days_to_collection': [nan, nan, nan, nan, nan],\n",
       " 'days_to_death': [nan, nan, '121', nan, nan],\n",
       " 'days_to_initial_pathologic_diagnosis': [0.0, 0.0, 0.0, 0.0, 0.0],\n",
       " 'days_to_last_followup': ['0', '1523', nan, '607', '426'],\n",
       " 'days_to_new_tumor_event_after_initial_treatment': [nan,\n",
       "  nan,\n",
       "  nan,\n",
       "  334.0,\n",
       "  183.0],\n",
       " 'stopped_smoking_year': [nan, nan, nan, nan, 1987.0],\n",
       " 'year_of_initial_pathologic_diagnosis': [2009.0,\n",
       "  2007.0,\n",
       "  2007.0,\n",
       "  2009.0,\n",
       "  2009.0],\n",
       " 'year_of_tobacco_smoking_onset': [nan, nan, nan, nan, 1963.0]}"
      ]
     },
     "execution_count": 11,
     "metadata": {},
     "output_type": "execute_result"
    }
   ],
   "source": [
    "preview_df(clinical_data[candidate_age_cols])"
   ]
  },
  {
   "cell_type": "code",
   "execution_count": null,
   "metadata": {
    "collapsed": false
   },
   "outputs": [],
   "source": [
    "age_col = 'age_at_initial_pathologic_diagnosis'"
   ]
  },
  {
   "cell_type": "code",
   "execution_count": null,
   "metadata": {
    "collapsed": false
   },
   "outputs": [
    {
     "data": {
      "text/plain": [
       "{'gender': ['MALE', 'MALE', 'FEMALE', 'MALE', 'MALE']}"
      ]
     },
     "execution_count": 13,
     "metadata": {},
     "output_type": "execute_result"
    }
   ],
   "source": [
    "preview_df(clinical_data[candidate_gender_cols])"
   ]
  },
  {
   "cell_type": "code",
   "execution_count": null,
   "metadata": {
    "collapsed": false
   },
   "outputs": [],
   "source": [
    "gender_col = 'gender'"
   ]
  },
  {
   "cell_type": "code",
   "execution_count": null,
   "metadata": {
    "collapsed": false
   },
   "outputs": [],
   "source": [
    "selected_clinical_data = xena_select_clinical_features(clinical_data, TRAIT, age_col, gender_col)"
   ]
  },
  {
   "cell_type": "code",
   "execution_count": null,
   "metadata": {
    "collapsed": false
   },
   "outputs": [],
   "source": [
    "if NORMALIZE_GENE:\n",
    "    genetic_data = normalize_gene_symbols_in_index(genetic_data)"
   ]
  },
  {
   "cell_type": "code",
   "execution_count": null,
   "metadata": {
    "collapsed": false
   },
   "outputs": [
    {
     "data": {
      "text/html": [
       "<div>\n",
       "<style scoped>\n",
       "    .dataframe tbody tr th:only-of-type {\n",
       "        vertical-align: middle;\n",
       "    }\n",
       "\n",
       "    .dataframe tbody tr th {\n",
       "        vertical-align: top;\n",
       "    }\n",
       "\n",
       "    .dataframe thead th {\n",
       "        text-align: right;\n",
       "    }\n",
       "</style>\n",
       "<table border=\"1\" class=\"dataframe\">\n",
       "  <thead>\n",
       "    <tr style=\"text-align: right;\">\n",
       "      <th></th>\n",
       "      <th>Lung-Cancer</th>\n",
       "      <th>Age</th>\n",
       "      <th>Gender</th>\n",
       "      <th>ARHGEF10L</th>\n",
       "      <th>HIF3A</th>\n",
       "      <th>RNF17</th>\n",
       "      <th>RNF10</th>\n",
       "      <th>RNF11</th>\n",
       "      <th>RNF13</th>\n",
       "      <th>GTF2IP1</th>\n",
       "      <th>...</th>\n",
       "      <th>TULP2</th>\n",
       "      <th>NPY5R</th>\n",
       "      <th>GNGT2</th>\n",
       "      <th>GNGT1</th>\n",
       "      <th>TULP3</th>\n",
       "      <th>PTRF</th>\n",
       "      <th>BCL6B</th>\n",
       "      <th>GSTK1</th>\n",
       "      <th>SELP</th>\n",
       "      <th>SELS</th>\n",
       "    </tr>\n",
       "    <tr>\n",
       "      <th>sampleID</th>\n",
       "      <th></th>\n",
       "      <th></th>\n",
       "      <th></th>\n",
       "      <th></th>\n",
       "      <th></th>\n",
       "      <th></th>\n",
       "      <th></th>\n",
       "      <th></th>\n",
       "      <th></th>\n",
       "      <th></th>\n",
       "      <th></th>\n",
       "      <th></th>\n",
       "      <th></th>\n",
       "      <th></th>\n",
       "      <th></th>\n",
       "      <th></th>\n",
       "      <th></th>\n",
       "      <th></th>\n",
       "      <th></th>\n",
       "      <th></th>\n",
       "      <th></th>\n",
       "    </tr>\n",
       "  </thead>\n",
       "  <tbody>\n",
       "    <tr>\n",
       "      <th>TCGA-05-4244-01</th>\n",
       "      <td>1</td>\n",
       "      <td>70.0</td>\n",
       "      <td>1.0</td>\n",
       "      <td>-0.056592</td>\n",
       "      <td>2.128674</td>\n",
       "      <td>-0.531035</td>\n",
       "      <td>-0.185972</td>\n",
       "      <td>-0.190878</td>\n",
       "      <td>-0.11891</td>\n",
       "      <td>-0.659794</td>\n",
       "      <td>...</td>\n",
       "      <td>0.015022</td>\n",
       "      <td>-1.155117</td>\n",
       "      <td>0.528367</td>\n",
       "      <td>2.75061</td>\n",
       "      <td>0.428423</td>\n",
       "      <td>-0.639586</td>\n",
       "      <td>-0.195527</td>\n",
       "      <td>-0.324695</td>\n",
       "      <td>0.193167</td>\n",
       "      <td>-0.572812</td>\n",
       "    </tr>\n",
       "    <tr>\n",
       "      <th>TCGA-05-4249-01</th>\n",
       "      <td>1</td>\n",
       "      <td>67.0</td>\n",
       "      <td>1.0</td>\n",
       "      <td>-0.569692</td>\n",
       "      <td>-0.318126</td>\n",
       "      <td>-0.531035</td>\n",
       "      <td>0.237428</td>\n",
       "      <td>0.011822</td>\n",
       "      <td>-0.00611</td>\n",
       "      <td>1.018406</td>\n",
       "      <td>...</td>\n",
       "      <td>-0.031778</td>\n",
       "      <td>-0.393117</td>\n",
       "      <td>1.632467</td>\n",
       "      <td>2.33551</td>\n",
       "      <td>-0.145577</td>\n",
       "      <td>-0.997486</td>\n",
       "      <td>-0.276027</td>\n",
       "      <td>-1.219395</td>\n",
       "      <td>1.850967</td>\n",
       "      <td>-0.471212</td>\n",
       "    </tr>\n",
       "    <tr>\n",
       "      <th>TCGA-05-4250-01</th>\n",
       "      <td>1</td>\n",
       "      <td>79.0</td>\n",
       "      <td>0.0</td>\n",
       "      <td>-0.899992</td>\n",
       "      <td>-0.918126</td>\n",
       "      <td>-0.531035</td>\n",
       "      <td>-0.621472</td>\n",
       "      <td>-0.454178</td>\n",
       "      <td>0.58719</td>\n",
       "      <td>-0.198894</td>\n",
       "      <td>...</td>\n",
       "      <td>-0.748878</td>\n",
       "      <td>-1.173917</td>\n",
       "      <td>1.966367</td>\n",
       "      <td>-1.28139</td>\n",
       "      <td>-0.374877</td>\n",
       "      <td>0.959514</td>\n",
       "      <td>0.714373</td>\n",
       "      <td>0.112305</td>\n",
       "      <td>-0.532833</td>\n",
       "      <td>-0.003812</td>\n",
       "    </tr>\n",
       "    <tr>\n",
       "      <th>TCGA-05-4382-01</th>\n",
       "      <td>1</td>\n",
       "      <td>68.0</td>\n",
       "      <td>1.0</td>\n",
       "      <td>0.667508</td>\n",
       "      <td>3.895974</td>\n",
       "      <td>-0.221535</td>\n",
       "      <td>-0.367272</td>\n",
       "      <td>0.131822</td>\n",
       "      <td>0.97629</td>\n",
       "      <td>-0.494994</td>\n",
       "      <td>...</td>\n",
       "      <td>1.013722</td>\n",
       "      <td>-1.587117</td>\n",
       "      <td>0.359267</td>\n",
       "      <td>2.59051</td>\n",
       "      <td>0.806623</td>\n",
       "      <td>0.812114</td>\n",
       "      <td>0.367373</td>\n",
       "      <td>-0.494595</td>\n",
       "      <td>-1.062233</td>\n",
       "      <td>0.108588</td>\n",
       "    </tr>\n",
       "    <tr>\n",
       "      <th>TCGA-05-4384-01</th>\n",
       "      <td>1</td>\n",
       "      <td>66.0</td>\n",
       "      <td>1.0</td>\n",
       "      <td>-0.316892</td>\n",
       "      <td>2.380374</td>\n",
       "      <td>0.156865</td>\n",
       "      <td>0.232828</td>\n",
       "      <td>0.054822</td>\n",
       "      <td>0.27059</td>\n",
       "      <td>0.128606</td>\n",
       "      <td>...</td>\n",
       "      <td>-0.060978</td>\n",
       "      <td>-0.435417</td>\n",
       "      <td>1.111467</td>\n",
       "      <td>-1.28139</td>\n",
       "      <td>-0.128477</td>\n",
       "      <td>0.110214</td>\n",
       "      <td>1.469373</td>\n",
       "      <td>0.194605</td>\n",
       "      <td>1.404667</td>\n",
       "      <td>-0.290712</td>\n",
       "    </tr>\n",
       "  </tbody>\n",
       "</table>\n",
       "<p>5 rows × 20533 columns</p>\n",
       "</div>"
      ],
      "text/plain": [
       "                 Lung-Cancer   Age  Gender  ARHGEF10L     HIF3A     RNF17  \\\n",
       "sampleID                                                                    \n",
       "TCGA-05-4244-01            1  70.0     1.0  -0.056592  2.128674 -0.531035   \n",
       "TCGA-05-4249-01            1  67.0     1.0  -0.569692 -0.318126 -0.531035   \n",
       "TCGA-05-4250-01            1  79.0     0.0  -0.899992 -0.918126 -0.531035   \n",
       "TCGA-05-4382-01            1  68.0     1.0   0.667508  3.895974 -0.221535   \n",
       "TCGA-05-4384-01            1  66.0     1.0  -0.316892  2.380374  0.156865   \n",
       "\n",
       "                    RNF10     RNF11    RNF13   GTF2IP1  ...     TULP2  \\\n",
       "sampleID                                                ...             \n",
       "TCGA-05-4244-01 -0.185972 -0.190878 -0.11891 -0.659794  ...  0.015022   \n",
       "TCGA-05-4249-01  0.237428  0.011822 -0.00611  1.018406  ... -0.031778   \n",
       "TCGA-05-4250-01 -0.621472 -0.454178  0.58719 -0.198894  ... -0.748878   \n",
       "TCGA-05-4382-01 -0.367272  0.131822  0.97629 -0.494994  ...  1.013722   \n",
       "TCGA-05-4384-01  0.232828  0.054822  0.27059  0.128606  ... -0.060978   \n",
       "\n",
       "                    NPY5R     GNGT2    GNGT1     TULP3      PTRF     BCL6B  \\\n",
       "sampleID                                                                     \n",
       "TCGA-05-4244-01 -1.155117  0.528367  2.75061  0.428423 -0.639586 -0.195527   \n",
       "TCGA-05-4249-01 -0.393117  1.632467  2.33551 -0.145577 -0.997486 -0.276027   \n",
       "TCGA-05-4250-01 -1.173917  1.966367 -1.28139 -0.374877  0.959514  0.714373   \n",
       "TCGA-05-4382-01 -1.587117  0.359267  2.59051  0.806623  0.812114  0.367373   \n",
       "TCGA-05-4384-01 -0.435417  1.111467 -1.28139 -0.128477  0.110214  1.469373   \n",
       "\n",
       "                    GSTK1      SELP      SELS  \n",
       "sampleID                                       \n",
       "TCGA-05-4244-01 -0.324695  0.193167 -0.572812  \n",
       "TCGA-05-4249-01 -1.219395  1.850967 -0.471212  \n",
       "TCGA-05-4250-01  0.112305 -0.532833 -0.003812  \n",
       "TCGA-05-4382-01 -0.494595 -1.062233  0.108588  \n",
       "TCGA-05-4384-01  0.194605  1.404667 -0.290712  \n",
       "\n",
       "[5 rows x 20533 columns]"
      ]
     },
     "execution_count": 17,
     "metadata": {},
     "output_type": "execute_result"
    }
   ],
   "source": [
    "merged_data = selected_clinical_data.join(genetic_data.T).dropna()\n",
    "merged_data.head()"
   ]
  },
  {
   "cell_type": "code",
   "execution_count": null,
   "metadata": {
    "collapsed": false
   },
   "outputs": [
    {
     "name": "stdout",
     "output_type": "stream",
     "text": [
      "The merged dataset contains 1100 samples.\n"
     ]
    }
   ],
   "source": [
    "print(f\"The merged dataset contains {len(merged_data)} samples.\")"
   ]
  },
  {
   "cell_type": "code",
   "execution_count": null,
   "metadata": {
    "collapsed": false
   },
   "outputs": [
    {
     "name": "stdout",
     "output_type": "stream",
     "text": [
      "For the feature 'Lung-Cancer', the least common label is '0' with 110 occurrences. This represents 10.00% of the dataset.\n",
      "The distribution of the feature 'Lung-Cancer' in this dataset is fine.\n",
      "\n",
      "Quartiles for 'Age':\n",
      "  25%: 60.0\n",
      "  50% (Median): 67.0\n",
      "  75%: 73.0\n",
      "Min: 38.0\n",
      "Max: 90.0\n",
      "The distribution of the feature 'Age' in this dataset is fine.\n",
      "\n",
      "For the feature 'Gender', the least common label is '0.0' with 443 occurrences. This represents 40.27% of the dataset.\n",
      "The distribution of the feature 'Gender' in this dataset is fine.\n",
      "\n"
     ]
    },
    {
     "data": {
      "text/plain": [
       "False"
      ]
     },
     "execution_count": 19,
     "metadata": {},
     "output_type": "execute_result"
    }
   ],
   "source": [
    "is_trait_biased, merge_data = judge_and_remove_biased_features(merged_data, TRAIT, trait_type=trait_type)\n",
    "is_trait_biased"
   ]
  },
  {
   "cell_type": "code",
   "execution_count": null,
   "metadata": {
    "collapsed": false
   },
   "outputs": [],
   "source": [
    "merged_data.head()\n",
    "if not is_trait_biased:\n",
    "    merge_data.to_csv(os.path.join(OUTPUT_DIR, cohort+'.csv'), index=False)"
   ]
  },
  {
   "cell_type": "code",
   "execution_count": null,
   "metadata": {
    "collapsed": false
   },
   "outputs": [
    {
     "name": "stdout",
     "output_type": "stream",
     "text": [
      "A new JSON file was created at: ../../output1/Yuxuan/Lung-Cancer/cohort_info.json\n"
     ]
    }
   ],
   "source": [
    "save_cohort_info(cohort, JSON_PATH, is_available, is_trait_biased, merged_data)"
   ]
  },
  {
   "cell_type": "markdown",
   "metadata": {
    "ExecuteTime": {
     "end_time": "2023-12-28T21:28:38.028916303Z",
     "start_time": "2023-12-28T21:28:38.016245426Z"
    },
    "collapsed": false
   },
   "source": [
    "## 2.2. The GEO dataset"
   ]
  },
  {
   "cell_type": "markdown",
   "metadata": {
    "ExecuteTime": {
     "end_time": "2023-12-31T03:25:23.253882615Z",
     "start_time": "2023-12-31T03:25:23.244062710Z"
    },
    "collapsed": false
   },
   "source": [
    "In GEO, there may be one or multiple cohorts for a trait. Each cohort is identified by an accession number. We iterate over all accession numbers in the corresponding subdirectory, preprocess the cohort data, and save them to csv files."
   ]
  },
  {
   "cell_type": "code",
   "execution_count": 5,
   "metadata": {
    "ExecuteTime": {
     "end_time": "2024-01-02T01:02:59.503572381Z",
     "start_time": "2024-01-02T01:02:59.491400342Z"
    },
    "collapsed": false
   },
   "outputs": [
    {
     "data": {
      "text/plain": [
       "['GSE103889',\n",
       " 'GSE104554',\n",
       " 'GSE109857',\n",
       " 'GSE130786',\n",
       " 'GSE130787',\n",
       " 'GSE135079',\n",
       " 'GSE150707',\n",
       " 'GSE78278',\n",
       " 'GSE84046',\n",
       " 'GSE92640',\n",
       " 'GSE99573']"
      ]
     },
     "execution_count": 5,
     "metadata": {},
     "output_type": "execute_result"
    }
   ],
   "source": [
    "dataset = 'GEO'\n",
    "trait_subdir = \"Language-Abilities\"\n",
    "\n",
    "trait_path = os.path.join(DATA_ROOT, dataset, trait_subdir)\n",
    "os.listdir(trait_path)"
   ]
  },
  {
   "cell_type": "markdown",
   "metadata": {
    "ExecuteTime": {
     "end_time": "2023-12-31T03:39:42.634870142Z",
     "start_time": "2023-12-31T03:39:42.534093295Z"
    },
    "collapsed": false
   },
   "source": [
    "Repeat the below steps for all the accession numbers"
   ]
  },
  {
   "cell_type": "code",
   "execution_count": 72,
   "metadata": {
    "ExecuteTime": {
     "end_time": "2024-01-02T01:03:00.287218362Z",
     "start_time": "2024-01-02T01:03:00.278758251Z"
    },
    "collapsed": false
   },
   "outputs": [
    {
     "data": {
      "text/plain": [
       "('C:/Users/arthu/Downloads\\\\GEO\\\\Language-Abilities\\\\GSE99573\\\\GSE99573_family.soft.gz',\n",
       " 'C:/Users/arthu/Downloads\\\\GEO\\\\Language-Abilities\\\\GSE99573\\\\GSE99573_series_matrix.txt.gz')"
      ]
     },
     "execution_count": 72,
     "metadata": {},
     "output_type": "execute_result"
    }
   ],
   "source": [
    "cohort = accession_num = \"GSE99573\"\n",
    "cohort_dir = os.path.join(trait_path, accession_num)\n",
    "soft_file, matrix_file = geo_get_relevant_filepaths(cohort_dir)\n",
    "soft_file, matrix_file"
   ]
  },
  {
   "cell_type": "markdown",
   "metadata": {
    "collapsed": false
   },
   "source": [
    "### Inital filtering and clinical data preprocessing"
   ]
  },
  {
   "cell_type": "code",
   "execution_count": 73,
   "metadata": {
    "ExecuteTime": {
     "end_time": "2024-01-02T01:03:01.634861460Z",
     "start_time": "2024-01-02T01:03:01.076370517Z"
    },
    "collapsed": false
   },
   "outputs": [
    {
     "name": "stdout",
     "output_type": "stream",
     "text": [
      "!Series_title\t\"Clinical Performance of a Stool RNA Assay for Early Detection of Precancerous Adenomas and Colorectal Cancer\"\n",
      "!Series_summary\t\"Background and Aims: RNA biomarkers derived from sloughed enterocytes would provide an ideal, non-invasive method for early detection of colorectal cancer (CRC) and precancerous adenomas. To realize this goal, a highly reliable method to isolate preserved human RNA from stool samples is needed. Here we develop a protocol to identify RNA biomarkers associated with CRC to assess the use of these biomarkers for noninvasive screening of disease.\"\n",
      "!Series_summary\t\"Methods: Stool samples were collected from 454 patients prior to a colonoscopy. A nucleic acid extraction protocol was developed to isolate human RNA from 330 stool samples and transcript abundances were estimated by microarray analysis. This 330-patient cohort was split into a training set of 265 individuals to develop a machine learning model and a testing set of 65 individuals to determine the modelâ€™s ability to detect colorectal neoplasms.\"\n",
      "!Series_summary\t\"Results: Analysis of the transcriptome from 265 individuals identified 200 transcript clusters as differentially expressed (p<0.03). These transcripts were used to build a Support Vector Machine (SVM) based model to classify 65 individuals within the testing set. This SVM algorithm attained a 95% sensitivity for precancerous adenomas and a 65% sensitivity for CRC (stage I-IV). The machine learning algorithm attained a specificity of 59% for healthy individuals and an overall accuracy of 72.3%.\"\n",
      "!Series_summary\t\"Conclusions: We developed an RNA-based neoplasm detection model that is sensitive for CRC and precancerous adenomas. The model allows for non-invasive assessment of tumors and could potentially be used to provide clinical guidance for individuals within the screening population for colorectal cancer.\"\n",
      "!Series_overall_design\t\"Total RNA was isolated from 338 stool samples and the transcriptome was assessed using the Affymetrix Human Transcriptome Array 2.0. Differentially expressed genes were identified using the transcript fold change between healthy and diseased individuals. These transcriptomes were used to build a machine learning algorithm to classify individuals as diseased or not diseased.\"\n",
      "!Series_overall_design\t\"Reference samples are 'normal,' cases are 'adenomas' or 'cancer'.\"\n"
     ]
    }
   ],
   "source": [
    "background_prefixes = ['!Series_title', '!Series_summary', '!Series_overall_design']\n",
    "clinical_prefixes = ['!Sample_geo_accession', '!Sample_characteristics_ch1']\n",
    "\n",
    "background_info, clinical_data = get_background_and_clinical_data(matrix_file, background_prefixes, clinical_prefixes)\n",
    "print(background_info)"
   ]
  },
  {
   "cell_type": "code",
   "execution_count": 74,
   "metadata": {
    "ExecuteTime": {
     "end_time": "2024-01-02T01:03:01.642310454Z",
     "start_time": "2024-01-02T01:03:01.635048940Z"
    },
    "collapsed": false
   },
   "outputs": [
    {
     "data": {
      "text/html": [
       "<div>\n",
       "<style scoped>\n",
       "    .dataframe tbody tr th:only-of-type {\n",
       "        vertical-align: middle;\n",
       "    }\n",
       "\n",
       "    .dataframe tbody tr th {\n",
       "        vertical-align: top;\n",
       "    }\n",
       "\n",
       "    .dataframe thead th {\n",
       "        text-align: right;\n",
       "    }\n",
       "</style>\n",
       "<table border=\"1\" class=\"dataframe\">\n",
       "  <thead>\n",
       "    <tr style=\"text-align: right;\">\n",
       "      <th></th>\n",
       "      <th>!Sample_geo_accession</th>\n",
       "      <th>GSM2646622</th>\n",
       "      <th>GSM2646623</th>\n",
       "      <th>GSM2646624</th>\n",
       "      <th>GSM2646625</th>\n",
       "      <th>GSM2646626</th>\n",
       "      <th>GSM2646627</th>\n",
       "      <th>GSM2646628</th>\n",
       "      <th>GSM2646629</th>\n",
       "      <th>GSM2646630</th>\n",
       "      <th>...</th>\n",
       "      <th>GSM2646950</th>\n",
       "      <th>GSM2646951</th>\n",
       "      <th>GSM2646952</th>\n",
       "      <th>GSM2646953</th>\n",
       "      <th>GSM2646954</th>\n",
       "      <th>GSM2646955</th>\n",
       "      <th>GSM2646956</th>\n",
       "      <th>GSM2646957</th>\n",
       "      <th>GSM2646958</th>\n",
       "      <th>GSM2646959</th>\n",
       "    </tr>\n",
       "  </thead>\n",
       "  <tbody>\n",
       "    <tr>\n",
       "      <th>0</th>\n",
       "      <td>!Sample_characteristics_ch1</td>\n",
       "      <td>tissue: Stool</td>\n",
       "      <td>tissue: Stool</td>\n",
       "      <td>tissue: Stool</td>\n",
       "      <td>tissue: Stool</td>\n",
       "      <td>tissue: Stool</td>\n",
       "      <td>tissue: Stool</td>\n",
       "      <td>tissue: Stool</td>\n",
       "      <td>tissue: Stool</td>\n",
       "      <td>tissue: Stool</td>\n",
       "      <td>...</td>\n",
       "      <td>tissue: Stool</td>\n",
       "      <td>tissue: Stool</td>\n",
       "      <td>tissue: Stool</td>\n",
       "      <td>tissue: Stool</td>\n",
       "      <td>tissue: Stool</td>\n",
       "      <td>tissue: Stool</td>\n",
       "      <td>tissue: Stool</td>\n",
       "      <td>tissue: Stool</td>\n",
       "      <td>tissue: Stool</td>\n",
       "      <td>tissue: Stool</td>\n",
       "    </tr>\n",
       "    <tr>\n",
       "      <th>1</th>\n",
       "      <td>!Sample_characteristics_ch1</td>\n",
       "      <td>disease status: Normal</td>\n",
       "      <td>disease status: Normal</td>\n",
       "      <td>disease status: Normal</td>\n",
       "      <td>disease status: Normal</td>\n",
       "      <td>disease status: Normal</td>\n",
       "      <td>disease status: Adenoma</td>\n",
       "      <td>disease status: Stage I</td>\n",
       "      <td>disease status: Stage III</td>\n",
       "      <td>disease status: Stage III</td>\n",
       "      <td>...</td>\n",
       "      <td>disease status: Stage IV</td>\n",
       "      <td>disease status: Stage I</td>\n",
       "      <td>disease status: Benign</td>\n",
       "      <td>disease status: Benign</td>\n",
       "      <td>disease status: Benign</td>\n",
       "      <td>disease status: Benign</td>\n",
       "      <td>disease status: Benign</td>\n",
       "      <td>disease status: Benign</td>\n",
       "      <td>disease status: Benign</td>\n",
       "      <td>disease status: Benign</td>\n",
       "    </tr>\n",
       "    <tr>\n",
       "      <th>2</th>\n",
       "      <td>!Sample_characteristics_ch1</td>\n",
       "      <td>Sex: Female</td>\n",
       "      <td>Sex: Male</td>\n",
       "      <td>Sex: Female</td>\n",
       "      <td>Sex: Female</td>\n",
       "      <td>Sex: Male</td>\n",
       "      <td>Sex: Male</td>\n",
       "      <td>Sex: Female</td>\n",
       "      <td>Sex: Male</td>\n",
       "      <td>Sex: Male</td>\n",
       "      <td>...</td>\n",
       "      <td>Sex: Male</td>\n",
       "      <td>Sex: Male</td>\n",
       "      <td>Sex: Female</td>\n",
       "      <td>Sex: Female</td>\n",
       "      <td>Sex: Male</td>\n",
       "      <td>Sex: Female</td>\n",
       "      <td>Sex: Male</td>\n",
       "      <td>Sex: Male</td>\n",
       "      <td>Sex: Female</td>\n",
       "      <td>Sex: Male</td>\n",
       "    </tr>\n",
       "    <tr>\n",
       "      <th>3</th>\n",
       "      <td>!Sample_characteristics_ch1</td>\n",
       "      <td>age (yr): 62</td>\n",
       "      <td>age (yr): 41</td>\n",
       "      <td>age (yr): 49</td>\n",
       "      <td>age (yr): 49</td>\n",
       "      <td>age (yr): 50</td>\n",
       "      <td>age (yr): 54</td>\n",
       "      <td>age (yr): 53</td>\n",
       "      <td>age (yr): 47</td>\n",
       "      <td>age (yr): 47</td>\n",
       "      <td>...</td>\n",
       "      <td>age (yr): 70</td>\n",
       "      <td>age (yr): 61</td>\n",
       "      <td>age (yr): 50</td>\n",
       "      <td>age (yr): 55</td>\n",
       "      <td>age (yr): 53</td>\n",
       "      <td>age (yr): 57</td>\n",
       "      <td>age (yr): 52</td>\n",
       "      <td>age (yr): 62</td>\n",
       "      <td>age (yr): 51</td>\n",
       "      <td>age (yr): 62</td>\n",
       "    </tr>\n",
       "    <tr>\n",
       "      <th>4</th>\n",
       "      <td>!Sample_characteristics_ch1</td>\n",
       "      <td>ethnicity: Caucasian/white</td>\n",
       "      <td>ethnicity: Caucasian/white</td>\n",
       "      <td>ethnicity: Caucasian/white</td>\n",
       "      <td>ethnicity: Caucasian/white</td>\n",
       "      <td>ethnicity: Caucasian/white</td>\n",
       "      <td>ethnicity: Caucasian/white</td>\n",
       "      <td>ethnicity: Caucasian/white</td>\n",
       "      <td>ethnicity: Caucasian/white</td>\n",
       "      <td>ethnicity: Caucasian/white</td>\n",
       "      <td>...</td>\n",
       "      <td>ethnicity: Caucasian/white</td>\n",
       "      <td>ethnicity: Caucasian/white</td>\n",
       "      <td>ethnicity: Caucasian/white</td>\n",
       "      <td>ethnicity: Caucasian/white</td>\n",
       "      <td>ethnicity: Caucasian/white</td>\n",
       "      <td>ethnicity: Caucasian/white</td>\n",
       "      <td>ethnicity: Caucasian/white</td>\n",
       "      <td>ethnicity: Caucasian/white</td>\n",
       "      <td>ethnicity: Caucasian/white</td>\n",
       "      <td>ethnicity: Caucasian/white</td>\n",
       "    </tr>\n",
       "  </tbody>\n",
       "</table>\n",
       "<p>5 rows × 339 columns</p>\n",
       "</div>"
      ],
      "text/plain": [
       "         !Sample_geo_accession                  GSM2646622  \\\n",
       "0  !Sample_characteristics_ch1               tissue: Stool   \n",
       "1  !Sample_characteristics_ch1      disease status: Normal   \n",
       "2  !Sample_characteristics_ch1                 Sex: Female   \n",
       "3  !Sample_characteristics_ch1                age (yr): 62   \n",
       "4  !Sample_characteristics_ch1  ethnicity: Caucasian/white   \n",
       "\n",
       "                   GSM2646623                  GSM2646624  \\\n",
       "0               tissue: Stool               tissue: Stool   \n",
       "1      disease status: Normal      disease status: Normal   \n",
       "2                   Sex: Male                 Sex: Female   \n",
       "3                age (yr): 41                age (yr): 49   \n",
       "4  ethnicity: Caucasian/white  ethnicity: Caucasian/white   \n",
       "\n",
       "                   GSM2646625                  GSM2646626  \\\n",
       "0               tissue: Stool               tissue: Stool   \n",
       "1      disease status: Normal      disease status: Normal   \n",
       "2                 Sex: Female                   Sex: Male   \n",
       "3                age (yr): 49                age (yr): 50   \n",
       "4  ethnicity: Caucasian/white  ethnicity: Caucasian/white   \n",
       "\n",
       "                   GSM2646627                  GSM2646628  \\\n",
       "0               tissue: Stool               tissue: Stool   \n",
       "1     disease status: Adenoma     disease status: Stage I   \n",
       "2                   Sex: Male                 Sex: Female   \n",
       "3                age (yr): 54                age (yr): 53   \n",
       "4  ethnicity: Caucasian/white  ethnicity: Caucasian/white   \n",
       "\n",
       "                   GSM2646629                  GSM2646630  ...  \\\n",
       "0               tissue: Stool               tissue: Stool  ...   \n",
       "1   disease status: Stage III   disease status: Stage III  ...   \n",
       "2                   Sex: Male                   Sex: Male  ...   \n",
       "3                age (yr): 47                age (yr): 47  ...   \n",
       "4  ethnicity: Caucasian/white  ethnicity: Caucasian/white  ...   \n",
       "\n",
       "                   GSM2646950                  GSM2646951  \\\n",
       "0               tissue: Stool               tissue: Stool   \n",
       "1    disease status: Stage IV     disease status: Stage I   \n",
       "2                   Sex: Male                   Sex: Male   \n",
       "3                age (yr): 70                age (yr): 61   \n",
       "4  ethnicity: Caucasian/white  ethnicity: Caucasian/white   \n",
       "\n",
       "                   GSM2646952                  GSM2646953  \\\n",
       "0               tissue: Stool               tissue: Stool   \n",
       "1      disease status: Benign      disease status: Benign   \n",
       "2                 Sex: Female                 Sex: Female   \n",
       "3                age (yr): 50                age (yr): 55   \n",
       "4  ethnicity: Caucasian/white  ethnicity: Caucasian/white   \n",
       "\n",
       "                   GSM2646954                  GSM2646955  \\\n",
       "0               tissue: Stool               tissue: Stool   \n",
       "1      disease status: Benign      disease status: Benign   \n",
       "2                   Sex: Male                 Sex: Female   \n",
       "3                age (yr): 53                age (yr): 57   \n",
       "4  ethnicity: Caucasian/white  ethnicity: Caucasian/white   \n",
       "\n",
       "                   GSM2646956                  GSM2646957  \\\n",
       "0               tissue: Stool               tissue: Stool   \n",
       "1      disease status: Benign      disease status: Benign   \n",
       "2                   Sex: Male                   Sex: Male   \n",
       "3                age (yr): 52                age (yr): 62   \n",
       "4  ethnicity: Caucasian/white  ethnicity: Caucasian/white   \n",
       "\n",
       "                   GSM2646958                  GSM2646959  \n",
       "0               tissue: Stool               tissue: Stool  \n",
       "1      disease status: Benign      disease status: Benign  \n",
       "2                 Sex: Female                   Sex: Male  \n",
       "3                age (yr): 51                age (yr): 62  \n",
       "4  ethnicity: Caucasian/white  ethnicity: Caucasian/white  \n",
       "\n",
       "[5 rows x 339 columns]"
      ]
     },
     "execution_count": 74,
     "metadata": {},
     "output_type": "execute_result"
    }
   ],
   "source": [
    "clinical_data.head()"
   ]
  },
  {
   "cell_type": "code",
   "execution_count": 75,
   "metadata": {
    "ExecuteTime": {
     "end_time": "2024-01-02T01:03:01.805026160Z",
     "start_time": "2024-01-02T01:03:01.804428154Z"
    },
    "collapsed": false
   },
   "outputs": [
    {
     "data": {
      "text/plain": [
       "{0: ['tissue: Stool'],\n",
       " 1: ['disease status: Normal',\n",
       "  'disease status: Adenoma',\n",
       "  'disease status: Stage I',\n",
       "  'disease status: Stage III',\n",
       "  'disease status: Stage IV',\n",
       "  'disease status: Stage II',\n",
       "  'disease status: Benign'],\n",
       " 2: ['Sex: Female', 'Sex: Male'],\n",
       " 3: ['age (yr): 62',\n",
       "  'age (yr): 41',\n",
       "  'age (yr): 49',\n",
       "  'age (yr): 50',\n",
       "  'age (yr): 54',\n",
       "  'age (yr): 53',\n",
       "  'age (yr): 47',\n",
       "  'age (yr): 48',\n",
       "  'age (yr): 55',\n",
       "  'age (yr): 63',\n",
       "  'age (yr): 58',\n",
       "  'age (yr): 60',\n",
       "  'age (yr): 52',\n",
       "  'age (yr): 56',\n",
       "  'age (yr): 42',\n",
       "  'age (yr): 68',\n",
       "  'age (yr): 37',\n",
       "  'age (yr): 44',\n",
       "  'age (yr): 61',\n",
       "  'age (yr): 67',\n",
       "  'age (yr): 57',\n",
       "  'age (yr): 64',\n",
       "  'age (yr): 65',\n",
       "  'age (yr): 35',\n",
       "  'age (yr): 51',\n",
       "  'age (yr): 71',\n",
       "  'age (yr): 72',\n",
       "  'age (yr): 70',\n",
       "  'age (yr): 66',\n",
       "  'age (yr): 69'],\n",
       " 4: ['ethnicity: Caucasian/white'],\n",
       " 5: ['smoking status: Yes', 'smoking status: No'],\n",
       " 6: ['family history: No', 'family history: Yes'],\n",
       " 7: ['set: Testing', 'set: Training', 'set: Not Used']}"
      ]
     },
     "execution_count": 75,
     "metadata": {},
     "output_type": "execute_result"
    }
   ],
   "source": [
    "clinical_data_unique = get_unique_values_by_row(clinical_data)\n",
    "clinical_data_unique"
   ]
  },
  {
   "cell_type": "markdown",
   "metadata": {
    "ExecuteTime": {
     "end_time": "2023-12-31T03:58:04.978204446Z",
     "start_time": "2023-12-31T03:58:04.922270095Z"
    },
    "collapsed": false
   },
   "source": [
    "Analyze the metadata to determine data relevance and find ways to extract the clinical data.\n",
    "Reference prompt:"
   ]
  },
  {
   "cell_type": "code",
   "execution_count": 76,
   "metadata": {
    "ExecuteTime": {
     "end_time": "2024-01-02T01:03:02.369775044Z",
     "start_time": "2024-01-02T01:03:02.356501629Z"
    },
    "collapsed": false
   },
   "outputs": [
    {
     "data": {
      "text/plain": [
       "'As a biomedical research team, we are selecting datasets to study the association between the human trait \\'Language-Abilities\\' and genetic factors, optionally considering the influence of age and gender. After searching the GEO database and parsing the matrix file of a series, we obtained background information and sample characteristics data. We will provide textual information about the dataset background, and a Python dictionary storing a list of unique values for each field of the sample characteristics data. Please carefully review the provided information and answer the following questions about this dataset:\\n1. Does this dataset contain gene expression data? (Note: Pure miRNA data is not suitable.)\\n2. For each of the traits \\'Language-Abilities\\', \\'age\\', and \\'gender\\', please address these points:\\n   (1) Is there human data available for this trait?\\n   (2) If so, identify the key in the sample characteristics dictionary where unique values of this trait is recorded. The key is an integer. The trait information might be explicitly recorded, or can be inferred from the field with some biomedical knowledge or understanding about the data collection process.\\n   (3) Choose an appropriate data type (either \\'continuous\\' or \\'binary\\') for each trait. Write a Python function to convert any given value of the trait to this data type. The function should handle inference about the trait value and convert unknown values to None.\\n   Name the functions \\'convert_trait\\', \\'convert_age\\', and \\'convert_gender\\', respectively.\\n\\nBackground information about the dataset:\\n!Series_title\\t\"Clinical Performance of a Stool RNA Assay for Early Detection of Precancerous Adenomas and Colorectal Cancer\"\\n!Series_summary\\t\"Background and Aims: RNA biomarkers derived from sloughed enterocytes would provide an ideal, non-invasive method for early detection of colorectal cancer (CRC) and precancerous adenomas. To realize this goal, a highly reliable method to isolate preserved human RNA from stool samples is needed. Here we develop a protocol to identify RNA biomarkers associated with CRC to assess the use of these biomarkers for noninvasive screening of disease.\"\\n!Series_summary\\t\"Methods: Stool samples were collected from 454 patients prior to a colonoscopy. A nucleic acid extraction protocol was developed to isolate human RNA from 330 stool samples and transcript abundances were estimated by microarray analysis. This 330-patient cohort was split into a training set of 265 individuals to develop a machine learning model and a testing set of 65 individuals to determine the modelâ€™s ability to detect colorectal neoplasms.\"\\n!Series_summary\\t\"Results: Analysis of the transcriptome from 265 individuals identified 200 transcript clusters as differentially expressed (p<0.03). These transcripts were used to build a Support Vector Machine (SVM) based model to classify 65 individuals within the testing set. This SVM algorithm attained a 95% sensitivity for precancerous adenomas and a 65% sensitivity for CRC (stage I-IV). The machine learning algorithm attained a specificity of 59% for healthy individuals and an overall accuracy of 72.3%.\"\\n!Series_summary\\t\"Conclusions: We developed an RNA-based neoplasm detection model that is sensitive for CRC and precancerous adenomas. The model allows for non-invasive assessment of tumors and could potentially be used to provide clinical guidance for individuals within the screening population for colorectal cancer.\"\\n!Series_overall_design\\t\"Total RNA was isolated from 338 stool samples and the transcriptome was assessed using the Affymetrix Human Transcriptome Array 2.0. Differentially expressed genes were identified using the transcript fold change between healthy and diseased individuals. These transcriptomes were used to build a machine learning algorithm to classify individuals as diseased or not diseased.\"\\n!Series_overall_design\\t\"Reference samples are \\'normal,\\' cases are \\'adenomas\\' or \\'cancer\\'.\"\\n\\nSample characteristics dictionary (from \"!Sample_characteristics_ch1\", converted to a Python dictionary that stores the unique values for each field):\\n{0: [\\'tissue: Stool\\'], 1: [\\'disease status: Normal\\', \\'disease status: Adenoma\\', \\'disease status: Stage I\\', \\'disease status: Stage III\\', \\'disease status: Stage IV\\', \\'disease status: Stage II\\', \\'disease status: Benign\\'], 2: [\\'Sex: Female\\', \\'Sex: Male\\'], 3: [\\'age (yr): 62\\', \\'age (yr): 41\\', \\'age (yr): 49\\', \\'age (yr): 50\\', \\'age (yr): 54\\', \\'age (yr): 53\\', \\'age (yr): 47\\', \\'age (yr): 48\\', \\'age (yr): 55\\', \\'age (yr): 63\\', \\'age (yr): 58\\', \\'age (yr): 60\\', \\'age (yr): 52\\', \\'age (yr): 56\\', \\'age (yr): 42\\', \\'age (yr): 68\\', \\'age (yr): 37\\', \\'age (yr): 44\\', \\'age (yr): 61\\', \\'age (yr): 67\\', \\'age (yr): 57\\', \\'age (yr): 64\\', \\'age (yr): 65\\', \\'age (yr): 35\\', \\'age (yr): 51\\', \\'age (yr): 71\\', \\'age (yr): 72\\', \\'age (yr): 70\\', \\'age (yr): 66\\', \\'age (yr): 69\\'], 4: [\\'ethnicity: Caucasian/white\\'], 5: [\\'smoking status: Yes\\', \\'smoking status: No\\'], 6: [\\'family history: No\\', \\'family history: Yes\\'], 7: [\\'set: Testing\\', \\'set: Training\\', \\'set: Not Used\\']}\\n'"
      ]
     },
     "execution_count": 76,
     "metadata": {},
     "output_type": "execute_result"
    }
   ],
   "source": [
    "f'''As a biomedical research team, we are selecting datasets to study the association between the human trait \\'{TRAIT}\\' and genetic factors, optionally considering the influence of age and gender. After searching the GEO database and parsing the matrix file of a series, we obtained background information and sample characteristics data. We will provide textual information about the dataset background, and a Python dictionary storing a list of unique values for each field of the sample characteristics data. Please carefully review the provided information and answer the following questions about this dataset:\n",
    "1. Does this dataset contain gene expression data? (Note: Pure miRNA data is not suitable.)\n",
    "2. For each of the traits \\'{TRAIT}\\', 'age', and 'gender', please address these points:\n",
    "   (1) Is there human data available for this trait?\n",
    "   (2) If so, identify the key in the sample characteristics dictionary where unique values of this trait is recorded. The key is an integer. The trait information might be explicitly recorded, or can be inferred from the field with some biomedical knowledge or understanding about the data collection process.\n",
    "   (3) Choose an appropriate data type (either 'continuous' or 'binary') for each trait. Write a Python function to convert any given value of the trait to this data type. The function should handle inference about the trait value and convert unknown values to None.\n",
    "   Name the functions 'convert_trait', 'convert_age', and 'convert_gender', respectively.\n",
    "\n",
    "Background information about the dataset:\n",
    "{background_info}\n",
    "\n",
    "Sample characteristics dictionary (from \"!Sample_characteristics_ch1\", converted to a Python dictionary that stores the unique values for each field):\n",
    "{clinical_data_unique}\n",
    "'''"
   ]
  },
  {
   "cell_type": "markdown",
   "metadata": {
    "ExecuteTime": {
     "end_time": "2023-12-31T03:58:04.978240504Z",
     "start_time": "2023-12-31T03:58:04.922365324Z"
    },
    "collapsed": false
   },
   "source": [
    "Understand and verify the answer from GPT, to assign values to the below variables. Assign None to the 'row_id' variables if relevant data row was not found.\n",
    "Later we need to let GPT format its answer to automatically do these. But given the complexity of this step, let's grow some insight from the free-text answers for now."
   ]
  },
  {
   "cell_type": "code",
   "execution_count": 77,
   "metadata": {
    "ExecuteTime": {
     "end_time": "2024-01-02T01:03:03.079540570Z",
     "start_time": "2024-01-02T01:03:03.073638535Z"
    },
    "collapsed": false
   },
   "outputs": [],
   "source": [
    "is_gene_availabe = False\n",
    "trait_row = None\n",
    "age_row = 3\n",
    "gender_row = 2\n",
    "\n",
    "trait_type = None"
   ]
  },
  {
   "cell_type": "code",
   "execution_count": 78,
   "metadata": {
    "ExecuteTime": {
     "end_time": "2024-01-02T01:03:03.572682163Z",
     "start_time": "2024-01-02T01:03:03.559775513Z"
    },
    "collapsed": false
   },
   "outputs": [
    {
     "name": "stdout",
     "output_type": "stream",
     "text": [
      "This cohort is not usable. Please skip the following steps and jump to the next accession number.\n"
     ]
    }
   ],
   "source": [
    "is_available = is_gene_availabe and (trait_row is not None)\n",
    "if not is_available:\n",
    "    save_cohort_info(cohort, JSON_PATH, is_available)\n",
    "    print(\"This cohort is not usable. Please skip the following steps and jump to the next accession number.\")"
   ]
  },
  {
   "cell_type": "code",
   "execution_count": 11,
   "metadata": {
    "ExecuteTime": {
     "end_time": "2024-01-02T01:03:03.973964287Z",
     "start_time": "2024-01-02T01:03:03.964958096Z"
    },
    "collapsed": false
   },
   "outputs": [
    {
     "data": {
      "text/plain": [
       "(1, None, None)"
      ]
     },
     "execution_count": 11,
     "metadata": {},
     "output_type": "execute_result"
    }
   ],
   "source": [
    "def convert_trait(tissue_type):\n",
    "    \"\"\"\n",
    "    Convert tissue type to epilepsy presence (binary).\n",
    "    Assuming epilepsy presence for 'Hippocampus' tissue.\n",
    "    \"\"\"\n",
    "    if tissue_type == 'disease status: Normal':\n",
    "        return 0  # Epilepsy present\n",
    "    else:\n",
    "        return 1  # Epilepsy not present\n",
    "\n",
    "def convert_age(age_string):\n",
    "    \"\"\"\n",
    "    Convert age string to a numerical value.\n",
    "    \"\"\"\n",
    "    if age_string.startswith('age (yr): '): \n",
    "        try:\n",
    "            return int(age_string.split('age (yr): ')[1].rstrip(''))  # Extracting numeric part\n",
    "        except ValueError:\n",
    "            return None  # In case of parsing error\n",
    "    else:\n",
    "        return None  # If age string does not follow expected format\n",
    "\n",
    "def convert_gender(gender_string):\n",
    "    \"\"\"\n",
    "    Convert gender string to a binary representation.\n",
    "    Female -> 0, Male -> 1, Unknown -> None\n",
    "    \"\"\"\n",
    "    if gender_string == 'Sex: Female':\n",
    "        return 0\n",
    "    elif gender_string == 'Sex: Male':\n",
    "        return 1\n",
    "    else:\n",
    "        return None  # In case of unknown gender\n",
    "\n",
    "# Example usage\n",
    "example_tissue = 'tissue: Hippocampus'\n",
    "example_age = 'age: 23y'\n",
    "example_gender = 'gender: Male'\n",
    "\n",
    "converted_trait = convert_trait(example_tissue)\n",
    "converted_age = convert_age(example_age)\n",
    "converted_gender = convert_gender(example_gender)\n",
    "\n",
    "converted_trait, converted_age, converted_gender"
   ]
  },
  {
   "cell_type": "code",
   "execution_count": 12,
   "metadata": {
    "ExecuteTime": {
     "end_time": "2024-01-02T01:03:04.637878352Z",
     "start_time": "2024-01-02T01:03:04.593886885Z"
    },
    "collapsed": false
   },
   "outputs": [
    {
     "name": "stderr",
     "output_type": "stream",
     "text": [
      "/home/yxcheng/AI4Science_gold_standard/stage1/YIjiang/../utils.py:208: FutureWarning: DataFrame.applymap has been deprecated. Use DataFrame.map instead.\n",
      "  clinical_df = clinical_df.applymap(convert_fn)\n",
      "/home/yxcheng/AI4Science_gold_standard/stage1/YIjiang/../utils.py:208: FutureWarning: DataFrame.applymap has been deprecated. Use DataFrame.map instead.\n",
      "  clinical_df = clinical_df.applymap(convert_fn)\n",
      "/home/yxcheng/AI4Science_gold_standard/stage1/YIjiang/../utils.py:208: FutureWarning: DataFrame.applymap has been deprecated. Use DataFrame.map instead.\n",
      "  clinical_df = clinical_df.applymap(convert_fn)\n"
     ]
    },
    {
     "data": {
      "text/html": [
       "<div>\n",
       "<style scoped>\n",
       "    .dataframe tbody tr th:only-of-type {\n",
       "        vertical-align: middle;\n",
       "    }\n",
       "\n",
       "    .dataframe tbody tr th {\n",
       "        vertical-align: top;\n",
       "    }\n",
       "\n",
       "    .dataframe thead th {\n",
       "        text-align: right;\n",
       "    }\n",
       "</style>\n",
       "<table border=\"1\" class=\"dataframe\">\n",
       "  <thead>\n",
       "    <tr style=\"text-align: right;\">\n",
       "      <th></th>\n",
       "      <th>GSM2646622</th>\n",
       "      <th>GSM2646623</th>\n",
       "      <th>GSM2646624</th>\n",
       "      <th>GSM2646625</th>\n",
       "      <th>GSM2646626</th>\n",
       "      <th>GSM2646627</th>\n",
       "      <th>GSM2646628</th>\n",
       "      <th>GSM2646629</th>\n",
       "      <th>GSM2646630</th>\n",
       "      <th>GSM2646631</th>\n",
       "      <th>...</th>\n",
       "      <th>GSM2646950</th>\n",
       "      <th>GSM2646951</th>\n",
       "      <th>GSM2646952</th>\n",
       "      <th>GSM2646953</th>\n",
       "      <th>GSM2646954</th>\n",
       "      <th>GSM2646955</th>\n",
       "      <th>GSM2646956</th>\n",
       "      <th>GSM2646957</th>\n",
       "      <th>GSM2646958</th>\n",
       "      <th>GSM2646959</th>\n",
       "    </tr>\n",
       "  </thead>\n",
       "  <tbody>\n",
       "    <tr>\n",
       "      <th>Language-Abilities</th>\n",
       "      <td>0</td>\n",
       "      <td>0</td>\n",
       "      <td>0</td>\n",
       "      <td>0</td>\n",
       "      <td>0</td>\n",
       "      <td>1</td>\n",
       "      <td>1</td>\n",
       "      <td>1</td>\n",
       "      <td>1</td>\n",
       "      <td>1</td>\n",
       "      <td>...</td>\n",
       "      <td>1</td>\n",
       "      <td>1</td>\n",
       "      <td>1</td>\n",
       "      <td>1</td>\n",
       "      <td>1</td>\n",
       "      <td>1</td>\n",
       "      <td>1</td>\n",
       "      <td>1</td>\n",
       "      <td>1</td>\n",
       "      <td>1</td>\n",
       "    </tr>\n",
       "    <tr>\n",
       "      <th>Age</th>\n",
       "      <td>62</td>\n",
       "      <td>41</td>\n",
       "      <td>49</td>\n",
       "      <td>49</td>\n",
       "      <td>50</td>\n",
       "      <td>54</td>\n",
       "      <td>53</td>\n",
       "      <td>47</td>\n",
       "      <td>47</td>\n",
       "      <td>49</td>\n",
       "      <td>...</td>\n",
       "      <td>70</td>\n",
       "      <td>61</td>\n",
       "      <td>50</td>\n",
       "      <td>55</td>\n",
       "      <td>53</td>\n",
       "      <td>57</td>\n",
       "      <td>52</td>\n",
       "      <td>62</td>\n",
       "      <td>51</td>\n",
       "      <td>62</td>\n",
       "    </tr>\n",
       "    <tr>\n",
       "      <th>Gender</th>\n",
       "      <td>0</td>\n",
       "      <td>1</td>\n",
       "      <td>0</td>\n",
       "      <td>0</td>\n",
       "      <td>1</td>\n",
       "      <td>1</td>\n",
       "      <td>0</td>\n",
       "      <td>1</td>\n",
       "      <td>1</td>\n",
       "      <td>0</td>\n",
       "      <td>...</td>\n",
       "      <td>1</td>\n",
       "      <td>1</td>\n",
       "      <td>0</td>\n",
       "      <td>0</td>\n",
       "      <td>1</td>\n",
       "      <td>0</td>\n",
       "      <td>1</td>\n",
       "      <td>1</td>\n",
       "      <td>0</td>\n",
       "      <td>1</td>\n",
       "    </tr>\n",
       "  </tbody>\n",
       "</table>\n",
       "<p>3 rows × 338 columns</p>\n",
       "</div>"
      ],
      "text/plain": [
       "                    GSM2646622  GSM2646623  GSM2646624  GSM2646625  \\\n",
       "Language-Abilities           0           0           0           0   \n",
       "Age                         62          41          49          49   \n",
       "Gender                       0           1           0           0   \n",
       "\n",
       "                    GSM2646626  GSM2646627  GSM2646628  GSM2646629  \\\n",
       "Language-Abilities           0           1           1           1   \n",
       "Age                         50          54          53          47   \n",
       "Gender                       1           1           0           1   \n",
       "\n",
       "                    GSM2646630  GSM2646631  ...  GSM2646950  GSM2646951  \\\n",
       "Language-Abilities           1           1  ...           1           1   \n",
       "Age                         47          49  ...          70          61   \n",
       "Gender                       1           0  ...           1           1   \n",
       "\n",
       "                    GSM2646952  GSM2646953  GSM2646954  GSM2646955  \\\n",
       "Language-Abilities           1           1           1           1   \n",
       "Age                         50          55          53          57   \n",
       "Gender                       0           0           1           0   \n",
       "\n",
       "                    GSM2646956  GSM2646957  GSM2646958  GSM2646959  \n",
       "Language-Abilities           1           1           1           1  \n",
       "Age                         52          62          51          62  \n",
       "Gender                       1           1           0           1  \n",
       "\n",
       "[3 rows x 338 columns]"
      ]
     },
     "execution_count": 12,
     "metadata": {},
     "output_type": "execute_result"
    }
   ],
   "source": [
    "selected_clinical_data = geo_select_clinical_features(clinical_data, TRAIT, trait_row, convert_trait, age_row=age_row,\n",
    "                                                      convert_age=convert_age, gender_row=gender_row,\n",
    "                                                      convert_gender=convert_gender)\n",
    "selected_clinical_data.head()"
   ]
  },
  {
   "cell_type": "markdown",
   "metadata": {
    "ExecuteTime": {
     "end_time": "2023-12-31T03:58:04.978664193Z",
     "start_time": "2023-12-31T03:58:04.966117261Z"
    },
    "collapsed": false
   },
   "source": [
    "### Genetic data preprocessing and final filtering"
   ]
  },
  {
   "cell_type": "code",
   "execution_count": 13,
   "metadata": {
    "ExecuteTime": {
     "end_time": "2024-01-02T01:03:06.246474256Z",
     "start_time": "2024-01-02T01:03:05.670354792Z"
    },
    "collapsed": false
   },
   "outputs": [
    {
     "data": {
      "text/html": [
       "<div>\n",
       "<style scoped>\n",
       "    .dataframe tbody tr th:only-of-type {\n",
       "        vertical-align: middle;\n",
       "    }\n",
       "\n",
       "    .dataframe tbody tr th {\n",
       "        vertical-align: top;\n",
       "    }\n",
       "\n",
       "    .dataframe thead th {\n",
       "        text-align: right;\n",
       "    }\n",
       "</style>\n",
       "<table border=\"1\" class=\"dataframe\">\n",
       "  <thead>\n",
       "    <tr style=\"text-align: right;\">\n",
       "      <th></th>\n",
       "      <th>GSM2646622</th>\n",
       "      <th>GSM2646623</th>\n",
       "      <th>GSM2646624</th>\n",
       "      <th>GSM2646625</th>\n",
       "      <th>GSM2646626</th>\n",
       "      <th>GSM2646627</th>\n",
       "      <th>GSM2646628</th>\n",
       "      <th>GSM2646629</th>\n",
       "      <th>GSM2646630</th>\n",
       "      <th>GSM2646631</th>\n",
       "      <th>...</th>\n",
       "      <th>GSM2646950</th>\n",
       "      <th>GSM2646951</th>\n",
       "      <th>GSM2646952</th>\n",
       "      <th>GSM2646953</th>\n",
       "      <th>GSM2646954</th>\n",
       "      <th>GSM2646955</th>\n",
       "      <th>GSM2646956</th>\n",
       "      <th>GSM2646957</th>\n",
       "      <th>GSM2646958</th>\n",
       "      <th>GSM2646959</th>\n",
       "    </tr>\n",
       "    <tr>\n",
       "      <th>ID</th>\n",
       "      <th></th>\n",
       "      <th></th>\n",
       "      <th></th>\n",
       "      <th></th>\n",
       "      <th></th>\n",
       "      <th></th>\n",
       "      <th></th>\n",
       "      <th></th>\n",
       "      <th></th>\n",
       "      <th></th>\n",
       "      <th></th>\n",
       "      <th></th>\n",
       "      <th></th>\n",
       "      <th></th>\n",
       "      <th></th>\n",
       "      <th></th>\n",
       "      <th></th>\n",
       "      <th></th>\n",
       "      <th></th>\n",
       "      <th></th>\n",
       "      <th></th>\n",
       "    </tr>\n",
       "  </thead>\n",
       "  <tbody>\n",
       "    <tr>\n",
       "      <th>2824546_st</th>\n",
       "      <td>4.67947</td>\n",
       "      <td>3.69914</td>\n",
       "      <td>5.37322</td>\n",
       "      <td>4.05504</td>\n",
       "      <td>4.37088</td>\n",
       "      <td>4.03619</td>\n",
       "      <td>6.44081</td>\n",
       "      <td>4.91678</td>\n",
       "      <td>4.81161</td>\n",
       "      <td>6.31973</td>\n",
       "      <td>...</td>\n",
       "      <td>6.96657</td>\n",
       "      <td>5.11838</td>\n",
       "      <td>4.00952</td>\n",
       "      <td>4.42607</td>\n",
       "      <td>5.74545</td>\n",
       "      <td>3.42779</td>\n",
       "      <td>5.35258</td>\n",
       "      <td>4.44563</td>\n",
       "      <td>2.92628</td>\n",
       "      <td>5.51893</td>\n",
       "    </tr>\n",
       "    <tr>\n",
       "      <th>2824549_st</th>\n",
       "      <td>8.60108</td>\n",
       "      <td>5.50548</td>\n",
       "      <td>4.51721</td>\n",
       "      <td>6.07598</td>\n",
       "      <td>5.37494</td>\n",
       "      <td>6.51398</td>\n",
       "      <td>5.36177</td>\n",
       "      <td>5.86789</td>\n",
       "      <td>8.53433</td>\n",
       "      <td>7.34615</td>\n",
       "      <td>...</td>\n",
       "      <td>10.62002</td>\n",
       "      <td>7.82392</td>\n",
       "      <td>6.42365</td>\n",
       "      <td>8.37554</td>\n",
       "      <td>7.59447</td>\n",
       "      <td>8.05537</td>\n",
       "      <td>11.00541</td>\n",
       "      <td>6.68265</td>\n",
       "      <td>6.92273</td>\n",
       "      <td>8.82158</td>\n",
       "    </tr>\n",
       "    <tr>\n",
       "      <th>2824551_st</th>\n",
       "      <td>9.13175</td>\n",
       "      <td>5.15711</td>\n",
       "      <td>9.00256</td>\n",
       "      <td>10.09978</td>\n",
       "      <td>12.31998</td>\n",
       "      <td>7.13228</td>\n",
       "      <td>14.87278</td>\n",
       "      <td>7.88318</td>\n",
       "      <td>10.43565</td>\n",
       "      <td>11.22607</td>\n",
       "      <td>...</td>\n",
       "      <td>16.93644</td>\n",
       "      <td>13.52492</td>\n",
       "      <td>9.77677</td>\n",
       "      <td>13.28166</td>\n",
       "      <td>10.25665</td>\n",
       "      <td>12.13240</td>\n",
       "      <td>19.93150</td>\n",
       "      <td>9.94688</td>\n",
       "      <td>7.29800</td>\n",
       "      <td>10.13054</td>\n",
       "    </tr>\n",
       "    <tr>\n",
       "      <th>2824554_st</th>\n",
       "      <td>10.89461</td>\n",
       "      <td>8.30842</td>\n",
       "      <td>9.31762</td>\n",
       "      <td>12.97561</td>\n",
       "      <td>17.16499</td>\n",
       "      <td>7.30922</td>\n",
       "      <td>16.68641</td>\n",
       "      <td>7.94130</td>\n",
       "      <td>12.92613</td>\n",
       "      <td>13.19816</td>\n",
       "      <td>...</td>\n",
       "      <td>18.92546</td>\n",
       "      <td>15.02883</td>\n",
       "      <td>9.22639</td>\n",
       "      <td>14.18968</td>\n",
       "      <td>10.41925</td>\n",
       "      <td>13.01683</td>\n",
       "      <td>19.93150</td>\n",
       "      <td>10.77463</td>\n",
       "      <td>9.88145</td>\n",
       "      <td>15.11741</td>\n",
       "    </tr>\n",
       "    <tr>\n",
       "      <th>2827992_st</th>\n",
       "      <td>3.69238</td>\n",
       "      <td>7.23577</td>\n",
       "      <td>5.10228</td>\n",
       "      <td>4.03017</td>\n",
       "      <td>3.37050</td>\n",
       "      <td>4.44544</td>\n",
       "      <td>5.20728</td>\n",
       "      <td>4.66811</td>\n",
       "      <td>6.24677</td>\n",
       "      <td>8.83682</td>\n",
       "      <td>...</td>\n",
       "      <td>6.41920</td>\n",
       "      <td>7.92525</td>\n",
       "      <td>5.27315</td>\n",
       "      <td>5.58827</td>\n",
       "      <td>6.23887</td>\n",
       "      <td>4.25709</td>\n",
       "      <td>4.82687</td>\n",
       "      <td>3.65557</td>\n",
       "      <td>3.97461</td>\n",
       "      <td>4.61443</td>\n",
       "    </tr>\n",
       "  </tbody>\n",
       "</table>\n",
       "<p>5 rows × 338 columns</p>\n",
       "</div>"
      ],
      "text/plain": [
       "            GSM2646622  GSM2646623  GSM2646624  GSM2646625  GSM2646626  \\\n",
       "ID                                                                       \n",
       "2824546_st     4.67947     3.69914     5.37322     4.05504     4.37088   \n",
       "2824549_st     8.60108     5.50548     4.51721     6.07598     5.37494   \n",
       "2824551_st     9.13175     5.15711     9.00256    10.09978    12.31998   \n",
       "2824554_st    10.89461     8.30842     9.31762    12.97561    17.16499   \n",
       "2827992_st     3.69238     7.23577     5.10228     4.03017     3.37050   \n",
       "\n",
       "            GSM2646627  GSM2646628  GSM2646629  GSM2646630  GSM2646631  ...  \\\n",
       "ID                                                                      ...   \n",
       "2824546_st     4.03619     6.44081     4.91678     4.81161     6.31973  ...   \n",
       "2824549_st     6.51398     5.36177     5.86789     8.53433     7.34615  ...   \n",
       "2824551_st     7.13228    14.87278     7.88318    10.43565    11.22607  ...   \n",
       "2824554_st     7.30922    16.68641     7.94130    12.92613    13.19816  ...   \n",
       "2827992_st     4.44544     5.20728     4.66811     6.24677     8.83682  ...   \n",
       "\n",
       "            GSM2646950  GSM2646951  GSM2646952  GSM2646953  GSM2646954  \\\n",
       "ID                                                                       \n",
       "2824546_st     6.96657     5.11838     4.00952     4.42607     5.74545   \n",
       "2824549_st    10.62002     7.82392     6.42365     8.37554     7.59447   \n",
       "2824551_st    16.93644    13.52492     9.77677    13.28166    10.25665   \n",
       "2824554_st    18.92546    15.02883     9.22639    14.18968    10.41925   \n",
       "2827992_st     6.41920     7.92525     5.27315     5.58827     6.23887   \n",
       "\n",
       "            GSM2646955  GSM2646956  GSM2646957  GSM2646958  GSM2646959  \n",
       "ID                                                                      \n",
       "2824546_st     3.42779     5.35258     4.44563     2.92628     5.51893  \n",
       "2824549_st     8.05537    11.00541     6.68265     6.92273     8.82158  \n",
       "2824551_st    12.13240    19.93150     9.94688     7.29800    10.13054  \n",
       "2824554_st    13.01683    19.93150    10.77463     9.88145    15.11741  \n",
       "2827992_st     4.25709     4.82687     3.65557     3.97461     4.61443  \n",
       "\n",
       "[5 rows x 338 columns]"
      ]
     },
     "execution_count": 13,
     "metadata": {},
     "output_type": "execute_result"
    }
   ],
   "source": [
    "genetic_data = get_genetic_data(matrix_file)\n",
    "genetic_data.head()"
   ]
  },
  {
   "cell_type": "code",
   "execution_count": 14,
   "metadata": {
    "ExecuteTime": {
     "end_time": "2024-01-02T01:03:06.250833943Z",
     "start_time": "2024-01-02T01:03:06.246758837Z"
    },
    "collapsed": false
   },
   "outputs": [
    {
     "data": {
      "text/plain": [
       "['2824546_st',\n",
       " '2824549_st',\n",
       " '2824551_st',\n",
       " '2824554_st',\n",
       " '2827992_st',\n",
       " '2827995_st',\n",
       " '2827996_st',\n",
       " '2828010_st',\n",
       " '2828012_st',\n",
       " '2835442_st',\n",
       " '2835447_st',\n",
       " '2835453_st',\n",
       " '2835456_st',\n",
       " '2835459_st',\n",
       " '2835461_st',\n",
       " '2839509_st',\n",
       " '2839511_st',\n",
       " '2839513_st',\n",
       " '2839515_st',\n",
       " '2839517_st']"
      ]
     },
     "execution_count": 14,
     "metadata": {},
     "output_type": "execute_result"
    }
   ],
   "source": [
    "gene_row_ids = genetic_data.index[:20].tolist()\n",
    "gene_row_ids"
   ]
  },
  {
   "cell_type": "markdown",
   "metadata": {
    "ExecuteTime": {
     "end_time": "2023-12-31T03:30:41.595335164Z",
     "start_time": "2023-12-31T03:30:41.513232329Z"
    },
    "collapsed": false
   },
   "source": [
    "Check if the gene dataset requires mapping to get the gene symbols corresponding to each data row."
   ]
  },
  {
   "cell_type": "markdown",
   "metadata": {
    "collapsed": false
   },
   "source": [
    "Reference prompt:"
   ]
  },
  {
   "cell_type": "code",
   "execution_count": 15,
   "metadata": {
    "ExecuteTime": {
     "end_time": "2024-01-02T01:03:07.586216481Z",
     "start_time": "2024-01-02T01:03:07.574527035Z"
    },
    "collapsed": false
   },
   "outputs": [
    {
     "data": {
      "text/plain": [
       "\"\\nBelow are the row headers of a gene expression dataset in GEO. Based on your biomedical knowledge, are they human gene symbols, or are they some other identifiers that need to be mapped to gene symbols? Your answer should be concluded by starting a new line and strictly following this format:\\nrequires_gene_mapping = (True or False)\\n\\nRow headers:\\n['2824546_st', '2824549_st', '2824551_st', '2824554_st', '2827992_st', '2827995_st', '2827996_st', '2828010_st', '2828012_st', '2835442_st', '2835447_st', '2835453_st', '2835456_st', '2835459_st', '2835461_st', '2839509_st', '2839511_st', '2839513_st', '2839515_st', '2839517_st']\\n\""
      ]
     },
     "execution_count": 15,
     "metadata": {},
     "output_type": "execute_result"
    }
   ],
   "source": [
    "f'''\n",
    "Below are the row headers of a gene expression dataset in GEO. Based on your biomedical knowledge, are they human gene symbols, or are they some other identifiers that need to be mapped to gene symbols? Your answer should be concluded by starting a new line and strictly following this format:\n",
    "requires_gene_mapping = (True or False)\n",
    "\n",
    "Row headers:\n",
    "{gene_row_ids}\n",
    "'''"
   ]
  },
  {
   "cell_type": "markdown",
   "metadata": {
    "collapsed": false
   },
   "source": [
    "If not required, jump directly to the gene normalization step"
   ]
  },
  {
   "cell_type": "code",
   "execution_count": 16,
   "metadata": {
    "ExecuteTime": {
     "end_time": "2024-01-02T01:03:08.263712538Z",
     "start_time": "2024-01-02T01:03:08.260656314Z"
    },
    "collapsed": false
   },
   "outputs": [],
   "source": [
    "requires_gene_mapping = True"
   ]
  },
  {
   "cell_type": "code",
   "execution_count": 17,
   "metadata": {
    "ExecuteTime": {
     "end_time": "2024-01-02T01:03:33.822550310Z",
     "start_time": "2024-01-02T01:03:08.648958912Z"
    },
    "collapsed": false
   },
   "outputs": [
    {
     "name": "stdout",
     "output_type": "stream",
     "text": [
      "{'ID': ['TC01000001.hg.1', 'TC01000002.hg.1', 'TC01000003.hg.1', 'TC01000004.hg.1', 'TC01000005.hg.1'], 'probeset_id': ['TC01000001.hg.1', 'TC01000002.hg.1', 'TC01000003.hg.1', 'TC01000004.hg.1', 'TC01000005.hg.1'], 'seqname': ['chr1', 'chr1', 'chr1', 'chr1', 'chr1'], 'strand': ['+', '+', '+', '+', '+'], 'start': ['11869', '29554', '69091', '160446', '317811'], 'stop': ['14409', '31109', '70008', '161525', '328581'], 'total_probes': [49.0, 60.0, 30.0, 30.0, 191.0], 'gene_assignment': ['NR_046018 // DDX11L1 // DEAD/H (Asp-Glu-Ala-Asp/His) box helicase 11 like 1 // 1p36.33 // 100287102 /// ENST00000456328 // DDX11L5 // DEAD/H (Asp-Glu-Ala-Asp/His) box helicase 11 like 5 // 9p24.3 // 100287596 /// ENST00000456328 // DDX11L1 // DEAD/H (Asp-Glu-Ala-Asp/His) box helicase 11 like 1 // 1p36.33 // 100287102', 'ENST00000408384 // MIR1302-11 // microRNA 1302-11 // --- // 100422919 /// ENST00000408384 // MIR1302-10 // microRNA 1302-10 // --- // 100422834 /// ENST00000408384 // MIR1302-9 // microRNA 1302-9 // --- // 100422831 /// ENST00000408384 // MIR1302-2 // microRNA 1302-2 // --- // 100302278 /// ENST00000469289 // MIR1302-11 // microRNA 1302-11 // --- // 100422919 /// ENST00000469289 // MIR1302-10 // microRNA 1302-10 // --- // 100422834 /// ENST00000469289 // MIR1302-9 // microRNA 1302-9 // --- // 100422831 /// ENST00000469289 // MIR1302-2 // microRNA 1302-2 // --- // 100302278 /// ENST00000473358 // MIR1302-11 // microRNA 1302-11 // --- // 100422919 /// ENST00000473358 // MIR1302-10 // microRNA 1302-10 // --- // 100422834 /// ENST00000473358 // MIR1302-9 // microRNA 1302-9 // --- // 100422831 /// ENST00000473358 // MIR1302-2 // microRNA 1302-2 // --- // 100302278 /// OTTHUMT00000002841 // OTTHUMG00000000959 // NULL // --- // --- /// OTTHUMT00000002841 // RP11-34P13.3 // NULL // --- // --- /// OTTHUMT00000002840 // OTTHUMG00000000959 // NULL // --- // --- /// OTTHUMT00000002840 // RP11-34P13.3 // NULL // --- // ---', 'NM_001005484 // OR4F5 // olfactory receptor, family 4, subfamily F, member 5 // 1p36.33 // 79501 /// ENST00000335137 // OR4F5 // olfactory receptor, family 4, subfamily F, member 5 // 1p36.33 // 79501 /// OTTHUMT00000003223 // OR4F5 // NULL // --- // ---', 'OTTHUMT00000007169 // OTTHUMG00000002525 // NULL // --- // --- /// OTTHUMT00000007169 // RP11-34P13.9 // NULL // --- // ---', 'NR_028322 // LOC100132287 // uncharacterized LOC100132287 // 1p36.33 // 100132287 /// NR_028327 // LOC100133331 // uncharacterized LOC100133331 // 1p36.33 // 100133331 /// ENST00000425496 // LOC101060495 // uncharacterized LOC101060495 // --- // 101060495 /// ENST00000425496 // LOC101060494 // uncharacterized LOC101060494 // --- // 101060494 /// ENST00000425496 // LOC101059936 // uncharacterized LOC101059936 // --- // 101059936 /// ENST00000425496 // LOC100996502 // uncharacterized LOC100996502 // --- // 100996502 /// ENST00000425496 // LOC100996328 // uncharacterized LOC100996328 // --- // 100996328 /// ENST00000425496 // LOC100287894 // uncharacterized LOC100287894 // 7q11.21 // 100287894 /// NR_028325 // LOC100132062 // uncharacterized LOC100132062 // 5q35.3 // 100132062 /// OTTHUMT00000346878 // OTTHUMG00000156968 // NULL // --- // --- /// OTTHUMT00000346878 // RP4-669L17.10 // NULL // --- // --- /// OTTHUMT00000346879 // OTTHUMG00000156968 // NULL // --- // --- /// OTTHUMT00000346879 // RP4-669L17.10 // NULL // --- // --- /// OTTHUMT00000346880 // OTTHUMG00000156968 // NULL // --- // --- /// OTTHUMT00000346880 // RP4-669L17.10 // NULL // --- // --- /// OTTHUMT00000346881 // OTTHUMG00000156968 // NULL // --- // --- /// OTTHUMT00000346881 // RP4-669L17.10 // NULL // --- // ---'], 'mrna_assignment': ['NR_046018 // RefSeq // Homo sapiens DEAD/H (Asp-Glu-Ala-Asp/His) box helicase 11 like 1 (DDX11L1), non-coding RNA. // chr1 // 100 // 100 // 0 // --- // 0 /// ENST00000456328 // ENSEMBL // cdna:known chromosome:GRCh37:1:11869:14409:1 gene:ENSG00000223972 gene_biotype:pseudogene transcript_biotype:processed_transcript // chr1 // 100 // 100 // 0 // --- // 0 /// uc001aaa.3 // UCSC Genes // --- // chr1 // 100 // 100 // 0 // --- // 0 /// uc010nxq.1 // UCSC Genes // --- // chr1 // 100 // 100 // 0 // --- // 0 /// uc010nxr.1 // UCSC Genes // --- // chr1 // 100 // 100 // 0 // --- // 0', 'ENST00000408384 // ENSEMBL // ncrna:miRNA chromosome:GRCh37:1:30366:30503:1 gene:ENSG00000221311 gene_biotype:miRNA transcript_biotype:miRNA // chr1 // 100 // 100 // 0 // --- // 0 /// ENST00000469289 // ENSEMBL // havana:lincRNA chromosome:GRCh37:1:30267:31109:1 gene:ENSG00000243485 gene_biotype:lincRNA transcript_biotype:lincRNA // chr1 // 100 // 100 // 0 // --- // 0 /// ENST00000473358 // ENSEMBL // havana:lincRNA chromosome:GRCh37:1:29554:31097:1 gene:ENSG00000243485 gene_biotype:lincRNA transcript_biotype:lincRNA // chr1 // 100 // 100 // 0 // --- // 0 /// OTTHUMT00000002841 // Havana transcript // cdna:all chromosome:VEGA52:1:30267:31109:1 Gene:OTTHUMG00000000959 // chr1 // 100 // 100 // 0 // --- // 0 /// OTTHUMT00000002840 // Havana transcript // cdna:all chromosome:VEGA52:1:29554:31097:1 Gene:OTTHUMG00000000959 // chr1 // 100 // 100 // 0 // --- // 0', 'NM_001005484 // RefSeq // Homo sapiens olfactory receptor, family 4, subfamily F, member 5 (OR4F5), mRNA. // chr1 // 100 // 100 // 0 // --- // 0 /// ENST00000335137 // ENSEMBL // cdna:known chromosome:GRCh37:1:69091:70008:1 gene:ENSG00000186092 gene_biotype:protein_coding transcript_biotype:protein_coding // chr1 // 100 // 100 // 0 // --- // 0 /// uc001aal.1 // UCSC Genes // --- // chr1 // 100 // 100 // 0 // --- // 0 /// OTTHUMT00000003223 // Havana transcript // cdna:all chromosome:VEGA52:1:69091:70008:1 Gene:OTTHUMG00000001094 // chr1 // 100 // 100 // 0 // --- // 0', 'ENST00000496488 // ENSEMBL // havana:lincRNA chromosome:GRCh37:1:160446:161525:1 gene:ENSG00000241599 gene_biotype:lincRNA transcript_biotype:lincRNA // chr1 // 100 // 100 // 0 // --- // 0 /// OTTHUMT00000007169 // Havana transcript // cdna:all chromosome:VEGA52:1:160446:161525:1 Gene:OTTHUMG00000002525 // chr1 // 100 // 100 // 0 // --- // 0', 'NR_028322 // RefSeq // Homo sapiens uncharacterized LOC100132287 (LOC100132287), non-coding RNA. // chr1 // 100 // 100 // 0 // --- // 0 /// NR_028327 // RefSeq // Homo sapiens uncharacterized LOC100133331 (LOC100133331), non-coding RNA. // chr1 // 100 // 100 // 0 // --- // 0 /// ENST00000425496 // ENSEMBL // ensembl:lincRNA chromosome:GRCh37:1:324756:328453:1 gene:ENSG00000237094 gene_biotype:lincRNA transcript_biotype:lincRNA // chr1 // 100 // 100 // 0 // --- // 0 /// ENST00000426316 // ENSEMBL // [retired] cdna:known chromosome:GRCh37:1:317811:328455:1 gene:ENSG00000240876 gene_biotype:processed_transcript transcript_biotype:processed_transcript // chr1 // 100 // 100 // 0 // --- // 0 /// NR_028325 // RefSeq // Homo sapiens uncharacterized LOC100132062 (LOC100132062), non-coding RNA. // chr1 // 100 // 100 // 0 // --- // 0 /// uc009vjk.2 // UCSC Genes // --- // chr1 // 100 // 100 // 0 // --- // 0 /// uc021oeh.1 // UCSC Genes // --- // chr1 // 100 // 100 // 0 // --- // 0 /// uc021oei.1 // UCSC Genes // --- // chr1 // 100 // 100 // 0 // --- // 0 /// OTTHUMT00000346906 // Havana transcript // [retired] cdna:all chromosome:VEGA50:1:317811:328455:1 Gene:OTTHUMG00000156972 // chr1 // 100 // 100 // 0 // --- // 0 /// OTTHUMT00000346878 // Havana transcript // cdna:all chromosome:VEGA52:1:320162:321056:1 Gene:OTTHUMG00000156968 // chr1 // 100 // 100 // 0 // --- // 0 /// OTTHUMT00000346879 // Havana transcript // cdna:all chromosome:VEGA52:1:320162:324461:1 Gene:OTTHUMG00000156968 // chr1 // 100 // 100 // 0 // --- // 0 /// OTTHUMT00000346880 // Havana transcript // cdna:all chromosome:VEGA52:1:317720:324873:1 Gene:OTTHUMG00000156968 // chr1 // 100 // 100 // 0 // --- // 0 /// OTTHUMT00000346881 // Havana transcript // cdna:all chromosome:VEGA52:1:322672:324955:1 Gene:OTTHUMG00000156968 // chr1 // 100 // 100 // 0 // --- // 0'], 'swissprot': ['NR_046018 // B7ZGX0 /// NR_046018 // B7ZGX2 /// NR_046018 // B7ZGX7 /// NR_046018 // B7ZGX8 /// ENST00000456328 // B7ZGX0 /// ENST00000456328 // B7ZGX2 /// ENST00000456328 // B7ZGX3 /// ENST00000456328 // B7ZGX7 /// ENST00000456328 // B7ZGX8 /// ENST00000456328 // Q6ZU42', '---', 'NM_001005484 // Q8NH21 /// ENST00000335137 // Q8NH21', '---', 'NR_028325 // B4DYM5 /// NR_028325 // B4E0H4 /// NR_028325 // B4E3X0 /// NR_028325 // B4E3X2 /// NR_028325 // Q6ZQS4'], 'unigene': ['NR_046018 // Hs.714157 // testis| normal| adult /// ENST00000456328 // Hs.719844 // brain| testis| normal /// ENST00000456328 // Hs.714157 // testis| normal| adult /// ENST00000456328 // Hs.618434 // testis| normal', 'ENST00000469289 // Hs.622486 // eye| normal| adult /// ENST00000469289 // Hs.729632 // testis| normal /// ENST00000469289 // Hs.742718 // testis /// ENST00000473358 // Hs.622486 // eye| normal| adult /// ENST00000473358 // Hs.729632 // testis| normal /// ENST00000473358 // Hs.742718 // testis', 'NM_001005484 // Hs.554500 // --- /// ENST00000335137 // Hs.554500 // ---', '---', 'NR_028322 // Hs.446409 // adrenal gland| blood| bone| brain| connective tissue| embryonic tissue| eye| intestine| kidney| larynx| lung| lymph node| mouth| pharynx| placenta| prostate| skin| testis| thymus| thyroid| uterus| bladder carcinoma| chondrosarcoma| colorectal tumor| germ cell tumor| head and neck tumor| kidney tumor| leukemia| lung tumor| normal| primitive neuroectodermal tumor of the CNS| uterine tumor|embryoid body| blastocyst| fetus| neonate| adult /// NR_028327 // Hs.733048 // ascites| bladder| blood| brain| embryonic tissue| eye| intestine| kidney| larynx| liver| lung| mammary gland| mouth| pancreas| placenta| prostate| skin| stomach| testis| thymus| thyroid| trachea| uterus| bladder carcinoma| breast (mammary gland) tumor| colorectal tumor| gastrointestinal tumor| head and neck tumor| kidney tumor| leukemia| liver tumor| lung tumor| normal| pancreatic tumor| prostate cancer| retinoblastoma| skin tumor| soft tissue/muscle tissue tumor| uterine tumor|embryoid body| blastocyst| fetus| adult /// ENST00000425496 // Hs.744556 // mammary gland| normal| adult /// ENST00000425496 // Hs.660700 // eye| placenta| testis| normal| adult /// ENST00000425496 // Hs.518952 // blood| brain| intestine| lung| mammary gland| mouth| muscle| pharynx| placenta| prostate| spleen| testis| thymus| thyroid| trachea| breast (mammary gland) tumor| colorectal tumor| head and neck tumor| leukemia| lung tumor| normal| prostate cancer| fetus| adult /// ENST00000425496 // Hs.742131 // testis| normal| adult /// ENST00000425496 // Hs.636102 // uterus| uterine tumor /// ENST00000425496 // Hs.646112 // brain| intestine| larynx| lung| mouth| prostate| testis| thyroid| colorectal tumor| head and neck tumor| lung tumor| normal| prostate cancer| adult /// ENST00000425496 // Hs.647795 // brain| lung| lung tumor| adult /// ENST00000425496 // Hs.684307 // --- /// ENST00000425496 // Hs.720881 // testis| normal /// ENST00000425496 // Hs.729353 // brain| lung| placenta| testis| trachea| lung tumor| normal| fetus| adult /// ENST00000425496 // Hs.735014 // ovary| ovarian tumor /// NR_028325 // Hs.732199 // ascites| blood| brain| connective tissue| embryonic tissue| eye| intestine| kidney| lung| ovary| placenta| prostate| stomach| testis| thymus| uterus| chondrosarcoma| colorectal tumor| gastrointestinal tumor| kidney tumor| leukemia| lung tumor| normal| ovarian tumor| fetus| adult'], 'category': ['main', 'main', 'main', 'main', 'main'], 'locus type': ['Coding', 'Coding', 'Coding', 'Coding', 'Coding'], 'notes': ['---', '---', '---', '---', '2 retired transcript(s) from ENSEMBL, Havana transcript'], 'SPOT_ID': ['chr1(+):11869-14409', 'chr1(+):29554-31109', 'chr1(+):69091-70008', 'chr1(+):160446-161525', 'chr1(+):317811-328581']}\n"
     ]
    }
   ],
   "source": [
    "if requires_gene_mapping:\n",
    "    gene_annotation = get_gene_annotation(soft_file)\n",
    "    gene_annotation_summary = preview_df(gene_annotation)\n",
    "    print(gene_annotation_summary)"
   ]
  },
  {
   "cell_type": "markdown",
   "metadata": {
    "ExecuteTime": {
     "end_time": "2023-12-31T03:58:04.978931927Z",
     "start_time": "2023-12-31T03:58:04.966328339Z"
    },
    "collapsed": false
   },
   "source": [
    "Observe the first few cells in the ID column of the gene annotation dataframe, to find the names of columns that store the gene probe IDs and gene symbols respectively.\n",
    "Reference prompt:"
   ]
  },
  {
   "cell_type": "code",
   "execution_count": 18,
   "metadata": {
    "ExecuteTime": {
     "end_time": "2024-01-02T01:03:33.822912446Z",
     "start_time": "2024-01-02T01:03:33.804491826Z"
    },
    "collapsed": false
   },
   "outputs": [
    {
     "name": "stdout",
     "output_type": "stream",
     "text": [
      "\n",
      "    As a biomedical research team, we extracted the gene annotation data from a series in the GEO database, and saved it to a Python dictionary. Please read the dictionary, and decide which key stores the ID of the probe, and which key stores the gene symbols. Please strict follow this format in your answer:\n",
      "    probe_name_key = 'key_name1'\n",
      "    gene_name_key = 'key_name2'\n",
      "\n",
      "    Gene annotation dictionary:\n",
      "    {'ID': ['TC01000001.hg.1', 'TC01000002.hg.1', 'TC01000003.hg.1', 'TC01000004.hg.1', 'TC01000005.hg.1'], 'probeset_id': ['TC01000001.hg.1', 'TC01000002.hg.1', 'TC01000003.hg.1', 'TC01000004.hg.1', 'TC01000005.hg.1'], 'seqname': ['chr1', 'chr1', 'chr1', 'chr1', 'chr1'], 'strand': ['+', '+', '+', '+', '+'], 'start': ['11869', '29554', '69091', '160446', '317811'], 'stop': ['14409', '31109', '70008', '161525', '328581'], 'total_probes': [49.0, 60.0, 30.0, 30.0, 191.0], 'gene_assignment': ['NR_046018 // DDX11L1 // DEAD/H (Asp-Glu-Ala-Asp/His) box helicase 11 like 1 // 1p36.33 // 100287102 /// ENST00000456328 // DDX11L5 // DEAD/H (Asp-Glu-Ala-Asp/His) box helicase 11 like 5 // 9p24.3 // 100287596 /// ENST00000456328 // DDX11L1 // DEAD/H (Asp-Glu-Ala-Asp/His) box helicase 11 like 1 // 1p36.33 // 100287102', 'ENST00000408384 // MIR1302-11 // microRNA 1302-11 // --- // 100422919 /// ENST00000408384 // MIR1302-10 // microRNA 1302-10 // --- // 100422834 /// ENST00000408384 // MIR1302-9 // microRNA 1302-9 // --- // 100422831 /// ENST00000408384 // MIR1302-2 // microRNA 1302-2 // --- // 100302278 /// ENST00000469289 // MIR1302-11 // microRNA 1302-11 // --- // 100422919 /// ENST00000469289 // MIR1302-10 // microRNA 1302-10 // --- // 100422834 /// ENST00000469289 // MIR1302-9 // microRNA 1302-9 // --- // 100422831 /// ENST00000469289 // MIR1302-2 // microRNA 1302-2 // --- // 100302278 /// ENST00000473358 // MIR1302-11 // microRNA 1302-11 // --- // 100422919 /// ENST00000473358 // MIR1302-10 // microRNA 1302-10 // --- // 100422834 /// ENST00000473358 // MIR1302-9 // microRNA 1302-9 // --- // 100422831 /// ENST00000473358 // MIR1302-2 // microRNA 1302-2 // --- // 100302278 /// OTTHUMT00000002841 // OTTHUMG00000000959 // NULL // --- // --- /// OTTHUMT00000002841 // RP11-34P13.3 // NULL // --- // --- /// OTTHUMT00000002840 // OTTHUMG00000000959 // NULL // --- // --- /// OTTHUMT00000002840 // RP11-34P13.3 // NULL // --- // ---', 'NM_001005484 // OR4F5 // olfactory receptor, family 4, subfamily F, member 5 // 1p36.33 // 79501 /// ENST00000335137 // OR4F5 // olfactory receptor, family 4, subfamily F, member 5 // 1p36.33 // 79501 /// OTTHUMT00000003223 // OR4F5 // NULL // --- // ---', 'OTTHUMT00000007169 // OTTHUMG00000002525 // NULL // --- // --- /// OTTHUMT00000007169 // RP11-34P13.9 // NULL // --- // ---', 'NR_028322 // LOC100132287 // uncharacterized LOC100132287 // 1p36.33 // 100132287 /// NR_028327 // LOC100133331 // uncharacterized LOC100133331 // 1p36.33 // 100133331 /// ENST00000425496 // LOC101060495 // uncharacterized LOC101060495 // --- // 101060495 /// ENST00000425496 // LOC101060494 // uncharacterized LOC101060494 // --- // 101060494 /// ENST00000425496 // LOC101059936 // uncharacterized LOC101059936 // --- // 101059936 /// ENST00000425496 // LOC100996502 // uncharacterized LOC100996502 // --- // 100996502 /// ENST00000425496 // LOC100996328 // uncharacterized LOC100996328 // --- // 100996328 /// ENST00000425496 // LOC100287894 // uncharacterized LOC100287894 // 7q11.21 // 100287894 /// NR_028325 // LOC100132062 // uncharacterized LOC100132062 // 5q35.3 // 100132062 /// OTTHUMT00000346878 // OTTHUMG00000156968 // NULL // --- // --- /// OTTHUMT00000346878 // RP4-669L17.10 // NULL // --- // --- /// OTTHUMT00000346879 // OTTHUMG00000156968 // NULL // --- // --- /// OTTHUMT00000346879 // RP4-669L17.10 // NULL // --- // --- /// OTTHUMT00000346880 // OTTHUMG00000156968 // NULL // --- // --- /// OTTHUMT00000346880 // RP4-669L17.10 // NULL // --- // --- /// OTTHUMT00000346881 // OTTHUMG00000156968 // NULL // --- // --- /// OTTHUMT00000346881 // RP4-669L17.10 // NULL // --- // ---'], 'mrna_assignment': ['NR_046018 // RefSeq // Homo sapiens DEAD/H (Asp-Glu-Ala-Asp/His) box helicase 11 like 1 (DDX11L1), non-coding RNA. // chr1 // 100 // 100 // 0 // --- // 0 /// ENST00000456328 // ENSEMBL // cdna:known chromosome:GRCh37:1:11869:14409:1 gene:ENSG00000223972 gene_biotype:pseudogene transcript_biotype:processed_transcript // chr1 // 100 // 100 // 0 // --- // 0 /// uc001aaa.3 // UCSC Genes // --- // chr1 // 100 // 100 // 0 // --- // 0 /// uc010nxq.1 // UCSC Genes // --- // chr1 // 100 // 100 // 0 // --- // 0 /// uc010nxr.1 // UCSC Genes // --- // chr1 // 100 // 100 // 0 // --- // 0', 'ENST00000408384 // ENSEMBL // ncrna:miRNA chromosome:GRCh37:1:30366:30503:1 gene:ENSG00000221311 gene_biotype:miRNA transcript_biotype:miRNA // chr1 // 100 // 100 // 0 // --- // 0 /// ENST00000469289 // ENSEMBL // havana:lincRNA chromosome:GRCh37:1:30267:31109:1 gene:ENSG00000243485 gene_biotype:lincRNA transcript_biotype:lincRNA // chr1 // 100 // 100 // 0 // --- // 0 /// ENST00000473358 // ENSEMBL // havana:lincRNA chromosome:GRCh37:1:29554:31097:1 gene:ENSG00000243485 gene_biotype:lincRNA transcript_biotype:lincRNA // chr1 // 100 // 100 // 0 // --- // 0 /// OTTHUMT00000002841 // Havana transcript // cdna:all chromosome:VEGA52:1:30267:31109:1 Gene:OTTHUMG00000000959 // chr1 // 100 // 100 // 0 // --- // 0 /// OTTHUMT00000002840 // Havana transcript // cdna:all chromosome:VEGA52:1:29554:31097:1 Gene:OTTHUMG00000000959 // chr1 // 100 // 100 // 0 // --- // 0', 'NM_001005484 // RefSeq // Homo sapiens olfactory receptor, family 4, subfamily F, member 5 (OR4F5), mRNA. // chr1 // 100 // 100 // 0 // --- // 0 /// ENST00000335137 // ENSEMBL // cdna:known chromosome:GRCh37:1:69091:70008:1 gene:ENSG00000186092 gene_biotype:protein_coding transcript_biotype:protein_coding // chr1 // 100 // 100 // 0 // --- // 0 /// uc001aal.1 // UCSC Genes // --- // chr1 // 100 // 100 // 0 // --- // 0 /// OTTHUMT00000003223 // Havana transcript // cdna:all chromosome:VEGA52:1:69091:70008:1 Gene:OTTHUMG00000001094 // chr1 // 100 // 100 // 0 // --- // 0', 'ENST00000496488 // ENSEMBL // havana:lincRNA chromosome:GRCh37:1:160446:161525:1 gene:ENSG00000241599 gene_biotype:lincRNA transcript_biotype:lincRNA // chr1 // 100 // 100 // 0 // --- // 0 /// OTTHUMT00000007169 // Havana transcript // cdna:all chromosome:VEGA52:1:160446:161525:1 Gene:OTTHUMG00000002525 // chr1 // 100 // 100 // 0 // --- // 0', 'NR_028322 // RefSeq // Homo sapiens uncharacterized LOC100132287 (LOC100132287), non-coding RNA. // chr1 // 100 // 100 // 0 // --- // 0 /// NR_028327 // RefSeq // Homo sapiens uncharacterized LOC100133331 (LOC100133331), non-coding RNA. // chr1 // 100 // 100 // 0 // --- // 0 /// ENST00000425496 // ENSEMBL // ensembl:lincRNA chromosome:GRCh37:1:324756:328453:1 gene:ENSG00000237094 gene_biotype:lincRNA transcript_biotype:lincRNA // chr1 // 100 // 100 // 0 // --- // 0 /// ENST00000426316 // ENSEMBL // [retired] cdna:known chromosome:GRCh37:1:317811:328455:1 gene:ENSG00000240876 gene_biotype:processed_transcript transcript_biotype:processed_transcript // chr1 // 100 // 100 // 0 // --- // 0 /// NR_028325 // RefSeq // Homo sapiens uncharacterized LOC100132062 (LOC100132062), non-coding RNA. // chr1 // 100 // 100 // 0 // --- // 0 /// uc009vjk.2 // UCSC Genes // --- // chr1 // 100 // 100 // 0 // --- // 0 /// uc021oeh.1 // UCSC Genes // --- // chr1 // 100 // 100 // 0 // --- // 0 /// uc021oei.1 // UCSC Genes // --- // chr1 // 100 // 100 // 0 // --- // 0 /// OTTHUMT00000346906 // Havana transcript // [retired] cdna:all chromosome:VEGA50:1:317811:328455:1 Gene:OTTHUMG00000156972 // chr1 // 100 // 100 // 0 // --- // 0 /// OTTHUMT00000346878 // Havana transcript // cdna:all chromosome:VEGA52:1:320162:321056:1 Gene:OTTHUMG00000156968 // chr1 // 100 // 100 // 0 // --- // 0 /// OTTHUMT00000346879 // Havana transcript // cdna:all chromosome:VEGA52:1:320162:324461:1 Gene:OTTHUMG00000156968 // chr1 // 100 // 100 // 0 // --- // 0 /// OTTHUMT00000346880 // Havana transcript // cdna:all chromosome:VEGA52:1:317720:324873:1 Gene:OTTHUMG00000156968 // chr1 // 100 // 100 // 0 // --- // 0 /// OTTHUMT00000346881 // Havana transcript // cdna:all chromosome:VEGA52:1:322672:324955:1 Gene:OTTHUMG00000156968 // chr1 // 100 // 100 // 0 // --- // 0'], 'swissprot': ['NR_046018 // B7ZGX0 /// NR_046018 // B7ZGX2 /// NR_046018 // B7ZGX7 /// NR_046018 // B7ZGX8 /// ENST00000456328 // B7ZGX0 /// ENST00000456328 // B7ZGX2 /// ENST00000456328 // B7ZGX3 /// ENST00000456328 // B7ZGX7 /// ENST00000456328 // B7ZGX8 /// ENST00000456328 // Q6ZU42', '---', 'NM_001005484 // Q8NH21 /// ENST00000335137 // Q8NH21', '---', 'NR_028325 // B4DYM5 /// NR_028325 // B4E0H4 /// NR_028325 // B4E3X0 /// NR_028325 // B4E3X2 /// NR_028325 // Q6ZQS4'], 'unigene': ['NR_046018 // Hs.714157 // testis| normal| adult /// ENST00000456328 // Hs.719844 // brain| testis| normal /// ENST00000456328 // Hs.714157 // testis| normal| adult /// ENST00000456328 // Hs.618434 // testis| normal', 'ENST00000469289 // Hs.622486 // eye| normal| adult /// ENST00000469289 // Hs.729632 // testis| normal /// ENST00000469289 // Hs.742718 // testis /// ENST00000473358 // Hs.622486 // eye| normal| adult /// ENST00000473358 // Hs.729632 // testis| normal /// ENST00000473358 // Hs.742718 // testis', 'NM_001005484 // Hs.554500 // --- /// ENST00000335137 // Hs.554500 // ---', '---', 'NR_028322 // Hs.446409 // adrenal gland| blood| bone| brain| connective tissue| embryonic tissue| eye| intestine| kidney| larynx| lung| lymph node| mouth| pharynx| placenta| prostate| skin| testis| thymus| thyroid| uterus| bladder carcinoma| chondrosarcoma| colorectal tumor| germ cell tumor| head and neck tumor| kidney tumor| leukemia| lung tumor| normal| primitive neuroectodermal tumor of the CNS| uterine tumor|embryoid body| blastocyst| fetus| neonate| adult /// NR_028327 // Hs.733048 // ascites| bladder| blood| brain| embryonic tissue| eye| intestine| kidney| larynx| liver| lung| mammary gland| mouth| pancreas| placenta| prostate| skin| stomach| testis| thymus| thyroid| trachea| uterus| bladder carcinoma| breast (mammary gland) tumor| colorectal tumor| gastrointestinal tumor| head and neck tumor| kidney tumor| leukemia| liver tumor| lung tumor| normal| pancreatic tumor| prostate cancer| retinoblastoma| skin tumor| soft tissue/muscle tissue tumor| uterine tumor|embryoid body| blastocyst| fetus| adult /// ENST00000425496 // Hs.744556 // mammary gland| normal| adult /// ENST00000425496 // Hs.660700 // eye| placenta| testis| normal| adult /// ENST00000425496 // Hs.518952 // blood| brain| intestine| lung| mammary gland| mouth| muscle| pharynx| placenta| prostate| spleen| testis| thymus| thyroid| trachea| breast (mammary gland) tumor| colorectal tumor| head and neck tumor| leukemia| lung tumor| normal| prostate cancer| fetus| adult /// ENST00000425496 // Hs.742131 // testis| normal| adult /// ENST00000425496 // Hs.636102 // uterus| uterine tumor /// ENST00000425496 // Hs.646112 // brain| intestine| larynx| lung| mouth| prostate| testis| thyroid| colorectal tumor| head and neck tumor| lung tumor| normal| prostate cancer| adult /// ENST00000425496 // Hs.647795 // brain| lung| lung tumor| adult /// ENST00000425496 // Hs.684307 // --- /// ENST00000425496 // Hs.720881 // testis| normal /// ENST00000425496 // Hs.729353 // brain| lung| placenta| testis| trachea| lung tumor| normal| fetus| adult /// ENST00000425496 // Hs.735014 // ovary| ovarian tumor /// NR_028325 // Hs.732199 // ascites| blood| brain| connective tissue| embryonic tissue| eye| intestine| kidney| lung| ovary| placenta| prostate| stomach| testis| thymus| uterus| chondrosarcoma| colorectal tumor| gastrointestinal tumor| kidney tumor| leukemia| lung tumor| normal| ovarian tumor| fetus| adult'], 'category': ['main', 'main', 'main', 'main', 'main'], 'locus type': ['Coding', 'Coding', 'Coding', 'Coding', 'Coding'], 'notes': ['---', '---', '---', '---', '2 retired transcript(s) from ENSEMBL, Havana transcript'], 'SPOT_ID': ['chr1(+):11869-14409', 'chr1(+):29554-31109', 'chr1(+):69091-70008', 'chr1(+):160446-161525', 'chr1(+):317811-328581']}\n",
      "    \n"
     ]
    }
   ],
   "source": [
    "if requires_gene_mapping:\n",
    "    print(f'''\n",
    "    As a biomedical research team, we extracted the gene annotation data from a series in the GEO database, and saved it to a Python dictionary. Please read the dictionary, and decide which key stores the ID of the probe, and which key stores the gene symbols. Please strict follow this format in your answer:\n",
    "    probe_name_key = 'key_name1'\n",
    "    gene_name_key = 'key_name2'\n",
    "\n",
    "    Gene annotation dictionary:\n",
    "    {gene_annotation_summary}\n",
    "    ''')"
   ]
  },
  {
   "cell_type": "code",
   "execution_count": 19,
   "metadata": {
    "ExecuteTime": {
     "end_time": "2024-01-02T01:03:35.113359369Z",
     "start_time": "2024-01-02T01:03:33.804666371Z"
    },
    "collapsed": false
   },
   "outputs": [],
   "source": [
    "if requires_gene_mapping:\n",
    "    probe_id_key = 'ID'\n",
    "    gene_symb_key = 'gene_assignment'\n",
    "    gene_mapping = get_gene_mapping(gene_annotation, probe_id_key, gene_symb_key)\n",
    "    genetic_data = apply_gene_mapping(genetic_data, gene_mapping)"
   ]
  },
  {
   "cell_type": "code",
   "execution_count": 20,
   "metadata": {
    "ExecuteTime": {
     "end_time": "2024-01-02T01:03:35.156584675Z",
     "start_time": "2024-01-02T01:03:35.114652593Z"
    },
    "collapsed": false
   },
   "outputs": [
    {
     "name": "stderr",
     "output_type": "stream",
     "text": [
      "998 input query terms found no hit:\t['locus=scaffold1174:29274:29561:+ gene:ENSG00000179066', 'locus=scaffold2987:101738:101991:+ gene:E\n",
      "1000 input query terms found no hit:\t['100287225', '100287225', '100287226', '100287226', '100287227', '100287238', '100287284', '1002872\n",
      "1000 input query terms found no hit:\t['100505918', '100505920', '100505921', '100505929', '100505933', '100505938', '100505940', '1005059\n",
      "1000 input query terms found no hit:\t['100616486', '100616487', '100616489', '100616490', '100616491', '100616492', '100616493', '1006164\n",
      "1000 input query terms found no hit:\t['10438', '10439', '1044', '10440', '10443', '10444', '10445', '10445', '10446', '10447', '10449', '\n",
      "1000 input query terms found no hit:\t['11260', '112609', '11261', '112611', '112616', '11262', '11264', '11266', '11267', '11269', '11270\n",
      "1000 input query terms found no hit:\t['124871', '124872', '124912', '124923', '124925', '124925', '124930', '124935', '124936', '124936',\n",
      "1000 input query terms found no hit:\t['1409', '140901', '140902', '140947', '140kDa', '141', '1410', '1410', '1411', '1412', '1413', '141\n",
      "1000 input query terms found no hit:\t['157574', '1576', '157627', '157638', '157657', '157680', '157693', '157695', '157697', '1577', '15\n",
      "1000 input query terms found no hit:\t['1911', '1911', '1912', '1915', '191585', '1917', '192111', '192111', '192134', '192134', '192286',\n",
      "1000 input query terms found no hit:\t['2197', '2197', '219731', '219736', '219738', '219743', '219749', '219770', '219771', '219790', '21\n",
      "1000 input query terms found no hit:\t['23361', '23362', '23363', '23365', '23365', '23366', '23367', '23368', '23368', '23369', '23370', \n",
      "1000 input query terms found no hit:\t['259308', '25932', '25934', '25936', '25937', '25938', '25938', '25939', '25940', '25941', '25941',\n",
      "1000 input query terms found no hit:\t['2817', '2819', '2819', '2820', '2821', '2821', '2822', '28227', '28227', '2823', '28231', '28232',\n",
      "1000 input query terms found no hit:\t['29099', '29099', '291', '29100', '29100', '29101', '29102', '29103', '29104', '29105', '29106', '2\n",
      "1000 input query terms found no hit:\t['338662', '338674', '338674', '338675', '338675', '338692', '338699', '338699', '338707', '338739',\n",
      "1000 input query terms found no hit:\t['375189', '375190', '375196', '3752', '375248', '375260', '375287', '375295', '375298', '3753', '37\n",
      "1000 input query terms found no hit:\t['399876', '399876', '399881', '399881', '399886', '399886', '399888', '399888', '399909', '399909',\n",
      "1000 input query terms found no hit:\t['4135', '4137', '4137', '4139', '414', '4140', '4140', '414059', '414060', '414061', '414061', '414\n",
      "1000 input query terms found no hit:\t['4798', '4799', '47kDa', '48', '480', '4800', '4801', '4801', '4802', '4803', '4804', '4807', '4808\n",
      "1000 input query terms found no hit:\t['51341', '51343', '51343', '51347', '51347', '51348', '51348', '51350', '51350', '51351', '51352', \n",
      "1000 input query terms found no hit:\t['5480', '54800', '54801', '54802', '54805', '54806', '54807', '54807', '54808', '54809', '5481', '5\n",
      "1000 input query terms found no hit:\t['55769', '5577', '55770', '55771', '55771', '55773', '55775', '55775', '55776', '55777', '55778', '\n",
      "1000 input query terms found no hit:\t['574488', '574489', '574489', '57449', '574490', '574490', '574491', '574491', '574492', '574492', \n",
      "1000 input query terms found no hit:\t['5S ribosomal pseudogene 290', '5S ribosomal pseudogene 291', '5S ribosomal pseudogene 292', '5S ri\n",
      "1000 input query terms found no hit:\t['64090', '64091', '64092', '64093', '64093', '64094', '64096', '64097', '64098', '641', '64100', '6\n",
      "1000 input query terms found no hit:\t['653519', '653543', '653544', '653545', '653548', '653550', '653566', '653567', '653583', '653598',\n",
      "1000 input query terms found no hit:\t['6950', '6953', '6953', '6954', '696', '6975', '6988', '699', '6990', '6991', '6992', '6993', '6996\n",
      "1000 input query terms found no hit:\t['7431', '7432', '7433', '7434', '7436', '7439', '7439', '744', '744', '7441', '7442', '7442', '7443\n",
      "1000 input query terms found no hit:\t['7984', '79840', '79841', '79841', '79842', '79842', '79843', '79844', '79845', '79846', '79847', '\n",
      "1000 input query terms found no hit:\t['83450', '83451', '83452', '8346', '83460', '83460', '83461', '83461', '83463', '83464', '83468', '\n",
      "1000 input query terms found no hit:\t['8500', '85001', '85001', '85002', '85002', '85004', '85004', '85007', '85009', '8501', '8501', '85\n",
      "1000 input query terms found no hit:\t['9084', '90843', '9085', '90850', '90850', '90853', '9086', '90861', '90864', '90864', '90865', '90\n",
      "9 input query terms found dup hits:\t[('A2ML1-AS1', 2), ('A2ML1-AS2', 2), ('A2MP1', 2), ('AACSP1', 2), ('ABCA11P', 2), ('ABCA17P', 2), ('\n",
      "876 input query terms found no hit:\t['9638', '9638', '9639', '9640', '9640', '9641', '9643', '9644', '9645', '9645', '96459', '9646', '9\n",
      "1000 input query terms found no hit:\t['AC007163.6', 'AC007179.1', 'AC007182.6', 'AC007246.3', 'AC007249.3', 'AC007250.4', 'AC007251.2', '\n",
      "16 input query terms found dup hits:\t[('ACAP2-IT1', 2), ('ACTG1P4', 2), ('ACTR3BP2', 2), ('ACTR3BP4', 2), ('ACTR3BP5', 3), ('ADAM1A', 2),\n",
      "643 input query terms found no hit:\t['AC102948.2', 'AC102953.4', 'AC102953.6', 'AC103563.8', 'AC103563.9', 'AC103564.7', 'AC103881.1', '\n",
      "60 input query terms found dup hits:\t[('AK4P3', 2), ('AKR1B1P6', 2), ('AKR1C6P', 2), ('AKR7A2P1', 3), ('ALG1', 2), ('ALG10', 2), ('ALG10B\n",
      "394 input query terms found no hit:\t['AK131021', 'AK131084', 'AK131224', 'AK131521', 'AK225211', 'AK225579', 'AK293020', 'AK293635', 'AK\n",
      "24 input query terms found dup hits:\t[('ARMC2-AS1', 2), ('ARMCX3-AS1', 2), ('ARMCX5-GPRASP2', 2), ('ASB9P1', 2), ('ASH1L-IT1', 2), ('ASMT\n",
      "574 input query terms found no hit:\t['ARL2-SNX15 readthrough', 'ARL5B antisense RNA 1', 'ARL5B-AS1', 'ARMC2 antisense RNA 1', 'ARMC4', '\n",
      "1000 input query terms found no hit:\t['BC000254', 'BC000255', 'BC000258', 'BC000259', 'BC000260', 'BC000261', 'BC000262', 'BC000263', 'BC\n",
      "1000 input query terms found no hit:\t['BC001793', 'BC001795', 'BC001796', 'BC001798', 'BC001800', 'BC001801', 'BC001803', 'BC001804', 'BC\n",
      "1000 input query terms found no hit:\t['BC004438', 'BC004439', 'BC004440', 'BC004441', 'BC004442', 'BC004443', 'BC004445', 'BC004446', 'BC\n",
      "1000 input query terms found no hit:\t['BC007506', 'BC007507', 'BC007508', 'BC007509', 'BC007512', 'BC007514', 'BC007515', 'BC007516', 'BC\n",
      "1000 input query terms found no hit:\t['BC009849', 'BC009850', 'BC009855', 'BC009858', 'BC009861', 'BC009863', 'BC009865', 'BC009868', 'BC\n",
      "1000 input query terms found no hit:\t['BC012609', 'BC012611', 'BC012612', 'BC012613', 'BC012616', 'BC012617', 'BC012618', 'BC012620', 'BC\n",
      "1000 input query terms found no hit:\t['BC015557', 'BC015558', 'BC015563', 'BC015564', 'BC015565', 'BC015567', 'BC015568', 'BC015569', 'BC\n",
      "1000 input query terms found no hit:\t['BC018714', 'BC018718', 'BC018719', 'BC018720', 'BC018722', 'BC018723', 'BC018724', 'BC018726', 'BC\n",
      "1000 input query terms found no hit:\t['BC022878', 'BC022880', 'BC022882', 'BC022890', 'BC022892', 'BC022893', 'BC022895', 'BC022898', 'BC\n",
      "1000 input query terms found no hit:\t['BC028976', 'BC028983', 'BC028985', 'BC029032', 'BC029034', 'BC029036', 'BC029041', 'BC029042', 'BC\n",
      "1000 input query terms found no hit:\t['BC033023', 'BC033024', 'BC033025', 'BC033027', 'BC033028', 'BC033029', 'BC033030', 'BC033031', 'BC\n",
      "1000 input query terms found no hit:\t['BC036679', 'BC036680', 'BC036683', 'BC036689', 'BC036701', 'BC036703', 'BC036704', 'BC036705', 'BC\n",
      "1000 input query terms found no hit:\t['BC042197', 'BC042295', 'BC042297', 'BC042333', 'BC042334', 'BC042362', 'BC042366', 'BC042372', 'BC\n",
      "1000 input query terms found no hit:\t['BC050700', 'BC050702', 'BC050704', 'BC050705', 'BC050706', 'BC050708', 'BC050709', 'BC050711', 'BC\n",
      "1000 input query terms found no hit:\t['BC062581', 'BC062582', 'BC062584', 'BC062585', 'BC062590', 'BC062591', 'BC062592', 'BC062595', 'BC\n",
      "1000 input query terms found no hit:\t['BC068025', 'BC068030', 'BC068031', 'BC068046', 'BC068050', 'BC068051', 'BC068055', 'BC068058', 'BC\n",
      "1000 input query terms found no hit:\t['BC072411', 'BC072412', 'BC072414', 'BC072416', 'BC072420', 'BC072423', 'BC072426', 'BC072427', 'BC\n",
      "1000 input query terms found no hit:\t['BC093851', 'BC093852', 'BC093853', 'BC093854', 'BC093855', 'BC093856', 'BC093857', 'BC093860', 'BC\n",
      "1000 input query terms found no hit:\t['BC101598', 'BC101599', 'BC101600', 'BC101601', 'BC101602', 'BC101603', 'BC101604', 'BC101605', 'BC\n",
      "1000 input query terms found no hit:\t['BC107575', 'BC107580', 'BC107582', 'BC107583', 'BC107584', 'BC107585', 'BC107586', 'BC107587', 'BC\n",
      "1000 input query terms found no hit:\t['BC113380', 'BC113382', 'BC113383', 'BC113385', 'BC113386', 'BC113387', 'BC113393', 'BC113394', 'BC\n",
      "1000 input query terms found no hit:\t['BC122558', 'BC122561', 'BC122564', 'BC122567', 'BC122861', 'BC122864', 'BC122869', 'BC122873', 'BC\n",
      "1000 input query terms found no hit:\t['BC131801', 'BC131805', 'BC131822', 'BC131824', 'BC131825', 'BC132667', 'BC132668', 'BC132669', 'BC\n",
      "1000 input query terms found no hit:\t['BC137397', 'BC137398', 'BC137399', 'BC137404', 'BC137405', 'BC137406', 'BC137411', 'BC137413', 'BC\n",
      "14 input query terms found dup hits:\t[('BCORP1', 2), ('BCRP2', 2), ('BCRP3', 2), ('BEND3P3', 2), ('BIRC6-AS1', 2), ('BIRC8', 2), ('BMS1P1\n",
      "777 input query terms found no hit:\t['BC144621', 'BC144627', 'BC144628', 'BC144631', 'BC144635', 'BC144637', 'BC144649', 'BC144651', 'BC\n",
      "12 input query terms found dup hits:\t[('BRWD1-IT1', 2), ('BSN-AS1', 2), ('BTF3L4P1', 2), ('BTF3P10', 2), ('BTF3P11', 2), ('BTN2A3P', 2), \n",
      "749 input query terms found no hit:\t['BRWD1 antisense RNA 1', 'BRWD1 intronic transcript 1', 'BRWD1 intronic transcript 2', 'BRWD1-IT2',\n",
      "24 input query terms found dup hits:\t[('C3P1', 2), ('C4A-AS1', 6), ('C6orf47-AS1', 8), ('CA5BP1', 2), ('CACNA1C-AS3', 3), ('CACNA1C-IT1',\n",
      "376 input query terms found no hit:\t['C3H type-like 1', 'C3H1-type containing', 'C3HC-type containing 1', 'C3orf14', 'C3orf15', 'C3orf17\n",
      "33 input query terms found dup hits:\t[('CD99P1', 3), ('CDC42-IT1', 2), ('CDR1', 2), ('CDRT15P1', 2), ('CDRT15P2', 2), ('CEACAM22P', 2), (\n",
      "166 input query terms found no hit:\t['CD63 molecule', 'CD68 molecule', 'CD69 molecule', 'CD7 molecule', 'CD70 molecule', 'CD71', 'CD72 m\n",
      "14 input query terms found dup hits:\t[('COX11P1', 2), ('COX6A1P2', 2), ('CPHL1P', 2), ('CRIP1P4', 2), ('CROCCP2', 2), ('CRYBB2P1', 2), ('\n",
      "634 input query terms found no hit:\t['COX10 antisense RNA 1', 'COX10-AS1', 'COX11 cytochrome c oxidase assembly homolog', 'COX15 homolog\n",
      "37 input query terms found dup hits:\t[('CXADRP2', 3), ('CXCR2P1', 2), ('CXXC1P1', 2), ('CYP20A1', 2), ('CYP21A1P', 5), ('CYP2G1P', 2), ('\n",
      "327 input query terms found no hit:\t['CWF19-like 1', 'CWF19-like 2', 'CXADR-like membrane protein', 'CXCR7', 'CXXC finger protein 1', 'C\n",
      "17 input query terms found dup hits:\t[('DNM1P35', 2), ('DNM1P41', 2), ('DNM1P46', 2), ('DNM3OS', 2), ('DOC2GP', 2), ('DPH3', 2), ('DPH3P1\n",
      "897 input query terms found no hit:\t['DNL-type zinc finger', 'DNM1 pseudogene 35', 'DNM1 pseudogene 41', 'DNM1 pseudogene 46', 'DNM3 int\n",
      "17 input query terms found dup hits:\t[('DSCR4-IT1', 2), ('DSN1', 2), ('DSTNP2', 2), ('DSTNP4', 2), ('DUSP5P1', 3), ('DUX4', 2), ('DUX4L2'\n",
      "702 input query terms found no hit:\t['DQ589249', 'DQ589253', 'DQ589313', 'DQ589322', 'DQ589342', 'DQ589348', 'DQ589384', 'DQ589393', 'DQ\n",
      "7 input query terms found dup hits:\t[('EIF2S2P3', 2), ('ELK1', 2), ('ELK3', 2), ('ELK4', 2), ('EMBP1', 2), ('ENOX1-AS1', 2), ('ENOX1-AS2\n",
      "843 input query terms found no hit:\t['EIF2C1', 'EIF2C2', 'EIF2C3', 'EIF2C4', 'EIF2S3L', 'EIF3J antisense RNA 1', 'EIF3J-AS1', 'EIF4E bin\n",
      "1000 input query terms found no hit:\t['ENST00000219054', 'ENST00000219066', 'ENST00000219069', 'ENST00000219070', 'ENST00000219084', 'ENS\n",
      "1000 input query terms found no hit:\t['ENST00000239690', 'ENST00000239715', 'ENST00000239761', 'ENST00000239830', 'ENST00000239849', 'ENS\n",
      "1000 input query terms found no hit:\t['ENST00000254803', 'ENST00000254806', 'ENST00000254810', 'ENST00000254816', 'ENST00000254821', 'ENS\n",
      "1000 input query terms found no hit:\t['ENST00000262294', 'ENST00000262300', 'ENST00000262301', 'ENST00000262302', 'ENST00000262304', 'ENS\n",
      "1000 input query terms found no hit:\t['ENST00000266563', 'ENST00000266564', 'ENST00000266579', 'ENST00000266581', 'ENST00000266594', 'ENS\n",
      "1000 input query terms found no hit:\t['ENST00000279027', 'ENST00000279028', 'ENST00000279034', 'ENST00000279035', 'ENST00000279036', 'ENS\n",
      "1000 input query terms found no hit:\t['ENST00000292330', 'ENST00000292357', 'ENST00000292363', 'ENST00000292377', 'ENST00000292385', 'ENS\n",
      "1000 input query terms found no hit:\t['ENST00000299427', 'ENST00000299430', 'ENST00000299432', 'ENST00000299438', 'ENST00000299440', 'ENS\n",
      "1000 input query terms found no hit:\t['ENST00000305904', 'ENST00000305910', 'ENST00000305921', 'ENST00000305943', 'ENST00000305949', 'ENS\n",
      "1000 input query terms found no hit:\t['ENST00000311734', 'ENST00000311737', 'ENST00000311745', 'ENST00000311755', 'ENST00000311762', 'ENS\n",
      "1000 input query terms found no hit:\t['ENST00000318149', 'ENST00000318157', 'ENST00000318158', 'ENST00000318160', 'ENST00000318168', 'ENS\n",
      "1000 input query terms found no hit:\t['ENST00000325006', 'ENST00000325017', 'ENST00000325064', 'ENST00000325074', 'ENST00000325076', 'ENS\n",
      "1000 input query terms found no hit:\t['ENST00000331200', 'ENST00000331203', 'ENST00000331204', 'ENST00000331220', 'ENST00000331222', 'ENS\n",
      "1000 input query terms found no hit:\t['ENST00000336338', 'ENST00000336349', 'ENST00000336356', 'ENST00000336358', 'ENST00000336374', 'ENS\n",
      "1000 input query terms found no hit:\t['ENST00000340811', 'ENST00000340813', 'ENST00000340825', 'ENST00000340827', 'ENST00000340828', 'ENS\n",
      "1000 input query terms found no hit:\t['ENST00000344836', 'ENST00000344838', 'ENST00000344839', 'ENST00000344843', 'ENST00000344846', 'ENS\n",
      "1000 input query terms found no hit:\t['ENST00000353170', 'ENST00000353172', 'ENST00000353176', 'ENST00000353187', 'ENST00000353196', 'ENS\n",
      "1000 input query terms found no hit:\t['ENST00000356487', 'ENST00000356488', 'ENST00000356489', 'ENST00000356492', 'ENST00000356493', 'ENS\n",
      "1000 input query terms found no hit:\t['ENST00000359059', 'ENST00000359060', 'ENST00000359061', 'ENST00000359062', 'ENST00000359069', 'ENS\n",
      "1000 input query terms found no hit:\t['ENST00000361524', 'ENST00000361525', 'ENST00000361528', 'ENST00000361529', 'ENST00000361530', 'ENS\n",
      "1000 input query terms found no hit:\t['ENST00000367177', 'ENST00000367178', 'ENST00000367180', 'ENST00000367182', 'ENST00000367183', 'ENS\n",
      "1000 input query terms found no hit:\t['ENST00000368804', 'ENST00000368805', 'ENST00000368806', 'ENST00000368808', 'ENST00000368809', 'ENS\n",
      "1000 input query terms found no hit:\t['ENST00000370470', 'ENST00000370471', 'ENST00000370473', 'ENST00000370474', 'ENST00000370475', 'ENS\n",
      "1000 input query terms found no hit:\t['ENST00000372184', 'ENST00000372185', 'ENST00000372187', 'ENST00000372188', 'ENST00000372189', 'ENS\n",
      "1000 input query terms found no hit:\t['ENST00000373740', 'ENST00000373741', 'ENST00000373742', 'ENST00000373744', 'ENST00000373745', 'ENS\n",
      "1000 input query terms found no hit:\t['ENST00000375530', 'ENST00000375533', 'ENST00000375534', 'ENST00000375535', 'ENST00000375537', 'ENS\n",
      "1000 input query terms found no hit:\t['ENST00000377477', 'ENST00000377479', 'ENST00000377482', 'ENST00000377484', 'ENST00000377486', 'ENS\n",
      "1000 input query terms found no hit:\t['ENST00000379471', 'ENST00000379472', 'ENST00000379477', 'ENST00000379480', 'ENST00000379482', 'ENS\n",
      "1000 input query terms found no hit:\t['ENST00000381575', 'ENST00000381577', 'ENST00000381578', 'ENST00000381579', 'ENST00000381580', 'ENS\n",
      "1000 input query terms found no hit:\t['ENST00000385023', 'ENST00000385024', 'ENST00000385025', 'ENST00000385026', 'ENST00000385028', 'ENS\n",
      "1000 input query terms found no hit:\t['ENST00000392028', 'ENST00000392033', 'ENST00000392035', 'ENST00000392038', 'ENST00000392039', 'ENS\n",
      "1000 input query terms found no hit:\t['ENST00000393810', 'ENST00000393811', 'ENST00000393812', 'ENST00000393815', 'ENST00000393817', 'ENS\n",
      "1000 input query terms found no hit:\t['ENST00000395443', 'ENST00000395445', 'ENST00000395446', 'ENST00000395449', 'ENST00000395451', 'ENS\n",
      "1000 input query terms found no hit:\t['ENST00000397134', 'ENST00000397135', 'ENST00000397136', 'ENST00000397137', 'ENST00000397138', 'ENS\n",
      "1000 input query terms found no hit:\t['ENST00000399208', 'ENST00000399211', 'ENST00000399212', 'ENST00000399213', 'ENST00000399215', 'ENS\n",
      "1000 input query terms found no hit:\t['ENST00000402943', 'ENST00000402951', 'ENST00000402965', 'ENST00000402966', 'ENST00000402979', 'ENS\n",
      "1000 input query terms found no hit:\t['ENST00000407714', 'ENST00000407721', 'ENST00000407724', 'ENST00000407727', 'ENST00000407755', 'ENS\n",
      "1000 input query terms found no hit:\t['ENST00000409941', 'ENST00000409942', 'ENST00000409943', 'ENST00000409944', 'ENST00000409945', 'ENS\n",
      "1000 input query terms found no hit:\t['ENST00000415427', 'ENST00000415430', 'ENST00000415431', 'ENST00000415432', 'ENST00000415433', 'ENS\n",
      "1000 input query terms found no hit:\t['ENST00000420468', 'ENST00000420469', 'ENST00000420470', 'ENST00000420472', 'ENST00000420481', 'ENS\n",
      "1000 input query terms found no hit:\t['ENST00000424875', 'ENST00000424878', 'ENST00000424880', 'ENST00000424881', 'ENST00000424889', 'ENS\n",
      "1000 input query terms found no hit:\t['ENST00000429331', 'ENST00000429338', 'ENST00000429344', 'ENST00000429347', 'ENST00000429348', 'ENS\n",
      "1000 input query terms found no hit:\t['ENST00000433727', 'ENST00000433731', 'ENST00000433736', 'ENST00000433738', 'ENST00000433743', 'ENS\n",
      "1000 input query terms found no hit:\t['ENST00000438284', 'ENST00000438287', 'ENST00000438291', 'ENST00000438292', 'ENST00000438295', 'ENS\n",
      "1000 input query terms found no hit:\t['ENST00000442791', 'ENST00000442796', 'ENST00000442804', 'ENST00000442808', 'ENST00000442819', 'ENS\n",
      "1000 input query terms found no hit:\t['ENST00000447302', 'ENST00000447306', 'ENST00000447310', 'ENST00000447311', 'ENST00000447313', 'ENS\n",
      "1000 input query terms found no hit:\t['ENST00000451662', 'ENST00000451672', 'ENST00000451674', 'ENST00000451679', 'ENST00000451682', 'ENS\n",
      "1000 input query terms found no hit:\t['ENST00000456402', 'ENST00000456403', 'ENST00000456408', 'ENST00000456420', 'ENST00000456423', 'ENS\n",
      "1000 input query terms found no hit:\t['ENST00000461950', 'ENST00000461958', 'ENST00000461961', 'ENST00000461963', 'ENST00000461970', 'ENS\n",
      "1000 input query terms found no hit:\t['ENST00000467308', 'ENST00000467310', 'ENST00000467311', 'ENST00000467312', 'ENST00000467314', 'ENS\n",
      "1000 input query terms found no hit:\t['ENST00000472638', 'ENST00000472639', 'ENST00000472642', 'ENST00000472644', 'ENST00000472647', 'ENS\n",
      "1000 input query terms found no hit:\t['ENST00000477905', 'ENST00000477909', 'ENST00000477910', 'ENST00000477916', 'ENST00000477919', 'ENS\n",
      "1000 input query terms found no hit:\t['ENST00000483099', 'ENST00000483105', 'ENST00000483110', 'ENST00000483115', 'ENST00000483122', 'ENS\n",
      "1000 input query terms found no hit:\t['ENST00000488450', 'ENST00000488451', 'ENST00000488453', 'ENST00000488455', 'ENST00000488464', 'ENS\n",
      "1000 input query terms found no hit:\t['ENST00000493672', 'ENST00000493676', 'ENST00000493677', 'ENST00000493678', 'ENST00000493680', 'ENS\n",
      "1000 input query terms found no hit:\t['ENST00000499385', 'ENST00000499390', 'ENST00000499425', 'ENST00000499453', 'ENST00000499504', 'ENS\n",
      "1000 input query terms found no hit:\t['ENST00000506580', 'ENST00000506583', 'ENST00000506585', 'ENST00000506587', 'ENST00000506595', 'ENS\n",
      "1000 input query terms found no hit:\t['ENST00000511409', 'ENST00000511410', 'ENST00000511413', 'ENST00000511426', 'ENST00000511434', 'ENS\n",
      "1000 input query terms found no hit:\t['ENST00000517367', 'ENST00000517371', 'ENST00000517373', 'ENST00000517375', 'ENST00000517377', 'ENS\n",
      "1000 input query terms found no hit:\t['ENST00000521617', 'ENST00000521628', 'ENST00000521641', 'ENST00000521652', 'ENST00000521654', 'ENS\n",
      "1000 input query terms found no hit:\t['ENST00000526019', 'ENST00000526025', 'ENST00000526027', 'ENST00000526028', 'ENST00000526030', 'ENS\n",
      "1000 input query terms found no hit:\t['ENST00000530356', 'ENST00000530364', 'ENST00000530371', 'ENST00000530374', 'ENST00000530393', 'ENS\n",
      "1000 input query terms found no hit:\t['ENST00000534862', 'ENST00000534863', 'ENST00000534868', 'ENST00000534869', 'ENST00000534871', 'ENS\n",
      "1000 input query terms found no hit:\t['ENST00000536774', 'ENST00000536776', 'ENST00000536777', 'ENST00000536780', 'ENST00000536782', 'ENS\n",
      "1000 input query terms found no hit:\t['ENST00000538680', 'ENST00000538681', 'ENST00000538682', 'ENST00000538683', 'ENST00000538684', 'ENS\n",
      "1000 input query terms found no hit:\t['ENST00000540558', 'ENST00000540560', 'ENST00000540562', 'ENST00000540563', 'ENST00000540564', 'ENS\n",
      "1000 input query terms found no hit:\t['ENST00000542483', 'ENST00000542485', 'ENST00000542487', 'ENST00000542492', 'ENST00000542494', 'ENS\n",
      "1000 input query terms found no hit:\t['ENST00000544435', 'ENST00000544438', 'ENST00000544439', 'ENST00000544441', 'ENST00000544443', 'ENS\n",
      "1000 input query terms found no hit:\t['ENST00000546436', 'ENST00000546442', 'ENST00000546443', 'ENST00000546455', 'ENST00000546463', 'ENS\n",
      "1000 input query terms found no hit:\t['ENST00000552521', 'ENST00000552540', 'ENST00000552541', 'ENST00000552546', 'ENST00000552551', 'ENS\n",
      "1 input query terms found dup hits:\t[('EPB41L4A-AS1', 2)]\n",
      "968 input query terms found no hit:\t['ENST00000557095', 'ENST00000557096', 'ENST00000557098', 'ENST00000557100', 'ENST00000557103', 'ENS\n",
      "46 input query terms found dup hits:\t[('EPS15P1', 2), ('ERVK13-1', 2), ('ESF1', 2), ('ESPNP', 2), ('FABP3P2', 2), ('FABP5P1', 2), ('FABP5\n",
      "390 input query terms found no hit:\t['EPH receptor B2', 'EPH receptor B3', 'EPH receptor B4', 'EPH receptor B6', 'EPHA1 antisense RNA 1'\n",
      "22 input query terms found dup hits:\t[('FCGR2C', 2), ('FDPSP2', 2), ('FGD5P1', 2), ('FGR', 2), ('FKBP1AP1', 2), ('FMO6P', 2), ('FMO9P', 2\n",
      "478 input query terms found no hit:\t['FCH and double SH3 domains 1', 'FCH and double SH3 domains 2', 'FCH domain only 1', 'FCH domain on\n",
      "40 input query terms found dup hits:\t[('GAS5-AS1', 2), ('GAS6-AS1', 2), ('GBP1P1', 2), ('GCSHP3', 3), ('GDNF-AS1', 2), ('GEMIN8P4', 2), (\n",
      "250 input query terms found no hit:\t['GAR1 ribonucleoprotein homolog', 'GAREM', 'GAREML', 'GARS', 'GAS5 antisense RNA 1', 'GAS6 antisens\n",
      "58 input query terms found dup hits:\t[('GYG2P1', 2), ('H19', 2), ('HAR1A', 2), ('HBBP1', 2), ('HBD', 2), ('HCFC1-AS1', 2), ('HCG15', 8), \n",
      "470 input query terms found no hit:\t['GYLTL1B', 'Gardner-Rasheed feline sarcoma viral', 'Gen endonuclease homolog 1', 'Golgi pH regulato\n",
      "131 input query terms found dup hits:\t[('HTR7P1', 2), ('HYDIN', 2), ('HYDIN2', 4), ('IBA57', 2), ('ID2B', 2), ('IFITM4P', 7), ('IFNA22P', \n",
      "220 input query terms found no hit:\t['HSPA', 'HSPB', 'HSPB11', 'HSPB2-C11orf52 readthrough', 'HSPE1-MOB4 readthrough', 'HTR2A antisense \n",
      "24 input query terms found dup hits:\t[('JRKL-AS1', 2), ('KCNH1-IT1', 2), ('KCNIP2-AS1', 2), ('KCNMB3P1', 2), ('KDM4A-AS1', 2), ('KDM5C-IT\n",
      "312 input query terms found no hit:\t['JMJD1C antisense RNA 1', 'JMJD7-PLA2G4B readthrough', 'JN110922', 'JNK1/MAPK8-associated membrane \n",
      "95 input query terms found dup hits:\t[('LARGE-IT1', 2), ('LARS2-AS1', 2), ('LATS2-AS1', 2), ('LBX1-AS1', 2), ('LDHAL6CP', 2), ('LIMD1-AS1\n",
      "326 input query terms found no hit:\t['LARS', 'LARS2 antisense RNA 1', 'LAS1-like', 'LATS', 'LATS2 antisense RNA 1', 'LBX1 antisense RNA \n",
      "882 input query terms found no hit:\t['LOC100134259', 'LOC100134361', 'LOC100144595', 'LOC100144597', 'LOC100144602', 'LOC100147773', 'LO\n",
      "15 input query terms found dup hits:\t[('LPAL2', 2), ('LRP5L', 2), ('LRRC37A11P', 2), ('LRRC37A4P', 3), ('LRRC37A5P', 2), ('LRRC37BP1', 2)\n",
      "510 input query terms found no hit:\t['LOC283177', 'LOC283214', 'LOC283332', 'LOC283335', 'LOC283403', 'LOC283440', 'LOC283575', 'LOC2835\n",
      "18 input query terms found dup hits:\t[('MAP2K4P1', 2), ('MAP3K14-AS1', 2), ('MAPT-AS1', 4), ('MARK2P9', 2), ('MAST4-AS1', 2), ('MAST4-IT1\n",
      "156 input query terms found no hit:\t['MAN1B1 antisense RNA 1', 'MAN1B1-AS1', 'MANSC domain containing 1', 'MANSC domain containing 4', '\n",
      "15 input query terms found dup hits:\t[('MIR320B2', 2), ('MIR320C2', 2), ('MIR320D1', 2), ('MIR320D2', 2), ('MIR320E', 2), ('MIR503HG', 2)\n",
      "61 input query terms found no hit:\t['MIR3545', 'MIR3607', 'MIR3648', 'MIR3653', 'MIR3656', 'MIR3676', 'MIR3687', 'MIR381 host gene', 'M\n",
      "39 input query terms found dup hits:\t[('MNT', 2), ('MORF4', 2), ('MORF4L2-AS1', 2), ('MOXD2P', 2), ('MPRIP-AS1', 2), ('MRPL45P2', 2), ('M\n",
      "283 input query terms found no hit:\t['MMP24 antisense RNA 1', 'MMP24-AS1', 'MMS19 nucleotide excision repair homolog', 'MMS21 homolog', \n",
      "6 input query terms found dup hits:\t[('NDUFAF4P1', 2), ('NF1P2', 2), ('NF1P5', 2), ('NIP7', 2), ('NKAPP1', 2), ('NKX2-2-AS1', 2)]\n",
      "740 input query terms found no hit:\t['NDUFB2 antisense RNA 1', 'NDUFC2-KCTD14 readthrough', 'NEBL antisense RNA 1', 'NECAP endocytosis a\n",
      "1000 input query terms found no hit:\t['NM_001032410', 'NM_001033002', 'NM_001033026', 'NM_001033031', 'NM_001033032', 'NM_001033055', 'NM\n",
      "1000 input query terms found no hit:\t['NM_001127656', 'NM_001127662', 'NM_001127663', 'NM_001127664', 'NM_001127665', 'NM_001127666', 'NM\n",
      "1000 input query terms found no hit:\t['NM_001145657', 'NM_001145662', 'NM_001145665', 'NM_001145667', 'NM_001145670', 'NM_001145671', 'NM\n",
      "1000 input query terms found no hit:\t['NM_001171951', 'NM_001171968', 'NM_001171988', 'NM_001171991', 'NM_001172086', 'NM_001172087', 'NM\n",
      "1000 input query terms found no hit:\t['NM_001199179', 'NM_001199180', 'NM_001199181', 'NM_001199182', 'NM_001199183', 'NM_001199184', 'NM\n",
      "1000 input query terms found no hit:\t['NM_001243737', 'NM_001243743', 'NM_001243744', 'NM_001243745', 'NM_001243747', 'NM_001243751', 'NM\n",
      "1000 input query terms found no hit:\t['NM_003025', 'NM_003029', 'NM_003030', 'NM_003031', 'NM_003038', 'NM_003039', 'NM_003043', 'NM_0030\n",
      "1000 input query terms found no hit:\t['NM_006266', 'NM_006277', 'NM_006278', 'NM_006280', 'NM_006281', 'NM_006286', 'NM_006287', 'NM_0062\n",
      "1000 input query terms found no hit:\t['NM_015889', 'NM_015892', 'NM_015893', 'NM_015895', 'NM_015900', 'NM_015905', 'NM_015908', 'NM_0159\n",
      "1000 input query terms found no hit:\t['NM_021795', 'NM_021803', 'NM_021806', 'NM_021807', 'NM_021808', 'NM_021809', 'NM_021813', 'NM_0218\n",
      "1000 input query terms found no hit:\t['NM_033169', 'NM_033170', 'NM_033171', 'NM_033172', 'NM_033173', 'NM_033177', 'NM_033178', 'NM_0331\n",
      "1000 input query terms found no hit:\t['NM_146421', 'NM_147127', 'NM_147129', 'NM_147130', 'NM_147133', 'NM_147134', 'NM_147147', 'NM_1471\n",
      "1000 input query terms found no hit:\t['NM_181268', 'NM_181269', 'NM_181270', 'NM_181271', 'NM_181272', 'NM_181283', 'NM_181291', 'NM_1812\n",
      "7 input query terms found dup hits:\t[('NOP14-AS1', 2), ('NOS2P2', 3), ('NOS2P3', 2), ('NPY6R', 2), ('NR2F2-AS1', 2), ('NRADDP', 2), ('NR\n",
      "808 input query terms found no hit:\t['NM_203468', 'NM_203471', 'NM_203473', 'NM_203475', 'NM_203486', 'NM_203487', 'NM_203488', 'NM_2034\n",
      "1000 input query terms found no hit:\t['NR_026840', 'NR_026841', 'NR_026842', 'NR_026856', 'NR_026861', 'NR_026872', 'NR_026879', 'NR_0268\n",
      "12 input query terms found dup hits:\t[('NSL1', 2), ('NSUN5P2', 2), ('NUDT9P1', 2), ('NUF2', 2), ('NUP210P1', 2), ('NXF4', 2), ('NXF5', 2)\n",
      "685 input query terms found no hit:\t['NR_037612', 'NR_037615', 'NR_037619', 'NR_037620', 'NR_037623', 'NR_037625', 'NR_037628', 'NR_0376\n",
      "15 input query terms found dup hits:\t[('OR2A9P', 2), ('OR3A4P', 2), ('OR4F13P', 2), ('OR4Q2', 2), ('OR5E1P', 4), ('OR5G5P', 2), ('OR6W1P'\n",
      "590 input query terms found no hit:\t['OR2W5', 'OR51H1P', 'OR52A4', 'OR5R1', 'OR8G2', 'ORAI calcium release-activated calcium modulator 1\n",
      "1000 input query terms found no hit:\t['OTTHUMG00000014238', 'OTTHUMG00000014247', 'OTTHUMG00000014248', 'OTTHUMG00000014256', 'OTTHUMG000\n",
      "1000 input query terms found no hit:\t['OTTHUMG00000020240', 'OTTHUMG00000020244', 'OTTHUMG00000020245', 'OTTHUMG00000020246', 'OTTHUMG000\n",
      "1000 input query terms found no hit:\t['OTTHUMG00000042455', 'OTTHUMG00000042457', 'OTTHUMG00000042553', 'OTTHUMG00000043020', 'OTTHUMG000\n",
      "1000 input query terms found no hit:\t['OTTHUMG00000151357', 'OTTHUMG00000151358', 'OTTHUMG00000151360', 'OTTHUMG00000151361', 'OTTHUMG000\n",
      "1000 input query terms found no hit:\t['OTTHUMG00000155209', 'OTTHUMG00000155213', 'OTTHUMG00000155228', 'OTTHUMG00000155236', 'OTTHUMG000\n",
      "1000 input query terms found no hit:\t['OTTHUMG00000161248', 'OTTHUMG00000161255', 'OTTHUMG00000161256', 'OTTHUMG00000161261', 'OTTHUMG000\n",
      "1000 input query terms found no hit:\t['OTTHUMG00000163777', 'OTTHUMG00000163779', 'OTTHUMG00000163781', 'OTTHUMG00000163782', 'OTTHUMG000\n",
      "1000 input query terms found no hit:\t['OTTHUMT00000004235', 'OTTHUMT00000004237', 'OTTHUMT00000004238', 'OTTHUMT00000004239', 'OTTHUMT000\n",
      "1000 input query terms found no hit:\t['OTTHUMT00000009703', 'OTTHUMT00000009704', 'OTTHUMT00000009705', 'OTTHUMT00000009706', 'OTTHUMT000\n",
      "1000 input query terms found no hit:\t['OTTHUMT00000019962', 'OTTHUMT00000019963', 'OTTHUMT00000019964', 'OTTHUMT00000019965', 'OTTHUMT000\n",
      "1000 input query terms found no hit:\t['OTTHUMT00000024750', 'OTTHUMT00000024751', 'OTTHUMT00000024752', 'OTTHUMT00000024753', 'OTTHUMT000\n",
      "1000 input query terms found no hit:\t['OTTHUMT00000029565', 'OTTHUMT00000029566', 'OTTHUMT00000029567', 'OTTHUMT00000029568', 'OTTHUMT000\n",
      "1000 input query terms found no hit:\t['OTTHUMT00000034416', 'OTTHUMT00000034417', 'OTTHUMT00000034418', 'OTTHUMT00000034419', 'OTTHUMT000\n",
      "1000 input query terms found no hit:\t['OTTHUMT00000038546', 'OTTHUMT00000038547', 'OTTHUMT00000038548', 'OTTHUMT00000038549', 'OTTHUMT000\n",
      "1000 input query terms found no hit:\t['OTTHUMT00000040674', 'OTTHUMT00000040675', 'OTTHUMT00000040677', 'OTTHUMT00000040678', 'OTTHUMT000\n",
      "1000 input query terms found no hit:\t['OTTHUMT00000042141', 'OTTHUMT00000042142', 'OTTHUMT00000042145', 'OTTHUMT00000042146', 'OTTHUMT000\n",
      "1000 input query terms found no hit:\t['OTTHUMT00000044040', 'OTTHUMT00000044041', 'OTTHUMT00000044042', 'OTTHUMT00000044043', 'OTTHUMT000\n",
      "1000 input query terms found no hit:\t['OTTHUMT00000045545', 'OTTHUMT00000045546', 'OTTHUMT00000045547', 'OTTHUMT00000045548', 'OTTHUMT000\n",
      "1000 input query terms found no hit:\t['OTTHUMT00000047014', 'OTTHUMT00000047015', 'OTTHUMT00000047016', 'OTTHUMT00000047017', 'OTTHUMT000\n",
      "1000 input query terms found no hit:\t['OTTHUMT00000048410', 'OTTHUMT00000048411', 'OTTHUMT00000048412', 'OTTHUMT00000048429', 'OTTHUMT000\n",
      "1000 input query terms found no hit:\t['OTTHUMT00000049793', 'OTTHUMT00000049794', 'OTTHUMT00000049795', 'OTTHUMT00000049796', 'OTTHUMT000\n",
      "1000 input query terms found no hit:\t['OTTHUMT00000051053', 'OTTHUMT00000051054', 'OTTHUMT00000051055', 'OTTHUMT00000051056', 'OTTHUMT000\n",
      "1000 input query terms found no hit:\t['OTTHUMT00000052690', 'OTTHUMT00000052691', 'OTTHUMT00000052692', 'OTTHUMT00000052693', 'OTTHUMT000\n",
      "1000 input query terms found no hit:\t['OTTHUMT00000053990', 'OTTHUMT00000053991', 'OTTHUMT00000053992', 'OTTHUMT00000053993', 'OTTHUMT000\n",
      "1000 input query terms found no hit:\t['OTTHUMT00000055145', 'OTTHUMT00000055146', 'OTTHUMT00000055147', 'OTTHUMT00000055148', 'OTTHUMT000\n",
      "1000 input query terms found no hit:\t['OTTHUMT00000056403', 'OTTHUMT00000056404', 'OTTHUMT00000056405', 'OTTHUMT00000056406', 'OTTHUMT000\n",
      "1000 input query terms found no hit:\t['OTTHUMT00000057931', 'OTTHUMT00000057932', 'OTTHUMT00000057933', 'OTTHUMT00000057934', 'OTTHUMT000\n",
      "1000 input query terms found no hit:\t['OTTHUMT00000060790', 'OTTHUMT00000060791', 'OTTHUMT00000060792', 'OTTHUMT00000060793', 'OTTHUMT000\n",
      "1000 input query terms found no hit:\t['OTTHUMT00000076434', 'OTTHUMT00000076435', 'OTTHUMT00000076436', 'OTTHUMT00000076437', 'OTTHUMT000\n",
      "1000 input query terms found no hit:\t['OTTHUMT00000078071', 'OTTHUMT00000078075', 'OTTHUMT00000078076', 'OTTHUMT00000078077', 'OTTHUMT000\n",
      "1000 input query terms found no hit:\t['OTTHUMT00000079680', 'OTTHUMT00000079681', 'OTTHUMT00000079682', 'OTTHUMT00000079683', 'OTTHUMT000\n",
      "1000 input query terms found no hit:\t['OTTHUMT00000083107', 'OTTHUMT00000083108', 'OTTHUMT00000083109', 'OTTHUMT00000083110', 'OTTHUMT000\n",
      "1000 input query terms found no hit:\t['OTTHUMT00000086750', 'OTTHUMT00000086751', 'OTTHUMT00000086752', 'OTTHUMT00000086753', 'OTTHUMT000\n",
      "1000 input query terms found no hit:\t['OTTHUMT00000090271', 'OTTHUMT00000090272', 'OTTHUMT00000090273', 'OTTHUMT00000090274', 'OTTHUMT000\n",
      "1000 input query terms found no hit:\t['OTTHUMT00000092870', 'OTTHUMT00000092871', 'OTTHUMT00000092872', 'OTTHUMT00000092873', 'OTTHUMT000\n",
      "1000 input query terms found no hit:\t['OTTHUMT00000098523', 'OTTHUMT00000098524', 'OTTHUMT00000098525', 'OTTHUMT00000098528', 'OTTHUMT000\n",
      "1000 input query terms found no hit:\t['OTTHUMT00000106567', 'OTTHUMT00000106569', 'OTTHUMT00000106570', 'OTTHUMT00000106571', 'OTTHUMT000\n",
      "1000 input query terms found no hit:\t['OTTHUMT00000130986', 'OTTHUMT00000130987', 'OTTHUMT00000130988', 'OTTHUMT00000130989', 'OTTHUMT000\n",
      "1000 input query terms found no hit:\t['OTTHUMT00000139830', 'OTTHUMT00000139831', 'OTTHUMT00000139832', 'OTTHUMT00000139833', 'OTTHUMT000\n",
      "1000 input query terms found no hit:\t['OTTHUMT00000156139', 'OTTHUMT00000156140', 'OTTHUMT00000156141', 'OTTHUMT00000156148', 'OTTHUMT000\n",
      "1000 input query terms found no hit:\t['OTTHUMT00000195102', 'OTTHUMT00000195103', 'OTTHUMT00000195104', 'OTTHUMT00000195105', 'OTTHUMT000\n",
      "1000 input query terms found no hit:\t['OTTHUMT00000214140', 'OTTHUMT00000214141', 'OTTHUMT00000214142', 'OTTHUMT00000214146', 'OTTHUMT000\n",
      "1000 input query terms found no hit:\t['OTTHUMT00000251219', 'OTTHUMT00000251220', 'OTTHUMT00000251221', 'OTTHUMT00000251222', 'OTTHUMT000\n",
      "1000 input query terms found no hit:\t['OTTHUMT00000253296', 'OTTHUMT00000253297', 'OTTHUMT00000253298', 'OTTHUMT00000253299', 'OTTHUMT000\n",
      "1000 input query terms found no hit:\t['OTTHUMT00000255628', 'OTTHUMT00000255629', 'OTTHUMT00000255630', 'OTTHUMT00000255633', 'OTTHUMT000\n",
      "1000 input query terms found no hit:\t['OTTHUMT00000256849', 'OTTHUMT00000256850', 'OTTHUMT00000256854', 'OTTHUMT00000256855', 'OTTHUMT000\n",
      "1000 input query terms found no hit:\t['OTTHUMT00000258163', 'OTTHUMT00000258164', 'OTTHUMT00000258165', 'OTTHUMT00000258166', 'OTTHUMT000\n",
      "1000 input query terms found no hit:\t['OTTHUMT00000268181', 'OTTHUMT00000268182', 'OTTHUMT00000268183', 'OTTHUMT00000268184', 'OTTHUMT000\n",
      "1000 input query terms found no hit:\t['OTTHUMT00000276299', 'OTTHUMT00000276300', 'OTTHUMT00000276301', 'OTTHUMT00000276302', 'OTTHUMT000\n",
      "1000 input query terms found no hit:\t['OTTHUMT00000291343', 'OTTHUMT00000291344', 'OTTHUMT00000291345', 'OTTHUMT00000291346', 'OTTHUMT000\n",
      "1000 input query terms found no hit:\t['OTTHUMT00000310019', 'OTTHUMT00000310020', 'OTTHUMT00000310021', 'OTTHUMT00000310022', 'OTTHUMT000\n",
      "1000 input query terms found no hit:\t['OTTHUMT00000311157', 'OTTHUMT00000311158', 'OTTHUMT00000311159', 'OTTHUMT00000311160', 'OTTHUMT000\n",
      "1000 input query terms found no hit:\t['OTTHUMT00000312269', 'OTTHUMT00000312270', 'OTTHUMT00000312271', 'OTTHUMT00000312272', 'OTTHUMT000\n",
      "1000 input query terms found no hit:\t['OTTHUMT00000313993', 'OTTHUMT00000313994', 'OTTHUMT00000313995', 'OTTHUMT00000313996', 'OTTHUMT000\n",
      "1000 input query terms found no hit:\t['OTTHUMT00000315041', 'OTTHUMT00000315042', 'OTTHUMT00000315043', 'OTTHUMT00000315044', 'OTTHUMT000\n",
      "1000 input query terms found no hit:\t['OTTHUMT00000316173', 'OTTHUMT00000316175', 'OTTHUMT00000316176', 'OTTHUMT00000316178', 'OTTHUMT000\n",
      "1000 input query terms found no hit:\t['OTTHUMT00000317467', 'OTTHUMT00000317468', 'OTTHUMT00000317469', 'OTTHUMT00000317470', 'OTTHUMT000\n",
      "1000 input query terms found no hit:\t['OTTHUMT00000318587', 'OTTHUMT00000318588', 'OTTHUMT00000318589', 'OTTHUMT00000318590', 'OTTHUMT000\n",
      "1000 input query terms found no hit:\t['OTTHUMT00000319837', 'OTTHUMT00000319838', 'OTTHUMT00000319839', 'OTTHUMT00000319841', 'OTTHUMT000\n",
      "1000 input query terms found no hit:\t['OTTHUMT00000321173', 'OTTHUMT00000321176', 'OTTHUMT00000321179', 'OTTHUMT00000321180', 'OTTHUMT000\n",
      "1000 input query terms found no hit:\t['OTTHUMT00000322424', 'OTTHUMT00000322425', 'OTTHUMT00000322426', 'OTTHUMT00000322427', 'OTTHUMT000\n",
      "1000 input query terms found no hit:\t['OTTHUMT00000323655', 'OTTHUMT00000323656', 'OTTHUMT00000323657', 'OTTHUMT00000323658', 'OTTHUMT000\n",
      "1000 input query terms found no hit:\t['OTTHUMT00000324888', 'OTTHUMT00000324889', 'OTTHUMT00000324890', 'OTTHUMT00000324891', 'OTTHUMT000\n",
      "1000 input query terms found no hit:\t['OTTHUMT00000326238', 'OTTHUMT00000326239', 'OTTHUMT00000326240', 'OTTHUMT00000326241', 'OTTHUMT000\n",
      "1000 input query terms found no hit:\t['OTTHUMT00000327568', 'OTTHUMT00000327569', 'OTTHUMT00000327570', 'OTTHUMT00000327571', 'OTTHUMT000\n",
      "1000 input query terms found no hit:\t['OTTHUMT00000328803', 'OTTHUMT00000328804', 'OTTHUMT00000328805', 'OTTHUMT00000328806', 'OTTHUMT000\n",
      "1000 input query terms found no hit:\t['OTTHUMT00000330055', 'OTTHUMT00000330056', 'OTTHUMT00000330057', 'OTTHUMT00000330059', 'OTTHUMT000\n",
      "1000 input query terms found no hit:\t['OTTHUMT00000331433', 'OTTHUMT00000331434', 'OTTHUMT00000331435', 'OTTHUMT00000331436', 'OTTHUMT000\n",
      "1000 input query terms found no hit:\t['OTTHUMT00000333140', 'OTTHUMT00000333141', 'OTTHUMT00000333142', 'OTTHUMT00000333143', 'OTTHUMT000\n",
      "1000 input query terms found no hit:\t['OTTHUMT00000334616', 'OTTHUMT00000334617', 'OTTHUMT00000334618', 'OTTHUMT00000334620', 'OTTHUMT000\n",
      "1000 input query terms found no hit:\t['OTTHUMT00000335966', 'OTTHUMT00000335967', 'OTTHUMT00000335968', 'OTTHUMT00000335969', 'OTTHUMT000\n",
      "1000 input query terms found no hit:\t['OTTHUMT00000337248', 'OTTHUMT00000337249', 'OTTHUMT00000337250', 'OTTHUMT00000337251', 'OTTHUMT000\n",
      "1000 input query terms found no hit:\t['OTTHUMT00000338603', 'OTTHUMT00000338604', 'OTTHUMT00000338605', 'OTTHUMT00000338607', 'OTTHUMT000\n",
      "1000 input query terms found no hit:\t['OTTHUMT00000339892', 'OTTHUMT00000339893', 'OTTHUMT00000339894', 'OTTHUMT00000339895', 'OTTHUMT000\n",
      "1000 input query terms found no hit:\t['OTTHUMT00000341294', 'OTTHUMT00000341295', 'OTTHUMT00000341296', 'OTTHUMT00000341298', 'OTTHUMT000\n",
      "1000 input query terms found no hit:\t['OTTHUMT00000342609', 'OTTHUMT00000342610', 'OTTHUMT00000342612', 'OTTHUMT00000342613', 'OTTHUMT000\n",
      "1000 input query terms found no hit:\t['OTTHUMT00000344058', 'OTTHUMT00000344059', 'OTTHUMT00000344060', 'OTTHUMT00000344061', 'OTTHUMT000\n",
      "1000 input query terms found no hit:\t['OTTHUMT00000345354', 'OTTHUMT00000345356', 'OTTHUMT00000345357', 'OTTHUMT00000345358', 'OTTHUMT000\n",
      "1000 input query terms found no hit:\t['OTTHUMT00000346602', 'OTTHUMT00000346604', 'OTTHUMT00000346605', 'OTTHUMT00000346606', 'OTTHUMT000\n",
      "1000 input query terms found no hit:\t['OTTHUMT00000347834', 'OTTHUMT00000347835', 'OTTHUMT00000347836', 'OTTHUMT00000347838', 'OTTHUMT000\n",
      "1000 input query terms found no hit:\t['OTTHUMT00000349160', 'OTTHUMT00000349161', 'OTTHUMT00000349162', 'OTTHUMT00000349163', 'OTTHUMT000\n",
      "1000 input query terms found no hit:\t['OTTHUMT00000350993', 'OTTHUMT00000350999', 'OTTHUMT00000351009', 'OTTHUMT00000351010', 'OTTHUMT000\n",
      "1000 input query terms found no hit:\t['OTTHUMT00000352310', 'OTTHUMT00000352311', 'OTTHUMT00000352312', 'OTTHUMT00000352313', 'OTTHUMT000\n",
      "1000 input query terms found no hit:\t['OTTHUMT00000353596', 'OTTHUMT00000353597', 'OTTHUMT00000353598', 'OTTHUMT00000353599', 'OTTHUMT000\n",
      "1000 input query terms found no hit:\t['OTTHUMT00000354735', 'OTTHUMT00000354736', 'OTTHUMT00000354737', 'OTTHUMT00000354738', 'OTTHUMT000\n",
      "1000 input query terms found no hit:\t['OTTHUMT00000356017', 'OTTHUMT00000356018', 'OTTHUMT00000356019', 'OTTHUMT00000356021', 'OTTHUMT000\n",
      "1000 input query terms found no hit:\t['OTTHUMT00000357282', 'OTTHUMT00000357283', 'OTTHUMT00000357286', 'OTTHUMT00000357287', 'OTTHUMT000\n",
      "1000 input query terms found no hit:\t['OTTHUMT00000358534', 'OTTHUMT00000358535', 'OTTHUMT00000358536', 'OTTHUMT00000358537', 'OTTHUMT000\n",
      "1000 input query terms found no hit:\t['OTTHUMT00000359850', 'OTTHUMT00000359851', 'OTTHUMT00000359853', 'OTTHUMT00000359854', 'OTTHUMT000\n",
      "1000 input query terms found no hit:\t['OTTHUMT00000361205', 'OTTHUMT00000361206', 'OTTHUMT00000361207', 'OTTHUMT00000361208', 'OTTHUMT000\n",
      "1000 input query terms found no hit:\t['OTTHUMT00000362504', 'OTTHUMT00000362506', 'OTTHUMT00000362507', 'OTTHUMT00000362509', 'OTTHUMT000\n",
      "1000 input query terms found no hit:\t['OTTHUMT00000363764', 'OTTHUMT00000363765', 'OTTHUMT00000363766', 'OTTHUMT00000363767', 'OTTHUMT000\n",
      "1000 input query terms found no hit:\t['OTTHUMT00000365001', 'OTTHUMT00000365002', 'OTTHUMT00000365003', 'OTTHUMT00000365004', 'OTTHUMT000\n",
      "1000 input query terms found no hit:\t['OTTHUMT00000366351', 'OTTHUMT00000366352', 'OTTHUMT00000366353', 'OTTHUMT00000366354', 'OTTHUMT000\n",
      "1000 input query terms found no hit:\t['OTTHUMT00000367669', 'OTTHUMT00000367670', 'OTTHUMT00000367671', 'OTTHUMT00000367672', 'OTTHUMT000\n",
      "1000 input query terms found no hit:\t['OTTHUMT00000368920', 'OTTHUMT00000368921', 'OTTHUMT00000368922', 'OTTHUMT00000368923', 'OTTHUMT000\n",
      "1000 input query terms found no hit:\t['OTTHUMT00000370295', 'OTTHUMT00000370296', 'OTTHUMT00000370297', 'OTTHUMT00000370298', 'OTTHUMT000\n",
      "1000 input query terms found no hit:\t['OTTHUMT00000371522', 'OTTHUMT00000371523', 'OTTHUMT00000371524', 'OTTHUMT00000371525', 'OTTHUMT000\n",
      "1000 input query terms found no hit:\t['OTTHUMT00000372755', 'OTTHUMT00000372756', 'OTTHUMT00000372757', 'OTTHUMT00000372758', 'OTTHUMT000\n",
      "1000 input query terms found no hit:\t['OTTHUMT00000373932', 'OTTHUMT00000373933', 'OTTHUMT00000373934', 'OTTHUMT00000373935', 'OTTHUMT000\n",
      "1000 input query terms found no hit:\t['OTTHUMT00000375088', 'OTTHUMT00000375089', 'OTTHUMT00000375090', 'OTTHUMT00000375091', 'OTTHUMT000\n",
      "1000 input query terms found no hit:\t['OTTHUMT00000376249', 'OTTHUMT00000376250', 'OTTHUMT00000376253', 'OTTHUMT00000376254', 'OTTHUMT000\n",
      "1000 input query terms found no hit:\t['OTTHUMT00000377457', 'OTTHUMT00000377458', 'OTTHUMT00000377459', 'OTTHUMT00000377460', 'OTTHUMT000\n",
      "1000 input query terms found no hit:\t['OTTHUMT00000378631', 'OTTHUMT00000378632', 'OTTHUMT00000378633', 'OTTHUMT00000378635', 'OTTHUMT000\n",
      "1000 input query terms found no hit:\t['OTTHUMT00000379836', 'OTTHUMT00000379837', 'OTTHUMT00000379838', 'OTTHUMT00000379839', 'OTTHUMT000\n",
      "6 input query terms found dup hits:\t[('P2RX6P', 2), ('PA2G4P4', 2), ('PABPC1P2', 2), ('PAN3-AS1', 2), ('PBX2P1', 2), ('PCCA-AS1', 2)]\n",
      "754 input query terms found no hit:\t['OTTHUMT00000381038', 'OTTHUMT00000381039', 'OTTHUMT00000381040', 'OTTHUMT00000381041', 'OTTHUMT000\n",
      "42 input query terms found dup hits:\t[('PCDHB19P', 3), ('PCDHGB8P', 2), ('PCF11', 2), ('PCGEM1', 2), ('PCNAP1', 2), ('PDCD4-AS1', 2), ('P\n",
      "173 input query terms found no hit:\t['PCDHB17', 'PCDHB18', 'PCDP1', 'PCED1B antisense RNA 1', 'PCI domain containing 2', 'PCNA antisense\n",
      "61 input query terms found dup hits:\t[('POU6F2-AS2', 2), ('PPBPP2', 2), ('PPEF1-AS1', 2), ('PPIAP21', 2), ('PPID', 2), ('PPIEL', 2), ('PP\n",
      "235 input query terms found no hit:\t['POU4F1 antisense RNA 1', 'POU4F1-AS1', 'POU6F2 antisense RNA 1', 'POU6F2 antisense RNA 2', 'POZ', \n",
      "72 input query terms found dup hits:\t[('RAB33A', 2), ('RAB33B', 2), ('RAB34', 2), ('RAB35', 2), ('RAB36', 2), ('RAB37', 2), ('RAB38', 2),\n",
      "246 input query terms found no hit:\t['RAB3A interacting protein', 'RAB6-interacting', 'RAB6C-like', 'RAB7', 'RAB7L1', 'RABGAP1L intronic\n",
      "45 input query terms found dup hits:\t[('RNA5SP252', 2), ('RNA5SP254', 2), ('RNA5SP266', 2), ('RNA5SP315', 2), ('RNA5SP334', 2), ('RNA5SP3\n",
      "245 input query terms found no hit:\t['RNA5SP313', 'RNA5SP314', 'RNA5SP316', 'RNA5SP32', 'RNA5SP381', 'RNA5SP398', 'RNA5SP58', 'RNA5SP81'\n",
      "1000 input query terms found no hit:\t['RP1-37J18.1', 'RP1-37J18.2', 'RP1-38C16.2', 'RP1-3J17.3', 'RP1-40E16.11', 'RP1-40E16.2', 'RP1-40E1\n",
      "1000 input query terms found no hit:\t['RP11-259F4.1', 'RP11-259O2.1', 'RP11-259O2.2', 'RP11-259O2.3', 'RP11-259P1.1', 'RP11-259P20.1', 'R\n",
      "1000 input query terms found no hit:\t['RP11-423H2.2', 'RP11-423H2.3', 'RP11-423H2.4', 'RP11-423H2.5', 'RP11-423J7.1', 'RP11-423O2.5', 'RP\n",
      "998 input query terms found no hit:\t['RP11-66A2.1', 'RP11-66A2.2', 'RP11-66D17.3', 'RP11-66D17.5', 'RP11-66N11.7', 'RP11-672F9.1', 'RP11\n",
      "52 input query terms found dup hits:\t[('RP9P', 2), ('RPL12P2', 2), ('RPL13AP17', 2), ('RPL13AP3', 2), ('RPL19P13', 2), ('RPL21P44', 2), (\n",
      "518 input query terms found no hit:\t['RP5-1029K10.2', 'RP5-1029K10.4', 'RP5-1030M6.3', 'RP5-1031D4.2', 'RP5-1031J8.1', 'RP5-1033H22.2', \n",
      "30 input query terms found dup hits:\t[('SDAD1P1', 2), ('SDC4P', 2), ('SDHAP1', 2), ('SDHAP2', 9), ('SDHAP3', 2), ('SDR16C6P', 2), ('SEC14\n",
      "216 input query terms found no hit:\t['SCL/TAL1 interrupting locus', 'SCO-spondin homolog', 'SCO1 cytochrome c oxidase assembly protein',\n",
      "57 input query terms found dup hits:\t[('SLC6A10P', 2), ('SLC7A5P2', 2), ('SLC9A7P1', 2), ('SLC9A9-AS2', 2), ('SLC9B1P3', 2), ('SLCO1B7', \n",
      "123 input query terms found no hit:\t['SLC6A1 antisense RNA 1', 'SLC7A11 antisense RNA 1', 'SLC8A1 antisense RNA 1', 'SLC9A3R1', 'SLC9A3R\n",
      "29 input query terms found dup hits:\t[('SPDYE7P', 2), ('SPIN4-AS1', 2), ('SPRR2C', 2), ('SRD5A1P1', 2), ('SRGAP2D', 2), ('SRGAP3-AS1', 2)\n",
      "411 input query terms found no hit:\t['SPDYE8P', 'SPEG complex locus', 'SPERT', 'SPG20', 'SPG20 opposite strand', 'SPG20OS', 'SPHAR', 'SP\n",
      "28 input query terms found dup hits:\t[('TAS2R64P', 3), ('TBC1D3P2', 2), ('TBC1D3P5', 2), ('TCAM1P', 2), ('TCEAL3-AS1', 2), ('TCP10L2', 2)\n",
      "206 input query terms found no hit:\t['TAF10 RNA polymerase II', 'TAF11 RNA polymerase II', 'TAF12 RNA polymerase II', 'TAF13 RNA polymer\n",
      "91 input query terms found dup hits:\t[('TMPRSS11GP', 2), ('TMSB4XP8', 2), ('TNR-IT1', 2), ('TNXA', 5), ('TOB2P1', 2), ('TOMM22P5', 2), ('\n",
      "124 input query terms found no hit:\t['TMPO antisense RNA 1', 'TMPRSS11B N-terminal like', 'TMPRSS4 antisense RNA 1', 'TMPRSS4-AS1', 'TNF\n",
      "30 input query terms found dup hits:\t[('TYRO3P', 2), ('UBE2D2', 2), ('UBE2MP1', 2), ('UBE2Q2P1', 3), ('UBE2Q2P2', 3), ('UBXN7-AS1', 2), (\n",
      "470 input query terms found no hit:\t['TXLNG2P', 'TXNRD3NB', 'TYRO protein tyrosine kinase binding protein', 'TYRO3 protein tyrosine kina\n",
      "29 input query terms found dup hits:\t[('VTRNA2-1', 2), ('WAC-AS1', 2), ('WARS2-IT1', 2), ('WASF3-AS1', 2), ('WASH2P', 2), ('WASH3P', 3), \n",
      "589 input query terms found no hit:\t['VWA8 antisense RNA 1', 'VWA9', 'VWC2L intronic transcript 1', 'Vac14 homolog', 'Vpr', 'Vps20-assoc\n",
      "29 input query terms found dup hits:\t[('ZDHHC20-IT1', 2), ('ZFP91-CNTF', 2), ('ZIC4-AS1', 2), ('ZMYND10-AS1', 2), ('ZNF137P', 2), ('ZNF20\n",
      "267 input query terms found no hit:\t['ZDHHC20 intronic transcript 1', 'ZDHHC8P1', 'ZEB1 antisense RNA 1', 'ZEB2 antisense RNA 1', 'ZFAT \n",
      "1000 input query terms found no hit:\t['accn=AF007835 class=mRNAlike lncRNA name=Human lncRNA ref=JounralRNA transcriptId=899 cpcScore=-1.\n",
      "1000 input query terms found no hit:\t['accn=AK021726 class=mRNAlike lncRNA name=Human lncRNA ref=JounralRNA transcriptId=214 cpcScore=-0.\n",
      "1000 input query terms found no hit:\t['accn=AK124333 class=mRNAlike lncRNA name=Human lncRNA ref=JounralRNA transcriptId=4190 cpcScore=3.\n",
      "1000 input query terms found no hit:\t['accn=BC012900 class=mRNAlike lncRNA name=Human lncRNA ref=JounralRNA transcriptId=3940 cpcScore=-0\n",
      "1000 input query terms found no hit:\t['accn=BC041895 class=mRNAlike lncRNA name=Human lncRNA ref=JounralRNA transcriptId=1290 cpcScore=-0\n",
      "1000 input query terms found no hit:\t['accn=CR616786 class=mRNAlike lncRNA name=NULL ref=H-invitational v7.5 transcriptId=HIT000295981_05\n",
      "1000 input query terms found no hit:\t['accn=NR_024496 class=lncRNA name= ref=RefGeneNoncode transcriptId=NR_024496 cpcScore=1.0873500 cnc\n",
      "1000 input query terms found no hit:\t['accn=NR_037567 class=lncRNA name= ref=RefGeneNoncode transcriptId=NR_037567 cpcScore=1.1362900 cnc\n",
      "1000 input query terms found no hit:\t['accn=NULL class=lincRNA name=Human lincRNA ref=Scripture Reconstruction LincRNAs By Luo transcript\n",
      "1000 input query terms found no hit:\t['accn=NULL class=lincRNA name=Human lincRNA ref=Scripture Reconstruction LincRNAs By Luo transcript\n",
      "1000 input query terms found no hit:\t['accn=NULL class=lncRNA name= ref=UCSCGeneNoncode transcriptId=uc001ikr.1 cpcScore=-0.8901500 cnci=\n",
      "1000 input query terms found no hit:\t['accn=NULL class=lncRNA name= ref=UCSCGeneNoncode transcriptId=uc010qoz.1 cpcScore=-1.3388200 cnci=\n",
      "1000 input query terms found no hit:\t['accn=NULL class=mRNAlike lncRNA name=vega lncRNA ref=GENCODE transcriptId=OTTHUMT00000050218 cpcSc\n",
      "1000 input query terms found no hit:\t['accn=NULL class=mRNAlike lncRNA name=vega lncRNA ref=GENCODE transcriptId=OTTHUMT00000322600 cpcSc\n",
      "1000 input query terms found no hit:\t['adenylate cyclase 6', 'adenylate cyclase 7', 'adenylate cyclase 8', 'adenylate cyclase 9', 'adenyl\n",
      "997 input query terms found no hit:\t['beta 6', 'beta 6', 'beta 6 class V', 'beta 7', 'beta 7', 'beta 8', 'beta 8 class VIII', 'beta 90kD\n",
      "1000 input query terms found no hit:\t['cdna:known chromosome:GRCh37:11:41736540:41847772:1 gene:ENSG00000255171 gene_biotype:processed_tr\n",
      "1000 input query terms found no hit:\t['cdna:known chromosome:GRCh37:9:97418353:97480105:-1 gene:ENSG00000204343 gene_biotype:protein_codi\n",
      "998 input query terms found no hit:\t['chromosome 19 open reading frame 43', 'chromosome 19 open reading frame 44', 'chromosome 19 open r\n",
      "998 input query terms found no hit:\t['cysteine conjugate-beta lyase', 'cysteine conjugate-beta lyase 2', 'cysteine dioxygenase type 1', \n",
      "997 input query terms found no hit:\t['exons 5-10', 'exons A-E', 'exonuclease 1', \"exonuclease 3'-5' domain containing 1\", \"exonuclease 3\n",
      "1000 input query terms found no hit:\t['golgin A1', 'golgin A2', 'golgin A2 pseudogene', 'golgin A2 pseudogene 2', 'golgin A2 pseudogene 3\n",
      "999 input query terms found no hit:\t['havana:lincRNA chromosome:GRCh37:6:5875164:5876103:-1 gene:ENSG00000230770 gene_biotype:lincRNA tr\n",
      "1000 input query terms found no hit:\t['interleukin 17 receptor B', 'interleukin 17 receptor C', 'interleukin 17 receptor D', 'interleukin\n",
      "1000 input query terms found no hit:\t['linc-ADCY1-3 chr7:+:45241392-45243749', 'linc-ADCY1-4 chr7:+:45228587-45232084', 'linc-ADCY2-1 chr\n",
      "1000 input query terms found no hit:\t['linc-C2orf27A-2 chr2:+:132301071-132302891', 'linc-C2orf27B-2 chr2:-:132722303-132737446', 'linc-C\n",
      "1000 input query terms found no hit:\t['linc-CSTB-9 chr21:-:45619131-45621216', 'linc-CSTF2T-2 chr10:-:54148994-54153749', 'linc-CT45A6 ch\n",
      "1000 input query terms found no hit:\t['linc-FOXC1-1 chr6:+:1605723-1607305', 'linc-FOXC1-3 chr6:+:1489677-1490173', 'linc-FOXD1 chr5:-:72\n",
      "1000 input query terms found no hit:\t['linc-KCNV1-1 chr8:-:111991097-112016917', 'linc-KCP chr7:-:128552674-128553989', 'linc-KCTD1-2 chr\n",
      "1000 input query terms found no hit:\t['linc-NCAM2-2 chr21:+:20673929-20676056', 'linc-NCAM2-3 chr21:+:20502840-20506741', 'linc-NCAM2-3 c\n",
      "1000 input query terms found no hit:\t['linc-PRKAA2-5 chr1:+:56427583-56436730', 'linc-PRKAA2-6 chr1:+:56410759-56415792', 'linc-PRKAA2-7 \n",
      "1000 input query terms found no hit:\t['linc-SLC6A19-2 chr5:+:1042042-1042914', 'linc-SLC6A6 chr3:+:14266505-14272302', 'linc-SLC6A9 chr1:\n",
      "1000 input query terms found no hit:\t['linc-TUBA3C-2 chr13:-:19836294-19838056', 'linc-TUBA3C-3 chr13:-:19978748-19979239', 'linc-TUBA3D-\n",
      "998 input query terms found no hit:\t['long intergenic non-protein coding RNA 403', 'long intergenic non-protein coding RNA 404', 'long i\n",
      "1000 input query terms found no hit:\t['mesencephalic astrocyte-derived neurotrophic factor', 'mesenchyme forkhead 1', 'mesenchyme homeobo\n",
      "1000 input query terms found no hit:\t['microRNA 4708', 'microRNA 4709', 'microRNA 4710', 'microRNA 4711', 'microRNA 4712', 'microRNA 4713\n",
      "1000 input query terms found no hit:\t['ncrna:lincRNA chromosome:GRCh37:15:70863298:70878945:-1 gene:ENSG00000248804', 'ncrna:lincRNA chro\n",
      "1000 input query terms found no hit:\t['ncrna:miRNA chromosome:GRCh37:7:135929194:135929282:-1 gene:ENSG00000220982 gene_biotype:miRNA tra\n",
      "1000 input query terms found no hit:\t['ncrna:misc_RNA chromosome:GRCh37:5:41963970:41964071:-1 gene:ENSG00000199487 gene_biotype:misc_RNA\n",
      "1000 input query terms found no hit:\t['ncrna:snRNA chromosome:GRCh37:1:90719014:90719117:-1 gene:ENSG00000212459 gene_biotype:snRNA trans\n",
      "1000 input query terms found no hit:\t['ncrna:snoRNA chromosome:GRCh37:10:51611024:51611224:-1 gene:ENSG00000223111 gene_biotype:snoRNA tr\n",
      "999 input query terms found no hit:\t['ncrna:snoRNA chromosome:GRCh37:9:89875365:89875500:1 gene:ENSG00000212421 gene_biotype:snoRNA tran\n",
      "1000 input query terms found no hit:\t['phosphoglucomutase 3', 'phosphoglucomutase 5', 'phosphoglucomutase 5 pseudogene 2', 'phosphoglucon\n",
      "1000 input query terms found no hit:\t['receptor-type', 'receptors associated protein like 3', 'recombination activating gene 1', 'recombi\n",
      "998 input query terms found no hit:\t['small ILF3/NF90-associated RNA C4', 'small ILF3/NF90-associated RNA C5', 'small ILF3/NF90-associat\n",
      "1000 input query terms found no hit:\t['testicular', 'testicular cell adhesion molecule 1', 'testis', 'testis', 'testis and ovary specific\n",
      "1000 input query terms found no hit:\t['tumor suppressing subtransferable candidate 4', 'tumor suppressor TSG1', 'tumor suppressor candida\n",
      "1000 input query terms found no hit:\t['uc021ycu.1', 'uc021ydm.1', 'uc021ydq.1', 'uc021yeo.1', 'uc021yeu.1', 'uc021yev.1', 'uc021yex.1', '\n",
      "1000 input query terms found no hit:\t['uncharacterized LOC100507283', 'uncharacterized LOC100507284', 'uncharacterized LOC100507288', 'un\n",
      "1000 input query terms found no hit:\t['von Willebrand factor C and EGF domains', 'von Willebrand factor C domain containing 2', 'von Will\n",
      "994 input query terms found no hit:\t['3-oxo-5 alpha-steroid delta 4-dehydrogenase alpha 1', '3-oxo-5 alpha-steroid delta 4-dehydrogenase\n",
      "1000 input query terms found no hit:\t['ENST00000364278', 'ENST00000364285', 'ENST00000364291', 'ENST00000364298', 'ENST00000364315', 'ENS\n",
      "1000 input query terms found no hit:\t['ENST00000417742', 'ENST00000417751', 'ENST00000417835', 'ENST00000417845', 'ENST00000417917', 'ENS\n",
      "56 input query terms found dup hits:\t[('IGHA1', 2), ('IGHA2', 2), ('IGHD', 2), ('IGHD1-1', 2), ('IGHD1-14', 2), ('IGHD1-20', 2), ('IGHD1-\n",
      "936 input query terms found no hit:\t['ENST00000485338', 'ENST00000485422', 'ENST00000487512', 'ENST00000487727', 'ENST00000488192', 'ENS\n",
      "28 input query terms found dup hits:\t[('IGHV3-16', 2), ('IGHV3-20', 2), ('IGHV3-21', 2), ('IGHV3-23', 2), ('IGHV3-30', 2), ('IGHV3-33', 2\n",
      "955 input query terms found no hit:\t['IL11 inducible', 'IP', 'Ig', 'Ikaros', 'Indian blood group', 'Ip', 'John Milton Hagen blood group'\n",
      "1000 input query terms found no hit:\t['NM_001001520', 'NM_001001521', 'NM_001001522', 'NM_001001523', 'NM_001001524', 'NM_001001551', 'NM\n",
      "1000 input query terms found no hit:\t['NM_001012979', 'NM_001012980', 'NM_001012981', 'NM_001012984', 'NM_001012985', 'NM_001012989', 'NM\n",
      "1000 input query terms found no hit:\t['NM_001043229', 'NM_001043318', 'NM_001043351', 'NM_001044', 'NM_001044264', 'NM_001044305', 'NM_00\n",
      "1000 input query terms found no hit:\t['NM_001114748', 'NM_001114759', 'NM_001114937', 'NM_001114938', 'NM_001114974', 'NM_001115', 'NM_00\n",
      "1000 input query terms found no hit:\t['NM_001144761', 'NM_001144766', 'NM_001144772', 'NM_001144777', 'NM_001144822', 'NM_001144823', 'NM\n",
      "1000 input query terms found no hit:\t['NM_001173482', 'NM_001173484', 'NM_001173488', 'NM_001173512', 'NM_001173514', 'NM_001173516', 'NM\n",
      "1000 input query terms found no hit:\t['NM_001242844', 'NM_001242853', 'NM_001242854', 'NM_001242864', 'NM_001242867', 'NM_001242875', 'NM\n",
      "1000 input query terms found no hit:\t['NM_002342', 'NM_002345', 'NM_002347', 'NM_002353', 'NM_002354', 'NM_002356', 'NM_002358', 'NM_0023\n",
      "1000 input query terms found no hit:\t['NM_003952', 'NM_003953', 'NM_003954', 'NM_003955', 'NM_003956', 'NM_003957', 'NM_003958', 'NM_0039\n",
      "1000 input query terms found no hit:\t['NM_005598', 'NM_005601', 'NM_005603', 'NM_005604', 'NM_005608', 'NM_005611', 'NM_005614', 'NM_0056\n",
      "1000 input query terms found no hit:\t['NM_007223', 'NM_007224', 'NM_007225', 'NM_007226', 'NM_007227', 'NM_007231', 'NM_007232', 'NM_0072\n",
      "1000 input query terms found no hit:\t['NM_014999', 'NM_015000', 'NM_015001', 'NM_015002', 'NM_015004', 'NM_015009', 'NM_015011', 'NM_0150\n",
      "1000 input query terms found no hit:\t['NM_017831', 'NM_017832', 'NM_017839', 'NM_017840', 'NM_017841', 'NM_017842', 'NM_017845', 'NM_0178\n",
      "1000 input query terms found no hit:\t['NM_021020', 'NM_021021', 'NM_021025', 'NM_021026', 'NM_021030', 'NM_021033', 'NM_021034', 'NM_0210\n",
      "1000 input query terms found no hit:\t['NM_030613', 'NM_030615', 'NM_030622', 'NM_030624', 'NM_030625', 'NM_030627', 'NM_030628', 'NM_0306\n",
      "1000 input query terms found no hit:\t['NM_058180', 'NM_058182', 'NM_058186', 'NM_058187', 'NM_058190', 'NM_058192', 'NM_058195', 'NM_0582\n",
      "1000 input query terms found no hit:\t['NM_152596', 'NM_152597', 'NM_152599', 'NM_152600', 'NM_152601', 'NM_152603', 'NM_152604', 'NM_1526\n",
      "1000 input query terms found no hit:\t['NM_182612', 'NM_182614', 'NM_182616', 'NM_182620', 'NM_182623', 'NM_182626', 'NM_182627', 'NM_1826\n",
      "1000 input query terms found no hit:\t['NR_003191', 'NR_003193', 'NR_003194', 'NR_003195', 'NR_003196', 'NR_003197', 'NR_003198', 'NR_0031\n",
      "1000 input query terms found no hit:\t['NR_027003', 'NR_027004', 'NR_027006', 'NR_027007', 'NR_027011', 'NR_027012', 'NR_027020', 'NR_0270\n",
      "1000 input query terms found no hit:\t['NR_033748', 'NR_033752', 'NR_033753', 'NR_033754', 'NR_033760', 'NR_033768', 'NR_033769', 'NR_0337\n",
      "1000 input query terms found no hit:\t['NR_038985', 'NR_038986', 'NR_038987', 'NR_038988', 'NR_038989', 'NR_038990', 'NR_038991', 'NR_0389\n",
      "1000 input query terms found no hit:\t['OTTHUMT00000041046', 'OTTHUMT00000041048', 'OTTHUMT00000041060', 'OTTHUMT00000041063', 'OTTHUMT000\n",
      "1000 input query terms found no hit:\t['OTTHUMT00000058708', 'OTTHUMT00000058759', 'OTTHUMT00000058774', 'OTTHUMT00000058813', 'OTTHUMT000\n",
      "1000 input query terms found no hit:\t['OTTHUMT00000268117', 'OTTHUMT00000268118', 'OTTHUMT00000268231', 'OTTHUMT00000268311', 'OTTHUMT000\n",
      "1000 input query terms found no hit:\t['OTTHUMT00000333943', 'OTTHUMT00000333948', 'OTTHUMT00000333951', 'OTTHUMT00000333952', 'OTTHUMT000\n",
      "1000 input query terms found no hit:\t['OTTHUMT00000363759', 'OTTHUMT00000363773', 'OTTHUMT00000363827', 'OTTHUMT00000363852', 'OTTHUMT000\n",
      "2 input query terms found dup hits:\t[('SPRR2C', 2), ('U1', 2)]\n",
      "988 input query terms found no hit:\t['OTTHUMT00000376005', 'OTTHUMT00000376006', 'OTTHUMT00000376013', 'OTTHUMT00000376029', 'OTTHUMT000\n",
      "1000 input query terms found no hit:\t['accn=AY562998 class=mRNAlike lncRNA name=NULL ref=H-invitational v7.5 transcriptId=HIT000255509 cp\n",
      "1000 input query terms found no hit:\t['accn=NR_037619 class=lncRNA name= ref=RefGeneNoncode transcriptId=NR_037619 cpcScore=3.2000200 cnc\n",
      "1000 input query terms found no hit:\t['accn=NULL class=lncRNA name= ref=EnsemblNoncode transcriptId=ENST00000436618 cpcScore=3.3096200 cn\n",
      "1000 input query terms found no hit:\t['accn=NULL class=lncRNA name= ref=EnsemblNoncode transcriptId=ENST00000546804 cpcScore=-1.0059200 c\n",
      "1000 input query terms found no hit:\t['accn=NULL class=mRNAlike lncRNA name=vega lncRNA ref=GENCODE transcriptId=OTTHUMT00000033547 cpcSc\n",
      "998 input query terms found no hit:\t['apurinic/apyrimidinic endonuclease', 'aromatic L-amino acid decarboxylase', 'aromatic amino acid t\n",
      "1000 input query terms found no hit:\t['linc-ACVR2A-4 chr2:+:145828352-145831683', 'linc-ACVR2A-4 chr2:+:145929563-145940216', 'linc-ACVR2\n",
      "1000 input query terms found no hit:\t['linc-BDH1-1 chr3:-:197332347-197354685', 'linc-BDH1-1 chr3:-:197338403-197354746', 'linc-BDH1-1 ch\n",
      "1000 input query terms found no hit:\t['linc-CCDC54 chr3:+:106961081-107004322', 'linc-CCDC54 chr3:+:106967129-106970413', 'linc-CCDC64 ch\n",
      "1000 input query terms found no hit:\t['linc-DCUN1D5-3 chr11:-:103713661-103715301', 'linc-DDHD1-2 chr14:-:54235659-54317600', 'linc-DDT-1\n",
      "1000 input query terms found no hit:\t['linc-FAM84B-9 chr8:-:128181151-128241550', 'linc-FAM84B-9 chr8:-:128220110-128231333', 'linc-FAM84\n",
      "1000 input query terms found no hit:\t['linc-HHIP-2 chr4:+:144481279-144570458', 'linc-HHIP-2 chr4:+:144493565-144494827', 'linc-HHIPL1 ch\n",
      "1000 input query terms found no hit:\t['linc-LFNG chr7:+:2477397-2487484', 'linc-LFNG chr7:+:2479468-2483692', 'linc-LFNG chr7:+:2482208-2\n",
      "1000 input query terms found no hit:\t['linc-NBPF1-1 chr1:-:16944360-16957970', 'linc-NBPF1-1 chr1:-:16944368-16961662', 'linc-NBPF1-1 chr\n",
      "1000 input query terms found no hit:\t['linc-PGS1-1 chr17:+:76357828-76359220', 'linc-PGS1-1 chr17:+:76357880-76360723', 'linc-PHF10 chr6:\n",
      "1000 input query terms found no hit:\t['linc-RNF19A chr8:-:101440502-101444867', 'linc-RNF212 chr4:-:1108985-1116952', 'linc-RNF212 chr4:-\n",
      "1000 input query terms found no hit:\t['linc-SRL chr16:-:4295825-4303790', 'linc-SRL chr16:-:4295966-4301418', 'linc-SRL chr16:-:4295966-4\n",
      "1000 input query terms found no hit:\t['linc-TTC15-2 chr2:+:2875862-2876529', 'linc-TTC15-2 chr2:+:2875909-2876529', 'linc-TTC15-5 chr2:+:\n",
      "998 input query terms found no hit:\t['linc-ZNF716-3 chr7:+:56736207-56742773', 'linc-ZNF716-3 chr7:+:56736316-56737225', 'linc-ZNF716-7 \n",
      "1000 input query terms found no hit:\t['uc002aax.3', 'uc002ads.3', 'uc002ahh.3', 'uc002ahi.1', 'uc002ahj.3', 'uc002ahk.3', 'uc002ahl.3', '\n",
      "1000 input query terms found no hit:\t['uc003uca.4', 'uc003ucd.3', 'uc003uce.3', 'uc003uch.1', 'uc003uci.1', 'uc003ucl.1', 'uc003ucm.3', '\n",
      "865 input query terms found no hit:\t['uc021set.1', 'uc021sev.1', 'uc021sew.1', 'uc021sex.1', 'uc021sey.1', 'uc021sez.1', 'uc021sfb.1', '\n"
     ]
    }
   ],
   "source": [
    "if NORMALIZE_GENE:\n",
    "    genetic_data = normalize_gene_symbols_in_index(genetic_data)"
   ]
  },
  {
   "cell_type": "code",
   "execution_count": 21,
   "metadata": {
    "ExecuteTime": {
     "end_time": "2024-01-02T01:03:35.158174021Z",
     "start_time": "2024-01-02T01:03:35.156777134Z"
    },
    "collapsed": false
   },
   "outputs": [],
   "source": [
    "merged_data = geo_merge_clinical_genetic_data(selected_clinical_data, genetic_data)\n",
    "# The preprocessing runs through, which means is_available should be True\n",
    "is_available = True"
   ]
  },
  {
   "cell_type": "code",
   "execution_count": 22,
   "metadata": {
    "ExecuteTime": {
     "end_time": "2024-01-02T01:03:35.158378853Z",
     "start_time": "2024-01-02T01:03:35.156895194Z"
    },
    "collapsed": false
   },
   "outputs": [
    {
     "name": "stdout",
     "output_type": "stream",
     "text": [
      "The merged dataset contains 338 samples.\n"
     ]
    }
   ],
   "source": [
    "print(f\"The merged dataset contains {len(merged_data)} samples.\")"
   ]
  },
  {
   "cell_type": "code",
   "execution_count": 23,
   "metadata": {
    "ExecuteTime": {
     "end_time": "2024-01-02T01:03:35.158646754Z",
     "start_time": "2024-01-02T01:03:35.156975304Z"
    },
    "collapsed": false
   },
   "outputs": [
    {
     "name": "stdout",
     "output_type": "stream",
     "text": [
      "For the feature 'Language-Abilities', the least common label is '0.0' with 111 occurrences. This represents 32.84% of the dataset.\n",
      "The distribution of the feature 'Language-Abilities' in this dataset is fine.\n",
      "\n",
      "Quartiles for 'Age':\n",
      "  25%: 51.0\n",
      "  50% (Median): 56.0\n",
      "  75%: 62.0\n",
      "Min: 34.0\n",
      "Max: 75.0\n",
      "The distribution of the feature 'Age' in this dataset is fine.\n",
      "\n",
      "For the feature 'Gender', the least common label is '0.0' with 139 occurrences. This represents 41.12% of the dataset.\n",
      "The distribution of the feature 'Gender' in this dataset is fine.\n",
      "\n"
     ]
    },
    {
     "data": {
      "text/plain": [
       "False"
      ]
     },
     "execution_count": 23,
     "metadata": {},
     "output_type": "execute_result"
    }
   ],
   "source": [
    "is_trait_biased, merged_data = judge_and_remove_biased_features(merged_data, TRAIT, trait_type=trait_type)\n",
    "is_trait_biased"
   ]
  },
  {
   "cell_type": "code",
   "execution_count": 24,
   "metadata": {
    "ExecuteTime": {
     "end_time": "2024-01-02T01:03:35.158803015Z",
     "start_time": "2024-01-02T01:03:35.157063388Z"
    },
    "collapsed": false
   },
   "outputs": [
    {
     "name": "stdout",
     "output_type": "stream",
     "text": [
      "A new JSON file was created at: ../../output1/Yuxuan/Language-Abilities/cohort_info.json\n"
     ]
    }
   ],
   "source": [
    "save_cohort_info(cohort, JSON_PATH, is_available, is_trait_biased, merged_data, note='')"
   ]
  },
  {
   "cell_type": "code",
   "execution_count": 25,
   "metadata": {
    "ExecuteTime": {
     "end_time": "2024-01-02T01:03:36.004312476Z",
     "start_time": "2024-01-02T01:03:35.157165158Z"
    },
    "collapsed": false
   },
   "outputs": [],
   "source": [
    "merged_data.head()\n",
    "if not is_trait_biased:\n",
    "    merged_data.to_csv(os.path.join(OUTPUT_DIR, cohort+'.csv'), index=False)"
   ]
  },
  {
   "cell_type": "markdown",
   "metadata": {
    "ExecuteTime": {
     "end_time": "2023-12-31T03:58:22.271683755Z",
     "start_time": "2023-12-31T03:58:22.246557674Z"
    },
    "id": "-MTPhRGxJV7I"
   },
   "source": [
    "### 3. Do regression & Cross Validation"
   ]
  },
  {
   "cell_type": "code",
   "execution_count": 26,
   "metadata": {
    "ExecuteTime": {
     "end_time": "2024-01-02T01:03:36.048788605Z",
     "start_time": "2024-01-02T01:03:36.005925887Z"
    },
    "collapsed": false
   },
   "outputs": [],
   "source": [
    "from utils import *"
   ]
  },
  {
   "cell_type": "code",
   "execution_count": 27,
   "metadata": {
    "ExecuteTime": {
     "end_time": "2024-01-02T01:03:36.049183603Z",
     "start_time": "2024-01-02T01:03:36.048440305Z"
    },
    "collapsed": false
   },
   "outputs": [
    {
     "data": {
      "text/plain": [
       "'GSE99573'"
      ]
     },
     "execution_count": 27,
     "metadata": {},
     "output_type": "execute_result"
    }
   ],
   "source": [
    "best_cohort, ranked_df = filter_and_rank_cohorts(JSON_PATH, 'has_age')\n",
    "best_cohort"
   ]
  },
  {
   "cell_type": "code",
   "execution_count": 28,
   "metadata": {
    "ExecuteTime": {
     "end_time": "2024-01-02T01:03:36.049430313Z",
     "start_time": "2024-01-02T01:03:36.048984361Z"
    },
    "collapsed": false
   },
   "outputs": [
    {
     "data": {
      "text/html": [
       "<div>\n",
       "<style scoped>\n",
       "    .dataframe tbody tr th:only-of-type {\n",
       "        vertical-align: middle;\n",
       "    }\n",
       "\n",
       "    .dataframe tbody tr th {\n",
       "        vertical-align: top;\n",
       "    }\n",
       "\n",
       "    .dataframe thead th {\n",
       "        text-align: right;\n",
       "    }\n",
       "</style>\n",
       "<table border=\"1\" class=\"dataframe\">\n",
       "  <thead>\n",
       "    <tr style=\"text-align: right;\">\n",
       "      <th></th>\n",
       "      <th>cohort_id</th>\n",
       "      <th>is_usable</th>\n",
       "      <th>is_available</th>\n",
       "      <th>is_biased</th>\n",
       "      <th>has_age</th>\n",
       "      <th>has_gender</th>\n",
       "      <th>sample_size</th>\n",
       "      <th>note</th>\n",
       "    </tr>\n",
       "  </thead>\n",
       "  <tbody>\n",
       "    <tr>\n",
       "      <th>0</th>\n",
       "      <td>GSE99573</td>\n",
       "      <td>True</td>\n",
       "      <td>True</td>\n",
       "      <td>False</td>\n",
       "      <td>True</td>\n",
       "      <td>True</td>\n",
       "      <td>338</td>\n",
       "      <td></td>\n",
       "    </tr>\n",
       "  </tbody>\n",
       "</table>\n",
       "</div>"
      ],
      "text/plain": [
       "  cohort_id  is_usable  is_available  is_biased  has_age  has_gender  \\\n",
       "0  GSE99573       True          True      False     True        True   \n",
       "\n",
       "   sample_size note  \n",
       "0          338       "
      ]
     },
     "execution_count": 28,
     "metadata": {},
     "output_type": "execute_result"
    }
   ],
   "source": [
    "ranked_df.head()"
   ]
  },
  {
   "cell_type": "code",
   "execution_count": 29,
   "metadata": {
    "ExecuteTime": {
     "end_time": "2024-01-02T01:03:36.345375576Z",
     "start_time": "2024-01-02T01:03:36.049289340Z"
    },
    "collapsed": false
   },
   "outputs": [],
   "source": [
    "ck=100\n",
    "listq=[]\n",
    "for df in pd.read_csv(os.path.join(OUTPUT_DIR, best_cohort+'.csv'),chunksize=ck):\n",
    "    listq.append(df)\n",
    "merged_data = pd.concat(listq)\n",
    "#merged_data = pd.read_csv(os.path.join(OUTPUT_DIR, best_cohort+'.csv'))"
   ]
  },
  {
   "cell_type": "code",
   "execution_count": 30,
   "metadata": {
    "ExecuteTime": {
     "end_time": "2024-01-02T01:03:36.400788548Z",
     "start_time": "2024-01-02T01:03:36.355439168Z"
    },
    "collapsed": false
   },
   "outputs": [
    {
     "data": {
      "text/html": [
       "<div>\n",
       "<style scoped>\n",
       "    .dataframe tbody tr th:only-of-type {\n",
       "        vertical-align: middle;\n",
       "    }\n",
       "\n",
       "    .dataframe tbody tr th {\n",
       "        vertical-align: top;\n",
       "    }\n",
       "\n",
       "    .dataframe thead th {\n",
       "        text-align: right;\n",
       "    }\n",
       "</style>\n",
       "<table border=\"1\" class=\"dataframe\">\n",
       "  <thead>\n",
       "    <tr style=\"text-align: right;\">\n",
       "      <th></th>\n",
       "      <th>Language-Abilities</th>\n",
       "      <th>Age</th>\n",
       "      <th>Gender</th>\n",
       "      <th>BET1L</th>\n",
       "      <th>BOLA2</th>\n",
       "      <th>BOLA2B</th>\n",
       "      <th>CA14</th>\n",
       "      <th>CD79A</th>\n",
       "      <th>CLK3</th>\n",
       "      <th>EOS</th>\n",
       "      <th>...</th>\n",
       "      <th>SPRR2C</th>\n",
       "      <th>SPRR2D</th>\n",
       "      <th>SPRR2F</th>\n",
       "      <th>TBP</th>\n",
       "      <th>TPR</th>\n",
       "      <th>U1</th>\n",
       "      <th>GLA</th>\n",
       "      <th>HASPIN</th>\n",
       "      <th>SP1</th>\n",
       "      <th>TESMIN</th>\n",
       "    </tr>\n",
       "  </thead>\n",
       "  <tbody>\n",
       "    <tr>\n",
       "      <th>0</th>\n",
       "      <td>0.0</td>\n",
       "      <td>62.0</td>\n",
       "      <td>0.0</td>\n",
       "      <td>5.58383</td>\n",
       "      <td>5.09692</td>\n",
       "      <td>5.09692</td>\n",
       "      <td>4.82381</td>\n",
       "      <td>5.295227</td>\n",
       "      <td>4.81541</td>\n",
       "      <td>5.02464</td>\n",
       "      <td>...</td>\n",
       "      <td>6.11522</td>\n",
       "      <td>6.11522</td>\n",
       "      <td>6.11522</td>\n",
       "      <td>5.410074</td>\n",
       "      <td>5.955096</td>\n",
       "      <td>6.05081</td>\n",
       "      <td>5.32946</td>\n",
       "      <td>6.35600</td>\n",
       "      <td>5.349367</td>\n",
       "      <td>5.08896</td>\n",
       "    </tr>\n",
       "    <tr>\n",
       "      <th>1</th>\n",
       "      <td>0.0</td>\n",
       "      <td>41.0</td>\n",
       "      <td>1.0</td>\n",
       "      <td>5.31565</td>\n",
       "      <td>5.30138</td>\n",
       "      <td>5.30138</td>\n",
       "      <td>4.65290</td>\n",
       "      <td>5.329220</td>\n",
       "      <td>4.82089</td>\n",
       "      <td>4.97764</td>\n",
       "      <td>...</td>\n",
       "      <td>5.59662</td>\n",
       "      <td>5.59662</td>\n",
       "      <td>5.59662</td>\n",
       "      <td>5.371055</td>\n",
       "      <td>6.137255</td>\n",
       "      <td>6.12838</td>\n",
       "      <td>5.21290</td>\n",
       "      <td>5.27611</td>\n",
       "      <td>5.360984</td>\n",
       "      <td>5.17372</td>\n",
       "    </tr>\n",
       "    <tr>\n",
       "      <th>2</th>\n",
       "      <td>0.0</td>\n",
       "      <td>49.0</td>\n",
       "      <td>0.0</td>\n",
       "      <td>5.49986</td>\n",
       "      <td>5.38284</td>\n",
       "      <td>5.38284</td>\n",
       "      <td>4.84919</td>\n",
       "      <td>5.440330</td>\n",
       "      <td>4.86002</td>\n",
       "      <td>4.99542</td>\n",
       "      <td>...</td>\n",
       "      <td>5.35165</td>\n",
       "      <td>5.35165</td>\n",
       "      <td>5.35165</td>\n",
       "      <td>5.331143</td>\n",
       "      <td>5.621839</td>\n",
       "      <td>6.12909</td>\n",
       "      <td>5.19776</td>\n",
       "      <td>6.76297</td>\n",
       "      <td>5.312664</td>\n",
       "      <td>4.92317</td>\n",
       "    </tr>\n",
       "    <tr>\n",
       "      <th>3</th>\n",
       "      <td>0.0</td>\n",
       "      <td>49.0</td>\n",
       "      <td>0.0</td>\n",
       "      <td>5.39709</td>\n",
       "      <td>5.38811</td>\n",
       "      <td>5.38811</td>\n",
       "      <td>5.10221</td>\n",
       "      <td>5.214910</td>\n",
       "      <td>5.27595</td>\n",
       "      <td>4.91909</td>\n",
       "      <td>...</td>\n",
       "      <td>5.62214</td>\n",
       "      <td>5.62214</td>\n",
       "      <td>5.62214</td>\n",
       "      <td>5.393022</td>\n",
       "      <td>5.694567</td>\n",
       "      <td>6.07534</td>\n",
       "      <td>5.34592</td>\n",
       "      <td>5.54120</td>\n",
       "      <td>5.326339</td>\n",
       "      <td>5.10696</td>\n",
       "    </tr>\n",
       "    <tr>\n",
       "      <th>4</th>\n",
       "      <td>0.0</td>\n",
       "      <td>50.0</td>\n",
       "      <td>1.0</td>\n",
       "      <td>5.39444</td>\n",
       "      <td>5.34461</td>\n",
       "      <td>5.34461</td>\n",
       "      <td>4.59554</td>\n",
       "      <td>5.324350</td>\n",
       "      <td>5.05524</td>\n",
       "      <td>5.00181</td>\n",
       "      <td>...</td>\n",
       "      <td>5.97287</td>\n",
       "      <td>5.97287</td>\n",
       "      <td>5.97287</td>\n",
       "      <td>5.444447</td>\n",
       "      <td>5.815639</td>\n",
       "      <td>6.16211</td>\n",
       "      <td>5.50025</td>\n",
       "      <td>6.58409</td>\n",
       "      <td>5.529115</td>\n",
       "      <td>4.95026</td>\n",
       "    </tr>\n",
       "  </tbody>\n",
       "</table>\n",
       "<p>5 rows × 134 columns</p>\n",
       "</div>"
      ],
      "text/plain": [
       "   Language-Abilities   Age  Gender    BET1L    BOLA2   BOLA2B     CA14  \\\n",
       "0                 0.0  62.0     0.0  5.58383  5.09692  5.09692  4.82381   \n",
       "1                 0.0  41.0     1.0  5.31565  5.30138  5.30138  4.65290   \n",
       "2                 0.0  49.0     0.0  5.49986  5.38284  5.38284  4.84919   \n",
       "3                 0.0  49.0     0.0  5.39709  5.38811  5.38811  5.10221   \n",
       "4                 0.0  50.0     1.0  5.39444  5.34461  5.34461  4.59554   \n",
       "\n",
       "      CD79A     CLK3      EOS  ...   SPRR2C   SPRR2D   SPRR2F       TBP  \\\n",
       "0  5.295227  4.81541  5.02464  ...  6.11522  6.11522  6.11522  5.410074   \n",
       "1  5.329220  4.82089  4.97764  ...  5.59662  5.59662  5.59662  5.371055   \n",
       "2  5.440330  4.86002  4.99542  ...  5.35165  5.35165  5.35165  5.331143   \n",
       "3  5.214910  5.27595  4.91909  ...  5.62214  5.62214  5.62214  5.393022   \n",
       "4  5.324350  5.05524  5.00181  ...  5.97287  5.97287  5.97287  5.444447   \n",
       "\n",
       "        TPR       U1      GLA   HASPIN       SP1   TESMIN  \n",
       "0  5.955096  6.05081  5.32946  6.35600  5.349367  5.08896  \n",
       "1  6.137255  6.12838  5.21290  5.27611  5.360984  5.17372  \n",
       "2  5.621839  6.12909  5.19776  6.76297  5.312664  4.92317  \n",
       "3  5.694567  6.07534  5.34592  5.54120  5.326339  5.10696  \n",
       "4  5.815639  6.16211  5.50025  6.58409  5.529115  4.95026  \n",
       "\n",
       "[5 rows x 134 columns]"
      ]
     },
     "execution_count": 30,
     "metadata": {},
     "output_type": "execute_result"
    }
   ],
   "source": [
    "merged_data.head()"
   ]
  },
  {
   "cell_type": "code",
   "execution_count": 31,
   "metadata": {
    "ExecuteTime": {
     "end_time": "2024-01-02T01:03:36.401002087Z",
     "start_time": "2024-01-02T01:03:36.400659608Z"
    },
    "collapsed": false
   },
   "outputs": [],
   "source": [
    "# If both age and gender features are available, select 'age' as the condition.\n",
    "condition = 'Age'\n",
    "# Remove the other condition to prevent interference.\n",
    "merged_data = merged_data.drop(columns=['Gender'], errors='ignore').astype('float')"
   ]
  },
  {
   "cell_type": "code",
   "execution_count": 32,
   "metadata": {
    "ExecuteTime": {
     "end_time": "2024-01-02T01:03:36.403035823Z",
     "start_time": "2024-01-02T01:03:36.401081946Z"
    },
    "collapsed": false
   },
   "outputs": [],
   "source": [
    "X = merged_data.drop(columns=[TRAIT, condition]).values\n",
    "Y = merged_data[TRAIT].values\n",
    "Z = merged_data[condition].values"
   ]
  },
  {
   "cell_type": "markdown",
   "metadata": {
    "collapsed": false
   },
   "source": [
    "Select the appropriate regression model depending on whether the dataset shows batch effect."
   ]
  },
  {
   "cell_type": "code",
   "execution_count": 33,
   "metadata": {
    "ExecuteTime": {
     "end_time": "2024-01-02T01:03:36.403263628Z",
     "start_time": "2024-01-02T01:03:36.401336170Z"
    },
    "collapsed": false
   },
   "outputs": [
    {
     "data": {
      "text/plain": [
       "True"
      ]
     },
     "execution_count": 33,
     "metadata": {},
     "output_type": "execute_result"
    }
   ],
   "source": [
    "has_batch_effect = detect_batch_effect(X)\n",
    "has_batch_effect"
   ]
  },
  {
   "cell_type": "code",
   "execution_count": 34,
   "metadata": {
    "ExecuteTime": {
     "end_time": "2024-01-02T01:03:36.475053437Z",
     "start_time": "2024-01-02T01:03:36.444397231Z"
    },
    "collapsed": false
   },
   "outputs": [],
   "source": [
    "\n",
    "if has_batch_effect:\n",
    "    model_constructor1 = VariableSelection\n",
    "    model_params1 = {'modified': True, 'lamda': 3e-4}\n",
    "    model_constructor2 = VariableSelection\n",
    "    model_params2 = {'modified': False}\n",
    "else:\n",
    "    model_constructor1 = Lasso\n",
    "    model_params1 = {'alpha': 1.0, 'random_state': 42}\n",
    "    model_constructor2 = VariableSelection\n",
    "    model_params2 = {'modified': False}"
   ]
  },
  {
   "cell_type": "code",
   "execution_count": 35,
   "metadata": {
    "ExecuteTime": {
     "end_time": "2024-01-02T01:03:50.733335364Z",
     "start_time": "2024-01-02T01:03:36.444563711Z"
    },
    "collapsed": false
   },
   "outputs": [
    {
     "name": "stdout",
     "output_type": "stream",
     "text": [
      "alpha for Lasso: 0.0003\n",
      "alpha for Lasso: 0.0003\n",
      "alpha for Lasso: 0.0003\n",
      "alpha for Lasso: 0.0003\n",
      "alpha for Lasso: 0.0003\n",
      "The cross-validation accuracy is 48.96% ± 5.54%\n"
     ]
    }
   ],
   "source": [
    "trait_type = 'binary'  # Remember to set this properly, either 'binary' or 'continuous'\n",
    "cv_mean1, cv_std1 = cross_validation(X, Y, Z, model_constructor1, model_params1, target_type=trait_type)"
   ]
  },
  {
   "cell_type": "code",
   "execution_count": 36,
   "metadata": {},
   "outputs": [
    {
     "name": "stdout",
     "output_type": "stream",
     "text": [
      "The cross-validation accuracy is 57.31% ± 8.10%\n"
     ]
    }
   ],
   "source": [
    "cv_mean2, cv_std2 = cross_validation(X, Y, Z, model_constructor2, model_params2, target_type=trait_type)"
   ]
  },
  {
   "cell_type": "code",
   "execution_count": 37,
   "metadata": {
    "ExecuteTime": {
     "end_time": "2024-01-02T01:03:53.587340410Z",
     "start_time": "2024-01-02T01:03:50.732779025Z"
    },
    "collapsed": false
   },
   "outputs": [
    {
     "name": "stdout",
     "output_type": "stream",
     "text": [
      "alpha for Lasso: 0.0003\n"
     ]
    }
   ],
   "source": [
    "normalized_X, _ = normalize_data(X)\n",
    "normalized_Z, _ = normalize_data(Z)\n",
    "\n",
    "# Train regression model on the whole dataset to identify significant genes\n",
    "model1 = ResidualizationRegressor(model_constructor1, model_params1)\n",
    "model1.fit(normalized_X, Y, normalized_Z)\n",
    "\n",
    "model2 = ResidualizationRegressor(model_constructor2, model_params2)\n",
    "model2.fit(normalized_X, Y, normalized_Z)"
   ]
  },
  {
   "cell_type": "markdown",
   "metadata": {
    "ExecuteTime": {
     "end_time": "2023-10-14T04:50:59.072075075Z",
     "start_time": "2023-10-14T04:50:38.739499998Z"
    },
    "id": "EjJrxbvb4nlj"
   },
   "source": [
    "### 5. Discussion and report"
   ]
  },
  {
   "cell_type": "code",
   "execution_count": 38,
   "metadata": {
    "ExecuteTime": {
     "end_time": "2024-01-02T01:03:53.641570844Z",
     "start_time": "2024-01-02T01:03:53.627778553Z"
    },
    "collapsed": false
   },
   "outputs": [
    {
     "name": "stdout",
     "output_type": "stream",
     "text": [
      "Effect of the condition on the target variable:\n",
      "Variable: Age\n",
      "Coefficient: 0.0653\n",
      "Found 22 genes with non-zero coefficients associated with the trait 'Language-Abilities' conditional on the factor 'Age'. These genes are identified as significant based on the regression model.\n",
      " Variable   Coefficient  Absolute Coefficient\n",
      "     FUSE  8.973221e-01          8.973221e-01\n",
      "     CA14 -8.884510e-01          8.884510e-01\n",
      "    BET1L -6.855938e-01          6.855938e-01\n",
      "      SP1 -6.611190e-01          6.611190e-01\n",
      "     NFYA  5.575705e-01          5.575705e-01\n",
      "    PTPRF -4.721789e-01          4.721789e-01\n",
      "   TESMIN -4.297876e-01          4.297876e-01\n",
      "    GRID2  4.225442e-01          4.225442e-01\n",
      "      GLA  4.225075e-01          4.225075e-01\n",
      "   HASPIN  3.876394e-01          3.876394e-01\n",
      "      TBP -2.399097e-01          2.399097e-01\n",
      "     PARN  2.085300e-01          2.085300e-01\n",
      "IGKV1D-12 -1.811528e-01          1.811528e-01\n",
      "    CD79A  1.646982e-01          1.646982e-01\n",
      "      FAS  1.459928e-01          1.459928e-01\n",
      "    BOLA2 -9.714316e-02          9.714316e-02\n",
      "     CLK3  7.785117e-02          7.785117e-02\n",
      "      EOS  6.429417e-02          6.429417e-02\n",
      "     RCC1 -5.510710e-02          5.510710e-02\n",
      "   SPRR2A -2.008186e-02          2.008186e-02\n",
      " SLC7A5P1 -4.293934e-03          4.293934e-03\n",
      "   SPRR2B -7.697419e-17          7.697419e-17\n"
     ]
    },
    {
     "name": "stderr",
     "output_type": "stream",
     "text": [
      "/home/yxcheng/AI4Science_gold_standard/stage1/YIjiang/../utils.py:469: SettingWithCopyWarning: \n",
      "A value is trying to be set on a copy of a slice from a DataFrame.\n",
      "Try using .loc[row_indexer,col_indexer] = value instead\n",
      "\n",
      "See the caveats in the documentation: https://pandas.pydata.org/pandas-docs/stable/user_guide/indexing.html#returning-a-view-versus-a-copy\n",
      "  gene_regression_df['Absolute Coefficient'] = gene_regression_df['Coefficient'].abs()\n"
     ]
    }
   ],
   "source": [
    "\n",
    "feature_cols = merged_data.columns.tolist()\n",
    "feature_cols.remove(TRAIT)\n",
    "\n",
    "threshold = 0.05\n",
    "interpret_result(model1, feature_cols, TRAIT, condition, threshold=threshold, save_output=True,\n",
    "                 output_dir=OUTPUT_DIR, model_id=1)"
   ]
  },
  {
   "cell_type": "code",
   "execution_count": 39,
   "metadata": {
    "collapsed": false
   },
   "outputs": [
    {
     "name": "stdout",
     "output_type": "stream",
     "text": [
      "Effect of the condition on the target variable:\n",
      "Variable: Age\n",
      "Coefficient: 0.0653\n",
      "Found 0 significant genes associated with the trait 'Language-Abilities' conditional on the factor 'Age', with corrected p-value < 0.05:\n",
      "Empty DataFrame\n",
      "Columns: [Variable, Coefficient, p_value, corrected_p_value]\n",
      "Index: []\n"
     ]
    },
    {
     "name": "stderr",
     "output_type": "stream",
     "text": [
      "/home/yxcheng/AI4Science_gold_standard/stage1/YIjiang/../utils.py:478: SettingWithCopyWarning: \n",
      "A value is trying to be set on a copy of a slice from a DataFrame.\n",
      "Try using .loc[row_indexer,col_indexer] = value instead\n",
      "\n",
      "See the caveats in the documentation: https://pandas.pydata.org/pandas-docs/stable/user_guide/indexing.html#returning-a-view-versus-a-copy\n",
      "  gene_regression_df.loc[:, 'corrected_p_value'] = corrected_p_values\n"
     ]
    }
   ],
   "source": [
    "interpret_result(model2, feature_cols, TRAIT, condition, threshold=threshold, save_output=True,\n",
    "                 output_dir=OUTPUT_DIR, model_id=2)"
   ]
  }
 ],
 "metadata": {
  "colab": {
   "provenance": []
  },
  "kernelspec": {
   "display_name": "Python 3 (ipykernel)",
   "language": "python",
   "name": "python3"
  },
  "language_info": {
   "codemirror_mode": {
    "name": "ipython",
    "version": 3
   },
   "file_extension": ".py",
   "mimetype": "text/x-python",
   "name": "python",
   "nbconvert_exporter": "python",
   "pygments_lexer": "ipython3",
   "version": "3.11.9"
  }
 },
 "nbformat": 4,
 "nbformat_minor": 0
}
