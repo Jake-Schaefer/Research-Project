{
 "cells": [
  {
   "cell_type": "markdown",
   "metadata": {
    "collapsed": false
   },
   "source": [
    "# Gold standard curation: Preprocessing and single-step regression"
   ]
  },
  {
   "cell_type": "markdown",
   "metadata": {
    "collapsed": false
   },
   "source": [
    "In this stage of gold standard curation, we will do the data preprocessing, selection, and single-step regression for the 153 traits in our question set. The workflow consists of the following steps:\n",
    "\n",
    "1. Preprocess all the cohorts related to this trait. Each cohort should be converted to a tabular form and saved to a csv file, with columns being genetic factors, the trait, and age, gender if available;\n",
    "2. If there exists at least one cohort with age or gender information, conduct regression analysis with genetic features together with age or gender as the regressors.\n"
   ]
  },
  {
   "cell_type": "markdown",
   "metadata": {
    "collapsed": false
   },
   "source": [
    "# 1. Basic setup"
   ]
  },
  {
   "cell_type": "code",
   "execution_count": 1,
   "metadata": {
    "ExecuteTime": {
     "end_time": "2024-01-02T01:02:53.240839272Z",
     "start_time": "2024-01-02T01:02:53.240575109Z"
    },
    "collapsed": false
   },
   "outputs": [],
   "source": [
    "import os\n",
    "import sys\n",
    "\n",
    "sys.path.append('..')\n",
    "# Set your preferred name\n",
    "USER = \"Yuxuan\"\n",
    "# Set the data and output directories\n",
    "DATA_ROOT = '/home/yxcheng'\n",
    "OUTPUT_ROOT = '../../output1'\n",
    "TRAIT = 'Intellectual-Disability'\n",
    "\n",
    "OUTPUT_DIR = os.path.join(OUTPUT_ROOT, USER, '-'.join(TRAIT.split()))\n",
    "JSON_PATH = os.path.join(OUTPUT_DIR, \"cohort_info.json\")\n",
    "if not os.path.exists(OUTPUT_DIR):\n",
    "    os.makedirs(OUTPUT_DIR, exist_ok=True)\n",
    "\n",
    "# Gene symbol normalization may take 1-2 minutes. You may set it to False for debugging.\n",
    "NORMALIZE_GENE = True"
   ]
  },
  {
   "cell_type": "code",
   "execution_count": 25,
   "metadata": {
    "ExecuteTime": {
     "end_time": "2024-01-02T01:02:53.501910797Z",
     "start_time": "2024-01-02T01:02:53.496254990Z"
    },
    "colab": {
     "base_uri": "https://localhost:8080/"
    },
    "id": "jMTdsU43vVg3",
    "outputId": "38886111-f442-44b4-8398-96bf384d7abd"
   },
   "outputs": [
    {
     "data": {
      "text/plain": [
       "\"import os\\nfrom google.colab import drive\\n\\ndrive.mount('/content/drive', force_remount=True)\\nproj_dir = '/content/drive/MyDrive/AI4Science_Public'\\nos.chdir(proj_dir)\""
      ]
     },
     "execution_count": 25,
     "metadata": {},
     "output_type": "execute_result"
    }
   ],
   "source": [
    "# This cell is only for use on Google Colab. Skip it if you run your code in other environments\n",
    "\n",
    "\"\"\"import os\n",
    "from google.colab import drive\n",
    "\n",
    "drive.mount('/content/drive', force_remount=True)\n",
    "proj_dir = '/content/drive/MyDrive/AI4Science_Public'\n",
    "os.chdir(proj_dir)\"\"\""
   ]
  },
  {
   "cell_type": "markdown",
   "metadata": {
    "collapsed": false
   },
   "source": [
    "# 2. Data preprocessing and selection"
   ]
  },
  {
   "cell_type": "markdown",
   "metadata": {
    "collapsed": false
   },
   "source": [
    "## 2.1. The TCGA Xena dataset"
   ]
  },
  {
   "cell_type": "markdown",
   "metadata": {
    "collapsed": false
   },
   "source": [
    "In TCGA Xena, there is either zero or one cohort related to the trait. We search the names of subdirectories to see if any matches the trait. If a match is found, we directly obtain the file paths."
   ]
  },
  {
   "cell_type": "code",
   "execution_count": 2,
   "metadata": {
    "ExecuteTime": {
     "end_time": "2024-01-02T01:02:56.462746833Z",
     "start_time": "2024-01-02T01:02:55.818581842Z"
    },
    "collapsed": false
   },
   "outputs": [
    {
     "data": {
      "text/plain": [
       "['TCGA_Adrenocortical_Cancer_(ACC)',\n",
       " 'TCGA_Bile_Duct_Cancer_(CHOL)',\n",
       " 'TCGA_Lower_Grade_Glioma_(LGG)',\n",
       " 'TCGA_Acute_Myeloid_Leukemia_(LAML)',\n",
       " 'TCGA_Esophageal_Cancer_(ESCA)',\n",
       " 'TCGA_Thyroid_Cancer_(THCA)',\n",
       " 'TCGA_Ocular_melanomas_(UVM)',\n",
       " 'TCGA_Ovarian_Cancer_(OV)',\n",
       " 'TCGA_Prostate_Cancer_(PRAD)',\n",
       " 'CrawlData.ipynb',\n",
       " 'TCGA_Kidney_Papillary_Cell_Carcinoma_(KIRP)',\n",
       " 'TCGA_Lung_Cancer_(LUNG)',\n",
       " 'TCGA_Endometrioid_Cancer_(UCEC)',\n",
       " 'TCGA_Testicular_Cancer_(TGCT)',\n",
       " 'TCGA_lower_grade_glioma_and_glioblastoma_(GBMLGG)',\n",
       " 'TCGA_Pancreatic_Cancer_(PAAD)',\n",
       " 'TCGA_Glioblastoma_(GBM)',\n",
       " 'TCGA_Melanoma_(SKCM)',\n",
       " 'TCGA_Kidney_Clear_Cell_Carcinoma_(KIRC)',\n",
       " 'TCGA_Mesothelioma_(MESO)',\n",
       " 'TCGA_Rectal_Cancer_(READ)',\n",
       " 'TCGA_Head_and_Neck_Cancer_(HNSC)',\n",
       " 'TCGA_Large_Bcell_Lymphoma_(DLBC)',\n",
       " 'TCGA_Uterine_Carcinosarcoma_(UCS)',\n",
       " 'TCGA_Colon_Cancer_(COAD)',\n",
       " 'TCGA_Breast_Cancer_(BRCA)',\n",
       " 'TCGA_Bladder_Cancer_(BLCA)',\n",
       " 'TCGA_Sarcoma_(SARC)',\n",
       " 'TCGA_Lung_Squamous_Cell_Carcinoma_(LUSC)',\n",
       " 'TCGA_Cervical_Cancer_(CESC)',\n",
       " 'TCGA_Kidney_Chromophobe_(KICH)',\n",
       " 'TCGA_Stomach_Cancer_(STAD)',\n",
       " 'TCGA_Lung_Adenocarcinoma_(LUAD)',\n",
       " '.DS_Store',\n",
       " 'TCGA_Thymoma_(THYM)',\n",
       " 'TCGA_Colon_and_Rectal_Cancer_(COADREAD)',\n",
       " 'TCGA_Pheochromocytoma_Paraganglioma_(PCPG)',\n",
       " 'TCGA_Liver_Cancer_(LIHC)']"
      ]
     },
     "execution_count": 2,
     "metadata": {},
     "output_type": "execute_result"
    }
   ],
   "source": [
    "import os\n",
    "from utils import *\n",
    "\n",
    "dataset = 'TCGA'\n",
    "dataset_dir = os.path.join(DATA_ROOT, dataset)\n",
    "os.listdir(dataset_dir)[:]"
   ]
  },
  {
   "cell_type": "markdown",
   "metadata": {
    "collapsed": false
   },
   "source": [
    "If no match is found, jump directly to GEO in Part 2.2"
   ]
  },
  {
   "cell_type": "code",
   "execution_count": 27,
   "metadata": {
    "collapsed": false
   },
   "outputs": [],
   "source": [
    "trait_subdir = \"TCGA_Lung_Cancer_(LUNG)\"\n",
    "cohort = 'Xena'\n",
    "# All the cancer traits in Xena are binary\n",
    "trait_type = 'binary'\n",
    "# Once a relevant cohort is found in Xena, we can generally assume the gene and clinical data are available\n",
    "is_available = True\n",
    "\n",
    "clinical_data_file = os.path.join(dataset_dir, trait_subdir, 'TCGA.LUNG.sampleMap_LUNG_clinicalMatrix')\n",
    "genetic_data_file = os.path.join(dataset_dir, trait_subdir, 'TCGA.LUNG.sampleMap_HiSeqV2_PANCAN.gz')"
   ]
  },
  {
   "cell_type": "code",
   "execution_count": 28,
   "metadata": {
    "id": "MudwB-_iz7sc"
   },
   "outputs": [
    {
     "ename": "ParserError",
     "evalue": "Error tokenizing data. C error: Calling read(nbytes) on source failed. Try engine='python'.",
     "output_type": "error",
     "traceback": [
      "\u001b[0;31m---------------------------------------------------------------------------\u001b[0m",
      "\u001b[0;31mParserError\u001b[0m                               Traceback (most recent call last)",
      "\u001b[1;32m/home/yxcheng/AI4Science_gold_standard/stage1/Yuxuan/Psoriasis.ipynb 单元格 12\u001b[0m line \u001b[0;36m4\n\u001b[1;32m      <a href='vscode-notebook-cell://ssh-remote%2B218.199.69.68/home/yxcheng/AI4Science_gold_standard/stage1/Yuxuan/Psoriasis.ipynb#X14sdnNjb2RlLXJlbW90ZQ%3D%3D?line=0'>1</a>\u001b[0m \u001b[39mimport\u001b[39;00m \u001b[39mpandas\u001b[39;00m \u001b[39mas\u001b[39;00m \u001b[39mpd\u001b[39;00m\n\u001b[1;32m      <a href='vscode-notebook-cell://ssh-remote%2B218.199.69.68/home/yxcheng/AI4Science_gold_standard/stage1/Yuxuan/Psoriasis.ipynb#X14sdnNjb2RlLXJlbW90ZQ%3D%3D?line=2'>3</a>\u001b[0m clinical_data \u001b[39m=\u001b[39m pd\u001b[39m.\u001b[39mread_csv(clinical_data_file, sep\u001b[39m=\u001b[39m\u001b[39m'\u001b[39m\u001b[39m\\t\u001b[39;00m\u001b[39m'\u001b[39m, index_col\u001b[39m=\u001b[39m\u001b[39m0\u001b[39m)\n\u001b[0;32m----> <a href='vscode-notebook-cell://ssh-remote%2B218.199.69.68/home/yxcheng/AI4Science_gold_standard/stage1/Yuxuan/Psoriasis.ipynb#X14sdnNjb2RlLXJlbW90ZQ%3D%3D?line=3'>4</a>\u001b[0m genetic_data \u001b[39m=\u001b[39m pd\u001b[39m.\u001b[39;49mread_csv(genetic_data_file, compression\u001b[39m=\u001b[39;49m\u001b[39m'\u001b[39;49m\u001b[39mgzip\u001b[39;49m\u001b[39m'\u001b[39;49m, sep\u001b[39m=\u001b[39;49m\u001b[39m'\u001b[39;49m\u001b[39m\\t\u001b[39;49;00m\u001b[39m'\u001b[39;49m, index_col\u001b[39m=\u001b[39;49m\u001b[39m0\u001b[39;49m)\n\u001b[1;32m      <a href='vscode-notebook-cell://ssh-remote%2B218.199.69.68/home/yxcheng/AI4Science_gold_standard/stage1/Yuxuan/Psoriasis.ipynb#X14sdnNjb2RlLXJlbW90ZQ%3D%3D?line=4'>5</a>\u001b[0m age_col \u001b[39m=\u001b[39m gender_col \u001b[39m=\u001b[39m \u001b[39mNone\u001b[39;00m\n",
      "File \u001b[0;32m~/anaconda3/envs/ai4sci/lib/python3.10/site-packages/pandas/io/parsers/readers.py:948\u001b[0m, in \u001b[0;36mread_csv\u001b[0;34m(filepath_or_buffer, sep, delimiter, header, names, index_col, usecols, dtype, engine, converters, true_values, false_values, skipinitialspace, skiprows, skipfooter, nrows, na_values, keep_default_na, na_filter, verbose, skip_blank_lines, parse_dates, infer_datetime_format, keep_date_col, date_parser, date_format, dayfirst, cache_dates, iterator, chunksize, compression, thousands, decimal, lineterminator, quotechar, quoting, doublequote, escapechar, comment, encoding, encoding_errors, dialect, on_bad_lines, delim_whitespace, low_memory, memory_map, float_precision, storage_options, dtype_backend)\u001b[0m\n\u001b[1;32m    935\u001b[0m kwds_defaults \u001b[39m=\u001b[39m _refine_defaults_read(\n\u001b[1;32m    936\u001b[0m     dialect,\n\u001b[1;32m    937\u001b[0m     delimiter,\n\u001b[0;32m   (...)\u001b[0m\n\u001b[1;32m    944\u001b[0m     dtype_backend\u001b[39m=\u001b[39mdtype_backend,\n\u001b[1;32m    945\u001b[0m )\n\u001b[1;32m    946\u001b[0m kwds\u001b[39m.\u001b[39mupdate(kwds_defaults)\n\u001b[0;32m--> 948\u001b[0m \u001b[39mreturn\u001b[39;00m _read(filepath_or_buffer, kwds)\n",
      "File \u001b[0;32m~/anaconda3/envs/ai4sci/lib/python3.10/site-packages/pandas/io/parsers/readers.py:617\u001b[0m, in \u001b[0;36m_read\u001b[0;34m(filepath_or_buffer, kwds)\u001b[0m\n\u001b[1;32m    614\u001b[0m     \u001b[39mreturn\u001b[39;00m parser\n\u001b[1;32m    616\u001b[0m \u001b[39mwith\u001b[39;00m parser:\n\u001b[0;32m--> 617\u001b[0m     \u001b[39mreturn\u001b[39;00m parser\u001b[39m.\u001b[39;49mread(nrows)\n",
      "File \u001b[0;32m~/anaconda3/envs/ai4sci/lib/python3.10/site-packages/pandas/io/parsers/readers.py:1748\u001b[0m, in \u001b[0;36mTextFileReader.read\u001b[0;34m(self, nrows)\u001b[0m\n\u001b[1;32m   1741\u001b[0m nrows \u001b[39m=\u001b[39m validate_integer(\u001b[39m\"\u001b[39m\u001b[39mnrows\u001b[39m\u001b[39m\"\u001b[39m, nrows)\n\u001b[1;32m   1742\u001b[0m \u001b[39mtry\u001b[39;00m:\n\u001b[1;32m   1743\u001b[0m     \u001b[39m# error: \"ParserBase\" has no attribute \"read\"\u001b[39;00m\n\u001b[1;32m   1744\u001b[0m     (\n\u001b[1;32m   1745\u001b[0m         index,\n\u001b[1;32m   1746\u001b[0m         columns,\n\u001b[1;32m   1747\u001b[0m         col_dict,\n\u001b[0;32m-> 1748\u001b[0m     ) \u001b[39m=\u001b[39m \u001b[39mself\u001b[39;49m\u001b[39m.\u001b[39;49m_engine\u001b[39m.\u001b[39;49mread(  \u001b[39m# type: ignore[attr-defined]\u001b[39;49;00m\n\u001b[1;32m   1749\u001b[0m         nrows\n\u001b[1;32m   1750\u001b[0m     )\n\u001b[1;32m   1751\u001b[0m \u001b[39mexcept\u001b[39;00m \u001b[39mException\u001b[39;00m:\n\u001b[1;32m   1752\u001b[0m     \u001b[39mself\u001b[39m\u001b[39m.\u001b[39mclose()\n",
      "File \u001b[0;32m~/anaconda3/envs/ai4sci/lib/python3.10/site-packages/pandas/io/parsers/c_parser_wrapper.py:234\u001b[0m, in \u001b[0;36mCParserWrapper.read\u001b[0;34m(self, nrows)\u001b[0m\n\u001b[1;32m    232\u001b[0m \u001b[39mtry\u001b[39;00m:\n\u001b[1;32m    233\u001b[0m     \u001b[39mif\u001b[39;00m \u001b[39mself\u001b[39m\u001b[39m.\u001b[39mlow_memory:\n\u001b[0;32m--> 234\u001b[0m         chunks \u001b[39m=\u001b[39m \u001b[39mself\u001b[39;49m\u001b[39m.\u001b[39;49m_reader\u001b[39m.\u001b[39;49mread_low_memory(nrows)\n\u001b[1;32m    235\u001b[0m         \u001b[39m# destructive to chunks\u001b[39;00m\n\u001b[1;32m    236\u001b[0m         data \u001b[39m=\u001b[39m _concatenate_chunks(chunks)\n",
      "File \u001b[0;32mparsers.pyx:843\u001b[0m, in \u001b[0;36mpandas._libs.parsers.TextReader.read_low_memory\u001b[0;34m()\u001b[0m\n",
      "File \u001b[0;32mparsers.pyx:904\u001b[0m, in \u001b[0;36mpandas._libs.parsers.TextReader._read_rows\u001b[0;34m()\u001b[0m\n",
      "File \u001b[0;32mparsers.pyx:879\u001b[0m, in \u001b[0;36mpandas._libs.parsers.TextReader._tokenize_rows\u001b[0;34m()\u001b[0m\n",
      "File \u001b[0;32mparsers.pyx:890\u001b[0m, in \u001b[0;36mpandas._libs.parsers.TextReader._check_tokenize_status\u001b[0;34m()\u001b[0m\n",
      "File \u001b[0;32mparsers.pyx:2058\u001b[0m, in \u001b[0;36mpandas._libs.parsers.raise_parser_error\u001b[0;34m()\u001b[0m\n",
      "\u001b[0;31mParserError\u001b[0m: Error tokenizing data. C error: Calling read(nbytes) on source failed. Try engine='python'."
     ]
    }
   ],
   "source": [
    "import pandas as pd\n",
    "\n",
    "clinical_data = pd.read_csv(clinical_data_file, sep='\\t', index_col=0)\n",
    "genetic_data = pd.read_csv(genetic_data_file, compression='gzip', sep='\\t', index_col=0)\n",
    "age_col = gender_col = None"
   ]
  },
  {
   "cell_type": "code",
   "execution_count": null,
   "metadata": {
    "collapsed": false
   },
   "outputs": [],
   "source": [
    "_, clinical_data_cols = check_rows_and_columns(clinical_data)"
   ]
  },
  {
   "cell_type": "code",
   "execution_count": null,
   "metadata": {
    "collapsed": false
   },
   "outputs": [
    {
     "data": {
      "text/plain": [
       "['ABSOLUTE_Ploidy',\n",
       " 'ABSOLUTE_Purity',\n",
       " 'AKT1',\n",
       " 'ALK_translocation',\n",
       " 'BRAF',\n",
       " 'CBL',\n",
       " 'CTNNB1',\n",
       " 'Canonical_mut_in_KRAS_EGFR_ALK',\n",
       " 'Cnncl_mt_n_KRAS_EGFR_ALK_RET_ROS1_BRAF_ERBB2_HRAS_NRAS_AKT1_MAP2',\n",
       " 'EGFR']"
      ]
     },
     "execution_count": 8,
     "metadata": {},
     "output_type": "execute_result"
    }
   ],
   "source": [
    "clinical_data_cols[:10]"
   ]
  },
  {
   "cell_type": "markdown",
   "metadata": {
    "ExecuteTime": {
     "end_time": "2023-12-28T20:20:11.841042813Z",
     "start_time": "2023-12-28T20:20:11.834458206Z"
    },
    "collapsed": false
   },
   "source": [
    "Read all the column names in the clinical dataset, to find the columns that record information about age or gender.\n",
    "Reference prompt:"
   ]
  },
  {
   "cell_type": "code",
   "execution_count": null,
   "metadata": {
    "collapsed": false
   },
   "outputs": [
    {
     "data": {
      "text/plain": [
       "\"\\nBelow is a list of column names from a biomedical dataset. Please examine it and identify the columns that are likely to contain information about patients' age. Additionally, please do the same for columns that may hold data on patients' gender. Please provide your answer by strictly following this format, without redundant words:\\ncandidate_age_cols = [col_name1, col_name2, ...]\\ncandidate_gender_cols = [col_name1, col_name2, ...]\\nIf no columns match a criterion, please provide an empty list.\\n\\nColumn names:\\n['ABSOLUTE_Ploidy', 'ABSOLUTE_Purity', 'AKT1', 'ALK_translocation', 'BRAF', 'CBL', 'CTNNB1', 'Canonical_mut_in_KRAS_EGFR_ALK', 'Cnncl_mt_n_KRAS_EGFR_ALK_RET_ROS1_BRAF_ERBB2_HRAS_NRAS_AKT1_MAP2', 'EGFR', 'ERBB2', 'ERBB4', 'Estimated_allele_fraction_of_a_clonal_varnt_prsnt_t_1_cpy_pr_cll', 'Expression_Subtype', 'HRAS', 'KRAS', 'MAP2K1', 'MET', 'NRAS', 'PIK3CA', 'PTPN11', 'Pathology', 'Pathology_Updated', 'RET_translocation', 'ROS1_translocation', 'STK11', 'WGS_as_of_20120731_0_no_1_yes', '_INTEGRATION', '_PANCAN_CNA_PANCAN_K8', '_PANCAN_Cluster_Cluster_PANCAN', '_PANCAN_DNAMethyl_PANCAN', '_PANCAN_RPPA_PANCAN_K8', '_PANCAN_UNC_RNAseq_PANCAN_K16', '_PANCAN_miRNA_PANCAN', '_PANCAN_mutation_PANCAN', '_PATIENT', '_cohort', '_primary_disease', '_primary_site', 'additional_pharmaceutical_therapy', 'additional_radiation_therapy', 'additional_surgery_locoregional_procedure', 'additional_surgery_metastatic_procedure', 'age_at_initial_pathologic_diagnosis', 'anatomic_neoplasm_subdivision', 'anatomic_neoplasm_subdivision_other', 'bcr_followup_barcode', 'bcr_patient_barcode', 'bcr_sample_barcode', 'days_to_additional_surgery_locoregional_procedure', 'days_to_additional_surgery_metastatic_procedure', 'days_to_birth', 'days_to_collection', 'days_to_death', 'days_to_initial_pathologic_diagnosis', 'days_to_last_followup', 'days_to_new_tumor_event_after_initial_treatment', 'disease_code', 'dlco_predictive_percent', 'eastern_cancer_oncology_group', 'egfr_mutation_performed', 'egfr_mutation_result', 'eml4_alk_translocation_method', 'eml4_alk_translocation_performed', 'followup_case_report_form_submission_reason', 'followup_treatment_success', 'form_completion_date', 'gender', 'histological_type', 'history_of_neoadjuvant_treatment', 'icd_10', 'icd_o_3_histology', 'icd_o_3_site', 'informed_consent_verified', 'initial_weight', 'intermediate_dimension', 'is_ffpe', 'karnofsky_performance_score', 'kras_gene_analysis_performed', 'kras_mutation_found', 'kras_mutation_result', 'location_in_lung_parenchyma', 'longest_dimension', 'lost_follow_up', 'new_neoplasm_event_type', 'new_tumor_event_after_initial_treatment', 'number_pack_years_smoked', 'oct_embedded', 'other_dx', 'pathologic_M', 'pathologic_N', 'pathologic_T', 'pathologic_stage', 'pathology_report_file_name', 'patient_id', 'performance_status_scale_timing', 'person_neoplasm_cancer_status', 'post_bronchodilator_fev1_fvc_percent', 'post_bronchodilator_fev1_percent', 'pre_bronchodilator_fev1_fvc_percent', 'pre_bronchodilator_fev1_percent', 'primary_therapy_outcome_success', 'progression_determined_by', 'project_code', 'pulmonary_function_test_performed', 'radiation_therapy', 'residual_tumor', 'sample_type', 'sample_type_id', 'shortest_dimension', 'stopped_smoking_year', 'system_version', 'targeted_molecular_therapy', 'tissue_prospective_collection_indicator', 'tissue_retrospective_collection_indicator', 'tissue_source_site', 'tobacco_smoking_history', 'tobacco_smoking_history_indicator', 'tumor_tissue_site', 'vial_number', 'vital_status', 'year_of_initial_pathologic_diagnosis', 'year_of_tobacco_smoking_onset', '_GENOMIC_ID_TCGA_LUNG_exp_HiSeqV2_exon', '_GENOMIC_ID_TCGA_LUNG_hMethyl27', '_GENOMIC_ID_TCGA_LUNG_mutation', '_GENOMIC_ID_TCGA_LUNG_exp_HiSeqV2_PANCAN', '_GENOMIC_ID_TCGA_LUNG_hMethyl450', '_GENOMIC_ID_TCGA_LUNG_gistic2thd', '_GENOMIC_ID_TCGA_LUNG_G4502A_07_3', '_GENOMIC_ID_TCGA_LUNG_exp_HiSeqV2', '_GENOMIC_ID_TCGA_LUNG_gistic2', '_GENOMIC_ID_TCGA_LUNG_RPPA_RBN']\\n\""
      ]
     },
     "execution_count": 9,
     "metadata": {},
     "output_type": "execute_result"
    }
   ],
   "source": [
    "f'''\n",
    "Below is a list of column names from a biomedical dataset. Please examine it and identify the columns that are likely to contain information about patients' age. Additionally, please do the same for columns that may hold data on patients' gender. Please provide your answer by strictly following this format, without redundant words:\n",
    "candidate_age_cols = [col_name1, col_name2, ...]\n",
    "candidate_gender_cols = [col_name1, col_name2, ...]\n",
    "If no columns match a criterion, please provide an empty list.\n",
    "\n",
    "Column names:\n",
    "{clinical_data_cols}\n",
    "'''"
   ]
  },
  {
   "cell_type": "code",
   "execution_count": null,
   "metadata": {
    "collapsed": false
   },
   "outputs": [],
   "source": [
    "candidate_age_cols = ['age_at_initial_pathologic_diagnosis', 'days_to_birth', 'days_to_collection', 'days_to_death', 'days_to_initial_pathologic_diagnosis', 'days_to_last_followup', 'days_to_new_tumor_event_after_initial_treatment', 'stopped_smoking_year', 'year_of_initial_pathologic_diagnosis', 'year_of_tobacco_smoking_onset']\n",
    "\n",
    "candidate_gender_cols = ['gender']"
   ]
  },
  {
   "cell_type": "markdown",
   "metadata": {
    "ExecuteTime": {
     "end_time": "2023-12-31T03:57:44.207565572Z",
     "start_time": "2023-12-31T03:57:44.202177544Z"
    },
    "collapsed": false
   },
   "source": [
    "Choose a single column from the candidate columns that record age and gender information respectively.\n",
    "If no column meets the requirement, keep 'age_col' or 'gender_col' to None"
   ]
  },
  {
   "cell_type": "code",
   "execution_count": null,
   "metadata": {
    "collapsed": false
   },
   "outputs": [
    {
     "data": {
      "text/plain": [
       "{'age_at_initial_pathologic_diagnosis': [70.0, 67.0, 79.0, 68.0, 66.0],\n",
       " 'days_to_birth': [-25752.0, -24532.0, -29068.0, -24868.0, -24411.0],\n",
       " 'days_to_collection': [nan, nan, nan, nan, nan],\n",
       " 'days_to_death': [nan, nan, '121', nan, nan],\n",
       " 'days_to_initial_pathologic_diagnosis': [0.0, 0.0, 0.0, 0.0, 0.0],\n",
       " 'days_to_last_followup': ['0', '1523', nan, '607', '426'],\n",
       " 'days_to_new_tumor_event_after_initial_treatment': [nan,\n",
       "  nan,\n",
       "  nan,\n",
       "  334.0,\n",
       "  183.0],\n",
       " 'stopped_smoking_year': [nan, nan, nan, nan, 1987.0],\n",
       " 'year_of_initial_pathologic_diagnosis': [2009.0,\n",
       "  2007.0,\n",
       "  2007.0,\n",
       "  2009.0,\n",
       "  2009.0],\n",
       " 'year_of_tobacco_smoking_onset': [nan, nan, nan, nan, 1963.0]}"
      ]
     },
     "execution_count": 11,
     "metadata": {},
     "output_type": "execute_result"
    }
   ],
   "source": [
    "preview_df(clinical_data[candidate_age_cols])"
   ]
  },
  {
   "cell_type": "code",
   "execution_count": null,
   "metadata": {
    "collapsed": false
   },
   "outputs": [],
   "source": [
    "age_col = 'age_at_initial_pathologic_diagnosis'"
   ]
  },
  {
   "cell_type": "code",
   "execution_count": null,
   "metadata": {
    "collapsed": false
   },
   "outputs": [
    {
     "data": {
      "text/plain": [
       "{'gender': ['MALE', 'MALE', 'FEMALE', 'MALE', 'MALE']}"
      ]
     },
     "execution_count": 13,
     "metadata": {},
     "output_type": "execute_result"
    }
   ],
   "source": [
    "preview_df(clinical_data[candidate_gender_cols])"
   ]
  },
  {
   "cell_type": "code",
   "execution_count": null,
   "metadata": {
    "collapsed": false
   },
   "outputs": [],
   "source": [
    "gender_col = 'gender'"
   ]
  },
  {
   "cell_type": "code",
   "execution_count": null,
   "metadata": {
    "collapsed": false
   },
   "outputs": [],
   "source": [
    "selected_clinical_data = xena_select_clinical_features(clinical_data, TRAIT, age_col, gender_col)"
   ]
  },
  {
   "cell_type": "code",
   "execution_count": null,
   "metadata": {
    "collapsed": false
   },
   "outputs": [],
   "source": [
    "if NORMALIZE_GENE:\n",
    "    genetic_data = normalize_gene_symbols_in_index(genetic_data)"
   ]
  },
  {
   "cell_type": "code",
   "execution_count": null,
   "metadata": {
    "collapsed": false
   },
   "outputs": [
    {
     "data": {
      "text/html": [
       "<div>\n",
       "<style scoped>\n",
       "    .dataframe tbody tr th:only-of-type {\n",
       "        vertical-align: middle;\n",
       "    }\n",
       "\n",
       "    .dataframe tbody tr th {\n",
       "        vertical-align: top;\n",
       "    }\n",
       "\n",
       "    .dataframe thead th {\n",
       "        text-align: right;\n",
       "    }\n",
       "</style>\n",
       "<table border=\"1\" class=\"dataframe\">\n",
       "  <thead>\n",
       "    <tr style=\"text-align: right;\">\n",
       "      <th></th>\n",
       "      <th>Lung-Cancer</th>\n",
       "      <th>Age</th>\n",
       "      <th>Gender</th>\n",
       "      <th>ARHGEF10L</th>\n",
       "      <th>HIF3A</th>\n",
       "      <th>RNF17</th>\n",
       "      <th>RNF10</th>\n",
       "      <th>RNF11</th>\n",
       "      <th>RNF13</th>\n",
       "      <th>GTF2IP1</th>\n",
       "      <th>...</th>\n",
       "      <th>TULP2</th>\n",
       "      <th>NPY5R</th>\n",
       "      <th>GNGT2</th>\n",
       "      <th>GNGT1</th>\n",
       "      <th>TULP3</th>\n",
       "      <th>PTRF</th>\n",
       "      <th>BCL6B</th>\n",
       "      <th>GSTK1</th>\n",
       "      <th>SELP</th>\n",
       "      <th>SELS</th>\n",
       "    </tr>\n",
       "    <tr>\n",
       "      <th>sampleID</th>\n",
       "      <th></th>\n",
       "      <th></th>\n",
       "      <th></th>\n",
       "      <th></th>\n",
       "      <th></th>\n",
       "      <th></th>\n",
       "      <th></th>\n",
       "      <th></th>\n",
       "      <th></th>\n",
       "      <th></th>\n",
       "      <th></th>\n",
       "      <th></th>\n",
       "      <th></th>\n",
       "      <th></th>\n",
       "      <th></th>\n",
       "      <th></th>\n",
       "      <th></th>\n",
       "      <th></th>\n",
       "      <th></th>\n",
       "      <th></th>\n",
       "      <th></th>\n",
       "    </tr>\n",
       "  </thead>\n",
       "  <tbody>\n",
       "    <tr>\n",
       "      <th>TCGA-05-4244-01</th>\n",
       "      <td>1</td>\n",
       "      <td>70.0</td>\n",
       "      <td>1.0</td>\n",
       "      <td>-0.056592</td>\n",
       "      <td>2.128674</td>\n",
       "      <td>-0.531035</td>\n",
       "      <td>-0.185972</td>\n",
       "      <td>-0.190878</td>\n",
       "      <td>-0.11891</td>\n",
       "      <td>-0.659794</td>\n",
       "      <td>...</td>\n",
       "      <td>0.015022</td>\n",
       "      <td>-1.155117</td>\n",
       "      <td>0.528367</td>\n",
       "      <td>2.75061</td>\n",
       "      <td>0.428423</td>\n",
       "      <td>-0.639586</td>\n",
       "      <td>-0.195527</td>\n",
       "      <td>-0.324695</td>\n",
       "      <td>0.193167</td>\n",
       "      <td>-0.572812</td>\n",
       "    </tr>\n",
       "    <tr>\n",
       "      <th>TCGA-05-4249-01</th>\n",
       "      <td>1</td>\n",
       "      <td>67.0</td>\n",
       "      <td>1.0</td>\n",
       "      <td>-0.569692</td>\n",
       "      <td>-0.318126</td>\n",
       "      <td>-0.531035</td>\n",
       "      <td>0.237428</td>\n",
       "      <td>0.011822</td>\n",
       "      <td>-0.00611</td>\n",
       "      <td>1.018406</td>\n",
       "      <td>...</td>\n",
       "      <td>-0.031778</td>\n",
       "      <td>-0.393117</td>\n",
       "      <td>1.632467</td>\n",
       "      <td>2.33551</td>\n",
       "      <td>-0.145577</td>\n",
       "      <td>-0.997486</td>\n",
       "      <td>-0.276027</td>\n",
       "      <td>-1.219395</td>\n",
       "      <td>1.850967</td>\n",
       "      <td>-0.471212</td>\n",
       "    </tr>\n",
       "    <tr>\n",
       "      <th>TCGA-05-4250-01</th>\n",
       "      <td>1</td>\n",
       "      <td>79.0</td>\n",
       "      <td>0.0</td>\n",
       "      <td>-0.899992</td>\n",
       "      <td>-0.918126</td>\n",
       "      <td>-0.531035</td>\n",
       "      <td>-0.621472</td>\n",
       "      <td>-0.454178</td>\n",
       "      <td>0.58719</td>\n",
       "      <td>-0.198894</td>\n",
       "      <td>...</td>\n",
       "      <td>-0.748878</td>\n",
       "      <td>-1.173917</td>\n",
       "      <td>1.966367</td>\n",
       "      <td>-1.28139</td>\n",
       "      <td>-0.374877</td>\n",
       "      <td>0.959514</td>\n",
       "      <td>0.714373</td>\n",
       "      <td>0.112305</td>\n",
       "      <td>-0.532833</td>\n",
       "      <td>-0.003812</td>\n",
       "    </tr>\n",
       "    <tr>\n",
       "      <th>TCGA-05-4382-01</th>\n",
       "      <td>1</td>\n",
       "      <td>68.0</td>\n",
       "      <td>1.0</td>\n",
       "      <td>0.667508</td>\n",
       "      <td>3.895974</td>\n",
       "      <td>-0.221535</td>\n",
       "      <td>-0.367272</td>\n",
       "      <td>0.131822</td>\n",
       "      <td>0.97629</td>\n",
       "      <td>-0.494994</td>\n",
       "      <td>...</td>\n",
       "      <td>1.013722</td>\n",
       "      <td>-1.587117</td>\n",
       "      <td>0.359267</td>\n",
       "      <td>2.59051</td>\n",
       "      <td>0.806623</td>\n",
       "      <td>0.812114</td>\n",
       "      <td>0.367373</td>\n",
       "      <td>-0.494595</td>\n",
       "      <td>-1.062233</td>\n",
       "      <td>0.108588</td>\n",
       "    </tr>\n",
       "    <tr>\n",
       "      <th>TCGA-05-4384-01</th>\n",
       "      <td>1</td>\n",
       "      <td>66.0</td>\n",
       "      <td>1.0</td>\n",
       "      <td>-0.316892</td>\n",
       "      <td>2.380374</td>\n",
       "      <td>0.156865</td>\n",
       "      <td>0.232828</td>\n",
       "      <td>0.054822</td>\n",
       "      <td>0.27059</td>\n",
       "      <td>0.128606</td>\n",
       "      <td>...</td>\n",
       "      <td>-0.060978</td>\n",
       "      <td>-0.435417</td>\n",
       "      <td>1.111467</td>\n",
       "      <td>-1.28139</td>\n",
       "      <td>-0.128477</td>\n",
       "      <td>0.110214</td>\n",
       "      <td>1.469373</td>\n",
       "      <td>0.194605</td>\n",
       "      <td>1.404667</td>\n",
       "      <td>-0.290712</td>\n",
       "    </tr>\n",
       "  </tbody>\n",
       "</table>\n",
       "<p>5 rows × 20533 columns</p>\n",
       "</div>"
      ],
      "text/plain": [
       "                 Lung-Cancer   Age  Gender  ARHGEF10L     HIF3A     RNF17  \\\n",
       "sampleID                                                                    \n",
       "TCGA-05-4244-01            1  70.0     1.0  -0.056592  2.128674 -0.531035   \n",
       "TCGA-05-4249-01            1  67.0     1.0  -0.569692 -0.318126 -0.531035   \n",
       "TCGA-05-4250-01            1  79.0     0.0  -0.899992 -0.918126 -0.531035   \n",
       "TCGA-05-4382-01            1  68.0     1.0   0.667508  3.895974 -0.221535   \n",
       "TCGA-05-4384-01            1  66.0     1.0  -0.316892  2.380374  0.156865   \n",
       "\n",
       "                    RNF10     RNF11    RNF13   GTF2IP1  ...     TULP2  \\\n",
       "sampleID                                                ...             \n",
       "TCGA-05-4244-01 -0.185972 -0.190878 -0.11891 -0.659794  ...  0.015022   \n",
       "TCGA-05-4249-01  0.237428  0.011822 -0.00611  1.018406  ... -0.031778   \n",
       "TCGA-05-4250-01 -0.621472 -0.454178  0.58719 -0.198894  ... -0.748878   \n",
       "TCGA-05-4382-01 -0.367272  0.131822  0.97629 -0.494994  ...  1.013722   \n",
       "TCGA-05-4384-01  0.232828  0.054822  0.27059  0.128606  ... -0.060978   \n",
       "\n",
       "                    NPY5R     GNGT2    GNGT1     TULP3      PTRF     BCL6B  \\\n",
       "sampleID                                                                     \n",
       "TCGA-05-4244-01 -1.155117  0.528367  2.75061  0.428423 -0.639586 -0.195527   \n",
       "TCGA-05-4249-01 -0.393117  1.632467  2.33551 -0.145577 -0.997486 -0.276027   \n",
       "TCGA-05-4250-01 -1.173917  1.966367 -1.28139 -0.374877  0.959514  0.714373   \n",
       "TCGA-05-4382-01 -1.587117  0.359267  2.59051  0.806623  0.812114  0.367373   \n",
       "TCGA-05-4384-01 -0.435417  1.111467 -1.28139 -0.128477  0.110214  1.469373   \n",
       "\n",
       "                    GSTK1      SELP      SELS  \n",
       "sampleID                                       \n",
       "TCGA-05-4244-01 -0.324695  0.193167 -0.572812  \n",
       "TCGA-05-4249-01 -1.219395  1.850967 -0.471212  \n",
       "TCGA-05-4250-01  0.112305 -0.532833 -0.003812  \n",
       "TCGA-05-4382-01 -0.494595 -1.062233  0.108588  \n",
       "TCGA-05-4384-01  0.194605  1.404667 -0.290712  \n",
       "\n",
       "[5 rows x 20533 columns]"
      ]
     },
     "execution_count": 17,
     "metadata": {},
     "output_type": "execute_result"
    }
   ],
   "source": [
    "merged_data = selected_clinical_data.join(genetic_data.T).dropna()\n",
    "merged_data.head()"
   ]
  },
  {
   "cell_type": "code",
   "execution_count": null,
   "metadata": {
    "collapsed": false
   },
   "outputs": [
    {
     "name": "stdout",
     "output_type": "stream",
     "text": [
      "The merged dataset contains 1100 samples.\n"
     ]
    }
   ],
   "source": [
    "print(f\"The merged dataset contains {len(merged_data)} samples.\")"
   ]
  },
  {
   "cell_type": "code",
   "execution_count": null,
   "metadata": {
    "collapsed": false
   },
   "outputs": [
    {
     "name": "stdout",
     "output_type": "stream",
     "text": [
      "For the feature 'Lung-Cancer', the least common label is '0' with 110 occurrences. This represents 10.00% of the dataset.\n",
      "The distribution of the feature 'Lung-Cancer' in this dataset is fine.\n",
      "\n",
      "Quartiles for 'Age':\n",
      "  25%: 60.0\n",
      "  50% (Median): 67.0\n",
      "  75%: 73.0\n",
      "Min: 38.0\n",
      "Max: 90.0\n",
      "The distribution of the feature 'Age' in this dataset is fine.\n",
      "\n",
      "For the feature 'Gender', the least common label is '0.0' with 443 occurrences. This represents 40.27% of the dataset.\n",
      "The distribution of the feature 'Gender' in this dataset is fine.\n",
      "\n"
     ]
    },
    {
     "data": {
      "text/plain": [
       "False"
      ]
     },
     "execution_count": 19,
     "metadata": {},
     "output_type": "execute_result"
    }
   ],
   "source": [
    "is_trait_biased, merge_data = judge_and_remove_biased_features(merged_data, TRAIT, trait_type=trait_type)\n",
    "is_trait_biased"
   ]
  },
  {
   "cell_type": "code",
   "execution_count": null,
   "metadata": {
    "collapsed": false
   },
   "outputs": [],
   "source": [
    "merged_data.head()\n",
    "if not is_trait_biased:\n",
    "    merge_data.to_csv(os.path.join(OUTPUT_DIR, cohort+'.csv'), index=False)"
   ]
  },
  {
   "cell_type": "code",
   "execution_count": null,
   "metadata": {
    "collapsed": false
   },
   "outputs": [
    {
     "name": "stdout",
     "output_type": "stream",
     "text": [
      "A new JSON file was created at: ../../output1/Yuxuan/Lung-Cancer/cohort_info.json\n"
     ]
    }
   ],
   "source": [
    "save_cohort_info(cohort, JSON_PATH, is_available, is_trait_biased, merged_data)"
   ]
  },
  {
   "cell_type": "markdown",
   "metadata": {
    "ExecuteTime": {
     "end_time": "2023-12-28T21:28:38.028916303Z",
     "start_time": "2023-12-28T21:28:38.016245426Z"
    },
    "collapsed": false
   },
   "source": [
    "## 2.2. The GEO dataset"
   ]
  },
  {
   "cell_type": "markdown",
   "metadata": {
    "ExecuteTime": {
     "end_time": "2023-12-31T03:25:23.253882615Z",
     "start_time": "2023-12-31T03:25:23.244062710Z"
    },
    "collapsed": false
   },
   "source": [
    "In GEO, there may be one or multiple cohorts for a trait. Each cohort is identified by an accession number. We iterate over all accession numbers in the corresponding subdirectory, preprocess the cohort data, and save them to csv files."
   ]
  },
  {
   "cell_type": "code",
   "execution_count": 5,
   "metadata": {
    "ExecuteTime": {
     "end_time": "2024-01-02T01:02:59.503572381Z",
     "start_time": "2024-01-02T01:02:59.491400342Z"
    },
    "collapsed": false
   },
   "outputs": [
    {
     "data": {
      "text/plain": [
       "['GSE174555', 'GSE182101', 'GSE158385', 'GSE200864', 'GSE182081', 'GSE192767']"
      ]
     },
     "execution_count": 5,
     "metadata": {},
     "output_type": "execute_result"
    }
   ],
   "source": [
    "dataset = 'GEO'\n",
    "trait_subdir = \"Intellectual-Disability\"\n",
    "\n",
    "trait_path = os.path.join(DATA_ROOT, dataset, trait_subdir)\n",
    "os.listdir(trait_path)"
   ]
  },
  {
   "cell_type": "markdown",
   "metadata": {
    "ExecuteTime": {
     "end_time": "2023-12-31T03:39:42.634870142Z",
     "start_time": "2023-12-31T03:39:42.534093295Z"
    },
    "collapsed": false
   },
   "source": [
    "Repeat the below steps for all the accession numbers"
   ]
  },
  {
   "cell_type": "code",
   "execution_count": 41,
   "metadata": {
    "ExecuteTime": {
     "end_time": "2024-01-02T01:03:00.287218362Z",
     "start_time": "2024-01-02T01:03:00.278758251Z"
    },
    "collapsed": false
   },
   "outputs": [
    {
     "data": {
      "text/plain": [
       "('/home/yxcheng/GEO/Intellectual-Disability/GSE192767/GSE192767_family.soft.gz',\n",
       " '/home/yxcheng/GEO/Intellectual-Disability/GSE192767/GSE192767_series_matrix.txt.gz')"
      ]
     },
     "execution_count": 41,
     "metadata": {},
     "output_type": "execute_result"
    }
   ],
   "source": [
    "cohort = accession_num = \"GSE192767\"\n",
    "cohort_dir = os.path.join(trait_path, accession_num)\n",
    "soft_file, matrix_file = get_relevant_filepaths(cohort_dir)\n",
    "soft_file, matrix_file"
   ]
  },
  {
   "cell_type": "markdown",
   "metadata": {
    "collapsed": false
   },
   "source": [
    "### Inital filtering and clinical data preprocessing"
   ]
  },
  {
   "cell_type": "code",
   "execution_count": 42,
   "metadata": {
    "ExecuteTime": {
     "end_time": "2024-01-02T01:03:01.634861460Z",
     "start_time": "2024-01-02T01:03:01.076370517Z"
    },
    "collapsed": false
   },
   "outputs": [
    {
     "name": "stdout",
     "output_type": "stream",
     "text": [
      "!Series_title\t\"Expression data from human lymphoblastoid cell lines (LCLs)\"\n",
      "!Series_summary\t\"The X-linked alpha thalassaemia intellectual disability syndrome (ATRX) protein is a member of the SWI/SNF family of chromatin remodelling factors which acts as an ATP dependent molecular motor. Germline mutations in ATRX give rise to a severe form of syndromal intellectual disability (ATR-X syndrome). To date, only a small number of genes have been identified that are affected by pathogenic ATRX mutations in human.\"\n",
      "!Series_summary\t\"We performed microarray experiments on LCLs  from normal individuals and  patients with diverse pathogenic ATRX mutations, to identify more genes regulated by ATRX.\"\n",
      "!Series_overall_design\t\"We used 20 LCLs  from unaffected individuals and  28 LCLs from patients for RNA extraction and hybridization on Affymetrix microarrays.\"\n"
     ]
    }
   ],
   "source": [
    "background_prefixes = ['!Series_title', '!Series_summary', '!Series_overall_design']\n",
    "clinical_prefixes = ['!Sample_geo_accession', '!Sample_characteristics_ch1']\n",
    "\n",
    "background_info, clinical_data = get_background_and_clinical_data(matrix_file, background_prefixes, clinical_prefixes)\n",
    "print(background_info)"
   ]
  },
  {
   "cell_type": "code",
   "execution_count": 43,
   "metadata": {
    "ExecuteTime": {
     "end_time": "2024-01-02T01:03:01.642310454Z",
     "start_time": "2024-01-02T01:03:01.635048940Z"
    },
    "collapsed": false
   },
   "outputs": [
    {
     "data": {
      "text/html": [
       "<div>\n",
       "<style scoped>\n",
       "    .dataframe tbody tr th:only-of-type {\n",
       "        vertical-align: middle;\n",
       "    }\n",
       "\n",
       "    .dataframe tbody tr th {\n",
       "        vertical-align: top;\n",
       "    }\n",
       "\n",
       "    .dataframe thead th {\n",
       "        text-align: right;\n",
       "    }\n",
       "</style>\n",
       "<table border=\"1\" class=\"dataframe\">\n",
       "  <thead>\n",
       "    <tr style=\"text-align: right;\">\n",
       "      <th></th>\n",
       "      <th>!Sample_geo_accession</th>\n",
       "      <th>GSM5765052</th>\n",
       "      <th>GSM5765053</th>\n",
       "      <th>GSM5765054</th>\n",
       "      <th>GSM5765055</th>\n",
       "      <th>GSM5765056</th>\n",
       "      <th>GSM5765057</th>\n",
       "      <th>GSM5765058</th>\n",
       "      <th>GSM5765059</th>\n",
       "      <th>GSM5765060</th>\n",
       "      <th>...</th>\n",
       "      <th>GSM5765090</th>\n",
       "      <th>GSM5765091</th>\n",
       "      <th>GSM5765092</th>\n",
       "      <th>GSM5765093</th>\n",
       "      <th>GSM5765094</th>\n",
       "      <th>GSM5765095</th>\n",
       "      <th>GSM5765096</th>\n",
       "      <th>GSM5765097</th>\n",
       "      <th>GSM5765098</th>\n",
       "      <th>GSM5765099</th>\n",
       "    </tr>\n",
       "  </thead>\n",
       "  <tbody>\n",
       "    <tr>\n",
       "      <th>0</th>\n",
       "      <td>!Sample_characteristics_ch1</td>\n",
       "      <td>phenotype: ATR-X syndrome</td>\n",
       "      <td>phenotype: ATR-X syndrome</td>\n",
       "      <td>phenotype: ATR-X syndrome</td>\n",
       "      <td>phenotype: ATR-X syndrome</td>\n",
       "      <td>phenotype: ATR-X syndrome</td>\n",
       "      <td>phenotype: ATR-X syndrome</td>\n",
       "      <td>phenotype: ATR-X syndrome</td>\n",
       "      <td>phenotype: ATR-X syndrome</td>\n",
       "      <td>phenotype: ATR-X syndrome</td>\n",
       "      <td>...</td>\n",
       "      <td>phenotype: unaffected</td>\n",
       "      <td>phenotype: unaffected</td>\n",
       "      <td>phenotype: unaffected</td>\n",
       "      <td>phenotype: unaffected</td>\n",
       "      <td>phenotype: unaffected</td>\n",
       "      <td>phenotype: unaffected</td>\n",
       "      <td>phenotype: unaffected</td>\n",
       "      <td>phenotype: unaffected</td>\n",
       "      <td>phenotype: unaffected</td>\n",
       "      <td>phenotype: unaffected</td>\n",
       "    </tr>\n",
       "    <tr>\n",
       "      <th>1</th>\n",
       "      <td>!Sample_characteristics_ch1</td>\n",
       "      <td>cell type: human lymphoblastoid cell line (LCL)</td>\n",
       "      <td>cell type: human lymphoblastoid cell line (LCL)</td>\n",
       "      <td>cell type: human lymphoblastoid cell line (LCL)</td>\n",
       "      <td>cell type: human lymphoblastoid cell line (LCL)</td>\n",
       "      <td>cell type: human lymphoblastoid cell line (LCL)</td>\n",
       "      <td>cell type: human lymphoblastoid cell line (LCL)</td>\n",
       "      <td>cell type: human lymphoblastoid cell line (LCL)</td>\n",
       "      <td>cell type: human lymphoblastoid cell line (LCL)</td>\n",
       "      <td>cell type: human lymphoblastoid cell line (LCL)</td>\n",
       "      <td>...</td>\n",
       "      <td>cell type: human lymphoblastoid cell line (LCL)</td>\n",
       "      <td>cell type: human lymphoblastoid cell line (LCL)</td>\n",
       "      <td>cell type: human lymphoblastoid cell line (LCL)</td>\n",
       "      <td>cell type: human lymphoblastoid cell line (LCL)</td>\n",
       "      <td>cell type: human lymphoblastoid cell line (LCL)</td>\n",
       "      <td>cell type: human lymphoblastoid cell line (LCL)</td>\n",
       "      <td>cell type: human lymphoblastoid cell line (LCL)</td>\n",
       "      <td>cell type: human lymphoblastoid cell line (LCL)</td>\n",
       "      <td>cell type: human lymphoblastoid cell line (LCL)</td>\n",
       "      <td>cell type: human lymphoblastoid cell line (LCL)</td>\n",
       "    </tr>\n",
       "  </tbody>\n",
       "</table>\n",
       "<p>2 rows × 49 columns</p>\n",
       "</div>"
      ],
      "text/plain": [
       "         !Sample_geo_accession  \\\n",
       "0  !Sample_characteristics_ch1   \n",
       "1  !Sample_characteristics_ch1   \n",
       "\n",
       "                                        GSM5765052  \\\n",
       "0                        phenotype: ATR-X syndrome   \n",
       "1  cell type: human lymphoblastoid cell line (LCL)   \n",
       "\n",
       "                                        GSM5765053  \\\n",
       "0                        phenotype: ATR-X syndrome   \n",
       "1  cell type: human lymphoblastoid cell line (LCL)   \n",
       "\n",
       "                                        GSM5765054  \\\n",
       "0                        phenotype: ATR-X syndrome   \n",
       "1  cell type: human lymphoblastoid cell line (LCL)   \n",
       "\n",
       "                                        GSM5765055  \\\n",
       "0                        phenotype: ATR-X syndrome   \n",
       "1  cell type: human lymphoblastoid cell line (LCL)   \n",
       "\n",
       "                                        GSM5765056  \\\n",
       "0                        phenotype: ATR-X syndrome   \n",
       "1  cell type: human lymphoblastoid cell line (LCL)   \n",
       "\n",
       "                                        GSM5765057  \\\n",
       "0                        phenotype: ATR-X syndrome   \n",
       "1  cell type: human lymphoblastoid cell line (LCL)   \n",
       "\n",
       "                                        GSM5765058  \\\n",
       "0                        phenotype: ATR-X syndrome   \n",
       "1  cell type: human lymphoblastoid cell line (LCL)   \n",
       "\n",
       "                                        GSM5765059  \\\n",
       "0                        phenotype: ATR-X syndrome   \n",
       "1  cell type: human lymphoblastoid cell line (LCL)   \n",
       "\n",
       "                                        GSM5765060  ...  \\\n",
       "0                        phenotype: ATR-X syndrome  ...   \n",
       "1  cell type: human lymphoblastoid cell line (LCL)  ...   \n",
       "\n",
       "                                        GSM5765090  \\\n",
       "0                            phenotype: unaffected   \n",
       "1  cell type: human lymphoblastoid cell line (LCL)   \n",
       "\n",
       "                                        GSM5765091  \\\n",
       "0                            phenotype: unaffected   \n",
       "1  cell type: human lymphoblastoid cell line (LCL)   \n",
       "\n",
       "                                        GSM5765092  \\\n",
       "0                            phenotype: unaffected   \n",
       "1  cell type: human lymphoblastoid cell line (LCL)   \n",
       "\n",
       "                                        GSM5765093  \\\n",
       "0                            phenotype: unaffected   \n",
       "1  cell type: human lymphoblastoid cell line (LCL)   \n",
       "\n",
       "                                        GSM5765094  \\\n",
       "0                            phenotype: unaffected   \n",
       "1  cell type: human lymphoblastoid cell line (LCL)   \n",
       "\n",
       "                                        GSM5765095  \\\n",
       "0                            phenotype: unaffected   \n",
       "1  cell type: human lymphoblastoid cell line (LCL)   \n",
       "\n",
       "                                        GSM5765096  \\\n",
       "0                            phenotype: unaffected   \n",
       "1  cell type: human lymphoblastoid cell line (LCL)   \n",
       "\n",
       "                                        GSM5765097  \\\n",
       "0                            phenotype: unaffected   \n",
       "1  cell type: human lymphoblastoid cell line (LCL)   \n",
       "\n",
       "                                        GSM5765098  \\\n",
       "0                            phenotype: unaffected   \n",
       "1  cell type: human lymphoblastoid cell line (LCL)   \n",
       "\n",
       "                                        GSM5765099  \n",
       "0                            phenotype: unaffected  \n",
       "1  cell type: human lymphoblastoid cell line (LCL)  \n",
       "\n",
       "[2 rows x 49 columns]"
      ]
     },
     "execution_count": 43,
     "metadata": {},
     "output_type": "execute_result"
    }
   ],
   "source": [
    "clinical_data.head()"
   ]
  },
  {
   "cell_type": "code",
   "execution_count": 40,
   "metadata": {
    "ExecuteTime": {
     "end_time": "2024-01-02T01:03:01.805026160Z",
     "start_time": "2024-01-02T01:03:01.804428154Z"
    },
    "collapsed": false
   },
   "outputs": [
    {
     "data": {
      "text/plain": [
       "{0: ['age: 6.8 years',\n",
       "  'age: 3 years',\n",
       "  'age: 1.8 years',\n",
       "  'age: 4 years',\n",
       "  'age: 2 years',\n",
       "  'age: 1 years',\n",
       "  'age: 2.6 years',\n",
       "  'age: 1.7 years',\n",
       "  'age: 5 years',\n",
       "  'age: 2.3 years',\n",
       "  'age: 4.7 years',\n",
       "  'age: 8 years',\n",
       "  'age: 3.4 years',\n",
       "  'age: 1 month',\n",
       "  'age: 6 months',\n",
       "  'age: 29 days',\n",
       "  'age: 6 years',\n",
       "  'age: 1.5 years',\n",
       "  'age: 10 months',\n",
       "  'age: 3.6 years',\n",
       "  'age: 8 months',\n",
       "  'age: 3 months',\n",
       "  'age: 9.5 years',\n",
       "  'age: 4.5 years',\n",
       "  'age: 16 years',\n",
       "  'age: 5.9 years',\n",
       "  'age: 7 months',\n",
       "  'age: 12 years',\n",
       "  'age: 2.5 years',\n",
       "  'age: 5.6 years'],\n",
       " 1: ['gender: Male', 'gender: Female'],\n",
       " 2: ['phenotype: Developmental delay and Intellectual Disability, Congenital Heart Disease.',\n",
       "  'phenotype: Developmental delay and Central Hypotonia, Microcephaly',\n",
       "  'phenotype: Developmental delay and Congenital heart disease, Dysmorphic Feature',\n",
       "  'phenotype: Developmental delay and Delayed Speech, Dysmorphic Features',\n",
       "  'phenotype: Developmental delay and Dysmorphic Feature, Intellectual Disability',\n",
       "  'phenotype: Developmental delay and Hypotonia, Undescended Testis, Talipes, High Arched Palate',\n",
       "  'phenotype: Developmental delay and Obesity, Congenital Heart Disease, Normal Milestones',\n",
       "  'phenotype: Developmental delay and VSD, Failure to thrive',\n",
       "  'phenotype: Developmental delay and Hypotonia, Cleft Lip, VSD, ASD, Pulmonary Stenosis.',\n",
       "  'phenotype: Developmental delay and Dysmorphic feature',\n",
       "  'phenotype: Developmental delay and Spinal Muscular Atrophy.',\n",
       "  'phenotype: Developmental delay and Microcephaly, Dysmorphic, Brain Atrophy',\n",
       "  'phenotype: Developmental delay and Delayed Speech, Dysmorphic feature',\n",
       "  'phenotype: Developmental delay and Intellectual Disability, Delayed Speech,',\n",
       "  'phenotype: Developmental delay and Delayed Walking, Unstable, Muscle Wasting',\n",
       "  'phenotype: Developmental delay and Congenital Heart Disease',\n",
       "  'phenotype: Developmental delay and Delayed Speech, Delayed Walking, Hypotonia,',\n",
       "  'phenotype: Developmental delay and Dysmorphic feature, Low-set Ears, Closed VSD',\n",
       "  'phenotype: Developmental delay and Hypotonia',\n",
       "  'phenotype: Developmental delay and Ambiguous Genitalia, Dysmorphic',\n",
       "  'phenotype: Developmental delay and Fragile X syndrome',\n",
       "  'phenotype: Developmental delay and Short Stature',\n",
       "  'phenotype: Developmental delay and Developmental Delay',\n",
       "  'phenotype: Developmental delay and Delayed Speech, Dysmorphic Feature, Mental Disability',\n",
       "  'phenotype: Developmental delay and GH Deficiency',\n",
       "  'phenotype: Developmental delay and Congenital heart disease, DiGeorge Syndrome',\n",
       "  'phenotype: Developmental delay and Congenital Heart Disease, ASD, PWS',\n",
       "  'phenotype: Developmental delay and Hirschsprung Disease, Dilated Lat. Ventricle',\n",
       "  'phenotype: Developmental delay and Hypospadias, Undescended Testis, VSD, Dysmorphic features',\n",
       "  'phenotype: Developmental delay and Microcephaly, Intellectual Disability, Dysmorphic'],\n",
       " 3: ['tissue: Peripheral Blood']}"
      ]
     },
     "execution_count": 40,
     "metadata": {},
     "output_type": "execute_result"
    }
   ],
   "source": [
    "clinical_data_unique = get_unique_values_by_row(clinical_data)\n",
    "clinical_data_unique"
   ]
  },
  {
   "cell_type": "markdown",
   "metadata": {
    "ExecuteTime": {
     "end_time": "2023-12-31T03:58:04.978204446Z",
     "start_time": "2023-12-31T03:58:04.922270095Z"
    },
    "collapsed": false
   },
   "source": [
    "Analyze the metadata to determine data relevance and find ways to extract the clinical data.\n",
    "Reference prompt:"
   ]
  },
  {
   "cell_type": "code",
   "execution_count": 33,
   "metadata": {
    "ExecuteTime": {
     "end_time": "2024-01-02T01:03:02.369775044Z",
     "start_time": "2024-01-02T01:03:02.356501629Z"
    },
    "collapsed": false
   },
   "outputs": [
    {
     "data": {
      "text/plain": [
       "'As a biomedical research team, we are selecting datasets to study the association between the human trait \\'Psoriasis\\' and genetic factors, optionally considering the influence of age and gender. After searching the GEO database and parsing the matrix file of a series, we obtained background information and sample characteristics data. We will provide textual information about the dataset background, and a Python dictionary storing a list of unique values for each field of the sample characteristics data. Please carefully review the provided information and answer the following questions about this dataset:\\n1. Does this dataset contain gene expression data? (Note: Pure miRNA data is not suitable.)\\n2. For each of the traits \\'Psoriasis\\', \\'age\\', and \\'gender\\', please address these points:\\n   (1) Is there human data available for this trait?\\n   (2) If so, identify the key in the sample characteristics dictionary where unique values of this trait is recorded. The key is an integer. The trait information might be explicitly recorded, or can be inferred from the field with some biomedical knowledge or understanding about the data collection process.\\n   (3) Choose an appropriate data type (either \\'continuous\\' or \\'binary\\') for each trait. Write a Python function to convert any given value of the trait to this data type. The function should handle inference about the trait value and convert unknown values to None.\\n   Name the functions \\'convert_trait\\', \\'convert_age\\', and \\'convert_gender\\', respectively.\\n\\nBackground information about the dataset:\\n!Series_title\\t\"A validated single-cell-based strategy to identify diagnostic and therapeutic targets in complex diseases\"\\n!Series_summary\\t\"This SuperSeries is composed of the SubSeries listed below.\"\\n!Series_overall_design\\t\"Refer to individual Series\"\\n\\nSample characteristics dictionary (from \"!Sample_characteristics_ch1\", converted to a Python dictionary that stores the unique values for each field):\\n{0: [\\'cell type: CD4+ T cells\\'], 1: [\\'primary diagnosis: ASTHMA\\', \\'primary diagnosis: ATHEROSCLEROSIS\\', \\'primary diagnosis: BREAST_CANCER\\', \\'primary diagnosis: CHRONIC_LYMPHOCYTIC_LEUKEMIA\\', \\'primary diagnosis: CROHN_DISEASE\\', \\'primary diagnosis: ATOPIC_ECZEMA\\', \\'primary diagnosis: HEALTHY_CONTROL\\', \\'primary diagnosis: INFLUENZA\\', \\'primary diagnosis: OBESITY\\', \\'primary diagnosis: PSORIASIS\\', \\'primary diagnosis: SEASONAL_ALLERGIC_RHINITIS\\', \\'primary diagnosis: TYPE_1_DIABETES\\', \\'primary diagnosis: ACUTE_TONSILLITIS\\', \\'primary diagnosis: ULCERATIVE_COLITIS\\', \\'primary diagnosis: Breast cancer\\', \\'primary diagnosis: Control\\'], 2: [\\'Sex: Male\\', \\'diagnosis2: ATOPIC_ECZEMA\\', \\'Sex: Female\\', \\'diagnosis2: ATHEROSCLEROSIS\\', \\'diagnosis2: ASTHMA_OBESITY\\', \\'diagnosis2: ASTHMA\\', \\'diagnosis2: ASTMHA_SEASONAL_ALLERGIC_RHINITIS\\', \\'diagnosis2: OBESITY\\'], 3: [\\'age: 56\\', \\'Sex: Male\\', \\'age: 20\\', \\'age: 51\\', \\'age: 37\\', \\'age: 61\\', \\'age: 31\\', \\'age: 41\\', \\'age: 80\\', \\'age: 53\\', \\'age: 73\\', \\'age: 60\\', \\'age: 76\\', \\'age: 77\\', \\'age: 74\\', \\'age: 69\\', \\'age: 81\\', \\'age: 70\\', \\'age: 82\\', \\'age: 67\\', \\'age: 78\\', \\'age: 72\\', \\'age: 66\\', \\'age: 36\\', \\'age: 45\\', \\'age: 65\\', \\'age: 48\\', \\'age: 50\\', \\'age: 24\\', \\'age: 42\\'], 4: [nan, \\'age: 63\\', \\'age: 74\\', \\'age: 49\\', \\'age: 60\\', \\'age: 68\\', \\'age: 38\\', \\'age: 16\\', \\'age: 12\\', \\'age: 27\\']}\\n'"
      ]
     },
     "execution_count": 33,
     "metadata": {},
     "output_type": "execute_result"
    }
   ],
   "source": [
    "f'''As a biomedical research team, we are selecting datasets to study the association between the human trait \\'{TRAIT}\\' and genetic factors, optionally considering the influence of age and gender. After searching the GEO database and parsing the matrix file of a series, we obtained background information and sample characteristics data. We will provide textual information about the dataset background, and a Python dictionary storing a list of unique values for each field of the sample characteristics data. Please carefully review the provided information and answer the following questions about this dataset:\n",
    "1. Does this dataset contain gene expression data? (Note: Pure miRNA data is not suitable.)\n",
    "2. For each of the traits \\'{TRAIT}\\', 'age', and 'gender', please address these points:\n",
    "   (1) Is there human data available for this trait?\n",
    "   (2) If so, identify the key in the sample characteristics dictionary where unique values of this trait is recorded. The key is an integer. The trait information might be explicitly recorded, or can be inferred from the field with some biomedical knowledge or understanding about the data collection process.\n",
    "   (3) Choose an appropriate data type (either 'continuous' or 'binary') for each trait. Write a Python function to convert any given value of the trait to this data type. The function should handle inference about the trait value and convert unknown values to None.\n",
    "   Name the functions 'convert_trait', 'convert_age', and 'convert_gender', respectively.\n",
    "\n",
    "Background information about the dataset:\n",
    "{background_info}\n",
    "\n",
    "Sample characteristics dictionary (from \"!Sample_characteristics_ch1\", converted to a Python dictionary that stores the unique values for each field):\n",
    "{clinical_data_unique}\n",
    "'''"
   ]
  },
  {
   "cell_type": "markdown",
   "metadata": {
    "ExecuteTime": {
     "end_time": "2023-12-31T03:58:04.978240504Z",
     "start_time": "2023-12-31T03:58:04.922365324Z"
    },
    "collapsed": false
   },
   "source": [
    "Understand and verify the answer from GPT, to assign values to the below variables. Assign None to the 'row_id' variables if relevant data row was not found.\n",
    "Later we need to let GPT format its answer to automatically do these. But given the complexity of this step, let's grow some insight from the free-text answers for now."
   ]
  },
  {
   "cell_type": "code",
   "execution_count": 10,
   "metadata": {
    "ExecuteTime": {
     "end_time": "2024-01-02T01:03:03.079540570Z",
     "start_time": "2024-01-02T01:03:03.073638535Z"
    },
    "collapsed": false
   },
   "outputs": [],
   "source": [
    "is_gene_availabe = True\n",
    "trait_row = 3\n",
    "age_row = 1\n",
    "gender_row = 0\n",
    "\n",
    "trait_type = 'binary'"
   ]
  },
  {
   "cell_type": "code",
   "execution_count": 11,
   "metadata": {
    "ExecuteTime": {
     "end_time": "2024-01-02T01:03:03.572682163Z",
     "start_time": "2024-01-02T01:03:03.559775513Z"
    },
    "collapsed": false
   },
   "outputs": [],
   "source": [
    "is_available = is_gene_availabe and (trait_row is not None)\n",
    "if not is_available:\n",
    "    save_cohort_info(cohort, JSON_PATH, is_available)\n",
    "    print(\"This cohort is not usable. Please skip the following steps and jump to the next accession number.\")"
   ]
  },
  {
   "cell_type": "code",
   "execution_count": 12,
   "metadata": {
    "ExecuteTime": {
     "end_time": "2024-01-02T01:03:03.973964287Z",
     "start_time": "2024-01-02T01:03:03.964958096Z"
    },
    "collapsed": false
   },
   "outputs": [
    {
     "data": {
      "text/plain": [
       "(0, None, 1)"
      ]
     },
     "execution_count": 12,
     "metadata": {},
     "output_type": "execute_result"
    }
   ],
   "source": [
    "def convert_trait(tissue_type):\n",
    "    \"\"\"\n",
    "    Convert tissue type to epilepsy presence (binary).\n",
    "    Assuming epilepsy presence for 'Hippocampus' tissue.\n",
    "    \"\"\"\n",
    "    if tissue_type == 'disease state: Down syndrome (Trisomy 21)':\n",
    "        return 1  # Epilepsy present\n",
    "    else:\n",
    "        return 0  # Epilepsy not present\n",
    "\n",
    "def convert_age(age_string):\n",
    "    \"\"\"\n",
    "    Convert age string to a numerical value.\n",
    "    \"\"\"\n",
    "    if age_string.startswith('age: '):\n",
    "        try:\n",
    "            return int(age_string.split('age: ')[1].rstrip('mos.'))  # Extracting numeric part\n",
    "        except ValueError:\n",
    "            return None  # In case of parsing error\n",
    "    else:\n",
    "        return None  # If age string does not follow expected format\n",
    "\n",
    "def convert_gender(gender_string):\n",
    "    \"\"\"\n",
    "    Convert gender string to a binary representation.\n",
    "    Female -> 0, Male -> 1, Unknown -> None\n",
    "    \"\"\"\n",
    "    if gender_string == 'gender: Female':\n",
    "        return 0\n",
    "    elif gender_string == 'gender: Male':\n",
    "        return 1\n",
    "    else:\n",
    "        return None  # In case of unknown gender\n",
    "\n",
    "# Example usage\n",
    "example_tissue = 'tissue: Hippocampus'\n",
    "example_age = 'age: 23y'\n",
    "example_gender = 'gender: Male'\n",
    "\n",
    "converted_trait = convert_trait(example_tissue)\n",
    "converted_age = convert_age(example_age)\n",
    "converted_gender = convert_gender(example_gender)\n",
    "\n",
    "converted_trait, converted_age, converted_gender"
   ]
  },
  {
   "cell_type": "code",
   "execution_count": 13,
   "metadata": {
    "ExecuteTime": {
     "end_time": "2024-01-02T01:03:04.637878352Z",
     "start_time": "2024-01-02T01:03:04.593886885Z"
    },
    "collapsed": false
   },
   "outputs": [
    {
     "name": "stderr",
     "output_type": "stream",
     "text": [
      "/home/yxcheng/AI4Science_gold_standard/stage1/Jianrong/../utils.py:208: FutureWarning: DataFrame.applymap has been deprecated. Use DataFrame.map instead.\n",
      "  clinical_df = clinical_df.applymap(convert_fn)\n",
      "/home/yxcheng/AI4Science_gold_standard/stage1/Jianrong/../utils.py:208: FutureWarning: DataFrame.applymap has been deprecated. Use DataFrame.map instead.\n",
      "  clinical_df = clinical_df.applymap(convert_fn)\n",
      "/home/yxcheng/AI4Science_gold_standard/stage1/Jianrong/../utils.py:208: FutureWarning: DataFrame.applymap has been deprecated. Use DataFrame.map instead.\n",
      "  clinical_df = clinical_df.applymap(convert_fn)\n"
     ]
    },
    {
     "data": {
      "text/html": [
       "<div>\n",
       "<style scoped>\n",
       "    .dataframe tbody tr th:only-of-type {\n",
       "        vertical-align: middle;\n",
       "    }\n",
       "\n",
       "    .dataframe tbody tr th {\n",
       "        vertical-align: top;\n",
       "    }\n",
       "\n",
       "    .dataframe thead th {\n",
       "        text-align: right;\n",
       "    }\n",
       "</style>\n",
       "<table border=\"1\" class=\"dataframe\">\n",
       "  <thead>\n",
       "    <tr style=\"text-align: right;\">\n",
       "      <th></th>\n",
       "      <th>GSM5319587</th>\n",
       "      <th>GSM5319588</th>\n",
       "      <th>GSM5319589</th>\n",
       "      <th>GSM5319590</th>\n",
       "      <th>GSM5319591</th>\n",
       "      <th>GSM5319592</th>\n",
       "      <th>GSM5319593</th>\n",
       "      <th>GSM5319594</th>\n",
       "      <th>GSM5319595</th>\n",
       "      <th>GSM5319596</th>\n",
       "      <th>...</th>\n",
       "      <th>GSM5319611</th>\n",
       "      <th>GSM5319612</th>\n",
       "      <th>GSM5319613</th>\n",
       "      <th>GSM5319614</th>\n",
       "      <th>GSM5319615</th>\n",
       "      <th>GSM5319616</th>\n",
       "      <th>GSM5319617</th>\n",
       "      <th>GSM5319618</th>\n",
       "      <th>GSM5319619</th>\n",
       "      <th>GSM5319620</th>\n",
       "    </tr>\n",
       "  </thead>\n",
       "  <tbody>\n",
       "    <tr>\n",
       "      <th>Intellectual-Disability</th>\n",
       "      <td>0</td>\n",
       "      <td>1</td>\n",
       "      <td>0</td>\n",
       "      <td>0</td>\n",
       "      <td>1</td>\n",
       "      <td>0</td>\n",
       "      <td>0</td>\n",
       "      <td>1</td>\n",
       "      <td>0</td>\n",
       "      <td>1</td>\n",
       "      <td>...</td>\n",
       "      <td>0</td>\n",
       "      <td>0</td>\n",
       "      <td>1</td>\n",
       "      <td>1</td>\n",
       "      <td>0</td>\n",
       "      <td>0</td>\n",
       "      <td>0</td>\n",
       "      <td>1</td>\n",
       "      <td>1</td>\n",
       "      <td>0</td>\n",
       "    </tr>\n",
       "    <tr>\n",
       "      <th>Age</th>\n",
       "      <td>37</td>\n",
       "      <td>None</td>\n",
       "      <td>38</td>\n",
       "      <td>38</td>\n",
       "      <td>25</td>\n",
       "      <td>30</td>\n",
       "      <td>39</td>\n",
       "      <td>None</td>\n",
       "      <td>42</td>\n",
       "      <td>23</td>\n",
       "      <td>...</td>\n",
       "      <td>41</td>\n",
       "      <td>21</td>\n",
       "      <td>30</td>\n",
       "      <td>10</td>\n",
       "      <td>27</td>\n",
       "      <td>27</td>\n",
       "      <td>15</td>\n",
       "      <td>54</td>\n",
       "      <td>39</td>\n",
       "      <td>39</td>\n",
       "    </tr>\n",
       "    <tr>\n",
       "      <th>Gender</th>\n",
       "      <td>1</td>\n",
       "      <td>1</td>\n",
       "      <td>1</td>\n",
       "      <td>0</td>\n",
       "      <td>0</td>\n",
       "      <td>1</td>\n",
       "      <td>1</td>\n",
       "      <td>1</td>\n",
       "      <td>1</td>\n",
       "      <td>1</td>\n",
       "      <td>...</td>\n",
       "      <td>1</td>\n",
       "      <td>1</td>\n",
       "      <td>0</td>\n",
       "      <td>1</td>\n",
       "      <td>0</td>\n",
       "      <td>0</td>\n",
       "      <td>1</td>\n",
       "      <td>0</td>\n",
       "      <td>1</td>\n",
       "      <td>0</td>\n",
       "    </tr>\n",
       "  </tbody>\n",
       "</table>\n",
       "<p>3 rows × 34 columns</p>\n",
       "</div>"
      ],
      "text/plain": [
       "                         GSM5319587 GSM5319588  GSM5319589  GSM5319590  \\\n",
       "Intellectual-Disability           0          1           0           0   \n",
       "Age                              37       None          38          38   \n",
       "Gender                            1          1           1           0   \n",
       "\n",
       "                         GSM5319591  GSM5319592  GSM5319593 GSM5319594  \\\n",
       "Intellectual-Disability           1           0           0          1   \n",
       "Age                              25          30          39       None   \n",
       "Gender                            0           1           1          1   \n",
       "\n",
       "                         GSM5319595  GSM5319596  ...  GSM5319611  GSM5319612  \\\n",
       "Intellectual-Disability           0           1  ...           0           0   \n",
       "Age                              42          23  ...          41          21   \n",
       "Gender                            1           1  ...           1           1   \n",
       "\n",
       "                         GSM5319613  GSM5319614  GSM5319615  GSM5319616  \\\n",
       "Intellectual-Disability           1           1           0           0   \n",
       "Age                              30          10          27          27   \n",
       "Gender                            0           1           0           0   \n",
       "\n",
       "                         GSM5319617  GSM5319618  GSM5319619  GSM5319620  \n",
       "Intellectual-Disability           0           1           1           0  \n",
       "Age                              15          54          39          39  \n",
       "Gender                            1           0           1           0  \n",
       "\n",
       "[3 rows x 34 columns]"
      ]
     },
     "execution_count": 13,
     "metadata": {},
     "output_type": "execute_result"
    }
   ],
   "source": [
    "selected_clinical_data = geo_select_clinical_features(clinical_data, TRAIT, trait_row, convert_trait, age_row=age_row,\n",
    "                                                      convert_age=convert_age, gender_row=gender_row,\n",
    "                                                      convert_gender=convert_gender)\n",
    "selected_clinical_data.head()"
   ]
  },
  {
   "cell_type": "markdown",
   "metadata": {
    "ExecuteTime": {
     "end_time": "2023-12-31T03:58:04.978664193Z",
     "start_time": "2023-12-31T03:58:04.966117261Z"
    },
    "collapsed": false
   },
   "source": [
    "### Genetic data preprocessing and final filtering"
   ]
  },
  {
   "cell_type": "code",
   "execution_count": 14,
   "metadata": {
    "ExecuteTime": {
     "end_time": "2024-01-02T01:03:06.246474256Z",
     "start_time": "2024-01-02T01:03:05.670354792Z"
    },
    "collapsed": false
   },
   "outputs": [
    {
     "data": {
      "text/html": [
       "<div>\n",
       "<style scoped>\n",
       "    .dataframe tbody tr th:only-of-type {\n",
       "        vertical-align: middle;\n",
       "    }\n",
       "\n",
       "    .dataframe tbody tr th {\n",
       "        vertical-align: top;\n",
       "    }\n",
       "\n",
       "    .dataframe thead th {\n",
       "        text-align: right;\n",
       "    }\n",
       "</style>\n",
       "<table border=\"1\" class=\"dataframe\">\n",
       "  <thead>\n",
       "    <tr style=\"text-align: right;\">\n",
       "      <th></th>\n",
       "      <th>GSM5319587</th>\n",
       "      <th>GSM5319588</th>\n",
       "      <th>GSM5319589</th>\n",
       "      <th>GSM5319590</th>\n",
       "      <th>GSM5319591</th>\n",
       "      <th>GSM5319592</th>\n",
       "      <th>GSM5319593</th>\n",
       "      <th>GSM5319594</th>\n",
       "      <th>GSM5319595</th>\n",
       "      <th>GSM5319596</th>\n",
       "      <th>...</th>\n",
       "      <th>GSM5319611</th>\n",
       "      <th>GSM5319612</th>\n",
       "      <th>GSM5319613</th>\n",
       "      <th>GSM5319614</th>\n",
       "      <th>GSM5319615</th>\n",
       "      <th>GSM5319616</th>\n",
       "      <th>GSM5319617</th>\n",
       "      <th>GSM5319618</th>\n",
       "      <th>GSM5319619</th>\n",
       "      <th>GSM5319620</th>\n",
       "    </tr>\n",
       "    <tr>\n",
       "      <th>ID</th>\n",
       "      <th></th>\n",
       "      <th></th>\n",
       "      <th></th>\n",
       "      <th></th>\n",
       "      <th></th>\n",
       "      <th></th>\n",
       "      <th></th>\n",
       "      <th></th>\n",
       "      <th></th>\n",
       "      <th></th>\n",
       "      <th></th>\n",
       "      <th></th>\n",
       "      <th></th>\n",
       "      <th></th>\n",
       "      <th></th>\n",
       "      <th></th>\n",
       "      <th></th>\n",
       "      <th></th>\n",
       "      <th></th>\n",
       "      <th></th>\n",
       "      <th></th>\n",
       "    </tr>\n",
       "  </thead>\n",
       "  <tbody>\n",
       "    <tr>\n",
       "      <th>cg00000029</th>\n",
       "      <td>0.702123</td>\n",
       "      <td>0.693371</td>\n",
       "      <td>0.651761</td>\n",
       "      <td>0.537299</td>\n",
       "      <td>0.697758</td>\n",
       "      <td>0.627569</td>\n",
       "      <td>0.626706</td>\n",
       "      <td>0.670315</td>\n",
       "      <td>0.668162</td>\n",
       "      <td>0.726896</td>\n",
       "      <td>...</td>\n",
       "      <td>0.709689</td>\n",
       "      <td>0.741576</td>\n",
       "      <td>0.656961</td>\n",
       "      <td>0.705426</td>\n",
       "      <td>0.642242</td>\n",
       "      <td>0.631936</td>\n",
       "      <td>0.717294</td>\n",
       "      <td>0.700089</td>\n",
       "      <td>0.663972</td>\n",
       "      <td>0.637874</td>\n",
       "    </tr>\n",
       "    <tr>\n",
       "      <th>cg00000108</th>\n",
       "      <td>0.940050</td>\n",
       "      <td>0.952013</td>\n",
       "      <td>0.933736</td>\n",
       "      <td>0.943061</td>\n",
       "      <td>0.944789</td>\n",
       "      <td>0.938310</td>\n",
       "      <td>0.952335</td>\n",
       "      <td>0.954303</td>\n",
       "      <td>0.946712</td>\n",
       "      <td>0.946946</td>\n",
       "      <td>...</td>\n",
       "      <td>0.954381</td>\n",
       "      <td>0.950791</td>\n",
       "      <td>0.941069</td>\n",
       "      <td>0.943805</td>\n",
       "      <td>0.936292</td>\n",
       "      <td>0.941607</td>\n",
       "      <td>0.924271</td>\n",
       "      <td>0.951583</td>\n",
       "      <td>0.949621</td>\n",
       "      <td>0.953637</td>\n",
       "    </tr>\n",
       "    <tr>\n",
       "      <th>cg00000109</th>\n",
       "      <td>0.870106</td>\n",
       "      <td>0.884304</td>\n",
       "      <td>0.852759</td>\n",
       "      <td>0.884553</td>\n",
       "      <td>0.886271</td>\n",
       "      <td>0.862609</td>\n",
       "      <td>0.898164</td>\n",
       "      <td>0.880870</td>\n",
       "      <td>0.902023</td>\n",
       "      <td>0.883341</td>\n",
       "      <td>...</td>\n",
       "      <td>0.817840</td>\n",
       "      <td>0.856216</td>\n",
       "      <td>0.895021</td>\n",
       "      <td>0.829832</td>\n",
       "      <td>0.890488</td>\n",
       "      <td>0.882086</td>\n",
       "      <td>0.836403</td>\n",
       "      <td>0.865641</td>\n",
       "      <td>0.851272</td>\n",
       "      <td>0.852899</td>\n",
       "    </tr>\n",
       "    <tr>\n",
       "      <th>cg00000165</th>\n",
       "      <td>0.214293</td>\n",
       "      <td>0.234931</td>\n",
       "      <td>0.234927</td>\n",
       "      <td>0.196809</td>\n",
       "      <td>0.210050</td>\n",
       "      <td>0.137444</td>\n",
       "      <td>0.208228</td>\n",
       "      <td>0.215354</td>\n",
       "      <td>0.190145</td>\n",
       "      <td>0.210846</td>\n",
       "      <td>...</td>\n",
       "      <td>0.191836</td>\n",
       "      <td>0.163157</td>\n",
       "      <td>0.203063</td>\n",
       "      <td>0.265601</td>\n",
       "      <td>0.208227</td>\n",
       "      <td>0.232426</td>\n",
       "      <td>0.211118</td>\n",
       "      <td>0.243064</td>\n",
       "      <td>0.251954</td>\n",
       "      <td>0.196533</td>\n",
       "    </tr>\n",
       "    <tr>\n",
       "      <th>cg00000236</th>\n",
       "      <td>0.830271</td>\n",
       "      <td>0.817191</td>\n",
       "      <td>0.819122</td>\n",
       "      <td>0.731896</td>\n",
       "      <td>0.827410</td>\n",
       "      <td>0.824601</td>\n",
       "      <td>0.796264</td>\n",
       "      <td>0.860995</td>\n",
       "      <td>0.841182</td>\n",
       "      <td>0.856055</td>\n",
       "      <td>...</td>\n",
       "      <td>0.847079</td>\n",
       "      <td>0.849355</td>\n",
       "      <td>0.712480</td>\n",
       "      <td>0.789161</td>\n",
       "      <td>0.822209</td>\n",
       "      <td>0.822677</td>\n",
       "      <td>0.821650</td>\n",
       "      <td>0.746469</td>\n",
       "      <td>0.790336</td>\n",
       "      <td>0.755776</td>\n",
       "    </tr>\n",
       "  </tbody>\n",
       "</table>\n",
       "<p>5 rows × 34 columns</p>\n",
       "</div>"
      ],
      "text/plain": [
       "            GSM5319587  GSM5319588  GSM5319589  GSM5319590  GSM5319591  \\\n",
       "ID                                                                       \n",
       "cg00000029    0.702123    0.693371    0.651761    0.537299    0.697758   \n",
       "cg00000108    0.940050    0.952013    0.933736    0.943061    0.944789   \n",
       "cg00000109    0.870106    0.884304    0.852759    0.884553    0.886271   \n",
       "cg00000165    0.214293    0.234931    0.234927    0.196809    0.210050   \n",
       "cg00000236    0.830271    0.817191    0.819122    0.731896    0.827410   \n",
       "\n",
       "            GSM5319592  GSM5319593  GSM5319594  GSM5319595  GSM5319596  ...  \\\n",
       "ID                                                                      ...   \n",
       "cg00000029    0.627569    0.626706    0.670315    0.668162    0.726896  ...   \n",
       "cg00000108    0.938310    0.952335    0.954303    0.946712    0.946946  ...   \n",
       "cg00000109    0.862609    0.898164    0.880870    0.902023    0.883341  ...   \n",
       "cg00000165    0.137444    0.208228    0.215354    0.190145    0.210846  ...   \n",
       "cg00000236    0.824601    0.796264    0.860995    0.841182    0.856055  ...   \n",
       "\n",
       "            GSM5319611  GSM5319612  GSM5319613  GSM5319614  GSM5319615  \\\n",
       "ID                                                                       \n",
       "cg00000029    0.709689    0.741576    0.656961    0.705426    0.642242   \n",
       "cg00000108    0.954381    0.950791    0.941069    0.943805    0.936292   \n",
       "cg00000109    0.817840    0.856216    0.895021    0.829832    0.890488   \n",
       "cg00000165    0.191836    0.163157    0.203063    0.265601    0.208227   \n",
       "cg00000236    0.847079    0.849355    0.712480    0.789161    0.822209   \n",
       "\n",
       "            GSM5319616  GSM5319617  GSM5319618  GSM5319619  GSM5319620  \n",
       "ID                                                                      \n",
       "cg00000029    0.631936    0.717294    0.700089    0.663972    0.637874  \n",
       "cg00000108    0.941607    0.924271    0.951583    0.949621    0.953637  \n",
       "cg00000109    0.882086    0.836403    0.865641    0.851272    0.852899  \n",
       "cg00000165    0.232426    0.211118    0.243064    0.251954    0.196533  \n",
       "cg00000236    0.822677    0.821650    0.746469    0.790336    0.755776  \n",
       "\n",
       "[5 rows x 34 columns]"
      ]
     },
     "execution_count": 14,
     "metadata": {},
     "output_type": "execute_result"
    }
   ],
   "source": [
    "genetic_data = get_genetic_data(matrix_file)\n",
    "genetic_data.head()"
   ]
  },
  {
   "cell_type": "code",
   "execution_count": 15,
   "metadata": {
    "ExecuteTime": {
     "end_time": "2024-01-02T01:03:06.250833943Z",
     "start_time": "2024-01-02T01:03:06.246758837Z"
    },
    "collapsed": false
   },
   "outputs": [
    {
     "data": {
      "text/plain": [
       "['cg00000029',\n",
       " 'cg00000108',\n",
       " 'cg00000109',\n",
       " 'cg00000165',\n",
       " 'cg00000236',\n",
       " 'cg00000289',\n",
       " 'cg00000292',\n",
       " 'cg00000321',\n",
       " 'cg00000363',\n",
       " 'cg00000622',\n",
       " 'cg00000658',\n",
       " 'cg00000714',\n",
       " 'cg00000721',\n",
       " 'cg00000734',\n",
       " 'cg00000769',\n",
       " 'cg00000807',\n",
       " 'cg00000884',\n",
       " 'cg00000905',\n",
       " 'cg00000924',\n",
       " 'cg00000948']"
      ]
     },
     "execution_count": 15,
     "metadata": {},
     "output_type": "execute_result"
    }
   ],
   "source": [
    "gene_row_ids = genetic_data.index[:20].tolist()\n",
    "gene_row_ids"
   ]
  },
  {
   "cell_type": "markdown",
   "metadata": {
    "ExecuteTime": {
     "end_time": "2023-12-31T03:30:41.595335164Z",
     "start_time": "2023-12-31T03:30:41.513232329Z"
    },
    "collapsed": false
   },
   "source": [
    "Check if the gene dataset requires mapping to get the gene symbols corresponding to each data row."
   ]
  },
  {
   "cell_type": "markdown",
   "metadata": {
    "collapsed": false
   },
   "source": [
    "Reference prompt:"
   ]
  },
  {
   "cell_type": "code",
   "execution_count": 16,
   "metadata": {
    "ExecuteTime": {
     "end_time": "2024-01-02T01:03:07.586216481Z",
     "start_time": "2024-01-02T01:03:07.574527035Z"
    },
    "collapsed": false
   },
   "outputs": [
    {
     "data": {
      "text/plain": [
       "\"\\nBelow are the row headers of a gene expression dataset in GEO. Based on your biomedical knowledge, are they human gene symbols, or are they some other identifiers that need to be mapped to gene symbols? Your answer should be concluded by starting a new line and strictly following this format:\\nrequires_gene_mapping = (True or False)\\n\\nRow headers:\\n['cg00000029', 'cg00000108', 'cg00000109', 'cg00000165', 'cg00000236', 'cg00000289', 'cg00000292', 'cg00000321', 'cg00000363', 'cg00000622', 'cg00000658', 'cg00000714', 'cg00000721', 'cg00000734', 'cg00000769', 'cg00000807', 'cg00000884', 'cg00000905', 'cg00000924', 'cg00000948']\\n\""
      ]
     },
     "execution_count": 16,
     "metadata": {},
     "output_type": "execute_result"
    }
   ],
   "source": [
    "f'''\n",
    "Below are the row headers of a gene expression dataset in GEO. Based on your biomedical knowledge, are they human gene symbols, or are they some other identifiers that need to be mapped to gene symbols? Your answer should be concluded by starting a new line and strictly following this format:\n",
    "requires_gene_mapping = (True or False)\n",
    "\n",
    "Row headers:\n",
    "{gene_row_ids}\n",
    "'''"
   ]
  },
  {
   "cell_type": "markdown",
   "metadata": {
    "collapsed": false
   },
   "source": [
    "If not required, jump directly to the gene normalization step"
   ]
  },
  {
   "cell_type": "code",
   "execution_count": 17,
   "metadata": {
    "ExecuteTime": {
     "end_time": "2024-01-02T01:03:08.263712538Z",
     "start_time": "2024-01-02T01:03:08.260656314Z"
    },
    "collapsed": false
   },
   "outputs": [],
   "source": [
    "requires_gene_mapping = True"
   ]
  },
  {
   "cell_type": "code",
   "execution_count": 18,
   "metadata": {
    "ExecuteTime": {
     "end_time": "2024-01-02T01:03:33.822550310Z",
     "start_time": "2024-01-02T01:03:08.648958912Z"
    },
    "collapsed": false
   },
   "outputs": [
    {
     "name": "stdout",
     "output_type": "stream",
     "text": [
      "{'ID': ['cg00035864', 'cg00050873', 'cg00061679', 'cg00063477', 'cg00121626'], 'Name': ['cg00035864', 'cg00050873', 'cg00061679', 'cg00063477', 'cg00121626'], 'AddressA_ID': ['31729416', '32735311', '28780415', '16712347', '19779393'], 'AlleleA_ProbeSeq': ['AAAACACTAACAATCTTATCCACATAAACCCTTAAATTTATCTCAAATTC', 'ACAAAAAAACAACACACAACTATAATAATTTTTAAAATAAATAAACCCCA', 'AAAACATTAAAAAACTAATTCACTACTATTTAATTACTTTATTTTCCATC', 'TATTCTTCCACACAAAATACTAAACRTATATTTACAAAAATACTTCCATC', 'AAAACTAATAAAAATAACTTACAAACCAAATACTATACCCTACAACTCTC'], 'AddressB_ID': [nan, 31717405.0, nan, nan, nan], 'AlleleB_ProbeSeq': [nan, 'ACGAAAAAACAACGCACAACTATAATAATTTTTAAAATAAATAAACCCCG', nan, nan, nan], 'Infinium_Design_Type': ['II', 'I', 'II', 'II', 'II'], 'Next_Base': [nan, 'A', nan, nan, nan], 'Color_Channel': [nan, 'Red', nan, nan, nan], 'Forward_Sequence': ['AATCCAAAGATGATGGAGGAGTGCCCGCTCATGATGTGAAGTACCTGCTCAGCTGGAAAC[CG]AATTTGAGATAAATTCAAGGGTCTATGTGGACAAGACTGCTAGTGTCTCTCTCTGGATTG', 'TATCTCTGTCTGGCGAGGAGGCAACGCACAACTGTGGTGGTTTTTGGAGTGGGTGGACCC[CG]GCCAAGACGGCCTGGGCTGACCAGAGACGGGAGGCAGAAAAAGTGGGCAGGTGGTTGCAG', 'TCAACAAATGAGAGACATTGAAGAACTAATTCACTACTATTTGGTTACTTTATTTTCCAT[CG]AAGAAAACCTCTTTTTAAAAACTAACACATAAATAAAATGAACGAAGAACAAACTAAACG', 'CTCCTGTACTTGTTCATTAAATAATGATTCCTTGGATATACCAAGTCTGGATAGCGGATT[CG]ATGGAAGCATTTTTGTAAATATACGTTCAGTATTTTGTGTGGAAGAACACAATCTAGCTG', 'AGGTGAATGAAGAGACTAATGGGAGTGGCTTGCAAGCCAGGTACTGTGCCCTACAACTCT[CG]CGCTGCCACAAAAAGCCAATTAACGAAGCAAACTGTTTTATCTTTTCCTCTCCCCAGAAG'], 'Genome_Build': [37.0, 37.0, 37.0, 37.0, 37.0], 'CHR': ['Y', 'Y', 'Y', 'Y', 'Y'], 'MAPINFO': [8553009.0, 9363356.0, 25314171.0, 22741795.0, 21664296.0], 'SourceSeq': ['AGACACTAGCAGTCTTGTCCACATAGACCCTTGAATTTATCTCAAATTCG', 'CGGGGTCCACCCACTCCAAAAACCACCACAGTTGTGCGTTGCCTCCTCGC', 'CGATGGAAAATAAAGTAACCAAATAGTAGTGAATTAGTTCTTCAATGTCT', 'CGATGGAAGCATTTTTGTAAATATACGTTCAGTATTTTGTGTGGAAGAAC', 'AGACTAATGGGAGTGGCTTGCAAGCCAGGTACTGTGCCCTACAACTCTCG'], 'Chromosome_36': ['Y', 'Y', 'Y', 'Y', 'Y'], 'Coordinate_36': ['8613009', '9973356', '23723559', '21151183', '20123684'], 'Strand': ['F', 'R', 'R', 'F', 'R'], 'Probe_SNPs': [nan, nan, nan, 'rs9341313', nan], 'Probe_SNPs_10': [nan, nan, nan, 'rs13447379', nan], 'Random_Loci': [nan, nan, nan, nan, nan], 'Methyl27_Loci': [nan, nan, nan, nan, nan], 'UCSC_RefGene_Name': ['TTTY18', 'TSPY4;FAM197Y2', 'DAZ1;DAZ4;DAZ4', 'EIF1AY', 'BCORL2'], 'UCSC_RefGene_Accession': ['NR_001550', 'NM_001164471;NR_001553', 'NM_004081;NM_020420;NM_001005375', 'NM_004681', 'NR_002923'], 'UCSC_RefGene_Group': ['TSS1500', 'Body;TSS1500', 'Body;Body;Body', 'Body', 'Body'], 'UCSC_CpG_Islands_Name': [nan, 'chrY:9363680-9363943', nan, 'chrY:22737825-22738052', 'chrY:21664481-21665063'], 'Relation_to_UCSC_CpG_Island': [nan, 'N_Shore', nan, 'S_Shelf', 'N_Shore'], 'Phantom': [nan, nan, nan, nan, nan], 'DMR': [nan, nan, nan, nan, nan], 'Enhancer': [nan, nan, nan, nan, nan], 'HMM_Island': [nan, 'Y:9973136-9976273', nan, nan, nan], 'Regulatory_Feature_Name': [nan, nan, nan, nan, nan], 'Regulatory_Feature_Group': [nan, nan, nan, nan, nan], 'DHS': [nan, nan, nan, nan, nan], 'RANGE_START': [8553009.0, 9363356.0, 25314171.0, 22741795.0, 21664296.0], 'RANGE_END': [8553132.0, 9363479.0, 25314294.0, 22741918.0, 21664419.0], 'RANGE_GB': ['NC_000024.9', 'NC_000024.9', 'NC_000024.9', 'NC_000024.9', 'NC_000024.9'], 'SPOT_ID': [nan, nan, nan, nan, nan]}\n"
     ]
    }
   ],
   "source": [
    "if requires_gene_mapping:\n",
    "    gene_annotation = get_gene_annotation(soft_file)\n",
    "    gene_annotation_summary = preview_df(gene_annotation)\n",
    "    print(gene_annotation_summary)"
   ]
  },
  {
   "cell_type": "markdown",
   "metadata": {
    "ExecuteTime": {
     "end_time": "2023-12-31T03:58:04.978931927Z",
     "start_time": "2023-12-31T03:58:04.966328339Z"
    },
    "collapsed": false
   },
   "source": [
    "Observe the first few cells in the ID column of the gene annotation dataframe, to find the names of columns that store the gene probe IDs and gene symbols respectively.\n",
    "Reference prompt:"
   ]
  },
  {
   "cell_type": "code",
   "execution_count": 19,
   "metadata": {
    "ExecuteTime": {
     "end_time": "2024-01-02T01:03:33.822912446Z",
     "start_time": "2024-01-02T01:03:33.804491826Z"
    },
    "collapsed": false
   },
   "outputs": [
    {
     "name": "stdout",
     "output_type": "stream",
     "text": [
      "\n",
      "    As a biomedical research team, we extracted the gene annotation data from a series in the GEO database, and saved it to a Python dictionary. Please read the dictionary, and decide which key stores the ID of the probe, and which key stores the gene symbols. Please strict follow this format in your answer:\n",
      "    probe_name_key = 'key_name1'\n",
      "    gene_name_key = 'key_name2'\n",
      "\n",
      "    Gene annotation dictionary:\n",
      "    {'ID': ['cg00035864', 'cg00050873', 'cg00061679', 'cg00063477', 'cg00121626'], 'Name': ['cg00035864', 'cg00050873', 'cg00061679', 'cg00063477', 'cg00121626'], 'AddressA_ID': ['31729416', '32735311', '28780415', '16712347', '19779393'], 'AlleleA_ProbeSeq': ['AAAACACTAACAATCTTATCCACATAAACCCTTAAATTTATCTCAAATTC', 'ACAAAAAAACAACACACAACTATAATAATTTTTAAAATAAATAAACCCCA', 'AAAACATTAAAAAACTAATTCACTACTATTTAATTACTTTATTTTCCATC', 'TATTCTTCCACACAAAATACTAAACRTATATTTACAAAAATACTTCCATC', 'AAAACTAATAAAAATAACTTACAAACCAAATACTATACCCTACAACTCTC'], 'AddressB_ID': [nan, 31717405.0, nan, nan, nan], 'AlleleB_ProbeSeq': [nan, 'ACGAAAAAACAACGCACAACTATAATAATTTTTAAAATAAATAAACCCCG', nan, nan, nan], 'Infinium_Design_Type': ['II', 'I', 'II', 'II', 'II'], 'Next_Base': [nan, 'A', nan, nan, nan], 'Color_Channel': [nan, 'Red', nan, nan, nan], 'Forward_Sequence': ['AATCCAAAGATGATGGAGGAGTGCCCGCTCATGATGTGAAGTACCTGCTCAGCTGGAAAC[CG]AATTTGAGATAAATTCAAGGGTCTATGTGGACAAGACTGCTAGTGTCTCTCTCTGGATTG', 'TATCTCTGTCTGGCGAGGAGGCAACGCACAACTGTGGTGGTTTTTGGAGTGGGTGGACCC[CG]GCCAAGACGGCCTGGGCTGACCAGAGACGGGAGGCAGAAAAAGTGGGCAGGTGGTTGCAG', 'TCAACAAATGAGAGACATTGAAGAACTAATTCACTACTATTTGGTTACTTTATTTTCCAT[CG]AAGAAAACCTCTTTTTAAAAACTAACACATAAATAAAATGAACGAAGAACAAACTAAACG', 'CTCCTGTACTTGTTCATTAAATAATGATTCCTTGGATATACCAAGTCTGGATAGCGGATT[CG]ATGGAAGCATTTTTGTAAATATACGTTCAGTATTTTGTGTGGAAGAACACAATCTAGCTG', 'AGGTGAATGAAGAGACTAATGGGAGTGGCTTGCAAGCCAGGTACTGTGCCCTACAACTCT[CG]CGCTGCCACAAAAAGCCAATTAACGAAGCAAACTGTTTTATCTTTTCCTCTCCCCAGAAG'], 'Genome_Build': [37.0, 37.0, 37.0, 37.0, 37.0], 'CHR': ['Y', 'Y', 'Y', 'Y', 'Y'], 'MAPINFO': [8553009.0, 9363356.0, 25314171.0, 22741795.0, 21664296.0], 'SourceSeq': ['AGACACTAGCAGTCTTGTCCACATAGACCCTTGAATTTATCTCAAATTCG', 'CGGGGTCCACCCACTCCAAAAACCACCACAGTTGTGCGTTGCCTCCTCGC', 'CGATGGAAAATAAAGTAACCAAATAGTAGTGAATTAGTTCTTCAATGTCT', 'CGATGGAAGCATTTTTGTAAATATACGTTCAGTATTTTGTGTGGAAGAAC', 'AGACTAATGGGAGTGGCTTGCAAGCCAGGTACTGTGCCCTACAACTCTCG'], 'Chromosome_36': ['Y', 'Y', 'Y', 'Y', 'Y'], 'Coordinate_36': ['8613009', '9973356', '23723559', '21151183', '20123684'], 'Strand': ['F', 'R', 'R', 'F', 'R'], 'Probe_SNPs': [nan, nan, nan, 'rs9341313', nan], 'Probe_SNPs_10': [nan, nan, nan, 'rs13447379', nan], 'Random_Loci': [nan, nan, nan, nan, nan], 'Methyl27_Loci': [nan, nan, nan, nan, nan], 'UCSC_RefGene_Name': ['TTTY18', 'TSPY4;FAM197Y2', 'DAZ1;DAZ4;DAZ4', 'EIF1AY', 'BCORL2'], 'UCSC_RefGene_Accession': ['NR_001550', 'NM_001164471;NR_001553', 'NM_004081;NM_020420;NM_001005375', 'NM_004681', 'NR_002923'], 'UCSC_RefGene_Group': ['TSS1500', 'Body;TSS1500', 'Body;Body;Body', 'Body', 'Body'], 'UCSC_CpG_Islands_Name': [nan, 'chrY:9363680-9363943', nan, 'chrY:22737825-22738052', 'chrY:21664481-21665063'], 'Relation_to_UCSC_CpG_Island': [nan, 'N_Shore', nan, 'S_Shelf', 'N_Shore'], 'Phantom': [nan, nan, nan, nan, nan], 'DMR': [nan, nan, nan, nan, nan], 'Enhancer': [nan, nan, nan, nan, nan], 'HMM_Island': [nan, 'Y:9973136-9976273', nan, nan, nan], 'Regulatory_Feature_Name': [nan, nan, nan, nan, nan], 'Regulatory_Feature_Group': [nan, nan, nan, nan, nan], 'DHS': [nan, nan, nan, nan, nan], 'RANGE_START': [8553009.0, 9363356.0, 25314171.0, 22741795.0, 21664296.0], 'RANGE_END': [8553132.0, 9363479.0, 25314294.0, 22741918.0, 21664419.0], 'RANGE_GB': ['NC_000024.9', 'NC_000024.9', 'NC_000024.9', 'NC_000024.9', 'NC_000024.9'], 'SPOT_ID': [nan, nan, nan, nan, nan]}\n",
      "    \n"
     ]
    }
   ],
   "source": [
    "if requires_gene_mapping:\n",
    "    print(f'''\n",
    "    As a biomedical research team, we extracted the gene annotation data from a series in the GEO database, and saved it to a Python dictionary. Please read the dictionary, and decide which key stores the ID of the probe, and which key stores the gene symbols. Please strict follow this format in your answer:\n",
    "    probe_name_key = 'key_name1'\n",
    "    gene_name_key = 'key_name2'\n",
    "\n",
    "    Gene annotation dictionary:\n",
    "    {gene_annotation_summary}\n",
    "    ''')"
   ]
  },
  {
   "cell_type": "code",
   "execution_count": 20,
   "metadata": {
    "ExecuteTime": {
     "end_time": "2024-01-02T01:03:35.113359369Z",
     "start_time": "2024-01-02T01:03:33.804666371Z"
    },
    "collapsed": false
   },
   "outputs": [],
   "source": [
    "if requires_gene_mapping:\n",
    "    probe_id_key = 'ID'\n",
    "    gene_symb_key = 'UCSC_RefGene_Name'\n",
    "    gene_mapping = get_gene_mapping(gene_annotation, probe_id_key, gene_symb_key)\n",
    "    genetic_data = apply_gene_mapping(genetic_data, gene_mapping)"
   ]
  },
  {
   "cell_type": "code",
   "execution_count": 21,
   "metadata": {
    "ExecuteTime": {
     "end_time": "2024-01-02T01:03:35.156584675Z",
     "start_time": "2024-01-02T01:03:35.114652593Z"
    },
    "collapsed": false
   },
   "outputs": [
    {
     "name": "stderr",
     "output_type": "stream",
     "text": [
      "17 input query terms found dup hits:\t[('ABCA11P', 2), ('ABCA17P', 2), ('ABCC13', 2), ('ABCC6P1', 2), ('ABCC6P2', 3), ('ADAM21P1', 2), ('A\n",
      "72 input query terms found no hit:\t['A2BP1', 'A2LD1', 'AACSL', 'AARS', 'ABP1', 'ACCN1', 'ACCN2', 'ACCN3', 'ACCN4', 'ACCN5', 'ACN9', 'AC\n",
      "7 input query terms found dup hits:\t[('ATP6AP1L', 2), ('ATXN8OS', 2), ('BAGE2', 2), ('BIRC8', 2), ('BMS1P1', 2), ('BMS1P4', 2), ('BRD7P3\n",
      "365 input query terms found no hit:\t['ARNTL2', 'ARPM1', 'ARPP-21', 'ARSE', 'ASAM', 'ASAP1IT1', 'ASFMR1', 'ASNA1', 'ATHL1', 'ATP5A1', 'AT\n",
      "2 input query terms found dup hits:\t[('C2orf83', 2), ('C3P1', 2)]\n",
      "642 input query terms found no hit:\t['C17orf56', 'C17orf57', 'C17orf59', 'C17orf60', 'C17orf61', 'C17orf62', 'C17orf63', 'C17orf64', 'C1\n",
      "7 input query terms found dup hits:\t[('CATSPER2P1', 2), ('CCDC144NL', 2), ('CCT6P1', 2), ('CDR1', 2), ('CECR7', 2), ('CLCA3P', 2), ('CLE\n",
      "101 input query terms found no hit:\t['CBARA1', 'CBWD1', 'CBWD2', 'CBWD3', 'CBWD5', 'CBWD6', 'CCBL1', 'CCBL2', 'CCBP2', 'CCDC101', 'CCDC1\n",
      "7 input query terms found dup hits:\t[('COL6A4P2', 2), ('CXADRP2', 3), ('CYP4Z2P', 2), ('DEFB122', 2), ('DHRS4L1', 3), ('DIRC1', 2), ('DL\n",
      "94 input query terms found no hit:\t['COL29A1', 'COL4A3BP', 'COPG', 'COX4NB', 'CP110', 'CPSF3L', 'CRAMP1L', 'CRIPAK', 'CROCCL1', 'CROCCL\n",
      "13 input query terms found dup hits:\t[('DNAJB3', 2), ('DNM1P35', 2), ('DPRXP4', 2), ('DPY19L2P1', 2), ('DPY19L2P2', 3), ('DPY19L2P4', 2),\n",
      "148 input query terms found no hit:\t['DOM3Z', 'DOPEY1', 'DOPEY2', 'DPCR1', 'DPH3B', 'DSCR3', 'DSCR6', 'DULLARD', 'DUPD1', 'DUS2L', 'DUSP\n",
      "15 input query terms found dup hits:\t[('FAM27B', 2), ('FAM41AY1', 2), ('FAM41AY2', 2), ('FAM66A', 2), ('FAM66D', 3), ('FAM74A3', 2), ('FC\n",
      "199 input query terms found no hit:\t['FAM19A3', 'FAM19A4', 'FAM19A5', 'FAM21A', 'FAM21B', 'FAM21C', 'FAM22A', 'FAM22D', 'FAM22F', 'FAM22\n",
      "16 input query terms found dup hits:\t[('GLRA4', 2), ('GLYCAM1', 2), ('GNRHR2', 2), ('GTF2IP1', 2), ('GUCY1B2', 2), ('HAR1A', 2), ('HBBP1'\n",
      "189 input query terms found no hit:\t['GIYD1', 'GIYD2', 'GK3P', 'GLT25D1', 'GLT25D2', 'GLTPD1', 'GLTSCR1', 'GLTSCR2', 'GMCL1L', 'GNASAS',\n",
      "6 input query terms found dup hits:\t[('HSD17B7P2', 2), ('HSP90AB2P', 2), ('HSP90AB4P', 2), ('ID2B', 2), ('IFITM4P', 7), ('INGX', 2)]\n",
      "156 input query terms found no hit:\t['HPVC1', 'HRASLS', 'HRASLS2', 'HRASLS5', 'HRNBP3', 'HRSP12', 'HSFYP1', 'HSN2', 'HSPB11', 'HSPC072',\n",
      "2 input query terms found dup hits:\t[('KIR3DX1', 5), ('KLKP1', 2)]\n",
      "362 input query terms found no hit:\t['KIAA1826', 'KIAA1841', 'KIAA1875', 'KIAA1908', 'KIAA1919', 'KIAA1949', 'KIAA1967', 'KIAA1984', 'KI\n",
      "7 input query terms found dup hits:\t[('LPAL2', 2), ('LRP5L', 2), ('LY6G6E', 8), ('LYPLA2P1', 6), ('MBL1P', 2), ('MEG8', 2), ('MEIS3P1', \n",
      "307 input query terms found no hit:\t['LOC388428', 'LOC388499', 'LOC388588', 'LOC388692', 'LOC388789', 'LOC388796', 'LOC388946', 'LOC3889\n",
      "13 input query terms found dup hits:\t[('MIR320B2', 2), ('MIR320C2', 2), ('MIR320D1', 2), ('MIR320D2', 2), ('MMD2', 2), ('MORF4', 2), ('MR\n",
      "82 input query terms found no hit:\t['MINA', 'MIR103-1', 'MIR103-1AS', 'MIR103-2', 'MIR103-2AS', 'MIR1201', 'MIR1259', 'MIR1260', 'MIR12\n",
      "10 input query terms found dup hits:\t[('MYADML', 2), ('NAPSB', 2), ('NAT8B', 3), ('NBPF22P', 2), ('NCF1B', 2), ('NME2P1', 2), ('NPY6R', 2\n",
      "112 input query terms found no hit:\t['MTMR9L', 'MTP18', 'MTSS1L', 'MUDENG', 'MUM1', 'MUM1L1', 'MUPCDH', 'MURC', 'MUT', 'MUTED', 'MYCL1',\n",
      "14 input query terms found dup hits:\t[('OR10J3', 3), ('OR5E1P', 4), ('OR6W1P', 3), ('OR7E156P', 2), ('OR7E37P', 2), ('OR7E5P', 2), ('OR7E\n",
      "47 input query terms found no hit:\t['OR2W5', 'OR3A4', 'OR52A4', 'OR5R1', 'OR8G2', 'ORAOV1', 'ORC1L', 'ORC2L', 'ORC3L', 'ORC4L', 'ORC5L'\n",
      "14 input query terms found dup hits:\t[('PI4KAP1', 2), ('PLGLA', 2), ('PMCHL1', 2), ('POM121L10P', 2), ('POM121L1P', 2), ('POM121L4P', 2),\n",
      "72 input query terms found no hit:\t['PHF15', 'PHF16', 'PHF17', 'PIN1L', 'PION', 'PKM2', 'PL-5283', 'PLA2G16', 'PLAC1L', 'PLAC2', 'PLDN'\n",
      "31 input query terms found dup hits:\t[('PVT1', 2), ('PYY2', 2), ('RAET1K', 2), ('RBMY1A3P', 3), ('RBMY2EP', 2), ('RBMY2FP', 2), ('RBMY3AP\n",
      "61 input query terms found no hit:\t['PTPLA', 'PTPLAD1', 'PTPLAD2', 'PTPLB', 'PTPN20A', 'PTPN20B', 'PTPRV', 'PTRF', 'PVRL1', 'PVRL2', 'P\n",
      "13 input query terms found dup hits:\t[('RRN3P1', 2), ('RRN3P3', 2), ('S100A7L2', 2), ('SAA3P', 2), ('SCARNA17', 2), ('SCARNA4', 2), ('SDC\n",
      "86 input query terms found no hit:\t['RRP7B', 'RTCD1', 'RTDR1', 'RUNDC2A', 'RUNDC2C', 'RWDD4A', 'SAPS1', 'SAPS2', 'SAPS3', 'SARS', 'SBDS\n",
      "31 input query terms found dup hits:\t[('SLC6A10P', 2), ('SLC7A5P2', 2), ('SNHG6', 2), ('SNHG8', 2), ('SNHG9', 3), ('SNORA16A', 2), ('SNOR\n",
      "50 input query terms found no hit:\t['SLC9A10', 'SLC9A11', 'SLC9A3R1', 'SLC9A3R2', 'SLMO1', 'SLMO2', 'SMAD5OS', 'SMCR7', 'SMCR7L', 'SMEK\n",
      "13 input query terms found dup hits:\t[('STAG3L1', 2), ('STAG3L2', 2), ('STAG3L3', 2), ('STAG3L4', 2), ('SUGT1P1', 2), ('SUMO1P1', 2), ('S\n",
      "73 input query terms found no hit:\t['ST5', 'ST7OT1', 'ST7OT2', 'ST7OT3', 'ST7OT4', 'STL', 'STRA13', 'SUGT1L1', 'SUNC1', 'SUV420H1', 'SU\n",
      "13 input query terms found dup hits:\t[('TNXA', 5), ('TOP1P1', 2), ('TPRXL', 2), ('TRIM16L', 2), ('TRPC2', 2), ('TSNAX-DISC1', 2), ('TTTY1\n",
      "67 input query terms found no hit:\t['TMEM48', 'TMEM49', 'TMEM5', 'TMEM55A', 'TMEM55B', 'TMEM56', 'TMEM57', 'TMEM66', 'TMEM84', 'TMEM85'\n",
      "9 input query terms found dup hits:\t[('VENTXP1', 2), ('VENTXP7', 2), ('WASH2P', 2), ('WASH3P', 3), ('WASH5P', 2), ('WBP11P1', 2), ('ZFP9\n",
      "84 input query terms found no hit:\t['UTS2D', 'VARS', 'VNN3', 'VPRBP', 'VPS24', 'WAPAL', 'WARS', 'WBP5', 'WBSCR16', 'WBSCR17', 'WBSCR22'\n",
      "3 input query terms found dup hits:\t[('ZNF702P', 2), ('ZNF781', 2), ('ZNF876P', 2)]\n",
      "17 input query terms found no hit:\t['ZNF642', 'ZNF643', 'ZNF645', 'ZNF673', 'ZNF720', 'ZNF767', 'ZNF788', 'ZNF815', 'ZNF816A', 'ZNF826'\n"
     ]
    }
   ],
   "source": [
    "if NORMALIZE_GENE:\n",
    "    genetic_data = normalize_gene_symbols_in_index(genetic_data)"
   ]
  },
  {
   "cell_type": "code",
   "execution_count": 22,
   "metadata": {
    "ExecuteTime": {
     "end_time": "2024-01-02T01:03:35.158174021Z",
     "start_time": "2024-01-02T01:03:35.156777134Z"
    },
    "collapsed": false
   },
   "outputs": [],
   "source": [
    "merged_data = geo_merge_clinical_genetic_data(selected_clinical_data, genetic_data)\n",
    "# The preprocessing runs through, which means is_available should be True\n",
    "is_available = True"
   ]
  },
  {
   "cell_type": "code",
   "execution_count": 23,
   "metadata": {
    "ExecuteTime": {
     "end_time": "2024-01-02T01:03:35.158378853Z",
     "start_time": "2024-01-02T01:03:35.156895194Z"
    },
    "collapsed": false
   },
   "outputs": [
    {
     "name": "stdout",
     "output_type": "stream",
     "text": [
      "The merged dataset contains 32 samples.\n"
     ]
    }
   ],
   "source": [
    "print(f\"The merged dataset contains {len(merged_data)} samples.\")"
   ]
  },
  {
   "cell_type": "code",
   "execution_count": 24,
   "metadata": {
    "ExecuteTime": {
     "end_time": "2024-01-02T01:03:35.158646754Z",
     "start_time": "2024-01-02T01:03:35.156975304Z"
    },
    "collapsed": false
   },
   "outputs": [
    {
     "name": "stdout",
     "output_type": "stream",
     "text": [
      "For the feature 'Intellectual-Disability', the least common label is '1.0' with 15 occurrences. This represents 46.88% of the dataset.\n",
      "The distribution of the feature 'Intellectual-Disability' in this dataset is fine.\n",
      "\n",
      "Quartiles for 'Age':\n",
      "  25%: 26.5\n",
      "  50% (Median): 31.5\n",
      "  75%: 40.25\n",
      "Min: 6.0\n",
      "Max: 56.0\n",
      "The distribution of the feature 'Age' in this dataset is fine.\n",
      "\n",
      "For the feature 'Gender', the least common label is '0.0' with 12 occurrences. This represents 37.50% of the dataset.\n",
      "The distribution of the feature 'Gender' in this dataset is fine.\n",
      "\n"
     ]
    },
    {
     "data": {
      "text/plain": [
       "False"
      ]
     },
     "execution_count": 24,
     "metadata": {},
     "output_type": "execute_result"
    }
   ],
   "source": [
    "is_trait_biased, merged_data = judge_and_remove_biased_features(merged_data, TRAIT, trait_type=trait_type)\n",
    "is_trait_biased"
   ]
  },
  {
   "cell_type": "code",
   "execution_count": 25,
   "metadata": {
    "ExecuteTime": {
     "end_time": "2024-01-02T01:03:35.158803015Z",
     "start_time": "2024-01-02T01:03:35.157063388Z"
    },
    "collapsed": false
   },
   "outputs": [
    {
     "name": "stdout",
     "output_type": "stream",
     "text": [
      "A new JSON file was created at: ../../output1/Yuxuan/Intellectual-Disability/cohort_info.json\n"
     ]
    }
   ],
   "source": [
    "save_cohort_info(cohort, JSON_PATH, is_available, is_trait_biased, merged_data, note='')"
   ]
  },
  {
   "cell_type": "code",
   "execution_count": 26,
   "metadata": {
    "ExecuteTime": {
     "end_time": "2024-01-02T01:03:36.004312476Z",
     "start_time": "2024-01-02T01:03:35.157165158Z"
    },
    "collapsed": false
   },
   "outputs": [],
   "source": [
    "merged_data.head()\n",
    "if not is_trait_biased:\n",
    "    merged_data.to_csv(os.path.join(OUTPUT_DIR, cohort+'.csv'), index=False)"
   ]
  },
  {
   "cell_type": "markdown",
   "metadata": {
    "ExecuteTime": {
     "end_time": "2023-12-31T03:58:22.271683755Z",
     "start_time": "2023-12-31T03:58:22.246557674Z"
    },
    "id": "-MTPhRGxJV7I"
   },
   "source": [
    "### 3. Do regression & Cross Validation"
   ]
  },
  {
   "cell_type": "code",
   "execution_count": 44,
   "metadata": {
    "ExecuteTime": {
     "end_time": "2024-01-02T01:03:36.048788605Z",
     "start_time": "2024-01-02T01:03:36.005925887Z"
    },
    "collapsed": false
   },
   "outputs": [],
   "source": [
    "from utils import *"
   ]
  },
  {
   "cell_type": "code",
   "execution_count": 45,
   "metadata": {
    "ExecuteTime": {
     "end_time": "2024-01-02T01:03:36.049183603Z",
     "start_time": "2024-01-02T01:03:36.048440305Z"
    },
    "collapsed": false
   },
   "outputs": [
    {
     "data": {
      "text/plain": [
       "'GSE174555'"
      ]
     },
     "execution_count": 45,
     "metadata": {},
     "output_type": "execute_result"
    }
   ],
   "source": [
    "best_cohort, ranked_df = filter_and_rank_cohorts(JSON_PATH, 'has_age')\n",
    "best_cohort"
   ]
  },
  {
   "cell_type": "code",
   "execution_count": 46,
   "metadata": {
    "ExecuteTime": {
     "end_time": "2024-01-02T01:03:36.049430313Z",
     "start_time": "2024-01-02T01:03:36.048984361Z"
    },
    "collapsed": false
   },
   "outputs": [
    {
     "data": {
      "text/html": [
       "<div>\n",
       "<style scoped>\n",
       "    .dataframe tbody tr th:only-of-type {\n",
       "        vertical-align: middle;\n",
       "    }\n",
       "\n",
       "    .dataframe tbody tr th {\n",
       "        vertical-align: top;\n",
       "    }\n",
       "\n",
       "    .dataframe thead th {\n",
       "        text-align: right;\n",
       "    }\n",
       "</style>\n",
       "<table border=\"1\" class=\"dataframe\">\n",
       "  <thead>\n",
       "    <tr style=\"text-align: right;\">\n",
       "      <th></th>\n",
       "      <th>cohort_id</th>\n",
       "      <th>is_usable</th>\n",
       "      <th>is_available</th>\n",
       "      <th>is_biased</th>\n",
       "      <th>has_age</th>\n",
       "      <th>has_gender</th>\n",
       "      <th>sample_size</th>\n",
       "      <th>note</th>\n",
       "    </tr>\n",
       "  </thead>\n",
       "  <tbody>\n",
       "    <tr>\n",
       "      <th>0</th>\n",
       "      <td>GSE174555</td>\n",
       "      <td>True</td>\n",
       "      <td>True</td>\n",
       "      <td>False</td>\n",
       "      <td>True</td>\n",
       "      <td>True</td>\n",
       "      <td>32</td>\n",
       "      <td></td>\n",
       "    </tr>\n",
       "  </tbody>\n",
       "</table>\n",
       "</div>"
      ],
      "text/plain": [
       "   cohort_id  is_usable  is_available  is_biased  has_age  has_gender  \\\n",
       "0  GSE174555       True          True      False     True        True   \n",
       "\n",
       "   sample_size note  \n",
       "0           32       "
      ]
     },
     "execution_count": 46,
     "metadata": {},
     "output_type": "execute_result"
    }
   ],
   "source": [
    "ranked_df.head()"
   ]
  },
  {
   "cell_type": "code",
   "execution_count": 47,
   "metadata": {
    "ExecuteTime": {
     "end_time": "2024-01-02T01:03:36.345375576Z",
     "start_time": "2024-01-02T01:03:36.049289340Z"
    },
    "collapsed": false
   },
   "outputs": [],
   "source": [
    "ck=100\n",
    "listq=[]\n",
    "for df in pd.read_csv(os.path.join(OUTPUT_DIR, best_cohort+'.csv'),chunksize=ck):\n",
    "    listq.append(df)\n",
    "merged_data = pd.concat(listq)\n",
    "#merged_data = pd.read_csv(os.path.join(OUTPUT_DIR, best_cohort+'.csv'))"
   ]
  },
  {
   "cell_type": "code",
   "execution_count": 48,
   "metadata": {
    "ExecuteTime": {
     "end_time": "2024-01-02T01:03:36.400788548Z",
     "start_time": "2024-01-02T01:03:36.355439168Z"
    },
    "collapsed": false
   },
   "outputs": [
    {
     "data": {
      "text/html": [
       "<div>\n",
       "<style scoped>\n",
       "    .dataframe tbody tr th:only-of-type {\n",
       "        vertical-align: middle;\n",
       "    }\n",
       "\n",
       "    .dataframe tbody tr th {\n",
       "        vertical-align: top;\n",
       "    }\n",
       "\n",
       "    .dataframe thead th {\n",
       "        text-align: right;\n",
       "    }\n",
       "</style>\n",
       "<table border=\"1\" class=\"dataframe\">\n",
       "  <thead>\n",
       "    <tr style=\"text-align: right;\">\n",
       "      <th></th>\n",
       "      <th>Intellectual-Disability</th>\n",
       "      <th>Age</th>\n",
       "      <th>Gender</th>\n",
       "      <th>A1BG</th>\n",
       "      <th>A1CF</th>\n",
       "      <th>A2M</th>\n",
       "      <th>A2ML1</th>\n",
       "      <th>A4GALT</th>\n",
       "      <th>A4GNT</th>\n",
       "      <th>AAA1</th>\n",
       "      <th>...</th>\n",
       "      <th>ZWILCH</th>\n",
       "      <th>ZWINT</th>\n",
       "      <th>ZXDA</th>\n",
       "      <th>ZXDB</th>\n",
       "      <th>ZXDC</th>\n",
       "      <th>ZYG11A</th>\n",
       "      <th>ZYG11B</th>\n",
       "      <th>ZYX</th>\n",
       "      <th>ZZEF1</th>\n",
       "      <th>ZZZ3</th>\n",
       "    </tr>\n",
       "  </thead>\n",
       "  <tbody>\n",
       "    <tr>\n",
       "      <th>0</th>\n",
       "      <td>0.0</td>\n",
       "      <td>37.0</td>\n",
       "      <td>1.0</td>\n",
       "      <td>0.590116</td>\n",
       "      <td>0.850843</td>\n",
       "      <td>0.799175</td>\n",
       "      <td>0.861421</td>\n",
       "      <td>0.412644</td>\n",
       "      <td>0.800985</td>\n",
       "      <td>0.833241</td>\n",
       "      <td>...</td>\n",
       "      <td>0.271460</td>\n",
       "      <td>0.101780</td>\n",
       "      <td>0.341449</td>\n",
       "      <td>0.471532</td>\n",
       "      <td>0.334077</td>\n",
       "      <td>0.557670</td>\n",
       "      <td>0.538319</td>\n",
       "      <td>0.351191</td>\n",
       "      <td>0.500098</td>\n",
       "      <td>0.198641</td>\n",
       "    </tr>\n",
       "    <tr>\n",
       "      <th>1</th>\n",
       "      <td>0.0</td>\n",
       "      <td>38.0</td>\n",
       "      <td>1.0</td>\n",
       "      <td>0.564490</td>\n",
       "      <td>0.878111</td>\n",
       "      <td>0.788008</td>\n",
       "      <td>0.860366</td>\n",
       "      <td>0.422047</td>\n",
       "      <td>0.794331</td>\n",
       "      <td>0.838132</td>\n",
       "      <td>...</td>\n",
       "      <td>0.269775</td>\n",
       "      <td>0.096716</td>\n",
       "      <td>0.303264</td>\n",
       "      <td>0.474052</td>\n",
       "      <td>0.345844</td>\n",
       "      <td>0.547580</td>\n",
       "      <td>0.520090</td>\n",
       "      <td>0.362980</td>\n",
       "      <td>0.499147</td>\n",
       "      <td>0.194963</td>\n",
       "    </tr>\n",
       "    <tr>\n",
       "      <th>2</th>\n",
       "      <td>0.0</td>\n",
       "      <td>38.0</td>\n",
       "      <td>0.0</td>\n",
       "      <td>0.587041</td>\n",
       "      <td>0.853657</td>\n",
       "      <td>0.795699</td>\n",
       "      <td>0.851574</td>\n",
       "      <td>0.418329</td>\n",
       "      <td>0.793030</td>\n",
       "      <td>0.825547</td>\n",
       "      <td>...</td>\n",
       "      <td>0.275054</td>\n",
       "      <td>0.110712</td>\n",
       "      <td>0.443794</td>\n",
       "      <td>0.541082</td>\n",
       "      <td>0.307189</td>\n",
       "      <td>0.511284</td>\n",
       "      <td>0.549419</td>\n",
       "      <td>0.322107</td>\n",
       "      <td>0.502943</td>\n",
       "      <td>0.194256</td>\n",
       "    </tr>\n",
       "    <tr>\n",
       "      <th>3</th>\n",
       "      <td>1.0</td>\n",
       "      <td>25.0</td>\n",
       "      <td>0.0</td>\n",
       "      <td>0.636154</td>\n",
       "      <td>0.852854</td>\n",
       "      <td>0.797266</td>\n",
       "      <td>0.843243</td>\n",
       "      <td>0.405989</td>\n",
       "      <td>0.759727</td>\n",
       "      <td>0.836518</td>\n",
       "      <td>...</td>\n",
       "      <td>0.265513</td>\n",
       "      <td>0.098102</td>\n",
       "      <td>0.455131</td>\n",
       "      <td>0.556389</td>\n",
       "      <td>0.330251</td>\n",
       "      <td>0.532812</td>\n",
       "      <td>0.559010</td>\n",
       "      <td>0.339559</td>\n",
       "      <td>0.494434</td>\n",
       "      <td>0.189841</td>\n",
       "    </tr>\n",
       "    <tr>\n",
       "      <th>4</th>\n",
       "      <td>0.0</td>\n",
       "      <td>30.0</td>\n",
       "      <td>1.0</td>\n",
       "      <td>0.574658</td>\n",
       "      <td>0.828747</td>\n",
       "      <td>0.782130</td>\n",
       "      <td>0.851762</td>\n",
       "      <td>0.425464</td>\n",
       "      <td>0.765987</td>\n",
       "      <td>0.817494</td>\n",
       "      <td>...</td>\n",
       "      <td>0.284233</td>\n",
       "      <td>0.106924</td>\n",
       "      <td>0.304203</td>\n",
       "      <td>0.453697</td>\n",
       "      <td>0.335481</td>\n",
       "      <td>0.519739</td>\n",
       "      <td>0.557386</td>\n",
       "      <td>0.342218</td>\n",
       "      <td>0.503108</td>\n",
       "      <td>0.199056</td>\n",
       "    </tr>\n",
       "  </tbody>\n",
       "</table>\n",
       "<p>5 rows × 17844 columns</p>\n",
       "</div>"
      ],
      "text/plain": [
       "   Intellectual-Disability   Age  Gender      A1BG      A1CF       A2M  \\\n",
       "0                      0.0  37.0     1.0  0.590116  0.850843  0.799175   \n",
       "1                      0.0  38.0     1.0  0.564490  0.878111  0.788008   \n",
       "2                      0.0  38.0     0.0  0.587041  0.853657  0.795699   \n",
       "3                      1.0  25.0     0.0  0.636154  0.852854  0.797266   \n",
       "4                      0.0  30.0     1.0  0.574658  0.828747  0.782130   \n",
       "\n",
       "      A2ML1    A4GALT     A4GNT      AAA1  ...    ZWILCH     ZWINT      ZXDA  \\\n",
       "0  0.861421  0.412644  0.800985  0.833241  ...  0.271460  0.101780  0.341449   \n",
       "1  0.860366  0.422047  0.794331  0.838132  ...  0.269775  0.096716  0.303264   \n",
       "2  0.851574  0.418329  0.793030  0.825547  ...  0.275054  0.110712  0.443794   \n",
       "3  0.843243  0.405989  0.759727  0.836518  ...  0.265513  0.098102  0.455131   \n",
       "4  0.851762  0.425464  0.765987  0.817494  ...  0.284233  0.106924  0.304203   \n",
       "\n",
       "       ZXDB      ZXDC    ZYG11A    ZYG11B       ZYX     ZZEF1      ZZZ3  \n",
       "0  0.471532  0.334077  0.557670  0.538319  0.351191  0.500098  0.198641  \n",
       "1  0.474052  0.345844  0.547580  0.520090  0.362980  0.499147  0.194963  \n",
       "2  0.541082  0.307189  0.511284  0.549419  0.322107  0.502943  0.194256  \n",
       "3  0.556389  0.330251  0.532812  0.559010  0.339559  0.494434  0.189841  \n",
       "4  0.453697  0.335481  0.519739  0.557386  0.342218  0.503108  0.199056  \n",
       "\n",
       "[5 rows x 17844 columns]"
      ]
     },
     "execution_count": 48,
     "metadata": {},
     "output_type": "execute_result"
    }
   ],
   "source": [
    "merged_data.head()"
   ]
  },
  {
   "cell_type": "code",
   "execution_count": 49,
   "metadata": {
    "ExecuteTime": {
     "end_time": "2024-01-02T01:03:36.401002087Z",
     "start_time": "2024-01-02T01:03:36.400659608Z"
    },
    "collapsed": false
   },
   "outputs": [],
   "source": [
    "# If both age and gender features are available, select 'age' as the condition.\n",
    "condition = 'Age'\n",
    "# Remove the other condition to prevent interference.\n",
    "merged_data = merged_data.drop(columns=['Gender'], errors='ignore').astype('float')"
   ]
  },
  {
   "cell_type": "code",
   "execution_count": 50,
   "metadata": {
    "ExecuteTime": {
     "end_time": "2024-01-02T01:03:36.403035823Z",
     "start_time": "2024-01-02T01:03:36.401081946Z"
    },
    "collapsed": false
   },
   "outputs": [],
   "source": [
    "X = merged_data.drop(columns=[TRAIT, condition]).values\n",
    "Y = merged_data[TRAIT].values\n",
    "Z = merged_data[condition].values"
   ]
  },
  {
   "cell_type": "markdown",
   "metadata": {
    "collapsed": false
   },
   "source": [
    "Select the appropriate regression model depending on whether the dataset shows batch effect."
   ]
  },
  {
   "cell_type": "code",
   "execution_count": 51,
   "metadata": {
    "ExecuteTime": {
     "end_time": "2024-01-02T01:03:36.403263628Z",
     "start_time": "2024-01-02T01:03:36.401336170Z"
    },
    "collapsed": false
   },
   "outputs": [
    {
     "data": {
      "text/plain": [
       "True"
      ]
     },
     "execution_count": 51,
     "metadata": {},
     "output_type": "execute_result"
    }
   ],
   "source": [
    "has_batch_effect = detect_batch_effect(X)\n",
    "has_batch_effect"
   ]
  },
  {
   "cell_type": "code",
   "execution_count": 52,
   "metadata": {
    "ExecuteTime": {
     "end_time": "2024-01-02T01:03:36.475053437Z",
     "start_time": "2024-01-02T01:03:36.444397231Z"
    },
    "collapsed": false
   },
   "outputs": [],
   "source": [
    "\n",
    "if has_batch_effect:\n",
    "    model_constructor1 = VariableSelection\n",
    "    model_params1 = {'modified': True, 'lamda': 3e-4}\n",
    "    model_constructor2 = VariableSelection\n",
    "    model_params2 = {'modified': False}\n",
    "else:\n",
    "    model_constructor1 = Lasso\n",
    "    model_params1 = {'alpha': 1.0, 'random_state': 42}\n",
    "    model_constructor2 = VariableSelection\n",
    "    model_params2 = {'modified': False}"
   ]
  },
  {
   "cell_type": "code",
   "execution_count": 53,
   "metadata": {
    "ExecuteTime": {
     "end_time": "2024-01-02T01:03:50.733335364Z",
     "start_time": "2024-01-02T01:03:36.444563711Z"
    },
    "collapsed": false
   },
   "outputs": [
    {
     "name": "stdout",
     "output_type": "stream",
     "text": [
      "alpha for Lasso: 0.0003\n",
      "alpha for Lasso: 0.0003\n",
      "alpha for Lasso: 0.0003\n",
      "alpha for Lasso: 0.0003\n",
      "alpha for Lasso: 0.0003\n",
      "The cross-validation accuracy is 16.67% ± 14.91%\n"
     ]
    }
   ],
   "source": [
    "trait_type = 'binary'  # Remember to set this properly, either 'binary' or 'continuous'\n",
    "cv_mean1, cv_std1 = cross_validation(X, Y, Z, model_constructor1, model_params1, target_type=trait_type)"
   ]
  },
  {
   "cell_type": "code",
   "execution_count": 54,
   "metadata": {},
   "outputs": [
    {
     "name": "stdout",
     "output_type": "stream",
     "text": [
      "The cross-validation accuracy is 96.67% ± 6.67%\n"
     ]
    }
   ],
   "source": [
    "cv_mean2, cv_std2 = cross_validation(X, Y, Z, model_constructor2, model_params2, target_type=trait_type)"
   ]
  },
  {
   "cell_type": "code",
   "execution_count": 55,
   "metadata": {
    "ExecuteTime": {
     "end_time": "2024-01-02T01:03:53.587340410Z",
     "start_time": "2024-01-02T01:03:50.732779025Z"
    },
    "collapsed": false
   },
   "outputs": [
    {
     "name": "stdout",
     "output_type": "stream",
     "text": [
      "alpha for Lasso: 0.0003\n"
     ]
    }
   ],
   "source": [
    "normalized_X, _ = normalize_data(X)\n",
    "normalized_Z, _ = normalize_data(Z)\n",
    "\n",
    "# Train regression model on the whole dataset to identify significant genes\n",
    "model1 = ResidualizationRegressor(model_constructor1, model_params1)\n",
    "model1.fit(normalized_X, Y, normalized_Z)\n",
    "\n",
    "model2 = ResidualizationRegressor(model_constructor2, model_params2)\n",
    "model2.fit(normalized_X, Y, normalized_Z)"
   ]
  },
  {
   "cell_type": "markdown",
   "metadata": {
    "ExecuteTime": {
     "end_time": "2023-10-14T04:50:59.072075075Z",
     "start_time": "2023-10-14T04:50:38.739499998Z"
    },
    "id": "EjJrxbvb4nlj"
   },
   "source": [
    "### 5. Discussion and report"
   ]
  },
  {
   "cell_type": "code",
   "execution_count": 56,
   "metadata": {
    "ExecuteTime": {
     "end_time": "2024-01-02T01:03:53.641570844Z",
     "start_time": "2024-01-02T01:03:53.627778553Z"
    },
    "collapsed": false
   },
   "outputs": [
    {
     "name": "stdout",
     "output_type": "stream",
     "text": [
      "Effect of the condition on the target variable:\n",
      "Variable: Age\n",
      "Coefficient: 0.0464\n",
      "Found 27 genes with non-zero coefficients associated with the trait 'Intellectual-Disability' conditional on the factor 'Age'. These genes are identified as significant based on the regression model.\n",
      " Variable  Coefficient  Absolute Coefficient\n",
      "   ZNF141     9.949472              9.949472\n",
      "   AMDHD1    -6.650276              6.650276\n",
      "   ENDOD1    -6.558184              6.558184\n",
      "KRTAP21-3     6.164865              6.164865\n",
      "  FAM135A    -5.701479              5.701479\n",
      "   STARD9    -5.205430              5.205430\n",
      "    ZNF25    -4.786179              4.786179\n",
      "    SMC1A    -4.750756              4.750756\n",
      "    FARS2    -4.744686              4.744686\n",
      "     USP1     4.735842              4.735842\n",
      "    NLRP9     3.619005              3.619005\n",
      "   CYP3A4     3.373809              3.373809\n",
      "    AMACR    -2.977552              2.977552\n",
      "    PWRN1    -2.913494              2.913494\n",
      "     ALLC     2.860756              2.860756\n",
      "    WIPI1    -2.685245              2.685245\n",
      " C16orf74     2.566263              2.566263\n",
      "    LARP4     2.175846              2.175846\n",
      "     NCR2     2.076091              2.076091\n",
      "   ANKLE1    -1.766302              1.766302\n",
      "    KCNH8     1.693121              1.693121\n",
      "   MIR144    -1.477701              1.477701\n",
      "   OR4A16    -1.409370              1.409370\n",
      "   MTNR1B    -1.282189              1.282189\n",
      "   FBXL16     0.605145              0.605145\n",
      "  SLC45A2     0.177976              0.177976\n",
      "   ZNF487    -0.143415              0.143415\n"
     ]
    },
    {
     "name": "stderr",
     "output_type": "stream",
     "text": [
      "/home/yxcheng/AI4Science_gold_standard/stage1/Jianrong/../utils.py:469: SettingWithCopyWarning: \n",
      "A value is trying to be set on a copy of a slice from a DataFrame.\n",
      "Try using .loc[row_indexer,col_indexer] = value instead\n",
      "\n",
      "See the caveats in the documentation: https://pandas.pydata.org/pandas-docs/stable/user_guide/indexing.html#returning-a-view-versus-a-copy\n",
      "  gene_regression_df['Absolute Coefficient'] = gene_regression_df['Coefficient'].abs()\n"
     ]
    }
   ],
   "source": [
    "\n",
    "feature_cols = merged_data.columns.tolist()\n",
    "feature_cols.remove(TRAIT)\n",
    "\n",
    "threshold = 0.05\n",
    "interpret_result(model1, feature_cols, TRAIT, condition, threshold=threshold, save_output=True,\n",
    "                 output_dir=OUTPUT_DIR, model_id=1)"
   ]
  },
  {
   "cell_type": "code",
   "execution_count": 57,
   "metadata": {
    "collapsed": false
   },
   "outputs": [
    {
     "name": "stdout",
     "output_type": "stream",
     "text": [
      "Effect of the condition on the target variable:\n",
      "Variable: Age\n",
      "Coefficient: 0.0464\n",
      "Found 74 significant genes associated with the trait 'Intellectual-Disability' conditional on the factor 'Age', with corrected p-value < 0.05:\n",
      "  Variable  Coefficient      p_value  corrected_p_value\n",
      "    RNF112    -0.361060 3.785914e-07           0.002083\n",
      "     BCL9L     0.377690 5.369121e-07           0.002083\n",
      "       NTS     0.409934 2.143989e-07           0.002083\n",
      "    LRRC24     0.327457 5.836726e-07           0.002083\n",
      "     CPT1B     0.326475 4.737830e-07           0.002083\n",
      "    MAPK11     0.321815 1.295466e-06           0.003751\n",
      "     CLIC3     0.362410 1.471685e-06           0.003751\n",
      "CHKB-CPT1B     0.308444 1.911635e-06           0.004263\n",
      "    RHBDL1     0.328942 3.153455e-06           0.005115\n",
      "       AVP     0.317942 2.903821e-06           0.005115\n",
      "      HHIP     0.332540 2.884898e-06           0.005115\n",
      "     PRRT3     0.323225 3.986262e-06           0.005471\n",
      "       GP6    -0.309213 3.925014e-06           0.005471\n",
      "     DDIT4     0.335786 4.904837e-06           0.006164\n",
      "     PARD3    -0.302042 5.182452e-06           0.006164\n",
      "       IL3    -0.322455 8.584586e-06           0.006659\n",
      "     ACMSD    -0.316328 8.061639e-06           0.006659\n",
      "    LY6G5C    -0.352196 6.910514e-06           0.006659\n",
      "     RUNX1     0.285247 8.549236e-06           0.006659\n",
      "KRTAP10-11    -0.258882 7.031376e-06           0.006659\n",
      "      FA2H    -0.324072 8.488758e-06           0.006659\n",
      "    SORBS2    -0.261407 7.231798e-06           0.006659\n",
      "    CCDC17    -0.327897 6.483511e-06           0.006659\n",
      "     ACRV1    -0.256597 9.142222e-06           0.006796\n",
      "      UPP1    -0.267793 1.087739e-05           0.007763\n",
      "    GALNT5     0.406031 1.238788e-05           0.008261\n",
      "   TMEM190     0.310182 1.250243e-05           0.008261\n",
      "     NUAK1     0.337082 1.301208e-05           0.008291\n",
      "   TMEM202     0.380885 1.357918e-05           0.008354\n",
      "     DPEP1     0.275445 1.493776e-05           0.008883\n",
      "     OLIG1    -0.278121 1.589906e-05           0.009150\n",
      "     GATA2     0.352014 1.960833e-05           0.009455\n",
      "   TMEM121     0.325236 1.867313e-05           0.009455\n",
      "     CPT1C     0.267131 1.853338e-05           0.009455\n",
      "     CRHBP     0.277663 1.858044e-05           0.009455\n",
      "     ITSN1    -0.342737 1.914520e-05           0.009455\n",
      "  KIAA0087    -0.289193 1.836357e-05           0.009455\n",
      "      PFN3     0.313257 2.032636e-05           0.009543\n",
      "     LAMB2    -0.265383 2.106677e-05           0.009559\n",
      "   SERINC2     0.310365 2.143261e-05           0.009559\n",
      "     C1QL3    -0.287764 2.695461e-05           0.011729\n",
      "      SPG7    -0.312046 2.977918e-05           0.012650\n",
      "     TIAM1    -0.306666 3.214328e-05           0.013336\n",
      "     STK19     0.281819 3.401745e-05           0.013782\n",
      "    CCDC60     0.279295 3.553448e-05           0.013782\n",
      "     HOXA5     0.222377 3.477993e-05           0.013782\n",
      "   MIR1182     0.251368 4.591129e-05           0.017428\n",
      "     MFSD3    -0.263686 5.142851e-05           0.019115\n",
      "      HAMP     0.337654 5.386082e-05           0.019611\n",
      "      CSTB    -0.331260 5.627139e-05           0.019703\n",
      "      OGG1     0.263761 5.632342e-05           0.019703\n",
      "    TSPAN8     0.282029 6.226026e-05           0.021361\n",
      "     RPTOR    -0.357332 6.362362e-05           0.021417\n",
      "  DNASE1L2     0.281509 9.262669e-05           0.030603\n",
      "   TNFAIP2     0.267062 9.492387e-05           0.030792\n",
      "     NOXO1     0.270656 9.940873e-05           0.031671\n",
      "      CHL1     0.256218 1.044191e-04           0.032683\n",
      "      SOX7    -0.217007 1.075263e-04           0.033075\n",
      "      GRM6     0.311299 1.178390e-04           0.035039\n",
      "  TMEM151B     0.236595 1.161377e-04           0.035039\n",
      "     KCNJ9     0.321876 1.288796e-04           0.037086\n",
      "     CMYA5    -0.251102 1.288196e-04           0.037086\n",
      "    IGFBP2     0.261505 1.315921e-04           0.037266\n",
      "   ANKRD11    -0.256459 1.343350e-04           0.037448\n",
      "       KHK     0.264130 1.385308e-04           0.037566\n",
      "      GJD4     0.259377 1.389678e-04           0.037566\n",
      "       CBS    -0.327485 1.412978e-04           0.037625\n",
      "     SRPK3     0.230276 1.438691e-04           0.037747\n",
      "    ZNF497     0.273449 1.484204e-04           0.038376\n",
      "    IL17RE    -0.245852 1.581538e-04           0.039741\n",
      "     EIF4E     0.326271 1.565717e-04           0.039741\n",
      "    AMIGO3     0.226848 1.671960e-04           0.041430\n",
      "    SLC2A1    -0.295594 1.826541e-04           0.044640\n",
      "     GPR75    -0.260602 1.961038e-04           0.047280\n"
     ]
    },
    {
     "name": "stderr",
     "output_type": "stream",
     "text": [
      "/home/yxcheng/AI4Science_gold_standard/stage1/Jianrong/../utils.py:478: SettingWithCopyWarning: \n",
      "A value is trying to be set on a copy of a slice from a DataFrame.\n",
      "Try using .loc[row_indexer,col_indexer] = value instead\n",
      "\n",
      "See the caveats in the documentation: https://pandas.pydata.org/pandas-docs/stable/user_guide/indexing.html#returning-a-view-versus-a-copy\n",
      "  gene_regression_df.loc[:, 'corrected_p_value'] = corrected_p_values\n"
     ]
    }
   ],
   "source": [
    "interpret_result(model2, feature_cols, TRAIT, condition, threshold=threshold, save_output=True,\n",
    "                 output_dir=OUTPUT_DIR, model_id=2)"
   ]
  }
 ],
 "metadata": {
  "colab": {
   "provenance": []
  },
  "kernelspec": {
   "display_name": "Python 3 (ipykernel)",
   "language": "python",
   "name": "python3"
  },
  "language_info": {
   "codemirror_mode": {
    "name": "ipython",
    "version": 3
   },
   "file_extension": ".py",
   "mimetype": "text/x-python",
   "name": "python",
   "nbconvert_exporter": "python",
   "pygments_lexer": "ipython3",
   "version": "3.10.13"
  }
 },
 "nbformat": 4,
 "nbformat_minor": 0
}
