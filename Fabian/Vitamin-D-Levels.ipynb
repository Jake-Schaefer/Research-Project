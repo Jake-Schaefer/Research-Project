{
 "nbformat": 4,
 "nbformat_minor": 0,
 "metadata": {
  "colab": {
   "provenance": []
  },
  "kernelspec": {
   "name": "python3",
   "language": "python",
   "display_name": "Python 3 (ipykernel)"
  },
  "language_info": {
   "name": "python"
  }
 },
 "cells": [
  {
   "cell_type": "markdown",
   "source": [
    "# Gold standard curation: Preprocessing and single-step regression"
   ],
   "metadata": {
    "collapsed": false
   }
  },
  {
   "cell_type": "markdown",
   "source": [
    "In this stage of gold standard curation, we will do the data preprocessing, selection, and single-step regression for the 153 traits in our question set. This file shows the reference steps using the trait \"Breast Cancer\" as an example. The workflow consists of the following steps:\n",
    "\n",
    "1. Preprocess all the cohorts related to this trait. Each cohort should be converted to a tabular form and saved to a csv file, with columns being genetic factors, the trait, and age, gender if available;\n",
    "2. If there exists at least one cohort with age or gender information, conduct regression analysis with genetic features together with age or gender as the regressors.\n"
   ],
   "metadata": {
    "collapsed": false
   }
  },
  {
   "cell_type": "markdown",
   "source": [
    "# 1. Basic setup"
   ],
   "metadata": {
    "collapsed": false
   }
  },
  {
   "cell_type": "code",
   "execution_count": 1,
   "outputs": [],
   "source": [
    "import os\n",
    "import sys\n",
    "\n",
    "sys.path.append('..')\n",
    "from utils import *\n",
    "\n",
    "# Set your preferred name\n",
    "USER = \"Haoyang\"\n",
    "# Set the data and output directories\n",
    "DATA_ROOT = '/media/techt/DATA'\n",
    "OUTPUT_ROOT = '../../output1'\n",
    "TRAIT = 'Vitamin D Levels'\n",
    "\n",
    "OUTPUT_DIR = os.path.join(OUTPUT_ROOT, USER, '-'.join(TRAIT.split()))\n",
    "JSON_PATH = os.path.join(OUTPUT_DIR, \"cohort_info.json\")\n",
    "if not os.path.exists(OUTPUT_DIR):\n",
    "    os.makedirs(OUTPUT_DIR, exist_ok=True)\n",
    "\n",
    "# Gene symbol normalization may take 1-2 minutes. You may set it to False for debugging.\n",
    "NORMALIZE_GENE = True"
   ],
   "metadata": {
    "collapsed": false,
    "ExecuteTime": {
     "end_time": "2024-01-27T22:43:22.836056010Z",
     "start_time": "2024-01-27T22:43:21.922344211Z"
    }
   }
  },
  {
   "cell_type": "code",
   "execution_count": 2,
   "metadata": {
    "colab": {
     "base_uri": "https://localhost:8080/"
    },
    "id": "jMTdsU43vVg3",
    "outputId": "38886111-f442-44b4-8398-96bf384d7abd",
    "ExecuteTime": {
     "end_time": "2024-01-27T22:43:22.839557889Z",
     "start_time": "2024-01-27T22:43:22.838076423Z"
    }
   },
   "outputs": [
    {
     "data": {
      "text/plain": "\"import os\\nfrom google.colab import drive\\n\\ndrive.mount('/content/drive', force_remount=True)\\nproj_dir = '/content/drive/MyDrive/AI4Science_Public'\\nos.chdir(proj_dir)\""
     },
     "execution_count": 2,
     "metadata": {},
     "output_type": "execute_result"
    }
   ],
   "source": [
    "# This cell is only for use on Google Colab. Skip it if you run your code in other environments\n",
    "\n",
    "\"\"\"import os\n",
    "from google.colab import drive\n",
    "\n",
    "drive.mount('/content/drive', force_remount=True)\n",
    "proj_dir = '/content/drive/MyDrive/AI4Science_Public'\n",
    "os.chdir(proj_dir)\"\"\""
   ]
  },
  {
   "cell_type": "markdown",
   "source": [
    "# 2. Data preprocessing and selection"
   ],
   "metadata": {
    "collapsed": false
   }
  },
  {
   "cell_type": "markdown",
   "source": [
    "## 2.1. The TCGA Xena dataset"
   ],
   "metadata": {
    "collapsed": false
   }
  },
  {
   "cell_type": "markdown",
   "source": [
    "In TCGA Xena, there is either zero or one cohort related to the trait. We search the names of subdirectories to see if any matches the trait. If a match is found, we directly obtain the file paths."
   ],
   "metadata": {
    "collapsed": false
   }
  },
  {
   "cell_type": "code",
   "execution_count": null,
   "outputs": [],
   "source": [
    "dataset = 'TCGA'\n",
    "dataset_dir = os.path.join(DATA_ROOT, dataset)\n",
    "os.listdir(dataset_dir)"
   ],
   "metadata": {
    "collapsed": false
   }
  },
  {
   "cell_type": "markdown",
   "source": [
    "If no match is found, jump directly to GEO in Part 2.2"
   ],
   "metadata": {
    "collapsed": false
   }
  },
  {
   "cell_type": "code",
   "execution_count": null,
   "outputs": [],
   "source": [
    "trait_subdir = None\n",
    "cohort = 'Xena'\n",
    "# All the cancer traits in Xena are binary\n",
    "trait_type = 'binary'\n",
    "# Once a relevant cohort is found in Xena, we can generally assume the gene and clinical data are available\n",
    "is_available = True\n",
    "\n",
    "clinical_data_file = os.path.join(dataset_dir, trait_subdir, 'TCGA.BRCA.sampleMap_BRCA_clinicalMatrix')\n",
    "genetic_data_file = os.path.join(dataset_dir, trait_subdir, 'TCGA.BRCA.sampleMap_HiSeqV2_PANCAN.gz')"
   ],
   "metadata": {
    "collapsed": false
   }
  },
  {
   "cell_type": "code",
   "source": [
    "import pandas as pd\n",
    "\n",
    "clinical_data = pd.read_csv(clinical_data_file, sep='\\t', index_col=0)\n",
    "genetic_data = pd.read_csv(genetic_data_file, compression='gzip', sep='\\t', index_col=0)\n",
    "age_col = gender_col = None"
   ],
   "metadata": {
    "id": "MudwB-_iz7sc"
   },
   "execution_count": null,
   "outputs": []
  },
  {
   "cell_type": "code",
   "execution_count": null,
   "outputs": [],
   "source": [
    "_, clinical_data_cols = check_rows_and_columns(clinical_data)\n",
    "clinical_data_cols[:10]"
   ],
   "metadata": {
    "collapsed": false
   }
  },
  {
   "cell_type": "markdown",
   "source": [
    "Read all the column names in the clinical dataset, to find the columns that record information about age or gender.\n",
    "Reference prompt:"
   ],
   "metadata": {
    "collapsed": false,
    "ExecuteTime": {
     "end_time": "2023-12-28T20:20:11.841042813Z",
     "start_time": "2023-12-28T20:20:11.834458206Z"
    }
   },
   "outputs": [
    {
     "data": {
      "text/plain": "['AJCC_Stage_nature2012',\n 'Age_at_Initial_Pathologic_Diagnosis_nature2012',\n 'CN_Clusters_nature2012',\n 'Converted_Stage_nature2012',\n 'Days_to_Date_of_Last_Contact_nature2012',\n 'Days_to_date_of_Death_nature2012',\n 'ER_Status_nature2012',\n 'Gender_nature2012',\n 'HER2_Final_Status_nature2012',\n 'Integrated_Clusters_no_exp__nature2012',\n 'Integrated_Clusters_unsup_exp__nature2012',\n 'Integrated_Clusters_with_PAM50__nature2012',\n 'Metastasis_Coded_nature2012',\n 'Metastasis_nature2012',\n 'Node_Coded_nature2012',\n 'Node_nature2012',\n 'OS_Time_nature2012',\n 'OS_event_nature2012',\n 'PAM50Call_RNAseq',\n 'PAM50_mRNA_nature2012',\n 'PR_Status_nature2012',\n 'RPPA_Clusters_nature2012',\n 'SigClust_Intrinsic_mRNA_nature2012',\n 'SigClust_Unsupervised_mRNA_nature2012',\n 'Survival_Data_Form_nature2012',\n 'Tumor_T1_Coded_nature2012',\n 'Tumor_nature2012',\n 'Vital_Status_nature2012',\n '_INTEGRATION',\n '_PANCAN_CNA_PANCAN_K8',\n '_PANCAN_Cluster_Cluster_PANCAN',\n '_PANCAN_DNAMethyl_BRCA',\n '_PANCAN_DNAMethyl_PANCAN',\n '_PANCAN_RPPA_PANCAN_K8',\n '_PANCAN_UNC_RNAseq_PANCAN_K16',\n '_PANCAN_miRNA_PANCAN',\n '_PANCAN_mirna_BRCA',\n '_PANCAN_mutation_PANCAN',\n '_PATIENT',\n '_cohort',\n '_primary_disease',\n '_primary_site',\n 'additional_pharmaceutical_therapy',\n 'additional_radiation_therapy',\n 'additional_surgery_locoregional_procedure',\n 'additional_surgery_metastatic_procedure',\n 'age_at_initial_pathologic_diagnosis',\n 'anatomic_neoplasm_subdivision',\n 'axillary_lymph_node_stage_method_type',\n 'axillary_lymph_node_stage_other_method_descriptive_text',\n 'bcr_followup_barcode',\n 'bcr_patient_barcode',\n 'bcr_sample_barcode',\n 'breast_cancer_surgery_margin_status',\n 'breast_carcinoma_estrogen_receptor_status',\n 'breast_carcinoma_immunohistochemistry_er_pos_finding_scale',\n 'breast_carcinoma_immunohistochemistry_pos_cell_score',\n 'breast_carcinoma_immunohistochemistry_prgstrn_rcptr_ps_fndng_scl',\n 'breast_carcinoma_primary_surgical_procedure_name',\n 'breast_carcinoma_progesterone_receptor_status',\n 'breast_carcinoma_surgical_procedure_name',\n 'breast_neoplasm_other_surgical_procedure_descriptive_text',\n 'cytokeratin_immunohistochemistry_staining_method_mcrmtstss_ndctr',\n 'days_to_additional_surgery_locoregional_procedure',\n 'days_to_additional_surgery_metastatic_procedure',\n 'days_to_birth',\n 'days_to_collection',\n 'days_to_death',\n 'days_to_initial_pathologic_diagnosis',\n 'days_to_last_followup',\n 'days_to_last_known_alive',\n 'days_to_new_tumor_event_additional_surgery_procedure',\n 'days_to_new_tumor_event_after_initial_treatment',\n 'disease_code',\n 'distant_metastasis_present_ind2',\n 'er_detection_method_text',\n 'er_level_cell_percentage_category',\n 'fluorescence_in_st_hybrdztn_dgnstc_prcdr_chrmsm_17_sgnl_rslt_rng',\n 'followup_case_report_form_submission_reason',\n 'form_completion_date',\n 'gender',\n 'her2_and_centromere_17_positive_finding_other_measuremnt_scl_txt',\n 'her2_erbb_method_calculation_method_text',\n 'her2_erbb_pos_finding_cell_percent_category',\n 'her2_erbb_pos_finding_fluorescence_n_st_hybrdztn_clcltn_mthd_txt',\n 'her2_immunohistochemistry_level_result',\n 'her2_neu_and_centromere_17_copy_number_analysis_npt_ttl_nmbr_cnt',\n 'her2_neu_breast_carcinoma_copy_analysis_input_total_number',\n 'her2_neu_chromosone_17_signal_ratio_value',\n 'her2_neu_metastatic_breast_carcinoma_copy_analysis_inpt_ttl_nmbr',\n 'histological_type',\n 'histological_type_other',\n 'history_of_neoadjuvant_treatment',\n 'hr2_n_nd_cntrmr_17_cpy_nmbr_mtsttc_brst_crcnm_nlyss_npt_ttl_nmbr',\n 'icd_10',\n 'icd_o_3_histology',\n 'icd_o_3_site',\n 'immunohistochemistry_positive_cell_score',\n 'informed_consent_verified',\n 'init_pathology_dx_method_other',\n 'initial_pathologic_diagnosis_method',\n 'initial_weight',\n 'is_ffpe',\n 'lab_proc_her2_neu_immunohistochemistry_receptor_status',\n 'lab_procedure_her2_neu_in_situ_hybrid_outcome_type',\n 'lost_follow_up',\n 'lymph_node_examined_count',\n 'margin_status',\n 'menopause_status',\n 'metastatic_breast_carcinm_ps_fndng_prgstrn_rcptr_thr_msr_scl_txt',\n 'metastatic_breast_carcinom_lb_prc_hr2_n_mmnhstchmstry_rcptr_stts',\n 'metastatic_breast_carcinoma_erbb2_immunohistochemistry_levl_rslt',\n 'metastatic_breast_carcinoma_estrogen_receptor_detection_mthd_txt',\n 'metastatic_breast_carcinoma_estrogen_receptor_status',\n 'metastatic_breast_carcinoma_estrogen_receptr_lvl_cll_prcnt_ctgry',\n 'metastatic_breast_carcinoma_her2_erbb_method_calculatin_mthd_txt',\n 'metastatic_breast_carcinoma_her2_erbb_pos_findng_cll_prcnt_ctgry',\n 'metastatic_breast_carcinoma_her2_neu_chromosone_17_signal_rat_vl',\n 'metastatic_breast_carcinoma_immunhstchmstry_r_pstv_fndng_scl_typ',\n 'metastatic_breast_carcinoma_immunohistochemistry_er_pos_cell_scr',\n 'metastatic_breast_carcinoma_immunohistochemistry_pr_pos_cell_scr',\n 'metastatic_breast_carcinoma_lab_proc_hr2_n_n_st_hybrdztn_tcm_typ',\n 'metastatic_breast_carcinoma_pos_finding_hr2_rbb2_thr_msr_scl_txt',\n 'metastatic_breast_carcinoma_progestern_rcptr_lvl_cll_prcnt_ctgry',\n 'metastatic_breast_carcinoma_progesterone_receptor_dtctn_mthd_txt',\n 'metastatic_breast_carcinoma_progesterone_receptor_status',\n 'metastatic_site_at_diagnosis',\n 'metastatic_site_at_diagnosis_other',\n 'methylation_Clusters_nature2012',\n 'miRNA_Clusters_nature2012',\n 'mtsttc_brst_crcnm_flrscnc_n_st_hybrdztn_dgnstc_prc_cntrmr_17_sgn',\n 'mtsttc_brst_crcnm_hr2_rbb_ps_fndng_flrscnc_n_st_hybrdztn_clcltn',\n 'mtsttc_brst_crcnm_mmnhstchmstry_prgstrn_rcptr_pstv_fndng_scl_typ',\n 'new_neoplasm_event_occurrence_anatomic_site',\n 'new_neoplasm_event_type',\n 'new_neoplasm_occurrence_anatomic_site_text',\n 'new_tumor_event_additional_surgery_procedure',\n 'new_tumor_event_after_initial_treatment',\n 'number_of_lymphnodes_positive_by_he',\n 'number_of_lymphnodes_positive_by_ihc',\n 'oct_embedded',\n 'other_dx',\n 'pathologic_M',\n 'pathologic_N',\n 'pathologic_T',\n 'pathologic_stage',\n 'pathology_report_file_name',\n 'patient_id',\n 'person_neoplasm_cancer_status',\n 'pgr_detection_method_text',\n 'pos_finding_her2_erbb2_other_measurement_scale_text',\n 'pos_finding_metastatic_brst_crcnm_strgn_rcptr_thr_msrmnt_scl_txt',\n 'pos_finding_progesterone_receptor_other_measurement_scale_text',\n 'positive_finding_estrogen_receptor_other_measurement_scale_text',\n 'postoperative_rx_tx',\n 'primary_lymph_node_presentation_assessment',\n 'progesterone_receptor_level_cell_percent_category',\n 'project_code',\n 'radiation_therapy',\n 'sample_type',\n 'sample_type_id',\n 'surgical_procedure_purpose_other_text',\n 'system_version',\n 'targeted_molecular_therapy',\n 'tissue_prospective_collection_indicator',\n 'tissue_retrospective_collection_indicator',\n 'tissue_source_site',\n 'tumor_tissue_site',\n 'vial_number',\n 'vital_status',\n 'year_of_initial_pathologic_diagnosis',\n '_GENOMIC_ID_TCGA_BRCA_exp_HiSeqV2_exon',\n '_GENOMIC_ID_TCGA_BRCA_exp_HiSeqV2_PANCAN',\n '_GENOMIC_ID_TCGA_BRCA_RPPA_RBN',\n '_GENOMIC_ID_TCGA_BRCA_mutation',\n '_GENOMIC_ID_TCGA_BRCA_PDMRNAseq',\n '_GENOMIC_ID_TCGA_BRCA_hMethyl450',\n '_GENOMIC_ID_TCGA_BRCA_RPPA',\n '_GENOMIC_ID_TCGA_BRCA_PDMRNAseqCNV',\n '_GENOMIC_ID_TCGA_BRCA_mutation_curated_wustl_gene',\n '_GENOMIC_ID_TCGA_BRCA_hMethyl27',\n '_GENOMIC_ID_TCGA_BRCA_PDMarrayCNV',\n '_GENOMIC_ID_TCGA_BRCA_miRNA_HiSeq',\n '_GENOMIC_ID_TCGA_BRCA_mutation_wustl_gene',\n '_GENOMIC_ID_TCGA_BRCA_miRNA_GA',\n '_GENOMIC_ID_TCGA_BRCA_exp_HiSeqV2_percentile',\n '_GENOMIC_ID_data/public/TCGA/BRCA/miRNA_GA_gene',\n '_GENOMIC_ID_TCGA_BRCA_gistic2thd',\n '_GENOMIC_ID_data/public/TCGA/BRCA/miRNA_HiSeq_gene',\n '_GENOMIC_ID_TCGA_BRCA_G4502A_07_3',\n '_GENOMIC_ID_TCGA_BRCA_exp_HiSeqV2',\n '_GENOMIC_ID_TCGA_BRCA_gistic2',\n '_GENOMIC_ID_TCGA_BRCA_PDMarray']"
     },
     "execution_count": 7,
     "metadata": {},
     "output_type": "execute_result"
    }
   ],
   "execution_count": 7
  },
  {
   "cell_type": "code",
   "execution_count": null,
   "outputs": [],
   "source": [
    "f'''\n",
    "Below is a list of column names from a biomedical dataset. Please examine it and identify the columns that are likely to contain information about patients' age. Additionally, please do the same for columns that may hold data on patients' gender. Please provide your answer by strictly following this format, without redundant words:\n",
    "candidate_age_cols = [col_name1, col_name2, ...]\n",
    "candidate_gender_cols = [col_name1, col_name2, ...]\n",
    "If no columns match a criterion, please provide an empty list.\n",
    "\n",
    "Column names:\n",
    "{clinical_data_cols}\n",
    "'''"
   ],
   "metadata": {
    "collapsed": false
   }
  },
  {
   "cell_type": "code",
   "execution_count": null,
   "outputs": [],
   "source": [
    "candidate_age_cols = ['Age_at_Initial_Pathologic_Diagnosis_nature2012', 'age_at_initial_pathologic_diagnosis',\n",
    "                      'days_to_birth', 'year_of_initial_pathologic_diagnosis']\n",
    "candidate_gender_cols = ['Gender_nature2012', 'gender']"
   ],
   "metadata": {
    "collapsed": false
   }
  },
  {
   "cell_type": "markdown",
   "source": [
    "Choose a single column from the candidate columns that record age and gender information respectively.\n",
    "If no column meets the requirement, keep 'age_col' or 'gender_col' to None"
   ],
   "metadata": {
    "collapsed": false,
    "ExecuteTime": {
     "end_time": "2023-12-31T03:57:44.207565572Z",
     "start_time": "2023-12-31T03:57:44.202177544Z"
    }
   },
   "outputs": [],
   "execution_count": 9
  },
  {
   "cell_type": "code",
   "execution_count": null,
   "outputs": [],
   "source": [
    "preview_df(clinical_data[candidate_age_cols])"
   ],
   "metadata": {
    "collapsed": false
   }
  },
  {
   "cell_type": "code",
   "execution_count": null,
   "outputs": [],
   "source": [
    "age_col = 'age_at_initial_pathologic_diagnosis'"
   ],
   "metadata": {
    "collapsed": false
   }
  },
  {
   "cell_type": "code",
   "execution_count": null,
   "outputs": [],
   "source": [
    "preview_df(clinical_data[candidate_gender_cols])"
   ],
   "metadata": {
    "collapsed": false
   }
  },
  {
   "cell_type": "code",
   "execution_count": null,
   "outputs": [],
   "source": [
    "gender_col = 'gender'"
   ],
   "metadata": {
    "collapsed": false
   }
  },
  {
   "cell_type": "code",
   "execution_count": null,
   "outputs": [],
   "source": [
    "selected_clinical_data = xena_select_clinical_features(clinical_data, TRAIT, age_col=age_col, gender_col=gender_col)"
   ],
   "metadata": {
    "collapsed": false
   }
  },
  {
   "cell_type": "code",
   "execution_count": null,
   "outputs": [],
   "source": [
    "if NORMALIZE_GENE:\n",
    "    genetic_data = normalize_gene_symbols_in_index(genetic_data)"
   ],
   "metadata": {
    "collapsed": false
   }
  },
  {
   "cell_type": "code",
   "execution_count": null,
   "outputs": [],
   "source": [
    "merged_data = selected_clinical_data.join(genetic_data.T).dropna()\n",
    "merged_data.head()"
   ],
   "metadata": {
    "collapsed": false
   }
  },
  {
   "cell_type": "code",
   "execution_count": null,
   "outputs": [],
   "source": [
    "print(f\"The merged dataset contains {len(merged_data)} samples.\")\n",
    "is_trait_biased, merge_data = judge_and_remove_biased_features(merged_data, TRAIT, trait_type=trait_type)\n",
    "is_trait_biased"
   ],
   "metadata": {
    "collapsed": false
   }
  },
  {
   "cell_type": "code",
   "execution_count": null,
   "outputs": [],
   "source": [
    "merged_data.head()\n",
    "if not is_trait_biased:\n",
    "    merge_data.to_csv(os.path.join(OUTPUT_DIR, cohort + '.csv'), index=False)"
   ],
   "metadata": {
    "collapsed": false
   }
  },
  {
   "cell_type": "code",
   "execution_count": null,
   "outputs": [],
   "source": [
    "save_cohort_info(cohort, JSON_PATH, is_available, is_trait_biased, merged_data)"
   ],
   "metadata": {
    "collapsed": false
   }
  },
  {
   "cell_type": "markdown",
   "source": [
    "## 2.2. The GEO dataset"
   ],
   "metadata": {
    "collapsed": false,
    "ExecuteTime": {
     "end_time": "2023-12-28T21:28:38.028916303Z",
     "start_time": "2023-12-28T21:28:38.016245426Z"
    }
   },
   "outputs": [
    {
     "name": "stdout",
     "output_type": "stream",
     "text": [
      "The least common label is '0' with 113 occurrences. This represents 9.30% of the dataset.\n",
      "The distribution of the trait 'Breast Cancer' in this dataset is fine.\n"
     ]
    }
   ],
   "execution_count": 19
  },
  {
   "cell_type": "markdown",
   "source": [
    "In GEO, there may be one or multiple cohorts for a trait. Each cohort is identified by an accession number. We iterate over all accession numbers in the corresponding subdirectory, preprocess the cohort data, and save them to csv files."
   ],
   "metadata": {
    "collapsed": false,
    "ExecuteTime": {
     "end_time": "2023-12-31T03:25:23.253882615Z",
     "start_time": "2023-12-31T03:25:23.244062710Z"
    }
   },
   "outputs": [],
   "execution_count": 21
  },
  {
   "cell_type": "code",
   "execution_count": 3,
   "outputs": [
    {
     "data": {
      "text/plain": "['GSE118723', 'GSE123993', 'GSE129604', 'GSE86406']"
     },
     "execution_count": 3,
     "metadata": {},
     "output_type": "execute_result"
    }
   ],
   "source": [
    "dataset = 'GEO'\n",
    "trait_subdir = \"Vitamin-D-Levels\"\n",
    "\n",
    "trait_path = os.path.join(DATA_ROOT, dataset, trait_subdir)\n",
    "os.listdir(trait_path)"
   ],
   "metadata": {
    "collapsed": false,
    "ExecuteTime": {
     "end_time": "2024-01-27T22:43:26.849794456Z",
     "start_time": "2024-01-27T22:43:26.827929623Z"
    }
   }
  },
  {
   "cell_type": "markdown",
   "source": [
    "Repeat the below steps for all the accession numbers"
   ],
   "metadata": {
    "collapsed": false,
    "ExecuteTime": {
     "end_time": "2023-12-31T03:39:42.634870142Z",
     "start_time": "2023-12-31T03:39:42.534093295Z"
    }
   },
   "outputs": [],
   "execution_count": 70
  },
  {
   "cell_type": "code",
   "execution_count": 4,
   "outputs": [
    {
     "data": {
      "text/plain": "('/media/techt/DATA/GEO/Vitamin-D-Levels/GSE123993/GSE123993_family.soft.gz',\n '/media/techt/DATA/GEO/Vitamin-D-Levels/GSE123993/GSE123993_series_matrix.txt.gz')"
     },
     "execution_count": 4,
     "metadata": {},
     "output_type": "execute_result"
    }
   ],
   "source": [
    "cohort = accession_num = \"GSE123993\"\n",
    "cohort_dir = os.path.join(trait_path, accession_num)\n",
    "soft_file, matrix_file = geo_get_relevant_filepaths(cohort_dir)\n",
    "soft_file, matrix_file"
   ],
   "metadata": {
    "collapsed": false,
    "ExecuteTime": {
     "end_time": "2024-01-27T22:43:27.270516228Z",
     "start_time": "2024-01-27T22:43:27.247827865Z"
    }
   }
  },
  {
   "cell_type": "markdown",
   "source": [
    "### Initial filtering and clinical data preprocessing"
   ],
   "metadata": {
    "collapsed": false
   }
  },
  {
   "cell_type": "code",
   "execution_count": 5,
   "outputs": [
    {
     "name": "stdout",
     "output_type": "stream",
     "text": [
      "!Series_title\t\"No effect of calcifediol supplementation on skeletal muscle transcriptome in vitamin D deficient frail older adults.\"\n",
      "!Series_summary\t\"Vitamin D deficiency is common among older adults and has been linked to muscle weakness. Vitamin D supplementation has been proposed as a strategy to improve muscle function in older adults. The aim of this study was to investigate the effect of calcifediol (25-hydroxycholecalciferol) on whole genome gene expression in skeletal muscle of vitamin D deficient frail older adults. A double-blind placebo controlled trial was conducted in vitamin D deficient frail older adults (aged above 65), characterized by blood 25-hydroxycholecalciferol concentrations between 20 and 50 nmol/L. Subjects were randomized across the placebo group (n=12) and the calcifediol group (n=10, 10 µg per day). Muscle biopsies were obtained before and after six months of calcifediol or placebo supplementation and subjected to whole genome gene expression profiling using Affymetrix HuGene 2.1ST arrays. Expression of the vitamin D receptor gene was virtually undetectable in human skeletal muscle biopsies. Calcifediol supplementation led to a significant increase in blood 25-hydroxycholecalciferol levels compared to the placebo group. No difference between treatment groups was observed on strength outcomes. The whole transcriptome effects of calcifediol and placebo were very weak. Correcting for multiple testing using false discovery rate did not yield any differentially expressed genes using any sensible cut-offs. P-values were uniformly distributed across all genes, suggesting that low p-values are likely to be false positives. Partial least squares-discriminant analysis and principle component analysis was unable to separate treatment groups. Calcifediol supplementation did not affect the skeletal muscle transcriptome in frail older adults. Our findings indicate that vitamin D supplementation has no effects on skeletal muscle gene expression, suggesting that skeletal muscle may not be a direct target of vitamin D in older adults.\"\n",
      "!Series_overall_design\t\"Microarray analysis was performed on skeletal muscle biopsies (m. vastus lateralis) from vitamin D deficient frail older adults before and after supplementation with 25-hydroxycholecalciferol.\"\n"
     ]
    }
   ],
   "source": [
    "background_prefixes = ['!Series_title', '!Series_summary', '!Series_overall_design']\n",
    "clinical_prefixes = ['!Sample_geo_accession', '!Sample_characteristics_ch1']\n",
    "\n",
    "background_info, clinical_data = get_background_and_clinical_data(matrix_file, background_prefixes, clinical_prefixes)\n",
    "print(background_info)"
   ],
   "metadata": {
    "collapsed": false,
    "ExecuteTime": {
     "end_time": "2024-01-27T22:43:27.823005127Z",
     "start_time": "2024-01-27T22:43:27.619876540Z"
    }
   }
  },
  {
   "cell_type": "code",
   "execution_count": 6,
   "outputs": [
    {
     "data": {
      "text/plain": "         !Sample_geo_accession  \\\n0  !Sample_characteristics_ch1   \n1  !Sample_characteristics_ch1   \n2  !Sample_characteristics_ch1   \n3  !Sample_characteristics_ch1   \n4  !Sample_characteristics_ch1   \n\n                                          GSM3518336  \\\n0                                     tissue: muscle   \n1                                          Sex: Male   \n2                                   subject id: 3087   \n3  intervention group: 25-hydroxycholecalciferol ...   \n4   time of sampling: before intervention (baseline)   \n\n                                          GSM3518337  \\\n0                                     tissue: muscle   \n1                                          Sex: Male   \n2                                   subject id: 3087   \n3  intervention group: 25-hydroxycholecalciferol ...   \n4               time of sampling: after intervention   \n\n                                          GSM3518338  \\\n0                                     tissue: muscle   \n1                                        Sex: Female   \n2                                   subject id: 3088   \n3  intervention group: 25-hydroxycholecalciferol ...   \n4   time of sampling: before intervention (baseline)   \n\n                                          GSM3518339  \\\n0                                     tissue: muscle   \n1                                        Sex: Female   \n2                                   subject id: 3088   \n3  intervention group: 25-hydroxycholecalciferol ...   \n4               time of sampling: after intervention   \n\n                                          GSM3518340  \\\n0                                     tissue: muscle   \n1                                        Sex: Female   \n2                                   subject id: 3090   \n3  intervention group: 25-hydroxycholecalciferol ...   \n4   time of sampling: before intervention (baseline)   \n\n                                          GSM3518341  \\\n0                                     tissue: muscle   \n1                                        Sex: Female   \n2                                   subject id: 3090   \n3  intervention group: 25-hydroxycholecalciferol ...   \n4               time of sampling: after intervention   \n\n                                          GSM3518342  \\\n0                                     tissue: muscle   \n1                                          Sex: Male   \n2                                   subject id: 3106   \n3  intervention group: 25-hydroxycholecalciferol ...   \n4   time of sampling: before intervention (baseline)   \n\n                                          GSM3518343  \\\n0                                     tissue: muscle   \n1                                          Sex: Male   \n2                                   subject id: 3106   \n3  intervention group: 25-hydroxycholecalciferol ...   \n4               time of sampling: after intervention   \n\n                                         GSM3518344  ...  \\\n0                                    tissue: muscle  ...   \n1                                         Sex: Male  ...   \n2                                  subject id: 3178  ...   \n3                       intervention group: Placebo  ...   \n4  time of sampling: before intervention (baseline)  ...   \n\n                                          GSM3518370  \\\n0                                     tissue: muscle   \n1                                          Sex: Male   \n2                                   subject id: 3498   \n3  intervention group: 25-hydroxycholecalciferol ...   \n4   time of sampling: before intervention (baseline)   \n\n                                          GSM3518371  \\\n0                                     tissue: muscle   \n1                                          Sex: Male   \n2                                   subject id: 3498   \n3  intervention group: 25-hydroxycholecalciferol ...   \n4               time of sampling: after intervention   \n\n                                          GSM3518372  \\\n0                                     tissue: muscle   \n1                                          Sex: Male   \n2                                   subject id: 3516   \n3  intervention group: 25-hydroxycholecalciferol ...   \n4   time of sampling: before intervention (baseline)   \n\n                                          GSM3518373  \\\n0                                     tissue: muscle   \n1                                          Sex: Male   \n2                                   subject id: 3516   \n3  intervention group: 25-hydroxycholecalciferol ...   \n4               time of sampling: after intervention   \n\n                                         GSM3518374  \\\n0                                    tissue: muscle   \n1                                         Sex: Male   \n2                                  subject id: 3614   \n3                       intervention group: Placebo   \n4  time of sampling: before intervention (baseline)   \n\n                             GSM3518375  \\\n0                        tissue: muscle   \n1                             Sex: Male   \n2                      subject id: 3614   \n3           intervention group: Placebo   \n4  time of sampling: after intervention   \n\n                                          GSM3518376  \\\n0                                     tissue: muscle   \n1                                        Sex: Female   \n2                                   subject id: 3695   \n3  intervention group: 25-hydroxycholecalciferol ...   \n4   time of sampling: before intervention (baseline)   \n\n                                          GSM3518377  \\\n0                                     tissue: muscle   \n1                                        Sex: Female   \n2                                   subject id: 3695   \n3  intervention group: 25-hydroxycholecalciferol ...   \n4               time of sampling: after intervention   \n\n                                         GSM3518378  \\\n0                                    tissue: muscle   \n1                                       Sex: Female   \n2                                  subject id: 3731   \n3                       intervention group: Placebo   \n4  time of sampling: before intervention (baseline)   \n\n                             GSM3518379  \n0                        tissue: muscle  \n1                           Sex: Female  \n2                      subject id: 3731  \n3           intervention group: Placebo  \n4  time of sampling: after intervention  \n\n[5 rows x 45 columns]",
      "text/html": "<div>\n<style scoped>\n    .dataframe tbody tr th:only-of-type {\n        vertical-align: middle;\n    }\n\n    .dataframe tbody tr th {\n        vertical-align: top;\n    }\n\n    .dataframe thead th {\n        text-align: right;\n    }\n</style>\n<table border=\"1\" class=\"dataframe\">\n  <thead>\n    <tr style=\"text-align: right;\">\n      <th></th>\n      <th>!Sample_geo_accession</th>\n      <th>GSM3518336</th>\n      <th>GSM3518337</th>\n      <th>GSM3518338</th>\n      <th>GSM3518339</th>\n      <th>GSM3518340</th>\n      <th>GSM3518341</th>\n      <th>GSM3518342</th>\n      <th>GSM3518343</th>\n      <th>GSM3518344</th>\n      <th>...</th>\n      <th>GSM3518370</th>\n      <th>GSM3518371</th>\n      <th>GSM3518372</th>\n      <th>GSM3518373</th>\n      <th>GSM3518374</th>\n      <th>GSM3518375</th>\n      <th>GSM3518376</th>\n      <th>GSM3518377</th>\n      <th>GSM3518378</th>\n      <th>GSM3518379</th>\n    </tr>\n  </thead>\n  <tbody>\n    <tr>\n      <th>0</th>\n      <td>!Sample_characteristics_ch1</td>\n      <td>tissue: muscle</td>\n      <td>tissue: muscle</td>\n      <td>tissue: muscle</td>\n      <td>tissue: muscle</td>\n      <td>tissue: muscle</td>\n      <td>tissue: muscle</td>\n      <td>tissue: muscle</td>\n      <td>tissue: muscle</td>\n      <td>tissue: muscle</td>\n      <td>...</td>\n      <td>tissue: muscle</td>\n      <td>tissue: muscle</td>\n      <td>tissue: muscle</td>\n      <td>tissue: muscle</td>\n      <td>tissue: muscle</td>\n      <td>tissue: muscle</td>\n      <td>tissue: muscle</td>\n      <td>tissue: muscle</td>\n      <td>tissue: muscle</td>\n      <td>tissue: muscle</td>\n    </tr>\n    <tr>\n      <th>1</th>\n      <td>!Sample_characteristics_ch1</td>\n      <td>Sex: Male</td>\n      <td>Sex: Male</td>\n      <td>Sex: Female</td>\n      <td>Sex: Female</td>\n      <td>Sex: Female</td>\n      <td>Sex: Female</td>\n      <td>Sex: Male</td>\n      <td>Sex: Male</td>\n      <td>Sex: Male</td>\n      <td>...</td>\n      <td>Sex: Male</td>\n      <td>Sex: Male</td>\n      <td>Sex: Male</td>\n      <td>Sex: Male</td>\n      <td>Sex: Male</td>\n      <td>Sex: Male</td>\n      <td>Sex: Female</td>\n      <td>Sex: Female</td>\n      <td>Sex: Female</td>\n      <td>Sex: Female</td>\n    </tr>\n    <tr>\n      <th>2</th>\n      <td>!Sample_characteristics_ch1</td>\n      <td>subject id: 3087</td>\n      <td>subject id: 3087</td>\n      <td>subject id: 3088</td>\n      <td>subject id: 3088</td>\n      <td>subject id: 3090</td>\n      <td>subject id: 3090</td>\n      <td>subject id: 3106</td>\n      <td>subject id: 3106</td>\n      <td>subject id: 3178</td>\n      <td>...</td>\n      <td>subject id: 3498</td>\n      <td>subject id: 3498</td>\n      <td>subject id: 3516</td>\n      <td>subject id: 3516</td>\n      <td>subject id: 3614</td>\n      <td>subject id: 3614</td>\n      <td>subject id: 3695</td>\n      <td>subject id: 3695</td>\n      <td>subject id: 3731</td>\n      <td>subject id: 3731</td>\n    </tr>\n    <tr>\n      <th>3</th>\n      <td>!Sample_characteristics_ch1</td>\n      <td>intervention group: 25-hydroxycholecalciferol ...</td>\n      <td>intervention group: 25-hydroxycholecalciferol ...</td>\n      <td>intervention group: 25-hydroxycholecalciferol ...</td>\n      <td>intervention group: 25-hydroxycholecalciferol ...</td>\n      <td>intervention group: 25-hydroxycholecalciferol ...</td>\n      <td>intervention group: 25-hydroxycholecalciferol ...</td>\n      <td>intervention group: 25-hydroxycholecalciferol ...</td>\n      <td>intervention group: 25-hydroxycholecalciferol ...</td>\n      <td>intervention group: Placebo</td>\n      <td>...</td>\n      <td>intervention group: 25-hydroxycholecalciferol ...</td>\n      <td>intervention group: 25-hydroxycholecalciferol ...</td>\n      <td>intervention group: 25-hydroxycholecalciferol ...</td>\n      <td>intervention group: 25-hydroxycholecalciferol ...</td>\n      <td>intervention group: Placebo</td>\n      <td>intervention group: Placebo</td>\n      <td>intervention group: 25-hydroxycholecalciferol ...</td>\n      <td>intervention group: 25-hydroxycholecalciferol ...</td>\n      <td>intervention group: Placebo</td>\n      <td>intervention group: Placebo</td>\n    </tr>\n    <tr>\n      <th>4</th>\n      <td>!Sample_characteristics_ch1</td>\n      <td>time of sampling: before intervention (baseline)</td>\n      <td>time of sampling: after intervention</td>\n      <td>time of sampling: before intervention (baseline)</td>\n      <td>time of sampling: after intervention</td>\n      <td>time of sampling: before intervention (baseline)</td>\n      <td>time of sampling: after intervention</td>\n      <td>time of sampling: before intervention (baseline)</td>\n      <td>time of sampling: after intervention</td>\n      <td>time of sampling: before intervention (baseline)</td>\n      <td>...</td>\n      <td>time of sampling: before intervention (baseline)</td>\n      <td>time of sampling: after intervention</td>\n      <td>time of sampling: before intervention (baseline)</td>\n      <td>time of sampling: after intervention</td>\n      <td>time of sampling: before intervention (baseline)</td>\n      <td>time of sampling: after intervention</td>\n      <td>time of sampling: before intervention (baseline)</td>\n      <td>time of sampling: after intervention</td>\n      <td>time of sampling: before intervention (baseline)</td>\n      <td>time of sampling: after intervention</td>\n    </tr>\n  </tbody>\n</table>\n<p>5 rows × 45 columns</p>\n</div>"
     },
     "execution_count": 6,
     "metadata": {},
     "output_type": "execute_result"
    }
   ],
   "source": [
    "clinical_data.head()"
   ],
   "metadata": {
    "collapsed": false,
    "ExecuteTime": {
     "end_time": "2024-01-27T22:43:27.851389372Z",
     "start_time": "2024-01-27T22:43:27.850665271Z"
    }
   }
  },
  {
   "cell_type": "code",
   "execution_count": 7,
   "outputs": [
    {
     "data": {
      "text/plain": "{0: ['tissue: muscle'],\n 1: ['Sex: Male', 'Sex: Female'],\n 2: ['subject id: 3087',\n  'subject id: 3088',\n  'subject id: 3090',\n  'subject id: 3106',\n  'subject id: 3178',\n  'subject id: 3241',\n  'subject id: 3258',\n  'subject id: 3279',\n  'subject id: 3283',\n  'subject id: 3295',\n  'subject id: 3322',\n  'subject id: 3341',\n  'subject id: 3360',\n  'subject id: 3361',\n  'subject id: 3375',\n  'subject id: 3410',\n  'subject id: 3430',\n  'subject id: 3498',\n  'subject id: 3516',\n  'subject id: 3614',\n  'subject id: 3695',\n  'subject id: 3731'],\n 3: ['intervention group: 25-hydroxycholecalciferol (25(OH)D3)',\n  'intervention group: Placebo'],\n 4: ['time of sampling: before intervention (baseline)',\n  'time of sampling: after intervention']}"
     },
     "execution_count": 7,
     "metadata": {},
     "output_type": "execute_result"
    }
   ],
   "source": [
    "clinical_data_unique = get_unique_values_by_row(clinical_data)\n",
    "clinical_data_unique"
   ],
   "metadata": {
    "collapsed": false,
    "ExecuteTime": {
     "end_time": "2024-01-27T22:43:28.031861505Z",
     "start_time": "2024-01-27T22:43:28.030332850Z"
    }
   }
  },
  {
   "cell_type": "markdown",
   "source": [
    "Analyze the metadata to determine data relevance and find ways to extract the clinical data.\n",
    "Reference prompt:"
   ],
   "metadata": {
    "collapsed": false,
    "ExecuteTime": {
     "end_time": "2023-12-31T03:58:04.978204446Z",
     "start_time": "2023-12-31T03:58:04.922270095Z"
    }
   },
   "outputs": [
    {
     "data": {
      "text/plain": "'As a biomedical research team, we are selecting datasets to study the association between the human trait \\'Breast Cancer\\' and genetic factors, optionally considering the influence of age and gender. After searching the GEO database and parsing the matrix file of a series, we obtained background information and sample characteristics data. We will provide textual information about the dataset background, and a Python dictionary storing a list of unique values for each field of the sample characteristics data. Please carefully review the provided information and answer the following questions about this dataset:\\n1. Does this dataset contain gene expression data? (Note: Pure miRNA data is not suitable.)\\n2. For each of the traits \\'Breast Cancer\\', \\'age\\', and \\'gender\\', please address these points:\\n   (1) Is there human data available for this trait?\\n   (2) If so, identify the key in the sample characteristics dictionary where unique values of this trait is recorded. The key is an integer. The trait information might be explicitly recorded, or can be inferred from the field with some biomedical knowledge or understanding about the data collection process.\\n   (3) Choose an appropriate data type (either \\'continuous\\' or \\'binary\\') for each trait. Write a Python function to convert any given value of the trait to this data type. The function should handle inference about the trait value and convert unknown values to None.\\n   Name the functions \\'convert_trait\\', \\'convert_age\\', and \\'convert_gender\\', respectively.\\n\\nBackground information about the dataset:\\n!Series_title\\t\"Unlocking Molecular mechanisms and identifying druggable targets in matched-paired brain metastasis of Breast and Lung cancers\\xa0\"\\n!Series_summary\\t\"Introduction: The incidence of brain metastases in cancer patients is increasing, with lung and breast cancer being the most common sources. Despite advancements in targeted therapies, the prognosis remains poor, highlighting the importance to investigate the underlying mechanisms in brain metastases. The aim of this study was to investigate the differences in the molecular mechanisms involved in brain metastasis of breast and lung cancers. In addition, we aimed to identify cancer lineage-specific druggable targets in the brain metastasis. Methods: To that aim, a cohort of 44 FFPE tissue samples, including 22 breast cancer and 22 lung adenocarcinoma (LUAD) and their matched-paired brain metastases were collected. Targeted gene expression profiles of primary tumors were compared to their matched-paired brain metastases samples using nCounter PanCancer IO 360™ Panel of NanoString technologies. Pathway analysis was performed using gene set analysis (GSA) and gene set enrichment analysis (GSEA). The validation was performed by using Immunohistochemistry (IHC) to confirm the expression of immune checkpoint inhibitors. Results: Our results revealed the significant upregulation of cancer-related genes in primary tumors compared to their matched-paired brain metastases (adj. p\\u2009≤\\u20090.05). We found that upregulated differentially expressed genes in breast cancer brain metastasis (BM-BC) and brain metastasis from lung adenocarcinoma (BM-LUAD) were associated with the metabolic stress pathway, particularly related to the glycolysis. Additionally, we found that the upregulated genes in BM-BC and BM-LUAD played roles in immune response regulation, tumor growth, and proliferation. Importantly, we identified high expression of the immune checkpoint VTCN1 in BM-BC, and VISTA, IDO1, NT5E, and HDAC3 in BM-LUAD. Validation using immunohistochemistry further supported these findings. Conclusion: In conclusion, the findings highlight the significance of using matched-paired samples to identify cancer lineage-specific therapies that may improve brain metastasis patients outcomes.\"\\n!Series_overall_design\\t\"RNA was extracted from FFPE samples of (primary LUAD and their matched paired brain metastasis n=22, primary BC and their matched paired brain metastasis n=22)\"\\n\\nSample characteristics dictionary (from \"!Sample_characteristics_ch1\", converted to a Python dictionary that stores the unique values for each field):\\n{0: [\\'age at diagnosis: 49\\', \\'age at diagnosis: 44\\', \\'age at diagnosis: 41\\', \\'age at diagnosis: 40\\', \\'age at diagnosis: 48\\', \\'age at diagnosis: 42\\', \\'age at diagnosis: 47\\', \\'age at diagnosis: 53\\', \\'age at diagnosis: 74\\', \\'age at diagnosis: 58\\', \\'age at diagnosis: 51\\', \\'age at diagnosis: 55\\', \\'age at diagnosis: 46\\', \\'age at diagnosis: 59\\', \\'age at diagnosis: 50\\', \\'age at diagnosis: 57\\', \\'age at diagnosis: 60\\', \\'age at diagnosis: 69\\', \\'age at diagnosis: n.a.\\', \\'age at diagnosis: 65\\', \\'age at diagnosis: 37\\', \\'age at diagnosis: 63\\', \\'age at diagnosis: 70\\', \\'age at diagnosis: 66\\', \\'age at diagnosis: 64\\'], 1: [\\'Sex: female\\', \\'Sex: male\\'], 2: [\\'histology: TNBC\\', \\'histology: ER+ PR+ HER2-\\', \\'histology: Unknown\\', \\'histology: ER- PR- HER2+\\', \\'histology: ER+ PR-HER2+\\', \\'histology: ER+ PR- HER2-\\', \\'histology: ER- PR+ HER2-\\', \\'histology: adenocaricnoma\\'], 3: [\\'smoking status: n.a\\', \\'smoking status: former-smoker\\', \\'smoking status: smoker\\', \\'smoking status: Never smoking\\', \\'smoking status: unknown\\', \\'smoking status: former-roker\\'], 4: [\\'treatment after surgery of bm: surgery + chemotherpy\\', \\'treatment after surgery of bm: surgery +  chemotherpy + Radiotherapy\\', \\'treatment after surgery of bm: surgery + chemotherapy + Radiotherapy\\', \\'treatment after surgery of bm: surgery\\', \\'treatment after surgery of bm: surgery +  chemotherapy + Radiotherapy\\', \\'treatment after surgery of bm: surgery + chemotherapy\\', \\'treatment after surgery of bm: surgery + chemotherpy + Radiotherapy\\', \\'treatment after surgery of bm: surgery + chemotheapy + Radiotherapy\\', \\'treatment after surgery of bm: Chemoterapy\\', \\'treatment after surgery of bm: Radiotherapy & Chemoterapy\\', \\'treatment after surgery of bm: Radiotherapy\\', \\'treatment after surgery of bm: Other\\', \\'treatment after surgery of bm: Surgery & Chemotherapy & Radiotherapy\\', \\'treatment after surgery of bm: surgery & Radiotherapy\\', \\'treatment after surgery of bm: surgery & Radiochemotherapy\\', \\'treatment after surgery of bm: No treatment\\', \\'treatment after surgery of bm: WBRT\\', \\'treatment after surgery of bm: SRT\\']}\\n'"
     },
     "execution_count": 29,
     "metadata": {},
     "output_type": "execute_result"
    }
   ],
   "execution_count": 29
  },
  {
   "cell_type": "code",
   "execution_count": 8,
   "outputs": [
    {
     "data": {
      "text/plain": "'As a biomedical research team, we are selecting datasets to study the association between the human trait \\'Vitamin D Levels\\' and genetic factors, optionally considering the influence of age and gender. After searching the GEO database and parsing the matrix file of a series, we obtained background information and sample characteristics data. We will provide textual information about the dataset background, and a Python dictionary storing a list of unique values for each field of the sample characteristics data. Please carefully review the provided information and answer the following questions about this dataset:\\n1. Does this dataset contain gene expression data? (Note: Pure miRNA data is not suitable.)\\n2. For each of the traits \\'Vitamin D Levels\\', \\'age\\', and \\'gender\\', please address these points:\\n   (1) Is there human data available for this trait?\\n   (2) If so, identify the key in the sample characteristics dictionary where unique values of this trait is recorded. The key is an integer. The trait information might be explicitly recorded, or can be inferred from the field with some biomedical knowledge or understanding about the data collection process.\\n   (3) Choose an appropriate data type (either \\'continuous\\' or \\'binary\\') for each trait. Write a Python function to convert any given value of the trait to this data type. Do remember to separate the value by colon \\':\\' first, as the row header should not be included in the returned value. The function should handle inference about the trait value and convert unknown values to None.\\n   Name the functions \\'convert_trait\\', \\'convert_age\\', and \\'convert_gender\\', respectively.\\n\\nBackground information about the dataset:\\n!Series_title\\t\"No effect of calcifediol supplementation on skeletal muscle transcriptome in vitamin D deficient frail older adults.\"\\n!Series_summary\\t\"Vitamin D deficiency is common among older adults and has been linked to muscle weakness. Vitamin D supplementation has been proposed as a strategy to improve muscle function in older adults. The aim of this study was to investigate the effect of calcifediol (25-hydroxycholecalciferol) on whole genome gene expression in skeletal muscle of vitamin D deficient frail older adults. A double-blind placebo controlled trial was conducted in vitamin D deficient frail older adults (aged above 65), characterized by blood 25-hydroxycholecalciferol concentrations between 20 and 50 nmol/L. Subjects were randomized across the placebo group (n=12) and the calcifediol group (n=10, 10 µg per day). Muscle biopsies were obtained before and after six months of calcifediol or placebo supplementation and subjected to whole genome gene expression profiling using Affymetrix HuGene 2.1ST arrays. Expression of the vitamin D receptor gene was virtually undetectable in human skeletal muscle biopsies. Calcifediol supplementation led to a significant increase in blood 25-hydroxycholecalciferol levels compared to the placebo group. No difference between treatment groups was observed on strength outcomes. The whole transcriptome effects of calcifediol and placebo were very weak. Correcting for multiple testing using false discovery rate did not yield any differentially expressed genes using any sensible cut-offs. P-values were uniformly distributed across all genes, suggesting that low p-values are likely to be false positives. Partial least squares-discriminant analysis and principle component analysis was unable to separate treatment groups. Calcifediol supplementation did not affect the skeletal muscle transcriptome in frail older adults. Our findings indicate that vitamin D supplementation has no effects on skeletal muscle gene expression, suggesting that skeletal muscle may not be a direct target of vitamin D in older adults.\"\\n!Series_overall_design\\t\"Microarray analysis was performed on skeletal muscle biopsies (m. vastus lateralis) from vitamin D deficient frail older adults before and after supplementation with 25-hydroxycholecalciferol.\"\\n\\nSample characteristics dictionary (from \"!Sample_characteristics_ch1\", converted to a Python dictionary that stores the unique values for each field):\\n{0: [\\'tissue: muscle\\'], 1: [\\'Sex: Male\\', \\'Sex: Female\\'], 2: [\\'subject id: 3087\\', \\'subject id: 3088\\', \\'subject id: 3090\\', \\'subject id: 3106\\', \\'subject id: 3178\\', \\'subject id: 3241\\', \\'subject id: 3258\\', \\'subject id: 3279\\', \\'subject id: 3283\\', \\'subject id: 3295\\', \\'subject id: 3322\\', \\'subject id: 3341\\', \\'subject id: 3360\\', \\'subject id: 3361\\', \\'subject id: 3375\\', \\'subject id: 3410\\', \\'subject id: 3430\\', \\'subject id: 3498\\', \\'subject id: 3516\\', \\'subject id: 3614\\', \\'subject id: 3695\\', \\'subject id: 3731\\'], 3: [\\'intervention group: 25-hydroxycholecalciferol (25(OH)D3)\\', \\'intervention group: Placebo\\'], 4: [\\'time of sampling: before intervention (baseline)\\', \\'time of sampling: after intervention\\']}\\n'"
     },
     "execution_count": 8,
     "metadata": {},
     "output_type": "execute_result"
    }
   ],
   "source": [
    "\n",
    "f'''As a biomedical research team, we are selecting datasets to study the association between the human trait \\'{TRAIT}\\' and genetic factors, optionally considering the influence of age and gender. After searching the GEO database and parsing the matrix file of a series, we obtained background information and sample characteristics data. We will provide textual information about the dataset background, and a Python dictionary storing a list of unique values for each field of the sample characteristics data. Please carefully review the provided information and answer the following questions about this dataset:\n",
    "1. Does this dataset contain gene expression data? (Note: Pure miRNA data is not suitable.)\n",
    "2. For each of the traits \\'{TRAIT}\\', 'age', and 'gender', please address these points:\n",
    "   (1) Is there human data available for this trait?\n",
    "   (2) If so, identify the key in the sample characteristics dictionary where unique values of this trait is recorded. The key is an integer. The trait information might be explicitly recorded, or can be inferred from the field with some biomedical knowledge or understanding about the data collection process.\n",
    "   (3) Choose an appropriate data type (either 'continuous' or 'binary') for each trait. Write a Python function to convert any given value of the trait to this data type. Do remember to separate the value by colon ':' first, as the row header should not be included in the returned value. The function should handle inference about the trait value and convert unknown values to None.\n",
    "   Name the functions 'convert_trait', 'convert_age', and 'convert_gender', respectively.\n",
    "\n",
    "Background information about the dataset:\n",
    "{background_info}\n",
    "\n",
    "Sample characteristics dictionary (from \"!Sample_characteristics_ch1\", converted to a Python dictionary that stores the unique values for each field):\n",
    "{clinical_data_unique}\n",
    "'''"
   ],
   "metadata": {
    "collapsed": false,
    "ExecuteTime": {
     "end_time": "2024-01-27T22:43:28.387870850Z",
     "start_time": "2024-01-27T22:43:28.368132121Z"
    }
   }
  },
  {
   "cell_type": "markdown",
   "source": [
    "Understand and verify the answer from GPT, to assign values to the below variables. Assign None to the 'row_id' variables if relevant data row was not found.\n",
    "Later we need to let GPT format its answer to automatically do these. But given the complexity of this step, let's grow some insight from the free-text answers for now."
   ],
   "metadata": {
    "collapsed": false,
    "ExecuteTime": {
     "end_time": "2023-12-31T03:58:04.978240504Z",
     "start_time": "2023-12-31T03:58:04.922365324Z"
    }
   },
   "outputs": [],
   "execution_count": 30
  },
  {
   "cell_type": "code",
   "execution_count": 9,
   "outputs": [],
   "source": [
    "age_row = gender_row = None\n",
    "convert_age = convert_gender = None"
   ],
   "metadata": {
    "collapsed": false,
    "ExecuteTime": {
     "end_time": "2024-01-27T22:43:28.741728562Z",
     "start_time": "2024-01-27T22:43:28.728455753Z"
    }
   }
  },
  {
   "cell_type": "code",
   "execution_count": 10,
   "outputs": [],
   "source": [
    "is_gene_availabe = True\n",
    "trait_row = 3\n",
    "#age_row = 1\n",
    "gender_row = 1\n",
    "\n",
    "trait_type = 'binary'"
   ],
   "metadata": {
    "collapsed": false,
    "ExecuteTime": {
     "end_time": "2024-01-27T22:43:28.928977301Z",
     "start_time": "2024-01-27T22:43:28.914098210Z"
    }
   }
  },
  {
   "cell_type": "code",
   "execution_count": 11,
   "outputs": [],
   "source": [
    "is_available = is_gene_availabe and (trait_row is not None)\n",
    "if not is_available:\n",
    "    save_cohort_info(cohort, JSON_PATH, is_available)\n",
    "    print(\"This cohort is not usable. Please skip the following steps and jump to the next accession number.\")"
   ],
   "metadata": {
    "collapsed": false,
    "ExecuteTime": {
     "end_time": "2024-01-27T22:43:29.109626843Z",
     "start_time": "2024-01-27T22:43:29.098750203Z"
    }
   }
  },
  {
   "cell_type": "code",
   "execution_count": 12,
   "outputs": [
    {
     "data": {
      "text/plain": "(1, 0)"
     },
     "execution_count": 12,
     "metadata": {},
     "output_type": "execute_result"
    }
   ],
   "source": [
    "# Verify and use the functions generated by GPT\n",
    "def convert_trait(value):\n",
    "    \"\"\"Converts the value related to Vitamin D supplementation to binary.\n",
    "\n",
    "    Args:\n",
    "    value (str): The input value in the format 'intervention group: <value>'\n",
    "\n",
    "    Returns:\n",
    "    binary: 1 for calcifediol supplementation, 0 for placebo, None for unknown values\n",
    "    \"\"\"\n",
    "    if not value:\n",
    "        return None\n",
    "\n",
    "    # Separate the value from the header\n",
    "    _, intervention = value.split(': ', 1)\n",
    "\n",
    "    if intervention == '25-hydroxycholecalciferol (25(OH)D3)':\n",
    "        return 1  # Vitamin D supplementation\n",
    "    elif intervention == 'Placebo':\n",
    "        return 0  # No Vitamin D supplementation\n",
    "    else:\n",
    "        return None  # Unknown value\n",
    "\n",
    "def convert_gender(value):\n",
    "    \"\"\"Converts the gender value to binary.\n",
    "\n",
    "    Args:\n",
    "    value (str): The input value in the format 'Sex: <value>'\n",
    "\n",
    "    Returns:\n",
    "    binary: 1 for Male, 0 for Female, None for unknown values\n",
    "    \"\"\"\n",
    "    if not value:\n",
    "        return None\n",
    "\n",
    "    # Separate the value from the header\n",
    "    _, gender = value.split(': ', 1)\n",
    "\n",
    "    if gender == 'Male':\n",
    "        return 1  # Male\n",
    "    elif gender == 'Female':\n",
    "        return 0  # Female\n",
    "    else:\n",
    "        return None  # Unknown value\n",
    "\n",
    "# Test the functions with example values\n",
    "test_trait = \"intervention group: 25-hydroxycholecalciferol (25(OH)D3)\"\n",
    "test_gender = \"Sex: Female\"\n",
    "\n",
    "convert_trait_result = convert_trait(test_trait)\n",
    "convert_gender_result = convert_gender(test_gender)\n",
    "\n",
    "convert_trait_result, convert_gender_result\n",
    "\n",
    "\n"
   ],
   "metadata": {
    "collapsed": false,
    "ExecuteTime": {
     "end_time": "2024-01-27T22:43:29.291972225Z",
     "start_time": "2024-01-27T22:43:29.281801150Z"
    }
   }
  },
  {
   "cell_type": "code",
   "execution_count": 13,
   "outputs": [
    {
     "data": {
      "text/plain": "                  GSM3518336  GSM3518337  GSM3518338  GSM3518339  GSM3518340  \\\nVitamin D Levels           1           1           1           1           1   \nGender                     1           1           0           0           0   \n\n                  GSM3518341  GSM3518342  GSM3518343  GSM3518344  GSM3518345  \\\nVitamin D Levels           1           1           1           0           0   \nGender                     0           1           1           1           1   \n\n                  ...  GSM3518370  GSM3518371  GSM3518372  GSM3518373  \\\nVitamin D Levels  ...           1           1           1           1   \nGender            ...           1           1           1           1   \n\n                  GSM3518374  GSM3518375  GSM3518376  GSM3518377  GSM3518378  \\\nVitamin D Levels           0           0           1           1           0   \nGender                     1           1           0           0           0   \n\n                  GSM3518379  \nVitamin D Levels           0  \nGender                     0  \n\n[2 rows x 44 columns]",
      "text/html": "<div>\n<style scoped>\n    .dataframe tbody tr th:only-of-type {\n        vertical-align: middle;\n    }\n\n    .dataframe tbody tr th {\n        vertical-align: top;\n    }\n\n    .dataframe thead th {\n        text-align: right;\n    }\n</style>\n<table border=\"1\" class=\"dataframe\">\n  <thead>\n    <tr style=\"text-align: right;\">\n      <th></th>\n      <th>GSM3518336</th>\n      <th>GSM3518337</th>\n      <th>GSM3518338</th>\n      <th>GSM3518339</th>\n      <th>GSM3518340</th>\n      <th>GSM3518341</th>\n      <th>GSM3518342</th>\n      <th>GSM3518343</th>\n      <th>GSM3518344</th>\n      <th>GSM3518345</th>\n      <th>...</th>\n      <th>GSM3518370</th>\n      <th>GSM3518371</th>\n      <th>GSM3518372</th>\n      <th>GSM3518373</th>\n      <th>GSM3518374</th>\n      <th>GSM3518375</th>\n      <th>GSM3518376</th>\n      <th>GSM3518377</th>\n      <th>GSM3518378</th>\n      <th>GSM3518379</th>\n    </tr>\n  </thead>\n  <tbody>\n    <tr>\n      <th>Vitamin D Levels</th>\n      <td>1</td>\n      <td>1</td>\n      <td>1</td>\n      <td>1</td>\n      <td>1</td>\n      <td>1</td>\n      <td>1</td>\n      <td>1</td>\n      <td>0</td>\n      <td>0</td>\n      <td>...</td>\n      <td>1</td>\n      <td>1</td>\n      <td>1</td>\n      <td>1</td>\n      <td>0</td>\n      <td>0</td>\n      <td>1</td>\n      <td>1</td>\n      <td>0</td>\n      <td>0</td>\n    </tr>\n    <tr>\n      <th>Gender</th>\n      <td>1</td>\n      <td>1</td>\n      <td>0</td>\n      <td>0</td>\n      <td>0</td>\n      <td>0</td>\n      <td>1</td>\n      <td>1</td>\n      <td>1</td>\n      <td>1</td>\n      <td>...</td>\n      <td>1</td>\n      <td>1</td>\n      <td>1</td>\n      <td>1</td>\n      <td>1</td>\n      <td>1</td>\n      <td>0</td>\n      <td>0</td>\n      <td>0</td>\n      <td>0</td>\n    </tr>\n  </tbody>\n</table>\n<p>2 rows × 44 columns</p>\n</div>"
     },
     "execution_count": 13,
     "metadata": {},
     "output_type": "execute_result"
    }
   ],
   "source": [
    "selected_clinical_data = geo_select_clinical_features(clinical_data, TRAIT, trait_row, convert_trait, age_row=age_row,\n",
    "                                                      convert_age=convert_age, gender_row=gender_row,\n",
    "                                                      convert_gender=convert_gender)\n",
    "selected_clinical_data.head()"
   ],
   "metadata": {
    "collapsed": false,
    "ExecuteTime": {
     "end_time": "2024-01-27T22:43:29.502229888Z",
     "start_time": "2024-01-27T22:43:29.481983293Z"
    }
   }
  },
  {
   "cell_type": "markdown",
   "source": [
    "### Genetic data preprocessing and final filtering"
   ],
   "metadata": {
    "collapsed": false,
    "ExecuteTime": {
     "end_time": "2023-12-31T03:58:04.978664193Z",
     "start_time": "2023-12-31T03:58:04.966117261Z"
    }
   },
   "outputs": [
    {
     "data": {
      "text/plain": "       ID  GSM7920782  GSM7920783  GSM7920784  GSM7920785  GSM7920786  \\\n0     A2M   13.210102   13.237969   14.728878   15.399663   12.970464   \n1  ACVR1C    5.128485    5.336850    5.611523    5.041711    6.342262   \n2  ADAM12    9.806557   12.374397    9.953351    8.507092   11.402156   \n3  ADGRE1    4.128485    3.751888    4.611523    4.582279    3.771514   \n4     ADM   10.953762   10.544678    8.155844    9.333824    8.438938   \n\n   GSM7920787  GSM7920788  GSM7920789  GSM7920790  ...  GSM7920816  \\\n0   13.014807   12.521967   13.055481   13.219538  ...   12.635802   \n1    5.005301    4.148600    5.665523    5.548821  ...    5.756039   \n2   10.739489    9.114680   11.095729    8.762302  ...    8.280338   \n3    4.420338    2.863198    4.800452    3.860765  ...    2.806079   \n4    9.446117    8.285262    8.551518    9.567357  ...   11.577869   \n\n   GSM7920817  GSM7920818  GSM7920819  GSM7920820  GSM7920821  GSM7920822  \\\n0   12.487090   11.743261   13.219376   12.499513   11.719452   12.509194   \n1    6.795792    6.873777    6.848304    5.106051    6.790117    3.936121   \n2    6.973884    7.113936    8.036966    8.398832    5.346283    9.429915   \n3    5.926579    2.066422    6.447342    4.286623    3.665105    3.415288   \n4   11.051458    7.742883    9.596892    6.993576    8.531638    8.579977   \n\n   GSM7920823  GSM7920824  GSM7920825  \n0   11.682523   10.885632   11.277235  \n1    2.998025    6.339292    4.463217  \n2    7.863096   10.774084    4.708329  \n3    1.190670    2.251830   -0.291671  \n4    8.150672    9.623969    7.790478  \n\n[5 rows x 45 columns]",
      "text/html": "<div>\n<style scoped>\n    .dataframe tbody tr th:only-of-type {\n        vertical-align: middle;\n    }\n\n    .dataframe tbody tr th {\n        vertical-align: top;\n    }\n\n    .dataframe thead th {\n        text-align: right;\n    }\n</style>\n<table border=\"1\" class=\"dataframe\">\n  <thead>\n    <tr style=\"text-align: right;\">\n      <th></th>\n      <th>ID</th>\n      <th>GSM7920782</th>\n      <th>GSM7920783</th>\n      <th>GSM7920784</th>\n      <th>GSM7920785</th>\n      <th>GSM7920786</th>\n      <th>GSM7920787</th>\n      <th>GSM7920788</th>\n      <th>GSM7920789</th>\n      <th>GSM7920790</th>\n      <th>...</th>\n      <th>GSM7920816</th>\n      <th>GSM7920817</th>\n      <th>GSM7920818</th>\n      <th>GSM7920819</th>\n      <th>GSM7920820</th>\n      <th>GSM7920821</th>\n      <th>GSM7920822</th>\n      <th>GSM7920823</th>\n      <th>GSM7920824</th>\n      <th>GSM7920825</th>\n    </tr>\n  </thead>\n  <tbody>\n    <tr>\n      <th>0</th>\n      <td>A2M</td>\n      <td>13.210102</td>\n      <td>13.237969</td>\n      <td>14.728878</td>\n      <td>15.399663</td>\n      <td>12.970464</td>\n      <td>13.014807</td>\n      <td>12.521967</td>\n      <td>13.055481</td>\n      <td>13.219538</td>\n      <td>...</td>\n      <td>12.635802</td>\n      <td>12.487090</td>\n      <td>11.743261</td>\n      <td>13.219376</td>\n      <td>12.499513</td>\n      <td>11.719452</td>\n      <td>12.509194</td>\n      <td>11.682523</td>\n      <td>10.885632</td>\n      <td>11.277235</td>\n    </tr>\n    <tr>\n      <th>1</th>\n      <td>ACVR1C</td>\n      <td>5.128485</td>\n      <td>5.336850</td>\n      <td>5.611523</td>\n      <td>5.041711</td>\n      <td>6.342262</td>\n      <td>5.005301</td>\n      <td>4.148600</td>\n      <td>5.665523</td>\n      <td>5.548821</td>\n      <td>...</td>\n      <td>5.756039</td>\n      <td>6.795792</td>\n      <td>6.873777</td>\n      <td>6.848304</td>\n      <td>5.106051</td>\n      <td>6.790117</td>\n      <td>3.936121</td>\n      <td>2.998025</td>\n      <td>6.339292</td>\n      <td>4.463217</td>\n    </tr>\n    <tr>\n      <th>2</th>\n      <td>ADAM12</td>\n      <td>9.806557</td>\n      <td>12.374397</td>\n      <td>9.953351</td>\n      <td>8.507092</td>\n      <td>11.402156</td>\n      <td>10.739489</td>\n      <td>9.114680</td>\n      <td>11.095729</td>\n      <td>8.762302</td>\n      <td>...</td>\n      <td>8.280338</td>\n      <td>6.973884</td>\n      <td>7.113936</td>\n      <td>8.036966</td>\n      <td>8.398832</td>\n      <td>5.346283</td>\n      <td>9.429915</td>\n      <td>7.863096</td>\n      <td>10.774084</td>\n      <td>4.708329</td>\n    </tr>\n    <tr>\n      <th>3</th>\n      <td>ADGRE1</td>\n      <td>4.128485</td>\n      <td>3.751888</td>\n      <td>4.611523</td>\n      <td>4.582279</td>\n      <td>3.771514</td>\n      <td>4.420338</td>\n      <td>2.863198</td>\n      <td>4.800452</td>\n      <td>3.860765</td>\n      <td>...</td>\n      <td>2.806079</td>\n      <td>5.926579</td>\n      <td>2.066422</td>\n      <td>6.447342</td>\n      <td>4.286623</td>\n      <td>3.665105</td>\n      <td>3.415288</td>\n      <td>1.190670</td>\n      <td>2.251830</td>\n      <td>-0.291671</td>\n    </tr>\n    <tr>\n      <th>4</th>\n      <td>ADM</td>\n      <td>10.953762</td>\n      <td>10.544678</td>\n      <td>8.155844</td>\n      <td>9.333824</td>\n      <td>8.438938</td>\n      <td>9.446117</td>\n      <td>8.285262</td>\n      <td>8.551518</td>\n      <td>9.567357</td>\n      <td>...</td>\n      <td>11.577869</td>\n      <td>11.051458</td>\n      <td>7.742883</td>\n      <td>9.596892</td>\n      <td>6.993576</td>\n      <td>8.531638</td>\n      <td>8.579977</td>\n      <td>8.150672</td>\n      <td>9.623969</td>\n      <td>7.790478</td>\n    </tr>\n  </tbody>\n</table>\n<p>5 rows × 45 columns</p>\n</div>"
     },
     "execution_count": 34,
     "metadata": {},
     "output_type": "execute_result"
    }
   ],
   "execution_count": 34
  },
  {
   "cell_type": "code",
   "execution_count": 14,
   "outputs": [
    {
     "data": {
      "text/plain": "          GSM3518336  GSM3518337  GSM3518338  GSM3518339  GSM3518340  \\\nID                                                                     \n16650001    1.512274    0.253623    2.664750    1.312637    0.675071   \n16650003    1.003784    1.028232    1.341918    1.114636    1.802068   \n16650005    0.604331    1.397437    1.651186    3.274191    0.394109   \n16650007    1.058137    0.588526    1.149379    0.761508    2.417583   \n16650009    0.469632    0.698155    0.888779    1.154360    0.859562   \n\n          GSM3518341  GSM3518342  GSM3518343  GSM3518344  GSM3518345  ...  \\\nID                                                                    ...   \n16650001    1.010733    2.288005    1.868232    1.509000    1.749677  ...   \n16650003    1.946301    1.718234    2.383265    0.789789    1.545537  ...   \n16650005    1.676047    2.146871    2.962444    1.629054    1.412083  ...   \n16650007    0.721435    1.876002    2.209180    2.336481    0.683767  ...   \n16650009    0.659498    0.611699    0.741379    0.490208    0.466021  ...   \n\n          GSM3518370  GSM3518371  GSM3518372  GSM3518373  GSM3518374  \\\nID                                                                     \n16650001    2.000858    0.682592    0.876719    0.763386    0.504208   \n16650003    1.175455    1.221579    0.915122    1.008250    1.256585   \n16650005    1.407318    2.406541    3.134922    1.862797    1.704497   \n16650007    0.456273    0.687521    0.356791    0.863351    0.942087   \n16650009    1.058347    0.643452    0.528055    0.527859    0.938790   \n\n          GSM3518375  GSM3518376  GSM3518377  GSM3518378  GSM3518379  \nID                                                                    \n16650001    0.745772    2.164791    2.036223    1.317688    1.750596  \n16650003    1.793582    1.560620    1.797027    1.578021    0.752845  \n16650005    1.060720    3.686494    2.485064    1.110987    3.715562  \n16650007    1.214890    1.553857    1.393150    1.699157    0.787946  \n16650009    0.524942    0.508296    0.932883    0.878911    0.808085  \n\n[5 rows x 44 columns]",
      "text/html": "<div>\n<style scoped>\n    .dataframe tbody tr th:only-of-type {\n        vertical-align: middle;\n    }\n\n    .dataframe tbody tr th {\n        vertical-align: top;\n    }\n\n    .dataframe thead th {\n        text-align: right;\n    }\n</style>\n<table border=\"1\" class=\"dataframe\">\n  <thead>\n    <tr style=\"text-align: right;\">\n      <th></th>\n      <th>GSM3518336</th>\n      <th>GSM3518337</th>\n      <th>GSM3518338</th>\n      <th>GSM3518339</th>\n      <th>GSM3518340</th>\n      <th>GSM3518341</th>\n      <th>GSM3518342</th>\n      <th>GSM3518343</th>\n      <th>GSM3518344</th>\n      <th>GSM3518345</th>\n      <th>...</th>\n      <th>GSM3518370</th>\n      <th>GSM3518371</th>\n      <th>GSM3518372</th>\n      <th>GSM3518373</th>\n      <th>GSM3518374</th>\n      <th>GSM3518375</th>\n      <th>GSM3518376</th>\n      <th>GSM3518377</th>\n      <th>GSM3518378</th>\n      <th>GSM3518379</th>\n    </tr>\n    <tr>\n      <th>ID</th>\n      <th></th>\n      <th></th>\n      <th></th>\n      <th></th>\n      <th></th>\n      <th></th>\n      <th></th>\n      <th></th>\n      <th></th>\n      <th></th>\n      <th></th>\n      <th></th>\n      <th></th>\n      <th></th>\n      <th></th>\n      <th></th>\n      <th></th>\n      <th></th>\n      <th></th>\n      <th></th>\n      <th></th>\n    </tr>\n  </thead>\n  <tbody>\n    <tr>\n      <th>16650001</th>\n      <td>1.512274</td>\n      <td>0.253623</td>\n      <td>2.664750</td>\n      <td>1.312637</td>\n      <td>0.675071</td>\n      <td>1.010733</td>\n      <td>2.288005</td>\n      <td>1.868232</td>\n      <td>1.509000</td>\n      <td>1.749677</td>\n      <td>...</td>\n      <td>2.000858</td>\n      <td>0.682592</td>\n      <td>0.876719</td>\n      <td>0.763386</td>\n      <td>0.504208</td>\n      <td>0.745772</td>\n      <td>2.164791</td>\n      <td>2.036223</td>\n      <td>1.317688</td>\n      <td>1.750596</td>\n    </tr>\n    <tr>\n      <th>16650003</th>\n      <td>1.003784</td>\n      <td>1.028232</td>\n      <td>1.341918</td>\n      <td>1.114636</td>\n      <td>1.802068</td>\n      <td>1.946301</td>\n      <td>1.718234</td>\n      <td>2.383265</td>\n      <td>0.789789</td>\n      <td>1.545537</td>\n      <td>...</td>\n      <td>1.175455</td>\n      <td>1.221579</td>\n      <td>0.915122</td>\n      <td>1.008250</td>\n      <td>1.256585</td>\n      <td>1.793582</td>\n      <td>1.560620</td>\n      <td>1.797027</td>\n      <td>1.578021</td>\n      <td>0.752845</td>\n    </tr>\n    <tr>\n      <th>16650005</th>\n      <td>0.604331</td>\n      <td>1.397437</td>\n      <td>1.651186</td>\n      <td>3.274191</td>\n      <td>0.394109</td>\n      <td>1.676047</td>\n      <td>2.146871</td>\n      <td>2.962444</td>\n      <td>1.629054</td>\n      <td>1.412083</td>\n      <td>...</td>\n      <td>1.407318</td>\n      <td>2.406541</td>\n      <td>3.134922</td>\n      <td>1.862797</td>\n      <td>1.704497</td>\n      <td>1.060720</td>\n      <td>3.686494</td>\n      <td>2.485064</td>\n      <td>1.110987</td>\n      <td>3.715562</td>\n    </tr>\n    <tr>\n      <th>16650007</th>\n      <td>1.058137</td>\n      <td>0.588526</td>\n      <td>1.149379</td>\n      <td>0.761508</td>\n      <td>2.417583</td>\n      <td>0.721435</td>\n      <td>1.876002</td>\n      <td>2.209180</td>\n      <td>2.336481</td>\n      <td>0.683767</td>\n      <td>...</td>\n      <td>0.456273</td>\n      <td>0.687521</td>\n      <td>0.356791</td>\n      <td>0.863351</td>\n      <td>0.942087</td>\n      <td>1.214890</td>\n      <td>1.553857</td>\n      <td>1.393150</td>\n      <td>1.699157</td>\n      <td>0.787946</td>\n    </tr>\n    <tr>\n      <th>16650009</th>\n      <td>0.469632</td>\n      <td>0.698155</td>\n      <td>0.888779</td>\n      <td>1.154360</td>\n      <td>0.859562</td>\n      <td>0.659498</td>\n      <td>0.611699</td>\n      <td>0.741379</td>\n      <td>0.490208</td>\n      <td>0.466021</td>\n      <td>...</td>\n      <td>1.058347</td>\n      <td>0.643452</td>\n      <td>0.528055</td>\n      <td>0.527859</td>\n      <td>0.938790</td>\n      <td>0.524942</td>\n      <td>0.508296</td>\n      <td>0.932883</td>\n      <td>0.878911</td>\n      <td>0.808085</td>\n    </tr>\n  </tbody>\n</table>\n<p>5 rows × 44 columns</p>\n</div>"
     },
     "execution_count": 14,
     "metadata": {},
     "output_type": "execute_result"
    }
   ],
   "source": [
    "genetic_data = get_genetic_data(matrix_file)\n",
    "genetic_data.head()"
   ],
   "metadata": {
    "collapsed": false,
    "ExecuteTime": {
     "end_time": "2024-01-27T22:43:30.142775601Z",
     "start_time": "2024-01-27T22:43:29.829011930Z"
    }
   }
  },
  {
   "cell_type": "code",
   "execution_count": 15,
   "outputs": [
    {
     "data": {
      "text/plain": "['16650001',\n '16650003',\n '16650005',\n '16650007',\n '16650009',\n '16650011',\n '16650013',\n '16650015',\n '16650017',\n '16650019',\n '16650021',\n '16650023',\n '16650025',\n '16650027',\n '16650029',\n '16650031',\n '16650033',\n '16650035',\n '16650037',\n '16650041']"
     },
     "execution_count": 15,
     "metadata": {},
     "output_type": "execute_result"
    }
   ],
   "source": [
    "gene_row_ids = genetic_data.index[:20].tolist()\n",
    "gene_row_ids"
   ],
   "metadata": {
    "collapsed": false,
    "ExecuteTime": {
     "end_time": "2024-01-27T22:43:30.287573432Z",
     "start_time": "2024-01-27T22:43:30.142965874Z"
    }
   }
  },
  {
   "cell_type": "markdown",
   "source": [
    "Check if the gene dataset requires mapping to get the gene symbols corresponding to each data row."
   ],
   "metadata": {
    "collapsed": false,
    "ExecuteTime": {
     "end_time": "2023-12-31T03:30:41.595335164Z",
     "start_time": "2023-12-31T03:30:41.513232329Z"
    }
   },
   "outputs": [],
   "execution_count": 61
  },
  {
   "cell_type": "markdown",
   "source": [
    "Reference prompt:"
   ],
   "metadata": {
    "collapsed": false
   }
  },
  {
   "cell_type": "code",
   "execution_count": 16,
   "outputs": [
    {
     "data": {
      "text/plain": "\"\\nBelow are the row headers of a gene expression dataset in GEO. Based on your biomedical knowledge, are they human gene symbols, or are they some other identifiers that need to be mapped to gene symbols? Your answer should be concluded by starting a new line and strictly following this format:\\nrequires_gene_mapping = (True or False)\\n\\nRow headers:\\n['16650001', '16650003', '16650005', '16650007', '16650009', '16650011', '16650013', '16650015', '16650017', '16650019', '16650021', '16650023', '16650025', '16650027', '16650029', '16650031', '16650033', '16650035', '16650037', '16650041']\\n\""
     },
     "execution_count": 16,
     "metadata": {},
     "output_type": "execute_result"
    }
   ],
   "source": [
    "f'''\n",
    "Below are the row headers of a gene expression dataset in GEO. Based on your biomedical knowledge, are they human gene symbols, or are they some other identifiers that need to be mapped to gene symbols? Your answer should be concluded by starting a new line and strictly following this format:\n",
    "requires_gene_mapping = (True or False)\n",
    "\n",
    "Row headers:\n",
    "{gene_row_ids}\n",
    "'''"
   ],
   "metadata": {
    "collapsed": false,
    "ExecuteTime": {
     "end_time": "2024-01-27T22:43:30.626688705Z",
     "start_time": "2024-01-27T22:43:30.615282698Z"
    }
   }
  },
  {
   "cell_type": "markdown",
   "source": [
    "\n",
    "If not required, jump directly to the gene normalization step"
   ],
   "metadata": {
    "collapsed": false
   }
  },
  {
   "cell_type": "code",
   "execution_count": 17,
   "outputs": [],
   "source": [
    "requires_gene_mapping = True"
   ],
   "metadata": {
    "collapsed": false,
    "ExecuteTime": {
     "end_time": "2024-01-27T22:43:31.011545425Z",
     "start_time": "2024-01-27T22:43:30.998702828Z"
    }
   }
  },
  {
   "cell_type": "code",
   "execution_count": 18,
   "outputs": [
    {
     "name": "stdout",
     "output_type": "stream",
     "text": [
      "{'ID': ['16657436', '16657440', '16657445', '16657447', '16657450'], 'probeset_id': ['16657436', '16657440', '16657445', '16657447', '16657450'], 'seqname': ['chr1', 'chr1', 'chr1', 'chr1', 'chr1'], 'strand': ['+', '+', '+', '+', '+'], 'start': ['12190', '29554', '69091', '160446', '317811'], 'stop': ['13639', '31109', '70008', '161525', '328581'], 'total_probes': [25.0, 28.0, 8.0, 13.0, 36.0], 'gene_assignment': ['NR_046018 // DDX11L1 // DEAD/H (Asp-Glu-Ala-Asp/His) box helicase 11 like 1 // 1p36.33 // 100287102 /// NR_034090 // DDX11L9 // DEAD/H (Asp-Glu-Ala-Asp/His) box helicase 11 like 9 // 15q26.3 // 100288486 /// NR_051985 // DDX11L9 // DEAD/H (Asp-Glu-Ala-Asp/His) box helicase 11 like 9 // 15q26.3 // 100288486 /// NR_045117 // DDX11L10 // DEAD/H (Asp-Glu-Ala-Asp/His) box helicase 11 like 10 // 16p13.3 // 100287029 /// NR_024004 // DDX11L2 // DEAD/H (Asp-Glu-Ala-Asp/His) box helicase 11 like 2 // 2q13 // 84771 /// NR_024005 // DDX11L2 // DEAD/H (Asp-Glu-Ala-Asp/His) box helicase 11 like 2 // 2q13 // 84771 /// NR_051986 // DDX11L5 // DEAD/H (Asp-Glu-Ala-Asp/His) box helicase 11 like 5 // 9p24.3 // 100287596 /// ENST00000456328 // DDX11L1 // DEAD/H (Asp-Glu-Ala-Asp/His) box helicase 11 like 1 // 1p36.33 // 100287102 /// ENST00000559159 // DDX11L9 // DEAD/H (Asp-Glu-Ala-Asp/His) box helicase 11 like 9 // 15q26.3 // 100288486 /// ENST00000562189 // DDX11L9 // DEAD/H (Asp-Glu-Ala-Asp/His) box helicase 11 like 9 // 15q26.3 // 100288486 /// ENST00000513886 // DDX11L10 // DEAD/H (Asp-Glu-Ala-Asp/His) box helicase 11 like 10 // 16p13.3 // 100287029 /// ENST00000515242 // DDX11L1 // DEAD/H (Asp-Glu-Ala-Asp/His) box helicase 11 like 1 // 1p36.33 // 100287102 /// ENST00000518655 // DDX11L1 // DEAD/H (Asp-Glu-Ala-Asp/His) box helicase 11 like 1 // 1p36.33 // 100287102 /// ENST00000515173 // DDX11L9 // DEAD/H (Asp-Glu-Ala-Asp/His) box helicase 11 like 9 // 15q26.3 // 100288486 /// ENST00000545636 // DDX11L10 // DEAD/H (Asp-Glu-Ala-Asp/His) box helicase 11 like 10 // 16p13.3 // 100287029 /// ENST00000450305 // DDX11L1 // DEAD/H (Asp-Glu-Ala-Asp/His) box helicase 11 like 1 // 1p36.33 // 100287102 /// ENST00000560040 // DDX11L9 // DEAD/H (Asp-Glu-Ala-Asp/His) box helicase 11 like 9 // 15q26.3 // 100288486 /// ENST00000430178 // DDX11L10 // DEAD/H (Asp-Glu-Ala-Asp/His) box helicase 11 like 10 // 16p13.3 // 100287029 /// ENST00000538648 // DDX11L9 // DEAD/H (Asp-Glu-Ala-Asp/His) box helicase 11 like 9 // 15q26.3 // 100288486 /// ENST00000535848 // DDX11L2 // DEAD/H (Asp-Glu-Ala-Asp/His) box helicase 11 like 2 // --- // --- /// ENST00000457993 // DDX11L2 // DEAD/H (Asp-Glu-Ala-Asp/His) box helicase 11 like 2 // --- // --- /// ENST00000437401 // DDX11L2 // DEAD/H (Asp-Glu-Ala-Asp/His) box helicase 11 like 2 // --- // --- /// ENST00000426146 // DDX11L5 // DEAD/H (Asp-Glu-Ala-Asp/His) box helicase 11 like 5 // --- // --- /// ENST00000445777 // DDX11L16 // DEAD/H (Asp-Glu-Ala-Asp/His) box helicase 11 like 16 // --- // --- /// ENST00000507418 // DDX11L16 // DEAD/H (Asp-Glu-Ala-Asp/His) box helicase 11 like 16 // --- // --- /// ENST00000507418 // DDX11L16 // DEAD/H (Asp-Glu-Ala-Asp/His) box helicase 11 like 16 // --- // --- /// ENST00000507418 // DDX11L16 // DEAD/H (Asp-Glu-Ala-Asp/His) box helicase 11 like 16 // --- // --- /// ENST00000507418 // DDX11L16 // DEAD/H (Asp-Glu-Ala-Asp/His) box helicase 11 like 16 // --- // --- /// ENST00000421620 // DDX11L5 // DEAD/H (Asp-Glu-Ala-Asp/His) box helicase 11 like 5 // --- // ---', 'ENST00000473358 // MIR1302-11 // microRNA 1302-11 // --- // 100422919 /// ENST00000473358 // MIR1302-10 // microRNA 1302-10 // --- // 100422834 /// ENST00000473358 // MIR1302-9 // microRNA 1302-9 // --- // 100422831 /// ENST00000473358 // MIR1302-2 // microRNA 1302-2 // --- // 100302278', 'NM_001005484 // OR4F5 // olfactory receptor, family 4, subfamily F, member 5 // 1p36.33 // 79501 /// ENST00000335137 // OR4F5 // olfactory receptor, family 4, subfamily F, member 5 // 1p36.33 // 79501', '---', 'AK302511 // LOC100132062 // uncharacterized LOC100132062 // 5q35.3 // 100132062 /// AK294489 // LOC729737 // uncharacterized LOC729737 // 1p36.33 // 729737 /// AK303380 // LOC100132062 // uncharacterized LOC100132062 // 5q35.3 // 100132062 /// AK316554 // LOC100132062 // uncharacterized LOC100132062 // 5q35.3 // 100132062 /// AK316556 // LOC100132062 // uncharacterized LOC100132062 // 5q35.3 // 100132062 /// AK302573 // LOC729737 // uncharacterized LOC729737 // 1p36.33 // 729737 /// AK123446 // LOC441124 // uncharacterized LOC441124 // 1q42.11 // 441124 /// ENST00000425496 // LOC100506479 // uncharacterized LOC100506479 // --- // 100506479 /// ENST00000425496 // LOC100289306 // uncharacterized LOC100289306 // 7p11.2 // 100289306 /// ENST00000425496 // LOC100287894 // uncharacterized LOC100287894 // 7q11.21 // 100287894 /// ENST00000425496 // FLJ45445 // uncharacterized LOC399844 // 19p13.3 // 399844 /// ENST00000456623 // LOC100506479 // uncharacterized LOC100506479 // --- // 100506479 /// ENST00000456623 // LOC100289306 // uncharacterized LOC100289306 // 7p11.2 // 100289306 /// ENST00000456623 // LOC100287894 // uncharacterized LOC100287894 // 7q11.21 // 100287894 /// ENST00000456623 // FLJ45445 // uncharacterized LOC399844 // 19p13.3 // 399844 /// ENST00000418377 // LOC100506479 // uncharacterized LOC100506479 // --- // 100506479 /// ENST00000418377 // LOC100288102 // uncharacterized LOC100288102 // 1q42.11 // 100288102 /// ENST00000418377 // LOC731275 // uncharacterized LOC731275 // 1q43 // 731275 /// ENST00000534867 // LOC100506479 // uncharacterized LOC100506479 // --- // 100506479 /// ENST00000534867 // LOC100289306 // uncharacterized LOC100289306 // 7p11.2 // 100289306 /// ENST00000534867 // LOC100287894 // uncharacterized LOC100287894 // 7q11.21 // 100287894 /// ENST00000534867 // FLJ45445 // uncharacterized LOC399844 // 19p13.3 // 399844 /// ENST00000544678 // LOC100653346 // uncharacterized LOC100653346 // --- // 100653346 /// ENST00000544678 // LOC100653241 // uncharacterized LOC100653241 // --- // 100653241 /// ENST00000544678 // LOC100652945 // uncharacterized LOC100652945 // --- // 100652945 /// ENST00000544678 // LOC100508632 // uncharacterized LOC100508632 // --- // 100508632 /// ENST00000544678 // LOC100132050 // uncharacterized LOC100132050 // 7p11.2 // 100132050 /// ENST00000544678 // LOC100128326 // putative uncharacterized protein FLJ44672-like // 7p11.2 // 100128326 /// ENST00000419160 // LOC100506479 // uncharacterized LOC100506479 // --- // 100506479 /// ENST00000419160 // LOC100289306 // uncharacterized LOC100289306 // 7p11.2 // 100289306 /// ENST00000419160 // LOC100287894 // uncharacterized LOC100287894 // 7q11.21 // 100287894 /// ENST00000419160 // FLJ45445 // uncharacterized LOC399844 // 19p13.3 // 399844 /// ENST00000432964 // LOC100506479 // uncharacterized LOC100506479 // --- // 100506479 /// ENST00000432964 // LOC100289306 // uncharacterized LOC100289306 // 7p11.2 // 100289306 /// ENST00000432964 // LOC100287894 // uncharacterized LOC100287894 // 7q11.21 // 100287894 /// ENST00000432964 // FLJ45445 // uncharacterized LOC399844 // 19p13.3 // 399844 /// ENST00000423728 // LOC100506479 // uncharacterized LOC100506479 // --- // 100506479 /// ENST00000423728 // LOC100289306 // uncharacterized LOC100289306 // 7p11.2 // 100289306 /// ENST00000423728 // LOC100287894 // uncharacterized LOC100287894 // 7q11.21 // 100287894 /// ENST00000423728 // FLJ45445 // uncharacterized LOC399844 // 19p13.3 // 399844 /// ENST00000457364 // LOC100653346 // uncharacterized LOC100653346 // --- // 100653346 /// ENST00000457364 // LOC100653241 // uncharacterized LOC100653241 // --- // 100653241 /// ENST00000457364 // LOC100652945 // uncharacterized LOC100652945 // --- // 100652945 /// ENST00000457364 // LOC100508632 // uncharacterized LOC100508632 // --- // 100508632 /// ENST00000457364 // LOC100132050 // uncharacterized LOC100132050 // 7p11.2 // 100132050 /// ENST00000457364 // LOC100128326 // putative uncharacterized protein FLJ44672-like // 7p11.2 // 100128326 /// ENST00000438516 // LOC100653346 // uncharacterized LOC100653346 // --- // 100653346 /// ENST00000438516 // LOC100653241 // uncharacterized LOC100653241 // --- // 100653241 /// ENST00000438516 // LOC100652945 // uncharacterized LOC100652945 // --- // 100652945 /// ENST00000438516 // LOC100508632 // uncharacterized LOC100508632 // --- // 100508632 /// ENST00000438516 // LOC100132050 // uncharacterized LOC100132050 // 7p11.2 // 100132050 /// ENST00000438516 // LOC100128326 // putative uncharacterized protein FLJ44672-like // 7p11.2 // 100128326'], 'mrna_assignment': ['NR_046018 // RefSeq // Homo sapiens DEAD/H (Asp-Glu-Ala-Asp/His) box helicase 11 like 1 (DDX11L1), non-coding RNA. // chr1 // 100 // 100 // 25 // 25 // 0 /// NR_034090 // RefSeq // Homo sapiens DEAD/H (Asp-Glu-Ala-Asp/His) box helicase 11 like 9 (DDX11L9), transcript variant 1, non-coding RNA. // chr1 // 96 // 100 // 24 // 25 // 0 /// NR_051985 // RefSeq // Homo sapiens DEAD/H (Asp-Glu-Ala-Asp/His) box helicase 11 like 9 (DDX11L9), transcript variant 2, non-coding RNA. // chr1 // 96 // 100 // 24 // 25 // 0 /// NR_045117 // RefSeq // Homo sapiens DEAD/H (Asp-Glu-Ala-Asp/His) box helicase 11 like 10 (DDX11L10), non-coding RNA. // chr1 // 92 // 96 // 22 // 24 // 0 /// NR_024004 // RefSeq // Homo sapiens DEAD/H (Asp-Glu-Ala-Asp/His) box helicase 11 like 2 (DDX11L2), transcript variant 1, non-coding RNA. // chr1 // 83 // 96 // 20 // 24 // 0 /// NR_024005 // RefSeq // Homo sapiens DEAD/H (Asp-Glu-Ala-Asp/His) box helicase 11 like 2 (DDX11L2), transcript variant 2, non-coding RNA. // chr1 // 83 // 96 // 20 // 24 // 0 /// NR_051986 // RefSeq // Homo sapiens DEAD/H (Asp-Glu-Ala-Asp/His) box helicase 11 like 5 (DDX11L5), non-coding RNA. // chr1 // 50 // 96 // 12 // 24 // 0 /// TCONS_l2_00010384-XLOC_l2_005087 // Broad TUCP // linc-SNRNP25-2 chr16:+:61554-64041 // chr1 // 92 // 96 // 22 // 24 // 0 /// TCONS_l2_00010385-XLOC_l2_005087 // Broad TUCP // linc-SNRNP25-2 chr16:+:61554-64090 // chr1 // 92 // 96 // 22 // 24 // 0 /// TCONS_l2_00030644-XLOC_l2_015857 // Broad TUCP // linc-TMLHE chrX:-:155255810-155257756 // chr1 // 50 // 96 // 12 // 24 // 0 /// TCONS_l2_00028588-XLOC_l2_014685 // Broad TUCP // linc-DOCK8-2 chr9:+:11235-13811 // chr1 // 50 // 64 // 8 // 16 // 0 /// TCONS_l2_00030643-XLOC_l2_015857 // Broad TUCP // linc-TMLHE chrX:-:155255810-155257756 // chr1 // 50 // 64 // 8 // 16 // 0 /// ENST00000456328 // ENSEMBL // cdna:known chromosome:GRCh37:1:11869:14409:1 gene:ENSG00000223972 gene_biotype:pseudogene transcript_biotype:processed_transcript // chr1 // 100 // 100 // 25 // 25 // 0 /// ENST00000559159 // ENSEMBL // cdna:known chromosome:GRCh37:15:102516761:102519296:-1 gene:ENSG00000248472 gene_biotype:pseudogene transcript_biotype:processed_transcript // chr1 // 96 // 100 // 24 // 25 // 0 /// ENST00000562189 // ENSEMBL // cdna:known chromosome:GRCh37:15:102516761:102519296:-1 gene:ENSG00000248472 gene_biotype:pseudogene transcript_biotype:processed_transcript // chr1 // 96 // 100 // 24 // 25 // 0 /// ENST00000513886 // ENSEMBL // cdna:known chromosome:GRCh37:16:61555:64090:1 gene:ENSG00000233614 gene_biotype:pseudogene transcript_biotype:processed_transcript // chr1 // 92 // 96 // 22 // 24 // 0 /// AK125998 // GenBank // Homo sapiens cDNA FLJ44010 fis, clone TESTI4024344. // chr1 // 50 // 96 // 12 // 24 // 0 /// BC070227 // GenBank // Homo sapiens similar to DEAD/H (Asp-Glu-Ala-Asp/His) box polypeptide 11 isoform 1, mRNA (cDNA clone IMAGE:6103207). // chr1 // 100 // 44 // 11 // 11 // 0 /// ENST00000515242 // ENSEMBL // cdna:pseudogene chromosome:GRCh37:1:11872:14412:1 gene:ENSG00000223972 gene_biotype:pseudogene transcript_biotype:transcribed_unprocessed_pseudogene // chr1 // 100 // 100 // 25 // 25 // 0 /// ENST00000518655 // ENSEMBL // cdna:pseudogene chromosome:GRCh37:1:11874:14409:1 gene:ENSG00000223972 gene_biotype:pseudogene transcript_biotype:transcribed_unprocessed_pseudogene // chr1 // 100 // 100 // 25 // 25 // 0 /// ENST00000515173 // ENSEMBL // cdna:pseudogene chromosome:GRCh37:15:102516758:102519298:-1 gene:ENSG00000248472 gene_biotype:pseudogene transcript_biotype:transcribed_unprocessed_pseudogene // chr1 // 96 // 100 // 24 // 25 // 0 /// ENST00000545636 // ENSEMBL // cdna:pseudogene chromosome:GRCh37:16:61553:64093:1 gene:ENSG00000233614 gene_biotype:pseudogene transcript_biotype:transcribed_unprocessed_pseudogene // chr1 // 92 // 96 // 22 // 24 // 0 /// ENST00000450305 // ENSEMBL // cdna:pseudogene chromosome:GRCh37:1:12010:13670:1 gene:ENSG00000223972 gene_biotype:pseudogene transcript_biotype:transcribed_unprocessed_pseudogene // chr1 // 100 // 68 // 17 // 17 // 0 /// ENST00000560040 // ENSEMBL // cdna:pseudogene chromosome:GRCh37:15:102517497:102518994:-1 gene:ENSG00000248472 gene_biotype:pseudogene transcript_biotype:transcribed_unprocessed_pseudogene // chr1 // 94 // 68 // 16 // 17 // 0 /// ENST00000430178 // ENSEMBL // cdna:pseudogene chromosome:GRCh37:16:61861:63351:1 gene:ENSG00000233614 gene_biotype:pseudogene transcript_biotype:transcribed_unprocessed_pseudogene // chr1 // 88 // 64 // 14 // 16 // 0 /// ENST00000538648 // ENSEMBL // cdna:pseudogene chromosome:GRCh37:15:102517351:102517622:-1 gene:ENSG00000248472 gene_biotype:pseudogene transcript_biotype:pseudogene // chr1 // 100 // 16 // 4 // 4 // 0 /// ENST00000535848 // ENSEMBL // cdna:pseudogene chromosome:GRCh37:2:114356606:114359144:-1 gene:ENSG00000236397 gene_biotype:pseudogene transcript_biotype:unprocessed_pseudogene // chr1 // 83 // 96 // 20 // 24 // 0 /// ENST00000457993 // ENSEMBL // cdna:pseudogene chromosome:GRCh37:2:114356613:114358838:-1 gene:ENSG00000236397 gene_biotype:pseudogene transcript_biotype:unprocessed_pseudogene // chr1 // 85 // 80 // 17 // 20 // 0 /// ENST00000437401 // ENSEMBL // cdna:pseudogene chromosome:GRCh37:2:114356613:114358838:-1 gene:ENSG00000236397 gene_biotype:pseudogene transcript_biotype:unprocessed_pseudogene // chr1 // 80 // 80 // 16 // 20 // 0 /// ENST00000426146 // ENSEMBL // cdna:pseudogene chromosome:GRCh37:9:11987:14522:1 gene:ENSG00000236875 gene_biotype:pseudogene transcript_biotype:unprocessed_pseudogene // chr1 // 50 // 96 // 12 // 24 // 0 /// ENST00000445777 // ENSEMBL // cdna:pseudogene chromosome:GRCh37:X:155255323:155257848:-1 gene:ENSG00000227159 gene_biotype:pseudogene transcript_biotype:unprocessed_pseudogene // chr1 // 50 // 96 // 12 // 24 // 0 /// ENST00000507418 // ENSEMBL // cdna:pseudogene chromosome:GRCh37:X:155255329:155257542:-1 gene:ENSG00000227159 gene_biotype:pseudogene transcript_biotype:unprocessed_pseudogene // chr1 // 50 // 64 // 8 // 16 // 0 /// ENST00000421620 // ENSEMBL // cdna:pseudogene chromosome:GRCh37:9:12134:13439:1 gene:ENSG00000236875 gene_biotype:pseudogene transcript_biotype:unprocessed_pseudogene // chr1 // 100 // 12 // 3 // 3 // 0 /// GENSCAN00000003613 // ENSEMBL // cdna:genscan chromosome:GRCh37:15:102517021:102518980:-1 transcript_biotype:protein_coding // chr1 // 100 // 52 // 13 // 13 // 0 /// GENSCAN00000026650 // ENSEMBL // cdna:genscan chromosome:GRCh37:1:12190:14149:1 transcript_biotype:protein_coding // chr1 // 100 // 52 // 13 // 13 // 0 /// GENSCAN00000029586 // ENSEMBL // cdna:genscan chromosome:GRCh37:16:61871:63830:1 transcript_biotype:protein_coding // chr1 // 100 // 48 // 12 // 12 // 0 /// ENST00000535849 // ENSEMBL // cdna:pseudogene chromosome:GRCh37:12:92239:93430:-1 gene:ENSG00000256263 gene_biotype:pseudogene transcript_biotype:unprocessed_pseudogene // chr1 // 38 // 32 // 3 // 8 // 1 /// ENST00000575871 // ENSEMBL // cdna:pseudogene chromosome:GRCh37:HG858_PATCH:62310:63501:1 gene:ENSG00000262195 gene_biotype:pseudogene transcript_biotype:unprocessed_pseudogene // chr1 // 38 // 32 // 3 // 8 // 1 /// ENST00000572276 // ENSEMBL // cdna:pseudogene chromosome:GRCh37:HSCHR12_1_CTG1:62310:63501:1 gene:ENSG00000263289 gene_biotype:pseudogene transcript_biotype:unprocessed_pseudogene // chr1 // 38 // 32 // 3 // 8 // 1 /// GENSCAN00000048516 // ENSEMBL // cdna:genscan chromosome:GRCh37:HG858_PATCH:62740:64276:1 transcript_biotype:protein_coding // chr1 // 25 // 48 // 3 // 12 // 1 /// GENSCAN00000048612 // ENSEMBL // cdna:genscan chromosome:GRCh37:HSCHR12_1_CTG1:62740:64276:1 transcript_biotype:protein_coding // chr1 // 25 // 48 // 3 // 12 // 1', 'ENST00000473358 // ENSEMBL // cdna:known chromosome:GRCh37:1:29554:31097:1 gene:ENSG00000243485 gene_biotype:antisense transcript_biotype:antisense // chr1 // 100 // 71 // 20 // 20 // 0', 'NM_001005484 // RefSeq // Homo sapiens olfactory receptor, family 4, subfamily F, member 5 (OR4F5), mRNA. // chr1 // 100 // 100 // 8 // 8 // 0 /// ENST00000335137 // ENSEMBL // cdna:known chromosome:GRCh37:1:69091:70008:1 gene:ENSG00000186092 gene_biotype:protein_coding transcript_biotype:protein_coding // chr1 // 100 // 100 // 8 // 8 // 0', 'TCONS_00000119-XLOC_000001 // Rinn lincRNA // linc-OR4F16-10 chr1:+:160445-161525 // chr1 // 100 // 100 // 13 // 13 // 0', 'AK302511 // GenBank // Homo sapiens cDNA FLJ61476 complete cds. // chr1 // 92 // 33 // 11 // 12 // 0 /// AK294489 // GenBank // Homo sapiens cDNA FLJ52615 complete cds. // chr1 // 77 // 36 // 10 // 13 // 0 /// AK303380 // GenBank // Homo sapiens cDNA FLJ53527 complete cds. // chr1 // 100 // 14 // 5 // 5 // 0 /// AK316554 // GenBank // Homo sapiens cDNA, FLJ79453 complete cds. // chr1 // 100 // 11 // 4 // 4 // 0 /// AK316556 // GenBank // Homo sapiens cDNA, FLJ79455 complete cds. // chr1 // 100 // 11 // 4 // 4 // 0 /// AK302573 // GenBank // Homo sapiens cDNA FLJ52612 complete cds. // chr1 // 80 // 14 // 4 // 5 // 0 /// TCONS_l2_00002815-XLOC_l2_001399 // Broad TUCP // linc-PLD5-5 chr1:-:243219130-243221165 // chr1 // 92 // 33 // 11 // 12 // 0 /// TCONS_l2_00001802-XLOC_l2_001332 // Broad TUCP // linc-TP53BP2-3 chr1:-:224139117-224140327 // chr1 // 100 // 14 // 5 // 5 // 0 /// TCONS_l2_00001804-XLOC_l2_001332 // Broad TUCP // linc-TP53BP2-3 chr1:-:224139117-224142371 // chr1 // 100 // 14 // 5 // 5 // 0 /// TCONS_00000120-XLOC_000002 // Rinn lincRNA // linc-OR4F16-9 chr1:+:320161-321056 // chr1 // 100 // 11 // 4 // 4 // 0 /// TCONS_l2_00002817-XLOC_l2_001399 // Broad TUCP // linc-PLD5-5 chr1:-:243220177-243221150 // chr1 // 100 // 6 // 2 // 2 // 0 /// TCONS_00000437-XLOC_000658 // Rinn lincRNA // linc-ZNF692-6 chr1:-:139789-140339 // chr1 // 100 // 6 // 2 // 2 // 0 /// AK299469 // GenBank // Homo sapiens cDNA FLJ52610 complete cds. // chr1 // 100 // 33 // 12 // 12 // 0 /// AK302889 // GenBank // Homo sapiens cDNA FLJ54896 complete cds. // chr1 // 100 // 22 // 8 // 8 // 0 /// AK123446 // GenBank // Homo sapiens cDNA FLJ41452 fis, clone BRSTN2010363. // chr1 // 100 // 19 // 7 // 7 // 0 /// ENST00000425496 // ENSEMBL // cdna:known chromosome:GRCh37:1:324756:328453:1 gene:ENSG00000237094 gene_biotype:processed_transcript transcript_biotype:processed_transcript // chr1 // 100 // 33 // 13 // 12 // 0 /// ENST00000456623 // ENSEMBL // cdna:known chromosome:GRCh37:1:324515:326852:1 gene:ENSG00000237094 gene_biotype:processed_transcript transcript_biotype:processed_transcript // chr1 // 100 // 33 // 12 // 12 // 0 /// ENST00000418377 // ENSEMBL // cdna:known chromosome:GRCh37:1:243219131:243221165:-1 gene:ENSG00000214837 gene_biotype:processed_transcript transcript_biotype:processed_transcript // chr1 // 92 // 33 // 11 // 12 // 0 /// ENST00000534867 // ENSEMBL // cdna:known chromosome:GRCh37:1:324438:325896:1 gene:ENSG00000237094 gene_biotype:processed_transcript transcript_biotype:processed_transcript // chr1 // 100 // 28 // 10 // 10 // 0 /// ENST00000544678 // ENSEMBL // cdna:known chromosome:GRCh37:5:180751053:180752511:1 gene:ENSG00000238035 gene_biotype:protein_coding transcript_biotype:protein_coding // chr1 // 100 // 22 // 8 // 8 // 0 /// ENST00000419160 // ENSEMBL // cdna:known chromosome:GRCh37:1:322732:324955:1 gene:ENSG00000237094 gene_biotype:processed_transcript transcript_biotype:processed_transcript // chr1 // 100 // 17 // 6 // 6 // 0 /// ENST00000432964 // ENSEMBL // cdna:known chromosome:GRCh37:1:320162:321056:1 gene:ENSG00000237094 gene_biotype:processed_transcript transcript_biotype:processed_transcript // chr1 // 100 // 11 // 4 // 4 // 0 /// ENST00000423728 // ENSEMBL // cdna:known chromosome:GRCh37:1:320162:324461:1 gene:ENSG00000237094 gene_biotype:processed_transcript transcript_biotype:processed_transcript // chr1 // 100 // 11 // 4 // 4 // 0 /// BC092421 // GenBank // Homo sapiens cDNA clone IMAGE:30378758. // chr1 // 100 // 33 // 12 // 12 // 0 /// ENST00000426316 // ENSEMBL // cdna:known chromosome:GRCh37:1:317811:328455:1 gene:ENSG00000240876 gene_biotype:processed_transcript transcript_biotype:processed_transcript // chr1 // 100 // 8 // 3 // 3 // 0 /// ENST00000465971 // ENSEMBL // cdna:pseudogene chromosome:GRCh37:7:128291239:128292388:1 gene:ENSG00000243302 gene_biotype:pseudogene transcript_biotype:processed_pseudogene // chr1 // 100 // 31 // 11 // 11 // 0 /// ENST00000535314 // ENSEMBL // cdna:pseudogene chromosome:GRCh37:7:128291243:128292355:1 gene:ENSG00000243302 gene_biotype:pseudogene transcript_biotype:processed_pseudogene // chr1 // 100 // 31 // 11 // 11 // 0 /// ENST00000423372 // ENSEMBL // cdna:pseudogene chromosome:GRCh37:1:134901:139379:-1 gene:ENSG00000237683 gene_biotype:pseudogene transcript_biotype:processed_pseudogene // chr1 // 90 // 28 // 9 // 10 // 0 /// ENST00000435839 // ENSEMBL // cdna:pseudogene chromosome:GRCh37:1:137283:139620:-1 gene:ENSG00000237683 gene_biotype:pseudogene transcript_biotype:processed_pseudogene // chr1 // 90 // 28 // 9 // 10 // 0 /// ENST00000537461 // ENSEMBL // cdna:pseudogene chromosome:GRCh37:1:138239:139697:-1 gene:ENSG00000237683 gene_biotype:pseudogene transcript_biotype:processed_pseudogene // chr1 // 100 // 19 // 7 // 7 // 0 /// ENST00000494149 // ENSEMBL // cdna:pseudogene chromosome:GRCh37:1:135247:138039:-1 gene:ENSG00000237683 gene_biotype:pseudogene transcript_biotype:processed_pseudogene // chr1 // 100 // 8 // 3 // 3 // 0 /// ENST00000514436 // ENSEMBL // cdna:pseudogene chromosome:GRCh37:1:326096:328112:1 gene:ENSG00000250575 gene_biotype:pseudogene transcript_biotype:unprocessed_pseudogene // chr1 // 100 // 8 // 3 // 3 // 0 /// ENST00000457364 // ENSEMBL // cdna:known chromosome:GRCh37:5:180751371:180755068:1 gene:ENSG00000238035 gene_biotype:protein_coding transcript_biotype:protein_coding // chr1 // 100 // 28 // 11 // 10 // 0 /// ENST00000438516 // ENSEMBL // cdna:known chromosome:GRCh37:5:180751130:180753467:1 gene:ENSG00000238035 gene_biotype:protein_coding transcript_biotype:protein_coding // chr1 // 100 // 28 // 10 // 10 // 0 /// ENST00000526704 // ENSEMBL // ensembl_havana_lincrna:lincRNA chromosome:GRCh37:11:129531:139099:-1 gene:ENSG00000230724 gene_biotype:lincRNA transcript_biotype:processed_transcript // chr1 // 93 // 42 // 14 // 15 // 0 /// ENST00000540375 // ENSEMBL // ensembl_havana_lincrna:lincRNA chromosome:GRCh37:11:127115:131056:-1 gene:ENSG00000230724 gene_biotype:lincRNA transcript_biotype:processed_transcript // chr1 // 100 // 28 // 11 // 10 // 0 /// ENST00000457006 // ENSEMBL // ensembl_havana_lincrna:lincRNA chromosome:GRCh37:11:128960:131297:-1 gene:ENSG00000230724 gene_biotype:lincRNA transcript_biotype:processed_transcript // chr1 // 90 // 28 // 9 // 10 // 0 /// ENST00000427071 // ENSEMBL // ensembl_havana_lincrna:lincRNA chromosome:GRCh37:11:130207:131297:-1 gene:ENSG00000230724 gene_biotype:lincRNA transcript_biotype:processed_transcript // chr1 // 100 // 25 // 9 // 9 // 0 /// ENST00000542435 // ENSEMBL // ensembl_havana_lincrna:lincRNA chromosome:GRCh37:11:129916:131374:-1 gene:ENSG00000230724 gene_biotype:lincRNA transcript_biotype:processed_transcript // chr1 // 100 // 22 // 8 // 8 // 0'], 'swissprot': ['NR_046018 // B7ZGW9 /// NR_046018 // B7ZGX0 /// NR_046018 // B7ZGX2 /// NR_046018 // B7ZGX3 /// NR_046018 // B7ZGX5 /// NR_046018 // B7ZGX6 /// NR_046018 // B7ZGX7 /// NR_046018 // B7ZGX8 /// NR_046018 // B7ZGX9 /// NR_046018 // B7ZGY0 /// NR_034090 // B7ZGW9 /// NR_034090 // B7ZGX0 /// NR_034090 // B7ZGX2 /// NR_034090 // B7ZGX3 /// NR_034090 // B7ZGX5 /// NR_034090 // B7ZGX6 /// NR_034090 // B7ZGX7 /// NR_034090 // B7ZGX8 /// NR_034090 // B7ZGX9 /// NR_034090 // B7ZGY0 /// NR_051985 // B7ZGW9 /// NR_051985 // B7ZGX0 /// NR_051985 // B7ZGX2 /// NR_051985 // B7ZGX3 /// NR_051985 // B7ZGX5 /// NR_051985 // B7ZGX6 /// NR_051985 // B7ZGX7 /// NR_051985 // B7ZGX8 /// NR_051985 // B7ZGX9 /// NR_051985 // B7ZGY0 /// NR_045117 // B7ZGW9 /// NR_045117 // B7ZGX0 /// NR_045117 // B7ZGX2 /// NR_045117 // B7ZGX3 /// NR_045117 // B7ZGX5 /// NR_045117 // B7ZGX6 /// NR_045117 // B7ZGX7 /// NR_045117 // B7ZGX8 /// NR_045117 // B7ZGX9 /// NR_045117 // B7ZGY0 /// NR_024005 // B7ZGW9 /// NR_024005 // B7ZGX0 /// NR_024005 // B7ZGX2 /// NR_024005 // B7ZGX3 /// NR_024005 // B7ZGX5 /// NR_024005 // B7ZGX6 /// NR_024005 // B7ZGX7 /// NR_024005 // B7ZGX8 /// NR_024005 // B7ZGX9 /// NR_024005 // B7ZGY0 /// NR_051986 // B7ZGW9 /// NR_051986 // B7ZGX0 /// NR_051986 // B7ZGX2 /// NR_051986 // B7ZGX3 /// NR_051986 // B7ZGX5 /// NR_051986 // B7ZGX6 /// NR_051986 // B7ZGX7 /// NR_051986 // B7ZGX8 /// NR_051986 // B7ZGX9 /// NR_051986 // B7ZGY0 /// AK125998 // Q6ZU42 /// AK125998 // B7ZGW9 /// AK125998 // B7ZGX0 /// AK125998 // B7ZGX2 /// AK125998 // B7ZGX3 /// AK125998 // B7ZGX5 /// AK125998 // B7ZGX6 /// AK125998 // B7ZGX7 /// AK125998 // B7ZGX8 /// AK125998 // B7ZGX9 /// AK125998 // B7ZGY0', '---', '---', '---', 'AK302511 // B4DYM5 /// AK294489 // B4DGA0 /// AK294489 // Q6ZSN7 /// AK303380 // B4E0H4 /// AK303380 // Q6ZQS4 /// AK303380 // A8E4K2 /// AK316554 // B4E3X0 /// AK316554 // Q6ZSN7 /// AK316556 // B4E3X2 /// AK316556 // Q6ZSN7 /// AK302573 // B7Z7W4 /// AK302573 // Q6ZQS4 /// AK302573 // A8E4K2 /// AK299469 // B7Z5V7 /// AK299469 // Q6ZSN7 /// AK302889 // B7Z846 /// AK302889 // Q6ZSN7 /// AK123446 // B3KVU4'], 'unigene': ['NR_046018 // Hs.714157 // testis| normal| adult /// NR_034090 // Hs.644359 // blood| normal| adult /// NR_051985 // Hs.644359 // blood| normal| adult /// NR_045117 // Hs.592089 // brain| glioma /// NR_024004 // Hs.712940 // bladder| bone marrow| brain| embryonic tissue| intestine| mammary gland| muscle| pharynx| placenta| prostate| skin| spleen| stomach| testis| thymus| breast (mammary gland) tumor| gastrointestinal tumor| glioma| non-neoplasia| normal| prostate cancer| skin tumor| soft tissue/muscle tissue tumor|embryoid body| adult /// NR_024005 // Hs.712940 // bladder| bone marrow| brain| embryonic tissue| intestine| mammary gland| muscle| pharynx| placenta| prostate| skin| spleen| stomach| testis| thymus| breast (mammary gland) tumor| gastrointestinal tumor| glioma| non-neoplasia| normal| prostate cancer| skin tumor| soft tissue/muscle tissue tumor|embryoid body| adult /// NR_051986 // Hs.719844 // brain| normal /// ENST00000456328 // Hs.714157 // testis| normal| adult /// ENST00000559159 // Hs.644359 // blood| normal| adult /// ENST00000562189 // Hs.644359 // blood| normal| adult /// ENST00000513886 // Hs.592089 // brain| glioma /// ENST00000515242 // Hs.714157 // testis| normal| adult /// ENST00000518655 // Hs.714157 // testis| normal| adult /// ENST00000515173 // Hs.644359 // blood| normal| adult /// ENST00000545636 // Hs.592089 // brain| glioma /// ENST00000450305 // Hs.714157 // testis| normal| adult /// ENST00000560040 // Hs.644359 // blood| normal| adult /// ENST00000430178 // Hs.592089 // brain| glioma /// ENST00000538648 // Hs.644359 // blood| normal| adult', '---', 'NM_001005484 // Hs.554500 // --- /// ENST00000335137 // Hs.554500 // ---', '---', 'AK302511 // Hs.732199 // ascites| blood| brain| connective tissue| embryonic tissue| eye| intestine| kidney| larynx| lung| ovary| placenta| prostate| stomach| testis| thymus| uterus| chondrosarcoma| colorectal tumor| gastrointestinal tumor| head and neck tumor| leukemia| lung tumor| normal| ovarian tumor| fetus| adult /// AK294489 // Hs.534942 // blood| brain| embryonic tissue| intestine| lung| mammary gland| mouth| ovary| pancreas| pharynx| placenta| spleen| stomach| testis| thymus| trachea| breast (mammary gland) tumor| colorectal tumor| head and neck tumor| leukemia| lung tumor| normal| ovarian tumor|embryoid body| blastocyst| fetus| adult /// AK294489 // Hs.734488 // blood| brain| esophagus| intestine| kidney| lung| mammary gland| mouth| placenta| prostate| testis| thymus| thyroid| uterus| breast (mammary gland) tumor| colorectal tumor| esophageal tumor| head and neck tumor| kidney tumor| leukemia| lung tumor| normal| adult /// AK303380 // Hs.732199 // ascites| blood| brain| connective tissue| embryonic tissue| eye| intestine| kidney| larynx| lung| ovary| placenta| prostate| stomach| testis| thymus| uterus| chondrosarcoma| colorectal tumor| gastrointestinal tumor| head and neck tumor| leukemia| lung tumor| normal| ovarian tumor| fetus| adult /// AK316554 // Hs.732199 // ascites| blood| brain| connective tissue| embryonic tissue| eye| intestine| kidney| larynx| lung| ovary| placenta| prostate| stomach| testis| thymus| uterus| chondrosarcoma| colorectal tumor| gastrointestinal tumor| head and neck tumor| leukemia| lung tumor| normal| ovarian tumor| fetus| adult /// AK316556 // Hs.732199 // ascites| blood| brain| connective tissue| embryonic tissue| eye| intestine| kidney| larynx| lung| ovary| placenta| prostate| stomach| testis| thymus| uterus| chondrosarcoma| colorectal tumor| gastrointestinal tumor| head and neck tumor| leukemia| lung tumor| normal| ovarian tumor| fetus| adult /// AK302573 // Hs.534942 // blood| brain| embryonic tissue| intestine| lung| mammary gland| mouth| ovary| pancreas| pharynx| placenta| spleen| stomach| testis| thymus| trachea| breast (mammary gland) tumor| colorectal tumor| head and neck tumor| leukemia| lung tumor| normal| ovarian tumor|embryoid body| blastocyst| fetus| adult /// AK302573 // Hs.734488 // blood| brain| esophagus| intestine| kidney| lung| mammary gland| mouth| placenta| prostate| testis| thymus| thyroid| uterus| breast (mammary gland) tumor| colorectal tumor| esophageal tumor| head and neck tumor| kidney tumor| leukemia| lung tumor| normal| adult /// AK123446 // Hs.520589 // bladder| blood| bone| brain| embryonic tissue| intestine| kidney| liver| lung| lymph node| ovary| pancreas| parathyroid| placenta| testis| thyroid| uterus| colorectal tumor| glioma| head and neck tumor| kidney tumor| leukemia| liver tumor| normal| ovarian tumor| uterine tumor|embryoid body| fetus| adult /// ENST00000425496 // Hs.356758 // blood| bone| brain| cervix| connective tissue| embryonic tissue| intestine| kidney| lung| mammary gland| mouth| pancreas| pharynx| placenta| prostate| spleen| stomach| testis| trachea| uterus| vascular| breast (mammary gland) tumor| chondrosarcoma| colorectal tumor| gastrointestinal tumor| glioma| head and neck tumor| leukemia| lung tumor| normal| uterine tumor| adult /// ENST00000425496 // Hs.733048 // ascites| bladder| blood| brain| embryonic tissue| eye| intestine| kidney| larynx| liver| lung| mammary gland| mouth| pancreas| placenta| prostate| skin| stomach| testis| thymus| thyroid| trachea| uterus| bladder carcinoma| breast (mammary gland) tumor| colorectal tumor| gastrointestinal tumor| head and neck tumor| kidney tumor| leukemia| liver tumor| lung tumor| normal| pancreatic tumor| prostate cancer| retinoblastoma| skin tumor| soft tissue/muscle tissue tumor| uterine tumor|embryoid body| blastocyst| fetus| adult /// ENST00000456623 // Hs.356758 // blood| bone| brain| cervix| connective tissue| embryonic tissue| intestine| kidney| lung| mammary gland| mouth| pancreas| pharynx| placenta| prostate| spleen| stomach| testis| trachea| uterus| vascular| breast (mammary gland) tumor| chondrosarcoma| colorectal tumor| gastrointestinal tumor| glioma| head and neck tumor| leukemia| lung tumor| normal| uterine tumor| adult /// ENST00000456623 // Hs.733048 // ascites| bladder| blood| brain| embryonic tissue| eye| intestine| kidney| larynx| liver| lung| mammary gland| mouth| pancreas| placenta| prostate| skin| stomach| testis| thymus| thyroid| trachea| uterus| bladder carcinoma| breast (mammary gland) tumor| colorectal tumor| gastrointestinal tumor| head and neck tumor| kidney tumor| leukemia| liver tumor| lung tumor| normal| pancreatic tumor| prostate cancer| retinoblastoma| skin tumor| soft tissue/muscle tissue tumor| uterine tumor|embryoid body| blastocyst| fetus| adult /// ENST00000534867 // Hs.356758 // blood| bone| brain| cervix| connective tissue| embryonic tissue| intestine| kidney| lung| mammary gland| mouth| pancreas| pharynx| placenta| prostate| spleen| stomach| testis| trachea| uterus| vascular| breast (mammary gland) tumor| chondrosarcoma| colorectal tumor| gastrointestinal tumor| glioma| head and neck tumor| leukemia| lung tumor| normal| uterine tumor| adult /// ENST00000534867 // Hs.733048 // ascites| bladder| blood| brain| embryonic tissue| eye| intestine| kidney| larynx| liver| lung| mammary gland| mouth| pancreas| placenta| prostate| skin| stomach| testis| thymus| thyroid| trachea| uterus| bladder carcinoma| breast (mammary gland) tumor| colorectal tumor| gastrointestinal tumor| head and neck tumor| kidney tumor| leukemia| liver tumor| lung tumor| normal| pancreatic tumor| prostate cancer| retinoblastoma| skin tumor| soft tissue/muscle tissue tumor| uterine tumor|embryoid body| blastocyst| fetus| adult /// ENST00000419160 // Hs.356758 // blood| bone| brain| cervix| connective tissue| embryonic tissue| intestine| kidney| lung| mammary gland| mouth| pancreas| pharynx| placenta| prostate| spleen| stomach| testis| trachea| uterus| vascular| breast (mammary gland) tumor| chondrosarcoma| colorectal tumor| gastrointestinal tumor| glioma| head and neck tumor| leukemia| lung tumor| normal| uterine tumor| adult /// ENST00000419160 // Hs.733048 // ascites| bladder| blood| brain| embryonic tissue| eye| intestine| kidney| larynx| liver| lung| mammary gland| mouth| pancreas| placenta| prostate| skin| stomach| testis| thymus| thyroid| trachea| uterus| bladder carcinoma| breast (mammary gland) tumor| colorectal tumor| gastrointestinal tumor| head and neck tumor| kidney tumor| leukemia| liver tumor| lung tumor| normal| pancreatic tumor| prostate cancer| retinoblastoma| skin tumor| soft tissue/muscle tissue tumor| uterine tumor|embryoid body| blastocyst| fetus| adult /// ENST00000432964 // Hs.356758 // blood| bone| brain| cervix| connective tissue| embryonic tissue| intestine| kidney| lung| mammary gland| mouth| pancreas| pharynx| placenta| prostate| spleen| stomach| testis| trachea| uterus| vascular| breast (mammary gland) tumor| chondrosarcoma| colorectal tumor| gastrointestinal tumor| glioma| head and neck tumor| leukemia| lung tumor| normal| uterine tumor| adult /// ENST00000432964 // Hs.733048 // ascites| bladder| blood| brain| embryonic tissue| eye| intestine| kidney| larynx| liver| lung| mammary gland| mouth| pancreas| placenta| prostate| skin| stomach| testis| thymus| thyroid| trachea| uterus| bladder carcinoma| breast (mammary gland) tumor| colorectal tumor| gastrointestinal tumor| head and neck tumor| kidney tumor| leukemia| liver tumor| lung tumor| normal| pancreatic tumor| prostate cancer| retinoblastoma| skin tumor| soft tissue/muscle tissue tumor| uterine tumor|embryoid body| blastocyst| fetus| adult /// ENST00000423728 // Hs.356758 // blood| bone| brain| cervix| connective tissue| embryonic tissue| intestine| kidney| lung| mammary gland| mouth| pancreas| pharynx| placenta| prostate| spleen| stomach| testis| trachea| uterus| vascular| breast (mammary gland) tumor| chondrosarcoma| colorectal tumor| gastrointestinal tumor| glioma| head and neck tumor| leukemia| lung tumor| normal| uterine tumor| adult /// ENST00000423728 // Hs.733048 // ascites| bladder| blood| brain| embryonic tissue| eye| intestine| kidney| larynx| liver| lung| mammary gland| mouth| pancreas| placenta| prostate| skin| stomach| testis| thymus| thyroid| trachea| uterus| bladder carcinoma| breast (mammary gland) tumor| colorectal tumor| gastrointestinal tumor| head and neck tumor| kidney tumor| leukemia| liver tumor| lung tumor| normal| pancreatic tumor| prostate cancer| retinoblastoma| skin tumor| soft tissue/muscle tissue tumor| uterine tumor|embryoid body| blastocyst| fetus| adult'], 'GO_biological_process': ['---', '---', '---', '---', '---'], 'GO_cellular_component': ['---', '---', 'NM_001005484 // GO:0005886 // plasma membrane // traceable author statement  /// NM_001005484 // GO:0016021 // integral to membrane // inferred from electronic annotation  /// ENST00000335137 // GO:0005886 // plasma membrane // traceable author statement  /// ENST00000335137 // GO:0016021 // integral to membrane // inferred from electronic annotation', '---', '---'], 'GO_molecular_function': ['---', '---', 'NM_001005484 // GO:0004930 // G-protein coupled receptor activity // inferred from electronic annotation  /// NM_001005484 // GO:0004984 // olfactory receptor activity // inferred from electronic annotation  /// ENST00000335137 // GO:0004930 // G-protein coupled receptor activity // inferred from electronic annotation  /// ENST00000335137 // GO:0004984 // olfactory receptor activity // inferred from electronic annotation', '---', '---'], 'pathway': ['---', '---', '---', '---', '---'], 'protein_domains': ['---', '---', 'ENST00000335137 // Pfam // IPR000276 // GPCR, rhodopsin-like, 7TM /// ENST00000335137 // Pfam // IPR019424 // 7TM GPCR, olfactory receptor/chemoreceptor Srsx', '---', '---'], 'crosshyb_type': ['3', '3', '3', '3', '3'], 'category': ['main', 'main', 'main', 'main', 'main'], 'GB_ACC': ['NR_046018', nan, 'NM_001005484', nan, 'AK302511'], 'SPOT_ID': [nan, 'ENST00000473358', nan, 'TCONS_00000119-XLOC_000001', nan]}\n"
     ]
    }
   ],
   "source": [
    "if requires_gene_mapping:\n",
    "    gene_annotation = get_gene_annotation(soft_file)\n",
    "    gene_annotation_summary = preview_df(gene_annotation)\n",
    "    print(gene_annotation_summary)"
   ],
   "metadata": {
    "collapsed": false,
    "ExecuteTime": {
     "end_time": "2024-01-27T22:43:40.247489281Z",
     "start_time": "2024-01-27T22:43:31.190647579Z"
    }
   }
  },
  {
   "cell_type": "markdown",
   "source": [
    "Observe the first few cells in the ID column of the gene annotation dataframe, to find the names of columns that store the gene probe IDs and gene symbols respectively.\n",
    "Reference prompt:"
   ],
   "metadata": {
    "collapsed": false,
    "ExecuteTime": {
     "end_time": "2023-12-31T03:58:04.978931927Z",
     "start_time": "2023-12-31T03:58:04.966328339Z"
    }
   },
   "outputs": [],
   "execution_count": 39
  },
  {
   "cell_type": "code",
   "execution_count": 19,
   "outputs": [
    {
     "name": "stdout",
     "output_type": "stream",
     "text": [
      "\n",
      "    As a biomedical research team, we are analyzing a gene expression dataset, and find that its row headers are some identifiers related to genes:\n",
      "    ['16650001', '16650003', '16650005', '16650007', '16650009', '16650011', '16650013', '16650015', '16650017', '16650019', '16650021', '16650023', '16650025', '16650027', '16650029', '16650031', '16650033', '16650035', '16650037', '16650041']\n",
      "    To get the mapping from those identifiers to actual gene symbols, we extracted the gene annotation data from a series in the GEO database, and saved it to a Python dictionary. Please read the dictionary, and decide which key stores the identifiers, and which key stores the gene symbols. Please strictly follow this format in your answer:\n",
      "    identifier_key = 'key_name1'\n",
      "    gene_symbol_key = 'key_name2'\n",
      "\n",
      "    Gene annotation dictionary:\n",
      "    {'ID': ['16657436', '16657440', '16657445', '16657447', '16657450'], 'probeset_id': ['16657436', '16657440', '16657445', '16657447', '16657450'], 'seqname': ['chr1', 'chr1', 'chr1', 'chr1', 'chr1'], 'strand': ['+', '+', '+', '+', '+'], 'start': ['12190', '29554', '69091', '160446', '317811'], 'stop': ['13639', '31109', '70008', '161525', '328581'], 'total_probes': [25.0, 28.0, 8.0, 13.0, 36.0], 'gene_assignment': ['NR_046018 // DDX11L1 // DEAD/H (Asp-Glu-Ala-Asp/His) box helicase 11 like 1 // 1p36.33 // 100287102 /// NR_034090 // DDX11L9 // DEAD/H (Asp-Glu-Ala-Asp/His) box helicase 11 like 9 // 15q26.3 // 100288486 /// NR_051985 // DDX11L9 // DEAD/H (Asp-Glu-Ala-Asp/His) box helicase 11 like 9 // 15q26.3 // 100288486 /// NR_045117 // DDX11L10 // DEAD/H (Asp-Glu-Ala-Asp/His) box helicase 11 like 10 // 16p13.3 // 100287029 /// NR_024004 // DDX11L2 // DEAD/H (Asp-Glu-Ala-Asp/His) box helicase 11 like 2 // 2q13 // 84771 /// NR_024005 // DDX11L2 // DEAD/H (Asp-Glu-Ala-Asp/His) box helicase 11 like 2 // 2q13 // 84771 /// NR_051986 // DDX11L5 // DEAD/H (Asp-Glu-Ala-Asp/His) box helicase 11 like 5 // 9p24.3 // 100287596 /// ENST00000456328 // DDX11L1 // DEAD/H (Asp-Glu-Ala-Asp/His) box helicase 11 like 1 // 1p36.33 // 100287102 /// ENST00000559159 // DDX11L9 // DEAD/H (Asp-Glu-Ala-Asp/His) box helicase 11 like 9 // 15q26.3 // 100288486 /// ENST00000562189 // DDX11L9 // DEAD/H (Asp-Glu-Ala-Asp/His) box helicase 11 like 9 // 15q26.3 // 100288486 /// ENST00000513886 // DDX11L10 // DEAD/H (Asp-Glu-Ala-Asp/His) box helicase 11 like 10 // 16p13.3 // 100287029 /// ENST00000515242 // DDX11L1 // DEAD/H (Asp-Glu-Ala-Asp/His) box helicase 11 like 1 // 1p36.33 // 100287102 /// ENST00000518655 // DDX11L1 // DEAD/H (Asp-Glu-Ala-Asp/His) box helicase 11 like 1 // 1p36.33 // 100287102 /// ENST00000515173 // DDX11L9 // DEAD/H (Asp-Glu-Ala-Asp/His) box helicase 11 like 9 // 15q26.3 // 100288486 /// ENST00000545636 // DDX11L10 // DEAD/H (Asp-Glu-Ala-Asp/His) box helicase 11 like 10 // 16p13.3 // 100287029 /// ENST00000450305 // DDX11L1 // DEAD/H (Asp-Glu-Ala-Asp/His) box helicase 11 like 1 // 1p36.33 // 100287102 /// ENST00000560040 // DDX11L9 // DEAD/H (Asp-Glu-Ala-Asp/His) box helicase 11 like 9 // 15q26.3 // 100288486 /// ENST00000430178 // DDX11L10 // DEAD/H (Asp-Glu-Ala-Asp/His) box helicase 11 like 10 // 16p13.3 // 100287029 /// ENST00000538648 // DDX11L9 // DEAD/H (Asp-Glu-Ala-Asp/His) box helicase 11 like 9 // 15q26.3 // 100288486 /// ENST00000535848 // DDX11L2 // DEAD/H (Asp-Glu-Ala-Asp/His) box helicase 11 like 2 // --- // --- /// ENST00000457993 // DDX11L2 // DEAD/H (Asp-Glu-Ala-Asp/His) box helicase 11 like 2 // --- // --- /// ENST00000437401 // DDX11L2 // DEAD/H (Asp-Glu-Ala-Asp/His) box helicase 11 like 2 // --- // --- /// ENST00000426146 // DDX11L5 // DEAD/H (Asp-Glu-Ala-Asp/His) box helicase 11 like 5 // --- // --- /// ENST00000445777 // DDX11L16 // DEAD/H (Asp-Glu-Ala-Asp/His) box helicase 11 like 16 // --- // --- /// ENST00000507418 // DDX11L16 // DEAD/H (Asp-Glu-Ala-Asp/His) box helicase 11 like 16 // --- // --- /// ENST00000507418 // DDX11L16 // DEAD/H (Asp-Glu-Ala-Asp/His) box helicase 11 like 16 // --- // --- /// ENST00000507418 // DDX11L16 // DEAD/H (Asp-Glu-Ala-Asp/His) box helicase 11 like 16 // --- // --- /// ENST00000507418 // DDX11L16 // DEAD/H (Asp-Glu-Ala-Asp/His) box helicase 11 like 16 // --- // --- /// ENST00000421620 // DDX11L5 // DEAD/H (Asp-Glu-Ala-Asp/His) box helicase 11 like 5 // --- // ---', 'ENST00000473358 // MIR1302-11 // microRNA 1302-11 // --- // 100422919 /// ENST00000473358 // MIR1302-10 // microRNA 1302-10 // --- // 100422834 /// ENST00000473358 // MIR1302-9 // microRNA 1302-9 // --- // 100422831 /// ENST00000473358 // MIR1302-2 // microRNA 1302-2 // --- // 100302278', 'NM_001005484 // OR4F5 // olfactory receptor, family 4, subfamily F, member 5 // 1p36.33 // 79501 /// ENST00000335137 // OR4F5 // olfactory receptor, family 4, subfamily F, member 5 // 1p36.33 // 79501', '---', 'AK302511 // LOC100132062 // uncharacterized LOC100132062 // 5q35.3 // 100132062 /// AK294489 // LOC729737 // uncharacterized LOC729737 // 1p36.33 // 729737 /// AK303380 // LOC100132062 // uncharacterized LOC100132062 // 5q35.3 // 100132062 /// AK316554 // LOC100132062 // uncharacterized LOC100132062 // 5q35.3 // 100132062 /// AK316556 // LOC100132062 // uncharacterized LOC100132062 // 5q35.3 // 100132062 /// AK302573 // LOC729737 // uncharacterized LOC729737 // 1p36.33 // 729737 /// AK123446 // LOC441124 // uncharacterized LOC441124 // 1q42.11 // 441124 /// ENST00000425496 // LOC100506479 // uncharacterized LOC100506479 // --- // 100506479 /// ENST00000425496 // LOC100289306 // uncharacterized LOC100289306 // 7p11.2 // 100289306 /// ENST00000425496 // LOC100287894 // uncharacterized LOC100287894 // 7q11.21 // 100287894 /// ENST00000425496 // FLJ45445 // uncharacterized LOC399844 // 19p13.3 // 399844 /// ENST00000456623 // LOC100506479 // uncharacterized LOC100506479 // --- // 100506479 /// ENST00000456623 // LOC100289306 // uncharacterized LOC100289306 // 7p11.2 // 100289306 /// ENST00000456623 // LOC100287894 // uncharacterized LOC100287894 // 7q11.21 // 100287894 /// ENST00000456623 // FLJ45445 // uncharacterized LOC399844 // 19p13.3 // 399844 /// ENST00000418377 // LOC100506479 // uncharacterized LOC100506479 // --- // 100506479 /// ENST00000418377 // LOC100288102 // uncharacterized LOC100288102 // 1q42.11 // 100288102 /// ENST00000418377 // LOC731275 // uncharacterized LOC731275 // 1q43 // 731275 /// ENST00000534867 // LOC100506479 // uncharacterized LOC100506479 // --- // 100506479 /// ENST00000534867 // LOC100289306 // uncharacterized LOC100289306 // 7p11.2 // 100289306 /// ENST00000534867 // LOC100287894 // uncharacterized LOC100287894 // 7q11.21 // 100287894 /// ENST00000534867 // FLJ45445 // uncharacterized LOC399844 // 19p13.3 // 399844 /// ENST00000544678 // LOC100653346 // uncharacterized LOC100653346 // --- // 100653346 /// ENST00000544678 // LOC100653241 // uncharacterized LOC100653241 // --- // 100653241 /// ENST00000544678 // LOC100652945 // uncharacterized LOC100652945 // --- // 100652945 /// ENST00000544678 // LOC100508632 // uncharacterized LOC100508632 // --- // 100508632 /// ENST00000544678 // LOC100132050 // uncharacterized LOC100132050 // 7p11.2 // 100132050 /// ENST00000544678 // LOC100128326 // putative uncharacterized protein FLJ44672-like // 7p11.2 // 100128326 /// ENST00000419160 // LOC100506479 // uncharacterized LOC100506479 // --- // 100506479 /// ENST00000419160 // LOC100289306 // uncharacterized LOC100289306 // 7p11.2 // 100289306 /// ENST00000419160 // LOC100287894 // uncharacterized LOC100287894 // 7q11.21 // 100287894 /// ENST00000419160 // FLJ45445 // uncharacterized LOC399844 // 19p13.3 // 399844 /// ENST00000432964 // LOC100506479 // uncharacterized LOC100506479 // --- // 100506479 /// ENST00000432964 // LOC100289306 // uncharacterized LOC100289306 // 7p11.2 // 100289306 /// ENST00000432964 // LOC100287894 // uncharacterized LOC100287894 // 7q11.21 // 100287894 /// ENST00000432964 // FLJ45445 // uncharacterized LOC399844 // 19p13.3 // 399844 /// ENST00000423728 // LOC100506479 // uncharacterized LOC100506479 // --- // 100506479 /// ENST00000423728 // LOC100289306 // uncharacterized LOC100289306 // 7p11.2 // 100289306 /// ENST00000423728 // LOC100287894 // uncharacterized LOC100287894 // 7q11.21 // 100287894 /// ENST00000423728 // FLJ45445 // uncharacterized LOC399844 // 19p13.3 // 399844 /// ENST00000457364 // LOC100653346 // uncharacterized LOC100653346 // --- // 100653346 /// ENST00000457364 // LOC100653241 // uncharacterized LOC100653241 // --- // 100653241 /// ENST00000457364 // LOC100652945 // uncharacterized LOC100652945 // --- // 100652945 /// ENST00000457364 // LOC100508632 // uncharacterized LOC100508632 // --- // 100508632 /// ENST00000457364 // LOC100132050 // uncharacterized LOC100132050 // 7p11.2 // 100132050 /// ENST00000457364 // LOC100128326 // putative uncharacterized protein FLJ44672-like // 7p11.2 // 100128326 /// ENST00000438516 // LOC100653346 // uncharacterized LOC100653346 // --- // 100653346 /// ENST00000438516 // LOC100653241 // uncharacterized LOC100653241 // --- // 100653241 /// ENST00000438516 // LOC100652945 // uncharacterized LOC100652945 // --- // 100652945 /// ENST00000438516 // LOC100508632 // uncharacterized LOC100508632 // --- // 100508632 /// ENST00000438516 // LOC100132050 // uncharacterized LOC100132050 // 7p11.2 // 100132050 /// ENST00000438516 // LOC100128326 // putative uncharacterized protein FLJ44672-like // 7p11.2 // 100128326'], 'mrna_assignment': ['NR_046018 // RefSeq // Homo sapiens DEAD/H (Asp-Glu-Ala-Asp/His) box helicase 11 like 1 (DDX11L1), non-coding RNA. // chr1 // 100 // 100 // 25 // 25 // 0 /// NR_034090 // RefSeq // Homo sapiens DEAD/H (Asp-Glu-Ala-Asp/His) box helicase 11 like 9 (DDX11L9), transcript variant 1, non-coding RNA. // chr1 // 96 // 100 // 24 // 25 // 0 /// NR_051985 // RefSeq // Homo sapiens DEAD/H (Asp-Glu-Ala-Asp/His) box helicase 11 like 9 (DDX11L9), transcript variant 2, non-coding RNA. // chr1 // 96 // 100 // 24 // 25 // 0 /// NR_045117 // RefSeq // Homo sapiens DEAD/H (Asp-Glu-Ala-Asp/His) box helicase 11 like 10 (DDX11L10), non-coding RNA. // chr1 // 92 // 96 // 22 // 24 // 0 /// NR_024004 // RefSeq // Homo sapiens DEAD/H (Asp-Glu-Ala-Asp/His) box helicase 11 like 2 (DDX11L2), transcript variant 1, non-coding RNA. // chr1 // 83 // 96 // 20 // 24 // 0 /// NR_024005 // RefSeq // Homo sapiens DEAD/H (Asp-Glu-Ala-Asp/His) box helicase 11 like 2 (DDX11L2), transcript variant 2, non-coding RNA. // chr1 // 83 // 96 // 20 // 24 // 0 /// NR_051986 // RefSeq // Homo sapiens DEAD/H (Asp-Glu-Ala-Asp/His) box helicase 11 like 5 (DDX11L5), non-coding RNA. // chr1 // 50 // 96 // 12 // 24 // 0 /// TCONS_l2_00010384-XLOC_l2_005087 // Broad TUCP // linc-SNRNP25-2 chr16:+:61554-64041 // chr1 // 92 // 96 // 22 // 24 // 0 /// TCONS_l2_00010385-XLOC_l2_005087 // Broad TUCP // linc-SNRNP25-2 chr16:+:61554-64090 // chr1 // 92 // 96 // 22 // 24 // 0 /// TCONS_l2_00030644-XLOC_l2_015857 // Broad TUCP // linc-TMLHE chrX:-:155255810-155257756 // chr1 // 50 // 96 // 12 // 24 // 0 /// TCONS_l2_00028588-XLOC_l2_014685 // Broad TUCP // linc-DOCK8-2 chr9:+:11235-13811 // chr1 // 50 // 64 // 8 // 16 // 0 /// TCONS_l2_00030643-XLOC_l2_015857 // Broad TUCP // linc-TMLHE chrX:-:155255810-155257756 // chr1 // 50 // 64 // 8 // 16 // 0 /// ENST00000456328 // ENSEMBL // cdna:known chromosome:GRCh37:1:11869:14409:1 gene:ENSG00000223972 gene_biotype:pseudogene transcript_biotype:processed_transcript // chr1 // 100 // 100 // 25 // 25 // 0 /// ENST00000559159 // ENSEMBL // cdna:known chromosome:GRCh37:15:102516761:102519296:-1 gene:ENSG00000248472 gene_biotype:pseudogene transcript_biotype:processed_transcript // chr1 // 96 // 100 // 24 // 25 // 0 /// ENST00000562189 // ENSEMBL // cdna:known chromosome:GRCh37:15:102516761:102519296:-1 gene:ENSG00000248472 gene_biotype:pseudogene transcript_biotype:processed_transcript // chr1 // 96 // 100 // 24 // 25 // 0 /// ENST00000513886 // ENSEMBL // cdna:known chromosome:GRCh37:16:61555:64090:1 gene:ENSG00000233614 gene_biotype:pseudogene transcript_biotype:processed_transcript // chr1 // 92 // 96 // 22 // 24 // 0 /// AK125998 // GenBank // Homo sapiens cDNA FLJ44010 fis, clone TESTI4024344. // chr1 // 50 // 96 // 12 // 24 // 0 /// BC070227 // GenBank // Homo sapiens similar to DEAD/H (Asp-Glu-Ala-Asp/His) box polypeptide 11 isoform 1, mRNA (cDNA clone IMAGE:6103207). // chr1 // 100 // 44 // 11 // 11 // 0 /// ENST00000515242 // ENSEMBL // cdna:pseudogene chromosome:GRCh37:1:11872:14412:1 gene:ENSG00000223972 gene_biotype:pseudogene transcript_biotype:transcribed_unprocessed_pseudogene // chr1 // 100 // 100 // 25 // 25 // 0 /// ENST00000518655 // ENSEMBL // cdna:pseudogene chromosome:GRCh37:1:11874:14409:1 gene:ENSG00000223972 gene_biotype:pseudogene transcript_biotype:transcribed_unprocessed_pseudogene // chr1 // 100 // 100 // 25 // 25 // 0 /// ENST00000515173 // ENSEMBL // cdna:pseudogene chromosome:GRCh37:15:102516758:102519298:-1 gene:ENSG00000248472 gene_biotype:pseudogene transcript_biotype:transcribed_unprocessed_pseudogene // chr1 // 96 // 100 // 24 // 25 // 0 /// ENST00000545636 // ENSEMBL // cdna:pseudogene chromosome:GRCh37:16:61553:64093:1 gene:ENSG00000233614 gene_biotype:pseudogene transcript_biotype:transcribed_unprocessed_pseudogene // chr1 // 92 // 96 // 22 // 24 // 0 /// ENST00000450305 // ENSEMBL // cdna:pseudogene chromosome:GRCh37:1:12010:13670:1 gene:ENSG00000223972 gene_biotype:pseudogene transcript_biotype:transcribed_unprocessed_pseudogene // chr1 // 100 // 68 // 17 // 17 // 0 /// ENST00000560040 // ENSEMBL // cdna:pseudogene chromosome:GRCh37:15:102517497:102518994:-1 gene:ENSG00000248472 gene_biotype:pseudogene transcript_biotype:transcribed_unprocessed_pseudogene // chr1 // 94 // 68 // 16 // 17 // 0 /// ENST00000430178 // ENSEMBL // cdna:pseudogene chromosome:GRCh37:16:61861:63351:1 gene:ENSG00000233614 gene_biotype:pseudogene transcript_biotype:transcribed_unprocessed_pseudogene // chr1 // 88 // 64 // 14 // 16 // 0 /// ENST00000538648 // ENSEMBL // cdna:pseudogene chromosome:GRCh37:15:102517351:102517622:-1 gene:ENSG00000248472 gene_biotype:pseudogene transcript_biotype:pseudogene // chr1 // 100 // 16 // 4 // 4 // 0 /// ENST00000535848 // ENSEMBL // cdna:pseudogene chromosome:GRCh37:2:114356606:114359144:-1 gene:ENSG00000236397 gene_biotype:pseudogene transcript_biotype:unprocessed_pseudogene // chr1 // 83 // 96 // 20 // 24 // 0 /// ENST00000457993 // ENSEMBL // cdna:pseudogene chromosome:GRCh37:2:114356613:114358838:-1 gene:ENSG00000236397 gene_biotype:pseudogene transcript_biotype:unprocessed_pseudogene // chr1 // 85 // 80 // 17 // 20 // 0 /// ENST00000437401 // ENSEMBL // cdna:pseudogene chromosome:GRCh37:2:114356613:114358838:-1 gene:ENSG00000236397 gene_biotype:pseudogene transcript_biotype:unprocessed_pseudogene // chr1 // 80 // 80 // 16 // 20 // 0 /// ENST00000426146 // ENSEMBL // cdna:pseudogene chromosome:GRCh37:9:11987:14522:1 gene:ENSG00000236875 gene_biotype:pseudogene transcript_biotype:unprocessed_pseudogene // chr1 // 50 // 96 // 12 // 24 // 0 /// ENST00000445777 // ENSEMBL // cdna:pseudogene chromosome:GRCh37:X:155255323:155257848:-1 gene:ENSG00000227159 gene_biotype:pseudogene transcript_biotype:unprocessed_pseudogene // chr1 // 50 // 96 // 12 // 24 // 0 /// ENST00000507418 // ENSEMBL // cdna:pseudogene chromosome:GRCh37:X:155255329:155257542:-1 gene:ENSG00000227159 gene_biotype:pseudogene transcript_biotype:unprocessed_pseudogene // chr1 // 50 // 64 // 8 // 16 // 0 /// ENST00000421620 // ENSEMBL // cdna:pseudogene chromosome:GRCh37:9:12134:13439:1 gene:ENSG00000236875 gene_biotype:pseudogene transcript_biotype:unprocessed_pseudogene // chr1 // 100 // 12 // 3 // 3 // 0 /// GENSCAN00000003613 // ENSEMBL // cdna:genscan chromosome:GRCh37:15:102517021:102518980:-1 transcript_biotype:protein_coding // chr1 // 100 // 52 // 13 // 13 // 0 /// GENSCAN00000026650 // ENSEMBL // cdna:genscan chromosome:GRCh37:1:12190:14149:1 transcript_biotype:protein_coding // chr1 // 100 // 52 // 13 // 13 // 0 /// GENSCAN00000029586 // ENSEMBL // cdna:genscan chromosome:GRCh37:16:61871:63830:1 transcript_biotype:protein_coding // chr1 // 100 // 48 // 12 // 12 // 0 /// ENST00000535849 // ENSEMBL // cdna:pseudogene chromosome:GRCh37:12:92239:93430:-1 gene:ENSG00000256263 gene_biotype:pseudogene transcript_biotype:unprocessed_pseudogene // chr1 // 38 // 32 // 3 // 8 // 1 /// ENST00000575871 // ENSEMBL // cdna:pseudogene chromosome:GRCh37:HG858_PATCH:62310:63501:1 gene:ENSG00000262195 gene_biotype:pseudogene transcript_biotype:unprocessed_pseudogene // chr1 // 38 // 32 // 3 // 8 // 1 /// ENST00000572276 // ENSEMBL // cdna:pseudogene chromosome:GRCh37:HSCHR12_1_CTG1:62310:63501:1 gene:ENSG00000263289 gene_biotype:pseudogene transcript_biotype:unprocessed_pseudogene // chr1 // 38 // 32 // 3 // 8 // 1 /// GENSCAN00000048516 // ENSEMBL // cdna:genscan chromosome:GRCh37:HG858_PATCH:62740:64276:1 transcript_biotype:protein_coding // chr1 // 25 // 48 // 3 // 12 // 1 /// GENSCAN00000048612 // ENSEMBL // cdna:genscan chromosome:GRCh37:HSCHR12_1_CTG1:62740:64276:1 transcript_biotype:protein_coding // chr1 // 25 // 48 // 3 // 12 // 1', 'ENST00000473358 // ENSEMBL // cdna:known chromosome:GRCh37:1:29554:31097:1 gene:ENSG00000243485 gene_biotype:antisense transcript_biotype:antisense // chr1 // 100 // 71 // 20 // 20 // 0', 'NM_001005484 // RefSeq // Homo sapiens olfactory receptor, family 4, subfamily F, member 5 (OR4F5), mRNA. // chr1 // 100 // 100 // 8 // 8 // 0 /// ENST00000335137 // ENSEMBL // cdna:known chromosome:GRCh37:1:69091:70008:1 gene:ENSG00000186092 gene_biotype:protein_coding transcript_biotype:protein_coding // chr1 // 100 // 100 // 8 // 8 // 0', 'TCONS_00000119-XLOC_000001 // Rinn lincRNA // linc-OR4F16-10 chr1:+:160445-161525 // chr1 // 100 // 100 // 13 // 13 // 0', 'AK302511 // GenBank // Homo sapiens cDNA FLJ61476 complete cds. // chr1 // 92 // 33 // 11 // 12 // 0 /// AK294489 // GenBank // Homo sapiens cDNA FLJ52615 complete cds. // chr1 // 77 // 36 // 10 // 13 // 0 /// AK303380 // GenBank // Homo sapiens cDNA FLJ53527 complete cds. // chr1 // 100 // 14 // 5 // 5 // 0 /// AK316554 // GenBank // Homo sapiens cDNA, FLJ79453 complete cds. // chr1 // 100 // 11 // 4 // 4 // 0 /// AK316556 // GenBank // Homo sapiens cDNA, FLJ79455 complete cds. // chr1 // 100 // 11 // 4 // 4 // 0 /// AK302573 // GenBank // Homo sapiens cDNA FLJ52612 complete cds. // chr1 // 80 // 14 // 4 // 5 // 0 /// TCONS_l2_00002815-XLOC_l2_001399 // Broad TUCP // linc-PLD5-5 chr1:-:243219130-243221165 // chr1 // 92 // 33 // 11 // 12 // 0 /// TCONS_l2_00001802-XLOC_l2_001332 // Broad TUCP // linc-TP53BP2-3 chr1:-:224139117-224140327 // chr1 // 100 // 14 // 5 // 5 // 0 /// TCONS_l2_00001804-XLOC_l2_001332 // Broad TUCP // linc-TP53BP2-3 chr1:-:224139117-224142371 // chr1 // 100 // 14 // 5 // 5 // 0 /// TCONS_00000120-XLOC_000002 // Rinn lincRNA // linc-OR4F16-9 chr1:+:320161-321056 // chr1 // 100 // 11 // 4 // 4 // 0 /// TCONS_l2_00002817-XLOC_l2_001399 // Broad TUCP // linc-PLD5-5 chr1:-:243220177-243221150 // chr1 // 100 // 6 // 2 // 2 // 0 /// TCONS_00000437-XLOC_000658 // Rinn lincRNA // linc-ZNF692-6 chr1:-:139789-140339 // chr1 // 100 // 6 // 2 // 2 // 0 /// AK299469 // GenBank // Homo sapiens cDNA FLJ52610 complete cds. // chr1 // 100 // 33 // 12 // 12 // 0 /// AK302889 // GenBank // Homo sapiens cDNA FLJ54896 complete cds. // chr1 // 100 // 22 // 8 // 8 // 0 /// AK123446 // GenBank // Homo sapiens cDNA FLJ41452 fis, clone BRSTN2010363. // chr1 // 100 // 19 // 7 // 7 // 0 /// ENST00000425496 // ENSEMBL // cdna:known chromosome:GRCh37:1:324756:328453:1 gene:ENSG00000237094 gene_biotype:processed_transcript transcript_biotype:processed_transcript // chr1 // 100 // 33 // 13 // 12 // 0 /// ENST00000456623 // ENSEMBL // cdna:known chromosome:GRCh37:1:324515:326852:1 gene:ENSG00000237094 gene_biotype:processed_transcript transcript_biotype:processed_transcript // chr1 // 100 // 33 // 12 // 12 // 0 /// ENST00000418377 // ENSEMBL // cdna:known chromosome:GRCh37:1:243219131:243221165:-1 gene:ENSG00000214837 gene_biotype:processed_transcript transcript_biotype:processed_transcript // chr1 // 92 // 33 // 11 // 12 // 0 /// ENST00000534867 // ENSEMBL // cdna:known chromosome:GRCh37:1:324438:325896:1 gene:ENSG00000237094 gene_biotype:processed_transcript transcript_biotype:processed_transcript // chr1 // 100 // 28 // 10 // 10 // 0 /// ENST00000544678 // ENSEMBL // cdna:known chromosome:GRCh37:5:180751053:180752511:1 gene:ENSG00000238035 gene_biotype:protein_coding transcript_biotype:protein_coding // chr1 // 100 // 22 // 8 // 8 // 0 /// ENST00000419160 // ENSEMBL // cdna:known chromosome:GRCh37:1:322732:324955:1 gene:ENSG00000237094 gene_biotype:processed_transcript transcript_biotype:processed_transcript // chr1 // 100 // 17 // 6 // 6 // 0 /// ENST00000432964 // ENSEMBL // cdna:known chromosome:GRCh37:1:320162:321056:1 gene:ENSG00000237094 gene_biotype:processed_transcript transcript_biotype:processed_transcript // chr1 // 100 // 11 // 4 // 4 // 0 /// ENST00000423728 // ENSEMBL // cdna:known chromosome:GRCh37:1:320162:324461:1 gene:ENSG00000237094 gene_biotype:processed_transcript transcript_biotype:processed_transcript // chr1 // 100 // 11 // 4 // 4 // 0 /// BC092421 // GenBank // Homo sapiens cDNA clone IMAGE:30378758. // chr1 // 100 // 33 // 12 // 12 // 0 /// ENST00000426316 // ENSEMBL // cdna:known chromosome:GRCh37:1:317811:328455:1 gene:ENSG00000240876 gene_biotype:processed_transcript transcript_biotype:processed_transcript // chr1 // 100 // 8 // 3 // 3 // 0 /// ENST00000465971 // ENSEMBL // cdna:pseudogene chromosome:GRCh37:7:128291239:128292388:1 gene:ENSG00000243302 gene_biotype:pseudogene transcript_biotype:processed_pseudogene // chr1 // 100 // 31 // 11 // 11 // 0 /// ENST00000535314 // ENSEMBL // cdna:pseudogene chromosome:GRCh37:7:128291243:128292355:1 gene:ENSG00000243302 gene_biotype:pseudogene transcript_biotype:processed_pseudogene // chr1 // 100 // 31 // 11 // 11 // 0 /// ENST00000423372 // ENSEMBL // cdna:pseudogene chromosome:GRCh37:1:134901:139379:-1 gene:ENSG00000237683 gene_biotype:pseudogene transcript_biotype:processed_pseudogene // chr1 // 90 // 28 // 9 // 10 // 0 /// ENST00000435839 // ENSEMBL // cdna:pseudogene chromosome:GRCh37:1:137283:139620:-1 gene:ENSG00000237683 gene_biotype:pseudogene transcript_biotype:processed_pseudogene // chr1 // 90 // 28 // 9 // 10 // 0 /// ENST00000537461 // ENSEMBL // cdna:pseudogene chromosome:GRCh37:1:138239:139697:-1 gene:ENSG00000237683 gene_biotype:pseudogene transcript_biotype:processed_pseudogene // chr1 // 100 // 19 // 7 // 7 // 0 /// ENST00000494149 // ENSEMBL // cdna:pseudogene chromosome:GRCh37:1:135247:138039:-1 gene:ENSG00000237683 gene_biotype:pseudogene transcript_biotype:processed_pseudogene // chr1 // 100 // 8 // 3 // 3 // 0 /// ENST00000514436 // ENSEMBL // cdna:pseudogene chromosome:GRCh37:1:326096:328112:1 gene:ENSG00000250575 gene_biotype:pseudogene transcript_biotype:unprocessed_pseudogene // chr1 // 100 // 8 // 3 // 3 // 0 /// ENST00000457364 // ENSEMBL // cdna:known chromosome:GRCh37:5:180751371:180755068:1 gene:ENSG00000238035 gene_biotype:protein_coding transcript_biotype:protein_coding // chr1 // 100 // 28 // 11 // 10 // 0 /// ENST00000438516 // ENSEMBL // cdna:known chromosome:GRCh37:5:180751130:180753467:1 gene:ENSG00000238035 gene_biotype:protein_coding transcript_biotype:protein_coding // chr1 // 100 // 28 // 10 // 10 // 0 /// ENST00000526704 // ENSEMBL // ensembl_havana_lincrna:lincRNA chromosome:GRCh37:11:129531:139099:-1 gene:ENSG00000230724 gene_biotype:lincRNA transcript_biotype:processed_transcript // chr1 // 93 // 42 // 14 // 15 // 0 /// ENST00000540375 // ENSEMBL // ensembl_havana_lincrna:lincRNA chromosome:GRCh37:11:127115:131056:-1 gene:ENSG00000230724 gene_biotype:lincRNA transcript_biotype:processed_transcript // chr1 // 100 // 28 // 11 // 10 // 0 /// ENST00000457006 // ENSEMBL // ensembl_havana_lincrna:lincRNA chromosome:GRCh37:11:128960:131297:-1 gene:ENSG00000230724 gene_biotype:lincRNA transcript_biotype:processed_transcript // chr1 // 90 // 28 // 9 // 10 // 0 /// ENST00000427071 // ENSEMBL // ensembl_havana_lincrna:lincRNA chromosome:GRCh37:11:130207:131297:-1 gene:ENSG00000230724 gene_biotype:lincRNA transcript_biotype:processed_transcript // chr1 // 100 // 25 // 9 // 9 // 0 /// ENST00000542435 // ENSEMBL // ensembl_havana_lincrna:lincRNA chromosome:GRCh37:11:129916:131374:-1 gene:ENSG00000230724 gene_biotype:lincRNA transcript_biotype:processed_transcript // chr1 // 100 // 22 // 8 // 8 // 0'], 'swissprot': ['NR_046018 // B7ZGW9 /// NR_046018 // B7ZGX0 /// NR_046018 // B7ZGX2 /// NR_046018 // B7ZGX3 /// NR_046018 // B7ZGX5 /// NR_046018 // B7ZGX6 /// NR_046018 // B7ZGX7 /// NR_046018 // B7ZGX8 /// NR_046018 // B7ZGX9 /// NR_046018 // B7ZGY0 /// NR_034090 // B7ZGW9 /// NR_034090 // B7ZGX0 /// NR_034090 // B7ZGX2 /// NR_034090 // B7ZGX3 /// NR_034090 // B7ZGX5 /// NR_034090 // B7ZGX6 /// NR_034090 // B7ZGX7 /// NR_034090 // B7ZGX8 /// NR_034090 // B7ZGX9 /// NR_034090 // B7ZGY0 /// NR_051985 // B7ZGW9 /// NR_051985 // B7ZGX0 /// NR_051985 // B7ZGX2 /// NR_051985 // B7ZGX3 /// NR_051985 // B7ZGX5 /// NR_051985 // B7ZGX6 /// NR_051985 // B7ZGX7 /// NR_051985 // B7ZGX8 /// NR_051985 // B7ZGX9 /// NR_051985 // B7ZGY0 /// NR_045117 // B7ZGW9 /// NR_045117 // B7ZGX0 /// NR_045117 // B7ZGX2 /// NR_045117 // B7ZGX3 /// NR_045117 // B7ZGX5 /// NR_045117 // B7ZGX6 /// NR_045117 // B7ZGX7 /// NR_045117 // B7ZGX8 /// NR_045117 // B7ZGX9 /// NR_045117 // B7ZGY0 /// NR_024005 // B7ZGW9 /// NR_024005 // B7ZGX0 /// NR_024005 // B7ZGX2 /// NR_024005 // B7ZGX3 /// NR_024005 // B7ZGX5 /// NR_024005 // B7ZGX6 /// NR_024005 // B7ZGX7 /// NR_024005 // B7ZGX8 /// NR_024005 // B7ZGX9 /// NR_024005 // B7ZGY0 /// NR_051986 // B7ZGW9 /// NR_051986 // B7ZGX0 /// NR_051986 // B7ZGX2 /// NR_051986 // B7ZGX3 /// NR_051986 // B7ZGX5 /// NR_051986 // B7ZGX6 /// NR_051986 // B7ZGX7 /// NR_051986 // B7ZGX8 /// NR_051986 // B7ZGX9 /// NR_051986 // B7ZGY0 /// AK125998 // Q6ZU42 /// AK125998 // B7ZGW9 /// AK125998 // B7ZGX0 /// AK125998 // B7ZGX2 /// AK125998 // B7ZGX3 /// AK125998 // B7ZGX5 /// AK125998 // B7ZGX6 /// AK125998 // B7ZGX7 /// AK125998 // B7ZGX8 /// AK125998 // B7ZGX9 /// AK125998 // B7ZGY0', '---', '---', '---', 'AK302511 // B4DYM5 /// AK294489 // B4DGA0 /// AK294489 // Q6ZSN7 /// AK303380 // B4E0H4 /// AK303380 // Q6ZQS4 /// AK303380 // A8E4K2 /// AK316554 // B4E3X0 /// AK316554 // Q6ZSN7 /// AK316556 // B4E3X2 /// AK316556 // Q6ZSN7 /// AK302573 // B7Z7W4 /// AK302573 // Q6ZQS4 /// AK302573 // A8E4K2 /// AK299469 // B7Z5V7 /// AK299469 // Q6ZSN7 /// AK302889 // B7Z846 /// AK302889 // Q6ZSN7 /// AK123446 // B3KVU4'], 'unigene': ['NR_046018 // Hs.714157 // testis| normal| adult /// NR_034090 // Hs.644359 // blood| normal| adult /// NR_051985 // Hs.644359 // blood| normal| adult /// NR_045117 // Hs.592089 // brain| glioma /// NR_024004 // Hs.712940 // bladder| bone marrow| brain| embryonic tissue| intestine| mammary gland| muscle| pharynx| placenta| prostate| skin| spleen| stomach| testis| thymus| breast (mammary gland) tumor| gastrointestinal tumor| glioma| non-neoplasia| normal| prostate cancer| skin tumor| soft tissue/muscle tissue tumor|embryoid body| adult /// NR_024005 // Hs.712940 // bladder| bone marrow| brain| embryonic tissue| intestine| mammary gland| muscle| pharynx| placenta| prostate| skin| spleen| stomach| testis| thymus| breast (mammary gland) tumor| gastrointestinal tumor| glioma| non-neoplasia| normal| prostate cancer| skin tumor| soft tissue/muscle tissue tumor|embryoid body| adult /// NR_051986 // Hs.719844 // brain| normal /// ENST00000456328 // Hs.714157 // testis| normal| adult /// ENST00000559159 // Hs.644359 // blood| normal| adult /// ENST00000562189 // Hs.644359 // blood| normal| adult /// ENST00000513886 // Hs.592089 // brain| glioma /// ENST00000515242 // Hs.714157 // testis| normal| adult /// ENST00000518655 // Hs.714157 // testis| normal| adult /// ENST00000515173 // Hs.644359 // blood| normal| adult /// ENST00000545636 // Hs.592089 // brain| glioma /// ENST00000450305 // Hs.714157 // testis| normal| adult /// ENST00000560040 // Hs.644359 // blood| normal| adult /// ENST00000430178 // Hs.592089 // brain| glioma /// ENST00000538648 // Hs.644359 // blood| normal| adult', '---', 'NM_001005484 // Hs.554500 // --- /// ENST00000335137 // Hs.554500 // ---', '---', 'AK302511 // Hs.732199 // ascites| blood| brain| connective tissue| embryonic tissue| eye| intestine| kidney| larynx| lung| ovary| placenta| prostate| stomach| testis| thymus| uterus| chondrosarcoma| colorectal tumor| gastrointestinal tumor| head and neck tumor| leukemia| lung tumor| normal| ovarian tumor| fetus| adult /// AK294489 // Hs.534942 // blood| brain| embryonic tissue| intestine| lung| mammary gland| mouth| ovary| pancreas| pharynx| placenta| spleen| stomach| testis| thymus| trachea| breast (mammary gland) tumor| colorectal tumor| head and neck tumor| leukemia| lung tumor| normal| ovarian tumor|embryoid body| blastocyst| fetus| adult /// AK294489 // Hs.734488 // blood| brain| esophagus| intestine| kidney| lung| mammary gland| mouth| placenta| prostate| testis| thymus| thyroid| uterus| breast (mammary gland) tumor| colorectal tumor| esophageal tumor| head and neck tumor| kidney tumor| leukemia| lung tumor| normal| adult /// AK303380 // Hs.732199 // ascites| blood| brain| connective tissue| embryonic tissue| eye| intestine| kidney| larynx| lung| ovary| placenta| prostate| stomach| testis| thymus| uterus| chondrosarcoma| colorectal tumor| gastrointestinal tumor| head and neck tumor| leukemia| lung tumor| normal| ovarian tumor| fetus| adult /// AK316554 // Hs.732199 // ascites| blood| brain| connective tissue| embryonic tissue| eye| intestine| kidney| larynx| lung| ovary| placenta| prostate| stomach| testis| thymus| uterus| chondrosarcoma| colorectal tumor| gastrointestinal tumor| head and neck tumor| leukemia| lung tumor| normal| ovarian tumor| fetus| adult /// AK316556 // Hs.732199 // ascites| blood| brain| connective tissue| embryonic tissue| eye| intestine| kidney| larynx| lung| ovary| placenta| prostate| stomach| testis| thymus| uterus| chondrosarcoma| colorectal tumor| gastrointestinal tumor| head and neck tumor| leukemia| lung tumor| normal| ovarian tumor| fetus| adult /// AK302573 // Hs.534942 // blood| brain| embryonic tissue| intestine| lung| mammary gland| mouth| ovary| pancreas| pharynx| placenta| spleen| stomach| testis| thymus| trachea| breast (mammary gland) tumor| colorectal tumor| head and neck tumor| leukemia| lung tumor| normal| ovarian tumor|embryoid body| blastocyst| fetus| adult /// AK302573 // Hs.734488 // blood| brain| esophagus| intestine| kidney| lung| mammary gland| mouth| placenta| prostate| testis| thymus| thyroid| uterus| breast (mammary gland) tumor| colorectal tumor| esophageal tumor| head and neck tumor| kidney tumor| leukemia| lung tumor| normal| adult /// AK123446 // Hs.520589 // bladder| blood| bone| brain| embryonic tissue| intestine| kidney| liver| lung| lymph node| ovary| pancreas| parathyroid| placenta| testis| thyroid| uterus| colorectal tumor| glioma| head and neck tumor| kidney tumor| leukemia| liver tumor| normal| ovarian tumor| uterine tumor|embryoid body| fetus| adult /// ENST00000425496 // Hs.356758 // blood| bone| brain| cervix| connective tissue| embryonic tissue| intestine| kidney| lung| mammary gland| mouth| pancreas| pharynx| placenta| prostate| spleen| stomach| testis| trachea| uterus| vascular| breast (mammary gland) tumor| chondrosarcoma| colorectal tumor| gastrointestinal tumor| glioma| head and neck tumor| leukemia| lung tumor| normal| uterine tumor| adult /// ENST00000425496 // Hs.733048 // ascites| bladder| blood| brain| embryonic tissue| eye| intestine| kidney| larynx| liver| lung| mammary gland| mouth| pancreas| placenta| prostate| skin| stomach| testis| thymus| thyroid| trachea| uterus| bladder carcinoma| breast (mammary gland) tumor| colorectal tumor| gastrointestinal tumor| head and neck tumor| kidney tumor| leukemia| liver tumor| lung tumor| normal| pancreatic tumor| prostate cancer| retinoblastoma| skin tumor| soft tissue/muscle tissue tumor| uterine tumor|embryoid body| blastocyst| fetus| adult /// ENST00000456623 // Hs.356758 // blood| bone| brain| cervix| connective tissue| embryonic tissue| intestine| kidney| lung| mammary gland| mouth| pancreas| pharynx| placenta| prostate| spleen| stomach| testis| trachea| uterus| vascular| breast (mammary gland) tumor| chondrosarcoma| colorectal tumor| gastrointestinal tumor| glioma| head and neck tumor| leukemia| lung tumor| normal| uterine tumor| adult /// ENST00000456623 // Hs.733048 // ascites| bladder| blood| brain| embryonic tissue| eye| intestine| kidney| larynx| liver| lung| mammary gland| mouth| pancreas| placenta| prostate| skin| stomach| testis| thymus| thyroid| trachea| uterus| bladder carcinoma| breast (mammary gland) tumor| colorectal tumor| gastrointestinal tumor| head and neck tumor| kidney tumor| leukemia| liver tumor| lung tumor| normal| pancreatic tumor| prostate cancer| retinoblastoma| skin tumor| soft tissue/muscle tissue tumor| uterine tumor|embryoid body| blastocyst| fetus| adult /// ENST00000534867 // Hs.356758 // blood| bone| brain| cervix| connective tissue| embryonic tissue| intestine| kidney| lung| mammary gland| mouth| pancreas| pharynx| placenta| prostate| spleen| stomach| testis| trachea| uterus| vascular| breast (mammary gland) tumor| chondrosarcoma| colorectal tumor| gastrointestinal tumor| glioma| head and neck tumor| leukemia| lung tumor| normal| uterine tumor| adult /// ENST00000534867 // Hs.733048 // ascites| bladder| blood| brain| embryonic tissue| eye| intestine| kidney| larynx| liver| lung| mammary gland| mouth| pancreas| placenta| prostate| skin| stomach| testis| thymus| thyroid| trachea| uterus| bladder carcinoma| breast (mammary gland) tumor| colorectal tumor| gastrointestinal tumor| head and neck tumor| kidney tumor| leukemia| liver tumor| lung tumor| normal| pancreatic tumor| prostate cancer| retinoblastoma| skin tumor| soft tissue/muscle tissue tumor| uterine tumor|embryoid body| blastocyst| fetus| adult /// ENST00000419160 // Hs.356758 // blood| bone| brain| cervix| connective tissue| embryonic tissue| intestine| kidney| lung| mammary gland| mouth| pancreas| pharynx| placenta| prostate| spleen| stomach| testis| trachea| uterus| vascular| breast (mammary gland) tumor| chondrosarcoma| colorectal tumor| gastrointestinal tumor| glioma| head and neck tumor| leukemia| lung tumor| normal| uterine tumor| adult /// ENST00000419160 // Hs.733048 // ascites| bladder| blood| brain| embryonic tissue| eye| intestine| kidney| larynx| liver| lung| mammary gland| mouth| pancreas| placenta| prostate| skin| stomach| testis| thymus| thyroid| trachea| uterus| bladder carcinoma| breast (mammary gland) tumor| colorectal tumor| gastrointestinal tumor| head and neck tumor| kidney tumor| leukemia| liver tumor| lung tumor| normal| pancreatic tumor| prostate cancer| retinoblastoma| skin tumor| soft tissue/muscle tissue tumor| uterine tumor|embryoid body| blastocyst| fetus| adult /// ENST00000432964 // Hs.356758 // blood| bone| brain| cervix| connective tissue| embryonic tissue| intestine| kidney| lung| mammary gland| mouth| pancreas| pharynx| placenta| prostate| spleen| stomach| testis| trachea| uterus| vascular| breast (mammary gland) tumor| chondrosarcoma| colorectal tumor| gastrointestinal tumor| glioma| head and neck tumor| leukemia| lung tumor| normal| uterine tumor| adult /// ENST00000432964 // Hs.733048 // ascites| bladder| blood| brain| embryonic tissue| eye| intestine| kidney| larynx| liver| lung| mammary gland| mouth| pancreas| placenta| prostate| skin| stomach| testis| thymus| thyroid| trachea| uterus| bladder carcinoma| breast (mammary gland) tumor| colorectal tumor| gastrointestinal tumor| head and neck tumor| kidney tumor| leukemia| liver tumor| lung tumor| normal| pancreatic tumor| prostate cancer| retinoblastoma| skin tumor| soft tissue/muscle tissue tumor| uterine tumor|embryoid body| blastocyst| fetus| adult /// ENST00000423728 // Hs.356758 // blood| bone| brain| cervix| connective tissue| embryonic tissue| intestine| kidney| lung| mammary gland| mouth| pancreas| pharynx| placenta| prostate| spleen| stomach| testis| trachea| uterus| vascular| breast (mammary gland) tumor| chondrosarcoma| colorectal tumor| gastrointestinal tumor| glioma| head and neck tumor| leukemia| lung tumor| normal| uterine tumor| adult /// ENST00000423728 // Hs.733048 // ascites| bladder| blood| brain| embryonic tissue| eye| intestine| kidney| larynx| liver| lung| mammary gland| mouth| pancreas| placenta| prostate| skin| stomach| testis| thymus| thyroid| trachea| uterus| bladder carcinoma| breast (mammary gland) tumor| colorectal tumor| gastrointestinal tumor| head and neck tumor| kidney tumor| leukemia| liver tumor| lung tumor| normal| pancreatic tumor| prostate cancer| retinoblastoma| skin tumor| soft tissue/muscle tissue tumor| uterine tumor|embryoid body| blastocyst| fetus| adult'], 'GO_biological_process': ['---', '---', '---', '---', '---'], 'GO_cellular_component': ['---', '---', 'NM_001005484 // GO:0005886 // plasma membrane // traceable author statement  /// NM_001005484 // GO:0016021 // integral to membrane // inferred from electronic annotation  /// ENST00000335137 // GO:0005886 // plasma membrane // traceable author statement  /// ENST00000335137 // GO:0016021 // integral to membrane // inferred from electronic annotation', '---', '---'], 'GO_molecular_function': ['---', '---', 'NM_001005484 // GO:0004930 // G-protein coupled receptor activity // inferred from electronic annotation  /// NM_001005484 // GO:0004984 // olfactory receptor activity // inferred from electronic annotation  /// ENST00000335137 // GO:0004930 // G-protein coupled receptor activity // inferred from electronic annotation  /// ENST00000335137 // GO:0004984 // olfactory receptor activity // inferred from electronic annotation', '---', '---'], 'pathway': ['---', '---', '---', '---', '---'], 'protein_domains': ['---', '---', 'ENST00000335137 // Pfam // IPR000276 // GPCR, rhodopsin-like, 7TM /// ENST00000335137 // Pfam // IPR019424 // 7TM GPCR, olfactory receptor/chemoreceptor Srsx', '---', '---'], 'crosshyb_type': ['3', '3', '3', '3', '3'], 'category': ['main', 'main', 'main', 'main', 'main'], 'GB_ACC': ['NR_046018', nan, 'NM_001005484', nan, 'AK302511'], 'SPOT_ID': [nan, 'ENST00000473358', nan, 'TCONS_00000119-XLOC_000001', nan]}\n",
      "    \n"
     ]
    }
   ],
   "source": [
    "if requires_gene_mapping:\n",
    "    print(f'''\n",
    "    As a biomedical research team, we are analyzing a gene expression dataset, and find that its row headers are some identifiers related to genes:\n",
    "    {gene_row_ids}\n",
    "    To get the mapping from those identifiers to actual gene symbols, we extracted the gene annotation data from a series in the GEO database, and saved it to a Python dictionary. Please read the dictionary, and decide which key stores the identifiers, and which key stores the gene symbols. Please strictly follow this format in your answer:\n",
    "    identifier_key = 'key_name1'\n",
    "    gene_symbol_key = 'key_name2'\n",
    "\n",
    "    Gene annotation dictionary:\n",
    "    {gene_annotation_summary}\n",
    "    ''')"
   ],
   "metadata": {
    "collapsed": false,
    "ExecuteTime": {
     "end_time": "2024-01-27T22:43:40.253162916Z",
     "start_time": "2024-01-27T22:43:40.249226452Z"
    }
   }
  },
  {
   "cell_type": "code",
   "execution_count": 20,
   "outputs": [
    {
     "data": {
      "text/plain": "          GSM3518336  GSM3518337  GSM3518338  GSM3518339  GSM3518340  \\\nID                                                                     \n16650001    1.512274    0.253623    2.664750    1.312637    0.675071   \n16650003    1.003784    1.028232    1.341918    1.114636    1.802068   \n16650005    0.604331    1.397437    1.651186    3.274191    0.394109   \n16650007    1.058137    0.588526    1.149379    0.761508    2.417583   \n16650009    0.469632    0.698155    0.888779    1.154360    0.859562   \n...              ...         ...         ...         ...         ...   \n17127713    4.414351    3.902043    4.123132    4.505749    5.171712   \n17127715   12.762858   12.716748   12.679007   12.850743   12.789412   \n17127717    4.358505    5.072454    4.676954    4.664151    4.812907   \n17127719   12.572877   12.588342   12.491278   12.702701   12.619571   \n17127721    5.063515    5.188686    4.424968    5.174433    4.992840   \n\n          GSM3518341  GSM3518342  GSM3518343  GSM3518344  GSM3518345  ...  \\\nID                                                                    ...   \n16650001    1.010733    2.288005    1.868232    1.509000    1.749677  ...   \n16650003    1.946301    1.718234    2.383265    0.789789    1.545537  ...   \n16650005    1.676047    2.146871    2.962444    1.629054    1.412083  ...   \n16650007    0.721435    1.876002    2.209180    2.336481    0.683767  ...   \n16650009    0.659498    0.611699    0.741379    0.490208    0.466021  ...   \n...              ...         ...         ...         ...         ...  ...   \n17127713    5.388863    4.414378    4.460149    4.871354    4.244545  ...   \n17127715   12.891735   12.713205   12.859535   12.704123   12.776425  ...   \n17127717    4.445325    4.958248    4.918783    4.707963    4.981283  ...   \n17127719   12.739770   12.503311   12.725930   12.461209   12.223236  ...   \n17127721    4.998811    5.176238    4.985710    5.317729    5.051394  ...   \n\n          GSM3518370  GSM3518371  GSM3518372  GSM3518373  GSM3518374  \\\nID                                                                     \n16650001    2.000858    0.682592    0.876719    0.763386    0.504208   \n16650003    1.175455    1.221579    0.915122    1.008250    1.256585   \n16650005    1.407318    2.406541    3.134922    1.862797    1.704497   \n16650007    0.456273    0.687521    0.356791    0.863351    0.942087   \n16650009    1.058347    0.643452    0.528055    0.527859    0.938790   \n...              ...         ...         ...         ...         ...   \n17127713    4.820871    4.876049    4.384864    4.520500    4.212316   \n17127715   12.750773   12.966153   12.614961   12.805314   12.862282   \n17127717    4.304341    5.009255    5.119118    4.550811    4.826442   \n17127719   12.592727   12.757783   12.527528   12.630948   12.573244   \n17127721    4.837236    4.754379    4.795249    5.774412    4.585454   \n\n          GSM3518375  GSM3518376  GSM3518377  GSM3518378  GSM3518379  \nID                                                                    \n16650001    0.745772    2.164791    2.036223    1.317688    1.750596  \n16650003    1.793582    1.560620    1.797027    1.578021    0.752845  \n16650005    1.060720    3.686494    2.485064    1.110987    3.715562  \n16650007    1.214890    1.553857    1.393150    1.699157    0.787946  \n16650009    0.524942    0.508296    0.932883    0.878911    0.808085  \n...              ...         ...         ...         ...         ...  \n17127713    4.145585    4.317378    3.742787    4.398770    4.700417  \n17127715   12.775899   12.837520   12.669491   12.849455   12.764179  \n17127717    4.757878    4.910735    4.438473    4.670488    4.687702  \n17127719   12.544579   12.652971   12.264598   12.631608   12.525830  \n17127721    4.411435    4.994157    4.603351    5.012070    4.610177  \n\n[53617 rows x 44 columns]",
      "text/html": "<div>\n<style scoped>\n    .dataframe tbody tr th:only-of-type {\n        vertical-align: middle;\n    }\n\n    .dataframe tbody tr th {\n        vertical-align: top;\n    }\n\n    .dataframe thead th {\n        text-align: right;\n    }\n</style>\n<table border=\"1\" class=\"dataframe\">\n  <thead>\n    <tr style=\"text-align: right;\">\n      <th></th>\n      <th>GSM3518336</th>\n      <th>GSM3518337</th>\n      <th>GSM3518338</th>\n      <th>GSM3518339</th>\n      <th>GSM3518340</th>\n      <th>GSM3518341</th>\n      <th>GSM3518342</th>\n      <th>GSM3518343</th>\n      <th>GSM3518344</th>\n      <th>GSM3518345</th>\n      <th>...</th>\n      <th>GSM3518370</th>\n      <th>GSM3518371</th>\n      <th>GSM3518372</th>\n      <th>GSM3518373</th>\n      <th>GSM3518374</th>\n      <th>GSM3518375</th>\n      <th>GSM3518376</th>\n      <th>GSM3518377</th>\n      <th>GSM3518378</th>\n      <th>GSM3518379</th>\n    </tr>\n    <tr>\n      <th>ID</th>\n      <th></th>\n      <th></th>\n      <th></th>\n      <th></th>\n      <th></th>\n      <th></th>\n      <th></th>\n      <th></th>\n      <th></th>\n      <th></th>\n      <th></th>\n      <th></th>\n      <th></th>\n      <th></th>\n      <th></th>\n      <th></th>\n      <th></th>\n      <th></th>\n      <th></th>\n      <th></th>\n      <th></th>\n    </tr>\n  </thead>\n  <tbody>\n    <tr>\n      <th>16650001</th>\n      <td>1.512274</td>\n      <td>0.253623</td>\n      <td>2.664750</td>\n      <td>1.312637</td>\n      <td>0.675071</td>\n      <td>1.010733</td>\n      <td>2.288005</td>\n      <td>1.868232</td>\n      <td>1.509000</td>\n      <td>1.749677</td>\n      <td>...</td>\n      <td>2.000858</td>\n      <td>0.682592</td>\n      <td>0.876719</td>\n      <td>0.763386</td>\n      <td>0.504208</td>\n      <td>0.745772</td>\n      <td>2.164791</td>\n      <td>2.036223</td>\n      <td>1.317688</td>\n      <td>1.750596</td>\n    </tr>\n    <tr>\n      <th>16650003</th>\n      <td>1.003784</td>\n      <td>1.028232</td>\n      <td>1.341918</td>\n      <td>1.114636</td>\n      <td>1.802068</td>\n      <td>1.946301</td>\n      <td>1.718234</td>\n      <td>2.383265</td>\n      <td>0.789789</td>\n      <td>1.545537</td>\n      <td>...</td>\n      <td>1.175455</td>\n      <td>1.221579</td>\n      <td>0.915122</td>\n      <td>1.008250</td>\n      <td>1.256585</td>\n      <td>1.793582</td>\n      <td>1.560620</td>\n      <td>1.797027</td>\n      <td>1.578021</td>\n      <td>0.752845</td>\n    </tr>\n    <tr>\n      <th>16650005</th>\n      <td>0.604331</td>\n      <td>1.397437</td>\n      <td>1.651186</td>\n      <td>3.274191</td>\n      <td>0.394109</td>\n      <td>1.676047</td>\n      <td>2.146871</td>\n      <td>2.962444</td>\n      <td>1.629054</td>\n      <td>1.412083</td>\n      <td>...</td>\n      <td>1.407318</td>\n      <td>2.406541</td>\n      <td>3.134922</td>\n      <td>1.862797</td>\n      <td>1.704497</td>\n      <td>1.060720</td>\n      <td>3.686494</td>\n      <td>2.485064</td>\n      <td>1.110987</td>\n      <td>3.715562</td>\n    </tr>\n    <tr>\n      <th>16650007</th>\n      <td>1.058137</td>\n      <td>0.588526</td>\n      <td>1.149379</td>\n      <td>0.761508</td>\n      <td>2.417583</td>\n      <td>0.721435</td>\n      <td>1.876002</td>\n      <td>2.209180</td>\n      <td>2.336481</td>\n      <td>0.683767</td>\n      <td>...</td>\n      <td>0.456273</td>\n      <td>0.687521</td>\n      <td>0.356791</td>\n      <td>0.863351</td>\n      <td>0.942087</td>\n      <td>1.214890</td>\n      <td>1.553857</td>\n      <td>1.393150</td>\n      <td>1.699157</td>\n      <td>0.787946</td>\n    </tr>\n    <tr>\n      <th>16650009</th>\n      <td>0.469632</td>\n      <td>0.698155</td>\n      <td>0.888779</td>\n      <td>1.154360</td>\n      <td>0.859562</td>\n      <td>0.659498</td>\n      <td>0.611699</td>\n      <td>0.741379</td>\n      <td>0.490208</td>\n      <td>0.466021</td>\n      <td>...</td>\n      <td>1.058347</td>\n      <td>0.643452</td>\n      <td>0.528055</td>\n      <td>0.527859</td>\n      <td>0.938790</td>\n      <td>0.524942</td>\n      <td>0.508296</td>\n      <td>0.932883</td>\n      <td>0.878911</td>\n      <td>0.808085</td>\n    </tr>\n    <tr>\n      <th>...</th>\n      <td>...</td>\n      <td>...</td>\n      <td>...</td>\n      <td>...</td>\n      <td>...</td>\n      <td>...</td>\n      <td>...</td>\n      <td>...</td>\n      <td>...</td>\n      <td>...</td>\n      <td>...</td>\n      <td>...</td>\n      <td>...</td>\n      <td>...</td>\n      <td>...</td>\n      <td>...</td>\n      <td>...</td>\n      <td>...</td>\n      <td>...</td>\n      <td>...</td>\n      <td>...</td>\n    </tr>\n    <tr>\n      <th>17127713</th>\n      <td>4.414351</td>\n      <td>3.902043</td>\n      <td>4.123132</td>\n      <td>4.505749</td>\n      <td>5.171712</td>\n      <td>5.388863</td>\n      <td>4.414378</td>\n      <td>4.460149</td>\n      <td>4.871354</td>\n      <td>4.244545</td>\n      <td>...</td>\n      <td>4.820871</td>\n      <td>4.876049</td>\n      <td>4.384864</td>\n      <td>4.520500</td>\n      <td>4.212316</td>\n      <td>4.145585</td>\n      <td>4.317378</td>\n      <td>3.742787</td>\n      <td>4.398770</td>\n      <td>4.700417</td>\n    </tr>\n    <tr>\n      <th>17127715</th>\n      <td>12.762858</td>\n      <td>12.716748</td>\n      <td>12.679007</td>\n      <td>12.850743</td>\n      <td>12.789412</td>\n      <td>12.891735</td>\n      <td>12.713205</td>\n      <td>12.859535</td>\n      <td>12.704123</td>\n      <td>12.776425</td>\n      <td>...</td>\n      <td>12.750773</td>\n      <td>12.966153</td>\n      <td>12.614961</td>\n      <td>12.805314</td>\n      <td>12.862282</td>\n      <td>12.775899</td>\n      <td>12.837520</td>\n      <td>12.669491</td>\n      <td>12.849455</td>\n      <td>12.764179</td>\n    </tr>\n    <tr>\n      <th>17127717</th>\n      <td>4.358505</td>\n      <td>5.072454</td>\n      <td>4.676954</td>\n      <td>4.664151</td>\n      <td>4.812907</td>\n      <td>4.445325</td>\n      <td>4.958248</td>\n      <td>4.918783</td>\n      <td>4.707963</td>\n      <td>4.981283</td>\n      <td>...</td>\n      <td>4.304341</td>\n      <td>5.009255</td>\n      <td>5.119118</td>\n      <td>4.550811</td>\n      <td>4.826442</td>\n      <td>4.757878</td>\n      <td>4.910735</td>\n      <td>4.438473</td>\n      <td>4.670488</td>\n      <td>4.687702</td>\n    </tr>\n    <tr>\n      <th>17127719</th>\n      <td>12.572877</td>\n      <td>12.588342</td>\n      <td>12.491278</td>\n      <td>12.702701</td>\n      <td>12.619571</td>\n      <td>12.739770</td>\n      <td>12.503311</td>\n      <td>12.725930</td>\n      <td>12.461209</td>\n      <td>12.223236</td>\n      <td>...</td>\n      <td>12.592727</td>\n      <td>12.757783</td>\n      <td>12.527528</td>\n      <td>12.630948</td>\n      <td>12.573244</td>\n      <td>12.544579</td>\n      <td>12.652971</td>\n      <td>12.264598</td>\n      <td>12.631608</td>\n      <td>12.525830</td>\n    </tr>\n    <tr>\n      <th>17127721</th>\n      <td>5.063515</td>\n      <td>5.188686</td>\n      <td>4.424968</td>\n      <td>5.174433</td>\n      <td>4.992840</td>\n      <td>4.998811</td>\n      <td>5.176238</td>\n      <td>4.985710</td>\n      <td>5.317729</td>\n      <td>5.051394</td>\n      <td>...</td>\n      <td>4.837236</td>\n      <td>4.754379</td>\n      <td>4.795249</td>\n      <td>5.774412</td>\n      <td>4.585454</td>\n      <td>4.411435</td>\n      <td>4.994157</td>\n      <td>4.603351</td>\n      <td>5.012070</td>\n      <td>4.610177</td>\n    </tr>\n  </tbody>\n</table>\n<p>53617 rows × 44 columns</p>\n</div>"
     },
     "execution_count": 20,
     "metadata": {},
     "output_type": "execute_result"
    }
   ],
   "source": [
    "genetic_data"
   ],
   "metadata": {
    "collapsed": false,
    "ExecuteTime": {
     "end_time": "2024-01-27T22:43:40.321111018Z",
     "start_time": "2024-01-27T22:43:40.252416443Z"
    }
   }
  },
  {
   "cell_type": "code",
   "execution_count": 21,
   "outputs": [],
   "source": [
    "if requires_gene_mapping:\n",
    "    identifier_key = 'ID'\n",
    "    gene_symbol_key = 'gene_assignment'\n",
    "    gene_mapping = get_gene_mapping(gene_annotation, identifier_key, gene_symbol_key)\n",
    "    genetic_data = apply_gene_mapping(genetic_data, gene_mapping)"
   ],
   "metadata": {
    "collapsed": false,
    "ExecuteTime": {
     "end_time": "2024-01-27T22:43:42.430137445Z",
     "start_time": "2024-01-27T22:43:40.274240096Z"
    }
   }
  },
  {
   "cell_type": "code",
   "execution_count": 22,
   "outputs": [
    {
     "data": {
      "text/plain": "                          GSM3518336  GSM3518337  GSM3518338  GSM3518339  \\\nGene                                                                       \n                            3.854410    3.867519    3.905454    3.777970   \n                            4.238927    4.191213    4.257660    4.141089   \n ---                        2.178849    2.240104    2.184201    2.274834   \n ---                        3.440588    3.427184    3.448184    3.462353   \n 1                          5.578563    5.566120    5.584058    5.543167   \n...                              ...         ...         ...         ...   \nzona occludens 2            4.422342    3.545356    5.122567    4.288449   \nzona occludens 3            2.401101    3.291652    2.431860    2.233925   \nzygin I                     2.935811    2.573002    3.001832    2.905964   \nzygin II                    5.181766    5.229695    5.639776    5.395486   \nzymogen granule membrane    2.024381    2.773278    2.341161    3.113055   \n\n                          GSM3518340  GSM3518341  GSM3518342  GSM3518343  \\\nGene                                                                       \n                            3.817667    3.651231    3.862177    3.801644   \n                            4.191537    4.012863    4.217353    4.202952   \n ---                        2.237889    2.309360    2.211402    2.223382   \n ---                        3.463511    3.414615    3.459037    3.437524   \n 1                          5.451951    5.324047    5.523833    5.674940   \n...                              ...         ...         ...         ...   \nzona occludens 2            4.528611    4.400901    4.179276    3.767140   \nzona occludens 3            2.299639    2.254953    2.350489    2.273010   \nzygin I                     2.546398    2.230706    2.678741    2.539368   \nzygin II                    6.048839    5.291890    5.320353    5.696106   \nzymogen granule membrane    2.591469    2.299103    1.984779    2.702154   \n\n                          GSM3518344  GSM3518345  ...  GSM3518370  GSM3518371  \\\nGene                                              ...                           \n                            3.818212    3.795680  ...    3.796703    3.852327   \n                            4.200193    4.185976  ...    4.185848    4.189433   \n ---                        2.219802    2.229682  ...    2.243100    2.214198   \n ---                        3.447143    3.416770  ...    3.429741    3.481690   \n 1                          5.505239    5.674584  ...    5.691243    5.664534   \n...                              ...         ...  ...         ...         ...   \nzona occludens 2            4.017114    3.884510  ...    4.995236    4.710068   \nzona occludens 3            2.155829    2.553315  ...    2.401214    2.248427   \nzygin I                     2.567542    2.414924  ...    2.410175    2.960323   \nzygin II                    5.070479    5.252458  ...    6.158509    5.447768   \nzymogen granule membrane    2.249245    2.150932  ...    2.024679    2.910614   \n\n                          GSM3518372  GSM3518373  GSM3518374  GSM3518375  \\\nGene                                                                       \n                            3.839826    3.833635    3.837002    3.891307   \n                            4.197750    4.220947    4.208763    4.259131   \n ---                        2.246761    2.220764    2.200025    2.182337   \n ---                        3.460577    3.466210    3.452645    3.451499   \n 1                          5.752765    5.554234    5.689057    5.779966   \n...                              ...         ...         ...         ...   \nzona occludens 2            4.362672    4.223059    4.308590    4.542643   \nzona occludens 3            2.696128    2.345314    2.443109    2.257001   \nzygin I                     2.688676    2.742208    3.110787    3.393251   \nzygin II                    5.425783    5.163082    5.715176    5.451126   \nzymogen granule membrane    1.977541    2.260700    1.619691    2.141563   \n\n                          GSM3518376  GSM3518377  GSM3518378  GSM3518379  \nGene                                                                      \n                            3.836580    3.878469    3.838131    3.822336  \n                            4.231263    4.231901    4.219814    4.191399  \n ---                        2.200196    2.196976    2.225934    2.213585  \n ---                        3.440189    3.439994    3.482802    3.442220  \n 1                          5.530858    5.626126    5.535039    5.360565  \n...                              ...         ...         ...         ...  \nzona occludens 2            4.272657    4.632529    4.306412    4.437861  \nzona occludens 3            2.702208    2.192655    2.325037    2.227378  \nzygin I                     2.765240    2.535236    2.364203    2.869929  \nzygin II                    5.532870    5.542314    5.429227    5.100187  \nzymogen granule membrane    2.082944    2.046833    2.483497    2.094025  \n\n[325165 rows x 44 columns]",
      "text/html": "<div>\n<style scoped>\n    .dataframe tbody tr th:only-of-type {\n        vertical-align: middle;\n    }\n\n    .dataframe tbody tr th {\n        vertical-align: top;\n    }\n\n    .dataframe thead th {\n        text-align: right;\n    }\n</style>\n<table border=\"1\" class=\"dataframe\">\n  <thead>\n    <tr style=\"text-align: right;\">\n      <th></th>\n      <th>GSM3518336</th>\n      <th>GSM3518337</th>\n      <th>GSM3518338</th>\n      <th>GSM3518339</th>\n      <th>GSM3518340</th>\n      <th>GSM3518341</th>\n      <th>GSM3518342</th>\n      <th>GSM3518343</th>\n      <th>GSM3518344</th>\n      <th>GSM3518345</th>\n      <th>...</th>\n      <th>GSM3518370</th>\n      <th>GSM3518371</th>\n      <th>GSM3518372</th>\n      <th>GSM3518373</th>\n      <th>GSM3518374</th>\n      <th>GSM3518375</th>\n      <th>GSM3518376</th>\n      <th>GSM3518377</th>\n      <th>GSM3518378</th>\n      <th>GSM3518379</th>\n    </tr>\n    <tr>\n      <th>Gene</th>\n      <th></th>\n      <th></th>\n      <th></th>\n      <th></th>\n      <th></th>\n      <th></th>\n      <th></th>\n      <th></th>\n      <th></th>\n      <th></th>\n      <th></th>\n      <th></th>\n      <th></th>\n      <th></th>\n      <th></th>\n      <th></th>\n      <th></th>\n      <th></th>\n      <th></th>\n      <th></th>\n      <th></th>\n    </tr>\n  </thead>\n  <tbody>\n    <tr>\n      <th></th>\n      <td>3.854410</td>\n      <td>3.867519</td>\n      <td>3.905454</td>\n      <td>3.777970</td>\n      <td>3.817667</td>\n      <td>3.651231</td>\n      <td>3.862177</td>\n      <td>3.801644</td>\n      <td>3.818212</td>\n      <td>3.795680</td>\n      <td>...</td>\n      <td>3.796703</td>\n      <td>3.852327</td>\n      <td>3.839826</td>\n      <td>3.833635</td>\n      <td>3.837002</td>\n      <td>3.891307</td>\n      <td>3.836580</td>\n      <td>3.878469</td>\n      <td>3.838131</td>\n      <td>3.822336</td>\n    </tr>\n    <tr>\n      <th></th>\n      <td>4.238927</td>\n      <td>4.191213</td>\n      <td>4.257660</td>\n      <td>4.141089</td>\n      <td>4.191537</td>\n      <td>4.012863</td>\n      <td>4.217353</td>\n      <td>4.202952</td>\n      <td>4.200193</td>\n      <td>4.185976</td>\n      <td>...</td>\n      <td>4.185848</td>\n      <td>4.189433</td>\n      <td>4.197750</td>\n      <td>4.220947</td>\n      <td>4.208763</td>\n      <td>4.259131</td>\n      <td>4.231263</td>\n      <td>4.231901</td>\n      <td>4.219814</td>\n      <td>4.191399</td>\n    </tr>\n    <tr>\n      <th>---</th>\n      <td>2.178849</td>\n      <td>2.240104</td>\n      <td>2.184201</td>\n      <td>2.274834</td>\n      <td>2.237889</td>\n      <td>2.309360</td>\n      <td>2.211402</td>\n      <td>2.223382</td>\n      <td>2.219802</td>\n      <td>2.229682</td>\n      <td>...</td>\n      <td>2.243100</td>\n      <td>2.214198</td>\n      <td>2.246761</td>\n      <td>2.220764</td>\n      <td>2.200025</td>\n      <td>2.182337</td>\n      <td>2.200196</td>\n      <td>2.196976</td>\n      <td>2.225934</td>\n      <td>2.213585</td>\n    </tr>\n    <tr>\n      <th>---</th>\n      <td>3.440588</td>\n      <td>3.427184</td>\n      <td>3.448184</td>\n      <td>3.462353</td>\n      <td>3.463511</td>\n      <td>3.414615</td>\n      <td>3.459037</td>\n      <td>3.437524</td>\n      <td>3.447143</td>\n      <td>3.416770</td>\n      <td>...</td>\n      <td>3.429741</td>\n      <td>3.481690</td>\n      <td>3.460577</td>\n      <td>3.466210</td>\n      <td>3.452645</td>\n      <td>3.451499</td>\n      <td>3.440189</td>\n      <td>3.439994</td>\n      <td>3.482802</td>\n      <td>3.442220</td>\n    </tr>\n    <tr>\n      <th>1</th>\n      <td>5.578563</td>\n      <td>5.566120</td>\n      <td>5.584058</td>\n      <td>5.543167</td>\n      <td>5.451951</td>\n      <td>5.324047</td>\n      <td>5.523833</td>\n      <td>5.674940</td>\n      <td>5.505239</td>\n      <td>5.674584</td>\n      <td>...</td>\n      <td>5.691243</td>\n      <td>5.664534</td>\n      <td>5.752765</td>\n      <td>5.554234</td>\n      <td>5.689057</td>\n      <td>5.779966</td>\n      <td>5.530858</td>\n      <td>5.626126</td>\n      <td>5.535039</td>\n      <td>5.360565</td>\n    </tr>\n    <tr>\n      <th>...</th>\n      <td>...</td>\n      <td>...</td>\n      <td>...</td>\n      <td>...</td>\n      <td>...</td>\n      <td>...</td>\n      <td>...</td>\n      <td>...</td>\n      <td>...</td>\n      <td>...</td>\n      <td>...</td>\n      <td>...</td>\n      <td>...</td>\n      <td>...</td>\n      <td>...</td>\n      <td>...</td>\n      <td>...</td>\n      <td>...</td>\n      <td>...</td>\n      <td>...</td>\n      <td>...</td>\n    </tr>\n    <tr>\n      <th>zona occludens 2</th>\n      <td>4.422342</td>\n      <td>3.545356</td>\n      <td>5.122567</td>\n      <td>4.288449</td>\n      <td>4.528611</td>\n      <td>4.400901</td>\n      <td>4.179276</td>\n      <td>3.767140</td>\n      <td>4.017114</td>\n      <td>3.884510</td>\n      <td>...</td>\n      <td>4.995236</td>\n      <td>4.710068</td>\n      <td>4.362672</td>\n      <td>4.223059</td>\n      <td>4.308590</td>\n      <td>4.542643</td>\n      <td>4.272657</td>\n      <td>4.632529</td>\n      <td>4.306412</td>\n      <td>4.437861</td>\n    </tr>\n    <tr>\n      <th>zona occludens 3</th>\n      <td>2.401101</td>\n      <td>3.291652</td>\n      <td>2.431860</td>\n      <td>2.233925</td>\n      <td>2.299639</td>\n      <td>2.254953</td>\n      <td>2.350489</td>\n      <td>2.273010</td>\n      <td>2.155829</td>\n      <td>2.553315</td>\n      <td>...</td>\n      <td>2.401214</td>\n      <td>2.248427</td>\n      <td>2.696128</td>\n      <td>2.345314</td>\n      <td>2.443109</td>\n      <td>2.257001</td>\n      <td>2.702208</td>\n      <td>2.192655</td>\n      <td>2.325037</td>\n      <td>2.227378</td>\n    </tr>\n    <tr>\n      <th>zygin I</th>\n      <td>2.935811</td>\n      <td>2.573002</td>\n      <td>3.001832</td>\n      <td>2.905964</td>\n      <td>2.546398</td>\n      <td>2.230706</td>\n      <td>2.678741</td>\n      <td>2.539368</td>\n      <td>2.567542</td>\n      <td>2.414924</td>\n      <td>...</td>\n      <td>2.410175</td>\n      <td>2.960323</td>\n      <td>2.688676</td>\n      <td>2.742208</td>\n      <td>3.110787</td>\n      <td>3.393251</td>\n      <td>2.765240</td>\n      <td>2.535236</td>\n      <td>2.364203</td>\n      <td>2.869929</td>\n    </tr>\n    <tr>\n      <th>zygin II</th>\n      <td>5.181766</td>\n      <td>5.229695</td>\n      <td>5.639776</td>\n      <td>5.395486</td>\n      <td>6.048839</td>\n      <td>5.291890</td>\n      <td>5.320353</td>\n      <td>5.696106</td>\n      <td>5.070479</td>\n      <td>5.252458</td>\n      <td>...</td>\n      <td>6.158509</td>\n      <td>5.447768</td>\n      <td>5.425783</td>\n      <td>5.163082</td>\n      <td>5.715176</td>\n      <td>5.451126</td>\n      <td>5.532870</td>\n      <td>5.542314</td>\n      <td>5.429227</td>\n      <td>5.100187</td>\n    </tr>\n    <tr>\n      <th>zymogen granule membrane</th>\n      <td>2.024381</td>\n      <td>2.773278</td>\n      <td>2.341161</td>\n      <td>3.113055</td>\n      <td>2.591469</td>\n      <td>2.299103</td>\n      <td>1.984779</td>\n      <td>2.702154</td>\n      <td>2.249245</td>\n      <td>2.150932</td>\n      <td>...</td>\n      <td>2.024679</td>\n      <td>2.910614</td>\n      <td>1.977541</td>\n      <td>2.260700</td>\n      <td>1.619691</td>\n      <td>2.141563</td>\n      <td>2.082944</td>\n      <td>2.046833</td>\n      <td>2.483497</td>\n      <td>2.094025</td>\n    </tr>\n  </tbody>\n</table>\n<p>325165 rows × 44 columns</p>\n</div>"
     },
     "execution_count": 22,
     "metadata": {},
     "output_type": "execute_result"
    }
   ],
   "source": [
    "genetic_data"
   ],
   "metadata": {
    "collapsed": false,
    "ExecuteTime": {
     "end_time": "2024-01-27T22:43:42.516268643Z",
     "start_time": "2024-01-27T22:43:42.449258184Z"
    }
   }
  },
  {
   "cell_type": "code",
   "execution_count": 23,
   "outputs": [
    {
     "name": "stderr",
     "output_type": "stream",
     "text": [
      "998 input query terms found no hit:\t['---', '---', '1', '1', '1 alpha subcomplex', '1 beta subcomplex', '1 like', '1 pseudogene', '1 pse\n",
      "1000 input query terms found no hit:\t['100133941', '100133941', '100133957', '100133957', '100133985', '100133991', '100133991', '1001340\n",
      "1000 input query terms found no hit:\t['100500825', '100500826', '100500827', '100500828', '100500829', '100500830', '100500831', '1005008\n",
      "1000 input query terms found no hit:\t['100507300', '100507300', '100507303', '100507303', '100507305', '100507307', '100507308', '1005073\n",
      "1000 input query terms found no hit:\t['10079', '10079', '1008', '1008', '10081', '10081', '10082', '10082', '100820709', '100820829', '10\n",
      "1000 input query terms found no hit:\t['10520', '10520', '10521', '10521', '10522', '10522', '10523', '10523', '10524', '10524', '10525', \n",
      "1000 input query terms found no hit:\t['11064', '11065', '11065', '11066', '11067', '11067', '11068', '11068', '11069', '11069', '1107', '\n",
      "1000 input query terms found no hit:\t['116225', '116228', '116228', '116236', '116236', '116238', '116238', '116254', '116254', '116255',\n",
      "1000 input query terms found no hit:\t['126520', '126526', '126526', '126536', '126536', '126541', '126541', '126549', '126549', '126567',\n",
      "1000 input query terms found no hit:\t['137994', '1380', '1380', '138009', '138009', '138046', '138046', '138050', '138050', '138065', '13\n",
      "1000 input query terms found no hit:\t['147929', '147945', '147945', '147947', '147947', '147948', '147948', '147949', '147949', '147965',\n",
      "1000 input query terms found no hit:\t['158376', '158381', '158381', '158399', '158399', '1584', '1584', '158401', '158401', '158405', '15\n",
      "1000 input query terms found no hit:\t['1758', '1758', '1759', '1759', '176', '176', '1760', '1760', '1761', '1761', '1762', '1762', '1763\n",
      "1000 input query terms found no hit:\t['200403', '200407', '200407', '200420', '200420', '200424', '200424', '2005', '2005', '200504', '20\n",
      "1000 input query terms found no hit:\t['221357', '221391', '221391', '221393', '221393', '221395', '221395', '2214', '2214', '221400', '22\n",
      "1000 input query terms found no hit:\t['23200', '23200', '23201', '23201', '23203', '23203', '23204', '23204', '23205', '23205', '23207', \n",
      "1000 input query terms found no hit:\t['2519', '2519', '2520', '2520', '2521', '2521', '2523', '2523', '2524', '2524', '2525', '2525', '25\n",
      "1000 input query terms found no hit:\t['26037', '26037', '26038', '26038', '26039', '26039', '26040', '26040', '260425', '260425', '260429\n",
      "1000 input query terms found no hit:\t['27201', '27201', '27202', '27202', '27229', '27229', '27230', '27230', '27231', '27231', '27232', \n",
      "1000 input query terms found no hit:\t['284649', '284654', '284654', '284656', '284656', '284661', '284677', '284677', '284680', '284680',\n",
      "1000 input query terms found no hit:\t['29883', '29886', '29886', '29887', '29887', '29888', '29888', '29889', '29889', '29890', '29890', \n",
      "1000 input query terms found no hit:\t['3292', '3292', '3293', '3293', '3294', '3294', '3295', '3295', '3297', '3297', '3298', '3298', '32\n",
      "1000 input query terms found no hit:\t['347688', '347689', '347689', '347694', '347730', '347730', '347731', '347731', '347732', '347733',\n",
      "1000 input query terms found no hit:\t['3816', '3816', '3817', '3817', '3818', '3818', '382', '382', '3820', '3820', '3821', '3821', '3822\n",
      "1000 input query terms found no hit:\t['392196', '392196', '392197', '392232', '392255', '392255', '392275', '392288', '392288', '392307',\n",
      "1000 input query terms found no hit:\t['4051', '4052', '4052', '4053', '4053', '4054', '4054', '4055', '4055', '4056', '4056', '4057', '40\n",
      "1000 input query terms found no hit:\t['440900', '440905', '440905', '440910', '440910', '440915', '440915', '440918', '440925', '440926',\n",
      "1000 input query terms found no hit:\t['4931', '4931', '4933406M09Rik pseudogene', '4935', '4935', '493753', '493753', '493754', '4938', '\n",
      "1000 input query terms found no hit:\t['51213', '51214', '51218', '51218', '5122', '5122', '51222', '51222', '51224', '51224', '51225', '5\n",
      "1000 input query terms found no hit:\t['5301', '5303', '5303', '5304', '5304', '5305', '5305', '5306', '5306', '5307', '5307', '5308', '53\n",
      "1000 input query terms found no hit:\t['54874', '54874', '54875', '54875', '54876', '54876', '54877', '54877', '54878', '54878', '54879', \n",
      "1000 input query terms found no hit:\t['55450', '55450', '55454', '55454', '5546', '5546', '55466', '55466', '5547', '5547', '55471', '554\n",
      "1000 input query terms found no hit:\t['5639', '5639', '5641', '5641', '56413', '56413', '5644', '5644', '5645', '5646', '5646', '56474', \n",
      "1000 input query terms found no hit:\t['57498', '57498', '575', '575', '57501', '57502', '57502', '57504', '57505', '57505', '57506', '575\n",
      "1000 input query terms found no hit:\t['5995', '5995', '5996', '5996', '5997', '5997', '5998', '5998', '5999', '5999', '59kDa', '59kDa', '\n",
      "1000 input query terms found no hit:\t['619556', '619562', '619564', '619564', '619565', '619567', '619568', '619569', '619570', '619571',\n",
      "1000 input query terms found no hit:\t['644090', '644093', '644093', '644096', '644096', '6441', '6441', '64410', '64410', '644100', '6441\n",
      "1000 input query terms found no hit:\t['653399', '6534', '6534', '653404', '653404', '653423', '653427', '653427', '653437', '653437', '65\n",
      "1000 input query terms found no hit:\t['692206', '692207', '692208', '692209', '692210', '692212', '692213', '692214', '692223', '692224',\n",
      "1000 input query terms found no hit:\t['728464', '728485', '728489', '728492', '728498', '728498', '728503', '728537', '728537', '728554',\n",
      "1000 input query terms found no hit:\t['774', '7741', '7741', '7743', '7743', '7745', '7745', '7746', '7746', '7748', '7748', '775', '775'\n",
      "1000 input query terms found no hit:\t['79840', '79840', '79841', '79841', '79842', '79842', '79843', '79843', '79844', '79844', '79845', \n",
      "1000 input query terms found no hit:\t['81470', '81470', '81472', '81472', '8148', '8148', '81488', '81490', '81490', '81491', '81491', '8\n",
      "1000 input query terms found no hit:\t['84107', '84108', '84108', '84109', '84109', '8411', '8411', '8412', '8412', '84124', '84124', '841\n",
      "1000 input query terms found no hit:\t['84955', '84955', '84957', '84957', '84958', '84958', '84959', '84959', '8496', '8496', '84960', '8\n",
      "1000 input query terms found no hit:\t['894', '894', '8940', '8940', '8941', '8941', '8942', '8942', '8943', '8943', '8944', '8945', '8945\n",
      "1000 input query terms found no hit:\t['9197', '91975', '91975', '91977', '91977', '91978', '91978', '91kDa', '91kDa homolog', '92', '92',\n",
      "4 input query terms found dup hits:\t[('A2ML1-AS1', 2), ('A2ML1-AS2', 2), ('A2MP1', 2), ('AACSP1', 2)]\n",
      "968 input query terms found no hit:\t['9578', '958', '958', '9580', '9580', '9581', '9581', '9582', '9583', '9583', '9584', '9584', '9585\n",
      "1000 input query terms found no hit:\t['AB002454', 'AB002803', 'AB002806', 'AB003039', 'AB003062', 'AB003102', 'AB003103', 'AB003592', 'AB\n",
      "1000 input query terms found no hit:\t['AB058757', 'AB058770', 'AB058771', 'AB058772', 'AB058779', 'AB058895', 'AB059429', 'AB059555', 'AB\n",
      "13 input query terms found dup hits:\t[('ABCA11P', 2), ('ABCA17P', 2), ('ABCC13', 2), ('ABCC6P1', 2), ('ABCC6P2', 3), ('ACTG1P4', 2), ('AC\n",
      "663 input query terms found no hit:\t['AB235418', 'AB236159', 'AB237597', 'AB240566', 'AB240567', 'AB240568', 'AB240569', 'AB240570', 'AB\n",
      "1000 input query terms found no hit:\t['AF013160', 'AF013168', 'AF013249', 'AF013250', 'AF013261', 'AF013263', 'AF013488', 'AF013588', 'AF\n",
      "1000 input query terms found no hit:\t['AF073524', 'AF073528', 'AF073727', 'AF073770', 'AF073771', 'AF073836', 'AF073887', 'AF073890', 'AF\n",
      "1000 input query terms found no hit:\t['AF129133', 'AF129166', 'AF129399', 'AF129476', 'AF129505', 'AF129512', 'AF129530', 'AF129534', 'AF\n",
      "1000 input query terms found no hit:\t['AF201946', 'AF201948', 'AF201950', 'AF201951', 'AF202063', 'AF202092', 'AF202144', 'AF202145', 'AF\n",
      "1000 input query terms found no hit:\t['AF288571', 'AF288679', 'AF288687', 'AF288991', 'AF289021', 'AF289022', 'AF289023', 'AF289024', 'AF\n",
      "4 input query terms found dup hits:\t[('AFF2-IT1', 2), ('AFG3L1P', 2), ('AGAP11', 2), ('AGBL5-IT1', 2)]\n",
      "914 input query terms found no hit:\t['AF425231', 'AF425252', 'AF425266', 'AF425606', 'AF425640', 'AF425646', 'AF425650', 'AF425851', 'AF\n",
      "998 input query terms found no hit:\t['AJ420552', 'AJ420561', 'AJ420562', 'AJ420570', 'AJ420582', 'AJ420587', 'AJ420590', 'AJ420593', 'AJ\n",
      "1000 input query terms found no hit:\t['AK055393', 'AK055396', 'AK055403', 'AK055407', 'AK055414', 'AK055417', 'AK055424', 'AK055426', 'AK\n",
      "1000 input query terms found no hit:\t['AK092246', 'AK092247', 'AK092256', 'AK092257', 'AK092273', 'AK092290', 'AK092292', 'AK092299', 'AK\n",
      "999 input query terms found no hit:\t['AK096990', 'AK096992', 'AK096996', 'AK096999', 'AK097001', 'AK097003', 'AK097004', 'AK097009', 'AK\n",
      "999 input query terms found no hit:\t['AK125780', 'AK125783', 'AK125788', 'AK125792', 'AK125796', 'AK125800', 'AK125801', 'AK125803', 'AK\n",
      "1000 input query terms found no hit:\t['AK223611', 'AK225029', 'AK225034', 'AK225042', 'AK225050', 'AK225130', 'AK225161', 'AK225166', 'AK\n",
      "1000 input query terms found no hit:\t['AK291006', 'AK291007', 'AK291008', 'AK291011', 'AK291016', 'AK291017', 'AK291018', 'AK291020', 'AK\n",
      "1000 input query terms found no hit:\t['AK292803', 'AK292808', 'AK292810', 'AK292811', 'AK292812', 'AK292813', 'AK292814', 'AK292815', 'AK\n",
      "1000 input query terms found no hit:\t['AK294505', 'AK294508', 'AK294509', 'AK294510', 'AK294511', 'AK294513', 'AK294514', 'AK294515', 'AK\n",
      "1000 input query terms found no hit:\t['AK296158', 'AK296160', 'AK296163', 'AK296164', 'AK296165', 'AK296169', 'AK296171', 'AK296173', 'AK\n",
      "1000 input query terms found no hit:\t['AK297850', 'AK297852', 'AK297853', 'AK297854', 'AK297856', 'AK297857', 'AK297860', 'AK297861', 'AK\n",
      "999 input query terms found no hit:\t['AK299555', 'AK299556', 'AK299558', 'AK299560', 'AK299562', 'AK299563', 'AK299564', 'AK299565', 'AK\n",
      "1000 input query terms found no hit:\t['AK301238', 'AK301239', 'AK301241', 'AK301242', 'AK301243', 'AK301245', 'AK301248', 'AK301249', 'AK\n",
      "1000 input query terms found no hit:\t['AK302965', 'AK302967', 'AK302970', 'AK302971', 'AK302972', 'AK302973', 'AK302976', 'AK302979', 'AK\n",
      "1000 input query terms found no hit:\t['AK304661', 'AK304662', 'AK304664', 'AK304665', 'AK304666', 'AK304667', 'AK304668', 'AK304669', 'AK\n",
      "2 input query terms found dup hits:\t[('AK4P3', 2), ('AKR7A2P1', 3)]\n",
      "955 input query terms found no hit:\t['AK310587', 'AK310591', 'AK310592', 'AK310593', 'AK310596', 'AK310598', 'AK310599', 'AK310600', 'AK\n",
      "22 input query terms found dup hits:\t[('ALG13-AS1', 2), ('ALG9-IT1', 2), ('ALOX12P2', 2), ('ALOX15P1', 2), ('AMMECR1-IT1', 2), ('AMZ2P1',\n",
      "758 input query terms found no hit:\t['AL122036', 'AL122046', 'AL122048', 'AL122072', 'AL122090', 'AL122094', 'AL122104', 'AL122119', 'AL\n",
      "28 input query terms found dup hits:\t[('ANO7L1', 3), ('ANXA2P1', 2), ('ANXA2P2', 2), ('ANXA2P3', 2), ('APOC1P1', 2), ('APOC4-APOC2', 2), \n",
      "402 input query terms found no hit:\t['ANO1-AS2', 'ANP32A intronic transcript 1', 'ANP32C', 'ANXA8L2', 'AOAH intronic transcript 1', 'AOC\n",
      "1000 input query terms found no hit:\t['AY044865', 'AY044869', 'AY044906', 'AY045575', 'AY046059', 'AY046538', 'AY046911', 'AY047359', 'AY\n",
      "1000 input query terms found no hit:\t['AY317139', 'AY317148', 'AY319413', 'AY319414', 'AY320283', 'AY320284', 'AY320413', 'AY320414', 'AY\n",
      "5 input query terms found dup hits:\t[('AZGP1P1', 2), ('BACE1-AS', 2), ('BACH1-AS1', 2), ('BAGE2', 2), ('BASP1P1', 2)]\n",
      "903 input query terms found no hit:\t['AY513610', 'AY513654', 'AY513655', 'AY513656', 'AY513657', 'AY513661', 'AY513722', 'AY514449', 'AY\n",
      "1000 input query terms found no hit:\t['BC000010', 'BC000011', 'BC000012', 'BC000013', 'BC000019', 'BC000022', 'BC000028', 'BC000029', 'BC\n",
      "1000 input query terms found no hit:\t['BC002591', 'BC002592', 'BC002594', 'BC002595', 'BC002597', 'BC002600', 'BC002601', 'BC002604', 'BC\n",
      "1000 input query terms found no hit:\t['BC006387', 'BC006389', 'BC006390', 'BC006391', 'BC006392', 'BC006395', 'BC006396', 'BC006399', 'BC\n",
      "1000 input query terms found no hit:\t['BC009881', 'BC009888', 'BC009889', 'BC009894', 'BC009895', 'BC009896', 'BC009897', 'BC009903', 'BC\n",
      "1000 input query terms found no hit:\t['BC013787', 'BC013789', 'BC013793', 'BC013796', 'BC013808', 'BC013821', 'BC013830', 'BC013831', 'BC\n",
      "1000 input query terms found no hit:\t['BC017328', 'BC017329', 'BC017335', 'BC017336', 'BC017337', 'BC017338', 'BC017339', 'BC017342', 'BC\n",
      "1000 input query terms found no hit:\t['BC022434', 'BC022439', 'BC022440', 'BC022441', 'BC022443', 'BC022444', 'BC022445', 'BC022448', 'BC\n",
      "1000 input query terms found no hit:\t['BC029455', 'BC029458', 'BC029459', 'BC029460', 'BC029477', 'BC029478', 'BC029485', 'BC029486', 'BC\n",
      "1000 input query terms found no hit:\t['BC033896', 'BC033898', 'BC033899', 'BC033900', 'BC033901', 'BC033902', 'BC033904', 'BC033905', 'BC\n",
      "1000 input query terms found no hit:\t['BC038934', 'BC038949', 'BC038951', 'BC038956', 'BC038957', 'BC038958', 'BC038959', 'BC038960', 'BC\n",
      "1000 input query terms found no hit:\t['BC045768', 'BC045774', 'BC045776', 'BC045783', 'BC045799', 'BC045801', 'BC045814', 'BC045831', 'BC\n",
      "1000 input query terms found no hit:\t['BC056147', 'BC056151', 'BC056153', 'BC056154', 'BC056156', 'BC056158', 'BC056160', 'BC056162', 'BC\n",
      "1000 input query terms found no hit:\t['BC066912', 'BC066913', 'BC066914', 'BC066917', 'BC066921', 'BC066923', 'BC066924', 'BC066925', 'BC\n",
      "1000 input query terms found no hit:\t['BC080658', 'BC081536', 'BC081541', 'BC081542', 'BC081559', 'BC081560', 'BC081561', 'BC081566', 'BC\n",
      "1000 input query terms found no hit:\t['BC101551', 'BC101552', 'BC101562', 'BC101565', 'BC101567', 'BC101568', 'BC101570', 'BC101574', 'BC\n",
      "1000 input query terms found no hit:\t['BC110813', 'BC110814', 'BC110815', 'BC110816', 'BC110824', 'BC110826', 'BC110827', 'BC110830', 'BC\n",
      "1000 input query terms found no hit:\t['BC121797', 'BC121798', 'BC121799', 'BC121800', 'BC121803', 'BC121805', 'BC121807', 'BC121808', 'BC\n",
      "1000 input query terms found no hit:\t['BC136722', 'BC136724', 'BC136727', 'BC136730', 'BC136732', 'BC136736', 'BC136737', 'BC136742', 'BC\n",
      "15 input query terms found dup hits:\t[('BCORP1', 2), ('BCRP2', 2), ('BCRP3', 2), ('BIRC6-AS1', 2), ('BIRC8', 2), ('BMS1P1', 2), ('BMS1P2'\n",
      "768 input query terms found no hit:\t['BC144462', 'BC144479', 'BC144480', 'BC144481', 'BC144483', 'BC144484', 'BC144486', 'BC144496', 'BC\n",
      "3 input query terms found dup hits:\t[('BTF3L4P1', 2), ('BTF3P11', 2), ('BTN2A3P', 2)]\n",
      "955 input query terms found no hit:\t['BT006814', 'BT006815', 'BT006816', 'BT006817', 'BT006818', 'BT006821', 'BT006824', 'BT006825', 'BT\n",
      "1 input query terms found dup hits:\t[('BZW1P2', 2)]\n",
      "931 input query terms found no hit:\t['BX647336', 'BX647337', 'BX647341', 'BX647342', 'BX647343', 'BX647344', 'BX647345', 'BX647348', 'BX\n",
      "16 input query terms found dup hits:\t[('C1QTNF9-AS1', 2), ('C20orf181', 2), ('C2orf83', 2), ('C3P1', 2), ('C4A-AS1', 6), ('C6orf47-AS1', \n",
      "501 input query terms found no hit:\t['C17orf61-PLSCR3 readthrough', 'C17orf62', 'C17orf64', 'C17orf65', 'C17orf66', 'C17orf69', 'C17orf7\n",
      "19 input query terms found dup hits:\t[('CCNYL2', 2), ('CCT6P1', 2), ('CCT6P3', 2), ('CD99P1', 3), ('CDR1', 2), ('CDRT15P1', 2), ('CDRT15P\n",
      "219 input query terms found no hit:\t['CCDC36', 'CCDC37', 'CCDC39 antisense RNA 1', 'CCDC41', 'CCDC42B', 'CCDC48', 'CCDC53', 'CCDC56', 'C\n",
      "7 input query terms found dup hits:\t[('CLP1', 2), ('CLRN1-AS1', 2), ('CNOT10-AS1', 2), ('CNTN4-AS1', 2), ('COL6A4P1', 2), ('COL6A4P2', 2\n",
      "671 input query terms found no hit:\t['CLPTM1-like', 'CLRN1 antisense RNA 1', 'CLTC intronic transcript 1', 'CLTC-IT1', 'CLYBL antisense \n",
      "16 input query terms found dup hits:\t[('CROCCP2', 2), ('CRYBB2P1', 2), ('CSAG4', 3), ('CSN1S2AP', 3), ('CSNK1A1P1', 2), ('CSPG4P3Y', 2), \n",
      "592 input query terms found no hit:\t['CR541757', 'CR541768', 'CR541770', 'CR541771', 'CR541773', 'CR541778', 'CR541782', 'CR541783', 'CR\n",
      "24 input query terms found dup hits:\t[('DBIL5P2', 2), ('DCAF13P3', 2), ('DDX11L1', 2), ('DDX11L10', 2), ('DDX11L16', 3), ('DDX11L2', 2), \n",
      "527 input query terms found no hit:\t['D32051', 'D32053', 'D32076', 'D32201', 'D32202', 'D32257', 'D37781', 'D37991', 'D38076', 'D38122',\n",
      "23 input query terms found dup hits:\t[('DNM1P24', 2), ('DNM1P35', 2), ('DNM1P41', 2), ('DNM1P46', 2), ('DNM1P48', 2), ('DNM3OS', 2), ('DO\n",
      "693 input query terms found no hit:\t['DNAJC25-GNG10 readthrough', 'DNAJC27 antisense RNA 1', 'DNAJC9 antisense RNA 1', 'DNAPTP3', 'DNL-t\n",
      "17 input query terms found dup hits:\t[('EEF1A1P12', 2), ('EEF1A1P5', 2), ('EEF1A1P6', 2), ('EEF1DP3', 2), ('EFCAB6-AS1', 2), ('EGF', 2), \n",
      "727 input query terms found no hit:\t['ECRP', 'ECSIT homolog', 'EDAR-associated death domain', 'EEF1E1-MUTED', 'EEF1E1-MUTED readthrough'\n",
      "1000 input query terms found no hit:\t['ENST00000179765', 'ENST00000179882', 'ENST00000180173', 'ENST00000181383', 'ENST00000181796', 'ENS\n",
      "1000 input query terms found no hit:\t['ENST00000232461', 'ENST00000232496', 'ENST00000232508', 'ENST00000232519', 'ENST00000232564', 'ENS\n",
      "1000 input query terms found no hit:\t['ENST00000252998', 'ENST00000252999', 'ENST00000253000', 'ENST00000253001', 'ENST00000253008', 'ENS\n",
      "1000 input query terms found no hit:\t['ENST00000262173', 'ENST00000262177', 'ENST00000262186', 'ENST00000262187', 'ENST00000262189', 'ENS\n",
      "1000 input query terms found no hit:\t['ENST00000267540', 'ENST00000267544', 'ENST00000267549', 'ENST00000267568', 'ENST00000267569', 'ENS\n",
      "1000 input query terms found no hit:\t['ENST00000282120', 'ENST00000282141', 'ENST00000282146', 'ENST00000282169', 'ENST00000282223', 'ENS\n",
      "1000 input query terms found no hit:\t['ENST00000295694', 'ENST00000295701', 'ENST00000295702', 'ENST00000295706', 'ENST00000295709', 'ENS\n",
      "1000 input query terms found no hit:\t['ENST00000302610', 'ENST00000302617', 'ENST00000302622', 'ENST00000302625', 'ENST00000302628', 'ENS\n",
      "1000 input query terms found no hit:\t['ENST00000309868', 'ENST00000309877', 'ENST00000309879', 'ENST00000309880', 'ENST00000309881', 'ENS\n",
      "1000 input query terms found no hit:\t['ENST00000316950', 'ENST00000316963', 'ENST00000316967', 'ENST00000316981', 'ENST00000316985', 'ENS\n",
      "1000 input query terms found no hit:\t['ENST00000324219', 'ENST00000324228', 'ENST00000324229', 'ENST00000324238', 'ENST00000324262', 'ENS\n",
      "1000 input query terms found no hit:\t['ENST00000331128', 'ENST00000331129', 'ENST00000331131', 'ENST00000331145', 'ENST00000331148', 'ENS\n",
      "1000 input query terms found no hit:\t['ENST00000336775', 'ENST00000336777', 'ENST00000336783', 'ENST00000336787', 'ENST00000336798', 'ENS\n",
      "1000 input query terms found no hit:\t['ENST00000341316', 'ENST00000341318', 'ENST00000341319', 'ENST00000341321', 'ENST00000341322', 'ENS\n",
      "1000 input query terms found no hit:\t['ENST00000346141', 'ENST00000346144', 'ENST00000346145', 'ENST00000346152', 'ENST00000346156', 'ENS\n",
      "1000 input query terms found no hit:\t['ENST00000354448', 'ENST00000354449', 'ENST00000354452', 'ENST00000354453', 'ENST00000354454', 'ENS\n",
      "1000 input query terms found no hit:\t['ENST00000357254', 'ENST00000357257', 'ENST00000357258', 'ENST00000357260', 'ENST00000357266', 'ENS\n",
      "1000 input query terms found no hit:\t['ENST00000359971', 'ENST00000359972', 'ENST00000359978', 'ENST00000359979', 'ENST00000359980', 'ENS\n",
      "1000 input query terms found no hit:\t['ENST00000366565', 'ENST00000366570', 'ENST00000366574', 'ENST00000366577', 'ENST00000366578', 'ENS\n",
      "1000 input query terms found no hit:\t['ENST00000368297', 'ENST00000368298', 'ENST00000368299', 'ENST00000368300', 'ENST00000368301', 'ENS\n",
      "1000 input query terms found no hit:\t['ENST00000370079', 'ENST00000370080', 'ENST00000370082', 'ENST00000370083', 'ENST00000370085', 'ENS\n",
      "1000 input query terms found no hit:\t['ENST00000371919', 'ENST00000371920', 'ENST00000371921', 'ENST00000371922', 'ENST00000371923', 'ENS\n",
      "1000 input query terms found no hit:\t['ENST00000373606', 'ENST00000373608', 'ENST00000373609', 'ENST00000373611', 'ENST00000373615', 'ENS\n",
      "1000 input query terms found no hit:\t['ENST00000375497', 'ENST00000375498', 'ENST00000375499', 'ENST00000375501', 'ENST00000375503', 'ENS\n",
      "1000 input query terms found no hit:\t['ENST00000377529', 'ENST00000377531', 'ENST00000377532', 'ENST00000377533', 'ENST00000377534', 'ENS\n",
      "1000 input query terms found no hit:\t['ENST00000379612', 'ENST00000379615', 'ENST00000379617', 'ENST00000379618', 'ENST00000379623', 'ENS\n",
      "1000 input query terms found no hit:\t['ENST00000381908', 'ENST00000381911', 'ENST00000381913', 'ENST00000381916', 'ENST00000381918', 'ENS\n",
      "1000 input query terms found no hit:\t['ENST00000389698', 'ENST00000389701', 'ENST00000389703', 'ENST00000389704', 'ENST00000389707', 'ENS\n",
      "1000 input query terms found no hit:\t['ENST00000393056', 'ENST00000393058', 'ENST00000393059', 'ENST00000393060', 'ENST00000393062', 'ENS\n",
      "1000 input query terms found no hit:\t['ENST00000394798', 'ENST00000394799', 'ENST00000394800', 'ENST00000394801', 'ENST00000394803', 'ENS\n",
      "1000 input query terms found no hit:\t['ENST00000396521', 'ENST00000396522', 'ENST00000396525', 'ENST00000396527', 'ENST00000396529', 'ENS\n",
      "1000 input query terms found no hit:\t['ENST00000398511', 'ENST00000398516', 'ENST00000398519', 'ENST00000398521', 'ENST00000398523', 'ENS\n",
      "1000 input query terms found no hit:\t['ENST00000401414', 'ENST00000401419', 'ENST00000401424', 'ENST00000401443', 'ENST00000401445', 'ENS\n",
      "1000 input query terms found no hit:\t['ENST00000406403', 'ENST00000406419', 'ENST00000406420', 'ENST00000406423', 'ENST00000406424', 'ENS\n",
      "1000 input query terms found no hit:\t['ENST00000409909', 'ENST00000409911', 'ENST00000409913', 'ENST00000409914', 'ENST00000409915', 'ENS\n",
      "1000 input query terms found no hit:\t['ENST00000413563', 'ENST00000413566', 'ENST00000413569', 'ENST00000413573', 'ENST00000413574', 'ENS\n",
      "1000 input query terms found no hit:\t['ENST00000415967', 'ENST00000415968', 'ENST00000415969', 'ENST00000415970', 'ENST00000415972', 'ENS\n",
      "1000 input query terms found no hit:\t['ENST00000418391', 'ENST00000418399', 'ENST00000418407', 'ENST00000418411', 'ENST00000418419', 'ENS\n",
      "1000 input query terms found no hit:\t['ENST00000420781', 'ENST00000420783', 'ENST00000420784', 'ENST00000420785', 'ENST00000420786', 'ENS\n",
      "1000 input query terms found no hit:\t['ENST00000423118', 'ENST00000423119', 'ENST00000423123', 'ENST00000423126', 'ENST00000423127', 'ENS\n",
      "1000 input query terms found no hit:\t['ENST00000425475', 'ENST00000425478', 'ENST00000425479', 'ENST00000425482', 'ENST00000425485', 'ENS\n",
      "1000 input query terms found no hit:\t['ENST00000427869', 'ENST00000427870', 'ENST00000427871', 'ENST00000427874', 'ENST00000427877', 'ENS\n",
      "1000 input query terms found no hit:\t['ENST00000430263', 'ENST00000430265', 'ENST00000430267', 'ENST00000430270', 'ENST00000430273', 'ENS\n",
      "1000 input query terms found no hit:\t['ENST00000432634', 'ENST00000432637', 'ENST00000432641', 'ENST00000432642', 'ENST00000432643', 'ENS\n",
      "1000 input query terms found no hit:\t['ENST00000435071', 'ENST00000435072', 'ENST00000435074', 'ENST00000435076', 'ENST00000435079', 'ENS\n",
      "1000 input query terms found no hit:\t['ENST00000437505', 'ENST00000437507', 'ENST00000437508', 'ENST00000437510', 'ENST00000437511', 'ENS\n",
      "1000 input query terms found no hit:\t['ENST00000439917', 'ENST00000439918', 'ENST00000439922', 'ENST00000439924', 'ENST00000439925', 'ENS\n",
      "1000 input query terms found no hit:\t['ENST00000442361', 'ENST00000442364', 'ENST00000442366', 'ENST00000442371', 'ENST00000442372', 'ENS\n",
      "1000 input query terms found no hit:\t['ENST00000444715', 'ENST00000444716', 'ENST00000444719', 'ENST00000444723', 'ENST00000444724', 'ENS\n",
      "1000 input query terms found no hit:\t['ENST00000447191', 'ENST00000447192', 'ENST00000447195', 'ENST00000447197', 'ENST00000447204', 'ENS\n",
      "1000 input query terms found no hit:\t['ENST00000449549', 'ENST00000449552', 'ENST00000449553', 'ENST00000449554', 'ENST00000449556', 'ENS\n",
      "1000 input query terms found no hit:\t['ENST00000451983', 'ENST00000451984', 'ENST00000451986', 'ENST00000451987', 'ENST00000451993', 'ENS\n",
      "1000 input query terms found no hit:\t['ENST00000454303', 'ENST00000454304', 'ENST00000454306', 'ENST00000454308', 'ENST00000454309', 'ENS\n",
      "1000 input query terms found no hit:\t['ENST00000456735', 'ENST00000456736', 'ENST00000456737', 'ENST00000456739', 'ENST00000456746', 'ENS\n",
      "1000 input query terms found no hit:\t['ENST00000459799', 'ENST00000459800', 'ENST00000459801', 'ENST00000459803', 'ENST00000459805', 'ENS\n",
      "1000 input query terms found no hit:\t['ENST00000461322', 'ENST00000461323', 'ENST00000461324', 'ENST00000461325', 'ENST00000461326', 'ENS\n",
      "1000 input query terms found no hit:\t['ENST00000462856', 'ENST00000462857', 'ENST00000462858', 'ENST00000462859', 'ENST00000462860', 'ENS\n",
      "1000 input query terms found no hit:\t['ENST00000464369', 'ENST00000464371', 'ENST00000464373', 'ENST00000464374', 'ENST00000464375', 'ENS\n",
      "1000 input query terms found no hit:\t['ENST00000465876', 'ENST00000465877', 'ENST00000465878', 'ENST00000465882', 'ENST00000465883', 'ENS\n",
      "1000 input query terms found no hit:\t['ENST00000467406', 'ENST00000467407', 'ENST00000467408', 'ENST00000467409', 'ENST00000467410', 'ENS\n",
      "1000 input query terms found no hit:\t['ENST00000468918', 'ENST00000468923', 'ENST00000468924', 'ENST00000468925', 'ENST00000468927', 'ENS\n",
      "1000 input query terms found no hit:\t['ENST00000470431', 'ENST00000470432', 'ENST00000470434', 'ENST00000470438', 'ENST00000470439', 'ENS\n",
      "1000 input query terms found no hit:\t['ENST00000471953', 'ENST00000471954', 'ENST00000471956', 'ENST00000471957', 'ENST00000471959', 'ENS\n",
      "1000 input query terms found no hit:\t['ENST00000473442', 'ENST00000473443', 'ENST00000473446', 'ENST00000473447', 'ENST00000473448', 'ENS\n",
      "1000 input query terms found no hit:\t['ENST00000474947', 'ENST00000474948', 'ENST00000474949', 'ENST00000474950', 'ENST00000474952', 'ENS\n",
      "1000 input query terms found no hit:\t['ENST00000476437', 'ENST00000476438', 'ENST00000476439', 'ENST00000476441', 'ENST00000476443', 'ENS\n",
      "1000 input query terms found no hit:\t['ENST00000477916', 'ENST00000477917', 'ENST00000477918', 'ENST00000477921', 'ENST00000477923', 'ENS\n",
      "1000 input query terms found no hit:\t['ENST00000479394', 'ENST00000479399', 'ENST00000479400', 'ENST00000479401', 'ENST00000479402', 'ENS\n",
      "1000 input query terms found no hit:\t['ENST00000480901', 'ENST00000480905', 'ENST00000480906', 'ENST00000480907', 'ENST00000480908', 'ENS\n",
      "1000 input query terms found no hit:\t['ENST00000482400', 'ENST00000482401', 'ENST00000482402', 'ENST00000482403', 'ENST00000482404', 'ENS\n",
      "1000 input query terms found no hit:\t['ENST00000483864', 'ENST00000483865', 'ENST00000483868', 'ENST00000483869', 'ENST00000483871', 'ENS\n",
      "1000 input query terms found no hit:\t['ENST00000485440', 'ENST00000485441', 'ENST00000485442', 'ENST00000485444', 'ENST00000485446', 'ENS\n",
      "1000 input query terms found no hit:\t['ENST00000486952', 'ENST00000486953', 'ENST00000486958', 'ENST00000486960', 'ENST00000486962', 'ENS\n",
      "1000 input query terms found no hit:\t['ENST00000488449', 'ENST00000488450', 'ENST00000488451', 'ENST00000488452', 'ENST00000488453', 'ENS\n",
      "1000 input query terms found no hit:\t['ENST00000489954', 'ENST00000489955', 'ENST00000489956', 'ENST00000489958', 'ENST00000489960', 'ENS\n",
      "1000 input query terms found no hit:\t['ENST00000491460', 'ENST00000491462', 'ENST00000491463', 'ENST00000491464', 'ENST00000491465', 'ENS\n",
      "1000 input query terms found no hit:\t['ENST00000492959', 'ENST00000492961', 'ENST00000492962', 'ENST00000492963', 'ENST00000492965', 'ENS\n",
      "1000 input query terms found no hit:\t['ENST00000494462', 'ENST00000494463', 'ENST00000494464', 'ENST00000494465', 'ENST00000494466', 'ENS\n",
      "1000 input query terms found no hit:\t['ENST00000495961', 'ENST00000495963', 'ENST00000495964', 'ENST00000495966', 'ENST00000495968', 'ENS\n",
      "1000 input query terms found no hit:\t['ENST00000497493', 'ENST00000497494', 'ENST00000497495', 'ENST00000497496', 'ENST00000497497', 'ENS\n",
      "1000 input query terms found no hit:\t['ENST00000501938', 'ENST00000501943', 'ENST00000502022', 'ENST00000502041', 'ENST00000502056', 'ENS\n",
      "1000 input query terms found no hit:\t['ENST00000504121', 'ENST00000504124', 'ENST00000504126', 'ENST00000504128', 'ENST00000504131', 'ENS\n",
      "1000 input query terms found no hit:\t['ENST00000506202', 'ENST00000506205', 'ENST00000506207', 'ENST00000506208', 'ENST00000506209', 'ENS\n",
      "1000 input query terms found no hit:\t['ENST00000508170', 'ENST00000508171', 'ENST00000508173', 'ENST00000508176', 'ENST00000508180', 'ENS\n",
      "1000 input query terms found no hit:\t['ENST00000510124', 'ENST00000510129', 'ENST00000510133', 'ENST00000510134', 'ENST00000510135', 'ENS\n",
      "1000 input query terms found no hit:\t['ENST00000512079', 'ENST00000512080', 'ENST00000512085', 'ENST00000512086', 'ENST00000512088', 'ENS\n",
      "1000 input query terms found no hit:\t['ENST00000514118', 'ENST00000514119', 'ENST00000514121', 'ENST00000514122', 'ENST00000514126', 'ENS\n",
      "1000 input query terms found no hit:\t['ENST00000517447', 'ENST00000517448', 'ENST00000517450', 'ENST00000517451', 'ENST00000517453', 'ENS\n",
      "1000 input query terms found no hit:\t['ENST00000519322', 'ENST00000519324', 'ENST00000519325', 'ENST00000519326', 'ENST00000519327', 'ENS\n",
      "1000 input query terms found no hit:\t['ENST00000521132', 'ENST00000521134', 'ENST00000521137', 'ENST00000521140', 'ENST00000521144', 'ENS\n",
      "1000 input query terms found no hit:\t['ENST00000522991', 'ENST00000522993', 'ENST00000522994', 'ENST00000522995', 'ENST00000522996', 'ENS\n",
      "1000 input query terms found no hit:\t['ENST00000524795', 'ENST00000524797', 'ENST00000524798', 'ENST00000524799', 'ENST00000524800', 'ENS\n",
      "1000 input query terms found no hit:\t['ENST00000526417', 'ENST00000526422', 'ENST00000526423', 'ENST00000526425', 'ENST00000526428', 'ENS\n",
      "1000 input query terms found no hit:\t['ENST00000528052', 'ENST00000528053', 'ENST00000528054', 'ENST00000528056', 'ENST00000528057', 'ENS\n",
      "1000 input query terms found no hit:\t['ENST00000529685', 'ENST00000529687', 'ENST00000529688', 'ENST00000529690', 'ENST00000529691', 'ENS\n",
      "1000 input query terms found no hit:\t['ENST00000531266', 'ENST00000531267', 'ENST00000531270', 'ENST00000531271', 'ENST00000531272', 'ENS\n",
      "1000 input query terms found no hit:\t['ENST00000532948', 'ENST00000532949', 'ENST00000532950', 'ENST00000532951', 'ENST00000532952', 'ENS\n",
      "1000 input query terms found no hit:\t['ENST00000534582', 'ENST00000534583', 'ENST00000534588', 'ENST00000534589', 'ENST00000534590', 'ENS\n",
      "1000 input query terms found no hit:\t['ENST00000536089', 'ENST00000536090', 'ENST00000536091', 'ENST00000536092', 'ENST00000536093', 'ENS\n",
      "1000 input query terms found no hit:\t['ENST00000537604', 'ENST00000537605', 'ENST00000537606', 'ENST00000537607', 'ENST00000537608', 'ENS\n",
      "1000 input query terms found no hit:\t['ENST00000539124', 'ENST00000539125', 'ENST00000539127', 'ENST00000539128', 'ENST00000539129', 'ENS\n",
      "1000 input query terms found no hit:\t['ENST00000540609', 'ENST00000540610', 'ENST00000540613', 'ENST00000540615', 'ENST00000540616', 'ENS\n",
      "1000 input query terms found no hit:\t['ENST00000542094', 'ENST00000542095', 'ENST00000542096', 'ENST00000542097', 'ENST00000542098', 'ENS\n",
      "1000 input query terms found no hit:\t['ENST00000543621', 'ENST00000543623', 'ENST00000543625', 'ENST00000543627', 'ENST00000543628', 'ENS\n",
      "1000 input query terms found no hit:\t['ENST00000545121', 'ENST00000545122', 'ENST00000545124', 'ENST00000545125', 'ENST00000545128', 'ENS\n",
      "1000 input query terms found no hit:\t['ENST00000546732', 'ENST00000546733', 'ENST00000546735', 'ENST00000546737', 'ENST00000546739', 'ENS\n",
      "1000 input query terms found no hit:\t['ENST00000548487', 'ENST00000548489', 'ENST00000548490', 'ENST00000548493', 'ENST00000548494', 'ENS\n",
      "1000 input query terms found no hit:\t['ENST00000550257', 'ENST00000550258', 'ENST00000550262', 'ENST00000550265', 'ENST00000550267', 'ENS\n",
      "1000 input query terms found no hit:\t['ENST00000551989', 'ENST00000551991', 'ENST00000551992', 'ENST00000551993', 'ENST00000551994', 'ENS\n",
      "1000 input query terms found no hit:\t['ENST00000553687', 'ENST00000553688', 'ENST00000553689', 'ENST00000553691', 'ENST00000553693', 'ENS\n",
      "1000 input query terms found no hit:\t['ENST00000555450', 'ENST00000555451', 'ENST00000555452', 'ENST00000555453', 'ENST00000555454', 'ENS\n",
      "1000 input query terms found no hit:\t['ENST00000557164', 'ENST00000557165', 'ENST00000557167', 'ENST00000557169', 'ENST00000557172', 'ENS\n",
      "1000 input query terms found no hit:\t['ENST00000558964', 'ENST00000558966', 'ENST00000558968', 'ENST00000558969', 'ENST00000558970', 'ENS\n",
      "1000 input query terms found no hit:\t['ENST00000560801', 'ENST00000560807', 'ENST00000560808', 'ENST00000560809', 'ENST00000560810', 'ENS\n",
      "1000 input query terms found no hit:\t['ENST00000562728', 'ENST00000562729', 'ENST00000562730', 'ENST00000562733', 'ENST00000562734', 'ENS\n",
      "1000 input query terms found no hit:\t['ENST00000564676', 'ENST00000564677', 'ENST00000564678', 'ENST00000564679', 'ENST00000564680', 'ENS\n",
      "1000 input query terms found no hit:\t['ENST00000566626', 'ENST00000566627', 'ENST00000566631', 'ENST00000566634', 'ENST00000566635', 'ENS\n",
      "1000 input query terms found no hit:\t['ENST00000568617', 'ENST00000568618', 'ENST00000568620', 'ENST00000568621', 'ENST00000568622', 'ENS\n",
      "1000 input query terms found no hit:\t['ENST00000570533', 'ENST00000570534', 'ENST00000570535', 'ENST00000570536', 'ENST00000570537', 'ENS\n",
      "1000 input query terms found no hit:\t['ENST00000572073', 'ENST00000572074', 'ENST00000572075', 'ENST00000572076', 'ENST00000572078', 'ENS\n",
      "1000 input query terms found no hit:\t['ENST00000573664', 'ENST00000573667', 'ENST00000573668', 'ENST00000573671', 'ENST00000573673', 'ENS\n",
      "1000 input query terms found no hit:\t['ENST00000575204', 'ENST00000575207', 'ENST00000575209', 'ENST00000575212', 'ENST00000575213', 'ENS\n",
      "5 input query terms found dup hits:\t[('EPB41L4A-AS1', 2), ('ERVE-1', 2), ('ERVK13-1', 2), ('ESF1', 2), ('ESPNP', 2)]\n",
      "778 input query terms found no hit:\t['ENST00000576742', 'ENST00000576743', 'ENST00000576744', 'ENST00000576747', 'ENST00000576750', 'ENS\n",
      "39 input query terms found dup hits:\t[('FABP5P3', 2), ('FAHD2CP', 2), ('FAM106B', 2), ('FAM133CP', 2), ('FAM133DP', 2), ('FAM157A', 3), (\n",
      "478 input query terms found no hit:\t['F-box and WD repeat domain containing 2', 'F-box and WD repeat domain containing 4', 'F-box and WD\n",
      "17 input query terms found dup hits:\t[('FKBP1AP1', 2), ('FMO6P', 2), ('FMO9P', 2), ('FMR1-IT1', 2), ('FOLH1B', 2), ('FOXP1-IT1', 2), ('FR\n",
      "593 input query terms found no hit:\t['FJ623959', 'FJ649644', 'FJ649645', 'FJ655995', 'FJ664272', 'FJ706070', 'FJ711162', 'FJ763652', 'FJ\n",
      "25 input query terms found dup hits:\t[('GBP1P1', 2), ('GCSHP3', 3), ('GEMIN8P4', 2), ('GFOD1-AS1', 2), ('GGNBP1', 2), ('GGT8P', 2), ('GK-\n",
      "335 input query terms found no hit:\t['GATA binding protein 1', 'GATA binding protein 2', 'GATA binding protein 3', 'GATA binding protein\n",
      "46 input query terms found dup hits:\t[('GUCY1B2', 2), ('GUCY2EP', 2), ('GUSBP1', 2), ('GUSBP10', 2), ('GUSBP11', 2), ('GUSBP2', 2), ('GUS\n",
      "556 input query terms found no hit:\t['GU727624', 'GU727626', 'GU727627', 'GU727630', 'GU727631', 'GU727632', 'GU727633', 'GU727634', 'GU\n",
      "112 input query terms found dup hits:\t[('HSD17B1P1', 2), ('HSD17B7P2', 2), ('HSD3BP4', 2), ('HSFY1P1', 2), ('HSP90AA4P', 3), ('HSP90AB2P',\n",
      "235 input query terms found no hit:\t['HP07349', 'HP09025', 'HP11026', 'HPVC1', 'HQ021437', 'HQ132745', 'HQ132746', 'HQ132747', 'HQ132748\n",
      "22 input query terms found dup hits:\t[('ITGB5-AS1', 2), ('ITPKB-AS1', 2), ('JAZF1-AS1', 2), ('JRKL-AS1', 2), ('KCNH1-IT1', 2), ('KCTD9P2'\n",
      "446 input query terms found no hit:\t['ITGB5 antisense RNA 1', 'ITIH2 antisense RNA 1', 'ITIH2-AS1', 'ITIH4 antisense RNA 1', 'ITPK1 anti\n",
      "13 input query terms found dup hits:\t[('KYNUP1', 2), ('LAMB2P1', 2), ('LARGE-IT1', 2), ('LARS2-AS1', 2), ('LATS2-AS1', 2), ('LIMD1-AS1', \n",
      "612 input query terms found no hit:\t['KSP-cadherin', 'KTI11 homolog', 'KTI12 homolog', 'KTN1 antisense RNA 1', 'Kallmann syndrome 1 sequ\n",
      "26 input query terms found dup hits:\t[('LINC00235', 3), ('LINC00265', 2), ('LINC00301', 2), ('LINC00315', 2), ('LINC00322', 2), ('LINC003\n",
      "690 input query terms found no hit:\t['LINC00238', 'LINC00263', 'LINC00264', 'LINC00266-1', 'LINC00266-4P', 'LINC00271', 'LINC00277', 'LI\n",
      "921 input query terms found no hit:\t['LOC100506024', 'LOC100506025', 'LOC100506030', 'LOC100506032', 'LOC100506035', 'LOC100506045', 'LO\n",
      "12 input query terms found dup hits:\t[('LPAL2', 2), ('LRP5L', 2), ('LRRC37A11P', 2), ('LRRC37A4P', 3), ('LRRC37A5P', 2), ('LRRC37BP1', 2)\n",
      "615 input query terms found no hit:\t['LOC339240', 'LOC339290', 'LOC339316', 'LOC339442', 'LOC339505', 'LOC339524', 'LOC339529', 'LOC3395\n",
      "3 input query terms found dup hits:\t[('MAGI2-AS1', 2), ('MAP2K4P1', 2), ('MAPT-AS1', 4)]\n",
      "813 input query terms found no hit:\t['M13149', 'M13232', 'M13451', 'M13509', 'M13577', 'M13656', 'M13666', 'M13667', 'M13690', 'M13699',\n",
      "17 input query terms found dup hits:\t[('MAST4-AS1', 2), ('MAST4-IT1', 2), ('MBL1P', 2), ('MCF2L-AS1', 2), ('MDN1', 2), ('MEG8', 2), ('MEI\n",
      "124 input query terms found no hit:\t['MARS', 'MARVEL domain containing 1', 'MARVEL domain containing 2', 'MARVEL domain containing 3', '\n",
      "12 input query terms found dup hits:\t[('MIS12', 2), ('MIS18A-AS1', 2), ('MKRN9P', 2), ('MLIP-AS1', 2), ('MLLT10P1', 2), ('MMD2', 2), ('MM\n",
      "90 input query terms found no hit:\t['MIR4433', 'MIR4461', 'MIR4482-1', 'MIR4482-2', 'MIR4500 host gene', 'MIR4520A', 'MIR4520B', 'MIR45\n",
      "30 input query terms found dup hits:\t[('MSH5-SAPCD1', 6), ('MST1P2', 2), ('MSTO2P', 2), ('MSX2P1', 2), ('MT1CP', 2), ('MT1DP', 2), ('MT1I\n",
      "304 input query terms found no hit:\t['MS4A8B', 'MSANTD3-TMEFF1 readthrough', 'MSH5-SAPCD1 readthrough', 'MSK12', 'MSS51 mitochondrial tr\n",
      "953 input query terms found no hit:\t['NLR family', 'NLR family member X1', 'NMD3 homolog', 'NMDA receptor regulated 2', 'NME/NM23 family\n",
      "1000 input query terms found no hit:\t['NM_001007565', 'NM_001007593', 'NM_001007792', 'NM_001007793', 'NM_001007794', 'NM_001008', 'NM_00\n",
      "1000 input query terms found no hit:\t['NM_001040217', 'NM_001040260', 'NM_001040272', 'NM_001040273', 'NM_001040275', 'NM_001040276', 'NM\n",
      "1000 input query terms found no hit:\t['NM_001102609', 'NM_001102610', 'NM_001102614', 'NM_001102663', 'NM_001102664', 'NM_001102667', 'NM\n",
      "1000 input query terms found no hit:\t['NM_001135107', 'NM_001135109', 'NM_001135110', 'NM_001135113', 'NM_001135146', 'NM_001135148', 'NM\n",
      "1000 input query terms found no hit:\t['NM_001145639', 'NM_001145640', 'NM_001145645', 'NM_001145646', 'NM_001145648', 'NM_001145650', 'NM\n",
      "1000 input query terms found no hit:\t['NM_001167601', 'NM_001167604', 'NM_001167605', 'NM_001167606', 'NM_001167607', 'NM_001167609', 'NM\n",
      "1000 input query terms found no hit:\t['NM_001190417', 'NM_001190438', 'NM_001190440', 'NM_001190447', 'NM_001190455', 'NM_001190456', 'NM\n",
      "1000 input query terms found no hit:\t['NM_001202557', 'NM_001202558', 'NM_001202560', 'NM_001202855', 'NM_001202858', 'NM_001202859', 'NM\n",
      "1000 input query terms found no hit:\t['NM_001243963', 'NM_001243965', 'NM_001243975', 'NM_001243984', 'NM_001243985', 'NM_001243996', 'NM\n",
      "1000 input query terms found no hit:\t['NM_001258375', 'NM_001258376', 'NM_001258379', 'NM_001258380', 'NM_001258383', 'NM_001258384', 'NM\n",
      "1000 input query terms found no hit:\t['NM_002873', 'NM_002876', 'NM_002877', 'NM_002878', 'NM_002883', 'NM_002884', 'NM_002885', 'NM_0028\n",
      "1000 input query terms found no hit:\t['NM_005397', 'NM_005400', 'NM_005410', 'NM_005412', 'NM_005413', 'NM_005422', 'NM_005423', 'NM_0054\n",
      "1000 input query terms found no hit:\t['NM_014154', 'NM_014164', 'NM_014167', 'NM_014170', 'NM_014172', 'NM_014173', 'NM_014176', 'NM_0141\n",
      "1000 input query terms found no hit:\t['NM_017958', 'NM_017964', 'NM_017966', 'NM_017970', 'NM_017972', 'NM_017974', 'NM_017975', 'NM_0179\n",
      "1000 input query terms found no hit:\t['NM_023924', 'NM_023925', 'NM_023927', 'NM_023929', 'NM_023930', 'NM_023931', 'NM_023934', 'NM_0239\n",
      "1000 input query terms found no hit:\t['NM_033340', 'NM_033342', 'NM_033343', 'NM_033345', 'NM_033347', 'NM_033348', 'NM_033355', 'NM_0333\n",
      "1000 input query terms found no hit:\t['NM_145910', 'NM_145913', 'NM_145918', 'NM_146387', 'NM_146421', 'NM_147129', 'NM_147130', 'NM_1471\n",
      "1000 input query terms found no hit:\t['NM_177972', 'NM_177974', 'NM_177976', 'NM_177985', 'NM_177987', 'NM_177988', 'NM_177989', 'NM_1779\n",
      "4 input query terms found dup hits:\t[('NOP14-AS1', 2), ('NPY6R', 2), ('NRADDP', 2), ('NRON', 2)]\n",
      "827 input query terms found no hit:\t['NM_201538', 'NM_201539', 'NM_201540', 'NM_201541', 'NM_201542', 'NM_201543', 'NM_201545', 'NM_2015\n",
      "1000 input query terms found no hit:\t['NR_027149', 'NR_027155', 'NR_027162', 'NR_027171', 'NR_027173', 'NR_027176', 'NR_027180', 'NR_0272\n",
      "11 input query terms found dup hits:\t[('NSL1', 2), ('NSUN5P2', 2), ('NUDT9P1', 2), ('NUF2', 2), ('NUP210P1', 2), ('NXF4', 2), ('NXF5', 2)\n",
      "687 input query terms found no hit:\t['NR_045014', 'NR_045017', 'NR_045018', 'NR_045019', 'NR_045020', 'NR_045022', 'NR_045024', 'NR_0450\n",
      "26 input query terms found dup hits:\t[('OR2A9P', 2), ('OR3A4P', 2), ('OR4F13P', 2), ('OR5E1P', 4), ('OR6W1P', 3), ('OR7A2P', 2), ('OR7E15\n",
      "137 input query terms found no hit:\t['OR2W5', 'OR51H1P', 'OR5R1', 'OR8G2', 'ORAI calcium release-activated calcium modulator 1', 'ORAI c\n",
      "34 input query terms found dup hits:\t[('PGAM1P5', 2), ('PHKA2-AS1', 2), ('PI4KAP1', 2), ('PIN1P1', 2), ('PIN4P1', 2), ('PIP5K1P1', 2), ('\n",
      "200 input query terms found no hit:\t['PGCP1', 'PGM5 antisense RNA 1', 'PH domain and leucine rich repeat protein phosphatase 1', 'PH dom\n",
      "90 input query terms found dup hits:\t[('PRICKLE2-AS1', 2), ('PRICKLE2-AS2', 2), ('PRKAG2-AS1', 2), ('PRKY', 2), ('PRMT5-AS1', 2), ('PRORS\n",
      "234 input query terms found no hit:\t['PRH1-PRR4 readthrough', 'PRHOXNB', 'PRIC285', 'PRICKLE2 antisense RNA 1', 'PRICKLE2 antisense RNA \n",
      "15 input query terms found dup hits:\t[('RBMS1P1', 2), ('RBMY1A3P', 3), ('RBMY2EP', 2), ('RBMY2FP', 2), ('RBMY3AP', 3), ('RERG-IT1', 2), (\n",
      "620 input query terms found no hit:\t['RBM26 antisense RNA 1', 'RBM5 antisense RNA', 'RBMS3 antisense RNA 1', 'RBMS3 antisense RNA 2', 'R\n",
      "55 input query terms found dup hits:\t[('RNF185-AS1', 2), ('RNF5P1', 2), ('RNU4-4P', 2), ('RNU4-6P', 2), ('RNU4-7P', 2), ('RNU5A-8P', 2), \n",
      "355 input query terms found no hit:\t['RNF165', 'RNF185 antisense RNA 1', 'RNF216 intronic transcript 1', 'RNF219', 'RNMTL1', 'RNU1-12P',\n",
      "28 input query terms found dup hits:\t[('SCARNA17', 2), ('SCARNA4', 2), ('SCGB1B2P', 2), ('SCGB2B3P', 2), ('SDC4P', 2), ('SDHAP1', 2), ('S\n",
      "217 input query terms found no hit:\t['SCAN domain containing 1', 'SCAN domain containing 2 pseudogene', 'SCAN domain containing 3', 'SCA\n",
      "48 input query terms found dup hits:\t[('SLC6A10P', 2), ('SLC7A5P2', 2), ('SLC9A7P1', 2), ('SLC9A9-AS2', 2), ('SLCO1B7', 2), ('SMPD5', 2),\n",
      "115 input query terms found no hit:\t['SLC6A1 antisense RNA 1', 'SLC7A11 antisense RNA 1', 'SLC8A1 antisense RNA 1', 'SLC9A3R1', 'SLC9A3R\n",
      "20 input query terms found dup hits:\t[('SPRR2C', 2), ('SRD5A1P1', 2), ('SRGAP3-AS1', 2), ('SSR4P1', 2), ('ST13P4', 2), ('ST3GAL6-AS1', 2)\n",
      "430 input query terms found no hit:\t['SPRY domain containing 3', 'SPRY domain containing 4', 'SPRY domain containing 7', 'SPT2', 'SPTY2D\n",
      "23 input query terms found dup hits:\t[('TBC1D3P2', 2), ('TBC1D3P5', 2), ('TCAM1P', 2), ('TCEA1P2', 2), ('TCEAL3-AS1', 2), ('TCP10L2', 2),\n",
      "182 input query terms found no hit:\t['TATA box binding protein', 'TATA box binding protein like 2', 'TATA element modulatory factor 1', \n",
      "82 input query terms found dup hits:\t[('TPI1P2', 2), ('TPI1P3', 2), ('TPRG1-AS1', 2), ('TPRXL', 2), ('TPT1-AS1', 2), ('TPTE2P1', 2), ('TP\n",
      "257 input query terms found no hit:\t['TOR signaling pathway regulator-like', 'TOX high mobility group box family member 2', 'TOX high mo\n",
      "996 input query terms found no hit:\t['U09853', 'U09860', 'U09873', 'U09877', 'U09953', 'U1 small nuclear 12', 'U1 small nuclear 13', 'U1\n",
      "22 input query terms found dup hits:\t[('UBE2MP1', 2), ('UBE2Q2P1', 3), ('UBE2Q2P2', 3), ('UFL1-AS1', 2), ('ULK4P1', 2), ('ULK4P2', 3), ('\n",
      "620 input query terms found no hit:\t['U7 small nuclear 11 pseudogene', 'U7 small nuclear 13 pseudogene', 'U7 small nuclear 14 pseudogene\n",
      "22 input query terms found dup hits:\t[('VIPR1-AS1', 2), ('VN1R10P', 2), ('VPS13A-AS1', 2), ('VTRNA2-1', 2), ('WASF3-AS1', 2), ('WASH2P', \n",
      "675 input query terms found no hit:\t['VIMP', 'VIPR1 antisense RNA 1', 'VLGN1945', 'VMA21 vacuolar H+-ATPase homolog', 'VNN3', 'VPRBP', '\n",
      "15 input query terms found dup hits:\t[('XXYLT1-AS2', 2), ('YEATS2-AS1', 2), ('YWHAZP2', 2), ('YWHAZP3', 2), ('ZBTB40-IT1', 2), ('ZDHHC20-\n",
      "424 input query terms found no hit:\t['XR_132610', 'XR_132614', 'XR_132620', 'XR_132622', 'XR_132679', 'XR_132705', 'XR_132709', 'XR_1327\n",
      "16 input query terms found dup hits:\t[('ZNF625-ZNF20', 2), ('ZNF630-AS1', 2), ('ZNF658B', 2), ('ZNF702P', 2), ('ZNF781', 2), ('ZNF815P', \n",
      "717 input query terms found no hit:\t['ZNF625-ZNF20 readthrough', 'ZNF630 antisense RNA 1', 'ZNF642', 'ZNF643', 'ZNF645', 'ZNF664-FAM101A\n",
      "998 input query terms found no hit:\t['ankyrin repeat and sterile alpha motif domain containing 4B', 'ankyrin repeat and sterile alpha mo\n",
      "999 input query terms found no hit:\t['candidate 9', 'cannabinoid receptor 1', 'cannabinoid receptor 2', 'cannabinoid receptor interactin\n",
      "998 input query terms found no hit:\t['chromosome 3 open reading frame 23', 'chromosome 3 open reading frame 24', 'chromosome 3 open read\n",
      "998 input query terms found no hit:\t['cytochrome c oxidase subunit Va', 'cytochrome c oxidase subunit Vb', 'cytochrome c-1', 'cytoglobin\n",
      "997 input query terms found no hit:\t['family with sequence similarity 105', 'family with sequence similarity 106', 'family with sequence\n",
      "999 input query terms found no hit:\t['guanine nucleotide binding protein-like 3', 'guanosine monophosphate reductase', 'guanosine monoph\n",
      "999 input query terms found no hit:\t['jumonji', 'jumonji C domain containing histone demethylase 1 homolog D', 'jumonji domain containin\n",
      "999 input query terms found no hit:\t['low density lipoprotein receptor-related protein 12', 'low density lipoprotein receptor-related pr\n",
      "1000 input query terms found no hit:\t['microRNA 19a', 'microRNA 19b-1', 'microRNA 19b-2', 'microRNA 200a', 'microRNA 200b', 'microRNA 200\n",
      "999 input query terms found no hit:\t['microRNA let-7f-2', 'microRNA let-7g', 'microRNA let-7i', 'microRNA mir-4482-2', 'microcephalin 1'\n",
      "1000 input query terms found no hit:\t['oligophrenin 1', 'oligosaccharyltransferase 4 homolog', 'oligosaccharyltransferase complex subunit\n",
      "1000 input query terms found no hit:\t['proprotein convertase subtilisin/kexin type 6', 'proprotein convertase subtilisin/kexin type 7', '\n",
      "1000 input query terms found no hit:\t['secreted', 'secreted', 'secreted LY6/PLAUR domain containing 1', 'secreted and transmembrane 1', '\n",
      "998 input query terms found no hit:\t['subunit zeta 1', 'subunit zeta 2', 'succinate dehydrogenase complex', 'succinate dehydrogenase com\n",
      "1000 input query terms found no hit:\t['transmembrane protein 39B', 'transmembrane protein 40', 'transmembrane protein 41A', 'transmembran\n",
      "1000 input query terms found no hit:\t['uncharacterized LOC100288728', 'uncharacterized LOC100288748', 'uncharacterized LOC100288798', 'un\n",
      "1000 input query terms found no hit:\t['uncharacterized LOC283867', 'uncharacterized LOC283887', 'uncharacterized LOC283902', 'uncharacter\n",
      "1000 input query terms found no hit:\t['zinc finger and BTB domain containing 16', 'zinc finger and BTB domain containing 17', 'zinc finge\n",
      "1000 input query terms found no hit:\t['8-dihydrobiopterin:NADP+ oxidoreductase', '8-sialyltransferase 1', '8-sialyltransferase 2', '8-sia\n",
      "998 input query terms found no hit:\t['BC042076', 'BC042133', 'BC042381', 'BC042448', 'BC042871', 'BC043000', 'BC043001', 'BC043194', 'BC\n",
      "1000 input query terms found no hit:\t['ENST00000273183', 'ENST00000273261', 'ENST00000273286', 'ENST00000273317', 'ENST00000273371', 'ENS\n",
      "1000 input query terms found no hit:\t['ENST00000330899', 'ENST00000330943', 'ENST00000330953', 'ENST00000330964', 'ENST00000330997', 'ENS\n",
      "1000 input query terms found no hit:\t['ENST00000368911', 'ENST00000368918', 'ENST00000368921', 'ENST00000368924', 'ENST00000368932', 'ENS\n",
      "1000 input query terms found no hit:\t['ENST00000391226', 'ENST00000391234', 'ENST00000391240', 'ENST00000391247', 'ENST00000391257', 'ENS\n",
      "1000 input query terms found no hit:\t['ENST00000434330', 'ENST00000434335', 'ENST00000434459', 'ENST00000434519', 'ENST00000434632', 'ENS\n",
      "996 input query terms found no hit:\t['ENST00000514061', 'ENST00000514170', 'ENST00000514199', 'ENST00000514241', 'ENST00000514250', 'ENS\n",
      "1000 input query terms found no hit:\t['Hsp40', 'Hsp70 interacting protein', 'Hu antigen B', 'Hu antigen C', 'Hu antigen D', 'Hu antigen R\n",
      "1000 input query terms found no hit:\t['NM_001008237', 'NM_001008270', 'NM_001008271', 'NM_001008273', 'NM_001008274', 'NM_001008387', 'NM\n",
      "1000 input query terms found no hit:\t['NM_001099285', 'NM_001099286', 'NM_001099287', 'NM_001099289', 'NM_001099293', 'NM_001099335', 'NM\n",
      "1000 input query terms found no hit:\t['NM_001166137', 'NM_001166160', 'NM_001166175', 'NM_001166209', 'NM_001166237', 'NM_001166239', 'NM\n",
      "1000 input query terms found no hit:\t['NM_001407', 'NM_001408', 'NM_001409', 'NM_001410', 'NM_001412', 'NM_001417', 'NM_001419', 'NM_0014\n",
      "1000 input query terms found no hit:\t['NM_003184', 'NM_003185', 'NM_003189', 'NM_003190', 'NM_003194', 'NM_003196', 'NM_003200', 'NM_0032\n",
      "1000 input query terms found no hit:\t['NM_005094', 'NM_005095', 'NM_005097', 'NM_005098', 'NM_005099', 'NM_005100', 'NM_005102', 'NM_0051\n",
      "1000 input query terms found no hit:\t['NM_006961', 'NM_006962', 'NM_006965', 'NM_006978', 'NM_006979', 'NM_006980', 'NM_006983', 'NM_0069\n",
      "1000 input query terms found no hit:\t['NM_014991', 'NM_014992', 'NM_014994', 'NM_014997', 'NM_015000', 'NM_015001', 'NM_015004', 'NM_0150\n",
      "1000 input query terms found no hit:\t['NM_018029', 'NM_018031', 'NM_018032', 'NM_018034', 'NM_018036', 'NM_018039', 'NM_018040', 'NM_0180\n",
      "1000 input query terms found no hit:\t['NM_022064', 'NM_022066', 'NM_022068', 'NM_022070', 'NM_022071', 'NM_022073', 'NM_022076', 'NM_0220\n",
      "1000 input query terms found no hit:\t['NM_032413', 'NM_032414', 'NM_032417', 'NM_032420', 'NM_032423', 'NM_032424', 'NM_032429', 'NM_0324\n",
      "1000 input query terms found no hit:\t['NM_144690', 'NM_144691', 'NM_144693', 'NM_144694', 'NM_144696', 'NM_144698', 'NM_144699', 'NM_1447\n",
      "1000 input query terms found no hit:\t['NM_178140', 'NM_178148', 'NM_178155', 'NM_178160', 'NM_178169', 'NM_178170', 'NM_178171', 'NM_1781\n",
      "1000 input query terms found no hit:\t['NR_002753', 'NR_002754', 'NR_002756', 'NR_002757', 'NR_002763', 'NR_002765', 'NR_002768', 'NR_0027\n",
      "1000 input query terms found no hit:\t['NR_026893', 'NR_026894', 'NR_026901', 'NR_026902', 'NR_026903', 'NR_026904', 'NR_026905', 'NR_0269\n",
      "1000 input query terms found no hit:\t['NR_031711', 'NR_031712', 'NR_031713', 'NR_031714', 'NR_031717', 'NR_031718', 'NR_031719', 'NR_0317\n",
      "995 input query terms found no hit:\t['NR_038440', 'NR_038441', 'NR_038442', 'NR_038443', 'NR_038444', 'NR_038445', 'NR_038446', 'NR_0384\n",
      "1 input query terms found dup hits:\t[('U1', 2)]\n",
      "996 input query terms found no hit:\t['Troyer syndrome', 'U02020', 'U03399', 'U11/U12', 'U12-dependent splicing', 'U22030', 'U3 small nuc\n",
      "163 input query terms found no hit:\t['rhombotin-like 2', 'sacsin', 'salivary', 'sarcomeric', 'scaffold attachment factor A', 'secreted g\n"
     ]
    }
   ],
   "source": [
    "if NORMALIZE_GENE:\n",
    "    genetic_data = normalize_gene_symbols_in_index(genetic_data)"
   ],
   "metadata": {
    "collapsed": false,
    "ExecuteTime": {
     "end_time": "2024-01-27T22:55:20.523765759Z",
     "start_time": "2024-01-27T22:43:42.523964884Z"
    }
   }
  },
  {
   "cell_type": "code",
   "execution_count": 24,
   "outputs": [
    {
     "data": {
      "text/plain": "        GSM3518336  GSM3518337  GSM3518338  GSM3518339  GSM3518340  \\\nCA14      1.986400    2.091525    2.028677    1.834493    1.725591   \nCD79A     1.947850    2.056601    1.843132    2.541186    2.152411   \nEOS       3.990264    4.222771    4.142307    3.648134    4.004018   \nFUSE      6.502828    6.232021    6.650144    6.464514    6.564869   \nFAS       3.567216    3.945198    3.806143    3.448977    3.028453   \nGRID2     2.103987    2.434128    2.386527    3.269374    2.323664   \nPARN      1.523446    1.717991    1.770234    1.830467    1.150353   \nPTPRF     3.077774    3.181721    3.011699    3.066368    3.066777   \nRCC1      3.642806    3.577252    3.697906    3.989598    3.908650   \nTBP       5.065956    5.122564    4.999182    5.042796    5.086878   \nTPR       5.823547    5.298815    5.705911    5.456061    5.843089   \nU1        7.341034    7.214453    7.172158    7.382273    7.163214   \nEPPIN     1.121362    1.487695    1.379291    2.048438    1.437611   \nGLA       3.926747    3.666442    3.737437    3.644638    4.047183   \nHASPIN    3.947044    3.015191    3.177611    3.313601    2.340809   \nSP1       4.562661    4.639774    4.488462    4.466814    4.581863   \nTESMIN    1.461178    1.525379    1.497685    1.678813    1.424534   \n\n        GSM3518341  GSM3518342  GSM3518343  GSM3518344  GSM3518345  ...  \\\nCA14      2.423715    2.229224    2.118898    2.043493    1.876645  ...   \nCD79A     1.940478    1.776484    1.832181    2.263580    2.308381  ...   \nEOS       3.416929    4.155719    4.278521    4.382864    4.437475  ...   \nFUSE      6.018880    6.516231    6.297208    6.548300    6.070564  ...   \nFAS       2.911470    3.314774    2.827372    3.624759    3.073130  ...   \nGRID2     2.542017    2.634600    3.166663    2.792542    2.336443  ...   \nPARN      1.849442    1.674650    1.521761    1.757431    1.776754  ...   \nPTPRF     2.974883    3.003090    3.153287    3.347632    3.205268  ...   \nRCC1      3.456961    4.037533    3.633629    3.687289    3.555085  ...   \nTBP       4.791060    5.008241    5.079071    4.933273    4.983665  ...   \nTPR       4.922877    5.624339    5.483099    5.614913    5.715534  ...   \nU1        7.341782    7.180889    7.388920    7.386630    7.393218  ...   \nEPPIN     1.205033    1.941206    1.387988    1.288042    1.733011  ...   \nGLA       3.720427    3.819909    3.946729    4.138400    4.129947  ...   \nHASPIN    2.893965    2.843359    3.574873    3.719909    2.938246  ...   \nSP1       4.343256    4.665967    4.740451    4.641770    4.501059  ...   \nTESMIN    1.906651    2.036492    1.283986    1.768372    1.760931  ...   \n\n        GSM3518370  GSM3518371  GSM3518372  GSM3518373  GSM3518374  \\\nCA14      1.873719    1.662211    1.818252    1.755672    1.768866   \nCD79A     2.715668    1.759831    1.689301    2.341217    2.065179   \nEOS       4.461533    3.970769    4.102581    3.931683    4.511763   \nFUSE      6.489048    6.470714    6.463539    6.641926    6.527462   \nFAS       2.953796    3.420557    3.018158    3.633000    3.510964   \nGRID2     2.182409    2.877743    2.138206    2.871710    2.857754   \nPARN      1.547016    1.705665    1.350861    1.459240    1.534862   \nPTPRF     2.909310    3.111417    3.221858    3.075737    2.982429   \nRCC1      3.844183    3.729384    3.374019    3.630233    3.936260   \nTBP       5.054642    5.039934    4.934077    4.908610    5.076208   \nTPR       5.382954    5.496325    5.393853    5.665776    5.815536   \nU1        7.292377    7.513519    7.297683    7.449600    7.582821   \nEPPIN     1.485658    1.382526    1.629837    1.142780    1.846628   \nGLA       3.953897    4.255949    4.192849    3.877853    3.843362   \nHASPIN    3.258223    3.242532    2.659329    2.171089    2.760636   \nSP1       4.609829    4.558222    4.504053    4.570090    4.722368   \nTESMIN    1.761006    1.667305    1.652104    1.902343    1.544008   \n\n        GSM3518375  GSM3518376  GSM3518377  GSM3518378  GSM3518379  \nCA14      1.866015    2.094002    1.774624    2.521507    2.178036  \nCD79A     1.948206    2.125148    2.302319    1.868907    2.260405  \nEOS       3.604085    4.378747    4.116883    4.269606    4.240031  \nFUSE      6.693443    6.498309    6.431285    6.465823    6.381695  \nFAS       3.960850    3.519374    4.031405    3.453952    3.354064  \nGRID2     1.915166    2.401003    2.736337    2.218750    2.747855  \nPARN      1.374706    1.561535    1.598032    1.537481    1.449574  \nPTPRF     3.126628    2.974462    3.011335    3.143614    3.116424  \nRCC1      3.767948    3.712397    3.997099    3.897391    3.651943  \nTBP       4.983788    5.061383    4.976736    5.048106    5.063512  \nTPR       5.639679    5.830273    5.574773    5.722654    5.763707  \nU1        7.341434    7.281284    7.335625    7.100975    7.296058  \nEPPIN     1.482143    1.647447    1.255011    1.559996    1.335845  \nGLA       3.913072    4.260235    4.131803    3.632856    3.742355  \nHASPIN    2.596948    3.307171    3.662745    3.563003    3.755693  \nSP1       4.531183    4.500530    4.474256    4.803849    4.525692  \nTESMIN    1.269260    1.794567    1.726075    1.428295    1.700414  \n\n[17 rows x 44 columns]",
      "text/html": "<div>\n<style scoped>\n    .dataframe tbody tr th:only-of-type {\n        vertical-align: middle;\n    }\n\n    .dataframe tbody tr th {\n        vertical-align: top;\n    }\n\n    .dataframe thead th {\n        text-align: right;\n    }\n</style>\n<table border=\"1\" class=\"dataframe\">\n  <thead>\n    <tr style=\"text-align: right;\">\n      <th></th>\n      <th>GSM3518336</th>\n      <th>GSM3518337</th>\n      <th>GSM3518338</th>\n      <th>GSM3518339</th>\n      <th>GSM3518340</th>\n      <th>GSM3518341</th>\n      <th>GSM3518342</th>\n      <th>GSM3518343</th>\n      <th>GSM3518344</th>\n      <th>GSM3518345</th>\n      <th>...</th>\n      <th>GSM3518370</th>\n      <th>GSM3518371</th>\n      <th>GSM3518372</th>\n      <th>GSM3518373</th>\n      <th>GSM3518374</th>\n      <th>GSM3518375</th>\n      <th>GSM3518376</th>\n      <th>GSM3518377</th>\n      <th>GSM3518378</th>\n      <th>GSM3518379</th>\n    </tr>\n  </thead>\n  <tbody>\n    <tr>\n      <th>CA14</th>\n      <td>1.986400</td>\n      <td>2.091525</td>\n      <td>2.028677</td>\n      <td>1.834493</td>\n      <td>1.725591</td>\n      <td>2.423715</td>\n      <td>2.229224</td>\n      <td>2.118898</td>\n      <td>2.043493</td>\n      <td>1.876645</td>\n      <td>...</td>\n      <td>1.873719</td>\n      <td>1.662211</td>\n      <td>1.818252</td>\n      <td>1.755672</td>\n      <td>1.768866</td>\n      <td>1.866015</td>\n      <td>2.094002</td>\n      <td>1.774624</td>\n      <td>2.521507</td>\n      <td>2.178036</td>\n    </tr>\n    <tr>\n      <th>CD79A</th>\n      <td>1.947850</td>\n      <td>2.056601</td>\n      <td>1.843132</td>\n      <td>2.541186</td>\n      <td>2.152411</td>\n      <td>1.940478</td>\n      <td>1.776484</td>\n      <td>1.832181</td>\n      <td>2.263580</td>\n      <td>2.308381</td>\n      <td>...</td>\n      <td>2.715668</td>\n      <td>1.759831</td>\n      <td>1.689301</td>\n      <td>2.341217</td>\n      <td>2.065179</td>\n      <td>1.948206</td>\n      <td>2.125148</td>\n      <td>2.302319</td>\n      <td>1.868907</td>\n      <td>2.260405</td>\n    </tr>\n    <tr>\n      <th>EOS</th>\n      <td>3.990264</td>\n      <td>4.222771</td>\n      <td>4.142307</td>\n      <td>3.648134</td>\n      <td>4.004018</td>\n      <td>3.416929</td>\n      <td>4.155719</td>\n      <td>4.278521</td>\n      <td>4.382864</td>\n      <td>4.437475</td>\n      <td>...</td>\n      <td>4.461533</td>\n      <td>3.970769</td>\n      <td>4.102581</td>\n      <td>3.931683</td>\n      <td>4.511763</td>\n      <td>3.604085</td>\n      <td>4.378747</td>\n      <td>4.116883</td>\n      <td>4.269606</td>\n      <td>4.240031</td>\n    </tr>\n    <tr>\n      <th>FUSE</th>\n      <td>6.502828</td>\n      <td>6.232021</td>\n      <td>6.650144</td>\n      <td>6.464514</td>\n      <td>6.564869</td>\n      <td>6.018880</td>\n      <td>6.516231</td>\n      <td>6.297208</td>\n      <td>6.548300</td>\n      <td>6.070564</td>\n      <td>...</td>\n      <td>6.489048</td>\n      <td>6.470714</td>\n      <td>6.463539</td>\n      <td>6.641926</td>\n      <td>6.527462</td>\n      <td>6.693443</td>\n      <td>6.498309</td>\n      <td>6.431285</td>\n      <td>6.465823</td>\n      <td>6.381695</td>\n    </tr>\n    <tr>\n      <th>FAS</th>\n      <td>3.567216</td>\n      <td>3.945198</td>\n      <td>3.806143</td>\n      <td>3.448977</td>\n      <td>3.028453</td>\n      <td>2.911470</td>\n      <td>3.314774</td>\n      <td>2.827372</td>\n      <td>3.624759</td>\n      <td>3.073130</td>\n      <td>...</td>\n      <td>2.953796</td>\n      <td>3.420557</td>\n      <td>3.018158</td>\n      <td>3.633000</td>\n      <td>3.510964</td>\n      <td>3.960850</td>\n      <td>3.519374</td>\n      <td>4.031405</td>\n      <td>3.453952</td>\n      <td>3.354064</td>\n    </tr>\n    <tr>\n      <th>GRID2</th>\n      <td>2.103987</td>\n      <td>2.434128</td>\n      <td>2.386527</td>\n      <td>3.269374</td>\n      <td>2.323664</td>\n      <td>2.542017</td>\n      <td>2.634600</td>\n      <td>3.166663</td>\n      <td>2.792542</td>\n      <td>2.336443</td>\n      <td>...</td>\n      <td>2.182409</td>\n      <td>2.877743</td>\n      <td>2.138206</td>\n      <td>2.871710</td>\n      <td>2.857754</td>\n      <td>1.915166</td>\n      <td>2.401003</td>\n      <td>2.736337</td>\n      <td>2.218750</td>\n      <td>2.747855</td>\n    </tr>\n    <tr>\n      <th>PARN</th>\n      <td>1.523446</td>\n      <td>1.717991</td>\n      <td>1.770234</td>\n      <td>1.830467</td>\n      <td>1.150353</td>\n      <td>1.849442</td>\n      <td>1.674650</td>\n      <td>1.521761</td>\n      <td>1.757431</td>\n      <td>1.776754</td>\n      <td>...</td>\n      <td>1.547016</td>\n      <td>1.705665</td>\n      <td>1.350861</td>\n      <td>1.459240</td>\n      <td>1.534862</td>\n      <td>1.374706</td>\n      <td>1.561535</td>\n      <td>1.598032</td>\n      <td>1.537481</td>\n      <td>1.449574</td>\n    </tr>\n    <tr>\n      <th>PTPRF</th>\n      <td>3.077774</td>\n      <td>3.181721</td>\n      <td>3.011699</td>\n      <td>3.066368</td>\n      <td>3.066777</td>\n      <td>2.974883</td>\n      <td>3.003090</td>\n      <td>3.153287</td>\n      <td>3.347632</td>\n      <td>3.205268</td>\n      <td>...</td>\n      <td>2.909310</td>\n      <td>3.111417</td>\n      <td>3.221858</td>\n      <td>3.075737</td>\n      <td>2.982429</td>\n      <td>3.126628</td>\n      <td>2.974462</td>\n      <td>3.011335</td>\n      <td>3.143614</td>\n      <td>3.116424</td>\n    </tr>\n    <tr>\n      <th>RCC1</th>\n      <td>3.642806</td>\n      <td>3.577252</td>\n      <td>3.697906</td>\n      <td>3.989598</td>\n      <td>3.908650</td>\n      <td>3.456961</td>\n      <td>4.037533</td>\n      <td>3.633629</td>\n      <td>3.687289</td>\n      <td>3.555085</td>\n      <td>...</td>\n      <td>3.844183</td>\n      <td>3.729384</td>\n      <td>3.374019</td>\n      <td>3.630233</td>\n      <td>3.936260</td>\n      <td>3.767948</td>\n      <td>3.712397</td>\n      <td>3.997099</td>\n      <td>3.897391</td>\n      <td>3.651943</td>\n    </tr>\n    <tr>\n      <th>TBP</th>\n      <td>5.065956</td>\n      <td>5.122564</td>\n      <td>4.999182</td>\n      <td>5.042796</td>\n      <td>5.086878</td>\n      <td>4.791060</td>\n      <td>5.008241</td>\n      <td>5.079071</td>\n      <td>4.933273</td>\n      <td>4.983665</td>\n      <td>...</td>\n      <td>5.054642</td>\n      <td>5.039934</td>\n      <td>4.934077</td>\n      <td>4.908610</td>\n      <td>5.076208</td>\n      <td>4.983788</td>\n      <td>5.061383</td>\n      <td>4.976736</td>\n      <td>5.048106</td>\n      <td>5.063512</td>\n    </tr>\n    <tr>\n      <th>TPR</th>\n      <td>5.823547</td>\n      <td>5.298815</td>\n      <td>5.705911</td>\n      <td>5.456061</td>\n      <td>5.843089</td>\n      <td>4.922877</td>\n      <td>5.624339</td>\n      <td>5.483099</td>\n      <td>5.614913</td>\n      <td>5.715534</td>\n      <td>...</td>\n      <td>5.382954</td>\n      <td>5.496325</td>\n      <td>5.393853</td>\n      <td>5.665776</td>\n      <td>5.815536</td>\n      <td>5.639679</td>\n      <td>5.830273</td>\n      <td>5.574773</td>\n      <td>5.722654</td>\n      <td>5.763707</td>\n    </tr>\n    <tr>\n      <th>U1</th>\n      <td>7.341034</td>\n      <td>7.214453</td>\n      <td>7.172158</td>\n      <td>7.382273</td>\n      <td>7.163214</td>\n      <td>7.341782</td>\n      <td>7.180889</td>\n      <td>7.388920</td>\n      <td>7.386630</td>\n      <td>7.393218</td>\n      <td>...</td>\n      <td>7.292377</td>\n      <td>7.513519</td>\n      <td>7.297683</td>\n      <td>7.449600</td>\n      <td>7.582821</td>\n      <td>7.341434</td>\n      <td>7.281284</td>\n      <td>7.335625</td>\n      <td>7.100975</td>\n      <td>7.296058</td>\n    </tr>\n    <tr>\n      <th>EPPIN</th>\n      <td>1.121362</td>\n      <td>1.487695</td>\n      <td>1.379291</td>\n      <td>2.048438</td>\n      <td>1.437611</td>\n      <td>1.205033</td>\n      <td>1.941206</td>\n      <td>1.387988</td>\n      <td>1.288042</td>\n      <td>1.733011</td>\n      <td>...</td>\n      <td>1.485658</td>\n      <td>1.382526</td>\n      <td>1.629837</td>\n      <td>1.142780</td>\n      <td>1.846628</td>\n      <td>1.482143</td>\n      <td>1.647447</td>\n      <td>1.255011</td>\n      <td>1.559996</td>\n      <td>1.335845</td>\n    </tr>\n    <tr>\n      <th>GLA</th>\n      <td>3.926747</td>\n      <td>3.666442</td>\n      <td>3.737437</td>\n      <td>3.644638</td>\n      <td>4.047183</td>\n      <td>3.720427</td>\n      <td>3.819909</td>\n      <td>3.946729</td>\n      <td>4.138400</td>\n      <td>4.129947</td>\n      <td>...</td>\n      <td>3.953897</td>\n      <td>4.255949</td>\n      <td>4.192849</td>\n      <td>3.877853</td>\n      <td>3.843362</td>\n      <td>3.913072</td>\n      <td>4.260235</td>\n      <td>4.131803</td>\n      <td>3.632856</td>\n      <td>3.742355</td>\n    </tr>\n    <tr>\n      <th>HASPIN</th>\n      <td>3.947044</td>\n      <td>3.015191</td>\n      <td>3.177611</td>\n      <td>3.313601</td>\n      <td>2.340809</td>\n      <td>2.893965</td>\n      <td>2.843359</td>\n      <td>3.574873</td>\n      <td>3.719909</td>\n      <td>2.938246</td>\n      <td>...</td>\n      <td>3.258223</td>\n      <td>3.242532</td>\n      <td>2.659329</td>\n      <td>2.171089</td>\n      <td>2.760636</td>\n      <td>2.596948</td>\n      <td>3.307171</td>\n      <td>3.662745</td>\n      <td>3.563003</td>\n      <td>3.755693</td>\n    </tr>\n    <tr>\n      <th>SP1</th>\n      <td>4.562661</td>\n      <td>4.639774</td>\n      <td>4.488462</td>\n      <td>4.466814</td>\n      <td>4.581863</td>\n      <td>4.343256</td>\n      <td>4.665967</td>\n      <td>4.740451</td>\n      <td>4.641770</td>\n      <td>4.501059</td>\n      <td>...</td>\n      <td>4.609829</td>\n      <td>4.558222</td>\n      <td>4.504053</td>\n      <td>4.570090</td>\n      <td>4.722368</td>\n      <td>4.531183</td>\n      <td>4.500530</td>\n      <td>4.474256</td>\n      <td>4.803849</td>\n      <td>4.525692</td>\n    </tr>\n    <tr>\n      <th>TESMIN</th>\n      <td>1.461178</td>\n      <td>1.525379</td>\n      <td>1.497685</td>\n      <td>1.678813</td>\n      <td>1.424534</td>\n      <td>1.906651</td>\n      <td>2.036492</td>\n      <td>1.283986</td>\n      <td>1.768372</td>\n      <td>1.760931</td>\n      <td>...</td>\n      <td>1.761006</td>\n      <td>1.667305</td>\n      <td>1.652104</td>\n      <td>1.902343</td>\n      <td>1.544008</td>\n      <td>1.269260</td>\n      <td>1.794567</td>\n      <td>1.726075</td>\n      <td>1.428295</td>\n      <td>1.700414</td>\n    </tr>\n  </tbody>\n</table>\n<p>17 rows × 44 columns</p>\n</div>"
     },
     "execution_count": 24,
     "metadata": {},
     "output_type": "execute_result"
    }
   ],
   "source": [
    "genetic_data"
   ],
   "metadata": {
    "collapsed": false,
    "ExecuteTime": {
     "end_time": "2024-01-27T22:55:20.538200727Z",
     "start_time": "2024-01-27T22:55:20.534132153Z"
    }
   }
  },
  {
   "cell_type": "code",
   "execution_count": 25,
   "outputs": [],
   "source": [
    "merged_data = geo_merge_clinical_genetic_data(selected_clinical_data, genetic_data)\n",
    "# The preprocessing runs through, which means is_available should be True\n",
    "is_available = True"
   ],
   "metadata": {
    "collapsed": false,
    "ExecuteTime": {
     "end_time": "2024-01-27T22:55:20.541075824Z",
     "start_time": "2024-01-27T22:55:20.536566577Z"
    }
   }
  },
  {
   "cell_type": "code",
   "execution_count": 26,
   "outputs": [
    {
     "name": "stdout",
     "output_type": "stream",
     "text": [
      "The merged dataset contains 44 samples.\n"
     ]
    }
   ],
   "source": [
    "print(f\"The merged dataset contains {len(merged_data)} samples.\")"
   ],
   "metadata": {
    "collapsed": false,
    "ExecuteTime": {
     "end_time": "2024-01-27T22:55:20.543966491Z",
     "start_time": "2024-01-27T22:55:20.539542094Z"
    }
   }
  },
  {
   "cell_type": "code",
   "execution_count": 27,
   "outputs": [
    {
     "name": "stdout",
     "output_type": "stream",
     "text": [
      "For the feature 'Vitamin D Levels', the least common label is '1.0' with 20 occurrences. This represents 45.45% of the dataset.\n",
      "The distribution of the feature 'Vitamin D Levels' in this dataset is fine.\n",
      "\n",
      "For the feature 'Gender', the least common label is '0.0' with 20 occurrences. This represents 45.45% of the dataset.\n",
      "The distribution of the feature 'Gender' in this dataset is fine.\n",
      "\n"
     ]
    },
    {
     "data": {
      "text/plain": "False"
     },
     "execution_count": 27,
     "metadata": {},
     "output_type": "execute_result"
    }
   ],
   "source": [
    "is_trait_biased, merged_data = judge_and_remove_biased_features(merged_data, TRAIT, trait_type=trait_type)\n",
    "is_trait_biased"
   ],
   "metadata": {
    "collapsed": false,
    "ExecuteTime": {
     "end_time": "2024-01-27T22:55:20.617993398Z",
     "start_time": "2024-01-27T22:55:20.543010964Z"
    }
   }
  },
  {
   "cell_type": "code",
   "execution_count": 28,
   "outputs": [
    {
     "name": "stdout",
     "output_type": "stream",
     "text": [
      "A new JSON file was created at: ../../output1/Haoyang/Vitamin-D-Levels/cohort_info.json\n"
     ]
    }
   ],
   "source": [
    "if is_available:\n",
    "    save_cohort_info(cohort, JSON_PATH, is_available, is_trait_biased, merged_data, note='')\n",
    "else:\n",
    "    save_cohort_info(cohort, JSON_PATH, is_available)"
   ],
   "metadata": {
    "collapsed": false,
    "ExecuteTime": {
     "end_time": "2024-01-27T22:55:20.618185692Z",
     "start_time": "2024-01-27T22:55:20.597681015Z"
    }
   }
  },
  {
   "cell_type": "code",
   "execution_count": 29,
   "outputs": [],
   "source": [
    "merged_data.head()\n",
    "if not is_trait_biased:\n",
    "    merged_data.to_csv(os.path.join(OUTPUT_DIR, cohort + '.csv'), index=False)"
   ],
   "metadata": {
    "collapsed": false,
    "ExecuteTime": {
     "end_time": "2024-01-27T22:55:20.618266354Z",
     "start_time": "2024-01-27T22:55:20.597764743Z"
    }
   }
  },
  {
   "cell_type": "markdown",
   "source": [
    "### 3. Do regression & Cross Validation"
   ],
   "metadata": {
    "id": "-MTPhRGxJV7I",
    "ExecuteTime": {
     "end_time": "2023-12-31T03:58:22.271683755Z",
     "start_time": "2023-12-31T03:58:22.246557674Z"
    }
   },
   "outputs": [
    {
     "data": {
      "text/plain": "   cohort_id  is_usable  is_available is_biased has_age has_gender  \\\n0       Xena       True          True     False    True       True   \n3  GSE248830       True          True     False    True       True   \n\n   sample_size note  \n0       1215.0       \n3         38.0       ",
      "text/html": "<div>\n<style scoped>\n    .dataframe tbody tr th:only-of-type {\n        vertical-align: middle;\n    }\n\n    .dataframe tbody tr th {\n        vertical-align: top;\n    }\n\n    .dataframe thead th {\n        text-align: right;\n    }\n</style>\n<table border=\"1\" class=\"dataframe\">\n  <thead>\n    <tr style=\"text-align: right;\">\n      <th></th>\n      <th>cohort_id</th>\n      <th>is_usable</th>\n      <th>is_available</th>\n      <th>is_biased</th>\n      <th>has_age</th>\n      <th>has_gender</th>\n      <th>sample_size</th>\n      <th>note</th>\n    </tr>\n  </thead>\n  <tbody>\n    <tr>\n      <th>0</th>\n      <td>Xena</td>\n      <td>True</td>\n      <td>True</td>\n      <td>False</td>\n      <td>True</td>\n      <td>True</td>\n      <td>1215.0</td>\n      <td></td>\n    </tr>\n    <tr>\n      <th>3</th>\n      <td>GSE248830</td>\n      <td>True</td>\n      <td>True</td>\n      <td>False</td>\n      <td>True</td>\n      <td>True</td>\n      <td>38.0</td>\n      <td></td>\n    </tr>\n  </tbody>\n</table>\n</div>"
     },
     "execution_count": 48,
     "metadata": {},
     "output_type": "execute_result"
    }
   ],
   "execution_count": 48
  },
  {
   "cell_type": "code",
   "execution_count": 30,
   "outputs": [
    {
     "data": {
      "text/plain": "   cohort_id  is_usable  is_available  is_biased  has_age  has_gender  \\\n0  GSE123993       True          True      False    False        True   \n\n   sample_size note  \n0           44       ",
      "text/html": "<div>\n<style scoped>\n    .dataframe tbody tr th:only-of-type {\n        vertical-align: middle;\n    }\n\n    .dataframe tbody tr th {\n        vertical-align: top;\n    }\n\n    .dataframe thead th {\n        text-align: right;\n    }\n</style>\n<table border=\"1\" class=\"dataframe\">\n  <thead>\n    <tr style=\"text-align: right;\">\n      <th></th>\n      <th>cohort_id</th>\n      <th>is_usable</th>\n      <th>is_available</th>\n      <th>is_biased</th>\n      <th>has_age</th>\n      <th>has_gender</th>\n      <th>sample_size</th>\n      <th>note</th>\n    </tr>\n  </thead>\n  <tbody>\n    <tr>\n      <th>0</th>\n      <td>GSE123993</td>\n      <td>True</td>\n      <td>True</td>\n      <td>False</td>\n      <td>False</td>\n      <td>True</td>\n      <td>44</td>\n      <td></td>\n    </tr>\n  </tbody>\n</table>\n</div>"
     },
     "execution_count": 30,
     "metadata": {},
     "output_type": "execute_result"
    }
   ],
   "source": [
    "# Check the information of usable cohorts\n",
    "best_cohort, ranked_df = filter_and_rank_cohorts(JSON_PATH)\n",
    "ranked_df"
   ],
   "metadata": {
    "collapsed": false,
    "ExecuteTime": {
     "end_time": "2024-01-27T22:55:20.618378516Z",
     "start_time": "2024-01-27T22:55:20.597949683Z"
    }
   }
  },
  {
   "cell_type": "code",
   "execution_count": 31,
   "outputs": [],
   "source": [
    "# If both age and gender have available cohorts, select 'age' as the condition.\n",
    "condition = 'Age'\n",
    "filter_column = 'has_' + condition.lower()\n",
    "\n",
    "condition_best_cohort, condition_ranked_df = filter_and_rank_cohorts(JSON_PATH, filter_column)\n",
    "condition_best_cohort"
   ],
   "metadata": {
    "collapsed": false,
    "ExecuteTime": {
     "end_time": "2024-01-27T22:55:20.618443860Z",
     "start_time": "2024-01-27T22:55:20.598054932Z"
    }
   }
  },
  {
   "cell_type": "code",
   "execution_count": 32,
   "outputs": [
    {
     "data": {
      "text/plain": "Empty DataFrame\nColumns: [cohort_id, is_usable, is_available, is_biased, has_age, has_gender, sample_size, note]\nIndex: []",
      "text/html": "<div>\n<style scoped>\n    .dataframe tbody tr th:only-of-type {\n        vertical-align: middle;\n    }\n\n    .dataframe tbody tr th {\n        vertical-align: top;\n    }\n\n    .dataframe thead th {\n        text-align: right;\n    }\n</style>\n<table border=\"1\" class=\"dataframe\">\n  <thead>\n    <tr style=\"text-align: right;\">\n      <th></th>\n      <th>cohort_id</th>\n      <th>is_usable</th>\n      <th>is_available</th>\n      <th>is_biased</th>\n      <th>has_age</th>\n      <th>has_gender</th>\n      <th>sample_size</th>\n      <th>note</th>\n    </tr>\n  </thead>\n  <tbody>\n  </tbody>\n</table>\n</div>"
     },
     "execution_count": 32,
     "metadata": {},
     "output_type": "execute_result"
    }
   ],
   "source": [
    "condition_ranked_df.head()"
   ],
   "metadata": {
    "collapsed": false,
    "ExecuteTime": {
     "end_time": "2024-01-27T22:55:20.618548408Z",
     "start_time": "2024-01-27T22:55:20.598179658Z"
    }
   }
  },
  {
   "cell_type": "code",
   "execution_count": 33,
   "outputs": [
    {
     "ename": "TypeError",
     "evalue": "unsupported operand type(s) for +: 'NoneType' and 'str'",
     "output_type": "error",
     "traceback": [
      "\u001B[0;31m---------------------------------------------------------------------------\u001B[0m",
      "\u001B[0;31mTypeError\u001B[0m                                 Traceback (most recent call last)",
      "Cell \u001B[0;32mIn[33], line 1\u001B[0m\n\u001B[0;32m----> 1\u001B[0m merged_data \u001B[38;5;241m=\u001B[39m pd\u001B[38;5;241m.\u001B[39mread_csv(os\u001B[38;5;241m.\u001B[39mpath\u001B[38;5;241m.\u001B[39mjoin(OUTPUT_DIR, \u001B[43mcondition_best_cohort\u001B[49m\u001B[43m \u001B[49m\u001B[38;5;241;43m+\u001B[39;49m\u001B[43m \u001B[49m\u001B[38;5;124;43m'\u001B[39;49m\u001B[38;5;124;43m.csv\u001B[39;49m\u001B[38;5;124;43m'\u001B[39;49m))\n\u001B[1;32m      2\u001B[0m merged_data\u001B[38;5;241m.\u001B[39mhead()\n",
      "\u001B[0;31mTypeError\u001B[0m: unsupported operand type(s) for +: 'NoneType' and 'str'"
     ]
    }
   ],
   "source": [
    "merged_data = pd.read_csv(os.path.join(OUTPUT_DIR, condition_best_cohort + '.csv'))\n",
    "merged_data.head()"
   ],
   "metadata": {
    "collapsed": false,
    "ExecuteTime": {
     "end_time": "2024-01-27T22:55:20.893149266Z",
     "start_time": "2024-01-27T22:55:20.598294335Z"
    }
   }
  },
  {
   "cell_type": "code",
   "execution_count": null,
   "outputs": [],
   "source": [
    "# Remove the other condition to prevent interference.\n",
    "merged_data = merged_data.drop(columns=['Gender'], errors='ignore').astype('float')\n",
    "\n",
    "X = merged_data.drop(columns=[TRAIT, condition]).values\n",
    "Y = merged_data[TRAIT].values\n",
    "Z = merged_data[condition].values"
   ],
   "metadata": {
    "collapsed": false
   }
  },
  {
   "cell_type": "markdown",
   "source": [
    "Select the appropriate regression model depending on whether the dataset shows batch effect."
   ],
   "metadata": {
    "collapsed": false
   }
  },
  {
   "cell_type": "code",
   "execution_count": null,
   "outputs": [],
   "source": [
    "has_batch_effect = detect_batch_effect(X)\n",
    "has_batch_effect"
   ],
   "metadata": {
    "collapsed": false
   }
  },
  {
   "cell_type": "code",
   "execution_count": null,
   "outputs": [],
   "source": [
    "# Select appropriate models based on whether the dataset has batch effect.\n",
    "# We experiment on two models for each branch. We will decide which one to choose later.\n",
    "\n",
    "if has_batch_effect:\n",
    "    model_constructor1 = VariableSelection\n",
    "    model_params1 = {'modified': True, 'lamda': 3e-4}\n",
    "    model_constructor2 = VariableSelection\n",
    "    model_params2 = {'modified': False}\n",
    "else:\n",
    "    model_constructor1 = Lasso\n",
    "    model_params1 = {'alpha': 1.0, 'random_state': 42}\n",
    "    model_constructor2 = VariableSelection\n",
    "    model_params2 = {'modified': False}"
   ],
   "metadata": {
    "collapsed": false
   }
  },
  {
   "cell_type": "code",
   "execution_count": null,
   "outputs": [],
   "source": [
    "trait_type = 'binary'  # Remember to set this properly, either 'binary' or 'continuous'\n",
    "cv_mean1, cv_std1 = cross_validation(X, Y, Z, model_constructor1, model_params1, target_type=trait_type)"
   ],
   "metadata": {
    "collapsed": false
   }
  },
  {
   "cell_type": "code",
   "execution_count": null,
   "outputs": [],
   "source": [
    "cv_mean2, cv_std2 = cross_validation(X, Y, Z, model_constructor2, model_params2, target_type=trait_type)"
   ],
   "metadata": {
    "collapsed": false
   }
  },
  {
   "cell_type": "code",
   "execution_count": null,
   "outputs": [],
   "source": [
    "normalized_X, _ = normalize_data(X)\n",
    "normalized_Z, _ = normalize_data(Z)\n",
    "\n",
    "# Train regression model on the whole dataset to identify significant genes\n",
    "model1 = ResidualizationRegressor(model_constructor1, model_params1)\n",
    "model1.fit(normalized_X, Y, normalized_Z)\n",
    "\n",
    "model2 = ResidualizationRegressor(model_constructor2, model_params2)\n",
    "model2.fit(normalized_X, Y, normalized_Z)"
   ],
   "metadata": {
    "collapsed": false
   }
  },
  {
   "cell_type": "markdown",
   "source": [
    "### 4. Discussion and report"
   ],
   "metadata": {
    "id": "EjJrxbvb4nlj",
    "ExecuteTime": {
     "end_time": "2023-10-14T04:50:59.072075075Z",
     "start_time": "2023-10-14T04:50:38.739499998Z"
    }
   },
   "outputs": [
    {
     "name": "stderr",
     "output_type": "stream",
     "text": [
      "/tmp/ipykernel_27130/1949978799.py:15: RuntimeWarning: invalid value encountered in divide\n",
      "  X = (X - mean) / std\n",
      "/home/techt/anaconda3/envs/hl/lib/python3.8/site-packages/sparse_lmm/helpingMethods.py:49: RuntimeWarning: invalid value encountered in divide\n",
      "  ts = beta / np.sqrt(var * sigma)\n",
      "/home/techt/anaconda3/envs/hl/lib/python3.8/site-packages/sparse_lmm/VariableSelection.py:183: RuntimeWarning: divide by zero encountered in log\n",
      "  return -np.log(p), np.array(betas)\n"
     ]
    },
    {
     "name": "stdout",
     "output_type": "stream",
     "text": [
      "0.7813063496787521\n"
     ]
    }
   ],
   "execution_count": 13
  },
  {
   "cell_type": "code",
   "execution_count": null,
   "outputs": [],
   "source": [
    "feature_cols = merged_data.columns.tolist()\n",
    "feature_cols.remove(TRAIT)\n",
    "\n",
    "threshold = 0.05\n",
    "interpret_result(model1, feature_cols, TRAIT, condition, threshold=threshold, save_output=True,\n",
    "                 output_dir=OUTPUT_DIR, model_id=1)"
   ],
   "metadata": {
    "collapsed": false
   }
  },
  {
   "cell_type": "code",
   "execution_count": null,
   "outputs": [],
   "source": [
    "interpret_result(model2, feature_cols, TRAIT, condition, threshold=threshold, save_output=True,\n",
    "                 output_dir=OUTPUT_DIR, model_id=2)"
   ],
   "metadata": {
    "collapsed": false
   }
  },
  {
   "cell_type": "code",
   "execution_count": null,
   "outputs": [],
   "source": [],
   "metadata": {
    "collapsed": false
   }
  }
 ]
}
