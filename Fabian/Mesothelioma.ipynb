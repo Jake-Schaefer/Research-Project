{
 "cells": [
  {
   "cell_type": "markdown",
   "metadata": {
    "collapsed": false
   },
   "source": [
    "# Gold standard curation: Preprocessing and single-step regression"
   ]
  },
  {
   "cell_type": "markdown",
   "metadata": {
    "collapsed": false
   },
   "source": [
    "In this stage of gold standard curation, we will do the data preprocessing, selection, and single-step regression for the 153 traits in our question set. The workflow consists of the following steps:\n",
    "\n",
    "1. Preprocess all the cohorts related to this trait. Each cohort should be converted to a tabular form and saved to a csv file, with columns being genetic factors, the trait, and age, gender if available;\n",
    "2. If there exists at least one cohort with age or gender information, conduct regression analysis with genetic features together with age or gender as the regressors.\n"
   ]
  },
  {
   "cell_type": "markdown",
   "metadata": {
    "collapsed": false
   },
   "source": [
    "# 1. Basic setup"
   ]
  },
  {
   "cell_type": "code",
   "execution_count": 1,
   "metadata": {
    "ExecuteTime": {
     "end_time": "2024-01-02T01:02:53.240839272Z",
     "start_time": "2024-01-02T01:02:53.240575109Z"
    },
    "collapsed": false
   },
   "outputs": [],
   "source": [
    "import os\n",
    "import sys\n",
    "\n",
    "sys.path.append('..')\n",
    "# Set your preferred name\n",
    "USER = \"Yuxuan\"\n",
    "# Set the data and output directories\n",
    "DATA_ROOT = '/home/yxcheng'\n",
    "OUTPUT_ROOT = '../../output1'\n",
    "TRAIT = 'Mesothelioma'\n",
    "\n",
    "OUTPUT_DIR = os.path.join(OUTPUT_ROOT, USER, '-'.join(TRAIT.split()))\n",
    "JSON_PATH = os.path.join(OUTPUT_DIR, \"cohort_info.json\")\n",
    "if not os.path.exists(OUTPUT_DIR):\n",
    "    os.makedirs(OUTPUT_DIR, exist_ok=True)\n",
    "\n",
    "# Gene symbol normalization may take 1-2 minutes. You may set it to False for debugging.\n",
    "NORMALIZE_GENE = True"
   ]
  },
  {
   "cell_type": "code",
   "execution_count": 2,
   "metadata": {
    "ExecuteTime": {
     "end_time": "2024-01-02T01:02:53.501910797Z",
     "start_time": "2024-01-02T01:02:53.496254990Z"
    },
    "colab": {
     "base_uri": "https://localhost:8080/"
    },
    "id": "jMTdsU43vVg3",
    "outputId": "38886111-f442-44b4-8398-96bf384d7abd"
   },
   "outputs": [
    {
     "data": {
      "text/plain": [
       "\"import os\\nfrom google.colab import drive\\n\\ndrive.mount('/content/drive', force_remount=True)\\nproj_dir = '/content/drive/MyDrive/AI4Science_Public'\\nos.chdir(proj_dir)\""
      ]
     },
     "execution_count": 2,
     "metadata": {},
     "output_type": "execute_result"
    }
   ],
   "source": [
    "# This cell is only for use on Google Colab. Skip it if you run your code in other environments\n",
    "\n",
    "\"\"\"import os\n",
    "from google.colab import drive\n",
    "\n",
    "drive.mount('/content/drive', force_remount=True)\n",
    "proj_dir = '/content/drive/MyDrive/AI4Science_Public'\n",
    "os.chdir(proj_dir)\"\"\""
   ]
  },
  {
   "cell_type": "markdown",
   "metadata": {
    "collapsed": false
   },
   "source": [
    "# 2. Data preprocessing and selection"
   ]
  },
  {
   "cell_type": "markdown",
   "metadata": {
    "collapsed": false
   },
   "source": [
    "## 2.1. The TCGA Xena dataset"
   ]
  },
  {
   "cell_type": "markdown",
   "metadata": {
    "collapsed": false
   },
   "source": [
    "In TCGA Xena, there is either zero or one cohort related to the trait. We search the names of subdirectories to see if any matches the trait. If a match is found, we directly obtain the file paths."
   ]
  },
  {
   "cell_type": "code",
   "execution_count": 2,
   "metadata": {
    "ExecuteTime": {
     "end_time": "2024-01-02T01:02:56.462746833Z",
     "start_time": "2024-01-02T01:02:55.818581842Z"
    },
    "collapsed": false
   },
   "outputs": [
    {
     "data": {
      "text/plain": [
       "['TCGA_Adrenocortical_Cancer_(ACC)',\n",
       " 'TCGA_Bile_Duct_Cancer_(CHOL)',\n",
       " 'TCGA_Lower_Grade_Glioma_(LGG)',\n",
       " 'TCGA_Acute_Myeloid_Leukemia_(LAML)',\n",
       " 'TCGA_Esophageal_Cancer_(ESCA)',\n",
       " 'TCGA_Thyroid_Cancer_(THCA)',\n",
       " 'TCGA_Ocular_melanomas_(UVM)',\n",
       " 'TCGA_Ovarian_Cancer_(OV)',\n",
       " 'TCGA_Prostate_Cancer_(PRAD)',\n",
       " 'CrawlData.ipynb',\n",
       " 'TCGA_Kidney_Papillary_Cell_Carcinoma_(KIRP)',\n",
       " 'TCGA_Lung_Cancer_(LUNG)',\n",
       " 'TCGA_Endometrioid_Cancer_(UCEC)',\n",
       " 'TCGA_Testicular_Cancer_(TGCT)',\n",
       " 'TCGA_lower_grade_glioma_and_glioblastoma_(GBMLGG)',\n",
       " 'TCGA_Pancreatic_Cancer_(PAAD)',\n",
       " 'TCGA_Glioblastoma_(GBM)',\n",
       " 'TCGA_Melanoma_(SKCM)',\n",
       " 'TCGA_Kidney_Clear_Cell_Carcinoma_(KIRC)',\n",
       " 'TCGA_Mesothelioma_(MESO)',\n",
       " 'TCGA_Rectal_Cancer_(READ)',\n",
       " 'TCGA_Head_and_Neck_Cancer_(HNSC)',\n",
       " 'TCGA_Large_Bcell_Lymphoma_(DLBC)',\n",
       " 'TCGA_Uterine_Carcinosarcoma_(UCS)',\n",
       " 'TCGA_Colon_Cancer_(COAD)',\n",
       " 'TCGA_Breast_Cancer_(BRCA)',\n",
       " 'TCGA_Bladder_Cancer_(BLCA)',\n",
       " 'TCGA_Sarcoma_(SARC)',\n",
       " 'TCGA_Lung_Squamous_Cell_Carcinoma_(LUSC)',\n",
       " 'TCGA_Cervical_Cancer_(CESC)',\n",
       " 'TCGA_Kidney_Chromophobe_(KICH)',\n",
       " 'TCGA_Stomach_Cancer_(STAD)',\n",
       " 'TCGA_Lung_Adenocarcinoma_(LUAD)',\n",
       " '.DS_Store',\n",
       " 'TCGA_Thymoma_(THYM)',\n",
       " 'TCGA_Colon_and_Rectal_Cancer_(COADREAD)',\n",
       " 'TCGA_Pheochromocytoma_Paraganglioma_(PCPG)',\n",
       " 'TCGA_Liver_Cancer_(LIHC)']"
      ]
     },
     "execution_count": 2,
     "metadata": {},
     "output_type": "execute_result"
    }
   ],
   "source": [
    "import os\n",
    "from utils import *\n",
    "\n",
    "dataset = 'TCGA'\n",
    "dataset_dir = os.path.join(DATA_ROOT, dataset)\n",
    "os.listdir(dataset_dir)[:]"
   ]
  },
  {
   "cell_type": "markdown",
   "metadata": {
    "collapsed": false
   },
   "source": [
    "If no match is found, jump directly to GEO in Part 2.2"
   ]
  },
  {
   "cell_type": "code",
   "execution_count": 6,
   "metadata": {
    "collapsed": false
   },
   "outputs": [],
   "source": [
    "trait_subdir = \"TCGA_Mesothelioma_(MESO)\"\n",
    "cohort = 'Xena'\n",
    "# All the cancer traits in Xena are binary\n",
    "trait_type = 'binary'\n",
    "# Once a relevant cohort is found in Xena, we can generally assume the gene and clinical data are available\n",
    "is_available = True\n",
    "\n",
    "clinical_data_file = os.path.join(dataset_dir, trait_subdir, 'TCGA.MESO.sampleMap_MESO_clinicalMatrix')\n",
    "genetic_data_file = os.path.join(dataset_dir, trait_subdir, 'TCGA.MESO.sampleMap_HiSeqV2_PANCAN.gz')"
   ]
  },
  {
   "cell_type": "code",
   "execution_count": 7,
   "metadata": {
    "id": "MudwB-_iz7sc"
   },
   "outputs": [],
   "source": [
    "import pandas as pd\n",
    "\n",
    "clinical_data = pd.read_csv(clinical_data_file, sep='\\t', index_col=0)\n",
    "genetic_data = pd.read_csv(genetic_data_file, compression='gzip', sep='\\t', index_col=0)\n",
    "age_col = gender_col = None"
   ]
  },
  {
   "cell_type": "code",
   "execution_count": 8,
   "metadata": {
    "collapsed": false
   },
   "outputs": [],
   "source": [
    "_, clinical_data_cols = check_rows_and_columns(clinical_data)"
   ]
  },
  {
   "cell_type": "code",
   "execution_count": 9,
   "metadata": {
    "collapsed": false
   },
   "outputs": [
    {
     "data": {
      "text/plain": [
       "['_INTEGRATION',\n",
       " '_PATIENT',\n",
       " '_cohort',\n",
       " '_primary_disease',\n",
       " '_primary_site',\n",
       " 'additional_pharmaceutical_therapy',\n",
       " 'additional_radiation_therapy',\n",
       " 'age_at_initial_pathologic_diagnosis',\n",
       " 'asbestos_exposure_age',\n",
       " 'asbestos_exposure_age_last']"
      ]
     },
     "execution_count": 9,
     "metadata": {},
     "output_type": "execute_result"
    }
   ],
   "source": [
    "clinical_data_cols[:10]"
   ]
  },
  {
   "cell_type": "markdown",
   "metadata": {
    "ExecuteTime": {
     "end_time": "2023-12-28T20:20:11.841042813Z",
     "start_time": "2023-12-28T20:20:11.834458206Z"
    },
    "collapsed": false
   },
   "source": [
    "Read all the column names in the clinical dataset, to find the columns that record information about age or gender.\n",
    "Reference prompt:"
   ]
  },
  {
   "cell_type": "code",
   "execution_count": 40,
   "metadata": {
    "collapsed": false
   },
   "outputs": [
    {
     "data": {
      "text/plain": [
       "\"\\nBelow is a list of column names from a biomedical dataset. Please examine it and identify the columns that are likely to contain information about patients' age. Additionally, please do the same for columns that may hold data on patients' gender. Please provide your answer by strictly following this format, without redundant words:\\ncandidate_age_cols = [col_name1, col_name2, ...]\\ncandidate_gender_cols = [col_name1, col_name2, ...]\\nIf no columns match a criterion, please provide an empty list.\\n\\nColumn names:\\n['_INTEGRATION', '_PATIENT', '_cohort', '_primary_disease', '_primary_site', 'additional_pharmaceutical_therapy', 'additional_radiation_therapy', 'age_at_initial_pathologic_diagnosis', 'asbestos_exposure_age', 'asbestos_exposure_age_last', 'asbestos_exposure_source', 'asbestos_exposure_type', 'asbestos_exposure_years', 'assessment_timepoint_category', 'bcr_followup_barcode', 'bcr_patient_barcode', 'bcr_sample_barcode', 'creatinine_norm_range_lower', 'creatinine_norm_range_upper', 'creatinine_prior_tx', 'days_to_birth', 'days_to_collection', 'days_to_death', 'days_to_initial_pathologic_diagnosis', 'days_to_last_followup', 'days_to_new_tumor_event_after_initial_treatment', 'eastern_cancer_oncology_group', 'family_history_cancer_type', 'family_history_cancer_type_other', 'family_member_relationship_type', 'form_completion_date', 'gender', 'histological_type', 'history_asbestos_exposure', 'history_of_neoadjuvant_treatment', 'icd_10', 'icd_o_3_histology', 'icd_o_3_site', 'informed_consent_verified', 'initial_weight', 'is_ffpe', 'karnofsky_performance_score', 'laterality', 'lost_follow_up', 'mesothelioma_detection_method', 'new_neoplasm_event_occurrence_anatomic_site', 'new_neoplasm_event_type', 'new_neoplasm_occurrence_anatomic_site_text', 'new_tumor_event_additional_surgery_procedure', 'new_tumor_event_after_initial_treatment', 'oct_embedded', 'other_dx', 'pathologic_M', 'pathologic_N', 'pathologic_T', 'pathologic_stage', 'pathology_report_file_name', 'patient_id', 'performance_status_scale_timing', 'person_neoplasm_cancer_status', 'person_occupation_years_number', 'pleurodesis_performed', 'pleurodesis_performed_90_days', 'postoperative_rx_tx', 'primary_occupation', 'primary_occupation_other', 'radiation_therapy', 'residual_tumor', 'sample_type', 'sample_type_id', 'serum_mesothelin_lower_limit', 'serum_mesothelin_prior_tx', 'serum_mesothelin_upper_limit', 'suv_of_pleura_max', 'system_version', 'tissue_prospective_collection_indicator', 'tissue_retrospective_collection_indicator', 'tissue_source_site', 'tumor_tissue_site', 'vial_number', 'vital_status', 'year_of_initial_pathologic_diagnosis', '_GENOMIC_ID_TCGA_MESO_PDMRNAseq', '_GENOMIC_ID_data/public/TCGA/MESO/miRNA_HiSeq_gene', '_GENOMIC_ID_TCGA_MESO_exp_HiSeqV2_exon', '_GENOMIC_ID_TCGA_MESO_mutation_broad_gene', '_GENOMIC_ID_TCGA_MESO_mutation_bcgsc_gene', '_GENOMIC_ID_TCGA_MESO_exp_HiSeqV2_percentile', '_GENOMIC_ID_TCGA_MESO_RPPA', '_GENOMIC_ID_TCGA_MESO_gistic2', '_GENOMIC_ID_TCGA_MESO_exp_HiSeqV2_PANCAN', '_GENOMIC_ID_TCGA_MESO_miRNA_HiSeq', '_GENOMIC_ID_TCGA_MESO_exp_HiSeqV2', '_GENOMIC_ID_TCGA_MESO_PDMRNAseqCNV', '_GENOMIC_ID_TCGA_MESO_gistic2thd', '_GENOMIC_ID_TCGA_MESO_hMethyl450']\\n\""
      ]
     },
     "execution_count": 40,
     "metadata": {},
     "output_type": "execute_result"
    }
   ],
   "source": [
    "f'''\n",
    "Below is a list of column names from a biomedical dataset. Please examine it and identify the columns that are likely to contain information about patients' age. Additionally, please do the same for columns that may hold data on patients' gender. Please provide your answer by strictly following this format, without redundant words:\n",
    "candidate_age_cols = [col_name1, col_name2, ...]\n",
    "candidate_gender_cols = [col_name1, col_name2, ...]\n",
    "If no columns match a criterion, please provide an empty list.\n",
    "\n",
    "Column names:\n",
    "{clinical_data_cols}\n",
    "'''"
   ]
  },
  {
   "cell_type": "code",
   "execution_count": 41,
   "metadata": {
    "collapsed": false
   },
   "outputs": [],
   "source": [
    "candidate_age_cols = ['age_at_initial_pathologic_diagnosis', 'asbestos_exposure_age', 'asbestos_exposure_age_last', 'days_to_birth', 'days_to_collection', 'days_to_death', 'days_to_initial_pathologic_diagnosis', 'days_to_last_followup', 'days_to_new_tumor_event_after_initial_treatment', 'person_neoplasm_cancer_status', 'year_of_initial_pathologic_diagnosis']\n",
    "\n",
    "candidate_gender_cols = ['gender']\n"
   ]
  },
  {
   "cell_type": "markdown",
   "metadata": {
    "ExecuteTime": {
     "end_time": "2023-12-31T03:57:44.207565572Z",
     "start_time": "2023-12-31T03:57:44.202177544Z"
    },
    "collapsed": false
   },
   "source": [
    "Choose a single column from the candidate columns that record age and gender information respectively.\n",
    "If no column meets the requirement, keep 'age_col' or 'gender_col' to None"
   ]
  },
  {
   "cell_type": "code",
   "execution_count": 42,
   "metadata": {
    "collapsed": false
   },
   "outputs": [
    {
     "data": {
      "text/plain": [
       "{'age_at_initial_pathologic_diagnosis': [64, 60, 53, 58, 69],\n",
       " 'asbestos_exposure_age': [nan, nan, nan, 25.0, nan],\n",
       " 'asbestos_exposure_age_last': [nan, nan, nan, 31.0, nan],\n",
       " 'days_to_birth': [-23591, -21972, -19503, -21423, -25471],\n",
       " 'days_to_collection': [1935.0, 1941.0, 1998.0, 1897.0, 1743.0],\n",
       " 'days_to_death': ['1715', '361', '885', '1302', '385'],\n",
       " 'days_to_initial_pathologic_diagnosis': [0, 0, 0, 0, 0],\n",
       " 'days_to_last_followup': [nan, nan, nan, nan, nan],\n",
       " 'days_to_new_tumor_event_after_initial_treatment': [nan, nan, nan, nan, nan],\n",
       " 'person_neoplasm_cancer_status': ['WITH TUMOR',\n",
       "  'WITH TUMOR',\n",
       "  'WITH TUMOR',\n",
       "  'WITH TUMOR',\n",
       "  'WITH TUMOR'],\n",
       " 'year_of_initial_pathologic_diagnosis': [2008, 2008, 2008, 2008, 2009]}"
      ]
     },
     "execution_count": 42,
     "metadata": {},
     "output_type": "execute_result"
    }
   ],
   "source": [
    "preview_df(clinical_data[candidate_age_cols])"
   ]
  },
  {
   "cell_type": "code",
   "execution_count": 43,
   "metadata": {
    "collapsed": false
   },
   "outputs": [],
   "source": [
    "age_col = 'age_at_initial_pathologic_diagnosis'"
   ]
  },
  {
   "cell_type": "code",
   "execution_count": 44,
   "metadata": {
    "collapsed": false
   },
   "outputs": [
    {
     "data": {
      "text/plain": [
       "{'gender': ['MALE', 'MALE', 'FEMALE', 'MALE', 'MALE']}"
      ]
     },
     "execution_count": 44,
     "metadata": {},
     "output_type": "execute_result"
    }
   ],
   "source": [
    "preview_df(clinical_data[candidate_gender_cols])"
   ]
  },
  {
   "cell_type": "code",
   "execution_count": 45,
   "metadata": {
    "collapsed": false
   },
   "outputs": [],
   "source": [
    "gender_col = 'gender'"
   ]
  },
  {
   "cell_type": "code",
   "execution_count": 46,
   "metadata": {
    "collapsed": false
   },
   "outputs": [],
   "source": [
    "selected_clinical_data = xena_select_clinical_features(clinical_data, TRAIT, age_col, gender_col)"
   ]
  },
  {
   "cell_type": "code",
   "execution_count": 47,
   "metadata": {
    "collapsed": false
   },
   "outputs": [
    {
     "name": "stderr",
     "output_type": "stream",
     "text": [
      "13 input query terms found dup hits:\t[('GTF2IP1', 2), ('RBMY1A3P', 3), ('RPL31P11', 2), ('HERC2P2', 3), ('WASH3P', 3), ('NUDT9P1', 2), ('\n",
      "12 input query terms found dup hits:\t[('SUGT1P1', 2), ('PTPRVP', 2), ('SNORA62', 3), ('IFITM4P', 7), ('HLA-DRB6', 2), ('FUNDC2P2', 2), ('\n",
      "19 input query terms found dup hits:\t[('PPP1R2P1', 9), ('HSD17B7P2', 2), ('RPSAP9', 2), ('SNORD68', 2), ('SNORD38B', 2), ('RPL13AP3', 2),\n",
      "15 input query terms found dup hits:\t[('HNRNPA3P1', 2), ('LRP5L', 2), ('AGAP11', 2), ('CXADRP2', 3), ('CCDC144NL', 2), ('FAM66D', 3), ('F\n",
      "18 input query terms found dup hits:\t[('WASH2P', 2), ('MRS2P2', 2), ('SNORD29', 2), ('DPY19L2P4', 2), ('DPY19L2P1', 2), ('S100A7L2', 2), \n",
      "16 input query terms found dup hits:\t[('PCNAP1', 2), ('SNORA63', 6), ('SERHL', 2), ('CEACAM22P', 2), ('SNORA16A', 2), ('FAM41AY1', 2), ('\n",
      "18 input query terms found dup hits:\t[('MBL1P', 2), ('SDHAP3', 2), ('PSORS1C3', 8), ('MYADML', 2), ('POM121L10P', 2), ('HLA-J', 9), ('HLA\n",
      "16 input query terms found dup hits:\t[('RPL23AP64', 3), ('RPSAP52', 2), ('TPRXL', 2), ('DPY19L2P2', 3), ('FMO9P', 2), ('HSP90AB2P', 2), (\n",
      "24 input query terms found dup hits:\t[('KLKP1', 2), ('HSP90AB4P', 2), ('EEF1A1P9', 2), ('CLEC4GP1', 2), ('APOC1P1', 2), ('OR2A9P', 2), ('\n",
      "16 input query terms found dup hits:\t[('ARGFXP2', 2), ('SLC7A5P2', 2), ('RPS26P11', 2), ('P2RX6P', 2), ('RP9P', 2), ('NRADDP', 2), ('MORF\n",
      "20 input query terms found dup hits:\t[('RPL13AP17', 2), ('DNAJB3', 2), ('SNORA58', 2), ('PMCHL1', 2), ('FAM95B1', 2), ('TMEM191A', 2), ('\n",
      "17 input query terms found dup hits:\t[('PRSS30P', 3), ('GSTM2P1', 2), ('C3P1', 2), ('NCF1B', 2), ('SNORD114-4', 2), ('GNRHR2', 2), ('TBC1\n",
      "16 input query terms found dup hits:\t[('ZNF286B', 2), ('SAA3P', 2), ('GEMIN8P4', 2), ('DIRC1', 2), ('DEFB122', 2), ('TCAM1P', 2), ('WBP11\n",
      "14 input query terms found dup hits:\t[('HTR7P1', 2), ('STAG3L2', 2), ('FKBP1AP1', 2), ('POM121L9P', 2), ('TMED10P1', 2), ('SUMO1P3', 2), \n",
      "17 input query terms found dup hits:\t[('ABCC13', 2), ('SNORD33', 2), ('TRIM16L', 2), ('PCDHGB8P', 2), ('FAM74A4', 2), ('FAM74A3', 2), ('T\n",
      "16 input query terms found dup hits:\t[('TSNAX-DISC1', 2), ('OR6W1P', 3), ('LYPLA2P1', 6), ('RPL23AP53', 2), ('TRPC2', 2), ('RBMY2FP', 2),\n",
      "19 input query terms found dup hits:\t[('TPI1P2', 2), ('ISCA1P1', 2), ('PCDHB19P', 3), ('NAPSB', 2), ('WASH7P', 2), ('TTTY11', 2), ('HCG4'\n",
      "4 input query terms found dup hits:\t[('WASH5P', 2), ('RPL29P2', 2), ('CDR1', 2), ('OR10J3', 3)]\n"
     ]
    }
   ],
   "source": [
    "if NORMALIZE_GENE:\n",
    "    genetic_data = normalize_gene_symbols_in_index(genetic_data)"
   ]
  },
  {
   "cell_type": "code",
   "execution_count": 48,
   "metadata": {
    "collapsed": false
   },
   "outputs": [
    {
     "data": {
      "text/html": [
       "<div>\n",
       "<style scoped>\n",
       "    .dataframe tbody tr th:only-of-type {\n",
       "        vertical-align: middle;\n",
       "    }\n",
       "\n",
       "    .dataframe tbody tr th {\n",
       "        vertical-align: top;\n",
       "    }\n",
       "\n",
       "    .dataframe thead th {\n",
       "        text-align: right;\n",
       "    }\n",
       "</style>\n",
       "<table border=\"1\" class=\"dataframe\">\n",
       "  <thead>\n",
       "    <tr style=\"text-align: right;\">\n",
       "      <th></th>\n",
       "      <th>Mesothelioma</th>\n",
       "      <th>Age</th>\n",
       "      <th>Gender</th>\n",
       "      <th>ARHGEF10L</th>\n",
       "      <th>HIF3A</th>\n",
       "      <th>RNF17</th>\n",
       "      <th>RNF10</th>\n",
       "      <th>RNF11</th>\n",
       "      <th>RNF13</th>\n",
       "      <th>GTF2IP1</th>\n",
       "      <th>...</th>\n",
       "      <th>SLC7A10</th>\n",
       "      <th>PLA2G2C</th>\n",
       "      <th>TULP2</th>\n",
       "      <th>NPY5R</th>\n",
       "      <th>GNGT2</th>\n",
       "      <th>GNGT1</th>\n",
       "      <th>TULP3</th>\n",
       "      <th>BCL6B</th>\n",
       "      <th>GSTK1</th>\n",
       "      <th>SELP</th>\n",
       "    </tr>\n",
       "    <tr>\n",
       "      <th>sampleID</th>\n",
       "      <th></th>\n",
       "      <th></th>\n",
       "      <th></th>\n",
       "      <th></th>\n",
       "      <th></th>\n",
       "      <th></th>\n",
       "      <th></th>\n",
       "      <th></th>\n",
       "      <th></th>\n",
       "      <th></th>\n",
       "      <th></th>\n",
       "      <th></th>\n",
       "      <th></th>\n",
       "      <th></th>\n",
       "      <th></th>\n",
       "      <th></th>\n",
       "      <th></th>\n",
       "      <th></th>\n",
       "      <th></th>\n",
       "      <th></th>\n",
       "      <th></th>\n",
       "    </tr>\n",
       "  </thead>\n",
       "  <tbody>\n",
       "    <tr>\n",
       "      <th>TCGA-3H-AB3K-01</th>\n",
       "      <td>1</td>\n",
       "      <td>64</td>\n",
       "      <td>1</td>\n",
       "      <td>0.160908</td>\n",
       "      <td>-3.157426</td>\n",
       "      <td>-0.531035</td>\n",
       "      <td>0.483128</td>\n",
       "      <td>-0.152778</td>\n",
       "      <td>0.65969</td>\n",
       "      <td>0.001606</td>\n",
       "      <td>...</td>\n",
       "      <td>-0.068986</td>\n",
       "      <td>-0.086682</td>\n",
       "      <td>-0.061978</td>\n",
       "      <td>-0.900217</td>\n",
       "      <td>0.803567</td>\n",
       "      <td>-1.28139</td>\n",
       "      <td>-0.551677</td>\n",
       "      <td>-2.035927</td>\n",
       "      <td>0.175405</td>\n",
       "      <td>0.164067</td>\n",
       "    </tr>\n",
       "    <tr>\n",
       "      <th>TCGA-3H-AB3L-01</th>\n",
       "      <td>1</td>\n",
       "      <td>60</td>\n",
       "      <td>1</td>\n",
       "      <td>0.200408</td>\n",
       "      <td>-4.117426</td>\n",
       "      <td>-0.531035</td>\n",
       "      <td>0.786128</td>\n",
       "      <td>-0.033878</td>\n",
       "      <td>0.10959</td>\n",
       "      <td>-0.456594</td>\n",
       "      <td>...</td>\n",
       "      <td>-1.573486</td>\n",
       "      <td>-0.086682</td>\n",
       "      <td>-0.748878</td>\n",
       "      <td>-1.074117</td>\n",
       "      <td>0.139267</td>\n",
       "      <td>-0.39069</td>\n",
       "      <td>0.113323</td>\n",
       "      <td>0.166873</td>\n",
       "      <td>0.070905</td>\n",
       "      <td>0.942767</td>\n",
       "    </tr>\n",
       "    <tr>\n",
       "      <th>TCGA-3H-AB3M-01</th>\n",
       "      <td>1</td>\n",
       "      <td>53</td>\n",
       "      <td>0</td>\n",
       "      <td>-1.009592</td>\n",
       "      <td>-2.663326</td>\n",
       "      <td>-0.068835</td>\n",
       "      <td>0.828928</td>\n",
       "      <td>-0.737678</td>\n",
       "      <td>0.77649</td>\n",
       "      <td>-0.002594</td>\n",
       "      <td>...</td>\n",
       "      <td>1.636814</td>\n",
       "      <td>-0.086682</td>\n",
       "      <td>0.062822</td>\n",
       "      <td>-1.124917</td>\n",
       "      <td>0.242467</td>\n",
       "      <td>-0.46969</td>\n",
       "      <td>0.307823</td>\n",
       "      <td>-1.703127</td>\n",
       "      <td>-0.213695</td>\n",
       "      <td>1.932667</td>\n",
       "    </tr>\n",
       "    <tr>\n",
       "      <th>TCGA-3H-AB3O-01</th>\n",
       "      <td>1</td>\n",
       "      <td>58</td>\n",
       "      <td>1</td>\n",
       "      <td>-0.147492</td>\n",
       "      <td>-2.266526</td>\n",
       "      <td>-0.531035</td>\n",
       "      <td>0.274528</td>\n",
       "      <td>-0.311878</td>\n",
       "      <td>0.31179</td>\n",
       "      <td>-1.012494</td>\n",
       "      <td>...</td>\n",
       "      <td>-0.528386</td>\n",
       "      <td>-0.086682</td>\n",
       "      <td>1.031722</td>\n",
       "      <td>0.384783</td>\n",
       "      <td>3.061667</td>\n",
       "      <td>-1.28139</td>\n",
       "      <td>-0.580077</td>\n",
       "      <td>0.947073</td>\n",
       "      <td>1.408105</td>\n",
       "      <td>2.816367</td>\n",
       "    </tr>\n",
       "    <tr>\n",
       "      <th>TCGA-3H-AB3S-01</th>\n",
       "      <td>1</td>\n",
       "      <td>69</td>\n",
       "      <td>1</td>\n",
       "      <td>0.282008</td>\n",
       "      <td>-2.042126</td>\n",
       "      <td>-0.531035</td>\n",
       "      <td>0.825228</td>\n",
       "      <td>-0.210878</td>\n",
       "      <td>0.07039</td>\n",
       "      <td>-0.070994</td>\n",
       "      <td>...</td>\n",
       "      <td>-2.090786</td>\n",
       "      <td>-0.086682</td>\n",
       "      <td>-0.748878</td>\n",
       "      <td>-1.587117</td>\n",
       "      <td>-0.441533</td>\n",
       "      <td>-1.28139</td>\n",
       "      <td>0.417023</td>\n",
       "      <td>-0.154627</td>\n",
       "      <td>-0.004295</td>\n",
       "      <td>-0.111033</td>\n",
       "    </tr>\n",
       "  </tbody>\n",
       "</table>\n",
       "<p>5 rows × 17341 columns</p>\n",
       "</div>"
      ],
      "text/plain": [
       "                 Mesothelioma  Age  Gender  ARHGEF10L     HIF3A     RNF17  \\\n",
       "sampleID                                                                    \n",
       "TCGA-3H-AB3K-01             1   64       1   0.160908 -3.157426 -0.531035   \n",
       "TCGA-3H-AB3L-01             1   60       1   0.200408 -4.117426 -0.531035   \n",
       "TCGA-3H-AB3M-01             1   53       0  -1.009592 -2.663326 -0.068835   \n",
       "TCGA-3H-AB3O-01             1   58       1  -0.147492 -2.266526 -0.531035   \n",
       "TCGA-3H-AB3S-01             1   69       1   0.282008 -2.042126 -0.531035   \n",
       "\n",
       "                    RNF10     RNF11    RNF13   GTF2IP1  ...   SLC7A10  \\\n",
       "sampleID                                                ...             \n",
       "TCGA-3H-AB3K-01  0.483128 -0.152778  0.65969  0.001606  ... -0.068986   \n",
       "TCGA-3H-AB3L-01  0.786128 -0.033878  0.10959 -0.456594  ... -1.573486   \n",
       "TCGA-3H-AB3M-01  0.828928 -0.737678  0.77649 -0.002594  ...  1.636814   \n",
       "TCGA-3H-AB3O-01  0.274528 -0.311878  0.31179 -1.012494  ... -0.528386   \n",
       "TCGA-3H-AB3S-01  0.825228 -0.210878  0.07039 -0.070994  ... -2.090786   \n",
       "\n",
       "                  PLA2G2C     TULP2     NPY5R     GNGT2    GNGT1     TULP3  \\\n",
       "sampleID                                                                     \n",
       "TCGA-3H-AB3K-01 -0.086682 -0.061978 -0.900217  0.803567 -1.28139 -0.551677   \n",
       "TCGA-3H-AB3L-01 -0.086682 -0.748878 -1.074117  0.139267 -0.39069  0.113323   \n",
       "TCGA-3H-AB3M-01 -0.086682  0.062822 -1.124917  0.242467 -0.46969  0.307823   \n",
       "TCGA-3H-AB3O-01 -0.086682  1.031722  0.384783  3.061667 -1.28139 -0.580077   \n",
       "TCGA-3H-AB3S-01 -0.086682 -0.748878 -1.587117 -0.441533 -1.28139  0.417023   \n",
       "\n",
       "                    BCL6B     GSTK1      SELP  \n",
       "sampleID                                       \n",
       "TCGA-3H-AB3K-01 -2.035927  0.175405  0.164067  \n",
       "TCGA-3H-AB3L-01  0.166873  0.070905  0.942767  \n",
       "TCGA-3H-AB3M-01 -1.703127 -0.213695  1.932667  \n",
       "TCGA-3H-AB3O-01  0.947073  1.408105  2.816367  \n",
       "TCGA-3H-AB3S-01 -0.154627 -0.004295 -0.111033  \n",
       "\n",
       "[5 rows x 17341 columns]"
      ]
     },
     "execution_count": 48,
     "metadata": {},
     "output_type": "execute_result"
    }
   ],
   "source": [
    "merged_data = selected_clinical_data.join(genetic_data.T).dropna()\n",
    "merged_data.head()"
   ]
  },
  {
   "cell_type": "code",
   "execution_count": 49,
   "metadata": {
    "collapsed": false
   },
   "outputs": [
    {
     "name": "stdout",
     "output_type": "stream",
     "text": [
      "The merged dataset contains 87 samples.\n"
     ]
    }
   ],
   "source": [
    "print(f\"The merged dataset contains {len(merged_data)} samples.\")"
   ]
  },
  {
   "cell_type": "code",
   "execution_count": 50,
   "metadata": {
    "collapsed": false
   },
   "outputs": [
    {
     "name": "stdout",
     "output_type": "stream",
     "text": [
      "For the feature 'Mesothelioma', the least common label is '1' with 87 occurrences. This represents 100.00% of the dataset.\n",
      "The distribution of the feature 'Mesothelioma' in this dataset is severely biased.\n",
      "\n",
      "Quartiles for 'Age':\n",
      "  25%: 57.0\n",
      "  50% (Median): 64.0\n",
      "  75%: 69.0\n",
      "Min: 28\n",
      "Max: 81\n",
      "The distribution of the feature 'Age' in this dataset is fine.\n",
      "\n",
      "For the feature 'Gender', the least common label is '0' with 16 occurrences. This represents 18.39% of the dataset.\n",
      "The distribution of the feature 'Gender' in this dataset is fine.\n",
      "\n"
     ]
    },
    {
     "data": {
      "text/plain": [
       "True"
      ]
     },
     "execution_count": 50,
     "metadata": {},
     "output_type": "execute_result"
    }
   ],
   "source": [
    "is_trait_biased, merge_data = judge_and_remove_biased_features(merged_data, TRAIT, trait_type=trait_type)\n",
    "is_trait_biased"
   ]
  },
  {
   "cell_type": "code",
   "execution_count": 37,
   "metadata": {
    "collapsed": false
   },
   "outputs": [],
   "source": [
    "merged_data.head()\n",
    "if not is_trait_biased:\n",
    "    merge_data.to_csv(os.path.join(OUTPUT_DIR, cohort+'.csv'), index=False)"
   ]
  },
  {
   "cell_type": "code",
   "execution_count": 39,
   "metadata": {
    "collapsed": false
   },
   "outputs": [],
   "source": [
    "save_cohort_info(cohort, JSON_PATH, is_available, is_trait_biased, merged_data)"
   ]
  },
  {
   "cell_type": "markdown",
   "metadata": {
    "ExecuteTime": {
     "end_time": "2023-12-28T21:28:38.028916303Z",
     "start_time": "2023-12-28T21:28:38.016245426Z"
    },
    "collapsed": false
   },
   "source": [
    "## 2.2. The GEO dataset"
   ]
  },
  {
   "cell_type": "markdown",
   "metadata": {
    "ExecuteTime": {
     "end_time": "2023-12-31T03:25:23.253882615Z",
     "start_time": "2023-12-31T03:25:23.244062710Z"
    },
    "collapsed": false
   },
   "source": [
    "In GEO, there may be one or multiple cohorts for a trait. Each cohort is identified by an accession number. We iterate over all accession numbers in the corresponding subdirectory, preprocess the cohort data, and save them to csv files."
   ]
  },
  {
   "cell_type": "code",
   "execution_count": 3,
   "metadata": {
    "ExecuteTime": {
     "end_time": "2024-01-02T01:02:59.503572381Z",
     "start_time": "2024-01-02T01:02:59.491400342Z"
    },
    "collapsed": false
   },
   "outputs": [
    {
     "data": {
      "text/plain": [
       "['GSE68950',\n",
       " 'GSE73162',\n",
       " 'GSE51024',\n",
       " 'GSE42977',\n",
       " 'GSE64738',\n",
       " 'GSE163720',\n",
       " 'GSE67487',\n",
       " 'GSE163722',\n",
       " 'GSE99362',\n",
       " 'GSE57464',\n",
       " 'GSE172159',\n",
       " 'GSE107754',\n",
       " 'GSE117668',\n",
       " 'GSE112154',\n",
       " 'GSE73161',\n",
       " 'GSE163721',\n",
       " 'GSE40345',\n",
       " 'GSE52788',\n",
       " 'GSE131027']"
      ]
     },
     "execution_count": 3,
     "metadata": {},
     "output_type": "execute_result"
    }
   ],
   "source": [
    "dataset = 'GEO'\n",
    "trait_subdir = \"Mesothelioma\"\n",
    "\n",
    "trait_path = os.path.join(DATA_ROOT, dataset, trait_subdir)\n",
    "os.listdir(trait_path)"
   ]
  },
  {
   "cell_type": "markdown",
   "metadata": {
    "ExecuteTime": {
     "end_time": "2023-12-31T03:39:42.634870142Z",
     "start_time": "2023-12-31T03:39:42.534093295Z"
    },
    "collapsed": false
   },
   "source": [
    "Repeat the below steps for all the accession numbers"
   ]
  },
  {
   "cell_type": "code",
   "execution_count": 4,
   "metadata": {
    "ExecuteTime": {
     "end_time": "2024-01-02T01:03:00.287218362Z",
     "start_time": "2024-01-02T01:03:00.278758251Z"
    },
    "collapsed": false
   },
   "outputs": [
    {
     "data": {
      "text/plain": [
       "('/home/yxcheng/GEO/Mesothelioma/GSE131027/GSE131027_family.soft.gz',\n",
       " '/home/yxcheng/GEO/Mesothelioma/GSE131027/GSE131027_series_matrix.txt.gz')"
      ]
     },
     "execution_count": 4,
     "metadata": {},
     "output_type": "execute_result"
    }
   ],
   "source": [
    "cohort = accession_num = \"GSE131027\"\n",
    "cohort_dir = os.path.join(trait_path, accession_num)\n",
    "soft_file, matrix_file = get_relevant_filepaths(cohort_dir)\n",
    "soft_file, matrix_file"
   ]
  },
  {
   "cell_type": "markdown",
   "metadata": {
    "collapsed": false
   },
   "source": [
    "### Inital filtering and clinical data preprocessing"
   ]
  },
  {
   "cell_type": "code",
   "execution_count": 5,
   "metadata": {
    "ExecuteTime": {
     "end_time": "2024-01-02T01:03:01.634861460Z",
     "start_time": "2024-01-02T01:03:01.076370517Z"
    },
    "collapsed": false
   },
   "outputs": [
    {
     "name": "stdout",
     "output_type": "stream",
     "text": [
      "!Series_title\t\"High frequency of pathogenic germline variants in genes associated with homologous recombination repair in patients with advanced solid cancers\"\n",
      "!Series_summary\t\"We identified pathogenic and likely pathogenic variants in 17.8% of the patients within a wide range of cancer types. In particular, mesothelioma, ovarian cancer, cervical cancer, urothelial cancer, and cancer of unknown primary origin displayed high frequencies of pathogenic variants. In total, 22 BRCA1 and BRCA2 germline variant were identified in 12 different cancer types, of which 10 (45%) variants were not previously identified in these patients. Pathogenic germline variants were predominantly found in DNA repair pathways; approximately half of the variants were within genes involved in homologous recombination repair. Loss of heterozygosity and somatic second hits were identified in several of these genes, supporting possible causality for cancer development. A potential treatment target based on pathogenic germline variant could be suggested in 25 patients (4%).\"\n",
      "!Series_overall_design\t\"investigation of expression features related to Class 4 and 5 germline mutations in cancer patients\"\n"
     ]
    }
   ],
   "source": [
    "background_prefixes = ['!Series_title', '!Series_summary', '!Series_overall_design']\n",
    "clinical_prefixes = ['!Sample_geo_accession', '!Sample_characteristics_ch1']\n",
    "\n",
    "background_info, clinical_data = get_background_and_clinical_data(matrix_file, background_prefixes, clinical_prefixes)\n",
    "print(background_info)"
   ]
  },
  {
   "cell_type": "code",
   "execution_count": 6,
   "metadata": {
    "ExecuteTime": {
     "end_time": "2024-01-02T01:03:01.642310454Z",
     "start_time": "2024-01-02T01:03:01.635048940Z"
    },
    "collapsed": false
   },
   "outputs": [
    {
     "data": {
      "text/html": [
       "<div>\n",
       "<style scoped>\n",
       "    .dataframe tbody tr th:only-of-type {\n",
       "        vertical-align: middle;\n",
       "    }\n",
       "\n",
       "    .dataframe tbody tr th {\n",
       "        vertical-align: top;\n",
       "    }\n",
       "\n",
       "    .dataframe thead th {\n",
       "        text-align: right;\n",
       "    }\n",
       "</style>\n",
       "<table border=\"1\" class=\"dataframe\">\n",
       "  <thead>\n",
       "    <tr style=\"text-align: right;\">\n",
       "      <th></th>\n",
       "      <th>!Sample_geo_accession</th>\n",
       "      <th>GSM3759992</th>\n",
       "      <th>GSM3759993</th>\n",
       "      <th>GSM3759994</th>\n",
       "      <th>GSM3759995</th>\n",
       "      <th>GSM3759996</th>\n",
       "      <th>GSM3759997</th>\n",
       "      <th>GSM3759998</th>\n",
       "      <th>GSM3759999</th>\n",
       "      <th>GSM3760000</th>\n",
       "      <th>...</th>\n",
       "      <th>GSM3760074</th>\n",
       "      <th>GSM3760075</th>\n",
       "      <th>GSM3760076</th>\n",
       "      <th>GSM3760077</th>\n",
       "      <th>GSM3760078</th>\n",
       "      <th>GSM3760079</th>\n",
       "      <th>GSM3760080</th>\n",
       "      <th>GSM3760081</th>\n",
       "      <th>GSM3760082</th>\n",
       "      <th>GSM3760083</th>\n",
       "    </tr>\n",
       "  </thead>\n",
       "  <tbody>\n",
       "    <tr>\n",
       "      <th>0</th>\n",
       "      <td>!Sample_characteristics_ch1</td>\n",
       "      <td>tissue: tumor biopsy</td>\n",
       "      <td>tissue: tumor biopsy</td>\n",
       "      <td>tissue: tumor biopsy</td>\n",
       "      <td>tissue: tumor biopsy</td>\n",
       "      <td>tissue: tumor biopsy</td>\n",
       "      <td>tissue: tumor biopsy</td>\n",
       "      <td>tissue: tumor biopsy</td>\n",
       "      <td>tissue: tumor biopsy</td>\n",
       "      <td>tissue: tumor biopsy</td>\n",
       "      <td>...</td>\n",
       "      <td>tissue: tumor biopsy</td>\n",
       "      <td>tissue: tumor biopsy</td>\n",
       "      <td>tissue: tumor biopsy</td>\n",
       "      <td>tissue: tumor biopsy</td>\n",
       "      <td>tissue: tumor biopsy</td>\n",
       "      <td>tissue: tumor biopsy</td>\n",
       "      <td>tissue: tumor biopsy</td>\n",
       "      <td>tissue: tumor biopsy</td>\n",
       "      <td>tissue: tumor biopsy</td>\n",
       "      <td>tissue: tumor biopsy</td>\n",
       "    </tr>\n",
       "    <tr>\n",
       "      <th>1</th>\n",
       "      <td>!Sample_characteristics_ch1</td>\n",
       "      <td>cancer: Breast cancer</td>\n",
       "      <td>cancer: Colorectal cancer</td>\n",
       "      <td>cancer: Colorectal cancer</td>\n",
       "      <td>cancer: Bile duct cancer</td>\n",
       "      <td>cancer: Mesothelioma</td>\n",
       "      <td>cancer: Urothelial cancer</td>\n",
       "      <td>cancer: Pancreatic cancer</td>\n",
       "      <td>cancer: Melanoma</td>\n",
       "      <td>cancer: Colorectal cancer</td>\n",
       "      <td>...</td>\n",
       "      <td>cancer: Prostate cancer</td>\n",
       "      <td>cancer: Ovarian cancer</td>\n",
       "      <td>cancer: Mesothelioma</td>\n",
       "      <td>cancer: vulvovaginal</td>\n",
       "      <td>cancer: Colorectal cancer</td>\n",
       "      <td>cancer: Bile duct cancer</td>\n",
       "      <td>cancer: Prostate cancer</td>\n",
       "      <td>cancer: Colorectal cancer</td>\n",
       "      <td>cancer: Colorectal cancer</td>\n",
       "      <td>cancer: Colorectal cancer</td>\n",
       "    </tr>\n",
       "    <tr>\n",
       "      <th>2</th>\n",
       "      <td>!Sample_characteristics_ch1</td>\n",
       "      <td>mutated gene: ATR</td>\n",
       "      <td>mutated gene: FAN1</td>\n",
       "      <td>mutated gene: ERCC3</td>\n",
       "      <td>mutated gene: FANCD2</td>\n",
       "      <td>mutated gene: BAP1</td>\n",
       "      <td>mutated gene: DDB2</td>\n",
       "      <td>mutated gene: TP53</td>\n",
       "      <td>mutated gene: ATM</td>\n",
       "      <td>mutated gene: CHEK1</td>\n",
       "      <td>...</td>\n",
       "      <td>mutated gene: FAN1</td>\n",
       "      <td>mutated gene: MRE11</td>\n",
       "      <td>mutated gene: XPC</td>\n",
       "      <td>mutated gene: PMS2</td>\n",
       "      <td>mutated gene: ATM</td>\n",
       "      <td>mutated gene: PALB2</td>\n",
       "      <td>mutated gene: NBN</td>\n",
       "      <td>mutated gene: CEP57</td>\n",
       "      <td>mutated gene: CDH1</td>\n",
       "      <td>mutated gene: FANCM</td>\n",
       "    </tr>\n",
       "    <tr>\n",
       "      <th>3</th>\n",
       "      <td>!Sample_characteristics_ch1</td>\n",
       "      <td>predicted: HRDEXP: HRD</td>\n",
       "      <td>predicted: HRDEXP: HRD</td>\n",
       "      <td>predicted: HRDEXP: NO_HRD</td>\n",
       "      <td>predicted: HRDEXP: NO_HRD</td>\n",
       "      <td>predicted: HRDEXP: HRD</td>\n",
       "      <td>predicted: HRDEXP: HRD</td>\n",
       "      <td>predicted: HRDEXP: NO_HRD</td>\n",
       "      <td>predicted: HRDEXP: NO_HRD</td>\n",
       "      <td>predicted: HRDEXP: HRD</td>\n",
       "      <td>...</td>\n",
       "      <td>predicted: HRDEXP: NO_HRD</td>\n",
       "      <td>predicted: HRDEXP: HRD</td>\n",
       "      <td>predicted: HRDEXP: HRD</td>\n",
       "      <td>predicted: HRDEXP: HRD</td>\n",
       "      <td>predicted: HRDEXP: NO_HRD</td>\n",
       "      <td>predicted: HRDEXP: NO_HRD</td>\n",
       "      <td>predicted: HRDEXP: NO_HRD</td>\n",
       "      <td>predicted: HRDEXP: NO_HRD</td>\n",
       "      <td>predicted: HRDEXP: HRD</td>\n",
       "      <td>predicted: HRDEXP: HRD</td>\n",
       "    </tr>\n",
       "    <tr>\n",
       "      <th>4</th>\n",
       "      <td>!Sample_characteristics_ch1</td>\n",
       "      <td>parp predicted: kmeans-2: PARP sensitive</td>\n",
       "      <td>parp predicted: kmeans-2: PARP sensitive</td>\n",
       "      <td>parp predicted: kmeans-2: PARP sensitive</td>\n",
       "      <td>parp predicted: kmeans-2: PARP sensitive</td>\n",
       "      <td>parp predicted: kmeans-2: PARP sensitive</td>\n",
       "      <td>parp predicted: kmeans-2: PARP sensitive</td>\n",
       "      <td>parp predicted: kmeans-2: PARP insensitive</td>\n",
       "      <td>parp predicted: kmeans-2: PARP insensitive</td>\n",
       "      <td>parp predicted: kmeans-2: PARP insensitive</td>\n",
       "      <td>...</td>\n",
       "      <td>parp predicted: kmeans-2: PARP insensitive</td>\n",
       "      <td>parp predicted: kmeans-2: PARP insensitive</td>\n",
       "      <td>parp predicted: kmeans-2: PARP insensitive</td>\n",
       "      <td>parp predicted: kmeans-2: PARP insensitive</td>\n",
       "      <td>parp predicted: kmeans-2: PARP insensitive</td>\n",
       "      <td>parp predicted: kmeans-2: PARP insensitive</td>\n",
       "      <td>parp predicted: kmeans-2: PARP insensitive</td>\n",
       "      <td>parp predicted: kmeans-2: PARP insensitive</td>\n",
       "      <td>parp predicted: kmeans-2: PARP insensitive</td>\n",
       "      <td>parp predicted: kmeans-2: PARP insensitive</td>\n",
       "    </tr>\n",
       "  </tbody>\n",
       "</table>\n",
       "<p>5 rows × 93 columns</p>\n",
       "</div>"
      ],
      "text/plain": [
       "         !Sample_geo_accession                                GSM3759992  \\\n",
       "0  !Sample_characteristics_ch1                      tissue: tumor biopsy   \n",
       "1  !Sample_characteristics_ch1                     cancer: Breast cancer   \n",
       "2  !Sample_characteristics_ch1                         mutated gene: ATR   \n",
       "3  !Sample_characteristics_ch1                    predicted: HRDEXP: HRD   \n",
       "4  !Sample_characteristics_ch1  parp predicted: kmeans-2: PARP sensitive   \n",
       "\n",
       "                                 GSM3759993  \\\n",
       "0                      tissue: tumor biopsy   \n",
       "1                 cancer: Colorectal cancer   \n",
       "2                        mutated gene: FAN1   \n",
       "3                    predicted: HRDEXP: HRD   \n",
       "4  parp predicted: kmeans-2: PARP sensitive   \n",
       "\n",
       "                                 GSM3759994  \\\n",
       "0                      tissue: tumor biopsy   \n",
       "1                 cancer: Colorectal cancer   \n",
       "2                       mutated gene: ERCC3   \n",
       "3                 predicted: HRDEXP: NO_HRD   \n",
       "4  parp predicted: kmeans-2: PARP sensitive   \n",
       "\n",
       "                                 GSM3759995  \\\n",
       "0                      tissue: tumor biopsy   \n",
       "1                  cancer: Bile duct cancer   \n",
       "2                      mutated gene: FANCD2   \n",
       "3                 predicted: HRDEXP: NO_HRD   \n",
       "4  parp predicted: kmeans-2: PARP sensitive   \n",
       "\n",
       "                                 GSM3759996  \\\n",
       "0                      tissue: tumor biopsy   \n",
       "1                      cancer: Mesothelioma   \n",
       "2                        mutated gene: BAP1   \n",
       "3                    predicted: HRDEXP: HRD   \n",
       "4  parp predicted: kmeans-2: PARP sensitive   \n",
       "\n",
       "                                 GSM3759997  \\\n",
       "0                      tissue: tumor biopsy   \n",
       "1                 cancer: Urothelial cancer   \n",
       "2                        mutated gene: DDB2   \n",
       "3                    predicted: HRDEXP: HRD   \n",
       "4  parp predicted: kmeans-2: PARP sensitive   \n",
       "\n",
       "                                   GSM3759998  \\\n",
       "0                        tissue: tumor biopsy   \n",
       "1                   cancer: Pancreatic cancer   \n",
       "2                          mutated gene: TP53   \n",
       "3                   predicted: HRDEXP: NO_HRD   \n",
       "4  parp predicted: kmeans-2: PARP insensitive   \n",
       "\n",
       "                                   GSM3759999  \\\n",
       "0                        tissue: tumor biopsy   \n",
       "1                            cancer: Melanoma   \n",
       "2                           mutated gene: ATM   \n",
       "3                   predicted: HRDEXP: NO_HRD   \n",
       "4  parp predicted: kmeans-2: PARP insensitive   \n",
       "\n",
       "                                   GSM3760000  ...  \\\n",
       "0                        tissue: tumor biopsy  ...   \n",
       "1                   cancer: Colorectal cancer  ...   \n",
       "2                         mutated gene: CHEK1  ...   \n",
       "3                      predicted: HRDEXP: HRD  ...   \n",
       "4  parp predicted: kmeans-2: PARP insensitive  ...   \n",
       "\n",
       "                                   GSM3760074  \\\n",
       "0                        tissue: tumor biopsy   \n",
       "1                     cancer: Prostate cancer   \n",
       "2                          mutated gene: FAN1   \n",
       "3                   predicted: HRDEXP: NO_HRD   \n",
       "4  parp predicted: kmeans-2: PARP insensitive   \n",
       "\n",
       "                                   GSM3760075  \\\n",
       "0                        tissue: tumor biopsy   \n",
       "1                      cancer: Ovarian cancer   \n",
       "2                         mutated gene: MRE11   \n",
       "3                      predicted: HRDEXP: HRD   \n",
       "4  parp predicted: kmeans-2: PARP insensitive   \n",
       "\n",
       "                                   GSM3760076  \\\n",
       "0                        tissue: tumor biopsy   \n",
       "1                        cancer: Mesothelioma   \n",
       "2                           mutated gene: XPC   \n",
       "3                      predicted: HRDEXP: HRD   \n",
       "4  parp predicted: kmeans-2: PARP insensitive   \n",
       "\n",
       "                                   GSM3760077  \\\n",
       "0                        tissue: tumor biopsy   \n",
       "1                        cancer: vulvovaginal   \n",
       "2                          mutated gene: PMS2   \n",
       "3                      predicted: HRDEXP: HRD   \n",
       "4  parp predicted: kmeans-2: PARP insensitive   \n",
       "\n",
       "                                   GSM3760078  \\\n",
       "0                        tissue: tumor biopsy   \n",
       "1                   cancer: Colorectal cancer   \n",
       "2                           mutated gene: ATM   \n",
       "3                   predicted: HRDEXP: NO_HRD   \n",
       "4  parp predicted: kmeans-2: PARP insensitive   \n",
       "\n",
       "                                   GSM3760079  \\\n",
       "0                        tissue: tumor biopsy   \n",
       "1                    cancer: Bile duct cancer   \n",
       "2                         mutated gene: PALB2   \n",
       "3                   predicted: HRDEXP: NO_HRD   \n",
       "4  parp predicted: kmeans-2: PARP insensitive   \n",
       "\n",
       "                                   GSM3760080  \\\n",
       "0                        tissue: tumor biopsy   \n",
       "1                     cancer: Prostate cancer   \n",
       "2                           mutated gene: NBN   \n",
       "3                   predicted: HRDEXP: NO_HRD   \n",
       "4  parp predicted: kmeans-2: PARP insensitive   \n",
       "\n",
       "                                   GSM3760081  \\\n",
       "0                        tissue: tumor biopsy   \n",
       "1                   cancer: Colorectal cancer   \n",
       "2                         mutated gene: CEP57   \n",
       "3                   predicted: HRDEXP: NO_HRD   \n",
       "4  parp predicted: kmeans-2: PARP insensitive   \n",
       "\n",
       "                                   GSM3760082  \\\n",
       "0                        tissue: tumor biopsy   \n",
       "1                   cancer: Colorectal cancer   \n",
       "2                          mutated gene: CDH1   \n",
       "3                      predicted: HRDEXP: HRD   \n",
       "4  parp predicted: kmeans-2: PARP insensitive   \n",
       "\n",
       "                                   GSM3760083  \n",
       "0                        tissue: tumor biopsy  \n",
       "1                   cancer: Colorectal cancer  \n",
       "2                         mutated gene: FANCM  \n",
       "3                      predicted: HRDEXP: HRD  \n",
       "4  parp predicted: kmeans-2: PARP insensitive  \n",
       "\n",
       "[5 rows x 93 columns]"
      ]
     },
     "execution_count": 6,
     "metadata": {},
     "output_type": "execute_result"
    }
   ],
   "source": [
    "clinical_data.head()"
   ]
  },
  {
   "cell_type": "code",
   "execution_count": 7,
   "metadata": {
    "ExecuteTime": {
     "end_time": "2024-01-02T01:03:01.805026160Z",
     "start_time": "2024-01-02T01:03:01.804428154Z"
    },
    "collapsed": false
   },
   "outputs": [
    {
     "data": {
      "text/plain": [
       "{0: ['tissue: tumor biopsy'],\n",
       " 1: ['cancer: Breast cancer',\n",
       "  'cancer: Colorectal cancer',\n",
       "  'cancer: Bile duct cancer',\n",
       "  'cancer: Mesothelioma',\n",
       "  'cancer: Urothelial cancer',\n",
       "  'cancer: Pancreatic cancer',\n",
       "  'cancer: Melanoma',\n",
       "  'cancer: Hepatocellular carcinoma',\n",
       "  'cancer: Ovarian cancer',\n",
       "  'cancer: Cervical cancer',\n",
       "  'cancer: Head and Neck cancer',\n",
       "  'cancer: Sarcoma',\n",
       "  'cancer: Prostate cancer',\n",
       "  'cancer: Adenoid cystic carcinoma',\n",
       "  'cancer: NSCLC',\n",
       "  'cancer: Oesophageal cancer',\n",
       "  'cancer: Thymoma',\n",
       "  'cancer: Others',\n",
       "  'cancer: CUP',\n",
       "  'cancer: Renal cell carcinoma',\n",
       "  'cancer: Gastric cancer',\n",
       "  'cancer: Neuroendocrine cancer',\n",
       "  'cancer: vulvovaginal'],\n",
       " 2: ['mutated gene: ATR',\n",
       "  'mutated gene: FAN1',\n",
       "  'mutated gene: ERCC3',\n",
       "  'mutated gene: FANCD2',\n",
       "  'mutated gene: BAP1',\n",
       "  'mutated gene: DDB2',\n",
       "  'mutated gene: TP53',\n",
       "  'mutated gene: ATM',\n",
       "  'mutated gene: CHEK1',\n",
       "  'mutated gene: BRCA1',\n",
       "  'mutated gene: WRN',\n",
       "  'mutated gene: CHEK2',\n",
       "  'mutated gene: BRCA2',\n",
       "  'mutated gene: XPC',\n",
       "  'mutated gene: PALB2',\n",
       "  'mutated gene: ABRAXAS1',\n",
       "  'mutated gene: NBN',\n",
       "  'mutated gene: BLM',\n",
       "  'mutated gene: FAM111B',\n",
       "  'mutated gene: FANCA',\n",
       "  'mutated gene: MLH1',\n",
       "  'mutated gene: BRIP1',\n",
       "  'mutated gene: IPMK',\n",
       "  'mutated gene: RECQL',\n",
       "  'mutated gene: RAD50',\n",
       "  'mutated gene: FANCM',\n",
       "  'mutated gene: GALNT12',\n",
       "  'mutated gene: SMAD9',\n",
       "  'mutated gene: ERCC2',\n",
       "  'mutated gene: FANCC'],\n",
       " 3: ['predicted: HRDEXP: HRD', 'predicted: HRDEXP: NO_HRD'],\n",
       " 4: ['parp predicted: kmeans-2: PARP sensitive',\n",
       "  'parp predicted: kmeans-2: PARP insensitive']}"
      ]
     },
     "execution_count": 7,
     "metadata": {},
     "output_type": "execute_result"
    }
   ],
   "source": [
    "clinical_data_unique = get_unique_values_by_row(clinical_data)\n",
    "clinical_data_unique"
   ]
  },
  {
   "cell_type": "markdown",
   "metadata": {
    "ExecuteTime": {
     "end_time": "2023-12-31T03:58:04.978204446Z",
     "start_time": "2023-12-31T03:58:04.922270095Z"
    },
    "collapsed": false
   },
   "source": [
    "Analyze the metadata to determine data relevance and find ways to extract the clinical data.\n",
    "Reference prompt:"
   ]
  },
  {
   "cell_type": "code",
   "execution_count": 8,
   "metadata": {
    "ExecuteTime": {
     "end_time": "2024-01-02T01:03:02.369775044Z",
     "start_time": "2024-01-02T01:03:02.356501629Z"
    },
    "collapsed": false
   },
   "outputs": [
    {
     "data": {
      "text/plain": [
       "'As a biomedical research team, we are selecting datasets to study the association between the human trait \\'Mesothelioma\\' and genetic factors, optionally considering the influence of age and gender. After searching the GEO database and parsing the matrix file of a series, we obtained background information and sample characteristics data. We will provide textual information about the dataset background, and a Python dictionary storing a list of unique values for each field of the sample characteristics data. Please carefully review the provided information and answer the following questions about this dataset:\\n1. Does this dataset contain gene expression data? (Note: Pure miRNA data is not suitable.)\\n2. For each of the traits \\'Mesothelioma\\', \\'age\\', and \\'gender\\', please address these points:\\n   (1) Is there human data available for this trait?\\n   (2) If so, identify the key in the sample characteristics dictionary where unique values of this trait is recorded. The key is an integer. The trait information might be explicitly recorded, or can be inferred from the field with some biomedical knowledge or understanding about the data collection process.\\n   (3) Choose an appropriate data type (either \\'continuous\\' or \\'binary\\') for each trait. Write a Python function to convert any given value of the trait to this data type. The function should handle inference about the trait value and convert unknown values to None.\\n   Name the functions \\'convert_trait\\', \\'convert_age\\', and \\'convert_gender\\', respectively.\\n\\nBackground information about the dataset:\\n!Series_title\\t\"High frequency of pathogenic germline variants in genes associated with homologous recombination repair in patients with advanced solid cancers\"\\n!Series_summary\\t\"We identified pathogenic and likely pathogenic variants in 17.8% of the patients within a wide range of cancer types. In particular, mesothelioma, ovarian cancer, cervical cancer, urothelial cancer, and cancer of unknown primary origin displayed high frequencies of pathogenic variants. In total, 22 BRCA1 and BRCA2 germline variant were identified in 12 different cancer types, of which 10 (45%) variants were not previously identified in these patients. Pathogenic germline variants were predominantly found in DNA repair pathways; approximately half of the variants were within genes involved in homologous recombination repair. Loss of heterozygosity and somatic second hits were identified in several of these genes, supporting possible causality for cancer development. A potential treatment target based on pathogenic germline variant could be suggested in 25 patients (4%).\"\\n!Series_overall_design\\t\"investigation of expression features related to Class 4 and 5 germline mutations in cancer patients\"\\n\\nSample characteristics dictionary (from \"!Sample_characteristics_ch1\", converted to a Python dictionary that stores the unique values for each field):\\n{0: [\\'tissue: tumor biopsy\\'], 1: [\\'cancer: Breast cancer\\', \\'cancer: Colorectal cancer\\', \\'cancer: Bile duct cancer\\', \\'cancer: Mesothelioma\\', \\'cancer: Urothelial cancer\\', \\'cancer: Pancreatic cancer\\', \\'cancer: Melanoma\\', \\'cancer: Hepatocellular carcinoma\\', \\'cancer: Ovarian cancer\\', \\'cancer: Cervical cancer\\', \\'cancer: Head and Neck cancer\\', \\'cancer: Sarcoma\\', \\'cancer: Prostate cancer\\', \\'cancer: Adenoid cystic carcinoma\\', \\'cancer: NSCLC\\', \\'cancer: Oesophageal cancer\\', \\'cancer: Thymoma\\', \\'cancer: Others\\', \\'cancer: CUP\\', \\'cancer: Renal cell carcinoma\\', \\'cancer: Gastric cancer\\', \\'cancer: Neuroendocrine cancer\\', \\'cancer: vulvovaginal\\'], 2: [\\'mutated gene: ATR\\', \\'mutated gene: FAN1\\', \\'mutated gene: ERCC3\\', \\'mutated gene: FANCD2\\', \\'mutated gene: BAP1\\', \\'mutated gene: DDB2\\', \\'mutated gene: TP53\\', \\'mutated gene: ATM\\', \\'mutated gene: CHEK1\\', \\'mutated gene: BRCA1\\', \\'mutated gene: WRN\\', \\'mutated gene: CHEK2\\', \\'mutated gene: BRCA2\\', \\'mutated gene: XPC\\', \\'mutated gene: PALB2\\', \\'mutated gene: ABRAXAS1\\', \\'mutated gene: NBN\\', \\'mutated gene: BLM\\', \\'mutated gene: FAM111B\\', \\'mutated gene: FANCA\\', \\'mutated gene: MLH1\\', \\'mutated gene: BRIP1\\', \\'mutated gene: IPMK\\', \\'mutated gene: RECQL\\', \\'mutated gene: RAD50\\', \\'mutated gene: FANCM\\', \\'mutated gene: GALNT12\\', \\'mutated gene: SMAD9\\', \\'mutated gene: ERCC2\\', \\'mutated gene: FANCC\\'], 3: [\\'predicted: HRDEXP: HRD\\', \\'predicted: HRDEXP: NO_HRD\\'], 4: [\\'parp predicted: kmeans-2: PARP sensitive\\', \\'parp predicted: kmeans-2: PARP insensitive\\']}\\n'"
      ]
     },
     "execution_count": 8,
     "metadata": {},
     "output_type": "execute_result"
    }
   ],
   "source": [
    "f'''As a biomedical research team, we are selecting datasets to study the association between the human trait \\'{TRAIT}\\' and genetic factors, optionally considering the influence of age and gender. After searching the GEO database and parsing the matrix file of a series, we obtained background information and sample characteristics data. We will provide textual information about the dataset background, and a Python dictionary storing a list of unique values for each field of the sample characteristics data. Please carefully review the provided information and answer the following questions about this dataset:\n",
    "1. Does this dataset contain gene expression data? (Note: Pure miRNA data is not suitable.)\n",
    "2. For each of the traits \\'{TRAIT}\\', 'age', and 'gender', please address these points:\n",
    "   (1) Is there human data available for this trait?\n",
    "   (2) If so, identify the key in the sample characteristics dictionary where unique values of this trait is recorded. The key is an integer. The trait information might be explicitly recorded, or can be inferred from the field with some biomedical knowledge or understanding about the data collection process.\n",
    "   (3) Choose an appropriate data type (either 'continuous' or 'binary') for each trait. Write a Python function to convert any given value of the trait to this data type. The function should handle inference about the trait value and convert unknown values to None.\n",
    "   Name the functions 'convert_trait', 'convert_age', and 'convert_gender', respectively.\n",
    "\n",
    "Background information about the dataset:\n",
    "{background_info}\n",
    "\n",
    "Sample characteristics dictionary (from \"!Sample_characteristics_ch1\", converted to a Python dictionary that stores the unique values for each field):\n",
    "{clinical_data_unique}\n",
    "'''"
   ]
  },
  {
   "cell_type": "markdown",
   "metadata": {
    "ExecuteTime": {
     "end_time": "2023-12-31T03:58:04.978240504Z",
     "start_time": "2023-12-31T03:58:04.922365324Z"
    },
    "collapsed": false
   },
   "source": [
    "Understand and verify the answer from GPT, to assign values to the below variables. Assign None to the 'row_id' variables if relevant data row was not found.\n",
    "Later we need to let GPT format its answer to automatically do these. But given the complexity of this step, let's grow some insight from the free-text answers for now."
   ]
  },
  {
   "cell_type": "code",
   "execution_count": 10,
   "metadata": {
    "ExecuteTime": {
     "end_time": "2024-01-02T01:03:03.079540570Z",
     "start_time": "2024-01-02T01:03:03.073638535Z"
    },
    "collapsed": false
   },
   "outputs": [],
   "source": [
    "is_gene_availabe = True\n",
    "trait_row_id = 0\n",
    "age_row_id = 2\n",
    "gender_row_id = 1\n",
    "\n",
    "trait_type = 'binary'"
   ]
  },
  {
   "cell_type": "code",
   "execution_count": 11,
   "metadata": {
    "ExecuteTime": {
     "end_time": "2024-01-02T01:03:03.572682163Z",
     "start_time": "2024-01-02T01:03:03.559775513Z"
    },
    "collapsed": false
   },
   "outputs": [],
   "source": [
    "is_available = is_gene_availabe and (trait_row_id is not None)\n",
    "if not is_available:\n",
    "    save_cohort_info(cohort, JSON_PATH, is_available)\n",
    "    print(\"This cohort is not usable. Please skip the following steps and jump to the next accession number.\")"
   ]
  },
  {
   "cell_type": "code",
   "execution_count": 12,
   "metadata": {
    "ExecuteTime": {
     "end_time": "2024-01-02T01:03:03.973964287Z",
     "start_time": "2024-01-02T01:03:03.964958096Z"
    },
    "collapsed": false
   },
   "outputs": [
    {
     "data": {
      "text/plain": [
       "(1, 23, 1)"
      ]
     },
     "execution_count": 12,
     "metadata": {},
     "output_type": "execute_result"
    }
   ],
   "source": [
    "def convert_trait(tissue_type):\n",
    "    \"\"\"\n",
    "    Convert tissue type to epilepsy presence (binary).\n",
    "    Assuming epilepsy presence for 'Hippocampus' tissue.\n",
    "    \"\"\"\n",
    "    if tissue_type == 'tissue: Hippocampus':\n",
    "        return 1  # Epilepsy present\n",
    "    else:\n",
    "        return 0  # Epilepsy not present\n",
    "\n",
    "def convert_age(age_string):\n",
    "    \"\"\"\n",
    "    Convert age string to a numerical value.\n",
    "    \"\"\"\n",
    "    if age_string.startswith('age: '):\n",
    "        try:\n",
    "            return int(age_string.split('age: ')[1].rstrip('y'))  # Extracting numeric part\n",
    "        except ValueError:\n",
    "            return None  # In case of parsing error\n",
    "    else:\n",
    "        return None  # If age string does not follow expected format\n",
    "\n",
    "def convert_gender(gender_string):\n",
    "    \"\"\"\n",
    "    Convert gender string to a binary representation.\n",
    "    Female -> 0, Male -> 1, Unknown -> None\n",
    "    \"\"\"\n",
    "    if gender_string == 'gender: Female':\n",
    "        return 0\n",
    "    elif gender_string == 'gender: Male':\n",
    "        return 1\n",
    "    else:\n",
    "        return None  # In case of unknown gender\n",
    "\n",
    "# Example usage\n",
    "example_tissue = 'tissue: Hippocampus'\n",
    "example_age = 'age: 23y'\n",
    "example_gender = 'gender: Male'\n",
    "\n",
    "converted_trait = convert_trait(example_tissue)\n",
    "converted_age = convert_age(example_age)\n",
    "converted_gender = convert_gender(example_gender)\n",
    "\n",
    "converted_trait, converted_age, converted_gender"
   ]
  },
  {
   "cell_type": "code",
   "execution_count": 13,
   "metadata": {
    "ExecuteTime": {
     "end_time": "2024-01-02T01:03:04.637878352Z",
     "start_time": "2024-01-02T01:03:04.593886885Z"
    },
    "collapsed": false
   },
   "outputs": [
    {
     "data": {
      "text/html": [
       "<div>\n",
       "<style scoped>\n",
       "    .dataframe tbody tr th:only-of-type {\n",
       "        vertical-align: middle;\n",
       "    }\n",
       "\n",
       "    .dataframe tbody tr th {\n",
       "        vertical-align: top;\n",
       "    }\n",
       "\n",
       "    .dataframe thead th {\n",
       "        text-align: right;\n",
       "    }\n",
       "</style>\n",
       "<table border=\"1\" class=\"dataframe\">\n",
       "  <thead>\n",
       "    <tr style=\"text-align: right;\">\n",
       "      <th></th>\n",
       "      <th>GSM6216198</th>\n",
       "      <th>GSM6216199</th>\n",
       "      <th>GSM6216200</th>\n",
       "      <th>GSM6216201</th>\n",
       "      <th>GSM6216202</th>\n",
       "      <th>GSM6216203</th>\n",
       "      <th>GSM6216204</th>\n",
       "      <th>GSM6216205</th>\n",
       "      <th>GSM6216206</th>\n",
       "      <th>GSM6216207</th>\n",
       "      <th>GSM6216208</th>\n",
       "      <th>GSM6216209</th>\n",
       "      <th>GSM6216210</th>\n",
       "      <th>GSM6216211</th>\n",
       "      <th>GSM6216212</th>\n",
       "    </tr>\n",
       "  </thead>\n",
       "  <tbody>\n",
       "    <tr>\n",
       "      <th>Epilepsy</th>\n",
       "      <td>1</td>\n",
       "      <td>1</td>\n",
       "      <td>1</td>\n",
       "      <td>1</td>\n",
       "      <td>1</td>\n",
       "      <td>1</td>\n",
       "      <td>0</td>\n",
       "      <td>0</td>\n",
       "      <td>0</td>\n",
       "      <td>0</td>\n",
       "      <td>0</td>\n",
       "      <td>0</td>\n",
       "      <td>0</td>\n",
       "      <td>0</td>\n",
       "      <td>0</td>\n",
       "    </tr>\n",
       "    <tr>\n",
       "      <th>Age</th>\n",
       "      <td>23</td>\n",
       "      <td>29</td>\n",
       "      <td>37</td>\n",
       "      <td>26</td>\n",
       "      <td>16</td>\n",
       "      <td>13</td>\n",
       "      <td>62</td>\n",
       "      <td>58</td>\n",
       "      <td>63</td>\n",
       "      <td>68</td>\n",
       "      <td>77</td>\n",
       "      <td>59</td>\n",
       "      <td>50</td>\n",
       "      <td>39</td>\n",
       "      <td>23</td>\n",
       "    </tr>\n",
       "    <tr>\n",
       "      <th>Gender</th>\n",
       "      <td>0</td>\n",
       "      <td>1</td>\n",
       "      <td>1</td>\n",
       "      <td>0</td>\n",
       "      <td>0</td>\n",
       "      <td>1</td>\n",
       "      <td>0</td>\n",
       "      <td>1</td>\n",
       "      <td>0</td>\n",
       "      <td>1</td>\n",
       "      <td>1</td>\n",
       "      <td>1</td>\n",
       "      <td>1</td>\n",
       "      <td>1</td>\n",
       "      <td>1</td>\n",
       "    </tr>\n",
       "  </tbody>\n",
       "</table>\n",
       "</div>"
      ],
      "text/plain": [
       "          GSM6216198  GSM6216199  GSM6216200  GSM6216201  GSM6216202  \\\n",
       "Epilepsy           1           1           1           1           1   \n",
       "Age               23          29          37          26          16   \n",
       "Gender             0           1           1           0           0   \n",
       "\n",
       "          GSM6216203  GSM6216204  GSM6216205  GSM6216206  GSM6216207  \\\n",
       "Epilepsy           1           0           0           0           0   \n",
       "Age               13          62          58          63          68   \n",
       "Gender             1           0           1           0           1   \n",
       "\n",
       "          GSM6216208  GSM6216209  GSM6216210  GSM6216211  GSM6216212  \n",
       "Epilepsy           0           0           0           0           0  \n",
       "Age               77          59          50          39          23  \n",
       "Gender             1           1           1           1           1  "
      ]
     },
     "execution_count": 13,
     "metadata": {},
     "output_type": "execute_result"
    }
   ],
   "source": [
    "selected_clinical_data = geo_select_clinical_features(clinical_data, TRAIT, trait_row_id, age_row_id, gender_row_id,\n",
    "                                                      convert_trait, convert_age, convert_gender)\n",
    "selected_clinical_data.head()"
   ]
  },
  {
   "cell_type": "markdown",
   "metadata": {
    "ExecuteTime": {
     "end_time": "2023-12-31T03:58:04.978664193Z",
     "start_time": "2023-12-31T03:58:04.966117261Z"
    },
    "collapsed": false
   },
   "source": [
    "### Genetic data preprocessing and final filtering"
   ]
  },
  {
   "cell_type": "code",
   "execution_count": 14,
   "metadata": {
    "ExecuteTime": {
     "end_time": "2024-01-02T01:03:06.246474256Z",
     "start_time": "2024-01-02T01:03:05.670354792Z"
    },
    "collapsed": false
   },
   "outputs": [
    {
     "data": {
      "text/html": [
       "<div>\n",
       "<style scoped>\n",
       "    .dataframe tbody tr th:only-of-type {\n",
       "        vertical-align: middle;\n",
       "    }\n",
       "\n",
       "    .dataframe tbody tr th {\n",
       "        vertical-align: top;\n",
       "    }\n",
       "\n",
       "    .dataframe thead th {\n",
       "        text-align: right;\n",
       "    }\n",
       "</style>\n",
       "<table border=\"1\" class=\"dataframe\">\n",
       "  <thead>\n",
       "    <tr style=\"text-align: right;\">\n",
       "      <th></th>\n",
       "      <th>ID</th>\n",
       "      <th>GSM6216198</th>\n",
       "      <th>GSM6216199</th>\n",
       "      <th>GSM6216200</th>\n",
       "      <th>GSM6216201</th>\n",
       "      <th>GSM6216202</th>\n",
       "      <th>GSM6216203</th>\n",
       "      <th>GSM6216204</th>\n",
       "      <th>GSM6216205</th>\n",
       "      <th>GSM6216206</th>\n",
       "      <th>GSM6216207</th>\n",
       "      <th>GSM6216208</th>\n",
       "      <th>GSM6216209</th>\n",
       "      <th>GSM6216210</th>\n",
       "      <th>GSM6216211</th>\n",
       "      <th>GSM6216212</th>\n",
       "    </tr>\n",
       "  </thead>\n",
       "  <tbody>\n",
       "    <tr>\n",
       "      <th>0</th>\n",
       "      <td>cg00000029</td>\n",
       "      <td>0.717</td>\n",
       "      <td>0.643</td>\n",
       "      <td>0.645</td>\n",
       "      <td>0.699</td>\n",
       "      <td>0.587</td>\n",
       "      <td>0.676</td>\n",
       "      <td>0.566</td>\n",
       "      <td>0.608</td>\n",
       "      <td>0.592</td>\n",
       "      <td>0.739</td>\n",
       "      <td>0.550</td>\n",
       "      <td>0.469</td>\n",
       "      <td>0.674</td>\n",
       "      <td>0.605</td>\n",
       "      <td>0.576</td>\n",
       "    </tr>\n",
       "    <tr>\n",
       "      <th>1</th>\n",
       "      <td>cg00000108</td>\n",
       "      <td>0.974</td>\n",
       "      <td>0.978</td>\n",
       "      <td>0.969</td>\n",
       "      <td>0.974</td>\n",
       "      <td>0.969</td>\n",
       "      <td>0.964</td>\n",
       "      <td>0.968</td>\n",
       "      <td>0.973</td>\n",
       "      <td>0.955</td>\n",
       "      <td>0.973</td>\n",
       "      <td>0.953</td>\n",
       "      <td>0.953</td>\n",
       "      <td>0.950</td>\n",
       "      <td>0.971</td>\n",
       "      <td>0.977</td>\n",
       "    </tr>\n",
       "    <tr>\n",
       "      <th>2</th>\n",
       "      <td>cg00000109</td>\n",
       "      <td>0.710</td>\n",
       "      <td>0.825</td>\n",
       "      <td>0.802</td>\n",
       "      <td>0.864</td>\n",
       "      <td>0.791</td>\n",
       "      <td>0.770</td>\n",
       "      <td>0.870</td>\n",
       "      <td>0.876</td>\n",
       "      <td>0.817</td>\n",
       "      <td>0.880</td>\n",
       "      <td>0.843</td>\n",
       "      <td>0.829</td>\n",
       "      <td>0.845</td>\n",
       "      <td>0.856</td>\n",
       "      <td>0.854</td>\n",
       "    </tr>\n",
       "    <tr>\n",
       "      <th>3</th>\n",
       "      <td>cg00000165</td>\n",
       "      <td>0.294</td>\n",
       "      <td>0.210</td>\n",
       "      <td>0.246</td>\n",
       "      <td>0.214</td>\n",
       "      <td>0.193</td>\n",
       "      <td>0.186</td>\n",
       "      <td>0.240</td>\n",
       "      <td>0.212</td>\n",
       "      <td>0.337</td>\n",
       "      <td>0.228</td>\n",
       "      <td>0.309</td>\n",
       "      <td>0.214</td>\n",
       "      <td>0.270</td>\n",
       "      <td>0.203</td>\n",
       "      <td>0.273</td>\n",
       "    </tr>\n",
       "    <tr>\n",
       "      <th>4</th>\n",
       "      <td>cg00000236</td>\n",
       "      <td>0.923</td>\n",
       "      <td>0.903</td>\n",
       "      <td>0.945</td>\n",
       "      <td>0.873</td>\n",
       "      <td>0.957</td>\n",
       "      <td>0.936</td>\n",
       "      <td>0.877</td>\n",
       "      <td>0.906</td>\n",
       "      <td>0.893</td>\n",
       "      <td>0.910</td>\n",
       "      <td>0.868</td>\n",
       "      <td>0.901</td>\n",
       "      <td>0.924</td>\n",
       "      <td>0.911</td>\n",
       "      <td>0.872</td>\n",
       "    </tr>\n",
       "  </tbody>\n",
       "</table>\n",
       "</div>"
      ],
      "text/plain": [
       "           ID  GSM6216198  GSM6216199  GSM6216200  GSM6216201  GSM6216202  \\\n",
       "0  cg00000029       0.717       0.643       0.645       0.699       0.587   \n",
       "1  cg00000108       0.974       0.978       0.969       0.974       0.969   \n",
       "2  cg00000109       0.710       0.825       0.802       0.864       0.791   \n",
       "3  cg00000165       0.294       0.210       0.246       0.214       0.193   \n",
       "4  cg00000236       0.923       0.903       0.945       0.873       0.957   \n",
       "\n",
       "   GSM6216203  GSM6216204  GSM6216205  GSM6216206  GSM6216207  GSM6216208  \\\n",
       "0       0.676       0.566       0.608       0.592       0.739       0.550   \n",
       "1       0.964       0.968       0.973       0.955       0.973       0.953   \n",
       "2       0.770       0.870       0.876       0.817       0.880       0.843   \n",
       "3       0.186       0.240       0.212       0.337       0.228       0.309   \n",
       "4       0.936       0.877       0.906       0.893       0.910       0.868   \n",
       "\n",
       "   GSM6216209  GSM6216210  GSM6216211  GSM6216212  \n",
       "0       0.469       0.674       0.605       0.576  \n",
       "1       0.953       0.950       0.971       0.977  \n",
       "2       0.829       0.845       0.856       0.854  \n",
       "3       0.214       0.270       0.203       0.273  \n",
       "4       0.901       0.924       0.911       0.872  "
      ]
     },
     "execution_count": 14,
     "metadata": {},
     "output_type": "execute_result"
    }
   ],
   "source": [
    "genetic_data = get_genetic_data(matrix_file)\n",
    "genetic_data.head()"
   ]
  },
  {
   "cell_type": "code",
   "execution_count": 15,
   "metadata": {
    "ExecuteTime": {
     "end_time": "2024-01-02T01:03:06.250833943Z",
     "start_time": "2024-01-02T01:03:06.246758837Z"
    },
    "collapsed": false
   },
   "outputs": [
    {
     "data": {
      "text/plain": [
       "['cg00000029',\n",
       " 'cg00000108',\n",
       " 'cg00000109',\n",
       " 'cg00000165',\n",
       " 'cg00000236',\n",
       " 'cg00000289',\n",
       " 'cg00000292',\n",
       " 'cg00000321',\n",
       " 'cg00000363',\n",
       " 'cg00000622',\n",
       " 'cg00000658',\n",
       " 'cg00000714',\n",
       " 'cg00000721',\n",
       " 'cg00000734',\n",
       " 'cg00000769',\n",
       " 'cg00000807',\n",
       " 'cg00000884',\n",
       " 'cg00000905',\n",
       " 'cg00000924',\n",
       " 'cg00000948']"
      ]
     },
     "execution_count": 15,
     "metadata": {},
     "output_type": "execute_result"
    }
   ],
   "source": [
    "gene_row_ids = genetic_data['ID'][:20].tolist()\n",
    "gene_row_ids"
   ]
  },
  {
   "cell_type": "markdown",
   "metadata": {
    "ExecuteTime": {
     "end_time": "2023-12-31T03:30:41.595335164Z",
     "start_time": "2023-12-31T03:30:41.513232329Z"
    },
    "collapsed": false
   },
   "source": [
    "Check if the gene dataset requires mapping to get the gene symbols corresponding to each data row."
   ]
  },
  {
   "cell_type": "markdown",
   "metadata": {
    "collapsed": false
   },
   "source": [
    "Reference prompt:"
   ]
  },
  {
   "cell_type": "code",
   "execution_count": 16,
   "metadata": {
    "ExecuteTime": {
     "end_time": "2024-01-02T01:03:07.586216481Z",
     "start_time": "2024-01-02T01:03:07.574527035Z"
    },
    "collapsed": false
   },
   "outputs": [
    {
     "data": {
      "text/plain": [
       "\"\\nBelow are the row headers of a gene expression dataset in GEO. Based on your biomedical knowledge, are they human gene symbols, or are they some other identifiers that need to be mapped to gene symbols? Your answer should be concluded by starting a new line and strictly following this format:\\nrequires_gene_mapping = (True or False)\\n\\nRow headers:\\n['cg00000029', 'cg00000108', 'cg00000109', 'cg00000165', 'cg00000236', 'cg00000289', 'cg00000292', 'cg00000321', 'cg00000363', 'cg00000622', 'cg00000658', 'cg00000714', 'cg00000721', 'cg00000734', 'cg00000769', 'cg00000807', 'cg00000884', 'cg00000905', 'cg00000924', 'cg00000948']\\n\""
      ]
     },
     "execution_count": 16,
     "metadata": {},
     "output_type": "execute_result"
    }
   ],
   "source": [
    "f'''\n",
    "Below are the row headers of a gene expression dataset in GEO. Based on your biomedical knowledge, are they human gene symbols, or are they some other identifiers that need to be mapped to gene symbols? Your answer should be concluded by starting a new line and strictly following this format:\n",
    "requires_gene_mapping = (True or False)\n",
    "\n",
    "Row headers:\n",
    "{gene_row_ids}\n",
    "'''"
   ]
  },
  {
   "cell_type": "markdown",
   "metadata": {
    "collapsed": false
   },
   "source": [
    "If not required, jump directly to the gene normalization step"
   ]
  },
  {
   "cell_type": "code",
   "execution_count": 17,
   "metadata": {
    "ExecuteTime": {
     "end_time": "2024-01-02T01:03:08.263712538Z",
     "start_time": "2024-01-02T01:03:08.260656314Z"
    },
    "collapsed": false
   },
   "outputs": [],
   "source": [
    "requires_gene_mapping = True"
   ]
  },
  {
   "cell_type": "code",
   "execution_count": 18,
   "metadata": {
    "ExecuteTime": {
     "end_time": "2024-01-02T01:03:33.822550310Z",
     "start_time": "2024-01-02T01:03:08.648958912Z"
    },
    "collapsed": false
   },
   "outputs": [
    {
     "name": "stdout",
     "output_type": "stream",
     "text": [
      "{'ID': ['cg00035864', 'cg00050873', 'cg00061679', 'cg00063477', 'cg00121626'], 'Name': ['cg00035864', 'cg00050873', 'cg00061679', 'cg00063477', 'cg00121626'], 'AddressA_ID': ['31729416', '32735311', '28780415', '16712347', '19779393'], 'AlleleA_ProbeSeq': ['AAAACACTAACAATCTTATCCACATAAACCCTTAAATTTATCTCAAATTC', 'ACAAAAAAACAACACACAACTATAATAATTTTTAAAATAAATAAACCCCA', 'AAAACATTAAAAAACTAATTCACTACTATTTAATTACTTTATTTTCCATC', 'TATTCTTCCACACAAAATACTAAACRTATATTTACAAAAATACTTCCATC', 'AAAACTAATAAAAATAACTTACAAACCAAATACTATACCCTACAACTCTC'], 'AddressB_ID': [nan, '31717405', nan, nan, nan], 'AlleleB_ProbeSeq': [nan, 'ACGAAAAAACAACGCACAACTATAATAATTTTTAAAATAAATAAACCCCG', nan, nan, nan], 'Infinium_Design_Type': ['II', 'I', 'II', 'II', 'II'], 'Next_Base': [nan, 'A', nan, nan, nan], 'Color_Channel': [nan, 'Red', nan, nan, nan], 'Forward_Sequence': ['AATCCAAAGATGATGGAGGAGTGCCCGCTCATGATGTGAAGTACCTGCTCAGCTGGAAAC[CG]AATTTGAGATAAATTCAAGGGTCTATGTGGACAAGACTGCTAGTGTCTCTCTCTGGATTG', 'TATCTCTGTCTGGCGAGGAGGCAACGCACAACTGTGGTGGTTTTTGGAGTGGGTGGACCC[CG]GCCAAGACGGCCTGGGCTGACCAGAGACGGGAGGCAGAAAAAGTGGGCAGGTGGTTGCAG', 'TCAACAAATGAGAGACATTGAAGAACTAATTCACTACTATTTGGTTACTTTATTTTCCAT[CG]AAGAAAACCTCTTTTTAAAAACTAACACATAAATAAAATGAACGAAGAACAAACTAAACG', 'CTCCTGTACTTGTTCATTAAATAATGATTCCTTGGATATACCAAGTCTGGATAGCGGATT[CG]ATGGAAGCATTTTTGTAAATATACGTTCAGTATTTTGTGTGGAAGAACACAATCTAGCTG', 'AGGTGAATGAAGAGACTAATGGGAGTGGCTTGCAAGCCAGGTACTGTGCCCTACAACTCT[CG]CGCTGCCACAAAAAGCCAATTAACGAAGCAAACTGTTTTATCTTTTCCTCTCCCCAGAAG'], 'Genome_Build': [37.0, 37.0, 37.0, 37.0, 37.0], 'CHR': ['Y', 'Y', 'Y', 'Y', 'Y'], 'MAPINFO': [8553009.0, 9363356.0, 25314171.0, 22741795.0, 21664296.0], 'SourceSeq': ['AGACACTAGCAGTCTTGTCCACATAGACCCTTGAATTTATCTCAAATTCG', 'CGGGGTCCACCCACTCCAAAAACCACCACAGTTGTGCGTTGCCTCCTCGC', 'CGATGGAAAATAAAGTAACCAAATAGTAGTGAATTAGTTCTTCAATGTCT', 'CGATGGAAGCATTTTTGTAAATATACGTTCAGTATTTTGTGTGGAAGAAC', 'AGACTAATGGGAGTGGCTTGCAAGCCAGGTACTGTGCCCTACAACTCTCG'], 'Chromosome_36': ['Y', 'Y', 'Y', 'Y', 'Y'], 'Coordinate_36': ['8613009', '9973356', '23723559', '21151183', '20123684'], 'Strand': ['F', 'R', 'R', 'F', 'R'], 'Probe_SNPs': [nan, nan, nan, 'rs9341313', nan], 'Probe_SNPs_10': [nan, nan, nan, 'rs13447379', nan], 'Random_Loci': [nan, nan, nan, nan, nan], 'Methyl27_Loci': [nan, nan, nan, nan, nan], 'UCSC_RefGene_Name': ['TTTY18', 'TSPY4;FAM197Y2', 'DAZ1;DAZ4;DAZ4', 'EIF1AY', 'BCORL2'], 'UCSC_RefGene_Accession': ['NR_001550', 'NM_001164471;NR_001553', 'NM_004081;NM_020420;NM_001005375', 'NM_004681', 'NR_002923'], 'UCSC_RefGene_Group': ['TSS1500', 'Body;TSS1500', 'Body;Body;Body', 'Body', 'Body'], 'UCSC_CpG_Islands_Name': [nan, 'chrY:9363680-9363943', nan, 'chrY:22737825-22738052', 'chrY:21664481-21665063'], 'Relation_to_UCSC_CpG_Island': [nan, 'N_Shore', nan, 'S_Shelf', 'N_Shore'], 'Phantom': [nan, nan, nan, nan, nan], 'DMR': [nan, nan, nan, nan, nan], 'Enhancer': [nan, nan, nan, nan, nan], 'HMM_Island': [nan, 'Y:9973136-9976273', nan, nan, nan], 'Regulatory_Feature_Name': [nan, nan, nan, nan, nan], 'Regulatory_Feature_Group': [nan, nan, nan, nan, nan], 'DHS': [nan, nan, nan, nan, nan], 'RANGE_START': [8553009.0, 9363356.0, 25314171.0, 22741795.0, 21664296.0], 'RANGE_END': [8553132.0, 9363479.0, 25314294.0, 22741918.0, 21664419.0], 'RANGE_GB': ['NC_000024.9', 'NC_000024.9', 'NC_000024.9', 'NC_000024.9', 'NC_000024.9'], 'SPOT_ID': [nan, nan, nan, nan, nan]}\n"
     ]
    }
   ],
   "source": [
    "if requires_gene_mapping:\n",
    "    gene_annotation = get_gene_annotation(soft_file)[0]\n",
    "    gene_annotation_summary = preview_df(gene_annotation)\n",
    "    print(gene_annotation_summary)"
   ]
  },
  {
   "cell_type": "markdown",
   "metadata": {
    "ExecuteTime": {
     "end_time": "2023-12-31T03:58:04.978931927Z",
     "start_time": "2023-12-31T03:58:04.966328339Z"
    },
    "collapsed": false
   },
   "source": [
    "Observe the first few cells in the ID column of the gene annotation dataframe, to find the names of columns that store the gene probe IDs and gene symbols respectively.\n",
    "Reference prompt:"
   ]
  },
  {
   "cell_type": "code",
   "execution_count": 19,
   "metadata": {
    "ExecuteTime": {
     "end_time": "2024-01-02T01:03:33.822912446Z",
     "start_time": "2024-01-02T01:03:33.804491826Z"
    },
    "collapsed": false
   },
   "outputs": [
    {
     "name": "stdout",
     "output_type": "stream",
     "text": [
      "\n",
      "    As a biomedical research team, we extracted the gene annotation data from a series in the GEO database, and saved it to a Python dictionary. Please read the dictionary, and decide which key stores the ID of the probe, and which key stores the gene symbols. Please strict follow this format in your answer:\n",
      "    probe_name_key = 'key_name1'\n",
      "    gene_name_key = 'key_name2'\n",
      "\n",
      "    Gene annotation dictionary:\n",
      "    {'ID': ['cg00035864', 'cg00050873', 'cg00061679', 'cg00063477', 'cg00121626'], 'Name': ['cg00035864', 'cg00050873', 'cg00061679', 'cg00063477', 'cg00121626'], 'AddressA_ID': ['31729416', '32735311', '28780415', '16712347', '19779393'], 'AlleleA_ProbeSeq': ['AAAACACTAACAATCTTATCCACATAAACCCTTAAATTTATCTCAAATTC', 'ACAAAAAAACAACACACAACTATAATAATTTTTAAAATAAATAAACCCCA', 'AAAACATTAAAAAACTAATTCACTACTATTTAATTACTTTATTTTCCATC', 'TATTCTTCCACACAAAATACTAAACRTATATTTACAAAAATACTTCCATC', 'AAAACTAATAAAAATAACTTACAAACCAAATACTATACCCTACAACTCTC'], 'AddressB_ID': [nan, '31717405', nan, nan, nan], 'AlleleB_ProbeSeq': [nan, 'ACGAAAAAACAACGCACAACTATAATAATTTTTAAAATAAATAAACCCCG', nan, nan, nan], 'Infinium_Design_Type': ['II', 'I', 'II', 'II', 'II'], 'Next_Base': [nan, 'A', nan, nan, nan], 'Color_Channel': [nan, 'Red', nan, nan, nan], 'Forward_Sequence': ['AATCCAAAGATGATGGAGGAGTGCCCGCTCATGATGTGAAGTACCTGCTCAGCTGGAAAC[CG]AATTTGAGATAAATTCAAGGGTCTATGTGGACAAGACTGCTAGTGTCTCTCTCTGGATTG', 'TATCTCTGTCTGGCGAGGAGGCAACGCACAACTGTGGTGGTTTTTGGAGTGGGTGGACCC[CG]GCCAAGACGGCCTGGGCTGACCAGAGACGGGAGGCAGAAAAAGTGGGCAGGTGGTTGCAG', 'TCAACAAATGAGAGACATTGAAGAACTAATTCACTACTATTTGGTTACTTTATTTTCCAT[CG]AAGAAAACCTCTTTTTAAAAACTAACACATAAATAAAATGAACGAAGAACAAACTAAACG', 'CTCCTGTACTTGTTCATTAAATAATGATTCCTTGGATATACCAAGTCTGGATAGCGGATT[CG]ATGGAAGCATTTTTGTAAATATACGTTCAGTATTTTGTGTGGAAGAACACAATCTAGCTG', 'AGGTGAATGAAGAGACTAATGGGAGTGGCTTGCAAGCCAGGTACTGTGCCCTACAACTCT[CG]CGCTGCCACAAAAAGCCAATTAACGAAGCAAACTGTTTTATCTTTTCCTCTCCCCAGAAG'], 'Genome_Build': [37.0, 37.0, 37.0, 37.0, 37.0], 'CHR': ['Y', 'Y', 'Y', 'Y', 'Y'], 'MAPINFO': [8553009.0, 9363356.0, 25314171.0, 22741795.0, 21664296.0], 'SourceSeq': ['AGACACTAGCAGTCTTGTCCACATAGACCCTTGAATTTATCTCAAATTCG', 'CGGGGTCCACCCACTCCAAAAACCACCACAGTTGTGCGTTGCCTCCTCGC', 'CGATGGAAAATAAAGTAACCAAATAGTAGTGAATTAGTTCTTCAATGTCT', 'CGATGGAAGCATTTTTGTAAATATACGTTCAGTATTTTGTGTGGAAGAAC', 'AGACTAATGGGAGTGGCTTGCAAGCCAGGTACTGTGCCCTACAACTCTCG'], 'Chromosome_36': ['Y', 'Y', 'Y', 'Y', 'Y'], 'Coordinate_36': ['8613009', '9973356', '23723559', '21151183', '20123684'], 'Strand': ['F', 'R', 'R', 'F', 'R'], 'Probe_SNPs': [nan, nan, nan, 'rs9341313', nan], 'Probe_SNPs_10': [nan, nan, nan, 'rs13447379', nan], 'Random_Loci': [nan, nan, nan, nan, nan], 'Methyl27_Loci': [nan, nan, nan, nan, nan], 'UCSC_RefGene_Name': ['TTTY18', 'TSPY4;FAM197Y2', 'DAZ1;DAZ4;DAZ4', 'EIF1AY', 'BCORL2'], 'UCSC_RefGene_Accession': ['NR_001550', 'NM_001164471;NR_001553', 'NM_004081;NM_020420;NM_001005375', 'NM_004681', 'NR_002923'], 'UCSC_RefGene_Group': ['TSS1500', 'Body;TSS1500', 'Body;Body;Body', 'Body', 'Body'], 'UCSC_CpG_Islands_Name': [nan, 'chrY:9363680-9363943', nan, 'chrY:22737825-22738052', 'chrY:21664481-21665063'], 'Relation_to_UCSC_CpG_Island': [nan, 'N_Shore', nan, 'S_Shelf', 'N_Shore'], 'Phantom': [nan, nan, nan, nan, nan], 'DMR': [nan, nan, nan, nan, nan], 'Enhancer': [nan, nan, nan, nan, nan], 'HMM_Island': [nan, 'Y:9973136-9976273', nan, nan, nan], 'Regulatory_Feature_Name': [nan, nan, nan, nan, nan], 'Regulatory_Feature_Group': [nan, nan, nan, nan, nan], 'DHS': [nan, nan, nan, nan, nan], 'RANGE_START': [8553009.0, 9363356.0, 25314171.0, 22741795.0, 21664296.0], 'RANGE_END': [8553132.0, 9363479.0, 25314294.0, 22741918.0, 21664419.0], 'RANGE_GB': ['NC_000024.9', 'NC_000024.9', 'NC_000024.9', 'NC_000024.9', 'NC_000024.9'], 'SPOT_ID': [nan, nan, nan, nan, nan]}\n",
      "    \n"
     ]
    }
   ],
   "source": [
    "if requires_gene_mapping:\n",
    "    print(f'''\n",
    "    As a biomedical research team, we extracted the gene annotation data from a series in the GEO database, and saved it to a Python dictionary. Please read the dictionary, and decide which key stores the ID of the probe, and which key stores the gene symbols. Please strict follow this format in your answer:\n",
    "    probe_name_key = 'key_name1'\n",
    "    gene_name_key = 'key_name2'\n",
    "\n",
    "    Gene annotation dictionary:\n",
    "    {gene_annotation_summary}\n",
    "    ''')"
   ]
  },
  {
   "cell_type": "code",
   "execution_count": 20,
   "metadata": {
    "ExecuteTime": {
     "end_time": "2024-01-02T01:03:35.113359369Z",
     "start_time": "2024-01-02T01:03:33.804666371Z"
    },
    "collapsed": false
   },
   "outputs": [],
   "source": [
    "if requires_gene_mapping:\n",
    "    probe_id_key = 'ID'\n",
    "    gene_symb_key = 'UCSC_RefGene_Name'\n",
    "    gene_mapping = get_gene_mapping(gene_annotation, probe_id_key, gene_symb_key)\n",
    "    genetic_data = apply_gene_mapping(genetic_data, gene_mapping)"
   ]
  },
  {
   "cell_type": "code",
   "execution_count": 21,
   "metadata": {
    "ExecuteTime": {
     "end_time": "2024-01-02T01:03:35.156584675Z",
     "start_time": "2024-01-02T01:03:35.114652593Z"
    },
    "collapsed": false
   },
   "outputs": [],
   "source": [
    "if NORMALIZE_GENE:\n",
    "    genetic_data = normalize_gene_symbols_in_index(genetic_data)"
   ]
  },
  {
   "cell_type": "code",
   "execution_count": 22,
   "metadata": {
    "ExecuteTime": {
     "end_time": "2024-01-02T01:03:35.158174021Z",
     "start_time": "2024-01-02T01:03:35.156777134Z"
    },
    "collapsed": false
   },
   "outputs": [],
   "source": [
    "merged_data = geo_merge_clinical_genetic_data(selected_clinical_data, genetic_data)\n",
    "# The preprocessing runs through, which means is_available should be True\n",
    "is_available = True"
   ]
  },
  {
   "cell_type": "code",
   "execution_count": 23,
   "metadata": {
    "ExecuteTime": {
     "end_time": "2024-01-02T01:03:35.158378853Z",
     "start_time": "2024-01-02T01:03:35.156895194Z"
    },
    "collapsed": false
   },
   "outputs": [
    {
     "name": "stdout",
     "output_type": "stream",
     "text": [
      "The merged dataset contains 15 samples.\n"
     ]
    }
   ],
   "source": [
    "print(f\"The merged dataset contains {len(merged_data)} samples.\")"
   ]
  },
  {
   "cell_type": "code",
   "execution_count": 24,
   "metadata": {
    "ExecuteTime": {
     "end_time": "2024-01-02T01:03:35.158646754Z",
     "start_time": "2024-01-02T01:03:35.156975304Z"
    },
    "collapsed": false
   },
   "outputs": [
    {
     "name": "stdout",
     "output_type": "stream",
     "text": [
      "For the feature 'Epilepsy', the least common label is '1.0' with 6 occurrences. This represents 40.00% of the dataset.\n",
      "The distribution of the feature 'Epilepsy' in this dataset is fine.\n",
      "\n",
      "Quartiles for 'Age':\n",
      "  25%: 24.5\n",
      "  50% (Median): 39.0\n",
      "  75%: 60.5\n",
      "Min: 13.0\n",
      "Max: 77.0\n",
      "The distribution of the feature 'Age' in this dataset is fine.\n",
      "\n",
      "For the feature 'Gender', the least common label is '0.0' with 5 occurrences. This represents 33.33% of the dataset.\n",
      "The distribution of the feature 'Gender' in this dataset is fine.\n",
      "\n"
     ]
    },
    {
     "data": {
      "text/plain": [
       "False"
      ]
     },
     "execution_count": 24,
     "metadata": {},
     "output_type": "execute_result"
    }
   ],
   "source": [
    "is_trait_biased, merged_data = judge_and_remove_biased_features(merged_data, TRAIT, trait_type=trait_type)\n",
    "is_trait_biased"
   ]
  },
  {
   "cell_type": "code",
   "execution_count": 25,
   "metadata": {
    "ExecuteTime": {
     "end_time": "2024-01-02T01:03:35.158803015Z",
     "start_time": "2024-01-02T01:03:35.157063388Z"
    },
    "collapsed": false
   },
   "outputs": [
    {
     "name": "stdout",
     "output_type": "stream",
     "text": [
      "A new JSON file was created at: ../../output1/Haoyang/Epilepsy/cohort_info.json\n"
     ]
    }
   ],
   "source": [
    "save_cohort_info(cohort, JSON_PATH, is_available, is_trait_biased, merged_data, note='')"
   ]
  },
  {
   "cell_type": "code",
   "execution_count": 26,
   "metadata": {
    "ExecuteTime": {
     "end_time": "2024-01-02T01:03:36.004312476Z",
     "start_time": "2024-01-02T01:03:35.157165158Z"
    },
    "collapsed": false
   },
   "outputs": [],
   "source": [
    "merged_data.head()\n",
    "if not is_trait_biased:\n",
    "    merged_data.to_csv(os.path.join(OUTPUT_DIR, cohort+'.csv'), index=False)"
   ]
  },
  {
   "cell_type": "markdown",
   "metadata": {
    "ExecuteTime": {
     "end_time": "2023-12-31T03:58:22.271683755Z",
     "start_time": "2023-12-31T03:58:22.246557674Z"
    },
    "id": "-MTPhRGxJV7I"
   },
   "source": [
    "### 3. Do regression & Cross Validation"
   ]
  },
  {
   "cell_type": "code",
   "execution_count": 32,
   "metadata": {
    "ExecuteTime": {
     "end_time": "2024-01-02T01:03:36.048788605Z",
     "start_time": "2024-01-02T01:03:36.005925887Z"
    },
    "collapsed": false
   },
   "outputs": [],
   "source": [
    "from utils import *"
   ]
  },
  {
   "cell_type": "code",
   "execution_count": 33,
   "metadata": {
    "ExecuteTime": {
     "end_time": "2024-01-02T01:03:36.049183603Z",
     "start_time": "2024-01-02T01:03:36.048440305Z"
    },
    "collapsed": false
   },
   "outputs": [],
   "source": [
    "best_cohort, ranked_df = filter_and_rank_cohorts(JSON_PATH, 'has_age')\n",
    "best_cohort"
   ]
  },
  {
   "cell_type": "code",
   "execution_count": 34,
   "metadata": {
    "ExecuteTime": {
     "end_time": "2024-01-02T01:03:36.049430313Z",
     "start_time": "2024-01-02T01:03:36.048984361Z"
    },
    "collapsed": false
   },
   "outputs": [
    {
     "data": {
      "text/html": [
       "<div>\n",
       "<style scoped>\n",
       "    .dataframe tbody tr th:only-of-type {\n",
       "        vertical-align: middle;\n",
       "    }\n",
       "\n",
       "    .dataframe tbody tr th {\n",
       "        vertical-align: top;\n",
       "    }\n",
       "\n",
       "    .dataframe thead th {\n",
       "        text-align: right;\n",
       "    }\n",
       "</style>\n",
       "<table border=\"1\" class=\"dataframe\">\n",
       "  <thead>\n",
       "    <tr style=\"text-align: right;\">\n",
       "      <th></th>\n",
       "      <th>cohort_id</th>\n",
       "      <th>is_usable</th>\n",
       "      <th>is_available</th>\n",
       "      <th>is_biased</th>\n",
       "      <th>has_age</th>\n",
       "      <th>has_gender</th>\n",
       "      <th>sample_size</th>\n",
       "      <th>note</th>\n",
       "    </tr>\n",
       "  </thead>\n",
       "  <tbody>\n",
       "  </tbody>\n",
       "</table>\n",
       "</div>"
      ],
      "text/plain": [
       "Empty DataFrame\n",
       "Columns: [cohort_id, is_usable, is_available, is_biased, has_age, has_gender, sample_size, note]\n",
       "Index: []"
      ]
     },
     "execution_count": 34,
     "metadata": {},
     "output_type": "execute_result"
    }
   ],
   "source": [
    "ranked_df.head()"
   ]
  },
  {
   "cell_type": "code",
   "execution_count": 35,
   "metadata": {
    "ExecuteTime": {
     "end_time": "2024-01-02T01:03:36.345375576Z",
     "start_time": "2024-01-02T01:03:36.049289340Z"
    },
    "collapsed": false
   },
   "outputs": [
    {
     "ename": "TypeError",
     "evalue": "unsupported operand type(s) for +: 'NoneType' and 'str'",
     "output_type": "error",
     "traceback": [
      "\u001b[0;31m---------------------------------------------------------------------------\u001b[0m",
      "\u001b[0;31mTypeError\u001b[0m                                 Traceback (most recent call last)",
      "\u001b[1;32m/home/yxcheng/AI4Science_gold_standard/stage1/Jianrong/Mesothelioma.ipynb 单元格 68\u001b[0m line \u001b[0;36m1\n\u001b[0;32m----> <a href='vscode-notebook-cell://ssh-remote%2B218.199.69.68/home/yxcheng/AI4Science_gold_standard/stage1/Jianrong/Mesothelioma.ipynb#Y124sdnNjb2RlLXJlbW90ZQ%3D%3D?line=0'>1</a>\u001b[0m merged_data \u001b[39m=\u001b[39m pd\u001b[39m.\u001b[39mread_csv(os\u001b[39m.\u001b[39mpath\u001b[39m.\u001b[39mjoin(OUTPUT_DIR, best_cohort\u001b[39m+\u001b[39;49m\u001b[39m'\u001b[39;49m\u001b[39m.csv\u001b[39;49m\u001b[39m'\u001b[39;49m))\n",
      "\u001b[0;31mTypeError\u001b[0m: unsupported operand type(s) for +: 'NoneType' and 'str'"
     ]
    }
   ],
   "source": [
    "merged_data = pd.read_csv(os.path.join(OUTPUT_DIR, best_cohort+'.csv'))"
   ]
  },
  {
   "cell_type": "code",
   "execution_count": 45,
   "metadata": {
    "ExecuteTime": {
     "end_time": "2024-01-02T01:03:36.400788548Z",
     "start_time": "2024-01-02T01:03:36.355439168Z"
    },
    "collapsed": false
   },
   "outputs": [
    {
     "data": {
      "text/html": [
       "<div>\n",
       "<style scoped>\n",
       "    .dataframe tbody tr th:only-of-type {\n",
       "        vertical-align: middle;\n",
       "    }\n",
       "\n",
       "    .dataframe tbody tr th {\n",
       "        vertical-align: top;\n",
       "    }\n",
       "\n",
       "    .dataframe thead th {\n",
       "        text-align: right;\n",
       "    }\n",
       "</style>\n",
       "<table border=\"1\" class=\"dataframe\">\n",
       "  <thead>\n",
       "    <tr style=\"text-align: right;\">\n",
       "      <th></th>\n",
       "      <th>Lung-Cancer</th>\n",
       "      <th>Age</th>\n",
       "      <th>Gender</th>\n",
       "      <th>ARHGEF10L</th>\n",
       "      <th>HIF3A</th>\n",
       "      <th>RNF17</th>\n",
       "      <th>RNF10</th>\n",
       "      <th>RNF11</th>\n",
       "      <th>RNF13</th>\n",
       "      <th>GTF2IP1</th>\n",
       "      <th>...</th>\n",
       "      <th>SLC7A10</th>\n",
       "      <th>PLA2G2C</th>\n",
       "      <th>TULP2</th>\n",
       "      <th>NPY5R</th>\n",
       "      <th>GNGT2</th>\n",
       "      <th>GNGT1</th>\n",
       "      <th>TULP3</th>\n",
       "      <th>BCL6B</th>\n",
       "      <th>GSTK1</th>\n",
       "      <th>SELP</th>\n",
       "    </tr>\n",
       "  </thead>\n",
       "  <tbody>\n",
       "    <tr>\n",
       "      <th>0</th>\n",
       "      <td>1</td>\n",
       "      <td>70.0</td>\n",
       "      <td>1.0</td>\n",
       "      <td>-0.056592</td>\n",
       "      <td>2.128674</td>\n",
       "      <td>-0.531035</td>\n",
       "      <td>-0.185972</td>\n",
       "      <td>-0.190878</td>\n",
       "      <td>-0.11891</td>\n",
       "      <td>-0.659794</td>\n",
       "      <td>...</td>\n",
       "      <td>3.634614</td>\n",
       "      <td>0.677218</td>\n",
       "      <td>0.015022</td>\n",
       "      <td>-1.155117</td>\n",
       "      <td>0.528367</td>\n",
       "      <td>2.75061</td>\n",
       "      <td>0.428423</td>\n",
       "      <td>-0.195527</td>\n",
       "      <td>-0.324695</td>\n",
       "      <td>0.193167</td>\n",
       "    </tr>\n",
       "    <tr>\n",
       "      <th>1</th>\n",
       "      <td>1</td>\n",
       "      <td>67.0</td>\n",
       "      <td>1.0</td>\n",
       "      <td>-0.569692</td>\n",
       "      <td>-0.318126</td>\n",
       "      <td>-0.531035</td>\n",
       "      <td>0.237428</td>\n",
       "      <td>0.011822</td>\n",
       "      <td>-0.00611</td>\n",
       "      <td>1.018406</td>\n",
       "      <td>...</td>\n",
       "      <td>4.908014</td>\n",
       "      <td>0.888518</td>\n",
       "      <td>-0.031778</td>\n",
       "      <td>-0.393117</td>\n",
       "      <td>1.632467</td>\n",
       "      <td>2.33551</td>\n",
       "      <td>-0.145577</td>\n",
       "      <td>-0.276027</td>\n",
       "      <td>-1.219395</td>\n",
       "      <td>1.850967</td>\n",
       "    </tr>\n",
       "    <tr>\n",
       "      <th>2</th>\n",
       "      <td>1</td>\n",
       "      <td>79.0</td>\n",
       "      <td>0.0</td>\n",
       "      <td>-0.899992</td>\n",
       "      <td>-0.918126</td>\n",
       "      <td>-0.531035</td>\n",
       "      <td>-0.621472</td>\n",
       "      <td>-0.454178</td>\n",
       "      <td>0.58719</td>\n",
       "      <td>-0.198894</td>\n",
       "      <td>...</td>\n",
       "      <td>0.489514</td>\n",
       "      <td>-0.086682</td>\n",
       "      <td>-0.748878</td>\n",
       "      <td>-1.173917</td>\n",
       "      <td>1.966367</td>\n",
       "      <td>-1.28139</td>\n",
       "      <td>-0.374877</td>\n",
       "      <td>0.714373</td>\n",
       "      <td>0.112305</td>\n",
       "      <td>-0.532833</td>\n",
       "    </tr>\n",
       "    <tr>\n",
       "      <th>3</th>\n",
       "      <td>1</td>\n",
       "      <td>68.0</td>\n",
       "      <td>1.0</td>\n",
       "      <td>0.667508</td>\n",
       "      <td>3.895974</td>\n",
       "      <td>-0.221535</td>\n",
       "      <td>-0.367272</td>\n",
       "      <td>0.131822</td>\n",
       "      <td>0.97629</td>\n",
       "      <td>-0.494994</td>\n",
       "      <td>...</td>\n",
       "      <td>5.730914</td>\n",
       "      <td>-0.086682</td>\n",
       "      <td>1.013722</td>\n",
       "      <td>-1.587117</td>\n",
       "      <td>0.359267</td>\n",
       "      <td>2.59051</td>\n",
       "      <td>0.806623</td>\n",
       "      <td>0.367373</td>\n",
       "      <td>-0.494595</td>\n",
       "      <td>-1.062233</td>\n",
       "    </tr>\n",
       "    <tr>\n",
       "      <th>4</th>\n",
       "      <td>1</td>\n",
       "      <td>66.0</td>\n",
       "      <td>1.0</td>\n",
       "      <td>-0.316892</td>\n",
       "      <td>2.380374</td>\n",
       "      <td>0.156865</td>\n",
       "      <td>0.232828</td>\n",
       "      <td>0.054822</td>\n",
       "      <td>0.27059</td>\n",
       "      <td>0.128606</td>\n",
       "      <td>...</td>\n",
       "      <td>4.163014</td>\n",
       "      <td>0.601218</td>\n",
       "      <td>-0.060978</td>\n",
       "      <td>-0.435417</td>\n",
       "      <td>1.111467</td>\n",
       "      <td>-1.28139</td>\n",
       "      <td>-0.128477</td>\n",
       "      <td>1.469373</td>\n",
       "      <td>0.194605</td>\n",
       "      <td>1.404667</td>\n",
       "    </tr>\n",
       "  </tbody>\n",
       "</table>\n",
       "<p>5 rows × 17342 columns</p>\n",
       "</div>"
      ],
      "text/plain": [
       "   Lung-Cancer   Age  Gender  ARHGEF10L     HIF3A     RNF17     RNF10  \\\n",
       "0            1  70.0     1.0  -0.056592  2.128674 -0.531035 -0.185972   \n",
       "1            1  67.0     1.0  -0.569692 -0.318126 -0.531035  0.237428   \n",
       "2            1  79.0     0.0  -0.899992 -0.918126 -0.531035 -0.621472   \n",
       "3            1  68.0     1.0   0.667508  3.895974 -0.221535 -0.367272   \n",
       "4            1  66.0     1.0  -0.316892  2.380374  0.156865  0.232828   \n",
       "\n",
       "      RNF11    RNF13   GTF2IP1  ...   SLC7A10   PLA2G2C     TULP2     NPY5R  \\\n",
       "0 -0.190878 -0.11891 -0.659794  ...  3.634614  0.677218  0.015022 -1.155117   \n",
       "1  0.011822 -0.00611  1.018406  ...  4.908014  0.888518 -0.031778 -0.393117   \n",
       "2 -0.454178  0.58719 -0.198894  ...  0.489514 -0.086682 -0.748878 -1.173917   \n",
       "3  0.131822  0.97629 -0.494994  ...  5.730914 -0.086682  1.013722 -1.587117   \n",
       "4  0.054822  0.27059  0.128606  ...  4.163014  0.601218 -0.060978 -0.435417   \n",
       "\n",
       "      GNGT2    GNGT1     TULP3     BCL6B     GSTK1      SELP  \n",
       "0  0.528367  2.75061  0.428423 -0.195527 -0.324695  0.193167  \n",
       "1  1.632467  2.33551 -0.145577 -0.276027 -1.219395  1.850967  \n",
       "2  1.966367 -1.28139 -0.374877  0.714373  0.112305 -0.532833  \n",
       "3  0.359267  2.59051  0.806623  0.367373 -0.494595 -1.062233  \n",
       "4  1.111467 -1.28139 -0.128477  1.469373  0.194605  1.404667  \n",
       "\n",
       "[5 rows x 17342 columns]"
      ]
     },
     "execution_count": 45,
     "metadata": {},
     "output_type": "execute_result"
    }
   ],
   "source": [
    "merged_data.head()"
   ]
  },
  {
   "cell_type": "code",
   "execution_count": 46,
   "metadata": {
    "ExecuteTime": {
     "end_time": "2024-01-02T01:03:36.401002087Z",
     "start_time": "2024-01-02T01:03:36.400659608Z"
    },
    "collapsed": false
   },
   "outputs": [],
   "source": [
    "# If both age and gender features are available, select 'age' as the condition.\n",
    "condition = 'Age'\n",
    "# Remove the other condition to prevent interference.\n",
    "merged_data = merged_data.drop(columns=['Gender'], errors='ignore').astype('float')"
   ]
  },
  {
   "cell_type": "code",
   "execution_count": 47,
   "metadata": {
    "ExecuteTime": {
     "end_time": "2024-01-02T01:03:36.403035823Z",
     "start_time": "2024-01-02T01:03:36.401081946Z"
    },
    "collapsed": false
   },
   "outputs": [],
   "source": [
    "X = merged_data.drop(columns=[TRAIT, condition]).values\n",
    "Y = merged_data[TRAIT].values\n",
    "Z = merged_data[condition].values"
   ]
  },
  {
   "cell_type": "markdown",
   "metadata": {
    "collapsed": false
   },
   "source": [
    "Select the appropriate regression model depending on whether the dataset shows batch effect."
   ]
  },
  {
   "cell_type": "code",
   "execution_count": 48,
   "metadata": {
    "ExecuteTime": {
     "end_time": "2024-01-02T01:03:36.403263628Z",
     "start_time": "2024-01-02T01:03:36.401336170Z"
    },
    "collapsed": false
   },
   "outputs": [
    {
     "data": {
      "text/plain": [
       "True"
      ]
     },
     "execution_count": 48,
     "metadata": {},
     "output_type": "execute_result"
    }
   ],
   "source": [
    "has_batch_effect = detect_batch_effect(X)\n",
    "has_batch_effect"
   ]
  },
  {
   "cell_type": "code",
   "execution_count": 49,
   "metadata": {
    "ExecuteTime": {
     "end_time": "2024-01-02T01:03:36.475053437Z",
     "start_time": "2024-01-02T01:03:36.444397231Z"
    },
    "collapsed": false
   },
   "outputs": [],
   "source": [
    "\n",
    "if has_batch_effect:\n",
    "    model_constructor1 = VariableSelection\n",
    "    model_params1 = {'modified': True, 'lamda': 3e-4}\n",
    "    model_constructor2 = VariableSelection\n",
    "    model_params2 = {'modified': False}\n",
    "else:\n",
    "    model_constructor1 = Lasso\n",
    "    model_params1 = {'alpha': 1.0, 'random_state': 42}\n",
    "    model_constructor2 = VariableSelection\n",
    "    model_params2 = {'modified': False}"
   ]
  },
  {
   "cell_type": "code",
   "execution_count": 50,
   "metadata": {
    "ExecuteTime": {
     "end_time": "2024-01-02T01:03:50.733335364Z",
     "start_time": "2024-01-02T01:03:36.444563711Z"
    },
    "collapsed": false
   },
   "outputs": [
    {
     "name": "stdout",
     "output_type": "stream",
     "text": [
      "alpha for Lasso: 0.0003\n",
      "alpha for Lasso: 0.0003\n",
      "alpha for Lasso: 0.0003\n",
      "alpha for Lasso: 0.0003\n",
      "alpha for Lasso: 0.0003\n",
      "The cross-validation accuracy is 59.27% ± 1.43%\n"
     ]
    }
   ],
   "source": [
    "trait_type = 'binary'  # Remember to set this properly, either 'binary' or 'continuous'\n",
    "cv_mean1, cv_std1 = cross_validation(X, Y, Z, model_constructor1, model_params1, target_type=trait_type)"
   ]
  },
  {
   "cell_type": "code",
   "execution_count": 52,
   "metadata": {},
   "outputs": [
    {
     "name": "stderr",
     "output_type": "stream",
     "text": [
      "/home/yxcheng/anaconda3/envs/ai4sci/lib/python3.10/site-packages/sparse_lmm/helpingMethods.py:49: RuntimeWarning: invalid value encountered in divide\n",
      "  ts = beta / np.sqrt(var * sigma)\n",
      "/home/yxcheng/anaconda3/envs/ai4sci/lib/python3.10/site-packages/sparse_lmm/helpingMethods.py:49: RuntimeWarning: invalid value encountered in divide\n",
      "  ts = beta / np.sqrt(var * sigma)\n",
      "/home/yxcheng/anaconda3/envs/ai4sci/lib/python3.10/site-packages/sparse_lmm/helpingMethods.py:49: RuntimeWarning: invalid value encountered in divide\n",
      "  ts = beta / np.sqrt(var * sigma)\n",
      "/home/yxcheng/anaconda3/envs/ai4sci/lib/python3.10/site-packages/sparse_lmm/helpingMethods.py:49: RuntimeWarning: invalid value encountered in divide\n",
      "  ts = beta / np.sqrt(var * sigma)\n"
     ]
    },
    {
     "name": "stdout",
     "output_type": "stream",
     "text": [
      "The cross-validation accuracy is 90.09% ± 2.36%\n"
     ]
    }
   ],
   "source": [
    "cv_mean2, cv_std2 = cross_validation(X, Y, Z, model_constructor2, model_params2, target_type=trait_type)"
   ]
  },
  {
   "cell_type": "code",
   "execution_count": 53,
   "metadata": {
    "ExecuteTime": {
     "end_time": "2024-01-02T01:03:53.587340410Z",
     "start_time": "2024-01-02T01:03:50.732779025Z"
    },
    "collapsed": false
   },
   "outputs": [
    {
     "name": "stdout",
     "output_type": "stream",
     "text": [
      "alpha for Lasso: 0.0003\n"
     ]
    },
    {
     "name": "stderr",
     "output_type": "stream",
     "text": [
      "/home/yxcheng/anaconda3/envs/ai4sci/lib/python3.10/site-packages/sparse_lmm/helpingMethods.py:49: RuntimeWarning: invalid value encountered in divide\n",
      "  ts = beta / np.sqrt(var * sigma)\n"
     ]
    }
   ],
   "source": [
    "normalized_X, _ = normalize_data(X)\n",
    "normalized_Z, _ = normalize_data(Z)\n",
    "\n",
    "# Train regression model on the whole dataset to identify significant genes\n",
    "model1 = ResidualizationRegressor(model_constructor1, model_params1)\n",
    "model1.fit(normalized_X, Y, normalized_Z)\n",
    "\n",
    "model2 = ResidualizationRegressor(model_constructor2, model_params2)\n",
    "model2.fit(normalized_X, Y, normalized_Z)"
   ]
  },
  {
   "cell_type": "markdown",
   "metadata": {
    "ExecuteTime": {
     "end_time": "2023-10-14T04:50:59.072075075Z",
     "start_time": "2023-10-14T04:50:38.739499998Z"
    },
    "id": "EjJrxbvb4nlj"
   },
   "source": [
    "### 5. Discussion and report"
   ]
  },
  {
   "cell_type": "code",
   "execution_count": 55,
   "metadata": {
    "ExecuteTime": {
     "end_time": "2024-01-02T01:03:53.641570844Z",
     "start_time": "2024-01-02T01:03:53.627778553Z"
    },
    "collapsed": false
   },
   "outputs": [
    {
     "name": "stdout",
     "output_type": "stream",
     "text": [
      "Effect of the condition on the target variable:\n",
      "Variable: Age\n",
      "Coefficient: -0.0077\n",
      "Found 10 genes with non-zero coefficients associated with the trait 'Lung-Cancer' conditional on the factor 'Age'. These genes are identified as significant based on the regression model.\n",
      "   Variable  Coefficient  Absolute Coefficient\n",
      "    SNORA81     0.605617              0.605617\n",
      "    SNORD89    -0.561992              0.561992\n",
      "     OR4F17     0.468452              0.468452\n",
      "SNORD115-26    -0.289358              0.289358\n",
      "     OR2L1P    -0.278115              0.278115\n",
      "    TBC1D3C     0.248994              0.248994\n",
      "     DMRTA2    -0.194621              0.194621\n",
      "     IFIT1B    -0.188779              0.188779\n",
      "    PPIAL4E     0.150659              0.150659\n",
      "     TTTY16    -0.082366              0.082366\n"
     ]
    },
    {
     "name": "stderr",
     "output_type": "stream",
     "text": [
      "/home/yxcheng/AI4Science_gold_standard/stage1/Yuxuan/../utils.py:469: SettingWithCopyWarning: \n",
      "A value is trying to be set on a copy of a slice from a DataFrame.\n",
      "Try using .loc[row_indexer,col_indexer] = value instead\n",
      "\n",
      "See the caveats in the documentation: https://pandas.pydata.org/pandas-docs/stable/user_guide/indexing.html#returning-a-view-versus-a-copy\n",
      "  gene_regression_df['Absolute Coefficient'] = gene_regression_df['Coefficient'].abs()\n"
     ]
    }
   ],
   "source": [
    "\n",
    "feature_cols = merged_data.columns.tolist()\n",
    "feature_cols.remove(TRAIT)\n",
    "\n",
    "threshold = 0.05\n",
    "interpret_result(model1, feature_cols, TRAIT, condition, threshold=threshold, save_output=True,\n",
    "                 output_dir=OUTPUT_DIR, model_id=1)"
   ]
  },
  {
   "cell_type": "code",
   "execution_count": 56,
   "metadata": {
    "collapsed": false
   },
   "outputs": [
    {
     "name": "stdout",
     "output_type": "stream",
     "text": [
      "Effect of the condition on the target variable:\n",
      "Variable: Age\n",
      "Coefficient: -0.0077\n",
      "Found 14 significant genes associated with the trait 'Lung-Cancer' conditional on the factor 'Age', with corrected p-value < 0.05:\n",
      "Variable  Coefficient      p_value  corrected_p_value\n",
      "   MEX3A     0.061062 2.147189e-07           0.003723\n",
      " SLC19A1    -0.038907 6.271788e-07           0.005437\n",
      "  CRABP2     0.036440 1.633672e-06           0.009442\n",
      "   HMGB3     0.042606 8.393633e-06           0.020791\n",
      " DEFB118     0.028296 7.138943e-06           0.020791\n",
      "     IL3    -0.016966 5.077872e-06           0.020791\n",
      "  FAM83A     0.043838 8.074414e-06           0.020791\n",
      "    RCC1     0.041270 1.786386e-05           0.028158\n",
      "    NUF2     0.068410 1.754965e-05           0.028158\n",
      "    SPP1     0.032014 1.782137e-05           0.028158\n",
      "    ETV4     0.037361 1.688133e-05           0.028158\n",
      "   EPB42    -0.020447 2.157070e-05           0.031168\n",
      "   CENPM    -0.051850 3.061145e-05           0.040829\n",
      " PLEKHN1     0.044331 3.372218e-05           0.041765\n"
     ]
    },
    {
     "name": "stderr",
     "output_type": "stream",
     "text": [
      "/home/yxcheng/AI4Science_gold_standard/stage1/Yuxuan/../utils.py:478: SettingWithCopyWarning: \n",
      "A value is trying to be set on a copy of a slice from a DataFrame.\n",
      "Try using .loc[row_indexer,col_indexer] = value instead\n",
      "\n",
      "See the caveats in the documentation: https://pandas.pydata.org/pandas-docs/stable/user_guide/indexing.html#returning-a-view-versus-a-copy\n",
      "  gene_regression_df.loc[:, 'corrected_p_value'] = corrected_p_values\n"
     ]
    }
   ],
   "source": [
    "\n",
    "interpret_result(model2, feature_cols, TRAIT, condition, threshold=threshold, save_output=True,\n",
    "                 output_dir=OUTPUT_DIR, model_id=2)"
   ]
  }
 ],
 "metadata": {
  "colab": {
   "provenance": []
  },
  "kernelspec": {
   "display_name": "Python 3 (ipykernel)",
   "language": "python",
   "name": "python3"
  },
  "language_info": {
   "codemirror_mode": {
    "name": "ipython",
    "version": 3
   },
   "file_extension": ".py",
   "mimetype": "text/x-python",
   "name": "python",
   "nbconvert_exporter": "python",
   "pygments_lexer": "ipython3",
   "version": "3.10.13"
  }
 },
 "nbformat": 4,
 "nbformat_minor": 0
}
