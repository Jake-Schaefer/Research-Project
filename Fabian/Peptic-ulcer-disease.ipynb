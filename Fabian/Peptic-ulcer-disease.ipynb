{
 "cells": [
  {
   "cell_type": "markdown",
   "metadata": {
    "collapsed": false
   },
   "source": [
    "# Gold standard curation: Preprocessing and single-step regression"
   ]
  },
  {
   "cell_type": "markdown",
   "metadata": {
    "collapsed": false
   },
   "source": [
    "In this stage of gold standard curation, we will do the data preprocessing, selection, and single-step regression for the 153 traits in our question set. The workflow consists of the following steps:\n",
    "\n",
    "1. Preprocess all the cohorts related to this trait. Each cohort should be converted to a tabular form and saved to a csv file, with columns being genetic factors, the trait, and age, gender if available;\n",
    "2. If there exists at least one cohort with age or gender information, conduct regression analysis with genetic features together with age or gender as the regressors.\n"
   ]
  },
  {
   "cell_type": "markdown",
   "metadata": {
    "collapsed": false
   },
   "source": [
    "# 1. Basic setup"
   ]
  },
  {
   "cell_type": "code",
   "execution_count": 3,
   "metadata": {
    "ExecuteTime": {
     "end_time": "2024-01-02T01:02:53.240839272Z",
     "start_time": "2024-01-02T01:02:53.240575109Z"
    },
    "collapsed": false
   },
   "outputs": [],
   "source": [
    "import os\n",
    "import sys\n",
    "\n",
    "sys.path.append('..')\n",
    "# Set your preferred name\n",
    "USER = \"Yuxuan\"\n",
    "# Set the data and output directories\n",
    "DATA_ROOT = '/home/yxcheng'\n",
    "OUTPUT_ROOT = '../../output1'\n",
    "TRAIT = 'Peptic ulcer disease'\n",
    "\n",
    "OUTPUT_DIR = os.path.join(OUTPUT_ROOT, USER, '-'.join(TRAIT.split()))\n",
    "JSON_PATH = os.path.join(OUTPUT_DIR, \"cohort_info.json\")\n",
    "if not os.path.exists(OUTPUT_DIR):\n",
    "    os.makedirs(OUTPUT_DIR, exist_ok=True)\n",
    "\n",
    "# Gene symbol normalization may take 1-2 minutes. You may set it to False for debugging.\n",
    "NORMALIZE_GENE = True"
   ]
  },
  {
   "cell_type": "code",
   "execution_count": 2,
   "metadata": {
    "ExecuteTime": {
     "end_time": "2024-01-02T01:02:53.501910797Z",
     "start_time": "2024-01-02T01:02:53.496254990Z"
    },
    "colab": {
     "base_uri": "https://localhost:8080/"
    },
    "id": "jMTdsU43vVg3",
    "outputId": "38886111-f442-44b4-8398-96bf384d7abd"
   },
   "outputs": [
    {
     "data": {
      "text/plain": [
       "\"import os\\nfrom google.colab import drive\\n\\ndrive.mount('/content/drive', force_remount=True)\\nproj_dir = '/content/drive/MyDrive/AI4Science_Public'\\nos.chdir(proj_dir)\""
      ]
     },
     "execution_count": 2,
     "metadata": {},
     "output_type": "execute_result"
    }
   ],
   "source": [
    "# This cell is only for use on Google Colab. Skip it if you run your code in other environments\n",
    "\n",
    "\"\"\"import os\n",
    "from google.colab import drive\n",
    "\n",
    "drive.mount('/content/drive', force_remount=True)\n",
    "proj_dir = '/content/drive/MyDrive/AI4Science_Public'\n",
    "os.chdir(proj_dir)\"\"\""
   ]
  },
  {
   "cell_type": "markdown",
   "metadata": {
    "collapsed": false
   },
   "source": [
    "# 2. Data preprocessing and selection"
   ]
  },
  {
   "cell_type": "markdown",
   "metadata": {
    "collapsed": false
   },
   "source": [
    "## 2.1. The TCGA Xena dataset"
   ]
  },
  {
   "cell_type": "markdown",
   "metadata": {
    "collapsed": false
   },
   "source": [
    "In TCGA Xena, there is either zero or one cohort related to the trait. We search the names of subdirectories to see if any matches the trait. If a match is found, we directly obtain the file paths."
   ]
  },
  {
   "cell_type": "code",
   "execution_count": 4,
   "metadata": {
    "ExecuteTime": {
     "end_time": "2024-01-02T01:02:56.462746833Z",
     "start_time": "2024-01-02T01:02:55.818581842Z"
    },
    "collapsed": false
   },
   "outputs": [
    {
     "data": {
      "text/plain": [
       "['TCGA_Adrenocortical_Cancer_(ACC)',\n",
       " 'TCGA_Bile_Duct_Cancer_(CHOL)',\n",
       " 'TCGA_Lower_Grade_Glioma_(LGG)',\n",
       " 'TCGA_Acute_Myeloid_Leukemia_(LAML)',\n",
       " 'TCGA_Esophageal_Cancer_(ESCA)',\n",
       " 'TCGA_Thyroid_Cancer_(THCA)',\n",
       " 'TCGA_Ocular_melanomas_(UVM)',\n",
       " 'TCGA_Ovarian_Cancer_(OV)',\n",
       " 'TCGA_Prostate_Cancer_(PRAD)',\n",
       " 'CrawlData.ipynb',\n",
       " 'TCGA_Kidney_Papillary_Cell_Carcinoma_(KIRP)',\n",
       " 'TCGA_Lung_Cancer_(LUNG)',\n",
       " 'TCGA_Endometrioid_Cancer_(UCEC)',\n",
       " 'TCGA_Testicular_Cancer_(TGCT)',\n",
       " 'TCGA_lower_grade_glioma_and_glioblastoma_(GBMLGG)',\n",
       " 'TCGA_Pancreatic_Cancer_(PAAD)',\n",
       " 'TCGA_Glioblastoma_(GBM)',\n",
       " 'TCGA_Melanoma_(SKCM)',\n",
       " 'TCGA_Kidney_Clear_Cell_Carcinoma_(KIRC)',\n",
       " 'TCGA_Mesothelioma_(MESO)',\n",
       " 'TCGA_Rectal_Cancer_(READ)',\n",
       " 'TCGA_Head_and_Neck_Cancer_(HNSC)',\n",
       " 'TCGA_Large_Bcell_Lymphoma_(DLBC)',\n",
       " 'TCGA_Uterine_Carcinosarcoma_(UCS)',\n",
       " 'TCGA_Colon_Cancer_(COAD)',\n",
       " 'TCGA_Breast_Cancer_(BRCA)',\n",
       " 'TCGA_Bladder_Cancer_(BLCA)',\n",
       " 'TCGA_Sarcoma_(SARC)',\n",
       " 'TCGA_Lung_Squamous_Cell_Carcinoma_(LUSC)',\n",
       " 'TCGA_Cervical_Cancer_(CESC)',\n",
       " 'TCGA_Kidney_Chromophobe_(KICH)',\n",
       " 'TCGA_Stomach_Cancer_(STAD)',\n",
       " 'TCGA_Lung_Adenocarcinoma_(LUAD)',\n",
       " '.DS_Store',\n",
       " 'TCGA_Thymoma_(THYM)',\n",
       " 'TCGA_Colon_and_Rectal_Cancer_(COADREAD)',\n",
       " 'TCGA_Pheochromocytoma_Paraganglioma_(PCPG)',\n",
       " 'TCGA_Liver_Cancer_(LIHC)']"
      ]
     },
     "execution_count": 4,
     "metadata": {},
     "output_type": "execute_result"
    }
   ],
   "source": [
    "import os\n",
    "from utils import *\n",
    "\n",
    "dataset = 'TCGA'\n",
    "dataset_dir = os.path.join(DATA_ROOT, dataset)\n",
    "os.listdir(dataset_dir)[:]"
   ]
  },
  {
   "cell_type": "markdown",
   "metadata": {
    "collapsed": false
   },
   "source": [
    "If no match is found, jump directly to GEO in Part 2.2"
   ]
  },
  {
   "cell_type": "code",
   "execution_count": 24,
   "metadata": {
    "collapsed": false
   },
   "outputs": [],
   "source": [
    "trait_subdir = \"TCGA_Lung_Cancer_(LUNG)\"\n",
    "cohort = 'Xena'\n",
    "# All the cancer traits in Xena are binary\n",
    "trait_type = 'binary'\n",
    "# Once a relevant cohort is found in Xena, we can generally assume the gene and clinical data are available\n",
    "is_available = True\n",
    "\n",
    "clinical_data_file = os.path.join(dataset_dir, trait_subdir, 'TCGA.LUNG.sampleMap_LUNG_clinicalMatrix')\n",
    "genetic_data_file = os.path.join(dataset_dir, trait_subdir, 'TCGA.LUNG.sampleMap_HiSeqV2_PANCAN.gz')"
   ]
  },
  {
   "cell_type": "code",
   "execution_count": 25,
   "metadata": {
    "id": "MudwB-_iz7sc"
   },
   "outputs": [],
   "source": [
    "import pandas as pd\n",
    "\n",
    "clinical_data = pd.read_csv(clinical_data_file, sep='\\t', index_col=0)\n",
    "genetic_data = pd.read_csv(genetic_data_file, compression='gzip', sep='\\t', index_col=0)\n",
    "age_col = gender_col = None"
   ]
  },
  {
   "cell_type": "code",
   "execution_count": 26,
   "metadata": {
    "collapsed": false
   },
   "outputs": [],
   "source": [
    "_, clinical_data_cols = check_rows_and_columns(clinical_data)"
   ]
  },
  {
   "cell_type": "code",
   "execution_count": 27,
   "metadata": {
    "collapsed": false
   },
   "outputs": [
    {
     "data": {
      "text/plain": [
       "['ABSOLUTE_Ploidy',\n",
       " 'ABSOLUTE_Purity',\n",
       " 'AKT1',\n",
       " 'ALK_translocation',\n",
       " 'BRAF',\n",
       " 'CBL',\n",
       " 'CTNNB1',\n",
       " 'Canonical_mut_in_KRAS_EGFR_ALK',\n",
       " 'Cnncl_mt_n_KRAS_EGFR_ALK_RET_ROS1_BRAF_ERBB2_HRAS_NRAS_AKT1_MAP2',\n",
       " 'EGFR']"
      ]
     },
     "execution_count": 27,
     "metadata": {},
     "output_type": "execute_result"
    }
   ],
   "source": [
    "clinical_data_cols[:10]"
   ]
  },
  {
   "cell_type": "markdown",
   "metadata": {
    "ExecuteTime": {
     "end_time": "2023-12-28T20:20:11.841042813Z",
     "start_time": "2023-12-28T20:20:11.834458206Z"
    },
    "collapsed": false
   },
   "source": [
    "Read all the column names in the clinical dataset, to find the columns that record information about age or gender.\n",
    "Reference prompt:"
   ]
  },
  {
   "cell_type": "code",
   "execution_count": 28,
   "metadata": {
    "collapsed": false
   },
   "outputs": [
    {
     "data": {
      "text/plain": [
       "\"\\nBelow is a list of column names from a biomedical dataset. Please examine it and identify the columns that are likely to contain information about patients' age. Additionally, please do the same for columns that may hold data on patients' gender. Please provide your answer by strictly following this format, without redundant words:\\ncandidate_age_cols = [col_name1, col_name2, ...]\\ncandidate_gender_cols = [col_name1, col_name2, ...]\\nIf no columns match a criterion, please provide an empty list.\\n\\nColumn names:\\n['ABSOLUTE_Ploidy', 'ABSOLUTE_Purity', 'AKT1', 'ALK_translocation', 'BRAF', 'CBL', 'CTNNB1', 'Canonical_mut_in_KRAS_EGFR_ALK', 'Cnncl_mt_n_KRAS_EGFR_ALK_RET_ROS1_BRAF_ERBB2_HRAS_NRAS_AKT1_MAP2', 'EGFR', 'ERBB2', 'ERBB4', 'Estimated_allele_fraction_of_a_clonal_varnt_prsnt_t_1_cpy_pr_cll', 'Expression_Subtype', 'HRAS', 'KRAS', 'MAP2K1', 'MET', 'NRAS', 'PIK3CA', 'PTPN11', 'Pathology', 'Pathology_Updated', 'RET_translocation', 'ROS1_translocation', 'STK11', 'WGS_as_of_20120731_0_no_1_yes', '_INTEGRATION', '_PANCAN_CNA_PANCAN_K8', '_PANCAN_Cluster_Cluster_PANCAN', '_PANCAN_DNAMethyl_PANCAN', '_PANCAN_RPPA_PANCAN_K8', '_PANCAN_UNC_RNAseq_PANCAN_K16', '_PANCAN_miRNA_PANCAN', '_PANCAN_mutation_PANCAN', '_PATIENT', '_cohort', '_primary_disease', '_primary_site', 'additional_pharmaceutical_therapy', 'additional_radiation_therapy', 'additional_surgery_locoregional_procedure', 'additional_surgery_metastatic_procedure', 'age_at_initial_pathologic_diagnosis', 'anatomic_neoplasm_subdivision', 'anatomic_neoplasm_subdivision_other', 'bcr_followup_barcode', 'bcr_patient_barcode', 'bcr_sample_barcode', 'days_to_additional_surgery_locoregional_procedure', 'days_to_additional_surgery_metastatic_procedure', 'days_to_birth', 'days_to_collection', 'days_to_death', 'days_to_initial_pathologic_diagnosis', 'days_to_last_followup', 'days_to_new_tumor_event_after_initial_treatment', 'disease_code', 'dlco_predictive_percent', 'eastern_cancer_oncology_group', 'egfr_mutation_performed', 'egfr_mutation_result', 'eml4_alk_translocation_method', 'eml4_alk_translocation_performed', 'followup_case_report_form_submission_reason', 'followup_treatment_success', 'form_completion_date', 'gender', 'histological_type', 'history_of_neoadjuvant_treatment', 'icd_10', 'icd_o_3_histology', 'icd_o_3_site', 'informed_consent_verified', 'initial_weight', 'intermediate_dimension', 'is_ffpe', 'karnofsky_performance_score', 'kras_gene_analysis_performed', 'kras_mutation_found', 'kras_mutation_result', 'location_in_lung_parenchyma', 'longest_dimension', 'lost_follow_up', 'new_neoplasm_event_type', 'new_tumor_event_after_initial_treatment', 'number_pack_years_smoked', 'oct_embedded', 'other_dx', 'pathologic_M', 'pathologic_N', 'pathologic_T', 'pathologic_stage', 'pathology_report_file_name', 'patient_id', 'performance_status_scale_timing', 'person_neoplasm_cancer_status', 'post_bronchodilator_fev1_fvc_percent', 'post_bronchodilator_fev1_percent', 'pre_bronchodilator_fev1_fvc_percent', 'pre_bronchodilator_fev1_percent', 'primary_therapy_outcome_success', 'progression_determined_by', 'project_code', 'pulmonary_function_test_performed', 'radiation_therapy', 'residual_tumor', 'sample_type', 'sample_type_id', 'shortest_dimension', 'stopped_smoking_year', 'system_version', 'targeted_molecular_therapy', 'tissue_prospective_collection_indicator', 'tissue_retrospective_collection_indicator', 'tissue_source_site', 'tobacco_smoking_history', 'tobacco_smoking_history_indicator', 'tumor_tissue_site', 'vial_number', 'vital_status', 'year_of_initial_pathologic_diagnosis', 'year_of_tobacco_smoking_onset', '_GENOMIC_ID_TCGA_LUNG_exp_HiSeqV2_exon', '_GENOMIC_ID_TCGA_LUNG_hMethyl27', '_GENOMIC_ID_TCGA_LUNG_mutation', '_GENOMIC_ID_TCGA_LUNG_exp_HiSeqV2_PANCAN', '_GENOMIC_ID_TCGA_LUNG_hMethyl450', '_GENOMIC_ID_TCGA_LUNG_gistic2thd', '_GENOMIC_ID_TCGA_LUNG_G4502A_07_3', '_GENOMIC_ID_TCGA_LUNG_exp_HiSeqV2', '_GENOMIC_ID_TCGA_LUNG_gistic2', '_GENOMIC_ID_TCGA_LUNG_RPPA_RBN']\\n\""
      ]
     },
     "execution_count": 28,
     "metadata": {},
     "output_type": "execute_result"
    }
   ],
   "source": [
    "f'''\n",
    "Below is a list of column names from a biomedical dataset. Please examine it and identify the columns that are likely to contain information about patients' age. Additionally, please do the same for columns that may hold data on patients' gender. Please provide your answer by strictly following this format, without redundant words:\n",
    "candidate_age_cols = [col_name1, col_name2, ...]\n",
    "candidate_gender_cols = [col_name1, col_name2, ...]\n",
    "If no columns match a criterion, please provide an empty list.\n",
    "\n",
    "Column names:\n",
    "{clinical_data_cols}\n",
    "'''"
   ]
  },
  {
   "cell_type": "code",
   "execution_count": 29,
   "metadata": {
    "collapsed": false
   },
   "outputs": [],
   "source": [
    "candidate_age_cols = ['age_at_initial_pathologic_diagnosis', 'days_to_birth', 'days_to_collection', 'days_to_death', 'days_to_initial_pathologic_diagnosis', 'days_to_last_followup', 'days_to_new_tumor_event_after_initial_treatment', 'stopped_smoking_year', 'year_of_initial_pathologic_diagnosis', 'year_of_tobacco_smoking_onset']\n",
    "\n",
    "candidate_gender_cols = ['gender']"
   ]
  },
  {
   "cell_type": "markdown",
   "metadata": {
    "ExecuteTime": {
     "end_time": "2023-12-31T03:57:44.207565572Z",
     "start_time": "2023-12-31T03:57:44.202177544Z"
    },
    "collapsed": false
   },
   "source": [
    "Choose a single column from the candidate columns that record age and gender information respectively.\n",
    "If no column meets the requirement, keep 'age_col' or 'gender_col' to None"
   ]
  },
  {
   "cell_type": "code",
   "execution_count": 30,
   "metadata": {
    "collapsed": false
   },
   "outputs": [
    {
     "data": {
      "text/plain": [
       "{'age_at_initial_pathologic_diagnosis': [70.0, 67.0, 79.0, 68.0, 66.0],\n",
       " 'days_to_birth': [-25752.0, -24532.0, -29068.0, -24868.0, -24411.0],\n",
       " 'days_to_collection': [nan, nan, nan, nan, nan],\n",
       " 'days_to_death': [nan, nan, '121', nan, nan],\n",
       " 'days_to_initial_pathologic_diagnosis': [0.0, 0.0, 0.0, 0.0, 0.0],\n",
       " 'days_to_last_followup': ['0', '1523', nan, '607', '426'],\n",
       " 'days_to_new_tumor_event_after_initial_treatment': [nan,\n",
       "  nan,\n",
       "  nan,\n",
       "  334.0,\n",
       "  183.0],\n",
       " 'stopped_smoking_year': [nan, nan, nan, nan, 1987.0],\n",
       " 'year_of_initial_pathologic_diagnosis': [2009.0,\n",
       "  2007.0,\n",
       "  2007.0,\n",
       "  2009.0,\n",
       "  2009.0],\n",
       " 'year_of_tobacco_smoking_onset': [nan, nan, nan, nan, 1963.0]}"
      ]
     },
     "execution_count": 30,
     "metadata": {},
     "output_type": "execute_result"
    }
   ],
   "source": [
    "preview_df(clinical_data[candidate_age_cols])"
   ]
  },
  {
   "cell_type": "code",
   "execution_count": 31,
   "metadata": {
    "collapsed": false
   },
   "outputs": [],
   "source": [
    "age_col = 'age_at_initial_pathologic_diagnosis'"
   ]
  },
  {
   "cell_type": "code",
   "execution_count": 32,
   "metadata": {
    "collapsed": false
   },
   "outputs": [
    {
     "data": {
      "text/plain": [
       "{'gender': ['MALE', 'MALE', 'FEMALE', 'MALE', 'MALE']}"
      ]
     },
     "execution_count": 32,
     "metadata": {},
     "output_type": "execute_result"
    }
   ],
   "source": [
    "preview_df(clinical_data[candidate_gender_cols])"
   ]
  },
  {
   "cell_type": "code",
   "execution_count": 33,
   "metadata": {
    "collapsed": false
   },
   "outputs": [],
   "source": [
    "gender_col = 'gender'"
   ]
  },
  {
   "cell_type": "code",
   "execution_count": 34,
   "metadata": {
    "collapsed": false
   },
   "outputs": [],
   "source": [
    "selected_clinical_data = xena_select_clinical_features(clinical_data, TRAIT, age_col, gender_col)"
   ]
  },
  {
   "cell_type": "code",
   "execution_count": 35,
   "metadata": {
    "collapsed": false
   },
   "outputs": [
    {
     "name": "stderr",
     "output_type": "stream",
     "text": [
      "15 input query terms found dup hits:\t[('GTF2IP1', 2), ('RBMY1A3P', 3), ('HERC2P2', 3), ('WASH3P', 3), ('NUDT9P1', 2), ('SNORD104', 2), ('\n",
      "154 input query terms found no hit:\t['C16orf13', 'C16orf11', 'LOC100272146', 'LOC339240', 'NACAP1', 'LOC441204', 'KLRA1', 'FAM183A', 'FA\n",
      "9 input query terms found dup hits:\t[('SUGT1P1', 2), ('SNORD127', 2), ('SNORA62', 4), ('IFITM4P', 8), ('HLA-DRB6', 2), ('FUNDC2P2', 2), \n",
      "190 input query terms found no hit:\t['NARFL', 'NFKBIL2', 'LOC150197', 'TMEM84', 'LOC162632', 'PPPDE1', 'PPPDE2', 'C1orf38', 'C1orf31', '\n",
      "20 input query terms found dup hits:\t[('PIP5K1P1', 2), ('SNORA40', 2), ('SNORD116-24', 2), ('SNORD116-25', 2), ('SNORD116-23', 2), ('SNOR\n",
      "149 input query terms found no hit:\t['FAM153C', 'C9orf167', 'CLK2P', 'CCDC76', 'CCDC75', 'CCDC72', 'HIST3H2BB', 'PRAC', 'LOC285780', 'LO\n",
      "18 input query terms found dup hits:\t[('SNORD58C', 2), ('UOX', 2), ('UBE2Q2P1', 3), ('PPP4R1L', 2), ('SNORD63', 3), ('SNORD116-22', 2), (\n",
      "158 input query terms found no hit:\t['C16orf91', 'LOC100130581', 'SFRS2', 'C16orf5', 'C16orf7', 'C16orf3', 'C21orf7', 'C21orf2', 'LOC389\n",
      "19 input query terms found dup hits:\t[('FAM66D', 2), ('FAM66A', 2), ('THSD1P1', 2), ('MSLNL', 2), ('EEF1DP3', 2), ('PGM5P2', 2), ('UBE2MP\n",
      "169 input query terms found no hit:\t['LOC284551', 'LOC285548', 'LOC728410', 'LOC541473', 'DULLARD', 'KIAA0368', 'EFTUD1', 'TWISTNB', 'SF\n",
      "17 input query terms found dup hits:\t[('S100A7L2', 2), ('POM121L8P', 2), ('SNORD16', 2), ('MEG8', 2), ('RPL23P8', 2), ('KIR3DX1', 5), ('R\n",
      "165 input query terms found no hit:\t['TMEM188', 'PDZD3', 'FAM102B', 'FAM102A', 'SMCR7L', 'G6PC', 'OSTCL', 'LOC653544', 'LOC653545', 'USP\n",
      "20 input query terms found dup hits:\t[('SNORD50B', 2), ('PCNAP1', 2), ('SNORA63', 7), ('C5orf60', 2), ('CEACAM22P', 2), ('SNORA16A', 2), \n",
      "147 input query terms found no hit:\t['LRRC37A4', 'LOC100131726', 'CPSF3L', 'COL4A3BP', 'PAR1', 'LOC92973', 'MICALCL', 'SMCR7', 'HIST4H4'\n",
      "15 input query terms found dup hits:\t[('SDHAP3', 2), ('PSORS1C3', 8), ('POM121L10P', 2), ('HLA-J', 9), ('HLA-H', 9), ('HLA-L', 7), ('NME2\n",
      "153 input query terms found no hit:\t['LOC100131193', 'KIAA1109', 'DUS2L', 'MYST1', 'IGLL3', 'C12orf69', 'NEURL', 'FAM188B', 'FLJ32063', \n",
      "8 input query terms found dup hits:\t[('PLGLA', 2), ('PA2G4P4', 2), ('RPL23AP7', 2), ('ST20', 2), ('RPL23AP64', 3), ('DPY19L2P2', 3), ('F\n",
      "177 input query terms found no hit:\t['LOC283314', 'RBM9', 'C20orf118', 'LOC150786', 'C20orf112', 'C20orf111', 'C20orf117', 'C20orf114', \n",
      "19 input query terms found dup hits:\t[('TPTE2P1', 2), ('FOLH1B', 2), ('ID2B', 2), ('MSX2P1', 2), ('RAET1K', 2), ('BMS1P4', 2), ('RPL23AP8\n",
      "175 input query terms found no hit:\t['MYEOV2', 'FAM35B2', 'C20orf85', 'FAM175A', 'C17orf73', 'C17orf72', 'C17orf71', 'C17orf70', 'C17orf\n",
      "26 input query terms found dup hits:\t[('CATSPER2P1', 2), ('AQP7P3', 2), ('AQP7P1', 2), ('ATP8B5P', 2), ('OR7E91P', 2), ('ZNF204P', 2), ('\n",
      "144 input query terms found no hit:\t['BASE', 'C14orf21', 'C14orf23', 'FAM5B', 'TROVE2', 'C18orf62', 'LOC401052', 'GNB2L1', 'FAM19A4', 'F\n",
      "17 input query terms found dup hits:\t[('P2RX6P', 2), ('RP9P', 2), ('SNORD1A', 2), ('SNORD10', 2), ('SNORD19', 2), ('NRADDP', 2), ('AOX2P'\n",
      "169 input query terms found no hit:\t['TTC15', 'C4orf29', 'FAM48A', 'C4orf21', 'C3orf65', 'C4orf23', 'C3orf67', 'LOC144742', 'C3orf63', '\n",
      "17 input query terms found dup hits:\t[('SNORA58', 2), ('PMCHL1', 2), ('FAM95B1', 2), ('TMEM191A', 2), ('RPL13P5', 2), ('SBDSP1', 2), ('CY\n",
      "143 input query terms found no hit:\t['LOC254312', 'ZNF542', 'CSDAP1', 'FAM73A', 'FAM73B', 'TCTE3', 'ZNF37B', 'LOC728875', 'KIAA1826', 'P\n",
      "16 input query terms found dup hits:\t[('ZFP91-CNTF', 2), ('SNORD116-27', 2), ('GSTM2P1', 2), ('C3P1', 2), ('NCF1B', 2), ('SNORD114-4', 2)\n",
      "138 input query terms found no hit:\t['LOC100129716', 'C14orf184', 'C14orf181', 'C14orf183', 'C14orf182', 'C7orf26', 'C7orf27', 'C7orf23'\n",
      "14 input query terms found dup hits:\t[('ANXA2P1', 2), ('ANXA2P3', 2), ('ANXA2P2', 2), ('SNORD116-12', 2), ('ZNF286B', 2), ('SAA3P', 2), (\n",
      "132 input query terms found no hit:\t['AKR1CL1', 'CCDC21', 'CCDC23', 'TMEM111', 'APOB48R', 'LOC595101', 'KIAA1430', 'KIAA1432', 'ORC4L', \n",
      "15 input query terms found dup hits:\t[('TCP10L2', 2), ('CXADRP3', 2), ('SNORD116-13', 2), ('TPTE2P3', 2), ('SNORD116-15', 2), ('SNORD116-\n",
      "175 input query terms found no hit:\t['DFNB59', 'LOC100170939', 'FAM36A', 'C2orf70', 'C2orf71', 'C2orf77', 'C2orf79', 'LOC100128191', 'HR\n",
      "16 input query terms found dup hits:\t[('PMS2CL', 2), ('BRD7P3', 2), ('SCARNA17', 2), ('GABARAPL3', 2), ('MT1IP', 2), ('ADAM6', 3), ('SNOR\n",
      "142 input query terms found no hit:\t['C9orf30', 'PEG3AS', 'C9orf37', 'TXNDC3', 'LOC442308', 'FAM46D', 'FAM46A', 'FAM46B', 'FAM46C', 'WDR\n",
      "13 input query terms found dup hits:\t[('FAM197Y2', 3), ('SNORD1C', 2), ('SNORA71B', 2), ('NAT8B', 3), ('SNORA21', 2), ('VENTXP7', 2), ('G\n",
      "148 input query terms found no hit:\t['FCGR1B', 'RG9MTD2', 'RARS', 'LOC727677', 'CCRN4L', 'SEPT14', 'HKR1', 'C1orf112', 'LOC100270710', '\n",
      "13 input query terms found dup hits:\t[('OR6W1P', 3), ('LYPLA2P1', 6), ('RPL23AP53', 2), ('TRPC2', 2), ('RBMY2FP', 2), ('BAGE2', 2), ('POM\n",
      "150 input query terms found no hit:\t['SIP1', 'FAM129C', 'GIF', 'TMCO7', 'CXorf61', 'CXorf64', 'ZNF192', 'SEPP1', 'KIRREL', 'MGC16121', '\n",
      "18 input query terms found dup hits:\t[('ISCA1P1', 2), ('SNORD116-5', 2), ('PCDHB19P', 3), ('NAPSB', 2), ('WASH7P', 2), ('TTTY11', 2), ('H\n",
      "135 input query terms found no hit:\t['PPYR1', 'FAM82A2', 'FLJ37453', 'FAM82A1', 'KIAA0947', 'MOBKL2B', 'MOBKL2C', 'MOBKL2A', 'CMAH', 'GR\n",
      "8 input query terms found dup hits:\t[('SNORD12B', 2), ('SNORD116-8', 2), ('SNORD116-4', 2), ('SNORD116-1', 2), ('SNORD116-3', 2), ('SNOR\n",
      "78 input query terms found no hit:\t['C14orf174', 'C14orf176', 'C14orf177', 'C14orf179', 'PTPLB', 'SGEF', 'LOC400752', 'GRLF1', 'SPANXE'\n"
     ]
    }
   ],
   "source": [
    "if NORMALIZE_GENE:\n",
    "    genetic_data = normalize_gene_symbols_in_index(genetic_data)"
   ]
  },
  {
   "cell_type": "code",
   "execution_count": 36,
   "metadata": {
    "collapsed": false
   },
   "outputs": [
    {
     "data": {
      "text/html": [
       "<div>\n",
       "<style scoped>\n",
       "    .dataframe tbody tr th:only-of-type {\n",
       "        vertical-align: middle;\n",
       "    }\n",
       "\n",
       "    .dataframe tbody tr th {\n",
       "        vertical-align: top;\n",
       "    }\n",
       "\n",
       "    .dataframe thead th {\n",
       "        text-align: right;\n",
       "    }\n",
       "</style>\n",
       "<table border=\"1\" class=\"dataframe\">\n",
       "  <thead>\n",
       "    <tr style=\"text-align: right;\">\n",
       "      <th></th>\n",
       "      <th>Lung-Cancer</th>\n",
       "      <th>Age</th>\n",
       "      <th>Gender</th>\n",
       "      <th>ARHGEF10L</th>\n",
       "      <th>HIF3A</th>\n",
       "      <th>RNF17</th>\n",
       "      <th>RNF10</th>\n",
       "      <th>RNF11</th>\n",
       "      <th>RNF13</th>\n",
       "      <th>GTF2IP1</th>\n",
       "      <th>...</th>\n",
       "      <th>SLC7A10</th>\n",
       "      <th>PLA2G2C</th>\n",
       "      <th>TULP2</th>\n",
       "      <th>NPY5R</th>\n",
       "      <th>GNGT2</th>\n",
       "      <th>GNGT1</th>\n",
       "      <th>TULP3</th>\n",
       "      <th>BCL6B</th>\n",
       "      <th>GSTK1</th>\n",
       "      <th>SELP</th>\n",
       "    </tr>\n",
       "    <tr>\n",
       "      <th>sampleID</th>\n",
       "      <th></th>\n",
       "      <th></th>\n",
       "      <th></th>\n",
       "      <th></th>\n",
       "      <th></th>\n",
       "      <th></th>\n",
       "      <th></th>\n",
       "      <th></th>\n",
       "      <th></th>\n",
       "      <th></th>\n",
       "      <th></th>\n",
       "      <th></th>\n",
       "      <th></th>\n",
       "      <th></th>\n",
       "      <th></th>\n",
       "      <th></th>\n",
       "      <th></th>\n",
       "      <th></th>\n",
       "      <th></th>\n",
       "      <th></th>\n",
       "      <th></th>\n",
       "    </tr>\n",
       "  </thead>\n",
       "  <tbody>\n",
       "    <tr>\n",
       "      <th>TCGA-05-4244-01</th>\n",
       "      <td>1</td>\n",
       "      <td>70.0</td>\n",
       "      <td>1.0</td>\n",
       "      <td>-0.056592</td>\n",
       "      <td>2.128674</td>\n",
       "      <td>-0.531035</td>\n",
       "      <td>-0.185972</td>\n",
       "      <td>-0.190878</td>\n",
       "      <td>-0.11891</td>\n",
       "      <td>-0.659794</td>\n",
       "      <td>...</td>\n",
       "      <td>3.634614</td>\n",
       "      <td>0.677218</td>\n",
       "      <td>0.015022</td>\n",
       "      <td>-1.155117</td>\n",
       "      <td>0.528367</td>\n",
       "      <td>2.75061</td>\n",
       "      <td>0.428423</td>\n",
       "      <td>-0.195527</td>\n",
       "      <td>-0.324695</td>\n",
       "      <td>0.193167</td>\n",
       "    </tr>\n",
       "    <tr>\n",
       "      <th>TCGA-05-4249-01</th>\n",
       "      <td>1</td>\n",
       "      <td>67.0</td>\n",
       "      <td>1.0</td>\n",
       "      <td>-0.569692</td>\n",
       "      <td>-0.318126</td>\n",
       "      <td>-0.531035</td>\n",
       "      <td>0.237428</td>\n",
       "      <td>0.011822</td>\n",
       "      <td>-0.00611</td>\n",
       "      <td>1.018406</td>\n",
       "      <td>...</td>\n",
       "      <td>4.908014</td>\n",
       "      <td>0.888518</td>\n",
       "      <td>-0.031778</td>\n",
       "      <td>-0.393117</td>\n",
       "      <td>1.632467</td>\n",
       "      <td>2.33551</td>\n",
       "      <td>-0.145577</td>\n",
       "      <td>-0.276027</td>\n",
       "      <td>-1.219395</td>\n",
       "      <td>1.850967</td>\n",
       "    </tr>\n",
       "    <tr>\n",
       "      <th>TCGA-05-4250-01</th>\n",
       "      <td>1</td>\n",
       "      <td>79.0</td>\n",
       "      <td>0.0</td>\n",
       "      <td>-0.899992</td>\n",
       "      <td>-0.918126</td>\n",
       "      <td>-0.531035</td>\n",
       "      <td>-0.621472</td>\n",
       "      <td>-0.454178</td>\n",
       "      <td>0.58719</td>\n",
       "      <td>-0.198894</td>\n",
       "      <td>...</td>\n",
       "      <td>0.489514</td>\n",
       "      <td>-0.086682</td>\n",
       "      <td>-0.748878</td>\n",
       "      <td>-1.173917</td>\n",
       "      <td>1.966367</td>\n",
       "      <td>-1.28139</td>\n",
       "      <td>-0.374877</td>\n",
       "      <td>0.714373</td>\n",
       "      <td>0.112305</td>\n",
       "      <td>-0.532833</td>\n",
       "    </tr>\n",
       "    <tr>\n",
       "      <th>TCGA-05-4382-01</th>\n",
       "      <td>1</td>\n",
       "      <td>68.0</td>\n",
       "      <td>1.0</td>\n",
       "      <td>0.667508</td>\n",
       "      <td>3.895974</td>\n",
       "      <td>-0.221535</td>\n",
       "      <td>-0.367272</td>\n",
       "      <td>0.131822</td>\n",
       "      <td>0.97629</td>\n",
       "      <td>-0.494994</td>\n",
       "      <td>...</td>\n",
       "      <td>5.730914</td>\n",
       "      <td>-0.086682</td>\n",
       "      <td>1.013722</td>\n",
       "      <td>-1.587117</td>\n",
       "      <td>0.359267</td>\n",
       "      <td>2.59051</td>\n",
       "      <td>0.806623</td>\n",
       "      <td>0.367373</td>\n",
       "      <td>-0.494595</td>\n",
       "      <td>-1.062233</td>\n",
       "    </tr>\n",
       "    <tr>\n",
       "      <th>TCGA-05-4384-01</th>\n",
       "      <td>1</td>\n",
       "      <td>66.0</td>\n",
       "      <td>1.0</td>\n",
       "      <td>-0.316892</td>\n",
       "      <td>2.380374</td>\n",
       "      <td>0.156865</td>\n",
       "      <td>0.232828</td>\n",
       "      <td>0.054822</td>\n",
       "      <td>0.27059</td>\n",
       "      <td>0.128606</td>\n",
       "      <td>...</td>\n",
       "      <td>4.163014</td>\n",
       "      <td>0.601218</td>\n",
       "      <td>-0.060978</td>\n",
       "      <td>-0.435417</td>\n",
       "      <td>1.111467</td>\n",
       "      <td>-1.28139</td>\n",
       "      <td>-0.128477</td>\n",
       "      <td>1.469373</td>\n",
       "      <td>0.194605</td>\n",
       "      <td>1.404667</td>\n",
       "    </tr>\n",
       "  </tbody>\n",
       "</table>\n",
       "<p>5 rows × 17342 columns</p>\n",
       "</div>"
      ],
      "text/plain": [
       "                 Lung-Cancer   Age  Gender  ARHGEF10L     HIF3A     RNF17  \\\n",
       "sampleID                                                                    \n",
       "TCGA-05-4244-01            1  70.0     1.0  -0.056592  2.128674 -0.531035   \n",
       "TCGA-05-4249-01            1  67.0     1.0  -0.569692 -0.318126 -0.531035   \n",
       "TCGA-05-4250-01            1  79.0     0.0  -0.899992 -0.918126 -0.531035   \n",
       "TCGA-05-4382-01            1  68.0     1.0   0.667508  3.895974 -0.221535   \n",
       "TCGA-05-4384-01            1  66.0     1.0  -0.316892  2.380374  0.156865   \n",
       "\n",
       "                    RNF10     RNF11    RNF13   GTF2IP1  ...   SLC7A10  \\\n",
       "sampleID                                                ...             \n",
       "TCGA-05-4244-01 -0.185972 -0.190878 -0.11891 -0.659794  ...  3.634614   \n",
       "TCGA-05-4249-01  0.237428  0.011822 -0.00611  1.018406  ...  4.908014   \n",
       "TCGA-05-4250-01 -0.621472 -0.454178  0.58719 -0.198894  ...  0.489514   \n",
       "TCGA-05-4382-01 -0.367272  0.131822  0.97629 -0.494994  ...  5.730914   \n",
       "TCGA-05-4384-01  0.232828  0.054822  0.27059  0.128606  ...  4.163014   \n",
       "\n",
       "                  PLA2G2C     TULP2     NPY5R     GNGT2    GNGT1     TULP3  \\\n",
       "sampleID                                                                     \n",
       "TCGA-05-4244-01  0.677218  0.015022 -1.155117  0.528367  2.75061  0.428423   \n",
       "TCGA-05-4249-01  0.888518 -0.031778 -0.393117  1.632467  2.33551 -0.145577   \n",
       "TCGA-05-4250-01 -0.086682 -0.748878 -1.173917  1.966367 -1.28139 -0.374877   \n",
       "TCGA-05-4382-01 -0.086682  1.013722 -1.587117  0.359267  2.59051  0.806623   \n",
       "TCGA-05-4384-01  0.601218 -0.060978 -0.435417  1.111467 -1.28139 -0.128477   \n",
       "\n",
       "                    BCL6B     GSTK1      SELP  \n",
       "sampleID                                       \n",
       "TCGA-05-4244-01 -0.195527 -0.324695  0.193167  \n",
       "TCGA-05-4249-01 -0.276027 -1.219395  1.850967  \n",
       "TCGA-05-4250-01  0.714373  0.112305 -0.532833  \n",
       "TCGA-05-4382-01  0.367373 -0.494595 -1.062233  \n",
       "TCGA-05-4384-01  1.469373  0.194605  1.404667  \n",
       "\n",
       "[5 rows x 17342 columns]"
      ]
     },
     "execution_count": 36,
     "metadata": {},
     "output_type": "execute_result"
    }
   ],
   "source": [
    "merged_data = selected_clinical_data.join(genetic_data.T).dropna()\n",
    "merged_data.head()"
   ]
  },
  {
   "cell_type": "code",
   "execution_count": 37,
   "metadata": {
    "collapsed": false
   },
   "outputs": [
    {
     "name": "stdout",
     "output_type": "stream",
     "text": [
      "The merged dataset contains 1100 samples.\n"
     ]
    }
   ],
   "source": [
    "print(f\"The merged dataset contains {len(merged_data)} samples.\")"
   ]
  },
  {
   "cell_type": "code",
   "execution_count": 38,
   "metadata": {
    "collapsed": false
   },
   "outputs": [
    {
     "name": "stdout",
     "output_type": "stream",
     "text": [
      "For the feature 'Lung-Cancer', the least common label is '0' with 110 occurrences. This represents 10.00% of the dataset.\n",
      "The distribution of the feature 'Lung-Cancer' in this dataset is fine.\n",
      "\n",
      "Quartiles for 'Age':\n",
      "  25%: 60.0\n",
      "  50% (Median): 67.0\n",
      "  75%: 73.0\n",
      "Min: 38.0\n",
      "Max: 90.0\n",
      "The distribution of the feature 'Age' in this dataset is fine.\n",
      "\n",
      "For the feature 'Gender', the least common label is '0.0' with 443 occurrences. This represents 40.27% of the dataset.\n",
      "The distribution of the feature 'Gender' in this dataset is fine.\n",
      "\n"
     ]
    },
    {
     "data": {
      "text/plain": [
       "False"
      ]
     },
     "execution_count": 38,
     "metadata": {},
     "output_type": "execute_result"
    }
   ],
   "source": [
    "is_trait_biased, merge_data = judge_and_remove_biased_features(merged_data, TRAIT, trait_type=trait_type)\n",
    "is_trait_biased"
   ]
  },
  {
   "cell_type": "code",
   "execution_count": 39,
   "metadata": {
    "collapsed": false
   },
   "outputs": [],
   "source": [
    "merged_data.head()\n",
    "if not is_trait_biased:\n",
    "    merge_data.to_csv(os.path.join(OUTPUT_DIR, cohort+'.csv'), index=False)"
   ]
  },
  {
   "cell_type": "code",
   "execution_count": 40,
   "metadata": {
    "collapsed": false
   },
   "outputs": [
    {
     "name": "stdout",
     "output_type": "stream",
     "text": [
      "A new JSON file was created at: ../../output1/Yuxuan/Lung-Cancer/cohort_info.json\n"
     ]
    }
   ],
   "source": [
    "save_cohort_info(cohort, JSON_PATH, is_available, is_trait_biased, merged_data)"
   ]
  },
  {
   "cell_type": "markdown",
   "metadata": {
    "ExecuteTime": {
     "end_time": "2023-12-28T21:28:38.028916303Z",
     "start_time": "2023-12-28T21:28:38.016245426Z"
    },
    "collapsed": false
   },
   "source": [
    "## 2.2. The GEO dataset"
   ]
  },
  {
   "cell_type": "markdown",
   "metadata": {
    "ExecuteTime": {
     "end_time": "2023-12-31T03:25:23.253882615Z",
     "start_time": "2023-12-31T03:25:23.244062710Z"
    },
    "collapsed": false
   },
   "source": [
    "In GEO, there may be one or multiple cohorts for a trait. Each cohort is identified by an accession number. We iterate over all accession numbers in the corresponding subdirectory, preprocess the cohort data, and save them to csv files."
   ]
  },
  {
   "cell_type": "code",
   "execution_count": 5,
   "metadata": {
    "ExecuteTime": {
     "end_time": "2024-01-02T01:02:59.503572381Z",
     "start_time": "2024-01-02T01:02:59.491400342Z"
    },
    "collapsed": false
   },
   "outputs": [
    {
     "data": {
      "text/plain": [
       "['GSE60427', 'GSE32174', 'GSE43580', 'GSE207846']"
      ]
     },
     "execution_count": 5,
     "metadata": {},
     "output_type": "execute_result"
    }
   ],
   "source": [
    "dataset = 'GEO'\n",
    "trait_subdir = \"Peptic-ulcer-disease\"\n",
    "\n",
    "trait_path = os.path.join(DATA_ROOT, dataset, trait_subdir)\n",
    "os.listdir(trait_path)"
   ]
  },
  {
   "cell_type": "markdown",
   "metadata": {
    "ExecuteTime": {
     "end_time": "2023-12-31T03:39:42.634870142Z",
     "start_time": "2023-12-31T03:39:42.534093295Z"
    },
    "collapsed": false
   },
   "source": [
    "Repeat the below steps for all the accession numbers"
   ]
  },
  {
   "cell_type": "code",
   "execution_count": 43,
   "metadata": {
    "ExecuteTime": {
     "end_time": "2024-01-02T01:03:00.287218362Z",
     "start_time": "2024-01-02T01:03:00.278758251Z"
    },
    "collapsed": false
   },
   "outputs": [
    {
     "data": {
      "text/plain": [
       "('/home/yxcheng/GEO/Peptic-ulcer-disease/GSE207846/GSE207846_family.soft.gz',\n",
       " '/home/yxcheng/GEO/Peptic-ulcer-disease/GSE207846/GSE207846_series_matrix.txt.gz')"
      ]
     },
     "execution_count": 43,
     "metadata": {},
     "output_type": "execute_result"
    }
   ],
   "source": [
    "cohort = accession_num = \"GSE207846\"\n",
    "cohort_dir = os.path.join(trait_path, accession_num)\n",
    "soft_file, matrix_file = get_relevant_filepaths(cohort_dir)\n",
    "soft_file, matrix_file"
   ]
  },
  {
   "cell_type": "markdown",
   "metadata": {
    "collapsed": false
   },
   "source": [
    "### Inital filtering and clinical data preprocessing"
   ]
  },
  {
   "cell_type": "code",
   "execution_count": 44,
   "metadata": {
    "ExecuteTime": {
     "end_time": "2024-01-02T01:03:01.634861460Z",
     "start_time": "2024-01-02T01:03:01.076370517Z"
    },
    "collapsed": false
   },
   "outputs": [
    {
     "name": "stdout",
     "output_type": "stream",
     "text": [
      "!Series_title\t\"Gastric and esophagogastric junction adenocarcinoma with infrequent hypermethylation show poor prognosis\"\n",
      "!Series_summary\t\"Background  Gastric cancer (GC) was characterized by unique DNA methylation epigenotypes (MEs). Still, MEs, including adenocarcinoma of the esophagogastric junction (AEG) and background non-neoplastic columnar mucosae (NM), are yet to be clarified.   Methods  We analyzed genome-wide DNA MEs of AEG, GC, and background NM using Infinium 450k beadarray, followed by quantitative pyrosequencing validation. Large-scale data of the Cancer Genome Atlas (TCGA) were additionally reviewed.   Results  Unsupervised two-way hierarchical clustering using Infinium data of 21 AEG, 30 GC, and 11 NM showed four DNA MEs: extremely high-ME (E-HME), high-ME (HME), low-ME (LME), and extremely low-ME (E-LME). The promoter methylation levels were validated by pyrosequencing in 146 samples. Although almost normal mucosae were clustered into E-LME, gastric or esophagogastric junction mucosae with chronic inflammatory change due to either Helicobacter pylori infection or reflux esophagitis were clustered together into LME, which suggested that the inflammation status determined DNA MEs regardless of the causes. Three cases of Barrett’s-related adenocarcinoma were all clustered into HME. Among 94 patients whose tumors can be clustered into one of four MEs, 11 patients with E-LME cancers showed significantly shorter overall survival than the other MEs, even in multivariate Cox regression estimate. TCGA data also showed enrichment of AEG in HME and a poorer prognosis of E-LME.  Conclusions  E-LME cases, newly confirmed in this study, would be a unique aggressive subtype not associated with the elevation of DNA methylation levels caused by inflammation. LME could be acquired via chronic inflammation independent of the causes, and AEG frequently showed HME.\"\n",
      "!Series_overall_design\t\"Bisulphite converted DNA from the 56 samples were hybridised to the Infinium HumanMethylation450 BeadChip.\"\n"
     ]
    }
   ],
   "source": [
    "background_prefixes = ['!Series_title', '!Series_summary', '!Series_overall_design']\n",
    "clinical_prefixes = ['!Sample_geo_accession', '!Sample_characteristics_ch1']\n",
    "\n",
    "background_info, clinical_data = get_background_and_clinical_data(matrix_file, background_prefixes, clinical_prefixes)\n",
    "print(background_info)"
   ]
  },
  {
   "cell_type": "code",
   "execution_count": 45,
   "metadata": {
    "ExecuteTime": {
     "end_time": "2024-01-02T01:03:01.642310454Z",
     "start_time": "2024-01-02T01:03:01.635048940Z"
    },
    "collapsed": false
   },
   "outputs": [
    {
     "data": {
      "text/html": [
       "<div>\n",
       "<style scoped>\n",
       "    .dataframe tbody tr th:only-of-type {\n",
       "        vertical-align: middle;\n",
       "    }\n",
       "\n",
       "    .dataframe tbody tr th {\n",
       "        vertical-align: top;\n",
       "    }\n",
       "\n",
       "    .dataframe thead th {\n",
       "        text-align: right;\n",
       "    }\n",
       "</style>\n",
       "<table border=\"1\" class=\"dataframe\">\n",
       "  <thead>\n",
       "    <tr style=\"text-align: right;\">\n",
       "      <th></th>\n",
       "      <th>!Sample_geo_accession</th>\n",
       "      <th>GSM6320957</th>\n",
       "      <th>GSM6320958</th>\n",
       "      <th>GSM6320959</th>\n",
       "      <th>GSM6320960</th>\n",
       "      <th>GSM6320961</th>\n",
       "      <th>GSM6320962</th>\n",
       "      <th>GSM6320963</th>\n",
       "      <th>GSM6320964</th>\n",
       "      <th>GSM6320965</th>\n",
       "      <th>...</th>\n",
       "      <th>GSM6321003</th>\n",
       "      <th>GSM6321004</th>\n",
       "      <th>GSM6321005</th>\n",
       "      <th>GSM6321006</th>\n",
       "      <th>GSM6321007</th>\n",
       "      <th>GSM6321008</th>\n",
       "      <th>GSM6321009</th>\n",
       "      <th>GSM6321010</th>\n",
       "      <th>GSM6321011</th>\n",
       "      <th>GSM6321012</th>\n",
       "    </tr>\n",
       "  </thead>\n",
       "  <tbody>\n",
       "    <tr>\n",
       "      <th>0</th>\n",
       "      <td>!Sample_characteristics_ch1</td>\n",
       "      <td>sample type: clinical sample</td>\n",
       "      <td>sample type: clinical sample</td>\n",
       "      <td>sample type: clinical sample</td>\n",
       "      <td>sample type: clinical sample</td>\n",
       "      <td>sample type: clinical sample</td>\n",
       "      <td>sample type: clinical sample</td>\n",
       "      <td>sample type: clinical sample</td>\n",
       "      <td>sample type: clinical sample</td>\n",
       "      <td>sample type: clinical sample</td>\n",
       "      <td>...</td>\n",
       "      <td>sample type: clinical sample</td>\n",
       "      <td>sample type: clinical sample</td>\n",
       "      <td>sample type: clinical sample</td>\n",
       "      <td>sample type: clinical sample</td>\n",
       "      <td>sample type: clinical sample</td>\n",
       "      <td>sample type: clinical sample</td>\n",
       "      <td>sample type: clinical sample</td>\n",
       "      <td>sample type: clinical sample</td>\n",
       "      <td>sample type: clinical sample</td>\n",
       "      <td>sample type: clinical sample</td>\n",
       "    </tr>\n",
       "    <tr>\n",
       "      <th>1</th>\n",
       "      <td>!Sample_characteristics_ch1</td>\n",
       "      <td>disease state: gastric cancer</td>\n",
       "      <td>disease state: gastric cancer</td>\n",
       "      <td>disease state: gastric cancer</td>\n",
       "      <td>disease state: gastric cancer</td>\n",
       "      <td>disease state: gastric cancer</td>\n",
       "      <td>disease state: gastric cancer</td>\n",
       "      <td>disease state: gastric cancer</td>\n",
       "      <td>disease state: non-neoplastic gastric mucosa</td>\n",
       "      <td>disease state: gastric cancer</td>\n",
       "      <td>...</td>\n",
       "      <td>disease state: gastric cancer</td>\n",
       "      <td>disease state: gastric cancer</td>\n",
       "      <td>disease state: gastric cancer</td>\n",
       "      <td>disease state: gastric cancer</td>\n",
       "      <td>disease state: gastric cancer</td>\n",
       "      <td>disease state: gastric cancer</td>\n",
       "      <td>disease state: gastric cancer</td>\n",
       "      <td>disease state: gastric cancer</td>\n",
       "      <td>disease state: gastric cancer</td>\n",
       "      <td>disease state: gastric cancer</td>\n",
       "    </tr>\n",
       "  </tbody>\n",
       "</table>\n",
       "<p>2 rows × 57 columns</p>\n",
       "</div>"
      ],
      "text/plain": [
       "         !Sample_geo_accession                     GSM6320957  \\\n",
       "0  !Sample_characteristics_ch1   sample type: clinical sample   \n",
       "1  !Sample_characteristics_ch1  disease state: gastric cancer   \n",
       "\n",
       "                      GSM6320958                     GSM6320959  \\\n",
       "0   sample type: clinical sample   sample type: clinical sample   \n",
       "1  disease state: gastric cancer  disease state: gastric cancer   \n",
       "\n",
       "                      GSM6320960                     GSM6320961  \\\n",
       "0   sample type: clinical sample   sample type: clinical sample   \n",
       "1  disease state: gastric cancer  disease state: gastric cancer   \n",
       "\n",
       "                      GSM6320962                     GSM6320963  \\\n",
       "0   sample type: clinical sample   sample type: clinical sample   \n",
       "1  disease state: gastric cancer  disease state: gastric cancer   \n",
       "\n",
       "                                     GSM6320964  \\\n",
       "0                  sample type: clinical sample   \n",
       "1  disease state: non-neoplastic gastric mucosa   \n",
       "\n",
       "                      GSM6320965  ...                     GSM6321003  \\\n",
       "0   sample type: clinical sample  ...   sample type: clinical sample   \n",
       "1  disease state: gastric cancer  ...  disease state: gastric cancer   \n",
       "\n",
       "                      GSM6321004                     GSM6321005  \\\n",
       "0   sample type: clinical sample   sample type: clinical sample   \n",
       "1  disease state: gastric cancer  disease state: gastric cancer   \n",
       "\n",
       "                      GSM6321006                     GSM6321007  \\\n",
       "0   sample type: clinical sample   sample type: clinical sample   \n",
       "1  disease state: gastric cancer  disease state: gastric cancer   \n",
       "\n",
       "                      GSM6321008                     GSM6321009  \\\n",
       "0   sample type: clinical sample   sample type: clinical sample   \n",
       "1  disease state: gastric cancer  disease state: gastric cancer   \n",
       "\n",
       "                      GSM6321010                     GSM6321011  \\\n",
       "0   sample type: clinical sample   sample type: clinical sample   \n",
       "1  disease state: gastric cancer  disease state: gastric cancer   \n",
       "\n",
       "                      GSM6321012  \n",
       "0   sample type: clinical sample  \n",
       "1  disease state: gastric cancer  \n",
       "\n",
       "[2 rows x 57 columns]"
      ]
     },
     "execution_count": 45,
     "metadata": {},
     "output_type": "execute_result"
    }
   ],
   "source": [
    "clinical_data.head()"
   ]
  },
  {
   "cell_type": "code",
   "execution_count": 42,
   "metadata": {
    "ExecuteTime": {
     "end_time": "2024-01-02T01:03:01.805026160Z",
     "start_time": "2024-01-02T01:03:01.804428154Z"
    },
    "collapsed": false
   },
   "outputs": [
    {
     "data": {
      "text/plain": [
       "{0: ['gender: male', 'gender: female', 'age at excision (years): NA'],\n",
       " 1: ['age at excision (years): 65',\n",
       "  'age at excision (years): 61',\n",
       "  'age at excision (years): 43',\n",
       "  'age at excision (years): 44',\n",
       "  'age at excision (years): 60',\n",
       "  'age at excision (years): 58',\n",
       "  'age at excision (years): 67',\n",
       "  'age at excision (years): 52',\n",
       "  'age at excision (years): 66',\n",
       "  'age at excision (years): 47',\n",
       "  'age at excision (years): 56',\n",
       "  'age at excision (years): 62',\n",
       "  'age at excision (years): 69',\n",
       "  'age at excision (years): 49',\n",
       "  'age at excision (years): 68',\n",
       "  'age at excision (years): 70',\n",
       "  'age at excision (years): 46',\n",
       "  'age at excision (years): 63',\n",
       "  'age at excision (years): 57',\n",
       "  'age at excision (years): 39',\n",
       "  'age at excision (years): 55',\n",
       "  'age at excision (years): 71',\n",
       "  'age at excision (years): 54',\n",
       "  'age at excision (years): 72',\n",
       "  'age at excision (years): 74',\n",
       "  'age at excision (years): 59',\n",
       "  'age at excision (years): 73',\n",
       "  'age at excision (years): 77',\n",
       "  'age at excision (years): 53',\n",
       "  'age at excision (years): 51'],\n",
       " 2: ['ethnicity: Caucasian',\n",
       "  'ethnicity: White',\n",
       "  'ethnicity: Asian/Pacific Islander',\n",
       "  'ethnicity: NA',\n",
       "  'clinical diagnosis patient: Adenocarcinoma of the lung (Status New)'],\n",
       " 3: ['clinical diagnosis patient: Squamous cell carcinoma of the lung (Status New)',\n",
       "  'clinical diagnosis patient: Hypertension (Status Ongoing), Chronic cholecystitis  (Status Ongoing), Adenocarcinoma of the lung (Status New)',\n",
       "  'clinical diagnosis patient: Simple chronic bronchitis  (Status Ongoing), Unspecified gastritis and gastroduodenitis    (Status Ongoing), Adenocarcinoma of the lung (Status New)',\n",
       "  'clinical diagnosis patient: Squamous cell carcinoma, keratinizing of the lung (Status New)',\n",
       "  'clinical diagnosis patient: Coronary artery disease (Status Ongoing), Diabetes  (Status Ongoing), Gastritis (Status Ongoing), Squamous cell carcinoma of the lung (Status New)',\n",
       "  'clinical diagnosis patient: Obesity   (Status Ongoing), Adenocarcinoma of the lung (Status New)',\n",
       "  'clinical diagnosis patient: Chronic bronchitis (Status Ongoing), Squamous cell carcinoma of the lung (Status New)',\n",
       "  'clinical diagnosis patient: Duodenal ulcer (Status Ongoing), Squamous cell carcinoma of the lung (Status New)',\n",
       "  'clinical diagnosis patient: Cancer of the head and neck (Status ), Adenocarcinoma of the lung (Status New)',\n",
       "  'clinical diagnosis patient: Essential hypertension (Status Ongoing), Simple chronic bronchitis (Status Ongoing), Squamous cell carcinoma of the lung (Status New)',\n",
       "  'clinical diagnosis patient: Chronic bronchitis (Status Ongoing), Squamous cell carcinoma, large cell, non-keratinizing of the lung (Status New)',\n",
       "  'clinical diagnosis patient: Unspecified gastritis and gastroduodenitis    (Status Ongoing), Coronary atherosclerosis (Status Ongoing), Squamous cell carcinoma of the lung (Status New)',\n",
       "  'clinical diagnosis patient: Adenocarcinoma of the lung (Status New)',\n",
       "  'clinical diagnosis patient: Gastric ulcer (Status Ongoing), Adenocarcinoma of the lung (Status New)',\n",
       "  'clinical diagnosis patient: Unspecified gastritis and gastroduodenitis (Status Ongoing), Squamous cell carcinoma of the lung (Status New)',\n",
       "  'clinical diagnosis patient: Hypertension (Status Ongoing), Nodular goiter (Status Ongoing), Bronchiolo-alveolar adenocarcinoma of the lung (Status New)',\n",
       "  'clinical diagnosis patient: Chronic bronchitis (Status Ongoing), Adenocarcinoma of the lung (Status New)',\n",
       "  'clinical diagnosis patient: Lesion on the right lung (Status New), Chronic obstructive pulmonary disease (Status Ongoing), Gastroesophageal reflux disease (Status Ongoing), Cancer of the colon (Status Past), Cancer of the colon (Status Past), Papillary adenocarcinoma of the right lower lung lobe  (Status New)',\n",
       "  'clinical diagnosis patient: Obesity (Status Ongoing), Chronic bronchitis (Status Ongoing), Squamous cell carcinoma of the lung (Status New)',\n",
       "  'clinical diagnosis patient: Malignant neoplasm of the lung (Status New)',\n",
       "  'clinical diagnosis patient: Obesity (Status Ongoing), Clear cell adenocarcinoma of the lung (Status New)',\n",
       "  'clinical diagnosis patient: Chronic bronchitis (Status Ongoing), Hypertension (Status Ongoing), Adenocarcinoma of the lung (Status New)',\n",
       "  'clinical diagnosis patient: Lesion on the left lung (Status New), Stomach ulcer (Status Past), Sinus problems (Status Ongoing), Psoriasis (Status Ongoing), Chronic obstructive pulmonary disease (Status New), Glaucoma (Status Ongoing), Anxiety (Status New), Cataract (Status New), Hypertension (Status Ongoing), Adenocarcinoma of the lung (Status New)',\n",
       "  'clinical diagnosis patient: Arterial hypertension (Status Ongoing), Squamous cell carcinoma, keratinizing of the lung (Status New)',\n",
       "  'clinical diagnosis patient: Coronary atherosclerosis    (Status Ongoing), Essential hypertension (Status Ongoing), Malignant neoplasm of lip (Status Past), Squamous cell carcinoma  of the lung (Status New)',\n",
       "  'clinical diagnosis patient: Hypertension (Status Ongoing), Diabetes (Status Ongoing), Adenocarcinoma of the lung (Status New)',\n",
       "  'clinical diagnosis patient: Hypertension (Status Ongoing), Gastritis (Status Ongoing), Adenocarcinoma of the lung (Status New)',\n",
       "  'clinical diagnosis patient: Appendicitis with appendectomy (Status Past), Tonsillitis with tonsillectomy (Status Past), Squamous cell carcinoma of the lung (Status New)',\n",
       "  'clinical diagnosis patient: Appendicitis with appendectomy (Status Past), Viral hepatitis a (Status Past), Gastric ulcer (Status Recurrent), Thyroidectomy (Status Past), Adenocarcinoma of the lung (Status New)',\n",
       "  'clinical diagnosis patient: Cancer of the lung (Status New), Gastroesophageal reflux disease (Status Ongoing), Hypertension (Status Ongoing), Laparotomy for liver injury (Status Past), Hemorrhoids (Status Past), Adenocarcinoma of the lung (Status New)'],\n",
       " 4: ['bmi: 33.9100346',\n",
       "  'bmi: 27.6816609',\n",
       "  'bmi: 26.25958475',\n",
       "  'bmi: 25.40170132',\n",
       "  'bmi: 25.48476454',\n",
       "  'bmi: 25.69706994',\n",
       "  'bmi: 29.3877551',\n",
       "  'bmi: 28.40550436',\n",
       "  'bmi: 22.85714286',\n",
       "  'bmi: 26.79493802',\n",
       "  'bmi: 34.92767916',\n",
       "  'bmi: 27.42857143',\n",
       "  'bmi: 24.48979592',\n",
       "  'bmi: 26.57312925',\n",
       "  'bmi: 20.07774787',\n",
       "  'bmi: 24.81632653',\n",
       "  'bmi: 23.88946281',\n",
       "  'bmi: 24.00548697',\n",
       "  'bmi: 24.44180209',\n",
       "  'bmi: 23.51020408',\n",
       "  'bmi: 18.9370029',\n",
       "  'bmi: 27.04164413',\n",
       "  'bmi: 29.7210791',\n",
       "  'bmi: 20.07960128',\n",
       "  'bmi: 27.47252747',\n",
       "  'bmi: 23.32341806',\n",
       "  'bmi: 0',\n",
       "  'bmi: 27.10204082',\n",
       "  'bmi: 26.0261749',\n",
       "  'bmi: 22.14532872'],\n",
       " 5: ['height (cm): 170',\n",
       "  'height (cm): 169',\n",
       "  'height (cm): 184',\n",
       "  'height (cm): 190',\n",
       "  'height (cm): 175',\n",
       "  'height (cm): 178',\n",
       "  'height (cm): 176',\n",
       "  'height (cm): 156',\n",
       "  'height (cm): 168',\n",
       "  'height (cm): 153',\n",
       "  'height (cm): 162',\n",
       "  'height (cm): 174',\n",
       "  'height (cm): 172',\n",
       "  'height (cm): 167',\n",
       "  'height (cm): 182',\n",
       "  'height (cm): 0',\n",
       "  'height (cm): 164',\n",
       "  'height (cm): 165',\n",
       "  'height (cm): 157',\n",
       "  'height (cm): 187',\n",
       "  'height (cm): 161',\n",
       "  'height (cm): 160',\n",
       "  'height (cm): 149',\n",
       "  'height (cm): 180',\n",
       "  'height (cm): 158',\n",
       "  'height (cm): 163',\n",
       "  'height (cm): 150',\n",
       "  'height (cm): 173',\n",
       "  'height (cm): 155',\n",
       "  'height (cm): NA'],\n",
       " 6: ['weight (kg): 98',\n",
       "  'weight (kg): 80',\n",
       "  'weight (kg): 75',\n",
       "  'weight (kg): 86',\n",
       "  'weight (kg): 92',\n",
       "  'weight (kg): 87',\n",
       "  'weight (kg): 90',\n",
       "  'weight (kg): 70',\n",
       "  'weight (kg): 83',\n",
       "  'weight (kg): 85',\n",
       "  'weight (kg): 84',\n",
       "  'weight (kg): 47',\n",
       "  'weight (kg): 76',\n",
       "  'weight (kg): 74',\n",
       "  'weight (kg): 63',\n",
       "  'weight (kg): 72',\n",
       "  'weight (kg): 60',\n",
       "  'weight (kg): 78',\n",
       "  'weight (kg): 56',\n",
       "  'weight (kg): 91',\n",
       "  'weight (kg): 69',\n",
       "  'weight (kg): 0',\n",
       "  'weight (kg): 64',\n",
       "  'weight (kg): 48',\n",
       "  'weight (kg): 138',\n",
       "  'weight (kg): 95',\n",
       "  'weight (kg): 100',\n",
       "  'weight (kg): 65',\n",
       "  'weight (kg): 82',\n",
       "  'weight (kg): 58'],\n",
       " 7: ['smoking status: Previous Use',\n",
       "  'smoking status: Current Use',\n",
       "  'smoking status: Occasional Use',\n",
       "  'smoking status: Never Used',\n",
       "  'smoking dose (cigarettes/day): NA',\n",
       "  'smoking status: NA',\n",
       "  'smoking duration (years): NA'],\n",
       " 8: ['smoking duration (years): NA',\n",
       "  'smoking duration (years): 45',\n",
       "  'smoking duration (years): 15',\n",
       "  'smoking duration (years): 20',\n",
       "  'smoking duration (years): 35',\n",
       "  'smoking duration (years): 0',\n",
       "  'smoking duration (years): 50',\n",
       "  'smoking duration (years): 44',\n",
       "  'smoking duration (years): 58',\n",
       "  'smoking duration (years): 48',\n",
       "  'smoking duration (years): 40',\n",
       "  'smoking duration (years): 30',\n",
       "  'smoking duration (years): 36',\n",
       "  'excision year: 2006',\n",
       "  'smoking duration (years): >20',\n",
       "  'smoking duration (years): 2',\n",
       "  'smoking duration (years): 52',\n",
       "  'smoking dose (cigarettes/day): NA',\n",
       "  'smoking duration (years): 31-40',\n",
       "  'smoking duration (years): 25',\n",
       "  'smoking duration (years): 27',\n",
       "  'smoking duration (years): 10',\n",
       "  'smoking duration (years): 39',\n",
       "  'smoking dose (cigarettes/day): 20',\n",
       "  'smoking duration (years): 8',\n",
       "  'smoking duration (years): 37',\n",
       "  'smoking duration (years): 23',\n",
       "  'smoking duration (years): 34'],\n",
       " 9: ['smoking dose (cigarettes/day): 15',\n",
       "  'smoking dose (cigarettes/day): 20',\n",
       "  'smoking dose (cigarettes/day): 25',\n",
       "  'smoking dose (cigarettes/day): 30',\n",
       "  'smoking dose (cigarettes/day): 0',\n",
       "  'smoking dose (cigarettes/day): 10',\n",
       "  'smoking dose (cigarettes/day): 40',\n",
       "  'smoking dose (cigarettes/day): NA',\n",
       "  'smoking dose (cigarettes/day): 60',\n",
       "  'sample recovery type: Surgical',\n",
       "  'smoking dose (cigarettes/day): 24',\n",
       "  'excision year: 2008',\n",
       "  'smoking dose (cigarettes/day): 11-20',\n",
       "  'smoking dose (cigarettes/day): 35',\n",
       "  'excision year: 2011',\n",
       "  'smoking dose (cigarettes/day): 2-3',\n",
       "  'smoking dose (cigarettes/day): 5-8',\n",
       "  'excision year: NA',\n",
       "  'smoking dose (cigarettes/day): 6-7'],\n",
       " 10: ['excision year: 2007',\n",
       "  'excision year: 2009',\n",
       "  'excision year: 2010',\n",
       "  'excision year: 2008',\n",
       "  'excision year: 2011',\n",
       "  'excision year: 2006',\n",
       "  'tissue: Lung Tumor',\n",
       "  'sample recovery type: Surgical',\n",
       "  'excision year: 2002',\n",
       "  'excision year: 2005',\n",
       "  'excision year: 2003',\n",
       "  'excision year: 2004'],\n",
       " 11: ['sample recovery type: Surgical',\n",
       "  'tnm stage: T1NXMX',\n",
       "  'tissue: Lung Tumor',\n",
       "  'tissue: Lung Diseased'],\n",
       " 12: ['tissue: Lung Tumor',\n",
       "  'ajcc uicc stage: IA',\n",
       "  'tnm stage: T2N1M0',\n",
       "  'tnm stage: T2bN0M0',\n",
       "  'tnm stage: T2N0MX',\n",
       "  'tissue: Bronchus Tumor',\n",
       "  'tissue: Lung Normal',\n",
       "  'tnm stage: T3N0MX'],\n",
       " 13: ['tnm stage: T2N0M0',\n",
       "  'tnm stage: T1NXM0',\n",
       "  'tnm stage: T2aN1M0',\n",
       "  'tnm stage: T2NXM0',\n",
       "  'tnm stage: T2bN0M0',\n",
       "  'tnm stage: T2N1M0',\n",
       "  'tnm stage: T3N0M0',\n",
       "  'tnm stage: T2bN1M0',\n",
       "  'tnm stage: T2aNXM0',\n",
       "  'tnm stage: T2NXMX',\n",
       "  'tnm stage: T1bNXM0',\n",
       "  'tnm stage: T1N1M0',\n",
       "  'tnm stage: T2N0MX',\n",
       "  'tnm stage: T1N0M0',\n",
       "  'tnm stage: T3NXMX',\n",
       "  'tnm stage: T2aN0M0',\n",
       "  'clinical diagnosis specimen: Adenocarcinoma of the lung',\n",
       "  'tnm stage: T1bN1M0',\n",
       "  'tnm stage: T2aN0MX',\n",
       "  'tnm stage: T2bNXM0',\n",
       "  'ajcc uicc stage: IIB',\n",
       "  'tnm stage: T1N1MX',\n",
       "  'tnm stage: T1bN0M0',\n",
       "  'ajcc uicc stage: IIA',\n",
       "  'tnm stage: T1aN1M0',\n",
       "  'tnm stage: T1N2M0',\n",
       "  'ajcc uicc stage: IB',\n",
       "  'tnm stage: T1bNXMX',\n",
       "  'tnm stage: T3NXM0',\n",
       "  'tnm stage: T2N1MX'],\n",
       " 14: ['ajcc uicc stage: IB',\n",
       "  'ajcc uicc stage: IA',\n",
       "  'ajcc uicc stage: IIA',\n",
       "  'ajcc uicc stage: IIB',\n",
       "  'rin: 7.67513',\n",
       "  'biosample confirmed diagnosis: Adenocarcinoma',\n",
       "  'biosample confirmed diagnosis: Non-small cell carcinoma',\n",
       "  'clinical diagnosis specimen: Adenocarcinoma of the lung',\n",
       "  'ajcc uicc stage: II'],\n",
       " 15: ['clinical diagnosis specimen: Squamous cell carcinoma of the lung',\n",
       "  'biosample confirmed diagnosis: Non-Small Cell Carcinoma',\n",
       "  'biosample confirmed diagnosis: Non-small cell carcinoma',\n",
       "  'biosample confirmed diagnosis: Adenocarcinoma',\n",
       "  'clinical diagnosis specimen: Squamous cell carcinoma, keratinizing of the lung',\n",
       "  'biosample confirmed diagnosis: Squamous Cell Carcinoma',\n",
       "  'clinical diagnosis specimen: Squamous cell carcinoma, large cell, non-keratinizing of the lung',\n",
       "  'clinical diagnosis specimen: Adenocarcinoma of the lung',\n",
       "  'biosample confirmed diagnosis: Non-small Cell Carcinoma',\n",
       "  'sbv challenge gold standard: AC1',\n",
       "  'biosample confirmed diagnosis: Clear cell adenocarcinoma',\n",
       "  'biosample confirmed diagnosis: Squamous cell carcinoma',\n",
       "  'biosample confirmed sub-diagnosis: Squamous cell carcinoma',\n",
       "  'clinical diagnosis specimen: Adenocarcinoma of lung',\n",
       "  'biosample confirmed diagnosis: Mucinous adenocarcinoma',\n",
       "  'rin: 8.2',\n",
       "  'clinical diagnosis specimen: Squamous cell carcinoma, keratinizing of the skin',\n",
       "  'biosample confirmed diagnosis: Bronchiolo-alveolar adenocarcinoma',\n",
       "  'rin: 7.3',\n",
       "  'clinical diagnosis specimen: Bronchiolo-alveolar adenocarcinoma of the lung'],\n",
       " 16: ['rin: 9.64965',\n",
       "  'biosample confirmed sub-diagnosis: Adenocarcinoma',\n",
       "  'biosample confirmed sub-diagnosis: Squamous cell carcinoma',\n",
       "  'clinical diagnosis specimen: Adenocarcinoma of the lung',\n",
       "  'rin: 9.004557',\n",
       "  'rin: 9.4',\n",
       "  'rin: 10',\n",
       "  'clinical diagnosis specimen: Squamous cell carcinoma of the lung',\n",
       "  'biosample confirmed sub-diagnosis: Squamous Cell Carcinoma',\n",
       "  'rin: 8.881916',\n",
       "  'rin: 9.7',\n",
       "  'rin: 9.011824',\n",
       "  'rin: 7.881437',\n",
       "  'rin: 9.599208',\n",
       "  nan,\n",
       "  'clinical diagnosis specimen: Clear cell adenocarcinoma of the lung',\n",
       "  'rin: 8.462233',\n",
       "  'biosample confirmed sub-diagnosis: Squamous cell carcinoma, keratinizing',\n",
       "  'tumor grade: Moderate to poorly differentiated',\n",
       "  'rin: 8.231344',\n",
       "  'rin: 9.254594',\n",
       "  'rin: 9.2',\n",
       "  'rin: 8.693336',\n",
       "  'clinical diagnosis specimen: Squamous cell carcinoma, keratinizing of the lung',\n",
       "  'rin: 7.279631',\n",
       "  'rin: 8.9',\n",
       "  'biosample confirmed sub-diagnosis: Bronchiolo-alveolar adenocarcinoma',\n",
       "  'rin: 9.74118',\n",
       "  'rin: 9.137592',\n",
       "  'sbv challenge gold standard: AC1'],\n",
       " 17: ['sbv challenge gold standard: SCC1',\n",
       "  'clinical diagnosis specimen: Adenocarcinoma of the lung',\n",
       "  'clinical diagnosis specimen: Squamous cell carcinoma of the lung',\n",
       "  'tumor grade: Moderate to poorly differentiated',\n",
       "  'sbv challenge gold standard: SCC2',\n",
       "  'clinical diagnosis specimen: Squamous cell carcinoma, keratinizing of the lung',\n",
       "  'tumor grade: Poorly differentiated',\n",
       "  'sbv challenge gold standard: AC1',\n",
       "  'sbv challenge gold standard: AC2',\n",
       "  'tumor grade: Moderately differentiated',\n",
       "  'clinical diagnosis specimen: Bronchiolo-alveolar adenocarcinoma of the lung',\n",
       "  'clinical diagnosis specimen: Papillary adenocarcinoma of the right lower lung lobe',\n",
       "  nan,\n",
       "  'clinical diagnosis specimen: Malignant neoplasm of the lung',\n",
       "  'tumor grade: Well differentiated',\n",
       "  'clinical diagnosis specimen: Squamous cell carcinoma  of the lung',\n",
       "  'rin: 9.99',\n",
       "  'clinical diagnosis specimen: Carcinoma of the lung',\n",
       "  'clinical diagnosis specimen: Alveolar adenocarcinoma of the lung',\n",
       "  'rin: 8.78',\n",
       "  'tumor grade: Well to moderately differentiated',\n",
       "  'clinical diagnosis specimen: Large cell carcinoma of the lung',\n",
       "  'rin: 7.5',\n",
       "  'clinical diagnosis specimen: Squamous cell carcinoma of the upper lobe of right lung'],\n",
       " 18: [nan,\n",
       "  'tumor grade: Poorly differentiated',\n",
       "  'rin: 8.24',\n",
       "  'tumor grade: Moderate to poorly differentiated',\n",
       "  'tumor grade: Moderately differentiated',\n",
       "  'rin: 8.8',\n",
       "  'rin: 7.7',\n",
       "  'rin: 8.94',\n",
       "  'tumor grade: Well differentiated',\n",
       "  'rin: 9.5',\n",
       "  'rin: 8.04',\n",
       "  'tumor grade: Well to moderately differentiated',\n",
       "  'rin: 9.89',\n",
       "  'sbv challenge gold standard: AC2',\n",
       "  'rin: 7.62',\n",
       "  'rin: 7.67',\n",
       "  'rin: 8.05',\n",
       "  'tumor grade: G2',\n",
       "  'rin: 8.5',\n",
       "  'rin: 8.7',\n",
       "  'sbv challenge gold standard: SCC2',\n",
       "  'rin: 8.79',\n",
       "  'rin: 8.2',\n",
       "  'rin: 7.13',\n",
       "  'sbv challenge gold standard: AC1',\n",
       "  'rin: 7.66',\n",
       "  'rin: 7.35',\n",
       "  'rin: 7.38'],\n",
       " 19: [nan,\n",
       "  'rin: 9.4',\n",
       "  'rin: 8.19',\n",
       "  'sbv challenge gold standard: AC1',\n",
       "  'rin: 9.35',\n",
       "  'rin: 8.2',\n",
       "  'rin: 9.54',\n",
       "  'rin: 8.6',\n",
       "  'rin: 9.21',\n",
       "  'rin: 8.51',\n",
       "  'rin: 9.3',\n",
       "  'sbv challenge gold standard: SCC1',\n",
       "  'rin: 9.25',\n",
       "  'rin: 9.1',\n",
       "  'rin: 8.39',\n",
       "  'sbv challenge gold standard: SCC2',\n",
       "  'rin: 9.65',\n",
       "  'rin: 9.33',\n",
       "  'rin: 9.8',\n",
       "  'rin: 8.8',\n",
       "  'rin: 9',\n",
       "  'rin: 8.09',\n",
       "  'rin: 7.81',\n",
       "  'rin: 8.58',\n",
       "  'rin: 9.68',\n",
       "  'rin: 9.95',\n",
       "  'sbv challenge gold standard: AC2',\n",
       "  'rin: 8.96',\n",
       "  'rin: 8.1',\n",
       "  'rin: 8.74'],\n",
       " 20: [nan,\n",
       "  'sbv challenge gold standard: AC1',\n",
       "  'sbv challenge gold standard: SCC2',\n",
       "  'sbv challenge gold standard: SCC1',\n",
       "  'sbv challenge gold standard: AC2']}"
      ]
     },
     "execution_count": 42,
     "metadata": {},
     "output_type": "execute_result"
    }
   ],
   "source": [
    "clinical_data_unique = get_unique_values_by_row(clinical_data)\n",
    "clinical_data_unique"
   ]
  },
  {
   "cell_type": "markdown",
   "metadata": {
    "ExecuteTime": {
     "end_time": "2023-12-31T03:58:04.978204446Z",
     "start_time": "2023-12-31T03:58:04.922270095Z"
    },
    "collapsed": false
   },
   "source": [
    "Analyze the metadata to determine data relevance and find ways to extract the clinical data.\n",
    "Reference prompt:"
   ]
  },
  {
   "cell_type": "code",
   "execution_count": 39,
   "metadata": {
    "ExecuteTime": {
     "end_time": "2024-01-02T01:03:02.369775044Z",
     "start_time": "2024-01-02T01:03:02.356501629Z"
    },
    "collapsed": false
   },
   "outputs": [
    {
     "data": {
      "text/plain": [
       "'As a biomedical research team, we are selecting datasets to study the association between the human trait \\'Peptic ulcer disease\\' and genetic factors, optionally considering the influence of age and gender. After searching the GEO database and parsing the matrix file of a series, we obtained background information and sample characteristics data. We will provide textual information about the dataset background, and a Python dictionary storing a list of unique values for each field of the sample characteristics data. Please carefully review the provided information and answer the following questions about this dataset:\\n1. Does this dataset contain gene expression data? (Note: Pure miRNA data is not suitable.)\\n2. For each of the traits \\'Peptic ulcer disease\\', \\'age\\', and \\'gender\\', please address these points:\\n   (1) Is there human data available for this trait?\\n   (2) If so, identify the key in the sample characteristics dictionary where unique values of this trait is recorded. The key is an integer. The trait information might be explicitly recorded, or can be inferred from the field with some biomedical knowledge or understanding about the data collection process.\\n   (3) Choose an appropriate data type (either \\'continuous\\' or \\'binary\\') for each trait. Write a Python function to convert any given value of the trait to this data type. The function should handle inference about the trait value and convert unknown values to None.\\n   Name the functions \\'convert_trait\\', \\'convert_age\\', and \\'convert_gender\\', respectively.\\n\\nBackground information about the dataset:\\n!Series_title\\t\"microRNA profiling in duodenal ulcer disease caused by Helicobacter pylori infection in a Western population.\"\\n!Series_summary\\t\"The aim of this study was to identify and assess the utility of miRNAs as diagnostic surrogate markers for H.pylori infection. For this purpose, we analyzed the miRNA expression profile by microarrays in the antral mucosa of well characterized dyspeptic patients and then applied the most significant set of miRNAs to an independent validation group. Our results shows that a set of miRNAs are deregulated during chronic gastric inflammation and that this set may be may be useful as a surrogate marker for determining the presence of H.pylori.\"\\n!Series_overall_design\\t\"Total RNA from antral biopsies from patients with Helicobacter pylory (Hp) infection (with or without virulence factor caG) and healthy volunteers were isolated. MiRNA expression profiles were analyzed using miRNA microarray platform.\"\\n\\nSample characteristics dictionary (from \"!Sample_characteristics_ch1\", converted to a Python dictionary that stores the unique values for each field):\\n{0: [\\'gender: Male\\', \\'gender: Female\\'], 1: [\\'age: 47\\', \\'age: 43\\', \\'age: 42\\', \\'age: 33\\', \\'age: 36\\', \\'age: 35\\', \\'age: 67\\', \\'age: 38\\', \\'age: 39\\', \\'age: 56\\', \\'age: 63\\', \\'age: 58\\', \\'age: 41\\', \\'age: 64\\', \\'age: 53\\', \\'age: 21\\', \\'age: 25\\', \\'age: 55\\', \\'age: 49\\', \\'age: 45\\', \\'age: 20\\', \\'age: 68\\', \\'age: 37\\', \\'age: 65\\', \\'age: 19\\', \\'age: 80\\', \\'age: 57\\', \\'age: 66\\', \\'age: 50\\', \\'age: 27\\'], 2: [\\'hp_presence: yes\\', \\'hp_presence: no\\'], 3: [\\'caga presence: yes\\', \\'caga presence: no\\']}\\n'"
      ]
     },
     "execution_count": 39,
     "metadata": {},
     "output_type": "execute_result"
    }
   ],
   "source": [
    "f'''As a biomedical research team, we are selecting datasets to study the association between the human trait \\'{TRAIT}\\' and genetic factors, optionally considering the influence of age and gender. After searching the GEO database and parsing the matrix file of a series, we obtained background information and sample characteristics data. We will provide textual information about the dataset background, and a Python dictionary storing a list of unique values for each field of the sample characteristics data. Please carefully review the provided information and answer the following questions about this dataset:\n",
    "1. Does this dataset contain gene expression data? (Note: Pure miRNA data is not suitable.)\n",
    "2. For each of the traits \\'{TRAIT}\\', 'age', and 'gender', please address these points:\n",
    "   (1) Is there human data available for this trait?\n",
    "   (2) If so, identify the key in the sample characteristics dictionary where unique values of this trait is recorded. The key is an integer. The trait information might be explicitly recorded, or can be inferred from the field with some biomedical knowledge or understanding about the data collection process.\n",
    "   (3) Choose an appropriate data type (either 'continuous' or 'binary') for each trait. Write a Python function to convert any given value of the trait to this data type. The function should handle inference about the trait value and convert unknown values to None.\n",
    "   Name the functions 'convert_trait', 'convert_age', and 'convert_gender', respectively.\n",
    "\n",
    "Background information about the dataset:\n",
    "{background_info}\n",
    "\n",
    "Sample characteristics dictionary (from \"!Sample_characteristics_ch1\", converted to a Python dictionary that stores the unique values for each field):\n",
    "{clinical_data_unique}\n",
    "'''"
   ]
  },
  {
   "cell_type": "markdown",
   "metadata": {
    "ExecuteTime": {
     "end_time": "2023-12-31T03:58:04.978240504Z",
     "start_time": "2023-12-31T03:58:04.922365324Z"
    },
    "collapsed": false
   },
   "source": [
    "Understand and verify the answer from GPT, to assign values to the below variables. Assign None to the 'row_id' variables if relevant data row was not found.\n",
    "Later we need to let GPT format its answer to automatically do these. But given the complexity of this step, let's grow some insight from the free-text answers for now."
   ]
  },
  {
   "cell_type": "code",
   "execution_count": 11,
   "metadata": {
    "ExecuteTime": {
     "end_time": "2024-01-02T01:03:03.079540570Z",
     "start_time": "2024-01-02T01:03:03.073638535Z"
    },
    "collapsed": false
   },
   "outputs": [],
   "source": [
    "\n",
    "is_gene_availabe = True\n",
    "trait_row = 2\n",
    "age_row = 1\n",
    "gender_row = 0\n",
    "\n",
    "trait_type = 'binary'"
   ]
  },
  {
   "cell_type": "code",
   "execution_count": 12,
   "metadata": {
    "ExecuteTime": {
     "end_time": "2024-01-02T01:03:03.572682163Z",
     "start_time": "2024-01-02T01:03:03.559775513Z"
    },
    "collapsed": false
   },
   "outputs": [],
   "source": [
    "is_available = is_gene_availabe and (trait_row is not None)\n",
    "if not is_available:\n",
    "    save_cohort_info(cohort, JSON_PATH, is_available)\n",
    "    print(\"This cohort is not usable. Please skip the following steps and jump to the next accession number.\")"
   ]
  },
  {
   "cell_type": "code",
   "execution_count": 13,
   "metadata": {
    "ExecuteTime": {
     "end_time": "2024-01-02T01:03:03.973964287Z",
     "start_time": "2024-01-02T01:03:03.964958096Z"
    },
    "collapsed": false
   },
   "outputs": [
    {
     "data": {
      "text/plain": [
       "(1, 23, 1)"
      ]
     },
     "execution_count": 13,
     "metadata": {},
     "output_type": "execute_result"
    }
   ],
   "source": [
    "def convert_trait(tissue_type):\n",
    "    \"\"\"\n",
    "    Convert tissue type to epilepsy presence (binary).\n",
    "    Assuming epilepsy presence for 'Hippocampus' tissue.\n",
    "    \"\"\"\n",
    "    if tissue_type =='hp_presence: yes':\n",
    "        return 1  # Epilepsy present\n",
    "    else:\n",
    "        return 0  # Epilepsy not present\n",
    "\n",
    "def convert_age(age_string):\n",
    "    \"\"\"\n",
    "    Convert age string to a numerical value.\n",
    "    \"\"\"\n",
    "    if age_string.startswith('age: '):\n",
    "        try:\n",
    "            return int(age_string.split('age: ')[1].rstrip(''))  # Extracting numeric part\n",
    "        except ValueError:\n",
    "            return None  # In case of parsing error\n",
    "    else:\n",
    "        return None  # If age string does not follow expected format\n",
    "\n",
    "def convert_gender(gender_string):\n",
    "    \"\"\"\n",
    "    Convert gender string to a binary representation.\n",
    "    Female -> 0, Male -> 1, Unknown -> None\n",
    "    \"\"\"\n",
    "    if gender_string == 'gender: Female':\n",
    "        return 0\n",
    "    elif gender_string == 'gender: Male':\n",
    "        return 1\n",
    "    else:\n",
    "        return None  # In case of unknown gender\n",
    "\n",
    "# Example usage\n",
    "example_tissue = 'hp_presence: yes'\n",
    "example_age = 'age: 23'\n",
    "example_gender = 'gender: Male'\n",
    "\n",
    "converted_trait = convert_trait(example_tissue)\n",
    "converted_age = convert_age(example_age)\n",
    "converted_gender = convert_gender(example_gender)\n",
    "\n",
    "converted_trait, converted_age, converted_gender"
   ]
  },
  {
   "cell_type": "code",
   "execution_count": 15,
   "metadata": {
    "ExecuteTime": {
     "end_time": "2024-01-02T01:03:04.637878352Z",
     "start_time": "2024-01-02T01:03:04.593886885Z"
    },
    "collapsed": false
   },
   "outputs": [
    {
     "name": "stderr",
     "output_type": "stream",
     "text": [
      "/home/yxcheng/AI4Science_gold_standard/stage1/Jianrong/../utils.py:208: FutureWarning: DataFrame.applymap has been deprecated. Use DataFrame.map instead.\n",
      "  clinical_df = clinical_df.applymap(convert_fn)\n",
      "/home/yxcheng/AI4Science_gold_standard/stage1/Jianrong/../utils.py:208: FutureWarning: DataFrame.applymap has been deprecated. Use DataFrame.map instead.\n",
      "  clinical_df = clinical_df.applymap(convert_fn)\n",
      "/home/yxcheng/AI4Science_gold_standard/stage1/Jianrong/../utils.py:208: FutureWarning: DataFrame.applymap has been deprecated. Use DataFrame.map instead.\n",
      "  clinical_df = clinical_df.applymap(convert_fn)\n"
     ]
    },
    {
     "data": {
      "text/html": [
       "<div>\n",
       "<style scoped>\n",
       "    .dataframe tbody tr th:only-of-type {\n",
       "        vertical-align: middle;\n",
       "    }\n",
       "\n",
       "    .dataframe tbody tr th {\n",
       "        vertical-align: top;\n",
       "    }\n",
       "\n",
       "    .dataframe thead th {\n",
       "        text-align: right;\n",
       "    }\n",
       "</style>\n",
       "<table border=\"1\" class=\"dataframe\">\n",
       "  <thead>\n",
       "    <tr style=\"text-align: right;\">\n",
       "      <th></th>\n",
       "      <th>GSM797503</th>\n",
       "      <th>GSM797504</th>\n",
       "      <th>GSM797505</th>\n",
       "      <th>GSM797506</th>\n",
       "      <th>GSM797507</th>\n",
       "      <th>GSM797508</th>\n",
       "      <th>GSM797509</th>\n",
       "      <th>GSM797510</th>\n",
       "      <th>GSM797511</th>\n",
       "      <th>GSM797512</th>\n",
       "      <th>...</th>\n",
       "      <th>GSM797541</th>\n",
       "      <th>GSM797542</th>\n",
       "      <th>GSM797543</th>\n",
       "      <th>GSM797544</th>\n",
       "      <th>GSM797545</th>\n",
       "      <th>GSM797546</th>\n",
       "      <th>GSM797547</th>\n",
       "      <th>GSM797548</th>\n",
       "      <th>GSM797549</th>\n",
       "      <th>GSM797550</th>\n",
       "    </tr>\n",
       "  </thead>\n",
       "  <tbody>\n",
       "    <tr>\n",
       "      <th>Peptic ulcer disease</th>\n",
       "      <td>1</td>\n",
       "      <td>1</td>\n",
       "      <td>1</td>\n",
       "      <td>1</td>\n",
       "      <td>1</td>\n",
       "      <td>1</td>\n",
       "      <td>1</td>\n",
       "      <td>0</td>\n",
       "      <td>1</td>\n",
       "      <td>1</td>\n",
       "      <td>...</td>\n",
       "      <td>0</td>\n",
       "      <td>1</td>\n",
       "      <td>1</td>\n",
       "      <td>1</td>\n",
       "      <td>1</td>\n",
       "      <td>1</td>\n",
       "      <td>1</td>\n",
       "      <td>1</td>\n",
       "      <td>1</td>\n",
       "      <td>1</td>\n",
       "    </tr>\n",
       "    <tr>\n",
       "      <th>Age</th>\n",
       "      <td>47</td>\n",
       "      <td>43</td>\n",
       "      <td>42</td>\n",
       "      <td>33</td>\n",
       "      <td>36</td>\n",
       "      <td>35</td>\n",
       "      <td>67</td>\n",
       "      <td>38</td>\n",
       "      <td>42</td>\n",
       "      <td>39</td>\n",
       "      <td>...</td>\n",
       "      <td>65</td>\n",
       "      <td>19</td>\n",
       "      <td>80</td>\n",
       "      <td>49</td>\n",
       "      <td>57</td>\n",
       "      <td>58</td>\n",
       "      <td>66</td>\n",
       "      <td>50</td>\n",
       "      <td>27</td>\n",
       "      <td>54</td>\n",
       "    </tr>\n",
       "    <tr>\n",
       "      <th>Gender</th>\n",
       "      <td>1</td>\n",
       "      <td>0</td>\n",
       "      <td>1</td>\n",
       "      <td>0</td>\n",
       "      <td>0</td>\n",
       "      <td>0</td>\n",
       "      <td>1</td>\n",
       "      <td>1</td>\n",
       "      <td>0</td>\n",
       "      <td>0</td>\n",
       "      <td>...</td>\n",
       "      <td>1</td>\n",
       "      <td>0</td>\n",
       "      <td>1</td>\n",
       "      <td>0</td>\n",
       "      <td>0</td>\n",
       "      <td>1</td>\n",
       "      <td>0</td>\n",
       "      <td>0</td>\n",
       "      <td>0</td>\n",
       "      <td>0</td>\n",
       "    </tr>\n",
       "  </tbody>\n",
       "</table>\n",
       "<p>3 rows × 48 columns</p>\n",
       "</div>"
      ],
      "text/plain": [
       "                      GSM797503  GSM797504  GSM797505  GSM797506  GSM797507  \\\n",
       "Peptic ulcer disease          1          1          1          1          1   \n",
       "Age                          47         43         42         33         36   \n",
       "Gender                        1          0          1          0          0   \n",
       "\n",
       "                      GSM797508  GSM797509  GSM797510  GSM797511  GSM797512  \\\n",
       "Peptic ulcer disease          1          1          0          1          1   \n",
       "Age                          35         67         38         42         39   \n",
       "Gender                        0          1          1          0          0   \n",
       "\n",
       "                      ...  GSM797541  GSM797542  GSM797543  GSM797544  \\\n",
       "Peptic ulcer disease  ...          0          1          1          1   \n",
       "Age                   ...         65         19         80         49   \n",
       "Gender                ...          1          0          1          0   \n",
       "\n",
       "                      GSM797545  GSM797546  GSM797547  GSM797548  GSM797549  \\\n",
       "Peptic ulcer disease          1          1          1          1          1   \n",
       "Age                          57         58         66         50         27   \n",
       "Gender                        0          1          0          0          0   \n",
       "\n",
       "                      GSM797550  \n",
       "Peptic ulcer disease          1  \n",
       "Age                          54  \n",
       "Gender                        0  \n",
       "\n",
       "[3 rows x 48 columns]"
      ]
     },
     "execution_count": 15,
     "metadata": {},
     "output_type": "execute_result"
    }
   ],
   "source": [
    "selected_clinical_data = geo_select_clinical_features(clinical_data, TRAIT, trait_row, convert_trait, age_row=age_row,\n",
    "                                                      convert_age=convert_age, gender_row=gender_row,\n",
    "                                                      convert_gender=convert_gender)\n",
    "selected_clinical_data.head()"
   ]
  },
  {
   "cell_type": "markdown",
   "metadata": {
    "ExecuteTime": {
     "end_time": "2023-12-31T03:58:04.978664193Z",
     "start_time": "2023-12-31T03:58:04.966117261Z"
    },
    "collapsed": false
   },
   "source": [
    "### Genetic data preprocessing and final filtering"
   ]
  },
  {
   "cell_type": "code",
   "execution_count": 16,
   "metadata": {
    "ExecuteTime": {
     "end_time": "2024-01-02T01:03:06.246474256Z",
     "start_time": "2024-01-02T01:03:05.670354792Z"
    },
    "collapsed": false
   },
   "outputs": [
    {
     "data": {
      "text/html": [
       "<div>\n",
       "<style scoped>\n",
       "    .dataframe tbody tr th:only-of-type {\n",
       "        vertical-align: middle;\n",
       "    }\n",
       "\n",
       "    .dataframe tbody tr th {\n",
       "        vertical-align: top;\n",
       "    }\n",
       "\n",
       "    .dataframe thead th {\n",
       "        text-align: right;\n",
       "    }\n",
       "</style>\n",
       "<table border=\"1\" class=\"dataframe\">\n",
       "  <thead>\n",
       "    <tr style=\"text-align: right;\">\n",
       "      <th></th>\n",
       "      <th>GSM797503</th>\n",
       "      <th>GSM797504</th>\n",
       "      <th>GSM797505</th>\n",
       "      <th>GSM797506</th>\n",
       "      <th>GSM797507</th>\n",
       "      <th>GSM797508</th>\n",
       "      <th>GSM797509</th>\n",
       "      <th>GSM797510</th>\n",
       "      <th>GSM797511</th>\n",
       "      <th>GSM797512</th>\n",
       "      <th>...</th>\n",
       "      <th>GSM797541</th>\n",
       "      <th>GSM797542</th>\n",
       "      <th>GSM797543</th>\n",
       "      <th>GSM797544</th>\n",
       "      <th>GSM797545</th>\n",
       "      <th>GSM797546</th>\n",
       "      <th>GSM797547</th>\n",
       "      <th>GSM797548</th>\n",
       "      <th>GSM797549</th>\n",
       "      <th>GSM797550</th>\n",
       "    </tr>\n",
       "    <tr>\n",
       "      <th>ID</th>\n",
       "      <th></th>\n",
       "      <th></th>\n",
       "      <th></th>\n",
       "      <th></th>\n",
       "      <th></th>\n",
       "      <th></th>\n",
       "      <th></th>\n",
       "      <th></th>\n",
       "      <th></th>\n",
       "      <th></th>\n",
       "      <th></th>\n",
       "      <th></th>\n",
       "      <th></th>\n",
       "      <th></th>\n",
       "      <th></th>\n",
       "      <th></th>\n",
       "      <th></th>\n",
       "      <th></th>\n",
       "      <th></th>\n",
       "      <th></th>\n",
       "      <th></th>\n",
       "    </tr>\n",
       "  </thead>\n",
       "  <tbody>\n",
       "    <tr>\n",
       "      <th>ILMN_3166935</th>\n",
       "      <td>9.975266</td>\n",
       "      <td>10.461150</td>\n",
       "      <td>10.548876</td>\n",
       "      <td>9.666340</td>\n",
       "      <td>9.950354</td>\n",
       "      <td>10.424624</td>\n",
       "      <td>9.876118</td>\n",
       "      <td>9.902894</td>\n",
       "      <td>10.371202</td>\n",
       "      <td>10.270923</td>\n",
       "      <td>...</td>\n",
       "      <td>10.175216</td>\n",
       "      <td>10.177184</td>\n",
       "      <td>9.982420</td>\n",
       "      <td>10.104179</td>\n",
       "      <td>9.593392</td>\n",
       "      <td>9.638517</td>\n",
       "      <td>10.583167</td>\n",
       "      <td>9.937538</td>\n",
       "      <td>9.821677</td>\n",
       "      <td>9.502169</td>\n",
       "    </tr>\n",
       "    <tr>\n",
       "      <th>ILMN_3166938</th>\n",
       "      <td>13.733414</td>\n",
       "      <td>14.026686</td>\n",
       "      <td>14.152905</td>\n",
       "      <td>13.778095</td>\n",
       "      <td>13.940519</td>\n",
       "      <td>13.920395</td>\n",
       "      <td>14.136111</td>\n",
       "      <td>14.124273</td>\n",
       "      <td>13.971868</td>\n",
       "      <td>14.090454</td>\n",
       "      <td>...</td>\n",
       "      <td>13.843475</td>\n",
       "      <td>13.941381</td>\n",
       "      <td>14.299771</td>\n",
       "      <td>14.152099</td>\n",
       "      <td>13.788157</td>\n",
       "      <td>13.694138</td>\n",
       "      <td>13.937551</td>\n",
       "      <td>13.708957</td>\n",
       "      <td>13.617903</td>\n",
       "      <td>13.825477</td>\n",
       "    </tr>\n",
       "    <tr>\n",
       "      <th>ILMN_3166940</th>\n",
       "      <td>7.585562</td>\n",
       "      <td>7.968563</td>\n",
       "      <td>7.366909</td>\n",
       "      <td>8.216043</td>\n",
       "      <td>7.698565</td>\n",
       "      <td>8.603602</td>\n",
       "      <td>7.464398</td>\n",
       "      <td>9.169249</td>\n",
       "      <td>8.145154</td>\n",
       "      <td>7.369086</td>\n",
       "      <td>...</td>\n",
       "      <td>7.876997</td>\n",
       "      <td>8.219981</td>\n",
       "      <td>6.917464</td>\n",
       "      <td>7.163466</td>\n",
       "      <td>7.304017</td>\n",
       "      <td>7.715744</td>\n",
       "      <td>7.865103</td>\n",
       "      <td>7.432257</td>\n",
       "      <td>7.797309</td>\n",
       "      <td>7.760824</td>\n",
       "    </tr>\n",
       "    <tr>\n",
       "      <th>ILMN_3166941</th>\n",
       "      <td>12.341052</td>\n",
       "      <td>12.194694</td>\n",
       "      <td>12.378808</td>\n",
       "      <td>12.356799</td>\n",
       "      <td>12.093108</td>\n",
       "      <td>12.169954</td>\n",
       "      <td>12.375256</td>\n",
       "      <td>12.347673</td>\n",
       "      <td>12.330624</td>\n",
       "      <td>12.233075</td>\n",
       "      <td>...</td>\n",
       "      <td>12.398366</td>\n",
       "      <td>12.410816</td>\n",
       "      <td>12.018360</td>\n",
       "      <td>12.165824</td>\n",
       "      <td>12.472525</td>\n",
       "      <td>12.283943</td>\n",
       "      <td>11.444353</td>\n",
       "      <td>12.221243</td>\n",
       "      <td>12.048450</td>\n",
       "      <td>11.857672</td>\n",
       "    </tr>\n",
       "    <tr>\n",
       "      <th>ILMN_3166943</th>\n",
       "      <td>8.338039</td>\n",
       "      <td>8.161234</td>\n",
       "      <td>8.604510</td>\n",
       "      <td>8.740649</td>\n",
       "      <td>8.799225</td>\n",
       "      <td>8.658626</td>\n",
       "      <td>8.698869</td>\n",
       "      <td>8.681168</td>\n",
       "      <td>8.977157</td>\n",
       "      <td>8.683768</td>\n",
       "      <td>...</td>\n",
       "      <td>8.637931</td>\n",
       "      <td>8.659982</td>\n",
       "      <td>8.631416</td>\n",
       "      <td>8.703537</td>\n",
       "      <td>8.618325</td>\n",
       "      <td>8.645989</td>\n",
       "      <td>9.339527</td>\n",
       "      <td>8.735314</td>\n",
       "      <td>8.867428</td>\n",
       "      <td>8.469376</td>\n",
       "    </tr>\n",
       "  </tbody>\n",
       "</table>\n",
       "<p>5 rows × 48 columns</p>\n",
       "</div>"
      ],
      "text/plain": [
       "              GSM797503  GSM797504  GSM797505  GSM797506  GSM797507  \\\n",
       "ID                                                                    \n",
       "ILMN_3166935   9.975266  10.461150  10.548876   9.666340   9.950354   \n",
       "ILMN_3166938  13.733414  14.026686  14.152905  13.778095  13.940519   \n",
       "ILMN_3166940   7.585562   7.968563   7.366909   8.216043   7.698565   \n",
       "ILMN_3166941  12.341052  12.194694  12.378808  12.356799  12.093108   \n",
       "ILMN_3166943   8.338039   8.161234   8.604510   8.740649   8.799225   \n",
       "\n",
       "              GSM797508  GSM797509  GSM797510  GSM797511  GSM797512  ...  \\\n",
       "ID                                                                   ...   \n",
       "ILMN_3166935  10.424624   9.876118   9.902894  10.371202  10.270923  ...   \n",
       "ILMN_3166938  13.920395  14.136111  14.124273  13.971868  14.090454  ...   \n",
       "ILMN_3166940   8.603602   7.464398   9.169249   8.145154   7.369086  ...   \n",
       "ILMN_3166941  12.169954  12.375256  12.347673  12.330624  12.233075  ...   \n",
       "ILMN_3166943   8.658626   8.698869   8.681168   8.977157   8.683768  ...   \n",
       "\n",
       "              GSM797541  GSM797542  GSM797543  GSM797544  GSM797545  \\\n",
       "ID                                                                    \n",
       "ILMN_3166935  10.175216  10.177184   9.982420  10.104179   9.593392   \n",
       "ILMN_3166938  13.843475  13.941381  14.299771  14.152099  13.788157   \n",
       "ILMN_3166940   7.876997   8.219981   6.917464   7.163466   7.304017   \n",
       "ILMN_3166941  12.398366  12.410816  12.018360  12.165824  12.472525   \n",
       "ILMN_3166943   8.637931   8.659982   8.631416   8.703537   8.618325   \n",
       "\n",
       "              GSM797546  GSM797547  GSM797548  GSM797549  GSM797550  \n",
       "ID                                                                   \n",
       "ILMN_3166935   9.638517  10.583167   9.937538   9.821677   9.502169  \n",
       "ILMN_3166938  13.694138  13.937551  13.708957  13.617903  13.825477  \n",
       "ILMN_3166940   7.715744   7.865103   7.432257   7.797309   7.760824  \n",
       "ILMN_3166941  12.283943  11.444353  12.221243  12.048450  11.857672  \n",
       "ILMN_3166943   8.645989   9.339527   8.735314   8.867428   8.469376  \n",
       "\n",
       "[5 rows x 48 columns]"
      ]
     },
     "execution_count": 16,
     "metadata": {},
     "output_type": "execute_result"
    }
   ],
   "source": [
    "genetic_data = get_genetic_data(matrix_file)\n",
    "genetic_data.head()"
   ]
  },
  {
   "cell_type": "code",
   "execution_count": 17,
   "metadata": {
    "ExecuteTime": {
     "end_time": "2024-01-02T01:03:06.250833943Z",
     "start_time": "2024-01-02T01:03:06.246758837Z"
    },
    "collapsed": false
   },
   "outputs": [
    {
     "data": {
      "text/plain": [
       "['ILMN_3166935',\n",
       " 'ILMN_3166938',\n",
       " 'ILMN_3166940',\n",
       " 'ILMN_3166941',\n",
       " 'ILMN_3166943',\n",
       " 'ILMN_3166944',\n",
       " 'ILMN_3166945',\n",
       " 'ILMN_3166948',\n",
       " 'ILMN_3166952',\n",
       " 'ILMN_3166953',\n",
       " 'ILMN_3166955',\n",
       " 'ILMN_3166957',\n",
       " 'ILMN_3166958',\n",
       " 'ILMN_3166959',\n",
       " 'ILMN_3166964',\n",
       " 'ILMN_3166965',\n",
       " 'ILMN_3166967',\n",
       " 'ILMN_3166969',\n",
       " 'ILMN_3166971',\n",
       " 'ILMN_3166972']"
      ]
     },
     "execution_count": 17,
     "metadata": {},
     "output_type": "execute_result"
    }
   ],
   "source": [
    "gene_row_ids = genetic_data.index[:20].tolist()\n",
    "gene_row_ids"
   ]
  },
  {
   "cell_type": "markdown",
   "metadata": {
    "ExecuteTime": {
     "end_time": "2023-12-31T03:30:41.595335164Z",
     "start_time": "2023-12-31T03:30:41.513232329Z"
    },
    "collapsed": false
   },
   "source": [
    "Check if the gene dataset requires mapping to get the gene symbols corresponding to each data row."
   ]
  },
  {
   "cell_type": "markdown",
   "metadata": {
    "collapsed": false
   },
   "source": [
    "Reference prompt:"
   ]
  },
  {
   "cell_type": "code",
   "execution_count": 18,
   "metadata": {
    "ExecuteTime": {
     "end_time": "2024-01-02T01:03:07.586216481Z",
     "start_time": "2024-01-02T01:03:07.574527035Z"
    },
    "collapsed": false
   },
   "outputs": [
    {
     "data": {
      "text/plain": [
       "\"\\nBelow are the row headers of a gene expression dataset in GEO. Based on your biomedical knowledge, are they human gene symbols, or are they some other identifiers that need to be mapped to gene symbols? Your answer should be concluded by starting a new line and strictly following this format:\\nrequires_gene_mapping = (True or False)\\n\\nRow headers:\\n['ILMN_3166935', 'ILMN_3166938', 'ILMN_3166940', 'ILMN_3166941', 'ILMN_3166943', 'ILMN_3166944', 'ILMN_3166945', 'ILMN_3166948', 'ILMN_3166952', 'ILMN_3166953', 'ILMN_3166955', 'ILMN_3166957', 'ILMN_3166958', 'ILMN_3166959', 'ILMN_3166964', 'ILMN_3166965', 'ILMN_3166967', 'ILMN_3166969', 'ILMN_3166971', 'ILMN_3166972']\\n\""
      ]
     },
     "execution_count": 18,
     "metadata": {},
     "output_type": "execute_result"
    }
   ],
   "source": [
    "f'''\n",
    "Below are the row headers of a gene expression dataset in GEO. Based on your biomedical knowledge, are they human gene symbols, or are they some other identifiers that need to be mapped to gene symbols? Your answer should be concluded by starting a new line and strictly following this format:\n",
    "requires_gene_mapping = (True or False)\n",
    "\n",
    "Row headers:\n",
    "{gene_row_ids}\n",
    "'''"
   ]
  },
  {
   "cell_type": "markdown",
   "metadata": {
    "collapsed": false
   },
   "source": [
    "If not required, jump directly to the gene normalization step"
   ]
  },
  {
   "cell_type": "code",
   "execution_count": 19,
   "metadata": {
    "ExecuteTime": {
     "end_time": "2024-01-02T01:03:08.263712538Z",
     "start_time": "2024-01-02T01:03:08.260656314Z"
    },
    "collapsed": false
   },
   "outputs": [],
   "source": [
    "requires_gene_mapping = True"
   ]
  },
  {
   "cell_type": "code",
   "execution_count": 21,
   "metadata": {
    "ExecuteTime": {
     "end_time": "2024-01-02T01:03:33.822550310Z",
     "start_time": "2024-01-02T01:03:08.648958912Z"
    },
    "collapsed": false
   },
   "outputs": [
    {
     "name": "stdout",
     "output_type": "stream",
     "text": [
      "{'ID': ['ILMN_3167151', 'ILMN_3167958', 'ILMN_3167403', 'ILMN_3167819', 'ILMN_3167659'], 'SYMBOL': ['ILMN_3167151', 'ILMN_3167958', 'ILMN_3167403', 'ILMN_3167819', 'ILMN_3167659'], 'ILMN_Gene': ['hsa-miR-553', 'HS_124', 'hsa-miR-320d,hsa-miR-320b,hsa-miR-320a,hsa-miR-320c', 'hsa-miR-522', 'hsa-miR-1537'], 'Search_Key': ['hsa-miR-553', 'HS_124', 'hsa-miR-320d,hsa-miR-320b,hsa-miR-320a,hsa-miR-320c', 'hsa-miR-522', 'hsa-miR-1537'], 'SEQUENCE': ['AAAACGGTGAGATTTTGTT', 'AAAAGAACATGGGTTGAG', 'AAAAGCTGGGTTGAGAGG', 'AAAATGGTTCCCTTTAGAGT', 'AAACCGTCTAGTTACAGTTGT'], 'TargetMatureSeqs': ['AAAACGGTGAGATTTTGTTTT', 'AAAAGAACATGGGTTGAG', 'AAAAGCTGGGTTGAGAGGA,AAAAGCTGGGTTGAGAGGGCAA,AAAAGCTGGGTTGAGAGGGCGA,AAAAGCTGGGTTGAGAGGGT', 'AAAATGGTTCCCTTTAGAGTGT', 'AAAACCGTCTAGTTACAGTTGT'], 'TargetMatureName': ['hsa-miR-553', 'HS_124', 'hsa-miR-320d,hsa-miR-320b,hsa-miR-320a,hsa-miR-320c', 'hsa-miR-522', 'hsa-miR-1537'], 'miRNA_ID': ['hsa-miR-553', nan, 'hsa-miR-320d,hsa-miR-320b,hsa-miR-320a,hsa-miR-320c', 'hsa-miR-522', 'hsa-miR-1537'], 'SPOT_ID': [nan, 'HS_124', nan, nan, nan], 'NumTargets': [1.0, 1.0, 4.0, 1.0, 1.0], 'TargetMatureVersion': [12.0, 0.0, 12.0, 12.0, 12.0], 'OriginalMatureSeq': ['AAAACGGTGAGATTTTGTTTT', 'AAAAGAACATGGGTTGAG', 'AAAAGCTGGGTTGAGAGGGCGAA', 'AAAATGGTTCCCTTTAGAGTGTT', 'AAACCGTCTAGTTACAGTTGT'], 'OriginalMatureName': ['hsa-miR-553', 'HS_124', 'hsa-miR-320', 'hsa-miR-522', 'HS_92.1'], 'Source': ['Sanger miRNAdb (v_8.2, July 2006)', 'Nature Genet 2006 Dec;38:1375-1377', 'Sanger miRNAdb (v_8.2, July 2006)', 'Sanger miRNAdb (v_8.2, July 2006)', 'Genome Res 2006 Oct;16:1289-1298'], 'Array_Address_Id': [1655.0, 2324.0, 913.0, 1375.0, 2247.0], 'Illumicode': ['TAGCTGGCCCACGAAATCTGCG', 'TGAGGTGACGCATCCCTCCATT', 'ACCCGATGGATAGGTCGGTGAA', 'CAGTAATCAGGCGTCTGTTGGC', 'CAGTCAGCAGCCGATCTCGGAT'], 'Oligo': ['ACTTCGTCAGTAACGGACTAGCTGGCCCACGAAATCTGCGAAAACGGTGAGATTTTGTT', 'ACTTCGTCAGTAACGGACTGAGGTGACGCATCCCTCCATTAAAAGAACATGGGTTGAG', 'ACTTCGTCAGTAACGGACACCCGATGGATAGGTCGGTGAAAAAAGCTGGGTTGAGAGG', 'ACTTCGTCAGTAACGGACCAGTAATCAGGCGTCTGTTGGCAAAATGGTTCCCTTTAGAGT', 'ACTTCGTCAGTAACGGACCAGTCAGCAGCCGATCTCGGATAAACCGTCTAGTTACAGTTGT'], 'U3_Seq': ['ACTTCGTCAGTAACGGAC', 'ACTTCGTCAGTAACGGAC', 'ACTTCGTCAGTAACGGAC', 'ACTTCGTCAGTAACGGAC', 'ACTTCGTCAGTAACGGAC'], 'Ploidy': ['diploid', 'diploid', 'diploid', 'diploid', 'diploid'], 'Species': ['human', 'human', 'human', 'human', 'human'], 'Probe_MatchOrder': ['1', '1', '2,2,1,2', '1', '1'], 'Chromosome': ['1', '0', '13,X,1,1,8,18,18', '19', '1'], 'Probe_Coordinates': ['100519399', '0', '40,199,983,139,836,000,000,000,000,000,000,000,000,000,000,000,000,000,000,000', '58946329', '234082945'], 'Probe_Chr_Orientation': ['+', '+', '-,-,+,-,-,+,+', '+', '-']}\n"
     ]
    }
   ],
   "source": [
    "if requires_gene_mapping:\n",
    "    gene_annotation = get_gene_annotation(soft_file)\n",
    "    gene_annotation_summary = preview_df(gene_annotation)\n",
    "    print(gene_annotation_summary)"
   ]
  },
  {
   "cell_type": "markdown",
   "metadata": {
    "ExecuteTime": {
     "end_time": "2023-12-31T03:58:04.978931927Z",
     "start_time": "2023-12-31T03:58:04.966328339Z"
    },
    "collapsed": false
   },
   "source": [
    "Observe the first few cells in the ID column of the gene annotation dataframe, to find the names of columns that store the gene probe IDs and gene symbols respectively.\n",
    "Reference prompt:"
   ]
  },
  {
   "cell_type": "code",
   "execution_count": 22,
   "metadata": {
    "ExecuteTime": {
     "end_time": "2024-01-02T01:03:33.822912446Z",
     "start_time": "2024-01-02T01:03:33.804491826Z"
    },
    "collapsed": false
   },
   "outputs": [
    {
     "name": "stdout",
     "output_type": "stream",
     "text": [
      "\n",
      "    As a biomedical research team, we extracted the gene annotation data from a series in the GEO database, and saved it to a Python dictionary. Please read the dictionary, and decide which key stores the ID of the probe, and which key stores the gene symbols. Please strict follow this format in your answer:\n",
      "    probe_name_key = 'key_name1'\n",
      "    gene_name_key = 'key_name2'\n",
      "\n",
      "    Gene annotation dictionary:\n",
      "    {'ID': ['ILMN_3167151', 'ILMN_3167958', 'ILMN_3167403', 'ILMN_3167819', 'ILMN_3167659'], 'SYMBOL': ['ILMN_3167151', 'ILMN_3167958', 'ILMN_3167403', 'ILMN_3167819', 'ILMN_3167659'], 'ILMN_Gene': ['hsa-miR-553', 'HS_124', 'hsa-miR-320d,hsa-miR-320b,hsa-miR-320a,hsa-miR-320c', 'hsa-miR-522', 'hsa-miR-1537'], 'Search_Key': ['hsa-miR-553', 'HS_124', 'hsa-miR-320d,hsa-miR-320b,hsa-miR-320a,hsa-miR-320c', 'hsa-miR-522', 'hsa-miR-1537'], 'SEQUENCE': ['AAAACGGTGAGATTTTGTT', 'AAAAGAACATGGGTTGAG', 'AAAAGCTGGGTTGAGAGG', 'AAAATGGTTCCCTTTAGAGT', 'AAACCGTCTAGTTACAGTTGT'], 'TargetMatureSeqs': ['AAAACGGTGAGATTTTGTTTT', 'AAAAGAACATGGGTTGAG', 'AAAAGCTGGGTTGAGAGGA,AAAAGCTGGGTTGAGAGGGCAA,AAAAGCTGGGTTGAGAGGGCGA,AAAAGCTGGGTTGAGAGGGT', 'AAAATGGTTCCCTTTAGAGTGT', 'AAAACCGTCTAGTTACAGTTGT'], 'TargetMatureName': ['hsa-miR-553', 'HS_124', 'hsa-miR-320d,hsa-miR-320b,hsa-miR-320a,hsa-miR-320c', 'hsa-miR-522', 'hsa-miR-1537'], 'miRNA_ID': ['hsa-miR-553', nan, 'hsa-miR-320d,hsa-miR-320b,hsa-miR-320a,hsa-miR-320c', 'hsa-miR-522', 'hsa-miR-1537'], 'SPOT_ID': [nan, 'HS_124', nan, nan, nan], 'NumTargets': [1.0, 1.0, 4.0, 1.0, 1.0], 'TargetMatureVersion': [12.0, 0.0, 12.0, 12.0, 12.0], 'OriginalMatureSeq': ['AAAACGGTGAGATTTTGTTTT', 'AAAAGAACATGGGTTGAG', 'AAAAGCTGGGTTGAGAGGGCGAA', 'AAAATGGTTCCCTTTAGAGTGTT', 'AAACCGTCTAGTTACAGTTGT'], 'OriginalMatureName': ['hsa-miR-553', 'HS_124', 'hsa-miR-320', 'hsa-miR-522', 'HS_92.1'], 'Source': ['Sanger miRNAdb (v_8.2, July 2006)', 'Nature Genet 2006 Dec;38:1375-1377', 'Sanger miRNAdb (v_8.2, July 2006)', 'Sanger miRNAdb (v_8.2, July 2006)', 'Genome Res 2006 Oct;16:1289-1298'], 'Array_Address_Id': [1655.0, 2324.0, 913.0, 1375.0, 2247.0], 'Illumicode': ['TAGCTGGCCCACGAAATCTGCG', 'TGAGGTGACGCATCCCTCCATT', 'ACCCGATGGATAGGTCGGTGAA', 'CAGTAATCAGGCGTCTGTTGGC', 'CAGTCAGCAGCCGATCTCGGAT'], 'Oligo': ['ACTTCGTCAGTAACGGACTAGCTGGCCCACGAAATCTGCGAAAACGGTGAGATTTTGTT', 'ACTTCGTCAGTAACGGACTGAGGTGACGCATCCCTCCATTAAAAGAACATGGGTTGAG', 'ACTTCGTCAGTAACGGACACCCGATGGATAGGTCGGTGAAAAAAGCTGGGTTGAGAGG', 'ACTTCGTCAGTAACGGACCAGTAATCAGGCGTCTGTTGGCAAAATGGTTCCCTTTAGAGT', 'ACTTCGTCAGTAACGGACCAGTCAGCAGCCGATCTCGGATAAACCGTCTAGTTACAGTTGT'], 'U3_Seq': ['ACTTCGTCAGTAACGGAC', 'ACTTCGTCAGTAACGGAC', 'ACTTCGTCAGTAACGGAC', 'ACTTCGTCAGTAACGGAC', 'ACTTCGTCAGTAACGGAC'], 'Ploidy': ['diploid', 'diploid', 'diploid', 'diploid', 'diploid'], 'Species': ['human', 'human', 'human', 'human', 'human'], 'Probe_MatchOrder': ['1', '1', '2,2,1,2', '1', '1'], 'Chromosome': ['1', '0', '13,X,1,1,8,18,18', '19', '1'], 'Probe_Coordinates': ['100519399', '0', '40,199,983,139,836,000,000,000,000,000,000,000,000,000,000,000,000,000,000,000', '58946329', '234082945'], 'Probe_Chr_Orientation': ['+', '+', '-,-,+,-,-,+,+', '+', '-']}\n",
      "    \n"
     ]
    }
   ],
   "source": [
    "if requires_gene_mapping:\n",
    "    print(f'''\n",
    "    As a biomedical research team, we extracted the gene annotation data from a series in the GEO database, and saved it to a Python dictionary. Please read the dictionary, and decide which key stores the ID of the probe, and which key stores the gene symbols. Please strict follow this format in your answer:\n",
    "    probe_name_key = 'key_name1'\n",
    "    gene_name_key = 'key_name2'\n",
    "\n",
    "    Gene annotation dictionary:\n",
    "    {gene_annotation_summary}\n",
    "    ''')"
   ]
  },
  {
   "cell_type": "code",
   "execution_count": 90,
   "metadata": {
    "ExecuteTime": {
     "end_time": "2024-01-02T01:03:35.113359369Z",
     "start_time": "2024-01-02T01:03:33.804666371Z"
    },
    "collapsed": false
   },
   "outputs": [],
   "source": [
    "#genetic_data.head()\n",
    "if requires_gene_mapping:\n",
    "    probe_id_key = 'ID'\n",
    "    gene_symb_key = 'SYMBOL'\n",
    "    gene_mapping = get_gene_mapping(gene_annotation, probe_id_key, gene_symb_key)\n",
    "    genetic_data = apply_gene_mapping(genetic_data, gene_mapping)\n",
    "#genetic_data.head()"
   ]
  },
  {
   "cell_type": "code",
   "execution_count": 24,
   "metadata": {
    "ExecuteTime": {
     "end_time": "2024-01-02T01:03:35.156584675Z",
     "start_time": "2024-01-02T01:03:35.114652593Z"
    },
    "collapsed": false
   },
   "outputs": [
    {
     "name": "stderr",
     "output_type": "stream",
     "text": [
      "1000 input query terms found no hit:\t['0.007441216', '0.007608078', '0.007825823', '0.008812398', '0.009324045', '0.009659712', '0.010231\n",
      "1000 input query terms found no hit:\t['10.30633569', '10.30660198', '10.30703618', '10.30795807', '10.30847063', '10.30869579', '10.30879\n",
      "1000 input query terms found no hit:\t['10.77241163', '10.77241165', '10.77321987', '10.77326863', '10.77367424', '10.77393603', '10.77427\n",
      "1000 input query terms found no hit:\t['11.2287697', '11.22905061', '11.23007753', '11.23069698', '11.23097134', '11.23177511', '11.231918\n",
      "1000 input query terms found no hit:\t['11.81195342', '11.81336773', '11.81339694', '11.81616728', '11.81651466', '11.81682234', '11.81720\n",
      "1000 input query terms found no hit:\t['12.38167305', '12.38329627', '12.38397878', '12.3845516', '12.38493636', '12.38536876', '12.385950\n",
      "1000 input query terms found no hit:\t['12.87221493', '12.8724622', '12.87322178', '12.87323104', '12.87407377', '12.87421734', '12.874729\n",
      "1000 input query terms found no hit:\t['13.30514347', '13.30518897', '13.30583623', '13.3058533', '13.30586168', '13.305904', '13.30613306\n",
      "1000 input query terms found no hit:\t['13.71655388', '13.71659397', '13.7166011', '13.71668448', '13.71681222', '13.71690024', '13.716967\n",
      "1000 input query terms found no hit:\t['13.97624616', '13.97641671', '13.97700025', '13.97715526', '13.97719955', '13.97832758', '13.97944\n",
      "1000 input query terms found no hit:\t['14.27812312', '14.27831778', '14.27834767', '14.27863116', '14.27864449', '14.27890877', '14.27925\n",
      "1000 input query terms found no hit:\t['14.50526215', '14.50532152', '14.50532573', '14.50566821', '14.50588416', '14.50592459', '14.50618\n",
      "1000 input query terms found no hit:\t['2.602571715', '2.603724566', '2.604287419', '2.604780483', '2.605727442', '2.606532146', '2.606727\n",
      "1000 input query terms found no hit:\t['3.446453043', '3.446526883', '3.44728432', '3.447337068', '3.447450879', '3.447642493', '3.4479540\n",
      "1000 input query terms found no hit:\t['3.94815006', '3.948639718', '3.949359645', '3.949381406', '3.949885962', '3.950654339', '3.9518322\n",
      "1000 input query terms found no hit:\t['4.33179124', '4.331792215', '4.331828774', '4.332686638', '4.332760732', '4.332819553', '4.3332032\n",
      "1000 input query terms found no hit:\t['4.669267893', '4.669308876', '4.669459381', '4.669587118', '4.669596758', '4.669700517', '4.669751\n",
      "1000 input query terms found no hit:\t['4.937199632', '4.937330001', '4.937565782', '4.937572598', '4.937713917', '4.93923267', '4.9393781\n",
      "1000 input query terms found no hit:\t['5.17039376', '5.170401447', '5.170748698', '5.170860548', '5.171033169', '5.1712085', '5.171262018\n",
      "1000 input query terms found no hit:\t['5.376466189', '5.376546528', '5.376580076', '5.376617384', '5.37677165', '5.376842312', '5.3770757\n",
      "1000 input query terms found no hit:\t['5.569917345', '5.569989245', '5.570034136', '5.570058956', '5.570090219', '5.570416873', '5.570730\n",
      "1000 input query terms found no hit:\t['5.78079558', '5.780840255', '5.781049527', '5.781078382', '5.78123899', '5.781474508', '5.78150935\n",
      "1000 input query terms found no hit:\t['5.998874311', '5.999112813', '5.999132527', '5.999153369', '5.999463026', '5.99955163', '5.9995592\n",
      "1000 input query terms found no hit:\t['6.231835532', '6.231944348', '6.232041923', '6.232058428', '6.232262491', '6.232380855', '6.233079\n",
      "1000 input query terms found no hit:\t['6.43760457', '6.437654252', '6.438599351', '6.438636309', '6.438644887', '6.438770302', '6.4390306\n",
      "1000 input query terms found no hit:\t['6.637329163', '6.637505546', '6.637539906', '6.637795508', '6.638039311', '6.63808435', '6.6386015\n",
      "1000 input query terms found no hit:\t['6.840854314', '6.840964652', '6.840978088', '6.841376183', '6.841508959', '6.84158628', '6.8420388\n",
      "1000 input query terms found no hit:\t['7.07264515', '7.073083991', '7.073399062', '7.073448061', '7.073694774', '7.073782468', '7.0740567\n",
      "1000 input query terms found no hit:\t['7.344795208', '7.344910124', '7.345005397', '7.345011989', '7.34511365', '7.345285016', '7.3457129\n",
      "1000 input query terms found no hit:\t['7.658646161', '7.658781253', '7.658837693', '7.658939477', '7.659926584', '7.660286087', '7.660657\n",
      "1000 input query terms found no hit:\t['7.988815923', '7.989041895', '7.989142526', '7.989174851', '7.989268418', '7.989947314', '7.990247\n",
      "1000 input query terms found no hit:\t['8.359247586', '8.359425117', '8.359897283', '8.359934397', '8.360102668', '8.361581788', '8.361991\n",
      "1000 input query terms found no hit:\t['8.726186013', '8.726387198', '8.726693849', '8.726962934', '8.727011931', '8.727283452', '8.727527\n",
      "1000 input query terms found no hit:\t['9.126064917', '9.126414647', '9.127773334', '9.128010499', '9.129319811', '9.129691549', '9.129905\n",
      "1000 input query terms found no hit:\t['9.518360862', '9.518370051', '9.518462048', '9.519061467', '9.519182702', '9.519505299', '9.519656\n",
      "917 input query terms found no hit:\t['9.928355749', '9.928426584', '9.928745396', '9.92950493', '9.929570985', '9.929905117', '9.9301241\n"
     ]
    }
   ],
   "source": [
    "if NORMALIZE_GENE:\n",
    "    genetic_data = normalize_gene_symbols_in_index(genetic_data)"
   ]
  },
  {
   "cell_type": "code",
   "execution_count": 25,
   "metadata": {
    "ExecuteTime": {
     "end_time": "2024-01-02T01:03:35.158174021Z",
     "start_time": "2024-01-02T01:03:35.156777134Z"
    },
    "collapsed": false
   },
   "outputs": [],
   "source": [
    "merged_data = geo_merge_clinical_genetic_data(selected_clinical_data, genetic_data)\n",
    "# The preprocessing runs through, which means is_available should be True\n",
    "is_available = True"
   ]
  },
  {
   "cell_type": "code",
   "execution_count": 26,
   "metadata": {
    "ExecuteTime": {
     "end_time": "2024-01-02T01:03:35.158378853Z",
     "start_time": "2024-01-02T01:03:35.156895194Z"
    },
    "collapsed": false
   },
   "outputs": [
    {
     "name": "stdout",
     "output_type": "stream",
     "text": [
      "The merged dataset contains 48 samples.\n"
     ]
    }
   ],
   "source": [
    "print(f\"The merged dataset contains {len(merged_data)} samples.\")"
   ]
  },
  {
   "cell_type": "code",
   "execution_count": 27,
   "metadata": {
    "ExecuteTime": {
     "end_time": "2024-01-02T01:03:35.158646754Z",
     "start_time": "2024-01-02T01:03:35.156975304Z"
    },
    "collapsed": false
   },
   "outputs": [
    {
     "name": "stdout",
     "output_type": "stream",
     "text": [
      "For the feature 'Peptic ulcer disease', the least common label is '0.0' with 9 occurrences. This represents 18.75% of the dataset.\n",
      "The distribution of the feature 'Peptic ulcer disease' in this dataset is fine.\n",
      "\n",
      "Quartiles for 'Age':\n",
      "  25%: 38.0\n",
      "  50% (Median): 43.0\n",
      "  75%: 56.25\n",
      "Min: 19.0\n",
      "Max: 80.0\n",
      "The distribution of the feature 'Age' in this dataset is fine.\n",
      "\n",
      "For the feature 'Gender', the least common label is '0.0' with 23 occurrences. This represents 47.92% of the dataset.\n",
      "The distribution of the feature 'Gender' in this dataset is fine.\n",
      "\n"
     ]
    },
    {
     "data": {
      "text/plain": [
       "False"
      ]
     },
     "execution_count": 27,
     "metadata": {},
     "output_type": "execute_result"
    }
   ],
   "source": [
    "is_trait_biased, merged_data = judge_and_remove_biased_features(merged_data, TRAIT, trait_type=trait_type)\n",
    "is_trait_biased"
   ]
  },
  {
   "cell_type": "code",
   "execution_count": 28,
   "metadata": {
    "ExecuteTime": {
     "end_time": "2024-01-02T01:03:35.158803015Z",
     "start_time": "2024-01-02T01:03:35.157063388Z"
    },
    "collapsed": false
   },
   "outputs": [
    {
     "name": "stdout",
     "output_type": "stream",
     "text": [
      "A new JSON file was created at: ../../output1/Yuxuan/Peptic-ulcer-disease/cohort_info.json\n"
     ]
    }
   ],
   "source": [
    "save_cohort_info(cohort, JSON_PATH, is_available, is_trait_biased, merged_data, note='')"
   ]
  },
  {
   "cell_type": "code",
   "execution_count": 29,
   "metadata": {
    "ExecuteTime": {
     "end_time": "2024-01-02T01:03:36.004312476Z",
     "start_time": "2024-01-02T01:03:35.157165158Z"
    },
    "collapsed": false
   },
   "outputs": [],
   "source": [
    "merged_data.head()\n",
    "if not is_trait_biased:\n",
    "    merged_data.to_csv(os.path.join(OUTPUT_DIR, cohort+'.csv'), index=False)"
   ]
  },
  {
   "cell_type": "markdown",
   "metadata": {
    "ExecuteTime": {
     "end_time": "2023-12-31T03:58:22.271683755Z",
     "start_time": "2023-12-31T03:58:22.246557674Z"
    },
    "id": "-MTPhRGxJV7I"
   },
   "source": [
    "### 3. Do regression & Cross Validation"
   ]
  },
  {
   "cell_type": "code",
   "execution_count": 46,
   "metadata": {
    "ExecuteTime": {
     "end_time": "2024-01-02T01:03:36.048788605Z",
     "start_time": "2024-01-02T01:03:36.005925887Z"
    },
    "collapsed": false
   },
   "outputs": [],
   "source": [
    "from utils import *"
   ]
  },
  {
   "cell_type": "code",
   "execution_count": 47,
   "metadata": {
    "ExecuteTime": {
     "end_time": "2024-01-02T01:03:36.049183603Z",
     "start_time": "2024-01-02T01:03:36.048440305Z"
    },
    "collapsed": false
   },
   "outputs": [
    {
     "data": {
      "text/plain": [
       "'GSE32174'"
      ]
     },
     "execution_count": 47,
     "metadata": {},
     "output_type": "execute_result"
    }
   ],
   "source": [
    "best_cohort, ranked_df = filter_and_rank_cohorts(JSON_PATH, 'has_age')\n",
    "best_cohort"
   ]
  },
  {
   "cell_type": "code",
   "execution_count": 67,
   "metadata": {
    "ExecuteTime": {
     "end_time": "2024-01-02T01:03:36.049430313Z",
     "start_time": "2024-01-02T01:03:36.048984361Z"
    },
    "collapsed": false
   },
   "outputs": [
    {
     "data": {
      "text/html": [
       "<div>\n",
       "<style scoped>\n",
       "    .dataframe tbody tr th:only-of-type {\n",
       "        vertical-align: middle;\n",
       "    }\n",
       "\n",
       "    .dataframe tbody tr th {\n",
       "        vertical-align: top;\n",
       "    }\n",
       "\n",
       "    .dataframe thead th {\n",
       "        text-align: right;\n",
       "    }\n",
       "</style>\n",
       "<table border=\"1\" class=\"dataframe\">\n",
       "  <thead>\n",
       "    <tr style=\"text-align: right;\">\n",
       "      <th></th>\n",
       "      <th>cohort_id</th>\n",
       "      <th>is_usable</th>\n",
       "      <th>is_available</th>\n",
       "      <th>is_biased</th>\n",
       "      <th>has_age</th>\n",
       "      <th>has_gender</th>\n",
       "      <th>sample_size</th>\n",
       "      <th>note</th>\n",
       "    </tr>\n",
       "  </thead>\n",
       "  <tbody>\n",
       "    <tr>\n",
       "      <th>0</th>\n",
       "      <td>GSE32174</td>\n",
       "      <td>True</td>\n",
       "      <td>True</td>\n",
       "      <td>False</td>\n",
       "      <td>True</td>\n",
       "      <td>True</td>\n",
       "      <td>48</td>\n",
       "      <td></td>\n",
       "    </tr>\n",
       "  </tbody>\n",
       "</table>\n",
       "</div>"
      ],
      "text/plain": [
       "  cohort_id  is_usable  is_available  is_biased  has_age  has_gender  \\\n",
       "0  GSE32174       True          True      False     True        True   \n",
       "\n",
       "   sample_size note  \n",
       "0           48       "
      ]
     },
     "execution_count": 67,
     "metadata": {},
     "output_type": "execute_result"
    }
   ],
   "source": [
    "ranked_df.head()"
   ]
  },
  {
   "cell_type": "code",
   "execution_count": 78,
   "metadata": {
    "ExecuteTime": {
     "end_time": "2024-01-02T01:03:36.345375576Z",
     "start_time": "2024-01-02T01:03:36.049289340Z"
    },
    "collapsed": false
   },
   "outputs": [],
   "source": [
    "merged_data = pd.read_csv(os.path.join(OUTPUT_DIR, best_cohort+'.csv'))"
   ]
  },
  {
   "cell_type": "code",
   "execution_count": 79,
   "metadata": {
    "ExecuteTime": {
     "end_time": "2024-01-02T01:03:36.400788548Z",
     "start_time": "2024-01-02T01:03:36.355439168Z"
    },
    "collapsed": false
   },
   "outputs": [
    {
     "data": {
      "text/html": [
       "<div>\n",
       "<style scoped>\n",
       "    .dataframe tbody tr th:only-of-type {\n",
       "        vertical-align: middle;\n",
       "    }\n",
       "\n",
       "    .dataframe tbody tr th {\n",
       "        vertical-align: top;\n",
       "    }\n",
       "\n",
       "    .dataframe thead th {\n",
       "        text-align: right;\n",
       "    }\n",
       "</style>\n",
       "<table border=\"1\" class=\"dataframe\">\n",
       "  <thead>\n",
       "    <tr style=\"text-align: right;\">\n",
       "      <th></th>\n",
       "      <th>Peptic ulcer disease</th>\n",
       "      <th>Age</th>\n",
       "      <th>Gender</th>\n",
       "    </tr>\n",
       "  </thead>\n",
       "  <tbody>\n",
       "    <tr>\n",
       "      <th>0</th>\n",
       "      <td>1.0</td>\n",
       "      <td>47.0</td>\n",
       "      <td>1.0</td>\n",
       "    </tr>\n",
       "    <tr>\n",
       "      <th>1</th>\n",
       "      <td>1.0</td>\n",
       "      <td>43.0</td>\n",
       "      <td>0.0</td>\n",
       "    </tr>\n",
       "    <tr>\n",
       "      <th>2</th>\n",
       "      <td>1.0</td>\n",
       "      <td>42.0</td>\n",
       "      <td>1.0</td>\n",
       "    </tr>\n",
       "    <tr>\n",
       "      <th>3</th>\n",
       "      <td>1.0</td>\n",
       "      <td>33.0</td>\n",
       "      <td>0.0</td>\n",
       "    </tr>\n",
       "    <tr>\n",
       "      <th>4</th>\n",
       "      <td>1.0</td>\n",
       "      <td>36.0</td>\n",
       "      <td>0.0</td>\n",
       "    </tr>\n",
       "  </tbody>\n",
       "</table>\n",
       "</div>"
      ],
      "text/plain": [
       "   Peptic ulcer disease   Age  Gender\n",
       "0                   1.0  47.0     1.0\n",
       "1                   1.0  43.0     0.0\n",
       "2                   1.0  42.0     1.0\n",
       "3                   1.0  33.0     0.0\n",
       "4                   1.0  36.0     0.0"
      ]
     },
     "execution_count": 79,
     "metadata": {},
     "output_type": "execute_result"
    }
   ],
   "source": [
    "merged_data.head()"
   ]
  },
  {
   "cell_type": "code",
   "execution_count": 75,
   "metadata": {
    "ExecuteTime": {
     "end_time": "2024-01-02T01:03:36.401002087Z",
     "start_time": "2024-01-02T01:03:36.400659608Z"
    },
    "collapsed": false
   },
   "outputs": [],
   "source": [
    "# If both age and gender features are available, select 'age' as the condition.\n",
    "condition = 'Age'\n",
    "# Remove the other condition to prevent interference.\n",
    "merged_data = merged_data.drop(columns=['Gender'], errors='ignore').astype('float')"
   ]
  },
  {
   "cell_type": "code",
   "execution_count": 72,
   "metadata": {
    "ExecuteTime": {
     "end_time": "2024-01-02T01:03:36.403035823Z",
     "start_time": "2024-01-02T01:03:36.401081946Z"
    },
    "collapsed": false
   },
   "outputs": [
    {
     "name": "stdout",
     "output_type": "stream",
     "text": [
      "(48, 0)\n",
      "[47. 43. 42. 33. 36. 35. 67. 38. 42. 39. 38. 56. 63. 58. 41. 43. 64. 39.\n",
      " 41. 38. 53. 21. 25. 55. 55. 55. 49. 21. 45. 20. 38. 68. 37. 36. 63. 41.\n",
      " 64. 42. 65. 19. 80. 49. 57. 58. 66. 50. 27. 54.]\n"
     ]
    }
   ],
   "source": [
    "X = merged_data.drop(columns=[TRAIT, condition]).values\n",
    "Y = merged_data[TRAIT].values\n",
    "Z = merged_data[condition].values\n",
    "print(X.shape)\n",
    "print(Y)"
   ]
  },
  {
   "cell_type": "markdown",
   "metadata": {
    "collapsed": false
   },
   "source": [
    "Select the appropriate regression model depending on whether the dataset shows batch effect."
   ]
  },
  {
   "cell_type": "code",
   "execution_count": 53,
   "metadata": {
    "ExecuteTime": {
     "end_time": "2024-01-02T01:03:36.403263628Z",
     "start_time": "2024-01-02T01:03:36.401336170Z"
    },
    "collapsed": false
   },
   "outputs": [
    {
     "data": {
      "text/plain": [
       "False"
      ]
     },
     "execution_count": 53,
     "metadata": {},
     "output_type": "execute_result"
    }
   ],
   "source": [
    "has_batch_effect = detect_batch_effect(X)\n",
    "has_batch_effect"
   ]
  },
  {
   "cell_type": "code",
   "execution_count": 80,
   "metadata": {
    "ExecuteTime": {
     "end_time": "2024-01-02T01:03:36.475053437Z",
     "start_time": "2024-01-02T01:03:36.444397231Z"
    },
    "collapsed": false
   },
   "outputs": [],
   "source": [
    "\n",
    "if has_batch_effect:\n",
    "    model_constructor1 = VariableSelection\n",
    "    model_params1 = {'modified': True, 'lamda': 3e-4}\n",
    "    model_constructor2 = VariableSelection\n",
    "    model_params2 = {'modified': False}\n",
    "else:\n",
    "    model_constructor1 = Lasso\n",
    "    model_params1 = {'alpha': 1.0, 'random_state': 42}\n",
    "    model_constructor2 = VariableSelection\n",
    "    model_params2 = {'modified': False}"
   ]
  },
  {
   "cell_type": "code",
   "execution_count": 81,
   "metadata": {
    "ExecuteTime": {
     "end_time": "2024-01-02T01:03:50.733335364Z",
     "start_time": "2024-01-02T01:03:36.444563711Z"
    },
    "collapsed": false
   },
   "outputs": [
    {
     "ename": "ValueError",
     "evalue": "Found array with 0 feature(s) (shape=(39, 0)) while a minimum of 1 is required by Lasso.",
     "output_type": "error",
     "traceback": [
      "\u001b[0;31m---------------------------------------------------------------------------\u001b[0m",
      "\u001b[0;31mValueError\u001b[0m                                Traceback (most recent call last)",
      "\u001b[1;32m/home/yxcheng/AI4Science_gold_standard/stage1/Jianrong/Peptic-ulcer-disease.ipynb 单元格 75\u001b[0m line \u001b[0;36m2\n\u001b[1;32m      <a href='vscode-notebook-cell://ssh-remote%2B218.199.69.68/home/yxcheng/AI4Science_gold_standard/stage1/Jianrong/Peptic-ulcer-disease.ipynb#Y134sdnNjb2RlLXJlbW90ZQ%3D%3D?line=0'>1</a>\u001b[0m trait_type \u001b[39m=\u001b[39m \u001b[39m'\u001b[39m\u001b[39mbinary\u001b[39m\u001b[39m'\u001b[39m  \u001b[39m# Remember to set this properly, either 'binary' or 'continuous'\u001b[39;00m\n\u001b[0;32m----> <a href='vscode-notebook-cell://ssh-remote%2B218.199.69.68/home/yxcheng/AI4Science_gold_standard/stage1/Jianrong/Peptic-ulcer-disease.ipynb#Y134sdnNjb2RlLXJlbW90ZQ%3D%3D?line=1'>2</a>\u001b[0m cv_mean1, cv_std1 \u001b[39m=\u001b[39m cross_validation(X, Y, Z, model_constructor1, model_params1, target_type\u001b[39m=\u001b[39;49mtrait_type)\n",
      "File \u001b[0;32m~/AI4Science_gold_standard/stage1/Jianrong/../utils.py:366\u001b[0m, in \u001b[0;36mcross_validation\u001b[0;34m(X, Y, Z, model_constructor, model_params, k, target_type)\u001b[0m\n\u001b[1;32m    364\u001b[0m \u001b[39m# model = model_constructor(**model_params)\u001b[39;00m\n\u001b[1;32m    365\u001b[0m model \u001b[39m=\u001b[39m ResidualizationRegressor(model_constructor, model_params)\n\u001b[0;32m--> 366\u001b[0m model\u001b[39m.\u001b[39;49mfit(normalized_X_train, Y_train, normalized_Z_train)\n\u001b[1;32m    367\u001b[0m predictions \u001b[39m=\u001b[39m model\u001b[39m.\u001b[39mpredict(normalized_X_test, normalized_Z_test)\n\u001b[1;32m    369\u001b[0m \u001b[39mif\u001b[39;00m target_type \u001b[39m==\u001b[39m \u001b[39m'\u001b[39m\u001b[39mbinary\u001b[39m\u001b[39m'\u001b[39m:\n",
      "File \u001b[0;32m~/AI4Science_gold_standard/stage1/Jianrong/../utils.py:309\u001b[0m, in \u001b[0;36mResidualizationRegressor.fit\u001b[0;34m(self, X, Y, Z)\u001b[0m\n\u001b[1;32m    306\u001b[0m e_Y \u001b[39m=\u001b[39m Y \u001b[39m-\u001b[39m Y_hat  \u001b[39m# Residual of Y\u001b[39;00m\n\u001b[1;32m    308\u001b[0m \u001b[39m# Step 2: Regress the residual on X using the included regression model\u001b[39;00m\n\u001b[0;32m--> 309\u001b[0m \u001b[39mself\u001b[39;49m\u001b[39m.\u001b[39;49mregression_model\u001b[39m.\u001b[39;49mfit(X, e_Y)\n\u001b[1;32m    311\u001b[0m \u001b[39m# Obtain coefficients from the regression model\u001b[39;00m\n\u001b[1;32m    312\u001b[0m \u001b[39mif\u001b[39;00m \u001b[39mhasattr\u001b[39m(\u001b[39mself\u001b[39m\u001b[39m.\u001b[39mregression_model, \u001b[39m'\u001b[39m\u001b[39mcoef_\u001b[39m\u001b[39m'\u001b[39m):\n",
      "File \u001b[0;32m~/anaconda3/envs/ai4sci/lib/python3.10/site-packages/sklearn/base.py:1152\u001b[0m, in \u001b[0;36m_fit_context.<locals>.decorator.<locals>.wrapper\u001b[0;34m(estimator, *args, **kwargs)\u001b[0m\n\u001b[1;32m   1145\u001b[0m     estimator\u001b[39m.\u001b[39m_validate_params()\n\u001b[1;32m   1147\u001b[0m \u001b[39mwith\u001b[39;00m config_context(\n\u001b[1;32m   1148\u001b[0m     skip_parameter_validation\u001b[39m=\u001b[39m(\n\u001b[1;32m   1149\u001b[0m         prefer_skip_nested_validation \u001b[39mor\u001b[39;00m global_skip_validation\n\u001b[1;32m   1150\u001b[0m     )\n\u001b[1;32m   1151\u001b[0m ):\n\u001b[0;32m-> 1152\u001b[0m     \u001b[39mreturn\u001b[39;00m fit_method(estimator, \u001b[39m*\u001b[39;49margs, \u001b[39m*\u001b[39;49m\u001b[39m*\u001b[39;49mkwargs)\n",
      "File \u001b[0;32m~/anaconda3/envs/ai4sci/lib/python3.10/site-packages/sklearn/linear_model/_coordinate_descent.py:905\u001b[0m, in \u001b[0;36mElasticNet.fit\u001b[0;34m(self, X, y, sample_weight, check_input)\u001b[0m\n\u001b[1;32m    903\u001b[0m \u001b[39mif\u001b[39;00m check_input:\n\u001b[1;32m    904\u001b[0m     X_copied \u001b[39m=\u001b[39m \u001b[39mself\u001b[39m\u001b[39m.\u001b[39mcopy_X \u001b[39mand\u001b[39;00m \u001b[39mself\u001b[39m\u001b[39m.\u001b[39mfit_intercept\n\u001b[0;32m--> 905\u001b[0m     X, y \u001b[39m=\u001b[39m \u001b[39mself\u001b[39;49m\u001b[39m.\u001b[39;49m_validate_data(\n\u001b[1;32m    906\u001b[0m         X,\n\u001b[1;32m    907\u001b[0m         y,\n\u001b[1;32m    908\u001b[0m         accept_sparse\u001b[39m=\u001b[39;49m\u001b[39m\"\u001b[39;49m\u001b[39mcsc\u001b[39;49m\u001b[39m\"\u001b[39;49m,\n\u001b[1;32m    909\u001b[0m         order\u001b[39m=\u001b[39;49m\u001b[39m\"\u001b[39;49m\u001b[39mF\u001b[39;49m\u001b[39m\"\u001b[39;49m,\n\u001b[1;32m    910\u001b[0m         dtype\u001b[39m=\u001b[39;49m[np\u001b[39m.\u001b[39;49mfloat64, np\u001b[39m.\u001b[39;49mfloat32],\n\u001b[1;32m    911\u001b[0m         copy\u001b[39m=\u001b[39;49mX_copied,\n\u001b[1;32m    912\u001b[0m         multi_output\u001b[39m=\u001b[39;49m\u001b[39mTrue\u001b[39;49;00m,\n\u001b[1;32m    913\u001b[0m         y_numeric\u001b[39m=\u001b[39;49m\u001b[39mTrue\u001b[39;49;00m,\n\u001b[1;32m    914\u001b[0m     )\n\u001b[1;32m    915\u001b[0m     y \u001b[39m=\u001b[39m check_array(\n\u001b[1;32m    916\u001b[0m         y, order\u001b[39m=\u001b[39m\u001b[39m\"\u001b[39m\u001b[39mF\u001b[39m\u001b[39m\"\u001b[39m, copy\u001b[39m=\u001b[39m\u001b[39mFalse\u001b[39;00m, dtype\u001b[39m=\u001b[39mX\u001b[39m.\u001b[39mdtype\u001b[39m.\u001b[39mtype, ensure_2d\u001b[39m=\u001b[39m\u001b[39mFalse\u001b[39;00m\n\u001b[1;32m    917\u001b[0m     )\n\u001b[1;32m    919\u001b[0m n_samples, n_features \u001b[39m=\u001b[39m X\u001b[39m.\u001b[39mshape\n",
      "File \u001b[0;32m~/anaconda3/envs/ai4sci/lib/python3.10/site-packages/sklearn/base.py:622\u001b[0m, in \u001b[0;36mBaseEstimator._validate_data\u001b[0;34m(self, X, y, reset, validate_separately, cast_to_ndarray, **check_params)\u001b[0m\n\u001b[1;32m    620\u001b[0m         y \u001b[39m=\u001b[39m check_array(y, input_name\u001b[39m=\u001b[39m\u001b[39m\"\u001b[39m\u001b[39my\u001b[39m\u001b[39m\"\u001b[39m, \u001b[39m*\u001b[39m\u001b[39m*\u001b[39mcheck_y_params)\n\u001b[1;32m    621\u001b[0m     \u001b[39melse\u001b[39;00m:\n\u001b[0;32m--> 622\u001b[0m         X, y \u001b[39m=\u001b[39m check_X_y(X, y, \u001b[39m*\u001b[39;49m\u001b[39m*\u001b[39;49mcheck_params)\n\u001b[1;32m    623\u001b[0m     out \u001b[39m=\u001b[39m X, y\n\u001b[1;32m    625\u001b[0m \u001b[39mif\u001b[39;00m \u001b[39mnot\u001b[39;00m no_val_X \u001b[39mand\u001b[39;00m check_params\u001b[39m.\u001b[39mget(\u001b[39m\"\u001b[39m\u001b[39mensure_2d\u001b[39m\u001b[39m\"\u001b[39m, \u001b[39mTrue\u001b[39;00m):\n",
      "File \u001b[0;32m~/anaconda3/envs/ai4sci/lib/python3.10/site-packages/sklearn/utils/validation.py:1146\u001b[0m, in \u001b[0;36mcheck_X_y\u001b[0;34m(X, y, accept_sparse, accept_large_sparse, dtype, order, copy, force_all_finite, ensure_2d, allow_nd, multi_output, ensure_min_samples, ensure_min_features, y_numeric, estimator)\u001b[0m\n\u001b[1;32m   1141\u001b[0m         estimator_name \u001b[39m=\u001b[39m _check_estimator_name(estimator)\n\u001b[1;32m   1142\u001b[0m     \u001b[39mraise\u001b[39;00m \u001b[39mValueError\u001b[39;00m(\n\u001b[1;32m   1143\u001b[0m         \u001b[39mf\u001b[39m\u001b[39m\"\u001b[39m\u001b[39m{\u001b[39;00mestimator_name\u001b[39m}\u001b[39;00m\u001b[39m requires y to be passed, but the target y is None\u001b[39m\u001b[39m\"\u001b[39m\n\u001b[1;32m   1144\u001b[0m     )\n\u001b[0;32m-> 1146\u001b[0m X \u001b[39m=\u001b[39m check_array(\n\u001b[1;32m   1147\u001b[0m     X,\n\u001b[1;32m   1148\u001b[0m     accept_sparse\u001b[39m=\u001b[39;49maccept_sparse,\n\u001b[1;32m   1149\u001b[0m     accept_large_sparse\u001b[39m=\u001b[39;49maccept_large_sparse,\n\u001b[1;32m   1150\u001b[0m     dtype\u001b[39m=\u001b[39;49mdtype,\n\u001b[1;32m   1151\u001b[0m     order\u001b[39m=\u001b[39;49morder,\n\u001b[1;32m   1152\u001b[0m     copy\u001b[39m=\u001b[39;49mcopy,\n\u001b[1;32m   1153\u001b[0m     force_all_finite\u001b[39m=\u001b[39;49mforce_all_finite,\n\u001b[1;32m   1154\u001b[0m     ensure_2d\u001b[39m=\u001b[39;49mensure_2d,\n\u001b[1;32m   1155\u001b[0m     allow_nd\u001b[39m=\u001b[39;49mallow_nd,\n\u001b[1;32m   1156\u001b[0m     ensure_min_samples\u001b[39m=\u001b[39;49mensure_min_samples,\n\u001b[1;32m   1157\u001b[0m     ensure_min_features\u001b[39m=\u001b[39;49mensure_min_features,\n\u001b[1;32m   1158\u001b[0m     estimator\u001b[39m=\u001b[39;49mestimator,\n\u001b[1;32m   1159\u001b[0m     input_name\u001b[39m=\u001b[39;49m\u001b[39m\"\u001b[39;49m\u001b[39mX\u001b[39;49m\u001b[39m\"\u001b[39;49m,\n\u001b[1;32m   1160\u001b[0m )\n\u001b[1;32m   1162\u001b[0m y \u001b[39m=\u001b[39m _check_y(y, multi_output\u001b[39m=\u001b[39mmulti_output, y_numeric\u001b[39m=\u001b[39my_numeric, estimator\u001b[39m=\u001b[39mestimator)\n\u001b[1;32m   1164\u001b[0m check_consistent_length(X, y)\n",
      "File \u001b[0;32m~/anaconda3/envs/ai4sci/lib/python3.10/site-packages/sklearn/utils/validation.py:976\u001b[0m, in \u001b[0;36mcheck_array\u001b[0;34m(array, accept_sparse, accept_large_sparse, dtype, order, copy, force_all_finite, ensure_2d, allow_nd, ensure_min_samples, ensure_min_features, estimator, input_name)\u001b[0m\n\u001b[1;32m    974\u001b[0m     n_features \u001b[39m=\u001b[39m array\u001b[39m.\u001b[39mshape[\u001b[39m1\u001b[39m]\n\u001b[1;32m    975\u001b[0m     \u001b[39mif\u001b[39;00m n_features \u001b[39m<\u001b[39m ensure_min_features:\n\u001b[0;32m--> 976\u001b[0m         \u001b[39mraise\u001b[39;00m \u001b[39mValueError\u001b[39;00m(\n\u001b[1;32m    977\u001b[0m             \u001b[39m\"\u001b[39m\u001b[39mFound array with \u001b[39m\u001b[39m%d\u001b[39;00m\u001b[39m feature(s) (shape=\u001b[39m\u001b[39m%s\u001b[39;00m\u001b[39m) while\u001b[39m\u001b[39m\"\u001b[39m\n\u001b[1;32m    978\u001b[0m             \u001b[39m\"\u001b[39m\u001b[39m a minimum of \u001b[39m\u001b[39m%d\u001b[39;00m\u001b[39m is required\u001b[39m\u001b[39m%s\u001b[39;00m\u001b[39m.\u001b[39m\u001b[39m\"\u001b[39m\n\u001b[1;32m    979\u001b[0m             \u001b[39m%\u001b[39m (n_features, array\u001b[39m.\u001b[39mshape, ensure_min_features, context)\n\u001b[1;32m    980\u001b[0m         )\n\u001b[1;32m    982\u001b[0m \u001b[39mif\u001b[39;00m copy:\n\u001b[1;32m    983\u001b[0m     \u001b[39mif\u001b[39;00m _is_numpy_namespace(xp):\n\u001b[1;32m    984\u001b[0m         \u001b[39m# only make a copy if `array` and `array_orig` may share memory`\u001b[39;00m\n",
      "\u001b[0;31mValueError\u001b[0m: Found array with 0 feature(s) (shape=(39, 0)) while a minimum of 1 is required by Lasso."
     ]
    }
   ],
   "source": [
    "trait_type = 'binary'  # Remember to set this properly, either 'binary' or 'continuous'\n",
    "cv_mean1, cv_std1 = cross_validation(X, Y, Z, model_constructor1, model_params1, target_type=trait_type)"
   ]
  },
  {
   "cell_type": "code",
   "execution_count": 52,
   "metadata": {},
   "outputs": [
    {
     "name": "stderr",
     "output_type": "stream",
     "text": [
      "/home/yxcheng/anaconda3/envs/ai4sci/lib/python3.10/site-packages/sparse_lmm/helpingMethods.py:49: RuntimeWarning: invalid value encountered in divide\n",
      "  ts = beta / np.sqrt(var * sigma)\n",
      "/home/yxcheng/anaconda3/envs/ai4sci/lib/python3.10/site-packages/sparse_lmm/helpingMethods.py:49: RuntimeWarning: invalid value encountered in divide\n",
      "  ts = beta / np.sqrt(var * sigma)\n",
      "/home/yxcheng/anaconda3/envs/ai4sci/lib/python3.10/site-packages/sparse_lmm/helpingMethods.py:49: RuntimeWarning: invalid value encountered in divide\n",
      "  ts = beta / np.sqrt(var * sigma)\n",
      "/home/yxcheng/anaconda3/envs/ai4sci/lib/python3.10/site-packages/sparse_lmm/helpingMethods.py:49: RuntimeWarning: invalid value encountered in divide\n",
      "  ts = beta / np.sqrt(var * sigma)\n"
     ]
    },
    {
     "name": "stdout",
     "output_type": "stream",
     "text": [
      "The cross-validation accuracy is 90.09% ± 2.36%\n"
     ]
    }
   ],
   "source": [
    "cv_mean2, cv_std2 = cross_validation(X, Y, Z, model_constructor2, model_params2, target_type=trait_type)"
   ]
  },
  {
   "cell_type": "code",
   "execution_count": 53,
   "metadata": {
    "ExecuteTime": {
     "end_time": "2024-01-02T01:03:53.587340410Z",
     "start_time": "2024-01-02T01:03:50.732779025Z"
    },
    "collapsed": false
   },
   "outputs": [
    {
     "name": "stdout",
     "output_type": "stream",
     "text": [
      "alpha for Lasso: 0.0003\n"
     ]
    },
    {
     "name": "stderr",
     "output_type": "stream",
     "text": [
      "/home/yxcheng/anaconda3/envs/ai4sci/lib/python3.10/site-packages/sparse_lmm/helpingMethods.py:49: RuntimeWarning: invalid value encountered in divide\n",
      "  ts = beta / np.sqrt(var * sigma)\n"
     ]
    }
   ],
   "source": [
    "normalized_X, _ = normalize_data(X)\n",
    "normalized_Z, _ = normalize_data(Z)\n",
    "\n",
    "# Train regression model on the whole dataset to identify significant genes\n",
    "model1 = ResidualizationRegressor(model_constructor1, model_params1)\n",
    "model1.fit(normalized_X, Y, normalized_Z)\n",
    "\n",
    "model2 = ResidualizationRegressor(model_constructor2, model_params2)\n",
    "model2.fit(normalized_X, Y, normalized_Z)"
   ]
  },
  {
   "cell_type": "markdown",
   "metadata": {
    "ExecuteTime": {
     "end_time": "2023-10-14T04:50:59.072075075Z",
     "start_time": "2023-10-14T04:50:38.739499998Z"
    },
    "id": "EjJrxbvb4nlj"
   },
   "source": [
    "### 5. Discussion and report"
   ]
  },
  {
   "cell_type": "code",
   "execution_count": 55,
   "metadata": {
    "ExecuteTime": {
     "end_time": "2024-01-02T01:03:53.641570844Z",
     "start_time": "2024-01-02T01:03:53.627778553Z"
    },
    "collapsed": false
   },
   "outputs": [
    {
     "name": "stdout",
     "output_type": "stream",
     "text": [
      "Effect of the condition on the target variable:\n",
      "Variable: Age\n",
      "Coefficient: -0.0077\n",
      "Found 10 genes with non-zero coefficients associated with the trait 'Lung-Cancer' conditional on the factor 'Age'. These genes are identified as significant based on the regression model.\n",
      "   Variable  Coefficient  Absolute Coefficient\n",
      "    SNORA81     0.605617              0.605617\n",
      "    SNORD89    -0.561992              0.561992\n",
      "     OR4F17     0.468452              0.468452\n",
      "SNORD115-26    -0.289358              0.289358\n",
      "     OR2L1P    -0.278115              0.278115\n",
      "    TBC1D3C     0.248994              0.248994\n",
      "     DMRTA2    -0.194621              0.194621\n",
      "     IFIT1B    -0.188779              0.188779\n",
      "    PPIAL4E     0.150659              0.150659\n",
      "     TTTY16    -0.082366              0.082366\n"
     ]
    },
    {
     "name": "stderr",
     "output_type": "stream",
     "text": [
      "/home/yxcheng/AI4Science_gold_standard/stage1/Yuxuan/../utils.py:469: SettingWithCopyWarning: \n",
      "A value is trying to be set on a copy of a slice from a DataFrame.\n",
      "Try using .loc[row_indexer,col_indexer] = value instead\n",
      "\n",
      "See the caveats in the documentation: https://pandas.pydata.org/pandas-docs/stable/user_guide/indexing.html#returning-a-view-versus-a-copy\n",
      "  gene_regression_df['Absolute Coefficient'] = gene_regression_df['Coefficient'].abs()\n"
     ]
    }
   ],
   "source": [
    "\n",
    "feature_cols = merged_data.columns.tolist()\n",
    "feature_cols.remove(TRAIT)\n",
    "\n",
    "threshold = 0.05\n",
    "interpret_result(model1, feature_cols, TRAIT, condition, threshold=threshold, save_output=True,\n",
    "                 output_dir=OUTPUT_DIR, model_id=1)"
   ]
  },
  {
   "cell_type": "code",
   "execution_count": 56,
   "metadata": {
    "collapsed": false
   },
   "outputs": [
    {
     "name": "stdout",
     "output_type": "stream",
     "text": [
      "Effect of the condition on the target variable:\n",
      "Variable: Age\n",
      "Coefficient: -0.0077\n",
      "Found 14 significant genes associated with the trait 'Lung-Cancer' conditional on the factor 'Age', with corrected p-value < 0.05:\n",
      "Variable  Coefficient      p_value  corrected_p_value\n",
      "   MEX3A     0.061062 2.147189e-07           0.003723\n",
      " SLC19A1    -0.038907 6.271788e-07           0.005437\n",
      "  CRABP2     0.036440 1.633672e-06           0.009442\n",
      "   HMGB3     0.042606 8.393633e-06           0.020791\n",
      " DEFB118     0.028296 7.138943e-06           0.020791\n",
      "     IL3    -0.016966 5.077872e-06           0.020791\n",
      "  FAM83A     0.043838 8.074414e-06           0.020791\n",
      "    RCC1     0.041270 1.786386e-05           0.028158\n",
      "    NUF2     0.068410 1.754965e-05           0.028158\n",
      "    SPP1     0.032014 1.782137e-05           0.028158\n",
      "    ETV4     0.037361 1.688133e-05           0.028158\n",
      "   EPB42    -0.020447 2.157070e-05           0.031168\n",
      "   CENPM    -0.051850 3.061145e-05           0.040829\n",
      " PLEKHN1     0.044331 3.372218e-05           0.041765\n"
     ]
    },
    {
     "name": "stderr",
     "output_type": "stream",
     "text": [
      "/home/yxcheng/AI4Science_gold_standard/stage1/Yuxuan/../utils.py:478: SettingWithCopyWarning: \n",
      "A value is trying to be set on a copy of a slice from a DataFrame.\n",
      "Try using .loc[row_indexer,col_indexer] = value instead\n",
      "\n",
      "See the caveats in the documentation: https://pandas.pydata.org/pandas-docs/stable/user_guide/indexing.html#returning-a-view-versus-a-copy\n",
      "  gene_regression_df.loc[:, 'corrected_p_value'] = corrected_p_values\n"
     ]
    }
   ],
   "source": [
    "\n",
    "interpret_result(model2, feature_cols, TRAIT, condition, threshold=threshold, save_output=True,\n",
    "                 output_dir=OUTPUT_DIR, model_id=2)"
   ]
  }
 ],
 "metadata": {
  "colab": {
   "provenance": []
  },
  "kernelspec": {
   "display_name": "Python 3 (ipykernel)",
   "language": "python",
   "name": "python3"
  },
  "language_info": {
   "codemirror_mode": {
    "name": "ipython",
    "version": 3
   },
   "file_extension": ".py",
   "mimetype": "text/x-python",
   "name": "python",
   "nbconvert_exporter": "python",
   "pygments_lexer": "ipython3",
   "version": "3.10.13"
  }
 },
 "nbformat": 4,
 "nbformat_minor": 0
}
