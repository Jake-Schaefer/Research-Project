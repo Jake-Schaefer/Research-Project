{
 "cells": [
  {
   "cell_type": "markdown",
   "metadata": {
    "collapsed": false
   },
   "source": [
    "# Gold standard curation: Preprocessing and single-step regression"
   ]
  },
  {
   "cell_type": "markdown",
   "metadata": {
    "collapsed": false
   },
   "source": [
    "In this stage of gold standard curation, we will do the data preprocessing, selection, and single-step regression for the 153 traits in our question set. The workflow consists of the following steps:\n",
    "\n",
    "1. Preprocess all the cohorts related to this trait. Each cohort should be converted to a tabular form and saved to a csv file, with columns being genetic factors, the trait, and age, gender if available;\n",
    "2. If there exists at least one cohort with age or gender information, conduct regression analysis with genetic features together with age or gender as the regressors.\n"
   ]
  },
  {
   "cell_type": "markdown",
   "metadata": {
    "collapsed": false
   },
   "source": [
    "# 1. Basic setup"
   ]
  },
  {
   "cell_type": "code",
   "execution_count": 1,
   "metadata": {
    "ExecuteTime": {
     "end_time": "2024-01-02T01:02:53.240839272Z",
     "start_time": "2024-01-02T01:02:53.240575109Z"
    },
    "collapsed": false
   },
   "outputs": [],
   "source": [
    "import os\n",
    "import sys\n",
    "\n",
    "sys.path.append('..')\n",
    "# Set your preferred name\n",
    "USER = \"Yuxuan\"\n",
    "# Set the data and output directories\n",
    "DATA_ROOT = '/home/yxcheng'\n",
    "OUTPUT_ROOT = '../../output1'\n",
    "TRAIT = 'Hemochromatosis'\n",
    "\n",
    "OUTPUT_DIR = os.path.join(OUTPUT_ROOT, USER, '-'.join(TRAIT.split()))\n",
    "JSON_PATH = os.path.join(OUTPUT_DIR, \"cohort_info.json\")\n",
    "if not os.path.exists(OUTPUT_DIR):\n",
    "    os.makedirs(OUTPUT_DIR, exist_ok=True)\n",
    "\n",
    "# Gene symbol normalization may take 1-2 minutes. You may set it to False for debugging.\n",
    "NORMALIZE_GENE = True"
   ]
  },
  {
   "cell_type": "code",
   "execution_count": 2,
   "metadata": {
    "ExecuteTime": {
     "end_time": "2024-01-02T01:02:53.501910797Z",
     "start_time": "2024-01-02T01:02:53.496254990Z"
    },
    "colab": {
     "base_uri": "https://localhost:8080/"
    },
    "id": "jMTdsU43vVg3",
    "outputId": "38886111-f442-44b4-8398-96bf384d7abd"
   },
   "outputs": [
    {
     "data": {
      "text/plain": [
       "\"import os\\nfrom google.colab import drive\\n\\ndrive.mount('/content/drive', force_remount=True)\\nproj_dir = '/content/drive/MyDrive/AI4Science_Public'\\nos.chdir(proj_dir)\""
      ]
     },
     "execution_count": 2,
     "metadata": {},
     "output_type": "execute_result"
    }
   ],
   "source": [
    "# This cell is only for use on Google Colab. Skip it if you run your code in other environments\n",
    "\n",
    "\"\"\"import os\n",
    "from google.colab import drive\n",
    "\n",
    "drive.mount('/content/drive', force_remount=True)\n",
    "proj_dir = '/content/drive/MyDrive/AI4Science_Public'\n",
    "os.chdir(proj_dir)\"\"\""
   ]
  },
  {
   "cell_type": "markdown",
   "metadata": {
    "collapsed": false
   },
   "source": [
    "# 2. Data preprocessing and selection"
   ]
  },
  {
   "cell_type": "markdown",
   "metadata": {
    "collapsed": false
   },
   "source": [
    "## 2.1. The TCGA Xena dataset"
   ]
  },
  {
   "cell_type": "markdown",
   "metadata": {
    "collapsed": false
   },
   "source": [
    "In TCGA Xena, there is either zero or one cohort related to the trait. We search the names of subdirectories to see if any matches the trait. If a match is found, we directly obtain the file paths."
   ]
  },
  {
   "cell_type": "code",
   "execution_count": 3,
   "metadata": {
    "ExecuteTime": {
     "end_time": "2024-01-02T01:02:56.462746833Z",
     "start_time": "2024-01-02T01:02:55.818581842Z"
    },
    "collapsed": false
   },
   "outputs": [
    {
     "data": {
      "text/plain": [
       "['TCGA_Adrenocortical_Cancer_(ACC)',\n",
       " 'TCGA_Bile_Duct_Cancer_(CHOL)',\n",
       " 'TCGA_Lower_Grade_Glioma_(LGG)',\n",
       " 'TCGA_Acute_Myeloid_Leukemia_(LAML)',\n",
       " 'TCGA_Esophageal_Cancer_(ESCA)',\n",
       " 'TCGA_Thyroid_Cancer_(THCA)',\n",
       " 'TCGA_Ocular_melanomas_(UVM)',\n",
       " 'TCGA_Ovarian_Cancer_(OV)',\n",
       " 'TCGA_Prostate_Cancer_(PRAD)',\n",
       " 'CrawlData.ipynb',\n",
       " 'TCGA_Kidney_Papillary_Cell_Carcinoma_(KIRP)',\n",
       " 'TCGA_Lung_Cancer_(LUNG)',\n",
       " 'TCGA_Endometrioid_Cancer_(UCEC)',\n",
       " 'TCGA_Testicular_Cancer_(TGCT)',\n",
       " 'TCGA_lower_grade_glioma_and_glioblastoma_(GBMLGG)',\n",
       " 'TCGA_Pancreatic_Cancer_(PAAD)',\n",
       " 'TCGA_Glioblastoma_(GBM)',\n",
       " 'TCGA_Melanoma_(SKCM)',\n",
       " 'TCGA_Kidney_Clear_Cell_Carcinoma_(KIRC)',\n",
       " 'TCGA_Mesothelioma_(MESO)',\n",
       " 'TCGA_Rectal_Cancer_(READ)',\n",
       " 'TCGA_Head_and_Neck_Cancer_(HNSC)',\n",
       " 'TCGA_Large_Bcell_Lymphoma_(DLBC)',\n",
       " 'TCGA_Uterine_Carcinosarcoma_(UCS)',\n",
       " 'TCGA_Colon_Cancer_(COAD)',\n",
       " 'TCGA_Breast_Cancer_(BRCA)',\n",
       " 'TCGA_Bladder_Cancer_(BLCA)',\n",
       " 'TCGA_Sarcoma_(SARC)',\n",
       " 'TCGA_Lung_Squamous_Cell_Carcinoma_(LUSC)',\n",
       " 'TCGA_Cervical_Cancer_(CESC)',\n",
       " 'TCGA_Kidney_Chromophobe_(KICH)',\n",
       " 'TCGA_Stomach_Cancer_(STAD)',\n",
       " 'TCGA_Lung_Adenocarcinoma_(LUAD)',\n",
       " '.DS_Store',\n",
       " 'TCGA_Thymoma_(THYM)',\n",
       " 'TCGA_Colon_and_Rectal_Cancer_(COADREAD)',\n",
       " 'TCGA_Pheochromocytoma_Paraganglioma_(PCPG)',\n",
       " 'TCGA_Liver_Cancer_(LIHC)']"
      ]
     },
     "execution_count": 3,
     "metadata": {},
     "output_type": "execute_result"
    }
   ],
   "source": [
    "import os\n",
    "from utils import *\n",
    "\n",
    "dataset = 'TCGA'\n",
    "dataset_dir = os.path.join(DATA_ROOT, dataset)\n",
    "os.listdir(dataset_dir)[:]"
   ]
  },
  {
   "cell_type": "markdown",
   "metadata": {
    "collapsed": false
   },
   "source": [
    "If no match is found, jump directly to GEO in Part 2.2"
   ]
  },
  {
   "cell_type": "code",
   "execution_count": 24,
   "metadata": {
    "collapsed": false
   },
   "outputs": [],
   "source": [
    "trait_subdir = \"TCGA_Lung_Cancer_(LUNG)\"\n",
    "cohort = 'Xena'\n",
    "# All the cancer traits in Xena are binary\n",
    "trait_type = 'binary'\n",
    "# Once a relevant cohort is found in Xena, we can generally assume the gene and clinical data are available\n",
    "is_available = True\n",
    "\n",
    "clinical_data_file = os.path.join(dataset_dir, trait_subdir, 'TCGA.LUNG.sampleMap_LUNG_clinicalMatrix')\n",
    "genetic_data_file = os.path.join(dataset_dir, trait_subdir, 'TCGA.LUNG.sampleMap_HiSeqV2_PANCAN.gz')"
   ]
  },
  {
   "cell_type": "code",
   "execution_count": 25,
   "metadata": {
    "id": "MudwB-_iz7sc"
   },
   "outputs": [],
   "source": [
    "import pandas as pd\n",
    "\n",
    "clinical_data = pd.read_csv(clinical_data_file, sep='\\t', index_col=0)\n",
    "genetic_data = pd.read_csv(genetic_data_file, compression='gzip', sep='\\t', index_col=0)\n",
    "age_col = gender_col = None"
   ]
  },
  {
   "cell_type": "code",
   "execution_count": 26,
   "metadata": {
    "collapsed": false
   },
   "outputs": [],
   "source": [
    "_, clinical_data_cols = check_rows_and_columns(clinical_data)"
   ]
  },
  {
   "cell_type": "code",
   "execution_count": 27,
   "metadata": {
    "collapsed": false
   },
   "outputs": [
    {
     "data": {
      "text/plain": [
       "['ABSOLUTE_Ploidy',\n",
       " 'ABSOLUTE_Purity',\n",
       " 'AKT1',\n",
       " 'ALK_translocation',\n",
       " 'BRAF',\n",
       " 'CBL',\n",
       " 'CTNNB1',\n",
       " 'Canonical_mut_in_KRAS_EGFR_ALK',\n",
       " 'Cnncl_mt_n_KRAS_EGFR_ALK_RET_ROS1_BRAF_ERBB2_HRAS_NRAS_AKT1_MAP2',\n",
       " 'EGFR']"
      ]
     },
     "execution_count": 27,
     "metadata": {},
     "output_type": "execute_result"
    }
   ],
   "source": [
    "clinical_data_cols[:10]"
   ]
  },
  {
   "cell_type": "markdown",
   "metadata": {
    "ExecuteTime": {
     "end_time": "2023-12-28T20:20:11.841042813Z",
     "start_time": "2023-12-28T20:20:11.834458206Z"
    },
    "collapsed": false
   },
   "source": [
    "Read all the column names in the clinical dataset, to find the columns that record information about age or gender.\n",
    "Reference prompt:"
   ]
  },
  {
   "cell_type": "code",
   "execution_count": 28,
   "metadata": {
    "collapsed": false
   },
   "outputs": [
    {
     "data": {
      "text/plain": [
       "\"\\nBelow is a list of column names from a biomedical dataset. Please examine it and identify the columns that are likely to contain information about patients' age. Additionally, please do the same for columns that may hold data on patients' gender. Please provide your answer by strictly following this format, without redundant words:\\ncandidate_age_cols = [col_name1, col_name2, ...]\\ncandidate_gender_cols = [col_name1, col_name2, ...]\\nIf no columns match a criterion, please provide an empty list.\\n\\nColumn names:\\n['ABSOLUTE_Ploidy', 'ABSOLUTE_Purity', 'AKT1', 'ALK_translocation', 'BRAF', 'CBL', 'CTNNB1', 'Canonical_mut_in_KRAS_EGFR_ALK', 'Cnncl_mt_n_KRAS_EGFR_ALK_RET_ROS1_BRAF_ERBB2_HRAS_NRAS_AKT1_MAP2', 'EGFR', 'ERBB2', 'ERBB4', 'Estimated_allele_fraction_of_a_clonal_varnt_prsnt_t_1_cpy_pr_cll', 'Expression_Subtype', 'HRAS', 'KRAS', 'MAP2K1', 'MET', 'NRAS', 'PIK3CA', 'PTPN11', 'Pathology', 'Pathology_Updated', 'RET_translocation', 'ROS1_translocation', 'STK11', 'WGS_as_of_20120731_0_no_1_yes', '_INTEGRATION', '_PANCAN_CNA_PANCAN_K8', '_PANCAN_Cluster_Cluster_PANCAN', '_PANCAN_DNAMethyl_PANCAN', '_PANCAN_RPPA_PANCAN_K8', '_PANCAN_UNC_RNAseq_PANCAN_K16', '_PANCAN_miRNA_PANCAN', '_PANCAN_mutation_PANCAN', '_PATIENT', '_cohort', '_primary_disease', '_primary_site', 'additional_pharmaceutical_therapy', 'additional_radiation_therapy', 'additional_surgery_locoregional_procedure', 'additional_surgery_metastatic_procedure', 'age_at_initial_pathologic_diagnosis', 'anatomic_neoplasm_subdivision', 'anatomic_neoplasm_subdivision_other', 'bcr_followup_barcode', 'bcr_patient_barcode', 'bcr_sample_barcode', 'days_to_additional_surgery_locoregional_procedure', 'days_to_additional_surgery_metastatic_procedure', 'days_to_birth', 'days_to_collection', 'days_to_death', 'days_to_initial_pathologic_diagnosis', 'days_to_last_followup', 'days_to_new_tumor_event_after_initial_treatment', 'disease_code', 'dlco_predictive_percent', 'eastern_cancer_oncology_group', 'egfr_mutation_performed', 'egfr_mutation_result', 'eml4_alk_translocation_method', 'eml4_alk_translocation_performed', 'followup_case_report_form_submission_reason', 'followup_treatment_success', 'form_completion_date', 'gender', 'histological_type', 'history_of_neoadjuvant_treatment', 'icd_10', 'icd_o_3_histology', 'icd_o_3_site', 'informed_consent_verified', 'initial_weight', 'intermediate_dimension', 'is_ffpe', 'karnofsky_performance_score', 'kras_gene_analysis_performed', 'kras_mutation_found', 'kras_mutation_result', 'location_in_lung_parenchyma', 'longest_dimension', 'lost_follow_up', 'new_neoplasm_event_type', 'new_tumor_event_after_initial_treatment', 'number_pack_years_smoked', 'oct_embedded', 'other_dx', 'pathologic_M', 'pathologic_N', 'pathologic_T', 'pathologic_stage', 'pathology_report_file_name', 'patient_id', 'performance_status_scale_timing', 'person_neoplasm_cancer_status', 'post_bronchodilator_fev1_fvc_percent', 'post_bronchodilator_fev1_percent', 'pre_bronchodilator_fev1_fvc_percent', 'pre_bronchodilator_fev1_percent', 'primary_therapy_outcome_success', 'progression_determined_by', 'project_code', 'pulmonary_function_test_performed', 'radiation_therapy', 'residual_tumor', 'sample_type', 'sample_type_id', 'shortest_dimension', 'stopped_smoking_year', 'system_version', 'targeted_molecular_therapy', 'tissue_prospective_collection_indicator', 'tissue_retrospective_collection_indicator', 'tissue_source_site', 'tobacco_smoking_history', 'tobacco_smoking_history_indicator', 'tumor_tissue_site', 'vial_number', 'vital_status', 'year_of_initial_pathologic_diagnosis', 'year_of_tobacco_smoking_onset', '_GENOMIC_ID_TCGA_LUNG_exp_HiSeqV2_exon', '_GENOMIC_ID_TCGA_LUNG_hMethyl27', '_GENOMIC_ID_TCGA_LUNG_mutation', '_GENOMIC_ID_TCGA_LUNG_exp_HiSeqV2_PANCAN', '_GENOMIC_ID_TCGA_LUNG_hMethyl450', '_GENOMIC_ID_TCGA_LUNG_gistic2thd', '_GENOMIC_ID_TCGA_LUNG_G4502A_07_3', '_GENOMIC_ID_TCGA_LUNG_exp_HiSeqV2', '_GENOMIC_ID_TCGA_LUNG_gistic2', '_GENOMIC_ID_TCGA_LUNG_RPPA_RBN']\\n\""
      ]
     },
     "execution_count": 28,
     "metadata": {},
     "output_type": "execute_result"
    }
   ],
   "source": [
    "f'''\n",
    "Below is a list of column names from a biomedical dataset. Please examine it and identify the columns that are likely to contain information about patients' age. Additionally, please do the same for columns that may hold data on patients' gender. Please provide your answer by strictly following this format, without redundant words:\n",
    "candidate_age_cols = [col_name1, col_name2, ...]\n",
    "candidate_gender_cols = [col_name1, col_name2, ...]\n",
    "If no columns match a criterion, please provide an empty list.\n",
    "\n",
    "Column names:\n",
    "{clinical_data_cols}\n",
    "'''"
   ]
  },
  {
   "cell_type": "code",
   "execution_count": 29,
   "metadata": {
    "collapsed": false
   },
   "outputs": [],
   "source": [
    "candidate_age_cols = ['age_at_initial_pathologic_diagnosis', 'days_to_birth', 'days_to_collection', 'days_to_death', 'days_to_initial_pathologic_diagnosis', 'days_to_last_followup', 'days_to_new_tumor_event_after_initial_treatment', 'stopped_smoking_year', 'year_of_initial_pathologic_diagnosis', 'year_of_tobacco_smoking_onset']\n",
    "\n",
    "candidate_gender_cols = ['gender']"
   ]
  },
  {
   "cell_type": "markdown",
   "metadata": {
    "ExecuteTime": {
     "end_time": "2023-12-31T03:57:44.207565572Z",
     "start_time": "2023-12-31T03:57:44.202177544Z"
    },
    "collapsed": false
   },
   "source": [
    "Choose a single column from the candidate columns that record age and gender information respectively.\n",
    "If no column meets the requirement, keep 'age_col' or 'gender_col' to None"
   ]
  },
  {
   "cell_type": "code",
   "execution_count": 30,
   "metadata": {
    "collapsed": false
   },
   "outputs": [
    {
     "data": {
      "text/plain": [
       "{'age_at_initial_pathologic_diagnosis': [70.0, 67.0, 79.0, 68.0, 66.0],\n",
       " 'days_to_birth': [-25752.0, -24532.0, -29068.0, -24868.0, -24411.0],\n",
       " 'days_to_collection': [nan, nan, nan, nan, nan],\n",
       " 'days_to_death': [nan, nan, '121', nan, nan],\n",
       " 'days_to_initial_pathologic_diagnosis': [0.0, 0.0, 0.0, 0.0, 0.0],\n",
       " 'days_to_last_followup': ['0', '1523', nan, '607', '426'],\n",
       " 'days_to_new_tumor_event_after_initial_treatment': [nan,\n",
       "  nan,\n",
       "  nan,\n",
       "  334.0,\n",
       "  183.0],\n",
       " 'stopped_smoking_year': [nan, nan, nan, nan, 1987.0],\n",
       " 'year_of_initial_pathologic_diagnosis': [2009.0,\n",
       "  2007.0,\n",
       "  2007.0,\n",
       "  2009.0,\n",
       "  2009.0],\n",
       " 'year_of_tobacco_smoking_onset': [nan, nan, nan, nan, 1963.0]}"
      ]
     },
     "execution_count": 30,
     "metadata": {},
     "output_type": "execute_result"
    }
   ],
   "source": [
    "preview_df(clinical_data[candidate_age_cols])"
   ]
  },
  {
   "cell_type": "code",
   "execution_count": 31,
   "metadata": {
    "collapsed": false
   },
   "outputs": [],
   "source": [
    "age_col = 'age_at_initial_pathologic_diagnosis'"
   ]
  },
  {
   "cell_type": "code",
   "execution_count": 32,
   "metadata": {
    "collapsed": false
   },
   "outputs": [
    {
     "data": {
      "text/plain": [
       "{'gender': ['MALE', 'MALE', 'FEMALE', 'MALE', 'MALE']}"
      ]
     },
     "execution_count": 32,
     "metadata": {},
     "output_type": "execute_result"
    }
   ],
   "source": [
    "preview_df(clinical_data[candidate_gender_cols])"
   ]
  },
  {
   "cell_type": "code",
   "execution_count": 33,
   "metadata": {
    "collapsed": false
   },
   "outputs": [],
   "source": [
    "gender_col = 'gender'"
   ]
  },
  {
   "cell_type": "code",
   "execution_count": 34,
   "metadata": {
    "collapsed": false
   },
   "outputs": [],
   "source": [
    "selected_clinical_data = xena_select_clinical_features(clinical_data, TRAIT, age_col, gender_col)"
   ]
  },
  {
   "cell_type": "code",
   "execution_count": 35,
   "metadata": {
    "collapsed": false
   },
   "outputs": [
    {
     "name": "stderr",
     "output_type": "stream",
     "text": [
      "15 input query terms found dup hits:\t[('GTF2IP1', 2), ('RBMY1A3P', 3), ('HERC2P2', 3), ('WASH3P', 3), ('NUDT9P1', 2), ('SNORD104', 2), ('\n",
      "154 input query terms found no hit:\t['C16orf13', 'C16orf11', 'LOC100272146', 'LOC339240', 'NACAP1', 'LOC441204', 'KLRA1', 'FAM183A', 'FA\n",
      "9 input query terms found dup hits:\t[('SUGT1P1', 2), ('SNORD127', 2), ('SNORA62', 4), ('IFITM4P', 8), ('HLA-DRB6', 2), ('FUNDC2P2', 2), \n",
      "190 input query terms found no hit:\t['NARFL', 'NFKBIL2', 'LOC150197', 'TMEM84', 'LOC162632', 'PPPDE1', 'PPPDE2', 'C1orf38', 'C1orf31', '\n",
      "20 input query terms found dup hits:\t[('PIP5K1P1', 2), ('SNORA40', 2), ('SNORD116-24', 2), ('SNORD116-25', 2), ('SNORD116-23', 2), ('SNOR\n",
      "149 input query terms found no hit:\t['FAM153C', 'C9orf167', 'CLK2P', 'CCDC76', 'CCDC75', 'CCDC72', 'HIST3H2BB', 'PRAC', 'LOC285780', 'LO\n",
      "18 input query terms found dup hits:\t[('SNORD58C', 2), ('UOX', 2), ('UBE2Q2P1', 3), ('PPP4R1L', 2), ('SNORD63', 3), ('SNORD116-22', 2), (\n",
      "158 input query terms found no hit:\t['C16orf91', 'LOC100130581', 'SFRS2', 'C16orf5', 'C16orf7', 'C16orf3', 'C21orf7', 'C21orf2', 'LOC389\n",
      "19 input query terms found dup hits:\t[('FAM66D', 2), ('FAM66A', 2), ('THSD1P1', 2), ('MSLNL', 2), ('EEF1DP3', 2), ('PGM5P2', 2), ('UBE2MP\n",
      "169 input query terms found no hit:\t['LOC284551', 'LOC285548', 'LOC728410', 'LOC541473', 'DULLARD', 'KIAA0368', 'EFTUD1', 'TWISTNB', 'SF\n",
      "17 input query terms found dup hits:\t[('S100A7L2', 2), ('POM121L8P', 2), ('SNORD16', 2), ('MEG8', 2), ('RPL23P8', 2), ('KIR3DX1', 5), ('R\n",
      "165 input query terms found no hit:\t['TMEM188', 'PDZD3', 'FAM102B', 'FAM102A', 'SMCR7L', 'G6PC', 'OSTCL', 'LOC653544', 'LOC653545', 'USP\n",
      "20 input query terms found dup hits:\t[('SNORD50B', 2), ('PCNAP1', 2), ('SNORA63', 7), ('C5orf60', 2), ('CEACAM22P', 2), ('SNORA16A', 2), \n",
      "147 input query terms found no hit:\t['LRRC37A4', 'LOC100131726', 'CPSF3L', 'COL4A3BP', 'PAR1', 'LOC92973', 'MICALCL', 'SMCR7', 'HIST4H4'\n",
      "15 input query terms found dup hits:\t[('SDHAP3', 2), ('PSORS1C3', 8), ('POM121L10P', 2), ('HLA-J', 9), ('HLA-H', 9), ('HLA-L', 7), ('NME2\n",
      "153 input query terms found no hit:\t['LOC100131193', 'KIAA1109', 'DUS2L', 'MYST1', 'IGLL3', 'C12orf69', 'NEURL', 'FAM188B', 'FLJ32063', \n",
      "8 input query terms found dup hits:\t[('PLGLA', 2), ('PA2G4P4', 2), ('RPL23AP7', 2), ('ST20', 2), ('RPL23AP64', 3), ('DPY19L2P2', 3), ('F\n",
      "177 input query terms found no hit:\t['LOC283314', 'RBM9', 'C20orf118', 'LOC150786', 'C20orf112', 'C20orf111', 'C20orf117', 'C20orf114', \n",
      "19 input query terms found dup hits:\t[('TPTE2P1', 2), ('FOLH1B', 2), ('ID2B', 2), ('MSX2P1', 2), ('RAET1K', 2), ('BMS1P4', 2), ('RPL23AP8\n",
      "175 input query terms found no hit:\t['MYEOV2', 'FAM35B2', 'C20orf85', 'FAM175A', 'C17orf73', 'C17orf72', 'C17orf71', 'C17orf70', 'C17orf\n",
      "26 input query terms found dup hits:\t[('CATSPER2P1', 2), ('AQP7P3', 2), ('AQP7P1', 2), ('ATP8B5P', 2), ('OR7E91P', 2), ('ZNF204P', 2), ('\n",
      "144 input query terms found no hit:\t['BASE', 'C14orf21', 'C14orf23', 'FAM5B', 'TROVE2', 'C18orf62', 'LOC401052', 'GNB2L1', 'FAM19A4', 'F\n",
      "17 input query terms found dup hits:\t[('P2RX6P', 2), ('RP9P', 2), ('SNORD1A', 2), ('SNORD10', 2), ('SNORD19', 2), ('NRADDP', 2), ('AOX2P'\n",
      "169 input query terms found no hit:\t['TTC15', 'C4orf29', 'FAM48A', 'C4orf21', 'C3orf65', 'C4orf23', 'C3orf67', 'LOC144742', 'C3orf63', '\n",
      "17 input query terms found dup hits:\t[('SNORA58', 2), ('PMCHL1', 2), ('FAM95B1', 2), ('TMEM191A', 2), ('RPL13P5', 2), ('SBDSP1', 2), ('CY\n",
      "143 input query terms found no hit:\t['LOC254312', 'ZNF542', 'CSDAP1', 'FAM73A', 'FAM73B', 'TCTE3', 'ZNF37B', 'LOC728875', 'KIAA1826', 'P\n",
      "16 input query terms found dup hits:\t[('ZFP91-CNTF', 2), ('SNORD116-27', 2), ('GSTM2P1', 2), ('C3P1', 2), ('NCF1B', 2), ('SNORD114-4', 2)\n",
      "138 input query terms found no hit:\t['LOC100129716', 'C14orf184', 'C14orf181', 'C14orf183', 'C14orf182', 'C7orf26', 'C7orf27', 'C7orf23'\n",
      "14 input query terms found dup hits:\t[('ANXA2P1', 2), ('ANXA2P3', 2), ('ANXA2P2', 2), ('SNORD116-12', 2), ('ZNF286B', 2), ('SAA3P', 2), (\n",
      "132 input query terms found no hit:\t['AKR1CL1', 'CCDC21', 'CCDC23', 'TMEM111', 'APOB48R', 'LOC595101', 'KIAA1430', 'KIAA1432', 'ORC4L', \n",
      "15 input query terms found dup hits:\t[('TCP10L2', 2), ('CXADRP3', 2), ('SNORD116-13', 2), ('TPTE2P3', 2), ('SNORD116-15', 2), ('SNORD116-\n",
      "175 input query terms found no hit:\t['DFNB59', 'LOC100170939', 'FAM36A', 'C2orf70', 'C2orf71', 'C2orf77', 'C2orf79', 'LOC100128191', 'HR\n",
      "16 input query terms found dup hits:\t[('PMS2CL', 2), ('BRD7P3', 2), ('SCARNA17', 2), ('GABARAPL3', 2), ('MT1IP', 2), ('ADAM6', 3), ('SNOR\n",
      "142 input query terms found no hit:\t['C9orf30', 'PEG3AS', 'C9orf37', 'TXNDC3', 'LOC442308', 'FAM46D', 'FAM46A', 'FAM46B', 'FAM46C', 'WDR\n",
      "13 input query terms found dup hits:\t[('FAM197Y2', 3), ('SNORD1C', 2), ('SNORA71B', 2), ('NAT8B', 3), ('SNORA21', 2), ('VENTXP7', 2), ('G\n",
      "148 input query terms found no hit:\t['FCGR1B', 'RG9MTD2', 'RARS', 'LOC727677', 'CCRN4L', 'SEPT14', 'HKR1', 'C1orf112', 'LOC100270710', '\n",
      "13 input query terms found dup hits:\t[('OR6W1P', 3), ('LYPLA2P1', 6), ('RPL23AP53', 2), ('TRPC2', 2), ('RBMY2FP', 2), ('BAGE2', 2), ('POM\n",
      "150 input query terms found no hit:\t['SIP1', 'FAM129C', 'GIF', 'TMCO7', 'CXorf61', 'CXorf64', 'ZNF192', 'SEPP1', 'KIRREL', 'MGC16121', '\n",
      "18 input query terms found dup hits:\t[('ISCA1P1', 2), ('SNORD116-5', 2), ('PCDHB19P', 3), ('NAPSB', 2), ('WASH7P', 2), ('TTTY11', 2), ('H\n",
      "135 input query terms found no hit:\t['PPYR1', 'FAM82A2', 'FLJ37453', 'FAM82A1', 'KIAA0947', 'MOBKL2B', 'MOBKL2C', 'MOBKL2A', 'CMAH', 'GR\n",
      "8 input query terms found dup hits:\t[('SNORD12B', 2), ('SNORD116-8', 2), ('SNORD116-4', 2), ('SNORD116-1', 2), ('SNORD116-3', 2), ('SNOR\n",
      "78 input query terms found no hit:\t['C14orf174', 'C14orf176', 'C14orf177', 'C14orf179', 'PTPLB', 'SGEF', 'LOC400752', 'GRLF1', 'SPANXE'\n"
     ]
    }
   ],
   "source": [
    "if NORMALIZE_GENE:\n",
    "    genetic_data = normalize_gene_symbols_in_index(genetic_data)"
   ]
  },
  {
   "cell_type": "code",
   "execution_count": 36,
   "metadata": {
    "collapsed": false
   },
   "outputs": [
    {
     "data": {
      "text/html": [
       "<div>\n",
       "<style scoped>\n",
       "    .dataframe tbody tr th:only-of-type {\n",
       "        vertical-align: middle;\n",
       "    }\n",
       "\n",
       "    .dataframe tbody tr th {\n",
       "        vertical-align: top;\n",
       "    }\n",
       "\n",
       "    .dataframe thead th {\n",
       "        text-align: right;\n",
       "    }\n",
       "</style>\n",
       "<table border=\"1\" class=\"dataframe\">\n",
       "  <thead>\n",
       "    <tr style=\"text-align: right;\">\n",
       "      <th></th>\n",
       "      <th>Lung-Cancer</th>\n",
       "      <th>Age</th>\n",
       "      <th>Gender</th>\n",
       "      <th>ARHGEF10L</th>\n",
       "      <th>HIF3A</th>\n",
       "      <th>RNF17</th>\n",
       "      <th>RNF10</th>\n",
       "      <th>RNF11</th>\n",
       "      <th>RNF13</th>\n",
       "      <th>GTF2IP1</th>\n",
       "      <th>...</th>\n",
       "      <th>SLC7A10</th>\n",
       "      <th>PLA2G2C</th>\n",
       "      <th>TULP2</th>\n",
       "      <th>NPY5R</th>\n",
       "      <th>GNGT2</th>\n",
       "      <th>GNGT1</th>\n",
       "      <th>TULP3</th>\n",
       "      <th>BCL6B</th>\n",
       "      <th>GSTK1</th>\n",
       "      <th>SELP</th>\n",
       "    </tr>\n",
       "    <tr>\n",
       "      <th>sampleID</th>\n",
       "      <th></th>\n",
       "      <th></th>\n",
       "      <th></th>\n",
       "      <th></th>\n",
       "      <th></th>\n",
       "      <th></th>\n",
       "      <th></th>\n",
       "      <th></th>\n",
       "      <th></th>\n",
       "      <th></th>\n",
       "      <th></th>\n",
       "      <th></th>\n",
       "      <th></th>\n",
       "      <th></th>\n",
       "      <th></th>\n",
       "      <th></th>\n",
       "      <th></th>\n",
       "      <th></th>\n",
       "      <th></th>\n",
       "      <th></th>\n",
       "      <th></th>\n",
       "    </tr>\n",
       "  </thead>\n",
       "  <tbody>\n",
       "    <tr>\n",
       "      <th>TCGA-05-4244-01</th>\n",
       "      <td>1</td>\n",
       "      <td>70.0</td>\n",
       "      <td>1.0</td>\n",
       "      <td>-0.056592</td>\n",
       "      <td>2.128674</td>\n",
       "      <td>-0.531035</td>\n",
       "      <td>-0.185972</td>\n",
       "      <td>-0.190878</td>\n",
       "      <td>-0.11891</td>\n",
       "      <td>-0.659794</td>\n",
       "      <td>...</td>\n",
       "      <td>3.634614</td>\n",
       "      <td>0.677218</td>\n",
       "      <td>0.015022</td>\n",
       "      <td>-1.155117</td>\n",
       "      <td>0.528367</td>\n",
       "      <td>2.75061</td>\n",
       "      <td>0.428423</td>\n",
       "      <td>-0.195527</td>\n",
       "      <td>-0.324695</td>\n",
       "      <td>0.193167</td>\n",
       "    </tr>\n",
       "    <tr>\n",
       "      <th>TCGA-05-4249-01</th>\n",
       "      <td>1</td>\n",
       "      <td>67.0</td>\n",
       "      <td>1.0</td>\n",
       "      <td>-0.569692</td>\n",
       "      <td>-0.318126</td>\n",
       "      <td>-0.531035</td>\n",
       "      <td>0.237428</td>\n",
       "      <td>0.011822</td>\n",
       "      <td>-0.00611</td>\n",
       "      <td>1.018406</td>\n",
       "      <td>...</td>\n",
       "      <td>4.908014</td>\n",
       "      <td>0.888518</td>\n",
       "      <td>-0.031778</td>\n",
       "      <td>-0.393117</td>\n",
       "      <td>1.632467</td>\n",
       "      <td>2.33551</td>\n",
       "      <td>-0.145577</td>\n",
       "      <td>-0.276027</td>\n",
       "      <td>-1.219395</td>\n",
       "      <td>1.850967</td>\n",
       "    </tr>\n",
       "    <tr>\n",
       "      <th>TCGA-05-4250-01</th>\n",
       "      <td>1</td>\n",
       "      <td>79.0</td>\n",
       "      <td>0.0</td>\n",
       "      <td>-0.899992</td>\n",
       "      <td>-0.918126</td>\n",
       "      <td>-0.531035</td>\n",
       "      <td>-0.621472</td>\n",
       "      <td>-0.454178</td>\n",
       "      <td>0.58719</td>\n",
       "      <td>-0.198894</td>\n",
       "      <td>...</td>\n",
       "      <td>0.489514</td>\n",
       "      <td>-0.086682</td>\n",
       "      <td>-0.748878</td>\n",
       "      <td>-1.173917</td>\n",
       "      <td>1.966367</td>\n",
       "      <td>-1.28139</td>\n",
       "      <td>-0.374877</td>\n",
       "      <td>0.714373</td>\n",
       "      <td>0.112305</td>\n",
       "      <td>-0.532833</td>\n",
       "    </tr>\n",
       "    <tr>\n",
       "      <th>TCGA-05-4382-01</th>\n",
       "      <td>1</td>\n",
       "      <td>68.0</td>\n",
       "      <td>1.0</td>\n",
       "      <td>0.667508</td>\n",
       "      <td>3.895974</td>\n",
       "      <td>-0.221535</td>\n",
       "      <td>-0.367272</td>\n",
       "      <td>0.131822</td>\n",
       "      <td>0.97629</td>\n",
       "      <td>-0.494994</td>\n",
       "      <td>...</td>\n",
       "      <td>5.730914</td>\n",
       "      <td>-0.086682</td>\n",
       "      <td>1.013722</td>\n",
       "      <td>-1.587117</td>\n",
       "      <td>0.359267</td>\n",
       "      <td>2.59051</td>\n",
       "      <td>0.806623</td>\n",
       "      <td>0.367373</td>\n",
       "      <td>-0.494595</td>\n",
       "      <td>-1.062233</td>\n",
       "    </tr>\n",
       "    <tr>\n",
       "      <th>TCGA-05-4384-01</th>\n",
       "      <td>1</td>\n",
       "      <td>66.0</td>\n",
       "      <td>1.0</td>\n",
       "      <td>-0.316892</td>\n",
       "      <td>2.380374</td>\n",
       "      <td>0.156865</td>\n",
       "      <td>0.232828</td>\n",
       "      <td>0.054822</td>\n",
       "      <td>0.27059</td>\n",
       "      <td>0.128606</td>\n",
       "      <td>...</td>\n",
       "      <td>4.163014</td>\n",
       "      <td>0.601218</td>\n",
       "      <td>-0.060978</td>\n",
       "      <td>-0.435417</td>\n",
       "      <td>1.111467</td>\n",
       "      <td>-1.28139</td>\n",
       "      <td>-0.128477</td>\n",
       "      <td>1.469373</td>\n",
       "      <td>0.194605</td>\n",
       "      <td>1.404667</td>\n",
       "    </tr>\n",
       "  </tbody>\n",
       "</table>\n",
       "<p>5 rows × 17342 columns</p>\n",
       "</div>"
      ],
      "text/plain": [
       "                 Lung-Cancer   Age  Gender  ARHGEF10L     HIF3A     RNF17  \\\n",
       "sampleID                                                                    \n",
       "TCGA-05-4244-01            1  70.0     1.0  -0.056592  2.128674 -0.531035   \n",
       "TCGA-05-4249-01            1  67.0     1.0  -0.569692 -0.318126 -0.531035   \n",
       "TCGA-05-4250-01            1  79.0     0.0  -0.899992 -0.918126 -0.531035   \n",
       "TCGA-05-4382-01            1  68.0     1.0   0.667508  3.895974 -0.221535   \n",
       "TCGA-05-4384-01            1  66.0     1.0  -0.316892  2.380374  0.156865   \n",
       "\n",
       "                    RNF10     RNF11    RNF13   GTF2IP1  ...   SLC7A10  \\\n",
       "sampleID                                                ...             \n",
       "TCGA-05-4244-01 -0.185972 -0.190878 -0.11891 -0.659794  ...  3.634614   \n",
       "TCGA-05-4249-01  0.237428  0.011822 -0.00611  1.018406  ...  4.908014   \n",
       "TCGA-05-4250-01 -0.621472 -0.454178  0.58719 -0.198894  ...  0.489514   \n",
       "TCGA-05-4382-01 -0.367272  0.131822  0.97629 -0.494994  ...  5.730914   \n",
       "TCGA-05-4384-01  0.232828  0.054822  0.27059  0.128606  ...  4.163014   \n",
       "\n",
       "                  PLA2G2C     TULP2     NPY5R     GNGT2    GNGT1     TULP3  \\\n",
       "sampleID                                                                     \n",
       "TCGA-05-4244-01  0.677218  0.015022 -1.155117  0.528367  2.75061  0.428423   \n",
       "TCGA-05-4249-01  0.888518 -0.031778 -0.393117  1.632467  2.33551 -0.145577   \n",
       "TCGA-05-4250-01 -0.086682 -0.748878 -1.173917  1.966367 -1.28139 -0.374877   \n",
       "TCGA-05-4382-01 -0.086682  1.013722 -1.587117  0.359267  2.59051  0.806623   \n",
       "TCGA-05-4384-01  0.601218 -0.060978 -0.435417  1.111467 -1.28139 -0.128477   \n",
       "\n",
       "                    BCL6B     GSTK1      SELP  \n",
       "sampleID                                       \n",
       "TCGA-05-4244-01 -0.195527 -0.324695  0.193167  \n",
       "TCGA-05-4249-01 -0.276027 -1.219395  1.850967  \n",
       "TCGA-05-4250-01  0.714373  0.112305 -0.532833  \n",
       "TCGA-05-4382-01  0.367373 -0.494595 -1.062233  \n",
       "TCGA-05-4384-01  1.469373  0.194605  1.404667  \n",
       "\n",
       "[5 rows x 17342 columns]"
      ]
     },
     "execution_count": 36,
     "metadata": {},
     "output_type": "execute_result"
    }
   ],
   "source": [
    "merged_data = selected_clinical_data.join(genetic_data.T).dropna()\n",
    "merged_data.head()"
   ]
  },
  {
   "cell_type": "code",
   "execution_count": 37,
   "metadata": {
    "collapsed": false
   },
   "outputs": [
    {
     "name": "stdout",
     "output_type": "stream",
     "text": [
      "The merged dataset contains 1100 samples.\n"
     ]
    }
   ],
   "source": [
    "print(f\"The merged dataset contains {len(merged_data)} samples.\")"
   ]
  },
  {
   "cell_type": "code",
   "execution_count": 38,
   "metadata": {
    "collapsed": false
   },
   "outputs": [
    {
     "name": "stdout",
     "output_type": "stream",
     "text": [
      "For the feature 'Lung-Cancer', the least common label is '0' with 110 occurrences. This represents 10.00% of the dataset.\n",
      "The distribution of the feature 'Lung-Cancer' in this dataset is fine.\n",
      "\n",
      "Quartiles for 'Age':\n",
      "  25%: 60.0\n",
      "  50% (Median): 67.0\n",
      "  75%: 73.0\n",
      "Min: 38.0\n",
      "Max: 90.0\n",
      "The distribution of the feature 'Age' in this dataset is fine.\n",
      "\n",
      "For the feature 'Gender', the least common label is '0.0' with 443 occurrences. This represents 40.27% of the dataset.\n",
      "The distribution of the feature 'Gender' in this dataset is fine.\n",
      "\n"
     ]
    },
    {
     "data": {
      "text/plain": [
       "False"
      ]
     },
     "execution_count": 38,
     "metadata": {},
     "output_type": "execute_result"
    }
   ],
   "source": [
    "is_trait_biased, merge_data = judge_and_remove_biased_features(merged_data, TRAIT, trait_type=trait_type)\n",
    "is_trait_biased"
   ]
  },
  {
   "cell_type": "code",
   "execution_count": 39,
   "metadata": {
    "collapsed": false
   },
   "outputs": [],
   "source": [
    "merged_data.head()\n",
    "if not is_trait_biased:\n",
    "    merge_data.to_csv(os.path.join(OUTPUT_DIR, cohort+'.csv'), index=False)"
   ]
  },
  {
   "cell_type": "code",
   "execution_count": 40,
   "metadata": {
    "collapsed": false
   },
   "outputs": [
    {
     "name": "stdout",
     "output_type": "stream",
     "text": [
      "A new JSON file was created at: ../../output1/Yuxuan/Lung-Cancer/cohort_info.json\n"
     ]
    }
   ],
   "source": [
    "save_cohort_info(cohort, JSON_PATH, is_available, is_trait_biased, merged_data)"
   ]
  },
  {
   "cell_type": "markdown",
   "metadata": {
    "ExecuteTime": {
     "end_time": "2023-12-28T21:28:38.028916303Z",
     "start_time": "2023-12-28T21:28:38.016245426Z"
    },
    "collapsed": false
   },
   "source": [
    "## 2.2. The GEO dataset"
   ]
  },
  {
   "cell_type": "markdown",
   "metadata": {
    "ExecuteTime": {
     "end_time": "2023-12-31T03:25:23.253882615Z",
     "start_time": "2023-12-31T03:25:23.244062710Z"
    },
    "collapsed": false
   },
   "source": [
    "In GEO, there may be one or multiple cohorts for a trait. Each cohort is identified by an accession number. We iterate over all accession numbers in the corresponding subdirectory, preprocess the cohort data, and save them to csv files."
   ]
  },
  {
   "cell_type": "code",
   "execution_count": 4,
   "metadata": {
    "ExecuteTime": {
     "end_time": "2024-01-02T01:02:59.503572381Z",
     "start_time": "2024-01-02T01:02:59.491400342Z"
    },
    "collapsed": false
   },
   "outputs": [
    {
     "data": {
      "text/plain": [
       "['GSE50579', 'GSE20713', 'GSE159676', 'GSE129322']"
      ]
     },
     "execution_count": 4,
     "metadata": {},
     "output_type": "execute_result"
    }
   ],
   "source": [
    "dataset = 'GEO'\n",
    "trait_subdir = \"Hemochromatosis\"\n",
    "\n",
    "trait_path = os.path.join(DATA_ROOT, dataset, trait_subdir)\n",
    "os.listdir(trait_path)"
   ]
  },
  {
   "cell_type": "markdown",
   "metadata": {
    "ExecuteTime": {
     "end_time": "2023-12-31T03:39:42.634870142Z",
     "start_time": "2023-12-31T03:39:42.534093295Z"
    },
    "collapsed": false
   },
   "source": [
    "Repeat the below steps for all the accession numbers"
   ]
  },
  {
   "cell_type": "code",
   "execution_count": 23,
   "metadata": {
    "ExecuteTime": {
     "end_time": "2024-01-02T01:03:00.287218362Z",
     "start_time": "2024-01-02T01:03:00.278758251Z"
    },
    "collapsed": false
   },
   "outputs": [
    {
     "data": {
      "text/plain": [
       "('/home/yxcheng/GEO/Hemochromatosis/GSE50579/GSE50579_family.soft.gz',\n",
       " '/home/yxcheng/GEO/Hemochromatosis/GSE50579/GSE50579_series_matrix.txt.gz')"
      ]
     },
     "execution_count": 23,
     "metadata": {},
     "output_type": "execute_result"
    }
   ],
   "source": [
    "cohort = accession_num = \"GSE50579\"\n",
    "cohort_dir = os.path.join(trait_path, accession_num)\n",
    "soft_file, matrix_file = get_relevant_filepaths(cohort_dir)\n",
    "soft_file, matrix_file"
   ]
  },
  {
   "cell_type": "markdown",
   "metadata": {
    "collapsed": false
   },
   "source": [
    "### Inital filtering and clinical data preprocessing"
   ]
  },
  {
   "cell_type": "code",
   "execution_count": 24,
   "metadata": {
    "ExecuteTime": {
     "end_time": "2024-01-02T01:03:01.634861460Z",
     "start_time": "2024-01-02T01:03:01.076370517Z"
    },
    "collapsed": false
   },
   "outputs": [
    {
     "name": "stdout",
     "output_type": "stream",
     "text": [
      "!Series_title\t\"Expression profiling of HCC\"\n",
      "!Series_summary\t\"61 human HCCs were analyzed for genome-wide gene expression. Samples were collected at two sites in Germany, Heidelberg (HD) and Hannover (N). The Heidelberg Collection include 40 independent HCC: 19 liver resections and 17 explant liver specimen (4 not determined); median age at surgery was 57 years (range, 16-78), and the male/female ratio was 3:1. All diagnoses were confirmed by histological reevaluation, and use of the samples was approved by the local ethics committee.  From 3 patients, two HCC nodules were included that previously showed different aCGH, indicating independent tumor development (tagged by _2). The underlying etiologies were HBV (n=8), HCV (n=9), alcohol (n=14), cryptogenic (n=11), genetic hemochromatosis (n=3), and Alpha-1 antitrypsin deficiency (n=2). The Hannover Collection include 21 HCC (HCC-Grad: G1-G3). Technical replicates were tagged with _B or _C\"\n",
      "!Series_overall_design\t\"differential genes expression in HCC liver (n=61) compared to control group (cell lines, n=3; normal liver tissue(NL), n=7). Technical replicates are indicated by _2.\"\n"
     ]
    }
   ],
   "source": [
    "background_prefixes = ['!Series_title', '!Series_summary', '!Series_overall_design']\n",
    "clinical_prefixes = ['!Sample_geo_accession', '!Sample_characteristics_ch1']\n",
    "\n",
    "background_info, clinical_data = get_background_and_clinical_data(matrix_file, background_prefixes, clinical_prefixes)\n",
    "print(background_info)"
   ]
  },
  {
   "cell_type": "code",
   "execution_count": 25,
   "metadata": {
    "ExecuteTime": {
     "end_time": "2024-01-02T01:03:01.642310454Z",
     "start_time": "2024-01-02T01:03:01.635048940Z"
    },
    "collapsed": false
   },
   "outputs": [
    {
     "data": {
      "text/html": [
       "<div>\n",
       "<style scoped>\n",
       "    .dataframe tbody tr th:only-of-type {\n",
       "        vertical-align: middle;\n",
       "    }\n",
       "\n",
       "    .dataframe tbody tr th {\n",
       "        vertical-align: top;\n",
       "    }\n",
       "\n",
       "    .dataframe thead th {\n",
       "        text-align: right;\n",
       "    }\n",
       "</style>\n",
       "<table border=\"1\" class=\"dataframe\">\n",
       "  <thead>\n",
       "    <tr style=\"text-align: right;\">\n",
       "      <th></th>\n",
       "      <th>!Sample_geo_accession</th>\n",
       "      <th>GSM1223814</th>\n",
       "      <th>GSM1223815</th>\n",
       "      <th>GSM1223816</th>\n",
       "      <th>GSM1223817</th>\n",
       "      <th>GSM1223818</th>\n",
       "      <th>GSM1223819</th>\n",
       "      <th>GSM1223820</th>\n",
       "      <th>GSM1223821</th>\n",
       "      <th>GSM1223822</th>\n",
       "      <th>...</th>\n",
       "      <th>GSM1223884</th>\n",
       "      <th>GSM1223885</th>\n",
       "      <th>GSM1223886</th>\n",
       "      <th>GSM1223887</th>\n",
       "      <th>GSM1223888</th>\n",
       "      <th>GSM1223889</th>\n",
       "      <th>GSM1223890</th>\n",
       "      <th>GSM1223891</th>\n",
       "      <th>GSM1223892</th>\n",
       "      <th>GSM1223893</th>\n",
       "    </tr>\n",
       "  </thead>\n",
       "  <tbody>\n",
       "    <tr>\n",
       "      <th>0</th>\n",
       "      <td>!Sample_characteristics_ch1</td>\n",
       "      <td>tumor stage: n.d.</td>\n",
       "      <td>tumor stage: n.d.</td>\n",
       "      <td>tumor stage: n.d.</td>\n",
       "      <td>tumor stage: n.d.</td>\n",
       "      <td>tumor stage: n.d.</td>\n",
       "      <td>tumor stage: n.d.</td>\n",
       "      <td>tumor stage: n.d.</td>\n",
       "      <td>tumor stage: n.d.</td>\n",
       "      <td>tumor stage: n.d.</td>\n",
       "      <td>...</td>\n",
       "      <td>tumor stage: n.d.</td>\n",
       "      <td>tumor stage: n.d.</td>\n",
       "      <td>tumor stage: n.d.</td>\n",
       "      <td>tumor stage: n.d.</td>\n",
       "      <td>tumor stage: HCC-Grad:G2</td>\n",
       "      <td>tumor stage: HCC-Grad:G2/3</td>\n",
       "      <td>tumor stage: HCC-Grad:G2</td>\n",
       "      <td>tumor stage: n.d.</td>\n",
       "      <td>tumor stage: n.d.</td>\n",
       "      <td>tumor stage: n.d.</td>\n",
       "    </tr>\n",
       "    <tr>\n",
       "      <th>1</th>\n",
       "      <td>!Sample_characteristics_ch1</td>\n",
       "      <td>etiology: alcohol abuse</td>\n",
       "      <td>etiology: alcohol abuse</td>\n",
       "      <td>etiology: alcohol abuse</td>\n",
       "      <td>etiology: cryptogenic</td>\n",
       "      <td>etiology: cryptogenic</td>\n",
       "      <td>etiology: cryptogenic</td>\n",
       "      <td>etiology: HCV</td>\n",
       "      <td>etiology: HBV</td>\n",
       "      <td>etiology: cryptogenic</td>\n",
       "      <td>...</td>\n",
       "      <td>etiology: n.d.</td>\n",
       "      <td>etiology: n.d.</td>\n",
       "      <td>etiology: alcohol abuse</td>\n",
       "      <td>etiology: Alpha-1 antitrypsin deficiency</td>\n",
       "      <td>etiology: n.d.</td>\n",
       "      <td>etiology: n.d.</td>\n",
       "      <td>etiology: n.d.</td>\n",
       "      <td>etiology: n.d.</td>\n",
       "      <td>etiology: n.d.</td>\n",
       "      <td>etiology: n.d.</td>\n",
       "    </tr>\n",
       "    <tr>\n",
       "      <th>2</th>\n",
       "      <td>!Sample_characteristics_ch1</td>\n",
       "      <td>sample type: hepatocellular carcinoma (HCC)</td>\n",
       "      <td>sample type: hepatocellular carcinoma (HCC)</td>\n",
       "      <td>sample type: hepatocellular carcinoma (HCC)</td>\n",
       "      <td>sample type: hepatocellular carcinoma (HCC)</td>\n",
       "      <td>sample type: hepatocellular carcinoma (HCC)</td>\n",
       "      <td>sample type: hepatocellular carcinoma (HCC)</td>\n",
       "      <td>sample type: hepatocellular carcinoma (HCC)</td>\n",
       "      <td>sample type: hepatocellular carcinoma (HCC)</td>\n",
       "      <td>sample type: hepatocellular carcinoma (HCC)</td>\n",
       "      <td>...</td>\n",
       "      <td>sample type: Normal liver tissue control</td>\n",
       "      <td>sample type: Normal liver tissue control</td>\n",
       "      <td>sample type: hepatocellular carcinoma (HCC)</td>\n",
       "      <td>sample type: hepatocellular carcinoma (HCC)</td>\n",
       "      <td>sample type: hepatocellular carcinoma (HCC)</td>\n",
       "      <td>sample type: hepatocellular carcinoma (HCC)</td>\n",
       "      <td>sample type: hepatocellular carcinoma (HCC)</td>\n",
       "      <td>sample type: Normal liver tissue control</td>\n",
       "      <td>sample type: Normal liver tissue control</td>\n",
       "      <td>sample type: Normal liver tissue control</td>\n",
       "    </tr>\n",
       "    <tr>\n",
       "      <th>3</th>\n",
       "      <td>!Sample_characteristics_ch1</td>\n",
       "      <td>gender: male</td>\n",
       "      <td>gender: male</td>\n",
       "      <td>gender: male</td>\n",
       "      <td>gender: male</td>\n",
       "      <td>gender: male</td>\n",
       "      <td>gender: male</td>\n",
       "      <td>gender: male</td>\n",
       "      <td>gender: female</td>\n",
       "      <td>gender: female</td>\n",
       "      <td>...</td>\n",
       "      <td>gender: male</td>\n",
       "      <td>gender: female</td>\n",
       "      <td>gender: male</td>\n",
       "      <td>gender: male</td>\n",
       "      <td>gender: n.d.</td>\n",
       "      <td>gender: n.d.</td>\n",
       "      <td>gender: n.d.</td>\n",
       "      <td>gender: n.d.</td>\n",
       "      <td>gender: female</td>\n",
       "      <td>gender: n.d.</td>\n",
       "    </tr>\n",
       "    <tr>\n",
       "      <th>4</th>\n",
       "      <td>!Sample_characteristics_ch1</td>\n",
       "      <td>material: Tx</td>\n",
       "      <td>material: Tx</td>\n",
       "      <td>material: Tx</td>\n",
       "      <td>material: n.d.</td>\n",
       "      <td>material: Rx</td>\n",
       "      <td>material: Rx</td>\n",
       "      <td>material: Tx</td>\n",
       "      <td>material: Tx</td>\n",
       "      <td>material: Rx</td>\n",
       "      <td>...</td>\n",
       "      <td>material: Rx</td>\n",
       "      <td>material: Rx</td>\n",
       "      <td>material: n.d.</td>\n",
       "      <td>material: Tx</td>\n",
       "      <td>material: n.d.</td>\n",
       "      <td>material: n.d.</td>\n",
       "      <td>material: n.d.</td>\n",
       "      <td>material: n.d.</td>\n",
       "      <td>material: Rx</td>\n",
       "      <td>material: n.d.</td>\n",
       "    </tr>\n",
       "  </tbody>\n",
       "</table>\n",
       "<p>5 rows × 81 columns</p>\n",
       "</div>"
      ],
      "text/plain": [
       "         !Sample_geo_accession                                   GSM1223814  \\\n",
       "0  !Sample_characteristics_ch1                            tumor stage: n.d.   \n",
       "1  !Sample_characteristics_ch1                      etiology: alcohol abuse   \n",
       "2  !Sample_characteristics_ch1  sample type: hepatocellular carcinoma (HCC)   \n",
       "3  !Sample_characteristics_ch1                                 gender: male   \n",
       "4  !Sample_characteristics_ch1                                 material: Tx   \n",
       "\n",
       "                                    GSM1223815  \\\n",
       "0                            tumor stage: n.d.   \n",
       "1                      etiology: alcohol abuse   \n",
       "2  sample type: hepatocellular carcinoma (HCC)   \n",
       "3                                 gender: male   \n",
       "4                                 material: Tx   \n",
       "\n",
       "                                    GSM1223816  \\\n",
       "0                            tumor stage: n.d.   \n",
       "1                      etiology: alcohol abuse   \n",
       "2  sample type: hepatocellular carcinoma (HCC)   \n",
       "3                                 gender: male   \n",
       "4                                 material: Tx   \n",
       "\n",
       "                                    GSM1223817  \\\n",
       "0                            tumor stage: n.d.   \n",
       "1                        etiology: cryptogenic   \n",
       "2  sample type: hepatocellular carcinoma (HCC)   \n",
       "3                                 gender: male   \n",
       "4                               material: n.d.   \n",
       "\n",
       "                                    GSM1223818  \\\n",
       "0                            tumor stage: n.d.   \n",
       "1                        etiology: cryptogenic   \n",
       "2  sample type: hepatocellular carcinoma (HCC)   \n",
       "3                                 gender: male   \n",
       "4                                 material: Rx   \n",
       "\n",
       "                                    GSM1223819  \\\n",
       "0                            tumor stage: n.d.   \n",
       "1                        etiology: cryptogenic   \n",
       "2  sample type: hepatocellular carcinoma (HCC)   \n",
       "3                                 gender: male   \n",
       "4                                 material: Rx   \n",
       "\n",
       "                                    GSM1223820  \\\n",
       "0                            tumor stage: n.d.   \n",
       "1                                etiology: HCV   \n",
       "2  sample type: hepatocellular carcinoma (HCC)   \n",
       "3                                 gender: male   \n",
       "4                                 material: Tx   \n",
       "\n",
       "                                    GSM1223821  \\\n",
       "0                            tumor stage: n.d.   \n",
       "1                                etiology: HBV   \n",
       "2  sample type: hepatocellular carcinoma (HCC)   \n",
       "3                               gender: female   \n",
       "4                                 material: Tx   \n",
       "\n",
       "                                    GSM1223822  ...  \\\n",
       "0                            tumor stage: n.d.  ...   \n",
       "1                        etiology: cryptogenic  ...   \n",
       "2  sample type: hepatocellular carcinoma (HCC)  ...   \n",
       "3                               gender: female  ...   \n",
       "4                                 material: Rx  ...   \n",
       "\n",
       "                                 GSM1223884  \\\n",
       "0                         tumor stage: n.d.   \n",
       "1                            etiology: n.d.   \n",
       "2  sample type: Normal liver tissue control   \n",
       "3                              gender: male   \n",
       "4                              material: Rx   \n",
       "\n",
       "                                 GSM1223885  \\\n",
       "0                         tumor stage: n.d.   \n",
       "1                            etiology: n.d.   \n",
       "2  sample type: Normal liver tissue control   \n",
       "3                            gender: female   \n",
       "4                              material: Rx   \n",
       "\n",
       "                                    GSM1223886  \\\n",
       "0                            tumor stage: n.d.   \n",
       "1                      etiology: alcohol abuse   \n",
       "2  sample type: hepatocellular carcinoma (HCC)   \n",
       "3                                 gender: male   \n",
       "4                               material: n.d.   \n",
       "\n",
       "                                    GSM1223887  \\\n",
       "0                            tumor stage: n.d.   \n",
       "1     etiology: Alpha-1 antitrypsin deficiency   \n",
       "2  sample type: hepatocellular carcinoma (HCC)   \n",
       "3                                 gender: male   \n",
       "4                                 material: Tx   \n",
       "\n",
       "                                    GSM1223888  \\\n",
       "0                     tumor stage: HCC-Grad:G2   \n",
       "1                               etiology: n.d.   \n",
       "2  sample type: hepatocellular carcinoma (HCC)   \n",
       "3                                 gender: n.d.   \n",
       "4                               material: n.d.   \n",
       "\n",
       "                                    GSM1223889  \\\n",
       "0                   tumor stage: HCC-Grad:G2/3   \n",
       "1                               etiology: n.d.   \n",
       "2  sample type: hepatocellular carcinoma (HCC)   \n",
       "3                                 gender: n.d.   \n",
       "4                               material: n.d.   \n",
       "\n",
       "                                    GSM1223890  \\\n",
       "0                     tumor stage: HCC-Grad:G2   \n",
       "1                               etiology: n.d.   \n",
       "2  sample type: hepatocellular carcinoma (HCC)   \n",
       "3                                 gender: n.d.   \n",
       "4                               material: n.d.   \n",
       "\n",
       "                                 GSM1223891  \\\n",
       "0                         tumor stage: n.d.   \n",
       "1                            etiology: n.d.   \n",
       "2  sample type: Normal liver tissue control   \n",
       "3                              gender: n.d.   \n",
       "4                            material: n.d.   \n",
       "\n",
       "                                 GSM1223892  \\\n",
       "0                         tumor stage: n.d.   \n",
       "1                            etiology: n.d.   \n",
       "2  sample type: Normal liver tissue control   \n",
       "3                            gender: female   \n",
       "4                              material: Rx   \n",
       "\n",
       "                                 GSM1223893  \n",
       "0                         tumor stage: n.d.  \n",
       "1                            etiology: n.d.  \n",
       "2  sample type: Normal liver tissue control  \n",
       "3                              gender: n.d.  \n",
       "4                            material: n.d.  \n",
       "\n",
       "[5 rows x 81 columns]"
      ]
     },
     "execution_count": 25,
     "metadata": {},
     "output_type": "execute_result"
    }
   ],
   "source": [
    "clinical_data.head()"
   ]
  },
  {
   "cell_type": "code",
   "execution_count": 8,
   "metadata": {
    "ExecuteTime": {
     "end_time": "2024-01-02T01:03:01.805026160Z",
     "start_time": "2024-01-02T01:03:01.804428154Z"
    },
    "collapsed": false
   },
   "outputs": [
    {
     "data": {
      "text/plain": [
       "{0: ['gender: F', 'gender: M', 'gender: NA'],\n",
       " 1: ['age: 74',\n",
       "  'age: 18',\n",
       "  'age: 35',\n",
       "  'age: 63',\n",
       "  'age: 30',\n",
       "  'age: 59',\n",
       "  'age: 39',\n",
       "  'age: 64',\n",
       "  'age: 67',\n",
       "  'age: 56',\n",
       "  'age: 51',\n",
       "  'age: 65',\n",
       "  'age: 69',\n",
       "  'age: 40',\n",
       "  'age: 60',\n",
       "  'age: 43',\n",
       "  'age: 55',\n",
       "  'age: 47',\n",
       "  'age: 68',\n",
       "  'age: 53',\n",
       "  'age: 62',\n",
       "  'age: 57',\n",
       "  'age: 49',\n",
       "  'age: 73',\n",
       "  'age: 78',\n",
       "  'age: 75',\n",
       "  'age: 66',\n",
       "  'age: 79',\n",
       "  'age: 52',\n",
       "  'age: 77'],\n",
       " 2: ['diagnosis: HCC'],\n",
       " 3: ['type: RESECTION',\n",
       "  'type: TRANSPLANT',\n",
       "  'type: RADIOFREQ',\n",
       "  'type: ADVANCED'],\n",
       " 4: ['without.etiology: no', 'without.etiology: yes', 'without.etiology: NA'],\n",
       " 5: ['alcohol: no', 'alcohol: yes', 'alcohol: NA'],\n",
       " 6: ['hepatitis.b: yes', 'hepatitis.b: no', 'hepatitis.b: NA'],\n",
       " 7: ['hepatitis.c: no', 'hepatitis.c: yes', 'hepatitis.c: NA'],\n",
       " 8: ['hemochromatosis: no', 'hemochromatosis: yes', 'hemochromatosis: NA'],\n",
       " 9: ['metabolic.syndrome: no',\n",
       "  'metabolic.syndrome: NA',\n",
       "  'metabolic.syndrome: yes'],\n",
       " 10: ['metavir fibrosis: F4',\n",
       "  'metavir fibrosis: F2-F3',\n",
       "  'metavir fibrosis: F0-F1',\n",
       "  'metavir fibrosis: NA'],\n",
       " 11: ['bclc: 0', 'bclc: A', 'bclc: C', 'bclc: B', 'bclc: NA'],\n",
       " 12: ['serumalphafoeto (ui): 530',\n",
       "  'serumalphafoeto (ui): 41000',\n",
       "  'serumalphafoeto (ui): 84000',\n",
       "  'serumalphafoeto (ui): 15575',\n",
       "  'serumalphafoeto (ui): 14200',\n",
       "  'serumalphafoeto (ui): 13450',\n",
       "  'serumalphafoeto (ui): 500',\n",
       "  'serumalphafoeto (ui): 18640',\n",
       "  'serumalphafoeto (ui): 5',\n",
       "  'serumalphafoeto (ui): 6',\n",
       "  'serumalphafoeto (ui): 3',\n",
       "  'serumalphafoeto (ui): 171000',\n",
       "  'serumalphafoeto (ui): 9',\n",
       "  'serumalphafoeto (ui): 1520',\n",
       "  'serumalphafoeto (ui): 301',\n",
       "  'serumalphafoeto (ui): 30',\n",
       "  'serumalphafoeto (ui): 1070',\n",
       "  'serumalphafoeto (ui): 1995',\n",
       "  'serumalphafoeto (ui): 2',\n",
       "  'serumalphafoeto (ui): NA',\n",
       "  'serumalphafoeto (ui): 9999',\n",
       "  'serumalphafoeto (ui): 96',\n",
       "  'serumalphafoeto (ui): 13',\n",
       "  'serumalphafoeto (ui): 49',\n",
       "  'serumalphafoeto (ui): 8',\n",
       "  'serumalphafoeto (ui): 9000',\n",
       "  'serumalphafoeto (ui): 7000',\n",
       "  'serumalphafoeto (ui): 4',\n",
       "  'serumalphafoeto (ui): 24',\n",
       "  'serumalphafoeto (ui): 61'],\n",
       " 13: ['tert status: M', 'tert status: NM', 'tert status: NA'],\n",
       " 14: ['tert mutation: c.-146C>T',\n",
       "  'tert mutation: NA',\n",
       "  'tert mutation: c.-124C>T',\n",
       "  'tert mutation: c.-124C>T + Missense_N898S',\n",
       "  'tert mutation: c.-57A>C',\n",
       "  'tert mutation: c.-124C>A',\n",
       "  'tert mutation: c.-39_-28delins26',\n",
       "  'tert mutation: c.-73_-29del',\n",
       "  'tert mutation: c.-124C>T + p.G211R',\n",
       "  'tert mutation: c.-124C>T + Missense_Q183R',\n",
       "  'tert mutation: p.Q183*',\n",
       "  'tert mutation: c.-124G>A',\n",
       "  'tert mutation: c.-124C>T + p.N969D',\n",
       "  'tert mutation: p.Y176H',\n",
       "  'tert mutation: p.K329R',\n",
       "  'tert mutation: c.-124C>T + p.G225R',\n",
       "  'tert mutation: c.-57_-15del',\n",
       "  'tert mutation: p.Q253*',\n",
       "  'tert mutation: c.-124C>T + p.P173S',\n",
       "  'tert mutation: c.-124C>T + p.L989S',\n",
       "  'tert mutation: c.-124C>T + p.S984G',\n",
       "  'tert mutation: c.-70_-30del',\n",
       "  'tert mutation: c.-124C>T + Missense_P391H'],\n",
       " 15: ['ctnnb1 status: NM', 'ctnnb1 status: NA', 'ctnnb1 status: M'],\n",
       " 16: ['ctnnb1 mutation: NA',\n",
       "  'ctnnb1 mutation: NM',\n",
       "  'ctnnb1 mutation: p.T41A',\n",
       "  'ctnnb1 mutation: p.D32G',\n",
       "  'ctnnb1 mutation: p.S45P',\n",
       "  'ctnnb1 mutation: p.S45F',\n",
       "  'ctnnb1 mutation: p.S33P',\n",
       "  'ctnnb1 mutation: p.D32A',\n",
       "  'ctnnb1 mutation: p.N387K',\n",
       "  'ctnnb1 mutation: p.D32V',\n",
       "  'ctnnb1 mutation: p.S45C',\n",
       "  'ctnnb1 mutation: p.A43_P44dup In_Frame',\n",
       "  'ctnnb1 mutation: p.D32Y',\n",
       "  'ctnnb1 mutation: p.A21_A152Del',\n",
       "  'ctnnb1 mutation: p.P16_K133Del',\n",
       "  'ctnnb1 mutation: p.T41A + p.S47L',\n",
       "  'ctnnb1 mutation: p.S33A',\n",
       "  'ctnnb1 mutation: p.S45Del',\n",
       "  'ctnnb1 mutation: p.G34V',\n",
       "  'ctnnb1 mutation: p.S33F',\n",
       "  'ctnnb1 mutation: p.T41I',\n",
       "  'ctnnb1 mutation: p.H36P',\n",
       "  'ctnnb1 mutation: p.I35_G38Del',\n",
       "  'ctnnb1 mutation: p.S45A',\n",
       "  'ctnnb1 mutation: p.S37A',\n",
       "  'ctnnb1 mutation: p.K335T',\n",
       "  'ctnnb1 mutation: p.S37Y',\n",
       "  'ctnnb1 mutation: p.G34E',\n",
       "  'ctnnb1 mutation: p.S37P',\n",
       "  'ctnnb1 mutation: p.K335I'],\n",
       " 17: ['tp53 status: M', 'tp53 status: NM', 'tp53 status: NA'],\n",
       " 18: ['tp53 mutation: p.H193D',\n",
       "  'tp53 mutation: NA',\n",
       "  'tp53 mutation: p.C242F',\n",
       "  'tp53 mutation: p.R249S',\n",
       "  'tp53 mutation: p.R175L',\n",
       "  'tp53 mutation: p.E286V',\n",
       "  'tp53 mutation: p.E56Afs',\n",
       "  'tp53 mutation: p.R337L',\n",
       "  'tp53 mutation: p.E28Yfs',\n",
       "  'tp53 mutation: p.C277G',\n",
       "  'tp53 mutation: p.N281E',\n",
       "  'tp53 mutation: p.I332M',\n",
       "  'tp53 mutation: p.I162Sfs',\n",
       "  'tp53 mutation: HD',\n",
       "  'tp53 mutation: p.A69Lfs',\n",
       "  'tp53 mutation: p.E294*',\n",
       "  'tp53 mutation: p.I162S',\n",
       "  'tp53 mutation: p.E339*',\n",
       "  'tp53 mutation: p.Y220C',\n",
       "  'tp53 mutation: p.R213Q + p.R280*',\n",
       "  'tp53 mutation: Splice_Site g.chr17:7576887_7576935',\n",
       "  'tp53 mutation: p.S227Lfs',\n",
       "  'tp53 mutation: p.H193L + p.E286K',\n",
       "  'tp53 mutation: Splice_Site g.chr17:7578555_7578556insT',\n",
       "  'tp53 mutation: p.N131In_Frame_Del',\n",
       "  'tp53 mutation: p.P67Rfs',\n",
       "  'tp53 mutation: p.R267L',\n",
       "  'tp53 mutation: p.C176F',\n",
       "  'tp53 mutation: p.L145Q',\n",
       "  'tp53 mutation: p.R249G'],\n",
       " 19: ['arid1a status: NM', 'arid1a status: M', 'arid1a status: NA'],\n",
       " 20: ['arid1a mutation: NA',\n",
       "  'arid1a mutation: p.S2191_G2193In_Frame_Del',\n",
       "  'arid1a mutation: p.Q878*',\n",
       "  'arid1a mutation: p.M2231Ifs',\n",
       "  'arid1a mutation: p.S357Ifs',\n",
       "  'arid1a mutation: p.Q404*',\n",
       "  'arid1a mutation: p.A107Gfs',\n",
       "  'arid1a mutation: p.P94_E97delinsAGGG',\n",
       "  'arid1a mutation: p.A2235_A2242del',\n",
       "  'arid1a mutation: p.G87In_Frame_Del + p.A142T',\n",
       "  'arid1a mutation: p.L2061_I2067In_Frame',\n",
       "  'arid1a mutation: p.Q372Rfs',\n",
       "  'arid1a mutation: p.Q2219*',\n",
       "  'arid1a mutation: p.Q372Sfs',\n",
       "  'arid1a mutation: p.T1666Nfs',\n",
       "  'arid1a mutation: p.N106Pfs',\n",
       "  'arid1a mutation: p.G91Tfs + p.A245Pfs + p.P640A',\n",
       "  'arid1a mutation: p.S11Afs',\n",
       "  'arid1a mutation: p.M390Ifs',\n",
       "  'arid1a mutation: p.Q372Rfs + p.P726Sfs',\n",
       "  'arid1a mutation: p.Q176*',\n",
       "  'arid1a mutation: p.G914Afs + p.Q1519Pfs',\n",
       "  'arid1a mutation: p.Q1835R',\n",
       "  'arid1a mutation: p.A45dup In_Frame_Ins',\n",
       "  'arid1a mutation: p.L1712Cfs',\n",
       "  'arid1a mutation: p.G410R',\n",
       "  'arid1a mutation: p.M1273Rfs',\n",
       "  'arid1a mutation: p.F2251Vfs',\n",
       "  'arid1a mutation: p.A2182Efs',\n",
       "  'arid1a mutation: p.A2240P'],\n",
       " 21: ['axin1 status: NM', 'axin1 status: M', 'axin1 status: NA'],\n",
       " 22: ['axin1 mutation: NA',\n",
       "  'axin1 mutation: p.E718G',\n",
       "  'axin1 mutation: HD',\n",
       "  'axin1 mutation: p.Q190*',\n",
       "  'axin1 mutation: p.A462T',\n",
       "  'axin1 mutation: p.C121F',\n",
       "  'axin1 mutation: p.Q4H',\n",
       "  'axin1 mutation: p.E384Dfs',\n",
       "  'axin1 mutation: p.E411Vfs',\n",
       "  'axin1 mutation: p.W247*',\n",
       "  'axin1 mutation: p.L529Cfs',\n",
       "  'axin1 mutation: Splice_Site g.chr16:396147C>T',\n",
       "  'axin1 mutation: p.R712*',\n",
       "  'axin1 mutation: p.TY375*',\n",
       "  'axin1 mutation: p.E406*',\n",
       "  'axin1 mutation: p.R533*',\n",
       "  'axin1 mutation: p.V535I',\n",
       "  'axin1 mutation: p.G265Rfs',\n",
       "  'axin1 mutation: p.A615T',\n",
       "  'axin1 mutation: p.E464*',\n",
       "  'axin1 mutation: p.Y796*',\n",
       "  'axin1 mutation: c.1116+5_1116+9delinsTGTfs',\n",
       "  'axin1 mutation: p.Q684*',\n",
       "  'axin1 mutation: p.E87* + p.R146*',\n",
       "  'axin1 mutation: p.K613Rfs',\n",
       "  'axin1 mutation: p.E188*',\n",
       "  'axin1 mutation: p.V301Sfs',\n",
       "  'axin1 mutation: p.G123D + p.G295*',\n",
       "  'axin1 mutation: p.YY304fs',\n",
       "  'axin1 mutation: p.L392F'],\n",
       " 23: ['cdkn2a status: NM', 'cdkn2a status: NA', 'cdkn2a status: M'],\n",
       " 24: ['cdkn2a mutation: NA',\n",
       "  'cdkn2a mutation: p.MEPSADWLATAAAIn_Frame_Del',\n",
       "  'cdkn2a mutation: HD',\n",
       "  'cdkn2a mutation: p.R24P',\n",
       "  'cdkn2a mutation: p.H83Y',\n",
       "  'cdkn2a mutation: p.E10Rfs',\n",
       "  'cdkn2a mutation: p.T18A',\n",
       "  'cdkn2a mutation: p.S12*',\n",
       "  'cdkn2a mutation: p.A36Rfs',\n",
       "  'cdkn2a mutation: p.H83N',\n",
       "  'cdkn2a mutation: p.D108G',\n",
       "  'cdkn2a mutation: p.E88*',\n",
       "  'cdkn2a mutation: p.W110*',\n",
       "  'cdkn2a mutation: p.Y44fs',\n",
       "  'cdkn2a mutation: p.D84N',\n",
       "  'cdkn2a mutation: p.W110R',\n",
       "  'cdkn2a mutation: p.W15*',\n",
       "  'cdkn2a mutation: p.P114L',\n",
       "  'cdkn2a mutation: p.G51fs',\n",
       "  'cdkn2a mutation: De_novo_Start_OutOfFrame g.chr9:21974860C>A',\n",
       "  'cdkn2a mutation: p.AGALPNAP34fs',\n",
       "  'cdkn2a mutation: Splice_Site g.chr9:21974675A>T',\n",
       "  'cdkn2a mutation: p.D57Y',\n",
       "  'cdkn2a mutation: p.G89R'],\n",
       " 25: ['arid2 status: NM', 'arid2 status: NA', 'arid2 status: M'],\n",
       " 26: ['arid2 mutation: NA',\n",
       "  'arid2 mutation: p.T358S',\n",
       "  'arid2 mutation: p.K275N',\n",
       "  'arid2 mutation: p.C362Mfs + p.S1391Ifs',\n",
       "  'arid2 mutation: Splice_Site g.chr12:46285561A>G',\n",
       "  'arid2 mutation: p.Q1711* + p.SF1181fs',\n",
       "  'arid2 mutation: HD',\n",
       "  'arid2 mutation: p.R601Q',\n",
       "  'arid2 mutation: p.Q526Afs + p.A1297_Q1343dupfs',\n",
       "  'arid2 mutation: p.E74*',\n",
       "  'arid2 mutation: p.E1264*',\n",
       "  'arid2 mutation: p.W69*',\n",
       "  'arid2 mutation: p.I289Mfs',\n",
       "  'arid2 mutation: p.G964_Q965insT In_Frame_Ins',\n",
       "  'arid2 mutation: p.P1019Rfs',\n",
       "  'arid2 mutation: p.F1675Lfs + p.D1694Mfs + p.D1694Y',\n",
       "  'arid2 mutation: p.G49S',\n",
       "  'arid2 mutation: p.S1103N',\n",
       "  'arid2 mutation: p.K1061E',\n",
       "  'arid2 mutation: p.Q1676fs',\n",
       "  'arid2 mutation: p.G1110fs',\n",
       "  'arid2 mutation: p.N869fs',\n",
       "  'arid2 mutation: p.G1671S',\n",
       "  'arid2 mutation: p.Y133C',\n",
       "  'arid2 mutation: p.Q905*',\n",
       "  'arid2 mutation: p.Q288*',\n",
       "  'arid2 mutation: p.K7E',\n",
       "  'arid2 mutation: p.R1414fs',\n",
       "  'arid2 mutation: p.L335S',\n",
       "  'arid2 mutation: p.T1142fs'],\n",
       " 27: ['il6st status: NM', 'il6st status: NA', 'il6st status: M'],\n",
       " 28: ['il6st mutation: NA',\n",
       "  'il6st mutation: p.N193_I194In_Frame',\n",
       "  'il6st mutation: p.Y186_Y190In_Frame_Del',\n",
       "  'il6st mutation: p.S187_Y190In_Frame_Del',\n",
       "  'il6st mutation: p.G308R'],\n",
       " 29: ['rps6ka3 status: NM', 'rps6ka3 status: M', 'rps6ka3 status: NA'],\n",
       " 30: ['rps6ka3 mutation: NA',\n",
       "  'rps6ka3 mutation: p.L546Vfs',\n",
       "  'rps6ka3 mutation: Splice_Site g.chrX:20185706C>T',\n",
       "  'rps6ka3 mutation: p.L568Q',\n",
       "  'rps6ka3 mutation: p.S21I + p.V256M',\n",
       "  'rps6ka3 mutation: p.L590* + p.D250N',\n",
       "  'rps6ka3 mutation: p.G188R',\n",
       "  'rps6ka3 mutation: p.L590S',\n",
       "  'rps6ka3 mutation: Splice_Site g.chrX:20183016del',\n",
       "  'rps6ka3 mutation: p.R350Sfs',\n",
       "  'rps6ka3 mutation: p.D393fs',\n",
       "  'rps6ka3 mutation: p.Y97*',\n",
       "  'rps6ka3 mutation: p.L298Ffs',\n",
       "  'rps6ka3 mutation: p.Y529C',\n",
       "  'rps6ka3 mutation: p.G314*',\n",
       "  'rps6ka3 mutation: p.L71fs',\n",
       "  'rps6ka3 mutation: p.G211fs',\n",
       "  'rps6ka3 mutation: p.G614D',\n",
       "  'rps6ka3 mutation: p.F327S',\n",
       "  'rps6ka3 mutation: Splice_Site g.chrX:20227524T>G',\n",
       "  'rps6ka3 mutation: p.A4fs',\n",
       "  'rps6ka3 mutation: p.A98fs',\n",
       "  'rps6ka3 mutation: p.D600Y',\n",
       "  'rps6ka3 mutation: p.Y97C',\n",
       "  'rps6ka3 mutation: p.Y226N',\n",
       "  'rps6ka3 mutation: Splice_Site g.chrX:20204489A>T'],\n",
       " 31: ['nfe2l2 status: NM', 'nfe2l2 status: NA', 'nfe2l2 status: M'],\n",
       " 32: ['nfe2l2 mutation: NA',\n",
       "  'nfe2l2 mutation: p.G81_F83In_Frame_Del',\n",
       "  'nfe2l2 mutation: p.E82D',\n",
       "  'nfe2l2 mutation: p.T80P',\n",
       "  'nfe2l2 mutation: p.G81V',\n",
       "  'nfe2l2 mutation: p.D77G',\n",
       "  'nfe2l2 mutation: p.D29H',\n",
       "  'nfe2l2 mutation: p.D29G',\n",
       "  'nfe2l2 mutation: p.K52In_Frame_Ins',\n",
       "  'nfe2l2 mutation: p.L23R',\n",
       "  'nfe2l2 mutation: p.W24In_Frame_Del',\n",
       "  'nfe2l2 mutation: p.SREV33In_Frame_Del',\n",
       "  'nfe2l2 mutation: p.R34G',\n",
       "  'nfe2l2 mutation: p.Q26R',\n",
       "  'nfe2l2 mutation: p.E82G',\n",
       "  'nfe2l2 mutation: p.G81C',\n",
       "  'nfe2l2 mutation: p.G65V',\n",
       "  'nfe2l2 mutation: p.D29_G31In_Frame_Del',\n",
       "  'nfe2l2 mutation: p.I86F + p.E82G'],\n",
       " 33: ['keap1 status: NM', 'keap1 status: NA', 'keap1 status: M'],\n",
       " 34: ['keap1 mutation: NA',\n",
       "  'keap1 mutation: p.Q402*',\n",
       "  'keap1 mutation: Splice_Site g.chr19:10600531T>A',\n",
       "  'keap1 mutation: p.G476E',\n",
       "  'keap1 mutation: p.T545Sfs',\n",
       "  'keap1 mutation: p.R71Q',\n",
       "  'keap1 mutation: p.G379D',\n",
       "  'keap1 mutation: p.V271L',\n",
       "  'keap1 mutation: p.R320W',\n",
       "  'keap1 mutation: Splice_Site g.chr19:10613915A>G',\n",
       "  'keap1 mutation: Splice_Site g.chr19:10602939C>T',\n",
       "  'keap1 mutation: p.W591fs',\n",
       "  'keap1 mutation: p.G332C',\n",
       "  'keap1 mutation: p.G430S',\n",
       "  'keap1 mutation: p.G372R',\n",
       "  'keap1 mutation: p.H274R + p.M156V',\n",
       "  'keap1 mutation: p.H311Q',\n",
       "  'keap1 mutation: p.E593*',\n",
       "  'keap1 mutation: p.E242K',\n",
       "  'keap1 mutation: p.Y396C',\n",
       "  'keap1 mutation: p.N68S',\n",
       "  'keap1 mutation: p.D256Y',\n",
       "  'keap1 mutation: p.Y396Sfs'],\n",
       " 35: ['pik3ca status: NM', 'pik3ca status: NA', 'pik3ca status: M'],\n",
       " 36: ['pik3ca mutation: NA',\n",
       "  'pik3ca mutation: p.E545K',\n",
       "  'pik3ca mutation: p.H1047R',\n",
       "  'pik3ca mutation: p.I816M',\n",
       "  'pik3ca mutation: p.E545A',\n",
       "  'pik3ca mutation: p.L540V',\n",
       "  'pik3ca mutation: p.H1047L'],\n",
       " 37: ['irf2 status: NM', 'irf2 status: M', 'irf2 status: NA'],\n",
       " 38: ['irf2 mutation: NA',\n",
       "  'irf2 mutation: HD',\n",
       "  'irf2 mutation: p.K78Rfs',\n",
       "  'irf2 mutation: Splice_Site g.chr4:185329422_185329435del'],\n",
       " 39: ['jak1 status: NA', 'jak1 status: NM', 'jak1 status: M'],\n",
       " 40: ['jak1 mutation: NA', 'jak1 mutation: p.R514L'],\n",
       " 41: ['gnas status: NA', 'gnas status: NM', 'gnas status: M'],\n",
       " 42: ['gnas mutation: NA',\n",
       "  'gnas mutation: p.N292S',\n",
       "  'gnas mutation: p.D319V',\n",
       "  'gnas mutation: p.P420L'],\n",
       " 43: ['braf status: NM', 'braf status: NA', 'braf status: M'],\n",
       " 44: ['braf mutation: NA', 'braf mutation: p.K414T'],\n",
       " 45: ['stat3 status: NA', 'stat3 status: NM', 'stat3 status: M'],\n",
       " 46: ['stat3 mutation: NA',\n",
       "  'stat3 mutation: p.L533F',\n",
       "  'stat3 mutation: p.R518*'],\n",
       " 47: ['kras status: NM', 'kras status: NA', 'kras status: M'],\n",
       " 48: ['kras mutation: NA',\n",
       "  'kras mutation: p.Q61H',\n",
       "  'kras mutation: p.G12S',\n",
       "  'kras mutation: FA'],\n",
       " 49: ['nras status: NM', 'nras status: NA'],\n",
       " 50: ['hras: NM', 'hras: NA'],\n",
       " 51: ['hnf1a status: NA', 'hnf1a status: NM', 'hnf1a status: M'],\n",
       " 52: ['hnf1a mutation: NA',\n",
       "  'hnf1a mutation: p.R114Wfs',\n",
       "  'hnf1a mutation: p.I242F',\n",
       "  'hnf1a mutation: Gly292Argfs',\n",
       "  'hnf1a mutation: p.T525I',\n",
       "  'hnf1a mutation: p.P153A',\n",
       "  'hnf1a mutation: p.K197T + p.K205T',\n",
       "  'hnf1a mutation: p.G292Rfs',\n",
       "  'hnf1a mutation: p.S455fs',\n",
       "  'hnf1a mutation: p.Q579R',\n",
       "  'hnf1a mutation: p.I128fs',\n",
       "  'hnf1a mutation: p.A406V',\n",
       "  'hnf1a mutation: p.R263H',\n",
       "  'hnf1a mutation: p.I27_L30In_Frame_Del + p.Q250_G255In_Frame_Del',\n",
       "  'hnf1a mutation: Splice_Site g.chr12:121431321A>G',\n",
       "  'hnf1a mutation: p.R229Q',\n",
       "  'hnf1a mutation: FA',\n",
       "  'hnf1a mutation: p.Q541In_Frame_Del'],\n",
       " 53: ['alb status: NA', 'alb status: NM', 'alb status: M'],\n",
       " 54: ['alb mutation: NA',\n",
       "  'alb mutation: p.I314_E316In_Frame_Del',\n",
       "  'alb mutation: p.N154*',\n",
       "  'alb mutation: p.PV342fs',\n",
       "  'alb mutation: p.-387fs',\n",
       "  'alb mutation: p.A49G',\n",
       "  'alb mutation: p.V283fs + p.R284L',\n",
       "  'alb mutation: p.R346fs',\n",
       "  'alb mutation: p.R138Q',\n",
       "  'alb mutation: p.FQ11fs',\n",
       "  'alb mutation: p.I537T',\n",
       "  'alb mutation: p.K161fs',\n",
       "  'alb mutation: p.K463Nfs',\n",
       "  'alb mutation: p.H10N',\n",
       "  'alb mutation: p.Y164H',\n",
       "  'alb mutation: p.K161Nfs',\n",
       "  'alb mutation: Splice_Site g.chr4:74275071del',\n",
       "  'alb mutation: p.Y326del',\n",
       "  'alb mutation: p.V298A + Splice_Site g.chr4:74270124_74270125insT',\n",
       "  'alb mutation: p.V283L',\n",
       "  'alb mutation: p.E394K + p.-395fs',\n",
       "  'alb mutation: p.K549In_Frame_Del',\n",
       "  'alb mutation: p.KVHT114fs',\n",
       "  'alb mutation: p.E430fs',\n",
       "  'alb mutation: Splice_Site p.QNA278del',\n",
       "  'alb mutation: p.R284fs + p.R284P',\n",
       "  'alb mutation: p.D345fs',\n",
       "  'alb mutation: p.A426S',\n",
       "  'alb mutation: p.*Y11fs',\n",
       "  'alb mutation: p.R319fs'],\n",
       " 55: ['apob status: NA', 'apob status: NM', 'apob status: M'],\n",
       " 56: ['apob mutation: NA',\n",
       "  'apob mutation: p.E472Nfs',\n",
       "  'apob mutation: p.E3654Kfs',\n",
       "  'apob mutation: p.Y3489H',\n",
       "  'apob mutation: p.Q3095R',\n",
       "  'apob mutation: p.L2126Q',\n",
       "  'apob mutation: p.F2633L',\n",
       "  'apob mutation: p.S3342F',\n",
       "  'apob mutation: p.E3259*',\n",
       "  'apob mutation: p.N1054Ifs',\n",
       "  'apob mutation: p.E772G',\n",
       "  'apob mutation: p.F4243C',\n",
       "  'apob mutation: p.K1482R',\n",
       "  'apob mutation: p.N1575S',\n",
       "  'apob mutation: p.P625T + p.R3244G',\n",
       "  'apob mutation: p.N3107del',\n",
       "  'apob mutation: p.T3143fs',\n",
       "  'apob mutation: p.HK3934fs',\n",
       "  'apob mutation: p.D1807G',\n",
       "  'apob mutation: p.K539K',\n",
       "  'apob mutation: p.SL4409fs',\n",
       "  'apob mutation: p.V3290I',\n",
       "  'apob mutation: p.E1025fs',\n",
       "  'apob mutation: p.L1330M + p.N4355S',\n",
       "  'apob mutation: p.L544P',\n",
       "  'apob mutation: p.P3332T',\n",
       "  'apob mutation: p.L3924I',\n",
       "  'apob mutation: p.I2738fs',\n",
       "  'apob mutation: p.K1661del',\n",
       "  'apob mutation: p.S3466Y'],\n",
       " 57: ['atm status: NA', 'atm status: NM', 'atm status: M'],\n",
       " 58: ['atm mutation: NA',\n",
       "  'atm mutation: p.M1I',\n",
       "  'atm mutation: p.V2439In_Frame_Del',\n",
       "  'atm mutation: p.G2022D',\n",
       "  'atm mutation: p.S2146G',\n",
       "  'atm mutation: p.W484L',\n",
       "  'atm mutation: p.W2638C',\n",
       "  'atm mutation: p.G3051E',\n",
       "  'atm mutation: p.R337C',\n",
       "  'atm mutation: p.Y2514F + p.Q2522P',\n",
       "  'atm mutation: p.E2164G + Splice_Site g.chr11:108218005G>T',\n",
       "  'atm mutation: p.S2218I',\n",
       "  'atm mutation: p.E2979V + p.HPTLNAD2981fs',\n",
       "  'atm mutation: p.E2478* + p.I1167V',\n",
       "  'atm mutation: p.V2298A',\n",
       "  'atm mutation: p.Y316C',\n",
       "  'atm mutation: p.F1780L',\n",
       "  'atm mutation: p.L2128*',\n",
       "  'atm mutation: p.D2725G',\n",
       "  'atm mutation: p.R3008C',\n",
       "  'atm mutation: p.D2785G + p.LVNNED2780fs',\n",
       "  'atm mutation: p.E2052K',\n",
       "  'atm mutation: p.D2725V',\n",
       "  'atm mutation: p.I2899L',\n",
       "  'atm mutation: p.Y2019C',\n",
       "  'atm mutation: p.Q1416R',\n",
       "  'atm mutation: Splice_Site g.chr11:108200942T>A'],\n",
       " 59: ['cdkn1a status: NA', 'cdkn1a status: NM', 'cdkn1a status: M'],\n",
       " 60: ['cdkn1a mutation: NA',\n",
       "  'cdkn1a mutation: p.RRG83fs + p.KA16fs + p.S15G',\n",
       "  'cdkn1a mutation: p.M1I',\n",
       "  'cdkn1a mutation: p.E56*',\n",
       "  'cdkn1a mutation: Splice_Site g.chr6:36646576G>A',\n",
       "  'cdkn1a mutation: p.SK15fs',\n",
       "  'cdkn1a mutation: p.GPRR81fs',\n",
       "  'cdkn1a mutation: p.W65L',\n",
       "  'cdkn1a mutation: p.W49R',\n",
       "  'cdkn1a mutation: p.R83fs + p.RG84del',\n",
       "  'cdkn1a mutation: p.RRPGT93fs',\n",
       "  'cdkn1a mutation: De_novo_Start_OutOfFrame g.chr6:36646574A>T + Splice_Site g.chr6:36651867_36651873delGCTGCAG',\n",
       "  'cdkn1a mutation: p.-55fs',\n",
       "  'cdkn1a mutation: p.L71fs',\n",
       "  'cdkn1a mutation: p.E60*',\n",
       "  'cdkn1a mutation: p.K16_P24In_Frame_Del',\n",
       "  'cdkn1a mutation: p.R69P'],\n",
       " 61: ['map1b status: NA', 'map1b status: NM', 'map1b status: M'],\n",
       " 62: ['map1b mutation: NA',\n",
       "  'map1b mutation: p.Y1905H',\n",
       "  'map1b mutation: p.I1404T',\n",
       "  'map1b mutation: p.V877I',\n",
       "  'map1b mutation: p.E563V',\n",
       "  'map1b mutation: p.G267E',\n",
       "  'map1b mutation: p.P1966L',\n",
       "  'map1b mutation: p.I113V',\n",
       "  'map1b mutation: p.R125C',\n",
       "  'map1b mutation: p.P2392H',\n",
       "  'map1b mutation: p.A1425fs',\n",
       "  'map1b mutation: p.M1645V',\n",
       "  'map1b mutation: p.S2257F',\n",
       "  'map1b mutation: p.A820P',\n",
       "  'map1b mutation: p.G172R',\n",
       "  'map1b mutation: p.F209I',\n",
       "  'map1b mutation: p.P1335S'],\n",
       " 63: ['mll2 status: NA', 'mll2 status: NM', 'mll2 status: M'],\n",
       " 64: ['mll2 mutation: NA',\n",
       "  'mll2 mutation: p.R3582L',\n",
       "  'mll2 mutation: p.G4716W',\n",
       "  'mll2 mutation: p.E905Dfs',\n",
       "  'mll2 mutation: p.L5411P',\n",
       "  'mll2 mutation: Splice_Site g.chr12:49428366T>A',\n",
       "  'mll2 mutation: p.Q3913*',\n",
       "  'mll2 mutation: Splice_Site g.chr12:49423183C>A',\n",
       "  'mll2 mutation: p.D1876E',\n",
       "  'mll2 mutation: p.Q1754K',\n",
       "  'mll2 mutation: p.H1030R',\n",
       "  'mll2 mutation: p.A2120T',\n",
       "  'mll2 mutation: p.E5269K',\n",
       "  'mll2 mutation: p.E517*',\n",
       "  'mll2 mutation: p.R1326G',\n",
       "  'mll2 mutation: p.R1796W',\n",
       "  'mll2 mutation: p.K1753Q',\n",
       "  'mll2 mutation: p.L855F',\n",
       "  'mll2 mutation: p.S918P',\n",
       "  'mll2 mutation: p.R2188H',\n",
       "  'mll2 mutation: p.Q2736*',\n",
       "  'mll2 mutation: p.N5236D',\n",
       "  'mll2 mutation: p.D2666Y',\n",
       "  'mll2 mutation: p.R3536G',\n",
       "  'mll2 mutation: p.T4445A',\n",
       "  'mll2 mutation: p.A4678S + p.G1235fs',\n",
       "  'mll2 mutation: p.F3047V',\n",
       "  'mll2 mutation: p.A4793T',\n",
       "  'mll2 mutation: p.S3708N',\n",
       "  'mll2 mutation: p.L3012Q'],\n",
       " 65: ['setd2 status: NA', 'setd2 status: NM', 'setd2 status: M'],\n",
       " 66: ['setd2 mutation: NA',\n",
       "  'setd2 mutation: p.V2345M',\n",
       "  'setd2 mutation: K2186fs',\n",
       "  'setd2 mutation: p.E1746*',\n",
       "  'setd2 mutation: p.H2228Qfs',\n",
       "  'setd2 mutation: p.Q1996*',\n",
       "  'setd2 mutation: p.R1592*',\n",
       "  'setd2 mutation: p.Y2543H',\n",
       "  'setd2 mutation: p.Y2240fs',\n",
       "  'setd2 mutation: p.Q1409*',\n",
       "  'setd2 mutation: p.P1470S',\n",
       "  'setd2 mutation: p.E1749*',\n",
       "  'setd2 mutation: p.E2520Vfs',\n",
       "  'setd2 mutation: p.L1258*',\n",
       "  'setd2 mutation: p.M763V',\n",
       "  'setd2 mutation: Splice_Site g.chr3:'],\n",
       " 67: ['tsc1 status: NA', 'tsc1 status: NM', 'tsc1 status: M'],\n",
       " 68: ['tsc1 mutation: NA',\n",
       "  'tsc1 mutation: p.Q739*',\n",
       "  'tsc1 mutation: HD',\n",
       "  'tsc1 mutation: p.S453F',\n",
       "  'tsc1 mutation: p.G132D',\n",
       "  'tsc1 mutation: p.L45V',\n",
       "  'tsc1 mutation: p.R336L',\n",
       "  'tsc1 mutation: p.Q767*',\n",
       "  'tsc1 mutation: Frame_Shift_Del;',\n",
       "  'tsc1 mutation: p.Q900*'],\n",
       " 69: ['tsc2 status: NA', 'tsc2 status: NM', 'tsc2 status: M'],\n",
       " 70: ['tsc2 mutation: NA',\n",
       "  'tsc2 mutation: p.K1632E',\n",
       "  'tsc2 mutation: Indel',\n",
       "  'tsc2 mutation: p.V319G',\n",
       "  'tsc2 mutation: p.E715Mfs',\n",
       "  'tsc2 mutation: p.W1208R',\n",
       "  'tsc2 mutation: p.A614fs',\n",
       "  'tsc2 mutation: p.R98W',\n",
       "  'tsc2 mutation: L19fs',\n",
       "  'tsc2 mutation: p.Y1033*',\n",
       "  'tsc2 mutation: p.C1609R',\n",
       "  'tsc2 mutation: p.T1607A',\n",
       "  'tsc2 mutation: p.ALCSM736fs',\n",
       "  'tsc2 mutation: p.R611Q',\n",
       "  'tsc2 mutation: p.R978H',\n",
       "  'tsc2 mutation: p.V1062I']}"
      ]
     },
     "execution_count": 8,
     "metadata": {},
     "output_type": "execute_result"
    }
   ],
   "source": [
    "clinical_data_unique = get_unique_values_by_row(clinical_data)\n",
    "clinical_data_unique"
   ]
  },
  {
   "cell_type": "markdown",
   "metadata": {
    "ExecuteTime": {
     "end_time": "2023-12-31T03:58:04.978204446Z",
     "start_time": "2023-12-31T03:58:04.922270095Z"
    },
    "collapsed": false
   },
   "source": [
    "Analyze the metadata to determine data relevance and find ways to extract the clinical data.\n",
    "Reference prompt:"
   ]
  },
  {
   "cell_type": "code",
   "execution_count": 31,
   "metadata": {
    "ExecuteTime": {
     "end_time": "2024-01-02T01:03:02.369775044Z",
     "start_time": "2024-01-02T01:03:02.356501629Z"
    },
    "collapsed": false
   },
   "outputs": [
    {
     "data": {
      "text/plain": [
       "'As a biomedical research team, we are selecting datasets to study the association between the human trait \\'Hemochromatosis\\' and genetic factors, optionally considering the influence of age and gender. After searching the GEO database and parsing the matrix file of a series, we obtained background information and sample characteristics data. We will provide textual information about the dataset background, and a Python dictionary storing a list of unique values for each field of the sample characteristics data. Please carefully review the provided information and answer the following questions about this dataset:\\n1. Does this dataset contain gene expression data? (Note: Pure miRNA data is not suitable.)\\n2. For each of the traits \\'Hemochromatosis\\', \\'age\\', and \\'gender\\', please address these points:\\n   (1) Is there human data available for this trait?\\n   (2) If so, identify the key in the sample characteristics dictionary where unique values of this trait is recorded. The key is an integer. The trait information might be explicitly recorded, or can be inferred from the field with some biomedical knowledge or understanding about the data collection process.\\n   (3) Choose an appropriate data type (either \\'continuous\\' or \\'binary\\') for each trait. Write a Python function to convert any given value of the trait to this data type. The function should handle inference about the trait value and convert unknown values to None.\\n   Name the functions \\'convert_trait\\', \\'convert_age\\', and \\'convert_gender\\', respectively.\\n\\nBackground information about the dataset:\\n!Series_title\\t\"MUTHEC\"\\n!Series_summary\\t\"We analyzed 801 primary HCC developed in 720 patients. Samples were collected from 1992 to 2016 in three French tertiary liver centers  in patients treated by liver resection, liver transplantation (surgical samples) and in patients treated by radiofrequency ablation and with advanced HCC  treated by non-curative therapies (tumor biopsies).   All samples obtained from surgical samples or tumor biopsy were immediately frozen in liquid nitrogen and stored at -80°C prior extraction. We  assessed mRNA expression by quantitative RT-PCR in a subset of 757 liver tumor samples. 517 to 782 HCC, according to the gene considered, were sequenced for 30 driver genes (TERT, TP53, CTNNB1, AXIN1, PIK3CA, ARID1A, ARID2, RPS6KA3, NFE2L2, CDKN2A, IL6ST, BRAF, STAT3, HNF1A, JAK1, KRAS, GNAS, KEAP1, IRF2, HRAS, NRAS, TSC2, APOB, TSC1, ALB, CDKN1A, MAP1B, SETD2, ATM and MLL2).\"\\n!Series_overall_design\\t\"Quantitative RT-PCR and target sequencing on human hepatocellular carcinoma (HCC)\"\\n\\nSample characteristics dictionary (from \"!Sample_characteristics_ch1\", converted to a Python dictionary that stores the unique values for each field):\\n{0: [\\'gender: F\\', \\'gender: M\\', \\'gender: NA\\'], 1: [\\'age: 74\\', \\'age: 18\\', \\'age: 35\\', \\'age: 63\\', \\'age: 30\\', \\'age: 59\\', \\'age: 39\\', \\'age: 64\\', \\'age: 67\\', \\'age: 56\\', \\'age: 51\\', \\'age: 65\\', \\'age: 69\\', \\'age: 40\\', \\'age: 60\\', \\'age: 43\\', \\'age: 55\\', \\'age: 47\\', \\'age: 68\\', \\'age: 53\\', \\'age: 62\\', \\'age: 57\\', \\'age: 49\\', \\'age: 73\\', \\'age: 78\\', \\'age: 75\\', \\'age: 66\\', \\'age: 79\\', \\'age: 52\\', \\'age: 77\\'], 2: [\\'diagnosis: HCC\\'], 3: [\\'type: RESECTION\\', \\'type: TRANSPLANT\\', \\'type: RADIOFREQ\\', \\'type: ADVANCED\\'], 4: [\\'without.etiology: no\\', \\'without.etiology: yes\\', \\'without.etiology: NA\\'], 5: [\\'alcohol: no\\', \\'alcohol: yes\\', \\'alcohol: NA\\'], 6: [\\'hepatitis.b: yes\\', \\'hepatitis.b: no\\', \\'hepatitis.b: NA\\'], 7: [\\'hepatitis.c: no\\', \\'hepatitis.c: yes\\', \\'hepatitis.c: NA\\'], 8: [\\'hemochromatosis: no\\', \\'hemochromatosis: yes\\', \\'hemochromatosis: NA\\'], 9: [\\'metabolic.syndrome: no\\', \\'metabolic.syndrome: NA\\', \\'metabolic.syndrome: yes\\'], 10: [\\'metavir fibrosis: F4\\', \\'metavir fibrosis: F2-F3\\', \\'metavir fibrosis: F0-F1\\', \\'metavir fibrosis: NA\\'], 11: [\\'bclc: 0\\', \\'bclc: A\\', \\'bclc: C\\', \\'bclc: B\\', \\'bclc: NA\\'], 12: [\\'serumalphafoeto (ui): 530\\', \\'serumalphafoeto (ui): 41000\\', \\'serumalphafoeto (ui): 84000\\', \\'serumalphafoeto (ui): 15575\\', \\'serumalphafoeto (ui): 14200\\', \\'serumalphafoeto (ui): 13450\\', \\'serumalphafoeto (ui): 500\\', \\'serumalphafoeto (ui): 18640\\', \\'serumalphafoeto (ui): 5\\', \\'serumalphafoeto (ui): 6\\', \\'serumalphafoeto (ui): 3\\', \\'serumalphafoeto (ui): 171000\\', \\'serumalphafoeto (ui): 9\\', \\'serumalphafoeto (ui): 1520\\', \\'serumalphafoeto (ui): 301\\', \\'serumalphafoeto (ui): 30\\', \\'serumalphafoeto (ui): 1070\\', \\'serumalphafoeto (ui): 1995\\', \\'serumalphafoeto (ui): 2\\', \\'serumalphafoeto (ui): NA\\', \\'serumalphafoeto (ui): 9999\\', \\'serumalphafoeto (ui): 96\\', \\'serumalphafoeto (ui): 13\\', \\'serumalphafoeto (ui): 49\\', \\'serumalphafoeto (ui): 8\\', \\'serumalphafoeto (ui): 9000\\', \\'serumalphafoeto (ui): 7000\\', \\'serumalphafoeto (ui): 4\\', \\'serumalphafoeto (ui): 24\\', \\'serumalphafoeto (ui): 61\\'], 13: [\\'tert status: M\\', \\'tert status: NM\\', \\'tert status: NA\\'], 14: [\\'tert mutation: c.-146C>T\\', \\'tert mutation: NA\\', \\'tert mutation: c.-124C>T\\', \\'tert mutation: c.-124C>T + Missense_N898S\\', \\'tert mutation: c.-57A>C\\', \\'tert mutation: c.-124C>A\\', \\'tert mutation: c.-39_-28delins26\\', \\'tert mutation: c.-73_-29del\\', \\'tert mutation: c.-124C>T + p.G211R\\', \\'tert mutation: c.-124C>T + Missense_Q183R\\', \\'tert mutation: p.Q183*\\', \\'tert mutation: c.-124G>A\\', \\'tert mutation: c.-124C>T + p.N969D\\', \\'tert mutation: p.Y176H\\', \\'tert mutation: p.K329R\\', \\'tert mutation: c.-124C>T + p.G225R\\', \\'tert mutation: c.-57_-15del\\', \\'tert mutation: p.Q253*\\', \\'tert mutation: c.-124C>T + p.P173S\\', \\'tert mutation: c.-124C>T + p.L989S\\', \\'tert mutation: c.-124C>T + p.S984G\\', \\'tert mutation: c.-70_-30del\\', \\'tert mutation: c.-124C>T + Missense_P391H\\'], 15: [\\'ctnnb1 status: NM\\', \\'ctnnb1 status: NA\\', \\'ctnnb1 status: M\\'], 16: [\\'ctnnb1 mutation: NA\\', \\'ctnnb1 mutation: NM\\', \\'ctnnb1 mutation: p.T41A\\', \\'ctnnb1 mutation: p.D32G\\', \\'ctnnb1 mutation: p.S45P\\', \\'ctnnb1 mutation: p.S45F\\', \\'ctnnb1 mutation: p.S33P\\', \\'ctnnb1 mutation: p.D32A\\', \\'ctnnb1 mutation: p.N387K\\', \\'ctnnb1 mutation: p.D32V\\', \\'ctnnb1 mutation: p.S45C\\', \\'ctnnb1 mutation: p.A43_P44dup In_Frame\\', \\'ctnnb1 mutation: p.D32Y\\', \\'ctnnb1 mutation: p.A21_A152Del\\', \\'ctnnb1 mutation: p.P16_K133Del\\', \\'ctnnb1 mutation: p.T41A + p.S47L\\', \\'ctnnb1 mutation: p.S33A\\', \\'ctnnb1 mutation: p.S45Del\\', \\'ctnnb1 mutation: p.G34V\\', \\'ctnnb1 mutation: p.S33F\\', \\'ctnnb1 mutation: p.T41I\\', \\'ctnnb1 mutation: p.H36P\\', \\'ctnnb1 mutation: p.I35_G38Del\\', \\'ctnnb1 mutation: p.S45A\\', \\'ctnnb1 mutation: p.S37A\\', \\'ctnnb1 mutation: p.K335T\\', \\'ctnnb1 mutation: p.S37Y\\', \\'ctnnb1 mutation: p.G34E\\', \\'ctnnb1 mutation: p.S37P\\', \\'ctnnb1 mutation: p.K335I\\'], 17: [\\'tp53 status: M\\', \\'tp53 status: NM\\', \\'tp53 status: NA\\'], 18: [\\'tp53 mutation: p.H193D\\', \\'tp53 mutation: NA\\', \\'tp53 mutation: p.C242F\\', \\'tp53 mutation: p.R249S\\', \\'tp53 mutation: p.R175L\\', \\'tp53 mutation: p.E286V\\', \\'tp53 mutation: p.E56Afs\\', \\'tp53 mutation: p.R337L\\', \\'tp53 mutation: p.E28Yfs\\', \\'tp53 mutation: p.C277G\\', \\'tp53 mutation: p.N281E\\', \\'tp53 mutation: p.I332M\\', \\'tp53 mutation: p.I162Sfs\\', \\'tp53 mutation: HD\\', \\'tp53 mutation: p.A69Lfs\\', \\'tp53 mutation: p.E294*\\', \\'tp53 mutation: p.I162S\\', \\'tp53 mutation: p.E339*\\', \\'tp53 mutation: p.Y220C\\', \\'tp53 mutation: p.R213Q + p.R280*\\', \\'tp53 mutation: Splice_Site g.chr17:7576887_7576935\\', \\'tp53 mutation: p.S227Lfs\\', \\'tp53 mutation: p.H193L + p.E286K\\', \\'tp53 mutation: Splice_Site g.chr17:7578555_7578556insT\\', \\'tp53 mutation: p.N131In_Frame_Del\\', \\'tp53 mutation: p.P67Rfs\\', \\'tp53 mutation: p.R267L\\', \\'tp53 mutation: p.C176F\\', \\'tp53 mutation: p.L145Q\\', \\'tp53 mutation: p.R249G\\'], 19: [\\'arid1a status: NM\\', \\'arid1a status: M\\', \\'arid1a status: NA\\'], 20: [\\'arid1a mutation: NA\\', \\'arid1a mutation: p.S2191_G2193In_Frame_Del\\', \\'arid1a mutation: p.Q878*\\', \\'arid1a mutation: p.M2231Ifs\\', \\'arid1a mutation: p.S357Ifs\\', \\'arid1a mutation: p.Q404*\\', \\'arid1a mutation: p.A107Gfs\\', \\'arid1a mutation: p.P94_E97delinsAGGG\\', \\'arid1a mutation: p.A2235_A2242del\\', \\'arid1a mutation: p.G87In_Frame_Del + p.A142T\\', \\'arid1a mutation: p.L2061_I2067In_Frame\\', \\'arid1a mutation: p.Q372Rfs\\', \\'arid1a mutation: p.Q2219*\\', \\'arid1a mutation: p.Q372Sfs\\', \\'arid1a mutation: p.T1666Nfs\\', \\'arid1a mutation: p.N106Pfs\\', \\'arid1a mutation: p.G91Tfs + p.A245Pfs + p.P640A\\', \\'arid1a mutation: p.S11Afs\\', \\'arid1a mutation: p.M390Ifs\\', \\'arid1a mutation: p.Q372Rfs + p.P726Sfs\\', \\'arid1a mutation: p.Q176*\\', \\'arid1a mutation: p.G914Afs + p.Q1519Pfs\\', \\'arid1a mutation: p.Q1835R\\', \\'arid1a mutation: p.A45dup In_Frame_Ins\\', \\'arid1a mutation: p.L1712Cfs\\', \\'arid1a mutation: p.G410R\\', \\'arid1a mutation: p.M1273Rfs\\', \\'arid1a mutation: p.F2251Vfs\\', \\'arid1a mutation: p.A2182Efs\\', \\'arid1a mutation: p.A2240P\\'], 21: [\\'axin1 status: NM\\', \\'axin1 status: M\\', \\'axin1 status: NA\\'], 22: [\\'axin1 mutation: NA\\', \\'axin1 mutation: p.E718G\\', \\'axin1 mutation: HD\\', \\'axin1 mutation: p.Q190*\\', \\'axin1 mutation: p.A462T\\', \\'axin1 mutation: p.C121F\\', \\'axin1 mutation: p.Q4H\\', \\'axin1 mutation: p.E384Dfs\\', \\'axin1 mutation: p.E411Vfs\\', \\'axin1 mutation: p.W247*\\', \\'axin1 mutation: p.L529Cfs\\', \\'axin1 mutation: Splice_Site g.chr16:396147C>T\\', \\'axin1 mutation: p.R712*\\', \\'axin1 mutation: p.TY375*\\', \\'axin1 mutation: p.E406*\\', \\'axin1 mutation: p.R533*\\', \\'axin1 mutation: p.V535I\\', \\'axin1 mutation: p.G265Rfs\\', \\'axin1 mutation: p.A615T\\', \\'axin1 mutation: p.E464*\\', \\'axin1 mutation: p.Y796*\\', \\'axin1 mutation: c.1116+5_1116+9delinsTGTfs\\', \\'axin1 mutation: p.Q684*\\', \\'axin1 mutation: p.E87* + p.R146*\\', \\'axin1 mutation: p.K613Rfs\\', \\'axin1 mutation: p.E188*\\', \\'axin1 mutation: p.V301Sfs\\', \\'axin1 mutation: p.G123D + p.G295*\\', \\'axin1 mutation: p.YY304fs\\', \\'axin1 mutation: p.L392F\\'], 23: [\\'cdkn2a status: NM\\', \\'cdkn2a status: NA\\', \\'cdkn2a status: M\\'], 24: [\\'cdkn2a mutation: NA\\', \\'cdkn2a mutation: p.MEPSADWLATAAAIn_Frame_Del\\', \\'cdkn2a mutation: HD\\', \\'cdkn2a mutation: p.R24P\\', \\'cdkn2a mutation: p.H83Y\\', \\'cdkn2a mutation: p.E10Rfs\\', \\'cdkn2a mutation: p.T18A\\', \\'cdkn2a mutation: p.S12*\\', \\'cdkn2a mutation: p.A36Rfs\\', \\'cdkn2a mutation: p.H83N\\', \\'cdkn2a mutation: p.D108G\\', \\'cdkn2a mutation: p.E88*\\', \\'cdkn2a mutation: p.W110*\\', \\'cdkn2a mutation: p.Y44fs\\', \\'cdkn2a mutation: p.D84N\\', \\'cdkn2a mutation: p.W110R\\', \\'cdkn2a mutation: p.W15*\\', \\'cdkn2a mutation: p.P114L\\', \\'cdkn2a mutation: p.G51fs\\', \\'cdkn2a mutation: De_novo_Start_OutOfFrame g.chr9:21974860C>A\\', \\'cdkn2a mutation: p.AGALPNAP34fs\\', \\'cdkn2a mutation: Splice_Site g.chr9:21974675A>T\\', \\'cdkn2a mutation: p.D57Y\\', \\'cdkn2a mutation: p.G89R\\'], 25: [\\'arid2 status: NM\\', \\'arid2 status: NA\\', \\'arid2 status: M\\'], 26: [\\'arid2 mutation: NA\\', \\'arid2 mutation: p.T358S\\', \\'arid2 mutation: p.K275N\\', \\'arid2 mutation: p.C362Mfs + p.S1391Ifs\\', \\'arid2 mutation: Splice_Site g.chr12:46285561A>G\\', \\'arid2 mutation: p.Q1711* + p.SF1181fs\\', \\'arid2 mutation: HD\\', \\'arid2 mutation: p.R601Q\\', \\'arid2 mutation: p.Q526Afs + p.A1297_Q1343dupfs\\', \\'arid2 mutation: p.E74*\\', \\'arid2 mutation: p.E1264*\\', \\'arid2 mutation: p.W69*\\', \\'arid2 mutation: p.I289Mfs\\', \\'arid2 mutation: p.G964_Q965insT In_Frame_Ins\\', \\'arid2 mutation: p.P1019Rfs\\', \\'arid2 mutation: p.F1675Lfs + p.D1694Mfs + p.D1694Y\\', \\'arid2 mutation: p.G49S\\', \\'arid2 mutation: p.S1103N\\', \\'arid2 mutation: p.K1061E\\', \\'arid2 mutation: p.Q1676fs\\', \\'arid2 mutation: p.G1110fs\\', \\'arid2 mutation: p.N869fs\\', \\'arid2 mutation: p.G1671S\\', \\'arid2 mutation: p.Y133C\\', \\'arid2 mutation: p.Q905*\\', \\'arid2 mutation: p.Q288*\\', \\'arid2 mutation: p.K7E\\', \\'arid2 mutation: p.R1414fs\\', \\'arid2 mutation: p.L335S\\', \\'arid2 mutation: p.T1142fs\\'], 27: [\\'il6st status: NM\\', \\'il6st status: NA\\', \\'il6st status: M\\'], 28: [\\'il6st mutation: NA\\', \\'il6st mutation: p.N193_I194In_Frame\\', \\'il6st mutation: p.Y186_Y190In_Frame_Del\\', \\'il6st mutation: p.S187_Y190In_Frame_Del\\', \\'il6st mutation: p.G308R\\'], 29: [\\'rps6ka3 status: NM\\', \\'rps6ka3 status: M\\', \\'rps6ka3 status: NA\\'], 30: [\\'rps6ka3 mutation: NA\\', \\'rps6ka3 mutation: p.L546Vfs\\', \\'rps6ka3 mutation: Splice_Site g.chrX:20185706C>T\\', \\'rps6ka3 mutation: p.L568Q\\', \\'rps6ka3 mutation: p.S21I + p.V256M\\', \\'rps6ka3 mutation: p.L590* + p.D250N\\', \\'rps6ka3 mutation: p.G188R\\', \\'rps6ka3 mutation: p.L590S\\', \\'rps6ka3 mutation: Splice_Site g.chrX:20183016del\\', \\'rps6ka3 mutation: p.R350Sfs\\', \\'rps6ka3 mutation: p.D393fs\\', \\'rps6ka3 mutation: p.Y97*\\', \\'rps6ka3 mutation: p.L298Ffs\\', \\'rps6ka3 mutation: p.Y529C\\', \\'rps6ka3 mutation: p.G314*\\', \\'rps6ka3 mutation: p.L71fs\\', \\'rps6ka3 mutation: p.G211fs\\', \\'rps6ka3 mutation: p.G614D\\', \\'rps6ka3 mutation: p.F327S\\', \\'rps6ka3 mutation: Splice_Site g.chrX:20227524T>G\\', \\'rps6ka3 mutation: p.A4fs\\', \\'rps6ka3 mutation: p.A98fs\\', \\'rps6ka3 mutation: p.D600Y\\', \\'rps6ka3 mutation: p.Y97C\\', \\'rps6ka3 mutation: p.Y226N\\', \\'rps6ka3 mutation: Splice_Site g.chrX:20204489A>T\\'], 31: [\\'nfe2l2 status: NM\\', \\'nfe2l2 status: NA\\', \\'nfe2l2 status: M\\'], 32: [\\'nfe2l2 mutation: NA\\', \\'nfe2l2 mutation: p.G81_F83In_Frame_Del\\', \\'nfe2l2 mutation: p.E82D\\', \\'nfe2l2 mutation: p.T80P\\', \\'nfe2l2 mutation: p.G81V\\', \\'nfe2l2 mutation: p.D77G\\', \\'nfe2l2 mutation: p.D29H\\', \\'nfe2l2 mutation: p.D29G\\', \\'nfe2l2 mutation: p.K52In_Frame_Ins\\', \\'nfe2l2 mutation: p.L23R\\', \\'nfe2l2 mutation: p.W24In_Frame_Del\\', \\'nfe2l2 mutation: p.SREV33In_Frame_Del\\', \\'nfe2l2 mutation: p.R34G\\', \\'nfe2l2 mutation: p.Q26R\\', \\'nfe2l2 mutation: p.E82G\\', \\'nfe2l2 mutation: p.G81C\\', \\'nfe2l2 mutation: p.G65V\\', \\'nfe2l2 mutation: p.D29_G31In_Frame_Del\\', \\'nfe2l2 mutation: p.I86F + p.E82G\\'], 33: [\\'keap1 status: NM\\', \\'keap1 status: NA\\', \\'keap1 status: M\\'], 34: [\\'keap1 mutation: NA\\', \\'keap1 mutation: p.Q402*\\', \\'keap1 mutation: Splice_Site g.chr19:10600531T>A\\', \\'keap1 mutation: p.G476E\\', \\'keap1 mutation: p.T545Sfs\\', \\'keap1 mutation: p.R71Q\\', \\'keap1 mutation: p.G379D\\', \\'keap1 mutation: p.V271L\\', \\'keap1 mutation: p.R320W\\', \\'keap1 mutation: Splice_Site g.chr19:10613915A>G\\', \\'keap1 mutation: Splice_Site g.chr19:10602939C>T\\', \\'keap1 mutation: p.W591fs\\', \\'keap1 mutation: p.G332C\\', \\'keap1 mutation: p.G430S\\', \\'keap1 mutation: p.G372R\\', \\'keap1 mutation: p.H274R + p.M156V\\', \\'keap1 mutation: p.H311Q\\', \\'keap1 mutation: p.E593*\\', \\'keap1 mutation: p.E242K\\', \\'keap1 mutation: p.Y396C\\', \\'keap1 mutation: p.N68S\\', \\'keap1 mutation: p.D256Y\\', \\'keap1 mutation: p.Y396Sfs\\'], 35: [\\'pik3ca status: NM\\', \\'pik3ca status: NA\\', \\'pik3ca status: M\\'], 36: [\\'pik3ca mutation: NA\\', \\'pik3ca mutation: p.E545K\\', \\'pik3ca mutation: p.H1047R\\', \\'pik3ca mutation: p.I816M\\', \\'pik3ca mutation: p.E545A\\', \\'pik3ca mutation: p.L540V\\', \\'pik3ca mutation: p.H1047L\\'], 37: [\\'irf2 status: NM\\', \\'irf2 status: M\\', \\'irf2 status: NA\\'], 38: [\\'irf2 mutation: NA\\', \\'irf2 mutation: HD\\', \\'irf2 mutation: p.K78Rfs\\', \\'irf2 mutation: Splice_Site g.chr4:185329422_185329435del\\'], 39: [\\'jak1 status: NA\\', \\'jak1 status: NM\\', \\'jak1 status: M\\'], 40: [\\'jak1 mutation: NA\\', \\'jak1 mutation: p.R514L\\'], 41: [\\'gnas status: NA\\', \\'gnas status: NM\\', \\'gnas status: M\\'], 42: [\\'gnas mutation: NA\\', \\'gnas mutation: p.N292S\\', \\'gnas mutation: p.D319V\\', \\'gnas mutation: p.P420L\\'], 43: [\\'braf status: NM\\', \\'braf status: NA\\', \\'braf status: M\\'], 44: [\\'braf mutation: NA\\', \\'braf mutation: p.K414T\\'], 45: [\\'stat3 status: NA\\', \\'stat3 status: NM\\', \\'stat3 status: M\\'], 46: [\\'stat3 mutation: NA\\', \\'stat3 mutation: p.L533F\\', \\'stat3 mutation: p.R518*\\'], 47: [\\'kras status: NM\\', \\'kras status: NA\\', \\'kras status: M\\'], 48: [\\'kras mutation: NA\\', \\'kras mutation: p.Q61H\\', \\'kras mutation: p.G12S\\', \\'kras mutation: FA\\'], 49: [\\'nras status: NM\\', \\'nras status: NA\\'], 50: [\\'hras: NM\\', \\'hras: NA\\'], 51: [\\'hnf1a status: NA\\', \\'hnf1a status: NM\\', \\'hnf1a status: M\\'], 52: [\\'hnf1a mutation: NA\\', \\'hnf1a mutation: p.R114Wfs\\', \\'hnf1a mutation: p.I242F\\', \\'hnf1a mutation: Gly292Argfs\\', \\'hnf1a mutation: p.T525I\\', \\'hnf1a mutation: p.P153A\\', \\'hnf1a mutation: p.K197T + p.K205T\\', \\'hnf1a mutation: p.G292Rfs\\', \\'hnf1a mutation: p.S455fs\\', \\'hnf1a mutation: p.Q579R\\', \\'hnf1a mutation: p.I128fs\\', \\'hnf1a mutation: p.A406V\\', \\'hnf1a mutation: p.R263H\\', \\'hnf1a mutation: p.I27_L30In_Frame_Del + p.Q250_G255In_Frame_Del\\', \\'hnf1a mutation: Splice_Site g.chr12:121431321A>G\\', \\'hnf1a mutation: p.R229Q\\', \\'hnf1a mutation: FA\\', \\'hnf1a mutation: p.Q541In_Frame_Del\\'], 53: [\\'alb status: NA\\', \\'alb status: NM\\', \\'alb status: M\\'], 54: [\\'alb mutation: NA\\', \\'alb mutation: p.I314_E316In_Frame_Del\\', \\'alb mutation: p.N154*\\', \\'alb mutation: p.PV342fs\\', \\'alb mutation: p.-387fs\\', \\'alb mutation: p.A49G\\', \\'alb mutation: p.V283fs + p.R284L\\', \\'alb mutation: p.R346fs\\', \\'alb mutation: p.R138Q\\', \\'alb mutation: p.FQ11fs\\', \\'alb mutation: p.I537T\\', \\'alb mutation: p.K161fs\\', \\'alb mutation: p.K463Nfs\\', \\'alb mutation: p.H10N\\', \\'alb mutation: p.Y164H\\', \\'alb mutation: p.K161Nfs\\', \\'alb mutation: Splice_Site g.chr4:74275071del\\', \\'alb mutation: p.Y326del\\', \\'alb mutation: p.V298A + Splice_Site g.chr4:74270124_74270125insT\\', \\'alb mutation: p.V283L\\', \\'alb mutation: p.E394K + p.-395fs\\', \\'alb mutation: p.K549In_Frame_Del\\', \\'alb mutation: p.KVHT114fs\\', \\'alb mutation: p.E430fs\\', \\'alb mutation: Splice_Site p.QNA278del\\', \\'alb mutation: p.R284fs + p.R284P\\', \\'alb mutation: p.D345fs\\', \\'alb mutation: p.A426S\\', \\'alb mutation: p.*Y11fs\\', \\'alb mutation: p.R319fs\\'], 55: [\\'apob status: NA\\', \\'apob status: NM\\', \\'apob status: M\\'], 56: [\\'apob mutation: NA\\', \\'apob mutation: p.E472Nfs\\', \\'apob mutation: p.E3654Kfs\\', \\'apob mutation: p.Y3489H\\', \\'apob mutation: p.Q3095R\\', \\'apob mutation: p.L2126Q\\', \\'apob mutation: p.F2633L\\', \\'apob mutation: p.S3342F\\', \\'apob mutation: p.E3259*\\', \\'apob mutation: p.N1054Ifs\\', \\'apob mutation: p.E772G\\', \\'apob mutation: p.F4243C\\', \\'apob mutation: p.K1482R\\', \\'apob mutation: p.N1575S\\', \\'apob mutation: p.P625T + p.R3244G\\', \\'apob mutation: p.N3107del\\', \\'apob mutation: p.T3143fs\\', \\'apob mutation: p.HK3934fs\\', \\'apob mutation: p.D1807G\\', \\'apob mutation: p.K539K\\', \\'apob mutation: p.SL4409fs\\', \\'apob mutation: p.V3290I\\', \\'apob mutation: p.E1025fs\\', \\'apob mutation: p.L1330M + p.N4355S\\', \\'apob mutation: p.L544P\\', \\'apob mutation: p.P3332T\\', \\'apob mutation: p.L3924I\\', \\'apob mutation: p.I2738fs\\', \\'apob mutation: p.K1661del\\', \\'apob mutation: p.S3466Y\\'], 57: [\\'atm status: NA\\', \\'atm status: NM\\', \\'atm status: M\\'], 58: [\\'atm mutation: NA\\', \\'atm mutation: p.M1I\\', \\'atm mutation: p.V2439In_Frame_Del\\', \\'atm mutation: p.G2022D\\', \\'atm mutation: p.S2146G\\', \\'atm mutation: p.W484L\\', \\'atm mutation: p.W2638C\\', \\'atm mutation: p.G3051E\\', \\'atm mutation: p.R337C\\', \\'atm mutation: p.Y2514F + p.Q2522P\\', \\'atm mutation: p.E2164G + Splice_Site g.chr11:108218005G>T\\', \\'atm mutation: p.S2218I\\', \\'atm mutation: p.E2979V + p.HPTLNAD2981fs\\', \\'atm mutation: p.E2478* + p.I1167V\\', \\'atm mutation: p.V2298A\\', \\'atm mutation: p.Y316C\\', \\'atm mutation: p.F1780L\\', \\'atm mutation: p.L2128*\\', \\'atm mutation: p.D2725G\\', \\'atm mutation: p.R3008C\\', \\'atm mutation: p.D2785G + p.LVNNED2780fs\\', \\'atm mutation: p.E2052K\\', \\'atm mutation: p.D2725V\\', \\'atm mutation: p.I2899L\\', \\'atm mutation: p.Y2019C\\', \\'atm mutation: p.Q1416R\\', \\'atm mutation: Splice_Site g.chr11:108200942T>A\\'], 59: [\\'cdkn1a status: NA\\', \\'cdkn1a status: NM\\', \\'cdkn1a status: M\\'], 60: [\\'cdkn1a mutation: NA\\', \\'cdkn1a mutation: p.RRG83fs + p.KA16fs + p.S15G\\', \\'cdkn1a mutation: p.M1I\\', \\'cdkn1a mutation: p.E56*\\', \\'cdkn1a mutation: Splice_Site g.chr6:36646576G>A\\', \\'cdkn1a mutation: p.SK15fs\\', \\'cdkn1a mutation: p.GPRR81fs\\', \\'cdkn1a mutation: p.W65L\\', \\'cdkn1a mutation: p.W49R\\', \\'cdkn1a mutation: p.R83fs + p.RG84del\\', \\'cdkn1a mutation: p.RRPGT93fs\\', \\'cdkn1a mutation: De_novo_Start_OutOfFrame g.chr6:36646574A>T + Splice_Site g.chr6:36651867_36651873delGCTGCAG\\', \\'cdkn1a mutation: p.-55fs\\', \\'cdkn1a mutation: p.L71fs\\', \\'cdkn1a mutation: p.E60*\\', \\'cdkn1a mutation: p.K16_P24In_Frame_Del\\', \\'cdkn1a mutation: p.R69P\\'], 61: [\\'map1b status: NA\\', \\'map1b status: NM\\', \\'map1b status: M\\'], 62: [\\'map1b mutation: NA\\', \\'map1b mutation: p.Y1905H\\', \\'map1b mutation: p.I1404T\\', \\'map1b mutation: p.V877I\\', \\'map1b mutation: p.E563V\\', \\'map1b mutation: p.G267E\\', \\'map1b mutation: p.P1966L\\', \\'map1b mutation: p.I113V\\', \\'map1b mutation: p.R125C\\', \\'map1b mutation: p.P2392H\\', \\'map1b mutation: p.A1425fs\\', \\'map1b mutation: p.M1645V\\', \\'map1b mutation: p.S2257F\\', \\'map1b mutation: p.A820P\\', \\'map1b mutation: p.G172R\\', \\'map1b mutation: p.F209I\\', \\'map1b mutation: p.P1335S\\'], 63: [\\'mll2 status: NA\\', \\'mll2 status: NM\\', \\'mll2 status: M\\'], 64: [\\'mll2 mutation: NA\\', \\'mll2 mutation: p.R3582L\\', \\'mll2 mutation: p.G4716W\\', \\'mll2 mutation: p.E905Dfs\\', \\'mll2 mutation: p.L5411P\\', \\'mll2 mutation: Splice_Site g.chr12:49428366T>A\\', \\'mll2 mutation: p.Q3913*\\', \\'mll2 mutation: Splice_Site g.chr12:49423183C>A\\', \\'mll2 mutation: p.D1876E\\', \\'mll2 mutation: p.Q1754K\\', \\'mll2 mutation: p.H1030R\\', \\'mll2 mutation: p.A2120T\\', \\'mll2 mutation: p.E5269K\\', \\'mll2 mutation: p.E517*\\', \\'mll2 mutation: p.R1326G\\', \\'mll2 mutation: p.R1796W\\', \\'mll2 mutation: p.K1753Q\\', \\'mll2 mutation: p.L855F\\', \\'mll2 mutation: p.S918P\\', \\'mll2 mutation: p.R2188H\\', \\'mll2 mutation: p.Q2736*\\', \\'mll2 mutation: p.N5236D\\', \\'mll2 mutation: p.D2666Y\\', \\'mll2 mutation: p.R3536G\\', \\'mll2 mutation: p.T4445A\\', \\'mll2 mutation: p.A4678S + p.G1235fs\\', \\'mll2 mutation: p.F3047V\\', \\'mll2 mutation: p.A4793T\\', \\'mll2 mutation: p.S3708N\\', \\'mll2 mutation: p.L3012Q\\'], 65: [\\'setd2 status: NA\\', \\'setd2 status: NM\\', \\'setd2 status: M\\'], 66: [\\'setd2 mutation: NA\\', \\'setd2 mutation: p.V2345M\\', \\'setd2 mutation: K2186fs\\', \\'setd2 mutation: p.E1746*\\', \\'setd2 mutation: p.H2228Qfs\\', \\'setd2 mutation: p.Q1996*\\', \\'setd2 mutation: p.R1592*\\', \\'setd2 mutation: p.Y2543H\\', \\'setd2 mutation: p.Y2240fs\\', \\'setd2 mutation: p.Q1409*\\', \\'setd2 mutation: p.P1470S\\', \\'setd2 mutation: p.E1749*\\', \\'setd2 mutation: p.E2520Vfs\\', \\'setd2 mutation: p.L1258*\\', \\'setd2 mutation: p.M763V\\', \\'setd2 mutation: Splice_Site g.chr3:\\'], 67: [\\'tsc1 status: NA\\', \\'tsc1 status: NM\\', \\'tsc1 status: M\\'], 68: [\\'tsc1 mutation: NA\\', \\'tsc1 mutation: p.Q739*\\', \\'tsc1 mutation: HD\\', \\'tsc1 mutation: p.S453F\\', \\'tsc1 mutation: p.G132D\\', \\'tsc1 mutation: p.L45V\\', \\'tsc1 mutation: p.R336L\\', \\'tsc1 mutation: p.Q767*\\', \\'tsc1 mutation: Frame_Shift_Del;\\', \\'tsc1 mutation: p.Q900*\\'], 69: [\\'tsc2 status: NA\\', \\'tsc2 status: NM\\', \\'tsc2 status: M\\'], 70: [\\'tsc2 mutation: NA\\', \\'tsc2 mutation: p.K1632E\\', \\'tsc2 mutation: Indel\\', \\'tsc2 mutation: p.V319G\\', \\'tsc2 mutation: p.E715Mfs\\', \\'tsc2 mutation: p.W1208R\\', \\'tsc2 mutation: p.A614fs\\', \\'tsc2 mutation: p.R98W\\', \\'tsc2 mutation: L19fs\\', \\'tsc2 mutation: p.Y1033*\\', \\'tsc2 mutation: p.C1609R\\', \\'tsc2 mutation: p.T1607A\\', \\'tsc2 mutation: p.ALCSM736fs\\', \\'tsc2 mutation: p.R611Q\\', \\'tsc2 mutation: p.R978H\\', \\'tsc2 mutation: p.V1062I\\']}\\n'"
      ]
     },
     "execution_count": 31,
     "metadata": {},
     "output_type": "execute_result"
    }
   ],
   "source": [
    "f'''As a biomedical research team, we are selecting datasets to study the association between the human trait \\'{TRAIT}\\' and genetic factors, optionally considering the influence of age and gender. After searching the GEO database and parsing the matrix file of a series, we obtained background information and sample characteristics data. We will provide textual information about the dataset background, and a Python dictionary storing a list of unique values for each field of the sample characteristics data. Please carefully review the provided information and answer the following questions about this dataset:\n",
    "1. Does this dataset contain gene expression data? (Note: Pure miRNA data is not suitable.)\n",
    "2. For each of the traits \\'{TRAIT}\\', 'age', and 'gender', please address these points:\n",
    "   (1) Is there human data available for this trait?\n",
    "   (2) If so, identify the key in the sample characteristics dictionary where unique values of this trait is recorded. The key is an integer. The trait information might be explicitly recorded, or can be inferred from the field with some biomedical knowledge or understanding about the data collection process.\n",
    "   (3) Choose an appropriate data type (either 'continuous' or 'binary') for each trait. Write a Python function to convert any given value of the trait to this data type. The function should handle inference about the trait value and convert unknown values to None.\n",
    "   Name the functions 'convert_trait', 'convert_age', and 'convert_gender', respectively.\n",
    "\n",
    "Background information about the dataset:\n",
    "{background_info}\n",
    "\n",
    "Sample characteristics dictionary (from \"!Sample_characteristics_ch1\", converted to a Python dictionary that stores the unique values for each field):\n",
    "{clinical_data_unique}\n",
    "'''"
   ]
  },
  {
   "cell_type": "markdown",
   "metadata": {
    "ExecuteTime": {
     "end_time": "2023-12-31T03:58:04.978240504Z",
     "start_time": "2023-12-31T03:58:04.922365324Z"
    },
    "collapsed": false
   },
   "source": [
    "Understand and verify the answer from GPT, to assign values to the below variables. Assign None to the 'row_id' variables if relevant data row was not found.\n",
    "Later we need to let GPT format its answer to automatically do these. But given the complexity of this step, let's grow some insight from the free-text answers for now."
   ]
  },
  {
   "cell_type": "code",
   "execution_count": 9,
   "metadata": {
    "ExecuteTime": {
     "end_time": "2024-01-02T01:03:03.079540570Z",
     "start_time": "2024-01-02T01:03:03.073638535Z"
    },
    "collapsed": false
   },
   "outputs": [],
   "source": [
    "is_gene_availabe = True\n",
    "trait_row_id = 2\n",
    "age_row_id = 1\n",
    "gender_row_id = 0\n",
    "\n",
    "trait_type = 'binary'"
   ]
  },
  {
   "cell_type": "code",
   "execution_count": 10,
   "metadata": {
    "ExecuteTime": {
     "end_time": "2024-01-02T01:03:03.572682163Z",
     "start_time": "2024-01-02T01:03:03.559775513Z"
    },
    "collapsed": false
   },
   "outputs": [],
   "source": [
    "is_available = is_gene_availabe and (trait_row_id is not None)\n",
    "if not is_available:\n",
    "    save_cohort_info(cohort, JSON_PATH, is_available)\n",
    "    print(\"This cohort is not usable. Please skip the following steps and jump to the next accession number.\")"
   ]
  },
  {
   "cell_type": "code",
   "execution_count": 11,
   "metadata": {
    "ExecuteTime": {
     "end_time": "2024-01-02T01:03:03.973964287Z",
     "start_time": "2024-01-02T01:03:03.964958096Z"
    },
    "collapsed": false
   },
   "outputs": [
    {
     "data": {
      "text/plain": [
       "(0, None, None)"
      ]
     },
     "execution_count": 11,
     "metadata": {},
     "output_type": "execute_result"
    }
   ],
   "source": [
    "def convert_trait(tissue_type):\n",
    "    \"\"\"\n",
    "    Convert tissue type to epilepsy presence (binary).\n",
    "    Assuming epilepsy presence for 'Hippocampus' tissue.\n",
    "    \"\"\"\n",
    "    if tissue_type == 'diagnosis: HCC':\n",
    "        return 1  # Epilepsy present\n",
    "    else:\n",
    "        return 0  # Epilepsy not present\n",
    "\n",
    "def convert_age(age_string):\n",
    "    \"\"\"\n",
    "    Convert age string to a numerical value.\n",
    "    \"\"\"\n",
    "    if age_string.startswith('age:'):\n",
    "        try:\n",
    "            return int(age_string.split('age: ')[1].rstrip(''))  # Extracting numeric part\n",
    "        except ValueError:\n",
    "            return None  # In case of parsing error\n",
    "    else:\n",
    "        return None  # If age string does not follow expected format\n",
    "\n",
    "def convert_gender(gender_string):\n",
    "    \"\"\"\n",
    "    Convert gender string to a binary representation.\n",
    "    Female -> 0, Male -> 1, Unknown -> None\n",
    "    \"\"\"\n",
    "    if gender_string == 'gender: F':\n",
    "        return 0\n",
    "    elif gender_string == 'gender: M':\n",
    "        return 1\n",
    "    else:\n",
    "        return None  # In case of unknown gender\n",
    "\n",
    "# Example usage\n",
    "example_tissue = 'sample type: hepatocellular carcinoma (HCC)'\n",
    "example_age = 'age (yrs): 47'\n",
    "example_gender = 'gender: male'\n",
    "\n",
    "converted_trait = convert_trait(example_tissue)\n",
    "converted_age = convert_age(example_age)\n",
    "converted_gender = convert_gender(example_gender)\n",
    "\n",
    "converted_trait, converted_age, converted_gender"
   ]
  },
  {
   "cell_type": "code",
   "execution_count": 15,
   "metadata": {
    "ExecuteTime": {
     "end_time": "2024-01-02T01:03:04.637878352Z",
     "start_time": "2024-01-02T01:03:04.593886885Z"
    },
    "collapsed": false
   },
   "outputs": [
    {
     "name": "stderr",
     "output_type": "stream",
     "text": [
      "/home/yxcheng/AI4Science_gold_standard/stage1/Jianrong/../utils.py:208: FutureWarning: DataFrame.applymap has been deprecated. Use DataFrame.map instead.\n",
      "  clinical_df = clinical_df.applymap(convert_fn)\n",
      "/home/yxcheng/AI4Science_gold_standard/stage1/Jianrong/../utils.py:208: FutureWarning: DataFrame.applymap has been deprecated. Use DataFrame.map instead.\n",
      "  clinical_df = clinical_df.applymap(convert_fn)\n",
      "/home/yxcheng/AI4Science_gold_standard/stage1/Jianrong/../utils.py:208: FutureWarning: DataFrame.applymap has been deprecated. Use DataFrame.map instead.\n",
      "  clinical_df = clinical_df.applymap(convert_fn)\n"
     ]
    },
    {
     "data": {
      "text/html": [
       "<div>\n",
       "<style scoped>\n",
       "    .dataframe tbody tr th:only-of-type {\n",
       "        vertical-align: middle;\n",
       "    }\n",
       "\n",
       "    .dataframe tbody tr th {\n",
       "        vertical-align: top;\n",
       "    }\n",
       "\n",
       "    .dataframe thead th {\n",
       "        text-align: right;\n",
       "    }\n",
       "</style>\n",
       "<table border=\"1\" class=\"dataframe\">\n",
       "  <thead>\n",
       "    <tr style=\"text-align: right;\">\n",
       "      <th></th>\n",
       "      <th>GSM3704522</th>\n",
       "      <th>GSM3704523</th>\n",
       "      <th>GSM3704524</th>\n",
       "      <th>GSM3704525</th>\n",
       "      <th>GSM3704526</th>\n",
       "      <th>GSM3704527</th>\n",
       "      <th>GSM3704528</th>\n",
       "      <th>GSM3704529</th>\n",
       "      <th>GSM3704530</th>\n",
       "      <th>GSM3704531</th>\n",
       "      <th>...</th>\n",
       "      <th>GSM3705199</th>\n",
       "      <th>GSM3705200</th>\n",
       "      <th>GSM3705201</th>\n",
       "      <th>GSM3705202</th>\n",
       "      <th>GSM3705203</th>\n",
       "      <th>GSM3705204</th>\n",
       "      <th>GSM3705205</th>\n",
       "      <th>GSM3705206</th>\n",
       "      <th>GSM3705207</th>\n",
       "      <th>GSM3705208</th>\n",
       "    </tr>\n",
       "  </thead>\n",
       "  <tbody>\n",
       "    <tr>\n",
       "      <th>Hemochromatosis</th>\n",
       "      <td>1</td>\n",
       "      <td>1</td>\n",
       "      <td>1</td>\n",
       "      <td>1</td>\n",
       "      <td>1</td>\n",
       "      <td>1</td>\n",
       "      <td>1</td>\n",
       "      <td>1</td>\n",
       "      <td>1</td>\n",
       "      <td>1</td>\n",
       "      <td>...</td>\n",
       "      <td>1</td>\n",
       "      <td>1</td>\n",
       "      <td>1</td>\n",
       "      <td>1</td>\n",
       "      <td>1</td>\n",
       "      <td>1</td>\n",
       "      <td>1</td>\n",
       "      <td>1</td>\n",
       "      <td>1</td>\n",
       "      <td>1</td>\n",
       "    </tr>\n",
       "    <tr>\n",
       "      <th>Age</th>\n",
       "      <td>74</td>\n",
       "      <td>18</td>\n",
       "      <td>35</td>\n",
       "      <td>63</td>\n",
       "      <td>30</td>\n",
       "      <td>59</td>\n",
       "      <td>35</td>\n",
       "      <td>39</td>\n",
       "      <td>39</td>\n",
       "      <td>63</td>\n",
       "      <td>...</td>\n",
       "      <td>57</td>\n",
       "      <td>54</td>\n",
       "      <td>55</td>\n",
       "      <td>55</td>\n",
       "      <td>55</td>\n",
       "      <td>55</td>\n",
       "      <td>55</td>\n",
       "      <td>55</td>\n",
       "      <td>69</td>\n",
       "      <td>77</td>\n",
       "    </tr>\n",
       "    <tr>\n",
       "      <th>Gender</th>\n",
       "      <td>0</td>\n",
       "      <td>0</td>\n",
       "      <td>1</td>\n",
       "      <td>1</td>\n",
       "      <td>1</td>\n",
       "      <td>0</td>\n",
       "      <td>0</td>\n",
       "      <td>1</td>\n",
       "      <td>0</td>\n",
       "      <td>1</td>\n",
       "      <td>...</td>\n",
       "      <td>1</td>\n",
       "      <td>1</td>\n",
       "      <td>1</td>\n",
       "      <td>1</td>\n",
       "      <td>1</td>\n",
       "      <td>1</td>\n",
       "      <td>1</td>\n",
       "      <td>1</td>\n",
       "      <td>1</td>\n",
       "      <td>1</td>\n",
       "    </tr>\n",
       "  </tbody>\n",
       "</table>\n",
       "<p>3 rows × 687 columns</p>\n",
       "</div>"
      ],
      "text/plain": [
       "                 GSM3704522  GSM3704523  GSM3704524  GSM3704525  GSM3704526  \\\n",
       "Hemochromatosis           1           1           1           1           1   \n",
       "Age                      74          18          35          63          30   \n",
       "Gender                    0           0           1           1           1   \n",
       "\n",
       "                 GSM3704527  GSM3704528  GSM3704529  GSM3704530  GSM3704531  \\\n",
       "Hemochromatosis           1           1           1           1           1   \n",
       "Age                      59          35          39          39          63   \n",
       "Gender                    0           0           1           0           1   \n",
       "\n",
       "                 ...  GSM3705199  GSM3705200  GSM3705201  GSM3705202  \\\n",
       "Hemochromatosis  ...           1           1           1           1   \n",
       "Age              ...          57          54          55          55   \n",
       "Gender           ...           1           1           1           1   \n",
       "\n",
       "                 GSM3705203  GSM3705204  GSM3705205  GSM3705206  GSM3705207  \\\n",
       "Hemochromatosis           1           1           1           1           1   \n",
       "Age                      55          55          55          55          69   \n",
       "Gender                    1           1           1           1           1   \n",
       "\n",
       "                 GSM3705208  \n",
       "Hemochromatosis           1  \n",
       "Age                      77  \n",
       "Gender                    1  \n",
       "\n",
       "[3 rows x 687 columns]"
      ]
     },
     "execution_count": 15,
     "metadata": {},
     "output_type": "execute_result"
    }
   ],
   "source": [
    "selected_clinical_data = geo_select_clinical_features(clinical_data, TRAIT, trait_row_id, convert_trait, age_row=age_row_id,\n",
    "                                                      convert_age=convert_age, gender_row=gender_row_id,\n",
    "                                                      convert_gender=convert_gender)\n",
    "selected_clinical_data.head()"
   ]
  },
  {
   "cell_type": "markdown",
   "metadata": {
    "ExecuteTime": {
     "end_time": "2023-12-31T03:58:04.978664193Z",
     "start_time": "2023-12-31T03:58:04.966117261Z"
    },
    "collapsed": false
   },
   "source": [
    "### Genetic data preprocessing and final filtering"
   ]
  },
  {
   "cell_type": "code",
   "execution_count": 16,
   "metadata": {
    "ExecuteTime": {
     "end_time": "2024-01-02T01:03:06.246474256Z",
     "start_time": "2024-01-02T01:03:05.670354792Z"
    },
    "collapsed": false
   },
   "outputs": [
    {
     "data": {
      "text/html": [
       "<div>\n",
       "<style scoped>\n",
       "    .dataframe tbody tr th:only-of-type {\n",
       "        vertical-align: middle;\n",
       "    }\n",
       "\n",
       "    .dataframe tbody tr th {\n",
       "        vertical-align: top;\n",
       "    }\n",
       "\n",
       "    .dataframe thead th {\n",
       "        text-align: right;\n",
       "    }\n",
       "</style>\n",
       "<table border=\"1\" class=\"dataframe\">\n",
       "  <thead>\n",
       "    <tr style=\"text-align: right;\">\n",
       "      <th></th>\n",
       "      <th>GSM3704522</th>\n",
       "      <th>GSM3704523</th>\n",
       "      <th>GSM3704524</th>\n",
       "      <th>GSM3704525</th>\n",
       "      <th>GSM3704526</th>\n",
       "      <th>GSM3704527</th>\n",
       "      <th>GSM3704528</th>\n",
       "      <th>GSM3704529</th>\n",
       "      <th>GSM3704530</th>\n",
       "      <th>GSM3704531</th>\n",
       "      <th>...</th>\n",
       "      <th>GSM3705199</th>\n",
       "      <th>GSM3705200</th>\n",
       "      <th>GSM3705201</th>\n",
       "      <th>GSM3705202</th>\n",
       "      <th>GSM3705203</th>\n",
       "      <th>GSM3705204</th>\n",
       "      <th>GSM3705205</th>\n",
       "      <th>GSM3705206</th>\n",
       "      <th>GSM3705207</th>\n",
       "      <th>GSM3705208</th>\n",
       "    </tr>\n",
       "    <tr>\n",
       "      <th>ID</th>\n",
       "      <th></th>\n",
       "      <th></th>\n",
       "      <th></th>\n",
       "      <th></th>\n",
       "      <th></th>\n",
       "      <th></th>\n",
       "      <th></th>\n",
       "      <th></th>\n",
       "      <th></th>\n",
       "      <th></th>\n",
       "      <th></th>\n",
       "      <th></th>\n",
       "      <th></th>\n",
       "      <th></th>\n",
       "      <th></th>\n",
       "      <th></th>\n",
       "      <th></th>\n",
       "      <th></th>\n",
       "      <th></th>\n",
       "      <th></th>\n",
       "      <th></th>\n",
       "    </tr>\n",
       "  </thead>\n",
       "  <tbody>\n",
       "  </tbody>\n",
       "</table>\n",
       "<p>0 rows × 687 columns</p>\n",
       "</div>"
      ],
      "text/plain": [
       "Empty DataFrame\n",
       "Columns: [GSM3704522, GSM3704523, GSM3704524, GSM3704525, GSM3704526, GSM3704527, GSM3704528, GSM3704529, GSM3704530, GSM3704531, GSM3704532, GSM3704533, GSM3704534, GSM3704535, GSM3704536, GSM3704537, GSM3704538, GSM3704539, GSM3704540, GSM3704541, GSM3704542, GSM3704543, GSM3704544, GSM3704545, GSM3704546, GSM3704547, GSM3704548, GSM3704549, GSM3704550, GSM3704551, GSM3704552, GSM3704553, GSM3704554, GSM3704555, GSM3704556, GSM3704557, GSM3704558, GSM3704559, GSM3704560, GSM3704561, GSM3704562, GSM3704563, GSM3704564, GSM3704565, GSM3704566, GSM3704567, GSM3704568, GSM3704569, GSM3704570, GSM3704571, GSM3704572, GSM3704573, GSM3704574, GSM3704575, GSM3704576, GSM3704577, GSM3704578, GSM3704579, GSM3704580, GSM3704581, GSM3704582, GSM3704583, GSM3704584, GSM3704585, GSM3704586, GSM3704587, GSM3704588, GSM3704589, GSM3704590, GSM3704591, GSM3704592, GSM3704593, GSM3704594, GSM3704595, GSM3704596, GSM3704597, GSM3704598, GSM3704599, GSM3704600, GSM3704601, GSM3704602, GSM3704603, GSM3704604, GSM3704605, GSM3704606, GSM3704607, GSM3704608, GSM3704609, GSM3704610, GSM3704611, GSM3704612, GSM3704613, GSM3704614, GSM3704615, GSM3704616, GSM3704617, GSM3704618, GSM3704619, GSM3704620, GSM3704621, ...]\n",
       "Index: []\n",
       "\n",
       "[0 rows x 687 columns]"
      ]
     },
     "execution_count": 16,
     "metadata": {},
     "output_type": "execute_result"
    }
   ],
   "source": [
    "genetic_data = get_genetic_data(matrix_file)\n",
    "genetic_data.head()"
   ]
  },
  {
   "cell_type": "code",
   "execution_count": 15,
   "metadata": {
    "ExecuteTime": {
     "end_time": "2024-01-02T01:03:06.250833943Z",
     "start_time": "2024-01-02T01:03:06.246758837Z"
    },
    "collapsed": false
   },
   "outputs": [
    {
     "data": {
      "text/plain": [
       "['cg00000029',\n",
       " 'cg00000108',\n",
       " 'cg00000109',\n",
       " 'cg00000165',\n",
       " 'cg00000236',\n",
       " 'cg00000289',\n",
       " 'cg00000292',\n",
       " 'cg00000321',\n",
       " 'cg00000363',\n",
       " 'cg00000622',\n",
       " 'cg00000658',\n",
       " 'cg00000714',\n",
       " 'cg00000721',\n",
       " 'cg00000734',\n",
       " 'cg00000769',\n",
       " 'cg00000807',\n",
       " 'cg00000884',\n",
       " 'cg00000905',\n",
       " 'cg00000924',\n",
       " 'cg00000948']"
      ]
     },
     "execution_count": 15,
     "metadata": {},
     "output_type": "execute_result"
    }
   ],
   "source": [
    "gene_row_ids = genetic_data['ID'][:20].tolist()\n",
    "gene_row_ids"
   ]
  },
  {
   "cell_type": "markdown",
   "metadata": {
    "ExecuteTime": {
     "end_time": "2023-12-31T03:30:41.595335164Z",
     "start_time": "2023-12-31T03:30:41.513232329Z"
    },
    "collapsed": false
   },
   "source": [
    "Check if the gene dataset requires mapping to get the gene symbols corresponding to each data row."
   ]
  },
  {
   "cell_type": "markdown",
   "metadata": {
    "collapsed": false
   },
   "source": [
    "Reference prompt:"
   ]
  },
  {
   "cell_type": "code",
   "execution_count": 16,
   "metadata": {
    "ExecuteTime": {
     "end_time": "2024-01-02T01:03:07.586216481Z",
     "start_time": "2024-01-02T01:03:07.574527035Z"
    },
    "collapsed": false
   },
   "outputs": [
    {
     "data": {
      "text/plain": [
       "\"\\nBelow are the row headers of a gene expression dataset in GEO. Based on your biomedical knowledge, are they human gene symbols, or are they some other identifiers that need to be mapped to gene symbols? Your answer should be concluded by starting a new line and strictly following this format:\\nrequires_gene_mapping = (True or False)\\n\\nRow headers:\\n['cg00000029', 'cg00000108', 'cg00000109', 'cg00000165', 'cg00000236', 'cg00000289', 'cg00000292', 'cg00000321', 'cg00000363', 'cg00000622', 'cg00000658', 'cg00000714', 'cg00000721', 'cg00000734', 'cg00000769', 'cg00000807', 'cg00000884', 'cg00000905', 'cg00000924', 'cg00000948']\\n\""
      ]
     },
     "execution_count": 16,
     "metadata": {},
     "output_type": "execute_result"
    }
   ],
   "source": [
    "f'''\n",
    "Below are the row headers of a gene expression dataset in GEO. Based on your biomedical knowledge, are they human gene symbols, or are they some other identifiers that need to be mapped to gene symbols? Your answer should be concluded by starting a new line and strictly following this format:\n",
    "requires_gene_mapping = (True or False)\n",
    "\n",
    "Row headers:\n",
    "{gene_row_ids}\n",
    "'''"
   ]
  },
  {
   "cell_type": "markdown",
   "metadata": {
    "collapsed": false
   },
   "source": [
    "If not required, jump directly to the gene normalization step"
   ]
  },
  {
   "cell_type": "code",
   "execution_count": 17,
   "metadata": {
    "ExecuteTime": {
     "end_time": "2024-01-02T01:03:08.263712538Z",
     "start_time": "2024-01-02T01:03:08.260656314Z"
    },
    "collapsed": false
   },
   "outputs": [],
   "source": [
    "requires_gene_mapping = True"
   ]
  },
  {
   "cell_type": "code",
   "execution_count": 18,
   "metadata": {
    "ExecuteTime": {
     "end_time": "2024-01-02T01:03:33.822550310Z",
     "start_time": "2024-01-02T01:03:08.648958912Z"
    },
    "collapsed": false
   },
   "outputs": [
    {
     "name": "stdout",
     "output_type": "stream",
     "text": [
      "{'ID': ['cg00035864', 'cg00050873', 'cg00061679', 'cg00063477', 'cg00121626'], 'Name': ['cg00035864', 'cg00050873', 'cg00061679', 'cg00063477', 'cg00121626'], 'AddressA_ID': ['31729416', '32735311', '28780415', '16712347', '19779393'], 'AlleleA_ProbeSeq': ['AAAACACTAACAATCTTATCCACATAAACCCTTAAATTTATCTCAAATTC', 'ACAAAAAAACAACACACAACTATAATAATTTTTAAAATAAATAAACCCCA', 'AAAACATTAAAAAACTAATTCACTACTATTTAATTACTTTATTTTCCATC', 'TATTCTTCCACACAAAATACTAAACRTATATTTACAAAAATACTTCCATC', 'AAAACTAATAAAAATAACTTACAAACCAAATACTATACCCTACAACTCTC'], 'AddressB_ID': [nan, '31717405', nan, nan, nan], 'AlleleB_ProbeSeq': [nan, 'ACGAAAAAACAACGCACAACTATAATAATTTTTAAAATAAATAAACCCCG', nan, nan, nan], 'Infinium_Design_Type': ['II', 'I', 'II', 'II', 'II'], 'Next_Base': [nan, 'A', nan, nan, nan], 'Color_Channel': [nan, 'Red', nan, nan, nan], 'Forward_Sequence': ['AATCCAAAGATGATGGAGGAGTGCCCGCTCATGATGTGAAGTACCTGCTCAGCTGGAAAC[CG]AATTTGAGATAAATTCAAGGGTCTATGTGGACAAGACTGCTAGTGTCTCTCTCTGGATTG', 'TATCTCTGTCTGGCGAGGAGGCAACGCACAACTGTGGTGGTTTTTGGAGTGGGTGGACCC[CG]GCCAAGACGGCCTGGGCTGACCAGAGACGGGAGGCAGAAAAAGTGGGCAGGTGGTTGCAG', 'TCAACAAATGAGAGACATTGAAGAACTAATTCACTACTATTTGGTTACTTTATTTTCCAT[CG]AAGAAAACCTCTTTTTAAAAACTAACACATAAATAAAATGAACGAAGAACAAACTAAACG', 'CTCCTGTACTTGTTCATTAAATAATGATTCCTTGGATATACCAAGTCTGGATAGCGGATT[CG]ATGGAAGCATTTTTGTAAATATACGTTCAGTATTTTGTGTGGAAGAACACAATCTAGCTG', 'AGGTGAATGAAGAGACTAATGGGAGTGGCTTGCAAGCCAGGTACTGTGCCCTACAACTCT[CG]CGCTGCCACAAAAAGCCAATTAACGAAGCAAACTGTTTTATCTTTTCCTCTCCCCAGAAG'], 'Genome_Build': [37.0, 37.0, 37.0, 37.0, 37.0], 'CHR': ['Y', 'Y', 'Y', 'Y', 'Y'], 'MAPINFO': [8553009.0, 9363356.0, 25314171.0, 22741795.0, 21664296.0], 'SourceSeq': ['AGACACTAGCAGTCTTGTCCACATAGACCCTTGAATTTATCTCAAATTCG', 'CGGGGTCCACCCACTCCAAAAACCACCACAGTTGTGCGTTGCCTCCTCGC', 'CGATGGAAAATAAAGTAACCAAATAGTAGTGAATTAGTTCTTCAATGTCT', 'CGATGGAAGCATTTTTGTAAATATACGTTCAGTATTTTGTGTGGAAGAAC', 'AGACTAATGGGAGTGGCTTGCAAGCCAGGTACTGTGCCCTACAACTCTCG'], 'Chromosome_36': ['Y', 'Y', 'Y', 'Y', 'Y'], 'Coordinate_36': ['8613009', '9973356', '23723559', '21151183', '20123684'], 'Strand': ['F', 'R', 'R', 'F', 'R'], 'Probe_SNPs': [nan, nan, nan, 'rs9341313', nan], 'Probe_SNPs_10': [nan, nan, nan, 'rs13447379', nan], 'Random_Loci': [nan, nan, nan, nan, nan], 'Methyl27_Loci': [nan, nan, nan, nan, nan], 'UCSC_RefGene_Name': ['TTTY18', 'TSPY4;FAM197Y2', 'DAZ1;DAZ4;DAZ4', 'EIF1AY', 'BCORL2'], 'UCSC_RefGene_Accession': ['NR_001550', 'NM_001164471;NR_001553', 'NM_004081;NM_020420;NM_001005375', 'NM_004681', 'NR_002923'], 'UCSC_RefGene_Group': ['TSS1500', 'Body;TSS1500', 'Body;Body;Body', 'Body', 'Body'], 'UCSC_CpG_Islands_Name': [nan, 'chrY:9363680-9363943', nan, 'chrY:22737825-22738052', 'chrY:21664481-21665063'], 'Relation_to_UCSC_CpG_Island': [nan, 'N_Shore', nan, 'S_Shelf', 'N_Shore'], 'Phantom': [nan, nan, nan, nan, nan], 'DMR': [nan, nan, nan, nan, nan], 'Enhancer': [nan, nan, nan, nan, nan], 'HMM_Island': [nan, 'Y:9973136-9976273', nan, nan, nan], 'Regulatory_Feature_Name': [nan, nan, nan, nan, nan], 'Regulatory_Feature_Group': [nan, nan, nan, nan, nan], 'DHS': [nan, nan, nan, nan, nan], 'RANGE_START': [8553009.0, 9363356.0, 25314171.0, 22741795.0, 21664296.0], 'RANGE_END': [8553132.0, 9363479.0, 25314294.0, 22741918.0, 21664419.0], 'RANGE_GB': ['NC_000024.9', 'NC_000024.9', 'NC_000024.9', 'NC_000024.9', 'NC_000024.9'], 'SPOT_ID': [nan, nan, nan, nan, nan]}\n"
     ]
    }
   ],
   "source": [
    "if requires_gene_mapping:\n",
    "    gene_annotation = get_gene_annotation(soft_file)[0]\n",
    "    gene_annotation_summary = preview_df(gene_annotation)\n",
    "    print(gene_annotation_summary)"
   ]
  },
  {
   "cell_type": "markdown",
   "metadata": {
    "ExecuteTime": {
     "end_time": "2023-12-31T03:58:04.978931927Z",
     "start_time": "2023-12-31T03:58:04.966328339Z"
    },
    "collapsed": false
   },
   "source": [
    "Observe the first few cells in the ID column of the gene annotation dataframe, to find the names of columns that store the gene probe IDs and gene symbols respectively.\n",
    "Reference prompt:"
   ]
  },
  {
   "cell_type": "code",
   "execution_count": 19,
   "metadata": {
    "ExecuteTime": {
     "end_time": "2024-01-02T01:03:33.822912446Z",
     "start_time": "2024-01-02T01:03:33.804491826Z"
    },
    "collapsed": false
   },
   "outputs": [
    {
     "name": "stdout",
     "output_type": "stream",
     "text": [
      "\n",
      "    As a biomedical research team, we extracted the gene annotation data from a series in the GEO database, and saved it to a Python dictionary. Please read the dictionary, and decide which key stores the ID of the probe, and which key stores the gene symbols. Please strict follow this format in your answer:\n",
      "    probe_name_key = 'key_name1'\n",
      "    gene_name_key = 'key_name2'\n",
      "\n",
      "    Gene annotation dictionary:\n",
      "    {'ID': ['cg00035864', 'cg00050873', 'cg00061679', 'cg00063477', 'cg00121626'], 'Name': ['cg00035864', 'cg00050873', 'cg00061679', 'cg00063477', 'cg00121626'], 'AddressA_ID': ['31729416', '32735311', '28780415', '16712347', '19779393'], 'AlleleA_ProbeSeq': ['AAAACACTAACAATCTTATCCACATAAACCCTTAAATTTATCTCAAATTC', 'ACAAAAAAACAACACACAACTATAATAATTTTTAAAATAAATAAACCCCA', 'AAAACATTAAAAAACTAATTCACTACTATTTAATTACTTTATTTTCCATC', 'TATTCTTCCACACAAAATACTAAACRTATATTTACAAAAATACTTCCATC', 'AAAACTAATAAAAATAACTTACAAACCAAATACTATACCCTACAACTCTC'], 'AddressB_ID': [nan, '31717405', nan, nan, nan], 'AlleleB_ProbeSeq': [nan, 'ACGAAAAAACAACGCACAACTATAATAATTTTTAAAATAAATAAACCCCG', nan, nan, nan], 'Infinium_Design_Type': ['II', 'I', 'II', 'II', 'II'], 'Next_Base': [nan, 'A', nan, nan, nan], 'Color_Channel': [nan, 'Red', nan, nan, nan], 'Forward_Sequence': ['AATCCAAAGATGATGGAGGAGTGCCCGCTCATGATGTGAAGTACCTGCTCAGCTGGAAAC[CG]AATTTGAGATAAATTCAAGGGTCTATGTGGACAAGACTGCTAGTGTCTCTCTCTGGATTG', 'TATCTCTGTCTGGCGAGGAGGCAACGCACAACTGTGGTGGTTTTTGGAGTGGGTGGACCC[CG]GCCAAGACGGCCTGGGCTGACCAGAGACGGGAGGCAGAAAAAGTGGGCAGGTGGTTGCAG', 'TCAACAAATGAGAGACATTGAAGAACTAATTCACTACTATTTGGTTACTTTATTTTCCAT[CG]AAGAAAACCTCTTTTTAAAAACTAACACATAAATAAAATGAACGAAGAACAAACTAAACG', 'CTCCTGTACTTGTTCATTAAATAATGATTCCTTGGATATACCAAGTCTGGATAGCGGATT[CG]ATGGAAGCATTTTTGTAAATATACGTTCAGTATTTTGTGTGGAAGAACACAATCTAGCTG', 'AGGTGAATGAAGAGACTAATGGGAGTGGCTTGCAAGCCAGGTACTGTGCCCTACAACTCT[CG]CGCTGCCACAAAAAGCCAATTAACGAAGCAAACTGTTTTATCTTTTCCTCTCCCCAGAAG'], 'Genome_Build': [37.0, 37.0, 37.0, 37.0, 37.0], 'CHR': ['Y', 'Y', 'Y', 'Y', 'Y'], 'MAPINFO': [8553009.0, 9363356.0, 25314171.0, 22741795.0, 21664296.0], 'SourceSeq': ['AGACACTAGCAGTCTTGTCCACATAGACCCTTGAATTTATCTCAAATTCG', 'CGGGGTCCACCCACTCCAAAAACCACCACAGTTGTGCGTTGCCTCCTCGC', 'CGATGGAAAATAAAGTAACCAAATAGTAGTGAATTAGTTCTTCAATGTCT', 'CGATGGAAGCATTTTTGTAAATATACGTTCAGTATTTTGTGTGGAAGAAC', 'AGACTAATGGGAGTGGCTTGCAAGCCAGGTACTGTGCCCTACAACTCTCG'], 'Chromosome_36': ['Y', 'Y', 'Y', 'Y', 'Y'], 'Coordinate_36': ['8613009', '9973356', '23723559', '21151183', '20123684'], 'Strand': ['F', 'R', 'R', 'F', 'R'], 'Probe_SNPs': [nan, nan, nan, 'rs9341313', nan], 'Probe_SNPs_10': [nan, nan, nan, 'rs13447379', nan], 'Random_Loci': [nan, nan, nan, nan, nan], 'Methyl27_Loci': [nan, nan, nan, nan, nan], 'UCSC_RefGene_Name': ['TTTY18', 'TSPY4;FAM197Y2', 'DAZ1;DAZ4;DAZ4', 'EIF1AY', 'BCORL2'], 'UCSC_RefGene_Accession': ['NR_001550', 'NM_001164471;NR_001553', 'NM_004081;NM_020420;NM_001005375', 'NM_004681', 'NR_002923'], 'UCSC_RefGene_Group': ['TSS1500', 'Body;TSS1500', 'Body;Body;Body', 'Body', 'Body'], 'UCSC_CpG_Islands_Name': [nan, 'chrY:9363680-9363943', nan, 'chrY:22737825-22738052', 'chrY:21664481-21665063'], 'Relation_to_UCSC_CpG_Island': [nan, 'N_Shore', nan, 'S_Shelf', 'N_Shore'], 'Phantom': [nan, nan, nan, nan, nan], 'DMR': [nan, nan, nan, nan, nan], 'Enhancer': [nan, nan, nan, nan, nan], 'HMM_Island': [nan, 'Y:9973136-9976273', nan, nan, nan], 'Regulatory_Feature_Name': [nan, nan, nan, nan, nan], 'Regulatory_Feature_Group': [nan, nan, nan, nan, nan], 'DHS': [nan, nan, nan, nan, nan], 'RANGE_START': [8553009.0, 9363356.0, 25314171.0, 22741795.0, 21664296.0], 'RANGE_END': [8553132.0, 9363479.0, 25314294.0, 22741918.0, 21664419.0], 'RANGE_GB': ['NC_000024.9', 'NC_000024.9', 'NC_000024.9', 'NC_000024.9', 'NC_000024.9'], 'SPOT_ID': [nan, nan, nan, nan, nan]}\n",
      "    \n"
     ]
    }
   ],
   "source": [
    "if requires_gene_mapping:\n",
    "    print(f'''\n",
    "    As a biomedical research team, we extracted the gene annotation data from a series in the GEO database, and saved it to a Python dictionary. Please read the dictionary, and decide which key stores the ID of the probe, and which key stores the gene symbols. Please strict follow this format in your answer:\n",
    "    probe_name_key = 'key_name1'\n",
    "    gene_name_key = 'key_name2'\n",
    "\n",
    "    Gene annotation dictionary:\n",
    "    {gene_annotation_summary}\n",
    "    ''')"
   ]
  },
  {
   "cell_type": "code",
   "execution_count": 20,
   "metadata": {
    "ExecuteTime": {
     "end_time": "2024-01-02T01:03:35.113359369Z",
     "start_time": "2024-01-02T01:03:33.804666371Z"
    },
    "collapsed": false
   },
   "outputs": [],
   "source": [
    "if requires_gene_mapping:\n",
    "    probe_id_key = 'ID'\n",
    "    gene_symb_key = 'UCSC_RefGene_Name'\n",
    "    gene_mapping = get_gene_mapping(gene_annotation, probe_id_key, gene_symb_key)\n",
    "    genetic_data = apply_gene_mapping(genetic_data, gene_mapping)"
   ]
  },
  {
   "cell_type": "code",
   "execution_count": 21,
   "metadata": {
    "ExecuteTime": {
     "end_time": "2024-01-02T01:03:35.156584675Z",
     "start_time": "2024-01-02T01:03:35.114652593Z"
    },
    "collapsed": false
   },
   "outputs": [],
   "source": [
    "if NORMALIZE_GENE:\n",
    "    genetic_data = normalize_gene_symbols_in_index(genetic_data)"
   ]
  },
  {
   "cell_type": "code",
   "execution_count": 22,
   "metadata": {
    "ExecuteTime": {
     "end_time": "2024-01-02T01:03:35.158174021Z",
     "start_time": "2024-01-02T01:03:35.156777134Z"
    },
    "collapsed": false
   },
   "outputs": [],
   "source": [
    "merged_data = geo_merge_clinical_genetic_data(selected_clinical_data, genetic_data)\n",
    "# The preprocessing runs through, which means is_available should be True\n",
    "is_available = True"
   ]
  },
  {
   "cell_type": "code",
   "execution_count": 23,
   "metadata": {
    "ExecuteTime": {
     "end_time": "2024-01-02T01:03:35.158378853Z",
     "start_time": "2024-01-02T01:03:35.156895194Z"
    },
    "collapsed": false
   },
   "outputs": [
    {
     "name": "stdout",
     "output_type": "stream",
     "text": [
      "The merged dataset contains 15 samples.\n"
     ]
    }
   ],
   "source": [
    "print(f\"The merged dataset contains {len(merged_data)} samples.\")"
   ]
  },
  {
   "cell_type": "code",
   "execution_count": 24,
   "metadata": {
    "ExecuteTime": {
     "end_time": "2024-01-02T01:03:35.158646754Z",
     "start_time": "2024-01-02T01:03:35.156975304Z"
    },
    "collapsed": false
   },
   "outputs": [
    {
     "name": "stdout",
     "output_type": "stream",
     "text": [
      "For the feature 'Epilepsy', the least common label is '1.0' with 6 occurrences. This represents 40.00% of the dataset.\n",
      "The distribution of the feature 'Epilepsy' in this dataset is fine.\n",
      "\n",
      "Quartiles for 'Age':\n",
      "  25%: 24.5\n",
      "  50% (Median): 39.0\n",
      "  75%: 60.5\n",
      "Min: 13.0\n",
      "Max: 77.0\n",
      "The distribution of the feature 'Age' in this dataset is fine.\n",
      "\n",
      "For the feature 'Gender', the least common label is '0.0' with 5 occurrences. This represents 33.33% of the dataset.\n",
      "The distribution of the feature 'Gender' in this dataset is fine.\n",
      "\n"
     ]
    },
    {
     "data": {
      "text/plain": [
       "False"
      ]
     },
     "execution_count": 24,
     "metadata": {},
     "output_type": "execute_result"
    }
   ],
   "source": [
    "is_trait_biased, merged_data = judge_and_remove_biased_features(merged_data, TRAIT, trait_type=trait_type)\n",
    "is_trait_biased"
   ]
  },
  {
   "cell_type": "code",
   "execution_count": 25,
   "metadata": {
    "ExecuteTime": {
     "end_time": "2024-01-02T01:03:35.158803015Z",
     "start_time": "2024-01-02T01:03:35.157063388Z"
    },
    "collapsed": false
   },
   "outputs": [
    {
     "name": "stdout",
     "output_type": "stream",
     "text": [
      "A new JSON file was created at: ../../output1/Haoyang/Epilepsy/cohort_info.json\n"
     ]
    }
   ],
   "source": [
    "save_cohort_info(cohort, JSON_PATH, is_available, is_trait_biased, merged_data, note='')"
   ]
  },
  {
   "cell_type": "code",
   "execution_count": 26,
   "metadata": {
    "ExecuteTime": {
     "end_time": "2024-01-02T01:03:36.004312476Z",
     "start_time": "2024-01-02T01:03:35.157165158Z"
    },
    "collapsed": false
   },
   "outputs": [],
   "source": [
    "merged_data.head()\n",
    "if not is_trait_biased:\n",
    "    merged_data.to_csv(os.path.join(OUTPUT_DIR, cohort+'.csv'), index=False)"
   ]
  },
  {
   "cell_type": "markdown",
   "metadata": {
    "ExecuteTime": {
     "end_time": "2023-12-31T03:58:22.271683755Z",
     "start_time": "2023-12-31T03:58:22.246557674Z"
    },
    "id": "-MTPhRGxJV7I"
   },
   "source": [
    "### 3. Do regression & Cross Validation"
   ]
  },
  {
   "cell_type": "code",
   "execution_count": 41,
   "metadata": {
    "ExecuteTime": {
     "end_time": "2024-01-02T01:03:36.048788605Z",
     "start_time": "2024-01-02T01:03:36.005925887Z"
    },
    "collapsed": false
   },
   "outputs": [],
   "source": [
    "from utils import *"
   ]
  },
  {
   "cell_type": "code",
   "execution_count": 42,
   "metadata": {
    "ExecuteTime": {
     "end_time": "2024-01-02T01:03:36.049183603Z",
     "start_time": "2024-01-02T01:03:36.048440305Z"
    },
    "collapsed": false
   },
   "outputs": [
    {
     "data": {
      "text/plain": [
       "'Xena'"
      ]
     },
     "execution_count": 42,
     "metadata": {},
     "output_type": "execute_result"
    }
   ],
   "source": [
    "best_cohort, ranked_df = filter_and_rank_cohorts(JSON_PATH, 'has_age')\n",
    "best_cohort"
   ]
  },
  {
   "cell_type": "code",
   "execution_count": 43,
   "metadata": {
    "ExecuteTime": {
     "end_time": "2024-01-02T01:03:36.049430313Z",
     "start_time": "2024-01-02T01:03:36.048984361Z"
    },
    "collapsed": false
   },
   "outputs": [
    {
     "data": {
      "text/html": [
       "<div>\n",
       "<style scoped>\n",
       "    .dataframe tbody tr th:only-of-type {\n",
       "        vertical-align: middle;\n",
       "    }\n",
       "\n",
       "    .dataframe tbody tr th {\n",
       "        vertical-align: top;\n",
       "    }\n",
       "\n",
       "    .dataframe thead th {\n",
       "        text-align: right;\n",
       "    }\n",
       "</style>\n",
       "<table border=\"1\" class=\"dataframe\">\n",
       "  <thead>\n",
       "    <tr style=\"text-align: right;\">\n",
       "      <th></th>\n",
       "      <th>cohort_id</th>\n",
       "      <th>is_usable</th>\n",
       "      <th>is_available</th>\n",
       "      <th>is_biased</th>\n",
       "      <th>has_age</th>\n",
       "      <th>has_gender</th>\n",
       "      <th>sample_size</th>\n",
       "      <th>note</th>\n",
       "    </tr>\n",
       "  </thead>\n",
       "  <tbody>\n",
       "    <tr>\n",
       "      <th>0</th>\n",
       "      <td>Xena</td>\n",
       "      <td>True</td>\n",
       "      <td>True</td>\n",
       "      <td>False</td>\n",
       "      <td>True</td>\n",
       "      <td>True</td>\n",
       "      <td>1100</td>\n",
       "      <td></td>\n",
       "    </tr>\n",
       "  </tbody>\n",
       "</table>\n",
       "</div>"
      ],
      "text/plain": [
       "  cohort_id  is_usable  is_available  is_biased  has_age  has_gender  \\\n",
       "0      Xena       True          True      False     True        True   \n",
       "\n",
       "   sample_size note  \n",
       "0         1100       "
      ]
     },
     "execution_count": 43,
     "metadata": {},
     "output_type": "execute_result"
    }
   ],
   "source": [
    "ranked_df.head()"
   ]
  },
  {
   "cell_type": "code",
   "execution_count": 44,
   "metadata": {
    "ExecuteTime": {
     "end_time": "2024-01-02T01:03:36.345375576Z",
     "start_time": "2024-01-02T01:03:36.049289340Z"
    },
    "collapsed": false
   },
   "outputs": [],
   "source": [
    "merged_data = pd.read_csv(os.path.join(OUTPUT_DIR, best_cohort+'.csv'))"
   ]
  },
  {
   "cell_type": "code",
   "execution_count": 45,
   "metadata": {
    "ExecuteTime": {
     "end_time": "2024-01-02T01:03:36.400788548Z",
     "start_time": "2024-01-02T01:03:36.355439168Z"
    },
    "collapsed": false
   },
   "outputs": [
    {
     "data": {
      "text/html": [
       "<div>\n",
       "<style scoped>\n",
       "    .dataframe tbody tr th:only-of-type {\n",
       "        vertical-align: middle;\n",
       "    }\n",
       "\n",
       "    .dataframe tbody tr th {\n",
       "        vertical-align: top;\n",
       "    }\n",
       "\n",
       "    .dataframe thead th {\n",
       "        text-align: right;\n",
       "    }\n",
       "</style>\n",
       "<table border=\"1\" class=\"dataframe\">\n",
       "  <thead>\n",
       "    <tr style=\"text-align: right;\">\n",
       "      <th></th>\n",
       "      <th>Lung-Cancer</th>\n",
       "      <th>Age</th>\n",
       "      <th>Gender</th>\n",
       "      <th>ARHGEF10L</th>\n",
       "      <th>HIF3A</th>\n",
       "      <th>RNF17</th>\n",
       "      <th>RNF10</th>\n",
       "      <th>RNF11</th>\n",
       "      <th>RNF13</th>\n",
       "      <th>GTF2IP1</th>\n",
       "      <th>...</th>\n",
       "      <th>SLC7A10</th>\n",
       "      <th>PLA2G2C</th>\n",
       "      <th>TULP2</th>\n",
       "      <th>NPY5R</th>\n",
       "      <th>GNGT2</th>\n",
       "      <th>GNGT1</th>\n",
       "      <th>TULP3</th>\n",
       "      <th>BCL6B</th>\n",
       "      <th>GSTK1</th>\n",
       "      <th>SELP</th>\n",
       "    </tr>\n",
       "  </thead>\n",
       "  <tbody>\n",
       "    <tr>\n",
       "      <th>0</th>\n",
       "      <td>1</td>\n",
       "      <td>70.0</td>\n",
       "      <td>1.0</td>\n",
       "      <td>-0.056592</td>\n",
       "      <td>2.128674</td>\n",
       "      <td>-0.531035</td>\n",
       "      <td>-0.185972</td>\n",
       "      <td>-0.190878</td>\n",
       "      <td>-0.11891</td>\n",
       "      <td>-0.659794</td>\n",
       "      <td>...</td>\n",
       "      <td>3.634614</td>\n",
       "      <td>0.677218</td>\n",
       "      <td>0.015022</td>\n",
       "      <td>-1.155117</td>\n",
       "      <td>0.528367</td>\n",
       "      <td>2.75061</td>\n",
       "      <td>0.428423</td>\n",
       "      <td>-0.195527</td>\n",
       "      <td>-0.324695</td>\n",
       "      <td>0.193167</td>\n",
       "    </tr>\n",
       "    <tr>\n",
       "      <th>1</th>\n",
       "      <td>1</td>\n",
       "      <td>67.0</td>\n",
       "      <td>1.0</td>\n",
       "      <td>-0.569692</td>\n",
       "      <td>-0.318126</td>\n",
       "      <td>-0.531035</td>\n",
       "      <td>0.237428</td>\n",
       "      <td>0.011822</td>\n",
       "      <td>-0.00611</td>\n",
       "      <td>1.018406</td>\n",
       "      <td>...</td>\n",
       "      <td>4.908014</td>\n",
       "      <td>0.888518</td>\n",
       "      <td>-0.031778</td>\n",
       "      <td>-0.393117</td>\n",
       "      <td>1.632467</td>\n",
       "      <td>2.33551</td>\n",
       "      <td>-0.145577</td>\n",
       "      <td>-0.276027</td>\n",
       "      <td>-1.219395</td>\n",
       "      <td>1.850967</td>\n",
       "    </tr>\n",
       "    <tr>\n",
       "      <th>2</th>\n",
       "      <td>1</td>\n",
       "      <td>79.0</td>\n",
       "      <td>0.0</td>\n",
       "      <td>-0.899992</td>\n",
       "      <td>-0.918126</td>\n",
       "      <td>-0.531035</td>\n",
       "      <td>-0.621472</td>\n",
       "      <td>-0.454178</td>\n",
       "      <td>0.58719</td>\n",
       "      <td>-0.198894</td>\n",
       "      <td>...</td>\n",
       "      <td>0.489514</td>\n",
       "      <td>-0.086682</td>\n",
       "      <td>-0.748878</td>\n",
       "      <td>-1.173917</td>\n",
       "      <td>1.966367</td>\n",
       "      <td>-1.28139</td>\n",
       "      <td>-0.374877</td>\n",
       "      <td>0.714373</td>\n",
       "      <td>0.112305</td>\n",
       "      <td>-0.532833</td>\n",
       "    </tr>\n",
       "    <tr>\n",
       "      <th>3</th>\n",
       "      <td>1</td>\n",
       "      <td>68.0</td>\n",
       "      <td>1.0</td>\n",
       "      <td>0.667508</td>\n",
       "      <td>3.895974</td>\n",
       "      <td>-0.221535</td>\n",
       "      <td>-0.367272</td>\n",
       "      <td>0.131822</td>\n",
       "      <td>0.97629</td>\n",
       "      <td>-0.494994</td>\n",
       "      <td>...</td>\n",
       "      <td>5.730914</td>\n",
       "      <td>-0.086682</td>\n",
       "      <td>1.013722</td>\n",
       "      <td>-1.587117</td>\n",
       "      <td>0.359267</td>\n",
       "      <td>2.59051</td>\n",
       "      <td>0.806623</td>\n",
       "      <td>0.367373</td>\n",
       "      <td>-0.494595</td>\n",
       "      <td>-1.062233</td>\n",
       "    </tr>\n",
       "    <tr>\n",
       "      <th>4</th>\n",
       "      <td>1</td>\n",
       "      <td>66.0</td>\n",
       "      <td>1.0</td>\n",
       "      <td>-0.316892</td>\n",
       "      <td>2.380374</td>\n",
       "      <td>0.156865</td>\n",
       "      <td>0.232828</td>\n",
       "      <td>0.054822</td>\n",
       "      <td>0.27059</td>\n",
       "      <td>0.128606</td>\n",
       "      <td>...</td>\n",
       "      <td>4.163014</td>\n",
       "      <td>0.601218</td>\n",
       "      <td>-0.060978</td>\n",
       "      <td>-0.435417</td>\n",
       "      <td>1.111467</td>\n",
       "      <td>-1.28139</td>\n",
       "      <td>-0.128477</td>\n",
       "      <td>1.469373</td>\n",
       "      <td>0.194605</td>\n",
       "      <td>1.404667</td>\n",
       "    </tr>\n",
       "  </tbody>\n",
       "</table>\n",
       "<p>5 rows × 17342 columns</p>\n",
       "</div>"
      ],
      "text/plain": [
       "   Lung-Cancer   Age  Gender  ARHGEF10L     HIF3A     RNF17     RNF10  \\\n",
       "0            1  70.0     1.0  -0.056592  2.128674 -0.531035 -0.185972   \n",
       "1            1  67.0     1.0  -0.569692 -0.318126 -0.531035  0.237428   \n",
       "2            1  79.0     0.0  -0.899992 -0.918126 -0.531035 -0.621472   \n",
       "3            1  68.0     1.0   0.667508  3.895974 -0.221535 -0.367272   \n",
       "4            1  66.0     1.0  -0.316892  2.380374  0.156865  0.232828   \n",
       "\n",
       "      RNF11    RNF13   GTF2IP1  ...   SLC7A10   PLA2G2C     TULP2     NPY5R  \\\n",
       "0 -0.190878 -0.11891 -0.659794  ...  3.634614  0.677218  0.015022 -1.155117   \n",
       "1  0.011822 -0.00611  1.018406  ...  4.908014  0.888518 -0.031778 -0.393117   \n",
       "2 -0.454178  0.58719 -0.198894  ...  0.489514 -0.086682 -0.748878 -1.173917   \n",
       "3  0.131822  0.97629 -0.494994  ...  5.730914 -0.086682  1.013722 -1.587117   \n",
       "4  0.054822  0.27059  0.128606  ...  4.163014  0.601218 -0.060978 -0.435417   \n",
       "\n",
       "      GNGT2    GNGT1     TULP3     BCL6B     GSTK1      SELP  \n",
       "0  0.528367  2.75061  0.428423 -0.195527 -0.324695  0.193167  \n",
       "1  1.632467  2.33551 -0.145577 -0.276027 -1.219395  1.850967  \n",
       "2  1.966367 -1.28139 -0.374877  0.714373  0.112305 -0.532833  \n",
       "3  0.359267  2.59051  0.806623  0.367373 -0.494595 -1.062233  \n",
       "4  1.111467 -1.28139 -0.128477  1.469373  0.194605  1.404667  \n",
       "\n",
       "[5 rows x 17342 columns]"
      ]
     },
     "execution_count": 45,
     "metadata": {},
     "output_type": "execute_result"
    }
   ],
   "source": [
    "merged_data.head()"
   ]
  },
  {
   "cell_type": "code",
   "execution_count": 46,
   "metadata": {
    "ExecuteTime": {
     "end_time": "2024-01-02T01:03:36.401002087Z",
     "start_time": "2024-01-02T01:03:36.400659608Z"
    },
    "collapsed": false
   },
   "outputs": [],
   "source": [
    "# If both age and gender features are available, select 'age' as the condition.\n",
    "condition = 'Age'\n",
    "# Remove the other condition to prevent interference.\n",
    "merged_data = merged_data.drop(columns=['Gender'], errors='ignore').astype('float')"
   ]
  },
  {
   "cell_type": "code",
   "execution_count": 47,
   "metadata": {
    "ExecuteTime": {
     "end_time": "2024-01-02T01:03:36.403035823Z",
     "start_time": "2024-01-02T01:03:36.401081946Z"
    },
    "collapsed": false
   },
   "outputs": [],
   "source": [
    "X = merged_data.drop(columns=[TRAIT, condition]).values\n",
    "Y = merged_data[TRAIT].values\n",
    "Z = merged_data[condition].values"
   ]
  },
  {
   "cell_type": "markdown",
   "metadata": {
    "collapsed": false
   },
   "source": [
    "Select the appropriate regression model depending on whether the dataset shows batch effect."
   ]
  },
  {
   "cell_type": "code",
   "execution_count": 48,
   "metadata": {
    "ExecuteTime": {
     "end_time": "2024-01-02T01:03:36.403263628Z",
     "start_time": "2024-01-02T01:03:36.401336170Z"
    },
    "collapsed": false
   },
   "outputs": [
    {
     "data": {
      "text/plain": [
       "True"
      ]
     },
     "execution_count": 48,
     "metadata": {},
     "output_type": "execute_result"
    }
   ],
   "source": [
    "has_batch_effect = detect_batch_effect(X)\n",
    "has_batch_effect"
   ]
  },
  {
   "cell_type": "code",
   "execution_count": 49,
   "metadata": {
    "ExecuteTime": {
     "end_time": "2024-01-02T01:03:36.475053437Z",
     "start_time": "2024-01-02T01:03:36.444397231Z"
    },
    "collapsed": false
   },
   "outputs": [],
   "source": [
    "\n",
    "if has_batch_effect:\n",
    "    model_constructor1 = VariableSelection\n",
    "    model_params1 = {'modified': True, 'lamda': 3e-4}\n",
    "    model_constructor2 = VariableSelection\n",
    "    model_params2 = {'modified': False}\n",
    "else:\n",
    "    model_constructor1 = Lasso\n",
    "    model_params1 = {'alpha': 1.0, 'random_state': 42}\n",
    "    model_constructor2 = VariableSelection\n",
    "    model_params2 = {'modified': False}"
   ]
  },
  {
   "cell_type": "code",
   "execution_count": 50,
   "metadata": {
    "ExecuteTime": {
     "end_time": "2024-01-02T01:03:50.733335364Z",
     "start_time": "2024-01-02T01:03:36.444563711Z"
    },
    "collapsed": false
   },
   "outputs": [
    {
     "name": "stdout",
     "output_type": "stream",
     "text": [
      "alpha for Lasso: 0.0003\n",
      "alpha for Lasso: 0.0003\n",
      "alpha for Lasso: 0.0003\n",
      "alpha for Lasso: 0.0003\n",
      "alpha for Lasso: 0.0003\n",
      "The cross-validation accuracy is 59.27% ± 1.43%\n"
     ]
    }
   ],
   "source": [
    "trait_type = 'binary'  # Remember to set this properly, either 'binary' or 'continuous'\n",
    "cv_mean1, cv_std1 = cross_validation(X, Y, Z, model_constructor1, model_params1, target_type=trait_type)"
   ]
  },
  {
   "cell_type": "code",
   "execution_count": 52,
   "metadata": {},
   "outputs": [
    {
     "name": "stderr",
     "output_type": "stream",
     "text": [
      "/home/yxcheng/anaconda3/envs/ai4sci/lib/python3.10/site-packages/sparse_lmm/helpingMethods.py:49: RuntimeWarning: invalid value encountered in divide\n",
      "  ts = beta / np.sqrt(var * sigma)\n",
      "/home/yxcheng/anaconda3/envs/ai4sci/lib/python3.10/site-packages/sparse_lmm/helpingMethods.py:49: RuntimeWarning: invalid value encountered in divide\n",
      "  ts = beta / np.sqrt(var * sigma)\n",
      "/home/yxcheng/anaconda3/envs/ai4sci/lib/python3.10/site-packages/sparse_lmm/helpingMethods.py:49: RuntimeWarning: invalid value encountered in divide\n",
      "  ts = beta / np.sqrt(var * sigma)\n",
      "/home/yxcheng/anaconda3/envs/ai4sci/lib/python3.10/site-packages/sparse_lmm/helpingMethods.py:49: RuntimeWarning: invalid value encountered in divide\n",
      "  ts = beta / np.sqrt(var * sigma)\n"
     ]
    },
    {
     "name": "stdout",
     "output_type": "stream",
     "text": [
      "The cross-validation accuracy is 90.09% ± 2.36%\n"
     ]
    }
   ],
   "source": [
    "cv_mean2, cv_std2 = cross_validation(X, Y, Z, model_constructor2, model_params2, target_type=trait_type)"
   ]
  },
  {
   "cell_type": "code",
   "execution_count": 53,
   "metadata": {
    "ExecuteTime": {
     "end_time": "2024-01-02T01:03:53.587340410Z",
     "start_time": "2024-01-02T01:03:50.732779025Z"
    },
    "collapsed": false
   },
   "outputs": [
    {
     "name": "stdout",
     "output_type": "stream",
     "text": [
      "alpha for Lasso: 0.0003\n"
     ]
    },
    {
     "name": "stderr",
     "output_type": "stream",
     "text": [
      "/home/yxcheng/anaconda3/envs/ai4sci/lib/python3.10/site-packages/sparse_lmm/helpingMethods.py:49: RuntimeWarning: invalid value encountered in divide\n",
      "  ts = beta / np.sqrt(var * sigma)\n"
     ]
    }
   ],
   "source": [
    "normalized_X, _ = normalize_data(X)\n",
    "normalized_Z, _ = normalize_data(Z)\n",
    "\n",
    "# Train regression model on the whole dataset to identify significant genes\n",
    "model1 = ResidualizationRegressor(model_constructor1, model_params1)\n",
    "model1.fit(normalized_X, Y, normalized_Z)\n",
    "\n",
    "model2 = ResidualizationRegressor(model_constructor2, model_params2)\n",
    "model2.fit(normalized_X, Y, normalized_Z)"
   ]
  },
  {
   "cell_type": "markdown",
   "metadata": {
    "ExecuteTime": {
     "end_time": "2023-10-14T04:50:59.072075075Z",
     "start_time": "2023-10-14T04:50:38.739499998Z"
    },
    "id": "EjJrxbvb4nlj"
   },
   "source": [
    "### 5. Discussion and report"
   ]
  },
  {
   "cell_type": "code",
   "execution_count": 55,
   "metadata": {
    "ExecuteTime": {
     "end_time": "2024-01-02T01:03:53.641570844Z",
     "start_time": "2024-01-02T01:03:53.627778553Z"
    },
    "collapsed": false
   },
   "outputs": [
    {
     "name": "stdout",
     "output_type": "stream",
     "text": [
      "Effect of the condition on the target variable:\n",
      "Variable: Age\n",
      "Coefficient: -0.0077\n",
      "Found 10 genes with non-zero coefficients associated with the trait 'Lung-Cancer' conditional on the factor 'Age'. These genes are identified as significant based on the regression model.\n",
      "   Variable  Coefficient  Absolute Coefficient\n",
      "    SNORA81     0.605617              0.605617\n",
      "    SNORD89    -0.561992              0.561992\n",
      "     OR4F17     0.468452              0.468452\n",
      "SNORD115-26    -0.289358              0.289358\n",
      "     OR2L1P    -0.278115              0.278115\n",
      "    TBC1D3C     0.248994              0.248994\n",
      "     DMRTA2    -0.194621              0.194621\n",
      "     IFIT1B    -0.188779              0.188779\n",
      "    PPIAL4E     0.150659              0.150659\n",
      "     TTTY16    -0.082366              0.082366\n"
     ]
    },
    {
     "name": "stderr",
     "output_type": "stream",
     "text": [
      "/home/yxcheng/AI4Science_gold_standard/stage1/Yuxuan/../utils.py:469: SettingWithCopyWarning: \n",
      "A value is trying to be set on a copy of a slice from a DataFrame.\n",
      "Try using .loc[row_indexer,col_indexer] = value instead\n",
      "\n",
      "See the caveats in the documentation: https://pandas.pydata.org/pandas-docs/stable/user_guide/indexing.html#returning-a-view-versus-a-copy\n",
      "  gene_regression_df['Absolute Coefficient'] = gene_regression_df['Coefficient'].abs()\n"
     ]
    }
   ],
   "source": [
    "\n",
    "feature_cols = merged_data.columns.tolist()\n",
    "feature_cols.remove(TRAIT)\n",
    "\n",
    "threshold = 0.05\n",
    "interpret_result(model1, feature_cols, TRAIT, condition, threshold=threshold, save_output=True,\n",
    "                 output_dir=OUTPUT_DIR, model_id=1)"
   ]
  },
  {
   "cell_type": "code",
   "execution_count": 56,
   "metadata": {
    "collapsed": false
   },
   "outputs": [
    {
     "name": "stdout",
     "output_type": "stream",
     "text": [
      "Effect of the condition on the target variable:\n",
      "Variable: Age\n",
      "Coefficient: -0.0077\n",
      "Found 14 significant genes associated with the trait 'Lung-Cancer' conditional on the factor 'Age', with corrected p-value < 0.05:\n",
      "Variable  Coefficient      p_value  corrected_p_value\n",
      "   MEX3A     0.061062 2.147189e-07           0.003723\n",
      " SLC19A1    -0.038907 6.271788e-07           0.005437\n",
      "  CRABP2     0.036440 1.633672e-06           0.009442\n",
      "   HMGB3     0.042606 8.393633e-06           0.020791\n",
      " DEFB118     0.028296 7.138943e-06           0.020791\n",
      "     IL3    -0.016966 5.077872e-06           0.020791\n",
      "  FAM83A     0.043838 8.074414e-06           0.020791\n",
      "    RCC1     0.041270 1.786386e-05           0.028158\n",
      "    NUF2     0.068410 1.754965e-05           0.028158\n",
      "    SPP1     0.032014 1.782137e-05           0.028158\n",
      "    ETV4     0.037361 1.688133e-05           0.028158\n",
      "   EPB42    -0.020447 2.157070e-05           0.031168\n",
      "   CENPM    -0.051850 3.061145e-05           0.040829\n",
      " PLEKHN1     0.044331 3.372218e-05           0.041765\n"
     ]
    },
    {
     "name": "stderr",
     "output_type": "stream",
     "text": [
      "/home/yxcheng/AI4Science_gold_standard/stage1/Yuxuan/../utils.py:478: SettingWithCopyWarning: \n",
      "A value is trying to be set on a copy of a slice from a DataFrame.\n",
      "Try using .loc[row_indexer,col_indexer] = value instead\n",
      "\n",
      "See the caveats in the documentation: https://pandas.pydata.org/pandas-docs/stable/user_guide/indexing.html#returning-a-view-versus-a-copy\n",
      "  gene_regression_df.loc[:, 'corrected_p_value'] = corrected_p_values\n"
     ]
    }
   ],
   "source": [
    "\n",
    "interpret_result(model2, feature_cols, TRAIT, condition, threshold=threshold, save_output=True,\n",
    "                 output_dir=OUTPUT_DIR, model_id=2)"
   ]
  }
 ],
 "metadata": {
  "colab": {
   "provenance": []
  },
  "kernelspec": {
   "display_name": "Python 3 (ipykernel)",
   "language": "python",
   "name": "python3"
  },
  "language_info": {
   "codemirror_mode": {
    "name": "ipython",
    "version": 3
   },
   "file_extension": ".py",
   "mimetype": "text/x-python",
   "name": "python",
   "nbconvert_exporter": "python",
   "pygments_lexer": "ipython3",
   "version": "3.10.13"
  }
 },
 "nbformat": 4,
 "nbformat_minor": 0
}
