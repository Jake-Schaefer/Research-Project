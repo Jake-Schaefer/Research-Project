{
 "cells": [
  {
   "cell_type": "markdown",
   "metadata": {
    "collapsed": false
   },
   "source": [
    "# Gold standard curation: Preprocessing and single-step regression"
   ]
  },
  {
   "cell_type": "markdown",
   "metadata": {
    "collapsed": false
   },
   "source": [
    "In this stage of gold standard curation, we will do the data preprocessing, selection, and single-step regression for the 153 traits in our question set. The workflow consists of the following steps:\n",
    "\n",
    "1. Preprocess all the cohorts related to this trait. Each cohort should be converted to a tabular form and saved to a csv file, with columns being genetic factors, the trait, and age, gender if available;\n",
    "2. If there exists at least one cohort with age or gender information, conduct regression analysis with genetic features together with age or gender as the regressors.\n"
   ]
  },
  {
   "cell_type": "markdown",
   "metadata": {
    "collapsed": false
   },
   "source": [
    "# 1. Basic setup"
   ]
  },
  {
   "cell_type": "code",
   "execution_count": 1,
   "metadata": {
    "ExecuteTime": {
     "end_time": "2024-01-02T01:02:53.240839272Z",
     "start_time": "2024-01-02T01:02:53.240575109Z"
    },
    "collapsed": false
   },
   "outputs": [],
   "source": [
    "import os\n",
    "import sys\n",
    "\n",
    "sys.path.append('..')\n",
    "# Set your preferred name\n",
    "USER = \"Arthur\"\n",
    "# Set the data and output directories\n",
    "DATA_ROOT = 'C:/Users/arthu/Downloads'\n",
    "OUTPUT_ROOT = 'C:/Users/arthu/OneDrive/Documents/GitHub/output1'\n",
    "TRAIT = 'Colon and Rectal Cancer'\n",
    "\n",
    "OUTPUT_DIR = os.path.join(OUTPUT_ROOT, USER, '-'.join(TRAIT.split()))\n",
    "JSON_PATH = os.path.join(OUTPUT_DIR, \"cohort_info.json\")\n",
    "if not os.path.exists(OUTPUT_DIR):\n",
    "    os.makedirs(OUTPUT_DIR, exist_ok=True)\n",
    "\n",
    "# Gene symbol normalization may take 1-2 minutes. You may set it to False for debugging.\n",
    "NORMALIZE_GENE = True"
   ]
  },
  {
   "cell_type": "code",
   "execution_count": 25,
   "metadata": {
    "ExecuteTime": {
     "end_time": "2024-01-02T01:02:53.501910797Z",
     "start_time": "2024-01-02T01:02:53.496254990Z"
    },
    "colab": {
     "base_uri": "https://localhost:8080/"
    },
    "id": "jMTdsU43vVg3",
    "outputId": "38886111-f442-44b4-8398-96bf384d7abd"
   },
   "outputs": [
    {
     "data": {
      "text/plain": [
       "\"import os\\nfrom google.colab import drive\\n\\ndrive.mount('/content/drive', force_remount=True)\\nproj_dir = '/content/drive/MyDrive/AI4Science_Public'\\nos.chdir(proj_dir)\""
      ]
     },
     "execution_count": 25,
     "metadata": {},
     "output_type": "execute_result"
    }
   ],
   "source": [
    "# This cell is only for use on Google Colab. Skip it if you run your code in other environments\n",
    "\n",
    "\"\"\"import os\n",
    "from google.colab import drive\n",
    "\n",
    "drive.mount('/content/drive', force_remount=True)\n",
    "proj_dir = '/content/drive/MyDrive/AI4Science_Public'\n",
    "os.chdir(proj_dir)\"\"\""
   ]
  },
  {
   "cell_type": "markdown",
   "metadata": {
    "collapsed": false
   },
   "source": [
    "# 2. Data preprocessing and selection"
   ]
  },
  {
   "cell_type": "markdown",
   "metadata": {
    "collapsed": false
   },
   "source": [
    "## 2.1. The TCGA Xena dataset"
   ]
  },
  {
   "cell_type": "markdown",
   "metadata": {
    "collapsed": false
   },
   "source": [
    "In TCGA Xena, there is either zero or one cohort related to the trait. We search the names of subdirectories to see if any matches the trait. If a match is found, we directly obtain the file paths."
   ]
  },
  {
   "cell_type": "code",
   "execution_count": 2,
   "metadata": {
    "ExecuteTime": {
     "end_time": "2024-01-02T01:02:56.462746833Z",
     "start_time": "2024-01-02T01:02:55.818581842Z"
    },
    "collapsed": false
   },
   "outputs": [
    {
     "name": "stdout",
     "output_type": "stream",
     "text": [
      "utils.py has been loaded\n"
     ]
    },
    {
     "data": {
      "text/plain": [
       "['TCGA_Colon_and_Rectal_Cancer_(COADREAD)']"
      ]
     },
     "execution_count": 2,
     "metadata": {},
     "output_type": "execute_result"
    }
   ],
   "source": [
    "import os\n",
    "from utils import *\n",
    "\n",
    "dataset = 'TCGA'\n",
    "dataset_dir = os.path.join(DATA_ROOT, dataset)\n",
    "os.listdir(dataset_dir)[:]"
   ]
  },
  {
   "cell_type": "markdown",
   "metadata": {
    "collapsed": false
   },
   "source": [
    "If no match is found, jump directly to GEO in Part 2.2"
   ]
  },
  {
   "cell_type": "code",
   "execution_count": 3,
   "metadata": {
    "collapsed": false
   },
   "outputs": [],
   "source": [
    "trait_subdir = \"TCGA_Colon_and_Rectal_Cancer_(COADREAD)\"\n",
    "cohort = 'Xena'\n",
    "# All the cancer traits in Xena are binary\n",
    "trait_type = 'binary'\n",
    "# Once a relevant cohort is found in Xena, we can generally assume the gene and clinical data are available\n",
    "is_available = True\n",
    "\n",
    "clinical_data_file = os.path.join(dataset_dir, trait_subdir, 'TCGA.COADREAD.sampleMap_COADREAD_clinicalMatrix')\n",
    "genetic_data_file = os.path.join(dataset_dir, trait_subdir, 'TCGA.COADREAD.sampleMap_HiSeqV2_PANCAN.gz')"
   ]
  },
  {
   "cell_type": "code",
   "execution_count": 4,
   "metadata": {
    "id": "MudwB-_iz7sc"
   },
   "outputs": [],
   "source": [
    "import pandas as pd\n",
    "\n",
    "clinical_data = pd.read_csv(clinical_data_file, sep='\\t', index_col=0)\n",
    "genetic_data = pd.read_csv(genetic_data_file, compression='gzip', sep='\\t', index_col=0)\n",
    "age_col = gender_col = None"
   ]
  },
  {
   "cell_type": "code",
   "execution_count": 5,
   "metadata": {
    "collapsed": false
   },
   "outputs": [],
   "source": [
    "_, clinical_data_cols = check_rows_and_columns(clinical_data)"
   ]
  },
  {
   "cell_type": "code",
   "execution_count": 6,
   "metadata": {
    "collapsed": false
   },
   "outputs": [
    {
     "data": {
      "text/plain": [
       "['AWG_MLH1_silencing',\n",
       " 'AWG_cancer_type_Oct62011',\n",
       " 'CDE_ID_3226963',\n",
       " 'CIMP',\n",
       " 'MSI_updated_Oct62011',\n",
       " '_INTEGRATION',\n",
       " '_PANCAN_CNA_PANCAN_K8',\n",
       " '_PANCAN_Cluster_Cluster_PANCAN',\n",
       " '_PANCAN_DNAMethyl_COADREAD',\n",
       " '_PANCAN_DNAMethyl_PANCAN']"
      ]
     },
     "execution_count": 6,
     "metadata": {},
     "output_type": "execute_result"
    }
   ],
   "source": [
    "clinical_data_cols[:10]"
   ]
  },
  {
   "cell_type": "markdown",
   "metadata": {
    "ExecuteTime": {
     "end_time": "2023-12-28T20:20:11.841042813Z",
     "start_time": "2023-12-28T20:20:11.834458206Z"
    },
    "collapsed": false
   },
   "source": [
    "Read all the column names in the clinical dataset, to find the columns that record information about age or gender.\n",
    "Reference prompt:"
   ]
  },
  {
   "cell_type": "code",
   "execution_count": 7,
   "metadata": {
    "collapsed": false
   },
   "outputs": [
    {
     "data": {
      "text/plain": [
       "\"\\nBelow is a list of column names from a biomedical dataset. Please examine it and identify the columns that are likely to contain information about patients' age. Additionally, please do the same for columns that may hold data on patients' gender. Please provide your answer by strictly following this format, without redundant words:\\ncandidate_age_cols = [col_name1, col_name2, ...]\\ncandidate_gender_cols = [col_name1, col_name2, ...]\\nIf no columns match a criterion, please provide an empty list.\\n\\nColumn names:\\n['AWG_MLH1_silencing', 'AWG_cancer_type_Oct62011', 'CDE_ID_3226963', 'CIMP', 'MSI_updated_Oct62011', '_INTEGRATION', '_PANCAN_CNA_PANCAN_K8', '_PANCAN_Cluster_Cluster_PANCAN', '_PANCAN_DNAMethyl_COADREAD', '_PANCAN_DNAMethyl_PANCAN', '_PANCAN_RPPA_PANCAN_K8', '_PANCAN_UNC_RNAseq_PANCAN_K16', '_PANCAN_miRNA_PANCAN', '_PANCAN_mutation_PANCAN', '_PATIENT', '_cohort', '_primary_disease', '_primary_site', 'additional_pharmaceutical_therapy', 'additional_radiation_therapy', 'age_at_initial_pathologic_diagnosis', 'anatomic_neoplasm_subdivision', 'bcr_followup_barcode', 'bcr_patient_barcode', 'bcr_sample_barcode', 'braf_gene_analysis_performed', 'braf_gene_analysis_result', 'circumferential_resection_margin', 'colon_polyps_present', 'days_to_birth', 'days_to_collection', 'days_to_death', 'days_to_initial_pathologic_diagnosis', 'days_to_last_followup', 'days_to_new_tumor_event_additional_surgery_procedure', 'days_to_new_tumor_event_after_initial_treatment', 'disease_code', 'followup_case_report_form_submission_reason', 'followup_treatment_success', 'form_completion_date', 'gender', 'height', 'histological_type', 'history_of_colon_polyps', 'history_of_neoadjuvant_treatment', 'hypermutation', 'icd_10', 'icd_o_3_histology', 'icd_o_3_site', 'informed_consent_verified', 'initial_weight', 'intermediate_dimension', 'is_ffpe', 'kras_gene_analysis_performed', 'kras_mutation_codon', 'kras_mutation_found', 'longest_dimension', 'loss_expression_of_mismatch_repair_proteins_by_ihc', 'loss_expression_of_mismatch_repair_proteins_by_ihc_result', 'lost_follow_up', 'lymph_node_examined_count', 'lymphatic_invasion', 'microsatellite_instability', 'new_neoplasm_event_type', 'new_tumor_event_additional_surgery_procedure', 'new_tumor_event_after_initial_treatment', 'non_nodal_tumor_deposits', 'non_silent_mutation', 'non_silent_rate_per_Mb', 'number_of_abnormal_loci', 'number_of_first_degree_relatives_with_cancer_diagnosis', 'number_of_loci_tested', 'number_of_lymphnodes_positive_by_he', 'number_of_lymphnodes_positive_by_ihc', 'oct_embedded', 'pathologic_M', 'pathologic_N', 'pathologic_T', 'pathologic_stage', 'pathology_report_file_name', 'patient_id', 'perineural_invasion_present', 'person_neoplasm_cancer_status', 'postoperative_rx_tx', 'preoperative_pretreatment_cea_level', 'primary_lymph_node_presentation_assessment', 'primary_therapy_outcome_success', 'project_code', 'radiation_therapy', 'residual_disease_post_new_tumor_event_margin_status', 'residual_tumor', 'sample_type', 'sample_type_id', 'shortest_dimension', 'silent_mutation', 'silent_rate_per_Mb', 'site_of_additional_surgery_new_tumor_event_mets', 'synchronous_colon_cancer_present', 'system_version', 'tissue_prospective_collection_indicator', 'tissue_retrospective_collection_indicator', 'tissue_source_site', 'total_mutation', 'tumor_tissue_site', 'venous_invasion', 'vial_number', 'vital_status', 'weight', 'year_of_initial_pathologic_diagnosis', '_GENOMIC_ID_TCGA_COADREAD_exp_HiSeqV2_exon', '_GENOMIC_ID_TCGA_COADREAD_PDMRNAseq', '_GENOMIC_ID_TCGA_COADREAD_exp_HiSeqV2_PANCAN', '_GENOMIC_ID_TCGA_COADREAD_hMethyl450', '_GENOMIC_ID_TCGA_COADREAD_gistic2thd', '_GENOMIC_ID_TCGA_COADREAD_hMethyl27', '_GENOMIC_ID_TCGA_COADREAD_G4502A_07_3', '_GENOMIC_ID_TCGA_COADREAD_PDMarrayCNV', '_GENOMIC_ID_TCGA_COADREAD_exp_HiSeqV2', '_GENOMIC_ID_TCGA_COADREAD_PDMarray', '_GENOMIC_ID_TCGA_COADREAD_gistic2', '_GENOMIC_ID_TCGA_COADREAD_mutation', '_GENOMIC_ID_TCGA_COADREAD_RPPA_RBN', '_GENOMIC_ID_TCGA_COADREAD_PDMRNAseqCNV']\\n\""
      ]
     },
     "execution_count": 7,
     "metadata": {},
     "output_type": "execute_result"
    }
   ],
   "source": [
    "f'''\n",
    "Below is a list of column names from a biomedical dataset. Please examine it and identify the columns that are likely to contain information about patients' age. Additionally, please do the same for columns that may hold data on patients' gender. Please provide your answer by strictly following this format, without redundant words:\n",
    "candidate_age_cols = [col_name1, col_name2, ...]\n",
    "candidate_gender_cols = [col_name1, col_name2, ...]\n",
    "If no columns match a criterion, please provide an empty list.\n",
    "\n",
    "Column names:\n",
    "{clinical_data_cols}\n",
    "'''"
   ]
  },
  {
   "cell_type": "code",
   "execution_count": 8,
   "metadata": {
    "collapsed": false
   },
   "outputs": [],
   "source": [
    "# candidate_age_cols = ['age_at_initial_pathologic_diagnosis', 'days_to_birth', 'days_to_collection', 'days_to_death', 'days_to_initial_pathologic_diagnosis', 'days_to_last_followup', 'year_of_initial_pathologic_diagnosis']\n",
    "\n",
    "# candidate_gender_cols = ['gender']\n",
    "\n",
    "\n",
    "candidate_age_cols = ['age_at_initial_pathologic_diagnosis', 'days_to_birth', 'days_to_collection', 'days_to_death', 'days_to_initial_pathologic_diagnosis', 'days_to_last_followup', 'days_to_new_tumor_event_additional_surgery_procedure', 'days_to_new_tumor_event_after_initial_treatment', 'year_of_initial_pathologic_diagnosis']\n",
    "\n",
    "candidate_gender_cols = ['gender']"
   ]
  },
  {
   "cell_type": "markdown",
   "metadata": {
    "ExecuteTime": {
     "end_time": "2023-12-31T03:57:44.207565572Z",
     "start_time": "2023-12-31T03:57:44.202177544Z"
    },
    "collapsed": false
   },
   "source": [
    "Choose a single column from the candidate columns that record age and gender information respectively.\n",
    "If no column meets the requirement, keep 'age_col' or 'gender_col' to None"
   ]
  },
  {
   "cell_type": "code",
   "execution_count": 9,
   "metadata": {
    "collapsed": false
   },
   "outputs": [
    {
     "data": {
      "text/plain": [
       "{'age_at_initial_pathologic_diagnosis': [61.0, 67.0, 42.0, 74.0, nan],\n",
       " 'days_to_birth': [-22379.0, -24523.0, -15494.0, -27095.0, nan],\n",
       " 'days_to_collection': [35.0, nan, 107.0, 1778.0, nan],\n",
       " 'days_to_death': [nan, nan, nan, '49', nan],\n",
       " 'days_to_initial_pathologic_diagnosis': [0.0, 0.0, 0.0, 0.0, nan],\n",
       " 'days_to_last_followup': ['475', '146', '385', nan, nan],\n",
       " 'days_to_new_tumor_event_additional_surgery_procedure': [nan,\n",
       "  nan,\n",
       "  nan,\n",
       "  nan,\n",
       "  nan],\n",
       " 'days_to_new_tumor_event_after_initial_treatment': [nan, nan, nan, nan, nan],\n",
       " 'year_of_initial_pathologic_diagnosis': [2013.0, 2013.0, 2013.0, 2009.0, nan]}"
      ]
     },
     "execution_count": 9,
     "metadata": {},
     "output_type": "execute_result"
    }
   ],
   "source": [
    "preview_df(clinical_data[candidate_age_cols])"
   ]
  },
  {
   "cell_type": "code",
   "execution_count": 10,
   "metadata": {
    "collapsed": false
   },
   "outputs": [],
   "source": [
    "age_col = 'age_at_initial_pathologic_diagnosis'"
   ]
  },
  {
   "cell_type": "code",
   "execution_count": 11,
   "metadata": {
    "collapsed": false
   },
   "outputs": [
    {
     "data": {
      "text/plain": [
       "{'gender': ['FEMALE', 'MALE', 'FEMALE', 'MALE', nan]}"
      ]
     },
     "execution_count": 11,
     "metadata": {},
     "output_type": "execute_result"
    }
   ],
   "source": [
    "preview_df(clinical_data[candidate_gender_cols])"
   ]
  },
  {
   "cell_type": "code",
   "execution_count": 12,
   "metadata": {
    "collapsed": false
   },
   "outputs": [],
   "source": [
    "gender_col = 'gender'"
   ]
  },
  {
   "cell_type": "code",
   "execution_count": 13,
   "metadata": {
    "collapsed": false
   },
   "outputs": [],
   "source": [
    "selected_clinical_data = xena_select_clinical_features(clinical_data, TRAIT, age_col, gender_col)"
   ]
  },
  {
   "cell_type": "code",
   "execution_count": 14,
   "metadata": {
    "collapsed": false
   },
   "outputs": [],
   "source": [
    "if NORMALIZE_GENE:\n",
    "    genetic_data = normalize_gene_symbols_in_index(genetic_data)"
   ]
  },
  {
   "cell_type": "code",
   "execution_count": 15,
   "metadata": {
    "collapsed": false
   },
   "outputs": [
    {
     "data": {
      "text/html": [
       "<div>\n",
       "<style scoped>\n",
       "    .dataframe tbody tr th:only-of-type {\n",
       "        vertical-align: middle;\n",
       "    }\n",
       "\n",
       "    .dataframe tbody tr th {\n",
       "        vertical-align: top;\n",
       "    }\n",
       "\n",
       "    .dataframe thead th {\n",
       "        text-align: right;\n",
       "    }\n",
       "</style>\n",
       "<table border=\"1\" class=\"dataframe\">\n",
       "  <thead>\n",
       "    <tr style=\"text-align: right;\">\n",
       "      <th></th>\n",
       "      <th>Colon and Rectal Cancer</th>\n",
       "      <th>Age</th>\n",
       "      <th>Gender</th>\n",
       "      <th>UBE2Q1</th>\n",
       "      <th>RNF14</th>\n",
       "      <th>SERPINB11</th>\n",
       "      <th>RNF17</th>\n",
       "      <th>RNF10</th>\n",
       "      <th>RNF11</th>\n",
       "      <th>RNF13</th>\n",
       "      <th>...</th>\n",
       "      <th>SLC7A10</th>\n",
       "      <th>SLC7A11</th>\n",
       "      <th>FOLR1</th>\n",
       "      <th>TULP2</th>\n",
       "      <th>NPY5R</th>\n",
       "      <th>GOLGA6D</th>\n",
       "      <th>SERPINH1</th>\n",
       "      <th>NFIX</th>\n",
       "      <th>SELP</th>\n",
       "      <th>ADAMTS19</th>\n",
       "    </tr>\n",
       "    <tr>\n",
       "      <th>sampleID</th>\n",
       "      <th></th>\n",
       "      <th></th>\n",
       "      <th></th>\n",
       "      <th></th>\n",
       "      <th></th>\n",
       "      <th></th>\n",
       "      <th></th>\n",
       "      <th></th>\n",
       "      <th></th>\n",
       "      <th></th>\n",
       "      <th></th>\n",
       "      <th></th>\n",
       "      <th></th>\n",
       "      <th></th>\n",
       "      <th></th>\n",
       "      <th></th>\n",
       "      <th></th>\n",
       "      <th></th>\n",
       "      <th></th>\n",
       "      <th></th>\n",
       "      <th></th>\n",
       "    </tr>\n",
       "  </thead>\n",
       "  <tbody>\n",
       "    <tr>\n",
       "      <th>TCGA-3L-AA1B-01</th>\n",
       "      <td>1</td>\n",
       "      <td>61.0</td>\n",
       "      <td>0.0</td>\n",
       "      <td>0.615782</td>\n",
       "      <td>3.85144</td>\n",
       "      <td>-0.640695</td>\n",
       "      <td>-9.802658</td>\n",
       "      <td>0.615399</td>\n",
       "      <td>-0.424735</td>\n",
       "      <td>-2.504718</td>\n",
       "      <td>...</td>\n",
       "      <td>-0.791986</td>\n",
       "      <td>6.723118</td>\n",
       "      <td>-1.061697</td>\n",
       "      <td>-0.748878</td>\n",
       "      <td>-0.034117</td>\n",
       "      <td>-1.06467</td>\n",
       "      <td>-0.262197</td>\n",
       "      <td>3.141164</td>\n",
       "      <td>-3.250033</td>\n",
       "      <td>-0.199484</td>\n",
       "    </tr>\n",
       "    <tr>\n",
       "      <th>TCGA-4N-A93T-01</th>\n",
       "      <td>1</td>\n",
       "      <td>67.0</td>\n",
       "      <td>1.0</td>\n",
       "      <td>0.908282</td>\n",
       "      <td>4.08014</td>\n",
       "      <td>-0.640695</td>\n",
       "      <td>-9.802658</td>\n",
       "      <td>0.635099</td>\n",
       "      <td>-1.425235</td>\n",
       "      <td>-1.654018</td>\n",
       "      <td>...</td>\n",
       "      <td>1.462614</td>\n",
       "      <td>6.109118</td>\n",
       "      <td>-7.163097</td>\n",
       "      <td>-0.748878</td>\n",
       "      <td>3.199883</td>\n",
       "      <td>-1.06467</td>\n",
       "      <td>-0.406497</td>\n",
       "      <td>3.286964</td>\n",
       "      <td>-7.381133</td>\n",
       "      <td>-3.482084</td>\n",
       "    </tr>\n",
       "    <tr>\n",
       "      <th>TCGA-4T-AA8H-01</th>\n",
       "      <td>1</td>\n",
       "      <td>42.0</td>\n",
       "      <td>0.0</td>\n",
       "      <td>0.252882</td>\n",
       "      <td>3.50444</td>\n",
       "      <td>-0.640695</td>\n",
       "      <td>-9.802658</td>\n",
       "      <td>0.816899</td>\n",
       "      <td>-0.679735</td>\n",
       "      <td>-2.327818</td>\n",
       "      <td>...</td>\n",
       "      <td>-2.090786</td>\n",
       "      <td>6.204618</td>\n",
       "      <td>-1.205497</td>\n",
       "      <td>-0.748878</td>\n",
       "      <td>1.335083</td>\n",
       "      <td>-1.06467</td>\n",
       "      <td>-1.116797</td>\n",
       "      <td>2.812764</td>\n",
       "      <td>-6.648433</td>\n",
       "      <td>-5.035584</td>\n",
       "    </tr>\n",
       "    <tr>\n",
       "      <th>TCGA-5M-AAT4-01</th>\n",
       "      <td>1</td>\n",
       "      <td>74.0</td>\n",
       "      <td>1.0</td>\n",
       "      <td>0.946082</td>\n",
       "      <td>3.29594</td>\n",
       "      <td>-0.640695</td>\n",
       "      <td>-9.286358</td>\n",
       "      <td>0.339999</td>\n",
       "      <td>-1.385135</td>\n",
       "      <td>-2.217018</td>\n",
       "      <td>...</td>\n",
       "      <td>-0.060386</td>\n",
       "      <td>7.695418</td>\n",
       "      <td>-4.704097</td>\n",
       "      <td>-0.232578</td>\n",
       "      <td>-1.070817</td>\n",
       "      <td>-1.06467</td>\n",
       "      <td>-0.230397</td>\n",
       "      <td>3.358264</td>\n",
       "      <td>-5.788033</td>\n",
       "      <td>-3.379584</td>\n",
       "    </tr>\n",
       "    <tr>\n",
       "      <th>TCGA-5M-AAT6-01</th>\n",
       "      <td>1</td>\n",
       "      <td>40.0</td>\n",
       "      <td>0.0</td>\n",
       "      <td>0.558082</td>\n",
       "      <td>3.41174</td>\n",
       "      <td>0.087205</td>\n",
       "      <td>-9.802658</td>\n",
       "      <td>0.552499</td>\n",
       "      <td>-0.555435</td>\n",
       "      <td>-2.594018</td>\n",
       "      <td>...</td>\n",
       "      <td>-1.340186</td>\n",
       "      <td>8.269918</td>\n",
       "      <td>-5.668797</td>\n",
       "      <td>0.460622</td>\n",
       "      <td>-1.587117</td>\n",
       "      <td>-1.06467</td>\n",
       "      <td>1.261403</td>\n",
       "      <td>2.274064</td>\n",
       "      <td>-1.230233</td>\n",
       "      <td>-1.284084</td>\n",
       "    </tr>\n",
       "  </tbody>\n",
       "</table>\n",
       "<p>5 rows × 17342 columns</p>\n",
       "</div>"
      ],
      "text/plain": [
       "                 Colon and Rectal Cancer   Age  Gender    UBE2Q1    RNF14  \\\n",
       "sampleID                                                                    \n",
       "TCGA-3L-AA1B-01                        1  61.0     0.0  0.615782  3.85144   \n",
       "TCGA-4N-A93T-01                        1  67.0     1.0  0.908282  4.08014   \n",
       "TCGA-4T-AA8H-01                        1  42.0     0.0  0.252882  3.50444   \n",
       "TCGA-5M-AAT4-01                        1  74.0     1.0  0.946082  3.29594   \n",
       "TCGA-5M-AAT6-01                        1  40.0     0.0  0.558082  3.41174   \n",
       "\n",
       "                 SERPINB11     RNF17     RNF10     RNF11     RNF13  ...  \\\n",
       "sampleID                                                            ...   \n",
       "TCGA-3L-AA1B-01  -0.640695 -9.802658  0.615399 -0.424735 -2.504718  ...   \n",
       "TCGA-4N-A93T-01  -0.640695 -9.802658  0.635099 -1.425235 -1.654018  ...   \n",
       "TCGA-4T-AA8H-01  -0.640695 -9.802658  0.816899 -0.679735 -2.327818  ...   \n",
       "TCGA-5M-AAT4-01  -0.640695 -9.286358  0.339999 -1.385135 -2.217018  ...   \n",
       "TCGA-5M-AAT6-01   0.087205 -9.802658  0.552499 -0.555435 -2.594018  ...   \n",
       "\n",
       "                  SLC7A10   SLC7A11     FOLR1     TULP2     NPY5R  GOLGA6D  \\\n",
       "sampleID                                                                     \n",
       "TCGA-3L-AA1B-01 -0.791986  6.723118 -1.061697 -0.748878 -0.034117 -1.06467   \n",
       "TCGA-4N-A93T-01  1.462614  6.109118 -7.163097 -0.748878  3.199883 -1.06467   \n",
       "TCGA-4T-AA8H-01 -2.090786  6.204618 -1.205497 -0.748878  1.335083 -1.06467   \n",
       "TCGA-5M-AAT4-01 -0.060386  7.695418 -4.704097 -0.232578 -1.070817 -1.06467   \n",
       "TCGA-5M-AAT6-01 -1.340186  8.269918 -5.668797  0.460622 -1.587117 -1.06467   \n",
       "\n",
       "                 SERPINH1      NFIX      SELP  ADAMTS19  \n",
       "sampleID                                                 \n",
       "TCGA-3L-AA1B-01 -0.262197  3.141164 -3.250033 -0.199484  \n",
       "TCGA-4N-A93T-01 -0.406497  3.286964 -7.381133 -3.482084  \n",
       "TCGA-4T-AA8H-01 -1.116797  2.812764 -6.648433 -5.035584  \n",
       "TCGA-5M-AAT4-01 -0.230397  3.358264 -5.788033 -3.379584  \n",
       "TCGA-5M-AAT6-01  1.261403  2.274064 -1.230233 -1.284084  \n",
       "\n",
       "[5 rows x 17342 columns]"
      ]
     },
     "execution_count": 15,
     "metadata": {},
     "output_type": "execute_result"
    }
   ],
   "source": [
    "merged_data = selected_clinical_data.join(genetic_data.T).dropna()\n",
    "merged_data.head()"
   ]
  },
  {
   "cell_type": "code",
   "execution_count": 16,
   "metadata": {
    "collapsed": false
   },
   "outputs": [
    {
     "name": "stdout",
     "output_type": "stream",
     "text": [
      "The merged dataset contains 430 samples.\n"
     ]
    }
   ],
   "source": [
    "print(f\"The merged dataset contains {len(merged_data)} samples.\")"
   ]
  },
  {
   "cell_type": "code",
   "execution_count": 17,
   "metadata": {
    "collapsed": false
   },
   "outputs": [
    {
     "name": "stdout",
     "output_type": "stream",
     "text": [
      "For the feature 'Colon and Rectal Cancer', the least common label is '0' with 51 occurrences. This represents 11.86% of the dataset.\n",
      "The distribution of the feature 'Colon and Rectal Cancer' in this dataset is fine.\n",
      "\n",
      "Quartiles for 'Age':\n",
      "  25%: 56.0\n",
      "  50% (Median): 67.0\n",
      "  75%: 75.0\n",
      "Min: 31.0\n",
      "Max: 90.0\n",
      "The distribution of the feature 'Age' in this dataset is fine.\n",
      "\n",
      "For the feature 'Gender', the least common label is '0.0' with 199 occurrences. This represents 46.28% of the dataset.\n",
      "The distribution of the feature 'Gender' in this dataset is fine.\n",
      "\n"
     ]
    },
    {
     "data": {
      "text/plain": [
       "False"
      ]
     },
     "execution_count": 17,
     "metadata": {},
     "output_type": "execute_result"
    }
   ],
   "source": [
    "is_trait_biased, merge_data = judge_and_remove_biased_features(merged_data, TRAIT, trait_type=trait_type)\n",
    "is_trait_biased"
   ]
  },
  {
   "cell_type": "code",
   "execution_count": 18,
   "metadata": {
    "collapsed": false
   },
   "outputs": [],
   "source": [
    "merged_data.head()\n",
    "if not is_trait_biased:\n",
    "    merge_data.to_csv(os.path.join(OUTPUT_DIR, cohort+'.csv'), index=False)"
   ]
  },
  {
   "cell_type": "code",
   "execution_count": 19,
   "metadata": {
    "collapsed": false
   },
   "outputs": [
    {
     "name": "stdout",
     "output_type": "stream",
     "text": [
      "A new JSON file was created at: C:/Users/arthu/OneDrive/Documents/GitHub/output1\\Arthur\\Colon-and-Rectal-Cancer\\cohort_info.json\n"
     ]
    }
   ],
   "source": [
    "save_cohort_info(cohort, JSON_PATH, is_available, is_trait_biased, merged_data)"
   ]
  },
  {
   "cell_type": "markdown",
   "metadata": {
    "ExecuteTime": {
     "end_time": "2023-12-28T21:28:38.028916303Z",
     "start_time": "2023-12-28T21:28:38.016245426Z"
    },
    "collapsed": false
   },
   "source": [
    "## 2.2. The GEO dataset"
   ]
  },
  {
   "cell_type": "markdown",
   "metadata": {
    "ExecuteTime": {
     "end_time": "2023-12-31T03:25:23.253882615Z",
     "start_time": "2023-12-31T03:25:23.244062710Z"
    },
    "collapsed": false
   },
   "source": [
    "In GEO, there may be one or multiple cohorts for a trait. Each cohort is identified by an accession number. We iterate over all accession numbers in the corresponding subdirectory, preprocess the cohort data, and save them to csv files."
   ]
  },
  {
   "cell_type": "code",
   "execution_count": 3,
   "metadata": {
    "ExecuteTime": {
     "end_time": "2024-01-02T01:02:59.503572381Z",
     "start_time": "2024-01-02T01:02:59.491400342Z"
    },
    "collapsed": false
   },
   "outputs": [
    {
     "data": {
      "text/plain": [
       "['GSE103512',\n",
       " 'GSE108166',\n",
       " 'GSE10982',\n",
       " 'GSE110785',\n",
       " 'GSE115513',\n",
       " 'GSE12225',\n",
       " 'GSE15781',\n",
       " 'GSE25229',\n",
       " 'GSE39958',\n",
       " 'GSE46517',\n",
       " 'GSE46862',\n",
       " 'GSE56699']"
      ]
     },
     "execution_count": 3,
     "metadata": {},
     "output_type": "execute_result"
    }
   ],
   "source": [
    "dataset = 'GEO'\n",
    "trait_subdir = \"Colon-and-Rectal-Cancer\"\n",
    "\n",
    "trait_path = os.path.join(DATA_ROOT, dataset, trait_subdir)\n",
    "os.listdir(trait_path)"
   ]
  },
  {
   "cell_type": "markdown",
   "metadata": {
    "ExecuteTime": {
     "end_time": "2023-12-31T03:39:42.634870142Z",
     "start_time": "2023-12-31T03:39:42.534093295Z"
    },
    "collapsed": false
   },
   "source": [
    "Repeat the below steps for all the accession numbers"
   ]
  },
  {
   "cell_type": "code",
   "execution_count": 188,
   "metadata": {
    "ExecuteTime": {
     "end_time": "2024-01-02T01:03:00.287218362Z",
     "start_time": "2024-01-02T01:03:00.278758251Z"
    },
    "collapsed": false
   },
   "outputs": [
    {
     "data": {
      "text/plain": [
       "('C:/Users/arthu/Downloads\\\\GEO\\\\Colon-and-Rectal-Cancer\\\\GSE56699\\\\GSE56699_family.soft.gz',\n",
       " 'C:/Users/arthu/Downloads\\\\GEO\\\\Colon-and-Rectal-Cancer\\\\GSE56699\\\\GSE56699_series_matrix.txt.gz')"
      ]
     },
     "execution_count": 188,
     "metadata": {},
     "output_type": "execute_result"
    }
   ],
   "source": [
    "cohort = accession_num = \"GSE56699\"\n",
    "cohort_dir = os.path.join(trait_path, accession_num)\n",
    "soft_file, matrix_file = geo_get_relevant_filepaths(cohort_dir)\n",
    "soft_file, matrix_file"
   ]
  },
  {
   "cell_type": "markdown",
   "metadata": {
    "collapsed": false
   },
   "source": [
    "### Inital filtering and clinical data preprocessing"
   ]
  },
  {
   "cell_type": "code",
   "execution_count": 189,
   "metadata": {
    "ExecuteTime": {
     "end_time": "2024-01-02T01:03:01.634861460Z",
     "start_time": "2024-01-02T01:03:01.076370517Z"
    },
    "collapsed": false
   },
   "outputs": [
    {
     "name": "stdout",
     "output_type": "stream",
     "text": [
      "!Series_title\t\"Stromal contribution to expression signatures of colorectal cancer (rectal samples)\"\n",
      "!Series_summary\t\"We noticed that a recently identified poor prognosis stem/serrated molecular subtype of colorectal cancer (CRC) is characterized by up-regulation of transcripts known to be also expressed by stromal cells. To better define the origin of such transcripts, we analyzed  RNAseq and microarray datasets from CRC mouse xenografts, where human cancer cells are supported by murine stroma. The analysis revealed that mRNA levels of stem/serrated subtype genes are mostly due to stromal expression, even when the stromal fraction is below 5%. Indeed, a classifier based on genes exclusively expressed by cancer-associated fibroblasts was significantly associated, in multiple datasets, to poor prognosis of CRC and to radioresistance of rectal cancer.\"\n",
      "!Series_summary\t\"\"\n",
      "!Series_summary\t\"\"\n",
      "!Series_overall_design\t\"Molecular Characterization of 72 primary rectal cancer formalin-fixed, paraffin-embedded (FFPE) specimens including 58 pretreatment specimens, 14 surgical specimens.\"\n",
      "!Series_overall_design\t\"\"\n",
      "!Series_overall_design\t\"The study was approved by the ethic institutional review board for \"\"Biobanking and use of human tissues for experimental studies\"\" of the Pathology Service of the Azienda Ospedaliera CittÃ  della Salute e della Scienza di Torino, Torino, Italy. The project provided a verbal  informed consent from the patients due to the retrospective approach of the study, which did not impact on their treatment. All the cases were anonymously recorded. The IRB approved this consent procedure.\"\n"
     ]
    }
   ],
   "source": [
    "background_prefixes = ['!Series_title', '!Series_summary', '!Series_overall_design']\n",
    "clinical_prefixes = ['!Sample_geo_accession', '!Sample_characteristics_ch1']\n",
    "\n",
    "background_info, clinical_data = get_background_and_clinical_data(matrix_file, background_prefixes, clinical_prefixes)\n",
    "print(background_info)"
   ]
  },
  {
   "cell_type": "code",
   "execution_count": 190,
   "metadata": {
    "ExecuteTime": {
     "end_time": "2024-01-02T01:03:01.642310454Z",
     "start_time": "2024-01-02T01:03:01.635048940Z"
    },
    "collapsed": false
   },
   "outputs": [
    {
     "data": {
      "text/html": [
       "<div>\n",
       "<style scoped>\n",
       "    .dataframe tbody tr th:only-of-type {\n",
       "        vertical-align: middle;\n",
       "    }\n",
       "\n",
       "    .dataframe tbody tr th {\n",
       "        vertical-align: top;\n",
       "    }\n",
       "\n",
       "    .dataframe thead th {\n",
       "        text-align: right;\n",
       "    }\n",
       "</style>\n",
       "<table border=\"1\" class=\"dataframe\">\n",
       "  <thead>\n",
       "    <tr style=\"text-align: right;\">\n",
       "      <th></th>\n",
       "      <th>!Sample_geo_accession</th>\n",
       "      <th>GSM1366951</th>\n",
       "      <th>GSM1366952</th>\n",
       "      <th>GSM1366953</th>\n",
       "      <th>GSM1366954</th>\n",
       "      <th>GSM1366955</th>\n",
       "      <th>GSM1366956</th>\n",
       "      <th>GSM1366957</th>\n",
       "      <th>GSM1366958</th>\n",
       "      <th>GSM1366959</th>\n",
       "      <th>...</th>\n",
       "      <th>GSM1367013</th>\n",
       "      <th>GSM1367014</th>\n",
       "      <th>GSM1367015</th>\n",
       "      <th>GSM1367016</th>\n",
       "      <th>GSM1367017</th>\n",
       "      <th>GSM1367018</th>\n",
       "      <th>GSM1367019</th>\n",
       "      <th>GSM1367020</th>\n",
       "      <th>GSM1367021</th>\n",
       "      <th>GSM1367022</th>\n",
       "    </tr>\n",
       "  </thead>\n",
       "  <tbody>\n",
       "    <tr>\n",
       "      <th>0</th>\n",
       "      <td>!Sample_characteristics_ch1</td>\n",
       "      <td>patient code: RCa0001</td>\n",
       "      <td>patient code: RCa0001</td>\n",
       "      <td>patient code: RCa0002</td>\n",
       "      <td>patient code: RCa0002</td>\n",
       "      <td>patient code: RCa0002</td>\n",
       "      <td>patient code: RCa0003</td>\n",
       "      <td>patient code: RCa0003</td>\n",
       "      <td>patient code: RCa0003</td>\n",
       "      <td>patient code: RCa0003</td>\n",
       "      <td>...</td>\n",
       "      <td>patient code: RCa0058</td>\n",
       "      <td>patient code: RCa0059</td>\n",
       "      <td>patient code: RCa0064</td>\n",
       "      <td>patient code: RCa0065</td>\n",
       "      <td>patient code: RCa0017</td>\n",
       "      <td>patient code: RCa0018</td>\n",
       "      <td>patient code: RCa0019</td>\n",
       "      <td>patient code: RCa0020</td>\n",
       "      <td>patient code: RCa0021</td>\n",
       "      <td>patient code: RCa0022</td>\n",
       "    </tr>\n",
       "    <tr>\n",
       "      <th>1</th>\n",
       "      <td>!Sample_characteristics_ch1</td>\n",
       "      <td>sample type: SS</td>\n",
       "      <td>sample type: PB</td>\n",
       "      <td>sample type: SS</td>\n",
       "      <td>sample type: SS</td>\n",
       "      <td>sample type: PB</td>\n",
       "      <td>sample type: PB</td>\n",
       "      <td>sample type: PB</td>\n",
       "      <td>sample type: PB</td>\n",
       "      <td>sample type: SS</td>\n",
       "      <td>...</td>\n",
       "      <td>sample type: PB</td>\n",
       "      <td>sample type: PB</td>\n",
       "      <td>sample type: PB</td>\n",
       "      <td>sample type: PB</td>\n",
       "      <td>sample type: PB</td>\n",
       "      <td>sample type: PB</td>\n",
       "      <td>sample type: PB</td>\n",
       "      <td>sample type: PB</td>\n",
       "      <td>sample type: PB</td>\n",
       "      <td>sample type: PB</td>\n",
       "    </tr>\n",
       "    <tr>\n",
       "      <th>2</th>\n",
       "      <td>!Sample_characteristics_ch1</td>\n",
       "      <td>origin: Brussel: UZ Brussel Oncologisch Centrum</td>\n",
       "      <td>origin: Brussel: UZ Brussel Oncologisch Centrum</td>\n",
       "      <td>origin: Brussel: UZ Brussel Oncologisch Centrum</td>\n",
       "      <td>origin: Brussel: UZ Brussel Oncologisch Centrum</td>\n",
       "      <td>origin: Brussel: UZ Brussel Oncologisch Centrum</td>\n",
       "      <td>origin: Brussel: UZ Brussel Oncologisch Centrum</td>\n",
       "      <td>origin: Brussel: UZ Brussel Oncologisch Centrum</td>\n",
       "      <td>origin: Brussel: UZ Brussel Oncologisch Centrum</td>\n",
       "      <td>origin: Brussel: UZ Brussel Oncologisch Centrum</td>\n",
       "      <td>...</td>\n",
       "      <td>origin: Turin: Deparment of Medical Science, U...</td>\n",
       "      <td>origin: Turin: Deparment of Medical Science, U...</td>\n",
       "      <td>origin: Turin: Deparment of Medical Science, U...</td>\n",
       "      <td>origin: Turin: Deparment of Medical Science, U...</td>\n",
       "      <td>origin: Cluj-Napaca: University of Medicine an...</td>\n",
       "      <td>origin: Cluj-Napaca: University of Medicine an...</td>\n",
       "      <td>origin: Cluj-Napaca: University of Medicine an...</td>\n",
       "      <td>origin: Cluj-Napaca: University of Medicine an...</td>\n",
       "      <td>origin: Cluj-Napaca: University of Medicine an...</td>\n",
       "      <td>origin: Cluj-Napaca: University of Medicine an...</td>\n",
       "    </tr>\n",
       "    <tr>\n",
       "      <th>3</th>\n",
       "      <td>!Sample_characteristics_ch1</td>\n",
       "      <td>mandard: 3</td>\n",
       "      <td>mandard: 3</td>\n",
       "      <td>mandard: 4</td>\n",
       "      <td>mandard: 4</td>\n",
       "      <td>mandard: 4</td>\n",
       "      <td>mandard: 1</td>\n",
       "      <td>mandard: 1</td>\n",
       "      <td>mandard: 1</td>\n",
       "      <td>mandard: 1</td>\n",
       "      <td>...</td>\n",
       "      <td>mandard: 2</td>\n",
       "      <td>mandard: 4</td>\n",
       "      <td>mandard: 1</td>\n",
       "      <td>mandard: 4</td>\n",
       "      <td>mandard: 2</td>\n",
       "      <td>mandard: 3</td>\n",
       "      <td>mandard: 5</td>\n",
       "      <td>mandard: 5</td>\n",
       "      <td>mandard: 5</td>\n",
       "      <td>mandard: 2</td>\n",
       "    </tr>\n",
       "    <tr>\n",
       "      <th>4</th>\n",
       "      <td>!Sample_characteristics_ch1</td>\n",
       "      <td>response 3 classes: CR</td>\n",
       "      <td>response 3 classes: CR</td>\n",
       "      <td>response 3 classes: RES</td>\n",
       "      <td>response 3 classes: RES</td>\n",
       "      <td>response 3 classes: RES</td>\n",
       "      <td>response 3 classes: CR</td>\n",
       "      <td>response 3 classes: CR</td>\n",
       "      <td>response 3 classes: CR</td>\n",
       "      <td>response 3 classes: CR</td>\n",
       "      <td>...</td>\n",
       "      <td>response 3 classes: CR</td>\n",
       "      <td>response 3 classes: RES</td>\n",
       "      <td>response 3 classes: CR</td>\n",
       "      <td>response 3 classes: RES</td>\n",
       "      <td>response 3 classes: CR</td>\n",
       "      <td>response 3 classes: PR</td>\n",
       "      <td>response 3 classes: RES</td>\n",
       "      <td>response 3 classes: RES</td>\n",
       "      <td>response 3 classes: RES</td>\n",
       "      <td>response 3 classes: CR</td>\n",
       "    </tr>\n",
       "  </tbody>\n",
       "</table>\n",
       "<p>5 rows × 73 columns</p>\n",
       "</div>"
      ],
      "text/plain": [
       "         !Sample_geo_accession  \\\n",
       "0  !Sample_characteristics_ch1   \n",
       "1  !Sample_characteristics_ch1   \n",
       "2  !Sample_characteristics_ch1   \n",
       "3  !Sample_characteristics_ch1   \n",
       "4  !Sample_characteristics_ch1   \n",
       "\n",
       "                                        GSM1366951  \\\n",
       "0                            patient code: RCa0001   \n",
       "1                                  sample type: SS   \n",
       "2  origin: Brussel: UZ Brussel Oncologisch Centrum   \n",
       "3                                       mandard: 3   \n",
       "4                           response 3 classes: CR   \n",
       "\n",
       "                                        GSM1366952  \\\n",
       "0                            patient code: RCa0001   \n",
       "1                                  sample type: PB   \n",
       "2  origin: Brussel: UZ Brussel Oncologisch Centrum   \n",
       "3                                       mandard: 3   \n",
       "4                           response 3 classes: CR   \n",
       "\n",
       "                                        GSM1366953  \\\n",
       "0                            patient code: RCa0002   \n",
       "1                                  sample type: SS   \n",
       "2  origin: Brussel: UZ Brussel Oncologisch Centrum   \n",
       "3                                       mandard: 4   \n",
       "4                          response 3 classes: RES   \n",
       "\n",
       "                                        GSM1366954  \\\n",
       "0                            patient code: RCa0002   \n",
       "1                                  sample type: SS   \n",
       "2  origin: Brussel: UZ Brussel Oncologisch Centrum   \n",
       "3                                       mandard: 4   \n",
       "4                          response 3 classes: RES   \n",
       "\n",
       "                                        GSM1366955  \\\n",
       "0                            patient code: RCa0002   \n",
       "1                                  sample type: PB   \n",
       "2  origin: Brussel: UZ Brussel Oncologisch Centrum   \n",
       "3                                       mandard: 4   \n",
       "4                          response 3 classes: RES   \n",
       "\n",
       "                                        GSM1366956  \\\n",
       "0                            patient code: RCa0003   \n",
       "1                                  sample type: PB   \n",
       "2  origin: Brussel: UZ Brussel Oncologisch Centrum   \n",
       "3                                       mandard: 1   \n",
       "4                           response 3 classes: CR   \n",
       "\n",
       "                                        GSM1366957  \\\n",
       "0                            patient code: RCa0003   \n",
       "1                                  sample type: PB   \n",
       "2  origin: Brussel: UZ Brussel Oncologisch Centrum   \n",
       "3                                       mandard: 1   \n",
       "4                           response 3 classes: CR   \n",
       "\n",
       "                                        GSM1366958  \\\n",
       "0                            patient code: RCa0003   \n",
       "1                                  sample type: PB   \n",
       "2  origin: Brussel: UZ Brussel Oncologisch Centrum   \n",
       "3                                       mandard: 1   \n",
       "4                           response 3 classes: CR   \n",
       "\n",
       "                                        GSM1366959  ...  \\\n",
       "0                            patient code: RCa0003  ...   \n",
       "1                                  sample type: SS  ...   \n",
       "2  origin: Brussel: UZ Brussel Oncologisch Centrum  ...   \n",
       "3                                       mandard: 1  ...   \n",
       "4                           response 3 classes: CR  ...   \n",
       "\n",
       "                                          GSM1367013  \\\n",
       "0                              patient code: RCa0058   \n",
       "1                                    sample type: PB   \n",
       "2  origin: Turin: Deparment of Medical Science, U...   \n",
       "3                                         mandard: 2   \n",
       "4                             response 3 classes: CR   \n",
       "\n",
       "                                          GSM1367014  \\\n",
       "0                              patient code: RCa0059   \n",
       "1                                    sample type: PB   \n",
       "2  origin: Turin: Deparment of Medical Science, U...   \n",
       "3                                         mandard: 4   \n",
       "4                            response 3 classes: RES   \n",
       "\n",
       "                                          GSM1367015  \\\n",
       "0                              patient code: RCa0064   \n",
       "1                                    sample type: PB   \n",
       "2  origin: Turin: Deparment of Medical Science, U...   \n",
       "3                                         mandard: 1   \n",
       "4                             response 3 classes: CR   \n",
       "\n",
       "                                          GSM1367016  \\\n",
       "0                              patient code: RCa0065   \n",
       "1                                    sample type: PB   \n",
       "2  origin: Turin: Deparment of Medical Science, U...   \n",
       "3                                         mandard: 4   \n",
       "4                            response 3 classes: RES   \n",
       "\n",
       "                                          GSM1367017  \\\n",
       "0                              patient code: RCa0017   \n",
       "1                                    sample type: PB   \n",
       "2  origin: Cluj-Napaca: University of Medicine an...   \n",
       "3                                         mandard: 2   \n",
       "4                             response 3 classes: CR   \n",
       "\n",
       "                                          GSM1367018  \\\n",
       "0                              patient code: RCa0018   \n",
       "1                                    sample type: PB   \n",
       "2  origin: Cluj-Napaca: University of Medicine an...   \n",
       "3                                         mandard: 3   \n",
       "4                             response 3 classes: PR   \n",
       "\n",
       "                                          GSM1367019  \\\n",
       "0                              patient code: RCa0019   \n",
       "1                                    sample type: PB   \n",
       "2  origin: Cluj-Napaca: University of Medicine an...   \n",
       "3                                         mandard: 5   \n",
       "4                            response 3 classes: RES   \n",
       "\n",
       "                                          GSM1367020  \\\n",
       "0                              patient code: RCa0020   \n",
       "1                                    sample type: PB   \n",
       "2  origin: Cluj-Napaca: University of Medicine an...   \n",
       "3                                         mandard: 5   \n",
       "4                            response 3 classes: RES   \n",
       "\n",
       "                                          GSM1367021  \\\n",
       "0                              patient code: RCa0021   \n",
       "1                                    sample type: PB   \n",
       "2  origin: Cluj-Napaca: University of Medicine an...   \n",
       "3                                         mandard: 5   \n",
       "4                            response 3 classes: RES   \n",
       "\n",
       "                                          GSM1367022  \n",
       "0                              patient code: RCa0022  \n",
       "1                                    sample type: PB  \n",
       "2  origin: Cluj-Napaca: University of Medicine an...  \n",
       "3                                         mandard: 2  \n",
       "4                             response 3 classes: CR  \n",
       "\n",
       "[5 rows x 73 columns]"
      ]
     },
     "execution_count": 190,
     "metadata": {},
     "output_type": "execute_result"
    }
   ],
   "source": [
    "clinical_data.head()"
   ]
  },
  {
   "cell_type": "code",
   "execution_count": 191,
   "metadata": {
    "ExecuteTime": {
     "end_time": "2024-01-02T01:03:01.805026160Z",
     "start_time": "2024-01-02T01:03:01.804428154Z"
    },
    "collapsed": false
   },
   "outputs": [
    {
     "data": {
      "text/plain": [
       "{0: ['patient code: RCa0001',\n",
       "  'patient code: RCa0002',\n",
       "  'patient code: RCa0003',\n",
       "  'patient code: RCa0004',\n",
       "  'patient code: RCa0005',\n",
       "  'patient code: RCa0006',\n",
       "  'patient code: RCa0007',\n",
       "  'patient code: RCa0008',\n",
       "  'patient code: RCa0009',\n",
       "  'patient code: RCa0010',\n",
       "  'patient code: RCa0011',\n",
       "  'patient code: RCa0012',\n",
       "  'patient code: RCa0013',\n",
       "  'patient code: RCa0014',\n",
       "  'patient code: RCa0015',\n",
       "  'patient code: RCa0016',\n",
       "  'patient code: RCa0024',\n",
       "  'patient code: RCa0026',\n",
       "  'patient code: RCa0027',\n",
       "  'patient code: RCa0028',\n",
       "  'patient code: RCa0029',\n",
       "  'patient code: RCa0030',\n",
       "  'patient code: RCa0031',\n",
       "  'patient code: RCa0032',\n",
       "  'patient code: RCa0033',\n",
       "  'patient code: RCa0034',\n",
       "  'patient code: RCa0035',\n",
       "  'patient code: RCa0036',\n",
       "  'patient code: RCa0037',\n",
       "  'patient code: RCa0038'],\n",
       " 1: ['sample type: SS', 'sample type: PB'],\n",
       " 2: ['origin: Brussel: UZ Brussel Oncologisch Centrum',\n",
       "  'origin: Candiolo: Institute for Cancer Research, University of Turin',\n",
       "  'origin: Turin: Deparment of Medical Science, University of Turin',\n",
       "  'origin: Cluj-Napaca: University of Medicine and Pharmacology'],\n",
       " 3: ['mandard: 3',\n",
       "  'mandard: 4',\n",
       "  'mandard: 1',\n",
       "  'mandard: NA',\n",
       "  'mandard: 5',\n",
       "  'mandard: 2'],\n",
       " 4: ['response 3 classes: CR',\n",
       "  'response 3 classes: RES',\n",
       "  'response 3 classes: PR'],\n",
       " 5: ['diagnosis: Invasive low grade adenocarcinoma of the rectum',\n",
       "  'diagnosis: Tubulovilleus adenoma',\n",
       "  'diagnosis: Transmural invasive moderately differentiated adenocarcinoma',\n",
       "  'diagnosis: Invasive moederately differentiated adeocarcinoma',\n",
       "  'diagnosis: Moderately differentiated adenocarcinoma',\n",
       "  'diagnosis: Transmural scare, without any residual vital tumor tissue',\n",
       "  'diagnosis: Transmural invasive moderately to bad differentiated adenocarcinoma',\n",
       "  'diagnosis: Invasive, moderately to bad differentiated adenocarcinoma',\n",
       "  'diagnosis: Low-grade adenocarcinoma',\n",
       "  'diagnosis: Maderately differentiated adenocarcinoma',\n",
       "  'diagnosis: Poorly differentiated invasive adenocarcinoma (no surgical specimen available)',\n",
       "  'diagnosis: Low-grade adenocarcinoma with invasion of the perirectal fat',\n",
       "  'diagnosis: Poorly differentiated invasive adenocarcinoma',\n",
       "  'diagnosis: Invasive adenocarcinoma',\n",
       "  'diagnosis: Adenocarcinom, at least intramucosaal (no surgical specimen available)',\n",
       "  'diagnosis: Invasive adenocarcinoma (grade op invasion not to be determined)',\n",
       "  'diagnosis: The major part of the tumor is a tubular villus adenoma, with limited parts of well differantiated intramucosaal invasive adenocarcinoma',\n",
       "  'diagnosis: Tubular adenoma with moderate dysplasia',\n",
       "  'diagnosis: Invasive, moderately differentiated adenocarcinoma',\n",
       "  'diagnosis: Invasive, moderately differentiated adenorcarcinoma, at least intramucosaal',\n",
       "  'diagnosis: Transmural invasive moderately differentiated adenocarcinoma (cilinder cells)',\n",
       "  'diagnosis: invasive, moderately differentiated adenocarcinoma (cilinder cells)',\n",
       "  'diagnosis: Transmural invasive moderately differentiated adenocarcinoma (intestinal type)',\n",
       "  'diagnosis: Invasive well differentiated adenocarcinoma (cilinder cells)',\n",
       "  'diagnosis: Tubulovilleus adenoma with invasion in the submucosa (at least pT1)',\n",
       "  'diagnosis: No residual tumorcells found in ulcus',\n",
       "  'diagnosis: NA',\n",
       "  'diagnosis: adenocarcinoma',\n",
       "  'diagnosis: Adenocarcinoma Tubulare G2',\n",
       "  'diagnosis: 1) Polipo valvola ileo-cecale; 2) Micropolipi colon trasverso; 3) Polipo; 4) Adenocarcinoma moderatamente differenziato (G2)'],\n",
       " 6: ['recurrence: 0', 'recurrence: 1', 'note: Mucosa', 'recurrence: NA'],\n",
       " 7: ['df: 35',\n",
       "  'df: 44',\n",
       "  'df: 63',\n",
       "  'df: 54',\n",
       "  'df: 79',\n",
       "  'df: 16',\n",
       "  'df: 74',\n",
       "  'df: 62',\n",
       "  'df: 58',\n",
       "  'df: 56',\n",
       "  'df: 25',\n",
       "  'df: 20',\n",
       "  'df: 12',\n",
       "  'recurrence: NA',\n",
       "  'df: NA',\n",
       "  'df: 31',\n",
       "  'df: 32',\n",
       "  'df: 24',\n",
       "  'df: 37',\n",
       "  'df: 53',\n",
       "  'df: 55',\n",
       "  'df: 69',\n",
       "  'df: 77',\n",
       "  'df: 26',\n",
       "  'df: 29',\n",
       "  'df: 17',\n",
       "  'df: 13',\n",
       "  'df: 27',\n",
       "  'df: 11',\n",
       "  'df: 4'],\n",
       " 8: ['death: 0', 'death: 1', 'df: NA', 'death: NA'],\n",
       " 9: ['dsf: 35',\n",
       "  'dsf: 44',\n",
       "  'dsf: 63',\n",
       "  'dsf: 54',\n",
       "  'dsf: 79',\n",
       "  'dsf: 16',\n",
       "  'dsf: 74',\n",
       "  'dsf: 62',\n",
       "  'dsf: 58',\n",
       "  'dsf: 56',\n",
       "  'dsf: 36',\n",
       "  'dsf: 27',\n",
       "  'dsf: 13',\n",
       "  'death: NA',\n",
       "  'dsf: NA',\n",
       "  'dsf: 31',\n",
       "  'dsf: 32',\n",
       "  'dsf: 33',\n",
       "  'dsf: 39',\n",
       "  'dsf: 53',\n",
       "  'dsf: 55',\n",
       "  'dsf: 69',\n",
       "  'dsf: 77',\n",
       "  'dsf: 26',\n",
       "  'dsf: 17',\n",
       "  'dsf: 20',\n",
       "  'dsf: 71',\n",
       "  'dsf: 18',\n",
       "  'dsf: 4',\n",
       "  'dsf: 15'],\n",
       " 10: [nan, 'dsf: NA']}"
      ]
     },
     "execution_count": 191,
     "metadata": {},
     "output_type": "execute_result"
    }
   ],
   "source": [
    "clinical_data_unique = get_unique_values_by_row(clinical_data)\n",
    "clinical_data_unique"
   ]
  },
  {
   "cell_type": "markdown",
   "metadata": {
    "ExecuteTime": {
     "end_time": "2023-12-31T03:58:04.978204446Z",
     "start_time": "2023-12-31T03:58:04.922270095Z"
    },
    "collapsed": false
   },
   "source": [
    "Analyze the metadata to determine data relevance and find ways to extract the clinical data.\n",
    "Reference prompt:"
   ]
  },
  {
   "cell_type": "code",
   "execution_count": 192,
   "metadata": {
    "ExecuteTime": {
     "end_time": "2024-01-02T01:03:02.369775044Z",
     "start_time": "2024-01-02T01:03:02.356501629Z"
    },
    "collapsed": false
   },
   "outputs": [
    {
     "data": {
      "text/plain": [
       "'As a biomedical research team, we are selecting datasets to study the association between the human trait \\'Colon and Rectal Cancer\\' and genetic factors, optionally considering the influence of age and gender. After searching the GEO database and parsing the matrix file of a series, we obtained background information and sample characteristics data. We will provide textual information about the dataset background, and a Python dictionary storing a list of unique values for each field of the sample characteristics data. Please carefully review the provided information and answer the following questions about this dataset:\\n1. Does this dataset contain gene expression data? (Note: Pure miRNA data is not suitable.)\\n2. For each of the traits \\'Colon and Rectal Cancer\\', \\'age\\', and \\'gender\\', please address these points:\\n   (1) Is there human data available for this trait?\\n   (2) If so, identify the key in the sample characteristics dictionary where unique values of this trait is recorded. The key is an integer. The trait information might be explicitly recorded, or can be inferred from the field with some biomedical knowledge or understanding about the data collection process.\\n   (3) Choose an appropriate data type (either \\'continuous\\' or \\'binary\\') for each trait. Write a Python function to convert any given value of the trait to this data type. The function should handle inference about the trait value and convert unknown values to None.\\n   Name the functions \\'convert_trait\\', \\'convert_age\\', and \\'convert_gender\\', respectively.\\n\\nBackground information about the dataset:\\n!Series_title\\t\"Stromal contribution to expression signatures of colorectal cancer (rectal samples)\"\\n!Series_summary\\t\"We noticed that a recently identified poor prognosis stem/serrated molecular subtype of colorectal cancer (CRC) is characterized by up-regulation of transcripts known to be also expressed by stromal cells. To better define the origin of such transcripts, we analyzed  RNAseq and microarray datasets from CRC mouse xenografts, where human cancer cells are supported by murine stroma. The analysis revealed that mRNA levels of stem/serrated subtype genes are mostly due to stromal expression, even when the stromal fraction is below 5%. Indeed, a classifier based on genes exclusively expressed by cancer-associated fibroblasts was significantly associated, in multiple datasets, to poor prognosis of CRC and to radioresistance of rectal cancer.\"\\n!Series_summary\\t\"\"\\n!Series_summary\\t\"\"\\n!Series_overall_design\\t\"Molecular Characterization of 72 primary rectal cancer formalin-fixed, paraffin-embedded (FFPE) specimens including 58 pretreatment specimens, 14 surgical specimens.\"\\n!Series_overall_design\\t\"\"\\n!Series_overall_design\\t\"The study was approved by the ethic institutional review board for \"\"Biobanking and use of human tissues for experimental studies\"\" of the Pathology Service of the Azienda Ospedaliera CittÃ\\xa0 della Salute e della Scienza di Torino, Torino, Italy. The project provided a verbal  informed consent from the patients due to the retrospective approach of the study, which did not impact on their treatment. All the cases were anonymously recorded. The IRB approved this consent procedure.\"\\n\\nSample characteristics dictionary (from \"!Sample_characteristics_ch1\", converted to a Python dictionary that stores the unique values for each field):\\n{0: [\\'patient code: RCa0001\\', \\'patient code: RCa0002\\', \\'patient code: RCa0003\\', \\'patient code: RCa0004\\', \\'patient code: RCa0005\\', \\'patient code: RCa0006\\', \\'patient code: RCa0007\\', \\'patient code: RCa0008\\', \\'patient code: RCa0009\\', \\'patient code: RCa0010\\', \\'patient code: RCa0011\\', \\'patient code: RCa0012\\', \\'patient code: RCa0013\\', \\'patient code: RCa0014\\', \\'patient code: RCa0015\\', \\'patient code: RCa0016\\', \\'patient code: RCa0024\\', \\'patient code: RCa0026\\', \\'patient code: RCa0027\\', \\'patient code: RCa0028\\', \\'patient code: RCa0029\\', \\'patient code: RCa0030\\', \\'patient code: RCa0031\\', \\'patient code: RCa0032\\', \\'patient code: RCa0033\\', \\'patient code: RCa0034\\', \\'patient code: RCa0035\\', \\'patient code: RCa0036\\', \\'patient code: RCa0037\\', \\'patient code: RCa0038\\'], 1: [\\'sample type: SS\\', \\'sample type: PB\\'], 2: [\\'origin: Brussel: UZ Brussel Oncologisch Centrum\\', \\'origin: Candiolo: Institute for Cancer Research, University of Turin\\', \\'origin: Turin: Deparment of Medical Science, University of Turin\\', \\'origin: Cluj-Napaca: University of Medicine and Pharmacology\\'], 3: [\\'mandard: 3\\', \\'mandard: 4\\', \\'mandard: 1\\', \\'mandard: NA\\', \\'mandard: 5\\', \\'mandard: 2\\'], 4: [\\'response 3 classes: CR\\', \\'response 3 classes: RES\\', \\'response 3 classes: PR\\'], 5: [\\'diagnosis: Invasive low grade adenocarcinoma of the rectum\\', \\'diagnosis: Tubulovilleus adenoma\\', \\'diagnosis: Transmural invasive moderately differentiated adenocarcinoma\\', \\'diagnosis: Invasive moederately differentiated adeocarcinoma\\', \\'diagnosis: Moderately differentiated adenocarcinoma\\', \\'diagnosis: Transmural scare, without any residual vital tumor tissue\\', \\'diagnosis: Transmural invasive moderately to bad differentiated adenocarcinoma\\', \\'diagnosis: Invasive, moderately to bad differentiated adenocarcinoma\\', \\'diagnosis: Low-grade adenocarcinoma\\', \\'diagnosis: Maderately differentiated adenocarcinoma\\', \\'diagnosis: Poorly differentiated invasive adenocarcinoma (no surgical specimen available)\\', \\'diagnosis: Low-grade adenocarcinoma with invasion of the perirectal fat\\', \\'diagnosis: Poorly differentiated invasive adenocarcinoma\\', \\'diagnosis: Invasive adenocarcinoma\\', \\'diagnosis: Adenocarcinom, at least intramucosaal (no surgical specimen available)\\', \\'diagnosis: Invasive adenocarcinoma (grade op invasion not to be determined)\\', \\'diagnosis: The major part of the tumor is a tubular villus adenoma, with limited parts of well differantiated intramucosaal invasive adenocarcinoma\\', \\'diagnosis: Tubular adenoma with moderate dysplasia\\', \\'diagnosis: Invasive, moderately differentiated adenocarcinoma\\', \\'diagnosis: Invasive, moderately differentiated adenorcarcinoma, at least intramucosaal\\', \\'diagnosis: Transmural invasive moderately differentiated adenocarcinoma (cilinder cells)\\', \\'diagnosis: invasive, moderately differentiated adenocarcinoma (cilinder cells)\\', \\'diagnosis: Transmural invasive moderately differentiated adenocarcinoma (intestinal type)\\', \\'diagnosis: Invasive well differentiated adenocarcinoma (cilinder cells)\\', \\'diagnosis: Tubulovilleus adenoma with invasion in the submucosa (at least pT1)\\', \\'diagnosis: No residual tumorcells found in ulcus\\', \\'diagnosis: NA\\', \\'diagnosis: adenocarcinoma\\', \\'diagnosis: Adenocarcinoma Tubulare G2\\', \\'diagnosis: 1) Polipo valvola ileo-cecale; 2) Micropolipi colon trasverso; 3) Polipo; 4) Adenocarcinoma moderatamente differenziato (G2)\\'], 6: [\\'recurrence: 0\\', \\'recurrence: 1\\', \\'note: Mucosa\\', \\'recurrence: NA\\'], 7: [\\'df: 35\\', \\'df: 44\\', \\'df: 63\\', \\'df: 54\\', \\'df: 79\\', \\'df: 16\\', \\'df: 74\\', \\'df: 62\\', \\'df: 58\\', \\'df: 56\\', \\'df: 25\\', \\'df: 20\\', \\'df: 12\\', \\'recurrence: NA\\', \\'df: NA\\', \\'df: 31\\', \\'df: 32\\', \\'df: 24\\', \\'df: 37\\', \\'df: 53\\', \\'df: 55\\', \\'df: 69\\', \\'df: 77\\', \\'df: 26\\', \\'df: 29\\', \\'df: 17\\', \\'df: 13\\', \\'df: 27\\', \\'df: 11\\', \\'df: 4\\'], 8: [\\'death: 0\\', \\'death: 1\\', \\'df: NA\\', \\'death: NA\\'], 9: [\\'dsf: 35\\', \\'dsf: 44\\', \\'dsf: 63\\', \\'dsf: 54\\', \\'dsf: 79\\', \\'dsf: 16\\', \\'dsf: 74\\', \\'dsf: 62\\', \\'dsf: 58\\', \\'dsf: 56\\', \\'dsf: 36\\', \\'dsf: 27\\', \\'dsf: 13\\', \\'death: NA\\', \\'dsf: NA\\', \\'dsf: 31\\', \\'dsf: 32\\', \\'dsf: 33\\', \\'dsf: 39\\', \\'dsf: 53\\', \\'dsf: 55\\', \\'dsf: 69\\', \\'dsf: 77\\', \\'dsf: 26\\', \\'dsf: 17\\', \\'dsf: 20\\', \\'dsf: 71\\', \\'dsf: 18\\', \\'dsf: 4\\', \\'dsf: 15\\'], 10: [nan, \\'dsf: NA\\']}\\n'"
      ]
     },
     "execution_count": 192,
     "metadata": {},
     "output_type": "execute_result"
    }
   ],
   "source": [
    "f'''As a biomedical research team, we are selecting datasets to study the association between the human trait \\'{TRAIT}\\' and genetic factors, optionally considering the influence of age and gender. After searching the GEO database and parsing the matrix file of a series, we obtained background information and sample characteristics data. We will provide textual information about the dataset background, and a Python dictionary storing a list of unique values for each field of the sample characteristics data. Please carefully review the provided information and answer the following questions about this dataset:\n",
    "1. Does this dataset contain gene expression data? (Note: Pure miRNA data is not suitable.)\n",
    "2. For each of the traits \\'{TRAIT}\\', 'age', and 'gender', please address these points:\n",
    "   (1) Is there human data available for this trait?\n",
    "   (2) If so, identify the key in the sample characteristics dictionary where unique values of this trait is recorded. The key is an integer. The trait information might be explicitly recorded, or can be inferred from the field with some biomedical knowledge or understanding about the data collection process.\n",
    "   (3) Choose an appropriate data type (either 'continuous' or 'binary') for each trait. Write a Python function to convert any given value of the trait to this data type. The function should handle inference about the trait value and convert unknown values to None.\n",
    "   Name the functions 'convert_trait', 'convert_age', and 'convert_gender', respectively.\n",
    "\n",
    "Background information about the dataset:\n",
    "{background_info}\n",
    "\n",
    "Sample characteristics dictionary (from \"!Sample_characteristics_ch1\", converted to a Python dictionary that stores the unique values for each field):\n",
    "{clinical_data_unique}\n",
    "'''"
   ]
  },
  {
   "cell_type": "markdown",
   "metadata": {
    "ExecuteTime": {
     "end_time": "2023-12-31T03:58:04.978240504Z",
     "start_time": "2023-12-31T03:58:04.922365324Z"
    },
    "collapsed": false
   },
   "source": [
    "Understand and verify the answer from GPT, to assign values to the below variables. Assign None to the 'row_id' variables if relevant data row was not found.\n",
    "Later we need to let GPT format its answer to automatically do these. But given the complexity of this step, let's grow some insight from the free-text answers for now."
   ]
  },
  {
   "cell_type": "code",
   "execution_count": 214,
   "metadata": {
    "ExecuteTime": {
     "end_time": "2024-01-02T01:03:03.079540570Z",
     "start_time": "2024-01-02T01:03:03.073638535Z"
    },
    "collapsed": false
   },
   "outputs": [],
   "source": [
    "is_gene_availabe = True\n",
    "trait_row = 5\n",
    "age_row = 3\n",
    "gender_row = None\n",
    "\n",
    "trait_type = 'binary'"
   ]
  },
  {
   "cell_type": "code",
   "execution_count": 215,
   "metadata": {
    "ExecuteTime": {
     "end_time": "2024-01-02T01:03:03.572682163Z",
     "start_time": "2024-01-02T01:03:03.559775513Z"
    },
    "collapsed": false
   },
   "outputs": [],
   "source": [
    "is_available = is_gene_availabe and (trait_row is not None)\n",
    "if not is_available:\n",
    "    save_cohort_info(cohort, JSON_PATH, is_available)\n",
    "    print(\"This cohort is not usable. Please skip the following steps and jump to the next accession number.\")"
   ]
  },
  {
   "cell_type": "code",
   "execution_count": 216,
   "metadata": {
    "ExecuteTime": {
     "end_time": "2024-01-02T01:03:03.973964287Z",
     "start_time": "2024-01-02T01:03:03.964958096Z"
    },
    "collapsed": false
   },
   "outputs": [],
   "source": [
    "# def convert_trait(tissue_type):\n",
    "#     \"\"\"\n",
    "#     Convert tissue type to epilepsy presence (binary).\n",
    "#     Assuming epilepsy presence for 'Hippocampus' tissue.\n",
    "#     \"\"\"\n",
    "#     if tissue_type == 'primary diagnosis: PSORIASIS':\n",
    "#         return 1  # Epilepsy present\n",
    "#     else:\n",
    "#         return 0  # Epilepsy not present\n",
    "\n",
    "# def convert_age(age_string):\n",
    "#     \"\"\"\n",
    "#     Convert age string to a numerical value.\n",
    "#     \"\"\"\n",
    "#     if age_string.startswith('age: '):\n",
    "#         try:\n",
    "#             return int(age_string.split('age: ')[1].rstrip(''))  # Extracting numeric part\n",
    "#         except ValueError:\n",
    "#             return None  # In case of parsing error\n",
    "#     else:\n",
    "#         return None  # If age string does not follow expected format\n",
    "\n",
    "# def convert_gender(gender_string):\n",
    "#     \"\"\"\n",
    "#     Convert gender string to a binary representation.\n",
    "#     Female -> 0, Male -> 1, Unknown -> None\n",
    "#     \"\"\"\n",
    "#     if gender_string == 'Sex: Female':\n",
    "#         return 0\n",
    "#     elif gender_string == 'Sex: Male':\n",
    "#         return 1\n",
    "#     else:\n",
    "#         return None  # In case of unknown gender\n",
    "\n",
    "# # Example usage\n",
    "# example_tissue = 'tissue: Hippocampus'\n",
    "# example_age = 'age: 23y'\n",
    "# example_gender = 'gender: Male'\n",
    "\n",
    "# converted_trait = convert_trait(example_tissue)\n",
    "# converted_age = convert_age(example_age)\n",
    "# converted_gender = convert_gender(example_gender)\n",
    "\n",
    "# converted_trait, converted_age, converted_gender\n",
    "\n",
    "# def convert_trait(value):\n",
    "#     # Assuming 'crc location' is categorical, so it's binary\n",
    "#     if value in ['Rectum-Ca', 'Sigma-Ca', 'Colon-Ca']:\n",
    "#         return value\n",
    "#     else:\n",
    "#         return None\n",
    "\n",
    "# def convert_age(value):\n",
    "#     try:\n",
    "#         return float(value)\n",
    "#     except ValueError:\n",
    "#         return None\n",
    "\n",
    "# def convert_gender(value):\n",
    "#     if value == 'treatment: non-irradiated':\n",
    "#         return 'male'\n",
    "#     elif value == 'treatment: irradiated':\n",
    "#         return 'female'\n",
    "#     else:\n",
    "#         return None\n",
    "\n",
    "# def convert_trait(value):\n",
    "#     if value in ['rectal carcinoma', 'rectal adenoma']:\n",
    "#         return value\n",
    "#     else:\n",
    "#         return None\n",
    "\n",
    "# def convert_age(value):\n",
    "#     try:\n",
    "#         return float(value)\n",
    "#     except ValueError:\n",
    "#         return None\n",
    "\n",
    "# def convert_gender(value):\n",
    "#     if value == 'M':\n",
    "#         return 'Male'\n",
    "#     elif value == 'F':\n",
    "#         return 'Female'\n",
    "#     else:\n",
    "#         return None\n",
    "\n",
    "def convert_trait(value):\n",
    "    if value in ['diagnosis: Invasive low grade adenocarcinoma of the rectum', 'diagnosis: Tubulovilleus adenoma', 'diagnosis: Transmural invasive moderately differentiated adenocarcinoma', ...]:\n",
    "        return 1  # Presence of specific diagnosis\n",
    "    elif value in ['response 3 classes: CR', 'response 3 classes: RES', 'response 3 classes: PR']:\n",
    "        return 1  # Positive response to treatment\n",
    "    else:\n",
    "        return 0  # Absence of specific diagnosis or treatment response\n",
    "\n",
    "\n",
    "# def convert_age(value):\n",
    "#     # Assuming age is provided as a continuous value (e.g., age in years)\n",
    "#     # and can be converted to a numerical data type.\n",
    "#     try:\n",
    "#         return int(value.split(': ')[1])  # Extract and convert age to integer\n",
    "#     except (ValueError, IndexError):\n",
    "#         return None  # Unknown or invalid age value\n",
    "def convert_age(value):\n",
    "    try:\n",
    "        return float(value.split(': ')[1])  # Extract numerical age\n",
    "    except (IndexError, ValueError):\n",
    "        return None  # Convert unknown values to None\n",
    "\n",
    "\n",
    "# def convert_gender(value):\n",
    "#     try:\n",
    "#         return value.split(': ')[1] # Extract and convert age to integer\n",
    "#     except (ValueError, IndexError):\n",
    "#         return None  # Unknown or invalid age value\n",
    "    \n",
    "def convert_gender(value):\n",
    "    if value == 'Sex: male':\n",
    "        return 1  # Male\n",
    "    elif value == 'Sex: female':\n",
    "        return 0  # Female\n",
    "    else:\n",
    "        return None  # Convert unknown values to None\n",
    "\n",
    "\n",
    "\n",
    "\n"
   ]
  },
  {
   "cell_type": "code",
   "execution_count": 217,
   "metadata": {
    "ExecuteTime": {
     "end_time": "2024-01-02T01:03:04.637878352Z",
     "start_time": "2024-01-02T01:03:04.593886885Z"
    },
    "collapsed": false
   },
   "outputs": [
    {
     "data": {
      "text/html": [
       "<div>\n",
       "<style scoped>\n",
       "    .dataframe tbody tr th:only-of-type {\n",
       "        vertical-align: middle;\n",
       "    }\n",
       "\n",
       "    .dataframe tbody tr th {\n",
       "        vertical-align: top;\n",
       "    }\n",
       "\n",
       "    .dataframe thead th {\n",
       "        text-align: right;\n",
       "    }\n",
       "</style>\n",
       "<table border=\"1\" class=\"dataframe\">\n",
       "  <thead>\n",
       "    <tr style=\"text-align: right;\">\n",
       "      <th></th>\n",
       "      <th>GSM1366951</th>\n",
       "      <th>GSM1366952</th>\n",
       "      <th>GSM1366953</th>\n",
       "      <th>GSM1366954</th>\n",
       "      <th>GSM1366955</th>\n",
       "      <th>GSM1366956</th>\n",
       "      <th>GSM1366957</th>\n",
       "      <th>GSM1366958</th>\n",
       "      <th>GSM1366959</th>\n",
       "      <th>GSM1366960</th>\n",
       "      <th>...</th>\n",
       "      <th>GSM1367013</th>\n",
       "      <th>GSM1367014</th>\n",
       "      <th>GSM1367015</th>\n",
       "      <th>GSM1367016</th>\n",
       "      <th>GSM1367017</th>\n",
       "      <th>GSM1367018</th>\n",
       "      <th>GSM1367019</th>\n",
       "      <th>GSM1367020</th>\n",
       "      <th>GSM1367021</th>\n",
       "      <th>GSM1367022</th>\n",
       "    </tr>\n",
       "  </thead>\n",
       "  <tbody>\n",
       "    <tr>\n",
       "      <th>Colon and Rectal Cancer</th>\n",
       "      <td>1.0</td>\n",
       "      <td>1.0</td>\n",
       "      <td>1.0</td>\n",
       "      <td>1.0</td>\n",
       "      <td>0.0</td>\n",
       "      <td>0.0</td>\n",
       "      <td>0.0</td>\n",
       "      <td>0.0</td>\n",
       "      <td>0.0</td>\n",
       "      <td>0.0</td>\n",
       "      <td>...</td>\n",
       "      <td>0.0</td>\n",
       "      <td>0.0</td>\n",
       "      <td>0.0</td>\n",
       "      <td>0.0</td>\n",
       "      <td>0.0</td>\n",
       "      <td>0.0</td>\n",
       "      <td>0.0</td>\n",
       "      <td>0.0</td>\n",
       "      <td>0.0</td>\n",
       "      <td>0.0</td>\n",
       "    </tr>\n",
       "    <tr>\n",
       "      <th>Age</th>\n",
       "      <td>3.0</td>\n",
       "      <td>3.0</td>\n",
       "      <td>4.0</td>\n",
       "      <td>4.0</td>\n",
       "      <td>4.0</td>\n",
       "      <td>1.0</td>\n",
       "      <td>1.0</td>\n",
       "      <td>1.0</td>\n",
       "      <td>1.0</td>\n",
       "      <td>3.0</td>\n",
       "      <td>...</td>\n",
       "      <td>2.0</td>\n",
       "      <td>4.0</td>\n",
       "      <td>1.0</td>\n",
       "      <td>4.0</td>\n",
       "      <td>2.0</td>\n",
       "      <td>3.0</td>\n",
       "      <td>5.0</td>\n",
       "      <td>5.0</td>\n",
       "      <td>5.0</td>\n",
       "      <td>2.0</td>\n",
       "    </tr>\n",
       "  </tbody>\n",
       "</table>\n",
       "<p>2 rows × 72 columns</p>\n",
       "</div>"
      ],
      "text/plain": [
       "                         GSM1366951  GSM1366952  GSM1366953  GSM1366954  \\\n",
       "Colon and Rectal Cancer         1.0         1.0         1.0         1.0   \n",
       "Age                             3.0         3.0         4.0         4.0   \n",
       "\n",
       "                         GSM1366955  GSM1366956  GSM1366957  GSM1366958  \\\n",
       "Colon and Rectal Cancer         0.0         0.0         0.0         0.0   \n",
       "Age                             4.0         1.0         1.0         1.0   \n",
       "\n",
       "                         GSM1366959  GSM1366960  ...  GSM1367013  GSM1367014  \\\n",
       "Colon and Rectal Cancer         0.0         0.0  ...         0.0         0.0   \n",
       "Age                             1.0         3.0  ...         2.0         4.0   \n",
       "\n",
       "                         GSM1367015  GSM1367016  GSM1367017  GSM1367018  \\\n",
       "Colon and Rectal Cancer         0.0         0.0         0.0         0.0   \n",
       "Age                             1.0         4.0         2.0         3.0   \n",
       "\n",
       "                         GSM1367019  GSM1367020  GSM1367021 GSM1367022  \n",
       "Colon and Rectal Cancer         0.0         0.0         0.0        0.0  \n",
       "Age                             5.0         5.0         5.0        2.0  \n",
       "\n",
       "[2 rows x 72 columns]"
      ]
     },
     "execution_count": 217,
     "metadata": {},
     "output_type": "execute_result"
    }
   ],
   "source": [
    "selected_clinical_data = geo_select_clinical_features(clinical_data, TRAIT, trait_row, convert_trait, age_row=age_row,\n",
    "                                                      convert_age=convert_age, gender_row=gender_row,\n",
    "                                                      convert_gender=convert_gender)\n",
    "selected_clinical_data.head()"
   ]
  },
  {
   "cell_type": "markdown",
   "metadata": {
    "ExecuteTime": {
     "end_time": "2023-12-31T03:58:04.978664193Z",
     "start_time": "2023-12-31T03:58:04.966117261Z"
    },
    "collapsed": false
   },
   "source": [
    "### Genetic data preprocessing and final filtering"
   ]
  },
  {
   "cell_type": "code",
   "execution_count": 218,
   "metadata": {
    "ExecuteTime": {
     "end_time": "2024-01-02T01:03:06.246474256Z",
     "start_time": "2024-01-02T01:03:05.670354792Z"
    },
    "collapsed": false
   },
   "outputs": [
    {
     "data": {
      "text/html": [
       "<div>\n",
       "<style scoped>\n",
       "    .dataframe tbody tr th:only-of-type {\n",
       "        vertical-align: middle;\n",
       "    }\n",
       "\n",
       "    .dataframe tbody tr th {\n",
       "        vertical-align: top;\n",
       "    }\n",
       "\n",
       "    .dataframe thead th {\n",
       "        text-align: right;\n",
       "    }\n",
       "</style>\n",
       "<table border=\"1\" class=\"dataframe\">\n",
       "  <thead>\n",
       "    <tr style=\"text-align: right;\">\n",
       "      <th></th>\n",
       "      <th>GSM1366951</th>\n",
       "      <th>GSM1366952</th>\n",
       "      <th>GSM1366953</th>\n",
       "      <th>GSM1366954</th>\n",
       "      <th>GSM1366955</th>\n",
       "      <th>GSM1366956</th>\n",
       "      <th>GSM1366957</th>\n",
       "      <th>GSM1366958</th>\n",
       "      <th>GSM1366959</th>\n",
       "      <th>GSM1366960</th>\n",
       "      <th>...</th>\n",
       "      <th>GSM1367013</th>\n",
       "      <th>GSM1367014</th>\n",
       "      <th>GSM1367015</th>\n",
       "      <th>GSM1367016</th>\n",
       "      <th>GSM1367017</th>\n",
       "      <th>GSM1367018</th>\n",
       "      <th>GSM1367019</th>\n",
       "      <th>GSM1367020</th>\n",
       "      <th>GSM1367021</th>\n",
       "      <th>GSM1367022</th>\n",
       "    </tr>\n",
       "    <tr>\n",
       "      <th>ID</th>\n",
       "      <th></th>\n",
       "      <th></th>\n",
       "      <th></th>\n",
       "      <th></th>\n",
       "      <th></th>\n",
       "      <th></th>\n",
       "      <th></th>\n",
       "      <th></th>\n",
       "      <th></th>\n",
       "      <th></th>\n",
       "      <th></th>\n",
       "      <th></th>\n",
       "      <th></th>\n",
       "      <th></th>\n",
       "      <th></th>\n",
       "      <th></th>\n",
       "      <th></th>\n",
       "      <th></th>\n",
       "      <th></th>\n",
       "      <th></th>\n",
       "      <th></th>\n",
       "    </tr>\n",
       "  </thead>\n",
       "  <tbody>\n",
       "    <tr>\n",
       "      <th>ILMN_1343291</th>\n",
       "      <td>3521.337305</td>\n",
       "      <td>3165.437620</td>\n",
       "      <td>3154.461427</td>\n",
       "      <td>3153.589722</td>\n",
       "      <td>3082.240701</td>\n",
       "      <td>3132.744699</td>\n",
       "      <td>2764.465751</td>\n",
       "      <td>3297.647817</td>\n",
       "      <td>3795.286897</td>\n",
       "      <td>2748.380793</td>\n",
       "      <td>...</td>\n",
       "      <td>2734.231265</td>\n",
       "      <td>3216.918021</td>\n",
       "      <td>3351.124023</td>\n",
       "      <td>3027.703371</td>\n",
       "      <td>3229.380938</td>\n",
       "      <td>2690.504990</td>\n",
       "      <td>4538.705237</td>\n",
       "      <td>3031.497553</td>\n",
       "      <td>3906.734941</td>\n",
       "      <td>3599.313062</td>\n",
       "    </tr>\n",
       "    <tr>\n",
       "      <th>ILMN_1651209</th>\n",
       "      <td>146.982913</td>\n",
       "      <td>183.465084</td>\n",
       "      <td>148.283058</td>\n",
       "      <td>148.950916</td>\n",
       "      <td>148.675803</td>\n",
       "      <td>154.877384</td>\n",
       "      <td>132.751587</td>\n",
       "      <td>125.188992</td>\n",
       "      <td>121.858599</td>\n",
       "      <td>118.460445</td>\n",
       "      <td>...</td>\n",
       "      <td>133.001885</td>\n",
       "      <td>136.192428</td>\n",
       "      <td>129.487738</td>\n",
       "      <td>159.139591</td>\n",
       "      <td>123.561375</td>\n",
       "      <td>125.028004</td>\n",
       "      <td>128.330937</td>\n",
       "      <td>136.266000</td>\n",
       "      <td>127.796038</td>\n",
       "      <td>127.109524</td>\n",
       "    </tr>\n",
       "    <tr>\n",
       "      <th>ILMN_1651228</th>\n",
       "      <td>5687.831719</td>\n",
       "      <td>5048.804124</td>\n",
       "      <td>4370.151851</td>\n",
       "      <td>4445.114388</td>\n",
       "      <td>5317.306017</td>\n",
       "      <td>3962.165157</td>\n",
       "      <td>4101.228694</td>\n",
       "      <td>3497.185661</td>\n",
       "      <td>5511.013364</td>\n",
       "      <td>4104.016340</td>\n",
       "      <td>...</td>\n",
       "      <td>3759.382284</td>\n",
       "      <td>3558.782108</td>\n",
       "      <td>4587.435567</td>\n",
       "      <td>4681.718080</td>\n",
       "      <td>4311.737854</td>\n",
       "      <td>4064.708196</td>\n",
       "      <td>5220.555489</td>\n",
       "      <td>5058.568390</td>\n",
       "      <td>5269.000450</td>\n",
       "      <td>5124.642146</td>\n",
       "    </tr>\n",
       "    <tr>\n",
       "      <th>ILMN_1651229</th>\n",
       "      <td>945.836899</td>\n",
       "      <td>1217.537076</td>\n",
       "      <td>1020.480933</td>\n",
       "      <td>818.922053</td>\n",
       "      <td>2206.541471</td>\n",
       "      <td>932.025082</td>\n",
       "      <td>875.144624</td>\n",
       "      <td>1177.035399</td>\n",
       "      <td>745.937615</td>\n",
       "      <td>1179.823269</td>\n",
       "      <td>...</td>\n",
       "      <td>889.786422</td>\n",
       "      <td>1004.835549</td>\n",
       "      <td>899.676191</td>\n",
       "      <td>799.689943</td>\n",
       "      <td>1019.245118</td>\n",
       "      <td>819.879233</td>\n",
       "      <td>560.200723</td>\n",
       "      <td>773.809379</td>\n",
       "      <td>824.544088</td>\n",
       "      <td>430.763881</td>\n",
       "    </tr>\n",
       "    <tr>\n",
       "      <th>ILMN_1651235</th>\n",
       "      <td>244.921383</td>\n",
       "      <td>556.761737</td>\n",
       "      <td>399.739687</td>\n",
       "      <td>615.419847</td>\n",
       "      <td>618.878697</td>\n",
       "      <td>414.350116</td>\n",
       "      <td>410.206760</td>\n",
       "      <td>437.069924</td>\n",
       "      <td>366.458459</td>\n",
       "      <td>583.971446</td>\n",
       "      <td>...</td>\n",
       "      <td>280.975904</td>\n",
       "      <td>339.170504</td>\n",
       "      <td>311.099596</td>\n",
       "      <td>271.636587</td>\n",
       "      <td>380.638247</td>\n",
       "      <td>127.941485</td>\n",
       "      <td>326.314535</td>\n",
       "      <td>224.560185</td>\n",
       "      <td>503.128228</td>\n",
       "      <td>353.192317</td>\n",
       "    </tr>\n",
       "  </tbody>\n",
       "</table>\n",
       "<p>5 rows × 72 columns</p>\n",
       "</div>"
      ],
      "text/plain": [
       "               GSM1366951   GSM1366952   GSM1366953   GSM1366954   GSM1366955  \\\n",
       "ID                                                                              \n",
       "ILMN_1343291  3521.337305  3165.437620  3154.461427  3153.589722  3082.240701   \n",
       "ILMN_1651209   146.982913   183.465084   148.283058   148.950916   148.675803   \n",
       "ILMN_1651228  5687.831719  5048.804124  4370.151851  4445.114388  5317.306017   \n",
       "ILMN_1651229   945.836899  1217.537076  1020.480933   818.922053  2206.541471   \n",
       "ILMN_1651235   244.921383   556.761737   399.739687   615.419847   618.878697   \n",
       "\n",
       "               GSM1366956   GSM1366957   GSM1366958   GSM1366959   GSM1366960  \\\n",
       "ID                                                                              \n",
       "ILMN_1343291  3132.744699  2764.465751  3297.647817  3795.286897  2748.380793   \n",
       "ILMN_1651209   154.877384   132.751587   125.188992   121.858599   118.460445   \n",
       "ILMN_1651228  3962.165157  4101.228694  3497.185661  5511.013364  4104.016340   \n",
       "ILMN_1651229   932.025082   875.144624  1177.035399   745.937615  1179.823269   \n",
       "ILMN_1651235   414.350116   410.206760   437.069924   366.458459   583.971446   \n",
       "\n",
       "              ...   GSM1367013   GSM1367014   GSM1367015   GSM1367016  \\\n",
       "ID            ...                                                       \n",
       "ILMN_1343291  ...  2734.231265  3216.918021  3351.124023  3027.703371   \n",
       "ILMN_1651209  ...   133.001885   136.192428   129.487738   159.139591   \n",
       "ILMN_1651228  ...  3759.382284  3558.782108  4587.435567  4681.718080   \n",
       "ILMN_1651229  ...   889.786422  1004.835549   899.676191   799.689943   \n",
       "ILMN_1651235  ...   280.975904   339.170504   311.099596   271.636587   \n",
       "\n",
       "               GSM1367017   GSM1367018   GSM1367019   GSM1367020   GSM1367021  \\\n",
       "ID                                                                              \n",
       "ILMN_1343291  3229.380938  2690.504990  4538.705237  3031.497553  3906.734941   \n",
       "ILMN_1651209   123.561375   125.028004   128.330937   136.266000   127.796038   \n",
       "ILMN_1651228  4311.737854  4064.708196  5220.555489  5058.568390  5269.000450   \n",
       "ILMN_1651229  1019.245118   819.879233   560.200723   773.809379   824.544088   \n",
       "ILMN_1651235   380.638247   127.941485   326.314535   224.560185   503.128228   \n",
       "\n",
       "               GSM1367022  \n",
       "ID                         \n",
       "ILMN_1343291  3599.313062  \n",
       "ILMN_1651209   127.109524  \n",
       "ILMN_1651228  5124.642146  \n",
       "ILMN_1651229   430.763881  \n",
       "ILMN_1651235   353.192317  \n",
       "\n",
       "[5 rows x 72 columns]"
      ]
     },
     "execution_count": 218,
     "metadata": {},
     "output_type": "execute_result"
    }
   ],
   "source": [
    "genetic_data = get_genetic_data(matrix_file)\n",
    "genetic_data.head()"
   ]
  },
  {
   "cell_type": "code",
   "execution_count": 219,
   "metadata": {
    "ExecuteTime": {
     "end_time": "2024-01-02T01:03:06.250833943Z",
     "start_time": "2024-01-02T01:03:06.246758837Z"
    },
    "collapsed": false
   },
   "outputs": [
    {
     "data": {
      "text/plain": [
       "['ILMN_1343291',\n",
       " 'ILMN_1651209',\n",
       " 'ILMN_1651228',\n",
       " 'ILMN_1651229',\n",
       " 'ILMN_1651235',\n",
       " 'ILMN_1651236',\n",
       " 'ILMN_1651237',\n",
       " 'ILMN_1651238',\n",
       " 'ILMN_1651254',\n",
       " 'ILMN_1651260',\n",
       " 'ILMN_1651262',\n",
       " 'ILMN_1651268',\n",
       " 'ILMN_1651278',\n",
       " 'ILMN_1651282',\n",
       " 'ILMN_1651285',\n",
       " 'ILMN_1651286',\n",
       " 'ILMN_1651292',\n",
       " 'ILMN_1651303',\n",
       " 'ILMN_1651309',\n",
       " 'ILMN_1651315']"
      ]
     },
     "execution_count": 219,
     "metadata": {},
     "output_type": "execute_result"
    }
   ],
   "source": [
    "gene_row_ids = genetic_data.index[:20].tolist()\n",
    "gene_row_ids"
   ]
  },
  {
   "cell_type": "markdown",
   "metadata": {
    "ExecuteTime": {
     "end_time": "2023-12-31T03:30:41.595335164Z",
     "start_time": "2023-12-31T03:30:41.513232329Z"
    },
    "collapsed": false
   },
   "source": [
    "Check if the gene dataset requires mapping to get the gene symbols corresponding to each data row."
   ]
  },
  {
   "cell_type": "markdown",
   "metadata": {
    "collapsed": false
   },
   "source": [
    "Reference prompt:"
   ]
  },
  {
   "cell_type": "code",
   "execution_count": 220,
   "metadata": {
    "ExecuteTime": {
     "end_time": "2024-01-02T01:03:07.586216481Z",
     "start_time": "2024-01-02T01:03:07.574527035Z"
    },
    "collapsed": false
   },
   "outputs": [
    {
     "data": {
      "text/plain": [
       "\"\\nBelow are the row headers of a gene expression dataset in GEO. Based on your biomedical knowledge, are they human gene symbols, or are they some other identifiers that need to be mapped to gene symbols? Your answer should be concluded by starting a new line and strictly following this format:\\nrequires_gene_mapping = (True or False)\\n\\nRow headers:\\n['ILMN_1343291', 'ILMN_1651209', 'ILMN_1651228', 'ILMN_1651229', 'ILMN_1651235', 'ILMN_1651236', 'ILMN_1651237', 'ILMN_1651238', 'ILMN_1651254', 'ILMN_1651260', 'ILMN_1651262', 'ILMN_1651268', 'ILMN_1651278', 'ILMN_1651282', 'ILMN_1651285', 'ILMN_1651286', 'ILMN_1651292', 'ILMN_1651303', 'ILMN_1651309', 'ILMN_1651315']\\n\""
      ]
     },
     "execution_count": 220,
     "metadata": {},
     "output_type": "execute_result"
    }
   ],
   "source": [
    "f'''\n",
    "Below are the row headers of a gene expression dataset in GEO. Based on your biomedical knowledge, are they human gene symbols, or are they some other identifiers that need to be mapped to gene symbols? Your answer should be concluded by starting a new line and strictly following this format:\n",
    "requires_gene_mapping = (True or False)\n",
    "\n",
    "Row headers:\n",
    "{gene_row_ids}\n",
    "'''"
   ]
  },
  {
   "cell_type": "markdown",
   "metadata": {
    "collapsed": false
   },
   "source": [
    "If not required, jump directly to the gene normalization step"
   ]
  },
  {
   "cell_type": "code",
   "execution_count": 221,
   "metadata": {
    "ExecuteTime": {
     "end_time": "2024-01-02T01:03:08.263712538Z",
     "start_time": "2024-01-02T01:03:08.260656314Z"
    },
    "collapsed": false
   },
   "outputs": [],
   "source": [
    "requires_gene_mapping = True"
   ]
  },
  {
   "cell_type": "code",
   "execution_count": 222,
   "metadata": {
    "ExecuteTime": {
     "end_time": "2024-01-02T01:03:33.822550310Z",
     "start_time": "2024-01-02T01:03:08.648958912Z"
    },
    "collapsed": false
   },
   "outputs": [
    {
     "name": "stdout",
     "output_type": "stream",
     "text": [
      "{'ID': ['ILMN_3166687', 'ILMN_3165566', 'ILMN_3164811', 'ILMN_3165363', 'ILMN_3166511'], 'Transcript': ['ILMN_333737', 'ILMN_333646', 'ILMN_333584', 'ILMN_333628', 'ILMN_333719'], 'Species': ['ILMN Controls', 'ILMN Controls', 'ILMN Controls', 'ILMN Controls', 'ILMN Controls'], 'Source': ['ILMN_Controls', 'ILMN_Controls', 'ILMN_Controls', 'ILMN_Controls', 'ILMN_Controls'], 'Search_Key': ['ERCC-00162', 'ERCC-00071', 'ERCC-00009', 'ERCC-00053', 'ERCC-00144'], 'ILMN_Gene': ['ERCC-00162', 'ERCC-00071', 'ERCC-00009', 'ERCC-00053', 'ERCC-00144'], 'Source_Reference_ID': ['ERCC-00162', 'ERCC-00071', 'ERCC-00009', 'ERCC-00053', 'ERCC-00144'], 'RefSeq_ID': [nan, nan, nan, nan, nan], 'Entrez_Gene_ID': [nan, nan, nan, nan, nan], 'GI': [nan, nan, nan, nan, nan], 'Accession': ['DQ516750', 'DQ883654', 'DQ668364', 'DQ516785', 'DQ854995'], 'Symbol': ['ERCC-00162', 'ERCC-00071', 'ERCC-00009', 'ERCC-00053', 'ERCC-00144'], 'Protein_Product': [nan, nan, nan, nan, nan], 'Array_Address_Id': [5270161.0, 4260594.0, 7610424.0, 5260356.0, 2030196.0], 'Probe_Type': ['S', 'S', 'S', 'S', 'S'], 'Probe_Start': [12.0, 224.0, 868.0, 873.0, 130.0], 'SEQUENCE': ['CCCATGTGTCCAATTCTGAATATCTTTCCAGCTAAGTGCTTCTGCCCACC', 'GGATTAACTGCTGTGGTGTGTCATACTCGGCTACCTCCTGGTTTGGCGTC', 'GACCACGCCTTGTAATCGTATGACACGCGCTTGACACGACTGAATCCAGC', 'CTGCAATGCCATTAACAACCTTAGCACGGTATTTCCAGTAGCTGGTGAGC', 'CGTGCAGACAGGGATCGTAAGGCGATCCAGCCGGTATACCTTAGTCACAT'], 'Chromosome': [nan, nan, nan, nan, nan], 'Probe_Chr_Orientation': [nan, nan, nan, nan, nan], 'Probe_Coordinates': [nan, nan, nan, nan, nan], 'Cytoband': [nan, nan, nan, nan, nan], 'Definition': ['Methanocaldococcus jannaschii spike-in control MJ-500-33 genomic sequence', 'Synthetic construct clone NISTag13 external RNA control sequence', 'Synthetic construct clone TagJ microarray control', 'Methanocaldococcus jannaschii spike-in control MJ-1000-68 genomic sequence', 'Synthetic construct clone AG006.1100 external RNA control sequence'], 'Ontology_Component': [nan, nan, nan, nan, nan], 'Ontology_Process': [nan, nan, nan, nan, nan], 'Ontology_Function': [nan, nan, nan, nan, nan], 'Synonyms': [nan, nan, nan, nan, nan], 'Obsolete_Probe_Id': [nan, nan, nan, nan, nan], 'GB_ACC': ['DQ516750', 'DQ883654', 'DQ668364', 'DQ516785', 'DQ854995']}\n"
     ]
    }
   ],
   "source": [
    "if requires_gene_mapping:\n",
    "    gene_annotation = get_gene_annotation(soft_file)\n",
    "    gene_annotation_summary = preview_df(gene_annotation)\n",
    "    print(gene_annotation_summary)"
   ]
  },
  {
   "cell_type": "markdown",
   "metadata": {
    "ExecuteTime": {
     "end_time": "2023-12-31T03:58:04.978931927Z",
     "start_time": "2023-12-31T03:58:04.966328339Z"
    },
    "collapsed": false
   },
   "source": [
    "Observe the first few cells in the ID column of the gene annotation dataframe, to find the names of columns that store the gene probe IDs and gene symbols respectively.\n",
    "Reference prompt:"
   ]
  },
  {
   "cell_type": "code",
   "execution_count": 223,
   "metadata": {
    "ExecuteTime": {
     "end_time": "2024-01-02T01:03:33.822912446Z",
     "start_time": "2024-01-02T01:03:33.804491826Z"
    },
    "collapsed": false
   },
   "outputs": [
    {
     "name": "stdout",
     "output_type": "stream",
     "text": [
      "\n",
      "    As a biomedical research team, we extracted the gene annotation data from a series in the GEO database, and saved it to a Python dictionary. Please read the dictionary, and decide which key stores the ID of the probe, and which key stores the gene symbols. Please strict follow this format in your answer:\n",
      "    probe_name_key = 'key_name1'\n",
      "    gene_name_key = 'key_name2'\n",
      "\n",
      "    Gene annotation dictionary:\n",
      "    {'ID': ['ILMN_3166687', 'ILMN_3165566', 'ILMN_3164811', 'ILMN_3165363', 'ILMN_3166511'], 'Transcript': ['ILMN_333737', 'ILMN_333646', 'ILMN_333584', 'ILMN_333628', 'ILMN_333719'], 'Species': ['ILMN Controls', 'ILMN Controls', 'ILMN Controls', 'ILMN Controls', 'ILMN Controls'], 'Source': ['ILMN_Controls', 'ILMN_Controls', 'ILMN_Controls', 'ILMN_Controls', 'ILMN_Controls'], 'Search_Key': ['ERCC-00162', 'ERCC-00071', 'ERCC-00009', 'ERCC-00053', 'ERCC-00144'], 'ILMN_Gene': ['ERCC-00162', 'ERCC-00071', 'ERCC-00009', 'ERCC-00053', 'ERCC-00144'], 'Source_Reference_ID': ['ERCC-00162', 'ERCC-00071', 'ERCC-00009', 'ERCC-00053', 'ERCC-00144'], 'RefSeq_ID': [nan, nan, nan, nan, nan], 'Entrez_Gene_ID': [nan, nan, nan, nan, nan], 'GI': [nan, nan, nan, nan, nan], 'Accession': ['DQ516750', 'DQ883654', 'DQ668364', 'DQ516785', 'DQ854995'], 'Symbol': ['ERCC-00162', 'ERCC-00071', 'ERCC-00009', 'ERCC-00053', 'ERCC-00144'], 'Protein_Product': [nan, nan, nan, nan, nan], 'Array_Address_Id': [5270161.0, 4260594.0, 7610424.0, 5260356.0, 2030196.0], 'Probe_Type': ['S', 'S', 'S', 'S', 'S'], 'Probe_Start': [12.0, 224.0, 868.0, 873.0, 130.0], 'SEQUENCE': ['CCCATGTGTCCAATTCTGAATATCTTTCCAGCTAAGTGCTTCTGCCCACC', 'GGATTAACTGCTGTGGTGTGTCATACTCGGCTACCTCCTGGTTTGGCGTC', 'GACCACGCCTTGTAATCGTATGACACGCGCTTGACACGACTGAATCCAGC', 'CTGCAATGCCATTAACAACCTTAGCACGGTATTTCCAGTAGCTGGTGAGC', 'CGTGCAGACAGGGATCGTAAGGCGATCCAGCCGGTATACCTTAGTCACAT'], 'Chromosome': [nan, nan, nan, nan, nan], 'Probe_Chr_Orientation': [nan, nan, nan, nan, nan], 'Probe_Coordinates': [nan, nan, nan, nan, nan], 'Cytoband': [nan, nan, nan, nan, nan], 'Definition': ['Methanocaldococcus jannaschii spike-in control MJ-500-33 genomic sequence', 'Synthetic construct clone NISTag13 external RNA control sequence', 'Synthetic construct clone TagJ microarray control', 'Methanocaldococcus jannaschii spike-in control MJ-1000-68 genomic sequence', 'Synthetic construct clone AG006.1100 external RNA control sequence'], 'Ontology_Component': [nan, nan, nan, nan, nan], 'Ontology_Process': [nan, nan, nan, nan, nan], 'Ontology_Function': [nan, nan, nan, nan, nan], 'Synonyms': [nan, nan, nan, nan, nan], 'Obsolete_Probe_Id': [nan, nan, nan, nan, nan], 'GB_ACC': ['DQ516750', 'DQ883654', 'DQ668364', 'DQ516785', 'DQ854995']}\n",
      "    \n"
     ]
    }
   ],
   "source": [
    "if requires_gene_mapping:\n",
    "    print(f'''\n",
    "    As a biomedical research team, we extracted the gene annotation data from a series in the GEO database, and saved it to a Python dictionary. Please read the dictionary, and decide which key stores the ID of the probe, and which key stores the gene symbols. Please strict follow this format in your answer:\n",
    "    probe_name_key = 'key_name1'\n",
    "    gene_name_key = 'key_name2'\n",
    "\n",
    "    Gene annotation dictionary:\n",
    "    {gene_annotation_summary}\n",
    "    ''')"
   ]
  },
  {
   "cell_type": "code",
   "execution_count": 224,
   "metadata": {
    "ExecuteTime": {
     "end_time": "2024-01-02T01:03:35.113359369Z",
     "start_time": "2024-01-02T01:03:33.804666371Z"
    },
    "collapsed": false
   },
   "outputs": [],
   "source": [
    "if requires_gene_mapping:\n",
    "    probe_id_key = 'ID'\n",
    "    gene_symb_key = 'Symbol'\n",
    "    gene_mapping = get_gene_mapping(gene_annotation, probe_id_key, gene_symb_key)\n",
    "    genetic_data = apply_gene_mapping(genetic_data, gene_mapping)"
   ]
  },
  {
   "cell_type": "code",
   "execution_count": 225,
   "metadata": {
    "ExecuteTime": {
     "end_time": "2024-01-02T01:03:35.156584675Z",
     "start_time": "2024-01-02T01:03:35.114652593Z"
    },
    "collapsed": false
   },
   "outputs": [],
   "source": [
    "if NORMALIZE_GENE:\n",
    "    genetic_data = normalize_gene_symbols_in_index(genetic_data)"
   ]
  },
  {
   "cell_type": "code",
   "execution_count": 226,
   "metadata": {
    "ExecuteTime": {
     "end_time": "2024-01-02T01:03:35.158174021Z",
     "start_time": "2024-01-02T01:03:35.156777134Z"
    },
    "collapsed": false
   },
   "outputs": [],
   "source": [
    "merged_data = geo_merge_clinical_genetic_data(selected_clinical_data, genetic_data)\n",
    "# The preprocessing runs through, which means is_available should be True\n",
    "is_available = True"
   ]
  },
  {
   "cell_type": "code",
   "execution_count": 213,
   "metadata": {
    "ExecuteTime": {
     "end_time": "2024-01-02T01:03:35.158378853Z",
     "start_time": "2024-01-02T01:03:35.156895194Z"
    },
    "collapsed": false
   },
   "outputs": [
    {
     "name": "stdout",
     "output_type": "stream",
     "text": [
      "The merged dataset contains 0 samples.\n"
     ]
    }
   ],
   "source": [
    "print(f\"The merged dataset contains {len(merged_data)} samples.\")"
   ]
  },
  {
   "cell_type": "code",
   "execution_count": 227,
   "metadata": {
    "ExecuteTime": {
     "end_time": "2024-01-02T01:03:35.158646754Z",
     "start_time": "2024-01-02T01:03:35.156975304Z"
    },
    "collapsed": false
   },
   "outputs": [
    {
     "name": "stdout",
     "output_type": "stream",
     "text": [
      "For the feature 'Colon and Rectal Cancer', the least common label is '1.0' with 4 occurrences. This represents 6.06% of the dataset.\n",
      "The distribution of the feature 'Colon and Rectal Cancer' in this dataset is severely biased.\n",
      "\n",
      "Quartiles for 'Age':\n",
      "  25%: 1.0\n",
      "  50% (Median): 3.0\n",
      "  75%: 4.0\n",
      "Min: 1.0\n",
      "Max: 5.0\n",
      "The distribution of the feature 'Age' in this dataset is fine.\n",
      "\n"
     ]
    },
    {
     "data": {
      "text/plain": [
       "True"
      ]
     },
     "execution_count": 227,
     "metadata": {},
     "output_type": "execute_result"
    }
   ],
   "source": [
    "is_trait_biased, merged_data = judge_and_remove_biased_features(merged_data, TRAIT, trait_type=trait_type)\n",
    "is_trait_biased"
   ]
  },
  {
   "cell_type": "code",
   "execution_count": 228,
   "metadata": {
    "ExecuteTime": {
     "end_time": "2024-01-02T01:03:35.158803015Z",
     "start_time": "2024-01-02T01:03:35.157063388Z"
    },
    "collapsed": false
   },
   "outputs": [],
   "source": [
    "save_cohort_info(cohort, JSON_PATH, is_available, is_trait_biased, merged_data, note='')"
   ]
  },
  {
   "cell_type": "code",
   "execution_count": 229,
   "metadata": {
    "ExecuteTime": {
     "end_time": "2024-01-02T01:03:36.004312476Z",
     "start_time": "2024-01-02T01:03:35.157165158Z"
    },
    "collapsed": false
   },
   "outputs": [],
   "source": [
    "merged_data.head()\n",
    "if not is_trait_biased:\n",
    "    merged_data.to_csv(os.path.join(OUTPUT_DIR, cohort+'.csv'), index=False)"
   ]
  },
  {
   "cell_type": "markdown",
   "metadata": {
    "ExecuteTime": {
     "end_time": "2023-12-31T03:58:22.271683755Z",
     "start_time": "2023-12-31T03:58:22.246557674Z"
    },
    "id": "-MTPhRGxJV7I"
   },
   "source": [
    "### 3. Do regression & Cross Validation"
   ]
  },
  {
   "cell_type": "code",
   "execution_count": null,
   "metadata": {
    "ExecuteTime": {
     "end_time": "2024-01-02T01:03:36.048788605Z",
     "start_time": "2024-01-02T01:03:36.005925887Z"
    },
    "collapsed": false
   },
   "outputs": [],
   "source": [
    "from utils import *"
   ]
  },
  {
   "cell_type": "code",
   "execution_count": null,
   "metadata": {
    "ExecuteTime": {
     "end_time": "2024-01-02T01:03:36.049183603Z",
     "start_time": "2024-01-02T01:03:36.048440305Z"
    },
    "collapsed": false
   },
   "outputs": [
    {
     "data": {
      "text/plain": [
       "'GSE123088'"
      ]
     },
     "execution_count": 6,
     "metadata": {},
     "output_type": "execute_result"
    }
   ],
   "source": [
    "best_cohort, ranked_df = filter_and_rank_cohorts(JSON_PATH, 'has_age')\n",
    "best_cohort"
   ]
  },
  {
   "cell_type": "code",
   "execution_count": null,
   "metadata": {
    "ExecuteTime": {
     "end_time": "2024-01-02T01:03:36.049430313Z",
     "start_time": "2024-01-02T01:03:36.048984361Z"
    },
    "collapsed": false
   },
   "outputs": [
    {
     "data": {
      "text/html": [
       "<div>\n",
       "<style scoped>\n",
       "    .dataframe tbody tr th:only-of-type {\n",
       "        vertical-align: middle;\n",
       "    }\n",
       "\n",
       "    .dataframe tbody tr th {\n",
       "        vertical-align: top;\n",
       "    }\n",
       "\n",
       "    .dataframe thead th {\n",
       "        text-align: right;\n",
       "    }\n",
       "</style>\n",
       "<table border=\"1\" class=\"dataframe\">\n",
       "  <thead>\n",
       "    <tr style=\"text-align: right;\">\n",
       "      <th></th>\n",
       "      <th>cohort_id</th>\n",
       "      <th>is_usable</th>\n",
       "      <th>is_available</th>\n",
       "      <th>is_biased</th>\n",
       "      <th>has_age</th>\n",
       "      <th>has_gender</th>\n",
       "      <th>sample_size</th>\n",
       "      <th>note</th>\n",
       "    </tr>\n",
       "  </thead>\n",
       "  <tbody>\n",
       "    <tr>\n",
       "      <th>0</th>\n",
       "      <td>GSE123088</td>\n",
       "      <td>True</td>\n",
       "      <td>True</td>\n",
       "      <td>False</td>\n",
       "      <td>True</td>\n",
       "      <td>True</td>\n",
       "      <td>192</td>\n",
       "      <td></td>\n",
       "    </tr>\n",
       "    <tr>\n",
       "      <th>1</th>\n",
       "      <td>GSE123086</td>\n",
       "      <td>True</td>\n",
       "      <td>True</td>\n",
       "      <td>False</td>\n",
       "      <td>True</td>\n",
       "      <td>True</td>\n",
       "      <td>154</td>\n",
       "      <td></td>\n",
       "    </tr>\n",
       "  </tbody>\n",
       "</table>\n",
       "</div>"
      ],
      "text/plain": [
       "   cohort_id  is_usable  is_available  is_biased  has_age  has_gender  \\\n",
       "0  GSE123088       True          True      False     True        True   \n",
       "1  GSE123086       True          True      False     True        True   \n",
       "\n",
       "   sample_size note  \n",
       "0          192       \n",
       "1          154       "
      ]
     },
     "execution_count": 7,
     "metadata": {},
     "output_type": "execute_result"
    }
   ],
   "source": [
    "ranked_df.head()"
   ]
  },
  {
   "cell_type": "code",
   "execution_count": null,
   "metadata": {
    "ExecuteTime": {
     "end_time": "2024-01-02T01:03:36.345375576Z",
     "start_time": "2024-01-02T01:03:36.049289340Z"
    },
    "collapsed": false
   },
   "outputs": [],
   "source": [
    "ck=100\n",
    "listq=[]\n",
    "for df in pd.read_csv(os.path.join(OUTPUT_DIR, best_cohort+'.csv'),chunksize=ck):\n",
    "    listq.append(df)\n",
    "merged_data = pd.concat(listq)\n",
    "#merged_data = pd.read_csv(os.path.join(OUTPUT_DIR, best_cohort+'.csv'))"
   ]
  },
  {
   "cell_type": "code",
   "execution_count": null,
   "metadata": {
    "ExecuteTime": {
     "end_time": "2024-01-02T01:03:36.400788548Z",
     "start_time": "2024-01-02T01:03:36.355439168Z"
    },
    "collapsed": false
   },
   "outputs": [
    {
     "data": {
      "text/html": [
       "<div>\n",
       "<style scoped>\n",
       "    .dataframe tbody tr th:only-of-type {\n",
       "        vertical-align: middle;\n",
       "    }\n",
       "\n",
       "    .dataframe tbody tr th {\n",
       "        vertical-align: top;\n",
       "    }\n",
       "\n",
       "    .dataframe thead th {\n",
       "        text-align: right;\n",
       "    }\n",
       "</style>\n",
       "<table border=\"1\" class=\"dataframe\">\n",
       "  <thead>\n",
       "    <tr style=\"text-align: right;\">\n",
       "      <th></th>\n",
       "      <th>Psoriasis</th>\n",
       "      <th>Age</th>\n",
       "      <th>Gender</th>\n",
       "      <th>-0.001001579</th>\n",
       "      <th>-0.010425045</th>\n",
       "      <th>-0.045320336</th>\n",
       "      <th>-0.046967808</th>\n",
       "      <th>-0.069891929</th>\n",
       "      <th>-0.081080626</th>\n",
       "      <th>-0.093186199</th>\n",
       "      <th>...</th>\n",
       "      <th>9987</th>\n",
       "      <th>9988</th>\n",
       "      <th>9989</th>\n",
       "      <th>999</th>\n",
       "      <th>9990</th>\n",
       "      <th>9991</th>\n",
       "      <th>9992</th>\n",
       "      <th>9993</th>\n",
       "      <th>9994</th>\n",
       "      <th>9997</th>\n",
       "    </tr>\n",
       "  </thead>\n",
       "  <tbody>\n",
       "    <tr>\n",
       "      <th>0</th>\n",
       "      <td>0.0</td>\n",
       "      <td>56.0</td>\n",
       "      <td>1.0</td>\n",
       "      <td>3.293947</td>\n",
       "      <td>3.344254</td>\n",
       "      <td>3.049427</td>\n",
       "      <td>3.489313</td>\n",
       "      <td>3.713489</td>\n",
       "      <td>3.182711</td>\n",
       "      <td>2.885457</td>\n",
       "      <td>...</td>\n",
       "      <td>11.631593</td>\n",
       "      <td>9.914236</td>\n",
       "      <td>5.934949</td>\n",
       "      <td>4.756848</td>\n",
       "      <td>10.265351</td>\n",
       "      <td>10.109506</td>\n",
       "      <td>4.033606</td>\n",
       "      <td>11.065690</td>\n",
       "      <td>8.733339</td>\n",
       "      <td>9.681242</td>\n",
       "    </tr>\n",
       "    <tr>\n",
       "      <th>1</th>\n",
       "      <td>0.0</td>\n",
       "      <td>20.0</td>\n",
       "      <td>0.0</td>\n",
       "      <td>2.295976</td>\n",
       "      <td>3.490590</td>\n",
       "      <td>3.402046</td>\n",
       "      <td>3.960615</td>\n",
       "      <td>2.295976</td>\n",
       "      <td>3.209781</td>\n",
       "      <td>3.380016</td>\n",
       "      <td>...</td>\n",
       "      <td>11.685883</td>\n",
       "      <td>9.888024</td>\n",
       "      <td>5.981049</td>\n",
       "      <td>3.573693</td>\n",
       "      <td>10.808423</td>\n",
       "      <td>10.135307</td>\n",
       "      <td>3.854406</td>\n",
       "      <td>10.578108</td>\n",
       "      <td>8.207179</td>\n",
       "      <td>9.830063</td>\n",
       "    </tr>\n",
       "    <tr>\n",
       "      <th>2</th>\n",
       "      <td>0.0</td>\n",
       "      <td>51.0</td>\n",
       "      <td>0.0</td>\n",
       "      <td>2.878075</td>\n",
       "      <td>3.642838</td>\n",
       "      <td>3.281445</td>\n",
       "      <td>3.630912</td>\n",
       "      <td>2.878075</td>\n",
       "      <td>3.658581</td>\n",
       "      <td>3.466199</td>\n",
       "      <td>...</td>\n",
       "      <td>11.823756</td>\n",
       "      <td>9.977897</td>\n",
       "      <td>5.965869</td>\n",
       "      <td>4.439257</td>\n",
       "      <td>10.669074</td>\n",
       "      <td>10.243314</td>\n",
       "      <td>4.174246</td>\n",
       "      <td>10.824677</td>\n",
       "      <td>8.554421</td>\n",
       "      <td>10.367084</td>\n",
       "    </tr>\n",
       "    <tr>\n",
       "      <th>3</th>\n",
       "      <td>0.0</td>\n",
       "      <td>37.0</td>\n",
       "      <td>1.0</td>\n",
       "      <td>3.567006</td>\n",
       "      <td>3.393262</td>\n",
       "      <td>3.477423</td>\n",
       "      <td>3.000214</td>\n",
       "      <td>3.190889</td>\n",
       "      <td>3.070480</td>\n",
       "      <td>2.543753</td>\n",
       "      <td>...</td>\n",
       "      <td>11.871873</td>\n",
       "      <td>9.948733</td>\n",
       "      <td>6.094711</td>\n",
       "      <td>4.479720</td>\n",
       "      <td>10.832092</td>\n",
       "      <td>10.253960</td>\n",
       "      <td>3.735004</td>\n",
       "      <td>10.505996</td>\n",
       "      <td>8.786537</td>\n",
       "      <td>9.695719</td>\n",
       "    </tr>\n",
       "    <tr>\n",
       "      <th>4</th>\n",
       "      <td>0.0</td>\n",
       "      <td>61.0</td>\n",
       "      <td>1.0</td>\n",
       "      <td>4.034010</td>\n",
       "      <td>3.607132</td>\n",
       "      <td>2.822304</td>\n",
       "      <td>3.712049</td>\n",
       "      <td>3.126172</td>\n",
       "      <td>3.017512</td>\n",
       "      <td>2.949723</td>\n",
       "      <td>...</td>\n",
       "      <td>11.931741</td>\n",
       "      <td>10.017533</td>\n",
       "      <td>6.085654</td>\n",
       "      <td>3.807143</td>\n",
       "      <td>10.252109</td>\n",
       "      <td>10.396369</td>\n",
       "      <td>4.112947</td>\n",
       "      <td>10.797622</td>\n",
       "      <td>8.826644</td>\n",
       "      <td>8.821104</td>\n",
       "    </tr>\n",
       "  </tbody>\n",
       "</table>\n",
       "<p>5 rows × 1583032 columns</p>\n",
       "</div>"
      ],
      "text/plain": [
       "   Psoriasis   Age  Gender  -0.001001579  -0.010425045  -0.045320336  \\\n",
       "0        0.0  56.0     1.0      3.293947      3.344254      3.049427   \n",
       "1        0.0  20.0     0.0      2.295976      3.490590      3.402046   \n",
       "2        0.0  51.0     0.0      2.878075      3.642838      3.281445   \n",
       "3        0.0  37.0     1.0      3.567006      3.393262      3.477423   \n",
       "4        0.0  61.0     1.0      4.034010      3.607132      2.822304   \n",
       "\n",
       "   -0.046967808  -0.069891929  -0.081080626  -0.093186199  ...       9987  \\\n",
       "0      3.489313      3.713489      3.182711      2.885457  ...  11.631593   \n",
       "1      3.960615      2.295976      3.209781      3.380016  ...  11.685883   \n",
       "2      3.630912      2.878075      3.658581      3.466199  ...  11.823756   \n",
       "3      3.000214      3.190889      3.070480      2.543753  ...  11.871873   \n",
       "4      3.712049      3.126172      3.017512      2.949723  ...  11.931741   \n",
       "\n",
       "        9988      9989       999       9990       9991      9992       9993  \\\n",
       "0   9.914236  5.934949  4.756848  10.265351  10.109506  4.033606  11.065690   \n",
       "1   9.888024  5.981049  3.573693  10.808423  10.135307  3.854406  10.578108   \n",
       "2   9.977897  5.965869  4.439257  10.669074  10.243314  4.174246  10.824677   \n",
       "3   9.948733  6.094711  4.479720  10.832092  10.253960  3.735004  10.505996   \n",
       "4  10.017533  6.085654  3.807143  10.252109  10.396369  4.112947  10.797622   \n",
       "\n",
       "       9994       9997  \n",
       "0  8.733339   9.681242  \n",
       "1  8.207179   9.830063  \n",
       "2  8.554421  10.367084  \n",
       "3  8.786537   9.695719  \n",
       "4  8.826644   8.821104  \n",
       "\n",
       "[5 rows x 1583032 columns]"
      ]
     },
     "execution_count": 11,
     "metadata": {},
     "output_type": "execute_result"
    }
   ],
   "source": [
    "merged_data.head()"
   ]
  },
  {
   "cell_type": "code",
   "execution_count": null,
   "metadata": {
    "ExecuteTime": {
     "end_time": "2024-01-02T01:03:36.401002087Z",
     "start_time": "2024-01-02T01:03:36.400659608Z"
    },
    "collapsed": false
   },
   "outputs": [],
   "source": [
    "# If both age and gender features are available, select 'age' as the condition.\n",
    "condition = 'Age'\n",
    "# Remove the other condition to prevent interference.\n",
    "merged_data = merged_data.drop(columns=['Gender'], errors='ignore').astype('float')"
   ]
  },
  {
   "cell_type": "code",
   "execution_count": null,
   "metadata": {
    "ExecuteTime": {
     "end_time": "2024-01-02T01:03:36.403035823Z",
     "start_time": "2024-01-02T01:03:36.401081946Z"
    },
    "collapsed": false
   },
   "outputs": [],
   "source": [
    "X = merged_data.drop(columns=[TRAIT, condition]).values\n",
    "Y = merged_data[TRAIT].values\n",
    "Z = merged_data[condition].values"
   ]
  },
  {
   "cell_type": "markdown",
   "metadata": {
    "collapsed": false
   },
   "source": [
    "Select the appropriate regression model depending on whether the dataset shows batch effect."
   ]
  },
  {
   "cell_type": "code",
   "execution_count": null,
   "metadata": {
    "ExecuteTime": {
     "end_time": "2024-01-02T01:03:36.403263628Z",
     "start_time": "2024-01-02T01:03:36.401336170Z"
    },
    "collapsed": false
   },
   "outputs": [
    {
     "data": {
      "text/plain": [
       "True"
      ]
     },
     "execution_count": 19,
     "metadata": {},
     "output_type": "execute_result"
    }
   ],
   "source": [
    "has_batch_effect = detect_batch_effect(X)\n",
    "has_batch_effect"
   ]
  },
  {
   "cell_type": "code",
   "execution_count": null,
   "metadata": {
    "ExecuteTime": {
     "end_time": "2024-01-02T01:03:36.475053437Z",
     "start_time": "2024-01-02T01:03:36.444397231Z"
    },
    "collapsed": false
   },
   "outputs": [],
   "source": [
    "\n",
    "if has_batch_effect:\n",
    "    model_constructor1 = VariableSelection\n",
    "    model_params1 = {'modified': True, 'lamda': 3e-4}\n",
    "    model_constructor2 = VariableSelection\n",
    "    model_params2 = {'modified': False}\n",
    "else:\n",
    "    model_constructor1 = Lasso\n",
    "    model_params1 = {'alpha': 1.0, 'random_state': 42}\n",
    "    model_constructor2 = VariableSelection\n",
    "    model_params2 = {'modified': False}"
   ]
  },
  {
   "cell_type": "code",
   "execution_count": null,
   "metadata": {
    "ExecuteTime": {
     "end_time": "2024-01-02T01:03:50.733335364Z",
     "start_time": "2024-01-02T01:03:36.444563711Z"
    },
    "collapsed": false
   },
   "outputs": [
    {
     "name": "stdout",
     "output_type": "stream",
     "text": [
      "The cross-validation accuracy is 56.84% ± 4.59%\n"
     ]
    }
   ],
   "source": [
    "trait_type = 'binary'  # Remember to set this properly, either 'binary' or 'continuous'\n",
    "cv_mean1, cv_std1 = cross_validation(X, Y, Z, model_constructor1, model_params1, target_type=trait_type)"
   ]
  },
  {
   "cell_type": "code",
   "execution_count": null,
   "metadata": {},
   "outputs": [],
   "source": [
    "cv_mean2, cv_std2 = cross_validation(X, Y, Z, model_constructor2, model_params2, target_type=trait_type)"
   ]
  },
  {
   "cell_type": "code",
   "execution_count": null,
   "metadata": {
    "ExecuteTime": {
     "end_time": "2024-01-02T01:03:53.587340410Z",
     "start_time": "2024-01-02T01:03:50.732779025Z"
    },
    "collapsed": false
   },
   "outputs": [],
   "source": [
    "normalized_X, _ = normalize_data(X)\n",
    "normalized_Z, _ = normalize_data(Z)\n",
    "\n",
    "# Train regression model on the whole dataset to identify significant genes\n",
    "model1 = ResidualizationRegressor(model_constructor1, model_params1)\n",
    "model1.fit(normalized_X, Y, normalized_Z)\n",
    "\n",
    "model2 = ResidualizationRegressor(model_constructor2, model_params2)\n",
    "model2.fit(normalized_X, Y, normalized_Z)"
   ]
  },
  {
   "cell_type": "markdown",
   "metadata": {
    "ExecuteTime": {
     "end_time": "2023-10-14T04:50:59.072075075Z",
     "start_time": "2023-10-14T04:50:38.739499998Z"
    },
    "id": "EjJrxbvb4nlj"
   },
   "source": [
    "### 5. Discussion and report"
   ]
  },
  {
   "cell_type": "code",
   "execution_count": null,
   "metadata": {
    "ExecuteTime": {
     "end_time": "2024-01-02T01:03:53.641570844Z",
     "start_time": "2024-01-02T01:03:53.627778553Z"
    },
    "collapsed": false
   },
   "outputs": [
    {
     "name": "stdout",
     "output_type": "stream",
     "text": [
      "Effect of the condition on the target variable:\n",
      "Variable: Age\n",
      "Coefficient: 0.0025\n",
      "Found 547 significant genes associated with the trait 'Psoriasis' conditional on the factor 'Age', with corrected p-value < 0.05:\n",
      "   Variable  Coefficient  corrected_p_value\n",
      "4.430015695     0.087750           0.001231\n",
      "4.478193647     0.087750           0.001231\n",
      "4.478966158     0.087750           0.001231\n",
      " 4.48687579     0.087750           0.001231\n",
      "4.491851159     0.087750           0.001231\n",
      "4.492453853     0.087750           0.001231\n",
      "4.494270678     0.087750           0.001231\n",
      "4.504245863     0.087750           0.001231\n",
      "4.505190735     0.087750           0.001231\n",
      "4.505235806     0.087750           0.001231\n",
      "4.506891502     0.087750           0.001231\n",
      "4.510669146     0.087750           0.001231\n",
      "4.476613942     0.087750           0.001231\n",
      " 4.51198966     0.087750           0.001231\n",
      "4.513528153     0.087750           0.001231\n",
      "4.516930407     0.087750           0.001231\n",
      "4.806825082     0.087750           0.001231\n",
      "4.806472355     0.087750           0.001231\n",
      "4.803063266     0.087750           0.001231\n",
      " 4.52918761     0.087750           0.001231\n",
      "4.531488153     0.087750           0.001231\n",
      "4.796764234     0.087750           0.001231\n",
      "4.534374587     0.087750           0.001231\n",
      "4.544427446     0.087750           0.001231\n",
      " 4.54592774     0.087750           0.001231\n",
      "4.512419391     0.087750           0.001231\n",
      "4.549525143     0.087750           0.001231\n",
      "4.808785555     0.087750           0.001231\n",
      "4.822091729     0.087750           0.001231\n",
      "4.879190448     0.087750           0.001231\n",
      "4.425075714     0.087750           0.001231\n",
      " 4.72671124     0.087750           0.001231\n",
      "4.874043922     0.087750           0.001231\n",
      "4.433027679     0.087750           0.001231\n",
      "4.433355205     0.087750           0.001231\n",
      "4.872522198     0.087750           0.001231\n",
      "4.867851455     0.087750           0.001231\n",
      "4.442816841     0.087750           0.001231\n",
      " 4.85813597     0.087750           0.001231\n",
      "4.443660273     0.087750           0.001231\n",
      "4.473690178     0.087750           0.001231\n",
      "9.425064512     0.087750           0.001231\n",
      "4.854220574     0.087750           0.001231\n",
      " 4.83766585     0.087750           0.001231\n",
      "4.451208778     0.087750           0.001231\n",
      " 4.45407269     0.087750           0.001231\n",
      "4.454379679     0.087750           0.001231\n",
      "4.462918625     0.087750           0.001231\n",
      "4.834657195     0.087750           0.001231\n",
      " 4.46650314     0.087750           0.001231\n",
      "4.829760096     0.087750           0.001231\n",
      "4.467820996     0.087750           0.001231\n",
      "4.472055203     0.087750           0.001231\n",
      "4.445849705     0.087750           0.001231\n",
      "4.553736052     0.087750           0.001231\n",
      "4.557001614     0.087750           0.001231\n",
      "4.562842786     0.087750           0.001231\n",
      " 4.66556908     0.087750           0.001231\n",
      "4.759488929     0.087750           0.001231\n",
      "5.382735413     0.087750           0.001231\n",
      "4.671919882     0.087750           0.001231\n",
      "4.674761185     0.087750           0.001231\n",
      "4.675411221     0.087750           0.001231\n",
      "4.675683407     0.087750           0.001231\n",
      "4.676411081     0.087750           0.001231\n",
      "4.677967937     0.087750           0.001231\n",
      " 4.67982582     0.087750           0.001231\n",
      "4.687264924     0.087750           0.001231\n",
      "4.761181767     0.087750           0.001231\n",
      "4.741530021     0.087750           0.001231\n",
      "4.694839273     0.087750           0.001231\n",
      "4.698885868     0.087750           0.001231\n",
      "4.740506814     0.087750           0.001231\n",
      "4.740286147     0.087750           0.001231\n",
      "4.737399443     0.087750           0.001231\n",
      "4.735885263     0.087750           0.001231\n",
      "4.706862811     0.087750           0.001231\n",
      "4.710628179     0.087750           0.001231\n",
      "4.711292054     0.087750           0.001231\n",
      "4.732035059     0.087750           0.001231\n",
      "4.731468703     0.087750           0.001231\n",
      "4.688632873     0.087750           0.001231\n",
      "4.762588577     0.087750           0.001231\n",
      "4.646725963     0.087750           0.001231\n",
      "4.638217769     0.087750           0.001231\n",
      "4.563282175     0.087750           0.001231\n",
      "4.569090452     0.087750           0.001231\n",
      "4.569402987     0.087750           0.001231\n",
      "4.570215076     0.087750           0.001231\n",
      "4.791240988     0.087750           0.001231\n",
      "4.576024053     0.087750           0.001231\n",
      "4.577675667     0.087750           0.001231\n",
      "4.580291854     0.087750           0.001231\n",
      " 4.78606554     0.087750           0.001231\n",
      "4.584420045     0.087750           0.001231\n",
      "4.592759769     0.087750           0.001231\n",
      "4.785193456     0.087750           0.001231\n",
      " 4.59360188     0.087750           0.001231\n",
      "4.781238383     0.087750           0.001231\n",
      "4.613865121     0.087750           0.001231\n",
      " 4.61675507     0.087750           0.001231\n",
      " 4.77870642     0.087750           0.001231\n",
      "4.618744882     0.087750           0.001231\n",
      "4.625252145     0.087750           0.001231\n",
      "4.625901327     0.087750           0.001231\n",
      "4.626864304     0.087750           0.001231\n",
      "4.628349104     0.087750           0.001231\n",
      "4.628600501     0.087750           0.001231\n",
      "4.629169422     0.087750           0.001231\n",
      "4.777291454     0.087750           0.001231\n",
      "4.881373687     0.087750           0.001231\n",
      "4.882400311     0.087750           0.001231\n",
      "4.725623522     0.087750           0.001231\n",
      "4.885354833     0.087750           0.001231\n",
      "5.057111612     0.087750           0.001231\n",
      "4.041850755     0.087750           0.001231\n",
      "4.054082796     0.087750           0.001231\n",
      "4.081967423     0.087750           0.001231\n",
      "4.083330148     0.087750           0.001231\n",
      "5.017545177     0.087750           0.001231\n",
      "5.012285797     0.087750           0.001231\n",
      " 4.10018943     0.087750           0.001231\n",
      "4.106355402     0.087750           0.001231\n",
      "5.004567345     0.087750           0.001231\n",
      "4.117590782     0.087750           0.001231\n",
      "4.119019499     0.087750           0.001231\n",
      " 4.11939731     0.087750           0.001231\n",
      "4.140588201     0.087750           0.001231\n",
      "4.141023152     0.087750           0.001231\n",
      "4.145826358     0.087750           0.001231\n",
      "4.147083099     0.087750           0.001231\n",
      "4.149737552     0.087750           0.001231\n",
      "4.412978608     0.087750           0.001231\n",
      "4.167091893     0.087750           0.001231\n",
      "5.002045104     0.087750           0.001231\n",
      "5.059731601     0.087750           0.001231\n",
      "4.000440652     0.087750           0.001231\n",
      " 5.06293084     0.087750           0.001231\n",
      " 5.06881156     0.087750           0.001231\n",
      "5.313396949     0.087750           0.001231\n",
      " 5.46270626     0.087750           0.001231\n",
      " 5.27152682     0.087750           0.001231\n",
      "5.508126353     0.087750           0.001231\n",
      "5.240872109     0.087750           0.001231\n",
      "5.232109065     0.087750           0.001231\n",
      "5.228262845     0.087750           0.001231\n",
      "5.195595077     0.087750           0.001231\n",
      "5.176185101     0.087750           0.001231\n",
      "      80069     0.087750           0.001231\n",
      "4.198656864     0.087750           0.001231\n",
      "5.155229124     0.087750           0.001231\n",
      "3.711122839     0.087750           0.001231\n",
      "3.812795596     0.087750           0.001231\n",
      " 5.11329107     0.087750           0.001231\n",
      "3.864205214     0.087750           0.001231\n",
      "5.093487128     0.087750           0.001231\n",
      "3.968169551     0.087750           0.001231\n",
      "3.974118074     0.087750           0.001231\n",
      "3.978228552     0.087750           0.001231\n",
      "5.075086942     0.087750           0.001231\n",
      "5.072285198     0.087750           0.001231\n",
      "5.137355125     0.087750           0.001231\n",
      "4.209792546     0.087750           0.001231\n",
      "4.152990359     0.087750           0.001231\n",
      "4.319029457     0.087750           0.001231\n",
      "4.916043318     0.087750           0.001231\n",
      "4.292743021     0.087750           0.001231\n",
      "4.296486459     0.087750           0.001231\n",
      "4.301166569     0.087750           0.001231\n",
      "4.937820613     0.087750           0.001231\n",
      "4.915852772     0.087750           0.001231\n",
      "4.387185664     0.087750           0.001231\n",
      " 4.93147037     0.087750           0.001231\n",
      "4.329078894     0.087750           0.001231\n",
      "4.333274697     0.087750           0.001231\n",
      "4.333476552     0.087750           0.001231\n",
      "4.336026182     0.087750           0.001231\n",
      "4.925435038     0.087750           0.001231\n",
      " 4.34169289     0.087750           0.001231\n",
      "4.344970312     0.087750           0.001231\n",
      "4.915904215     0.087750           0.001231\n",
      "6.441467272     0.087750           0.001231\n",
      "4.919615221     0.087750           0.001231\n",
      "4.373771291     0.087750           0.001231\n",
      "4.908478529     0.087750           0.001231\n",
      "4.943758394     0.087750           0.001231\n",
      "4.914002154     0.087750           0.001231\n",
      "4.268435099     0.087750           0.001231\n",
      "4.978086668     0.087750           0.001231\n",
      "4.215195928     0.087750           0.001231\n",
      "4.216662741     0.087750           0.001231\n",
      "4.400491944     0.087750           0.001231\n",
      "4.217929364     0.087750           0.001231\n",
      "4.949575543     0.087750           0.001231\n",
      "4.233205941     0.087750           0.001231\n",
      "4.235668089     0.087750           0.001231\n",
      "4.386314592     0.087750           0.001231\n",
      " 4.24313456     0.087750           0.001231\n",
      "4.949861934     0.087750           0.001231\n",
      "4.906360475     0.087750           0.001231\n",
      "4.241935396     0.087750           0.001231\n",
      "4.249585891     0.087750           0.001231\n",
      "4.254832845     0.087750           0.001231\n",
      "4.395653877     0.087750           0.001231\n",
      "4.890120978     0.087750           0.001231\n",
      "9.184293909     0.108569           0.001709\n",
      "      84916     0.083592           0.002061\n",
      "      84818     0.074710           0.002711\n",
      "8.969393233     0.094545           0.004001\n",
      "9.125045569    -0.151916           0.005308\n",
      "       5356    -0.151916           0.005308\n",
      "4.733036243    -0.109810           0.007405\n",
      "5.343763975    -0.109810           0.007405\n",
      "5.194111389    -0.109810           0.007405\n",
      "5.313040586    -0.109810           0.007405\n",
      "4.802121823    -0.109810           0.007405\n",
      "4.920244775    -0.109810           0.007405\n",
      "4.795398239    -0.109810           0.007405\n",
      "4.794661995    -0.109810           0.007405\n",
      "4.991742514    -0.109810           0.007405\n",
      "5.846474378    -0.109810           0.007405\n",
      "4.965010199    -0.109810           0.007405\n",
      "5.669965495    -0.109810           0.007405\n",
      "4.794148887    -0.109810           0.007405\n",
      "4.964243443    -0.109810           0.007405\n",
      "4.941959571    -0.109810           0.007405\n",
      "5.022275543    -0.109810           0.007405\n",
      "5.031175535    -0.109810           0.007405\n",
      "4.931694217    -0.109810           0.007405\n",
      "4.814359096    -0.109810           0.007405\n",
      " 4.97924616    -0.109810           0.007405\n",
      "4.765588599    -0.109810           0.007405\n",
      "4.917185337    -0.109810           0.007405\n",
      "9.594389045     0.375357           0.007405\n",
      " 4.66619639    -0.109810           0.007405\n",
      "4.719733385    -0.109810           0.007405\n",
      "4.289631413    -0.109810           0.007405\n",
      "4.306570925    -0.109810           0.007405\n",
      "4.316321809    -0.109810           0.007405\n",
      "4.318116539    -0.109810           0.007405\n",
      "4.341070475    -0.109810           0.007405\n",
      "4.345931906    -0.109810           0.007405\n",
      "4.366991949    -0.109810           0.007405\n",
      "4.368022818    -0.109810           0.007405\n",
      "4.379190072    -0.109810           0.007405\n",
      " 4.38693764    -0.109810           0.007405\n",
      "4.388550112    -0.109810           0.007405\n",
      "4.393234036    -0.109810           0.007405\n",
      " 4.39410031    -0.109810           0.007405\n",
      "4.396921589    -0.109810           0.007405\n",
      " 4.40460193    -0.109810           0.007405\n",
      "4.413855811    -0.109810           0.007405\n",
      "4.417902492    -0.109810           0.007405\n",
      "4.276988391    -0.109810           0.007405\n",
      "4.270026284    -0.109810           0.007405\n",
      "4.265507679    -0.109810           0.007405\n",
      "4.260529712    -0.109810           0.007405\n",
      "9.136524971     0.269209           0.007405\n",
      "3.556741279    -0.109810           0.007405\n",
      "3.576488063    -0.109810           0.007405\n",
      "3.659064023    -0.109810           0.007405\n",
      "3.700422652    -0.109810           0.007405\n",
      "3.841942702    -0.109810           0.007405\n",
      "3.960951441    -0.109810           0.007405\n",
      "      64849    -0.109810           0.007405\n",
      "4.421387222    -0.109810           0.007405\n",
      "4.007681275    -0.109810           0.007405\n",
      "4.725497375    -0.109810           0.007405\n",
      "4.093456467    -0.109810           0.007405\n",
      "4.111944369    -0.109810           0.007405\n",
      "4.128702441    -0.109810           0.007405\n",
      "4.187280255    -0.109810           0.007405\n",
      "4.191354084    -0.109810           0.007405\n",
      "4.212589315    -0.109810           0.007405\n",
      "  4.2183996    -0.109810           0.007405\n",
      " 4.01276489    -0.109810           0.007405\n",
      "4.431010853    -0.109810           0.007405\n",
      "4.086876467    -0.109810           0.007405\n",
      "4.475337359    -0.109810           0.007405\n",
      "4.546668716    -0.109810           0.007405\n",
      "4.539182766    -0.109810           0.007405\n",
      "4.442326388    -0.109810           0.007405\n",
      "4.652766681    -0.109810           0.007405\n",
      "4.574047715    -0.109810           0.007405\n",
      "4.532817765    -0.109810           0.007405\n",
      "4.532723667    -0.109810           0.007405\n",
      "4.611508044    -0.109810           0.007405\n",
      "4.529061678    -0.109810           0.007405\n",
      "4.520825584    -0.109810           0.007405\n",
      "4.518832117    -0.109810           0.007405\n",
      "4.584256544    -0.109810           0.007405\n",
      "4.473014588    -0.109810           0.007405\n",
      "4.617144012    -0.109810           0.007405\n",
      "4.593153584    -0.109810           0.007405\n",
      "4.472706214    -0.109810           0.007405\n",
      "4.467597156    -0.109810           0.007405\n",
      "4.463983441    -0.109810           0.007405\n",
      "4.712299652    -0.109810           0.007405\n",
      "4.447130026    -0.109810           0.007405\n",
      "4.701745991    -0.109810           0.007405\n",
      " 4.44702525    -0.109810           0.007405\n",
      " 4.44403655    -0.109810           0.007405\n",
      "4.443145944    -0.109810           0.007405\n",
      "4.711576412    -0.109810           0.007405\n",
      " 4.65147927    -0.109810           0.007405\n",
      "4.665851094    -0.109810           0.007405\n",
      "4.636271161    -0.109810           0.007405\n",
      "4.688390434    -0.109810           0.007405\n",
      "6.622567681     0.163494           0.007905\n",
      "8.902917609     0.163049           0.009066\n",
      "  100505942     0.070249           0.010743\n",
      "2.900145612     0.082946           0.010829\n",
      "3.132911066     0.093890           0.012257\n",
      "3.539205038     0.101398           0.012411\n",
      "2.950159801     0.080531           0.015226\n",
      "5.118491552     0.109830           0.016862\n",
      "     284801     0.077680           0.018406\n",
      "5.516859444     0.136176           0.020458\n",
      "5.511320044     0.071235           0.022634\n",
      "       8799    -0.138743           0.022634\n",
      "5.505902525     0.071235           0.022634\n",
      "5.519523062     0.071235           0.022634\n",
      "5.498729942     0.071235           0.022634\n",
      "5.520746811     0.071235           0.022634\n",
      "5.521513569     0.071235           0.022634\n",
      "5.497501968     0.071235           0.022634\n",
      "5.522303597     0.071235           0.022634\n",
      "5.493562243     0.071235           0.022634\n",
      "5.879436076     0.071235           0.022634\n",
      " 5.49122468     0.071235           0.022634\n",
      "5.489772704     0.071235           0.022634\n",
      "5.507072378     0.071235           0.022634\n",
      "  6.0046947     0.071235           0.022634\n",
      "5.466429547     0.071235           0.022634\n",
      "5.485280093     0.071235           0.022634\n",
      "5.395626179     0.071235           0.022634\n",
      "5.409952463     0.071235           0.022634\n",
      "5.412615463     0.071235           0.022634\n",
      " 5.41341278     0.071235           0.022634\n",
      "5.416510981     0.071235           0.022634\n",
      "5.425395151     0.071235           0.022634\n",
      "5.430895559     0.071235           0.022634\n",
      "5.435578418     0.071235           0.022634\n",
      "5.439038169     0.071235           0.022634\n",
      "5.440627364     0.071235           0.022634\n",
      "5.444812733     0.071235           0.022634\n",
      "5.450736284     0.071235           0.022634\n",
      "5.489361126     0.071235           0.022634\n",
      "5.455436356     0.071235           0.022634\n",
      "5.458195499     0.071235           0.022634\n",
      "5.458546033     0.071235           0.022634\n",
      "9.147110417     0.192527           0.022634\n",
      "9.145100121     0.132672           0.022634\n",
      " 5.45929722     0.071235           0.022634\n",
      "5.529422719     0.071235           0.022634\n",
      "5.470915076     0.071235           0.022634\n",
      "5.471456973     0.071235           0.022634\n",
      " 5.47178808     0.071235           0.022634\n",
      "5.475927233     0.071235           0.022634\n",
      "5.479681639     0.071235           0.022634\n",
      "5.480777272     0.071235           0.022634\n",
      "5.457922537     0.071235           0.022634\n",
      "5.532383116     0.071235           0.022634\n",
      "5.561676216     0.071235           0.022634\n",
      "5.533415049     0.071235           0.022634\n",
      "5.651691119     0.071235           0.022634\n",
      "5.654114655     0.071235           0.022634\n",
      "5.665260488     0.071235           0.022634\n",
      "5.689015492     0.071235           0.022634\n",
      "5.692674268     0.071235           0.022634\n",
      "5.702507073     0.071235           0.022634\n",
      " 6.51733961     0.071235           0.022634\n",
      "5.858814695     0.071235           0.022634\n",
      "5.928937137     0.071235           0.022634\n",
      "5.708868259     0.071235           0.022634\n",
      "5.733920315     0.071235           0.022634\n",
      "5.650808929     0.071235           0.022634\n",
      "5.935705084     0.071235           0.022634\n",
      "5.741333405     0.071235           0.022634\n",
      "5.743300741     0.071235           0.022634\n",
      "5.838653537     0.071235           0.022634\n",
      "5.760046366     0.071235           0.022634\n",
      "6.373141434     0.071235           0.022634\n",
      "5.838634595     0.071235           0.022634\n",
      "5.778202655     0.071235           0.022634\n",
      "5.824089777     0.071235           0.022634\n",
      "5.815976395     0.071235           0.022634\n",
      "5.788813448     0.071235           0.022634\n",
      "5.791455985     0.071235           0.022634\n",
      "5.740400588     0.071235           0.022634\n",
      "5.894532745     0.071235           0.022634\n",
      "5.643342137     0.071235           0.022634\n",
      "5.640985491     0.071235           0.022634\n",
      "5.535230839     0.071235           0.022634\n",
      "5.535951388     0.071235           0.022634\n",
      "5.537262887     0.071235           0.022634\n",
      " 5.53781128     0.071235           0.022634\n",
      "5.538585441     0.071235           0.022634\n",
      " 5.53972973     0.071235           0.022634\n",
      "5.539808734     0.071235           0.022634\n",
      "5.923377702     0.071235           0.022634\n",
      "5.540530373     0.071235           0.022634\n",
      "5.550127232     0.071235           0.022634\n",
      "5.550339562     0.071235           0.022634\n",
      "6.932588565     0.071235           0.022634\n",
      "5.563443024     0.071235           0.022634\n",
      "5.572493637     0.071235           0.022634\n",
      "8.894525703    -0.138743           0.022634\n",
      "5.575347692     0.071235           0.022634\n",
      "8.773624098    -0.138743           0.022634\n",
      "5.579069232     0.071235           0.022634\n",
      "5.582667089     0.071235           0.022634\n",
      " 5.92360053     0.071235           0.022634\n",
      "5.589407044     0.071235           0.022634\n",
      "5.602155125     0.071235           0.022634\n",
      "5.621517605     0.071235           0.022634\n",
      "5.629457437     0.071235           0.022634\n",
      " 5.56695549     0.071235           0.022634\n",
      "5.369865762     0.071235           0.022634\n",
      "10.96845059    -0.212239           0.022634\n",
      "5.364918105     0.071235           0.022634\n",
      " 4.94343232     0.071235           0.022634\n",
      "4.943857359     0.071235           0.022634\n",
      "4.958679834     0.071235           0.022634\n",
      "4.979255008     0.071235           0.022634\n",
      "4.982827995     0.071235           0.022634\n",
      "4.985146808     0.071235           0.022634\n",
      "5.002100387     0.071235           0.022634\n",
      "5.003701877     0.071235           0.022634\n",
      " 5.00685314     0.071235           0.022634\n",
      " 5.01961486     0.071235           0.022634\n",
      "5.024848414     0.071235           0.022634\n",
      "5.028718006     0.071235           0.022634\n",
      " 5.03566348     0.071235           0.022634\n",
      "5.041095524     0.071235           0.022634\n",
      "5.041345016     0.071235           0.022634\n",
      " 5.05123636     0.071235           0.022634\n",
      "5.365697584     0.071235           0.022634\n",
      "5.063807942     0.071235           0.022634\n",
      "5.066785974     0.071235           0.022634\n",
      "5.069203363     0.071235           0.022634\n",
      "5.078474069     0.071235           0.022634\n",
      "5.082658681     0.071235           0.022634\n",
      "5.097997726     0.071235           0.022634\n",
      "4.935183963     0.071235           0.022634\n",
      "4.918740139     0.071235           0.022634\n",
      "4.898400571     0.071235           0.022634\n",
      "4.878153319     0.071235           0.022634\n",
      "11.00004335    -0.164449           0.022634\n",
      "12.75698068     0.071235           0.022634\n",
      "3.384080486     0.081070           0.022634\n",
      "3.579903005     0.080853           0.022634\n",
      " 3.95143502     0.071235           0.022634\n",
      "3.994042715    -0.108209           0.022634\n",
      "     387742     0.071235           0.022634\n",
      "4.211827094     0.071235           0.022634\n",
      "4.348840492     0.071235           0.022634\n",
      "4.389641267     0.071235           0.022634\n",
      "4.519774222     0.071235           0.022634\n",
      "5.103350591     0.071235           0.022634\n",
      "4.534302897     0.071235           0.022634\n",
      "4.665251156     0.071235           0.022634\n",
      "4.700151783     0.071235           0.022634\n",
      "4.704327123     0.071235           0.022634\n",
      "  4.7065898     0.071235           0.022634\n",
      " 4.78970593     0.071235           0.022634\n",
      " 4.79416188     0.071235           0.022634\n",
      "4.825101141     0.071235           0.022634\n",
      "4.835215442     0.071235           0.022634\n",
      "4.840146602     0.071235           0.022634\n",
      "4.858889905     0.071235           0.022634\n",
      "4.867427946     0.071235           0.022634\n",
      "4.570598065     0.071235           0.022634\n",
      "5.104584953     0.071235           0.022634\n",
      "5.059210022     0.071235           0.022634\n",
      "5.112538008     0.071235           0.022634\n",
      "5.290964545     0.071235           0.022634\n",
      "5.291391052     0.071235           0.022634\n",
      "5.291922406     0.071235           0.022634\n",
      "5.294773978     0.071235           0.022634\n",
      "5.106676657     0.071235           0.022634\n",
      "5.300526949     0.071235           0.022634\n",
      "5.310376016     0.071235           0.022634\n",
      "5.313680782     0.071235           0.022634\n",
      "5.314810709     0.071235           0.022634\n",
      "5.315582837     0.071235           0.022634\n",
      "5.316469301     0.071235           0.022634\n",
      "5.287627795     0.071235           0.022634\n",
      "5.317036734     0.071235           0.022634\n",
      "5.318404087     0.071235           0.022634\n",
      "5.322299905     0.071235           0.022634\n",
      "5.327320637     0.071235           0.022634\n",
      "5.339288366     0.071235           0.022634\n",
      "5.343917283     0.071235           0.022634\n",
      "5.352475339     0.071235           0.022634\n",
      "5.356389778     0.071235           0.022634\n",
      "5.360868154     0.071235           0.022634\n",
      "5.361456451     0.071235           0.022634\n",
      " 5.36396828     0.071235           0.022634\n",
      "5.364493538     0.071235           0.022634\n",
      "5.318197403     0.071235           0.022634\n",
      "5.278731207     0.071235           0.022634\n",
      "5.296934746     0.071235           0.022634\n",
      "5.156886031     0.071235           0.022634\n",
      "5.114546941     0.071235           0.022634\n",
      "5.126895892     0.071235           0.022634\n",
      "5.142113918     0.071235           0.022634\n",
      "5.146275938     0.071235           0.022634\n",
      "5.147940142     0.071235           0.022634\n",
      "5.151106843     0.071235           0.022634\n",
      "5.152029269     0.071235           0.022634\n",
      "5.152901089     0.071235           0.022634\n",
      "5.276190952     0.071235           0.022634\n",
      "5.167212712     0.071235           0.022634\n",
      "5.181135543     0.071235           0.022634\n",
      " 5.19541624     0.071235           0.022634\n",
      "5.202166996     0.071235           0.022634\n",
      "4.855012788     0.071235           0.022634\n",
      "5.234474009     0.071235           0.022634\n",
      "5.239062658     0.071235           0.022634\n",
      "5.272783073     0.071235           0.022634\n",
      "5.244963003     0.071235           0.022634\n",
      "5.266402589     0.071235           0.022634\n",
      "5.248996201     0.071235           0.022634\n",
      "5.249722029     0.071235           0.022634\n",
      "5.263867103     0.071235           0.022634\n",
      "5.251816286     0.071235           0.022634\n",
      "5.261657433     0.071235           0.022634\n",
      "5.255367742     0.071235           0.022634\n",
      "5.218994709     0.071235           0.022634\n",
      "4.027502961    -0.120462           0.022692\n",
      "11.27369242    -0.286784           0.023162\n",
      "3.983532258     0.077339           0.024090\n",
      "3.470195675     0.075224           0.030735\n",
      "5.701501751     0.215165           0.031079\n",
      "4.434451174    -0.102141           0.032627\n",
      "8.846569903     0.154946           0.038505\n",
      "3.645867023     0.070060           0.039396\n",
      "3.022732127     0.070060           0.039396\n",
      "5.861471324     0.178796           0.040563\n",
      " 3.57053999     0.090656           0.043893\n",
      "9.089247562     0.134869           0.044630\n",
      "4.089061738    -0.116953           0.045933\n",
      "7.745020478     0.141581           0.047799\n",
      "4.915304527    -0.116762           0.048942\n",
      "3.996311684     0.089618           0.049238\n",
      "5.984827706     0.144979           0.049599\n"
     ]
    },
    {
     "name": "stderr",
     "output_type": "stream",
     "text": [
      "/home/yxcheng/AI4Science_gold_standard/stage1/Yuxuan/utils.py:425: SettingWithCopyWarning: \n",
      "A value is trying to be set on a copy of a slice from a DataFrame.\n",
      "Try using .loc[row_indexer,col_indexer] = value instead\n",
      "\n",
      "See the caveats in the documentation: https://pandas.pydata.org/pandas-docs/stable/user_guide/indexing.html#returning-a-view-versus-a-copy\n",
      "  gene_regression_df.loc[:, 'corrected_p_value'] = corrected_p_values\n"
     ]
    }
   ],
   "source": [
    "\n",
    "feature_cols = merged_data.columns.tolist()\n",
    "feature_cols.remove(TRAIT)\n",
    "\n",
    "threshold = 0.05\n",
    "interpret_result(model1, feature_cols, TRAIT, condition, threshold=threshold, save_output=True,\n",
    "                 output_dir=OUTPUT_DIR, model_id=1)"
   ]
  },
  {
   "cell_type": "code",
   "execution_count": null,
   "metadata": {
    "collapsed": false
   },
   "outputs": [],
   "source": [
    "interpret_result(model2, feature_cols, TRAIT, condition, threshold=threshold, save_output=True,\n",
    "                 output_dir=OUTPUT_DIR, model_id=2)"
   ]
  }
 ],
 "metadata": {
  "colab": {
   "provenance": []
  },
  "kernelspec": {
   "display_name": "Python 3 (ipykernel)",
   "language": "python",
   "name": "python3"
  },
  "language_info": {
   "codemirror_mode": {
    "name": "ipython",
    "version": 3
   },
   "file_extension": ".py",
   "mimetype": "text/x-python",
   "name": "python",
   "nbconvert_exporter": "python",
   "pygments_lexer": "ipython3",
   "version": "3.11.8"
  }
 },
 "nbformat": 4,
 "nbformat_minor": 0
}
