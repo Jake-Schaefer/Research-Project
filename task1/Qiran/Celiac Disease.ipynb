{
 "cells": [
  {
   "cell_type": "markdown",
   "metadata": {
    "collapsed": false
   },
   "source": [
    "# Gold standard curation: Preprocessing and single-step regression"
   ]
  },
  {
   "cell_type": "markdown",
   "metadata": {
    "collapsed": false
   },
   "source": [
    "In this stage of gold standard curation, we will do the data preprocessing, selection, and single-step regression for the 153 traits in our question set. The workflow consists of the following steps:\n",
    "\n",
    "1. Preprocess all the cohorts related to this trait. Each cohort should be converted to a tabular form and saved to a csv file, with columns being genetic factors, the trait, and age, gender if available;\n",
    "2. If there exists at least one cohort with age or gender information, conduct regression analysis with genetic features together with age or gender as the regressors.\n"
   ]
  },
  {
   "cell_type": "markdown",
   "metadata": {
    "collapsed": false
   },
   "source": [
    "# 1. Basic setup"
   ]
  },
  {
   "cell_type": "code",
   "execution_count": 4,
   "metadata": {
    "ExecuteTime": {
     "end_time": "2024-01-02T01:02:53.240839272Z",
     "start_time": "2024-01-02T01:02:53.240575109Z"
    },
    "collapsed": false
   },
   "outputs": [],
   "source": [
    "import os\n",
    "import sys\n",
    "\n",
    "sys.path.append('..')\n",
    "# Set your preferred name\n",
    "USER = \"Yuxuan\"\n",
    "# Set the data and output directories\n",
    "DATA_ROOT = '/home/yxcheng'\n",
    "OUTPUT_ROOT = '../../output1'\n",
    "TRAIT = 'Celiac-Disease'\n",
    "\n",
    "OUTPUT_DIR = os.path.join(OUTPUT_ROOT, USER, '-'.join(TRAIT.split()))\n",
    "JSON_PATH = os.path.join(OUTPUT_DIR, \"cohort_info.json\")\n",
    "if not os.path.exists(OUTPUT_DIR):\n",
    "    os.makedirs(OUTPUT_DIR, exist_ok=True)\n",
    "\n",
    "# Gene symbol normalization may take 1-2 minutes. You may set it to False for debugging.\n",
    "NORMALIZE_GENE = True"
   ]
  },
  {
   "cell_type": "code",
   "execution_count": 2,
   "metadata": {
    "ExecuteTime": {
     "end_time": "2024-01-02T01:02:53.501910797Z",
     "start_time": "2024-01-02T01:02:53.496254990Z"
    },
    "colab": {
     "base_uri": "https://localhost:8080/"
    },
    "id": "jMTdsU43vVg3",
    "outputId": "38886111-f442-44b4-8398-96bf384d7abd"
   },
   "outputs": [
    {
     "data": {
      "text/plain": [
       "\"import os\\nfrom google.colab import drive\\n\\ndrive.mount('/content/drive', force_remount=True)\\nproj_dir = '/content/drive/MyDrive/AI4Science_Public'\\nos.chdir(proj_dir)\""
      ]
     },
     "execution_count": 2,
     "metadata": {},
     "output_type": "execute_result"
    }
   ],
   "source": [
    "# This cell is only for use on Google Colab. Skip it if you run your code in other environments\n",
    "\n",
    "\"\"\"import os\n",
    "from google.colab import drive\n",
    "\n",
    "drive.mount('/content/drive', force_remount=True)\n",
    "proj_dir = '/content/drive/MyDrive/AI4Science_Public'\n",
    "os.chdir(proj_dir)\"\"\""
   ]
  },
  {
   "cell_type": "markdown",
   "metadata": {
    "collapsed": false
   },
   "source": [
    "# 2. Data preprocessing and selection"
   ]
  },
  {
   "cell_type": "markdown",
   "metadata": {
    "collapsed": false
   },
   "source": [
    "## 2.1. The TCGA Xena dataset"
   ]
  },
  {
   "cell_type": "markdown",
   "metadata": {
    "collapsed": false
   },
   "source": [
    "In TCGA Xena, there is either zero or one cohort related to the trait. We search the names of subdirectories to see if any matches the trait. If a match is found, we directly obtain the file paths."
   ]
  },
  {
   "cell_type": "code",
   "execution_count": 5,
   "metadata": {
    "ExecuteTime": {
     "end_time": "2024-01-02T01:02:56.462746833Z",
     "start_time": "2024-01-02T01:02:55.818581842Z"
    },
    "collapsed": false
   },
   "outputs": [
    {
     "data": {
      "text/plain": [
       "['TCGA_Adrenocortical_Cancer_(ACC)',\n",
       " 'TCGA_Bile_Duct_Cancer_(CHOL)',\n",
       " 'TCGA_Lower_Grade_Glioma_(LGG)',\n",
       " 'TCGA_Acute_Myeloid_Leukemia_(LAML)',\n",
       " 'TCGA_Esophageal_Cancer_(ESCA)',\n",
       " 'TCGA_Thyroid_Cancer_(THCA)',\n",
       " 'TCGA_Ocular_melanomas_(UVM)',\n",
       " 'TCGA_Ovarian_Cancer_(OV)',\n",
       " 'TCGA_Prostate_Cancer_(PRAD)',\n",
       " 'CrawlData.ipynb']"
      ]
     },
     "execution_count": 5,
     "metadata": {},
     "output_type": "execute_result"
    }
   ],
   "source": [
    "import os\n",
    "from utils import *\n",
    "\n",
    "dataset = 'TCGA'\n",
    "dataset_dir = os.path.join(DATA_ROOT, dataset)\n",
    "os.listdir(dataset_dir)[:10]"
   ]
  },
  {
   "cell_type": "markdown",
   "metadata": {
    "collapsed": false
   },
   "source": [
    "If no match is found, jump directly to GEO in Part 2.2"
   ]
  },
  {
   "cell_type": "code",
   "execution_count": 27,
   "metadata": {
    "collapsed": false
   },
   "outputs": [],
   "source": [
    "trait_subdir = \"TCGA_Breast_Cancer_(BRCA)\"\n",
    "cohort = 'Xena'\n",
    "# All the cancer traits in Xena are binary\n",
    "trait_type = 'binary'\n",
    "# Once a relevant cohort is found in Xena, we can generally assume the gene and clinical data are available\n",
    "is_available = True\n",
    "\n",
    "clinical_data_file = os.path.join(dataset_dir, trait_subdir, 'TCGA.BRCA.sampleMap_BRCA_clinicalMatrix')\n",
    "genetic_data_file = os.path.join(dataset_dir, trait_subdir, 'TCGA.BRCA.sampleMap_HiSeqV2_PANCAN.gz')"
   ]
  },
  {
   "cell_type": "code",
   "execution_count": 28,
   "metadata": {
    "id": "MudwB-_iz7sc"
   },
   "outputs": [],
   "source": [
    "import pandas as pd\n",
    "\n",
    "clinical_data = pd.read_csv(clinical_data_file, sep='\\t', index_col=0)\n",
    "genetic_data = pd.read_csv(genetic_data_file, compression='gzip', sep='\\t', index_col=0)\n",
    "age_col = gender_col = None"
   ]
  },
  {
   "cell_type": "code",
   "execution_count": 29,
   "metadata": {
    "collapsed": false
   },
   "outputs": [],
   "source": [
    "_, clinical_data_cols = check_rows_and_columns(clinical_data)"
   ]
  },
  {
   "cell_type": "code",
   "execution_count": 30,
   "metadata": {
    "collapsed": false
   },
   "outputs": [
    {
     "data": {
      "text/plain": [
       "['AJCC_Stage_nature2012',\n",
       " 'Age_at_Initial_Pathologic_Diagnosis_nature2012',\n",
       " 'CN_Clusters_nature2012',\n",
       " 'Converted_Stage_nature2012',\n",
       " 'Days_to_Date_of_Last_Contact_nature2012',\n",
       " 'Days_to_date_of_Death_nature2012',\n",
       " 'ER_Status_nature2012',\n",
       " 'Gender_nature2012',\n",
       " 'HER2_Final_Status_nature2012',\n",
       " 'Integrated_Clusters_no_exp__nature2012']"
      ]
     },
     "execution_count": 30,
     "metadata": {},
     "output_type": "execute_result"
    }
   ],
   "source": [
    "clinical_data_cols[:10]"
   ]
  },
  {
   "cell_type": "markdown",
   "metadata": {
    "ExecuteTime": {
     "end_time": "2023-12-28T20:20:11.841042813Z",
     "start_time": "2023-12-28T20:20:11.834458206Z"
    },
    "collapsed": false
   },
   "source": [
    "Read all the column names in the clinical dataset, to find the columns that record information about age or gender.\n",
    "Reference prompt:"
   ]
  },
  {
   "cell_type": "code",
   "execution_count": null,
   "metadata": {
    "collapsed": false
   },
   "outputs": [],
   "source": [
    "f'''\n",
    "Below is a list of column names from a biomedical dataset. Please examine it and identify the columns that are likely to contain information about patients' age. Additionally, please do the same for columns that may hold data on patients' gender. Please provide your answer by strictly following this format, without redundant words:\n",
    "candidate_age_cols = [col_name1, col_name2, ...]\n",
    "candidate_gender_cols = [col_name1, col_name2, ...]\n",
    "If no columns match a criterion, please provide an empty list.\n",
    "\n",
    "Column names:\n",
    "{clinical_data_cols}\n",
    "'''"
   ]
  },
  {
   "cell_type": "code",
   "execution_count": null,
   "metadata": {
    "collapsed": false
   },
   "outputs": [],
   "source": [
    "candidate_age_cols = ['Age_at_Initial_Pathologic_Diagnosis_nature2012', 'age_at_initial_pathologic_diagnosis',\n",
    "                      'days_to_birth', 'year_of_initial_pathologic_diagnosis']\n",
    "candidate_gender_cols = ['Gender_nature2012', 'gender']"
   ]
  },
  {
   "cell_type": "markdown",
   "metadata": {
    "ExecuteTime": {
     "end_time": "2023-12-31T03:57:44.207565572Z",
     "start_time": "2023-12-31T03:57:44.202177544Z"
    },
    "collapsed": false
   },
   "source": [
    "Choose a single column from the candidate columns that record age and gender information respectively.\n",
    "If no column meets the requirement, keep 'age_col' or 'gender_col' to None"
   ]
  },
  {
   "cell_type": "code",
   "execution_count": null,
   "metadata": {
    "collapsed": false
   },
   "outputs": [],
   "source": [
    "preview_df(clinical_data[candidate_age_cols])"
   ]
  },
  {
   "cell_type": "code",
   "execution_count": null,
   "metadata": {
    "collapsed": false
   },
   "outputs": [],
   "source": [
    "age_col = 'age_at_initial_pathologic_diagnosis'"
   ]
  },
  {
   "cell_type": "code",
   "execution_count": null,
   "metadata": {
    "collapsed": false
   },
   "outputs": [],
   "source": [
    "preview_df(clinical_data[candidate_gender_cols])"
   ]
  },
  {
   "cell_type": "code",
   "execution_count": null,
   "metadata": {
    "collapsed": false
   },
   "outputs": [],
   "source": [
    "gender_col = 'gender'"
   ]
  },
  {
   "cell_type": "code",
   "execution_count": null,
   "metadata": {
    "collapsed": false
   },
   "outputs": [],
   "source": [
    "selected_clinical_data = xena_select_clinical_features(clinical_data, TRAIT, age_col, gender_col)"
   ]
  },
  {
   "cell_type": "code",
   "execution_count": null,
   "metadata": {
    "collapsed": false
   },
   "outputs": [],
   "source": [
    "if NORMALIZE_GENE:\n",
    "    genetic_data = normalize_gene_symbols_in_index(genetic_data)"
   ]
  },
  {
   "cell_type": "code",
   "execution_count": null,
   "metadata": {
    "collapsed": false
   },
   "outputs": [],
   "source": [
    "merged_data = selected_clinical_data.join(genetic_data.T).dropna()\n",
    "merged_data.head()"
   ]
  },
  {
   "cell_type": "code",
   "execution_count": null,
   "metadata": {
    "collapsed": false
   },
   "outputs": [],
   "source": [
    "print(f\"The merged dataset contains {len(merged_data)} samples.\")"
   ]
  },
  {
   "cell_type": "code",
   "execution_count": null,
   "metadata": {
    "collapsed": false
   },
   "outputs": [],
   "source": [
    "is_trait_biased, merge_data = judge_and_remove_biased_features(merged_data, TRAIT, trait_type=trait_type)\n",
    "is_trait_biased"
   ]
  },
  {
   "cell_type": "code",
   "execution_count": null,
   "metadata": {
    "collapsed": false
   },
   "outputs": [],
   "source": [
    "merged_data.head()\n",
    "if not is_trait_biased:\n",
    "    merge_data.to_csv(os.path.join(OUTPUT_DIR, cohort+'.csv'), index=False)"
   ]
  },
  {
   "cell_type": "code",
   "execution_count": null,
   "metadata": {
    "collapsed": false
   },
   "outputs": [],
   "source": [
    "save_cohort_info(cohort, JSON_PATH, is_available, is_trait_biased, merged_data)"
   ]
  },
  {
   "cell_type": "markdown",
   "metadata": {
    "ExecuteTime": {
     "end_time": "2023-12-28T21:28:38.028916303Z",
     "start_time": "2023-12-28T21:28:38.016245426Z"
    },
    "collapsed": false
   },
   "source": [
    "## 2.2. The GEO dataset"
   ]
  },
  {
   "cell_type": "markdown",
   "metadata": {
    "ExecuteTime": {
     "end_time": "2023-12-31T03:25:23.253882615Z",
     "start_time": "2023-12-31T03:25:23.244062710Z"
    },
    "collapsed": false
   },
   "source": [
    "In GEO, there may be one or multiple cohorts for a trait. Each cohort is identified by an accession number. We iterate over all accession numbers in the corresponding subdirectory, preprocess the cohort data, and save them to csv files."
   ]
  },
  {
   "cell_type": "code",
   "execution_count": 3,
   "metadata": {
    "ExecuteTime": {
     "end_time": "2024-01-02T01:02:59.503572381Z",
     "start_time": "2024-01-02T01:02:59.491400342Z"
    },
    "collapsed": false
   },
   "outputs": [
    {
     "data": {
      "text/plain": [
       "['GSE193442',\n",
       " 'GSE113469',\n",
       " 'GSE138297',\n",
       " 'GSE106260',\n",
       " 'GSE84745',\n",
       " 'GSE23418',\n",
       " 'GSE112102',\n",
       " 'GSE87629',\n",
       " 'GSE18123',\n",
       " 'GSE72625',\n",
       " 'GSE164883',\n",
       " 'GSE84739']"
      ]
     },
     "execution_count": 3,
     "metadata": {},
     "output_type": "execute_result"
    }
   ],
   "source": [
    "dataset = 'GEO'\n",
    "trait_subdir = \"Celiac-Disease\"\n",
    "\n",
    "trait_path = os.path.join(DATA_ROOT, dataset, trait_subdir)\n",
    "os.listdir(trait_path)"
   ]
  },
  {
   "cell_type": "markdown",
   "metadata": {
    "ExecuteTime": {
     "end_time": "2023-12-31T03:39:42.634870142Z",
     "start_time": "2023-12-31T03:39:42.534093295Z"
    },
    "collapsed": false
   },
   "source": [
    "Repeat the below steps for all the accession numbers"
   ]
  },
  {
   "cell_type": "code",
   "execution_count": 17,
   "metadata": {
    "ExecuteTime": {
     "end_time": "2024-01-02T01:03:00.287218362Z",
     "start_time": "2024-01-02T01:03:00.278758251Z"
    },
    "collapsed": false
   },
   "outputs": [
    {
     "data": {
      "text/plain": [
       "('/home/yxcheng/GEO/Celiac-Disease/GSE112102/GSE112102_family.soft.gz',\n",
       " '/home/yxcheng/GEO/Celiac-Disease/GSE112102/GSE112102_series_matrix.txt.gz')"
      ]
     },
     "execution_count": 17,
     "metadata": {},
     "output_type": "execute_result"
    }
   ],
   "source": [
    "cohort = accession_num = \"GSE112102\"\n",
    "cohort_dir = os.path.join(trait_path, accession_num)\n",
    "soft_file, matrix_file = get_relevant_filepaths(cohort_dir)\n",
    "soft_file, matrix_file"
   ]
  },
  {
   "cell_type": "markdown",
   "metadata": {
    "collapsed": false
   },
   "source": [
    "### Inital filtering and clinical data preprocessing"
   ]
  },
  {
   "cell_type": "code",
   "execution_count": 18,
   "metadata": {
    "ExecuteTime": {
     "end_time": "2024-01-02T01:03:01.634861460Z",
     "start_time": "2024-01-02T01:03:01.076370517Z"
    },
    "collapsed": false
   },
   "outputs": [
    {
     "name": "stdout",
     "output_type": "stream",
     "text": [
      "!Series_title\t\"First Degree Relatives (FDRs) of Patients with Celiac Disease Harbour an Intestinal Transcriptomic Signature that Might Protect Them from Enterocyte Damage\"\n",
      "!Series_summary\t\"Patients with Celiac Disease, first degree relatives of celiac patients and control groups displayed significant differential gene expression.\"\n",
      "!Series_overall_design\t\"All subjects were underwent upper GI endoscopic examination. Multiple mucosal biopsies were obtained using spike biopsy forceps. Four bits of tissues in 10% formal saline were sent for histological assessment for villous architecture assessment. Other 4-6 bites of mucosal biopsies were taken in RNA later for gene expression analysis. In this study, FDRs were selected randomly and none of the FDRs were related to Celiac patients.\"\n"
     ]
    }
   ],
   "source": [
    "background_prefixes = ['!Series_title', '!Series_summary', '!Series_overall_design']\n",
    "clinical_prefixes = ['!Sample_geo_accession', '!Sample_characteristics_ch1']\n",
    "\n",
    "background_info, clinical_data = get_background_and_clinical_data(matrix_file, background_prefixes, clinical_prefixes)\n",
    "print(background_info)"
   ]
  },
  {
   "cell_type": "code",
   "execution_count": 19,
   "metadata": {
    "ExecuteTime": {
     "end_time": "2024-01-02T01:03:01.642310454Z",
     "start_time": "2024-01-02T01:03:01.635048940Z"
    },
    "collapsed": false
   },
   "outputs": [
    {
     "data": {
      "text/html": [
       "<div>\n",
       "<style scoped>\n",
       "    .dataframe tbody tr th:only-of-type {\n",
       "        vertical-align: middle;\n",
       "    }\n",
       "\n",
       "    .dataframe tbody tr th {\n",
       "        vertical-align: top;\n",
       "    }\n",
       "\n",
       "    .dataframe thead th {\n",
       "        text-align: right;\n",
       "    }\n",
       "</style>\n",
       "<table border=\"1\" class=\"dataframe\">\n",
       "  <thead>\n",
       "    <tr style=\"text-align: right;\">\n",
       "      <th></th>\n",
       "      <th>!Sample_geo_accession</th>\n",
       "      <th>GSM3057759</th>\n",
       "      <th>GSM3057760</th>\n",
       "      <th>GSM3057761</th>\n",
       "      <th>GSM3057762</th>\n",
       "      <th>GSM3057763</th>\n",
       "      <th>GSM3057764</th>\n",
       "      <th>GSM3057765</th>\n",
       "      <th>GSM3057766</th>\n",
       "      <th>GSM3057767</th>\n",
       "      <th>...</th>\n",
       "      <th>GSM3057785</th>\n",
       "      <th>GSM3057786</th>\n",
       "      <th>GSM3057787</th>\n",
       "      <th>GSM3057788</th>\n",
       "      <th>GSM3057789</th>\n",
       "      <th>GSM3057790</th>\n",
       "      <th>GSM3057791</th>\n",
       "      <th>GSM3057792</th>\n",
       "      <th>GSM3057793</th>\n",
       "      <th>GSM3057794</th>\n",
       "    </tr>\n",
       "  </thead>\n",
       "  <tbody>\n",
       "    <tr>\n",
       "      <th>0</th>\n",
       "      <td>!Sample_characteristics_ch1</td>\n",
       "      <td>tissue: intestinal mucus</td>\n",
       "      <td>tissue: intestinal mucus</td>\n",
       "      <td>tissue: intestinal mucus</td>\n",
       "      <td>tissue: intestinal mucus</td>\n",
       "      <td>tissue: intestinal mucus</td>\n",
       "      <td>tissue: intestinal mucus</td>\n",
       "      <td>tissue: intestinal mucus</td>\n",
       "      <td>tissue: intestinal mucus</td>\n",
       "      <td>tissue: intestinal mucus</td>\n",
       "      <td>...</td>\n",
       "      <td>tissue: intestinal mucus</td>\n",
       "      <td>tissue: intestinal mucus</td>\n",
       "      <td>tissue: intestinal mucus</td>\n",
       "      <td>tissue: intestinal mucus</td>\n",
       "      <td>tissue: intestinal mucus</td>\n",
       "      <td>tissue: intestinal mucus</td>\n",
       "      <td>tissue: intestinal mucus</td>\n",
       "      <td>tissue: intestinal mucus</td>\n",
       "      <td>tissue: intestinal mucus</td>\n",
       "      <td>tissue: intestinal mucus</td>\n",
       "    </tr>\n",
       "    <tr>\n",
       "      <th>1</th>\n",
       "      <td>!Sample_characteristics_ch1</td>\n",
       "      <td>group: CeD</td>\n",
       "      <td>group: CeD</td>\n",
       "      <td>group: CeD</td>\n",
       "      <td>group: CeD</td>\n",
       "      <td>group: CeD</td>\n",
       "      <td>group: CeD</td>\n",
       "      <td>group: CeD</td>\n",
       "      <td>group: CeD</td>\n",
       "      <td>group: CeD</td>\n",
       "      <td>...</td>\n",
       "      <td>group: FDR</td>\n",
       "      <td>group: FDR</td>\n",
       "      <td>group: FDR</td>\n",
       "      <td>group: FDR</td>\n",
       "      <td>group: FDR</td>\n",
       "      <td>group: FDR</td>\n",
       "      <td>group: FDR</td>\n",
       "      <td>group: FDR</td>\n",
       "      <td>group: FDR</td>\n",
       "      <td>group: FDR</td>\n",
       "    </tr>\n",
       "    <tr>\n",
       "      <th>2</th>\n",
       "      <td>!Sample_characteristics_ch1</td>\n",
       "      <td>age: 40</td>\n",
       "      <td>age: 21</td>\n",
       "      <td>age: 23</td>\n",
       "      <td>age: 21</td>\n",
       "      <td>age: 23</td>\n",
       "      <td>age: 17</td>\n",
       "      <td>age: 19</td>\n",
       "      <td>age: 21</td>\n",
       "      <td>age: 18</td>\n",
       "      <td>...</td>\n",
       "      <td>age: 17</td>\n",
       "      <td>age: 42</td>\n",
       "      <td>age: 35</td>\n",
       "      <td>age: 32</td>\n",
       "      <td>age: 18</td>\n",
       "      <td>age: 42</td>\n",
       "      <td>age: 42</td>\n",
       "      <td>age: 21</td>\n",
       "      <td>age: 42</td>\n",
       "      <td>age: 42</td>\n",
       "    </tr>\n",
       "    <tr>\n",
       "      <th>3</th>\n",
       "      <td>!Sample_characteristics_ch1</td>\n",
       "      <td>hla-dq2/dq8: positive</td>\n",
       "      <td>hla-dq2/dq8: positive</td>\n",
       "      <td>hla-dq2/dq8: positive</td>\n",
       "      <td>hla-dq2/dq8: positive</td>\n",
       "      <td>hla-dq2/dq8: positive</td>\n",
       "      <td>hla-dq2/dq8: positive</td>\n",
       "      <td>hla-dq2/dq8: positive</td>\n",
       "      <td>hla-dq2/dq8: positive</td>\n",
       "      <td>hla-dq2/dq8: positive</td>\n",
       "      <td>...</td>\n",
       "      <td>hla-dq2/dq8: positive</td>\n",
       "      <td>hla-dq2/dq8: positive</td>\n",
       "      <td>hla-dq2/dq8: positive</td>\n",
       "      <td>hla-dq2/dq8: positive</td>\n",
       "      <td>hla-dq2/dq8: positive</td>\n",
       "      <td>hla-dq2/dq8: positive</td>\n",
       "      <td>hla-dq2/dq8: positive</td>\n",
       "      <td>hla-dq2/dq8: positive</td>\n",
       "      <td>hla-dq2/dq8: positive</td>\n",
       "      <td>hla-dq2/dq8: positive</td>\n",
       "    </tr>\n",
       "    <tr>\n",
       "      <th>4</th>\n",
       "      <td>!Sample_characteristics_ch1</td>\n",
       "      <td>gender: Male</td>\n",
       "      <td>gender: Male</td>\n",
       "      <td>gender: Male</td>\n",
       "      <td>gender: Female</td>\n",
       "      <td>gender: Female</td>\n",
       "      <td>gender: Female</td>\n",
       "      <td>gender: Male</td>\n",
       "      <td>gender: Male</td>\n",
       "      <td>gender: Female</td>\n",
       "      <td>...</td>\n",
       "      <td>gender: Male</td>\n",
       "      <td>gender: Male</td>\n",
       "      <td>gender: Male</td>\n",
       "      <td>gender: Female</td>\n",
       "      <td>gender: Female</td>\n",
       "      <td>gender: Female</td>\n",
       "      <td>gender: Male</td>\n",
       "      <td>gender: Male</td>\n",
       "      <td>gender: Female</td>\n",
       "      <td>gender: Female</td>\n",
       "    </tr>\n",
       "  </tbody>\n",
       "</table>\n",
       "<p>5 rows × 37 columns</p>\n",
       "</div>"
      ],
      "text/plain": [
       "         !Sample_geo_accession                GSM3057759  \\\n",
       "0  !Sample_characteristics_ch1  tissue: intestinal mucus   \n",
       "1  !Sample_characteristics_ch1                group: CeD   \n",
       "2  !Sample_characteristics_ch1                   age: 40   \n",
       "3  !Sample_characteristics_ch1     hla-dq2/dq8: positive   \n",
       "4  !Sample_characteristics_ch1              gender: Male   \n",
       "\n",
       "                 GSM3057760                GSM3057761  \\\n",
       "0  tissue: intestinal mucus  tissue: intestinal mucus   \n",
       "1                group: CeD                group: CeD   \n",
       "2                   age: 21                   age: 23   \n",
       "3     hla-dq2/dq8: positive     hla-dq2/dq8: positive   \n",
       "4              gender: Male              gender: Male   \n",
       "\n",
       "                 GSM3057762                GSM3057763  \\\n",
       "0  tissue: intestinal mucus  tissue: intestinal mucus   \n",
       "1                group: CeD                group: CeD   \n",
       "2                   age: 21                   age: 23   \n",
       "3     hla-dq2/dq8: positive     hla-dq2/dq8: positive   \n",
       "4            gender: Female            gender: Female   \n",
       "\n",
       "                 GSM3057764                GSM3057765  \\\n",
       "0  tissue: intestinal mucus  tissue: intestinal mucus   \n",
       "1                group: CeD                group: CeD   \n",
       "2                   age: 17                   age: 19   \n",
       "3     hla-dq2/dq8: positive     hla-dq2/dq8: positive   \n",
       "4            gender: Female              gender: Male   \n",
       "\n",
       "                 GSM3057766                GSM3057767  ...  \\\n",
       "0  tissue: intestinal mucus  tissue: intestinal mucus  ...   \n",
       "1                group: CeD                group: CeD  ...   \n",
       "2                   age: 21                   age: 18  ...   \n",
       "3     hla-dq2/dq8: positive     hla-dq2/dq8: positive  ...   \n",
       "4              gender: Male            gender: Female  ...   \n",
       "\n",
       "                 GSM3057785                GSM3057786  \\\n",
       "0  tissue: intestinal mucus  tissue: intestinal mucus   \n",
       "1                group: FDR                group: FDR   \n",
       "2                   age: 17                   age: 42   \n",
       "3     hla-dq2/dq8: positive     hla-dq2/dq8: positive   \n",
       "4              gender: Male              gender: Male   \n",
       "\n",
       "                 GSM3057787                GSM3057788  \\\n",
       "0  tissue: intestinal mucus  tissue: intestinal mucus   \n",
       "1                group: FDR                group: FDR   \n",
       "2                   age: 35                   age: 32   \n",
       "3     hla-dq2/dq8: positive     hla-dq2/dq8: positive   \n",
       "4              gender: Male            gender: Female   \n",
       "\n",
       "                 GSM3057789                GSM3057790  \\\n",
       "0  tissue: intestinal mucus  tissue: intestinal mucus   \n",
       "1                group: FDR                group: FDR   \n",
       "2                   age: 18                   age: 42   \n",
       "3     hla-dq2/dq8: positive     hla-dq2/dq8: positive   \n",
       "4            gender: Female            gender: Female   \n",
       "\n",
       "                 GSM3057791                GSM3057792  \\\n",
       "0  tissue: intestinal mucus  tissue: intestinal mucus   \n",
       "1                group: FDR                group: FDR   \n",
       "2                   age: 42                   age: 21   \n",
       "3     hla-dq2/dq8: positive     hla-dq2/dq8: positive   \n",
       "4              gender: Male              gender: Male   \n",
       "\n",
       "                 GSM3057793                GSM3057794  \n",
       "0  tissue: intestinal mucus  tissue: intestinal mucus  \n",
       "1                group: FDR                group: FDR  \n",
       "2                   age: 42                   age: 42  \n",
       "3     hla-dq2/dq8: positive     hla-dq2/dq8: positive  \n",
       "4            gender: Female            gender: Female  \n",
       "\n",
       "[5 rows x 37 columns]"
      ]
     },
     "execution_count": 19,
     "metadata": {},
     "output_type": "execute_result"
    }
   ],
   "source": [
    "clinical_data.head()"
   ]
  },
  {
   "cell_type": "code",
   "execution_count": 20,
   "metadata": {
    "ExecuteTime": {
     "end_time": "2024-01-02T01:03:01.805026160Z",
     "start_time": "2024-01-02T01:03:01.804428154Z"
    },
    "collapsed": false
   },
   "outputs": [
    {
     "data": {
      "text/plain": [
       "{0: ['tissue: intestinal mucus'],\n",
       " 1: ['group: CeD', 'group: control', 'group: FDR'],\n",
       " 2: ['age: 40',\n",
       "  'age: 21',\n",
       "  'age: 23',\n",
       "  'age: 17',\n",
       "  'age: 19',\n",
       "  'age: 18',\n",
       "  'age: 20',\n",
       "  'age: 32',\n",
       "  'age: 38',\n",
       "  'age: 42',\n",
       "  'age: 27',\n",
       "  'age: 28',\n",
       "  'age: 26',\n",
       "  'age: 25',\n",
       "  'age: 35'],\n",
       " 3: ['hla-dq2/dq8: positive', 'hla-dq2/dq8: negative'],\n",
       " 4: ['gender: Male', 'gender: Female']}"
      ]
     },
     "execution_count": 20,
     "metadata": {},
     "output_type": "execute_result"
    }
   ],
   "source": [
    "clinical_data_unique = get_unique_values_by_row(clinical_data)\n",
    "clinical_data_unique"
   ]
  },
  {
   "cell_type": "markdown",
   "metadata": {
    "ExecuteTime": {
     "end_time": "2023-12-31T03:58:04.978204446Z",
     "start_time": "2023-12-31T03:58:04.922270095Z"
    },
    "collapsed": false
   },
   "source": [
    "Analyze the metadata to determine data relevance and find ways to extract the clinical data.\n",
    "Reference prompt:"
   ]
  },
  {
   "cell_type": "code",
   "execution_count": 21,
   "metadata": {
    "ExecuteTime": {
     "end_time": "2024-01-02T01:03:02.369775044Z",
     "start_time": "2024-01-02T01:03:02.356501629Z"
    },
    "collapsed": false
   },
   "outputs": [
    {
     "data": {
      "text/plain": [
       "'As a biomedical research team, we are selecting datasets to study the association between the human trait \\'Celiac-Disease\\' and genetic factors, optionally considering the influence of age and gender. After searching the GEO database and parsing the matrix file of a series, we obtained background information and sample characteristics data. We will provide textual information about the dataset background, and a Python dictionary storing a list of unique values for each field of the sample characteristics data. Please carefully review the provided information and answer the following questions about this dataset:\\n1. Does this dataset contain gene expression data? (Note: Pure miRNA data is not suitable.)\\n2. For each of the traits \\'Celiac-Disease\\', \\'age\\', and \\'gender\\', please address these points:\\n   (1) Is there human data available for this trait?\\n   (2) If so, identify the key in the sample characteristics dictionary where unique values of this trait is recorded. The key is an integer. The trait information might be explicitly recorded, or can be inferred from the field with some biomedical knowledge or understanding about the data collection process.\\n   (3) Choose an appropriate data type (either \\'continuous\\' or \\'binary\\') for each trait. Write a Python function to convert any given value of the trait to this data type. The function should handle inference about the trait value and convert unknown values to None.\\n   Name the functions \\'convert_trait\\', \\'convert_age\\', and \\'convert_gender\\', respectively.\\n\\nBackground information about the dataset:\\n!Series_title\\t\"First Degree Relatives (FDRs) of Patients with Celiac Disease Harbour an Intestinal Transcriptomic Signature that Might Protect Them from Enterocyte Damage\"\\n!Series_summary\\t\"Patients with Celiac Disease, first degree relatives of celiac patients and control groups displayed significant differential gene expression.\"\\n!Series_overall_design\\t\"All subjects were underwent upper GI endoscopic examination. Multiple mucosal biopsies were obtained using spike biopsy forceps. Four bits of tissues in 10% formal saline were sent for histological assessment for villous architecture assessment. Other 4-6 bites of mucosal biopsies were taken in RNA later for gene expression analysis. In this study, FDRs were selected randomly and none of the FDRs were related to Celiac patients.\"\\n\\nSample characteristics dictionary (from \"!Sample_characteristics_ch1\", converted to a Python dictionary that stores the unique values for each field):\\n{0: [\\'tissue: intestinal mucus\\'], 1: [\\'group: CeD\\', \\'group: control\\', \\'group: FDR\\'], 2: [\\'age: 40\\', \\'age: 21\\', \\'age: 23\\', \\'age: 17\\', \\'age: 19\\', \\'age: 18\\', \\'age: 20\\', \\'age: 32\\', \\'age: 38\\', \\'age: 42\\', \\'age: 27\\', \\'age: 28\\', \\'age: 26\\', \\'age: 25\\', \\'age: 35\\'], 3: [\\'hla-dq2/dq8: positive\\', \\'hla-dq2/dq8: negative\\'], 4: [\\'gender: Male\\', \\'gender: Female\\']}\\n'"
      ]
     },
     "execution_count": 21,
     "metadata": {},
     "output_type": "execute_result"
    }
   ],
   "source": [
    "f'''As a biomedical research team, we are selecting datasets to study the association between the human trait \\'{TRAIT}\\' and genetic factors, optionally considering the influence of age and gender. After searching the GEO database and parsing the matrix file of a series, we obtained background information and sample characteristics data. We will provide textual information about the dataset background, and a Python dictionary storing a list of unique values for each field of the sample characteristics data. Please carefully review the provided information and answer the following questions about this dataset:\n",
    "1. Does this dataset contain gene expression data? (Note: Pure miRNA data is not suitable.)\n",
    "2. For each of the traits \\'{TRAIT}\\', 'age', and 'gender', please address these points:\n",
    "   (1) Is there human data available for this trait?\n",
    "   (2) If so, identify the key in the sample characteristics dictionary where unique values of this trait is recorded. The key is an integer. The trait information might be explicitly recorded, or can be inferred from the field with some biomedical knowledge or understanding about the data collection process.\n",
    "   (3) Choose an appropriate data type (either 'continuous' or 'binary') for each trait. Write a Python function to convert any given value of the trait to this data type. The function should handle inference about the trait value and convert unknown values to None.\n",
    "   Name the functions 'convert_trait', 'convert_age', and 'convert_gender', respectively.\n",
    "\n",
    "Background information about the dataset:\n",
    "{background_info}\n",
    "\n",
    "Sample characteristics dictionary (from \"!Sample_characteristics_ch1\", converted to a Python dictionary that stores the unique values for each field):\n",
    "{clinical_data_unique}\n",
    "'''"
   ]
  },
  {
   "cell_type": "markdown",
   "metadata": {
    "ExecuteTime": {
     "end_time": "2023-12-31T03:58:04.978240504Z",
     "start_time": "2023-12-31T03:58:04.922365324Z"
    },
    "collapsed": false
   },
   "source": [
    "Understand and verify the answer from GPT, to assign values to the below variables. Assign None to the 'row_id' variables if relevant data row was not found.\n",
    "Later we need to let GPT format its answer to automatically do these. But given the complexity of this step, let's grow some insight from the free-text answers for now."
   ]
  },
  {
   "cell_type": "code",
   "execution_count": 27,
   "metadata": {
    "ExecuteTime": {
     "end_time": "2024-01-02T01:03:03.079540570Z",
     "start_time": "2024-01-02T01:03:03.073638535Z"
    },
    "collapsed": false
   },
   "outputs": [],
   "source": [
    "is_gene_availabe = True\n",
    "trait_row = 1\n",
    "age_row= 2\n",
    "gender_row = 4\n",
    "\n",
    "trait_type = 'binary'"
   ]
  },
  {
   "cell_type": "code",
   "execution_count": 28,
   "metadata": {
    "ExecuteTime": {
     "end_time": "2024-01-02T01:03:03.572682163Z",
     "start_time": "2024-01-02T01:03:03.559775513Z"
    },
    "collapsed": false
   },
   "outputs": [],
   "source": [
    "is_available = is_gene_availabe and (trait_row is not None)\n",
    "if not is_available:\n",
    "    save_cohort_info(cohort, JSON_PATH, is_available)\n",
    "    print(\"This cohort is not usable. Please skip the following steps and jump to the next accession number.\")"
   ]
  },
  {
   "cell_type": "code",
   "execution_count": 30,
   "metadata": {
    "ExecuteTime": {
     "end_time": "2024-01-02T01:03:03.973964287Z",
     "start_time": "2024-01-02T01:03:03.964958096Z"
    },
    "collapsed": false
   },
   "outputs": [
    {
     "data": {
      "text/plain": [
       "(0, 23, 1)"
      ]
     },
     "execution_count": 30,
     "metadata": {},
     "output_type": "execute_result"
    }
   ],
   "source": [
    "def convert_trait(tissue_type):\n",
    "    \"\"\"\n",
    "    Convert tissue type to epilepsy presence (binary).\n",
    "    Assuming epilepsy presence for 'Hippocampus' tissue.\n",
    "    \"\"\"\n",
    "    if tissue_type == 'group: CeD':\n",
    "        return 1  # Epilepsy present\n",
    "    else:\n",
    "        return 0  # Epilepsy not present\n",
    "\n",
    "def convert_age(age_string):\n",
    "    \"\"\"\n",
    "    Convert age string to a numerical value.\n",
    "    \"\"\"\n",
    "    if age_string.startswith('age: '):\n",
    "        try:\n",
    "            return int(age_string.split('age: ')[1].rstrip(''))  # Extracting numeric part\n",
    "        except ValueError:\n",
    "            return None  # In case of parsing error\n",
    "    else:\n",
    "        return None  # If age string does not follow expected format\n",
    "\n",
    "def convert_gender(gender_string):\n",
    "    \"\"\"\n",
    "    Convert gender string to a binary representation.\n",
    "    Female -> 0, Male -> 1, Unknown -> None\n",
    "    \"\"\"\n",
    "    if gender_string == 'gender: Female':\n",
    "        return 0\n",
    "    elif gender_string == 'gender: Male':\n",
    "        return 1\n",
    "    else:\n",
    "        return None  # In case of unknown gender\n",
    "\n",
    "# Example usage\n",
    "example_tissue = 'tissue: Hippocampus'\n",
    "example_age = 'age: 23'\n",
    "example_gender = 'gender: Male'\n",
    "\n",
    "converted_trait = convert_trait(example_tissue)\n",
    "converted_age = convert_age(example_age)\n",
    "converted_gender = convert_gender(example_gender)\n",
    "\n",
    "converted_trait, converted_age, converted_gender"
   ]
  },
  {
   "cell_type": "code",
   "execution_count": 31,
   "metadata": {
    "ExecuteTime": {
     "end_time": "2024-01-02T01:03:04.637878352Z",
     "start_time": "2024-01-02T01:03:04.593886885Z"
    },
    "collapsed": false
   },
   "outputs": [
    {
     "name": "stderr",
     "output_type": "stream",
     "text": [
      "/home/yxcheng/AI4Science_gold_standard/stage1/Yuxuan/../utils.py:208: FutureWarning: DataFrame.applymap has been deprecated. Use DataFrame.map instead.\n",
      "  clinical_df = clinical_df.applymap(convert_fn)\n",
      "/home/yxcheng/AI4Science_gold_standard/stage1/Yuxuan/../utils.py:208: FutureWarning: DataFrame.applymap has been deprecated. Use DataFrame.map instead.\n",
      "  clinical_df = clinical_df.applymap(convert_fn)\n",
      "/home/yxcheng/AI4Science_gold_standard/stage1/Yuxuan/../utils.py:208: FutureWarning: DataFrame.applymap has been deprecated. Use DataFrame.map instead.\n",
      "  clinical_df = clinical_df.applymap(convert_fn)\n"
     ]
    },
    {
     "data": {
      "text/html": [
       "<div>\n",
       "<style scoped>\n",
       "    .dataframe tbody tr th:only-of-type {\n",
       "        vertical-align: middle;\n",
       "    }\n",
       "\n",
       "    .dataframe tbody tr th {\n",
       "        vertical-align: top;\n",
       "    }\n",
       "\n",
       "    .dataframe thead th {\n",
       "        text-align: right;\n",
       "    }\n",
       "</style>\n",
       "<table border=\"1\" class=\"dataframe\">\n",
       "  <thead>\n",
       "    <tr style=\"text-align: right;\">\n",
       "      <th></th>\n",
       "      <th>GSM3057759</th>\n",
       "      <th>GSM3057760</th>\n",
       "      <th>GSM3057761</th>\n",
       "      <th>GSM3057762</th>\n",
       "      <th>GSM3057763</th>\n",
       "      <th>GSM3057764</th>\n",
       "      <th>GSM3057765</th>\n",
       "      <th>GSM3057766</th>\n",
       "      <th>GSM3057767</th>\n",
       "      <th>GSM3057768</th>\n",
       "      <th>...</th>\n",
       "      <th>GSM3057785</th>\n",
       "      <th>GSM3057786</th>\n",
       "      <th>GSM3057787</th>\n",
       "      <th>GSM3057788</th>\n",
       "      <th>GSM3057789</th>\n",
       "      <th>GSM3057790</th>\n",
       "      <th>GSM3057791</th>\n",
       "      <th>GSM3057792</th>\n",
       "      <th>GSM3057793</th>\n",
       "      <th>GSM3057794</th>\n",
       "    </tr>\n",
       "  </thead>\n",
       "  <tbody>\n",
       "    <tr>\n",
       "      <th>Celiac-Disease</th>\n",
       "      <td>1</td>\n",
       "      <td>1</td>\n",
       "      <td>1</td>\n",
       "      <td>1</td>\n",
       "      <td>1</td>\n",
       "      <td>1</td>\n",
       "      <td>1</td>\n",
       "      <td>1</td>\n",
       "      <td>1</td>\n",
       "      <td>1</td>\n",
       "      <td>...</td>\n",
       "      <td>0</td>\n",
       "      <td>0</td>\n",
       "      <td>0</td>\n",
       "      <td>0</td>\n",
       "      <td>0</td>\n",
       "      <td>0</td>\n",
       "      <td>0</td>\n",
       "      <td>0</td>\n",
       "      <td>0</td>\n",
       "      <td>0</td>\n",
       "    </tr>\n",
       "    <tr>\n",
       "      <th>Age</th>\n",
       "      <td>40</td>\n",
       "      <td>21</td>\n",
       "      <td>23</td>\n",
       "      <td>21</td>\n",
       "      <td>23</td>\n",
       "      <td>17</td>\n",
       "      <td>19</td>\n",
       "      <td>21</td>\n",
       "      <td>18</td>\n",
       "      <td>20</td>\n",
       "      <td>...</td>\n",
       "      <td>17</td>\n",
       "      <td>42</td>\n",
       "      <td>35</td>\n",
       "      <td>32</td>\n",
       "      <td>18</td>\n",
       "      <td>42</td>\n",
       "      <td>42</td>\n",
       "      <td>21</td>\n",
       "      <td>42</td>\n",
       "      <td>42</td>\n",
       "    </tr>\n",
       "    <tr>\n",
       "      <th>Gender</th>\n",
       "      <td>1</td>\n",
       "      <td>1</td>\n",
       "      <td>1</td>\n",
       "      <td>0</td>\n",
       "      <td>0</td>\n",
       "      <td>0</td>\n",
       "      <td>1</td>\n",
       "      <td>1</td>\n",
       "      <td>0</td>\n",
       "      <td>1</td>\n",
       "      <td>...</td>\n",
       "      <td>1</td>\n",
       "      <td>1</td>\n",
       "      <td>1</td>\n",
       "      <td>0</td>\n",
       "      <td>0</td>\n",
       "      <td>0</td>\n",
       "      <td>1</td>\n",
       "      <td>1</td>\n",
       "      <td>0</td>\n",
       "      <td>0</td>\n",
       "    </tr>\n",
       "  </tbody>\n",
       "</table>\n",
       "<p>3 rows × 36 columns</p>\n",
       "</div>"
      ],
      "text/plain": [
       "                GSM3057759  GSM3057760  GSM3057761  GSM3057762  GSM3057763  \\\n",
       "Celiac-Disease           1           1           1           1           1   \n",
       "Age                     40          21          23          21          23   \n",
       "Gender                   1           1           1           0           0   \n",
       "\n",
       "                GSM3057764  GSM3057765  GSM3057766  GSM3057767  GSM3057768  \\\n",
       "Celiac-Disease           1           1           1           1           1   \n",
       "Age                     17          19          21          18          20   \n",
       "Gender                   0           1           1           0           1   \n",
       "\n",
       "                ...  GSM3057785  GSM3057786  GSM3057787  GSM3057788  \\\n",
       "Celiac-Disease  ...           0           0           0           0   \n",
       "Age             ...          17          42          35          32   \n",
       "Gender          ...           1           1           1           0   \n",
       "\n",
       "                GSM3057789  GSM3057790  GSM3057791  GSM3057792  GSM3057793  \\\n",
       "Celiac-Disease           0           0           0           0           0   \n",
       "Age                     18          42          42          21          42   \n",
       "Gender                   0           0           1           1           0   \n",
       "\n",
       "                GSM3057794  \n",
       "Celiac-Disease           0  \n",
       "Age                     42  \n",
       "Gender                   0  \n",
       "\n",
       "[3 rows x 36 columns]"
      ]
     },
     "execution_count": 31,
     "metadata": {},
     "output_type": "execute_result"
    }
   ],
   "source": [
    "selected_clinical_data = geo_select_clinical_features(clinical_data, TRAIT, trait_row, convert_trait, age_row=age_row,\n",
    "                                                      convert_age=convert_age, gender_row=gender_row,\n",
    "                                                      convert_gender=convert_gender)\n",
    "selected_clinical_data.head()"
   ]
  },
  {
   "cell_type": "markdown",
   "metadata": {
    "ExecuteTime": {
     "end_time": "2023-12-31T03:58:04.978664193Z",
     "start_time": "2023-12-31T03:58:04.966117261Z"
    },
    "collapsed": false
   },
   "source": [
    "### Genetic data preprocessing and final filtering"
   ]
  },
  {
   "cell_type": "code",
   "execution_count": 32,
   "metadata": {
    "ExecuteTime": {
     "end_time": "2024-01-02T01:03:06.246474256Z",
     "start_time": "2024-01-02T01:03:05.670354792Z"
    },
    "collapsed": false
   },
   "outputs": [
    {
     "data": {
      "text/html": [
       "<div>\n",
       "<style scoped>\n",
       "    .dataframe tbody tr th:only-of-type {\n",
       "        vertical-align: middle;\n",
       "    }\n",
       "\n",
       "    .dataframe tbody tr th {\n",
       "        vertical-align: top;\n",
       "    }\n",
       "\n",
       "    .dataframe thead th {\n",
       "        text-align: right;\n",
       "    }\n",
       "</style>\n",
       "<table border=\"1\" class=\"dataframe\">\n",
       "  <thead>\n",
       "    <tr style=\"text-align: right;\">\n",
       "      <th></th>\n",
       "      <th>GSM3057759</th>\n",
       "      <th>GSM3057760</th>\n",
       "      <th>GSM3057761</th>\n",
       "      <th>GSM3057762</th>\n",
       "      <th>GSM3057763</th>\n",
       "      <th>GSM3057764</th>\n",
       "      <th>GSM3057765</th>\n",
       "      <th>GSM3057766</th>\n",
       "      <th>GSM3057767</th>\n",
       "      <th>GSM3057768</th>\n",
       "      <th>...</th>\n",
       "      <th>GSM3057785</th>\n",
       "      <th>GSM3057786</th>\n",
       "      <th>GSM3057787</th>\n",
       "      <th>GSM3057788</th>\n",
       "      <th>GSM3057789</th>\n",
       "      <th>GSM3057790</th>\n",
       "      <th>GSM3057791</th>\n",
       "      <th>GSM3057792</th>\n",
       "      <th>GSM3057793</th>\n",
       "      <th>GSM3057794</th>\n",
       "    </tr>\n",
       "    <tr>\n",
       "      <th>ID</th>\n",
       "      <th></th>\n",
       "      <th></th>\n",
       "      <th></th>\n",
       "      <th></th>\n",
       "      <th></th>\n",
       "      <th></th>\n",
       "      <th></th>\n",
       "      <th></th>\n",
       "      <th></th>\n",
       "      <th></th>\n",
       "      <th></th>\n",
       "      <th></th>\n",
       "      <th></th>\n",
       "      <th></th>\n",
       "      <th></th>\n",
       "      <th></th>\n",
       "      <th></th>\n",
       "      <th></th>\n",
       "      <th></th>\n",
       "      <th></th>\n",
       "      <th></th>\n",
       "    </tr>\n",
       "  </thead>\n",
       "  <tbody>\n",
       "    <tr>\n",
       "      <th>ILMN_1343291</th>\n",
       "      <td>14.726150</td>\n",
       "      <td>14.789195</td>\n",
       "      <td>14.654076</td>\n",
       "      <td>14.789195</td>\n",
       "      <td>14.829983</td>\n",
       "      <td>14.677568</td>\n",
       "      <td>14.859861</td>\n",
       "      <td>14.859861</td>\n",
       "      <td>14.654076</td>\n",
       "      <td>14.573123</td>\n",
       "      <td>...</td>\n",
       "      <td>13.892160</td>\n",
       "      <td>13.962654</td>\n",
       "      <td>13.892160</td>\n",
       "      <td>13.991626</td>\n",
       "      <td>13.866719</td>\n",
       "      <td>13.877081</td>\n",
       "      <td>13.849746</td>\n",
       "      <td>13.788155</td>\n",
       "      <td>13.962654</td>\n",
       "      <td>13.611311</td>\n",
       "    </tr>\n",
       "    <tr>\n",
       "      <th>ILMN_1343295</th>\n",
       "      <td>12.111041</td>\n",
       "      <td>12.461130</td>\n",
       "      <td>12.959382</td>\n",
       "      <td>12.193488</td>\n",
       "      <td>12.688519</td>\n",
       "      <td>12.514982</td>\n",
       "      <td>12.481417</td>\n",
       "      <td>12.550157</td>\n",
       "      <td>12.133797</td>\n",
       "      <td>12.195513</td>\n",
       "      <td>...</td>\n",
       "      <td>11.242588</td>\n",
       "      <td>11.148588</td>\n",
       "      <td>11.312364</td>\n",
       "      <td>11.403161</td>\n",
       "      <td>11.345794</td>\n",
       "      <td>11.529301</td>\n",
       "      <td>11.312364</td>\n",
       "      <td>11.224584</td>\n",
       "      <td>11.242588</td>\n",
       "      <td>9.804207</td>\n",
       "    </tr>\n",
       "    <tr>\n",
       "      <th>ILMN_1651228</th>\n",
       "      <td>11.058577</td>\n",
       "      <td>10.995388</td>\n",
       "      <td>10.937940</td>\n",
       "      <td>10.714748</td>\n",
       "      <td>10.918051</td>\n",
       "      <td>10.706725</td>\n",
       "      <td>10.860812</td>\n",
       "      <td>10.734903</td>\n",
       "      <td>11.333399</td>\n",
       "      <td>11.459043</td>\n",
       "      <td>...</td>\n",
       "      <td>13.107793</td>\n",
       "      <td>12.769842</td>\n",
       "      <td>12.999748</td>\n",
       "      <td>12.875990</td>\n",
       "      <td>13.232136</td>\n",
       "      <td>13.135390</td>\n",
       "      <td>13.068756</td>\n",
       "      <td>13.012822</td>\n",
       "      <td>13.046905</td>\n",
       "      <td>12.502037</td>\n",
       "    </tr>\n",
       "    <tr>\n",
       "      <th>ILMN_1651229</th>\n",
       "      <td>6.125432</td>\n",
       "      <td>6.221028</td>\n",
       "      <td>6.762562</td>\n",
       "      <td>6.538092</td>\n",
       "      <td>6.415023</td>\n",
       "      <td>6.351378</td>\n",
       "      <td>6.494871</td>\n",
       "      <td>6.373543</td>\n",
       "      <td>6.719446</td>\n",
       "      <td>6.866318</td>\n",
       "      <td>...</td>\n",
       "      <td>6.985115</td>\n",
       "      <td>6.890756</td>\n",
       "      <td>7.049083</td>\n",
       "      <td>6.966247</td>\n",
       "      <td>7.086769</td>\n",
       "      <td>7.043384</td>\n",
       "      <td>7.018352</td>\n",
       "      <td>7.056027</td>\n",
       "      <td>7.005621</td>\n",
       "      <td>7.080838</td>\n",
       "    </tr>\n",
       "    <tr>\n",
       "      <th>ILMN_1651237</th>\n",
       "      <td>7.504694</td>\n",
       "      <td>7.663687</td>\n",
       "      <td>7.641847</td>\n",
       "      <td>7.199347</td>\n",
       "      <td>7.869448</td>\n",
       "      <td>8.048453</td>\n",
       "      <td>6.971181</td>\n",
       "      <td>7.562990</td>\n",
       "      <td>7.578632</td>\n",
       "      <td>8.105624</td>\n",
       "      <td>...</td>\n",
       "      <td>7.209995</td>\n",
       "      <td>7.128377</td>\n",
       "      <td>7.275932</td>\n",
       "      <td>6.789204</td>\n",
       "      <td>7.047561</td>\n",
       "      <td>7.108292</td>\n",
       "      <td>6.998213</td>\n",
       "      <td>6.942584</td>\n",
       "      <td>6.976867</td>\n",
       "      <td>6.726627</td>\n",
       "    </tr>\n",
       "  </tbody>\n",
       "</table>\n",
       "<p>5 rows × 36 columns</p>\n",
       "</div>"
      ],
      "text/plain": [
       "              GSM3057759  GSM3057760  GSM3057761  GSM3057762  GSM3057763  \\\n",
       "ID                                                                         \n",
       "ILMN_1343291   14.726150   14.789195   14.654076   14.789195   14.829983   \n",
       "ILMN_1343295   12.111041   12.461130   12.959382   12.193488   12.688519   \n",
       "ILMN_1651228   11.058577   10.995388   10.937940   10.714748   10.918051   \n",
       "ILMN_1651229    6.125432    6.221028    6.762562    6.538092    6.415023   \n",
       "ILMN_1651237    7.504694    7.663687    7.641847    7.199347    7.869448   \n",
       "\n",
       "              GSM3057764  GSM3057765  GSM3057766  GSM3057767  GSM3057768  ...  \\\n",
       "ID                                                                        ...   \n",
       "ILMN_1343291   14.677568   14.859861   14.859861   14.654076   14.573123  ...   \n",
       "ILMN_1343295   12.514982   12.481417   12.550157   12.133797   12.195513  ...   \n",
       "ILMN_1651228   10.706725   10.860812   10.734903   11.333399   11.459043  ...   \n",
       "ILMN_1651229    6.351378    6.494871    6.373543    6.719446    6.866318  ...   \n",
       "ILMN_1651237    8.048453    6.971181    7.562990    7.578632    8.105624  ...   \n",
       "\n",
       "              GSM3057785  GSM3057786  GSM3057787  GSM3057788  GSM3057789  \\\n",
       "ID                                                                         \n",
       "ILMN_1343291   13.892160   13.962654   13.892160   13.991626   13.866719   \n",
       "ILMN_1343295   11.242588   11.148588   11.312364   11.403161   11.345794   \n",
       "ILMN_1651228   13.107793   12.769842   12.999748   12.875990   13.232136   \n",
       "ILMN_1651229    6.985115    6.890756    7.049083    6.966247    7.086769   \n",
       "ILMN_1651237    7.209995    7.128377    7.275932    6.789204    7.047561   \n",
       "\n",
       "              GSM3057790  GSM3057791  GSM3057792  GSM3057793  GSM3057794  \n",
       "ID                                                                        \n",
       "ILMN_1343291   13.877081   13.849746   13.788155   13.962654   13.611311  \n",
       "ILMN_1343295   11.529301   11.312364   11.224584   11.242588    9.804207  \n",
       "ILMN_1651228   13.135390   13.068756   13.012822   13.046905   12.502037  \n",
       "ILMN_1651229    7.043384    7.018352    7.056027    7.005621    7.080838  \n",
       "ILMN_1651237    7.108292    6.998213    6.942584    6.976867    6.726627  \n",
       "\n",
       "[5 rows x 36 columns]"
      ]
     },
     "execution_count": 32,
     "metadata": {},
     "output_type": "execute_result"
    }
   ],
   "source": [
    "genetic_data = get_genetic_data(matrix_file)\n",
    "genetic_data.head()"
   ]
  },
  {
   "cell_type": "code",
   "execution_count": 35,
   "metadata": {
    "ExecuteTime": {
     "end_time": "2024-01-02T01:03:06.250833943Z",
     "start_time": "2024-01-02T01:03:06.246758837Z"
    },
    "collapsed": false
   },
   "outputs": [
    {
     "data": {
      "text/plain": [
       "['ILMN_1343291',\n",
       " 'ILMN_1343295',\n",
       " 'ILMN_1651228',\n",
       " 'ILMN_1651229',\n",
       " 'ILMN_1651237',\n",
       " 'ILMN_1651254',\n",
       " 'ILMN_1651262',\n",
       " 'ILMN_1651278',\n",
       " 'ILMN_1651282',\n",
       " 'ILMN_1651285',\n",
       " 'ILMN_1651315',\n",
       " 'ILMN_1651336',\n",
       " 'ILMN_1651346',\n",
       " 'ILMN_1651347',\n",
       " 'ILMN_1651364',\n",
       " 'ILMN_1651378',\n",
       " 'ILMN_1651385',\n",
       " 'ILMN_1651405',\n",
       " 'ILMN_1651415',\n",
       " 'ILMN_1651429']"
      ]
     },
     "execution_count": 35,
     "metadata": {},
     "output_type": "execute_result"
    }
   ],
   "source": [
    "gene_row_ids = genetic_data.index[:20].tolist()\n",
    "gene_row_ids"
   ]
  },
  {
   "cell_type": "markdown",
   "metadata": {
    "ExecuteTime": {
     "end_time": "2023-12-31T03:30:41.595335164Z",
     "start_time": "2023-12-31T03:30:41.513232329Z"
    },
    "collapsed": false
   },
   "source": [
    "Check if the gene dataset requires mapping to get the gene symbols corresponding to each data row."
   ]
  },
  {
   "cell_type": "markdown",
   "metadata": {
    "collapsed": false
   },
   "source": [
    "Reference prompt:"
   ]
  },
  {
   "cell_type": "code",
   "execution_count": 36,
   "metadata": {
    "ExecuteTime": {
     "end_time": "2024-01-02T01:03:07.586216481Z",
     "start_time": "2024-01-02T01:03:07.574527035Z"
    },
    "collapsed": false
   },
   "outputs": [
    {
     "data": {
      "text/plain": [
       "\"\\nBelow are the row headers of a gene expression dataset in GEO. Based on your biomedical knowledge, are they human gene symbols, or are they some other identifiers that need to be mapped to gene symbols? Your answer should be concluded by starting a new line and strictly following this format:\\nrequires_gene_mapping = (True or False)\\n\\nRow headers:\\n['ILMN_1343291', 'ILMN_1343295', 'ILMN_1651228', 'ILMN_1651229', 'ILMN_1651237', 'ILMN_1651254', 'ILMN_1651262', 'ILMN_1651278', 'ILMN_1651282', 'ILMN_1651285', 'ILMN_1651315', 'ILMN_1651336', 'ILMN_1651346', 'ILMN_1651347', 'ILMN_1651364', 'ILMN_1651378', 'ILMN_1651385', 'ILMN_1651405', 'ILMN_1651415', 'ILMN_1651429']\\n\""
      ]
     },
     "execution_count": 36,
     "metadata": {},
     "output_type": "execute_result"
    }
   ],
   "source": [
    "f'''\n",
    "Below are the row headers of a gene expression dataset in GEO. Based on your biomedical knowledge, are they human gene symbols, or are they some other identifiers that need to be mapped to gene symbols? Your answer should be concluded by starting a new line and strictly following this format:\n",
    "requires_gene_mapping = (True or False)\n",
    "\n",
    "Row headers:\n",
    "{gene_row_ids}\n",
    "'''"
   ]
  },
  {
   "cell_type": "markdown",
   "metadata": {
    "collapsed": false
   },
   "source": [
    "If not required, jump directly to the gene normalization step"
   ]
  },
  {
   "cell_type": "code",
   "execution_count": 37,
   "metadata": {
    "ExecuteTime": {
     "end_time": "2024-01-02T01:03:08.263712538Z",
     "start_time": "2024-01-02T01:03:08.260656314Z"
    },
    "collapsed": false
   },
   "outputs": [],
   "source": [
    "requires_gene_mapping = True"
   ]
  },
  {
   "cell_type": "code",
   "execution_count": 39,
   "metadata": {
    "ExecuteTime": {
     "end_time": "2024-01-02T01:03:33.822550310Z",
     "start_time": "2024-01-02T01:03:08.648958912Z"
    },
    "collapsed": false
   },
   "outputs": [
    {
     "name": "stdout",
     "output_type": "stream",
     "text": [
      "{'ID': ['ILMN_1343048', 'ILMN_1343049', 'ILMN_1343050', 'ILMN_1343052', 'ILMN_1343059'], 'Species': [nan, nan, nan, nan, nan], 'Source': [nan, nan, nan, nan, nan], 'Search_Key': [nan, nan, nan, nan, nan], 'Transcript': [nan, nan, nan, nan, nan], 'ILMN_Gene': [nan, nan, nan, nan, nan], 'Source_Reference_ID': [nan, nan, nan, nan, nan], 'RefSeq_ID': [nan, nan, nan, nan, nan], 'Unigene_ID': [nan, nan, nan, nan, nan], 'Entrez_Gene_ID': [nan, nan, nan, nan, nan], 'GI': [nan, nan, nan, nan, nan], 'Accession': [nan, nan, nan, nan, nan], 'Symbol': ['phage_lambda_genome', 'phage_lambda_genome', 'phage_lambda_genome:low', 'phage_lambda_genome:low', 'thrB'], 'Protein_Product': [nan, nan, nan, nan, 'thrB'], 'Probe_Id': [nan, nan, nan, nan, nan], 'Array_Address_Id': [5090180.0, 6510136.0, 7560739.0, 1450438.0, 1240647.0], 'Probe_Type': [nan, nan, nan, nan, nan], 'Probe_Start': [nan, nan, nan, nan, nan], 'SEQUENCE': ['GAATAAAGAACAATCTGCTGATGATCCCTCCGTGGATCTGATTCGTGTAA', 'CCATGTGATACGAGGGCGCGTAGTTTGCATTATCGTTTTTATCGTTTCAA', 'CCGACAGATGTATGTAAGGCCAACGTGCTCAAATCTTCATACAGAAAGAT', 'TCTGTCACTGTCAGGAAAGTGGTAAAACTGCAACTCAATTACTGCAATGC', 'CTTGTGCCTGAGCTGTCAAAAGTAGAGCACGTCGCCGAGATGAAGGGCGC'], 'Chromosome': [nan, nan, nan, nan, nan], 'Probe_Chr_Orientation': [nan, nan, nan, nan, nan], 'Probe_Coordinates': [nan, nan, nan, nan, nan], 'Cytoband': [nan, nan, nan, nan, nan], 'Definition': [nan, nan, nan, nan, nan], 'Ontology_Component': [nan, nan, nan, nan, nan], 'Ontology_Process': [nan, nan, nan, nan, nan], 'Ontology_Function': [nan, nan, nan, nan, nan], 'Synonyms': [nan, nan, nan, nan, nan], 'Obsolete_Probe_Id': [nan, nan, nan, nan, nan], 'GB_ACC': [nan, nan, nan, nan, nan]}\n"
     ]
    }
   ],
   "source": [
    "if requires_gene_mapping:\n",
    "    gene_annotation = get_gene_annotation(soft_file)\n",
    "    gene_annotation_summary = preview_df(gene_annotation)\n",
    "    print(gene_annotation_summary)"
   ]
  },
  {
   "cell_type": "markdown",
   "metadata": {
    "ExecuteTime": {
     "end_time": "2023-12-31T03:58:04.978931927Z",
     "start_time": "2023-12-31T03:58:04.966328339Z"
    },
    "collapsed": false
   },
   "source": [
    "Observe the first few cells in the ID column of the gene annotation dataframe, to find the names of columns that store the gene probe IDs and gene symbols respectively.\n",
    "Reference prompt:"
   ]
  },
  {
   "cell_type": "code",
   "execution_count": 40,
   "metadata": {
    "ExecuteTime": {
     "end_time": "2024-01-02T01:03:33.822912446Z",
     "start_time": "2024-01-02T01:03:33.804491826Z"
    },
    "collapsed": false
   },
   "outputs": [
    {
     "name": "stdout",
     "output_type": "stream",
     "text": [
      "\n",
      "    As a biomedical research team, we extracted the gene annotation data from a series in the GEO database, and saved it to a Python dictionary. Please read the dictionary, and decide which key stores the ID of the probe, and which key stores the gene symbols. Please strict follow this format in your answer:\n",
      "    probe_name_key = 'key_name1'\n",
      "    gene_name_key = 'key_name2'\n",
      "\n",
      "    Gene annotation dictionary:\n",
      "    {'ID': ['ILMN_1343048', 'ILMN_1343049', 'ILMN_1343050', 'ILMN_1343052', 'ILMN_1343059'], 'Species': [nan, nan, nan, nan, nan], 'Source': [nan, nan, nan, nan, nan], 'Search_Key': [nan, nan, nan, nan, nan], 'Transcript': [nan, nan, nan, nan, nan], 'ILMN_Gene': [nan, nan, nan, nan, nan], 'Source_Reference_ID': [nan, nan, nan, nan, nan], 'RefSeq_ID': [nan, nan, nan, nan, nan], 'Unigene_ID': [nan, nan, nan, nan, nan], 'Entrez_Gene_ID': [nan, nan, nan, nan, nan], 'GI': [nan, nan, nan, nan, nan], 'Accession': [nan, nan, nan, nan, nan], 'Symbol': ['phage_lambda_genome', 'phage_lambda_genome', 'phage_lambda_genome:low', 'phage_lambda_genome:low', 'thrB'], 'Protein_Product': [nan, nan, nan, nan, 'thrB'], 'Probe_Id': [nan, nan, nan, nan, nan], 'Array_Address_Id': [5090180.0, 6510136.0, 7560739.0, 1450438.0, 1240647.0], 'Probe_Type': [nan, nan, nan, nan, nan], 'Probe_Start': [nan, nan, nan, nan, nan], 'SEQUENCE': ['GAATAAAGAACAATCTGCTGATGATCCCTCCGTGGATCTGATTCGTGTAA', 'CCATGTGATACGAGGGCGCGTAGTTTGCATTATCGTTTTTATCGTTTCAA', 'CCGACAGATGTATGTAAGGCCAACGTGCTCAAATCTTCATACAGAAAGAT', 'TCTGTCACTGTCAGGAAAGTGGTAAAACTGCAACTCAATTACTGCAATGC', 'CTTGTGCCTGAGCTGTCAAAAGTAGAGCACGTCGCCGAGATGAAGGGCGC'], 'Chromosome': [nan, nan, nan, nan, nan], 'Probe_Chr_Orientation': [nan, nan, nan, nan, nan], 'Probe_Coordinates': [nan, nan, nan, nan, nan], 'Cytoband': [nan, nan, nan, nan, nan], 'Definition': [nan, nan, nan, nan, nan], 'Ontology_Component': [nan, nan, nan, nan, nan], 'Ontology_Process': [nan, nan, nan, nan, nan], 'Ontology_Function': [nan, nan, nan, nan, nan], 'Synonyms': [nan, nan, nan, nan, nan], 'Obsolete_Probe_Id': [nan, nan, nan, nan, nan], 'GB_ACC': [nan, nan, nan, nan, nan]}\n",
      "    \n"
     ]
    }
   ],
   "source": [
    "if requires_gene_mapping:\n",
    "    print(f'''\n",
    "    As a biomedical research team, we extracted the gene annotation data from a series in the GEO database, and saved it to a Python dictionary. Please read the dictionary, and decide which key stores the ID of the probe, and which key stores the gene symbols. Please strict follow this format in your answer:\n",
    "    probe_name_key = 'key_name1'\n",
    "    gene_name_key = 'key_name2'\n",
    "\n",
    "    Gene annotation dictionary:\n",
    "    {gene_annotation_summary}\n",
    "    ''')"
   ]
  },
  {
   "cell_type": "code",
   "execution_count": 41,
   "metadata": {
    "ExecuteTime": {
     "end_time": "2024-01-02T01:03:35.113359369Z",
     "start_time": "2024-01-02T01:03:33.804666371Z"
    },
    "collapsed": false
   },
   "outputs": [],
   "source": [
    "if requires_gene_mapping:\n",
    "    probe_id_key = 'ID'\n",
    "    gene_symb_key = 'Symbol'\n",
    "    gene_mapping = get_gene_mapping(gene_annotation, probe_id_key, gene_symb_key)\n",
    "    genetic_data = apply_gene_mapping(genetic_data, gene_mapping)"
   ]
  },
  {
   "cell_type": "code",
   "execution_count": 42,
   "metadata": {
    "ExecuteTime": {
     "end_time": "2024-01-02T01:03:35.156584675Z",
     "start_time": "2024-01-02T01:03:35.114652593Z"
    },
    "collapsed": false
   },
   "outputs": [
    {
     "name": "stderr",
     "output_type": "stream",
     "text": [
      "9 input query terms found dup hits:\t[('ABCC6P1', 2), ('ABCC6P2', 3), ('ANXA2P1', 2), ('ANXA2P2', 2), ('ANXA2P3', 2), ('AQP7P1', 2), ('AQ\n",
      "190 input query terms found no hit:\t['2-Mar', '3-Mar', '5-Mar', '6-Mar', '7-Mar', 'A2LD1', 'AADACL1', 'AARS', 'ABP1', 'ACN9', 'ADCK4', '\n",
      "3 input query terms found dup hits:\t[('CCT6P1', 2), ('CECR7', 2), ('CELP', 2)]\n",
      "350 input query terms found no hit:\t['C16orf48', 'C16orf5', 'C16orf53', 'C16orf56', 'C16orf57', 'C16orf58', 'C16orf61', 'C16orf62', 'C16\n",
      "2 input query terms found dup hits:\t[('DHRS4L1', 3), ('DUXAP3', 2)]\n",
      "163 input query terms found no hit:\t['CP110', 'CPSF3L', 'CREBL1', 'CRIPAK', 'CRKRS', 'CROP', 'CRSP9', 'CSDA', 'CSNK2A1P', 'CSRP2BP', 'CT\n",
      "7 input query terms found dup hits:\t[('GTF2H2B', 2), ('GTF2IP1', 2), ('HCG4', 9), ('HLA-DRB6', 2), ('HLA-H', 9), ('HNRNPA3P1', 2), ('HSP\n",
      "171 input query terms found no hit:\t['FARSLB', 'FBXL10', 'FBXL11', 'FBXO18', 'FDX1L', 'FER1L3', 'FGFR1OP', 'FKBP9L', 'FKSG30', 'FLJ10081\n",
      "5 input query terms found dup hits:\t[('KRT17P3', 2), ('KRT18P13', 2), ('KRT18P17', 2), ('KRT18P28', 2), ('KRT8P9', 2)]\n",
      "574 input query terms found no hit:\t['IL28RA', 'IMAA', 'IMPAD1', 'INDO', 'ISCA1L', 'ISG20L1', 'ITFG3', 'ITGB4BP', 'JARID1A', 'JCLN', 'JH\n",
      "1 input query terms found dup hits:\t[('MEIS3P1', 2)]\n",
      "657 input query terms found no hit:\t['LOC440926', 'LOC440927', 'LOC440956', 'LOC440957', 'LOC440991', 'LOC441013', 'LOC441034', 'LOC4410\n",
      "4 input query terms found dup hits:\t[('NAPSB', 2), ('NAT8B', 3), ('OR7E156P', 2), ('PDZK1P1', 2)]\n",
      "132 input query terms found no hit:\t['MGC13057', 'MGC15763', 'MGC16169', 'MGC16703', 'MGC18216', 'MGC26356', 'MGC26733', 'MGC2752', 'MGC\n",
      "5 input query terms found dup hits:\t[('PI4KAP2', 2), ('PIPSL', 2), ('POLR2J3', 2), ('PTTG3P', 2), ('RAP1BL', 2)]\n",
      "78 input query terms found no hit:\t['PET112L', 'PGCP', 'PHB', 'PHCA', 'PHF15', 'PHF16', 'PHF17', 'PIB5PA', 'PIK4CA', 'PIP3-E', 'PIP5K2B\n",
      "15 input query terms found dup hits:\t[('RNF5P1', 2), ('RPL12P6', 2), ('RPL23AP53', 2), ('RPL23AP7', 2), ('RPS10P3', 2), ('RPS26P11', 2), \n",
      "93 input query terms found no hit:\t['RNF216L', 'RNF219', 'RNMTL1', 'RNU1-5', 'RNU1A3', 'RNU1F1', 'RNU1G2', 'RNU6-15', 'ROBLD3', 'ROD1',\n",
      "3 input query terms found dup hits:\t[('STAG3L2', 2), ('STAG3L3', 2), ('SUMO1P3', 2)]\n",
      "93 input query terms found no hit:\t['STRA13', 'STS-1', 'SUV420H1', 'SYNC1', 'Selenoprotein 15', 'Septin 11', 'Septin 2', 'Septin 4', 'S\n",
      "64 input query terms found no hit:\t['UPLP', 'UQCC', 'UQCR', 'URG4', 'USMG5', 'UTP11L', 'UTX', 'VARS', 'VIL2', 'VPS24', 'VPS26', 'WARS',\n"
     ]
    }
   ],
   "source": [
    "if NORMALIZE_GENE:\n",
    "    genetic_data = normalize_gene_symbols_in_index(genetic_data)"
   ]
  },
  {
   "cell_type": "code",
   "execution_count": 43,
   "metadata": {
    "ExecuteTime": {
     "end_time": "2024-01-02T01:03:35.158174021Z",
     "start_time": "2024-01-02T01:03:35.156777134Z"
    },
    "collapsed": false
   },
   "outputs": [],
   "source": [
    "merged_data = geo_merge_clinical_genetic_data(selected_clinical_data, genetic_data)\n",
    "# The preprocessing runs through, which means is_available should be True\n",
    "is_available = True"
   ]
  },
  {
   "cell_type": "code",
   "execution_count": 44,
   "metadata": {
    "ExecuteTime": {
     "end_time": "2024-01-02T01:03:35.158378853Z",
     "start_time": "2024-01-02T01:03:35.156895194Z"
    },
    "collapsed": false
   },
   "outputs": [
    {
     "name": "stdout",
     "output_type": "stream",
     "text": [
      "The merged dataset contains 36 samples.\n"
     ]
    }
   ],
   "source": [
    "print(f\"The merged dataset contains {len(merged_data)} samples.\")"
   ]
  },
  {
   "cell_type": "code",
   "execution_count": 45,
   "metadata": {
    "ExecuteTime": {
     "end_time": "2024-01-02T01:03:35.158646754Z",
     "start_time": "2024-01-02T01:03:35.156975304Z"
    },
    "collapsed": false
   },
   "outputs": [
    {
     "name": "stdout",
     "output_type": "stream",
     "text": [
      "For the feature 'Celiac-Disease', the least common label is '1.0' with 12 occurrences. This represents 33.33% of the dataset.\n",
      "The distribution of the feature 'Celiac-Disease' in this dataset is fine.\n",
      "\n",
      "Quartiles for 'Age':\n",
      "  25%: 21.0\n",
      "  50% (Median): 27.0\n",
      "  75%: 32.75\n",
      "Min: 17.0\n",
      "Max: 42.0\n",
      "The distribution of the feature 'Age' in this dataset is fine.\n",
      "\n",
      "For the feature 'Gender', the least common label is '0.0' with 14 occurrences. This represents 38.89% of the dataset.\n",
      "The distribution of the feature 'Gender' in this dataset is fine.\n",
      "\n"
     ]
    },
    {
     "data": {
      "text/plain": [
       "False"
      ]
     },
     "execution_count": 45,
     "metadata": {},
     "output_type": "execute_result"
    }
   ],
   "source": [
    "is_trait_biased, merged_data = judge_and_remove_biased_features(merged_data, TRAIT, trait_type=trait_type)\n",
    "is_trait_biased"
   ]
  },
  {
   "cell_type": "code",
   "execution_count": 46,
   "metadata": {
    "ExecuteTime": {
     "end_time": "2024-01-02T01:03:35.158803015Z",
     "start_time": "2024-01-02T01:03:35.157063388Z"
    },
    "collapsed": false
   },
   "outputs": [],
   "source": [
    "save_cohort_info(cohort, JSON_PATH, is_available, is_trait_biased, merged_data, note='')"
   ]
  },
  {
   "cell_type": "code",
   "execution_count": 47,
   "metadata": {
    "ExecuteTime": {
     "end_time": "2024-01-02T01:03:36.004312476Z",
     "start_time": "2024-01-02T01:03:35.157165158Z"
    },
    "collapsed": false
   },
   "outputs": [],
   "source": [
    "merged_data.head()\n",
    "if not is_trait_biased:\n",
    "    merged_data.to_csv(os.path.join(OUTPUT_DIR, cohort+'.csv'), index=False)"
   ]
  },
  {
   "cell_type": "markdown",
   "metadata": {
    "ExecuteTime": {
     "end_time": "2023-12-31T03:58:22.271683755Z",
     "start_time": "2023-12-31T03:58:22.246557674Z"
    },
    "id": "-MTPhRGxJV7I"
   },
   "source": [
    "### 3. Do regression & Cross Validation"
   ]
  },
  {
   "cell_type": "code",
   "execution_count": 48,
   "metadata": {
    "ExecuteTime": {
     "end_time": "2024-01-02T01:03:36.048788605Z",
     "start_time": "2024-01-02T01:03:36.005925887Z"
    },
    "collapsed": false
   },
   "outputs": [],
   "source": [
    "from utils import *"
   ]
  },
  {
   "cell_type": "code",
   "execution_count": 49,
   "metadata": {
    "ExecuteTime": {
     "end_time": "2024-01-02T01:03:36.049183603Z",
     "start_time": "2024-01-02T01:03:36.048440305Z"
    },
    "collapsed": false
   },
   "outputs": [
    {
     "data": {
      "text/html": [
       "<div>\n",
       "<style scoped>\n",
       "    .dataframe tbody tr th:only-of-type {\n",
       "        vertical-align: middle;\n",
       "    }\n",
       "\n",
       "    .dataframe tbody tr th {\n",
       "        vertical-align: top;\n",
       "    }\n",
       "\n",
       "    .dataframe thead th {\n",
       "        text-align: right;\n",
       "    }\n",
       "</style>\n",
       "<table border=\"1\" class=\"dataframe\">\n",
       "  <thead>\n",
       "    <tr style=\"text-align: right;\">\n",
       "      <th></th>\n",
       "      <th>cohort_id</th>\n",
       "      <th>is_usable</th>\n",
       "      <th>is_available</th>\n",
       "      <th>is_biased</th>\n",
       "      <th>has_age</th>\n",
       "      <th>has_gender</th>\n",
       "      <th>sample_size</th>\n",
       "      <th>note</th>\n",
       "    </tr>\n",
       "  </thead>\n",
       "  <tbody>\n",
       "    <tr>\n",
       "      <th>0</th>\n",
       "      <td>GSE112102</td>\n",
       "      <td>True</td>\n",
       "      <td>True</td>\n",
       "      <td>False</td>\n",
       "      <td>True</td>\n",
       "      <td>True</td>\n",
       "      <td>36</td>\n",
       "      <td></td>\n",
       "    </tr>\n",
       "  </tbody>\n",
       "</table>\n",
       "</div>"
      ],
      "text/plain": [
       "   cohort_id  is_usable  is_available  is_biased  has_age  has_gender  \\\n",
       "0  GSE112102       True          True      False     True        True   \n",
       "\n",
       "   sample_size note  \n",
       "0           36       "
      ]
     },
     "execution_count": 49,
     "metadata": {},
     "output_type": "execute_result"
    }
   ],
   "source": [
    "best_cohort, ranked_df = filter_and_rank_cohorts(JSON_PATH, 'has_age')\n",
    "ranked_df"
   ]
  },
  {
   "cell_type": "code",
   "execution_count": 50,
   "metadata": {
    "ExecuteTime": {
     "end_time": "2024-01-02T01:03:36.345375576Z",
     "start_time": "2024-01-02T01:03:36.049289340Z"
    },
    "collapsed": false
   },
   "outputs": [],
   "source": [
    "merged_data = pd.read_csv(os.path.join(OUTPUT_DIR, best_cohort+'.csv'))"
   ]
  },
  {
   "cell_type": "code",
   "execution_count": 51,
   "metadata": {
    "ExecuteTime": {
     "end_time": "2024-01-02T01:03:36.400788548Z",
     "start_time": "2024-01-02T01:03:36.355439168Z"
    },
    "collapsed": false
   },
   "outputs": [
    {
     "data": {
      "text/html": [
       "<div>\n",
       "<style scoped>\n",
       "    .dataframe tbody tr th:only-of-type {\n",
       "        vertical-align: middle;\n",
       "    }\n",
       "\n",
       "    .dataframe tbody tr th {\n",
       "        vertical-align: top;\n",
       "    }\n",
       "\n",
       "    .dataframe thead th {\n",
       "        text-align: right;\n",
       "    }\n",
       "</style>\n",
       "<table border=\"1\" class=\"dataframe\">\n",
       "  <thead>\n",
       "    <tr style=\"text-align: right;\">\n",
       "      <th></th>\n",
       "      <th>Celiac-Disease</th>\n",
       "      <th>Age</th>\n",
       "      <th>Gender</th>\n",
       "      <th>A1CF</th>\n",
       "      <th>A2M</th>\n",
       "      <th>AAAS</th>\n",
       "      <th>AACS</th>\n",
       "      <th>AADAC</th>\n",
       "      <th>AAGAB</th>\n",
       "      <th>AAMP</th>\n",
       "      <th>...</th>\n",
       "      <th>ZSWIM5</th>\n",
       "      <th>ZSWIM6</th>\n",
       "      <th>ZSWIM7</th>\n",
       "      <th>ZW10</th>\n",
       "      <th>ZWILCH</th>\n",
       "      <th>ZWINT</th>\n",
       "      <th>ZYG11B</th>\n",
       "      <th>ZYX</th>\n",
       "      <th>ZZEF1</th>\n",
       "      <th>ZZZ3</th>\n",
       "    </tr>\n",
       "  </thead>\n",
       "  <tbody>\n",
       "    <tr>\n",
       "      <th>0</th>\n",
       "      <td>1.0</td>\n",
       "      <td>40.0</td>\n",
       "      <td>1.0</td>\n",
       "      <td>11.299358</td>\n",
       "      <td>9.969001</td>\n",
       "      <td>5.565968</td>\n",
       "      <td>7.428344</td>\n",
       "      <td>12.248039</td>\n",
       "      <td>7.320517</td>\n",
       "      <td>8.337521</td>\n",
       "      <td>...</td>\n",
       "      <td>7.493574</td>\n",
       "      <td>7.981288</td>\n",
       "      <td>7.432216</td>\n",
       "      <td>9.224346</td>\n",
       "      <td>8.270384</td>\n",
       "      <td>7.505519</td>\n",
       "      <td>8.994590</td>\n",
       "      <td>8.221540</td>\n",
       "      <td>9.104346</td>\n",
       "      <td>8.227451</td>\n",
       "    </tr>\n",
       "    <tr>\n",
       "      <th>1</th>\n",
       "      <td>1.0</td>\n",
       "      <td>21.0</td>\n",
       "      <td>1.0</td>\n",
       "      <td>9.462507</td>\n",
       "      <td>10.668462</td>\n",
       "      <td>5.422591</td>\n",
       "      <td>7.513717</td>\n",
       "      <td>11.232973</td>\n",
       "      <td>7.935180</td>\n",
       "      <td>8.041101</td>\n",
       "      <td>...</td>\n",
       "      <td>6.073549</td>\n",
       "      <td>8.102657</td>\n",
       "      <td>7.286231</td>\n",
       "      <td>9.426578</td>\n",
       "      <td>9.041429</td>\n",
       "      <td>8.342420</td>\n",
       "      <td>9.018129</td>\n",
       "      <td>8.485001</td>\n",
       "      <td>8.614329</td>\n",
       "      <td>8.515513</td>\n",
       "    </tr>\n",
       "    <tr>\n",
       "      <th>2</th>\n",
       "      <td>1.0</td>\n",
       "      <td>23.0</td>\n",
       "      <td>1.0</td>\n",
       "      <td>10.313678</td>\n",
       "      <td>10.118989</td>\n",
       "      <td>5.724798</td>\n",
       "      <td>7.138012</td>\n",
       "      <td>11.206594</td>\n",
       "      <td>8.725462</td>\n",
       "      <td>8.218250</td>\n",
       "      <td>...</td>\n",
       "      <td>6.412018</td>\n",
       "      <td>7.795335</td>\n",
       "      <td>7.241113</td>\n",
       "      <td>9.043638</td>\n",
       "      <td>8.938601</td>\n",
       "      <td>8.163404</td>\n",
       "      <td>8.803716</td>\n",
       "      <td>8.359158</td>\n",
       "      <td>8.971511</td>\n",
       "      <td>8.390954</td>\n",
       "    </tr>\n",
       "    <tr>\n",
       "      <th>3</th>\n",
       "      <td>1.0</td>\n",
       "      <td>21.0</td>\n",
       "      <td>0.0</td>\n",
       "      <td>10.973610</td>\n",
       "      <td>9.938324</td>\n",
       "      <td>5.009443</td>\n",
       "      <td>6.496277</td>\n",
       "      <td>11.869650</td>\n",
       "      <td>7.705516</td>\n",
       "      <td>8.111973</td>\n",
       "      <td>...</td>\n",
       "      <td>7.550811</td>\n",
       "      <td>8.447171</td>\n",
       "      <td>6.953007</td>\n",
       "      <td>8.883935</td>\n",
       "      <td>8.013349</td>\n",
       "      <td>7.383146</td>\n",
       "      <td>9.262534</td>\n",
       "      <td>7.924810</td>\n",
       "      <td>9.412874</td>\n",
       "      <td>8.333337</td>\n",
       "    </tr>\n",
       "    <tr>\n",
       "      <th>4</th>\n",
       "      <td>1.0</td>\n",
       "      <td>23.0</td>\n",
       "      <td>0.0</td>\n",
       "      <td>10.635063</td>\n",
       "      <td>10.064946</td>\n",
       "      <td>5.280715</td>\n",
       "      <td>7.002643</td>\n",
       "      <td>11.596136</td>\n",
       "      <td>8.022002</td>\n",
       "      <td>8.179128</td>\n",
       "      <td>...</td>\n",
       "      <td>7.133505</td>\n",
       "      <td>8.130783</td>\n",
       "      <td>6.914437</td>\n",
       "      <td>8.939898</td>\n",
       "      <td>8.716706</td>\n",
       "      <td>7.574235</td>\n",
       "      <td>8.950163</td>\n",
       "      <td>8.174673</td>\n",
       "      <td>9.388130</td>\n",
       "      <td>8.511889</td>\n",
       "    </tr>\n",
       "  </tbody>\n",
       "</table>\n",
       "<p>5 rows × 8065 columns</p>\n",
       "</div>"
      ],
      "text/plain": [
       "   Celiac-Disease   Age  Gender       A1CF        A2M      AAAS      AACS  \\\n",
       "0             1.0  40.0     1.0  11.299358   9.969001  5.565968  7.428344   \n",
       "1             1.0  21.0     1.0   9.462507  10.668462  5.422591  7.513717   \n",
       "2             1.0  23.0     1.0  10.313678  10.118989  5.724798  7.138012   \n",
       "3             1.0  21.0     0.0  10.973610   9.938324  5.009443  6.496277   \n",
       "4             1.0  23.0     0.0  10.635063  10.064946  5.280715  7.002643   \n",
       "\n",
       "       AADAC     AAGAB      AAMP  ...    ZSWIM5    ZSWIM6    ZSWIM7      ZW10  \\\n",
       "0  12.248039  7.320517  8.337521  ...  7.493574  7.981288  7.432216  9.224346   \n",
       "1  11.232973  7.935180  8.041101  ...  6.073549  8.102657  7.286231  9.426578   \n",
       "2  11.206594  8.725462  8.218250  ...  6.412018  7.795335  7.241113  9.043638   \n",
       "3  11.869650  7.705516  8.111973  ...  7.550811  8.447171  6.953007  8.883935   \n",
       "4  11.596136  8.022002  8.179128  ...  7.133505  8.130783  6.914437  8.939898   \n",
       "\n",
       "     ZWILCH     ZWINT    ZYG11B       ZYX     ZZEF1      ZZZ3  \n",
       "0  8.270384  7.505519  8.994590  8.221540  9.104346  8.227451  \n",
       "1  9.041429  8.342420  9.018129  8.485001  8.614329  8.515513  \n",
       "2  8.938601  8.163404  8.803716  8.359158  8.971511  8.390954  \n",
       "3  8.013349  7.383146  9.262534  7.924810  9.412874  8.333337  \n",
       "4  8.716706  7.574235  8.950163  8.174673  9.388130  8.511889  \n",
       "\n",
       "[5 rows x 8065 columns]"
      ]
     },
     "execution_count": 51,
     "metadata": {},
     "output_type": "execute_result"
    }
   ],
   "source": [
    "merged_data.head()"
   ]
  },
  {
   "cell_type": "code",
   "execution_count": 52,
   "metadata": {
    "ExecuteTime": {
     "end_time": "2024-01-02T01:03:36.401002087Z",
     "start_time": "2024-01-02T01:03:36.400659608Z"
    },
    "collapsed": false
   },
   "outputs": [],
   "source": [
    "# If both age and gender features are available, select 'age' as the condition.\n",
    "condition = 'Age'\n",
    "# Remove the other condition to prevent interference.\n",
    "merged_data = merged_data.drop(columns=['Gender'], errors='ignore').astype('float')"
   ]
  },
  {
   "cell_type": "code",
   "execution_count": 53,
   "metadata": {
    "ExecuteTime": {
     "end_time": "2024-01-02T01:03:36.403035823Z",
     "start_time": "2024-01-02T01:03:36.401081946Z"
    },
    "collapsed": false
   },
   "outputs": [],
   "source": [
    "X = merged_data.drop(columns=[TRAIT, condition]).values\n",
    "Y = merged_data[TRAIT].values\n",
    "Z = merged_data[condition].values"
   ]
  },
  {
   "cell_type": "markdown",
   "metadata": {
    "collapsed": false
   },
   "source": [
    "Select the appropriate regression model depending on whether the dataset shows batch effect."
   ]
  },
  {
   "cell_type": "code",
   "execution_count": 54,
   "metadata": {
    "ExecuteTime": {
     "end_time": "2024-01-02T01:03:36.403263628Z",
     "start_time": "2024-01-02T01:03:36.401336170Z"
    },
    "collapsed": false
   },
   "outputs": [
    {
     "data": {
      "text/plain": [
       "True"
      ]
     },
     "execution_count": 54,
     "metadata": {},
     "output_type": "execute_result"
    }
   ],
   "source": [
    "has_batch_effect = detect_batch_effect(X)\n",
    "has_batch_effect"
   ]
  },
  {
   "cell_type": "code",
   "execution_count": 55,
   "metadata": {
    "ExecuteTime": {
     "end_time": "2024-01-02T01:03:36.475053437Z",
     "start_time": "2024-01-02T01:03:36.444397231Z"
    },
    "collapsed": false
   },
   "outputs": [],
   "source": [
    "if has_batch_effect:\n",
    "    model_constructor1 = VariableSelection\n",
    "    model_params1 = {'modified': True, 'lamda': 3e-4}\n",
    "    model_constructor2 = VariableSelection\n",
    "    model_params2 = {'modified': False}\n",
    "else:\n",
    "    model_constructor1 = Lasso\n",
    "    model_params1 = {'alpha': 1.0, 'random_state': 42}\n",
    "    model_constructor2 = VariableSelection\n",
    "    model_params2 = {'modified': False}"
   ]
  },
  {
   "cell_type": "code",
   "execution_count": 56,
   "metadata": {
    "ExecuteTime": {
     "end_time": "2024-01-02T01:03:50.733335364Z",
     "start_time": "2024-01-02T01:03:36.444563711Z"
    },
    "collapsed": false
   },
   "outputs": [
    {
     "name": "stdout",
     "output_type": "stream",
     "text": [
      "alpha for Lasso: 0.0003\n",
      "alpha for Lasso: 0.0003\n",
      "alpha for Lasso: 0.0003\n",
      "alpha for Lasso: 0.0003\n",
      "alpha for Lasso: 0.0003\n",
      "The cross-validation accuracy is 45.71% ± 24.58%\n"
     ]
    }
   ],
   "source": [
    "trait_type = 'binary'  # Remember to set this properly, either 'binary' or 'continuous'\n",
    "cv_mean1, cv_std1 = cross_validation(X, Y, Z, model_constructor1, model_params1, target_type=trait_type)"
   ]
  },
  {
   "cell_type": "code",
   "execution_count": 57,
   "metadata": {},
   "outputs": [
    {
     "name": "stdout",
     "output_type": "stream",
     "text": [
      "The cross-validation accuracy is 100.00% ± 0.00%\n"
     ]
    }
   ],
   "source": [
    "cv_mean2, cv_std2 = cross_validation(X, Y, Z, model_constructor2, model_params2, target_type=trait_type)"
   ]
  },
  {
   "cell_type": "code",
   "execution_count": 58,
   "metadata": {
    "ExecuteTime": {
     "end_time": "2024-01-02T01:03:53.587340410Z",
     "start_time": "2024-01-02T01:03:50.732779025Z"
    },
    "collapsed": false
   },
   "outputs": [
    {
     "name": "stdout",
     "output_type": "stream",
     "text": [
      "alpha for Lasso: 0.0003\n"
     ]
    }
   ],
   "source": [
    "normalized_X, _ = normalize_data(X)\n",
    "normalized_Z, _ = normalize_data(Z)\n",
    "\n",
    "# Train regression model on the whole dataset to identify significant genes\n",
    "model1 = ResidualizationRegressor(model_constructor1, model_params1)\n",
    "model1.fit(normalized_X, Y, normalized_Z)\n",
    "\n",
    "model2 = ResidualizationRegressor(model_constructor2, model_params2)\n",
    "model2.fit(normalized_X, Y, normalized_Z)"
   ]
  },
  {
   "cell_type": "markdown",
   "metadata": {
    "ExecuteTime": {
     "end_time": "2023-10-14T04:50:59.072075075Z",
     "start_time": "2023-10-14T04:50:38.739499998Z"
    },
    "id": "EjJrxbvb4nlj"
   },
   "source": [
    "### 5. Discussion and report"
   ]
  },
  {
   "cell_type": "code",
   "execution_count": 59,
   "metadata": {
    "ExecuteTime": {
     "end_time": "2024-01-02T01:03:53.641570844Z",
     "start_time": "2024-01-02T01:03:53.627778553Z"
    },
    "collapsed": false
   },
   "outputs": [
    {
     "name": "stdout",
     "output_type": "stream",
     "text": [
      "Effect of the condition on the target variable:\n",
      "Variable: Age\n",
      "Coefficient: -0.2123\n",
      "Found 32 genes with non-zero coefficients associated with the trait 'Celiac-Disease' conditional on the factor 'Age'. These genes are identified as significant based on the regression model.\n",
      "Variable  Coefficient  Absolute Coefficient\n",
      "   TBX10    -4.236479              4.236479\n",
      "    BRI3     3.626726              3.626726\n",
      "    NOS2    -3.616521              3.616521\n",
      "   SAP30     3.596229              3.596229\n",
      "   PTRH2     3.436598              3.436598\n",
      "   NUBP1     3.335510              3.335510\n",
      "    LSM2     3.314344              3.314344\n",
      "     DBI     3.210807              3.210807\n",
      "   COPS6     3.063829              3.063829\n",
      "   MTHFS     2.597924              2.597924\n",
      "    GMNN     2.344937              2.344937\n",
      "   ISG20    -2.245319              2.245319\n",
      "     GIP     2.187603              2.187603\n",
      "  GIMAP8    -2.008777              2.008777\n",
      "  SLC2A3    -1.874839              1.874839\n",
      "   RRP7A    -1.577064              1.577064\n",
      "   SURF1     1.373865              1.373865\n",
      "     HK2    -1.295951              1.295951\n",
      "  ENOSF1     1.187864              1.187864\n",
      "  CCDC34     0.993416              0.993416\n",
      "   ITGA6    -0.890879              0.890879\n",
      "   ASF1B     0.879872              0.879872\n",
      "   RDH11     0.828834              0.828834\n",
      "    LDLR     0.825316              0.825316\n",
      "    DEF6    -0.787457              0.787457\n",
      " SLC12A2    -0.753282              0.753282\n",
      "  MAN2B2    -0.741644              0.741644\n",
      " MRPS18B     0.714720              0.714720\n",
      "  PFKFB3    -0.599165              0.599165\n",
      " SLCO2A1    -0.515486              0.515486\n",
      "  ZSWIM1     0.308216              0.308216\n",
      "    PIGV     0.245112              0.245112\n"
     ]
    },
    {
     "name": "stderr",
     "output_type": "stream",
     "text": [
      "/home/yxcheng/AI4Science_gold_standard/stage1/Yuxuan/../utils.py:469: SettingWithCopyWarning: \n",
      "A value is trying to be set on a copy of a slice from a DataFrame.\n",
      "Try using .loc[row_indexer,col_indexer] = value instead\n",
      "\n",
      "See the caveats in the documentation: https://pandas.pydata.org/pandas-docs/stable/user_guide/indexing.html#returning-a-view-versus-a-copy\n",
      "  gene_regression_df['Absolute Coefficient'] = gene_regression_df['Coefficient'].abs()\n"
     ]
    }
   ],
   "source": [
    "feature_cols = merged_data.columns.tolist()\n",
    "feature_cols.remove(TRAIT)\n",
    "\n",
    "threshold = 0.05\n",
    "interpret_result(model1, feature_cols, TRAIT, condition, threshold=threshold, save_output=True,\n",
    "                 output_dir=OUTPUT_DIR, model_id=1)"
   ]
  },
  {
   "cell_type": "code",
   "execution_count": 60,
   "metadata": {
    "collapsed": false
   },
   "outputs": [
    {
     "name": "stdout",
     "output_type": "stream",
     "text": [
      "Effect of the condition on the target variable:\n",
      "Variable: Age\n",
      "Coefficient: -0.2123\n",
      "Found 0 significant genes associated with the trait 'Celiac-Disease' conditional on the factor 'Age', with corrected p-value < 0.05:\n",
      "Empty DataFrame\n",
      "Columns: [Variable, Coefficient, p_value, corrected_p_value]\n",
      "Index: []\n"
     ]
    },
    {
     "name": "stderr",
     "output_type": "stream",
     "text": [
      "/home/yxcheng/AI4Science_gold_standard/stage1/Yuxuan/../utils.py:478: SettingWithCopyWarning: \n",
      "A value is trying to be set on a copy of a slice from a DataFrame.\n",
      "Try using .loc[row_indexer,col_indexer] = value instead\n",
      "\n",
      "See the caveats in the documentation: https://pandas.pydata.org/pandas-docs/stable/user_guide/indexing.html#returning-a-view-versus-a-copy\n",
      "  gene_regression_df.loc[:, 'corrected_p_value'] = corrected_p_values\n"
     ]
    }
   ],
   "source": [
    "\n",
    "interpret_result(model2, feature_cols, TRAIT, condition, threshold=threshold, save_output=True,\n",
    "                 output_dir=OUTPUT_DIR, model_id=2)"
   ]
  }
 ],
 "metadata": {
  "colab": {
   "provenance": []
  },
  "kernelspec": {
   "display_name": "Python 3 (ipykernel)",
   "language": "python",
   "name": "python3"
  },
  "language_info": {
   "codemirror_mode": {
    "name": "ipython",
    "version": 3
   },
   "file_extension": ".py",
   "mimetype": "text/x-python",
   "name": "python",
   "nbconvert_exporter": "python",
   "pygments_lexer": "ipython3",
   "version": "3.10.13"
  }
 },
 "nbformat": 4,
 "nbformat_minor": 0
}
