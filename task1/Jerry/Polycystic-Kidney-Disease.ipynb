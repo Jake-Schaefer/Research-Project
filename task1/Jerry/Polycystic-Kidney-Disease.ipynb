{
 "cells": [
  {
   "cell_type": "markdown",
   "metadata": {},
   "source": [
    "# Gold standard curation: Preprocessing and single-step regression"
   ]
  },
  {
   "cell_type": "markdown",
   "metadata": {},
   "source": [
    "In this stage of gold standard curation, we will do the data preprocessing, selection, and single-step regression for the 153 traits in our question set. This file shows the reference steps using the trait \"Breast Cancer\" as an example. The workflow consists of the following steps:\n",
    "\n",
    "1. Preprocess all the cohorts related to this trait. Each cohort should be converted to a tabular form and saved to a csv file, with columns being genetic factors, the trait, and age, gender if available;\n",
    "2. If there exists at least one cohort with age or gender information, conduct regression analysis with genetic features together with age or gender as the regressors.\n"
   ]
  },
  {
   "cell_type": "markdown",
   "metadata": {},
   "source": [
    "# 1. Basic setup"
   ]
  },
  {
   "cell_type": "code",
   "execution_count": 1,
   "metadata": {
    "ExecuteTime": {
     "end_time": "2023-12-31T21:19:07.313098989Z",
     "start_time": "2023-12-31T21:19:07.312718292Z"
    }
   },
   "outputs": [],
   "source": [
    "import os\n",
    "\n",
    "# Set your preferred name\n",
    "USER = \"Jinglin\"\n",
    "# Set the data and output directories\n",
    "DATA_ROOT = '../../DATA'\n",
    "OUTPUT_ROOT = '../../output1'\n",
    "TRAIT = 'Polycystic Kidney Disease'\n",
    "\n",
    "OUTPUT_DIR = os.path.join(OUTPUT_ROOT, USER, '-'.join(TRAIT.split()))\n",
    "JSON_PATH = os.path.join(OUTPUT_DIR, \"cohort_info.json\")\n",
    "if not os.path.exists(OUTPUT_DIR):\n",
    "    os.makedirs(OUTPUT_DIR, exist_ok=True)\n",
    "\n",
    "# Gene symbol normalization may take 1-2 minutes. You may set it to False for debugging.\n",
    "NORMALIZE_GENE = True"
   ]
  },
  {
   "cell_type": "code",
   "execution_count": 2,
   "metadata": {
    "ExecuteTime": {
     "end_time": "2023-12-31T21:19:07.680659936Z",
     "start_time": "2023-12-31T21:19:07.666959145Z"
    },
    "colab": {
     "base_uri": "https://localhost:8080/"
    },
    "id": "jMTdsU43vVg3",
    "outputId": "38886111-f442-44b4-8398-96bf384d7abd"
   },
   "outputs": [
    {
     "data": {
      "text/plain": [
       "\"import os\\nfrom google.colab import drive\\n\\ndrive.mount('/content/drive', force_remount=True)\\nproj_dir = '/content/drive/MyDrive/AI4Science_Public'\\nos.chdir(proj_dir)\""
      ]
     },
     "execution_count": 2,
     "metadata": {},
     "output_type": "execute_result"
    }
   ],
   "source": [
    "# This cell is only for use on Google Colab. Skip it if you run your code in other environments\n",
    "\n",
    "\"\"\"import os\n",
    "from google.colab import drive\n",
    "\n",
    "drive.mount('/content/drive', force_remount=True)\n",
    "proj_dir = '/content/drive/MyDrive/AI4Science_Public'\n",
    "os.chdir(proj_dir)\"\"\""
   ]
  },
  {
   "cell_type": "markdown",
   "metadata": {},
   "source": [
    "# 2. Data preprocessing and selection"
   ]
  },
  {
   "cell_type": "markdown",
   "metadata": {},
   "source": [
    "## 2.1. The TCGA Xena dataset"
   ]
  },
  {
   "cell_type": "markdown",
   "metadata": {},
   "source": [
    "In TCGA Xena, there is either zero or one cohort related to the trait. We search the names of subdirectories to see if any matches the trait. If a match is found, we directly obtain the file paths."
   ]
  },
  {
   "cell_type": "code",
   "execution_count": 3,
   "metadata": {},
   "outputs": [
    {
     "data": {
      "text/plain": [
       "['TCGA_Pancreatic_Cancer_(PAAD)',\n",
       " 'TCGA_Bladder_Cancer_(BLCA)',\n",
       " '.DS_Store',\n",
       " 'TCGA_Testicular_Cancer_(TGCT)',\n",
       " 'TCGA_Acute_Myeloid_Leukemia_(LAML)',\n",
       " 'TCGA_Breast_Cancer_(BRCA)',\n",
       " 'TCGA_Stomach_Cancer_(STAD)',\n",
       " 'TCGA_Thyroid_Cancer_(THCA)',\n",
       " 'TCGA_Glioblastoma_(GBM)']"
      ]
     },
     "execution_count": 3,
     "metadata": {},
     "output_type": "execute_result"
    }
   ],
   "source": [
    "import os\n",
    "from utils import *\n",
    "\n",
    "dataset = 'TCGA'\n",
    "dataset_dir = os.path.join(DATA_ROOT, dataset)\n",
    "os.listdir(dataset_dir)[:10]"
   ]
  },
  {
   "cell_type": "markdown",
   "metadata": {},
   "source": [
    "If no match is found, jump directly to GEO in Part 2.2"
   ]
  },
  {
   "cell_type": "code",
   "execution_count": 5,
   "metadata": {
    "ExecuteTime": {
     "end_time": "2023-12-31T21:19:09.918243934Z",
     "start_time": "2023-12-31T21:19:09.909021135Z"
    }
   },
   "outputs": [],
   "source": [
    "trait_subdir = \"TCGA_Thyroid_Cancer_(THCA)\"\n",
    "cohort = 'Xena'\n",
    "# All the cancer traits in Xena are binary\n",
    "trait_type = 'binary'\n",
    "# Once a relevant cohort is found in Xena, we can generally assume the gene and clinical data are available\n",
    "is_available = True\n",
    "\n",
    "clinical_data_file = os.path.join(dataset_dir, trait_subdir, 'TCGA.THCA.sampleMap_THCA_clinicalMatrix')\n",
    "genetic_data_file = os.path.join(dataset_dir, trait_subdir, 'TCGA.THCA.sampleMap_HiSeqV2_PANCAN.gz')"
   ]
  },
  {
   "cell_type": "code",
   "execution_count": 6,
   "metadata": {
    "ExecuteTime": {
     "end_time": "2023-12-31T21:19:13.613198409Z",
     "start_time": "2023-12-31T21:19:10.409688003Z"
    },
    "id": "MudwB-_iz7sc"
   },
   "outputs": [],
   "source": [
    "import pandas as pd\n",
    "\n",
    "clinical_data = pd.read_csv(clinical_data_file, sep='\\t', index_col=0)\n",
    "genetic_data = pd.read_csv(genetic_data_file, compression='gzip', sep='\\t', index_col=0)\n",
    "age_col = gender_col = None"
   ]
  },
  {
   "cell_type": "code",
   "execution_count": 7,
   "metadata": {
    "ExecuteTime": {
     "end_time": "2023-12-31T21:19:13.617006167Z",
     "start_time": "2023-12-31T21:19:13.614080653Z"
    }
   },
   "outputs": [],
   "source": [
    "_, clinical_data_cols = check_rows_and_columns(clinical_data)"
   ]
  },
  {
   "cell_type": "code",
   "execution_count": 8,
   "metadata": {
    "ExecuteTime": {
     "end_time": "2023-12-31T21:19:13.661538569Z",
     "start_time": "2023-12-31T21:19:13.615946213Z"
    }
   },
   "outputs": [
    {
     "data": {
      "text/plain": [
       "['_INTEGRATION',\n",
       " '_PATIENT',\n",
       " '_cohort',\n",
       " '_primary_disease',\n",
       " '_primary_site',\n",
       " 'additional_pharmaceutical_therapy',\n",
       " 'additional_radiation_therapy',\n",
       " 'additional_surgery_locoregional_procedure',\n",
       " 'age_at_initial_pathologic_diagnosis',\n",
       " 'bcr_followup_barcode']"
      ]
     },
     "execution_count": 8,
     "metadata": {},
     "output_type": "execute_result"
    }
   ],
   "source": [
    "clinical_data_cols[:10]"
   ]
  },
  {
   "cell_type": "markdown",
   "metadata": {
    "ExecuteTime": {
     "end_time": "2023-12-28T20:20:11.841042813Z",
     "start_time": "2023-12-28T20:20:11.834458206Z"
    }
   },
   "source": [
    "Read all the column names in the clinical dataset, to find the columns that record information about age or gender.\n",
    "Reference prompt:"
   ]
  },
  {
   "cell_type": "code",
   "execution_count": 9,
   "metadata": {
    "ExecuteTime": {
     "end_time": "2023-12-31T21:19:13.661858700Z",
     "start_time": "2023-12-31T21:19:13.656749487Z"
    }
   },
   "outputs": [
    {
     "data": {
      "text/plain": [
       "\"\\nBelow is a list of column names from a biomedical dataset. Please examine it and identify the columns that are likely to contain information about patients' age. Additionally, please do the same for columns that may hold data on patients' gender. Please provide your answer by strictly following this format, without redundant words:\\ncandidate_age_cols = [col_name1, col_name2, ...]\\ncandidate_gender_cols = [col_name1, col_name2, ...]\\nIf no columns match a criterion, please provide an empty list.\\n\\nColumn names:\\n['_INTEGRATION', '_PATIENT', '_cohort', '_primary_disease', '_primary_site', 'additional_pharmaceutical_therapy', 'additional_radiation_therapy', 'additional_surgery_locoregional_procedure', 'age_at_initial_pathologic_diagnosis', 'bcr_followup_barcode', 'bcr_patient_barcode', 'bcr_sample_barcode', 'braf_gene_genotyping_outcome_lab_results_text', 'days_to_additional_surgery_metastatic_procedure', 'days_to_birth', 'days_to_collection', 'days_to_death', 'days_to_initial_pathologic_diagnosis', 'days_to_last_followup', 'days_to_new_tumor_event_additional_surgery_procedure', 'days_to_new_tumor_event_after_initial_treatment', 'extrathyroid_carcinoma_present_extension_status', 'first_degree_relative_history_thyrd_glnd_crcnm_dgnss_rltnshp_typ', 'followup_case_report_form_submission_reason', 'form_completion_date', 'gender', 'genotype_analysis_performed_indicator', 'genotyping_results_gene_mutation_not_reported_reason', 'histologic_disease_progression_present_indicator', 'histologic_disease_progression_present_type', 'histological_type', 'histological_type_other', 'history_of_neoadjuvant_treatment', 'i_131_first_administered_dose', 'i_131_subsequent_administered_dose', 'i_131_total_administered_dose', 'i_131_total_administered_preparation_technique', 'icd_10', 'icd_o_3_histology', 'icd_o_3_site', 'informed_consent_verified', 'initial_weight', 'is_ffpe', 'lost_follow_up', 'lymph_node_examined_count', 'lymph_node_preoperative_assessment_diagnostic_imaging_type', 'lymph_node_preoperative_scan_indicator', 'metastatic_neoplasm_confirmed_diagnosis_method_name', 'metastatic_neoplasm_confirmed_diagnosis_method_text', 'metastatic_site', 'neoplasm_depth', 'new_neoplasm_confirmed_diagnosis_method_name', 'new_neoplasm_event_occurrence_anatomic_site', 'new_neoplasm_event_type', 'new_neoplasm_occurrence_anatomic_site_text', 'new_tumor_event_additional_surgery_procedure', 'new_tumor_event_after_initial_treatment', 'number_of_lymphnodes_positive_by_he', 'oct_embedded', 'other_dx', 'other_genotyping_outcome_lab_results_text', 'other_metastatic_site', 'pathologic_M', 'pathologic_N', 'pathologic_T', 'pathologic_stage', 'pathology_report_file_name', 'patient_id', 'patient_personal_medical_history_thyroid_gland_disorder_name', 'patient_personal_medical_history_thyroid_other_specify_text', 'person_lifetime_risk_radiation_exposure_indicator', 'person_neoplasm_cancer_status', 'post_surgical_procedure_assessment_thyroid_gland_carcinoma_stats', 'postoperative_rx_tx', 'primary_lymph_node_presentation_assessment', 'primary_neoplasm_focus_type', 'primary_thyroid_gland_neoplasm_location_anatomic_site', 'radiation_therapy', 'radiation_therapy_administered_dose_text', 'radiation_therapy_administered_preparation_technique_text', 'radiosensitizing_agent_administered_indicator', 'ras_family_gene_genotyping_outcome_lab_results_text', 'residual_tumor', 'ret_ptc_rearrangement_genotyping_outcome_lab_results_text', 'sample_type', 'sample_type_id', 'system_version', 'targeted_molecular_therapy', 'therapeutic_procedure_new_neoplasm_required_additional_thrpy_typ', 'thyroid_gland_carcinoma_involvement_regional_lymph_node_type', 'tissue_prospective_collection_indicator', 'tissue_retrospective_collection_indicator', 'tissue_source_site', 'tumor_tissue_site', 'vial_number', 'vital_status', 'year_of_initial_pathologic_diagnosis', '_GENOMIC_ID_TCGA_THCA_exp_HiSeqV2_percentile', '_GENOMIC_ID_TCGA_THCA_hMethyl450', '_GENOMIC_ID_TCGA_THCA_mutation_bcm_gene', '_GENOMIC_ID_TCGA_THCA_RPPA', '_GENOMIC_ID_TCGA_THCA_exp_HiSeqV2', '_GENOMIC_ID_TCGA_THCA_gistic2', '_GENOMIC_ID_TCGA_THCA_PDMRNAseqCNV', '_GENOMIC_ID_TCGA_THCA_mutation_bcgsc_gene', '_GENOMIC_ID_TCGA_THCA_mutation', '_GENOMIC_ID_TCGA_THCA_PDMRNAseq', '_GENOMIC_ID_TCGA_THCA_mutation_broad_gene', '_GENOMIC_ID_TCGA_THCA_exp_HiSeqV2_exon', '_GENOMIC_ID_TCGA_THCA_miRNA_HiSeq', '_GENOMIC_ID_TCGA_THCA_exp_HiSeqV2_PANCAN', '_GENOMIC_ID_data/public/TCGA/THCA/miRNA_HiSeq_gene', '_GENOMIC_ID_TCGA_THCA_gistic2thd']\\n\""
      ]
     },
     "execution_count": 9,
     "metadata": {},
     "output_type": "execute_result"
    }
   ],
   "source": [
    "f'''\n",
    "Below is a list of column names from a biomedical dataset. Please examine it and identify the columns that are likely to contain information about patients' age. Additionally, please do the same for columns that may hold data on patients' gender. Please provide your answer by strictly following this format, without redundant words:\n",
    "candidate_age_cols = [col_name1, col_name2, ...]\n",
    "candidate_gender_cols = [col_name1, col_name2, ...]\n",
    "If no columns match a criterion, please provide an empty list.\n",
    "\n",
    "Column names:\n",
    "{clinical_data_cols}\n",
    "'''"
   ]
  },
  {
   "cell_type": "code",
   "execution_count": 12,
   "metadata": {
    "ExecuteTime": {
     "end_time": "2023-12-31T21:19:13.661938833Z",
     "start_time": "2023-12-31T21:19:13.656901848Z"
    }
   },
   "outputs": [],
   "source": [
    "candidate_age_cols = ['age_at_initial_pathologic_diagnosis',\n",
    "                      'days_to_birth']\n",
    "candidate_gender_cols = ['gender']"
   ]
  },
  {
   "cell_type": "markdown",
   "metadata": {
    "ExecuteTime": {
     "end_time": "2023-12-31T03:57:44.207565572Z",
     "start_time": "2023-12-31T03:57:44.202177544Z"
    }
   },
   "source": [
    "Choose a single column from the candidate columns that record age and gender information respectively.\n",
    "If no column meets the requirement, keep 'age_col' or 'gender_col' to None"
   ]
  },
  {
   "cell_type": "code",
   "execution_count": 13,
   "metadata": {
    "ExecuteTime": {
     "end_time": "2023-12-31T21:19:13.662078139Z",
     "start_time": "2023-12-31T21:19:13.657006017Z"
    }
   },
   "outputs": [
    {
     "data": {
      "text/plain": [
       "{'age_at_initial_pathologic_diagnosis': [74, 65, 55, 57, 33],\n",
       " 'days_to_birth': [-27348, -24102, -20361, -21008, -12295]}"
      ]
     },
     "execution_count": 13,
     "metadata": {},
     "output_type": "execute_result"
    }
   ],
   "source": [
    "preview_df(clinical_data[candidate_age_cols])"
   ]
  },
  {
   "cell_type": "code",
   "execution_count": 16,
   "metadata": {
    "ExecuteTime": {
     "end_time": "2023-12-31T21:19:13.777159137Z",
     "start_time": "2023-12-31T21:19:13.756210135Z"
    }
   },
   "outputs": [],
   "source": [
    "age_col = 'age_at_initial_pathologic_diagnosis'"
   ]
  },
  {
   "cell_type": "code",
   "execution_count": 17,
   "metadata": {
    "ExecuteTime": {
     "end_time": "2023-12-31T21:19:14.313425023Z",
     "start_time": "2023-12-31T21:19:14.305221062Z"
    }
   },
   "outputs": [
    {
     "data": {
      "text/plain": [
       "{'gender': ['FEMALE', 'MALE', 'MALE', 'MALE', 'FEMALE']}"
      ]
     },
     "execution_count": 17,
     "metadata": {},
     "output_type": "execute_result"
    }
   ],
   "source": [
    "preview_df(clinical_data[candidate_gender_cols])"
   ]
  },
  {
   "cell_type": "code",
   "execution_count": 18,
   "metadata": {
    "ExecuteTime": {
     "end_time": "2023-12-31T21:19:14.852502962Z",
     "start_time": "2023-12-31T21:19:14.845153121Z"
    }
   },
   "outputs": [],
   "source": [
    "gender_col = 'gender'"
   ]
  },
  {
   "cell_type": "code",
   "execution_count": 19,
   "metadata": {
    "ExecuteTime": {
     "end_time": "2023-12-31T21:19:15.246065025Z",
     "start_time": "2023-12-31T21:19:15.240279162Z"
    }
   },
   "outputs": [],
   "source": [
    "selected_clinical_data = xena_select_clinical_features(clinical_data, TRAIT, age_col, gender_col)"
   ]
  },
  {
   "cell_type": "code",
   "execution_count": 20,
   "metadata": {
    "ExecuteTime": {
     "end_time": "2023-12-31T21:19:15.593478652Z",
     "start_time": "2023-12-31T21:19:15.583841656Z"
    }
   },
   "outputs": [],
   "source": [
    "if NORMALIZE_GENE:\n",
    "    genetic_data = normalize_gene_symbols_in_index(genetic_data)"
   ]
  },
  {
   "cell_type": "code",
   "execution_count": 21,
   "metadata": {
    "ExecuteTime": {
     "end_time": "2023-12-31T21:19:16.074598194Z",
     "start_time": "2023-12-31T21:19:15.973600157Z"
    }
   },
   "outputs": [
    {
     "data": {
      "text/html": [
       "<div>\n",
       "<style scoped>\n",
       "    .dataframe tbody tr th:only-of-type {\n",
       "        vertical-align: middle;\n",
       "    }\n",
       "\n",
       "    .dataframe tbody tr th {\n",
       "        vertical-align: top;\n",
       "    }\n",
       "\n",
       "    .dataframe thead th {\n",
       "        text-align: right;\n",
       "    }\n",
       "</style>\n",
       "<table border=\"1\" class=\"dataframe\">\n",
       "  <thead>\n",
       "    <tr style=\"text-align: right;\">\n",
       "      <th></th>\n",
       "      <th>Thyroid Cancer</th>\n",
       "      <th>Age</th>\n",
       "      <th>Gender</th>\n",
       "      <th>ARHGEF10L</th>\n",
       "      <th>HIF3A</th>\n",
       "      <th>RNF17</th>\n",
       "      <th>RNF10</th>\n",
       "      <th>RNF11</th>\n",
       "      <th>RNF13</th>\n",
       "      <th>GTF2IP1</th>\n",
       "      <th>...</th>\n",
       "      <th>TULP2</th>\n",
       "      <th>NPY5R</th>\n",
       "      <th>GNGT2</th>\n",
       "      <th>GNGT1</th>\n",
       "      <th>TULP3</th>\n",
       "      <th>PTRF</th>\n",
       "      <th>BCL6B</th>\n",
       "      <th>GSTK1</th>\n",
       "      <th>SELP</th>\n",
       "      <th>SELS</th>\n",
       "    </tr>\n",
       "    <tr>\n",
       "      <th>sampleID</th>\n",
       "      <th></th>\n",
       "      <th></th>\n",
       "      <th></th>\n",
       "      <th></th>\n",
       "      <th></th>\n",
       "      <th></th>\n",
       "      <th></th>\n",
       "      <th></th>\n",
       "      <th></th>\n",
       "      <th></th>\n",
       "      <th></th>\n",
       "      <th></th>\n",
       "      <th></th>\n",
       "      <th></th>\n",
       "      <th></th>\n",
       "      <th></th>\n",
       "      <th></th>\n",
       "      <th></th>\n",
       "      <th></th>\n",
       "      <th></th>\n",
       "      <th></th>\n",
       "    </tr>\n",
       "  </thead>\n",
       "  <tbody>\n",
       "    <tr>\n",
       "      <th>TCGA-4C-A93U-01</th>\n",
       "      <td>1</td>\n",
       "      <td>74</td>\n",
       "      <td>0</td>\n",
       "      <td>-0.767592</td>\n",
       "      <td>-1.742926</td>\n",
       "      <td>-0.531035</td>\n",
       "      <td>-0.067972</td>\n",
       "      <td>0.265922</td>\n",
       "      <td>-0.13531</td>\n",
       "      <td>0.440006</td>\n",
       "      <td>...</td>\n",
       "      <td>-0.748878</td>\n",
       "      <td>-1.018517</td>\n",
       "      <td>0.205567</td>\n",
       "      <td>-1.28139</td>\n",
       "      <td>0.395523</td>\n",
       "      <td>1.735414</td>\n",
       "      <td>0.945273</td>\n",
       "      <td>-0.186695</td>\n",
       "      <td>4.024767</td>\n",
       "      <td>-0.273612</td>\n",
       "    </tr>\n",
       "    <tr>\n",
       "      <th>TCGA-BJ-A0YZ-01</th>\n",
       "      <td>1</td>\n",
       "      <td>65</td>\n",
       "      <td>1</td>\n",
       "      <td>1.766308</td>\n",
       "      <td>0.273374</td>\n",
       "      <td>-0.531035</td>\n",
       "      <td>0.790028</td>\n",
       "      <td>1.209322</td>\n",
       "      <td>0.01229</td>\n",
       "      <td>0.704606</td>\n",
       "      <td>...</td>\n",
       "      <td>0.125322</td>\n",
       "      <td>1.568883</td>\n",
       "      <td>0.626367</td>\n",
       "      <td>2.38101</td>\n",
       "      <td>0.275823</td>\n",
       "      <td>1.820014</td>\n",
       "      <td>2.140073</td>\n",
       "      <td>1.380405</td>\n",
       "      <td>1.257367</td>\n",
       "      <td>-0.174312</td>\n",
       "    </tr>\n",
       "    <tr>\n",
       "      <th>TCGA-BJ-A0Z0-01</th>\n",
       "      <td>1</td>\n",
       "      <td>55</td>\n",
       "      <td>1</td>\n",
       "      <td>0.986808</td>\n",
       "      <td>-2.165726</td>\n",
       "      <td>-0.050935</td>\n",
       "      <td>0.051428</td>\n",
       "      <td>0.979522</td>\n",
       "      <td>0.48229</td>\n",
       "      <td>0.090106</td>\n",
       "      <td>...</td>\n",
       "      <td>-0.748878</td>\n",
       "      <td>-0.747417</td>\n",
       "      <td>-0.931133</td>\n",
       "      <td>-1.28139</td>\n",
       "      <td>-0.222077</td>\n",
       "      <td>0.293414</td>\n",
       "      <td>0.725173</td>\n",
       "      <td>-0.254095</td>\n",
       "      <td>0.530667</td>\n",
       "      <td>-0.430812</td>\n",
       "    </tr>\n",
       "    <tr>\n",
       "      <th>TCGA-BJ-A0Z2-01</th>\n",
       "      <td>1</td>\n",
       "      <td>57</td>\n",
       "      <td>1</td>\n",
       "      <td>0.767208</td>\n",
       "      <td>-1.623626</td>\n",
       "      <td>-0.531035</td>\n",
       "      <td>0.182228</td>\n",
       "      <td>0.541622</td>\n",
       "      <td>0.65889</td>\n",
       "      <td>0.647206</td>\n",
       "      <td>...</td>\n",
       "      <td>-0.748878</td>\n",
       "      <td>-1.587117</td>\n",
       "      <td>-1.292433</td>\n",
       "      <td>-1.28139</td>\n",
       "      <td>-0.602177</td>\n",
       "      <td>0.134114</td>\n",
       "      <td>0.894473</td>\n",
       "      <td>-0.380395</td>\n",
       "      <td>-2.502833</td>\n",
       "      <td>0.360588</td>\n",
       "    </tr>\n",
       "    <tr>\n",
       "      <th>TCGA-BJ-A0Z3-01</th>\n",
       "      <td>1</td>\n",
       "      <td>33</td>\n",
       "      <td>0</td>\n",
       "      <td>-0.287292</td>\n",
       "      <td>-1.766626</td>\n",
       "      <td>-0.531035</td>\n",
       "      <td>0.059628</td>\n",
       "      <td>0.920522</td>\n",
       "      <td>0.21849</td>\n",
       "      <td>0.336106</td>\n",
       "      <td>...</td>\n",
       "      <td>-0.413778</td>\n",
       "      <td>1.111583</td>\n",
       "      <td>1.158867</td>\n",
       "      <td>-1.28139</td>\n",
       "      <td>0.003723</td>\n",
       "      <td>1.240514</td>\n",
       "      <td>0.924373</td>\n",
       "      <td>-0.143495</td>\n",
       "      <td>2.613367</td>\n",
       "      <td>-0.030012</td>\n",
       "    </tr>\n",
       "  </tbody>\n",
       "</table>\n",
       "<p>5 rows × 20533 columns</p>\n",
       "</div>"
      ],
      "text/plain": [
       "                 Thyroid Cancer  Age  Gender  ARHGEF10L     HIF3A     RNF17  \\\n",
       "sampleID                                                                      \n",
       "TCGA-4C-A93U-01               1   74       0  -0.767592 -1.742926 -0.531035   \n",
       "TCGA-BJ-A0YZ-01               1   65       1   1.766308  0.273374 -0.531035   \n",
       "TCGA-BJ-A0Z0-01               1   55       1   0.986808 -2.165726 -0.050935   \n",
       "TCGA-BJ-A0Z2-01               1   57       1   0.767208 -1.623626 -0.531035   \n",
       "TCGA-BJ-A0Z3-01               1   33       0  -0.287292 -1.766626 -0.531035   \n",
       "\n",
       "                    RNF10     RNF11    RNF13   GTF2IP1  ...     TULP2  \\\n",
       "sampleID                                                ...             \n",
       "TCGA-4C-A93U-01 -0.067972  0.265922 -0.13531  0.440006  ... -0.748878   \n",
       "TCGA-BJ-A0YZ-01  0.790028  1.209322  0.01229  0.704606  ...  0.125322   \n",
       "TCGA-BJ-A0Z0-01  0.051428  0.979522  0.48229  0.090106  ... -0.748878   \n",
       "TCGA-BJ-A0Z2-01  0.182228  0.541622  0.65889  0.647206  ... -0.748878   \n",
       "TCGA-BJ-A0Z3-01  0.059628  0.920522  0.21849  0.336106  ... -0.413778   \n",
       "\n",
       "                    NPY5R     GNGT2    GNGT1     TULP3      PTRF     BCL6B  \\\n",
       "sampleID                                                                     \n",
       "TCGA-4C-A93U-01 -1.018517  0.205567 -1.28139  0.395523  1.735414  0.945273   \n",
       "TCGA-BJ-A0YZ-01  1.568883  0.626367  2.38101  0.275823  1.820014  2.140073   \n",
       "TCGA-BJ-A0Z0-01 -0.747417 -0.931133 -1.28139 -0.222077  0.293414  0.725173   \n",
       "TCGA-BJ-A0Z2-01 -1.587117 -1.292433 -1.28139 -0.602177  0.134114  0.894473   \n",
       "TCGA-BJ-A0Z3-01  1.111583  1.158867 -1.28139  0.003723  1.240514  0.924373   \n",
       "\n",
       "                    GSTK1      SELP      SELS  \n",
       "sampleID                                       \n",
       "TCGA-4C-A93U-01 -0.186695  4.024767 -0.273612  \n",
       "TCGA-BJ-A0YZ-01  1.380405  1.257367 -0.174312  \n",
       "TCGA-BJ-A0Z0-01 -0.254095  0.530667 -0.430812  \n",
       "TCGA-BJ-A0Z2-01 -0.380395 -2.502833  0.360588  \n",
       "TCGA-BJ-A0Z3-01 -0.143495  2.613367 -0.030012  \n",
       "\n",
       "[5 rows x 20533 columns]"
      ]
     },
     "execution_count": 21,
     "metadata": {},
     "output_type": "execute_result"
    }
   ],
   "source": [
    "merged_data = selected_clinical_data.join(genetic_data.T).dropna()\n",
    "merged_data.head()"
   ]
  },
  {
   "cell_type": "code",
   "execution_count": 22,
   "metadata": {
    "ExecuteTime": {
     "end_time": "2023-12-31T21:19:16.341121723Z",
     "start_time": "2023-12-31T21:19:16.330544222Z"
    }
   },
   "outputs": [
    {
     "name": "stdout",
     "output_type": "stream",
     "text": [
      "The merged dataset contains 572 samples.\n"
     ]
    }
   ],
   "source": [
    "print(f\"The merged dataset contains {len(merged_data)} samples.\")"
   ]
  },
  {
   "cell_type": "code",
   "execution_count": 23,
   "metadata": {
    "ExecuteTime": {
     "end_time": "2023-12-31T21:19:17.222505900Z",
     "start_time": "2023-12-31T21:19:17.218781412Z"
    }
   },
   "outputs": [
    {
     "name": "stdout",
     "output_type": "stream",
     "text": [
      "For the feature 'Thyroid Cancer', the least common label is '0' with 59 occurrences. This represents 10.31% of the dataset.\n",
      "The distribution of the feature 'Thyroid Cancer' in this dataset is fine.\n",
      "\n",
      "Quartiles for 'Age':\n",
      "  25%: 34.0\n",
      "  50% (Median): 46.0\n",
      "  75%: 58.0\n",
      "Min: 15\n",
      "Max: 89\n",
      "The distribution of the feature 'Age' in this dataset is fine.\n",
      "\n",
      "For the feature 'Gender', the least common label is '1' with 157 occurrences. This represents 27.45% of the dataset.\n",
      "The distribution of the feature 'Gender' in this dataset is fine.\n",
      "\n"
     ]
    },
    {
     "data": {
      "text/plain": [
       "False"
      ]
     },
     "execution_count": 23,
     "metadata": {},
     "output_type": "execute_result"
    }
   ],
   "source": [
    "is_trait_biased, merge_data = judge_and_remove_biased_features(merged_data, TRAIT, trait_type=trait_type)\n",
    "is_trait_biased"
   ]
  },
  {
   "cell_type": "code",
   "execution_count": 24,
   "metadata": {
    "ExecuteTime": {
     "end_time": "2023-12-31T21:19:35.401536463Z",
     "start_time": "2023-12-31T21:19:17.980683628Z"
    }
   },
   "outputs": [],
   "source": [
    "merged_data.head()\n",
    "if not is_trait_biased:\n",
    "    merge_data.to_csv(os.path.join(OUTPUT_DIR, cohort+'.csv'), index=False)"
   ]
  },
  {
   "cell_type": "code",
   "execution_count": 25,
   "metadata": {
    "ExecuteTime": {
     "end_time": "2023-12-31T21:19:35.405288661Z",
     "start_time": "2023-12-31T21:19:35.402799553Z"
    }
   },
   "outputs": [
    {
     "name": "stdout",
     "output_type": "stream",
     "text": [
      "A new JSON file was created at: ../../output1/Jinglin/Thyroid-Cancer/cohort_info.json\n"
     ]
    }
   ],
   "source": [
    "save_cohort_info(cohort, JSON_PATH, is_available, is_trait_biased, merged_data)"
   ]
  },
  {
   "cell_type": "markdown",
   "metadata": {
    "ExecuteTime": {
     "end_time": "2023-12-28T21:28:38.028916303Z",
     "start_time": "2023-12-28T21:28:38.016245426Z"
    }
   },
   "source": [
    "## 2.2. The GEO dataset"
   ]
  },
  {
   "cell_type": "markdown",
   "metadata": {
    "ExecuteTime": {
     "end_time": "2023-12-31T03:25:23.253882615Z",
     "start_time": "2023-12-31T03:25:23.244062710Z"
    }
   },
   "source": [
    "In GEO, there may be one or multiple cohorts for a trait. Each cohort is identified by an accession number. We iterate over all accession numbers in the corresponding subdirectory, preprocess the cohort data, and save them to csv files."
   ]
  },
  {
   "cell_type": "code",
   "execution_count": 4,
   "metadata": {
    "ExecuteTime": {
     "end_time": "2023-12-31T21:19:35.411177575Z",
     "start_time": "2023-12-31T21:19:35.405710636Z"
    }
   },
   "outputs": [
    {
     "data": {
      "text/plain": [
       "['.DS_Store', 'GSE74451', 'GSE74453']"
      ]
     },
     "execution_count": 4,
     "metadata": {},
     "output_type": "execute_result"
    }
   ],
   "source": [
    "dataset = 'GEO'\n",
    "trait_subdir = \"Polycystic-Kidney-Disease\"\n",
    "\n",
    "trait_path = os.path.join(DATA_ROOT, dataset, trait_subdir)\n",
    "os.listdir(trait_path)"
   ]
  },
  {
   "cell_type": "markdown",
   "metadata": {
    "ExecuteTime": {
     "end_time": "2023-12-31T03:39:42.634870142Z",
     "start_time": "2023-12-31T03:39:42.534093295Z"
    }
   },
   "source": [
    "Repeat the below steps for all the accession numbers"
   ]
  },
  {
   "cell_type": "code",
   "execution_count": 33,
   "metadata": {
    "ExecuteTime": {
     "end_time": "2023-12-31T21:19:35.413836016Z",
     "start_time": "2023-12-31T21:19:35.410443976Z"
    }
   },
   "outputs": [
    {
     "data": {
      "text/plain": [
       "('../../DATA/GEO/Polycystic-Kidney-Disease/GSE74451/GSE74451_family.soft.gz',\n",
       " '../../DATA/GEO/Polycystic-Kidney-Disease/GSE74451/GSE74451_series_matrix.txt.gz')"
      ]
     },
     "execution_count": 33,
     "metadata": {},
     "output_type": "execute_result"
    }
   ],
   "source": [
    "cohort = accession_num = \"GSE74451\"\n",
    "cohort_dir = os.path.join(trait_path, accession_num)\n",
    "soft_file, matrix_file = get_relevant_filepaths(cohort_dir)\n",
    "soft_file, matrix_file"
   ]
  },
  {
   "cell_type": "markdown",
   "metadata": {},
   "source": [
    "### Inital filtering and clinical data preprocessing"
   ]
  },
  {
   "cell_type": "code",
   "execution_count": 34,
   "metadata": {
    "ExecuteTime": {
     "end_time": "2023-12-31T21:19:35.492119842Z",
     "start_time": "2023-12-31T21:19:35.413383102Z"
    }
   },
   "outputs": [
    {
     "name": "stdout",
     "output_type": "stream",
     "text": [
      "!Series_title\t\"Identification of a novel risk factor for intracranial aneurysms in ADPKD using iPSC models [Agilent]\"\n",
      "!Series_summary\t\"Cardiovascular complications are the leading cause of death in autosomal dominant polycystic kidney disease (ADPKD), and intracranial aneurysm (ICA) causing subarachnoid hemorrhage is among the most serious complications. The diagnostic and therapeutic strategies for ICAs in ADPKD have not been fully established. We here generated induced pluripotent stem cells (iPSCs) from seven ADPKD patients, including four with ICAs. The vascular cells differentiated from ADPKD-iPSCs showed altered Ca2+ entry and gene expression profiles compared with those from control-iPSCs. We found that the expression level of a metalloenzyme gene, matrix metalloproteinase (MMP) 1, was specifically elevated in the iPSC-derived endothelia from ADPKD patients with ICAs. Furthermore, we confirmed a statistically significant correlation between the serum MMP1 levels and the development of ICAs in 354 ADPKD patients, indicating that the serum MMP1 levels may be a novel risk factor and become more beneficial when combined with other risk factors. These results suggest that cellular disease models with ADPKD-specific iPSCs can be used to study the disease mechanisms and to identify novel disease-related molecules or risk factors.\"\n",
      "!Series_overall_design\t\"The gene expression profiles of vascular endothelia and smooth muscle cells derived from control- and ADPKD-iPSCs were analyzed. Seven control-iPSC derived endothelial cells (ECs), seven ADPKD-iPSC derived ECs, ten control-iPSC derived vascular smooth muscle cells (SMCs), and seven ADPKD-iPSC derived SMCs were analyzed.\"\n"
     ]
    }
   ],
   "source": [
    "background_prefixes = ['!Series_title', '!Series_summary', '!Series_overall_design']\n",
    "clinical_prefixes = ['!Sample_geo_accession', '!Sample_characteristics_ch1']\n",
    "\n",
    "background_info, clinical_data = get_background_and_clinical_data(matrix_file, background_prefixes, clinical_prefixes)\n",
    "print(background_info)"
   ]
  },
  {
   "cell_type": "code",
   "execution_count": 35,
   "metadata": {
    "ExecuteTime": {
     "end_time": "2023-12-31T21:19:35.507840422Z",
     "start_time": "2023-12-31T21:19:35.451789107Z"
    }
   },
   "outputs": [
    {
     "data": {
      "text/html": [
       "<div>\n",
       "<style scoped>\n",
       "    .dataframe tbody tr th:only-of-type {\n",
       "        vertical-align: middle;\n",
       "    }\n",
       "\n",
       "    .dataframe tbody tr th {\n",
       "        vertical-align: top;\n",
       "    }\n",
       "\n",
       "    .dataframe thead th {\n",
       "        text-align: right;\n",
       "    }\n",
       "</style>\n",
       "<table border=\"1\" class=\"dataframe\">\n",
       "  <thead>\n",
       "    <tr style=\"text-align: right;\">\n",
       "      <th></th>\n",
       "      <th>!Sample_geo_accession</th>\n",
       "      <th>GSM1920920</th>\n",
       "      <th>GSM1920921</th>\n",
       "      <th>GSM1920922</th>\n",
       "      <th>GSM1920923</th>\n",
       "      <th>GSM1920924</th>\n",
       "      <th>GSM1920925</th>\n",
       "      <th>GSM1920926</th>\n",
       "      <th>GSM1920927</th>\n",
       "      <th>GSM1920928</th>\n",
       "      <th>...</th>\n",
       "      <th>GSM1920941</th>\n",
       "      <th>GSM1920942</th>\n",
       "      <th>GSM1920943</th>\n",
       "      <th>GSM1920944</th>\n",
       "      <th>GSM1920945</th>\n",
       "      <th>GSM1920946</th>\n",
       "      <th>GSM1920947</th>\n",
       "      <th>GSM1920948</th>\n",
       "      <th>GSM1920949</th>\n",
       "      <th>GSM1920950</th>\n",
       "    </tr>\n",
       "  </thead>\n",
       "  <tbody>\n",
       "    <tr>\n",
       "      <th>0</th>\n",
       "      <td>!Sample_characteristics_ch1</td>\n",
       "      <td>subject/sample source id: TIG114 4F1</td>\n",
       "      <td>subject/sample source id: TIG118 4F1</td>\n",
       "      <td>subject/sample source id: TIG119 4F1</td>\n",
       "      <td>subject/sample source id: TIG121 4F4</td>\n",
       "      <td>subject/sample source id: TIG975E4</td>\n",
       "      <td>subject/sample source id: 585A1</td>\n",
       "      <td>subject/sample source id: 585B1</td>\n",
       "      <td>subject/sample source id: TIG114 4F1</td>\n",
       "      <td>subject/sample source id: TIG118 4F1</td>\n",
       "      <td>...</td>\n",
       "      <td>subject/sample source id: CiRA00008</td>\n",
       "      <td>subject/sample source id: CiRA00009</td>\n",
       "      <td>subject/sample source id: CiRA00010</td>\n",
       "      <td>subject/sample source id: CiRA00004</td>\n",
       "      <td>subject/sample source id: CiRA00005</td>\n",
       "      <td>subject/sample source id: CiRA00006</td>\n",
       "      <td>subject/sample source id: CiRA00007</td>\n",
       "      <td>subject/sample source id: CiRA00008</td>\n",
       "      <td>subject/sample source id: CiRA00009</td>\n",
       "      <td>subject/sample source id: CiRA00010</td>\n",
       "    </tr>\n",
       "    <tr>\n",
       "      <th>1</th>\n",
       "      <td>!Sample_characteristics_ch1</td>\n",
       "      <td>subject status: healthy control</td>\n",
       "      <td>subject status: healthy control</td>\n",
       "      <td>subject status: healthy control</td>\n",
       "      <td>subject status: healthy control</td>\n",
       "      <td>subject status: healthy control</td>\n",
       "      <td>subject status: healthy control</td>\n",
       "      <td>subject status: healthy control</td>\n",
       "      <td>subject status: healthy control</td>\n",
       "      <td>subject status: healthy control</td>\n",
       "      <td>...</td>\n",
       "      <td>subject status: autosomal dominant polycystic ...</td>\n",
       "      <td>subject status: autosomal dominant polycystic ...</td>\n",
       "      <td>subject status: autosomal dominant polycystic ...</td>\n",
       "      <td>subject status: autosomal dominant polycystic ...</td>\n",
       "      <td>subject status: autosomal dominant polycystic ...</td>\n",
       "      <td>subject status: autosomal dominant polycystic ...</td>\n",
       "      <td>subject status: autosomal dominant polycystic ...</td>\n",
       "      <td>subject status: autosomal dominant polycystic ...</td>\n",
       "      <td>subject status: autosomal dominant polycystic ...</td>\n",
       "      <td>subject status: autosomal dominant polycystic ...</td>\n",
       "    </tr>\n",
       "    <tr>\n",
       "      <th>2</th>\n",
       "      <td>!Sample_characteristics_ch1</td>\n",
       "      <td>gender: Male</td>\n",
       "      <td>gender: Female</td>\n",
       "      <td>gender: Male</td>\n",
       "      <td>gender: Male</td>\n",
       "      <td>gender: Female</td>\n",
       "      <td>gender: Male</td>\n",
       "      <td>gender: Male</td>\n",
       "      <td>gender: Male</td>\n",
       "      <td>gender: Female</td>\n",
       "      <td>...</td>\n",
       "      <td>gender: Male</td>\n",
       "      <td>gender: Female</td>\n",
       "      <td>gender: Female</td>\n",
       "      <td>gender: Female</td>\n",
       "      <td>gender: Female</td>\n",
       "      <td>gender: Male</td>\n",
       "      <td>gender: Male</td>\n",
       "      <td>gender: Male</td>\n",
       "      <td>gender: Female</td>\n",
       "      <td>gender: Female</td>\n",
       "    </tr>\n",
       "    <tr>\n",
       "      <th>3</th>\n",
       "      <td>!Sample_characteristics_ch1</td>\n",
       "      <td>cell type: iPSC derived endothelial cells</td>\n",
       "      <td>cell type: iPSC derived endothelial cells</td>\n",
       "      <td>cell type: iPSC derived endothelial cells</td>\n",
       "      <td>cell type: iPSC derived endothelial cells</td>\n",
       "      <td>cell type: iPSC derived endothelial cells</td>\n",
       "      <td>cell type: iPSC derived endothelial cells</td>\n",
       "      <td>cell type: iPSC derived endothelial cells</td>\n",
       "      <td>cell type: iPSC derived vascular smooth muscle...</td>\n",
       "      <td>cell type: iPSC derived vascular smooth muscle...</td>\n",
       "      <td>...</td>\n",
       "      <td>cell type: iPSC derived endothelial cells</td>\n",
       "      <td>cell type: iPSC derived endothelial cells</td>\n",
       "      <td>cell type: iPSC derived endothelial cells</td>\n",
       "      <td>cell type: iPSC derived vascular smooth muscle...</td>\n",
       "      <td>cell type: iPSC derived vascular smooth muscle...</td>\n",
       "      <td>cell type: iPSC derived vascular smooth muscle...</td>\n",
       "      <td>cell type: iPSC derived vascular smooth muscle...</td>\n",
       "      <td>cell type: iPSC derived vascular smooth muscle...</td>\n",
       "      <td>cell type: iPSC derived vascular smooth muscle...</td>\n",
       "      <td>cell type: iPSC derived vascular smooth muscle...</td>\n",
       "    </tr>\n",
       "    <tr>\n",
       "      <th>4</th>\n",
       "      <td>!Sample_characteristics_ch1</td>\n",
       "      <td>gender: Male</td>\n",
       "      <td>gender: Female</td>\n",
       "      <td>gender: Male</td>\n",
       "      <td>gender: Male</td>\n",
       "      <td>gender: Female</td>\n",
       "      <td>gender: Male</td>\n",
       "      <td>gender: Male</td>\n",
       "      <td>gender: Male</td>\n",
       "      <td>gender: Female</td>\n",
       "      <td>...</td>\n",
       "      <td>gender: Male</td>\n",
       "      <td>gender: Female</td>\n",
       "      <td>gender: Female</td>\n",
       "      <td>gender: Female</td>\n",
       "      <td>gender: Female</td>\n",
       "      <td>gender: Male</td>\n",
       "      <td>gender: Male</td>\n",
       "      <td>gender: Male</td>\n",
       "      <td>gender: Female</td>\n",
       "      <td>gender: Female</td>\n",
       "    </tr>\n",
       "  </tbody>\n",
       "</table>\n",
       "<p>5 rows × 32 columns</p>\n",
       "</div>"
      ],
      "text/plain": [
       "         !Sample_geo_accession                                 GSM1920920  \\\n",
       "0  !Sample_characteristics_ch1       subject/sample source id: TIG114 4F1   \n",
       "1  !Sample_characteristics_ch1            subject status: healthy control   \n",
       "2  !Sample_characteristics_ch1                               gender: Male   \n",
       "3  !Sample_characteristics_ch1  cell type: iPSC derived endothelial cells   \n",
       "4  !Sample_characteristics_ch1                               gender: Male   \n",
       "\n",
       "                                  GSM1920921  \\\n",
       "0       subject/sample source id: TIG118 4F1   \n",
       "1            subject status: healthy control   \n",
       "2                             gender: Female   \n",
       "3  cell type: iPSC derived endothelial cells   \n",
       "4                             gender: Female   \n",
       "\n",
       "                                  GSM1920922  \\\n",
       "0       subject/sample source id: TIG119 4F1   \n",
       "1            subject status: healthy control   \n",
       "2                               gender: Male   \n",
       "3  cell type: iPSC derived endothelial cells   \n",
       "4                               gender: Male   \n",
       "\n",
       "                                  GSM1920923  \\\n",
       "0       subject/sample source id: TIG121 4F4   \n",
       "1            subject status: healthy control   \n",
       "2                               gender: Male   \n",
       "3  cell type: iPSC derived endothelial cells   \n",
       "4                               gender: Male   \n",
       "\n",
       "                                  GSM1920924  \\\n",
       "0         subject/sample source id: TIG975E4   \n",
       "1            subject status: healthy control   \n",
       "2                             gender: Female   \n",
       "3  cell type: iPSC derived endothelial cells   \n",
       "4                             gender: Female   \n",
       "\n",
       "                                  GSM1920925  \\\n",
       "0            subject/sample source id: 585A1   \n",
       "1            subject status: healthy control   \n",
       "2                               gender: Male   \n",
       "3  cell type: iPSC derived endothelial cells   \n",
       "4                               gender: Male   \n",
       "\n",
       "                                  GSM1920926  \\\n",
       "0            subject/sample source id: 585B1   \n",
       "1            subject status: healthy control   \n",
       "2                               gender: Male   \n",
       "3  cell type: iPSC derived endothelial cells   \n",
       "4                               gender: Male   \n",
       "\n",
       "                                          GSM1920927  \\\n",
       "0               subject/sample source id: TIG114 4F1   \n",
       "1                    subject status: healthy control   \n",
       "2                                       gender: Male   \n",
       "3  cell type: iPSC derived vascular smooth muscle...   \n",
       "4                                       gender: Male   \n",
       "\n",
       "                                          GSM1920928  ...  \\\n",
       "0               subject/sample source id: TIG118 4F1  ...   \n",
       "1                    subject status: healthy control  ...   \n",
       "2                                     gender: Female  ...   \n",
       "3  cell type: iPSC derived vascular smooth muscle...  ...   \n",
       "4                                     gender: Female  ...   \n",
       "\n",
       "                                          GSM1920941  \\\n",
       "0                subject/sample source id: CiRA00008   \n",
       "1  subject status: autosomal dominant polycystic ...   \n",
       "2                                       gender: Male   \n",
       "3          cell type: iPSC derived endothelial cells   \n",
       "4                                       gender: Male   \n",
       "\n",
       "                                          GSM1920942  \\\n",
       "0                subject/sample source id: CiRA00009   \n",
       "1  subject status: autosomal dominant polycystic ...   \n",
       "2                                     gender: Female   \n",
       "3          cell type: iPSC derived endothelial cells   \n",
       "4                                     gender: Female   \n",
       "\n",
       "                                          GSM1920943  \\\n",
       "0                subject/sample source id: CiRA00010   \n",
       "1  subject status: autosomal dominant polycystic ...   \n",
       "2                                     gender: Female   \n",
       "3          cell type: iPSC derived endothelial cells   \n",
       "4                                     gender: Female   \n",
       "\n",
       "                                          GSM1920944  \\\n",
       "0                subject/sample source id: CiRA00004   \n",
       "1  subject status: autosomal dominant polycystic ...   \n",
       "2                                     gender: Female   \n",
       "3  cell type: iPSC derived vascular smooth muscle...   \n",
       "4                                     gender: Female   \n",
       "\n",
       "                                          GSM1920945  \\\n",
       "0                subject/sample source id: CiRA00005   \n",
       "1  subject status: autosomal dominant polycystic ...   \n",
       "2                                     gender: Female   \n",
       "3  cell type: iPSC derived vascular smooth muscle...   \n",
       "4                                     gender: Female   \n",
       "\n",
       "                                          GSM1920946  \\\n",
       "0                subject/sample source id: CiRA00006   \n",
       "1  subject status: autosomal dominant polycystic ...   \n",
       "2                                       gender: Male   \n",
       "3  cell type: iPSC derived vascular smooth muscle...   \n",
       "4                                       gender: Male   \n",
       "\n",
       "                                          GSM1920947  \\\n",
       "0                subject/sample source id: CiRA00007   \n",
       "1  subject status: autosomal dominant polycystic ...   \n",
       "2                                       gender: Male   \n",
       "3  cell type: iPSC derived vascular smooth muscle...   \n",
       "4                                       gender: Male   \n",
       "\n",
       "                                          GSM1920948  \\\n",
       "0                subject/sample source id: CiRA00008   \n",
       "1  subject status: autosomal dominant polycystic ...   \n",
       "2                                       gender: Male   \n",
       "3  cell type: iPSC derived vascular smooth muscle...   \n",
       "4                                       gender: Male   \n",
       "\n",
       "                                          GSM1920949  \\\n",
       "0                subject/sample source id: CiRA00009   \n",
       "1  subject status: autosomal dominant polycystic ...   \n",
       "2                                     gender: Female   \n",
       "3  cell type: iPSC derived vascular smooth muscle...   \n",
       "4                                     gender: Female   \n",
       "\n",
       "                                          GSM1920950  \n",
       "0                subject/sample source id: CiRA00010  \n",
       "1  subject status: autosomal dominant polycystic ...  \n",
       "2                                     gender: Female  \n",
       "3  cell type: iPSC derived vascular smooth muscle...  \n",
       "4                                     gender: Female  \n",
       "\n",
       "[5 rows x 32 columns]"
      ]
     },
     "execution_count": 35,
     "metadata": {},
     "output_type": "execute_result"
    }
   ],
   "source": [
    "clinical_data.head()"
   ]
  },
  {
   "cell_type": "code",
   "execution_count": 36,
   "metadata": {
    "ExecuteTime": {
     "end_time": "2023-12-31T21:19:35.508015426Z",
     "start_time": "2023-12-31T21:19:35.492746637Z"
    }
   },
   "outputs": [
    {
     "data": {
      "text/plain": [
       "{0: ['subject/sample source id: TIG114 4F1',\n",
       "  'subject/sample source id: TIG118 4F1',\n",
       "  'subject/sample source id: TIG119 4F1',\n",
       "  'subject/sample source id: TIG121 4F4',\n",
       "  'subject/sample source id: TIG975E4',\n",
       "  'subject/sample source id: 585A1',\n",
       "  'subject/sample source id: 585B1',\n",
       "  'subject/sample source id: TIG107 4F1',\n",
       "  'subject/sample source id: TIG120 4F1',\n",
       "  'subject/sample source id: TIG120 3F7',\n",
       "  'subject/sample source id: TIG975E2',\n",
       "  'subject/sample source id: CiRA00004',\n",
       "  'subject/sample source id: CiRA00005',\n",
       "  'subject/sample source id: CiRA00006',\n",
       "  'subject/sample source id: CiRA00007',\n",
       "  'subject/sample source id: CiRA00008',\n",
       "  'subject/sample source id: CiRA00009',\n",
       "  'subject/sample source id: CiRA00010'],\n",
       " 1: ['subject status: healthy control',\n",
       "  'subject status: autosomal dominant polycystic kidney disease (ADPKD) patient'],\n",
       " 2: ['gender: Male', 'gender: Female'],\n",
       " 3: ['cell type: iPSC derived endothelial cells',\n",
       "  'cell type: iPSC derived vascular smooth muscle cells'],\n",
       " 4: ['gender: Male', 'gender: Female']}"
      ]
     },
     "execution_count": 36,
     "metadata": {},
     "output_type": "execute_result"
    }
   ],
   "source": [
    "clinical_data_unique = get_unique_values_by_row(clinical_data)\n",
    "clinical_data_unique"
   ]
  },
  {
   "cell_type": "markdown",
   "metadata": {
    "ExecuteTime": {
     "end_time": "2023-12-31T03:58:04.978204446Z",
     "start_time": "2023-12-31T03:58:04.922270095Z"
    }
   },
   "source": [
    "Analyze the metadata to determine data relevance and find ways to extract the clinical data.\n",
    "Reference prompt:"
   ]
  },
  {
   "cell_type": "code",
   "execution_count": 37,
   "metadata": {
    "ExecuteTime": {
     "end_time": "2023-12-31T21:19:35.508232400Z",
     "start_time": "2023-12-31T21:19:35.492903487Z"
    }
   },
   "outputs": [
    {
     "data": {
      "text/plain": [
       "'As a biomedical research team, we are selecting datasets to study the association between the human trait \\'Polycystic Kidney Disease\\' and genetic factors, optionally considering the influence of age and gender. After searching the GEO database and parsing the matrix file of a series, we obtained background information and sample characteristics data. We will provide textual information about the dataset background, and a Python dictionary storing a list of unique values for each field of the sample characteristics data. Please carefully review the provided information and answer the following questions about this dataset:\\n1. Does this dataset contain gene expression data? (Note: Pure miRNA data is not suitable.)\\n2. For each of the traits \\'Polycystic Kidney Disease\\', \\'age\\', and \\'gender\\', please address these points:\\n   (1) Is there human data available for this trait?\\n   (2) If so, identify the key in the sample characteristics dictionary where unique values of this trait is recorded. The key is an integer. The trait information might be explicitly recorded, or can be inferred from the field with some biomedical knowledge or understanding about the data collection process.\\n   (3) Choose an appropriate data type (either \\'continuous\\' or \\'binary\\') for each trait. Write a Python function to convert any given value of the trait to this data type. The function should handle inference about the trait value and convert unknown values to None.\\n   Name the functions \\'convert_trait\\', \\'convert_age\\', and \\'convert_gender\\', respectively.\\n   NOTE: Function \"convert_trait\" should return 1 or 0.\\n   \\nBackground information about the dataset:\\n!Series_title\\t\"Identification of a novel risk factor for intracranial aneurysms in ADPKD using iPSC models [Agilent]\"\\n!Series_summary\\t\"Cardiovascular complications are the leading cause of death in autosomal dominant polycystic kidney disease (ADPKD), and intracranial aneurysm (ICA) causing subarachnoid hemorrhage is among the most serious complications. The diagnostic and therapeutic strategies for ICAs in ADPKD have not been fully established. We here generated induced pluripotent stem cells (iPSCs) from seven ADPKD patients, including four with ICAs. The vascular cells differentiated from ADPKD-iPSCs showed altered Ca2+ entry and gene expression profiles compared with those from control-iPSCs. We found that the expression level of a metalloenzyme gene, matrix metalloproteinase (MMP) 1, was specifically elevated in the iPSC-derived endothelia from ADPKD patients with ICAs. Furthermore, we confirmed a statistically significant correlation between the serum MMP1 levels and the development of ICAs in 354 ADPKD patients, indicating that the serum MMP1 levels may be a novel risk factor and become more beneficial when combined with other risk factors. These results suggest that cellular disease models with ADPKD-specific iPSCs can be used to study the disease mechanisms and to identify novel disease-related molecules or risk factors.\"\\n!Series_overall_design\\t\"The gene expression profiles of vascular endothelia and smooth muscle cells derived from control- and ADPKD-iPSCs were analyzed. Seven control-iPSC derived endothelial cells (ECs), seven ADPKD-iPSC derived ECs, ten control-iPSC derived vascular smooth muscle cells (SMCs), and seven ADPKD-iPSC derived SMCs were analyzed.\"\\n\\nSample characteristics dictionary (from \"!Sample_characteristics_ch1\", converted to a Python dictionary that stores the unique values for each field):\\n{0: [\\'subject/sample source id: TIG114 4F1\\', \\'subject/sample source id: TIG118 4F1\\', \\'subject/sample source id: TIG119 4F1\\', \\'subject/sample source id: TIG121 4F4\\', \\'subject/sample source id: TIG975E4\\', \\'subject/sample source id: 585A1\\', \\'subject/sample source id: 585B1\\', \\'subject/sample source id: TIG107 4F1\\', \\'subject/sample source id: TIG120 4F1\\', \\'subject/sample source id: TIG120 3F7\\', \\'subject/sample source id: TIG975E2\\', \\'subject/sample source id: CiRA00004\\', \\'subject/sample source id: CiRA00005\\', \\'subject/sample source id: CiRA00006\\', \\'subject/sample source id: CiRA00007\\', \\'subject/sample source id: CiRA00008\\', \\'subject/sample source id: CiRA00009\\', \\'subject/sample source id: CiRA00010\\'], 1: [\\'subject status: healthy control\\', \\'subject status: autosomal dominant polycystic kidney disease (ADPKD) patient\\'], 2: [\\'gender: Male\\', \\'gender: Female\\'], 3: [\\'cell type: iPSC derived endothelial cells\\', \\'cell type: iPSC derived vascular smooth muscle cells\\'], 4: [\\'gender: Male\\', \\'gender: Female\\']}\\n'"
      ]
     },
     "execution_count": 37,
     "metadata": {},
     "output_type": "execute_result"
    }
   ],
   "source": [
    "f'''As a biomedical research team, we are selecting datasets to study the association between the human trait \\'{TRAIT}\\' and genetic factors, optionally considering the influence of age and gender. After searching the GEO database and parsing the matrix file of a series, we obtained background information and sample characteristics data. We will provide textual information about the dataset background, and a Python dictionary storing a list of unique values for each field of the sample characteristics data. Please carefully review the provided information and answer the following questions about this dataset:\n",
    "1. Does this dataset contain gene expression data? (Note: Pure miRNA data is not suitable.)\n",
    "2. For each of the traits \\'{TRAIT}\\', 'age', and 'gender', please address these points:\n",
    "   (1) Is there human data available for this trait?\n",
    "   (2) If so, identify the key in the sample characteristics dictionary where unique values of this trait is recorded. The key is an integer. The trait information might be explicitly recorded, or can be inferred from the field with some biomedical knowledge or understanding about the data collection process.\n",
    "   (3) Choose an appropriate data type (either 'continuous' or 'binary') for each trait. Write a Python function to convert any given value of the trait to this data type. The function should handle inference about the trait value and convert unknown values to None.\n",
    "   Name the functions 'convert_trait', 'convert_age', and 'convert_gender', respectively.\n",
    "   NOTE: Function \"convert_trait\" should return 1 or 0.\n",
    "   \n",
    "Background information about the dataset:\n",
    "{background_info}\n",
    "\n",
    "Sample characteristics dictionary (from \"!Sample_characteristics_ch1\", converted to a Python dictionary that stores the unique values for each field):\n",
    "{clinical_data_unique}\n",
    "'''"
   ]
  },
  {
   "cell_type": "markdown",
   "metadata": {
    "ExecuteTime": {
     "end_time": "2023-12-31T03:58:04.978240504Z",
     "start_time": "2023-12-31T03:58:04.922365324Z"
    }
   },
   "source": [
    "Understand and verify the answer from GPT, to assign values to the below variables. Assign None to the 'row_id' variables if relevant data row was not found.\n",
    "Later we need to let GPT format its answer to automatically do these. But given the complexity of this step, let's grow some insight from the free-text answers for now."
   ]
  },
  {
   "cell_type": "code",
   "execution_count": 38,
   "metadata": {},
   "outputs": [],
   "source": [
    "age_row = gender_row = None\n",
    "convert_age = convert_gender = None"
   ]
  },
  {
   "cell_type": "code",
   "execution_count": 39,
   "metadata": {
    "ExecuteTime": {
     "end_time": "2023-12-31T21:19:35.508295660Z",
     "start_time": "2023-12-31T21:19:35.493015671Z"
    }
   },
   "outputs": [],
   "source": [
    "is_gene_availabe = True\n",
    "trait_row = 1\n",
    "age_row = None\n",
    "gender_row = 2\n",
    "\n",
    "trait_type = 'binary'"
   ]
  },
  {
   "cell_type": "code",
   "execution_count": 40,
   "metadata": {
    "ExecuteTime": {
     "end_time": "2023-12-31T21:19:35.508365153Z",
     "start_time": "2023-12-31T21:19:35.493151450Z"
    }
   },
   "outputs": [],
   "source": [
    "is_available = is_gene_availabe and (trait_row is not None)\n",
    "if not is_available:\n",
    "    save_cohort_info(cohort, JSON_PATH, is_available)\n",
    "    print(\"This cohort is not usable. Please skip the following steps and jump to the next accession number.\")"
   ]
  },
  {
   "cell_type": "code",
   "execution_count": 41,
   "metadata": {
    "ExecuteTime": {
     "end_time": "2023-12-31T21:19:35.508426069Z",
     "start_time": "2023-12-31T21:19:35.493220101Z"
    }
   },
   "outputs": [],
   "source": [
    "def convert_age(value):\n",
    "    try:\n",
    "        # Split the string and extract the age part\n",
    "        age_str = value.split(': ')[-1]\n",
    "        return int(age_str)  # Convert the extracted age to an integer\n",
    "    except (ValueError, TypeError, IndexError):\n",
    "        return None  # Unable to convert or unknown age\n",
    "    \n",
    "def convert_trait(value):\n",
    "    if value == 'subject status: autosomal dominant polycystic kidney disease (ADPKD) patient':\n",
    "        return 1\n",
    "    elif value == 'subject status: healthy control':\n",
    "        return 0\n",
    "    else:\n",
    "        return None\n",
    "\n",
    "def convert_gender(value):\n",
    "    \"\"\"Converts the gender to binary format.\"\"\"\n",
    "    if value == 'gender: Male':\n",
    "        return 1\n",
    "    elif value == 'gender: Female':\n",
    "        return 0\n",
    "    else:\n",
    "        return None\n"
   ]
  },
  {
   "cell_type": "code",
   "execution_count": 42,
   "metadata": {
    "ExecuteTime": {
     "end_time": "2023-12-31T21:19:35.508533013Z",
     "start_time": "2023-12-31T21:19:35.493272992Z"
    }
   },
   "outputs": [
    {
     "data": {
      "text/html": [
       "<div>\n",
       "<style scoped>\n",
       "    .dataframe tbody tr th:only-of-type {\n",
       "        vertical-align: middle;\n",
       "    }\n",
       "\n",
       "    .dataframe tbody tr th {\n",
       "        vertical-align: top;\n",
       "    }\n",
       "\n",
       "    .dataframe thead th {\n",
       "        text-align: right;\n",
       "    }\n",
       "</style>\n",
       "<table border=\"1\" class=\"dataframe\">\n",
       "  <thead>\n",
       "    <tr style=\"text-align: right;\">\n",
       "      <th></th>\n",
       "      <th>GSM1920920</th>\n",
       "      <th>GSM1920921</th>\n",
       "      <th>GSM1920922</th>\n",
       "      <th>GSM1920923</th>\n",
       "      <th>GSM1920924</th>\n",
       "      <th>GSM1920925</th>\n",
       "      <th>GSM1920926</th>\n",
       "      <th>GSM1920927</th>\n",
       "      <th>GSM1920928</th>\n",
       "      <th>GSM1920929</th>\n",
       "      <th>...</th>\n",
       "      <th>GSM1920941</th>\n",
       "      <th>GSM1920942</th>\n",
       "      <th>GSM1920943</th>\n",
       "      <th>GSM1920944</th>\n",
       "      <th>GSM1920945</th>\n",
       "      <th>GSM1920946</th>\n",
       "      <th>GSM1920947</th>\n",
       "      <th>GSM1920948</th>\n",
       "      <th>GSM1920949</th>\n",
       "      <th>GSM1920950</th>\n",
       "    </tr>\n",
       "  </thead>\n",
       "  <tbody>\n",
       "    <tr>\n",
       "      <th>Polycystic Kidney Disease</th>\n",
       "      <td>0</td>\n",
       "      <td>0</td>\n",
       "      <td>0</td>\n",
       "      <td>0</td>\n",
       "      <td>0</td>\n",
       "      <td>0</td>\n",
       "      <td>0</td>\n",
       "      <td>0</td>\n",
       "      <td>0</td>\n",
       "      <td>0</td>\n",
       "      <td>...</td>\n",
       "      <td>1</td>\n",
       "      <td>1</td>\n",
       "      <td>1</td>\n",
       "      <td>1</td>\n",
       "      <td>1</td>\n",
       "      <td>1</td>\n",
       "      <td>1</td>\n",
       "      <td>1</td>\n",
       "      <td>1</td>\n",
       "      <td>1</td>\n",
       "    </tr>\n",
       "    <tr>\n",
       "      <th>Gender</th>\n",
       "      <td>1</td>\n",
       "      <td>0</td>\n",
       "      <td>1</td>\n",
       "      <td>1</td>\n",
       "      <td>0</td>\n",
       "      <td>1</td>\n",
       "      <td>1</td>\n",
       "      <td>1</td>\n",
       "      <td>0</td>\n",
       "      <td>0</td>\n",
       "      <td>...</td>\n",
       "      <td>1</td>\n",
       "      <td>0</td>\n",
       "      <td>0</td>\n",
       "      <td>0</td>\n",
       "      <td>0</td>\n",
       "      <td>1</td>\n",
       "      <td>1</td>\n",
       "      <td>1</td>\n",
       "      <td>0</td>\n",
       "      <td>0</td>\n",
       "    </tr>\n",
       "  </tbody>\n",
       "</table>\n",
       "<p>2 rows × 31 columns</p>\n",
       "</div>"
      ],
      "text/plain": [
       "                           GSM1920920  GSM1920921  GSM1920922  GSM1920923  \\\n",
       "Polycystic Kidney Disease           0           0           0           0   \n",
       "Gender                              1           0           1           1   \n",
       "\n",
       "                           GSM1920924  GSM1920925  GSM1920926  GSM1920927  \\\n",
       "Polycystic Kidney Disease           0           0           0           0   \n",
       "Gender                              0           1           1           1   \n",
       "\n",
       "                           GSM1920928  GSM1920929  ...  GSM1920941  \\\n",
       "Polycystic Kidney Disease           0           0  ...           1   \n",
       "Gender                              0           0  ...           1   \n",
       "\n",
       "                           GSM1920942  GSM1920943  GSM1920944  GSM1920945  \\\n",
       "Polycystic Kidney Disease           1           1           1           1   \n",
       "Gender                              0           0           0           0   \n",
       "\n",
       "                           GSM1920946  GSM1920947  GSM1920948  GSM1920949  \\\n",
       "Polycystic Kidney Disease           1           1           1           1   \n",
       "Gender                              1           1           1           0   \n",
       "\n",
       "                           GSM1920950  \n",
       "Polycystic Kidney Disease           1  \n",
       "Gender                              0  \n",
       "\n",
       "[2 rows x 31 columns]"
      ]
     },
     "execution_count": 42,
     "metadata": {},
     "output_type": "execute_result"
    }
   ],
   "source": [
    "selected_clinical_data = geo_select_clinical_features(clinical_data, TRAIT, trait_row, convert_trait, age_row=age_row,\n",
    "                                                      convert_age=convert_age, gender_row=gender_row,\n",
    "                                                      convert_gender=convert_gender)\n",
    "selected_clinical_data.head()"
   ]
  },
  {
   "cell_type": "markdown",
   "metadata": {
    "ExecuteTime": {
     "end_time": "2023-12-31T03:58:04.978664193Z",
     "start_time": "2023-12-31T03:58:04.966117261Z"
    }
   },
   "source": [
    "### Genetic data preprocessing and final filtering"
   ]
  },
  {
   "cell_type": "code",
   "execution_count": 43,
   "metadata": {
    "ExecuteTime": {
     "end_time": "2023-12-31T21:19:35.590261560Z",
     "start_time": "2023-12-31T21:19:35.493320362Z"
    }
   },
   "outputs": [
    {
     "data": {
      "text/html": [
       "<div>\n",
       "<style scoped>\n",
       "    .dataframe tbody tr th:only-of-type {\n",
       "        vertical-align: middle;\n",
       "    }\n",
       "\n",
       "    .dataframe tbody tr th {\n",
       "        vertical-align: top;\n",
       "    }\n",
       "\n",
       "    .dataframe thead th {\n",
       "        text-align: right;\n",
       "    }\n",
       "</style>\n",
       "<table border=\"1\" class=\"dataframe\">\n",
       "  <thead>\n",
       "    <tr style=\"text-align: right;\">\n",
       "      <th></th>\n",
       "      <th>GSM1920920</th>\n",
       "      <th>GSM1920921</th>\n",
       "      <th>GSM1920922</th>\n",
       "      <th>GSM1920923</th>\n",
       "      <th>GSM1920924</th>\n",
       "      <th>GSM1920925</th>\n",
       "      <th>GSM1920926</th>\n",
       "      <th>GSM1920927</th>\n",
       "      <th>GSM1920928</th>\n",
       "      <th>GSM1920929</th>\n",
       "      <th>...</th>\n",
       "      <th>GSM1920941</th>\n",
       "      <th>GSM1920942</th>\n",
       "      <th>GSM1920943</th>\n",
       "      <th>GSM1920944</th>\n",
       "      <th>GSM1920945</th>\n",
       "      <th>GSM1920946</th>\n",
       "      <th>GSM1920947</th>\n",
       "      <th>GSM1920948</th>\n",
       "      <th>GSM1920949</th>\n",
       "      <th>GSM1920950</th>\n",
       "    </tr>\n",
       "    <tr>\n",
       "      <th>ID</th>\n",
       "      <th></th>\n",
       "      <th></th>\n",
       "      <th></th>\n",
       "      <th></th>\n",
       "      <th></th>\n",
       "      <th></th>\n",
       "      <th></th>\n",
       "      <th></th>\n",
       "      <th></th>\n",
       "      <th></th>\n",
       "      <th></th>\n",
       "      <th></th>\n",
       "      <th></th>\n",
       "      <th></th>\n",
       "      <th></th>\n",
       "      <th></th>\n",
       "      <th></th>\n",
       "      <th></th>\n",
       "      <th></th>\n",
       "      <th></th>\n",
       "      <th></th>\n",
       "    </tr>\n",
       "  </thead>\n",
       "  <tbody>\n",
       "    <tr>\n",
       "      <th>(+)E1A_r60_1</th>\n",
       "      <td>9.246004</td>\n",
       "      <td>8.940038</td>\n",
       "      <td>9.247264</td>\n",
       "      <td>8.967822</td>\n",
       "      <td>9.195869</td>\n",
       "      <td>9.192290</td>\n",
       "      <td>9.216380</td>\n",
       "      <td>9.290020</td>\n",
       "      <td>9.487878</td>\n",
       "      <td>9.266375</td>\n",
       "      <td>...</td>\n",
       "      <td>9.687741</td>\n",
       "      <td>9.464143</td>\n",
       "      <td>9.507133</td>\n",
       "      <td>9.580722</td>\n",
       "      <td>9.326382</td>\n",
       "      <td>9.387042</td>\n",
       "      <td>9.453883</td>\n",
       "      <td>9.387452</td>\n",
       "      <td>9.708351</td>\n",
       "      <td>9.722596</td>\n",
       "    </tr>\n",
       "    <tr>\n",
       "      <th>(+)E1A_r60_3</th>\n",
       "      <td>-7.056843</td>\n",
       "      <td>-7.287641</td>\n",
       "      <td>-7.333660</td>\n",
       "      <td>-6.751512</td>\n",
       "      <td>-7.316245</td>\n",
       "      <td>-7.107780</td>\n",
       "      <td>-6.837537</td>\n",
       "      <td>-6.430428</td>\n",
       "      <td>-6.284057</td>\n",
       "      <td>-5.673605</td>\n",
       "      <td>...</td>\n",
       "      <td>-6.505308</td>\n",
       "      <td>-6.811409</td>\n",
       "      <td>-6.755661</td>\n",
       "      <td>-6.915263</td>\n",
       "      <td>-6.462014</td>\n",
       "      <td>-6.642806</td>\n",
       "      <td>-6.528124</td>\n",
       "      <td>-6.769742</td>\n",
       "      <td>-6.361740</td>\n",
       "      <td>-6.241919</td>\n",
       "    </tr>\n",
       "    <tr>\n",
       "      <th>(+)E1A_r60_a104</th>\n",
       "      <td>-6.721822</td>\n",
       "      <td>-7.242432</td>\n",
       "      <td>-7.172919</td>\n",
       "      <td>-7.250521</td>\n",
       "      <td>-7.100102</td>\n",
       "      <td>-6.409925</td>\n",
       "      <td>-6.409754</td>\n",
       "      <td>-5.756618</td>\n",
       "      <td>-5.892127</td>\n",
       "      <td>-6.214009</td>\n",
       "      <td>...</td>\n",
       "      <td>-5.952200</td>\n",
       "      <td>-6.731708</td>\n",
       "      <td>-6.352184</td>\n",
       "      <td>-5.746113</td>\n",
       "      <td>-6.077745</td>\n",
       "      <td>-5.580728</td>\n",
       "      <td>-5.822116</td>\n",
       "      <td>-6.791272</td>\n",
       "      <td>-5.423497</td>\n",
       "      <td>-4.715431</td>\n",
       "    </tr>\n",
       "    <tr>\n",
       "      <th>(+)E1A_r60_a107</th>\n",
       "      <td>-3.632830</td>\n",
       "      <td>-4.008791</td>\n",
       "      <td>-3.619517</td>\n",
       "      <td>-4.087158</td>\n",
       "      <td>-4.023131</td>\n",
       "      <td>-3.601093</td>\n",
       "      <td>-3.730406</td>\n",
       "      <td>-3.546134</td>\n",
       "      <td>-3.204269</td>\n",
       "      <td>-3.507256</td>\n",
       "      <td>...</td>\n",
       "      <td>-3.466101</td>\n",
       "      <td>-3.748397</td>\n",
       "      <td>-3.770009</td>\n",
       "      <td>-3.256609</td>\n",
       "      <td>-3.748391</td>\n",
       "      <td>-3.553973</td>\n",
       "      <td>-3.331778</td>\n",
       "      <td>-3.450692</td>\n",
       "      <td>-3.009829</td>\n",
       "      <td>-2.740745</td>\n",
       "    </tr>\n",
       "    <tr>\n",
       "      <th>(+)E1A_r60_a135</th>\n",
       "      <td>-0.644288</td>\n",
       "      <td>-1.007125</td>\n",
       "      <td>-0.678832</td>\n",
       "      <td>-1.234997</td>\n",
       "      <td>-0.927260</td>\n",
       "      <td>-0.718267</td>\n",
       "      <td>-0.818749</td>\n",
       "      <td>-0.641962</td>\n",
       "      <td>-0.376534</td>\n",
       "      <td>-0.776970</td>\n",
       "      <td>...</td>\n",
       "      <td>-0.458645</td>\n",
       "      <td>-0.928860</td>\n",
       "      <td>-0.843276</td>\n",
       "      <td>-0.376483</td>\n",
       "      <td>-0.729858</td>\n",
       "      <td>-0.590842</td>\n",
       "      <td>-0.443126</td>\n",
       "      <td>-0.482552</td>\n",
       "      <td>-0.123837</td>\n",
       "      <td>0.083241</td>\n",
       "    </tr>\n",
       "  </tbody>\n",
       "</table>\n",
       "<p>5 rows × 31 columns</p>\n",
       "</div>"
      ],
      "text/plain": [
       "                 GSM1920920  GSM1920921  GSM1920922  GSM1920923  GSM1920924  \\\n",
       "ID                                                                            \n",
       "(+)E1A_r60_1       9.246004    8.940038    9.247264    8.967822    9.195869   \n",
       "(+)E1A_r60_3      -7.056843   -7.287641   -7.333660   -6.751512   -7.316245   \n",
       "(+)E1A_r60_a104   -6.721822   -7.242432   -7.172919   -7.250521   -7.100102   \n",
       "(+)E1A_r60_a107   -3.632830   -4.008791   -3.619517   -4.087158   -4.023131   \n",
       "(+)E1A_r60_a135   -0.644288   -1.007125   -0.678832   -1.234997   -0.927260   \n",
       "\n",
       "                 GSM1920925  GSM1920926  GSM1920927  GSM1920928  GSM1920929  \\\n",
       "ID                                                                            \n",
       "(+)E1A_r60_1       9.192290    9.216380    9.290020    9.487878    9.266375   \n",
       "(+)E1A_r60_3      -7.107780   -6.837537   -6.430428   -6.284057   -5.673605   \n",
       "(+)E1A_r60_a104   -6.409925   -6.409754   -5.756618   -5.892127   -6.214009   \n",
       "(+)E1A_r60_a107   -3.601093   -3.730406   -3.546134   -3.204269   -3.507256   \n",
       "(+)E1A_r60_a135   -0.718267   -0.818749   -0.641962   -0.376534   -0.776970   \n",
       "\n",
       "                 ...  GSM1920941  GSM1920942  GSM1920943  GSM1920944  \\\n",
       "ID               ...                                                   \n",
       "(+)E1A_r60_1     ...    9.687741    9.464143    9.507133    9.580722   \n",
       "(+)E1A_r60_3     ...   -6.505308   -6.811409   -6.755661   -6.915263   \n",
       "(+)E1A_r60_a104  ...   -5.952200   -6.731708   -6.352184   -5.746113   \n",
       "(+)E1A_r60_a107  ...   -3.466101   -3.748397   -3.770009   -3.256609   \n",
       "(+)E1A_r60_a135  ...   -0.458645   -0.928860   -0.843276   -0.376483   \n",
       "\n",
       "                 GSM1920945  GSM1920946  GSM1920947  GSM1920948  GSM1920949  \\\n",
       "ID                                                                            \n",
       "(+)E1A_r60_1       9.326382    9.387042    9.453883    9.387452    9.708351   \n",
       "(+)E1A_r60_3      -6.462014   -6.642806   -6.528124   -6.769742   -6.361740   \n",
       "(+)E1A_r60_a104   -6.077745   -5.580728   -5.822116   -6.791272   -5.423497   \n",
       "(+)E1A_r60_a107   -3.748391   -3.553973   -3.331778   -3.450692   -3.009829   \n",
       "(+)E1A_r60_a135   -0.729858   -0.590842   -0.443126   -0.482552   -0.123837   \n",
       "\n",
       "                 GSM1920950  \n",
       "ID                           \n",
       "(+)E1A_r60_1       9.722596  \n",
       "(+)E1A_r60_3      -6.241919  \n",
       "(+)E1A_r60_a104   -4.715431  \n",
       "(+)E1A_r60_a107   -2.740745  \n",
       "(+)E1A_r60_a135    0.083241  \n",
       "\n",
       "[5 rows x 31 columns]"
      ]
     },
     "execution_count": 43,
     "metadata": {},
     "output_type": "execute_result"
    }
   ],
   "source": [
    "genetic_data = get_genetic_data(matrix_file)\n",
    "genetic_data.head()"
   ]
  },
  {
   "cell_type": "code",
   "execution_count": 44,
   "metadata": {
    "ExecuteTime": {
     "end_time": "2023-12-31T21:19:35.590443507Z",
     "start_time": "2023-12-31T21:19:35.536713559Z"
    }
   },
   "outputs": [
    {
     "data": {
      "text/plain": [
       "['(+)E1A_r60_1',\n",
       " '(+)E1A_r60_3',\n",
       " '(+)E1A_r60_a104',\n",
       " '(+)E1A_r60_a107',\n",
       " '(+)E1A_r60_a135',\n",
       " '(+)E1A_r60_a20',\n",
       " '(+)E1A_r60_a22',\n",
       " '(+)E1A_r60_a97',\n",
       " '(+)E1A_r60_n11',\n",
       " '(+)E1A_r60_n9',\n",
       " '3xSLv1',\n",
       " 'A_19_P00315452',\n",
       " 'A_19_P00315459',\n",
       " 'A_19_P00315482',\n",
       " 'A_19_P00315492',\n",
       " 'A_19_P00315493',\n",
       " 'A_19_P00315502',\n",
       " 'A_19_P00315506',\n",
       " 'A_19_P00315518',\n",
       " 'A_19_P00315519']"
      ]
     },
     "execution_count": 44,
     "metadata": {},
     "output_type": "execute_result"
    }
   ],
   "source": [
    "gene_row_ids = genetic_data.index[:20].tolist()\n",
    "gene_row_ids"
   ]
  },
  {
   "cell_type": "markdown",
   "metadata": {
    "ExecuteTime": {
     "end_time": "2023-12-31T03:30:41.595335164Z",
     "start_time": "2023-12-31T03:30:41.513232329Z"
    }
   },
   "source": [
    "Check if the gene dataset requires mapping to get the gene symbols corresponding to each data row."
   ]
  },
  {
   "cell_type": "markdown",
   "metadata": {},
   "source": [
    "Reference prompt:"
   ]
  },
  {
   "cell_type": "code",
   "execution_count": 45,
   "metadata": {
    "ExecuteTime": {
     "end_time": "2023-12-31T21:19:35.590590427Z",
     "start_time": "2023-12-31T21:19:35.536780517Z"
    },
    "scrolled": true
   },
   "outputs": [
    {
     "data": {
      "text/plain": [
       "\"\\nBelow are the row headers of a gene expression dataset in GEO. Based on your biomedical knowledge, are they human gene symbols, or are they some other identifiers that need to be mapped to gene symbols? Your answer should be concluded by starting a new line and strictly following this format:\\nrequires_gene_mapping = (True or False)\\n\\nRow headers:\\n['(+)E1A_r60_1', '(+)E1A_r60_3', '(+)E1A_r60_a104', '(+)E1A_r60_a107', '(+)E1A_r60_a135', '(+)E1A_r60_a20', '(+)E1A_r60_a22', '(+)E1A_r60_a97', '(+)E1A_r60_n11', '(+)E1A_r60_n9', '3xSLv1', 'A_19_P00315452', 'A_19_P00315459', 'A_19_P00315482', 'A_19_P00315492', 'A_19_P00315493', 'A_19_P00315502', 'A_19_P00315506', 'A_19_P00315518', 'A_19_P00315519']\\n\""
      ]
     },
     "execution_count": 45,
     "metadata": {},
     "output_type": "execute_result"
    }
   ],
   "source": [
    "f'''\n",
    "Below are the row headers of a gene expression dataset in GEO. Based on your biomedical knowledge, are they human gene symbols, or are they some other identifiers that need to be mapped to gene symbols? Your answer should be concluded by starting a new line and strictly following this format:\n",
    "requires_gene_mapping = (True or False)\n",
    "\n",
    "Row headers:\n",
    "{gene_row_ids}\n",
    "'''"
   ]
  },
  {
   "cell_type": "markdown",
   "metadata": {},
   "source": [
    "If not required, jump directly to the gene normalization step"
   ]
  },
  {
   "cell_type": "code",
   "execution_count": 46,
   "metadata": {
    "ExecuteTime": {
     "end_time": "2023-12-31T21:19:35.590648558Z",
     "start_time": "2023-12-31T21:19:35.536821375Z"
    }
   },
   "outputs": [],
   "source": [
    "requires_gene_mapping = True"
   ]
  },
  {
   "cell_type": "code",
   "execution_count": 47,
   "metadata": {
    "ExecuteTime": {
     "end_time": "2023-12-31T21:19:35.590695457Z",
     "start_time": "2023-12-31T21:19:35.536910836Z"
    }
   },
   "outputs": [
    {
     "name": "stdout",
     "output_type": "stream",
     "text": [
      "{'ID': ['GE_BrightCorner', 'DarkCorner', 'A_23_P117082', 'A_33_P3246448', 'A_33_P3318220'], 'SPOT_ID': ['CONTROL', 'CONTROL', 'A_23_P117082', 'A_33_P3246448', 'A_33_P3318220'], 'CONTROL_TYPE': ['pos', 'pos', 'FALSE', 'FALSE', 'FALSE'], 'REFSEQ': [nan, nan, 'NM_015987', 'NM_080671', 'NM_178466'], 'GB_ACC': [nan, nan, 'NM_015987', 'NM_080671', 'NM_178466'], 'LOCUSLINK_ID': [nan, nan, 50865.0, 23704.0, 128861.0], 'GENE_SYMBOL': [nan, nan, 'HEBP1', 'KCNE4', 'BPIFA3'], 'GENE_NAME': [nan, nan, 'heme binding protein 1', 'potassium voltage-gated channel, Isk-related family, member 4', 'BPI fold containing family A, member 3'], 'UNIGENE_ID': [nan, nan, 'Hs.642618', 'Hs.348522', 'Hs.360989'], 'ENSEMBL_ID': [nan, nan, 'ENST00000014930', 'ENST00000281830', 'ENST00000375454'], 'ACCESSION_STRING': [nan, nan, 'ref|NM_015987|ens|ENST00000014930|gb|AF117615|gb|BC016277', 'ref|NM_080671|ens|ENST00000281830|tc|THC2655788', 'ref|NM_178466|ens|ENST00000375454|ens|ENST00000471233|tc|THC2478474'], 'CHROMOSOMAL_LOCATION': [nan, nan, 'chr12:13127906-13127847', 'chr2:223920197-223920256', 'chr20:31812208-31812267'], 'CYTOBAND': [nan, nan, 'hs|12p13.1', 'hs|2q36.1', 'hs|20q11.21'], 'DESCRIPTION': [nan, nan, 'Homo sapiens heme binding protein 1 (HEBP1), mRNA [NM_015987]', 'Homo sapiens potassium voltage-gated channel, Isk-related family, member 4 (KCNE4), mRNA [NM_080671]', 'Homo sapiens BPI fold containing family A, member 3 (BPIFA3), transcript variant 1, mRNA [NM_178466]'], 'GO_ID': [nan, nan, 'GO:0005488(binding)|GO:0005576(extracellular region)|GO:0005737(cytoplasm)|GO:0005739(mitochondrion)|GO:0005829(cytosol)|GO:0007623(circadian rhythm)|GO:0020037(heme binding)', 'GO:0005244(voltage-gated ion channel activity)|GO:0005249(voltage-gated potassium channel activity)|GO:0006811(ion transport)|GO:0006813(potassium ion transport)|GO:0016020(membrane)|GO:0016021(integral to membrane)|GO:0016324(apical plasma membrane)', 'GO:0005576(extracellular region)|GO:0008289(lipid binding)'], 'SEQUENCE': [nan, nan, 'AAGGGGGAAAATGTGATTTGTGCCTGATCTTTCATCTGTGATTCTTATAAGAGCTTTGTC', 'GCAAGTCTCTCTGCACCTATTAAAAAGTGATGTATATACTTCCTTCTTATTCTGTTGAGT', 'CATTCCATAAGGAGTGGTTCTCGGCAAATATCTCACTTGAATTTGACCTTGAATTGAGAC']}\n"
     ]
    }
   ],
   "source": [
    "if requires_gene_mapping:\n",
    "    gene_annotation = get_gene_annotation(soft_file)\n",
    "    gene_annotation_summary = preview_df(gene_annotation)\n",
    "    print(gene_annotation_summary)"
   ]
  },
  {
   "cell_type": "markdown",
   "metadata": {
    "ExecuteTime": {
     "end_time": "2023-12-31T03:58:04.978931927Z",
     "start_time": "2023-12-31T03:58:04.966328339Z"
    }
   },
   "source": [
    "Observe the first few cells in the ID column of the gene annotation dataframe, to find the names of columns that store the gene probe IDs and gene symbols respectively.\n",
    "Reference prompt:"
   ]
  },
  {
   "cell_type": "code",
   "execution_count": 48,
   "metadata": {
    "ExecuteTime": {
     "end_time": "2023-12-31T21:19:35.590742236Z",
     "start_time": "2023-12-31T21:19:35.537050893Z"
    }
   },
   "outputs": [
    {
     "data": {
      "text/plain": [
       "\"\\nAs a biomedical research team, we extracted the gene annotation data from a series in the GEO database, and saved it to a Python dictionary. Please read the dictionary, and decide which key stores the ID of the probe, and which key stores the gene symbols. Please strict follow this format in your answer:\\nprobe_id_key = key_name1\\ngene_symb_key = key_name2\\n\\nGene annotation dictionary:\\n{'ID': ['GE_BrightCorner', 'DarkCorner', 'A_23_P117082', 'A_33_P3246448', 'A_33_P3318220'], 'SPOT_ID': ['CONTROL', 'CONTROL', 'A_23_P117082', 'A_33_P3246448', 'A_33_P3318220'], 'CONTROL_TYPE': ['pos', 'pos', 'FALSE', 'FALSE', 'FALSE'], 'REFSEQ': [nan, nan, 'NM_015987', 'NM_080671', 'NM_178466'], 'GB_ACC': [nan, nan, 'NM_015987', 'NM_080671', 'NM_178466'], 'LOCUSLINK_ID': [nan, nan, 50865.0, 23704.0, 128861.0], 'GENE_SYMBOL': [nan, nan, 'HEBP1', 'KCNE4', 'BPIFA3'], 'GENE_NAME': [nan, nan, 'heme binding protein 1', 'potassium voltage-gated channel, Isk-related family, member 4', 'BPI fold containing family A, member 3'], 'UNIGENE_ID': [nan, nan, 'Hs.642618', 'Hs.348522', 'Hs.360989'], 'ENSEMBL_ID': [nan, nan, 'ENST00000014930', 'ENST00000281830', 'ENST00000375454'], 'ACCESSION_STRING': [nan, nan, 'ref|NM_015987|ens|ENST00000014930|gb|AF117615|gb|BC016277', 'ref|NM_080671|ens|ENST00000281830|tc|THC2655788', 'ref|NM_178466|ens|ENST00000375454|ens|ENST00000471233|tc|THC2478474'], 'CHROMOSOMAL_LOCATION': [nan, nan, 'chr12:13127906-13127847', 'chr2:223920197-223920256', 'chr20:31812208-31812267'], 'CYTOBAND': [nan, nan, 'hs|12p13.1', 'hs|2q36.1', 'hs|20q11.21'], 'DESCRIPTION': [nan, nan, 'Homo sapiens heme binding protein 1 (HEBP1), mRNA [NM_015987]', 'Homo sapiens potassium voltage-gated channel, Isk-related family, member 4 (KCNE4), mRNA [NM_080671]', 'Homo sapiens BPI fold containing family A, member 3 (BPIFA3), transcript variant 1, mRNA [NM_178466]'], 'GO_ID': [nan, nan, 'GO:0005488(binding)|GO:0005576(extracellular region)|GO:0005737(cytoplasm)|GO:0005739(mitochondrion)|GO:0005829(cytosol)|GO:0007623(circadian rhythm)|GO:0020037(heme binding)', 'GO:0005244(voltage-gated ion channel activity)|GO:0005249(voltage-gated potassium channel activity)|GO:0006811(ion transport)|GO:0006813(potassium ion transport)|GO:0016020(membrane)|GO:0016021(integral to membrane)|GO:0016324(apical plasma membrane)', 'GO:0005576(extracellular region)|GO:0008289(lipid binding)'], 'SEQUENCE': [nan, nan, 'AAGGGGGAAAATGTGATTTGTGCCTGATCTTTCATCTGTGATTCTTATAAGAGCTTTGTC', 'GCAAGTCTCTCTGCACCTATTAAAAAGTGATGTATATACTTCCTTCTTATTCTGTTGAGT', 'CATTCCATAAGGAGTGGTTCTCGGCAAATATCTCACTTGAATTTGACCTTGAATTGAGAC']}\\n\""
      ]
     },
     "execution_count": 48,
     "metadata": {},
     "output_type": "execute_result"
    }
   ],
   "source": [
    "# if requires_gene_mapping:\n",
    "f'''\n",
    "As a biomedical research team, we extracted the gene annotation data from a series in the GEO database, and saved it to a Python dictionary. Please read the dictionary, and decide which key stores the ID of the probe, and which key stores the gene symbols. Please strict follow this format in your answer:\n",
    "probe_id_key = key_name1\n",
    "gene_symb_key = key_name2\n",
    "\n",
    "Gene annotation dictionary:\n",
    "{gene_annotation_summary}\n",
    "'''"
   ]
  },
  {
   "cell_type": "code",
   "execution_count": 49,
   "metadata": {
    "ExecuteTime": {
     "end_time": "2023-12-31T21:19:35.590786881Z",
     "start_time": "2023-12-31T21:19:35.537132859Z"
    }
   },
   "outputs": [],
   "source": [
    "if requires_gene_mapping:\n",
    "    probe_id_key = 'ID'\n",
    "    gene_symb_key = 'GENE_SYMBOL'\n",
    "    gene_mapping = get_gene_mapping(gene_annotation, probe_id_key, gene_symb_key)\n",
    "    genetic_data = apply_gene_mapping(genetic_data, gene_mapping)"
   ]
  },
  {
   "cell_type": "code",
   "execution_count": 50,
   "metadata": {
    "ExecuteTime": {
     "end_time": "2023-12-31T21:19:35.590837318Z",
     "start_time": "2023-12-31T21:19:35.537209586Z"
    }
   },
   "outputs": [
    {
     "name": "stderr",
     "output_type": "stream",
     "text": [
      "29 input query terms found dup hits:\t[('A2MP1', 2), ('AACSP1', 2), ('ABCC13', 2), ('ABCC6P1', 2), ('ACTR3BP2', 2), ('ACTR3BP5', 3), ('ADA\n",
      "64 input query terms found no hit:\t['1/2-SBSRNA4', 'A2LD1', 'AARS', 'AATK-AS1', 'ABP1', 'ACCN1', 'ACCN2', 'ACCN3', 'ACCN4', 'ACCN5', 'A\n",
      "20 input query terms found dup hits:\t[('ARL2BPP2', 2), ('ARMCX3-AS1', 2), ('ASB9P1', 2), ('ASMTL-AS1', 3), ('ATP6AP1L', 2), ('ATP8B5P', 2\n",
      "281 input query terms found no hit:\t['ARMC4', 'ARNTL', 'ARNTL2', 'ARPM1', 'ARSE', 'ARVP6125', 'ASNA1', 'ATHL1', 'ATP1A1OS', 'ATP5A1', 'A\n",
      "4 input query terms found dup hits:\t[('C2orf83', 2), ('C3P1', 2), ('C5orf60', 2), ('CA5BP1', 2)]\n",
      "570 input query terms found no hit:\t['C17orf103', 'C17orf104', 'C17orf105', 'C17orf108', 'C17orf109', 'C17orf110', 'C17orf13', 'C17orf28\n",
      "19 input query terms found dup hits:\t[('CCDC144NL', 2), ('CCDC162P', 2), ('CD99P1', 3), ('CDR1', 2), ('CDRT15P1', 2), ('CDRT15P2', 2), ('\n",
      "61 input query terms found no hit:\t['CCDC129', 'CCDC130', 'CCDC132', 'CCDC135', 'CCDC147', 'CCDC151', 'CCDC153', 'CCDC155', 'CCDC163P',\n",
      "29 input query terms found dup hits:\t[('COL6A4P1', 2), ('COL6A4P2', 2), ('COPG2IT1', 2), ('CROCCP2', 2), ('CRYBB2P1', 2), ('CSNK1A1P1', 2\n",
      "95 input query terms found no hit:\t['COPG', 'COX4NB', 'CPSF3L', 'CRAMP1L', 'CRIPAK', 'CSDA', 'CSRP2BP', 'CSTT', 'CTAGE15P', 'CTAGE5', '\n",
      "22 input query terms found dup hits:\t[('DNAH10OS', 2), ('DNAJA1P5', 2), ('DNM1P46', 2), ('DNM3OS', 2), ('DNMBP-AS1', 2), ('DOC2GP', 2), (\n",
      "113 input query terms found no hit:\t['DNAJC3-AS1', 'DNAPTP3', 'DOM3Z', 'DOPEY1', 'DOPEY2', 'DPCR1', 'DSCR3', 'DSCR6', 'DUPD1', 'DUS2L', \n",
      "20 input query terms found dup hits:\t[('FAM182B', 2), ('FAM201A', 2), ('FAM201B', 2), ('FAM41AY1', 2), ('FAM66A', 2), ('FAM66C', 2), ('FA\n",
      "327 input query terms found no hit:\t['FAM183A', 'FAM183B', 'FAM188A', 'FAM188B', 'FAM189A1', 'FAM189A2', 'FAM189B', 'FAM18A', 'FAM18B1',\n",
      "27 input query terms found dup hits:\t[('GBP1P1', 2), ('GEMIN8P4', 2), ('GGT3P', 2), ('GGT8P', 2), ('GLRA4', 2), ('GNL3LP1', 2), ('GOLGA2P\n",
      "128 input query terms found no hit:\t['GARS', 'GATS', 'GATSL3', 'GBA', 'GBAS', 'GCET2', 'GCFC1', 'GCFC1-AS1', 'GCN1L1', 'GCNT6', 'GDEP', \n",
      "21 input query terms found dup hits:\t[('HLA-DRB6', 2), ('HLA-J', 9), ('HLA-L', 7), ('HMGA1P4', 2), ('HMGA1P7', 2), ('HMGB3P1', 2), ('HOTA\n",
      "98 input query terms found no hit:\t['HIST1H2BG', 'HIST1H2BH', 'HIST1H2BI', 'HIST1H2BJ', 'HIST1H2BK', 'HIST1H2BL', 'HIST1H2BM', 'HIST1H2\n",
      "33 input query terms found dup hits:\t[('KIR3DX1', 5), ('KLKP1', 2), ('KRT16P2', 2), ('KRT16P3', 2), ('KRT42P', 2), ('KRT8P12', 2), ('KRT8\n",
      "162 input query terms found no hit:\t['KDELC1', 'KDELC2', 'KDM4DL', 'KGFLP1', 'KGFLP2', 'KIAA0020', 'KIAA0090', 'KIAA0100', 'KIAA0101', '\n",
      "894 input query terms found no hit:\t['LOC100127909', 'LOC100127910', 'LOC100127940', 'LOC100127946', 'LOC100127951', 'LOC100127961', 'LO\n",
      "946 input query terms found no hit:\t['LOC100505921', 'LOC100505923', 'LOC100505928', 'LOC100505930', 'LOC100505932', 'LOC100505933', 'LO\n",
      "849 input query terms found no hit:\t['LOC100653296', 'LOC100653304', 'LOC100653323', 'LOC100653325', 'LOC100653329', 'LOC100653338', 'LO\n",
      "13 input query terms found dup hits:\t[('LPAL2', 2), ('LRP5L', 2), ('LRRC37BP1', 2), ('LY6G6E', 8), ('MALAT1', 2), ('MARK2P9', 2), ('MAST4\n",
      "181 input query terms found no hit:\t['LOC729313', 'LOC729324', 'LOC729424', 'LOC729444', 'LOC729451', 'LOC729454', 'LOC729468', 'LOC7295\n",
      "16 input query terms found dup hits:\t[('MOXD2P', 3), ('MRS2P2', 2), ('MSLNL', 2), ('MST1P2', 2), ('MSTO2P', 2), ('MSX2P1', 2), ('MT1DP', \n",
      "57 input query terms found no hit:\t['MOP-1', 'MPP5', 'MPP6', 'MRE11A', 'MRP63', 'MRPS36', 'MRVI1', 'MRVI1-AS1', 'MS4A8B', 'MSL3P1', 'MS\n",
      "21 input query terms found dup hits:\t[('NRADDP', 2), ('NUDT9P1', 2), ('NXF5', 2), ('OR10J3', 3), ('OR10R3P', 2), ('OR2A9P', 2), ('OR3A4P'\n",
      "57 input query terms found no hit:\t['NRD1', 'NS3BP', 'NSAP11', 'NT5C3', 'NT5C3L', 'NUDT16P1', 'NUPL1', 'NUPL2', 'O3FAR1', 'OBFC1', 'OBF\n",
      "20 input query terms found dup hits:\t[('PCDHB19P', 3), ('PCNAP1', 2), ('PDXDC2P', 2), ('PGM5P2', 2), ('PI4KAP1', 2), ('PI4KAP2', 2), ('PI\n",
      "58 input query terms found no hit:\t['PCDHB17', 'PCDHB18', 'PCDP1', 'PCNX', 'PCNXL2', 'PCNXL3', 'PDDC1', 'PDZD3', 'PER4', 'PET112', 'PGC\n",
      "12 input query terms found dup hits:\t[('PRKXP1', 2), ('PSG10P', 2), ('PSORS1C3', 8), ('PSPHP1', 2), ('PTTG3P', 2), ('PVT1', 2), ('PYY2', \n",
      "143 input query terms found no hit:\t['PRHOXNB', 'PRIC285', 'PRKCDBP', 'PRKRIR', 'PRMT10', 'PRO0471', 'PRO0611', 'PRO0628', 'PRO1596', 'P\n",
      "29 input query terms found dup hits:\t[('RNF138P1', 2), ('RP9P', 2), ('RPL13P5', 2), ('RPL21P44', 2), ('RPL23AP32', 2), ('RPL23AP53', 2), \n",
      "62 input query terms found no hit:\t['RLTPR', 'RN18S1', 'RN28S1', 'RN5-8S1', 'RNF165', 'RNF219', 'RNMTL1', 'RNU1-5', 'RNU105A', 'RNU2-2'\n",
      "68 input query terms found dup hits:\t[('SH3GL1P1', 2), ('SH3GL1P2', 2), ('SH3GL1P3', 2), ('SIGLEC5', 2), ('SLC6A10P', 2), ('SLC7A5P1', 2)\n",
      "34 input query terms found no hit:\t['SHFM1', 'SIGLECP3', 'SKCG-1', 'SKINTL', 'SKIV2L', 'SKIV2L2', 'SLC22A20', 'SLC24A6', 'SLC26A10', 'S\n",
      "16 input query terms found dup hits:\t[('SNRPD2P2', 2), ('SOS1-IT1', 2), ('SP3P', 2), ('SPAG5-AS1', 2), ('SPDYE7P', 2), ('SPRR2C', 2), ('S\n",
      "51 input query terms found no hit:\t['SOLH', 'SPANXB2', 'SPATA5', 'SPATA5L1', 'SPDYE8P', 'SPERT', 'SPG20', 'SPG20OS', 'SPHAR', 'SPINLW1'\n",
      "16 input query terms found dup hits:\t[('THSD1P1', 2), ('TLR8-AS1', 2), ('TMEM191A', 2), ('TMPRSS11BNL', 2), ('TMSB4XP1', 2), ('TOB2P1', 2\n",
      "64 input query terms found no hit:\t['TH1L', 'THEG', 'THEG5', 'THOC4', 'TM7SF4', 'TMCO7', 'TMEM110', 'TMEM111', 'TMEM133', 'TMEM136', 'T\n",
      "19 input query terms found dup hits:\t[('TTTY11', 2), ('TTTY18', 2), ('TTTY2', 2), ('TUBBP5', 2), ('TYRO3P', 2), ('UBE2E4P', 2), ('UBE2MP1\n",
      "275 input query terms found no hit:\t['TUSC5', 'TWISTNB', 'TXLNG2P', 'TXNDC3', 'TXNRD3NB', 'UBE2CBP', 'UBE2Q2P3', 'UFD1L', 'UG0898H09', '\n",
      "1000 input query terms found no hit:\t['XLOC_000478', 'XLOC_000480', 'XLOC_000482', 'XLOC_000483', 'XLOC_000486', 'XLOC_000490', 'XLOC_000\n",
      "1000 input query terms found no hit:\t['XLOC_002354', 'XLOC_002355', 'XLOC_002356', 'XLOC_002358', 'XLOC_002360', 'XLOC_002362', 'XLOC_002\n",
      "1000 input query terms found no hit:\t['XLOC_004361', 'XLOC_004366', 'XLOC_004371', 'XLOC_004373', 'XLOC_004374', 'XLOC_004375', 'XLOC_004\n",
      "999 input query terms found no hit:\t['XLOC_006302', 'XLOC_006303', 'XLOC_006304', 'XLOC_006306', 'XLOC_006307', 'XLOC_006308', 'XLOC_006\n",
      "998 input query terms found no hit:\t['XLOC_008455', 'XLOC_008456', 'XLOC_008461', 'XLOC_008465', 'XLOC_008466', 'XLOC_008467', 'XLOC_008\n",
      "1000 input query terms found no hit:\t['XLOC_010530', 'XLOC_010533', 'XLOC_010535', 'XLOC_010538', 'XLOC_010540', 'XLOC_010541', 'XLOC_010\n",
      "1000 input query terms found no hit:\t['XLOC_012707', 'XLOC_012708', 'XLOC_012709', 'XLOC_012710', 'XLOC_012711', 'XLOC_012712', 'XLOC_012\n",
      "1000 input query terms found no hit:\t['XLOC_l2_003674', 'XLOC_l2_003682', 'XLOC_l2_003705', 'XLOC_l2_003732', 'XLOC_l2_003736', 'XLOC_l2_\n",
      "9 input query terms found dup hits:\t[('ZNF137P', 2), ('ZNF204P', 2), ('ZNF286B', 2), ('ZNF29P', 2), ('ZNF300P1', 2), ('ZNF781', 2), ('ZN\n",
      "235 input query terms found no hit:\t['XLOC_l2_014421', 'XLOC_l2_014423', 'XLOC_l2_014424', 'XLOC_l2_014458', 'XLOC_l2_014459', 'XLOC_l2_\n",
      "4 input query terms found dup hits:\t[('ZNF876P', 2), ('ZNF890P', 2), ('ZNRF2P1', 2), ('ZSCAN12P1', 2)]\n",
      "9 input query terms found no hit:\t['ZNFX1-AS1', 'ZNRD1', 'ZNRD1-AS1', 'ZSCAN5D', 'ZUFSP', 'human', 'lincROR', 'psiTPTE22', 'tAKR']\n"
     ]
    }
   ],
   "source": [
    "if NORMALIZE_GENE:\n",
    "    genetic_data = normalize_gene_symbols_in_index(genetic_data)"
   ]
  },
  {
   "cell_type": "code",
   "execution_count": 51,
   "metadata": {
    "ExecuteTime": {
     "end_time": "2023-12-31T21:19:35.590902191Z",
     "start_time": "2023-12-31T21:19:35.537285901Z"
    }
   },
   "outputs": [],
   "source": [
    "merged_data = geo_merge_clinical_genetic_data(selected_clinical_data, genetic_data)\n",
    "# The preprocessing runs through, which means is_available should be True\n",
    "is_available = True"
   ]
  },
  {
   "cell_type": "code",
   "execution_count": 52,
   "metadata": {
    "ExecuteTime": {
     "end_time": "2023-12-31T21:19:35.591095170Z",
     "start_time": "2023-12-31T21:19:35.538708445Z"
    }
   },
   "outputs": [
    {
     "name": "stdout",
     "output_type": "stream",
     "text": [
      "The merged dataset contains 31 samples.\n"
     ]
    }
   ],
   "source": [
    "print(f\"The merged dataset contains {len(merged_data)} samples.\")"
   ]
  },
  {
   "cell_type": "code",
   "execution_count": 53,
   "metadata": {
    "ExecuteTime": {
     "end_time": "2023-12-31T21:19:35.610849182Z",
     "start_time": "2023-12-31T21:19:35.541210258Z"
    }
   },
   "outputs": [
    {
     "name": "stdout",
     "output_type": "stream",
     "text": [
      "For the feature 'Polycystic Kidney Disease', the least common label is '1.0' with 14 occurrences. This represents 45.16% of the dataset.\n",
      "The distribution of the feature 'Polycystic Kidney Disease' in this dataset is fine.\n",
      "\n",
      "For the feature 'Gender', the least common label is '1.0' with 15 occurrences. This represents 48.39% of the dataset.\n",
      "The distribution of the feature 'Gender' in this dataset is fine.\n",
      "\n"
     ]
    },
    {
     "data": {
      "text/plain": [
       "False"
      ]
     },
     "execution_count": 53,
     "metadata": {},
     "output_type": "execute_result"
    }
   ],
   "source": [
    "is_trait_biased, merged_data = judge_and_remove_biased_features(merged_data, TRAIT, trait_type=trait_type)\n",
    "is_trait_biased"
   ]
  },
  {
   "cell_type": "code",
   "execution_count": 54,
   "metadata": {
    "ExecuteTime": {
     "end_time": "2023-12-31T21:19:35.610923234Z",
     "start_time": "2023-12-31T21:19:35.584848473Z"
    }
   },
   "outputs": [],
   "source": [
    "save_cohort_info(cohort, JSON_PATH, is_available, is_trait_biased, merged_data)"
   ]
  },
  {
   "cell_type": "code",
   "execution_count": 55,
   "metadata": {
    "ExecuteTime": {
     "end_time": "2023-12-31T21:19:35.610970734Z",
     "start_time": "2023-12-31T21:19:35.585042694Z"
    }
   },
   "outputs": [],
   "source": [
    "merged_data.head()\n",
    "if not is_trait_biased:\n",
    "    merged_data.to_csv(os.path.join(OUTPUT_DIR, cohort+'.csv'), index=False)"
   ]
  },
  {
   "cell_type": "markdown",
   "metadata": {
    "ExecuteTime": {
     "end_time": "2023-12-31T03:58:22.271683755Z",
     "start_time": "2023-12-31T03:58:22.246557674Z"
    },
    "id": "-MTPhRGxJV7I"
   },
   "source": [
    "### 3. Do regression & Cross Validation"
   ]
  },
  {
   "cell_type": "code",
   "execution_count": 4,
   "metadata": {
    "ExecuteTime": {
     "end_time": "2023-12-31T21:19:44.459442087Z",
     "start_time": "2023-12-31T21:19:44.416219648Z"
    }
   },
   "outputs": [
    {
     "data": {
      "text/html": [
       "<div>\n",
       "<style scoped>\n",
       "    .dataframe tbody tr th:only-of-type {\n",
       "        vertical-align: middle;\n",
       "    }\n",
       "\n",
       "    .dataframe tbody tr th {\n",
       "        vertical-align: top;\n",
       "    }\n",
       "\n",
       "    .dataframe thead th {\n",
       "        text-align: right;\n",
       "    }\n",
       "</style>\n",
       "<table border=\"1\" class=\"dataframe\">\n",
       "  <thead>\n",
       "    <tr style=\"text-align: right;\">\n",
       "      <th></th>\n",
       "      <th>cohort_id</th>\n",
       "      <th>is_usable</th>\n",
       "      <th>is_available</th>\n",
       "      <th>is_biased</th>\n",
       "      <th>has_age</th>\n",
       "      <th>has_gender</th>\n",
       "      <th>sample_size</th>\n",
       "      <th>note</th>\n",
       "    </tr>\n",
       "  </thead>\n",
       "  <tbody>\n",
       "    <tr>\n",
       "      <th>0</th>\n",
       "      <td>GSE74451</td>\n",
       "      <td>True</td>\n",
       "      <td>True</td>\n",
       "      <td>False</td>\n",
       "      <td>False</td>\n",
       "      <td>True</td>\n",
       "      <td>31</td>\n",
       "      <td></td>\n",
       "    </tr>\n",
       "    <tr>\n",
       "      <th>1</th>\n",
       "      <td>GSE74453</td>\n",
       "      <td>True</td>\n",
       "      <td>True</td>\n",
       "      <td>False</td>\n",
       "      <td>False</td>\n",
       "      <td>True</td>\n",
       "      <td>31</td>\n",
       "      <td></td>\n",
       "    </tr>\n",
       "  </tbody>\n",
       "</table>\n",
       "</div>"
      ],
      "text/plain": [
       "  cohort_id  is_usable  is_available  is_biased  has_age  has_gender  \\\n",
       "0  GSE74451       True          True      False    False        True   \n",
       "1  GSE74453       True          True      False    False        True   \n",
       "\n",
       "   sample_size note  \n",
       "0           31       \n",
       "1           31       "
      ]
     },
     "execution_count": 4,
     "metadata": {},
     "output_type": "execute_result"
    }
   ],
   "source": [
    "# Check the information of usable cohorts\n",
    "best_cohort, ranked_df = filter_and_rank_cohorts(JSON_PATH)\n",
    "ranked_df"
   ]
  },
  {
   "cell_type": "code",
   "execution_count": 11,
   "metadata": {
    "ExecuteTime": {
     "end_time": "2023-12-31T21:19:44.808945960Z",
     "start_time": "2023-12-31T21:19:44.799467072Z"
    }
   },
   "outputs": [
    {
     "data": {
      "text/plain": [
       "'GSE74451'"
      ]
     },
     "execution_count": 11,
     "metadata": {},
     "output_type": "execute_result"
    }
   ],
   "source": [
    "# If both age and gender have available cohorts, select 'age' as the condition.\n",
    "condition = 'Gender'\n",
    "filter_column = 'has_' + condition.lower()\n",
    "\n",
    "condition_best_cohort, condition_ranked_df = filter_and_rank_cohorts(JSON_PATH, filter_column)\n",
    "condition_best_cohort"
   ]
  },
  {
   "cell_type": "code",
   "execution_count": 12,
   "metadata": {
    "ExecuteTime": {
     "end_time": "2023-12-31T21:19:52.222719978Z",
     "start_time": "2023-12-31T21:19:45.162873006Z"
    }
   },
   "outputs": [
    {
     "data": {
      "text/html": [
       "<div>\n",
       "<style scoped>\n",
       "    .dataframe tbody tr th:only-of-type {\n",
       "        vertical-align: middle;\n",
       "    }\n",
       "\n",
       "    .dataframe tbody tr th {\n",
       "        vertical-align: top;\n",
       "    }\n",
       "\n",
       "    .dataframe thead th {\n",
       "        text-align: right;\n",
       "    }\n",
       "</style>\n",
       "<table border=\"1\" class=\"dataframe\">\n",
       "  <thead>\n",
       "    <tr style=\"text-align: right;\">\n",
       "      <th></th>\n",
       "      <th>cohort_id</th>\n",
       "      <th>is_usable</th>\n",
       "      <th>is_available</th>\n",
       "      <th>is_biased</th>\n",
       "      <th>has_age</th>\n",
       "      <th>has_gender</th>\n",
       "      <th>sample_size</th>\n",
       "      <th>note</th>\n",
       "    </tr>\n",
       "  </thead>\n",
       "  <tbody>\n",
       "    <tr>\n",
       "      <th>0</th>\n",
       "      <td>GSE74451</td>\n",
       "      <td>True</td>\n",
       "      <td>True</td>\n",
       "      <td>False</td>\n",
       "      <td>False</td>\n",
       "      <td>True</td>\n",
       "      <td>31</td>\n",
       "      <td></td>\n",
       "    </tr>\n",
       "    <tr>\n",
       "      <th>1</th>\n",
       "      <td>GSE74453</td>\n",
       "      <td>True</td>\n",
       "      <td>True</td>\n",
       "      <td>False</td>\n",
       "      <td>False</td>\n",
       "      <td>True</td>\n",
       "      <td>31</td>\n",
       "      <td></td>\n",
       "    </tr>\n",
       "  </tbody>\n",
       "</table>\n",
       "</div>"
      ],
      "text/plain": [
       "  cohort_id  is_usable  is_available  is_biased  has_age  has_gender  \\\n",
       "0  GSE74451       True          True      False    False        True   \n",
       "1  GSE74453       True          True      False    False        True   \n",
       "\n",
       "   sample_size note  \n",
       "0           31       \n",
       "1           31       "
      ]
     },
     "execution_count": 12,
     "metadata": {},
     "output_type": "execute_result"
    }
   ],
   "source": [
    "condition_ranked_df.head()"
   ]
  },
  {
   "cell_type": "code",
   "execution_count": 13,
   "metadata": {
    "ExecuteTime": {
     "end_time": "2023-12-31T21:19:52.234945878Z",
     "start_time": "2023-12-31T21:19:52.231604618Z"
    }
   },
   "outputs": [
    {
     "data": {
      "text/html": [
       "<div>\n",
       "<style scoped>\n",
       "    .dataframe tbody tr th:only-of-type {\n",
       "        vertical-align: middle;\n",
       "    }\n",
       "\n",
       "    .dataframe tbody tr th {\n",
       "        vertical-align: top;\n",
       "    }\n",
       "\n",
       "    .dataframe thead th {\n",
       "        text-align: right;\n",
       "    }\n",
       "</style>\n",
       "<table border=\"1\" class=\"dataframe\">\n",
       "  <thead>\n",
       "    <tr style=\"text-align: right;\">\n",
       "      <th></th>\n",
       "      <th>Polycystic Kidney Disease</th>\n",
       "      <th>Gender</th>\n",
       "      <th>A1BG</th>\n",
       "      <th>A1BG-AS1</th>\n",
       "      <th>A1CF</th>\n",
       "      <th>A2M</th>\n",
       "      <th>A2ML1</th>\n",
       "      <th>A2MP1</th>\n",
       "      <th>A4GALT</th>\n",
       "      <th>A4GNT</th>\n",
       "      <th>...</th>\n",
       "      <th>ZWILCH</th>\n",
       "      <th>ZWINT</th>\n",
       "      <th>ZXDA</th>\n",
       "      <th>ZXDB</th>\n",
       "      <th>ZXDC</th>\n",
       "      <th>ZYG11A</th>\n",
       "      <th>ZYG11B</th>\n",
       "      <th>ZYX</th>\n",
       "      <th>ZZEF1</th>\n",
       "      <th>ZZZ3</th>\n",
       "    </tr>\n",
       "  </thead>\n",
       "  <tbody>\n",
       "    <tr>\n",
       "      <th>0</th>\n",
       "      <td>0.0</td>\n",
       "      <td>1.0</td>\n",
       "      <td>0.777578</td>\n",
       "      <td>-0.031899</td>\n",
       "      <td>-7.052572</td>\n",
       "      <td>2.396515</td>\n",
       "      <td>-7.083835</td>\n",
       "      <td>-7.425731</td>\n",
       "      <td>2.804982</td>\n",
       "      <td>-7.272234</td>\n",
       "      <td>...</td>\n",
       "      <td>1.470103</td>\n",
       "      <td>2.400911</td>\n",
       "      <td>-4.278163</td>\n",
       "      <td>1.304596</td>\n",
       "      <td>-0.821672</td>\n",
       "      <td>-6.820560</td>\n",
       "      <td>-0.045927</td>\n",
       "      <td>4.279770</td>\n",
       "      <td>1.738270</td>\n",
       "      <td>1.128268</td>\n",
       "    </tr>\n",
       "    <tr>\n",
       "      <th>1</th>\n",
       "      <td>0.0</td>\n",
       "      <td>0.0</td>\n",
       "      <td>0.019992</td>\n",
       "      <td>0.399478</td>\n",
       "      <td>-6.938511</td>\n",
       "      <td>3.753389</td>\n",
       "      <td>-7.398698</td>\n",
       "      <td>-7.517762</td>\n",
       "      <td>2.968176</td>\n",
       "      <td>-7.668136</td>\n",
       "      <td>...</td>\n",
       "      <td>0.890041</td>\n",
       "      <td>2.413140</td>\n",
       "      <td>-4.454893</td>\n",
       "      <td>1.508252</td>\n",
       "      <td>-0.785966</td>\n",
       "      <td>-6.744974</td>\n",
       "      <td>0.214816</td>\n",
       "      <td>3.811045</td>\n",
       "      <td>2.255619</td>\n",
       "      <td>1.009094</td>\n",
       "    </tr>\n",
       "    <tr>\n",
       "      <th>2</th>\n",
       "      <td>0.0</td>\n",
       "      <td>1.0</td>\n",
       "      <td>-0.339473</td>\n",
       "      <td>0.491183</td>\n",
       "      <td>-6.495134</td>\n",
       "      <td>2.026154</td>\n",
       "      <td>-7.245238</td>\n",
       "      <td>-7.055791</td>\n",
       "      <td>2.908653</td>\n",
       "      <td>-7.448484</td>\n",
       "      <td>...</td>\n",
       "      <td>1.461866</td>\n",
       "      <td>2.637536</td>\n",
       "      <td>-4.616670</td>\n",
       "      <td>1.322132</td>\n",
       "      <td>-0.657490</td>\n",
       "      <td>-6.710567</td>\n",
       "      <td>-0.142284</td>\n",
       "      <td>4.100192</td>\n",
       "      <td>2.016346</td>\n",
       "      <td>1.139125</td>\n",
       "    </tr>\n",
       "    <tr>\n",
       "      <th>3</th>\n",
       "      <td>0.0</td>\n",
       "      <td>1.0</td>\n",
       "      <td>-1.234234</td>\n",
       "      <td>-0.043165</td>\n",
       "      <td>-6.282820</td>\n",
       "      <td>2.604408</td>\n",
       "      <td>-7.348601</td>\n",
       "      <td>-7.749988</td>\n",
       "      <td>3.169038</td>\n",
       "      <td>-6.342183</td>\n",
       "      <td>...</td>\n",
       "      <td>1.076129</td>\n",
       "      <td>2.284595</td>\n",
       "      <td>-4.187583</td>\n",
       "      <td>1.438889</td>\n",
       "      <td>-1.085706</td>\n",
       "      <td>-6.749612</td>\n",
       "      <td>-0.004093</td>\n",
       "      <td>3.967128</td>\n",
       "      <td>2.234359</td>\n",
       "      <td>1.119471</td>\n",
       "    </tr>\n",
       "    <tr>\n",
       "      <th>4</th>\n",
       "      <td>0.0</td>\n",
       "      <td>0.0</td>\n",
       "      <td>-0.343582</td>\n",
       "      <td>0.327540</td>\n",
       "      <td>-6.263671</td>\n",
       "      <td>3.323712</td>\n",
       "      <td>-7.548939</td>\n",
       "      <td>-6.871136</td>\n",
       "      <td>6.282518</td>\n",
       "      <td>-7.604585</td>\n",
       "      <td>...</td>\n",
       "      <td>0.548717</td>\n",
       "      <td>2.103316</td>\n",
       "      <td>-4.749416</td>\n",
       "      <td>0.905256</td>\n",
       "      <td>-0.884113</td>\n",
       "      <td>-7.316437</td>\n",
       "      <td>0.054186</td>\n",
       "      <td>3.899565</td>\n",
       "      <td>1.711138</td>\n",
       "      <td>0.835255</td>\n",
       "    </tr>\n",
       "  </tbody>\n",
       "</table>\n",
       "<p>5 rows × 18271 columns</p>\n",
       "</div>"
      ],
      "text/plain": [
       "   Polycystic Kidney Disease  Gender      A1BG  A1BG-AS1      A1CF       A2M  \\\n",
       "0                        0.0     1.0  0.777578 -0.031899 -7.052572  2.396515   \n",
       "1                        0.0     0.0  0.019992  0.399478 -6.938511  3.753389   \n",
       "2                        0.0     1.0 -0.339473  0.491183 -6.495134  2.026154   \n",
       "3                        0.0     1.0 -1.234234 -0.043165 -6.282820  2.604408   \n",
       "4                        0.0     0.0 -0.343582  0.327540 -6.263671  3.323712   \n",
       "\n",
       "      A2ML1     A2MP1    A4GALT     A4GNT  ...    ZWILCH     ZWINT      ZXDA  \\\n",
       "0 -7.083835 -7.425731  2.804982 -7.272234  ...  1.470103  2.400911 -4.278163   \n",
       "1 -7.398698 -7.517762  2.968176 -7.668136  ...  0.890041  2.413140 -4.454893   \n",
       "2 -7.245238 -7.055791  2.908653 -7.448484  ...  1.461866  2.637536 -4.616670   \n",
       "3 -7.348601 -7.749988  3.169038 -6.342183  ...  1.076129  2.284595 -4.187583   \n",
       "4 -7.548939 -6.871136  6.282518 -7.604585  ...  0.548717  2.103316 -4.749416   \n",
       "\n",
       "       ZXDB      ZXDC    ZYG11A    ZYG11B       ZYX     ZZEF1      ZZZ3  \n",
       "0  1.304596 -0.821672 -6.820560 -0.045927  4.279770  1.738270  1.128268  \n",
       "1  1.508252 -0.785966 -6.744974  0.214816  3.811045  2.255619  1.009094  \n",
       "2  1.322132 -0.657490 -6.710567 -0.142284  4.100192  2.016346  1.139125  \n",
       "3  1.438889 -1.085706 -6.749612 -0.004093  3.967128  2.234359  1.119471  \n",
       "4  0.905256 -0.884113 -7.316437  0.054186  3.899565  1.711138  0.835255  \n",
       "\n",
       "[5 rows x 18271 columns]"
      ]
     },
     "execution_count": 13,
     "metadata": {},
     "output_type": "execute_result"
    }
   ],
   "source": [
    "merged_data = pd.read_csv(os.path.join(OUTPUT_DIR, condition_best_cohort + '.csv'))\n",
    "merged_data.head()"
   ]
  },
  {
   "cell_type": "code",
   "execution_count": 14,
   "metadata": {
    "ExecuteTime": {
     "end_time": "2023-12-31T21:19:52.312540150Z",
     "start_time": "2023-12-31T21:19:52.235772334Z"
    }
   },
   "outputs": [],
   "source": [
    "# Remove the other condition to prevent interference.\n",
    "merged_data = merged_data.drop(columns=[], errors='ignore').astype('float')\n",
    "\n",
    "X = merged_data.drop(columns=[TRAIT, condition]).values\n",
    "Y = merged_data[TRAIT].values\n",
    "Z = merged_data[condition].values"
   ]
  },
  {
   "cell_type": "markdown",
   "metadata": {},
   "source": [
    "Select the appropriate regression model depending on whether the dataset shows batch effect."
   ]
  },
  {
   "cell_type": "code",
   "execution_count": 15,
   "metadata": {
    "ExecuteTime": {
     "end_time": "2023-12-31T21:20:00.930840782Z",
     "start_time": "2023-12-31T21:19:52.319092572Z"
    }
   },
   "outputs": [
    {
     "data": {
      "text/plain": [
       "True"
      ]
     },
     "execution_count": 15,
     "metadata": {},
     "output_type": "execute_result"
    }
   ],
   "source": [
    "has_batch_effect = detect_batch_effect(X)\n",
    "has_batch_effect"
   ]
  },
  {
   "cell_type": "code",
   "execution_count": 16,
   "metadata": {
    "ExecuteTime": {
     "end_time": "2023-12-31T21:20:00.931029722Z",
     "start_time": "2023-12-31T21:20:00.929710828Z"
    }
   },
   "outputs": [],
   "source": [
    "# Select appropriate models based on whether the dataset has batch effect.\n",
    "# We experiment on two models for each branch. We will decide which one to choose later.\n",
    "\n",
    "if has_batch_effect:\n",
    "    model_constructor1 = VariableSelection\n",
    "    model_params1 = {'modified': True, 'lamda': 3e-4}\n",
    "    model_constructor2 = VariableSelection\n",
    "    model_params2 = {'modified': False}\n",
    "else:\n",
    "    model_constructor1 = Lasso\n",
    "    model_params1 = {'alpha': 1.0, 'random_state': 42}\n",
    "    model_constructor2 = VariableSelection\n",
    "    model_params2 = {'modified': False}"
   ]
  },
  {
   "cell_type": "code",
   "execution_count": 17,
   "metadata": {
    "ExecuteTime": {
     "end_time": "2023-12-31T21:20:20.709459824Z",
     "start_time": "2023-12-31T21:20:00.931657949Z"
    }
   },
   "outputs": [
    {
     "name": "stdout",
     "output_type": "stream",
     "text": [
      "alpha for Lasso: 0.0003\n",
      "alpha for Lasso: 0.0003\n",
      "alpha for Lasso: 0.0003\n",
      "alpha for Lasso: 0.0003\n",
      "alpha for Lasso: 0.0003\n",
      "The cross-validation accuracy is 56.67% ± 22.61%\n"
     ]
    }
   ],
   "source": [
    "trait_type = 'binary'  # Remember to set this properly, either 'binary' or 'continuous'\n",
    "cv_mean1, cv_std1 = cross_validation(X, Y, Z, model_constructor1, model_params1, target_type=trait_type)"
   ]
  },
  {
   "cell_type": "code",
   "execution_count": 18,
   "metadata": {
    "ExecuteTime": {
     "end_time": "2023-12-31T21:20:24.980870159Z",
     "start_time": "2023-12-31T21:20:20.516710807Z"
    }
   },
   "outputs": [
    {
     "name": "stdout",
     "output_type": "stream",
     "text": [
      "The cross-validation accuracy is 100.00% ± 0.00%\n"
     ]
    }
   ],
   "source": [
    "cv_mean2, cv_std2 = cross_validation(X, Y, Z, model_constructor2, model_params2, target_type=trait_type)"
   ]
  },
  {
   "cell_type": "code",
   "execution_count": 19,
   "metadata": {},
   "outputs": [
    {
     "name": "stdout",
     "output_type": "stream",
     "text": [
      "alpha for Lasso: 0.0003\n"
     ]
    }
   ],
   "source": [
    "normalized_X, _ = normalize_data(X)\n",
    "normalized_Z, _ = normalize_data(Z)\n",
    "\n",
    "# Train regression model on the whole dataset to identify significant genes\n",
    "model1 = ResidualizationRegressor(model_constructor1, model_params1)\n",
    "model1.fit(normalized_X, Y, normalized_Z)\n",
    "\n",
    "model2 = ResidualizationRegressor(model_constructor2, model_params2)\n",
    "model2.fit(normalized_X, Y, normalized_Z)"
   ]
  },
  {
   "cell_type": "markdown",
   "metadata": {
    "ExecuteTime": {
     "end_time": "2023-10-14T04:50:59.072075075Z",
     "start_time": "2023-10-14T04:50:38.739499998Z"
    },
    "id": "EjJrxbvb4nlj"
   },
   "source": [
    "### 4. Discussion and report"
   ]
  },
  {
   "cell_type": "code",
   "execution_count": 20,
   "metadata": {
    "ExecuteTime": {
     "end_time": "2023-12-31T21:20:25.000830410Z",
     "start_time": "2023-12-31T21:20:24.982834541Z"
    }
   },
   "outputs": [
    {
     "name": "stdout",
     "output_type": "stream",
     "text": [
      "Effect of the condition on the target variable:\n",
      "Variable: Gender\n",
      "Coefficient: -0.0500\n",
      "Found 24 genes with non-zero coefficients associated with the trait 'Polycystic Kidney Disease' conditional on the factor 'Gender'. These genes are identified as significant based on the regression model.\n",
      " Variable  Coefficient  Absolute Coefficient\n",
      "    DMXL2   -10.822747             10.822747\n",
      " C1orf210    10.208359             10.208359\n",
      "    BIRC3    -9.337225              9.337225\n",
      "   ZNF594    -7.857833              7.857833\n",
      "    PVRIG    -7.329107              7.329107\n",
      "     JPH1     5.983102              5.983102\n",
      "LOC389765    -5.059685              5.059685\n",
      "   MICAL2     4.425726              4.425726\n",
      "    SAMD5    -3.244684              3.244684\n",
      "    GPR82    -2.912366              2.912366\n",
      "     LCTL     2.841218              2.841218\n",
      "  FAM111A    -2.462449              2.462449\n",
      "   VPS26B     2.370523              2.370523\n",
      "  DCLRE1A    -2.359259              2.359259\n",
      "     OXR1    -2.235481              2.235481\n",
      "    NODAL     2.021316              2.021316\n",
      "    NR2E1     1.216678              1.216678\n",
      "     RNF8     0.982890              0.982890\n",
      "    IFIH1    -0.972897              0.972897\n",
      "     DEXI     0.667811              0.667811\n",
      "     IRF1    -0.568152              0.568152\n",
      "   ANKLE1    -0.492545              0.492545\n",
      "   ZNF551    -0.384297              0.384297\n",
      "    GIPC1     0.261259              0.261259\n"
     ]
    },
    {
     "name": "stderr",
     "output_type": "stream",
     "text": [
      "/Users/ollie/Documents/JupyterProjects/AI4Science_gold_standard/stage1/Jinglin/utils.py:469: SettingWithCopyWarning: \n",
      "A value is trying to be set on a copy of a slice from a DataFrame.\n",
      "Try using .loc[row_indexer,col_indexer] = value instead\n",
      "\n",
      "See the caveats in the documentation: https://pandas.pydata.org/pandas-docs/stable/user_guide/indexing.html#returning-a-view-versus-a-copy\n",
      "  gene_regression_df['Absolute Coefficient'] = gene_regression_df['Coefficient'].abs()\n"
     ]
    }
   ],
   "source": [
    "feature_cols = merged_data.columns.tolist()\n",
    "feature_cols.remove(TRAIT)\n",
    "\n",
    "threshold = 0.05\n",
    "interpret_result(model1, feature_cols, TRAIT, condition, threshold=threshold, save_output=True,\n",
    "                 output_dir=OUTPUT_DIR, model_id=1)"
   ]
  },
  {
   "cell_type": "code",
   "execution_count": 21,
   "metadata": {},
   "outputs": [
    {
     "name": "stdout",
     "output_type": "stream",
     "text": [
      "Effect of the condition on the target variable:\n",
      "Variable: Gender\n",
      "Coefficient: -0.0500\n",
      "Found 97 significant genes associated with the trait 'Polycystic Kidney Disease' conditional on the factor 'Gender', with corrected p-value < 0.05:\n",
      "      Variable  Coefficient      p_value  corrected_p_value\n",
      "          CHAT    -0.407131 1.646791e-09           0.000030\n",
      "       PCDHGC4    -0.348677 2.682962e-08           0.000245\n",
      "         SMCR2    -0.400494 4.862761e-08           0.000296\n",
      "         WDR93    -0.338475 1.887502e-07           0.000862\n",
      "         MED29    -0.328084 2.707427e-07           0.000989\n",
      "          CRNN    -0.340412 3.321832e-07           0.001011\n",
      "        HAPLN2    -0.342737 5.128960e-07           0.001339\n",
      "         HMGCL    -0.322867 6.246477e-07           0.001426\n",
      "      SACS-AS1    -0.347340 7.512257e-07           0.001525\n",
      "        GTSCR1    -0.320569 1.246130e-06           0.002277\n",
      "        LY6G6E    -0.297001 1.396792e-06           0.002320\n",
      "        OR10A5    -0.349958 1.617144e-06           0.002462\n",
      "         PCIF1    -0.327140 2.901768e-06           0.004078\n",
      "        PTPN23     0.293052 3.813343e-06           0.004644\n",
      "         CNPY4     0.306986 3.726698e-06           0.004644\n",
      "       DNAJC13     0.298667 4.586004e-06           0.005236\n",
      "         KAT2A     0.278781 5.483063e-06           0.005892\n",
      "         ASB18    -0.319430 5.985955e-06           0.006075\n",
      "        S100A5    -0.304970 7.188939e-06           0.006912\n",
      "        SLC6A5    -0.328324 8.454489e-06           0.007021\n",
      "         PIAS4    -0.263276 7.984566e-06           0.007021\n",
      "          ARTN    -0.301227 8.188680e-06           0.007021\n",
      "           LTK    -0.297877 8.951964e-06           0.007111\n",
      "          CCZ1    -0.243822 1.138847e-05           0.008669\n",
      "         NMUR2    -0.293435 1.266406e-05           0.009254\n",
      "         ESRRG    -0.291985 1.413937e-05           0.009935\n",
      "        WNT10B    -0.323985 1.473291e-05           0.009969\n",
      "          ST14    -0.282652 1.721833e-05           0.011234\n",
      "         FSCN2    -0.304736 1.793272e-05           0.011297\n",
      "       C3orf22    -0.280591 2.680812e-05           0.016325\n",
      "RPL36A-HNRNPH2    -0.243493 2.933625e-05           0.016748\n",
      "         DPEP3    -0.302949 2.898579e-05           0.016748\n",
      "       GORASP1    -0.247596 3.214317e-05           0.017795\n",
      "     KRTAP19-5    -0.272353 3.332247e-05           0.017905\n",
      "          POT1    -0.287767 3.435589e-05           0.017933\n",
      "       TSPAN17    -0.282139 3.783794e-05           0.019202\n",
      "          OPN4    -0.276316 4.104442e-05           0.020266\n",
      "         UBXN7    -0.265425 4.630876e-05           0.022264\n",
      "        PCDHA5    -0.279522 4.946438e-05           0.023171\n",
      "        SETD1A     0.248223 5.616596e-05           0.025652\n",
      "     LINC00106    -0.288194 5.868914e-05           0.026151\n",
      "        NDUFS2    -0.232229 6.467365e-05           0.026256\n",
      "       SLC6A17    -0.299081 6.062653e-05           0.026256\n",
      "          CALU     0.259636 6.387395e-05           0.026256\n",
      "       NEUROG3    -0.266413 6.212874e-05           0.026256\n",
      "       TOMM20L    -0.286267 7.284675e-05           0.027655\n",
      "      TMEM184A    -0.247824 7.463393e-05           0.027655\n",
      "         TMUB1     0.256991 7.561323e-05           0.027655\n",
      "       SUMO1P3    -0.236277 7.568939e-05           0.027655\n",
      "          CDK3    -0.258639 7.101966e-05           0.027655\n",
      "         RPS12    -0.252302 8.218713e-05           0.029441\n",
      "          PRB3    -0.259883 9.028043e-05           0.031136\n",
      "        DYRK1A    -0.257608 9.032724e-05           0.031136\n",
      "         ASAP1     0.224651 1.050179e-04           0.032482\n",
      "     SNORD105B    -0.255144 1.032423e-04           0.032482\n",
      "         CTAG2    -0.280505 9.903789e-05           0.032482\n",
      "         AP3S1     0.244440 1.066796e-04           0.032482\n",
      "          EMX1    -0.267766 1.011758e-04           0.032482\n",
      "          VHLL    -0.183407 1.037295e-04           0.032482\n",
      "       ISG20L2     0.237656 1.042566e-04           0.032482\n",
      "        FBXL12     0.259156 1.100174e-04           0.032949\n",
      "      CDC42EP1     0.228460 1.164078e-04           0.033756\n",
      "         LSM12     0.225281 1.163490e-04           0.033756\n",
      "        CYP4F8    -0.250942 1.264384e-04           0.036092\n",
      "         YPEL4    -0.272053 1.416419e-04           0.036726\n",
      "        MOGAT2    -0.212638 1.404937e-04           0.036726\n",
      "        MAP2K7     0.230785 1.343623e-04           0.036726\n",
      "         TMCO2    -0.243987 1.467511e-04           0.036726\n",
      "      KIAA0753     0.220722 1.430548e-04           0.036726\n",
      "        GEMIN7     0.254895 1.331475e-04           0.036726\n",
      "      ALDH18A1     0.327272 1.352708e-04           0.036726\n",
      "         SSU72    -0.239113 1.373704e-04           0.036726\n",
      "        SNORA9    -0.238364 1.454677e-04           0.036726\n",
      "          OCM2    -0.244936 1.519029e-04           0.037502\n",
      "     RPL23AP64    -0.218181 1.570332e-04           0.038020\n",
      "       SNORA54    -0.236773 1.581658e-04           0.038020\n",
      "         PRR12     0.222506 1.754073e-04           0.041084\n",
      "         TAAR2    -0.230807 1.744466e-04           0.041084\n",
      "     KRTAP23-1    -0.233584 1.805619e-04           0.041756\n",
      "      MGC70870    -0.197410 1.900150e-04           0.042857\n",
      "          FUT7    -0.238419 1.887874e-04           0.042857\n",
      "         LYZL1    -0.169885 2.023814e-04           0.045089\n",
      "          EPN1     0.252070 2.097187e-04           0.046161\n",
      "         FOXH1    -0.247506 2.166560e-04           0.047120\n",
      "         PAM16     0.255197 2.412667e-04           0.047537\n",
      "        GGNBP1    -0.225095 2.400616e-04           0.047537\n",
      "     LOC339352     0.221078 2.314734e-04           0.047537\n",
      "     HSP90AA5P    -0.234980 2.229764e-04           0.047537\n",
      "         NCSTN     0.232365 2.330856e-04           0.047537\n",
      "         OR1J4    -0.234528 2.419920e-04           0.047537\n",
      "      SNORD62A    -0.243015 2.298357e-04           0.047537\n",
      "     LOC643454     0.217693 2.416688e-04           0.047537\n",
      "      ADAMTS10     0.220148 2.261030e-04           0.047537\n",
      "       SNORA5C    -0.210160 2.452481e-04           0.047664\n",
      "        GPR176    -0.245492 2.506082e-04           0.048193\n",
      "         TNKS2     0.211634 2.532574e-04           0.048195\n",
      "         NCOR2     0.198141 2.612928e-04           0.049212\n"
     ]
    },
    {
     "name": "stderr",
     "output_type": "stream",
     "text": [
      "/Users/ollie/Documents/JupyterProjects/AI4Science_gold_standard/stage1/Jinglin/utils.py:478: SettingWithCopyWarning: \n",
      "A value is trying to be set on a copy of a slice from a DataFrame.\n",
      "Try using .loc[row_indexer,col_indexer] = value instead\n",
      "\n",
      "See the caveats in the documentation: https://pandas.pydata.org/pandas-docs/stable/user_guide/indexing.html#returning-a-view-versus-a-copy\n",
      "  gene_regression_df.loc[:, 'corrected_p_value'] = corrected_p_values\n"
     ]
    }
   ],
   "source": [
    "interpret_result(model2, feature_cols, TRAIT, condition, threshold=threshold, save_output=True,\n",
    "                 output_dir=OUTPUT_DIR, model_id=2)"
   ]
  },
  {
   "cell_type": "code",
   "execution_count": null,
   "metadata": {},
   "outputs": [],
   "source": []
  }
 ],
 "metadata": {
  "colab": {
   "provenance": []
  },
  "kernelspec": {
   "display_name": "Python 3 (ipykernel)",
   "language": "python",
   "name": "python3"
  },
  "language_info": {
   "codemirror_mode": {
    "name": "ipython",
    "version": 3
   },
   "file_extension": ".py",
   "mimetype": "text/x-python",
   "name": "python",
   "nbconvert_exporter": "python",
   "pygments_lexer": "ipython3",
   "version": "3.11.5"
  }
 },
 "nbformat": 4,
 "nbformat_minor": 1
}
