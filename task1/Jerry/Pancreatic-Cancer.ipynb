{
 "cells": [
  {
   "cell_type": "markdown",
   "metadata": {},
   "source": [
    "# Gold standard curation: Preprocessing and single-step regression"
   ]
  },
  {
   "cell_type": "markdown",
   "metadata": {},
   "source": [
    "In this stage of gold standard curation, we will do the data preprocessing, selection, and single-step regression for the 153 traits in our question set. This file shows the reference steps using the trait \"Breast Cancer\" as an example. The workflow consists of the following steps:\n",
    "\n",
    "1. Preprocess all the cohorts related to this trait. Each cohort should be converted to a tabular form and saved to a csv file, with columns being genetic factors, the trait, and age, gender if available;\n",
    "2. If there exists at least one cohort with age or gender information, conduct regression analysis with genetic features together with age or gender as the regressors.\n"
   ]
  },
  {
   "cell_type": "markdown",
   "metadata": {},
   "source": [
    "# 1. Basic setup"
   ]
  },
  {
   "cell_type": "code",
   "execution_count": 1,
   "metadata": {
    "ExecuteTime": {
     "end_time": "2023-12-31T21:19:07.313098989Z",
     "start_time": "2023-12-31T21:19:07.312718292Z"
    }
   },
   "outputs": [],
   "source": [
    "import os\n",
    "\n",
    "# Set your preferred name\n",
    "USER = \"Jinglin\"\n",
    "# Set the data and output directories\n",
    "DATA_ROOT = '../../DATA'\n",
    "OUTPUT_ROOT = '../../output1'\n",
    "TRAIT = 'Pancreatic Cancer'\n",
    "\n",
    "OUTPUT_DIR = os.path.join(OUTPUT_ROOT, USER, '-'.join(TRAIT.split()))\n",
    "JSON_PATH = os.path.join(OUTPUT_DIR, \"cohort_info.json\")\n",
    "if not os.path.exists(OUTPUT_DIR):\n",
    "    os.makedirs(OUTPUT_DIR, exist_ok=True)\n",
    "\n",
    "# Gene symbol normalization may take 1-2 minutes. You may set it to False for debugging.\n",
    "# NORMALIZE_GENE = False\n",
    "NORMALIZE_GENE = True"
   ]
  },
  {
   "cell_type": "code",
   "execution_count": 2,
   "metadata": {
    "ExecuteTime": {
     "end_time": "2023-12-31T21:19:07.680659936Z",
     "start_time": "2023-12-31T21:19:07.666959145Z"
    },
    "colab": {
     "base_uri": "https://localhost:8080/"
    },
    "id": "jMTdsU43vVg3",
    "outputId": "38886111-f442-44b4-8398-96bf384d7abd"
   },
   "outputs": [
    {
     "data": {
      "text/plain": [
       "\"import os\\nfrom google.colab import drive\\n\\ndrive.mount('/content/drive', force_remount=True)\\nproj_dir = '/content/drive/MyDrive/AI4Science_Public'\\nos.chdir(proj_dir)\""
      ]
     },
     "execution_count": 2,
     "metadata": {},
     "output_type": "execute_result"
    }
   ],
   "source": [
    "# This cell is only for use on Google Colab. Skip it if you run your code in other environments\n",
    "\n",
    "\"\"\"import os\n",
    "from google.colab import drive\n",
    "\n",
    "drive.mount('/content/drive', force_remount=True)\n",
    "proj_dir = '/content/drive/MyDrive/AI4Science_Public'\n",
    "os.chdir(proj_dir)\"\"\""
   ]
  },
  {
   "cell_type": "markdown",
   "metadata": {},
   "source": [
    "# 2. Data preprocessing and selection"
   ]
  },
  {
   "cell_type": "markdown",
   "metadata": {},
   "source": [
    "## 2.1. The TCGA Xena dataset"
   ]
  },
  {
   "cell_type": "markdown",
   "metadata": {},
   "source": [
    "In TCGA Xena, there is either zero or one cohort related to the trait. We search the names of subdirectories to see if any matches the trait. If a match is found, we directly obtain the file paths."
   ]
  },
  {
   "cell_type": "code",
   "execution_count": 3,
   "metadata": {},
   "outputs": [
    {
     "data": {
      "text/plain": [
       "['TCGA_Pancreatic_Cancer_(PAAD)',\n",
       " 'TCGA_Bladder_Cancer_(BLCA)',\n",
       " '.DS_Store',\n",
       " 'TCGA_Testicular_Cancer_(TGCT)',\n",
       " 'TCGA_Acute_Myeloid_Leukemia_(LAML)',\n",
       " 'TCGA_Breast_Cancer_(BRCA)',\n",
       " 'TCGA_Stomach_Cancer_(STAD)',\n",
       " 'TCGA_Thyroid_Cancer_(THCA)',\n",
       " 'TCGA_Glioblastoma_(GBM)']"
      ]
     },
     "execution_count": 3,
     "metadata": {},
     "output_type": "execute_result"
    }
   ],
   "source": [
    "import os\n",
    "from utils import *\n",
    "\n",
    "dataset = 'TCGA'\n",
    "dataset_dir = os.path.join(DATA_ROOT, dataset)\n",
    "os.listdir(dataset_dir)[:10]"
   ]
  },
  {
   "cell_type": "markdown",
   "metadata": {},
   "source": [
    "If no match is found, jump directly to GEO in Part 2.2"
   ]
  },
  {
   "cell_type": "code",
   "execution_count": 14,
   "metadata": {
    "ExecuteTime": {
     "end_time": "2023-12-31T21:19:09.918243934Z",
     "start_time": "2023-12-31T21:19:09.909021135Z"
    }
   },
   "outputs": [],
   "source": [
    "trait_subdir = \"TCGA_Pancreatic_Cancer_(PAAD)\"\n",
    "cohort = 'Xena'\n",
    "# All the cancer traits in Xena are binary\n",
    "trait_type = 'binary'\n",
    "# Once a relevant cohort is found in Xena, we can generally assume the gene and clinical data are available\n",
    "is_available = True\n",
    "\n",
    "clinical_data_file = os.path.join(dataset_dir, trait_subdir, 'TCGA.PAAD.sampleMap_PAAD_clinicalMatrix')\n",
    "genetic_data_file = os.path.join(dataset_dir, trait_subdir, 'TCGA.PAAD.sampleMap_HiSeqV2_PANCAN.gz')"
   ]
  },
  {
   "cell_type": "code",
   "execution_count": 15,
   "metadata": {
    "ExecuteTime": {
     "end_time": "2023-12-31T21:19:13.613198409Z",
     "start_time": "2023-12-31T21:19:10.409688003Z"
    },
    "id": "MudwB-_iz7sc"
   },
   "outputs": [],
   "source": [
    "import pandas as pd\n",
    "\n",
    "clinical_data = pd.read_csv(clinical_data_file, sep='\\t', index_col=0)\n",
    "genetic_data = pd.read_csv(genetic_data_file, compression='gzip', sep='\\t', index_col=0)\n",
    "age_col = gender_col = None"
   ]
  },
  {
   "cell_type": "code",
   "execution_count": 16,
   "metadata": {
    "ExecuteTime": {
     "end_time": "2023-12-31T21:19:13.617006167Z",
     "start_time": "2023-12-31T21:19:13.614080653Z"
    }
   },
   "outputs": [],
   "source": [
    "_, clinical_data_cols = check_rows_and_columns(clinical_data)"
   ]
  },
  {
   "cell_type": "code",
   "execution_count": 17,
   "metadata": {
    "ExecuteTime": {
     "end_time": "2023-12-31T21:19:13.661538569Z",
     "start_time": "2023-12-31T21:19:13.615946213Z"
    }
   },
   "outputs": [
    {
     "data": {
      "text/plain": [
       "['CDE_ID_3226963',\n",
       " '_INTEGRATION',\n",
       " '_PATIENT',\n",
       " '_cohort',\n",
       " '_primary_disease',\n",
       " '_primary_site',\n",
       " 'additional_pharmaceutical_therapy',\n",
       " 'additional_radiation_therapy',\n",
       " 'adenocarcinoma_invasion',\n",
       " 'age_at_initial_pathologic_diagnosis']"
      ]
     },
     "execution_count": 17,
     "metadata": {},
     "output_type": "execute_result"
    }
   ],
   "source": [
    "clinical_data_cols[:10]"
   ]
  },
  {
   "cell_type": "markdown",
   "metadata": {
    "ExecuteTime": {
     "end_time": "2023-12-28T20:20:11.841042813Z",
     "start_time": "2023-12-28T20:20:11.834458206Z"
    }
   },
   "source": [
    "Read all the column names in the clinical dataset, to find the columns that record information about age or gender.\n",
    "Reference prompt:"
   ]
  },
  {
   "cell_type": "code",
   "execution_count": 18,
   "metadata": {
    "ExecuteTime": {
     "end_time": "2023-12-31T21:19:13.661858700Z",
     "start_time": "2023-12-31T21:19:13.656749487Z"
    }
   },
   "outputs": [
    {
     "data": {
      "text/plain": [
       "\"\\nBelow is a list of column names from a biomedical dataset. Please examine it and identify the columns that are likely to contain information about patients' age. Additionally, please do the same for columns that may hold data on patients' gender. Please provide your answer by strictly following this format, without redundant words:\\ncandidate_age_cols = [col_name1, col_name2, ...]\\ncandidate_gender_cols = [col_name1, col_name2, ...]\\nIf no columns match a criterion, please provide an empty list.\\n\\nColumn names:\\n['CDE_ID_3226963', '_INTEGRATION', '_PATIENT', '_cohort', '_primary_disease', '_primary_site', 'additional_pharmaceutical_therapy', 'additional_radiation_therapy', 'adenocarcinoma_invasion', 'age_at_initial_pathologic_diagnosis', 'alcohol_history_documented', 'alcoholic_exposure_category', 'amount_of_alcohol_consumption_per_day', 'anatomic_neoplasm_subdivision', 'anatomic_neoplasm_subdivision_other', 'bcr_followup_barcode', 'bcr_patient_barcode', 'bcr_sample_barcode', 'days_to_birth', 'days_to_collection', 'days_to_death', 'days_to_diabetes_onset', 'days_to_initial_pathologic_diagnosis', 'days_to_last_followup', 'days_to_new_tumor_event_additional_surgery_procedure', 'days_to_new_tumor_event_after_initial_treatment', 'days_to_pancreatitis_onset', 'family_history_of_cancer', 'followup_case_report_form_submission_reason', 'followup_treatment_success', 'form_completion_date', 'frequency_of_alcohol_consumption', 'gender', 'histologic_grading_tier_category', 'histological_type', 'histological_type_other', 'history_of_chronic_pancreatitis', 'history_of_diabetes', 'history_of_neoadjuvant_treatment', 'icd_10', 'icd_o_3_histology', 'icd_o_3_site', 'informed_consent_verified', 'init_pathology_dx_method_other', 'initial_pathologic_diagnosis_method', 'initial_weight', 'intermediate_dimension', 'is_ffpe', 'longest_dimension', 'lost_follow_up', 'lymph_node_examined_count', 'maximum_tumor_dimension', 'neoplasm_histologic_grade', 'new_neoplasm_event_occurrence_anatomic_site', 'new_neoplasm_event_type', 'new_neoplasm_occurrence_anatomic_site_text', 'new_tumor_event_additional_surgery_procedure', 'new_tumor_event_after_initial_treatment', 'number_of_lymphnodes_positive_by_he', 'number_of_lymphnodes_positive_by_ihc', 'number_pack_years_smoked', 'oct_embedded', 'other_dx', 'pathologic_M', 'pathologic_N', 'pathologic_T', 'pathologic_stage', 'pathology_report_file_name', 'patient_death_reason', 'patient_id', 'person_neoplasm_cancer_status', 'primary_lymph_node_presentation_assessment', 'primary_therapy_outcome_success', 'progression_determined_by', 'radiation_therapy', 'relative_cancer_type', 'residual_disease_post_new_tumor_event_margin_status', 'residual_tumor', 'sample_type', 'sample_type_id', 'shortest_dimension', 'source_of_patient_death_reason', 'stopped_smoking_year', 'surgery_performed_type', 'system_version', 'targeted_molecular_therapy', 'tissue_prospective_collection_indicator', 'tissue_retrospective_collection_indicator', 'tissue_source_site', 'tobacco_smoking_history', 'tumor_tissue_site', 'tumor_type', 'vial_number', 'vital_status', 'year_of_initial_pathologic_diagnosis', 'year_of_tobacco_smoking_onset', '_GENOMIC_ID_TCGA_PAAD_mutation_bcgsc_gene', '_GENOMIC_ID_TCGA_PAAD_exp_HiSeqV2_PANCAN', '_GENOMIC_ID_TCGA_PAAD_gistic2', '_GENOMIC_ID_TCGA_PAAD_mutation_ucsc_maf_gene', '_GENOMIC_ID_TCGA_PAAD_exp_HiSeqV2', '_GENOMIC_ID_TCGA_PAAD_mutation_curated_broad_gene', '_GENOMIC_ID_TCGA_PAAD_exp_HiSeqV2_exon', '_GENOMIC_ID_TCGA_PAAD_mutation_bcm_gene', '_GENOMIC_ID_TCGA_PAAD_RPPA', '_GENOMIC_ID_TCGA_PAAD_hMethyl450', '_GENOMIC_ID_TCGA_PAAD_mutation', '_GENOMIC_ID_TCGA_PAAD_PDMRNAseq', '_GENOMIC_ID_TCGA_PAAD_PDMRNAseqCNV', '_GENOMIC_ID_TCGA_PAAD_mutation_broad_gene', '_GENOMIC_ID_TCGA_PAAD_gistic2thd', '_GENOMIC_ID_data/public/TCGA/PAAD/miRNA_HiSeq_gene', '_GENOMIC_ID_TCGA_PAAD_miRNA_HiSeq', '_GENOMIC_ID_TCGA_PAAD_exp_HiSeqV2_percentile']\\n\""
      ]
     },
     "execution_count": 18,
     "metadata": {},
     "output_type": "execute_result"
    }
   ],
   "source": [
    "f'''\n",
    "Below is a list of column names from a biomedical dataset. Please examine it and identify the columns that are likely to contain information about patients' age. Additionally, please do the same for columns that may hold data on patients' gender. Please provide your answer by strictly following this format, without redundant words:\n",
    "candidate_age_cols = [col_name1, col_name2, ...]\n",
    "candidate_gender_cols = [col_name1, col_name2, ...]\n",
    "If no columns match a criterion, please provide an empty list.\n",
    "\n",
    "Column names:\n",
    "{clinical_data_cols}\n",
    "'''"
   ]
  },
  {
   "cell_type": "code",
   "execution_count": 19,
   "metadata": {
    "ExecuteTime": {
     "end_time": "2023-12-31T21:19:13.661938833Z",
     "start_time": "2023-12-31T21:19:13.656901848Z"
    }
   },
   "outputs": [],
   "source": [
    "candidate_age_cols = ['age_at_initial_pathologic_diagnosis',\n",
    "                      'days_to_birth']\n",
    "candidate_gender_cols = ['gender']"
   ]
  },
  {
   "cell_type": "markdown",
   "metadata": {
    "ExecuteTime": {
     "end_time": "2023-12-31T03:57:44.207565572Z",
     "start_time": "2023-12-31T03:57:44.202177544Z"
    }
   },
   "source": [
    "Choose a single column from the candidate columns that record age and gender information respectively.\n",
    "If no column meets the requirement, keep 'age_col' or 'gender_col' to None"
   ]
  },
  {
   "cell_type": "code",
   "execution_count": 20,
   "metadata": {
    "ExecuteTime": {
     "end_time": "2023-12-31T21:19:13.662078139Z",
     "start_time": "2023-12-31T21:19:13.657006017Z"
    }
   },
   "outputs": [
    {
     "data": {
      "text/plain": [
       "{'age_at_initial_pathologic_diagnosis': [65, 48, 75, 71, 70],\n",
       " 'days_to_birth': [-23962, -17794, -27600, -26028, -25920]}"
      ]
     },
     "execution_count": 20,
     "metadata": {},
     "output_type": "execute_result"
    }
   ],
   "source": [
    "preview_df(clinical_data[candidate_age_cols])"
   ]
  },
  {
   "cell_type": "code",
   "execution_count": 21,
   "metadata": {
    "ExecuteTime": {
     "end_time": "2023-12-31T21:19:13.777159137Z",
     "start_time": "2023-12-31T21:19:13.756210135Z"
    }
   },
   "outputs": [],
   "source": [
    "age_col = 'age_at_initial_pathologic_diagnosis'"
   ]
  },
  {
   "cell_type": "code",
   "execution_count": 22,
   "metadata": {
    "ExecuteTime": {
     "end_time": "2023-12-31T21:19:14.313425023Z",
     "start_time": "2023-12-31T21:19:14.305221062Z"
    }
   },
   "outputs": [
    {
     "data": {
      "text/plain": [
       "{'gender': ['MALE', 'MALE', 'MALE', 'MALE', 'FEMALE']}"
      ]
     },
     "execution_count": 22,
     "metadata": {},
     "output_type": "execute_result"
    }
   ],
   "source": [
    "preview_df(clinical_data[candidate_gender_cols])"
   ]
  },
  {
   "cell_type": "code",
   "execution_count": 23,
   "metadata": {
    "ExecuteTime": {
     "end_time": "2023-12-31T21:19:14.852502962Z",
     "start_time": "2023-12-31T21:19:14.845153121Z"
    }
   },
   "outputs": [],
   "source": [
    "gender_col = 'gender'"
   ]
  },
  {
   "cell_type": "code",
   "execution_count": 24,
   "metadata": {
    "ExecuteTime": {
     "end_time": "2023-12-31T21:19:15.246065025Z",
     "start_time": "2023-12-31T21:19:15.240279162Z"
    }
   },
   "outputs": [],
   "source": [
    "selected_clinical_data = xena_select_clinical_features(clinical_data, TRAIT, age_col, gender_col)"
   ]
  },
  {
   "cell_type": "code",
   "execution_count": 25,
   "metadata": {
    "ExecuteTime": {
     "end_time": "2023-12-31T21:19:15.593478652Z",
     "start_time": "2023-12-31T21:19:15.583841656Z"
    }
   },
   "outputs": [
    {
     "name": "stderr",
     "output_type": "stream",
     "text": [
      "15 input query terms found dup hits:\t[('GTF2IP1', 2), ('RBMY1A3P', 3), ('HERC2P2', 3), ('WASH3P', 3), ('NUDT9P1', 2), ('SNORD104', 2), ('\n",
      "154 input query terms found no hit:\t['C16orf13', 'C16orf11', 'LOC100272146', 'LOC339240', 'NACAP1', 'LOC441204', 'KLRA1', 'FAM183A', 'FA\n",
      "9 input query terms found dup hits:\t[('SUGT1P1', 2), ('SNORD127', 2), ('SNORA62', 4), ('IFITM4P', 8), ('HLA-DRB6', 2), ('FUNDC2P2', 2), \n",
      "190 input query terms found no hit:\t['NARFL', 'NFKBIL2', 'LOC150197', 'TMEM84', 'LOC162632', 'PPPDE1', 'PPPDE2', 'C1orf38', 'C1orf31', '\n",
      "20 input query terms found dup hits:\t[('PIP5K1P1', 2), ('SNORA40', 2), ('SNORD116-24', 2), ('SNORD116-25', 2), ('SNORD116-23', 2), ('SNOR\n",
      "149 input query terms found no hit:\t['FAM153C', 'C9orf167', 'CLK2P', 'CCDC76', 'CCDC75', 'CCDC72', 'HIST3H2BB', 'PRAC', 'LOC285780', 'LO\n",
      "18 input query terms found dup hits:\t[('SNORD58C', 2), ('UOX', 2), ('UBE2Q2P1', 3), ('PPP4R1L', 2), ('SNORD63', 3), ('SNORD116-22', 2), (\n",
      "158 input query terms found no hit:\t['C16orf91', 'LOC100130581', 'SFRS2', 'C16orf5', 'C16orf7', 'C16orf3', 'C21orf7', 'C21orf2', 'LOC389\n",
      "19 input query terms found dup hits:\t[('FAM66D', 2), ('FAM66A', 2), ('THSD1P1', 2), ('MSLNL', 2), ('EEF1DP3', 2), ('PGM5P2', 2), ('UBE2MP\n",
      "169 input query terms found no hit:\t['LOC284551', 'LOC285548', 'LOC728410', 'LOC541473', 'DULLARD', 'KIAA0368', 'EFTUD1', 'TWISTNB', 'SF\n",
      "17 input query terms found dup hits:\t[('S100A7L2', 2), ('POM121L8P', 2), ('SNORD16', 2), ('MEG8', 2), ('RPL23P8', 2), ('KIR3DX1', 5), ('R\n",
      "165 input query terms found no hit:\t['TMEM188', 'PDZD3', 'FAM102B', 'FAM102A', 'SMCR7L', 'G6PC', 'OSTCL', 'LOC653544', 'LOC653545', 'USP\n",
      "20 input query terms found dup hits:\t[('SNORD50B', 2), ('PCNAP1', 2), ('SNORA63', 7), ('C5orf60', 2), ('CEACAM22P', 2), ('SNORA16A', 2), \n",
      "147 input query terms found no hit:\t['LRRC37A4', 'LOC100131726', 'CPSF3L', 'COL4A3BP', 'PAR1', 'LOC92973', 'MICALCL', 'SMCR7', 'HIST4H4'\n",
      "15 input query terms found dup hits:\t[('SDHAP3', 2), ('PSORS1C3', 8), ('POM121L10P', 2), ('HLA-J', 9), ('HLA-H', 9), ('HLA-L', 7), ('NME2\n",
      "153 input query terms found no hit:\t['LOC100131193', 'KIAA1109', 'DUS2L', 'MYST1', 'IGLL3', 'C12orf69', 'NEURL', 'FAM188B', 'FLJ32063', \n",
      "8 input query terms found dup hits:\t[('PLGLA', 2), ('PA2G4P4', 2), ('RPL23AP7', 2), ('ST20', 2), ('RPL23AP64', 3), ('DPY19L2P2', 3), ('F\n",
      "177 input query terms found no hit:\t['LOC283314', 'RBM9', 'C20orf118', 'LOC150786', 'C20orf112', 'C20orf111', 'C20orf117', 'C20orf114', \n",
      "19 input query terms found dup hits:\t[('TPTE2P1', 2), ('FOLH1B', 2), ('ID2B', 2), ('MSX2P1', 2), ('RAET1K', 2), ('BMS1P4', 2), ('RPL23AP8\n",
      "175 input query terms found no hit:\t['MYEOV2', 'FAM35B2', 'C20orf85', 'FAM175A', 'C17orf73', 'C17orf72', 'C17orf71', 'C17orf70', 'C17orf\n",
      "26 input query terms found dup hits:\t[('CATSPER2P1', 2), ('AQP7P3', 2), ('AQP7P1', 2), ('ATP8B5P', 2), ('OR7E91P', 2), ('ZNF204P', 2), ('\n",
      "144 input query terms found no hit:\t['BASE', 'C14orf21', 'C14orf23', 'FAM5B', 'TROVE2', 'C18orf62', 'LOC401052', 'GNB2L1', 'FAM19A4', 'F\n",
      "17 input query terms found dup hits:\t[('P2RX6P', 2), ('RP9P', 2), ('SNORD1A', 2), ('SNORD10', 2), ('SNORD19', 2), ('NRADDP', 2), ('AOX2P'\n",
      "169 input query terms found no hit:\t['TTC15', 'C4orf29', 'FAM48A', 'C4orf21', 'C3orf65', 'C4orf23', 'C3orf67', 'LOC144742', 'C3orf63', '\n",
      "17 input query terms found dup hits:\t[('SNORA58', 2), ('PMCHL1', 2), ('FAM95B1', 2), ('TMEM191A', 2), ('RPL13P5', 2), ('SBDSP1', 2), ('CY\n",
      "143 input query terms found no hit:\t['LOC254312', 'ZNF542', 'CSDAP1', 'FAM73A', 'FAM73B', 'TCTE3', 'ZNF37B', 'LOC728875', 'KIAA1826', 'P\n",
      "16 input query terms found dup hits:\t[('ZFP91-CNTF', 2), ('SNORD116-27', 2), ('GSTM2P1', 2), ('C3P1', 2), ('NCF1B', 2), ('SNORD114-4', 2)\n",
      "138 input query terms found no hit:\t['LOC100129716', 'C14orf184', 'C14orf181', 'C14orf183', 'C14orf182', 'C7orf26', 'C7orf27', 'C7orf23'\n",
      "14 input query terms found dup hits:\t[('ANXA2P1', 2), ('ANXA2P3', 2), ('ANXA2P2', 2), ('SNORD116-12', 2), ('ZNF286B', 2), ('SAA3P', 2), (\n",
      "132 input query terms found no hit:\t['AKR1CL1', 'CCDC21', 'CCDC23', 'TMEM111', 'APOB48R', 'LOC595101', 'KIAA1430', 'KIAA1432', 'ORC4L', \n",
      "15 input query terms found dup hits:\t[('TCP10L2', 2), ('CXADRP3', 2), ('SNORD116-13', 2), ('TPTE2P3', 2), ('SNORD116-15', 2), ('SNORD116-\n",
      "175 input query terms found no hit:\t['DFNB59', 'LOC100170939', 'FAM36A', 'C2orf70', 'C2orf71', 'C2orf77', 'C2orf79', 'LOC100128191', 'HR\n",
      "16 input query terms found dup hits:\t[('PMS2CL', 2), ('BRD7P3', 2), ('SCARNA17', 2), ('GABARAPL3', 2), ('MT1IP', 2), ('ADAM6', 3), ('SNOR\n",
      "142 input query terms found no hit:\t['C9orf30', 'PEG3AS', 'C9orf37', 'TXNDC3', 'LOC442308', 'FAM46D', 'FAM46A', 'FAM46B', 'FAM46C', 'WDR\n",
      "13 input query terms found dup hits:\t[('FAM197Y2', 3), ('SNORD1C', 2), ('SNORA71B', 2), ('NAT8B', 3), ('SNORA21', 2), ('VENTXP7', 2), ('G\n",
      "148 input query terms found no hit:\t['FCGR1B', 'RG9MTD2', 'RARS', 'LOC727677', 'CCRN4L', 'SEPT14', 'HKR1', 'C1orf112', 'LOC100270710', '\n",
      "13 input query terms found dup hits:\t[('OR6W1P', 3), ('LYPLA2P1', 6), ('RPL23AP53', 2), ('TRPC2', 2), ('RBMY2FP', 2), ('BAGE2', 2), ('POM\n",
      "150 input query terms found no hit:\t['SIP1', 'FAM129C', 'GIF', 'TMCO7', 'CXorf61', 'CXorf64', 'ZNF192', 'SEPP1', 'KIRREL', 'MGC16121', '\n",
      "18 input query terms found dup hits:\t[('ISCA1P1', 2), ('SNORD116-5', 2), ('PCDHB19P', 3), ('NAPSB', 2), ('WASH7P', 2), ('TTTY11', 2), ('H\n",
      "135 input query terms found no hit:\t['PPYR1', 'FAM82A2', 'FLJ37453', 'FAM82A1', 'KIAA0947', 'MOBKL2B', 'MOBKL2C', 'MOBKL2A', 'CMAH', 'GR\n",
      "8 input query terms found dup hits:\t[('SNORD12B', 2), ('SNORD116-8', 2), ('SNORD116-4', 2), ('SNORD116-1', 2), ('SNORD116-3', 2), ('SNOR\n",
      "78 input query terms found no hit:\t['C14orf174', 'C14orf176', 'C14orf177', 'C14orf179', 'PTPLB', 'SGEF', 'LOC400752', 'GRLF1', 'SPANXE'\n"
     ]
    }
   ],
   "source": [
    "if NORMALIZE_GENE:\n",
    "    genetic_data = normalize_gene_symbols_in_index(genetic_data)"
   ]
  },
  {
   "cell_type": "code",
   "execution_count": 26,
   "metadata": {
    "ExecuteTime": {
     "end_time": "2023-12-31T21:19:16.074598194Z",
     "start_time": "2023-12-31T21:19:15.973600157Z"
    }
   },
   "outputs": [
    {
     "data": {
      "text/html": [
       "<div>\n",
       "<style scoped>\n",
       "    .dataframe tbody tr th:only-of-type {\n",
       "        vertical-align: middle;\n",
       "    }\n",
       "\n",
       "    .dataframe tbody tr th {\n",
       "        vertical-align: top;\n",
       "    }\n",
       "\n",
       "    .dataframe thead th {\n",
       "        text-align: right;\n",
       "    }\n",
       "</style>\n",
       "<table border=\"1\" class=\"dataframe\">\n",
       "  <thead>\n",
       "    <tr style=\"text-align: right;\">\n",
       "      <th></th>\n",
       "      <th>Pancreatic Cancer</th>\n",
       "      <th>Age</th>\n",
       "      <th>Gender</th>\n",
       "      <th>ARHGEF10L</th>\n",
       "      <th>HIF3A</th>\n",
       "      <th>RNF17</th>\n",
       "      <th>RNF10</th>\n",
       "      <th>RNF11</th>\n",
       "      <th>RNF13</th>\n",
       "      <th>GTF2IP1</th>\n",
       "      <th>...</th>\n",
       "      <th>SLC7A10</th>\n",
       "      <th>PLA2G2C</th>\n",
       "      <th>TULP2</th>\n",
       "      <th>NPY5R</th>\n",
       "      <th>GNGT2</th>\n",
       "      <th>GNGT1</th>\n",
       "      <th>TULP3</th>\n",
       "      <th>BCL6B</th>\n",
       "      <th>GSTK1</th>\n",
       "      <th>SELP</th>\n",
       "    </tr>\n",
       "    <tr>\n",
       "      <th>sampleID</th>\n",
       "      <th></th>\n",
       "      <th></th>\n",
       "      <th></th>\n",
       "      <th></th>\n",
       "      <th></th>\n",
       "      <th></th>\n",
       "      <th></th>\n",
       "      <th></th>\n",
       "      <th></th>\n",
       "      <th></th>\n",
       "      <th></th>\n",
       "      <th></th>\n",
       "      <th></th>\n",
       "      <th></th>\n",
       "      <th></th>\n",
       "      <th></th>\n",
       "      <th></th>\n",
       "      <th></th>\n",
       "      <th></th>\n",
       "      <th></th>\n",
       "      <th></th>\n",
       "    </tr>\n",
       "  </thead>\n",
       "  <tbody>\n",
       "    <tr>\n",
       "      <th>TCGA-2J-AAB1-01</th>\n",
       "      <td>1</td>\n",
       "      <td>65</td>\n",
       "      <td>1</td>\n",
       "      <td>-0.072992</td>\n",
       "      <td>3.176274</td>\n",
       "      <td>0.042165</td>\n",
       "      <td>0.133528</td>\n",
       "      <td>-0.736678</td>\n",
       "      <td>-0.19891</td>\n",
       "      <td>0.071506</td>\n",
       "      <td>...</td>\n",
       "      <td>-2.090786</td>\n",
       "      <td>-0.086682</td>\n",
       "      <td>-0.748878</td>\n",
       "      <td>-0.604817</td>\n",
       "      <td>0.599267</td>\n",
       "      <td>-1.28139</td>\n",
       "      <td>-0.223977</td>\n",
       "      <td>0.385573</td>\n",
       "      <td>0.775305</td>\n",
       "      <td>2.372667</td>\n",
       "    </tr>\n",
       "    <tr>\n",
       "      <th>TCGA-2J-AAB4-01</th>\n",
       "      <td>1</td>\n",
       "      <td>48</td>\n",
       "      <td>1</td>\n",
       "      <td>0.654608</td>\n",
       "      <td>0.380374</td>\n",
       "      <td>-0.531035</td>\n",
       "      <td>-0.046472</td>\n",
       "      <td>-0.185578</td>\n",
       "      <td>-0.50201</td>\n",
       "      <td>0.326006</td>\n",
       "      <td>...</td>\n",
       "      <td>-1.571286</td>\n",
       "      <td>-0.086682</td>\n",
       "      <td>0.675222</td>\n",
       "      <td>0.672283</td>\n",
       "      <td>0.434167</td>\n",
       "      <td>-1.28139</td>\n",
       "      <td>-0.609577</td>\n",
       "      <td>0.170673</td>\n",
       "      <td>0.535405</td>\n",
       "      <td>1.988767</td>\n",
       "    </tr>\n",
       "    <tr>\n",
       "      <th>TCGA-2J-AAB6-01</th>\n",
       "      <td>1</td>\n",
       "      <td>75</td>\n",
       "      <td>1</td>\n",
       "      <td>0.377208</td>\n",
       "      <td>1.086674</td>\n",
       "      <td>-0.531035</td>\n",
       "      <td>0.463928</td>\n",
       "      <td>0.479622</td>\n",
       "      <td>-0.47171</td>\n",
       "      <td>-0.190094</td>\n",
       "      <td>...</td>\n",
       "      <td>-2.090786</td>\n",
       "      <td>-0.086682</td>\n",
       "      <td>-0.748878</td>\n",
       "      <td>-1.587117</td>\n",
       "      <td>0.744867</td>\n",
       "      <td>-1.28139</td>\n",
       "      <td>-0.659977</td>\n",
       "      <td>0.160973</td>\n",
       "      <td>0.588205</td>\n",
       "      <td>-0.817033</td>\n",
       "    </tr>\n",
       "    <tr>\n",
       "      <th>TCGA-2J-AAB8-01</th>\n",
       "      <td>1</td>\n",
       "      <td>71</td>\n",
       "      <td>1</td>\n",
       "      <td>-0.168392</td>\n",
       "      <td>-0.833226</td>\n",
       "      <td>-0.531035</td>\n",
       "      <td>-0.233272</td>\n",
       "      <td>-0.373978</td>\n",
       "      <td>-0.32791</td>\n",
       "      <td>-0.438694</td>\n",
       "      <td>...</td>\n",
       "      <td>-2.090786</td>\n",
       "      <td>-0.086682</td>\n",
       "      <td>-0.748878</td>\n",
       "      <td>-0.061017</td>\n",
       "      <td>0.140167</td>\n",
       "      <td>0.65221</td>\n",
       "      <td>0.114023</td>\n",
       "      <td>0.864373</td>\n",
       "      <td>0.322105</td>\n",
       "      <td>1.441267</td>\n",
       "    </tr>\n",
       "    <tr>\n",
       "      <th>TCGA-2J-AAB9-01</th>\n",
       "      <td>1</td>\n",
       "      <td>70</td>\n",
       "      <td>0</td>\n",
       "      <td>0.563508</td>\n",
       "      <td>0.298374</td>\n",
       "      <td>0.519865</td>\n",
       "      <td>0.089028</td>\n",
       "      <td>-0.273578</td>\n",
       "      <td>-0.32561</td>\n",
       "      <td>0.539906</td>\n",
       "      <td>...</td>\n",
       "      <td>-1.039886</td>\n",
       "      <td>-0.086682</td>\n",
       "      <td>-0.748878</td>\n",
       "      <td>1.963583</td>\n",
       "      <td>0.751967</td>\n",
       "      <td>0.37101</td>\n",
       "      <td>-0.000777</td>\n",
       "      <td>1.271773</td>\n",
       "      <td>-0.053795</td>\n",
       "      <td>3.029567</td>\n",
       "    </tr>\n",
       "  </tbody>\n",
       "</table>\n",
       "<p>5 rows × 17342 columns</p>\n",
       "</div>"
      ],
      "text/plain": [
       "                 Pancreatic Cancer  Age  Gender  ARHGEF10L     HIF3A  \\\n",
       "sampleID                                                               \n",
       "TCGA-2J-AAB1-01                  1   65       1  -0.072992  3.176274   \n",
       "TCGA-2J-AAB4-01                  1   48       1   0.654608  0.380374   \n",
       "TCGA-2J-AAB6-01                  1   75       1   0.377208  1.086674   \n",
       "TCGA-2J-AAB8-01                  1   71       1  -0.168392 -0.833226   \n",
       "TCGA-2J-AAB9-01                  1   70       0   0.563508  0.298374   \n",
       "\n",
       "                    RNF17     RNF10     RNF11    RNF13   GTF2IP1  ...  \\\n",
       "sampleID                                                          ...   \n",
       "TCGA-2J-AAB1-01  0.042165  0.133528 -0.736678 -0.19891  0.071506  ...   \n",
       "TCGA-2J-AAB4-01 -0.531035 -0.046472 -0.185578 -0.50201  0.326006  ...   \n",
       "TCGA-2J-AAB6-01 -0.531035  0.463928  0.479622 -0.47171 -0.190094  ...   \n",
       "TCGA-2J-AAB8-01 -0.531035 -0.233272 -0.373978 -0.32791 -0.438694  ...   \n",
       "TCGA-2J-AAB9-01  0.519865  0.089028 -0.273578 -0.32561  0.539906  ...   \n",
       "\n",
       "                  SLC7A10   PLA2G2C     TULP2     NPY5R     GNGT2    GNGT1  \\\n",
       "sampleID                                                                     \n",
       "TCGA-2J-AAB1-01 -2.090786 -0.086682 -0.748878 -0.604817  0.599267 -1.28139   \n",
       "TCGA-2J-AAB4-01 -1.571286 -0.086682  0.675222  0.672283  0.434167 -1.28139   \n",
       "TCGA-2J-AAB6-01 -2.090786 -0.086682 -0.748878 -1.587117  0.744867 -1.28139   \n",
       "TCGA-2J-AAB8-01 -2.090786 -0.086682 -0.748878 -0.061017  0.140167  0.65221   \n",
       "TCGA-2J-AAB9-01 -1.039886 -0.086682 -0.748878  1.963583  0.751967  0.37101   \n",
       "\n",
       "                    TULP3     BCL6B     GSTK1      SELP  \n",
       "sampleID                                                 \n",
       "TCGA-2J-AAB1-01 -0.223977  0.385573  0.775305  2.372667  \n",
       "TCGA-2J-AAB4-01 -0.609577  0.170673  0.535405  1.988767  \n",
       "TCGA-2J-AAB6-01 -0.659977  0.160973  0.588205 -0.817033  \n",
       "TCGA-2J-AAB8-01  0.114023  0.864373  0.322105  1.441267  \n",
       "TCGA-2J-AAB9-01 -0.000777  1.271773 -0.053795  3.029567  \n",
       "\n",
       "[5 rows x 17342 columns]"
      ]
     },
     "execution_count": 26,
     "metadata": {},
     "output_type": "execute_result"
    }
   ],
   "source": [
    "merged_data = selected_clinical_data.join(genetic_data.T).dropna()\n",
    "merged_data.head()"
   ]
  },
  {
   "cell_type": "code",
   "execution_count": 27,
   "metadata": {
    "ExecuteTime": {
     "end_time": "2023-12-31T21:19:16.341121723Z",
     "start_time": "2023-12-31T21:19:16.330544222Z"
    }
   },
   "outputs": [
    {
     "name": "stdout",
     "output_type": "stream",
     "text": [
      "The merged dataset contains 183 samples.\n"
     ]
    }
   ],
   "source": [
    "print(f\"The merged dataset contains {len(merged_data)} samples.\")"
   ]
  },
  {
   "cell_type": "code",
   "execution_count": 28,
   "metadata": {
    "ExecuteTime": {
     "end_time": "2023-12-31T21:19:17.222505900Z",
     "start_time": "2023-12-31T21:19:17.218781412Z"
    }
   },
   "outputs": [
    {
     "name": "stdout",
     "output_type": "stream",
     "text": [
      "For the feature 'Pancreatic Cancer', the least common label is '0' with 4 occurrences. This represents 2.19% of the dataset.\n",
      "The distribution of the feature 'Pancreatic Cancer' in this dataset is severely biased.\n",
      "\n",
      "Quartiles for 'Age':\n",
      "  25%: 57.0\n",
      "  50% (Median): 65.0\n",
      "  75%: 73.0\n",
      "Min: 35\n",
      "Max: 88\n",
      "The distribution of the feature 'Age' in this dataset is fine.\n",
      "\n",
      "For the feature 'Gender', the least common label is '0' with 82 occurrences. This represents 44.81% of the dataset.\n",
      "The distribution of the feature 'Gender' in this dataset is fine.\n",
      "\n"
     ]
    },
    {
     "data": {
      "text/plain": [
       "True"
      ]
     },
     "execution_count": 28,
     "metadata": {},
     "output_type": "execute_result"
    }
   ],
   "source": [
    "is_trait_biased, merge_data = judge_and_remove_biased_features(merged_data, TRAIT, trait_type=trait_type)\n",
    "is_trait_biased"
   ]
  },
  {
   "cell_type": "code",
   "execution_count": 29,
   "metadata": {
    "ExecuteTime": {
     "end_time": "2023-12-31T21:19:35.401536463Z",
     "start_time": "2023-12-31T21:19:17.980683628Z"
    }
   },
   "outputs": [],
   "source": [
    "merged_data.head()\n",
    "if not is_trait_biased:\n",
    "    merge_data.to_csv(os.path.join(OUTPUT_DIR, cohort+'.csv'), index=False)"
   ]
  },
  {
   "cell_type": "code",
   "execution_count": 30,
   "metadata": {
    "ExecuteTime": {
     "end_time": "2023-12-31T21:19:35.405288661Z",
     "start_time": "2023-12-31T21:19:35.402799553Z"
    }
   },
   "outputs": [],
   "source": [
    "save_cohort_info(cohort, JSON_PATH, is_available, is_trait_biased, merged_data)"
   ]
  },
  {
   "cell_type": "markdown",
   "metadata": {
    "ExecuteTime": {
     "end_time": "2023-12-28T21:28:38.028916303Z",
     "start_time": "2023-12-28T21:28:38.016245426Z"
    }
   },
   "source": [
    "## 2.2. The GEO dataset"
   ]
  },
  {
   "cell_type": "markdown",
   "metadata": {
    "ExecuteTime": {
     "end_time": "2023-12-31T03:25:23.253882615Z",
     "start_time": "2023-12-31T03:25:23.244062710Z"
    }
   },
   "source": [
    "In GEO, there may be one or multiple cohorts for a trait. Each cohort is identified by an accession number. We iterate over all accession numbers in the corresponding subdirectory, preprocess the cohort data, and save them to csv files."
   ]
  },
  {
   "cell_type": "code",
   "execution_count": 31,
   "metadata": {
    "ExecuteTime": {
     "end_time": "2023-12-31T21:19:35.411177575Z",
     "start_time": "2023-12-31T21:19:35.405710636Z"
    }
   },
   "outputs": [
    {
     "data": {
      "text/plain": [
       "['GSE236951', 'GSE212211', 'GSE223409']"
      ]
     },
     "execution_count": 31,
     "metadata": {},
     "output_type": "execute_result"
    }
   ],
   "source": [
    "dataset = 'GEO'\n",
    "trait_subdir = \"Pancreatic-Cancer\"\n",
    "\n",
    "trait_path = os.path.join(DATA_ROOT, dataset, trait_subdir)\n",
    "os.listdir(trait_path)"
   ]
  },
  {
   "cell_type": "markdown",
   "metadata": {
    "ExecuteTime": {
     "end_time": "2023-12-31T03:39:42.634870142Z",
     "start_time": "2023-12-31T03:39:42.534093295Z"
    }
   },
   "source": [
    "Repeat the below steps for all the accession numbers"
   ]
  },
  {
   "cell_type": "code",
   "execution_count": 32,
   "metadata": {
    "ExecuteTime": {
     "end_time": "2023-12-31T21:19:35.413836016Z",
     "start_time": "2023-12-31T21:19:35.410443976Z"
    }
   },
   "outputs": [
    {
     "data": {
      "text/plain": [
       "('../../DATA/GEO/Pancreatic-Cancer/GSE236951/GSE236951_family.soft.gz',\n",
       " '../../DATA/GEO/Pancreatic-Cancer/GSE236951/GSE236951_series_matrix.txt.gz')"
      ]
     },
     "execution_count": 32,
     "metadata": {},
     "output_type": "execute_result"
    }
   ],
   "source": [
    "cohort = accession_num = \"GSE236951\"\n",
    "cohort_dir = os.path.join(trait_path, accession_num)\n",
    "soft_file, matrix_file = get_relevant_filepaths(cohort_dir)\n",
    "soft_file, matrix_file"
   ]
  },
  {
   "cell_type": "markdown",
   "metadata": {},
   "source": [
    "### Inital filtering and clinical data preprocessing"
   ]
  },
  {
   "cell_type": "code",
   "execution_count": 33,
   "metadata": {
    "ExecuteTime": {
     "end_time": "2023-12-31T21:19:35.492119842Z",
     "start_time": "2023-12-31T21:19:35.413383102Z"
    }
   },
   "outputs": [
    {
     "name": "stdout",
     "output_type": "stream",
     "text": [
      "!Series_title\t\"Gene based immune profiling of vermiform appendix GALT of adult patients with pancreatic cancer or colon diseases.\"\n",
      "!Series_summary\t\"Differential immune gene expression analysis in appendix GALT between patients with pancreatic cancer versus benign or malignant colon disease using the nanostring ncounter platform.\"\n",
      "!Series_overall_design\t\"In this study the GALT of appendix was analyzed by RNA expression analysis of ~700 immune related genes using the Pan Cancer Immune Panel from nanostring. Non inflamed normal looking FFPE appendix tissue from sixteen pancreatic cancer patients, nine colon cancer patients, and nine benign colon disease patients was used to compare GALT immune profiles among the three groups.\"\n"
     ]
    }
   ],
   "source": [
    "background_prefixes = ['!Series_title', '!Series_summary', '!Series_overall_design']\n",
    "clinical_prefixes = ['!Sample_geo_accession', '!Sample_characteristics_ch1']\n",
    "\n",
    "background_info, clinical_data = get_background_and_clinical_data(matrix_file, background_prefixes, clinical_prefixes)\n",
    "print(background_info)"
   ]
  },
  {
   "cell_type": "code",
   "execution_count": 34,
   "metadata": {
    "ExecuteTime": {
     "end_time": "2023-12-31T21:19:35.507840422Z",
     "start_time": "2023-12-31T21:19:35.451789107Z"
    }
   },
   "outputs": [
    {
     "data": {
      "text/html": [
       "<div>\n",
       "<style scoped>\n",
       "    .dataframe tbody tr th:only-of-type {\n",
       "        vertical-align: middle;\n",
       "    }\n",
       "\n",
       "    .dataframe tbody tr th {\n",
       "        vertical-align: top;\n",
       "    }\n",
       "\n",
       "    .dataframe thead th {\n",
       "        text-align: right;\n",
       "    }\n",
       "</style>\n",
       "<table border=\"1\" class=\"dataframe\">\n",
       "  <thead>\n",
       "    <tr style=\"text-align: right;\">\n",
       "      <th></th>\n",
       "      <th>!Sample_geo_accession</th>\n",
       "      <th>GSM7587683</th>\n",
       "      <th>GSM7587684</th>\n",
       "      <th>GSM7587685</th>\n",
       "      <th>GSM7587686</th>\n",
       "      <th>GSM7587687</th>\n",
       "      <th>GSM7587688</th>\n",
       "      <th>GSM7587689</th>\n",
       "      <th>GSM7587690</th>\n",
       "      <th>GSM7587691</th>\n",
       "      <th>...</th>\n",
       "      <th>GSM7587707</th>\n",
       "      <th>GSM7587708</th>\n",
       "      <th>GSM7587709</th>\n",
       "      <th>GSM7587710</th>\n",
       "      <th>GSM7587711</th>\n",
       "      <th>GSM7587712</th>\n",
       "      <th>GSM7587713</th>\n",
       "      <th>GSM7587714</th>\n",
       "      <th>GSM7587715</th>\n",
       "      <th>GSM7587716</th>\n",
       "    </tr>\n",
       "  </thead>\n",
       "  <tbody>\n",
       "    <tr>\n",
       "      <th>0</th>\n",
       "      <td>!Sample_characteristics_ch1</td>\n",
       "      <td>disease: Pancreatic ductal adenocarcinoma</td>\n",
       "      <td>disease: Pancreatic ductal adenocarcinoma</td>\n",
       "      <td>disease: Pancreatic ductal adenocarcinoma</td>\n",
       "      <td>disease: Pancreatic ductal adenocarcinoma</td>\n",
       "      <td>disease: Pancreatic ductal adenocarcinoma</td>\n",
       "      <td>disease: Pancreatic ductal adenocarcinoma</td>\n",
       "      <td>disease: Pancreatic ductal adenocarcinoma</td>\n",
       "      <td>disease: Pancreatic ductal adenocarcinoma</td>\n",
       "      <td>disease: Pancreatic ductal adenocarcinoma</td>\n",
       "      <td>...</td>\n",
       "      <td>disease: Colon adenocarcinoma</td>\n",
       "      <td>disease: Colon adenocarcinoma</td>\n",
       "      <td>disease: Benign colon disease</td>\n",
       "      <td>disease: Benign colon disease</td>\n",
       "      <td>disease: Benign colon disease</td>\n",
       "      <td>disease: Benign colon disease</td>\n",
       "      <td>disease: Benign colon disease</td>\n",
       "      <td>disease: Benign colon disease</td>\n",
       "      <td>disease: Benign colon disease</td>\n",
       "      <td>disease: Benign colon disease</td>\n",
       "    </tr>\n",
       "    <tr>\n",
       "      <th>1</th>\n",
       "      <td>!Sample_characteristics_ch1</td>\n",
       "      <td>neoadjuvant therapy: None</td>\n",
       "      <td>neoadjuvant therapy: None</td>\n",
       "      <td>neoadjuvant therapy: None</td>\n",
       "      <td>neoadjuvant therapy: None</td>\n",
       "      <td>neoadjuvant therapy: None</td>\n",
       "      <td>neoadjuvant therapy: None</td>\n",
       "      <td>neoadjuvant therapy: None</td>\n",
       "      <td>neoadjuvant therapy: None</td>\n",
       "      <td>neoadjuvant therapy: None</td>\n",
       "      <td>...</td>\n",
       "      <td>neoadjuvant therapy: None</td>\n",
       "      <td>neoadjuvant therapy: None</td>\n",
       "      <td>neoadjuvant therapy: n.a.</td>\n",
       "      <td>neoadjuvant therapy: n.a.</td>\n",
       "      <td>neoadjuvant therapy: n.a.</td>\n",
       "      <td>neoadjuvant therapy: n.a.</td>\n",
       "      <td>neoadjuvant therapy: n.a.</td>\n",
       "      <td>neoadjuvant therapy: n.a.</td>\n",
       "      <td>neoadjuvant therapy: n.a.</td>\n",
       "      <td>neoadjuvant therapy: n.a.</td>\n",
       "    </tr>\n",
       "    <tr>\n",
       "      <th>2</th>\n",
       "      <td>!Sample_characteristics_ch1</td>\n",
       "      <td>Sex: Male</td>\n",
       "      <td>Sex: Male</td>\n",
       "      <td>Sex: Male</td>\n",
       "      <td>Sex: Male</td>\n",
       "      <td>Sex: Female</td>\n",
       "      <td>Sex: Male</td>\n",
       "      <td>Sex: Male</td>\n",
       "      <td>Sex: Female</td>\n",
       "      <td>Sex: Female</td>\n",
       "      <td>...</td>\n",
       "      <td>Sex: Female</td>\n",
       "      <td>Sex: Female</td>\n",
       "      <td>Sex: Male</td>\n",
       "      <td>Sex: Male</td>\n",
       "      <td>Sex: Female</td>\n",
       "      <td>Sex: Female</td>\n",
       "      <td>Sex: Female</td>\n",
       "      <td>Sex: Male</td>\n",
       "      <td>Sex: Male</td>\n",
       "      <td>Sex: Female</td>\n",
       "    </tr>\n",
       "    <tr>\n",
       "      <th>3</th>\n",
       "      <td>!Sample_characteristics_ch1</td>\n",
       "      <td>age: 83 years</td>\n",
       "      <td>age: 64 years</td>\n",
       "      <td>age: 59 years</td>\n",
       "      <td>age: 64 years</td>\n",
       "      <td>age: 72 years</td>\n",
       "      <td>age: 72 years</td>\n",
       "      <td>age: 89 years</td>\n",
       "      <td>age: 59 years</td>\n",
       "      <td>age: 64 years</td>\n",
       "      <td>...</td>\n",
       "      <td>age: 53 years</td>\n",
       "      <td>age: 95 years</td>\n",
       "      <td>age: 53 years</td>\n",
       "      <td>age: 55 years</td>\n",
       "      <td>age: 43 years</td>\n",
       "      <td>age: 71 years</td>\n",
       "      <td>age: 48 years</td>\n",
       "      <td>age: 43 years</td>\n",
       "      <td>age: 55 years</td>\n",
       "      <td>age: 63 years</td>\n",
       "    </tr>\n",
       "  </tbody>\n",
       "</table>\n",
       "<p>4 rows × 35 columns</p>\n",
       "</div>"
      ],
      "text/plain": [
       "         !Sample_geo_accession                                 GSM7587683  \\\n",
       "0  !Sample_characteristics_ch1  disease: Pancreatic ductal adenocarcinoma   \n",
       "1  !Sample_characteristics_ch1                  neoadjuvant therapy: None   \n",
       "2  !Sample_characteristics_ch1                                  Sex: Male   \n",
       "3  !Sample_characteristics_ch1                              age: 83 years   \n",
       "\n",
       "                                  GSM7587684  \\\n",
       "0  disease: Pancreatic ductal adenocarcinoma   \n",
       "1                  neoadjuvant therapy: None   \n",
       "2                                  Sex: Male   \n",
       "3                              age: 64 years   \n",
       "\n",
       "                                  GSM7587685  \\\n",
       "0  disease: Pancreatic ductal adenocarcinoma   \n",
       "1                  neoadjuvant therapy: None   \n",
       "2                                  Sex: Male   \n",
       "3                              age: 59 years   \n",
       "\n",
       "                                  GSM7587686  \\\n",
       "0  disease: Pancreatic ductal adenocarcinoma   \n",
       "1                  neoadjuvant therapy: None   \n",
       "2                                  Sex: Male   \n",
       "3                              age: 64 years   \n",
       "\n",
       "                                  GSM7587687  \\\n",
       "0  disease: Pancreatic ductal adenocarcinoma   \n",
       "1                  neoadjuvant therapy: None   \n",
       "2                                Sex: Female   \n",
       "3                              age: 72 years   \n",
       "\n",
       "                                  GSM7587688  \\\n",
       "0  disease: Pancreatic ductal adenocarcinoma   \n",
       "1                  neoadjuvant therapy: None   \n",
       "2                                  Sex: Male   \n",
       "3                              age: 72 years   \n",
       "\n",
       "                                  GSM7587689  \\\n",
       "0  disease: Pancreatic ductal adenocarcinoma   \n",
       "1                  neoadjuvant therapy: None   \n",
       "2                                  Sex: Male   \n",
       "3                              age: 89 years   \n",
       "\n",
       "                                  GSM7587690  \\\n",
       "0  disease: Pancreatic ductal adenocarcinoma   \n",
       "1                  neoadjuvant therapy: None   \n",
       "2                                Sex: Female   \n",
       "3                              age: 59 years   \n",
       "\n",
       "                                  GSM7587691  ...  \\\n",
       "0  disease: Pancreatic ductal adenocarcinoma  ...   \n",
       "1                  neoadjuvant therapy: None  ...   \n",
       "2                                Sex: Female  ...   \n",
       "3                              age: 64 years  ...   \n",
       "\n",
       "                      GSM7587707                     GSM7587708  \\\n",
       "0  disease: Colon adenocarcinoma  disease: Colon adenocarcinoma   \n",
       "1      neoadjuvant therapy: None      neoadjuvant therapy: None   \n",
       "2                    Sex: Female                    Sex: Female   \n",
       "3                  age: 53 years                  age: 95 years   \n",
       "\n",
       "                      GSM7587709                     GSM7587710  \\\n",
       "0  disease: Benign colon disease  disease: Benign colon disease   \n",
       "1      neoadjuvant therapy: n.a.      neoadjuvant therapy: n.a.   \n",
       "2                      Sex: Male                      Sex: Male   \n",
       "3                  age: 53 years                  age: 55 years   \n",
       "\n",
       "                      GSM7587711                     GSM7587712  \\\n",
       "0  disease: Benign colon disease  disease: Benign colon disease   \n",
       "1      neoadjuvant therapy: n.a.      neoadjuvant therapy: n.a.   \n",
       "2                    Sex: Female                    Sex: Female   \n",
       "3                  age: 43 years                  age: 71 years   \n",
       "\n",
       "                      GSM7587713                     GSM7587714  \\\n",
       "0  disease: Benign colon disease  disease: Benign colon disease   \n",
       "1      neoadjuvant therapy: n.a.      neoadjuvant therapy: n.a.   \n",
       "2                    Sex: Female                      Sex: Male   \n",
       "3                  age: 48 years                  age: 43 years   \n",
       "\n",
       "                      GSM7587715                     GSM7587716  \n",
       "0  disease: Benign colon disease  disease: Benign colon disease  \n",
       "1      neoadjuvant therapy: n.a.      neoadjuvant therapy: n.a.  \n",
       "2                      Sex: Male                    Sex: Female  \n",
       "3                  age: 55 years                  age: 63 years  \n",
       "\n",
       "[4 rows x 35 columns]"
      ]
     },
     "execution_count": 34,
     "metadata": {},
     "output_type": "execute_result"
    }
   ],
   "source": [
    "clinical_data.head()"
   ]
  },
  {
   "cell_type": "code",
   "execution_count": 35,
   "metadata": {
    "ExecuteTime": {
     "end_time": "2023-12-31T21:19:35.508015426Z",
     "start_time": "2023-12-31T21:19:35.492746637Z"
    }
   },
   "outputs": [
    {
     "data": {
      "text/plain": [
       "{0: ['disease: Pancreatic ductal adenocarcinoma',\n",
       "  'disease: Colon adenocarcinoma',\n",
       "  'disease: Benign colon disease'],\n",
       " 1: ['neoadjuvant therapy: None', 'neoadjuvant therapy: n.a.'],\n",
       " 2: ['Sex: Male', 'Sex: Female'],\n",
       " 3: ['age: 83 years',\n",
       "  'age: 64 years',\n",
       "  'age: 59 years',\n",
       "  'age: 72 years',\n",
       "  'age: 89 years',\n",
       "  'age: 82 years',\n",
       "  'age: 75 years',\n",
       "  'age: 61 years',\n",
       "  'age: 68 years',\n",
       "  'age: 49 years',\n",
       "  'age: 71 years',\n",
       "  'age: 58 years',\n",
       "  'age: 76 years',\n",
       "  'age: 67 years',\n",
       "  'age: 52 years',\n",
       "  'age: 57 years',\n",
       "  'age: 53 years',\n",
       "  'age: 95 years',\n",
       "  'age: 55 years',\n",
       "  'age: 43 years',\n",
       "  'age: 48 years',\n",
       "  'age: 63 years']}"
      ]
     },
     "execution_count": 35,
     "metadata": {},
     "output_type": "execute_result"
    }
   ],
   "source": [
    "clinical_data_unique = get_unique_values_by_row(clinical_data)\n",
    "clinical_data_unique"
   ]
  },
  {
   "cell_type": "markdown",
   "metadata": {
    "ExecuteTime": {
     "end_time": "2023-12-31T03:58:04.978204446Z",
     "start_time": "2023-12-31T03:58:04.922270095Z"
    }
   },
   "source": [
    "Analyze the metadata to determine data relevance and find ways to extract the clinical data.\n",
    "Reference prompt:"
   ]
  },
  {
   "cell_type": "code",
   "execution_count": 36,
   "metadata": {
    "ExecuteTime": {
     "end_time": "2023-12-31T21:19:35.508232400Z",
     "start_time": "2023-12-31T21:19:35.492903487Z"
    }
   },
   "outputs": [
    {
     "data": {
      "text/plain": [
       "'As a biomedical research team, we are selecting datasets to study the association between the human trait \\'Pancreatic Cancer\\' and genetic factors, optionally considering the influence of age and gender. After searching the GEO database and parsing the matrix file of a series, we obtained background information and sample characteristics data. We will provide textual information about the dataset background, and a Python dictionary storing a list of unique values for each field of the sample characteristics data. Please carefully review the provided information and answer the following questions about this dataset:\\n1. Does this dataset contain gene expression data? (Note: Pure miRNA data is not suitable.)\\n2. For each of the traits \\'Pancreatic Cancer\\', \\'age\\', and \\'gender\\', please address these points:\\n   (1) Is there human data available for this trait?\\n   (2) If so, identify the key in the sample characteristics dictionary where unique values of this trait is recorded. The key is an integer. The trait information might be explicitly recorded, or can be inferred from the field with some biomedical knowledge or understanding about the data collection process.\\n   (3) Choose an appropriate data type (either \\'continuous\\' or \\'binary\\') for each trait. Write a Python function to convert any given value of the trait to this data type. The function should handle inference about the trait value and convert unknown values to None.\\n   Name the functions \\'convert_trait\\', \\'convert_age\\', and \\'convert_gender\\', respectively.\\n   NOTE: Function \"convert_trait\" should return 1 or 0.\\n   \\nBackground information about the dataset:\\n!Series_title\\t\"Gene based immune profiling of vermiform appendix GALT of adult patients with pancreatic cancer or colon diseases.\"\\n!Series_summary\\t\"Differential immune gene expression analysis in appendix GALT between patients with pancreatic cancer versus benign or malignant colon disease using the nanostring ncounter platform.\"\\n!Series_overall_design\\t\"In this study the GALT of appendix was analyzed by RNA expression analysis of ~700 immune related genes using the Pan Cancer Immune Panel from nanostring. Non inflamed normal looking FFPE appendix tissue from sixteen pancreatic cancer patients, nine colon cancer patients, and nine benign colon disease patients was used to compare GALT immune profiles among the three groups.\"\\n\\nSample characteristics dictionary (from \"!Sample_characteristics_ch1\", converted to a Python dictionary that stores the unique values for each field):\\n{0: [\\'disease: Pancreatic ductal adenocarcinoma\\', \\'disease: Colon adenocarcinoma\\', \\'disease: Benign colon disease\\'], 1: [\\'neoadjuvant therapy: None\\', \\'neoadjuvant therapy: n.a.\\'], 2: [\\'Sex: Male\\', \\'Sex: Female\\'], 3: [\\'age: 83 years\\', \\'age: 64 years\\', \\'age: 59 years\\', \\'age: 72 years\\', \\'age: 89 years\\', \\'age: 82 years\\', \\'age: 75 years\\', \\'age: 61 years\\', \\'age: 68 years\\', \\'age: 49 years\\', \\'age: 71 years\\', \\'age: 58 years\\', \\'age: 76 years\\', \\'age: 67 years\\', \\'age: 52 years\\', \\'age: 57 years\\', \\'age: 53 years\\', \\'age: 95 years\\', \\'age: 55 years\\', \\'age: 43 years\\', \\'age: 48 years\\', \\'age: 63 years\\']}\\n'"
      ]
     },
     "execution_count": 36,
     "metadata": {},
     "output_type": "execute_result"
    }
   ],
   "source": [
    "f'''As a biomedical research team, we are selecting datasets to study the association between the human trait \\'{TRAIT}\\' and genetic factors, optionally considering the influence of age and gender. After searching the GEO database and parsing the matrix file of a series, we obtained background information and sample characteristics data. We will provide textual information about the dataset background, and a Python dictionary storing a list of unique values for each field of the sample characteristics data. Please carefully review the provided information and answer the following questions about this dataset:\n",
    "1. Does this dataset contain gene expression data? (Note: Pure miRNA data is not suitable.)\n",
    "2. For each of the traits \\'{TRAIT}\\', 'age', and 'gender', please address these points:\n",
    "   (1) Is there human data available for this trait?\n",
    "   (2) If so, identify the key in the sample characteristics dictionary where unique values of this trait is recorded. The key is an integer. The trait information might be explicitly recorded, or can be inferred from the field with some biomedical knowledge or understanding about the data collection process.\n",
    "   (3) Choose an appropriate data type (either 'continuous' or 'binary') for each trait. Write a Python function to convert any given value of the trait to this data type. The function should handle inference about the trait value and convert unknown values to None.\n",
    "   Name the functions 'convert_trait', 'convert_age', and 'convert_gender', respectively.\n",
    "   NOTE: Function \"convert_trait\" should return 1 or 0.\n",
    "   \n",
    "Background information about the dataset:\n",
    "{background_info}\n",
    "\n",
    "Sample characteristics dictionary (from \"!Sample_characteristics_ch1\", converted to a Python dictionary that stores the unique values for each field):\n",
    "{clinical_data_unique}\n",
    "'''"
   ]
  },
  {
   "cell_type": "markdown",
   "metadata": {
    "ExecuteTime": {
     "end_time": "2023-12-31T03:58:04.978240504Z",
     "start_time": "2023-12-31T03:58:04.922365324Z"
    }
   },
   "source": [
    "Understand and verify the answer from GPT, to assign values to the below variables. Assign None to the 'row_id' variables if relevant data row was not found.\n",
    "Later we need to let GPT format its answer to automatically do these. But given the complexity of this step, let's grow some insight from the free-text answers for now."
   ]
  },
  {
   "cell_type": "code",
   "execution_count": 37,
   "metadata": {},
   "outputs": [],
   "source": [
    "age_row = gender_row = None\n",
    "convert_age = convert_gender = None"
   ]
  },
  {
   "cell_type": "code",
   "execution_count": 38,
   "metadata": {},
   "outputs": [],
   "source": [
    "is_gene_availabe = True\n",
    "trait_row = 0\n",
    "age_row = 3\n",
    "gender_row = 2\n",
    "\n",
    "trait_type = 'binary'"
   ]
  },
  {
   "cell_type": "code",
   "execution_count": 39,
   "metadata": {
    "ExecuteTime": {
     "end_time": "2023-12-31T21:19:35.508365153Z",
     "start_time": "2023-12-31T21:19:35.493151450Z"
    }
   },
   "outputs": [],
   "source": [
    "is_available = is_gene_availabe and (trait_row is not None)\n",
    "if not is_available:\n",
    "    save_cohort_info(cohort, JSON_PATH, is_available)\n",
    "    print(\"This cohort is not usable. Please skip the following steps and jump to the next accession number.\")"
   ]
  },
  {
   "cell_type": "code",
   "execution_count": 40,
   "metadata": {
    "ExecuteTime": {
     "end_time": "2023-12-31T21:19:35.508426069Z",
     "start_time": "2023-12-31T21:19:35.493220101Z"
    }
   },
   "outputs": [],
   "source": [
    "import re\n",
    "def convert_trait(value):\n",
    "    if value == 'disease: Pancreatic ductal adenocarcinoma':\n",
    "        return 1\n",
    "    elif value == 'disease: Benign colon disease':\n",
    "        return 0\n",
    "    else:\n",
    "        return None\n",
    "\n",
    "def convert_age(trait_value):\n",
    "    age_match = re.search(r'\\d+ years', trait_value)\n",
    "    if age_match:\n",
    "        return int(age_match.group(0).split()[0])\n",
    "    else:\n",
    "        return None\n",
    "\n",
    "\n",
    "def convert_gender(value):\n",
    "    \"\"\"\n",
    "    Convert the gender value to a binary format.\n",
    "    'M' for male is converted to 1, and 'F' for female is converted to 0.\n",
    "\n",
    "    Args:\n",
    "    value (str): The gender value in the format 'gender: X'.\n",
    "\n",
    "    Returns:\n",
    "    int: 1 for male, 0 for female, or None if the value is not in the expected format.\n",
    "    \"\"\"\n",
    "    if value == 'Sex: Male':\n",
    "        return 1\n",
    "    elif value == 'Sex: Female':\n",
    "        return 0\n",
    "    else:\n",
    "        return None"
   ]
  },
  {
   "cell_type": "code",
   "execution_count": 42,
   "metadata": {
    "ExecuteTime": {
     "end_time": "2023-12-31T21:19:35.508533013Z",
     "start_time": "2023-12-31T21:19:35.493272992Z"
    }
   },
   "outputs": [
    {
     "data": {
      "text/html": [
       "<div>\n",
       "<style scoped>\n",
       "    .dataframe tbody tr th:only-of-type {\n",
       "        vertical-align: middle;\n",
       "    }\n",
       "\n",
       "    .dataframe tbody tr th {\n",
       "        vertical-align: top;\n",
       "    }\n",
       "\n",
       "    .dataframe thead th {\n",
       "        text-align: right;\n",
       "    }\n",
       "</style>\n",
       "<table border=\"1\" class=\"dataframe\">\n",
       "  <thead>\n",
       "    <tr style=\"text-align: right;\">\n",
       "      <th></th>\n",
       "      <th>GSM7587683</th>\n",
       "      <th>GSM7587684</th>\n",
       "      <th>GSM7587685</th>\n",
       "      <th>GSM7587686</th>\n",
       "      <th>GSM7587687</th>\n",
       "      <th>GSM7587688</th>\n",
       "      <th>GSM7587689</th>\n",
       "      <th>GSM7587690</th>\n",
       "      <th>GSM7587691</th>\n",
       "      <th>GSM7587692</th>\n",
       "      <th>...</th>\n",
       "      <th>GSM7587707</th>\n",
       "      <th>GSM7587708</th>\n",
       "      <th>GSM7587709</th>\n",
       "      <th>GSM7587710</th>\n",
       "      <th>GSM7587711</th>\n",
       "      <th>GSM7587712</th>\n",
       "      <th>GSM7587713</th>\n",
       "      <th>GSM7587714</th>\n",
       "      <th>GSM7587715</th>\n",
       "      <th>GSM7587716</th>\n",
       "    </tr>\n",
       "  </thead>\n",
       "  <tbody>\n",
       "    <tr>\n",
       "      <th>Pancreatic Cancer</th>\n",
       "      <td>1</td>\n",
       "      <td>1</td>\n",
       "      <td>1</td>\n",
       "      <td>1</td>\n",
       "      <td>1</td>\n",
       "      <td>1</td>\n",
       "      <td>1</td>\n",
       "      <td>1</td>\n",
       "      <td>1</td>\n",
       "      <td>1</td>\n",
       "      <td>...</td>\n",
       "      <td>None</td>\n",
       "      <td>None</td>\n",
       "      <td>0</td>\n",
       "      <td>0</td>\n",
       "      <td>0</td>\n",
       "      <td>0</td>\n",
       "      <td>0</td>\n",
       "      <td>0</td>\n",
       "      <td>0</td>\n",
       "      <td>0</td>\n",
       "    </tr>\n",
       "    <tr>\n",
       "      <th>Age</th>\n",
       "      <td>83</td>\n",
       "      <td>64</td>\n",
       "      <td>59</td>\n",
       "      <td>64</td>\n",
       "      <td>72</td>\n",
       "      <td>72</td>\n",
       "      <td>89</td>\n",
       "      <td>59</td>\n",
       "      <td>64</td>\n",
       "      <td>82</td>\n",
       "      <td>...</td>\n",
       "      <td>53</td>\n",
       "      <td>95</td>\n",
       "      <td>53</td>\n",
       "      <td>55</td>\n",
       "      <td>43</td>\n",
       "      <td>71</td>\n",
       "      <td>48</td>\n",
       "      <td>43</td>\n",
       "      <td>55</td>\n",
       "      <td>63</td>\n",
       "    </tr>\n",
       "    <tr>\n",
       "      <th>Gender</th>\n",
       "      <td>1</td>\n",
       "      <td>1</td>\n",
       "      <td>1</td>\n",
       "      <td>1</td>\n",
       "      <td>0</td>\n",
       "      <td>1</td>\n",
       "      <td>1</td>\n",
       "      <td>0</td>\n",
       "      <td>0</td>\n",
       "      <td>0</td>\n",
       "      <td>...</td>\n",
       "      <td>0</td>\n",
       "      <td>0</td>\n",
       "      <td>1</td>\n",
       "      <td>1</td>\n",
       "      <td>0</td>\n",
       "      <td>0</td>\n",
       "      <td>0</td>\n",
       "      <td>1</td>\n",
       "      <td>1</td>\n",
       "      <td>0</td>\n",
       "    </tr>\n",
       "  </tbody>\n",
       "</table>\n",
       "<p>3 rows × 34 columns</p>\n",
       "</div>"
      ],
      "text/plain": [
       "                   GSM7587683  GSM7587684  GSM7587685  GSM7587686  GSM7587687  \\\n",
       "Pancreatic Cancer           1           1           1           1           1   \n",
       "Age                        83          64          59          64          72   \n",
       "Gender                      1           1           1           1           0   \n",
       "\n",
       "                   GSM7587688  GSM7587689  GSM7587690  GSM7587691  GSM7587692  \\\n",
       "Pancreatic Cancer           1           1           1           1           1   \n",
       "Age                        72          89          59          64          82   \n",
       "Gender                      1           1           0           0           0   \n",
       "\n",
       "                   ...  GSM7587707  GSM7587708  GSM7587709  GSM7587710  \\\n",
       "Pancreatic Cancer  ...        None        None           0           0   \n",
       "Age                ...          53          95          53          55   \n",
       "Gender             ...           0           0           1           1   \n",
       "\n",
       "                   GSM7587711  GSM7587712 GSM7587713 GSM7587714 GSM7587715  \\\n",
       "Pancreatic Cancer           0           0          0          0          0   \n",
       "Age                        43          71         48         43         55   \n",
       "Gender                      0           0          0          1          1   \n",
       "\n",
       "                  GSM7587716  \n",
       "Pancreatic Cancer          0  \n",
       "Age                       63  \n",
       "Gender                     0  \n",
       "\n",
       "[3 rows x 34 columns]"
      ]
     },
     "execution_count": 42,
     "metadata": {},
     "output_type": "execute_result"
    }
   ],
   "source": [
    "selected_clinical_data = geo_select_clinical_features(clinical_data, TRAIT, trait_row, convert_trait, age_row=age_row,\n",
    "                                                      convert_age=convert_age, gender_row=gender_row,\n",
    "                                                      convert_gender=convert_gender)\n",
    "selected_clinical_data.head()"
   ]
  },
  {
   "cell_type": "markdown",
   "metadata": {
    "ExecuteTime": {
     "end_time": "2023-12-31T03:58:04.978664193Z",
     "start_time": "2023-12-31T03:58:04.966117261Z"
    }
   },
   "source": [
    "### Genetic data preprocessing and final filtering"
   ]
  },
  {
   "cell_type": "code",
   "execution_count": 43,
   "metadata": {
    "ExecuteTime": {
     "end_time": "2023-12-31T21:19:35.590261560Z",
     "start_time": "2023-12-31T21:19:35.493320362Z"
    }
   },
   "outputs": [
    {
     "data": {
      "text/html": [
       "<div>\n",
       "<style scoped>\n",
       "    .dataframe tbody tr th:only-of-type {\n",
       "        vertical-align: middle;\n",
       "    }\n",
       "\n",
       "    .dataframe tbody tr th {\n",
       "        vertical-align: top;\n",
       "    }\n",
       "\n",
       "    .dataframe thead th {\n",
       "        text-align: right;\n",
       "    }\n",
       "</style>\n",
       "<table border=\"1\" class=\"dataframe\">\n",
       "  <thead>\n",
       "    <tr style=\"text-align: right;\">\n",
       "      <th></th>\n",
       "      <th>GSM7587683</th>\n",
       "      <th>GSM7587684</th>\n",
       "      <th>GSM7587685</th>\n",
       "      <th>GSM7587686</th>\n",
       "      <th>GSM7587687</th>\n",
       "      <th>GSM7587688</th>\n",
       "      <th>GSM7587689</th>\n",
       "      <th>GSM7587690</th>\n",
       "      <th>GSM7587691</th>\n",
       "      <th>GSM7587692</th>\n",
       "      <th>...</th>\n",
       "      <th>GSM7587707</th>\n",
       "      <th>GSM7587708</th>\n",
       "      <th>GSM7587709</th>\n",
       "      <th>GSM7587710</th>\n",
       "      <th>GSM7587711</th>\n",
       "      <th>GSM7587712</th>\n",
       "      <th>GSM7587713</th>\n",
       "      <th>GSM7587714</th>\n",
       "      <th>GSM7587715</th>\n",
       "      <th>GSM7587716</th>\n",
       "    </tr>\n",
       "    <tr>\n",
       "      <th>ID</th>\n",
       "      <th></th>\n",
       "      <th></th>\n",
       "      <th></th>\n",
       "      <th></th>\n",
       "      <th></th>\n",
       "      <th></th>\n",
       "      <th></th>\n",
       "      <th></th>\n",
       "      <th></th>\n",
       "      <th></th>\n",
       "      <th></th>\n",
       "      <th></th>\n",
       "      <th></th>\n",
       "      <th></th>\n",
       "      <th></th>\n",
       "      <th></th>\n",
       "      <th></th>\n",
       "      <th></th>\n",
       "      <th></th>\n",
       "      <th></th>\n",
       "      <th></th>\n",
       "    </tr>\n",
       "  </thead>\n",
       "  <tbody>\n",
       "    <tr>\n",
       "      <th>A2M</th>\n",
       "      <td>13.071117</td>\n",
       "      <td>13.515604</td>\n",
       "      <td>13.288653</td>\n",
       "      <td>13.801596</td>\n",
       "      <td>13.154276</td>\n",
       "      <td>13.447439</td>\n",
       "      <td>13.099154</td>\n",
       "      <td>13.605908</td>\n",
       "      <td>12.490481</td>\n",
       "      <td>13.090440</td>\n",
       "      <td>...</td>\n",
       "      <td>13.332927</td>\n",
       "      <td>13.668196</td>\n",
       "      <td>13.398971</td>\n",
       "      <td>14.388423</td>\n",
       "      <td>13.251077</td>\n",
       "      <td>13.875481</td>\n",
       "      <td>14.004492</td>\n",
       "      <td>13.170939</td>\n",
       "      <td>12.307995</td>\n",
       "      <td>13.410477</td>\n",
       "    </tr>\n",
       "    <tr>\n",
       "      <th>ABCB1</th>\n",
       "      <td>9.946163</td>\n",
       "      <td>10.543342</td>\n",
       "      <td>9.608472</td>\n",
       "      <td>10.066367</td>\n",
       "      <td>12.152271</td>\n",
       "      <td>9.815143</td>\n",
       "      <td>10.630754</td>\n",
       "      <td>9.783274</td>\n",
       "      <td>9.565685</td>\n",
       "      <td>10.311819</td>\n",
       "      <td>...</td>\n",
       "      <td>9.685505</td>\n",
       "      <td>9.919031</td>\n",
       "      <td>10.883408</td>\n",
       "      <td>10.162817</td>\n",
       "      <td>10.044669</td>\n",
       "      <td>10.364624</td>\n",
       "      <td>10.376823</td>\n",
       "      <td>9.636499</td>\n",
       "      <td>9.932300</td>\n",
       "      <td>10.593647</td>\n",
       "    </tr>\n",
       "    <tr>\n",
       "      <th>ABL1</th>\n",
       "      <td>10.345667</td>\n",
       "      <td>10.548967</td>\n",
       "      <td>10.405202</td>\n",
       "      <td>10.278806</td>\n",
       "      <td>10.252386</td>\n",
       "      <td>10.146349</td>\n",
       "      <td>9.944674</td>\n",
       "      <td>10.272593</td>\n",
       "      <td>9.922946</td>\n",
       "      <td>9.962764</td>\n",
       "      <td>...</td>\n",
       "      <td>10.451650</td>\n",
       "      <td>10.962352</td>\n",
       "      <td>10.490571</td>\n",
       "      <td>11.255471</td>\n",
       "      <td>10.764135</td>\n",
       "      <td>10.720892</td>\n",
       "      <td>10.857599</td>\n",
       "      <td>10.140400</td>\n",
       "      <td>9.975869</td>\n",
       "      <td>10.681644</td>\n",
       "    </tr>\n",
       "    <tr>\n",
       "      <th>ADA</th>\n",
       "      <td>9.222631</td>\n",
       "      <td>8.920553</td>\n",
       "      <td>9.116346</td>\n",
       "      <td>9.124335</td>\n",
       "      <td>8.191202</td>\n",
       "      <td>9.436976</td>\n",
       "      <td>9.912189</td>\n",
       "      <td>8.895909</td>\n",
       "      <td>9.781248</td>\n",
       "      <td>9.207426</td>\n",
       "      <td>...</td>\n",
       "      <td>9.130332</td>\n",
       "      <td>8.216305</td>\n",
       "      <td>9.305459</td>\n",
       "      <td>8.478238</td>\n",
       "      <td>8.539324</td>\n",
       "      <td>9.273433</td>\n",
       "      <td>8.332429</td>\n",
       "      <td>9.188707</td>\n",
       "      <td>9.475842</td>\n",
       "      <td>8.423722</td>\n",
       "    </tr>\n",
       "    <tr>\n",
       "      <th>ADORA2A</th>\n",
       "      <td>8.779165</td>\n",
       "      <td>8.688000</td>\n",
       "      <td>8.618606</td>\n",
       "      <td>8.287657</td>\n",
       "      <td>7.185985</td>\n",
       "      <td>8.000877</td>\n",
       "      <td>9.574101</td>\n",
       "      <td>8.195099</td>\n",
       "      <td>8.388289</td>\n",
       "      <td>8.083000</td>\n",
       "      <td>...</td>\n",
       "      <td>9.090126</td>\n",
       "      <td>8.046844</td>\n",
       "      <td>8.186160</td>\n",
       "      <td>8.078707</td>\n",
       "      <td>8.268522</td>\n",
       "      <td>8.641164</td>\n",
       "      <td>8.477480</td>\n",
       "      <td>9.338207</td>\n",
       "      <td>9.553107</td>\n",
       "      <td>9.250391</td>\n",
       "    </tr>\n",
       "  </tbody>\n",
       "</table>\n",
       "<p>5 rows × 34 columns</p>\n",
       "</div>"
      ],
      "text/plain": [
       "         GSM7587683  GSM7587684  GSM7587685  GSM7587686  GSM7587687  \\\n",
       "ID                                                                    \n",
       "A2M       13.071117   13.515604   13.288653   13.801596   13.154276   \n",
       "ABCB1      9.946163   10.543342    9.608472   10.066367   12.152271   \n",
       "ABL1      10.345667   10.548967   10.405202   10.278806   10.252386   \n",
       "ADA        9.222631    8.920553    9.116346    9.124335    8.191202   \n",
       "ADORA2A    8.779165    8.688000    8.618606    8.287657    7.185985   \n",
       "\n",
       "         GSM7587688  GSM7587689  GSM7587690  GSM7587691  GSM7587692  ...  \\\n",
       "ID                                                                   ...   \n",
       "A2M       13.447439   13.099154   13.605908   12.490481   13.090440  ...   \n",
       "ABCB1      9.815143   10.630754    9.783274    9.565685   10.311819  ...   \n",
       "ABL1      10.146349    9.944674   10.272593    9.922946    9.962764  ...   \n",
       "ADA        9.436976    9.912189    8.895909    9.781248    9.207426  ...   \n",
       "ADORA2A    8.000877    9.574101    8.195099    8.388289    8.083000  ...   \n",
       "\n",
       "         GSM7587707  GSM7587708  GSM7587709  GSM7587710  GSM7587711  \\\n",
       "ID                                                                    \n",
       "A2M       13.332927   13.668196   13.398971   14.388423   13.251077   \n",
       "ABCB1      9.685505    9.919031   10.883408   10.162817   10.044669   \n",
       "ABL1      10.451650   10.962352   10.490571   11.255471   10.764135   \n",
       "ADA        9.130332    8.216305    9.305459    8.478238    8.539324   \n",
       "ADORA2A    9.090126    8.046844    8.186160    8.078707    8.268522   \n",
       "\n",
       "         GSM7587712  GSM7587713  GSM7587714  GSM7587715  GSM7587716  \n",
       "ID                                                                   \n",
       "A2M       13.875481   14.004492   13.170939   12.307995   13.410477  \n",
       "ABCB1     10.364624   10.376823    9.636499    9.932300   10.593647  \n",
       "ABL1      10.720892   10.857599   10.140400    9.975869   10.681644  \n",
       "ADA        9.273433    8.332429    9.188707    9.475842    8.423722  \n",
       "ADORA2A    8.641164    8.477480    9.338207    9.553107    9.250391  \n",
       "\n",
       "[5 rows x 34 columns]"
      ]
     },
     "execution_count": 43,
     "metadata": {},
     "output_type": "execute_result"
    }
   ],
   "source": [
    "genetic_data = get_genetic_data(matrix_file)\n",
    "genetic_data.head()"
   ]
  },
  {
   "cell_type": "code",
   "execution_count": 44,
   "metadata": {
    "ExecuteTime": {
     "end_time": "2023-12-31T21:19:35.590443507Z",
     "start_time": "2023-12-31T21:19:35.536713559Z"
    }
   },
   "outputs": [
    {
     "data": {
      "text/plain": [
       "['A2M',\n",
       " 'ABCB1',\n",
       " 'ABL1',\n",
       " 'ADA',\n",
       " 'ADORA2A',\n",
       " 'AICDA',\n",
       " 'AIRE',\n",
       " 'AKT3',\n",
       " 'ALCAM',\n",
       " 'AMBP',\n",
       " 'AMICA1',\n",
       " 'ANP32B',\n",
       " 'ANXA1',\n",
       " 'APOE',\n",
       " 'APP',\n",
       " 'ARG1',\n",
       " 'ARG2',\n",
       " 'ATF1',\n",
       " 'ATF2',\n",
       " 'ATG10']"
      ]
     },
     "execution_count": 44,
     "metadata": {},
     "output_type": "execute_result"
    }
   ],
   "source": [
    "gene_row_ids = genetic_data.index[:20].tolist()\n",
    "gene_row_ids"
   ]
  },
  {
   "cell_type": "markdown",
   "metadata": {
    "ExecuteTime": {
     "end_time": "2023-12-31T03:30:41.595335164Z",
     "start_time": "2023-12-31T03:30:41.513232329Z"
    }
   },
   "source": [
    "Check if the gene dataset requires mapping to get the gene symbols corresponding to each data row."
   ]
  },
  {
   "cell_type": "markdown",
   "metadata": {},
   "source": [
    "Reference prompt:"
   ]
  },
  {
   "cell_type": "code",
   "execution_count": 45,
   "metadata": {
    "ExecuteTime": {
     "end_time": "2023-12-31T21:19:35.590590427Z",
     "start_time": "2023-12-31T21:19:35.536780517Z"
    },
    "scrolled": true
   },
   "outputs": [
    {
     "data": {
      "text/plain": [
       "\"\\nBelow are the row headers of a gene expression dataset in GEO. Based on your biomedical knowledge, are they human gene symbols, or are they some other identifiers that need to be mapped to gene symbols? Your answer should be concluded by starting a new line and strictly following this format:\\nrequires_gene_mapping = (True or False)\\n\\nRow headers:\\n['A2M', 'ABCB1', 'ABL1', 'ADA', 'ADORA2A', 'AICDA', 'AIRE', 'AKT3', 'ALCAM', 'AMBP', 'AMICA1', 'ANP32B', 'ANXA1', 'APOE', 'APP', 'ARG1', 'ARG2', 'ATF1', 'ATF2', 'ATG10']\\n\""
      ]
     },
     "execution_count": 45,
     "metadata": {},
     "output_type": "execute_result"
    }
   ],
   "source": [
    "f'''\n",
    "Below are the row headers of a gene expression dataset in GEO. Based on your biomedical knowledge, are they human gene symbols, or are they some other identifiers that need to be mapped to gene symbols? Your answer should be concluded by starting a new line and strictly following this format:\n",
    "requires_gene_mapping = (True or False)\n",
    "\n",
    "Row headers:\n",
    "{gene_row_ids}\n",
    "'''"
   ]
  },
  {
   "cell_type": "markdown",
   "metadata": {},
   "source": [
    "If not required, jump directly to the gene normalization step"
   ]
  },
  {
   "cell_type": "code",
   "execution_count": 47,
   "metadata": {
    "ExecuteTime": {
     "end_time": "2023-12-31T21:19:35.590648558Z",
     "start_time": "2023-12-31T21:19:35.536821375Z"
    }
   },
   "outputs": [],
   "source": [
    "# requires_gene_mapping = True\n",
    "requires_gene_mapping = False"
   ]
  },
  {
   "cell_type": "code",
   "execution_count": 48,
   "metadata": {
    "ExecuteTime": {
     "end_time": "2023-12-31T21:19:35.590695457Z",
     "start_time": "2023-12-31T21:19:35.536910836Z"
    }
   },
   "outputs": [],
   "source": [
    "if requires_gene_mapping:\n",
    "    gene_annotation = get_gene_annotation(soft_file)\n",
    "    gene_annotation_summary = preview_df(gene_annotation)\n",
    "    print(gene_annotation_summary)"
   ]
  },
  {
   "cell_type": "markdown",
   "metadata": {
    "ExecuteTime": {
     "end_time": "2023-12-31T03:58:04.978931927Z",
     "start_time": "2023-12-31T03:58:04.966328339Z"
    }
   },
   "source": [
    "Observe the first few cells in the ID column of the gene annotation dataframe, to find the names of columns that store the gene probe IDs and gene symbols respectively.\n",
    "Reference prompt:"
   ]
  },
  {
   "cell_type": "code",
   "execution_count": 49,
   "metadata": {
    "ExecuteTime": {
     "end_time": "2023-12-31T21:19:35.590742236Z",
     "start_time": "2023-12-31T21:19:35.537050893Z"
    }
   },
   "outputs": [
    {
     "ename": "NameError",
     "evalue": "name 'gene_annotation_summary' is not defined",
     "output_type": "error",
     "traceback": [
      "\u001b[0;31m---------------------------------------------------------------------------\u001b[0m",
      "\u001b[0;31mNameError\u001b[0m                                 Traceback (most recent call last)",
      "Cell \u001b[0;32mIn[49], line 8\u001b[0m\n\u001b[1;32m      1\u001b[0m \u001b[38;5;66;03m# if requires_gene_mapping:\u001b[39;00m\n\u001b[1;32m      2\u001b[0m \u001b[38;5;124mf\u001b[39m\u001b[38;5;124m'''\u001b[39m\n\u001b[1;32m      3\u001b[0m \u001b[38;5;124mAs a biomedical research team, we extracted the gene annotation data from a series in the GEO database, and saved it to a Python dictionary. Please read the dictionary, and decide which key stores the ID of the probe, and which key stores the gene symbols. Please strict follow this format in your answer:\u001b[39m\n\u001b[1;32m      4\u001b[0m \u001b[38;5;124mprobe_id_key = key_name1\u001b[39m\n\u001b[1;32m      5\u001b[0m \u001b[38;5;124mgene_symb_key = key_name2\u001b[39m\n\u001b[1;32m      6\u001b[0m \n\u001b[1;32m      7\u001b[0m \u001b[38;5;124mGene annotation dictionary:\u001b[39m\n\u001b[0;32m----> 8\u001b[0m \u001b[38;5;132;01m{\u001b[39;00mgene_annotation_summary\u001b[38;5;132;01m}\u001b[39;00m\n\u001b[1;32m      9\u001b[0m \u001b[38;5;124m'''\u001b[39m\n",
      "\u001b[0;31mNameError\u001b[0m: name 'gene_annotation_summary' is not defined"
     ]
    }
   ],
   "source": [
    "# if requires_gene_mapping:\n",
    "f'''\n",
    "As a biomedical research team, we extracted the gene annotation data from a series in the GEO database, and saved it to a Python dictionary. Please read the dictionary, and decide which key stores the ID of the probe, and which key stores the gene symbols. Please strict follow this format in your answer:\n",
    "probe_id_key = key_name1\n",
    "gene_symb_key = key_name2\n",
    "\n",
    "Gene annotation dictionary:\n",
    "{gene_annotation_summary}\n",
    "'''"
   ]
  },
  {
   "cell_type": "code",
   "execution_count": 23,
   "metadata": {
    "ExecuteTime": {
     "end_time": "2023-12-31T21:19:35.590786881Z",
     "start_time": "2023-12-31T21:19:35.537132859Z"
    }
   },
   "outputs": [],
   "source": [
    "if requires_gene_mapping:\n",
    "    probe_id_key = 'ID'\n",
    "    gene_symb_key = 'gene_assignment'\n",
    "    gene_mapping = get_gene_mapping(gene_annotation, probe_id_key, gene_symb_key)\n",
    "    genetic_data = apply_gene_mapping(genetic_data, gene_mapping)"
   ]
  },
  {
   "cell_type": "code",
   "execution_count": 50,
   "metadata": {
    "ExecuteTime": {
     "end_time": "2023-12-31T21:19:35.590837318Z",
     "start_time": "2023-12-31T21:19:35.537209586Z"
    }
   },
   "outputs": [
    {
     "name": "stderr",
     "output_type": "stream",
     "text": [
      "11 input query terms found no hit:\t['AMICA1', 'CD3EAP', 'CD97', 'DDX58', 'IL8', 'KIR_Activating_Subgroup_1', 'KIR_Activating_Subgroup_2\n"
     ]
    }
   ],
   "source": [
    "if NORMALIZE_GENE:\n",
    "    genetic_data = normalize_gene_symbols_in_index(genetic_data)"
   ]
  },
  {
   "cell_type": "code",
   "execution_count": 51,
   "metadata": {
    "ExecuteTime": {
     "end_time": "2023-12-31T21:19:35.590902191Z",
     "start_time": "2023-12-31T21:19:35.537285901Z"
    }
   },
   "outputs": [],
   "source": [
    "merged_data = geo_merge_clinical_genetic_data(selected_clinical_data, genetic_data)\n",
    "# The preprocessing runs through, which means is_available should be True\n",
    "is_available = True"
   ]
  },
  {
   "cell_type": "code",
   "execution_count": 52,
   "metadata": {
    "ExecuteTime": {
     "end_time": "2023-12-31T21:19:35.591095170Z",
     "start_time": "2023-12-31T21:19:35.538708445Z"
    }
   },
   "outputs": [
    {
     "name": "stdout",
     "output_type": "stream",
     "text": [
      "The merged dataset contains 24 samples.\n"
     ]
    }
   ],
   "source": [
    "print(f\"The merged dataset contains {len(merged_data)} samples.\")"
   ]
  },
  {
   "cell_type": "code",
   "execution_count": 53,
   "metadata": {
    "ExecuteTime": {
     "end_time": "2023-12-31T21:19:35.610849182Z",
     "start_time": "2023-12-31T21:19:35.541210258Z"
    }
   },
   "outputs": [
    {
     "name": "stdout",
     "output_type": "stream",
     "text": [
      "For the feature 'Pancreatic Cancer', the least common label is '0.0' with 8 occurrences. This represents 33.33% of the dataset.\n",
      "The distribution of the feature 'Pancreatic Cancer' in this dataset is fine.\n",
      "\n",
      "Quartiles for 'Age':\n",
      "  25%: 55.0\n",
      "  50% (Median): 63.5\n",
      "  75%: 71.25\n",
      "Min: 43.0\n",
      "Max: 89.0\n",
      "The distribution of the feature 'Age' in this dataset is fine.\n",
      "\n",
      "For the feature 'Gender', the least common label is '0.0' with 10 occurrences. This represents 41.67% of the dataset.\n",
      "The distribution of the feature 'Gender' in this dataset is fine.\n",
      "\n"
     ]
    },
    {
     "data": {
      "text/plain": [
       "False"
      ]
     },
     "execution_count": 53,
     "metadata": {},
     "output_type": "execute_result"
    }
   ],
   "source": [
    "is_trait_biased, merged_data = judge_and_remove_biased_features(merged_data, TRAIT, trait_type=trait_type)\n",
    "is_trait_biased"
   ]
  },
  {
   "cell_type": "code",
   "execution_count": 54,
   "metadata": {
    "ExecuteTime": {
     "end_time": "2023-12-31T21:19:35.610923234Z",
     "start_time": "2023-12-31T21:19:35.584848473Z"
    }
   },
   "outputs": [],
   "source": [
    "save_cohort_info(cohort, JSON_PATH, is_available, is_trait_biased, merged_data)"
   ]
  },
  {
   "cell_type": "code",
   "execution_count": 55,
   "metadata": {
    "ExecuteTime": {
     "end_time": "2023-12-31T21:19:35.610970734Z",
     "start_time": "2023-12-31T21:19:35.585042694Z"
    }
   },
   "outputs": [],
   "source": [
    "merged_data.head()\n",
    "if not is_trait_biased:\n",
    "    merged_data.to_csv(os.path.join(OUTPUT_DIR, cohort+'.csv'), index=False)"
   ]
  },
  {
   "cell_type": "markdown",
   "metadata": {
    "ExecuteTime": {
     "end_time": "2023-12-31T03:58:22.271683755Z",
     "start_time": "2023-12-31T03:58:22.246557674Z"
    },
    "id": "-MTPhRGxJV7I"
   },
   "source": [
    "### 3. Do regression & Cross Validation"
   ]
  },
  {
   "cell_type": "code",
   "execution_count": 9,
   "metadata": {
    "ExecuteTime": {
     "end_time": "2023-12-31T21:19:44.459442087Z",
     "start_time": "2023-12-31T21:19:44.416219648Z"
    }
   },
   "outputs": [
    {
     "data": {
      "text/html": [
       "<div>\n",
       "<style scoped>\n",
       "    .dataframe tbody tr th:only-of-type {\n",
       "        vertical-align: middle;\n",
       "    }\n",
       "\n",
       "    .dataframe tbody tr th {\n",
       "        vertical-align: top;\n",
       "    }\n",
       "\n",
       "    .dataframe thead th {\n",
       "        text-align: right;\n",
       "    }\n",
       "</style>\n",
       "<table border=\"1\" class=\"dataframe\">\n",
       "  <thead>\n",
       "    <tr style=\"text-align: right;\">\n",
       "      <th></th>\n",
       "      <th>cohort_id</th>\n",
       "      <th>is_usable</th>\n",
       "      <th>is_available</th>\n",
       "      <th>is_biased</th>\n",
       "      <th>has_age</th>\n",
       "      <th>has_gender</th>\n",
       "      <th>sample_size</th>\n",
       "      <th>note</th>\n",
       "    </tr>\n",
       "  </thead>\n",
       "  <tbody>\n",
       "    <tr>\n",
       "      <th>1</th>\n",
       "      <td>GSE236951</td>\n",
       "      <td>True</td>\n",
       "      <td>True</td>\n",
       "      <td>False</td>\n",
       "      <td>True</td>\n",
       "      <td>True</td>\n",
       "      <td>24.0</td>\n",
       "      <td></td>\n",
       "    </tr>\n",
       "  </tbody>\n",
       "</table>\n",
       "</div>"
      ],
      "text/plain": [
       "   cohort_id  is_usable  is_available is_biased has_age has_gender  \\\n",
       "1  GSE236951       True          True     False    True       True   \n",
       "\n",
       "   sample_size note  \n",
       "1         24.0       "
      ]
     },
     "execution_count": 9,
     "metadata": {},
     "output_type": "execute_result"
    }
   ],
   "source": [
    "# Check the information of usable cohorts\n",
    "best_cohort, ranked_df = filter_and_rank_cohorts(JSON_PATH)\n",
    "ranked_df"
   ]
  },
  {
   "cell_type": "code",
   "execution_count": 10,
   "metadata": {
    "ExecuteTime": {
     "end_time": "2023-12-31T21:19:44.808945960Z",
     "start_time": "2023-12-31T21:19:44.799467072Z"
    }
   },
   "outputs": [
    {
     "data": {
      "text/plain": [
       "'GSE236951'"
      ]
     },
     "execution_count": 10,
     "metadata": {},
     "output_type": "execute_result"
    }
   ],
   "source": [
    "# If both age and gender have available cohorts, select 'age' as the condition.\n",
    "condition = 'Age'\n",
    "filter_column = 'has_' + condition.lower()\n",
    "\n",
    "condition_best_cohort, condition_ranked_df = filter_and_rank_cohorts(JSON_PATH, filter_column)\n",
    "condition_best_cohort"
   ]
  },
  {
   "cell_type": "code",
   "execution_count": 11,
   "metadata": {
    "ExecuteTime": {
     "end_time": "2023-12-31T21:19:52.222719978Z",
     "start_time": "2023-12-31T21:19:45.162873006Z"
    }
   },
   "outputs": [
    {
     "data": {
      "text/html": [
       "<div>\n",
       "<style scoped>\n",
       "    .dataframe tbody tr th:only-of-type {\n",
       "        vertical-align: middle;\n",
       "    }\n",
       "\n",
       "    .dataframe tbody tr th {\n",
       "        vertical-align: top;\n",
       "    }\n",
       "\n",
       "    .dataframe thead th {\n",
       "        text-align: right;\n",
       "    }\n",
       "</style>\n",
       "<table border=\"1\" class=\"dataframe\">\n",
       "  <thead>\n",
       "    <tr style=\"text-align: right;\">\n",
       "      <th></th>\n",
       "      <th>cohort_id</th>\n",
       "      <th>is_usable</th>\n",
       "      <th>is_available</th>\n",
       "      <th>is_biased</th>\n",
       "      <th>has_age</th>\n",
       "      <th>has_gender</th>\n",
       "      <th>sample_size</th>\n",
       "      <th>note</th>\n",
       "    </tr>\n",
       "  </thead>\n",
       "  <tbody>\n",
       "    <tr>\n",
       "      <th>1</th>\n",
       "      <td>GSE236951</td>\n",
       "      <td>True</td>\n",
       "      <td>True</td>\n",
       "      <td>False</td>\n",
       "      <td>True</td>\n",
       "      <td>True</td>\n",
       "      <td>24.0</td>\n",
       "      <td></td>\n",
       "    </tr>\n",
       "  </tbody>\n",
       "</table>\n",
       "</div>"
      ],
      "text/plain": [
       "   cohort_id  is_usable  is_available is_biased has_age has_gender  \\\n",
       "1  GSE236951       True          True     False    True       True   \n",
       "\n",
       "   sample_size note  \n",
       "1         24.0       "
      ]
     },
     "execution_count": 11,
     "metadata": {},
     "output_type": "execute_result"
    }
   ],
   "source": [
    "condition_ranked_df.head()"
   ]
  },
  {
   "cell_type": "code",
   "execution_count": 12,
   "metadata": {
    "ExecuteTime": {
     "end_time": "2023-12-31T21:19:52.234945878Z",
     "start_time": "2023-12-31T21:19:52.231604618Z"
    }
   },
   "outputs": [
    {
     "data": {
      "text/html": [
       "<div>\n",
       "<style scoped>\n",
       "    .dataframe tbody tr th:only-of-type {\n",
       "        vertical-align: middle;\n",
       "    }\n",
       "\n",
       "    .dataframe tbody tr th {\n",
       "        vertical-align: top;\n",
       "    }\n",
       "\n",
       "    .dataframe thead th {\n",
       "        text-align: right;\n",
       "    }\n",
       "</style>\n",
       "<table border=\"1\" class=\"dataframe\">\n",
       "  <thead>\n",
       "    <tr style=\"text-align: right;\">\n",
       "      <th></th>\n",
       "      <th>Pancreatic Cancer</th>\n",
       "      <th>Age</th>\n",
       "      <th>Gender</th>\n",
       "      <th>A2M</th>\n",
       "      <th>ABCB1</th>\n",
       "      <th>ABL1</th>\n",
       "      <th>ADA</th>\n",
       "      <th>ADORA2A</th>\n",
       "      <th>AICDA</th>\n",
       "      <th>AIRE</th>\n",
       "      <th>...</th>\n",
       "      <th>ULBP2</th>\n",
       "      <th>USP9Y</th>\n",
       "      <th>VCAM1</th>\n",
       "      <th>VEGFA</th>\n",
       "      <th>VEGFC</th>\n",
       "      <th>XCL2</th>\n",
       "      <th>XCR1</th>\n",
       "      <th>YTHDF2</th>\n",
       "      <th>ZAP70</th>\n",
       "      <th>ZNF205</th>\n",
       "    </tr>\n",
       "  </thead>\n",
       "  <tbody>\n",
       "    <tr>\n",
       "      <th>0</th>\n",
       "      <td>1.0</td>\n",
       "      <td>83.0</td>\n",
       "      <td>1.0</td>\n",
       "      <td>13.071117</td>\n",
       "      <td>9.946163</td>\n",
       "      <td>10.345667</td>\n",
       "      <td>9.222631</td>\n",
       "      <td>8.779165</td>\n",
       "      <td>8.143064</td>\n",
       "      <td>7.918190</td>\n",
       "      <td>...</td>\n",
       "      <td>7.969416</td>\n",
       "      <td>8.113007</td>\n",
       "      <td>10.768961</td>\n",
       "      <td>10.652329</td>\n",
       "      <td>7.781556</td>\n",
       "      <td>8.233149</td>\n",
       "      <td>7.571057</td>\n",
       "      <td>10.588228</td>\n",
       "      <td>10.051936</td>\n",
       "      <td>6.187007</td>\n",
       "    </tr>\n",
       "    <tr>\n",
       "      <th>1</th>\n",
       "      <td>1.0</td>\n",
       "      <td>64.0</td>\n",
       "      <td>1.0</td>\n",
       "      <td>13.515604</td>\n",
       "      <td>10.543342</td>\n",
       "      <td>10.548967</td>\n",
       "      <td>8.920553</td>\n",
       "      <td>8.688000</td>\n",
       "      <td>5.733167</td>\n",
       "      <td>8.585001</td>\n",
       "      <td>...</td>\n",
       "      <td>9.242047</td>\n",
       "      <td>8.604038</td>\n",
       "      <td>10.790676</td>\n",
       "      <td>10.306554</td>\n",
       "      <td>8.849404</td>\n",
       "      <td>9.474079</td>\n",
       "      <td>8.601334</td>\n",
       "      <td>10.401323</td>\n",
       "      <td>9.761300</td>\n",
       "      <td>6.682893</td>\n",
       "    </tr>\n",
       "    <tr>\n",
       "      <th>2</th>\n",
       "      <td>1.0</td>\n",
       "      <td>59.0</td>\n",
       "      <td>1.0</td>\n",
       "      <td>13.288653</td>\n",
       "      <td>9.608472</td>\n",
       "      <td>10.405202</td>\n",
       "      <td>9.116346</td>\n",
       "      <td>8.618606</td>\n",
       "      <td>7.618606</td>\n",
       "      <td>7.394289</td>\n",
       "      <td>...</td>\n",
       "      <td>5.434181</td>\n",
       "      <td>8.732306</td>\n",
       "      <td>11.873200</td>\n",
       "      <td>10.088492</td>\n",
       "      <td>8.271207</td>\n",
       "      <td>8.148677</td>\n",
       "      <td>6.965705</td>\n",
       "      <td>10.495958</td>\n",
       "      <td>10.757420</td>\n",
       "      <td>6.176384</td>\n",
       "    </tr>\n",
       "    <tr>\n",
       "      <th>3</th>\n",
       "      <td>1.0</td>\n",
       "      <td>64.0</td>\n",
       "      <td>1.0</td>\n",
       "      <td>13.801596</td>\n",
       "      <td>10.066367</td>\n",
       "      <td>10.278806</td>\n",
       "      <td>9.124335</td>\n",
       "      <td>8.287657</td>\n",
       "      <td>6.911790</td>\n",
       "      <td>5.911790</td>\n",
       "      <td>...</td>\n",
       "      <td>3.393942</td>\n",
       "      <td>8.296454</td>\n",
       "      <td>11.590041</td>\n",
       "      <td>9.756284</td>\n",
       "      <td>8.722413</td>\n",
       "      <td>8.728926</td>\n",
       "      <td>7.722413</td>\n",
       "      <td>10.608702</td>\n",
       "      <td>10.853373</td>\n",
       "      <td>6.360775</td>\n",
       "    </tr>\n",
       "    <tr>\n",
       "      <th>4</th>\n",
       "      <td>1.0</td>\n",
       "      <td>72.0</td>\n",
       "      <td>0.0</td>\n",
       "      <td>13.154276</td>\n",
       "      <td>12.152271</td>\n",
       "      <td>10.252386</td>\n",
       "      <td>8.191202</td>\n",
       "      <td>7.185985</td>\n",
       "      <td>5.536892</td>\n",
       "      <td>5.286914</td>\n",
       "      <td>...</td>\n",
       "      <td>5.721316</td>\n",
       "      <td>3.884815</td>\n",
       "      <td>9.185985</td>\n",
       "      <td>10.857180</td>\n",
       "      <td>8.031657</td>\n",
       "      <td>7.520404</td>\n",
       "      <td>5.777900</td>\n",
       "      <td>10.267285</td>\n",
       "      <td>8.282031</td>\n",
       "      <td>6.435012</td>\n",
       "    </tr>\n",
       "  </tbody>\n",
       "</table>\n",
       "<p>5 rows × 722 columns</p>\n",
       "</div>"
      ],
      "text/plain": [
       "   Pancreatic Cancer   Age  Gender        A2M      ABCB1       ABL1       ADA  \\\n",
       "0                1.0  83.0     1.0  13.071117   9.946163  10.345667  9.222631   \n",
       "1                1.0  64.0     1.0  13.515604  10.543342  10.548967  8.920553   \n",
       "2                1.0  59.0     1.0  13.288653   9.608472  10.405202  9.116346   \n",
       "3                1.0  64.0     1.0  13.801596  10.066367  10.278806  9.124335   \n",
       "4                1.0  72.0     0.0  13.154276  12.152271  10.252386  8.191202   \n",
       "\n",
       "    ADORA2A     AICDA      AIRE  ...     ULBP2     USP9Y      VCAM1  \\\n",
       "0  8.779165  8.143064  7.918190  ...  7.969416  8.113007  10.768961   \n",
       "1  8.688000  5.733167  8.585001  ...  9.242047  8.604038  10.790676   \n",
       "2  8.618606  7.618606  7.394289  ...  5.434181  8.732306  11.873200   \n",
       "3  8.287657  6.911790  5.911790  ...  3.393942  8.296454  11.590041   \n",
       "4  7.185985  5.536892  5.286914  ...  5.721316  3.884815   9.185985   \n",
       "\n",
       "       VEGFA     VEGFC      XCL2      XCR1     YTHDF2      ZAP70    ZNF205  \n",
       "0  10.652329  7.781556  8.233149  7.571057  10.588228  10.051936  6.187007  \n",
       "1  10.306554  8.849404  9.474079  8.601334  10.401323   9.761300  6.682893  \n",
       "2  10.088492  8.271207  8.148677  6.965705  10.495958  10.757420  6.176384  \n",
       "3   9.756284  8.722413  8.728926  7.722413  10.608702  10.853373  6.360775  \n",
       "4  10.857180  8.031657  7.520404  5.777900  10.267285   8.282031  6.435012  \n",
       "\n",
       "[5 rows x 722 columns]"
      ]
     },
     "execution_count": 12,
     "metadata": {},
     "output_type": "execute_result"
    }
   ],
   "source": [
    "merged_data = pd.read_csv(os.path.join(OUTPUT_DIR, condition_best_cohort + '.csv'))\n",
    "merged_data.head()"
   ]
  },
  {
   "cell_type": "code",
   "execution_count": 13,
   "metadata": {
    "ExecuteTime": {
     "end_time": "2023-12-31T21:19:52.312540150Z",
     "start_time": "2023-12-31T21:19:52.235772334Z"
    }
   },
   "outputs": [],
   "source": [
    "# Remove the other condition to prevent interference.\n",
    "merged_data = merged_data.drop(columns=['Gender'], errors='ignore').astype('float')\n",
    "\n",
    "X = merged_data.drop(columns=[TRAIT, condition]).values\n",
    "Y = merged_data[TRAIT].values\n",
    "Z = merged_data[condition].values"
   ]
  },
  {
   "cell_type": "markdown",
   "metadata": {},
   "source": [
    "Select the appropriate regression model depending on whether the dataset shows batch effect."
   ]
  },
  {
   "cell_type": "code",
   "execution_count": 14,
   "metadata": {
    "ExecuteTime": {
     "end_time": "2023-12-31T21:20:00.930840782Z",
     "start_time": "2023-12-31T21:19:52.319092572Z"
    }
   },
   "outputs": [
    {
     "data": {
      "text/plain": [
       "True"
      ]
     },
     "execution_count": 14,
     "metadata": {},
     "output_type": "execute_result"
    }
   ],
   "source": [
    "has_batch_effect = detect_batch_effect(X)\n",
    "has_batch_effect"
   ]
  },
  {
   "cell_type": "code",
   "execution_count": 15,
   "metadata": {
    "ExecuteTime": {
     "end_time": "2023-12-31T21:20:00.931029722Z",
     "start_time": "2023-12-31T21:20:00.929710828Z"
    }
   },
   "outputs": [],
   "source": [
    "# Select appropriate models based on whether the dataset has batch effect.\n",
    "# We experiment on two models for each branch. We will decide which one to choose later.\n",
    "\n",
    "if has_batch_effect:\n",
    "    model_constructor1 = VariableSelection\n",
    "    model_params1 = {'modified': True, 'lamda': 3e-4}\n",
    "    model_constructor2 = VariableSelection\n",
    "    model_params2 = {'modified': False}\n",
    "else:\n",
    "    model_constructor1 = Lasso\n",
    "    model_params1 = {'alpha': 1.0, 'random_state': 42}\n",
    "    model_constructor2 = VariableSelection\n",
    "    model_params2 = {'modified': False}"
   ]
  },
  {
   "cell_type": "code",
   "execution_count": 16,
   "metadata": {
    "ExecuteTime": {
     "end_time": "2023-12-31T21:20:20.709459824Z",
     "start_time": "2023-12-31T21:20:00.931657949Z"
    }
   },
   "outputs": [
    {
     "name": "stdout",
     "output_type": "stream",
     "text": [
      "alpha for Lasso: 0.0003\n",
      "alpha for Lasso: 0.0003\n",
      "alpha for Lasso: 0.0003\n",
      "alpha for Lasso: 0.0003\n",
      "alpha for Lasso: 0.0003\n",
      "The cross-validation accuracy is 50.00% ± 15.81%\n"
     ]
    }
   ],
   "source": [
    "trait_type = 'binary'  # Remember to set this properly, either 'binary' or 'continuous'\n",
    "cv_mean1, cv_std1 = cross_validation(X, Y, Z, model_constructor1, model_params1, target_type=trait_type)"
   ]
  },
  {
   "cell_type": "code",
   "execution_count": 17,
   "metadata": {
    "ExecuteTime": {
     "end_time": "2023-12-31T21:20:24.980870159Z",
     "start_time": "2023-12-31T21:20:20.516710807Z"
    }
   },
   "outputs": [
    {
     "name": "stdout",
     "output_type": "stream",
     "text": [
      "The cross-validation accuracy is 75.00% ± 27.39%\n"
     ]
    }
   ],
   "source": [
    "cv_mean2, cv_std2 = cross_validation(X, Y, Z, model_constructor2, model_params2, target_type=trait_type)"
   ]
  },
  {
   "cell_type": "code",
   "execution_count": 19,
   "metadata": {},
   "outputs": [
    {
     "name": "stdout",
     "output_type": "stream",
     "text": [
      "alpha for Lasso: 0.0003\n"
     ]
    }
   ],
   "source": [
    "normalized_X, _ = normalize_data(X)\n",
    "normalized_Z, _ = normalize_data(Z)\n",
    "\n",
    "# Train regression model on the whole dataset to identify significant genes\n",
    "model1 = ResidualizationRegressor(model_constructor1, model_params1)\n",
    "model1.fit(normalized_X, Y, normalized_Z)\n",
    "\n",
    "model2 = ResidualizationRegressor(model_constructor2, model_params2)\n",
    "model2.fit(normalized_X, Y, normalized_Z)"
   ]
  },
  {
   "cell_type": "markdown",
   "metadata": {
    "ExecuteTime": {
     "end_time": "2023-10-14T04:50:59.072075075Z",
     "start_time": "2023-10-14T04:50:38.739499998Z"
    },
    "id": "EjJrxbvb4nlj"
   },
   "source": [
    "### 4. Discussion and report"
   ]
  },
  {
   "cell_type": "code",
   "execution_count": 20,
   "metadata": {
    "ExecuteTime": {
     "end_time": "2023-12-31T21:20:25.000830410Z",
     "start_time": "2023-12-31T21:20:24.982834541Z"
    }
   },
   "outputs": [
    {
     "name": "stdout",
     "output_type": "stream",
     "text": [
      "Effect of the condition on the target variable:\n",
      "Variable: Age\n",
      "Coefficient: 0.2674\n",
      "Found 23 genes with non-zero coefficients associated with the trait 'Pancreatic Cancer' conditional on the factor 'Age'. These genes are identified as significant based on the regression model.\n",
      "Variable  Coefficient  Absolute Coefficient\n",
      "    CCL5    -2.651168              2.651168\n",
      "   TIGIT    -2.213783              2.213783\n",
      "   C4BPA     2.043835              2.043835\n",
      "    SPP1     1.620884              1.620884\n",
      " S100A12     1.313537              1.313537\n",
      "    CD1B    -1.212615              1.212615\n",
      "   IKBKE    -1.170780              1.170780\n",
      "  CD40LG    -0.905088              0.905088\n",
      "     ENG     0.866214              0.866214\n",
      "  LILRA4    -0.839419              0.839419\n",
      "   IL17B     0.744181              0.744181\n",
      "   ICAM1    -0.674650              0.674650\n",
      "    IRF7    -0.577229              0.577229\n",
      "  IL18R1    -0.485028              0.485028\n",
      "   IFIT2    -0.405250              0.405250\n",
      "   CXCL2    -0.392125              0.392125\n",
      "    CD28    -0.184541              0.184541\n",
      "   ITGA5     0.162118              0.162118\n",
      "     TNF    -0.147513              0.147513\n",
      "   PASD1     0.062023              0.062023\n",
      "    CCR5    -0.050194              0.050194\n",
      "    SAA1    -0.037579              0.037579\n",
      "   F13A1    -0.034730              0.034730\n"
     ]
    },
    {
     "name": "stderr",
     "output_type": "stream",
     "text": [
      "/Users/ollie/Documents/JupyterProjects/AI4Science_gold_standard/stage1/Jinglin/utils.py:469: SettingWithCopyWarning: \n",
      "A value is trying to be set on a copy of a slice from a DataFrame.\n",
      "Try using .loc[row_indexer,col_indexer] = value instead\n",
      "\n",
      "See the caveats in the documentation: https://pandas.pydata.org/pandas-docs/stable/user_guide/indexing.html#returning-a-view-versus-a-copy\n",
      "  gene_regression_df['Absolute Coefficient'] = gene_regression_df['Coefficient'].abs()\n"
     ]
    }
   ],
   "source": [
    "feature_cols = merged_data.columns.tolist()\n",
    "feature_cols.remove(TRAIT)\n",
    "\n",
    "threshold = 0.05\n",
    "interpret_result(model1, feature_cols, TRAIT, condition, threshold=threshold, save_output=True,\n",
    "                 output_dir=OUTPUT_DIR, model_id=1)"
   ]
  },
  {
   "cell_type": "code",
   "execution_count": 21,
   "metadata": {},
   "outputs": [
    {
     "name": "stdout",
     "output_type": "stream",
     "text": [
      "Effect of the condition on the target variable:\n",
      "Variable: Age\n",
      "Coefficient: 0.2674\n",
      "Found 0 significant genes associated with the trait 'Pancreatic Cancer' conditional on the factor 'Age', with corrected p-value < 0.05:\n",
      "Empty DataFrame\n",
      "Columns: [Variable, Coefficient, p_value, corrected_p_value]\n",
      "Index: []\n"
     ]
    },
    {
     "name": "stderr",
     "output_type": "stream",
     "text": [
      "/Users/ollie/Documents/JupyterProjects/AI4Science_gold_standard/stage1/Jinglin/utils.py:478: SettingWithCopyWarning: \n",
      "A value is trying to be set on a copy of a slice from a DataFrame.\n",
      "Try using .loc[row_indexer,col_indexer] = value instead\n",
      "\n",
      "See the caveats in the documentation: https://pandas.pydata.org/pandas-docs/stable/user_guide/indexing.html#returning-a-view-versus-a-copy\n",
      "  gene_regression_df.loc[:, 'corrected_p_value'] = corrected_p_values\n"
     ]
    }
   ],
   "source": [
    "interpret_result(model2, feature_cols, TRAIT, condition, threshold=threshold, save_output=True,\n",
    "                 output_dir=OUTPUT_DIR, model_id=2)"
   ]
  },
  {
   "cell_type": "code",
   "execution_count": null,
   "metadata": {},
   "outputs": [],
   "source": []
  }
 ],
 "metadata": {
  "colab": {
   "provenance": []
  },
  "kernelspec": {
   "display_name": "Python 3 (ipykernel)",
   "language": "python",
   "name": "python3"
  },
  "language_info": {
   "codemirror_mode": {
    "name": "ipython",
    "version": 3
   },
   "file_extension": ".py",
   "mimetype": "text/x-python",
   "name": "python",
   "nbconvert_exporter": "python",
   "pygments_lexer": "ipython3",
   "version": "3.11.5"
  }
 },
 "nbformat": 4,
 "nbformat_minor": 1
}
