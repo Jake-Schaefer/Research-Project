{
 "cells": [
  {
   "cell_type": "markdown",
   "metadata": {
    "collapsed": false
   },
   "source": [
    "# Gold standard curation: Preprocessing and single-step regression"
   ]
  },
  {
   "cell_type": "markdown",
   "metadata": {
    "collapsed": false
   },
   "source": [
    "In this stage of gold standard curation, we will do the data preprocessing, selection, and single-step regression for the 153 traits in our question set. The workflow consists of the following steps:\n",
    "\n",
    "1. Preprocess all the cohorts related to this trait. Each cohort should be converted to a tabular form and saved to a csv file, with columns being genetic factors, the trait, and age, gender if available;\n",
    "2. If there exists at least one cohort with age or gender information, conduct regression analysis with genetic features together with age or gender as the regressors.\n"
   ]
  },
  {
   "cell_type": "markdown",
   "metadata": {
    "collapsed": false
   },
   "source": [
    "# 1. Basic setup"
   ]
  },
  {
   "cell_type": "code",
   "execution_count": 1,
   "metadata": {},
   "outputs": [
    {
     "name": "stdout",
     "output_type": "stream",
     "text": [
      "utils.py has been loaded\n"
     ]
    }
   ],
   "source": [
    "import os\n",
    "import io\n",
    "import pandas as pd\n",
    "import gzip\n",
    "import mygene\n",
    "import re\n",
    "import tempfile\n",
    "import shutil\n",
    "\n",
    "import seaborn as sns\n",
    "import matplotlib.pyplot as plt\n",
    "import numpy as np\n",
    "import json\n",
    "from typing import Callable, Optional, List, Tuple, Union, Any\n",
    "from sklearn.linear_model import LinearRegression, Lasso, LogisticRegression\n",
    "from sparse_lmm import VariableSelection\n",
    "from statsmodels.stats.multitest import multipletests\n",
    "from sklearn.metrics import accuracy_score, mean_squared_error\n",
    "\n",
    "print(\"utils.py has been loaded\")\n",
    "def geo_get_relevant_filepaths(cohort_dir):\n",
    "    \"\"\"Find the file paths of a SOFT file and a matrix file from the given data directory of a cohort.\n",
    "    If there are multiple SOFT files or matrix files, simply choose the first one. Used for the GEO dataset.\n",
    "    \"\"\"\n",
    "    files = os.listdir(cohort_dir)\n",
    "    soft_files = [f for f in files if 'soft' in f.lower()]\n",
    "    matrix_files = [f for f in files if 'matrix' in f.lower()]\n",
    "    assert len(soft_files) > 0 and len(matrix_files) > 0\n",
    "    soft_file_path = os.path.join(cohort_dir, soft_files[0])\n",
    "    matrix_file_path = os.path.join(cohort_dir, matrix_files[0])\n",
    "\n",
    "    return soft_file_path, matrix_file_path\n",
    "\n",
    "\n",
    "def xena_get_relevant_filepaths(cohort_dir):\n",
    "    \"\"\"Find the file paths of a clinical file and a genetic file from the given data directory of a cohort.\n",
    "    If there are multiple clinical or genetic data files, simply choose the first one. Used for the TCGA Xena dataset.\n",
    "    \"\"\"\n",
    "    files = os.listdir(cohort_dir)\n",
    "    clinical_files = [f for f in files if 'clinicalmatrix' in f.lower()]\n",
    "    genetic_files = [f for f in files if 'pancan' in f.lower()]\n",
    "    clinical_file_path = os.path.join(cohort_dir, clinical_files[0])\n",
    "    genetic_file_path = os.path.join(cohort_dir, genetic_files[0])\n",
    "    return clinical_file_path, genetic_file_path\n",
    "\n",
    "def line_generator(source, source_type):\n",
    "    \"\"\"Generator that yields lines from a file or a string.\n",
    "\n",
    "    Parameters:\n",
    "    - source: File path or string content.\n",
    "    - source_type: 'file' or 'string'.\n",
    "    \"\"\"\n",
    "    if source_type == 'file':\n",
    "        with gzip.open(source, 'rt') as f:\n",
    "            for line in f:\n",
    "                yield line.strip()\n",
    "    elif source_type == 'string':\n",
    "        for line in source.split('\\n'):\n",
    "            yield line.strip()\n",
    "    else:\n",
    "        raise ValueError(\"source_type must be 'file' or 'string'\")\n",
    "\n",
    "\n",
    "def filter_content_by_prefix(\n",
    "    source: str,\n",
    "    prefixes_a: List[str],\n",
    "    prefixes_b: Optional[List[str]] = None,\n",
    "    unselect: bool = False,\n",
    "    source_type: str = 'file',\n",
    "    return_df_a: bool = True,\n",
    "    return_df_b: bool = True\n",
    ") -> Tuple[Union[str, pd.DataFrame], Optional[Union[str, pd.DataFrame]]]:\n",
    "    \"\"\"\n",
    "    Filters rows from a file or a list of strings based on specified prefixes.\n",
    "\n",
    "    Parameters:\n",
    "    - source (str): File path or string content to filter.\n",
    "    - prefixes_a (List[str]): Primary list of prefixes to filter by.\n",
    "    - prefixes_b (Optional[List[str]]): Optional secondary list of prefixes to filter by.\n",
    "    - unselect (bool): If True, selects rows that do not start with the specified prefixes.\n",
    "    - source_type (str): 'file' if source is a file path, 'string' if source is a string of text.\n",
    "    - return_df_a (bool): If True, returns filtered content for prefixes_a as a pandas DataFrame.\n",
    "    - return_df_b (bool): If True, and if prefixes_b is provided, returns filtered content for prefixes_b as a pandas DataFrame.\n",
    "\n",
    "    Returns:\n",
    "    - Tuple: A tuple where the first element is the filtered content for prefixes_a, and the second element is the filtered content for prefixes_b.\n",
    "    \"\"\"\n",
    "    filtered_lines_a = []\n",
    "    filtered_lines_b = []\n",
    "    prefix_set_a = set(prefixes_a)\n",
    "    if prefixes_b is not None:\n",
    "        prefix_set_b = set(prefixes_b)\n",
    "\n",
    "    # Use generator to get lines\n",
    "    for line in line_generator(source, source_type):\n",
    "        matched_a = any(line.startswith(prefix) for prefix in prefix_set_a)\n",
    "        if matched_a != unselect:\n",
    "            filtered_lines_a.append(line)\n",
    "        if prefixes_b is not None:\n",
    "            matched_b = any(line.startswith(prefix) for prefix in prefix_set_b)\n",
    "            if matched_b != unselect:\n",
    "                filtered_lines_b.append(line)\n",
    "\n",
    "    filtered_content_a = '\\n'.join(filtered_lines_a)\n",
    "    if return_df_a:\n",
    "        filtered_content_a = pd.read_csv(io.StringIO(filtered_content_a), delimiter='\\t', low_memory=False, on_bad_lines='skip')\n",
    "    filtered_content_b = None\n",
    "    if filtered_lines_b:\n",
    "        filtered_content_b = '\\n'.join(filtered_lines_b)\n",
    "        if return_df_b:\n",
    "            filtered_content_b = pd.read_csv(io.StringIO(filtered_content_b), delimiter='\\t', low_memory=False, on_bad_lines='skip')\n",
    "\n",
    "    return filtered_content_a, filtered_content_b\n",
    "\n",
    "\n",
    "def get_background_and_clinical_data(file_path,\n",
    "                                     prefixes_a=['!Series_title', '!Series_summary', '!Series_overall_design'],\n",
    "                                     prefixes_b=['!Sample_geo_accession', '!Sample_characteristics_ch1']):\n",
    "    \"\"\"Extract from a matrix file the background information about the dataset, and sample characteristics data\"\"\"\n",
    "    background_info, clinical_data = filter_content_by_prefix(file_path, prefixes_a, prefixes_b, unselect=False,\n",
    "                                                              source_type='file',\n",
    "                                                              return_df_a=False, return_df_b=True)\n",
    "    return background_info, clinical_data\n",
    "\n",
    "\n",
    "def get_gene_annotation(file_path, prefixes=['^', '!', '#']):\n",
    "    \"\"\"Extract from a SOFT file the gene annotation data\"\"\"\n",
    "    gene_metadata = filter_content_by_prefix(file_path, prefixes_a=prefixes, unselect=True, source_type='file',\n",
    "                                             return_df_a=True)\n",
    "    return gene_metadata[0]\n",
    "\n",
    "\n",
    "def get_gene_mapping(annotation, prob_col, gene_col):\n",
    "    \"\"\"Process the gene annotation to get the mapping between gene names and gene probes.\n",
    "    \"\"\"\n",
    "    mapping_data = annotation.loc[:, [prob_col, gene_col]]\n",
    "    mapping_data = mapping_data.dropna()\n",
    "    mapping_data = mapping_data.rename(columns={gene_col: 'Gene'}).astype({'ID': 'str'})\n",
    "\n",
    "    return mapping_data\n",
    "\n",
    "\n",
    "def get_genetic_data(file_path):\n",
    "    \"\"\"Read the gene expression data into a dataframe, and adjust its format\"\"\"\n",
    "    genetic_data = pd.read_csv(file_path, compression='gzip', skiprows=52, comment='!', delimiter='\\t')\n",
    "    genetic_data = genetic_data.dropna()\n",
    "    genetic_data = genetic_data.rename(columns={'ID_REF': 'ID'}).astype({'ID': 'str'})\n",
    "    genetic_data.set_index('ID', inplace=True)\n",
    "\n",
    "    return genetic_data\n",
    "\n",
    "\n",
    "def apply_gene_mapping(expression_df, mapping_df):\n",
    "    \"\"\"\n",
    "    Converts measured data about gene probes into gene expression data.\n",
    "    Handles the potential many-to-many relationship between probes and genes.\n",
    "\n",
    "    Parameters:\n",
    "    expression_df (DataFrame): A DataFrame with gene expression data, indexed by 'ID'.\n",
    "    mapping_df (DataFrame): A DataFrame mapping 'ID' to 'Gene', with 'ID' as a column.\n",
    "\n",
    "    Returns:\n",
    "    DataFrame: A DataFrame with mean gene expression values, indexed by 'Gene'.\n",
    "    \"\"\"\n",
    "\n",
    "    # Define a regex pattern for splitting gene names\n",
    "    split_pattern = r';|\\|+|/{2,}|,|\\[|\\]|\\(|\\)'\n",
    "\n",
    "    # Split the 'Gene' column in 'mapping_df' using the regex pattern\n",
    "    mapping_df['Gene'] = mapping_df['Gene'].str.split(split_pattern)\n",
    "    mapping_df = mapping_df.explode('Gene')\n",
    "\n",
    "    # Set 'ID' as the index of 'mapping_df' for merging\n",
    "    mapping_df.set_index('ID', inplace=True)\n",
    "\n",
    "    # Merge 'mapping_df' with 'expression_df' by their indices\n",
    "    merged_df = mapping_df.join(expression_df)\n",
    "\n",
    "    # Group by 'Gene' and calculate the mean expression values\n",
    "    gene_expression_df = merged_df.groupby('Gene').mean().dropna()\n",
    "\n",
    "    return gene_expression_df\n",
    "\n",
    "\n",
    "def normalize_gene_symbols(gene_symbols, batch_size=1000):\n",
    "    \"\"\"Normalize human gene symbols in batches using the 'mygenes' library\"\"\"\n",
    "    mg = mygene.MyGeneInfo()\n",
    "    normalized_genes = {}\n",
    "\n",
    "    # Process in batches\n",
    "    for i in range(0, len(gene_symbols), batch_size):\n",
    "        batch = gene_symbols[i:i + batch_size]\n",
    "        results = mg.querymany(batch, scopes='symbol', fields='symbol', species='human', verbose=False)\n",
    "\n",
    "        # Update the normalized_genes dictionary with results from this batch\n",
    "        for gene in results:\n",
    "            normalized_genes[gene['query']] = gene.get('symbol', None)\n",
    "\n",
    "    # Return the normalized symbols in the same order as the input\n",
    "    return [normalized_genes.get(symbol) for symbol in gene_symbols]\n",
    "\n",
    "\n",
    "def normalize_gene_symbols_in_index(gene_df):\n",
    "    \"\"\"Normalize the human gene symbols at the index of a dataframe, and replace the index with its normalized version.\n",
    "    Remove the rows where the index failed to be normalized.\"\"\"\n",
    "    normalized_gene_list = normalize_gene_symbols(gene_df.index.tolist())\n",
    "    assert len(normalized_gene_list) == len(gene_df.index)\n",
    "    gene_df.index = normalized_gene_list\n",
    "    gene_df = gene_df[gene_df.index.notnull()]\n",
    "    return gene_df\n",
    "\n",
    "\n",
    "def get_feature_data(clinical_df, row_id, feature, convert_fn):\n",
    "    \"\"\"select the row corresponding to a feature in the sample characteristics dataframe, and convert the feature into\n",
    "    a binary or continuous variable\"\"\"\n",
    "    clinical_df = clinical_df.iloc[row_id:row_id + 1].drop(columns=['!Sample_geo_accession'], errors='ignore')\n",
    "    clinical_df.index = [feature]\n",
    "    clinical_df = clinical_df.applymap(convert_fn)\n",
    "\n",
    "    return clinical_df\n",
    "\n",
    "\n",
    "def plot_numeric_distribution(df, column):\n",
    "    \"\"\"Plot the distribution of a numeric variable stored in the given column of a dataframe\"\"\"\n",
    "    plt.figure(figsize=(10, 6))\n",
    "    sns.histplot(df[column], kde=True, bins=30)\n",
    "    plt.title(f'Distribution of {column.capitalize()}')\n",
    "    plt.xlabel('')\n",
    "    plt.ylabel('Frequency')\n",
    "    plt.show()\n",
    "\n",
    "\n",
    "def plot_categorical_distribution(df, column):\n",
    "    \"\"\"Plot the distribution of a categorical variable stored in the given column of a dataframe\"\"\"\n",
    "    plt.figure(figsize=(10, 6))\n",
    "    sns.countplot(y=column, data=df, order=df[column].value_counts().index)\n",
    "    plt.title(f'Distribution of {column.capitalize()}')\n",
    "    plt.xlabel('Frequency')\n",
    "    plt.ylabel('')\n",
    "    plt.show()\n",
    "\n",
    "\n",
    "def analyze_distributions(df, numerical_columns, categorical_columns):\n",
    "    \"\"\"Plot the distribution of the numerical and categorical variables stored in given columns of a dataframe\"\"\"\n",
    "    for col in numerical_columns:\n",
    "        plot_numeric_distribution(df, col)\n",
    "\n",
    "    for col in categorical_columns:\n",
    "        plot_categorical_distribution(df, col)\n",
    "\n",
    "\n",
    "def normalize_data(X_train, X_test=None):\n",
    "    \"\"\"Compute the mean and standard deviation statistics of the training data, use them to normalize the training data,\n",
    "    and optionally the test data\"\"\"\n",
    "    mean = np.mean(X_train, axis=0)\n",
    "    std = np.std(X_train, axis=0)\n",
    "\n",
    "    # Handling columns with std = 0\n",
    "    std_no_zero = np.where(std == 0, 1, std)\n",
    "\n",
    "    # Normalize X_train\n",
    "    X_train_normalized = (X_train - mean) / std_no_zero\n",
    "    # Set normalized values to 0 where std was 0\n",
    "    X_train_normalized[:, std == 0] = 0\n",
    "\n",
    "    if X_test is not None:\n",
    "        X_test_normalized = (X_test - mean) / std_no_zero\n",
    "        X_test_normalized[:, std == 0] = 0\n",
    "    else:\n",
    "        X_test_normalized = None\n",
    "\n",
    "    return X_train_normalized, X_test_normalized\n",
    "\n",
    "\n",
    "class ResidualizationRegressor:\n",
    "    def __init__(self, regression_model_constructor, params=None):\n",
    "        if params is None:\n",
    "            params = {}\n",
    "        self.regression_model = regression_model_constructor(**params)\n",
    "        self.beta_Z = None  # Coefficients for regression of Y on Z\n",
    "        self.beta_X = None  # Coefficients for regression of residual on X\n",
    "        self.neg_log_p_values = None  # Negative logarithm of p-values\n",
    "        self.p_values = None  # Actual p-values\n",
    "\n",
    "    def _reshape_data(self, data):\n",
    "        \"\"\"\n",
    "        Reshape the data to ensure it's in the correct format (2D array).\n",
    "\n",
    "        :param data: The input data (can be 1D or 2D array).\n",
    "        :return: Reshaped 2D array.\n",
    "        \"\"\"\n",
    "        if data.ndim == 1:\n",
    "            return data.reshape(-1, 1)\n",
    "        return data\n",
    "\n",
    "    def _reshape_output(self, data):\n",
    "        \"\"\"\n",
    "        Reshape the output data to ensure it's in the correct format (1D array).\n",
    "\n",
    "        :param data: The output data (can be 1D or 2D array).\n",
    "        :return: Reshaped 1D array.\n",
    "        \"\"\"\n",
    "        if data.ndim == 2 and data.shape[1] == 1:\n",
    "            return data.ravel()\n",
    "        return data\n",
    "\n",
    "    def fit(self, X, Y, Z):\n",
    "        X = self._reshape_data(X)\n",
    "        Y = self._reshape_data(Y)\n",
    "        Z = self._reshape_data(Z)\n",
    "\n",
    "        # Step 1: Linear regression of Y on Z\n",
    "        Z_ones = np.column_stack((np.ones(Z.shape[0]), Z))\n",
    "        self.beta_Z = np.linalg.pinv(Z_ones.T @ Z_ones) @ Z_ones.T @ Y\n",
    "        Y_hat = Z_ones @ self.beta_Z\n",
    "        e_Y = Y - Y_hat  # Residual of Y\n",
    "\n",
    "        # Step 2: Regress the residual on X using the included regression model\n",
    "        self.regression_model.fit(X, e_Y)\n",
    "\n",
    "        # Obtain coefficients from the regression model\n",
    "        if hasattr(self.regression_model, 'coef_'):\n",
    "            self.beta_X = self.regression_model.coef_\n",
    "        elif hasattr(self.regression_model, 'getBeta'):\n",
    "            beta_output = self.regression_model.getBeta()\n",
    "            self.beta_X = self._reshape_output(beta_output)\n",
    "\n",
    "        # Obtain negative logarithm of p-values, if available\n",
    "        if hasattr(self.regression_model, 'getNegLogP'):\n",
    "            neg_log_p_output = self.regression_model.getNegLogP()\n",
    "            if neg_log_p_output is not None:\n",
    "                self.neg_log_p_values = self._reshape_output(neg_log_p_output)\n",
    "                self.p_values = np.exp(-self.neg_log_p_values)\n",
    "                # Concatenate the p-values of Z and X. The p-values of Z were not computed, mark with NaN.\n",
    "                p_values_Z = np.full(Z.shape[1], np.nan)\n",
    "                self.p_values = np.concatenate((p_values_Z, self.p_values))\n",
    "\n",
    "    def predict(self, X, Z):\n",
    "        X = self._reshape_data(X)\n",
    "        Z = self._reshape_data(Z)\n",
    "\n",
    "        Z_ones = np.column_stack((np.ones(Z.shape[0]), Z))\n",
    "        ZX = np.column_stack((Z, X))\n",
    "        combined_beta = np.concatenate((self.beta_Z[1:].ravel(), self.beta_X.ravel()))\n",
    "        return ZX @ combined_beta + self.beta_Z[0]\n",
    "\n",
    "    def get_coefficients(self):\n",
    "        return np.concatenate((self.beta_Z[1:].ravel(), self.beta_X.ravel()))\n",
    "\n",
    "    def get_p_values(self):\n",
    "        return self.p_values\n",
    "\n",
    "\n",
    "def cross_validation(X, Y, Z, model_constructor, model_params, k=5, target_type='binary'):\n",
    "    assert target_type in ['binary', 'continuous'], \"The target type must be chosen from 'binary' or 'continuous'\"\n",
    "    indices = np.arange(X.shape[0])\n",
    "    np.random.shuffle(indices)\n",
    "\n",
    "    fold_size = len(X) // k\n",
    "    performances = []\n",
    "\n",
    "    for i in range(k):\n",
    "        # Split data into train and test based on the current fold\n",
    "        test_indices = indices[i * fold_size: (i + 1) * fold_size]\n",
    "        train_indices = np.setdiff1d(indices, test_indices)\n",
    "\n",
    "        X_train, X_test = X[train_indices], X[test_indices]\n",
    "        Y_train, Y_test = Y[train_indices], Y[test_indices]\n",
    "        Z_train, Z_test = Z[train_indices], Z[test_indices]\n",
    "\n",
    "        normalized_X_train, normalized_X_test = normalize_data(X_train, X_test)\n",
    "        normalized_Z_train, normalized_Z_test = normalize_data(Z_train, Z_test)\n",
    "\n",
    "        # model = model_constructor(**model_params)\n",
    "        model = ResidualizationRegressor(model_constructor, model_params)\n",
    "        model.fit(normalized_X_train, Y_train, normalized_Z_train)\n",
    "        predictions = model.predict(normalized_X_test, normalized_Z_test)\n",
    "\n",
    "        if target_type == 'binary':\n",
    "            predictions = (predictions > 0.5).astype(int)\n",
    "            Y_test = (Y_test > 0.5).astype(int)\n",
    "            performance = accuracy_score(Y_test, predictions)\n",
    "        elif target_type == 'continuous':\n",
    "            performance = mean_squared_error(Y_test, predictions)\n",
    "\n",
    "        performances.append(performance)\n",
    "\n",
    "    cv_mean = np.mean(performances)\n",
    "    cv_std = np.std(performances)\n",
    "\n",
    "    if target_type == 'binary':\n",
    "        print(f'The cross-validation accuracy is {(cv_mean * 100):.2f}% ± {(cv_std * 100):.2f}%')\n",
    "    else:\n",
    "        print(f'The cross-validation MSE is {(cv_mean * 100):.2f} ± {(cv_std * 100):.2f}')\n",
    "\n",
    "    return cv_mean, cv_std\n",
    "\n",
    "\n",
    "def get_feature_related_genes(file_path, feature, normalize):\n",
    "    \"\"\"Read a csv file into a dataframe about gene-trait association, and get the gene symbols related to a given\n",
    "    trait\"\"\"\n",
    "    related_gene_df = pd.read_csv(file_path)\n",
    "    related_gene_df = related_gene_df.loc[:, ['Disease Name', 'Corresponding_Gene_Symbol']].set_index('Disease Name')\n",
    "    feature_related_genes = related_gene_df.loc[feature].tolist()[0].strip().split(',')\n",
    "    feature_related_genes = [gn.strip() for gn in feature_related_genes]\n",
    "    if normalize:\n",
    "        feature_related_genes = normalize_gene_symbols(feature_related_genes)\n",
    "\n",
    "    return feature_related_genes\n",
    "\n",
    "\n",
    "def get_gene_regressors(trait, trait_df, condition_df, related_genes):\n",
    "    \"\"\"Find the appropriate genes for two-step regression. Compare the indices of two dataframes to find the genes\n",
    "    in common, and select those that are known to be related to a trait\"\"\"\n",
    "    gene_regressors = None\n",
    "    genes_in_trait_data = set(trait_df.columns) - {'Age', 'Gender', trait}\n",
    "    genes_in_condition_data = set(condition_df.columns) - {'Age', 'Gender', trait}\n",
    "\n",
    "    common_genes_across_data = genes_in_trait_data.intersection(genes_in_condition_data)\n",
    "    if len(common_genes_across_data) == 0:\n",
    "        #print(\"The trait and condition datasets have no genes in common. Please try other datasets\")\n",
    "        return None\n",
    "    else:\n",
    "        ##print(\n",
    "            ## f\"The trait and condition datasets have {len(common_genes_across_data)} genes in common, such as {list(common_genes_across_data)[:10]}.\")\n",
    "        common_genes = [g for g in related_genes if g in common_genes_across_data]\n",
    "        if len(common_genes) > 0:\n",
    "            gene_regressors = list(common_genes)[:10]\n",
    "            #print(\n",
    "                #f\"Found {len(common_genes)} candidate genes that can be used in two-step regression analysis, such as {gene_regressors[:10]}.\")\n",
    "        else:\n",
    "            #print(\n",
    "                #f\"The condition and trait datasets have common genes, but among them we didn't find indicator genes for the condition\")\n",
    "            return None\n",
    "\n",
    "    return gene_regressors\n",
    "\n",
    "\n",
    "def normalize_trait(trait):\n",
    "    trait = '-'.join(trait.split())\n",
    "    normalized_trait = ''.join(trait.split(\"'\"))\n",
    "    return normalized_trait\n",
    "\n",
    "def interpret_result(model: Any, feature_names: List[str], trait: str, condition: str,\n",
    "                     threshold: float = 0.05, save_output: bool = True,\n",
    "                     output_dir: str = './output', model_id: int = 1) -> None:\n",
    "    \"\"\"This function interprets and reports the result of a trained linear regression model, where the regressor\n",
    "    consists of one variable about condition and multiple variables about genetic factors.\n",
    "    The function extracts coefficients and p-values from the model, and identifies the significant genes based on\n",
    "    p-values or non-zero coefficients, depending on the availability of p-values.\n",
    "\n",
    "    Parameters:\n",
    "    model (Any): The trained regression Model.\n",
    "    feature_names (List[str]): A list of feature names corresponding to the model's coefficients.\n",
    "    trait (str): The target trait of interest.\n",
    "    condition (str): The specific condition to examine within the model.\n",
    "    threshold (float): Significance level for p-value correction. Defaults to 0.05.\n",
    "    save_output (bool): Flag to determine whether to save the output to a file. Defaults to True.\n",
    "    output_dir (str): Directory path where output files are saved. Defaults to './output'.\n",
    "    model_id (int): The index of the model, 1 or 2.\n",
    "\n",
    "    Returns:\n",
    "    None: This function does not return anything but prints and optionally saves the output.\n",
    "    \"\"\"\n",
    "    coefficients = model.get_coefficients().reshape(-1).tolist()\n",
    "    p_values = model.get_p_values()\n",
    "    if p_values is None:\n",
    "        regression_df = pd.DataFrame({\n",
    "            'Variable': feature_names,\n",
    "            'Coefficient': coefficients\n",
    "        })\n",
    "    else:\n",
    "        regression_df = pd.DataFrame({\n",
    "            'Variable': feature_names,\n",
    "            'Coefficient': coefficients,\n",
    "            'p_value': p_values.reshape(-1).tolist()\n",
    "        })\n",
    "\n",
    "    condition_effect = regression_df[regression_df['Variable'] == condition].iloc[0]\n",
    "\n",
    "    print(f\"Effect of the condition on the target variable:\")\n",
    "    print(f\"Variable: {condition}\")\n",
    "    print(f\"Coefficient: {condition_effect['Coefficient']:.4f}\")\n",
    "    gene_regression_df = regression_df[regression_df['Variable'] != condition]\n",
    "    if p_values is None:\n",
    "        gene_regression_df['Absolute Coefficient'] = gene_regression_df['Coefficient'].abs()\n",
    "        significant_genes = gene_regression_df[gene_regression_df['Coefficient'] != 0]\n",
    "        significant_genes_sorted = significant_genes.sort_values(by='Absolute Coefficient', ascending=False)\n",
    "        print(\n",
    "            f\"Found {len(significant_genes_sorted)} genes with non-zero coefficients associated with the trait '{trait}' \"\n",
    "            f\"conditional on the factor '{condition}'. These genes are identified as significant based on the regression model.\")\n",
    "    else:\n",
    "        # Apply the Benjamini-Hochberg correction, to get the corrected p-values\n",
    "        corrected_p_values = multipletests(gene_regression_df['p_value'], alpha=threshold, method='fdr_bh')[1]\n",
    "        gene_regression_df.loc[:, 'corrected_p_value'] = corrected_p_values\n",
    "        significant_genes = gene_regression_df.loc[gene_regression_df['corrected_p_value'] < threshold]\n",
    "        significant_genes_sorted = significant_genes.sort_values('corrected_p_value')\n",
    "        print(\n",
    "            f\"Found {len(significant_genes_sorted)} significant genes associated with the trait '{trait}' conditional on \"\n",
    "            f\"the factor '{condition}', with corrected p-value < {threshold}:\")\n",
    "\n",
    "    print(significant_genes_sorted.to_string(index=False))\n",
    "\n",
    "    nm_condition = normalize_trait(condition)\n",
    "    # Optionally, save this to a CSV file\n",
    "    if save_output:\n",
    "        significant_genes_sorted.to_csv(\n",
    "            os.path.join(output_dir, f'significant_genes_condition_{nm_condition}_{model_id}.csv'), index=False)\n",
    "\n",
    "\n",
    "def judge_binary_variable_biased(dataframe, col_name, min_proportion=0.1, min_num=5):\n",
    "    \"\"\"\n",
    "    Check if the distribution of a binary variable in the dataset is too biased to be usable for analysis\n",
    "    :param dataframe:\n",
    "    :param col_name:\n",
    "    :param min_proportion:\n",
    "    :param min_num:\n",
    "    :return:\n",
    "    \"\"\"\n",
    "    label_counter = dataframe[col_name].value_counts()\n",
    "    total_samples = len(dataframe)\n",
    "    rare_label_num = label_counter.min()\n",
    "    rare_label = label_counter.idxmin()\n",
    "    rare_label_proportion = rare_label_num / total_samples\n",
    "\n",
    "    print(\n",
    "        f\"For the feature \\'{col_name}\\', the least common label is '{rare_label}' with {rare_label_num} occurrences. This represents {rare_label_proportion:.2%} of the dataset.\")\n",
    "\n",
    "    biased = (len(label_counter) < 2) or ((rare_label_proportion < min_proportion) and (rare_label_num < min_num))\n",
    "    return bool(biased)\n",
    "\n",
    "\n",
    "def judge_continuous_variable_biased(dataframe, col_name):\n",
    "    \"\"\"Check if the distribution of a continuous variable in the dataset is too biased to be usable for analysis.\n",
    "    As a starting point, we consider it biased if all values are the same. For the next step, maybe ask GPT to judge\n",
    "    based on quartile statistics combined with its common sense knowledge about this feature.\n",
    "    \"\"\"\n",
    "    quartiles = dataframe[col_name].quantile([0.25, 0.5, 0.75])\n",
    "    min_value = dataframe[col_name].min()\n",
    "    max_value = dataframe[col_name].max()\n",
    "\n",
    "    # Printing quartile information\n",
    "    print(f\"Quartiles for '{col_name}':\")\n",
    "    print(f\"  25%: {quartiles[0.25]}\")\n",
    "    print(f\"  50% (Median): {quartiles[0.5]}\")\n",
    "    print(f\"  75%: {quartiles[0.75]}\")\n",
    "    print(f\"Min: {min_value}\")\n",
    "    print(f\"Max: {max_value}\")\n",
    "\n",
    "    biased = min_value == max_value\n",
    "\n",
    "    return bool(biased)\n",
    "\n",
    "\n",
    "def check_rows_and_columns(dataframe, display=False):\n",
    "    \"\"\"\n",
    "    Get the lists of row names and column names of a dataset, and optionally observe them.\n",
    "    :param dataframe:\n",
    "    :param display:\n",
    "    :return:\n",
    "    \"\"\"\n",
    "    dataframe_rows = dataframe.index.tolist()\n",
    "    if display:\n",
    "        print(f\"The dataset has {len(dataframe_rows)} rows, such as {dataframe_rows[:20]}\")\n",
    "    dataframe_cols = dataframe.columns.tolist()\n",
    "    if display:\n",
    "        print(f\"\\nThe dataset has {len(dataframe_cols)} columns, such as {dataframe_cols[:20]}\")\n",
    "    return dataframe_rows, dataframe_cols\n",
    "\n",
    "\n",
    "def xena_convert_trait(row_index: str):\n",
    "    \"\"\"\n",
    "    Convert the trait information from Sample IDs to labels depending on the last two digits.\n",
    "    Tumor types range from 01 - 09, normal types from 10 - 19.\n",
    "    :param row_index: the index value of a row\n",
    "    :return: the converted value\n",
    "    \"\"\"\n",
    "    last_two_digits = int(row_index[-2:])\n",
    "\n",
    "    if 1 <= last_two_digits <= 9:\n",
    "        return 1\n",
    "    elif 10 <= last_two_digits <= 19:\n",
    "        return 0\n",
    "    else:\n",
    "        return -1\n",
    "\n",
    "\n",
    "def xena_convert_gender(cell: str):\n",
    "    \"\"\"Convert the cell content about gender to a binary value\n",
    "    \"\"\"\n",
    "    if isinstance(cell, str):\n",
    "        cell = cell.lower()\n",
    "\n",
    "    if cell == \"female\":\n",
    "        return 0\n",
    "    elif cell == \"male\":\n",
    "        return 1\n",
    "    else:\n",
    "        return None\n",
    "\n",
    "\n",
    "def xena_convert_age(cell: str):\n",
    "    \"\"\"Convert the cell content about age to a numerical value using regular expression\n",
    "    \"\"\"\n",
    "    match = re.search(r'\\d+', str(cell))\n",
    "    if match:\n",
    "        return int(match.group())\n",
    "    else:\n",
    "        return None\n",
    "\n",
    "\n",
    "def detect_batch_effect(X):\n",
    "    \"\"\"\n",
    "    Detect potential batch effects in a dataset using eigenvalues of XX^T.\n",
    "\n",
    "    Args:\n",
    "    X (numpy.ndarray): A feature matrix with shape (n_samples, n_features).\n",
    "\n",
    "    Returns:\n",
    "    bool: True if a potential batch effect is detected, False otherwise.\n",
    "    \"\"\"\n",
    "    n_samples = X.shape[0]\n",
    "\n",
    "    # Computing XX^T\n",
    "    XXt = np.dot(X, X.T)\n",
    "\n",
    "    # Compute the eigenvalues of XX^T\n",
    "    eigen_values = np.linalg.eigvalsh(XXt)  # Using eigvalsh since XX^T is symmetric\n",
    "    eigen_values = sorted(eigen_values, reverse=True)[:10]\n",
    "    eigen_values = np.array(eigen_values)\n",
    "    normalized_ev = eigen_values / eigen_values[0]\n",
    "\n",
    "    # Check for large gaps in the eigenvalues\n",
    "    for i in range(len(normalized_ev) - 1):\n",
    "        gap = normalized_ev[i] - normalized_ev[i + 1]\n",
    "        if gap > 1 / n_samples:  # You may need to adjust this threshold\n",
    "            return True\n",
    "\n",
    "    return False\n",
    "\n",
    "\n",
    "def get_unique_values_by_row(dataframe, max_len=30):\n",
    "    \"\"\"\n",
    "    Organize the unique values in each row of the given dataframe, to get a dictionary\n",
    "    :param dataframe:\n",
    "    :param max_len:\n",
    "    :return:\n",
    "    \"\"\"\n",
    "    if '!Sample_geo_accession' in dataframe.columns:\n",
    "        dataframe = dataframe.drop(columns=['!Sample_geo_accession'])\n",
    "    unique_values_dict = {}\n",
    "    for index, row in dataframe.iterrows():\n",
    "        unique_values = list(row.unique())[:max_len]\n",
    "        unique_values_dict[index] = unique_values\n",
    "    return unique_values_dict\n",
    "\n",
    "\n",
    "def xena_select_clinical_features(clinical_df, trait, age_col=None, gender_col=None):\n",
    "    feature_list = []\n",
    "    trait_data = clinical_df.index.to_series().apply(xena_convert_trait).rename(trait)\n",
    "    feature_list.append(trait_data)\n",
    "    if age_col:\n",
    "        age_data = clinical_df[age_col].apply(xena_convert_age).rename(\"Age\")\n",
    "        feature_list.append(age_data)\n",
    "    if gender_col:\n",
    "        gender_data = clinical_df[gender_col].apply(xena_convert_gender).rename(\"Gender\")\n",
    "        feature_list.append(gender_data)\n",
    "    selected_clinical_df = pd.concat(feature_list, axis=1)\n",
    "    return selected_clinical_df\n",
    "\n",
    "\n",
    "def geo_select_clinical_features(clinical_df: pd.DataFrame, trait: str, trait_row: int,\n",
    "                                 convert_trait: Callable,\n",
    "                                 age_row: Optional[int] = None,\n",
    "                                 convert_age: Optional[Callable] = None,\n",
    "                                 gender_row: Optional[int] = None,\n",
    "                                 convert_gender: Optional[Callable] = None) -> pd.DataFrame:\n",
    "    \"\"\"\n",
    "    Extracts and processes specific clinical features from a DataFrame representing\n",
    "    sample characteristics in the GEO database series.\n",
    "\n",
    "    Parameters:\n",
    "    - clinical_df (pd.DataFrame): DataFrame containing clinical data.\n",
    "    - trait (str): The trait of interest.\n",
    "    - trait_row (int): Row identifier for the trait in the DataFrame.\n",
    "    - convert_trait (Callable): Function to convert trait data into a desired format.\n",
    "    - age_row (int, optional): Row identifier for age data. Default is None.\n",
    "    - convert_age (Callable, optional): Function to convert age data. Default is None.\n",
    "    - gender_row (int, optional): Row identifier for gender data. Default is None.\n",
    "    - convert_gender (Callable, optional): Function to convert gender data. Default is None.\n",
    "\n",
    "    Returns:\n",
    "    pd.DataFrame: A DataFrame containing the selected and processed clinical features.\n",
    "    \"\"\"\n",
    "    feature_list = []\n",
    "\n",
    "    trait_data = get_feature_data(clinical_df, trait_row, trait, convert_trait)\n",
    "    feature_list.append(trait_data)\n",
    "    if age_row is not None:\n",
    "        age_data = get_feature_data(clinical_df, age_row, 'Age', convert_age)\n",
    "        feature_list.append(age_data)\n",
    "    if gender_row is not None:\n",
    "        gender_data = get_feature_data(clinical_df, gender_row, 'Gender', convert_gender)\n",
    "        feature_list.append(gender_data)\n",
    "\n",
    "    selected_clinical_df = pd.concat(feature_list, axis=0)\n",
    "    return selected_clinical_df\n",
    "\n",
    "\n",
    "def geo_merge_clinical_genetic_data(clinical_df, genetic_df):\n",
    "    \"\"\"\n",
    "    Merge the clinical features and gene expression features from two dataframes into one dataframe\n",
    "    \"\"\"\n",
    "    if 'ID' in genetic_df.columns:\n",
    "        genetic_df = genetic_df.rename(columns={'ID': 'Gene'})\n",
    "    if 'Gene' in genetic_df.columns:\n",
    "        genetic_df = genetic_df.set_index('Gene')\n",
    "    merged_data = pd.concat([clinical_df, genetic_df], axis=0).T.dropna()\n",
    "    return merged_data\n",
    "\n",
    "\n",
    "def judge_and_remove_biased_features(df, trait, trait_type):\n",
    "    assert trait_type in [\"binary\", \"continuous\"], f\"The trait must be either a binary or a continuous variable!\"\n",
    "    if trait_type == \"binary\":\n",
    "        trait_biased = judge_binary_variable_biased(df, trait)\n",
    "    else:\n",
    "        trait_biased = judge_continuous_variable_biased(df, trait)\n",
    "    if trait_biased:\n",
    "        print(f\"The distribution of the feature \\'{trait}\\' in this dataset is severely biased.\\n\")\n",
    "    else:\n",
    "        print(f\"The distribution of the feature \\'{trait}\\' in this dataset is fine.\\n\")\n",
    "    if \"Age\" in df.columns:\n",
    "        age_biased = judge_continuous_variable_biased(df, 'Age')\n",
    "        if age_biased:\n",
    "            print(f\"The distribution of the feature \\'Age\\' in this dataset is severely biased.\\n\")\n",
    "            df = df.drop(columns='Age')\n",
    "        else:\n",
    "            print(f\"The distribution of the feature \\'Age\\' in this dataset is fine.\\n\")\n",
    "    if \"Gender\" in df.columns:\n",
    "        gender_biased = judge_binary_variable_biased(df, 'Gender')\n",
    "        if gender_biased:\n",
    "            print(f\"The distribution of the feature \\'Gender\\' in this dataset is severely biased.\\n\")\n",
    "            df = df.drop(columns='Gender')\n",
    "        else:\n",
    "            print(f\"The distribution of the feature \\'Gender\\' in this dataset is fine.\\n\")\n",
    "\n",
    "    return trait_biased, df\n",
    "\n",
    "\n",
    "def save_cohort_info(cohort: str, info_path: str, is_available: bool, is_biased: Optional[bool] = None,\n",
    "                     df: Optional[pd.DataFrame] = None, note: str = '') -> None:\n",
    "    \"\"\"\n",
    "    Add or update information about the usability and quality of a dataset for statistical analysis.\n",
    "\n",
    "    Parameters:\n",
    "    cohort (str): A unique identifier for the dataset.\n",
    "    info_path (str): File path to the JSON file where records are stored.\n",
    "    is_available (bool): Indicates whether both the genetic data and trait data are available in the dataset, and can be\n",
    "     preprocessed into a dataframe.\n",
    "    is_biased (bool, optional): Indicates whether the dataset is too biased to be usable.\n",
    "        Required if `is_available` is True.\n",
    "    df (pandas.DataFrame, optional): The preprocessed dataset. Required if `is_available` is True.\n",
    "    note (str, optional): Additional notes about the dataset.\n",
    "\n",
    "    Returns:\n",
    "    None: The function does not return a value but updates or creates a record in the specified JSON file.\n",
    "    \"\"\"\n",
    "    if is_available:\n",
    "        assert (df is not None) and (is_biased is not None), \"'df' and 'is_biased' should be provided if this cohort \" \\\n",
    "                                                             \"is relevant.\"\n",
    "    is_usable = is_available and (not is_biased)\n",
    "    new_record = {\"is_usable\": is_usable,\n",
    "                  \"is_available\": is_available,\n",
    "                  \"is_biased\": is_biased if is_available else None,\n",
    "                  \"has_age\": \"Age\" in df.columns if is_available else None,\n",
    "                  \"has_gender\": \"Gender\" in df.columns if is_available else None,\n",
    "                  \"sample_size\": len(df) if is_available else None,\n",
    "                  \"note\": note}\n",
    "\n",
    "    trait_directory = os.path.dirname(info_path)\n",
    "    os.makedirs(trait_directory, exist_ok=True)\n",
    "    if not os.path.exists(info_path):\n",
    "        with open(info_path, 'w') as file:\n",
    "            json.dump({}, file)\n",
    "        print(f\"A new JSON file was created at: {info_path}\")\n",
    "\n",
    "    with open(info_path, \"r\") as file:\n",
    "        records = json.load(file)\n",
    "    records[cohort] = new_record\n",
    "\n",
    "    temp_path = info_path + \".tmp\"\n",
    "    try:\n",
    "        with open(temp_path, 'w') as file:\n",
    "            json.dump(records, file)\n",
    "        os.replace(temp_path, info_path)\n",
    "\n",
    "    except Exception as e:\n",
    "        print(f\"An error occurred: {e}\")\n",
    "        if os.path.exists(temp_path):\n",
    "            os.remove(temp_path)\n",
    "        raise\n",
    "\n",
    "\n",
    "def read_json_to_dataframe(json_file: str) -> pd.DataFrame:\n",
    "    \"\"\"\n",
    "    Reads a JSON file and converts it into a pandas DataFrame.\n",
    "\n",
    "    Args:\n",
    "    json_file (str): The path to the JSON file containing the data.\n",
    "\n",
    "    Returns:\n",
    "    DataFrame: A pandas DataFrame with the JSON data.\n",
    "    \"\"\"\n",
    "    with open(json_file, 'r') as file:\n",
    "        data = json.load(file)\n",
    "    return pd.DataFrame.from_dict(data, orient='index').reset_index().rename(columns={'index': 'cohort_id'})\n",
    "\n",
    "\n",
    "def filter_and_rank_cohorts(json_file: str, condition: Union[str, None] = None) -> Tuple[\n",
    "    Union[str, None], pd.DataFrame]:\n",
    "    \"\"\"\n",
    "    Reads a JSON file, filters cohorts based on usability and an optional condition, then ranks them by sample size.\n",
    "\n",
    "    Args:\n",
    "    json_file (str): The path to the JSON file containing the data.\n",
    "    condition (str, optional): An additional condition for filtering. If None, only 'is_usable' is considered.\n",
    "\n",
    "    Returns:\n",
    "    Tuple: A tuple containing the best cohort ID (str or None if no suitable cohort is found) and\n",
    "           the filtered and ranked DataFrame.\n",
    "    \"\"\"\n",
    "    # Read the JSON file into a DataFrame\n",
    "    df = read_json_to_dataframe(json_file)\n",
    "\n",
    "    if condition:\n",
    "        filtered_df = df[(df['is_usable'] == True) & (df[condition] == True)]\n",
    "    else:\n",
    "        filtered_df = df[df['is_usable'] == True]\n",
    "\n",
    "    ranked_df = filtered_df.sort_values(by='sample_size', ascending=False)\n",
    "    best_cohort_id = ranked_df.iloc[0]['cohort_id'] if not ranked_df.empty else None\n",
    "\n",
    "    return best_cohort_id, ranked_df\n",
    "\n",
    "\n",
    "def read_json_to_dataframe(json_file: str) -> pd.DataFrame:\n",
    "    \"\"\"\n",
    "    Reads a JSON file and converts it into a pandas DataFrame.\n",
    "    \"\"\"\n",
    "    with open(json_file, 'r') as file:\n",
    "        data = json.load(file)\n",
    "    return pd.DataFrame.from_dict(data, orient='index').reset_index().rename(columns={'index': 'cohort_id'})\n",
    "\n",
    "\n",
    "def filter_and_rank_cohorts(json_file: str, condition: Union[str, None] = None) -> Tuple[\n",
    "    Union[str, None], pd.DataFrame]:\n",
    "    \"\"\"\n",
    "    Reads a JSON file, filters cohorts based on usability and an optional condition, then ranks them by sample size.\n",
    "\n",
    "    Args:\n",
    "    json_file (str): The path to the JSON file containing the data.\n",
    "    condition (str, optional): An additional condition for filtering. If None, only 'is_usable' is considered.\n",
    "\n",
    "    Returns:\n",
    "    Tuple: A tuple containing the best cohort ID (str or None if no suitable cohort is found) and\n",
    "           the filtered and ranked DataFrame.\n",
    "    \"\"\"\n",
    "    df = read_json_to_dataframe(json_file)\n",
    "    if condition:\n",
    "        if condition.lower() in ['age', 'gender']:\n",
    "            condition = 'has_' + condition.lower()\n",
    "        assert condition in ['has_age', 'has_gender']\n",
    "        filtered_df = df[(df['is_usable'] == True) & (df[condition] == True)]\n",
    "    else:\n",
    "        filtered_df = df[df['is_usable'] == True]\n",
    "    ranked_df = filtered_df.sort_values(by='sample_size', ascending=False)\n",
    "    best_cohort_id = ranked_df.iloc[0]['cohort_id'] if not ranked_df.empty else None\n",
    "\n",
    "    return best_cohort_id, ranked_df\n",
    "\n",
    "\n",
    "def preview_df(df, n=5):\n",
    "    return df.head(n).to_dict(orient='list')"
   ]
  },
  {
   "cell_type": "code",
   "execution_count": 3,
   "metadata": {
    "ExecuteTime": {
     "end_time": "2024-01-02T01:02:53.240839272Z",
     "start_time": "2024-01-02T01:02:53.240575109Z"
    },
    "collapsed": false
   },
   "outputs": [],
   "source": [
    "import os\n",
    "import sys\n",
    "\n",
    "sys.path.append('..')\n",
    "# Set your preferred name\n",
    "USER = \"Jake\"\n",
    "# Set the data and output directories\n",
    "DATA_ROOT = '/Users/jacob/Documents'\n",
    "OUTPUT_ROOT = '/Users/jacob/Documents/output'\n",
    "TRAIT = 'Intellectual-Disability'\n",
    "\n",
    "OUTPUT_DIR = os.path.join(OUTPUT_ROOT, USER, '-'.join(TRAIT.split()))\n",
    "JSON_PATH = os.path.join(OUTPUT_DIR, \"cohort_info.json\")\n",
    "if not os.path.exists(OUTPUT_DIR):\n",
    "    os.makedirs(OUTPUT_DIR, exist_ok=True)\n",
    "\n",
    "# Gene symbol normalization may take 1-2 minutes. You may set it to False for debugging.\n",
    "NORMALIZE_GENE = True"
   ]
  },
  {
   "cell_type": "code",
   "execution_count": 2,
   "metadata": {
    "ExecuteTime": {
     "end_time": "2024-01-02T01:02:53.501910797Z",
     "start_time": "2024-01-02T01:02:53.496254990Z"
    },
    "colab": {
     "base_uri": "https://localhost:8080/"
    },
    "id": "jMTdsU43vVg3",
    "outputId": "38886111-f442-44b4-8398-96bf384d7abd"
   },
   "outputs": [
    {
     "data": {
      "text/plain": [
       "\"import os\\nfrom google.colab import drive\\n\\ndrive.mount('/content/drive', force_remount=True)\\nproj_dir = '/content/drive/MyDrive/AI4Science_Public'\\nos.chdir(proj_dir)\""
      ]
     },
     "execution_count": 2,
     "metadata": {},
     "output_type": "execute_result"
    }
   ],
   "source": [
    "# This cell is only for use on Google Colab. Skip it if you run your code in other environments\n",
    "\n",
    "\"\"\"import os\n",
    "from google.colab import drive\n",
    "\n",
    "drive.mount('/content/drive', force_remount=True)\n",
    "proj_dir = '/content/drive/MyDrive/AI4Science_Public'\n",
    "os.chdir(proj_dir)\"\"\""
   ]
  },
  {
   "cell_type": "markdown",
   "metadata": {
    "collapsed": false
   },
   "source": [
    "# 2. Data preprocessing and selection"
   ]
  },
  {
   "cell_type": "markdown",
   "metadata": {
    "collapsed": false
   },
   "source": [
    "## 2.1. The TCGA Xena dataset"
   ]
  },
  {
   "cell_type": "markdown",
   "metadata": {
    "collapsed": false
   },
   "source": [
    "In TCGA Xena, there is either zero or one cohort related to the trait. We search the names of subdirectories to see if any matches the trait. If a match is found, we directly obtain the file paths."
   ]
  },
  {
   "cell_type": "code",
   "execution_count": 3,
   "metadata": {
    "ExecuteTime": {
     "end_time": "2024-01-02T01:02:56.462746833Z",
     "start_time": "2024-01-02T01:02:55.818581842Z"
    },
    "collapsed": false
   },
   "outputs": [
    {
     "ename": "FileNotFoundError",
     "evalue": "[WinError 3] The system cannot find the path specified: '/home/yxcheng\\\\TCGA'",
     "output_type": "error",
     "traceback": [
      "\u001b[1;31m---------------------------------------------------------------------------\u001b[0m",
      "\u001b[1;31mFileNotFoundError\u001b[0m                         Traceback (most recent call last)",
      "Cell \u001b[1;32mIn[3], line 6\u001b[0m\n\u001b[0;32m      4\u001b[0m dataset \u001b[38;5;241m=\u001b[39m \u001b[38;5;124m'\u001b[39m\u001b[38;5;124mTCGA\u001b[39m\u001b[38;5;124m'\u001b[39m\n\u001b[0;32m      5\u001b[0m dataset_dir \u001b[38;5;241m=\u001b[39m os\u001b[38;5;241m.\u001b[39mpath\u001b[38;5;241m.\u001b[39mjoin(DATA_ROOT, dataset)\n\u001b[1;32m----> 6\u001b[0m \u001b[43mos\u001b[49m\u001b[38;5;241;43m.\u001b[39;49m\u001b[43mlistdir\u001b[49m\u001b[43m(\u001b[49m\u001b[43mdataset_dir\u001b[49m\u001b[43m)\u001b[49m[:]\n",
      "\u001b[1;31mFileNotFoundError\u001b[0m: [WinError 3] The system cannot find the path specified: '/home/yxcheng\\\\TCGA'"
     ]
    }
   ],
   "source": [
    "import os\n",
    "from utils import *\n",
    "\n",
    "dataset = 'TCGA'\n",
    "dataset_dir = os.path.join(DATA_ROOT, dataset)\n",
    "os.listdir(dataset_dir)[:]"
   ]
  },
  {
   "cell_type": "markdown",
   "metadata": {
    "collapsed": false
   },
   "source": [
    "If no match is found, jump directly to GEO in Part 2.2"
   ]
  },
  {
   "cell_type": "code",
   "execution_count": null,
   "metadata": {
    "collapsed": false
   },
   "outputs": [],
   "source": [
    "trait_subdir = \"TCGA_Lung_Cancer_(LUNG)\"\n",
    "cohort = 'Xena'\n",
    "# All the cancer traits in Xena are binary\n",
    "trait_type = 'binary'\n",
    "# Once a relevant cohort is found in Xena, we can generally assume the gene and clinical data are available\n",
    "is_available = True\n",
    "\n",
    "clinical_data_file = os.path.join(dataset_dir, trait_subdir, 'TCGA.LUNG.sampleMap_LUNG_clinicalMatrix')\n",
    "genetic_data_file = os.path.join(dataset_dir, trait_subdir, 'TCGA.LUNG.sampleMap_HiSeqV2_PANCAN.gz')"
   ]
  },
  {
   "cell_type": "code",
   "execution_count": null,
   "metadata": {
    "id": "MudwB-_iz7sc"
   },
   "outputs": [
    {
     "ename": "ParserError",
     "evalue": "Error tokenizing data. C error: Calling read(nbytes) on source failed. Try engine='python'.",
     "output_type": "error",
     "traceback": [
      "\u001b[0;31m---------------------------------------------------------------------------\u001b[0m",
      "\u001b[0;31mParserError\u001b[0m                               Traceback (most recent call last)",
      "\u001b[1;32m/home/yxcheng/AI4Science_gold_standard/stage1/Yuxuan/Psoriasis.ipynb 单元格 12\u001b[0m line \u001b[0;36m4\n\u001b[1;32m      <a href='vscode-notebook-cell://ssh-remote%2B218.199.69.68/home/yxcheng/AI4Science_gold_standard/stage1/Yuxuan/Psoriasis.ipynb#X14sdnNjb2RlLXJlbW90ZQ%3D%3D?line=0'>1</a>\u001b[0m \u001b[39mimport\u001b[39;00m \u001b[39mpandas\u001b[39;00m \u001b[39mas\u001b[39;00m \u001b[39mpd\u001b[39;00m\n\u001b[1;32m      <a href='vscode-notebook-cell://ssh-remote%2B218.199.69.68/home/yxcheng/AI4Science_gold_standard/stage1/Yuxuan/Psoriasis.ipynb#X14sdnNjb2RlLXJlbW90ZQ%3D%3D?line=2'>3</a>\u001b[0m clinical_data \u001b[39m=\u001b[39m pd\u001b[39m.\u001b[39mread_csv(clinical_data_file, sep\u001b[39m=\u001b[39m\u001b[39m'\u001b[39m\u001b[39m\\t\u001b[39;00m\u001b[39m'\u001b[39m, index_col\u001b[39m=\u001b[39m\u001b[39m0\u001b[39m)\n\u001b[0;32m----> <a href='vscode-notebook-cell://ssh-remote%2B218.199.69.68/home/yxcheng/AI4Science_gold_standard/stage1/Yuxuan/Psoriasis.ipynb#X14sdnNjb2RlLXJlbW90ZQ%3D%3D?line=3'>4</a>\u001b[0m genetic_data \u001b[39m=\u001b[39m pd\u001b[39m.\u001b[39;49mread_csv(genetic_data_file, compression\u001b[39m=\u001b[39;49m\u001b[39m'\u001b[39;49m\u001b[39mgzip\u001b[39;49m\u001b[39m'\u001b[39;49m, sep\u001b[39m=\u001b[39;49m\u001b[39m'\u001b[39;49m\u001b[39m\\t\u001b[39;49;00m\u001b[39m'\u001b[39;49m, index_col\u001b[39m=\u001b[39;49m\u001b[39m0\u001b[39;49m)\n\u001b[1;32m      <a href='vscode-notebook-cell://ssh-remote%2B218.199.69.68/home/yxcheng/AI4Science_gold_standard/stage1/Yuxuan/Psoriasis.ipynb#X14sdnNjb2RlLXJlbW90ZQ%3D%3D?line=4'>5</a>\u001b[0m age_col \u001b[39m=\u001b[39m gender_col \u001b[39m=\u001b[39m \u001b[39mNone\u001b[39;00m\n",
      "File \u001b[0;32m~/anaconda3/envs/ai4sci/lib/python3.10/site-packages/pandas/io/parsers/readers.py:948\u001b[0m, in \u001b[0;36mread_csv\u001b[0;34m(filepath_or_buffer, sep, delimiter, header, names, index_col, usecols, dtype, engine, converters, true_values, false_values, skipinitialspace, skiprows, skipfooter, nrows, na_values, keep_default_na, na_filter, verbose, skip_blank_lines, parse_dates, infer_datetime_format, keep_date_col, date_parser, date_format, dayfirst, cache_dates, iterator, chunksize, compression, thousands, decimal, lineterminator, quotechar, quoting, doublequote, escapechar, comment, encoding, encoding_errors, dialect, on_bad_lines, delim_whitespace, low_memory, memory_map, float_precision, storage_options, dtype_backend)\u001b[0m\n\u001b[1;32m    935\u001b[0m kwds_defaults \u001b[39m=\u001b[39m _refine_defaults_read(\n\u001b[1;32m    936\u001b[0m     dialect,\n\u001b[1;32m    937\u001b[0m     delimiter,\n\u001b[0;32m   (...)\u001b[0m\n\u001b[1;32m    944\u001b[0m     dtype_backend\u001b[39m=\u001b[39mdtype_backend,\n\u001b[1;32m    945\u001b[0m )\n\u001b[1;32m    946\u001b[0m kwds\u001b[39m.\u001b[39mupdate(kwds_defaults)\n\u001b[0;32m--> 948\u001b[0m \u001b[39mreturn\u001b[39;00m _read(filepath_or_buffer, kwds)\n",
      "File \u001b[0;32m~/anaconda3/envs/ai4sci/lib/python3.10/site-packages/pandas/io/parsers/readers.py:617\u001b[0m, in \u001b[0;36m_read\u001b[0;34m(filepath_or_buffer, kwds)\u001b[0m\n\u001b[1;32m    614\u001b[0m     \u001b[39mreturn\u001b[39;00m parser\n\u001b[1;32m    616\u001b[0m \u001b[39mwith\u001b[39;00m parser:\n\u001b[0;32m--> 617\u001b[0m     \u001b[39mreturn\u001b[39;00m parser\u001b[39m.\u001b[39;49mread(nrows)\n",
      "File \u001b[0;32m~/anaconda3/envs/ai4sci/lib/python3.10/site-packages/pandas/io/parsers/readers.py:1748\u001b[0m, in \u001b[0;36mTextFileReader.read\u001b[0;34m(self, nrows)\u001b[0m\n\u001b[1;32m   1741\u001b[0m nrows \u001b[39m=\u001b[39m validate_integer(\u001b[39m\"\u001b[39m\u001b[39mnrows\u001b[39m\u001b[39m\"\u001b[39m, nrows)\n\u001b[1;32m   1742\u001b[0m \u001b[39mtry\u001b[39;00m:\n\u001b[1;32m   1743\u001b[0m     \u001b[39m# error: \"ParserBase\" has no attribute \"read\"\u001b[39;00m\n\u001b[1;32m   1744\u001b[0m     (\n\u001b[1;32m   1745\u001b[0m         index,\n\u001b[1;32m   1746\u001b[0m         columns,\n\u001b[1;32m   1747\u001b[0m         col_dict,\n\u001b[0;32m-> 1748\u001b[0m     ) \u001b[39m=\u001b[39m \u001b[39mself\u001b[39;49m\u001b[39m.\u001b[39;49m_engine\u001b[39m.\u001b[39;49mread(  \u001b[39m# type: ignore[attr-defined]\u001b[39;49;00m\n\u001b[1;32m   1749\u001b[0m         nrows\n\u001b[1;32m   1750\u001b[0m     )\n\u001b[1;32m   1751\u001b[0m \u001b[39mexcept\u001b[39;00m \u001b[39mException\u001b[39;00m:\n\u001b[1;32m   1752\u001b[0m     \u001b[39mself\u001b[39m\u001b[39m.\u001b[39mclose()\n",
      "File \u001b[0;32m~/anaconda3/envs/ai4sci/lib/python3.10/site-packages/pandas/io/parsers/c_parser_wrapper.py:234\u001b[0m, in \u001b[0;36mCParserWrapper.read\u001b[0;34m(self, nrows)\u001b[0m\n\u001b[1;32m    232\u001b[0m \u001b[39mtry\u001b[39;00m:\n\u001b[1;32m    233\u001b[0m     \u001b[39mif\u001b[39;00m \u001b[39mself\u001b[39m\u001b[39m.\u001b[39mlow_memory:\n\u001b[0;32m--> 234\u001b[0m         chunks \u001b[39m=\u001b[39m \u001b[39mself\u001b[39;49m\u001b[39m.\u001b[39;49m_reader\u001b[39m.\u001b[39;49mread_low_memory(nrows)\n\u001b[1;32m    235\u001b[0m         \u001b[39m# destructive to chunks\u001b[39;00m\n\u001b[1;32m    236\u001b[0m         data \u001b[39m=\u001b[39m _concatenate_chunks(chunks)\n",
      "File \u001b[0;32mparsers.pyx:843\u001b[0m, in \u001b[0;36mpandas._libs.parsers.TextReader.read_low_memory\u001b[0;34m()\u001b[0m\n",
      "File \u001b[0;32mparsers.pyx:904\u001b[0m, in \u001b[0;36mpandas._libs.parsers.TextReader._read_rows\u001b[0;34m()\u001b[0m\n",
      "File \u001b[0;32mparsers.pyx:879\u001b[0m, in \u001b[0;36mpandas._libs.parsers.TextReader._tokenize_rows\u001b[0;34m()\u001b[0m\n",
      "File \u001b[0;32mparsers.pyx:890\u001b[0m, in \u001b[0;36mpandas._libs.parsers.TextReader._check_tokenize_status\u001b[0;34m()\u001b[0m\n",
      "File \u001b[0;32mparsers.pyx:2058\u001b[0m, in \u001b[0;36mpandas._libs.parsers.raise_parser_error\u001b[0;34m()\u001b[0m\n",
      "\u001b[0;31mParserError\u001b[0m: Error tokenizing data. C error: Calling read(nbytes) on source failed. Try engine='python'."
     ]
    }
   ],
   "source": [
    "import pandas as pd\n",
    "\n",
    "clinical_data = pd.read_csv(clinical_data_file, sep='\\t', index_col=0)\n",
    "genetic_data = pd.read_csv(genetic_data_file, compression='gzip', sep='\\t', index_col=0)\n",
    "age_col = gender_col = None"
   ]
  },
  {
   "cell_type": "code",
   "execution_count": null,
   "metadata": {
    "collapsed": false
   },
   "outputs": [],
   "source": [
    "_, clinical_data_cols = check_rows_and_columns(clinical_data)"
   ]
  },
  {
   "cell_type": "code",
   "execution_count": null,
   "metadata": {
    "collapsed": false
   },
   "outputs": [
    {
     "data": {
      "text/plain": [
       "['ABSOLUTE_Ploidy',\n",
       " 'ABSOLUTE_Purity',\n",
       " 'AKT1',\n",
       " 'ALK_translocation',\n",
       " 'BRAF',\n",
       " 'CBL',\n",
       " 'CTNNB1',\n",
       " 'Canonical_mut_in_KRAS_EGFR_ALK',\n",
       " 'Cnncl_mt_n_KRAS_EGFR_ALK_RET_ROS1_BRAF_ERBB2_HRAS_NRAS_AKT1_MAP2',\n",
       " 'EGFR']"
      ]
     },
     "execution_count": 8,
     "metadata": {},
     "output_type": "execute_result"
    }
   ],
   "source": [
    "clinical_data_cols[:10]"
   ]
  },
  {
   "cell_type": "markdown",
   "metadata": {
    "ExecuteTime": {
     "end_time": "2023-12-28T20:20:11.841042813Z",
     "start_time": "2023-12-28T20:20:11.834458206Z"
    },
    "collapsed": false
   },
   "source": [
    "Read all the column names in the clinical dataset, to find the columns that record information about age or gender.\n",
    "Reference prompt:"
   ]
  },
  {
   "cell_type": "code",
   "execution_count": null,
   "metadata": {
    "collapsed": false
   },
   "outputs": [
    {
     "data": {
      "text/plain": [
       "\"\\nBelow is a list of column names from a biomedical dataset. Please examine it and identify the columns that are likely to contain information about patients' age. Additionally, please do the same for columns that may hold data on patients' gender. Please provide your answer by strictly following this format, without redundant words:\\ncandidate_age_cols = [col_name1, col_name2, ...]\\ncandidate_gender_cols = [col_name1, col_name2, ...]\\nIf no columns match a criterion, please provide an empty list.\\n\\nColumn names:\\n['ABSOLUTE_Ploidy', 'ABSOLUTE_Purity', 'AKT1', 'ALK_translocation', 'BRAF', 'CBL', 'CTNNB1', 'Canonical_mut_in_KRAS_EGFR_ALK', 'Cnncl_mt_n_KRAS_EGFR_ALK_RET_ROS1_BRAF_ERBB2_HRAS_NRAS_AKT1_MAP2', 'EGFR', 'ERBB2', 'ERBB4', 'Estimated_allele_fraction_of_a_clonal_varnt_prsnt_t_1_cpy_pr_cll', 'Expression_Subtype', 'HRAS', 'KRAS', 'MAP2K1', 'MET', 'NRAS', 'PIK3CA', 'PTPN11', 'Pathology', 'Pathology_Updated', 'RET_translocation', 'ROS1_translocation', 'STK11', 'WGS_as_of_20120731_0_no_1_yes', '_INTEGRATION', '_PANCAN_CNA_PANCAN_K8', '_PANCAN_Cluster_Cluster_PANCAN', '_PANCAN_DNAMethyl_PANCAN', '_PANCAN_RPPA_PANCAN_K8', '_PANCAN_UNC_RNAseq_PANCAN_K16', '_PANCAN_miRNA_PANCAN', '_PANCAN_mutation_PANCAN', '_PATIENT', '_cohort', '_primary_disease', '_primary_site', 'additional_pharmaceutical_therapy', 'additional_radiation_therapy', 'additional_surgery_locoregional_procedure', 'additional_surgery_metastatic_procedure', 'age_at_initial_pathologic_diagnosis', 'anatomic_neoplasm_subdivision', 'anatomic_neoplasm_subdivision_other', 'bcr_followup_barcode', 'bcr_patient_barcode', 'bcr_sample_barcode', 'days_to_additional_surgery_locoregional_procedure', 'days_to_additional_surgery_metastatic_procedure', 'days_to_birth', 'days_to_collection', 'days_to_death', 'days_to_initial_pathologic_diagnosis', 'days_to_last_followup', 'days_to_new_tumor_event_after_initial_treatment', 'disease_code', 'dlco_predictive_percent', 'eastern_cancer_oncology_group', 'egfr_mutation_performed', 'egfr_mutation_result', 'eml4_alk_translocation_method', 'eml4_alk_translocation_performed', 'followup_case_report_form_submission_reason', 'followup_treatment_success', 'form_completion_date', 'gender', 'histological_type', 'history_of_neoadjuvant_treatment', 'icd_10', 'icd_o_3_histology', 'icd_o_3_site', 'informed_consent_verified', 'initial_weight', 'intermediate_dimension', 'is_ffpe', 'karnofsky_performance_score', 'kras_gene_analysis_performed', 'kras_mutation_found', 'kras_mutation_result', 'location_in_lung_parenchyma', 'longest_dimension', 'lost_follow_up', 'new_neoplasm_event_type', 'new_tumor_event_after_initial_treatment', 'number_pack_years_smoked', 'oct_embedded', 'other_dx', 'pathologic_M', 'pathologic_N', 'pathologic_T', 'pathologic_stage', 'pathology_report_file_name', 'patient_id', 'performance_status_scale_timing', 'person_neoplasm_cancer_status', 'post_bronchodilator_fev1_fvc_percent', 'post_bronchodilator_fev1_percent', 'pre_bronchodilator_fev1_fvc_percent', 'pre_bronchodilator_fev1_percent', 'primary_therapy_outcome_success', 'progression_determined_by', 'project_code', 'pulmonary_function_test_performed', 'radiation_therapy', 'residual_tumor', 'sample_type', 'sample_type_id', 'shortest_dimension', 'stopped_smoking_year', 'system_version', 'targeted_molecular_therapy', 'tissue_prospective_collection_indicator', 'tissue_retrospective_collection_indicator', 'tissue_source_site', 'tobacco_smoking_history', 'tobacco_smoking_history_indicator', 'tumor_tissue_site', 'vial_number', 'vital_status', 'year_of_initial_pathologic_diagnosis', 'year_of_tobacco_smoking_onset', '_GENOMIC_ID_TCGA_LUNG_exp_HiSeqV2_exon', '_GENOMIC_ID_TCGA_LUNG_hMethyl27', '_GENOMIC_ID_TCGA_LUNG_mutation', '_GENOMIC_ID_TCGA_LUNG_exp_HiSeqV2_PANCAN', '_GENOMIC_ID_TCGA_LUNG_hMethyl450', '_GENOMIC_ID_TCGA_LUNG_gistic2thd', '_GENOMIC_ID_TCGA_LUNG_G4502A_07_3', '_GENOMIC_ID_TCGA_LUNG_exp_HiSeqV2', '_GENOMIC_ID_TCGA_LUNG_gistic2', '_GENOMIC_ID_TCGA_LUNG_RPPA_RBN']\\n\""
      ]
     },
     "execution_count": 9,
     "metadata": {},
     "output_type": "execute_result"
    }
   ],
   "source": [
    "f'''\n",
    "Below is a list of column names from a biomedical dataset. Please examine it and identify the columns that are likely to contain information about patients' age. Additionally, please do the same for columns that may hold data on patients' gender. Please provide your answer by strictly following this format, without redundant words:\n",
    "candidate_age_cols = [col_name1, col_name2, ...]\n",
    "candidate_gender_cols = [col_name1, col_name2, ...]\n",
    "If no columns match a criterion, please provide an empty list.\n",
    "\n",
    "Column names:\n",
    "{clinical_data_cols}\n",
    "'''"
   ]
  },
  {
   "cell_type": "code",
   "execution_count": null,
   "metadata": {
    "collapsed": false
   },
   "outputs": [],
   "source": [
    "candidate_age_cols = ['age_at_initial_pathologic_diagnosis', 'days_to_birth', 'days_to_collection', 'days_to_death', 'days_to_initial_pathologic_diagnosis', 'days_to_last_followup', 'days_to_new_tumor_event_after_initial_treatment', 'stopped_smoking_year', 'year_of_initial_pathologic_diagnosis', 'year_of_tobacco_smoking_onset']\n",
    "\n",
    "candidate_gender_cols = ['gender']"
   ]
  },
  {
   "cell_type": "markdown",
   "metadata": {
    "ExecuteTime": {
     "end_time": "2023-12-31T03:57:44.207565572Z",
     "start_time": "2023-12-31T03:57:44.202177544Z"
    },
    "collapsed": false
   },
   "source": [
    "Choose a single column from the candidate columns that record age and gender information respectively.\n",
    "If no column meets the requirement, keep 'age_col' or 'gender_col' to None"
   ]
  },
  {
   "cell_type": "code",
   "execution_count": null,
   "metadata": {
    "collapsed": false
   },
   "outputs": [
    {
     "data": {
      "text/plain": [
       "{'age_at_initial_pathologic_diagnosis': [70.0, 67.0, 79.0, 68.0, 66.0],\n",
       " 'days_to_birth': [-25752.0, -24532.0, -29068.0, -24868.0, -24411.0],\n",
       " 'days_to_collection': [nan, nan, nan, nan, nan],\n",
       " 'days_to_death': [nan, nan, '121', nan, nan],\n",
       " 'days_to_initial_pathologic_diagnosis': [0.0, 0.0, 0.0, 0.0, 0.0],\n",
       " 'days_to_last_followup': ['0', '1523', nan, '607', '426'],\n",
       " 'days_to_new_tumor_event_after_initial_treatment': [nan,\n",
       "  nan,\n",
       "  nan,\n",
       "  334.0,\n",
       "  183.0],\n",
       " 'stopped_smoking_year': [nan, nan, nan, nan, 1987.0],\n",
       " 'year_of_initial_pathologic_diagnosis': [2009.0,\n",
       "  2007.0,\n",
       "  2007.0,\n",
       "  2009.0,\n",
       "  2009.0],\n",
       " 'year_of_tobacco_smoking_onset': [nan, nan, nan, nan, 1963.0]}"
      ]
     },
     "execution_count": 11,
     "metadata": {},
     "output_type": "execute_result"
    }
   ],
   "source": [
    "preview_df(clinical_data[candidate_age_cols])"
   ]
  },
  {
   "cell_type": "code",
   "execution_count": null,
   "metadata": {
    "collapsed": false
   },
   "outputs": [],
   "source": [
    "age_col = 'age_at_initial_pathologic_diagnosis'"
   ]
  },
  {
   "cell_type": "code",
   "execution_count": null,
   "metadata": {
    "collapsed": false
   },
   "outputs": [
    {
     "data": {
      "text/plain": [
       "{'gender': ['MALE', 'MALE', 'FEMALE', 'MALE', 'MALE']}"
      ]
     },
     "execution_count": 13,
     "metadata": {},
     "output_type": "execute_result"
    }
   ],
   "source": [
    "preview_df(clinical_data[candidate_gender_cols])"
   ]
  },
  {
   "cell_type": "code",
   "execution_count": null,
   "metadata": {
    "collapsed": false
   },
   "outputs": [],
   "source": [
    "gender_col = 'gender'"
   ]
  },
  {
   "cell_type": "code",
   "execution_count": null,
   "metadata": {
    "collapsed": false
   },
   "outputs": [],
   "source": [
    "selected_clinical_data = xena_select_clinical_features(clinical_data, TRAIT, age_col, gender_col)"
   ]
  },
  {
   "cell_type": "code",
   "execution_count": null,
   "metadata": {
    "collapsed": false
   },
   "outputs": [],
   "source": [
    "if NORMALIZE_GENE:\n",
    "    genetic_data = normalize_gene_symbols_in_index(genetic_data)"
   ]
  },
  {
   "cell_type": "code",
   "execution_count": null,
   "metadata": {
    "collapsed": false
   },
   "outputs": [
    {
     "data": {
      "text/html": [
       "<div>\n",
       "<style scoped>\n",
       "    .dataframe tbody tr th:only-of-type {\n",
       "        vertical-align: middle;\n",
       "    }\n",
       "\n",
       "    .dataframe tbody tr th {\n",
       "        vertical-align: top;\n",
       "    }\n",
       "\n",
       "    .dataframe thead th {\n",
       "        text-align: right;\n",
       "    }\n",
       "</style>\n",
       "<table border=\"1\" class=\"dataframe\">\n",
       "  <thead>\n",
       "    <tr style=\"text-align: right;\">\n",
       "      <th></th>\n",
       "      <th>Lung-Cancer</th>\n",
       "      <th>Age</th>\n",
       "      <th>Gender</th>\n",
       "      <th>ARHGEF10L</th>\n",
       "      <th>HIF3A</th>\n",
       "      <th>RNF17</th>\n",
       "      <th>RNF10</th>\n",
       "      <th>RNF11</th>\n",
       "      <th>RNF13</th>\n",
       "      <th>GTF2IP1</th>\n",
       "      <th>...</th>\n",
       "      <th>TULP2</th>\n",
       "      <th>NPY5R</th>\n",
       "      <th>GNGT2</th>\n",
       "      <th>GNGT1</th>\n",
       "      <th>TULP3</th>\n",
       "      <th>PTRF</th>\n",
       "      <th>BCL6B</th>\n",
       "      <th>GSTK1</th>\n",
       "      <th>SELP</th>\n",
       "      <th>SELS</th>\n",
       "    </tr>\n",
       "    <tr>\n",
       "      <th>sampleID</th>\n",
       "      <th></th>\n",
       "      <th></th>\n",
       "      <th></th>\n",
       "      <th></th>\n",
       "      <th></th>\n",
       "      <th></th>\n",
       "      <th></th>\n",
       "      <th></th>\n",
       "      <th></th>\n",
       "      <th></th>\n",
       "      <th></th>\n",
       "      <th></th>\n",
       "      <th></th>\n",
       "      <th></th>\n",
       "      <th></th>\n",
       "      <th></th>\n",
       "      <th></th>\n",
       "      <th></th>\n",
       "      <th></th>\n",
       "      <th></th>\n",
       "      <th></th>\n",
       "    </tr>\n",
       "  </thead>\n",
       "  <tbody>\n",
       "    <tr>\n",
       "      <th>TCGA-05-4244-01</th>\n",
       "      <td>1</td>\n",
       "      <td>70.0</td>\n",
       "      <td>1.0</td>\n",
       "      <td>-0.056592</td>\n",
       "      <td>2.128674</td>\n",
       "      <td>-0.531035</td>\n",
       "      <td>-0.185972</td>\n",
       "      <td>-0.190878</td>\n",
       "      <td>-0.11891</td>\n",
       "      <td>-0.659794</td>\n",
       "      <td>...</td>\n",
       "      <td>0.015022</td>\n",
       "      <td>-1.155117</td>\n",
       "      <td>0.528367</td>\n",
       "      <td>2.75061</td>\n",
       "      <td>0.428423</td>\n",
       "      <td>-0.639586</td>\n",
       "      <td>-0.195527</td>\n",
       "      <td>-0.324695</td>\n",
       "      <td>0.193167</td>\n",
       "      <td>-0.572812</td>\n",
       "    </tr>\n",
       "    <tr>\n",
       "      <th>TCGA-05-4249-01</th>\n",
       "      <td>1</td>\n",
       "      <td>67.0</td>\n",
       "      <td>1.0</td>\n",
       "      <td>-0.569692</td>\n",
       "      <td>-0.318126</td>\n",
       "      <td>-0.531035</td>\n",
       "      <td>0.237428</td>\n",
       "      <td>0.011822</td>\n",
       "      <td>-0.00611</td>\n",
       "      <td>1.018406</td>\n",
       "      <td>...</td>\n",
       "      <td>-0.031778</td>\n",
       "      <td>-0.393117</td>\n",
       "      <td>1.632467</td>\n",
       "      <td>2.33551</td>\n",
       "      <td>-0.145577</td>\n",
       "      <td>-0.997486</td>\n",
       "      <td>-0.276027</td>\n",
       "      <td>-1.219395</td>\n",
       "      <td>1.850967</td>\n",
       "      <td>-0.471212</td>\n",
       "    </tr>\n",
       "    <tr>\n",
       "      <th>TCGA-05-4250-01</th>\n",
       "      <td>1</td>\n",
       "      <td>79.0</td>\n",
       "      <td>0.0</td>\n",
       "      <td>-0.899992</td>\n",
       "      <td>-0.918126</td>\n",
       "      <td>-0.531035</td>\n",
       "      <td>-0.621472</td>\n",
       "      <td>-0.454178</td>\n",
       "      <td>0.58719</td>\n",
       "      <td>-0.198894</td>\n",
       "      <td>...</td>\n",
       "      <td>-0.748878</td>\n",
       "      <td>-1.173917</td>\n",
       "      <td>1.966367</td>\n",
       "      <td>-1.28139</td>\n",
       "      <td>-0.374877</td>\n",
       "      <td>0.959514</td>\n",
       "      <td>0.714373</td>\n",
       "      <td>0.112305</td>\n",
       "      <td>-0.532833</td>\n",
       "      <td>-0.003812</td>\n",
       "    </tr>\n",
       "    <tr>\n",
       "      <th>TCGA-05-4382-01</th>\n",
       "      <td>1</td>\n",
       "      <td>68.0</td>\n",
       "      <td>1.0</td>\n",
       "      <td>0.667508</td>\n",
       "      <td>3.895974</td>\n",
       "      <td>-0.221535</td>\n",
       "      <td>-0.367272</td>\n",
       "      <td>0.131822</td>\n",
       "      <td>0.97629</td>\n",
       "      <td>-0.494994</td>\n",
       "      <td>...</td>\n",
       "      <td>1.013722</td>\n",
       "      <td>-1.587117</td>\n",
       "      <td>0.359267</td>\n",
       "      <td>2.59051</td>\n",
       "      <td>0.806623</td>\n",
       "      <td>0.812114</td>\n",
       "      <td>0.367373</td>\n",
       "      <td>-0.494595</td>\n",
       "      <td>-1.062233</td>\n",
       "      <td>0.108588</td>\n",
       "    </tr>\n",
       "    <tr>\n",
       "      <th>TCGA-05-4384-01</th>\n",
       "      <td>1</td>\n",
       "      <td>66.0</td>\n",
       "      <td>1.0</td>\n",
       "      <td>-0.316892</td>\n",
       "      <td>2.380374</td>\n",
       "      <td>0.156865</td>\n",
       "      <td>0.232828</td>\n",
       "      <td>0.054822</td>\n",
       "      <td>0.27059</td>\n",
       "      <td>0.128606</td>\n",
       "      <td>...</td>\n",
       "      <td>-0.060978</td>\n",
       "      <td>-0.435417</td>\n",
       "      <td>1.111467</td>\n",
       "      <td>-1.28139</td>\n",
       "      <td>-0.128477</td>\n",
       "      <td>0.110214</td>\n",
       "      <td>1.469373</td>\n",
       "      <td>0.194605</td>\n",
       "      <td>1.404667</td>\n",
       "      <td>-0.290712</td>\n",
       "    </tr>\n",
       "  </tbody>\n",
       "</table>\n",
       "<p>5 rows × 20533 columns</p>\n",
       "</div>"
      ],
      "text/plain": [
       "                 Lung-Cancer   Age  Gender  ARHGEF10L     HIF3A     RNF17  \\\n",
       "sampleID                                                                    \n",
       "TCGA-05-4244-01            1  70.0     1.0  -0.056592  2.128674 -0.531035   \n",
       "TCGA-05-4249-01            1  67.0     1.0  -0.569692 -0.318126 -0.531035   \n",
       "TCGA-05-4250-01            1  79.0     0.0  -0.899992 -0.918126 -0.531035   \n",
       "TCGA-05-4382-01            1  68.0     1.0   0.667508  3.895974 -0.221535   \n",
       "TCGA-05-4384-01            1  66.0     1.0  -0.316892  2.380374  0.156865   \n",
       "\n",
       "                    RNF10     RNF11    RNF13   GTF2IP1  ...     TULP2  \\\n",
       "sampleID                                                ...             \n",
       "TCGA-05-4244-01 -0.185972 -0.190878 -0.11891 -0.659794  ...  0.015022   \n",
       "TCGA-05-4249-01  0.237428  0.011822 -0.00611  1.018406  ... -0.031778   \n",
       "TCGA-05-4250-01 -0.621472 -0.454178  0.58719 -0.198894  ... -0.748878   \n",
       "TCGA-05-4382-01 -0.367272  0.131822  0.97629 -0.494994  ...  1.013722   \n",
       "TCGA-05-4384-01  0.232828  0.054822  0.27059  0.128606  ... -0.060978   \n",
       "\n",
       "                    NPY5R     GNGT2    GNGT1     TULP3      PTRF     BCL6B  \\\n",
       "sampleID                                                                     \n",
       "TCGA-05-4244-01 -1.155117  0.528367  2.75061  0.428423 -0.639586 -0.195527   \n",
       "TCGA-05-4249-01 -0.393117  1.632467  2.33551 -0.145577 -0.997486 -0.276027   \n",
       "TCGA-05-4250-01 -1.173917  1.966367 -1.28139 -0.374877  0.959514  0.714373   \n",
       "TCGA-05-4382-01 -1.587117  0.359267  2.59051  0.806623  0.812114  0.367373   \n",
       "TCGA-05-4384-01 -0.435417  1.111467 -1.28139 -0.128477  0.110214  1.469373   \n",
       "\n",
       "                    GSTK1      SELP      SELS  \n",
       "sampleID                                       \n",
       "TCGA-05-4244-01 -0.324695  0.193167 -0.572812  \n",
       "TCGA-05-4249-01 -1.219395  1.850967 -0.471212  \n",
       "TCGA-05-4250-01  0.112305 -0.532833 -0.003812  \n",
       "TCGA-05-4382-01 -0.494595 -1.062233  0.108588  \n",
       "TCGA-05-4384-01  0.194605  1.404667 -0.290712  \n",
       "\n",
       "[5 rows x 20533 columns]"
      ]
     },
     "execution_count": 17,
     "metadata": {},
     "output_type": "execute_result"
    }
   ],
   "source": [
    "merged_data = selected_clinical_data.join(genetic_data.T).dropna()\n",
    "merged_data.head()"
   ]
  },
  {
   "cell_type": "code",
   "execution_count": null,
   "metadata": {
    "collapsed": false
   },
   "outputs": [
    {
     "name": "stdout",
     "output_type": "stream",
     "text": [
      "The merged dataset contains 1100 samples.\n"
     ]
    }
   ],
   "source": [
    "print(f\"The merged dataset contains {len(merged_data)} samples.\")"
   ]
  },
  {
   "cell_type": "code",
   "execution_count": null,
   "metadata": {
    "collapsed": false
   },
   "outputs": [
    {
     "name": "stdout",
     "output_type": "stream",
     "text": [
      "For the feature 'Lung-Cancer', the least common label is '0' with 110 occurrences. This represents 10.00% of the dataset.\n",
      "The distribution of the feature 'Lung-Cancer' in this dataset is fine.\n",
      "\n",
      "Quartiles for 'Age':\n",
      "  25%: 60.0\n",
      "  50% (Median): 67.0\n",
      "  75%: 73.0\n",
      "Min: 38.0\n",
      "Max: 90.0\n",
      "The distribution of the feature 'Age' in this dataset is fine.\n",
      "\n",
      "For the feature 'Gender', the least common label is '0.0' with 443 occurrences. This represents 40.27% of the dataset.\n",
      "The distribution of the feature 'Gender' in this dataset is fine.\n",
      "\n"
     ]
    },
    {
     "data": {
      "text/plain": [
       "False"
      ]
     },
     "execution_count": 19,
     "metadata": {},
     "output_type": "execute_result"
    }
   ],
   "source": [
    "is_trait_biased, merge_data = judge_and_remove_biased_features(merged_data, TRAIT, trait_type=trait_type)\n",
    "is_trait_biased"
   ]
  },
  {
   "cell_type": "code",
   "execution_count": null,
   "metadata": {
    "collapsed": false
   },
   "outputs": [],
   "source": [
    "merged_data.head()\n",
    "if not is_trait_biased:\n",
    "    merge_data.to_csv(os.path.join(OUTPUT_DIR, cohort+'.csv'), index=False)"
   ]
  },
  {
   "cell_type": "code",
   "execution_count": null,
   "metadata": {
    "collapsed": false
   },
   "outputs": [
    {
     "name": "stdout",
     "output_type": "stream",
     "text": [
      "A new JSON file was created at: ../../output1/Yuxuan/Lung-Cancer/cohort_info.json\n"
     ]
    }
   ],
   "source": [
    "save_cohort_info(cohort, JSON_PATH, is_available, is_trait_biased, merged_data)"
   ]
  },
  {
   "cell_type": "markdown",
   "metadata": {
    "ExecuteTime": {
     "end_time": "2023-12-28T21:28:38.028916303Z",
     "start_time": "2023-12-28T21:28:38.016245426Z"
    },
    "collapsed": false
   },
   "source": [
    "## 2.2. The GEO dataset"
   ]
  },
  {
   "cell_type": "markdown",
   "metadata": {
    "ExecuteTime": {
     "end_time": "2023-12-31T03:25:23.253882615Z",
     "start_time": "2023-12-31T03:25:23.244062710Z"
    },
    "collapsed": false
   },
   "source": [
    "In GEO, there may be one or multiple cohorts for a trait. Each cohort is identified by an accession number. We iterate over all accession numbers in the corresponding subdirectory, preprocess the cohort data, and save them to csv files."
   ]
  },
  {
   "cell_type": "code",
   "execution_count": 4,
   "metadata": {
    "ExecuteTime": {
     "end_time": "2024-01-02T01:02:59.503572381Z",
     "start_time": "2024-01-02T01:02:59.491400342Z"
    },
    "collapsed": false
   },
   "outputs": [
    {
     "data": {
      "text/plain": [
       "['GSE158385', 'GSE174555', 'GSE182081', 'GSE182101', 'GSE192767', 'GSE200864']"
      ]
     },
     "execution_count": 4,
     "metadata": {},
     "output_type": "execute_result"
    }
   ],
   "source": [
    "dataset = 'GEO'\n",
    "trait_subdir = \"Intellectual-Disability\"\n",
    "\n",
    "trait_path = os.path.join(DATA_ROOT, dataset, trait_subdir)\n",
    "os.listdir(trait_path)"
   ]
  },
  {
   "cell_type": "markdown",
   "metadata": {
    "ExecuteTime": {
     "end_time": "2023-12-31T03:39:42.634870142Z",
     "start_time": "2023-12-31T03:39:42.534093295Z"
    },
    "collapsed": false
   },
   "source": [
    "Repeat the below steps for all the accession numbers"
   ]
  },
  {
   "cell_type": "code",
   "execution_count": 11,
   "metadata": {},
   "outputs": [
    {
     "data": {
      "text/plain": [
       "('/Users/jacob/Documents\\\\GEO\\\\Intellectual-Disability\\\\GSE174555\\\\GSE174555_family.soft.gz',\n",
       " '/Users/jacob/Documents\\\\GEO\\\\Intellectual-Disability\\\\GSE174555\\\\GSE174555_series_matrix.txt.gz')"
      ]
     },
     "execution_count": 11,
     "metadata": {},
     "output_type": "execute_result"
    }
   ],
   "source": [
    "cohort = accession_num = \"GSE174555\"\n",
    "cohort_dir = os.path.join(trait_path, accession_num)\n",
    "soft_file, matrix_file = geo_get_relevant_filepaths(cohort_dir)\n",
    "soft_file, matrix_file"
   ]
  },
  {
   "cell_type": "markdown",
   "metadata": {
    "collapsed": false
   },
   "source": [
    "### Inital filtering and clinical data preprocessing"
   ]
  },
  {
   "cell_type": "code",
   "execution_count": 12,
   "metadata": {
    "ExecuteTime": {
     "end_time": "2024-01-02T01:03:01.634861460Z",
     "start_time": "2024-01-02T01:03:01.076370517Z"
    },
    "collapsed": false
   },
   "outputs": [
    {
     "name": "stdout",
     "output_type": "stream",
     "text": [
      "!Series_title\t\"DNA Methylation Alterations in Blood Cells of Toddlers with Down Syndrome\"\n",
      "!Series_summary\t\"Genome-wide DNA methylation profiling of whole blood cells. The Illumina Infinium HumanMethylation450 microarray was used. Two children's cohorts were studied: 17 children with Down syndrome (DS) and 17 typically developing children (TD)\"\n",
      "!Series_overall_design\t\"Bisulphite converted DNA from the 34 samples were hybridized to the Illumina Infinium HumanMethylation450 Beadchip.\"\n"
     ]
    }
   ],
   "source": [
    "background_prefixes = ['!Series_title', '!Series_summary', '!Series_overall_design']\n",
    "clinical_prefixes = ['!Sample_geo_accession', '!Sample_characteristics_ch1']\n",
    "\n",
    "background_info, clinical_data = get_background_and_clinical_data(matrix_file, background_prefixes, clinical_prefixes)\n",
    "print(background_info)"
   ]
  },
  {
   "cell_type": "code",
   "execution_count": 13,
   "metadata": {
    "ExecuteTime": {
     "end_time": "2024-01-02T01:03:01.642310454Z",
     "start_time": "2024-01-02T01:03:01.635048940Z"
    },
    "collapsed": false
   },
   "outputs": [
    {
     "data": {
      "text/html": [
       "<div>\n",
       "<style scoped>\n",
       "    .dataframe tbody tr th:only-of-type {\n",
       "        vertical-align: middle;\n",
       "    }\n",
       "\n",
       "    .dataframe tbody tr th {\n",
       "        vertical-align: top;\n",
       "    }\n",
       "\n",
       "    .dataframe thead th {\n",
       "        text-align: right;\n",
       "    }\n",
       "</style>\n",
       "<table border=\"1\" class=\"dataframe\">\n",
       "  <thead>\n",
       "    <tr style=\"text-align: right;\">\n",
       "      <th></th>\n",
       "      <th>!Sample_geo_accession</th>\n",
       "      <th>GSM5319587</th>\n",
       "      <th>GSM5319588</th>\n",
       "      <th>GSM5319589</th>\n",
       "      <th>GSM5319590</th>\n",
       "      <th>GSM5319591</th>\n",
       "      <th>GSM5319592</th>\n",
       "      <th>GSM5319593</th>\n",
       "      <th>GSM5319594</th>\n",
       "      <th>GSM5319595</th>\n",
       "      <th>...</th>\n",
       "      <th>GSM5319611</th>\n",
       "      <th>GSM5319612</th>\n",
       "      <th>GSM5319613</th>\n",
       "      <th>GSM5319614</th>\n",
       "      <th>GSM5319615</th>\n",
       "      <th>GSM5319616</th>\n",
       "      <th>GSM5319617</th>\n",
       "      <th>GSM5319618</th>\n",
       "      <th>GSM5319619</th>\n",
       "      <th>GSM5319620</th>\n",
       "    </tr>\n",
       "  </thead>\n",
       "  <tbody>\n",
       "    <tr>\n",
       "      <th>0</th>\n",
       "      <td>!Sample_characteristics_ch1</td>\n",
       "      <td>gender: Male</td>\n",
       "      <td>gender: Male</td>\n",
       "      <td>gender: Male</td>\n",
       "      <td>gender: Female</td>\n",
       "      <td>gender: Female</td>\n",
       "      <td>gender: Male</td>\n",
       "      <td>gender: Male</td>\n",
       "      <td>gender: Male</td>\n",
       "      <td>gender: Male</td>\n",
       "      <td>...</td>\n",
       "      <td>gender: Male</td>\n",
       "      <td>gender: Male</td>\n",
       "      <td>gender: Female</td>\n",
       "      <td>gender: Male</td>\n",
       "      <td>gender: Female</td>\n",
       "      <td>gender: Female</td>\n",
       "      <td>gender: Male</td>\n",
       "      <td>gender: Female</td>\n",
       "      <td>gender: Male</td>\n",
       "      <td>gender: Female</td>\n",
       "    </tr>\n",
       "    <tr>\n",
       "      <th>1</th>\n",
       "      <td>!Sample_characteristics_ch1</td>\n",
       "      <td>age: 37 mos.</td>\n",
       "      <td>age: 18.5 mos.</td>\n",
       "      <td>age: 38 mos.</td>\n",
       "      <td>age: 38 mos.</td>\n",
       "      <td>age: 25 mos.</td>\n",
       "      <td>age: 30 mos.</td>\n",
       "      <td>age: 39 mos.</td>\n",
       "      <td>age: 42.5 mos.</td>\n",
       "      <td>age: 42 mos.</td>\n",
       "      <td>...</td>\n",
       "      <td>age: 41 mos.</td>\n",
       "      <td>age: 21 mos.</td>\n",
       "      <td>age: 30 mos.</td>\n",
       "      <td>age: 10 mos.</td>\n",
       "      <td>age: 27 mos.</td>\n",
       "      <td>age: 27 mos.</td>\n",
       "      <td>age: 15 mos.</td>\n",
       "      <td>age: 54 mos.</td>\n",
       "      <td>age: 39 mos.</td>\n",
       "      <td>age: 39 mos.</td>\n",
       "    </tr>\n",
       "    <tr>\n",
       "      <th>2</th>\n",
       "      <td>!Sample_characteristics_ch1</td>\n",
       "      <td>tissue: whole blood</td>\n",
       "      <td>tissue: whole blood</td>\n",
       "      <td>tissue: whole blood</td>\n",
       "      <td>tissue: whole blood</td>\n",
       "      <td>tissue: whole blood</td>\n",
       "      <td>tissue: whole blood</td>\n",
       "      <td>tissue: whole blood</td>\n",
       "      <td>tissue: whole blood</td>\n",
       "      <td>tissue: whole blood</td>\n",
       "      <td>...</td>\n",
       "      <td>tissue: whole blood</td>\n",
       "      <td>tissue: whole blood</td>\n",
       "      <td>tissue: whole blood</td>\n",
       "      <td>tissue: whole blood</td>\n",
       "      <td>tissue: whole blood</td>\n",
       "      <td>tissue: whole blood</td>\n",
       "      <td>tissue: whole blood</td>\n",
       "      <td>tissue: whole blood</td>\n",
       "      <td>tissue: whole blood</td>\n",
       "      <td>tissue: whole blood</td>\n",
       "    </tr>\n",
       "    <tr>\n",
       "      <th>3</th>\n",
       "      <td>!Sample_characteristics_ch1</td>\n",
       "      <td>disease state: normal</td>\n",
       "      <td>disease state: Down syndrome (Trisomy 21)</td>\n",
       "      <td>disease state: normal</td>\n",
       "      <td>disease state: normal</td>\n",
       "      <td>disease state: Down syndrome (Trisomy 21)</td>\n",
       "      <td>disease state: normal</td>\n",
       "      <td>disease state: normal</td>\n",
       "      <td>disease state: Down syndrome (Trisomy 21)</td>\n",
       "      <td>disease state: normal</td>\n",
       "      <td>...</td>\n",
       "      <td>disease state: normal</td>\n",
       "      <td>disease state: normal</td>\n",
       "      <td>disease state: Down syndrome (Trisomy 21)</td>\n",
       "      <td>disease state: Down syndrome (Trisomy 21)</td>\n",
       "      <td>disease state: normal</td>\n",
       "      <td>disease state: normal</td>\n",
       "      <td>disease state: normal</td>\n",
       "      <td>disease state: Down syndrome (Trisomy 21)</td>\n",
       "      <td>disease state: Down syndrome (Trisomy 21)</td>\n",
       "      <td>disease state: normal</td>\n",
       "    </tr>\n",
       "  </tbody>\n",
       "</table>\n",
       "<p>4 rows × 35 columns</p>\n",
       "</div>"
      ],
      "text/plain": [
       "         !Sample_geo_accession             GSM5319587  \\\n",
       "0  !Sample_characteristics_ch1           gender: Male   \n",
       "1  !Sample_characteristics_ch1           age: 37 mos.   \n",
       "2  !Sample_characteristics_ch1    tissue: whole blood   \n",
       "3  !Sample_characteristics_ch1  disease state: normal   \n",
       "\n",
       "                                  GSM5319588             GSM5319589  \\\n",
       "0                               gender: Male           gender: Male   \n",
       "1                             age: 18.5 mos.           age: 38 mos.   \n",
       "2                        tissue: whole blood    tissue: whole blood   \n",
       "3  disease state: Down syndrome (Trisomy 21)  disease state: normal   \n",
       "\n",
       "              GSM5319590                                 GSM5319591  \\\n",
       "0         gender: Female                             gender: Female   \n",
       "1           age: 38 mos.                               age: 25 mos.   \n",
       "2    tissue: whole blood                        tissue: whole blood   \n",
       "3  disease state: normal  disease state: Down syndrome (Trisomy 21)   \n",
       "\n",
       "              GSM5319592             GSM5319593  \\\n",
       "0           gender: Male           gender: Male   \n",
       "1           age: 30 mos.           age: 39 mos.   \n",
       "2    tissue: whole blood    tissue: whole blood   \n",
       "3  disease state: normal  disease state: normal   \n",
       "\n",
       "                                  GSM5319594             GSM5319595  ...  \\\n",
       "0                               gender: Male           gender: Male  ...   \n",
       "1                             age: 42.5 mos.           age: 42 mos.  ...   \n",
       "2                        tissue: whole blood    tissue: whole blood  ...   \n",
       "3  disease state: Down syndrome (Trisomy 21)  disease state: normal  ...   \n",
       "\n",
       "              GSM5319611             GSM5319612  \\\n",
       "0           gender: Male           gender: Male   \n",
       "1           age: 41 mos.           age: 21 mos.   \n",
       "2    tissue: whole blood    tissue: whole blood   \n",
       "3  disease state: normal  disease state: normal   \n",
       "\n",
       "                                  GSM5319613  \\\n",
       "0                             gender: Female   \n",
       "1                               age: 30 mos.   \n",
       "2                        tissue: whole blood   \n",
       "3  disease state: Down syndrome (Trisomy 21)   \n",
       "\n",
       "                                  GSM5319614             GSM5319615  \\\n",
       "0                               gender: Male         gender: Female   \n",
       "1                               age: 10 mos.           age: 27 mos.   \n",
       "2                        tissue: whole blood    tissue: whole blood   \n",
       "3  disease state: Down syndrome (Trisomy 21)  disease state: normal   \n",
       "\n",
       "              GSM5319616             GSM5319617  \\\n",
       "0         gender: Female           gender: Male   \n",
       "1           age: 27 mos.           age: 15 mos.   \n",
       "2    tissue: whole blood    tissue: whole blood   \n",
       "3  disease state: normal  disease state: normal   \n",
       "\n",
       "                                  GSM5319618  \\\n",
       "0                             gender: Female   \n",
       "1                               age: 54 mos.   \n",
       "2                        tissue: whole blood   \n",
       "3  disease state: Down syndrome (Trisomy 21)   \n",
       "\n",
       "                                  GSM5319619             GSM5319620  \n",
       "0                               gender: Male         gender: Female  \n",
       "1                               age: 39 mos.           age: 39 mos.  \n",
       "2                        tissue: whole blood    tissue: whole blood  \n",
       "3  disease state: Down syndrome (Trisomy 21)  disease state: normal  \n",
       "\n",
       "[4 rows x 35 columns]"
      ]
     },
     "execution_count": 13,
     "metadata": {},
     "output_type": "execute_result"
    }
   ],
   "source": [
    "clinical_data.head()"
   ]
  },
  {
   "cell_type": "code",
   "execution_count": 14,
   "metadata": {
    "ExecuteTime": {
     "end_time": "2024-01-02T01:03:01.805026160Z",
     "start_time": "2024-01-02T01:03:01.804428154Z"
    },
    "collapsed": false
   },
   "outputs": [
    {
     "data": {
      "text/plain": [
       "{0: ['gender: Male', 'gender: Female'],\n",
       " 1: ['age: 37 mos.',\n",
       "  'age: 18.5 mos.',\n",
       "  'age: 38 mos.',\n",
       "  'age: 25 mos.',\n",
       "  'age: 30 mos.',\n",
       "  'age: 39 mos.',\n",
       "  'age: 42.5 mos.',\n",
       "  'age: 42 mos.',\n",
       "  'age: 23 mos.',\n",
       "  'age: 46 mos.',\n",
       "  'age: 6 mos.',\n",
       "  'age: 56 mos.',\n",
       "  'age: 27 mos.',\n",
       "  'age: 33 mos.',\n",
       "  'age: 28 mos.',\n",
       "  'age: 55 mos.',\n",
       "  'age: 20 mos.',\n",
       "  'age: 40 mos.',\n",
       "  'age: 29 mos.',\n",
       "  'age: 53 mos.',\n",
       "  'age: 41 mos.',\n",
       "  'age: 21 mos.',\n",
       "  'age: 10 mos.',\n",
       "  'age: 15 mos.',\n",
       "  'age: 54 mos.'],\n",
       " 2: ['tissue: whole blood'],\n",
       " 3: ['disease state: normal', 'disease state: Down syndrome (Trisomy 21)']}"
      ]
     },
     "execution_count": 14,
     "metadata": {},
     "output_type": "execute_result"
    }
   ],
   "source": [
    "clinical_data_unique = get_unique_values_by_row(clinical_data)\n",
    "clinical_data_unique"
   ]
  },
  {
   "cell_type": "markdown",
   "metadata": {
    "ExecuteTime": {
     "end_time": "2023-12-31T03:58:04.978204446Z",
     "start_time": "2023-12-31T03:58:04.922270095Z"
    },
    "collapsed": false
   },
   "source": [
    "Analyze the metadata to determine data relevance and find ways to extract the clinical data.\n",
    "Reference prompt:"
   ]
  },
  {
   "cell_type": "code",
   "execution_count": 15,
   "metadata": {
    "ExecuteTime": {
     "end_time": "2024-01-02T01:03:02.369775044Z",
     "start_time": "2024-01-02T01:03:02.356501629Z"
    },
    "collapsed": false
   },
   "outputs": [
    {
     "data": {
      "text/plain": [
       "'As a biomedical research team, we are selecting datasets to study the association between the human trait \\'Intellectual-Disability\\' and genetic factors, optionally considering the influence of age and gender. After searching the GEO database and parsing the matrix file of a series, we obtained background information and sample characteristics data. We will provide textual information about the dataset background, and a Python dictionary storing a list of unique values for each field of the sample characteristics data. Please carefully review the provided information and answer the following questions about this dataset:\\n1. Does this dataset contain gene expression data? (Note: Pure miRNA data is not suitable.)\\n2. For each of the traits \\'Intellectual-Disability\\', \\'age\\', and \\'gender\\', please address these points:\\n   (1) Is there human data available for this trait?\\n   (2) If so, identify the key in the sample characteristics dictionary where unique values of this trait is recorded. The key is an integer. The trait information might be explicitly recorded, or can be inferred from the field with some biomedical knowledge or understanding about the data collection process.\\n   (3) Choose an appropriate data type (either \\'continuous\\' or \\'binary\\') for each trait. Write a Python function to convert any given value of the trait to this data type. The function should handle inference about the trait value and convert unknown values to None.\\n   Name the functions \\'convert_trait\\', \\'convert_age\\', and \\'convert_gender\\', respectively.\\n\\nBackground information about the dataset:\\n!Series_title\\t\"DNA Methylation Alterations in Blood Cells of Toddlers with Down Syndrome\"\\n!Series_summary\\t\"Genome-wide DNA methylation profiling of whole blood cells. The Illumina Infinium HumanMethylation450 microarray was used. Two children\\'s cohorts were studied: 17 children with Down syndrome (DS) and 17 typically developing children (TD)\"\\n!Series_overall_design\\t\"Bisulphite converted DNA from the 34 samples were hybridized to the Illumina Infinium HumanMethylation450 Beadchip.\"\\n\\nSample characteristics dictionary (from \"!Sample_characteristics_ch1\", converted to a Python dictionary that stores the unique values for each field):\\n{0: [\\'gender: Male\\', \\'gender: Female\\'], 1: [\\'age: 37 mos.\\', \\'age: 18.5 mos.\\', \\'age: 38 mos.\\', \\'age: 25 mos.\\', \\'age: 30 mos.\\', \\'age: 39 mos.\\', \\'age: 42.5 mos.\\', \\'age: 42 mos.\\', \\'age: 23 mos.\\', \\'age: 46 mos.\\', \\'age: 6 mos.\\', \\'age: 56 mos.\\', \\'age: 27 mos.\\', \\'age: 33 mos.\\', \\'age: 28 mos.\\', \\'age: 55 mos.\\', \\'age: 20 mos.\\', \\'age: 40 mos.\\', \\'age: 29 mos.\\', \\'age: 53 mos.\\', \\'age: 41 mos.\\', \\'age: 21 mos.\\', \\'age: 10 mos.\\', \\'age: 15 mos.\\', \\'age: 54 mos.\\'], 2: [\\'tissue: whole blood\\'], 3: [\\'disease state: normal\\', \\'disease state: Down syndrome (Trisomy 21)\\']}\\n'"
      ]
     },
     "execution_count": 15,
     "metadata": {},
     "output_type": "execute_result"
    }
   ],
   "source": [
    "f'''As a biomedical research team, we are selecting datasets to study the association between the human trait \\'{TRAIT}\\' and genetic factors, optionally considering the influence of age and gender. After searching the GEO database and parsing the matrix file of a series, we obtained background information and sample characteristics data. We will provide textual information about the dataset background, and a Python dictionary storing a list of unique values for each field of the sample characteristics data. Please carefully review the provided information and answer the following questions about this dataset:\n",
    "1. Does this dataset contain gene expression data? (Note: Pure miRNA data is not suitable.)\n",
    "2. For each of the traits \\'{TRAIT}\\', 'age', and 'gender', please address these points:\n",
    "   (1) Is there human data available for this trait?\n",
    "   (2) If so, identify the key in the sample characteristics dictionary where unique values of this trait is recorded. The key is an integer. The trait information might be explicitly recorded, or can be inferred from the field with some biomedical knowledge or understanding about the data collection process.\n",
    "   (3) Choose an appropriate data type (either 'continuous' or 'binary') for each trait. Write a Python function to convert any given value of the trait to this data type. The function should handle inference about the trait value and convert unknown values to None.\n",
    "   Name the functions 'convert_trait', 'convert_age', and 'convert_gender', respectively.\n",
    "\n",
    "Background information about the dataset:\n",
    "{background_info}\n",
    "\n",
    "Sample characteristics dictionary (from \"!Sample_characteristics_ch1\", converted to a Python dictionary that stores the unique values for each field):\n",
    "{clinical_data_unique}\n",
    "'''"
   ]
  },
  {
   "cell_type": "markdown",
   "metadata": {
    "ExecuteTime": {
     "end_time": "2023-12-31T03:58:04.978240504Z",
     "start_time": "2023-12-31T03:58:04.922365324Z"
    },
    "collapsed": false
   },
   "source": [
    "Understand and verify the answer from GPT, to assign values to the below variables. Assign None to the 'row_id' variables if relevant data row was not found.\n",
    "Later we need to let GPT format its answer to automatically do these. But given the complexity of this step, let's grow some insight from the free-text answers for now."
   ]
  },
  {
   "cell_type": "code",
   "execution_count": 16,
   "metadata": {
    "ExecuteTime": {
     "end_time": "2024-01-02T01:03:03.079540570Z",
     "start_time": "2024-01-02T01:03:03.073638535Z"
    },
    "collapsed": false
   },
   "outputs": [],
   "source": [
    "is_gene_availabe = True\n",
    "trait_row = 3\n",
    "age_row = 1\n",
    "gender_row = 0\n",
    "\n",
    "trait_type = 'binary'"
   ]
  },
  {
   "cell_type": "code",
   "execution_count": 17,
   "metadata": {
    "ExecuteTime": {
     "end_time": "2024-01-02T01:03:03.572682163Z",
     "start_time": "2024-01-02T01:03:03.559775513Z"
    },
    "collapsed": false
   },
   "outputs": [],
   "source": [
    "is_available = is_gene_availabe and (trait_row is not None)\n",
    "if not is_available:\n",
    "    save_cohort_info(cohort, JSON_PATH, is_available)\n",
    "    print(\"This cohort is not usable. Please skip the following steps and jump to the next accession number.\")"
   ]
  },
  {
   "cell_type": "code",
   "execution_count": 20,
   "metadata": {
    "ExecuteTime": {
     "end_time": "2024-01-02T01:03:03.973964287Z",
     "start_time": "2024-01-02T01:03:03.964958096Z"
    },
    "collapsed": false
   },
   "outputs": [
    {
     "data": {
      "text/plain": [
       "(1, 23, 1)"
      ]
     },
     "execution_count": 20,
     "metadata": {},
     "output_type": "execute_result"
    }
   ],
   "source": [
    "def convert_trait(disease_state):\n",
    "    \"\"\"\n",
    "    Convert disease state to a binary representation for Down syndrome presence.\n",
    "    Down syndrome present -> 1, otherwise -> 0\n",
    "    \"\"\"\n",
    "    if disease_state == 'disease state: Down syndrome (Trisomy 21)':\n",
    "        return 1  # Down syndrome present\n",
    "    else:\n",
    "        return 0  # Down syndrome not present\n",
    "\n",
    "def convert_age(age_string):\n",
    "    \"\"\"\n",
    "    Convert age string to a numerical value.\n",
    "    \"\"\"\n",
    "    if age_string.startswith('age: '):\n",
    "        try:\n",
    "            # Extracting numeric part and stripping 'mos.' suffix\n",
    "            return int(age_string.split('age: ')[1].rstrip(' mos.'))\n",
    "        except ValueError:\n",
    "            return None  # In case of parsing error\n",
    "    else:\n",
    "        return None  # If age string does not follow expected format\n",
    "\n",
    "def convert_gender(gender_string):\n",
    "    \"\"\"\n",
    "    Convert gender string to a binary representation.\n",
    "    Female -> 0, Male -> 1, Unknown -> None\n",
    "    \"\"\"\n",
    "    if gender_string == 'gender: Female':\n",
    "        return 0\n",
    "    elif gender_string == 'gender: Male':\n",
    "        return 1\n",
    "    else:\n",
    "        return None  # In case of unknown gender\n",
    "\n",
    "# Example usage with corrections\n",
    "example_disease_state = 'disease state: Down syndrome (Trisomy 21)'\n",
    "example_age = 'age: 23 mos.'\n",
    "example_gender = 'gender: Male'\n",
    "\n",
    "converted_trait = convert_trait(example_disease_state)\n",
    "converted_age = convert_age(example_age)\n",
    "converted_gender = convert_gender(example_gender)\n",
    "\n",
    "converted_trait, converted_age, converted_gender\n"
   ]
  },
  {
   "cell_type": "code",
   "execution_count": 21,
   "metadata": {
    "ExecuteTime": {
     "end_time": "2024-01-02T01:03:04.637878352Z",
     "start_time": "2024-01-02T01:03:04.593886885Z"
    },
    "collapsed": false
   },
   "outputs": [
    {
     "name": "stderr",
     "output_type": "stream",
     "text": [
      "C:\\Users\\jacob\\AppData\\Local\\Temp\\ipykernel_19024\\2452503872.py:218: FutureWarning: DataFrame.applymap has been deprecated. Use DataFrame.map instead.\n",
      "  clinical_df = clinical_df.applymap(convert_fn)\n",
      "C:\\Users\\jacob\\AppData\\Local\\Temp\\ipykernel_19024\\2452503872.py:218: FutureWarning: DataFrame.applymap has been deprecated. Use DataFrame.map instead.\n",
      "  clinical_df = clinical_df.applymap(convert_fn)\n",
      "C:\\Users\\jacob\\AppData\\Local\\Temp\\ipykernel_19024\\2452503872.py:218: FutureWarning: DataFrame.applymap has been deprecated. Use DataFrame.map instead.\n",
      "  clinical_df = clinical_df.applymap(convert_fn)\n"
     ]
    },
    {
     "data": {
      "text/html": [
       "<div>\n",
       "<style scoped>\n",
       "    .dataframe tbody tr th:only-of-type {\n",
       "        vertical-align: middle;\n",
       "    }\n",
       "\n",
       "    .dataframe tbody tr th {\n",
       "        vertical-align: top;\n",
       "    }\n",
       "\n",
       "    .dataframe thead th {\n",
       "        text-align: right;\n",
       "    }\n",
       "</style>\n",
       "<table border=\"1\" class=\"dataframe\">\n",
       "  <thead>\n",
       "    <tr style=\"text-align: right;\">\n",
       "      <th></th>\n",
       "      <th>GSM5319587</th>\n",
       "      <th>GSM5319588</th>\n",
       "      <th>GSM5319589</th>\n",
       "      <th>GSM5319590</th>\n",
       "      <th>GSM5319591</th>\n",
       "      <th>GSM5319592</th>\n",
       "      <th>GSM5319593</th>\n",
       "      <th>GSM5319594</th>\n",
       "      <th>GSM5319595</th>\n",
       "      <th>GSM5319596</th>\n",
       "      <th>...</th>\n",
       "      <th>GSM5319611</th>\n",
       "      <th>GSM5319612</th>\n",
       "      <th>GSM5319613</th>\n",
       "      <th>GSM5319614</th>\n",
       "      <th>GSM5319615</th>\n",
       "      <th>GSM5319616</th>\n",
       "      <th>GSM5319617</th>\n",
       "      <th>GSM5319618</th>\n",
       "      <th>GSM5319619</th>\n",
       "      <th>GSM5319620</th>\n",
       "    </tr>\n",
       "  </thead>\n",
       "  <tbody>\n",
       "    <tr>\n",
       "      <th>Intellectual-Disability</th>\n",
       "      <td>0</td>\n",
       "      <td>1</td>\n",
       "      <td>0</td>\n",
       "      <td>0</td>\n",
       "      <td>1</td>\n",
       "      <td>0</td>\n",
       "      <td>0</td>\n",
       "      <td>1</td>\n",
       "      <td>0</td>\n",
       "      <td>1</td>\n",
       "      <td>...</td>\n",
       "      <td>0</td>\n",
       "      <td>0</td>\n",
       "      <td>1</td>\n",
       "      <td>1</td>\n",
       "      <td>0</td>\n",
       "      <td>0</td>\n",
       "      <td>0</td>\n",
       "      <td>1</td>\n",
       "      <td>1</td>\n",
       "      <td>0</td>\n",
       "    </tr>\n",
       "    <tr>\n",
       "      <th>Age</th>\n",
       "      <td>37</td>\n",
       "      <td>None</td>\n",
       "      <td>38</td>\n",
       "      <td>38</td>\n",
       "      <td>25</td>\n",
       "      <td>30</td>\n",
       "      <td>39</td>\n",
       "      <td>None</td>\n",
       "      <td>42</td>\n",
       "      <td>23</td>\n",
       "      <td>...</td>\n",
       "      <td>41</td>\n",
       "      <td>21</td>\n",
       "      <td>30</td>\n",
       "      <td>10</td>\n",
       "      <td>27</td>\n",
       "      <td>27</td>\n",
       "      <td>15</td>\n",
       "      <td>54</td>\n",
       "      <td>39</td>\n",
       "      <td>39</td>\n",
       "    </tr>\n",
       "    <tr>\n",
       "      <th>Gender</th>\n",
       "      <td>1</td>\n",
       "      <td>1</td>\n",
       "      <td>1</td>\n",
       "      <td>0</td>\n",
       "      <td>0</td>\n",
       "      <td>1</td>\n",
       "      <td>1</td>\n",
       "      <td>1</td>\n",
       "      <td>1</td>\n",
       "      <td>1</td>\n",
       "      <td>...</td>\n",
       "      <td>1</td>\n",
       "      <td>1</td>\n",
       "      <td>0</td>\n",
       "      <td>1</td>\n",
       "      <td>0</td>\n",
       "      <td>0</td>\n",
       "      <td>1</td>\n",
       "      <td>0</td>\n",
       "      <td>1</td>\n",
       "      <td>0</td>\n",
       "    </tr>\n",
       "  </tbody>\n",
       "</table>\n",
       "<p>3 rows × 34 columns</p>\n",
       "</div>"
      ],
      "text/plain": [
       "                         GSM5319587 GSM5319588  GSM5319589  GSM5319590  \\\n",
       "Intellectual-Disability           0          1           0           0   \n",
       "Age                              37       None          38          38   \n",
       "Gender                            1          1           1           0   \n",
       "\n",
       "                         GSM5319591  GSM5319592  GSM5319593 GSM5319594  \\\n",
       "Intellectual-Disability           1           0           0          1   \n",
       "Age                              25          30          39       None   \n",
       "Gender                            0           1           1          1   \n",
       "\n",
       "                         GSM5319595  GSM5319596  ...  GSM5319611  GSM5319612  \\\n",
       "Intellectual-Disability           0           1  ...           0           0   \n",
       "Age                              42          23  ...          41          21   \n",
       "Gender                            1           1  ...           1           1   \n",
       "\n",
       "                         GSM5319613  GSM5319614  GSM5319615  GSM5319616  \\\n",
       "Intellectual-Disability           1           1           0           0   \n",
       "Age                              30          10          27          27   \n",
       "Gender                            0           1           0           0   \n",
       "\n",
       "                         GSM5319617  GSM5319618  GSM5319619  GSM5319620  \n",
       "Intellectual-Disability           0           1           1           0  \n",
       "Age                              15          54          39          39  \n",
       "Gender                            1           0           1           0  \n",
       "\n",
       "[3 rows x 34 columns]"
      ]
     },
     "execution_count": 21,
     "metadata": {},
     "output_type": "execute_result"
    }
   ],
   "source": [
    "selected_clinical_data = geo_select_clinical_features(clinical_data, TRAIT, trait_row, convert_trait, age_row=age_row,\n",
    "                                                      convert_age=convert_age, gender_row=gender_row,\n",
    "                                                      convert_gender=convert_gender)\n",
    "selected_clinical_data.head()"
   ]
  },
  {
   "cell_type": "markdown",
   "metadata": {
    "ExecuteTime": {
     "end_time": "2023-12-31T03:58:04.978664193Z",
     "start_time": "2023-12-31T03:58:04.966117261Z"
    },
    "collapsed": false
   },
   "source": [
    "### Genetic data preprocessing and final filtering"
   ]
  },
  {
   "cell_type": "code",
   "execution_count": 22,
   "metadata": {
    "ExecuteTime": {
     "end_time": "2024-01-02T01:03:06.246474256Z",
     "start_time": "2024-01-02T01:03:05.670354792Z"
    },
    "collapsed": false
   },
   "outputs": [
    {
     "data": {
      "text/html": [
       "<div>\n",
       "<style scoped>\n",
       "    .dataframe tbody tr th:only-of-type {\n",
       "        vertical-align: middle;\n",
       "    }\n",
       "\n",
       "    .dataframe tbody tr th {\n",
       "        vertical-align: top;\n",
       "    }\n",
       "\n",
       "    .dataframe thead th {\n",
       "        text-align: right;\n",
       "    }\n",
       "</style>\n",
       "<table border=\"1\" class=\"dataframe\">\n",
       "  <thead>\n",
       "    <tr style=\"text-align: right;\">\n",
       "      <th></th>\n",
       "      <th>GSM5319587</th>\n",
       "      <th>GSM5319588</th>\n",
       "      <th>GSM5319589</th>\n",
       "      <th>GSM5319590</th>\n",
       "      <th>GSM5319591</th>\n",
       "      <th>GSM5319592</th>\n",
       "      <th>GSM5319593</th>\n",
       "      <th>GSM5319594</th>\n",
       "      <th>GSM5319595</th>\n",
       "      <th>GSM5319596</th>\n",
       "      <th>...</th>\n",
       "      <th>GSM5319611</th>\n",
       "      <th>GSM5319612</th>\n",
       "      <th>GSM5319613</th>\n",
       "      <th>GSM5319614</th>\n",
       "      <th>GSM5319615</th>\n",
       "      <th>GSM5319616</th>\n",
       "      <th>GSM5319617</th>\n",
       "      <th>GSM5319618</th>\n",
       "      <th>GSM5319619</th>\n",
       "      <th>GSM5319620</th>\n",
       "    </tr>\n",
       "    <tr>\n",
       "      <th>ID</th>\n",
       "      <th></th>\n",
       "      <th></th>\n",
       "      <th></th>\n",
       "      <th></th>\n",
       "      <th></th>\n",
       "      <th></th>\n",
       "      <th></th>\n",
       "      <th></th>\n",
       "      <th></th>\n",
       "      <th></th>\n",
       "      <th></th>\n",
       "      <th></th>\n",
       "      <th></th>\n",
       "      <th></th>\n",
       "      <th></th>\n",
       "      <th></th>\n",
       "      <th></th>\n",
       "      <th></th>\n",
       "      <th></th>\n",
       "      <th></th>\n",
       "      <th></th>\n",
       "    </tr>\n",
       "  </thead>\n",
       "  <tbody>\n",
       "    <tr>\n",
       "      <th>cg00000029</th>\n",
       "      <td>0.702123</td>\n",
       "      <td>0.693371</td>\n",
       "      <td>0.651761</td>\n",
       "      <td>0.537299</td>\n",
       "      <td>0.697758</td>\n",
       "      <td>0.627569</td>\n",
       "      <td>0.626706</td>\n",
       "      <td>0.670315</td>\n",
       "      <td>0.668162</td>\n",
       "      <td>0.726896</td>\n",
       "      <td>...</td>\n",
       "      <td>0.709689</td>\n",
       "      <td>0.741576</td>\n",
       "      <td>0.656961</td>\n",
       "      <td>0.705426</td>\n",
       "      <td>0.642242</td>\n",
       "      <td>0.631936</td>\n",
       "      <td>0.717294</td>\n",
       "      <td>0.700089</td>\n",
       "      <td>0.663972</td>\n",
       "      <td>0.637874</td>\n",
       "    </tr>\n",
       "    <tr>\n",
       "      <th>cg00000108</th>\n",
       "      <td>0.940050</td>\n",
       "      <td>0.952013</td>\n",
       "      <td>0.933736</td>\n",
       "      <td>0.943061</td>\n",
       "      <td>0.944789</td>\n",
       "      <td>0.938310</td>\n",
       "      <td>0.952335</td>\n",
       "      <td>0.954303</td>\n",
       "      <td>0.946712</td>\n",
       "      <td>0.946946</td>\n",
       "      <td>...</td>\n",
       "      <td>0.954381</td>\n",
       "      <td>0.950791</td>\n",
       "      <td>0.941069</td>\n",
       "      <td>0.943805</td>\n",
       "      <td>0.936292</td>\n",
       "      <td>0.941607</td>\n",
       "      <td>0.924271</td>\n",
       "      <td>0.951583</td>\n",
       "      <td>0.949621</td>\n",
       "      <td>0.953637</td>\n",
       "    </tr>\n",
       "    <tr>\n",
       "      <th>cg00000109</th>\n",
       "      <td>0.870106</td>\n",
       "      <td>0.884304</td>\n",
       "      <td>0.852759</td>\n",
       "      <td>0.884553</td>\n",
       "      <td>0.886271</td>\n",
       "      <td>0.862609</td>\n",
       "      <td>0.898164</td>\n",
       "      <td>0.880870</td>\n",
       "      <td>0.902023</td>\n",
       "      <td>0.883341</td>\n",
       "      <td>...</td>\n",
       "      <td>0.817840</td>\n",
       "      <td>0.856216</td>\n",
       "      <td>0.895021</td>\n",
       "      <td>0.829832</td>\n",
       "      <td>0.890488</td>\n",
       "      <td>0.882086</td>\n",
       "      <td>0.836403</td>\n",
       "      <td>0.865641</td>\n",
       "      <td>0.851272</td>\n",
       "      <td>0.852899</td>\n",
       "    </tr>\n",
       "    <tr>\n",
       "      <th>cg00000165</th>\n",
       "      <td>0.214293</td>\n",
       "      <td>0.234931</td>\n",
       "      <td>0.234927</td>\n",
       "      <td>0.196809</td>\n",
       "      <td>0.210050</td>\n",
       "      <td>0.137444</td>\n",
       "      <td>0.208228</td>\n",
       "      <td>0.215354</td>\n",
       "      <td>0.190145</td>\n",
       "      <td>0.210846</td>\n",
       "      <td>...</td>\n",
       "      <td>0.191836</td>\n",
       "      <td>0.163157</td>\n",
       "      <td>0.203063</td>\n",
       "      <td>0.265601</td>\n",
       "      <td>0.208227</td>\n",
       "      <td>0.232426</td>\n",
       "      <td>0.211118</td>\n",
       "      <td>0.243064</td>\n",
       "      <td>0.251954</td>\n",
       "      <td>0.196533</td>\n",
       "    </tr>\n",
       "    <tr>\n",
       "      <th>cg00000236</th>\n",
       "      <td>0.830271</td>\n",
       "      <td>0.817191</td>\n",
       "      <td>0.819122</td>\n",
       "      <td>0.731896</td>\n",
       "      <td>0.827410</td>\n",
       "      <td>0.824601</td>\n",
       "      <td>0.796264</td>\n",
       "      <td>0.860995</td>\n",
       "      <td>0.841182</td>\n",
       "      <td>0.856055</td>\n",
       "      <td>...</td>\n",
       "      <td>0.847079</td>\n",
       "      <td>0.849355</td>\n",
       "      <td>0.712480</td>\n",
       "      <td>0.789161</td>\n",
       "      <td>0.822209</td>\n",
       "      <td>0.822677</td>\n",
       "      <td>0.821650</td>\n",
       "      <td>0.746469</td>\n",
       "      <td>0.790336</td>\n",
       "      <td>0.755776</td>\n",
       "    </tr>\n",
       "  </tbody>\n",
       "</table>\n",
       "<p>5 rows × 34 columns</p>\n",
       "</div>"
      ],
      "text/plain": [
       "            GSM5319587  GSM5319588  GSM5319589  GSM5319590  GSM5319591  \\\n",
       "ID                                                                       \n",
       "cg00000029    0.702123    0.693371    0.651761    0.537299    0.697758   \n",
       "cg00000108    0.940050    0.952013    0.933736    0.943061    0.944789   \n",
       "cg00000109    0.870106    0.884304    0.852759    0.884553    0.886271   \n",
       "cg00000165    0.214293    0.234931    0.234927    0.196809    0.210050   \n",
       "cg00000236    0.830271    0.817191    0.819122    0.731896    0.827410   \n",
       "\n",
       "            GSM5319592  GSM5319593  GSM5319594  GSM5319595  GSM5319596  ...  \\\n",
       "ID                                                                      ...   \n",
       "cg00000029    0.627569    0.626706    0.670315    0.668162    0.726896  ...   \n",
       "cg00000108    0.938310    0.952335    0.954303    0.946712    0.946946  ...   \n",
       "cg00000109    0.862609    0.898164    0.880870    0.902023    0.883341  ...   \n",
       "cg00000165    0.137444    0.208228    0.215354    0.190145    0.210846  ...   \n",
       "cg00000236    0.824601    0.796264    0.860995    0.841182    0.856055  ...   \n",
       "\n",
       "            GSM5319611  GSM5319612  GSM5319613  GSM5319614  GSM5319615  \\\n",
       "ID                                                                       \n",
       "cg00000029    0.709689    0.741576    0.656961    0.705426    0.642242   \n",
       "cg00000108    0.954381    0.950791    0.941069    0.943805    0.936292   \n",
       "cg00000109    0.817840    0.856216    0.895021    0.829832    0.890488   \n",
       "cg00000165    0.191836    0.163157    0.203063    0.265601    0.208227   \n",
       "cg00000236    0.847079    0.849355    0.712480    0.789161    0.822209   \n",
       "\n",
       "            GSM5319616  GSM5319617  GSM5319618  GSM5319619  GSM5319620  \n",
       "ID                                                                      \n",
       "cg00000029    0.631936    0.717294    0.700089    0.663972    0.637874  \n",
       "cg00000108    0.941607    0.924271    0.951583    0.949621    0.953637  \n",
       "cg00000109    0.882086    0.836403    0.865641    0.851272    0.852899  \n",
       "cg00000165    0.232426    0.211118    0.243064    0.251954    0.196533  \n",
       "cg00000236    0.822677    0.821650    0.746469    0.790336    0.755776  \n",
       "\n",
       "[5 rows x 34 columns]"
      ]
     },
     "execution_count": 22,
     "metadata": {},
     "output_type": "execute_result"
    }
   ],
   "source": [
    "genetic_data = get_genetic_data(matrix_file)\n",
    "genetic_data.head()"
   ]
  },
  {
   "cell_type": "code",
   "execution_count": 23,
   "metadata": {
    "ExecuteTime": {
     "end_time": "2024-01-02T01:03:06.250833943Z",
     "start_time": "2024-01-02T01:03:06.246758837Z"
    },
    "collapsed": false
   },
   "outputs": [
    {
     "data": {
      "text/plain": [
       "['cg00000029',\n",
       " 'cg00000108',\n",
       " 'cg00000109',\n",
       " 'cg00000165',\n",
       " 'cg00000236',\n",
       " 'cg00000289',\n",
       " 'cg00000292',\n",
       " 'cg00000321',\n",
       " 'cg00000363',\n",
       " 'cg00000622',\n",
       " 'cg00000658',\n",
       " 'cg00000714',\n",
       " 'cg00000721',\n",
       " 'cg00000734',\n",
       " 'cg00000769',\n",
       " 'cg00000807',\n",
       " 'cg00000884',\n",
       " 'cg00000905',\n",
       " 'cg00000924',\n",
       " 'cg00000948']"
      ]
     },
     "execution_count": 23,
     "metadata": {},
     "output_type": "execute_result"
    }
   ],
   "source": [
    "gene_row_ids = genetic_data.index[:20].tolist()\n",
    "gene_row_ids"
   ]
  },
  {
   "cell_type": "markdown",
   "metadata": {
    "ExecuteTime": {
     "end_time": "2023-12-31T03:30:41.595335164Z",
     "start_time": "2023-12-31T03:30:41.513232329Z"
    },
    "collapsed": false
   },
   "source": [
    "Check if the gene dataset requires mapping to get the gene symbols corresponding to each data row."
   ]
  },
  {
   "cell_type": "markdown",
   "metadata": {
    "collapsed": false
   },
   "source": [
    "Reference prompt:"
   ]
  },
  {
   "cell_type": "code",
   "execution_count": 24,
   "metadata": {
    "ExecuteTime": {
     "end_time": "2024-01-02T01:03:07.586216481Z",
     "start_time": "2024-01-02T01:03:07.574527035Z"
    },
    "collapsed": false
   },
   "outputs": [
    {
     "data": {
      "text/plain": [
       "\"\\nBelow are the row headers of a gene expression dataset in GEO. Based on your biomedical knowledge, are they human gene symbols, or are they some other identifiers that need to be mapped to gene symbols? Your answer should be concluded by starting a new line and strictly following this format:\\nrequires_gene_mapping = (True or False)\\n\\nRow headers:\\n['cg00000029', 'cg00000108', 'cg00000109', 'cg00000165', 'cg00000236', 'cg00000289', 'cg00000292', 'cg00000321', 'cg00000363', 'cg00000622', 'cg00000658', 'cg00000714', 'cg00000721', 'cg00000734', 'cg00000769', 'cg00000807', 'cg00000884', 'cg00000905', 'cg00000924', 'cg00000948']\\n\""
      ]
     },
     "execution_count": 24,
     "metadata": {},
     "output_type": "execute_result"
    }
   ],
   "source": [
    "f'''\n",
    "Below are the row headers of a gene expression dataset in GEO. Based on your biomedical knowledge, are they human gene symbols, or are they some other identifiers that need to be mapped to gene symbols? Your answer should be concluded by starting a new line and strictly following this format:\n",
    "requires_gene_mapping = (True or False)\n",
    "\n",
    "Row headers:\n",
    "{gene_row_ids}\n",
    "'''"
   ]
  },
  {
   "cell_type": "markdown",
   "metadata": {
    "collapsed": false
   },
   "source": [
    "If not required, jump directly to the gene normalization step"
   ]
  },
  {
   "cell_type": "code",
   "execution_count": 25,
   "metadata": {
    "ExecuteTime": {
     "end_time": "2024-01-02T01:03:08.263712538Z",
     "start_time": "2024-01-02T01:03:08.260656314Z"
    },
    "collapsed": false
   },
   "outputs": [],
   "source": [
    "requires_gene_mapping = True"
   ]
  },
  {
   "cell_type": "code",
   "execution_count": 26,
   "metadata": {
    "ExecuteTime": {
     "end_time": "2024-01-02T01:03:33.822550310Z",
     "start_time": "2024-01-02T01:03:08.648958912Z"
    },
    "collapsed": false
   },
   "outputs": [
    {
     "name": "stdout",
     "output_type": "stream",
     "text": [
      "{'ID': ['cg00035864', 'cg00050873', 'cg00061679', 'cg00063477', 'cg00121626'], 'Name': ['cg00035864', 'cg00050873', 'cg00061679', 'cg00063477', 'cg00121626'], 'AddressA_ID': ['31729416', '32735311', '28780415', '16712347', '19779393'], 'AlleleA_ProbeSeq': ['AAAACACTAACAATCTTATCCACATAAACCCTTAAATTTATCTCAAATTC', 'ACAAAAAAACAACACACAACTATAATAATTTTTAAAATAAATAAACCCCA', 'AAAACATTAAAAAACTAATTCACTACTATTTAATTACTTTATTTTCCATC', 'TATTCTTCCACACAAAATACTAAACRTATATTTACAAAAATACTTCCATC', 'AAAACTAATAAAAATAACTTACAAACCAAATACTATACCCTACAACTCTC'], 'AddressB_ID': [nan, 31717405.0, nan, nan, nan], 'AlleleB_ProbeSeq': [nan, 'ACGAAAAAACAACGCACAACTATAATAATTTTTAAAATAAATAAACCCCG', nan, nan, nan], 'Infinium_Design_Type': ['II', 'I', 'II', 'II', 'II'], 'Next_Base': [nan, 'A', nan, nan, nan], 'Color_Channel': [nan, 'Red', nan, nan, nan], 'Forward_Sequence': ['AATCCAAAGATGATGGAGGAGTGCCCGCTCATGATGTGAAGTACCTGCTCAGCTGGAAAC[CG]AATTTGAGATAAATTCAAGGGTCTATGTGGACAAGACTGCTAGTGTCTCTCTCTGGATTG', 'TATCTCTGTCTGGCGAGGAGGCAACGCACAACTGTGGTGGTTTTTGGAGTGGGTGGACCC[CG]GCCAAGACGGCCTGGGCTGACCAGAGACGGGAGGCAGAAAAAGTGGGCAGGTGGTTGCAG', 'TCAACAAATGAGAGACATTGAAGAACTAATTCACTACTATTTGGTTACTTTATTTTCCAT[CG]AAGAAAACCTCTTTTTAAAAACTAACACATAAATAAAATGAACGAAGAACAAACTAAACG', 'CTCCTGTACTTGTTCATTAAATAATGATTCCTTGGATATACCAAGTCTGGATAGCGGATT[CG]ATGGAAGCATTTTTGTAAATATACGTTCAGTATTTTGTGTGGAAGAACACAATCTAGCTG', 'AGGTGAATGAAGAGACTAATGGGAGTGGCTTGCAAGCCAGGTACTGTGCCCTACAACTCT[CG]CGCTGCCACAAAAAGCCAATTAACGAAGCAAACTGTTTTATCTTTTCCTCTCCCCAGAAG'], 'Genome_Build': [37.0, 37.0, 37.0, 37.0, 37.0], 'CHR': ['Y', 'Y', 'Y', 'Y', 'Y'], 'MAPINFO': [8553009.0, 9363356.0, 25314171.0, 22741795.0, 21664296.0], 'SourceSeq': ['AGACACTAGCAGTCTTGTCCACATAGACCCTTGAATTTATCTCAAATTCG', 'CGGGGTCCACCCACTCCAAAAACCACCACAGTTGTGCGTTGCCTCCTCGC', 'CGATGGAAAATAAAGTAACCAAATAGTAGTGAATTAGTTCTTCAATGTCT', 'CGATGGAAGCATTTTTGTAAATATACGTTCAGTATTTTGTGTGGAAGAAC', 'AGACTAATGGGAGTGGCTTGCAAGCCAGGTACTGTGCCCTACAACTCTCG'], 'Chromosome_36': ['Y', 'Y', 'Y', 'Y', 'Y'], 'Coordinate_36': ['8613009', '9973356', '23723559', '21151183', '20123684'], 'Strand': ['F', 'R', 'R', 'F', 'R'], 'Probe_SNPs': [nan, nan, nan, 'rs9341313', nan], 'Probe_SNPs_10': [nan, nan, nan, 'rs13447379', nan], 'Random_Loci': [nan, nan, nan, nan, nan], 'Methyl27_Loci': [nan, nan, nan, nan, nan], 'UCSC_RefGene_Name': ['TTTY18', 'TSPY4;FAM197Y2', 'DAZ1;DAZ4;DAZ4', 'EIF1AY', 'BCORL2'], 'UCSC_RefGene_Accession': ['NR_001550', 'NM_001164471;NR_001553', 'NM_004081;NM_020420;NM_001005375', 'NM_004681', 'NR_002923'], 'UCSC_RefGene_Group': ['TSS1500', 'Body;TSS1500', 'Body;Body;Body', 'Body', 'Body'], 'UCSC_CpG_Islands_Name': [nan, 'chrY:9363680-9363943', nan, 'chrY:22737825-22738052', 'chrY:21664481-21665063'], 'Relation_to_UCSC_CpG_Island': [nan, 'N_Shore', nan, 'S_Shelf', 'N_Shore'], 'Phantom': [nan, nan, nan, nan, nan], 'DMR': [nan, nan, nan, nan, nan], 'Enhancer': [nan, nan, nan, nan, nan], 'HMM_Island': [nan, 'Y:9973136-9976273', nan, nan, nan], 'Regulatory_Feature_Name': [nan, nan, nan, nan, nan], 'Regulatory_Feature_Group': [nan, nan, nan, nan, nan], 'DHS': [nan, nan, nan, nan, nan], 'RANGE_START': [8553009.0, 9363356.0, 25314171.0, 22741795.0, 21664296.0], 'RANGE_END': [8553132.0, 9363479.0, 25314294.0, 22741918.0, 21664419.0], 'RANGE_GB': ['NC_000024.9', 'NC_000024.9', 'NC_000024.9', 'NC_000024.9', 'NC_000024.9'], 'SPOT_ID': [nan, nan, nan, nan, nan]}\n"
     ]
    }
   ],
   "source": [
    "if requires_gene_mapping:\n",
    "    gene_annotation = get_gene_annotation(soft_file)\n",
    "    gene_annotation_summary = preview_df(gene_annotation)\n",
    "    print(gene_annotation_summary)"
   ]
  },
  {
   "cell_type": "markdown",
   "metadata": {
    "ExecuteTime": {
     "end_time": "2023-12-31T03:58:04.978931927Z",
     "start_time": "2023-12-31T03:58:04.966328339Z"
    },
    "collapsed": false
   },
   "source": [
    "Observe the first few cells in the ID column of the gene annotation dataframe, to find the names of columns that store the gene probe IDs and gene symbols respectively.\n",
    "Reference prompt:"
   ]
  },
  {
   "cell_type": "code",
   "execution_count": 27,
   "metadata": {
    "ExecuteTime": {
     "end_time": "2024-01-02T01:03:33.822912446Z",
     "start_time": "2024-01-02T01:03:33.804491826Z"
    },
    "collapsed": false
   },
   "outputs": [
    {
     "name": "stdout",
     "output_type": "stream",
     "text": [
      "\n",
      "    As a biomedical research team, we extracted the gene annotation data from a series in the GEO database, and saved it to a Python dictionary. Please read the dictionary, and decide which key stores the ID of the probe, and which key stores the gene symbols. Please strict follow this format in your answer:\n",
      "    probe_name_key = 'key_name1'\n",
      "    gene_name_key = 'key_name2'\n",
      "\n",
      "    Gene annotation dictionary:\n",
      "    {'ID': ['cg00035864', 'cg00050873', 'cg00061679', 'cg00063477', 'cg00121626'], 'Name': ['cg00035864', 'cg00050873', 'cg00061679', 'cg00063477', 'cg00121626'], 'AddressA_ID': ['31729416', '32735311', '28780415', '16712347', '19779393'], 'AlleleA_ProbeSeq': ['AAAACACTAACAATCTTATCCACATAAACCCTTAAATTTATCTCAAATTC', 'ACAAAAAAACAACACACAACTATAATAATTTTTAAAATAAATAAACCCCA', 'AAAACATTAAAAAACTAATTCACTACTATTTAATTACTTTATTTTCCATC', 'TATTCTTCCACACAAAATACTAAACRTATATTTACAAAAATACTTCCATC', 'AAAACTAATAAAAATAACTTACAAACCAAATACTATACCCTACAACTCTC'], 'AddressB_ID': [nan, 31717405.0, nan, nan, nan], 'AlleleB_ProbeSeq': [nan, 'ACGAAAAAACAACGCACAACTATAATAATTTTTAAAATAAATAAACCCCG', nan, nan, nan], 'Infinium_Design_Type': ['II', 'I', 'II', 'II', 'II'], 'Next_Base': [nan, 'A', nan, nan, nan], 'Color_Channel': [nan, 'Red', nan, nan, nan], 'Forward_Sequence': ['AATCCAAAGATGATGGAGGAGTGCCCGCTCATGATGTGAAGTACCTGCTCAGCTGGAAAC[CG]AATTTGAGATAAATTCAAGGGTCTATGTGGACAAGACTGCTAGTGTCTCTCTCTGGATTG', 'TATCTCTGTCTGGCGAGGAGGCAACGCACAACTGTGGTGGTTTTTGGAGTGGGTGGACCC[CG]GCCAAGACGGCCTGGGCTGACCAGAGACGGGAGGCAGAAAAAGTGGGCAGGTGGTTGCAG', 'TCAACAAATGAGAGACATTGAAGAACTAATTCACTACTATTTGGTTACTTTATTTTCCAT[CG]AAGAAAACCTCTTTTTAAAAACTAACACATAAATAAAATGAACGAAGAACAAACTAAACG', 'CTCCTGTACTTGTTCATTAAATAATGATTCCTTGGATATACCAAGTCTGGATAGCGGATT[CG]ATGGAAGCATTTTTGTAAATATACGTTCAGTATTTTGTGTGGAAGAACACAATCTAGCTG', 'AGGTGAATGAAGAGACTAATGGGAGTGGCTTGCAAGCCAGGTACTGTGCCCTACAACTCT[CG]CGCTGCCACAAAAAGCCAATTAACGAAGCAAACTGTTTTATCTTTTCCTCTCCCCAGAAG'], 'Genome_Build': [37.0, 37.0, 37.0, 37.0, 37.0], 'CHR': ['Y', 'Y', 'Y', 'Y', 'Y'], 'MAPINFO': [8553009.0, 9363356.0, 25314171.0, 22741795.0, 21664296.0], 'SourceSeq': ['AGACACTAGCAGTCTTGTCCACATAGACCCTTGAATTTATCTCAAATTCG', 'CGGGGTCCACCCACTCCAAAAACCACCACAGTTGTGCGTTGCCTCCTCGC', 'CGATGGAAAATAAAGTAACCAAATAGTAGTGAATTAGTTCTTCAATGTCT', 'CGATGGAAGCATTTTTGTAAATATACGTTCAGTATTTTGTGTGGAAGAAC', 'AGACTAATGGGAGTGGCTTGCAAGCCAGGTACTGTGCCCTACAACTCTCG'], 'Chromosome_36': ['Y', 'Y', 'Y', 'Y', 'Y'], 'Coordinate_36': ['8613009', '9973356', '23723559', '21151183', '20123684'], 'Strand': ['F', 'R', 'R', 'F', 'R'], 'Probe_SNPs': [nan, nan, nan, 'rs9341313', nan], 'Probe_SNPs_10': [nan, nan, nan, 'rs13447379', nan], 'Random_Loci': [nan, nan, nan, nan, nan], 'Methyl27_Loci': [nan, nan, nan, nan, nan], 'UCSC_RefGene_Name': ['TTTY18', 'TSPY4;FAM197Y2', 'DAZ1;DAZ4;DAZ4', 'EIF1AY', 'BCORL2'], 'UCSC_RefGene_Accession': ['NR_001550', 'NM_001164471;NR_001553', 'NM_004081;NM_020420;NM_001005375', 'NM_004681', 'NR_002923'], 'UCSC_RefGene_Group': ['TSS1500', 'Body;TSS1500', 'Body;Body;Body', 'Body', 'Body'], 'UCSC_CpG_Islands_Name': [nan, 'chrY:9363680-9363943', nan, 'chrY:22737825-22738052', 'chrY:21664481-21665063'], 'Relation_to_UCSC_CpG_Island': [nan, 'N_Shore', nan, 'S_Shelf', 'N_Shore'], 'Phantom': [nan, nan, nan, nan, nan], 'DMR': [nan, nan, nan, nan, nan], 'Enhancer': [nan, nan, nan, nan, nan], 'HMM_Island': [nan, 'Y:9973136-9976273', nan, nan, nan], 'Regulatory_Feature_Name': [nan, nan, nan, nan, nan], 'Regulatory_Feature_Group': [nan, nan, nan, nan, nan], 'DHS': [nan, nan, nan, nan, nan], 'RANGE_START': [8553009.0, 9363356.0, 25314171.0, 22741795.0, 21664296.0], 'RANGE_END': [8553132.0, 9363479.0, 25314294.0, 22741918.0, 21664419.0], 'RANGE_GB': ['NC_000024.9', 'NC_000024.9', 'NC_000024.9', 'NC_000024.9', 'NC_000024.9'], 'SPOT_ID': [nan, nan, nan, nan, nan]}\n",
      "    \n"
     ]
    }
   ],
   "source": [
    "if requires_gene_mapping:\n",
    "    print(f'''\n",
    "    As a biomedical research team, we extracted the gene annotation data from a series in the GEO database, and saved it to a Python dictionary. Please read the dictionary, and decide which key stores the ID of the probe, and which key stores the gene symbols. Please strict follow this format in your answer:\n",
    "    probe_name_key = 'key_name1'\n",
    "    gene_name_key = 'key_name2'\n",
    "\n",
    "    Gene annotation dictionary:\n",
    "    {gene_annotation_summary}\n",
    "    ''')"
   ]
  },
  {
   "cell_type": "code",
   "execution_count": 28,
   "metadata": {
    "ExecuteTime": {
     "end_time": "2024-01-02T01:03:35.113359369Z",
     "start_time": "2024-01-02T01:03:33.804666371Z"
    },
    "collapsed": false
   },
   "outputs": [],
   "source": [
    "if requires_gene_mapping:\n",
    "    probe_id_key = 'ID'\n",
    "    gene_symb_key = 'UCSC_RefGene_Name'\n",
    "    gene_mapping = get_gene_mapping(gene_annotation, probe_id_key, gene_symb_key)\n",
    "    genetic_data = apply_gene_mapping(genetic_data, gene_mapping)"
   ]
  },
  {
   "cell_type": "code",
   "execution_count": 29,
   "metadata": {
    "ExecuteTime": {
     "end_time": "2024-01-02T01:03:35.156584675Z",
     "start_time": "2024-01-02T01:03:35.114652593Z"
    },
    "collapsed": false
   },
   "outputs": [],
   "source": [
    "if NORMALIZE_GENE:\n",
    "    genetic_data = normalize_gene_symbols_in_index(genetic_data)"
   ]
  },
  {
   "cell_type": "code",
   "execution_count": 30,
   "metadata": {
    "ExecuteTime": {
     "end_time": "2024-01-02T01:03:35.158174021Z",
     "start_time": "2024-01-02T01:03:35.156777134Z"
    },
    "collapsed": false
   },
   "outputs": [],
   "source": [
    "merged_data = geo_merge_clinical_genetic_data(selected_clinical_data, genetic_data)\n",
    "# The preprocessing runs through, which means is_available should be True\n",
    "is_available = True"
   ]
  },
  {
   "cell_type": "code",
   "execution_count": 31,
   "metadata": {
    "ExecuteTime": {
     "end_time": "2024-01-02T01:03:35.158378853Z",
     "start_time": "2024-01-02T01:03:35.156895194Z"
    },
    "collapsed": false
   },
   "outputs": [
    {
     "name": "stdout",
     "output_type": "stream",
     "text": [
      "The merged dataset contains 32 samples.\n"
     ]
    }
   ],
   "source": [
    "print(f\"The merged dataset contains {len(merged_data)} samples.\")"
   ]
  },
  {
   "cell_type": "code",
   "execution_count": 32,
   "metadata": {
    "ExecuteTime": {
     "end_time": "2024-01-02T01:03:35.158646754Z",
     "start_time": "2024-01-02T01:03:35.156975304Z"
    },
    "collapsed": false
   },
   "outputs": [
    {
     "name": "stdout",
     "output_type": "stream",
     "text": [
      "For the feature 'Intellectual-Disability', the least common label is '1.0' with 15 occurrences. This represents 46.88% of the dataset.\n",
      "The distribution of the feature 'Intellectual-Disability' in this dataset is fine.\n",
      "\n",
      "Quartiles for 'Age':\n",
      "  25%: 26.5\n",
      "  50% (Median): 31.5\n",
      "  75%: 40.25\n",
      "Min: 6.0\n",
      "Max: 56.0\n",
      "The distribution of the feature 'Age' in this dataset is fine.\n",
      "\n",
      "For the feature 'Gender', the least common label is '0.0' with 12 occurrences. This represents 37.50% of the dataset.\n",
      "The distribution of the feature 'Gender' in this dataset is fine.\n",
      "\n"
     ]
    },
    {
     "data": {
      "text/plain": [
       "False"
      ]
     },
     "execution_count": 32,
     "metadata": {},
     "output_type": "execute_result"
    }
   ],
   "source": [
    "is_trait_biased, merged_data = judge_and_remove_biased_features(merged_data, TRAIT, trait_type=trait_type)\n",
    "is_trait_biased"
   ]
  },
  {
   "cell_type": "code",
   "execution_count": 34,
   "metadata": {
    "ExecuteTime": {
     "end_time": "2024-01-02T01:03:35.158803015Z",
     "start_time": "2024-01-02T01:03:35.157063388Z"
    },
    "collapsed": false
   },
   "outputs": [],
   "source": [
    "save_cohort_info(cohort, JSON_PATH, is_available, is_trait_biased, merged_data, note='')"
   ]
  },
  {
   "cell_type": "code",
   "execution_count": 35,
   "metadata": {
    "ExecuteTime": {
     "end_time": "2024-01-02T01:03:36.004312476Z",
     "start_time": "2024-01-02T01:03:35.157165158Z"
    },
    "collapsed": false
   },
   "outputs": [],
   "source": [
    "merged_data.head()\n",
    "if not is_trait_biased:\n",
    "    merged_data.to_csv(os.path.join(OUTPUT_DIR, cohort+'.csv'), index=False)"
   ]
  },
  {
   "cell_type": "markdown",
   "metadata": {
    "ExecuteTime": {
     "end_time": "2023-12-31T03:58:22.271683755Z",
     "start_time": "2023-12-31T03:58:22.246557674Z"
    },
    "id": "-MTPhRGxJV7I"
   },
   "source": [
    "### 3. Do regression & Cross Validation"
   ]
  },
  {
   "cell_type": "code",
   "execution_count": 34,
   "metadata": {
    "ExecuteTime": {
     "end_time": "2024-01-02T01:03:36.048788605Z",
     "start_time": "2024-01-02T01:03:36.005925887Z"
    },
    "collapsed": false
   },
   "outputs": [],
   "source": [
    "from utils import *"
   ]
  },
  {
   "cell_type": "code",
   "execution_count": 36,
   "metadata": {
    "ExecuteTime": {
     "end_time": "2024-01-02T01:03:36.049183603Z",
     "start_time": "2024-01-02T01:03:36.048440305Z"
    },
    "collapsed": false
   },
   "outputs": [
    {
     "data": {
      "text/plain": [
       "'GSE174555'"
      ]
     },
     "execution_count": 36,
     "metadata": {},
     "output_type": "execute_result"
    }
   ],
   "source": [
    "best_cohort, ranked_df = filter_and_rank_cohorts(JSON_PATH, 'has_age')\n",
    "best_cohort"
   ]
  },
  {
   "cell_type": "code",
   "execution_count": 37,
   "metadata": {
    "ExecuteTime": {
     "end_time": "2024-01-02T01:03:36.049430313Z",
     "start_time": "2024-01-02T01:03:36.048984361Z"
    },
    "collapsed": false
   },
   "outputs": [
    {
     "data": {
      "text/html": [
       "<div>\n",
       "<style scoped>\n",
       "    .dataframe tbody tr th:only-of-type {\n",
       "        vertical-align: middle;\n",
       "    }\n",
       "\n",
       "    .dataframe tbody tr th {\n",
       "        vertical-align: top;\n",
       "    }\n",
       "\n",
       "    .dataframe thead th {\n",
       "        text-align: right;\n",
       "    }\n",
       "</style>\n",
       "<table border=\"1\" class=\"dataframe\">\n",
       "  <thead>\n",
       "    <tr style=\"text-align: right;\">\n",
       "      <th></th>\n",
       "      <th>cohort_id</th>\n",
       "      <th>is_usable</th>\n",
       "      <th>is_available</th>\n",
       "      <th>is_biased</th>\n",
       "      <th>has_age</th>\n",
       "      <th>has_gender</th>\n",
       "      <th>sample_size</th>\n",
       "      <th>note</th>\n",
       "    </tr>\n",
       "  </thead>\n",
       "  <tbody>\n",
       "    <tr>\n",
       "      <th>0</th>\n",
       "      <td>GSE174555</td>\n",
       "      <td>True</td>\n",
       "      <td>True</td>\n",
       "      <td>False</td>\n",
       "      <td>True</td>\n",
       "      <td>True</td>\n",
       "      <td>32</td>\n",
       "      <td></td>\n",
       "    </tr>\n",
       "  </tbody>\n",
       "</table>\n",
       "</div>"
      ],
      "text/plain": [
       "   cohort_id  is_usable  is_available  is_biased  has_age  has_gender  \\\n",
       "0  GSE174555       True          True      False     True        True   \n",
       "\n",
       "   sample_size note  \n",
       "0           32       "
      ]
     },
     "execution_count": 37,
     "metadata": {},
     "output_type": "execute_result"
    }
   ],
   "source": [
    "ranked_df.head()"
   ]
  },
  {
   "cell_type": "code",
   "execution_count": 38,
   "metadata": {
    "ExecuteTime": {
     "end_time": "2024-01-02T01:03:36.345375576Z",
     "start_time": "2024-01-02T01:03:36.049289340Z"
    },
    "collapsed": false
   },
   "outputs": [],
   "source": [
    "ck=100\n",
    "listq=[]\n",
    "for df in pd.read_csv(os.path.join(OUTPUT_DIR, best_cohort+'.csv'),chunksize=ck):\n",
    "    listq.append(df)\n",
    "merged_data = pd.concat(listq)\n",
    "#merged_data = pd.read_csv(os.path.join(OUTPUT_DIR, best_cohort+'.csv'))"
   ]
  },
  {
   "cell_type": "code",
   "execution_count": 39,
   "metadata": {
    "ExecuteTime": {
     "end_time": "2024-01-02T01:03:36.400788548Z",
     "start_time": "2024-01-02T01:03:36.355439168Z"
    },
    "collapsed": false
   },
   "outputs": [
    {
     "data": {
      "text/html": [
       "<div>\n",
       "<style scoped>\n",
       "    .dataframe tbody tr th:only-of-type {\n",
       "        vertical-align: middle;\n",
       "    }\n",
       "\n",
       "    .dataframe tbody tr th {\n",
       "        vertical-align: top;\n",
       "    }\n",
       "\n",
       "    .dataframe thead th {\n",
       "        text-align: right;\n",
       "    }\n",
       "</style>\n",
       "<table border=\"1\" class=\"dataframe\">\n",
       "  <thead>\n",
       "    <tr style=\"text-align: right;\">\n",
       "      <th></th>\n",
       "      <th>Intellectual-Disability</th>\n",
       "      <th>Age</th>\n",
       "      <th>Gender</th>\n",
       "      <th>A1BG</th>\n",
       "      <th>A1CF</th>\n",
       "      <th>A2M</th>\n",
       "      <th>A2ML1</th>\n",
       "      <th>A4GALT</th>\n",
       "      <th>A4GNT</th>\n",
       "      <th>AAA1</th>\n",
       "      <th>...</th>\n",
       "      <th>ZWILCH</th>\n",
       "      <th>ZWINT</th>\n",
       "      <th>ZXDA</th>\n",
       "      <th>ZXDB</th>\n",
       "      <th>ZXDC</th>\n",
       "      <th>ZYG11A</th>\n",
       "      <th>ZYG11B</th>\n",
       "      <th>ZYX</th>\n",
       "      <th>ZZEF1</th>\n",
       "      <th>ZZZ3</th>\n",
       "    </tr>\n",
       "  </thead>\n",
       "  <tbody>\n",
       "    <tr>\n",
       "      <th>0</th>\n",
       "      <td>0.0</td>\n",
       "      <td>37.0</td>\n",
       "      <td>1.0</td>\n",
       "      <td>0.590116</td>\n",
       "      <td>0.850843</td>\n",
       "      <td>0.799175</td>\n",
       "      <td>0.861421</td>\n",
       "      <td>0.412644</td>\n",
       "      <td>0.800985</td>\n",
       "      <td>0.833241</td>\n",
       "      <td>...</td>\n",
       "      <td>0.271460</td>\n",
       "      <td>0.101780</td>\n",
       "      <td>0.341449</td>\n",
       "      <td>0.471532</td>\n",
       "      <td>0.334077</td>\n",
       "      <td>0.557670</td>\n",
       "      <td>0.538319</td>\n",
       "      <td>0.351191</td>\n",
       "      <td>0.500098</td>\n",
       "      <td>0.198641</td>\n",
       "    </tr>\n",
       "    <tr>\n",
       "      <th>1</th>\n",
       "      <td>0.0</td>\n",
       "      <td>38.0</td>\n",
       "      <td>1.0</td>\n",
       "      <td>0.564490</td>\n",
       "      <td>0.878111</td>\n",
       "      <td>0.788008</td>\n",
       "      <td>0.860366</td>\n",
       "      <td>0.422047</td>\n",
       "      <td>0.794331</td>\n",
       "      <td>0.838132</td>\n",
       "      <td>...</td>\n",
       "      <td>0.269775</td>\n",
       "      <td>0.096716</td>\n",
       "      <td>0.303264</td>\n",
       "      <td>0.474052</td>\n",
       "      <td>0.345844</td>\n",
       "      <td>0.547580</td>\n",
       "      <td>0.520090</td>\n",
       "      <td>0.362980</td>\n",
       "      <td>0.499147</td>\n",
       "      <td>0.194963</td>\n",
       "    </tr>\n",
       "    <tr>\n",
       "      <th>2</th>\n",
       "      <td>0.0</td>\n",
       "      <td>38.0</td>\n",
       "      <td>0.0</td>\n",
       "      <td>0.587041</td>\n",
       "      <td>0.853657</td>\n",
       "      <td>0.795699</td>\n",
       "      <td>0.851574</td>\n",
       "      <td>0.418329</td>\n",
       "      <td>0.793030</td>\n",
       "      <td>0.825547</td>\n",
       "      <td>...</td>\n",
       "      <td>0.275054</td>\n",
       "      <td>0.110712</td>\n",
       "      <td>0.443794</td>\n",
       "      <td>0.541082</td>\n",
       "      <td>0.307189</td>\n",
       "      <td>0.511284</td>\n",
       "      <td>0.549419</td>\n",
       "      <td>0.322107</td>\n",
       "      <td>0.502943</td>\n",
       "      <td>0.194256</td>\n",
       "    </tr>\n",
       "    <tr>\n",
       "      <th>3</th>\n",
       "      <td>1.0</td>\n",
       "      <td>25.0</td>\n",
       "      <td>0.0</td>\n",
       "      <td>0.636154</td>\n",
       "      <td>0.852854</td>\n",
       "      <td>0.797266</td>\n",
       "      <td>0.843243</td>\n",
       "      <td>0.405989</td>\n",
       "      <td>0.759727</td>\n",
       "      <td>0.836518</td>\n",
       "      <td>...</td>\n",
       "      <td>0.265513</td>\n",
       "      <td>0.098102</td>\n",
       "      <td>0.455131</td>\n",
       "      <td>0.556389</td>\n",
       "      <td>0.330251</td>\n",
       "      <td>0.532812</td>\n",
       "      <td>0.559010</td>\n",
       "      <td>0.339559</td>\n",
       "      <td>0.494434</td>\n",
       "      <td>0.189841</td>\n",
       "    </tr>\n",
       "    <tr>\n",
       "      <th>4</th>\n",
       "      <td>0.0</td>\n",
       "      <td>30.0</td>\n",
       "      <td>1.0</td>\n",
       "      <td>0.574658</td>\n",
       "      <td>0.828747</td>\n",
       "      <td>0.782130</td>\n",
       "      <td>0.851762</td>\n",
       "      <td>0.425464</td>\n",
       "      <td>0.765987</td>\n",
       "      <td>0.817494</td>\n",
       "      <td>...</td>\n",
       "      <td>0.284233</td>\n",
       "      <td>0.106924</td>\n",
       "      <td>0.304203</td>\n",
       "      <td>0.453697</td>\n",
       "      <td>0.335481</td>\n",
       "      <td>0.519739</td>\n",
       "      <td>0.557386</td>\n",
       "      <td>0.342218</td>\n",
       "      <td>0.503108</td>\n",
       "      <td>0.199056</td>\n",
       "    </tr>\n",
       "  </tbody>\n",
       "</table>\n",
       "<p>5 rows × 17845 columns</p>\n",
       "</div>"
      ],
      "text/plain": [
       "   Intellectual-Disability   Age  Gender      A1BG      A1CF       A2M  \\\n",
       "0                      0.0  37.0     1.0  0.590116  0.850843  0.799175   \n",
       "1                      0.0  38.0     1.0  0.564490  0.878111  0.788008   \n",
       "2                      0.0  38.0     0.0  0.587041  0.853657  0.795699   \n",
       "3                      1.0  25.0     0.0  0.636154  0.852854  0.797266   \n",
       "4                      0.0  30.0     1.0  0.574658  0.828747  0.782130   \n",
       "\n",
       "      A2ML1    A4GALT     A4GNT      AAA1  ...    ZWILCH     ZWINT      ZXDA  \\\n",
       "0  0.861421  0.412644  0.800985  0.833241  ...  0.271460  0.101780  0.341449   \n",
       "1  0.860366  0.422047  0.794331  0.838132  ...  0.269775  0.096716  0.303264   \n",
       "2  0.851574  0.418329  0.793030  0.825547  ...  0.275054  0.110712  0.443794   \n",
       "3  0.843243  0.405989  0.759727  0.836518  ...  0.265513  0.098102  0.455131   \n",
       "4  0.851762  0.425464  0.765987  0.817494  ...  0.284233  0.106924  0.304203   \n",
       "\n",
       "       ZXDB      ZXDC    ZYG11A    ZYG11B       ZYX     ZZEF1      ZZZ3  \n",
       "0  0.471532  0.334077  0.557670  0.538319  0.351191  0.500098  0.198641  \n",
       "1  0.474052  0.345844  0.547580  0.520090  0.362980  0.499147  0.194963  \n",
       "2  0.541082  0.307189  0.511284  0.549419  0.322107  0.502943  0.194256  \n",
       "3  0.556389  0.330251  0.532812  0.559010  0.339559  0.494434  0.189841  \n",
       "4  0.453697  0.335481  0.519739  0.557386  0.342218  0.503108  0.199056  \n",
       "\n",
       "[5 rows x 17845 columns]"
      ]
     },
     "execution_count": 39,
     "metadata": {},
     "output_type": "execute_result"
    }
   ],
   "source": [
    "merged_data.head()"
   ]
  },
  {
   "cell_type": "code",
   "execution_count": 40,
   "metadata": {
    "ExecuteTime": {
     "end_time": "2024-01-02T01:03:36.401002087Z",
     "start_time": "2024-01-02T01:03:36.400659608Z"
    },
    "collapsed": false
   },
   "outputs": [],
   "source": [
    "# If both age and gender features are available, select 'age' as the condition.\n",
    "condition = 'Age'\n",
    "# Remove the other condition to prevent interference.\n",
    "merged_data = merged_data.drop(columns=['Gender'], errors='ignore').astype('float')"
   ]
  },
  {
   "cell_type": "code",
   "execution_count": 41,
   "metadata": {
    "ExecuteTime": {
     "end_time": "2024-01-02T01:03:36.403035823Z",
     "start_time": "2024-01-02T01:03:36.401081946Z"
    },
    "collapsed": false
   },
   "outputs": [],
   "source": [
    "X = merged_data.drop(columns=[TRAIT, condition]).values\n",
    "Y = merged_data[TRAIT].values\n",
    "Z = merged_data[condition].values"
   ]
  },
  {
   "cell_type": "markdown",
   "metadata": {
    "collapsed": false
   },
   "source": [
    "Select the appropriate regression model depending on whether the dataset shows batch effect."
   ]
  },
  {
   "cell_type": "code",
   "execution_count": 42,
   "metadata": {
    "ExecuteTime": {
     "end_time": "2024-01-02T01:03:36.403263628Z",
     "start_time": "2024-01-02T01:03:36.401336170Z"
    },
    "collapsed": false
   },
   "outputs": [
    {
     "data": {
      "text/plain": [
       "True"
      ]
     },
     "execution_count": 42,
     "metadata": {},
     "output_type": "execute_result"
    }
   ],
   "source": [
    "has_batch_effect = detect_batch_effect(X)\n",
    "has_batch_effect"
   ]
  },
  {
   "cell_type": "code",
   "execution_count": 43,
   "metadata": {
    "ExecuteTime": {
     "end_time": "2024-01-02T01:03:36.475053437Z",
     "start_time": "2024-01-02T01:03:36.444397231Z"
    },
    "collapsed": false
   },
   "outputs": [],
   "source": [
    "\n",
    "if has_batch_effect:\n",
    "    model_constructor1 = VariableSelection\n",
    "    model_params1 = {'modified': True, 'lamda': 3e-4}\n",
    "    model_constructor2 = VariableSelection\n",
    "    model_params2 = {'modified': False}\n",
    "else:\n",
    "    model_constructor1 = Lasso\n",
    "    model_params1 = {'alpha': 1.0, 'random_state': 42}\n",
    "    model_constructor2 = VariableSelection\n",
    "    model_params2 = {'modified': False}"
   ]
  },
  {
   "cell_type": "code",
   "execution_count": 44,
   "metadata": {
    "ExecuteTime": {
     "end_time": "2024-01-02T01:03:50.733335364Z",
     "start_time": "2024-01-02T01:03:36.444563711Z"
    },
    "collapsed": false
   },
   "outputs": [
    {
     "ename": "AttributeError",
     "evalue": "Module 'scipy' has no attribute 'exp'",
     "output_type": "error",
     "traceback": [
      "\u001b[1;31m---------------------------------------------------------------------------\u001b[0m",
      "\u001b[1;31mKeyError\u001b[0m                                  Traceback (most recent call last)",
      "File \u001b[1;32m~\\AppData\\Local\\Packages\\PythonSoftwareFoundation.Python.3.11_qbz5n2kfra8p0\\LocalCache\\local-packages\\Python311\\site-packages\\scipy\\__init__.py:150\u001b[0m, in \u001b[0;36m__getattr__\u001b[1;34m(name)\u001b[0m\n\u001b[0;32m    149\u001b[0m \u001b[38;5;28;01mtry\u001b[39;00m:\n\u001b[1;32m--> 150\u001b[0m     \u001b[38;5;28;01mreturn\u001b[39;00m \u001b[38;5;28;43mglobals\u001b[39;49m\u001b[43m(\u001b[49m\u001b[43m)\u001b[49m\u001b[43m[\u001b[49m\u001b[43mname\u001b[49m\u001b[43m]\u001b[49m\n\u001b[0;32m    151\u001b[0m \u001b[38;5;28;01mexcept\u001b[39;00m \u001b[38;5;167;01mKeyError\u001b[39;00m:\n",
      "\u001b[1;31mKeyError\u001b[0m: 'exp'",
      "\nDuring handling of the above exception, another exception occurred:\n",
      "\u001b[1;31mAttributeError\u001b[0m                            Traceback (most recent call last)",
      "Cell \u001b[1;32mIn[44], line 2\u001b[0m\n\u001b[0;32m      1\u001b[0m trait_type \u001b[38;5;241m=\u001b[39m \u001b[38;5;124m'\u001b[39m\u001b[38;5;124mbinary\u001b[39m\u001b[38;5;124m'\u001b[39m  \u001b[38;5;66;03m# Remember to set this properly, either 'binary' or 'continuous'\u001b[39;00m\n\u001b[1;32m----> 2\u001b[0m cv_mean1, cv_std1 \u001b[38;5;241m=\u001b[39m \u001b[43mcross_validation\u001b[49m\u001b[43m(\u001b[49m\u001b[43mX\u001b[49m\u001b[43m,\u001b[49m\u001b[43m \u001b[49m\u001b[43mY\u001b[49m\u001b[43m,\u001b[49m\u001b[43m \u001b[49m\u001b[43mZ\u001b[49m\u001b[43m,\u001b[49m\u001b[43m \u001b[49m\u001b[43mmodel_constructor1\u001b[49m\u001b[43m,\u001b[49m\u001b[43m \u001b[49m\u001b[43mmodel_params1\u001b[49m\u001b[43m,\u001b[49m\u001b[43m \u001b[49m\u001b[43mtarget_type\u001b[49m\u001b[38;5;241;43m=\u001b[39;49m\u001b[43mtrait_type\u001b[49m\u001b[43m)\u001b[49m\n",
      "Cell \u001b[1;32mIn[1], line 376\u001b[0m, in \u001b[0;36mcross_validation\u001b[1;34m(X, Y, Z, model_constructor, model_params, k, target_type)\u001b[0m\n\u001b[0;32m    374\u001b[0m \u001b[38;5;66;03m# model = model_constructor(**model_params)\u001b[39;00m\n\u001b[0;32m    375\u001b[0m model \u001b[38;5;241m=\u001b[39m ResidualizationRegressor(model_constructor, model_params)\n\u001b[1;32m--> 376\u001b[0m \u001b[43mmodel\u001b[49m\u001b[38;5;241;43m.\u001b[39;49m\u001b[43mfit\u001b[49m\u001b[43m(\u001b[49m\u001b[43mnormalized_X_train\u001b[49m\u001b[43m,\u001b[49m\u001b[43m \u001b[49m\u001b[43mY_train\u001b[49m\u001b[43m,\u001b[49m\u001b[43m \u001b[49m\u001b[43mnormalized_Z_train\u001b[49m\u001b[43m)\u001b[49m\n\u001b[0;32m    377\u001b[0m predictions \u001b[38;5;241m=\u001b[39m model\u001b[38;5;241m.\u001b[39mpredict(normalized_X_test, normalized_Z_test)\n\u001b[0;32m    379\u001b[0m \u001b[38;5;28;01mif\u001b[39;00m target_type \u001b[38;5;241m==\u001b[39m \u001b[38;5;124m'\u001b[39m\u001b[38;5;124mbinary\u001b[39m\u001b[38;5;124m'\u001b[39m:\n",
      "Cell \u001b[1;32mIn[1], line 319\u001b[0m, in \u001b[0;36mResidualizationRegressor.fit\u001b[1;34m(self, X, Y, Z)\u001b[0m\n\u001b[0;32m    316\u001b[0m e_Y \u001b[38;5;241m=\u001b[39m Y \u001b[38;5;241m-\u001b[39m Y_hat  \u001b[38;5;66;03m# Residual of Y\u001b[39;00m\n\u001b[0;32m    318\u001b[0m \u001b[38;5;66;03m# Step 2: Regress the residual on X using the included regression model\u001b[39;00m\n\u001b[1;32m--> 319\u001b[0m \u001b[38;5;28;43mself\u001b[39;49m\u001b[38;5;241;43m.\u001b[39;49m\u001b[43mregression_model\u001b[49m\u001b[38;5;241;43m.\u001b[39;49m\u001b[43mfit\u001b[49m\u001b[43m(\u001b[49m\u001b[43mX\u001b[49m\u001b[43m,\u001b[49m\u001b[43m \u001b[49m\u001b[43me_Y\u001b[49m\u001b[43m)\u001b[49m\n\u001b[0;32m    321\u001b[0m \u001b[38;5;66;03m# Obtain coefficients from the regression model\u001b[39;00m\n\u001b[0;32m    322\u001b[0m \u001b[38;5;28;01mif\u001b[39;00m \u001b[38;5;28mhasattr\u001b[39m(\u001b[38;5;28mself\u001b[39m\u001b[38;5;241m.\u001b[39mregression_model, \u001b[38;5;124m'\u001b[39m\u001b[38;5;124mcoef_\u001b[39m\u001b[38;5;124m'\u001b[39m):\n",
      "File \u001b[1;32m~\\AppData\\Local\\Packages\\PythonSoftwareFoundation.Python.3.11_qbz5n2kfra8p0\\LocalCache\\local-packages\\Python311\\site-packages\\sparse_lmm\\VariableSelection.py:45\u001b[0m, in \u001b[0;36mVariableSelection.fit\u001b[1;34m(self, X, y)\u001b[0m\n\u001b[0;32m     43\u001b[0m \u001b[38;5;28;01mdef\u001b[39;00m \u001b[38;5;21mfit\u001b[39m(\u001b[38;5;28mself\u001b[39m, X, y):\n\u001b[0;32m     44\u001b[0m     \u001b[38;5;28;01mif\u001b[39;00m \u001b[38;5;28mself\u001b[39m\u001b[38;5;241m.\u001b[39macceleration:\n\u001b[1;32m---> 45\u001b[0m         \u001b[38;5;28;43mself\u001b[39;49m\u001b[38;5;241;43m.\u001b[39;49m\u001b[43mfit_fast\u001b[49m\u001b[43m(\u001b[49m\u001b[43mX\u001b[49m\u001b[43m,\u001b[49m\u001b[43m \u001b[49m\u001b[43my\u001b[49m\u001b[43m)\u001b[49m\n\u001b[0;32m     46\u001b[0m     \u001b[38;5;28;01melse\u001b[39;00m:\n\u001b[0;32m     47\u001b[0m         \u001b[38;5;28mself\u001b[39m\u001b[38;5;241m.\u001b[39mfit_detail(X, y)\n",
      "File \u001b[1;32m~\\AppData\\Local\\Packages\\PythonSoftwareFoundation.Python.3.11_qbz5n2kfra8p0\\LocalCache\\local-packages\\Python311\\site-packages\\sparse_lmm\\VariableSelection.py:58\u001b[0m, in \u001b[0;36mVariableSelection.fit_fast\u001b[1;34m(self, X, y)\u001b[0m\n\u001b[0;32m     55\u001b[0m     y \u001b[38;5;241m=\u001b[39m np\u001b[38;5;241m.\u001b[39mreshape(y, (n_s, \u001b[38;5;241m1\u001b[39m))\n\u001b[0;32m     57\u001b[0m \u001b[38;5;28mself\u001b[39m\u001b[38;5;241m.\u001b[39my \u001b[38;5;241m=\u001b[39m y\n\u001b[1;32m---> 58\u001b[0m \u001b[38;5;28mself\u001b[39m\u001b[38;5;241m.\u001b[39mS, \u001b[38;5;28mself\u001b[39m\u001b[38;5;241m.\u001b[39mU, ldelta0\u001b[38;5;241m=\u001b[39m \u001b[38;5;28;43mself\u001b[39;49m\u001b[38;5;241;43m.\u001b[39;49m\u001b[43mtrain_nullmodel\u001b[49m\u001b[43m(\u001b[49m\u001b[38;5;28;43mself\u001b[39;49m\u001b[38;5;241;43m.\u001b[39;49m\u001b[43my\u001b[49m\u001b[43m,\u001b[49m\u001b[43m \u001b[49m\u001b[38;5;28;43mself\u001b[39;49m\u001b[38;5;241;43m.\u001b[39;49m\u001b[43mK\u001b[49m\u001b[43m)\u001b[49m\n\u001b[0;32m     60\u001b[0m \u001b[38;5;28mself\u001b[39m\u001b[38;5;241m.\u001b[39mldelta0 \u001b[38;5;241m=\u001b[39m ldelta0\n\u001b[0;32m     62\u001b[0m \u001b[38;5;28;01mif\u001b[39;00m \u001b[38;5;129;01mnot\u001b[39;00m \u001b[38;5;28mself\u001b[39m\u001b[38;5;241m.\u001b[39mmodified:\n",
      "File \u001b[1;32m~\\AppData\\Local\\Packages\\PythonSoftwareFoundation.Python.3.11_qbz5n2kfra8p0\\LocalCache\\local-packages\\Python311\\site-packages\\sparse_lmm\\VariableSelection.py:210\u001b[0m, in \u001b[0;36mVariableSelection.train_nullmodel\u001b[1;34m(self, y, K, S, U, numintervals)\u001b[0m\n\u001b[0;32m    208\u001b[0m ldeltagrid \u001b[38;5;241m=\u001b[39m np\u001b[38;5;241m.\u001b[39marange(numintervals \u001b[38;5;241m+\u001b[39m \u001b[38;5;241m1\u001b[39m) \u001b[38;5;241m/\u001b[39m (numintervals \u001b[38;5;241m*\u001b[39m \u001b[38;5;241m1.0\u001b[39m) \u001b[38;5;241m*\u001b[39m (\u001b[38;5;28mself\u001b[39m\u001b[38;5;241m.\u001b[39mldeltamax \u001b[38;5;241m-\u001b[39m \u001b[38;5;28mself\u001b[39m\u001b[38;5;241m.\u001b[39mldeltamin) \u001b[38;5;241m+\u001b[39m \u001b[38;5;28mself\u001b[39m\u001b[38;5;241m.\u001b[39mldeltamin\n\u001b[0;32m    209\u001b[0m \u001b[38;5;28;01mfor\u001b[39;00m i \u001b[38;5;129;01min\u001b[39;00m np\u001b[38;5;241m.\u001b[39marange(numintervals \u001b[38;5;241m+\u001b[39m \u001b[38;5;241m1\u001b[39m):\n\u001b[1;32m--> 210\u001b[0m     nllgrid[i] \u001b[38;5;241m=\u001b[39m \u001b[43mnLLeval\u001b[49m\u001b[43m(\u001b[49m\u001b[43mldeltagrid\u001b[49m\u001b[43m[\u001b[49m\u001b[43mi\u001b[49m\u001b[43m]\u001b[49m\u001b[43m,\u001b[49m\u001b[43m \u001b[49m\u001b[43mUy\u001b[49m\u001b[43m,\u001b[49m\u001b[43m \u001b[49m\u001b[43mS\u001b[49m\u001b[43m)\u001b[49m \u001b[38;5;66;03m# the method is in helpingMethods\u001b[39;00m\n\u001b[0;32m    212\u001b[0m nllmin \u001b[38;5;241m=\u001b[39m nllgrid\u001b[38;5;241m.\u001b[39mmin()\n\u001b[0;32m    213\u001b[0m ldeltaopt_glob \u001b[38;5;241m=\u001b[39m ldeltagrid[nllgrid\u001b[38;5;241m.\u001b[39margmin()]\n",
      "File \u001b[1;32m~\\AppData\\Local\\Packages\\PythonSoftwareFoundation.Python.3.11_qbz5n2kfra8p0\\LocalCache\\local-packages\\Python311\\site-packages\\sparse_lmm\\helpingMethods.py:72\u001b[0m, in \u001b[0;36mnLLeval\u001b[1;34m(ldelta, Uy, S, REML)\u001b[0m\n\u001b[0;32m     63\u001b[0m \u001b[38;5;250m\u001b[39m\u001b[38;5;124;03m\"\"\"\u001b[39;00m\n\u001b[0;32m     64\u001b[0m \u001b[38;5;124;03mevaluate the negative log likelihood of a random effects model:\u001b[39;00m\n\u001b[0;32m     65\u001b[0m \u001b[38;5;124;03mnLL = 1/2(n_s*log(2pi) + logdet(K) + 1/ss * y^T(K + deltaI)^{-1}y,\u001b[39;00m\n\u001b[1;32m   (...)\u001b[0m\n\u001b[0;32m     69\u001b[0m \u001b[38;5;124;03mldelta: log-transformed ratio sigma_gg/sigma_ee\u001b[39;00m\n\u001b[0;32m     70\u001b[0m \u001b[38;5;124;03m\"\"\"\u001b[39;00m\n\u001b[0;32m     71\u001b[0m n_s \u001b[38;5;241m=\u001b[39m Uy\u001b[38;5;241m.\u001b[39mshape[\u001b[38;5;241m0\u001b[39m]\n\u001b[1;32m---> 72\u001b[0m delta \u001b[38;5;241m=\u001b[39m \u001b[43mscipy\u001b[49m\u001b[38;5;241;43m.\u001b[39;49m\u001b[43mexp\u001b[49m(ldelta)\n\u001b[0;32m     74\u001b[0m \u001b[38;5;66;03m# evaluate log determinant\u001b[39;00m\n\u001b[0;32m     75\u001b[0m Sd \u001b[38;5;241m=\u001b[39m S \u001b[38;5;241m+\u001b[39m delta\n",
      "File \u001b[1;32m~\\AppData\\Local\\Packages\\PythonSoftwareFoundation.Python.3.11_qbz5n2kfra8p0\\LocalCache\\local-packages\\Python311\\site-packages\\scipy\\__init__.py:152\u001b[0m, in \u001b[0;36m__getattr__\u001b[1;34m(name)\u001b[0m\n\u001b[0;32m    150\u001b[0m     \u001b[38;5;28;01mreturn\u001b[39;00m \u001b[38;5;28mglobals\u001b[39m()[name]\n\u001b[0;32m    151\u001b[0m \u001b[38;5;28;01mexcept\u001b[39;00m \u001b[38;5;167;01mKeyError\u001b[39;00m:\n\u001b[1;32m--> 152\u001b[0m     \u001b[38;5;28;01mraise\u001b[39;00m \u001b[38;5;167;01mAttributeError\u001b[39;00m(\n\u001b[0;32m    153\u001b[0m         \u001b[38;5;124mf\u001b[39m\u001b[38;5;124m\"\u001b[39m\u001b[38;5;124mModule \u001b[39m\u001b[38;5;124m'\u001b[39m\u001b[38;5;124mscipy\u001b[39m\u001b[38;5;124m'\u001b[39m\u001b[38;5;124m has no attribute \u001b[39m\u001b[38;5;124m'\u001b[39m\u001b[38;5;132;01m{\u001b[39;00mname\u001b[38;5;132;01m}\u001b[39;00m\u001b[38;5;124m'\u001b[39m\u001b[38;5;124m\"\u001b[39m\n\u001b[0;32m    154\u001b[0m     )\n",
      "\u001b[1;31mAttributeError\u001b[0m: Module 'scipy' has no attribute 'exp'"
     ]
    }
   ],
   "source": [
    "trait_type = 'binary'  # Remember to set this properly, either 'binary' or 'continuous'\n",
    "cv_mean1, cv_std1 = cross_validation(X, Y, Z, model_constructor1, model_params1, target_type=trait_type)"
   ]
  },
  {
   "cell_type": "code",
   "execution_count": 45,
   "metadata": {},
   "outputs": [
    {
     "ename": "AttributeError",
     "evalue": "Module 'scipy' has no attribute 'exp'",
     "output_type": "error",
     "traceback": [
      "\u001b[1;31m---------------------------------------------------------------------------\u001b[0m",
      "\u001b[1;31mKeyError\u001b[0m                                  Traceback (most recent call last)",
      "File \u001b[1;32m~\\AppData\\Local\\Packages\\PythonSoftwareFoundation.Python.3.11_qbz5n2kfra8p0\\LocalCache\\local-packages\\Python311\\site-packages\\scipy\\__init__.py:150\u001b[0m, in \u001b[0;36m__getattr__\u001b[1;34m(name)\u001b[0m\n\u001b[0;32m    149\u001b[0m \u001b[38;5;28;01mtry\u001b[39;00m:\n\u001b[1;32m--> 150\u001b[0m     \u001b[38;5;28;01mreturn\u001b[39;00m \u001b[38;5;28;43mglobals\u001b[39;49m\u001b[43m(\u001b[49m\u001b[43m)\u001b[49m\u001b[43m[\u001b[49m\u001b[43mname\u001b[49m\u001b[43m]\u001b[49m\n\u001b[0;32m    151\u001b[0m \u001b[38;5;28;01mexcept\u001b[39;00m \u001b[38;5;167;01mKeyError\u001b[39;00m:\n",
      "\u001b[1;31mKeyError\u001b[0m: 'exp'",
      "\nDuring handling of the above exception, another exception occurred:\n",
      "\u001b[1;31mAttributeError\u001b[0m                            Traceback (most recent call last)",
      "Cell \u001b[1;32mIn[45], line 1\u001b[0m\n\u001b[1;32m----> 1\u001b[0m cv_mean2, cv_std2 \u001b[38;5;241m=\u001b[39m \u001b[43mcross_validation\u001b[49m\u001b[43m(\u001b[49m\u001b[43mX\u001b[49m\u001b[43m,\u001b[49m\u001b[43m \u001b[49m\u001b[43mY\u001b[49m\u001b[43m,\u001b[49m\u001b[43m \u001b[49m\u001b[43mZ\u001b[49m\u001b[43m,\u001b[49m\u001b[43m \u001b[49m\u001b[43mmodel_constructor2\u001b[49m\u001b[43m,\u001b[49m\u001b[43m \u001b[49m\u001b[43mmodel_params2\u001b[49m\u001b[43m,\u001b[49m\u001b[43m \u001b[49m\u001b[43mtarget_type\u001b[49m\u001b[38;5;241;43m=\u001b[39;49m\u001b[43mtrait_type\u001b[49m\u001b[43m)\u001b[49m\n",
      "Cell \u001b[1;32mIn[1], line 376\u001b[0m, in \u001b[0;36mcross_validation\u001b[1;34m(X, Y, Z, model_constructor, model_params, k, target_type)\u001b[0m\n\u001b[0;32m    374\u001b[0m \u001b[38;5;66;03m# model = model_constructor(**model_params)\u001b[39;00m\n\u001b[0;32m    375\u001b[0m model \u001b[38;5;241m=\u001b[39m ResidualizationRegressor(model_constructor, model_params)\n\u001b[1;32m--> 376\u001b[0m \u001b[43mmodel\u001b[49m\u001b[38;5;241;43m.\u001b[39;49m\u001b[43mfit\u001b[49m\u001b[43m(\u001b[49m\u001b[43mnormalized_X_train\u001b[49m\u001b[43m,\u001b[49m\u001b[43m \u001b[49m\u001b[43mY_train\u001b[49m\u001b[43m,\u001b[49m\u001b[43m \u001b[49m\u001b[43mnormalized_Z_train\u001b[49m\u001b[43m)\u001b[49m\n\u001b[0;32m    377\u001b[0m predictions \u001b[38;5;241m=\u001b[39m model\u001b[38;5;241m.\u001b[39mpredict(normalized_X_test, normalized_Z_test)\n\u001b[0;32m    379\u001b[0m \u001b[38;5;28;01mif\u001b[39;00m target_type \u001b[38;5;241m==\u001b[39m \u001b[38;5;124m'\u001b[39m\u001b[38;5;124mbinary\u001b[39m\u001b[38;5;124m'\u001b[39m:\n",
      "Cell \u001b[1;32mIn[1], line 319\u001b[0m, in \u001b[0;36mResidualizationRegressor.fit\u001b[1;34m(self, X, Y, Z)\u001b[0m\n\u001b[0;32m    316\u001b[0m e_Y \u001b[38;5;241m=\u001b[39m Y \u001b[38;5;241m-\u001b[39m Y_hat  \u001b[38;5;66;03m# Residual of Y\u001b[39;00m\n\u001b[0;32m    318\u001b[0m \u001b[38;5;66;03m# Step 2: Regress the residual on X using the included regression model\u001b[39;00m\n\u001b[1;32m--> 319\u001b[0m \u001b[38;5;28;43mself\u001b[39;49m\u001b[38;5;241;43m.\u001b[39;49m\u001b[43mregression_model\u001b[49m\u001b[38;5;241;43m.\u001b[39;49m\u001b[43mfit\u001b[49m\u001b[43m(\u001b[49m\u001b[43mX\u001b[49m\u001b[43m,\u001b[49m\u001b[43m \u001b[49m\u001b[43me_Y\u001b[49m\u001b[43m)\u001b[49m\n\u001b[0;32m    321\u001b[0m \u001b[38;5;66;03m# Obtain coefficients from the regression model\u001b[39;00m\n\u001b[0;32m    322\u001b[0m \u001b[38;5;28;01mif\u001b[39;00m \u001b[38;5;28mhasattr\u001b[39m(\u001b[38;5;28mself\u001b[39m\u001b[38;5;241m.\u001b[39mregression_model, \u001b[38;5;124m'\u001b[39m\u001b[38;5;124mcoef_\u001b[39m\u001b[38;5;124m'\u001b[39m):\n",
      "File \u001b[1;32m~\\AppData\\Local\\Packages\\PythonSoftwareFoundation.Python.3.11_qbz5n2kfra8p0\\LocalCache\\local-packages\\Python311\\site-packages\\sparse_lmm\\VariableSelection.py:45\u001b[0m, in \u001b[0;36mVariableSelection.fit\u001b[1;34m(self, X, y)\u001b[0m\n\u001b[0;32m     43\u001b[0m \u001b[38;5;28;01mdef\u001b[39;00m \u001b[38;5;21mfit\u001b[39m(\u001b[38;5;28mself\u001b[39m, X, y):\n\u001b[0;32m     44\u001b[0m     \u001b[38;5;28;01mif\u001b[39;00m \u001b[38;5;28mself\u001b[39m\u001b[38;5;241m.\u001b[39macceleration:\n\u001b[1;32m---> 45\u001b[0m         \u001b[38;5;28;43mself\u001b[39;49m\u001b[38;5;241;43m.\u001b[39;49m\u001b[43mfit_fast\u001b[49m\u001b[43m(\u001b[49m\u001b[43mX\u001b[49m\u001b[43m,\u001b[49m\u001b[43m \u001b[49m\u001b[43my\u001b[49m\u001b[43m)\u001b[49m\n\u001b[0;32m     46\u001b[0m     \u001b[38;5;28;01melse\u001b[39;00m:\n\u001b[0;32m     47\u001b[0m         \u001b[38;5;28mself\u001b[39m\u001b[38;5;241m.\u001b[39mfit_detail(X, y)\n",
      "File \u001b[1;32m~\\AppData\\Local\\Packages\\PythonSoftwareFoundation.Python.3.11_qbz5n2kfra8p0\\LocalCache\\local-packages\\Python311\\site-packages\\sparse_lmm\\VariableSelection.py:58\u001b[0m, in \u001b[0;36mVariableSelection.fit_fast\u001b[1;34m(self, X, y)\u001b[0m\n\u001b[0;32m     55\u001b[0m     y \u001b[38;5;241m=\u001b[39m np\u001b[38;5;241m.\u001b[39mreshape(y, (n_s, \u001b[38;5;241m1\u001b[39m))\n\u001b[0;32m     57\u001b[0m \u001b[38;5;28mself\u001b[39m\u001b[38;5;241m.\u001b[39my \u001b[38;5;241m=\u001b[39m y\n\u001b[1;32m---> 58\u001b[0m \u001b[38;5;28mself\u001b[39m\u001b[38;5;241m.\u001b[39mS, \u001b[38;5;28mself\u001b[39m\u001b[38;5;241m.\u001b[39mU, ldelta0\u001b[38;5;241m=\u001b[39m \u001b[38;5;28;43mself\u001b[39;49m\u001b[38;5;241;43m.\u001b[39;49m\u001b[43mtrain_nullmodel\u001b[49m\u001b[43m(\u001b[49m\u001b[38;5;28;43mself\u001b[39;49m\u001b[38;5;241;43m.\u001b[39;49m\u001b[43my\u001b[49m\u001b[43m,\u001b[49m\u001b[43m \u001b[49m\u001b[38;5;28;43mself\u001b[39;49m\u001b[38;5;241;43m.\u001b[39;49m\u001b[43mK\u001b[49m\u001b[43m)\u001b[49m\n\u001b[0;32m     60\u001b[0m \u001b[38;5;28mself\u001b[39m\u001b[38;5;241m.\u001b[39mldelta0 \u001b[38;5;241m=\u001b[39m ldelta0\n\u001b[0;32m     62\u001b[0m \u001b[38;5;28;01mif\u001b[39;00m \u001b[38;5;129;01mnot\u001b[39;00m \u001b[38;5;28mself\u001b[39m\u001b[38;5;241m.\u001b[39mmodified:\n",
      "File \u001b[1;32m~\\AppData\\Local\\Packages\\PythonSoftwareFoundation.Python.3.11_qbz5n2kfra8p0\\LocalCache\\local-packages\\Python311\\site-packages\\sparse_lmm\\VariableSelection.py:210\u001b[0m, in \u001b[0;36mVariableSelection.train_nullmodel\u001b[1;34m(self, y, K, S, U, numintervals)\u001b[0m\n\u001b[0;32m    208\u001b[0m ldeltagrid \u001b[38;5;241m=\u001b[39m np\u001b[38;5;241m.\u001b[39marange(numintervals \u001b[38;5;241m+\u001b[39m \u001b[38;5;241m1\u001b[39m) \u001b[38;5;241m/\u001b[39m (numintervals \u001b[38;5;241m*\u001b[39m \u001b[38;5;241m1.0\u001b[39m) \u001b[38;5;241m*\u001b[39m (\u001b[38;5;28mself\u001b[39m\u001b[38;5;241m.\u001b[39mldeltamax \u001b[38;5;241m-\u001b[39m \u001b[38;5;28mself\u001b[39m\u001b[38;5;241m.\u001b[39mldeltamin) \u001b[38;5;241m+\u001b[39m \u001b[38;5;28mself\u001b[39m\u001b[38;5;241m.\u001b[39mldeltamin\n\u001b[0;32m    209\u001b[0m \u001b[38;5;28;01mfor\u001b[39;00m i \u001b[38;5;129;01min\u001b[39;00m np\u001b[38;5;241m.\u001b[39marange(numintervals \u001b[38;5;241m+\u001b[39m \u001b[38;5;241m1\u001b[39m):\n\u001b[1;32m--> 210\u001b[0m     nllgrid[i] \u001b[38;5;241m=\u001b[39m \u001b[43mnLLeval\u001b[49m\u001b[43m(\u001b[49m\u001b[43mldeltagrid\u001b[49m\u001b[43m[\u001b[49m\u001b[43mi\u001b[49m\u001b[43m]\u001b[49m\u001b[43m,\u001b[49m\u001b[43m \u001b[49m\u001b[43mUy\u001b[49m\u001b[43m,\u001b[49m\u001b[43m \u001b[49m\u001b[43mS\u001b[49m\u001b[43m)\u001b[49m \u001b[38;5;66;03m# the method is in helpingMethods\u001b[39;00m\n\u001b[0;32m    212\u001b[0m nllmin \u001b[38;5;241m=\u001b[39m nllgrid\u001b[38;5;241m.\u001b[39mmin()\n\u001b[0;32m    213\u001b[0m ldeltaopt_glob \u001b[38;5;241m=\u001b[39m ldeltagrid[nllgrid\u001b[38;5;241m.\u001b[39margmin()]\n",
      "File \u001b[1;32m~\\AppData\\Local\\Packages\\PythonSoftwareFoundation.Python.3.11_qbz5n2kfra8p0\\LocalCache\\local-packages\\Python311\\site-packages\\sparse_lmm\\helpingMethods.py:72\u001b[0m, in \u001b[0;36mnLLeval\u001b[1;34m(ldelta, Uy, S, REML)\u001b[0m\n\u001b[0;32m     63\u001b[0m \u001b[38;5;250m\u001b[39m\u001b[38;5;124;03m\"\"\"\u001b[39;00m\n\u001b[0;32m     64\u001b[0m \u001b[38;5;124;03mevaluate the negative log likelihood of a random effects model:\u001b[39;00m\n\u001b[0;32m     65\u001b[0m \u001b[38;5;124;03mnLL = 1/2(n_s*log(2pi) + logdet(K) + 1/ss * y^T(K + deltaI)^{-1}y,\u001b[39;00m\n\u001b[1;32m   (...)\u001b[0m\n\u001b[0;32m     69\u001b[0m \u001b[38;5;124;03mldelta: log-transformed ratio sigma_gg/sigma_ee\u001b[39;00m\n\u001b[0;32m     70\u001b[0m \u001b[38;5;124;03m\"\"\"\u001b[39;00m\n\u001b[0;32m     71\u001b[0m n_s \u001b[38;5;241m=\u001b[39m Uy\u001b[38;5;241m.\u001b[39mshape[\u001b[38;5;241m0\u001b[39m]\n\u001b[1;32m---> 72\u001b[0m delta \u001b[38;5;241m=\u001b[39m \u001b[43mscipy\u001b[49m\u001b[38;5;241;43m.\u001b[39;49m\u001b[43mexp\u001b[49m(ldelta)\n\u001b[0;32m     74\u001b[0m \u001b[38;5;66;03m# evaluate log determinant\u001b[39;00m\n\u001b[0;32m     75\u001b[0m Sd \u001b[38;5;241m=\u001b[39m S \u001b[38;5;241m+\u001b[39m delta\n",
      "File \u001b[1;32m~\\AppData\\Local\\Packages\\PythonSoftwareFoundation.Python.3.11_qbz5n2kfra8p0\\LocalCache\\local-packages\\Python311\\site-packages\\scipy\\__init__.py:152\u001b[0m, in \u001b[0;36m__getattr__\u001b[1;34m(name)\u001b[0m\n\u001b[0;32m    150\u001b[0m     \u001b[38;5;28;01mreturn\u001b[39;00m \u001b[38;5;28mglobals\u001b[39m()[name]\n\u001b[0;32m    151\u001b[0m \u001b[38;5;28;01mexcept\u001b[39;00m \u001b[38;5;167;01mKeyError\u001b[39;00m:\n\u001b[1;32m--> 152\u001b[0m     \u001b[38;5;28;01mraise\u001b[39;00m \u001b[38;5;167;01mAttributeError\u001b[39;00m(\n\u001b[0;32m    153\u001b[0m         \u001b[38;5;124mf\u001b[39m\u001b[38;5;124m\"\u001b[39m\u001b[38;5;124mModule \u001b[39m\u001b[38;5;124m'\u001b[39m\u001b[38;5;124mscipy\u001b[39m\u001b[38;5;124m'\u001b[39m\u001b[38;5;124m has no attribute \u001b[39m\u001b[38;5;124m'\u001b[39m\u001b[38;5;132;01m{\u001b[39;00mname\u001b[38;5;132;01m}\u001b[39;00m\u001b[38;5;124m'\u001b[39m\u001b[38;5;124m\"\u001b[39m\n\u001b[0;32m    154\u001b[0m     )\n",
      "\u001b[1;31mAttributeError\u001b[0m: Module 'scipy' has no attribute 'exp'"
     ]
    }
   ],
   "source": [
    "cv_mean2, cv_std2 = cross_validation(X, Y, Z, model_constructor2, model_params2, target_type=trait_type)"
   ]
  },
  {
   "cell_type": "code",
   "execution_count": null,
   "metadata": {
    "ExecuteTime": {
     "end_time": "2024-01-02T01:03:53.587340410Z",
     "start_time": "2024-01-02T01:03:50.732779025Z"
    },
    "collapsed": false
   },
   "outputs": [
    {
     "name": "stdout",
     "output_type": "stream",
     "text": [
      "alpha for Lasso: 0.0003\n"
     ]
    }
   ],
   "source": [
    "normalized_X, _ = normalize_data(X)\n",
    "normalized_Z, _ = normalize_data(Z)\n",
    "\n",
    "# Train regression model on the whole dataset to identify significant genes\n",
    "model1 = ResidualizationRegressor(model_constructor1, model_params1)\n",
    "model1.fit(normalized_X, Y, normalized_Z)\n",
    "\n",
    "model2 = ResidualizationRegressor(model_constructor2, model_params2)\n",
    "model2.fit(normalized_X, Y, normalized_Z)"
   ]
  },
  {
   "cell_type": "markdown",
   "metadata": {
    "ExecuteTime": {
     "end_time": "2023-10-14T04:50:59.072075075Z",
     "start_time": "2023-10-14T04:50:38.739499998Z"
    },
    "id": "EjJrxbvb4nlj"
   },
   "source": [
    "### 4. Discussion and report"
   ]
  },
  {
   "cell_type": "code",
   "execution_count": null,
   "metadata": {
    "ExecuteTime": {
     "end_time": "2024-01-02T01:03:53.641570844Z",
     "start_time": "2024-01-02T01:03:53.627778553Z"
    },
    "collapsed": false
   },
   "outputs": [
    {
     "name": "stdout",
     "output_type": "stream",
     "text": [
      "Effect of the condition on the target variable:\n",
      "Variable: Age\n",
      "Coefficient: 0.0464\n",
      "Found 27 genes with non-zero coefficients associated with the trait 'Intellectual-Disability' conditional on the factor 'Age'. These genes are identified as significant based on the regression model.\n",
      " Variable  Coefficient  Absolute Coefficient\n",
      "   ZNF141     9.949472              9.949472\n",
      "   AMDHD1    -6.650276              6.650276\n",
      "   ENDOD1    -6.558184              6.558184\n",
      "KRTAP21-3     6.164865              6.164865\n",
      "  FAM135A    -5.701479              5.701479\n",
      "   STARD9    -5.205430              5.205430\n",
      "    ZNF25    -4.786179              4.786179\n",
      "    SMC1A    -4.750756              4.750756\n",
      "    FARS2    -4.744686              4.744686\n",
      "     USP1     4.735842              4.735842\n",
      "    NLRP9     3.619005              3.619005\n",
      "   CYP3A4     3.373809              3.373809\n",
      "    AMACR    -2.977552              2.977552\n",
      "    PWRN1    -2.913494              2.913494\n",
      "     ALLC     2.860756              2.860756\n",
      "    WIPI1    -2.685245              2.685245\n",
      " C16orf74     2.566263              2.566263\n",
      "    LARP4     2.175846              2.175846\n",
      "     NCR2     2.076091              2.076091\n",
      "   ANKLE1    -1.766302              1.766302\n",
      "    KCNH8     1.693121              1.693121\n",
      "   MIR144    -1.477701              1.477701\n",
      "   OR4A16    -1.409370              1.409370\n",
      "   MTNR1B    -1.282189              1.282189\n",
      "   FBXL16     0.605145              0.605145\n",
      "  SLC45A2     0.177976              0.177976\n",
      "   ZNF487    -0.143415              0.143415\n"
     ]
    },
    {
     "name": "stderr",
     "output_type": "stream",
     "text": [
      "/home/yxcheng/AI4Science_gold_standard/stage1/Jianrong/../utils.py:469: SettingWithCopyWarning: \n",
      "A value is trying to be set on a copy of a slice from a DataFrame.\n",
      "Try using .loc[row_indexer,col_indexer] = value instead\n",
      "\n",
      "See the caveats in the documentation: https://pandas.pydata.org/pandas-docs/stable/user_guide/indexing.html#returning-a-view-versus-a-copy\n",
      "  gene_regression_df['Absolute Coefficient'] = gene_regression_df['Coefficient'].abs()\n"
     ]
    }
   ],
   "source": [
    "\n",
    "feature_cols = merged_data.columns.tolist()\n",
    "feature_cols.remove(TRAIT)\n",
    "\n",
    "threshold = 0.05\n",
    "interpret_result(model1, feature_cols, TRAIT, condition, threshold=threshold, save_output=True,\n",
    "                 output_dir=OUTPUT_DIR, model_id=1)"
   ]
  },
  {
   "cell_type": "code",
   "execution_count": null,
   "metadata": {
    "collapsed": false
   },
   "outputs": [
    {
     "name": "stdout",
     "output_type": "stream",
     "text": [
      "Effect of the condition on the target variable:\n",
      "Variable: Age\n",
      "Coefficient: 0.0464\n",
      "Found 74 significant genes associated with the trait 'Intellectual-Disability' conditional on the factor 'Age', with corrected p-value < 0.05:\n",
      "  Variable  Coefficient      p_value  corrected_p_value\n",
      "    RNF112    -0.361060 3.785914e-07           0.002083\n",
      "     BCL9L     0.377690 5.369121e-07           0.002083\n",
      "       NTS     0.409934 2.143989e-07           0.002083\n",
      "    LRRC24     0.327457 5.836726e-07           0.002083\n",
      "     CPT1B     0.326475 4.737830e-07           0.002083\n",
      "    MAPK11     0.321815 1.295466e-06           0.003751\n",
      "     CLIC3     0.362410 1.471685e-06           0.003751\n",
      "CHKB-CPT1B     0.308444 1.911635e-06           0.004263\n",
      "    RHBDL1     0.328942 3.153455e-06           0.005115\n",
      "       AVP     0.317942 2.903821e-06           0.005115\n",
      "      HHIP     0.332540 2.884898e-06           0.005115\n",
      "     PRRT3     0.323225 3.986262e-06           0.005471\n",
      "       GP6    -0.309213 3.925014e-06           0.005471\n",
      "     DDIT4     0.335786 4.904837e-06           0.006164\n",
      "     PARD3    -0.302042 5.182452e-06           0.006164\n",
      "       IL3    -0.322455 8.584586e-06           0.006659\n",
      "     ACMSD    -0.316328 8.061639e-06           0.006659\n",
      "    LY6G5C    -0.352196 6.910514e-06           0.006659\n",
      "     RUNX1     0.285247 8.549236e-06           0.006659\n",
      "KRTAP10-11    -0.258882 7.031376e-06           0.006659\n",
      "      FA2H    -0.324072 8.488758e-06           0.006659\n",
      "    SORBS2    -0.261407 7.231798e-06           0.006659\n",
      "    CCDC17    -0.327897 6.483511e-06           0.006659\n",
      "     ACRV1    -0.256597 9.142222e-06           0.006796\n",
      "      UPP1    -0.267793 1.087739e-05           0.007763\n",
      "    GALNT5     0.406031 1.238788e-05           0.008261\n",
      "   TMEM190     0.310182 1.250243e-05           0.008261\n",
      "     NUAK1     0.337082 1.301208e-05           0.008291\n",
      "   TMEM202     0.380885 1.357918e-05           0.008354\n",
      "     DPEP1     0.275445 1.493776e-05           0.008883\n",
      "     OLIG1    -0.278121 1.589906e-05           0.009150\n",
      "     GATA2     0.352014 1.960833e-05           0.009455\n",
      "   TMEM121     0.325236 1.867313e-05           0.009455\n",
      "     CPT1C     0.267131 1.853338e-05           0.009455\n",
      "     CRHBP     0.277663 1.858044e-05           0.009455\n",
      "     ITSN1    -0.342737 1.914520e-05           0.009455\n",
      "  KIAA0087    -0.289193 1.836357e-05           0.009455\n",
      "      PFN3     0.313257 2.032636e-05           0.009543\n",
      "     LAMB2    -0.265383 2.106677e-05           0.009559\n",
      "   SERINC2     0.310365 2.143261e-05           0.009559\n",
      "     C1QL3    -0.287764 2.695461e-05           0.011729\n",
      "      SPG7    -0.312046 2.977918e-05           0.012650\n",
      "     TIAM1    -0.306666 3.214328e-05           0.013336\n",
      "     STK19     0.281819 3.401745e-05           0.013782\n",
      "    CCDC60     0.279295 3.553448e-05           0.013782\n",
      "     HOXA5     0.222377 3.477993e-05           0.013782\n",
      "   MIR1182     0.251368 4.591129e-05           0.017428\n",
      "     MFSD3    -0.263686 5.142851e-05           0.019115\n",
      "      HAMP     0.337654 5.386082e-05           0.019611\n",
      "      CSTB    -0.331260 5.627139e-05           0.019703\n",
      "      OGG1     0.263761 5.632342e-05           0.019703\n",
      "    TSPAN8     0.282029 6.226026e-05           0.021361\n",
      "     RPTOR    -0.357332 6.362362e-05           0.021417\n",
      "  DNASE1L2     0.281509 9.262669e-05           0.030603\n",
      "   TNFAIP2     0.267062 9.492387e-05           0.030792\n",
      "     NOXO1     0.270656 9.940873e-05           0.031671\n",
      "      CHL1     0.256218 1.044191e-04           0.032683\n",
      "      SOX7    -0.217007 1.075263e-04           0.033075\n",
      "      GRM6     0.311299 1.178390e-04           0.035039\n",
      "  TMEM151B     0.236595 1.161377e-04           0.035039\n",
      "     KCNJ9     0.321876 1.288796e-04           0.037086\n",
      "     CMYA5    -0.251102 1.288196e-04           0.037086\n",
      "    IGFBP2     0.261505 1.315921e-04           0.037266\n",
      "   ANKRD11    -0.256459 1.343350e-04           0.037448\n",
      "       KHK     0.264130 1.385308e-04           0.037566\n",
      "      GJD4     0.259377 1.389678e-04           0.037566\n",
      "       CBS    -0.327485 1.412978e-04           0.037625\n",
      "     SRPK3     0.230276 1.438691e-04           0.037747\n",
      "    ZNF497     0.273449 1.484204e-04           0.038376\n",
      "    IL17RE    -0.245852 1.581538e-04           0.039741\n",
      "     EIF4E     0.326271 1.565717e-04           0.039741\n",
      "    AMIGO3     0.226848 1.671960e-04           0.041430\n",
      "    SLC2A1    -0.295594 1.826541e-04           0.044640\n",
      "     GPR75    -0.260602 1.961038e-04           0.047280\n"
     ]
    },
    {
     "name": "stderr",
     "output_type": "stream",
     "text": [
      "/home/yxcheng/AI4Science_gold_standard/stage1/Jianrong/../utils.py:478: SettingWithCopyWarning: \n",
      "A value is trying to be set on a copy of a slice from a DataFrame.\n",
      "Try using .loc[row_indexer,col_indexer] = value instead\n",
      "\n",
      "See the caveats in the documentation: https://pandas.pydata.org/pandas-docs/stable/user_guide/indexing.html#returning-a-view-versus-a-copy\n",
      "  gene_regression_df.loc[:, 'corrected_p_value'] = corrected_p_values\n"
     ]
    }
   ],
   "source": [
    "interpret_result(model2, feature_cols, TRAIT, condition, threshold=threshold, save_output=True,\n",
    "                 output_dir=OUTPUT_DIR, model_id=2)"
   ]
  }
 ],
 "metadata": {
  "colab": {
   "provenance": []
  },
  "kernelspec": {
   "display_name": "Python 3 (ipykernel)",
   "language": "python",
   "name": "python3"
  },
  "language_info": {
   "codemirror_mode": {
    "name": "ipython",
    "version": 3
   },
   "file_extension": ".py",
   "mimetype": "text/x-python",
   "name": "python",
   "nbconvert_exporter": "python",
   "pygments_lexer": "ipython3",
   "version": "3.11.9"
  }
 },
 "nbformat": 4,
 "nbformat_minor": 0
}
