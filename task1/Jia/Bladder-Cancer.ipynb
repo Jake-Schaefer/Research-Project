{
 "cells": [
  {
   "cell_type": "markdown",
   "metadata": {},
   "source": [
    "# Gold standard curation: Preprocessing and single-step regression"
   ]
  },
  {
   "cell_type": "markdown",
   "metadata": {},
   "source": [
    "In this stage of gold standard curation, we will do the data preprocessing, selection, and single-step regression for the 153 traits in our question set. This file shows the reference steps using the trait \"Breast Cancer\" as an example. The workflow consists of the following steps:\n",
    "\n",
    "1. Preprocess all the cohorts related to this trait. Each cohort should be converted to a tabular form and saved to a csv file, with columns being genetic factors, the trait, and age, gender if available;\n",
    "2. If there exists at least one cohort with age or gender information, conduct regression analysis with genetic features together with age or gender as the regressors.\n"
   ]
  },
  {
   "cell_type": "markdown",
   "metadata": {},
   "source": [
    "# 1. Basic setup"
   ]
  },
  {
   "cell_type": "code",
   "execution_count": 1,
   "metadata": {
    "ExecuteTime": {
     "end_time": "2023-12-31T21:19:07.313098989Z",
     "start_time": "2023-12-31T21:19:07.312718292Z"
    }
   },
   "outputs": [],
   "source": [
    "import os\n",
    "\n",
    "# Set your preferred name\n",
    "USER = \"Jinglin\"\n",
    "# Set the data and output directories\n",
    "DATA_ROOT = '../../DATA'\n",
    "OUTPUT_ROOT = '../../output1'\n",
    "TRAIT = 'Bladder Cancer'\n",
    "\n",
    "OUTPUT_DIR = os.path.join(OUTPUT_ROOT, USER, '-'.join(TRAIT.split()))\n",
    "JSON_PATH = os.path.join(OUTPUT_DIR, \"cohort_info.json\")\n",
    "if not os.path.exists(OUTPUT_DIR):\n",
    "    os.makedirs(OUTPUT_DIR, exist_ok=True)\n",
    "\n",
    "# Gene symbol normalization may take 1-2 minutes. You may set it to False for debugging.\n",
    "NORMALIZE_GENE = True"
   ]
  },
  {
   "cell_type": "code",
   "execution_count": 2,
   "metadata": {
    "ExecuteTime": {
     "end_time": "2023-12-31T21:19:07.680659936Z",
     "start_time": "2023-12-31T21:19:07.666959145Z"
    },
    "colab": {
     "base_uri": "https://localhost:8080/"
    },
    "id": "jMTdsU43vVg3",
    "outputId": "38886111-f442-44b4-8398-96bf384d7abd"
   },
   "outputs": [
    {
     "data": {
      "text/plain": [
       "\"import os\\nfrom google.colab import drive\\n\\ndrive.mount('/content/drive', force_remount=True)\\nproj_dir = '/content/drive/MyDrive/AI4Science_Public'\\nos.chdir(proj_dir)\""
      ]
     },
     "execution_count": 2,
     "metadata": {},
     "output_type": "execute_result"
    }
   ],
   "source": [
    "# This cell is only for use on Google Colab. Skip it if you run your code in other environments\n",
    "\n",
    "\"\"\"import os\n",
    "from google.colab import drive\n",
    "\n",
    "drive.mount('/content/drive', force_remount=True)\n",
    "proj_dir = '/content/drive/MyDrive/AI4Science_Public'\n",
    "os.chdir(proj_dir)\"\"\""
   ]
  },
  {
   "cell_type": "markdown",
   "metadata": {},
   "source": [
    "# 2. Data preprocessing and selection"
   ]
  },
  {
   "cell_type": "markdown",
   "metadata": {},
   "source": [
    "## 2.1. The TCGA Xena dataset"
   ]
  },
  {
   "cell_type": "markdown",
   "metadata": {},
   "source": [
    "In TCGA Xena, there is either zero or one cohort related to the trait. We search the names of subdirectories to see if any matches the trait. If a match is found, we directly obtain the file paths."
   ]
  },
  {
   "cell_type": "code",
   "execution_count": 3,
   "metadata": {},
   "outputs": [
    {
     "data": {
      "text/plain": [
       "['TCGA_Pancreatic_Cancer_(PAAD)',\n",
       " 'TCGA_Bladder_Cancer_(BLCA)',\n",
       " '.DS_Store',\n",
       " 'TCGA_Testicular_Cancer_(TGCT)',\n",
       " 'TCGA_Acute_Myeloid_Leukemia_(LAML)',\n",
       " 'TCGA_Breast_Cancer_(BRCA)',\n",
       " 'TCGA_Stomach_Cancer_(STAD)',\n",
       " 'TCGA_Thyroid_Cancer_(THCA)',\n",
       " 'TCGA_Glioblastoma_(GBM)']"
      ]
     },
     "execution_count": 3,
     "metadata": {},
     "output_type": "execute_result"
    }
   ],
   "source": [
    "import os\n",
    "from utils import *\n",
    "\n",
    "dataset = 'TCGA'\n",
    "dataset_dir = os.path.join(DATA_ROOT, dataset)\n",
    "os.listdir(dataset_dir)[:10]"
   ]
  },
  {
   "cell_type": "markdown",
   "metadata": {},
   "source": [
    "If no match is found, jump directly to GEO in Part 2.2"
   ]
  },
  {
   "cell_type": "code",
   "execution_count": 4,
   "metadata": {
    "ExecuteTime": {
     "end_time": "2023-12-31T21:19:09.918243934Z",
     "start_time": "2023-12-31T21:19:09.909021135Z"
    }
   },
   "outputs": [],
   "source": [
    "trait_subdir = \"TCGA_Bladder_Cancer_(BLCA)\"\n",
    "cohort = 'Xena'\n",
    "# All the cancer traits in Xena are binary\n",
    "trait_type = 'binary'\n",
    "# Once a relevant cohort is found in Xena, we can generally assume the gene and clinical data are available\n",
    "is_available = True\n",
    "\n",
    "clinical_data_file = os.path.join(dataset_dir, trait_subdir, 'TCGA.BLCA.sampleMap_BLCA_clinicalMatrix')\n",
    "genetic_data_file = os.path.join(dataset_dir, trait_subdir, 'TCGA.BLCA.sampleMap_HiSeqV2_PANCAN.gz')"
   ]
  },
  {
   "cell_type": "code",
   "execution_count": 5,
   "metadata": {
    "ExecuteTime": {
     "end_time": "2023-12-31T21:19:13.613198409Z",
     "start_time": "2023-12-31T21:19:10.409688003Z"
    },
    "id": "MudwB-_iz7sc"
   },
   "outputs": [],
   "source": [
    "import pandas as pd\n",
    "\n",
    "clinical_data = pd.read_csv(clinical_data_file, sep='\\t', index_col=0)\n",
    "genetic_data = pd.read_csv(genetic_data_file, compression='gzip', sep='\\t', index_col=0)\n",
    "age_col = gender_col = None"
   ]
  },
  {
   "cell_type": "code",
   "execution_count": 6,
   "metadata": {
    "ExecuteTime": {
     "end_time": "2023-12-31T21:19:13.617006167Z",
     "start_time": "2023-12-31T21:19:13.614080653Z"
    }
   },
   "outputs": [],
   "source": [
    "_, clinical_data_cols = check_rows_and_columns(clinical_data)"
   ]
  },
  {
   "cell_type": "code",
   "execution_count": 7,
   "metadata": {
    "ExecuteTime": {
     "end_time": "2023-12-31T21:19:13.661538569Z",
     "start_time": "2023-12-31T21:19:13.615946213Z"
    }
   },
   "outputs": [
    {
     "data": {
      "text/plain": [
       "['_INTEGRATION',\n",
       " '_PANCAN_CNA_PANCAN_K8',\n",
       " '_PANCAN_Cluster_Cluster_PANCAN',\n",
       " '_PANCAN_DNAMethyl_BLCA',\n",
       " '_PANCAN_DNAMethyl_PANCAN',\n",
       " '_PANCAN_RPPA_PANCAN_K8',\n",
       " '_PANCAN_UNC_RNAseq_PANCAN_K16',\n",
       " '_PANCAN_miRNA_PANCAN',\n",
       " '_PANCAN_mirna_BLCA',\n",
       " '_PANCAN_mutation_PANCAN']"
      ]
     },
     "execution_count": 7,
     "metadata": {},
     "output_type": "execute_result"
    }
   ],
   "source": [
    "clinical_data_cols[:10]"
   ]
  },
  {
   "cell_type": "markdown",
   "metadata": {
    "ExecuteTime": {
     "end_time": "2023-12-28T20:20:11.841042813Z",
     "start_time": "2023-12-28T20:20:11.834458206Z"
    }
   },
   "source": [
    "Read all the column names in the clinical dataset, to find the columns that record information about age or gender.\n",
    "Reference prompt:"
   ]
  },
  {
   "cell_type": "code",
   "execution_count": 8,
   "metadata": {
    "ExecuteTime": {
     "end_time": "2023-12-31T21:19:13.661858700Z",
     "start_time": "2023-12-31T21:19:13.656749487Z"
    }
   },
   "outputs": [
    {
     "data": {
      "text/plain": [
       "\"\\nBelow is a list of column names from a biomedical dataset. Please examine it and identify the columns that are likely to contain information about patients' age. Additionally, please do the same for columns that may hold data on patients' gender. Please provide your answer by strictly following this format, without redundant words:\\ncandidate_age_cols = [col_name1, col_name2, ...]\\ncandidate_gender_cols = [col_name1, col_name2, ...]\\nIf no columns match a criterion, please provide an empty list.\\n\\nColumn names:\\n['_INTEGRATION', '_PANCAN_CNA_PANCAN_K8', '_PANCAN_Cluster_Cluster_PANCAN', '_PANCAN_DNAMethyl_BLCA', '_PANCAN_DNAMethyl_PANCAN', '_PANCAN_RPPA_PANCAN_K8', '_PANCAN_UNC_RNAseq_PANCAN_K16', '_PANCAN_miRNA_PANCAN', '_PANCAN_mirna_BLCA', '_PANCAN_mutation_PANCAN', '_PATIENT', '_cohort', '_primary_disease', '_primary_site', 'additional_pharmaceutical_therapy', 'additional_radiation_therapy', 'additional_surgery_locoregional_procedure', 'additional_treatment_completion_success_outcome', 'age_at_initial_pathologic_diagnosis', 'age_began_smoking_in_years', 'anatomic_neoplasm_subdivision', 'bcr_followup_barcode', 'bcr_patient_barcode', 'bcr_sample_barcode', 'bladder_carcinoma_extracapsular_extension_status', 'cancer_diagnosis_cancer_type_icd9_text_name', 'chemical_exposure_text', 'clinical_T', 'complete_response_observed', 'days_to_additional_surgery_metastatic_procedure', 'days_to_birth', 'days_to_collection', 'days_to_death', 'days_to_initial_pathologic_diagnosis', 'days_to_last_followup', 'days_to_new_tumor_event_additional_surgery_procedure', 'days_to_new_tumor_event_after_initial_treatment', 'diagnosis_subtype', 'disease_code', 'disease_extracapsular_extension_ind_3', 'eastern_cancer_oncology_group', 'family_member_relationship_type', 'followup_case_report_form_submission_reason', 'form_completion_date', 'gender', 'height', 'hist_of_non_mibc', 'histological_type', 'history_of_neoadjuvant_treatment', 'icd_10', 'icd_o_3_histology', 'icd_o_3_site', 'induction_course_complete', 'informed_consent_verified', 'init_pathology_dx_method_other', 'initial_pathologic_diagnosis_method', 'initial_weight', 'is_ffpe', 'karnofsky_performance_score', 'lost_follow_up', 'lymph_node_examined_count', 'lymphovascular_invasion_present', 'maint_therapy_course_complete', 'metastatic_site', 'mibc_90day_post_resection_bcg', 'neoplasm_histologic_grade', 'new_neoplasm_event_occurrence_anatomic_site', 'new_neoplasm_event_type', 'new_neoplasm_occurrence_anatomic_site_text', 'new_tumor_event_additional_surgery_procedure', 'new_tumor_event_after_initial_treatment', 'non_mibc_tx', 'number_of_lymphnodes_positive_by_he', 'number_pack_years_smoked', 'occupation_primary_job', 'oct_embedded', 'other_dx', 'other_metastatic_site', 'pathologic_M', 'pathologic_N', 'pathologic_T', 'pathologic_stage', 'pathology_report_file_name', 'patient_id', 'person_concomitant_prostate_carcinoma_occurrence_indicator', 'person_concomitant_prostate_carcinoma_pathologic_t_stage', 'person_neoplasm_cancer_status', 'person_occupation_description_text', 'person_occupation_years_number', 'person_primary_industry_text', 'postoperative_rx_tx', 'primary_lymph_node_presentation_assessment', 'primary_therapy_outcome_success', 'project_code', 'radiation_therapy', 'resp_maint_from_bcg_admin_month_dur', 'sample_type', 'sample_type_id', 'stopped_smoking_year', 'system_version', 'targeted_molecular_therapy', 'tissue_prospective_collection_indicator', 'tissue_retrospective_collection_indicator', 'tissue_source_site', 'tobacco_smoking_history', 'tumor_tissue_site', 'vial_number', 'vital_status', 'weight', 'year_of_initial_pathologic_diagnosis', '_GENOMIC_ID_TCGA_BLCA_RPPA', '_GENOMIC_ID_TCGA_BLCA_mutation_curated_broad_gene', '_GENOMIC_ID_TCGA_BLCA_mutation', '_GENOMIC_ID_TCGA_BLCA_gistic2thd', '_GENOMIC_ID_TCGA_BLCA_RPPA_RBN', '_GENOMIC_ID_data/public/TCGA/BLCA/miRNA_HiSeq_gene', '_GENOMIC_ID_TCGA_BLCA_PDMRNAseqCNV', '_GENOMIC_ID_TCGA_BLCA_PDMRNAseq', '_GENOMIC_ID_TCGA_BLCA_mutation_broad_gene', '_GENOMIC_ID_data/public/TCGA/BLCA/miRNA_GA_gene', '_GENOMIC_ID_TCGA_BLCA_exp_HiSeqV2', '_GENOMIC_ID_TCGA_BLCA_exp_HiSeqV2_percentile', '_GENOMIC_ID_TCGA_BLCA_exp_HiSeqV2_exon', '_GENOMIC_ID_TCGA_BLCA_exp_HiSeqV2_PANCAN', '_GENOMIC_ID_TCGA_BLCA_miRNA_HiSeq', '_GENOMIC_ID_TCGA_BLCA_miRNA_GA', '_GENOMIC_ID_TCGA_BLCA_hMethyl450', '_GENOMIC_ID_TCGA_BLCA_mutation_bcgsc_gene', '_GENOMIC_ID_TCGA_BLCA_gistic2']\\n\""
      ]
     },
     "execution_count": 8,
     "metadata": {},
     "output_type": "execute_result"
    }
   ],
   "source": [
    "f'''\n",
    "Below is a list of column names from a biomedical dataset. Please examine it and identify the columns that are likely to contain information about patients' age. Additionally, please do the same for columns that may hold data on patients' gender. Please provide your answer by strictly following this format, without redundant words:\n",
    "candidate_age_cols = [col_name1, col_name2, ...]\n",
    "candidate_gender_cols = [col_name1, col_name2, ...]\n",
    "If no columns match a criterion, please provide an empty list.\n",
    "\n",
    "Column names:\n",
    "{clinical_data_cols}\n",
    "'''"
   ]
  },
  {
   "cell_type": "code",
   "execution_count": 9,
   "metadata": {
    "ExecuteTime": {
     "end_time": "2023-12-31T21:19:13.661938833Z",
     "start_time": "2023-12-31T21:19:13.656901848Z"
    }
   },
   "outputs": [],
   "source": [
    "candidate_age_cols = ['age_at_initial_pathologic_diagnosis',\n",
    "                      'days_to_birth', 'year_of_initial_pathologic_diagnosis']\n",
    "candidate_gender_cols = ['gender']"
   ]
  },
  {
   "cell_type": "markdown",
   "metadata": {
    "ExecuteTime": {
     "end_time": "2023-12-31T03:57:44.207565572Z",
     "start_time": "2023-12-31T03:57:44.202177544Z"
    }
   },
   "source": [
    "Choose a single column from the candidate columns that record age and gender information respectively.\n",
    "If no column meets the requirement, keep 'age_col' or 'gender_col' to None"
   ]
  },
  {
   "cell_type": "code",
   "execution_count": 10,
   "metadata": {
    "ExecuteTime": {
     "end_time": "2023-12-31T21:19:13.662078139Z",
     "start_time": "2023-12-31T21:19:13.657006017Z"
    }
   },
   "outputs": [
    {
     "data": {
      "text/plain": [
       "{'age_at_initial_pathologic_diagnosis': [63, 66, 69, 59, 83],\n",
       " 'days_to_birth': [-23323.0, -24428.0, -25259.0, -21848.0, -30520.0],\n",
       " 'year_of_initial_pathologic_diagnosis': [2008.0,\n",
       "  2011.0,\n",
       "  2007.0,\n",
       "  2000.0,\n",
       "  2006.0]}"
      ]
     },
     "execution_count": 10,
     "metadata": {},
     "output_type": "execute_result"
    }
   ],
   "source": [
    "preview_df(clinical_data[candidate_age_cols])"
   ]
  },
  {
   "cell_type": "code",
   "execution_count": 11,
   "metadata": {
    "ExecuteTime": {
     "end_time": "2023-12-31T21:19:13.777159137Z",
     "start_time": "2023-12-31T21:19:13.756210135Z"
    }
   },
   "outputs": [],
   "source": [
    "age_col = 'age_at_initial_pathologic_diagnosis'"
   ]
  },
  {
   "cell_type": "code",
   "execution_count": 12,
   "metadata": {
    "ExecuteTime": {
     "end_time": "2023-12-31T21:19:14.313425023Z",
     "start_time": "2023-12-31T21:19:14.305221062Z"
    }
   },
   "outputs": [
    {
     "data": {
      "text/plain": [
       "{'gender': ['MALE', 'MALE', 'MALE', 'FEMALE', 'MALE']}"
      ]
     },
     "execution_count": 12,
     "metadata": {},
     "output_type": "execute_result"
    }
   ],
   "source": [
    "preview_df(clinical_data[candidate_gender_cols])"
   ]
  },
  {
   "cell_type": "code",
   "execution_count": 13,
   "metadata": {
    "ExecuteTime": {
     "end_time": "2023-12-31T21:19:14.852502962Z",
     "start_time": "2023-12-31T21:19:14.845153121Z"
    }
   },
   "outputs": [],
   "source": [
    "gender_col = 'gender'"
   ]
  },
  {
   "cell_type": "code",
   "execution_count": 14,
   "metadata": {
    "ExecuteTime": {
     "end_time": "2023-12-31T21:19:15.246065025Z",
     "start_time": "2023-12-31T21:19:15.240279162Z"
    }
   },
   "outputs": [],
   "source": [
    "selected_clinical_data = xena_select_clinical_features(clinical_data, TRAIT, age_col, gender_col)"
   ]
  },
  {
   "cell_type": "code",
   "execution_count": 15,
   "metadata": {
    "ExecuteTime": {
     "end_time": "2023-12-31T21:19:15.593478652Z",
     "start_time": "2023-12-31T21:19:15.583841656Z"
    }
   },
   "outputs": [
    {
     "name": "stderr",
     "output_type": "stream",
     "text": [
      "13 input query terms found dup hits:\t[('GTF2IP1', 2), ('RBMY1A3P', 3), ('RPL31P11', 2), ('HERC2P2', 3), ('WASH3P', 3), ('NUDT9P1', 2), ('\n",
      "154 input query terms found no hit:\t['C16orf13', 'C16orf11', 'LOC100272146', 'LOC339240', 'NACAP1', 'LOC441204', 'KLRA1', 'FAM183A', 'FA\n",
      "10 input query terms found dup hits:\t[('SUGT1P1', 2), ('PTPRVP', 2), ('SNORA62', 3), ('IFITM4P', 7), ('HLA-DRB6', 2), ('FUNDC2P2', 2), ('\n",
      "190 input query terms found no hit:\t['NARFL', 'NFKBIL2', 'LOC150197', 'TMEM84', 'LOC162632', 'PPPDE1', 'PPPDE2', 'C1orf38', 'C1orf31', '\n",
      "11 input query terms found dup hits:\t[('PIP5K1P1', 2), ('HBD', 2), ('PPP1R2P1', 9), ('HSD17B7P2', 2), ('RPSAP9', 2), ('SNORD68', 2), ('SN\n",
      "149 input query terms found no hit:\t['FAM153C', 'C9orf167', 'CLK2P', 'CCDC76', 'CCDC75', 'CCDC72', 'HIST3H2BB', 'PRAC', 'LOC285780', 'LO\n",
      "15 input query terms found dup hits:\t[('SNORD58C', 2), ('UOX', 2), ('UBE2Q2P1', 3), ('PPP4R1L', 2), ('SNORD63', 3), ('ESPNP', 2), ('HBBP1\n",
      "158 input query terms found no hit:\t['C16orf91', 'LOC100130581', 'SFRS2', 'C16orf5', 'C16orf7', 'C16orf3', 'C21orf7', 'C21orf2', 'LOC389\n",
      "15 input query terms found dup hits:\t[('FAM66D', 3), ('FAM66A', 2), ('THSD1P1', 2), ('EEF1DP3', 2), ('PGM5P2', 2), ('UBE2MP1', 2), ('HAR1\n",
      "169 input query terms found no hit:\t['LOC284551', 'LOC285548', 'LOC728410', 'LOC541473', 'DULLARD', 'KIAA0368', 'EFTUD1', 'TWISTNB', 'SF\n",
      "13 input query terms found dup hits:\t[('S100A7L2', 2), ('POM121L8P', 2), ('MEG8', 2), ('KIR3DX1', 5), ('RFPL1S', 2), ('SNORD91B', 2), ('C\n",
      "165 input query terms found no hit:\t['TMEM188', 'PDZD3', 'FAM102B', 'FAM102A', 'SMCR7L', 'G6PC', 'OSTCL', 'LOC653544', 'LOC653545', 'USP\n",
      "16 input query terms found dup hits:\t[('PCNAP1', 2), ('SNORA63', 6), ('SERHL', 2), ('CEACAM22P', 2), ('SNORA16A', 2), ('FAM41AY1', 2), ('\n",
      "147 input query terms found no hit:\t['LRRC37A4', 'LOC100131726', 'CPSF3L', 'COL4A3BP', 'PAR1', 'LOC92973', 'MICALCL', 'SMCR7', 'HIST4H4'\n",
      "15 input query terms found dup hits:\t[('MBL1P', 2), ('SDHAP3', 2), ('PSORS1C3', 8), ('MYADML', 2), ('POM121L10P', 2), ('HLA-J', 9), ('HLA\n",
      "153 input query terms found no hit:\t['LOC100131193', 'KIAA1109', 'DUS2L', 'MYST1', 'IGLL3', 'C12orf69', 'NEURL', 'FAM188B', 'FLJ32063', \n",
      "9 input query terms found dup hits:\t[('PLGLA', 2), ('PA2G4P4', 2), ('RPL23AP7', 2), ('RPL23AP64', 3), ('RPSAP52', 2), ('TPRXL', 2), ('DP\n",
      "177 input query terms found no hit:\t['LOC283314', 'RBM9', 'C20orf118', 'LOC150786', 'C20orf112', 'C20orf111', 'C20orf117', 'C20orf114', \n",
      "18 input query terms found dup hits:\t[('TPTE2P1', 2), ('FOLH1B', 2), ('ID2B', 2), ('MSX2P1', 2), ('RAET1K', 2), ('BMS1P4', 2), ('RPL23AP8\n",
      "175 input query terms found no hit:\t['MYEOV2', 'FAM35B2', 'C20orf85', 'FAM175A', 'C17orf73', 'C17orf72', 'C17orf71', 'C17orf70', 'C17orf\n",
      "19 input query terms found dup hits:\t[('CATSPER2P1', 2), ('AQP7P1', 2), ('ATP8B5P', 2), ('OR7E91P', 2), ('ZNF204P', 2), ('CECR7', 2), ('M\n",
      "144 input query terms found no hit:\t['BASE', 'C14orf21', 'C14orf23', 'FAM5B', 'TROVE2', 'C18orf62', 'LOC401052', 'GNB2L1', 'FAM19A4', 'F\n",
      "13 input query terms found dup hits:\t[('P2RX6P', 2), ('RP9P', 2), ('NRADDP', 2), ('MORF4', 2), ('SNORA75', 6), ('SNORA72', 2), ('FMO6P', \n",
      "169 input query terms found no hit:\t['TTC15', 'C4orf29', 'FAM48A', 'C4orf21', 'C3orf65', 'C4orf23', 'C3orf67', 'LOC144742', 'C3orf63', '\n",
      "19 input query terms found dup hits:\t[('RPL13AP17', 2), ('DNAJB3', 2), ('SNORA58', 2), ('PMCHL1', 2), ('FAM95B1', 2), ('TMEM191A', 2), ('\n",
      "144 input query terms found no hit:\t['LOC254312', 'ZNF542', 'CSDAP1', 'FAM73A', 'FAM73B', 'TCTE3', 'ZNF37B', 'LOC728875', 'KIAA1826', 'P\n",
      "15 input query terms found dup hits:\t[('ZFP91-CNTF', 2), ('PRSS30P', 3), ('GSTM2P1', 2), ('C3P1', 2), ('NCF1B', 2), ('SNORD114-4', 2), ('\n",
      "138 input query terms found no hit:\t['LOC100129716', 'C14orf184', 'C14orf181', 'C14orf183', 'C14orf182', 'C7orf26', 'C7orf27', 'C7orf23'\n",
      "14 input query terms found dup hits:\t[('ANXA2P1', 2), ('ANXA2P3', 2), ('ANXA2P2', 2), ('ZNF286B', 2), ('SAA3P', 2), ('GEMIN8P4', 2), ('DI\n",
      "132 input query terms found no hit:\t['AKR1CL1', 'CCDC21', 'CCDC23', 'TMEM111', 'APOB48R', 'LOC595101', 'KIAA1430', 'KIAA1432', 'ORC4L', \n",
      "11 input query terms found dup hits:\t[('TCP10L2', 2), ('FTLP10', 2), ('TPTE2P3', 2), ('VENTXP1', 2), ('XKRY', 2), ('HTR7P1', 2), ('STAG3L\n",
      "175 input query terms found no hit:\t['DFNB59', 'LOC100170939', 'FAM36A', 'C2orf70', 'C2orf71', 'C2orf77', 'C2orf79', 'LOC100128191', 'HR\n",
      "16 input query terms found dup hits:\t[('ZNF702P', 2), ('BRD7P3', 2), ('SCARNA17', 2), ('GABARAPL3', 2), ('MT1IP', 2), ('ADAM6', 3), ('PDZ\n",
      "142 input query terms found no hit:\t['C9orf30', 'PEG3AS', 'C9orf37', 'TXNDC3', 'LOC442308', 'FAM46D', 'FAM46A', 'FAM46B', 'FAM46C', 'WDR\n",
      "10 input query terms found dup hits:\t[('FAM197Y2', 3), ('SNORA71B', 2), ('PRKY', 2), ('NAT8B', 3), ('VENTXP7', 2), ('SPRR2C', 2), ('RPL23\n",
      "148 input query terms found no hit:\t['FCGR1B', 'RG9MTD2', 'RARS', 'LOC727677', 'CCRN4L', 'SEPT14', 'HKR1', 'C1orf112', 'LOC100270710', '\n",
      "16 input query terms found dup hits:\t[('OR6W1P', 3), ('LYPLA2P1', 6), ('RPL23AP53', 2), ('TRPC2', 2), ('RBMY2FP', 2), ('BAGE2', 2), ('POM\n",
      "150 input query terms found no hit:\t['SIP1', 'FAM129C', 'GIF', 'TMCO7', 'CXorf61', 'CXorf64', 'ZNF192', 'SEPP1', 'KIRREL', 'MGC16121', '\n",
      "17 input query terms found dup hits:\t[('ISCA1P1', 2), ('PCDHB19P', 3), ('NAPSB', 2), ('WASH7P', 2), ('TTTY11', 2), ('HCG4', 9), ('OR5E1P'\n",
      "135 input query terms found no hit:\t['PPYR1', 'FAM82A2', 'FLJ37453', 'FAM82A1', 'KIAA0947', 'MOBKL2B', 'MOBKL2C', 'MOBKL2A', 'CMAH', 'GR\n",
      "5 input query terms found dup hits:\t[('GGNBP1', 2), ('WASH5P', 2), ('RPL29P2', 2), ('CDR1', 2), ('OR10J3', 3)]\n",
      "78 input query terms found no hit:\t['C14orf174', 'C14orf176', 'C14orf177', 'C14orf179', 'PTPLB', 'SGEF', 'LOC400752', 'GRLF1', 'SPANXE'\n"
     ]
    }
   ],
   "source": [
    "genetic_data = normalize_gene_symbols_in_index(genetic_data)"
   ]
  },
  {
   "cell_type": "code",
   "execution_count": 16,
   "metadata": {
    "ExecuteTime": {
     "end_time": "2023-12-31T21:19:16.074598194Z",
     "start_time": "2023-12-31T21:19:15.973600157Z"
    }
   },
   "outputs": [
    {
     "data": {
      "text/html": [
       "<div>\n",
       "<style scoped>\n",
       "    .dataframe tbody tr th:only-of-type {\n",
       "        vertical-align: middle;\n",
       "    }\n",
       "\n",
       "    .dataframe tbody tr th {\n",
       "        vertical-align: top;\n",
       "    }\n",
       "\n",
       "    .dataframe thead th {\n",
       "        text-align: right;\n",
       "    }\n",
       "</style>\n",
       "<table border=\"1\" class=\"dataframe\">\n",
       "  <thead>\n",
       "    <tr style=\"text-align: right;\">\n",
       "      <th></th>\n",
       "      <th>Bladder Cancer</th>\n",
       "      <th>Age</th>\n",
       "      <th>Gender</th>\n",
       "      <th>ARHGEF10L</th>\n",
       "      <th>HIF3A</th>\n",
       "      <th>RNF17</th>\n",
       "      <th>RNF10</th>\n",
       "      <th>RNF11</th>\n",
       "      <th>RNF13</th>\n",
       "      <th>GTF2IP1</th>\n",
       "      <th>...</th>\n",
       "      <th>SLC7A10</th>\n",
       "      <th>PLA2G2C</th>\n",
       "      <th>TULP2</th>\n",
       "      <th>NPY5R</th>\n",
       "      <th>GNGT2</th>\n",
       "      <th>GNGT1</th>\n",
       "      <th>TULP3</th>\n",
       "      <th>BCL6B</th>\n",
       "      <th>GSTK1</th>\n",
       "      <th>SELP</th>\n",
       "    </tr>\n",
       "    <tr>\n",
       "      <th>sampleID</th>\n",
       "      <th></th>\n",
       "      <th></th>\n",
       "      <th></th>\n",
       "      <th></th>\n",
       "      <th></th>\n",
       "      <th></th>\n",
       "      <th></th>\n",
       "      <th></th>\n",
       "      <th></th>\n",
       "      <th></th>\n",
       "      <th></th>\n",
       "      <th></th>\n",
       "      <th></th>\n",
       "      <th></th>\n",
       "      <th></th>\n",
       "      <th></th>\n",
       "      <th></th>\n",
       "      <th></th>\n",
       "      <th></th>\n",
       "      <th></th>\n",
       "      <th></th>\n",
       "    </tr>\n",
       "  </thead>\n",
       "  <tbody>\n",
       "    <tr>\n",
       "      <th>TCGA-2F-A9KO-01</th>\n",
       "      <td>1</td>\n",
       "      <td>63</td>\n",
       "      <td>1</td>\n",
       "      <td>0.221008</td>\n",
       "      <td>4.428374</td>\n",
       "      <td>-0.531035</td>\n",
       "      <td>0.720328</td>\n",
       "      <td>-0.408078</td>\n",
       "      <td>-0.39141</td>\n",
       "      <td>0.048706</td>\n",
       "      <td>...</td>\n",
       "      <td>-2.090786</td>\n",
       "      <td>-0.086682</td>\n",
       "      <td>-0.086078</td>\n",
       "      <td>-0.128017</td>\n",
       "      <td>0.094667</td>\n",
       "      <td>3.01571</td>\n",
       "      <td>0.049323</td>\n",
       "      <td>-0.418127</td>\n",
       "      <td>0.095905</td>\n",
       "      <td>1.301467</td>\n",
       "    </tr>\n",
       "    <tr>\n",
       "      <th>TCGA-2F-A9KP-01</th>\n",
       "      <td>1</td>\n",
       "      <td>66</td>\n",
       "      <td>1</td>\n",
       "      <td>1.334508</td>\n",
       "      <td>-2.541326</td>\n",
       "      <td>-0.531035</td>\n",
       "      <td>0.490728</td>\n",
       "      <td>0.523922</td>\n",
       "      <td>-0.59311</td>\n",
       "      <td>0.178806</td>\n",
       "      <td>...</td>\n",
       "      <td>-1.584586</td>\n",
       "      <td>-0.086682</td>\n",
       "      <td>0.124822</td>\n",
       "      <td>-1.085217</td>\n",
       "      <td>-2.360533</td>\n",
       "      <td>1.65561</td>\n",
       "      <td>-0.402877</td>\n",
       "      <td>-0.135527</td>\n",
       "      <td>0.417805</td>\n",
       "      <td>0.588167</td>\n",
       "    </tr>\n",
       "    <tr>\n",
       "      <th>TCGA-2F-A9KQ-01</th>\n",
       "      <td>1</td>\n",
       "      <td>69</td>\n",
       "      <td>1</td>\n",
       "      <td>1.173308</td>\n",
       "      <td>-5.554726</td>\n",
       "      <td>-0.531035</td>\n",
       "      <td>1.647728</td>\n",
       "      <td>0.518622</td>\n",
       "      <td>0.02829</td>\n",
       "      <td>0.800406</td>\n",
       "      <td>...</td>\n",
       "      <td>-1.541286</td>\n",
       "      <td>-0.086682</td>\n",
       "      <td>-0.748878</td>\n",
       "      <td>0.498683</td>\n",
       "      <td>-0.768233</td>\n",
       "      <td>-0.33489</td>\n",
       "      <td>-0.685077</td>\n",
       "      <td>0.392573</td>\n",
       "      <td>-0.115395</td>\n",
       "      <td>-1.106033</td>\n",
       "    </tr>\n",
       "    <tr>\n",
       "      <th>TCGA-2F-A9KR-01</th>\n",
       "      <td>1</td>\n",
       "      <td>59</td>\n",
       "      <td>0</td>\n",
       "      <td>1.090208</td>\n",
       "      <td>0.971574</td>\n",
       "      <td>-0.531035</td>\n",
       "      <td>0.256228</td>\n",
       "      <td>0.586622</td>\n",
       "      <td>-0.73021</td>\n",
       "      <td>0.636006</td>\n",
       "      <td>...</td>\n",
       "      <td>0.311914</td>\n",
       "      <td>-0.086682</td>\n",
       "      <td>0.214422</td>\n",
       "      <td>-1.587117</td>\n",
       "      <td>-1.082733</td>\n",
       "      <td>1.90011</td>\n",
       "      <td>0.422823</td>\n",
       "      <td>-1.583627</td>\n",
       "      <td>0.596105</td>\n",
       "      <td>-0.924533</td>\n",
       "    </tr>\n",
       "    <tr>\n",
       "      <th>TCGA-2F-A9KT-01</th>\n",
       "      <td>1</td>\n",
       "      <td>83</td>\n",
       "      <td>1</td>\n",
       "      <td>0.955008</td>\n",
       "      <td>-1.481926</td>\n",
       "      <td>0.115365</td>\n",
       "      <td>-0.039972</td>\n",
       "      <td>0.746322</td>\n",
       "      <td>-0.59151</td>\n",
       "      <td>0.365906</td>\n",
       "      <td>...</td>\n",
       "      <td>0.763114</td>\n",
       "      <td>-0.086682</td>\n",
       "      <td>-0.748878</td>\n",
       "      <td>-1.587117</td>\n",
       "      <td>-0.136933</td>\n",
       "      <td>1.87471</td>\n",
       "      <td>0.027523</td>\n",
       "      <td>-0.462527</td>\n",
       "      <td>-0.186195</td>\n",
       "      <td>-2.369433</td>\n",
       "    </tr>\n",
       "  </tbody>\n",
       "</table>\n",
       "<p>5 rows × 17341 columns</p>\n",
       "</div>"
      ],
      "text/plain": [
       "                 Bladder Cancer  Age  Gender  ARHGEF10L     HIF3A     RNF17  \\\n",
       "sampleID                                                                      \n",
       "TCGA-2F-A9KO-01               1   63       1   0.221008  4.428374 -0.531035   \n",
       "TCGA-2F-A9KP-01               1   66       1   1.334508 -2.541326 -0.531035   \n",
       "TCGA-2F-A9KQ-01               1   69       1   1.173308 -5.554726 -0.531035   \n",
       "TCGA-2F-A9KR-01               1   59       0   1.090208  0.971574 -0.531035   \n",
       "TCGA-2F-A9KT-01               1   83       1   0.955008 -1.481926  0.115365   \n",
       "\n",
       "                    RNF10     RNF11    RNF13   GTF2IP1  ...   SLC7A10  \\\n",
       "sampleID                                                ...             \n",
       "TCGA-2F-A9KO-01  0.720328 -0.408078 -0.39141  0.048706  ... -2.090786   \n",
       "TCGA-2F-A9KP-01  0.490728  0.523922 -0.59311  0.178806  ... -1.584586   \n",
       "TCGA-2F-A9KQ-01  1.647728  0.518622  0.02829  0.800406  ... -1.541286   \n",
       "TCGA-2F-A9KR-01  0.256228  0.586622 -0.73021  0.636006  ...  0.311914   \n",
       "TCGA-2F-A9KT-01 -0.039972  0.746322 -0.59151  0.365906  ...  0.763114   \n",
       "\n",
       "                  PLA2G2C     TULP2     NPY5R     GNGT2    GNGT1     TULP3  \\\n",
       "sampleID                                                                     \n",
       "TCGA-2F-A9KO-01 -0.086682 -0.086078 -0.128017  0.094667  3.01571  0.049323   \n",
       "TCGA-2F-A9KP-01 -0.086682  0.124822 -1.085217 -2.360533  1.65561 -0.402877   \n",
       "TCGA-2F-A9KQ-01 -0.086682 -0.748878  0.498683 -0.768233 -0.33489 -0.685077   \n",
       "TCGA-2F-A9KR-01 -0.086682  0.214422 -1.587117 -1.082733  1.90011  0.422823   \n",
       "TCGA-2F-A9KT-01 -0.086682 -0.748878 -1.587117 -0.136933  1.87471  0.027523   \n",
       "\n",
       "                    BCL6B     GSTK1      SELP  \n",
       "sampleID                                       \n",
       "TCGA-2F-A9KO-01 -0.418127  0.095905  1.301467  \n",
       "TCGA-2F-A9KP-01 -0.135527  0.417805  0.588167  \n",
       "TCGA-2F-A9KQ-01  0.392573 -0.115395 -1.106033  \n",
       "TCGA-2F-A9KR-01 -1.583627  0.596105 -0.924533  \n",
       "TCGA-2F-A9KT-01 -0.462527 -0.186195 -2.369433  \n",
       "\n",
       "[5 rows x 17341 columns]"
      ]
     },
     "execution_count": 16,
     "metadata": {},
     "output_type": "execute_result"
    }
   ],
   "source": [
    "merged_data = selected_clinical_data.join(genetic_data.T).dropna()\n",
    "merged_data.head()"
   ]
  },
  {
   "cell_type": "code",
   "execution_count": 17,
   "metadata": {
    "ExecuteTime": {
     "end_time": "2023-12-31T21:19:16.341121723Z",
     "start_time": "2023-12-31T21:19:16.330544222Z"
    }
   },
   "outputs": [
    {
     "name": "stdout",
     "output_type": "stream",
     "text": [
      "The merged dataset contains 426 samples.\n"
     ]
    }
   ],
   "source": [
    "print(f\"The merged dataset contains {len(merged_data)} samples.\")"
   ]
  },
  {
   "cell_type": "code",
   "execution_count": 18,
   "metadata": {
    "ExecuteTime": {
     "end_time": "2023-12-31T21:19:17.222505900Z",
     "start_time": "2023-12-31T21:19:17.218781412Z"
    }
   },
   "outputs": [
    {
     "name": "stdout",
     "output_type": "stream",
     "text": [
      "For the feature 'Bladder Cancer', the least common label is '0' with 19 occurrences. This represents 4.46% of the dataset.\n",
      "The distribution of the feature 'Bladder Cancer' in this dataset is fine.\n",
      "\n",
      "Quartiles for 'Age':\n",
      "  25%: 60.0\n",
      "  50% (Median): 69.0\n",
      "  75%: 76.0\n",
      "Min: 34\n",
      "Max: 90\n",
      "The distribution of the feature 'Age' in this dataset is fine.\n",
      "\n",
      "For the feature 'Gender', the least common label is '0' with 115 occurrences. This represents 27.00% of the dataset.\n",
      "The distribution of the feature 'Gender' in this dataset is fine.\n",
      "\n"
     ]
    },
    {
     "data": {
      "text/plain": [
       "False"
      ]
     },
     "execution_count": 18,
     "metadata": {},
     "output_type": "execute_result"
    }
   ],
   "source": [
    "is_trait_biased, merge_data = judge_and_remove_biased_features(merged_data, TRAIT, trait_type=trait_type)\n",
    "is_trait_biased"
   ]
  },
  {
   "cell_type": "code",
   "execution_count": 19,
   "metadata": {
    "ExecuteTime": {
     "end_time": "2023-12-31T21:19:35.401536463Z",
     "start_time": "2023-12-31T21:19:17.980683628Z"
    }
   },
   "outputs": [],
   "source": [
    "merged_data.head()\n",
    "if not is_trait_biased:\n",
    "    merge_data.to_csv(os.path.join(OUTPUT_DIR, cohort+'.csv'), index=False)"
   ]
  },
  {
   "cell_type": "code",
   "execution_count": 20,
   "metadata": {
    "ExecuteTime": {
     "end_time": "2023-12-31T21:19:35.405288661Z",
     "start_time": "2023-12-31T21:19:35.402799553Z"
    }
   },
   "outputs": [],
   "source": [
    "save_cohort_info(cohort, JSON_PATH, is_available, is_trait_biased, merged_data)"
   ]
  },
  {
   "cell_type": "markdown",
   "metadata": {
    "ExecuteTime": {
     "end_time": "2023-12-28T21:28:38.028916303Z",
     "start_time": "2023-12-28T21:28:38.016245426Z"
    }
   },
   "source": [
    "## 2.2. The GEO dataset"
   ]
  },
  {
   "cell_type": "markdown",
   "metadata": {
    "ExecuteTime": {
     "end_time": "2023-12-31T03:25:23.253882615Z",
     "start_time": "2023-12-31T03:25:23.244062710Z"
    }
   },
   "source": [
    "In GEO, there may be one or multiple cohorts for a trait. Each cohort is identified by an accession number. We iterate over all accession numbers in the corresponding subdirectory, preprocess the cohort data, and save them to csv files."
   ]
  },
  {
   "cell_type": "code",
   "execution_count": 5,
   "metadata": {
    "ExecuteTime": {
     "end_time": "2023-12-31T21:19:35.411177575Z",
     "start_time": "2023-12-31T21:19:35.405710636Z"
    }
   },
   "outputs": [
    {
     "data": {
      "text/plain": [
       "['GSE222073',\n",
       " 'GSE244266',\n",
       " '.DS_Store',\n",
       " 'GSE203149',\n",
       " 'GSE212211',\n",
       " 'GSE198269',\n",
       " 'GSE201395']"
      ]
     },
     "execution_count": 5,
     "metadata": {},
     "output_type": "execute_result"
    }
   ],
   "source": [
    "import os\n",
    "from utils import *\n",
    "\n",
    "dataset = 'GEO'\n",
    "trait_subdir = \"Bladder-Cancer\"\n",
    "\n",
    "trait_path = os.path.join(DATA_ROOT, dataset, trait_subdir)\n",
    "os.listdir(trait_path)"
   ]
  },
  {
   "cell_type": "markdown",
   "metadata": {
    "ExecuteTime": {
     "end_time": "2023-12-31T03:39:42.634870142Z",
     "start_time": "2023-12-31T03:39:42.534093295Z"
    }
   },
   "source": [
    "Repeat the below steps for all the accession numbers"
   ]
  },
  {
   "cell_type": "code",
   "execution_count": 6,
   "metadata": {
    "ExecuteTime": {
     "end_time": "2023-12-31T21:19:35.413836016Z",
     "start_time": "2023-12-31T21:19:35.410443976Z"
    }
   },
   "outputs": [
    {
     "data": {
      "text/plain": [
       "('../../DATA/GEO/Bladder-Cancer/GSE198269/GSE198269_family.soft.gz',\n",
       " '../../DATA/GEO/Bladder-Cancer/GSE198269/GSE198269_series_matrix.txt.gz')"
      ]
     },
     "execution_count": 6,
     "metadata": {},
     "output_type": "execute_result"
    }
   ],
   "source": [
    "cohort = accession_num = \"GSE198269\"\n",
    "cohort_dir = os.path.join(trait_path, accession_num)\n",
    "soft_file, matrix_file = get_relevant_filepaths(cohort_dir)\n",
    "soft_file, matrix_file"
   ]
  },
  {
   "cell_type": "markdown",
   "metadata": {},
   "source": [
    "### Inital filtering and clinical data preprocessing"
   ]
  },
  {
   "cell_type": "code",
   "execution_count": 7,
   "metadata": {
    "ExecuteTime": {
     "end_time": "2023-12-31T21:19:35.492119842Z",
     "start_time": "2023-12-31T21:19:35.413383102Z"
    }
   },
   "outputs": [
    {
     "name": "stdout",
     "output_type": "stream",
     "text": [
      "!Series_title\t\"Predictive biomarkers for survival benefit with ramucirumab in urothelial cancer in the RANGE trial\"\n",
      "!Series_summary\t\"The RANGE study (NCT02426125) evaluated ramucirumab (an anti-VEGFR2 monoclonal antibody) in patients with platinum-refractory advanced urothelial carcinoma (UC). Here, we use programmed cell death-ligand 1 (PD-L1) immunohistochemistry (IHC) and transcriptome analysis to evaluate the association of immune and angiogenesis pathways, and molecular subtypes, with overall survival (OS) in UC. Higher PD-L1 IHC and immune pathway scores, but not angiogenesis scores, are associated with greater ramucirumab OS benefit. Additionally, Basal subtypes, which have higher PD-L1 IHC and immune/angiogenesis pathway scores, show greater ramucirumab OS benefit compared to Luminal subtypes, which have relatively lower scores. Multivariable analysis suggest patients from East Asia as having lower immune/angiogenesis signature scores, which correlates with decreased ramucirumab OS benefit. Our data highlight the utility of multiple biomarkers including PD-L1, molecular subtype, and immune phenotype in identifying patients with UC who might derive the greatest benefit from treatment with ramucirumab.\"\n",
      "!Series_summary\t\"Please note that the RANGE clinical trial data generated in this study have been deposited at www.vivli.org. RANGE clinical trial data are available under restricted access to protect patient privacy, and access can be obtained by submitting a request. For details on submitting a request, see the instructions provided at www.vivli.org. For specific study details, see here: https://search.vivli.org/?search=NCT02426125.\"\n",
      "!Series_overall_design\t\"RNA was isolated from tumor sample specimens from 394 patients with MIBC in the RANGE Phase 3 cliinical trial and whole transcriptome profiling was performed. Samples were classified according to four published molecular subtyping methods.\"\n",
      "!Series_overall_design\t\"Please note that CEL files contain the 'Decipher' string for chp information. The array data (i.e. CEL files) were generated for Eli Lilly by Decipher Biosciences (as part of a service contract to perform gene expression profiling and apply their proprietary bladder cancer molecular subtype classifier to these n=394 patient samples) and the 'HuEx-1_0-st' array was positioned as their proprietary 'Decipher' array.\"\n"
     ]
    }
   ],
   "source": [
    "background_prefixes = ['!Series_title', '!Series_summary', '!Series_overall_design']\n",
    "clinical_prefixes = ['!Sample_geo_accession', '!Sample_characteristics_ch1']\n",
    "\n",
    "background_info, clinical_data = get_background_and_clinical_data(matrix_file, background_prefixes, clinical_prefixes)\n",
    "print(background_info)"
   ]
  },
  {
   "cell_type": "code",
   "execution_count": 8,
   "metadata": {
    "ExecuteTime": {
     "end_time": "2023-12-31T21:19:35.507840422Z",
     "start_time": "2023-12-31T21:19:35.451789107Z"
    }
   },
   "outputs": [
    {
     "data": {
      "text/html": [
       "<div>\n",
       "<style scoped>\n",
       "    .dataframe tbody tr th:only-of-type {\n",
       "        vertical-align: middle;\n",
       "    }\n",
       "\n",
       "    .dataframe tbody tr th {\n",
       "        vertical-align: top;\n",
       "    }\n",
       "\n",
       "    .dataframe thead th {\n",
       "        text-align: right;\n",
       "    }\n",
       "</style>\n",
       "<table border=\"1\" class=\"dataframe\">\n",
       "  <thead>\n",
       "    <tr style=\"text-align: right;\">\n",
       "      <th></th>\n",
       "      <th>!Sample_geo_accession</th>\n",
       "      <th>GSM5942526</th>\n",
       "      <th>GSM5942527</th>\n",
       "      <th>GSM5942528</th>\n",
       "      <th>GSM5942529</th>\n",
       "      <th>GSM5942530</th>\n",
       "      <th>GSM5942531</th>\n",
       "      <th>GSM5942532</th>\n",
       "      <th>GSM5942533</th>\n",
       "      <th>GSM5942534</th>\n",
       "      <th>...</th>\n",
       "      <th>GSM5942910</th>\n",
       "      <th>GSM5942911</th>\n",
       "      <th>GSM5942912</th>\n",
       "      <th>GSM5942913</th>\n",
       "      <th>GSM5942914</th>\n",
       "      <th>GSM5942915</th>\n",
       "      <th>GSM5942916</th>\n",
       "      <th>GSM5942917</th>\n",
       "      <th>GSM5942918</th>\n",
       "      <th>GSM5942919</th>\n",
       "    </tr>\n",
       "  </thead>\n",
       "  <tbody>\n",
       "    <tr>\n",
       "      <th>0</th>\n",
       "      <td>!Sample_characteristics_ch1</td>\n",
       "      <td>treatment: Placebo + Docetaxel</td>\n",
       "      <td>treatment: Placebo + Docetaxel</td>\n",
       "      <td>treatment: LY3009806 + Docetaxel</td>\n",
       "      <td>treatment: LY3009806 + Docetaxel</td>\n",
       "      <td>treatment: LY3009806 + Docetaxel</td>\n",
       "      <td>treatment: LY3009806 + Docetaxel</td>\n",
       "      <td>treatment: LY3009806 + Docetaxel</td>\n",
       "      <td>treatment: Placebo + Docetaxel</td>\n",
       "      <td>treatment: Placebo + Docetaxel</td>\n",
       "      <td>...</td>\n",
       "      <td>treatment: Placebo + Docetaxel</td>\n",
       "      <td>treatment: LY3009806 + Docetaxel</td>\n",
       "      <td>treatment: Placebo + Docetaxel</td>\n",
       "      <td>treatment: LY3009806 + Docetaxel</td>\n",
       "      <td>treatment: Placebo + Docetaxel</td>\n",
       "      <td>treatment: LY3009806 + Docetaxel</td>\n",
       "      <td>treatment: LY3009806 + Docetaxel</td>\n",
       "      <td>treatment: Placebo + Docetaxel</td>\n",
       "      <td>treatment: LY3009806 + Docetaxel</td>\n",
       "      <td>treatment: LY3009806 + Docetaxel</td>\n",
       "    </tr>\n",
       "    <tr>\n",
       "      <th>1</th>\n",
       "      <td>!Sample_characteristics_ch1</td>\n",
       "      <td>primary site: Bladder</td>\n",
       "      <td>primary site: Bladder</td>\n",
       "      <td>primary site: Bladder</td>\n",
       "      <td>primary site: Bladder</td>\n",
       "      <td>primary site: Bladder</td>\n",
       "      <td>primary site: Non-Bladder</td>\n",
       "      <td>primary site: Non-Bladder</td>\n",
       "      <td>primary site: Non-Bladder</td>\n",
       "      <td>primary site: Bladder</td>\n",
       "      <td>...</td>\n",
       "      <td>primary site: Bladder</td>\n",
       "      <td>primary site: Non-Bladder</td>\n",
       "      <td>primary site: Bladder</td>\n",
       "      <td>primary site: Bladder</td>\n",
       "      <td>primary site: Bladder</td>\n",
       "      <td>primary site: Bladder</td>\n",
       "      <td>primary site: Bladder</td>\n",
       "      <td>primary site: Bladder</td>\n",
       "      <td>primary site: Bladder</td>\n",
       "      <td>primary site: Bladder</td>\n",
       "    </tr>\n",
       "  </tbody>\n",
       "</table>\n",
       "<p>2 rows × 395 columns</p>\n",
       "</div>"
      ],
      "text/plain": [
       "         !Sample_geo_accession                      GSM5942526  \\\n",
       "0  !Sample_characteristics_ch1  treatment: Placebo + Docetaxel   \n",
       "1  !Sample_characteristics_ch1           primary site: Bladder   \n",
       "\n",
       "                       GSM5942527                        GSM5942528  \\\n",
       "0  treatment: Placebo + Docetaxel  treatment: LY3009806 + Docetaxel   \n",
       "1           primary site: Bladder             primary site: Bladder   \n",
       "\n",
       "                         GSM5942529                        GSM5942530  \\\n",
       "0  treatment: LY3009806 + Docetaxel  treatment: LY3009806 + Docetaxel   \n",
       "1             primary site: Bladder             primary site: Bladder   \n",
       "\n",
       "                         GSM5942531                        GSM5942532  \\\n",
       "0  treatment: LY3009806 + Docetaxel  treatment: LY3009806 + Docetaxel   \n",
       "1         primary site: Non-Bladder         primary site: Non-Bladder   \n",
       "\n",
       "                       GSM5942533                      GSM5942534  ...  \\\n",
       "0  treatment: Placebo + Docetaxel  treatment: Placebo + Docetaxel  ...   \n",
       "1       primary site: Non-Bladder           primary site: Bladder  ...   \n",
       "\n",
       "                       GSM5942910                        GSM5942911  \\\n",
       "0  treatment: Placebo + Docetaxel  treatment: LY3009806 + Docetaxel   \n",
       "1           primary site: Bladder         primary site: Non-Bladder   \n",
       "\n",
       "                       GSM5942912                        GSM5942913  \\\n",
       "0  treatment: Placebo + Docetaxel  treatment: LY3009806 + Docetaxel   \n",
       "1           primary site: Bladder             primary site: Bladder   \n",
       "\n",
       "                       GSM5942914                        GSM5942915  \\\n",
       "0  treatment: Placebo + Docetaxel  treatment: LY3009806 + Docetaxel   \n",
       "1           primary site: Bladder             primary site: Bladder   \n",
       "\n",
       "                         GSM5942916                      GSM5942917  \\\n",
       "0  treatment: LY3009806 + Docetaxel  treatment: Placebo + Docetaxel   \n",
       "1             primary site: Bladder           primary site: Bladder   \n",
       "\n",
       "                         GSM5942918                        GSM5942919  \n",
       "0  treatment: LY3009806 + Docetaxel  treatment: LY3009806 + Docetaxel  \n",
       "1             primary site: Bladder             primary site: Bladder  \n",
       "\n",
       "[2 rows x 395 columns]"
      ]
     },
     "execution_count": 8,
     "metadata": {},
     "output_type": "execute_result"
    }
   ],
   "source": [
    "clinical_data.head()"
   ]
  },
  {
   "cell_type": "code",
   "execution_count": 9,
   "metadata": {
    "ExecuteTime": {
     "end_time": "2023-12-31T21:19:35.508015426Z",
     "start_time": "2023-12-31T21:19:35.492746637Z"
    }
   },
   "outputs": [
    {
     "data": {
      "text/plain": [
       "{0: ['treatment: Placebo + Docetaxel', 'treatment: LY3009806 + Docetaxel'],\n",
       " 1: ['primary site: Bladder', 'primary site: Non-Bladder']}"
      ]
     },
     "execution_count": 9,
     "metadata": {},
     "output_type": "execute_result"
    }
   ],
   "source": [
    "clinical_data_unique = get_unique_values_by_row(clinical_data)\n",
    "clinical_data_unique"
   ]
  },
  {
   "cell_type": "markdown",
   "metadata": {
    "ExecuteTime": {
     "end_time": "2023-12-31T03:58:04.978204446Z",
     "start_time": "2023-12-31T03:58:04.922270095Z"
    }
   },
   "source": [
    "Analyze the metadata to determine data relevance and find ways to extract the clinical data.\n",
    "Reference prompt:"
   ]
  },
  {
   "cell_type": "code",
   "execution_count": 10,
   "metadata": {
    "ExecuteTime": {
     "end_time": "2023-12-31T21:19:35.508232400Z",
     "start_time": "2023-12-31T21:19:35.492903487Z"
    }
   },
   "outputs": [
    {
     "data": {
      "text/plain": [
       "'As a biomedical research team, we are selecting datasets to study the association between the human trait \\'Bladder Cancer\\' and genetic factors, optionally considering the influence of age and gender. After searching the GEO database and parsing the matrix file of a series, we obtained background information and sample characteristics data. We will provide textual information about the dataset background, and a Python dictionary storing a list of unique values for each field of the sample characteristics data. Please carefully review the provided information and answer the following questions about this dataset:\\n1. Does this dataset contain gene expression data? (Note: Pure miRNA data is not suitable.)\\n2. For each of the traits \\'Bladder Cancer\\', \\'age\\', and \\'gender\\', please address these points:\\n   (1) Is there human data available for this trait?\\n   (2) If so, identify the key in the sample characteristics dictionary where unique values of this trait is recorded. The key is an integer. The trait information might be explicitly recorded, or can be inferred from the field with some biomedical knowledge or understanding about the data collection process.\\n   (3) Choose an appropriate data type (either \\'continuous\\' or \\'binary\\') for each trait. Write a Python function to convert any given value of the trait to this data type. The function should handle inference about the trait value and convert unknown values to None.\\n   Name the functions \\'convert_trait\\', \\'convert_age\\', and \\'convert_gender\\', respectively.\\n\\nBackground information about the dataset:\\n!Series_title\\t\"Predictive biomarkers for survival benefit with ramucirumab in urothelial cancer in the RANGE trial\"\\n!Series_summary\\t\"The RANGE study (NCT02426125) evaluated ramucirumab (an anti-VEGFR2 monoclonal antibody) in patients with platinum-refractory advanced urothelial carcinoma (UC). Here, we use programmed cell death-ligand 1 (PD-L1) immunohistochemistry (IHC) and transcriptome analysis to evaluate the association of immune and angiogenesis pathways, and molecular subtypes, with overall survival (OS) in UC. Higher PD-L1 IHC and immune pathway scores, but not angiogenesis scores, are associated with greater ramucirumab OS benefit. Additionally, Basal subtypes, which have higher PD-L1 IHC and immune/angiogenesis pathway scores, show greater ramucirumab OS benefit compared to Luminal subtypes, which have relatively lower scores. Multivariable analysis suggest patients from East Asia as having lower immune/angiogenesis signature scores, which correlates with decreased ramucirumab OS benefit. Our data highlight the utility of multiple biomarkers including PD-L1, molecular subtype, and immune phenotype in identifying patients with UC who might derive the greatest benefit from treatment with ramucirumab.\"\\n!Series_summary\\t\"Please note that the RANGE clinical trial data generated in this study have been deposited at www.vivli.org. RANGE clinical trial data are available under restricted access to protect patient privacy, and access can be obtained by submitting a request. For details on submitting a request, see the instructions provided at www.vivli.org. For specific study details, see here: https://search.vivli.org/?search=NCT02426125.\"\\n!Series_overall_design\\t\"RNA was isolated from tumor sample specimens from 394 patients with MIBC in the RANGE Phase 3 cliinical trial and whole transcriptome profiling was performed. Samples were classified according to four published molecular subtyping methods.\"\\n!Series_overall_design\\t\"Please note that CEL files contain the \\'Decipher\\' string for chp information. The array data (i.e. CEL files) were generated for Eli Lilly by Decipher Biosciences (as part of a service contract to perform gene expression profiling and apply their proprietary bladder cancer molecular subtype classifier to these n=394 patient samples) and the \\'HuEx-1_0-st\\' array was positioned as their proprietary \\'Decipher\\' array.\"\\n\\nSample characteristics dictionary (from \"!Sample_characteristics_ch1\", converted to a Python dictionary that stores the unique values for each field):\\n{0: [\\'treatment: Placebo + Docetaxel\\', \\'treatment: LY3009806 + Docetaxel\\'], 1: [\\'primary site: Bladder\\', \\'primary site: Non-Bladder\\']}\\n'"
      ]
     },
     "execution_count": 10,
     "metadata": {},
     "output_type": "execute_result"
    }
   ],
   "source": [
    "f'''As a biomedical research team, we are selecting datasets to study the association between the human trait \\'{TRAIT}\\' and genetic factors, optionally considering the influence of age and gender. After searching the GEO database and parsing the matrix file of a series, we obtained background information and sample characteristics data. We will provide textual information about the dataset background, and a Python dictionary storing a list of unique values for each field of the sample characteristics data. Please carefully review the provided information and answer the following questions about this dataset:\n",
    "1. Does this dataset contain gene expression data? (Note: Pure miRNA data is not suitable.)\n",
    "2. For each of the traits \\'{TRAIT}\\', 'age', and 'gender', please address these points:\n",
    "   (1) Is there human data available for this trait?\n",
    "   (2) If so, identify the key in the sample characteristics dictionary where unique values of this trait is recorded. The key is an integer. The trait information might be explicitly recorded, or can be inferred from the field with some biomedical knowledge or understanding about the data collection process.\n",
    "   (3) Choose an appropriate data type (either 'continuous' or 'binary') for each trait. Write a Python function to convert any given value of the trait to this data type. The function should handle inference about the trait value and convert unknown values to None.\n",
    "   Name the functions 'convert_trait', 'convert_age', and 'convert_gender', respectively.\n",
    "\n",
    "Background information about the dataset:\n",
    "{background_info}\n",
    "\n",
    "Sample characteristics dictionary (from \"!Sample_characteristics_ch1\", converted to a Python dictionary that stores the unique values for each field):\n",
    "{clinical_data_unique}\n",
    "'''"
   ]
  },
  {
   "cell_type": "markdown",
   "metadata": {
    "ExecuteTime": {
     "end_time": "2023-12-31T03:58:04.978240504Z",
     "start_time": "2023-12-31T03:58:04.922365324Z"
    }
   },
   "source": [
    "Understand and verify the answer from GPT, to assign values to the below variables. Assign None to the 'row_id' variables if relevant data row was not found.\n",
    "Later we need to let GPT format its answer to automatically do these. But given the complexity of this step, let's grow some insight from the free-text answers for now."
   ]
  },
  {
   "cell_type": "code",
   "execution_count": 11,
   "metadata": {},
   "outputs": [],
   "source": [
    "age_row = gender_row = None\n",
    "convert_age = convert_gender = None"
   ]
  },
  {
   "cell_type": "code",
   "execution_count": 12,
   "metadata": {
    "ExecuteTime": {
     "end_time": "2023-12-31T21:19:35.508295660Z",
     "start_time": "2023-12-31T21:19:35.493015671Z"
    }
   },
   "outputs": [],
   "source": [
    "is_gene_availabe = True\n",
    "trait_row = 1\n",
    "age_row = None\n",
    "gender_row = None\n",
    "\n",
    "trait_type = 'binary'"
   ]
  },
  {
   "cell_type": "code",
   "execution_count": 13,
   "metadata": {
    "ExecuteTime": {
     "end_time": "2023-12-31T21:19:35.508365153Z",
     "start_time": "2023-12-31T21:19:35.493151450Z"
    }
   },
   "outputs": [],
   "source": [
    "is_available = is_gene_availabe and (trait_row is not None)\n",
    "if not is_available:\n",
    "    save_cohort_info(cohort, JSON_PATH, is_available)\n",
    "    print(\"This cohort is not usable. Please skip the following steps and jump to the next accession number.\")"
   ]
  },
  {
   "cell_type": "code",
   "execution_count": 14,
   "metadata": {
    "ExecuteTime": {
     "end_time": "2023-12-31T21:19:35.508426069Z",
     "start_time": "2023-12-31T21:19:35.493220101Z"
    }
   },
   "outputs": [],
   "source": [
    "def convert_trait(primary_site):\n",
    "    \"\"\"\n",
    "    Convert the primary site information to a binary data type representing the presence or absence of bladder cancer.\n",
    "    \n",
    "    Args:\n",
    "    primary_site (str): The primary site value to be converted.\n",
    "    \n",
    "    Returns:\n",
    "    int or None: 1 if bladder cancer is present, 0 if absent, None if unknown or uninterpretable.\n",
    "    \"\"\"\n",
    "    if primary_site == 'primary site: Bladder':\n",
    "        return 1  # Presence of bladder cancer\n",
    "    elif primary_site == 'primary site: Non-Bladder':\n",
    "        return 0  # Absence of bladder cancer\n",
    "    else:\n",
    "        return None  # Unknown or uninterpretable value"
   ]
  },
  {
   "cell_type": "code",
   "execution_count": 15,
   "metadata": {
    "ExecuteTime": {
     "end_time": "2023-12-31T21:19:35.508533013Z",
     "start_time": "2023-12-31T21:19:35.493272992Z"
    }
   },
   "outputs": [
    {
     "data": {
      "text/html": [
       "<div>\n",
       "<style scoped>\n",
       "    .dataframe tbody tr th:only-of-type {\n",
       "        vertical-align: middle;\n",
       "    }\n",
       "\n",
       "    .dataframe tbody tr th {\n",
       "        vertical-align: top;\n",
       "    }\n",
       "\n",
       "    .dataframe thead th {\n",
       "        text-align: right;\n",
       "    }\n",
       "</style>\n",
       "<table border=\"1\" class=\"dataframe\">\n",
       "  <thead>\n",
       "    <tr style=\"text-align: right;\">\n",
       "      <th></th>\n",
       "      <th>GSM5942526</th>\n",
       "      <th>GSM5942527</th>\n",
       "      <th>GSM5942528</th>\n",
       "      <th>GSM5942529</th>\n",
       "      <th>GSM5942530</th>\n",
       "      <th>GSM5942531</th>\n",
       "      <th>GSM5942532</th>\n",
       "      <th>GSM5942533</th>\n",
       "      <th>GSM5942534</th>\n",
       "      <th>GSM5942535</th>\n",
       "      <th>...</th>\n",
       "      <th>GSM5942910</th>\n",
       "      <th>GSM5942911</th>\n",
       "      <th>GSM5942912</th>\n",
       "      <th>GSM5942913</th>\n",
       "      <th>GSM5942914</th>\n",
       "      <th>GSM5942915</th>\n",
       "      <th>GSM5942916</th>\n",
       "      <th>GSM5942917</th>\n",
       "      <th>GSM5942918</th>\n",
       "      <th>GSM5942919</th>\n",
       "    </tr>\n",
       "  </thead>\n",
       "  <tbody>\n",
       "    <tr>\n",
       "      <th>Bladder Cancer</th>\n",
       "      <td>1</td>\n",
       "      <td>1</td>\n",
       "      <td>1</td>\n",
       "      <td>1</td>\n",
       "      <td>1</td>\n",
       "      <td>0</td>\n",
       "      <td>0</td>\n",
       "      <td>0</td>\n",
       "      <td>1</td>\n",
       "      <td>1</td>\n",
       "      <td>...</td>\n",
       "      <td>1</td>\n",
       "      <td>0</td>\n",
       "      <td>1</td>\n",
       "      <td>1</td>\n",
       "      <td>1</td>\n",
       "      <td>1</td>\n",
       "      <td>1</td>\n",
       "      <td>1</td>\n",
       "      <td>1</td>\n",
       "      <td>1</td>\n",
       "    </tr>\n",
       "  </tbody>\n",
       "</table>\n",
       "<p>1 rows × 394 columns</p>\n",
       "</div>"
      ],
      "text/plain": [
       "                GSM5942526  GSM5942527  GSM5942528  GSM5942529  GSM5942530  \\\n",
       "Bladder Cancer           1           1           1           1           1   \n",
       "\n",
       "                GSM5942531  GSM5942532  GSM5942533  GSM5942534  GSM5942535  \\\n",
       "Bladder Cancer           0           0           0           1           1   \n",
       "\n",
       "                ...  GSM5942910  GSM5942911  GSM5942912  GSM5942913  \\\n",
       "Bladder Cancer  ...           1           0           1           1   \n",
       "\n",
       "                GSM5942914  GSM5942915  GSM5942916  GSM5942917  GSM5942918  \\\n",
       "Bladder Cancer           1           1           1           1           1   \n",
       "\n",
       "                GSM5942919  \n",
       "Bladder Cancer           1  \n",
       "\n",
       "[1 rows x 394 columns]"
      ]
     },
     "execution_count": 15,
     "metadata": {},
     "output_type": "execute_result"
    }
   ],
   "source": [
    "selected_clinical_data = geo_select_clinical_features(clinical_data, TRAIT, trait_row, convert_trait, age_row=age_row,\n",
    "                                                      convert_age=convert_age, gender_row=gender_row,\n",
    "                                                      convert_gender=convert_gender)\n",
    "selected_clinical_data.head()"
   ]
  },
  {
   "cell_type": "markdown",
   "metadata": {
    "ExecuteTime": {
     "end_time": "2023-12-31T03:58:04.978664193Z",
     "start_time": "2023-12-31T03:58:04.966117261Z"
    }
   },
   "source": [
    "### Genetic data preprocessing and final filtering"
   ]
  },
  {
   "cell_type": "code",
   "execution_count": 16,
   "metadata": {
    "ExecuteTime": {
     "end_time": "2023-12-31T21:19:35.590261560Z",
     "start_time": "2023-12-31T21:19:35.493320362Z"
    }
   },
   "outputs": [
    {
     "data": {
      "text/html": [
       "<div>\n",
       "<style scoped>\n",
       "    .dataframe tbody tr th:only-of-type {\n",
       "        vertical-align: middle;\n",
       "    }\n",
       "\n",
       "    .dataframe tbody tr th {\n",
       "        vertical-align: top;\n",
       "    }\n",
       "\n",
       "    .dataframe thead th {\n",
       "        text-align: right;\n",
       "    }\n",
       "</style>\n",
       "<table border=\"1\" class=\"dataframe\">\n",
       "  <thead>\n",
       "    <tr style=\"text-align: right;\">\n",
       "      <th></th>\n",
       "      <th>GSM5942526</th>\n",
       "      <th>GSM5942527</th>\n",
       "      <th>GSM5942528</th>\n",
       "      <th>GSM5942529</th>\n",
       "      <th>GSM5942530</th>\n",
       "      <th>GSM5942531</th>\n",
       "      <th>GSM5942532</th>\n",
       "      <th>GSM5942533</th>\n",
       "      <th>GSM5942534</th>\n",
       "      <th>GSM5942535</th>\n",
       "      <th>...</th>\n",
       "      <th>GSM5942910</th>\n",
       "      <th>GSM5942911</th>\n",
       "      <th>GSM5942912</th>\n",
       "      <th>GSM5942913</th>\n",
       "      <th>GSM5942914</th>\n",
       "      <th>GSM5942915</th>\n",
       "      <th>GSM5942916</th>\n",
       "      <th>GSM5942917</th>\n",
       "      <th>GSM5942918</th>\n",
       "      <th>GSM5942919</th>\n",
       "    </tr>\n",
       "    <tr>\n",
       "      <th>ID</th>\n",
       "      <th></th>\n",
       "      <th></th>\n",
       "      <th></th>\n",
       "      <th></th>\n",
       "      <th></th>\n",
       "      <th></th>\n",
       "      <th></th>\n",
       "      <th></th>\n",
       "      <th></th>\n",
       "      <th></th>\n",
       "      <th></th>\n",
       "      <th></th>\n",
       "      <th></th>\n",
       "      <th></th>\n",
       "      <th></th>\n",
       "      <th></th>\n",
       "      <th></th>\n",
       "      <th></th>\n",
       "      <th></th>\n",
       "      <th></th>\n",
       "      <th></th>\n",
       "    </tr>\n",
       "  </thead>\n",
       "  <tbody>\n",
       "    <tr>\n",
       "      <th>5S_rRNA</th>\n",
       "      <td>0.319208</td>\n",
       "      <td>0.220961</td>\n",
       "      <td>0.403402</td>\n",
       "      <td>0.151030</td>\n",
       "      <td>0.096074</td>\n",
       "      <td>0.326599</td>\n",
       "      <td>0.110732</td>\n",
       "      <td>0.141545</td>\n",
       "      <td>0.359637</td>\n",
       "      <td>0.109723</td>\n",
       "      <td>...</td>\n",
       "      <td>0.239324</td>\n",
       "      <td>0.272844</td>\n",
       "      <td>0.202189</td>\n",
       "      <td>0.207101</td>\n",
       "      <td>0.220181</td>\n",
       "      <td>0.200542</td>\n",
       "      <td>0.293560</td>\n",
       "      <td>0.123788</td>\n",
       "      <td>0.217146</td>\n",
       "      <td>0.257531</td>\n",
       "    </tr>\n",
       "    <tr>\n",
       "      <th>7SK</th>\n",
       "      <td>1.044806</td>\n",
       "      <td>0.629682</td>\n",
       "      <td>0.668473</td>\n",
       "      <td>0.566786</td>\n",
       "      <td>0.534391</td>\n",
       "      <td>0.554202</td>\n",
       "      <td>0.511081</td>\n",
       "      <td>0.634486</td>\n",
       "      <td>0.810749</td>\n",
       "      <td>0.571217</td>\n",
       "      <td>...</td>\n",
       "      <td>0.502696</td>\n",
       "      <td>0.685116</td>\n",
       "      <td>0.699140</td>\n",
       "      <td>1.403190</td>\n",
       "      <td>0.902807</td>\n",
       "      <td>0.527814</td>\n",
       "      <td>0.723984</td>\n",
       "      <td>0.672991</td>\n",
       "      <td>0.511064</td>\n",
       "      <td>0.483321</td>\n",
       "    </tr>\n",
       "    <tr>\n",
       "      <th>A1BG</th>\n",
       "      <td>-0.006628</td>\n",
       "      <td>-0.130764</td>\n",
       "      <td>-0.112305</td>\n",
       "      <td>-0.170364</td>\n",
       "      <td>-0.195573</td>\n",
       "      <td>-0.070148</td>\n",
       "      <td>-0.025704</td>\n",
       "      <td>-0.159063</td>\n",
       "      <td>-0.177284</td>\n",
       "      <td>-0.188848</td>\n",
       "      <td>...</td>\n",
       "      <td>-0.135677</td>\n",
       "      <td>-0.065901</td>\n",
       "      <td>-0.120089</td>\n",
       "      <td>-0.040244</td>\n",
       "      <td>-0.037556</td>\n",
       "      <td>-0.141501</td>\n",
       "      <td>-0.030555</td>\n",
       "      <td>-0.152660</td>\n",
       "      <td>-0.062835</td>\n",
       "      <td>-0.065509</td>\n",
       "    </tr>\n",
       "    <tr>\n",
       "      <th>A1BG-AS1</th>\n",
       "      <td>0.116614</td>\n",
       "      <td>0.059667</td>\n",
       "      <td>-0.030508</td>\n",
       "      <td>0.018013</td>\n",
       "      <td>0.076891</td>\n",
       "      <td>0.074740</td>\n",
       "      <td>0.080514</td>\n",
       "      <td>-0.041128</td>\n",
       "      <td>-0.023058</td>\n",
       "      <td>0.048775</td>\n",
       "      <td>...</td>\n",
       "      <td>-0.009721</td>\n",
       "      <td>0.081507</td>\n",
       "      <td>0.077383</td>\n",
       "      <td>0.121888</td>\n",
       "      <td>0.171133</td>\n",
       "      <td>0.101332</td>\n",
       "      <td>-0.014479</td>\n",
       "      <td>0.075455</td>\n",
       "      <td>0.051889</td>\n",
       "      <td>0.065050</td>\n",
       "    </tr>\n",
       "    <tr>\n",
       "      <th>A1CF</th>\n",
       "      <td>-0.014197</td>\n",
       "      <td>-0.137078</td>\n",
       "      <td>-0.052613</td>\n",
       "      <td>0.791635</td>\n",
       "      <td>-0.082446</td>\n",
       "      <td>-0.062666</td>\n",
       "      <td>-0.189137</td>\n",
       "      <td>-0.101890</td>\n",
       "      <td>-0.014950</td>\n",
       "      <td>-0.069849</td>\n",
       "      <td>...</td>\n",
       "      <td>-0.047550</td>\n",
       "      <td>-0.067580</td>\n",
       "      <td>-0.091339</td>\n",
       "      <td>0.426769</td>\n",
       "      <td>0.001760</td>\n",
       "      <td>-0.053766</td>\n",
       "      <td>-0.054650</td>\n",
       "      <td>-0.095130</td>\n",
       "      <td>-0.056961</td>\n",
       "      <td>-0.058868</td>\n",
       "    </tr>\n",
       "  </tbody>\n",
       "</table>\n",
       "<p>5 rows × 394 columns</p>\n",
       "</div>"
      ],
      "text/plain": [
       "          GSM5942526  GSM5942527  GSM5942528  GSM5942529  GSM5942530  \\\n",
       "ID                                                                     \n",
       "5S_rRNA     0.319208    0.220961    0.403402    0.151030    0.096074   \n",
       "7SK         1.044806    0.629682    0.668473    0.566786    0.534391   \n",
       "A1BG       -0.006628   -0.130764   -0.112305   -0.170364   -0.195573   \n",
       "A1BG-AS1    0.116614    0.059667   -0.030508    0.018013    0.076891   \n",
       "A1CF       -0.014197   -0.137078   -0.052613    0.791635   -0.082446   \n",
       "\n",
       "          GSM5942531  GSM5942532  GSM5942533  GSM5942534  GSM5942535  ...  \\\n",
       "ID                                                                    ...   \n",
       "5S_rRNA     0.326599    0.110732    0.141545    0.359637    0.109723  ...   \n",
       "7SK         0.554202    0.511081    0.634486    0.810749    0.571217  ...   \n",
       "A1BG       -0.070148   -0.025704   -0.159063   -0.177284   -0.188848  ...   \n",
       "A1BG-AS1    0.074740    0.080514   -0.041128   -0.023058    0.048775  ...   \n",
       "A1CF       -0.062666   -0.189137   -0.101890   -0.014950   -0.069849  ...   \n",
       "\n",
       "          GSM5942910  GSM5942911  GSM5942912  GSM5942913  GSM5942914  \\\n",
       "ID                                                                     \n",
       "5S_rRNA     0.239324    0.272844    0.202189    0.207101    0.220181   \n",
       "7SK         0.502696    0.685116    0.699140    1.403190    0.902807   \n",
       "A1BG       -0.135677   -0.065901   -0.120089   -0.040244   -0.037556   \n",
       "A1BG-AS1   -0.009721    0.081507    0.077383    0.121888    0.171133   \n",
       "A1CF       -0.047550   -0.067580   -0.091339    0.426769    0.001760   \n",
       "\n",
       "          GSM5942915  GSM5942916  GSM5942917  GSM5942918  GSM5942919  \n",
       "ID                                                                    \n",
       "5S_rRNA     0.200542    0.293560    0.123788    0.217146    0.257531  \n",
       "7SK         0.527814    0.723984    0.672991    0.511064    0.483321  \n",
       "A1BG       -0.141501   -0.030555   -0.152660   -0.062835   -0.065509  \n",
       "A1BG-AS1    0.101332   -0.014479    0.075455    0.051889    0.065050  \n",
       "A1CF       -0.053766   -0.054650   -0.095130   -0.056961   -0.058868  \n",
       "\n",
       "[5 rows x 394 columns]"
      ]
     },
     "execution_count": 16,
     "metadata": {},
     "output_type": "execute_result"
    }
   ],
   "source": [
    "genetic_data = get_genetic_data(matrix_file)\n",
    "genetic_data.head()"
   ]
  },
  {
   "cell_type": "code",
   "execution_count": 19,
   "metadata": {
    "ExecuteTime": {
     "end_time": "2023-12-31T21:19:35.590443507Z",
     "start_time": "2023-12-31T21:19:35.536713559Z"
    }
   },
   "outputs": [
    {
     "data": {
      "text/plain": [
       "['5S_rRNA',\n",
       " '7SK',\n",
       " 'A1BG',\n",
       " 'A1BG-AS1',\n",
       " 'A1CF',\n",
       " 'A2M',\n",
       " 'A2M-AS1',\n",
       " 'A2ML1',\n",
       " 'A2ML1-AS2',\n",
       " 'A2MP1',\n",
       " 'A3GALT2',\n",
       " 'A4GALT',\n",
       " 'A4GNT',\n",
       " 'AA06',\n",
       " 'AAAS',\n",
       " 'AACS',\n",
       " 'AACSP1',\n",
       " 'AADAC',\n",
       " 'AADACL2',\n",
       " 'AADACL2-AS1']"
      ]
     },
     "execution_count": 19,
     "metadata": {},
     "output_type": "execute_result"
    }
   ],
   "source": [
    "gene_row_ids = genetic_data.index[:20].tolist()\n",
    "gene_row_ids"
   ]
  },
  {
   "cell_type": "markdown",
   "metadata": {
    "ExecuteTime": {
     "end_time": "2023-12-31T03:30:41.595335164Z",
     "start_time": "2023-12-31T03:30:41.513232329Z"
    }
   },
   "source": [
    "Check if the gene dataset requires mapping to get the gene symbols corresponding to each data row."
   ]
  },
  {
   "cell_type": "markdown",
   "metadata": {},
   "source": [
    "Reference prompt:"
   ]
  },
  {
   "cell_type": "code",
   "execution_count": 20,
   "metadata": {
    "ExecuteTime": {
     "end_time": "2023-12-31T21:19:35.590590427Z",
     "start_time": "2023-12-31T21:19:35.536780517Z"
    }
   },
   "outputs": [
    {
     "data": {
      "text/plain": [
       "\"\\nBelow are the row headers of a gene expression dataset in GEO. Based on your biomedical knowledge, are they human gene symbols, or are they some other identifiers that need to be mapped to gene symbols? Your answer should be concluded by starting a new line and strictly following this format:\\nrequires_gene_mapping = (True or False)\\n\\nRow headers:\\n['5S_rRNA', '7SK', 'A1BG', 'A1BG-AS1', 'A1CF', 'A2M', 'A2M-AS1', 'A2ML1', 'A2ML1-AS2', 'A2MP1', 'A3GALT2', 'A4GALT', 'A4GNT', 'AA06', 'AAAS', 'AACS', 'AACSP1', 'AADAC', 'AADACL2', 'AADACL2-AS1']\\n\""
      ]
     },
     "execution_count": 20,
     "metadata": {},
     "output_type": "execute_result"
    }
   ],
   "source": [
    "f'''\n",
    "Below are the row headers of a gene expression dataset in GEO. Based on your biomedical knowledge, are they human gene symbols, or are they some other identifiers that need to be mapped to gene symbols? Your answer should be concluded by starting a new line and strictly following this format:\n",
    "requires_gene_mapping = (True or False)\n",
    "\n",
    "Row headers:\n",
    "{gene_row_ids}\n",
    "'''"
   ]
  },
  {
   "cell_type": "markdown",
   "metadata": {},
   "source": [
    "If not required, jump directly to the gene normalization step"
   ]
  },
  {
   "cell_type": "code",
   "execution_count": 21,
   "metadata": {
    "ExecuteTime": {
     "end_time": "2023-12-31T21:19:35.590648558Z",
     "start_time": "2023-12-31T21:19:35.536821375Z"
    }
   },
   "outputs": [],
   "source": [
    "requires_gene_mapping = True"
   ]
  },
  {
   "cell_type": "code",
   "execution_count": 23,
   "metadata": {
    "ExecuteTime": {
     "end_time": "2023-12-31T21:19:35.590695457Z",
     "start_time": "2023-12-31T21:19:35.536910836Z"
    }
   },
   "outputs": [
    {
     "name": "stdout",
     "output_type": "stream",
     "text": [
      "{'ID': ['5S_rRNA', '7SK', 'A1BG', 'A1BG-AS1', 'A1CF'], 'ORF': [nan, '7SK', 'A1BG', 'A1BG-AS1', 'A1CF'], 'GenBank': [nan, nan, nan, nan, nan], 'CLONE_ID': [nan, nan, nan, nan, nan], 'SPOT_ID': ['5S_rRNA', nan, nan, nan, nan]}\n"
     ]
    }
   ],
   "source": [
    "if requires_gene_mapping:\n",
    "    gene_annotation = get_gene_annotation(soft_file)\n",
    "    gene_annotation_summary = preview_df(gene_annotation)\n",
    "    print(gene_annotation_summary)"
   ]
  },
  {
   "cell_type": "markdown",
   "metadata": {
    "ExecuteTime": {
     "end_time": "2023-12-31T03:58:04.978931927Z",
     "start_time": "2023-12-31T03:58:04.966328339Z"
    }
   },
   "source": [
    "Observe the first few cells in the ID column of the gene annotation dataframe, to find the names of columns that store the gene probe IDs and gene symbols respectively.\n",
    "Reference prompt:"
   ]
  },
  {
   "cell_type": "code",
   "execution_count": 19,
   "metadata": {
    "ExecuteTime": {
     "end_time": "2023-12-31T21:19:35.590742236Z",
     "start_time": "2023-12-31T21:19:35.537050893Z"
    }
   },
   "outputs": [
    {
     "data": {
      "text/plain": [
       "\"\\nAs a biomedical research team, we extracted the gene annotation data from a series in the GEO database, and saved it to a Python dictionary. Please read the dictionary, and decide which key stores the ID of the probe, and which key stores the gene symbols. Please strict follow this format in your answer:\\nprobe_name_key = key_name1\\ngene_name_key = key_name2\\n\\nGene annotation dictionary:\\n{'ID': ['5S_rRNA', '7SK', 'A1BG', 'A1BG-AS1', 'A1CF'], 'ORF': [nan, '7SK', 'A1BG', 'A1BG-AS1', 'A1CF'], 'GenBank': [nan, nan, nan, nan, nan], 'CLONE_ID': [nan, nan, nan, nan, nan], 'SPOT_ID': ['5S_rRNA', nan, nan, nan, nan]}\\n\""
      ]
     },
     "execution_count": 19,
     "metadata": {},
     "output_type": "execute_result"
    }
   ],
   "source": [
    "# if requires_gene_mapping:\n",
    "f'''\n",
    "As a biomedical research team, we extracted the gene annotation data from a series in the GEO database, and saved it to a Python dictionary. Please read the dictionary, and decide which key stores the ID of the probe, and which key stores the gene symbols. Please strict follow this format in your answer:\n",
    "probe_name_key = key_name1\n",
    "gene_name_key = key_name2\n",
    "\n",
    "Gene annotation dictionary:\n",
    "{gene_annotation_summary}\n",
    "'''"
   ]
  },
  {
   "cell_type": "code",
   "execution_count": null,
   "metadata": {
    "ExecuteTime": {
     "end_time": "2023-12-31T21:19:35.590786881Z",
     "start_time": "2023-12-31T21:19:35.537132859Z"
    }
   },
   "outputs": [],
   "source": [
    "if requires_gene_mapping:\n",
    "    probe_id_key = 'ID'\n",
    "    gene_symb_key = 'ORF'\n",
    "    gene_mapping = get_gene_mapping(gene_annotation, probe_id_key, gene_symb_key)\n",
    "    genetic_data = apply_gene_mapping(genetic_data, gene_mapping)"
   ]
  },
  {
   "cell_type": "code",
   "execution_count": null,
   "metadata": {
    "ExecuteTime": {
     "end_time": "2023-12-31T21:19:35.590837318Z",
     "start_time": "2023-12-31T21:19:35.537209586Z"
    }
   },
   "outputs": [],
   "source": [
    "genetic_data = normalize_gene_symbols_in_index(genetic_data)"
   ]
  },
  {
   "cell_type": "code",
   "execution_count": null,
   "metadata": {
    "ExecuteTime": {
     "end_time": "2023-12-31T21:19:35.590902191Z",
     "start_time": "2023-12-31T21:19:35.537285901Z"
    }
   },
   "outputs": [],
   "source": [
    "merged_data = geo_merge_clinical_genetic_data(selected_clinical_data, genetic_data)\n",
    "# The preprocessing runs through, which means is_available should be True\n",
    "is_available = True"
   ]
  },
  {
   "cell_type": "code",
   "execution_count": null,
   "metadata": {
    "ExecuteTime": {
     "end_time": "2023-12-31T21:19:35.591095170Z",
     "start_time": "2023-12-31T21:19:35.538708445Z"
    }
   },
   "outputs": [],
   "source": [
    "print(f\"The merged dataset contains {len(merged_data)} samples.\")"
   ]
  },
  {
   "cell_type": "code",
   "execution_count": null,
   "metadata": {
    "ExecuteTime": {
     "end_time": "2023-12-31T21:19:35.610849182Z",
     "start_time": "2023-12-31T21:19:35.541210258Z"
    }
   },
   "outputs": [],
   "source": [
    "is_trait_biased, merged_data = judge_and_remove_biased_features(merged_data, TRAIT, trait_type=trait_type)\n",
    "is_trait_biased"
   ]
  },
  {
   "cell_type": "code",
   "execution_count": null,
   "metadata": {
    "ExecuteTime": {
     "end_time": "2023-12-31T21:19:35.610923234Z",
     "start_time": "2023-12-31T21:19:35.584848473Z"
    }
   },
   "outputs": [],
   "source": [
    "save_cohort_info(cohort, JSON_PATH, is_available, is_trait_biased, merged_data)"
   ]
  },
  {
   "cell_type": "code",
   "execution_count": null,
   "metadata": {
    "ExecuteTime": {
     "end_time": "2023-12-31T21:19:35.610970734Z",
     "start_time": "2023-12-31T21:19:35.585042694Z"
    }
   },
   "outputs": [],
   "source": [
    "merged_data.head()\n",
    "if not is_trait_biased:\n",
    "    merged_data.to_csv(os.path.join(OUTPUT_DIR, cohort+'.csv'), index=False)"
   ]
  },
  {
   "cell_type": "markdown",
   "metadata": {
    "ExecuteTime": {
     "end_time": "2023-12-31T03:58:22.271683755Z",
     "start_time": "2023-12-31T03:58:22.246557674Z"
    },
    "id": "-MTPhRGxJV7I"
   },
   "source": [
    "### 3. Do regression & Cross Validation"
   ]
  },
  {
   "cell_type": "code",
   "execution_count": 4,
   "metadata": {
    "ExecuteTime": {
     "end_time": "2023-12-31T21:19:44.459442087Z",
     "start_time": "2023-12-31T21:19:44.416219648Z"
    }
   },
   "outputs": [
    {
     "data": {
      "text/html": [
       "<div>\n",
       "<style scoped>\n",
       "    .dataframe tbody tr th:only-of-type {\n",
       "        vertical-align: middle;\n",
       "    }\n",
       "\n",
       "    .dataframe tbody tr th {\n",
       "        vertical-align: top;\n",
       "    }\n",
       "\n",
       "    .dataframe thead th {\n",
       "        text-align: right;\n",
       "    }\n",
       "</style>\n",
       "<table border=\"1\" class=\"dataframe\">\n",
       "  <thead>\n",
       "    <tr style=\"text-align: right;\">\n",
       "      <th></th>\n",
       "      <th>cohort_id</th>\n",
       "      <th>is_usable</th>\n",
       "      <th>is_available</th>\n",
       "      <th>is_biased</th>\n",
       "      <th>has_age</th>\n",
       "      <th>has_gender</th>\n",
       "      <th>sample_size</th>\n",
       "      <th>note</th>\n",
       "    </tr>\n",
       "  </thead>\n",
       "  <tbody>\n",
       "    <tr>\n",
       "      <th>0</th>\n",
       "      <td>Xena</td>\n",
       "      <td>True</td>\n",
       "      <td>True</td>\n",
       "      <td>False</td>\n",
       "      <td>True</td>\n",
       "      <td>True</td>\n",
       "      <td>426.0</td>\n",
       "      <td></td>\n",
       "    </tr>\n",
       "    <tr>\n",
       "      <th>3</th>\n",
       "      <td>GSE198269</td>\n",
       "      <td>True</td>\n",
       "      <td>True</td>\n",
       "      <td>False</td>\n",
       "      <td>False</td>\n",
       "      <td>False</td>\n",
       "      <td>394.0</td>\n",
       "      <td></td>\n",
       "    </tr>\n",
       "  </tbody>\n",
       "</table>\n",
       "</div>"
      ],
      "text/plain": [
       "   cohort_id  is_usable  is_available is_biased has_age has_gender  \\\n",
       "0       Xena       True          True     False    True       True   \n",
       "3  GSE198269       True          True     False   False      False   \n",
       "\n",
       "   sample_size note  \n",
       "0        426.0       \n",
       "3        394.0       "
      ]
     },
     "execution_count": 4,
     "metadata": {},
     "output_type": "execute_result"
    }
   ],
   "source": [
    "# Check the information of usable cohorts\n",
    "best_cohort, ranked_df = filter_and_rank_cohorts(JSON_PATH)\n",
    "ranked_df"
   ]
  },
  {
   "cell_type": "code",
   "execution_count": 5,
   "metadata": {
    "ExecuteTime": {
     "end_time": "2023-12-31T21:19:44.808945960Z",
     "start_time": "2023-12-31T21:19:44.799467072Z"
    }
   },
   "outputs": [
    {
     "data": {
      "text/plain": [
       "'Xena'"
      ]
     },
     "execution_count": 5,
     "metadata": {},
     "output_type": "execute_result"
    }
   ],
   "source": [
    "# If both age and gender have available cohorts, select 'age' as the condition.\n",
    "condition = 'Age'\n",
    "filter_column = 'has_' + condition.lower()\n",
    "\n",
    "condition_best_cohort, condition_ranked_df = filter_and_rank_cohorts(JSON_PATH, filter_column)\n",
    "condition_best_cohort"
   ]
  },
  {
   "cell_type": "code",
   "execution_count": 6,
   "metadata": {
    "ExecuteTime": {
     "end_time": "2023-12-31T21:19:52.222719978Z",
     "start_time": "2023-12-31T21:19:45.162873006Z"
    }
   },
   "outputs": [
    {
     "data": {
      "text/html": [
       "<div>\n",
       "<style scoped>\n",
       "    .dataframe tbody tr th:only-of-type {\n",
       "        vertical-align: middle;\n",
       "    }\n",
       "\n",
       "    .dataframe tbody tr th {\n",
       "        vertical-align: top;\n",
       "    }\n",
       "\n",
       "    .dataframe thead th {\n",
       "        text-align: right;\n",
       "    }\n",
       "</style>\n",
       "<table border=\"1\" class=\"dataframe\">\n",
       "  <thead>\n",
       "    <tr style=\"text-align: right;\">\n",
       "      <th></th>\n",
       "      <th>cohort_id</th>\n",
       "      <th>is_usable</th>\n",
       "      <th>is_available</th>\n",
       "      <th>is_biased</th>\n",
       "      <th>has_age</th>\n",
       "      <th>has_gender</th>\n",
       "      <th>sample_size</th>\n",
       "      <th>note</th>\n",
       "    </tr>\n",
       "  </thead>\n",
       "  <tbody>\n",
       "    <tr>\n",
       "      <th>0</th>\n",
       "      <td>Xena</td>\n",
       "      <td>True</td>\n",
       "      <td>True</td>\n",
       "      <td>False</td>\n",
       "      <td>True</td>\n",
       "      <td>True</td>\n",
       "      <td>426.0</td>\n",
       "      <td></td>\n",
       "    </tr>\n",
       "  </tbody>\n",
       "</table>\n",
       "</div>"
      ],
      "text/plain": [
       "  cohort_id  is_usable  is_available is_biased has_age has_gender  \\\n",
       "0      Xena       True          True     False    True       True   \n",
       "\n",
       "   sample_size note  \n",
       "0        426.0       "
      ]
     },
     "execution_count": 6,
     "metadata": {},
     "output_type": "execute_result"
    }
   ],
   "source": [
    "condition_ranked_df.head()"
   ]
  },
  {
   "cell_type": "code",
   "execution_count": 7,
   "metadata": {
    "ExecuteTime": {
     "end_time": "2023-12-31T21:19:52.234945878Z",
     "start_time": "2023-12-31T21:19:52.231604618Z"
    }
   },
   "outputs": [
    {
     "data": {
      "text/html": [
       "<div>\n",
       "<style scoped>\n",
       "    .dataframe tbody tr th:only-of-type {\n",
       "        vertical-align: middle;\n",
       "    }\n",
       "\n",
       "    .dataframe tbody tr th {\n",
       "        vertical-align: top;\n",
       "    }\n",
       "\n",
       "    .dataframe thead th {\n",
       "        text-align: right;\n",
       "    }\n",
       "</style>\n",
       "<table border=\"1\" class=\"dataframe\">\n",
       "  <thead>\n",
       "    <tr style=\"text-align: right;\">\n",
       "      <th></th>\n",
       "      <th>Bladder Cancer</th>\n",
       "      <th>Age</th>\n",
       "      <th>Gender</th>\n",
       "      <th>ARHGEF10L</th>\n",
       "      <th>HIF3A</th>\n",
       "      <th>RNF17</th>\n",
       "      <th>RNF10</th>\n",
       "      <th>RNF11</th>\n",
       "      <th>RNF13</th>\n",
       "      <th>GTF2IP1</th>\n",
       "      <th>...</th>\n",
       "      <th>SLC7A10</th>\n",
       "      <th>PLA2G2C</th>\n",
       "      <th>TULP2</th>\n",
       "      <th>NPY5R</th>\n",
       "      <th>GNGT2</th>\n",
       "      <th>GNGT1</th>\n",
       "      <th>TULP3</th>\n",
       "      <th>BCL6B</th>\n",
       "      <th>GSTK1</th>\n",
       "      <th>SELP</th>\n",
       "    </tr>\n",
       "  </thead>\n",
       "  <tbody>\n",
       "    <tr>\n",
       "      <th>0</th>\n",
       "      <td>1</td>\n",
       "      <td>63</td>\n",
       "      <td>1</td>\n",
       "      <td>0.221008</td>\n",
       "      <td>4.428374</td>\n",
       "      <td>-0.531035</td>\n",
       "      <td>0.720328</td>\n",
       "      <td>-0.408078</td>\n",
       "      <td>-0.39141</td>\n",
       "      <td>0.048706</td>\n",
       "      <td>...</td>\n",
       "      <td>-2.090786</td>\n",
       "      <td>-0.086682</td>\n",
       "      <td>-0.086078</td>\n",
       "      <td>-0.128017</td>\n",
       "      <td>0.094667</td>\n",
       "      <td>3.01571</td>\n",
       "      <td>0.049323</td>\n",
       "      <td>-0.418127</td>\n",
       "      <td>0.095905</td>\n",
       "      <td>1.301467</td>\n",
       "    </tr>\n",
       "    <tr>\n",
       "      <th>1</th>\n",
       "      <td>1</td>\n",
       "      <td>66</td>\n",
       "      <td>1</td>\n",
       "      <td>1.334508</td>\n",
       "      <td>-2.541326</td>\n",
       "      <td>-0.531035</td>\n",
       "      <td>0.490728</td>\n",
       "      <td>0.523922</td>\n",
       "      <td>-0.59311</td>\n",
       "      <td>0.178806</td>\n",
       "      <td>...</td>\n",
       "      <td>-1.584586</td>\n",
       "      <td>-0.086682</td>\n",
       "      <td>0.124822</td>\n",
       "      <td>-1.085217</td>\n",
       "      <td>-2.360533</td>\n",
       "      <td>1.65561</td>\n",
       "      <td>-0.402877</td>\n",
       "      <td>-0.135527</td>\n",
       "      <td>0.417805</td>\n",
       "      <td>0.588167</td>\n",
       "    </tr>\n",
       "    <tr>\n",
       "      <th>2</th>\n",
       "      <td>1</td>\n",
       "      <td>69</td>\n",
       "      <td>1</td>\n",
       "      <td>1.173308</td>\n",
       "      <td>-5.554726</td>\n",
       "      <td>-0.531035</td>\n",
       "      <td>1.647728</td>\n",
       "      <td>0.518622</td>\n",
       "      <td>0.02829</td>\n",
       "      <td>0.800406</td>\n",
       "      <td>...</td>\n",
       "      <td>-1.541286</td>\n",
       "      <td>-0.086682</td>\n",
       "      <td>-0.748878</td>\n",
       "      <td>0.498683</td>\n",
       "      <td>-0.768233</td>\n",
       "      <td>-0.33489</td>\n",
       "      <td>-0.685077</td>\n",
       "      <td>0.392573</td>\n",
       "      <td>-0.115395</td>\n",
       "      <td>-1.106033</td>\n",
       "    </tr>\n",
       "    <tr>\n",
       "      <th>3</th>\n",
       "      <td>1</td>\n",
       "      <td>59</td>\n",
       "      <td>0</td>\n",
       "      <td>1.090208</td>\n",
       "      <td>0.971574</td>\n",
       "      <td>-0.531035</td>\n",
       "      <td>0.256228</td>\n",
       "      <td>0.586622</td>\n",
       "      <td>-0.73021</td>\n",
       "      <td>0.636006</td>\n",
       "      <td>...</td>\n",
       "      <td>0.311914</td>\n",
       "      <td>-0.086682</td>\n",
       "      <td>0.214422</td>\n",
       "      <td>-1.587117</td>\n",
       "      <td>-1.082733</td>\n",
       "      <td>1.90011</td>\n",
       "      <td>0.422823</td>\n",
       "      <td>-1.583627</td>\n",
       "      <td>0.596105</td>\n",
       "      <td>-0.924533</td>\n",
       "    </tr>\n",
       "    <tr>\n",
       "      <th>4</th>\n",
       "      <td>1</td>\n",
       "      <td>83</td>\n",
       "      <td>1</td>\n",
       "      <td>0.955008</td>\n",
       "      <td>-1.481926</td>\n",
       "      <td>0.115365</td>\n",
       "      <td>-0.039972</td>\n",
       "      <td>0.746322</td>\n",
       "      <td>-0.59151</td>\n",
       "      <td>0.365906</td>\n",
       "      <td>...</td>\n",
       "      <td>0.763114</td>\n",
       "      <td>-0.086682</td>\n",
       "      <td>-0.748878</td>\n",
       "      <td>-1.587117</td>\n",
       "      <td>-0.136933</td>\n",
       "      <td>1.87471</td>\n",
       "      <td>0.027523</td>\n",
       "      <td>-0.462527</td>\n",
       "      <td>-0.186195</td>\n",
       "      <td>-2.369433</td>\n",
       "    </tr>\n",
       "  </tbody>\n",
       "</table>\n",
       "<p>5 rows × 17341 columns</p>\n",
       "</div>"
      ],
      "text/plain": [
       "   Bladder Cancer  Age  Gender  ARHGEF10L     HIF3A     RNF17     RNF10  \\\n",
       "0               1   63       1   0.221008  4.428374 -0.531035  0.720328   \n",
       "1               1   66       1   1.334508 -2.541326 -0.531035  0.490728   \n",
       "2               1   69       1   1.173308 -5.554726 -0.531035  1.647728   \n",
       "3               1   59       0   1.090208  0.971574 -0.531035  0.256228   \n",
       "4               1   83       1   0.955008 -1.481926  0.115365 -0.039972   \n",
       "\n",
       "      RNF11    RNF13   GTF2IP1  ...   SLC7A10   PLA2G2C     TULP2     NPY5R  \\\n",
       "0 -0.408078 -0.39141  0.048706  ... -2.090786 -0.086682 -0.086078 -0.128017   \n",
       "1  0.523922 -0.59311  0.178806  ... -1.584586 -0.086682  0.124822 -1.085217   \n",
       "2  0.518622  0.02829  0.800406  ... -1.541286 -0.086682 -0.748878  0.498683   \n",
       "3  0.586622 -0.73021  0.636006  ...  0.311914 -0.086682  0.214422 -1.587117   \n",
       "4  0.746322 -0.59151  0.365906  ...  0.763114 -0.086682 -0.748878 -1.587117   \n",
       "\n",
       "      GNGT2    GNGT1     TULP3     BCL6B     GSTK1      SELP  \n",
       "0  0.094667  3.01571  0.049323 -0.418127  0.095905  1.301467  \n",
       "1 -2.360533  1.65561 -0.402877 -0.135527  0.417805  0.588167  \n",
       "2 -0.768233 -0.33489 -0.685077  0.392573 -0.115395 -1.106033  \n",
       "3 -1.082733  1.90011  0.422823 -1.583627  0.596105 -0.924533  \n",
       "4 -0.136933  1.87471  0.027523 -0.462527 -0.186195 -2.369433  \n",
       "\n",
       "[5 rows x 17341 columns]"
      ]
     },
     "execution_count": 7,
     "metadata": {},
     "output_type": "execute_result"
    }
   ],
   "source": [
    "merged_data = pd.read_csv(os.path.join(OUTPUT_DIR, condition_best_cohort + '.csv'))\n",
    "merged_data.head()"
   ]
  },
  {
   "cell_type": "code",
   "execution_count": 8,
   "metadata": {
    "ExecuteTime": {
     "end_time": "2023-12-31T21:19:52.312540150Z",
     "start_time": "2023-12-31T21:19:52.235772334Z"
    }
   },
   "outputs": [],
   "source": [
    "# Remove the other condition to prevent interference.\n",
    "merged_data = merged_data.drop(columns=['Gender'], errors='ignore').astype('float')\n",
    "\n",
    "X = merged_data.drop(columns=[TRAIT, condition]).values\n",
    "Y = merged_data[TRAIT].values\n",
    "Z = merged_data[condition].values"
   ]
  },
  {
   "cell_type": "markdown",
   "metadata": {},
   "source": [
    "Select the appropriate regression model depending on whether the dataset shows batch effect."
   ]
  },
  {
   "cell_type": "code",
   "execution_count": 9,
   "metadata": {
    "ExecuteTime": {
     "end_time": "2023-12-31T21:20:00.930840782Z",
     "start_time": "2023-12-31T21:19:52.319092572Z"
    }
   },
   "outputs": [
    {
     "data": {
      "text/plain": [
       "True"
      ]
     },
     "execution_count": 9,
     "metadata": {},
     "output_type": "execute_result"
    }
   ],
   "source": [
    "has_batch_effect = detect_batch_effect(X)\n",
    "has_batch_effect"
   ]
  },
  {
   "cell_type": "code",
   "execution_count": 10,
   "metadata": {
    "ExecuteTime": {
     "end_time": "2023-12-31T21:20:00.931029722Z",
     "start_time": "2023-12-31T21:20:00.929710828Z"
    }
   },
   "outputs": [],
   "source": [
    "# Select appropriate models based on whether the dataset has batch effect.\n",
    "# We experiment on two models for each branch. We will decide which one to choose later.\n",
    "\n",
    "if has_batch_effect:\n",
    "    model_constructor1 = VariableSelection\n",
    "    model_params1 = {'modified': True, 'lamda': 3e-4}\n",
    "    model_constructor2 = VariableSelection\n",
    "    model_params2 = {'modified': False}\n",
    "else:\n",
    "    model_constructor1 = Lasso\n",
    "    model_params1 = {'alpha': 1.0, 'random_state': 42}\n",
    "    model_constructor2 = VariableSelection\n",
    "    model_params2 = {'modified': False}"
   ]
  },
  {
   "cell_type": "code",
   "execution_count": 19,
   "metadata": {
    "ExecuteTime": {
     "end_time": "2023-12-31T21:20:20.709459824Z",
     "start_time": "2023-12-31T21:20:00.931657949Z"
    }
   },
   "outputs": [
    {
     "name": "stdout",
     "output_type": "stream",
     "text": [
      "alpha for Lasso: 0.0003\n",
      "alpha for Lasso: 0.0003\n",
      "alpha for Lasso: 0.0003\n",
      "alpha for Lasso: 0.0003\n",
      "alpha for Lasso: 0.0003\n",
      "The cross-validation accuracy is 60.24% ± 7.78%\n"
     ]
    }
   ],
   "source": [
    "trait_type = 'binary'  # Remember to set this properly, either 'binary' or 'continuous'\n",
    "cv_mean1, cv_std1 = cross_validation(X, Y, Z, model_constructor1, model_params1, target_type=trait_type)"
   ]
  },
  {
   "cell_type": "code",
   "execution_count": 20,
   "metadata": {
    "ExecuteTime": {
     "end_time": "2023-12-31T21:20:24.980870159Z",
     "start_time": "2023-12-31T21:20:20.516710807Z"
    }
   },
   "outputs": [
    {
     "name": "stderr",
     "output_type": "stream",
     "text": [
      "/Users/ollie/anaconda3/lib/python3.11/site-packages/sparse_lmm/helpingMethods.py:49: RuntimeWarning: invalid value encountered in divide\n",
      "  ts = beta / np.sqrt(var * sigma)\n",
      "/Users/ollie/anaconda3/lib/python3.11/site-packages/sparse_lmm/helpingMethods.py:49: RuntimeWarning: invalid value encountered in divide\n",
      "  ts = beta / np.sqrt(var * sigma)\n",
      "/Users/ollie/anaconda3/lib/python3.11/site-packages/sparse_lmm/helpingMethods.py:49: RuntimeWarning: invalid value encountered in divide\n",
      "  ts = beta / np.sqrt(var * sigma)\n",
      "/Users/ollie/anaconda3/lib/python3.11/site-packages/sparse_lmm/helpingMethods.py:49: RuntimeWarning: invalid value encountered in divide\n",
      "  ts = beta / np.sqrt(var * sigma)\n",
      "/Users/ollie/anaconda3/lib/python3.11/site-packages/sparse_lmm/helpingMethods.py:49: RuntimeWarning: invalid value encountered in divide\n",
      "  ts = beta / np.sqrt(var * sigma)\n"
     ]
    },
    {
     "name": "stdout",
     "output_type": "stream",
     "text": [
      "The cross-validation accuracy is 76.24% ± 4.03%\n"
     ]
    }
   ],
   "source": [
    "cv_mean2, cv_std2 = cross_validation(X, Y, Z, model_constructor2, model_params2, target_type=trait_type)"
   ]
  },
  {
   "cell_type": "code",
   "execution_count": 21,
   "metadata": {},
   "outputs": [
    {
     "name": "stdout",
     "output_type": "stream",
     "text": [
      "alpha for Lasso: 0.0003\n"
     ]
    },
    {
     "name": "stderr",
     "output_type": "stream",
     "text": [
      "/Users/ollie/anaconda3/lib/python3.11/site-packages/sparse_lmm/helpingMethods.py:49: RuntimeWarning: invalid value encountered in divide\n",
      "  ts = beta / np.sqrt(var * sigma)\n"
     ]
    }
   ],
   "source": [
    "normalized_X, _ = normalize_data(X)\n",
    "normalized_Z, _ = normalize_data(Z)\n",
    "\n",
    "# Train regression model on the whole dataset to identify significant genes\n",
    "model1 = ResidualizationRegressor(model_constructor1, model_params1)\n",
    "model1.fit(normalized_X, Y, normalized_Z)\n",
    "\n",
    "model2 = ResidualizationRegressor(model_constructor2, model_params2)\n",
    "model2.fit(normalized_X, Y, normalized_Z)"
   ]
  },
  {
   "cell_type": "markdown",
   "metadata": {
    "ExecuteTime": {
     "end_time": "2023-10-14T04:50:59.072075075Z",
     "start_time": "2023-10-14T04:50:38.739499998Z"
    },
    "id": "EjJrxbvb4nlj"
   },
   "source": [
    "### 5. Discussion and report"
   ]
  },
  {
   "cell_type": "code",
   "execution_count": 23,
   "metadata": {
    "ExecuteTime": {
     "end_time": "2023-12-31T21:20:25.000830410Z",
     "start_time": "2023-12-31T21:20:24.982834541Z"
    }
   },
   "outputs": [
    {
     "name": "stdout",
     "output_type": "stream",
     "text": [
      "Effect of the condition on the target variable:\n",
      "Variable: Age\n",
      "Coefficient: -0.0073\n",
      "Found 17 genes with non-zero coefficients associated with the trait 'Bladder Cancer' conditional on the factor 'Age'. These genes are identified as significant based on the regression model.\n",
      "Variable  Coefficient  Absolute Coefficient\n",
      "   SMR3A    -0.957890              0.957890\n",
      "  NKX6-2     0.814918              0.814918\n",
      "    FGF6    -0.618771              0.618771\n",
      " TBC1D3G     0.491900              0.491900\n",
      "   IL17F    -0.481053              0.481053\n",
      " TMEM213    -0.471884              0.471884\n",
      "  RSPH6A     0.425530              0.425530\n",
      "  OR2A25     0.372596              0.372596\n",
      " TBC1D3C    -0.318377              0.318377\n",
      "   KCTD4     0.287430              0.287430\n",
      "    LGSN     0.160146              0.160146\n",
      " TAS2R30     0.129086              0.129086\n",
      "    PIM3     0.120899              0.120899\n",
      "  OR2A14     0.116630              0.116630\n",
      "   DCTN5     0.109493              0.109493\n",
      "  CLDN10     0.076321              0.076321\n",
      "     NTS     0.052211              0.052211\n"
     ]
    },
    {
     "name": "stderr",
     "output_type": "stream",
     "text": [
      "/Users/ollie/Documents/JupyterProjects/AI4Science_gold_standard/stage1/Jinglin/utils.py:469: SettingWithCopyWarning: \n",
      "A value is trying to be set on a copy of a slice from a DataFrame.\n",
      "Try using .loc[row_indexer,col_indexer] = value instead\n",
      "\n",
      "See the caveats in the documentation: https://pandas.pydata.org/pandas-docs/stable/user_guide/indexing.html#returning-a-view-versus-a-copy\n",
      "  gene_regression_df['Absolute Coefficient'] = gene_regression_df['Coefficient'].abs()\n"
     ]
    }
   ],
   "source": [
    "feature_cols = merged_data.columns.tolist()\n",
    "feature_cols.remove(TRAIT)\n",
    "\n",
    "threshold = 0.05\n",
    "interpret_result(model1, feature_cols, TRAIT, condition, threshold=threshold, save_output=True,\n",
    "                 output_dir=OUTPUT_DIR, model_id=1)"
   ]
  },
  {
   "cell_type": "code",
   "execution_count": 24,
   "metadata": {},
   "outputs": [
    {
     "name": "stdout",
     "output_type": "stream",
     "text": [
      "Effect of the condition on the target variable:\n",
      "Variable: Age\n",
      "Coefficient: -0.0073\n",
      "Found 41 significant genes associated with the trait 'Bladder Cancer' conditional on the factor 'Age', with corrected p-value < 0.05:\n",
      " Variable  Coefficient      p_value  corrected_p_value\n",
      "    MMP27    -0.066884 2.952067e-19       5.118294e-15\n",
      "   CLEC3B    -0.086405 3.629278e-09       3.146221e-05\n",
      "    LMX1A    -0.049278 1.218598e-08       7.042685e-05\n",
      "  COL10A1     0.083467 2.016525e-08       8.740628e-05\n",
      "  FAM180B    -0.052842 3.245674e-08       1.125470e-04\n",
      "    TAAR6    -0.037217 4.530768e-08       1.309241e-04\n",
      "   OLFML1    -0.097990 7.751943e-08       1.920045e-04\n",
      "   VSTM2A    -0.045337 1.271020e-07       2.754619e-04\n",
      "     ESM1     0.060856 1.591626e-07       3.066180e-04\n",
      "     CST2     0.042600 2.869742e-07       4.975558e-04\n",
      "   OR2T27    -0.035234 9.670513e-07       1.524249e-03\n",
      "    INHBA     0.064166 1.359063e-06       1.942670e-03\n",
      "   COL4A1     0.069119 1.456610e-06       1.942670e-03\n",
      "    OR1S1    -0.036323 1.629177e-06       2.017619e-03\n",
      "     SGCG    -0.043875 2.594347e-06       2.998719e-03\n",
      "      F10    -0.063209 3.379569e-06       3.662185e-03\n",
      "    SFTPC    -0.030688 3.600726e-06       3.672317e-03\n",
      "    CMTM5    -0.047747 4.500390e-06       4.334876e-03\n",
      "   OR51L1    -0.034254 7.082464e-06       6.462934e-03\n",
      "  PCOLCE2    -0.044753 1.164376e-05       1.009397e-02\n",
      "  RPLP0P2     0.044499 1.250420e-05       1.032371e-02\n",
      "    MMP11     0.056832 1.500688e-05       1.096092e-02\n",
      "    PRLHR    -0.033269 1.519310e-05       1.096092e-02\n",
      "      OMD    -0.057210 1.580476e-05       1.096092e-02\n",
      "   KIF26B     0.048942 1.571117e-05       1.096092e-02\n",
      "     MYL4     0.033970 1.677877e-05       1.118886e-02\n",
      "   OR2T11    -0.029999 1.780259e-05       1.143190e-02\n",
      "     RXRG    -0.043683 1.942973e-05       1.203116e-02\n",
      "     PMP2    -0.042028 2.080035e-05       1.243574e-02\n",
      "     COMP     0.050417 2.737592e-05       1.582146e-02\n",
      "     MUSK    -0.029234 4.298044e-05       2.403855e-02\n",
      "      DPT    -0.055291 4.889902e-05       2.649410e-02\n",
      "POM121L1P     0.028731 5.983058e-05       3.051007e-02\n",
      "    PDE6C    -0.025413 5.816673e-05       3.051007e-02\n",
      "      HBM     0.023346 6.450681e-05       3.195483e-02\n",
      "   GABRG1    -0.029208 7.296229e-05       3.513945e-02\n",
      "     XKR4    -0.042245 7.882295e-05       3.693601e-02\n",
      "   ACTRT2    -0.033645 8.419175e-05       3.841359e-02\n",
      "    ADH1A    -0.039177 8.758276e-05       3.893615e-02\n",
      "    BMP15     0.021839 9.934349e-05       4.306044e-02\n",
      "     DKK2     0.038646 1.181781e-04       4.997493e-02\n"
     ]
    },
    {
     "name": "stderr",
     "output_type": "stream",
     "text": [
      "/Users/ollie/Documents/JupyterProjects/AI4Science_gold_standard/stage1/Jinglin/utils.py:478: SettingWithCopyWarning: \n",
      "A value is trying to be set on a copy of a slice from a DataFrame.\n",
      "Try using .loc[row_indexer,col_indexer] = value instead\n",
      "\n",
      "See the caveats in the documentation: https://pandas.pydata.org/pandas-docs/stable/user_guide/indexing.html#returning-a-view-versus-a-copy\n",
      "  gene_regression_df.loc[:, 'corrected_p_value'] = corrected_p_values\n"
     ]
    }
   ],
   "source": [
    "interpret_result(model2, feature_cols, TRAIT, condition, threshold=threshold, save_output=True,\n",
    "                 output_dir=OUTPUT_DIR, model_id=2)"
   ]
  },
  {
   "cell_type": "code",
   "execution_count": null,
   "metadata": {},
   "outputs": [],
   "source": []
  }
 ],
 "metadata": {
  "colab": {
   "provenance": []
  },
  "kernelspec": {
   "display_name": "Python 3 (ipykernel)",
   "language": "python",
   "name": "python3"
  },
  "language_info": {
   "codemirror_mode": {
    "name": "ipython",
    "version": 3
   },
   "file_extension": ".py",
   "mimetype": "text/x-python",
   "name": "python",
   "nbconvert_exporter": "python",
   "pygments_lexer": "ipython3",
   "version": "3.11.5"
  }
 },
 "nbformat": 4,
 "nbformat_minor": 1
}
