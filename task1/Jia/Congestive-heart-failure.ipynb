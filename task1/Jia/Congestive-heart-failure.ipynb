{
 "cells": [
  {
   "cell_type": "markdown",
   "metadata": {},
   "source": [
    "# Gold standard curation: Preprocessing and single-step regression"
   ]
  },
  {
   "cell_type": "markdown",
   "metadata": {},
   "source": [
    "In this stage of gold standard curation, we will do the data preprocessing, selection, and single-step regression for the 153 traits in our question set. This file shows the reference steps using the trait \"Breast Cancer\" as an example. The workflow consists of the following steps:\n",
    "\n",
    "1. Preprocess all the cohorts related to this trait. Each cohort should be converted to a tabular form and saved to a csv file, with columns being genetic factors, the trait, and age, gender if available;\n",
    "2. If there exists at least one cohort with age or gender information, conduct regression analysis with genetic features together with age or gender as the regressors.\n"
   ]
  },
  {
   "cell_type": "markdown",
   "metadata": {},
   "source": [
    "# 1. Basic setup"
   ]
  },
  {
   "cell_type": "code",
   "execution_count": 5,
   "metadata": {
    "ExecuteTime": {
     "end_time": "2023-12-31T21:19:07.313098989Z",
     "start_time": "2023-12-31T21:19:07.312718292Z"
    }
   },
   "outputs": [],
   "source": [
    "import os\n",
    "\n",
    "# Set your preferred name\n",
    "USER = \"Jinglin\"\n",
    "# Set the data and output directories\n",
    "DATA_ROOT = '../../DATA'\n",
    "OUTPUT_ROOT = '../../output1'\n",
    "TRAIT = 'Congestive heart failure'\n",
    "\n",
    "OUTPUT_DIR = os.path.join(OUTPUT_ROOT, USER, '-'.join(TRAIT.split()))\n",
    "JSON_PATH = os.path.join(OUTPUT_DIR, \"cohort_info.json\")\n",
    "if not os.path.exists(OUTPUT_DIR):\n",
    "    os.makedirs(OUTPUT_DIR, exist_ok=True)\n",
    "\n",
    "# Gene symbol normalization may take 1-2 minutes. You may set it to False for debugging.\n",
    "NORMALIZE_GENE = True"
   ]
  },
  {
   "cell_type": "code",
   "execution_count": 6,
   "metadata": {
    "ExecuteTime": {
     "end_time": "2023-12-31T21:19:07.680659936Z",
     "start_time": "2023-12-31T21:19:07.666959145Z"
    },
    "colab": {
     "base_uri": "https://localhost:8080/"
    },
    "id": "jMTdsU43vVg3",
    "outputId": "38886111-f442-44b4-8398-96bf384d7abd"
   },
   "outputs": [
    {
     "data": {
      "text/plain": [
       "\"import os\\nfrom google.colab import drive\\n\\ndrive.mount('/content/drive', force_remount=True)\\nproj_dir = '/content/drive/MyDrive/AI4Science_Public'\\nos.chdir(proj_dir)\""
      ]
     },
     "execution_count": 6,
     "metadata": {},
     "output_type": "execute_result"
    }
   ],
   "source": [
    "# This cell is only for use on Google Colab. Skip it if you run your code in other environments\n",
    "\n",
    "\"\"\"import os\n",
    "from google.colab import drive\n",
    "\n",
    "drive.mount('/content/drive', force_remount=True)\n",
    "proj_dir = '/content/drive/MyDrive/AI4Science_Public'\n",
    "os.chdir(proj_dir)\"\"\""
   ]
  },
  {
   "cell_type": "markdown",
   "metadata": {},
   "source": [
    "# 2. Data preprocessing and selection"
   ]
  },
  {
   "cell_type": "markdown",
   "metadata": {},
   "source": [
    "## 2.1. The TCGA Xena dataset"
   ]
  },
  {
   "cell_type": "markdown",
   "metadata": {},
   "source": [
    "In TCGA Xena, there is either zero or one cohort related to the trait. We search the names of subdirectories to see if any matches the trait. If a match is found, we directly obtain the file paths."
   ]
  },
  {
   "cell_type": "code",
   "execution_count": 3,
   "metadata": {},
   "outputs": [
    {
     "data": {
      "text/plain": [
       "['TCGA_Pancreatic_Cancer_(PAAD)',\n",
       " 'TCGA_Bladder_Cancer_(BLCA)',\n",
       " '.DS_Store',\n",
       " 'TCGA_Testicular_Cancer_(TGCT)',\n",
       " 'TCGA_Acute_Myeloid_Leukemia_(LAML)',\n",
       " 'TCGA_Stomach_Cancer_(STAD)',\n",
       " 'TCGA_Thyroid_Cancer_(THCA)',\n",
       " 'TCGA_Glioblastoma_(GBM)']"
      ]
     },
     "execution_count": 3,
     "metadata": {},
     "output_type": "execute_result"
    }
   ],
   "source": [
    "import os\n",
    "from utils import *\n",
    "\n",
    "dataset = 'TCGA'\n",
    "dataset_dir = os.path.join(DATA_ROOT, dataset)\n",
    "os.listdir(dataset_dir)[:10]"
   ]
  },
  {
   "cell_type": "markdown",
   "metadata": {},
   "source": [
    "If no match is found, jump directly to GEO in Part 2.2"
   ]
  },
  {
   "cell_type": "code",
   "execution_count": 4,
   "metadata": {
    "ExecuteTime": {
     "end_time": "2023-12-31T21:19:09.918243934Z",
     "start_time": "2023-12-31T21:19:09.909021135Z"
    }
   },
   "outputs": [],
   "source": [
    "trait_subdir = \"TCGA_Thyroid_Cancer_(THCA)\"\n",
    "cohort = 'Xena'\n",
    "# All the cancer traits in Xena are binary\n",
    "trait_type = 'binary'\n",
    "# Once a relevant cohort is found in Xena, we can generally assume the gene and clinical data are available\n",
    "is_available = True\n",
    "\n",
    "clinical_data_file = os.path.join(dataset_dir, trait_subdir, 'TCGA.THCA.sampleMap_THCA_clinicalMatrix')\n",
    "genetic_data_file = os.path.join(dataset_dir, trait_subdir, 'TCGA.THCA.sampleMap_HiSeqV2_PANCAN.gz')"
   ]
  },
  {
   "cell_type": "code",
   "execution_count": 6,
   "metadata": {
    "ExecuteTime": {
     "end_time": "2023-12-31T21:19:13.613198409Z",
     "start_time": "2023-12-31T21:19:10.409688003Z"
    },
    "id": "MudwB-_iz7sc"
   },
   "outputs": [],
   "source": [
    "import pandas as pd\n",
    "\n",
    "clinical_data = pd.read_csv(clinical_data_file, sep='\\t', index_col=0)\n",
    "genetic_data = pd.read_csv(genetic_data_file, compression='gzip', sep='\\t', index_col=0)\n",
    "age_col = gender_col = None"
   ]
  },
  {
   "cell_type": "code",
   "execution_count": 7,
   "metadata": {
    "ExecuteTime": {
     "end_time": "2023-12-31T21:19:13.617006167Z",
     "start_time": "2023-12-31T21:19:13.614080653Z"
    }
   },
   "outputs": [],
   "source": [
    "_, clinical_data_cols = check_rows_and_columns(clinical_data)"
   ]
  },
  {
   "cell_type": "code",
   "execution_count": 8,
   "metadata": {
    "ExecuteTime": {
     "end_time": "2023-12-31T21:19:13.661538569Z",
     "start_time": "2023-12-31T21:19:13.615946213Z"
    }
   },
   "outputs": [
    {
     "data": {
      "text/plain": [
       "['_INTEGRATION',\n",
       " '_PATIENT',\n",
       " '_cohort',\n",
       " '_primary_disease',\n",
       " '_primary_site',\n",
       " 'additional_pharmaceutical_therapy',\n",
       " 'additional_radiation_therapy',\n",
       " 'additional_surgery_locoregional_procedure',\n",
       " 'age_at_initial_pathologic_diagnosis',\n",
       " 'bcr_followup_barcode']"
      ]
     },
     "execution_count": 8,
     "metadata": {},
     "output_type": "execute_result"
    }
   ],
   "source": [
    "clinical_data_cols[:10]"
   ]
  },
  {
   "cell_type": "markdown",
   "metadata": {
    "ExecuteTime": {
     "end_time": "2023-12-28T20:20:11.841042813Z",
     "start_time": "2023-12-28T20:20:11.834458206Z"
    }
   },
   "source": [
    "Read all the column names in the clinical dataset, to find the columns that record information about age or gender.\n",
    "Reference prompt:"
   ]
  },
  {
   "cell_type": "code",
   "execution_count": 9,
   "metadata": {
    "ExecuteTime": {
     "end_time": "2023-12-31T21:19:13.661858700Z",
     "start_time": "2023-12-31T21:19:13.656749487Z"
    }
   },
   "outputs": [
    {
     "data": {
      "text/plain": [
       "\"\\nBelow is a list of column names from a biomedical dataset. Please examine it and identify the columns that are likely to contain information about patients' age. Additionally, please do the same for columns that may hold data on patients' gender. Please provide your answer by strictly following this format, without redundant words:\\ncandidate_age_cols = [col_name1, col_name2, ...]\\ncandidate_gender_cols = [col_name1, col_name2, ...]\\nIf no columns match a criterion, please provide an empty list.\\n\\nColumn names:\\n['_INTEGRATION', '_PATIENT', '_cohort', '_primary_disease', '_primary_site', 'additional_pharmaceutical_therapy', 'additional_radiation_therapy', 'additional_surgery_locoregional_procedure', 'age_at_initial_pathologic_diagnosis', 'bcr_followup_barcode', 'bcr_patient_barcode', 'bcr_sample_barcode', 'braf_gene_genotyping_outcome_lab_results_text', 'days_to_additional_surgery_metastatic_procedure', 'days_to_birth', 'days_to_collection', 'days_to_death', 'days_to_initial_pathologic_diagnosis', 'days_to_last_followup', 'days_to_new_tumor_event_additional_surgery_procedure', 'days_to_new_tumor_event_after_initial_treatment', 'extrathyroid_carcinoma_present_extension_status', 'first_degree_relative_history_thyrd_glnd_crcnm_dgnss_rltnshp_typ', 'followup_case_report_form_submission_reason', 'form_completion_date', 'gender', 'genotype_analysis_performed_indicator', 'genotyping_results_gene_mutation_not_reported_reason', 'histologic_disease_progression_present_indicator', 'histologic_disease_progression_present_type', 'histological_type', 'histological_type_other', 'history_of_neoadjuvant_treatment', 'i_131_first_administered_dose', 'i_131_subsequent_administered_dose', 'i_131_total_administered_dose', 'i_131_total_administered_preparation_technique', 'icd_10', 'icd_o_3_histology', 'icd_o_3_site', 'informed_consent_verified', 'initial_weight', 'is_ffpe', 'lost_follow_up', 'lymph_node_examined_count', 'lymph_node_preoperative_assessment_diagnostic_imaging_type', 'lymph_node_preoperative_scan_indicator', 'metastatic_neoplasm_confirmed_diagnosis_method_name', 'metastatic_neoplasm_confirmed_diagnosis_method_text', 'metastatic_site', 'neoplasm_depth', 'new_neoplasm_confirmed_diagnosis_method_name', 'new_neoplasm_event_occurrence_anatomic_site', 'new_neoplasm_event_type', 'new_neoplasm_occurrence_anatomic_site_text', 'new_tumor_event_additional_surgery_procedure', 'new_tumor_event_after_initial_treatment', 'number_of_lymphnodes_positive_by_he', 'oct_embedded', 'other_dx', 'other_genotyping_outcome_lab_results_text', 'other_metastatic_site', 'pathologic_M', 'pathologic_N', 'pathologic_T', 'pathologic_stage', 'pathology_report_file_name', 'patient_id', 'patient_personal_medical_history_thyroid_gland_disorder_name', 'patient_personal_medical_history_thyroid_other_specify_text', 'person_lifetime_risk_radiation_exposure_indicator', 'person_neoplasm_cancer_status', 'post_surgical_procedure_assessment_thyroid_gland_carcinoma_stats', 'postoperative_rx_tx', 'primary_lymph_node_presentation_assessment', 'primary_neoplasm_focus_type', 'primary_thyroid_gland_neoplasm_location_anatomic_site', 'radiation_therapy', 'radiation_therapy_administered_dose_text', 'radiation_therapy_administered_preparation_technique_text', 'radiosensitizing_agent_administered_indicator', 'ras_family_gene_genotyping_outcome_lab_results_text', 'residual_tumor', 'ret_ptc_rearrangement_genotyping_outcome_lab_results_text', 'sample_type', 'sample_type_id', 'system_version', 'targeted_molecular_therapy', 'therapeutic_procedure_new_neoplasm_required_additional_thrpy_typ', 'thyroid_gland_carcinoma_involvement_regional_lymph_node_type', 'tissue_prospective_collection_indicator', 'tissue_retrospective_collection_indicator', 'tissue_source_site', 'tumor_tissue_site', 'vial_number', 'vital_status', 'year_of_initial_pathologic_diagnosis', '_GENOMIC_ID_TCGA_THCA_exp_HiSeqV2_percentile', '_GENOMIC_ID_TCGA_THCA_hMethyl450', '_GENOMIC_ID_TCGA_THCA_mutation_bcm_gene', '_GENOMIC_ID_TCGA_THCA_RPPA', '_GENOMIC_ID_TCGA_THCA_exp_HiSeqV2', '_GENOMIC_ID_TCGA_THCA_gistic2', '_GENOMIC_ID_TCGA_THCA_PDMRNAseqCNV', '_GENOMIC_ID_TCGA_THCA_mutation_bcgsc_gene', '_GENOMIC_ID_TCGA_THCA_mutation', '_GENOMIC_ID_TCGA_THCA_PDMRNAseq', '_GENOMIC_ID_TCGA_THCA_mutation_broad_gene', '_GENOMIC_ID_TCGA_THCA_exp_HiSeqV2_exon', '_GENOMIC_ID_TCGA_THCA_miRNA_HiSeq', '_GENOMIC_ID_TCGA_THCA_exp_HiSeqV2_PANCAN', '_GENOMIC_ID_data/public/TCGA/THCA/miRNA_HiSeq_gene', '_GENOMIC_ID_TCGA_THCA_gistic2thd']\\n\""
      ]
     },
     "execution_count": 9,
     "metadata": {},
     "output_type": "execute_result"
    }
   ],
   "source": [
    "f'''\n",
    "Below is a list of column names from a biomedical dataset. Please examine it and identify the columns that are likely to contain information about patients' age. Additionally, please do the same for columns that may hold data on patients' gender. Please provide your answer by strictly following this format, without redundant words:\n",
    "candidate_age_cols = [col_name1, col_name2, ...]\n",
    "candidate_gender_cols = [col_name1, col_name2, ...]\n",
    "If no columns match a criterion, please provide an empty list.\n",
    "\n",
    "Column names:\n",
    "{clinical_data_cols}\n",
    "'''"
   ]
  },
  {
   "cell_type": "code",
   "execution_count": 12,
   "metadata": {
    "ExecuteTime": {
     "end_time": "2023-12-31T21:19:13.661938833Z",
     "start_time": "2023-12-31T21:19:13.656901848Z"
    }
   },
   "outputs": [],
   "source": [
    "candidate_age_cols = ['age_at_initial_pathologic_diagnosis',\n",
    "                      'days_to_birth']\n",
    "candidate_gender_cols = ['gender']"
   ]
  },
  {
   "cell_type": "markdown",
   "metadata": {
    "ExecuteTime": {
     "end_time": "2023-12-31T03:57:44.207565572Z",
     "start_time": "2023-12-31T03:57:44.202177544Z"
    }
   },
   "source": [
    "Choose a single column from the candidate columns that record age and gender information respectively.\n",
    "If no column meets the requirement, keep 'age_col' or 'gender_col' to None"
   ]
  },
  {
   "cell_type": "code",
   "execution_count": 13,
   "metadata": {
    "ExecuteTime": {
     "end_time": "2023-12-31T21:19:13.662078139Z",
     "start_time": "2023-12-31T21:19:13.657006017Z"
    }
   },
   "outputs": [
    {
     "data": {
      "text/plain": [
       "{'age_at_initial_pathologic_diagnosis': [74, 65, 55, 57, 33],\n",
       " 'days_to_birth': [-27348, -24102, -20361, -21008, -12295]}"
      ]
     },
     "execution_count": 13,
     "metadata": {},
     "output_type": "execute_result"
    }
   ],
   "source": [
    "preview_df(clinical_data[candidate_age_cols])"
   ]
  },
  {
   "cell_type": "code",
   "execution_count": 16,
   "metadata": {
    "ExecuteTime": {
     "end_time": "2023-12-31T21:19:13.777159137Z",
     "start_time": "2023-12-31T21:19:13.756210135Z"
    }
   },
   "outputs": [],
   "source": [
    "age_col = 'age_at_initial_pathologic_diagnosis'"
   ]
  },
  {
   "cell_type": "code",
   "execution_count": 17,
   "metadata": {
    "ExecuteTime": {
     "end_time": "2023-12-31T21:19:14.313425023Z",
     "start_time": "2023-12-31T21:19:14.305221062Z"
    }
   },
   "outputs": [
    {
     "data": {
      "text/plain": [
       "{'gender': ['FEMALE', 'MALE', 'MALE', 'MALE', 'FEMALE']}"
      ]
     },
     "execution_count": 17,
     "metadata": {},
     "output_type": "execute_result"
    }
   ],
   "source": [
    "preview_df(clinical_data[candidate_gender_cols])"
   ]
  },
  {
   "cell_type": "code",
   "execution_count": 18,
   "metadata": {
    "ExecuteTime": {
     "end_time": "2023-12-31T21:19:14.852502962Z",
     "start_time": "2023-12-31T21:19:14.845153121Z"
    }
   },
   "outputs": [],
   "source": [
    "gender_col = 'gender'"
   ]
  },
  {
   "cell_type": "code",
   "execution_count": 19,
   "metadata": {
    "ExecuteTime": {
     "end_time": "2023-12-31T21:19:15.246065025Z",
     "start_time": "2023-12-31T21:19:15.240279162Z"
    }
   },
   "outputs": [],
   "source": [
    "selected_clinical_data = xena_select_clinical_features(clinical_data, TRAIT, age_col, gender_col)"
   ]
  },
  {
   "cell_type": "code",
   "execution_count": 20,
   "metadata": {
    "ExecuteTime": {
     "end_time": "2023-12-31T21:19:15.593478652Z",
     "start_time": "2023-12-31T21:19:15.583841656Z"
    }
   },
   "outputs": [],
   "source": [
    "if NORMALIZE_GENE:\n",
    "    genetic_data = normalize_gene_symbols_in_index(genetic_data)"
   ]
  },
  {
   "cell_type": "code",
   "execution_count": 21,
   "metadata": {
    "ExecuteTime": {
     "end_time": "2023-12-31T21:19:16.074598194Z",
     "start_time": "2023-12-31T21:19:15.973600157Z"
    }
   },
   "outputs": [
    {
     "data": {
      "text/html": [
       "<div>\n",
       "<style scoped>\n",
       "    .dataframe tbody tr th:only-of-type {\n",
       "        vertical-align: middle;\n",
       "    }\n",
       "\n",
       "    .dataframe tbody tr th {\n",
       "        vertical-align: top;\n",
       "    }\n",
       "\n",
       "    .dataframe thead th {\n",
       "        text-align: right;\n",
       "    }\n",
       "</style>\n",
       "<table border=\"1\" class=\"dataframe\">\n",
       "  <thead>\n",
       "    <tr style=\"text-align: right;\">\n",
       "      <th></th>\n",
       "      <th>Thyroid Cancer</th>\n",
       "      <th>Age</th>\n",
       "      <th>Gender</th>\n",
       "      <th>ARHGEF10L</th>\n",
       "      <th>HIF3A</th>\n",
       "      <th>RNF17</th>\n",
       "      <th>RNF10</th>\n",
       "      <th>RNF11</th>\n",
       "      <th>RNF13</th>\n",
       "      <th>GTF2IP1</th>\n",
       "      <th>...</th>\n",
       "      <th>TULP2</th>\n",
       "      <th>NPY5R</th>\n",
       "      <th>GNGT2</th>\n",
       "      <th>GNGT1</th>\n",
       "      <th>TULP3</th>\n",
       "      <th>PTRF</th>\n",
       "      <th>BCL6B</th>\n",
       "      <th>GSTK1</th>\n",
       "      <th>SELP</th>\n",
       "      <th>SELS</th>\n",
       "    </tr>\n",
       "    <tr>\n",
       "      <th>sampleID</th>\n",
       "      <th></th>\n",
       "      <th></th>\n",
       "      <th></th>\n",
       "      <th></th>\n",
       "      <th></th>\n",
       "      <th></th>\n",
       "      <th></th>\n",
       "      <th></th>\n",
       "      <th></th>\n",
       "      <th></th>\n",
       "      <th></th>\n",
       "      <th></th>\n",
       "      <th></th>\n",
       "      <th></th>\n",
       "      <th></th>\n",
       "      <th></th>\n",
       "      <th></th>\n",
       "      <th></th>\n",
       "      <th></th>\n",
       "      <th></th>\n",
       "      <th></th>\n",
       "    </tr>\n",
       "  </thead>\n",
       "  <tbody>\n",
       "    <tr>\n",
       "      <th>TCGA-4C-A93U-01</th>\n",
       "      <td>1</td>\n",
       "      <td>74</td>\n",
       "      <td>0</td>\n",
       "      <td>-0.767592</td>\n",
       "      <td>-1.742926</td>\n",
       "      <td>-0.531035</td>\n",
       "      <td>-0.067972</td>\n",
       "      <td>0.265922</td>\n",
       "      <td>-0.13531</td>\n",
       "      <td>0.440006</td>\n",
       "      <td>...</td>\n",
       "      <td>-0.748878</td>\n",
       "      <td>-1.018517</td>\n",
       "      <td>0.205567</td>\n",
       "      <td>-1.28139</td>\n",
       "      <td>0.395523</td>\n",
       "      <td>1.735414</td>\n",
       "      <td>0.945273</td>\n",
       "      <td>-0.186695</td>\n",
       "      <td>4.024767</td>\n",
       "      <td>-0.273612</td>\n",
       "    </tr>\n",
       "    <tr>\n",
       "      <th>TCGA-BJ-A0YZ-01</th>\n",
       "      <td>1</td>\n",
       "      <td>65</td>\n",
       "      <td>1</td>\n",
       "      <td>1.766308</td>\n",
       "      <td>0.273374</td>\n",
       "      <td>-0.531035</td>\n",
       "      <td>0.790028</td>\n",
       "      <td>1.209322</td>\n",
       "      <td>0.01229</td>\n",
       "      <td>0.704606</td>\n",
       "      <td>...</td>\n",
       "      <td>0.125322</td>\n",
       "      <td>1.568883</td>\n",
       "      <td>0.626367</td>\n",
       "      <td>2.38101</td>\n",
       "      <td>0.275823</td>\n",
       "      <td>1.820014</td>\n",
       "      <td>2.140073</td>\n",
       "      <td>1.380405</td>\n",
       "      <td>1.257367</td>\n",
       "      <td>-0.174312</td>\n",
       "    </tr>\n",
       "    <tr>\n",
       "      <th>TCGA-BJ-A0Z0-01</th>\n",
       "      <td>1</td>\n",
       "      <td>55</td>\n",
       "      <td>1</td>\n",
       "      <td>0.986808</td>\n",
       "      <td>-2.165726</td>\n",
       "      <td>-0.050935</td>\n",
       "      <td>0.051428</td>\n",
       "      <td>0.979522</td>\n",
       "      <td>0.48229</td>\n",
       "      <td>0.090106</td>\n",
       "      <td>...</td>\n",
       "      <td>-0.748878</td>\n",
       "      <td>-0.747417</td>\n",
       "      <td>-0.931133</td>\n",
       "      <td>-1.28139</td>\n",
       "      <td>-0.222077</td>\n",
       "      <td>0.293414</td>\n",
       "      <td>0.725173</td>\n",
       "      <td>-0.254095</td>\n",
       "      <td>0.530667</td>\n",
       "      <td>-0.430812</td>\n",
       "    </tr>\n",
       "    <tr>\n",
       "      <th>TCGA-BJ-A0Z2-01</th>\n",
       "      <td>1</td>\n",
       "      <td>57</td>\n",
       "      <td>1</td>\n",
       "      <td>0.767208</td>\n",
       "      <td>-1.623626</td>\n",
       "      <td>-0.531035</td>\n",
       "      <td>0.182228</td>\n",
       "      <td>0.541622</td>\n",
       "      <td>0.65889</td>\n",
       "      <td>0.647206</td>\n",
       "      <td>...</td>\n",
       "      <td>-0.748878</td>\n",
       "      <td>-1.587117</td>\n",
       "      <td>-1.292433</td>\n",
       "      <td>-1.28139</td>\n",
       "      <td>-0.602177</td>\n",
       "      <td>0.134114</td>\n",
       "      <td>0.894473</td>\n",
       "      <td>-0.380395</td>\n",
       "      <td>-2.502833</td>\n",
       "      <td>0.360588</td>\n",
       "    </tr>\n",
       "    <tr>\n",
       "      <th>TCGA-BJ-A0Z3-01</th>\n",
       "      <td>1</td>\n",
       "      <td>33</td>\n",
       "      <td>0</td>\n",
       "      <td>-0.287292</td>\n",
       "      <td>-1.766626</td>\n",
       "      <td>-0.531035</td>\n",
       "      <td>0.059628</td>\n",
       "      <td>0.920522</td>\n",
       "      <td>0.21849</td>\n",
       "      <td>0.336106</td>\n",
       "      <td>...</td>\n",
       "      <td>-0.413778</td>\n",
       "      <td>1.111583</td>\n",
       "      <td>1.158867</td>\n",
       "      <td>-1.28139</td>\n",
       "      <td>0.003723</td>\n",
       "      <td>1.240514</td>\n",
       "      <td>0.924373</td>\n",
       "      <td>-0.143495</td>\n",
       "      <td>2.613367</td>\n",
       "      <td>-0.030012</td>\n",
       "    </tr>\n",
       "  </tbody>\n",
       "</table>\n",
       "<p>5 rows × 20533 columns</p>\n",
       "</div>"
      ],
      "text/plain": [
       "                 Thyroid Cancer  Age  Gender  ARHGEF10L     HIF3A     RNF17  \\\n",
       "sampleID                                                                      \n",
       "TCGA-4C-A93U-01               1   74       0  -0.767592 -1.742926 -0.531035   \n",
       "TCGA-BJ-A0YZ-01               1   65       1   1.766308  0.273374 -0.531035   \n",
       "TCGA-BJ-A0Z0-01               1   55       1   0.986808 -2.165726 -0.050935   \n",
       "TCGA-BJ-A0Z2-01               1   57       1   0.767208 -1.623626 -0.531035   \n",
       "TCGA-BJ-A0Z3-01               1   33       0  -0.287292 -1.766626 -0.531035   \n",
       "\n",
       "                    RNF10     RNF11    RNF13   GTF2IP1  ...     TULP2  \\\n",
       "sampleID                                                ...             \n",
       "TCGA-4C-A93U-01 -0.067972  0.265922 -0.13531  0.440006  ... -0.748878   \n",
       "TCGA-BJ-A0YZ-01  0.790028  1.209322  0.01229  0.704606  ...  0.125322   \n",
       "TCGA-BJ-A0Z0-01  0.051428  0.979522  0.48229  0.090106  ... -0.748878   \n",
       "TCGA-BJ-A0Z2-01  0.182228  0.541622  0.65889  0.647206  ... -0.748878   \n",
       "TCGA-BJ-A0Z3-01  0.059628  0.920522  0.21849  0.336106  ... -0.413778   \n",
       "\n",
       "                    NPY5R     GNGT2    GNGT1     TULP3      PTRF     BCL6B  \\\n",
       "sampleID                                                                     \n",
       "TCGA-4C-A93U-01 -1.018517  0.205567 -1.28139  0.395523  1.735414  0.945273   \n",
       "TCGA-BJ-A0YZ-01  1.568883  0.626367  2.38101  0.275823  1.820014  2.140073   \n",
       "TCGA-BJ-A0Z0-01 -0.747417 -0.931133 -1.28139 -0.222077  0.293414  0.725173   \n",
       "TCGA-BJ-A0Z2-01 -1.587117 -1.292433 -1.28139 -0.602177  0.134114  0.894473   \n",
       "TCGA-BJ-A0Z3-01  1.111583  1.158867 -1.28139  0.003723  1.240514  0.924373   \n",
       "\n",
       "                    GSTK1      SELP      SELS  \n",
       "sampleID                                       \n",
       "TCGA-4C-A93U-01 -0.186695  4.024767 -0.273612  \n",
       "TCGA-BJ-A0YZ-01  1.380405  1.257367 -0.174312  \n",
       "TCGA-BJ-A0Z0-01 -0.254095  0.530667 -0.430812  \n",
       "TCGA-BJ-A0Z2-01 -0.380395 -2.502833  0.360588  \n",
       "TCGA-BJ-A0Z3-01 -0.143495  2.613367 -0.030012  \n",
       "\n",
       "[5 rows x 20533 columns]"
      ]
     },
     "execution_count": 21,
     "metadata": {},
     "output_type": "execute_result"
    }
   ],
   "source": [
    "merged_data = selected_clinical_data.join(genetic_data.T).dropna()\n",
    "merged_data.head()"
   ]
  },
  {
   "cell_type": "code",
   "execution_count": 22,
   "metadata": {
    "ExecuteTime": {
     "end_time": "2023-12-31T21:19:16.341121723Z",
     "start_time": "2023-12-31T21:19:16.330544222Z"
    }
   },
   "outputs": [
    {
     "name": "stdout",
     "output_type": "stream",
     "text": [
      "The merged dataset contains 572 samples.\n"
     ]
    }
   ],
   "source": [
    "print(f\"The merged dataset contains {len(merged_data)} samples.\")"
   ]
  },
  {
   "cell_type": "code",
   "execution_count": 23,
   "metadata": {
    "ExecuteTime": {
     "end_time": "2023-12-31T21:19:17.222505900Z",
     "start_time": "2023-12-31T21:19:17.218781412Z"
    }
   },
   "outputs": [
    {
     "name": "stdout",
     "output_type": "stream",
     "text": [
      "For the feature 'Thyroid Cancer', the least common label is '0' with 59 occurrences. This represents 10.31% of the dataset.\n",
      "The distribution of the feature 'Thyroid Cancer' in this dataset is fine.\n",
      "\n",
      "Quartiles for 'Age':\n",
      "  25%: 34.0\n",
      "  50% (Median): 46.0\n",
      "  75%: 58.0\n",
      "Min: 15\n",
      "Max: 89\n",
      "The distribution of the feature 'Age' in this dataset is fine.\n",
      "\n",
      "For the feature 'Gender', the least common label is '1' with 157 occurrences. This represents 27.45% of the dataset.\n",
      "The distribution of the feature 'Gender' in this dataset is fine.\n",
      "\n"
     ]
    },
    {
     "data": {
      "text/plain": [
       "False"
      ]
     },
     "execution_count": 23,
     "metadata": {},
     "output_type": "execute_result"
    }
   ],
   "source": [
    "is_trait_biased, merge_data = judge_and_remove_biased_features(merged_data, TRAIT, trait_type=trait_type)\n",
    "is_trait_biased"
   ]
  },
  {
   "cell_type": "code",
   "execution_count": 24,
   "metadata": {
    "ExecuteTime": {
     "end_time": "2023-12-31T21:19:35.401536463Z",
     "start_time": "2023-12-31T21:19:17.980683628Z"
    }
   },
   "outputs": [],
   "source": [
    "merged_data.head()\n",
    "if not is_trait_biased:\n",
    "    merge_data.to_csv(os.path.join(OUTPUT_DIR, cohort+'.csv'), index=False)"
   ]
  },
  {
   "cell_type": "code",
   "execution_count": 25,
   "metadata": {
    "ExecuteTime": {
     "end_time": "2023-12-31T21:19:35.405288661Z",
     "start_time": "2023-12-31T21:19:35.402799553Z"
    }
   },
   "outputs": [
    {
     "name": "stdout",
     "output_type": "stream",
     "text": [
      "A new JSON file was created at: ../../output1/Jinglin/Thyroid-Cancer/cohort_info.json\n"
     ]
    }
   ],
   "source": [
    "save_cohort_info(cohort, JSON_PATH, is_available, is_trait_biased, merged_data)"
   ]
  },
  {
   "cell_type": "markdown",
   "metadata": {
    "ExecuteTime": {
     "end_time": "2023-12-28T21:28:38.028916303Z",
     "start_time": "2023-12-28T21:28:38.016245426Z"
    }
   },
   "source": [
    "## 2.2. The GEO dataset"
   ]
  },
  {
   "cell_type": "markdown",
   "metadata": {
    "ExecuteTime": {
     "end_time": "2023-12-31T03:25:23.253882615Z",
     "start_time": "2023-12-31T03:25:23.244062710Z"
    }
   },
   "source": [
    "In GEO, there may be one or multiple cohorts for a trait. Each cohort is identified by an accession number. We iterate over all accession numbers in the corresponding subdirectory, preprocess the cohort data, and save them to csv files."
   ]
  },
  {
   "cell_type": "code",
   "execution_count": 4,
   "metadata": {
    "ExecuteTime": {
     "end_time": "2023-12-31T21:19:35.411177575Z",
     "start_time": "2023-12-31T21:19:35.405710636Z"
    }
   },
   "outputs": [
    {
     "data": {
      "text/plain": [
       "['GSE93101', 'GSE1869']"
      ]
     },
     "execution_count": 4,
     "metadata": {},
     "output_type": "execute_result"
    }
   ],
   "source": [
    "dataset = 'GEO'\n",
    "trait_subdir = \"Congestive-heart-failure\"\n",
    "\n",
    "trait_path = os.path.join(DATA_ROOT, dataset, trait_subdir)\n",
    "os.listdir(trait_path)"
   ]
  },
  {
   "cell_type": "markdown",
   "metadata": {
    "ExecuteTime": {
     "end_time": "2023-12-31T03:39:42.634870142Z",
     "start_time": "2023-12-31T03:39:42.534093295Z"
    }
   },
   "source": [
    "Repeat the below steps for all the accession numbers"
   ]
  },
  {
   "cell_type": "code",
   "execution_count": 12,
   "metadata": {
    "ExecuteTime": {
     "end_time": "2023-12-31T21:19:35.413836016Z",
     "start_time": "2023-12-31T21:19:35.410443976Z"
    }
   },
   "outputs": [
    {
     "data": {
      "text/plain": [
       "('../../DATA/GEO/Congestive-heart-failure/GSE1869/GSE1869_family.soft.gz',\n",
       " '../../DATA/GEO/Congestive-heart-failure/GSE1869/GSE1869_series_matrix.txt.gz')"
      ]
     },
     "execution_count": 12,
     "metadata": {},
     "output_type": "execute_result"
    }
   ],
   "source": [
    "cohort = accession_num = \"GSE1869\"\n",
    "cohort_dir = os.path.join(trait_path, accession_num)\n",
    "soft_file, matrix_file = get_relevant_filepaths(cohort_dir)\n",
    "soft_file, matrix_file"
   ]
  },
  {
   "cell_type": "markdown",
   "metadata": {},
   "source": [
    "### Inital filtering and clinical data preprocessing"
   ]
  },
  {
   "cell_type": "code",
   "execution_count": 13,
   "metadata": {
    "ExecuteTime": {
     "end_time": "2023-12-31T21:19:35.492119842Z",
     "start_time": "2023-12-31T21:19:35.413383102Z"
    }
   },
   "outputs": [
    {
     "name": "stdout",
     "output_type": "stream",
     "text": [
      "!Series_title\t\"Ischemic and Nonischemic CM and NF Hearts\"\n",
      "!Series_summary\t\"Pre-LVAD and explanted ischemic and nonischemic cardiomyopathy and nonfailing hearts all normalized with RMA\"\n",
      "!Series_summary\t\"Keywords: other\"\n"
     ]
    }
   ],
   "source": [
    "background_prefixes = ['!Series_title', '!Series_summary', '!Series_overall_design']\n",
    "clinical_prefixes = ['!Sample_geo_accession', '!Sample_characteristics_ch1']\n",
    "\n",
    "background_info, clinical_data = get_background_and_clinical_data(matrix_file, background_prefixes, clinical_prefixes)\n",
    "print(background_info)"
   ]
  },
  {
   "cell_type": "code",
   "execution_count": 14,
   "metadata": {
    "ExecuteTime": {
     "end_time": "2023-12-31T21:19:35.507840422Z",
     "start_time": "2023-12-31T21:19:35.451789107Z"
    }
   },
   "outputs": [
    {
     "data": {
      "text/html": [
       "<div>\n",
       "<style scoped>\n",
       "    .dataframe tbody tr th:only-of-type {\n",
       "        vertical-align: middle;\n",
       "    }\n",
       "\n",
       "    .dataframe tbody tr th {\n",
       "        vertical-align: top;\n",
       "    }\n",
       "\n",
       "    .dataframe thead th {\n",
       "        text-align: right;\n",
       "    }\n",
       "</style>\n",
       "<table border=\"1\" class=\"dataframe\">\n",
       "  <thead>\n",
       "    <tr style=\"text-align: right;\">\n",
       "      <th></th>\n",
       "      <th>!Sample_geo_accession</th>\n",
       "      <th>GSM33069</th>\n",
       "      <th>GSM33087</th>\n",
       "      <th>GSM33088</th>\n",
       "      <th>GSM33089</th>\n",
       "      <th>GSM33090</th>\n",
       "      <th>GSM33091</th>\n",
       "      <th>GSM33092</th>\n",
       "      <th>GSM33093</th>\n",
       "      <th>GSM33094</th>\n",
       "      <th>...</th>\n",
       "      <th>GSM33113</th>\n",
       "      <th>GSM33114</th>\n",
       "      <th>GSM33115</th>\n",
       "      <th>GSM33116</th>\n",
       "      <th>GSM33117</th>\n",
       "      <th>GSM33118</th>\n",
       "      <th>GSM33119</th>\n",
       "      <th>GSM33120</th>\n",
       "      <th>GSM33121</th>\n",
       "      <th>GSM33122</th>\n",
       "    </tr>\n",
       "  </thead>\n",
       "  <tbody>\n",
       "  </tbody>\n",
       "</table>\n",
       "<p>0 rows × 38 columns</p>\n",
       "</div>"
      ],
      "text/plain": [
       "Empty DataFrame\n",
       "Columns: [!Sample_geo_accession, GSM33069, GSM33087, GSM33088, GSM33089, GSM33090, GSM33091, GSM33092, GSM33093, GSM33094, GSM33095, GSM33096, GSM33097, GSM33098, GSM33099, GSM33100, GSM33101, GSM33102, GSM33103, GSM33104, GSM33105, GSM33106, GSM33107, GSM33108, GSM33109, GSM33110, GSM33111, GSM33112, GSM33113, GSM33114, GSM33115, GSM33116, GSM33117, GSM33118, GSM33119, GSM33120, GSM33121, GSM33122]\n",
       "Index: []\n",
       "\n",
       "[0 rows x 38 columns]"
      ]
     },
     "execution_count": 14,
     "metadata": {},
     "output_type": "execute_result"
    }
   ],
   "source": [
    "clinical_data.head()"
   ]
  },
  {
   "cell_type": "code",
   "execution_count": 15,
   "metadata": {
    "ExecuteTime": {
     "end_time": "2023-12-31T21:19:35.508015426Z",
     "start_time": "2023-12-31T21:19:35.492746637Z"
    }
   },
   "outputs": [
    {
     "data": {
      "text/plain": [
       "{}"
      ]
     },
     "execution_count": 15,
     "metadata": {},
     "output_type": "execute_result"
    }
   ],
   "source": [
    "clinical_data_unique = get_unique_values_by_row(clinical_data)\n",
    "clinical_data_unique"
   ]
  },
  {
   "cell_type": "markdown",
   "metadata": {
    "ExecuteTime": {
     "end_time": "2023-12-31T03:58:04.978204446Z",
     "start_time": "2023-12-31T03:58:04.922270095Z"
    }
   },
   "source": [
    "Analyze the metadata to determine data relevance and find ways to extract the clinical data.\n",
    "Reference prompt:"
   ]
  },
  {
   "cell_type": "code",
   "execution_count": 16,
   "metadata": {
    "ExecuteTime": {
     "end_time": "2023-12-31T21:19:35.508232400Z",
     "start_time": "2023-12-31T21:19:35.492903487Z"
    }
   },
   "outputs": [
    {
     "data": {
      "text/plain": [
       "'As a biomedical research team, we are selecting datasets to study the association between the human trait \\'Congestive heart failure\\' and genetic factors, optionally considering the influence of age and gender. After searching the GEO database and parsing the matrix file of a series, we obtained background information and sample characteristics data. We will provide textual information about the dataset background, and a Python dictionary storing a list of unique values for each field of the sample characteristics data. Please carefully review the provided information and answer the following questions about this dataset:\\n1. Does this dataset contain gene expression data? (Note: Pure miRNA data is not suitable.)\\n2. For each of the traits \\'Congestive heart failure\\', \\'age\\', and \\'gender\\', please address these points:\\n   (1) Is there human data available for this trait?\\n   (2) If so, identify the key in the sample characteristics dictionary where unique values of this trait is recorded. The key is an integer. The trait information might be explicitly recorded, or can be inferred from the field with some biomedical knowledge or understanding about the data collection process.\\n   (3) Choose an appropriate data type (either \\'continuous\\' or \\'binary\\') for each trait. Write a Python function to convert any given value of the trait to this data type. The function should handle inference about the trait value and convert unknown values to None.\\n   Name the functions \\'convert_trait\\', \\'convert_age\\', and \\'convert_gender\\', respectively.\\n   NOTE: Function \"convert_trait\" should return 1 or 0.\\n   \\nBackground information about the dataset:\\n!Series_title\\t\"Ischemic and Nonischemic CM and NF Hearts\"\\n!Series_summary\\t\"Pre-LVAD and explanted ischemic and nonischemic cardiomyopathy and nonfailing hearts all normalized with RMA\"\\n!Series_summary\\t\"Keywords: other\"\\n\\nSample characteristics dictionary (from \"!Sample_characteristics_ch1\", converted to a Python dictionary that stores the unique values for each field):\\n{}\\n'"
      ]
     },
     "execution_count": 16,
     "metadata": {},
     "output_type": "execute_result"
    }
   ],
   "source": [
    "f'''As a biomedical research team, we are selecting datasets to study the association between the human trait \\'{TRAIT}\\' and genetic factors, optionally considering the influence of age and gender. After searching the GEO database and parsing the matrix file of a series, we obtained background information and sample characteristics data. We will provide textual information about the dataset background, and a Python dictionary storing a list of unique values for each field of the sample characteristics data. Please carefully review the provided information and answer the following questions about this dataset:\n",
    "1. Does this dataset contain gene expression data? (Note: Pure miRNA data is not suitable.)\n",
    "2. For each of the traits \\'{TRAIT}\\', 'age', and 'gender', please address these points:\n",
    "   (1) Is there human data available for this trait?\n",
    "   (2) If so, identify the key in the sample characteristics dictionary where unique values of this trait is recorded. The key is an integer. The trait information might be explicitly recorded, or can be inferred from the field with some biomedical knowledge or understanding about the data collection process.\n",
    "   (3) Choose an appropriate data type (either 'continuous' or 'binary') for each trait. Write a Python function to convert any given value of the trait to this data type. The function should handle inference about the trait value and convert unknown values to None.\n",
    "   Name the functions 'convert_trait', 'convert_age', and 'convert_gender', respectively.\n",
    "   NOTE: Function \"convert_trait\" should return 1 or 0.\n",
    "   \n",
    "Background information about the dataset:\n",
    "{background_info}\n",
    "\n",
    "Sample characteristics dictionary (from \"!Sample_characteristics_ch1\", converted to a Python dictionary that stores the unique values for each field):\n",
    "{clinical_data_unique}\n",
    "'''"
   ]
  },
  {
   "cell_type": "markdown",
   "metadata": {
    "ExecuteTime": {
     "end_time": "2023-12-31T03:58:04.978240504Z",
     "start_time": "2023-12-31T03:58:04.922365324Z"
    }
   },
   "source": [
    "Understand and verify the answer from GPT, to assign values to the below variables. Assign None to the 'row_id' variables if relevant data row was not found.\n",
    "Later we need to let GPT format its answer to automatically do these. But given the complexity of this step, let's grow some insight from the free-text answers for now."
   ]
  },
  {
   "cell_type": "code",
   "execution_count": 17,
   "metadata": {
    "ExecuteTime": {
     "end_time": "2023-12-31T21:19:35.508295660Z",
     "start_time": "2023-12-31T21:19:35.493015671Z"
    }
   },
   "outputs": [],
   "source": [
    "# is_gene_availabe = True\n",
    "is_gene_availabe = False\n",
    "trait_row_id = 0\n",
    "trait_type = 'binary'\n",
    "\n",
    "# age_row_id = None\n",
    "age_row_id = 1\n",
    "\n",
    "# gender_row_id = None\n",
    "gender_row_id = 2"
   ]
  },
  {
   "cell_type": "code",
   "execution_count": 18,
   "metadata": {
    "ExecuteTime": {
     "end_time": "2023-12-31T21:19:35.508365153Z",
     "start_time": "2023-12-31T21:19:35.493151450Z"
    }
   },
   "outputs": [
    {
     "name": "stdout",
     "output_type": "stream",
     "text": [
      "This cohort is not usable. Please skip the following steps and jump to the next accession number.\n"
     ]
    }
   ],
   "source": [
    "is_available = is_gene_availabe and (trait_row_id is not None)\n",
    "if not is_available:\n",
    "    save_cohort_info(cohort, JSON_PATH, is_available)\n",
    "    print(\"This cohort is not usable. Please skip the following steps and jump to the next accession number.\")"
   ]
  },
  {
   "cell_type": "code",
   "execution_count": 136,
   "metadata": {
    "ExecuteTime": {
     "end_time": "2023-12-31T21:19:35.508426069Z",
     "start_time": "2023-12-31T21:19:35.493220101Z"
    }
   },
   "outputs": [],
   "source": [
    "def convert_trait(value):\n",
    "    if value == \"Success\":\n",
    "        return 1\n",
    "    elif value == \"Failure\" or value == \"failure\":\n",
    "        return 0\n",
    "    else:\n",
    "        return None\n",
    "\n",
    "def convert_age(value):\n",
    "    try:\n",
    "        # Split the string and extract the age part\n",
    "        age_str = value.split(': ')[-1]\n",
    "        return int(age_str)  # Convert the extracted age to an integer\n",
    "    except (ValueError, TypeError, IndexError):\n",
    "        return None  # Unable to convert or unknown age\n",
    "    \n",
    "def convert_gender(value):\n",
    "    if isinstance(value, str):\n",
    "        if 'F' in value:\n",
    "            return 0  # Female\n",
    "        elif 'M' in value:\n",
    "            return 1  # Male\n",
    "    return None  # Unknown or unhandled cases\n"
   ]
  },
  {
   "cell_type": "code",
   "execution_count": 137,
   "metadata": {
    "ExecuteTime": {
     "end_time": "2023-12-31T21:19:35.508533013Z",
     "start_time": "2023-12-31T21:19:35.493272992Z"
    }
   },
   "outputs": [
    {
     "data": {
      "text/html": [
       "<div>\n",
       "<style scoped>\n",
       "    .dataframe tbody tr th:only-of-type {\n",
       "        vertical-align: middle;\n",
       "    }\n",
       "\n",
       "    .dataframe tbody tr th {\n",
       "        vertical-align: top;\n",
       "    }\n",
       "\n",
       "    .dataframe thead th {\n",
       "        text-align: right;\n",
       "    }\n",
       "</style>\n",
       "<table border=\"1\" class=\"dataframe\">\n",
       "  <thead>\n",
       "    <tr style=\"text-align: right;\">\n",
       "      <th></th>\n",
       "      <th>GSM1681981</th>\n",
       "      <th>GSM1681982</th>\n",
       "      <th>GSM1681983</th>\n",
       "      <th>GSM1681984</th>\n",
       "      <th>GSM1681985</th>\n",
       "      <th>GSM1681986</th>\n",
       "      <th>GSM1681987</th>\n",
       "      <th>GSM1681988</th>\n",
       "      <th>GSM1681989</th>\n",
       "      <th>GSM1681990</th>\n",
       "      <th>...</th>\n",
       "      <th>GSM1682093</th>\n",
       "      <th>GSM1682094</th>\n",
       "      <th>GSM1682095</th>\n",
       "      <th>GSM1682096</th>\n",
       "      <th>GSM1682097</th>\n",
       "      <th>GSM1682098</th>\n",
       "      <th>GSM1682099</th>\n",
       "      <th>GSM1682100</th>\n",
       "      <th>GSM1682101</th>\n",
       "      <th>GSM1682102</th>\n",
       "    </tr>\n",
       "  </thead>\n",
       "  <tbody>\n",
       "    <tr>\n",
       "      <th>Alopecia</th>\n",
       "      <td>1</td>\n",
       "      <td>1</td>\n",
       "      <td>1</td>\n",
       "      <td>1</td>\n",
       "      <td>1</td>\n",
       "      <td>1</td>\n",
       "      <td>1</td>\n",
       "      <td>1</td>\n",
       "      <td>1</td>\n",
       "      <td>1</td>\n",
       "      <td>...</td>\n",
       "      <td>1</td>\n",
       "      <td>1</td>\n",
       "      <td>1</td>\n",
       "      <td>1</td>\n",
       "      <td>1</td>\n",
       "      <td>1</td>\n",
       "      <td>1</td>\n",
       "      <td>1</td>\n",
       "      <td>1</td>\n",
       "      <td>1</td>\n",
       "    </tr>\n",
       "    <tr>\n",
       "      <th>Age</th>\n",
       "      <td>40</td>\n",
       "      <td>32</td>\n",
       "      <td>26</td>\n",
       "      <td>40</td>\n",
       "      <td>32</td>\n",
       "      <td>26</td>\n",
       "      <td>33</td>\n",
       "      <td>48</td>\n",
       "      <td>46</td>\n",
       "      <td>33</td>\n",
       "      <td>...</td>\n",
       "      <td>66</td>\n",
       "      <td>47</td>\n",
       "      <td>27</td>\n",
       "      <td>31</td>\n",
       "      <td>30</td>\n",
       "      <td>40</td>\n",
       "      <td>62</td>\n",
       "      <td>62</td>\n",
       "      <td>52</td>\n",
       "      <td>27</td>\n",
       "    </tr>\n",
       "    <tr>\n",
       "      <th>Gender</th>\n",
       "      <td>0</td>\n",
       "      <td>1</td>\n",
       "      <td>0</td>\n",
       "      <td>0</td>\n",
       "      <td>1</td>\n",
       "      <td>0</td>\n",
       "      <td>1</td>\n",
       "      <td>0</td>\n",
       "      <td>0</td>\n",
       "      <td>0</td>\n",
       "      <td>...</td>\n",
       "      <td>1</td>\n",
       "      <td>0</td>\n",
       "      <td>0</td>\n",
       "      <td>1</td>\n",
       "      <td>1</td>\n",
       "      <td>0</td>\n",
       "      <td>1</td>\n",
       "      <td>1</td>\n",
       "      <td>0</td>\n",
       "      <td>0</td>\n",
       "    </tr>\n",
       "  </tbody>\n",
       "</table>\n",
       "<p>3 rows × 122 columns</p>\n",
       "</div>"
      ],
      "text/plain": [
       "          GSM1681981  GSM1681982  GSM1681983  GSM1681984  GSM1681985  \\\n",
       "Alopecia           1           1           1           1           1   \n",
       "Age               40          32          26          40          32   \n",
       "Gender             0           1           0           0           1   \n",
       "\n",
       "          GSM1681986  GSM1681987  GSM1681988  GSM1681989  GSM1681990  ...  \\\n",
       "Alopecia           1           1           1           1           1  ...   \n",
       "Age               26          33          48          46          33  ...   \n",
       "Gender             0           1           0           0           0  ...   \n",
       "\n",
       "          GSM1682093  GSM1682094  GSM1682095  GSM1682096  GSM1682097  \\\n",
       "Alopecia           1           1           1           1           1   \n",
       "Age               66          47          27          31          30   \n",
       "Gender             1           0           0           1           1   \n",
       "\n",
       "          GSM1682098  GSM1682099  GSM1682100  GSM1682101  GSM1682102  \n",
       "Alopecia           1           1           1           1           1  \n",
       "Age               40          62          62          52          27  \n",
       "Gender             0           1           1           0           0  \n",
       "\n",
       "[3 rows x 122 columns]"
      ]
     },
     "execution_count": 137,
     "metadata": {},
     "output_type": "execute_result"
    }
   ],
   "source": [
    "selected_clinical_data = geo_select_clinical_features(clinical_data, TRAIT, trait_row_id, age_row_id, gender_row_id,\n",
    "                                                      convert_trait, convert_age, convert_gender)\n",
    "selected_clinical_data.head()"
   ]
  },
  {
   "cell_type": "markdown",
   "metadata": {
    "ExecuteTime": {
     "end_time": "2023-12-31T03:58:04.978664193Z",
     "start_time": "2023-12-31T03:58:04.966117261Z"
    }
   },
   "source": [
    "### Genetic data preprocessing and final filtering"
   ]
  },
  {
   "cell_type": "code",
   "execution_count": 138,
   "metadata": {
    "ExecuteTime": {
     "end_time": "2023-12-31T21:19:35.590261560Z",
     "start_time": "2023-12-31T21:19:35.493320362Z"
    }
   },
   "outputs": [
    {
     "data": {
      "text/html": [
       "<div>\n",
       "<style scoped>\n",
       "    .dataframe tbody tr th:only-of-type {\n",
       "        vertical-align: middle;\n",
       "    }\n",
       "\n",
       "    .dataframe tbody tr th {\n",
       "        vertical-align: top;\n",
       "    }\n",
       "\n",
       "    .dataframe thead th {\n",
       "        text-align: right;\n",
       "    }\n",
       "</style>\n",
       "<table border=\"1\" class=\"dataframe\">\n",
       "  <thead>\n",
       "    <tr style=\"text-align: right;\">\n",
       "      <th></th>\n",
       "      <th>ID</th>\n",
       "      <th>GSM1681981</th>\n",
       "      <th>GSM1681982</th>\n",
       "      <th>GSM1681983</th>\n",
       "      <th>GSM1681984</th>\n",
       "      <th>GSM1681985</th>\n",
       "      <th>GSM1681986</th>\n",
       "      <th>GSM1681987</th>\n",
       "      <th>GSM1681988</th>\n",
       "      <th>GSM1681989</th>\n",
       "      <th>...</th>\n",
       "      <th>GSM1682093</th>\n",
       "      <th>GSM1682094</th>\n",
       "      <th>GSM1682095</th>\n",
       "      <th>GSM1682096</th>\n",
       "      <th>GSM1682097</th>\n",
       "      <th>GSM1682098</th>\n",
       "      <th>GSM1682099</th>\n",
       "      <th>GSM1682100</th>\n",
       "      <th>GSM1682101</th>\n",
       "      <th>GSM1682102</th>\n",
       "    </tr>\n",
       "  </thead>\n",
       "  <tbody>\n",
       "    <tr>\n",
       "      <th>0</th>\n",
       "      <td>1007_s_at</td>\n",
       "      <td>11.034759</td>\n",
       "      <td>11.129486</td>\n",
       "      <td>11.054696</td>\n",
       "      <td>11.380913</td>\n",
       "      <td>11.314598</td>\n",
       "      <td>11.101716</td>\n",
       "      <td>11.456112</td>\n",
       "      <td>11.251759</td>\n",
       "      <td>10.958817</td>\n",
       "      <td>...</td>\n",
       "      <td>10.930548</td>\n",
       "      <td>10.557334</td>\n",
       "      <td>11.009576</td>\n",
       "      <td>10.435337</td>\n",
       "      <td>10.377805</td>\n",
       "      <td>10.750033</td>\n",
       "      <td>10.870944</td>\n",
       "      <td>10.605638</td>\n",
       "      <td>10.379740</td>\n",
       "      <td>10.180421</td>\n",
       "    </tr>\n",
       "    <tr>\n",
       "      <th>1</th>\n",
       "      <td>1053_at</td>\n",
       "      <td>6.339850</td>\n",
       "      <td>6.539197</td>\n",
       "      <td>5.730506</td>\n",
       "      <td>7.107466</td>\n",
       "      <td>6.753284</td>\n",
       "      <td>6.432535</td>\n",
       "      <td>7.174408</td>\n",
       "      <td>7.603721</td>\n",
       "      <td>6.518159</td>\n",
       "      <td>...</td>\n",
       "      <td>7.075175</td>\n",
       "      <td>6.936665</td>\n",
       "      <td>6.976283</td>\n",
       "      <td>6.756335</td>\n",
       "      <td>7.120046</td>\n",
       "      <td>6.901223</td>\n",
       "      <td>6.790574</td>\n",
       "      <td>7.349916</td>\n",
       "      <td>6.347056</td>\n",
       "      <td>6.887194</td>\n",
       "    </tr>\n",
       "    <tr>\n",
       "      <th>2</th>\n",
       "      <td>117_at</td>\n",
       "      <td>5.458980</td>\n",
       "      <td>4.977176</td>\n",
       "      <td>5.600031</td>\n",
       "      <td>5.233422</td>\n",
       "      <td>4.461227</td>\n",
       "      <td>5.243472</td>\n",
       "      <td>5.697347</td>\n",
       "      <td>5.867637</td>\n",
       "      <td>4.555491</td>\n",
       "      <td>...</td>\n",
       "      <td>4.276843</td>\n",
       "      <td>4.553157</td>\n",
       "      <td>3.596157</td>\n",
       "      <td>3.409489</td>\n",
       "      <td>4.332038</td>\n",
       "      <td>4.456671</td>\n",
       "      <td>4.433078</td>\n",
       "      <td>3.962280</td>\n",
       "      <td>4.938704</td>\n",
       "      <td>4.249962</td>\n",
       "    </tr>\n",
       "    <tr>\n",
       "      <th>3</th>\n",
       "      <td>121_at</td>\n",
       "      <td>3.081954</td>\n",
       "      <td>3.589516</td>\n",
       "      <td>3.034322</td>\n",
       "      <td>3.370088</td>\n",
       "      <td>3.532773</td>\n",
       "      <td>2.822403</td>\n",
       "      <td>3.569936</td>\n",
       "      <td>4.653348</td>\n",
       "      <td>3.300941</td>\n",
       "      <td>...</td>\n",
       "      <td>3.418223</td>\n",
       "      <td>2.626569</td>\n",
       "      <td>3.866218</td>\n",
       "      <td>3.681883</td>\n",
       "      <td>3.120973</td>\n",
       "      <td>2.933430</td>\n",
       "      <td>3.248256</td>\n",
       "      <td>3.918163</td>\n",
       "      <td>2.804215</td>\n",
       "      <td>3.515394</td>\n",
       "    </tr>\n",
       "    <tr>\n",
       "      <th>4</th>\n",
       "      <td>1255_g_at</td>\n",
       "      <td>1.879479</td>\n",
       "      <td>3.496012</td>\n",
       "      <td>1.710119</td>\n",
       "      <td>1.712752</td>\n",
       "      <td>2.808216</td>\n",
       "      <td>1.609584</td>\n",
       "      <td>1.639210</td>\n",
       "      <td>1.771646</td>\n",
       "      <td>1.597261</td>\n",
       "      <td>...</td>\n",
       "      <td>1.686601</td>\n",
       "      <td>1.738433</td>\n",
       "      <td>2.236400</td>\n",
       "      <td>1.868541</td>\n",
       "      <td>1.620565</td>\n",
       "      <td>1.573466</td>\n",
       "      <td>1.913568</td>\n",
       "      <td>1.966646</td>\n",
       "      <td>2.120849</td>\n",
       "      <td>1.796298</td>\n",
       "    </tr>\n",
       "  </tbody>\n",
       "</table>\n",
       "<p>5 rows × 123 columns</p>\n",
       "</div>"
      ],
      "text/plain": [
       "          ID  GSM1681981  GSM1681982  GSM1681983  GSM1681984  GSM1681985  \\\n",
       "0  1007_s_at   11.034759   11.129486   11.054696   11.380913   11.314598   \n",
       "1    1053_at    6.339850    6.539197    5.730506    7.107466    6.753284   \n",
       "2     117_at    5.458980    4.977176    5.600031    5.233422    4.461227   \n",
       "3     121_at    3.081954    3.589516    3.034322    3.370088    3.532773   \n",
       "4  1255_g_at    1.879479    3.496012    1.710119    1.712752    2.808216   \n",
       "\n",
       "   GSM1681986  GSM1681987  GSM1681988  GSM1681989  ...  GSM1682093  \\\n",
       "0   11.101716   11.456112   11.251759   10.958817  ...   10.930548   \n",
       "1    6.432535    7.174408    7.603721    6.518159  ...    7.075175   \n",
       "2    5.243472    5.697347    5.867637    4.555491  ...    4.276843   \n",
       "3    2.822403    3.569936    4.653348    3.300941  ...    3.418223   \n",
       "4    1.609584    1.639210    1.771646    1.597261  ...    1.686601   \n",
       "\n",
       "   GSM1682094  GSM1682095  GSM1682096  GSM1682097  GSM1682098  GSM1682099  \\\n",
       "0   10.557334   11.009576   10.435337   10.377805   10.750033   10.870944   \n",
       "1    6.936665    6.976283    6.756335    7.120046    6.901223    6.790574   \n",
       "2    4.553157    3.596157    3.409489    4.332038    4.456671    4.433078   \n",
       "3    2.626569    3.866218    3.681883    3.120973    2.933430    3.248256   \n",
       "4    1.738433    2.236400    1.868541    1.620565    1.573466    1.913568   \n",
       "\n",
       "   GSM1682100  GSM1682101  GSM1682102  \n",
       "0   10.605638   10.379740   10.180421  \n",
       "1    7.349916    6.347056    6.887194  \n",
       "2    3.962280    4.938704    4.249962  \n",
       "3    3.918163    2.804215    3.515394  \n",
       "4    1.966646    2.120849    1.796298  \n",
       "\n",
       "[5 rows x 123 columns]"
      ]
     },
     "execution_count": 138,
     "metadata": {},
     "output_type": "execute_result"
    }
   ],
   "source": [
    "genetic_data = get_genetic_data(matrix_file)\n",
    "genetic_data.head()"
   ]
  },
  {
   "cell_type": "code",
   "execution_count": 139,
   "metadata": {
    "ExecuteTime": {
     "end_time": "2023-12-31T21:19:35.590443507Z",
     "start_time": "2023-12-31T21:19:35.536713559Z"
    }
   },
   "outputs": [
    {
     "data": {
      "text/plain": [
       "['1007_s_at',\n",
       " '1053_at',\n",
       " '117_at',\n",
       " '121_at',\n",
       " '1255_g_at',\n",
       " '1294_at',\n",
       " '1316_at',\n",
       " '1320_at',\n",
       " '1405_i_at',\n",
       " '1431_at',\n",
       " '1438_at',\n",
       " '1487_at',\n",
       " '1494_f_at',\n",
       " '1552256_a_at',\n",
       " '1552257_a_at',\n",
       " '1552258_at',\n",
       " '1552261_at',\n",
       " '1552263_at',\n",
       " '1552264_a_at',\n",
       " '1552266_at']"
      ]
     },
     "execution_count": 139,
     "metadata": {},
     "output_type": "execute_result"
    }
   ],
   "source": [
    "gene_row_ids = genetic_data['ID'][:20].tolist()\n",
    "gene_row_ids"
   ]
  },
  {
   "cell_type": "markdown",
   "metadata": {
    "ExecuteTime": {
     "end_time": "2023-12-31T03:30:41.595335164Z",
     "start_time": "2023-12-31T03:30:41.513232329Z"
    }
   },
   "source": [
    "Check if the gene dataset requires mapping to get the gene symbols corresponding to each data row."
   ]
  },
  {
   "cell_type": "markdown",
   "metadata": {},
   "source": [
    "Reference prompt:"
   ]
  },
  {
   "cell_type": "code",
   "execution_count": 140,
   "metadata": {
    "ExecuteTime": {
     "end_time": "2023-12-31T21:19:35.590590427Z",
     "start_time": "2023-12-31T21:19:35.536780517Z"
    },
    "scrolled": true
   },
   "outputs": [
    {
     "data": {
      "text/plain": [
       "\"\\nBelow are the row headers of a gene expression dataset in GEO. Based on your biomedical knowledge, are they human gene symbols, or are they some other identifiers that need to be mapped to gene symbols? Your answer should be concluded by starting a new line and strictly following this format:\\nrequires_gene_mapping = (True or False)\\n\\nRow headers:\\n['1007_s_at', '1053_at', '117_at', '121_at', '1255_g_at', '1294_at', '1316_at', '1320_at', '1405_i_at', '1431_at', '1438_at', '1487_at', '1494_f_at', '1552256_a_at', '1552257_a_at', '1552258_at', '1552261_at', '1552263_at', '1552264_a_at', '1552266_at']\\n\""
      ]
     },
     "execution_count": 140,
     "metadata": {},
     "output_type": "execute_result"
    }
   ],
   "source": [
    "f'''\n",
    "Below are the row headers of a gene expression dataset in GEO. Based on your biomedical knowledge, are they human gene symbols, or are they some other identifiers that need to be mapped to gene symbols? Your answer should be concluded by starting a new line and strictly following this format:\n",
    "requires_gene_mapping = (True or False)\n",
    "\n",
    "Row headers:\n",
    "{gene_row_ids}\n",
    "'''"
   ]
  },
  {
   "cell_type": "markdown",
   "metadata": {},
   "source": [
    "If not required, jump directly to the gene normalization step"
   ]
  },
  {
   "cell_type": "code",
   "execution_count": 141,
   "metadata": {
    "ExecuteTime": {
     "end_time": "2023-12-31T21:19:35.590648558Z",
     "start_time": "2023-12-31T21:19:35.536821375Z"
    }
   },
   "outputs": [],
   "source": [
    "requires_gene_mapping = True"
   ]
  },
  {
   "cell_type": "code",
   "execution_count": 142,
   "metadata": {
    "ExecuteTime": {
     "end_time": "2023-12-31T21:19:35.590695457Z",
     "start_time": "2023-12-31T21:19:35.536910836Z"
    }
   },
   "outputs": [
    {
     "data": {
      "text/plain": [
       "{'ID': ['1007_s_at', '1053_at', '117_at', '121_at', '1255_g_at'],\n",
       " 'GB_ACC': ['U48705', 'M87338', 'X51757', 'X69699', 'L36861'],\n",
       " 'SPOT_ID': [nan, nan, nan, nan, nan],\n",
       " 'Species Scientific Name': ['Homo sapiens',\n",
       "  'Homo sapiens',\n",
       "  'Homo sapiens',\n",
       "  'Homo sapiens',\n",
       "  'Homo sapiens'],\n",
       " 'Annotation Date': ['Oct 6, 2014',\n",
       "  'Oct 6, 2014',\n",
       "  'Oct 6, 2014',\n",
       "  'Oct 6, 2014',\n",
       "  'Oct 6, 2014'],\n",
       " 'Sequence Type': ['Exemplar sequence',\n",
       "  'Exemplar sequence',\n",
       "  'Exemplar sequence',\n",
       "  'Exemplar sequence',\n",
       "  'Exemplar sequence'],\n",
       " 'Sequence Source': ['Affymetrix Proprietary Database',\n",
       "  'GenBank',\n",
       "  'Affymetrix Proprietary Database',\n",
       "  'GenBank',\n",
       "  'Affymetrix Proprietary Database'],\n",
       " 'Target Description': ['U48705 /FEATURE=mRNA /DEFINITION=HSU48705 Human receptor tyrosine kinase DDR gene, complete cds',\n",
       "  'M87338 /FEATURE= /DEFINITION=HUMA1SBU Human replication factor C, 40-kDa subunit (A1) mRNA, complete cds',\n",
       "  \"X51757 /FEATURE=cds /DEFINITION=HSP70B Human heat-shock protein HSP70B' gene\",\n",
       "  'X69699 /FEATURE= /DEFINITION=HSPAX8A H.sapiens Pax8 mRNA',\n",
       "  'L36861 /FEATURE=expanded_cds /DEFINITION=HUMGCAPB Homo sapiens guanylate cyclase activating protein (GCAP) gene exons 1-4, complete cds'],\n",
       " 'Representative Public ID': ['U48705',\n",
       "  'M87338',\n",
       "  'X51757',\n",
       "  'X69699',\n",
       "  'L36861'],\n",
       " 'Gene Title': ['discoidin domain receptor tyrosine kinase 1 /// microRNA 4640',\n",
       "  'replication factor C (activator 1) 2, 40kDa',\n",
       "  \"heat shock 70kDa protein 6 (HSP70B')\",\n",
       "  'paired box 8',\n",
       "  'guanylate cyclase activator 1A (retina)'],\n",
       " 'Gene Symbol': ['DDR1 /// MIR4640', 'RFC2', 'HSPA6', 'PAX8', 'GUCA1A'],\n",
       " 'ENTREZ_GENE_ID': ['780 /// 100616237', '5982', '3310', '7849', '2978'],\n",
       " 'RefSeq Transcript ID': ['NM_001202521 /// NM_001202522 /// NM_001202523 /// NM_001954 /// NM_013993 /// NM_013994 /// NR_039783 /// XM_005249385 /// XM_005249386 /// XM_005249387 /// XM_005249389 /// XM_005272873 /// XM_005272874 /// XM_005272875 /// XM_005272877 /// XM_005275027 /// XM_005275028 /// XM_005275030 /// XM_005275031 /// XM_005275162 /// XM_005275163 /// XM_005275164 /// XM_005275166 /// XM_005275457 /// XM_005275458 /// XM_005275459 /// XM_005275461 /// XM_006715185 /// XM_006715186 /// XM_006715187 /// XM_006715188 /// XM_006715189 /// XM_006715190 /// XM_006725501 /// XM_006725502 /// XM_006725503 /// XM_006725504 /// XM_006725505 /// XM_006725506 /// XM_006725714 /// XM_006725715 /// XM_006725716 /// XM_006725717 /// XM_006725718 /// XM_006725719 /// XM_006725720 /// XM_006725721 /// XM_006725722 /// XM_006725827 /// XM_006725828 /// XM_006725829 /// XM_006725830 /// XM_006725831 /// XM_006725832 /// XM_006726017 /// XM_006726018 /// XM_006726019 /// XM_006726020 /// XM_006726021 /// XM_006726022 /// XR_427836 /// XR_430858 /// XR_430938 /// XR_430974 /// XR_431015',\n",
       "  'NM_001278791 /// NM_001278792 /// NM_001278793 /// NM_002914 /// NM_181471 /// XM_006716080',\n",
       "  'NM_002155',\n",
       "  'NM_003466 /// NM_013951 /// NM_013952 /// NM_013953 /// NM_013992',\n",
       "  'NM_000409 /// XM_006715073'],\n",
       " 'Gene Ontology Biological Process': ['0001558 // regulation of cell growth // inferred from electronic annotation /// 0001952 // regulation of cell-matrix adhesion // inferred from electronic annotation /// 0006468 // protein phosphorylation // inferred from electronic annotation /// 0007155 // cell adhesion // traceable author statement /// 0007169 // transmembrane receptor protein tyrosine kinase signaling pathway // inferred from electronic annotation /// 0007565 // female pregnancy // inferred from electronic annotation /// 0007566 // embryo implantation // inferred from electronic annotation /// 0007595 // lactation // inferred from electronic annotation /// 0008285 // negative regulation of cell proliferation // inferred from electronic annotation /// 0010715 // regulation of extracellular matrix disassembly // inferred from mutant phenotype /// 0014909 // smooth muscle cell migration // inferred from mutant phenotype /// 0016310 // phosphorylation // inferred from electronic annotation /// 0018108 // peptidyl-tyrosine phosphorylation // inferred from electronic annotation /// 0030198 // extracellular matrix organization // traceable author statement /// 0038063 // collagen-activated tyrosine kinase receptor signaling pathway // inferred from direct assay /// 0038063 // collagen-activated tyrosine kinase receptor signaling pathway // inferred from mutant phenotype /// 0038083 // peptidyl-tyrosine autophosphorylation // inferred from direct assay /// 0043583 // ear development // inferred from electronic annotation /// 0044319 // wound healing, spreading of cells // inferred from mutant phenotype /// 0046777 // protein autophosphorylation // inferred from direct assay /// 0060444 // branching involved in mammary gland duct morphogenesis // inferred from electronic annotation /// 0060749 // mammary gland alveolus development // inferred from electronic annotation /// 0061302 // smooth muscle cell-matrix adhesion // inferred from mutant phenotype',\n",
       "  '0000278 // mitotic cell cycle // traceable author statement /// 0000722 // telomere maintenance via recombination // traceable author statement /// 0000723 // telomere maintenance // traceable author statement /// 0006260 // DNA replication // traceable author statement /// 0006271 // DNA strand elongation involved in DNA replication // traceable author statement /// 0006281 // DNA repair // traceable author statement /// 0006283 // transcription-coupled nucleotide-excision repair // traceable author statement /// 0006289 // nucleotide-excision repair // traceable author statement /// 0006297 // nucleotide-excision repair, DNA gap filling // traceable author statement /// 0015979 // photosynthesis // inferred from electronic annotation /// 0015995 // chlorophyll biosynthetic process // inferred from electronic annotation /// 0032201 // telomere maintenance via semi-conservative replication // traceable author statement',\n",
       "  '0000902 // cell morphogenesis // inferred from electronic annotation /// 0006200 // ATP catabolic process // inferred from direct assay /// 0006950 // response to stress // inferred from electronic annotation /// 0006986 // response to unfolded protein // traceable author statement /// 0034605 // cellular response to heat // inferred from direct assay /// 0042026 // protein refolding // inferred from direct assay /// 0070370 // cellular heat acclimation // inferred from mutant phenotype',\n",
       "  '0001655 // urogenital system development // inferred from sequence or structural similarity /// 0001656 // metanephros development // inferred from electronic annotation /// 0001658 // branching involved in ureteric bud morphogenesis // inferred from expression pattern /// 0001822 // kidney development // inferred from expression pattern /// 0001823 // mesonephros development // inferred from sequence or structural similarity /// 0003337 // mesenchymal to epithelial transition involved in metanephros morphogenesis // inferred from expression pattern /// 0006351 // transcription, DNA-templated // inferred from direct assay /// 0006355 // regulation of transcription, DNA-templated // inferred from electronic annotation /// 0007275 // multicellular organismal development // inferred from electronic annotation /// 0007417 // central nervous system development // inferred from expression pattern /// 0009653 // anatomical structure morphogenesis // traceable author statement /// 0030154 // cell differentiation // inferred from electronic annotation /// 0030878 // thyroid gland development // inferred from expression pattern /// 0030878 // thyroid gland development // inferred from mutant phenotype /// 0038194 // thyroid-stimulating hormone signaling pathway // traceable author statement /// 0039003 // pronephric field specification // inferred from sequence or structural similarity /// 0042472 // inner ear morphogenesis // inferred from sequence or structural similarity /// 0042981 // regulation of apoptotic process // inferred from sequence or structural similarity /// 0045893 // positive regulation of transcription, DNA-templated // inferred from direct assay /// 0045893 // positive regulation of transcription, DNA-templated // inferred from sequence or structural similarity /// 0045944 // positive regulation of transcription from RNA polymerase II promoter // inferred from direct assay /// 0048793 // pronephros development // inferred from sequence or structural similarity /// 0071371 // cellular response to gonadotropin stimulus // inferred from direct assay /// 0071599 // otic vesicle development // inferred from expression pattern /// 0072050 // S-shaped body morphogenesis // inferred from electronic annotation /// 0072073 // kidney epithelium development // inferred from electronic annotation /// 0072108 // positive regulation of mesenchymal to epithelial transition involved in metanephros morphogenesis // inferred from sequence or structural similarity /// 0072164 // mesonephric tubule development // inferred from electronic annotation /// 0072207 // metanephric epithelium development // inferred from expression pattern /// 0072221 // metanephric distal convoluted tubule development // inferred from sequence or structural similarity /// 0072278 // metanephric comma-shaped body morphogenesis // inferred from expression pattern /// 0072284 // metanephric S-shaped body morphogenesis // inferred from expression pattern /// 0072289 // metanephric nephron tubule formation // inferred from sequence or structural similarity /// 0072305 // negative regulation of mesenchymal cell apoptotic process involved in metanephric nephron morphogenesis // inferred from sequence or structural similarity /// 0072307 // regulation of metanephric nephron tubule epithelial cell differentiation // inferred from sequence or structural similarity /// 0090190 // positive regulation of branching involved in ureteric bud morphogenesis // inferred from sequence or structural similarity /// 1900212 // negative regulation of mesenchymal cell apoptotic process involved in metanephros development // inferred from sequence or structural similarity /// 1900215 // negative regulation of apoptotic process involved in metanephric collecting duct development // inferred from sequence or structural similarity /// 1900218 // negative regulation of apoptotic process involved in metanephric nephron tubule development // inferred from sequence or structural similarity /// 2000594 // positive regulation of metanephric DCT cell differentiation // inferred from sequence or structural similarity /// 2000611 // positive regulation of thyroid hormone generation // inferred from mutant phenotype /// 2000612 // regulation of thyroid-stimulating hormone secretion // inferred from mutant phenotype',\n",
       "  '0007165 // signal transduction // non-traceable author statement /// 0007601 // visual perception // inferred from electronic annotation /// 0007602 // phototransduction // inferred from electronic annotation /// 0007603 // phototransduction, visible light // traceable author statement /// 0016056 // rhodopsin mediated signaling pathway // traceable author statement /// 0022400 // regulation of rhodopsin mediated signaling pathway // traceable author statement /// 0030828 // positive regulation of cGMP biosynthetic process // inferred from electronic annotation /// 0031282 // regulation of guanylate cyclase activity // inferred from electronic annotation /// 0031284 // positive regulation of guanylate cyclase activity // inferred from electronic annotation /// 0050896 // response to stimulus // inferred from electronic annotation'],\n",
       " 'Gene Ontology Cellular Component': ['0005576 // extracellular region // inferred from electronic annotation /// 0005615 // extracellular space // inferred from direct assay /// 0005886 // plasma membrane // traceable author statement /// 0005887 // integral component of plasma membrane // traceable author statement /// 0016020 // membrane // inferred from electronic annotation /// 0016021 // integral component of membrane // inferred from electronic annotation /// 0043235 // receptor complex // inferred from direct assay /// 0070062 // extracellular vesicular exosome // inferred from direct assay',\n",
       "  '0005634 // nucleus // inferred from electronic annotation /// 0005654 // nucleoplasm // traceable author statement /// 0005663 // DNA replication factor C complex // inferred from direct assay',\n",
       "  '0005737 // cytoplasm // inferred from direct assay /// 0005814 // centriole // inferred from direct assay /// 0005829 // cytosol // inferred from direct assay /// 0008180 // COP9 signalosome // inferred from direct assay /// 0070062 // extracellular vesicular exosome // inferred from direct assay /// 0072562 // blood microparticle // inferred from direct assay',\n",
       "  '0005634 // nucleus // inferred from direct assay /// 0005654 // nucleoplasm // inferred from sequence or structural similarity /// 0005730 // nucleolus // inferred from direct assay',\n",
       "  '0001750 // photoreceptor outer segment // inferred from electronic annotation /// 0001917 // photoreceptor inner segment // inferred from electronic annotation /// 0005578 // proteinaceous extracellular matrix // inferred from electronic annotation /// 0005886 // plasma membrane // inferred from direct assay /// 0016020 // membrane // inferred from electronic annotation /// 0097381 // photoreceptor disc membrane // traceable author statement'],\n",
       " 'Gene Ontology Molecular Function': ['0000166 // nucleotide binding // inferred from electronic annotation /// 0004672 // protein kinase activity // inferred from electronic annotation /// 0004713 // protein tyrosine kinase activity // inferred from electronic annotation /// 0004714 // transmembrane receptor protein tyrosine kinase activity // traceable author statement /// 0005515 // protein binding // inferred from physical interaction /// 0005518 // collagen binding // inferred from direct assay /// 0005518 // collagen binding // inferred from mutant phenotype /// 0005524 // ATP binding // inferred from electronic annotation /// 0016301 // kinase activity // inferred from electronic annotation /// 0016740 // transferase activity // inferred from electronic annotation /// 0016772 // transferase activity, transferring phosphorus-containing groups // inferred from electronic annotation /// 0038062 // protein tyrosine kinase collagen receptor activity // inferred from direct assay /// 0046872 // metal ion binding // inferred from electronic annotation',\n",
       "  '0000166 // nucleotide binding // inferred from electronic annotation /// 0003677 // DNA binding // inferred from electronic annotation /// 0005515 // protein binding // inferred from physical interaction /// 0005524 // ATP binding // inferred from electronic annotation /// 0016851 // magnesium chelatase activity // inferred from electronic annotation /// 0017111 // nucleoside-triphosphatase activity // inferred from electronic annotation',\n",
       "  '0000166 // nucleotide binding // inferred from electronic annotation /// 0005524 // ATP binding // inferred from electronic annotation /// 0019899 // enzyme binding // inferred from physical interaction /// 0031072 // heat shock protein binding // inferred from physical interaction /// 0042623 // ATPase activity, coupled // inferred from direct assay /// 0051082 // unfolded protein binding // inferred from direct assay',\n",
       "  '0000979 // RNA polymerase II core promoter sequence-specific DNA binding // inferred from direct assay /// 0003677 // DNA binding // inferred from direct assay /// 0003677 // DNA binding // inferred from mutant phenotype /// 0003700 // sequence-specific DNA binding transcription factor activity // inferred from direct assay /// 0004996 // thyroid-stimulating hormone receptor activity // traceable author statement /// 0005515 // protein binding // inferred from physical interaction /// 0044212 // transcription regulatory region DNA binding // inferred from direct assay',\n",
       "  '0005509 // calcium ion binding // inferred from electronic annotation /// 0008048 // calcium sensitive guanylate cyclase activator activity // inferred from electronic annotation /// 0030249 // guanylate cyclase regulator activity // inferred from electronic annotation /// 0046872 // metal ion binding // inferred from electronic annotation']}"
      ]
     },
     "execution_count": 142,
     "metadata": {},
     "output_type": "execute_result"
    }
   ],
   "source": [
    "if requires_gene_mapping:\n",
    "    gene_annotation = get_gene_annotation(soft_file)[0]\n",
    "    gene_annotation_summary = preview_df(gene_annotation)\n",
    "gene_annotation_summary"
   ]
  },
  {
   "cell_type": "markdown",
   "metadata": {
    "ExecuteTime": {
     "end_time": "2023-12-31T03:58:04.978931927Z",
     "start_time": "2023-12-31T03:58:04.966328339Z"
    }
   },
   "source": [
    "Observe the first few cells in the ID column of the gene annotation dataframe, to find the names of columns that store the gene probe IDs and gene symbols respectively.\n",
    "Reference prompt:"
   ]
  },
  {
   "cell_type": "code",
   "execution_count": 143,
   "metadata": {
    "ExecuteTime": {
     "end_time": "2023-12-31T21:19:35.590742236Z",
     "start_time": "2023-12-31T21:19:35.537050893Z"
    }
   },
   "outputs": [
    {
     "data": {
      "text/plain": [
       "'\\nAs a biomedical research team, we extracted the gene annotation data from a series in the GEO database, and saved it to a Python dictionary. Please read the dictionary, and decide which key stores the ID of the probe, and which key stores the gene symbols. Please strict follow this format in your answer:\\nprobe_id_key = key_name1\\ngene_symb_key = key_name2\\n\\nGene annotation dictionary:\\n{\\'ID\\': [\\'1007_s_at\\', \\'1053_at\\', \\'117_at\\', \\'121_at\\', \\'1255_g_at\\'], \\'GB_ACC\\': [\\'U48705\\', \\'M87338\\', \\'X51757\\', \\'X69699\\', \\'L36861\\'], \\'SPOT_ID\\': [nan, nan, nan, nan, nan], \\'Species Scientific Name\\': [\\'Homo sapiens\\', \\'Homo sapiens\\', \\'Homo sapiens\\', \\'Homo sapiens\\', \\'Homo sapiens\\'], \\'Annotation Date\\': [\\'Oct 6, 2014\\', \\'Oct 6, 2014\\', \\'Oct 6, 2014\\', \\'Oct 6, 2014\\', \\'Oct 6, 2014\\'], \\'Sequence Type\\': [\\'Exemplar sequence\\', \\'Exemplar sequence\\', \\'Exemplar sequence\\', \\'Exemplar sequence\\', \\'Exemplar sequence\\'], \\'Sequence Source\\': [\\'Affymetrix Proprietary Database\\', \\'GenBank\\', \\'Affymetrix Proprietary Database\\', \\'GenBank\\', \\'Affymetrix Proprietary Database\\'], \\'Target Description\\': [\\'U48705 /FEATURE=mRNA /DEFINITION=HSU48705 Human receptor tyrosine kinase DDR gene, complete cds\\', \\'M87338 /FEATURE= /DEFINITION=HUMA1SBU Human replication factor C, 40-kDa subunit (A1) mRNA, complete cds\\', \"X51757 /FEATURE=cds /DEFINITION=HSP70B Human heat-shock protein HSP70B\\' gene\", \\'X69699 /FEATURE= /DEFINITION=HSPAX8A H.sapiens Pax8 mRNA\\', \\'L36861 /FEATURE=expanded_cds /DEFINITION=HUMGCAPB Homo sapiens guanylate cyclase activating protein (GCAP) gene exons 1-4, complete cds\\'], \\'Representative Public ID\\': [\\'U48705\\', \\'M87338\\', \\'X51757\\', \\'X69699\\', \\'L36861\\'], \\'Gene Title\\': [\\'discoidin domain receptor tyrosine kinase 1 /// microRNA 4640\\', \\'replication factor C (activator 1) 2, 40kDa\\', \"heat shock 70kDa protein 6 (HSP70B\\')\", \\'paired box 8\\', \\'guanylate cyclase activator 1A (retina)\\'], \\'Gene Symbol\\': [\\'DDR1 /// MIR4640\\', \\'RFC2\\', \\'HSPA6\\', \\'PAX8\\', \\'GUCA1A\\'], \\'ENTREZ_GENE_ID\\': [\\'780 /// 100616237\\', \\'5982\\', \\'3310\\', \\'7849\\', \\'2978\\'], \\'RefSeq Transcript ID\\': [\\'NM_001202521 /// NM_001202522 /// NM_001202523 /// NM_001954 /// NM_013993 /// NM_013994 /// NR_039783 /// XM_005249385 /// XM_005249386 /// XM_005249387 /// XM_005249389 /// XM_005272873 /// XM_005272874 /// XM_005272875 /// XM_005272877 /// XM_005275027 /// XM_005275028 /// XM_005275030 /// XM_005275031 /// XM_005275162 /// XM_005275163 /// XM_005275164 /// XM_005275166 /// XM_005275457 /// XM_005275458 /// XM_005275459 /// XM_005275461 /// XM_006715185 /// XM_006715186 /// XM_006715187 /// XM_006715188 /// XM_006715189 /// XM_006715190 /// XM_006725501 /// XM_006725502 /// XM_006725503 /// XM_006725504 /// XM_006725505 /// XM_006725506 /// XM_006725714 /// XM_006725715 /// XM_006725716 /// XM_006725717 /// XM_006725718 /// XM_006725719 /// XM_006725720 /// XM_006725721 /// XM_006725722 /// XM_006725827 /// XM_006725828 /// XM_006725829 /// XM_006725830 /// XM_006725831 /// XM_006725832 /// XM_006726017 /// XM_006726018 /// XM_006726019 /// XM_006726020 /// XM_006726021 /// XM_006726022 /// XR_427836 /// XR_430858 /// XR_430938 /// XR_430974 /// XR_431015\\', \\'NM_001278791 /// NM_001278792 /// NM_001278793 /// NM_002914 /// NM_181471 /// XM_006716080\\', \\'NM_002155\\', \\'NM_003466 /// NM_013951 /// NM_013952 /// NM_013953 /// NM_013992\\', \\'NM_000409 /// XM_006715073\\'], \\'Gene Ontology Biological Process\\': [\\'0001558 // regulation of cell growth // inferred from electronic annotation /// 0001952 // regulation of cell-matrix adhesion // inferred from electronic annotation /// 0006468 // protein phosphorylation // inferred from electronic annotation /// 0007155 // cell adhesion // traceable author statement /// 0007169 // transmembrane receptor protein tyrosine kinase signaling pathway // inferred from electronic annotation /// 0007565 // female pregnancy // inferred from electronic annotation /// 0007566 // embryo implantation // inferred from electronic annotation /// 0007595 // lactation // inferred from electronic annotation /// 0008285 // negative regulation of cell proliferation // inferred from electronic annotation /// 0010715 // regulation of extracellular matrix disassembly // inferred from mutant phenotype /// 0014909 // smooth muscle cell migration // inferred from mutant phenotype /// 0016310 // phosphorylation // inferred from electronic annotation /// 0018108 // peptidyl-tyrosine phosphorylation // inferred from electronic annotation /// 0030198 // extracellular matrix organization // traceable author statement /// 0038063 // collagen-activated tyrosine kinase receptor signaling pathway // inferred from direct assay /// 0038063 // collagen-activated tyrosine kinase receptor signaling pathway // inferred from mutant phenotype /// 0038083 // peptidyl-tyrosine autophosphorylation // inferred from direct assay /// 0043583 // ear development // inferred from electronic annotation /// 0044319 // wound healing, spreading of cells // inferred from mutant phenotype /// 0046777 // protein autophosphorylation // inferred from direct assay /// 0060444 // branching involved in mammary gland duct morphogenesis // inferred from electronic annotation /// 0060749 // mammary gland alveolus development // inferred from electronic annotation /// 0061302 // smooth muscle cell-matrix adhesion // inferred from mutant phenotype\\', \\'0000278 // mitotic cell cycle // traceable author statement /// 0000722 // telomere maintenance via recombination // traceable author statement /// 0000723 // telomere maintenance // traceable author statement /// 0006260 // DNA replication // traceable author statement /// 0006271 // DNA strand elongation involved in DNA replication // traceable author statement /// 0006281 // DNA repair // traceable author statement /// 0006283 // transcription-coupled nucleotide-excision repair // traceable author statement /// 0006289 // nucleotide-excision repair // traceable author statement /// 0006297 // nucleotide-excision repair, DNA gap filling // traceable author statement /// 0015979 // photosynthesis // inferred from electronic annotation /// 0015995 // chlorophyll biosynthetic process // inferred from electronic annotation /// 0032201 // telomere maintenance via semi-conservative replication // traceable author statement\\', \\'0000902 // cell morphogenesis // inferred from electronic annotation /// 0006200 // ATP catabolic process // inferred from direct assay /// 0006950 // response to stress // inferred from electronic annotation /// 0006986 // response to unfolded protein // traceable author statement /// 0034605 // cellular response to heat // inferred from direct assay /// 0042026 // protein refolding // inferred from direct assay /// 0070370 // cellular heat acclimation // inferred from mutant phenotype\\', \\'0001655 // urogenital system development // inferred from sequence or structural similarity /// 0001656 // metanephros development // inferred from electronic annotation /// 0001658 // branching involved in ureteric bud morphogenesis // inferred from expression pattern /// 0001822 // kidney development // inferred from expression pattern /// 0001823 // mesonephros development // inferred from sequence or structural similarity /// 0003337 // mesenchymal to epithelial transition involved in metanephros morphogenesis // inferred from expression pattern /// 0006351 // transcription, DNA-templated // inferred from direct assay /// 0006355 // regulation of transcription, DNA-templated // inferred from electronic annotation /// 0007275 // multicellular organismal development // inferred from electronic annotation /// 0007417 // central nervous system development // inferred from expression pattern /// 0009653 // anatomical structure morphogenesis // traceable author statement /// 0030154 // cell differentiation // inferred from electronic annotation /// 0030878 // thyroid gland development // inferred from expression pattern /// 0030878 // thyroid gland development // inferred from mutant phenotype /// 0038194 // thyroid-stimulating hormone signaling pathway // traceable author statement /// 0039003 // pronephric field specification // inferred from sequence or structural similarity /// 0042472 // inner ear morphogenesis // inferred from sequence or structural similarity /// 0042981 // regulation of apoptotic process // inferred from sequence or structural similarity /// 0045893 // positive regulation of transcription, DNA-templated // inferred from direct assay /// 0045893 // positive regulation of transcription, DNA-templated // inferred from sequence or structural similarity /// 0045944 // positive regulation of transcription from RNA polymerase II promoter // inferred from direct assay /// 0048793 // pronephros development // inferred from sequence or structural similarity /// 0071371 // cellular response to gonadotropin stimulus // inferred from direct assay /// 0071599 // otic vesicle development // inferred from expression pattern /// 0072050 // S-shaped body morphogenesis // inferred from electronic annotation /// 0072073 // kidney epithelium development // inferred from electronic annotation /// 0072108 // positive regulation of mesenchymal to epithelial transition involved in metanephros morphogenesis // inferred from sequence or structural similarity /// 0072164 // mesonephric tubule development // inferred from electronic annotation /// 0072207 // metanephric epithelium development // inferred from expression pattern /// 0072221 // metanephric distal convoluted tubule development // inferred from sequence or structural similarity /// 0072278 // metanephric comma-shaped body morphogenesis // inferred from expression pattern /// 0072284 // metanephric S-shaped body morphogenesis // inferred from expression pattern /// 0072289 // metanephric nephron tubule formation // inferred from sequence or structural similarity /// 0072305 // negative regulation of mesenchymal cell apoptotic process involved in metanephric nephron morphogenesis // inferred from sequence or structural similarity /// 0072307 // regulation of metanephric nephron tubule epithelial cell differentiation // inferred from sequence or structural similarity /// 0090190 // positive regulation of branching involved in ureteric bud morphogenesis // inferred from sequence or structural similarity /// 1900212 // negative regulation of mesenchymal cell apoptotic process involved in metanephros development // inferred from sequence or structural similarity /// 1900215 // negative regulation of apoptotic process involved in metanephric collecting duct development // inferred from sequence or structural similarity /// 1900218 // negative regulation of apoptotic process involved in metanephric nephron tubule development // inferred from sequence or structural similarity /// 2000594 // positive regulation of metanephric DCT cell differentiation // inferred from sequence or structural similarity /// 2000611 // positive regulation of thyroid hormone generation // inferred from mutant phenotype /// 2000612 // regulation of thyroid-stimulating hormone secretion // inferred from mutant phenotype\\', \\'0007165 // signal transduction // non-traceable author statement /// 0007601 // visual perception // inferred from electronic annotation /// 0007602 // phototransduction // inferred from electronic annotation /// 0007603 // phototransduction, visible light // traceable author statement /// 0016056 // rhodopsin mediated signaling pathway // traceable author statement /// 0022400 // regulation of rhodopsin mediated signaling pathway // traceable author statement /// 0030828 // positive regulation of cGMP biosynthetic process // inferred from electronic annotation /// 0031282 // regulation of guanylate cyclase activity // inferred from electronic annotation /// 0031284 // positive regulation of guanylate cyclase activity // inferred from electronic annotation /// 0050896 // response to stimulus // inferred from electronic annotation\\'], \\'Gene Ontology Cellular Component\\': [\\'0005576 // extracellular region // inferred from electronic annotation /// 0005615 // extracellular space // inferred from direct assay /// 0005886 // plasma membrane // traceable author statement /// 0005887 // integral component of plasma membrane // traceable author statement /// 0016020 // membrane // inferred from electronic annotation /// 0016021 // integral component of membrane // inferred from electronic annotation /// 0043235 // receptor complex // inferred from direct assay /// 0070062 // extracellular vesicular exosome // inferred from direct assay\\', \\'0005634 // nucleus // inferred from electronic annotation /// 0005654 // nucleoplasm // traceable author statement /// 0005663 // DNA replication factor C complex // inferred from direct assay\\', \\'0005737 // cytoplasm // inferred from direct assay /// 0005814 // centriole // inferred from direct assay /// 0005829 // cytosol // inferred from direct assay /// 0008180 // COP9 signalosome // inferred from direct assay /// 0070062 // extracellular vesicular exosome // inferred from direct assay /// 0072562 // blood microparticle // inferred from direct assay\\', \\'0005634 // nucleus // inferred from direct assay /// 0005654 // nucleoplasm // inferred from sequence or structural similarity /// 0005730 // nucleolus // inferred from direct assay\\', \\'0001750 // photoreceptor outer segment // inferred from electronic annotation /// 0001917 // photoreceptor inner segment // inferred from electronic annotation /// 0005578 // proteinaceous extracellular matrix // inferred from electronic annotation /// 0005886 // plasma membrane // inferred from direct assay /// 0016020 // membrane // inferred from electronic annotation /// 0097381 // photoreceptor disc membrane // traceable author statement\\'], \\'Gene Ontology Molecular Function\\': [\\'0000166 // nucleotide binding // inferred from electronic annotation /// 0004672 // protein kinase activity // inferred from electronic annotation /// 0004713 // protein tyrosine kinase activity // inferred from electronic annotation /// 0004714 // transmembrane receptor protein tyrosine kinase activity // traceable author statement /// 0005515 // protein binding // inferred from physical interaction /// 0005518 // collagen binding // inferred from direct assay /// 0005518 // collagen binding // inferred from mutant phenotype /// 0005524 // ATP binding // inferred from electronic annotation /// 0016301 // kinase activity // inferred from electronic annotation /// 0016740 // transferase activity // inferred from electronic annotation /// 0016772 // transferase activity, transferring phosphorus-containing groups // inferred from electronic annotation /// 0038062 // protein tyrosine kinase collagen receptor activity // inferred from direct assay /// 0046872 // metal ion binding // inferred from electronic annotation\\', \\'0000166 // nucleotide binding // inferred from electronic annotation /// 0003677 // DNA binding // inferred from electronic annotation /// 0005515 // protein binding // inferred from physical interaction /// 0005524 // ATP binding // inferred from electronic annotation /// 0016851 // magnesium chelatase activity // inferred from electronic annotation /// 0017111 // nucleoside-triphosphatase activity // inferred from electronic annotation\\', \\'0000166 // nucleotide binding // inferred from electronic annotation /// 0005524 // ATP binding // inferred from electronic annotation /// 0019899 // enzyme binding // inferred from physical interaction /// 0031072 // heat shock protein binding // inferred from physical interaction /// 0042623 // ATPase activity, coupled // inferred from direct assay /// 0051082 // unfolded protein binding // inferred from direct assay\\', \\'0000979 // RNA polymerase II core promoter sequence-specific DNA binding // inferred from direct assay /// 0003677 // DNA binding // inferred from direct assay /// 0003677 // DNA binding // inferred from mutant phenotype /// 0003700 // sequence-specific DNA binding transcription factor activity // inferred from direct assay /// 0004996 // thyroid-stimulating hormone receptor activity // traceable author statement /// 0005515 // protein binding // inferred from physical interaction /// 0044212 // transcription regulatory region DNA binding // inferred from direct assay\\', \\'0005509 // calcium ion binding // inferred from electronic annotation /// 0008048 // calcium sensitive guanylate cyclase activator activity // inferred from electronic annotation /// 0030249 // guanylate cyclase regulator activity // inferred from electronic annotation /// 0046872 // metal ion binding // inferred from electronic annotation\\']}\\n'"
      ]
     },
     "execution_count": 143,
     "metadata": {},
     "output_type": "execute_result"
    }
   ],
   "source": [
    "# if requires_gene_mapping:\n",
    "f'''\n",
    "As a biomedical research team, we extracted the gene annotation data from a series in the GEO database, and saved it to a Python dictionary. Please read the dictionary, and decide which key stores the ID of the probe, and which key stores the gene symbols. Please strict follow this format in your answer:\n",
    "probe_id_key = key_name1\n",
    "gene_symb_key = key_name2\n",
    "\n",
    "Gene annotation dictionary:\n",
    "{gene_annotation_summary}\n",
    "'''"
   ]
  },
  {
   "cell_type": "code",
   "execution_count": 144,
   "metadata": {
    "ExecuteTime": {
     "end_time": "2023-12-31T21:19:35.590786881Z",
     "start_time": "2023-12-31T21:19:35.537132859Z"
    }
   },
   "outputs": [],
   "source": [
    "if requires_gene_mapping:\n",
    "    probe_id_key = 'ID'\n",
    "    gene_symb_key = 'Gene Symbol'\n",
    "    gene_mapping = get_gene_mapping(gene_annotation, probe_id_key, gene_symb_key)\n",
    "    genetic_data = apply_gene_mapping(genetic_data, gene_mapping)"
   ]
  },
  {
   "cell_type": "code",
   "execution_count": 145,
   "metadata": {
    "ExecuteTime": {
     "end_time": "2023-12-31T21:19:35.590837318Z",
     "start_time": "2023-12-31T21:19:35.537209586Z"
    }
   },
   "outputs": [],
   "source": [
    "if NORMALIZE_GENE:\n",
    "    genetic_data = normalize_gene_symbols_in_index(genetic_data)"
   ]
  },
  {
   "cell_type": "code",
   "execution_count": 146,
   "metadata": {
    "ExecuteTime": {
     "end_time": "2023-12-31T21:19:35.590902191Z",
     "start_time": "2023-12-31T21:19:35.537285901Z"
    }
   },
   "outputs": [],
   "source": [
    "merged_data = geo_merge_clinical_genetic_data(selected_clinical_data, genetic_data)\n",
    "# The preprocessing runs through, which means is_available should be True\n",
    "is_available = True"
   ]
  },
  {
   "cell_type": "code",
   "execution_count": 147,
   "metadata": {
    "ExecuteTime": {
     "end_time": "2023-12-31T21:19:35.591095170Z",
     "start_time": "2023-12-31T21:19:35.538708445Z"
    }
   },
   "outputs": [
    {
     "name": "stdout",
     "output_type": "stream",
     "text": [
      "The merged dataset contains 122 samples.\n"
     ]
    }
   ],
   "source": [
    "print(f\"The merged dataset contains {len(merged_data)} samples.\")"
   ]
  },
  {
   "cell_type": "code",
   "execution_count": 148,
   "metadata": {
    "ExecuteTime": {
     "end_time": "2023-12-31T21:19:35.610849182Z",
     "start_time": "2023-12-31T21:19:35.541210258Z"
    }
   },
   "outputs": [
    {
     "name": "stdout",
     "output_type": "stream",
     "text": [
      "For the feature 'Alopecia', the least common label is '1.0' with 122 occurrences. This represents 100.00% of the dataset.\n",
      "The distribution of the feature 'Alopecia' in this dataset is severely biased.\n",
      "\n",
      "Quartiles for 'Age':\n",
      "  25%: 29.0\n",
      "  50% (Median): 37.5\n",
      "  75%: 48.0\n",
      "Min: 16.0\n",
      "Max: 67.0\n",
      "The distribution of the feature 'Age' in this dataset is fine.\n",
      "\n",
      "For the feature 'Gender', the least common label is '1.0' with 40 occurrences. This represents 32.79% of the dataset.\n",
      "The distribution of the feature 'Gender' in this dataset is fine.\n",
      "\n"
     ]
    },
    {
     "data": {
      "text/plain": [
       "True"
      ]
     },
     "execution_count": 148,
     "metadata": {},
     "output_type": "execute_result"
    }
   ],
   "source": [
    "is_trait_biased, merged_data = judge_and_remove_biased_features(merged_data, TRAIT, trait_type=trait_type)\n",
    "is_trait_biased"
   ]
  },
  {
   "cell_type": "code",
   "execution_count": 149,
   "metadata": {
    "ExecuteTime": {
     "end_time": "2023-12-31T21:19:35.610923234Z",
     "start_time": "2023-12-31T21:19:35.584848473Z"
    }
   },
   "outputs": [],
   "source": [
    "save_cohort_info(cohort, JSON_PATH, is_available, is_trait_biased, merged_data)"
   ]
  },
  {
   "cell_type": "code",
   "execution_count": 150,
   "metadata": {
    "ExecuteTime": {
     "end_time": "2023-12-31T21:19:35.610970734Z",
     "start_time": "2023-12-31T21:19:35.585042694Z"
    }
   },
   "outputs": [],
   "source": [
    "merged_data.head()\n",
    "if not is_trait_biased:\n",
    "    merged_data.to_csv(os.path.join(OUTPUT_DIR, cohort+'.csv'), index=False)"
   ]
  },
  {
   "cell_type": "markdown",
   "metadata": {
    "ExecuteTime": {
     "end_time": "2023-12-31T03:58:22.271683755Z",
     "start_time": "2023-12-31T03:58:22.246557674Z"
    },
    "id": "-MTPhRGxJV7I"
   },
   "source": [
    "### 3. Do regression & Cross Validation"
   ]
  },
  {
   "cell_type": "code",
   "execution_count": 153,
   "metadata": {
    "ExecuteTime": {
     "end_time": "2023-12-31T21:19:44.459442087Z",
     "start_time": "2023-12-31T21:19:44.416219648Z"
    }
   },
   "outputs": [],
   "source": [
    "best_cohort, ranked_df = filter_and_rank_cohorts(JSON_PATH, 'has_age')\n",
    "best_cohort"
   ]
  },
  {
   "cell_type": "code",
   "execution_count": 154,
   "metadata": {
    "ExecuteTime": {
     "end_time": "2023-12-31T21:19:44.808945960Z",
     "start_time": "2023-12-31T21:19:44.799467072Z"
    }
   },
   "outputs": [
    {
     "data": {
      "text/html": [
       "<div>\n",
       "<style scoped>\n",
       "    .dataframe tbody tr th:only-of-type {\n",
       "        vertical-align: middle;\n",
       "    }\n",
       "\n",
       "    .dataframe tbody tr th {\n",
       "        vertical-align: top;\n",
       "    }\n",
       "\n",
       "    .dataframe thead th {\n",
       "        text-align: right;\n",
       "    }\n",
       "</style>\n",
       "<table border=\"1\" class=\"dataframe\">\n",
       "  <thead>\n",
       "    <tr style=\"text-align: right;\">\n",
       "      <th></th>\n",
       "      <th>cohort_id</th>\n",
       "      <th>is_usable</th>\n",
       "      <th>is_available</th>\n",
       "      <th>is_biased</th>\n",
       "      <th>has_age</th>\n",
       "      <th>has_gender</th>\n",
       "      <th>sample_size</th>\n",
       "      <th>note</th>\n",
       "    </tr>\n",
       "  </thead>\n",
       "  <tbody>\n",
       "  </tbody>\n",
       "</table>\n",
       "</div>"
      ],
      "text/plain": [
       "Empty DataFrame\n",
       "Columns: [cohort_id, is_usable, is_available, is_biased, has_age, has_gender, sample_size, note]\n",
       "Index: []"
      ]
     },
     "execution_count": 154,
     "metadata": {},
     "output_type": "execute_result"
    }
   ],
   "source": [
    "ranked_df.head()"
   ]
  },
  {
   "cell_type": "code",
   "execution_count": 155,
   "metadata": {
    "ExecuteTime": {
     "end_time": "2023-12-31T21:19:52.222719978Z",
     "start_time": "2023-12-31T21:19:45.162873006Z"
    }
   },
   "outputs": [
    {
     "ename": "TypeError",
     "evalue": "unsupported operand type(s) for +: 'NoneType' and 'str'",
     "output_type": "error",
     "traceback": [
      "\u001b[0;31m---------------------------------------------------------------------------\u001b[0m",
      "\u001b[0;31mTypeError\u001b[0m                                 Traceback (most recent call last)",
      "Cell \u001b[0;32mIn[155], line 1\u001b[0m\n\u001b[0;32m----> 1\u001b[0m merged_data \u001b[38;5;241m=\u001b[39m pd\u001b[38;5;241m.\u001b[39mread_csv(os\u001b[38;5;241m.\u001b[39mpath\u001b[38;5;241m.\u001b[39mjoin(OUTPUT_DIR, best_cohort\u001b[38;5;241m+\u001b[39m\u001b[38;5;124m'\u001b[39m\u001b[38;5;124m.csv\u001b[39m\u001b[38;5;124m'\u001b[39m))\n",
      "\u001b[0;31mTypeError\u001b[0m: unsupported operand type(s) for +: 'NoneType' and 'str'"
     ]
    }
   ],
   "source": [
    "merged_data = pd.read_csv(os.path.join(OUTPUT_DIR, best_cohort+'.csv'))"
   ]
  },
  {
   "cell_type": "code",
   "execution_count": 195,
   "metadata": {
    "ExecuteTime": {
     "end_time": "2023-12-31T21:19:52.234945878Z",
     "start_time": "2023-12-31T21:19:52.231604618Z"
    }
   },
   "outputs": [
    {
     "data": {
      "text/html": [
       "<div>\n",
       "<style scoped>\n",
       "    .dataframe tbody tr th:only-of-type {\n",
       "        vertical-align: middle;\n",
       "    }\n",
       "\n",
       "    .dataframe tbody tr th {\n",
       "        vertical-align: top;\n",
       "    }\n",
       "\n",
       "    .dataframe thead th {\n",
       "        text-align: right;\n",
       "    }\n",
       "</style>\n",
       "<table border=\"1\" class=\"dataframe\">\n",
       "  <thead>\n",
       "    <tr style=\"text-align: right;\">\n",
       "      <th></th>\n",
       "      <th>Thyroid Cancer</th>\n",
       "      <th>Age</th>\n",
       "      <th>Gender</th>\n",
       "      <th>ARHGEF10L</th>\n",
       "      <th>HIF3A</th>\n",
       "      <th>RNF17</th>\n",
       "      <th>RNF10</th>\n",
       "      <th>RNF11</th>\n",
       "      <th>RNF13</th>\n",
       "      <th>GTF2IP1</th>\n",
       "      <th>...</th>\n",
       "      <th>TULP2</th>\n",
       "      <th>NPY5R</th>\n",
       "      <th>GNGT2</th>\n",
       "      <th>GNGT1</th>\n",
       "      <th>TULP3</th>\n",
       "      <th>PTRF</th>\n",
       "      <th>BCL6B</th>\n",
       "      <th>GSTK1</th>\n",
       "      <th>SELP</th>\n",
       "      <th>SELS</th>\n",
       "    </tr>\n",
       "  </thead>\n",
       "  <tbody>\n",
       "    <tr>\n",
       "      <th>0</th>\n",
       "      <td>1</td>\n",
       "      <td>74</td>\n",
       "      <td>0</td>\n",
       "      <td>-0.767592</td>\n",
       "      <td>-1.742926</td>\n",
       "      <td>-0.531035</td>\n",
       "      <td>-0.067972</td>\n",
       "      <td>0.265922</td>\n",
       "      <td>-0.13531</td>\n",
       "      <td>0.440006</td>\n",
       "      <td>...</td>\n",
       "      <td>-0.748878</td>\n",
       "      <td>-1.018517</td>\n",
       "      <td>0.205567</td>\n",
       "      <td>-1.28139</td>\n",
       "      <td>0.395523</td>\n",
       "      <td>1.735414</td>\n",
       "      <td>0.945273</td>\n",
       "      <td>-0.186695</td>\n",
       "      <td>4.024767</td>\n",
       "      <td>-0.273612</td>\n",
       "    </tr>\n",
       "    <tr>\n",
       "      <th>1</th>\n",
       "      <td>1</td>\n",
       "      <td>65</td>\n",
       "      <td>1</td>\n",
       "      <td>1.766308</td>\n",
       "      <td>0.273374</td>\n",
       "      <td>-0.531035</td>\n",
       "      <td>0.790028</td>\n",
       "      <td>1.209322</td>\n",
       "      <td>0.01229</td>\n",
       "      <td>0.704606</td>\n",
       "      <td>...</td>\n",
       "      <td>0.125322</td>\n",
       "      <td>1.568883</td>\n",
       "      <td>0.626367</td>\n",
       "      <td>2.38101</td>\n",
       "      <td>0.275823</td>\n",
       "      <td>1.820014</td>\n",
       "      <td>2.140073</td>\n",
       "      <td>1.380405</td>\n",
       "      <td>1.257367</td>\n",
       "      <td>-0.174312</td>\n",
       "    </tr>\n",
       "    <tr>\n",
       "      <th>2</th>\n",
       "      <td>1</td>\n",
       "      <td>55</td>\n",
       "      <td>1</td>\n",
       "      <td>0.986808</td>\n",
       "      <td>-2.165726</td>\n",
       "      <td>-0.050935</td>\n",
       "      <td>0.051428</td>\n",
       "      <td>0.979522</td>\n",
       "      <td>0.48229</td>\n",
       "      <td>0.090106</td>\n",
       "      <td>...</td>\n",
       "      <td>-0.748878</td>\n",
       "      <td>-0.747417</td>\n",
       "      <td>-0.931133</td>\n",
       "      <td>-1.28139</td>\n",
       "      <td>-0.222077</td>\n",
       "      <td>0.293414</td>\n",
       "      <td>0.725173</td>\n",
       "      <td>-0.254095</td>\n",
       "      <td>0.530667</td>\n",
       "      <td>-0.430812</td>\n",
       "    </tr>\n",
       "    <tr>\n",
       "      <th>3</th>\n",
       "      <td>1</td>\n",
       "      <td>57</td>\n",
       "      <td>1</td>\n",
       "      <td>0.767208</td>\n",
       "      <td>-1.623626</td>\n",
       "      <td>-0.531035</td>\n",
       "      <td>0.182228</td>\n",
       "      <td>0.541622</td>\n",
       "      <td>0.65889</td>\n",
       "      <td>0.647206</td>\n",
       "      <td>...</td>\n",
       "      <td>-0.748878</td>\n",
       "      <td>-1.587117</td>\n",
       "      <td>-1.292433</td>\n",
       "      <td>-1.28139</td>\n",
       "      <td>-0.602177</td>\n",
       "      <td>0.134114</td>\n",
       "      <td>0.894473</td>\n",
       "      <td>-0.380395</td>\n",
       "      <td>-2.502833</td>\n",
       "      <td>0.360588</td>\n",
       "    </tr>\n",
       "    <tr>\n",
       "      <th>4</th>\n",
       "      <td>1</td>\n",
       "      <td>33</td>\n",
       "      <td>0</td>\n",
       "      <td>-0.287292</td>\n",
       "      <td>-1.766626</td>\n",
       "      <td>-0.531035</td>\n",
       "      <td>0.059628</td>\n",
       "      <td>0.920522</td>\n",
       "      <td>0.21849</td>\n",
       "      <td>0.336106</td>\n",
       "      <td>...</td>\n",
       "      <td>-0.413778</td>\n",
       "      <td>1.111583</td>\n",
       "      <td>1.158867</td>\n",
       "      <td>-1.28139</td>\n",
       "      <td>0.003723</td>\n",
       "      <td>1.240514</td>\n",
       "      <td>0.924373</td>\n",
       "      <td>-0.143495</td>\n",
       "      <td>2.613367</td>\n",
       "      <td>-0.030012</td>\n",
       "    </tr>\n",
       "  </tbody>\n",
       "</table>\n",
       "<p>5 rows × 20533 columns</p>\n",
       "</div>"
      ],
      "text/plain": [
       "   Thyroid Cancer  Age  Gender  ARHGEF10L     HIF3A     RNF17     RNF10  \\\n",
       "0               1   74       0  -0.767592 -1.742926 -0.531035 -0.067972   \n",
       "1               1   65       1   1.766308  0.273374 -0.531035  0.790028   \n",
       "2               1   55       1   0.986808 -2.165726 -0.050935  0.051428   \n",
       "3               1   57       1   0.767208 -1.623626 -0.531035  0.182228   \n",
       "4               1   33       0  -0.287292 -1.766626 -0.531035  0.059628   \n",
       "\n",
       "      RNF11    RNF13   GTF2IP1  ...     TULP2     NPY5R     GNGT2    GNGT1  \\\n",
       "0  0.265922 -0.13531  0.440006  ... -0.748878 -1.018517  0.205567 -1.28139   \n",
       "1  1.209322  0.01229  0.704606  ...  0.125322  1.568883  0.626367  2.38101   \n",
       "2  0.979522  0.48229  0.090106  ... -0.748878 -0.747417 -0.931133 -1.28139   \n",
       "3  0.541622  0.65889  0.647206  ... -0.748878 -1.587117 -1.292433 -1.28139   \n",
       "4  0.920522  0.21849  0.336106  ... -0.413778  1.111583  1.158867 -1.28139   \n",
       "\n",
       "      TULP3      PTRF     BCL6B     GSTK1      SELP      SELS  \n",
       "0  0.395523  1.735414  0.945273 -0.186695  4.024767 -0.273612  \n",
       "1  0.275823  1.820014  2.140073  1.380405  1.257367 -0.174312  \n",
       "2 -0.222077  0.293414  0.725173 -0.254095  0.530667 -0.430812  \n",
       "3 -0.602177  0.134114  0.894473 -0.380395 -2.502833  0.360588  \n",
       "4  0.003723  1.240514  0.924373 -0.143495  2.613367 -0.030012  \n",
       "\n",
       "[5 rows x 20533 columns]"
      ]
     },
     "execution_count": 195,
     "metadata": {},
     "output_type": "execute_result"
    }
   ],
   "source": [
    "merged_data.head()"
   ]
  },
  {
   "cell_type": "code",
   "execution_count": 198,
   "metadata": {
    "ExecuteTime": {
     "end_time": "2023-12-31T21:19:52.312540150Z",
     "start_time": "2023-12-31T21:19:52.235772334Z"
    }
   },
   "outputs": [],
   "source": [
    "# If both age and gender features are available, select 'age' as the condition.\n",
    "condition = 'Age'\n",
    "# Remove the other condition to prevent interference.\n",
    "merged_data = merged_data.drop(columns=['Gender'], errors='ignore').astype('float')"
   ]
  },
  {
   "cell_type": "code",
   "execution_count": 199,
   "metadata": {
    "ExecuteTime": {
     "end_time": "2023-12-31T21:19:52.323468266Z",
     "start_time": "2023-12-31T21:19:52.290903989Z"
    }
   },
   "outputs": [],
   "source": [
    "X = merged_data.drop(columns=[TRAIT, condition]).values\n",
    "Y = merged_data[TRAIT].values\n",
    "Z = merged_data[condition].values"
   ]
  },
  {
   "cell_type": "markdown",
   "metadata": {},
   "source": [
    "Select the appropriate regression model depending on whether the dataset shows batch effect."
   ]
  },
  {
   "cell_type": "code",
   "execution_count": 200,
   "metadata": {
    "ExecuteTime": {
     "end_time": "2023-12-31T21:20:00.930840782Z",
     "start_time": "2023-12-31T21:19:52.319092572Z"
    }
   },
   "outputs": [
    {
     "data": {
      "text/plain": [
       "True"
      ]
     },
     "execution_count": 200,
     "metadata": {},
     "output_type": "execute_result"
    }
   ],
   "source": [
    "has_batch_effect = detect_batch_effect(X)\n",
    "has_batch_effect"
   ]
  },
  {
   "cell_type": "code",
   "execution_count": 201,
   "metadata": {
    "ExecuteTime": {
     "end_time": "2023-12-31T21:20:00.931029722Z",
     "start_time": "2023-12-31T21:20:00.929710828Z"
    }
   },
   "outputs": [],
   "source": [
    "if has_batch_effect:\n",
    "    model_constructor = VariableSelection\n",
    "    model_params = {}\n",
    "else:\n",
    "    model_constructor = Lasso\n",
    "    model_params = {'alpha': 1.0, 'random_state': 42}"
   ]
  },
  {
   "cell_type": "code",
   "execution_count": 202,
   "metadata": {
    "ExecuteTime": {
     "end_time": "2023-12-31T21:20:20.709459824Z",
     "start_time": "2023-12-31T21:20:00.931657949Z"
    }
   },
   "outputs": [
    {
     "name": "stderr",
     "output_type": "stream",
     "text": [
      "/Users/ollie/anaconda3/lib/python3.11/site-packages/sparse_lmm/helpingMethods.py:49: RuntimeWarning: invalid value encountered in divide\n",
      "  ts = beta / np.sqrt(var * sigma)\n",
      "/Users/ollie/anaconda3/lib/python3.11/site-packages/sparse_lmm/helpingMethods.py:49: RuntimeWarning: invalid value encountered in divide\n",
      "  ts = beta / np.sqrt(var * sigma)\n",
      "/Users/ollie/anaconda3/lib/python3.11/site-packages/sparse_lmm/helpingMethods.py:49: RuntimeWarning: invalid value encountered in divide\n",
      "  ts = beta / np.sqrt(var * sigma)\n",
      "/Users/ollie/anaconda3/lib/python3.11/site-packages/sparse_lmm/helpingMethods.py:49: RuntimeWarning: invalid value encountered in divide\n",
      "  ts = beta / np.sqrt(var * sigma)\n",
      "/Users/ollie/anaconda3/lib/python3.11/site-packages/sparse_lmm/helpingMethods.py:49: RuntimeWarning: invalid value encountered in divide\n",
      "  ts = beta / np.sqrt(var * sigma)\n"
     ]
    },
    {
     "name": "stdout",
     "output_type": "stream",
     "text": [
      "The cross-validation accuracy is 83.16% ± 5.64%\n"
     ]
    }
   ],
   "source": [
    "cv_mean, cv_std = cross_validation(X, Y, Z, model_constructor, model_params, target_type=trait_type)"
   ]
  },
  {
   "cell_type": "code",
   "execution_count": 203,
   "metadata": {
    "ExecuteTime": {
     "end_time": "2023-12-31T21:20:24.980870159Z",
     "start_time": "2023-12-31T21:20:20.516710807Z"
    }
   },
   "outputs": [
    {
     "name": "stderr",
     "output_type": "stream",
     "text": [
      "/Users/ollie/anaconda3/lib/python3.11/site-packages/sparse_lmm/helpingMethods.py:49: RuntimeWarning: invalid value encountered in divide\n",
      "  ts = beta / np.sqrt(var * sigma)\n"
     ]
    }
   ],
   "source": [
    "# Train regression model on the whole dataset to identify significant genes\n",
    "model = ResidualizationRegressor(model_constructor, model_params)\n",
    "normalized_X, _ = normalize_data(X)\n",
    "normalized_Z, _ = normalize_data(Z)\n",
    "model.fit(normalized_X, Y, normalized_Z)"
   ]
  },
  {
   "cell_type": "markdown",
   "metadata": {
    "ExecuteTime": {
     "end_time": "2023-10-14T04:50:59.072075075Z",
     "start_time": "2023-10-14T04:50:38.739499998Z"
    },
    "id": "EjJrxbvb4nlj"
   },
   "source": [
    "### 5. Discussion and report"
   ]
  },
  {
   "cell_type": "code",
   "execution_count": 204,
   "metadata": {
    "ExecuteTime": {
     "end_time": "2023-12-31T21:20:25.000830410Z",
     "start_time": "2023-12-31T21:20:24.982834541Z"
    }
   },
   "outputs": [
    {
     "name": "stdout",
     "output_type": "stream",
     "text": [
      "Effect of the condition on the target variable:\n",
      "Variable: Age\n",
      "Coefficient: 0.0112\n",
      "Found 100 significant genes associated with the trait 'Thyroid Cancer' conditional on the factor 'Age', with corrected p-value < 0.05:\n",
      "   Variable  Coefficient  corrected_p_value\n",
      "     GABRB2     0.199853       9.445009e-24\n",
      "       LRP4     0.153916       3.454747e-11\n",
      "    SHROOM4     0.150237       3.783756e-09\n",
      "      HMGA2     0.122833       4.533386e-08\n",
      "       EPS8     0.148314       3.922968e-07\n",
      "    KLHDC8A     0.103442       3.996388e-07\n",
      "       LIPH     0.126974       5.203673e-07\n",
      "      MPZL2     0.123835       7.878797e-07\n",
      "      GABRD     0.085857       3.424810e-06\n",
      "       GJB3     0.104297       7.705250e-06\n",
      "   C6orf168     0.106365       1.189886e-05\n",
      "        FN1     0.142549       1.760688e-05\n",
      "      KCNQ3     0.132879       2.031323e-05\n",
      "      GRHL3     0.103693       2.317901e-05\n",
      "    ZCCHC12     0.091659       3.351467e-05\n",
      "     ACTBL2     0.094812       6.476432e-05\n",
      "      SYT12     0.127073       8.248756e-05\n",
      "    METTL7B     0.102223       8.845054e-05\n",
      "   C6orf138     0.064603       9.904802e-05\n",
      "      CTXN1     0.105551       3.233898e-04\n",
      "      PLCD3     0.113021       3.909052e-04\n",
      "      PVRL4     0.114387       3.909052e-04\n",
      "     CDKN2B     0.065257       3.978743e-04\n",
      "       GLS2     0.082425       4.831588e-04\n",
      "       CSF2     0.084641       5.549598e-04\n",
      "       CPT2     0.074323       5.937739e-04\n",
      "     TMEM8C     0.036047       6.183523e-04\n",
      "     STK32A     0.073158       7.026420e-04\n",
      "       CDH6     0.081873       8.081472e-04\n",
      "    PLEKHN1     0.092362       8.523882e-04\n",
      "     FAM84A     0.065792       8.523882e-04\n",
      "       IRX4    -0.034751       1.128374e-03\n",
      "     GOLT1A     0.081213       1.128374e-03\n",
      "     ADRA1B     0.056606       1.128374e-03\n",
      "       GALE     0.117215       1.154715e-03\n",
      "   SNORA11E     0.034012       1.247804e-03\n",
      "       XKRX     0.065774       2.524043e-03\n",
      "      CDH13     0.057717       2.524043e-03\n",
      "      DOCK9     0.113009       3.762709e-03\n",
      "      PRR15     0.074195       3.806978e-03\n",
      "  LOC400794     0.080408       4.110989e-03\n",
      "     PHLDA3     0.079714       4.363095e-03\n",
      "    ADAMTS9     0.067113       4.404174e-03\n",
      "     ATPAF1     0.068504       4.879509e-03\n",
      "     ACSM2B    -0.038055       4.879509e-03\n",
      "    COL13A1     0.057927       6.002172e-03\n",
      "     PTP4A3     0.071456       6.002172e-03\n",
      "      ACER2     0.090176       6.255782e-03\n",
      "        INS    -0.028995       7.655848e-03\n",
      "   SNORA71C     0.027043       7.803120e-03\n",
      "    PLEKHA6    -0.064583       9.827137e-03\n",
      "     ENTPD1     0.057195       9.827137e-03\n",
      "      DUSP6     0.078752       9.827137e-03\n",
      "       RXRG     0.072075       9.827137e-03\n",
      "       SDC4     0.108154       1.050799e-02\n",
      "SNORD116-20    -0.044474       1.050799e-02\n",
      "      SYTL5     0.066324       1.050799e-02\n",
      "     ELOVL5    -0.058228       1.079067e-02\n",
      "     GALNT7     0.097652       1.115634e-02\n",
      "      ACCSL    -0.023081       1.158859e-02\n",
      "       NPC2     0.086596       1.261155e-02\n",
      "      MYEF2     0.058908       1.362345e-02\n",
      "     GABRA2    -0.028071       1.492404e-02\n",
      "       NGEF     0.064199       1.696571e-02\n",
      "       ETV4     0.065601       1.737360e-02\n",
      "     TMEM92     0.059671       2.013921e-02\n",
      "  TNFRSF10C     0.041236       2.014835e-02\n",
      "   SCARNA23     0.024189       2.048147e-02\n",
      "       TGFA     0.076997       2.263781e-02\n",
      "    TMPRSS6     0.081293       2.263781e-02\n",
      "      CLDN1     0.077079       2.263781e-02\n",
      "       NOD1     0.105072       2.263781e-02\n",
      "     PLXND1     0.070931       2.454117e-02\n",
      "   C12orf69     0.035480       2.730997e-02\n",
      "     MAGEB6    -0.024154       2.916878e-02\n",
      "     RPS27L     0.053936       3.037034e-02\n",
      "    SERINC2     0.065550       3.108738e-02\n",
      "    TMPRSS4     0.076835       3.110649e-02\n",
      "     SLC9A5     0.058166       3.110649e-02\n",
      "    TFCP2L1     0.073406       3.110649e-02\n",
      "      SLIT1     0.046413       3.110649e-02\n",
      "       BBC3     0.060568       3.110649e-02\n",
      "    DENND2A    -0.046341       3.110649e-02\n",
      "        F2R     0.054558       3.110649e-02\n",
      "     CLDN10     0.059617       3.124546e-02\n",
      "      FGF10    -0.040002       3.134473e-02\n",
      "     ITGA10     0.042926       3.134473e-02\n",
      "    SLC6A15    -0.047116       3.134473e-02\n",
      "      EDA2R     0.045361       3.138542e-02\n",
      "     SRCIN1     0.056393       3.253846e-02\n",
      "       DPP4     0.070001       3.366826e-02\n",
      "    TMEM215     0.049205       3.553350e-02\n",
      "      TRPC4     0.046801       3.627191e-02\n",
      "    RPSAP52     0.056997       3.641200e-02\n",
      "        CIT     0.036022       3.701246e-02\n",
      "      OR6F1     0.022945       4.161429e-02\n",
      "       COMP     0.043448       4.348080e-02\n",
      "      PROS1     0.093119       4.413354e-02\n",
      "       CDH3     0.070796       4.504393e-02\n",
      "       UPP1     0.074745       4.504393e-02\n"
     ]
    },
    {
     "name": "stderr",
     "output_type": "stream",
     "text": [
      "/Users/ollie/Documents/JupyterProjects/AI4Science_gold_standard/stage1/Jinglin/utils.py:425: SettingWithCopyWarning: \n",
      "A value is trying to be set on a copy of a slice from a DataFrame.\n",
      "Try using .loc[row_indexer,col_indexer] = value instead\n",
      "\n",
      "See the caveats in the documentation: https://pandas.pydata.org/pandas-docs/stable/user_guide/indexing.html#returning-a-view-versus-a-copy\n",
      "  gene_regression_df.loc[:, 'corrected_p_value'] = corrected_p_values\n"
     ]
    }
   ],
   "source": [
    "feature_cols = merged_data.columns.tolist()\n",
    "feature_cols.remove(TRAIT)\n",
    "\n",
    "if has_batch_effect:\n",
    "    report_result_from_lmm(model, feature_cols, TRAIT, condition, threshold=0.05, save_output=True,\n",
    "                           output_dir=OUTPUT_DIR)\n",
    "else:\n",
    "    report_result_from_lasso(model, feature_cols, TRAIT, condition, save_output=True, output_dir=OUTPUT_DIR)"
   ]
  },
  {
   "cell_type": "code",
   "execution_count": null,
   "metadata": {},
   "outputs": [],
   "source": []
  }
 ],
 "metadata": {
  "colab": {
   "provenance": []
  },
  "kernelspec": {
   "display_name": "Python 3 (ipykernel)",
   "language": "python",
   "name": "python3"
  },
  "language_info": {
   "codemirror_mode": {
    "name": "ipython",
    "version": 3
   },
   "file_extension": ".py",
   "mimetype": "text/x-python",
   "name": "python",
   "nbconvert_exporter": "python",
   "pygments_lexer": "ipython3",
   "version": "3.11.4"
  }
 },
 "nbformat": 4,
 "nbformat_minor": 1
}
