{
 "cells": [
  {
   "cell_type": "markdown",
   "metadata": {},
   "source": [
    "# Gold standard curation: Preprocessing and single-step regression"
   ]
  },
  {
   "cell_type": "markdown",
   "metadata": {},
   "source": [
    "In this stage of gold standard curation, we will do the data preprocessing, selection, and single-step regression for the 153 traits in our question set. This file shows the reference steps using the trait \"Breast Cancer\" as an example. The workflow consists of the following steps:\n",
    "\n",
    "1. Preprocess all the cohorts related to this trait. Each cohort should be converted to a tabular form and saved to a csv file, with columns being genetic factors, the trait, and age, gender if available;\n",
    "2. If there exists at least one cohort with age or gender information, conduct regression analysis with genetic features together with age or gender as the regressors.\n"
   ]
  },
  {
   "cell_type": "markdown",
   "metadata": {},
   "source": [
    "# 1. Basic setup"
   ]
  },
  {
   "cell_type": "code",
   "execution_count": 1,
   "metadata": {
    "ExecuteTime": {
     "end_time": "2023-12-31T21:19:07.313098989Z",
     "start_time": "2023-12-31T21:19:07.312718292Z"
    }
   },
   "outputs": [],
   "source": [
    "import os\n",
    "\n",
    "# Set your preferred name\n",
    "USER = \"Jinglin\"\n",
    "# Set the data and output directories\n",
    "DATA_ROOT = '../../DATA'\n",
    "OUTPUT_ROOT = '../../output1'\n",
    "TRAIT = 'Multiple sclerosis'\n",
    "\n",
    "OUTPUT_DIR = os.path.join(OUTPUT_ROOT, USER, '-'.join(TRAIT.split()))\n",
    "JSON_PATH = os.path.join(OUTPUT_DIR, \"cohort_info.json\")\n",
    "if not os.path.exists(OUTPUT_DIR):\n",
    "    os.makedirs(OUTPUT_DIR, exist_ok=True)\n",
    "\n",
    "# Gene symbol normalization may take 1-2 minutes. You may set it to False for debugging.\n",
    "NORMALIZE_GENE = False"
   ]
  },
  {
   "cell_type": "code",
   "execution_count": 2,
   "metadata": {
    "ExecuteTime": {
     "end_time": "2023-12-31T21:19:07.680659936Z",
     "start_time": "2023-12-31T21:19:07.666959145Z"
    },
    "colab": {
     "base_uri": "https://localhost:8080/"
    },
    "id": "jMTdsU43vVg3",
    "outputId": "38886111-f442-44b4-8398-96bf384d7abd"
   },
   "outputs": [
    {
     "data": {
      "text/plain": [
       "\"import os\\nfrom google.colab import drive\\n\\ndrive.mount('/content/drive', force_remount=True)\\nproj_dir = '/content/drive/MyDrive/AI4Science_Public'\\nos.chdir(proj_dir)\""
      ]
     },
     "execution_count": 2,
     "metadata": {},
     "output_type": "execute_result"
    }
   ],
   "source": [
    "# This cell is only for use on Google Colab. Skip it if you run your code in other environments\n",
    "\n",
    "\"\"\"import os\n",
    "from google.colab import drive\n",
    "\n",
    "drive.mount('/content/drive', force_remount=True)\n",
    "proj_dir = '/content/drive/MyDrive/AI4Science_Public'\n",
    "os.chdir(proj_dir)\"\"\""
   ]
  },
  {
   "cell_type": "markdown",
   "metadata": {},
   "source": [
    "# 2. Data preprocessing and selection"
   ]
  },
  {
   "cell_type": "markdown",
   "metadata": {},
   "source": [
    "## 2.1. The TCGA Xena dataset"
   ]
  },
  {
   "cell_type": "markdown",
   "metadata": {},
   "source": [
    "In TCGA Xena, there is either zero or one cohort related to the trait. We search the names of subdirectories to see if any matches the trait. If a match is found, we directly obtain the file paths."
   ]
  },
  {
   "cell_type": "code",
   "execution_count": 3,
   "metadata": {},
   "outputs": [
    {
     "data": {
      "text/plain": [
       "['TCGA_Pancreatic_Cancer_(PAAD)',\n",
       " 'TCGA_Bladder_Cancer_(BLCA)',\n",
       " '.DS_Store',\n",
       " 'TCGA_Testicular_Cancer_(TGCT)',\n",
       " 'TCGA_Acute_Myeloid_Leukemia_(LAML)',\n",
       " 'TCGA_Breast_Cancer_(BRCA)',\n",
       " 'TCGA_Stomach_Cancer_(STAD)',\n",
       " 'TCGA_Thyroid_Cancer_(THCA)',\n",
       " 'TCGA_Glioblastoma_(GBM)']"
      ]
     },
     "execution_count": 3,
     "metadata": {},
     "output_type": "execute_result"
    }
   ],
   "source": [
    "import os\n",
    "from utils import *\n",
    "\n",
    "dataset = 'TCGA'\n",
    "dataset_dir = os.path.join(DATA_ROOT, dataset)\n",
    "os.listdir(dataset_dir)[:10]"
   ]
  },
  {
   "cell_type": "markdown",
   "metadata": {},
   "source": [
    "If no match is found, jump directly to GEO in Part 2.2"
   ]
  },
  {
   "cell_type": "code",
   "execution_count": 20,
   "metadata": {
    "ExecuteTime": {
     "end_time": "2023-12-31T21:19:09.918243934Z",
     "start_time": "2023-12-31T21:19:09.909021135Z"
    }
   },
   "outputs": [],
   "source": [
    "trait_subdir = \"TCGA_Thyroid_Cancer_(THCA)\"\n",
    "cohort = 'Xena'\n",
    "# All the cancer traits in Xena are binary\n",
    "trait_type = 'binary'\n",
    "# Once a relevant cohort is found in Xena, we can generally assume the gene and clinical data are available\n",
    "is_available = True\n",
    "\n",
    "clinical_data_file = os.path.join(dataset_dir, trait_subdir, 'TCGA.THCA.sampleMap_THCA_clinicalMatrix')\n",
    "genetic_data_file = os.path.join(dataset_dir, trait_subdir, 'TCGA.THCA.sampleMap_HiSeqV2_PANCAN.gz')"
   ]
  },
  {
   "cell_type": "code",
   "execution_count": 6,
   "metadata": {
    "ExecuteTime": {
     "end_time": "2023-12-31T21:19:13.613198409Z",
     "start_time": "2023-12-31T21:19:10.409688003Z"
    },
    "id": "MudwB-_iz7sc"
   },
   "outputs": [],
   "source": [
    "import pandas as pd\n",
    "\n",
    "clinical_data = pd.read_csv(clinical_data_file, sep='\\t', index_col=0)\n",
    "genetic_data = pd.read_csv(genetic_data_file, compression='gzip', sep='\\t', index_col=0)\n",
    "age_col = gender_col = None"
   ]
  },
  {
   "cell_type": "code",
   "execution_count": 7,
   "metadata": {
    "ExecuteTime": {
     "end_time": "2023-12-31T21:19:13.617006167Z",
     "start_time": "2023-12-31T21:19:13.614080653Z"
    }
   },
   "outputs": [],
   "source": [
    "_, clinical_data_cols = check_rows_and_columns(clinical_data)"
   ]
  },
  {
   "cell_type": "code",
   "execution_count": 8,
   "metadata": {
    "ExecuteTime": {
     "end_time": "2023-12-31T21:19:13.661538569Z",
     "start_time": "2023-12-31T21:19:13.615946213Z"
    }
   },
   "outputs": [
    {
     "data": {
      "text/plain": [
       "['_INTEGRATION',\n",
       " '_PATIENT',\n",
       " '_cohort',\n",
       " '_primary_disease',\n",
       " '_primary_site',\n",
       " 'additional_pharmaceutical_therapy',\n",
       " 'additional_radiation_therapy',\n",
       " 'additional_surgery_locoregional_procedure',\n",
       " 'age_at_initial_pathologic_diagnosis',\n",
       " 'bcr_followup_barcode']"
      ]
     },
     "execution_count": 8,
     "metadata": {},
     "output_type": "execute_result"
    }
   ],
   "source": [
    "clinical_data_cols[:10]"
   ]
  },
  {
   "cell_type": "markdown",
   "metadata": {
    "ExecuteTime": {
     "end_time": "2023-12-28T20:20:11.841042813Z",
     "start_time": "2023-12-28T20:20:11.834458206Z"
    }
   },
   "source": [
    "Read all the column names in the clinical dataset, to find the columns that record information about age or gender.\n",
    "Reference prompt:"
   ]
  },
  {
   "cell_type": "code",
   "execution_count": 9,
   "metadata": {
    "ExecuteTime": {
     "end_time": "2023-12-31T21:19:13.661858700Z",
     "start_time": "2023-12-31T21:19:13.656749487Z"
    }
   },
   "outputs": [
    {
     "data": {
      "text/plain": [
       "\"\\nBelow is a list of column names from a biomedical dataset. Please examine it and identify the columns that are likely to contain information about patients' age. Additionally, please do the same for columns that may hold data on patients' gender. Please provide your answer by strictly following this format, without redundant words:\\ncandidate_age_cols = [col_name1, col_name2, ...]\\ncandidate_gender_cols = [col_name1, col_name2, ...]\\nIf no columns match a criterion, please provide an empty list.\\n\\nColumn names:\\n['_INTEGRATION', '_PATIENT', '_cohort', '_primary_disease', '_primary_site', 'additional_pharmaceutical_therapy', 'additional_radiation_therapy', 'additional_surgery_locoregional_procedure', 'age_at_initial_pathologic_diagnosis', 'bcr_followup_barcode', 'bcr_patient_barcode', 'bcr_sample_barcode', 'braf_gene_genotyping_outcome_lab_results_text', 'days_to_additional_surgery_metastatic_procedure', 'days_to_birth', 'days_to_collection', 'days_to_death', 'days_to_initial_pathologic_diagnosis', 'days_to_last_followup', 'days_to_new_tumor_event_additional_surgery_procedure', 'days_to_new_tumor_event_after_initial_treatment', 'extrathyroid_carcinoma_present_extension_status', 'first_degree_relative_history_thyrd_glnd_crcnm_dgnss_rltnshp_typ', 'followup_case_report_form_submission_reason', 'form_completion_date', 'gender', 'genotype_analysis_performed_indicator', 'genotyping_results_gene_mutation_not_reported_reason', 'histologic_disease_progression_present_indicator', 'histologic_disease_progression_present_type', 'histological_type', 'histological_type_other', 'history_of_neoadjuvant_treatment', 'i_131_first_administered_dose', 'i_131_subsequent_administered_dose', 'i_131_total_administered_dose', 'i_131_total_administered_preparation_technique', 'icd_10', 'icd_o_3_histology', 'icd_o_3_site', 'informed_consent_verified', 'initial_weight', 'is_ffpe', 'lost_follow_up', 'lymph_node_examined_count', 'lymph_node_preoperative_assessment_diagnostic_imaging_type', 'lymph_node_preoperative_scan_indicator', 'metastatic_neoplasm_confirmed_diagnosis_method_name', 'metastatic_neoplasm_confirmed_diagnosis_method_text', 'metastatic_site', 'neoplasm_depth', 'new_neoplasm_confirmed_diagnosis_method_name', 'new_neoplasm_event_occurrence_anatomic_site', 'new_neoplasm_event_type', 'new_neoplasm_occurrence_anatomic_site_text', 'new_tumor_event_additional_surgery_procedure', 'new_tumor_event_after_initial_treatment', 'number_of_lymphnodes_positive_by_he', 'oct_embedded', 'other_dx', 'other_genotyping_outcome_lab_results_text', 'other_metastatic_site', 'pathologic_M', 'pathologic_N', 'pathologic_T', 'pathologic_stage', 'pathology_report_file_name', 'patient_id', 'patient_personal_medical_history_thyroid_gland_disorder_name', 'patient_personal_medical_history_thyroid_other_specify_text', 'person_lifetime_risk_radiation_exposure_indicator', 'person_neoplasm_cancer_status', 'post_surgical_procedure_assessment_thyroid_gland_carcinoma_stats', 'postoperative_rx_tx', 'primary_lymph_node_presentation_assessment', 'primary_neoplasm_focus_type', 'primary_thyroid_gland_neoplasm_location_anatomic_site', 'radiation_therapy', 'radiation_therapy_administered_dose_text', 'radiation_therapy_administered_preparation_technique_text', 'radiosensitizing_agent_administered_indicator', 'ras_family_gene_genotyping_outcome_lab_results_text', 'residual_tumor', 'ret_ptc_rearrangement_genotyping_outcome_lab_results_text', 'sample_type', 'sample_type_id', 'system_version', 'targeted_molecular_therapy', 'therapeutic_procedure_new_neoplasm_required_additional_thrpy_typ', 'thyroid_gland_carcinoma_involvement_regional_lymph_node_type', 'tissue_prospective_collection_indicator', 'tissue_retrospective_collection_indicator', 'tissue_source_site', 'tumor_tissue_site', 'vial_number', 'vital_status', 'year_of_initial_pathologic_diagnosis', '_GENOMIC_ID_TCGA_THCA_exp_HiSeqV2_percentile', '_GENOMIC_ID_TCGA_THCA_hMethyl450', '_GENOMIC_ID_TCGA_THCA_mutation_bcm_gene', '_GENOMIC_ID_TCGA_THCA_RPPA', '_GENOMIC_ID_TCGA_THCA_exp_HiSeqV2', '_GENOMIC_ID_TCGA_THCA_gistic2', '_GENOMIC_ID_TCGA_THCA_PDMRNAseqCNV', '_GENOMIC_ID_TCGA_THCA_mutation_bcgsc_gene', '_GENOMIC_ID_TCGA_THCA_mutation', '_GENOMIC_ID_TCGA_THCA_PDMRNAseq', '_GENOMIC_ID_TCGA_THCA_mutation_broad_gene', '_GENOMIC_ID_TCGA_THCA_exp_HiSeqV2_exon', '_GENOMIC_ID_TCGA_THCA_miRNA_HiSeq', '_GENOMIC_ID_TCGA_THCA_exp_HiSeqV2_PANCAN', '_GENOMIC_ID_data/public/TCGA/THCA/miRNA_HiSeq_gene', '_GENOMIC_ID_TCGA_THCA_gistic2thd']\\n\""
      ]
     },
     "execution_count": 9,
     "metadata": {},
     "output_type": "execute_result"
    }
   ],
   "source": [
    "f'''\n",
    "Below is a list of column names from a biomedical dataset. Please examine it and identify the columns that are likely to contain information about patients' age. Additionally, please do the same for columns that may hold data on patients' gender. Please provide your answer by strictly following this format, without redundant words:\n",
    "candidate_age_cols = [col_name1, col_name2, ...]\n",
    "candidate_gender_cols = [col_name1, col_name2, ...]\n",
    "If no columns match a criterion, please provide an empty list.\n",
    "\n",
    "Column names:\n",
    "{clinical_data_cols}\n",
    "'''"
   ]
  },
  {
   "cell_type": "code",
   "execution_count": 12,
   "metadata": {
    "ExecuteTime": {
     "end_time": "2023-12-31T21:19:13.661938833Z",
     "start_time": "2023-12-31T21:19:13.656901848Z"
    }
   },
   "outputs": [],
   "source": [
    "candidate_age_cols = ['age_at_initial_pathologic_diagnosis',\n",
    "                      'days_to_birth']\n",
    "candidate_gender_cols = ['gender']"
   ]
  },
  {
   "cell_type": "markdown",
   "metadata": {
    "ExecuteTime": {
     "end_time": "2023-12-31T03:57:44.207565572Z",
     "start_time": "2023-12-31T03:57:44.202177544Z"
    }
   },
   "source": [
    "Choose a single column from the candidate columns that record age and gender information respectively.\n",
    "If no column meets the requirement, keep 'age_col' or 'gender_col' to None"
   ]
  },
  {
   "cell_type": "code",
   "execution_count": 13,
   "metadata": {
    "ExecuteTime": {
     "end_time": "2023-12-31T21:19:13.662078139Z",
     "start_time": "2023-12-31T21:19:13.657006017Z"
    }
   },
   "outputs": [
    {
     "data": {
      "text/plain": [
       "{'age_at_initial_pathologic_diagnosis': [74, 65, 55, 57, 33],\n",
       " 'days_to_birth': [-27348, -24102, -20361, -21008, -12295]}"
      ]
     },
     "execution_count": 13,
     "metadata": {},
     "output_type": "execute_result"
    }
   ],
   "source": [
    "preview_df(clinical_data[candidate_age_cols])"
   ]
  },
  {
   "cell_type": "code",
   "execution_count": 16,
   "metadata": {
    "ExecuteTime": {
     "end_time": "2023-12-31T21:19:13.777159137Z",
     "start_time": "2023-12-31T21:19:13.756210135Z"
    }
   },
   "outputs": [],
   "source": [
    "age_col = 'age_at_initial_pathologic_diagnosis'"
   ]
  },
  {
   "cell_type": "code",
   "execution_count": 17,
   "metadata": {
    "ExecuteTime": {
     "end_time": "2023-12-31T21:19:14.313425023Z",
     "start_time": "2023-12-31T21:19:14.305221062Z"
    }
   },
   "outputs": [
    {
     "data": {
      "text/plain": [
       "{'gender': ['FEMALE', 'MALE', 'MALE', 'MALE', 'FEMALE']}"
      ]
     },
     "execution_count": 17,
     "metadata": {},
     "output_type": "execute_result"
    }
   ],
   "source": [
    "preview_df(clinical_data[candidate_gender_cols])"
   ]
  },
  {
   "cell_type": "code",
   "execution_count": 18,
   "metadata": {
    "ExecuteTime": {
     "end_time": "2023-12-31T21:19:14.852502962Z",
     "start_time": "2023-12-31T21:19:14.845153121Z"
    }
   },
   "outputs": [],
   "source": [
    "gender_col = 'gender'"
   ]
  },
  {
   "cell_type": "code",
   "execution_count": 19,
   "metadata": {
    "ExecuteTime": {
     "end_time": "2023-12-31T21:19:15.246065025Z",
     "start_time": "2023-12-31T21:19:15.240279162Z"
    }
   },
   "outputs": [],
   "source": [
    "selected_clinical_data = xena_select_clinical_features(clinical_data, TRAIT, age_col, gender_col)"
   ]
  },
  {
   "cell_type": "code",
   "execution_count": 20,
   "metadata": {
    "ExecuteTime": {
     "end_time": "2023-12-31T21:19:15.593478652Z",
     "start_time": "2023-12-31T21:19:15.583841656Z"
    }
   },
   "outputs": [],
   "source": [
    "if NORMALIZE_GENE:\n",
    "    genetic_data = normalize_gene_symbols_in_index(genetic_data)"
   ]
  },
  {
   "cell_type": "code",
   "execution_count": 21,
   "metadata": {
    "ExecuteTime": {
     "end_time": "2023-12-31T21:19:16.074598194Z",
     "start_time": "2023-12-31T21:19:15.973600157Z"
    }
   },
   "outputs": [
    {
     "data": {
      "text/html": [
       "<div>\n",
       "<style scoped>\n",
       "    .dataframe tbody tr th:only-of-type {\n",
       "        vertical-align: middle;\n",
       "    }\n",
       "\n",
       "    .dataframe tbody tr th {\n",
       "        vertical-align: top;\n",
       "    }\n",
       "\n",
       "    .dataframe thead th {\n",
       "        text-align: right;\n",
       "    }\n",
       "</style>\n",
       "<table border=\"1\" class=\"dataframe\">\n",
       "  <thead>\n",
       "    <tr style=\"text-align: right;\">\n",
       "      <th></th>\n",
       "      <th>Thyroid Cancer</th>\n",
       "      <th>Age</th>\n",
       "      <th>Gender</th>\n",
       "      <th>ARHGEF10L</th>\n",
       "      <th>HIF3A</th>\n",
       "      <th>RNF17</th>\n",
       "      <th>RNF10</th>\n",
       "      <th>RNF11</th>\n",
       "      <th>RNF13</th>\n",
       "      <th>GTF2IP1</th>\n",
       "      <th>...</th>\n",
       "      <th>TULP2</th>\n",
       "      <th>NPY5R</th>\n",
       "      <th>GNGT2</th>\n",
       "      <th>GNGT1</th>\n",
       "      <th>TULP3</th>\n",
       "      <th>PTRF</th>\n",
       "      <th>BCL6B</th>\n",
       "      <th>GSTK1</th>\n",
       "      <th>SELP</th>\n",
       "      <th>SELS</th>\n",
       "    </tr>\n",
       "    <tr>\n",
       "      <th>sampleID</th>\n",
       "      <th></th>\n",
       "      <th></th>\n",
       "      <th></th>\n",
       "      <th></th>\n",
       "      <th></th>\n",
       "      <th></th>\n",
       "      <th></th>\n",
       "      <th></th>\n",
       "      <th></th>\n",
       "      <th></th>\n",
       "      <th></th>\n",
       "      <th></th>\n",
       "      <th></th>\n",
       "      <th></th>\n",
       "      <th></th>\n",
       "      <th></th>\n",
       "      <th></th>\n",
       "      <th></th>\n",
       "      <th></th>\n",
       "      <th></th>\n",
       "      <th></th>\n",
       "    </tr>\n",
       "  </thead>\n",
       "  <tbody>\n",
       "    <tr>\n",
       "      <th>TCGA-4C-A93U-01</th>\n",
       "      <td>1</td>\n",
       "      <td>74</td>\n",
       "      <td>0</td>\n",
       "      <td>-0.767592</td>\n",
       "      <td>-1.742926</td>\n",
       "      <td>-0.531035</td>\n",
       "      <td>-0.067972</td>\n",
       "      <td>0.265922</td>\n",
       "      <td>-0.13531</td>\n",
       "      <td>0.440006</td>\n",
       "      <td>...</td>\n",
       "      <td>-0.748878</td>\n",
       "      <td>-1.018517</td>\n",
       "      <td>0.205567</td>\n",
       "      <td>-1.28139</td>\n",
       "      <td>0.395523</td>\n",
       "      <td>1.735414</td>\n",
       "      <td>0.945273</td>\n",
       "      <td>-0.186695</td>\n",
       "      <td>4.024767</td>\n",
       "      <td>-0.273612</td>\n",
       "    </tr>\n",
       "    <tr>\n",
       "      <th>TCGA-BJ-A0YZ-01</th>\n",
       "      <td>1</td>\n",
       "      <td>65</td>\n",
       "      <td>1</td>\n",
       "      <td>1.766308</td>\n",
       "      <td>0.273374</td>\n",
       "      <td>-0.531035</td>\n",
       "      <td>0.790028</td>\n",
       "      <td>1.209322</td>\n",
       "      <td>0.01229</td>\n",
       "      <td>0.704606</td>\n",
       "      <td>...</td>\n",
       "      <td>0.125322</td>\n",
       "      <td>1.568883</td>\n",
       "      <td>0.626367</td>\n",
       "      <td>2.38101</td>\n",
       "      <td>0.275823</td>\n",
       "      <td>1.820014</td>\n",
       "      <td>2.140073</td>\n",
       "      <td>1.380405</td>\n",
       "      <td>1.257367</td>\n",
       "      <td>-0.174312</td>\n",
       "    </tr>\n",
       "    <tr>\n",
       "      <th>TCGA-BJ-A0Z0-01</th>\n",
       "      <td>1</td>\n",
       "      <td>55</td>\n",
       "      <td>1</td>\n",
       "      <td>0.986808</td>\n",
       "      <td>-2.165726</td>\n",
       "      <td>-0.050935</td>\n",
       "      <td>0.051428</td>\n",
       "      <td>0.979522</td>\n",
       "      <td>0.48229</td>\n",
       "      <td>0.090106</td>\n",
       "      <td>...</td>\n",
       "      <td>-0.748878</td>\n",
       "      <td>-0.747417</td>\n",
       "      <td>-0.931133</td>\n",
       "      <td>-1.28139</td>\n",
       "      <td>-0.222077</td>\n",
       "      <td>0.293414</td>\n",
       "      <td>0.725173</td>\n",
       "      <td>-0.254095</td>\n",
       "      <td>0.530667</td>\n",
       "      <td>-0.430812</td>\n",
       "    </tr>\n",
       "    <tr>\n",
       "      <th>TCGA-BJ-A0Z2-01</th>\n",
       "      <td>1</td>\n",
       "      <td>57</td>\n",
       "      <td>1</td>\n",
       "      <td>0.767208</td>\n",
       "      <td>-1.623626</td>\n",
       "      <td>-0.531035</td>\n",
       "      <td>0.182228</td>\n",
       "      <td>0.541622</td>\n",
       "      <td>0.65889</td>\n",
       "      <td>0.647206</td>\n",
       "      <td>...</td>\n",
       "      <td>-0.748878</td>\n",
       "      <td>-1.587117</td>\n",
       "      <td>-1.292433</td>\n",
       "      <td>-1.28139</td>\n",
       "      <td>-0.602177</td>\n",
       "      <td>0.134114</td>\n",
       "      <td>0.894473</td>\n",
       "      <td>-0.380395</td>\n",
       "      <td>-2.502833</td>\n",
       "      <td>0.360588</td>\n",
       "    </tr>\n",
       "    <tr>\n",
       "      <th>TCGA-BJ-A0Z3-01</th>\n",
       "      <td>1</td>\n",
       "      <td>33</td>\n",
       "      <td>0</td>\n",
       "      <td>-0.287292</td>\n",
       "      <td>-1.766626</td>\n",
       "      <td>-0.531035</td>\n",
       "      <td>0.059628</td>\n",
       "      <td>0.920522</td>\n",
       "      <td>0.21849</td>\n",
       "      <td>0.336106</td>\n",
       "      <td>...</td>\n",
       "      <td>-0.413778</td>\n",
       "      <td>1.111583</td>\n",
       "      <td>1.158867</td>\n",
       "      <td>-1.28139</td>\n",
       "      <td>0.003723</td>\n",
       "      <td>1.240514</td>\n",
       "      <td>0.924373</td>\n",
       "      <td>-0.143495</td>\n",
       "      <td>2.613367</td>\n",
       "      <td>-0.030012</td>\n",
       "    </tr>\n",
       "  </tbody>\n",
       "</table>\n",
       "<p>5 rows × 20533 columns</p>\n",
       "</div>"
      ],
      "text/plain": [
       "                 Thyroid Cancer  Age  Gender  ARHGEF10L     HIF3A     RNF17  \\\n",
       "sampleID                                                                      \n",
       "TCGA-4C-A93U-01               1   74       0  -0.767592 -1.742926 -0.531035   \n",
       "TCGA-BJ-A0YZ-01               1   65       1   1.766308  0.273374 -0.531035   \n",
       "TCGA-BJ-A0Z0-01               1   55       1   0.986808 -2.165726 -0.050935   \n",
       "TCGA-BJ-A0Z2-01               1   57       1   0.767208 -1.623626 -0.531035   \n",
       "TCGA-BJ-A0Z3-01               1   33       0  -0.287292 -1.766626 -0.531035   \n",
       "\n",
       "                    RNF10     RNF11    RNF13   GTF2IP1  ...     TULP2  \\\n",
       "sampleID                                                ...             \n",
       "TCGA-4C-A93U-01 -0.067972  0.265922 -0.13531  0.440006  ... -0.748878   \n",
       "TCGA-BJ-A0YZ-01  0.790028  1.209322  0.01229  0.704606  ...  0.125322   \n",
       "TCGA-BJ-A0Z0-01  0.051428  0.979522  0.48229  0.090106  ... -0.748878   \n",
       "TCGA-BJ-A0Z2-01  0.182228  0.541622  0.65889  0.647206  ... -0.748878   \n",
       "TCGA-BJ-A0Z3-01  0.059628  0.920522  0.21849  0.336106  ... -0.413778   \n",
       "\n",
       "                    NPY5R     GNGT2    GNGT1     TULP3      PTRF     BCL6B  \\\n",
       "sampleID                                                                     \n",
       "TCGA-4C-A93U-01 -1.018517  0.205567 -1.28139  0.395523  1.735414  0.945273   \n",
       "TCGA-BJ-A0YZ-01  1.568883  0.626367  2.38101  0.275823  1.820014  2.140073   \n",
       "TCGA-BJ-A0Z0-01 -0.747417 -0.931133 -1.28139 -0.222077  0.293414  0.725173   \n",
       "TCGA-BJ-A0Z2-01 -1.587117 -1.292433 -1.28139 -0.602177  0.134114  0.894473   \n",
       "TCGA-BJ-A0Z3-01  1.111583  1.158867 -1.28139  0.003723  1.240514  0.924373   \n",
       "\n",
       "                    GSTK1      SELP      SELS  \n",
       "sampleID                                       \n",
       "TCGA-4C-A93U-01 -0.186695  4.024767 -0.273612  \n",
       "TCGA-BJ-A0YZ-01  1.380405  1.257367 -0.174312  \n",
       "TCGA-BJ-A0Z0-01 -0.254095  0.530667 -0.430812  \n",
       "TCGA-BJ-A0Z2-01 -0.380395 -2.502833  0.360588  \n",
       "TCGA-BJ-A0Z3-01 -0.143495  2.613367 -0.030012  \n",
       "\n",
       "[5 rows x 20533 columns]"
      ]
     },
     "execution_count": 21,
     "metadata": {},
     "output_type": "execute_result"
    }
   ],
   "source": [
    "merged_data = selected_clinical_data.join(genetic_data.T).dropna()\n",
    "merged_data.head()"
   ]
  },
  {
   "cell_type": "code",
   "execution_count": 22,
   "metadata": {
    "ExecuteTime": {
     "end_time": "2023-12-31T21:19:16.341121723Z",
     "start_time": "2023-12-31T21:19:16.330544222Z"
    }
   },
   "outputs": [
    {
     "name": "stdout",
     "output_type": "stream",
     "text": [
      "The merged dataset contains 572 samples.\n"
     ]
    }
   ],
   "source": [
    "print(f\"The merged dataset contains {len(merged_data)} samples.\")"
   ]
  },
  {
   "cell_type": "code",
   "execution_count": 23,
   "metadata": {
    "ExecuteTime": {
     "end_time": "2023-12-31T21:19:17.222505900Z",
     "start_time": "2023-12-31T21:19:17.218781412Z"
    }
   },
   "outputs": [
    {
     "name": "stdout",
     "output_type": "stream",
     "text": [
      "For the feature 'Thyroid Cancer', the least common label is '0' with 59 occurrences. This represents 10.31% of the dataset.\n",
      "The distribution of the feature 'Thyroid Cancer' in this dataset is fine.\n",
      "\n",
      "Quartiles for 'Age':\n",
      "  25%: 34.0\n",
      "  50% (Median): 46.0\n",
      "  75%: 58.0\n",
      "Min: 15\n",
      "Max: 89\n",
      "The distribution of the feature 'Age' in this dataset is fine.\n",
      "\n",
      "For the feature 'Gender', the least common label is '1' with 157 occurrences. This represents 27.45% of the dataset.\n",
      "The distribution of the feature 'Gender' in this dataset is fine.\n",
      "\n"
     ]
    },
    {
     "data": {
      "text/plain": [
       "False"
      ]
     },
     "execution_count": 23,
     "metadata": {},
     "output_type": "execute_result"
    }
   ],
   "source": [
    "is_trait_biased, merge_data = judge_and_remove_biased_features(merged_data, TRAIT, trait_type=trait_type)\n",
    "is_trait_biased"
   ]
  },
  {
   "cell_type": "code",
   "execution_count": 24,
   "metadata": {
    "ExecuteTime": {
     "end_time": "2023-12-31T21:19:35.401536463Z",
     "start_time": "2023-12-31T21:19:17.980683628Z"
    }
   },
   "outputs": [],
   "source": [
    "merged_data.head()\n",
    "if not is_trait_biased:\n",
    "    merge_data.to_csv(os.path.join(OUTPUT_DIR, cohort+'.csv'), index=False)"
   ]
  },
  {
   "cell_type": "code",
   "execution_count": 25,
   "metadata": {
    "ExecuteTime": {
     "end_time": "2023-12-31T21:19:35.405288661Z",
     "start_time": "2023-12-31T21:19:35.402799553Z"
    }
   },
   "outputs": [
    {
     "name": "stdout",
     "output_type": "stream",
     "text": [
      "A new JSON file was created at: ../../output1/Jinglin/Thyroid-Cancer/cohort_info.json\n"
     ]
    }
   ],
   "source": [
    "save_cohort_info(cohort, JSON_PATH, is_available, is_trait_biased, merged_data)"
   ]
  },
  {
   "cell_type": "markdown",
   "metadata": {
    "ExecuteTime": {
     "end_time": "2023-12-28T21:28:38.028916303Z",
     "start_time": "2023-12-28T21:28:38.016245426Z"
    }
   },
   "source": [
    "## 2.2. The GEO dataset"
   ]
  },
  {
   "cell_type": "markdown",
   "metadata": {
    "ExecuteTime": {
     "end_time": "2023-12-31T03:25:23.253882615Z",
     "start_time": "2023-12-31T03:25:23.244062710Z"
    }
   },
   "source": [
    "In GEO, there may be one or multiple cohorts for a trait. Each cohort is identified by an accession number. We iterate over all accession numbers in the corresponding subdirectory, preprocess the cohort data, and save them to csv files."
   ]
  },
  {
   "cell_type": "code",
   "execution_count": 4,
   "metadata": {
    "ExecuteTime": {
     "end_time": "2023-12-31T21:19:35.411177575Z",
     "start_time": "2023-12-31T21:19:35.405710636Z"
    }
   },
   "outputs": [
    {
     "data": {
      "text/plain": [
       "['GSE171950',\n",
       " 'GSE193442',\n",
       " 'GSE189788',\n",
       " '.DS_Store',\n",
       " 'GSE215450',\n",
       " 'GSE153459',\n",
       " 'GSE224457',\n",
       " 'GSE190847']"
      ]
     },
     "execution_count": 4,
     "metadata": {},
     "output_type": "execute_result"
    }
   ],
   "source": [
    "dataset = 'GEO'\n",
    "trait_subdir = \"Multiple-sclerosis\"\n",
    "\n",
    "trait_path = os.path.join(DATA_ROOT, dataset, trait_subdir)\n",
    "os.listdir(trait_path)"
   ]
  },
  {
   "cell_type": "markdown",
   "metadata": {
    "ExecuteTime": {
     "end_time": "2023-12-31T03:39:42.634870142Z",
     "start_time": "2023-12-31T03:39:42.534093295Z"
    }
   },
   "source": [
    "Repeat the below steps for all the accession numbers"
   ]
  },
  {
   "cell_type": "code",
   "execution_count": 39,
   "metadata": {
    "ExecuteTime": {
     "end_time": "2023-12-31T21:19:35.413836016Z",
     "start_time": "2023-12-31T21:19:35.410443976Z"
    }
   },
   "outputs": [
    {
     "data": {
      "text/plain": [
       "('../../DATA/GEO/Multiple-sclerosis/GSE215450/GSE215450_family.soft.gz',\n",
       " '../../DATA/GEO/Multiple-sclerosis/GSE215450/GSE215450_series_matrix.txt.gz')"
      ]
     },
     "execution_count": 39,
     "metadata": {},
     "output_type": "execute_result"
    }
   ],
   "source": [
    "cohort = accession_num = \"GSE215450\"\n",
    "cohort_dir = os.path.join(trait_path, accession_num)\n",
    "soft_file, matrix_file = get_relevant_filepaths(cohort_dir)\n",
    "soft_file, matrix_file"
   ]
  },
  {
   "cell_type": "markdown",
   "metadata": {},
   "source": [
    "### Inital filtering and clinical data preprocessing"
   ]
  },
  {
   "cell_type": "code",
   "execution_count": 40,
   "metadata": {
    "ExecuteTime": {
     "end_time": "2023-12-31T21:19:35.492119842Z",
     "start_time": "2023-12-31T21:19:35.413383102Z"
    }
   },
   "outputs": [
    {
     "name": "stdout",
     "output_type": "stream",
     "text": [
      "!Series_title\t\"Circulating microRNAs in relapsing MS patients treated with dimethyl fumarate in the phase 4 TREMEND trial\"\n",
      "!Series_summary\t\"Dimethyl fumarate (DMF) is an oral drug approved for relapsing multiple sclerosis (MS) that leads to reduction of neurofilament light (NFL).  This may be related to dynamics and persistence of microRNA signatures in the peripheral blood of treatment-naïve MS patients before and after dimethyl fumarate (DMF) at different time points. 210 blood samples were collected from 51 treatment-naïve patients at baseline (BL) and after 1-3, 4-7, 9-15 and 21-27 months of DMF and from 22 controls from the phase IV TREMEND trial. Using microarray, 1,085 miRNAs were two-folds above the background and compared versus NFL. Altered miRNA profiles peaked after 4-7 months. MiR-16-5p and miR-4306, involved in the NF-kB-pathway, were upregulated in low NFL samples, while miR-940 and miR-4665-3p were upregulated in high NFL samples. NFL and miRNA correlations were strongest after 4-7 months DMF. In four patients with blood samples taken at all 5 time points, time-series analysis found miR-146a-5p, the inhibitor of the NF-kB-pathway, increased 1-3 months after treatment. DMF induces dynamic changes in composite miRNA profiles 4-7 months after initiation, several involved in the NF-kB-pathway. Upregulation of miR-16-5p and miR-4306 in low-NFL, while miR-940 and miR-4665-3p in high-NFL samples may indicate a response to DMF treatment.\"\n",
      "!Series_overall_design\t\"210 blood samples from the TREMEND (Tecfidera in Relapsing-Remitting Multiple Sclerosis: Endothelial Dysfunction) phase IV clinical trial was divided into six different groups. Controls: blood 22 healthy controls. Baseline: 51 RRMS patients before Tecfidera (DMF) treatment. Early: 45 RRMS patients 1-3 month after DMF treatment. Intermediate: 20 RRMS patients 4-7 month after DMF treatment. 1-year: 49 RRMS patient after 1-year with DMF treatment. Long term: 23 RRMS patients 2 years after start of treatment with DMF.  MicroRNA detections from RNA extracts of the whole blood samples were obtained with miRNA Microarray System.\"\n"
     ]
    }
   ],
   "source": [
    "background_prefixes = ['!Series_title', '!Series_summary', '!Series_overall_design']\n",
    "clinical_prefixes = ['!Sample_geo_accession', '!Sample_characteristics_ch1']\n",
    "\n",
    "background_info, clinical_data = get_background_and_clinical_data(matrix_file, background_prefixes, clinical_prefixes)\n",
    "print(background_info)"
   ]
  },
  {
   "cell_type": "code",
   "execution_count": 41,
   "metadata": {
    "ExecuteTime": {
     "end_time": "2023-12-31T21:19:35.507840422Z",
     "start_time": "2023-12-31T21:19:35.451789107Z"
    }
   },
   "outputs": [
    {
     "data": {
      "text/html": [
       "<div>\n",
       "<style scoped>\n",
       "    .dataframe tbody tr th:only-of-type {\n",
       "        vertical-align: middle;\n",
       "    }\n",
       "\n",
       "    .dataframe tbody tr th {\n",
       "        vertical-align: top;\n",
       "    }\n",
       "\n",
       "    .dataframe thead th {\n",
       "        text-align: right;\n",
       "    }\n",
       "</style>\n",
       "<table border=\"1\" class=\"dataframe\">\n",
       "  <thead>\n",
       "    <tr style=\"text-align: right;\">\n",
       "      <th></th>\n",
       "      <th>!Sample_geo_accession</th>\n",
       "      <th>GSM6668434</th>\n",
       "      <th>GSM6668435</th>\n",
       "      <th>GSM6668436</th>\n",
       "      <th>GSM6668437</th>\n",
       "      <th>GSM6668438</th>\n",
       "      <th>GSM6668439</th>\n",
       "      <th>GSM6668440</th>\n",
       "      <th>GSM6668441</th>\n",
       "      <th>GSM6668442</th>\n",
       "      <th>...</th>\n",
       "      <th>GSM6668635</th>\n",
       "      <th>GSM6668636</th>\n",
       "      <th>GSM6668637</th>\n",
       "      <th>GSM6668638</th>\n",
       "      <th>GSM6668639</th>\n",
       "      <th>GSM6668640</th>\n",
       "      <th>GSM6668641</th>\n",
       "      <th>GSM6668642</th>\n",
       "      <th>GSM6668643</th>\n",
       "      <th>GSM6668644</th>\n",
       "    </tr>\n",
       "  </thead>\n",
       "  <tbody>\n",
       "    <tr>\n",
       "      <th>0</th>\n",
       "      <td>!Sample_characteristics_ch1</td>\n",
       "      <td>tissue: whole blood</td>\n",
       "      <td>tissue: whole blood</td>\n",
       "      <td>tissue: whole blood</td>\n",
       "      <td>tissue: whole blood</td>\n",
       "      <td>tissue: whole blood</td>\n",
       "      <td>tissue: whole blood</td>\n",
       "      <td>tissue: whole blood</td>\n",
       "      <td>tissue: whole blood</td>\n",
       "      <td>tissue: whole blood</td>\n",
       "      <td>...</td>\n",
       "      <td>tissue: whole blood</td>\n",
       "      <td>tissue: whole blood</td>\n",
       "      <td>tissue: whole blood</td>\n",
       "      <td>tissue: whole blood</td>\n",
       "      <td>tissue: whole blood</td>\n",
       "      <td>tissue: whole blood</td>\n",
       "      <td>tissue: whole blood</td>\n",
       "      <td>tissue: whole blood</td>\n",
       "      <td>tissue: whole blood</td>\n",
       "      <td>tissue: whole blood</td>\n",
       "    </tr>\n",
       "    <tr>\n",
       "      <th>1</th>\n",
       "      <td>!Sample_characteristics_ch1</td>\n",
       "      <td>timepoint: Control</td>\n",
       "      <td>timepoint: Control</td>\n",
       "      <td>timepoint: Control</td>\n",
       "      <td>timepoint: Control</td>\n",
       "      <td>timepoint: Control</td>\n",
       "      <td>timepoint: Control</td>\n",
       "      <td>timepoint: Control</td>\n",
       "      <td>timepoint: Control</td>\n",
       "      <td>timepoint: Control</td>\n",
       "      <td>...</td>\n",
       "      <td>timepoint: 1-year group</td>\n",
       "      <td>timepoint: Long term group</td>\n",
       "      <td>timepoint: Baseline group</td>\n",
       "      <td>timepoint: Early group</td>\n",
       "      <td>timepoint: Early group</td>\n",
       "      <td>timepoint: 1-year group</td>\n",
       "      <td>timepoint: Baseline group</td>\n",
       "      <td>timepoint: Intermediate group</td>\n",
       "      <td>timepoint: 1-year group</td>\n",
       "      <td>timepoint: 1-year group</td>\n",
       "    </tr>\n",
       "    <tr>\n",
       "      <th>2</th>\n",
       "      <td>!Sample_characteristics_ch1</td>\n",
       "      <td>age: 51</td>\n",
       "      <td>age: 29</td>\n",
       "      <td>age: 35</td>\n",
       "      <td>age: 31</td>\n",
       "      <td>age: 43</td>\n",
       "      <td>age: 30</td>\n",
       "      <td>age: 22</td>\n",
       "      <td>age: 30</td>\n",
       "      <td>age: 23</td>\n",
       "      <td>...</td>\n",
       "      <td>age: 22</td>\n",
       "      <td>age: 22</td>\n",
       "      <td>age: 40</td>\n",
       "      <td>age: 40</td>\n",
       "      <td>age: 40</td>\n",
       "      <td>age: 40</td>\n",
       "      <td>age: 27</td>\n",
       "      <td>age: 27</td>\n",
       "      <td>age: 27</td>\n",
       "      <td>age: 27</td>\n",
       "    </tr>\n",
       "    <tr>\n",
       "      <th>3</th>\n",
       "      <td>!Sample_characteristics_ch1</td>\n",
       "      <td>Sex: female</td>\n",
       "      <td>Sex: female</td>\n",
       "      <td>Sex: female</td>\n",
       "      <td>Sex: male</td>\n",
       "      <td>Sex: female</td>\n",
       "      <td>Sex: male</td>\n",
       "      <td>Sex: female</td>\n",
       "      <td>Sex: female</td>\n",
       "      <td>Sex: female</td>\n",
       "      <td>...</td>\n",
       "      <td>Sex: female</td>\n",
       "      <td>Sex: female</td>\n",
       "      <td>Sex: female</td>\n",
       "      <td>Sex: female</td>\n",
       "      <td>Sex: female</td>\n",
       "      <td>Sex: female</td>\n",
       "      <td>Sex: female</td>\n",
       "      <td>Sex: female</td>\n",
       "      <td>Sex: female</td>\n",
       "      <td>Sex: female</td>\n",
       "    </tr>\n",
       "  </tbody>\n",
       "</table>\n",
       "<p>4 rows × 212 columns</p>\n",
       "</div>"
      ],
      "text/plain": [
       "         !Sample_geo_accession           GSM6668434           GSM6668435  \\\n",
       "0  !Sample_characteristics_ch1  tissue: whole blood  tissue: whole blood   \n",
       "1  !Sample_characteristics_ch1   timepoint: Control   timepoint: Control   \n",
       "2  !Sample_characteristics_ch1              age: 51              age: 29   \n",
       "3  !Sample_characteristics_ch1          Sex: female          Sex: female   \n",
       "\n",
       "            GSM6668436           GSM6668437           GSM6668438  \\\n",
       "0  tissue: whole blood  tissue: whole blood  tissue: whole blood   \n",
       "1   timepoint: Control   timepoint: Control   timepoint: Control   \n",
       "2              age: 35              age: 31              age: 43   \n",
       "3          Sex: female            Sex: male          Sex: female   \n",
       "\n",
       "            GSM6668439           GSM6668440           GSM6668441  \\\n",
       "0  tissue: whole blood  tissue: whole blood  tissue: whole blood   \n",
       "1   timepoint: Control   timepoint: Control   timepoint: Control   \n",
       "2              age: 30              age: 22              age: 30   \n",
       "3            Sex: male          Sex: female          Sex: female   \n",
       "\n",
       "            GSM6668442  ...               GSM6668635  \\\n",
       "0  tissue: whole blood  ...      tissue: whole blood   \n",
       "1   timepoint: Control  ...  timepoint: 1-year group   \n",
       "2              age: 23  ...                  age: 22   \n",
       "3          Sex: female  ...              Sex: female   \n",
       "\n",
       "                   GSM6668636                 GSM6668637  \\\n",
       "0         tissue: whole blood        tissue: whole blood   \n",
       "1  timepoint: Long term group  timepoint: Baseline group   \n",
       "2                     age: 22                    age: 40   \n",
       "3                 Sex: female                Sex: female   \n",
       "\n",
       "               GSM6668638              GSM6668639               GSM6668640  \\\n",
       "0     tissue: whole blood     tissue: whole blood      tissue: whole blood   \n",
       "1  timepoint: Early group  timepoint: Early group  timepoint: 1-year group   \n",
       "2                 age: 40                 age: 40                  age: 40   \n",
       "3             Sex: female             Sex: female              Sex: female   \n",
       "\n",
       "                  GSM6668641                     GSM6668642  \\\n",
       "0        tissue: whole blood            tissue: whole blood   \n",
       "1  timepoint: Baseline group  timepoint: Intermediate group   \n",
       "2                    age: 27                        age: 27   \n",
       "3                Sex: female                    Sex: female   \n",
       "\n",
       "                GSM6668643               GSM6668644  \n",
       "0      tissue: whole blood      tissue: whole blood  \n",
       "1  timepoint: 1-year group  timepoint: 1-year group  \n",
       "2                  age: 27                  age: 27  \n",
       "3              Sex: female              Sex: female  \n",
       "\n",
       "[4 rows x 212 columns]"
      ]
     },
     "execution_count": 41,
     "metadata": {},
     "output_type": "execute_result"
    }
   ],
   "source": [
    "clinical_data.head()"
   ]
  },
  {
   "cell_type": "code",
   "execution_count": 42,
   "metadata": {
    "ExecuteTime": {
     "end_time": "2023-12-31T21:19:35.508015426Z",
     "start_time": "2023-12-31T21:19:35.492746637Z"
    }
   },
   "outputs": [
    {
     "data": {
      "text/plain": [
       "{0: ['tissue: whole blood'],\n",
       " 1: ['timepoint: Control',\n",
       "  'timepoint: Baseline group',\n",
       "  'timepoint: Early group',\n",
       "  'timepoint: 1-year group',\n",
       "  'timepoint: Long term group',\n",
       "  'timepoint: Intermediate group'],\n",
       " 2: ['age: 51',\n",
       "  'age: 29',\n",
       "  'age: 35',\n",
       "  'age: 31',\n",
       "  'age: 43',\n",
       "  'age: 30',\n",
       "  'age: 22',\n",
       "  'age: 23',\n",
       "  'age: 40',\n",
       "  'age: 27',\n",
       "  'age: 44',\n",
       "  'age: 49',\n",
       "  'age: 41',\n",
       "  'age: 46',\n",
       "  'age: 48',\n",
       "  'age: 19',\n",
       "  'age: 20',\n",
       "  'age: 24',\n",
       "  'age: 26',\n",
       "  'age: 25',\n",
       "  'age: 33',\n",
       "  'age: 47',\n",
       "  'age: 37',\n",
       "  'age: 32',\n",
       "  'age: 28',\n",
       "  'age: 34',\n",
       "  'age: 18',\n",
       "  'age: 36',\n",
       "  'age: 42',\n",
       "  'age: 38'],\n",
       " 3: ['Sex: female', 'Sex: male']}"
      ]
     },
     "execution_count": 42,
     "metadata": {},
     "output_type": "execute_result"
    }
   ],
   "source": [
    "clinical_data_unique = get_unique_values_by_row(clinical_data)\n",
    "clinical_data_unique"
   ]
  },
  {
   "cell_type": "markdown",
   "metadata": {
    "ExecuteTime": {
     "end_time": "2023-12-31T03:58:04.978204446Z",
     "start_time": "2023-12-31T03:58:04.922270095Z"
    }
   },
   "source": [
    "Analyze the metadata to determine data relevance and find ways to extract the clinical data.\n",
    "Reference prompt:"
   ]
  },
  {
   "cell_type": "code",
   "execution_count": 43,
   "metadata": {
    "ExecuteTime": {
     "end_time": "2023-12-31T21:19:35.508232400Z",
     "start_time": "2023-12-31T21:19:35.492903487Z"
    }
   },
   "outputs": [
    {
     "data": {
      "text/plain": [
       "'As a biomedical research team, we are selecting datasets to study the association between the human trait \\'Multiple sclerosis\\' and genetic factors, optionally considering the influence of age and gender. After searching the GEO database and parsing the matrix file of a series, we obtained background information and sample characteristics data. We will provide textual information about the dataset background, and a Python dictionary storing a list of unique values for each field of the sample characteristics data. Please carefully review the provided information and answer the following questions about this dataset:\\n1. Does this dataset contain gene expression data? (Note: Pure miRNA data is not suitable.)\\n2. For each of the traits \\'Multiple sclerosis\\', \\'age\\', and \\'gender\\', please address these points:\\n   (1) Is there human data available for this trait?\\n   (2) If so, identify the key in the sample characteristics dictionary where unique values of this trait is recorded. The key is an integer. The trait information might be explicitly recorded, or can be inferred from the field with some biomedical knowledge or understanding about the data collection process.\\n   (3) Choose an appropriate data type (either \\'continuous\\' or \\'binary\\') for each trait. Write a Python function to convert any given value of the trait to this data type. The function should handle inference about the trait value and convert unknown values to None.\\n   Name the functions \\'convert_trait\\', \\'convert_age\\', and \\'convert_gender\\', respectively.\\n   NOTE: Function \"convert_trait\" should return 1 or 0.\\nBackground information about the dataset:\\n!Series_title\\t\"Circulating microRNAs in relapsing MS patients treated with dimethyl fumarate in the phase 4 TREMEND trial\"\\n!Series_summary\\t\"Dimethyl fumarate (DMF) is an oral drug approved for relapsing multiple sclerosis (MS) that leads to reduction of neurofilament light (NFL).  This may be related to dynamics and persistence of microRNA signatures in the peripheral blood of treatment-naïve MS patients before and after dimethyl fumarate (DMF) at different time points. 210 blood samples were collected from 51 treatment-naïve patients at baseline (BL) and after 1-3, 4-7, 9-15 and 21-27 months of DMF and from 22 controls from the phase IV TREMEND trial. Using microarray, 1,085 miRNAs were two-folds above the background and compared versus NFL. Altered miRNA profiles peaked after 4-7 months. MiR-16-5p and miR-4306, involved in the NF-kB-pathway, were upregulated in low NFL samples, while miR-940 and miR-4665-3p were upregulated in high NFL samples. NFL and miRNA correlations were strongest after 4-7 months DMF. In four patients with blood samples taken at all 5 time points, time-series analysis found miR-146a-5p, the inhibitor of the NF-kB-pathway, increased 1-3 months after treatment. DMF induces dynamic changes in composite miRNA profiles 4-7 months after initiation, several involved in the NF-kB-pathway. Upregulation of miR-16-5p and miR-4306 in low-NFL, while miR-940 and miR-4665-3p in high-NFL samples may indicate a response to DMF treatment.\"\\n!Series_overall_design\\t\"210 blood samples from the TREMEND (Tecfidera in Relapsing-Remitting Multiple Sclerosis: Endothelial Dysfunction) phase IV clinical trial was divided into six different groups. Controls: blood 22 healthy controls. Baseline: 51 RRMS patients before Tecfidera (DMF) treatment. Early: 45 RRMS patients 1-3 month after DMF treatment. Intermediate: 20 RRMS patients 4-7 month after DMF treatment. 1-year: 49 RRMS patient after 1-year with DMF treatment. Long term: 23 RRMS patients 2 years after start of treatment with DMF.  MicroRNA detections from RNA extracts of the whole blood samples were obtained with miRNA Microarray System.\"\\n\\nSample characteristics dictionary (from \"!Sample_characteristics_ch1\", converted to a Python dictionary that stores the unique values for each field):\\n{0: [\\'tissue: whole blood\\'], 1: [\\'timepoint: Control\\', \\'timepoint: Baseline group\\', \\'timepoint: Early group\\', \\'timepoint: 1-year group\\', \\'timepoint: Long term group\\', \\'timepoint: Intermediate group\\'], 2: [\\'age: 51\\', \\'age: 29\\', \\'age: 35\\', \\'age: 31\\', \\'age: 43\\', \\'age: 30\\', \\'age: 22\\', \\'age: 23\\', \\'age: 40\\', \\'age: 27\\', \\'age: 44\\', \\'age: 49\\', \\'age: 41\\', \\'age: 46\\', \\'age: 48\\', \\'age: 19\\', \\'age: 20\\', \\'age: 24\\', \\'age: 26\\', \\'age: 25\\', \\'age: 33\\', \\'age: 47\\', \\'age: 37\\', \\'age: 32\\', \\'age: 28\\', \\'age: 34\\', \\'age: 18\\', \\'age: 36\\', \\'age: 42\\', \\'age: 38\\'], 3: [\\'Sex: female\\', \\'Sex: male\\']}\\n'"
      ]
     },
     "execution_count": 43,
     "metadata": {},
     "output_type": "execute_result"
    }
   ],
   "source": [
    "f'''As a biomedical research team, we are selecting datasets to study the association between the human trait \\'{TRAIT}\\' and genetic factors, optionally considering the influence of age and gender. After searching the GEO database and parsing the matrix file of a series, we obtained background information and sample characteristics data. We will provide textual information about the dataset background, and a Python dictionary storing a list of unique values for each field of the sample characteristics data. Please carefully review the provided information and answer the following questions about this dataset:\n",
    "1. Does this dataset contain gene expression data? (Note: Pure miRNA data is not suitable.)\n",
    "2. For each of the traits \\'{TRAIT}\\', 'age', and 'gender', please address these points:\n",
    "   (1) Is there human data available for this trait?\n",
    "   (2) If so, identify the key in the sample characteristics dictionary where unique values of this trait is recorded. The key is an integer. The trait information might be explicitly recorded, or can be inferred from the field with some biomedical knowledge or understanding about the data collection process.\n",
    "   (3) Choose an appropriate data type (either 'continuous' or 'binary') for each trait. Write a Python function to convert any given value of the trait to this data type. The function should handle inference about the trait value and convert unknown values to None.\n",
    "   Name the functions 'convert_trait', 'convert_age', and 'convert_gender', respectively.\n",
    "   NOTE: Function \"convert_trait\" should return 1 or 0.\n",
    "Background information about the dataset:\n",
    "{background_info}\n",
    "\n",
    "Sample characteristics dictionary (from \"!Sample_characteristics_ch1\", converted to a Python dictionary that stores the unique values for each field):\n",
    "{clinical_data_unique}\n",
    "'''"
   ]
  },
  {
   "cell_type": "markdown",
   "metadata": {
    "ExecuteTime": {
     "end_time": "2023-12-31T03:58:04.978240504Z",
     "start_time": "2023-12-31T03:58:04.922365324Z"
    }
   },
   "source": [
    "Understand and verify the answer from GPT, to assign values to the below variables. Assign None to the 'row_id' variables if relevant data row was not found.\n",
    "Later we need to let GPT format its answer to automatically do these. But given the complexity of this step, let's grow some insight from the free-text answers for now."
   ]
  },
  {
   "cell_type": "code",
   "execution_count": 44,
   "metadata": {},
   "outputs": [],
   "source": [
    "age_row = gender_row = None\n",
    "convert_age = convert_gender = None"
   ]
  },
  {
   "cell_type": "code",
   "execution_count": 45,
   "metadata": {
    "ExecuteTime": {
     "end_time": "2023-12-31T21:19:35.508295660Z",
     "start_time": "2023-12-31T21:19:35.493015671Z"
    }
   },
   "outputs": [],
   "source": [
    "is_gene_availabe = True\n",
    "trait_row = 1\n",
    "age_row = 2\n",
    "gender_row = 3\n",
    "\n",
    "trait_type = 'binary'"
   ]
  },
  {
   "cell_type": "code",
   "execution_count": 46,
   "metadata": {
    "ExecuteTime": {
     "end_time": "2023-12-31T21:19:35.508365153Z",
     "start_time": "2023-12-31T21:19:35.493151450Z"
    }
   },
   "outputs": [],
   "source": [
    "is_available = is_gene_availabe and (trait_row is not None)\n",
    "if not is_available:\n",
    "    save_cohort_info(cohort, JSON_PATH, is_available)\n",
    "    print(\"This cohort is not usable. Please skip the following steps and jump to the next accession number.\")"
   ]
  },
  {
   "cell_type": "code",
   "execution_count": 49,
   "metadata": {
    "ExecuteTime": {
     "end_time": "2023-12-31T21:19:35.508426069Z",
     "start_time": "2023-12-31T21:19:35.493220101Z"
    }
   },
   "outputs": [],
   "source": [
    "def convert_trait(value):\n",
    "    \"\"\"\n",
    "    Converts a given value to a binary representation for the presence of Multiple Sclerosis.\n",
    "    Returns 1 if MS is present, 0 if healthy control, and None for unknown values.\n",
    "    \"\"\"\n",
    "    if 'Baseline' in value or 'Early' in value:\n",
    "        return 1\n",
    "    elif 'Control' in value:\n",
    "        return 0\n",
    "    else:\n",
    "        return None\n",
    "\n",
    "def convert_age(value):\n",
    "    \"\"\"\n",
    "    Converts a given value to a continuous data type for age.\n",
    "    Returns the age as an integer, or None for unknown values.\n",
    "    \"\"\"\n",
    "    try:\n",
    "        return int(value.split(': ')[1])\n",
    "    except (ValueError, IndexError):\n",
    "        return None\n",
    "\n",
    "def convert_gender(value):\n",
    "    \"\"\"\n",
    "    Converts a given value to a binary representation for gender.\n",
    "    Returns 1 for female, 0 for male, and None for unknown values.\n",
    "    \"\"\"\n",
    "    if value == 'Sex: female':\n",
    "        return 1\n",
    "    elif value == 'Sex: male':\n",
    "        return 0\n",
    "    else:\n",
    "        return None\n"
   ]
  },
  {
   "cell_type": "code",
   "execution_count": 50,
   "metadata": {
    "ExecuteTime": {
     "end_time": "2023-12-31T21:19:35.508533013Z",
     "start_time": "2023-12-31T21:19:35.493272992Z"
    }
   },
   "outputs": [
    {
     "data": {
      "text/html": [
       "<div>\n",
       "<style scoped>\n",
       "    .dataframe tbody tr th:only-of-type {\n",
       "        vertical-align: middle;\n",
       "    }\n",
       "\n",
       "    .dataframe tbody tr th {\n",
       "        vertical-align: top;\n",
       "    }\n",
       "\n",
       "    .dataframe thead th {\n",
       "        text-align: right;\n",
       "    }\n",
       "</style>\n",
       "<table border=\"1\" class=\"dataframe\">\n",
       "  <thead>\n",
       "    <tr style=\"text-align: right;\">\n",
       "      <th></th>\n",
       "      <th>GSM6668434</th>\n",
       "      <th>GSM6668435</th>\n",
       "      <th>GSM6668436</th>\n",
       "      <th>GSM6668437</th>\n",
       "      <th>GSM6668438</th>\n",
       "      <th>GSM6668439</th>\n",
       "      <th>GSM6668440</th>\n",
       "      <th>GSM6668441</th>\n",
       "      <th>GSM6668442</th>\n",
       "      <th>GSM6668443</th>\n",
       "      <th>...</th>\n",
       "      <th>GSM6668635</th>\n",
       "      <th>GSM6668636</th>\n",
       "      <th>GSM6668637</th>\n",
       "      <th>GSM6668638</th>\n",
       "      <th>GSM6668639</th>\n",
       "      <th>GSM6668640</th>\n",
       "      <th>GSM6668641</th>\n",
       "      <th>GSM6668642</th>\n",
       "      <th>GSM6668643</th>\n",
       "      <th>GSM6668644</th>\n",
       "    </tr>\n",
       "  </thead>\n",
       "  <tbody>\n",
       "    <tr>\n",
       "      <th>Multiple sclerosis</th>\n",
       "      <td>0</td>\n",
       "      <td>0</td>\n",
       "      <td>0</td>\n",
       "      <td>0</td>\n",
       "      <td>0</td>\n",
       "      <td>0</td>\n",
       "      <td>0</td>\n",
       "      <td>0</td>\n",
       "      <td>0</td>\n",
       "      <td>0</td>\n",
       "      <td>...</td>\n",
       "      <td>None</td>\n",
       "      <td>None</td>\n",
       "      <td>1</td>\n",
       "      <td>1</td>\n",
       "      <td>1</td>\n",
       "      <td>None</td>\n",
       "      <td>1</td>\n",
       "      <td>None</td>\n",
       "      <td>None</td>\n",
       "      <td>None</td>\n",
       "    </tr>\n",
       "    <tr>\n",
       "      <th>Age</th>\n",
       "      <td>51</td>\n",
       "      <td>29</td>\n",
       "      <td>35</td>\n",
       "      <td>31</td>\n",
       "      <td>43</td>\n",
       "      <td>30</td>\n",
       "      <td>22</td>\n",
       "      <td>30</td>\n",
       "      <td>23</td>\n",
       "      <td>40</td>\n",
       "      <td>...</td>\n",
       "      <td>22</td>\n",
       "      <td>22</td>\n",
       "      <td>40</td>\n",
       "      <td>40</td>\n",
       "      <td>40</td>\n",
       "      <td>40</td>\n",
       "      <td>27</td>\n",
       "      <td>27</td>\n",
       "      <td>27</td>\n",
       "      <td>27</td>\n",
       "    </tr>\n",
       "    <tr>\n",
       "      <th>Gender</th>\n",
       "      <td>1</td>\n",
       "      <td>1</td>\n",
       "      <td>1</td>\n",
       "      <td>0</td>\n",
       "      <td>1</td>\n",
       "      <td>0</td>\n",
       "      <td>1</td>\n",
       "      <td>1</td>\n",
       "      <td>1</td>\n",
       "      <td>1</td>\n",
       "      <td>...</td>\n",
       "      <td>1</td>\n",
       "      <td>1</td>\n",
       "      <td>1</td>\n",
       "      <td>1</td>\n",
       "      <td>1</td>\n",
       "      <td>1</td>\n",
       "      <td>1</td>\n",
       "      <td>1</td>\n",
       "      <td>1</td>\n",
       "      <td>1</td>\n",
       "    </tr>\n",
       "  </tbody>\n",
       "</table>\n",
       "<p>3 rows × 211 columns</p>\n",
       "</div>"
      ],
      "text/plain": [
       "                    GSM6668434  GSM6668435  GSM6668436  GSM6668437  \\\n",
       "Multiple sclerosis           0           0           0           0   \n",
       "Age                         51          29          35          31   \n",
       "Gender                       1           1           1           0   \n",
       "\n",
       "                    GSM6668438  GSM6668439  GSM6668440  GSM6668441  \\\n",
       "Multiple sclerosis           0           0           0           0   \n",
       "Age                         43          30          22          30   \n",
       "Gender                       1           0           1           1   \n",
       "\n",
       "                    GSM6668442  GSM6668443  ...  GSM6668635  GSM6668636  \\\n",
       "Multiple sclerosis           0           0  ...        None        None   \n",
       "Age                         23          40  ...          22          22   \n",
       "Gender                       1           1  ...           1           1   \n",
       "\n",
       "                    GSM6668637  GSM6668638  GSM6668639  GSM6668640  \\\n",
       "Multiple sclerosis           1           1           1        None   \n",
       "Age                         40          40          40          40   \n",
       "Gender                       1           1           1           1   \n",
       "\n",
       "                    GSM6668641  GSM6668642  GSM6668643  GSM6668644  \n",
       "Multiple sclerosis           1        None        None        None  \n",
       "Age                         27          27          27          27  \n",
       "Gender                       1           1           1           1  \n",
       "\n",
       "[3 rows x 211 columns]"
      ]
     },
     "execution_count": 50,
     "metadata": {},
     "output_type": "execute_result"
    }
   ],
   "source": [
    "selected_clinical_data = geo_select_clinical_features(clinical_data, TRAIT, trait_row, convert_trait, age_row=age_row,\n",
    "                                                      convert_age=convert_age, gender_row=gender_row,\n",
    "                                                      convert_gender=convert_gender)\n",
    "selected_clinical_data.head()"
   ]
  },
  {
   "cell_type": "markdown",
   "metadata": {
    "ExecuteTime": {
     "end_time": "2023-12-31T03:58:04.978664193Z",
     "start_time": "2023-12-31T03:58:04.966117261Z"
    }
   },
   "source": [
    "### Genetic data preprocessing and final filtering"
   ]
  },
  {
   "cell_type": "code",
   "execution_count": 51,
   "metadata": {
    "ExecuteTime": {
     "end_time": "2023-12-31T21:19:35.590261560Z",
     "start_time": "2023-12-31T21:19:35.493320362Z"
    }
   },
   "outputs": [
    {
     "data": {
      "text/html": [
       "<div>\n",
       "<style scoped>\n",
       "    .dataframe tbody tr th:only-of-type {\n",
       "        vertical-align: middle;\n",
       "    }\n",
       "\n",
       "    .dataframe tbody tr th {\n",
       "        vertical-align: top;\n",
       "    }\n",
       "\n",
       "    .dataframe thead th {\n",
       "        text-align: right;\n",
       "    }\n",
       "</style>\n",
       "<table border=\"1\" class=\"dataframe\">\n",
       "  <thead>\n",
       "    <tr style=\"text-align: right;\">\n",
       "      <th></th>\n",
       "      <th>GSM6668434</th>\n",
       "      <th>GSM6668435</th>\n",
       "      <th>GSM6668436</th>\n",
       "      <th>GSM6668437</th>\n",
       "      <th>GSM6668438</th>\n",
       "      <th>GSM6668439</th>\n",
       "      <th>GSM6668440</th>\n",
       "      <th>GSM6668441</th>\n",
       "      <th>GSM6668442</th>\n",
       "      <th>GSM6668443</th>\n",
       "      <th>...</th>\n",
       "      <th>GSM6668635</th>\n",
       "      <th>GSM6668636</th>\n",
       "      <th>GSM6668637</th>\n",
       "      <th>GSM6668638</th>\n",
       "      <th>GSM6668639</th>\n",
       "      <th>GSM6668640</th>\n",
       "      <th>GSM6668641</th>\n",
       "      <th>GSM6668642</th>\n",
       "      <th>GSM6668643</th>\n",
       "      <th>GSM6668644</th>\n",
       "    </tr>\n",
       "    <tr>\n",
       "      <th>ID</th>\n",
       "      <th></th>\n",
       "      <th></th>\n",
       "      <th></th>\n",
       "      <th></th>\n",
       "      <th></th>\n",
       "      <th></th>\n",
       "      <th></th>\n",
       "      <th></th>\n",
       "      <th></th>\n",
       "      <th></th>\n",
       "      <th></th>\n",
       "      <th></th>\n",
       "      <th></th>\n",
       "      <th></th>\n",
       "      <th></th>\n",
       "      <th></th>\n",
       "      <th></th>\n",
       "      <th></th>\n",
       "      <th></th>\n",
       "      <th></th>\n",
       "      <th></th>\n",
       "    </tr>\n",
       "  </thead>\n",
       "  <tbody>\n",
       "    <tr>\n",
       "      <th>hsa-let-7a-3p</th>\n",
       "      <td>3.569062</td>\n",
       "      <td>3.990944</td>\n",
       "      <td>3.958360</td>\n",
       "      <td>3.739480</td>\n",
       "      <td>3.558173</td>\n",
       "      <td>3.857273</td>\n",
       "      <td>4.090974</td>\n",
       "      <td>3.493339</td>\n",
       "      <td>3.692938</td>\n",
       "      <td>3.864426</td>\n",
       "      <td>...</td>\n",
       "      <td>3.860735</td>\n",
       "      <td>3.941018</td>\n",
       "      <td>3.502343</td>\n",
       "      <td>3.908902</td>\n",
       "      <td>3.505673</td>\n",
       "      <td>3.805248</td>\n",
       "      <td>3.716572</td>\n",
       "      <td>3.756652</td>\n",
       "      <td>3.889881</td>\n",
       "      <td>3.984206</td>\n",
       "    </tr>\n",
       "    <tr>\n",
       "      <th>hsa-let-7a-5p</th>\n",
       "      <td>4.298654</td>\n",
       "      <td>3.915365</td>\n",
       "      <td>4.786878</td>\n",
       "      <td>3.777195</td>\n",
       "      <td>4.203269</td>\n",
       "      <td>4.481954</td>\n",
       "      <td>4.956935</td>\n",
       "      <td>3.866321</td>\n",
       "      <td>5.224822</td>\n",
       "      <td>4.276339</td>\n",
       "      <td>...</td>\n",
       "      <td>4.658320</td>\n",
       "      <td>4.993832</td>\n",
       "      <td>4.597233</td>\n",
       "      <td>3.882999</td>\n",
       "      <td>5.173708</td>\n",
       "      <td>3.584311</td>\n",
       "      <td>4.613917</td>\n",
       "      <td>4.745288</td>\n",
       "      <td>4.213337</td>\n",
       "      <td>3.782079</td>\n",
       "    </tr>\n",
       "    <tr>\n",
       "      <th>hsa-let-7b-3p</th>\n",
       "      <td>5.262347</td>\n",
       "      <td>5.154800</td>\n",
       "      <td>4.992272</td>\n",
       "      <td>5.107225</td>\n",
       "      <td>5.146336</td>\n",
       "      <td>5.451357</td>\n",
       "      <td>5.298464</td>\n",
       "      <td>4.570695</td>\n",
       "      <td>4.784492</td>\n",
       "      <td>4.794610</td>\n",
       "      <td>...</td>\n",
       "      <td>5.063779</td>\n",
       "      <td>5.071583</td>\n",
       "      <td>4.893366</td>\n",
       "      <td>5.058334</td>\n",
       "      <td>5.033599</td>\n",
       "      <td>5.376854</td>\n",
       "      <td>5.183216</td>\n",
       "      <td>4.952687</td>\n",
       "      <td>5.130082</td>\n",
       "      <td>5.402780</td>\n",
       "    </tr>\n",
       "    <tr>\n",
       "      <th>hsa-let-7b-5p</th>\n",
       "      <td>5.240960</td>\n",
       "      <td>5.085624</td>\n",
       "      <td>5.320981</td>\n",
       "      <td>5.200781</td>\n",
       "      <td>4.999822</td>\n",
       "      <td>6.254998</td>\n",
       "      <td>5.516254</td>\n",
       "      <td>5.235488</td>\n",
       "      <td>5.640803</td>\n",
       "      <td>4.742894</td>\n",
       "      <td>...</td>\n",
       "      <td>5.589816</td>\n",
       "      <td>5.935900</td>\n",
       "      <td>5.736466</td>\n",
       "      <td>5.592717</td>\n",
       "      <td>5.908696</td>\n",
       "      <td>4.418627</td>\n",
       "      <td>6.020542</td>\n",
       "      <td>5.454368</td>\n",
       "      <td>6.064787</td>\n",
       "      <td>4.510776</td>\n",
       "    </tr>\n",
       "    <tr>\n",
       "      <th>hsa-let-7c-3p</th>\n",
       "      <td>4.174805</td>\n",
       "      <td>3.976034</td>\n",
       "      <td>3.427550</td>\n",
       "      <td>3.822488</td>\n",
       "      <td>3.850354</td>\n",
       "      <td>4.044914</td>\n",
       "      <td>3.899470</td>\n",
       "      <td>3.866420</td>\n",
       "      <td>3.671528</td>\n",
       "      <td>3.924554</td>\n",
       "      <td>...</td>\n",
       "      <td>4.037483</td>\n",
       "      <td>4.038049</td>\n",
       "      <td>3.623681</td>\n",
       "      <td>3.945570</td>\n",
       "      <td>3.852142</td>\n",
       "      <td>3.863140</td>\n",
       "      <td>3.773484</td>\n",
       "      <td>3.818517</td>\n",
       "      <td>3.981694</td>\n",
       "      <td>3.954567</td>\n",
       "    </tr>\n",
       "  </tbody>\n",
       "</table>\n",
       "<p>5 rows × 211 columns</p>\n",
       "</div>"
      ],
      "text/plain": [
       "               GSM6668434  GSM6668435  GSM6668436  GSM6668437  GSM6668438  \\\n",
       "ID                                                                          \n",
       "hsa-let-7a-3p    3.569062    3.990944    3.958360    3.739480    3.558173   \n",
       "hsa-let-7a-5p    4.298654    3.915365    4.786878    3.777195    4.203269   \n",
       "hsa-let-7b-3p    5.262347    5.154800    4.992272    5.107225    5.146336   \n",
       "hsa-let-7b-5p    5.240960    5.085624    5.320981    5.200781    4.999822   \n",
       "hsa-let-7c-3p    4.174805    3.976034    3.427550    3.822488    3.850354   \n",
       "\n",
       "               GSM6668439  GSM6668440  GSM6668441  GSM6668442  GSM6668443  \\\n",
       "ID                                                                          \n",
       "hsa-let-7a-3p    3.857273    4.090974    3.493339    3.692938    3.864426   \n",
       "hsa-let-7a-5p    4.481954    4.956935    3.866321    5.224822    4.276339   \n",
       "hsa-let-7b-3p    5.451357    5.298464    4.570695    4.784492    4.794610   \n",
       "hsa-let-7b-5p    6.254998    5.516254    5.235488    5.640803    4.742894   \n",
       "hsa-let-7c-3p    4.044914    3.899470    3.866420    3.671528    3.924554   \n",
       "\n",
       "               ...  GSM6668635  GSM6668636  GSM6668637  GSM6668638  \\\n",
       "ID             ...                                                   \n",
       "hsa-let-7a-3p  ...    3.860735    3.941018    3.502343    3.908902   \n",
       "hsa-let-7a-5p  ...    4.658320    4.993832    4.597233    3.882999   \n",
       "hsa-let-7b-3p  ...    5.063779    5.071583    4.893366    5.058334   \n",
       "hsa-let-7b-5p  ...    5.589816    5.935900    5.736466    5.592717   \n",
       "hsa-let-7c-3p  ...    4.037483    4.038049    3.623681    3.945570   \n",
       "\n",
       "               GSM6668639  GSM6668640  GSM6668641  GSM6668642  GSM6668643  \\\n",
       "ID                                                                          \n",
       "hsa-let-7a-3p    3.505673    3.805248    3.716572    3.756652    3.889881   \n",
       "hsa-let-7a-5p    5.173708    3.584311    4.613917    4.745288    4.213337   \n",
       "hsa-let-7b-3p    5.033599    5.376854    5.183216    4.952687    5.130082   \n",
       "hsa-let-7b-5p    5.908696    4.418627    6.020542    5.454368    6.064787   \n",
       "hsa-let-7c-3p    3.852142    3.863140    3.773484    3.818517    3.981694   \n",
       "\n",
       "               GSM6668644  \n",
       "ID                         \n",
       "hsa-let-7a-3p    3.984206  \n",
       "hsa-let-7a-5p    3.782079  \n",
       "hsa-let-7b-3p    5.402780  \n",
       "hsa-let-7b-5p    4.510776  \n",
       "hsa-let-7c-3p    3.954567  \n",
       "\n",
       "[5 rows x 211 columns]"
      ]
     },
     "execution_count": 51,
     "metadata": {},
     "output_type": "execute_result"
    }
   ],
   "source": [
    "genetic_data = get_genetic_data(matrix_file)\n",
    "genetic_data.head()"
   ]
  },
  {
   "cell_type": "code",
   "execution_count": 52,
   "metadata": {
    "ExecuteTime": {
     "end_time": "2023-12-31T21:19:35.590443507Z",
     "start_time": "2023-12-31T21:19:35.536713559Z"
    }
   },
   "outputs": [
    {
     "data": {
      "text/plain": [
       "['hsa-let-7a-3p',\n",
       " 'hsa-let-7a-5p',\n",
       " 'hsa-let-7b-3p',\n",
       " 'hsa-let-7b-5p',\n",
       " 'hsa-let-7c-3p',\n",
       " 'hsa-let-7c-5p',\n",
       " 'hsa-let-7d-3p',\n",
       " 'hsa-let-7d-5p',\n",
       " 'hsa-let-7e-3p',\n",
       " 'hsa-let-7e-5p',\n",
       " 'hsa-let-7f-1-3p',\n",
       " 'hsa-let-7f-2-3p',\n",
       " 'hsa-let-7f-5p',\n",
       " 'hsa-let-7g-3p',\n",
       " 'hsa-let-7g-5p',\n",
       " 'hsa-let-7i-3p',\n",
       " 'hsa-let-7i-5p',\n",
       " 'hsa-miR-1-3p',\n",
       " 'hsa-miR-1-5p',\n",
       " 'hsa-miR-100-3p']"
      ]
     },
     "execution_count": 52,
     "metadata": {},
     "output_type": "execute_result"
    }
   ],
   "source": [
    "gene_row_ids = genetic_data.index[:20].tolist()\n",
    "gene_row_ids"
   ]
  },
  {
   "cell_type": "markdown",
   "metadata": {
    "ExecuteTime": {
     "end_time": "2023-12-31T03:30:41.595335164Z",
     "start_time": "2023-12-31T03:30:41.513232329Z"
    }
   },
   "source": [
    "Check if the gene dataset requires mapping to get the gene symbols corresponding to each data row."
   ]
  },
  {
   "cell_type": "markdown",
   "metadata": {},
   "source": [
    "Reference prompt:"
   ]
  },
  {
   "cell_type": "code",
   "execution_count": 53,
   "metadata": {
    "ExecuteTime": {
     "end_time": "2023-12-31T21:19:35.590590427Z",
     "start_time": "2023-12-31T21:19:35.536780517Z"
    }
   },
   "outputs": [
    {
     "data": {
      "text/plain": [
       "\"\\nBelow are the row headers of a gene expression dataset in GEO. Based on your biomedical knowledge, are they human gene symbols, or are they some other identifiers that need to be mapped to gene symbols? Your answer should be concluded by starting a new line and strictly following this format:\\nrequires_gene_mapping = (True or False)\\n\\nRow headers:\\n['hsa-let-7a-3p', 'hsa-let-7a-5p', 'hsa-let-7b-3p', 'hsa-let-7b-5p', 'hsa-let-7c-3p', 'hsa-let-7c-5p', 'hsa-let-7d-3p', 'hsa-let-7d-5p', 'hsa-let-7e-3p', 'hsa-let-7e-5p', 'hsa-let-7f-1-3p', 'hsa-let-7f-2-3p', 'hsa-let-7f-5p', 'hsa-let-7g-3p', 'hsa-let-7g-5p', 'hsa-let-7i-3p', 'hsa-let-7i-5p', 'hsa-miR-1-3p', 'hsa-miR-1-5p', 'hsa-miR-100-3p']\\n\""
      ]
     },
     "execution_count": 53,
     "metadata": {},
     "output_type": "execute_result"
    }
   ],
   "source": [
    "f'''\n",
    "Below are the row headers of a gene expression dataset in GEO. Based on your biomedical knowledge, are they human gene symbols, or are they some other identifiers that need to be mapped to gene symbols? Your answer should be concluded by starting a new line and strictly following this format:\n",
    "requires_gene_mapping = (True or False)\n",
    "\n",
    "Row headers:\n",
    "{gene_row_ids}\n",
    "'''"
   ]
  },
  {
   "cell_type": "markdown",
   "metadata": {},
   "source": [
    "If not required, jump directly to the gene normalization step"
   ]
  },
  {
   "cell_type": "code",
   "execution_count": 54,
   "metadata": {
    "ExecuteTime": {
     "end_time": "2023-12-31T21:19:35.590648558Z",
     "start_time": "2023-12-31T21:19:35.536821375Z"
    }
   },
   "outputs": [],
   "source": [
    "requires_gene_mapping = True"
   ]
  },
  {
   "cell_type": "code",
   "execution_count": 55,
   "metadata": {
    "ExecuteTime": {
     "end_time": "2023-12-31T21:19:35.590695457Z",
     "start_time": "2023-12-31T21:19:35.536910836Z"
    }
   },
   "outputs": [
    {
     "name": "stdout",
     "output_type": "stream",
     "text": [
      "{'ID': ['hsa-miR-3132', 'hsa-miR-449c-5p', 'hsa-miR-4481', 'hsa-miR-6788-5p', 'hsa-miR-514a-3p'], 'miRNA_ID': ['hsa-miR-3132', 'hsa-miR-449c-5p', 'hsa-miR-4481', 'hsa-miR-6788-5p', 'hsa-miR-514a-3p'], 'SPOT_ID': [nan, nan, nan, nan, nan]}\n"
     ]
    }
   ],
   "source": [
    "if requires_gene_mapping:\n",
    "    gene_annotation = get_gene_annotation(soft_file)\n",
    "    gene_annotation_summary = preview_df(gene_annotation)\n",
    "    print(gene_annotation_summary)"
   ]
  },
  {
   "cell_type": "markdown",
   "metadata": {
    "ExecuteTime": {
     "end_time": "2023-12-31T03:58:04.978931927Z",
     "start_time": "2023-12-31T03:58:04.966328339Z"
    }
   },
   "source": [
    "Observe the first few cells in the ID column of the gene annotation dataframe, to find the names of columns that store the gene probe IDs and gene symbols respectively.\n",
    "Reference prompt:"
   ]
  },
  {
   "cell_type": "code",
   "execution_count": 56,
   "metadata": {
    "ExecuteTime": {
     "end_time": "2023-12-31T21:19:35.590742236Z",
     "start_time": "2023-12-31T21:19:35.537050893Z"
    }
   },
   "outputs": [
    {
     "data": {
      "text/plain": [
       "\"\\nAs a biomedical research team, we extracted the gene annotation data from a series in the GEO database, and saved it to a Python dictionary. Please read the dictionary, and decide which key stores the ID of the probe, and which key stores the gene symbols. Please strict follow this format in your answer:\\nprobe_name_key = key_name1\\ngene_name_key = key_name2\\n\\nGene annotation dictionary:\\n{'ID': ['hsa-miR-3132', 'hsa-miR-449c-5p', 'hsa-miR-4481', 'hsa-miR-6788-5p', 'hsa-miR-514a-3p'], 'miRNA_ID': ['hsa-miR-3132', 'hsa-miR-449c-5p', 'hsa-miR-4481', 'hsa-miR-6788-5p', 'hsa-miR-514a-3p'], 'SPOT_ID': [nan, nan, nan, nan, nan]}\\n\""
      ]
     },
     "execution_count": 56,
     "metadata": {},
     "output_type": "execute_result"
    }
   ],
   "source": [
    "# if requires_gene_mapping:\n",
    "f'''\n",
    "As a biomedical research team, we extracted the gene annotation data from a series in the GEO database, and saved it to a Python dictionary. Please read the dictionary, and decide which key stores the ID of the probe, and which key stores the gene symbols. Please strict follow this format in your answer:\n",
    "probe_name_key = key_name1\n",
    "gene_name_key = key_name2\n",
    "\n",
    "Gene annotation dictionary:\n",
    "{gene_annotation_summary}\n",
    "'''"
   ]
  },
  {
   "cell_type": "code",
   "execution_count": 58,
   "metadata": {
    "ExecuteTime": {
     "end_time": "2023-12-31T21:19:35.590786881Z",
     "start_time": "2023-12-31T21:19:35.537132859Z"
    }
   },
   "outputs": [],
   "source": [
    "if requires_gene_mapping:\n",
    "    probe_id_key = 'ID'\n",
    "    gene_symb_key = 'miRNA_ID'\n",
    "    gene_mapping = get_gene_mapping(gene_annotation, probe_id_key, gene_symb_key)\n",
    "    genetic_data = apply_gene_mapping(genetic_data, gene_mapping)"
   ]
  },
  {
   "cell_type": "code",
   "execution_count": 59,
   "metadata": {
    "ExecuteTime": {
     "end_time": "2023-12-31T21:19:35.590837318Z",
     "start_time": "2023-12-31T21:19:35.537209586Z"
    }
   },
   "outputs": [],
   "source": [
    "if NORMALIZE_GENE:\n",
    "    genetic_data = normalize_gene_symbols_in_index(genetic_data)"
   ]
  },
  {
   "cell_type": "code",
   "execution_count": 60,
   "metadata": {
    "ExecuteTime": {
     "end_time": "2023-12-31T21:19:35.590902191Z",
     "start_time": "2023-12-31T21:19:35.537285901Z"
    }
   },
   "outputs": [],
   "source": [
    "merged_data = geo_merge_clinical_genetic_data(selected_clinical_data, genetic_data)\n",
    "# The preprocessing runs through, which means is_available should be True\n",
    "is_available = True"
   ]
  },
  {
   "cell_type": "code",
   "execution_count": 61,
   "metadata": {
    "ExecuteTime": {
     "end_time": "2023-12-31T21:19:35.591095170Z",
     "start_time": "2023-12-31T21:19:35.538708445Z"
    }
   },
   "outputs": [
    {
     "name": "stdout",
     "output_type": "stream",
     "text": [
      "The merged dataset contains 119 samples.\n"
     ]
    }
   ],
   "source": [
    "print(f\"The merged dataset contains {len(merged_data)} samples.\")"
   ]
  },
  {
   "cell_type": "code",
   "execution_count": 62,
   "metadata": {
    "ExecuteTime": {
     "end_time": "2023-12-31T21:19:35.610849182Z",
     "start_time": "2023-12-31T21:19:35.541210258Z"
    }
   },
   "outputs": [
    {
     "name": "stdout",
     "output_type": "stream",
     "text": [
      "For the feature 'Multiple sclerosis', the least common label is '0.0' with 22 occurrences. This represents 18.49% of the dataset.\n",
      "The distribution of the feature 'Multiple sclerosis' in this dataset is fine.\n",
      "\n",
      "Quartiles for 'Age':\n",
      "  25%: 26.0\n",
      "  50% (Median): 32.0\n",
      "  75%: 40.0\n",
      "Min: 18.0\n",
      "Max: 51.0\n",
      "The distribution of the feature 'Age' in this dataset is fine.\n",
      "\n",
      "For the feature 'Gender', the least common label is '0.0' with 26 occurrences. This represents 21.85% of the dataset.\n",
      "The distribution of the feature 'Gender' in this dataset is fine.\n",
      "\n"
     ]
    },
    {
     "data": {
      "text/plain": [
       "False"
      ]
     },
     "execution_count": 62,
     "metadata": {},
     "output_type": "execute_result"
    }
   ],
   "source": [
    "is_trait_biased, merged_data = judge_and_remove_biased_features(merged_data, TRAIT, trait_type=trait_type)\n",
    "is_trait_biased"
   ]
  },
  {
   "cell_type": "code",
   "execution_count": 63,
   "metadata": {
    "ExecuteTime": {
     "end_time": "2023-12-31T21:19:35.610923234Z",
     "start_time": "2023-12-31T21:19:35.584848473Z"
    }
   },
   "outputs": [],
   "source": [
    "save_cohort_info(cohort, JSON_PATH, is_available, is_trait_biased, merged_data)"
   ]
  },
  {
   "cell_type": "code",
   "execution_count": 64,
   "metadata": {
    "ExecuteTime": {
     "end_time": "2023-12-31T21:19:35.610970734Z",
     "start_time": "2023-12-31T21:19:35.585042694Z"
    }
   },
   "outputs": [],
   "source": [
    "merged_data.head()\n",
    "if not is_trait_biased:\n",
    "    merged_data.to_csv(os.path.join(OUTPUT_DIR, cohort+'.csv'), index=False)"
   ]
  },
  {
   "cell_type": "markdown",
   "metadata": {
    "ExecuteTime": {
     "end_time": "2023-12-31T03:58:22.271683755Z",
     "start_time": "2023-12-31T03:58:22.246557674Z"
    },
    "id": "-MTPhRGxJV7I"
   },
   "source": [
    "### 3. Do regression & Cross Validation"
   ]
  },
  {
   "cell_type": "code",
   "execution_count": 4,
   "metadata": {
    "ExecuteTime": {
     "end_time": "2023-12-31T21:19:44.459442087Z",
     "start_time": "2023-12-31T21:19:44.416219648Z"
    }
   },
   "outputs": [
    {
     "data": {
      "text/html": [
       "<div>\n",
       "<style scoped>\n",
       "    .dataframe tbody tr th:only-of-type {\n",
       "        vertical-align: middle;\n",
       "    }\n",
       "\n",
       "    .dataframe tbody tr th {\n",
       "        vertical-align: top;\n",
       "    }\n",
       "\n",
       "    .dataframe thead th {\n",
       "        text-align: right;\n",
       "    }\n",
       "</style>\n",
       "<table border=\"1\" class=\"dataframe\">\n",
       "  <thead>\n",
       "    <tr style=\"text-align: right;\">\n",
       "      <th></th>\n",
       "      <th>cohort_id</th>\n",
       "      <th>is_usable</th>\n",
       "      <th>is_available</th>\n",
       "      <th>is_biased</th>\n",
       "      <th>has_age</th>\n",
       "      <th>has_gender</th>\n",
       "      <th>sample_size</th>\n",
       "      <th>note</th>\n",
       "    </tr>\n",
       "  </thead>\n",
       "  <tbody>\n",
       "    <tr>\n",
       "      <th>3</th>\n",
       "      <td>GSE215450</td>\n",
       "      <td>True</td>\n",
       "      <td>True</td>\n",
       "      <td>False</td>\n",
       "      <td>True</td>\n",
       "      <td>True</td>\n",
       "      <td>119.0</td>\n",
       "      <td></td>\n",
       "    </tr>\n",
       "    <tr>\n",
       "      <th>0</th>\n",
       "      <td>GSE171950</td>\n",
       "      <td>True</td>\n",
       "      <td>True</td>\n",
       "      <td>False</td>\n",
       "      <td>False</td>\n",
       "      <td>False</td>\n",
       "      <td>30.0</td>\n",
       "      <td></td>\n",
       "    </tr>\n",
       "  </tbody>\n",
       "</table>\n",
       "</div>"
      ],
      "text/plain": [
       "   cohort_id  is_usable  is_available is_biased has_age has_gender  \\\n",
       "3  GSE215450       True          True     False    True       True   \n",
       "0  GSE171950       True          True     False   False      False   \n",
       "\n",
       "   sample_size note  \n",
       "3        119.0       \n",
       "0         30.0       "
      ]
     },
     "execution_count": 4,
     "metadata": {},
     "output_type": "execute_result"
    }
   ],
   "source": [
    "# Check the information of usable cohorts\n",
    "best_cohort, ranked_df = filter_and_rank_cohorts(JSON_PATH)\n",
    "ranked_df"
   ]
  },
  {
   "cell_type": "code",
   "execution_count": 5,
   "metadata": {
    "ExecuteTime": {
     "end_time": "2023-12-31T21:19:44.808945960Z",
     "start_time": "2023-12-31T21:19:44.799467072Z"
    }
   },
   "outputs": [
    {
     "data": {
      "text/plain": [
       "'GSE215450'"
      ]
     },
     "execution_count": 5,
     "metadata": {},
     "output_type": "execute_result"
    }
   ],
   "source": [
    "# If both age and gender have available cohorts, select 'age' as the condition.\n",
    "condition = 'Age'\n",
    "filter_column = 'has_' + condition.lower()\n",
    "\n",
    "condition_best_cohort, condition_ranked_df = filter_and_rank_cohorts(JSON_PATH, filter_column)\n",
    "condition_best_cohort"
   ]
  },
  {
   "cell_type": "code",
   "execution_count": 6,
   "metadata": {
    "ExecuteTime": {
     "end_time": "2023-12-31T21:19:52.222719978Z",
     "start_time": "2023-12-31T21:19:45.162873006Z"
    }
   },
   "outputs": [
    {
     "data": {
      "text/html": [
       "<div>\n",
       "<style scoped>\n",
       "    .dataframe tbody tr th:only-of-type {\n",
       "        vertical-align: middle;\n",
       "    }\n",
       "\n",
       "    .dataframe tbody tr th {\n",
       "        vertical-align: top;\n",
       "    }\n",
       "\n",
       "    .dataframe thead th {\n",
       "        text-align: right;\n",
       "    }\n",
       "</style>\n",
       "<table border=\"1\" class=\"dataframe\">\n",
       "  <thead>\n",
       "    <tr style=\"text-align: right;\">\n",
       "      <th></th>\n",
       "      <th>cohort_id</th>\n",
       "      <th>is_usable</th>\n",
       "      <th>is_available</th>\n",
       "      <th>is_biased</th>\n",
       "      <th>has_age</th>\n",
       "      <th>has_gender</th>\n",
       "      <th>sample_size</th>\n",
       "      <th>note</th>\n",
       "    </tr>\n",
       "  </thead>\n",
       "  <tbody>\n",
       "    <tr>\n",
       "      <th>3</th>\n",
       "      <td>GSE215450</td>\n",
       "      <td>True</td>\n",
       "      <td>True</td>\n",
       "      <td>False</td>\n",
       "      <td>True</td>\n",
       "      <td>True</td>\n",
       "      <td>119.0</td>\n",
       "      <td></td>\n",
       "    </tr>\n",
       "  </tbody>\n",
       "</table>\n",
       "</div>"
      ],
      "text/plain": [
       "   cohort_id  is_usable  is_available is_biased has_age has_gender  \\\n",
       "3  GSE215450       True          True     False    True       True   \n",
       "\n",
       "   sample_size note  \n",
       "3        119.0       "
      ]
     },
     "execution_count": 6,
     "metadata": {},
     "output_type": "execute_result"
    }
   ],
   "source": [
    "condition_ranked_df.head()"
   ]
  },
  {
   "cell_type": "code",
   "execution_count": 7,
   "metadata": {
    "ExecuteTime": {
     "end_time": "2023-12-31T21:19:52.234945878Z",
     "start_time": "2023-12-31T21:19:52.231604618Z"
    }
   },
   "outputs": [
    {
     "data": {
      "text/html": [
       "<div>\n",
       "<style scoped>\n",
       "    .dataframe tbody tr th:only-of-type {\n",
       "        vertical-align: middle;\n",
       "    }\n",
       "\n",
       "    .dataframe tbody tr th {\n",
       "        vertical-align: top;\n",
       "    }\n",
       "\n",
       "    .dataframe thead th {\n",
       "        text-align: right;\n",
       "    }\n",
       "</style>\n",
       "<table border=\"1\" class=\"dataframe\">\n",
       "  <thead>\n",
       "    <tr style=\"text-align: right;\">\n",
       "      <th></th>\n",
       "      <th>Multiple sclerosis</th>\n",
       "      <th>Age</th>\n",
       "      <th>Gender</th>\n",
       "      <th>1.988332412</th>\n",
       "      <th>10.00244803</th>\n",
       "      <th>10.0026506</th>\n",
       "      <th>10.00987169</th>\n",
       "      <th>10.01043269</th>\n",
       "      <th>10.01244087</th>\n",
       "      <th>10.01740226</th>\n",
       "      <th>...</th>\n",
       "      <th>hsa-miR-95-5p</th>\n",
       "      <th>hsa-miR-9500</th>\n",
       "      <th>hsa-miR-96-3p</th>\n",
       "      <th>hsa-miR-96-5p</th>\n",
       "      <th>hsa-miR-98-3p</th>\n",
       "      <th>hsa-miR-98-5p</th>\n",
       "      <th>hsa-miR-99a-3p</th>\n",
       "      <th>hsa-miR-99a-5p</th>\n",
       "      <th>hsa-miR-99b-3p</th>\n",
       "      <th>hsa-miR-99b-5p</th>\n",
       "    </tr>\n",
       "  </thead>\n",
       "  <tbody>\n",
       "    <tr>\n",
       "      <th>0</th>\n",
       "      <td>0.0</td>\n",
       "      <td>51.0</td>\n",
       "      <td>1.0</td>\n",
       "      <td>2.855409</td>\n",
       "      <td>10.017402</td>\n",
       "      <td>10.739442</td>\n",
       "      <td>10.017402</td>\n",
       "      <td>10.739442</td>\n",
       "      <td>10.017402</td>\n",
       "      <td>10.017402</td>\n",
       "      <td>...</td>\n",
       "      <td>3.327912</td>\n",
       "      <td>2.947059</td>\n",
       "      <td>2.982349</td>\n",
       "      <td>3.768332</td>\n",
       "      <td>4.969960</td>\n",
       "      <td>3.459125</td>\n",
       "      <td>3.504149</td>\n",
       "      <td>3.448990</td>\n",
       "      <td>3.203794</td>\n",
       "      <td>3.396792</td>\n",
       "    </tr>\n",
       "    <tr>\n",
       "      <th>1</th>\n",
       "      <td>0.0</td>\n",
       "      <td>29.0</td>\n",
       "      <td>1.0</td>\n",
       "      <td>2.606522</td>\n",
       "      <td>9.601527</td>\n",
       "      <td>9.940958</td>\n",
       "      <td>9.601527</td>\n",
       "      <td>9.940958</td>\n",
       "      <td>9.601527</td>\n",
       "      <td>9.601527</td>\n",
       "      <td>...</td>\n",
       "      <td>3.199212</td>\n",
       "      <td>3.094012</td>\n",
       "      <td>3.034922</td>\n",
       "      <td>3.535213</td>\n",
       "      <td>4.988086</td>\n",
       "      <td>3.499802</td>\n",
       "      <td>3.513327</td>\n",
       "      <td>3.637594</td>\n",
       "      <td>3.337921</td>\n",
       "      <td>3.446165</td>\n",
       "    </tr>\n",
       "    <tr>\n",
       "      <th>2</th>\n",
       "      <td>0.0</td>\n",
       "      <td>35.0</td>\n",
       "      <td>1.0</td>\n",
       "      <td>2.477578</td>\n",
       "      <td>9.849524</td>\n",
       "      <td>10.957172</td>\n",
       "      <td>9.849524</td>\n",
       "      <td>10.957172</td>\n",
       "      <td>9.849524</td>\n",
       "      <td>9.849524</td>\n",
       "      <td>...</td>\n",
       "      <td>3.346556</td>\n",
       "      <td>2.941218</td>\n",
       "      <td>2.928636</td>\n",
       "      <td>3.597025</td>\n",
       "      <td>4.677913</td>\n",
       "      <td>3.596995</td>\n",
       "      <td>3.440173</td>\n",
       "      <td>3.702877</td>\n",
       "      <td>3.136363</td>\n",
       "      <td>3.410131</td>\n",
       "    </tr>\n",
       "    <tr>\n",
       "      <th>3</th>\n",
       "      <td>0.0</td>\n",
       "      <td>31.0</td>\n",
       "      <td>0.0</td>\n",
       "      <td>2.694981</td>\n",
       "      <td>7.979865</td>\n",
       "      <td>11.753147</td>\n",
       "      <td>7.979865</td>\n",
       "      <td>11.753147</td>\n",
       "      <td>7.979865</td>\n",
       "      <td>7.979865</td>\n",
       "      <td>...</td>\n",
       "      <td>3.219165</td>\n",
       "      <td>3.162482</td>\n",
       "      <td>3.439317</td>\n",
       "      <td>3.759911</td>\n",
       "      <td>4.543207</td>\n",
       "      <td>3.229087</td>\n",
       "      <td>3.325727</td>\n",
       "      <td>3.634383</td>\n",
       "      <td>3.411122</td>\n",
       "      <td>3.518127</td>\n",
       "    </tr>\n",
       "    <tr>\n",
       "      <th>4</th>\n",
       "      <td>0.0</td>\n",
       "      <td>43.0</td>\n",
       "      <td>1.0</td>\n",
       "      <td>2.391146</td>\n",
       "      <td>9.543299</td>\n",
       "      <td>10.119571</td>\n",
       "      <td>9.543299</td>\n",
       "      <td>10.119571</td>\n",
       "      <td>9.543299</td>\n",
       "      <td>9.543299</td>\n",
       "      <td>...</td>\n",
       "      <td>3.454079</td>\n",
       "      <td>3.055734</td>\n",
       "      <td>3.174454</td>\n",
       "      <td>3.692791</td>\n",
       "      <td>5.031158</td>\n",
       "      <td>3.570276</td>\n",
       "      <td>3.405138</td>\n",
       "      <td>3.418141</td>\n",
       "      <td>3.120018</td>\n",
       "      <td>3.212788</td>\n",
       "    </tr>\n",
       "  </tbody>\n",
       "</table>\n",
       "<p>5 rows × 522657 columns</p>\n",
       "</div>"
      ],
      "text/plain": [
       "   Multiple sclerosis   Age  Gender  1.988332412  10.00244803  10.0026506  \\\n",
       "0                 0.0  51.0     1.0     2.855409    10.017402   10.739442   \n",
       "1                 0.0  29.0     1.0     2.606522     9.601527    9.940958   \n",
       "2                 0.0  35.0     1.0     2.477578     9.849524   10.957172   \n",
       "3                 0.0  31.0     0.0     2.694981     7.979865   11.753147   \n",
       "4                 0.0  43.0     1.0     2.391146     9.543299   10.119571   \n",
       "\n",
       "   10.00987169  10.01043269  10.01244087  10.01740226  ...  hsa-miR-95-5p  \\\n",
       "0    10.017402    10.739442    10.017402    10.017402  ...       3.327912   \n",
       "1     9.601527     9.940958     9.601527     9.601527  ...       3.199212   \n",
       "2     9.849524    10.957172     9.849524     9.849524  ...       3.346556   \n",
       "3     7.979865    11.753147     7.979865     7.979865  ...       3.219165   \n",
       "4     9.543299    10.119571     9.543299     9.543299  ...       3.454079   \n",
       "\n",
       "   hsa-miR-9500  hsa-miR-96-3p  hsa-miR-96-5p  hsa-miR-98-3p  hsa-miR-98-5p  \\\n",
       "0      2.947059       2.982349       3.768332       4.969960       3.459125   \n",
       "1      3.094012       3.034922       3.535213       4.988086       3.499802   \n",
       "2      2.941218       2.928636       3.597025       4.677913       3.596995   \n",
       "3      3.162482       3.439317       3.759911       4.543207       3.229087   \n",
       "4      3.055734       3.174454       3.692791       5.031158       3.570276   \n",
       "\n",
       "   hsa-miR-99a-3p  hsa-miR-99a-5p  hsa-miR-99b-3p  hsa-miR-99b-5p  \n",
       "0        3.504149        3.448990        3.203794        3.396792  \n",
       "1        3.513327        3.637594        3.337921        3.446165  \n",
       "2        3.440173        3.702877        3.136363        3.410131  \n",
       "3        3.325727        3.634383        3.411122        3.518127  \n",
       "4        3.405138        3.418141        3.120018        3.212788  \n",
       "\n",
       "[5 rows x 522657 columns]"
      ]
     },
     "execution_count": 7,
     "metadata": {},
     "output_type": "execute_result"
    }
   ],
   "source": [
    "merged_data = pd.read_csv(os.path.join(OUTPUT_DIR, condition_best_cohort + '.csv'))\n",
    "merged_data.head()"
   ]
  },
  {
   "cell_type": "code",
   "execution_count": 8,
   "metadata": {
    "ExecuteTime": {
     "end_time": "2023-12-31T21:19:52.312540150Z",
     "start_time": "2023-12-31T21:19:52.235772334Z"
    }
   },
   "outputs": [],
   "source": [
    "# Remove the other condition to prevent interference.\n",
    "merged_data = merged_data.drop(columns=['Gender'], errors='ignore').astype('float')\n",
    "\n",
    "X = merged_data.drop(columns=[TRAIT, condition]).values\n",
    "Y = merged_data[TRAIT].values\n",
    "Z = merged_data[condition].values"
   ]
  },
  {
   "cell_type": "markdown",
   "metadata": {},
   "source": [
    "Select the appropriate regression model depending on whether the dataset shows batch effect."
   ]
  },
  {
   "cell_type": "code",
   "execution_count": 9,
   "metadata": {
    "ExecuteTime": {
     "end_time": "2023-12-31T21:20:00.930840782Z",
     "start_time": "2023-12-31T21:19:52.319092572Z"
    }
   },
   "outputs": [
    {
     "data": {
      "text/plain": [
       "True"
      ]
     },
     "execution_count": 9,
     "metadata": {},
     "output_type": "execute_result"
    }
   ],
   "source": [
    "has_batch_effect = detect_batch_effect(X)\n",
    "has_batch_effect"
   ]
  },
  {
   "cell_type": "code",
   "execution_count": 10,
   "metadata": {
    "ExecuteTime": {
     "end_time": "2023-12-31T21:20:00.931029722Z",
     "start_time": "2023-12-31T21:20:00.929710828Z"
    }
   },
   "outputs": [],
   "source": [
    "# Select appropriate models based on whether the dataset has batch effect.\n",
    "# We experiment on two models for each branch. We will decide which one to choose later.\n",
    "\n",
    "if has_batch_effect:\n",
    "    model_constructor1 = VariableSelection\n",
    "    model_params1 = {'modified': True, 'lamda': 3e-4}\n",
    "    model_constructor2 = VariableSelection\n",
    "    model_params2 = {'modified': False}\n",
    "else:\n",
    "    model_constructor1 = Lasso\n",
    "    model_params1 = {'alpha': 1.0, 'random_state': 42}\n",
    "    model_constructor2 = VariableSelection\n",
    "    model_params2 = {'modified': False}"
   ]
  },
  {
   "cell_type": "code",
   "execution_count": 11,
   "metadata": {
    "ExecuteTime": {
     "end_time": "2023-12-31T21:20:20.709459824Z",
     "start_time": "2023-12-31T21:20:00.931657949Z"
    }
   },
   "outputs": [
    {
     "name": "stdout",
     "output_type": "stream",
     "text": [
      "alpha for Lasso: 0.0003\n",
      "alpha for Lasso: 0.0003\n",
      "alpha for Lasso: 0.0003\n",
      "alpha for Lasso: 0.0003\n",
      "alpha for Lasso: 0.0003\n",
      "The cross-validation accuracy is 81.74% ± 7.48%\n"
     ]
    }
   ],
   "source": [
    "trait_type = 'binary'  # Remember to set this properly, either 'binary' or 'continuous'\n",
    "cv_mean1, cv_std1 = cross_validation(X, Y, Z, model_constructor1, model_params1, target_type=trait_type)"
   ]
  },
  {
   "cell_type": "code",
   "execution_count": 12,
   "metadata": {
    "ExecuteTime": {
     "end_time": "2023-12-31T21:20:24.980870159Z",
     "start_time": "2023-12-31T21:20:20.516710807Z"
    }
   },
   "outputs": [
    {
     "name": "stdout",
     "output_type": "stream",
     "text": [
      "The cross-validation accuracy is 56.52% ± 4.76%\n"
     ]
    }
   ],
   "source": [
    "cv_mean2, cv_std2 = cross_validation(X, Y, Z, model_constructor2, model_params2, target_type=trait_type)"
   ]
  },
  {
   "cell_type": "code",
   "execution_count": 13,
   "metadata": {},
   "outputs": [
    {
     "name": "stdout",
     "output_type": "stream",
     "text": [
      "alpha for Lasso: 0.0003\n"
     ]
    }
   ],
   "source": [
    "normalized_X, _ = normalize_data(X)\n",
    "normalized_Z, _ = normalize_data(Z)\n",
    "\n",
    "# Train regression model on the whole dataset to identify significant genes\n",
    "model1 = ResidualizationRegressor(model_constructor1, model_params1)\n",
    "model1.fit(normalized_X, Y, normalized_Z)\n",
    "\n",
    "model2 = ResidualizationRegressor(model_constructor2, model_params2)\n",
    "model2.fit(normalized_X, Y, normalized_Z)"
   ]
  },
  {
   "cell_type": "markdown",
   "metadata": {
    "ExecuteTime": {
     "end_time": "2023-10-14T04:50:59.072075075Z",
     "start_time": "2023-10-14T04:50:38.739499998Z"
    },
    "id": "EjJrxbvb4nlj"
   },
   "source": [
    "### 4. Discussion and report"
   ]
  },
  {
   "cell_type": "code",
   "execution_count": 14,
   "metadata": {
    "ExecuteTime": {
     "end_time": "2023-12-31T21:20:25.000830410Z",
     "start_time": "2023-12-31T21:20:24.982834541Z"
    }
   },
   "outputs": [
    {
     "name": "stdout",
     "output_type": "stream",
     "text": [
      "Effect of the condition on the target variable:\n",
      "Variable: Age\n",
      "Coefficient: -0.0578\n",
      "Found 0 genes with non-zero coefficients associated with the trait 'Multiple sclerosis' conditional on the factor 'Age'. These genes are identified as significant based on the regression model.\n",
      "Empty DataFrame\n",
      "Columns: [Variable, Coefficient, Absolute Coefficient]\n",
      "Index: []\n"
     ]
    },
    {
     "name": "stderr",
     "output_type": "stream",
     "text": [
      "/Users/ollie/Documents/JupyterProjects/AI4Science_gold_standard/stage1/Jinglin/utils.py:469: SettingWithCopyWarning: \n",
      "A value is trying to be set on a copy of a slice from a DataFrame.\n",
      "Try using .loc[row_indexer,col_indexer] = value instead\n",
      "\n",
      "See the caveats in the documentation: https://pandas.pydata.org/pandas-docs/stable/user_guide/indexing.html#returning-a-view-versus-a-copy\n",
      "  gene_regression_df['Absolute Coefficient'] = gene_regression_df['Coefficient'].abs()\n"
     ]
    }
   ],
   "source": [
    "feature_cols = merged_data.columns.tolist()\n",
    "feature_cols.remove(TRAIT)\n",
    "\n",
    "threshold = 0.05\n",
    "interpret_result(model1, feature_cols, TRAIT, condition, threshold=threshold, save_output=True,\n",
    "                 output_dir=OUTPUT_DIR, model_id=1)"
   ]
  },
  {
   "cell_type": "code",
   "execution_count": 16,
   "metadata": {},
   "outputs": [
    {
     "name": "stdout",
     "output_type": "stream",
     "text": [
      "Effect of the condition on the target variable:\n",
      "Variable: Age\n",
      "Coefficient: -0.0578\n",
      "Found 0 significant genes associated with the trait 'Multiple sclerosis' conditional on the factor 'Age', with corrected p-value < 0.05:\n",
      "Empty DataFrame\n",
      "Columns: [Variable, Coefficient, p_value, corrected_p_value]\n",
      "Index: []\n"
     ]
    },
    {
     "name": "stderr",
     "output_type": "stream",
     "text": [
      "/Users/ollie/Documents/JupyterProjects/AI4Science_gold_standard/stage1/Jinglin/utils.py:478: SettingWithCopyWarning: \n",
      "A value is trying to be set on a copy of a slice from a DataFrame.\n",
      "Try using .loc[row_indexer,col_indexer] = value instead\n",
      "\n",
      "See the caveats in the documentation: https://pandas.pydata.org/pandas-docs/stable/user_guide/indexing.html#returning-a-view-versus-a-copy\n",
      "  gene_regression_df.loc[:, 'corrected_p_value'] = corrected_p_values\n"
     ]
    }
   ],
   "source": [
    "interpret_result(model2, feature_cols, TRAIT, condition, threshold=threshold, save_output=True,\n",
    "                 output_dir=OUTPUT_DIR, model_id=2)"
   ]
  },
  {
   "cell_type": "code",
   "execution_count": null,
   "metadata": {},
   "outputs": [],
   "source": []
  }
 ],
 "metadata": {
  "colab": {
   "provenance": []
  },
  "kernelspec": {
   "display_name": "Python 3 (ipykernel)",
   "language": "python",
   "name": "python3"
  },
  "language_info": {
   "codemirror_mode": {
    "name": "ipython",
    "version": 3
   },
   "file_extension": ".py",
   "mimetype": "text/x-python",
   "name": "python",
   "nbconvert_exporter": "python",
   "pygments_lexer": "ipython3",
   "version": "3.11.5"
  }
 },
 "nbformat": 4,
 "nbformat_minor": 1
}
