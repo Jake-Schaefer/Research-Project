{
 "cells": [
  {
   "cell_type": "markdown",
   "metadata": {},
   "source": [
    "# Gold standard curation: Preprocessing and single-step regression"
   ]
  },
  {
   "cell_type": "markdown",
   "metadata": {},
   "source": [
    "In this stage of gold standard curation, we will do the data preprocessing, selection, and single-step regression for the 153 traits in our question set. This file shows the reference steps using the trait \"Breast Cancer\" as an example. The workflow consists of the following steps:\n",
    "\n",
    "1. Preprocess all the cohorts related to this trait. Each cohort should be converted to a tabular form and saved to a csv file, with columns being genetic factors, the trait, and age, gender if available;\n",
    "2. If there exists at least one cohort with age or gender information, conduct regression analysis with genetic features together with age or gender as the regressors.\n"
   ]
  },
  {
   "cell_type": "markdown",
   "metadata": {},
   "source": [
    "# 1. Basic setup"
   ]
  },
  {
   "cell_type": "code",
   "execution_count": 8,
   "metadata": {
    "ExecuteTime": {
     "end_time": "2023-12-31T21:19:07.313098989Z",
     "start_time": "2023-12-31T21:19:07.312718292Z"
    }
   },
   "outputs": [],
   "source": [
    "import os\n",
    "\n",
    "# Set your preferred name\n",
    "USER = \"Jinglin\"\n",
    "# Set the data and output directories\n",
    "DATA_ROOT = '../../DATA'\n",
    "OUTPUT_ROOT = '../../output1'\n",
    "TRAIT = 'Glucocorticoid Sensitivity'\n",
    "\n",
    "OUTPUT_DIR = os.path.join(OUTPUT_ROOT, USER, '-'.join(TRAIT.split()))\n",
    "JSON_PATH = os.path.join(OUTPUT_DIR, \"cohort_info.json\")\n",
    "if not os.path.exists(OUTPUT_DIR):\n",
    "    os.makedirs(OUTPUT_DIR, exist_ok=True)\n",
    "\n",
    "# Gene symbol normalization may take 1-2 minutes. You may set it to False for debugging.\n",
    "NORMALIZE_GENE = True"
   ]
  },
  {
   "cell_type": "code",
   "execution_count": 9,
   "metadata": {
    "ExecuteTime": {
     "end_time": "2023-12-31T21:19:07.680659936Z",
     "start_time": "2023-12-31T21:19:07.666959145Z"
    },
    "colab": {
     "base_uri": "https://localhost:8080/"
    },
    "id": "jMTdsU43vVg3",
    "outputId": "38886111-f442-44b4-8398-96bf384d7abd"
   },
   "outputs": [
    {
     "data": {
      "text/plain": [
       "\"import os\\nfrom google.colab import drive\\n\\ndrive.mount('/content/drive', force_remount=True)\\nproj_dir = '/content/drive/MyDrive/AI4Science_Public'\\nos.chdir(proj_dir)\""
      ]
     },
     "execution_count": 9,
     "metadata": {},
     "output_type": "execute_result"
    }
   ],
   "source": [
    "# This cell is only for use on Google Colab. Skip it if you run your code in other environments\n",
    "\n",
    "\"\"\"import os\n",
    "from google.colab import drive\n",
    "\n",
    "drive.mount('/content/drive', force_remount=True)\n",
    "proj_dir = '/content/drive/MyDrive/AI4Science_Public'\n",
    "os.chdir(proj_dir)\"\"\""
   ]
  },
  {
   "cell_type": "markdown",
   "metadata": {},
   "source": [
    "# 2. Data preprocessing and selection"
   ]
  },
  {
   "cell_type": "markdown",
   "metadata": {},
   "source": [
    "## 2.1. The TCGA Xena dataset"
   ]
  },
  {
   "cell_type": "markdown",
   "metadata": {},
   "source": [
    "In TCGA Xena, there is either zero or one cohort related to the trait. We search the names of subdirectories to see if any matches the trait. If a match is found, we directly obtain the file paths."
   ]
  },
  {
   "cell_type": "code",
   "execution_count": 10,
   "metadata": {},
   "outputs": [
    {
     "data": {
      "text/plain": [
       "['TCGA_Pancreatic_Cancer_(PAAD)',\n",
       " 'TCGA_Bladder_Cancer_(BLCA)',\n",
       " '.DS_Store',\n",
       " 'TCGA_Testicular_Cancer_(TGCT)',\n",
       " 'TCGA_Acute_Myeloid_Leukemia_(LAML)',\n",
       " 'TCGA_Breast_Cancer_(BRCA)',\n",
       " 'TCGA_Stomach_Cancer_(STAD)',\n",
       " 'TCGA_Thyroid_Cancer_(THCA)',\n",
       " 'TCGA_Glioblastoma_(GBM)']"
      ]
     },
     "execution_count": 10,
     "metadata": {},
     "output_type": "execute_result"
    }
   ],
   "source": [
    "import os\n",
    "from utils import *\n",
    "\n",
    "dataset = 'TCGA'\n",
    "dataset_dir = os.path.join(DATA_ROOT, dataset)\n",
    "os.listdir(dataset_dir)[:10]"
   ]
  },
  {
   "cell_type": "markdown",
   "metadata": {},
   "source": [
    "If no match is found, jump directly to GEO in Part 2.2"
   ]
  },
  {
   "cell_type": "code",
   "execution_count": 11,
   "metadata": {
    "ExecuteTime": {
     "end_time": "2023-12-31T21:19:09.918243934Z",
     "start_time": "2023-12-31T21:19:09.909021135Z"
    }
   },
   "outputs": [],
   "source": [
    "trait_subdir = \"TCGA_Bladder_Cancer_(BLCA)\"\n",
    "cohort = 'Xena'\n",
    "# All the cancer traits in Xena are binary\n",
    "trait_type = 'binary'\n",
    "# Once a relevant cohort is found in Xena, we can generally assume the gene and clinical data are available\n",
    "is_available = True\n",
    "\n",
    "clinical_data_file = os.path.join(dataset_dir, trait_subdir, 'TCGA.BLCA.sampleMap_BLCA_clinicalMatrix')\n",
    "genetic_data_file = os.path.join(dataset_dir, trait_subdir, 'TCGA.BLCA.sampleMap_HiSeqV2_PANCAN.gz')"
   ]
  },
  {
   "cell_type": "code",
   "execution_count": 12,
   "metadata": {
    "ExecuteTime": {
     "end_time": "2023-12-31T21:19:13.613198409Z",
     "start_time": "2023-12-31T21:19:10.409688003Z"
    },
    "id": "MudwB-_iz7sc"
   },
   "outputs": [],
   "source": [
    "import pandas as pd\n",
    "\n",
    "clinical_data = pd.read_csv(clinical_data_file, sep='\\t', index_col=0)\n",
    "genetic_data = pd.read_csv(genetic_data_file, compression='gzip', sep='\\t', index_col=0)\n",
    "age_col = gender_col = None"
   ]
  },
  {
   "cell_type": "code",
   "execution_count": 13,
   "metadata": {
    "ExecuteTime": {
     "end_time": "2023-12-31T21:19:13.617006167Z",
     "start_time": "2023-12-31T21:19:13.614080653Z"
    }
   },
   "outputs": [],
   "source": [
    "_, clinical_data_cols = check_rows_and_columns(clinical_data)"
   ]
  },
  {
   "cell_type": "code",
   "execution_count": 14,
   "metadata": {
    "ExecuteTime": {
     "end_time": "2023-12-31T21:19:13.661538569Z",
     "start_time": "2023-12-31T21:19:13.615946213Z"
    }
   },
   "outputs": [
    {
     "data": {
      "text/plain": [
       "['_INTEGRATION',\n",
       " '_PANCAN_CNA_PANCAN_K8',\n",
       " '_PANCAN_Cluster_Cluster_PANCAN',\n",
       " '_PANCAN_DNAMethyl_BLCA',\n",
       " '_PANCAN_DNAMethyl_PANCAN',\n",
       " '_PANCAN_RPPA_PANCAN_K8',\n",
       " '_PANCAN_UNC_RNAseq_PANCAN_K16',\n",
       " '_PANCAN_miRNA_PANCAN',\n",
       " '_PANCAN_mirna_BLCA',\n",
       " '_PANCAN_mutation_PANCAN']"
      ]
     },
     "execution_count": 14,
     "metadata": {},
     "output_type": "execute_result"
    }
   ],
   "source": [
    "clinical_data_cols[:10]"
   ]
  },
  {
   "cell_type": "markdown",
   "metadata": {
    "ExecuteTime": {
     "end_time": "2023-12-28T20:20:11.841042813Z",
     "start_time": "2023-12-28T20:20:11.834458206Z"
    }
   },
   "source": [
    "Read all the column names in the clinical dataset, to find the columns that record information about age or gender.\n",
    "Reference prompt:"
   ]
  },
  {
   "cell_type": "code",
   "execution_count": 15,
   "metadata": {
    "ExecuteTime": {
     "end_time": "2023-12-31T21:19:13.661858700Z",
     "start_time": "2023-12-31T21:19:13.656749487Z"
    }
   },
   "outputs": [
    {
     "data": {
      "text/plain": [
       "\"\\nBelow is a list of column names from a biomedical dataset. Please examine it and identify the columns that are likely to contain information about patients' age. Additionally, please do the same for columns that may hold data on patients' gender. Please provide your answer by strictly following this format, without redundant words:\\ncandidate_age_cols = [col_name1, col_name2, ...]\\ncandidate_gender_cols = [col_name1, col_name2, ...]\\nIf no columns match a criterion, please provide an empty list.\\n\\nColumn names:\\n['_INTEGRATION', '_PANCAN_CNA_PANCAN_K8', '_PANCAN_Cluster_Cluster_PANCAN', '_PANCAN_DNAMethyl_BLCA', '_PANCAN_DNAMethyl_PANCAN', '_PANCAN_RPPA_PANCAN_K8', '_PANCAN_UNC_RNAseq_PANCAN_K16', '_PANCAN_miRNA_PANCAN', '_PANCAN_mirna_BLCA', '_PANCAN_mutation_PANCAN', '_PATIENT', '_cohort', '_primary_disease', '_primary_site', 'additional_pharmaceutical_therapy', 'additional_radiation_therapy', 'additional_surgery_locoregional_procedure', 'additional_treatment_completion_success_outcome', 'age_at_initial_pathologic_diagnosis', 'age_began_smoking_in_years', 'anatomic_neoplasm_subdivision', 'bcr_followup_barcode', 'bcr_patient_barcode', 'bcr_sample_barcode', 'bladder_carcinoma_extracapsular_extension_status', 'cancer_diagnosis_cancer_type_icd9_text_name', 'chemical_exposure_text', 'clinical_T', 'complete_response_observed', 'days_to_additional_surgery_metastatic_procedure', 'days_to_birth', 'days_to_collection', 'days_to_death', 'days_to_initial_pathologic_diagnosis', 'days_to_last_followup', 'days_to_new_tumor_event_additional_surgery_procedure', 'days_to_new_tumor_event_after_initial_treatment', 'diagnosis_subtype', 'disease_code', 'disease_extracapsular_extension_ind_3', 'eastern_cancer_oncology_group', 'family_member_relationship_type', 'followup_case_report_form_submission_reason', 'form_completion_date', 'gender', 'height', 'hist_of_non_mibc', 'histological_type', 'history_of_neoadjuvant_treatment', 'icd_10', 'icd_o_3_histology', 'icd_o_3_site', 'induction_course_complete', 'informed_consent_verified', 'init_pathology_dx_method_other', 'initial_pathologic_diagnosis_method', 'initial_weight', 'is_ffpe', 'karnofsky_performance_score', 'lost_follow_up', 'lymph_node_examined_count', 'lymphovascular_invasion_present', 'maint_therapy_course_complete', 'metastatic_site', 'mibc_90day_post_resection_bcg', 'neoplasm_histologic_grade', 'new_neoplasm_event_occurrence_anatomic_site', 'new_neoplasm_event_type', 'new_neoplasm_occurrence_anatomic_site_text', 'new_tumor_event_additional_surgery_procedure', 'new_tumor_event_after_initial_treatment', 'non_mibc_tx', 'number_of_lymphnodes_positive_by_he', 'number_pack_years_smoked', 'occupation_primary_job', 'oct_embedded', 'other_dx', 'other_metastatic_site', 'pathologic_M', 'pathologic_N', 'pathologic_T', 'pathologic_stage', 'pathology_report_file_name', 'patient_id', 'person_concomitant_prostate_carcinoma_occurrence_indicator', 'person_concomitant_prostate_carcinoma_pathologic_t_stage', 'person_neoplasm_cancer_status', 'person_occupation_description_text', 'person_occupation_years_number', 'person_primary_industry_text', 'postoperative_rx_tx', 'primary_lymph_node_presentation_assessment', 'primary_therapy_outcome_success', 'project_code', 'radiation_therapy', 'resp_maint_from_bcg_admin_month_dur', 'sample_type', 'sample_type_id', 'stopped_smoking_year', 'system_version', 'targeted_molecular_therapy', 'tissue_prospective_collection_indicator', 'tissue_retrospective_collection_indicator', 'tissue_source_site', 'tobacco_smoking_history', 'tumor_tissue_site', 'vial_number', 'vital_status', 'weight', 'year_of_initial_pathologic_diagnosis', '_GENOMIC_ID_TCGA_BLCA_RPPA', '_GENOMIC_ID_TCGA_BLCA_mutation_curated_broad_gene', '_GENOMIC_ID_TCGA_BLCA_mutation', '_GENOMIC_ID_TCGA_BLCA_gistic2thd', '_GENOMIC_ID_TCGA_BLCA_RPPA_RBN', '_GENOMIC_ID_data/public/TCGA/BLCA/miRNA_HiSeq_gene', '_GENOMIC_ID_TCGA_BLCA_PDMRNAseqCNV', '_GENOMIC_ID_TCGA_BLCA_PDMRNAseq', '_GENOMIC_ID_TCGA_BLCA_mutation_broad_gene', '_GENOMIC_ID_data/public/TCGA/BLCA/miRNA_GA_gene', '_GENOMIC_ID_TCGA_BLCA_exp_HiSeqV2', '_GENOMIC_ID_TCGA_BLCA_exp_HiSeqV2_percentile', '_GENOMIC_ID_TCGA_BLCA_exp_HiSeqV2_exon', '_GENOMIC_ID_TCGA_BLCA_exp_HiSeqV2_PANCAN', '_GENOMIC_ID_TCGA_BLCA_miRNA_HiSeq', '_GENOMIC_ID_TCGA_BLCA_miRNA_GA', '_GENOMIC_ID_TCGA_BLCA_hMethyl450', '_GENOMIC_ID_TCGA_BLCA_mutation_bcgsc_gene', '_GENOMIC_ID_TCGA_BLCA_gistic2']\\n\""
      ]
     },
     "execution_count": 15,
     "metadata": {},
     "output_type": "execute_result"
    }
   ],
   "source": [
    "f'''\n",
    "Below is a list of column names from a biomedical dataset. Please examine it and identify the columns that are likely to contain information about patients' age. Additionally, please do the same for columns that may hold data on patients' gender. Please provide your answer by strictly following this format, without redundant words:\n",
    "candidate_age_cols = [col_name1, col_name2, ...]\n",
    "candidate_gender_cols = [col_name1, col_name2, ...]\n",
    "If no columns match a criterion, please provide an empty list.\n",
    "\n",
    "Column names:\n",
    "{clinical_data_cols}\n",
    "'''"
   ]
  },
  {
   "cell_type": "code",
   "execution_count": 16,
   "metadata": {
    "ExecuteTime": {
     "end_time": "2023-12-31T21:19:13.661938833Z",
     "start_time": "2023-12-31T21:19:13.656901848Z"
    }
   },
   "outputs": [],
   "source": [
    "candidate_age_cols = ['age_at_initial_pathologic_diagnosis',\n",
    "                      'days_to_birth', 'year_of_initial_pathologic_diagnosis']\n",
    "candidate_gender_cols = ['gender']"
   ]
  },
  {
   "cell_type": "markdown",
   "metadata": {
    "ExecuteTime": {
     "end_time": "2023-12-31T03:57:44.207565572Z",
     "start_time": "2023-12-31T03:57:44.202177544Z"
    }
   },
   "source": [
    "Choose a single column from the candidate columns that record age and gender information respectively.\n",
    "If no column meets the requirement, keep 'age_col' or 'gender_col' to None"
   ]
  },
  {
   "cell_type": "code",
   "execution_count": 17,
   "metadata": {
    "ExecuteTime": {
     "end_time": "2023-12-31T21:19:13.662078139Z",
     "start_time": "2023-12-31T21:19:13.657006017Z"
    }
   },
   "outputs": [
    {
     "data": {
      "text/plain": [
       "{'age_at_initial_pathologic_diagnosis': [63, 66, 69, 59, 83],\n",
       " 'days_to_birth': [-23323.0, -24428.0, -25259.0, -21848.0, -30520.0],\n",
       " 'year_of_initial_pathologic_diagnosis': [2008.0,\n",
       "  2011.0,\n",
       "  2007.0,\n",
       "  2000.0,\n",
       "  2006.0]}"
      ]
     },
     "execution_count": 17,
     "metadata": {},
     "output_type": "execute_result"
    }
   ],
   "source": [
    "preview_df(clinical_data[candidate_age_cols])"
   ]
  },
  {
   "cell_type": "code",
   "execution_count": 18,
   "metadata": {
    "ExecuteTime": {
     "end_time": "2023-12-31T21:19:13.777159137Z",
     "start_time": "2023-12-31T21:19:13.756210135Z"
    }
   },
   "outputs": [],
   "source": [
    "age_col = 'age_at_initial_pathologic_diagnosis'"
   ]
  },
  {
   "cell_type": "code",
   "execution_count": 19,
   "metadata": {
    "ExecuteTime": {
     "end_time": "2023-12-31T21:19:14.313425023Z",
     "start_time": "2023-12-31T21:19:14.305221062Z"
    }
   },
   "outputs": [
    {
     "data": {
      "text/plain": [
       "{'gender': ['MALE', 'MALE', 'MALE', 'FEMALE', 'MALE']}"
      ]
     },
     "execution_count": 19,
     "metadata": {},
     "output_type": "execute_result"
    }
   ],
   "source": [
    "preview_df(clinical_data[candidate_gender_cols])"
   ]
  },
  {
   "cell_type": "code",
   "execution_count": 20,
   "metadata": {
    "ExecuteTime": {
     "end_time": "2023-12-31T21:19:14.852502962Z",
     "start_time": "2023-12-31T21:19:14.845153121Z"
    }
   },
   "outputs": [],
   "source": [
    "gender_col = 'gender'"
   ]
  },
  {
   "cell_type": "code",
   "execution_count": 21,
   "metadata": {
    "ExecuteTime": {
     "end_time": "2023-12-31T21:19:15.246065025Z",
     "start_time": "2023-12-31T21:19:15.240279162Z"
    }
   },
   "outputs": [],
   "source": [
    "selected_clinical_data = xena_select_clinical_features(clinical_data, TRAIT, age_col, gender_col)"
   ]
  },
  {
   "cell_type": "code",
   "execution_count": 22,
   "metadata": {
    "ExecuteTime": {
     "end_time": "2023-12-31T21:19:15.593478652Z",
     "start_time": "2023-12-31T21:19:15.583841656Z"
    }
   },
   "outputs": [
    {
     "name": "stderr",
     "output_type": "stream",
     "text": [
      "13 input query terms found dup hits:\t[('GTF2IP1', 2), ('RBMY1A3P', 3), ('RPL31P11', 2), ('HERC2P2', 3), ('WASH3P', 3), ('NUDT9P1', 2), ('\n",
      "154 input query terms found no hit:\t['C16orf13', 'C16orf11', 'LOC100272146', 'LOC339240', 'NACAP1', 'LOC441204', 'KLRA1', 'FAM183A', 'FA\n",
      "10 input query terms found dup hits:\t[('SUGT1P1', 2), ('PTPRVP', 2), ('SNORA62', 3), ('IFITM4P', 7), ('HLA-DRB6', 2), ('FUNDC2P2', 2), ('\n",
      "190 input query terms found no hit:\t['NARFL', 'NFKBIL2', 'LOC150197', 'TMEM84', 'LOC162632', 'PPPDE1', 'PPPDE2', 'C1orf38', 'C1orf31', '\n",
      "11 input query terms found dup hits:\t[('PIP5K1P1', 2), ('HBD', 2), ('PPP1R2P1', 9), ('HSD17B7P2', 2), ('RPSAP9', 2), ('SNORD68', 2), ('SN\n",
      "149 input query terms found no hit:\t['FAM153C', 'C9orf167', 'CLK2P', 'CCDC76', 'CCDC75', 'CCDC72', 'HIST3H2BB', 'PRAC', 'LOC285780', 'LO\n",
      "15 input query terms found dup hits:\t[('SNORD58C', 2), ('UOX', 2), ('UBE2Q2P1', 3), ('PPP4R1L', 2), ('SNORD63', 3), ('ESPNP', 2), ('HBBP1\n",
      "158 input query terms found no hit:\t['C16orf91', 'LOC100130581', 'SFRS2', 'C16orf5', 'C16orf7', 'C16orf3', 'C21orf7', 'C21orf2', 'LOC389\n",
      "15 input query terms found dup hits:\t[('FAM66D', 3), ('FAM66A', 2), ('THSD1P1', 2), ('EEF1DP3', 2), ('PGM5P2', 2), ('UBE2MP1', 2), ('HAR1\n",
      "169 input query terms found no hit:\t['LOC284551', 'LOC285548', 'LOC728410', 'LOC541473', 'DULLARD', 'KIAA0368', 'EFTUD1', 'TWISTNB', 'SF\n",
      "13 input query terms found dup hits:\t[('S100A7L2', 2), ('POM121L8P', 2), ('MEG8', 2), ('KIR3DX1', 5), ('RFPL1S', 2), ('SNORD91B', 2), ('C\n",
      "165 input query terms found no hit:\t['TMEM188', 'PDZD3', 'FAM102B', 'FAM102A', 'SMCR7L', 'G6PC', 'OSTCL', 'LOC653544', 'LOC653545', 'USP\n",
      "16 input query terms found dup hits:\t[('PCNAP1', 2), ('SNORA63', 6), ('SERHL', 2), ('CEACAM22P', 2), ('SNORA16A', 2), ('FAM41AY1', 2), ('\n",
      "147 input query terms found no hit:\t['LRRC37A4', 'LOC100131726', 'CPSF3L', 'COL4A3BP', 'PAR1', 'LOC92973', 'MICALCL', 'SMCR7', 'HIST4H4'\n",
      "15 input query terms found dup hits:\t[('MBL1P', 2), ('SDHAP3', 2), ('PSORS1C3', 8), ('MYADML', 2), ('POM121L10P', 2), ('HLA-J', 9), ('HLA\n",
      "153 input query terms found no hit:\t['LOC100131193', 'KIAA1109', 'DUS2L', 'MYST1', 'IGLL3', 'C12orf69', 'NEURL', 'FAM188B', 'FLJ32063', \n",
      "9 input query terms found dup hits:\t[('PLGLA', 2), ('PA2G4P4', 2), ('RPL23AP7', 2), ('RPL23AP64', 3), ('RPSAP52', 2), ('TPRXL', 2), ('DP\n",
      "177 input query terms found no hit:\t['LOC283314', 'RBM9', 'C20orf118', 'LOC150786', 'C20orf112', 'C20orf111', 'C20orf117', 'C20orf114', \n",
      "18 input query terms found dup hits:\t[('TPTE2P1', 2), ('FOLH1B', 2), ('ID2B', 2), ('MSX2P1', 2), ('RAET1K', 2), ('BMS1P4', 2), ('RPL23AP8\n",
      "175 input query terms found no hit:\t['MYEOV2', 'FAM35B2', 'C20orf85', 'FAM175A', 'C17orf73', 'C17orf72', 'C17orf71', 'C17orf70', 'C17orf\n",
      "19 input query terms found dup hits:\t[('CATSPER2P1', 2), ('AQP7P1', 2), ('ATP8B5P', 2), ('OR7E91P', 2), ('ZNF204P', 2), ('CECR7', 2), ('M\n",
      "144 input query terms found no hit:\t['BASE', 'C14orf21', 'C14orf23', 'FAM5B', 'TROVE2', 'C18orf62', 'LOC401052', 'GNB2L1', 'FAM19A4', 'F\n",
      "13 input query terms found dup hits:\t[('P2RX6P', 2), ('RP9P', 2), ('NRADDP', 2), ('MORF4', 2), ('SNORA75', 6), ('SNORA72', 2), ('FMO6P', \n",
      "169 input query terms found no hit:\t['TTC15', 'C4orf29', 'FAM48A', 'C4orf21', 'C3orf65', 'C4orf23', 'C3orf67', 'LOC144742', 'C3orf63', '\n",
      "19 input query terms found dup hits:\t[('RPL13AP17', 2), ('DNAJB3', 2), ('SNORA58', 2), ('PMCHL1', 2), ('FAM95B1', 2), ('TMEM191A', 2), ('\n",
      "144 input query terms found no hit:\t['LOC254312', 'ZNF542', 'CSDAP1', 'FAM73A', 'FAM73B', 'TCTE3', 'ZNF37B', 'LOC728875', 'KIAA1826', 'P\n",
      "15 input query terms found dup hits:\t[('ZFP91-CNTF', 2), ('PRSS30P', 3), ('GSTM2P1', 2), ('C3P1', 2), ('NCF1B', 2), ('SNORD114-4', 2), ('\n",
      "138 input query terms found no hit:\t['LOC100129716', 'C14orf184', 'C14orf181', 'C14orf183', 'C14orf182', 'C7orf26', 'C7orf27', 'C7orf23'\n",
      "14 input query terms found dup hits:\t[('ANXA2P1', 2), ('ANXA2P3', 2), ('ANXA2P2', 2), ('ZNF286B', 2), ('SAA3P', 2), ('GEMIN8P4', 2), ('DI\n",
      "132 input query terms found no hit:\t['AKR1CL1', 'CCDC21', 'CCDC23', 'TMEM111', 'APOB48R', 'LOC595101', 'KIAA1430', 'KIAA1432', 'ORC4L', \n",
      "11 input query terms found dup hits:\t[('TCP10L2', 2), ('FTLP10', 2), ('TPTE2P3', 2), ('VENTXP1', 2), ('XKRY', 2), ('HTR7P1', 2), ('STAG3L\n",
      "175 input query terms found no hit:\t['DFNB59', 'LOC100170939', 'FAM36A', 'C2orf70', 'C2orf71', 'C2orf77', 'C2orf79', 'LOC100128191', 'HR\n",
      "16 input query terms found dup hits:\t[('ZNF702P', 2), ('BRD7P3', 2), ('SCARNA17', 2), ('GABARAPL3', 2), ('MT1IP', 2), ('ADAM6', 3), ('PDZ\n",
      "142 input query terms found no hit:\t['C9orf30', 'PEG3AS', 'C9orf37', 'TXNDC3', 'LOC442308', 'FAM46D', 'FAM46A', 'FAM46B', 'FAM46C', 'WDR\n",
      "10 input query terms found dup hits:\t[('FAM197Y2', 3), ('SNORA71B', 2), ('PRKY', 2), ('NAT8B', 3), ('VENTXP7', 2), ('SPRR2C', 2), ('RPL23\n",
      "148 input query terms found no hit:\t['FCGR1B', 'RG9MTD2', 'RARS', 'LOC727677', 'CCRN4L', 'SEPT14', 'HKR1', 'C1orf112', 'LOC100270710', '\n",
      "16 input query terms found dup hits:\t[('OR6W1P', 3), ('LYPLA2P1', 6), ('RPL23AP53', 2), ('TRPC2', 2), ('RBMY2FP', 2), ('BAGE2', 2), ('POM\n",
      "150 input query terms found no hit:\t['SIP1', 'FAM129C', 'GIF', 'TMCO7', 'CXorf61', 'CXorf64', 'ZNF192', 'SEPP1', 'KIRREL', 'MGC16121', '\n",
      "17 input query terms found dup hits:\t[('ISCA1P1', 2), ('PCDHB19P', 3), ('NAPSB', 2), ('WASH7P', 2), ('TTTY11', 2), ('HCG4', 9), ('OR5E1P'\n",
      "135 input query terms found no hit:\t['PPYR1', 'FAM82A2', 'FLJ37453', 'FAM82A1', 'KIAA0947', 'MOBKL2B', 'MOBKL2C', 'MOBKL2A', 'CMAH', 'GR\n",
      "5 input query terms found dup hits:\t[('GGNBP1', 2), ('WASH5P', 2), ('RPL29P2', 2), ('CDR1', 2), ('OR10J3', 3)]\n",
      "78 input query terms found no hit:\t['C14orf174', 'C14orf176', 'C14orf177', 'C14orf179', 'PTPLB', 'SGEF', 'LOC400752', 'GRLF1', 'SPANXE'\n"
     ]
    }
   ],
   "source": [
    "if NORMALIZE_GENE:\n",
    "    genetic_data = normalize_gene_symbols_in_index(genetic_data)"
   ]
  },
  {
   "cell_type": "code",
   "execution_count": 23,
   "metadata": {
    "ExecuteTime": {
     "end_time": "2023-12-31T21:19:16.074598194Z",
     "start_time": "2023-12-31T21:19:15.973600157Z"
    }
   },
   "outputs": [
    {
     "data": {
      "text/html": [
       "<div>\n",
       "<style scoped>\n",
       "    .dataframe tbody tr th:only-of-type {\n",
       "        vertical-align: middle;\n",
       "    }\n",
       "\n",
       "    .dataframe tbody tr th {\n",
       "        vertical-align: top;\n",
       "    }\n",
       "\n",
       "    .dataframe thead th {\n",
       "        text-align: right;\n",
       "    }\n",
       "</style>\n",
       "<table border=\"1\" class=\"dataframe\">\n",
       "  <thead>\n",
       "    <tr style=\"text-align: right;\">\n",
       "      <th></th>\n",
       "      <th>Glucocorticoid Sensitivity</th>\n",
       "      <th>Age</th>\n",
       "      <th>Gender</th>\n",
       "      <th>ARHGEF10L</th>\n",
       "      <th>HIF3A</th>\n",
       "      <th>RNF17</th>\n",
       "      <th>RNF10</th>\n",
       "      <th>RNF11</th>\n",
       "      <th>RNF13</th>\n",
       "      <th>GTF2IP1</th>\n",
       "      <th>...</th>\n",
       "      <th>SLC7A10</th>\n",
       "      <th>PLA2G2C</th>\n",
       "      <th>TULP2</th>\n",
       "      <th>NPY5R</th>\n",
       "      <th>GNGT2</th>\n",
       "      <th>GNGT1</th>\n",
       "      <th>TULP3</th>\n",
       "      <th>BCL6B</th>\n",
       "      <th>GSTK1</th>\n",
       "      <th>SELP</th>\n",
       "    </tr>\n",
       "    <tr>\n",
       "      <th>sampleID</th>\n",
       "      <th></th>\n",
       "      <th></th>\n",
       "      <th></th>\n",
       "      <th></th>\n",
       "      <th></th>\n",
       "      <th></th>\n",
       "      <th></th>\n",
       "      <th></th>\n",
       "      <th></th>\n",
       "      <th></th>\n",
       "      <th></th>\n",
       "      <th></th>\n",
       "      <th></th>\n",
       "      <th></th>\n",
       "      <th></th>\n",
       "      <th></th>\n",
       "      <th></th>\n",
       "      <th></th>\n",
       "      <th></th>\n",
       "      <th></th>\n",
       "      <th></th>\n",
       "    </tr>\n",
       "  </thead>\n",
       "  <tbody>\n",
       "    <tr>\n",
       "      <th>TCGA-2F-A9KO-01</th>\n",
       "      <td>1</td>\n",
       "      <td>63</td>\n",
       "      <td>1</td>\n",
       "      <td>0.221008</td>\n",
       "      <td>4.428374</td>\n",
       "      <td>-0.531035</td>\n",
       "      <td>0.720328</td>\n",
       "      <td>-0.408078</td>\n",
       "      <td>-0.39141</td>\n",
       "      <td>0.048706</td>\n",
       "      <td>...</td>\n",
       "      <td>-2.090786</td>\n",
       "      <td>-0.086682</td>\n",
       "      <td>-0.086078</td>\n",
       "      <td>-0.128017</td>\n",
       "      <td>0.094667</td>\n",
       "      <td>3.01571</td>\n",
       "      <td>0.049323</td>\n",
       "      <td>-0.418127</td>\n",
       "      <td>0.095905</td>\n",
       "      <td>1.301467</td>\n",
       "    </tr>\n",
       "    <tr>\n",
       "      <th>TCGA-2F-A9KP-01</th>\n",
       "      <td>1</td>\n",
       "      <td>66</td>\n",
       "      <td>1</td>\n",
       "      <td>1.334508</td>\n",
       "      <td>-2.541326</td>\n",
       "      <td>-0.531035</td>\n",
       "      <td>0.490728</td>\n",
       "      <td>0.523922</td>\n",
       "      <td>-0.59311</td>\n",
       "      <td>0.178806</td>\n",
       "      <td>...</td>\n",
       "      <td>-1.584586</td>\n",
       "      <td>-0.086682</td>\n",
       "      <td>0.124822</td>\n",
       "      <td>-1.085217</td>\n",
       "      <td>-2.360533</td>\n",
       "      <td>1.65561</td>\n",
       "      <td>-0.402877</td>\n",
       "      <td>-0.135527</td>\n",
       "      <td>0.417805</td>\n",
       "      <td>0.588167</td>\n",
       "    </tr>\n",
       "    <tr>\n",
       "      <th>TCGA-2F-A9KQ-01</th>\n",
       "      <td>1</td>\n",
       "      <td>69</td>\n",
       "      <td>1</td>\n",
       "      <td>1.173308</td>\n",
       "      <td>-5.554726</td>\n",
       "      <td>-0.531035</td>\n",
       "      <td>1.647728</td>\n",
       "      <td>0.518622</td>\n",
       "      <td>0.02829</td>\n",
       "      <td>0.800406</td>\n",
       "      <td>...</td>\n",
       "      <td>-1.541286</td>\n",
       "      <td>-0.086682</td>\n",
       "      <td>-0.748878</td>\n",
       "      <td>0.498683</td>\n",
       "      <td>-0.768233</td>\n",
       "      <td>-0.33489</td>\n",
       "      <td>-0.685077</td>\n",
       "      <td>0.392573</td>\n",
       "      <td>-0.115395</td>\n",
       "      <td>-1.106033</td>\n",
       "    </tr>\n",
       "    <tr>\n",
       "      <th>TCGA-2F-A9KR-01</th>\n",
       "      <td>1</td>\n",
       "      <td>59</td>\n",
       "      <td>0</td>\n",
       "      <td>1.090208</td>\n",
       "      <td>0.971574</td>\n",
       "      <td>-0.531035</td>\n",
       "      <td>0.256228</td>\n",
       "      <td>0.586622</td>\n",
       "      <td>-0.73021</td>\n",
       "      <td>0.636006</td>\n",
       "      <td>...</td>\n",
       "      <td>0.311914</td>\n",
       "      <td>-0.086682</td>\n",
       "      <td>0.214422</td>\n",
       "      <td>-1.587117</td>\n",
       "      <td>-1.082733</td>\n",
       "      <td>1.90011</td>\n",
       "      <td>0.422823</td>\n",
       "      <td>-1.583627</td>\n",
       "      <td>0.596105</td>\n",
       "      <td>-0.924533</td>\n",
       "    </tr>\n",
       "    <tr>\n",
       "      <th>TCGA-2F-A9KT-01</th>\n",
       "      <td>1</td>\n",
       "      <td>83</td>\n",
       "      <td>1</td>\n",
       "      <td>0.955008</td>\n",
       "      <td>-1.481926</td>\n",
       "      <td>0.115365</td>\n",
       "      <td>-0.039972</td>\n",
       "      <td>0.746322</td>\n",
       "      <td>-0.59151</td>\n",
       "      <td>0.365906</td>\n",
       "      <td>...</td>\n",
       "      <td>0.763114</td>\n",
       "      <td>-0.086682</td>\n",
       "      <td>-0.748878</td>\n",
       "      <td>-1.587117</td>\n",
       "      <td>-0.136933</td>\n",
       "      <td>1.87471</td>\n",
       "      <td>0.027523</td>\n",
       "      <td>-0.462527</td>\n",
       "      <td>-0.186195</td>\n",
       "      <td>-2.369433</td>\n",
       "    </tr>\n",
       "  </tbody>\n",
       "</table>\n",
       "<p>5 rows × 17341 columns</p>\n",
       "</div>"
      ],
      "text/plain": [
       "                 Glucocorticoid Sensitivity  Age  Gender  ARHGEF10L     HIF3A  \\\n",
       "sampleID                                                                        \n",
       "TCGA-2F-A9KO-01                           1   63       1   0.221008  4.428374   \n",
       "TCGA-2F-A9KP-01                           1   66       1   1.334508 -2.541326   \n",
       "TCGA-2F-A9KQ-01                           1   69       1   1.173308 -5.554726   \n",
       "TCGA-2F-A9KR-01                           1   59       0   1.090208  0.971574   \n",
       "TCGA-2F-A9KT-01                           1   83       1   0.955008 -1.481926   \n",
       "\n",
       "                    RNF17     RNF10     RNF11    RNF13   GTF2IP1  ...  \\\n",
       "sampleID                                                          ...   \n",
       "TCGA-2F-A9KO-01 -0.531035  0.720328 -0.408078 -0.39141  0.048706  ...   \n",
       "TCGA-2F-A9KP-01 -0.531035  0.490728  0.523922 -0.59311  0.178806  ...   \n",
       "TCGA-2F-A9KQ-01 -0.531035  1.647728  0.518622  0.02829  0.800406  ...   \n",
       "TCGA-2F-A9KR-01 -0.531035  0.256228  0.586622 -0.73021  0.636006  ...   \n",
       "TCGA-2F-A9KT-01  0.115365 -0.039972  0.746322 -0.59151  0.365906  ...   \n",
       "\n",
       "                  SLC7A10   PLA2G2C     TULP2     NPY5R     GNGT2    GNGT1  \\\n",
       "sampleID                                                                     \n",
       "TCGA-2F-A9KO-01 -2.090786 -0.086682 -0.086078 -0.128017  0.094667  3.01571   \n",
       "TCGA-2F-A9KP-01 -1.584586 -0.086682  0.124822 -1.085217 -2.360533  1.65561   \n",
       "TCGA-2F-A9KQ-01 -1.541286 -0.086682 -0.748878  0.498683 -0.768233 -0.33489   \n",
       "TCGA-2F-A9KR-01  0.311914 -0.086682  0.214422 -1.587117 -1.082733  1.90011   \n",
       "TCGA-2F-A9KT-01  0.763114 -0.086682 -0.748878 -1.587117 -0.136933  1.87471   \n",
       "\n",
       "                    TULP3     BCL6B     GSTK1      SELP  \n",
       "sampleID                                                 \n",
       "TCGA-2F-A9KO-01  0.049323 -0.418127  0.095905  1.301467  \n",
       "TCGA-2F-A9KP-01 -0.402877 -0.135527  0.417805  0.588167  \n",
       "TCGA-2F-A9KQ-01 -0.685077  0.392573 -0.115395 -1.106033  \n",
       "TCGA-2F-A9KR-01  0.422823 -1.583627  0.596105 -0.924533  \n",
       "TCGA-2F-A9KT-01  0.027523 -0.462527 -0.186195 -2.369433  \n",
       "\n",
       "[5 rows x 17341 columns]"
      ]
     },
     "execution_count": 23,
     "metadata": {},
     "output_type": "execute_result"
    }
   ],
   "source": [
    "merged_data = selected_clinical_data.join(genetic_data.T).dropna()\n",
    "merged_data.head()"
   ]
  },
  {
   "cell_type": "code",
   "execution_count": 24,
   "metadata": {
    "ExecuteTime": {
     "end_time": "2023-12-31T21:19:16.341121723Z",
     "start_time": "2023-12-31T21:19:16.330544222Z"
    }
   },
   "outputs": [
    {
     "name": "stdout",
     "output_type": "stream",
     "text": [
      "The merged dataset contains 426 samples.\n"
     ]
    }
   ],
   "source": [
    "print(f\"The merged dataset contains {len(merged_data)} samples.\")"
   ]
  },
  {
   "cell_type": "code",
   "execution_count": 25,
   "metadata": {
    "ExecuteTime": {
     "end_time": "2023-12-31T21:19:17.222505900Z",
     "start_time": "2023-12-31T21:19:17.218781412Z"
    }
   },
   "outputs": [
    {
     "name": "stdout",
     "output_type": "stream",
     "text": [
      "For the feature 'Glucocorticoid Sensitivity', the least common label is '0' with 19 occurrences. This represents 4.46% of the dataset.\n",
      "The distribution of the feature 'Glucocorticoid Sensitivity' in this dataset is fine.\n",
      "\n",
      "Quartiles for 'Age':\n",
      "  25%: 60.0\n",
      "  50% (Median): 69.0\n",
      "  75%: 76.0\n",
      "Min: 34\n",
      "Max: 90\n",
      "The distribution of the feature 'Age' in this dataset is fine.\n",
      "\n",
      "For the feature 'Gender', the least common label is '0' with 115 occurrences. This represents 27.00% of the dataset.\n",
      "The distribution of the feature 'Gender' in this dataset is fine.\n",
      "\n"
     ]
    },
    {
     "data": {
      "text/plain": [
       "False"
      ]
     },
     "execution_count": 25,
     "metadata": {},
     "output_type": "execute_result"
    }
   ],
   "source": [
    "is_trait_biased, merge_data = judge_and_remove_biased_features(merged_data, TRAIT, trait_type=trait_type)\n",
    "is_trait_biased"
   ]
  },
  {
   "cell_type": "code",
   "execution_count": 26,
   "metadata": {
    "ExecuteTime": {
     "end_time": "2023-12-31T21:19:35.401536463Z",
     "start_time": "2023-12-31T21:19:17.980683628Z"
    }
   },
   "outputs": [],
   "source": [
    "merged_data.head()\n",
    "if not is_trait_biased:\n",
    "    merge_data.to_csv(os.path.join(OUTPUT_DIR, cohort+'.csv'), index=False)"
   ]
  },
  {
   "cell_type": "code",
   "execution_count": 27,
   "metadata": {
    "ExecuteTime": {
     "end_time": "2023-12-31T21:19:35.405288661Z",
     "start_time": "2023-12-31T21:19:35.402799553Z"
    }
   },
   "outputs": [],
   "source": [
    "save_cohort_info(cohort, JSON_PATH, is_available, is_trait_biased, merged_data)"
   ]
  },
  {
   "cell_type": "markdown",
   "metadata": {
    "ExecuteTime": {
     "end_time": "2023-12-28T21:28:38.028916303Z",
     "start_time": "2023-12-28T21:28:38.016245426Z"
    }
   },
   "source": [
    "## 2.2. The GEO dataset"
   ]
  },
  {
   "cell_type": "markdown",
   "metadata": {
    "ExecuteTime": {
     "end_time": "2023-12-31T03:25:23.253882615Z",
     "start_time": "2023-12-31T03:25:23.244062710Z"
    }
   },
   "source": [
    "In GEO, there may be one or multiple cohorts for a trait. Each cohort is identified by an accession number. We iterate over all accession numbers in the corresponding subdirectory, preprocess the cohort data, and save them to csv files."
   ]
  },
  {
   "cell_type": "code",
   "execution_count": 6,
   "metadata": {
    "ExecuteTime": {
     "end_time": "2023-12-31T21:19:35.411177575Z",
     "start_time": "2023-12-31T21:19:35.405710636Z"
    }
   },
   "outputs": [
    {
     "data": {
      "text/plain": [
       "['GSE38352',\n",
       " 'GSE58715',\n",
       " 'GSE32962',\n",
       " 'GSE50012',\n",
       " 'GSE15820',\n",
       " 'GSE2842',\n",
       " 'GSE65645',\n",
       " 'GSE42002',\n",
       " 'GSE57795',\n",
       " 'GSE33649',\n",
       " 'GSE5824',\n",
       " 'GSE94302',\n",
       " 'GSE67042',\n",
       " 'GSE48801',\n",
       " 'GSE67044',\n",
       " 'GSE66705',\n",
       " 'GSE66702']"
      ]
     },
     "execution_count": 6,
     "metadata": {},
     "output_type": "execute_result"
    }
   ],
   "source": [
    "import os\n",
    "from utils import *\n",
    "\n",
    "dataset = 'GEO'\n",
    "trait_subdir = \"Glucocorticoid-Sensitivity\"\n",
    "\n",
    "trait_path = os.path.join(DATA_ROOT, dataset, trait_subdir)\n",
    "os.listdir(trait_path)"
   ]
  },
  {
   "cell_type": "markdown",
   "metadata": {
    "ExecuteTime": {
     "end_time": "2023-12-31T03:39:42.634870142Z",
     "start_time": "2023-12-31T03:39:42.534093295Z"
    }
   },
   "source": [
    "Repeat the below steps for all the accession numbers"
   ]
  },
  {
   "cell_type": "code",
   "execution_count": 92,
   "metadata": {
    "ExecuteTime": {
     "end_time": "2023-12-31T21:19:35.413836016Z",
     "start_time": "2023-12-31T21:19:35.410443976Z"
    }
   },
   "outputs": [
    {
     "data": {
      "text/plain": [
       "('../../DATA/GEO/Glucocorticoid-Sensitivity/GSE66705/GSE66705_family.soft.gz',\n",
       " '../../DATA/GEO/Glucocorticoid-Sensitivity/GSE66705/GSE66705_series_matrix.txt.gz')"
      ]
     },
     "execution_count": 92,
     "metadata": {},
     "output_type": "execute_result"
    }
   ],
   "source": [
    "cohort = accession_num = \"GSE66705\"\n",
    "cohort_dir = os.path.join(trait_path, accession_num)\n",
    "soft_file, matrix_file = get_relevant_filepaths(cohort_dir)\n",
    "soft_file, matrix_file"
   ]
  },
  {
   "cell_type": "markdown",
   "metadata": {},
   "source": [
    "### Inital filtering and clinical data preprocessing"
   ]
  },
  {
   "cell_type": "code",
   "execution_count": 93,
   "metadata": {
    "ExecuteTime": {
     "end_time": "2023-12-31T21:19:35.492119842Z",
     "start_time": "2023-12-31T21:19:35.413383102Z"
    }
   },
   "outputs": [
    {
     "name": "stdout",
     "output_type": "stream",
     "text": [
      "!Series_title\t\"NALP3 inflammasome up-regulation and CASP1 cleavage of the glucocorticoid receptor causes glucocorticoid resistance in leukemia cells [HG-U133_Plus_2]\"\n",
      "!Series_summary\t\"Glucocorticoids are universally used in the treatment of acute lymphoblastic leukemia (ALL), and glucocorticoid resistance in leukemia cells confers a poor prognosis.  To elucidate mechanisms of glucocorticoid resistance, we determined the prednisolone sensitivity of primary leukemia cells from 444 newly diagnosed ALL patients and found significantly higher expression of caspase 1 (CASP1) and its activator NLRP3 in glucocorticoid resistant leukemia cells, due to significantly lower somatic methylation of CASP1 and NLRP3 promoters.  Over-expression of CASP1 resulted in cleavage of the glucocorticoid receptor, diminished glucocorticoid-induced transcriptional response and increased glucocorticoid resistance. Knockdown or inhibition of CASP1 significantly increased glucocorticoid receptor levels and mitigated glucocorticoid resistance in CASP1 overexpressing ALL.  Our findings establish a new mechanism by which the NLRP3/CASP1 inflammasome modulates cellular levels of the glucocorticoid receptor and diminishes cell sensitivity to glucocorticoids. The broad impact on glucocorticoid transcriptional response suggests this mechanism could also modify glucocorticoid effects in other diseases.\"\n",
      "!Series_overall_design\t\"Gene expression profiling\"\n"
     ]
    }
   ],
   "source": [
    "background_prefixes = ['!Series_title', '!Series_summary', '!Series_overall_design']\n",
    "clinical_prefixes = ['!Sample_geo_accession', '!Sample_characteristics_ch1']\n",
    "\n",
    "background_info, clinical_data = get_background_and_clinical_data(matrix_file, background_prefixes, clinical_prefixes)\n",
    "print(background_info)"
   ]
  },
  {
   "cell_type": "code",
   "execution_count": 94,
   "metadata": {
    "ExecuteTime": {
     "end_time": "2023-12-31T21:19:35.507840422Z",
     "start_time": "2023-12-31T21:19:35.451789107Z"
    }
   },
   "outputs": [
    {
     "data": {
      "text/html": [
       "<div>\n",
       "<style scoped>\n",
       "    .dataframe tbody tr th:only-of-type {\n",
       "        vertical-align: middle;\n",
       "    }\n",
       "\n",
       "    .dataframe tbody tr th {\n",
       "        vertical-align: top;\n",
       "    }\n",
       "\n",
       "    .dataframe thead th {\n",
       "        text-align: right;\n",
       "    }\n",
       "</style>\n",
       "<table border=\"1\" class=\"dataframe\">\n",
       "  <thead>\n",
       "    <tr style=\"text-align: right;\">\n",
       "      <th></th>\n",
       "      <th>!Sample_geo_accession</th>\n",
       "      <th>GSM1629982</th>\n",
       "      <th>GSM1629983</th>\n",
       "      <th>GSM1629984</th>\n",
       "      <th>GSM1629985</th>\n",
       "      <th>GSM1629986</th>\n",
       "      <th>GSM1629987</th>\n",
       "      <th>GSM1629988</th>\n",
       "      <th>GSM1629989</th>\n",
       "      <th>GSM1629990</th>\n",
       "      <th>...</th>\n",
       "      <th>GSM1630156</th>\n",
       "      <th>GSM1630158</th>\n",
       "      <th>GSM1630160</th>\n",
       "      <th>GSM1630162</th>\n",
       "      <th>GSM1630163</th>\n",
       "      <th>GSM1630164</th>\n",
       "      <th>GSM1630165</th>\n",
       "      <th>GSM1630166</th>\n",
       "      <th>GSM1630167</th>\n",
       "      <th>GSM1630168</th>\n",
       "    </tr>\n",
       "  </thead>\n",
       "  <tbody>\n",
       "    <tr>\n",
       "      <th>0</th>\n",
       "      <td>!Sample_characteristics_ch1</td>\n",
       "      <td>predlc50group: #N/A</td>\n",
       "      <td>predlc50group: #N/A</td>\n",
       "      <td>predlc50group: #N/A</td>\n",
       "      <td>predlc50group: #N/A</td>\n",
       "      <td>predlc50group: RES</td>\n",
       "      <td>predlc50group: #N/A</td>\n",
       "      <td>predlc50group: RES</td>\n",
       "      <td>predlc50group: RES</td>\n",
       "      <td>predlc50group: #N/A</td>\n",
       "      <td>...</td>\n",
       "      <td>predlc50group: SEN</td>\n",
       "      <td>predlc50group: INT</td>\n",
       "      <td>predlc50group: INT</td>\n",
       "      <td>predlc50group: SEN</td>\n",
       "      <td>predlc50group: RES</td>\n",
       "      <td>predlc50group: RES</td>\n",
       "      <td>predlc50group: RES</td>\n",
       "      <td>predlc50group: INT</td>\n",
       "      <td>predlc50group: SEN</td>\n",
       "      <td>predlc50group: INT</td>\n",
       "    </tr>\n",
       "    <tr>\n",
       "      <th>1</th>\n",
       "      <td>!Sample_characteristics_ch1</td>\n",
       "      <td>lin: B</td>\n",
       "      <td>lin: T</td>\n",
       "      <td>lin: B</td>\n",
       "      <td>lin: B</td>\n",
       "      <td>lin: B</td>\n",
       "      <td>lin: B</td>\n",
       "      <td>lin: B</td>\n",
       "      <td>lin: B</td>\n",
       "      <td>lin: B</td>\n",
       "      <td>...</td>\n",
       "      <td>lin: B</td>\n",
       "      <td>lin: B</td>\n",
       "      <td>lin: B</td>\n",
       "      <td>lin: B</td>\n",
       "      <td>lin: B</td>\n",
       "      <td>lin: B</td>\n",
       "      <td>lin: T</td>\n",
       "      <td>lin: B</td>\n",
       "      <td>lin: B</td>\n",
       "      <td>lin: B</td>\n",
       "    </tr>\n",
       "  </tbody>\n",
       "</table>\n",
       "<p>2 rows × 172 columns</p>\n",
       "</div>"
      ],
      "text/plain": [
       "         !Sample_geo_accession           GSM1629982           GSM1629983  \\\n",
       "0  !Sample_characteristics_ch1  predlc50group: #N/A  predlc50group: #N/A   \n",
       "1  !Sample_characteristics_ch1               lin: B               lin: T   \n",
       "\n",
       "            GSM1629984           GSM1629985          GSM1629986  \\\n",
       "0  predlc50group: #N/A  predlc50group: #N/A  predlc50group: RES   \n",
       "1               lin: B               lin: B              lin: B   \n",
       "\n",
       "            GSM1629987          GSM1629988          GSM1629989  \\\n",
       "0  predlc50group: #N/A  predlc50group: RES  predlc50group: RES   \n",
       "1               lin: B              lin: B              lin: B   \n",
       "\n",
       "            GSM1629990  ...          GSM1630156          GSM1630158  \\\n",
       "0  predlc50group: #N/A  ...  predlc50group: SEN  predlc50group: INT   \n",
       "1               lin: B  ...              lin: B              lin: B   \n",
       "\n",
       "           GSM1630160          GSM1630162          GSM1630163  \\\n",
       "0  predlc50group: INT  predlc50group: SEN  predlc50group: RES   \n",
       "1              lin: B              lin: B              lin: B   \n",
       "\n",
       "           GSM1630164          GSM1630165          GSM1630166  \\\n",
       "0  predlc50group: RES  predlc50group: RES  predlc50group: INT   \n",
       "1              lin: B              lin: T              lin: B   \n",
       "\n",
       "           GSM1630167          GSM1630168  \n",
       "0  predlc50group: SEN  predlc50group: INT  \n",
       "1              lin: B              lin: B  \n",
       "\n",
       "[2 rows x 172 columns]"
      ]
     },
     "execution_count": 94,
     "metadata": {},
     "output_type": "execute_result"
    }
   ],
   "source": [
    "clinical_data.head()"
   ]
  },
  {
   "cell_type": "code",
   "execution_count": 95,
   "metadata": {
    "ExecuteTime": {
     "end_time": "2023-12-31T21:19:35.508015426Z",
     "start_time": "2023-12-31T21:19:35.492746637Z"
    }
   },
   "outputs": [
    {
     "data": {
      "text/plain": [
       "{0: ['predlc50group: #N/A',\n",
       "  'predlc50group: RES',\n",
       "  'predlc50group: SEN',\n",
       "  'predlc50group: INT'],\n",
       " 1: ['lin: B', 'lin: T']}"
      ]
     },
     "execution_count": 95,
     "metadata": {},
     "output_type": "execute_result"
    }
   ],
   "source": [
    "clinical_data_unique = get_unique_values_by_row(clinical_data)\n",
    "clinical_data_unique"
   ]
  },
  {
   "cell_type": "markdown",
   "metadata": {
    "ExecuteTime": {
     "end_time": "2023-12-31T03:58:04.978204446Z",
     "start_time": "2023-12-31T03:58:04.922270095Z"
    }
   },
   "source": [
    "Analyze the metadata to determine data relevance and find ways to extract the clinical data.\n",
    "Reference prompt:"
   ]
  },
  {
   "cell_type": "code",
   "execution_count": 96,
   "metadata": {
    "ExecuteTime": {
     "end_time": "2023-12-31T21:19:35.508232400Z",
     "start_time": "2023-12-31T21:19:35.492903487Z"
    }
   },
   "outputs": [
    {
     "data": {
      "text/plain": [
       "'As a biomedical research team, we are selecting datasets to study the association between the human trait \\'Glucocorticoid Sensitivity\\' and genetic factors, optionally considering the influence of age and gender. After searching the GEO database and parsing the matrix file of a series, we obtained background information and sample characteristics data. We will provide textual information about the dataset background, and a Python dictionary storing a list of unique values for each field of the sample characteristics data. Please carefully review the provided information and answer the following questions about this dataset:\\n1. Does this dataset contain gene expression data? (Note: Pure miRNA data is not suitable.)\\n2. For each of the traits \\'Glucocorticoid Sensitivity\\', \\'age\\', and \\'gender\\', please address these points:\\n   (1) Is there human data available for this trait?\\n   (2) If so, identify the key in the sample characteristics dictionary where unique values of this trait is recorded. The key is an integer. The trait information might be explicitly recorded, or can be inferred from the field with some biomedical knowledge or understanding about the data collection process.\\n   (3) Choose an appropriate data type (either \\'continuous\\' or \\'binary\\') for each trait. Write a Python function to convert any given value of the trait to this data type. The function should handle inference about the trait value and convert unknown values to None.\\n   Name the functions \\'convert_trait\\', \\'convert_age\\', and \\'convert_gender\\', respectively.\\n\\nBackground information about the dataset:\\n!Series_title\\t\"NALP3 inflammasome up-regulation and CASP1 cleavage of the glucocorticoid receptor causes glucocorticoid resistance in leukemia cells [HG-U133_Plus_2]\"\\n!Series_summary\\t\"Glucocorticoids are universally used in the treatment of acute lymphoblastic leukemia (ALL), and glucocorticoid resistance in leukemia cells confers a poor prognosis.  To elucidate mechanisms of glucocorticoid resistance, we determined the prednisolone sensitivity of primary leukemia cells from 444 newly diagnosed ALL patients and found significantly higher expression of caspase 1 (CASP1) and its activator NLRP3 in glucocorticoid resistant leukemia cells, due to significantly lower somatic methylation of CASP1 and NLRP3 promoters.  Over-expression of CASP1 resulted in cleavage of the glucocorticoid receptor, diminished glucocorticoid-induced transcriptional response and increased glucocorticoid resistance. Knockdown or inhibition of CASP1 significantly increased glucocorticoid receptor levels and mitigated glucocorticoid resistance in CASP1 overexpressing ALL.  Our findings establish a new mechanism by which the NLRP3/CASP1 inflammasome modulates cellular levels of the glucocorticoid receptor and diminishes cell sensitivity to glucocorticoids. The broad impact on glucocorticoid transcriptional response suggests this mechanism could also modify glucocorticoid effects in other diseases.\"\\n!Series_overall_design\\t\"Gene expression profiling\"\\n\\nSample characteristics dictionary (from \"!Sample_characteristics_ch1\", converted to a Python dictionary that stores the unique values for each field):\\n{0: [\\'predlc50group: #N/A\\', \\'predlc50group: RES\\', \\'predlc50group: SEN\\', \\'predlc50group: INT\\'], 1: [\\'lin: B\\', \\'lin: T\\']}\\n'"
      ]
     },
     "execution_count": 96,
     "metadata": {},
     "output_type": "execute_result"
    }
   ],
   "source": [
    "f'''As a biomedical research team, we are selecting datasets to study the association between the human trait \\'{TRAIT}\\' and genetic factors, optionally considering the influence of age and gender. After searching the GEO database and parsing the matrix file of a series, we obtained background information and sample characteristics data. We will provide textual information about the dataset background, and a Python dictionary storing a list of unique values for each field of the sample characteristics data. Please carefully review the provided information and answer the following questions about this dataset:\n",
    "1. Does this dataset contain gene expression data? (Note: Pure miRNA data is not suitable.)\n",
    "2. For each of the traits \\'{TRAIT}\\', 'age', and 'gender', please address these points:\n",
    "   (1) Is there human data available for this trait?\n",
    "   (2) If so, identify the key in the sample characteristics dictionary where unique values of this trait is recorded. The key is an integer. The trait information might be explicitly recorded, or can be inferred from the field with some biomedical knowledge or understanding about the data collection process.\n",
    "   (3) Choose an appropriate data type (either 'continuous' or 'binary') for each trait. Write a Python function to convert any given value of the trait to this data type. The function should handle inference about the trait value and convert unknown values to None.\n",
    "   Name the functions 'convert_trait', 'convert_age', and 'convert_gender', respectively.\n",
    "\n",
    "Background information about the dataset:\n",
    "{background_info}\n",
    "\n",
    "Sample characteristics dictionary (from \"!Sample_characteristics_ch1\", converted to a Python dictionary that stores the unique values for each field):\n",
    "{clinical_data_unique}\n",
    "'''"
   ]
  },
  {
   "cell_type": "markdown",
   "metadata": {
    "ExecuteTime": {
     "end_time": "2023-12-31T03:58:04.978240504Z",
     "start_time": "2023-12-31T03:58:04.922365324Z"
    }
   },
   "source": [
    "Understand and verify the answer from GPT, to assign values to the below variables. Assign None to the 'row_id' variables if relevant data row was not found.\n",
    "Later we need to let GPT format its answer to automatically do these. But given the complexity of this step, let's grow some insight from the free-text answers for now."
   ]
  },
  {
   "cell_type": "code",
   "execution_count": 97,
   "metadata": {},
   "outputs": [],
   "source": [
    "age_row = gender_row = None\n",
    "convert_age = convert_gender = None"
   ]
  },
  {
   "cell_type": "code",
   "execution_count": 98,
   "metadata": {
    "ExecuteTime": {
     "end_time": "2023-12-31T21:19:35.508295660Z",
     "start_time": "2023-12-31T21:19:35.493015671Z"
    }
   },
   "outputs": [],
   "source": [
    "is_gene_availabe = True\n",
    "trait_row = 0\n",
    "\n",
    "trait_type = 'binary'\n",
    "# trait_type = 'continuous'"
   ]
  },
  {
   "cell_type": "code",
   "execution_count": 101,
   "metadata": {
    "ExecuteTime": {
     "end_time": "2023-12-31T21:19:35.508365153Z",
     "start_time": "2023-12-31T21:19:35.493151450Z"
    }
   },
   "outputs": [],
   "source": [
    "is_available = is_gene_availabe and (trait_row is not None)\n",
    "if not is_available:\n",
    "    save_cohort_info(cohort, JSON_PATH, is_available)\n",
    "    print(\"This cohort is not usable. Please skip the following steps and jump to the next accession number.\")"
   ]
  },
  {
   "cell_type": "code",
   "execution_count": 102,
   "metadata": {
    "ExecuteTime": {
     "end_time": "2023-12-31T21:19:35.508426069Z",
     "start_time": "2023-12-31T21:19:35.493220101Z"
    }
   },
   "outputs": [],
   "source": [
    "def convert_trait(value):\n",
    "    if value == 'predlc50group: SEN':\n",
    "        return 1  # Sensitive\n",
    "    elif value == 'predlc50group: RES':\n",
    "        return 0  # Resistant\n",
    "    else:\n",
    "        return None  # Unknown or not applicable"
   ]
  },
  {
   "cell_type": "code",
   "execution_count": 103,
   "metadata": {
    "ExecuteTime": {
     "end_time": "2023-12-31T21:19:35.508533013Z",
     "start_time": "2023-12-31T21:19:35.493272992Z"
    }
   },
   "outputs": [
    {
     "data": {
      "text/html": [
       "<div>\n",
       "<style scoped>\n",
       "    .dataframe tbody tr th:only-of-type {\n",
       "        vertical-align: middle;\n",
       "    }\n",
       "\n",
       "    .dataframe tbody tr th {\n",
       "        vertical-align: top;\n",
       "    }\n",
       "\n",
       "    .dataframe thead th {\n",
       "        text-align: right;\n",
       "    }\n",
       "</style>\n",
       "<table border=\"1\" class=\"dataframe\">\n",
       "  <thead>\n",
       "    <tr style=\"text-align: right;\">\n",
       "      <th></th>\n",
       "      <th>GSM1629982</th>\n",
       "      <th>GSM1629983</th>\n",
       "      <th>GSM1629984</th>\n",
       "      <th>GSM1629985</th>\n",
       "      <th>GSM1629986</th>\n",
       "      <th>GSM1629987</th>\n",
       "      <th>GSM1629988</th>\n",
       "      <th>GSM1629989</th>\n",
       "      <th>GSM1629990</th>\n",
       "      <th>GSM1629991</th>\n",
       "      <th>...</th>\n",
       "      <th>GSM1630156</th>\n",
       "      <th>GSM1630158</th>\n",
       "      <th>GSM1630160</th>\n",
       "      <th>GSM1630162</th>\n",
       "      <th>GSM1630163</th>\n",
       "      <th>GSM1630164</th>\n",
       "      <th>GSM1630165</th>\n",
       "      <th>GSM1630166</th>\n",
       "      <th>GSM1630167</th>\n",
       "      <th>GSM1630168</th>\n",
       "    </tr>\n",
       "  </thead>\n",
       "  <tbody>\n",
       "    <tr>\n",
       "      <th>Glucocorticoid Sensitivity</th>\n",
       "      <td>None</td>\n",
       "      <td>None</td>\n",
       "      <td>None</td>\n",
       "      <td>None</td>\n",
       "      <td>0</td>\n",
       "      <td>None</td>\n",
       "      <td>0</td>\n",
       "      <td>0</td>\n",
       "      <td>None</td>\n",
       "      <td>None</td>\n",
       "      <td>...</td>\n",
       "      <td>1</td>\n",
       "      <td>None</td>\n",
       "      <td>None</td>\n",
       "      <td>1</td>\n",
       "      <td>0</td>\n",
       "      <td>0</td>\n",
       "      <td>0</td>\n",
       "      <td>None</td>\n",
       "      <td>1</td>\n",
       "      <td>None</td>\n",
       "    </tr>\n",
       "  </tbody>\n",
       "</table>\n",
       "<p>1 rows × 171 columns</p>\n",
       "</div>"
      ],
      "text/plain": [
       "                           GSM1629982 GSM1629983 GSM1629984 GSM1629985  \\\n",
       "Glucocorticoid Sensitivity       None       None       None       None   \n",
       "\n",
       "                            GSM1629986 GSM1629987  GSM1629988  GSM1629989  \\\n",
       "Glucocorticoid Sensitivity           0       None           0           0   \n",
       "\n",
       "                           GSM1629990 GSM1629991  ... GSM1630156 GSM1630158  \\\n",
       "Glucocorticoid Sensitivity       None       None  ...          1       None   \n",
       "\n",
       "                           GSM1630160  GSM1630162 GSM1630163 GSM1630164  \\\n",
       "Glucocorticoid Sensitivity       None           1          0          0   \n",
       "\n",
       "                           GSM1630165 GSM1630166 GSM1630167  GSM1630168  \n",
       "Glucocorticoid Sensitivity          0       None          1        None  \n",
       "\n",
       "[1 rows x 171 columns]"
      ]
     },
     "execution_count": 103,
     "metadata": {},
     "output_type": "execute_result"
    }
   ],
   "source": [
    "selected_clinical_data = geo_select_clinical_features(clinical_data, TRAIT, trait_row, convert_trait, age_row=age_row,\n",
    "                                                      convert_age=convert_age, gender_row=gender_row,\n",
    "                                                      convert_gender=convert_gender)\n",
    "selected_clinical_data.head()"
   ]
  },
  {
   "cell_type": "markdown",
   "metadata": {
    "ExecuteTime": {
     "end_time": "2023-12-31T03:58:04.978664193Z",
     "start_time": "2023-12-31T03:58:04.966117261Z"
    }
   },
   "source": [
    "### Genetic data preprocessing and final filtering"
   ]
  },
  {
   "cell_type": "code",
   "execution_count": 104,
   "metadata": {
    "ExecuteTime": {
     "end_time": "2023-12-31T21:19:35.590261560Z",
     "start_time": "2023-12-31T21:19:35.493320362Z"
    }
   },
   "outputs": [
    {
     "data": {
      "text/html": [
       "<div>\n",
       "<style scoped>\n",
       "    .dataframe tbody tr th:only-of-type {\n",
       "        vertical-align: middle;\n",
       "    }\n",
       "\n",
       "    .dataframe tbody tr th {\n",
       "        vertical-align: top;\n",
       "    }\n",
       "\n",
       "    .dataframe thead th {\n",
       "        text-align: right;\n",
       "    }\n",
       "</style>\n",
       "<table border=\"1\" class=\"dataframe\">\n",
       "  <thead>\n",
       "    <tr style=\"text-align: right;\">\n",
       "      <th></th>\n",
       "      <th>GSM1629982</th>\n",
       "      <th>GSM1629983</th>\n",
       "      <th>GSM1629984</th>\n",
       "      <th>GSM1629985</th>\n",
       "      <th>GSM1629986</th>\n",
       "      <th>GSM1629987</th>\n",
       "      <th>GSM1629988</th>\n",
       "      <th>GSM1629989</th>\n",
       "      <th>GSM1629990</th>\n",
       "      <th>GSM1629991</th>\n",
       "      <th>...</th>\n",
       "      <th>GSM1630156</th>\n",
       "      <th>GSM1630158</th>\n",
       "      <th>GSM1630160</th>\n",
       "      <th>GSM1630162</th>\n",
       "      <th>GSM1630163</th>\n",
       "      <th>GSM1630164</th>\n",
       "      <th>GSM1630165</th>\n",
       "      <th>GSM1630166</th>\n",
       "      <th>GSM1630167</th>\n",
       "      <th>GSM1630168</th>\n",
       "    </tr>\n",
       "    <tr>\n",
       "      <th>ID</th>\n",
       "      <th></th>\n",
       "      <th></th>\n",
       "      <th></th>\n",
       "      <th></th>\n",
       "      <th></th>\n",
       "      <th></th>\n",
       "      <th></th>\n",
       "      <th></th>\n",
       "      <th></th>\n",
       "      <th></th>\n",
       "      <th></th>\n",
       "      <th></th>\n",
       "      <th></th>\n",
       "      <th></th>\n",
       "      <th></th>\n",
       "      <th></th>\n",
       "      <th></th>\n",
       "      <th></th>\n",
       "      <th></th>\n",
       "      <th></th>\n",
       "      <th></th>\n",
       "    </tr>\n",
       "  </thead>\n",
       "  <tbody>\n",
       "    <tr>\n",
       "      <th>1007_s_at</th>\n",
       "      <td>10.130815</td>\n",
       "      <td>9.608832</td>\n",
       "      <td>9.859652</td>\n",
       "      <td>10.587496</td>\n",
       "      <td>8.271685</td>\n",
       "      <td>8.955985</td>\n",
       "      <td>10.137842</td>\n",
       "      <td>10.246692</td>\n",
       "      <td>9.160129</td>\n",
       "      <td>9.533762</td>\n",
       "      <td>...</td>\n",
       "      <td>10.529306</td>\n",
       "      <td>10.475289</td>\n",
       "      <td>10.202895</td>\n",
       "      <td>10.427700</td>\n",
       "      <td>10.135887</td>\n",
       "      <td>9.810805</td>\n",
       "      <td>9.379958</td>\n",
       "      <td>9.394382</td>\n",
       "      <td>10.024207</td>\n",
       "      <td>8.810702</td>\n",
       "    </tr>\n",
       "    <tr>\n",
       "      <th>1053_at</th>\n",
       "      <td>9.553469</td>\n",
       "      <td>9.898287</td>\n",
       "      <td>9.713977</td>\n",
       "      <td>10.219711</td>\n",
       "      <td>9.607441</td>\n",
       "      <td>9.655327</td>\n",
       "      <td>9.987416</td>\n",
       "      <td>10.669453</td>\n",
       "      <td>9.967548</td>\n",
       "      <td>9.835980</td>\n",
       "      <td>...</td>\n",
       "      <td>9.621368</td>\n",
       "      <td>9.598187</td>\n",
       "      <td>10.025506</td>\n",
       "      <td>9.694897</td>\n",
       "      <td>10.098302</td>\n",
       "      <td>9.914559</td>\n",
       "      <td>9.775615</td>\n",
       "      <td>10.024191</td>\n",
       "      <td>9.713482</td>\n",
       "      <td>9.581438</td>\n",
       "    </tr>\n",
       "    <tr>\n",
       "      <th>117_at</th>\n",
       "      <td>7.001835</td>\n",
       "      <td>6.133293</td>\n",
       "      <td>6.751620</td>\n",
       "      <td>5.757822</td>\n",
       "      <td>9.184924</td>\n",
       "      <td>8.186819</td>\n",
       "      <td>8.441796</td>\n",
       "      <td>6.002942</td>\n",
       "      <td>6.980694</td>\n",
       "      <td>5.574980</td>\n",
       "      <td>...</td>\n",
       "      <td>5.603993</td>\n",
       "      <td>6.121035</td>\n",
       "      <td>6.056828</td>\n",
       "      <td>6.971651</td>\n",
       "      <td>6.398391</td>\n",
       "      <td>5.606276</td>\n",
       "      <td>8.228963</td>\n",
       "      <td>7.328117</td>\n",
       "      <td>6.054414</td>\n",
       "      <td>5.171814</td>\n",
       "    </tr>\n",
       "    <tr>\n",
       "      <th>121_at</th>\n",
       "      <td>9.042864</td>\n",
       "      <td>8.624124</td>\n",
       "      <td>8.489150</td>\n",
       "      <td>8.201862</td>\n",
       "      <td>8.816792</td>\n",
       "      <td>9.000001</td>\n",
       "      <td>8.462935</td>\n",
       "      <td>8.917688</td>\n",
       "      <td>8.965709</td>\n",
       "      <td>8.114824</td>\n",
       "      <td>...</td>\n",
       "      <td>8.445530</td>\n",
       "      <td>8.494710</td>\n",
       "      <td>7.837700</td>\n",
       "      <td>8.025939</td>\n",
       "      <td>8.160592</td>\n",
       "      <td>8.082318</td>\n",
       "      <td>8.430132</td>\n",
       "      <td>8.247690</td>\n",
       "      <td>8.451463</td>\n",
       "      <td>8.742645</td>\n",
       "    </tr>\n",
       "    <tr>\n",
       "      <th>1255_g_at</th>\n",
       "      <td>5.830282</td>\n",
       "      <td>4.769006</td>\n",
       "      <td>5.169443</td>\n",
       "      <td>5.392124</td>\n",
       "      <td>5.176441</td>\n",
       "      <td>5.518506</td>\n",
       "      <td>5.130876</td>\n",
       "      <td>3.179718</td>\n",
       "      <td>6.050559</td>\n",
       "      <td>2.864493</td>\n",
       "      <td>...</td>\n",
       "      <td>5.135100</td>\n",
       "      <td>3.018319</td>\n",
       "      <td>2.330385</td>\n",
       "      <td>4.090487</td>\n",
       "      <td>3.354563</td>\n",
       "      <td>2.404750</td>\n",
       "      <td>2.643028</td>\n",
       "      <td>2.852257</td>\n",
       "      <td>5.432093</td>\n",
       "      <td>2.916786</td>\n",
       "    </tr>\n",
       "  </tbody>\n",
       "</table>\n",
       "<p>5 rows × 171 columns</p>\n",
       "</div>"
      ],
      "text/plain": [
       "           GSM1629982  GSM1629983  GSM1629984  GSM1629985  GSM1629986  \\\n",
       "ID                                                                      \n",
       "1007_s_at   10.130815    9.608832    9.859652   10.587496    8.271685   \n",
       "1053_at      9.553469    9.898287    9.713977   10.219711    9.607441   \n",
       "117_at       7.001835    6.133293    6.751620    5.757822    9.184924   \n",
       "121_at       9.042864    8.624124    8.489150    8.201862    8.816792   \n",
       "1255_g_at    5.830282    4.769006    5.169443    5.392124    5.176441   \n",
       "\n",
       "           GSM1629987  GSM1629988  GSM1629989  GSM1629990  GSM1629991  ...  \\\n",
       "ID                                                                     ...   \n",
       "1007_s_at    8.955985   10.137842   10.246692    9.160129    9.533762  ...   \n",
       "1053_at      9.655327    9.987416   10.669453    9.967548    9.835980  ...   \n",
       "117_at       8.186819    8.441796    6.002942    6.980694    5.574980  ...   \n",
       "121_at       9.000001    8.462935    8.917688    8.965709    8.114824  ...   \n",
       "1255_g_at    5.518506    5.130876    3.179718    6.050559    2.864493  ...   \n",
       "\n",
       "           GSM1630156  GSM1630158  GSM1630160  GSM1630162  GSM1630163  \\\n",
       "ID                                                                      \n",
       "1007_s_at   10.529306   10.475289   10.202895   10.427700   10.135887   \n",
       "1053_at      9.621368    9.598187   10.025506    9.694897   10.098302   \n",
       "117_at       5.603993    6.121035    6.056828    6.971651    6.398391   \n",
       "121_at       8.445530    8.494710    7.837700    8.025939    8.160592   \n",
       "1255_g_at    5.135100    3.018319    2.330385    4.090487    3.354563   \n",
       "\n",
       "           GSM1630164  GSM1630165  GSM1630166  GSM1630167  GSM1630168  \n",
       "ID                                                                     \n",
       "1007_s_at    9.810805    9.379958    9.394382   10.024207    8.810702  \n",
       "1053_at      9.914559    9.775615   10.024191    9.713482    9.581438  \n",
       "117_at       5.606276    8.228963    7.328117    6.054414    5.171814  \n",
       "121_at       8.082318    8.430132    8.247690    8.451463    8.742645  \n",
       "1255_g_at    2.404750    2.643028    2.852257    5.432093    2.916786  \n",
       "\n",
       "[5 rows x 171 columns]"
      ]
     },
     "execution_count": 104,
     "metadata": {},
     "output_type": "execute_result"
    }
   ],
   "source": [
    "genetic_data = get_genetic_data(matrix_file)\n",
    "genetic_data.head()"
   ]
  },
  {
   "cell_type": "code",
   "execution_count": 105,
   "metadata": {
    "ExecuteTime": {
     "end_time": "2023-12-31T21:19:35.590443507Z",
     "start_time": "2023-12-31T21:19:35.536713559Z"
    }
   },
   "outputs": [
    {
     "data": {
      "text/plain": [
       "['1007_s_at',\n",
       " '1053_at',\n",
       " '117_at',\n",
       " '121_at',\n",
       " '1255_g_at',\n",
       " '1294_at',\n",
       " '1316_at',\n",
       " '1320_at',\n",
       " '1405_i_at',\n",
       " '1431_at',\n",
       " '1438_at',\n",
       " '1487_at',\n",
       " '1494_f_at',\n",
       " '1552256_a_at',\n",
       " '1552257_a_at',\n",
       " '1552258_at',\n",
       " '1552261_at',\n",
       " '1552263_at',\n",
       " '1552264_a_at',\n",
       " '1552266_at']"
      ]
     },
     "execution_count": 105,
     "metadata": {},
     "output_type": "execute_result"
    }
   ],
   "source": [
    "gene_row_ids = genetic_data.index[:20].tolist()\n",
    "gene_row_ids"
   ]
  },
  {
   "cell_type": "markdown",
   "metadata": {
    "ExecuteTime": {
     "end_time": "2023-12-31T03:30:41.595335164Z",
     "start_time": "2023-12-31T03:30:41.513232329Z"
    }
   },
   "source": [
    "Check if the gene dataset requires mapping to get the gene symbols corresponding to each data row."
   ]
  },
  {
   "cell_type": "markdown",
   "metadata": {},
   "source": [
    "Reference prompt:"
   ]
  },
  {
   "cell_type": "code",
   "execution_count": 106,
   "metadata": {
    "ExecuteTime": {
     "end_time": "2023-12-31T21:19:35.590590427Z",
     "start_time": "2023-12-31T21:19:35.536780517Z"
    }
   },
   "outputs": [
    {
     "data": {
      "text/plain": [
       "\"\\nBelow are the row headers of a gene expression dataset in GEO. Based on your biomedical knowledge, are they human gene symbols, or are they some other identifiers that need to be mapped to gene symbols? Your answer should be concluded by starting a new line and strictly following this format:\\nrequires_gene_mapping = (True or False)\\n\\nRow headers:\\n['1007_s_at', '1053_at', '117_at', '121_at', '1255_g_at', '1294_at', '1316_at', '1320_at', '1405_i_at', '1431_at', '1438_at', '1487_at', '1494_f_at', '1552256_a_at', '1552257_a_at', '1552258_at', '1552261_at', '1552263_at', '1552264_a_at', '1552266_at']\\n\""
      ]
     },
     "execution_count": 106,
     "metadata": {},
     "output_type": "execute_result"
    }
   ],
   "source": [
    "f'''\n",
    "Below are the row headers of a gene expression dataset in GEO. Based on your biomedical knowledge, are they human gene symbols, or are they some other identifiers that need to be mapped to gene symbols? Your answer should be concluded by starting a new line and strictly following this format:\n",
    "requires_gene_mapping = (True or False)\n",
    "\n",
    "Row headers:\n",
    "{gene_row_ids}\n",
    "'''"
   ]
  },
  {
   "cell_type": "markdown",
   "metadata": {},
   "source": [
    "If not required, jump directly to the gene normalization step"
   ]
  },
  {
   "cell_type": "code",
   "execution_count": 107,
   "metadata": {
    "ExecuteTime": {
     "end_time": "2023-12-31T21:19:35.590648558Z",
     "start_time": "2023-12-31T21:19:35.536821375Z"
    }
   },
   "outputs": [],
   "source": [
    "requires_gene_mapping = True"
   ]
  },
  {
   "cell_type": "code",
   "execution_count": 108,
   "metadata": {
    "ExecuteTime": {
     "end_time": "2023-12-31T21:19:35.590695457Z",
     "start_time": "2023-12-31T21:19:35.536910836Z"
    }
   },
   "outputs": [
    {
     "name": "stdout",
     "output_type": "stream",
     "text": [
      "{'ID': ['1007_s_at', '1053_at', '117_at', '121_at', '1255_g_at'], 'GB_ACC': ['U48705', 'M87338', 'X51757', 'X69699', 'L36861'], 'SPOT_ID': [nan, nan, nan, nan, nan], 'Species Scientific Name': ['Homo sapiens', 'Homo sapiens', 'Homo sapiens', 'Homo sapiens', 'Homo sapiens'], 'Annotation Date': ['Oct 6, 2014', 'Oct 6, 2014', 'Oct 6, 2014', 'Oct 6, 2014', 'Oct 6, 2014'], 'Sequence Type': ['Exemplar sequence', 'Exemplar sequence', 'Exemplar sequence', 'Exemplar sequence', 'Exemplar sequence'], 'Sequence Source': ['Affymetrix Proprietary Database', 'GenBank', 'Affymetrix Proprietary Database', 'GenBank', 'Affymetrix Proprietary Database'], 'Target Description': ['U48705 /FEATURE=mRNA /DEFINITION=HSU48705 Human receptor tyrosine kinase DDR gene, complete cds', 'M87338 /FEATURE= /DEFINITION=HUMA1SBU Human replication factor C, 40-kDa subunit (A1) mRNA, complete cds', \"X51757 /FEATURE=cds /DEFINITION=HSP70B Human heat-shock protein HSP70B' gene\", 'X69699 /FEATURE= /DEFINITION=HSPAX8A H.sapiens Pax8 mRNA', 'L36861 /FEATURE=expanded_cds /DEFINITION=HUMGCAPB Homo sapiens guanylate cyclase activating protein (GCAP) gene exons 1-4, complete cds'], 'Representative Public ID': ['U48705', 'M87338', 'X51757', 'X69699', 'L36861'], 'Gene Title': ['discoidin domain receptor tyrosine kinase 1 /// microRNA 4640', 'replication factor C (activator 1) 2, 40kDa', \"heat shock 70kDa protein 6 (HSP70B')\", 'paired box 8', 'guanylate cyclase activator 1A (retina)'], 'Gene Symbol': ['DDR1 /// MIR4640', 'RFC2', 'HSPA6', 'PAX8', 'GUCA1A'], 'ENTREZ_GENE_ID': ['780 /// 100616237', '5982', '3310', '7849', '2978'], 'RefSeq Transcript ID': ['NM_001202521 /// NM_001202522 /// NM_001202523 /// NM_001954 /// NM_013993 /// NM_013994 /// NR_039783 /// XM_005249385 /// XM_005249386 /// XM_005249387 /// XM_005249389 /// XM_005272873 /// XM_005272874 /// XM_005272875 /// XM_005272877 /// XM_005275027 /// XM_005275028 /// XM_005275030 /// XM_005275031 /// XM_005275162 /// XM_005275163 /// XM_005275164 /// XM_005275166 /// XM_005275457 /// XM_005275458 /// XM_005275459 /// XM_005275461 /// XM_006715185 /// XM_006715186 /// XM_006715187 /// XM_006715188 /// XM_006715189 /// XM_006715190 /// XM_006725501 /// XM_006725502 /// XM_006725503 /// XM_006725504 /// XM_006725505 /// XM_006725506 /// XM_006725714 /// XM_006725715 /// XM_006725716 /// XM_006725717 /// XM_006725718 /// XM_006725719 /// XM_006725720 /// XM_006725721 /// XM_006725722 /// XM_006725827 /// XM_006725828 /// XM_006725829 /// XM_006725830 /// XM_006725831 /// XM_006725832 /// XM_006726017 /// XM_006726018 /// XM_006726019 /// XM_006726020 /// XM_006726021 /// XM_006726022 /// XR_427836 /// XR_430858 /// XR_430938 /// XR_430974 /// XR_431015', 'NM_001278791 /// NM_001278792 /// NM_001278793 /// NM_002914 /// NM_181471 /// XM_006716080', 'NM_002155', 'NM_003466 /// NM_013951 /// NM_013952 /// NM_013953 /// NM_013992', 'NM_000409 /// XM_006715073'], 'Gene Ontology Biological Process': ['0001558 // regulation of cell growth // inferred from electronic annotation /// 0001952 // regulation of cell-matrix adhesion // inferred from electronic annotation /// 0006468 // protein phosphorylation // inferred from electronic annotation /// 0007155 // cell adhesion // traceable author statement /// 0007169 // transmembrane receptor protein tyrosine kinase signaling pathway // inferred from electronic annotation /// 0007565 // female pregnancy // inferred from electronic annotation /// 0007566 // embryo implantation // inferred from electronic annotation /// 0007595 // lactation // inferred from electronic annotation /// 0008285 // negative regulation of cell proliferation // inferred from electronic annotation /// 0010715 // regulation of extracellular matrix disassembly // inferred from mutant phenotype /// 0014909 // smooth muscle cell migration // inferred from mutant phenotype /// 0016310 // phosphorylation // inferred from electronic annotation /// 0018108 // peptidyl-tyrosine phosphorylation // inferred from electronic annotation /// 0030198 // extracellular matrix organization // traceable author statement /// 0038063 // collagen-activated tyrosine kinase receptor signaling pathway // inferred from direct assay /// 0038063 // collagen-activated tyrosine kinase receptor signaling pathway // inferred from mutant phenotype /// 0038083 // peptidyl-tyrosine autophosphorylation // inferred from direct assay /// 0043583 // ear development // inferred from electronic annotation /// 0044319 // wound healing, spreading of cells // inferred from mutant phenotype /// 0046777 // protein autophosphorylation // inferred from direct assay /// 0060444 // branching involved in mammary gland duct morphogenesis // inferred from electronic annotation /// 0060749 // mammary gland alveolus development // inferred from electronic annotation /// 0061302 // smooth muscle cell-matrix adhesion // inferred from mutant phenotype', '0000278 // mitotic cell cycle // traceable author statement /// 0000722 // telomere maintenance via recombination // traceable author statement /// 0000723 // telomere maintenance // traceable author statement /// 0006260 // DNA replication // traceable author statement /// 0006271 // DNA strand elongation involved in DNA replication // traceable author statement /// 0006281 // DNA repair // traceable author statement /// 0006283 // transcription-coupled nucleotide-excision repair // traceable author statement /// 0006289 // nucleotide-excision repair // traceable author statement /// 0006297 // nucleotide-excision repair, DNA gap filling // traceable author statement /// 0015979 // photosynthesis // inferred from electronic annotation /// 0015995 // chlorophyll biosynthetic process // inferred from electronic annotation /// 0032201 // telomere maintenance via semi-conservative replication // traceable author statement', '0000902 // cell morphogenesis // inferred from electronic annotation /// 0006200 // ATP catabolic process // inferred from direct assay /// 0006950 // response to stress // inferred from electronic annotation /// 0006986 // response to unfolded protein // traceable author statement /// 0034605 // cellular response to heat // inferred from direct assay /// 0042026 // protein refolding // inferred from direct assay /// 0070370 // cellular heat acclimation // inferred from mutant phenotype', '0001655 // urogenital system development // inferred from sequence or structural similarity /// 0001656 // metanephros development // inferred from electronic annotation /// 0001658 // branching involved in ureteric bud morphogenesis // inferred from expression pattern /// 0001822 // kidney development // inferred from expression pattern /// 0001823 // mesonephros development // inferred from sequence or structural similarity /// 0003337 // mesenchymal to epithelial transition involved in metanephros morphogenesis // inferred from expression pattern /// 0006351 // transcription, DNA-templated // inferred from direct assay /// 0006355 // regulation of transcription, DNA-templated // inferred from electronic annotation /// 0007275 // multicellular organismal development // inferred from electronic annotation /// 0007417 // central nervous system development // inferred from expression pattern /// 0009653 // anatomical structure morphogenesis // traceable author statement /// 0030154 // cell differentiation // inferred from electronic annotation /// 0030878 // thyroid gland development // inferred from expression pattern /// 0030878 // thyroid gland development // inferred from mutant phenotype /// 0038194 // thyroid-stimulating hormone signaling pathway // traceable author statement /// 0039003 // pronephric field specification // inferred from sequence or structural similarity /// 0042472 // inner ear morphogenesis // inferred from sequence or structural similarity /// 0042981 // regulation of apoptotic process // inferred from sequence or structural similarity /// 0045893 // positive regulation of transcription, DNA-templated // inferred from direct assay /// 0045893 // positive regulation of transcription, DNA-templated // inferred from sequence or structural similarity /// 0045944 // positive regulation of transcription from RNA polymerase II promoter // inferred from direct assay /// 0048793 // pronephros development // inferred from sequence or structural similarity /// 0071371 // cellular response to gonadotropin stimulus // inferred from direct assay /// 0071599 // otic vesicle development // inferred from expression pattern /// 0072050 // S-shaped body morphogenesis // inferred from electronic annotation /// 0072073 // kidney epithelium development // inferred from electronic annotation /// 0072108 // positive regulation of mesenchymal to epithelial transition involved in metanephros morphogenesis // inferred from sequence or structural similarity /// 0072164 // mesonephric tubule development // inferred from electronic annotation /// 0072207 // metanephric epithelium development // inferred from expression pattern /// 0072221 // metanephric distal convoluted tubule development // inferred from sequence or structural similarity /// 0072278 // metanephric comma-shaped body morphogenesis // inferred from expression pattern /// 0072284 // metanephric S-shaped body morphogenesis // inferred from expression pattern /// 0072289 // metanephric nephron tubule formation // inferred from sequence or structural similarity /// 0072305 // negative regulation of mesenchymal cell apoptotic process involved in metanephric nephron morphogenesis // inferred from sequence or structural similarity /// 0072307 // regulation of metanephric nephron tubule epithelial cell differentiation // inferred from sequence or structural similarity /// 0090190 // positive regulation of branching involved in ureteric bud morphogenesis // inferred from sequence or structural similarity /// 1900212 // negative regulation of mesenchymal cell apoptotic process involved in metanephros development // inferred from sequence or structural similarity /// 1900215 // negative regulation of apoptotic process involved in metanephric collecting duct development // inferred from sequence or structural similarity /// 1900218 // negative regulation of apoptotic process involved in metanephric nephron tubule development // inferred from sequence or structural similarity /// 2000594 // positive regulation of metanephric DCT cell differentiation // inferred from sequence or structural similarity /// 2000611 // positive regulation of thyroid hormone generation // inferred from mutant phenotype /// 2000612 // regulation of thyroid-stimulating hormone secretion // inferred from mutant phenotype', '0007165 // signal transduction // non-traceable author statement /// 0007601 // visual perception // inferred from electronic annotation /// 0007602 // phototransduction // inferred from electronic annotation /// 0007603 // phototransduction, visible light // traceable author statement /// 0016056 // rhodopsin mediated signaling pathway // traceable author statement /// 0022400 // regulation of rhodopsin mediated signaling pathway // traceable author statement /// 0030828 // positive regulation of cGMP biosynthetic process // inferred from electronic annotation /// 0031282 // regulation of guanylate cyclase activity // inferred from electronic annotation /// 0031284 // positive regulation of guanylate cyclase activity // inferred from electronic annotation /// 0050896 // response to stimulus // inferred from electronic annotation'], 'Gene Ontology Cellular Component': ['0005576 // extracellular region // inferred from electronic annotation /// 0005615 // extracellular space // inferred from direct assay /// 0005886 // plasma membrane // traceable author statement /// 0005887 // integral component of plasma membrane // traceable author statement /// 0016020 // membrane // inferred from electronic annotation /// 0016021 // integral component of membrane // inferred from electronic annotation /// 0043235 // receptor complex // inferred from direct assay /// 0070062 // extracellular vesicular exosome // inferred from direct assay', '0005634 // nucleus // inferred from electronic annotation /// 0005654 // nucleoplasm // traceable author statement /// 0005663 // DNA replication factor C complex // inferred from direct assay', '0005737 // cytoplasm // inferred from direct assay /// 0005814 // centriole // inferred from direct assay /// 0005829 // cytosol // inferred from direct assay /// 0008180 // COP9 signalosome // inferred from direct assay /// 0070062 // extracellular vesicular exosome // inferred from direct assay /// 0072562 // blood microparticle // inferred from direct assay', '0005634 // nucleus // inferred from direct assay /// 0005654 // nucleoplasm // inferred from sequence or structural similarity /// 0005730 // nucleolus // inferred from direct assay', '0001750 // photoreceptor outer segment // inferred from electronic annotation /// 0001917 // photoreceptor inner segment // inferred from electronic annotation /// 0005578 // proteinaceous extracellular matrix // inferred from electronic annotation /// 0005886 // plasma membrane // inferred from direct assay /// 0016020 // membrane // inferred from electronic annotation /// 0097381 // photoreceptor disc membrane // traceable author statement'], 'Gene Ontology Molecular Function': ['0000166 // nucleotide binding // inferred from electronic annotation /// 0004672 // protein kinase activity // inferred from electronic annotation /// 0004713 // protein tyrosine kinase activity // inferred from electronic annotation /// 0004714 // transmembrane receptor protein tyrosine kinase activity // traceable author statement /// 0005515 // protein binding // inferred from physical interaction /// 0005518 // collagen binding // inferred from direct assay /// 0005518 // collagen binding // inferred from mutant phenotype /// 0005524 // ATP binding // inferred from electronic annotation /// 0016301 // kinase activity // inferred from electronic annotation /// 0016740 // transferase activity // inferred from electronic annotation /// 0016772 // transferase activity, transferring phosphorus-containing groups // inferred from electronic annotation /// 0038062 // protein tyrosine kinase collagen receptor activity // inferred from direct assay /// 0046872 // metal ion binding // inferred from electronic annotation', '0000166 // nucleotide binding // inferred from electronic annotation /// 0003677 // DNA binding // inferred from electronic annotation /// 0005515 // protein binding // inferred from physical interaction /// 0005524 // ATP binding // inferred from electronic annotation /// 0016851 // magnesium chelatase activity // inferred from electronic annotation /// 0017111 // nucleoside-triphosphatase activity // inferred from electronic annotation', '0000166 // nucleotide binding // inferred from electronic annotation /// 0005524 // ATP binding // inferred from electronic annotation /// 0019899 // enzyme binding // inferred from physical interaction /// 0031072 // heat shock protein binding // inferred from physical interaction /// 0042623 // ATPase activity, coupled // inferred from direct assay /// 0051082 // unfolded protein binding // inferred from direct assay', '0000979 // RNA polymerase II core promoter sequence-specific DNA binding // inferred from direct assay /// 0003677 // DNA binding // inferred from direct assay /// 0003677 // DNA binding // inferred from mutant phenotype /// 0003700 // sequence-specific DNA binding transcription factor activity // inferred from direct assay /// 0004996 // thyroid-stimulating hormone receptor activity // traceable author statement /// 0005515 // protein binding // inferred from physical interaction /// 0044212 // transcription regulatory region DNA binding // inferred from direct assay', '0005509 // calcium ion binding // inferred from electronic annotation /// 0008048 // calcium sensitive guanylate cyclase activator activity // inferred from electronic annotation /// 0030249 // guanylate cyclase regulator activity // inferred from electronic annotation /// 0046872 // metal ion binding // inferred from electronic annotation']}\n"
     ]
    }
   ],
   "source": [
    "if requires_gene_mapping:\n",
    "    gene_annotation = get_gene_annotation(soft_file)\n",
    "    gene_annotation_summary = preview_df(gene_annotation)\n",
    "    print(gene_annotation_summary)"
   ]
  },
  {
   "cell_type": "markdown",
   "metadata": {
    "ExecuteTime": {
     "end_time": "2023-12-31T03:58:04.978931927Z",
     "start_time": "2023-12-31T03:58:04.966328339Z"
    }
   },
   "source": [
    "Observe the first few cells in the ID column of the gene annotation dataframe, to find the names of columns that store the gene probe IDs and gene symbols respectively.\n",
    "Reference prompt:"
   ]
  },
  {
   "cell_type": "code",
   "execution_count": 109,
   "metadata": {
    "ExecuteTime": {
     "end_time": "2023-12-31T21:19:35.590742236Z",
     "start_time": "2023-12-31T21:19:35.537050893Z"
    }
   },
   "outputs": [
    {
     "data": {
      "text/plain": [
       "'\\nAs a biomedical research team, we extracted the gene annotation data from a series in the GEO database, and saved it to a Python dictionary. Please read the dictionary, and decide which key stores the ID of the probe, and which key stores the gene symbols. Please strict follow this format in your answer:\\nprobe_name_key = key_name1\\ngene_name_key = key_name2\\n\\nGene annotation dictionary:\\n{\\'ID\\': [\\'1007_s_at\\', \\'1053_at\\', \\'117_at\\', \\'121_at\\', \\'1255_g_at\\'], \\'GB_ACC\\': [\\'U48705\\', \\'M87338\\', \\'X51757\\', \\'X69699\\', \\'L36861\\'], \\'SPOT_ID\\': [nan, nan, nan, nan, nan], \\'Species Scientific Name\\': [\\'Homo sapiens\\', \\'Homo sapiens\\', \\'Homo sapiens\\', \\'Homo sapiens\\', \\'Homo sapiens\\'], \\'Annotation Date\\': [\\'Oct 6, 2014\\', \\'Oct 6, 2014\\', \\'Oct 6, 2014\\', \\'Oct 6, 2014\\', \\'Oct 6, 2014\\'], \\'Sequence Type\\': [\\'Exemplar sequence\\', \\'Exemplar sequence\\', \\'Exemplar sequence\\', \\'Exemplar sequence\\', \\'Exemplar sequence\\'], \\'Sequence Source\\': [\\'Affymetrix Proprietary Database\\', \\'GenBank\\', \\'Affymetrix Proprietary Database\\', \\'GenBank\\', \\'Affymetrix Proprietary Database\\'], \\'Target Description\\': [\\'U48705 /FEATURE=mRNA /DEFINITION=HSU48705 Human receptor tyrosine kinase DDR gene, complete cds\\', \\'M87338 /FEATURE= /DEFINITION=HUMA1SBU Human replication factor C, 40-kDa subunit (A1) mRNA, complete cds\\', \"X51757 /FEATURE=cds /DEFINITION=HSP70B Human heat-shock protein HSP70B\\' gene\", \\'X69699 /FEATURE= /DEFINITION=HSPAX8A H.sapiens Pax8 mRNA\\', \\'L36861 /FEATURE=expanded_cds /DEFINITION=HUMGCAPB Homo sapiens guanylate cyclase activating protein (GCAP) gene exons 1-4, complete cds\\'], \\'Representative Public ID\\': [\\'U48705\\', \\'M87338\\', \\'X51757\\', \\'X69699\\', \\'L36861\\'], \\'Gene Title\\': [\\'discoidin domain receptor tyrosine kinase 1 /// microRNA 4640\\', \\'replication factor C (activator 1) 2, 40kDa\\', \"heat shock 70kDa protein 6 (HSP70B\\')\", \\'paired box 8\\', \\'guanylate cyclase activator 1A (retina)\\'], \\'Gene Symbol\\': [\\'DDR1 /// MIR4640\\', \\'RFC2\\', \\'HSPA6\\', \\'PAX8\\', \\'GUCA1A\\'], \\'ENTREZ_GENE_ID\\': [\\'780 /// 100616237\\', \\'5982\\', \\'3310\\', \\'7849\\', \\'2978\\'], \\'RefSeq Transcript ID\\': [\\'NM_001202521 /// NM_001202522 /// NM_001202523 /// NM_001954 /// NM_013993 /// NM_013994 /// NR_039783 /// XM_005249385 /// XM_005249386 /// XM_005249387 /// XM_005249389 /// XM_005272873 /// XM_005272874 /// XM_005272875 /// XM_005272877 /// XM_005275027 /// XM_005275028 /// XM_005275030 /// XM_005275031 /// XM_005275162 /// XM_005275163 /// XM_005275164 /// XM_005275166 /// XM_005275457 /// XM_005275458 /// XM_005275459 /// XM_005275461 /// XM_006715185 /// XM_006715186 /// XM_006715187 /// XM_006715188 /// XM_006715189 /// XM_006715190 /// XM_006725501 /// XM_006725502 /// XM_006725503 /// XM_006725504 /// XM_006725505 /// XM_006725506 /// XM_006725714 /// XM_006725715 /// XM_006725716 /// XM_006725717 /// XM_006725718 /// XM_006725719 /// XM_006725720 /// XM_006725721 /// XM_006725722 /// XM_006725827 /// XM_006725828 /// XM_006725829 /// XM_006725830 /// XM_006725831 /// XM_006725832 /// XM_006726017 /// XM_006726018 /// XM_006726019 /// XM_006726020 /// XM_006726021 /// XM_006726022 /// XR_427836 /// XR_430858 /// XR_430938 /// XR_430974 /// XR_431015\\', \\'NM_001278791 /// NM_001278792 /// NM_001278793 /// NM_002914 /// NM_181471 /// XM_006716080\\', \\'NM_002155\\', \\'NM_003466 /// NM_013951 /// NM_013952 /// NM_013953 /// NM_013992\\', \\'NM_000409 /// XM_006715073\\'], \\'Gene Ontology Biological Process\\': [\\'0001558 // regulation of cell growth // inferred from electronic annotation /// 0001952 // regulation of cell-matrix adhesion // inferred from electronic annotation /// 0006468 // protein phosphorylation // inferred from electronic annotation /// 0007155 // cell adhesion // traceable author statement /// 0007169 // transmembrane receptor protein tyrosine kinase signaling pathway // inferred from electronic annotation /// 0007565 // female pregnancy // inferred from electronic annotation /// 0007566 // embryo implantation // inferred from electronic annotation /// 0007595 // lactation // inferred from electronic annotation /// 0008285 // negative regulation of cell proliferation // inferred from electronic annotation /// 0010715 // regulation of extracellular matrix disassembly // inferred from mutant phenotype /// 0014909 // smooth muscle cell migration // inferred from mutant phenotype /// 0016310 // phosphorylation // inferred from electronic annotation /// 0018108 // peptidyl-tyrosine phosphorylation // inferred from electronic annotation /// 0030198 // extracellular matrix organization // traceable author statement /// 0038063 // collagen-activated tyrosine kinase receptor signaling pathway // inferred from direct assay /// 0038063 // collagen-activated tyrosine kinase receptor signaling pathway // inferred from mutant phenotype /// 0038083 // peptidyl-tyrosine autophosphorylation // inferred from direct assay /// 0043583 // ear development // inferred from electronic annotation /// 0044319 // wound healing, spreading of cells // inferred from mutant phenotype /// 0046777 // protein autophosphorylation // inferred from direct assay /// 0060444 // branching involved in mammary gland duct morphogenesis // inferred from electronic annotation /// 0060749 // mammary gland alveolus development // inferred from electronic annotation /// 0061302 // smooth muscle cell-matrix adhesion // inferred from mutant phenotype\\', \\'0000278 // mitotic cell cycle // traceable author statement /// 0000722 // telomere maintenance via recombination // traceable author statement /// 0000723 // telomere maintenance // traceable author statement /// 0006260 // DNA replication // traceable author statement /// 0006271 // DNA strand elongation involved in DNA replication // traceable author statement /// 0006281 // DNA repair // traceable author statement /// 0006283 // transcription-coupled nucleotide-excision repair // traceable author statement /// 0006289 // nucleotide-excision repair // traceable author statement /// 0006297 // nucleotide-excision repair, DNA gap filling // traceable author statement /// 0015979 // photosynthesis // inferred from electronic annotation /// 0015995 // chlorophyll biosynthetic process // inferred from electronic annotation /// 0032201 // telomere maintenance via semi-conservative replication // traceable author statement\\', \\'0000902 // cell morphogenesis // inferred from electronic annotation /// 0006200 // ATP catabolic process // inferred from direct assay /// 0006950 // response to stress // inferred from electronic annotation /// 0006986 // response to unfolded protein // traceable author statement /// 0034605 // cellular response to heat // inferred from direct assay /// 0042026 // protein refolding // inferred from direct assay /// 0070370 // cellular heat acclimation // inferred from mutant phenotype\\', \\'0001655 // urogenital system development // inferred from sequence or structural similarity /// 0001656 // metanephros development // inferred from electronic annotation /// 0001658 // branching involved in ureteric bud morphogenesis // inferred from expression pattern /// 0001822 // kidney development // inferred from expression pattern /// 0001823 // mesonephros development // inferred from sequence or structural similarity /// 0003337 // mesenchymal to epithelial transition involved in metanephros morphogenesis // inferred from expression pattern /// 0006351 // transcription, DNA-templated // inferred from direct assay /// 0006355 // regulation of transcription, DNA-templated // inferred from electronic annotation /// 0007275 // multicellular organismal development // inferred from electronic annotation /// 0007417 // central nervous system development // inferred from expression pattern /// 0009653 // anatomical structure morphogenesis // traceable author statement /// 0030154 // cell differentiation // inferred from electronic annotation /// 0030878 // thyroid gland development // inferred from expression pattern /// 0030878 // thyroid gland development // inferred from mutant phenotype /// 0038194 // thyroid-stimulating hormone signaling pathway // traceable author statement /// 0039003 // pronephric field specification // inferred from sequence or structural similarity /// 0042472 // inner ear morphogenesis // inferred from sequence or structural similarity /// 0042981 // regulation of apoptotic process // inferred from sequence or structural similarity /// 0045893 // positive regulation of transcription, DNA-templated // inferred from direct assay /// 0045893 // positive regulation of transcription, DNA-templated // inferred from sequence or structural similarity /// 0045944 // positive regulation of transcription from RNA polymerase II promoter // inferred from direct assay /// 0048793 // pronephros development // inferred from sequence or structural similarity /// 0071371 // cellular response to gonadotropin stimulus // inferred from direct assay /// 0071599 // otic vesicle development // inferred from expression pattern /// 0072050 // S-shaped body morphogenesis // inferred from electronic annotation /// 0072073 // kidney epithelium development // inferred from electronic annotation /// 0072108 // positive regulation of mesenchymal to epithelial transition involved in metanephros morphogenesis // inferred from sequence or structural similarity /// 0072164 // mesonephric tubule development // inferred from electronic annotation /// 0072207 // metanephric epithelium development // inferred from expression pattern /// 0072221 // metanephric distal convoluted tubule development // inferred from sequence or structural similarity /// 0072278 // metanephric comma-shaped body morphogenesis // inferred from expression pattern /// 0072284 // metanephric S-shaped body morphogenesis // inferred from expression pattern /// 0072289 // metanephric nephron tubule formation // inferred from sequence or structural similarity /// 0072305 // negative regulation of mesenchymal cell apoptotic process involved in metanephric nephron morphogenesis // inferred from sequence or structural similarity /// 0072307 // regulation of metanephric nephron tubule epithelial cell differentiation // inferred from sequence or structural similarity /// 0090190 // positive regulation of branching involved in ureteric bud morphogenesis // inferred from sequence or structural similarity /// 1900212 // negative regulation of mesenchymal cell apoptotic process involved in metanephros development // inferred from sequence or structural similarity /// 1900215 // negative regulation of apoptotic process involved in metanephric collecting duct development // inferred from sequence or structural similarity /// 1900218 // negative regulation of apoptotic process involved in metanephric nephron tubule development // inferred from sequence or structural similarity /// 2000594 // positive regulation of metanephric DCT cell differentiation // inferred from sequence or structural similarity /// 2000611 // positive regulation of thyroid hormone generation // inferred from mutant phenotype /// 2000612 // regulation of thyroid-stimulating hormone secretion // inferred from mutant phenotype\\', \\'0007165 // signal transduction // non-traceable author statement /// 0007601 // visual perception // inferred from electronic annotation /// 0007602 // phototransduction // inferred from electronic annotation /// 0007603 // phototransduction, visible light // traceable author statement /// 0016056 // rhodopsin mediated signaling pathway // traceable author statement /// 0022400 // regulation of rhodopsin mediated signaling pathway // traceable author statement /// 0030828 // positive regulation of cGMP biosynthetic process // inferred from electronic annotation /// 0031282 // regulation of guanylate cyclase activity // inferred from electronic annotation /// 0031284 // positive regulation of guanylate cyclase activity // inferred from electronic annotation /// 0050896 // response to stimulus // inferred from electronic annotation\\'], \\'Gene Ontology Cellular Component\\': [\\'0005576 // extracellular region // inferred from electronic annotation /// 0005615 // extracellular space // inferred from direct assay /// 0005886 // plasma membrane // traceable author statement /// 0005887 // integral component of plasma membrane // traceable author statement /// 0016020 // membrane // inferred from electronic annotation /// 0016021 // integral component of membrane // inferred from electronic annotation /// 0043235 // receptor complex // inferred from direct assay /// 0070062 // extracellular vesicular exosome // inferred from direct assay\\', \\'0005634 // nucleus // inferred from electronic annotation /// 0005654 // nucleoplasm // traceable author statement /// 0005663 // DNA replication factor C complex // inferred from direct assay\\', \\'0005737 // cytoplasm // inferred from direct assay /// 0005814 // centriole // inferred from direct assay /// 0005829 // cytosol // inferred from direct assay /// 0008180 // COP9 signalosome // inferred from direct assay /// 0070062 // extracellular vesicular exosome // inferred from direct assay /// 0072562 // blood microparticle // inferred from direct assay\\', \\'0005634 // nucleus // inferred from direct assay /// 0005654 // nucleoplasm // inferred from sequence or structural similarity /// 0005730 // nucleolus // inferred from direct assay\\', \\'0001750 // photoreceptor outer segment // inferred from electronic annotation /// 0001917 // photoreceptor inner segment // inferred from electronic annotation /// 0005578 // proteinaceous extracellular matrix // inferred from electronic annotation /// 0005886 // plasma membrane // inferred from direct assay /// 0016020 // membrane // inferred from electronic annotation /// 0097381 // photoreceptor disc membrane // traceable author statement\\'], \\'Gene Ontology Molecular Function\\': [\\'0000166 // nucleotide binding // inferred from electronic annotation /// 0004672 // protein kinase activity // inferred from electronic annotation /// 0004713 // protein tyrosine kinase activity // inferred from electronic annotation /// 0004714 // transmembrane receptor protein tyrosine kinase activity // traceable author statement /// 0005515 // protein binding // inferred from physical interaction /// 0005518 // collagen binding // inferred from direct assay /// 0005518 // collagen binding // inferred from mutant phenotype /// 0005524 // ATP binding // inferred from electronic annotation /// 0016301 // kinase activity // inferred from electronic annotation /// 0016740 // transferase activity // inferred from electronic annotation /// 0016772 // transferase activity, transferring phosphorus-containing groups // inferred from electronic annotation /// 0038062 // protein tyrosine kinase collagen receptor activity // inferred from direct assay /// 0046872 // metal ion binding // inferred from electronic annotation\\', \\'0000166 // nucleotide binding // inferred from electronic annotation /// 0003677 // DNA binding // inferred from electronic annotation /// 0005515 // protein binding // inferred from physical interaction /// 0005524 // ATP binding // inferred from electronic annotation /// 0016851 // magnesium chelatase activity // inferred from electronic annotation /// 0017111 // nucleoside-triphosphatase activity // inferred from electronic annotation\\', \\'0000166 // nucleotide binding // inferred from electronic annotation /// 0005524 // ATP binding // inferred from electronic annotation /// 0019899 // enzyme binding // inferred from physical interaction /// 0031072 // heat shock protein binding // inferred from physical interaction /// 0042623 // ATPase activity, coupled // inferred from direct assay /// 0051082 // unfolded protein binding // inferred from direct assay\\', \\'0000979 // RNA polymerase II core promoter sequence-specific DNA binding // inferred from direct assay /// 0003677 // DNA binding // inferred from direct assay /// 0003677 // DNA binding // inferred from mutant phenotype /// 0003700 // sequence-specific DNA binding transcription factor activity // inferred from direct assay /// 0004996 // thyroid-stimulating hormone receptor activity // traceable author statement /// 0005515 // protein binding // inferred from physical interaction /// 0044212 // transcription regulatory region DNA binding // inferred from direct assay\\', \\'0005509 // calcium ion binding // inferred from electronic annotation /// 0008048 // calcium sensitive guanylate cyclase activator activity // inferred from electronic annotation /// 0030249 // guanylate cyclase regulator activity // inferred from electronic annotation /// 0046872 // metal ion binding // inferred from electronic annotation\\']}\\n'"
      ]
     },
     "execution_count": 109,
     "metadata": {},
     "output_type": "execute_result"
    }
   ],
   "source": [
    "# if requires_gene_mapping:\n",
    "f'''\n",
    "As a biomedical research team, we extracted the gene annotation data from a series in the GEO database, and saved it to a Python dictionary. Please read the dictionary, and decide which key stores the ID of the probe, and which key stores the gene symbols. Please strict follow this format in your answer:\n",
    "probe_name_key = key_name1\n",
    "gene_name_key = key_name2\n",
    "\n",
    "Gene annotation dictionary:\n",
    "{gene_annotation_summary}\n",
    "'''"
   ]
  },
  {
   "cell_type": "code",
   "execution_count": 110,
   "metadata": {
    "ExecuteTime": {
     "end_time": "2023-12-31T21:19:35.590786881Z",
     "start_time": "2023-12-31T21:19:35.537132859Z"
    }
   },
   "outputs": [],
   "source": [
    "if requires_gene_mapping:\n",
    "    probe_id_key = 'ID'\n",
    "    gene_symb_key = 'Gene Symbol'\n",
    "    gene_mapping = get_gene_mapping(gene_annotation, probe_id_key, gene_symb_key)\n",
    "    genetic_data = apply_gene_mapping(genetic_data, gene_mapping)"
   ]
  },
  {
   "cell_type": "code",
   "execution_count": 111,
   "metadata": {
    "ExecuteTime": {
     "end_time": "2023-12-31T21:19:35.590837318Z",
     "start_time": "2023-12-31T21:19:35.537209586Z"
    }
   },
   "outputs": [
    {
     "name": "stderr",
     "output_type": "stream",
     "text": [
      "200 input query terms found dup hits:\t[('ABCC6P1', 2), ('ABCC6P2', 3), ('ABCD1P2', 3), ('ACTBP9', 2), ('ACTR3BP5', 3), ('ACTR3P2', 2), ('A\n",
      "409 input query terms found no hit:\t['AC078883.4', 'AF279782', 'AK023507', 'AK055364', 'AK055967', 'AK056973', 'AK094915', 'AK096803', '\n",
      "182 input query terms found dup hits:\t[('LONP2', 2), ('LRRC37A16P', 2), ('LRRC37A2', 2), ('LRRC37A4P', 3), ('LRRC37A5P', 2), ('LRRC37A7P',\n",
      "206 input query terms found no hit:\t['LOC285389', 'LOC285835', 'LOC388572', 'LOC388692', 'LOC399491', 'LOC400927', 'LOC401317', 'LOC4013\n",
      "137 input query terms found dup hits:\t[('SNORD19B', 2), ('SNORD1A', 2), ('SNORD1C', 2), ('SNORD2', 2), ('SNORD29', 2), ('SNORD33', 2), ('S\n",
      "186 input query terms found no hit:\t['SOGA3', 'SOX5P', 'SPHAR', 'SSU72P8', 'TCEB1P28', 'TCEB1P3', 'TCEB3C', 'TCEB3CL', 'TCEB3CL2', 'TCR-\n",
      "59 input query terms found dup hits:\t[('AGAP11', 4), ('AGAP6', 2), ('AGO2', 2), ('AHCTF1', 2), ('AK6', 2), ('AKIP1', 2), ('AKR1C1', 2), (\n",
      "155 input query terms found no hit:\t['ADRBK1', 'ADRBK2', 'ADSS', 'ADSSL1', 'AES', 'AF001548.5', 'AF007147', 'AF067845.1', 'AF070581', 'A\n",
      "36 input query terms found dup hits:\t[('ATP13A4-AS1', 2), ('ATP6AP1L', 2), ('ATP6V1E2', 2), ('ATP6V1G2-DDX39B', 2), ('ATP8B5P', 2), ('ATX\n",
      "396 input query terms found no hit:\t['ATP5A1', 'ATP5B', 'ATP5C1', 'ATP5D', 'ATP5E', 'ATP5F1', 'ATP5G1', 'ATP5G2', 'ATP5G2P1', 'ATP5G3', \n",
      "29 input query terms found dup hits:\t[('C1orf50', 2), ('C20orf181', 2), ('C2orf83', 2), ('C3P1', 2), ('C3orf62', 2), ('C4orf46', 2), ('C8\n",
      "219 input query terms found no hit:\t['C1orf168', 'C1orf177', 'C1orf180', 'C1orf186', 'C1orf192', 'C1orf194', 'C1orf200', 'C1orf204', 'C1\n",
      "56 input query terms found dup hits:\t[('CDR1', 2), ('CDY1', 2), ('CEACAMP3', 3), ('CECR7', 2), ('CECR9', 2), ('CELP', 2), ('CENPA', 2), (\n",
      "47 input query terms found no hit:\t['CDRT1', 'CDRT1', 'CEBPA-AS1', 'CECR1', 'CECR5', 'CECR5-AS1', 'CECR6', 'CELSR3-AS1', 'CENPBD1', 'CE\n",
      "61 input query terms found dup hits:\t[('CTAGE11P', 2), ('CTSLP8', 2), ('CXXC1P1', 2), ('CYAT1', 2), ('CYCSP19', 2), ('CYCSP33', 2), ('CYC\n",
      "174 input query terms found no hit:\t['CTAGE5', 'CTAGE5', 'CTB-102L5.7', 'CTB-113P19.1', 'CTB-119C2.1', 'CTB-12A17.3', 'CTB-12O2.1', 'CTB\n",
      "48 input query terms found dup hits:\t[('DSTNP1', 2), ('DSTNP2', 2), ('DUSP22', 2), ('DUSP5P1', 3), ('DUTP1', 2), ('DUX1', 2), ('DUXAP10',\n",
      "152 input query terms found no hit:\t['DSCR3', 'DSERG1', 'DUSP13', 'DUSP27', 'DYNLL1-AS1', 'DYX1C1', 'DYX1C1', 'Dbpht2', 'EBLN3', 'ECRP',\n",
      "52 input query terms found dup hits:\t[('FAM86B3P', 2), ('FAM95B1', 2), ('FAR1P1', 2), ('FAR2P2', 2), ('FBLL1', 2), ('FBXO16', 2), ('FCF1'\n",
      "100 input query terms found no hit:\t['FAM84A', 'FAM84A', 'FAM84B', 'FAM86A', 'FAM86C1', 'FAM92A1', 'FAM96A', 'FAM96B', 'FBXL21', 'FBXO18\n",
      "70 input query terms found dup hits:\t[('GLYCTK-AS1', 2), ('GLYR1', 2), ('GMCL1', 2), ('GNA14-AS1', 2), ('GNL3', 2), ('GOLGA2P2Y', 2), ('G\n",
      "140 input query terms found no hit:\t['GMDS-AS1', 'GNB2L1', 'GNN', 'GOLGA8I', 'GPR1', 'GPR1-AS', 'GPR110', 'GPR111', 'GPR112', 'GPR113', \n",
      "63 input query terms found dup hits:\t[('HSD17B7P2', 2), ('HSD3BP1', 2), ('HSP90B1', 2), ('HTATSF1P2', 2), ('HTR7', 2), ('HYDIN', 2), ('HY\n",
      "95 input query terms found no hit:\t['HSPB11', 'HSPC081', 'HYALP1', 'HYPM', 'IARS', 'IBA57-AS1', 'ICK', 'ICT1', 'IGJ', 'IKBKAP', 'IL10RB\n",
      "138 input query terms found dup hits:\t[('KIAA2013', 2), ('KIF9-AS1', 2), ('KIR2DL1', 2), ('KIR3DL1', 2), ('KIR3DX1', 5), ('KIZ', 2), ('KLF\n",
      "99 input query terms found no hit:\t['KIAA1841', 'KIAA1875', 'KIAA1919', 'KIAA2018', 'KIAA2022', 'KIAA2026', 'KIRREL', 'KLRAP1', 'KRMP1'\n",
      "30 input query terms found dup hits:\t[('LINC01214', 2), ('LINC01220', 2), ('LINC01222', 2), ('LINC01226', 2), ('LINC01231', 2), ('LINC012\n",
      "640 input query terms found no hit:\t['LINC01225', 'LINC01268', 'LINC01272', 'LINC01279', 'LINC01296', 'LINC01314', 'LINC01330', 'LINC013\n",
      "9 input query terms found dup hits:\t[('LOC155060', 2), ('LOC389834', 2), ('LOC389906', 2), ('LOC728743', 2), ('LOC729296', 2), ('LPA', 2\n",
      "725 input query terms found no hit:\t['LOC101928388', 'LOC101928399', 'LOC101928403', 'LOC101928405', 'LOC101928418', 'LOC101928420', 'LO\n",
      "38 input query terms found dup hits:\t[('LRP5L', 2), ('LRRC23', 2), ('LRRC3', 2), ('LRRC37A16P', 2), ('LRRC37A2', 2), ('LRRC37A4P', 3), ('\n",
      "79 input query terms found no hit:\t['LRMP', 'LRRC16A', 'LRRC16B', 'LRRC29', 'LRRC48', 'LRRC6', 'LRRC74', 'LRRC75A-AS1', 'LYRM5', 'MAATS\n",
      "42 input query terms found dup hits:\t[('MPRIP-AS1', 2), ('MROH7-TTC4', 2), ('MRPL45P2', 2), ('MRPL49P1', 2), ('MRPL51', 2), ('MRPS11P1', \n",
      "32 input query terms found no hit:\t['MPP5', 'MPP6', 'MRE11A', 'MRPS36', 'MRVI1', 'MRVI1-AS1', 'MST4', 'MTL5', 'MTSS1L', 'MUC3', 'MUM1',\n",
      "61 input query terms found dup hits:\t[('NR2F1', 2), ('NR2F2-AS1', 2), ('NSUN5P1', 2), ('NUDT3', 2), ('NUDT4', 2), ('NUDT9P1', 2), ('NUP15\n",
      "42 input query terms found no hit:\t['NRD1', 'NS3BP', 'NSAP11', 'NUDT16P1', 'NUP50-AS1', 'NUPL1', 'NUPL2', 'OBFC1', 'OCLM', 'OCR1', 'ODF\n",
      "41 input query terms found dup hits:\t[('PI4KA', 2), ('PKD1P1', 3), ('PLCG1-AS1', 2), ('PMCHL1', 2), ('PMS2P1', 4), ('PMS2P3', 2), ('PMS2P\n",
      "52 input query terms found no hit:\t['PIFO', 'PIH1D3', 'PIH2', 'PKI55', 'PLA2G16', 'PMS2L2', 'PNMAL1', 'PNMAL2', 'PP12708', 'PP12719', '\n",
      "29 input query terms found dup hits:\t[('PTEN', 2), ('PTGR2', 2), ('PTMAP1', 8), ('PTTG3P', 2), ('PWAR5', 2), ('PXN-AS1', 2), ('PYY2', 2),\n",
      "184 input query terms found no hit:\t['PTPLA', 'PTPLAD1', 'PTPLAD2', 'PTPLB', 'PTPN20B', 'PTRF', 'PVRL1', 'PVRL2', 'PVRL3', 'PVRL3-AS1', \n",
      "49 input query terms found dup hits:\t[('RP9', 2), ('RP9P', 2), ('RPE', 2), ('RPL18AP16', 2), ('RPL18P10', 2), ('RPL22P22', 2), ('RPL23A',\n",
      "643 input query terms found no hit:\t['RP11-182L21.5', 'RP11-184E9.2', 'RP11-186F10.2', 'RP11-18F14.4', 'RP11-18I14.11', 'RP11-190A12.8',\n",
      "27 input query terms found dup hits:\t[('SAT1', 2), ('SCAND2P', 3), ('SCARNA17', 2), ('SDHAP1', 2), ('SEC14L1P1', 2), ('SENP3', 2), ('SEPS\n",
      "44 input query terms found no hit:\t['SCAMPER', 'SDCCAG3', 'SDPR', 'SELK', 'SELM', 'SELO', 'SELT', 'SEP15', 'SEPN1', 'SEPP1', 'SEPT1', '\n",
      "48 input query terms found dup hits:\t[('SMIM2-AS1', 2), ('SMR3A', 2), ('SNAI1P1', 2), ('SNHG17', 2), ('SNHG18', 2), ('SNHG19', 2), ('SNHG\n",
      "42 input query terms found no hit:\t['SMIM4', 'SNORA43', 'SNORA76C', 'SOGA1', 'SOX5P', 'SPACA6P', 'SPATA5', 'SPATA5L1', 'SPERT', 'SPG20'\n",
      "40 input query terms found dup hits:\t[('TEC', 2), ('TFAP2A-AS1', 2), ('THAP9-AS1', 2), ('THRB-IT1', 2), ('TIMM23', 2), ('TIPARP-AS1', 2),\n",
      "66 input query terms found no hit:\t['TCEB1', 'TCEB1P3', 'TCEB2', 'TCEB3', 'TCEB3-AS1', 'TCEB3B', 'TCP10', 'TCR- alpha V 33.1', 'TCR-alp\n",
      "41 input query terms found dup hits:\t[('TRPC2', 2), ('TRPM2-AS', 2), ('TSPY1', 2), ('TSPY13P', 2), ('TSPY26P', 2), ('TTTY11', 2), ('TTTY2\n",
      "69 input query terms found no hit:\t['TROVE2', 'TRY2P', 'TSSC1', 'TSTA3', 'TTC18', 'TTC25', 'TTC26', 'TTC30A', 'TTC30B', 'TTC37', 'TTC40\n",
      "39 input query terms found dup hits:\t[('YWHAEP7', 3), ('ZBED3-AS1', 2), ('ZBTB46-AS1', 2), ('ZDHHC11', 2), ('ZFHX4-AS1', 2), ('ZFX', 2), \n",
      "27 input query terms found no hit:\t['YAE1D1', 'YARS', 'YTHDF3-AS1', 'ZADH2', 'ZAK', 'ZBED6CL', 'ZBED8', 'ZBED9', 'ZCCHC11', 'ZCCHC5', '\n"
     ]
    }
   ],
   "source": [
    "if NORMALIZE_GENE:\n",
    "    genetic_data = normalize_gene_symbols_in_index(genetic_data)"
   ]
  },
  {
   "cell_type": "code",
   "execution_count": 112,
   "metadata": {
    "ExecuteTime": {
     "end_time": "2023-12-31T21:19:35.590902191Z",
     "start_time": "2023-12-31T21:19:35.537285901Z"
    }
   },
   "outputs": [],
   "source": [
    "merged_data = geo_merge_clinical_genetic_data(selected_clinical_data, genetic_data)\n",
    "# The preprocessing runs through, which means is_available should be True\n",
    "is_available = True"
   ]
  },
  {
   "cell_type": "code",
   "execution_count": 113,
   "metadata": {
    "ExecuteTime": {
     "end_time": "2023-12-31T21:19:35.591095170Z",
     "start_time": "2023-12-31T21:19:35.538708445Z"
    }
   },
   "outputs": [
    {
     "name": "stdout",
     "output_type": "stream",
     "text": [
      "The merged dataset contains 84 samples.\n"
     ]
    }
   ],
   "source": [
    "print(f\"The merged dataset contains {len(merged_data)} samples.\")"
   ]
  },
  {
   "cell_type": "code",
   "execution_count": 114,
   "metadata": {
    "ExecuteTime": {
     "end_time": "2023-12-31T21:19:35.610849182Z",
     "start_time": "2023-12-31T21:19:35.541210258Z"
    }
   },
   "outputs": [
    {
     "name": "stdout",
     "output_type": "stream",
     "text": [
      "For the feature 'Glucocorticoid Sensitivity', the least common label is '0.0' with 32 occurrences. This represents 38.10% of the dataset.\n",
      "The distribution of the feature 'Glucocorticoid Sensitivity' in this dataset is fine.\n",
      "\n"
     ]
    },
    {
     "data": {
      "text/plain": [
       "False"
      ]
     },
     "execution_count": 114,
     "metadata": {},
     "output_type": "execute_result"
    }
   ],
   "source": [
    "is_trait_biased, merged_data = judge_and_remove_biased_features(merged_data, TRAIT, trait_type=trait_type)\n",
    "is_trait_biased"
   ]
  },
  {
   "cell_type": "code",
   "execution_count": 115,
   "metadata": {
    "ExecuteTime": {
     "end_time": "2023-12-31T21:19:35.610923234Z",
     "start_time": "2023-12-31T21:19:35.584848473Z"
    }
   },
   "outputs": [],
   "source": [
    "save_cohort_info(cohort, JSON_PATH, is_available, is_trait_biased, merged_data)"
   ]
  },
  {
   "cell_type": "code",
   "execution_count": 116,
   "metadata": {
    "ExecuteTime": {
     "end_time": "2023-12-31T21:19:35.610970734Z",
     "start_time": "2023-12-31T21:19:35.585042694Z"
    }
   },
   "outputs": [],
   "source": [
    "merged_data.head()\n",
    "if not is_trait_biased:\n",
    "    merged_data.to_csv(os.path.join(OUTPUT_DIR, cohort+'.csv'), index=False)"
   ]
  },
  {
   "cell_type": "markdown",
   "metadata": {
    "ExecuteTime": {
     "end_time": "2023-12-31T03:58:22.271683755Z",
     "start_time": "2023-12-31T03:58:22.246557674Z"
    },
    "id": "-MTPhRGxJV7I"
   },
   "source": [
    "### 3. Do regression & Cross Validation"
   ]
  },
  {
   "cell_type": "code",
   "execution_count": 28,
   "metadata": {
    "ExecuteTime": {
     "end_time": "2023-12-31T21:19:44.459442087Z",
     "start_time": "2023-12-31T21:19:44.416219648Z"
    }
   },
   "outputs": [
    {
     "data": {
      "text/html": [
       "<div>\n",
       "<style scoped>\n",
       "    .dataframe tbody tr th:only-of-type {\n",
       "        vertical-align: middle;\n",
       "    }\n",
       "\n",
       "    .dataframe tbody tr th {\n",
       "        vertical-align: top;\n",
       "    }\n",
       "\n",
       "    .dataframe thead th {\n",
       "        text-align: right;\n",
       "    }\n",
       "</style>\n",
       "<table border=\"1\" class=\"dataframe\">\n",
       "  <thead>\n",
       "    <tr style=\"text-align: right;\">\n",
       "      <th></th>\n",
       "      <th>cohort_id</th>\n",
       "      <th>is_usable</th>\n",
       "      <th>is_available</th>\n",
       "      <th>is_biased</th>\n",
       "      <th>has_age</th>\n",
       "      <th>has_gender</th>\n",
       "      <th>sample_size</th>\n",
       "      <th>note</th>\n",
       "    </tr>\n",
       "  </thead>\n",
       "  <tbody>\n",
       "    <tr>\n",
       "      <th>14</th>\n",
       "      <td>Xena</td>\n",
       "      <td>True</td>\n",
       "      <td>True</td>\n",
       "      <td>False</td>\n",
       "      <td>True</td>\n",
       "      <td>True</td>\n",
       "      <td>426.0</td>\n",
       "      <td></td>\n",
       "    </tr>\n",
       "    <tr>\n",
       "      <th>10</th>\n",
       "      <td>GSE48801</td>\n",
       "      <td>True</td>\n",
       "      <td>True</td>\n",
       "      <td>False</td>\n",
       "      <td>False</td>\n",
       "      <td>False</td>\n",
       "      <td>179.0</td>\n",
       "      <td></td>\n",
       "    </tr>\n",
       "    <tr>\n",
       "      <th>13</th>\n",
       "      <td>GSE66702</td>\n",
       "      <td>True</td>\n",
       "      <td>True</td>\n",
       "      <td>False</td>\n",
       "      <td>False</td>\n",
       "      <td>False</td>\n",
       "      <td>142.0</td>\n",
       "      <td></td>\n",
       "    </tr>\n",
       "    <tr>\n",
       "      <th>12</th>\n",
       "      <td>GSE66705</td>\n",
       "      <td>True</td>\n",
       "      <td>True</td>\n",
       "      <td>False</td>\n",
       "      <td>False</td>\n",
       "      <td>False</td>\n",
       "      <td>84.0</td>\n",
       "      <td></td>\n",
       "    </tr>\n",
       "    <tr>\n",
       "      <th>2</th>\n",
       "      <td>GSE32962</td>\n",
       "      <td>True</td>\n",
       "      <td>True</td>\n",
       "      <td>False</td>\n",
       "      <td>False</td>\n",
       "      <td>False</td>\n",
       "      <td>43.0</td>\n",
       "      <td></td>\n",
       "    </tr>\n",
       "  </tbody>\n",
       "</table>\n",
       "</div>"
      ],
      "text/plain": [
       "   cohort_id  is_usable  is_available is_biased has_age has_gender  \\\n",
       "14      Xena       True          True     False    True       True   \n",
       "10  GSE48801       True          True     False   False      False   \n",
       "13  GSE66702       True          True     False   False      False   \n",
       "12  GSE66705       True          True     False   False      False   \n",
       "2   GSE32962       True          True     False   False      False   \n",
       "\n",
       "    sample_size note  \n",
       "14        426.0       \n",
       "10        179.0       \n",
       "13        142.0       \n",
       "12         84.0       \n",
       "2          43.0       "
      ]
     },
     "execution_count": 28,
     "metadata": {},
     "output_type": "execute_result"
    }
   ],
   "source": [
    "# Check the information of usable cohorts\n",
    "best_cohort, ranked_df = filter_and_rank_cohorts(JSON_PATH)\n",
    "ranked_df"
   ]
  },
  {
   "cell_type": "code",
   "execution_count": 29,
   "metadata": {
    "ExecuteTime": {
     "end_time": "2023-12-31T21:19:44.808945960Z",
     "start_time": "2023-12-31T21:19:44.799467072Z"
    }
   },
   "outputs": [
    {
     "data": {
      "text/plain": [
       "'Xena'"
      ]
     },
     "execution_count": 29,
     "metadata": {},
     "output_type": "execute_result"
    }
   ],
   "source": [
    "# If both age and gender have available cohorts, select 'age' as the condition.\n",
    "condition = 'Age'\n",
    "filter_column = 'has_' + condition.lower()\n",
    "\n",
    "condition_best_cohort, condition_ranked_df = filter_and_rank_cohorts(JSON_PATH, filter_column)\n",
    "condition_best_cohort"
   ]
  },
  {
   "cell_type": "code",
   "execution_count": 30,
   "metadata": {
    "ExecuteTime": {
     "end_time": "2023-12-31T21:19:52.222719978Z",
     "start_time": "2023-12-31T21:19:45.162873006Z"
    }
   },
   "outputs": [
    {
     "data": {
      "text/html": [
       "<div>\n",
       "<style scoped>\n",
       "    .dataframe tbody tr th:only-of-type {\n",
       "        vertical-align: middle;\n",
       "    }\n",
       "\n",
       "    .dataframe tbody tr th {\n",
       "        vertical-align: top;\n",
       "    }\n",
       "\n",
       "    .dataframe thead th {\n",
       "        text-align: right;\n",
       "    }\n",
       "</style>\n",
       "<table border=\"1\" class=\"dataframe\">\n",
       "  <thead>\n",
       "    <tr style=\"text-align: right;\">\n",
       "      <th></th>\n",
       "      <th>cohort_id</th>\n",
       "      <th>is_usable</th>\n",
       "      <th>is_available</th>\n",
       "      <th>is_biased</th>\n",
       "      <th>has_age</th>\n",
       "      <th>has_gender</th>\n",
       "      <th>sample_size</th>\n",
       "      <th>note</th>\n",
       "    </tr>\n",
       "  </thead>\n",
       "  <tbody>\n",
       "    <tr>\n",
       "      <th>14</th>\n",
       "      <td>Xena</td>\n",
       "      <td>True</td>\n",
       "      <td>True</td>\n",
       "      <td>False</td>\n",
       "      <td>True</td>\n",
       "      <td>True</td>\n",
       "      <td>426.0</td>\n",
       "      <td></td>\n",
       "    </tr>\n",
       "  </tbody>\n",
       "</table>\n",
       "</div>"
      ],
      "text/plain": [
       "   cohort_id  is_usable  is_available is_biased has_age has_gender  \\\n",
       "14      Xena       True          True     False    True       True   \n",
       "\n",
       "    sample_size note  \n",
       "14        426.0       "
      ]
     },
     "execution_count": 30,
     "metadata": {},
     "output_type": "execute_result"
    }
   ],
   "source": [
    "condition_ranked_df.head()"
   ]
  },
  {
   "cell_type": "code",
   "execution_count": 33,
   "metadata": {
    "ExecuteTime": {
     "end_time": "2023-12-31T21:19:52.234945878Z",
     "start_time": "2023-12-31T21:19:52.231604618Z"
    }
   },
   "outputs": [
    {
     "data": {
      "text/html": [
       "<div>\n",
       "<style scoped>\n",
       "    .dataframe tbody tr th:only-of-type {\n",
       "        vertical-align: middle;\n",
       "    }\n",
       "\n",
       "    .dataframe tbody tr th {\n",
       "        vertical-align: top;\n",
       "    }\n",
       "\n",
       "    .dataframe thead th {\n",
       "        text-align: right;\n",
       "    }\n",
       "</style>\n",
       "<table border=\"1\" class=\"dataframe\">\n",
       "  <thead>\n",
       "    <tr style=\"text-align: right;\">\n",
       "      <th></th>\n",
       "      <th>Glucocorticoid Sensitivity</th>\n",
       "      <th>Age</th>\n",
       "      <th>Gender</th>\n",
       "      <th>ARHGEF10L</th>\n",
       "      <th>HIF3A</th>\n",
       "      <th>RNF17</th>\n",
       "      <th>RNF10</th>\n",
       "      <th>RNF11</th>\n",
       "      <th>RNF13</th>\n",
       "      <th>GTF2IP1</th>\n",
       "      <th>...</th>\n",
       "      <th>SLC7A10</th>\n",
       "      <th>PLA2G2C</th>\n",
       "      <th>TULP2</th>\n",
       "      <th>NPY5R</th>\n",
       "      <th>GNGT2</th>\n",
       "      <th>GNGT1</th>\n",
       "      <th>TULP3</th>\n",
       "      <th>BCL6B</th>\n",
       "      <th>GSTK1</th>\n",
       "      <th>SELP</th>\n",
       "    </tr>\n",
       "  </thead>\n",
       "  <tbody>\n",
       "    <tr>\n",
       "      <th>0</th>\n",
       "      <td>1</td>\n",
       "      <td>63</td>\n",
       "      <td>1</td>\n",
       "      <td>0.221008</td>\n",
       "      <td>4.428374</td>\n",
       "      <td>-0.531035</td>\n",
       "      <td>0.720328</td>\n",
       "      <td>-0.408078</td>\n",
       "      <td>-0.39141</td>\n",
       "      <td>0.048706</td>\n",
       "      <td>...</td>\n",
       "      <td>-2.090786</td>\n",
       "      <td>-0.086682</td>\n",
       "      <td>-0.086078</td>\n",
       "      <td>-0.128017</td>\n",
       "      <td>0.094667</td>\n",
       "      <td>3.01571</td>\n",
       "      <td>0.049323</td>\n",
       "      <td>-0.418127</td>\n",
       "      <td>0.095905</td>\n",
       "      <td>1.301467</td>\n",
       "    </tr>\n",
       "    <tr>\n",
       "      <th>1</th>\n",
       "      <td>1</td>\n",
       "      <td>66</td>\n",
       "      <td>1</td>\n",
       "      <td>1.334508</td>\n",
       "      <td>-2.541326</td>\n",
       "      <td>-0.531035</td>\n",
       "      <td>0.490728</td>\n",
       "      <td>0.523922</td>\n",
       "      <td>-0.59311</td>\n",
       "      <td>0.178806</td>\n",
       "      <td>...</td>\n",
       "      <td>-1.584586</td>\n",
       "      <td>-0.086682</td>\n",
       "      <td>0.124822</td>\n",
       "      <td>-1.085217</td>\n",
       "      <td>-2.360533</td>\n",
       "      <td>1.65561</td>\n",
       "      <td>-0.402877</td>\n",
       "      <td>-0.135527</td>\n",
       "      <td>0.417805</td>\n",
       "      <td>0.588167</td>\n",
       "    </tr>\n",
       "    <tr>\n",
       "      <th>2</th>\n",
       "      <td>1</td>\n",
       "      <td>69</td>\n",
       "      <td>1</td>\n",
       "      <td>1.173308</td>\n",
       "      <td>-5.554726</td>\n",
       "      <td>-0.531035</td>\n",
       "      <td>1.647728</td>\n",
       "      <td>0.518622</td>\n",
       "      <td>0.02829</td>\n",
       "      <td>0.800406</td>\n",
       "      <td>...</td>\n",
       "      <td>-1.541286</td>\n",
       "      <td>-0.086682</td>\n",
       "      <td>-0.748878</td>\n",
       "      <td>0.498683</td>\n",
       "      <td>-0.768233</td>\n",
       "      <td>-0.33489</td>\n",
       "      <td>-0.685077</td>\n",
       "      <td>0.392573</td>\n",
       "      <td>-0.115395</td>\n",
       "      <td>-1.106033</td>\n",
       "    </tr>\n",
       "    <tr>\n",
       "      <th>3</th>\n",
       "      <td>1</td>\n",
       "      <td>59</td>\n",
       "      <td>0</td>\n",
       "      <td>1.090208</td>\n",
       "      <td>0.971574</td>\n",
       "      <td>-0.531035</td>\n",
       "      <td>0.256228</td>\n",
       "      <td>0.586622</td>\n",
       "      <td>-0.73021</td>\n",
       "      <td>0.636006</td>\n",
       "      <td>...</td>\n",
       "      <td>0.311914</td>\n",
       "      <td>-0.086682</td>\n",
       "      <td>0.214422</td>\n",
       "      <td>-1.587117</td>\n",
       "      <td>-1.082733</td>\n",
       "      <td>1.90011</td>\n",
       "      <td>0.422823</td>\n",
       "      <td>-1.583627</td>\n",
       "      <td>0.596105</td>\n",
       "      <td>-0.924533</td>\n",
       "    </tr>\n",
       "    <tr>\n",
       "      <th>4</th>\n",
       "      <td>1</td>\n",
       "      <td>83</td>\n",
       "      <td>1</td>\n",
       "      <td>0.955008</td>\n",
       "      <td>-1.481926</td>\n",
       "      <td>0.115365</td>\n",
       "      <td>-0.039972</td>\n",
       "      <td>0.746322</td>\n",
       "      <td>-0.59151</td>\n",
       "      <td>0.365906</td>\n",
       "      <td>...</td>\n",
       "      <td>0.763114</td>\n",
       "      <td>-0.086682</td>\n",
       "      <td>-0.748878</td>\n",
       "      <td>-1.587117</td>\n",
       "      <td>-0.136933</td>\n",
       "      <td>1.87471</td>\n",
       "      <td>0.027523</td>\n",
       "      <td>-0.462527</td>\n",
       "      <td>-0.186195</td>\n",
       "      <td>-2.369433</td>\n",
       "    </tr>\n",
       "  </tbody>\n",
       "</table>\n",
       "<p>5 rows × 17341 columns</p>\n",
       "</div>"
      ],
      "text/plain": [
       "   Glucocorticoid Sensitivity  Age  Gender  ARHGEF10L     HIF3A     RNF17  \\\n",
       "0                           1   63       1   0.221008  4.428374 -0.531035   \n",
       "1                           1   66       1   1.334508 -2.541326 -0.531035   \n",
       "2                           1   69       1   1.173308 -5.554726 -0.531035   \n",
       "3                           1   59       0   1.090208  0.971574 -0.531035   \n",
       "4                           1   83       1   0.955008 -1.481926  0.115365   \n",
       "\n",
       "      RNF10     RNF11    RNF13   GTF2IP1  ...   SLC7A10   PLA2G2C     TULP2  \\\n",
       "0  0.720328 -0.408078 -0.39141  0.048706  ... -2.090786 -0.086682 -0.086078   \n",
       "1  0.490728  0.523922 -0.59311  0.178806  ... -1.584586 -0.086682  0.124822   \n",
       "2  1.647728  0.518622  0.02829  0.800406  ... -1.541286 -0.086682 -0.748878   \n",
       "3  0.256228  0.586622 -0.73021  0.636006  ...  0.311914 -0.086682  0.214422   \n",
       "4 -0.039972  0.746322 -0.59151  0.365906  ...  0.763114 -0.086682 -0.748878   \n",
       "\n",
       "      NPY5R     GNGT2    GNGT1     TULP3     BCL6B     GSTK1      SELP  \n",
       "0 -0.128017  0.094667  3.01571  0.049323 -0.418127  0.095905  1.301467  \n",
       "1 -1.085217 -2.360533  1.65561 -0.402877 -0.135527  0.417805  0.588167  \n",
       "2  0.498683 -0.768233 -0.33489 -0.685077  0.392573 -0.115395 -1.106033  \n",
       "3 -1.587117 -1.082733  1.90011  0.422823 -1.583627  0.596105 -0.924533  \n",
       "4 -1.587117 -0.136933  1.87471  0.027523 -0.462527 -0.186195 -2.369433  \n",
       "\n",
       "[5 rows x 17341 columns]"
      ]
     },
     "execution_count": 33,
     "metadata": {},
     "output_type": "execute_result"
    }
   ],
   "source": [
    "merged_data = pd.read_csv(os.path.join(OUTPUT_DIR, condition_best_cohort + '.csv'))\n",
    "merged_data.head()"
   ]
  },
  {
   "cell_type": "code",
   "execution_count": 34,
   "metadata": {
    "ExecuteTime": {
     "end_time": "2023-12-31T21:19:52.312540150Z",
     "start_time": "2023-12-31T21:19:52.235772334Z"
    }
   },
   "outputs": [],
   "source": [
    "# Remove the other condition to prevent interference.\n",
    "merged_data = merged_data.drop(columns=['Gender'], errors='ignore').astype('float')\n",
    "\n",
    "X = merged_data.drop(columns=[TRAIT, condition]).values\n",
    "Y = merged_data[TRAIT].values\n",
    "Z = merged_data[condition].values"
   ]
  },
  {
   "cell_type": "markdown",
   "metadata": {},
   "source": [
    "Select the appropriate regression model depending on whether the dataset shows batch effect."
   ]
  },
  {
   "cell_type": "code",
   "execution_count": 35,
   "metadata": {
    "ExecuteTime": {
     "end_time": "2023-12-31T21:20:00.930840782Z",
     "start_time": "2023-12-31T21:19:52.319092572Z"
    }
   },
   "outputs": [
    {
     "data": {
      "text/plain": [
       "True"
      ]
     },
     "execution_count": 35,
     "metadata": {},
     "output_type": "execute_result"
    }
   ],
   "source": [
    "has_batch_effect = detect_batch_effect(X)\n",
    "has_batch_effect"
   ]
  },
  {
   "cell_type": "code",
   "execution_count": 36,
   "metadata": {
    "ExecuteTime": {
     "end_time": "2023-12-31T21:20:00.931029722Z",
     "start_time": "2023-12-31T21:20:00.929710828Z"
    }
   },
   "outputs": [],
   "source": [
    "# Select appropriate models based on whether the dataset has batch effect.\n",
    "# We experiment on two models for each branch. We will decide which one to choose later.\n",
    "\n",
    "if has_batch_effect:\n",
    "    model_constructor1 = VariableSelection\n",
    "    model_params1 = {'modified': True, 'lamda': 3e-4}\n",
    "    model_constructor2 = VariableSelection\n",
    "    model_params2 = {'modified': False}\n",
    "else:\n",
    "    model_constructor1 = Lasso\n",
    "    model_params1 = {'alpha': 1.0, 'random_state': 42}\n",
    "    model_constructor2 = VariableSelection\n",
    "    model_params2 = {'modified': False}"
   ]
  },
  {
   "cell_type": "code",
   "execution_count": 37,
   "metadata": {
    "ExecuteTime": {
     "end_time": "2023-12-31T21:20:20.709459824Z",
     "start_time": "2023-12-31T21:20:00.931657949Z"
    }
   },
   "outputs": [
    {
     "name": "stdout",
     "output_type": "stream",
     "text": [
      "alpha for Lasso: 0.0003\n",
      "alpha for Lasso: 0.0003\n",
      "alpha for Lasso: 0.0003\n",
      "alpha for Lasso: 0.0003\n",
      "alpha for Lasso: 0.0003\n",
      "The cross-validation accuracy is 64.47% ± 5.92%\n"
     ]
    }
   ],
   "source": [
    "trait_type = 'binary'  # Remember to set this properly, either 'binary' or 'continuous'\n",
    "cv_mean1, cv_std1 = cross_validation(X, Y, Z, model_constructor1, model_params1, target_type=trait_type)"
   ]
  },
  {
   "cell_type": "code",
   "execution_count": 38,
   "metadata": {
    "ExecuteTime": {
     "end_time": "2023-12-31T21:20:24.980870159Z",
     "start_time": "2023-12-31T21:20:20.516710807Z"
    }
   },
   "outputs": [
    {
     "name": "stderr",
     "output_type": "stream",
     "text": [
      "/Users/ollie/anaconda3/lib/python3.11/site-packages/sparse_lmm/helpingMethods.py:49: RuntimeWarning: invalid value encountered in divide\n",
      "  ts = beta / np.sqrt(var * sigma)\n",
      "/Users/ollie/anaconda3/lib/python3.11/site-packages/sparse_lmm/helpingMethods.py:49: RuntimeWarning: invalid value encountered in divide\n",
      "  ts = beta / np.sqrt(var * sigma)\n",
      "/Users/ollie/anaconda3/lib/python3.11/site-packages/sparse_lmm/helpingMethods.py:49: RuntimeWarning: invalid value encountered in divide\n",
      "  ts = beta / np.sqrt(var * sigma)\n",
      "/Users/ollie/anaconda3/lib/python3.11/site-packages/sparse_lmm/helpingMethods.py:49: RuntimeWarning: invalid value encountered in divide\n",
      "  ts = beta / np.sqrt(var * sigma)\n",
      "/Users/ollie/anaconda3/lib/python3.11/site-packages/sparse_lmm/helpingMethods.py:49: RuntimeWarning: invalid value encountered in divide\n",
      "  ts = beta / np.sqrt(var * sigma)\n"
     ]
    },
    {
     "name": "stdout",
     "output_type": "stream",
     "text": [
      "The cross-validation accuracy is 76.94% ± 4.80%\n"
     ]
    }
   ],
   "source": [
    "cv_mean2, cv_std2 = cross_validation(X, Y, Z, model_constructor2, model_params2, target_type=trait_type)"
   ]
  },
  {
   "cell_type": "code",
   "execution_count": 39,
   "metadata": {},
   "outputs": [
    {
     "name": "stdout",
     "output_type": "stream",
     "text": [
      "alpha for Lasso: 0.0003\n"
     ]
    },
    {
     "name": "stderr",
     "output_type": "stream",
     "text": [
      "/Users/ollie/anaconda3/lib/python3.11/site-packages/sparse_lmm/helpingMethods.py:49: RuntimeWarning: invalid value encountered in divide\n",
      "  ts = beta / np.sqrt(var * sigma)\n"
     ]
    }
   ],
   "source": [
    "normalized_X, _ = normalize_data(X)\n",
    "normalized_Z, _ = normalize_data(Z)\n",
    "\n",
    "# Train regression model on the whole dataset to identify significant genes\n",
    "model1 = ResidualizationRegressor(model_constructor1, model_params1)\n",
    "model1.fit(normalized_X, Y, normalized_Z)\n",
    "\n",
    "model2 = ResidualizationRegressor(model_constructor2, model_params2)\n",
    "model2.fit(normalized_X, Y, normalized_Z)"
   ]
  },
  {
   "cell_type": "markdown",
   "metadata": {
    "ExecuteTime": {
     "end_time": "2023-10-14T04:50:59.072075075Z",
     "start_time": "2023-10-14T04:50:38.739499998Z"
    },
    "id": "EjJrxbvb4nlj"
   },
   "source": [
    "### 4. Discussion and report"
   ]
  },
  {
   "cell_type": "code",
   "execution_count": 40,
   "metadata": {
    "ExecuteTime": {
     "end_time": "2023-12-31T21:20:25.000830410Z",
     "start_time": "2023-12-31T21:20:24.982834541Z"
    }
   },
   "outputs": [
    {
     "name": "stdout",
     "output_type": "stream",
     "text": [
      "Effect of the condition on the target variable:\n",
      "Variable: Age\n",
      "Coefficient: -0.0073\n",
      "Found 17 genes with non-zero coefficients associated with the trait 'Glucocorticoid Sensitivity' conditional on the factor 'Age'. These genes are identified as significant based on the regression model.\n",
      "Variable  Coefficient  Absolute Coefficient\n",
      "   SMR3A    -0.957890              0.957890\n",
      "  NKX6-2     0.814918              0.814918\n",
      "    FGF6    -0.618771              0.618771\n",
      " TBC1D3G     0.491900              0.491900\n",
      "   IL17F    -0.481053              0.481053\n",
      " TMEM213    -0.471884              0.471884\n",
      "  RSPH6A     0.425530              0.425530\n",
      "  OR2A25     0.372596              0.372596\n",
      " TBC1D3C    -0.318377              0.318377\n",
      "   KCTD4     0.287430              0.287430\n",
      "    LGSN     0.160146              0.160146\n",
      " TAS2R30     0.129086              0.129086\n",
      "    PIM3     0.120899              0.120899\n",
      "  OR2A14     0.116630              0.116630\n",
      "   DCTN5     0.109493              0.109493\n",
      "  CLDN10     0.076321              0.076321\n",
      "     NTS     0.052211              0.052211\n"
     ]
    },
    {
     "name": "stderr",
     "output_type": "stream",
     "text": [
      "/Users/ollie/Documents/JupyterProjects/AI4Science_gold_standard/stage1/Jinglin/utils.py:469: SettingWithCopyWarning: \n",
      "A value is trying to be set on a copy of a slice from a DataFrame.\n",
      "Try using .loc[row_indexer,col_indexer] = value instead\n",
      "\n",
      "See the caveats in the documentation: https://pandas.pydata.org/pandas-docs/stable/user_guide/indexing.html#returning-a-view-versus-a-copy\n",
      "  gene_regression_df['Absolute Coefficient'] = gene_regression_df['Coefficient'].abs()\n"
     ]
    }
   ],
   "source": [
    "feature_cols = merged_data.columns.tolist()\n",
    "feature_cols.remove(TRAIT)\n",
    "\n",
    "threshold = 0.05\n",
    "interpret_result(model1, feature_cols, TRAIT, condition, threshold=threshold, save_output=True,\n",
    "                 output_dir=OUTPUT_DIR, model_id=1)"
   ]
  },
  {
   "cell_type": "code",
   "execution_count": 41,
   "metadata": {},
   "outputs": [
    {
     "name": "stdout",
     "output_type": "stream",
     "text": [
      "Effect of the condition on the target variable:\n",
      "Variable: Age\n",
      "Coefficient: -0.0073\n",
      "Found 41 significant genes associated with the trait 'Glucocorticoid Sensitivity' conditional on the factor 'Age', with corrected p-value < 0.05:\n",
      " Variable  Coefficient      p_value  corrected_p_value\n",
      "    MMP27    -0.066884 2.952067e-19       5.118294e-15\n",
      "   CLEC3B    -0.086405 3.629278e-09       3.146221e-05\n",
      "    LMX1A    -0.049278 1.218598e-08       7.042685e-05\n",
      "  COL10A1     0.083467 2.016525e-08       8.740628e-05\n",
      "  FAM180B    -0.052842 3.245674e-08       1.125470e-04\n",
      "    TAAR6    -0.037217 4.530768e-08       1.309241e-04\n",
      "   OLFML1    -0.097990 7.751943e-08       1.920045e-04\n",
      "   VSTM2A    -0.045337 1.271020e-07       2.754619e-04\n",
      "     ESM1     0.060856 1.591626e-07       3.066180e-04\n",
      "     CST2     0.042600 2.869742e-07       4.975558e-04\n",
      "   OR2T27    -0.035234 9.670513e-07       1.524249e-03\n",
      "    INHBA     0.064166 1.359063e-06       1.942670e-03\n",
      "   COL4A1     0.069119 1.456610e-06       1.942670e-03\n",
      "    OR1S1    -0.036323 1.629177e-06       2.017619e-03\n",
      "     SGCG    -0.043875 2.594347e-06       2.998719e-03\n",
      "      F10    -0.063209 3.379569e-06       3.662185e-03\n",
      "    SFTPC    -0.030688 3.600726e-06       3.672317e-03\n",
      "    CMTM5    -0.047747 4.500390e-06       4.334876e-03\n",
      "   OR51L1    -0.034254 7.082464e-06       6.462934e-03\n",
      "  PCOLCE2    -0.044753 1.164376e-05       1.009397e-02\n",
      "  RPLP0P2     0.044499 1.250420e-05       1.032371e-02\n",
      "    MMP11     0.056832 1.500688e-05       1.096092e-02\n",
      "    PRLHR    -0.033269 1.519310e-05       1.096092e-02\n",
      "      OMD    -0.057210 1.580476e-05       1.096092e-02\n",
      "   KIF26B     0.048942 1.571117e-05       1.096092e-02\n",
      "     MYL4     0.033970 1.677877e-05       1.118886e-02\n",
      "   OR2T11    -0.029999 1.780259e-05       1.143190e-02\n",
      "     RXRG    -0.043683 1.942973e-05       1.203116e-02\n",
      "     PMP2    -0.042028 2.080035e-05       1.243574e-02\n",
      "     COMP     0.050417 2.737592e-05       1.582146e-02\n",
      "     MUSK    -0.029234 4.298044e-05       2.403855e-02\n",
      "      DPT    -0.055291 4.889902e-05       2.649410e-02\n",
      "POM121L1P     0.028731 5.983058e-05       3.051007e-02\n",
      "    PDE6C    -0.025413 5.816673e-05       3.051007e-02\n",
      "      HBM     0.023346 6.450681e-05       3.195483e-02\n",
      "   GABRG1    -0.029208 7.296229e-05       3.513945e-02\n",
      "     XKR4    -0.042245 7.882295e-05       3.693601e-02\n",
      "   ACTRT2    -0.033645 8.419175e-05       3.841359e-02\n",
      "    ADH1A    -0.039177 8.758276e-05       3.893615e-02\n",
      "    BMP15     0.021839 9.934349e-05       4.306044e-02\n",
      "     DKK2     0.038646 1.181781e-04       4.997493e-02\n"
     ]
    },
    {
     "name": "stderr",
     "output_type": "stream",
     "text": [
      "/Users/ollie/Documents/JupyterProjects/AI4Science_gold_standard/stage1/Jinglin/utils.py:478: SettingWithCopyWarning: \n",
      "A value is trying to be set on a copy of a slice from a DataFrame.\n",
      "Try using .loc[row_indexer,col_indexer] = value instead\n",
      "\n",
      "See the caveats in the documentation: https://pandas.pydata.org/pandas-docs/stable/user_guide/indexing.html#returning-a-view-versus-a-copy\n",
      "  gene_regression_df.loc[:, 'corrected_p_value'] = corrected_p_values\n"
     ]
    }
   ],
   "source": [
    "interpret_result(model2, feature_cols, TRAIT, condition, threshold=threshold, save_output=True,\n",
    "                 output_dir=OUTPUT_DIR, model_id=2)"
   ]
  },
  {
   "cell_type": "code",
   "execution_count": null,
   "metadata": {},
   "outputs": [],
   "source": []
  }
 ],
 "metadata": {
  "colab": {
   "provenance": []
  },
  "kernelspec": {
   "display_name": "Python 3 (ipykernel)",
   "language": "python",
   "name": "python3"
  },
  "language_info": {
   "codemirror_mode": {
    "name": "ipython",
    "version": 3
   },
   "file_extension": ".py",
   "mimetype": "text/x-python",
   "name": "python",
   "nbconvert_exporter": "python",
   "pygments_lexer": "ipython3",
   "version": "3.11.5"
  }
 },
 "nbformat": 4,
 "nbformat_minor": 1
}
