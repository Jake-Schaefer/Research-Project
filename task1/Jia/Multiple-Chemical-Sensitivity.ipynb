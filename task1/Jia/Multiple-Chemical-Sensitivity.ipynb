{
 "cells": [
  {
   "cell_type": "markdown",
   "metadata": {},
   "source": [
    "# Gold standard curation: Preprocessing and single-step regression"
   ]
  },
  {
   "cell_type": "markdown",
   "metadata": {},
   "source": [
    "In this stage of gold standard curation, we will do the data preprocessing, selection, and single-step regression for the 153 traits in our question set. This file shows the reference steps using the trait \"Breast Cancer\" as an example. The workflow consists of the following steps:\n",
    "\n",
    "1. Preprocess all the cohorts related to this trait. Each cohort should be converted to a tabular form and saved to a csv file, with columns being genetic factors, the trait, and age, gender if available;\n",
    "2. If there exists at least one cohort with age or gender information, conduct regression analysis with genetic features together with age or gender as the regressors.\n"
   ]
  },
  {
   "cell_type": "markdown",
   "metadata": {},
   "source": [
    "# 1. Basic setup"
   ]
  },
  {
   "cell_type": "code",
   "execution_count": 1,
   "metadata": {
    "ExecuteTime": {
     "end_time": "2023-12-31T21:19:07.313098989Z",
     "start_time": "2023-12-31T21:19:07.312718292Z"
    }
   },
   "outputs": [],
   "source": [
    "import os\n",
    "\n",
    "# Set your preferred name\n",
    "USER = \"Jinglin\"\n",
    "# Set the data and output directories\n",
    "DATA_ROOT = '../../DATA'\n",
    "OUTPUT_ROOT = '../../output1'\n",
    "TRAIT = 'Multiple Chemical Sensitivity'\n",
    "\n",
    "OUTPUT_DIR = os.path.join(OUTPUT_ROOT, USER, '-'.join(TRAIT.split()))\n",
    "JSON_PATH = os.path.join(OUTPUT_DIR, \"cohort_info.json\")\n",
    "if not os.path.exists(OUTPUT_DIR):\n",
    "    os.makedirs(OUTPUT_DIR, exist_ok=True)\n",
    "\n",
    "# Gene symbol normalization may take 1-2 minutes. You may set it to False for debugging.\n",
    "NORMALIZE_GENE = True"
   ]
  },
  {
   "cell_type": "code",
   "execution_count": 2,
   "metadata": {
    "ExecuteTime": {
     "end_time": "2023-12-31T21:19:07.680659936Z",
     "start_time": "2023-12-31T21:19:07.666959145Z"
    },
    "colab": {
     "base_uri": "https://localhost:8080/"
    },
    "id": "jMTdsU43vVg3",
    "outputId": "38886111-f442-44b4-8398-96bf384d7abd"
   },
   "outputs": [
    {
     "data": {
      "text/plain": [
       "\"import os\\nfrom google.colab import drive\\n\\ndrive.mount('/content/drive', force_remount=True)\\nproj_dir = '/content/drive/MyDrive/AI4Science_Public'\\nos.chdir(proj_dir)\""
      ]
     },
     "execution_count": 2,
     "metadata": {},
     "output_type": "execute_result"
    }
   ],
   "source": [
    "# This cell is only for use on Google Colab. Skip it if you run your code in other environments\n",
    "\n",
    "\"\"\"import os\n",
    "from google.colab import drive\n",
    "\n",
    "drive.mount('/content/drive', force_remount=True)\n",
    "proj_dir = '/content/drive/MyDrive/AI4Science_Public'\n",
    "os.chdir(proj_dir)\"\"\""
   ]
  },
  {
   "cell_type": "markdown",
   "metadata": {},
   "source": [
    "# 2. Data preprocessing and selection"
   ]
  },
  {
   "cell_type": "markdown",
   "metadata": {},
   "source": [
    "## 2.1. The TCGA Xena dataset"
   ]
  },
  {
   "cell_type": "markdown",
   "metadata": {},
   "source": [
    "In TCGA Xena, there is either zero or one cohort related to the trait. We search the names of subdirectories to see if any matches the trait. If a match is found, we directly obtain the file paths."
   ]
  },
  {
   "cell_type": "code",
   "execution_count": 3,
   "metadata": {},
   "outputs": [
    {
     "data": {
      "text/plain": [
       "['TCGA_Pancreatic_Cancer_(PAAD)',\n",
       " 'TCGA_Bladder_Cancer_(BLCA)',\n",
       " '.DS_Store',\n",
       " 'TCGA_Testicular_Cancer_(TGCT)',\n",
       " 'TCGA_Acute_Myeloid_Leukemia_(LAML)',\n",
       " 'TCGA_Breast_Cancer_(BRCA)',\n",
       " 'TCGA_Stomach_Cancer_(STAD)',\n",
       " 'TCGA_Thyroid_Cancer_(THCA)',\n",
       " 'TCGA_Glioblastoma_(GBM)']"
      ]
     },
     "execution_count": 3,
     "metadata": {},
     "output_type": "execute_result"
    }
   ],
   "source": [
    "import os\n",
    "from utils import *\n",
    "\n",
    "dataset = 'TCGA'\n",
    "dataset_dir = os.path.join(DATA_ROOT, dataset)\n",
    "os.listdir(dataset_dir)[:10]"
   ]
  },
  {
   "cell_type": "markdown",
   "metadata": {},
   "source": [
    "If no match is found, jump directly to GEO in Part 2.2"
   ]
  },
  {
   "cell_type": "code",
   "execution_count": 5,
   "metadata": {
    "ExecuteTime": {
     "end_time": "2023-12-31T21:19:09.918243934Z",
     "start_time": "2023-12-31T21:19:09.909021135Z"
    }
   },
   "outputs": [],
   "source": [
    "trait_subdir = \"TCGA_Thyroid_Cancer_(THCA)\"\n",
    "cohort = 'Xena'\n",
    "# All the cancer traits in Xena are binary\n",
    "trait_type = 'binary'\n",
    "# Once a relevant cohort is found in Xena, we can generally assume the gene and clinical data are available\n",
    "is_available = True\n",
    "\n",
    "clinical_data_file = os.path.join(dataset_dir, trait_subdir, 'TCGA.THCA.sampleMap_THCA_clinicalMatrix')\n",
    "genetic_data_file = os.path.join(dataset_dir, trait_subdir, 'TCGA.THCA.sampleMap_HiSeqV2_PANCAN.gz')"
   ]
  },
  {
   "cell_type": "code",
   "execution_count": 6,
   "metadata": {
    "ExecuteTime": {
     "end_time": "2023-12-31T21:19:13.613198409Z",
     "start_time": "2023-12-31T21:19:10.409688003Z"
    },
    "id": "MudwB-_iz7sc"
   },
   "outputs": [],
   "source": [
    "import pandas as pd\n",
    "\n",
    "clinical_data = pd.read_csv(clinical_data_file, sep='\\t', index_col=0)\n",
    "genetic_data = pd.read_csv(genetic_data_file, compression='gzip', sep='\\t', index_col=0)\n",
    "age_col = gender_col = None"
   ]
  },
  {
   "cell_type": "code",
   "execution_count": 7,
   "metadata": {
    "ExecuteTime": {
     "end_time": "2023-12-31T21:19:13.617006167Z",
     "start_time": "2023-12-31T21:19:13.614080653Z"
    }
   },
   "outputs": [],
   "source": [
    "_, clinical_data_cols = check_rows_and_columns(clinical_data)"
   ]
  },
  {
   "cell_type": "code",
   "execution_count": 8,
   "metadata": {
    "ExecuteTime": {
     "end_time": "2023-12-31T21:19:13.661538569Z",
     "start_time": "2023-12-31T21:19:13.615946213Z"
    }
   },
   "outputs": [
    {
     "data": {
      "text/plain": [
       "['_INTEGRATION',\n",
       " '_PATIENT',\n",
       " '_cohort',\n",
       " '_primary_disease',\n",
       " '_primary_site',\n",
       " 'additional_pharmaceutical_therapy',\n",
       " 'additional_radiation_therapy',\n",
       " 'additional_surgery_locoregional_procedure',\n",
       " 'age_at_initial_pathologic_diagnosis',\n",
       " 'bcr_followup_barcode']"
      ]
     },
     "execution_count": 8,
     "metadata": {},
     "output_type": "execute_result"
    }
   ],
   "source": [
    "clinical_data_cols[:10]"
   ]
  },
  {
   "cell_type": "markdown",
   "metadata": {
    "ExecuteTime": {
     "end_time": "2023-12-28T20:20:11.841042813Z",
     "start_time": "2023-12-28T20:20:11.834458206Z"
    }
   },
   "source": [
    "Read all the column names in the clinical dataset, to find the columns that record information about age or gender.\n",
    "Reference prompt:"
   ]
  },
  {
   "cell_type": "code",
   "execution_count": 9,
   "metadata": {
    "ExecuteTime": {
     "end_time": "2023-12-31T21:19:13.661858700Z",
     "start_time": "2023-12-31T21:19:13.656749487Z"
    }
   },
   "outputs": [
    {
     "data": {
      "text/plain": [
       "\"\\nBelow is a list of column names from a biomedical dataset. Please examine it and identify the columns that are likely to contain information about patients' age. Additionally, please do the same for columns that may hold data on patients' gender. Please provide your answer by strictly following this format, without redundant words:\\ncandidate_age_cols = [col_name1, col_name2, ...]\\ncandidate_gender_cols = [col_name1, col_name2, ...]\\nIf no columns match a criterion, please provide an empty list.\\n\\nColumn names:\\n['_INTEGRATION', '_PATIENT', '_cohort', '_primary_disease', '_primary_site', 'additional_pharmaceutical_therapy', 'additional_radiation_therapy', 'additional_surgery_locoregional_procedure', 'age_at_initial_pathologic_diagnosis', 'bcr_followup_barcode', 'bcr_patient_barcode', 'bcr_sample_barcode', 'braf_gene_genotyping_outcome_lab_results_text', 'days_to_additional_surgery_metastatic_procedure', 'days_to_birth', 'days_to_collection', 'days_to_death', 'days_to_initial_pathologic_diagnosis', 'days_to_last_followup', 'days_to_new_tumor_event_additional_surgery_procedure', 'days_to_new_tumor_event_after_initial_treatment', 'extrathyroid_carcinoma_present_extension_status', 'first_degree_relative_history_thyrd_glnd_crcnm_dgnss_rltnshp_typ', 'followup_case_report_form_submission_reason', 'form_completion_date', 'gender', 'genotype_analysis_performed_indicator', 'genotyping_results_gene_mutation_not_reported_reason', 'histologic_disease_progression_present_indicator', 'histologic_disease_progression_present_type', 'histological_type', 'histological_type_other', 'history_of_neoadjuvant_treatment', 'i_131_first_administered_dose', 'i_131_subsequent_administered_dose', 'i_131_total_administered_dose', 'i_131_total_administered_preparation_technique', 'icd_10', 'icd_o_3_histology', 'icd_o_3_site', 'informed_consent_verified', 'initial_weight', 'is_ffpe', 'lost_follow_up', 'lymph_node_examined_count', 'lymph_node_preoperative_assessment_diagnostic_imaging_type', 'lymph_node_preoperative_scan_indicator', 'metastatic_neoplasm_confirmed_diagnosis_method_name', 'metastatic_neoplasm_confirmed_diagnosis_method_text', 'metastatic_site', 'neoplasm_depth', 'new_neoplasm_confirmed_diagnosis_method_name', 'new_neoplasm_event_occurrence_anatomic_site', 'new_neoplasm_event_type', 'new_neoplasm_occurrence_anatomic_site_text', 'new_tumor_event_additional_surgery_procedure', 'new_tumor_event_after_initial_treatment', 'number_of_lymphnodes_positive_by_he', 'oct_embedded', 'other_dx', 'other_genotyping_outcome_lab_results_text', 'other_metastatic_site', 'pathologic_M', 'pathologic_N', 'pathologic_T', 'pathologic_stage', 'pathology_report_file_name', 'patient_id', 'patient_personal_medical_history_thyroid_gland_disorder_name', 'patient_personal_medical_history_thyroid_other_specify_text', 'person_lifetime_risk_radiation_exposure_indicator', 'person_neoplasm_cancer_status', 'post_surgical_procedure_assessment_thyroid_gland_carcinoma_stats', 'postoperative_rx_tx', 'primary_lymph_node_presentation_assessment', 'primary_neoplasm_focus_type', 'primary_thyroid_gland_neoplasm_location_anatomic_site', 'radiation_therapy', 'radiation_therapy_administered_dose_text', 'radiation_therapy_administered_preparation_technique_text', 'radiosensitizing_agent_administered_indicator', 'ras_family_gene_genotyping_outcome_lab_results_text', 'residual_tumor', 'ret_ptc_rearrangement_genotyping_outcome_lab_results_text', 'sample_type', 'sample_type_id', 'system_version', 'targeted_molecular_therapy', 'therapeutic_procedure_new_neoplasm_required_additional_thrpy_typ', 'thyroid_gland_carcinoma_involvement_regional_lymph_node_type', 'tissue_prospective_collection_indicator', 'tissue_retrospective_collection_indicator', 'tissue_source_site', 'tumor_tissue_site', 'vial_number', 'vital_status', 'year_of_initial_pathologic_diagnosis', '_GENOMIC_ID_TCGA_THCA_exp_HiSeqV2_percentile', '_GENOMIC_ID_TCGA_THCA_hMethyl450', '_GENOMIC_ID_TCGA_THCA_mutation_bcm_gene', '_GENOMIC_ID_TCGA_THCA_RPPA', '_GENOMIC_ID_TCGA_THCA_exp_HiSeqV2', '_GENOMIC_ID_TCGA_THCA_gistic2', '_GENOMIC_ID_TCGA_THCA_PDMRNAseqCNV', '_GENOMIC_ID_TCGA_THCA_mutation_bcgsc_gene', '_GENOMIC_ID_TCGA_THCA_mutation', '_GENOMIC_ID_TCGA_THCA_PDMRNAseq', '_GENOMIC_ID_TCGA_THCA_mutation_broad_gene', '_GENOMIC_ID_TCGA_THCA_exp_HiSeqV2_exon', '_GENOMIC_ID_TCGA_THCA_miRNA_HiSeq', '_GENOMIC_ID_TCGA_THCA_exp_HiSeqV2_PANCAN', '_GENOMIC_ID_data/public/TCGA/THCA/miRNA_HiSeq_gene', '_GENOMIC_ID_TCGA_THCA_gistic2thd']\\n\""
      ]
     },
     "execution_count": 9,
     "metadata": {},
     "output_type": "execute_result"
    }
   ],
   "source": [
    "f'''\n",
    "Below is a list of column names from a biomedical dataset. Please examine it and identify the columns that are likely to contain information about patients' age. Additionally, please do the same for columns that may hold data on patients' gender. Please provide your answer by strictly following this format, without redundant words:\n",
    "candidate_age_cols = [col_name1, col_name2, ...]\n",
    "candidate_gender_cols = [col_name1, col_name2, ...]\n",
    "If no columns match a criterion, please provide an empty list.\n",
    "\n",
    "Column names:\n",
    "{clinical_data_cols}\n",
    "'''"
   ]
  },
  {
   "cell_type": "code",
   "execution_count": 12,
   "metadata": {
    "ExecuteTime": {
     "end_time": "2023-12-31T21:19:13.661938833Z",
     "start_time": "2023-12-31T21:19:13.656901848Z"
    }
   },
   "outputs": [],
   "source": [
    "candidate_age_cols = ['age_at_initial_pathologic_diagnosis',\n",
    "                      'days_to_birth']\n",
    "candidate_gender_cols = ['gender']"
   ]
  },
  {
   "cell_type": "markdown",
   "metadata": {
    "ExecuteTime": {
     "end_time": "2023-12-31T03:57:44.207565572Z",
     "start_time": "2023-12-31T03:57:44.202177544Z"
    }
   },
   "source": [
    "Choose a single column from the candidate columns that record age and gender information respectively.\n",
    "If no column meets the requirement, keep 'age_col' or 'gender_col' to None"
   ]
  },
  {
   "cell_type": "code",
   "execution_count": 13,
   "metadata": {
    "ExecuteTime": {
     "end_time": "2023-12-31T21:19:13.662078139Z",
     "start_time": "2023-12-31T21:19:13.657006017Z"
    }
   },
   "outputs": [
    {
     "data": {
      "text/plain": [
       "{'age_at_initial_pathologic_diagnosis': [74, 65, 55, 57, 33],\n",
       " 'days_to_birth': [-27348, -24102, -20361, -21008, -12295]}"
      ]
     },
     "execution_count": 13,
     "metadata": {},
     "output_type": "execute_result"
    }
   ],
   "source": [
    "preview_df(clinical_data[candidate_age_cols])"
   ]
  },
  {
   "cell_type": "code",
   "execution_count": 16,
   "metadata": {
    "ExecuteTime": {
     "end_time": "2023-12-31T21:19:13.777159137Z",
     "start_time": "2023-12-31T21:19:13.756210135Z"
    }
   },
   "outputs": [],
   "source": [
    "age_col = 'age_at_initial_pathologic_diagnosis'"
   ]
  },
  {
   "cell_type": "code",
   "execution_count": 17,
   "metadata": {
    "ExecuteTime": {
     "end_time": "2023-12-31T21:19:14.313425023Z",
     "start_time": "2023-12-31T21:19:14.305221062Z"
    }
   },
   "outputs": [
    {
     "data": {
      "text/plain": [
       "{'gender': ['FEMALE', 'MALE', 'MALE', 'MALE', 'FEMALE']}"
      ]
     },
     "execution_count": 17,
     "metadata": {},
     "output_type": "execute_result"
    }
   ],
   "source": [
    "preview_df(clinical_data[candidate_gender_cols])"
   ]
  },
  {
   "cell_type": "code",
   "execution_count": 18,
   "metadata": {
    "ExecuteTime": {
     "end_time": "2023-12-31T21:19:14.852502962Z",
     "start_time": "2023-12-31T21:19:14.845153121Z"
    }
   },
   "outputs": [],
   "source": [
    "gender_col = 'gender'"
   ]
  },
  {
   "cell_type": "code",
   "execution_count": 19,
   "metadata": {
    "ExecuteTime": {
     "end_time": "2023-12-31T21:19:15.246065025Z",
     "start_time": "2023-12-31T21:19:15.240279162Z"
    }
   },
   "outputs": [],
   "source": [
    "selected_clinical_data = xena_select_clinical_features(clinical_data, TRAIT, age_col, gender_col)"
   ]
  },
  {
   "cell_type": "code",
   "execution_count": 20,
   "metadata": {
    "ExecuteTime": {
     "end_time": "2023-12-31T21:19:15.593478652Z",
     "start_time": "2023-12-31T21:19:15.583841656Z"
    }
   },
   "outputs": [],
   "source": [
    "if NORMALIZE_GENE:\n",
    "    genetic_data = normalize_gene_symbols_in_index(genetic_data)"
   ]
  },
  {
   "cell_type": "code",
   "execution_count": 21,
   "metadata": {
    "ExecuteTime": {
     "end_time": "2023-12-31T21:19:16.074598194Z",
     "start_time": "2023-12-31T21:19:15.973600157Z"
    }
   },
   "outputs": [
    {
     "data": {
      "text/html": [
       "<div>\n",
       "<style scoped>\n",
       "    .dataframe tbody tr th:only-of-type {\n",
       "        vertical-align: middle;\n",
       "    }\n",
       "\n",
       "    .dataframe tbody tr th {\n",
       "        vertical-align: top;\n",
       "    }\n",
       "\n",
       "    .dataframe thead th {\n",
       "        text-align: right;\n",
       "    }\n",
       "</style>\n",
       "<table border=\"1\" class=\"dataframe\">\n",
       "  <thead>\n",
       "    <tr style=\"text-align: right;\">\n",
       "      <th></th>\n",
       "      <th>Thyroid Cancer</th>\n",
       "      <th>Age</th>\n",
       "      <th>Gender</th>\n",
       "      <th>ARHGEF10L</th>\n",
       "      <th>HIF3A</th>\n",
       "      <th>RNF17</th>\n",
       "      <th>RNF10</th>\n",
       "      <th>RNF11</th>\n",
       "      <th>RNF13</th>\n",
       "      <th>GTF2IP1</th>\n",
       "      <th>...</th>\n",
       "      <th>TULP2</th>\n",
       "      <th>NPY5R</th>\n",
       "      <th>GNGT2</th>\n",
       "      <th>GNGT1</th>\n",
       "      <th>TULP3</th>\n",
       "      <th>PTRF</th>\n",
       "      <th>BCL6B</th>\n",
       "      <th>GSTK1</th>\n",
       "      <th>SELP</th>\n",
       "      <th>SELS</th>\n",
       "    </tr>\n",
       "    <tr>\n",
       "      <th>sampleID</th>\n",
       "      <th></th>\n",
       "      <th></th>\n",
       "      <th></th>\n",
       "      <th></th>\n",
       "      <th></th>\n",
       "      <th></th>\n",
       "      <th></th>\n",
       "      <th></th>\n",
       "      <th></th>\n",
       "      <th></th>\n",
       "      <th></th>\n",
       "      <th></th>\n",
       "      <th></th>\n",
       "      <th></th>\n",
       "      <th></th>\n",
       "      <th></th>\n",
       "      <th></th>\n",
       "      <th></th>\n",
       "      <th></th>\n",
       "      <th></th>\n",
       "      <th></th>\n",
       "    </tr>\n",
       "  </thead>\n",
       "  <tbody>\n",
       "    <tr>\n",
       "      <th>TCGA-4C-A93U-01</th>\n",
       "      <td>1</td>\n",
       "      <td>74</td>\n",
       "      <td>0</td>\n",
       "      <td>-0.767592</td>\n",
       "      <td>-1.742926</td>\n",
       "      <td>-0.531035</td>\n",
       "      <td>-0.067972</td>\n",
       "      <td>0.265922</td>\n",
       "      <td>-0.13531</td>\n",
       "      <td>0.440006</td>\n",
       "      <td>...</td>\n",
       "      <td>-0.748878</td>\n",
       "      <td>-1.018517</td>\n",
       "      <td>0.205567</td>\n",
       "      <td>-1.28139</td>\n",
       "      <td>0.395523</td>\n",
       "      <td>1.735414</td>\n",
       "      <td>0.945273</td>\n",
       "      <td>-0.186695</td>\n",
       "      <td>4.024767</td>\n",
       "      <td>-0.273612</td>\n",
       "    </tr>\n",
       "    <tr>\n",
       "      <th>TCGA-BJ-A0YZ-01</th>\n",
       "      <td>1</td>\n",
       "      <td>65</td>\n",
       "      <td>1</td>\n",
       "      <td>1.766308</td>\n",
       "      <td>0.273374</td>\n",
       "      <td>-0.531035</td>\n",
       "      <td>0.790028</td>\n",
       "      <td>1.209322</td>\n",
       "      <td>0.01229</td>\n",
       "      <td>0.704606</td>\n",
       "      <td>...</td>\n",
       "      <td>0.125322</td>\n",
       "      <td>1.568883</td>\n",
       "      <td>0.626367</td>\n",
       "      <td>2.38101</td>\n",
       "      <td>0.275823</td>\n",
       "      <td>1.820014</td>\n",
       "      <td>2.140073</td>\n",
       "      <td>1.380405</td>\n",
       "      <td>1.257367</td>\n",
       "      <td>-0.174312</td>\n",
       "    </tr>\n",
       "    <tr>\n",
       "      <th>TCGA-BJ-A0Z0-01</th>\n",
       "      <td>1</td>\n",
       "      <td>55</td>\n",
       "      <td>1</td>\n",
       "      <td>0.986808</td>\n",
       "      <td>-2.165726</td>\n",
       "      <td>-0.050935</td>\n",
       "      <td>0.051428</td>\n",
       "      <td>0.979522</td>\n",
       "      <td>0.48229</td>\n",
       "      <td>0.090106</td>\n",
       "      <td>...</td>\n",
       "      <td>-0.748878</td>\n",
       "      <td>-0.747417</td>\n",
       "      <td>-0.931133</td>\n",
       "      <td>-1.28139</td>\n",
       "      <td>-0.222077</td>\n",
       "      <td>0.293414</td>\n",
       "      <td>0.725173</td>\n",
       "      <td>-0.254095</td>\n",
       "      <td>0.530667</td>\n",
       "      <td>-0.430812</td>\n",
       "    </tr>\n",
       "    <tr>\n",
       "      <th>TCGA-BJ-A0Z2-01</th>\n",
       "      <td>1</td>\n",
       "      <td>57</td>\n",
       "      <td>1</td>\n",
       "      <td>0.767208</td>\n",
       "      <td>-1.623626</td>\n",
       "      <td>-0.531035</td>\n",
       "      <td>0.182228</td>\n",
       "      <td>0.541622</td>\n",
       "      <td>0.65889</td>\n",
       "      <td>0.647206</td>\n",
       "      <td>...</td>\n",
       "      <td>-0.748878</td>\n",
       "      <td>-1.587117</td>\n",
       "      <td>-1.292433</td>\n",
       "      <td>-1.28139</td>\n",
       "      <td>-0.602177</td>\n",
       "      <td>0.134114</td>\n",
       "      <td>0.894473</td>\n",
       "      <td>-0.380395</td>\n",
       "      <td>-2.502833</td>\n",
       "      <td>0.360588</td>\n",
       "    </tr>\n",
       "    <tr>\n",
       "      <th>TCGA-BJ-A0Z3-01</th>\n",
       "      <td>1</td>\n",
       "      <td>33</td>\n",
       "      <td>0</td>\n",
       "      <td>-0.287292</td>\n",
       "      <td>-1.766626</td>\n",
       "      <td>-0.531035</td>\n",
       "      <td>0.059628</td>\n",
       "      <td>0.920522</td>\n",
       "      <td>0.21849</td>\n",
       "      <td>0.336106</td>\n",
       "      <td>...</td>\n",
       "      <td>-0.413778</td>\n",
       "      <td>1.111583</td>\n",
       "      <td>1.158867</td>\n",
       "      <td>-1.28139</td>\n",
       "      <td>0.003723</td>\n",
       "      <td>1.240514</td>\n",
       "      <td>0.924373</td>\n",
       "      <td>-0.143495</td>\n",
       "      <td>2.613367</td>\n",
       "      <td>-0.030012</td>\n",
       "    </tr>\n",
       "  </tbody>\n",
       "</table>\n",
       "<p>5 rows × 20533 columns</p>\n",
       "</div>"
      ],
      "text/plain": [
       "                 Thyroid Cancer  Age  Gender  ARHGEF10L     HIF3A     RNF17  \\\n",
       "sampleID                                                                      \n",
       "TCGA-4C-A93U-01               1   74       0  -0.767592 -1.742926 -0.531035   \n",
       "TCGA-BJ-A0YZ-01               1   65       1   1.766308  0.273374 -0.531035   \n",
       "TCGA-BJ-A0Z0-01               1   55       1   0.986808 -2.165726 -0.050935   \n",
       "TCGA-BJ-A0Z2-01               1   57       1   0.767208 -1.623626 -0.531035   \n",
       "TCGA-BJ-A0Z3-01               1   33       0  -0.287292 -1.766626 -0.531035   \n",
       "\n",
       "                    RNF10     RNF11    RNF13   GTF2IP1  ...     TULP2  \\\n",
       "sampleID                                                ...             \n",
       "TCGA-4C-A93U-01 -0.067972  0.265922 -0.13531  0.440006  ... -0.748878   \n",
       "TCGA-BJ-A0YZ-01  0.790028  1.209322  0.01229  0.704606  ...  0.125322   \n",
       "TCGA-BJ-A0Z0-01  0.051428  0.979522  0.48229  0.090106  ... -0.748878   \n",
       "TCGA-BJ-A0Z2-01  0.182228  0.541622  0.65889  0.647206  ... -0.748878   \n",
       "TCGA-BJ-A0Z3-01  0.059628  0.920522  0.21849  0.336106  ... -0.413778   \n",
       "\n",
       "                    NPY5R     GNGT2    GNGT1     TULP3      PTRF     BCL6B  \\\n",
       "sampleID                                                                     \n",
       "TCGA-4C-A93U-01 -1.018517  0.205567 -1.28139  0.395523  1.735414  0.945273   \n",
       "TCGA-BJ-A0YZ-01  1.568883  0.626367  2.38101  0.275823  1.820014  2.140073   \n",
       "TCGA-BJ-A0Z0-01 -0.747417 -0.931133 -1.28139 -0.222077  0.293414  0.725173   \n",
       "TCGA-BJ-A0Z2-01 -1.587117 -1.292433 -1.28139 -0.602177  0.134114  0.894473   \n",
       "TCGA-BJ-A0Z3-01  1.111583  1.158867 -1.28139  0.003723  1.240514  0.924373   \n",
       "\n",
       "                    GSTK1      SELP      SELS  \n",
       "sampleID                                       \n",
       "TCGA-4C-A93U-01 -0.186695  4.024767 -0.273612  \n",
       "TCGA-BJ-A0YZ-01  1.380405  1.257367 -0.174312  \n",
       "TCGA-BJ-A0Z0-01 -0.254095  0.530667 -0.430812  \n",
       "TCGA-BJ-A0Z2-01 -0.380395 -2.502833  0.360588  \n",
       "TCGA-BJ-A0Z3-01 -0.143495  2.613367 -0.030012  \n",
       "\n",
       "[5 rows x 20533 columns]"
      ]
     },
     "execution_count": 21,
     "metadata": {},
     "output_type": "execute_result"
    }
   ],
   "source": [
    "merged_data = selected_clinical_data.join(genetic_data.T).dropna()\n",
    "merged_data.head()"
   ]
  },
  {
   "cell_type": "code",
   "execution_count": 22,
   "metadata": {
    "ExecuteTime": {
     "end_time": "2023-12-31T21:19:16.341121723Z",
     "start_time": "2023-12-31T21:19:16.330544222Z"
    }
   },
   "outputs": [
    {
     "name": "stdout",
     "output_type": "stream",
     "text": [
      "The merged dataset contains 572 samples.\n"
     ]
    }
   ],
   "source": [
    "print(f\"The merged dataset contains {len(merged_data)} samples.\")"
   ]
  },
  {
   "cell_type": "code",
   "execution_count": 23,
   "metadata": {
    "ExecuteTime": {
     "end_time": "2023-12-31T21:19:17.222505900Z",
     "start_time": "2023-12-31T21:19:17.218781412Z"
    }
   },
   "outputs": [
    {
     "name": "stdout",
     "output_type": "stream",
     "text": [
      "For the feature 'Thyroid Cancer', the least common label is '0' with 59 occurrences. This represents 10.31% of the dataset.\n",
      "The distribution of the feature 'Thyroid Cancer' in this dataset is fine.\n",
      "\n",
      "Quartiles for 'Age':\n",
      "  25%: 34.0\n",
      "  50% (Median): 46.0\n",
      "  75%: 58.0\n",
      "Min: 15\n",
      "Max: 89\n",
      "The distribution of the feature 'Age' in this dataset is fine.\n",
      "\n",
      "For the feature 'Gender', the least common label is '1' with 157 occurrences. This represents 27.45% of the dataset.\n",
      "The distribution of the feature 'Gender' in this dataset is fine.\n",
      "\n"
     ]
    },
    {
     "data": {
      "text/plain": [
       "False"
      ]
     },
     "execution_count": 23,
     "metadata": {},
     "output_type": "execute_result"
    }
   ],
   "source": [
    "is_trait_biased, merge_data = judge_and_remove_biased_features(merged_data, TRAIT, trait_type=trait_type)\n",
    "is_trait_biased"
   ]
  },
  {
   "cell_type": "code",
   "execution_count": 24,
   "metadata": {
    "ExecuteTime": {
     "end_time": "2023-12-31T21:19:35.401536463Z",
     "start_time": "2023-12-31T21:19:17.980683628Z"
    }
   },
   "outputs": [],
   "source": [
    "merged_data.head()\n",
    "if not is_trait_biased:\n",
    "    merge_data.to_csv(os.path.join(OUTPUT_DIR, cohort+'.csv'), index=False)"
   ]
  },
  {
   "cell_type": "code",
   "execution_count": 25,
   "metadata": {
    "ExecuteTime": {
     "end_time": "2023-12-31T21:19:35.405288661Z",
     "start_time": "2023-12-31T21:19:35.402799553Z"
    }
   },
   "outputs": [
    {
     "name": "stdout",
     "output_type": "stream",
     "text": [
      "A new JSON file was created at: ../../output1/Jinglin/Thyroid-Cancer/cohort_info.json\n"
     ]
    }
   ],
   "source": [
    "save_cohort_info(cohort, JSON_PATH, is_available, is_trait_biased, merged_data)"
   ]
  },
  {
   "cell_type": "markdown",
   "metadata": {
    "ExecuteTime": {
     "end_time": "2023-12-28T21:28:38.028916303Z",
     "start_time": "2023-12-28T21:28:38.016245426Z"
    }
   },
   "source": [
    "## 2.2. The GEO dataset"
   ]
  },
  {
   "cell_type": "markdown",
   "metadata": {
    "ExecuteTime": {
     "end_time": "2023-12-31T03:25:23.253882615Z",
     "start_time": "2023-12-31T03:25:23.244062710Z"
    }
   },
   "source": [
    "In GEO, there may be one or multiple cohorts for a trait. Each cohort is identified by an accession number. We iterate over all accession numbers in the corresponding subdirectory, preprocess the cohort data, and save them to csv files."
   ]
  },
  {
   "cell_type": "code",
   "execution_count": 5,
   "metadata": {
    "ExecuteTime": {
     "end_time": "2023-12-31T21:19:35.411177575Z",
     "start_time": "2023-12-31T21:19:35.405710636Z"
    }
   },
   "outputs": [
    {
     "data": {
      "text/plain": [
       "['GSE182797', 'GSE182798', 'GSE182503']"
      ]
     },
     "execution_count": 5,
     "metadata": {},
     "output_type": "execute_result"
    }
   ],
   "source": [
    "dataset = 'GEO'\n",
    "trait_subdir = \"Multiple-Chemical-Sensitivity\"\n",
    "\n",
    "trait_path = os.path.join(DATA_ROOT, dataset, trait_subdir)\n",
    "os.listdir(trait_path)"
   ]
  },
  {
   "cell_type": "markdown",
   "metadata": {
    "ExecuteTime": {
     "end_time": "2023-12-31T03:39:42.634870142Z",
     "start_time": "2023-12-31T03:39:42.534093295Z"
    }
   },
   "source": [
    "Repeat the below steps for all the accession numbers"
   ]
  },
  {
   "cell_type": "code",
   "execution_count": 59,
   "metadata": {
    "ExecuteTime": {
     "end_time": "2023-12-31T21:19:35.413836016Z",
     "start_time": "2023-12-31T21:19:35.410443976Z"
    }
   },
   "outputs": [
    {
     "data": {
      "text/plain": [
       "('../../DATA/GEO/Multiple-Chemical-Sensitivity/GSE182798/GSE182798_family.soft.gz',\n",
       " '../../DATA/GEO/Multiple-Chemical-Sensitivity/GSE182798/GSE182798_series_matrix.txt.gz')"
      ]
     },
     "execution_count": 59,
     "metadata": {},
     "output_type": "execute_result"
    }
   ],
   "source": [
    "cohort = accession_num = \"GSE182798\"\n",
    "cohort_dir = os.path.join(trait_path, accession_num)\n",
    "soft_file, matrix_file = get_relevant_filepaths(cohort_dir)\n",
    "soft_file, matrix_file"
   ]
  },
  {
   "cell_type": "markdown",
   "metadata": {},
   "source": [
    "### Inital filtering and clinical data preprocessing"
   ]
  },
  {
   "cell_type": "code",
   "execution_count": 60,
   "metadata": {
    "ExecuteTime": {
     "end_time": "2023-12-31T21:19:35.492119842Z",
     "start_time": "2023-12-31T21:19:35.413383102Z"
    }
   },
   "outputs": [
    {
     "name": "stdout",
     "output_type": "stream",
     "text": [
      "!Series_title\t\"Transcriptomic profiling of adult-onset asthma related to damp and moldy buildings and idiopathic environmental intolerance\"\n",
      "!Series_summary\t\"This SuperSeries is composed of the SubSeries listed below.\"\n",
      "!Series_overall_design\t\"Refer to individual Series\"\n"
     ]
    }
   ],
   "source": [
    "background_prefixes = ['!Series_title', '!Series_summary', '!Series_overall_design']\n",
    "clinical_prefixes = ['!Sample_geo_accession', '!Sample_characteristics_ch1']\n",
    "\n",
    "background_info, clinical_data = get_background_and_clinical_data(matrix_file, background_prefixes, clinical_prefixes)\n",
    "print(background_info)"
   ]
  },
  {
   "cell_type": "code",
   "execution_count": 61,
   "metadata": {
    "ExecuteTime": {
     "end_time": "2023-12-31T21:19:35.507840422Z",
     "start_time": "2023-12-31T21:19:35.451789107Z"
    }
   },
   "outputs": [
    {
     "data": {
      "text/html": [
       "<div>\n",
       "<style scoped>\n",
       "    .dataframe tbody tr th:only-of-type {\n",
       "        vertical-align: middle;\n",
       "    }\n",
       "\n",
       "    .dataframe tbody tr th {\n",
       "        vertical-align: top;\n",
       "    }\n",
       "\n",
       "    .dataframe thead th {\n",
       "        text-align: right;\n",
       "    }\n",
       "</style>\n",
       "<table border=\"1\" class=\"dataframe\">\n",
       "  <thead>\n",
       "    <tr style=\"text-align: right;\">\n",
       "      <th></th>\n",
       "      <th>!Sample_geo_accession</th>\n",
       "      <th>GSM5530417</th>\n",
       "      <th>GSM5530418</th>\n",
       "      <th>GSM5530419</th>\n",
       "      <th>GSM5530420</th>\n",
       "      <th>GSM5530421</th>\n",
       "      <th>GSM5530422</th>\n",
       "      <th>GSM5530423</th>\n",
       "      <th>GSM5530424</th>\n",
       "      <th>GSM5530425</th>\n",
       "      <th>...</th>\n",
       "      <th>GSM5537227</th>\n",
       "      <th>GSM5537228</th>\n",
       "      <th>GSM5537229</th>\n",
       "      <th>GSM5537230</th>\n",
       "      <th>GSM5537231</th>\n",
       "      <th>GSM5537232</th>\n",
       "      <th>GSM5537233</th>\n",
       "      <th>GSM5537234</th>\n",
       "      <th>GSM5537235</th>\n",
       "      <th>GSM5537236</th>\n",
       "    </tr>\n",
       "  </thead>\n",
       "  <tbody>\n",
       "    <tr>\n",
       "      <th>0</th>\n",
       "      <td>!Sample_characteristics_ch1</td>\n",
       "      <td>diagnosis: adult-onset asthma</td>\n",
       "      <td>diagnosis: adult-onset asthma</td>\n",
       "      <td>diagnosis: IEI</td>\n",
       "      <td>diagnosis: healthy</td>\n",
       "      <td>diagnosis: healthy</td>\n",
       "      <td>diagnosis: adult-onset asthma</td>\n",
       "      <td>diagnosis: healthy</td>\n",
       "      <td>diagnosis: adult-onset asthma</td>\n",
       "      <td>diagnosis: adult-onset asthma</td>\n",
       "      <td>...</td>\n",
       "      <td>diagnosis: IEI</td>\n",
       "      <td>diagnosis: healthy</td>\n",
       "      <td>diagnosis: adult-onset asthma</td>\n",
       "      <td>diagnosis: healthy</td>\n",
       "      <td>diagnosis: IEI</td>\n",
       "      <td>diagnosis: healthy</td>\n",
       "      <td>diagnosis: adult-onset asthma</td>\n",
       "      <td>diagnosis: adult-onset asthma</td>\n",
       "      <td>diagnosis: adult-onset asthma</td>\n",
       "      <td>diagnosis: healthy</td>\n",
       "    </tr>\n",
       "    <tr>\n",
       "      <th>1</th>\n",
       "      <td>!Sample_characteristics_ch1</td>\n",
       "      <td>gender: Female</td>\n",
       "      <td>gender: Female</td>\n",
       "      <td>gender: Female</td>\n",
       "      <td>gender: Female</td>\n",
       "      <td>gender: Female</td>\n",
       "      <td>gender: Female</td>\n",
       "      <td>gender: Female</td>\n",
       "      <td>gender: Female</td>\n",
       "      <td>gender: Female</td>\n",
       "      <td>...</td>\n",
       "      <td>gender: Female</td>\n",
       "      <td>gender: Female</td>\n",
       "      <td>gender: Female</td>\n",
       "      <td>gender: Female</td>\n",
       "      <td>gender: Female</td>\n",
       "      <td>gender: Female</td>\n",
       "      <td>gender: Female</td>\n",
       "      <td>gender: Female</td>\n",
       "      <td>gender: Female</td>\n",
       "      <td>gender: Female</td>\n",
       "    </tr>\n",
       "    <tr>\n",
       "      <th>2</th>\n",
       "      <td>!Sample_characteristics_ch1</td>\n",
       "      <td>age: 33.42</td>\n",
       "      <td>age: 46.08</td>\n",
       "      <td>age: 45.58</td>\n",
       "      <td>age: 28</td>\n",
       "      <td>age: 25.75</td>\n",
       "      <td>age: 59.83</td>\n",
       "      <td>age: 41.17</td>\n",
       "      <td>age: 47.58</td>\n",
       "      <td>age: 50.75</td>\n",
       "      <td>...</td>\n",
       "      <td>age: 50.33</td>\n",
       "      <td>age: 37.83</td>\n",
       "      <td>age: 44.25</td>\n",
       "      <td>age: 58.83</td>\n",
       "      <td>age: 48.25</td>\n",
       "      <td>age: 43.08</td>\n",
       "      <td>age: 41.17</td>\n",
       "      <td>age: 51.75</td>\n",
       "      <td>age: 53.58</td>\n",
       "      <td>age: 41.5</td>\n",
       "    </tr>\n",
       "    <tr>\n",
       "      <th>3</th>\n",
       "      <td>!Sample_characteristics_ch1</td>\n",
       "      <td>cell type: PBMC</td>\n",
       "      <td>cell type: PBMC</td>\n",
       "      <td>cell type: PBMC</td>\n",
       "      <td>cell type: PBMC</td>\n",
       "      <td>cell type: PBMC</td>\n",
       "      <td>cell type: PBMC</td>\n",
       "      <td>cell type: PBMC</td>\n",
       "      <td>cell type: PBMC</td>\n",
       "      <td>cell type: PBMC</td>\n",
       "      <td>...</td>\n",
       "      <td>tissue: Nasal biopsy</td>\n",
       "      <td>tissue: Nasal biopsy</td>\n",
       "      <td>tissue: Nasal biopsy</td>\n",
       "      <td>tissue: Nasal biopsy</td>\n",
       "      <td>tissue: Nasal biopsy</td>\n",
       "      <td>tissue: Nasal biopsy</td>\n",
       "      <td>tissue: Nasal biopsy</td>\n",
       "      <td>tissue: Nasal biopsy</td>\n",
       "      <td>tissue: Nasal biopsy</td>\n",
       "      <td>tissue: Nasal biopsy</td>\n",
       "    </tr>\n",
       "    <tr>\n",
       "      <th>4</th>\n",
       "      <td>!Sample_characteristics_ch1</td>\n",
       "      <td>NaN</td>\n",
       "      <td>NaN</td>\n",
       "      <td>NaN</td>\n",
       "      <td>NaN</td>\n",
       "      <td>NaN</td>\n",
       "      <td>NaN</td>\n",
       "      <td>NaN</td>\n",
       "      <td>NaN</td>\n",
       "      <td>NaN</td>\n",
       "      <td>...</td>\n",
       "      <td>subject: 7</td>\n",
       "      <td>subject: 639</td>\n",
       "      <td>subject: 33</td>\n",
       "      <td>subject: 625</td>\n",
       "      <td>subject: 32</td>\n",
       "      <td>subject: 623</td>\n",
       "      <td>subject: 62</td>\n",
       "      <td>subject: 80</td>\n",
       "      <td>subject: 78</td>\n",
       "      <td>subject: 620</td>\n",
       "    </tr>\n",
       "  </tbody>\n",
       "</table>\n",
       "<p>5 rows × 183 columns</p>\n",
       "</div>"
      ],
      "text/plain": [
       "         !Sample_geo_accession                     GSM5530417  \\\n",
       "0  !Sample_characteristics_ch1  diagnosis: adult-onset asthma   \n",
       "1  !Sample_characteristics_ch1                 gender: Female   \n",
       "2  !Sample_characteristics_ch1                     age: 33.42   \n",
       "3  !Sample_characteristics_ch1                cell type: PBMC   \n",
       "4  !Sample_characteristics_ch1                            NaN   \n",
       "\n",
       "                      GSM5530418       GSM5530419          GSM5530420  \\\n",
       "0  diagnosis: adult-onset asthma   diagnosis: IEI  diagnosis: healthy   \n",
       "1                 gender: Female   gender: Female      gender: Female   \n",
       "2                     age: 46.08       age: 45.58             age: 28   \n",
       "3                cell type: PBMC  cell type: PBMC     cell type: PBMC   \n",
       "4                            NaN              NaN                 NaN   \n",
       "\n",
       "           GSM5530421                     GSM5530422          GSM5530423  \\\n",
       "0  diagnosis: healthy  diagnosis: adult-onset asthma  diagnosis: healthy   \n",
       "1      gender: Female                 gender: Female      gender: Female   \n",
       "2          age: 25.75                     age: 59.83          age: 41.17   \n",
       "3     cell type: PBMC                cell type: PBMC     cell type: PBMC   \n",
       "4                 NaN                            NaN                 NaN   \n",
       "\n",
       "                      GSM5530424                     GSM5530425  ...  \\\n",
       "0  diagnosis: adult-onset asthma  diagnosis: adult-onset asthma  ...   \n",
       "1                 gender: Female                 gender: Female  ...   \n",
       "2                     age: 47.58                     age: 50.75  ...   \n",
       "3                cell type: PBMC                cell type: PBMC  ...   \n",
       "4                            NaN                            NaN  ...   \n",
       "\n",
       "             GSM5537227            GSM5537228                     GSM5537229  \\\n",
       "0        diagnosis: IEI    diagnosis: healthy  diagnosis: adult-onset asthma   \n",
       "1        gender: Female        gender: Female                 gender: Female   \n",
       "2            age: 50.33            age: 37.83                     age: 44.25   \n",
       "3  tissue: Nasal biopsy  tissue: Nasal biopsy           tissue: Nasal biopsy   \n",
       "4            subject: 7          subject: 639                    subject: 33   \n",
       "\n",
       "             GSM5537230            GSM5537231            GSM5537232  \\\n",
       "0    diagnosis: healthy        diagnosis: IEI    diagnosis: healthy   \n",
       "1        gender: Female        gender: Female        gender: Female   \n",
       "2            age: 58.83            age: 48.25            age: 43.08   \n",
       "3  tissue: Nasal biopsy  tissue: Nasal biopsy  tissue: Nasal biopsy   \n",
       "4          subject: 625           subject: 32          subject: 623   \n",
       "\n",
       "                      GSM5537233                     GSM5537234  \\\n",
       "0  diagnosis: adult-onset asthma  diagnosis: adult-onset asthma   \n",
       "1                 gender: Female                 gender: Female   \n",
       "2                     age: 41.17                     age: 51.75   \n",
       "3           tissue: Nasal biopsy           tissue: Nasal biopsy   \n",
       "4                    subject: 62                    subject: 80   \n",
       "\n",
       "                      GSM5537235            GSM5537236  \n",
       "0  diagnosis: adult-onset asthma    diagnosis: healthy  \n",
       "1                 gender: Female        gender: Female  \n",
       "2                     age: 53.58             age: 41.5  \n",
       "3           tissue: Nasal biopsy  tissue: Nasal biopsy  \n",
       "4                    subject: 78          subject: 620  \n",
       "\n",
       "[5 rows x 183 columns]"
      ]
     },
     "execution_count": 61,
     "metadata": {},
     "output_type": "execute_result"
    }
   ],
   "source": [
    "clinical_data.head()"
   ]
  },
  {
   "cell_type": "code",
   "execution_count": 62,
   "metadata": {
    "ExecuteTime": {
     "end_time": "2023-12-31T21:19:35.508015426Z",
     "start_time": "2023-12-31T21:19:35.492746637Z"
    }
   },
   "outputs": [
    {
     "data": {
      "text/plain": [
       "{0: ['diagnosis: adult-onset asthma', 'diagnosis: IEI', 'diagnosis: healthy'],\n",
       " 1: ['gender: Female'],\n",
       " 2: ['age: 33.42',\n",
       "  'age: 46.08',\n",
       "  'age: 45.58',\n",
       "  'age: 28',\n",
       "  'age: 25.75',\n",
       "  'age: 59.83',\n",
       "  'age: 41.17',\n",
       "  'age: 47.58',\n",
       "  'age: 50.75',\n",
       "  'age: 42.58',\n",
       "  'age: 52.75',\n",
       "  'age: 51.75',\n",
       "  'age: 18.42',\n",
       "  'age: 47',\n",
       "  'age: 38.33',\n",
       "  'age: 58.58',\n",
       "  'age: 56.17',\n",
       "  'age: 40.67',\n",
       "  'age: 47.5',\n",
       "  'age: 54.67',\n",
       "  'age: 48.83',\n",
       "  'age: 64.67',\n",
       "  'age: 54.83',\n",
       "  'age: 57.67',\n",
       "  'age: 39.17',\n",
       "  'age: 38.08',\n",
       "  'age: 28.42',\n",
       "  'age: 40.75',\n",
       "  'age: 43.17',\n",
       "  'age: 43.08'],\n",
       " 3: ['cell type: PBMC', 'tissue: Nasal biopsy'],\n",
       " 4: [nan,\n",
       "  'subject: 605',\n",
       "  'subject: 611',\n",
       "  'subject: 621',\n",
       "  'subject: 35',\n",
       "  'subject: 11',\n",
       "  'subject: 1',\n",
       "  'subject: 601',\n",
       "  'subject: 54',\n",
       "  'subject: 68_A',\n",
       "  'subject: 55',\n",
       "  'subject: 44',\n",
       "  'subject: 603_A',\n",
       "  'subject: 63',\n",
       "  'subject: 39',\n",
       "  'subject: 13',\n",
       "  'subject: 3',\n",
       "  'subject: 619',\n",
       "  'subject: 58',\n",
       "  'subject: 79',\n",
       "  'subject: 77',\n",
       "  'subject: 41',\n",
       "  'subject: 624',\n",
       "  'subject: 37_A',\n",
       "  'subject: 61',\n",
       "  'subject: 31',\n",
       "  'subject: 25',\n",
       "  'subject: 617',\n",
       "  'subject: 65',\n",
       "  'subject: 81']}"
      ]
     },
     "execution_count": 62,
     "metadata": {},
     "output_type": "execute_result"
    }
   ],
   "source": [
    "clinical_data_unique = get_unique_values_by_row(clinical_data)\n",
    "clinical_data_unique"
   ]
  },
  {
   "cell_type": "markdown",
   "metadata": {
    "ExecuteTime": {
     "end_time": "2023-12-31T03:58:04.978204446Z",
     "start_time": "2023-12-31T03:58:04.922270095Z"
    }
   },
   "source": [
    "Analyze the metadata to determine data relevance and find ways to extract the clinical data.\n",
    "Reference prompt:"
   ]
  },
  {
   "cell_type": "code",
   "execution_count": 65,
   "metadata": {
    "ExecuteTime": {
     "end_time": "2023-12-31T21:19:35.508232400Z",
     "start_time": "2023-12-31T21:19:35.492903487Z"
    }
   },
   "outputs": [
    {
     "data": {
      "text/plain": [
       "'As a biomedical research team, we are selecting datasets to study the association between the human trait \\'Multiple Chemical Sensitivity\\' and genetic factors, optionally considering the influence of age and gender. After searching the GEO database and parsing the matrix file of a series, we obtained background information and sample characteristics data. We will provide textual information about the dataset background, and a Python dictionary storing a list of unique values for each field of the sample characteristics data. Please carefully review the provided information and answer the following questions about this dataset:\\n1. Does this dataset contain gene expression data? (Note: Pure miRNA data is not suitable.)\\n2. For each of the traits \\'Multiple Chemical Sensitivity\\', \\'age\\', and \\'gender\\', please address these points:\\n   (1) Is there human data available for this trait?\\n   (2) If so, identify the key in the sample characteristics dictionary where unique values of this trait is recorded. The key is an integer. The trait information might be explicitly recorded, or can be inferred from the field with some biomedical knowledge or understanding about the data collection process.\\n   (3) Choose an appropriate data type (either \\'continuous\\' or \\'binary\\') for each trait. Write a Python function to convert any given value of the trait to this data type. The function should handle inference about the trait value and convert unknown values to None.\\n   Name the functions \\'convert_trait\\', \\'convert_age\\', and \\'convert_gender\\', respectively.\\n   NOTE: Function \"convert_trait\" should return 1 or 0.\\nBackground information about the dataset:\\n!Series_title\\t\"Transcriptomic profiling of adult-onset asthma related to damp and moldy buildings and idiopathic environmental intolerance\"\\n!Series_summary\\t\"This SuperSeries is composed of the SubSeries listed below.\"\\n!Series_overall_design\\t\"Refer to individual Series\"\\n\\nSample characteristics dictionary (from \"!Sample_characteristics_ch1\", converted to a Python dictionary that stores the unique values for each field):\\n{0: [\\'diagnosis: adult-onset asthma\\', \\'diagnosis: IEI\\', \\'diagnosis: healthy\\'], 1: [\\'gender: Female\\'], 2: [\\'age: 33.42\\', \\'age: 46.08\\', \\'age: 45.58\\', \\'age: 28\\', \\'age: 25.75\\', \\'age: 59.83\\', \\'age: 41.17\\', \\'age: 47.58\\', \\'age: 50.75\\', \\'age: 42.58\\', \\'age: 52.75\\', \\'age: 51.75\\', \\'age: 18.42\\', \\'age: 47\\', \\'age: 38.33\\', \\'age: 58.58\\', \\'age: 56.17\\', \\'age: 40.67\\', \\'age: 47.5\\', \\'age: 54.67\\', \\'age: 48.83\\', \\'age: 64.67\\', \\'age: 54.83\\', \\'age: 57.67\\', \\'age: 39.17\\', \\'age: 38.08\\', \\'age: 28.42\\', \\'age: 40.75\\', \\'age: 43.17\\', \\'age: 43.08\\'], 3: [\\'cell type: PBMC\\', \\'tissue: Nasal biopsy\\'], 4: [nan, \\'subject: 605\\', \\'subject: 611\\', \\'subject: 621\\', \\'subject: 35\\', \\'subject: 11\\', \\'subject: 1\\', \\'subject: 601\\', \\'subject: 54\\', \\'subject: 68_A\\', \\'subject: 55\\', \\'subject: 44\\', \\'subject: 603_A\\', \\'subject: 63\\', \\'subject: 39\\', \\'subject: 13\\', \\'subject: 3\\', \\'subject: 619\\', \\'subject: 58\\', \\'subject: 79\\', \\'subject: 77\\', \\'subject: 41\\', \\'subject: 624\\', \\'subject: 37_A\\', \\'subject: 61\\', \\'subject: 31\\', \\'subject: 25\\', \\'subject: 617\\', \\'subject: 65\\', \\'subject: 81\\']}\\n'"
      ]
     },
     "execution_count": 65,
     "metadata": {},
     "output_type": "execute_result"
    }
   ],
   "source": [
    "f'''As a biomedical research team, we are selecting datasets to study the association between the human trait \\'{TRAIT}\\' and genetic factors, optionally considering the influence of age and gender. After searching the GEO database and parsing the matrix file of a series, we obtained background information and sample characteristics data. We will provide textual information about the dataset background, and a Python dictionary storing a list of unique values for each field of the sample characteristics data. Please carefully review the provided information and answer the following questions about this dataset:\n",
    "1. Does this dataset contain gene expression data? (Note: Pure miRNA data is not suitable.)\n",
    "2. For each of the traits \\'{TRAIT}\\', 'age', and 'gender', please address these points:\n",
    "   (1) Is there human data available for this trait?\n",
    "   (2) If so, identify the key in the sample characteristics dictionary where unique values of this trait is recorded. The key is an integer. The trait information might be explicitly recorded, or can be inferred from the field with some biomedical knowledge or understanding about the data collection process.\n",
    "   (3) Choose an appropriate data type (either 'continuous' or 'binary') for each trait. Write a Python function to convert any given value of the trait to this data type. The function should handle inference about the trait value and convert unknown values to None.\n",
    "   Name the functions 'convert_trait', 'convert_age', and 'convert_gender', respectively.\n",
    "   NOTE: Function \"convert_trait\" should return 1 or 0.\n",
    "Background information about the dataset:\n",
    "{background_info}\n",
    "\n",
    "Sample characteristics dictionary (from \"!Sample_characteristics_ch1\", converted to a Python dictionary that stores the unique values for each field):\n",
    "{clinical_data_unique}\n",
    "'''"
   ]
  },
  {
   "cell_type": "markdown",
   "metadata": {
    "ExecuteTime": {
     "end_time": "2023-12-31T03:58:04.978240504Z",
     "start_time": "2023-12-31T03:58:04.922365324Z"
    }
   },
   "source": [
    "Understand and verify the answer from GPT, to assign values to the below variables. Assign None to the 'row_id' variables if relevant data row was not found.\n",
    "Later we need to let GPT format its answer to automatically do these. But given the complexity of this step, let's grow some insight from the free-text answers for now."
   ]
  },
  {
   "cell_type": "code",
   "execution_count": 66,
   "metadata": {},
   "outputs": [],
   "source": [
    "age_row = gender_row = None\n",
    "convert_age = convert_gender = None"
   ]
  },
  {
   "cell_type": "code",
   "execution_count": 67,
   "metadata": {
    "ExecuteTime": {
     "end_time": "2023-12-31T21:19:35.508295660Z",
     "start_time": "2023-12-31T21:19:35.493015671Z"
    }
   },
   "outputs": [],
   "source": [
    "is_gene_availabe = True\n",
    "trait_row = 0\n",
    "age_row = 2\n",
    "gender_row = None\n",
    "\n",
    "trait_type = 'binary'"
   ]
  },
  {
   "cell_type": "code",
   "execution_count": 68,
   "metadata": {
    "ExecuteTime": {
     "end_time": "2023-12-31T21:19:35.508365153Z",
     "start_time": "2023-12-31T21:19:35.493151450Z"
    }
   },
   "outputs": [],
   "source": [
    "is_available = is_gene_availabe and (trait_row is not None)\n",
    "if not is_available:\n",
    "    save_cohort_info(cohort, JSON_PATH, is_available)\n",
    "    print(\"This cohort is not usable. Please skip the following steps and jump to the next accession number.\")"
   ]
  },
  {
   "cell_type": "code",
   "execution_count": 69,
   "metadata": {
    "ExecuteTime": {
     "end_time": "2023-12-31T21:19:35.508426069Z",
     "start_time": "2023-12-31T21:19:35.493220101Z"
    }
   },
   "outputs": [],
   "source": [
    "def convert_trait(trait_value):\n",
    "    \"\"\"\n",
    "    Convert the trait value to a binary data type for Multiple Chemical Sensitivity.\n",
    "    Returns 1 if the trait is 'diagnosis: IEI', 0 for other diagnoses, and None for unknown values.\n",
    "    \"\"\"\n",
    "    if 'IEI' in trait_value:\n",
    "        return 1\n",
    "    elif 'healthy' in trait_value:\n",
    "        return 0\n",
    "    else:\n",
    "        return None\n",
    "\n",
    "def convert_age(age_value):\n",
    "    \"\"\"\n",
    "    Convert the age value to a continuous data type.\n",
    "    Returns the numerical age or None for unknown values.\n",
    "    \"\"\"\n",
    "    try:\n",
    "        age = float(age_value.split(': ')[1])\n",
    "        return age\n",
    "    except (ValueError, IndexError):\n",
    "        return None\n",
    "\n",
    "def convert_gender(gender_value):\n",
    "    \"\"\"\n",
    "    Convert the gender value to a binary data type.\n",
    "    Returns 1 for 'gender: Female', and None for unknown values.\n",
    "    \"\"\"\n",
    "    if 'Female' in gender_value:\n",
    "        return 1\n",
    "    else:\n",
    "        return None"
   ]
  },
  {
   "cell_type": "code",
   "execution_count": 70,
   "metadata": {
    "ExecuteTime": {
     "end_time": "2023-12-31T21:19:35.508533013Z",
     "start_time": "2023-12-31T21:19:35.493272992Z"
    }
   },
   "outputs": [
    {
     "data": {
      "text/html": [
       "<div>\n",
       "<style scoped>\n",
       "    .dataframe tbody tr th:only-of-type {\n",
       "        vertical-align: middle;\n",
       "    }\n",
       "\n",
       "    .dataframe tbody tr th {\n",
       "        vertical-align: top;\n",
       "    }\n",
       "\n",
       "    .dataframe thead th {\n",
       "        text-align: right;\n",
       "    }\n",
       "</style>\n",
       "<table border=\"1\" class=\"dataframe\">\n",
       "  <thead>\n",
       "    <tr style=\"text-align: right;\">\n",
       "      <th></th>\n",
       "      <th>GSM5530417</th>\n",
       "      <th>GSM5530418</th>\n",
       "      <th>GSM5530419</th>\n",
       "      <th>GSM5530420</th>\n",
       "      <th>GSM5530421</th>\n",
       "      <th>GSM5530422</th>\n",
       "      <th>GSM5530423</th>\n",
       "      <th>GSM5530424</th>\n",
       "      <th>GSM5530425</th>\n",
       "      <th>GSM5530426</th>\n",
       "      <th>...</th>\n",
       "      <th>GSM5537227</th>\n",
       "      <th>GSM5537228</th>\n",
       "      <th>GSM5537229</th>\n",
       "      <th>GSM5537230</th>\n",
       "      <th>GSM5537231</th>\n",
       "      <th>GSM5537232</th>\n",
       "      <th>GSM5537233</th>\n",
       "      <th>GSM5537234</th>\n",
       "      <th>GSM5537235</th>\n",
       "      <th>GSM5537236</th>\n",
       "    </tr>\n",
       "  </thead>\n",
       "  <tbody>\n",
       "    <tr>\n",
       "      <th>Multiple Chemical Sensitivity</th>\n",
       "      <td>NaN</td>\n",
       "      <td>NaN</td>\n",
       "      <td>1.00</td>\n",
       "      <td>0.0</td>\n",
       "      <td>0.00</td>\n",
       "      <td>NaN</td>\n",
       "      <td>0.00</td>\n",
       "      <td>NaN</td>\n",
       "      <td>NaN</td>\n",
       "      <td>0.00</td>\n",
       "      <td>...</td>\n",
       "      <td>1.00</td>\n",
       "      <td>0.00</td>\n",
       "      <td>NaN</td>\n",
       "      <td>0.00</td>\n",
       "      <td>1.00</td>\n",
       "      <td>0.00</td>\n",
       "      <td>NaN</td>\n",
       "      <td>NaN</td>\n",
       "      <td>NaN</td>\n",
       "      <td>0.0</td>\n",
       "    </tr>\n",
       "    <tr>\n",
       "      <th>Age</th>\n",
       "      <td>33.42</td>\n",
       "      <td>46.08</td>\n",
       "      <td>45.58</td>\n",
       "      <td>28.0</td>\n",
       "      <td>25.75</td>\n",
       "      <td>59.83</td>\n",
       "      <td>41.17</td>\n",
       "      <td>47.58</td>\n",
       "      <td>50.75</td>\n",
       "      <td>42.58</td>\n",
       "      <td>...</td>\n",
       "      <td>50.33</td>\n",
       "      <td>37.83</td>\n",
       "      <td>44.25</td>\n",
       "      <td>58.83</td>\n",
       "      <td>48.25</td>\n",
       "      <td>43.08</td>\n",
       "      <td>41.17</td>\n",
       "      <td>51.75</td>\n",
       "      <td>53.58</td>\n",
       "      <td>41.5</td>\n",
       "    </tr>\n",
       "  </tbody>\n",
       "</table>\n",
       "<p>2 rows × 182 columns</p>\n",
       "</div>"
      ],
      "text/plain": [
       "                               GSM5530417  GSM5530418  GSM5530419  GSM5530420  \\\n",
       "Multiple Chemical Sensitivity         NaN         NaN        1.00         0.0   \n",
       "Age                                 33.42       46.08       45.58        28.0   \n",
       "\n",
       "                               GSM5530421  GSM5530422  GSM5530423  GSM5530424  \\\n",
       "Multiple Chemical Sensitivity        0.00         NaN        0.00         NaN   \n",
       "Age                                 25.75       59.83       41.17       47.58   \n",
       "\n",
       "                               GSM5530425  GSM5530426  ...  GSM5537227  \\\n",
       "Multiple Chemical Sensitivity         NaN        0.00  ...        1.00   \n",
       "Age                                 50.75       42.58  ...       50.33   \n",
       "\n",
       "                               GSM5537228  GSM5537229  GSM5537230  GSM5537231  \\\n",
       "Multiple Chemical Sensitivity        0.00         NaN        0.00        1.00   \n",
       "Age                                 37.83       44.25       58.83       48.25   \n",
       "\n",
       "                               GSM5537232  GSM5537233  GSM5537234  GSM5537235  \\\n",
       "Multiple Chemical Sensitivity        0.00         NaN         NaN         NaN   \n",
       "Age                                 43.08       41.17       51.75       53.58   \n",
       "\n",
       "                               GSM5537236  \n",
       "Multiple Chemical Sensitivity         0.0  \n",
       "Age                                  41.5  \n",
       "\n",
       "[2 rows x 182 columns]"
      ]
     },
     "execution_count": 70,
     "metadata": {},
     "output_type": "execute_result"
    }
   ],
   "source": [
    "selected_clinical_data = geo_select_clinical_features(clinical_data, TRAIT, trait_row, convert_trait, age_row=age_row,\n",
    "                                                      convert_age=convert_age, gender_row=gender_row,\n",
    "                                                      convert_gender=convert_gender)\n",
    "selected_clinical_data.head()"
   ]
  },
  {
   "cell_type": "markdown",
   "metadata": {
    "ExecuteTime": {
     "end_time": "2023-12-31T03:58:04.978664193Z",
     "start_time": "2023-12-31T03:58:04.966117261Z"
    }
   },
   "source": [
    "### Genetic data preprocessing and final filtering"
   ]
  },
  {
   "cell_type": "code",
   "execution_count": 71,
   "metadata": {
    "ExecuteTime": {
     "end_time": "2023-12-31T21:19:35.590261560Z",
     "start_time": "2023-12-31T21:19:35.493320362Z"
    }
   },
   "outputs": [
    {
     "data": {
      "text/html": [
       "<div>\n",
       "<style scoped>\n",
       "    .dataframe tbody tr th:only-of-type {\n",
       "        vertical-align: middle;\n",
       "    }\n",
       "\n",
       "    .dataframe tbody tr th {\n",
       "        vertical-align: top;\n",
       "    }\n",
       "\n",
       "    .dataframe thead th {\n",
       "        text-align: right;\n",
       "    }\n",
       "</style>\n",
       "<table border=\"1\" class=\"dataframe\">\n",
       "  <thead>\n",
       "    <tr style=\"text-align: right;\">\n",
       "      <th></th>\n",
       "      <th>GSM5530417</th>\n",
       "      <th>GSM5530418</th>\n",
       "      <th>GSM5530419</th>\n",
       "      <th>GSM5530420</th>\n",
       "      <th>GSM5530421</th>\n",
       "      <th>GSM5530422</th>\n",
       "      <th>GSM5530423</th>\n",
       "      <th>GSM5530424</th>\n",
       "      <th>GSM5530425</th>\n",
       "      <th>GSM5530426</th>\n",
       "      <th>...</th>\n",
       "      <th>GSM5537227</th>\n",
       "      <th>GSM5537228</th>\n",
       "      <th>GSM5537229</th>\n",
       "      <th>GSM5537230</th>\n",
       "      <th>GSM5537231</th>\n",
       "      <th>GSM5537232</th>\n",
       "      <th>GSM5537233</th>\n",
       "      <th>GSM5537234</th>\n",
       "      <th>GSM5537235</th>\n",
       "      <th>GSM5537236</th>\n",
       "    </tr>\n",
       "    <tr>\n",
       "      <th>ID</th>\n",
       "      <th></th>\n",
       "      <th></th>\n",
       "      <th></th>\n",
       "      <th></th>\n",
       "      <th></th>\n",
       "      <th></th>\n",
       "      <th></th>\n",
       "      <th></th>\n",
       "      <th></th>\n",
       "      <th></th>\n",
       "      <th></th>\n",
       "      <th></th>\n",
       "      <th></th>\n",
       "      <th></th>\n",
       "      <th></th>\n",
       "      <th></th>\n",
       "      <th></th>\n",
       "      <th></th>\n",
       "      <th></th>\n",
       "      <th></th>\n",
       "      <th></th>\n",
       "    </tr>\n",
       "  </thead>\n",
       "  <tbody>\n",
       "    <tr>\n",
       "      <th>A_19_P00315452</th>\n",
       "      <td>6.98856</td>\n",
       "      <td>7.06609</td>\n",
       "      <td>6.54699</td>\n",
       "      <td>7.25514</td>\n",
       "      <td>7.45419</td>\n",
       "      <td>7.72615</td>\n",
       "      <td>7.89290</td>\n",
       "      <td>7.20461</td>\n",
       "      <td>6.96327</td>\n",
       "      <td>7.01397</td>\n",
       "      <td>...</td>\n",
       "      <td>5.89786</td>\n",
       "      <td>5.94732</td>\n",
       "      <td>6.00343</td>\n",
       "      <td>6.42312</td>\n",
       "      <td>5.87709</td>\n",
       "      <td>6.07091</td>\n",
       "      <td>5.88997</td>\n",
       "      <td>6.06217</td>\n",
       "      <td>5.87444</td>\n",
       "      <td>6.31630</td>\n",
       "    </tr>\n",
       "    <tr>\n",
       "      <th>A_19_P00315492</th>\n",
       "      <td>5.22609</td>\n",
       "      <td>5.27459</td>\n",
       "      <td>5.38136</td>\n",
       "      <td>5.17546</td>\n",
       "      <td>5.18752</td>\n",
       "      <td>5.34490</td>\n",
       "      <td>5.13498</td>\n",
       "      <td>5.30717</td>\n",
       "      <td>5.17996</td>\n",
       "      <td>5.19062</td>\n",
       "      <td>...</td>\n",
       "      <td>5.19988</td>\n",
       "      <td>5.11501</td>\n",
       "      <td>5.16016</td>\n",
       "      <td>5.16470</td>\n",
       "      <td>5.08577</td>\n",
       "      <td>5.07849</td>\n",
       "      <td>5.18470</td>\n",
       "      <td>5.11267</td>\n",
       "      <td>5.25578</td>\n",
       "      <td>5.09046</td>\n",
       "    </tr>\n",
       "    <tr>\n",
       "      <th>A_19_P00315493</th>\n",
       "      <td>6.67292</td>\n",
       "      <td>7.17868</td>\n",
       "      <td>7.71182</td>\n",
       "      <td>6.64976</td>\n",
       "      <td>7.16333</td>\n",
       "      <td>6.74629</td>\n",
       "      <td>6.96400</td>\n",
       "      <td>7.81434</td>\n",
       "      <td>7.64035</td>\n",
       "      <td>7.23596</td>\n",
       "      <td>...</td>\n",
       "      <td>7.97988</td>\n",
       "      <td>7.87559</td>\n",
       "      <td>7.76055</td>\n",
       "      <td>7.82140</td>\n",
       "      <td>8.04265</td>\n",
       "      <td>7.91478</td>\n",
       "      <td>7.60659</td>\n",
       "      <td>7.57412</td>\n",
       "      <td>7.76431</td>\n",
       "      <td>7.89814</td>\n",
       "    </tr>\n",
       "    <tr>\n",
       "      <th>A_19_P00315506</th>\n",
       "      <td>8.97925</td>\n",
       "      <td>9.05869</td>\n",
       "      <td>9.27026</td>\n",
       "      <td>8.95605</td>\n",
       "      <td>8.89901</td>\n",
       "      <td>8.50964</td>\n",
       "      <td>8.55109</td>\n",
       "      <td>8.92043</td>\n",
       "      <td>8.57666</td>\n",
       "      <td>8.41800</td>\n",
       "      <td>...</td>\n",
       "      <td>8.72588</td>\n",
       "      <td>8.81576</td>\n",
       "      <td>8.94775</td>\n",
       "      <td>8.99971</td>\n",
       "      <td>9.18310</td>\n",
       "      <td>8.71062</td>\n",
       "      <td>8.97180</td>\n",
       "      <td>8.99259</td>\n",
       "      <td>9.07988</td>\n",
       "      <td>8.83203</td>\n",
       "    </tr>\n",
       "    <tr>\n",
       "      <th>A_19_P00315529</th>\n",
       "      <td>6.79033</td>\n",
       "      <td>6.84270</td>\n",
       "      <td>6.79024</td>\n",
       "      <td>6.80470</td>\n",
       "      <td>6.64201</td>\n",
       "      <td>6.58049</td>\n",
       "      <td>6.51791</td>\n",
       "      <td>6.69308</td>\n",
       "      <td>6.40250</td>\n",
       "      <td>6.56796</td>\n",
       "      <td>...</td>\n",
       "      <td>5.46832</td>\n",
       "      <td>5.43659</td>\n",
       "      <td>5.34555</td>\n",
       "      <td>5.37979</td>\n",
       "      <td>5.51219</td>\n",
       "      <td>5.57225</td>\n",
       "      <td>5.42150</td>\n",
       "      <td>5.13288</td>\n",
       "      <td>5.38903</td>\n",
       "      <td>5.47817</td>\n",
       "    </tr>\n",
       "  </tbody>\n",
       "</table>\n",
       "<p>5 rows × 182 columns</p>\n",
       "</div>"
      ],
      "text/plain": [
       "                GSM5530417  GSM5530418  GSM5530419  GSM5530420  GSM5530421  \\\n",
       "ID                                                                           \n",
       "A_19_P00315452     6.98856     7.06609     6.54699     7.25514     7.45419   \n",
       "A_19_P00315492     5.22609     5.27459     5.38136     5.17546     5.18752   \n",
       "A_19_P00315493     6.67292     7.17868     7.71182     6.64976     7.16333   \n",
       "A_19_P00315506     8.97925     9.05869     9.27026     8.95605     8.89901   \n",
       "A_19_P00315529     6.79033     6.84270     6.79024     6.80470     6.64201   \n",
       "\n",
       "                GSM5530422  GSM5530423  GSM5530424  GSM5530425  GSM5530426  \\\n",
       "ID                                                                           \n",
       "A_19_P00315452     7.72615     7.89290     7.20461     6.96327     7.01397   \n",
       "A_19_P00315492     5.34490     5.13498     5.30717     5.17996     5.19062   \n",
       "A_19_P00315493     6.74629     6.96400     7.81434     7.64035     7.23596   \n",
       "A_19_P00315506     8.50964     8.55109     8.92043     8.57666     8.41800   \n",
       "A_19_P00315529     6.58049     6.51791     6.69308     6.40250     6.56796   \n",
       "\n",
       "                ...  GSM5537227  GSM5537228  GSM5537229  GSM5537230  \\\n",
       "ID              ...                                                   \n",
       "A_19_P00315452  ...     5.89786     5.94732     6.00343     6.42312   \n",
       "A_19_P00315492  ...     5.19988     5.11501     5.16016     5.16470   \n",
       "A_19_P00315493  ...     7.97988     7.87559     7.76055     7.82140   \n",
       "A_19_P00315506  ...     8.72588     8.81576     8.94775     8.99971   \n",
       "A_19_P00315529  ...     5.46832     5.43659     5.34555     5.37979   \n",
       "\n",
       "                GSM5537231  GSM5537232  GSM5537233  GSM5537234  GSM5537235  \\\n",
       "ID                                                                           \n",
       "A_19_P00315452     5.87709     6.07091     5.88997     6.06217     5.87444   \n",
       "A_19_P00315492     5.08577     5.07849     5.18470     5.11267     5.25578   \n",
       "A_19_P00315493     8.04265     7.91478     7.60659     7.57412     7.76431   \n",
       "A_19_P00315506     9.18310     8.71062     8.97180     8.99259     9.07988   \n",
       "A_19_P00315529     5.51219     5.57225     5.42150     5.13288     5.38903   \n",
       "\n",
       "                GSM5537236  \n",
       "ID                          \n",
       "A_19_P00315452     6.31630  \n",
       "A_19_P00315492     5.09046  \n",
       "A_19_P00315493     7.89814  \n",
       "A_19_P00315506     8.83203  \n",
       "A_19_P00315529     5.47817  \n",
       "\n",
       "[5 rows x 182 columns]"
      ]
     },
     "execution_count": 71,
     "metadata": {},
     "output_type": "execute_result"
    }
   ],
   "source": [
    "genetic_data = get_genetic_data(matrix_file)\n",
    "genetic_data.head()"
   ]
  },
  {
   "cell_type": "code",
   "execution_count": 72,
   "metadata": {
    "ExecuteTime": {
     "end_time": "2023-12-31T21:19:35.590443507Z",
     "start_time": "2023-12-31T21:19:35.536713559Z"
    }
   },
   "outputs": [
    {
     "data": {
      "text/plain": [
       "['A_19_P00315452',\n",
       " 'A_19_P00315492',\n",
       " 'A_19_P00315493',\n",
       " 'A_19_P00315506',\n",
       " 'A_19_P00315529',\n",
       " 'A_19_P00315551',\n",
       " 'A_19_P00315581',\n",
       " 'A_19_P00315584',\n",
       " 'A_19_P00315593',\n",
       " 'A_19_P00315603',\n",
       " 'A_19_P00315627',\n",
       " 'A_19_P00315649',\n",
       " 'A_19_P00315668',\n",
       " 'A_19_P00315691',\n",
       " 'A_19_P00315705',\n",
       " 'A_19_P00315716',\n",
       " 'A_19_P00315753',\n",
       " 'A_19_P00315764',\n",
       " 'A_19_P00315773',\n",
       " 'A_19_P00315780']"
      ]
     },
     "execution_count": 72,
     "metadata": {},
     "output_type": "execute_result"
    }
   ],
   "source": [
    "gene_row_ids = genetic_data.index[:20].tolist()\n",
    "gene_row_ids"
   ]
  },
  {
   "cell_type": "markdown",
   "metadata": {
    "ExecuteTime": {
     "end_time": "2023-12-31T03:30:41.595335164Z",
     "start_time": "2023-12-31T03:30:41.513232329Z"
    }
   },
   "source": [
    "Check if the gene dataset requires mapping to get the gene symbols corresponding to each data row."
   ]
  },
  {
   "cell_type": "markdown",
   "metadata": {},
   "source": [
    "Reference prompt:"
   ]
  },
  {
   "cell_type": "code",
   "execution_count": 73,
   "metadata": {
    "ExecuteTime": {
     "end_time": "2023-12-31T21:19:35.590590427Z",
     "start_time": "2023-12-31T21:19:35.536780517Z"
    }
   },
   "outputs": [
    {
     "data": {
      "text/plain": [
       "\"\\nBelow are the row headers of a gene expression dataset in GEO. Based on your biomedical knowledge, are they human gene symbols, or are they some other identifiers that need to be mapped to gene symbols? Your answer should be concluded by starting a new line and strictly following this format:\\nrequires_gene_mapping = (True or False)\\n\\nRow headers:\\n['A_19_P00315452', 'A_19_P00315492', 'A_19_P00315493', 'A_19_P00315506', 'A_19_P00315529', 'A_19_P00315551', 'A_19_P00315581', 'A_19_P00315584', 'A_19_P00315593', 'A_19_P00315603', 'A_19_P00315627', 'A_19_P00315649', 'A_19_P00315668', 'A_19_P00315691', 'A_19_P00315705', 'A_19_P00315716', 'A_19_P00315753', 'A_19_P00315764', 'A_19_P00315773', 'A_19_P00315780']\\n\""
      ]
     },
     "execution_count": 73,
     "metadata": {},
     "output_type": "execute_result"
    }
   ],
   "source": [
    "f'''\n",
    "Below are the row headers of a gene expression dataset in GEO. Based on your biomedical knowledge, are they human gene symbols, or are they some other identifiers that need to be mapped to gene symbols? Your answer should be concluded by starting a new line and strictly following this format:\n",
    "requires_gene_mapping = (True or False)\n",
    "\n",
    "Row headers:\n",
    "{gene_row_ids}\n",
    "'''"
   ]
  },
  {
   "cell_type": "markdown",
   "metadata": {},
   "source": [
    "If not required, jump directly to the gene normalization step"
   ]
  },
  {
   "cell_type": "code",
   "execution_count": 74,
   "metadata": {
    "ExecuteTime": {
     "end_time": "2023-12-31T21:19:35.590648558Z",
     "start_time": "2023-12-31T21:19:35.536821375Z"
    }
   },
   "outputs": [],
   "source": [
    "requires_gene_mapping = True"
   ]
  },
  {
   "cell_type": "code",
   "execution_count": 75,
   "metadata": {
    "ExecuteTime": {
     "end_time": "2023-12-31T21:19:35.590695457Z",
     "start_time": "2023-12-31T21:19:35.536910836Z"
    }
   },
   "outputs": [
    {
     "name": "stdout",
     "output_type": "stream",
     "text": [
      "{'ID': ['GE_BrightCorner', 'DarkCorner', 'A_21_P0014386', 'A_33_P3396872', 'A_33_P3267760'], 'CONTROL_TYPE': ['pos', 'pos', 'FALSE', 'FALSE', 'FALSE'], 'REFSEQ': [nan, nan, nan, 'NM_001105533', nan], 'GB_ACC': [nan, nan, nan, 'NM_001105533', nan], 'LOCUSLINK_ID': [nan, nan, nan, 79974.0, 54880.0], 'GENE_SYMBOL': [nan, nan, nan, 'CPED1', 'BCOR'], 'GENE_NAME': [nan, nan, nan, 'cadherin-like and PC-esterase domain containing 1', 'BCL6 corepressor'], 'UNIGENE_ID': [nan, nan, nan, 'Hs.189652', nan], 'ENSEMBL_ID': [nan, nan, nan, nan, 'ENST00000378463'], 'ACCESSION_STRING': [nan, nan, nan, 'ref|NM_001105533|gb|AK025639|gb|BC030538|tc|THC2601673', 'ens|ENST00000378463'], 'CHROMOSOMAL_LOCATION': [nan, nan, 'unmapped', 'chr7:120901888-120901947', 'chrX:39909128-39909069'], 'CYTOBAND': [nan, nan, nan, 'hs|7q31.31', 'hs|Xp11.4'], 'DESCRIPTION': [nan, nan, nan, 'Homo sapiens cadherin-like and PC-esterase domain containing 1 (CPED1), transcript variant 2, mRNA [NM_001105533]', 'BCL6 corepressor [Source:HGNC Symbol;Acc:HGNC:20893] [ENST00000378463]'], 'GO_ID': [nan, nan, nan, 'GO:0005783(endoplasmic reticulum)', 'GO:0000122(negative regulation of transcription from RNA polymerase II promoter)|GO:0000415(negative regulation of histone H3-K36 methylation)|GO:0003714(transcription corepressor activity)|GO:0004842(ubiquitin-protein ligase activity)|GO:0005515(protein binding)|GO:0005634(nucleus)|GO:0006351(transcription, DNA-dependent)|GO:0007507(heart development)|GO:0008134(transcription factor binding)|GO:0030502(negative regulation of bone mineralization)|GO:0031072(heat shock protein binding)|GO:0031519(PcG protein complex)|GO:0035518(histone H2A monoubiquitination)|GO:0042476(odontogenesis)|GO:0042826(histone deacetylase binding)|GO:0044212(transcription regulatory region DNA binding)|GO:0045892(negative regulation of transcription, DNA-dependent)|GO:0051572(negative regulation of histone H3-K4 methylation)|GO:0060021(palate development)|GO:0065001(specification of axis polarity)|GO:0070171(negative regulation of tooth mineralization)'], 'SEQUENCE': [nan, nan, 'AATACATGTTTTGGTAAACACTCGGTCAGAGCACCCTCTTTCTGTGGAATCAGACTGGCA', 'GCTTATCTCACCTAATACAGGGACTATGCAACCAAGAAACTGGAAATAAAAACAAAGATA', 'CATCAAAGCTACGAGAGATCCTACACACCCAGATTTAAAAAATAATAAAAACTTAAGGGC'], 'SPOT_ID': ['GE_BrightCorner', 'DarkCorner', 'A_21_P0014386', 'A_33_P3396872', 'A_33_P3267760']}\n"
     ]
    }
   ],
   "source": [
    "if requires_gene_mapping:\n",
    "    gene_annotation = get_gene_annotation(soft_file)\n",
    "    gene_annotation_summary = preview_df(gene_annotation)\n",
    "    print(gene_annotation_summary)"
   ]
  },
  {
   "cell_type": "markdown",
   "metadata": {
    "ExecuteTime": {
     "end_time": "2023-12-31T03:58:04.978931927Z",
     "start_time": "2023-12-31T03:58:04.966328339Z"
    }
   },
   "source": [
    "Observe the first few cells in the ID column of the gene annotation dataframe, to find the names of columns that store the gene probe IDs and gene symbols respectively.\n",
    "Reference prompt:"
   ]
  },
  {
   "cell_type": "code",
   "execution_count": 76,
   "metadata": {
    "ExecuteTime": {
     "end_time": "2023-12-31T21:19:35.590742236Z",
     "start_time": "2023-12-31T21:19:35.537050893Z"
    }
   },
   "outputs": [
    {
     "data": {
      "text/plain": [
       "\"\\nAs a biomedical research team, we extracted the gene annotation data from a series in the GEO database, and saved it to a Python dictionary. Please read the dictionary, and decide which key stores the ID of the probe, and which key stores the gene symbols. Please strict follow this format in your answer:\\nprobe_name_key = key_name1\\ngene_name_key = key_name2\\n\\nGene annotation dictionary:\\n{'ID': ['GE_BrightCorner', 'DarkCorner', 'A_21_P0014386', 'A_33_P3396872', 'A_33_P3267760'], 'CONTROL_TYPE': ['pos', 'pos', 'FALSE', 'FALSE', 'FALSE'], 'REFSEQ': [nan, nan, nan, 'NM_001105533', nan], 'GB_ACC': [nan, nan, nan, 'NM_001105533', nan], 'LOCUSLINK_ID': [nan, nan, nan, 79974.0, 54880.0], 'GENE_SYMBOL': [nan, nan, nan, 'CPED1', 'BCOR'], 'GENE_NAME': [nan, nan, nan, 'cadherin-like and PC-esterase domain containing 1', 'BCL6 corepressor'], 'UNIGENE_ID': [nan, nan, nan, 'Hs.189652', nan], 'ENSEMBL_ID': [nan, nan, nan, nan, 'ENST00000378463'], 'ACCESSION_STRING': [nan, nan, nan, 'ref|NM_001105533|gb|AK025639|gb|BC030538|tc|THC2601673', 'ens|ENST00000378463'], 'CHROMOSOMAL_LOCATION': [nan, nan, 'unmapped', 'chr7:120901888-120901947', 'chrX:39909128-39909069'], 'CYTOBAND': [nan, nan, nan, 'hs|7q31.31', 'hs|Xp11.4'], 'DESCRIPTION': [nan, nan, nan, 'Homo sapiens cadherin-like and PC-esterase domain containing 1 (CPED1), transcript variant 2, mRNA [NM_001105533]', 'BCL6 corepressor [Source:HGNC Symbol;Acc:HGNC:20893] [ENST00000378463]'], 'GO_ID': [nan, nan, nan, 'GO:0005783(endoplasmic reticulum)', 'GO:0000122(negative regulation of transcription from RNA polymerase II promoter)|GO:0000415(negative regulation of histone H3-K36 methylation)|GO:0003714(transcription corepressor activity)|GO:0004842(ubiquitin-protein ligase activity)|GO:0005515(protein binding)|GO:0005634(nucleus)|GO:0006351(transcription, DNA-dependent)|GO:0007507(heart development)|GO:0008134(transcription factor binding)|GO:0030502(negative regulation of bone mineralization)|GO:0031072(heat shock protein binding)|GO:0031519(PcG protein complex)|GO:0035518(histone H2A monoubiquitination)|GO:0042476(odontogenesis)|GO:0042826(histone deacetylase binding)|GO:0044212(transcription regulatory region DNA binding)|GO:0045892(negative regulation of transcription, DNA-dependent)|GO:0051572(negative regulation of histone H3-K4 methylation)|GO:0060021(palate development)|GO:0065001(specification of axis polarity)|GO:0070171(negative regulation of tooth mineralization)'], 'SEQUENCE': [nan, nan, 'AATACATGTTTTGGTAAACACTCGGTCAGAGCACCCTCTTTCTGTGGAATCAGACTGGCA', 'GCTTATCTCACCTAATACAGGGACTATGCAACCAAGAAACTGGAAATAAAAACAAAGATA', 'CATCAAAGCTACGAGAGATCCTACACACCCAGATTTAAAAAATAATAAAAACTTAAGGGC'], 'SPOT_ID': ['GE_BrightCorner', 'DarkCorner', 'A_21_P0014386', 'A_33_P3396872', 'A_33_P3267760']}\\n\""
      ]
     },
     "execution_count": 76,
     "metadata": {},
     "output_type": "execute_result"
    }
   ],
   "source": [
    "# if requires_gene_mapping:\n",
    "f'''\n",
    "As a biomedical research team, we extracted the gene annotation data from a series in the GEO database, and saved it to a Python dictionary. Please read the dictionary, and decide which key stores the ID of the probe, and which key stores the gene symbols. Please strict follow this format in your answer:\n",
    "probe_name_key = key_name1\n",
    "gene_name_key = key_name2\n",
    "\n",
    "Gene annotation dictionary:\n",
    "{gene_annotation_summary}\n",
    "'''"
   ]
  },
  {
   "cell_type": "code",
   "execution_count": 77,
   "metadata": {
    "ExecuteTime": {
     "end_time": "2023-12-31T21:19:35.590786881Z",
     "start_time": "2023-12-31T21:19:35.537132859Z"
    }
   },
   "outputs": [],
   "source": [
    "if requires_gene_mapping:\n",
    "    probe_id_key = 'ID'\n",
    "    gene_symb_key = 'GENE_SYMBOL'\n",
    "    gene_mapping = get_gene_mapping(gene_annotation, probe_id_key, gene_symb_key)\n",
    "    genetic_data = apply_gene_mapping(genetic_data, gene_mapping)"
   ]
  },
  {
   "cell_type": "code",
   "execution_count": 78,
   "metadata": {
    "ExecuteTime": {
     "end_time": "2023-12-31T21:19:35.590837318Z",
     "start_time": "2023-12-31T21:19:35.537209586Z"
    }
   },
   "outputs": [
    {
     "name": "stderr",
     "output_type": "stream",
     "text": [
      "37 input query terms found dup hits:\t[('AADACL2-AS1', 3), ('AADACP1', 2), ('ACTA2-AS1', 2), ('ACTG1P20', 2), ('ACTG1P4', 2), ('ACTR3BP5',\n",
      "37 input query terms found no hit:\t['AAED1', 'AARS', 'ACN9', 'ACPP', 'ACPT', 'ACRC', 'ACTN1-AS1', 'ADCK3', 'ADCK4', 'ADPRHL2', 'ADRBK1'\n",
      "23 input query terms found dup hits:\t[('ATP13A5-AS1', 2), ('ATP2B2-IT2', 2), ('ATP6AP1L', 2), ('ATP8B5P', 2), ('B3GALT5-AS1', 2), ('B4GAL\n",
      "237 input query terms found no hit:\t['ATP5A1', 'ATP5B', 'ATP5C1', 'ATP5D', 'ATP5E', 'ATP5F1', 'ATP5G1', 'ATP5G2', 'ATP5G3', 'ATP5H', 'AT\n",
      "13 input query terms found dup hits:\t[('CCDC162P', 2), ('CCNT2-AS1', 2), ('CD99P1', 3), ('CEBPB-AS1', 2), ('CECR7', 2), ('CES1P2', 2), ('\n",
      "40 input query terms found no hit:\t['CCDC129', 'CCDC130', 'CCDC132', 'CCDC147-AS1', 'CCDC151', 'CCDC153', 'CCDC173', 'CCDC176', 'CCDC23\n",
      "39 input query terms found dup hits:\t[('CSAG4', 3), ('CTAGE10P', 2), ('CTAGE11P', 2), ('CTAGE7P', 2), ('CTSLP2', 2), ('CTSLP8', 2), ('CXC\n",
      "43 input query terms found no hit:\t['CSE1L-AS1', 'CSRP2BP', 'CSTF3-AS1', 'CTAGE5', 'CTB-7E3.1', 'CTBP1-AS2', 'CTD-2151A2.1', 'CTD-3080P\n",
      "27 input query terms found dup hits:\t[('ENOX1-AS2', 2), ('EPB41L4A-AS1', 2), ('ERVK13-1', 2), ('EXOC3-AS1', 2), ('FAAHP1', 2), ('FAM106B'\n",
      "161 input query terms found no hit:\t['EMR1', 'EMR2', 'EMR3', 'ENTHD2', 'EP400NL', 'EPRS', 'EPT1', 'EPWW6493', 'ERBB2IP', 'ERICH1-AS1', '\n",
      "35 input query terms found dup hits:\t[('GATA2-AS1', 2), ('GGT3P', 2), ('GGT8P', 2), ('GLUD1P3', 2), ('GLYCTK-AS1', 2), ('GOLGA2P2Y', 2), \n",
      "132 input query terms found no hit:\t['GATS', 'GATSL2', 'GATSL3', 'GBA', 'GBAS', 'GCN1L1', 'GGTA1P', 'GK3P', 'GLTSCR1', 'GLTSCR1L', 'GLTS\n",
      "21 input query terms found dup hits:\t[('HTATSF1P2', 2), ('HTT-AS', 2), ('ID2-AS1', 2), ('IFITM4P', 8), ('INTS6-AS1', 2), ('IPO5P1', 2), (\n",
      "75 input query terms found no hit:\t['HSPB11', 'HYALP1', 'IARS', 'IBA57-AS1', 'ICK', 'ICT1', 'IGANRP', 'IGJ', 'IKBKAP', 'IL10RB-AS1', 'I\n",
      "91 input query terms found dup hits:\t[('LIMD1-AS1', 2), ('LINC00029', 2), ('LINC00115', 2), ('LINC00200', 2), ('LINC00265', 2), ('LINC003\n",
      "448 input query terms found no hit:\t['LDOC1L', 'LECT1', 'LEPREL2', 'LHFP', 'LIMS3L', 'LINC00083', 'LINC00086', 'LINC00087', 'LINC00094',\n",
      "10 input query terms found dup hits:\t[('LPAL2', 2), ('LRP5L', 2), ('LRRC37A11P', 2), ('LRRC37A4P', 3), ('LRRC37BP1', 2), ('LUCAT1', 2), (\n",
      "535 input query terms found no hit:\t['LOC101927841', 'LOC101927842', 'LOC101927851', 'LOC101927856', 'LOC101927885', 'LOC101927886', 'LO\n",
      "27 input query terms found dup hits:\t[('MAP3K14-AS1', 2), ('MCF2L-AS1', 2), ('MED14OS', 2), ('MED15P9', 3), ('MIATNB', 2), ('MID1IP1-AS1'\n",
      "59 input query terms found no hit:\t['MARS', 'MB21D1', 'MCTS2P', 'MEF2BNB', 'MESDC1', 'MESDC2', 'METTL10', 'METTL12', 'METTL20', 'METTL2\n",
      "31 input query terms found dup hits:\t[('NDUFAF4P1', 2), ('NDUFV2-AS1', 2), ('NF1P2', 2), ('NFYC-AS1', 2), ('NNT-AS1', 2), ('NOP14-AS1', 2\n",
      "34 input query terms found no hit:\t['NDUFA6-AS1', 'NGFRAP1', 'NHP2L1', 'NOTCH2NL', 'NOV', 'NPCDR1', 'NRD1', 'NUDT16P1', 'NUP50-AS1', 'N\n",
      "28 input query terms found dup hits:\t[('PGM5P2', 2), ('PHKA2-AS1', 2), ('PI4KAP2', 2), ('PLBD1-AS1', 2), ('PLCG1-AS1', 2), ('PMS2P1', 2),\n",
      "46 input query terms found no hit:\t['PHB', 'PIFO', 'PIK3IP1-AS1', 'PKI55', 'PLA2G16', 'PNMAL2', 'PP12708', 'PP12719', 'PP13', 'PP7080',\n",
      "32 input query terms found dup hits:\t[('RAB6C-AS1', 3), ('RAET1K', 2), ('RBFADN', 2), ('RFPL1S', 2), ('RNASEH2B-AS1', 2), ('RNF138P1', 2)\n",
      "24 input query terms found no hit:\t['QTRTD1', 'RAB30-AS1', 'RARRES3', 'RARS', 'RFWD2', 'RFX3-AS1', 'RGAG4', 'RLTPR', 'RNASEH1-AS1', 'RN\n",
      "70 input query terms found dup hits:\t[('SDHAP1', 2), ('SEC14L1P1', 2), ('SEMA6A-AS1', 2), ('SEPSECS-AS1', 2), ('SERPINB9P1', 2), ('SFTA3'\n",
      "36 input query terms found no hit:\t['SDCCAG3', 'SDPR', 'SELK', 'SELM', 'SELO', 'SELT', 'SEPN1', 'SEPP1', 'SEPT7-AS1', 'SEPT7P2', 'SEPW1\n",
      "32 input query terms found dup hits:\t[('SNORD88C', 2), ('SNORD91A', 2), ('SNORD91B', 2), ('SNRK-AS1', 2), ('SNRPD2P2', 2), ('SP2-AS1', 2)\n",
      "38 input query terms found no hit:\t['SOGA1', 'SOGA3', 'SPACA6P', 'SPATA5', 'SPATA5L1', 'SPG20', 'SPHAR', 'SQRDL', 'SRP14-AS1', 'SRPR', \n",
      "27 input query terms found dup hits:\t[('TMC3-AS1', 2), ('TMCO5B', 2), ('TMEM191A', 2), ('TMEM26-AS1', 2), ('TMEM44-AS1', 2), ('TNRC18P1',\n",
      "54 input query terms found no hit:\t['TMEM110', 'TMEM133', 'TMEM136', 'TMEM14E', 'TMEM159', 'TMEM161B-AS1', 'TMEM173', 'TMEM180', 'TMEM1\n",
      "16 input query terms found dup hits:\t[('URAHP', 2), ('USP2-AS1', 2), ('USP3-AS1', 2), ('USP30-AS1', 2), ('USP32P2', 2), ('VIPR1-AS1', 2),\n",
      "407 input query terms found no hit:\t['USMG5', 'USP12-AS2', 'USP27X-AS1', 'USP46-AS1', 'UTP11L', 'VARS', 'VIMP', 'VNN3', 'VPRBP', 'VWA9',\n",
      "20 input query terms found dup hits:\t[('ZMIZ1-AS1', 2), ('ZNF137P', 2), ('ZNF204P', 2), ('ZNF213-AS1', 2), ('ZNF252P', 2), ('ZNF286B', 2)\n",
      "425 input query terms found no hit:\t['ZMYM6NB', 'ZNF192P1', 'ZNF582-AS1', 'ZNF638-IT1', 'ZNF664-FAM101A', 'ZNF705E', 'ZNF720', 'ZNF788',\n",
      "1000 input query terms found no hit:\t['lnc-C2orf78-1', 'lnc-C3orf38-1', 'lnc-C3orf38-2', 'lnc-C3orf52-1', 'lnc-C3orf71-1', 'lnc-C4orf27-1\n",
      "1000 input query terms found no hit:\t['lnc-METTL11A-1', 'lnc-METTL11A-3', 'lnc-METTL11A-5', 'lnc-METTL13-1', 'lnc-METTL15-4', 'lnc-METTL2\n",
      "305 input query terms found no hit:\t['lnc-TMEM242-1', 'lnc-TMEM30B-1', 'lnc-TMEM30B-3', 'lnc-TMEM5-1', 'lnc-TMEM63A-1', 'lnc-TMEM64-1', \n"
     ]
    }
   ],
   "source": [
    "if NORMALIZE_GENE:\n",
    "    genetic_data = normalize_gene_symbols_in_index(genetic_data)"
   ]
  },
  {
   "cell_type": "code",
   "execution_count": 79,
   "metadata": {
    "ExecuteTime": {
     "end_time": "2023-12-31T21:19:35.590902191Z",
     "start_time": "2023-12-31T21:19:35.537285901Z"
    }
   },
   "outputs": [],
   "source": [
    "merged_data = geo_merge_clinical_genetic_data(selected_clinical_data, genetic_data)\n",
    "# The preprocessing runs through, which means is_available should be True\n",
    "is_available = True"
   ]
  },
  {
   "cell_type": "code",
   "execution_count": 80,
   "metadata": {
    "ExecuteTime": {
     "end_time": "2023-12-31T21:19:35.591095170Z",
     "start_time": "2023-12-31T21:19:35.538708445Z"
    }
   },
   "outputs": [
    {
     "name": "stdout",
     "output_type": "stream",
     "text": [
      "The merged dataset contains 87 samples.\n"
     ]
    }
   ],
   "source": [
    "print(f\"The merged dataset contains {len(merged_data)} samples.\")"
   ]
  },
  {
   "cell_type": "code",
   "execution_count": 81,
   "metadata": {
    "ExecuteTime": {
     "end_time": "2023-12-31T21:19:35.610849182Z",
     "start_time": "2023-12-31T21:19:35.541210258Z"
    }
   },
   "outputs": [
    {
     "name": "stdout",
     "output_type": "stream",
     "text": [
      "For the feature 'Multiple Chemical Sensitivity', the least common label is '1.0' with 30 occurrences. This represents 34.48% of the dataset.\n",
      "The distribution of the feature 'Multiple Chemical Sensitivity' in this dataset is fine.\n",
      "\n",
      "Quartiles for 'Age':\n",
      "  25%: 38.205\n",
      "  50% (Median): 43.08\n",
      "  75%: 51.75\n",
      "Min: 18.42\n",
      "Max: 60.17\n",
      "The distribution of the feature 'Age' in this dataset is fine.\n",
      "\n"
     ]
    },
    {
     "data": {
      "text/plain": [
       "False"
      ]
     },
     "execution_count": 81,
     "metadata": {},
     "output_type": "execute_result"
    }
   ],
   "source": [
    "is_trait_biased, merged_data = judge_and_remove_biased_features(merged_data, TRAIT, trait_type=trait_type)\n",
    "is_trait_biased"
   ]
  },
  {
   "cell_type": "code",
   "execution_count": 82,
   "metadata": {
    "ExecuteTime": {
     "end_time": "2023-12-31T21:19:35.610923234Z",
     "start_time": "2023-12-31T21:19:35.584848473Z"
    }
   },
   "outputs": [],
   "source": [
    "save_cohort_info(cohort, JSON_PATH, is_available, is_trait_biased, merged_data)"
   ]
  },
  {
   "cell_type": "code",
   "execution_count": 83,
   "metadata": {
    "ExecuteTime": {
     "end_time": "2023-12-31T21:19:35.610970734Z",
     "start_time": "2023-12-31T21:19:35.585042694Z"
    }
   },
   "outputs": [],
   "source": [
    "merged_data.head()\n",
    "if not is_trait_biased:\n",
    "    merged_data.to_csv(os.path.join(OUTPUT_DIR, cohort+'.csv'), index=False)"
   ]
  },
  {
   "cell_type": "markdown",
   "metadata": {
    "ExecuteTime": {
     "end_time": "2023-12-31T03:58:22.271683755Z",
     "start_time": "2023-12-31T03:58:22.246557674Z"
    },
    "id": "-MTPhRGxJV7I"
   },
   "source": [
    "### 3. Do regression & Cross Validation"
   ]
  },
  {
   "cell_type": "code",
   "execution_count": 4,
   "metadata": {
    "ExecuteTime": {
     "end_time": "2023-12-31T21:19:44.459442087Z",
     "start_time": "2023-12-31T21:19:44.416219648Z"
    }
   },
   "outputs": [
    {
     "data": {
      "text/html": [
       "<div>\n",
       "<style scoped>\n",
       "    .dataframe tbody tr th:only-of-type {\n",
       "        vertical-align: middle;\n",
       "    }\n",
       "\n",
       "    .dataframe tbody tr th {\n",
       "        vertical-align: top;\n",
       "    }\n",
       "\n",
       "    .dataframe thead th {\n",
       "        text-align: right;\n",
       "    }\n",
       "</style>\n",
       "<table border=\"1\" class=\"dataframe\">\n",
       "  <thead>\n",
       "    <tr style=\"text-align: right;\">\n",
       "      <th></th>\n",
       "      <th>cohort_id</th>\n",
       "      <th>is_usable</th>\n",
       "      <th>is_available</th>\n",
       "      <th>is_biased</th>\n",
       "      <th>has_age</th>\n",
       "      <th>has_gender</th>\n",
       "      <th>sample_size</th>\n",
       "      <th>note</th>\n",
       "    </tr>\n",
       "  </thead>\n",
       "  <tbody>\n",
       "    <tr>\n",
       "      <th>2</th>\n",
       "      <td>GSE182503</td>\n",
       "      <td>True</td>\n",
       "      <td>True</td>\n",
       "      <td>False</td>\n",
       "      <td>True</td>\n",
       "      <td>False</td>\n",
       "      <td>102</td>\n",
       "      <td></td>\n",
       "    </tr>\n",
       "    <tr>\n",
       "      <th>1</th>\n",
       "      <td>GSE182798</td>\n",
       "      <td>True</td>\n",
       "      <td>True</td>\n",
       "      <td>False</td>\n",
       "      <td>True</td>\n",
       "      <td>False</td>\n",
       "      <td>87</td>\n",
       "      <td></td>\n",
       "    </tr>\n",
       "    <tr>\n",
       "      <th>0</th>\n",
       "      <td>GSE182797</td>\n",
       "      <td>True</td>\n",
       "      <td>True</td>\n",
       "      <td>False</td>\n",
       "      <td>True</td>\n",
       "      <td>False</td>\n",
       "      <td>35</td>\n",
       "      <td></td>\n",
       "    </tr>\n",
       "  </tbody>\n",
       "</table>\n",
       "</div>"
      ],
      "text/plain": [
       "   cohort_id  is_usable  is_available  is_biased  has_age  has_gender  \\\n",
       "2  GSE182503       True          True      False     True       False   \n",
       "1  GSE182798       True          True      False     True       False   \n",
       "0  GSE182797       True          True      False     True       False   \n",
       "\n",
       "   sample_size note  \n",
       "2          102       \n",
       "1           87       \n",
       "0           35       "
      ]
     },
     "execution_count": 4,
     "metadata": {},
     "output_type": "execute_result"
    }
   ],
   "source": [
    "# Check the information of usable cohorts\n",
    "best_cohort, ranked_df = filter_and_rank_cohorts(JSON_PATH)\n",
    "ranked_df"
   ]
  },
  {
   "cell_type": "code",
   "execution_count": 5,
   "metadata": {
    "ExecuteTime": {
     "end_time": "2023-12-31T21:19:44.808945960Z",
     "start_time": "2023-12-31T21:19:44.799467072Z"
    }
   },
   "outputs": [
    {
     "data": {
      "text/plain": [
       "'GSE182503'"
      ]
     },
     "execution_count": 5,
     "metadata": {},
     "output_type": "execute_result"
    }
   ],
   "source": [
    "# If both age and gender have available cohorts, select 'age' as the condition.\n",
    "condition = 'Age'\n",
    "filter_column = 'has_' + condition.lower()\n",
    "\n",
    "condition_best_cohort, condition_ranked_df = filter_and_rank_cohorts(JSON_PATH, filter_column)\n",
    "condition_best_cohort"
   ]
  },
  {
   "cell_type": "code",
   "execution_count": 6,
   "metadata": {
    "ExecuteTime": {
     "end_time": "2023-12-31T21:19:52.222719978Z",
     "start_time": "2023-12-31T21:19:45.162873006Z"
    }
   },
   "outputs": [
    {
     "data": {
      "text/html": [
       "<div>\n",
       "<style scoped>\n",
       "    .dataframe tbody tr th:only-of-type {\n",
       "        vertical-align: middle;\n",
       "    }\n",
       "\n",
       "    .dataframe tbody tr th {\n",
       "        vertical-align: top;\n",
       "    }\n",
       "\n",
       "    .dataframe thead th {\n",
       "        text-align: right;\n",
       "    }\n",
       "</style>\n",
       "<table border=\"1\" class=\"dataframe\">\n",
       "  <thead>\n",
       "    <tr style=\"text-align: right;\">\n",
       "      <th></th>\n",
       "      <th>cohort_id</th>\n",
       "      <th>is_usable</th>\n",
       "      <th>is_available</th>\n",
       "      <th>is_biased</th>\n",
       "      <th>has_age</th>\n",
       "      <th>has_gender</th>\n",
       "      <th>sample_size</th>\n",
       "      <th>note</th>\n",
       "    </tr>\n",
       "  </thead>\n",
       "  <tbody>\n",
       "    <tr>\n",
       "      <th>2</th>\n",
       "      <td>GSE182503</td>\n",
       "      <td>True</td>\n",
       "      <td>True</td>\n",
       "      <td>False</td>\n",
       "      <td>True</td>\n",
       "      <td>False</td>\n",
       "      <td>102</td>\n",
       "      <td></td>\n",
       "    </tr>\n",
       "    <tr>\n",
       "      <th>1</th>\n",
       "      <td>GSE182798</td>\n",
       "      <td>True</td>\n",
       "      <td>True</td>\n",
       "      <td>False</td>\n",
       "      <td>True</td>\n",
       "      <td>False</td>\n",
       "      <td>87</td>\n",
       "      <td></td>\n",
       "    </tr>\n",
       "    <tr>\n",
       "      <th>0</th>\n",
       "      <td>GSE182797</td>\n",
       "      <td>True</td>\n",
       "      <td>True</td>\n",
       "      <td>False</td>\n",
       "      <td>True</td>\n",
       "      <td>False</td>\n",
       "      <td>35</td>\n",
       "      <td></td>\n",
       "    </tr>\n",
       "  </tbody>\n",
       "</table>\n",
       "</div>"
      ],
      "text/plain": [
       "   cohort_id  is_usable  is_available  is_biased  has_age  has_gender  \\\n",
       "2  GSE182503       True          True      False     True       False   \n",
       "1  GSE182798       True          True      False     True       False   \n",
       "0  GSE182797       True          True      False     True       False   \n",
       "\n",
       "   sample_size note  \n",
       "2          102       \n",
       "1           87       \n",
       "0           35       "
      ]
     },
     "execution_count": 6,
     "metadata": {},
     "output_type": "execute_result"
    }
   ],
   "source": [
    "condition_ranked_df.head()"
   ]
  },
  {
   "cell_type": "code",
   "execution_count": 7,
   "metadata": {
    "ExecuteTime": {
     "end_time": "2023-12-31T21:19:52.234945878Z",
     "start_time": "2023-12-31T21:19:52.231604618Z"
    }
   },
   "outputs": [
    {
     "data": {
      "text/html": [
       "<div>\n",
       "<style scoped>\n",
       "    .dataframe tbody tr th:only-of-type {\n",
       "        vertical-align: middle;\n",
       "    }\n",
       "\n",
       "    .dataframe tbody tr th {\n",
       "        vertical-align: top;\n",
       "    }\n",
       "\n",
       "    .dataframe thead th {\n",
       "        text-align: right;\n",
       "    }\n",
       "</style>\n",
       "<table border=\"1\" class=\"dataframe\">\n",
       "  <thead>\n",
       "    <tr style=\"text-align: right;\">\n",
       "      <th></th>\n",
       "      <th>Multiple Chemical Sensitivity</th>\n",
       "      <th>Age</th>\n",
       "      <th>A1BG</th>\n",
       "      <th>A1BG-AS1</th>\n",
       "      <th>A2M</th>\n",
       "      <th>A2M-AS1</th>\n",
       "      <th>A4GALT</th>\n",
       "      <th>AAAS</th>\n",
       "      <th>AACS</th>\n",
       "      <th>AADACL2-AS1</th>\n",
       "      <th>...</th>\n",
       "      <th>ZW10</th>\n",
       "      <th>ZWILCH</th>\n",
       "      <th>ZWINT</th>\n",
       "      <th>ZXDA</th>\n",
       "      <th>ZXDB</th>\n",
       "      <th>ZXDC</th>\n",
       "      <th>ZYG11B</th>\n",
       "      <th>ZYX</th>\n",
       "      <th>ZZEF1</th>\n",
       "      <th>ZZZ3</th>\n",
       "    </tr>\n",
       "  </thead>\n",
       "  <tbody>\n",
       "    <tr>\n",
       "      <th>0</th>\n",
       "      <td>0.0</td>\n",
       "      <td>33.42</td>\n",
       "      <td>9.58489</td>\n",
       "      <td>6.85151</td>\n",
       "      <td>5.35128</td>\n",
       "      <td>7.373065</td>\n",
       "      <td>6.48037</td>\n",
       "      <td>7.48055</td>\n",
       "      <td>6.054405</td>\n",
       "      <td>5.24763</td>\n",
       "      <td>...</td>\n",
       "      <td>6.93642</td>\n",
       "      <td>6.54968</td>\n",
       "      <td>6.570575</td>\n",
       "      <td>5.52895</td>\n",
       "      <td>9.11228</td>\n",
       "      <td>7.41289</td>\n",
       "      <td>7.053450</td>\n",
       "      <td>9.89924</td>\n",
       "      <td>9.82874</td>\n",
       "      <td>8.529810</td>\n",
       "    </tr>\n",
       "    <tr>\n",
       "      <th>1</th>\n",
       "      <td>0.0</td>\n",
       "      <td>46.08</td>\n",
       "      <td>9.65673</td>\n",
       "      <td>6.74284</td>\n",
       "      <td>5.17157</td>\n",
       "      <td>7.897180</td>\n",
       "      <td>6.38845</td>\n",
       "      <td>7.26270</td>\n",
       "      <td>6.050235</td>\n",
       "      <td>5.16678</td>\n",
       "      <td>...</td>\n",
       "      <td>6.82689</td>\n",
       "      <td>6.56084</td>\n",
       "      <td>6.206125</td>\n",
       "      <td>5.44427</td>\n",
       "      <td>9.29162</td>\n",
       "      <td>7.51223</td>\n",
       "      <td>6.758815</td>\n",
       "      <td>9.54241</td>\n",
       "      <td>9.92456</td>\n",
       "      <td>8.431920</td>\n",
       "    </tr>\n",
       "    <tr>\n",
       "      <th>2</th>\n",
       "      <td>1.0</td>\n",
       "      <td>45.58</td>\n",
       "      <td>9.55825</td>\n",
       "      <td>6.47113</td>\n",
       "      <td>5.31526</td>\n",
       "      <td>8.515230</td>\n",
       "      <td>6.41518</td>\n",
       "      <td>7.27516</td>\n",
       "      <td>5.995330</td>\n",
       "      <td>5.29596</td>\n",
       "      <td>...</td>\n",
       "      <td>6.72080</td>\n",
       "      <td>6.32144</td>\n",
       "      <td>6.096655</td>\n",
       "      <td>5.55285</td>\n",
       "      <td>8.82925</td>\n",
       "      <td>7.55573</td>\n",
       "      <td>6.817940</td>\n",
       "      <td>9.96698</td>\n",
       "      <td>10.10630</td>\n",
       "      <td>8.269220</td>\n",
       "    </tr>\n",
       "    <tr>\n",
       "      <th>3</th>\n",
       "      <td>0.0</td>\n",
       "      <td>28.00</td>\n",
       "      <td>9.71055</td>\n",
       "      <td>6.90045</td>\n",
       "      <td>5.23478</td>\n",
       "      <td>7.498270</td>\n",
       "      <td>6.46742</td>\n",
       "      <td>7.37446</td>\n",
       "      <td>6.082195</td>\n",
       "      <td>5.19923</td>\n",
       "      <td>...</td>\n",
       "      <td>6.77188</td>\n",
       "      <td>6.52291</td>\n",
       "      <td>6.201890</td>\n",
       "      <td>5.60998</td>\n",
       "      <td>9.03057</td>\n",
       "      <td>7.34095</td>\n",
       "      <td>6.787210</td>\n",
       "      <td>9.65593</td>\n",
       "      <td>9.83997</td>\n",
       "      <td>8.400015</td>\n",
       "    </tr>\n",
       "    <tr>\n",
       "      <th>4</th>\n",
       "      <td>0.0</td>\n",
       "      <td>25.75</td>\n",
       "      <td>9.22204</td>\n",
       "      <td>6.75952</td>\n",
       "      <td>5.37102</td>\n",
       "      <td>7.955740</td>\n",
       "      <td>6.49131</td>\n",
       "      <td>7.34519</td>\n",
       "      <td>6.067165</td>\n",
       "      <td>5.19351</td>\n",
       "      <td>...</td>\n",
       "      <td>6.91466</td>\n",
       "      <td>6.55797</td>\n",
       "      <td>6.434910</td>\n",
       "      <td>5.55869</td>\n",
       "      <td>8.87090</td>\n",
       "      <td>7.56096</td>\n",
       "      <td>6.933440</td>\n",
       "      <td>10.03720</td>\n",
       "      <td>9.78509</td>\n",
       "      <td>8.247640</td>\n",
       "    </tr>\n",
       "  </tbody>\n",
       "</table>\n",
       "<p>5 rows × 15546 columns</p>\n",
       "</div>"
      ],
      "text/plain": [
       "   Multiple Chemical Sensitivity    Age     A1BG  A1BG-AS1      A2M   A2M-AS1  \\\n",
       "0                            0.0  33.42  9.58489   6.85151  5.35128  7.373065   \n",
       "1                            0.0  46.08  9.65673   6.74284  5.17157  7.897180   \n",
       "2                            1.0  45.58  9.55825   6.47113  5.31526  8.515230   \n",
       "3                            0.0  28.00  9.71055   6.90045  5.23478  7.498270   \n",
       "4                            0.0  25.75  9.22204   6.75952  5.37102  7.955740   \n",
       "\n",
       "    A4GALT     AAAS      AACS  AADACL2-AS1  ...     ZW10   ZWILCH     ZWINT  \\\n",
       "0  6.48037  7.48055  6.054405      5.24763  ...  6.93642  6.54968  6.570575   \n",
       "1  6.38845  7.26270  6.050235      5.16678  ...  6.82689  6.56084  6.206125   \n",
       "2  6.41518  7.27516  5.995330      5.29596  ...  6.72080  6.32144  6.096655   \n",
       "3  6.46742  7.37446  6.082195      5.19923  ...  6.77188  6.52291  6.201890   \n",
       "4  6.49131  7.34519  6.067165      5.19351  ...  6.91466  6.55797  6.434910   \n",
       "\n",
       "      ZXDA     ZXDB     ZXDC    ZYG11B       ZYX     ZZEF1      ZZZ3  \n",
       "0  5.52895  9.11228  7.41289  7.053450   9.89924   9.82874  8.529810  \n",
       "1  5.44427  9.29162  7.51223  6.758815   9.54241   9.92456  8.431920  \n",
       "2  5.55285  8.82925  7.55573  6.817940   9.96698  10.10630  8.269220  \n",
       "3  5.60998  9.03057  7.34095  6.787210   9.65593   9.83997  8.400015  \n",
       "4  5.55869  8.87090  7.56096  6.933440  10.03720   9.78509  8.247640  \n",
       "\n",
       "[5 rows x 15546 columns]"
      ]
     },
     "execution_count": 7,
     "metadata": {},
     "output_type": "execute_result"
    }
   ],
   "source": [
    "merged_data = pd.read_csv(os.path.join(OUTPUT_DIR, condition_best_cohort + '.csv'))\n",
    "merged_data.head()"
   ]
  },
  {
   "cell_type": "code",
   "execution_count": 8,
   "metadata": {
    "ExecuteTime": {
     "end_time": "2023-12-31T21:19:52.323468266Z",
     "start_time": "2023-12-31T21:19:52.290903989Z"
    }
   },
   "outputs": [],
   "source": [
    "# Remove the other condition to prevent interference.\n",
    "merged_data = merged_data.drop(columns=['Gender'], errors='ignore').astype('float')\n",
    "\n",
    "X = merged_data.drop(columns=[TRAIT, condition]).values\n",
    "Y = merged_data[TRAIT].values\n",
    "Z = merged_data[condition].values"
   ]
  },
  {
   "cell_type": "markdown",
   "metadata": {},
   "source": [
    "Select the appropriate regression model depending on whether the dataset shows batch effect."
   ]
  },
  {
   "cell_type": "code",
   "execution_count": 9,
   "metadata": {
    "ExecuteTime": {
     "end_time": "2023-12-31T21:20:00.930840782Z",
     "start_time": "2023-12-31T21:19:52.319092572Z"
    }
   },
   "outputs": [
    {
     "data": {
      "text/plain": [
       "True"
      ]
     },
     "execution_count": 9,
     "metadata": {},
     "output_type": "execute_result"
    }
   ],
   "source": [
    "has_batch_effect = detect_batch_effect(X)\n",
    "has_batch_effect"
   ]
  },
  {
   "cell_type": "code",
   "execution_count": 10,
   "metadata": {
    "ExecuteTime": {
     "end_time": "2023-12-31T21:20:00.931029722Z",
     "start_time": "2023-12-31T21:20:00.929710828Z"
    }
   },
   "outputs": [],
   "source": [
    "# Select appropriate models based on whether the dataset has batch effect.\n",
    "# We experiment on two models for each branch. We will decide which one to choose later.\n",
    "\n",
    "if has_batch_effect:\n",
    "    model_constructor1 = VariableSelection\n",
    "    model_params1 = {'modified': True, 'lamda': 3e-4}\n",
    "    model_constructor2 = VariableSelection\n",
    "    model_params2 = {'modified': False}\n",
    "else:\n",
    "    model_constructor1 = Lasso\n",
    "    model_params1 = {'alpha': 1.0, 'random_state': 42}\n",
    "    model_constructor2 = VariableSelection\n",
    "    model_params2 = {'modified': False}"
   ]
  },
  {
   "cell_type": "code",
   "execution_count": 11,
   "metadata": {},
   "outputs": [
    {
     "name": "stdout",
     "output_type": "stream",
     "text": [
      "alpha for Lasso: 0.0003\n",
      "alpha for Lasso: 0.0003\n",
      "alpha for Lasso: 0.0003\n",
      "alpha for Lasso: 0.0003\n",
      "alpha for Lasso: 0.0003\n",
      "The cross-validation accuracy is 50.00% ± 19.49%\n"
     ]
    }
   ],
   "source": [
    "trait_type = 'binary'  # Remember to set this properly, either 'binary' or 'continuous'\n",
    "cv_mean1, cv_std1 = cross_validation(X, Y, Z, model_constructor1, model_params1, target_type=trait_type)"
   ]
  },
  {
   "cell_type": "code",
   "execution_count": 13,
   "metadata": {
    "ExecuteTime": {
     "end_time": "2023-12-31T21:20:20.709459824Z",
     "start_time": "2023-12-31T21:20:00.931657949Z"
    }
   },
   "outputs": [
    {
     "name": "stdout",
     "output_type": "stream",
     "text": [
      "The cross-validation accuracy is 90.00% ± 4.47%\n"
     ]
    }
   ],
   "source": [
    "cv_mean2, cv_std2 = cross_validation(X, Y, Z, model_constructor2, model_params2, target_type=trait_type)"
   ]
  },
  {
   "cell_type": "code",
   "execution_count": 14,
   "metadata": {
    "ExecuteTime": {
     "end_time": "2023-12-31T21:20:24.980870159Z",
     "start_time": "2023-12-31T21:20:20.516710807Z"
    }
   },
   "outputs": [
    {
     "name": "stdout",
     "output_type": "stream",
     "text": [
      "alpha for Lasso: 0.0003\n"
     ]
    }
   ],
   "source": [
    "normalized_X, _ = normalize_data(X)\n",
    "normalized_Z, _ = normalize_data(Z)\n",
    "\n",
    "# Train regression model on the whole dataset to identify significant genes\n",
    "model1 = ResidualizationRegressor(model_constructor1, model_params1)\n",
    "model1.fit(normalized_X, Y, normalized_Z)\n",
    "\n",
    "model2 = ResidualizationRegressor(model_constructor2, model_params2)\n",
    "model2.fit(normalized_X, Y, normalized_Z)"
   ]
  },
  {
   "cell_type": "markdown",
   "metadata": {
    "ExecuteTime": {
     "end_time": "2023-10-14T04:50:59.072075075Z",
     "start_time": "2023-10-14T04:50:38.739499998Z"
    },
    "id": "EjJrxbvb4nlj"
   },
   "source": [
    "### 4. Discussion and report"
   ]
  },
  {
   "cell_type": "code",
   "execution_count": 15,
   "metadata": {
    "ExecuteTime": {
     "end_time": "2023-12-31T21:20:25.000830410Z",
     "start_time": "2023-12-31T21:20:24.982834541Z"
    }
   },
   "outputs": [
    {
     "name": "stdout",
     "output_type": "stream",
     "text": [
      "Effect of the condition on the target variable:\n",
      "Variable: Age\n",
      "Coefficient: 0.0657\n",
      "Found 74 genes with non-zero coefficients associated with the trait 'Multiple Chemical Sensitivity' conditional on the factor 'Age'. These genes are identified as significant based on the regression model.\n",
      "       Variable  Coefficient  Absolute Coefficient\n",
      "         PTGER3    -6.129210              6.129210\n",
      "LIMS3-LOC440895     4.982596              4.982596\n",
      "         ICOSLG    -3.428709              3.428709\n",
      "           MAP2    -3.126846              3.126846\n",
      "          TUSC8    -3.107201              3.107201\n",
      "        CCDC124     3.072731              3.072731\n",
      "        COL18A1    -2.641617              2.641617\n",
      "          FKBPL    -2.622397              2.622397\n",
      "         SLC5A2    -2.618780              2.618780\n",
      "          YPEL4     2.516959              2.516959\n",
      "         HIVEP3     2.327110              2.327110\n",
      "          KAAG1    -2.293216              2.293216\n",
      "        SLC2A12     2.239383              2.239383\n",
      "        SPATA6L    -2.224182              2.224182\n",
      "        FOXRED1    -2.193605              2.193605\n",
      "          SYCP3    -2.151291              2.151291\n",
      "          CHRNE    -2.067215              2.067215\n",
      "           SV2C    -1.942728              1.942728\n",
      "        ANKRD31     1.880953              1.880953\n",
      "         KCNK12     1.758503              1.758503\n",
      "          OR5L2    -1.653892              1.653892\n",
      "         ENTPD5     1.622525              1.622525\n",
      "   LOC101929996     1.538038              1.538038\n",
      "         POLR2L     1.426460              1.426460\n",
      "           IRF1    -1.422493              1.422493\n",
      "         DNAJC4     1.361067              1.361067\n",
      "          OR3A3    -1.342967              1.342967\n",
      "          CDKL3    -1.315592              1.315592\n",
      "          OLIG3     1.264683              1.264683\n",
      "         CDC14C    -1.098266              1.098266\n",
      "         MAN2B2    -1.084954              1.084954\n",
      "      LINC00106     1.005405              1.005405\n",
      "      LINC00189    -1.003327              1.003327\n",
      "      LINC01061     0.973001              0.973001\n",
      "          CLIP3     0.918917              0.918917\n",
      "         PITPNB     0.900519              0.900519\n",
      "         NDUFB4     0.807278              0.807278\n",
      "           EML6     0.779726              0.779726\n",
      "           TCL6    -0.742005              0.742005\n",
      "   LOC100505736    -0.711532              0.711532\n",
      "        FAM157A    -0.664577              0.664577\n",
      "      LINC00663    -0.620438              0.620438\n",
      "            MAG     0.569419              0.569419\n",
      "          RCOR2    -0.559139              0.559139\n",
      "         NAP1L4    -0.539713              0.539713\n",
      "        ADAMTS5    -0.530378              0.530378\n",
      "         TMEM71    -0.506670              0.506670\n",
      "         GPRIN1    -0.495031              0.495031\n",
      "        LRRC74B     0.492725              0.492725\n",
      "           NTF3     0.492065              0.492065\n",
      "          SRPK3     0.440257              0.440257\n",
      "      ZFPM2-AS1     0.372775              0.372775\n",
      "         GLB1L3    -0.363896              0.363896\n",
      "           AREG    -0.294569              0.294569\n",
      "           CHAT     0.255358              0.255358\n",
      "      LINC00678    -0.248562              0.248562\n",
      "   LOC101927712    -0.228742              0.228742\n",
      "          PRRT1    -0.223509              0.223509\n",
      "         VSIG10    -0.221403              0.221403\n",
      "           MUC8    -0.214103              0.214103\n",
      "        TRERNA1     0.187329              0.187329\n",
      "          LONP1    -0.180503              0.180503\n",
      "      LOC497256     0.177757              0.177757\n",
      "           TAL2     0.162789              0.162789\n",
      "         ZNF396     0.154502              0.154502\n",
      "           MT1F     0.148982              0.148982\n",
      "            LTK     0.139615              0.139615\n",
      "         ZNF605    -0.115471              0.115471\n",
      "        BTN2A3P     0.108209              0.108209\n",
      "         NPC1L1    -0.107079              0.107079\n",
      "           WBP1     0.095116              0.095116\n",
      "      LINC01273     0.043443              0.043443\n",
      "        PITPNC1    -0.008800              0.008800\n",
      "      LINC00544     0.008736              0.008736\n"
     ]
    },
    {
     "name": "stderr",
     "output_type": "stream",
     "text": [
      "/Users/ollie/Documents/JupyterProjects/AI4Science_gold_standard/stage1/Jinglin/utils.py:469: SettingWithCopyWarning: \n",
      "A value is trying to be set on a copy of a slice from a DataFrame.\n",
      "Try using .loc[row_indexer,col_indexer] = value instead\n",
      "\n",
      "See the caveats in the documentation: https://pandas.pydata.org/pandas-docs/stable/user_guide/indexing.html#returning-a-view-versus-a-copy\n",
      "  gene_regression_df['Absolute Coefficient'] = gene_regression_df['Coefficient'].abs()\n"
     ]
    }
   ],
   "source": [
    "feature_cols = merged_data.columns.tolist()\n",
    "feature_cols.remove(TRAIT)\n",
    "\n",
    "threshold = 0.05\n",
    "interpret_result(model1, feature_cols, TRAIT, condition, threshold=threshold, save_output=True,\n",
    "                 output_dir=OUTPUT_DIR, model_id=1)"
   ]
  },
  {
   "cell_type": "code",
   "execution_count": 16,
   "metadata": {},
   "outputs": [
    {
     "name": "stdout",
     "output_type": "stream",
     "text": [
      "Effect of the condition on the target variable:\n",
      "Variable: Age\n",
      "Coefficient: 0.0657\n",
      "Found 0 significant genes associated with the trait 'Multiple Chemical Sensitivity' conditional on the factor 'Age', with corrected p-value < 0.05:\n",
      "Empty DataFrame\n",
      "Columns: [Variable, Coefficient, p_value, corrected_p_value]\n",
      "Index: []\n"
     ]
    },
    {
     "name": "stderr",
     "output_type": "stream",
     "text": [
      "/Users/ollie/Documents/JupyterProjects/AI4Science_gold_standard/stage1/Jinglin/utils.py:478: SettingWithCopyWarning: \n",
      "A value is trying to be set on a copy of a slice from a DataFrame.\n",
      "Try using .loc[row_indexer,col_indexer] = value instead\n",
      "\n",
      "See the caveats in the documentation: https://pandas.pydata.org/pandas-docs/stable/user_guide/indexing.html#returning-a-view-versus-a-copy\n",
      "  gene_regression_df.loc[:, 'corrected_p_value'] = corrected_p_values\n"
     ]
    }
   ],
   "source": [
    "interpret_result(model2, feature_cols, TRAIT, condition, threshold=threshold, save_output=True,\n",
    "                 output_dir=OUTPUT_DIR, model_id=2)"
   ]
  },
  {
   "cell_type": "code",
   "execution_count": null,
   "metadata": {},
   "outputs": [],
   "source": []
  }
 ],
 "metadata": {
  "colab": {
   "provenance": []
  },
  "kernelspec": {
   "display_name": "Python 3 (ipykernel)",
   "language": "python",
   "name": "python3"
  },
  "language_info": {
   "codemirror_mode": {
    "name": "ipython",
    "version": 3
   },
   "file_extension": ".py",
   "mimetype": "text/x-python",
   "name": "python",
   "nbconvert_exporter": "python",
   "pygments_lexer": "ipython3",
   "version": "3.11.5"
  }
 },
 "nbformat": 4,
 "nbformat_minor": 1
}
