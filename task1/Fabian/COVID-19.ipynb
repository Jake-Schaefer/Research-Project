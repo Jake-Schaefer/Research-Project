{
 "nbformat": 4,
 "nbformat_minor": 0,
 "metadata": {
  "colab": {
   "provenance": []
  },
  "kernelspec": {
   "name": "python3",
   "language": "python",
   "display_name": "Python 3 (ipykernel)"
  },
  "language_info": {
   "name": "python"
  }
 },
 "cells": [
  {
   "cell_type": "markdown",
   "source": [
    "# Gold standard curation: Preprocessing and single-step regression"
   ],
   "metadata": {
    "collapsed": false
   }
  },
  {
   "cell_type": "markdown",
   "source": [
    "In this stage of gold standard curation, we will do the data preprocessing, selection, and single-step regression for the 153 traits in our question set. This file shows the reference steps using the trait \"Breast Cancer\" as an example. The workflow consists of the following steps:\n",
    "\n",
    "1. Preprocess all the cohorts related to this trait. Each cohort should be converted to a tabular form and saved to a csv file, with columns being genetic factors, the trait, and age, gender if available;\n",
    "2. If there exists at least one cohort with age or gender information, conduct regression analysis with genetic features together with age or gender as the regressors.\n"
   ],
   "metadata": {
    "collapsed": false
   }
  },
  {
   "cell_type": "markdown",
   "source": [
    "# 1. Basic setup"
   ],
   "metadata": {
    "collapsed": false
   }
  },
  {
   "cell_type": "code",
   "execution_count": 1,
   "outputs": [],
   "source": [
    "import os\n",
    "import sys\n",
    "\n",
    "sys.path.append('..')\n",
    "from utils import *\n",
    "\n",
    "# Set your preferred name\n",
    "USER = \"Haoyang\"\n",
    "# Set the data and output directories\n",
    "DATA_ROOT = '/media/techt/DATA'\n",
    "OUTPUT_ROOT = '../../output1'\n",
    "TRAIT = 'COVID-19'\n",
    "\n",
    "OUTPUT_DIR = os.path.join(OUTPUT_ROOT, USER, '-'.join(TRAIT.split()))\n",
    "JSON_PATH = os.path.join(OUTPUT_DIR, \"cohort_info.json\")\n",
    "if not os.path.exists(OUTPUT_DIR):\n",
    "    os.makedirs(OUTPUT_DIR, exist_ok=True)\n",
    "\n",
    "# Gene symbol normalization may take 1-2 minutes. You may set it to False for debugging.\n",
    "NORMALIZE_GENE = True"
   ],
   "metadata": {
    "collapsed": false,
    "ExecuteTime": {
     "end_time": "2024-01-27T00:25:06.820860573Z",
     "start_time": "2024-01-27T00:25:06.141949288Z"
    }
   }
  },
  {
   "cell_type": "code",
   "execution_count": 2,
   "metadata": {
    "colab": {
     "base_uri": "https://localhost:8080/"
    },
    "id": "jMTdsU43vVg3",
    "outputId": "38886111-f442-44b4-8398-96bf384d7abd",
    "ExecuteTime": {
     "end_time": "2024-01-27T00:25:06.826604836Z",
     "start_time": "2024-01-27T00:25:06.823537531Z"
    }
   },
   "outputs": [
    {
     "data": {
      "text/plain": "\"import os\\nfrom google.colab import drive\\n\\ndrive.mount('/content/drive', force_remount=True)\\nproj_dir = '/content/drive/MyDrive/AI4Science_Public'\\nos.chdir(proj_dir)\""
     },
     "execution_count": 2,
     "metadata": {},
     "output_type": "execute_result"
    }
   ],
   "source": [
    "# This cell is only for use on Google Colab. Skip it if you run your code in other environments\n",
    "\n",
    "\"\"\"import os\n",
    "from google.colab import drive\n",
    "\n",
    "drive.mount('/content/drive', force_remount=True)\n",
    "proj_dir = '/content/drive/MyDrive/AI4Science_Public'\n",
    "os.chdir(proj_dir)\"\"\""
   ]
  },
  {
   "cell_type": "markdown",
   "source": [
    "# 2. Data preprocessing and selection"
   ],
   "metadata": {
    "collapsed": false
   }
  },
  {
   "cell_type": "markdown",
   "source": [
    "## 2.1. The TCGA Xena dataset"
   ],
   "metadata": {
    "collapsed": false
   }
  },
  {
   "cell_type": "markdown",
   "source": [
    "In TCGA Xena, there is either zero or one cohort related to the trait. We search the names of subdirectories to see if any matches the trait. If a match is found, we directly obtain the file paths."
   ],
   "metadata": {
    "collapsed": false
   }
  },
  {
   "cell_type": "code",
   "execution_count": null,
   "outputs": [],
   "source": [
    "dataset = 'TCGA'\n",
    "dataset_dir = os.path.join(DATA_ROOT, dataset)\n",
    "os.listdir(dataset_dir)"
   ],
   "metadata": {
    "collapsed": false
   }
  },
  {
   "cell_type": "markdown",
   "source": [
    "If no match is found, jump directly to GEO in Part 2.2"
   ],
   "metadata": {
    "collapsed": false
   }
  },
  {
   "cell_type": "code",
   "execution_count": null,
   "outputs": [],
   "source": [
    "trait_subdir = \"TCGA_Breast_Cancer_(BRCA)\"\n",
    "cohort = 'Xena'\n",
    "# All the cancer traits in Xena are binary\n",
    "trait_type = 'binary'\n",
    "# Once a relevant cohort is found in Xena, we can generally assume the gene and clinical data are available\n",
    "is_available = True\n",
    "\n",
    "clinical_data_file = os.path.join(dataset_dir, trait_subdir, 'TCGA.BRCA.sampleMap_BRCA_clinicalMatrix')\n",
    "genetic_data_file = os.path.join(dataset_dir, trait_subdir, 'TCGA.BRCA.sampleMap_HiSeqV2_PANCAN.gz')"
   ],
   "metadata": {
    "collapsed": false
   }
  },
  {
   "cell_type": "code",
   "source": [
    "import pandas as pd\n",
    "\n",
    "clinical_data = pd.read_csv(clinical_data_file, sep='\\t', index_col=0)\n",
    "genetic_data = pd.read_csv(genetic_data_file, compression='gzip', sep='\\t', index_col=0)\n",
    "age_col = gender_col = None"
   ],
   "metadata": {
    "id": "MudwB-_iz7sc"
   },
   "execution_count": null,
   "outputs": []
  },
  {
   "cell_type": "code",
   "execution_count": null,
   "outputs": [],
   "source": [
    "_, clinical_data_cols = check_rows_and_columns(clinical_data)\n",
    "clinical_data_cols[:10]"
   ],
   "metadata": {
    "collapsed": false
   }
  },
  {
   "cell_type": "markdown",
   "source": [
    "Read all the column names in the clinical dataset, to find the columns that record information about age or gender.\n",
    "Reference prompt:"
   ],
   "metadata": {
    "collapsed": false,
    "ExecuteTime": {
     "end_time": "2023-12-28T20:20:11.841042813Z",
     "start_time": "2023-12-28T20:20:11.834458206Z"
    }
   },
   "outputs": [
    {
     "data": {
      "text/plain": "['AJCC_Stage_nature2012',\n 'Age_at_Initial_Pathologic_Diagnosis_nature2012',\n 'CN_Clusters_nature2012',\n 'Converted_Stage_nature2012',\n 'Days_to_Date_of_Last_Contact_nature2012',\n 'Days_to_date_of_Death_nature2012',\n 'ER_Status_nature2012',\n 'Gender_nature2012',\n 'HER2_Final_Status_nature2012',\n 'Integrated_Clusters_no_exp__nature2012',\n 'Integrated_Clusters_unsup_exp__nature2012',\n 'Integrated_Clusters_with_PAM50__nature2012',\n 'Metastasis_Coded_nature2012',\n 'Metastasis_nature2012',\n 'Node_Coded_nature2012',\n 'Node_nature2012',\n 'OS_Time_nature2012',\n 'OS_event_nature2012',\n 'PAM50Call_RNAseq',\n 'PAM50_mRNA_nature2012',\n 'PR_Status_nature2012',\n 'RPPA_Clusters_nature2012',\n 'SigClust_Intrinsic_mRNA_nature2012',\n 'SigClust_Unsupervised_mRNA_nature2012',\n 'Survival_Data_Form_nature2012',\n 'Tumor_T1_Coded_nature2012',\n 'Tumor_nature2012',\n 'Vital_Status_nature2012',\n '_INTEGRATION',\n '_PANCAN_CNA_PANCAN_K8',\n '_PANCAN_Cluster_Cluster_PANCAN',\n '_PANCAN_DNAMethyl_BRCA',\n '_PANCAN_DNAMethyl_PANCAN',\n '_PANCAN_RPPA_PANCAN_K8',\n '_PANCAN_UNC_RNAseq_PANCAN_K16',\n '_PANCAN_miRNA_PANCAN',\n '_PANCAN_mirna_BRCA',\n '_PANCAN_mutation_PANCAN',\n '_PATIENT',\n '_cohort',\n '_primary_disease',\n '_primary_site',\n 'additional_pharmaceutical_therapy',\n 'additional_radiation_therapy',\n 'additional_surgery_locoregional_procedure',\n 'additional_surgery_metastatic_procedure',\n 'age_at_initial_pathologic_diagnosis',\n 'anatomic_neoplasm_subdivision',\n 'axillary_lymph_node_stage_method_type',\n 'axillary_lymph_node_stage_other_method_descriptive_text',\n 'bcr_followup_barcode',\n 'bcr_patient_barcode',\n 'bcr_sample_barcode',\n 'breast_cancer_surgery_margin_status',\n 'breast_carcinoma_estrogen_receptor_status',\n 'breast_carcinoma_immunohistochemistry_er_pos_finding_scale',\n 'breast_carcinoma_immunohistochemistry_pos_cell_score',\n 'breast_carcinoma_immunohistochemistry_prgstrn_rcptr_ps_fndng_scl',\n 'breast_carcinoma_primary_surgical_procedure_name',\n 'breast_carcinoma_progesterone_receptor_status',\n 'breast_carcinoma_surgical_procedure_name',\n 'breast_neoplasm_other_surgical_procedure_descriptive_text',\n 'cytokeratin_immunohistochemistry_staining_method_mcrmtstss_ndctr',\n 'days_to_additional_surgery_locoregional_procedure',\n 'days_to_additional_surgery_metastatic_procedure',\n 'days_to_birth',\n 'days_to_collection',\n 'days_to_death',\n 'days_to_initial_pathologic_diagnosis',\n 'days_to_last_followup',\n 'days_to_last_known_alive',\n 'days_to_new_tumor_event_additional_surgery_procedure',\n 'days_to_new_tumor_event_after_initial_treatment',\n 'disease_code',\n 'distant_metastasis_present_ind2',\n 'er_detection_method_text',\n 'er_level_cell_percentage_category',\n 'fluorescence_in_st_hybrdztn_dgnstc_prcdr_chrmsm_17_sgnl_rslt_rng',\n 'followup_case_report_form_submission_reason',\n 'form_completion_date',\n 'gender',\n 'her2_and_centromere_17_positive_finding_other_measuremnt_scl_txt',\n 'her2_erbb_method_calculation_method_text',\n 'her2_erbb_pos_finding_cell_percent_category',\n 'her2_erbb_pos_finding_fluorescence_n_st_hybrdztn_clcltn_mthd_txt',\n 'her2_immunohistochemistry_level_result',\n 'her2_neu_and_centromere_17_copy_number_analysis_npt_ttl_nmbr_cnt',\n 'her2_neu_breast_carcinoma_copy_analysis_input_total_number',\n 'her2_neu_chromosone_17_signal_ratio_value',\n 'her2_neu_metastatic_breast_carcinoma_copy_analysis_inpt_ttl_nmbr',\n 'histological_type',\n 'histological_type_other',\n 'history_of_neoadjuvant_treatment',\n 'hr2_n_nd_cntrmr_17_cpy_nmbr_mtsttc_brst_crcnm_nlyss_npt_ttl_nmbr',\n 'icd_10',\n 'icd_o_3_histology',\n 'icd_o_3_site',\n 'immunohistochemistry_positive_cell_score',\n 'informed_consent_verified',\n 'init_pathology_dx_method_other',\n 'initial_pathologic_diagnosis_method',\n 'initial_weight',\n 'is_ffpe',\n 'lab_proc_her2_neu_immunohistochemistry_receptor_status',\n 'lab_procedure_her2_neu_in_situ_hybrid_outcome_type',\n 'lost_follow_up',\n 'lymph_node_examined_count',\n 'margin_status',\n 'menopause_status',\n 'metastatic_breast_carcinm_ps_fndng_prgstrn_rcptr_thr_msr_scl_txt',\n 'metastatic_breast_carcinom_lb_prc_hr2_n_mmnhstchmstry_rcptr_stts',\n 'metastatic_breast_carcinoma_erbb2_immunohistochemistry_levl_rslt',\n 'metastatic_breast_carcinoma_estrogen_receptor_detection_mthd_txt',\n 'metastatic_breast_carcinoma_estrogen_receptor_status',\n 'metastatic_breast_carcinoma_estrogen_receptr_lvl_cll_prcnt_ctgry',\n 'metastatic_breast_carcinoma_her2_erbb_method_calculatin_mthd_txt',\n 'metastatic_breast_carcinoma_her2_erbb_pos_findng_cll_prcnt_ctgry',\n 'metastatic_breast_carcinoma_her2_neu_chromosone_17_signal_rat_vl',\n 'metastatic_breast_carcinoma_immunhstchmstry_r_pstv_fndng_scl_typ',\n 'metastatic_breast_carcinoma_immunohistochemistry_er_pos_cell_scr',\n 'metastatic_breast_carcinoma_immunohistochemistry_pr_pos_cell_scr',\n 'metastatic_breast_carcinoma_lab_proc_hr2_n_n_st_hybrdztn_tcm_typ',\n 'metastatic_breast_carcinoma_pos_finding_hr2_rbb2_thr_msr_scl_txt',\n 'metastatic_breast_carcinoma_progestern_rcptr_lvl_cll_prcnt_ctgry',\n 'metastatic_breast_carcinoma_progesterone_receptor_dtctn_mthd_txt',\n 'metastatic_breast_carcinoma_progesterone_receptor_status',\n 'metastatic_site_at_diagnosis',\n 'metastatic_site_at_diagnosis_other',\n 'methylation_Clusters_nature2012',\n 'miRNA_Clusters_nature2012',\n 'mtsttc_brst_crcnm_flrscnc_n_st_hybrdztn_dgnstc_prc_cntrmr_17_sgn',\n 'mtsttc_brst_crcnm_hr2_rbb_ps_fndng_flrscnc_n_st_hybrdztn_clcltn',\n 'mtsttc_brst_crcnm_mmnhstchmstry_prgstrn_rcptr_pstv_fndng_scl_typ',\n 'new_neoplasm_event_occurrence_anatomic_site',\n 'new_neoplasm_event_type',\n 'new_neoplasm_occurrence_anatomic_site_text',\n 'new_tumor_event_additional_surgery_procedure',\n 'new_tumor_event_after_initial_treatment',\n 'number_of_lymphnodes_positive_by_he',\n 'number_of_lymphnodes_positive_by_ihc',\n 'oct_embedded',\n 'other_dx',\n 'pathologic_M',\n 'pathologic_N',\n 'pathologic_T',\n 'pathologic_stage',\n 'pathology_report_file_name',\n 'patient_id',\n 'person_neoplasm_cancer_status',\n 'pgr_detection_method_text',\n 'pos_finding_her2_erbb2_other_measurement_scale_text',\n 'pos_finding_metastatic_brst_crcnm_strgn_rcptr_thr_msrmnt_scl_txt',\n 'pos_finding_progesterone_receptor_other_measurement_scale_text',\n 'positive_finding_estrogen_receptor_other_measurement_scale_text',\n 'postoperative_rx_tx',\n 'primary_lymph_node_presentation_assessment',\n 'progesterone_receptor_level_cell_percent_category',\n 'project_code',\n 'radiation_therapy',\n 'sample_type',\n 'sample_type_id',\n 'surgical_procedure_purpose_other_text',\n 'system_version',\n 'targeted_molecular_therapy',\n 'tissue_prospective_collection_indicator',\n 'tissue_retrospective_collection_indicator',\n 'tissue_source_site',\n 'tumor_tissue_site',\n 'vial_number',\n 'vital_status',\n 'year_of_initial_pathologic_diagnosis',\n '_GENOMIC_ID_TCGA_BRCA_exp_HiSeqV2_exon',\n '_GENOMIC_ID_TCGA_BRCA_exp_HiSeqV2_PANCAN',\n '_GENOMIC_ID_TCGA_BRCA_RPPA_RBN',\n '_GENOMIC_ID_TCGA_BRCA_mutation',\n '_GENOMIC_ID_TCGA_BRCA_PDMRNAseq',\n '_GENOMIC_ID_TCGA_BRCA_hMethyl450',\n '_GENOMIC_ID_TCGA_BRCA_RPPA',\n '_GENOMIC_ID_TCGA_BRCA_PDMRNAseqCNV',\n '_GENOMIC_ID_TCGA_BRCA_mutation_curated_wustl_gene',\n '_GENOMIC_ID_TCGA_BRCA_hMethyl27',\n '_GENOMIC_ID_TCGA_BRCA_PDMarrayCNV',\n '_GENOMIC_ID_TCGA_BRCA_miRNA_HiSeq',\n '_GENOMIC_ID_TCGA_BRCA_mutation_wustl_gene',\n '_GENOMIC_ID_TCGA_BRCA_miRNA_GA',\n '_GENOMIC_ID_TCGA_BRCA_exp_HiSeqV2_percentile',\n '_GENOMIC_ID_data/public/TCGA/BRCA/miRNA_GA_gene',\n '_GENOMIC_ID_TCGA_BRCA_gistic2thd',\n '_GENOMIC_ID_data/public/TCGA/BRCA/miRNA_HiSeq_gene',\n '_GENOMIC_ID_TCGA_BRCA_G4502A_07_3',\n '_GENOMIC_ID_TCGA_BRCA_exp_HiSeqV2',\n '_GENOMIC_ID_TCGA_BRCA_gistic2',\n '_GENOMIC_ID_TCGA_BRCA_PDMarray']"
     },
     "execution_count": 7,
     "metadata": {},
     "output_type": "execute_result"
    }
   ],
   "execution_count": 7
  },
  {
   "cell_type": "code",
   "execution_count": null,
   "outputs": [],
   "source": [
    "f'''\n",
    "Below is a list of column names from a biomedical dataset. Please examine it and identify the columns that are likely to contain information about patients' age. Additionally, please do the same for columns that may hold data on patients' gender. Please provide your answer by strictly following this format, without redundant words:\n",
    "candidate_age_cols = [col_name1, col_name2, ...]\n",
    "candidate_gender_cols = [col_name1, col_name2, ...]\n",
    "If no columns match a criterion, please provide an empty list.\n",
    "\n",
    "Column names:\n",
    "{clinical_data_cols}\n",
    "'''"
   ],
   "metadata": {
    "collapsed": false
   }
  },
  {
   "cell_type": "code",
   "execution_count": null,
   "outputs": [],
   "source": [
    "candidate_age_cols = ['Age_at_Initial_Pathologic_Diagnosis_nature2012', 'age_at_initial_pathologic_diagnosis',\n",
    "                      'days_to_birth', 'year_of_initial_pathologic_diagnosis']\n",
    "candidate_gender_cols = ['Gender_nature2012', 'gender']"
   ],
   "metadata": {
    "collapsed": false
   }
  },
  {
   "cell_type": "markdown",
   "source": [
    "Choose a single column from the candidate columns that record age and gender information respectively.\n",
    "If no column meets the requirement, keep 'age_col' or 'gender_col' to None"
   ],
   "metadata": {
    "collapsed": false,
    "ExecuteTime": {
     "end_time": "2023-12-31T03:57:44.207565572Z",
     "start_time": "2023-12-31T03:57:44.202177544Z"
    }
   },
   "outputs": [],
   "execution_count": 9
  },
  {
   "cell_type": "code",
   "execution_count": null,
   "outputs": [],
   "source": [
    "preview_df(clinical_data[candidate_age_cols])"
   ],
   "metadata": {
    "collapsed": false
   }
  },
  {
   "cell_type": "code",
   "execution_count": null,
   "outputs": [],
   "source": [
    "age_col = 'age_at_initial_pathologic_diagnosis'"
   ],
   "metadata": {
    "collapsed": false
   }
  },
  {
   "cell_type": "code",
   "execution_count": null,
   "outputs": [],
   "source": [
    "preview_df(clinical_data[candidate_gender_cols])"
   ],
   "metadata": {
    "collapsed": false
   }
  },
  {
   "cell_type": "code",
   "execution_count": null,
   "outputs": [],
   "source": [
    "gender_col = 'gender'"
   ],
   "metadata": {
    "collapsed": false
   }
  },
  {
   "cell_type": "code",
   "execution_count": null,
   "outputs": [],
   "source": [
    "selected_clinical_data = xena_select_clinical_features(clinical_data, TRAIT, age_col=age_col, gender_col=gender_col)"
   ],
   "metadata": {
    "collapsed": false
   }
  },
  {
   "cell_type": "code",
   "execution_count": null,
   "outputs": [],
   "source": [
    "if NORMALIZE_GENE:\n",
    "    genetic_data = normalize_gene_symbols_in_index(genetic_data)"
   ],
   "metadata": {
    "collapsed": false
   }
  },
  {
   "cell_type": "code",
   "execution_count": null,
   "outputs": [],
   "source": [
    "merged_data = selected_clinical_data.join(genetic_data.T).dropna()\n",
    "merged_data.head()"
   ],
   "metadata": {
    "collapsed": false
   }
  },
  {
   "cell_type": "code",
   "execution_count": null,
   "outputs": [],
   "source": [
    "print(f\"The merged dataset contains {len(merged_data)} samples.\")\n",
    "is_trait_biased, merge_data = judge_and_remove_biased_features(merged_data, TRAIT, trait_type=trait_type)\n",
    "is_trait_biased"
   ],
   "metadata": {
    "collapsed": false
   }
  },
  {
   "cell_type": "code",
   "execution_count": null,
   "outputs": [],
   "source": [
    "merged_data.head()\n",
    "if not is_trait_biased:\n",
    "    merge_data.to_csv(os.path.join(OUTPUT_DIR, cohort + '.csv'), index=False)"
   ],
   "metadata": {
    "collapsed": false
   }
  },
  {
   "cell_type": "code",
   "execution_count": null,
   "outputs": [],
   "source": [
    "save_cohort_info(cohort, JSON_PATH, is_available, is_trait_biased, merged_data)"
   ],
   "metadata": {
    "collapsed": false
   }
  },
  {
   "cell_type": "markdown",
   "source": [
    "## 2.2. The GEO dataset"
   ],
   "metadata": {
    "collapsed": false,
    "ExecuteTime": {
     "end_time": "2023-12-28T21:28:38.028916303Z",
     "start_time": "2023-12-28T21:28:38.016245426Z"
    }
   },
   "outputs": [
    {
     "name": "stdout",
     "output_type": "stream",
     "text": [
      "The least common label is '0' with 113 occurrences. This represents 9.30% of the dataset.\n",
      "The distribution of the trait 'Breast Cancer' in this dataset is fine.\n"
     ]
    }
   ],
   "execution_count": 19
  },
  {
   "cell_type": "markdown",
   "source": [
    "In GEO, there may be one or multiple cohorts for a trait. Each cohort is identified by an accession number. We iterate over all accession numbers in the corresponding subdirectory, preprocess the cohort data, and save them to csv files."
   ],
   "metadata": {
    "collapsed": false,
    "ExecuteTime": {
     "end_time": "2023-12-31T03:25:23.253882615Z",
     "start_time": "2023-12-31T03:25:23.244062710Z"
    }
   },
   "outputs": [],
   "execution_count": 21
  },
  {
   "cell_type": "code",
   "execution_count": 3,
   "outputs": [
    {
     "data": {
      "text/plain": "['GSE207945', 'GSE243348']"
     },
     "execution_count": 3,
     "metadata": {},
     "output_type": "execute_result"
    }
   ],
   "source": [
    "dataset = 'GEO'\n",
    "trait_subdir = \"COVID-19\"\n",
    "\n",
    "trait_path = os.path.join(DATA_ROOT, dataset, trait_subdir)\n",
    "os.listdir(trait_path)"
   ],
   "metadata": {
    "collapsed": false,
    "ExecuteTime": {
     "end_time": "2024-01-27T00:25:16.467115550Z",
     "start_time": "2024-01-27T00:25:16.452777691Z"
    }
   }
  },
  {
   "cell_type": "markdown",
   "source": [
    "Repeat the below steps for all the accession numbers"
   ],
   "metadata": {
    "collapsed": false,
    "ExecuteTime": {
     "end_time": "2023-12-31T03:39:42.634870142Z",
     "start_time": "2023-12-31T03:39:42.534093295Z"
    }
   },
   "outputs": [],
   "execution_count": 70
  },
  {
   "cell_type": "code",
   "execution_count": 10,
   "outputs": [
    {
     "data": {
      "text/plain": "('/media/techt/DATA/GEO/COVID-19/GSE243348/GSE243348_family.soft.gz',\n '/media/techt/DATA/GEO/COVID-19/GSE243348/GSE243348_series_matrix.txt.gz')"
     },
     "execution_count": 10,
     "metadata": {},
     "output_type": "execute_result"
    }
   ],
   "source": [
    "cohort = accession_num = \"GSE243348\"\n",
    "cohort_dir = os.path.join(trait_path, accession_num)\n",
    "soft_file, matrix_file = get_relevant_filepaths(cohort_dir)\n",
    "soft_file, matrix_file"
   ],
   "metadata": {
    "collapsed": false,
    "ExecuteTime": {
     "end_time": "2024-01-27T00:26:18.658959299Z",
     "start_time": "2024-01-27T00:26:18.646102133Z"
    }
   }
  },
  {
   "cell_type": "markdown",
   "source": [
    "### Initial filtering and clinical data preprocessing"
   ],
   "metadata": {
    "collapsed": false
   }
  },
  {
   "cell_type": "code",
   "execution_count": 11,
   "outputs": [
    {
     "name": "stdout",
     "output_type": "stream",
     "text": [
      "!Series_title\t\"Longitudinal gene expression profiling of self-collected blood samples in COVID-19+ and healthy participants\"\n",
      "!Series_summary\t\"Longitudinal cohort: 773 host response genes were profiled in previously vaccinated (n=16) and unvaccinated (n=14) COVID-19+ participants along with 5 healthy uninfected controls across a 2-week observational window\"\n",
      "!Series_summary\t\"Single timepoint cohort: 773 host response genes were profiled in 6 healthy uninfected participants\"\n",
      "!Series_overall_design\t\"Longitudinal cohort: 30 COVID-19+ and 5 uninfected participants were asked perform self-collection and stabilization of capillary blood using a novel technology (homeRNA) every other day for two weeks (7 longtiudinal timepoints per participant). Temporal kinetics of 773 immune genes were profiled using the nCounter direct digital counting of native mRNA.\"\n",
      "!Series_overall_design\t\"Single timepoint cohort: 6 healthy uninfected participants were asked perform self-collection and stabilization of capillary blood using a novel technology (homeRNA). Temporal kinetics of 773 immune genes were profiled using the nCounter direct digital counting of native mRNA.\"\n"
     ]
    }
   ],
   "source": [
    "background_prefixes = ['!Series_title', '!Series_summary', '!Series_overall_design']\n",
    "clinical_prefixes = ['!Sample_geo_accession', '!Sample_characteristics_ch1']\n",
    "\n",
    "background_info, clinical_data = get_background_and_clinical_data(matrix_file, background_prefixes, clinical_prefixes)\n",
    "print(background_info)"
   ],
   "metadata": {
    "collapsed": false,
    "ExecuteTime": {
     "end_time": "2024-01-27T00:26:19.344095765Z",
     "start_time": "2024-01-27T00:26:19.292195906Z"
    }
   }
  },
  {
   "cell_type": "code",
   "execution_count": 12,
   "outputs": [
    {
     "data": {
      "text/plain": "         !Sample_geo_accession                                  GSM7783810  \\\n0  !Sample_characteristics_ch1                   disease status: COVID-19+   \n1  !Sample_characteristics_ch1                      participant id: CB0101   \n2  !Sample_characteristics_ch1                                 Sex: female   \n3  !Sample_characteristics_ch1                                     age: 44   \n4  !Sample_characteristics_ch1  covid-19 vaccination history: unvaccinated   \n\n                                   GSM7783811  \\\n0                   disease status: COVID-19+   \n1                      participant id: CB0101   \n2                                 Sex: female   \n3                                     age: 44   \n4  covid-19 vaccination history: unvaccinated   \n\n                                   GSM7783812  \\\n0                   disease status: COVID-19+   \n1                      participant id: CB0101   \n2                                 Sex: female   \n3                                     age: 44   \n4  covid-19 vaccination history: unvaccinated   \n\n                                   GSM7783813  \\\n0                   disease status: COVID-19+   \n1                      participant id: CB0101   \n2                                 Sex: female   \n3                                     age: 44   \n4  covid-19 vaccination history: unvaccinated   \n\n                                   GSM7783814  \\\n0                   disease status: COVID-19+   \n1                      participant id: CB0101   \n2                                 Sex: female   \n3                                     age: 44   \n4  covid-19 vaccination history: unvaccinated   \n\n                                   GSM7783815  \\\n0                   disease status: COVID-19+   \n1                      participant id: CB0101   \n2                                 Sex: female   \n3                                     age: 44   \n4  covid-19 vaccination history: unvaccinated   \n\n                                   GSM7783816  \\\n0                   disease status: COVID-19+   \n1                      participant id: CB0101   \n2                                 Sex: female   \n3                                     age: 44   \n4  covid-19 vaccination history: unvaccinated   \n\n                                   GSM7783817  \\\n0                   disease status: COVID-19+   \n1                      participant id: CB0102   \n2                                 Sex: female   \n3                                     age: 29   \n4  covid-19 vaccination history: unvaccinated   \n\n                                   GSM7783818  ...  \\\n0                   disease status: COVID-19+  ...   \n1                      participant id: CB0102  ...   \n2                                 Sex: female  ...   \n3                                     age: 29  ...   \n4  covid-19 vaccination history: unvaccinated  ...   \n\n                                 GSM7784037  \\\n0        disease status: Healthy uninfected   \n1                    participant id: HC0105   \n2                               Sex: female   \n3                                   age: 40   \n4  covid-19 vaccination history: vaccinated   \n\n                                 GSM7784038  \\\n0        disease status: Healthy uninfected   \n1                    participant id: HC0105   \n2                               Sex: female   \n3                                   age: 40   \n4  covid-19 vaccination history: vaccinated   \n\n                                 GSM7784039  \\\n0        disease status: Healthy uninfected   \n1                    participant id: HC0105   \n2                               Sex: female   \n3                                   age: 40   \n4  covid-19 vaccination history: vaccinated   \n\n                                 GSM7784040  \\\n0        disease status: Healthy uninfected   \n1                    participant id: HC0105   \n2                               Sex: female   \n3                                   age: 40   \n4  covid-19 vaccination history: vaccinated   \n\n                                 GSM7784041  \\\n0        disease status: Healthy uninfected   \n1                    participant id: CA0101   \n2                                 Sex: male   \n3                                   age: 36   \n4  covid-19 vaccination history: vaccinated   \n\n                                   GSM7784042  \\\n0          disease status: Healthy uninfected   \n1                      participant id: CA0108   \n2                                 Sex: female   \n3                                     age: 24   \n4  covid-19 vaccination history: unvaccinated   \n\n                                 GSM7784043  \\\n0        disease status: Healthy uninfected   \n1                    participant id: CA0112   \n2                               Sex: female   \n3                                   age: 28   \n4  covid-19 vaccination history: vaccinated   \n\n                                   GSM7784044  \\\n0          disease status: Healthy uninfected   \n1                      participant id: CA0113   \n2                                 Sex: female   \n3                                     age: 36   \n4  covid-19 vaccination history: unvaccinated   \n\n                                   GSM7784045  \\\n0          disease status: Healthy uninfected   \n1                      participant id: CA0119   \n2                                   Sex: male   \n3                                     age: 27   \n4  covid-19 vaccination history: unvaccinated   \n\n                                 GSM7784046  \n0        disease status: Healthy uninfected  \n1                    participant id: CA0120  \n2                                 Sex: male  \n3                                   age: 38  \n4  covid-19 vaccination history: vaccinated  \n\n[5 rows x 238 columns]",
      "text/html": "<div>\n<style scoped>\n    .dataframe tbody tr th:only-of-type {\n        vertical-align: middle;\n    }\n\n    .dataframe tbody tr th {\n        vertical-align: top;\n    }\n\n    .dataframe thead th {\n        text-align: right;\n    }\n</style>\n<table border=\"1\" class=\"dataframe\">\n  <thead>\n    <tr style=\"text-align: right;\">\n      <th></th>\n      <th>!Sample_geo_accession</th>\n      <th>GSM7783810</th>\n      <th>GSM7783811</th>\n      <th>GSM7783812</th>\n      <th>GSM7783813</th>\n      <th>GSM7783814</th>\n      <th>GSM7783815</th>\n      <th>GSM7783816</th>\n      <th>GSM7783817</th>\n      <th>GSM7783818</th>\n      <th>...</th>\n      <th>GSM7784037</th>\n      <th>GSM7784038</th>\n      <th>GSM7784039</th>\n      <th>GSM7784040</th>\n      <th>GSM7784041</th>\n      <th>GSM7784042</th>\n      <th>GSM7784043</th>\n      <th>GSM7784044</th>\n      <th>GSM7784045</th>\n      <th>GSM7784046</th>\n    </tr>\n  </thead>\n  <tbody>\n    <tr>\n      <th>0</th>\n      <td>!Sample_characteristics_ch1</td>\n      <td>disease status: COVID-19+</td>\n      <td>disease status: COVID-19+</td>\n      <td>disease status: COVID-19+</td>\n      <td>disease status: COVID-19+</td>\n      <td>disease status: COVID-19+</td>\n      <td>disease status: COVID-19+</td>\n      <td>disease status: COVID-19+</td>\n      <td>disease status: COVID-19+</td>\n      <td>disease status: COVID-19+</td>\n      <td>...</td>\n      <td>disease status: Healthy uninfected</td>\n      <td>disease status: Healthy uninfected</td>\n      <td>disease status: Healthy uninfected</td>\n      <td>disease status: Healthy uninfected</td>\n      <td>disease status: Healthy uninfected</td>\n      <td>disease status: Healthy uninfected</td>\n      <td>disease status: Healthy uninfected</td>\n      <td>disease status: Healthy uninfected</td>\n      <td>disease status: Healthy uninfected</td>\n      <td>disease status: Healthy uninfected</td>\n    </tr>\n    <tr>\n      <th>1</th>\n      <td>!Sample_characteristics_ch1</td>\n      <td>participant id: CB0101</td>\n      <td>participant id: CB0101</td>\n      <td>participant id: CB0101</td>\n      <td>participant id: CB0101</td>\n      <td>participant id: CB0101</td>\n      <td>participant id: CB0101</td>\n      <td>participant id: CB0101</td>\n      <td>participant id: CB0102</td>\n      <td>participant id: CB0102</td>\n      <td>...</td>\n      <td>participant id: HC0105</td>\n      <td>participant id: HC0105</td>\n      <td>participant id: HC0105</td>\n      <td>participant id: HC0105</td>\n      <td>participant id: CA0101</td>\n      <td>participant id: CA0108</td>\n      <td>participant id: CA0112</td>\n      <td>participant id: CA0113</td>\n      <td>participant id: CA0119</td>\n      <td>participant id: CA0120</td>\n    </tr>\n    <tr>\n      <th>2</th>\n      <td>!Sample_characteristics_ch1</td>\n      <td>Sex: female</td>\n      <td>Sex: female</td>\n      <td>Sex: female</td>\n      <td>Sex: female</td>\n      <td>Sex: female</td>\n      <td>Sex: female</td>\n      <td>Sex: female</td>\n      <td>Sex: female</td>\n      <td>Sex: female</td>\n      <td>...</td>\n      <td>Sex: female</td>\n      <td>Sex: female</td>\n      <td>Sex: female</td>\n      <td>Sex: female</td>\n      <td>Sex: male</td>\n      <td>Sex: female</td>\n      <td>Sex: female</td>\n      <td>Sex: female</td>\n      <td>Sex: male</td>\n      <td>Sex: male</td>\n    </tr>\n    <tr>\n      <th>3</th>\n      <td>!Sample_characteristics_ch1</td>\n      <td>age: 44</td>\n      <td>age: 44</td>\n      <td>age: 44</td>\n      <td>age: 44</td>\n      <td>age: 44</td>\n      <td>age: 44</td>\n      <td>age: 44</td>\n      <td>age: 29</td>\n      <td>age: 29</td>\n      <td>...</td>\n      <td>age: 40</td>\n      <td>age: 40</td>\n      <td>age: 40</td>\n      <td>age: 40</td>\n      <td>age: 36</td>\n      <td>age: 24</td>\n      <td>age: 28</td>\n      <td>age: 36</td>\n      <td>age: 27</td>\n      <td>age: 38</td>\n    </tr>\n    <tr>\n      <th>4</th>\n      <td>!Sample_characteristics_ch1</td>\n      <td>covid-19 vaccination history: unvaccinated</td>\n      <td>covid-19 vaccination history: unvaccinated</td>\n      <td>covid-19 vaccination history: unvaccinated</td>\n      <td>covid-19 vaccination history: unvaccinated</td>\n      <td>covid-19 vaccination history: unvaccinated</td>\n      <td>covid-19 vaccination history: unvaccinated</td>\n      <td>covid-19 vaccination history: unvaccinated</td>\n      <td>covid-19 vaccination history: unvaccinated</td>\n      <td>covid-19 vaccination history: unvaccinated</td>\n      <td>...</td>\n      <td>covid-19 vaccination history: vaccinated</td>\n      <td>covid-19 vaccination history: vaccinated</td>\n      <td>covid-19 vaccination history: vaccinated</td>\n      <td>covid-19 vaccination history: vaccinated</td>\n      <td>covid-19 vaccination history: vaccinated</td>\n      <td>covid-19 vaccination history: unvaccinated</td>\n      <td>covid-19 vaccination history: vaccinated</td>\n      <td>covid-19 vaccination history: unvaccinated</td>\n      <td>covid-19 vaccination history: unvaccinated</td>\n      <td>covid-19 vaccination history: vaccinated</td>\n    </tr>\n  </tbody>\n</table>\n<p>5 rows × 238 columns</p>\n</div>"
     },
     "execution_count": 12,
     "metadata": {},
     "output_type": "execute_result"
    }
   ],
   "source": [
    "clinical_data.head()"
   ],
   "metadata": {
    "collapsed": false,
    "ExecuteTime": {
     "end_time": "2024-01-27T00:26:19.587722083Z",
     "start_time": "2024-01-27T00:26:19.577181889Z"
    }
   }
  },
  {
   "cell_type": "code",
   "execution_count": 13,
   "outputs": [
    {
     "data": {
      "text/plain": "{0: ['disease status: COVID-19+', 'disease status: Healthy uninfected'],\n 1: ['participant id: CB0101',\n  'participant id: CB0102',\n  'participant id: CB0104',\n  'participant id: CB0106',\n  'participant id: CB0107',\n  'participant id: CB0111',\n  'participant id: CB0112',\n  'participant id: CB0113',\n  'participant id: CB0115',\n  'participant id: CB0116',\n  'participant id: CB0117',\n  'participant id: CB0118',\n  'participant id: CB0119',\n  'participant id: CB0120',\n  'participant id: CB0121',\n  'participant id: CB0122',\n  'participant id: CB0123',\n  'participant id: CB0124',\n  'participant id: CB0125',\n  'participant id: CB0128',\n  'participant id: CB0129',\n  'participant id: CB0130',\n  'participant id: CB0131',\n  'participant id: CB0132',\n  'participant id: CB0133',\n  'participant id: CB0134',\n  'participant id: CB0135',\n  'participant id: CB0136',\n  'participant id: CB0138',\n  'participant id: CB0139'],\n 2: ['Sex: female', 'Sex: male'],\n 3: ['age: 44',\n  'age: 29',\n  'age: 51',\n  'age: 32',\n  'age: 27',\n  'age: 30',\n  'age: 41',\n  'age: 43',\n  'age: 34',\n  'age: 60',\n  'age: 24',\n  'age: 36',\n  'age: 33',\n  'age: 53',\n  'age: 31',\n  'age: 59',\n  'age: 40',\n  'age: 65',\n  'age: 37',\n  'age: 39',\n  'age: 58',\n  'age: 42',\n  'age: 28',\n  'age: 38'],\n 4: ['covid-19 vaccination history: unvaccinated',\n  'covid-19 vaccination history: vaccinated',\n  'covid-19 vaccination history: partial'],\n 5: ['day post symptom onset: 10',\n  'day post symptom onset: 13',\n  'day post symptom onset: 15',\n  'day post symptom onset: 17',\n  'day post symptom onset: 19',\n  'day post symptom onset: 21',\n  'day post symptom onset: 23',\n  'day post symptom onset: 9',\n  'day post symptom onset: 11',\n  'day post symptom onset: 8',\n  'day post symptom onset: 12',\n  'day post symptom onset: 14',\n  'day post symptom onset: 16',\n  'day post symptom onset: 18',\n  'day post symptom onset: 20',\n  'day post symptom onset: 27',\n  'day post symptom onset: 25',\n  'day post symptom onset: 5',\n  'day post symptom onset: 7',\n  'day post symptom onset: 6',\n  'day post symptom onset: 22',\n  'day post symptom onset: 24',\n  'day post symptom onset: 26',\n  'day post symptom onset: 28',\n  'study day: 1',\n  'study day: 3',\n  'study day: 5',\n  'study day: 7',\n  'study day: 9',\n  'study day: 11'],\n 6: ['study day: 1',\n  'study day: 4',\n  'study day: 6',\n  'study day: 8',\n  'study day: 10',\n  'study day: 12',\n  'study day: 14',\n  'study day: 3',\n  'study day: 5',\n  'study day: 9',\n  'study day: 11',\n  'study day: 13',\n  'study day: 7',\n  'study day: 15',\n  'ncounter host response codeset: V1.0',\n  'ncounter host response codeset: V1.1'],\n 7: ['ncounter host response codeset: V1.0',\n  'ncounter host response codeset: V1.1',\n  nan]}"
     },
     "execution_count": 13,
     "metadata": {},
     "output_type": "execute_result"
    }
   ],
   "source": [
    "clinical_data_unique = get_unique_values_by_row(clinical_data)\n",
    "clinical_data_unique"
   ],
   "metadata": {
    "collapsed": false,
    "ExecuteTime": {
     "end_time": "2024-01-27T00:26:19.849788418Z",
     "start_time": "2024-01-27T00:26:19.804487856Z"
    }
   }
  },
  {
   "cell_type": "markdown",
   "source": [
    "Analyze the metadata to determine data relevance and find ways to extract the clinical data.\n",
    "Reference prompt:"
   ],
   "metadata": {
    "collapsed": false,
    "ExecuteTime": {
     "end_time": "2023-12-31T03:58:04.978204446Z",
     "start_time": "2023-12-31T03:58:04.922270095Z"
    }
   },
   "outputs": [
    {
     "data": {
      "text/plain": "'As a biomedical research team, we are selecting datasets to study the association between the human trait \\'Breast Cancer\\' and genetic factors, optionally considering the influence of age and gender. After searching the GEO database and parsing the matrix file of a series, we obtained background information and sample characteristics data. We will provide textual information about the dataset background, and a Python dictionary storing a list of unique values for each field of the sample characteristics data. Please carefully review the provided information and answer the following questions about this dataset:\\n1. Does this dataset contain gene expression data? (Note: Pure miRNA data is not suitable.)\\n2. For each of the traits \\'Breast Cancer\\', \\'age\\', and \\'gender\\', please address these points:\\n   (1) Is there human data available for this trait?\\n   (2) If so, identify the key in the sample characteristics dictionary where unique values of this trait is recorded. The key is an integer. The trait information might be explicitly recorded, or can be inferred from the field with some biomedical knowledge or understanding about the data collection process.\\n   (3) Choose an appropriate data type (either \\'continuous\\' or \\'binary\\') for each trait. Write a Python function to convert any given value of the trait to this data type. The function should handle inference about the trait value and convert unknown values to None.\\n   Name the functions \\'convert_trait\\', \\'convert_age\\', and \\'convert_gender\\', respectively.\\n\\nBackground information about the dataset:\\n!Series_title\\t\"Unlocking Molecular mechanisms and identifying druggable targets in matched-paired brain metastasis of Breast and Lung cancers\\xa0\"\\n!Series_summary\\t\"Introduction: The incidence of brain metastases in cancer patients is increasing, with lung and breast cancer being the most common sources. Despite advancements in targeted therapies, the prognosis remains poor, highlighting the importance to investigate the underlying mechanisms in brain metastases. The aim of this study was to investigate the differences in the molecular mechanisms involved in brain metastasis of breast and lung cancers. In addition, we aimed to identify cancer lineage-specific druggable targets in the brain metastasis. Methods: To that aim, a cohort of 44 FFPE tissue samples, including 22 breast cancer and 22 lung adenocarcinoma (LUAD) and their matched-paired brain metastases were collected. Targeted gene expression profiles of primary tumors were compared to their matched-paired brain metastases samples using nCounter PanCancer IO 360™ Panel of NanoString technologies. Pathway analysis was performed using gene set analysis (GSA) and gene set enrichment analysis (GSEA). The validation was performed by using Immunohistochemistry (IHC) to confirm the expression of immune checkpoint inhibitors. Results: Our results revealed the significant upregulation of cancer-related genes in primary tumors compared to their matched-paired brain metastases (adj. p\\u2009≤\\u20090.05). We found that upregulated differentially expressed genes in breast cancer brain metastasis (BM-BC) and brain metastasis from lung adenocarcinoma (BM-LUAD) were associated with the metabolic stress pathway, particularly related to the glycolysis. Additionally, we found that the upregulated genes in BM-BC and BM-LUAD played roles in immune response regulation, tumor growth, and proliferation. Importantly, we identified high expression of the immune checkpoint VTCN1 in BM-BC, and VISTA, IDO1, NT5E, and HDAC3 in BM-LUAD. Validation using immunohistochemistry further supported these findings. Conclusion: In conclusion, the findings highlight the significance of using matched-paired samples to identify cancer lineage-specific therapies that may improve brain metastasis patients outcomes.\"\\n!Series_overall_design\\t\"RNA was extracted from FFPE samples of (primary LUAD and their matched paired brain metastasis n=22, primary BC and their matched paired brain metastasis n=22)\"\\n\\nSample characteristics dictionary (from \"!Sample_characteristics_ch1\", converted to a Python dictionary that stores the unique values for each field):\\n{0: [\\'age at diagnosis: 49\\', \\'age at diagnosis: 44\\', \\'age at diagnosis: 41\\', \\'age at diagnosis: 40\\', \\'age at diagnosis: 48\\', \\'age at diagnosis: 42\\', \\'age at diagnosis: 47\\', \\'age at diagnosis: 53\\', \\'age at diagnosis: 74\\', \\'age at diagnosis: 58\\', \\'age at diagnosis: 51\\', \\'age at diagnosis: 55\\', \\'age at diagnosis: 46\\', \\'age at diagnosis: 59\\', \\'age at diagnosis: 50\\', \\'age at diagnosis: 57\\', \\'age at diagnosis: 60\\', \\'age at diagnosis: 69\\', \\'age at diagnosis: n.a.\\', \\'age at diagnosis: 65\\', \\'age at diagnosis: 37\\', \\'age at diagnosis: 63\\', \\'age at diagnosis: 70\\', \\'age at diagnosis: 66\\', \\'age at diagnosis: 64\\'], 1: [\\'Sex: female\\', \\'Sex: male\\'], 2: [\\'histology: TNBC\\', \\'histology: ER+ PR+ HER2-\\', \\'histology: Unknown\\', \\'histology: ER- PR- HER2+\\', \\'histology: ER+ PR-HER2+\\', \\'histology: ER+ PR- HER2-\\', \\'histology: ER- PR+ HER2-\\', \\'histology: adenocaricnoma\\'], 3: [\\'smoking status: n.a\\', \\'smoking status: former-smoker\\', \\'smoking status: smoker\\', \\'smoking status: Never smoking\\', \\'smoking status: unknown\\', \\'smoking status: former-roker\\'], 4: [\\'treatment after surgery of bm: surgery + chemotherpy\\', \\'treatment after surgery of bm: surgery +  chemotherpy + Radiotherapy\\', \\'treatment after surgery of bm: surgery + chemotherapy + Radiotherapy\\', \\'treatment after surgery of bm: surgery\\', \\'treatment after surgery of bm: surgery +  chemotherapy + Radiotherapy\\', \\'treatment after surgery of bm: surgery + chemotherapy\\', \\'treatment after surgery of bm: surgery + chemotherpy + Radiotherapy\\', \\'treatment after surgery of bm: surgery + chemotheapy + Radiotherapy\\', \\'treatment after surgery of bm: Chemoterapy\\', \\'treatment after surgery of bm: Radiotherapy & Chemoterapy\\', \\'treatment after surgery of bm: Radiotherapy\\', \\'treatment after surgery of bm: Other\\', \\'treatment after surgery of bm: Surgery & Chemotherapy & Radiotherapy\\', \\'treatment after surgery of bm: surgery & Radiotherapy\\', \\'treatment after surgery of bm: surgery & Radiochemotherapy\\', \\'treatment after surgery of bm: No treatment\\', \\'treatment after surgery of bm: WBRT\\', \\'treatment after surgery of bm: SRT\\']}\\n'"
     },
     "execution_count": 29,
     "metadata": {},
     "output_type": "execute_result"
    }
   ],
   "execution_count": 29
  },
  {
   "cell_type": "code",
   "execution_count": 14,
   "outputs": [
    {
     "data": {
      "text/plain": "'As a biomedical research team, we are selecting datasets to study the association between the human trait \\'COVID-19\\' and genetic factors, optionally considering the influence of age and gender. After searching the GEO database and parsing the matrix file of a series, we obtained background information and sample characteristics data. We will provide textual information about the dataset background, and a Python dictionary storing a list of unique values for each field of the sample characteristics data. Please carefully review the provided information and answer the following questions about this dataset:\\n1. Does this dataset contain gene expression data? (Note: Pure miRNA data is not suitable.)\\n2. For each of the traits \\'COVID-19\\', \\'age\\', and \\'gender\\', please address these points:\\n   (1) Is there human data available for this trait?\\n   (2) If so, identify the key in the sample characteristics dictionary where unique values of this trait is recorded. The key is an integer. The trait information might be explicitly recorded, or can be inferred from the field with some biomedical knowledge or understanding about the data collection process.\\n   (3) Choose an appropriate data type (either \\'continuous\\' or \\'binary\\') for each trait. Write a Python function to convert any given value of the trait to this data type. Do remember to separate the value by colon \\':\\' first, as the row header should not be included in the returned value. The function should handle inference about the trait value and convert unknown values to None.\\n   Name the functions \\'convert_trait\\', \\'convert_age\\', and \\'convert_gender\\', respectively.\\n\\nBackground information about the dataset:\\n!Series_title\\t\"Longitudinal gene expression profiling of self-collected blood samples in COVID-19+ and healthy participants\"\\n!Series_summary\\t\"Longitudinal cohort: 773 host response genes were profiled in previously vaccinated (n=16) and unvaccinated (n=14) COVID-19+ participants along with 5 healthy uninfected controls across a 2-week observational window\"\\n!Series_summary\\t\"Single timepoint cohort: 773 host response genes were profiled in 6 healthy uninfected participants\"\\n!Series_overall_design\\t\"Longitudinal cohort: 30 COVID-19+ and 5 uninfected participants were asked perform self-collection and stabilization of capillary blood using a novel technology (homeRNA) every other day for two weeks (7 longtiudinal timepoints per participant). Temporal kinetics of 773 immune genes were profiled using the nCounter direct digital counting of native mRNA.\"\\n!Series_overall_design\\t\"Single timepoint cohort: 6 healthy uninfected participants were asked perform self-collection and stabilization of capillary blood using a novel technology (homeRNA). Temporal kinetics of 773 immune genes were profiled using the nCounter direct digital counting of native mRNA.\"\\n\\nSample characteristics dictionary (from \"!Sample_characteristics_ch1\", converted to a Python dictionary that stores the unique values for each field):\\n{0: [\\'disease status: COVID-19+\\', \\'disease status: Healthy uninfected\\'], 1: [\\'participant id: CB0101\\', \\'participant id: CB0102\\', \\'participant id: CB0104\\', \\'participant id: CB0106\\', \\'participant id: CB0107\\', \\'participant id: CB0111\\', \\'participant id: CB0112\\', \\'participant id: CB0113\\', \\'participant id: CB0115\\', \\'participant id: CB0116\\', \\'participant id: CB0117\\', \\'participant id: CB0118\\', \\'participant id: CB0119\\', \\'participant id: CB0120\\', \\'participant id: CB0121\\', \\'participant id: CB0122\\', \\'participant id: CB0123\\', \\'participant id: CB0124\\', \\'participant id: CB0125\\', \\'participant id: CB0128\\', \\'participant id: CB0129\\', \\'participant id: CB0130\\', \\'participant id: CB0131\\', \\'participant id: CB0132\\', \\'participant id: CB0133\\', \\'participant id: CB0134\\', \\'participant id: CB0135\\', \\'participant id: CB0136\\', \\'participant id: CB0138\\', \\'participant id: CB0139\\'], 2: [\\'Sex: female\\', \\'Sex: male\\'], 3: [\\'age: 44\\', \\'age: 29\\', \\'age: 51\\', \\'age: 32\\', \\'age: 27\\', \\'age: 30\\', \\'age: 41\\', \\'age: 43\\', \\'age: 34\\', \\'age: 60\\', \\'age: 24\\', \\'age: 36\\', \\'age: 33\\', \\'age: 53\\', \\'age: 31\\', \\'age: 59\\', \\'age: 40\\', \\'age: 65\\', \\'age: 37\\', \\'age: 39\\', \\'age: 58\\', \\'age: 42\\', \\'age: 28\\', \\'age: 38\\'], 4: [\\'covid-19 vaccination history: unvaccinated\\', \\'covid-19 vaccination history: vaccinated\\', \\'covid-19 vaccination history: partial\\'], 5: [\\'day post symptom onset: 10\\', \\'day post symptom onset: 13\\', \\'day post symptom onset: 15\\', \\'day post symptom onset: 17\\', \\'day post symptom onset: 19\\', \\'day post symptom onset: 21\\', \\'day post symptom onset: 23\\', \\'day post symptom onset: 9\\', \\'day post symptom onset: 11\\', \\'day post symptom onset: 8\\', \\'day post symptom onset: 12\\', \\'day post symptom onset: 14\\', \\'day post symptom onset: 16\\', \\'day post symptom onset: 18\\', \\'day post symptom onset: 20\\', \\'day post symptom onset: 27\\', \\'day post symptom onset: 25\\', \\'day post symptom onset: 5\\', \\'day post symptom onset: 7\\', \\'day post symptom onset: 6\\', \\'day post symptom onset: 22\\', \\'day post symptom onset: 24\\', \\'day post symptom onset: 26\\', \\'day post symptom onset: 28\\', \\'study day: 1\\', \\'study day: 3\\', \\'study day: 5\\', \\'study day: 7\\', \\'study day: 9\\', \\'study day: 11\\'], 6: [\\'study day: 1\\', \\'study day: 4\\', \\'study day: 6\\', \\'study day: 8\\', \\'study day: 10\\', \\'study day: 12\\', \\'study day: 14\\', \\'study day: 3\\', \\'study day: 5\\', \\'study day: 9\\', \\'study day: 11\\', \\'study day: 13\\', \\'study day: 7\\', \\'study day: 15\\', \\'ncounter host response codeset: V1.0\\', \\'ncounter host response codeset: V1.1\\'], 7: [\\'ncounter host response codeset: V1.0\\', \\'ncounter host response codeset: V1.1\\', nan]}\\n'"
     },
     "execution_count": 14,
     "metadata": {},
     "output_type": "execute_result"
    }
   ],
   "source": [
    "\n",
    "f'''As a biomedical research team, we are selecting datasets to study the association between the human trait \\'{TRAIT}\\' and genetic factors, optionally considering the influence of age and gender. After searching the GEO database and parsing the matrix file of a series, we obtained background information and sample characteristics data. We will provide textual information about the dataset background, and a Python dictionary storing a list of unique values for each field of the sample characteristics data. Please carefully review the provided information and answer the following questions about this dataset:\n",
    "1. Does this dataset contain gene expression data? (Note: Pure miRNA data is not suitable.)\n",
    "2. For each of the traits \\'{TRAIT}\\', 'age', and 'gender', please address these points:\n",
    "   (1) Is there human data available for this trait?\n",
    "   (2) If so, identify the key in the sample characteristics dictionary where unique values of this trait is recorded. The key is an integer. The trait information might be explicitly recorded, or can be inferred from the field with some biomedical knowledge or understanding about the data collection process.\n",
    "   (3) Choose an appropriate data type (either 'continuous' or 'binary') for each trait. Write a Python function to convert any given value of the trait to this data type. Do remember to separate the value by colon ':' first, as the row header should not be included in the returned value. The function should handle inference about the trait value and convert unknown values to None.\n",
    "   Name the functions 'convert_trait', 'convert_age', and 'convert_gender', respectively.\n",
    "\n",
    "Background information about the dataset:\n",
    "{background_info}\n",
    "\n",
    "Sample characteristics dictionary (from \"!Sample_characteristics_ch1\", converted to a Python dictionary that stores the unique values for each field):\n",
    "{clinical_data_unique}\n",
    "'''"
   ],
   "metadata": {
    "collapsed": false,
    "ExecuteTime": {
     "end_time": "2024-01-27T00:26:20.280448333Z",
     "start_time": "2024-01-27T00:26:20.259659408Z"
    }
   }
  },
  {
   "cell_type": "markdown",
   "source": [
    "Understand and verify the answer from GPT, to assign values to the below variables. Assign None to the 'row_id' variables if relevant data row was not found.\n",
    "Later we need to let GPT format its answer to automatically do these. But given the complexity of this step, let's grow some insight from the free-text answers for now."
   ],
   "metadata": {
    "collapsed": false,
    "ExecuteTime": {
     "end_time": "2023-12-31T03:58:04.978240504Z",
     "start_time": "2023-12-31T03:58:04.922365324Z"
    }
   },
   "outputs": [],
   "execution_count": 30
  },
  {
   "cell_type": "code",
   "execution_count": 15,
   "outputs": [],
   "source": [
    "age_row = gender_row = None\n",
    "convert_age = convert_gender = None"
   ],
   "metadata": {
    "collapsed": false,
    "ExecuteTime": {
     "end_time": "2024-01-27T00:27:40.470063626Z",
     "start_time": "2024-01-27T00:27:40.402995173Z"
    }
   }
  },
  {
   "cell_type": "code",
   "execution_count": 16,
   "outputs": [],
   "source": [
    "is_gene_availabe = True\n",
    "trait_row = 0\n",
    "age_row = 3\n",
    "gender_row = 2\n",
    "\n",
    "trait_type = 'binary'"
   ],
   "metadata": {
    "collapsed": false,
    "ExecuteTime": {
     "end_time": "2024-01-27T00:27:40.730451922Z",
     "start_time": "2024-01-27T00:27:40.725802566Z"
    }
   }
  },
  {
   "cell_type": "code",
   "execution_count": 17,
   "outputs": [],
   "source": [
    "is_available = is_gene_availabe and (trait_row is not None)\n",
    "if not is_available:\n",
    "    save_cohort_info(cohort, JSON_PATH, is_available)\n",
    "    print(\"This cohort is not usable. Please skip the following steps and jump to the next accession number.\")"
   ],
   "metadata": {
    "collapsed": false,
    "ExecuteTime": {
     "end_time": "2024-01-27T00:27:41.186057387Z",
     "start_time": "2024-01-27T00:27:41.178864274Z"
    }
   }
  },
  {
   "cell_type": "code",
   "execution_count": 18,
   "outputs": [],
   "source": [
    "# Verify and use the functions generated by GPT\n",
    "\n",
    "def convert_trait(value):\n",
    "    value = value.split(':')[1].strip()\n",
    "    if value == 'COVID-19+':\n",
    "        return 1\n",
    "    elif value == 'Healthy uninfected':\n",
    "        return 0\n",
    "    else:\n",
    "        return None\n",
    "\n",
    "def convert_age(value):\n",
    "    try:\n",
    "        age = int(value.split(':')[1].strip())\n",
    "        return age\n",
    "    except ValueError:\n",
    "        return None\n",
    "\n",
    "def convert_gender(value):\n",
    "    value = value.split(':')[1].strip()\n",
    "    if value == 'female':\n",
    "        return 0\n",
    "    elif value == 'male':\n",
    "        return 1\n",
    "    else:\n",
    "        return None\n"
   ],
   "metadata": {
    "collapsed": false,
    "ExecuteTime": {
     "end_time": "2024-01-27T00:27:41.809099853Z",
     "start_time": "2024-01-27T00:27:41.797004692Z"
    }
   }
  },
  {
   "cell_type": "code",
   "execution_count": 19,
   "outputs": [
    {
     "data": {
      "text/plain": "          GSM7783810  GSM7783811  GSM7783812  GSM7783813  GSM7783814  \\\nCOVID-19           1           1           1           1           1   \nAge               44          44          44          44          44   \nGender             0           0           0           0           0   \n\n          GSM7783815  GSM7783816  GSM7783817  GSM7783818  GSM7783819  ...  \\\nCOVID-19           1           1           1           1           1  ...   \nAge               44          44          29          29          29  ...   \nGender             0           0           0           0           0  ...   \n\n          GSM7784037  GSM7784038  GSM7784039  GSM7784040  GSM7784041  \\\nCOVID-19           0           0           0           0           0   \nAge               40          40          40          40          36   \nGender             0           0           0           0           1   \n\n          GSM7784042  GSM7784043  GSM7784044  GSM7784045  GSM7784046  \nCOVID-19           0           0           0           0           0  \nAge               24          28          36          27          38  \nGender             0           0           0           1           1  \n\n[3 rows x 237 columns]",
      "text/html": "<div>\n<style scoped>\n    .dataframe tbody tr th:only-of-type {\n        vertical-align: middle;\n    }\n\n    .dataframe tbody tr th {\n        vertical-align: top;\n    }\n\n    .dataframe thead th {\n        text-align: right;\n    }\n</style>\n<table border=\"1\" class=\"dataframe\">\n  <thead>\n    <tr style=\"text-align: right;\">\n      <th></th>\n      <th>GSM7783810</th>\n      <th>GSM7783811</th>\n      <th>GSM7783812</th>\n      <th>GSM7783813</th>\n      <th>GSM7783814</th>\n      <th>GSM7783815</th>\n      <th>GSM7783816</th>\n      <th>GSM7783817</th>\n      <th>GSM7783818</th>\n      <th>GSM7783819</th>\n      <th>...</th>\n      <th>GSM7784037</th>\n      <th>GSM7784038</th>\n      <th>GSM7784039</th>\n      <th>GSM7784040</th>\n      <th>GSM7784041</th>\n      <th>GSM7784042</th>\n      <th>GSM7784043</th>\n      <th>GSM7784044</th>\n      <th>GSM7784045</th>\n      <th>GSM7784046</th>\n    </tr>\n  </thead>\n  <tbody>\n    <tr>\n      <th>COVID-19</th>\n      <td>1</td>\n      <td>1</td>\n      <td>1</td>\n      <td>1</td>\n      <td>1</td>\n      <td>1</td>\n      <td>1</td>\n      <td>1</td>\n      <td>1</td>\n      <td>1</td>\n      <td>...</td>\n      <td>0</td>\n      <td>0</td>\n      <td>0</td>\n      <td>0</td>\n      <td>0</td>\n      <td>0</td>\n      <td>0</td>\n      <td>0</td>\n      <td>0</td>\n      <td>0</td>\n    </tr>\n    <tr>\n      <th>Age</th>\n      <td>44</td>\n      <td>44</td>\n      <td>44</td>\n      <td>44</td>\n      <td>44</td>\n      <td>44</td>\n      <td>44</td>\n      <td>29</td>\n      <td>29</td>\n      <td>29</td>\n      <td>...</td>\n      <td>40</td>\n      <td>40</td>\n      <td>40</td>\n      <td>40</td>\n      <td>36</td>\n      <td>24</td>\n      <td>28</td>\n      <td>36</td>\n      <td>27</td>\n      <td>38</td>\n    </tr>\n    <tr>\n      <th>Gender</th>\n      <td>0</td>\n      <td>0</td>\n      <td>0</td>\n      <td>0</td>\n      <td>0</td>\n      <td>0</td>\n      <td>0</td>\n      <td>0</td>\n      <td>0</td>\n      <td>0</td>\n      <td>...</td>\n      <td>0</td>\n      <td>0</td>\n      <td>0</td>\n      <td>0</td>\n      <td>1</td>\n      <td>0</td>\n      <td>0</td>\n      <td>0</td>\n      <td>1</td>\n      <td>1</td>\n    </tr>\n  </tbody>\n</table>\n<p>3 rows × 237 columns</p>\n</div>"
     },
     "execution_count": 19,
     "metadata": {},
     "output_type": "execute_result"
    }
   ],
   "source": [
    "selected_clinical_data = geo_select_clinical_features(clinical_data, TRAIT, trait_row, convert_trait, age_row=age_row,\n",
    "                                                      convert_age=convert_age, gender_row=gender_row,\n",
    "                                                      convert_gender=convert_gender)\n",
    "selected_clinical_data.head()"
   ],
   "metadata": {
    "collapsed": false,
    "ExecuteTime": {
     "end_time": "2024-01-27T00:27:42.253084511Z",
     "start_time": "2024-01-27T00:27:42.190660782Z"
    }
   }
  },
  {
   "cell_type": "markdown",
   "source": [
    "### Genetic data preprocessing and final filtering"
   ],
   "metadata": {
    "collapsed": false,
    "ExecuteTime": {
     "end_time": "2023-12-31T03:58:04.978664193Z",
     "start_time": "2023-12-31T03:58:04.966117261Z"
    }
   },
   "outputs": [
    {
     "data": {
      "text/plain": "       ID  GSM7920782  GSM7920783  GSM7920784  GSM7920785  GSM7920786  \\\n0     A2M   13.210102   13.237969   14.728878   15.399663   12.970464   \n1  ACVR1C    5.128485    5.336850    5.611523    5.041711    6.342262   \n2  ADAM12    9.806557   12.374397    9.953351    8.507092   11.402156   \n3  ADGRE1    4.128485    3.751888    4.611523    4.582279    3.771514   \n4     ADM   10.953762   10.544678    8.155844    9.333824    8.438938   \n\n   GSM7920787  GSM7920788  GSM7920789  GSM7920790  ...  GSM7920816  \\\n0   13.014807   12.521967   13.055481   13.219538  ...   12.635802   \n1    5.005301    4.148600    5.665523    5.548821  ...    5.756039   \n2   10.739489    9.114680   11.095729    8.762302  ...    8.280338   \n3    4.420338    2.863198    4.800452    3.860765  ...    2.806079   \n4    9.446117    8.285262    8.551518    9.567357  ...   11.577869   \n\n   GSM7920817  GSM7920818  GSM7920819  GSM7920820  GSM7920821  GSM7920822  \\\n0   12.487090   11.743261   13.219376   12.499513   11.719452   12.509194   \n1    6.795792    6.873777    6.848304    5.106051    6.790117    3.936121   \n2    6.973884    7.113936    8.036966    8.398832    5.346283    9.429915   \n3    5.926579    2.066422    6.447342    4.286623    3.665105    3.415288   \n4   11.051458    7.742883    9.596892    6.993576    8.531638    8.579977   \n\n   GSM7920823  GSM7920824  GSM7920825  \n0   11.682523   10.885632   11.277235  \n1    2.998025    6.339292    4.463217  \n2    7.863096   10.774084    4.708329  \n3    1.190670    2.251830   -0.291671  \n4    8.150672    9.623969    7.790478  \n\n[5 rows x 45 columns]",
      "text/html": "<div>\n<style scoped>\n    .dataframe tbody tr th:only-of-type {\n        vertical-align: middle;\n    }\n\n    .dataframe tbody tr th {\n        vertical-align: top;\n    }\n\n    .dataframe thead th {\n        text-align: right;\n    }\n</style>\n<table border=\"1\" class=\"dataframe\">\n  <thead>\n    <tr style=\"text-align: right;\">\n      <th></th>\n      <th>ID</th>\n      <th>GSM7920782</th>\n      <th>GSM7920783</th>\n      <th>GSM7920784</th>\n      <th>GSM7920785</th>\n      <th>GSM7920786</th>\n      <th>GSM7920787</th>\n      <th>GSM7920788</th>\n      <th>GSM7920789</th>\n      <th>GSM7920790</th>\n      <th>...</th>\n      <th>GSM7920816</th>\n      <th>GSM7920817</th>\n      <th>GSM7920818</th>\n      <th>GSM7920819</th>\n      <th>GSM7920820</th>\n      <th>GSM7920821</th>\n      <th>GSM7920822</th>\n      <th>GSM7920823</th>\n      <th>GSM7920824</th>\n      <th>GSM7920825</th>\n    </tr>\n  </thead>\n  <tbody>\n    <tr>\n      <th>0</th>\n      <td>A2M</td>\n      <td>13.210102</td>\n      <td>13.237969</td>\n      <td>14.728878</td>\n      <td>15.399663</td>\n      <td>12.970464</td>\n      <td>13.014807</td>\n      <td>12.521967</td>\n      <td>13.055481</td>\n      <td>13.219538</td>\n      <td>...</td>\n      <td>12.635802</td>\n      <td>12.487090</td>\n      <td>11.743261</td>\n      <td>13.219376</td>\n      <td>12.499513</td>\n      <td>11.719452</td>\n      <td>12.509194</td>\n      <td>11.682523</td>\n      <td>10.885632</td>\n      <td>11.277235</td>\n    </tr>\n    <tr>\n      <th>1</th>\n      <td>ACVR1C</td>\n      <td>5.128485</td>\n      <td>5.336850</td>\n      <td>5.611523</td>\n      <td>5.041711</td>\n      <td>6.342262</td>\n      <td>5.005301</td>\n      <td>4.148600</td>\n      <td>5.665523</td>\n      <td>5.548821</td>\n      <td>...</td>\n      <td>5.756039</td>\n      <td>6.795792</td>\n      <td>6.873777</td>\n      <td>6.848304</td>\n      <td>5.106051</td>\n      <td>6.790117</td>\n      <td>3.936121</td>\n      <td>2.998025</td>\n      <td>6.339292</td>\n      <td>4.463217</td>\n    </tr>\n    <tr>\n      <th>2</th>\n      <td>ADAM12</td>\n      <td>9.806557</td>\n      <td>12.374397</td>\n      <td>9.953351</td>\n      <td>8.507092</td>\n      <td>11.402156</td>\n      <td>10.739489</td>\n      <td>9.114680</td>\n      <td>11.095729</td>\n      <td>8.762302</td>\n      <td>...</td>\n      <td>8.280338</td>\n      <td>6.973884</td>\n      <td>7.113936</td>\n      <td>8.036966</td>\n      <td>8.398832</td>\n      <td>5.346283</td>\n      <td>9.429915</td>\n      <td>7.863096</td>\n      <td>10.774084</td>\n      <td>4.708329</td>\n    </tr>\n    <tr>\n      <th>3</th>\n      <td>ADGRE1</td>\n      <td>4.128485</td>\n      <td>3.751888</td>\n      <td>4.611523</td>\n      <td>4.582279</td>\n      <td>3.771514</td>\n      <td>4.420338</td>\n      <td>2.863198</td>\n      <td>4.800452</td>\n      <td>3.860765</td>\n      <td>...</td>\n      <td>2.806079</td>\n      <td>5.926579</td>\n      <td>2.066422</td>\n      <td>6.447342</td>\n      <td>4.286623</td>\n      <td>3.665105</td>\n      <td>3.415288</td>\n      <td>1.190670</td>\n      <td>2.251830</td>\n      <td>-0.291671</td>\n    </tr>\n    <tr>\n      <th>4</th>\n      <td>ADM</td>\n      <td>10.953762</td>\n      <td>10.544678</td>\n      <td>8.155844</td>\n      <td>9.333824</td>\n      <td>8.438938</td>\n      <td>9.446117</td>\n      <td>8.285262</td>\n      <td>8.551518</td>\n      <td>9.567357</td>\n      <td>...</td>\n      <td>11.577869</td>\n      <td>11.051458</td>\n      <td>7.742883</td>\n      <td>9.596892</td>\n      <td>6.993576</td>\n      <td>8.531638</td>\n      <td>8.579977</td>\n      <td>8.150672</td>\n      <td>9.623969</td>\n      <td>7.790478</td>\n    </tr>\n  </tbody>\n</table>\n<p>5 rows × 45 columns</p>\n</div>"
     },
     "execution_count": 34,
     "metadata": {},
     "output_type": "execute_result"
    }
   ],
   "execution_count": 34
  },
  {
   "cell_type": "code",
   "execution_count": 20,
   "outputs": [
    {
     "data": {
      "text/plain": "       GSM7783810  GSM7783811  GSM7783812  GSM7783813  GSM7783814  GSM7783815  \\\nID                                                                              \nACE         16.29        7.37        9.78       10.50        8.98        6.63   \nACKR2       16.53       19.80       14.36       15.45       16.33       16.01   \nACKR3       20.10       18.44       21.72       21.52       14.50       13.08   \nACKR4        7.57       12.60        8.31        7.60        9.39       14.62   \nACOX1     1054.81     1120.94     1648.33     1673.20     1338.32     1851.71   \n\n       GSM7783816  GSM7783817  GSM7783818  GSM7783819  ...  GSM7784037  \\\nID                                                     ...               \nACE         12.97       16.93       16.10       19.92  ...       21.18   \nACKR2       12.41       25.99       25.12       32.97  ...       19.97   \nACKR3       16.71       25.99       23.19       10.99  ...       29.65   \nACKR4       11.53       21.76       19.32       19.23  ...       44.78   \nACOX1     2153.50     1499.15     1475.12     1340.75  ...     1045.69   \n\n       GSM7784038  GSM7784039  GSM7784040  GSM7784041  GSM7784042  GSM7784043  \\\nID                                                                              \nACE         20.37       22.39       22.27       15.03       21.23        9.07   \nACKR2       11.24       12.66       18.56       22.54       19.71       14.60   \nACKR3       15.45       16.55       23.20       24.05       16.68       21.36   \nACKR4       21.77       12.66       31.55       24.05       30.33        7.59   \nACOX1     1004.44     1040.78     1209.12     1199.25     1194.94     1088.64   \n\n       GSM7784044  GSM7784045  GSM7784046  \nID                                         \nACE         10.96        8.77       14.40  \nACKR2       10.77        8.03       18.31  \nACKR3       22.42       28.28       21.65  \nACKR4       15.43       10.61       18.53  \nACOX1     1232.43     1094.51      975.54  \n\n[5 rows x 237 columns]",
      "text/html": "<div>\n<style scoped>\n    .dataframe tbody tr th:only-of-type {\n        vertical-align: middle;\n    }\n\n    .dataframe tbody tr th {\n        vertical-align: top;\n    }\n\n    .dataframe thead th {\n        text-align: right;\n    }\n</style>\n<table border=\"1\" class=\"dataframe\">\n  <thead>\n    <tr style=\"text-align: right;\">\n      <th></th>\n      <th>GSM7783810</th>\n      <th>GSM7783811</th>\n      <th>GSM7783812</th>\n      <th>GSM7783813</th>\n      <th>GSM7783814</th>\n      <th>GSM7783815</th>\n      <th>GSM7783816</th>\n      <th>GSM7783817</th>\n      <th>GSM7783818</th>\n      <th>GSM7783819</th>\n      <th>...</th>\n      <th>GSM7784037</th>\n      <th>GSM7784038</th>\n      <th>GSM7784039</th>\n      <th>GSM7784040</th>\n      <th>GSM7784041</th>\n      <th>GSM7784042</th>\n      <th>GSM7784043</th>\n      <th>GSM7784044</th>\n      <th>GSM7784045</th>\n      <th>GSM7784046</th>\n    </tr>\n    <tr>\n      <th>ID</th>\n      <th></th>\n      <th></th>\n      <th></th>\n      <th></th>\n      <th></th>\n      <th></th>\n      <th></th>\n      <th></th>\n      <th></th>\n      <th></th>\n      <th></th>\n      <th></th>\n      <th></th>\n      <th></th>\n      <th></th>\n      <th></th>\n      <th></th>\n      <th></th>\n      <th></th>\n      <th></th>\n      <th></th>\n    </tr>\n  </thead>\n  <tbody>\n    <tr>\n      <th>ACE</th>\n      <td>16.29</td>\n      <td>7.37</td>\n      <td>9.78</td>\n      <td>10.50</td>\n      <td>8.98</td>\n      <td>6.63</td>\n      <td>12.97</td>\n      <td>16.93</td>\n      <td>16.10</td>\n      <td>19.92</td>\n      <td>...</td>\n      <td>21.18</td>\n      <td>20.37</td>\n      <td>22.39</td>\n      <td>22.27</td>\n      <td>15.03</td>\n      <td>21.23</td>\n      <td>9.07</td>\n      <td>10.96</td>\n      <td>8.77</td>\n      <td>14.40</td>\n    </tr>\n    <tr>\n      <th>ACKR2</th>\n      <td>16.53</td>\n      <td>19.80</td>\n      <td>14.36</td>\n      <td>15.45</td>\n      <td>16.33</td>\n      <td>16.01</td>\n      <td>12.41</td>\n      <td>25.99</td>\n      <td>25.12</td>\n      <td>32.97</td>\n      <td>...</td>\n      <td>19.97</td>\n      <td>11.24</td>\n      <td>12.66</td>\n      <td>18.56</td>\n      <td>22.54</td>\n      <td>19.71</td>\n      <td>14.60</td>\n      <td>10.77</td>\n      <td>8.03</td>\n      <td>18.31</td>\n    </tr>\n    <tr>\n      <th>ACKR3</th>\n      <td>20.10</td>\n      <td>18.44</td>\n      <td>21.72</td>\n      <td>21.52</td>\n      <td>14.50</td>\n      <td>13.08</td>\n      <td>16.71</td>\n      <td>25.99</td>\n      <td>23.19</td>\n      <td>10.99</td>\n      <td>...</td>\n      <td>29.65</td>\n      <td>15.45</td>\n      <td>16.55</td>\n      <td>23.20</td>\n      <td>24.05</td>\n      <td>16.68</td>\n      <td>21.36</td>\n      <td>22.42</td>\n      <td>28.28</td>\n      <td>21.65</td>\n    </tr>\n    <tr>\n      <th>ACKR4</th>\n      <td>7.57</td>\n      <td>12.60</td>\n      <td>8.31</td>\n      <td>7.60</td>\n      <td>9.39</td>\n      <td>14.62</td>\n      <td>11.53</td>\n      <td>21.76</td>\n      <td>19.32</td>\n      <td>19.23</td>\n      <td>...</td>\n      <td>44.78</td>\n      <td>21.77</td>\n      <td>12.66</td>\n      <td>31.55</td>\n      <td>24.05</td>\n      <td>30.33</td>\n      <td>7.59</td>\n      <td>15.43</td>\n      <td>10.61</td>\n      <td>18.53</td>\n    </tr>\n    <tr>\n      <th>ACOX1</th>\n      <td>1054.81</td>\n      <td>1120.94</td>\n      <td>1648.33</td>\n      <td>1673.20</td>\n      <td>1338.32</td>\n      <td>1851.71</td>\n      <td>2153.50</td>\n      <td>1499.15</td>\n      <td>1475.12</td>\n      <td>1340.75</td>\n      <td>...</td>\n      <td>1045.69</td>\n      <td>1004.44</td>\n      <td>1040.78</td>\n      <td>1209.12</td>\n      <td>1199.25</td>\n      <td>1194.94</td>\n      <td>1088.64</td>\n      <td>1232.43</td>\n      <td>1094.51</td>\n      <td>975.54</td>\n    </tr>\n  </tbody>\n</table>\n<p>5 rows × 237 columns</p>\n</div>"
     },
     "execution_count": 20,
     "metadata": {},
     "output_type": "execute_result"
    }
   ],
   "source": [
    "genetic_data = get_genetic_data(matrix_file)\n",
    "genetic_data.head()"
   ],
   "metadata": {
    "collapsed": false,
    "ExecuteTime": {
     "end_time": "2024-01-27T00:27:43.851310627Z",
     "start_time": "2024-01-27T00:27:43.777162219Z"
    }
   }
  },
  {
   "cell_type": "code",
   "execution_count": 21,
   "outputs": [
    {
     "data": {
      "text/plain": "['ACE',\n 'ACKR2',\n 'ACKR3',\n 'ACKR4',\n 'ACOX1',\n 'ACSL1',\n 'ACSL3',\n 'ACSL4',\n 'ACVR1',\n 'ADAR',\n 'ADGRE5',\n 'ADGRG3',\n 'ADORA2A',\n 'AGT',\n 'AHR',\n 'AIF1',\n 'AIM2',\n 'AKT1',\n 'AKT2',\n 'AKT3']"
     },
     "execution_count": 21,
     "metadata": {},
     "output_type": "execute_result"
    }
   ],
   "source": [
    "gene_row_ids = genetic_data.index[:20].tolist()\n",
    "gene_row_ids"
   ],
   "metadata": {
    "collapsed": false,
    "ExecuteTime": {
     "end_time": "2024-01-27T00:27:44.272170255Z",
     "start_time": "2024-01-27T00:27:44.262744614Z"
    }
   }
  },
  {
   "cell_type": "markdown",
   "source": [
    "Check if the gene dataset requires mapping to get the gene symbols corresponding to each data row."
   ],
   "metadata": {
    "collapsed": false,
    "ExecuteTime": {
     "end_time": "2023-12-31T03:30:41.595335164Z",
     "start_time": "2023-12-31T03:30:41.513232329Z"
    }
   },
   "outputs": [],
   "execution_count": 61
  },
  {
   "cell_type": "markdown",
   "source": [
    "Reference prompt:"
   ],
   "metadata": {
    "collapsed": false
   }
  },
  {
   "cell_type": "code",
   "execution_count": 22,
   "outputs": [
    {
     "data": {
      "text/plain": "\"\\nBelow are the row headers of a gene expression dataset in GEO. Based on your biomedical knowledge, are they human gene symbols, or are they some other identifiers that need to be mapped to gene symbols? Your answer should be concluded by starting a new line and strictly following this format:\\nrequires_gene_mapping = (True or False)\\n\\nRow headers:\\n['ACE', 'ACKR2', 'ACKR3', 'ACKR4', 'ACOX1', 'ACSL1', 'ACSL3', 'ACSL4', 'ACVR1', 'ADAR', 'ADGRE5', 'ADGRG3', 'ADORA2A', 'AGT', 'AHR', 'AIF1', 'AIM2', 'AKT1', 'AKT2', 'AKT3']\\n\""
     },
     "execution_count": 22,
     "metadata": {},
     "output_type": "execute_result"
    }
   ],
   "source": [
    "f'''\n",
    "Below are the row headers of a gene expression dataset in GEO. Based on your biomedical knowledge, are they human gene symbols, or are they some other identifiers that need to be mapped to gene symbols? Your answer should be concluded by starting a new line and strictly following this format:\n",
    "requires_gene_mapping = (True or False)\n",
    "\n",
    "Row headers:\n",
    "{gene_row_ids}\n",
    "'''"
   ],
   "metadata": {
    "collapsed": false,
    "ExecuteTime": {
     "end_time": "2024-01-27T00:27:45.633881093Z",
     "start_time": "2024-01-27T00:27:45.620592625Z"
    }
   }
  },
  {
   "cell_type": "markdown",
   "source": [
    "\n",
    "If not required, jump directly to the gene normalization step"
   ],
   "metadata": {
    "collapsed": false
   }
  },
  {
   "cell_type": "code",
   "execution_count": 23,
   "outputs": [],
   "source": [
    "requires_gene_mapping = False"
   ],
   "metadata": {
    "collapsed": false,
    "ExecuteTime": {
     "end_time": "2024-01-27T00:28:13.059371048Z",
     "start_time": "2024-01-27T00:28:13.052817175Z"
    }
   }
  },
  {
   "cell_type": "code",
   "execution_count": 24,
   "outputs": [],
   "source": [
    "if requires_gene_mapping:\n",
    "    gene_annotation = get_gene_annotation(soft_file)\n",
    "    gene_annotation_summary = preview_df(gene_annotation)\n",
    "    print(gene_annotation_summary)"
   ],
   "metadata": {
    "collapsed": false,
    "ExecuteTime": {
     "end_time": "2024-01-27T00:28:13.636628571Z",
     "start_time": "2024-01-27T00:28:13.620144503Z"
    }
   }
  },
  {
   "cell_type": "markdown",
   "source": [
    "Observe the first few cells in the ID column of the gene annotation dataframe, to find the names of columns that store the gene probe IDs and gene symbols respectively.\n",
    "Reference prompt:"
   ],
   "metadata": {
    "collapsed": false,
    "ExecuteTime": {
     "end_time": "2023-12-31T03:58:04.978931927Z",
     "start_time": "2023-12-31T03:58:04.966328339Z"
    }
   },
   "outputs": [],
   "execution_count": 39
  },
  {
   "cell_type": "code",
   "execution_count": 25,
   "outputs": [],
   "source": [
    "if requires_gene_mapping:\n",
    "    print(f'''\n",
    "    As a biomedical research team, we are analyzing a gene expression dataset, and find that its row headers are some identifiers related to genes:\n",
    "    {gene_row_ids}\n",
    "    To get the mapping from those identifiers to actual gene symbols, we extracted the gene annotation data from a series in the GEO database, and saved it to a Python dictionary. Please read the dictionary, and decide which key stores the identifiers, and which key stores the gene symbols. Please strictly follow this format in your answer:\n",
    "    identifier_key = 'key_name1'\n",
    "    gene_symbol_key = 'key_name2'\n",
    "\n",
    "    Gene annotation dictionary:\n",
    "    {gene_annotation_summary}\n",
    "    ''')"
   ],
   "metadata": {
    "collapsed": false,
    "ExecuteTime": {
     "end_time": "2024-01-27T00:28:14.424356211Z",
     "start_time": "2024-01-27T00:28:14.416270789Z"
    }
   }
  },
  {
   "cell_type": "code",
   "execution_count": 26,
   "outputs": [],
   "source": [
    "if requires_gene_mapping:\n",
    "    identifier_key = 'ID'\n",
    "    gene_symbol_key = 'Gene Symbol'\n",
    "    gene_mapping = get_gene_mapping(gene_annotation, identifier_key, gene_symbol_key)\n",
    "    genetic_data = apply_gene_mapping(genetic_data, gene_mapping)"
   ],
   "metadata": {
    "collapsed": false,
    "ExecuteTime": {
     "end_time": "2024-01-27T00:28:14.751633651Z",
     "start_time": "2024-01-27T00:28:14.743360088Z"
    }
   }
  },
  {
   "cell_type": "code",
   "execution_count": 27,
   "outputs": [
    {
     "name": "stderr",
     "output_type": "stream",
     "text": [
      "1 input query terms found dup hits:\t[('SIGLEC5', 2)]\n",
      "20 input query terms found no hit:\t['CARD17', 'CCL3/L1/L3', 'CCL4/L1/L2', 'CD45R0', 'CD45RA', 'CD45RB', 'DDX58', 'DEFB103A/B', 'FCGR1A/\n"
     ]
    }
   ],
   "source": [
    "if NORMALIZE_GENE:\n",
    "    genetic_data = normalize_gene_symbols_in_index(genetic_data)"
   ],
   "metadata": {
    "collapsed": false,
    "ExecuteTime": {
     "end_time": "2024-01-27T00:28:17.116516506Z",
     "start_time": "2024-01-27T00:28:15.028357171Z"
    }
   }
  },
  {
   "cell_type": "code",
   "execution_count": 28,
   "outputs": [
    {
     "data": {
      "text/plain": "       GSM7783810  GSM7783811  GSM7783812  GSM7783813  GSM7783814  GSM7783815  \\\nACE         16.29        7.37        9.78       10.50        8.98        6.63   \nACKR2       16.53       19.80       14.36       15.45       16.33       16.01   \nACKR3       20.10       18.44       21.72       21.52       14.50       13.08   \nACKR4        7.57       12.60        8.31        7.60        9.39       14.62   \nACOX1     1054.81     1120.94     1648.33     1673.20     1338.32     1851.71   \n...           ...         ...         ...         ...         ...         ...   \nXBP1      1482.88     1728.78     1000.26     1187.84     1141.74     1075.05   \nXCR1        10.11       12.47        9.10        5.01       12.16       21.93   \nYWHAQ     1804.95     1603.10     1458.75     1563.95     1511.85     1594.34   \nZAP70      666.45      665.62      497.28      572.21      550.36      436.22   \nZBP1       573.54      253.06      278.85      260.41      167.55      326.21   \n\n       GSM7783816  GSM7783817  GSM7783818  GSM7783819  ...  GSM7784037  \\\nACE         12.97       16.93       16.10       19.92  ...       21.18   \nACKR2       12.41       25.99       25.12       32.97  ...       19.97   \nACKR3       16.71       25.99       23.19       10.99  ...       29.65   \nACKR4       11.53       21.76       19.32       19.23  ...       44.78   \nACOX1     2153.50     1499.15     1475.12     1340.75  ...     1045.69   \n...           ...         ...         ...         ...  ...         ...   \nXBP1       875.83     1403.04      966.88      850.33  ...     1051.14   \nXCR1        13.69       29.02       36.72       19.92  ...       24.21   \nYWHAQ     1377.09     1390.34     1655.49     1526.20  ...     1308.93   \nZAP70      477.61      588.78      514.68      559.10  ...      836.31   \nZBP1       412.08      273.23      228.03      205.37  ...      151.89   \n\n       GSM7784038  GSM7784039  GSM7784040  GSM7784041  GSM7784042  GSM7784043  \\\nACE         20.37       22.39       22.27       15.03       21.23        9.07   \nACKR2       11.24       12.66       18.56       22.54       19.71       14.60   \nACKR3       15.45       16.55       23.20       24.05       16.68       21.36   \nACKR4       21.77       12.66       31.55       24.05       30.33        7.59   \nACOX1     1004.44     1040.78     1209.12     1199.25     1194.94     1088.64   \n...           ...         ...         ...         ...         ...         ...   \nXBP1       967.22     1029.10      964.14      804.01      928.05     1186.09   \nXCR1        26.69       46.73       46.40       36.07       36.39       10.70   \nYWHAQ     1371.80     1631.76     1321.41     1523.86     1498.22     1111.90   \nZAP70      714.35      493.62      727.52      811.52      903.79      764.04   \nZBP1       216.34      191.80      250.55      247.97      163.77      185.47   \n\n       GSM7784044  GSM7784045  GSM7784046  \nACE         10.96        8.77       14.40  \nACKR2       10.77        8.03       18.31  \nACKR3       22.42       28.28       21.65  \nACKR4       15.43       10.61       18.53  \nACOX1     1232.43     1094.51      975.54  \n...           ...         ...         ...  \nXBP1      1288.32     1105.08     1220.51  \nXCR1        17.73       14.89       26.12  \nYWHAQ     1436.42     1406.97     1295.89  \nZAP70      899.23      714.05      781.28  \nZBP1       237.42      233.02      202.11  \n\n[753 rows x 237 columns]",
      "text/html": "<div>\n<style scoped>\n    .dataframe tbody tr th:only-of-type {\n        vertical-align: middle;\n    }\n\n    .dataframe tbody tr th {\n        vertical-align: top;\n    }\n\n    .dataframe thead th {\n        text-align: right;\n    }\n</style>\n<table border=\"1\" class=\"dataframe\">\n  <thead>\n    <tr style=\"text-align: right;\">\n      <th></th>\n      <th>GSM7783810</th>\n      <th>GSM7783811</th>\n      <th>GSM7783812</th>\n      <th>GSM7783813</th>\n      <th>GSM7783814</th>\n      <th>GSM7783815</th>\n      <th>GSM7783816</th>\n      <th>GSM7783817</th>\n      <th>GSM7783818</th>\n      <th>GSM7783819</th>\n      <th>...</th>\n      <th>GSM7784037</th>\n      <th>GSM7784038</th>\n      <th>GSM7784039</th>\n      <th>GSM7784040</th>\n      <th>GSM7784041</th>\n      <th>GSM7784042</th>\n      <th>GSM7784043</th>\n      <th>GSM7784044</th>\n      <th>GSM7784045</th>\n      <th>GSM7784046</th>\n    </tr>\n  </thead>\n  <tbody>\n    <tr>\n      <th>ACE</th>\n      <td>16.29</td>\n      <td>7.37</td>\n      <td>9.78</td>\n      <td>10.50</td>\n      <td>8.98</td>\n      <td>6.63</td>\n      <td>12.97</td>\n      <td>16.93</td>\n      <td>16.10</td>\n      <td>19.92</td>\n      <td>...</td>\n      <td>21.18</td>\n      <td>20.37</td>\n      <td>22.39</td>\n      <td>22.27</td>\n      <td>15.03</td>\n      <td>21.23</td>\n      <td>9.07</td>\n      <td>10.96</td>\n      <td>8.77</td>\n      <td>14.40</td>\n    </tr>\n    <tr>\n      <th>ACKR2</th>\n      <td>16.53</td>\n      <td>19.80</td>\n      <td>14.36</td>\n      <td>15.45</td>\n      <td>16.33</td>\n      <td>16.01</td>\n      <td>12.41</td>\n      <td>25.99</td>\n      <td>25.12</td>\n      <td>32.97</td>\n      <td>...</td>\n      <td>19.97</td>\n      <td>11.24</td>\n      <td>12.66</td>\n      <td>18.56</td>\n      <td>22.54</td>\n      <td>19.71</td>\n      <td>14.60</td>\n      <td>10.77</td>\n      <td>8.03</td>\n      <td>18.31</td>\n    </tr>\n    <tr>\n      <th>ACKR3</th>\n      <td>20.10</td>\n      <td>18.44</td>\n      <td>21.72</td>\n      <td>21.52</td>\n      <td>14.50</td>\n      <td>13.08</td>\n      <td>16.71</td>\n      <td>25.99</td>\n      <td>23.19</td>\n      <td>10.99</td>\n      <td>...</td>\n      <td>29.65</td>\n      <td>15.45</td>\n      <td>16.55</td>\n      <td>23.20</td>\n      <td>24.05</td>\n      <td>16.68</td>\n      <td>21.36</td>\n      <td>22.42</td>\n      <td>28.28</td>\n      <td>21.65</td>\n    </tr>\n    <tr>\n      <th>ACKR4</th>\n      <td>7.57</td>\n      <td>12.60</td>\n      <td>8.31</td>\n      <td>7.60</td>\n      <td>9.39</td>\n      <td>14.62</td>\n      <td>11.53</td>\n      <td>21.76</td>\n      <td>19.32</td>\n      <td>19.23</td>\n      <td>...</td>\n      <td>44.78</td>\n      <td>21.77</td>\n      <td>12.66</td>\n      <td>31.55</td>\n      <td>24.05</td>\n      <td>30.33</td>\n      <td>7.59</td>\n      <td>15.43</td>\n      <td>10.61</td>\n      <td>18.53</td>\n    </tr>\n    <tr>\n      <th>ACOX1</th>\n      <td>1054.81</td>\n      <td>1120.94</td>\n      <td>1648.33</td>\n      <td>1673.20</td>\n      <td>1338.32</td>\n      <td>1851.71</td>\n      <td>2153.50</td>\n      <td>1499.15</td>\n      <td>1475.12</td>\n      <td>1340.75</td>\n      <td>...</td>\n      <td>1045.69</td>\n      <td>1004.44</td>\n      <td>1040.78</td>\n      <td>1209.12</td>\n      <td>1199.25</td>\n      <td>1194.94</td>\n      <td>1088.64</td>\n      <td>1232.43</td>\n      <td>1094.51</td>\n      <td>975.54</td>\n    </tr>\n    <tr>\n      <th>...</th>\n      <td>...</td>\n      <td>...</td>\n      <td>...</td>\n      <td>...</td>\n      <td>...</td>\n      <td>...</td>\n      <td>...</td>\n      <td>...</td>\n      <td>...</td>\n      <td>...</td>\n      <td>...</td>\n      <td>...</td>\n      <td>...</td>\n      <td>...</td>\n      <td>...</td>\n      <td>...</td>\n      <td>...</td>\n      <td>...</td>\n      <td>...</td>\n      <td>...</td>\n      <td>...</td>\n    </tr>\n    <tr>\n      <th>XBP1</th>\n      <td>1482.88</td>\n      <td>1728.78</td>\n      <td>1000.26</td>\n      <td>1187.84</td>\n      <td>1141.74</td>\n      <td>1075.05</td>\n      <td>875.83</td>\n      <td>1403.04</td>\n      <td>966.88</td>\n      <td>850.33</td>\n      <td>...</td>\n      <td>1051.14</td>\n      <td>967.22</td>\n      <td>1029.10</td>\n      <td>964.14</td>\n      <td>804.01</td>\n      <td>928.05</td>\n      <td>1186.09</td>\n      <td>1288.32</td>\n      <td>1105.08</td>\n      <td>1220.51</td>\n    </tr>\n    <tr>\n      <th>XCR1</th>\n      <td>10.11</td>\n      <td>12.47</td>\n      <td>9.10</td>\n      <td>5.01</td>\n      <td>12.16</td>\n      <td>21.93</td>\n      <td>13.69</td>\n      <td>29.02</td>\n      <td>36.72</td>\n      <td>19.92</td>\n      <td>...</td>\n      <td>24.21</td>\n      <td>26.69</td>\n      <td>46.73</td>\n      <td>46.40</td>\n      <td>36.07</td>\n      <td>36.39</td>\n      <td>10.70</td>\n      <td>17.73</td>\n      <td>14.89</td>\n      <td>26.12</td>\n    </tr>\n    <tr>\n      <th>YWHAQ</th>\n      <td>1804.95</td>\n      <td>1603.10</td>\n      <td>1458.75</td>\n      <td>1563.95</td>\n      <td>1511.85</td>\n      <td>1594.34</td>\n      <td>1377.09</td>\n      <td>1390.34</td>\n      <td>1655.49</td>\n      <td>1526.20</td>\n      <td>...</td>\n      <td>1308.93</td>\n      <td>1371.80</td>\n      <td>1631.76</td>\n      <td>1321.41</td>\n      <td>1523.86</td>\n      <td>1498.22</td>\n      <td>1111.90</td>\n      <td>1436.42</td>\n      <td>1406.97</td>\n      <td>1295.89</td>\n    </tr>\n    <tr>\n      <th>ZAP70</th>\n      <td>666.45</td>\n      <td>665.62</td>\n      <td>497.28</td>\n      <td>572.21</td>\n      <td>550.36</td>\n      <td>436.22</td>\n      <td>477.61</td>\n      <td>588.78</td>\n      <td>514.68</td>\n      <td>559.10</td>\n      <td>...</td>\n      <td>836.31</td>\n      <td>714.35</td>\n      <td>493.62</td>\n      <td>727.52</td>\n      <td>811.52</td>\n      <td>903.79</td>\n      <td>764.04</td>\n      <td>899.23</td>\n      <td>714.05</td>\n      <td>781.28</td>\n    </tr>\n    <tr>\n      <th>ZBP1</th>\n      <td>573.54</td>\n      <td>253.06</td>\n      <td>278.85</td>\n      <td>260.41</td>\n      <td>167.55</td>\n      <td>326.21</td>\n      <td>412.08</td>\n      <td>273.23</td>\n      <td>228.03</td>\n      <td>205.37</td>\n      <td>...</td>\n      <td>151.89</td>\n      <td>216.34</td>\n      <td>191.80</td>\n      <td>250.55</td>\n      <td>247.97</td>\n      <td>163.77</td>\n      <td>185.47</td>\n      <td>237.42</td>\n      <td>233.02</td>\n      <td>202.11</td>\n    </tr>\n  </tbody>\n</table>\n<p>753 rows × 237 columns</p>\n</div>"
     },
     "execution_count": 28,
     "metadata": {},
     "output_type": "execute_result"
    }
   ],
   "source": [
    "genetic_data"
   ],
   "metadata": {
    "collapsed": false,
    "ExecuteTime": {
     "end_time": "2024-01-27T00:28:17.147039019Z",
     "start_time": "2024-01-27T00:28:17.117452203Z"
    }
   }
  },
  {
   "cell_type": "code",
   "execution_count": 29,
   "outputs": [],
   "source": [
    "merged_data = geo_merge_clinical_genetic_data(selected_clinical_data, genetic_data)\n",
    "# The preprocessing runs through, which means is_available should be True\n",
    "is_available = True"
   ],
   "metadata": {
    "collapsed": false,
    "ExecuteTime": {
     "end_time": "2024-01-27T00:28:25.325953107Z",
     "start_time": "2024-01-27T00:28:25.316270793Z"
    }
   }
  },
  {
   "cell_type": "code",
   "execution_count": 30,
   "outputs": [
    {
     "name": "stdout",
     "output_type": "stream",
     "text": [
      "The merged dataset contains 237 samples.\n"
     ]
    }
   ],
   "source": [
    "print(f\"The merged dataset contains {len(merged_data)} samples.\")"
   ],
   "metadata": {
    "collapsed": false,
    "ExecuteTime": {
     "end_time": "2024-01-27T00:28:25.673403205Z",
     "start_time": "2024-01-27T00:28:25.656577676Z"
    }
   }
  },
  {
   "cell_type": "code",
   "execution_count": 31,
   "outputs": [
    {
     "name": "stdout",
     "output_type": "stream",
     "text": [
      "For the feature 'COVID-19', the least common label is '0.0' with 37 occurrences. This represents 15.61% of the dataset.\n",
      "The distribution of the feature 'COVID-19' in this dataset is fine.\n",
      "\n",
      "Quartiles for 'Age':\n",
      "  25%: 30.0\n",
      "  50% (Median): 36.0\n",
      "  75%: 43.0\n",
      "Min: 24.0\n",
      "Max: 65.0\n",
      "The distribution of the feature 'Age' in this dataset is fine.\n",
      "\n",
      "For the feature 'Gender', the least common label is '1.0' with 77 occurrences. This represents 32.49% of the dataset.\n",
      "The distribution of the feature 'Gender' in this dataset is fine.\n",
      "\n"
     ]
    },
    {
     "data": {
      "text/plain": "False"
     },
     "execution_count": 31,
     "metadata": {},
     "output_type": "execute_result"
    }
   ],
   "source": [
    "is_trait_biased, merged_data = judge_and_remove_biased_features(merged_data, TRAIT, trait_type=trait_type)\n",
    "is_trait_biased"
   ],
   "metadata": {
    "collapsed": false,
    "ExecuteTime": {
     "end_time": "2024-01-27T00:28:26.394354507Z",
     "start_time": "2024-01-27T00:28:26.371979308Z"
    }
   }
  },
  {
   "cell_type": "code",
   "execution_count": 32,
   "outputs": [
    {
     "name": "stdout",
     "output_type": "stream",
     "text": [
      "A new JSON file was created at: ../../output1/Haoyang/COVID-19/cohort_info.json\n"
     ]
    }
   ],
   "source": [
    "if is_available:\n",
    "    save_cohort_info(cohort, JSON_PATH, is_available, is_trait_biased, merged_data, note='')\n",
    "else:\n",
    "    save_cohort_info(cohort, JSON_PATH, is_available)"
   ],
   "metadata": {
    "collapsed": false,
    "ExecuteTime": {
     "end_time": "2024-01-27T00:28:27.788904085Z",
     "start_time": "2024-01-27T00:28:27.778655094Z"
    }
   }
  },
  {
   "cell_type": "code",
   "execution_count": 33,
   "outputs": [],
   "source": [
    "merged_data.head()\n",
    "if not is_trait_biased:\n",
    "    merged_data.to_csv(os.path.join(OUTPUT_DIR, cohort + '.csv'), index=False)"
   ],
   "metadata": {
    "collapsed": false,
    "ExecuteTime": {
     "end_time": "2024-01-27T00:28:29.821324937Z",
     "start_time": "2024-01-27T00:28:29.739076408Z"
    }
   }
  },
  {
   "cell_type": "markdown",
   "source": [
    "### 3. Do regression & Cross Validation"
   ],
   "metadata": {
    "id": "-MTPhRGxJV7I",
    "ExecuteTime": {
     "end_time": "2023-12-31T03:58:22.271683755Z",
     "start_time": "2023-12-31T03:58:22.246557674Z"
    }
   },
   "outputs": [
    {
     "data": {
      "text/plain": "   cohort_id  is_usable  is_available is_biased has_age has_gender  \\\n0       Xena       True          True     False    True       True   \n3  GSE248830       True          True     False    True       True   \n\n   sample_size note  \n0       1215.0       \n3         38.0       ",
      "text/html": "<div>\n<style scoped>\n    .dataframe tbody tr th:only-of-type {\n        vertical-align: middle;\n    }\n\n    .dataframe tbody tr th {\n        vertical-align: top;\n    }\n\n    .dataframe thead th {\n        text-align: right;\n    }\n</style>\n<table border=\"1\" class=\"dataframe\">\n  <thead>\n    <tr style=\"text-align: right;\">\n      <th></th>\n      <th>cohort_id</th>\n      <th>is_usable</th>\n      <th>is_available</th>\n      <th>is_biased</th>\n      <th>has_age</th>\n      <th>has_gender</th>\n      <th>sample_size</th>\n      <th>note</th>\n    </tr>\n  </thead>\n  <tbody>\n    <tr>\n      <th>0</th>\n      <td>Xena</td>\n      <td>True</td>\n      <td>True</td>\n      <td>False</td>\n      <td>True</td>\n      <td>True</td>\n      <td>1215.0</td>\n      <td></td>\n    </tr>\n    <tr>\n      <th>3</th>\n      <td>GSE248830</td>\n      <td>True</td>\n      <td>True</td>\n      <td>False</td>\n      <td>True</td>\n      <td>True</td>\n      <td>38.0</td>\n      <td></td>\n    </tr>\n  </tbody>\n</table>\n</div>"
     },
     "execution_count": 48,
     "metadata": {},
     "output_type": "execute_result"
    }
   ],
   "execution_count": 48
  },
  {
   "cell_type": "code",
   "execution_count": 34,
   "outputs": [
    {
     "data": {
      "text/plain": "   cohort_id  is_usable  is_available  is_biased  has_age  has_gender  \\\n0  GSE243348       True          True      False     True        True   \n\n   sample_size note  \n0          237       ",
      "text/html": "<div>\n<style scoped>\n    .dataframe tbody tr th:only-of-type {\n        vertical-align: middle;\n    }\n\n    .dataframe tbody tr th {\n        vertical-align: top;\n    }\n\n    .dataframe thead th {\n        text-align: right;\n    }\n</style>\n<table border=\"1\" class=\"dataframe\">\n  <thead>\n    <tr style=\"text-align: right;\">\n      <th></th>\n      <th>cohort_id</th>\n      <th>is_usable</th>\n      <th>is_available</th>\n      <th>is_biased</th>\n      <th>has_age</th>\n      <th>has_gender</th>\n      <th>sample_size</th>\n      <th>note</th>\n    </tr>\n  </thead>\n  <tbody>\n    <tr>\n      <th>0</th>\n      <td>GSE243348</td>\n      <td>True</td>\n      <td>True</td>\n      <td>False</td>\n      <td>True</td>\n      <td>True</td>\n      <td>237</td>\n      <td></td>\n    </tr>\n  </tbody>\n</table>\n</div>"
     },
     "execution_count": 34,
     "metadata": {},
     "output_type": "execute_result"
    }
   ],
   "source": [
    "# Check the information of usable cohorts\n",
    "best_cohort, ranked_df = filter_and_rank_cohorts(JSON_PATH)\n",
    "ranked_df"
   ],
   "metadata": {
    "collapsed": false,
    "ExecuteTime": {
     "end_time": "2024-01-27T00:28:30.595288654Z",
     "start_time": "2024-01-27T00:28:30.579419249Z"
    }
   }
  },
  {
   "cell_type": "code",
   "execution_count": 35,
   "outputs": [
    {
     "data": {
      "text/plain": "'GSE243348'"
     },
     "execution_count": 35,
     "metadata": {},
     "output_type": "execute_result"
    }
   ],
   "source": [
    "# If both age and gender have available cohorts, select 'age' as the condition.\n",
    "condition = 'Age'\n",
    "filter_column = 'has_' + condition.lower()\n",
    "\n",
    "condition_best_cohort, condition_ranked_df = filter_and_rank_cohorts(JSON_PATH, filter_column)\n",
    "condition_best_cohort"
   ],
   "metadata": {
    "collapsed": false,
    "ExecuteTime": {
     "end_time": "2024-01-27T00:28:31.121496359Z",
     "start_time": "2024-01-27T00:28:31.116541690Z"
    }
   }
  },
  {
   "cell_type": "code",
   "execution_count": 36,
   "outputs": [
    {
     "data": {
      "text/plain": "   cohort_id  is_usable  is_available  is_biased  has_age  has_gender  \\\n0  GSE243348       True          True      False     True        True   \n\n   sample_size note  \n0          237       ",
      "text/html": "<div>\n<style scoped>\n    .dataframe tbody tr th:only-of-type {\n        vertical-align: middle;\n    }\n\n    .dataframe tbody tr th {\n        vertical-align: top;\n    }\n\n    .dataframe thead th {\n        text-align: right;\n    }\n</style>\n<table border=\"1\" class=\"dataframe\">\n  <thead>\n    <tr style=\"text-align: right;\">\n      <th></th>\n      <th>cohort_id</th>\n      <th>is_usable</th>\n      <th>is_available</th>\n      <th>is_biased</th>\n      <th>has_age</th>\n      <th>has_gender</th>\n      <th>sample_size</th>\n      <th>note</th>\n    </tr>\n  </thead>\n  <tbody>\n    <tr>\n      <th>0</th>\n      <td>GSE243348</td>\n      <td>True</td>\n      <td>True</td>\n      <td>False</td>\n      <td>True</td>\n      <td>True</td>\n      <td>237</td>\n      <td></td>\n    </tr>\n  </tbody>\n</table>\n</div>"
     },
     "execution_count": 36,
     "metadata": {},
     "output_type": "execute_result"
    }
   ],
   "source": [
    "condition_ranked_df.head()"
   ],
   "metadata": {
    "collapsed": false,
    "ExecuteTime": {
     "end_time": "2024-01-27T00:28:31.956779599Z",
     "start_time": "2024-01-27T00:28:31.938361487Z"
    }
   }
  },
  {
   "cell_type": "code",
   "execution_count": 37,
   "outputs": [
    {
     "data": {
      "text/plain": "   COVID-19   Age  Gender    ACE  ACKR2  ACKR3  ACKR4    ACOX1    ACSL1  \\\n0       1.0  44.0     0.0  16.29  16.53  20.10   7.57  1054.81  3763.52   \n1       1.0  44.0     0.0   7.37  19.80  18.44  12.60  1120.94  3348.47   \n2       1.0  44.0     0.0   9.78  14.36  21.72   8.31  1648.33  5699.41   \n3       1.0  44.0     0.0  10.50  15.45  21.52   7.60  1673.20  6284.57   \n4       1.0  44.0     0.0   8.98  16.33  14.50   9.39  1338.32  5751.24   \n\n   ACSL3  ...     VSIR    VWF      WAS  WIPI1    XAF1     XBP1   XCR1  \\\n0  28.00  ...   859.20  14.18  1346.80  33.66  819.23  1482.88  10.11   \n1  29.11  ...   697.07  17.83  1133.98  47.27  240.81  1728.78  12.47   \n2  20.95  ...   837.58  29.69  1510.44  48.17  255.67  1000.26   9.10   \n3  28.35  ...  1034.45  29.09  1587.53  39.70  216.95  1187.84   5.01   \n4  19.11  ...   908.03  15.34  1414.47  33.45  222.65  1141.74  12.16   \n\n     YWHAQ   ZAP70    ZBP1  \n0  1804.95  666.45  573.54  \n1  1603.10  665.62  253.06  \n2  1458.75  497.28  278.85  \n3  1563.95  572.21  260.41  \n4  1511.85  550.36  167.55  \n\n[5 rows x 756 columns]",
      "text/html": "<div>\n<style scoped>\n    .dataframe tbody tr th:only-of-type {\n        vertical-align: middle;\n    }\n\n    .dataframe tbody tr th {\n        vertical-align: top;\n    }\n\n    .dataframe thead th {\n        text-align: right;\n    }\n</style>\n<table border=\"1\" class=\"dataframe\">\n  <thead>\n    <tr style=\"text-align: right;\">\n      <th></th>\n      <th>COVID-19</th>\n      <th>Age</th>\n      <th>Gender</th>\n      <th>ACE</th>\n      <th>ACKR2</th>\n      <th>ACKR3</th>\n      <th>ACKR4</th>\n      <th>ACOX1</th>\n      <th>ACSL1</th>\n      <th>ACSL3</th>\n      <th>...</th>\n      <th>VSIR</th>\n      <th>VWF</th>\n      <th>WAS</th>\n      <th>WIPI1</th>\n      <th>XAF1</th>\n      <th>XBP1</th>\n      <th>XCR1</th>\n      <th>YWHAQ</th>\n      <th>ZAP70</th>\n      <th>ZBP1</th>\n    </tr>\n  </thead>\n  <tbody>\n    <tr>\n      <th>0</th>\n      <td>1.0</td>\n      <td>44.0</td>\n      <td>0.0</td>\n      <td>16.29</td>\n      <td>16.53</td>\n      <td>20.10</td>\n      <td>7.57</td>\n      <td>1054.81</td>\n      <td>3763.52</td>\n      <td>28.00</td>\n      <td>...</td>\n      <td>859.20</td>\n      <td>14.18</td>\n      <td>1346.80</td>\n      <td>33.66</td>\n      <td>819.23</td>\n      <td>1482.88</td>\n      <td>10.11</td>\n      <td>1804.95</td>\n      <td>666.45</td>\n      <td>573.54</td>\n    </tr>\n    <tr>\n      <th>1</th>\n      <td>1.0</td>\n      <td>44.0</td>\n      <td>0.0</td>\n      <td>7.37</td>\n      <td>19.80</td>\n      <td>18.44</td>\n      <td>12.60</td>\n      <td>1120.94</td>\n      <td>3348.47</td>\n      <td>29.11</td>\n      <td>...</td>\n      <td>697.07</td>\n      <td>17.83</td>\n      <td>1133.98</td>\n      <td>47.27</td>\n      <td>240.81</td>\n      <td>1728.78</td>\n      <td>12.47</td>\n      <td>1603.10</td>\n      <td>665.62</td>\n      <td>253.06</td>\n    </tr>\n    <tr>\n      <th>2</th>\n      <td>1.0</td>\n      <td>44.0</td>\n      <td>0.0</td>\n      <td>9.78</td>\n      <td>14.36</td>\n      <td>21.72</td>\n      <td>8.31</td>\n      <td>1648.33</td>\n      <td>5699.41</td>\n      <td>20.95</td>\n      <td>...</td>\n      <td>837.58</td>\n      <td>29.69</td>\n      <td>1510.44</td>\n      <td>48.17</td>\n      <td>255.67</td>\n      <td>1000.26</td>\n      <td>9.10</td>\n      <td>1458.75</td>\n      <td>497.28</td>\n      <td>278.85</td>\n    </tr>\n    <tr>\n      <th>3</th>\n      <td>1.0</td>\n      <td>44.0</td>\n      <td>0.0</td>\n      <td>10.50</td>\n      <td>15.45</td>\n      <td>21.52</td>\n      <td>7.60</td>\n      <td>1673.20</td>\n      <td>6284.57</td>\n      <td>28.35</td>\n      <td>...</td>\n      <td>1034.45</td>\n      <td>29.09</td>\n      <td>1587.53</td>\n      <td>39.70</td>\n      <td>216.95</td>\n      <td>1187.84</td>\n      <td>5.01</td>\n      <td>1563.95</td>\n      <td>572.21</td>\n      <td>260.41</td>\n    </tr>\n    <tr>\n      <th>4</th>\n      <td>1.0</td>\n      <td>44.0</td>\n      <td>0.0</td>\n      <td>8.98</td>\n      <td>16.33</td>\n      <td>14.50</td>\n      <td>9.39</td>\n      <td>1338.32</td>\n      <td>5751.24</td>\n      <td>19.11</td>\n      <td>...</td>\n      <td>908.03</td>\n      <td>15.34</td>\n      <td>1414.47</td>\n      <td>33.45</td>\n      <td>222.65</td>\n      <td>1141.74</td>\n      <td>12.16</td>\n      <td>1511.85</td>\n      <td>550.36</td>\n      <td>167.55</td>\n    </tr>\n  </tbody>\n</table>\n<p>5 rows × 756 columns</p>\n</div>"
     },
     "execution_count": 37,
     "metadata": {},
     "output_type": "execute_result"
    }
   ],
   "source": [
    "merged_data = pd.read_csv(os.path.join(OUTPUT_DIR, condition_best_cohort + '.csv'))\n",
    "merged_data.head()"
   ],
   "metadata": {
    "collapsed": false,
    "ExecuteTime": {
     "end_time": "2024-01-27T00:28:32.458540900Z",
     "start_time": "2024-01-27T00:28:32.427763686Z"
    }
   }
  },
  {
   "cell_type": "code",
   "execution_count": 38,
   "outputs": [],
   "source": [
    "# Remove the other condition to prevent interference.\n",
    "merged_data = merged_data.drop(columns=['Gender'], errors='ignore').astype('float')\n",
    "\n",
    "X = merged_data.drop(columns=[TRAIT, condition]).values\n",
    "Y = merged_data[TRAIT].values\n",
    "Z = merged_data[condition].values"
   ],
   "metadata": {
    "collapsed": false,
    "ExecuteTime": {
     "end_time": "2024-01-27T00:28:32.928750861Z",
     "start_time": "2024-01-27T00:28:32.919707740Z"
    }
   }
  },
  {
   "cell_type": "markdown",
   "source": [
    "Select the appropriate regression model depending on whether the dataset shows batch effect."
   ],
   "metadata": {
    "collapsed": false
   }
  },
  {
   "cell_type": "code",
   "execution_count": 39,
   "outputs": [
    {
     "data": {
      "text/plain": "True"
     },
     "execution_count": 39,
     "metadata": {},
     "output_type": "execute_result"
    }
   ],
   "source": [
    "has_batch_effect = detect_batch_effect(X)\n",
    "has_batch_effect"
   ],
   "metadata": {
    "collapsed": false,
    "ExecuteTime": {
     "end_time": "2024-01-27T00:28:33.823422302Z",
     "start_time": "2024-01-27T00:28:33.796534868Z"
    }
   }
  },
  {
   "cell_type": "code",
   "execution_count": 40,
   "outputs": [],
   "source": [
    "# Select appropriate models based on whether the dataset has batch effect.\n",
    "# We experiment on two models for each branch. We will decide which one to choose later.\n",
    "\n",
    "if has_batch_effect:\n",
    "    model_constructor1 = VariableSelection\n",
    "    model_params1 = {'modified': True, 'lamda': 3e-4}\n",
    "    model_constructor2 = VariableSelection\n",
    "    model_params2 = {'modified': False}\n",
    "else:\n",
    "    model_constructor1 = Lasso\n",
    "    model_params1 = {'alpha': 1.0, 'random_state': 42}\n",
    "    model_constructor2 = VariableSelection\n",
    "    model_params2 = {'modified': False}"
   ],
   "metadata": {
    "collapsed": false,
    "ExecuteTime": {
     "end_time": "2024-01-27T00:28:34.163808203Z",
     "start_time": "2024-01-27T00:28:34.150563557Z"
    }
   }
  },
  {
   "cell_type": "code",
   "execution_count": 41,
   "outputs": [
    {
     "name": "stdout",
     "output_type": "stream",
     "text": [
      "alpha for Lasso: 0.0003\n",
      "alpha for Lasso: 0.0003\n",
      "alpha for Lasso: 0.0003\n",
      "alpha for Lasso: 0.0003\n",
      "alpha for Lasso: 0.0003\n",
      "The cross-validation accuracy is 57.87% ± 7.17%\n"
     ]
    }
   ],
   "source": [
    "trait_type = 'binary'  # Remember to set this properly, either 'binary' or 'continuous'\n",
    "cv_mean1, cv_std1 = cross_validation(X, Y, Z, model_constructor1, model_params1, target_type=trait_type)"
   ],
   "metadata": {
    "collapsed": false,
    "ExecuteTime": {
     "end_time": "2024-01-27T00:28:34.736744360Z",
     "start_time": "2024-01-27T00:28:34.501356449Z"
    }
   }
  },
  {
   "cell_type": "code",
   "execution_count": 42,
   "outputs": [
    {
     "name": "stdout",
     "output_type": "stream",
     "text": [
      "The cross-validation accuracy is 82.13% ± 6.25%\n"
     ]
    }
   ],
   "source": [
    "cv_mean2, cv_std2 = cross_validation(X, Y, Z, model_constructor2, model_params2, target_type=trait_type)"
   ],
   "metadata": {
    "collapsed": false,
    "ExecuteTime": {
     "end_time": "2024-01-27T00:28:35.619916014Z",
     "start_time": "2024-01-27T00:28:34.854345712Z"
    }
   }
  },
  {
   "cell_type": "code",
   "execution_count": 43,
   "outputs": [
    {
     "name": "stdout",
     "output_type": "stream",
     "text": [
      "alpha for Lasso: 0.0003\n"
     ]
    }
   ],
   "source": [
    "normalized_X, _ = normalize_data(X)\n",
    "normalized_Z, _ = normalize_data(Z)\n",
    "\n",
    "# Train regression model on the whole dataset to identify significant genes\n",
    "model1 = ResidualizationRegressor(model_constructor1, model_params1)\n",
    "model1.fit(normalized_X, Y, normalized_Z)\n",
    "\n",
    "model2 = ResidualizationRegressor(model_constructor2, model_params2)\n",
    "model2.fit(normalized_X, Y, normalized_Z)"
   ],
   "metadata": {
    "collapsed": false,
    "ExecuteTime": {
     "end_time": "2024-01-27T00:28:35.775808872Z",
     "start_time": "2024-01-27T00:28:35.604424444Z"
    }
   }
  },
  {
   "cell_type": "markdown",
   "source": [
    "### 4. Discussion and report"
   ],
   "metadata": {
    "id": "EjJrxbvb4nlj",
    "ExecuteTime": {
     "end_time": "2023-10-14T04:50:59.072075075Z",
     "start_time": "2023-10-14T04:50:38.739499998Z"
    }
   },
   "outputs": [
    {
     "name": "stderr",
     "output_type": "stream",
     "text": [
      "/tmp/ipykernel_27130/1949978799.py:15: RuntimeWarning: invalid value encountered in divide\n",
      "  X = (X - mean) / std\n",
      "/home/techt/anaconda3/envs/hl/lib/python3.8/site-packages/sparse_lmm/helpingMethods.py:49: RuntimeWarning: invalid value encountered in divide\n",
      "  ts = beta / np.sqrt(var * sigma)\n",
      "/home/techt/anaconda3/envs/hl/lib/python3.8/site-packages/sparse_lmm/VariableSelection.py:183: RuntimeWarning: divide by zero encountered in log\n",
      "  return -np.log(p), np.array(betas)\n"
     ]
    },
    {
     "name": "stdout",
     "output_type": "stream",
     "text": [
      "0.7813063496787521\n"
     ]
    }
   ],
   "execution_count": 13
  },
  {
   "cell_type": "code",
   "execution_count": 44,
   "outputs": [
    {
     "name": "stdout",
     "output_type": "stream",
     "text": [
      "Effect of the condition on the target variable:\n",
      "Variable: Age\n",
      "Coefficient: -0.0729\n",
      "Found 182 genes with non-zero coefficients associated with the trait 'COVID-19' conditional on the factor 'Age'. These genes are identified as significant based on the regression model.\n",
      "Variable  Coefficient  Absolute Coefficient\n",
      "   CCL18    -1.767921              1.767921\n",
      "    LTBR    -1.551749              1.551749\n",
      "    LEF1    -1.270181              1.270181\n",
      "   SORT1    -1.269406              1.269406\n",
      "   ACSL1    -1.085387              1.085387\n",
      "  MAP3K3     1.057034              1.057034\n",
      "HSP90AB1    -1.014894              1.014894\n",
      "HLA-DQB1     0.957103              0.957103\n",
      "     CD6    -0.943416              0.943416\n",
      "   TRIM6    -0.892642              0.892642\n",
      "    RELB    -0.880220              0.880220\n",
      "    IL1A    -0.877533              0.877533\n",
      "    SELL    -0.813514              0.813514\n",
      " IL12RB2     0.799333              0.799333\n",
      "   IL6ST    -0.782577              0.782577\n",
      "   P2RX7    -0.777539              0.777539\n",
      "     TNF    -0.766976              0.766976\n",
      "    CD38     0.753992              0.753992\n",
      "    IL22    -0.689499              0.689499\n",
      "    CPA3    -0.688528              0.688528\n",
      "    CCR2    -0.668334              0.668334\n",
      "   TIGIT    -0.658259              0.658259\n",
      "    JAK3    -0.644381              0.644381\n",
      "    PRF1     0.629056              0.629056\n",
      "    NOX1    -0.625062              0.625062\n",
      "   EOMES    -0.622574              0.622574\n",
      "  STING1    -0.613986              0.613986\n",
      "   FOXP3    -0.610695              0.610695\n",
      "     BLK    -0.586033              0.586033\n",
      "   SP100    -0.584542              0.584542\n",
      "    CCL5     0.582196              0.582196\n",
      "   TCL1A     0.573114              0.573114\n",
      "      C3    -0.573078              0.573078\n",
      "    CCL1    -0.561508              0.561508\n",
      "   MS4A7     0.561445              0.561445\n",
      "    TCF7    -0.548796              0.548796\n",
      "     PLG    -0.538398              0.538398\n",
      "  IL31RA    -0.535778              0.535778\n",
      "  LILRA3     0.480182              0.480182\n",
      "    NOD2    -0.479026              0.479026\n",
      "    PDHB     0.478047              0.478047\n",
      "    ATF4     0.471993              0.471993\n",
      "    NT5E    -0.471755              0.471755\n",
      "  IFITM1    -0.468540              0.468540\n",
      "   TRAF3    -0.458008              0.458008\n",
      "  PTGER4     0.447793              0.447793\n",
      "    CD44    -0.444654              0.444654\n",
      "   MARCO    -0.442356              0.442356\n",
      "    BATF    -0.442010              0.442010\n",
      "  IL1F10    -0.440781              0.440781\n",
      "   NFKB2    -0.440719              0.440719\n",
      "   DHX58    -0.400608              0.400608\n",
      "   CCL15    -0.396803              0.396803\n",
      "   GSTM4     0.392040              0.392040\n",
      "    ATF2     0.391309              0.391309\n",
      "  DIABLO     0.390593              0.390593\n",
      "  IFNLR1    -0.387980              0.387980\n",
      "   TGFB2     0.386405              0.386405\n",
      "   ITLN1    -0.383756              0.383756\n",
      "   HMOX1     0.380999              0.380999\n",
      "    NRAS     0.374920              0.374920\n",
      "  HAVCR2     0.372057              0.372057\n",
      "    TLR5    -0.369061              0.369061\n",
      " IL22RA2    -0.367334              0.367334\n",
      "   CXCL5     0.363981              0.363981\n",
      "   CCL14    -0.361385              0.361385\n",
      "    CHUK     0.357230              0.357230\n",
      "   RUNX3    -0.355903              0.355903\n",
      "    IRF4     0.354305              0.354305\n",
      "   THBS1     0.353922              0.353922\n",
      "    RELA     0.343512              0.343512\n",
      "  PIK3CA    -0.342831              0.342831\n",
      "     ACE    -0.341896              0.341896\n",
      " TMPRSS2     0.340517              0.340517\n",
      "   IRAK3     0.340439              0.340439\n",
      "    AIF1    -0.328199              0.328199\n",
      "    NCR3    -0.326259              0.326259\n",
      "     IL9    -0.325466              0.325466\n",
      "     LAT    -0.322825              0.322825\n",
      "    LAG3    -0.319628              0.319628\n",
      "    IL33    -0.318405              0.318405\n",
      "   C1QBP     0.317732              0.317732\n",
      " S100A12    -0.317620              0.317620\n",
      "PDCD1LG2    -0.316962              0.316962\n",
      "    CD8A    -0.309645              0.309645\n",
      "   PTGS2     0.307452              0.307452\n",
      "     IL6    -0.306218              0.306218\n",
      "    SOD1    -0.300372              0.300372\n",
      "    GNLY     0.299774              0.299774\n",
      "  TNFSF9    -0.299503              0.299503\n",
      "   CCL28    -0.294688              0.294688\n",
      "    CCR8     0.290142              0.290142\n",
      "     MYC    -0.286775              0.286775\n",
      "    HCST    -0.281732              0.281732\n",
      "     HDC    -0.281499              0.281499\n",
      "   ACSL3    -0.273375              0.273375\n",
      "   NLRC4    -0.269278              0.269278\n",
      "     IL3    -0.264126              0.264126\n",
      "    TIFA    -0.262348              0.262348\n",
      "    CCR9    -0.261298              0.261298\n",
      "    TLR7    -0.259520              0.259520\n",
      "    CD28    -0.248291              0.248291\n",
      "    PLAU    -0.248227              0.248227\n",
      "    ERN1     0.244212              0.244212\n",
      "  IL1RL1     0.239931              0.239931\n",
      "   NFKB1    -0.234221              0.234221\n",
      "   FBXO6    -0.234019              0.234019\n",
      "  CXCL13    -0.217480              0.217480\n",
      "    IL10    -0.217292              0.217292\n",
      "   MKNK1    -0.211996              0.211996\n",
      "   PDCD1    -0.210807              0.210807\n",
      "  PIK3C3     0.207657              0.207657\n",
      "   PRDM1    -0.207136              0.207136\n",
      "   WIPI1    -0.204365              0.204365\n",
      "   IL17C    -0.185699              0.185699\n",
      "    CCR3     0.184490              0.184490\n",
      "    IL32     0.184234              0.184234\n",
      "    NOS2    -0.182992              0.182992\n",
      "   CASP4    -0.180265              0.180265\n",
      "    SEM1     0.179912              0.179912\n",
      "   IL17A    -0.174926              0.174926\n",
      "    CCL7    -0.170380              0.170380\n",
      " IL13RA2    -0.162982              0.162982\n",
      "  TRIM56    -0.162905              0.162905\n",
      "   KLRB1     0.156287              0.156287\n",
      "   CCL19    -0.150695              0.150695\n",
      "    SSR1     0.150695              0.150695\n",
      "   NLRC5    -0.149666              0.149666\n",
      "   IFNA5    -0.144358              0.144358\n",
      "   STAT1    -0.143983              0.143983\n",
      "      C5    -0.138954              0.138954\n",
      "  MAP3K1    -0.137463              0.137463\n",
      "    IL13    -0.135188              0.135188\n",
      "  TOLLIP     0.132322              0.132322\n",
      " IL12RB1    -0.131900              0.131900\n",
      "   PRKCQ    -0.126345              0.126345\n",
      "    HAMP    -0.126027              0.126027\n",
      "   CD247     0.124860              0.124860\n",
      "  MAP3K5     0.124664              0.124664\n",
      "  CXCL11    -0.123901              0.123901\n",
      "    ULK1     0.120879              0.120879\n",
      " HSP90B1     0.120735              0.120735\n",
      "   CASP3     0.118656              0.118656\n",
      "   PRKCA    -0.105401              0.105401\n",
      "    CD69    -0.102855              0.102855\n",
      "   ATG4A     0.099784              0.099784\n",
      "     LTB    -0.099627              0.099627\n",
      "    EBI3    -0.097879              0.097879\n",
      "   CASP5    -0.097560              0.097560\n",
      "   MS4A2    -0.095267              0.095267\n",
      "   TRAF6    -0.091395              0.091395\n",
      "   CD163    -0.090152              0.090152\n",
      "  BDKRB1    -0.087919              0.087919\n",
      "    CCR4     0.082484              0.082484\n",
      "   IL36G     0.079570              0.079570\n",
      "   ATG12     0.079042              0.079042\n",
      "      C2    -0.074585              0.074585\n",
      "   CCL26    -0.073693              0.073693\n",
      "   IL12A    -0.065847              0.065847\n",
      "    CCR7    -0.059136              0.059136\n",
      "   AP1M1    -0.058072              0.058072\n",
      "    IRF3    -0.057286              0.057286\n",
      "    CD1E    -0.054896              0.054896\n",
      "   CCL20    -0.044032              0.044032\n",
      "    CCNC    -0.041500              0.041500\n",
      "   TRAF2     0.040468              0.040468\n",
      "  CYSTM1    -0.040307              0.040307\n",
      "  CXCL14    -0.040193              0.040193\n",
      "   IL21R     0.028984              0.028984\n",
      "    MAVS    -0.027283              0.027283\n",
      "   IL36A    -0.025151              0.025151\n",
      "    IL34    -0.024458              0.024458\n",
      "    CTSG    -0.022962              0.022962\n",
      "   LTA4H     0.022827              0.022827\n",
      "   TRAM1     0.022755              0.022755\n",
      "   PARP1     0.022078              0.022078\n",
      "     ITK    -0.021797              0.021797\n",
      " TNFSF18    -0.013209              0.013209\n",
      "   KLRC1     0.009901              0.009901\n",
      "    CD22     0.005386              0.005386\n",
      "   AP1G1    -0.004733              0.004733\n",
      "   SMAD3    -0.004367              0.004367\n"
     ]
    },
    {
     "name": "stderr",
     "output_type": "stream",
     "text": [
      "/home/techt/AI4Science_gold_standard/utils.py:469: SettingWithCopyWarning: \n",
      "A value is trying to be set on a copy of a slice from a DataFrame.\n",
      "Try using .loc[row_indexer,col_indexer] = value instead\n",
      "\n",
      "See the caveats in the documentation: https://pandas.pydata.org/pandas-docs/stable/user_guide/indexing.html#returning-a-view-versus-a-copy\n",
      "  gene_regression_df['Absolute Coefficient'] = gene_regression_df['Coefficient'].abs()\n"
     ]
    }
   ],
   "source": [
    "feature_cols = merged_data.columns.tolist()\n",
    "feature_cols.remove(TRAIT)\n",
    "\n",
    "threshold = 0.05\n",
    "interpret_result(model1, feature_cols, TRAIT, condition, threshold=threshold, save_output=True,\n",
    "                 output_dir=OUTPUT_DIR, model_id=1)"
   ],
   "metadata": {
    "collapsed": false,
    "ExecuteTime": {
     "end_time": "2024-01-27T00:28:37.418271015Z",
     "start_time": "2024-01-27T00:28:37.375058843Z"
    }
   }
  },
  {
   "cell_type": "code",
   "execution_count": 45,
   "outputs": [
    {
     "name": "stdout",
     "output_type": "stream",
     "text": [
      "Effect of the condition on the target variable:\n",
      "Variable: Age\n",
      "Coefficient: -0.0729\n",
      "Found 0 significant genes associated with the trait 'COVID-19' conditional on the factor 'Age', with corrected p-value < 0.05:\n",
      "Empty DataFrame\n",
      "Columns: [Variable, Coefficient, p_value, corrected_p_value]\n",
      "Index: []\n"
     ]
    },
    {
     "name": "stderr",
     "output_type": "stream",
     "text": [
      "/home/techt/AI4Science_gold_standard/utils.py:478: SettingWithCopyWarning: \n",
      "A value is trying to be set on a copy of a slice from a DataFrame.\n",
      "Try using .loc[row_indexer,col_indexer] = value instead\n",
      "\n",
      "See the caveats in the documentation: https://pandas.pydata.org/pandas-docs/stable/user_guide/indexing.html#returning-a-view-versus-a-copy\n",
      "  gene_regression_df.loc[:, 'corrected_p_value'] = corrected_p_values\n"
     ]
    }
   ],
   "source": [
    "interpret_result(model2, feature_cols, TRAIT, condition, threshold=threshold, save_output=True,\n",
    "                 output_dir=OUTPUT_DIR, model_id=2)"
   ],
   "metadata": {
    "collapsed": false,
    "ExecuteTime": {
     "end_time": "2024-01-27T00:28:38.121098708Z",
     "start_time": "2024-01-27T00:28:38.114699892Z"
    }
   }
  },
  {
   "cell_type": "code",
   "execution_count": null,
   "outputs": [],
   "source": [],
   "metadata": {
    "collapsed": false
   }
  }
 ]
}
