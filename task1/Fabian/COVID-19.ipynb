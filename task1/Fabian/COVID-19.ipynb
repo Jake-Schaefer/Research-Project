{
 "cells": [
  {
   "cell_type": "markdown",
   "metadata": {
    "collapsed": false
   },
   "source": [
    "# Gold standard curation: Preprocessing and single-step regression"
   ]
  },
  {
   "cell_type": "markdown",
   "metadata": {
    "collapsed": false
   },
   "source": [
    "In this stage of gold standard curation, we will do the data preprocessing, selection, and single-step regression for the 153 traits in our question set. This file shows the reference steps using the trait \"Breast Cancer\" as an example. The workflow consists of the following steps:\n",
    "\n",
    "1. Preprocess all the cohorts related to this trait. Each cohort should be converted to a tabular form and saved to a csv file, with columns being genetic factors, the trait, and age, gender if available;\n",
    "2. If there exists at least one cohort with age or gender information, conduct regression analysis with genetic features together with age or gender as the regressors.\n"
   ]
  },
  {
   "cell_type": "markdown",
   "metadata": {
    "collapsed": false
   },
   "source": [
    "# 1. Basic setup"
   ]
  },
  {
   "cell_type": "code",
   "execution_count": 10,
   "metadata": {
    "ExecuteTime": {
     "end_time": "2024-01-27T00:25:06.820860573Z",
     "start_time": "2024-01-27T00:25:06.141949288Z"
    },
    "collapsed": false
   },
   "outputs": [],
   "source": [
    "import os\n",
    "import sys\n",
    "\n",
    "sys.path.append('..')\n",
    "from utils import *\n",
    "\n",
    "# Set your preferred name\n",
    "USER = \"Fabian\"\n",
    "# Set the data and output directories\n",
    "DATA_ROOT = '/Users/fabianmartinez/Desktop/DATA/TAIS_2024SP' \n",
    "OUTPUT_ROOT = '../../output1'\n",
    "TRAIT = 'COVID-19'\n",
    "\n",
    "OUTPUT_DIR = os.path.join(OUTPUT_ROOT, USER, '-'.join(TRAIT.split()))\n",
    "JSON_PATH = os.path.join(OUTPUT_DIR, \"cohort_info.json\")\n",
    "if not os.path.exists(OUTPUT_DIR):\n",
    "    os.makedirs(OUTPUT_DIR, exist_ok=True)\n",
    "\n",
    "# Gene symbol normalization may take 1-2 minutes. You may set it to False for debugging.\n",
    "NORMALIZE_GENE = True"
   ]
  },
  {
   "cell_type": "code",
   "execution_count": 3,
   "metadata": {
    "ExecuteTime": {
     "end_time": "2024-01-27T00:25:06.826604836Z",
     "start_time": "2024-01-27T00:25:06.823537531Z"
    },
    "colab": {
     "base_uri": "https://localhost:8080/"
    },
    "id": "jMTdsU43vVg3",
    "outputId": "38886111-f442-44b4-8398-96bf384d7abd"
   },
   "outputs": [
    {
     "data": {
      "text/plain": [
       "\"import os\\nfrom google.colab import drive\\n\\ndrive.mount('/content/drive', force_remount=True)\\nproj_dir = '/content/drive/MyDrive/AI4Science_Public'\\nos.chdir(proj_dir)\""
      ]
     },
     "execution_count": 3,
     "metadata": {},
     "output_type": "execute_result"
    }
   ],
   "source": [
    "# This cell is only for use on Google Colab. Skip it if you run your code in other environments\n",
    "\n",
    "\"\"\"import os\n",
    "from google.colab import drive\n",
    "\n",
    "drive.mount('/content/drive', force_remount=True)\n",
    "proj_dir = '/content/drive/MyDrive/AI4Science_Public'\n",
    "os.chdir(proj_dir)\"\"\""
   ]
  },
  {
   "cell_type": "markdown",
   "metadata": {
    "collapsed": false
   },
   "source": [
    "# 2. Data preprocessing and selection"
   ]
  },
  {
   "cell_type": "markdown",
   "metadata": {
    "collapsed": false
   },
   "source": [
    "## 2.1. The TCGA Xena dataset"
   ]
  },
  {
   "cell_type": "markdown",
   "metadata": {
    "collapsed": false
   },
   "source": [
    "In TCGA Xena, there is either zero or one cohort related to the trait. We search the names of subdirectories to see if any matches the trait. If a match is found, we directly obtain the file paths."
   ]
  },
  {
   "cell_type": "code",
   "execution_count": 49,
   "metadata": {
    "collapsed": false
   },
   "outputs": [
    {
     "ename": "FileNotFoundError",
     "evalue": "[Errno 2] No such file or directory: '/Users/fabianmartinez/Desktop/DATA/TAIS_2024SP/TCGA'",
     "output_type": "error",
     "traceback": [
      "\u001b[0;31m---------------------------------------------------------------------------\u001b[0m",
      "\u001b[0;31mFileNotFoundError\u001b[0m                         Traceback (most recent call last)",
      "Cell \u001b[0;32mIn[49], line 3\u001b[0m\n\u001b[1;32m      1\u001b[0m dataset \u001b[39m=\u001b[39m \u001b[39m'\u001b[39m\u001b[39mTCGA\u001b[39m\u001b[39m'\u001b[39m\n\u001b[1;32m      2\u001b[0m dataset_dir \u001b[39m=\u001b[39m os\u001b[39m.\u001b[39mpath\u001b[39m.\u001b[39mjoin(DATA_ROOT, dataset)\n\u001b[0;32m----> 3\u001b[0m os\u001b[39m.\u001b[39;49mlistdir(dataset_dir)\n",
      "\u001b[0;31mFileNotFoundError\u001b[0m: [Errno 2] No such file or directory: '/Users/fabianmartinez/Desktop/DATA/TAIS_2024SP/TCGA'"
     ]
    }
   ],
   "source": [
    "dataset = 'TCGA'\n",
    "dataset_dir = os.path.join(DATA_ROOT, dataset)\n",
    "os.listdir(dataset_dir)"
   ]
  },
  {
   "cell_type": "markdown",
   "metadata": {
    "collapsed": false
   },
   "source": [
    "If no match is found, jump directly to GEO in Part 2.2"
   ]
  },
  {
   "cell_type": "code",
   "execution_count": 5,
   "metadata": {
    "collapsed": false
   },
   "outputs": [],
   "source": [
    "trait_subdir = \"TCGA_Breast_Cancer_(BRCA)\"\n",
    "cohort = 'Xena'\n",
    "# All the cancer traits in Xena are binary\n",
    "trait_type = 'binary'\n",
    "# Once a relevant cohort is found in Xena, we can generally assume the gene and clinical data are available\n",
    "is_available = True\n",
    "\n",
    "clinical_data_file = os.path.join(dataset_dir, trait_subdir, 'TCGA.BRCA.sampleMap_BRCA_clinicalMatrix')\n",
    "genetic_data_file = os.path.join(dataset_dir, trait_subdir, 'TCGA.BRCA.sampleMap_HiSeqV2_PANCAN.gz')"
   ]
  },
  {
   "cell_type": "code",
   "execution_count": 6,
   "metadata": {
    "id": "MudwB-_iz7sc"
   },
   "outputs": [
    {
     "ename": "FileNotFoundError",
     "evalue": "[Errno 2] No such file or directory: '/Desktop/DATA/TCGA/TCGA_Breast_Cancer_(BRCA)/TCGA.BRCA.sampleMap_BRCA_clinicalMatrix'",
     "output_type": "error",
     "traceback": [
      "\u001b[0;31m---------------------------------------------------------------------------\u001b[0m",
      "\u001b[0;31mFileNotFoundError\u001b[0m                         Traceback (most recent call last)",
      "Cell \u001b[0;32mIn[6], line 3\u001b[0m\n\u001b[1;32m      1\u001b[0m \u001b[39mimport\u001b[39;00m \u001b[39mpandas\u001b[39;00m \u001b[39mas\u001b[39;00m \u001b[39mpd\u001b[39;00m\n\u001b[0;32m----> 3\u001b[0m clinical_data \u001b[39m=\u001b[39m pd\u001b[39m.\u001b[39;49mread_csv(clinical_data_file, sep\u001b[39m=\u001b[39;49m\u001b[39m'\u001b[39;49m\u001b[39m\\t\u001b[39;49;00m\u001b[39m'\u001b[39;49m, index_col\u001b[39m=\u001b[39;49m\u001b[39m0\u001b[39;49m)\n\u001b[1;32m      4\u001b[0m genetic_data \u001b[39m=\u001b[39m pd\u001b[39m.\u001b[39mread_csv(genetic_data_file, compression\u001b[39m=\u001b[39m\u001b[39m'\u001b[39m\u001b[39mgzip\u001b[39m\u001b[39m'\u001b[39m, sep\u001b[39m=\u001b[39m\u001b[39m'\u001b[39m\u001b[39m\\t\u001b[39;00m\u001b[39m'\u001b[39m, index_col\u001b[39m=\u001b[39m\u001b[39m0\u001b[39m)\n\u001b[1;32m      5\u001b[0m age_col \u001b[39m=\u001b[39m gender_col \u001b[39m=\u001b[39m \u001b[39mNone\u001b[39;00m\n",
      "File \u001b[0;32m/Library/Frameworks/Python.framework/Versions/3.11/lib/python3.11/site-packages/pandas/io/parsers/readers.py:912\u001b[0m, in \u001b[0;36mread_csv\u001b[0;34m(filepath_or_buffer, sep, delimiter, header, names, index_col, usecols, dtype, engine, converters, true_values, false_values, skipinitialspace, skiprows, skipfooter, nrows, na_values, keep_default_na, na_filter, verbose, skip_blank_lines, parse_dates, infer_datetime_format, keep_date_col, date_parser, date_format, dayfirst, cache_dates, iterator, chunksize, compression, thousands, decimal, lineterminator, quotechar, quoting, doublequote, escapechar, comment, encoding, encoding_errors, dialect, on_bad_lines, delim_whitespace, low_memory, memory_map, float_precision, storage_options, dtype_backend)\u001b[0m\n\u001b[1;32m    899\u001b[0m kwds_defaults \u001b[39m=\u001b[39m _refine_defaults_read(\n\u001b[1;32m    900\u001b[0m     dialect,\n\u001b[1;32m    901\u001b[0m     delimiter,\n\u001b[0;32m   (...)\u001b[0m\n\u001b[1;32m    908\u001b[0m     dtype_backend\u001b[39m=\u001b[39mdtype_backend,\n\u001b[1;32m    909\u001b[0m )\n\u001b[1;32m    910\u001b[0m kwds\u001b[39m.\u001b[39mupdate(kwds_defaults)\n\u001b[0;32m--> 912\u001b[0m \u001b[39mreturn\u001b[39;00m _read(filepath_or_buffer, kwds)\n",
      "File \u001b[0;32m/Library/Frameworks/Python.framework/Versions/3.11/lib/python3.11/site-packages/pandas/io/parsers/readers.py:577\u001b[0m, in \u001b[0;36m_read\u001b[0;34m(filepath_or_buffer, kwds)\u001b[0m\n\u001b[1;32m    574\u001b[0m _validate_names(kwds\u001b[39m.\u001b[39mget(\u001b[39m\"\u001b[39m\u001b[39mnames\u001b[39m\u001b[39m\"\u001b[39m, \u001b[39mNone\u001b[39;00m))\n\u001b[1;32m    576\u001b[0m \u001b[39m# Create the parser.\u001b[39;00m\n\u001b[0;32m--> 577\u001b[0m parser \u001b[39m=\u001b[39m TextFileReader(filepath_or_buffer, \u001b[39m*\u001b[39;49m\u001b[39m*\u001b[39;49mkwds)\n\u001b[1;32m    579\u001b[0m \u001b[39mif\u001b[39;00m chunksize \u001b[39mor\u001b[39;00m iterator:\n\u001b[1;32m    580\u001b[0m     \u001b[39mreturn\u001b[39;00m parser\n",
      "File \u001b[0;32m/Library/Frameworks/Python.framework/Versions/3.11/lib/python3.11/site-packages/pandas/io/parsers/readers.py:1407\u001b[0m, in \u001b[0;36mTextFileReader.__init__\u001b[0;34m(self, f, engine, **kwds)\u001b[0m\n\u001b[1;32m   1404\u001b[0m     \u001b[39mself\u001b[39m\u001b[39m.\u001b[39moptions[\u001b[39m\"\u001b[39m\u001b[39mhas_index_names\u001b[39m\u001b[39m\"\u001b[39m] \u001b[39m=\u001b[39m kwds[\u001b[39m\"\u001b[39m\u001b[39mhas_index_names\u001b[39m\u001b[39m\"\u001b[39m]\n\u001b[1;32m   1406\u001b[0m \u001b[39mself\u001b[39m\u001b[39m.\u001b[39mhandles: IOHandles \u001b[39m|\u001b[39m \u001b[39mNone\u001b[39;00m \u001b[39m=\u001b[39m \u001b[39mNone\u001b[39;00m\n\u001b[0;32m-> 1407\u001b[0m \u001b[39mself\u001b[39m\u001b[39m.\u001b[39m_engine \u001b[39m=\u001b[39m \u001b[39mself\u001b[39;49m\u001b[39m.\u001b[39;49m_make_engine(f, \u001b[39mself\u001b[39;49m\u001b[39m.\u001b[39;49mengine)\n",
      "File \u001b[0;32m/Library/Frameworks/Python.framework/Versions/3.11/lib/python3.11/site-packages/pandas/io/parsers/readers.py:1661\u001b[0m, in \u001b[0;36mTextFileReader._make_engine\u001b[0;34m(self, f, engine)\u001b[0m\n\u001b[1;32m   1659\u001b[0m     \u001b[39mif\u001b[39;00m \u001b[39m\"\u001b[39m\u001b[39mb\u001b[39m\u001b[39m\"\u001b[39m \u001b[39mnot\u001b[39;00m \u001b[39min\u001b[39;00m mode:\n\u001b[1;32m   1660\u001b[0m         mode \u001b[39m+\u001b[39m\u001b[39m=\u001b[39m \u001b[39m\"\u001b[39m\u001b[39mb\u001b[39m\u001b[39m\"\u001b[39m\n\u001b[0;32m-> 1661\u001b[0m \u001b[39mself\u001b[39m\u001b[39m.\u001b[39mhandles \u001b[39m=\u001b[39m get_handle(\n\u001b[1;32m   1662\u001b[0m     f,\n\u001b[1;32m   1663\u001b[0m     mode,\n\u001b[1;32m   1664\u001b[0m     encoding\u001b[39m=\u001b[39;49m\u001b[39mself\u001b[39;49m\u001b[39m.\u001b[39;49moptions\u001b[39m.\u001b[39;49mget(\u001b[39m\"\u001b[39;49m\u001b[39mencoding\u001b[39;49m\u001b[39m\"\u001b[39;49m, \u001b[39mNone\u001b[39;49;00m),\n\u001b[1;32m   1665\u001b[0m     compression\u001b[39m=\u001b[39;49m\u001b[39mself\u001b[39;49m\u001b[39m.\u001b[39;49moptions\u001b[39m.\u001b[39;49mget(\u001b[39m\"\u001b[39;49m\u001b[39mcompression\u001b[39;49m\u001b[39m\"\u001b[39;49m, \u001b[39mNone\u001b[39;49;00m),\n\u001b[1;32m   1666\u001b[0m     memory_map\u001b[39m=\u001b[39;49m\u001b[39mself\u001b[39;49m\u001b[39m.\u001b[39;49moptions\u001b[39m.\u001b[39;49mget(\u001b[39m\"\u001b[39;49m\u001b[39mmemory_map\u001b[39;49m\u001b[39m\"\u001b[39;49m, \u001b[39mFalse\u001b[39;49;00m),\n\u001b[1;32m   1667\u001b[0m     is_text\u001b[39m=\u001b[39;49mis_text,\n\u001b[1;32m   1668\u001b[0m     errors\u001b[39m=\u001b[39;49m\u001b[39mself\u001b[39;49m\u001b[39m.\u001b[39;49moptions\u001b[39m.\u001b[39;49mget(\u001b[39m\"\u001b[39;49m\u001b[39mencoding_errors\u001b[39;49m\u001b[39m\"\u001b[39;49m, \u001b[39m\"\u001b[39;49m\u001b[39mstrict\u001b[39;49m\u001b[39m\"\u001b[39;49m),\n\u001b[1;32m   1669\u001b[0m     storage_options\u001b[39m=\u001b[39;49m\u001b[39mself\u001b[39;49m\u001b[39m.\u001b[39;49moptions\u001b[39m.\u001b[39;49mget(\u001b[39m\"\u001b[39;49m\u001b[39mstorage_options\u001b[39;49m\u001b[39m\"\u001b[39;49m, \u001b[39mNone\u001b[39;49;00m),\n\u001b[1;32m   1670\u001b[0m )\n\u001b[1;32m   1671\u001b[0m \u001b[39massert\u001b[39;00m \u001b[39mself\u001b[39m\u001b[39m.\u001b[39mhandles \u001b[39mis\u001b[39;00m \u001b[39mnot\u001b[39;00m \u001b[39mNone\u001b[39;00m\n\u001b[1;32m   1672\u001b[0m f \u001b[39m=\u001b[39m \u001b[39mself\u001b[39m\u001b[39m.\u001b[39mhandles\u001b[39m.\u001b[39mhandle\n",
      "File \u001b[0;32m/Library/Frameworks/Python.framework/Versions/3.11/lib/python3.11/site-packages/pandas/io/common.py:859\u001b[0m, in \u001b[0;36mget_handle\u001b[0;34m(path_or_buf, mode, encoding, compression, memory_map, is_text, errors, storage_options)\u001b[0m\n\u001b[1;32m    854\u001b[0m \u001b[39melif\u001b[39;00m \u001b[39misinstance\u001b[39m(handle, \u001b[39mstr\u001b[39m):\n\u001b[1;32m    855\u001b[0m     \u001b[39m# Check whether the filename is to be opened in binary mode.\u001b[39;00m\n\u001b[1;32m    856\u001b[0m     \u001b[39m# Binary mode does not support 'encoding' and 'newline'.\u001b[39;00m\n\u001b[1;32m    857\u001b[0m     \u001b[39mif\u001b[39;00m ioargs\u001b[39m.\u001b[39mencoding \u001b[39mand\u001b[39;00m \u001b[39m\"\u001b[39m\u001b[39mb\u001b[39m\u001b[39m\"\u001b[39m \u001b[39mnot\u001b[39;00m \u001b[39min\u001b[39;00m ioargs\u001b[39m.\u001b[39mmode:\n\u001b[1;32m    858\u001b[0m         \u001b[39m# Encoding\u001b[39;00m\n\u001b[0;32m--> 859\u001b[0m         handle \u001b[39m=\u001b[39m \u001b[39mopen\u001b[39;49m(\n\u001b[1;32m    860\u001b[0m             handle,\n\u001b[1;32m    861\u001b[0m             ioargs\u001b[39m.\u001b[39;49mmode,\n\u001b[1;32m    862\u001b[0m             encoding\u001b[39m=\u001b[39;49mioargs\u001b[39m.\u001b[39;49mencoding,\n\u001b[1;32m    863\u001b[0m             errors\u001b[39m=\u001b[39;49merrors,\n\u001b[1;32m    864\u001b[0m             newline\u001b[39m=\u001b[39;49m\u001b[39m\"\u001b[39;49m\u001b[39m\"\u001b[39;49m,\n\u001b[1;32m    865\u001b[0m         )\n\u001b[1;32m    866\u001b[0m     \u001b[39melse\u001b[39;00m:\n\u001b[1;32m    867\u001b[0m         \u001b[39m# Binary mode\u001b[39;00m\n\u001b[1;32m    868\u001b[0m         handle \u001b[39m=\u001b[39m \u001b[39mopen\u001b[39m(handle, ioargs\u001b[39m.\u001b[39mmode)\n",
      "\u001b[0;31mFileNotFoundError\u001b[0m: [Errno 2] No such file or directory: '/Desktop/DATA/TCGA/TCGA_Breast_Cancer_(BRCA)/TCGA.BRCA.sampleMap_BRCA_clinicalMatrix'"
     ]
    }
   ],
   "source": [
    "import pandas as pd\n",
    "\n",
    "clinical_data = pd.read_csv(clinical_data_file, sep='\\t', index_col=0)\n",
    "genetic_data = pd.read_csv(genetic_data_file, compression='gzip', sep='\\t', index_col=0)\n",
    "age_col = gender_col = None"
   ]
  },
  {
   "cell_type": "code",
   "execution_count": 7,
   "metadata": {
    "collapsed": false
   },
   "outputs": [
    {
     "ename": "NameError",
     "evalue": "name 'clinical_data' is not defined",
     "output_type": "error",
     "traceback": [
      "\u001b[0;31m---------------------------------------------------------------------------\u001b[0m",
      "\u001b[0;31mNameError\u001b[0m                                 Traceback (most recent call last)",
      "Cell \u001b[0;32mIn[7], line 1\u001b[0m\n\u001b[0;32m----> 1\u001b[0m _, clinical_data_cols \u001b[39m=\u001b[39m check_rows_and_columns(clinical_data)\n\u001b[1;32m      2\u001b[0m clinical_data_cols[:\u001b[39m10\u001b[39m]\n",
      "\u001b[0;31mNameError\u001b[0m: name 'clinical_data' is not defined"
     ]
    }
   ],
   "source": [
    "_, clinical_data_cols = check_rows_and_columns(clinical_data)\n",
    "clinical_data_cols[:10]"
   ]
  },
  {
   "cell_type": "markdown",
   "metadata": {
    "ExecuteTime": {
     "end_time": "2023-12-28T20:20:11.841042813Z",
     "start_time": "2023-12-28T20:20:11.834458206Z"
    },
    "collapsed": false
   },
   "source": [
    "Read all the column names in the clinical dataset, to find the columns that record information about age or gender.\n",
    "Reference prompt:"
   ]
  },
  {
   "cell_type": "code",
   "execution_count": 8,
   "metadata": {
    "collapsed": false
   },
   "outputs": [
    {
     "ename": "NameError",
     "evalue": "name 'clinical_data_cols' is not defined",
     "output_type": "error",
     "traceback": [
      "\u001b[0;31m---------------------------------------------------------------------------\u001b[0m",
      "\u001b[0;31mNameError\u001b[0m                                 Traceback (most recent call last)",
      "Cell \u001b[0;32mIn[8], line 8\u001b[0m\n\u001b[1;32m      1\u001b[0m \u001b[39mf\u001b[39m\u001b[39m'''\u001b[39m\n\u001b[1;32m      2\u001b[0m \u001b[39mBelow is a list of column names from a biomedical dataset. Please examine it and identify the columns that are likely to contain information about patients\u001b[39m\u001b[39m'\u001b[39m\u001b[39m age. Additionally, please do the same for columns that may hold data on patients\u001b[39m\u001b[39m'\u001b[39m\u001b[39m gender. Please provide your answer by strictly following this format, without redundant words:\u001b[39m\n\u001b[1;32m      3\u001b[0m \u001b[39mcandidate_age_cols = [col_name1, col_name2, ...]\u001b[39m\n\u001b[1;32m      4\u001b[0m \u001b[39mcandidate_gender_cols = [col_name1, col_name2, ...]\u001b[39m\n\u001b[1;32m      5\u001b[0m \u001b[39mIf no columns match a criterion, please provide an empty list.\u001b[39m\n\u001b[1;32m      6\u001b[0m \n\u001b[1;32m      7\u001b[0m \u001b[39mColumn names:\u001b[39m\n\u001b[0;32m----> 8\u001b[0m \u001b[39m{\u001b[39;00mclinical_data_cols\u001b[39m}\u001b[39;00m\n\u001b[1;32m      9\u001b[0m \u001b[39m'''\u001b[39m\n",
      "\u001b[0;31mNameError\u001b[0m: name 'clinical_data_cols' is not defined"
     ]
    }
   ],
   "source": [
    "f'''\n",
    "Below is a list of column names from a biomedical dataset. Please examine it and identify the columns that are likely to contain information about patients' age. Additionally, please do the same for columns that may hold data on patients' gender. Please provide your answer by strictly following this format, without redundant words:\n",
    "candidate_age_cols = [col_name1, col_name2, ...]\n",
    "candidate_gender_cols = [col_name1, col_name2, ...]\n",
    "If no columns match a criterion, please provide an empty list.\n",
    "\n",
    "Column names:\n",
    "{clinical_data_cols}\n",
    "'''"
   ]
  },
  {
   "cell_type": "code",
   "execution_count": 9,
   "metadata": {
    "collapsed": false
   },
   "outputs": [],
   "source": [
    "candidate_age_cols = ['Age_at_Initial_Pathologic_Diagnosis_nature2012', 'age_at_initial_pathologic_diagnosis',\n",
    "                      'days_to_birth', 'year_of_initial_pathologic_diagnosis']\n",
    "candidate_gender_cols = ['Gender_nature2012', 'gender']"
   ]
  },
  {
   "cell_type": "markdown",
   "metadata": {
    "ExecuteTime": {
     "end_time": "2023-12-31T03:57:44.207565572Z",
     "start_time": "2023-12-31T03:57:44.202177544Z"
    },
    "collapsed": false
   },
   "source": [
    "Choose a single column from the candidate columns that record age and gender information respectively.\n",
    "If no column meets the requirement, keep 'age_col' or 'gender_col' to None"
   ]
  },
  {
   "cell_type": "code",
   "execution_count": 10,
   "metadata": {
    "collapsed": false
   },
   "outputs": [
    {
     "ename": "NameError",
     "evalue": "name 'clinical_data' is not defined",
     "output_type": "error",
     "traceback": [
      "\u001b[0;31m---------------------------------------------------------------------------\u001b[0m",
      "\u001b[0;31mNameError\u001b[0m                                 Traceback (most recent call last)",
      "Cell \u001b[0;32mIn[10], line 1\u001b[0m\n\u001b[0;32m----> 1\u001b[0m preview_df(clinical_data[candidate_age_cols])\n",
      "\u001b[0;31mNameError\u001b[0m: name 'clinical_data' is not defined"
     ]
    }
   ],
   "source": [
    "preview_df(clinical_data[candidate_age_cols])"
   ]
  },
  {
   "cell_type": "code",
   "execution_count": 11,
   "metadata": {
    "collapsed": false
   },
   "outputs": [],
   "source": [
    "age_col = 'age_at_initial_pathologic_diagnosis'"
   ]
  },
  {
   "cell_type": "code",
   "execution_count": 12,
   "metadata": {
    "collapsed": false
   },
   "outputs": [
    {
     "ename": "NameError",
     "evalue": "name 'clinical_data' is not defined",
     "output_type": "error",
     "traceback": [
      "\u001b[0;31m---------------------------------------------------------------------------\u001b[0m",
      "\u001b[0;31mNameError\u001b[0m                                 Traceback (most recent call last)",
      "Cell \u001b[0;32mIn[12], line 1\u001b[0m\n\u001b[0;32m----> 1\u001b[0m preview_df(clinical_data[candidate_gender_cols])\n",
      "\u001b[0;31mNameError\u001b[0m: name 'clinical_data' is not defined"
     ]
    }
   ],
   "source": [
    "preview_df(clinical_data[candidate_gender_cols])"
   ]
  },
  {
   "cell_type": "code",
   "execution_count": 13,
   "metadata": {
    "collapsed": false
   },
   "outputs": [],
   "source": [
    "gender_col = 'gender'"
   ]
  },
  {
   "cell_type": "code",
   "execution_count": 14,
   "metadata": {
    "collapsed": false
   },
   "outputs": [
    {
     "ename": "NameError",
     "evalue": "name 'clinical_data' is not defined",
     "output_type": "error",
     "traceback": [
      "\u001b[0;31m---------------------------------------------------------------------------\u001b[0m",
      "\u001b[0;31mNameError\u001b[0m                                 Traceback (most recent call last)",
      "Cell \u001b[0;32mIn[14], line 1\u001b[0m\n\u001b[0;32m----> 1\u001b[0m selected_clinical_data \u001b[39m=\u001b[39m xena_select_clinical_features(clinical_data, TRAIT, age_col\u001b[39m=\u001b[39mage_col, gender_col\u001b[39m=\u001b[39mgender_col)\n",
      "\u001b[0;31mNameError\u001b[0m: name 'clinical_data' is not defined"
     ]
    }
   ],
   "source": [
    "selected_clinical_data = xena_select_clinical_features(clinical_data, TRAIT, age_col=age_col, gender_col=gender_col)"
   ]
  },
  {
   "cell_type": "code",
   "execution_count": 15,
   "metadata": {
    "collapsed": false
   },
   "outputs": [
    {
     "ename": "NameError",
     "evalue": "name 'genetic_data' is not defined",
     "output_type": "error",
     "traceback": [
      "\u001b[0;31m---------------------------------------------------------------------------\u001b[0m",
      "\u001b[0;31mNameError\u001b[0m                                 Traceback (most recent call last)",
      "Cell \u001b[0;32mIn[15], line 2\u001b[0m\n\u001b[1;32m      1\u001b[0m \u001b[39mif\u001b[39;00m NORMALIZE_GENE:\n\u001b[0;32m----> 2\u001b[0m     genetic_data \u001b[39m=\u001b[39m normalize_gene_symbols_in_index(genetic_data)\n",
      "\u001b[0;31mNameError\u001b[0m: name 'genetic_data' is not defined"
     ]
    }
   ],
   "source": [
    "if NORMALIZE_GENE:\n",
    "    genetic_data = normalize_gene_symbols_in_index(genetic_data)"
   ]
  },
  {
   "cell_type": "code",
   "execution_count": 16,
   "metadata": {
    "collapsed": false
   },
   "outputs": [
    {
     "ename": "NameError",
     "evalue": "name 'selected_clinical_data' is not defined",
     "output_type": "error",
     "traceback": [
      "\u001b[0;31m---------------------------------------------------------------------------\u001b[0m",
      "\u001b[0;31mNameError\u001b[0m                                 Traceback (most recent call last)",
      "Cell \u001b[0;32mIn[16], line 1\u001b[0m\n\u001b[0;32m----> 1\u001b[0m merged_data \u001b[39m=\u001b[39m selected_clinical_data\u001b[39m.\u001b[39mjoin(genetic_data\u001b[39m.\u001b[39mT)\u001b[39m.\u001b[39mdropna()\n\u001b[1;32m      2\u001b[0m merged_data\u001b[39m.\u001b[39mhead()\n",
      "\u001b[0;31mNameError\u001b[0m: name 'selected_clinical_data' is not defined"
     ]
    }
   ],
   "source": [
    "merged_data = selected_clinical_data.join(genetic_data.T).dropna()\n",
    "merged_data.head()"
   ]
  },
  {
   "cell_type": "code",
   "execution_count": 17,
   "metadata": {
    "collapsed": false
   },
   "outputs": [
    {
     "ename": "NameError",
     "evalue": "name 'merged_data' is not defined",
     "output_type": "error",
     "traceback": [
      "\u001b[0;31m---------------------------------------------------------------------------\u001b[0m",
      "\u001b[0;31mNameError\u001b[0m                                 Traceback (most recent call last)",
      "Cell \u001b[0;32mIn[17], line 1\u001b[0m\n\u001b[0;32m----> 1\u001b[0m \u001b[39mprint\u001b[39m(\u001b[39mf\u001b[39m\u001b[39m\"\u001b[39m\u001b[39mThe merged dataset contains \u001b[39m\u001b[39m{\u001b[39;00m\u001b[39mlen\u001b[39m(merged_data)\u001b[39m}\u001b[39;00m\u001b[39m samples.\u001b[39m\u001b[39m\"\u001b[39m)\n\u001b[1;32m      2\u001b[0m is_trait_biased, merge_data \u001b[39m=\u001b[39m judge_and_remove_biased_features(merged_data, TRAIT, trait_type\u001b[39m=\u001b[39mtrait_type)\n\u001b[1;32m      3\u001b[0m is_trait_biased\n",
      "\u001b[0;31mNameError\u001b[0m: name 'merged_data' is not defined"
     ]
    }
   ],
   "source": [
    "print(f\"The merged dataset contains {len(merged_data)} samples.\")\n",
    "is_trait_biased, merge_data = judge_and_remove_biased_features(merged_data, TRAIT, trait_type=trait_type)\n",
    "is_trait_biased"
   ]
  },
  {
   "cell_type": "code",
   "execution_count": 18,
   "metadata": {
    "collapsed": false
   },
   "outputs": [
    {
     "ename": "NameError",
     "evalue": "name 'merged_data' is not defined",
     "output_type": "error",
     "traceback": [
      "\u001b[0;31m---------------------------------------------------------------------------\u001b[0m",
      "\u001b[0;31mNameError\u001b[0m                                 Traceback (most recent call last)",
      "Cell \u001b[0;32mIn[18], line 1\u001b[0m\n\u001b[0;32m----> 1\u001b[0m merged_data\u001b[39m.\u001b[39mhead()\n\u001b[1;32m      2\u001b[0m \u001b[39mif\u001b[39;00m \u001b[39mnot\u001b[39;00m is_trait_biased:\n\u001b[1;32m      3\u001b[0m     merge_data\u001b[39m.\u001b[39mto_csv(os\u001b[39m.\u001b[39mpath\u001b[39m.\u001b[39mjoin(OUTPUT_DIR, cohort \u001b[39m+\u001b[39m \u001b[39m'\u001b[39m\u001b[39m.csv\u001b[39m\u001b[39m'\u001b[39m), index\u001b[39m=\u001b[39m\u001b[39mFalse\u001b[39;00m)\n",
      "\u001b[0;31mNameError\u001b[0m: name 'merged_data' is not defined"
     ]
    }
   ],
   "source": [
    "merged_data.head()\n",
    "if not is_trait_biased:\n",
    "    merge_data.to_csv(os.path.join(OUTPUT_DIR, cohort + '.csv'), index=False)"
   ]
  },
  {
   "cell_type": "code",
   "execution_count": 19,
   "metadata": {
    "collapsed": false
   },
   "outputs": [
    {
     "ename": "NameError",
     "evalue": "name 'is_trait_biased' is not defined",
     "output_type": "error",
     "traceback": [
      "\u001b[0;31m---------------------------------------------------------------------------\u001b[0m",
      "\u001b[0;31mNameError\u001b[0m                                 Traceback (most recent call last)",
      "Cell \u001b[0;32mIn[19], line 1\u001b[0m\n\u001b[0;32m----> 1\u001b[0m save_cohort_info(cohort, JSON_PATH, is_available, is_trait_biased, merged_data)\n",
      "\u001b[0;31mNameError\u001b[0m: name 'is_trait_biased' is not defined"
     ]
    }
   ],
   "source": [
    "save_cohort_info(cohort, JSON_PATH, is_available, is_trait_biased, merged_data)"
   ]
  },
  {
   "cell_type": "markdown",
   "metadata": {
    "ExecuteTime": {
     "end_time": "2023-12-28T21:28:38.028916303Z",
     "start_time": "2023-12-28T21:28:38.016245426Z"
    },
    "collapsed": false
   },
   "source": [
    "## 2.2. The GEO dataset"
   ]
  },
  {
   "cell_type": "markdown",
   "metadata": {
    "ExecuteTime": {
     "end_time": "2023-12-31T03:25:23.253882615Z",
     "start_time": "2023-12-31T03:25:23.244062710Z"
    },
    "collapsed": false
   },
   "source": [
    "In GEO, there may be one or multiple cohorts for a trait. Each cohort is identified by an accession number. We iterate over all accession numbers in the corresponding subdirectory, preprocess the cohort data, and save them to csv files."
   ]
  },
  {
   "cell_type": "code",
   "execution_count": 11,
   "metadata": {
    "ExecuteTime": {
     "end_time": "2024-01-27T00:25:16.467115550Z",
     "start_time": "2024-01-27T00:25:16.452777691Z"
    },
    "collapsed": false
   },
   "outputs": [
    {
     "data": {
      "text/plain": [
       "['.DS_Store', 'GSE207945', 'GSE243348']"
      ]
     },
     "execution_count": 11,
     "metadata": {},
     "output_type": "execute_result"
    }
   ],
   "source": [
    "dataset = 'GEO'\n",
    "trait_subdir = \"COVID-19\"\n",
    "\n",
    "trait_path = os.path.join(DATA_ROOT, dataset, trait_subdir)\n",
    "os.listdir(trait_path)"
   ]
  },
  {
   "cell_type": "markdown",
   "metadata": {
    "ExecuteTime": {
     "end_time": "2023-12-31T03:39:42.634870142Z",
     "start_time": "2023-12-31T03:39:42.534093295Z"
    },
    "collapsed": false
   },
   "source": [
    "Repeat the below steps for all the accession numbers"
   ]
  },
  {
   "cell_type": "code",
   "execution_count": 50,
   "metadata": {
    "ExecuteTime": {
     "end_time": "2024-01-27T00:26:18.658959299Z",
     "start_time": "2024-01-27T00:26:18.646102133Z"
    },
    "collapsed": false
   },
   "outputs": [
    {
     "data": {
      "text/plain": [
       "('/Users/fabianmartinez/Desktop/DATA/TAIS_2024SP/GEO/COVID-19/GSE243348/GSE243348_family.soft.gz',\n",
       " '/Users/fabianmartinez/Desktop/DATA/TAIS_2024SP/GEO/COVID-19/GSE243348/GSE243348_series_matrix.txt.gz')"
      ]
     },
     "execution_count": 50,
     "metadata": {},
     "output_type": "execute_result"
    }
   ],
   "source": [
    "cohort = accession_num = \"GSE243348\"\n",
    "cohort_dir = os.path.join(trait_path, accession_num)\n",
    "soft_file, matrix_file = geo_get_relevant_filepaths(cohort_dir)\n",
    "soft_file, matrix_file"
   ]
  },
  {
   "cell_type": "markdown",
   "metadata": {
    "collapsed": false
   },
   "source": [
    "### Initial filtering and clinical data preprocessing"
   ]
  },
  {
   "cell_type": "code",
   "execution_count": 13,
   "metadata": {
    "ExecuteTime": {
     "end_time": "2024-01-27T00:26:19.344095765Z",
     "start_time": "2024-01-27T00:26:19.292195906Z"
    },
    "collapsed": false
   },
   "outputs": [
    {
     "name": "stdout",
     "output_type": "stream",
     "text": [
      "!Series_title\t\"Longitudinal gene expression profiling of self-collected blood samples in COVID-19+ and healthy participants\"\n",
      "!Series_summary\t\"Longitudinal cohort: 773 host response genes were profiled in previously vaccinated (n=16) and unvaccinated (n=14) COVID-19+ participants along with 5 healthy uninfected controls across a 2-week observational window\"\n",
      "!Series_summary\t\"Single timepoint cohort: 773 host response genes were profiled in 6 healthy uninfected participants\"\n",
      "!Series_overall_design\t\"Longitudinal cohort: 30 COVID-19+ and 5 uninfected participants were asked perform self-collection and stabilization of capillary blood using a novel technology (homeRNA) every other day for two weeks (7 longtiudinal timepoints per participant). Temporal kinetics of 773 immune genes were profiled using the nCounter direct digital counting of native mRNA.\"\n",
      "!Series_overall_design\t\"Single timepoint cohort: 6 healthy uninfected participants were asked perform self-collection and stabilization of capillary blood using a novel technology (homeRNA). Temporal kinetics of 773 immune genes were profiled using the nCounter direct digital counting of native mRNA.\"\n"
     ]
    }
   ],
   "source": [
    "background_prefixes = ['!Series_title', '!Series_summary', '!Series_overall_design']\n",
    "clinical_prefixes = ['!Sample_geo_accession', '!Sample_characteristics_ch1']\n",
    "\n",
    "background_info, clinical_data = get_background_and_clinical_data(matrix_file, background_prefixes, clinical_prefixes)\n",
    "print(background_info)"
   ]
  },
  {
   "cell_type": "code",
   "execution_count": 14,
   "metadata": {
    "ExecuteTime": {
     "end_time": "2024-01-27T00:26:19.587722083Z",
     "start_time": "2024-01-27T00:26:19.577181889Z"
    },
    "collapsed": false
   },
   "outputs": [
    {
     "data": {
      "text/html": [
       "<div>\n",
       "<style scoped>\n",
       "    .dataframe tbody tr th:only-of-type {\n",
       "        vertical-align: middle;\n",
       "    }\n",
       "\n",
       "    .dataframe tbody tr th {\n",
       "        vertical-align: top;\n",
       "    }\n",
       "\n",
       "    .dataframe thead th {\n",
       "        text-align: right;\n",
       "    }\n",
       "</style>\n",
       "<table border=\"1\" class=\"dataframe\">\n",
       "  <thead>\n",
       "    <tr style=\"text-align: right;\">\n",
       "      <th></th>\n",
       "      <th>!Sample_geo_accession</th>\n",
       "      <th>GSM7783810</th>\n",
       "      <th>GSM7783811</th>\n",
       "      <th>GSM7783812</th>\n",
       "      <th>GSM7783813</th>\n",
       "      <th>GSM7783814</th>\n",
       "      <th>GSM7783815</th>\n",
       "      <th>GSM7783816</th>\n",
       "      <th>GSM7783817</th>\n",
       "      <th>GSM7783818</th>\n",
       "      <th>...</th>\n",
       "      <th>GSM7784037</th>\n",
       "      <th>GSM7784038</th>\n",
       "      <th>GSM7784039</th>\n",
       "      <th>GSM7784040</th>\n",
       "      <th>GSM7784041</th>\n",
       "      <th>GSM7784042</th>\n",
       "      <th>GSM7784043</th>\n",
       "      <th>GSM7784044</th>\n",
       "      <th>GSM7784045</th>\n",
       "      <th>GSM7784046</th>\n",
       "    </tr>\n",
       "  </thead>\n",
       "  <tbody>\n",
       "    <tr>\n",
       "      <th>0</th>\n",
       "      <td>!Sample_characteristics_ch1</td>\n",
       "      <td>disease status: COVID-19+</td>\n",
       "      <td>disease status: COVID-19+</td>\n",
       "      <td>disease status: COVID-19+</td>\n",
       "      <td>disease status: COVID-19+</td>\n",
       "      <td>disease status: COVID-19+</td>\n",
       "      <td>disease status: COVID-19+</td>\n",
       "      <td>disease status: COVID-19+</td>\n",
       "      <td>disease status: COVID-19+</td>\n",
       "      <td>disease status: COVID-19+</td>\n",
       "      <td>...</td>\n",
       "      <td>disease status: Healthy uninfected</td>\n",
       "      <td>disease status: Healthy uninfected</td>\n",
       "      <td>disease status: Healthy uninfected</td>\n",
       "      <td>disease status: Healthy uninfected</td>\n",
       "      <td>disease status: Healthy uninfected</td>\n",
       "      <td>disease status: Healthy uninfected</td>\n",
       "      <td>disease status: Healthy uninfected</td>\n",
       "      <td>disease status: Healthy uninfected</td>\n",
       "      <td>disease status: Healthy uninfected</td>\n",
       "      <td>disease status: Healthy uninfected</td>\n",
       "    </tr>\n",
       "    <tr>\n",
       "      <th>1</th>\n",
       "      <td>!Sample_characteristics_ch1</td>\n",
       "      <td>participant id: CB0101</td>\n",
       "      <td>participant id: CB0101</td>\n",
       "      <td>participant id: CB0101</td>\n",
       "      <td>participant id: CB0101</td>\n",
       "      <td>participant id: CB0101</td>\n",
       "      <td>participant id: CB0101</td>\n",
       "      <td>participant id: CB0101</td>\n",
       "      <td>participant id: CB0102</td>\n",
       "      <td>participant id: CB0102</td>\n",
       "      <td>...</td>\n",
       "      <td>participant id: HC0105</td>\n",
       "      <td>participant id: HC0105</td>\n",
       "      <td>participant id: HC0105</td>\n",
       "      <td>participant id: HC0105</td>\n",
       "      <td>participant id: CA0101</td>\n",
       "      <td>participant id: CA0108</td>\n",
       "      <td>participant id: CA0112</td>\n",
       "      <td>participant id: CA0113</td>\n",
       "      <td>participant id: CA0119</td>\n",
       "      <td>participant id: CA0120</td>\n",
       "    </tr>\n",
       "    <tr>\n",
       "      <th>2</th>\n",
       "      <td>!Sample_characteristics_ch1</td>\n",
       "      <td>Sex: female</td>\n",
       "      <td>Sex: female</td>\n",
       "      <td>Sex: female</td>\n",
       "      <td>Sex: female</td>\n",
       "      <td>Sex: female</td>\n",
       "      <td>Sex: female</td>\n",
       "      <td>Sex: female</td>\n",
       "      <td>Sex: female</td>\n",
       "      <td>Sex: female</td>\n",
       "      <td>...</td>\n",
       "      <td>Sex: female</td>\n",
       "      <td>Sex: female</td>\n",
       "      <td>Sex: female</td>\n",
       "      <td>Sex: female</td>\n",
       "      <td>Sex: male</td>\n",
       "      <td>Sex: female</td>\n",
       "      <td>Sex: female</td>\n",
       "      <td>Sex: female</td>\n",
       "      <td>Sex: male</td>\n",
       "      <td>Sex: male</td>\n",
       "    </tr>\n",
       "    <tr>\n",
       "      <th>3</th>\n",
       "      <td>!Sample_characteristics_ch1</td>\n",
       "      <td>age: 44</td>\n",
       "      <td>age: 44</td>\n",
       "      <td>age: 44</td>\n",
       "      <td>age: 44</td>\n",
       "      <td>age: 44</td>\n",
       "      <td>age: 44</td>\n",
       "      <td>age: 44</td>\n",
       "      <td>age: 29</td>\n",
       "      <td>age: 29</td>\n",
       "      <td>...</td>\n",
       "      <td>age: 40</td>\n",
       "      <td>age: 40</td>\n",
       "      <td>age: 40</td>\n",
       "      <td>age: 40</td>\n",
       "      <td>age: 36</td>\n",
       "      <td>age: 24</td>\n",
       "      <td>age: 28</td>\n",
       "      <td>age: 36</td>\n",
       "      <td>age: 27</td>\n",
       "      <td>age: 38</td>\n",
       "    </tr>\n",
       "    <tr>\n",
       "      <th>4</th>\n",
       "      <td>!Sample_characteristics_ch1</td>\n",
       "      <td>covid-19 vaccination history: unvaccinated</td>\n",
       "      <td>covid-19 vaccination history: unvaccinated</td>\n",
       "      <td>covid-19 vaccination history: unvaccinated</td>\n",
       "      <td>covid-19 vaccination history: unvaccinated</td>\n",
       "      <td>covid-19 vaccination history: unvaccinated</td>\n",
       "      <td>covid-19 vaccination history: unvaccinated</td>\n",
       "      <td>covid-19 vaccination history: unvaccinated</td>\n",
       "      <td>covid-19 vaccination history: unvaccinated</td>\n",
       "      <td>covid-19 vaccination history: unvaccinated</td>\n",
       "      <td>...</td>\n",
       "      <td>covid-19 vaccination history: vaccinated</td>\n",
       "      <td>covid-19 vaccination history: vaccinated</td>\n",
       "      <td>covid-19 vaccination history: vaccinated</td>\n",
       "      <td>covid-19 vaccination history: vaccinated</td>\n",
       "      <td>covid-19 vaccination history: vaccinated</td>\n",
       "      <td>covid-19 vaccination history: unvaccinated</td>\n",
       "      <td>covid-19 vaccination history: vaccinated</td>\n",
       "      <td>covid-19 vaccination history: unvaccinated</td>\n",
       "      <td>covid-19 vaccination history: unvaccinated</td>\n",
       "      <td>covid-19 vaccination history: vaccinated</td>\n",
       "    </tr>\n",
       "  </tbody>\n",
       "</table>\n",
       "<p>5 rows × 238 columns</p>\n",
       "</div>"
      ],
      "text/plain": [
       "         !Sample_geo_accession                                  GSM7783810  \\\n",
       "0  !Sample_characteristics_ch1                   disease status: COVID-19+   \n",
       "1  !Sample_characteristics_ch1                      participant id: CB0101   \n",
       "2  !Sample_characteristics_ch1                                 Sex: female   \n",
       "3  !Sample_characteristics_ch1                                     age: 44   \n",
       "4  !Sample_characteristics_ch1  covid-19 vaccination history: unvaccinated   \n",
       "\n",
       "                                   GSM7783811  \\\n",
       "0                   disease status: COVID-19+   \n",
       "1                      participant id: CB0101   \n",
       "2                                 Sex: female   \n",
       "3                                     age: 44   \n",
       "4  covid-19 vaccination history: unvaccinated   \n",
       "\n",
       "                                   GSM7783812  \\\n",
       "0                   disease status: COVID-19+   \n",
       "1                      participant id: CB0101   \n",
       "2                                 Sex: female   \n",
       "3                                     age: 44   \n",
       "4  covid-19 vaccination history: unvaccinated   \n",
       "\n",
       "                                   GSM7783813  \\\n",
       "0                   disease status: COVID-19+   \n",
       "1                      participant id: CB0101   \n",
       "2                                 Sex: female   \n",
       "3                                     age: 44   \n",
       "4  covid-19 vaccination history: unvaccinated   \n",
       "\n",
       "                                   GSM7783814  \\\n",
       "0                   disease status: COVID-19+   \n",
       "1                      participant id: CB0101   \n",
       "2                                 Sex: female   \n",
       "3                                     age: 44   \n",
       "4  covid-19 vaccination history: unvaccinated   \n",
       "\n",
       "                                   GSM7783815  \\\n",
       "0                   disease status: COVID-19+   \n",
       "1                      participant id: CB0101   \n",
       "2                                 Sex: female   \n",
       "3                                     age: 44   \n",
       "4  covid-19 vaccination history: unvaccinated   \n",
       "\n",
       "                                   GSM7783816  \\\n",
       "0                   disease status: COVID-19+   \n",
       "1                      participant id: CB0101   \n",
       "2                                 Sex: female   \n",
       "3                                     age: 44   \n",
       "4  covid-19 vaccination history: unvaccinated   \n",
       "\n",
       "                                   GSM7783817  \\\n",
       "0                   disease status: COVID-19+   \n",
       "1                      participant id: CB0102   \n",
       "2                                 Sex: female   \n",
       "3                                     age: 29   \n",
       "4  covid-19 vaccination history: unvaccinated   \n",
       "\n",
       "                                   GSM7783818  ...  \\\n",
       "0                   disease status: COVID-19+  ...   \n",
       "1                      participant id: CB0102  ...   \n",
       "2                                 Sex: female  ...   \n",
       "3                                     age: 29  ...   \n",
       "4  covid-19 vaccination history: unvaccinated  ...   \n",
       "\n",
       "                                 GSM7784037  \\\n",
       "0        disease status: Healthy uninfected   \n",
       "1                    participant id: HC0105   \n",
       "2                               Sex: female   \n",
       "3                                   age: 40   \n",
       "4  covid-19 vaccination history: vaccinated   \n",
       "\n",
       "                                 GSM7784038  \\\n",
       "0        disease status: Healthy uninfected   \n",
       "1                    participant id: HC0105   \n",
       "2                               Sex: female   \n",
       "3                                   age: 40   \n",
       "4  covid-19 vaccination history: vaccinated   \n",
       "\n",
       "                                 GSM7784039  \\\n",
       "0        disease status: Healthy uninfected   \n",
       "1                    participant id: HC0105   \n",
       "2                               Sex: female   \n",
       "3                                   age: 40   \n",
       "4  covid-19 vaccination history: vaccinated   \n",
       "\n",
       "                                 GSM7784040  \\\n",
       "0        disease status: Healthy uninfected   \n",
       "1                    participant id: HC0105   \n",
       "2                               Sex: female   \n",
       "3                                   age: 40   \n",
       "4  covid-19 vaccination history: vaccinated   \n",
       "\n",
       "                                 GSM7784041  \\\n",
       "0        disease status: Healthy uninfected   \n",
       "1                    participant id: CA0101   \n",
       "2                                 Sex: male   \n",
       "3                                   age: 36   \n",
       "4  covid-19 vaccination history: vaccinated   \n",
       "\n",
       "                                   GSM7784042  \\\n",
       "0          disease status: Healthy uninfected   \n",
       "1                      participant id: CA0108   \n",
       "2                                 Sex: female   \n",
       "3                                     age: 24   \n",
       "4  covid-19 vaccination history: unvaccinated   \n",
       "\n",
       "                                 GSM7784043  \\\n",
       "0        disease status: Healthy uninfected   \n",
       "1                    participant id: CA0112   \n",
       "2                               Sex: female   \n",
       "3                                   age: 28   \n",
       "4  covid-19 vaccination history: vaccinated   \n",
       "\n",
       "                                   GSM7784044  \\\n",
       "0          disease status: Healthy uninfected   \n",
       "1                      participant id: CA0113   \n",
       "2                                 Sex: female   \n",
       "3                                     age: 36   \n",
       "4  covid-19 vaccination history: unvaccinated   \n",
       "\n",
       "                                   GSM7784045  \\\n",
       "0          disease status: Healthy uninfected   \n",
       "1                      participant id: CA0119   \n",
       "2                                   Sex: male   \n",
       "3                                     age: 27   \n",
       "4  covid-19 vaccination history: unvaccinated   \n",
       "\n",
       "                                 GSM7784046  \n",
       "0        disease status: Healthy uninfected  \n",
       "1                    participant id: CA0120  \n",
       "2                                 Sex: male  \n",
       "3                                   age: 38  \n",
       "4  covid-19 vaccination history: vaccinated  \n",
       "\n",
       "[5 rows x 238 columns]"
      ]
     },
     "execution_count": 14,
     "metadata": {},
     "output_type": "execute_result"
    }
   ],
   "source": [
    "clinical_data.head()"
   ]
  },
  {
   "cell_type": "code",
   "execution_count": 15,
   "metadata": {
    "ExecuteTime": {
     "end_time": "2024-01-27T00:26:19.849788418Z",
     "start_time": "2024-01-27T00:26:19.804487856Z"
    },
    "collapsed": false
   },
   "outputs": [
    {
     "data": {
      "text/plain": [
       "{0: ['disease status: COVID-19+', 'disease status: Healthy uninfected'],\n",
       " 1: ['participant id: CB0101',\n",
       "  'participant id: CB0102',\n",
       "  'participant id: CB0104',\n",
       "  'participant id: CB0106',\n",
       "  'participant id: CB0107',\n",
       "  'participant id: CB0111',\n",
       "  'participant id: CB0112',\n",
       "  'participant id: CB0113',\n",
       "  'participant id: CB0115',\n",
       "  'participant id: CB0116',\n",
       "  'participant id: CB0117',\n",
       "  'participant id: CB0118',\n",
       "  'participant id: CB0119',\n",
       "  'participant id: CB0120',\n",
       "  'participant id: CB0121',\n",
       "  'participant id: CB0122',\n",
       "  'participant id: CB0123',\n",
       "  'participant id: CB0124',\n",
       "  'participant id: CB0125',\n",
       "  'participant id: CB0128',\n",
       "  'participant id: CB0129',\n",
       "  'participant id: CB0130',\n",
       "  'participant id: CB0131',\n",
       "  'participant id: CB0132',\n",
       "  'participant id: CB0133',\n",
       "  'participant id: CB0134',\n",
       "  'participant id: CB0135',\n",
       "  'participant id: CB0136',\n",
       "  'participant id: CB0138',\n",
       "  'participant id: CB0139'],\n",
       " 2: ['Sex: female', 'Sex: male'],\n",
       " 3: ['age: 44',\n",
       "  'age: 29',\n",
       "  'age: 51',\n",
       "  'age: 32',\n",
       "  'age: 27',\n",
       "  'age: 30',\n",
       "  'age: 41',\n",
       "  'age: 43',\n",
       "  'age: 34',\n",
       "  'age: 60',\n",
       "  'age: 24',\n",
       "  'age: 36',\n",
       "  'age: 33',\n",
       "  'age: 53',\n",
       "  'age: 31',\n",
       "  'age: 59',\n",
       "  'age: 40',\n",
       "  'age: 65',\n",
       "  'age: 37',\n",
       "  'age: 39',\n",
       "  'age: 58',\n",
       "  'age: 42',\n",
       "  'age: 28',\n",
       "  'age: 38'],\n",
       " 4: ['covid-19 vaccination history: unvaccinated',\n",
       "  'covid-19 vaccination history: vaccinated',\n",
       "  'covid-19 vaccination history: partial'],\n",
       " 5: ['day post symptom onset: 10',\n",
       "  'day post symptom onset: 13',\n",
       "  'day post symptom onset: 15',\n",
       "  'day post symptom onset: 17',\n",
       "  'day post symptom onset: 19',\n",
       "  'day post symptom onset: 21',\n",
       "  'day post symptom onset: 23',\n",
       "  'day post symptom onset: 9',\n",
       "  'day post symptom onset: 11',\n",
       "  'day post symptom onset: 8',\n",
       "  'day post symptom onset: 12',\n",
       "  'day post symptom onset: 14',\n",
       "  'day post symptom onset: 16',\n",
       "  'day post symptom onset: 18',\n",
       "  'day post symptom onset: 20',\n",
       "  'day post symptom onset: 27',\n",
       "  'day post symptom onset: 25',\n",
       "  'day post symptom onset: 5',\n",
       "  'day post symptom onset: 7',\n",
       "  'day post symptom onset: 6',\n",
       "  'day post symptom onset: 22',\n",
       "  'day post symptom onset: 24',\n",
       "  'day post symptom onset: 26',\n",
       "  'day post symptom onset: 28',\n",
       "  'study day: 1',\n",
       "  'study day: 3',\n",
       "  'study day: 5',\n",
       "  'study day: 7',\n",
       "  'study day: 9',\n",
       "  'study day: 11'],\n",
       " 6: ['study day: 1',\n",
       "  'study day: 4',\n",
       "  'study day: 6',\n",
       "  'study day: 8',\n",
       "  'study day: 10',\n",
       "  'study day: 12',\n",
       "  'study day: 14',\n",
       "  'study day: 3',\n",
       "  'study day: 5',\n",
       "  'study day: 9',\n",
       "  'study day: 11',\n",
       "  'study day: 13',\n",
       "  'study day: 7',\n",
       "  'study day: 15',\n",
       "  'ncounter host response codeset: V1.0',\n",
       "  'ncounter host response codeset: V1.1'],\n",
       " 7: ['ncounter host response codeset: V1.0',\n",
       "  'ncounter host response codeset: V1.1',\n",
       "  nan]}"
      ]
     },
     "execution_count": 15,
     "metadata": {},
     "output_type": "execute_result"
    }
   ],
   "source": [
    "clinical_data_unique = get_unique_values_by_row(clinical_data)\n",
    "clinical_data_unique"
   ]
  },
  {
   "cell_type": "markdown",
   "metadata": {
    "ExecuteTime": {
     "end_time": "2023-12-31T03:58:04.978204446Z",
     "start_time": "2023-12-31T03:58:04.922270095Z"
    },
    "collapsed": false
   },
   "source": [
    "Analyze the metadata to determine data relevance and find ways to extract the clinical data.\n",
    "Reference prompt:"
   ]
  },
  {
   "cell_type": "code",
   "execution_count": 16,
   "metadata": {
    "ExecuteTime": {
     "end_time": "2024-01-27T00:26:20.280448333Z",
     "start_time": "2024-01-27T00:26:20.259659408Z"
    },
    "collapsed": false
   },
   "outputs": [
    {
     "data": {
      "text/plain": [
       "'As a biomedical research team, we are selecting datasets to study the association between the human trait \\'COVID-19\\' and genetic factors, optionally considering the influence of age and gender. After searching the GEO database and parsing the matrix file of a series, we obtained background information and sample characteristics data. We will provide textual information about the dataset background, and a Python dictionary storing a list of unique values for each field of the sample characteristics data. Please carefully review the provided information and answer the following questions about this dataset:\\n1. Does this dataset contain gene expression data? (Note: Pure miRNA data is not suitable.)\\n2. For each of the traits \\'COVID-19\\', \\'age\\', and \\'gender\\', please address these points:\\n   (1) Is there human data available for this trait?\\n   (2) If so, identify the key in the sample characteristics dictionary where unique values of this trait is recorded. The key is an integer. The trait information might be explicitly recorded, or can be inferred from the field with some biomedical knowledge or understanding about the data collection process.\\n   (3) Choose an appropriate data type (either \\'continuous\\' or \\'binary\\') for each trait. Write a Python function to convert any given value of the trait to this data type. Do remember to separate the value by colon \\':\\' first, as the row header should not be included in the returned value. The function should handle inference about the trait value and convert unknown values to None.\\n   Name the functions \\'convert_trait\\', \\'convert_age\\', and \\'convert_gender\\', respectively.\\n\\nBackground information about the dataset:\\n!Series_title\\t\"Longitudinal gene expression profiling of self-collected blood samples in COVID-19+ and healthy participants\"\\n!Series_summary\\t\"Longitudinal cohort: 773 host response genes were profiled in previously vaccinated (n=16) and unvaccinated (n=14) COVID-19+ participants along with 5 healthy uninfected controls across a 2-week observational window\"\\n!Series_summary\\t\"Single timepoint cohort: 773 host response genes were profiled in 6 healthy uninfected participants\"\\n!Series_overall_design\\t\"Longitudinal cohort: 30 COVID-19+ and 5 uninfected participants were asked perform self-collection and stabilization of capillary blood using a novel technology (homeRNA) every other day for two weeks (7 longtiudinal timepoints per participant). Temporal kinetics of 773 immune genes were profiled using the nCounter direct digital counting of native mRNA.\"\\n!Series_overall_design\\t\"Single timepoint cohort: 6 healthy uninfected participants were asked perform self-collection and stabilization of capillary blood using a novel technology (homeRNA). Temporal kinetics of 773 immune genes were profiled using the nCounter direct digital counting of native mRNA.\"\\n\\nSample characteristics dictionary (from \"!Sample_characteristics_ch1\", converted to a Python dictionary that stores the unique values for each field):\\n{0: [\\'disease status: COVID-19+\\', \\'disease status: Healthy uninfected\\'], 1: [\\'participant id: CB0101\\', \\'participant id: CB0102\\', \\'participant id: CB0104\\', \\'participant id: CB0106\\', \\'participant id: CB0107\\', \\'participant id: CB0111\\', \\'participant id: CB0112\\', \\'participant id: CB0113\\', \\'participant id: CB0115\\', \\'participant id: CB0116\\', \\'participant id: CB0117\\', \\'participant id: CB0118\\', \\'participant id: CB0119\\', \\'participant id: CB0120\\', \\'participant id: CB0121\\', \\'participant id: CB0122\\', \\'participant id: CB0123\\', \\'participant id: CB0124\\', \\'participant id: CB0125\\', \\'participant id: CB0128\\', \\'participant id: CB0129\\', \\'participant id: CB0130\\', \\'participant id: CB0131\\', \\'participant id: CB0132\\', \\'participant id: CB0133\\', \\'participant id: CB0134\\', \\'participant id: CB0135\\', \\'participant id: CB0136\\', \\'participant id: CB0138\\', \\'participant id: CB0139\\'], 2: [\\'Sex: female\\', \\'Sex: male\\'], 3: [\\'age: 44\\', \\'age: 29\\', \\'age: 51\\', \\'age: 32\\', \\'age: 27\\', \\'age: 30\\', \\'age: 41\\', \\'age: 43\\', \\'age: 34\\', \\'age: 60\\', \\'age: 24\\', \\'age: 36\\', \\'age: 33\\', \\'age: 53\\', \\'age: 31\\', \\'age: 59\\', \\'age: 40\\', \\'age: 65\\', \\'age: 37\\', \\'age: 39\\', \\'age: 58\\', \\'age: 42\\', \\'age: 28\\', \\'age: 38\\'], 4: [\\'covid-19 vaccination history: unvaccinated\\', \\'covid-19 vaccination history: vaccinated\\', \\'covid-19 vaccination history: partial\\'], 5: [\\'day post symptom onset: 10\\', \\'day post symptom onset: 13\\', \\'day post symptom onset: 15\\', \\'day post symptom onset: 17\\', \\'day post symptom onset: 19\\', \\'day post symptom onset: 21\\', \\'day post symptom onset: 23\\', \\'day post symptom onset: 9\\', \\'day post symptom onset: 11\\', \\'day post symptom onset: 8\\', \\'day post symptom onset: 12\\', \\'day post symptom onset: 14\\', \\'day post symptom onset: 16\\', \\'day post symptom onset: 18\\', \\'day post symptom onset: 20\\', \\'day post symptom onset: 27\\', \\'day post symptom onset: 25\\', \\'day post symptom onset: 5\\', \\'day post symptom onset: 7\\', \\'day post symptom onset: 6\\', \\'day post symptom onset: 22\\', \\'day post symptom onset: 24\\', \\'day post symptom onset: 26\\', \\'day post symptom onset: 28\\', \\'study day: 1\\', \\'study day: 3\\', \\'study day: 5\\', \\'study day: 7\\', \\'study day: 9\\', \\'study day: 11\\'], 6: [\\'study day: 1\\', \\'study day: 4\\', \\'study day: 6\\', \\'study day: 8\\', \\'study day: 10\\', \\'study day: 12\\', \\'study day: 14\\', \\'study day: 3\\', \\'study day: 5\\', \\'study day: 9\\', \\'study day: 11\\', \\'study day: 13\\', \\'study day: 7\\', \\'study day: 15\\', \\'ncounter host response codeset: V1.0\\', \\'ncounter host response codeset: V1.1\\'], 7: [\\'ncounter host response codeset: V1.0\\', \\'ncounter host response codeset: V1.1\\', nan]}\\n'"
      ]
     },
     "execution_count": 16,
     "metadata": {},
     "output_type": "execute_result"
    }
   ],
   "source": [
    "\n",
    "f'''As a biomedical research team, we are selecting datasets to study the association between the human trait \\'{TRAIT}\\' and genetic factors, optionally considering the influence of age and gender. After searching the GEO database and parsing the matrix file of a series, we obtained background information and sample characteristics data. We will provide textual information about the dataset background, and a Python dictionary storing a list of unique values for each field of the sample characteristics data. Please carefully review the provided information and answer the following questions about this dataset:\n",
    "1. Does this dataset contain gene expression data? (Note: Pure miRNA data is not suitable.)\n",
    "2. For each of the traits \\'{TRAIT}\\', 'age', and 'gender', please address these points:\n",
    "   (1) Is there human data available for this trait?\n",
    "   (2) If so, identify the key in the sample characteristics dictionary where unique values of this trait is recorded. The key is an integer. The trait information might be explicitly recorded, or can be inferred from the field with some biomedical knowledge or understanding about the data collection process.\n",
    "   (3) Choose an appropriate data type (either 'continuous' or 'binary') for each trait. Write a Python function to convert any given value of the trait to this data type. Do remember to separate the value by colon ':' first, as the row header should not be included in the returned value. The function should handle inference about the trait value and convert unknown values to None.\n",
    "   Name the functions 'convert_trait', 'convert_age', and 'convert_gender', respectively.\n",
    "\n",
    "Background information about the dataset:\n",
    "{background_info}\n",
    "\n",
    "Sample characteristics dictionary (from \"!Sample_characteristics_ch1\", converted to a Python dictionary that stores the unique values for each field):\n",
    "{clinical_data_unique}\n",
    "'''"
   ]
  },
  {
   "cell_type": "markdown",
   "metadata": {
    "ExecuteTime": {
     "end_time": "2023-12-31T03:58:04.978240504Z",
     "start_time": "2023-12-31T03:58:04.922365324Z"
    },
    "collapsed": false
   },
   "source": [
    "Understand and verify the answer from GPT, to assign values to the below variables. Assign None to the 'row_id' variables if relevant data row was not found.\n",
    "Later we need to let GPT format its answer to automatically do these. But given the complexity of this step, let's grow some insight from the free-text answers for now."
   ]
  },
  {
   "cell_type": "code",
   "execution_count": 17,
   "metadata": {
    "ExecuteTime": {
     "end_time": "2024-01-27T00:27:40.470063626Z",
     "start_time": "2024-01-27T00:27:40.402995173Z"
    },
    "collapsed": false
   },
   "outputs": [],
   "source": [
    "age_row = gender_row = None\n",
    "convert_age = convert_gender = None"
   ]
  },
  {
   "cell_type": "code",
   "execution_count": 18,
   "metadata": {
    "ExecuteTime": {
     "end_time": "2024-01-27T00:27:40.730451922Z",
     "start_time": "2024-01-27T00:27:40.725802566Z"
    },
    "collapsed": false
   },
   "outputs": [],
   "source": [
    "is_gene_availabe = True\n",
    "trait_row = 0\n",
    "age_row = 3\n",
    "gender_row = 2\n",
    "\n",
    "trait_type = 'binary'"
   ]
  },
  {
   "cell_type": "code",
   "execution_count": 19,
   "metadata": {
    "ExecuteTime": {
     "end_time": "2024-01-27T00:27:41.186057387Z",
     "start_time": "2024-01-27T00:27:41.178864274Z"
    },
    "collapsed": false
   },
   "outputs": [],
   "source": [
    "is_available = is_gene_availabe and (trait_row is not None)\n",
    "if not is_available:\n",
    "    save_cohort_info(cohort, JSON_PATH, is_available)\n",
    "    print(\"This cohort is not usable. Please skip the following steps and jump to the next accession number.\")"
   ]
  },
  {
   "cell_type": "code",
   "execution_count": 21,
   "metadata": {
    "ExecuteTime": {
     "end_time": "2024-01-27T00:27:41.809099853Z",
     "start_time": "2024-01-27T00:27:41.797004692Z"
    },
    "collapsed": false
   },
   "outputs": [],
   "source": [
    "# Verify and use the functions generated by GPT\n",
    "\n",
    "def convert_trait(value):\n",
    "    value = value.split(':')[1].strip()\n",
    "    if value == 'COVID-19+':\n",
    "        return 1\n",
    "    elif value == 'Healthy uninfected':\n",
    "        return 0\n",
    "    else:\n",
    "        return None\n",
    "\n",
    "def convert_age(value):\n",
    "    try:\n",
    "        age = int(value.split(':')[1].strip())\n",
    "        return age\n",
    "    except ValueError:\n",
    "        return None\n",
    "\n",
    "def convert_gender(value):\n",
    "    value = value.split(':')[1].strip()\n",
    "    if value == 'female':\n",
    "        return 0\n",
    "    elif value == 'male':\n",
    "        return 1\n",
    "    else:\n",
    "        return None\n"
   ]
  },
  {
   "cell_type": "code",
   "execution_count": 22,
   "metadata": {
    "ExecuteTime": {
     "end_time": "2024-01-27T00:27:42.253084511Z",
     "start_time": "2024-01-27T00:27:42.190660782Z"
    },
    "collapsed": false
   },
   "outputs": [
    {
     "data": {
      "text/html": [
       "<div>\n",
       "<style scoped>\n",
       "    .dataframe tbody tr th:only-of-type {\n",
       "        vertical-align: middle;\n",
       "    }\n",
       "\n",
       "    .dataframe tbody tr th {\n",
       "        vertical-align: top;\n",
       "    }\n",
       "\n",
       "    .dataframe thead th {\n",
       "        text-align: right;\n",
       "    }\n",
       "</style>\n",
       "<table border=\"1\" class=\"dataframe\">\n",
       "  <thead>\n",
       "    <tr style=\"text-align: right;\">\n",
       "      <th></th>\n",
       "      <th>GSM7783810</th>\n",
       "      <th>GSM7783811</th>\n",
       "      <th>GSM7783812</th>\n",
       "      <th>GSM7783813</th>\n",
       "      <th>GSM7783814</th>\n",
       "      <th>GSM7783815</th>\n",
       "      <th>GSM7783816</th>\n",
       "      <th>GSM7783817</th>\n",
       "      <th>GSM7783818</th>\n",
       "      <th>GSM7783819</th>\n",
       "      <th>...</th>\n",
       "      <th>GSM7784037</th>\n",
       "      <th>GSM7784038</th>\n",
       "      <th>GSM7784039</th>\n",
       "      <th>GSM7784040</th>\n",
       "      <th>GSM7784041</th>\n",
       "      <th>GSM7784042</th>\n",
       "      <th>GSM7784043</th>\n",
       "      <th>GSM7784044</th>\n",
       "      <th>GSM7784045</th>\n",
       "      <th>GSM7784046</th>\n",
       "    </tr>\n",
       "  </thead>\n",
       "  <tbody>\n",
       "    <tr>\n",
       "      <th>COVID-19</th>\n",
       "      <td>1</td>\n",
       "      <td>1</td>\n",
       "      <td>1</td>\n",
       "      <td>1</td>\n",
       "      <td>1</td>\n",
       "      <td>1</td>\n",
       "      <td>1</td>\n",
       "      <td>1</td>\n",
       "      <td>1</td>\n",
       "      <td>1</td>\n",
       "      <td>...</td>\n",
       "      <td>0</td>\n",
       "      <td>0</td>\n",
       "      <td>0</td>\n",
       "      <td>0</td>\n",
       "      <td>0</td>\n",
       "      <td>0</td>\n",
       "      <td>0</td>\n",
       "      <td>0</td>\n",
       "      <td>0</td>\n",
       "      <td>0</td>\n",
       "    </tr>\n",
       "    <tr>\n",
       "      <th>Age</th>\n",
       "      <td>44</td>\n",
       "      <td>44</td>\n",
       "      <td>44</td>\n",
       "      <td>44</td>\n",
       "      <td>44</td>\n",
       "      <td>44</td>\n",
       "      <td>44</td>\n",
       "      <td>29</td>\n",
       "      <td>29</td>\n",
       "      <td>29</td>\n",
       "      <td>...</td>\n",
       "      <td>40</td>\n",
       "      <td>40</td>\n",
       "      <td>40</td>\n",
       "      <td>40</td>\n",
       "      <td>36</td>\n",
       "      <td>24</td>\n",
       "      <td>28</td>\n",
       "      <td>36</td>\n",
       "      <td>27</td>\n",
       "      <td>38</td>\n",
       "    </tr>\n",
       "    <tr>\n",
       "      <th>Gender</th>\n",
       "      <td>0</td>\n",
       "      <td>0</td>\n",
       "      <td>0</td>\n",
       "      <td>0</td>\n",
       "      <td>0</td>\n",
       "      <td>0</td>\n",
       "      <td>0</td>\n",
       "      <td>0</td>\n",
       "      <td>0</td>\n",
       "      <td>0</td>\n",
       "      <td>...</td>\n",
       "      <td>0</td>\n",
       "      <td>0</td>\n",
       "      <td>0</td>\n",
       "      <td>0</td>\n",
       "      <td>1</td>\n",
       "      <td>0</td>\n",
       "      <td>0</td>\n",
       "      <td>0</td>\n",
       "      <td>1</td>\n",
       "      <td>1</td>\n",
       "    </tr>\n",
       "  </tbody>\n",
       "</table>\n",
       "<p>3 rows × 237 columns</p>\n",
       "</div>"
      ],
      "text/plain": [
       "          GSM7783810  GSM7783811  GSM7783812  GSM7783813  GSM7783814  \\\n",
       "COVID-19           1           1           1           1           1   \n",
       "Age               44          44          44          44          44   \n",
       "Gender             0           0           0           0           0   \n",
       "\n",
       "          GSM7783815  GSM7783816  GSM7783817  GSM7783818  GSM7783819  ...  \\\n",
       "COVID-19           1           1           1           1           1  ...   \n",
       "Age               44          44          29          29          29  ...   \n",
       "Gender             0           0           0           0           0  ...   \n",
       "\n",
       "          GSM7784037  GSM7784038  GSM7784039  GSM7784040  GSM7784041  \\\n",
       "COVID-19           0           0           0           0           0   \n",
       "Age               40          40          40          40          36   \n",
       "Gender             0           0           0           0           1   \n",
       "\n",
       "          GSM7784042  GSM7784043  GSM7784044  GSM7784045  GSM7784046  \n",
       "COVID-19           0           0           0           0           0  \n",
       "Age               24          28          36          27          38  \n",
       "Gender             0           0           0           1           1  \n",
       "\n",
       "[3 rows x 237 columns]"
      ]
     },
     "execution_count": 22,
     "metadata": {},
     "output_type": "execute_result"
    }
   ],
   "source": [
    "selected_clinical_data = geo_select_clinical_features(clinical_data, TRAIT, trait_row, convert_trait, age_row=age_row,\n",
    "                                                      convert_age=convert_age, gender_row=gender_row,\n",
    "                                                      convert_gender=convert_gender)\n",
    "selected_clinical_data.head()"
   ]
  },
  {
   "cell_type": "markdown",
   "metadata": {
    "ExecuteTime": {
     "end_time": "2023-12-31T03:58:04.978664193Z",
     "start_time": "2023-12-31T03:58:04.966117261Z"
    },
    "collapsed": false
   },
   "source": [
    "### Genetic data preprocessing and final filtering"
   ]
  },
  {
   "cell_type": "code",
   "execution_count": 23,
   "metadata": {
    "ExecuteTime": {
     "end_time": "2024-01-27T00:27:43.851310627Z",
     "start_time": "2024-01-27T00:27:43.777162219Z"
    },
    "collapsed": false
   },
   "outputs": [
    {
     "data": {
      "text/html": [
       "<div>\n",
       "<style scoped>\n",
       "    .dataframe tbody tr th:only-of-type {\n",
       "        vertical-align: middle;\n",
       "    }\n",
       "\n",
       "    .dataframe tbody tr th {\n",
       "        vertical-align: top;\n",
       "    }\n",
       "\n",
       "    .dataframe thead th {\n",
       "        text-align: right;\n",
       "    }\n",
       "</style>\n",
       "<table border=\"1\" class=\"dataframe\">\n",
       "  <thead>\n",
       "    <tr style=\"text-align: right;\">\n",
       "      <th></th>\n",
       "      <th>GSM7783810</th>\n",
       "      <th>GSM7783811</th>\n",
       "      <th>GSM7783812</th>\n",
       "      <th>GSM7783813</th>\n",
       "      <th>GSM7783814</th>\n",
       "      <th>GSM7783815</th>\n",
       "      <th>GSM7783816</th>\n",
       "      <th>GSM7783817</th>\n",
       "      <th>GSM7783818</th>\n",
       "      <th>GSM7783819</th>\n",
       "      <th>...</th>\n",
       "      <th>GSM7784037</th>\n",
       "      <th>GSM7784038</th>\n",
       "      <th>GSM7784039</th>\n",
       "      <th>GSM7784040</th>\n",
       "      <th>GSM7784041</th>\n",
       "      <th>GSM7784042</th>\n",
       "      <th>GSM7784043</th>\n",
       "      <th>GSM7784044</th>\n",
       "      <th>GSM7784045</th>\n",
       "      <th>GSM7784046</th>\n",
       "    </tr>\n",
       "    <tr>\n",
       "      <th>ID</th>\n",
       "      <th></th>\n",
       "      <th></th>\n",
       "      <th></th>\n",
       "      <th></th>\n",
       "      <th></th>\n",
       "      <th></th>\n",
       "      <th></th>\n",
       "      <th></th>\n",
       "      <th></th>\n",
       "      <th></th>\n",
       "      <th></th>\n",
       "      <th></th>\n",
       "      <th></th>\n",
       "      <th></th>\n",
       "      <th></th>\n",
       "      <th></th>\n",
       "      <th></th>\n",
       "      <th></th>\n",
       "      <th></th>\n",
       "      <th></th>\n",
       "      <th></th>\n",
       "    </tr>\n",
       "  </thead>\n",
       "  <tbody>\n",
       "    <tr>\n",
       "      <th>ACE</th>\n",
       "      <td>16.29</td>\n",
       "      <td>7.37</td>\n",
       "      <td>9.78</td>\n",
       "      <td>10.50</td>\n",
       "      <td>8.98</td>\n",
       "      <td>6.63</td>\n",
       "      <td>12.97</td>\n",
       "      <td>16.93</td>\n",
       "      <td>16.10</td>\n",
       "      <td>19.92</td>\n",
       "      <td>...</td>\n",
       "      <td>21.18</td>\n",
       "      <td>20.37</td>\n",
       "      <td>22.39</td>\n",
       "      <td>22.27</td>\n",
       "      <td>15.03</td>\n",
       "      <td>21.23</td>\n",
       "      <td>9.07</td>\n",
       "      <td>10.96</td>\n",
       "      <td>8.77</td>\n",
       "      <td>14.40</td>\n",
       "    </tr>\n",
       "    <tr>\n",
       "      <th>ACKR2</th>\n",
       "      <td>16.53</td>\n",
       "      <td>19.80</td>\n",
       "      <td>14.36</td>\n",
       "      <td>15.45</td>\n",
       "      <td>16.33</td>\n",
       "      <td>16.01</td>\n",
       "      <td>12.41</td>\n",
       "      <td>25.99</td>\n",
       "      <td>25.12</td>\n",
       "      <td>32.97</td>\n",
       "      <td>...</td>\n",
       "      <td>19.97</td>\n",
       "      <td>11.24</td>\n",
       "      <td>12.66</td>\n",
       "      <td>18.56</td>\n",
       "      <td>22.54</td>\n",
       "      <td>19.71</td>\n",
       "      <td>14.60</td>\n",
       "      <td>10.77</td>\n",
       "      <td>8.03</td>\n",
       "      <td>18.31</td>\n",
       "    </tr>\n",
       "    <tr>\n",
       "      <th>ACKR3</th>\n",
       "      <td>20.10</td>\n",
       "      <td>18.44</td>\n",
       "      <td>21.72</td>\n",
       "      <td>21.52</td>\n",
       "      <td>14.50</td>\n",
       "      <td>13.08</td>\n",
       "      <td>16.71</td>\n",
       "      <td>25.99</td>\n",
       "      <td>23.19</td>\n",
       "      <td>10.99</td>\n",
       "      <td>...</td>\n",
       "      <td>29.65</td>\n",
       "      <td>15.45</td>\n",
       "      <td>16.55</td>\n",
       "      <td>23.20</td>\n",
       "      <td>24.05</td>\n",
       "      <td>16.68</td>\n",
       "      <td>21.36</td>\n",
       "      <td>22.42</td>\n",
       "      <td>28.28</td>\n",
       "      <td>21.65</td>\n",
       "    </tr>\n",
       "    <tr>\n",
       "      <th>ACKR4</th>\n",
       "      <td>7.57</td>\n",
       "      <td>12.60</td>\n",
       "      <td>8.31</td>\n",
       "      <td>7.60</td>\n",
       "      <td>9.39</td>\n",
       "      <td>14.62</td>\n",
       "      <td>11.53</td>\n",
       "      <td>21.76</td>\n",
       "      <td>19.32</td>\n",
       "      <td>19.23</td>\n",
       "      <td>...</td>\n",
       "      <td>44.78</td>\n",
       "      <td>21.77</td>\n",
       "      <td>12.66</td>\n",
       "      <td>31.55</td>\n",
       "      <td>24.05</td>\n",
       "      <td>30.33</td>\n",
       "      <td>7.59</td>\n",
       "      <td>15.43</td>\n",
       "      <td>10.61</td>\n",
       "      <td>18.53</td>\n",
       "    </tr>\n",
       "    <tr>\n",
       "      <th>ACOX1</th>\n",
       "      <td>1054.81</td>\n",
       "      <td>1120.94</td>\n",
       "      <td>1648.33</td>\n",
       "      <td>1673.20</td>\n",
       "      <td>1338.32</td>\n",
       "      <td>1851.71</td>\n",
       "      <td>2153.50</td>\n",
       "      <td>1499.15</td>\n",
       "      <td>1475.12</td>\n",
       "      <td>1340.75</td>\n",
       "      <td>...</td>\n",
       "      <td>1045.69</td>\n",
       "      <td>1004.44</td>\n",
       "      <td>1040.78</td>\n",
       "      <td>1209.12</td>\n",
       "      <td>1199.25</td>\n",
       "      <td>1194.94</td>\n",
       "      <td>1088.64</td>\n",
       "      <td>1232.43</td>\n",
       "      <td>1094.51</td>\n",
       "      <td>975.54</td>\n",
       "    </tr>\n",
       "  </tbody>\n",
       "</table>\n",
       "<p>5 rows × 237 columns</p>\n",
       "</div>"
      ],
      "text/plain": [
       "       GSM7783810  GSM7783811  GSM7783812  GSM7783813  GSM7783814  GSM7783815  \\\n",
       "ID                                                                              \n",
       "ACE         16.29        7.37        9.78       10.50        8.98        6.63   \n",
       "ACKR2       16.53       19.80       14.36       15.45       16.33       16.01   \n",
       "ACKR3       20.10       18.44       21.72       21.52       14.50       13.08   \n",
       "ACKR4        7.57       12.60        8.31        7.60        9.39       14.62   \n",
       "ACOX1     1054.81     1120.94     1648.33     1673.20     1338.32     1851.71   \n",
       "\n",
       "       GSM7783816  GSM7783817  GSM7783818  GSM7783819  ...  GSM7784037  \\\n",
       "ID                                                     ...               \n",
       "ACE         12.97       16.93       16.10       19.92  ...       21.18   \n",
       "ACKR2       12.41       25.99       25.12       32.97  ...       19.97   \n",
       "ACKR3       16.71       25.99       23.19       10.99  ...       29.65   \n",
       "ACKR4       11.53       21.76       19.32       19.23  ...       44.78   \n",
       "ACOX1     2153.50     1499.15     1475.12     1340.75  ...     1045.69   \n",
       "\n",
       "       GSM7784038  GSM7784039  GSM7784040  GSM7784041  GSM7784042  GSM7784043  \\\n",
       "ID                                                                              \n",
       "ACE         20.37       22.39       22.27       15.03       21.23        9.07   \n",
       "ACKR2       11.24       12.66       18.56       22.54       19.71       14.60   \n",
       "ACKR3       15.45       16.55       23.20       24.05       16.68       21.36   \n",
       "ACKR4       21.77       12.66       31.55       24.05       30.33        7.59   \n",
       "ACOX1     1004.44     1040.78     1209.12     1199.25     1194.94     1088.64   \n",
       "\n",
       "       GSM7784044  GSM7784045  GSM7784046  \n",
       "ID                                         \n",
       "ACE         10.96        8.77       14.40  \n",
       "ACKR2       10.77        8.03       18.31  \n",
       "ACKR3       22.42       28.28       21.65  \n",
       "ACKR4       15.43       10.61       18.53  \n",
       "ACOX1     1232.43     1094.51      975.54  \n",
       "\n",
       "[5 rows x 237 columns]"
      ]
     },
     "execution_count": 23,
     "metadata": {},
     "output_type": "execute_result"
    }
   ],
   "source": [
    "genetic_data = get_genetic_data(matrix_file)\n",
    "genetic_data.head()"
   ]
  },
  {
   "cell_type": "code",
   "execution_count": 24,
   "metadata": {
    "ExecuteTime": {
     "end_time": "2024-01-27T00:27:44.272170255Z",
     "start_time": "2024-01-27T00:27:44.262744614Z"
    },
    "collapsed": false
   },
   "outputs": [
    {
     "data": {
      "text/plain": [
       "['ACE',\n",
       " 'ACKR2',\n",
       " 'ACKR3',\n",
       " 'ACKR4',\n",
       " 'ACOX1',\n",
       " 'ACSL1',\n",
       " 'ACSL3',\n",
       " 'ACSL4',\n",
       " 'ACVR1',\n",
       " 'ADAR',\n",
       " 'ADGRE5',\n",
       " 'ADGRG3',\n",
       " 'ADORA2A',\n",
       " 'AGT',\n",
       " 'AHR',\n",
       " 'AIF1',\n",
       " 'AIM2',\n",
       " 'AKT1',\n",
       " 'AKT2',\n",
       " 'AKT3']"
      ]
     },
     "execution_count": 24,
     "metadata": {},
     "output_type": "execute_result"
    }
   ],
   "source": [
    "gene_row_ids = genetic_data.index[:20].tolist()\n",
    "gene_row_ids"
   ]
  },
  {
   "cell_type": "markdown",
   "metadata": {
    "ExecuteTime": {
     "end_time": "2023-12-31T03:30:41.595335164Z",
     "start_time": "2023-12-31T03:30:41.513232329Z"
    },
    "collapsed": false
   },
   "source": [
    "Check if the gene dataset requires mapping to get the gene symbols corresponding to each data row."
   ]
  },
  {
   "cell_type": "markdown",
   "metadata": {
    "collapsed": false
   },
   "source": [
    "Reference prompt:"
   ]
  },
  {
   "cell_type": "code",
   "execution_count": 25,
   "metadata": {
    "ExecuteTime": {
     "end_time": "2024-01-27T00:27:45.633881093Z",
     "start_time": "2024-01-27T00:27:45.620592625Z"
    },
    "collapsed": false
   },
   "outputs": [
    {
     "data": {
      "text/plain": [
       "\"\\nBelow are the row headers of a gene expression dataset in GEO. Based on your biomedical knowledge, are they human gene symbols, or are they some other identifiers that need to be mapped to gene symbols? Your answer should be concluded by starting a new line and strictly following this format:\\nrequires_gene_mapping = (True or False)\\n\\nRow headers:\\n['ACE', 'ACKR2', 'ACKR3', 'ACKR4', 'ACOX1', 'ACSL1', 'ACSL3', 'ACSL4', 'ACVR1', 'ADAR', 'ADGRE5', 'ADGRG3', 'ADORA2A', 'AGT', 'AHR', 'AIF1', 'AIM2', 'AKT1', 'AKT2', 'AKT3']\\n\""
      ]
     },
     "execution_count": 25,
     "metadata": {},
     "output_type": "execute_result"
    }
   ],
   "source": [
    "f'''\n",
    "Below are the row headers of a gene expression dataset in GEO. Based on your biomedical knowledge, are they human gene symbols, or are they some other identifiers that need to be mapped to gene symbols? Your answer should be concluded by starting a new line and strictly following this format:\n",
    "requires_gene_mapping = (True or False)\n",
    "\n",
    "Row headers:\n",
    "{gene_row_ids}\n",
    "'''"
   ]
  },
  {
   "cell_type": "markdown",
   "metadata": {
    "collapsed": false
   },
   "source": [
    "\n",
    "If not required, jump directly to the gene normalization step"
   ]
  },
  {
   "cell_type": "code",
   "execution_count": 26,
   "metadata": {
    "ExecuteTime": {
     "end_time": "2024-01-27T00:28:13.059371048Z",
     "start_time": "2024-01-27T00:28:13.052817175Z"
    },
    "collapsed": false
   },
   "outputs": [],
   "source": [
    "requires_gene_mapping = False"
   ]
  },
  {
   "cell_type": "code",
   "execution_count": 27,
   "metadata": {
    "ExecuteTime": {
     "end_time": "2024-01-27T00:28:13.636628571Z",
     "start_time": "2024-01-27T00:28:13.620144503Z"
    },
    "collapsed": false
   },
   "outputs": [],
   "source": [
    "if requires_gene_mapping:\n",
    "    gene_annotation = get_gene_annotation(soft_file)\n",
    "    gene_annotation_summary = preview_df(gene_annotation)\n",
    "    print(gene_annotation_summary)"
   ]
  },
  {
   "cell_type": "markdown",
   "metadata": {
    "ExecuteTime": {
     "end_time": "2023-12-31T03:58:04.978931927Z",
     "start_time": "2023-12-31T03:58:04.966328339Z"
    },
    "collapsed": false
   },
   "source": [
    "Observe the first few cells in the ID column of the gene annotation dataframe, to find the names of columns that store the gene probe IDs and gene symbols respectively.\n",
    "Reference prompt:"
   ]
  },
  {
   "cell_type": "code",
   "execution_count": 28,
   "metadata": {
    "ExecuteTime": {
     "end_time": "2024-01-27T00:28:14.424356211Z",
     "start_time": "2024-01-27T00:28:14.416270789Z"
    },
    "collapsed": false
   },
   "outputs": [],
   "source": [
    "if requires_gene_mapping:\n",
    "    print(f'''\n",
    "    As a biomedical research team, we are analyzing a gene expression dataset, and find that its row headers are some identifiers related to genes:\n",
    "    {gene_row_ids}\n",
    "    To get the mapping from those identifiers to actual gene symbols, we extracted the gene annotation data from a series in the GEO database, and saved it to a Python dictionary. Please read the dictionary, and decide which key stores the identifiers, and which key stores the gene symbols. Please strictly follow this format in your answer:\n",
    "    identifier_key = 'key_name1'\n",
    "    gene_symbol_key = 'key_name2'\n",
    "\n",
    "    Gene annotation dictionary:\n",
    "    {gene_annotation_summary}\n",
    "    ''')"
   ]
  },
  {
   "cell_type": "code",
   "execution_count": 29,
   "metadata": {
    "ExecuteTime": {
     "end_time": "2024-01-27T00:28:14.751633651Z",
     "start_time": "2024-01-27T00:28:14.743360088Z"
    },
    "collapsed": false
   },
   "outputs": [],
   "source": [
    "if requires_gene_mapping:\n",
    "    identifier_key = 'ID'\n",
    "    gene_symbol_key = 'Gene Symbol'\n",
    "    gene_mapping = get_gene_mapping(gene_annotation, identifier_key, gene_symbol_key)\n",
    "    genetic_data = apply_gene_mapping(genetic_data, gene_mapping)"
   ]
  },
  {
   "cell_type": "code",
   "execution_count": 30,
   "metadata": {
    "ExecuteTime": {
     "end_time": "2024-01-27T00:28:17.116516506Z",
     "start_time": "2024-01-27T00:28:15.028357171Z"
    },
    "collapsed": false
   },
   "outputs": [],
   "source": [
    "if NORMALIZE_GENE:\n",
    "    genetic_data = normalize_gene_symbols_in_index(genetic_data)"
   ]
  },
  {
   "cell_type": "code",
   "execution_count": 31,
   "metadata": {
    "ExecuteTime": {
     "end_time": "2024-01-27T00:28:17.147039019Z",
     "start_time": "2024-01-27T00:28:17.117452203Z"
    },
    "collapsed": false
   },
   "outputs": [
    {
     "data": {
      "text/html": [
       "<div>\n",
       "<style scoped>\n",
       "    .dataframe tbody tr th:only-of-type {\n",
       "        vertical-align: middle;\n",
       "    }\n",
       "\n",
       "    .dataframe tbody tr th {\n",
       "        vertical-align: top;\n",
       "    }\n",
       "\n",
       "    .dataframe thead th {\n",
       "        text-align: right;\n",
       "    }\n",
       "</style>\n",
       "<table border=\"1\" class=\"dataframe\">\n",
       "  <thead>\n",
       "    <tr style=\"text-align: right;\">\n",
       "      <th></th>\n",
       "      <th>GSM7783810</th>\n",
       "      <th>GSM7783811</th>\n",
       "      <th>GSM7783812</th>\n",
       "      <th>GSM7783813</th>\n",
       "      <th>GSM7783814</th>\n",
       "      <th>GSM7783815</th>\n",
       "      <th>GSM7783816</th>\n",
       "      <th>GSM7783817</th>\n",
       "      <th>GSM7783818</th>\n",
       "      <th>GSM7783819</th>\n",
       "      <th>...</th>\n",
       "      <th>GSM7784037</th>\n",
       "      <th>GSM7784038</th>\n",
       "      <th>GSM7784039</th>\n",
       "      <th>GSM7784040</th>\n",
       "      <th>GSM7784041</th>\n",
       "      <th>GSM7784042</th>\n",
       "      <th>GSM7784043</th>\n",
       "      <th>GSM7784044</th>\n",
       "      <th>GSM7784045</th>\n",
       "      <th>GSM7784046</th>\n",
       "    </tr>\n",
       "  </thead>\n",
       "  <tbody>\n",
       "    <tr>\n",
       "      <th>ACE</th>\n",
       "      <td>16.29</td>\n",
       "      <td>7.37</td>\n",
       "      <td>9.78</td>\n",
       "      <td>10.50</td>\n",
       "      <td>8.98</td>\n",
       "      <td>6.63</td>\n",
       "      <td>12.97</td>\n",
       "      <td>16.93</td>\n",
       "      <td>16.10</td>\n",
       "      <td>19.92</td>\n",
       "      <td>...</td>\n",
       "      <td>21.18</td>\n",
       "      <td>20.37</td>\n",
       "      <td>22.39</td>\n",
       "      <td>22.27</td>\n",
       "      <td>15.03</td>\n",
       "      <td>21.23</td>\n",
       "      <td>9.07</td>\n",
       "      <td>10.96</td>\n",
       "      <td>8.77</td>\n",
       "      <td>14.40</td>\n",
       "    </tr>\n",
       "    <tr>\n",
       "      <th>ACKR2</th>\n",
       "      <td>16.53</td>\n",
       "      <td>19.80</td>\n",
       "      <td>14.36</td>\n",
       "      <td>15.45</td>\n",
       "      <td>16.33</td>\n",
       "      <td>16.01</td>\n",
       "      <td>12.41</td>\n",
       "      <td>25.99</td>\n",
       "      <td>25.12</td>\n",
       "      <td>32.97</td>\n",
       "      <td>...</td>\n",
       "      <td>19.97</td>\n",
       "      <td>11.24</td>\n",
       "      <td>12.66</td>\n",
       "      <td>18.56</td>\n",
       "      <td>22.54</td>\n",
       "      <td>19.71</td>\n",
       "      <td>14.60</td>\n",
       "      <td>10.77</td>\n",
       "      <td>8.03</td>\n",
       "      <td>18.31</td>\n",
       "    </tr>\n",
       "    <tr>\n",
       "      <th>ACKR3</th>\n",
       "      <td>20.10</td>\n",
       "      <td>18.44</td>\n",
       "      <td>21.72</td>\n",
       "      <td>21.52</td>\n",
       "      <td>14.50</td>\n",
       "      <td>13.08</td>\n",
       "      <td>16.71</td>\n",
       "      <td>25.99</td>\n",
       "      <td>23.19</td>\n",
       "      <td>10.99</td>\n",
       "      <td>...</td>\n",
       "      <td>29.65</td>\n",
       "      <td>15.45</td>\n",
       "      <td>16.55</td>\n",
       "      <td>23.20</td>\n",
       "      <td>24.05</td>\n",
       "      <td>16.68</td>\n",
       "      <td>21.36</td>\n",
       "      <td>22.42</td>\n",
       "      <td>28.28</td>\n",
       "      <td>21.65</td>\n",
       "    </tr>\n",
       "    <tr>\n",
       "      <th>ACKR4</th>\n",
       "      <td>7.57</td>\n",
       "      <td>12.60</td>\n",
       "      <td>8.31</td>\n",
       "      <td>7.60</td>\n",
       "      <td>9.39</td>\n",
       "      <td>14.62</td>\n",
       "      <td>11.53</td>\n",
       "      <td>21.76</td>\n",
       "      <td>19.32</td>\n",
       "      <td>19.23</td>\n",
       "      <td>...</td>\n",
       "      <td>44.78</td>\n",
       "      <td>21.77</td>\n",
       "      <td>12.66</td>\n",
       "      <td>31.55</td>\n",
       "      <td>24.05</td>\n",
       "      <td>30.33</td>\n",
       "      <td>7.59</td>\n",
       "      <td>15.43</td>\n",
       "      <td>10.61</td>\n",
       "      <td>18.53</td>\n",
       "    </tr>\n",
       "    <tr>\n",
       "      <th>ACOX1</th>\n",
       "      <td>1054.81</td>\n",
       "      <td>1120.94</td>\n",
       "      <td>1648.33</td>\n",
       "      <td>1673.20</td>\n",
       "      <td>1338.32</td>\n",
       "      <td>1851.71</td>\n",
       "      <td>2153.50</td>\n",
       "      <td>1499.15</td>\n",
       "      <td>1475.12</td>\n",
       "      <td>1340.75</td>\n",
       "      <td>...</td>\n",
       "      <td>1045.69</td>\n",
       "      <td>1004.44</td>\n",
       "      <td>1040.78</td>\n",
       "      <td>1209.12</td>\n",
       "      <td>1199.25</td>\n",
       "      <td>1194.94</td>\n",
       "      <td>1088.64</td>\n",
       "      <td>1232.43</td>\n",
       "      <td>1094.51</td>\n",
       "      <td>975.54</td>\n",
       "    </tr>\n",
       "    <tr>\n",
       "      <th>...</th>\n",
       "      <td>...</td>\n",
       "      <td>...</td>\n",
       "      <td>...</td>\n",
       "      <td>...</td>\n",
       "      <td>...</td>\n",
       "      <td>...</td>\n",
       "      <td>...</td>\n",
       "      <td>...</td>\n",
       "      <td>...</td>\n",
       "      <td>...</td>\n",
       "      <td>...</td>\n",
       "      <td>...</td>\n",
       "      <td>...</td>\n",
       "      <td>...</td>\n",
       "      <td>...</td>\n",
       "      <td>...</td>\n",
       "      <td>...</td>\n",
       "      <td>...</td>\n",
       "      <td>...</td>\n",
       "      <td>...</td>\n",
       "      <td>...</td>\n",
       "    </tr>\n",
       "    <tr>\n",
       "      <th>XBP1</th>\n",
       "      <td>1482.88</td>\n",
       "      <td>1728.78</td>\n",
       "      <td>1000.26</td>\n",
       "      <td>1187.84</td>\n",
       "      <td>1141.74</td>\n",
       "      <td>1075.05</td>\n",
       "      <td>875.83</td>\n",
       "      <td>1403.04</td>\n",
       "      <td>966.88</td>\n",
       "      <td>850.33</td>\n",
       "      <td>...</td>\n",
       "      <td>1051.14</td>\n",
       "      <td>967.22</td>\n",
       "      <td>1029.10</td>\n",
       "      <td>964.14</td>\n",
       "      <td>804.01</td>\n",
       "      <td>928.05</td>\n",
       "      <td>1186.09</td>\n",
       "      <td>1288.32</td>\n",
       "      <td>1105.08</td>\n",
       "      <td>1220.51</td>\n",
       "    </tr>\n",
       "    <tr>\n",
       "      <th>XCR1</th>\n",
       "      <td>10.11</td>\n",
       "      <td>12.47</td>\n",
       "      <td>9.10</td>\n",
       "      <td>5.01</td>\n",
       "      <td>12.16</td>\n",
       "      <td>21.93</td>\n",
       "      <td>13.69</td>\n",
       "      <td>29.02</td>\n",
       "      <td>36.72</td>\n",
       "      <td>19.92</td>\n",
       "      <td>...</td>\n",
       "      <td>24.21</td>\n",
       "      <td>26.69</td>\n",
       "      <td>46.73</td>\n",
       "      <td>46.40</td>\n",
       "      <td>36.07</td>\n",
       "      <td>36.39</td>\n",
       "      <td>10.70</td>\n",
       "      <td>17.73</td>\n",
       "      <td>14.89</td>\n",
       "      <td>26.12</td>\n",
       "    </tr>\n",
       "    <tr>\n",
       "      <th>YWHAQ</th>\n",
       "      <td>1804.95</td>\n",
       "      <td>1603.10</td>\n",
       "      <td>1458.75</td>\n",
       "      <td>1563.95</td>\n",
       "      <td>1511.85</td>\n",
       "      <td>1594.34</td>\n",
       "      <td>1377.09</td>\n",
       "      <td>1390.34</td>\n",
       "      <td>1655.49</td>\n",
       "      <td>1526.20</td>\n",
       "      <td>...</td>\n",
       "      <td>1308.93</td>\n",
       "      <td>1371.80</td>\n",
       "      <td>1631.76</td>\n",
       "      <td>1321.41</td>\n",
       "      <td>1523.86</td>\n",
       "      <td>1498.22</td>\n",
       "      <td>1111.90</td>\n",
       "      <td>1436.42</td>\n",
       "      <td>1406.97</td>\n",
       "      <td>1295.89</td>\n",
       "    </tr>\n",
       "    <tr>\n",
       "      <th>ZAP70</th>\n",
       "      <td>666.45</td>\n",
       "      <td>665.62</td>\n",
       "      <td>497.28</td>\n",
       "      <td>572.21</td>\n",
       "      <td>550.36</td>\n",
       "      <td>436.22</td>\n",
       "      <td>477.61</td>\n",
       "      <td>588.78</td>\n",
       "      <td>514.68</td>\n",
       "      <td>559.10</td>\n",
       "      <td>...</td>\n",
       "      <td>836.31</td>\n",
       "      <td>714.35</td>\n",
       "      <td>493.62</td>\n",
       "      <td>727.52</td>\n",
       "      <td>811.52</td>\n",
       "      <td>903.79</td>\n",
       "      <td>764.04</td>\n",
       "      <td>899.23</td>\n",
       "      <td>714.05</td>\n",
       "      <td>781.28</td>\n",
       "    </tr>\n",
       "    <tr>\n",
       "      <th>ZBP1</th>\n",
       "      <td>573.54</td>\n",
       "      <td>253.06</td>\n",
       "      <td>278.85</td>\n",
       "      <td>260.41</td>\n",
       "      <td>167.55</td>\n",
       "      <td>326.21</td>\n",
       "      <td>412.08</td>\n",
       "      <td>273.23</td>\n",
       "      <td>228.03</td>\n",
       "      <td>205.37</td>\n",
       "      <td>...</td>\n",
       "      <td>151.89</td>\n",
       "      <td>216.34</td>\n",
       "      <td>191.80</td>\n",
       "      <td>250.55</td>\n",
       "      <td>247.97</td>\n",
       "      <td>163.77</td>\n",
       "      <td>185.47</td>\n",
       "      <td>237.42</td>\n",
       "      <td>233.02</td>\n",
       "      <td>202.11</td>\n",
       "    </tr>\n",
       "  </tbody>\n",
       "</table>\n",
       "<p>753 rows × 237 columns</p>\n",
       "</div>"
      ],
      "text/plain": [
       "       GSM7783810  GSM7783811  GSM7783812  GSM7783813  GSM7783814  GSM7783815  \\\n",
       "ACE         16.29        7.37        9.78       10.50        8.98        6.63   \n",
       "ACKR2       16.53       19.80       14.36       15.45       16.33       16.01   \n",
       "ACKR3       20.10       18.44       21.72       21.52       14.50       13.08   \n",
       "ACKR4        7.57       12.60        8.31        7.60        9.39       14.62   \n",
       "ACOX1     1054.81     1120.94     1648.33     1673.20     1338.32     1851.71   \n",
       "...           ...         ...         ...         ...         ...         ...   \n",
       "XBP1      1482.88     1728.78     1000.26     1187.84     1141.74     1075.05   \n",
       "XCR1        10.11       12.47        9.10        5.01       12.16       21.93   \n",
       "YWHAQ     1804.95     1603.10     1458.75     1563.95     1511.85     1594.34   \n",
       "ZAP70      666.45      665.62      497.28      572.21      550.36      436.22   \n",
       "ZBP1       573.54      253.06      278.85      260.41      167.55      326.21   \n",
       "\n",
       "       GSM7783816  GSM7783817  GSM7783818  GSM7783819  ...  GSM7784037  \\\n",
       "ACE         12.97       16.93       16.10       19.92  ...       21.18   \n",
       "ACKR2       12.41       25.99       25.12       32.97  ...       19.97   \n",
       "ACKR3       16.71       25.99       23.19       10.99  ...       29.65   \n",
       "ACKR4       11.53       21.76       19.32       19.23  ...       44.78   \n",
       "ACOX1     2153.50     1499.15     1475.12     1340.75  ...     1045.69   \n",
       "...           ...         ...         ...         ...  ...         ...   \n",
       "XBP1       875.83     1403.04      966.88      850.33  ...     1051.14   \n",
       "XCR1        13.69       29.02       36.72       19.92  ...       24.21   \n",
       "YWHAQ     1377.09     1390.34     1655.49     1526.20  ...     1308.93   \n",
       "ZAP70      477.61      588.78      514.68      559.10  ...      836.31   \n",
       "ZBP1       412.08      273.23      228.03      205.37  ...      151.89   \n",
       "\n",
       "       GSM7784038  GSM7784039  GSM7784040  GSM7784041  GSM7784042  GSM7784043  \\\n",
       "ACE         20.37       22.39       22.27       15.03       21.23        9.07   \n",
       "ACKR2       11.24       12.66       18.56       22.54       19.71       14.60   \n",
       "ACKR3       15.45       16.55       23.20       24.05       16.68       21.36   \n",
       "ACKR4       21.77       12.66       31.55       24.05       30.33        7.59   \n",
       "ACOX1     1004.44     1040.78     1209.12     1199.25     1194.94     1088.64   \n",
       "...           ...         ...         ...         ...         ...         ...   \n",
       "XBP1       967.22     1029.10      964.14      804.01      928.05     1186.09   \n",
       "XCR1        26.69       46.73       46.40       36.07       36.39       10.70   \n",
       "YWHAQ     1371.80     1631.76     1321.41     1523.86     1498.22     1111.90   \n",
       "ZAP70      714.35      493.62      727.52      811.52      903.79      764.04   \n",
       "ZBP1       216.34      191.80      250.55      247.97      163.77      185.47   \n",
       "\n",
       "       GSM7784044  GSM7784045  GSM7784046  \n",
       "ACE         10.96        8.77       14.40  \n",
       "ACKR2       10.77        8.03       18.31  \n",
       "ACKR3       22.42       28.28       21.65  \n",
       "ACKR4       15.43       10.61       18.53  \n",
       "ACOX1     1232.43     1094.51      975.54  \n",
       "...           ...         ...         ...  \n",
       "XBP1      1288.32     1105.08     1220.51  \n",
       "XCR1        17.73       14.89       26.12  \n",
       "YWHAQ     1436.42     1406.97     1295.89  \n",
       "ZAP70      899.23      714.05      781.28  \n",
       "ZBP1       237.42      233.02      202.11  \n",
       "\n",
       "[753 rows x 237 columns]"
      ]
     },
     "execution_count": 31,
     "metadata": {},
     "output_type": "execute_result"
    }
   ],
   "source": [
    "genetic_data"
   ]
  },
  {
   "cell_type": "code",
   "execution_count": 32,
   "metadata": {
    "ExecuteTime": {
     "end_time": "2024-01-27T00:28:25.325953107Z",
     "start_time": "2024-01-27T00:28:25.316270793Z"
    },
    "collapsed": false
   },
   "outputs": [],
   "source": [
    "merged_data = geo_merge_clinical_genetic_data(selected_clinical_data, genetic_data)\n",
    "# The preprocessing runs through, which means is_available should be True\n",
    "is_available = True"
   ]
  },
  {
   "cell_type": "code",
   "execution_count": 33,
   "metadata": {
    "ExecuteTime": {
     "end_time": "2024-01-27T00:28:25.673403205Z",
     "start_time": "2024-01-27T00:28:25.656577676Z"
    },
    "collapsed": false
   },
   "outputs": [
    {
     "name": "stdout",
     "output_type": "stream",
     "text": [
      "The merged dataset contains 237 samples.\n"
     ]
    }
   ],
   "source": [
    "print(f\"The merged dataset contains {len(merged_data)} samples.\")"
   ]
  },
  {
   "cell_type": "code",
   "execution_count": 34,
   "metadata": {
    "ExecuteTime": {
     "end_time": "2024-01-27T00:28:26.394354507Z",
     "start_time": "2024-01-27T00:28:26.371979308Z"
    },
    "collapsed": false
   },
   "outputs": [
    {
     "name": "stdout",
     "output_type": "stream",
     "text": [
      "For the feature 'COVID-19', the least common label is '0.0' with 37 occurrences. This represents 15.61% of the dataset.\n",
      "The distribution of the feature 'COVID-19' in this dataset is fine.\n",
      "\n",
      "Quartiles for 'Age':\n",
      "  25%: 30.0\n",
      "  50% (Median): 36.0\n",
      "  75%: 43.0\n",
      "Min: 24.0\n",
      "Max: 65.0\n",
      "The distribution of the feature 'Age' in this dataset is fine.\n",
      "\n",
      "For the feature 'Gender', the least common label is '1.0' with 77 occurrences. This represents 32.49% of the dataset.\n",
      "The distribution of the feature 'Gender' in this dataset is fine.\n",
      "\n"
     ]
    },
    {
     "data": {
      "text/plain": [
       "False"
      ]
     },
     "execution_count": 34,
     "metadata": {},
     "output_type": "execute_result"
    }
   ],
   "source": [
    "is_trait_biased, merged_data = judge_and_remove_biased_features(merged_data, TRAIT, trait_type=trait_type)\n",
    "is_trait_biased"
   ]
  },
  {
   "cell_type": "code",
   "execution_count": 35,
   "metadata": {
    "ExecuteTime": {
     "end_time": "2024-01-27T00:28:27.788904085Z",
     "start_time": "2024-01-27T00:28:27.778655094Z"
    },
    "collapsed": false
   },
   "outputs": [
    {
     "name": "stdout",
     "output_type": "stream",
     "text": [
      "A new JSON file was created at: ../../output1/Fabian/COVID-19/cohort_info.json\n"
     ]
    }
   ],
   "source": [
    "if is_available:\n",
    "    save_cohort_info(cohort, JSON_PATH, is_available, is_trait_biased, merged_data, note='')\n",
    "else:\n",
    "    save_cohort_info(cohort, JSON_PATH, is_available)"
   ]
  },
  {
   "cell_type": "code",
   "execution_count": 36,
   "metadata": {
    "ExecuteTime": {
     "end_time": "2024-01-27T00:28:29.821324937Z",
     "start_time": "2024-01-27T00:28:29.739076408Z"
    },
    "collapsed": false
   },
   "outputs": [],
   "source": [
    "merged_data.head()\n",
    "if not is_trait_biased:\n",
    "    merged_data.to_csv(os.path.join(OUTPUT_DIR, cohort + '.csv'), index=False)"
   ]
  },
  {
   "cell_type": "markdown",
   "metadata": {
    "ExecuteTime": {
     "end_time": "2023-12-31T03:58:22.271683755Z",
     "start_time": "2023-12-31T03:58:22.246557674Z"
    },
    "id": "-MTPhRGxJV7I"
   },
   "source": [
    "### 3. Do regression & Cross Validation"
   ]
  },
  {
   "cell_type": "code",
   "execution_count": 37,
   "metadata": {
    "ExecuteTime": {
     "end_time": "2024-01-27T00:28:30.595288654Z",
     "start_time": "2024-01-27T00:28:30.579419249Z"
    },
    "collapsed": false
   },
   "outputs": [
    {
     "data": {
      "text/html": [
       "<div>\n",
       "<style scoped>\n",
       "    .dataframe tbody tr th:only-of-type {\n",
       "        vertical-align: middle;\n",
       "    }\n",
       "\n",
       "    .dataframe tbody tr th {\n",
       "        vertical-align: top;\n",
       "    }\n",
       "\n",
       "    .dataframe thead th {\n",
       "        text-align: right;\n",
       "    }\n",
       "</style>\n",
       "<table border=\"1\" class=\"dataframe\">\n",
       "  <thead>\n",
       "    <tr style=\"text-align: right;\">\n",
       "      <th></th>\n",
       "      <th>cohort_id</th>\n",
       "      <th>is_usable</th>\n",
       "      <th>is_available</th>\n",
       "      <th>is_biased</th>\n",
       "      <th>has_age</th>\n",
       "      <th>has_gender</th>\n",
       "      <th>sample_size</th>\n",
       "      <th>note</th>\n",
       "    </tr>\n",
       "  </thead>\n",
       "  <tbody>\n",
       "    <tr>\n",
       "      <th>0</th>\n",
       "      <td>GSE243348</td>\n",
       "      <td>True</td>\n",
       "      <td>True</td>\n",
       "      <td>False</td>\n",
       "      <td>True</td>\n",
       "      <td>True</td>\n",
       "      <td>237</td>\n",
       "      <td></td>\n",
       "    </tr>\n",
       "  </tbody>\n",
       "</table>\n",
       "</div>"
      ],
      "text/plain": [
       "   cohort_id  is_usable  is_available  is_biased  has_age  has_gender  \\\n",
       "0  GSE243348       True          True      False     True        True   \n",
       "\n",
       "   sample_size note  \n",
       "0          237       "
      ]
     },
     "execution_count": 37,
     "metadata": {},
     "output_type": "execute_result"
    }
   ],
   "source": [
    "# Check the information of usable cohorts\n",
    "best_cohort, ranked_df = filter_and_rank_cohorts(JSON_PATH)\n",
    "ranked_df"
   ]
  },
  {
   "cell_type": "code",
   "execution_count": 38,
   "metadata": {
    "ExecuteTime": {
     "end_time": "2024-01-27T00:28:31.121496359Z",
     "start_time": "2024-01-27T00:28:31.116541690Z"
    },
    "collapsed": false
   },
   "outputs": [
    {
     "data": {
      "text/plain": [
       "'GSE243348'"
      ]
     },
     "execution_count": 38,
     "metadata": {},
     "output_type": "execute_result"
    }
   ],
   "source": [
    "# If both age and gender have available cohorts, select 'age' as the condition.\n",
    "condition = 'Age'\n",
    "filter_column = 'has_' + condition.lower()\n",
    "\n",
    "condition_best_cohort, condition_ranked_df = filter_and_rank_cohorts(JSON_PATH, filter_column)\n",
    "condition_best_cohort"
   ]
  },
  {
   "cell_type": "code",
   "execution_count": 39,
   "metadata": {
    "ExecuteTime": {
     "end_time": "2024-01-27T00:28:31.956779599Z",
     "start_time": "2024-01-27T00:28:31.938361487Z"
    },
    "collapsed": false
   },
   "outputs": [
    {
     "data": {
      "text/html": [
       "<div>\n",
       "<style scoped>\n",
       "    .dataframe tbody tr th:only-of-type {\n",
       "        vertical-align: middle;\n",
       "    }\n",
       "\n",
       "    .dataframe tbody tr th {\n",
       "        vertical-align: top;\n",
       "    }\n",
       "\n",
       "    .dataframe thead th {\n",
       "        text-align: right;\n",
       "    }\n",
       "</style>\n",
       "<table border=\"1\" class=\"dataframe\">\n",
       "  <thead>\n",
       "    <tr style=\"text-align: right;\">\n",
       "      <th></th>\n",
       "      <th>cohort_id</th>\n",
       "      <th>is_usable</th>\n",
       "      <th>is_available</th>\n",
       "      <th>is_biased</th>\n",
       "      <th>has_age</th>\n",
       "      <th>has_gender</th>\n",
       "      <th>sample_size</th>\n",
       "      <th>note</th>\n",
       "    </tr>\n",
       "  </thead>\n",
       "  <tbody>\n",
       "    <tr>\n",
       "      <th>0</th>\n",
       "      <td>GSE243348</td>\n",
       "      <td>True</td>\n",
       "      <td>True</td>\n",
       "      <td>False</td>\n",
       "      <td>True</td>\n",
       "      <td>True</td>\n",
       "      <td>237</td>\n",
       "      <td></td>\n",
       "    </tr>\n",
       "  </tbody>\n",
       "</table>\n",
       "</div>"
      ],
      "text/plain": [
       "   cohort_id  is_usable  is_available  is_biased  has_age  has_gender  \\\n",
       "0  GSE243348       True          True      False     True        True   \n",
       "\n",
       "   sample_size note  \n",
       "0          237       "
      ]
     },
     "execution_count": 39,
     "metadata": {},
     "output_type": "execute_result"
    }
   ],
   "source": [
    "condition_ranked_df.head()"
   ]
  },
  {
   "cell_type": "code",
   "execution_count": 40,
   "metadata": {
    "ExecuteTime": {
     "end_time": "2024-01-27T00:28:32.458540900Z",
     "start_time": "2024-01-27T00:28:32.427763686Z"
    },
    "collapsed": false
   },
   "outputs": [
    {
     "data": {
      "text/html": [
       "<div>\n",
       "<style scoped>\n",
       "    .dataframe tbody tr th:only-of-type {\n",
       "        vertical-align: middle;\n",
       "    }\n",
       "\n",
       "    .dataframe tbody tr th {\n",
       "        vertical-align: top;\n",
       "    }\n",
       "\n",
       "    .dataframe thead th {\n",
       "        text-align: right;\n",
       "    }\n",
       "</style>\n",
       "<table border=\"1\" class=\"dataframe\">\n",
       "  <thead>\n",
       "    <tr style=\"text-align: right;\">\n",
       "      <th></th>\n",
       "      <th>COVID-19</th>\n",
       "      <th>Age</th>\n",
       "      <th>Gender</th>\n",
       "      <th>ACE</th>\n",
       "      <th>ACKR2</th>\n",
       "      <th>ACKR3</th>\n",
       "      <th>ACKR4</th>\n",
       "      <th>ACOX1</th>\n",
       "      <th>ACSL1</th>\n",
       "      <th>ACSL3</th>\n",
       "      <th>...</th>\n",
       "      <th>VSIR</th>\n",
       "      <th>VWF</th>\n",
       "      <th>WAS</th>\n",
       "      <th>WIPI1</th>\n",
       "      <th>XAF1</th>\n",
       "      <th>XBP1</th>\n",
       "      <th>XCR1</th>\n",
       "      <th>YWHAQ</th>\n",
       "      <th>ZAP70</th>\n",
       "      <th>ZBP1</th>\n",
       "    </tr>\n",
       "  </thead>\n",
       "  <tbody>\n",
       "    <tr>\n",
       "      <th>0</th>\n",
       "      <td>1.0</td>\n",
       "      <td>44.0</td>\n",
       "      <td>0.0</td>\n",
       "      <td>16.29</td>\n",
       "      <td>16.53</td>\n",
       "      <td>20.10</td>\n",
       "      <td>7.57</td>\n",
       "      <td>1054.81</td>\n",
       "      <td>3763.52</td>\n",
       "      <td>28.00</td>\n",
       "      <td>...</td>\n",
       "      <td>859.20</td>\n",
       "      <td>14.18</td>\n",
       "      <td>1346.80</td>\n",
       "      <td>33.66</td>\n",
       "      <td>819.23</td>\n",
       "      <td>1482.88</td>\n",
       "      <td>10.11</td>\n",
       "      <td>1804.95</td>\n",
       "      <td>666.45</td>\n",
       "      <td>573.54</td>\n",
       "    </tr>\n",
       "    <tr>\n",
       "      <th>1</th>\n",
       "      <td>1.0</td>\n",
       "      <td>44.0</td>\n",
       "      <td>0.0</td>\n",
       "      <td>7.37</td>\n",
       "      <td>19.80</td>\n",
       "      <td>18.44</td>\n",
       "      <td>12.60</td>\n",
       "      <td>1120.94</td>\n",
       "      <td>3348.47</td>\n",
       "      <td>29.11</td>\n",
       "      <td>...</td>\n",
       "      <td>697.07</td>\n",
       "      <td>17.83</td>\n",
       "      <td>1133.98</td>\n",
       "      <td>47.27</td>\n",
       "      <td>240.81</td>\n",
       "      <td>1728.78</td>\n",
       "      <td>12.47</td>\n",
       "      <td>1603.10</td>\n",
       "      <td>665.62</td>\n",
       "      <td>253.06</td>\n",
       "    </tr>\n",
       "    <tr>\n",
       "      <th>2</th>\n",
       "      <td>1.0</td>\n",
       "      <td>44.0</td>\n",
       "      <td>0.0</td>\n",
       "      <td>9.78</td>\n",
       "      <td>14.36</td>\n",
       "      <td>21.72</td>\n",
       "      <td>8.31</td>\n",
       "      <td>1648.33</td>\n",
       "      <td>5699.41</td>\n",
       "      <td>20.95</td>\n",
       "      <td>...</td>\n",
       "      <td>837.58</td>\n",
       "      <td>29.69</td>\n",
       "      <td>1510.44</td>\n",
       "      <td>48.17</td>\n",
       "      <td>255.67</td>\n",
       "      <td>1000.26</td>\n",
       "      <td>9.10</td>\n",
       "      <td>1458.75</td>\n",
       "      <td>497.28</td>\n",
       "      <td>278.85</td>\n",
       "    </tr>\n",
       "    <tr>\n",
       "      <th>3</th>\n",
       "      <td>1.0</td>\n",
       "      <td>44.0</td>\n",
       "      <td>0.0</td>\n",
       "      <td>10.50</td>\n",
       "      <td>15.45</td>\n",
       "      <td>21.52</td>\n",
       "      <td>7.60</td>\n",
       "      <td>1673.20</td>\n",
       "      <td>6284.57</td>\n",
       "      <td>28.35</td>\n",
       "      <td>...</td>\n",
       "      <td>1034.45</td>\n",
       "      <td>29.09</td>\n",
       "      <td>1587.53</td>\n",
       "      <td>39.70</td>\n",
       "      <td>216.95</td>\n",
       "      <td>1187.84</td>\n",
       "      <td>5.01</td>\n",
       "      <td>1563.95</td>\n",
       "      <td>572.21</td>\n",
       "      <td>260.41</td>\n",
       "    </tr>\n",
       "    <tr>\n",
       "      <th>4</th>\n",
       "      <td>1.0</td>\n",
       "      <td>44.0</td>\n",
       "      <td>0.0</td>\n",
       "      <td>8.98</td>\n",
       "      <td>16.33</td>\n",
       "      <td>14.50</td>\n",
       "      <td>9.39</td>\n",
       "      <td>1338.32</td>\n",
       "      <td>5751.24</td>\n",
       "      <td>19.11</td>\n",
       "      <td>...</td>\n",
       "      <td>908.03</td>\n",
       "      <td>15.34</td>\n",
       "      <td>1414.47</td>\n",
       "      <td>33.45</td>\n",
       "      <td>222.65</td>\n",
       "      <td>1141.74</td>\n",
       "      <td>12.16</td>\n",
       "      <td>1511.85</td>\n",
       "      <td>550.36</td>\n",
       "      <td>167.55</td>\n",
       "    </tr>\n",
       "  </tbody>\n",
       "</table>\n",
       "<p>5 rows × 756 columns</p>\n",
       "</div>"
      ],
      "text/plain": [
       "   COVID-19   Age  Gender    ACE  ACKR2  ACKR3  ACKR4    ACOX1    ACSL1  \\\n",
       "0       1.0  44.0     0.0  16.29  16.53  20.10   7.57  1054.81  3763.52   \n",
       "1       1.0  44.0     0.0   7.37  19.80  18.44  12.60  1120.94  3348.47   \n",
       "2       1.0  44.0     0.0   9.78  14.36  21.72   8.31  1648.33  5699.41   \n",
       "3       1.0  44.0     0.0  10.50  15.45  21.52   7.60  1673.20  6284.57   \n",
       "4       1.0  44.0     0.0   8.98  16.33  14.50   9.39  1338.32  5751.24   \n",
       "\n",
       "   ACSL3  ...     VSIR    VWF      WAS  WIPI1    XAF1     XBP1   XCR1  \\\n",
       "0  28.00  ...   859.20  14.18  1346.80  33.66  819.23  1482.88  10.11   \n",
       "1  29.11  ...   697.07  17.83  1133.98  47.27  240.81  1728.78  12.47   \n",
       "2  20.95  ...   837.58  29.69  1510.44  48.17  255.67  1000.26   9.10   \n",
       "3  28.35  ...  1034.45  29.09  1587.53  39.70  216.95  1187.84   5.01   \n",
       "4  19.11  ...   908.03  15.34  1414.47  33.45  222.65  1141.74  12.16   \n",
       "\n",
       "     YWHAQ   ZAP70    ZBP1  \n",
       "0  1804.95  666.45  573.54  \n",
       "1  1603.10  665.62  253.06  \n",
       "2  1458.75  497.28  278.85  \n",
       "3  1563.95  572.21  260.41  \n",
       "4  1511.85  550.36  167.55  \n",
       "\n",
       "[5 rows x 756 columns]"
      ]
     },
     "execution_count": 40,
     "metadata": {},
     "output_type": "execute_result"
    }
   ],
   "source": [
    "merged_data = pd.read_csv(os.path.join(OUTPUT_DIR, condition_best_cohort + '.csv'))\n",
    "merged_data.head()"
   ]
  },
  {
   "cell_type": "code",
   "execution_count": 41,
   "metadata": {
    "ExecuteTime": {
     "end_time": "2024-01-27T00:28:32.928750861Z",
     "start_time": "2024-01-27T00:28:32.919707740Z"
    },
    "collapsed": false
   },
   "outputs": [],
   "source": [
    "# Remove the other condition to prevent interference.\n",
    "merged_data = merged_data.drop(columns=['Gender'], errors='ignore').astype('float')\n",
    "\n",
    "X = merged_data.drop(columns=[TRAIT, condition]).values\n",
    "Y = merged_data[TRAIT].values\n",
    "Z = merged_data[condition].values"
   ]
  },
  {
   "cell_type": "markdown",
   "metadata": {
    "collapsed": false
   },
   "source": [
    "Select the appropriate regression model depending on whether the dataset shows batch effect."
   ]
  },
  {
   "cell_type": "code",
   "execution_count": 42,
   "metadata": {
    "ExecuteTime": {
     "end_time": "2024-01-27T00:28:33.823422302Z",
     "start_time": "2024-01-27T00:28:33.796534868Z"
    },
    "collapsed": false
   },
   "outputs": [
    {
     "data": {
      "text/plain": [
       "True"
      ]
     },
     "execution_count": 42,
     "metadata": {},
     "output_type": "execute_result"
    }
   ],
   "source": [
    "has_batch_effect = detect_batch_effect(X)\n",
    "has_batch_effect"
   ]
  },
  {
   "cell_type": "code",
   "execution_count": 43,
   "metadata": {
    "ExecuteTime": {
     "end_time": "2024-01-27T00:28:34.163808203Z",
     "start_time": "2024-01-27T00:28:34.150563557Z"
    },
    "collapsed": false
   },
   "outputs": [],
   "source": [
    "# Select appropriate models based on whether the dataset has batch effect.\n",
    "# We experiment on two models for each branch. We will decide which one to choose later.\n",
    "\n",
    "if has_batch_effect:\n",
    "    model_constructor1 = VariableSelection\n",
    "    model_params1 = {'modified': True, 'lamda': 3e-4}\n",
    "    model_constructor2 = VariableSelection\n",
    "    model_params2 = {'modified': False}\n",
    "else:\n",
    "    model_constructor1 = Lasso\n",
    "    model_params1 = {'alpha': 1.0, 'random_state': 42}\n",
    "    model_constructor2 = VariableSelection\n",
    "    model_params2 = {'modified': False}"
   ]
  },
  {
   "cell_type": "code",
   "execution_count": 44,
   "metadata": {
    "ExecuteTime": {
     "end_time": "2024-01-27T00:28:34.736744360Z",
     "start_time": "2024-01-27T00:28:34.501356449Z"
    },
    "collapsed": false
   },
   "outputs": [
    {
     "name": "stdout",
     "output_type": "stream",
     "text": [
      "alpha for Lasso: 0.0003\n",
      "alpha for Lasso: 0.0003\n",
      "alpha for Lasso: 0.0003\n",
      "alpha for Lasso: 0.0003\n",
      "alpha for Lasso: 0.0003\n",
      "The cross-validation accuracy is 52.77% ± 4.54%\n"
     ]
    }
   ],
   "source": [
    "trait_type = 'binary'  # Remember to set this properly, either 'binary' or 'continuous'\n",
    "cv_mean1, cv_std1 = cross_validation(X, Y, Z, model_constructor1, model_params1, target_type=trait_type)"
   ]
  },
  {
   "cell_type": "code",
   "execution_count": 45,
   "metadata": {
    "ExecuteTime": {
     "end_time": "2024-01-27T00:28:35.619916014Z",
     "start_time": "2024-01-27T00:28:34.854345712Z"
    },
    "collapsed": false
   },
   "outputs": [
    {
     "name": "stdout",
     "output_type": "stream",
     "text": [
      "The cross-validation accuracy is 82.13% ± 5.80%\n"
     ]
    }
   ],
   "source": [
    "cv_mean2, cv_std2 = cross_validation(X, Y, Z, model_constructor2, model_params2, target_type=trait_type)"
   ]
  },
  {
   "cell_type": "code",
   "execution_count": 46,
   "metadata": {
    "ExecuteTime": {
     "end_time": "2024-01-27T00:28:35.775808872Z",
     "start_time": "2024-01-27T00:28:35.604424444Z"
    },
    "collapsed": false
   },
   "outputs": [
    {
     "name": "stdout",
     "output_type": "stream",
     "text": [
      "alpha for Lasso: 0.0003\n"
     ]
    }
   ],
   "source": [
    "normalized_X, _ = normalize_data(X)\n",
    "normalized_Z, _ = normalize_data(Z)\n",
    "\n",
    "# Train regression model on the whole dataset to identify significant genes\n",
    "model1 = ResidualizationRegressor(model_constructor1, model_params1)\n",
    "model1.fit(normalized_X, Y, normalized_Z)\n",
    "\n",
    "model2 = ResidualizationRegressor(model_constructor2, model_params2)\n",
    "model2.fit(normalized_X, Y, normalized_Z)"
   ]
  },
  {
   "cell_type": "markdown",
   "metadata": {
    "ExecuteTime": {
     "end_time": "2023-10-14T04:50:59.072075075Z",
     "start_time": "2023-10-14T04:50:38.739499998Z"
    },
    "id": "EjJrxbvb4nlj"
   },
   "source": [
    "### 4. Discussion and report"
   ]
  },
  {
   "cell_type": "code",
   "execution_count": 47,
   "metadata": {
    "ExecuteTime": {
     "end_time": "2024-01-27T00:28:37.418271015Z",
     "start_time": "2024-01-27T00:28:37.375058843Z"
    },
    "collapsed": false
   },
   "outputs": [
    {
     "name": "stdout",
     "output_type": "stream",
     "text": [
      "Effect of the condition on the target variable:\n",
      "Variable: Age\n",
      "Coefficient: -0.0729\n",
      "Found 182 genes with non-zero coefficients associated with the trait 'COVID-19' conditional on the factor 'Age'. These genes are identified as significant based on the regression model.\n",
      "Variable  Coefficient  Absolute Coefficient\n",
      "   ACSL1    -1.944215              1.944215\n",
      "   CCL18    -1.873491              1.873491\n",
      "    LTBR    -1.328069              1.328069\n",
      " IL12RB2     1.122110              1.122110\n",
      "    CD38     1.051685              1.051685\n",
      "  STING1    -1.017088              1.017088\n",
      "    TLR5    -1.010382              1.010382\n",
      "   SORT1    -0.992248              0.992248\n",
      "    ERN1     0.980659              0.980659\n",
      "     TNF    -0.936520              0.936520\n",
      "    CCR2    -0.901504              0.901504\n",
      "  LILRA3     0.891839              0.891839\n",
      "    IL1A    -0.857939              0.857939\n",
      "   IL6ST    -0.845544              0.845544\n",
      "    RELB    -0.791836              0.791836\n",
      "     CD6    -0.791053              0.791053\n",
      "HLA-DQB1     0.765764              0.765764\n",
      "  IFITM1    -0.755995              0.755995\n",
      "   CASP3     0.729563              0.729563\n",
      "    NT5E    -0.717664              0.717664\n",
      "    CCR7    -0.714083              0.714083\n",
      "    TLR7    -0.713058              0.713058\n",
      "  IL1F10    -0.711492              0.711492\n",
      "    DYSF    -0.706468              0.706468\n",
      "   SP100    -0.704292              0.704292\n",
      "    CCR1    -0.702465              0.702465\n",
      "   ITLN1    -0.688248              0.688248\n",
      "    TCF7    -0.645604              0.645604\n",
      "   TRIM6    -0.643299              0.643299\n",
      "   FOXP3    -0.641912              0.641912\n",
      "  ALOX15     0.608980              0.608980\n",
      "     IL9    -0.608686              0.608686\n",
      "    CD81    -0.602039              0.602039\n",
      "   TIGIT    -0.579215              0.579215\n",
      "HSP90AB1    -0.568450              0.568450\n",
      "  CYSTM1    -0.558560              0.558560\n",
      "   GSTM4     0.543033              0.543033\n",
      "    IL22    -0.536070              0.536070\n",
      "  MAP3K3     0.527615              0.527615\n",
      "    CHUK     0.526869              0.526869\n",
      "  TNFSF9    -0.521039              0.521039\n",
      "   NLRC4    -0.503410              0.503410\n",
      "      C3    -0.496304              0.496304\n",
      "    CPA3    -0.488686              0.488686\n",
      "    CCL1    -0.488606              0.488606\n",
      "   NFKB2    -0.480675              0.480675\n",
      "   ITPR3    -0.466574              0.466574\n",
      "   P2RX7    -0.464363              0.464363\n",
      " IL12RB1    -0.450058              0.450058\n",
      "  PIK3CA    -0.427805              0.427805\n",
      "    TIFA    -0.425747              0.425747\n",
      "  IL31RA    -0.417855              0.417855\n",
      "   CXCL5     0.417557              0.417557\n",
      "    BATF    -0.415383              0.415383\n",
      "    SOD1    -0.413156              0.413156\n",
      "     BLK    -0.402754              0.402754\n",
      "    CCR8     0.391118              0.391118\n",
      "     HDC    -0.389399              0.389399\n",
      "    NOD2    -0.374776              0.374776\n",
      "   RUNX3    -0.374066              0.374066\n",
      "   CCL15    -0.369820              0.369820\n",
      "ATP6V1B2     0.369690              0.369690\n",
      "    CD44    -0.361272              0.361272\n",
      "    GNLY     0.355811              0.355811\n",
      "  HAVCR2     0.352260              0.352260\n",
      "     PLG    -0.351828              0.351828\n",
      "      C2    -0.348883              0.348883\n",
      "   PLCG1    -0.343350              0.343350\n",
      "   CCL28    -0.338945              0.338945\n",
      "  MAP2K4     0.337611              0.337611\n",
      "    CCR4     0.322131              0.322131\n",
      "   TGFB3    -0.312743              0.312743\n",
      "   EOMES    -0.305030              0.305030\n",
      "   IFNA5    -0.304673              0.304673\n",
      "    PLAU    -0.299808              0.299808\n",
      "    SELL    -0.297886              0.297886\n",
      "    NCR3    -0.296948              0.296948\n",
      "   CCL19    -0.296878              0.296878\n",
      "   KLRB1     0.296724              0.296724\n",
      "   CCL14    -0.294538              0.294538\n",
      "PDCD1LG2    -0.293359              0.293359\n",
      "    ATF2     0.291992              0.291992\n",
      "    PDHB     0.291680              0.291680\n",
      "  CARD11    -0.290298              0.290298\n",
      "   MKNK1    -0.286472              0.286472\n",
      "    NOS2    -0.277302              0.277302\n",
      "  PIK3C3     0.269841              0.269841\n",
      "   IL36G     0.258332              0.258332\n",
      "   TRAT1    -0.257655              0.257655\n",
      "  CXCL14    -0.257299              0.257299\n",
      "   IL17C    -0.255964              0.255964\n",
      "    CD8A    -0.255470              0.255470\n",
      "  IL1RL1     0.248823              0.248823\n",
      "    IL33    -0.230683              0.230683\n",
      "   TGFB2     0.228641              0.228641\n",
      " IL22RA2    -0.218911              0.218911\n",
      "   CCL26    -0.217576              0.217576\n",
      "   CASP4    -0.216401              0.216401\n",
      "    IL24     0.215434              0.215434\n",
      "   MAPK1     0.211652              0.211652\n",
      "  CXCL11    -0.210388              0.210388\n",
      "    IL31    -0.209454              0.209454\n",
      "    NOX1    -0.204041              0.204041\n",
      "    LEF1    -0.203232              0.203232\n",
      "     IL3    -0.201429              0.201429\n",
      "   HMOX1     0.198278              0.198278\n",
      "    CCR6    -0.195446              0.195446\n",
      "    CCL5     0.193951              0.193951\n",
      "    CCR9    -0.193105              0.193105\n",
      "   ACSL3    -0.192606              0.192606\n",
      "   PRDM1    -0.187558              0.187558\n",
      "   MARCO    -0.183645              0.183645\n",
      "  MAP3K1    -0.177118              0.177118\n",
      "      C5    -0.172832              0.172832\n",
      "     ACE    -0.171909              0.171909\n",
      " TMPRSS2     0.168768              0.168768\n",
      "   CCL23     0.165689              0.165689\n",
      " IL13RA2    -0.165459              0.165459\n",
      "   SIRPA    -0.164938              0.164938\n",
      "    IL13    -0.156914              0.156914\n",
      "  IL15RA    -0.156577              0.156577\n",
      "   RNF31    -0.155871              0.155871\n",
      "    CD80    -0.155410              0.155410\n",
      " RASGRP1    -0.151095              0.151095\n",
      "   KLRC1     0.150161              0.150161\n",
      "   IL12A    -0.147416              0.147416\n",
      "     ITK    -0.141784              0.141784\n",
      "  MARCKS    -0.139730              0.139730\n",
      "    HCST    -0.139444              0.139444\n",
      "   CCL21    -0.132589              0.132589\n",
      "  NFATC4    -0.129998              0.129998\n",
      "   VCAM1    -0.129825              0.129825\n",
      "   CD163    -0.125084              0.125084\n",
      "    PNOC    -0.121806              0.121806\n",
      "  PTGER2    -0.117913              0.117913\n",
      "     IL6    -0.117376              0.117376\n",
      "   LTA4H     0.115025              0.115025\n",
      "   IL23A    -0.112846              0.112846\n",
      "    MAVS    -0.111502              0.111502\n",
      "   CD276    -0.108049              0.108049\n",
      "      F5    -0.105417              0.105417\n",
      "    LAG3    -0.101257              0.101257\n",
      "    IL19    -0.100603              0.100603\n",
      "    HPGD    -0.097692              0.097692\n",
      "    BCL2    -0.097636              0.097636\n",
      "  IL27RA    -0.097298              0.097298\n",
      "  DIABLO     0.096354              0.096354\n",
      "   THOP1     0.094413              0.094413\n",
      "   SMAD5    -0.093930              0.093930\n",
      " TNFSF18    -0.087700              0.087700\n",
      "    ALPL    -0.086678              0.086678\n",
      "   C1QBP     0.084925              0.084925\n",
      "    NAE1     0.084077              0.084077\n",
      "   CD247     0.081935              0.081935\n",
      "    SSR1     0.080558              0.080558\n",
      "     LAT    -0.079730              0.079730\n",
      "   LTC4S    -0.076635              0.076635\n",
      "   ITGB7    -0.070263              0.070263\n",
      "  IFNLR1    -0.065729              0.065729\n",
      "  IL17RE    -0.056448              0.056448\n",
      "   IRAK3     0.056197              0.056197\n",
      "    ULK2    -0.047113              0.047113\n",
      "HLA-DPB1     0.041482              0.041482\n",
      "     MYC    -0.040686              0.040686\n",
      "   IRAK1    -0.040665              0.040665\n",
      "   CD79B    -0.040432              0.040432\n",
      "   CCL25     0.037033              0.037033\n",
      "    CD8B    -0.034334              0.034334\n",
      "    SPIB    -0.032466              0.032466\n",
      "   CCRL2     0.032044              0.032044\n",
      "   CASP5    -0.031197              0.031197\n",
      "    NCR1     0.030460              0.030460\n",
      "  PTGER4     0.025870              0.025870\n",
      "   IFNL1    -0.025202              0.025202\n",
      "   NTNG2     0.022310              0.022310\n",
      "    KRAS    -0.017336              0.017336\n",
      "   IFNB1    -0.015911              0.015911\n",
      "    CCR5    -0.013992              0.013992\n",
      "   CASP8     0.008912              0.008912\n",
      "   MS4A7     0.008890              0.008890\n",
      "   PRKCQ    -0.007953              0.007953\n",
      " SELENOS    -0.003175              0.003175\n"
     ]
    },
    {
     "name": "stderr",
     "output_type": "stream",
     "text": [
      "/Users/fabianmartinez/Desktop/DATA/TAIS_2024SP/Fabian/../utils.py:486: SettingWithCopyWarning: \n",
      "A value is trying to be set on a copy of a slice from a DataFrame.\n",
      "Try using .loc[row_indexer,col_indexer] = value instead\n",
      "\n",
      "See the caveats in the documentation: https://pandas.pydata.org/pandas-docs/stable/user_guide/indexing.html#returning-a-view-versus-a-copy\n",
      "  gene_regression_df['Absolute Coefficient'] = gene_regression_df['Coefficient'].abs()\n"
     ]
    }
   ],
   "source": [
    "feature_cols = merged_data.columns.tolist()\n",
    "feature_cols.remove(TRAIT)\n",
    "\n",
    "threshold = 0.05\n",
    "interpret_result(model1, feature_cols, TRAIT, condition, threshold=threshold, save_output=True,\n",
    "                 output_dir=OUTPUT_DIR, model_id=1)"
   ]
  },
  {
   "cell_type": "code",
   "execution_count": 48,
   "metadata": {
    "ExecuteTime": {
     "end_time": "2024-01-27T00:28:38.121098708Z",
     "start_time": "2024-01-27T00:28:38.114699892Z"
    },
    "collapsed": false
   },
   "outputs": [
    {
     "name": "stdout",
     "output_type": "stream",
     "text": [
      "Effect of the condition on the target variable:\n",
      "Variable: Age\n",
      "Coefficient: -0.0729\n",
      "Found 0 significant genes associated with the trait 'COVID-19' conditional on the factor 'Age', with corrected p-value < 0.05:\n",
      "Empty DataFrame\n",
      "Columns: [Variable, Coefficient, p_value, corrected_p_value]\n",
      "Index: []\n"
     ]
    },
    {
     "name": "stderr",
     "output_type": "stream",
     "text": [
      "/Users/fabianmartinez/Desktop/DATA/TAIS_2024SP/Fabian/../utils.py:495: SettingWithCopyWarning: \n",
      "A value is trying to be set on a copy of a slice from a DataFrame.\n",
      "Try using .loc[row_indexer,col_indexer] = value instead\n",
      "\n",
      "See the caveats in the documentation: https://pandas.pydata.org/pandas-docs/stable/user_guide/indexing.html#returning-a-view-versus-a-copy\n",
      "  gene_regression_df.loc[:, 'corrected_p_value'] = corrected_p_values\n"
     ]
    }
   ],
   "source": [
    "interpret_result(model2, feature_cols, TRAIT, condition, threshold=threshold, save_output=True,\n",
    "                 output_dir=OUTPUT_DIR, model_id=2)"
   ]
  },
  {
   "cell_type": "code",
   "execution_count": null,
   "metadata": {
    "collapsed": false
   },
   "outputs": [],
   "source": []
  },
  {
   "cell_type": "code",
   "execution_count": null,
   "metadata": {},
   "outputs": [],
   "source": []
  },
  {
   "cell_type": "code",
   "execution_count": null,
   "metadata": {},
   "outputs": [],
   "source": []
  },
  {
   "cell_type": "code",
   "execution_count": null,
   "metadata": {},
   "outputs": [],
   "source": []
  }
 ],
 "metadata": {
  "colab": {
   "provenance": []
  },
  "kernelspec": {
   "display_name": "Python 3 (ipykernel)",
   "language": "python",
   "name": "python3"
  },
  "language_info": {
   "codemirror_mode": {
    "name": "ipython",
    "version": 3
   },
   "file_extension": ".py",
   "mimetype": "text/x-python",
   "name": "python",
   "nbconvert_exporter": "python",
   "pygments_lexer": "ipython3",
   "version": "3.11.4"
  }
 },
 "nbformat": 4,
 "nbformat_minor": 0
}
