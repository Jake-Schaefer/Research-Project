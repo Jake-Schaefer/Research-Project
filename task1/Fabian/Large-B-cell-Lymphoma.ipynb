{
 "nbformat": 4,
 "nbformat_minor": 0,
 "metadata": {
  "colab": {
   "provenance": []
  },
  "kernelspec": {
   "name": "python3",
   "language": "python",
   "display_name": "Python 3 (ipykernel)"
  },
  "language_info": {
   "name": "python"
  }
 },
 "cells": [
  {
   "cell_type": "markdown",
   "source": [
    "# Gold standard curation: Preprocessing and single-step regression"
   ],
   "metadata": {
    "collapsed": false
   }
  },
  {
   "cell_type": "markdown",
   "source": [
    "In this stage of gold standard curation, we will do the data preprocessing, selection, and single-step regression for the 153 traits in our question set. This file shows the reference steps using the trait \"Breast Cancer\" as an example. The workflow consists of the following steps:\n",
    "\n",
    "1. Preprocess all the cohorts related to this trait. Each cohort should be converted to a tabular form and saved to a csv file, with columns being genetic factors, the trait, and age, gender if available;\n",
    "2. If there exists at least one cohort with age or gender information, conduct regression analysis with genetic features together with age or gender as the regressors.\n"
   ],
   "metadata": {
    "collapsed": false
   }
  },
  {
   "cell_type": "markdown",
   "source": [
    "# 1. Basic setup"
   ],
   "metadata": {
    "collapsed": false
   }
  },
  {
   "cell_type": "code",
   "execution_count": 37,
   "outputs": [],
   "source": [
    "import os\n",
    "import sys\n",
    "\n",
    "sys.path.append('..')\n",
    "from utils import *\n",
    "\n",
    "# Set your preferred name\n",
    "USER = \"Haoyang\"\n",
    "# Set the data and output directories\n",
    "DATA_ROOT = '/media/techt/DATA'\n",
    "OUTPUT_ROOT = '../../output1'\n",
    "TRAIT = 'Large B-cell Lymphoma'\n",
    "\n",
    "OUTPUT_DIR = os.path.join(OUTPUT_ROOT, USER, '-'.join(TRAIT.split()))\n",
    "JSON_PATH = os.path.join(OUTPUT_DIR, \"cohort_info.json\")\n",
    "if not os.path.exists(OUTPUT_DIR):\n",
    "    os.makedirs(OUTPUT_DIR, exist_ok=True)\n",
    "\n",
    "# Gene symbol normalization may take 1-2 minutes. You may set it to False for debugging.\n",
    "NORMALIZE_GENE = True"
   ],
   "metadata": {
    "collapsed": false,
    "ExecuteTime": {
     "end_time": "2024-01-30T22:44:23.810900373Z",
     "start_time": "2024-01-30T22:44:23.761125805Z"
    }
   }
  },
  {
   "cell_type": "code",
   "execution_count": 38,
   "metadata": {
    "colab": {
     "base_uri": "https://localhost:8080/"
    },
    "id": "jMTdsU43vVg3",
    "outputId": "38886111-f442-44b4-8398-96bf384d7abd",
    "ExecuteTime": {
     "end_time": "2024-01-30T22:44:24.134541466Z",
     "start_time": "2024-01-30T22:44:24.124917651Z"
    }
   },
   "outputs": [
    {
     "data": {
      "text/plain": "\"import os\\nfrom google.colab import drive\\n\\ndrive.mount('/content/drive', force_remount=True)\\nproj_dir = '/content/drive/MyDrive/AI4Science_Public'\\nos.chdir(proj_dir)\""
     },
     "execution_count": 38,
     "metadata": {},
     "output_type": "execute_result"
    }
   ],
   "source": [
    "# This cell is only for use on Google Colab. Skip it if you run your code in other environments\n",
    "\n",
    "\"\"\"import os\n",
    "from google.colab import drive\n",
    "\n",
    "drive.mount('/content/drive', force_remount=True)\n",
    "proj_dir = '/content/drive/MyDrive/AI4Science_Public'\n",
    "os.chdir(proj_dir)\"\"\""
   ]
  },
  {
   "cell_type": "markdown",
   "source": [
    "# 2. Data preprocessing and selection"
   ],
   "metadata": {
    "collapsed": false
   }
  },
  {
   "cell_type": "markdown",
   "source": [
    "## 2.1. The TCGA Xena dataset"
   ],
   "metadata": {
    "collapsed": false
   }
  },
  {
   "cell_type": "markdown",
   "source": [
    "In TCGA Xena, there is either zero or one cohort related to the trait. We search the names of subdirectories to see if any matches the trait. If a match is found, we directly obtain the file paths."
   ],
   "metadata": {
    "collapsed": false
   }
  },
  {
   "cell_type": "code",
   "execution_count": 39,
   "outputs": [
    {
     "data": {
      "text/plain": "['TCGA_Lower_Grade_Glioma_(LGG)',\n 'TCGA_lower_grade_glioma_and_glioblastoma_(GBMLGG)',\n 'TCGA_Lung_Adenocarcinoma_(LUAD)',\n 'TCGA_Lung_Cancer_(LUNG)',\n 'TCGA_Lung_Squamous_Cell_Carcinoma_(LUSC)',\n 'TCGA_Melanoma_(SKCM)',\n 'TCGA_Mesothelioma_(MESO)',\n 'TCGA_Ocular_melanomas_(UVM)',\n 'TCGA_Ovarian_Cancer_(OV)',\n 'TCGA_Pancreatic_Cancer_(PAAD)',\n 'TCGA_Pheochromocytoma_Paraganglioma_(PCPG)',\n 'TCGA_Prostate_Cancer_(PRAD)',\n 'TCGA_Rectal_Cancer_(READ)',\n 'TCGA_Sarcoma_(SARC)',\n 'TCGA_Stomach_Cancer_(STAD)',\n 'TCGA_Testicular_Cancer_(TGCT)',\n 'TCGA_Thymoma_(THYM)',\n 'TCGA_Thyroid_Cancer_(THCA)',\n 'TCGA_Uterine_Carcinosarcoma_(UCS)',\n '.DS_Store',\n 'CrawlData.ipynb',\n 'TCGA_Acute_Myeloid_Leukemia_(LAML)',\n 'TCGA_Adrenocortical_Cancer_(ACC)',\n 'TCGA_Bile_Duct_Cancer_(CHOL)',\n 'TCGA_Bladder_Cancer_(BLCA)',\n 'TCGA_Breast_Cancer_(BRCA)',\n 'TCGA_Cervical_Cancer_(CESC)',\n 'TCGA_Colon_and_Rectal_Cancer_(COADREAD)',\n 'TCGA_Colon_Cancer_(COAD)',\n 'TCGA_Endometrioid_Cancer_(UCEC)',\n 'TCGA_Esophageal_Cancer_(ESCA)',\n 'TCGA_Glioblastoma_(GBM)',\n 'TCGA_Head_and_Neck_Cancer_(HNSC)',\n 'TCGA_Kidney_Chromophobe_(KICH)',\n 'TCGA_Kidney_Clear_Cell_Carcinoma_(KIRC)',\n 'TCGA_Kidney_Papillary_Cell_Carcinoma_(KIRP)',\n 'TCGA_Large_Bcell_Lymphoma_(DLBC)',\n 'TCGA_Liver_Cancer_(LIHC)']"
     },
     "execution_count": 39,
     "metadata": {},
     "output_type": "execute_result"
    }
   ],
   "source": [
    "dataset = 'TCGA'\n",
    "dataset_dir = os.path.join(DATA_ROOT, dataset)\n",
    "os.listdir(dataset_dir)"
   ],
   "metadata": {
    "collapsed": false,
    "ExecuteTime": {
     "end_time": "2024-01-30T22:44:25.711385707Z",
     "start_time": "2024-01-30T22:44:25.700379554Z"
    }
   }
  },
  {
   "cell_type": "markdown",
   "source": [
    "If no match is found, jump directly to GEO in Part 2.2"
   ],
   "metadata": {
    "collapsed": false
   }
  },
  {
   "cell_type": "code",
   "execution_count": 40,
   "outputs": [],
   "source": [
    "trait_subdir = \"TCGA_Large_Bcell_Lymphoma_(DLBC)\"\n",
    "cohort = 'Xena'\n",
    "# All the cancer traits in Xena are binary\n",
    "trait_type = 'binary'\n",
    "# Once a relevant cohort is found in Xena, we can generally assume the gene and clinical data are available\n",
    "is_available = True\n",
    "\n",
    "cohort_dir = os.path.join(dataset_dir, trait_subdir)\n",
    "clinical_data_file, genetic_data_file = xena_get_relevant_filepaths(cohort_dir)"
   ],
   "metadata": {
    "collapsed": false,
    "ExecuteTime": {
     "end_time": "2024-01-30T22:44:28.445216050Z",
     "start_time": "2024-01-30T22:44:28.443020145Z"
    }
   }
  },
  {
   "cell_type": "code",
   "source": [
    "import pandas as pd\n",
    "\n",
    "clinical_data = pd.read_csv(clinical_data_file, sep='\\t', index_col=0)\n",
    "genetic_data = pd.read_csv(genetic_data_file, compression='gzip', sep='\\t', index_col=0)\n",
    "age_col = gender_col = None"
   ],
   "metadata": {
    "id": "MudwB-_iz7sc",
    "ExecuteTime": {
     "end_time": "2024-01-30T22:45:19.344668975Z",
     "start_time": "2024-01-30T22:45:19.173809828Z"
    }
   },
   "execution_count": 50,
   "outputs": []
  },
  {
   "cell_type": "code",
   "execution_count": 42,
   "outputs": [
    {
     "data": {
      "text/plain": "['_INTEGRATION',\n '_PATIENT',\n '_cohort',\n '_primary_disease',\n '_primary_site',\n 'age_at_initial_pathologic_diagnosis',\n 'b_lymphocyte_genotyping_method',\n 'bcr_followup_barcode',\n 'bcr_patient_barcode',\n 'bcr_sample_barcode']"
     },
     "execution_count": 42,
     "metadata": {},
     "output_type": "execute_result"
    }
   ],
   "source": [
    "_, clinical_data_cols = check_rows_and_columns(clinical_data)\n",
    "clinical_data_cols[:10]"
   ],
   "metadata": {
    "collapsed": false,
    "ExecuteTime": {
     "end_time": "2024-01-30T22:44:31.038733891Z",
     "start_time": "2024-01-30T22:44:31.028996192Z"
    }
   }
  },
  {
   "cell_type": "markdown",
   "source": [
    "Read all the column names in the clinical dataset, to find the columns that record information about age or gender.\n",
    "Reference prompt:"
   ],
   "metadata": {
    "collapsed": false,
    "ExecuteTime": {
     "end_time": "2023-12-28T20:20:11.841042813Z",
     "start_time": "2023-12-28T20:20:11.834458206Z"
    }
   },
   "outputs": [
    {
     "data": {
      "text/plain": "['AJCC_Stage_nature2012',\n 'Age_at_Initial_Pathologic_Diagnosis_nature2012',\n 'CN_Clusters_nature2012',\n 'Converted_Stage_nature2012',\n 'Days_to_Date_of_Last_Contact_nature2012',\n 'Days_to_date_of_Death_nature2012',\n 'ER_Status_nature2012',\n 'Gender_nature2012',\n 'HER2_Final_Status_nature2012',\n 'Integrated_Clusters_no_exp__nature2012',\n 'Integrated_Clusters_unsup_exp__nature2012',\n 'Integrated_Clusters_with_PAM50__nature2012',\n 'Metastasis_Coded_nature2012',\n 'Metastasis_nature2012',\n 'Node_Coded_nature2012',\n 'Node_nature2012',\n 'OS_Time_nature2012',\n 'OS_event_nature2012',\n 'PAM50Call_RNAseq',\n 'PAM50_mRNA_nature2012',\n 'PR_Status_nature2012',\n 'RPPA_Clusters_nature2012',\n 'SigClust_Intrinsic_mRNA_nature2012',\n 'SigClust_Unsupervised_mRNA_nature2012',\n 'Survival_Data_Form_nature2012',\n 'Tumor_T1_Coded_nature2012',\n 'Tumor_nature2012',\n 'Vital_Status_nature2012',\n '_INTEGRATION',\n '_PANCAN_CNA_PANCAN_K8',\n '_PANCAN_Cluster_Cluster_PANCAN',\n '_PANCAN_DNAMethyl_BRCA',\n '_PANCAN_DNAMethyl_PANCAN',\n '_PANCAN_RPPA_PANCAN_K8',\n '_PANCAN_UNC_RNAseq_PANCAN_K16',\n '_PANCAN_miRNA_PANCAN',\n '_PANCAN_mirna_BRCA',\n '_PANCAN_mutation_PANCAN',\n '_PATIENT',\n '_cohort',\n '_primary_disease',\n '_primary_site',\n 'additional_pharmaceutical_therapy',\n 'additional_radiation_therapy',\n 'additional_surgery_locoregional_procedure',\n 'additional_surgery_metastatic_procedure',\n 'age_at_initial_pathologic_diagnosis',\n 'anatomic_neoplasm_subdivision',\n 'axillary_lymph_node_stage_method_type',\n 'axillary_lymph_node_stage_other_method_descriptive_text',\n 'bcr_followup_barcode',\n 'bcr_patient_barcode',\n 'bcr_sample_barcode',\n 'breast_cancer_surgery_margin_status',\n 'breast_carcinoma_estrogen_receptor_status',\n 'breast_carcinoma_immunohistochemistry_er_pos_finding_scale',\n 'breast_carcinoma_immunohistochemistry_pos_cell_score',\n 'breast_carcinoma_immunohistochemistry_prgstrn_rcptr_ps_fndng_scl',\n 'breast_carcinoma_primary_surgical_procedure_name',\n 'breast_carcinoma_progesterone_receptor_status',\n 'breast_carcinoma_surgical_procedure_name',\n 'breast_neoplasm_other_surgical_procedure_descriptive_text',\n 'cytokeratin_immunohistochemistry_staining_method_mcrmtstss_ndctr',\n 'days_to_additional_surgery_locoregional_procedure',\n 'days_to_additional_surgery_metastatic_procedure',\n 'days_to_birth',\n 'days_to_collection',\n 'days_to_death',\n 'days_to_initial_pathologic_diagnosis',\n 'days_to_last_followup',\n 'days_to_last_known_alive',\n 'days_to_new_tumor_event_additional_surgery_procedure',\n 'days_to_new_tumor_event_after_initial_treatment',\n 'disease_code',\n 'distant_metastasis_present_ind2',\n 'er_detection_method_text',\n 'er_level_cell_percentage_category',\n 'fluorescence_in_st_hybrdztn_dgnstc_prcdr_chrmsm_17_sgnl_rslt_rng',\n 'followup_case_report_form_submission_reason',\n 'form_completion_date',\n 'gender',\n 'her2_and_centromere_17_positive_finding_other_measuremnt_scl_txt',\n 'her2_erbb_method_calculation_method_text',\n 'her2_erbb_pos_finding_cell_percent_category',\n 'her2_erbb_pos_finding_fluorescence_n_st_hybrdztn_clcltn_mthd_txt',\n 'her2_immunohistochemistry_level_result',\n 'her2_neu_and_centromere_17_copy_number_analysis_npt_ttl_nmbr_cnt',\n 'her2_neu_breast_carcinoma_copy_analysis_input_total_number',\n 'her2_neu_chromosone_17_signal_ratio_value',\n 'her2_neu_metastatic_breast_carcinoma_copy_analysis_inpt_ttl_nmbr',\n 'histological_type',\n 'histological_type_other',\n 'history_of_neoadjuvant_treatment',\n 'hr2_n_nd_cntrmr_17_cpy_nmbr_mtsttc_brst_crcnm_nlyss_npt_ttl_nmbr',\n 'icd_10',\n 'icd_o_3_histology',\n 'icd_o_3_site',\n 'immunohistochemistry_positive_cell_score',\n 'informed_consent_verified',\n 'init_pathology_dx_method_other',\n 'initial_pathologic_diagnosis_method',\n 'initial_weight',\n 'is_ffpe',\n 'lab_proc_her2_neu_immunohistochemistry_receptor_status',\n 'lab_procedure_her2_neu_in_situ_hybrid_outcome_type',\n 'lost_follow_up',\n 'lymph_node_examined_count',\n 'margin_status',\n 'menopause_status',\n 'metastatic_breast_carcinm_ps_fndng_prgstrn_rcptr_thr_msr_scl_txt',\n 'metastatic_breast_carcinom_lb_prc_hr2_n_mmnhstchmstry_rcptr_stts',\n 'metastatic_breast_carcinoma_erbb2_immunohistochemistry_levl_rslt',\n 'metastatic_breast_carcinoma_estrogen_receptor_detection_mthd_txt',\n 'metastatic_breast_carcinoma_estrogen_receptor_status',\n 'metastatic_breast_carcinoma_estrogen_receptr_lvl_cll_prcnt_ctgry',\n 'metastatic_breast_carcinoma_her2_erbb_method_calculatin_mthd_txt',\n 'metastatic_breast_carcinoma_her2_erbb_pos_findng_cll_prcnt_ctgry',\n 'metastatic_breast_carcinoma_her2_neu_chromosone_17_signal_rat_vl',\n 'metastatic_breast_carcinoma_immunhstchmstry_r_pstv_fndng_scl_typ',\n 'metastatic_breast_carcinoma_immunohistochemistry_er_pos_cell_scr',\n 'metastatic_breast_carcinoma_immunohistochemistry_pr_pos_cell_scr',\n 'metastatic_breast_carcinoma_lab_proc_hr2_n_n_st_hybrdztn_tcm_typ',\n 'metastatic_breast_carcinoma_pos_finding_hr2_rbb2_thr_msr_scl_txt',\n 'metastatic_breast_carcinoma_progestern_rcptr_lvl_cll_prcnt_ctgry',\n 'metastatic_breast_carcinoma_progesterone_receptor_dtctn_mthd_txt',\n 'metastatic_breast_carcinoma_progesterone_receptor_status',\n 'metastatic_site_at_diagnosis',\n 'metastatic_site_at_diagnosis_other',\n 'methylation_Clusters_nature2012',\n 'miRNA_Clusters_nature2012',\n 'mtsttc_brst_crcnm_flrscnc_n_st_hybrdztn_dgnstc_prc_cntrmr_17_sgn',\n 'mtsttc_brst_crcnm_hr2_rbb_ps_fndng_flrscnc_n_st_hybrdztn_clcltn',\n 'mtsttc_brst_crcnm_mmnhstchmstry_prgstrn_rcptr_pstv_fndng_scl_typ',\n 'new_neoplasm_event_occurrence_anatomic_site',\n 'new_neoplasm_event_type',\n 'new_neoplasm_occurrence_anatomic_site_text',\n 'new_tumor_event_additional_surgery_procedure',\n 'new_tumor_event_after_initial_treatment',\n 'number_of_lymphnodes_positive_by_he',\n 'number_of_lymphnodes_positive_by_ihc',\n 'oct_embedded',\n 'other_dx',\n 'pathologic_M',\n 'pathologic_N',\n 'pathologic_T',\n 'pathologic_stage',\n 'pathology_report_file_name',\n 'patient_id',\n 'person_neoplasm_cancer_status',\n 'pgr_detection_method_text',\n 'pos_finding_her2_erbb2_other_measurement_scale_text',\n 'pos_finding_metastatic_brst_crcnm_strgn_rcptr_thr_msrmnt_scl_txt',\n 'pos_finding_progesterone_receptor_other_measurement_scale_text',\n 'positive_finding_estrogen_receptor_other_measurement_scale_text',\n 'postoperative_rx_tx',\n 'primary_lymph_node_presentation_assessment',\n 'progesterone_receptor_level_cell_percent_category',\n 'project_code',\n 'radiation_therapy',\n 'sample_type',\n 'sample_type_id',\n 'surgical_procedure_purpose_other_text',\n 'system_version',\n 'targeted_molecular_therapy',\n 'tissue_prospective_collection_indicator',\n 'tissue_retrospective_collection_indicator',\n 'tissue_source_site',\n 'tumor_tissue_site',\n 'vial_number',\n 'vital_status',\n 'year_of_initial_pathologic_diagnosis',\n '_GENOMIC_ID_TCGA_BRCA_exp_HiSeqV2_exon',\n '_GENOMIC_ID_TCGA_BRCA_exp_HiSeqV2_PANCAN',\n '_GENOMIC_ID_TCGA_BRCA_RPPA_RBN',\n '_GENOMIC_ID_TCGA_BRCA_mutation',\n '_GENOMIC_ID_TCGA_BRCA_PDMRNAseq',\n '_GENOMIC_ID_TCGA_BRCA_hMethyl450',\n '_GENOMIC_ID_TCGA_BRCA_RPPA',\n '_GENOMIC_ID_TCGA_BRCA_PDMRNAseqCNV',\n '_GENOMIC_ID_TCGA_BRCA_mutation_curated_wustl_gene',\n '_GENOMIC_ID_TCGA_BRCA_hMethyl27',\n '_GENOMIC_ID_TCGA_BRCA_PDMarrayCNV',\n '_GENOMIC_ID_TCGA_BRCA_miRNA_HiSeq',\n '_GENOMIC_ID_TCGA_BRCA_mutation_wustl_gene',\n '_GENOMIC_ID_TCGA_BRCA_miRNA_GA',\n '_GENOMIC_ID_TCGA_BRCA_exp_HiSeqV2_percentile',\n '_GENOMIC_ID_data/public/TCGA/BRCA/miRNA_GA_gene',\n '_GENOMIC_ID_TCGA_BRCA_gistic2thd',\n '_GENOMIC_ID_data/public/TCGA/BRCA/miRNA_HiSeq_gene',\n '_GENOMIC_ID_TCGA_BRCA_G4502A_07_3',\n '_GENOMIC_ID_TCGA_BRCA_exp_HiSeqV2',\n '_GENOMIC_ID_TCGA_BRCA_gistic2',\n '_GENOMIC_ID_TCGA_BRCA_PDMarray']"
     },
     "execution_count": 7,
     "metadata": {},
     "output_type": "execute_result"
    }
   ],
   "execution_count": 7
  },
  {
   "cell_type": "code",
   "execution_count": 43,
   "outputs": [
    {
     "data": {
      "text/plain": "\"\\nBelow is a list of column names from a biomedical dataset. Please examine it and identify the columns that are likely to contain information about patients' age. Additionally, please do the same for columns that may hold data on patients' gender. Please provide your answer by strictly following this format, without redundant words:\\ncandidate_age_cols = [col_name1, col_name2, ...]\\ncandidate_gender_cols = [col_name1, col_name2, ...]\\nIf no columns match a criterion, please provide an empty list.\\n\\nColumn names:\\n['_INTEGRATION', '_PATIENT', '_cohort', '_primary_disease', '_primary_site', 'age_at_initial_pathologic_diagnosis', 'b_lymphocyte_genotyping_method', 'bcr_followup_barcode', 'bcr_patient_barcode', 'bcr_sample_barcode', 'bone_marrow_biopsy_done', 'bone_marrow_involvement', 'bone_marrow_sample_histology', 'clinical_stage', 'days_to_birth', 'days_to_collection', 'days_to_death', 'days_to_initial_pathologic_diagnosis', 'days_to_last_followup', 'days_to_new_tumor_event_after_initial_treatment', 'eastern_cancer_oncology_group', 'ebv_positive_malignant_cells_percent', 'ebv_status_malignant_cells_method', 'epstein_barr_viral_status', 'extranodal_involvement', 'extranodal_involvment_site_other', 'extranodal_sites_involvement_number', 'first_progression_histology_type', 'first_progression_histology_type_other', 'first_recurrence_biopsy_confirmed', 'follicular_percent', 'followup_case_report_form_submission_reason', 'followup_treatment_success', 'form_completion_date', 'gender', 'genetic_abnormality_method_other', 'genetic_abnormality_results', 'genetic_abnormality_results_other', 'genetic_abnormality_tested', 'genetic_abnormality_tested_other', 'height', 'histological_type', 'history_immunological_disease', 'history_immunological_disease_other', 'history_immunosuppresive_rx', 'history_immunosuppressive_rx_other', 'history_of_neoadjuvant_treatment', 'history_relevant_infectious_dx', 'hiv_status', 'icd_10', 'icd_o_3_histology', 'icd_o_3_site', 'igh_genotype_results', 'immunophenotypic_analysis_method', 'immunophenotypic_analysis_results', 'immunophenotypic_analysis_tested', 'informed_consent_verified', 'initial_weight', 'intermediate_dimension', 'is_ffpe', 'ldh_level', 'ldh_norm_range_upper', 'longest_dimension', 'lost_follow_up', 'lymph_node_involvement_site', 'maximum_tumor_bulk_anatomic_site', 'maximum_tumor_dimension', 'mib1_positive_percentage_range', 'new_neoplasm_event_occurrence_anatomic_site', 'new_neoplasm_occurrence_anatomic_site_text', 'new_tumor_event_after_initial_treatment', 'oct_embedded', 'other_dx', 'pathology_report_file_name', 'patient_id', 'person_neoplasm_cancer_status', 'pet_scan_results', 'primary_therapy_outcome_success', 'radiation_therapy', 'sample_type', 'sample_type_id', 'shortest_dimension', 'system_version', 'targeted_molecular_therapy', 'tissue_prospective_collection_indicator', 'tissue_retrospective_collection_indicator', 'tissue_source_site', 'tumor_tissue_site', 'vial_number', 'vital_status', 'weight', 'year_of_initial_pathologic_diagnosis', '_GENOMIC_ID_TCGA_DLBC_exp_HiSeqV2', '_GENOMIC_ID_TCGA_DLBC_exp_HiSeqV2_exon', '_GENOMIC_ID_TCGA_DLBC_PDMRNAseq', '_GENOMIC_ID_TCGA_DLBC_hMethyl450', '_GENOMIC_ID_TCGA_DLBC_miRNA_HiSeq', '_GENOMIC_ID_TCGA_DLBC_gistic2thd', '_GENOMIC_ID_TCGA_DLBC_PDMRNAseqCNV', '_GENOMIC_ID_data/public/TCGA/DLBC/miRNA_HiSeq_gene', '_GENOMIC_ID_TCGA_DLBC_gistic2', '_GENOMIC_ID_TCGA_DLBC_mutation_bcm_gene', '_GENOMIC_ID_TCGA_DLBC_exp_HiSeqV2_percentile', '_GENOMIC_ID_TCGA_DLBC_RPPA', '_GENOMIC_ID_TCGA_DLBC_exp_HiSeqV2_PANCAN']\\n\""
     },
     "execution_count": 43,
     "metadata": {},
     "output_type": "execute_result"
    }
   ],
   "source": [
    "f'''\n",
    "Below is a list of column names from a biomedical dataset. Please examine it and identify the columns that are likely to contain information about patients' age. Additionally, please do the same for columns that may hold data on patients' gender. Please provide your answer by strictly following this format, without redundant words:\n",
    "candidate_age_cols = [col_name1, col_name2, ...]\n",
    "candidate_gender_cols = [col_name1, col_name2, ...]\n",
    "If no columns match a criterion, please provide an empty list.\n",
    "\n",
    "Column names:\n",
    "{clinical_data_cols}\n",
    "'''"
   ],
   "metadata": {
    "collapsed": false,
    "ExecuteTime": {
     "end_time": "2024-01-30T22:44:32.300190409Z",
     "start_time": "2024-01-30T22:44:32.292144375Z"
    }
   }
  },
  {
   "cell_type": "code",
   "execution_count": 44,
   "outputs": [],
   "source": [
    "candidate_age_cols = ['age_at_initial_pathologic_diagnosis', 'days_to_birth']\n",
    "candidate_gender_cols = ['gender']"
   ],
   "metadata": {
    "collapsed": false,
    "ExecuteTime": {
     "end_time": "2024-01-30T22:44:32.813361560Z",
     "start_time": "2024-01-30T22:44:32.798101516Z"
    }
   }
  },
  {
   "cell_type": "markdown",
   "source": [
    "Choose a single column from the candidate columns that record age and gender information respectively.\n",
    "If no column meets the requirement, keep 'age_col' or 'gender_col' to None"
   ],
   "metadata": {
    "collapsed": false,
    "ExecuteTime": {
     "end_time": "2023-12-31T03:57:44.207565572Z",
     "start_time": "2023-12-31T03:57:44.202177544Z"
    }
   },
   "outputs": [],
   "execution_count": 9
  },
  {
   "cell_type": "code",
   "execution_count": 45,
   "outputs": [
    {
     "data": {
      "text/plain": "{'age_at_initial_pathologic_diagnosis': [75, 67, 40, 73, 58],\n 'days_to_birth': [-27468, -24590, -14723, -27025, -21330]}"
     },
     "execution_count": 45,
     "metadata": {},
     "output_type": "execute_result"
    }
   ],
   "source": [
    "preview_df(clinical_data[candidate_age_cols])"
   ],
   "metadata": {
    "collapsed": false,
    "ExecuteTime": {
     "end_time": "2024-01-30T22:44:33.675478853Z",
     "start_time": "2024-01-30T22:44:33.670110098Z"
    }
   }
  },
  {
   "cell_type": "code",
   "execution_count": 46,
   "outputs": [],
   "source": [
    "age_col = 'age_at_initial_pathologic_diagnosis'"
   ],
   "metadata": {
    "collapsed": false,
    "ExecuteTime": {
     "end_time": "2024-01-30T22:44:34.561110847Z",
     "start_time": "2024-01-30T22:44:34.547107723Z"
    }
   }
  },
  {
   "cell_type": "code",
   "execution_count": 47,
   "outputs": [
    {
     "data": {
      "text/plain": "{'gender': ['MALE', 'MALE', 'MALE', 'MALE', 'FEMALE']}"
     },
     "execution_count": 47,
     "metadata": {},
     "output_type": "execute_result"
    }
   ],
   "source": [
    "preview_df(clinical_data[candidate_gender_cols])"
   ],
   "metadata": {
    "collapsed": false,
    "ExecuteTime": {
     "end_time": "2024-01-30T22:44:34.838151175Z",
     "start_time": "2024-01-30T22:44:34.829896767Z"
    }
   }
  },
  {
   "cell_type": "code",
   "execution_count": 48,
   "outputs": [],
   "source": [
    "gender_col = 'gender'"
   ],
   "metadata": {
    "collapsed": false,
    "ExecuteTime": {
     "end_time": "2024-01-30T22:44:35.108801403Z",
     "start_time": "2024-01-30T22:44:35.100851845Z"
    }
   }
  },
  {
   "cell_type": "code",
   "execution_count": 13,
   "outputs": [],
   "source": [
    "selected_clinical_data = xena_select_clinical_features(clinical_data, TRAIT, age_col=age_col, gender_col=gender_col)"
   ],
   "metadata": {
    "collapsed": false,
    "ExecuteTime": {
     "end_time": "2024-01-30T22:09:18.332543994Z",
     "start_time": "2024-01-30T22:09:18.328355464Z"
    }
   }
  },
  {
   "cell_type": "code",
   "execution_count": 14,
   "outputs": [
    {
     "name": "stderr",
     "output_type": "stream",
     "text": [
      "13 input query terms found dup hits:\t[('GTF2IP1', 2), ('RBMY1A3P', 3), ('RPL31P11', 2), ('HERC2P2', 3), ('WASH3P', 3), ('NUDT9P1', 2), ('\n",
      "154 input query terms found no hit:\t['C16orf13', 'C16orf11', 'LOC100272146', 'LOC339240', 'NACAP1', 'LOC441204', 'KLRA1', 'FAM183A', 'FA\n",
      "10 input query terms found dup hits:\t[('SUGT1P1', 2), ('PTPRVP', 2), ('SNORA62', 3), ('IFITM4P', 7), ('HLA-DRB6', 2), ('FUNDC2P2', 2), ('\n",
      "190 input query terms found no hit:\t['NARFL', 'NFKBIL2', 'LOC150197', 'TMEM84', 'LOC162632', 'PPPDE1', 'PPPDE2', 'C1orf38', 'C1orf31', '\n",
      "11 input query terms found dup hits:\t[('PIP5K1P1', 2), ('HBD', 2), ('PPP1R2P1', 9), ('HSD17B7P2', 2), ('RPSAP9', 2), ('SNORD68', 2), ('SN\n",
      "149 input query terms found no hit:\t['FAM153C', 'C9orf167', 'CLK2P', 'CCDC76', 'CCDC75', 'CCDC72', 'HIST3H2BB', 'PRAC', 'LOC285780', 'LO\n",
      "15 input query terms found dup hits:\t[('SNORD58C', 2), ('UOX', 2), ('UBE2Q2P1', 3), ('PPP4R1L', 2), ('SNORD63', 3), ('ESPNP', 2), ('HBBP1\n",
      "158 input query terms found no hit:\t['C16orf91', 'LOC100130581', 'SFRS2', 'C16orf5', 'C16orf7', 'C16orf3', 'C21orf7', 'C21orf2', 'LOC389\n",
      "15 input query terms found dup hits:\t[('FAM66D', 3), ('FAM66A', 2), ('THSD1P1', 2), ('EEF1DP3', 2), ('PGM5P2', 2), ('UBE2MP1', 2), ('HAR1\n",
      "169 input query terms found no hit:\t['LOC284551', 'LOC285548', 'LOC728410', 'LOC541473', 'DULLARD', 'KIAA0368', 'EFTUD1', 'TWISTNB', 'SF\n",
      "13 input query terms found dup hits:\t[('S100A7L2', 2), ('POM121L8P', 2), ('MEG8', 2), ('KIR3DX1', 5), ('RFPL1S', 2), ('SNORD91B', 2), ('C\n",
      "165 input query terms found no hit:\t['TMEM188', 'PDZD3', 'FAM102B', 'FAM102A', 'SMCR7L', 'G6PC', 'OSTCL', 'LOC653544', 'LOC653545', 'USP\n",
      "16 input query terms found dup hits:\t[('PCNAP1', 2), ('SNORA63', 6), ('SERHL', 2), ('CEACAM22P', 2), ('SNORA16A', 2), ('FAM41AY1', 2), ('\n",
      "147 input query terms found no hit:\t['LRRC37A4', 'LOC100131726', 'CPSF3L', 'COL4A3BP', 'PAR1', 'LOC92973', 'MICALCL', 'SMCR7', 'HIST4H4'\n",
      "15 input query terms found dup hits:\t[('MBL1P', 2), ('SDHAP3', 2), ('PSORS1C3', 8), ('MYADML', 2), ('POM121L10P', 2), ('HLA-J', 9), ('HLA\n",
      "153 input query terms found no hit:\t['LOC100131193', 'KIAA1109', 'DUS2L', 'MYST1', 'IGLL3', 'C12orf69', 'NEURL', 'FAM188B', 'FLJ32063', \n",
      "9 input query terms found dup hits:\t[('PLGLA', 2), ('PA2G4P4', 2), ('RPL23AP7', 2), ('RPL23AP64', 3), ('RPSAP52', 2), ('TPRXL', 2), ('DP\n",
      "177 input query terms found no hit:\t['LOC283314', 'RBM9', 'C20orf118', 'LOC150786', 'C20orf112', 'C20orf111', 'C20orf117', 'C20orf114', \n",
      "18 input query terms found dup hits:\t[('TPTE2P1', 2), ('FOLH1B', 2), ('ID2B', 2), ('MSX2P1', 2), ('RAET1K', 2), ('BMS1P4', 2), ('RPL23AP8\n",
      "175 input query terms found no hit:\t['MYEOV2', 'FAM35B2', 'C20orf85', 'FAM175A', 'C17orf73', 'C17orf72', 'C17orf71', 'C17orf70', 'C17orf\n",
      "19 input query terms found dup hits:\t[('CATSPER2P1', 2), ('AQP7P1', 2), ('ATP8B5P', 2), ('OR7E91P', 2), ('ZNF204P', 2), ('CECR7', 2), ('M\n",
      "144 input query terms found no hit:\t['BASE', 'C14orf21', 'C14orf23', 'FAM5B', 'TROVE2', 'C18orf62', 'LOC401052', 'GNB2L1', 'FAM19A4', 'F\n",
      "13 input query terms found dup hits:\t[('P2RX6P', 2), ('RP9P', 2), ('NRADDP', 2), ('MORF4', 2), ('SNORA75', 6), ('SNORA72', 2), ('FMO6P', \n",
      "169 input query terms found no hit:\t['TTC15', 'C4orf29', 'FAM48A', 'C4orf21', 'C3orf65', 'C4orf23', 'C3orf67', 'LOC144742', 'C3orf63', '\n",
      "19 input query terms found dup hits:\t[('RPL13AP17', 2), ('DNAJB3', 2), ('SNORA58', 2), ('PMCHL1', 2), ('FAM95B1', 2), ('TMEM191A', 2), ('\n",
      "144 input query terms found no hit:\t['LOC254312', 'ZNF542', 'CSDAP1', 'FAM73A', 'FAM73B', 'TCTE3', 'ZNF37B', 'LOC728875', 'KIAA1826', 'P\n",
      "15 input query terms found dup hits:\t[('ZFP91-CNTF', 2), ('PRSS30P', 3), ('GSTM2P1', 2), ('C3P1', 2), ('NCF1B', 2), ('SNORD114-4', 2), ('\n",
      "138 input query terms found no hit:\t['LOC100129716', 'C14orf184', 'C14orf181', 'C14orf183', 'C14orf182', 'C7orf26', 'C7orf27', 'C7orf23'\n",
      "14 input query terms found dup hits:\t[('ANXA2P1', 2), ('ANXA2P3', 2), ('ANXA2P2', 2), ('ZNF286B', 2), ('SAA3P', 2), ('GEMIN8P4', 2), ('DI\n",
      "132 input query terms found no hit:\t['AKR1CL1', 'CCDC21', 'CCDC23', 'TMEM111', 'APOB48R', 'LOC595101', 'KIAA1430', 'KIAA1432', 'ORC4L', \n",
      "11 input query terms found dup hits:\t[('TCP10L2', 2), ('FTLP10', 2), ('TPTE2P3', 2), ('VENTXP1', 2), ('XKRY', 2), ('HTR7P1', 2), ('STAG3L\n",
      "175 input query terms found no hit:\t['DFNB59', 'LOC100170939', 'FAM36A', 'C2orf70', 'C2orf71', 'C2orf77', 'C2orf79', 'LOC100128191', 'HR\n",
      "16 input query terms found dup hits:\t[('ZNF702P', 2), ('BRD7P3', 2), ('SCARNA17', 2), ('GABARAPL3', 2), ('MT1IP', 2), ('ADAM6', 3), ('PDZ\n",
      "142 input query terms found no hit:\t['C9orf30', 'PEG3AS', 'C9orf37', 'TXNDC3', 'LOC442308', 'FAM46D', 'FAM46A', 'FAM46B', 'FAM46C', 'WDR\n",
      "10 input query terms found dup hits:\t[('FAM197Y2', 3), ('SNORA71B', 2), ('PRKY', 2), ('NAT8B', 3), ('VENTXP7', 2), ('SPRR2C', 2), ('RPL23\n",
      "148 input query terms found no hit:\t['FCGR1B', 'RG9MTD2', 'RARS', 'LOC727677', 'CCRN4L', 'SEPT14', 'HKR1', 'C1orf112', 'LOC100270710', '\n",
      "16 input query terms found dup hits:\t[('OR6W1P', 3), ('LYPLA2P1', 6), ('RPL23AP53', 2), ('TRPC2', 2), ('RBMY2FP', 2), ('BAGE2', 2), ('POM\n",
      "150 input query terms found no hit:\t['SIP1', 'FAM129C', 'GIF', 'TMCO7', 'CXorf61', 'CXorf64', 'ZNF192', 'SEPP1', 'KIRREL', 'MGC16121', '\n",
      "17 input query terms found dup hits:\t[('ISCA1P1', 2), ('PCDHB19P', 3), ('NAPSB', 2), ('WASH7P', 2), ('TTTY11', 2), ('HCG4', 9), ('OR5E1P'\n",
      "135 input query terms found no hit:\t['PPYR1', 'FAM82A2', 'FLJ37453', 'FAM82A1', 'KIAA0947', 'MOBKL2B', 'MOBKL2C', 'MOBKL2A', 'CMAH', 'GR\n",
      "5 input query terms found dup hits:\t[('GGNBP1', 2), ('WASH5P', 2), ('RPL29P2', 2), ('CDR1', 2), ('OR10J3', 3)]\n",
      "78 input query terms found no hit:\t['C14orf174', 'C14orf176', 'C14orf177', 'C14orf179', 'PTPLB', 'SGEF', 'LOC400752', 'GRLF1', 'SPANXE'\n"
     ]
    }
   ],
   "source": [
    "if NORMALIZE_GENE:\n",
    "    genetic_data = normalize_gene_symbols_in_index(genetic_data)"
   ],
   "metadata": {
    "collapsed": false,
    "ExecuteTime": {
     "end_time": "2024-01-30T22:10:07.979570504Z",
     "start_time": "2024-01-30T22:09:18.619391971Z"
    }
   }
  },
  {
   "cell_type": "code",
   "execution_count": 15,
   "outputs": [
    {
     "data": {
      "text/plain": "                 Large B-cell Lymphoma  Age  Gender  ARHGEF10L     HIF3A  \\\nsampleID                                                                   \nTCGA-FA-8693-01                      1   75       1  -0.016192 -4.254026   \nTCGA-FA-A4BB-01                      1   67       1  -0.649392 -0.784126   \nTCGA-FA-A4XK-01                      1   40       1  -1.168292 -2.833526   \nTCGA-FA-A6HN-01                      1   73       1  -0.836392  0.240874   \nTCGA-FA-A6HO-01                      1   58       0  -0.596092 -0.265826   \n\n                    RNF17     RNF10     RNF11    RNF13   GTF2IP1  ...  \\\nsampleID                                                          ...   \nTCGA-FA-8693-01 -0.531035 -0.309572 -1.605778  0.31609 -1.112794  ...   \nTCGA-FA-A4BB-01 -0.531035 -0.116472 -1.052078 -0.07741 -0.430994  ...   \nTCGA-FA-A4XK-01 -0.531035  0.521528 -1.519678 -0.94711 -0.935594  ...   \nTCGA-FA-A6HN-01  0.045665 -0.090072 -1.722578 -0.85351 -0.945494  ...   \nTCGA-FA-A6HO-01 -0.531035 -0.082972 -1.472778  0.23509  0.129906  ...   \n\n                  SLC7A10   PLA2G2C     TULP2     NPY5R     GNGT2    GNGT1  \\\nsampleID                                                                     \nTCGA-FA-8693-01 -2.090786  0.486518 -0.748878 -1.587117  4.630667 -1.28139   \nTCGA-FA-A4BB-01  0.127114 -0.086682  0.042322  1.466783  3.208567 -1.28139   \nTCGA-FA-A4XK-01 -2.090786  1.371818 -0.316278 -1.154517  2.361867 -1.28139   \nTCGA-FA-A6HN-01 -1.471986 -0.086682 -0.748878 -0.018817  2.804267  1.02051   \nTCGA-FA-A6HO-01 -2.090786 -0.086682 -0.266778  0.725683  3.218567 -1.28139   \n\n                    TULP3     BCL6B     GSTK1      SELP  \nsampleID                                                 \nTCGA-FA-8693-01 -2.739077 -0.758427  1.338005  2.226867  \nTCGA-FA-A4BB-01 -1.449877 -0.970927  0.541605  2.017767  \nTCGA-FA-A4XK-01 -1.479277  0.767273  0.701205 -1.022333  \nTCGA-FA-A6HN-01 -1.772477 -0.042427  0.800105  2.998367  \nTCGA-FA-A6HO-01 -1.658377 -1.318127  1.176405  1.092467  \n\n[5 rows x 17341 columns]",
      "text/html": "<div>\n<style scoped>\n    .dataframe tbody tr th:only-of-type {\n        vertical-align: middle;\n    }\n\n    .dataframe tbody tr th {\n        vertical-align: top;\n    }\n\n    .dataframe thead th {\n        text-align: right;\n    }\n</style>\n<table border=\"1\" class=\"dataframe\">\n  <thead>\n    <tr style=\"text-align: right;\">\n      <th></th>\n      <th>Large B-cell Lymphoma</th>\n      <th>Age</th>\n      <th>Gender</th>\n      <th>ARHGEF10L</th>\n      <th>HIF3A</th>\n      <th>RNF17</th>\n      <th>RNF10</th>\n      <th>RNF11</th>\n      <th>RNF13</th>\n      <th>GTF2IP1</th>\n      <th>...</th>\n      <th>SLC7A10</th>\n      <th>PLA2G2C</th>\n      <th>TULP2</th>\n      <th>NPY5R</th>\n      <th>GNGT2</th>\n      <th>GNGT1</th>\n      <th>TULP3</th>\n      <th>BCL6B</th>\n      <th>GSTK1</th>\n      <th>SELP</th>\n    </tr>\n    <tr>\n      <th>sampleID</th>\n      <th></th>\n      <th></th>\n      <th></th>\n      <th></th>\n      <th></th>\n      <th></th>\n      <th></th>\n      <th></th>\n      <th></th>\n      <th></th>\n      <th></th>\n      <th></th>\n      <th></th>\n      <th></th>\n      <th></th>\n      <th></th>\n      <th></th>\n      <th></th>\n      <th></th>\n      <th></th>\n      <th></th>\n    </tr>\n  </thead>\n  <tbody>\n    <tr>\n      <th>TCGA-FA-8693-01</th>\n      <td>1</td>\n      <td>75</td>\n      <td>1</td>\n      <td>-0.016192</td>\n      <td>-4.254026</td>\n      <td>-0.531035</td>\n      <td>-0.309572</td>\n      <td>-1.605778</td>\n      <td>0.31609</td>\n      <td>-1.112794</td>\n      <td>...</td>\n      <td>-2.090786</td>\n      <td>0.486518</td>\n      <td>-0.748878</td>\n      <td>-1.587117</td>\n      <td>4.630667</td>\n      <td>-1.28139</td>\n      <td>-2.739077</td>\n      <td>-0.758427</td>\n      <td>1.338005</td>\n      <td>2.226867</td>\n    </tr>\n    <tr>\n      <th>TCGA-FA-A4BB-01</th>\n      <td>1</td>\n      <td>67</td>\n      <td>1</td>\n      <td>-0.649392</td>\n      <td>-0.784126</td>\n      <td>-0.531035</td>\n      <td>-0.116472</td>\n      <td>-1.052078</td>\n      <td>-0.07741</td>\n      <td>-0.430994</td>\n      <td>...</td>\n      <td>0.127114</td>\n      <td>-0.086682</td>\n      <td>0.042322</td>\n      <td>1.466783</td>\n      <td>3.208567</td>\n      <td>-1.28139</td>\n      <td>-1.449877</td>\n      <td>-0.970927</td>\n      <td>0.541605</td>\n      <td>2.017767</td>\n    </tr>\n    <tr>\n      <th>TCGA-FA-A4XK-01</th>\n      <td>1</td>\n      <td>40</td>\n      <td>1</td>\n      <td>-1.168292</td>\n      <td>-2.833526</td>\n      <td>-0.531035</td>\n      <td>0.521528</td>\n      <td>-1.519678</td>\n      <td>-0.94711</td>\n      <td>-0.935594</td>\n      <td>...</td>\n      <td>-2.090786</td>\n      <td>1.371818</td>\n      <td>-0.316278</td>\n      <td>-1.154517</td>\n      <td>2.361867</td>\n      <td>-1.28139</td>\n      <td>-1.479277</td>\n      <td>0.767273</td>\n      <td>0.701205</td>\n      <td>-1.022333</td>\n    </tr>\n    <tr>\n      <th>TCGA-FA-A6HN-01</th>\n      <td>1</td>\n      <td>73</td>\n      <td>1</td>\n      <td>-0.836392</td>\n      <td>0.240874</td>\n      <td>0.045665</td>\n      <td>-0.090072</td>\n      <td>-1.722578</td>\n      <td>-0.85351</td>\n      <td>-0.945494</td>\n      <td>...</td>\n      <td>-1.471986</td>\n      <td>-0.086682</td>\n      <td>-0.748878</td>\n      <td>-0.018817</td>\n      <td>2.804267</td>\n      <td>1.02051</td>\n      <td>-1.772477</td>\n      <td>-0.042427</td>\n      <td>0.800105</td>\n      <td>2.998367</td>\n    </tr>\n    <tr>\n      <th>TCGA-FA-A6HO-01</th>\n      <td>1</td>\n      <td>58</td>\n      <td>0</td>\n      <td>-0.596092</td>\n      <td>-0.265826</td>\n      <td>-0.531035</td>\n      <td>-0.082972</td>\n      <td>-1.472778</td>\n      <td>0.23509</td>\n      <td>0.129906</td>\n      <td>...</td>\n      <td>-2.090786</td>\n      <td>-0.086682</td>\n      <td>-0.266778</td>\n      <td>0.725683</td>\n      <td>3.218567</td>\n      <td>-1.28139</td>\n      <td>-1.658377</td>\n      <td>-1.318127</td>\n      <td>1.176405</td>\n      <td>1.092467</td>\n    </tr>\n  </tbody>\n</table>\n<p>5 rows × 17341 columns</p>\n</div>"
     },
     "execution_count": 15,
     "metadata": {},
     "output_type": "execute_result"
    }
   ],
   "source": [
    "merged_data = selected_clinical_data.join(genetic_data.T).dropna()\n",
    "merged_data.head()"
   ],
   "metadata": {
    "collapsed": false,
    "ExecuteTime": {
     "end_time": "2024-01-30T22:10:08.012414735Z",
     "start_time": "2024-01-30T22:10:07.986702838Z"
    }
   }
  },
  {
   "cell_type": "code",
   "execution_count": 16,
   "outputs": [
    {
     "name": "stdout",
     "output_type": "stream",
     "text": [
      "The merged dataset contains 48 samples.\n",
      "For the feature 'Large B-cell Lymphoma', the least common label is '1' with 48 occurrences. This represents 100.00% of the dataset.\n",
      "The distribution of the feature 'Large B-cell Lymphoma' in this dataset is severely biased.\n",
      "\n",
      "Quartiles for 'Age':\n",
      "  25%: 46.0\n",
      "  50% (Median): 57.5\n",
      "  75%: 67.0\n",
      "Min: 23\n",
      "Max: 82\n",
      "The distribution of the feature 'Age' in this dataset is fine.\n",
      "\n",
      "For the feature 'Gender', the least common label is '1' with 22 occurrences. This represents 45.83% of the dataset.\n",
      "The distribution of the feature 'Gender' in this dataset is fine.\n",
      "\n"
     ]
    },
    {
     "data": {
      "text/plain": "True"
     },
     "execution_count": 16,
     "metadata": {},
     "output_type": "execute_result"
    }
   ],
   "source": [
    "print(f\"The merged dataset contains {len(merged_data)} samples.\")\n",
    "is_trait_biased, merge_data = judge_and_remove_biased_features(merged_data, TRAIT, trait_type=trait_type)\n",
    "is_trait_biased"
   ],
   "metadata": {
    "collapsed": false,
    "ExecuteTime": {
     "end_time": "2024-01-30T22:10:08.020981118Z",
     "start_time": "2024-01-30T22:10:08.016923641Z"
    }
   }
  },
  {
   "cell_type": "code",
   "execution_count": 17,
   "outputs": [],
   "source": [
    "merged_data.head()\n",
    "if not is_trait_biased:\n",
    "    merge_data.to_csv(os.path.join(OUTPUT_DIR, cohort + '.csv'), index=False)"
   ],
   "metadata": {
    "collapsed": false,
    "ExecuteTime": {
     "end_time": "2024-01-30T22:10:08.141568004Z",
     "start_time": "2024-01-30T22:10:08.021201729Z"
    }
   }
  },
  {
   "cell_type": "code",
   "execution_count": 18,
   "outputs": [
    {
     "name": "stdout",
     "output_type": "stream",
     "text": [
      "A new JSON file was created at: ../../output1/Haoyang/Large-B-cell-Lymphoma/cohort_info.json\n"
     ]
    }
   ],
   "source": [
    "save_cohort_info(cohort, JSON_PATH, is_available, is_trait_biased, merged_data)"
   ],
   "metadata": {
    "collapsed": false,
    "ExecuteTime": {
     "end_time": "2024-01-30T22:10:08.141832116Z",
     "start_time": "2024-01-30T22:10:08.070721968Z"
    }
   }
  },
  {
   "cell_type": "markdown",
   "source": [
    "## 2.2. The GEO dataset"
   ],
   "metadata": {
    "collapsed": false,
    "ExecuteTime": {
     "end_time": "2023-12-28T21:28:38.028916303Z",
     "start_time": "2023-12-28T21:28:38.016245426Z"
    }
   },
   "outputs": [
    {
     "name": "stdout",
     "output_type": "stream",
     "text": [
      "The least common label is '0' with 113 occurrences. This represents 9.30% of the dataset.\n",
      "The distribution of the trait 'Breast Cancer' in this dataset is fine.\n"
     ]
    }
   ],
   "execution_count": 19
  },
  {
   "cell_type": "markdown",
   "source": [
    "In GEO, there may be one or multiple cohorts for a trait. Each cohort is identified by an accession number. We iterate over all accession numbers in the corresponding subdirectory, preprocess the cohort data, and save them to csv files."
   ],
   "metadata": {
    "collapsed": false,
    "ExecuteTime": {
     "end_time": "2023-12-31T03:25:23.253882615Z",
     "start_time": "2023-12-31T03:25:23.244062710Z"
    }
   },
   "outputs": [],
   "execution_count": 21
  },
  {
   "cell_type": "code",
   "execution_count": 19,
   "outputs": [
    {
     "data": {
      "text/plain": "['GSE156309', 'GSE173263', 'GSE182362', 'GSE184212', 'GSE197977']"
     },
     "execution_count": 19,
     "metadata": {},
     "output_type": "execute_result"
    }
   ],
   "source": [
    "dataset = 'GEO'\n",
    "trait_subdir = \"Large-B-cell-Lymphoma\"\n",
    "\n",
    "trait_path = os.path.join(DATA_ROOT, dataset, trait_subdir)\n",
    "os.listdir(trait_path)"
   ],
   "metadata": {
    "collapsed": false,
    "ExecuteTime": {
     "end_time": "2024-01-30T22:10:08.142580780Z",
     "start_time": "2024-01-30T22:10:08.070817747Z"
    }
   }
  },
  {
   "cell_type": "markdown",
   "source": [
    "Repeat the below steps for all the accession numbers"
   ],
   "metadata": {
    "collapsed": false,
    "ExecuteTime": {
     "end_time": "2023-12-31T03:39:42.634870142Z",
     "start_time": "2023-12-31T03:39:42.534093295Z"
    }
   },
   "outputs": [],
   "execution_count": 70
  },
  {
   "cell_type": "code",
   "execution_count": 20,
   "outputs": [
    {
     "data": {
      "text/plain": "('/media/techt/DATA/GEO/Large-B-cell-Lymphoma/GSE197977/GSE197977_family.soft.gz',\n '/media/techt/DATA/GEO/Large-B-cell-Lymphoma/GSE197977/GSE197977_series_matrix.txt.gz')"
     },
     "execution_count": 20,
     "metadata": {},
     "output_type": "execute_result"
    }
   ],
   "source": [
    "cohort = accession_num = \"GSE197977\"\n",
    "cohort_dir = os.path.join(trait_path, accession_num)\n",
    "soft_file, matrix_file = geo_get_relevant_filepaths(cohort_dir)\n",
    "soft_file, matrix_file"
   ],
   "metadata": {
    "collapsed": false,
    "ExecuteTime": {
     "end_time": "2024-01-30T22:10:08.142732273Z",
     "start_time": "2024-01-30T22:10:08.112900884Z"
    }
   }
  },
  {
   "cell_type": "markdown",
   "source": [
    "### Initial filtering and clinical data preprocessing"
   ],
   "metadata": {
    "collapsed": false
   }
  },
  {
   "cell_type": "code",
   "execution_count": 21,
   "outputs": [
    {
     "name": "stdout",
     "output_type": "stream",
     "text": [
      "!Series_title\t\"Tumour immune contexture is a determinant of anti-CD19 CAR T-cell efficacy in large B cell lymphoma\"\n",
      "!Series_summary\t\"Axicabtagene ciloleucel (axi-cel), an anti-CD19 chimeric antigen receptor (CAR) T-cell therapy approved for treatment of relapsed/refractory large B-cell lymphoma (LBCL), has comparable efficacy across conventional LBCL markers. We analysed whether pre- and posttreatment  tumour immune contexture determines clinical outcomes for axi cel–treated patients in the ZUMA-1 pivotal study. Longitudinal evaluation of the tumour microenvironment (TME) uncovered dynamic patterns that occurred rapidly after axi-cel (within 2 weeks) in responders—pronounced enhancement of T- and myeloid cell signatures and diminution of B cell signature. Clinical response and overall survival associated with high CD8+ T-cell density (Immunoscore) and immune gene expression (Immunosign21) in TME pretreatment, which was paralleled by blood CAR T-cell levels posttreatment. High density of regulatory T cells in TME pretreatment associated with reduced axi-cel–related neurologic toxicity. At relapse, the TME evolved toward an immune-detrimental contexture with decreased T-cell–related and increased counterregulatory immune signatures and B cell lineage antigens. A TME rich in T-cell attractive chemokines (CCL5, CCL22), gamma-chain receptor cytokines (IL-15, IL-7, IL-21), and interferon regulated molecules associated with T-cell infiltration and markers of activity, a result validated in 2 independent datasets totalling ≈300 LBCL samples.\"\n",
      "!Series_summary\t\"These findings advance mechanistic understanding of CAR T-cell therapy and foster biomarker development and treatment optimizations.\"\n",
      "!Series_overall_design\t\"71 samples were analyzed for 65 patients with screening, baseline, DAY7-14, FCBWK4 and PROGFCB time points.\"\n"
     ]
    }
   ],
   "source": [
    "background_prefixes = ['!Series_title', '!Series_summary', '!Series_overall_design']\n",
    "clinical_prefixes = ['!Sample_geo_accession', '!Sample_characteristics_ch1']\n",
    "\n",
    "background_info, clinical_data = get_background_and_clinical_data(matrix_file, background_prefixes, clinical_prefixes)\n",
    "print(background_info)"
   ],
   "metadata": {
    "collapsed": false,
    "ExecuteTime": {
     "end_time": "2024-01-30T22:10:08.142852476Z",
     "start_time": "2024-01-30T22:10:08.112952009Z"
    }
   }
  },
  {
   "cell_type": "code",
   "execution_count": 22,
   "outputs": [
    {
     "data": {
      "text/plain": "         !Sample_geo_accession                          GSM5935018  \\\n0  !Sample_characteristics_ch1                    visit: SCREENING   \n1  !Sample_characteristics_ch1             molecular subgroup: GCB   \n2  !Sample_characteristics_ch1                    bestresponse: PR   \n3  !Sample_characteristics_ch1  baseline tumour burden (mm2): 8877   \n4  !Sample_characteristics_ch1                worst grade of ne: 3   \n\n                          GSM5935019                          GSM5935020  \\\n0                   visit: SCREENING                    visit: SCREENING   \n1             molecular subgroup: NA              molecular subgroup: NA   \n2                   bestresponse: CR                    bestresponse: CR   \n3  baseline tumour burden (mm2): 667  baseline tumour burden (mm2): 2441   \n4               worst grade of ne: 1                worst grade of ne: 3   \n\n                           GSM5935021                          GSM5935022  \\\n0                    visit: SCREENING                    visit: SCREENING   \n1             molecular subgroup: GCB             molecular subgroup: ABC   \n2                    bestresponse: CR                    bestresponse: CR   \n3  baseline tumour burden (mm2): 7700  baseline tumour burden (mm2): 4248   \n4                worst grade of ne: 1                worst grade of ne: 2   \n\n                           GSM5935023                          GSM5935024  \\\n0                    visit: SCREENING                    visit: SCREENING   \n1             molecular subgroup: GCB             molecular subgroup: ABC   \n2                    bestresponse: CR                    bestresponse: PR   \n3  baseline tumour burden (mm2): 3916  baseline tumour burden (mm2): 4205   \n4                worst grade of ne: 3                worst grade of ne: 0   \n\n                           GSM5935025                         GSM5935026  ...  \\\n0                    visit: SCREENING                   visit: SCREENING  ...   \n1              molecular subgroup: NA             molecular subgroup: NA  ...   \n2                    bestresponse: PR                   bestresponse: CR  ...   \n3  baseline tumour burden (mm2): 5056  baseline tumour burden (mm2): 355  ...   \n4                worst grade of ne: 3               worst grade of ne: 1  ...   \n\n                           GSM5935082                          GSM5935083  \\\n0                      visit: DAY7-14                     visit: BASELINE   \n1             molecular subgroup: GCB             molecular subgroup: ABC   \n2                    bestresponse: CR                    bestresponse: CR   \n3  baseline tumour burden (mm2): 9953  baseline tumour burden (mm2): 2584   \n4                worst grade of ne: 0                worst grade of ne: 1   \n\n                           GSM5935084                          GSM5935085  \\\n0                      visit: DAY7-14                      visit: DAY7-14   \n1             molecular subgroup: ABC              molecular subgroup: NA   \n2                    bestresponse: CR                    bestresponse: CR   \n3  baseline tumour burden (mm2): 6557  baseline tumour burden (mm2): 1022   \n4                worst grade of ne: 1                worst grade of ne: 0   \n\n                           GSM5935086                          GSM5935087  \\\n0                     visit: BASELINE                      visit: PROGFCB   \n1             molecular subgroup: GCB             molecular subgroup: GCB   \n2                    bestresponse: CR                    bestresponse: PR   \n3  baseline tumour burden (mm2): 9371  baseline tumour burden (mm2): 3014   \n4                worst grade of ne: 3                worst grade of ne: 0   \n\n                           GSM5935088                          GSM5935089  \\\n0                      visit: DAY7-14                      visit: DAY7-14   \n1              molecular subgroup: NA             molecular subgroup: GCB   \n2                    bestresponse: CR                    bestresponse: CR   \n3  baseline tumour burden (mm2): 1724  baseline tumour burden (mm2): 7991   \n4                worst grade of ne: 0                worst grade of ne: 1   \n\n                            GSM5935090                         GSM5935091  \n0                       visit: PROGFCB                    visit: BASELINE  \n1              molecular subgroup: ABC            molecular subgroup: GCB  \n2                     bestresponse: CR                   bestresponse: CR  \n3  baseline tumour burden (mm2): 10878  baseline tumour burden (mm2): 431  \n4                 worst grade of ne: 3               worst grade of ne: 1  \n\n[5 rows x 75 columns]",
      "text/html": "<div>\n<style scoped>\n    .dataframe tbody tr th:only-of-type {\n        vertical-align: middle;\n    }\n\n    .dataframe tbody tr th {\n        vertical-align: top;\n    }\n\n    .dataframe thead th {\n        text-align: right;\n    }\n</style>\n<table border=\"1\" class=\"dataframe\">\n  <thead>\n    <tr style=\"text-align: right;\">\n      <th></th>\n      <th>!Sample_geo_accession</th>\n      <th>GSM5935018</th>\n      <th>GSM5935019</th>\n      <th>GSM5935020</th>\n      <th>GSM5935021</th>\n      <th>GSM5935022</th>\n      <th>GSM5935023</th>\n      <th>GSM5935024</th>\n      <th>GSM5935025</th>\n      <th>GSM5935026</th>\n      <th>...</th>\n      <th>GSM5935082</th>\n      <th>GSM5935083</th>\n      <th>GSM5935084</th>\n      <th>GSM5935085</th>\n      <th>GSM5935086</th>\n      <th>GSM5935087</th>\n      <th>GSM5935088</th>\n      <th>GSM5935089</th>\n      <th>GSM5935090</th>\n      <th>GSM5935091</th>\n    </tr>\n  </thead>\n  <tbody>\n    <tr>\n      <th>0</th>\n      <td>!Sample_characteristics_ch1</td>\n      <td>visit: SCREENING</td>\n      <td>visit: SCREENING</td>\n      <td>visit: SCREENING</td>\n      <td>visit: SCREENING</td>\n      <td>visit: SCREENING</td>\n      <td>visit: SCREENING</td>\n      <td>visit: SCREENING</td>\n      <td>visit: SCREENING</td>\n      <td>visit: SCREENING</td>\n      <td>...</td>\n      <td>visit: DAY7-14</td>\n      <td>visit: BASELINE</td>\n      <td>visit: DAY7-14</td>\n      <td>visit: DAY7-14</td>\n      <td>visit: BASELINE</td>\n      <td>visit: PROGFCB</td>\n      <td>visit: DAY7-14</td>\n      <td>visit: DAY7-14</td>\n      <td>visit: PROGFCB</td>\n      <td>visit: BASELINE</td>\n    </tr>\n    <tr>\n      <th>1</th>\n      <td>!Sample_characteristics_ch1</td>\n      <td>molecular subgroup: GCB</td>\n      <td>molecular subgroup: NA</td>\n      <td>molecular subgroup: NA</td>\n      <td>molecular subgroup: GCB</td>\n      <td>molecular subgroup: ABC</td>\n      <td>molecular subgroup: GCB</td>\n      <td>molecular subgroup: ABC</td>\n      <td>molecular subgroup: NA</td>\n      <td>molecular subgroup: NA</td>\n      <td>...</td>\n      <td>molecular subgroup: GCB</td>\n      <td>molecular subgroup: ABC</td>\n      <td>molecular subgroup: ABC</td>\n      <td>molecular subgroup: NA</td>\n      <td>molecular subgroup: GCB</td>\n      <td>molecular subgroup: GCB</td>\n      <td>molecular subgroup: NA</td>\n      <td>molecular subgroup: GCB</td>\n      <td>molecular subgroup: ABC</td>\n      <td>molecular subgroup: GCB</td>\n    </tr>\n    <tr>\n      <th>2</th>\n      <td>!Sample_characteristics_ch1</td>\n      <td>bestresponse: PR</td>\n      <td>bestresponse: CR</td>\n      <td>bestresponse: CR</td>\n      <td>bestresponse: CR</td>\n      <td>bestresponse: CR</td>\n      <td>bestresponse: CR</td>\n      <td>bestresponse: PR</td>\n      <td>bestresponse: PR</td>\n      <td>bestresponse: CR</td>\n      <td>...</td>\n      <td>bestresponse: CR</td>\n      <td>bestresponse: CR</td>\n      <td>bestresponse: CR</td>\n      <td>bestresponse: CR</td>\n      <td>bestresponse: CR</td>\n      <td>bestresponse: PR</td>\n      <td>bestresponse: CR</td>\n      <td>bestresponse: CR</td>\n      <td>bestresponse: CR</td>\n      <td>bestresponse: CR</td>\n    </tr>\n    <tr>\n      <th>3</th>\n      <td>!Sample_characteristics_ch1</td>\n      <td>baseline tumour burden (mm2): 8877</td>\n      <td>baseline tumour burden (mm2): 667</td>\n      <td>baseline tumour burden (mm2): 2441</td>\n      <td>baseline tumour burden (mm2): 7700</td>\n      <td>baseline tumour burden (mm2): 4248</td>\n      <td>baseline tumour burden (mm2): 3916</td>\n      <td>baseline tumour burden (mm2): 4205</td>\n      <td>baseline tumour burden (mm2): 5056</td>\n      <td>baseline tumour burden (mm2): 355</td>\n      <td>...</td>\n      <td>baseline tumour burden (mm2): 9953</td>\n      <td>baseline tumour burden (mm2): 2584</td>\n      <td>baseline tumour burden (mm2): 6557</td>\n      <td>baseline tumour burden (mm2): 1022</td>\n      <td>baseline tumour burden (mm2): 9371</td>\n      <td>baseline tumour burden (mm2): 3014</td>\n      <td>baseline tumour burden (mm2): 1724</td>\n      <td>baseline tumour burden (mm2): 7991</td>\n      <td>baseline tumour burden (mm2): 10878</td>\n      <td>baseline tumour burden (mm2): 431</td>\n    </tr>\n    <tr>\n      <th>4</th>\n      <td>!Sample_characteristics_ch1</td>\n      <td>worst grade of ne: 3</td>\n      <td>worst grade of ne: 1</td>\n      <td>worst grade of ne: 3</td>\n      <td>worst grade of ne: 1</td>\n      <td>worst grade of ne: 2</td>\n      <td>worst grade of ne: 3</td>\n      <td>worst grade of ne: 0</td>\n      <td>worst grade of ne: 3</td>\n      <td>worst grade of ne: 1</td>\n      <td>...</td>\n      <td>worst grade of ne: 0</td>\n      <td>worst grade of ne: 1</td>\n      <td>worst grade of ne: 1</td>\n      <td>worst grade of ne: 0</td>\n      <td>worst grade of ne: 3</td>\n      <td>worst grade of ne: 0</td>\n      <td>worst grade of ne: 0</td>\n      <td>worst grade of ne: 1</td>\n      <td>worst grade of ne: 3</td>\n      <td>worst grade of ne: 1</td>\n    </tr>\n  </tbody>\n</table>\n<p>5 rows × 75 columns</p>\n</div>"
     },
     "execution_count": 22,
     "metadata": {},
     "output_type": "execute_result"
    }
   ],
   "source": [
    "clinical_data.head()"
   ],
   "metadata": {
    "collapsed": false,
    "ExecuteTime": {
     "end_time": "2024-01-30T22:10:08.142956320Z",
     "start_time": "2024-01-30T22:10:08.112998996Z"
    }
   }
  },
  {
   "cell_type": "code",
   "execution_count": 23,
   "outputs": [
    {
     "data": {
      "text/plain": "{0: ['visit: SCREENING',\n  'visit: BASELINE',\n  'visit: DAY7-14',\n  'visit: FCBWK4',\n  'visit: PROGFCB'],\n 1: ['molecular subgroup: GCB',\n  'molecular subgroup: NA',\n  'molecular subgroup: ABC',\n  'molecular subgroup: UNCLASSIFIED'],\n 2: ['bestresponse: PR',\n  'bestresponse: CR',\n  'bestresponse: SD',\n  'bestresponse: PD',\n  'bestresponse: ND'],\n 3: ['baseline tumour burden (mm2): 8877',\n  'baseline tumour burden (mm2): 667',\n  'baseline tumour burden (mm2): 2441',\n  'baseline tumour burden (mm2): 7700',\n  'baseline tumour burden (mm2): 4248',\n  'baseline tumour burden (mm2): 3916',\n  'baseline tumour burden (mm2): 4205',\n  'baseline tumour burden (mm2): 5056',\n  'baseline tumour burden (mm2): 355',\n  'baseline tumour burden (mm2): 7161',\n  'baseline tumour burden (mm2): NA',\n  'baseline tumour burden (mm2): 2794',\n  'baseline tumour burden (mm2): 792',\n  'baseline tumour burden (mm2): 5456',\n  'baseline tumour burden (mm2): 39658',\n  'baseline tumour burden (mm2): 1997',\n  'baseline tumour burden (mm2): 1133',\n  'baseline tumour burden (mm2): 2924',\n  'baseline tumour burden (mm2): 6557',\n  'baseline tumour burden (mm2): 1600',\n  'baseline tumour burden (mm2): 4371',\n  'baseline tumour burden (mm2): 2200',\n  'baseline tumour burden (mm2): 7952',\n  'baseline tumour burden (mm2): 6262',\n  'baseline tumour burden (mm2): 14354',\n  'baseline tumour burden (mm2): 396',\n  'baseline tumour burden (mm2): 2069',\n  'baseline tumour burden (mm2): 1022',\n  'baseline tumour burden (mm2): 8162',\n  'baseline tumour burden (mm2): 735'],\n 4: ['worst grade of ne: 3',\n  'worst grade of ne: 1',\n  'worst grade of ne: 2',\n  'worst grade of ne: 0',\n  'worst grade of ne: 4']}"
     },
     "execution_count": 23,
     "metadata": {},
     "output_type": "execute_result"
    }
   ],
   "source": [
    "clinical_data_unique = get_unique_values_by_row(clinical_data)\n",
    "clinical_data_unique"
   ],
   "metadata": {
    "collapsed": false,
    "ExecuteTime": {
     "end_time": "2024-01-30T22:10:08.160983475Z",
     "start_time": "2024-01-30T22:10:08.113111656Z"
    }
   }
  },
  {
   "cell_type": "markdown",
   "source": [
    "Analyze the metadata to determine data relevance and find ways to extract the clinical data.\n",
    "Reference prompt:"
   ],
   "metadata": {
    "collapsed": false,
    "ExecuteTime": {
     "end_time": "2023-12-31T03:58:04.978204446Z",
     "start_time": "2023-12-31T03:58:04.922270095Z"
    }
   },
   "outputs": [
    {
     "data": {
      "text/plain": "'As a biomedical research team, we are selecting datasets to study the association between the human trait \\'Breast Cancer\\' and genetic factors, optionally considering the influence of age and gender. After searching the GEO database and parsing the matrix file of a series, we obtained background information and sample characteristics data. We will provide textual information about the dataset background, and a Python dictionary storing a list of unique values for each field of the sample characteristics data. Please carefully review the provided information and answer the following questions about this dataset:\\n1. Does this dataset contain gene expression data? (Note: Pure miRNA data is not suitable.)\\n2. For each of the traits \\'Breast Cancer\\', \\'age\\', and \\'gender\\', please address these points:\\n   (1) Is there human data available for this trait?\\n   (2) If so, identify the key in the sample characteristics dictionary where unique values of this trait is recorded. The key is an integer. The trait information might be explicitly recorded, or can be inferred from the field with some biomedical knowledge or understanding about the data collection process.\\n   (3) Choose an appropriate data type (either \\'continuous\\' or \\'binary\\') for each trait. Write a Python function to convert any given value of the trait to this data type. The function should handle inference about the trait value and convert unknown values to None.\\n   Name the functions \\'convert_trait\\', \\'convert_age\\', and \\'convert_gender\\', respectively.\\n\\nBackground information about the dataset:\\n!Series_title\\t\"Unlocking Molecular mechanisms and identifying druggable targets in matched-paired brain metastasis of Breast and Lung cancers\\xa0\"\\n!Series_summary\\t\"Introduction: The incidence of brain metastases in cancer patients is increasing, with lung and breast cancer being the most common sources. Despite advancements in targeted therapies, the prognosis remains poor, highlighting the importance to investigate the underlying mechanisms in brain metastases. The aim of this study was to investigate the differences in the molecular mechanisms involved in brain metastasis of breast and lung cancers. In addition, we aimed to identify cancer lineage-specific druggable targets in the brain metastasis. Methods: To that aim, a cohort of 44 FFPE tissue samples, including 22 breast cancer and 22 lung adenocarcinoma (LUAD) and their matched-paired brain metastases were collected. Targeted gene expression profiles of primary tumors were compared to their matched-paired brain metastases samples using nCounter PanCancer IO 360™ Panel of NanoString technologies. Pathway analysis was performed using gene set analysis (GSA) and gene set enrichment analysis (GSEA). The validation was performed by using Immunohistochemistry (IHC) to confirm the expression of immune checkpoint inhibitors. Results: Our results revealed the significant upregulation of cancer-related genes in primary tumors compared to their matched-paired brain metastases (adj. p\\u2009≤\\u20090.05). We found that upregulated differentially expressed genes in breast cancer brain metastasis (BM-BC) and brain metastasis from lung adenocarcinoma (BM-LUAD) were associated with the metabolic stress pathway, particularly related to the glycolysis. Additionally, we found that the upregulated genes in BM-BC and BM-LUAD played roles in immune response regulation, tumor growth, and proliferation. Importantly, we identified high expression of the immune checkpoint VTCN1 in BM-BC, and VISTA, IDO1, NT5E, and HDAC3 in BM-LUAD. Validation using immunohistochemistry further supported these findings. Conclusion: In conclusion, the findings highlight the significance of using matched-paired samples to identify cancer lineage-specific therapies that may improve brain metastasis patients outcomes.\"\\n!Series_overall_design\\t\"RNA was extracted from FFPE samples of (primary LUAD and their matched paired brain metastasis n=22, primary BC and their matched paired brain metastasis n=22)\"\\n\\nSample characteristics dictionary (from \"!Sample_characteristics_ch1\", converted to a Python dictionary that stores the unique values for each field):\\n{0: [\\'age at diagnosis: 49\\', \\'age at diagnosis: 44\\', \\'age at diagnosis: 41\\', \\'age at diagnosis: 40\\', \\'age at diagnosis: 48\\', \\'age at diagnosis: 42\\', \\'age at diagnosis: 47\\', \\'age at diagnosis: 53\\', \\'age at diagnosis: 74\\', \\'age at diagnosis: 58\\', \\'age at diagnosis: 51\\', \\'age at diagnosis: 55\\', \\'age at diagnosis: 46\\', \\'age at diagnosis: 59\\', \\'age at diagnosis: 50\\', \\'age at diagnosis: 57\\', \\'age at diagnosis: 60\\', \\'age at diagnosis: 69\\', \\'age at diagnosis: n.a.\\', \\'age at diagnosis: 65\\', \\'age at diagnosis: 37\\', \\'age at diagnosis: 63\\', \\'age at diagnosis: 70\\', \\'age at diagnosis: 66\\', \\'age at diagnosis: 64\\'], 1: [\\'Sex: female\\', \\'Sex: male\\'], 2: [\\'histology: TNBC\\', \\'histology: ER+ PR+ HER2-\\', \\'histology: Unknown\\', \\'histology: ER- PR- HER2+\\', \\'histology: ER+ PR-HER2+\\', \\'histology: ER+ PR- HER2-\\', \\'histology: ER- PR+ HER2-\\', \\'histology: adenocaricnoma\\'], 3: [\\'smoking status: n.a\\', \\'smoking status: former-smoker\\', \\'smoking status: smoker\\', \\'smoking status: Never smoking\\', \\'smoking status: unknown\\', \\'smoking status: former-roker\\'], 4: [\\'treatment after surgery of bm: surgery + chemotherpy\\', \\'treatment after surgery of bm: surgery +  chemotherpy + Radiotherapy\\', \\'treatment after surgery of bm: surgery + chemotherapy + Radiotherapy\\', \\'treatment after surgery of bm: surgery\\', \\'treatment after surgery of bm: surgery +  chemotherapy + Radiotherapy\\', \\'treatment after surgery of bm: surgery + chemotherapy\\', \\'treatment after surgery of bm: surgery + chemotherpy + Radiotherapy\\', \\'treatment after surgery of bm: surgery + chemotheapy + Radiotherapy\\', \\'treatment after surgery of bm: Chemoterapy\\', \\'treatment after surgery of bm: Radiotherapy & Chemoterapy\\', \\'treatment after surgery of bm: Radiotherapy\\', \\'treatment after surgery of bm: Other\\', \\'treatment after surgery of bm: Surgery & Chemotherapy & Radiotherapy\\', \\'treatment after surgery of bm: surgery & Radiotherapy\\', \\'treatment after surgery of bm: surgery & Radiochemotherapy\\', \\'treatment after surgery of bm: No treatment\\', \\'treatment after surgery of bm: WBRT\\', \\'treatment after surgery of bm: SRT\\']}\\n'"
     },
     "execution_count": 29,
     "metadata": {},
     "output_type": "execute_result"
    }
   ],
   "execution_count": 29
  },
  {
   "cell_type": "code",
   "execution_count": 24,
   "outputs": [
    {
     "data": {
      "text/plain": "'As a biomedical research team, we are selecting datasets to study the association between the human trait \\'Large B-cell Lymphoma\\' and genetic factors, optionally considering the influence of age and gender. After searching the GEO database and parsing the matrix file of a series, we obtained background information and sample characteristics data. We will provide textual information about the dataset background, and a Python dictionary storing a list of unique values for each field of the sample characteristics data. Please carefully review the provided information and answer the following questions about this dataset:\\n1. Does this dataset contain gene expression data? (Note: Pure miRNA data is not suitable.)\\n2. For each of the traits \\'Large B-cell Lymphoma\\', \\'age\\', and \\'gender\\', please address these points:\\n   (1) Is there human data available for this trait?\\n   (2) If so, identify the key in the sample characteristics dictionary where unique values of this trait is recorded. The key is an integer. The trait information might be explicitly recorded, or can be inferred from the field with some biomedical knowledge or understanding about the data collection process.\\n   (3) Choose an appropriate data type (either \\'continuous\\' or \\'binary\\') for each trait. Write a Python function to convert any given value of the trait to this data type. Do remember to separate the value by colon \\':\\' first, as the row header should not be included in the returned value. The function should handle inference about the trait value and convert unknown values to None.\\n   Name the functions \\'convert_trait\\', \\'convert_age\\', and \\'convert_gender\\', respectively.\\n\\nBackground information about the dataset:\\n!Series_title\\t\"Tumour immune contexture is a determinant of anti-CD19 CAR T-cell efficacy in large B cell lymphoma\"\\n!Series_summary\\t\"Axicabtagene ciloleucel (axi-cel), an anti-CD19 chimeric antigen receptor (CAR) T-cell therapy approved for treatment of relapsed/refractory large B-cell lymphoma (LBCL), has comparable efficacy across conventional LBCL markers. We analysed whether pre- and posttreatment  tumour immune contexture determines clinical outcomes for axi cel–treated patients in the ZUMA-1 pivotal study. Longitudinal evaluation of the tumour microenvironment (TME) uncovered dynamic patterns that occurred rapidly after axi-cel (within 2 weeks) in responders—pronounced enhancement of T- and myeloid cell signatures and diminution of B cell signature. Clinical response and overall survival associated with high CD8+ T-cell density (Immunoscore) and immune gene expression (Immunosign21) in TME pretreatment, which was paralleled by blood CAR T-cell levels posttreatment. High density of regulatory T cells in TME pretreatment associated with reduced axi-cel–related neurologic toxicity. At relapse, the TME evolved toward an immune-detrimental contexture with decreased T-cell–related and increased counterregulatory immune signatures and B cell lineage antigens. A TME rich in T-cell attractive chemokines (CCL5, CCL22), gamma-chain receptor cytokines (IL-15, IL-7, IL-21), and interferon regulated molecules associated with T-cell infiltration and markers of activity, a result validated in 2 independent datasets totalling ≈300 LBCL samples.\"\\n!Series_summary\\t\"These findings advance mechanistic understanding of CAR T-cell therapy and foster biomarker development and treatment optimizations.\"\\n!Series_overall_design\\t\"71 samples were analyzed for 65 patients with screening, baseline, DAY7-14, FCBWK4 and PROGFCB time points.\"\\n\\nSample characteristics dictionary (from \"!Sample_characteristics_ch1\", converted to a Python dictionary that stores the unique values for each field):\\n{0: [\\'visit: SCREENING\\', \\'visit: BASELINE\\', \\'visit: DAY7-14\\', \\'visit: FCBWK4\\', \\'visit: PROGFCB\\'], 1: [\\'molecular subgroup: GCB\\', \\'molecular subgroup: NA\\', \\'molecular subgroup: ABC\\', \\'molecular subgroup: UNCLASSIFIED\\'], 2: [\\'bestresponse: PR\\', \\'bestresponse: CR\\', \\'bestresponse: SD\\', \\'bestresponse: PD\\', \\'bestresponse: ND\\'], 3: [\\'baseline tumour burden (mm2): 8877\\', \\'baseline tumour burden (mm2): 667\\', \\'baseline tumour burden (mm2): 2441\\', \\'baseline tumour burden (mm2): 7700\\', \\'baseline tumour burden (mm2): 4248\\', \\'baseline tumour burden (mm2): 3916\\', \\'baseline tumour burden (mm2): 4205\\', \\'baseline tumour burden (mm2): 5056\\', \\'baseline tumour burden (mm2): 355\\', \\'baseline tumour burden (mm2): 7161\\', \\'baseline tumour burden (mm2): NA\\', \\'baseline tumour burden (mm2): 2794\\', \\'baseline tumour burden (mm2): 792\\', \\'baseline tumour burden (mm2): 5456\\', \\'baseline tumour burden (mm2): 39658\\', \\'baseline tumour burden (mm2): 1997\\', \\'baseline tumour burden (mm2): 1133\\', \\'baseline tumour burden (mm2): 2924\\', \\'baseline tumour burden (mm2): 6557\\', \\'baseline tumour burden (mm2): 1600\\', \\'baseline tumour burden (mm2): 4371\\', \\'baseline tumour burden (mm2): 2200\\', \\'baseline tumour burden (mm2): 7952\\', \\'baseline tumour burden (mm2): 6262\\', \\'baseline tumour burden (mm2): 14354\\', \\'baseline tumour burden (mm2): 396\\', \\'baseline tumour burden (mm2): 2069\\', \\'baseline tumour burden (mm2): 1022\\', \\'baseline tumour burden (mm2): 8162\\', \\'baseline tumour burden (mm2): 735\\'], 4: [\\'worst grade of ne: 3\\', \\'worst grade of ne: 1\\', \\'worst grade of ne: 2\\', \\'worst grade of ne: 0\\', \\'worst grade of ne: 4\\']}\\n'"
     },
     "execution_count": 24,
     "metadata": {},
     "output_type": "execute_result"
    }
   ],
   "source": [
    "\n",
    "f'''As a biomedical research team, we are selecting datasets to study the association between the human trait \\'{TRAIT}\\' and genetic factors, optionally considering the influence of age and gender. After searching the GEO database and parsing the matrix file of a series, we obtained background information and sample characteristics data. We will provide textual information about the dataset background, and a Python dictionary storing a list of unique values for each field of the sample characteristics data. Please carefully review the provided information and answer the following questions about this dataset:\n",
    "1. Does this dataset contain gene expression data? (Note: Pure miRNA data is not suitable.)\n",
    "2. For each of the traits \\'{TRAIT}\\', 'age', and 'gender', please address these points:\n",
    "   (1) Is there human data available for this trait?\n",
    "   (2) If so, identify the key in the sample characteristics dictionary where unique values of this trait is recorded. The key is an integer. The trait information might be explicitly recorded, or can be inferred from the field with some biomedical knowledge or understanding about the data collection process.\n",
    "   (3) Choose an appropriate data type (either 'continuous' or 'binary') for each trait. Write a Python function to convert any given value of the trait to this data type. Do remember to separate the value by colon ':' first, as the row header should not be included in the returned value. The function should handle inference about the trait value and convert unknown values to None.\n",
    "   Name the functions 'convert_trait', 'convert_age', and 'convert_gender', respectively.\n",
    "\n",
    "Background information about the dataset:\n",
    "{background_info}\n",
    "\n",
    "Sample characteristics dictionary (from \"!Sample_characteristics_ch1\", converted to a Python dictionary that stores the unique values for each field):\n",
    "{clinical_data_unique}\n",
    "'''"
   ],
   "metadata": {
    "collapsed": false,
    "ExecuteTime": {
     "end_time": "2024-01-30T22:10:08.161175572Z",
     "start_time": "2024-01-30T22:10:08.156906261Z"
    }
   }
  },
  {
   "cell_type": "markdown",
   "source": [
    "Understand and verify the answer from GPT, to assign values to the below variables. Assign None to the 'row_id' variables if relevant data row was not found.\n",
    "Later we need to let GPT format its answer to automatically do these. But given the complexity of this step, let's grow some insight from the free-text answers for now."
   ],
   "metadata": {
    "collapsed": false,
    "ExecuteTime": {
     "end_time": "2023-12-31T03:58:04.978240504Z",
     "start_time": "2023-12-31T03:58:04.922365324Z"
    }
   },
   "outputs": [],
   "execution_count": 30
  },
  {
   "cell_type": "code",
   "execution_count": 25,
   "outputs": [],
   "source": [
    "age_row = gender_row = None\n",
    "convert_age = convert_gender = None"
   ],
   "metadata": {
    "collapsed": false,
    "ExecuteTime": {
     "end_time": "2024-01-30T22:10:08.161236205Z",
     "start_time": "2024-01-30T22:10:08.156985719Z"
    }
   }
  },
  {
   "cell_type": "code",
   "execution_count": 26,
   "outputs": [],
   "source": [
    "is_gene_availabe = True\n",
    "trait_row = 1\n",
    "#age_row = 0\n",
    "#gender_row = 2\n",
    "\n",
    "trait_type = 'binary'"
   ],
   "metadata": {
    "collapsed": false,
    "ExecuteTime": {
     "end_time": "2024-01-30T22:10:08.161289695Z",
     "start_time": "2024-01-30T22:10:08.157022367Z"
    }
   }
  },
  {
   "cell_type": "code",
   "execution_count": 27,
   "outputs": [],
   "source": [
    "is_available = is_gene_availabe and (trait_row is not None)\n",
    "if not is_available:\n",
    "    save_cohort_info(cohort, JSON_PATH, is_available)\n",
    "    print(\"This cohort is not usable. Please skip the following steps and jump to the next accession number.\")"
   ],
   "metadata": {
    "collapsed": false,
    "ExecuteTime": {
     "end_time": "2024-01-30T22:10:08.161340910Z",
     "start_time": "2024-01-30T22:10:08.157097978Z"
    }
   }
  },
  {
   "cell_type": "code",
   "execution_count": 28,
   "outputs": [],
   "source": [
    "# Verify and use the functions generated by GPT\n",
    "\n",
    "def convert_trait(value):\n",
    "    value = value.split(':')[1].strip()\n",
    "    if value == \"Diffuse large B-cell lymphoma (DLBCL)\":\n",
    "        return 1  # Indicating presence of DLBCL\n",
    "    else:\n",
    "        return 0  # Indicating absence of DLBCL or unknown\n"
   ],
   "metadata": {
    "collapsed": false,
    "ExecuteTime": {
     "end_time": "2024-01-30T22:10:08.161392586Z",
     "start_time": "2024-01-30T22:10:08.157134816Z"
    }
   }
  },
  {
   "cell_type": "code",
   "execution_count": 29,
   "outputs": [
    {
     "data": {
      "text/plain": "                       GSM5935018  GSM5935019  GSM5935020  GSM5935021  \\\nLarge B-cell Lymphoma           0           0           0           0   \n\n                       GSM5935022  GSM5935023  GSM5935024  GSM5935025  \\\nLarge B-cell Lymphoma           0           0           0           0   \n\n                       GSM5935026  GSM5935027  ...  GSM5935082  GSM5935083  \\\nLarge B-cell Lymphoma           0           0  ...           0           0   \n\n                       GSM5935084  GSM5935085  GSM5935086  GSM5935087  \\\nLarge B-cell Lymphoma           0           0           0           0   \n\n                       GSM5935088  GSM5935089  GSM5935090  GSM5935091  \nLarge B-cell Lymphoma           0           0           0           0  \n\n[1 rows x 74 columns]",
      "text/html": "<div>\n<style scoped>\n    .dataframe tbody tr th:only-of-type {\n        vertical-align: middle;\n    }\n\n    .dataframe tbody tr th {\n        vertical-align: top;\n    }\n\n    .dataframe thead th {\n        text-align: right;\n    }\n</style>\n<table border=\"1\" class=\"dataframe\">\n  <thead>\n    <tr style=\"text-align: right;\">\n      <th></th>\n      <th>GSM5935018</th>\n      <th>GSM5935019</th>\n      <th>GSM5935020</th>\n      <th>GSM5935021</th>\n      <th>GSM5935022</th>\n      <th>GSM5935023</th>\n      <th>GSM5935024</th>\n      <th>GSM5935025</th>\n      <th>GSM5935026</th>\n      <th>GSM5935027</th>\n      <th>...</th>\n      <th>GSM5935082</th>\n      <th>GSM5935083</th>\n      <th>GSM5935084</th>\n      <th>GSM5935085</th>\n      <th>GSM5935086</th>\n      <th>GSM5935087</th>\n      <th>GSM5935088</th>\n      <th>GSM5935089</th>\n      <th>GSM5935090</th>\n      <th>GSM5935091</th>\n    </tr>\n  </thead>\n  <tbody>\n    <tr>\n      <th>Large B-cell Lymphoma</th>\n      <td>0</td>\n      <td>0</td>\n      <td>0</td>\n      <td>0</td>\n      <td>0</td>\n      <td>0</td>\n      <td>0</td>\n      <td>0</td>\n      <td>0</td>\n      <td>0</td>\n      <td>...</td>\n      <td>0</td>\n      <td>0</td>\n      <td>0</td>\n      <td>0</td>\n      <td>0</td>\n      <td>0</td>\n      <td>0</td>\n      <td>0</td>\n      <td>0</td>\n      <td>0</td>\n    </tr>\n  </tbody>\n</table>\n<p>1 rows × 74 columns</p>\n</div>"
     },
     "execution_count": 29,
     "metadata": {},
     "output_type": "execute_result"
    }
   ],
   "source": [
    "selected_clinical_data = geo_select_clinical_features(clinical_data, TRAIT, trait_row, convert_trait, age_row=age_row,\n",
    "                                                      convert_age=convert_age, gender_row=gender_row,\n",
    "                                                      convert_gender=convert_gender)\n",
    "selected_clinical_data.head()"
   ],
   "metadata": {
    "collapsed": false,
    "ExecuteTime": {
     "end_time": "2024-01-30T22:10:08.161492192Z",
     "start_time": "2024-01-30T22:10:08.157167337Z"
    }
   }
  },
  {
   "cell_type": "markdown",
   "source": [
    "### Genetic data preprocessing and final filtering"
   ],
   "metadata": {
    "collapsed": false,
    "ExecuteTime": {
     "end_time": "2023-12-31T03:58:04.978664193Z",
     "start_time": "2023-12-31T03:58:04.966117261Z"
    }
   },
   "outputs": [
    {
     "data": {
      "text/plain": "       ID  GSM7920782  GSM7920783  GSM7920784  GSM7920785  GSM7920786  \\\n0     A2M   13.210102   13.237969   14.728878   15.399663   12.970464   \n1  ACVR1C    5.128485    5.336850    5.611523    5.041711    6.342262   \n2  ADAM12    9.806557   12.374397    9.953351    8.507092   11.402156   \n3  ADGRE1    4.128485    3.751888    4.611523    4.582279    3.771514   \n4     ADM   10.953762   10.544678    8.155844    9.333824    8.438938   \n\n   GSM7920787  GSM7920788  GSM7920789  GSM7920790  ...  GSM7920816  \\\n0   13.014807   12.521967   13.055481   13.219538  ...   12.635802   \n1    5.005301    4.148600    5.665523    5.548821  ...    5.756039   \n2   10.739489    9.114680   11.095729    8.762302  ...    8.280338   \n3    4.420338    2.863198    4.800452    3.860765  ...    2.806079   \n4    9.446117    8.285262    8.551518    9.567357  ...   11.577869   \n\n   GSM7920817  GSM7920818  GSM7920819  GSM7920820  GSM7920821  GSM7920822  \\\n0   12.487090   11.743261   13.219376   12.499513   11.719452   12.509194   \n1    6.795792    6.873777    6.848304    5.106051    6.790117    3.936121   \n2    6.973884    7.113936    8.036966    8.398832    5.346283    9.429915   \n3    5.926579    2.066422    6.447342    4.286623    3.665105    3.415288   \n4   11.051458    7.742883    9.596892    6.993576    8.531638    8.579977   \n\n   GSM7920823  GSM7920824  GSM7920825  \n0   11.682523   10.885632   11.277235  \n1    2.998025    6.339292    4.463217  \n2    7.863096   10.774084    4.708329  \n3    1.190670    2.251830   -0.291671  \n4    8.150672    9.623969    7.790478  \n\n[5 rows x 45 columns]",
      "text/html": "<div>\n<style scoped>\n    .dataframe tbody tr th:only-of-type {\n        vertical-align: middle;\n    }\n\n    .dataframe tbody tr th {\n        vertical-align: top;\n    }\n\n    .dataframe thead th {\n        text-align: right;\n    }\n</style>\n<table border=\"1\" class=\"dataframe\">\n  <thead>\n    <tr style=\"text-align: right;\">\n      <th></th>\n      <th>ID</th>\n      <th>GSM7920782</th>\n      <th>GSM7920783</th>\n      <th>GSM7920784</th>\n      <th>GSM7920785</th>\n      <th>GSM7920786</th>\n      <th>GSM7920787</th>\n      <th>GSM7920788</th>\n      <th>GSM7920789</th>\n      <th>GSM7920790</th>\n      <th>...</th>\n      <th>GSM7920816</th>\n      <th>GSM7920817</th>\n      <th>GSM7920818</th>\n      <th>GSM7920819</th>\n      <th>GSM7920820</th>\n      <th>GSM7920821</th>\n      <th>GSM7920822</th>\n      <th>GSM7920823</th>\n      <th>GSM7920824</th>\n      <th>GSM7920825</th>\n    </tr>\n  </thead>\n  <tbody>\n    <tr>\n      <th>0</th>\n      <td>A2M</td>\n      <td>13.210102</td>\n      <td>13.237969</td>\n      <td>14.728878</td>\n      <td>15.399663</td>\n      <td>12.970464</td>\n      <td>13.014807</td>\n      <td>12.521967</td>\n      <td>13.055481</td>\n      <td>13.219538</td>\n      <td>...</td>\n      <td>12.635802</td>\n      <td>12.487090</td>\n      <td>11.743261</td>\n      <td>13.219376</td>\n      <td>12.499513</td>\n      <td>11.719452</td>\n      <td>12.509194</td>\n      <td>11.682523</td>\n      <td>10.885632</td>\n      <td>11.277235</td>\n    </tr>\n    <tr>\n      <th>1</th>\n      <td>ACVR1C</td>\n      <td>5.128485</td>\n      <td>5.336850</td>\n      <td>5.611523</td>\n      <td>5.041711</td>\n      <td>6.342262</td>\n      <td>5.005301</td>\n      <td>4.148600</td>\n      <td>5.665523</td>\n      <td>5.548821</td>\n      <td>...</td>\n      <td>5.756039</td>\n      <td>6.795792</td>\n      <td>6.873777</td>\n      <td>6.848304</td>\n      <td>5.106051</td>\n      <td>6.790117</td>\n      <td>3.936121</td>\n      <td>2.998025</td>\n      <td>6.339292</td>\n      <td>4.463217</td>\n    </tr>\n    <tr>\n      <th>2</th>\n      <td>ADAM12</td>\n      <td>9.806557</td>\n      <td>12.374397</td>\n      <td>9.953351</td>\n      <td>8.507092</td>\n      <td>11.402156</td>\n      <td>10.739489</td>\n      <td>9.114680</td>\n      <td>11.095729</td>\n      <td>8.762302</td>\n      <td>...</td>\n      <td>8.280338</td>\n      <td>6.973884</td>\n      <td>7.113936</td>\n      <td>8.036966</td>\n      <td>8.398832</td>\n      <td>5.346283</td>\n      <td>9.429915</td>\n      <td>7.863096</td>\n      <td>10.774084</td>\n      <td>4.708329</td>\n    </tr>\n    <tr>\n      <th>3</th>\n      <td>ADGRE1</td>\n      <td>4.128485</td>\n      <td>3.751888</td>\n      <td>4.611523</td>\n      <td>4.582279</td>\n      <td>3.771514</td>\n      <td>4.420338</td>\n      <td>2.863198</td>\n      <td>4.800452</td>\n      <td>3.860765</td>\n      <td>...</td>\n      <td>2.806079</td>\n      <td>5.926579</td>\n      <td>2.066422</td>\n      <td>6.447342</td>\n      <td>4.286623</td>\n      <td>3.665105</td>\n      <td>3.415288</td>\n      <td>1.190670</td>\n      <td>2.251830</td>\n      <td>-0.291671</td>\n    </tr>\n    <tr>\n      <th>4</th>\n      <td>ADM</td>\n      <td>10.953762</td>\n      <td>10.544678</td>\n      <td>8.155844</td>\n      <td>9.333824</td>\n      <td>8.438938</td>\n      <td>9.446117</td>\n      <td>8.285262</td>\n      <td>8.551518</td>\n      <td>9.567357</td>\n      <td>...</td>\n      <td>11.577869</td>\n      <td>11.051458</td>\n      <td>7.742883</td>\n      <td>9.596892</td>\n      <td>6.993576</td>\n      <td>8.531638</td>\n      <td>8.579977</td>\n      <td>8.150672</td>\n      <td>9.623969</td>\n      <td>7.790478</td>\n    </tr>\n  </tbody>\n</table>\n<p>5 rows × 45 columns</p>\n</div>"
     },
     "execution_count": 34,
     "metadata": {},
     "output_type": "execute_result"
    }
   ],
   "execution_count": 34
  },
  {
   "cell_type": "code",
   "execution_count": 30,
   "outputs": [
    {
     "data": {
      "text/plain": "    GSM5935018  GSM5935019  GSM5935020  GSM5935021  GSM5935022  GSM5935023  \\\nID                                                                           \n1      1758.44     1370.35      738.43     1368.94     1473.55     1599.26   \n2       249.72      236.35      167.63      654.96       59.57      204.32   \n3       288.10      513.03      310.33      313.61      282.08      229.36   \n4       626.42      308.31     1564.71      252.45      277.77     1598.12   \n5      1224.42      187.35      196.91      750.25      114.84       31.30   \n\n    GSM5935024  GSM5935025  GSM5935026  GSM5935027  ...  GSM5935082  \\\nID                                                  ...               \n1      1634.00     1313.76     2905.59     2388.75  ...      989.01   \n2       120.19        0.00      216.34      226.64  ...        0.00   \n3       534.17      530.56      396.87      406.93  ...      224.05   \n4      1124.63      931.18      174.79      488.05  ...      168.45   \n5       148.81        0.00        7.88        0.00  ...        0.00   \n\n    GSM5935083  GSM5935084  GSM5935085  GSM5935086  GSM5935087  GSM5935088  \\\nID                                                                           \n1      1031.16    25270.46     8902.58     1765.66     2804.63    12446.22   \n2         0.00      287.00      110.74        0.00       71.81        0.00   \n3       318.89      471.01      470.88      280.99      623.41      567.91   \n4      1567.88      605.60      500.25      307.09      580.45      555.98   \n5        50.55        0.00        0.00      494.44        0.00        0.00   \n\n    GSM5935089  GSM5935090  GSM5935091  \nID                                      \n1      2538.75     1196.21     2293.09  \n2        87.84       25.30      124.49  \n3       279.40      333.18      471.31  \n4       443.40      298.10      314.97  \n5        17.84     2433.20      449.17  \n\n[5 rows x 74 columns]",
      "text/html": "<div>\n<style scoped>\n    .dataframe tbody tr th:only-of-type {\n        vertical-align: middle;\n    }\n\n    .dataframe tbody tr th {\n        vertical-align: top;\n    }\n\n    .dataframe thead th {\n        text-align: right;\n    }\n</style>\n<table border=\"1\" class=\"dataframe\">\n  <thead>\n    <tr style=\"text-align: right;\">\n      <th></th>\n      <th>GSM5935018</th>\n      <th>GSM5935019</th>\n      <th>GSM5935020</th>\n      <th>GSM5935021</th>\n      <th>GSM5935022</th>\n      <th>GSM5935023</th>\n      <th>GSM5935024</th>\n      <th>GSM5935025</th>\n      <th>GSM5935026</th>\n      <th>GSM5935027</th>\n      <th>...</th>\n      <th>GSM5935082</th>\n      <th>GSM5935083</th>\n      <th>GSM5935084</th>\n      <th>GSM5935085</th>\n      <th>GSM5935086</th>\n      <th>GSM5935087</th>\n      <th>GSM5935088</th>\n      <th>GSM5935089</th>\n      <th>GSM5935090</th>\n      <th>GSM5935091</th>\n    </tr>\n    <tr>\n      <th>ID</th>\n      <th></th>\n      <th></th>\n      <th></th>\n      <th></th>\n      <th></th>\n      <th></th>\n      <th></th>\n      <th></th>\n      <th></th>\n      <th></th>\n      <th></th>\n      <th></th>\n      <th></th>\n      <th></th>\n      <th></th>\n      <th></th>\n      <th></th>\n      <th></th>\n      <th></th>\n      <th></th>\n      <th></th>\n    </tr>\n  </thead>\n  <tbody>\n    <tr>\n      <th>1</th>\n      <td>1758.44</td>\n      <td>1370.35</td>\n      <td>738.43</td>\n      <td>1368.94</td>\n      <td>1473.55</td>\n      <td>1599.26</td>\n      <td>1634.00</td>\n      <td>1313.76</td>\n      <td>2905.59</td>\n      <td>2388.75</td>\n      <td>...</td>\n      <td>989.01</td>\n      <td>1031.16</td>\n      <td>25270.46</td>\n      <td>8902.58</td>\n      <td>1765.66</td>\n      <td>2804.63</td>\n      <td>12446.22</td>\n      <td>2538.75</td>\n      <td>1196.21</td>\n      <td>2293.09</td>\n    </tr>\n    <tr>\n      <th>2</th>\n      <td>249.72</td>\n      <td>236.35</td>\n      <td>167.63</td>\n      <td>654.96</td>\n      <td>59.57</td>\n      <td>204.32</td>\n      <td>120.19</td>\n      <td>0.00</td>\n      <td>216.34</td>\n      <td>226.64</td>\n      <td>...</td>\n      <td>0.00</td>\n      <td>0.00</td>\n      <td>287.00</td>\n      <td>110.74</td>\n      <td>0.00</td>\n      <td>71.81</td>\n      <td>0.00</td>\n      <td>87.84</td>\n      <td>25.30</td>\n      <td>124.49</td>\n    </tr>\n    <tr>\n      <th>3</th>\n      <td>288.10</td>\n      <td>513.03</td>\n      <td>310.33</td>\n      <td>313.61</td>\n      <td>282.08</td>\n      <td>229.36</td>\n      <td>534.17</td>\n      <td>530.56</td>\n      <td>396.87</td>\n      <td>406.93</td>\n      <td>...</td>\n      <td>224.05</td>\n      <td>318.89</td>\n      <td>471.01</td>\n      <td>470.88</td>\n      <td>280.99</td>\n      <td>623.41</td>\n      <td>567.91</td>\n      <td>279.40</td>\n      <td>333.18</td>\n      <td>471.31</td>\n    </tr>\n    <tr>\n      <th>4</th>\n      <td>626.42</td>\n      <td>308.31</td>\n      <td>1564.71</td>\n      <td>252.45</td>\n      <td>277.77</td>\n      <td>1598.12</td>\n      <td>1124.63</td>\n      <td>931.18</td>\n      <td>174.79</td>\n      <td>488.05</td>\n      <td>...</td>\n      <td>168.45</td>\n      <td>1567.88</td>\n      <td>605.60</td>\n      <td>500.25</td>\n      <td>307.09</td>\n      <td>580.45</td>\n      <td>555.98</td>\n      <td>443.40</td>\n      <td>298.10</td>\n      <td>314.97</td>\n    </tr>\n    <tr>\n      <th>5</th>\n      <td>1224.42</td>\n      <td>187.35</td>\n      <td>196.91</td>\n      <td>750.25</td>\n      <td>114.84</td>\n      <td>31.30</td>\n      <td>148.81</td>\n      <td>0.00</td>\n      <td>7.88</td>\n      <td>0.00</td>\n      <td>...</td>\n      <td>0.00</td>\n      <td>50.55</td>\n      <td>0.00</td>\n      <td>0.00</td>\n      <td>494.44</td>\n      <td>0.00</td>\n      <td>0.00</td>\n      <td>17.84</td>\n      <td>2433.20</td>\n      <td>449.17</td>\n    </tr>\n  </tbody>\n</table>\n<p>5 rows × 74 columns</p>\n</div>"
     },
     "execution_count": 30,
     "metadata": {},
     "output_type": "execute_result"
    }
   ],
   "source": [
    "genetic_data = get_genetic_data(matrix_file)\n",
    "genetic_data.head()"
   ],
   "metadata": {
    "collapsed": false,
    "ExecuteTime": {
     "end_time": "2024-01-30T22:10:08.256759210Z",
     "start_time": "2024-01-30T22:10:08.157212060Z"
    }
   }
  },
  {
   "cell_type": "code",
   "execution_count": 31,
   "outputs": [
    {
     "data": {
      "text/plain": "['1',\n '2',\n '3',\n '4',\n '5',\n '6',\n '7',\n '8',\n '9',\n '10',\n '11',\n '12',\n '13',\n '14',\n '15',\n '16',\n '17',\n '18',\n '19',\n '20']"
     },
     "execution_count": 31,
     "metadata": {},
     "output_type": "execute_result"
    }
   ],
   "source": [
    "gene_row_ids = genetic_data.index[:20].tolist()\n",
    "gene_row_ids"
   ],
   "metadata": {
    "collapsed": false,
    "ExecuteTime": {
     "end_time": "2024-01-30T22:10:08.256957840Z",
     "start_time": "2024-01-30T22:10:08.200922598Z"
    }
   }
  },
  {
   "cell_type": "markdown",
   "source": [
    "Check if the gene dataset requires mapping to get the gene symbols corresponding to each data row."
   ],
   "metadata": {
    "collapsed": false,
    "ExecuteTime": {
     "end_time": "2023-12-31T03:30:41.595335164Z",
     "start_time": "2023-12-31T03:30:41.513232329Z"
    }
   },
   "outputs": [],
   "execution_count": 61
  },
  {
   "cell_type": "markdown",
   "source": [
    "Reference prompt:"
   ],
   "metadata": {
    "collapsed": false
   }
  },
  {
   "cell_type": "code",
   "execution_count": 32,
   "outputs": [
    {
     "data": {
      "text/plain": "\"\\nBelow are the row headers of a gene expression dataset in GEO. Based on your biomedical knowledge, are they human gene symbols, or are they some other identifiers that need to be mapped to gene symbols? Your answer should be concluded by starting a new line and strictly following this format:\\nrequires_gene_mapping = (True or False)\\n\\nRow headers:\\n['1', '2', '3', '4', '5', '6', '7', '8', '9', '10', '11', '12', '13', '14', '15', '16', '17', '18', '19', '20']\\n\""
     },
     "execution_count": 32,
     "metadata": {},
     "output_type": "execute_result"
    }
   ],
   "source": [
    "f'''\n",
    "Below are the row headers of a gene expression dataset in GEO. Based on your biomedical knowledge, are they human gene symbols, or are they some other identifiers that need to be mapped to gene symbols? Your answer should be concluded by starting a new line and strictly following this format:\n",
    "requires_gene_mapping = (True or False)\n",
    "\n",
    "Row headers:\n",
    "{gene_row_ids}\n",
    "'''"
   ],
   "metadata": {
    "collapsed": false,
    "ExecuteTime": {
     "end_time": "2024-01-30T22:10:08.268216809Z",
     "start_time": "2024-01-30T22:10:08.200977070Z"
    }
   }
  },
  {
   "cell_type": "markdown",
   "source": [
    "\n",
    "If not required, jump directly to the gene normalization step"
   ],
   "metadata": {
    "collapsed": false
   }
  },
  {
   "cell_type": "code",
   "execution_count": 33,
   "outputs": [],
   "source": [
    "requires_gene_mapping = True"
   ],
   "metadata": {
    "collapsed": false,
    "ExecuteTime": {
     "end_time": "2024-01-30T22:10:08.268289374Z",
     "start_time": "2024-01-30T22:10:08.201020691Z"
    }
   }
  },
  {
   "cell_type": "code",
   "execution_count": 34,
   "outputs": [
    {
     "name": "stdout",
     "output_type": "stream",
     "text": [
      "{'ID': ['1', '2', '3', '4', '5'], 'ORF': ['A2M', 'ABCB1', 'ABL1', 'ADA', 'AICDA'], 'Accession': ['NM_000014.4', 'NM_000927.3', 'NM_005157.3', 'NM_000022.2', 'NM_020661.1']}\n"
     ]
    }
   ],
   "source": [
    "if requires_gene_mapping:\n",
    "    gene_annotation = get_gene_annotation(soft_file)\n",
    "    gene_annotation_summary = preview_df(gene_annotation)\n",
    "    print(gene_annotation_summary)"
   ],
   "metadata": {
    "collapsed": false,
    "ExecuteTime": {
     "end_time": "2024-01-30T22:10:08.269135159Z",
     "start_time": "2024-01-30T22:10:08.201070925Z"
    }
   }
  },
  {
   "cell_type": "markdown",
   "source": [
    "Observe the first few cells in the ID column of the gene annotation dataframe, to find the names of columns that store the gene probe IDs and gene symbols respectively.\n",
    "Reference prompt:"
   ],
   "metadata": {
    "collapsed": false,
    "ExecuteTime": {
     "end_time": "2023-12-31T03:58:04.978931927Z",
     "start_time": "2023-12-31T03:58:04.966328339Z"
    }
   },
   "outputs": [],
   "execution_count": 39
  },
  {
   "cell_type": "code",
   "execution_count": 35,
   "outputs": [
    {
     "name": "stdout",
     "output_type": "stream",
     "text": [
      "\n",
      "    As a biomedical research team, we are analyzing a gene expression dataset, and find that its row headers are some identifiers related to genes:\n",
      "    ['1', '2', '3', '4', '5', '6', '7', '8', '9', '10', '11', '12', '13', '14', '15', '16', '17', '18', '19', '20']\n",
      "    To get the mapping from those identifiers to actual gene symbols, we extracted the gene annotation data from a series in the GEO database, and saved it to a Python dictionary. Please read the dictionary, and decide which key stores the identifiers, and which key stores the gene symbols. Please strictly follow this format in your answer:\n",
      "    identifier_key = 'key_name1'\n",
      "    gene_symbol_key = 'key_name2'\n",
      "\n",
      "    Gene annotation dictionary:\n",
      "    {'ID': ['1', '2', '3', '4', '5'], 'ORF': ['A2M', 'ABCB1', 'ABL1', 'ADA', 'AICDA'], 'Accession': ['NM_000014.4', 'NM_000927.3', 'NM_005157.3', 'NM_000022.2', 'NM_020661.1']}\n",
      "    \n"
     ]
    }
   ],
   "source": [
    "if requires_gene_mapping:\n",
    "    print(f'''\n",
    "    As a biomedical research team, we are analyzing a gene expression dataset, and find that its row headers are some identifiers related to genes:\n",
    "    {gene_row_ids}\n",
    "    To get the mapping from those identifiers to actual gene symbols, we extracted the gene annotation data from a series in the GEO database, and saved it to a Python dictionary. Please read the dictionary, and decide which key stores the identifiers, and which key stores the gene symbols. Please strictly follow this format in your answer:\n",
    "    identifier_key = 'key_name1'\n",
    "    gene_symbol_key = 'key_name2'\n",
    "\n",
    "    Gene annotation dictionary:\n",
    "    {gene_annotation_summary}\n",
    "    ''')"
   ],
   "metadata": {
    "collapsed": false,
    "ExecuteTime": {
     "end_time": "2024-01-30T22:10:08.269268878Z",
     "start_time": "2024-01-30T22:10:08.227049377Z"
    }
   }
  },
  {
   "cell_type": "code",
   "execution_count": 36,
   "outputs": [
    {
     "ename": "KeyError",
     "evalue": "\"['Gene Symbol'] not in index\"",
     "output_type": "error",
     "traceback": [
      "\u001B[0;31m---------------------------------------------------------------------------\u001B[0m",
      "\u001B[0;31mKeyError\u001B[0m                                  Traceback (most recent call last)",
      "Cell \u001B[0;32mIn[36], line 4\u001B[0m\n\u001B[1;32m      2\u001B[0m identifier_key \u001B[38;5;241m=\u001B[39m \u001B[38;5;124m'\u001B[39m\u001B[38;5;124mID\u001B[39m\u001B[38;5;124m'\u001B[39m\n\u001B[1;32m      3\u001B[0m gene_symbol_key \u001B[38;5;241m=\u001B[39m \u001B[38;5;124m'\u001B[39m\u001B[38;5;124mGene Symbol\u001B[39m\u001B[38;5;124m'\u001B[39m\n\u001B[0;32m----> 4\u001B[0m gene_mapping \u001B[38;5;241m=\u001B[39m \u001B[43mget_gene_mapping\u001B[49m\u001B[43m(\u001B[49m\u001B[43mgene_annotation\u001B[49m\u001B[43m,\u001B[49m\u001B[43m \u001B[49m\u001B[43midentifier_key\u001B[49m\u001B[43m,\u001B[49m\u001B[43m \u001B[49m\u001B[43mgene_symbol_key\u001B[49m\u001B[43m)\u001B[49m\n\u001B[1;32m      5\u001B[0m genetic_data \u001B[38;5;241m=\u001B[39m apply_gene_mapping(genetic_data, gene_mapping)\n",
      "File \u001B[0;32m~/AI4Science_gold_standard/utils.py:136\u001B[0m, in \u001B[0;36mget_gene_mapping\u001B[0;34m(annotation, prob_col, gene_col)\u001B[0m\n\u001B[1;32m    133\u001B[0m \u001B[38;5;28;01mdef\u001B[39;00m \u001B[38;5;21mget_gene_mapping\u001B[39m(annotation, prob_col, gene_col):\n\u001B[1;32m    134\u001B[0m \u001B[38;5;250m    \u001B[39m\u001B[38;5;124;03m\"\"\"Process the gene annotation to get the mapping between gene names and gene probes.\u001B[39;00m\n\u001B[1;32m    135\u001B[0m \u001B[38;5;124;03m    \"\"\"\u001B[39;00m\n\u001B[0;32m--> 136\u001B[0m     mapping_data \u001B[38;5;241m=\u001B[39m \u001B[43mannotation\u001B[49m\u001B[38;5;241;43m.\u001B[39;49m\u001B[43mloc\u001B[49m\u001B[43m[\u001B[49m\u001B[43m:\u001B[49m\u001B[43m,\u001B[49m\u001B[43m \u001B[49m\u001B[43m[\u001B[49m\u001B[43mprob_col\u001B[49m\u001B[43m,\u001B[49m\u001B[43m \u001B[49m\u001B[43mgene_col\u001B[49m\u001B[43m]\u001B[49m\u001B[43m]\u001B[49m\n\u001B[1;32m    137\u001B[0m     mapping_data \u001B[38;5;241m=\u001B[39m mapping_data\u001B[38;5;241m.\u001B[39mdropna()\n\u001B[1;32m    138\u001B[0m     mapping_data \u001B[38;5;241m=\u001B[39m mapping_data\u001B[38;5;241m.\u001B[39mrename(columns\u001B[38;5;241m=\u001B[39m{gene_col: \u001B[38;5;124m'\u001B[39m\u001B[38;5;124mGene\u001B[39m\u001B[38;5;124m'\u001B[39m})\u001B[38;5;241m.\u001B[39mastype({\u001B[38;5;124m'\u001B[39m\u001B[38;5;124mID\u001B[39m\u001B[38;5;124m'\u001B[39m: \u001B[38;5;124m'\u001B[39m\u001B[38;5;124mstr\u001B[39m\u001B[38;5;124m'\u001B[39m})\n",
      "File \u001B[0;32m~/anaconda3/envs/hl/lib/python3.8/site-packages/pandas/core/indexing.py:1097\u001B[0m, in \u001B[0;36m_LocationIndexer.__getitem__\u001B[0;34m(self, key)\u001B[0m\n\u001B[1;32m   1095\u001B[0m     \u001B[38;5;28;01mif\u001B[39;00m \u001B[38;5;28mself\u001B[39m\u001B[38;5;241m.\u001B[39m_is_scalar_access(key):\n\u001B[1;32m   1096\u001B[0m         \u001B[38;5;28;01mreturn\u001B[39;00m \u001B[38;5;28mself\u001B[39m\u001B[38;5;241m.\u001B[39mobj\u001B[38;5;241m.\u001B[39m_get_value(\u001B[38;5;241m*\u001B[39mkey, takeable\u001B[38;5;241m=\u001B[39m\u001B[38;5;28mself\u001B[39m\u001B[38;5;241m.\u001B[39m_takeable)\n\u001B[0;32m-> 1097\u001B[0m     \u001B[38;5;28;01mreturn\u001B[39;00m \u001B[38;5;28;43mself\u001B[39;49m\u001B[38;5;241;43m.\u001B[39;49m\u001B[43m_getitem_tuple\u001B[49m\u001B[43m(\u001B[49m\u001B[43mkey\u001B[49m\u001B[43m)\u001B[49m\n\u001B[1;32m   1098\u001B[0m \u001B[38;5;28;01melse\u001B[39;00m:\n\u001B[1;32m   1099\u001B[0m     \u001B[38;5;66;03m# we by definition only have the 0th axis\u001B[39;00m\n\u001B[1;32m   1100\u001B[0m     axis \u001B[38;5;241m=\u001B[39m \u001B[38;5;28mself\u001B[39m\u001B[38;5;241m.\u001B[39maxis \u001B[38;5;129;01mor\u001B[39;00m \u001B[38;5;241m0\u001B[39m\n",
      "File \u001B[0;32m~/anaconda3/envs/hl/lib/python3.8/site-packages/pandas/core/indexing.py:1289\u001B[0m, in \u001B[0;36m_LocIndexer._getitem_tuple\u001B[0;34m(self, tup)\u001B[0m\n\u001B[1;32m   1286\u001B[0m \u001B[38;5;28;01mif\u001B[39;00m \u001B[38;5;28mself\u001B[39m\u001B[38;5;241m.\u001B[39m_multi_take_opportunity(tup):\n\u001B[1;32m   1287\u001B[0m     \u001B[38;5;28;01mreturn\u001B[39;00m \u001B[38;5;28mself\u001B[39m\u001B[38;5;241m.\u001B[39m_multi_take(tup)\n\u001B[0;32m-> 1289\u001B[0m \u001B[38;5;28;01mreturn\u001B[39;00m \u001B[38;5;28;43mself\u001B[39;49m\u001B[38;5;241;43m.\u001B[39;49m\u001B[43m_getitem_tuple_same_dim\u001B[49m\u001B[43m(\u001B[49m\u001B[43mtup\u001B[49m\u001B[43m)\u001B[49m\n",
      "File \u001B[0;32m~/anaconda3/envs/hl/lib/python3.8/site-packages/pandas/core/indexing.py:955\u001B[0m, in \u001B[0;36m_LocationIndexer._getitem_tuple_same_dim\u001B[0;34m(self, tup)\u001B[0m\n\u001B[1;32m    952\u001B[0m \u001B[38;5;28;01mif\u001B[39;00m com\u001B[38;5;241m.\u001B[39mis_null_slice(key):\n\u001B[1;32m    953\u001B[0m     \u001B[38;5;28;01mcontinue\u001B[39;00m\n\u001B[0;32m--> 955\u001B[0m retval \u001B[38;5;241m=\u001B[39m \u001B[38;5;28;43mgetattr\u001B[39;49m\u001B[43m(\u001B[49m\u001B[43mretval\u001B[49m\u001B[43m,\u001B[49m\u001B[43m \u001B[49m\u001B[38;5;28;43mself\u001B[39;49m\u001B[38;5;241;43m.\u001B[39;49m\u001B[43mname\u001B[49m\u001B[43m)\u001B[49m\u001B[38;5;241;43m.\u001B[39;49m\u001B[43m_getitem_axis\u001B[49m\u001B[43m(\u001B[49m\u001B[43mkey\u001B[49m\u001B[43m,\u001B[49m\u001B[43m \u001B[49m\u001B[43maxis\u001B[49m\u001B[38;5;241;43m=\u001B[39;49m\u001B[43mi\u001B[49m\u001B[43m)\u001B[49m\n\u001B[1;32m    956\u001B[0m \u001B[38;5;66;03m# We should never have retval.ndim < self.ndim, as that should\u001B[39;00m\n\u001B[1;32m    957\u001B[0m \u001B[38;5;66;03m#  be handled by the _getitem_lowerdim call above.\u001B[39;00m\n\u001B[1;32m    958\u001B[0m \u001B[38;5;28;01massert\u001B[39;00m retval\u001B[38;5;241m.\u001B[39mndim \u001B[38;5;241m==\u001B[39m \u001B[38;5;28mself\u001B[39m\u001B[38;5;241m.\u001B[39mndim\n",
      "File \u001B[0;32m~/anaconda3/envs/hl/lib/python3.8/site-packages/pandas/core/indexing.py:1332\u001B[0m, in \u001B[0;36m_LocIndexer._getitem_axis\u001B[0;34m(self, key, axis)\u001B[0m\n\u001B[1;32m   1329\u001B[0m     \u001B[38;5;28;01mif\u001B[39;00m \u001B[38;5;28mhasattr\u001B[39m(key, \u001B[38;5;124m\"\u001B[39m\u001B[38;5;124mndim\u001B[39m\u001B[38;5;124m\"\u001B[39m) \u001B[38;5;129;01mand\u001B[39;00m key\u001B[38;5;241m.\u001B[39mndim \u001B[38;5;241m>\u001B[39m \u001B[38;5;241m1\u001B[39m:\n\u001B[1;32m   1330\u001B[0m         \u001B[38;5;28;01mraise\u001B[39;00m \u001B[38;5;167;01mValueError\u001B[39;00m(\u001B[38;5;124m\"\u001B[39m\u001B[38;5;124mCannot index with multidimensional key\u001B[39m\u001B[38;5;124m\"\u001B[39m)\n\u001B[0;32m-> 1332\u001B[0m     \u001B[38;5;28;01mreturn\u001B[39;00m \u001B[38;5;28;43mself\u001B[39;49m\u001B[38;5;241;43m.\u001B[39;49m\u001B[43m_getitem_iterable\u001B[49m\u001B[43m(\u001B[49m\u001B[43mkey\u001B[49m\u001B[43m,\u001B[49m\u001B[43m \u001B[49m\u001B[43maxis\u001B[49m\u001B[38;5;241;43m=\u001B[39;49m\u001B[43maxis\u001B[49m\u001B[43m)\u001B[49m\n\u001B[1;32m   1334\u001B[0m \u001B[38;5;66;03m# nested tuple slicing\u001B[39;00m\n\u001B[1;32m   1335\u001B[0m \u001B[38;5;28;01mif\u001B[39;00m is_nested_tuple(key, labels):\n",
      "File \u001B[0;32m~/anaconda3/envs/hl/lib/python3.8/site-packages/pandas/core/indexing.py:1272\u001B[0m, in \u001B[0;36m_LocIndexer._getitem_iterable\u001B[0;34m(self, key, axis)\u001B[0m\n\u001B[1;32m   1269\u001B[0m \u001B[38;5;28mself\u001B[39m\u001B[38;5;241m.\u001B[39m_validate_key(key, axis)\n\u001B[1;32m   1271\u001B[0m \u001B[38;5;66;03m# A collection of keys\u001B[39;00m\n\u001B[0;32m-> 1272\u001B[0m keyarr, indexer \u001B[38;5;241m=\u001B[39m \u001B[38;5;28;43mself\u001B[39;49m\u001B[38;5;241;43m.\u001B[39;49m\u001B[43m_get_listlike_indexer\u001B[49m\u001B[43m(\u001B[49m\u001B[43mkey\u001B[49m\u001B[43m,\u001B[49m\u001B[43m \u001B[49m\u001B[43maxis\u001B[49m\u001B[43m)\u001B[49m\n\u001B[1;32m   1273\u001B[0m \u001B[38;5;28;01mreturn\u001B[39;00m \u001B[38;5;28mself\u001B[39m\u001B[38;5;241m.\u001B[39mobj\u001B[38;5;241m.\u001B[39m_reindex_with_indexers(\n\u001B[1;32m   1274\u001B[0m     {axis: [keyarr, indexer]}, copy\u001B[38;5;241m=\u001B[39m\u001B[38;5;28;01mTrue\u001B[39;00m, allow_dups\u001B[38;5;241m=\u001B[39m\u001B[38;5;28;01mTrue\u001B[39;00m\n\u001B[1;32m   1275\u001B[0m )\n",
      "File \u001B[0;32m~/anaconda3/envs/hl/lib/python3.8/site-packages/pandas/core/indexing.py:1462\u001B[0m, in \u001B[0;36m_LocIndexer._get_listlike_indexer\u001B[0;34m(self, key, axis)\u001B[0m\n\u001B[1;32m   1459\u001B[0m ax \u001B[38;5;241m=\u001B[39m \u001B[38;5;28mself\u001B[39m\u001B[38;5;241m.\u001B[39mobj\u001B[38;5;241m.\u001B[39m_get_axis(axis)\n\u001B[1;32m   1460\u001B[0m axis_name \u001B[38;5;241m=\u001B[39m \u001B[38;5;28mself\u001B[39m\u001B[38;5;241m.\u001B[39mobj\u001B[38;5;241m.\u001B[39m_get_axis_name(axis)\n\u001B[0;32m-> 1462\u001B[0m keyarr, indexer \u001B[38;5;241m=\u001B[39m \u001B[43max\u001B[49m\u001B[38;5;241;43m.\u001B[39;49m\u001B[43m_get_indexer_strict\u001B[49m\u001B[43m(\u001B[49m\u001B[43mkey\u001B[49m\u001B[43m,\u001B[49m\u001B[43m \u001B[49m\u001B[43maxis_name\u001B[49m\u001B[43m)\u001B[49m\n\u001B[1;32m   1464\u001B[0m \u001B[38;5;28;01mreturn\u001B[39;00m keyarr, indexer\n",
      "File \u001B[0;32m~/anaconda3/envs/hl/lib/python3.8/site-packages/pandas/core/indexes/base.py:5877\u001B[0m, in \u001B[0;36mIndex._get_indexer_strict\u001B[0;34m(self, key, axis_name)\u001B[0m\n\u001B[1;32m   5874\u001B[0m \u001B[38;5;28;01melse\u001B[39;00m:\n\u001B[1;32m   5875\u001B[0m     keyarr, indexer, new_indexer \u001B[38;5;241m=\u001B[39m \u001B[38;5;28mself\u001B[39m\u001B[38;5;241m.\u001B[39m_reindex_non_unique(keyarr)\n\u001B[0;32m-> 5877\u001B[0m \u001B[38;5;28;43mself\u001B[39;49m\u001B[38;5;241;43m.\u001B[39;49m\u001B[43m_raise_if_missing\u001B[49m\u001B[43m(\u001B[49m\u001B[43mkeyarr\u001B[49m\u001B[43m,\u001B[49m\u001B[43m \u001B[49m\u001B[43mindexer\u001B[49m\u001B[43m,\u001B[49m\u001B[43m \u001B[49m\u001B[43maxis_name\u001B[49m\u001B[43m)\u001B[49m\n\u001B[1;32m   5879\u001B[0m keyarr \u001B[38;5;241m=\u001B[39m \u001B[38;5;28mself\u001B[39m\u001B[38;5;241m.\u001B[39mtake(indexer)\n\u001B[1;32m   5880\u001B[0m \u001B[38;5;28;01mif\u001B[39;00m \u001B[38;5;28misinstance\u001B[39m(key, Index):\n\u001B[1;32m   5881\u001B[0m     \u001B[38;5;66;03m# GH 42790 - Preserve name from an Index\u001B[39;00m\n",
      "File \u001B[0;32m~/anaconda3/envs/hl/lib/python3.8/site-packages/pandas/core/indexes/base.py:5941\u001B[0m, in \u001B[0;36mIndex._raise_if_missing\u001B[0;34m(self, key, indexer, axis_name)\u001B[0m\n\u001B[1;32m   5938\u001B[0m     \u001B[38;5;28;01mraise\u001B[39;00m \u001B[38;5;167;01mKeyError\u001B[39;00m(\u001B[38;5;124mf\u001B[39m\u001B[38;5;124m\"\u001B[39m\u001B[38;5;124mNone of [\u001B[39m\u001B[38;5;132;01m{\u001B[39;00mkey\u001B[38;5;132;01m}\u001B[39;00m\u001B[38;5;124m] are in the [\u001B[39m\u001B[38;5;132;01m{\u001B[39;00maxis_name\u001B[38;5;132;01m}\u001B[39;00m\u001B[38;5;124m]\u001B[39m\u001B[38;5;124m\"\u001B[39m)\n\u001B[1;32m   5940\u001B[0m not_found \u001B[38;5;241m=\u001B[39m \u001B[38;5;28mlist\u001B[39m(ensure_index(key)[missing_mask\u001B[38;5;241m.\u001B[39mnonzero()[\u001B[38;5;241m0\u001B[39m]]\u001B[38;5;241m.\u001B[39munique())\n\u001B[0;32m-> 5941\u001B[0m \u001B[38;5;28;01mraise\u001B[39;00m \u001B[38;5;167;01mKeyError\u001B[39;00m(\u001B[38;5;124mf\u001B[39m\u001B[38;5;124m\"\u001B[39m\u001B[38;5;132;01m{\u001B[39;00mnot_found\u001B[38;5;132;01m}\u001B[39;00m\u001B[38;5;124m not in index\u001B[39m\u001B[38;5;124m\"\u001B[39m)\n",
      "\u001B[0;31mKeyError\u001B[0m: \"['Gene Symbol'] not in index\""
     ]
    }
   ],
   "source": [
    "if requires_gene_mapping:\n",
    "    identifier_key = 'ID'\n",
    "    gene_symbol_key = 'Gene Symbol'\n",
    "    gene_mapping = get_gene_mapping(gene_annotation, identifier_key, gene_symbol_key)\n",
    "    genetic_data = apply_gene_mapping(genetic_data, gene_mapping)"
   ],
   "metadata": {
    "collapsed": false,
    "ExecuteTime": {
     "end_time": "2024-01-30T22:10:09.427280834Z",
     "start_time": "2024-01-30T22:10:08.229165078Z"
    }
   }
  },
  {
   "cell_type": "code",
   "execution_count": null,
   "outputs": [],
   "source": [
    "if NORMALIZE_GENE:\n",
    "    genetic_data = normalize_gene_symbols_in_index(genetic_data)"
   ],
   "metadata": {
    "collapsed": false,
    "ExecuteTime": {
     "start_time": "2024-01-30T22:10:09.427167884Z"
    }
   }
  },
  {
   "cell_type": "code",
   "execution_count": null,
   "outputs": [],
   "source": [
    "genetic_data"
   ],
   "metadata": {
    "collapsed": false
   }
  },
  {
   "cell_type": "code",
   "execution_count": null,
   "outputs": [],
   "source": [
    "merged_data = geo_merge_clinical_genetic_data(selected_clinical_data, genetic_data)\n",
    "# The preprocessing runs through, which means is_available should be True\n",
    "is_available = True"
   ],
   "metadata": {
    "collapsed": false
   }
  },
  {
   "cell_type": "code",
   "execution_count": null,
   "outputs": [],
   "source": [
    "print(f\"The merged dataset contains {len(merged_data)} samples.\")"
   ],
   "metadata": {
    "collapsed": false
   }
  },
  {
   "cell_type": "code",
   "execution_count": null,
   "outputs": [],
   "source": [
    "is_trait_biased, merged_data = judge_and_remove_biased_features(merged_data, TRAIT, trait_type=trait_type)\n",
    "is_trait_biased"
   ],
   "metadata": {
    "collapsed": false
   }
  },
  {
   "cell_type": "code",
   "execution_count": null,
   "outputs": [],
   "source": [
    "if is_available:\n",
    "    save_cohort_info(cohort, JSON_PATH, is_available, is_trait_biased, merged_data, note='')\n",
    "else:\n",
    "    save_cohort_info(cohort, JSON_PATH, is_available)"
   ],
   "metadata": {
    "collapsed": false
   }
  },
  {
   "cell_type": "code",
   "execution_count": null,
   "outputs": [],
   "source": [
    "merged_data.head()\n",
    "if not is_trait_biased:\n",
    "    merged_data.to_csv(os.path.join(OUTPUT_DIR, cohort + '.csv'), index=False)"
   ],
   "metadata": {
    "collapsed": false
   }
  },
  {
   "cell_type": "markdown",
   "source": [
    "### 3. Do regression & Cross Validation"
   ],
   "metadata": {
    "id": "-MTPhRGxJV7I",
    "ExecuteTime": {
     "end_time": "2023-12-31T03:58:22.271683755Z",
     "start_time": "2023-12-31T03:58:22.246557674Z"
    }
   },
   "outputs": [
    {
     "data": {
      "text/plain": "   cohort_id  is_usable  is_available is_biased has_age has_gender  \\\n0       Xena       True          True     False    True       True   \n3  GSE248830       True          True     False    True       True   \n\n   sample_size note  \n0       1215.0       \n3         38.0       ",
      "text/html": "<div>\n<style scoped>\n    .dataframe tbody tr th:only-of-type {\n        vertical-align: middle;\n    }\n\n    .dataframe tbody tr th {\n        vertical-align: top;\n    }\n\n    .dataframe thead th {\n        text-align: right;\n    }\n</style>\n<table border=\"1\" class=\"dataframe\">\n  <thead>\n    <tr style=\"text-align: right;\">\n      <th></th>\n      <th>cohort_id</th>\n      <th>is_usable</th>\n      <th>is_available</th>\n      <th>is_biased</th>\n      <th>has_age</th>\n      <th>has_gender</th>\n      <th>sample_size</th>\n      <th>note</th>\n    </tr>\n  </thead>\n  <tbody>\n    <tr>\n      <th>0</th>\n      <td>Xena</td>\n      <td>True</td>\n      <td>True</td>\n      <td>False</td>\n      <td>True</td>\n      <td>True</td>\n      <td>1215.0</td>\n      <td></td>\n    </tr>\n    <tr>\n      <th>3</th>\n      <td>GSE248830</td>\n      <td>True</td>\n      <td>True</td>\n      <td>False</td>\n      <td>True</td>\n      <td>True</td>\n      <td>38.0</td>\n      <td></td>\n    </tr>\n  </tbody>\n</table>\n</div>"
     },
     "execution_count": 48,
     "metadata": {},
     "output_type": "execute_result"
    }
   ],
   "execution_count": 48
  },
  {
   "cell_type": "code",
   "execution_count": null,
   "outputs": [],
   "source": [
    "# Check the information of usable cohorts\n",
    "best_cohort, ranked_df = filter_and_rank_cohorts(JSON_PATH)\n",
    "ranked_df"
   ],
   "metadata": {
    "collapsed": false
   }
  },
  {
   "cell_type": "code",
   "execution_count": null,
   "outputs": [],
   "source": [
    "# If both age and gender have available cohorts, select 'age' as the condition.\n",
    "condition = 'Age'\n",
    "filter_column = 'has_' + condition.lower()\n",
    "\n",
    "condition_best_cohort, condition_ranked_df = filter_and_rank_cohorts(JSON_PATH, filter_column)\n",
    "condition_best_cohort"
   ],
   "metadata": {
    "collapsed": false
   }
  },
  {
   "cell_type": "code",
   "execution_count": null,
   "outputs": [],
   "source": [
    "condition_ranked_df.head()"
   ],
   "metadata": {
    "collapsed": false
   }
  },
  {
   "cell_type": "code",
   "execution_count": null,
   "outputs": [],
   "source": [
    "merged_data = pd.read_csv(os.path.join(OUTPUT_DIR, condition_best_cohort + '.csv'))\n",
    "merged_data.head()"
   ],
   "metadata": {
    "collapsed": false
   }
  },
  {
   "cell_type": "code",
   "execution_count": null,
   "outputs": [],
   "source": [
    "# Remove the other condition to prevent interference.\n",
    "merged_data = merged_data.drop(columns=['Gender'], errors='ignore').astype('float')\n",
    "\n",
    "X = merged_data.drop(columns=[TRAIT, condition]).values\n",
    "Y = merged_data[TRAIT].values\n",
    "Z = merged_data[condition].values"
   ],
   "metadata": {
    "collapsed": false
   }
  },
  {
   "cell_type": "markdown",
   "source": [
    "Select the appropriate regression model depending on whether the dataset shows batch effect."
   ],
   "metadata": {
    "collapsed": false
   }
  },
  {
   "cell_type": "code",
   "execution_count": null,
   "outputs": [],
   "source": [
    "has_batch_effect = detect_batch_effect(X)\n",
    "has_batch_effect"
   ],
   "metadata": {
    "collapsed": false
   }
  },
  {
   "cell_type": "code",
   "execution_count": null,
   "outputs": [],
   "source": [
    "# Select appropriate models based on whether the dataset has batch effect.\n",
    "# We experiment on two models for each branch. We will decide which one to choose later.\n",
    "\n",
    "if has_batch_effect:\n",
    "    model_constructor1 = VariableSelection\n",
    "    model_params1 = {'modified': True, 'lamda': 3e-4}\n",
    "    model_constructor2 = VariableSelection\n",
    "    model_params2 = {'modified': False}\n",
    "else:\n",
    "    model_constructor1 = Lasso\n",
    "    model_params1 = {'alpha': 1.0, 'random_state': 42}\n",
    "    model_constructor2 = VariableSelection\n",
    "    model_params2 = {'modified': False}"
   ],
   "metadata": {
    "collapsed": false
   }
  },
  {
   "cell_type": "code",
   "execution_count": null,
   "outputs": [],
   "source": [
    "trait_type = 'binary'  # Remember to set this properly, either 'binary' or 'continuous'\n",
    "cv_mean1, cv_std1 = cross_validation(X, Y, Z, model_constructor1, model_params1, target_type=trait_type)"
   ],
   "metadata": {
    "collapsed": false
   }
  },
  {
   "cell_type": "code",
   "execution_count": null,
   "outputs": [],
   "source": [
    "cv_mean2, cv_std2 = cross_validation(X, Y, Z, model_constructor2, model_params2, target_type=trait_type)"
   ],
   "metadata": {
    "collapsed": false
   }
  },
  {
   "cell_type": "code",
   "execution_count": null,
   "outputs": [],
   "source": [
    "normalized_X, _ = normalize_data(X)\n",
    "normalized_Z, _ = normalize_data(Z)\n",
    "\n",
    "# Train regression model on the whole dataset to identify significant genes\n",
    "model1 = ResidualizationRegressor(model_constructor1, model_params1)\n",
    "model1.fit(normalized_X, Y, normalized_Z)\n",
    "\n",
    "model2 = ResidualizationRegressor(model_constructor2, model_params2)\n",
    "model2.fit(normalized_X, Y, normalized_Z)"
   ],
   "metadata": {
    "collapsed": false
   }
  },
  {
   "cell_type": "markdown",
   "source": [
    "### 4. Discussion and report"
   ],
   "metadata": {
    "id": "EjJrxbvb4nlj",
    "ExecuteTime": {
     "end_time": "2023-10-14T04:50:59.072075075Z",
     "start_time": "2023-10-14T04:50:38.739499998Z"
    }
   },
   "outputs": [
    {
     "name": "stderr",
     "output_type": "stream",
     "text": [
      "/tmp/ipykernel_27130/1949978799.py:15: RuntimeWarning: invalid value encountered in divide\n",
      "  X = (X - mean) / std\n",
      "/home/techt/anaconda3/envs/hl/lib/python3.8/site-packages/sparse_lmm/helpingMethods.py:49: RuntimeWarning: invalid value encountered in divide\n",
      "  ts = beta / np.sqrt(var * sigma)\n",
      "/home/techt/anaconda3/envs/hl/lib/python3.8/site-packages/sparse_lmm/VariableSelection.py:183: RuntimeWarning: divide by zero encountered in log\n",
      "  return -np.log(p), np.array(betas)\n"
     ]
    },
    {
     "name": "stdout",
     "output_type": "stream",
     "text": [
      "0.7813063496787521\n"
     ]
    }
   ],
   "execution_count": 13
  },
  {
   "cell_type": "code",
   "execution_count": null,
   "outputs": [],
   "source": [
    "feature_cols = merged_data.columns.tolist()\n",
    "feature_cols.remove(TRAIT)\n",
    "\n",
    "threshold = 0.05\n",
    "interpret_result(model1, feature_cols, TRAIT, condition, threshold=threshold, save_output=True,\n",
    "                 output_dir=OUTPUT_DIR, model_id=1)"
   ],
   "metadata": {
    "collapsed": false
   }
  },
  {
   "cell_type": "code",
   "execution_count": null,
   "outputs": [],
   "source": [
    "interpret_result(model2, feature_cols, TRAIT, condition, threshold=threshold, save_output=True,\n",
    "                 output_dir=OUTPUT_DIR, model_id=2)"
   ],
   "metadata": {
    "collapsed": false
   }
  },
  {
   "cell_type": "code",
   "execution_count": null,
   "outputs": [],
   "source": [],
   "metadata": {
    "collapsed": false
   }
  }
 ]
}
