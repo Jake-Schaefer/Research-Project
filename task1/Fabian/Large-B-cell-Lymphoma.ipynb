{
 "cells": [
  {
   "cell_type": "markdown",
   "metadata": {
    "collapsed": false
   },
   "source": [
    "# Gold standard curation: Preprocessing and single-step regression"
   ]
  },
  {
   "cell_type": "markdown",
   "metadata": {
    "collapsed": false
   },
   "source": [
    "In this stage of gold standard curation, we will do the data preprocessing, selection, and single-step regression for the 153 traits in our question set. This file shows the reference steps using the trait \"Breast Cancer\" as an example. The workflow consists of the following steps:\n",
    "\n",
    "1. Preprocess all the cohorts related to this trait. Each cohort should be converted to a tabular form and saved to a csv file, with columns being genetic factors, the trait, and age, gender if available;\n",
    "2. If there exists at least one cohort with age or gender information, conduct regression analysis with genetic features together with age or gender as the regressors.\n"
   ]
  },
  {
   "cell_type": "markdown",
   "metadata": {
    "collapsed": false
   },
   "source": [
    "# 1. Basic setup"
   ]
  },
  {
   "cell_type": "code",
   "execution_count": 1,
   "metadata": {
    "ExecuteTime": {
     "end_time": "2024-01-30T22:44:23.810900373Z",
     "start_time": "2024-01-30T22:44:23.761125805Z"
    },
    "collapsed": false
   },
   "outputs": [],
   "source": [
    "import os\n",
    "import sys\n",
    "\n",
    "sys.path.append('..')\n",
    "from utils import *\n",
    "\n",
    "# Set your preferred name\n",
    "USER = \"Fabian\"\n",
    "# Set the data and output directories\n",
    "DATA_ROOT = '/Users/fabianmartinez/Desktop/DATA/TAIS_2024SP' \n",
    "OUTPUT_ROOT = '../../output1'\n",
    "TRAIT = 'Large B-cell Lymphoma'\n",
    "\n",
    "OUTPUT_DIR = os.path.join(OUTPUT_ROOT, USER, '-'.join(TRAIT.split()))\n",
    "JSON_PATH = os.path.join(OUTPUT_DIR, \"cohort_info.json\")\n",
    "if not os.path.exists(OUTPUT_DIR):\n",
    "    os.makedirs(OUTPUT_DIR, exist_ok=True)\n",
    "\n",
    "# Gene symbol normalization may take 1-2 minutes. You may set it to False for debugging.\n",
    "NORMALIZE_GENE = True"
   ]
  },
  {
   "cell_type": "code",
   "execution_count": 2,
   "metadata": {
    "ExecuteTime": {
     "end_time": "2024-01-30T22:44:24.134541466Z",
     "start_time": "2024-01-30T22:44:24.124917651Z"
    },
    "colab": {
     "base_uri": "https://localhost:8080/"
    },
    "id": "jMTdsU43vVg3",
    "outputId": "38886111-f442-44b4-8398-96bf384d7abd"
   },
   "outputs": [
    {
     "data": {
      "text/plain": [
       "\"import os\\nfrom google.colab import drive\\n\\ndrive.mount('/content/drive', force_remount=True)\\nproj_dir = '/content/drive/MyDrive/AI4Science_Public'\\nos.chdir(proj_dir)\""
      ]
     },
     "execution_count": 2,
     "metadata": {},
     "output_type": "execute_result"
    }
   ],
   "source": [
    "# This cell is only for use on Google Colab. Skip it if you run your code in other environments\n",
    "\n",
    "\"\"\"import os\n",
    "from google.colab import drive\n",
    "\n",
    "drive.mount('/content/drive', force_remount=True)\n",
    "proj_dir = '/content/drive/MyDrive/AI4Science_Public'\n",
    "os.chdir(proj_dir)\"\"\""
   ]
  },
  {
   "cell_type": "markdown",
   "metadata": {
    "collapsed": false
   },
   "source": [
    "# 2. Data preprocessing and selection"
   ]
  },
  {
   "cell_type": "markdown",
   "metadata": {
    "collapsed": false
   },
   "source": [
    "## 2.1. The TCGA Xena dataset"
   ]
  },
  {
   "cell_type": "markdown",
   "metadata": {
    "collapsed": false
   },
   "source": [
    "In TCGA Xena, there is either zero or one cohort related to the trait. We search the names of subdirectories to see if any matches the trait. If a match is found, we directly obtain the file paths."
   ]
  },
  {
   "cell_type": "code",
   "execution_count": 3,
   "metadata": {
    "ExecuteTime": {
     "end_time": "2024-01-30T22:44:25.711385707Z",
     "start_time": "2024-01-30T22:44:25.700379554Z"
    },
    "collapsed": false
   },
   "outputs": [
    {
     "data": {
      "text/plain": [
       "['TCGA_Colon_and_Rectal_Cancer_(COADREAD)',\n",
       " 'TCGA_Ocular_melanomas_(UVM)',\n",
       " 'TCGA_Lower_Grade_Glioma_(LGG)',\n",
       " 'CrawlData.ipynb',\n",
       " 'TCGA_Mesothelioma_(MESO)',\n",
       " 'TCGA_Pancreatic_Cancer_(PAAD)',\n",
       " 'TCGA_Bladder_Cancer_(BLCA)',\n",
       " '.DS_Store',\n",
       " 'TCGA_Kidney_Clear_Cell_Carcinoma_(KIRC)',\n",
       " 'TCGA_Head_and_Neck_Cancer_(HNSC)',\n",
       " 'TCGA_Lung_Cancer_(LUNG)',\n",
       " 'TCGA_Ovarian_Cancer_(OV)',\n",
       " 'TCGA_Testicular_Cancer_(TGCT)',\n",
       " 'TCGA_lower_grade_glioma_and_glioblastoma_(GBMLGG)',\n",
       " 'TCGA_Liver_Cancer_(LIHC)',\n",
       " 'TCGA_Uterine_Carcinosarcoma_(UCS)',\n",
       " 'TCGA_Cervical_Cancer_(CESC)',\n",
       " 'TCGA_Colon_Cancer_(COAD)',\n",
       " 'TCGA_Acute_Myeloid_Leukemia_(LAML)',\n",
       " 'TCGA_Kidney_Papillary_Cell_Carcinoma_(KIRP)',\n",
       " 'TCGA_Endometrioid_Cancer_(UCEC)',\n",
       " 'TCGA_Rectal_Cancer_(READ)',\n",
       " 'TCGA_Melanoma_(SKCM)',\n",
       " 'TCGA_Breast_Cancer_(BRCA)',\n",
       " 'TCGA_Prostate_Cancer_(PRAD)',\n",
       " 'TCGA_Lung_Squamous_Cell_Carcinoma_(LUSC)',\n",
       " 'TCGA_Stomach_Cancer_(STAD)',\n",
       " 'TCGA_Large_Bcell_Lymphoma_(DLBC)',\n",
       " 'TCGA_Thyroid_Cancer_(THCA)',\n",
       " 'TCGA_Glioblastoma_(GBM)',\n",
       " 'TCGA_Kidney_Chromophobe_(KICH)',\n",
       " 'TCGA_Sarcoma_(SARC)',\n",
       " 'TCGA_Lung_Adenocarcinoma_(LUAD)',\n",
       " 'TCGA_Esophageal_Cancer_(ESCA)',\n",
       " 'TCGA_Bile_Duct_Cancer_(CHOL)',\n",
       " 'TCGA_Thymoma_(THYM)',\n",
       " 'TCGA_Pheochromocytoma_Paraganglioma_(PCPG)',\n",
       " 'TCGA_Adrenocortical_Cancer_(ACC)']"
      ]
     },
     "execution_count": 3,
     "metadata": {},
     "output_type": "execute_result"
    }
   ],
   "source": [
    "dataset = 'TCGA'\n",
    "dataset_dir = os.path.join(DATA_ROOT, dataset)\n",
    "os.listdir(dataset_dir)"
   ]
  },
  {
   "cell_type": "markdown",
   "metadata": {
    "collapsed": false
   },
   "source": [
    "If no match is found, jump directly to GEO in Part 2.2"
   ]
  },
  {
   "cell_type": "code",
   "execution_count": 5,
   "metadata": {
    "ExecuteTime": {
     "end_time": "2024-01-30T22:44:28.445216050Z",
     "start_time": "2024-01-30T22:44:28.443020145Z"
    },
    "collapsed": false
   },
   "outputs": [],
   "source": [
    "trait_subdir = \"TCGA_Large_Bcell_Lymphoma_(DLBC)\"\n",
    "cohort = 'Xena'\n",
    "# All the cancer traits in Xena are binary\n",
    "trait_type = 'binary'\n",
    "# Once a relevant cohort is found in Xena, we can generally assume the gene and clinical data are available\n",
    "is_available = True\n",
    "\n",
    "cohort_dir = os.path.join(dataset_dir, trait_subdir)\n",
    "clinical_data_file, genetic_data_file = xena_get_relevant_filepaths(cohort_dir)"
   ]
  },
  {
   "cell_type": "code",
   "execution_count": 6,
   "metadata": {
    "ExecuteTime": {
     "end_time": "2024-01-30T22:45:19.344668975Z",
     "start_time": "2024-01-30T22:45:19.173809828Z"
    },
    "id": "MudwB-_iz7sc"
   },
   "outputs": [],
   "source": [
    "import pandas as pd\n",
    "\n",
    "clinical_data = pd.read_csv(clinical_data_file, sep='\\t', index_col=0)\n",
    "genetic_data = pd.read_csv(genetic_data_file, compression='gzip', sep='\\t', index_col=0)\n",
    "age_col = gender_col = None"
   ]
  },
  {
   "cell_type": "code",
   "execution_count": 7,
   "metadata": {
    "ExecuteTime": {
     "end_time": "2024-01-30T22:44:31.038733891Z",
     "start_time": "2024-01-30T22:44:31.028996192Z"
    },
    "collapsed": false
   },
   "outputs": [
    {
     "data": {
      "text/plain": [
       "['_INTEGRATION',\n",
       " '_PATIENT',\n",
       " '_cohort',\n",
       " '_primary_disease',\n",
       " '_primary_site',\n",
       " 'age_at_initial_pathologic_diagnosis',\n",
       " 'b_lymphocyte_genotyping_method',\n",
       " 'bcr_followup_barcode',\n",
       " 'bcr_patient_barcode',\n",
       " 'bcr_sample_barcode']"
      ]
     },
     "execution_count": 7,
     "metadata": {},
     "output_type": "execute_result"
    }
   ],
   "source": [
    "_, clinical_data_cols = check_rows_and_columns(clinical_data)\n",
    "clinical_data_cols[:10]"
   ]
  },
  {
   "cell_type": "markdown",
   "metadata": {
    "ExecuteTime": {
     "end_time": "2023-12-28T20:20:11.841042813Z",
     "start_time": "2023-12-28T20:20:11.834458206Z"
    },
    "collapsed": false
   },
   "source": [
    "Read all the column names in the clinical dataset, to find the columns that record information about age or gender.\n",
    "Reference prompt:"
   ]
  },
  {
   "cell_type": "code",
   "execution_count": 8,
   "metadata": {
    "ExecuteTime": {
     "end_time": "2024-01-30T22:44:32.300190409Z",
     "start_time": "2024-01-30T22:44:32.292144375Z"
    },
    "collapsed": false
   },
   "outputs": [
    {
     "data": {
      "text/plain": [
       "\"\\nBelow is a list of column names from a biomedical dataset. Please examine it and identify the columns that are likely to contain information about patients' age. Additionally, please do the same for columns that may hold data on patients' gender. Please provide your answer by strictly following this format, without redundant words:\\ncandidate_age_cols = [col_name1, col_name2, ...]\\ncandidate_gender_cols = [col_name1, col_name2, ...]\\nIf no columns match a criterion, please provide an empty list.\\n\\nColumn names:\\n['_INTEGRATION', '_PATIENT', '_cohort', '_primary_disease', '_primary_site', 'age_at_initial_pathologic_diagnosis', 'b_lymphocyte_genotyping_method', 'bcr_followup_barcode', 'bcr_patient_barcode', 'bcr_sample_barcode', 'bone_marrow_biopsy_done', 'bone_marrow_involvement', 'bone_marrow_sample_histology', 'clinical_stage', 'days_to_birth', 'days_to_collection', 'days_to_death', 'days_to_initial_pathologic_diagnosis', 'days_to_last_followup', 'days_to_new_tumor_event_after_initial_treatment', 'eastern_cancer_oncology_group', 'ebv_positive_malignant_cells_percent', 'ebv_status_malignant_cells_method', 'epstein_barr_viral_status', 'extranodal_involvement', 'extranodal_involvment_site_other', 'extranodal_sites_involvement_number', 'first_progression_histology_type', 'first_progression_histology_type_other', 'first_recurrence_biopsy_confirmed', 'follicular_percent', 'followup_case_report_form_submission_reason', 'followup_treatment_success', 'form_completion_date', 'gender', 'genetic_abnormality_method_other', 'genetic_abnormality_results', 'genetic_abnormality_results_other', 'genetic_abnormality_tested', 'genetic_abnormality_tested_other', 'height', 'histological_type', 'history_immunological_disease', 'history_immunological_disease_other', 'history_immunosuppresive_rx', 'history_immunosuppressive_rx_other', 'history_of_neoadjuvant_treatment', 'history_relevant_infectious_dx', 'hiv_status', 'icd_10', 'icd_o_3_histology', 'icd_o_3_site', 'igh_genotype_results', 'immunophenotypic_analysis_method', 'immunophenotypic_analysis_results', 'immunophenotypic_analysis_tested', 'informed_consent_verified', 'initial_weight', 'intermediate_dimension', 'is_ffpe', 'ldh_level', 'ldh_norm_range_upper', 'longest_dimension', 'lost_follow_up', 'lymph_node_involvement_site', 'maximum_tumor_bulk_anatomic_site', 'maximum_tumor_dimension', 'mib1_positive_percentage_range', 'new_neoplasm_event_occurrence_anatomic_site', 'new_neoplasm_occurrence_anatomic_site_text', 'new_tumor_event_after_initial_treatment', 'oct_embedded', 'other_dx', 'pathology_report_file_name', 'patient_id', 'person_neoplasm_cancer_status', 'pet_scan_results', 'primary_therapy_outcome_success', 'radiation_therapy', 'sample_type', 'sample_type_id', 'shortest_dimension', 'system_version', 'targeted_molecular_therapy', 'tissue_prospective_collection_indicator', 'tissue_retrospective_collection_indicator', 'tissue_source_site', 'tumor_tissue_site', 'vial_number', 'vital_status', 'weight', 'year_of_initial_pathologic_diagnosis', '_GENOMIC_ID_TCGA_DLBC_exp_HiSeqV2', '_GENOMIC_ID_TCGA_DLBC_exp_HiSeqV2_exon', '_GENOMIC_ID_TCGA_DLBC_PDMRNAseq', '_GENOMIC_ID_TCGA_DLBC_hMethyl450', '_GENOMIC_ID_TCGA_DLBC_miRNA_HiSeq', '_GENOMIC_ID_TCGA_DLBC_gistic2thd', '_GENOMIC_ID_TCGA_DLBC_PDMRNAseqCNV', '_GENOMIC_ID_data/public/TCGA/DLBC/miRNA_HiSeq_gene', '_GENOMIC_ID_TCGA_DLBC_gistic2', '_GENOMIC_ID_TCGA_DLBC_mutation_bcm_gene', '_GENOMIC_ID_TCGA_DLBC_exp_HiSeqV2_percentile', '_GENOMIC_ID_TCGA_DLBC_RPPA', '_GENOMIC_ID_TCGA_DLBC_exp_HiSeqV2_PANCAN']\\n\""
      ]
     },
     "execution_count": 8,
     "metadata": {},
     "output_type": "execute_result"
    }
   ],
   "source": [
    "f'''\n",
    "Below is a list of column names from a biomedical dataset. Please examine it and identify the columns that are likely to contain information about patients' age. Additionally, please do the same for columns that may hold data on patients' gender. Please provide your answer by strictly following this format, without redundant words:\n",
    "candidate_age_cols = [col_name1, col_name2, ...]\n",
    "candidate_gender_cols = [col_name1, col_name2, ...]\n",
    "If no columns match a criterion, please provide an empty list.\n",
    "\n",
    "Column names:\n",
    "{clinical_data_cols}\n",
    "'''"
   ]
  },
  {
   "cell_type": "code",
   "execution_count": 9,
   "metadata": {
    "ExecuteTime": {
     "end_time": "2024-01-30T22:44:32.813361560Z",
     "start_time": "2024-01-30T22:44:32.798101516Z"
    },
    "collapsed": false
   },
   "outputs": [],
   "source": [
    "candidate_age_cols = ['age_at_initial_pathologic_diagnosis', 'days_to_birth']\n",
    "candidate_gender_cols = ['gender']"
   ]
  },
  {
   "cell_type": "markdown",
   "metadata": {
    "ExecuteTime": {
     "end_time": "2023-12-31T03:57:44.207565572Z",
     "start_time": "2023-12-31T03:57:44.202177544Z"
    },
    "collapsed": false
   },
   "source": [
    "Choose a single column from the candidate columns that record age and gender information respectively.\n",
    "If no column meets the requirement, keep 'age_col' or 'gender_col' to None"
   ]
  },
  {
   "cell_type": "code",
   "execution_count": 10,
   "metadata": {
    "ExecuteTime": {
     "end_time": "2024-01-30T22:44:33.675478853Z",
     "start_time": "2024-01-30T22:44:33.670110098Z"
    },
    "collapsed": false
   },
   "outputs": [
    {
     "data": {
      "text/plain": [
       "{'age_at_initial_pathologic_diagnosis': [75, 67, 40, 73, 58],\n",
       " 'days_to_birth': [-27468, -24590, -14723, -27025, -21330]}"
      ]
     },
     "execution_count": 10,
     "metadata": {},
     "output_type": "execute_result"
    }
   ],
   "source": [
    "preview_df(clinical_data[candidate_age_cols])"
   ]
  },
  {
   "cell_type": "code",
   "execution_count": 11,
   "metadata": {
    "ExecuteTime": {
     "end_time": "2024-01-30T22:44:34.561110847Z",
     "start_time": "2024-01-30T22:44:34.547107723Z"
    },
    "collapsed": false
   },
   "outputs": [],
   "source": [
    "age_col = 'age_at_initial_pathologic_diagnosis'"
   ]
  },
  {
   "cell_type": "code",
   "execution_count": 12,
   "metadata": {
    "ExecuteTime": {
     "end_time": "2024-01-30T22:44:34.838151175Z",
     "start_time": "2024-01-30T22:44:34.829896767Z"
    },
    "collapsed": false
   },
   "outputs": [
    {
     "data": {
      "text/plain": [
       "{'gender': ['MALE', 'MALE', 'MALE', 'MALE', 'FEMALE']}"
      ]
     },
     "execution_count": 12,
     "metadata": {},
     "output_type": "execute_result"
    }
   ],
   "source": [
    "preview_df(clinical_data[candidate_gender_cols])"
   ]
  },
  {
   "cell_type": "code",
   "execution_count": 13,
   "metadata": {
    "ExecuteTime": {
     "end_time": "2024-01-30T22:44:35.108801403Z",
     "start_time": "2024-01-30T22:44:35.100851845Z"
    },
    "collapsed": false
   },
   "outputs": [],
   "source": [
    "gender_col = 'gender'"
   ]
  },
  {
   "cell_type": "code",
   "execution_count": 14,
   "metadata": {
    "ExecuteTime": {
     "end_time": "2024-01-30T22:09:18.332543994Z",
     "start_time": "2024-01-30T22:09:18.328355464Z"
    },
    "collapsed": false
   },
   "outputs": [],
   "source": [
    "selected_clinical_data = xena_select_clinical_features(clinical_data, TRAIT, age_col=age_col, gender_col=gender_col)"
   ]
  },
  {
   "cell_type": "code",
   "execution_count": 15,
   "metadata": {
    "ExecuteTime": {
     "end_time": "2024-01-30T22:10:07.979570504Z",
     "start_time": "2024-01-30T22:09:18.619391971Z"
    },
    "collapsed": false
   },
   "outputs": [],
   "source": [
    "if NORMALIZE_GENE:\n",
    "    genetic_data = normalize_gene_symbols_in_index(genetic_data)"
   ]
  },
  {
   "cell_type": "code",
   "execution_count": 16,
   "metadata": {
    "ExecuteTime": {
     "end_time": "2024-01-30T22:10:08.012414735Z",
     "start_time": "2024-01-30T22:10:07.986702838Z"
    },
    "collapsed": false
   },
   "outputs": [
    {
     "data": {
      "text/html": [
       "<div>\n",
       "<style scoped>\n",
       "    .dataframe tbody tr th:only-of-type {\n",
       "        vertical-align: middle;\n",
       "    }\n",
       "\n",
       "    .dataframe tbody tr th {\n",
       "        vertical-align: top;\n",
       "    }\n",
       "\n",
       "    .dataframe thead th {\n",
       "        text-align: right;\n",
       "    }\n",
       "</style>\n",
       "<table border=\"1\" class=\"dataframe\">\n",
       "  <thead>\n",
       "    <tr style=\"text-align: right;\">\n",
       "      <th></th>\n",
       "      <th>Large B-cell Lymphoma</th>\n",
       "      <th>Age</th>\n",
       "      <th>Gender</th>\n",
       "      <th>ARHGEF10L</th>\n",
       "      <th>HIF3A</th>\n",
       "      <th>RNF17</th>\n",
       "      <th>RNF10</th>\n",
       "      <th>RNF11</th>\n",
       "      <th>RNF13</th>\n",
       "      <th>GTF2IP1</th>\n",
       "      <th>...</th>\n",
       "      <th>SLC7A10</th>\n",
       "      <th>PLA2G2C</th>\n",
       "      <th>TULP2</th>\n",
       "      <th>NPY5R</th>\n",
       "      <th>GNGT2</th>\n",
       "      <th>GNGT1</th>\n",
       "      <th>TULP3</th>\n",
       "      <th>BCL6B</th>\n",
       "      <th>GSTK1</th>\n",
       "      <th>SELP</th>\n",
       "    </tr>\n",
       "    <tr>\n",
       "      <th>sampleID</th>\n",
       "      <th></th>\n",
       "      <th></th>\n",
       "      <th></th>\n",
       "      <th></th>\n",
       "      <th></th>\n",
       "      <th></th>\n",
       "      <th></th>\n",
       "      <th></th>\n",
       "      <th></th>\n",
       "      <th></th>\n",
       "      <th></th>\n",
       "      <th></th>\n",
       "      <th></th>\n",
       "      <th></th>\n",
       "      <th></th>\n",
       "      <th></th>\n",
       "      <th></th>\n",
       "      <th></th>\n",
       "      <th></th>\n",
       "      <th></th>\n",
       "      <th></th>\n",
       "    </tr>\n",
       "  </thead>\n",
       "  <tbody>\n",
       "    <tr>\n",
       "      <th>TCGA-FA-8693-01</th>\n",
       "      <td>1</td>\n",
       "      <td>75</td>\n",
       "      <td>1</td>\n",
       "      <td>-0.016192</td>\n",
       "      <td>-4.254026</td>\n",
       "      <td>-0.531035</td>\n",
       "      <td>-0.309572</td>\n",
       "      <td>-1.605778</td>\n",
       "      <td>0.31609</td>\n",
       "      <td>-1.112794</td>\n",
       "      <td>...</td>\n",
       "      <td>-2.090786</td>\n",
       "      <td>0.486518</td>\n",
       "      <td>-0.748878</td>\n",
       "      <td>-1.587117</td>\n",
       "      <td>4.630667</td>\n",
       "      <td>-1.28139</td>\n",
       "      <td>-2.739077</td>\n",
       "      <td>-0.758427</td>\n",
       "      <td>1.338005</td>\n",
       "      <td>2.226867</td>\n",
       "    </tr>\n",
       "    <tr>\n",
       "      <th>TCGA-FA-A4BB-01</th>\n",
       "      <td>1</td>\n",
       "      <td>67</td>\n",
       "      <td>1</td>\n",
       "      <td>-0.649392</td>\n",
       "      <td>-0.784126</td>\n",
       "      <td>-0.531035</td>\n",
       "      <td>-0.116472</td>\n",
       "      <td>-1.052078</td>\n",
       "      <td>-0.07741</td>\n",
       "      <td>-0.430994</td>\n",
       "      <td>...</td>\n",
       "      <td>0.127114</td>\n",
       "      <td>-0.086682</td>\n",
       "      <td>0.042322</td>\n",
       "      <td>1.466783</td>\n",
       "      <td>3.208567</td>\n",
       "      <td>-1.28139</td>\n",
       "      <td>-1.449877</td>\n",
       "      <td>-0.970927</td>\n",
       "      <td>0.541605</td>\n",
       "      <td>2.017767</td>\n",
       "    </tr>\n",
       "    <tr>\n",
       "      <th>TCGA-FA-A4XK-01</th>\n",
       "      <td>1</td>\n",
       "      <td>40</td>\n",
       "      <td>1</td>\n",
       "      <td>-1.168292</td>\n",
       "      <td>-2.833526</td>\n",
       "      <td>-0.531035</td>\n",
       "      <td>0.521528</td>\n",
       "      <td>-1.519678</td>\n",
       "      <td>-0.94711</td>\n",
       "      <td>-0.935594</td>\n",
       "      <td>...</td>\n",
       "      <td>-2.090786</td>\n",
       "      <td>1.371818</td>\n",
       "      <td>-0.316278</td>\n",
       "      <td>-1.154517</td>\n",
       "      <td>2.361867</td>\n",
       "      <td>-1.28139</td>\n",
       "      <td>-1.479277</td>\n",
       "      <td>0.767273</td>\n",
       "      <td>0.701205</td>\n",
       "      <td>-1.022333</td>\n",
       "    </tr>\n",
       "    <tr>\n",
       "      <th>TCGA-FA-A6HN-01</th>\n",
       "      <td>1</td>\n",
       "      <td>73</td>\n",
       "      <td>1</td>\n",
       "      <td>-0.836392</td>\n",
       "      <td>0.240874</td>\n",
       "      <td>0.045665</td>\n",
       "      <td>-0.090072</td>\n",
       "      <td>-1.722578</td>\n",
       "      <td>-0.85351</td>\n",
       "      <td>-0.945494</td>\n",
       "      <td>...</td>\n",
       "      <td>-1.471986</td>\n",
       "      <td>-0.086682</td>\n",
       "      <td>-0.748878</td>\n",
       "      <td>-0.018817</td>\n",
       "      <td>2.804267</td>\n",
       "      <td>1.02051</td>\n",
       "      <td>-1.772477</td>\n",
       "      <td>-0.042427</td>\n",
       "      <td>0.800105</td>\n",
       "      <td>2.998367</td>\n",
       "    </tr>\n",
       "    <tr>\n",
       "      <th>TCGA-FA-A6HO-01</th>\n",
       "      <td>1</td>\n",
       "      <td>58</td>\n",
       "      <td>0</td>\n",
       "      <td>-0.596092</td>\n",
       "      <td>-0.265826</td>\n",
       "      <td>-0.531035</td>\n",
       "      <td>-0.082972</td>\n",
       "      <td>-1.472778</td>\n",
       "      <td>0.23509</td>\n",
       "      <td>0.129906</td>\n",
       "      <td>...</td>\n",
       "      <td>-2.090786</td>\n",
       "      <td>-0.086682</td>\n",
       "      <td>-0.266778</td>\n",
       "      <td>0.725683</td>\n",
       "      <td>3.218567</td>\n",
       "      <td>-1.28139</td>\n",
       "      <td>-1.658377</td>\n",
       "      <td>-1.318127</td>\n",
       "      <td>1.176405</td>\n",
       "      <td>1.092467</td>\n",
       "    </tr>\n",
       "  </tbody>\n",
       "</table>\n",
       "<p>5 rows × 17342 columns</p>\n",
       "</div>"
      ],
      "text/plain": [
       "                 Large B-cell Lymphoma  Age  Gender  ARHGEF10L     HIF3A  \\\n",
       "sampleID                                                                   \n",
       "TCGA-FA-8693-01                      1   75       1  -0.016192 -4.254026   \n",
       "TCGA-FA-A4BB-01                      1   67       1  -0.649392 -0.784126   \n",
       "TCGA-FA-A4XK-01                      1   40       1  -1.168292 -2.833526   \n",
       "TCGA-FA-A6HN-01                      1   73       1  -0.836392  0.240874   \n",
       "TCGA-FA-A6HO-01                      1   58       0  -0.596092 -0.265826   \n",
       "\n",
       "                    RNF17     RNF10     RNF11    RNF13   GTF2IP1  ...  \\\n",
       "sampleID                                                          ...   \n",
       "TCGA-FA-8693-01 -0.531035 -0.309572 -1.605778  0.31609 -1.112794  ...   \n",
       "TCGA-FA-A4BB-01 -0.531035 -0.116472 -1.052078 -0.07741 -0.430994  ...   \n",
       "TCGA-FA-A4XK-01 -0.531035  0.521528 -1.519678 -0.94711 -0.935594  ...   \n",
       "TCGA-FA-A6HN-01  0.045665 -0.090072 -1.722578 -0.85351 -0.945494  ...   \n",
       "TCGA-FA-A6HO-01 -0.531035 -0.082972 -1.472778  0.23509  0.129906  ...   \n",
       "\n",
       "                  SLC7A10   PLA2G2C     TULP2     NPY5R     GNGT2    GNGT1  \\\n",
       "sampleID                                                                     \n",
       "TCGA-FA-8693-01 -2.090786  0.486518 -0.748878 -1.587117  4.630667 -1.28139   \n",
       "TCGA-FA-A4BB-01  0.127114 -0.086682  0.042322  1.466783  3.208567 -1.28139   \n",
       "TCGA-FA-A4XK-01 -2.090786  1.371818 -0.316278 -1.154517  2.361867 -1.28139   \n",
       "TCGA-FA-A6HN-01 -1.471986 -0.086682 -0.748878 -0.018817  2.804267  1.02051   \n",
       "TCGA-FA-A6HO-01 -2.090786 -0.086682 -0.266778  0.725683  3.218567 -1.28139   \n",
       "\n",
       "                    TULP3     BCL6B     GSTK1      SELP  \n",
       "sampleID                                                 \n",
       "TCGA-FA-8693-01 -2.739077 -0.758427  1.338005  2.226867  \n",
       "TCGA-FA-A4BB-01 -1.449877 -0.970927  0.541605  2.017767  \n",
       "TCGA-FA-A4XK-01 -1.479277  0.767273  0.701205 -1.022333  \n",
       "TCGA-FA-A6HN-01 -1.772477 -0.042427  0.800105  2.998367  \n",
       "TCGA-FA-A6HO-01 -1.658377 -1.318127  1.176405  1.092467  \n",
       "\n",
       "[5 rows x 17342 columns]"
      ]
     },
     "execution_count": 16,
     "metadata": {},
     "output_type": "execute_result"
    }
   ],
   "source": [
    "merged_data = selected_clinical_data.join(genetic_data.T).dropna()\n",
    "merged_data.head()"
   ]
  },
  {
   "cell_type": "code",
   "execution_count": 17,
   "metadata": {
    "ExecuteTime": {
     "end_time": "2024-01-30T22:10:08.020981118Z",
     "start_time": "2024-01-30T22:10:08.016923641Z"
    },
    "collapsed": false
   },
   "outputs": [
    {
     "name": "stdout",
     "output_type": "stream",
     "text": [
      "The merged dataset contains 48 samples.\n",
      "For the feature 'Large B-cell Lymphoma', the least common label is '1' with 48 occurrences. This represents 100.00% of the dataset.\n",
      "The distribution of the feature 'Large B-cell Lymphoma' in this dataset is severely biased.\n",
      "\n",
      "Quartiles for 'Age':\n",
      "  25%: 46.0\n",
      "  50% (Median): 57.5\n",
      "  75%: 67.0\n",
      "Min: 23\n",
      "Max: 82\n",
      "The distribution of the feature 'Age' in this dataset is fine.\n",
      "\n",
      "For the feature 'Gender', the least common label is '1' with 22 occurrences. This represents 45.83% of the dataset.\n",
      "The distribution of the feature 'Gender' in this dataset is fine.\n",
      "\n"
     ]
    },
    {
     "data": {
      "text/plain": [
       "True"
      ]
     },
     "execution_count": 17,
     "metadata": {},
     "output_type": "execute_result"
    }
   ],
   "source": [
    "print(f\"The merged dataset contains {len(merged_data)} samples.\")\n",
    "is_trait_biased, merge_data = judge_and_remove_biased_features(merged_data, TRAIT, trait_type=trait_type)\n",
    "is_trait_biased"
   ]
  },
  {
   "cell_type": "code",
   "execution_count": 18,
   "metadata": {
    "ExecuteTime": {
     "end_time": "2024-01-30T22:10:08.141568004Z",
     "start_time": "2024-01-30T22:10:08.021201729Z"
    },
    "collapsed": false
   },
   "outputs": [],
   "source": [
    "merged_data.head()\n",
    "if not is_trait_biased:\n",
    "    merge_data.to_csv(os.path.join(OUTPUT_DIR, cohort + '.csv'), index=False)"
   ]
  },
  {
   "cell_type": "code",
   "execution_count": 19,
   "metadata": {
    "ExecuteTime": {
     "end_time": "2024-01-30T22:10:08.141832116Z",
     "start_time": "2024-01-30T22:10:08.070721968Z"
    },
    "collapsed": false
   },
   "outputs": [
    {
     "name": "stdout",
     "output_type": "stream",
     "text": [
      "A new JSON file was created at: ../../output1/Fabian/Large-B-cell-Lymphoma/cohort_info.json\n"
     ]
    }
   ],
   "source": [
    "save_cohort_info(cohort, JSON_PATH, is_available, is_trait_biased, merged_data)"
   ]
  },
  {
   "cell_type": "markdown",
   "metadata": {
    "ExecuteTime": {
     "end_time": "2023-12-28T21:28:38.028916303Z",
     "start_time": "2023-12-28T21:28:38.016245426Z"
    },
    "collapsed": false
   },
   "source": [
    "## 2.2. The GEO dataset"
   ]
  },
  {
   "cell_type": "markdown",
   "metadata": {
    "ExecuteTime": {
     "end_time": "2023-12-31T03:25:23.253882615Z",
     "start_time": "2023-12-31T03:25:23.244062710Z"
    },
    "collapsed": false
   },
   "source": [
    "In GEO, there may be one or multiple cohorts for a trait. Each cohort is identified by an accession number. We iterate over all accession numbers in the corresponding subdirectory, preprocess the cohort data, and save them to csv files."
   ]
  },
  {
   "cell_type": "code",
   "execution_count": 19,
   "metadata": {
    "ExecuteTime": {
     "end_time": "2024-01-30T22:10:08.142580780Z",
     "start_time": "2024-01-30T22:10:08.070817747Z"
    },
    "collapsed": false
   },
   "outputs": [
    {
     "data": {
      "text/plain": [
       "['GSE156309', 'GSE173263', 'GSE182362', 'GSE184212', 'GSE197977']"
      ]
     },
     "execution_count": 19,
     "metadata": {},
     "output_type": "execute_result"
    }
   ],
   "source": [
    "dataset = 'GEO'\n",
    "trait_subdir = \"Large-B-cell-Lymphoma\"\n",
    "\n",
    "trait_path = os.path.join(DATA_ROOT, dataset, trait_subdir)\n",
    "os.listdir(trait_path)"
   ]
  },
  {
   "cell_type": "markdown",
   "metadata": {
    "ExecuteTime": {
     "end_time": "2023-12-31T03:39:42.634870142Z",
     "start_time": "2023-12-31T03:39:42.534093295Z"
    },
    "collapsed": false
   },
   "source": [
    "Repeat the below steps for all the accession numbers"
   ]
  },
  {
   "cell_type": "code",
   "execution_count": 20,
   "metadata": {
    "ExecuteTime": {
     "end_time": "2024-01-30T22:10:08.142732273Z",
     "start_time": "2024-01-30T22:10:08.112900884Z"
    },
    "collapsed": false
   },
   "outputs": [
    {
     "data": {
      "text/plain": [
       "('/media/techt/DATA/GEO/Large-B-cell-Lymphoma/GSE197977/GSE197977_family.soft.gz',\n",
       " '/media/techt/DATA/GEO/Large-B-cell-Lymphoma/GSE197977/GSE197977_series_matrix.txt.gz')"
      ]
     },
     "execution_count": 20,
     "metadata": {},
     "output_type": "execute_result"
    }
   ],
   "source": [
    "cohort = accession_num = \"GSE197977\"\n",
    "cohort_dir = os.path.join(trait_path, accession_num)\n",
    "soft_file, matrix_file = geo_get_relevant_filepaths(cohort_dir)\n",
    "soft_file, matrix_file"
   ]
  },
  {
   "cell_type": "markdown",
   "metadata": {
    "collapsed": false
   },
   "source": [
    "### Initial filtering and clinical data preprocessing"
   ]
  },
  {
   "cell_type": "code",
   "execution_count": 21,
   "metadata": {
    "ExecuteTime": {
     "end_time": "2024-01-30T22:10:08.142852476Z",
     "start_time": "2024-01-30T22:10:08.112952009Z"
    },
    "collapsed": false
   },
   "outputs": [
    {
     "name": "stdout",
     "output_type": "stream",
     "text": [
      "!Series_title\t\"Tumour immune contexture is a determinant of anti-CD19 CAR T-cell efficacy in large B cell lymphoma\"\n",
      "!Series_summary\t\"Axicabtagene ciloleucel (axi-cel), an anti-CD19 chimeric antigen receptor (CAR) T-cell therapy approved for treatment of relapsed/refractory large B-cell lymphoma (LBCL), has comparable efficacy across conventional LBCL markers. We analysed whether pre- and posttreatment  tumour immune contexture determines clinical outcomes for axi cel–treated patients in the ZUMA-1 pivotal study. Longitudinal evaluation of the tumour microenvironment (TME) uncovered dynamic patterns that occurred rapidly after axi-cel (within 2 weeks) in responders—pronounced enhancement of T- and myeloid cell signatures and diminution of B cell signature. Clinical response and overall survival associated with high CD8+ T-cell density (Immunoscore) and immune gene expression (Immunosign21) in TME pretreatment, which was paralleled by blood CAR T-cell levels posttreatment. High density of regulatory T cells in TME pretreatment associated with reduced axi-cel–related neurologic toxicity. At relapse, the TME evolved toward an immune-detrimental contexture with decreased T-cell–related and increased counterregulatory immune signatures and B cell lineage antigens. A TME rich in T-cell attractive chemokines (CCL5, CCL22), gamma-chain receptor cytokines (IL-15, IL-7, IL-21), and interferon regulated molecules associated with T-cell infiltration and markers of activity, a result validated in 2 independent datasets totalling ≈300 LBCL samples.\"\n",
      "!Series_summary\t\"These findings advance mechanistic understanding of CAR T-cell therapy and foster biomarker development and treatment optimizations.\"\n",
      "!Series_overall_design\t\"71 samples were analyzed for 65 patients with screening, baseline, DAY7-14, FCBWK4 and PROGFCB time points.\"\n"
     ]
    }
   ],
   "source": [
    "background_prefixes = ['!Series_title', '!Series_summary', '!Series_overall_design']\n",
    "clinical_prefixes = ['!Sample_geo_accession', '!Sample_characteristics_ch1']\n",
    "\n",
    "background_info, clinical_data = get_background_and_clinical_data(matrix_file, background_prefixes, clinical_prefixes)\n",
    "print(background_info)"
   ]
  },
  {
   "cell_type": "code",
   "execution_count": 22,
   "metadata": {
    "ExecuteTime": {
     "end_time": "2024-01-30T22:10:08.142956320Z",
     "start_time": "2024-01-30T22:10:08.112998996Z"
    },
    "collapsed": false
   },
   "outputs": [
    {
     "data": {
      "text/html": [
       "<div>\n",
       "<style scoped>\n",
       "    .dataframe tbody tr th:only-of-type {\n",
       "        vertical-align: middle;\n",
       "    }\n",
       "\n",
       "    .dataframe tbody tr th {\n",
       "        vertical-align: top;\n",
       "    }\n",
       "\n",
       "    .dataframe thead th {\n",
       "        text-align: right;\n",
       "    }\n",
       "</style>\n",
       "<table border=\"1\" class=\"dataframe\">\n",
       "  <thead>\n",
       "    <tr style=\"text-align: right;\">\n",
       "      <th></th>\n",
       "      <th>!Sample_geo_accession</th>\n",
       "      <th>GSM5935018</th>\n",
       "      <th>GSM5935019</th>\n",
       "      <th>GSM5935020</th>\n",
       "      <th>GSM5935021</th>\n",
       "      <th>GSM5935022</th>\n",
       "      <th>GSM5935023</th>\n",
       "      <th>GSM5935024</th>\n",
       "      <th>GSM5935025</th>\n",
       "      <th>GSM5935026</th>\n",
       "      <th>...</th>\n",
       "      <th>GSM5935082</th>\n",
       "      <th>GSM5935083</th>\n",
       "      <th>GSM5935084</th>\n",
       "      <th>GSM5935085</th>\n",
       "      <th>GSM5935086</th>\n",
       "      <th>GSM5935087</th>\n",
       "      <th>GSM5935088</th>\n",
       "      <th>GSM5935089</th>\n",
       "      <th>GSM5935090</th>\n",
       "      <th>GSM5935091</th>\n",
       "    </tr>\n",
       "  </thead>\n",
       "  <tbody>\n",
       "    <tr>\n",
       "      <th>0</th>\n",
       "      <td>!Sample_characteristics_ch1</td>\n",
       "      <td>visit: SCREENING</td>\n",
       "      <td>visit: SCREENING</td>\n",
       "      <td>visit: SCREENING</td>\n",
       "      <td>visit: SCREENING</td>\n",
       "      <td>visit: SCREENING</td>\n",
       "      <td>visit: SCREENING</td>\n",
       "      <td>visit: SCREENING</td>\n",
       "      <td>visit: SCREENING</td>\n",
       "      <td>visit: SCREENING</td>\n",
       "      <td>...</td>\n",
       "      <td>visit: DAY7-14</td>\n",
       "      <td>visit: BASELINE</td>\n",
       "      <td>visit: DAY7-14</td>\n",
       "      <td>visit: DAY7-14</td>\n",
       "      <td>visit: BASELINE</td>\n",
       "      <td>visit: PROGFCB</td>\n",
       "      <td>visit: DAY7-14</td>\n",
       "      <td>visit: DAY7-14</td>\n",
       "      <td>visit: PROGFCB</td>\n",
       "      <td>visit: BASELINE</td>\n",
       "    </tr>\n",
       "    <tr>\n",
       "      <th>1</th>\n",
       "      <td>!Sample_characteristics_ch1</td>\n",
       "      <td>molecular subgroup: GCB</td>\n",
       "      <td>molecular subgroup: NA</td>\n",
       "      <td>molecular subgroup: NA</td>\n",
       "      <td>molecular subgroup: GCB</td>\n",
       "      <td>molecular subgroup: ABC</td>\n",
       "      <td>molecular subgroup: GCB</td>\n",
       "      <td>molecular subgroup: ABC</td>\n",
       "      <td>molecular subgroup: NA</td>\n",
       "      <td>molecular subgroup: NA</td>\n",
       "      <td>...</td>\n",
       "      <td>molecular subgroup: GCB</td>\n",
       "      <td>molecular subgroup: ABC</td>\n",
       "      <td>molecular subgroup: ABC</td>\n",
       "      <td>molecular subgroup: NA</td>\n",
       "      <td>molecular subgroup: GCB</td>\n",
       "      <td>molecular subgroup: GCB</td>\n",
       "      <td>molecular subgroup: NA</td>\n",
       "      <td>molecular subgroup: GCB</td>\n",
       "      <td>molecular subgroup: ABC</td>\n",
       "      <td>molecular subgroup: GCB</td>\n",
       "    </tr>\n",
       "    <tr>\n",
       "      <th>2</th>\n",
       "      <td>!Sample_characteristics_ch1</td>\n",
       "      <td>bestresponse: PR</td>\n",
       "      <td>bestresponse: CR</td>\n",
       "      <td>bestresponse: CR</td>\n",
       "      <td>bestresponse: CR</td>\n",
       "      <td>bestresponse: CR</td>\n",
       "      <td>bestresponse: CR</td>\n",
       "      <td>bestresponse: PR</td>\n",
       "      <td>bestresponse: PR</td>\n",
       "      <td>bestresponse: CR</td>\n",
       "      <td>...</td>\n",
       "      <td>bestresponse: CR</td>\n",
       "      <td>bestresponse: CR</td>\n",
       "      <td>bestresponse: CR</td>\n",
       "      <td>bestresponse: CR</td>\n",
       "      <td>bestresponse: CR</td>\n",
       "      <td>bestresponse: PR</td>\n",
       "      <td>bestresponse: CR</td>\n",
       "      <td>bestresponse: CR</td>\n",
       "      <td>bestresponse: CR</td>\n",
       "      <td>bestresponse: CR</td>\n",
       "    </tr>\n",
       "    <tr>\n",
       "      <th>3</th>\n",
       "      <td>!Sample_characteristics_ch1</td>\n",
       "      <td>baseline tumour burden (mm2): 8877</td>\n",
       "      <td>baseline tumour burden (mm2): 667</td>\n",
       "      <td>baseline tumour burden (mm2): 2441</td>\n",
       "      <td>baseline tumour burden (mm2): 7700</td>\n",
       "      <td>baseline tumour burden (mm2): 4248</td>\n",
       "      <td>baseline tumour burden (mm2): 3916</td>\n",
       "      <td>baseline tumour burden (mm2): 4205</td>\n",
       "      <td>baseline tumour burden (mm2): 5056</td>\n",
       "      <td>baseline tumour burden (mm2): 355</td>\n",
       "      <td>...</td>\n",
       "      <td>baseline tumour burden (mm2): 9953</td>\n",
       "      <td>baseline tumour burden (mm2): 2584</td>\n",
       "      <td>baseline tumour burden (mm2): 6557</td>\n",
       "      <td>baseline tumour burden (mm2): 1022</td>\n",
       "      <td>baseline tumour burden (mm2): 9371</td>\n",
       "      <td>baseline tumour burden (mm2): 3014</td>\n",
       "      <td>baseline tumour burden (mm2): 1724</td>\n",
       "      <td>baseline tumour burden (mm2): 7991</td>\n",
       "      <td>baseline tumour burden (mm2): 10878</td>\n",
       "      <td>baseline tumour burden (mm2): 431</td>\n",
       "    </tr>\n",
       "    <tr>\n",
       "      <th>4</th>\n",
       "      <td>!Sample_characteristics_ch1</td>\n",
       "      <td>worst grade of ne: 3</td>\n",
       "      <td>worst grade of ne: 1</td>\n",
       "      <td>worst grade of ne: 3</td>\n",
       "      <td>worst grade of ne: 1</td>\n",
       "      <td>worst grade of ne: 2</td>\n",
       "      <td>worst grade of ne: 3</td>\n",
       "      <td>worst grade of ne: 0</td>\n",
       "      <td>worst grade of ne: 3</td>\n",
       "      <td>worst grade of ne: 1</td>\n",
       "      <td>...</td>\n",
       "      <td>worst grade of ne: 0</td>\n",
       "      <td>worst grade of ne: 1</td>\n",
       "      <td>worst grade of ne: 1</td>\n",
       "      <td>worst grade of ne: 0</td>\n",
       "      <td>worst grade of ne: 3</td>\n",
       "      <td>worst grade of ne: 0</td>\n",
       "      <td>worst grade of ne: 0</td>\n",
       "      <td>worst grade of ne: 1</td>\n",
       "      <td>worst grade of ne: 3</td>\n",
       "      <td>worst grade of ne: 1</td>\n",
       "    </tr>\n",
       "  </tbody>\n",
       "</table>\n",
       "<p>5 rows × 75 columns</p>\n",
       "</div>"
      ],
      "text/plain": [
       "         !Sample_geo_accession                          GSM5935018  \\\n",
       "0  !Sample_characteristics_ch1                    visit: SCREENING   \n",
       "1  !Sample_characteristics_ch1             molecular subgroup: GCB   \n",
       "2  !Sample_characteristics_ch1                    bestresponse: PR   \n",
       "3  !Sample_characteristics_ch1  baseline tumour burden (mm2): 8877   \n",
       "4  !Sample_characteristics_ch1                worst grade of ne: 3   \n",
       "\n",
       "                          GSM5935019                          GSM5935020  \\\n",
       "0                   visit: SCREENING                    visit: SCREENING   \n",
       "1             molecular subgroup: NA              molecular subgroup: NA   \n",
       "2                   bestresponse: CR                    bestresponse: CR   \n",
       "3  baseline tumour burden (mm2): 667  baseline tumour burden (mm2): 2441   \n",
       "4               worst grade of ne: 1                worst grade of ne: 3   \n",
       "\n",
       "                           GSM5935021                          GSM5935022  \\\n",
       "0                    visit: SCREENING                    visit: SCREENING   \n",
       "1             molecular subgroup: GCB             molecular subgroup: ABC   \n",
       "2                    bestresponse: CR                    bestresponse: CR   \n",
       "3  baseline tumour burden (mm2): 7700  baseline tumour burden (mm2): 4248   \n",
       "4                worst grade of ne: 1                worst grade of ne: 2   \n",
       "\n",
       "                           GSM5935023                          GSM5935024  \\\n",
       "0                    visit: SCREENING                    visit: SCREENING   \n",
       "1             molecular subgroup: GCB             molecular subgroup: ABC   \n",
       "2                    bestresponse: CR                    bestresponse: PR   \n",
       "3  baseline tumour burden (mm2): 3916  baseline tumour burden (mm2): 4205   \n",
       "4                worst grade of ne: 3                worst grade of ne: 0   \n",
       "\n",
       "                           GSM5935025                         GSM5935026  ...  \\\n",
       "0                    visit: SCREENING                   visit: SCREENING  ...   \n",
       "1              molecular subgroup: NA             molecular subgroup: NA  ...   \n",
       "2                    bestresponse: PR                   bestresponse: CR  ...   \n",
       "3  baseline tumour burden (mm2): 5056  baseline tumour burden (mm2): 355  ...   \n",
       "4                worst grade of ne: 3               worst grade of ne: 1  ...   \n",
       "\n",
       "                           GSM5935082                          GSM5935083  \\\n",
       "0                      visit: DAY7-14                     visit: BASELINE   \n",
       "1             molecular subgroup: GCB             molecular subgroup: ABC   \n",
       "2                    bestresponse: CR                    bestresponse: CR   \n",
       "3  baseline tumour burden (mm2): 9953  baseline tumour burden (mm2): 2584   \n",
       "4                worst grade of ne: 0                worst grade of ne: 1   \n",
       "\n",
       "                           GSM5935084                          GSM5935085  \\\n",
       "0                      visit: DAY7-14                      visit: DAY7-14   \n",
       "1             molecular subgroup: ABC              molecular subgroup: NA   \n",
       "2                    bestresponse: CR                    bestresponse: CR   \n",
       "3  baseline tumour burden (mm2): 6557  baseline tumour burden (mm2): 1022   \n",
       "4                worst grade of ne: 1                worst grade of ne: 0   \n",
       "\n",
       "                           GSM5935086                          GSM5935087  \\\n",
       "0                     visit: BASELINE                      visit: PROGFCB   \n",
       "1             molecular subgroup: GCB             molecular subgroup: GCB   \n",
       "2                    bestresponse: CR                    bestresponse: PR   \n",
       "3  baseline tumour burden (mm2): 9371  baseline tumour burden (mm2): 3014   \n",
       "4                worst grade of ne: 3                worst grade of ne: 0   \n",
       "\n",
       "                           GSM5935088                          GSM5935089  \\\n",
       "0                      visit: DAY7-14                      visit: DAY7-14   \n",
       "1              molecular subgroup: NA             molecular subgroup: GCB   \n",
       "2                    bestresponse: CR                    bestresponse: CR   \n",
       "3  baseline tumour burden (mm2): 1724  baseline tumour burden (mm2): 7991   \n",
       "4                worst grade of ne: 0                worst grade of ne: 1   \n",
       "\n",
       "                            GSM5935090                         GSM5935091  \n",
       "0                       visit: PROGFCB                    visit: BASELINE  \n",
       "1              molecular subgroup: ABC            molecular subgroup: GCB  \n",
       "2                     bestresponse: CR                   bestresponse: CR  \n",
       "3  baseline tumour burden (mm2): 10878  baseline tumour burden (mm2): 431  \n",
       "4                 worst grade of ne: 3               worst grade of ne: 1  \n",
       "\n",
       "[5 rows x 75 columns]"
      ]
     },
     "execution_count": 22,
     "metadata": {},
     "output_type": "execute_result"
    }
   ],
   "source": [
    "clinical_data.head()"
   ]
  },
  {
   "cell_type": "code",
   "execution_count": 23,
   "metadata": {
    "ExecuteTime": {
     "end_time": "2024-01-30T22:10:08.160983475Z",
     "start_time": "2024-01-30T22:10:08.113111656Z"
    },
    "collapsed": false
   },
   "outputs": [
    {
     "data": {
      "text/plain": [
       "{0: ['visit: SCREENING',\n",
       "  'visit: BASELINE',\n",
       "  'visit: DAY7-14',\n",
       "  'visit: FCBWK4',\n",
       "  'visit: PROGFCB'],\n",
       " 1: ['molecular subgroup: GCB',\n",
       "  'molecular subgroup: NA',\n",
       "  'molecular subgroup: ABC',\n",
       "  'molecular subgroup: UNCLASSIFIED'],\n",
       " 2: ['bestresponse: PR',\n",
       "  'bestresponse: CR',\n",
       "  'bestresponse: SD',\n",
       "  'bestresponse: PD',\n",
       "  'bestresponse: ND'],\n",
       " 3: ['baseline tumour burden (mm2): 8877',\n",
       "  'baseline tumour burden (mm2): 667',\n",
       "  'baseline tumour burden (mm2): 2441',\n",
       "  'baseline tumour burden (mm2): 7700',\n",
       "  'baseline tumour burden (mm2): 4248',\n",
       "  'baseline tumour burden (mm2): 3916',\n",
       "  'baseline tumour burden (mm2): 4205',\n",
       "  'baseline tumour burden (mm2): 5056',\n",
       "  'baseline tumour burden (mm2): 355',\n",
       "  'baseline tumour burden (mm2): 7161',\n",
       "  'baseline tumour burden (mm2): NA',\n",
       "  'baseline tumour burden (mm2): 2794',\n",
       "  'baseline tumour burden (mm2): 792',\n",
       "  'baseline tumour burden (mm2): 5456',\n",
       "  'baseline tumour burden (mm2): 39658',\n",
       "  'baseline tumour burden (mm2): 1997',\n",
       "  'baseline tumour burden (mm2): 1133',\n",
       "  'baseline tumour burden (mm2): 2924',\n",
       "  'baseline tumour burden (mm2): 6557',\n",
       "  'baseline tumour burden (mm2): 1600',\n",
       "  'baseline tumour burden (mm2): 4371',\n",
       "  'baseline tumour burden (mm2): 2200',\n",
       "  'baseline tumour burden (mm2): 7952',\n",
       "  'baseline tumour burden (mm2): 6262',\n",
       "  'baseline tumour burden (mm2): 14354',\n",
       "  'baseline tumour burden (mm2): 396',\n",
       "  'baseline tumour burden (mm2): 2069',\n",
       "  'baseline tumour burden (mm2): 1022',\n",
       "  'baseline tumour burden (mm2): 8162',\n",
       "  'baseline tumour burden (mm2): 735'],\n",
       " 4: ['worst grade of ne: 3',\n",
       "  'worst grade of ne: 1',\n",
       "  'worst grade of ne: 2',\n",
       "  'worst grade of ne: 0',\n",
       "  'worst grade of ne: 4']}"
      ]
     },
     "execution_count": 23,
     "metadata": {},
     "output_type": "execute_result"
    }
   ],
   "source": [
    "clinical_data_unique = get_unique_values_by_row(clinical_data)\n",
    "clinical_data_unique"
   ]
  },
  {
   "cell_type": "markdown",
   "metadata": {
    "ExecuteTime": {
     "end_time": "2023-12-31T03:58:04.978204446Z",
     "start_time": "2023-12-31T03:58:04.922270095Z"
    },
    "collapsed": false
   },
   "source": [
    "Analyze the metadata to determine data relevance and find ways to extract the clinical data.\n",
    "Reference prompt:"
   ]
  },
  {
   "cell_type": "code",
   "execution_count": 24,
   "metadata": {
    "ExecuteTime": {
     "end_time": "2024-01-30T22:10:08.161175572Z",
     "start_time": "2024-01-30T22:10:08.156906261Z"
    },
    "collapsed": false
   },
   "outputs": [
    {
     "data": {
      "text/plain": [
       "'As a biomedical research team, we are selecting datasets to study the association between the human trait \\'Large B-cell Lymphoma\\' and genetic factors, optionally considering the influence of age and gender. After searching the GEO database and parsing the matrix file of a series, we obtained background information and sample characteristics data. We will provide textual information about the dataset background, and a Python dictionary storing a list of unique values for each field of the sample characteristics data. Please carefully review the provided information and answer the following questions about this dataset:\\n1. Does this dataset contain gene expression data? (Note: Pure miRNA data is not suitable.)\\n2. For each of the traits \\'Large B-cell Lymphoma\\', \\'age\\', and \\'gender\\', please address these points:\\n   (1) Is there human data available for this trait?\\n   (2) If so, identify the key in the sample characteristics dictionary where unique values of this trait is recorded. The key is an integer. The trait information might be explicitly recorded, or can be inferred from the field with some biomedical knowledge or understanding about the data collection process.\\n   (3) Choose an appropriate data type (either \\'continuous\\' or \\'binary\\') for each trait. Write a Python function to convert any given value of the trait to this data type. Do remember to separate the value by colon \\':\\' first, as the row header should not be included in the returned value. The function should handle inference about the trait value and convert unknown values to None.\\n   Name the functions \\'convert_trait\\', \\'convert_age\\', and \\'convert_gender\\', respectively.\\n\\nBackground information about the dataset:\\n!Series_title\\t\"Tumour immune contexture is a determinant of anti-CD19 CAR T-cell efficacy in large B cell lymphoma\"\\n!Series_summary\\t\"Axicabtagene ciloleucel (axi-cel), an anti-CD19 chimeric antigen receptor (CAR) T-cell therapy approved for treatment of relapsed/refractory large B-cell lymphoma (LBCL), has comparable efficacy across conventional LBCL markers. We analysed whether pre- and posttreatment  tumour immune contexture determines clinical outcomes for axi cel–treated patients in the ZUMA-1 pivotal study. Longitudinal evaluation of the tumour microenvironment (TME) uncovered dynamic patterns that occurred rapidly after axi-cel (within 2 weeks) in responders—pronounced enhancement of T- and myeloid cell signatures and diminution of B cell signature. Clinical response and overall survival associated with high CD8+ T-cell density (Immunoscore) and immune gene expression (Immunosign21) in TME pretreatment, which was paralleled by blood CAR T-cell levels posttreatment. High density of regulatory T cells in TME pretreatment associated with reduced axi-cel–related neurologic toxicity. At relapse, the TME evolved toward an immune-detrimental contexture with decreased T-cell–related and increased counterregulatory immune signatures and B cell lineage antigens. A TME rich in T-cell attractive chemokines (CCL5, CCL22), gamma-chain receptor cytokines (IL-15, IL-7, IL-21), and interferon regulated molecules associated with T-cell infiltration and markers of activity, a result validated in 2 independent datasets totalling ≈300 LBCL samples.\"\\n!Series_summary\\t\"These findings advance mechanistic understanding of CAR T-cell therapy and foster biomarker development and treatment optimizations.\"\\n!Series_overall_design\\t\"71 samples were analyzed for 65 patients with screening, baseline, DAY7-14, FCBWK4 and PROGFCB time points.\"\\n\\nSample characteristics dictionary (from \"!Sample_characteristics_ch1\", converted to a Python dictionary that stores the unique values for each field):\\n{0: [\\'visit: SCREENING\\', \\'visit: BASELINE\\', \\'visit: DAY7-14\\', \\'visit: FCBWK4\\', \\'visit: PROGFCB\\'], 1: [\\'molecular subgroup: GCB\\', \\'molecular subgroup: NA\\', \\'molecular subgroup: ABC\\', \\'molecular subgroup: UNCLASSIFIED\\'], 2: [\\'bestresponse: PR\\', \\'bestresponse: CR\\', \\'bestresponse: SD\\', \\'bestresponse: PD\\', \\'bestresponse: ND\\'], 3: [\\'baseline tumour burden (mm2): 8877\\', \\'baseline tumour burden (mm2): 667\\', \\'baseline tumour burden (mm2): 2441\\', \\'baseline tumour burden (mm2): 7700\\', \\'baseline tumour burden (mm2): 4248\\', \\'baseline tumour burden (mm2): 3916\\', \\'baseline tumour burden (mm2): 4205\\', \\'baseline tumour burden (mm2): 5056\\', \\'baseline tumour burden (mm2): 355\\', \\'baseline tumour burden (mm2): 7161\\', \\'baseline tumour burden (mm2): NA\\', \\'baseline tumour burden (mm2): 2794\\', \\'baseline tumour burden (mm2): 792\\', \\'baseline tumour burden (mm2): 5456\\', \\'baseline tumour burden (mm2): 39658\\', \\'baseline tumour burden (mm2): 1997\\', \\'baseline tumour burden (mm2): 1133\\', \\'baseline tumour burden (mm2): 2924\\', \\'baseline tumour burden (mm2): 6557\\', \\'baseline tumour burden (mm2): 1600\\', \\'baseline tumour burden (mm2): 4371\\', \\'baseline tumour burden (mm2): 2200\\', \\'baseline tumour burden (mm2): 7952\\', \\'baseline tumour burden (mm2): 6262\\', \\'baseline tumour burden (mm2): 14354\\', \\'baseline tumour burden (mm2): 396\\', \\'baseline tumour burden (mm2): 2069\\', \\'baseline tumour burden (mm2): 1022\\', \\'baseline tumour burden (mm2): 8162\\', \\'baseline tumour burden (mm2): 735\\'], 4: [\\'worst grade of ne: 3\\', \\'worst grade of ne: 1\\', \\'worst grade of ne: 2\\', \\'worst grade of ne: 0\\', \\'worst grade of ne: 4\\']}\\n'"
      ]
     },
     "execution_count": 24,
     "metadata": {},
     "output_type": "execute_result"
    }
   ],
   "source": [
    "\n",
    "f'''As a biomedical research team, we are selecting datasets to study the association between the human trait \\'{TRAIT}\\' and genetic factors, optionally considering the influence of age and gender. After searching the GEO database and parsing the matrix file of a series, we obtained background information and sample characteristics data. We will provide textual information about the dataset background, and a Python dictionary storing a list of unique values for each field of the sample characteristics data. Please carefully review the provided information and answer the following questions about this dataset:\n",
    "1. Does this dataset contain gene expression data? (Note: Pure miRNA data is not suitable.)\n",
    "2. For each of the traits \\'{TRAIT}\\', 'age', and 'gender', please address these points:\n",
    "   (1) Is there human data available for this trait?\n",
    "   (2) If so, identify the key in the sample characteristics dictionary where unique values of this trait is recorded. The key is an integer. The trait information might be explicitly recorded, or can be inferred from the field with some biomedical knowledge or understanding about the data collection process.\n",
    "   (3) Choose an appropriate data type (either 'continuous' or 'binary') for each trait. Write a Python function to convert any given value of the trait to this data type. Do remember to separate the value by colon ':' first, as the row header should not be included in the returned value. The function should handle inference about the trait value and convert unknown values to None.\n",
    "   Name the functions 'convert_trait', 'convert_age', and 'convert_gender', respectively.\n",
    "\n",
    "Background information about the dataset:\n",
    "{background_info}\n",
    "\n",
    "Sample characteristics dictionary (from \"!Sample_characteristics_ch1\", converted to a Python dictionary that stores the unique values for each field):\n",
    "{clinical_data_unique}\n",
    "'''"
   ]
  },
  {
   "cell_type": "markdown",
   "metadata": {
    "ExecuteTime": {
     "end_time": "2023-12-31T03:58:04.978240504Z",
     "start_time": "2023-12-31T03:58:04.922365324Z"
    },
    "collapsed": false
   },
   "source": [
    "Understand and verify the answer from GPT, to assign values to the below variables. Assign None to the 'row_id' variables if relevant data row was not found.\n",
    "Later we need to let GPT format its answer to automatically do these. But given the complexity of this step, let's grow some insight from the free-text answers for now."
   ]
  },
  {
   "cell_type": "code",
   "execution_count": 25,
   "metadata": {
    "ExecuteTime": {
     "end_time": "2024-01-30T22:10:08.161236205Z",
     "start_time": "2024-01-30T22:10:08.156985719Z"
    },
    "collapsed": false
   },
   "outputs": [],
   "source": [
    "age_row = gender_row = None\n",
    "convert_age = convert_gender = None"
   ]
  },
  {
   "cell_type": "code",
   "execution_count": 26,
   "metadata": {
    "ExecuteTime": {
     "end_time": "2024-01-30T22:10:08.161289695Z",
     "start_time": "2024-01-30T22:10:08.157022367Z"
    },
    "collapsed": false
   },
   "outputs": [],
   "source": [
    "is_gene_availabe = True\n",
    "trait_row = 1\n",
    "#age_row = 0\n",
    "#gender_row = 2\n",
    "\n",
    "trait_type = 'binary'"
   ]
  },
  {
   "cell_type": "code",
   "execution_count": 27,
   "metadata": {
    "ExecuteTime": {
     "end_time": "2024-01-30T22:10:08.161340910Z",
     "start_time": "2024-01-30T22:10:08.157097978Z"
    },
    "collapsed": false
   },
   "outputs": [],
   "source": [
    "is_available = is_gene_availabe and (trait_row is not None)\n",
    "if not is_available:\n",
    "    save_cohort_info(cohort, JSON_PATH, is_available)\n",
    "    print(\"This cohort is not usable. Please skip the following steps and jump to the next accession number.\")"
   ]
  },
  {
   "cell_type": "code",
   "execution_count": 28,
   "metadata": {
    "ExecuteTime": {
     "end_time": "2024-01-30T22:10:08.161392586Z",
     "start_time": "2024-01-30T22:10:08.157134816Z"
    },
    "collapsed": false
   },
   "outputs": [],
   "source": [
    "# Verify and use the functions generated by GPT\n",
    "\n",
    "def convert_trait(value):\n",
    "    value = value.split(':')[1].strip()\n",
    "    if value == \"Diffuse large B-cell lymphoma (DLBCL)\":\n",
    "        return 1  # Indicating presence of DLBCL\n",
    "    else:\n",
    "        return 0  # Indicating absence of DLBCL or unknown\n"
   ]
  },
  {
   "cell_type": "code",
   "execution_count": 29,
   "metadata": {
    "ExecuteTime": {
     "end_time": "2024-01-30T22:10:08.161492192Z",
     "start_time": "2024-01-30T22:10:08.157167337Z"
    },
    "collapsed": false
   },
   "outputs": [
    {
     "data": {
      "text/html": [
       "<div>\n",
       "<style scoped>\n",
       "    .dataframe tbody tr th:only-of-type {\n",
       "        vertical-align: middle;\n",
       "    }\n",
       "\n",
       "    .dataframe tbody tr th {\n",
       "        vertical-align: top;\n",
       "    }\n",
       "\n",
       "    .dataframe thead th {\n",
       "        text-align: right;\n",
       "    }\n",
       "</style>\n",
       "<table border=\"1\" class=\"dataframe\">\n",
       "  <thead>\n",
       "    <tr style=\"text-align: right;\">\n",
       "      <th></th>\n",
       "      <th>GSM5935018</th>\n",
       "      <th>GSM5935019</th>\n",
       "      <th>GSM5935020</th>\n",
       "      <th>GSM5935021</th>\n",
       "      <th>GSM5935022</th>\n",
       "      <th>GSM5935023</th>\n",
       "      <th>GSM5935024</th>\n",
       "      <th>GSM5935025</th>\n",
       "      <th>GSM5935026</th>\n",
       "      <th>GSM5935027</th>\n",
       "      <th>...</th>\n",
       "      <th>GSM5935082</th>\n",
       "      <th>GSM5935083</th>\n",
       "      <th>GSM5935084</th>\n",
       "      <th>GSM5935085</th>\n",
       "      <th>GSM5935086</th>\n",
       "      <th>GSM5935087</th>\n",
       "      <th>GSM5935088</th>\n",
       "      <th>GSM5935089</th>\n",
       "      <th>GSM5935090</th>\n",
       "      <th>GSM5935091</th>\n",
       "    </tr>\n",
       "  </thead>\n",
       "  <tbody>\n",
       "    <tr>\n",
       "      <th>Large B-cell Lymphoma</th>\n",
       "      <td>0</td>\n",
       "      <td>0</td>\n",
       "      <td>0</td>\n",
       "      <td>0</td>\n",
       "      <td>0</td>\n",
       "      <td>0</td>\n",
       "      <td>0</td>\n",
       "      <td>0</td>\n",
       "      <td>0</td>\n",
       "      <td>0</td>\n",
       "      <td>...</td>\n",
       "      <td>0</td>\n",
       "      <td>0</td>\n",
       "      <td>0</td>\n",
       "      <td>0</td>\n",
       "      <td>0</td>\n",
       "      <td>0</td>\n",
       "      <td>0</td>\n",
       "      <td>0</td>\n",
       "      <td>0</td>\n",
       "      <td>0</td>\n",
       "    </tr>\n",
       "  </tbody>\n",
       "</table>\n",
       "<p>1 rows × 74 columns</p>\n",
       "</div>"
      ],
      "text/plain": [
       "                       GSM5935018  GSM5935019  GSM5935020  GSM5935021  \\\n",
       "Large B-cell Lymphoma           0           0           0           0   \n",
       "\n",
       "                       GSM5935022  GSM5935023  GSM5935024  GSM5935025  \\\n",
       "Large B-cell Lymphoma           0           0           0           0   \n",
       "\n",
       "                       GSM5935026  GSM5935027  ...  GSM5935082  GSM5935083  \\\n",
       "Large B-cell Lymphoma           0           0  ...           0           0   \n",
       "\n",
       "                       GSM5935084  GSM5935085  GSM5935086  GSM5935087  \\\n",
       "Large B-cell Lymphoma           0           0           0           0   \n",
       "\n",
       "                       GSM5935088  GSM5935089  GSM5935090  GSM5935091  \n",
       "Large B-cell Lymphoma           0           0           0           0  \n",
       "\n",
       "[1 rows x 74 columns]"
      ]
     },
     "execution_count": 29,
     "metadata": {},
     "output_type": "execute_result"
    }
   ],
   "source": [
    "selected_clinical_data = geo_select_clinical_features(clinical_data, TRAIT, trait_row, convert_trait, age_row=age_row,\n",
    "                                                      convert_age=convert_age, gender_row=gender_row,\n",
    "                                                      convert_gender=convert_gender)\n",
    "selected_clinical_data.head()"
   ]
  },
  {
   "cell_type": "markdown",
   "metadata": {
    "ExecuteTime": {
     "end_time": "2023-12-31T03:58:04.978664193Z",
     "start_time": "2023-12-31T03:58:04.966117261Z"
    },
    "collapsed": false
   },
   "source": [
    "### Genetic data preprocessing and final filtering"
   ]
  },
  {
   "cell_type": "code",
   "execution_count": 30,
   "metadata": {
    "ExecuteTime": {
     "end_time": "2024-01-30T22:10:08.256759210Z",
     "start_time": "2024-01-30T22:10:08.157212060Z"
    },
    "collapsed": false
   },
   "outputs": [
    {
     "data": {
      "text/html": [
       "<div>\n",
       "<style scoped>\n",
       "    .dataframe tbody tr th:only-of-type {\n",
       "        vertical-align: middle;\n",
       "    }\n",
       "\n",
       "    .dataframe tbody tr th {\n",
       "        vertical-align: top;\n",
       "    }\n",
       "\n",
       "    .dataframe thead th {\n",
       "        text-align: right;\n",
       "    }\n",
       "</style>\n",
       "<table border=\"1\" class=\"dataframe\">\n",
       "  <thead>\n",
       "    <tr style=\"text-align: right;\">\n",
       "      <th></th>\n",
       "      <th>GSM5935018</th>\n",
       "      <th>GSM5935019</th>\n",
       "      <th>GSM5935020</th>\n",
       "      <th>GSM5935021</th>\n",
       "      <th>GSM5935022</th>\n",
       "      <th>GSM5935023</th>\n",
       "      <th>GSM5935024</th>\n",
       "      <th>GSM5935025</th>\n",
       "      <th>GSM5935026</th>\n",
       "      <th>GSM5935027</th>\n",
       "      <th>...</th>\n",
       "      <th>GSM5935082</th>\n",
       "      <th>GSM5935083</th>\n",
       "      <th>GSM5935084</th>\n",
       "      <th>GSM5935085</th>\n",
       "      <th>GSM5935086</th>\n",
       "      <th>GSM5935087</th>\n",
       "      <th>GSM5935088</th>\n",
       "      <th>GSM5935089</th>\n",
       "      <th>GSM5935090</th>\n",
       "      <th>GSM5935091</th>\n",
       "    </tr>\n",
       "    <tr>\n",
       "      <th>ID</th>\n",
       "      <th></th>\n",
       "      <th></th>\n",
       "      <th></th>\n",
       "      <th></th>\n",
       "      <th></th>\n",
       "      <th></th>\n",
       "      <th></th>\n",
       "      <th></th>\n",
       "      <th></th>\n",
       "      <th></th>\n",
       "      <th></th>\n",
       "      <th></th>\n",
       "      <th></th>\n",
       "      <th></th>\n",
       "      <th></th>\n",
       "      <th></th>\n",
       "      <th></th>\n",
       "      <th></th>\n",
       "      <th></th>\n",
       "      <th></th>\n",
       "      <th></th>\n",
       "    </tr>\n",
       "  </thead>\n",
       "  <tbody>\n",
       "    <tr>\n",
       "      <th>1</th>\n",
       "      <td>1758.44</td>\n",
       "      <td>1370.35</td>\n",
       "      <td>738.43</td>\n",
       "      <td>1368.94</td>\n",
       "      <td>1473.55</td>\n",
       "      <td>1599.26</td>\n",
       "      <td>1634.00</td>\n",
       "      <td>1313.76</td>\n",
       "      <td>2905.59</td>\n",
       "      <td>2388.75</td>\n",
       "      <td>...</td>\n",
       "      <td>989.01</td>\n",
       "      <td>1031.16</td>\n",
       "      <td>25270.46</td>\n",
       "      <td>8902.58</td>\n",
       "      <td>1765.66</td>\n",
       "      <td>2804.63</td>\n",
       "      <td>12446.22</td>\n",
       "      <td>2538.75</td>\n",
       "      <td>1196.21</td>\n",
       "      <td>2293.09</td>\n",
       "    </tr>\n",
       "    <tr>\n",
       "      <th>2</th>\n",
       "      <td>249.72</td>\n",
       "      <td>236.35</td>\n",
       "      <td>167.63</td>\n",
       "      <td>654.96</td>\n",
       "      <td>59.57</td>\n",
       "      <td>204.32</td>\n",
       "      <td>120.19</td>\n",
       "      <td>0.00</td>\n",
       "      <td>216.34</td>\n",
       "      <td>226.64</td>\n",
       "      <td>...</td>\n",
       "      <td>0.00</td>\n",
       "      <td>0.00</td>\n",
       "      <td>287.00</td>\n",
       "      <td>110.74</td>\n",
       "      <td>0.00</td>\n",
       "      <td>71.81</td>\n",
       "      <td>0.00</td>\n",
       "      <td>87.84</td>\n",
       "      <td>25.30</td>\n",
       "      <td>124.49</td>\n",
       "    </tr>\n",
       "    <tr>\n",
       "      <th>3</th>\n",
       "      <td>288.10</td>\n",
       "      <td>513.03</td>\n",
       "      <td>310.33</td>\n",
       "      <td>313.61</td>\n",
       "      <td>282.08</td>\n",
       "      <td>229.36</td>\n",
       "      <td>534.17</td>\n",
       "      <td>530.56</td>\n",
       "      <td>396.87</td>\n",
       "      <td>406.93</td>\n",
       "      <td>...</td>\n",
       "      <td>224.05</td>\n",
       "      <td>318.89</td>\n",
       "      <td>471.01</td>\n",
       "      <td>470.88</td>\n",
       "      <td>280.99</td>\n",
       "      <td>623.41</td>\n",
       "      <td>567.91</td>\n",
       "      <td>279.40</td>\n",
       "      <td>333.18</td>\n",
       "      <td>471.31</td>\n",
       "    </tr>\n",
       "    <tr>\n",
       "      <th>4</th>\n",
       "      <td>626.42</td>\n",
       "      <td>308.31</td>\n",
       "      <td>1564.71</td>\n",
       "      <td>252.45</td>\n",
       "      <td>277.77</td>\n",
       "      <td>1598.12</td>\n",
       "      <td>1124.63</td>\n",
       "      <td>931.18</td>\n",
       "      <td>174.79</td>\n",
       "      <td>488.05</td>\n",
       "      <td>...</td>\n",
       "      <td>168.45</td>\n",
       "      <td>1567.88</td>\n",
       "      <td>605.60</td>\n",
       "      <td>500.25</td>\n",
       "      <td>307.09</td>\n",
       "      <td>580.45</td>\n",
       "      <td>555.98</td>\n",
       "      <td>443.40</td>\n",
       "      <td>298.10</td>\n",
       "      <td>314.97</td>\n",
       "    </tr>\n",
       "    <tr>\n",
       "      <th>5</th>\n",
       "      <td>1224.42</td>\n",
       "      <td>187.35</td>\n",
       "      <td>196.91</td>\n",
       "      <td>750.25</td>\n",
       "      <td>114.84</td>\n",
       "      <td>31.30</td>\n",
       "      <td>148.81</td>\n",
       "      <td>0.00</td>\n",
       "      <td>7.88</td>\n",
       "      <td>0.00</td>\n",
       "      <td>...</td>\n",
       "      <td>0.00</td>\n",
       "      <td>50.55</td>\n",
       "      <td>0.00</td>\n",
       "      <td>0.00</td>\n",
       "      <td>494.44</td>\n",
       "      <td>0.00</td>\n",
       "      <td>0.00</td>\n",
       "      <td>17.84</td>\n",
       "      <td>2433.20</td>\n",
       "      <td>449.17</td>\n",
       "    </tr>\n",
       "  </tbody>\n",
       "</table>\n",
       "<p>5 rows × 74 columns</p>\n",
       "</div>"
      ],
      "text/plain": [
       "    GSM5935018  GSM5935019  GSM5935020  GSM5935021  GSM5935022  GSM5935023  \\\n",
       "ID                                                                           \n",
       "1      1758.44     1370.35      738.43     1368.94     1473.55     1599.26   \n",
       "2       249.72      236.35      167.63      654.96       59.57      204.32   \n",
       "3       288.10      513.03      310.33      313.61      282.08      229.36   \n",
       "4       626.42      308.31     1564.71      252.45      277.77     1598.12   \n",
       "5      1224.42      187.35      196.91      750.25      114.84       31.30   \n",
       "\n",
       "    GSM5935024  GSM5935025  GSM5935026  GSM5935027  ...  GSM5935082  \\\n",
       "ID                                                  ...               \n",
       "1      1634.00     1313.76     2905.59     2388.75  ...      989.01   \n",
       "2       120.19        0.00      216.34      226.64  ...        0.00   \n",
       "3       534.17      530.56      396.87      406.93  ...      224.05   \n",
       "4      1124.63      931.18      174.79      488.05  ...      168.45   \n",
       "5       148.81        0.00        7.88        0.00  ...        0.00   \n",
       "\n",
       "    GSM5935083  GSM5935084  GSM5935085  GSM5935086  GSM5935087  GSM5935088  \\\n",
       "ID                                                                           \n",
       "1      1031.16    25270.46     8902.58     1765.66     2804.63    12446.22   \n",
       "2         0.00      287.00      110.74        0.00       71.81        0.00   \n",
       "3       318.89      471.01      470.88      280.99      623.41      567.91   \n",
       "4      1567.88      605.60      500.25      307.09      580.45      555.98   \n",
       "5        50.55        0.00        0.00      494.44        0.00        0.00   \n",
       "\n",
       "    GSM5935089  GSM5935090  GSM5935091  \n",
       "ID                                      \n",
       "1      2538.75     1196.21     2293.09  \n",
       "2        87.84       25.30      124.49  \n",
       "3       279.40      333.18      471.31  \n",
       "4       443.40      298.10      314.97  \n",
       "5        17.84     2433.20      449.17  \n",
       "\n",
       "[5 rows x 74 columns]"
      ]
     },
     "execution_count": 30,
     "metadata": {},
     "output_type": "execute_result"
    }
   ],
   "source": [
    "genetic_data = get_genetic_data(matrix_file)\n",
    "genetic_data.head()"
   ]
  },
  {
   "cell_type": "code",
   "execution_count": 31,
   "metadata": {
    "ExecuteTime": {
     "end_time": "2024-01-30T22:10:08.256957840Z",
     "start_time": "2024-01-30T22:10:08.200922598Z"
    },
    "collapsed": false
   },
   "outputs": [
    {
     "data": {
      "text/plain": [
       "['1',\n",
       " '2',\n",
       " '3',\n",
       " '4',\n",
       " '5',\n",
       " '6',\n",
       " '7',\n",
       " '8',\n",
       " '9',\n",
       " '10',\n",
       " '11',\n",
       " '12',\n",
       " '13',\n",
       " '14',\n",
       " '15',\n",
       " '16',\n",
       " '17',\n",
       " '18',\n",
       " '19',\n",
       " '20']"
      ]
     },
     "execution_count": 31,
     "metadata": {},
     "output_type": "execute_result"
    }
   ],
   "source": [
    "gene_row_ids = genetic_data.index[:20].tolist()\n",
    "gene_row_ids"
   ]
  },
  {
   "cell_type": "markdown",
   "metadata": {
    "ExecuteTime": {
     "end_time": "2023-12-31T03:30:41.595335164Z",
     "start_time": "2023-12-31T03:30:41.513232329Z"
    },
    "collapsed": false
   },
   "source": [
    "Check if the gene dataset requires mapping to get the gene symbols corresponding to each data row."
   ]
  },
  {
   "cell_type": "markdown",
   "metadata": {
    "collapsed": false
   },
   "source": [
    "Reference prompt:"
   ]
  },
  {
   "cell_type": "code",
   "execution_count": 32,
   "metadata": {
    "ExecuteTime": {
     "end_time": "2024-01-30T22:10:08.268216809Z",
     "start_time": "2024-01-30T22:10:08.200977070Z"
    },
    "collapsed": false
   },
   "outputs": [
    {
     "data": {
      "text/plain": [
       "\"\\nBelow are the row headers of a gene expression dataset in GEO. Based on your biomedical knowledge, are they human gene symbols, or are they some other identifiers that need to be mapped to gene symbols? Your answer should be concluded by starting a new line and strictly following this format:\\nrequires_gene_mapping = (True or False)\\n\\nRow headers:\\n['1', '2', '3', '4', '5', '6', '7', '8', '9', '10', '11', '12', '13', '14', '15', '16', '17', '18', '19', '20']\\n\""
      ]
     },
     "execution_count": 32,
     "metadata": {},
     "output_type": "execute_result"
    }
   ],
   "source": [
    "f'''\n",
    "Below are the row headers of a gene expression dataset in GEO. Based on your biomedical knowledge, are they human gene symbols, or are they some other identifiers that need to be mapped to gene symbols? Your answer should be concluded by starting a new line and strictly following this format:\n",
    "requires_gene_mapping = (True or False)\n",
    "\n",
    "Row headers:\n",
    "{gene_row_ids}\n",
    "'''"
   ]
  },
  {
   "cell_type": "markdown",
   "metadata": {
    "collapsed": false
   },
   "source": [
    "\n",
    "If not required, jump directly to the gene normalization step"
   ]
  },
  {
   "cell_type": "code",
   "execution_count": 33,
   "metadata": {
    "ExecuteTime": {
     "end_time": "2024-01-30T22:10:08.268289374Z",
     "start_time": "2024-01-30T22:10:08.201020691Z"
    },
    "collapsed": false
   },
   "outputs": [],
   "source": [
    "requires_gene_mapping = True"
   ]
  },
  {
   "cell_type": "code",
   "execution_count": 34,
   "metadata": {
    "ExecuteTime": {
     "end_time": "2024-01-30T22:10:08.269135159Z",
     "start_time": "2024-01-30T22:10:08.201070925Z"
    },
    "collapsed": false
   },
   "outputs": [
    {
     "name": "stdout",
     "output_type": "stream",
     "text": [
      "{'ID': ['1', '2', '3', '4', '5'], 'ORF': ['A2M', 'ABCB1', 'ABL1', 'ADA', 'AICDA'], 'Accession': ['NM_000014.4', 'NM_000927.3', 'NM_005157.3', 'NM_000022.2', 'NM_020661.1']}\n"
     ]
    }
   ],
   "source": [
    "if requires_gene_mapping:\n",
    "    gene_annotation = get_gene_annotation(soft_file)\n",
    "    gene_annotation_summary = preview_df(gene_annotation)\n",
    "    print(gene_annotation_summary)"
   ]
  },
  {
   "cell_type": "markdown",
   "metadata": {
    "ExecuteTime": {
     "end_time": "2023-12-31T03:58:04.978931927Z",
     "start_time": "2023-12-31T03:58:04.966328339Z"
    },
    "collapsed": false
   },
   "source": [
    "Observe the first few cells in the ID column of the gene annotation dataframe, to find the names of columns that store the gene probe IDs and gene symbols respectively.\n",
    "Reference prompt:"
   ]
  },
  {
   "cell_type": "code",
   "execution_count": 35,
   "metadata": {
    "ExecuteTime": {
     "end_time": "2024-01-30T22:10:08.269268878Z",
     "start_time": "2024-01-30T22:10:08.227049377Z"
    },
    "collapsed": false
   },
   "outputs": [
    {
     "name": "stdout",
     "output_type": "stream",
     "text": [
      "\n",
      "    As a biomedical research team, we are analyzing a gene expression dataset, and find that its row headers are some identifiers related to genes:\n",
      "    ['1', '2', '3', '4', '5', '6', '7', '8', '9', '10', '11', '12', '13', '14', '15', '16', '17', '18', '19', '20']\n",
      "    To get the mapping from those identifiers to actual gene symbols, we extracted the gene annotation data from a series in the GEO database, and saved it to a Python dictionary. Please read the dictionary, and decide which key stores the identifiers, and which key stores the gene symbols. Please strictly follow this format in your answer:\n",
      "    identifier_key = 'key_name1'\n",
      "    gene_symbol_key = 'key_name2'\n",
      "\n",
      "    Gene annotation dictionary:\n",
      "    {'ID': ['1', '2', '3', '4', '5'], 'ORF': ['A2M', 'ABCB1', 'ABL1', 'ADA', 'AICDA'], 'Accession': ['NM_000014.4', 'NM_000927.3', 'NM_005157.3', 'NM_000022.2', 'NM_020661.1']}\n",
      "    \n"
     ]
    }
   ],
   "source": [
    "if requires_gene_mapping:\n",
    "    print(f'''\n",
    "    As a biomedical research team, we are analyzing a gene expression dataset, and find that its row headers are some identifiers related to genes:\n",
    "    {gene_row_ids}\n",
    "    To get the mapping from those identifiers to actual gene symbols, we extracted the gene annotation data from a series in the GEO database, and saved it to a Python dictionary. Please read the dictionary, and decide which key stores the identifiers, and which key stores the gene symbols. Please strictly follow this format in your answer:\n",
    "    identifier_key = 'key_name1'\n",
    "    gene_symbol_key = 'key_name2'\n",
    "\n",
    "    Gene annotation dictionary:\n",
    "    {gene_annotation_summary}\n",
    "    ''')"
   ]
  },
  {
   "cell_type": "code",
   "execution_count": 36,
   "metadata": {
    "ExecuteTime": {
     "end_time": "2024-01-30T22:10:09.427280834Z",
     "start_time": "2024-01-30T22:10:08.229165078Z"
    },
    "collapsed": false
   },
   "outputs": [
    {
     "ename": "KeyError",
     "evalue": "\"['Gene Symbol'] not in index\"",
     "output_type": "error",
     "traceback": [
      "\u001b[0;31m---------------------------------------------------------------------------\u001b[0m",
      "\u001b[0;31mKeyError\u001b[0m                                  Traceback (most recent call last)",
      "Cell \u001b[0;32mIn[36], line 4\u001b[0m\n\u001b[1;32m      2\u001b[0m identifier_key \u001b[38;5;241m=\u001b[39m \u001b[38;5;124m'\u001b[39m\u001b[38;5;124mID\u001b[39m\u001b[38;5;124m'\u001b[39m\n\u001b[1;32m      3\u001b[0m gene_symbol_key \u001b[38;5;241m=\u001b[39m \u001b[38;5;124m'\u001b[39m\u001b[38;5;124mGene Symbol\u001b[39m\u001b[38;5;124m'\u001b[39m\n\u001b[0;32m----> 4\u001b[0m gene_mapping \u001b[38;5;241m=\u001b[39m \u001b[43mget_gene_mapping\u001b[49m\u001b[43m(\u001b[49m\u001b[43mgene_annotation\u001b[49m\u001b[43m,\u001b[49m\u001b[43m \u001b[49m\u001b[43midentifier_key\u001b[49m\u001b[43m,\u001b[49m\u001b[43m \u001b[49m\u001b[43mgene_symbol_key\u001b[49m\u001b[43m)\u001b[49m\n\u001b[1;32m      5\u001b[0m genetic_data \u001b[38;5;241m=\u001b[39m apply_gene_mapping(genetic_data, gene_mapping)\n",
      "File \u001b[0;32m~/AI4Science_gold_standard/utils.py:136\u001b[0m, in \u001b[0;36mget_gene_mapping\u001b[0;34m(annotation, prob_col, gene_col)\u001b[0m\n\u001b[1;32m    133\u001b[0m \u001b[38;5;28;01mdef\u001b[39;00m \u001b[38;5;21mget_gene_mapping\u001b[39m(annotation, prob_col, gene_col):\n\u001b[1;32m    134\u001b[0m \u001b[38;5;250m    \u001b[39m\u001b[38;5;124;03m\"\"\"Process the gene annotation to get the mapping between gene names and gene probes.\u001b[39;00m\n\u001b[1;32m    135\u001b[0m \u001b[38;5;124;03m    \"\"\"\u001b[39;00m\n\u001b[0;32m--> 136\u001b[0m     mapping_data \u001b[38;5;241m=\u001b[39m \u001b[43mannotation\u001b[49m\u001b[38;5;241;43m.\u001b[39;49m\u001b[43mloc\u001b[49m\u001b[43m[\u001b[49m\u001b[43m:\u001b[49m\u001b[43m,\u001b[49m\u001b[43m \u001b[49m\u001b[43m[\u001b[49m\u001b[43mprob_col\u001b[49m\u001b[43m,\u001b[49m\u001b[43m \u001b[49m\u001b[43mgene_col\u001b[49m\u001b[43m]\u001b[49m\u001b[43m]\u001b[49m\n\u001b[1;32m    137\u001b[0m     mapping_data \u001b[38;5;241m=\u001b[39m mapping_data\u001b[38;5;241m.\u001b[39mdropna()\n\u001b[1;32m    138\u001b[0m     mapping_data \u001b[38;5;241m=\u001b[39m mapping_data\u001b[38;5;241m.\u001b[39mrename(columns\u001b[38;5;241m=\u001b[39m{gene_col: \u001b[38;5;124m'\u001b[39m\u001b[38;5;124mGene\u001b[39m\u001b[38;5;124m'\u001b[39m})\u001b[38;5;241m.\u001b[39mastype({\u001b[38;5;124m'\u001b[39m\u001b[38;5;124mID\u001b[39m\u001b[38;5;124m'\u001b[39m: \u001b[38;5;124m'\u001b[39m\u001b[38;5;124mstr\u001b[39m\u001b[38;5;124m'\u001b[39m})\n",
      "File \u001b[0;32m~/anaconda3/envs/hl/lib/python3.8/site-packages/pandas/core/indexing.py:1097\u001b[0m, in \u001b[0;36m_LocationIndexer.__getitem__\u001b[0;34m(self, key)\u001b[0m\n\u001b[1;32m   1095\u001b[0m     \u001b[38;5;28;01mif\u001b[39;00m \u001b[38;5;28mself\u001b[39m\u001b[38;5;241m.\u001b[39m_is_scalar_access(key):\n\u001b[1;32m   1096\u001b[0m         \u001b[38;5;28;01mreturn\u001b[39;00m \u001b[38;5;28mself\u001b[39m\u001b[38;5;241m.\u001b[39mobj\u001b[38;5;241m.\u001b[39m_get_value(\u001b[38;5;241m*\u001b[39mkey, takeable\u001b[38;5;241m=\u001b[39m\u001b[38;5;28mself\u001b[39m\u001b[38;5;241m.\u001b[39m_takeable)\n\u001b[0;32m-> 1097\u001b[0m     \u001b[38;5;28;01mreturn\u001b[39;00m \u001b[38;5;28;43mself\u001b[39;49m\u001b[38;5;241;43m.\u001b[39;49m\u001b[43m_getitem_tuple\u001b[49m\u001b[43m(\u001b[49m\u001b[43mkey\u001b[49m\u001b[43m)\u001b[49m\n\u001b[1;32m   1098\u001b[0m \u001b[38;5;28;01melse\u001b[39;00m:\n\u001b[1;32m   1099\u001b[0m     \u001b[38;5;66;03m# we by definition only have the 0th axis\u001b[39;00m\n\u001b[1;32m   1100\u001b[0m     axis \u001b[38;5;241m=\u001b[39m \u001b[38;5;28mself\u001b[39m\u001b[38;5;241m.\u001b[39maxis \u001b[38;5;129;01mor\u001b[39;00m \u001b[38;5;241m0\u001b[39m\n",
      "File \u001b[0;32m~/anaconda3/envs/hl/lib/python3.8/site-packages/pandas/core/indexing.py:1289\u001b[0m, in \u001b[0;36m_LocIndexer._getitem_tuple\u001b[0;34m(self, tup)\u001b[0m\n\u001b[1;32m   1286\u001b[0m \u001b[38;5;28;01mif\u001b[39;00m \u001b[38;5;28mself\u001b[39m\u001b[38;5;241m.\u001b[39m_multi_take_opportunity(tup):\n\u001b[1;32m   1287\u001b[0m     \u001b[38;5;28;01mreturn\u001b[39;00m \u001b[38;5;28mself\u001b[39m\u001b[38;5;241m.\u001b[39m_multi_take(tup)\n\u001b[0;32m-> 1289\u001b[0m \u001b[38;5;28;01mreturn\u001b[39;00m \u001b[38;5;28;43mself\u001b[39;49m\u001b[38;5;241;43m.\u001b[39;49m\u001b[43m_getitem_tuple_same_dim\u001b[49m\u001b[43m(\u001b[49m\u001b[43mtup\u001b[49m\u001b[43m)\u001b[49m\n",
      "File \u001b[0;32m~/anaconda3/envs/hl/lib/python3.8/site-packages/pandas/core/indexing.py:955\u001b[0m, in \u001b[0;36m_LocationIndexer._getitem_tuple_same_dim\u001b[0;34m(self, tup)\u001b[0m\n\u001b[1;32m    952\u001b[0m \u001b[38;5;28;01mif\u001b[39;00m com\u001b[38;5;241m.\u001b[39mis_null_slice(key):\n\u001b[1;32m    953\u001b[0m     \u001b[38;5;28;01mcontinue\u001b[39;00m\n\u001b[0;32m--> 955\u001b[0m retval \u001b[38;5;241m=\u001b[39m \u001b[38;5;28;43mgetattr\u001b[39;49m\u001b[43m(\u001b[49m\u001b[43mretval\u001b[49m\u001b[43m,\u001b[49m\u001b[43m \u001b[49m\u001b[38;5;28;43mself\u001b[39;49m\u001b[38;5;241;43m.\u001b[39;49m\u001b[43mname\u001b[49m\u001b[43m)\u001b[49m\u001b[38;5;241;43m.\u001b[39;49m\u001b[43m_getitem_axis\u001b[49m\u001b[43m(\u001b[49m\u001b[43mkey\u001b[49m\u001b[43m,\u001b[49m\u001b[43m \u001b[49m\u001b[43maxis\u001b[49m\u001b[38;5;241;43m=\u001b[39;49m\u001b[43mi\u001b[49m\u001b[43m)\u001b[49m\n\u001b[1;32m    956\u001b[0m \u001b[38;5;66;03m# We should never have retval.ndim < self.ndim, as that should\u001b[39;00m\n\u001b[1;32m    957\u001b[0m \u001b[38;5;66;03m#  be handled by the _getitem_lowerdim call above.\u001b[39;00m\n\u001b[1;32m    958\u001b[0m \u001b[38;5;28;01massert\u001b[39;00m retval\u001b[38;5;241m.\u001b[39mndim \u001b[38;5;241m==\u001b[39m \u001b[38;5;28mself\u001b[39m\u001b[38;5;241m.\u001b[39mndim\n",
      "File \u001b[0;32m~/anaconda3/envs/hl/lib/python3.8/site-packages/pandas/core/indexing.py:1332\u001b[0m, in \u001b[0;36m_LocIndexer._getitem_axis\u001b[0;34m(self, key, axis)\u001b[0m\n\u001b[1;32m   1329\u001b[0m     \u001b[38;5;28;01mif\u001b[39;00m \u001b[38;5;28mhasattr\u001b[39m(key, \u001b[38;5;124m\"\u001b[39m\u001b[38;5;124mndim\u001b[39m\u001b[38;5;124m\"\u001b[39m) \u001b[38;5;129;01mand\u001b[39;00m key\u001b[38;5;241m.\u001b[39mndim \u001b[38;5;241m>\u001b[39m \u001b[38;5;241m1\u001b[39m:\n\u001b[1;32m   1330\u001b[0m         \u001b[38;5;28;01mraise\u001b[39;00m \u001b[38;5;167;01mValueError\u001b[39;00m(\u001b[38;5;124m\"\u001b[39m\u001b[38;5;124mCannot index with multidimensional key\u001b[39m\u001b[38;5;124m\"\u001b[39m)\n\u001b[0;32m-> 1332\u001b[0m     \u001b[38;5;28;01mreturn\u001b[39;00m \u001b[38;5;28;43mself\u001b[39;49m\u001b[38;5;241;43m.\u001b[39;49m\u001b[43m_getitem_iterable\u001b[49m\u001b[43m(\u001b[49m\u001b[43mkey\u001b[49m\u001b[43m,\u001b[49m\u001b[43m \u001b[49m\u001b[43maxis\u001b[49m\u001b[38;5;241;43m=\u001b[39;49m\u001b[43maxis\u001b[49m\u001b[43m)\u001b[49m\n\u001b[1;32m   1334\u001b[0m \u001b[38;5;66;03m# nested tuple slicing\u001b[39;00m\n\u001b[1;32m   1335\u001b[0m \u001b[38;5;28;01mif\u001b[39;00m is_nested_tuple(key, labels):\n",
      "File \u001b[0;32m~/anaconda3/envs/hl/lib/python3.8/site-packages/pandas/core/indexing.py:1272\u001b[0m, in \u001b[0;36m_LocIndexer._getitem_iterable\u001b[0;34m(self, key, axis)\u001b[0m\n\u001b[1;32m   1269\u001b[0m \u001b[38;5;28mself\u001b[39m\u001b[38;5;241m.\u001b[39m_validate_key(key, axis)\n\u001b[1;32m   1271\u001b[0m \u001b[38;5;66;03m# A collection of keys\u001b[39;00m\n\u001b[0;32m-> 1272\u001b[0m keyarr, indexer \u001b[38;5;241m=\u001b[39m \u001b[38;5;28;43mself\u001b[39;49m\u001b[38;5;241;43m.\u001b[39;49m\u001b[43m_get_listlike_indexer\u001b[49m\u001b[43m(\u001b[49m\u001b[43mkey\u001b[49m\u001b[43m,\u001b[49m\u001b[43m \u001b[49m\u001b[43maxis\u001b[49m\u001b[43m)\u001b[49m\n\u001b[1;32m   1273\u001b[0m \u001b[38;5;28;01mreturn\u001b[39;00m \u001b[38;5;28mself\u001b[39m\u001b[38;5;241m.\u001b[39mobj\u001b[38;5;241m.\u001b[39m_reindex_with_indexers(\n\u001b[1;32m   1274\u001b[0m     {axis: [keyarr, indexer]}, copy\u001b[38;5;241m=\u001b[39m\u001b[38;5;28;01mTrue\u001b[39;00m, allow_dups\u001b[38;5;241m=\u001b[39m\u001b[38;5;28;01mTrue\u001b[39;00m\n\u001b[1;32m   1275\u001b[0m )\n",
      "File \u001b[0;32m~/anaconda3/envs/hl/lib/python3.8/site-packages/pandas/core/indexing.py:1462\u001b[0m, in \u001b[0;36m_LocIndexer._get_listlike_indexer\u001b[0;34m(self, key, axis)\u001b[0m\n\u001b[1;32m   1459\u001b[0m ax \u001b[38;5;241m=\u001b[39m \u001b[38;5;28mself\u001b[39m\u001b[38;5;241m.\u001b[39mobj\u001b[38;5;241m.\u001b[39m_get_axis(axis)\n\u001b[1;32m   1460\u001b[0m axis_name \u001b[38;5;241m=\u001b[39m \u001b[38;5;28mself\u001b[39m\u001b[38;5;241m.\u001b[39mobj\u001b[38;5;241m.\u001b[39m_get_axis_name(axis)\n\u001b[0;32m-> 1462\u001b[0m keyarr, indexer \u001b[38;5;241m=\u001b[39m \u001b[43max\u001b[49m\u001b[38;5;241;43m.\u001b[39;49m\u001b[43m_get_indexer_strict\u001b[49m\u001b[43m(\u001b[49m\u001b[43mkey\u001b[49m\u001b[43m,\u001b[49m\u001b[43m \u001b[49m\u001b[43maxis_name\u001b[49m\u001b[43m)\u001b[49m\n\u001b[1;32m   1464\u001b[0m \u001b[38;5;28;01mreturn\u001b[39;00m keyarr, indexer\n",
      "File \u001b[0;32m~/anaconda3/envs/hl/lib/python3.8/site-packages/pandas/core/indexes/base.py:5877\u001b[0m, in \u001b[0;36mIndex._get_indexer_strict\u001b[0;34m(self, key, axis_name)\u001b[0m\n\u001b[1;32m   5874\u001b[0m \u001b[38;5;28;01melse\u001b[39;00m:\n\u001b[1;32m   5875\u001b[0m     keyarr, indexer, new_indexer \u001b[38;5;241m=\u001b[39m \u001b[38;5;28mself\u001b[39m\u001b[38;5;241m.\u001b[39m_reindex_non_unique(keyarr)\n\u001b[0;32m-> 5877\u001b[0m \u001b[38;5;28;43mself\u001b[39;49m\u001b[38;5;241;43m.\u001b[39;49m\u001b[43m_raise_if_missing\u001b[49m\u001b[43m(\u001b[49m\u001b[43mkeyarr\u001b[49m\u001b[43m,\u001b[49m\u001b[43m \u001b[49m\u001b[43mindexer\u001b[49m\u001b[43m,\u001b[49m\u001b[43m \u001b[49m\u001b[43maxis_name\u001b[49m\u001b[43m)\u001b[49m\n\u001b[1;32m   5879\u001b[0m keyarr \u001b[38;5;241m=\u001b[39m \u001b[38;5;28mself\u001b[39m\u001b[38;5;241m.\u001b[39mtake(indexer)\n\u001b[1;32m   5880\u001b[0m \u001b[38;5;28;01mif\u001b[39;00m \u001b[38;5;28misinstance\u001b[39m(key, Index):\n\u001b[1;32m   5881\u001b[0m     \u001b[38;5;66;03m# GH 42790 - Preserve name from an Index\u001b[39;00m\n",
      "File \u001b[0;32m~/anaconda3/envs/hl/lib/python3.8/site-packages/pandas/core/indexes/base.py:5941\u001b[0m, in \u001b[0;36mIndex._raise_if_missing\u001b[0;34m(self, key, indexer, axis_name)\u001b[0m\n\u001b[1;32m   5938\u001b[0m     \u001b[38;5;28;01mraise\u001b[39;00m \u001b[38;5;167;01mKeyError\u001b[39;00m(\u001b[38;5;124mf\u001b[39m\u001b[38;5;124m\"\u001b[39m\u001b[38;5;124mNone of [\u001b[39m\u001b[38;5;132;01m{\u001b[39;00mkey\u001b[38;5;132;01m}\u001b[39;00m\u001b[38;5;124m] are in the [\u001b[39m\u001b[38;5;132;01m{\u001b[39;00maxis_name\u001b[38;5;132;01m}\u001b[39;00m\u001b[38;5;124m]\u001b[39m\u001b[38;5;124m\"\u001b[39m)\n\u001b[1;32m   5940\u001b[0m not_found \u001b[38;5;241m=\u001b[39m \u001b[38;5;28mlist\u001b[39m(ensure_index(key)[missing_mask\u001b[38;5;241m.\u001b[39mnonzero()[\u001b[38;5;241m0\u001b[39m]]\u001b[38;5;241m.\u001b[39munique())\n\u001b[0;32m-> 5941\u001b[0m \u001b[38;5;28;01mraise\u001b[39;00m \u001b[38;5;167;01mKeyError\u001b[39;00m(\u001b[38;5;124mf\u001b[39m\u001b[38;5;124m\"\u001b[39m\u001b[38;5;132;01m{\u001b[39;00mnot_found\u001b[38;5;132;01m}\u001b[39;00m\u001b[38;5;124m not in index\u001b[39m\u001b[38;5;124m\"\u001b[39m)\n",
      "\u001b[0;31mKeyError\u001b[0m: \"['Gene Symbol'] not in index\""
     ]
    }
   ],
   "source": [
    "if requires_gene_mapping:\n",
    "    identifier_key = 'ID'\n",
    "    gene_symbol_key = 'Gene Symbol'\n",
    "    gene_mapping = get_gene_mapping(gene_annotation, identifier_key, gene_symbol_key)\n",
    "    genetic_data = apply_gene_mapping(genetic_data, gene_mapping)"
   ]
  },
  {
   "cell_type": "code",
   "execution_count": null,
   "metadata": {
    "ExecuteTime": {
     "start_time": "2024-01-30T22:10:09.427167884Z"
    },
    "collapsed": false
   },
   "outputs": [],
   "source": [
    "if NORMALIZE_GENE:\n",
    "    genetic_data = normalize_gene_symbols_in_index(genetic_data)"
   ]
  },
  {
   "cell_type": "code",
   "execution_count": null,
   "metadata": {
    "collapsed": false
   },
   "outputs": [],
   "source": [
    "genetic_data"
   ]
  },
  {
   "cell_type": "code",
   "execution_count": null,
   "metadata": {
    "collapsed": false
   },
   "outputs": [],
   "source": [
    "merged_data = geo_merge_clinical_genetic_data(selected_clinical_data, genetic_data)\n",
    "# The preprocessing runs through, which means is_available should be True\n",
    "is_available = True"
   ]
  },
  {
   "cell_type": "code",
   "execution_count": null,
   "metadata": {
    "collapsed": false
   },
   "outputs": [],
   "source": [
    "print(f\"The merged dataset contains {len(merged_data)} samples.\")"
   ]
  },
  {
   "cell_type": "code",
   "execution_count": null,
   "metadata": {
    "collapsed": false
   },
   "outputs": [],
   "source": [
    "is_trait_biased, merged_data = judge_and_remove_biased_features(merged_data, TRAIT, trait_type=trait_type)\n",
    "is_trait_biased"
   ]
  },
  {
   "cell_type": "code",
   "execution_count": null,
   "metadata": {
    "collapsed": false
   },
   "outputs": [],
   "source": [
    "if is_available:\n",
    "    save_cohort_info(cohort, JSON_PATH, is_available, is_trait_biased, merged_data, note='')\n",
    "else:\n",
    "    save_cohort_info(cohort, JSON_PATH, is_available)"
   ]
  },
  {
   "cell_type": "code",
   "execution_count": null,
   "metadata": {
    "collapsed": false
   },
   "outputs": [],
   "source": [
    "merged_data.head()\n",
    "if not is_trait_biased:\n",
    "    merged_data.to_csv(os.path.join(OUTPUT_DIR, cohort + '.csv'), index=False)"
   ]
  },
  {
   "cell_type": "markdown",
   "metadata": {
    "ExecuteTime": {
     "end_time": "2023-12-31T03:58:22.271683755Z",
     "start_time": "2023-12-31T03:58:22.246557674Z"
    },
    "id": "-MTPhRGxJV7I"
   },
   "source": [
    "### 3. Do regression & Cross Validation"
   ]
  },
  {
   "cell_type": "code",
   "execution_count": null,
   "metadata": {
    "collapsed": false
   },
   "outputs": [],
   "source": [
    "# Check the information of usable cohorts\n",
    "best_cohort, ranked_df = filter_and_rank_cohorts(JSON_PATH)\n",
    "ranked_df"
   ]
  },
  {
   "cell_type": "code",
   "execution_count": null,
   "metadata": {
    "collapsed": false
   },
   "outputs": [],
   "source": [
    "# If both age and gender have available cohorts, select 'age' as the condition.\n",
    "condition = 'Age'\n",
    "filter_column = 'has_' + condition.lower()\n",
    "\n",
    "condition_best_cohort, condition_ranked_df = filter_and_rank_cohorts(JSON_PATH, filter_column)\n",
    "condition_best_cohort"
   ]
  },
  {
   "cell_type": "code",
   "execution_count": null,
   "metadata": {
    "collapsed": false
   },
   "outputs": [],
   "source": [
    "condition_ranked_df.head()"
   ]
  },
  {
   "cell_type": "code",
   "execution_count": null,
   "metadata": {
    "collapsed": false
   },
   "outputs": [],
   "source": [
    "merged_data = pd.read_csv(os.path.join(OUTPUT_DIR, condition_best_cohort + '.csv'))\n",
    "merged_data.head()"
   ]
  },
  {
   "cell_type": "code",
   "execution_count": null,
   "metadata": {
    "collapsed": false
   },
   "outputs": [],
   "source": [
    "# Remove the other condition to prevent interference.\n",
    "merged_data = merged_data.drop(columns=['Gender'], errors='ignore').astype('float')\n",
    "\n",
    "X = merged_data.drop(columns=[TRAIT, condition]).values\n",
    "Y = merged_data[TRAIT].values\n",
    "Z = merged_data[condition].values"
   ]
  },
  {
   "cell_type": "markdown",
   "metadata": {
    "collapsed": false
   },
   "source": [
    "Select the appropriate regression model depending on whether the dataset shows batch effect."
   ]
  },
  {
   "cell_type": "code",
   "execution_count": null,
   "metadata": {
    "collapsed": false
   },
   "outputs": [],
   "source": [
    "has_batch_effect = detect_batch_effect(X)\n",
    "has_batch_effect"
   ]
  },
  {
   "cell_type": "code",
   "execution_count": null,
   "metadata": {
    "collapsed": false
   },
   "outputs": [],
   "source": [
    "# Select appropriate models based on whether the dataset has batch effect.\n",
    "# We experiment on two models for each branch. We will decide which one to choose later.\n",
    "\n",
    "if has_batch_effect:\n",
    "    model_constructor1 = VariableSelection\n",
    "    model_params1 = {'modified': True, 'lamda': 3e-4}\n",
    "    model_constructor2 = VariableSelection\n",
    "    model_params2 = {'modified': False}\n",
    "else:\n",
    "    model_constructor1 = Lasso\n",
    "    model_params1 = {'alpha': 1.0, 'random_state': 42}\n",
    "    model_constructor2 = VariableSelection\n",
    "    model_params2 = {'modified': False}"
   ]
  },
  {
   "cell_type": "code",
   "execution_count": null,
   "metadata": {
    "collapsed": false
   },
   "outputs": [],
   "source": [
    "trait_type = 'binary'  # Remember to set this properly, either 'binary' or 'continuous'\n",
    "cv_mean1, cv_std1 = cross_validation(X, Y, Z, model_constructor1, model_params1, target_type=trait_type)"
   ]
  },
  {
   "cell_type": "code",
   "execution_count": null,
   "metadata": {
    "collapsed": false
   },
   "outputs": [],
   "source": [
    "cv_mean2, cv_std2 = cross_validation(X, Y, Z, model_constructor2, model_params2, target_type=trait_type)"
   ]
  },
  {
   "cell_type": "code",
   "execution_count": null,
   "metadata": {
    "collapsed": false
   },
   "outputs": [],
   "source": [
    "normalized_X, _ = normalize_data(X)\n",
    "normalized_Z, _ = normalize_data(Z)\n",
    "\n",
    "# Train regression model on the whole dataset to identify significant genes\n",
    "model1 = ResidualizationRegressor(model_constructor1, model_params1)\n",
    "model1.fit(normalized_X, Y, normalized_Z)\n",
    "\n",
    "model2 = ResidualizationRegressor(model_constructor2, model_params2)\n",
    "model2.fit(normalized_X, Y, normalized_Z)"
   ]
  },
  {
   "cell_type": "markdown",
   "metadata": {
    "ExecuteTime": {
     "end_time": "2023-10-14T04:50:59.072075075Z",
     "start_time": "2023-10-14T04:50:38.739499998Z"
    },
    "id": "EjJrxbvb4nlj"
   },
   "source": [
    "### 4. Discussion and report"
   ]
  },
  {
   "cell_type": "code",
   "execution_count": null,
   "metadata": {
    "collapsed": false
   },
   "outputs": [],
   "source": [
    "feature_cols = merged_data.columns.tolist()\n",
    "feature_cols.remove(TRAIT)\n",
    "\n",
    "threshold = 0.05\n",
    "interpret_result(model1, feature_cols, TRAIT, condition, threshold=threshold, save_output=True,\n",
    "                 output_dir=OUTPUT_DIR, model_id=1)"
   ]
  },
  {
   "cell_type": "code",
   "execution_count": null,
   "metadata": {
    "collapsed": false
   },
   "outputs": [],
   "source": [
    "interpret_result(model2, feature_cols, TRAIT, condition, threshold=threshold, save_output=True,\n",
    "                 output_dir=OUTPUT_DIR, model_id=2)"
   ]
  },
  {
   "cell_type": "code",
   "execution_count": null,
   "metadata": {
    "collapsed": false
   },
   "outputs": [],
   "source": []
  }
 ],
 "metadata": {
  "colab": {
   "provenance": []
  },
  "kernelspec": {
   "display_name": "Python 3 (ipykernel)",
   "language": "python",
   "name": "python3"
  },
  "language_info": {
   "codemirror_mode": {
    "name": "ipython",
    "version": 3
   },
   "file_extension": ".py",
   "mimetype": "text/x-python",
   "name": "python",
   "nbconvert_exporter": "python",
   "pygments_lexer": "ipython3",
   "version": "3.11.4"
  }
 },
 "nbformat": 4,
 "nbformat_minor": 0
}
