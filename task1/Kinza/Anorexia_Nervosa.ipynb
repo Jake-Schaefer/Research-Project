{
 "cells": [
  {
   "cell_type": "markdown",
   "metadata": {
    "collapsed": false
   },
   "source": [
    "# Gold standard curation: Preprocessing and single-step regression"
   ]
  },
  {
   "cell_type": "markdown",
   "metadata": {
    "collapsed": false
   },
   "source": [
    "In this stage of gold standard curation, we will do the data preprocessing, selection, and single-step regression for the 153 traits in our question set. This file shows the reference steps using the trait \"Breast Cancer\" as an example. The workflow consists of the following steps:\n",
    "\n",
    "1. Preprocess all the cohorts related to this trait. Each cohort should be converted to a tabular form and saved to a csv file, with columns being genetic factors, the trait, and age, gender if available;\n",
    "2. If there exists at least one cohort with age or gender information, conduct regression analysis with genetic features together with age or gender as the regressors.\n"
   ]
  },
  {
   "cell_type": "code",
   "execution_count": 1,
   "metadata": {},
   "outputs": [],
   "source": [
    "import os\n",
    "import io\n",
    "import pandas as pd\n",
    "import gzip\n",
    "import mygene\n",
    "import re\n",
    "import tempfile\n",
    "import shutil\n",
    "\n",
    "import matplotlib.pyplot as plt\n",
    "import numpy as np\n",
    "import json\n",
    "from typing import Callable, Optional, List, Tuple, Union, Any\n",
    "from sklearn.linear_model import Lasso, LogisticRegression\n",
    "from sparse_lmm import VariableSelection\n",
    "from statsmodels.stats.multitest import multipletests\n",
    "from sklearn.metrics import accuracy_score, mean_squared_error"
   ]
  },
  {
   "cell_type": "code",
   "execution_count": 2,
   "metadata": {},
   "outputs": [],
   "source": [
    "def get_relevant_filepaths(cohort_dir):\n",
    "    \"\"\"Find the file paths of a SOFT file and a matrix file from the given data directory of a cohort.\n",
    "    If there are multiple SOFT files or matrix files, simply choose the first one. May be replaced by better\n",
    "    strategies later.\n",
    "    \"\"\"\n",
    "    files = os.listdir(cohort_dir)\n",
    "    soft_files = [f for f in files if 'soft' in f.lower()]\n",
    "    matrix_files = [f for f in files if 'matrix' in f.lower()]\n",
    "    assert len(soft_files) > 0 and len(matrix_files) > 0\n",
    "    soft_file_path = os.path.join(cohort_dir, soft_files[0])\n",
    "    matrix_file_path = os.path.join(cohort_dir, matrix_files[0])\n",
    "\n",
    "    return soft_file_path, matrix_file_path"
   ]
  },
  {
   "cell_type": "code",
   "execution_count": 3,
   "metadata": {},
   "outputs": [],
   "source": [
    "def get_background_and_clinical_data(file_path,\n",
    "                                     prefixes_a=['!Series_title', '!Series_summary', '!Series_overall_design'],\n",
    "                                     prefixes_b=['!Sample_geo_accession', '!Sample_characteristics_ch1']):\n",
    "    \"\"\"Extract from a matrix file the background information about the dataset, and sample characteristics data\"\"\"\n",
    "    background_info, clinical_data = filter_content_by_prefix(file_path, prefixes_a, prefixes_b, unselect=False,\n",
    "                                                              source_type='file',\n",
    "                                                              return_df_a=False, return_df_b=True)\n",
    "    return background_info, clinical_data"
   ]
  },
  {
   "cell_type": "code",
   "execution_count": 4,
   "metadata": {},
   "outputs": [],
   "source": [
    "def filter_content_by_prefix(\n",
    "    source: str,\n",
    "    prefixes_a: List[str],\n",
    "    prefixes_b: Optional[List[str]] = None,\n",
    "    unselect: bool = False,\n",
    "    source_type: str = 'file',\n",
    "    return_df_a: bool = True,\n",
    "    return_df_b: bool = True\n",
    ") -> Tuple[Union[str, pd.DataFrame], Optional[Union[str, pd.DataFrame]]]:\n",
    "    \"\"\"\n",
    "    Filters rows from a file or a list of strings based on specified prefixes.\n",
    "\n",
    "    Parameters:\n",
    "    - source (str): File path or string content to filter.\n",
    "    - prefixes_a (List[str]): Primary list of prefixes to filter by.\n",
    "    - prefixes_b (Optional[List[str]]): Optional secondary list of prefixes to filter by.\n",
    "    - unselect (bool): If True, selects rows that do not start with the specified prefixes.\n",
    "    - source_type (str): 'file' if source is a file path, 'string' if source is a string of text.\n",
    "    - return_df_a (bool): If True, returns filtered content for prefixes_a as a pandas DataFrame.\n",
    "    - return_df_b (bool): If True, and if prefixes_b is provided, returns filtered content for prefixes_b as a pandas DataFrame.\n",
    "\n",
    "    Returns:\n",
    "    - Tuple: A tuple where the first element is the filtered content for prefixes_a, and the second element is the filtered content for prefixes_b.\n",
    "    \"\"\"\n",
    "    filtered_lines_a = []\n",
    "    filtered_lines_b = []\n",
    "    prefix_set_a = set(prefixes_a)\n",
    "    if prefixes_b is not None:\n",
    "        prefix_set_b = set(prefixes_b)\n",
    "\n",
    "    # Use generator to get lines\n",
    "    for line in line_generator(source, source_type):\n",
    "        matched_a = any(line.startswith(prefix) for prefix in prefix_set_a)\n",
    "        if matched_a != unselect:\n",
    "            filtered_lines_a.append(line)\n",
    "        if prefixes_b is not None:\n",
    "            matched_b = any(line.startswith(prefix) for prefix in prefix_set_b)\n",
    "            if matched_b != unselect:\n",
    "                filtered_lines_b.append(line)\n",
    "\n",
    "    filtered_content_a = '\\n'.join(filtered_lines_a)\n",
    "    if return_df_a:\n",
    "        filtered_content_a = pd.read_csv(io.StringIO(filtered_content_a), delimiter='\\t', low_memory=False, on_bad_lines='skip')\n",
    "    filtered_content_b = None\n",
    "    if filtered_lines_b:\n",
    "        filtered_content_b = '\\n'.join(filtered_lines_b)\n",
    "        if return_df_b:\n",
    "            filtered_content_b = pd.read_csv(io.StringIO(filtered_content_b), delimiter='\\t', low_memory=False, on_bad_lines='skip')\n",
    "\n",
    "    return filtered_content_a, filtered_content_b\n",
    "\n",
    "\n",
    "def get_background_and_clinical_data(file_path,\n",
    "                                     prefixes_a=['!Series_title', '!Series_summary', '!Series_overall_design'],\n",
    "                                     prefixes_b=['!Sample_geo_accession', '!Sample_characteristics_ch1']):\n",
    "    \"\"\"Extract from a matrix file the background information about the dataset, and sample characteristics data\"\"\"\n",
    "    background_info, clinical_data = filter_content_by_prefix(file_path, prefixes_a, prefixes_b, unselect=False,\n",
    "                                                              source_type='file',\n",
    "                                                              return_df_a=False, return_df_b=True)\n",
    "    return background_info, clinical_data\n",
    "\n",
    "\n",
    "def get_gene_annotation(file_path, prefixes=['^', '!', '#']):\n",
    "    \"\"\"Extract from a SOFT file the gene annotation data\"\"\"\n",
    "    gene_metadata = filter_content_by_prefix(file_path, prefixes_a=prefixes, unselect=True, source_type='file',\n",
    "                                             return_df_a=True)\n",
    "    return gene_metadata[0]"
   ]
  },
  {
   "cell_type": "code",
   "execution_count": 5,
   "metadata": {},
   "outputs": [],
   "source": [
    "def line_generator(source, source_type):\n",
    "    \"\"\"Generator that yields lines from a file or a string.\n",
    "\n",
    "    Parameters:\n",
    "    - source: File path or string content.\n",
    "    - source_type: 'file' or 'string'.\n",
    "    \"\"\"\n",
    "    if source_type == 'file':\n",
    "        with gzip.open(source, 'rt') as f:\n",
    "            for line in f:\n",
    "                yield line.strip()\n",
    "    elif source_type == 'string':\n",
    "        for line in source.split('\\n'):\n",
    "            yield line.strip()\n",
    "    else:\n",
    "        raise ValueError(\"source_type must be 'file' or 'string'\")\n",
    "\n",
    "\n",
    "def filter_content_by_prefix(\n",
    "    source: str,\n",
    "    prefixes_a: List[str],\n",
    "    prefixes_b: Optional[List[str]] = None,\n",
    "    unselect: bool = False,\n",
    "    source_type: str = 'file',\n",
    "    return_df_a: bool = True,\n",
    "    return_df_b: bool = True\n",
    ") -> Tuple[Union[str, pd.DataFrame], Optional[Union[str, pd.DataFrame]]]:\n",
    "    \"\"\"\n",
    "    Filters rows from a file or a list of strings based on specified prefixes.\n",
    "\n",
    "    Parameters:\n",
    "    - source (str): File path or string content to filter.\n",
    "    - prefixes_a (List[str]): Primary list of prefixes to filter by.\n",
    "    - prefixes_b (Optional[List[str]]): Optional secondary list of prefixes to filter by.\n",
    "    - unselect (bool): If True, selects rows that do not start with the specified prefixes.\n",
    "    - source_type (str): 'file' if source is a file path, 'string' if source is a string of text.\n",
    "    - return_df_a (bool): If True, returns filtered content for prefixes_a as a pandas DataFrame.\n",
    "    - return_df_b (bool): If True, and if prefixes_b is provided, returns filtered content for prefixes_b as a pandas DataFrame.\n",
    "\n",
    "    Returns:\n",
    "    - Tuple: A tuple where the first element is the filtered content for prefixes_a, and the second element is the filtered content for prefixes_b.\n",
    "    \"\"\"\n",
    "    filtered_lines_a = []\n",
    "    filtered_lines_b = []\n",
    "    prefix_set_a = set(prefixes_a)\n",
    "    if prefixes_b is not None:\n",
    "        prefix_set_b = set(prefixes_b)\n",
    "\n",
    "    # Use generator to get lines\n",
    "    for line in line_generator(source, source_type):\n",
    "        matched_a = any(line.startswith(prefix) for prefix in prefix_set_a)\n",
    "        if matched_a != unselect:\n",
    "            filtered_lines_a.append(line)\n",
    "        if prefixes_b is not None:\n",
    "            matched_b = any(line.startswith(prefix) for prefix in prefix_set_b)\n",
    "            if matched_b != unselect:\n",
    "                filtered_lines_b.append(line)\n",
    "\n",
    "    filtered_content_a = '\\n'.join(filtered_lines_a)\n",
    "    if return_df_a:\n",
    "        filtered_content_a = pd.read_csv(io.StringIO(filtered_content_a), delimiter='\\t', low_memory=False, on_bad_lines='skip')\n",
    "    filtered_content_b = None\n",
    "    if filtered_lines_b:\n",
    "        filtered_content_b = '\\n'.join(filtered_lines_b)\n",
    "        if return_df_b:\n",
    "            filtered_content_b = pd.read_csv(io.StringIO(filtered_content_b), delimiter='\\t', low_memory=False, on_bad_lines='skip')\n",
    "\n",
    "    return filtered_content_a, filtered_content_b\n"
   ]
  },
  {
   "cell_type": "code",
   "execution_count": 6,
   "metadata": {},
   "outputs": [],
   "source": [
    "def get_unique_values_by_row(dataframe, max_len=30):\n",
    "    \"\"\"\n",
    "    Organize the unique values in each row of the given dataframe, to get a dictionary\n",
    "    :param dataframe:\n",
    "    :param max_len:\n",
    "    :return:\n",
    "    \"\"\"\n",
    "    if '!Sample_geo_accession' in dataframe.columns:\n",
    "        dataframe = dataframe.drop(columns=['!Sample_geo_accession'])\n",
    "    unique_values_dict = {}\n",
    "    for index, row in dataframe.iterrows():\n",
    "        unique_values = list(row.unique())[:max_len]\n",
    "        unique_values_dict[index] = unique_values\n",
    "    return unique_values_dict"
   ]
  },
  {
   "cell_type": "code",
   "execution_count": 7,
   "metadata": {},
   "outputs": [],
   "source": [
    "def geo_select_clinical_features(clinical_df: pd.DataFrame, trait: str, trait_row: int,\n",
    "                                 convert_trait: Callable,\n",
    "                                 age_row: Optional[int] = None,\n",
    "                                 convert_age: Optional[Callable] = None,\n",
    "                                 gender_row: Optional[int] = None,\n",
    "                                 convert_gender: Optional[Callable] = None) -> pd.DataFrame:\n",
    "    \"\"\"\n",
    "    Extracts and processes specific clinical features from a DataFrame representing\n",
    "    sample characteristics in the GEO database series.\n",
    "\n",
    "    Parameters:\n",
    "    - clinical_df (pd.DataFrame): DataFrame containing clinical data.\n",
    "    - trait (str): The trait of interest.\n",
    "    - trait_row (int): Row identifier for the trait in the DataFrame.\n",
    "    - convert_trait (Callable): Function to convert trait data into a desired format.\n",
    "    - age_row (int, optional): Row identifier for age data. Default is None.\n",
    "    - convert_age (Callable, optional): Function to convert age data. Default is None.\n",
    "    - gender_row (int, optional): Row identifier for gender data. Default is None.\n",
    "    - convert_gender (Callable, optional): Function to convert gender data. Default is None.\n",
    "\n",
    "    Returns:\n",
    "    pd.DataFrame: A DataFrame containing the selected and processed clinical features.\n",
    "    \"\"\"\n",
    "    feature_list = []\n",
    "\n",
    "    trait_data = get_feature_data(clinical_df, trait_row, trait, convert_trait)\n",
    "    feature_list.append(trait_data)\n",
    "    if age_row is not None:\n",
    "        age_data = get_feature_data(clinical_df, age_row, 'Age', convert_age)\n",
    "        feature_list.append(age_data)\n",
    "    if gender_row is not None:\n",
    "        gender_data = get_feature_data(clinical_df, gender_row, 'Gender', convert_gender)\n",
    "        feature_list.append(gender_data)\n",
    "\n",
    "    selected_clinical_df = pd.concat(feature_list, axis=0)\n",
    "    return selected_clinical_df\n"
   ]
  },
  {
   "cell_type": "code",
   "execution_count": 8,
   "metadata": {},
   "outputs": [],
   "source": [
    "def get_feature_data(clinical_df, row_id, feature, convert_fn):\n",
    "    \"\"\"select the row corresponding to a feature in the sample characteristics dataframe, and convert the feature into\n",
    "    a binary or continuous variable\"\"\"\n",
    "    clinical_df = clinical_df.iloc[row_id:row_id + 1].drop(columns=['!Sample_geo_accession'], errors='ignore')\n",
    "    clinical_df.index = [feature]\n",
    "    clinical_df = clinical_df.applymap(convert_fn)\n",
    "\n",
    "    return clinical_df"
   ]
  },
  {
   "cell_type": "code",
   "execution_count": 9,
   "metadata": {},
   "outputs": [],
   "source": [
    "def save_cohort_info(cohort: str, info_path: str, is_available: bool, is_biased: Optional[bool] = None,\n",
    "                     df: Optional[pd.DataFrame] = None, note: str = '') -> None:\n",
    "    \"\"\"\n",
    "    Add or update information about the usability and quality of a dataset for statistical analysis.\n",
    "\n",
    "    Parameters:\n",
    "    cohort (str): A unique identifier for the dataset.\n",
    "    info_path (str): File path to the JSON file where records are stored.\n",
    "    is_available (bool): Indicates whether both the genetic data and trait data are available in the dataset, and can be\n",
    "     preprocessed into a dataframe.\n",
    "    is_biased (bool, optional): Indicates whether the dataset is too biased to be usable.\n",
    "        Required if `is_available` is True.\n",
    "    df (pandas.DataFrame, optional): The preprocessed dataset. Required if `is_available` is True.\n",
    "    note (str, optional): Additional notes about the dataset.\n",
    "\n",
    "    Returns:\n",
    "    None: The function does not return a value but updates or creates a record in the specified JSON file.\n",
    "    \"\"\"\n",
    "    if is_available:\n",
    "        assert (df is not None) and (is_biased is not None), \"'df' and 'is_biased' should be provided if this cohort \" \\\n",
    "                                                             \"is relevant.\"\n",
    "    is_usable = is_available and (not is_biased)\n",
    "    new_record = {\"is_usable\": is_usable,\n",
    "                  \"is_available\": is_available,\n",
    "                  \"is_biased\": is_biased if is_available else None,\n",
    "                  \"has_age\": \"Age\" in df.columns if is_available else None,\n",
    "                  \"has_gender\": \"Gender\" in df.columns if is_available else None,\n",
    "                  \"sample_size\": len(df) if is_available else None,\n",
    "                  \"note\": note}\n",
    "\n",
    "    if not os.path.exists(info_path):\n",
    "        with open(info_path, 'w') as file:\n",
    "            json.dump({}, file)\n",
    "        print(f\"A new JSON file was created at: {info_path}\")\n",
    "\n",
    "    with open(info_path, \"r\") as file:\n",
    "        records = json.load(file)\n",
    "    records[cohort] = new_record\n",
    "\n",
    "    temp_path = info_path + \".tmp\"\n",
    "    try:\n",
    "        with open(temp_path, 'w') as file:\n",
    "            json.dump(records, file)\n",
    "        os.replace(temp_path, info_path)\n",
    "\n",
    "    except Exception as e:\n",
    "        print(f\"An error occurred: {e}\")\n",
    "        if os.path.exists(temp_path):\n",
    "            os.remove(temp_path)\n",
    "        raise\n",
    "\n",
    "\n",
    "def read_json_to_dataframe(json_file: str) -> pd.DataFrame:\n",
    "    \"\"\"\n",
    "    Reads a JSON file and converts it into a pandas DataFrame.\n",
    "\n",
    "    Args:\n",
    "    json_file (str): The path to the JSON file containing the data.\n",
    "\n",
    "    Returns:\n",
    "    DataFrame: A pandas DataFrame with the JSON data.\n",
    "    \"\"\"\n",
    "    with open(json_file, 'r') as file:\n",
    "        data = json.load(file)\n",
    "    return pd.DataFrame.from_dict(data, orient='index').reset_index().rename(columns={'index': 'cohort_id'})"
   ]
  },
  {
   "cell_type": "code",
   "execution_count": 10,
   "metadata": {},
   "outputs": [],
   "source": [
    "def get_genetic_data(file_path):\n",
    "    \"\"\"Read the gene expression data into a dataframe, and adjust its format\"\"\"\n",
    "    genetic_data = pd.read_csv(file_path, compression='gzip', skiprows=52, comment='!', delimiter='\\t')\n",
    "    genetic_data = genetic_data.dropna()\n",
    "    genetic_data = genetic_data.rename(columns={'ID_REF': 'ID'}).astype({'ID': 'str'})\n",
    "    genetic_data.set_index('ID', inplace=True)\n",
    "\n",
    "    return genetic_data"
   ]
  },
  {
   "cell_type": "code",
   "execution_count": 11,
   "metadata": {},
   "outputs": [],
   "source": [
    "def preview_df(df, n=5):\n",
    "    return df.head(n).to_dict(orient='list')"
   ]
  },
  {
   "cell_type": "code",
   "execution_count": 12,
   "metadata": {},
   "outputs": [],
   "source": [
    "def normalize_gene_symbols(gene_symbols, batch_size=1000):\n",
    "    \"\"\"Normalize human gene symbols in batches using the 'mygenes' library\"\"\"\n",
    "    mg = mygene.MyGeneInfo()\n",
    "    normalized_genes = {}\n",
    "\n",
    "    # Process in batches\n",
    "    for i in range(0, len(gene_symbols), batch_size):\n",
    "        batch = gene_symbols[i:i + batch_size]\n",
    "        results = mg.querymany(batch, scopes='symbol', fields='symbol', species='human')\n",
    "\n",
    "        # Update the normalized_genes dictionary with results from this batch\n",
    "        for gene in results:\n",
    "            normalized_genes[gene['query']] = gene.get('symbol', None)\n",
    "\n",
    "    # Return the normalized symbols in the same order as the input\n",
    "    return [normalized_genes.get(symbol) for symbol in gene_symbols]\n",
    "\n",
    "\n",
    "def normalize_gene_symbols_in_index(gene_df):\n",
    "    \"\"\"Normalize the human gene symbols at the index of a dataframe, and replace the index with its normalized version.\n",
    "    Remove the rows where the index failed to be normalized.\"\"\"\n",
    "    normalized_gene_list = normalize_gene_symbols(gene_df.index.tolist())\n",
    "    assert len(normalized_gene_list) == len(gene_df.index)\n",
    "    gene_df.index = normalized_gene_list\n",
    "    gene_df = gene_df[gene_df.index.notnull()]\n",
    "    return gene_df"
   ]
  },
  {
   "cell_type": "code",
   "execution_count": 13,
   "metadata": {},
   "outputs": [],
   "source": [
    "def normalize_gene_symbols_in_index(gene_df):\n",
    "    \"\"\"Normalize the human gene symbols at the index of a dataframe, and replace the index with its normalized version.\n",
    "    Remove the rows where the index failed to be normalized.\"\"\"\n",
    "    normalized_gene_list = normalize_gene_symbols(gene_df.index.tolist())\n",
    "    assert len(normalized_gene_list) == len(gene_df.index)\n",
    "    gene_df.index = normalized_gene_list\n",
    "    gene_df = gene_df[gene_df.index.notnull()]\n",
    "    return gene_df"
   ]
  },
  {
   "cell_type": "code",
   "execution_count": 14,
   "metadata": {},
   "outputs": [],
   "source": [
    "def get_gene_mapping(annotation, prob_col, gene_col):\n",
    "    \"\"\"Process the gene annotation to get the mapping between gene names and gene probes.\n",
    "    \"\"\"\n",
    "    mapping_data = annotation.loc[:, [prob_col, gene_col]]\n",
    "    mapping_data = mapping_data.dropna()\n",
    "    mapping_data = mapping_data.rename(columns={gene_col: 'Gene'}).astype({'ID': 'str'})\n",
    "\n",
    "    return mapping_data"
   ]
  },
  {
   "cell_type": "code",
   "execution_count": 15,
   "metadata": {},
   "outputs": [],
   "source": [
    "def apply_gene_mapping(expression_df, mapping_df):\n",
    "    \"\"\"\n",
    "    Converts measured data about gene probes into gene expression data.\n",
    "    Handles the potential many-to-many relationship between probes and genes.\n",
    "\n",
    "    Parameters:\n",
    "    expression_df (DataFrame): A DataFrame with gene expression data, indexed by 'ID'.\n",
    "    mapping_df (DataFrame): A DataFrame mapping 'ID' to 'Gene', with 'ID' as a column.\n",
    "\n",
    "    Returns:\n",
    "    DataFrame: A DataFrame with mean gene expression values, indexed by 'Gene'.\n",
    "    \"\"\"\n",
    "\n",
    "    # Define a regex pattern for splitting gene names\n",
    "    split_pattern = r';|\\|+|/{2,}|,|\\[|\\]|\\(|\\)'\n",
    "\n",
    "    # Split the 'Gene' column in 'mapping_df' using the regex pattern\n",
    "    mapping_df['Gene'] = mapping_df['Gene'].str.split(split_pattern)\n",
    "    mapping_df = mapping_df.explode('Gene')\n",
    "\n",
    "    # Set 'ID' as the index of 'mapping_df' for merging\n",
    "    mapping_df.set_index('ID', inplace=True)\n",
    "\n",
    "    # Merge 'mapping_df' with 'expression_df' by their indices\n",
    "    merged_df = mapping_df.join(expression_df)\n",
    "\n",
    "    # Group by 'Gene' and calculate the mean expression values\n",
    "    gene_expression_df = merged_df.groupby('Gene').mean().dropna()\n",
    "\n",
    "    return gene_expression_df\n"
   ]
  },
  {
   "cell_type": "code",
   "execution_count": 16,
   "metadata": {},
   "outputs": [],
   "source": [
    "def geo_merge_clinical_genetic_data(clinical_df, genetic_df):\n",
    "    \"\"\"\n",
    "    Merge the clinical features and gene expression features from two dataframes into one dataframe\n",
    "    \"\"\"\n",
    "    if 'ID' in genetic_df.columns:\n",
    "        genetic_df = genetic_df.rename(columns={'ID': 'Gene'})\n",
    "    if 'Gene' in genetic_df.columns:\n",
    "        genetic_df = genetic_df.set_index('Gene')\n",
    "    merged_data = pd.concat([clinical_df, genetic_df], axis=0).T.dropna()\n",
    "    return merged_data"
   ]
  },
  {
   "cell_type": "code",
   "execution_count": 17,
   "metadata": {},
   "outputs": [],
   "source": [
    "def judge_binary_variable_biased(dataframe, col_name, min_proportion=0.1, min_num=5):\n",
    "    \"\"\"\n",
    "    Check if the distribution of a binary variable in the dataset is too biased to be usable for analysis\n",
    "    :param dataframe:\n",
    "    :param col_name:\n",
    "    :param min_proportion:\n",
    "    :param min_num:\n",
    "    :return:\n",
    "    \"\"\"\n",
    "    label_counter = dataframe[col_name].value_counts()\n",
    "    total_samples = len(dataframe)\n",
    "    rare_label_num = label_counter.min()\n",
    "    rare_label = label_counter.idxmin()\n",
    "    rare_label_proportion = rare_label_num / total_samples\n",
    "\n",
    "    print(\n",
    "        f\"For the feature \\'{col_name}\\', the least common label is '{rare_label}' with {rare_label_num} occurrences. This represents {rare_label_proportion:.2%} of the dataset.\")\n",
    "\n",
    "    biased = (len(label_counter) < 2) or ((rare_label_proportion < min_proportion) and (rare_label_num < min_num))\n",
    "    return bool(biased)\n",
    "\n",
    "\n",
    "def judge_continuous_variable_biased(dataframe, col_name):\n",
    "    \"\"\"Check if the distribution of a continuous variable in the dataset is too biased to be usable for analysis.\n",
    "    As a starting point, we consider it biased if all values are the same. For the next step, maybe ask GPT to judge\n",
    "    based on quartile statistics combined with its common sense knowledge about this feature.\n",
    "    \"\"\"\n",
    "    quartiles = dataframe[col_name].quantile([0.25, 0.5, 0.75])\n",
    "    min_value = dataframe[col_name].min()\n",
    "    max_value = dataframe[col_name].max()\n",
    "\n",
    "    # Printing quartile information\n",
    "    print(f\"Quartiles for '{col_name}':\")\n",
    "    print(f\"  25%: {quartiles[0.25]}\")\n",
    "    print(f\"  50% (Median): {quartiles[0.5]}\")\n",
    "    print(f\"  75%: {quartiles[0.75]}\")\n",
    "    print(f\"Min: {min_value}\")\n",
    "    print(f\"Max: {max_value}\")\n",
    "\n",
    "    biased = min_value == max_value\n",
    "\n",
    "    return bool(biased)"
   ]
  },
  {
   "cell_type": "code",
   "execution_count": 18,
   "metadata": {},
   "outputs": [],
   "source": [
    "def judge_and_remove_biased_features(df, trait, trait_type):\n",
    "    assert trait_type in [\"binary\", \"continuous\"], f\"The trait must be either a binary or a continuous variable!\"\n",
    "    if trait_type == \"binary\":\n",
    "        trait_biased = judge_binary_variable_biased(df, trait)\n",
    "    else:\n",
    "        trait_biased = judge_continuous_variable_biased(df, trait)\n",
    "    if trait_biased:\n",
    "        print(f\"The distribution of the feature \\'{trait}\\' in this dataset is severely biased.\\n\")\n",
    "    else:\n",
    "        print(f\"The distribution of the feature \\'{trait}\\' in this dataset is fine.\\n\")\n",
    "    if \"Age\" in df.columns:\n",
    "        age_biased = judge_continuous_variable_biased(df, 'Age')\n",
    "        if age_biased:\n",
    "            print(f\"The distribution of the feature \\'Age\\' in this dataset is severely biased.\\n\")\n",
    "            df = df.drop(columns='Age')\n",
    "        else:\n",
    "            print(f\"The distribution of the feature \\'Age\\' in this dataset is fine.\\n\")\n",
    "    if \"Gender\" in df.columns:\n",
    "        gender_biased = judge_binary_variable_biased(df, 'Gender')\n",
    "        if gender_biased:\n",
    "            print(f\"The distribution of the feature \\'Gender\\' in this dataset is severely biased.\\n\")\n",
    "            df = df.drop(columns='Gender')\n",
    "        else:\n",
    "            print(f\"The distribution of the feature \\'Gender\\' in this dataset is fine.\\n\")\n",
    "\n",
    "    return trait_biased, df\n"
   ]
  },
  {
   "cell_type": "code",
   "execution_count": 19,
   "metadata": {},
   "outputs": [],
   "source": [
    "def filter_and_rank_cohorts(json_file: str, condition: Union[str, None] = None) -> Tuple[\n",
    "    Union[str, None], pd.DataFrame]:\n",
    "    \"\"\"\n",
    "    Reads a JSON file, filters cohorts based on usability and an optional condition, then ranks them by sample size.\n",
    "\n",
    "    Args:\n",
    "    json_file (str): The path to the JSON file containing the data.\n",
    "    condition (str, optional): An additional condition for filtering. If None, only 'is_usable' is considered.\n",
    "\n",
    "    Returns:\n",
    "    Tuple: A tuple containing the best cohort ID (str or None if no suitable cohort is found) and\n",
    "           the filtered and ranked DataFrame.\n",
    "    \"\"\"\n",
    "    # Read the JSON file into a DataFrame\n",
    "    df = read_json_to_dataframe(json_file)\n",
    "\n",
    "    if condition:\n",
    "        filtered_df = df[(df['is_usable'] == True) & (df[condition] == True)]\n",
    "    else:\n",
    "        filtered_df = df[df['is_usable'] == True]\n",
    "\n",
    "    ranked_df = filtered_df.sort_values(by='sample_size', ascending=False)\n",
    "    best_cohort_id = ranked_df.iloc[0]['cohort_id'] if not ranked_df.empty else None\n",
    "\n",
    "    return best_cohort_id, ranked_df\n",
    "\n",
    "\n",
    "def read_json_to_dataframe(json_file: str) -> pd.DataFrame:\n",
    "    \"\"\"\n",
    "    Reads a JSON file and converts it into a pandas DataFrame.\n",
    "    \"\"\"\n",
    "    with open(json_file, 'r') as file:\n",
    "        data = json.load(file)\n",
    "    return pd.DataFrame.from_dict(data, orient='index').reset_index().rename(columns={'index': 'cohort_id'})\n",
    "\n",
    "\n",
    "def filter_and_rank_cohorts(json_file: str, condition: Union[str, None] = None) -> Tuple[\n",
    "    Union[str, None], pd.DataFrame]:\n",
    "    \"\"\"\n",
    "    Reads a JSON file, filters cohorts based on usability and an optional condition, then ranks them by sample size.\n",
    "\n",
    "    Args:\n",
    "    json_file (str): The path to the JSON file containing the data.\n",
    "    condition (str, optional): An additional condition for filtering. If None, only 'is_usable' is considered.\n",
    "\n",
    "    Returns:\n",
    "    Tuple: A tuple containing the best cohort ID (str or None if no suitable cohort is found) and\n",
    "           the filtered and ranked DataFrame.\n",
    "    \"\"\"\n",
    "    df = read_json_to_dataframe(json_file)\n",
    "    if condition:\n",
    "        filtered_df = df[(df['is_usable'] == True) & (df[condition] == True)]\n",
    "    else:\n",
    "        filtered_df = df[df['is_usable'] == True]\n",
    "    ranked_df = filtered_df.sort_values(by='sample_size', ascending=False)\n",
    "    best_cohort_id = ranked_df.iloc[0]['cohort_id'] if not ranked_df.empty else None\n",
    "\n",
    "    return best_cohort_id, ranked_df"
   ]
  },
  {
   "cell_type": "code",
   "execution_count": 20,
   "metadata": {},
   "outputs": [],
   "source": [
    "def detect_batch_effect(X):\n",
    "    \"\"\"\n",
    "    Detect potential batch effects in a dataset using eigenvalues of XX^T.\n",
    "\n",
    "    Args:\n",
    "    X (numpy.ndarray): A feature matrix with shape (n_samples, n_features).\n",
    "\n",
    "    Returns:\n",
    "    bool: True if a potential batch effect is detected, False otherwise.\n",
    "    \"\"\"\n",
    "    n_samples = X.shape[0]\n",
    "\n",
    "    # Computing XX^T\n",
    "    XXt = np.dot(X, X.T)\n",
    "\n",
    "    # Compute the eigenvalues of XX^T\n",
    "    eigen_values = np.linalg.eigvalsh(XXt)  # Using eigvalsh since XX^T is symmetric\n",
    "    eigen_values = sorted(eigen_values, reverse=True)\n",
    "\n",
    "    # Check for large gaps in the eigenvalues\n",
    "    for i in range(len(eigen_values) - 1):\n",
    "        gap = eigen_values[i] - eigen_values[i + 1]\n",
    "        if gap > 1 / n_samples:  # You may need to adjust this threshold\n",
    "            return True\n",
    "\n",
    "    return False\n"
   ]
  },
  {
   "cell_type": "code",
   "execution_count": 21,
   "metadata": {},
   "outputs": [],
   "source": [
    "def normalize_data(X_train, X_test=None):\n",
    "    \"\"\"Compute the mean and standard deviation statistics of the training data, use them to normalize the training data,\n",
    "    and optionally the test data\"\"\"\n",
    "    mean = np.mean(X_train, axis=0)\n",
    "    std = np.std(X_train, axis=0)\n",
    "\n",
    "    # Handling columns with std = 0\n",
    "    std_no_zero = np.where(std == 0, 1, std)\n",
    "\n",
    "    # Normalize X_train\n",
    "    X_train_normalized = (X_train - mean) / std_no_zero\n",
    "    # Set normalized values to 0 where std was 0\n",
    "    X_train_normalized[:, std == 0] = 0\n",
    "\n",
    "    if X_test is not None:\n",
    "        X_test_normalized = (X_test - mean) / std_no_zero\n",
    "        X_test_normalized[:, std == 0] = 0\n",
    "    else:\n",
    "        X_test_normalized = None\n",
    "\n",
    "    return X_train_normalized, X_test_normalized"
   ]
  },
  {
   "cell_type": "code",
   "execution_count": 22,
   "metadata": {},
   "outputs": [],
   "source": [
    "class ResidualizationRegressor:\n",
    "    def __init__(self, regression_model_constructor, params=None):\n",
    "        if params is None:\n",
    "            params = {}\n",
    "        self.regression_model = regression_model_constructor(**params)\n",
    "        self.beta_Z = None  # Coefficients for regression of Y on Z\n",
    "        self.beta_X = None  # Coefficients for regression of residual on X\n",
    "        self.neg_log_p_values = None  # Negative logarithm of p-values\n",
    "        self.p_values = None  # Actual p-values\n",
    "\n",
    "    def _reshape_data(self, data):\n",
    "        \"\"\"\n",
    "        Reshape the data to ensure it's in the correct format (2D array).\n",
    "\n",
    "        :param data: The input data (can be 1D or 2D array).\n",
    "        :return: Reshaped 2D array.\n",
    "        \"\"\"\n",
    "        if data.ndim == 1:\n",
    "            return data.reshape(-1, 1)\n",
    "        return data\n",
    "\n",
    "    def _reshape_output(self, data):\n",
    "        \"\"\"\n",
    "        Reshape the output data to ensure it's in the correct format (1D array).\n",
    "\n",
    "        :param data: The output data (can be 1D or 2D array).\n",
    "        :return: Reshaped 1D array.\n",
    "        \"\"\"\n",
    "        if data.ndim == 2 and data.shape[1] == 1:\n",
    "            return data.ravel()\n",
    "        return data\n",
    "\n",
    "    def fit(self, X, Y, Z):\n",
    "        X = self._reshape_data(X)\n",
    "        Y = self._reshape_data(Y)\n",
    "        Z = self._reshape_data(Z)\n",
    "\n",
    "        # Step 1: Linear regression of Y on Z\n",
    "        Z_ones = np.column_stack((np.ones(Z.shape[0]), Z))\n",
    "        self.beta_Z = np.linalg.pinv(Z_ones.T @ Z_ones) @ Z_ones.T @ Y\n",
    "        Y_hat = Z_ones @ self.beta_Z\n",
    "        e_Y = Y - Y_hat  # Residual of Y\n",
    "\n",
    "        # Step 2: Regress the residual on X using the included regression model\n",
    "        self.regression_model.fit(X, e_Y)\n",
    "\n",
    "        # Obtain coefficients from the regression model\n",
    "        if hasattr(self.regression_model, 'coef_'):\n",
    "            self.beta_X = self.regression_model.coef_\n",
    "        elif hasattr(self.regression_model, 'getBeta'):\n",
    "            beta_output = self.regression_model.getBeta()\n",
    "            self.beta_X = self._reshape_output(beta_output)\n",
    "\n",
    "        # Obtain negative logarithm of p-values, if available\n",
    "        if hasattr(self.regression_model, 'getNegLogP'):\n",
    "            neg_log_p_output = self.regression_model.getNegLogP()\n",
    "            if neg_log_p_output is not None:\n",
    "                self.neg_log_p_values = self._reshape_output(neg_log_p_output)\n",
    "                self.p_values = np.exp(-self.neg_log_p_values)\n",
    "                # Concatenate the p-values of Z and X. The p-values of Z were not computed, mark with NaN.\n",
    "                p_values_Z = np.full(Z.shape[1], np.nan)\n",
    "                self.p_values = np.concatenate((p_values_Z, self.p_values))\n",
    "\n",
    "    def predict(self, X, Z):\n",
    "        X = self._reshape_data(X)\n",
    "        Z = self._reshape_data(Z)\n",
    "\n",
    "        Z_ones = np.column_stack((np.ones(Z.shape[0]), Z))\n",
    "        ZX = np.column_stack((Z, X))\n",
    "        combined_beta = np.concatenate((self.beta_Z[1:].ravel(), self.beta_X.ravel()))\n",
    "        return ZX @ combined_beta + self.beta_Z[0]\n",
    "\n",
    "    def get_coefficients(self):\n",
    "        return np.concatenate((self.beta_Z[1:].ravel(), self.beta_X.ravel()))\n",
    "\n",
    "    def get_p_values(self):\n",
    "        return self.p_values"
   ]
  },
  {
   "cell_type": "code",
   "execution_count": 23,
   "metadata": {},
   "outputs": [],
   "source": [
    "def cross_validation(X, Y, Z, model_constructor, model_params, k=5, target_type='binary'):\n",
    "    assert target_type in ['binary', 'continuous'], \"The target type must be chosen from 'binary' or 'continuous'\"\n",
    "    indices = np.arange(X.shape[0])\n",
    "    np.random.shuffle(indices)\n",
    "\n",
    "    fold_size = len(X) // k\n",
    "    performances = []\n",
    "\n",
    "    for i in range(k):\n",
    "        # Split data into train and test based on the current fold\n",
    "        test_indices = indices[i * fold_size: (i + 1) * fold_size]\n",
    "        train_indices = np.setdiff1d(indices, test_indices)\n",
    "\n",
    "        X_train, X_test = X[train_indices], X[test_indices]\n",
    "        Y_train, Y_test = Y[train_indices], Y[test_indices]\n",
    "        Z_train, Z_test = Z[train_indices], Z[test_indices]\n",
    "\n",
    "        normalized_X_train, normalized_X_test = normalize_data(X_train, X_test)\n",
    "        normalized_Z_train, normalized_Z_test = normalize_data(Z_train, Z_test)\n",
    "\n",
    "        # model = model_constructor(**model_params)\n",
    "        model = ResidualizationRegressor(model_constructor, model_params)\n",
    "        model.fit(normalized_X_train, Y_train, normalized_Z_train)\n",
    "        predictions = model.predict(normalized_X_test, normalized_Z_test)\n",
    "\n",
    "        if target_type == 'binary':\n",
    "            predictions = (predictions > 0.5).astype(int)\n",
    "            Y_test = (Y_test > 0.5).astype(int)\n",
    "            performance = accuracy_score(Y_test, predictions)\n",
    "        elif target_type == 'continuous':\n",
    "            performance = mean_squared_error(Y_test, predictions)\n",
    "\n",
    "        performances.append(performance)\n",
    "\n",
    "    cv_mean = np.mean(performances)\n",
    "    cv_std = np.std(performances)\n",
    "\n",
    "    if target_type == 'binary':\n",
    "        print(f'The cross-validation accuracy is {(cv_mean * 100):.2f}% ± {(cv_std * 100):.2f}%')\n",
    "    else:\n",
    "        print(f'The cross-validation MSE is {(cv_mean * 100):.2f} ± {(cv_std * 100):.2f}')\n",
    "\n",
    "    return cv_mean, cv_std"
   ]
  },
  {
   "cell_type": "code",
   "execution_count": 24,
   "metadata": {},
   "outputs": [],
   "source": [
    "def interpret_result(model: Any, feature_names: List[str], trait: str, condition: str,\n",
    "                     threshold: float = 0.05, save_output: bool = True,\n",
    "                     output_dir: str = './output', model_id: int = 1) -> None:\n",
    "    \"\"\"This function interprets and reports the result of a trained linear regression model, where the regressor\n",
    "    consists of one variable about condition and multiple variables about genetic factors.\n",
    "    The function extracts coefficients and p-values from the model, and identifies the significant genes based on\n",
    "    p-values or non-zero coefficients, depending on the availability of p-values.\n",
    "\n",
    "    Parameters:\n",
    "    model (Any): The trained regression Model.\n",
    "    feature_names (List[str]): A list of feature names corresponding to the model's coefficients.\n",
    "    trait (str): The target trait of interest.\n",
    "    condition (str): The specific condition to examine within the model.\n",
    "    threshold (float): Significance level for p-value correction. Defaults to 0.05.\n",
    "    save_output (bool): Flag to determine whether to save the output to a file. Defaults to True.\n",
    "    output_dir (str): Directory path where output files are saved. Defaults to './output'.\n",
    "    model_id (int): The index of the model, 1 or 2.\n",
    "\n",
    "    Returns:\n",
    "    None: This function does not return anything but prints and optionally saves the output.\n",
    "    \"\"\"\n",
    "    coefficients = model.get_coefficients().reshape(-1).tolist()\n",
    "    p_values = model.get_p_values()\n",
    "    if p_values is None:\n",
    "        regression_df = pd.DataFrame({\n",
    "            'Variable': feature_names,\n",
    "            'Coefficient': coefficients\n",
    "        })\n",
    "    else:\n",
    "        regression_df = pd.DataFrame({\n",
    "            'Variable': feature_names,\n",
    "            'Coefficient': coefficients,\n",
    "            'p_value': p_values.reshape(-1).tolist()\n",
    "        })\n",
    "\n",
    "    condition_effect = regression_df[regression_df['Variable'] == condition].iloc[0]\n",
    "\n",
    "    print(f\"Effect of the condition on the target variable:\")\n",
    "    print(f\"Variable: {condition}\")\n",
    "    print(f\"Coefficient: {condition_effect['Coefficient']:.4f}\")\n",
    "    gene_regression_df = regression_df[regression_df['Variable'] != condition]\n",
    "    if p_values is None:\n",
    "        gene_regression_df['Absolute Coefficient'] = gene_regression_df['Coefficient'].abs()\n",
    "        significant_genes = gene_regression_df[gene_regression_df['Coefficient'] != 0]\n",
    "        significant_genes_sorted = significant_genes.sort_values(by='Absolute Coefficient', ascending=False)\n",
    "        print(\n",
    "            f\"Found {len(significant_genes_sorted)} genes with non-zero coefficients associated with the trait '{trait}' \"\n",
    "            f\"conditional on the factor '{condition}'. These genes are identified as significant based on the regression model.\")\n",
    "    else:\n",
    "        # Apply the Benjamini-Hochberg correction, to get the corrected p-values\n",
    "        corrected_p_values = multipletests(gene_regression_df['p_value'], alpha=threshold, method='fdr_bh')[1]\n",
    "        gene_regression_df.loc[:, 'corrected_p_value'] = corrected_p_values\n",
    "        significant_genes = gene_regression_df.loc[gene_regression_df['corrected_p_value'] < threshold]\n",
    "        significant_genes_sorted = significant_genes.sort_values('corrected_p_value')\n",
    "        print(\n",
    "            f\"Found {len(significant_genes_sorted)} significant genes associated with the trait '{trait}' conditional on \"\n",
    "            f\"the factor '{condition}', with corrected p-value < {threshold}:\")\n",
    "\n",
    "    print(significant_genes_sorted.to_string(index=False))\n",
    "\n",
    "    # Optionally, save this to a CSV file\n",
    "    if save_output:\n",
    "        significant_genes_sorted.to_csv(\n",
    "            os.path.join(output_dir, f'significant_genes_condition_{condition}_{model_id}.csv'), index=False)"
   ]
  },
  {
   "cell_type": "markdown",
   "metadata": {
    "collapsed": false
   },
   "source": [
    "# 1. Basic setup"
   ]
  },
  {
   "cell_type": "code",
   "execution_count": 25,
   "metadata": {
    "ExecuteTime": {
     "end_time": "2024-01-10T21:37:25.927828954Z",
     "start_time": "2024-01-10T21:37:25.311064788Z"
    },
    "collapsed": false
   },
   "outputs": [],
   "source": [
    "import os\n",
    "import sys\n",
    "\n",
    "sys.path.append('..')\n",
    "from utils import *\n",
    "\n",
    "# Set your preferred name\n",
    "USER = \"Miantong\"\n",
    "# Set the data and output directories\n",
    "DATA_ROOT = '/Users/mz/Desktop/AI4Science/DATA/'\n",
    "OUTPUT_ROOT = '/Users/mz/Desktop/AI4Science/DATA/output1'\n",
    "TRAIT = \"Anorexia-Nervosa\"\n",
    "\n",
    "OUTPUT_DIR = os.path.join(OUTPUT_ROOT, USER, '-'.join(TRAIT.split()))\n",
    "JSON_PATH = os.path.join(OUTPUT_DIR, \"cohort_info.json\")\n",
    "if not os.path.exists(OUTPUT_DIR):\n",
    "    os.makedirs(OUTPUT_DIR, exist_ok=True)\n",
    "\n",
    "# Gene symbol normalization may take 1-2 minutes. You may set it to False for debugging.\n",
    "NORMALIZE_GENE = True"
   ]
  },
  {
   "cell_type": "markdown",
   "metadata": {
    "collapsed": false
   },
   "source": [
    "# 2. Data preprocessing and selection"
   ]
  },
  {
   "cell_type": "markdown",
   "metadata": {
    "ExecuteTime": {
     "end_time": "2023-12-28T21:28:38.028916303Z",
     "start_time": "2023-12-28T21:28:38.016245426Z"
    },
    "collapsed": false
   },
   "source": [
    "## 2.2. The GEO dataset"
   ]
  },
  {
   "cell_type": "markdown",
   "metadata": {
    "ExecuteTime": {
     "end_time": "2023-12-31T03:25:23.253882615Z",
     "start_time": "2023-12-31T03:25:23.244062710Z"
    },
    "collapsed": false
   },
   "source": [
    "In GEO, there may be one or multiple cohorts for a trait. Each cohort is identified by an accession number. We iterate over all accession numbers in the corresponding subdirectory, preprocess the cohort data, and save them to csv files."
   ]
  },
  {
   "cell_type": "code",
   "execution_count": 26,
   "metadata": {
    "ExecuteTime": {
     "end_time": "2024-01-10T21:38:31.425592571Z",
     "start_time": "2024-01-10T21:38:31.419137625Z"
    },
    "collapsed": false
   },
   "outputs": [
    {
     "data": {
      "text/plain": [
       "['GSE60190']"
      ]
     },
     "execution_count": 26,
     "metadata": {},
     "output_type": "execute_result"
    }
   ],
   "source": [
    "dataset = 'GEO'\n",
    "trait_subdir = \"Anorexia-Nervosa\"\n",
    "\n",
    "trait_path = os.path.join(DATA_ROOT, dataset, trait_subdir)\n",
    "os.listdir(trait_path)"
   ]
  },
  {
   "cell_type": "code",
   "execution_count": 27,
   "metadata": {
    "ExecuteTime": {
     "end_time": "2024-01-10T21:39:02.935079426Z",
     "start_time": "2024-01-10T21:39:02.923698385Z"
    },
    "collapsed": false
   },
   "outputs": [
    {
     "data": {
      "text/plain": [
       "('/Users/mz/Desktop/AI4Science/DATA/GEO/Anorexia-Nervosa/GSE60190/GSE60190_family.soft.gz',\n",
       " '/Users/mz/Desktop/AI4Science/DATA/GEO/Anorexia-Nervosa/GSE60190/GSE60190_series_matrix.txt.gz')"
      ]
     },
     "execution_count": 27,
     "metadata": {},
     "output_type": "execute_result"
    }
   ],
   "source": [
    "cohort = accession_num = \"GSE60190\"\n",
    "cohort_dir = os.path.join(trait_path, accession_num)\n",
    "soft_file, matrix_file = get_relevant_filepaths(cohort_dir)\n",
    "soft_file, matrix_file"
   ]
  },
  {
   "cell_type": "markdown",
   "metadata": {
    "collapsed": false
   },
   "source": [
    "### Initial filtering and clinical data preprocessing"
   ]
  },
  {
   "cell_type": "code",
   "execution_count": 28,
   "metadata": {
    "ExecuteTime": {
     "end_time": "2024-01-10T21:39:03.718770427Z",
     "start_time": "2024-01-10T21:39:03.677006442Z"
    },
    "collapsed": false
   },
   "outputs": [
    {
     "name": "stdout",
     "output_type": "stream",
     "text": [
      "!Series_title\t\"Genetic Neuropathology of Obsessive Psychiatric Syndromes\"\n",
      "!Series_summary\t\"Anorexia nervosa (AN), bulimia nervosa (BN), and obsessive-compulsive disorder (OCD) are complex psychiatric disorders with shared obsessive features, thought to arise from the interaction of multiple genes of small effect with environmental factors.  Potential candidate genes for AN, BN, and OCD have been identified through clinical association and neuroimaging studies; however, recent genome-wide association studies of eating disorders (ED) so far have failed to report significant findings. Additionally, few if any studies have interrogated postmortem brain tissue for evidence of eQTLs associated with candidate genes, which has particular promise as an approach to elucidating molecular mechanisms of association. We therefore selected single nucleotide polymorphisms (SNPs) based on candidate gene studies for AN, BN, and OCD from the literature, and examined the association of these SNPs with gene expression across the lifespan in prefrontal cortex of a non-psychiatric control cohort (N=268).   Several risk-predisposing SNPs were significantly associated with gene expression among control subjects. We then measured gene expression in the prefrontal cortex of cases previously diagnosed with obsessive psychiatric disorders, e.g., eating disorders (ED; N=15), and obsessive-compulsive disorder/obsessive-compulsive personality disorder or tics (OCD/OCPD/Tic; N=16), and non-psychiatric controls (N=102) and identified 6 and 286 genes that were differentially expressed between ED compared to controls and OCD cases compared to controls, respectively (FDR < 5%). However, none of the clinical risk SNPs were among the eQTLs and none were significantly associated with gene expression within the broad obsessive cohort, suggesting larger sample sizes or other brain regions may be required to identify candidate molecular mechanisms of clinical association in postmortem brain datasets.\"\n",
      "!Series_overall_design\t\"Gene expression data from the dorsolateral prefrontal cortex (DLPFC) from postmortem tissue on 133 subjects - 15 eating disorder (ED) patients, 16 obessive compulsive disorder (OCD) patients, and 102 non-psychiatric controls - run on the Illumina HumanHT-12 v3 microarray\"\n"
     ]
    }
   ],
   "source": [
    "background_prefixes = ['!Series_title', '!Series_summary', '!Series_overall_design']\n",
    "clinical_prefixes = ['!Sample_geo_accession', '!Sample_characteristics_ch1']\n",
    "\n",
    "background_info, clinical_data = get_background_and_clinical_data(matrix_file, background_prefixes, clinical_prefixes)\n",
    "print(background_info)"
   ]
  },
  {
   "cell_type": "code",
   "execution_count": 29,
   "metadata": {
    "ExecuteTime": {
     "end_time": "2024-01-10T21:39:04.022548957Z",
     "start_time": "2024-01-10T21:39:04.008519515Z"
    },
    "collapsed": false
   },
   "outputs": [
    {
     "data": {
      "text/html": [
       "<div>\n",
       "<style scoped>\n",
       "    .dataframe tbody tr th:only-of-type {\n",
       "        vertical-align: middle;\n",
       "    }\n",
       "\n",
       "    .dataframe tbody tr th {\n",
       "        vertical-align: top;\n",
       "    }\n",
       "\n",
       "    .dataframe thead th {\n",
       "        text-align: right;\n",
       "    }\n",
       "</style>\n",
       "<table border=\"1\" class=\"dataframe\">\n",
       "  <thead>\n",
       "    <tr style=\"text-align: right;\">\n",
       "      <th></th>\n",
       "      <th>!Sample_geo_accession</th>\n",
       "      <th>GSM1467273</th>\n",
       "      <th>GSM1467274</th>\n",
       "      <th>GSM1467275</th>\n",
       "      <th>GSM1467276</th>\n",
       "      <th>GSM1467277</th>\n",
       "      <th>GSM1467278</th>\n",
       "      <th>GSM1467279</th>\n",
       "      <th>GSM1467280</th>\n",
       "      <th>GSM1467281</th>\n",
       "      <th>...</th>\n",
       "      <th>GSM1467396</th>\n",
       "      <th>GSM1467397</th>\n",
       "      <th>GSM1467398</th>\n",
       "      <th>GSM1467399</th>\n",
       "      <th>GSM1467400</th>\n",
       "      <th>GSM1467401</th>\n",
       "      <th>GSM1467402</th>\n",
       "      <th>GSM1467403</th>\n",
       "      <th>GSM1467404</th>\n",
       "      <th>GSM1467405</th>\n",
       "    </tr>\n",
       "  </thead>\n",
       "  <tbody>\n",
       "    <tr>\n",
       "      <th>0</th>\n",
       "      <td>!Sample_characteristics_ch1</td>\n",
       "      <td>rin: 7.4</td>\n",
       "      <td>rin: 8.6</td>\n",
       "      <td>rin: 7.8</td>\n",
       "      <td>rin: 8.2</td>\n",
       "      <td>rin: 8.5</td>\n",
       "      <td>rin: 8.3</td>\n",
       "      <td>rin: 8.1</td>\n",
       "      <td>rin: 8.8</td>\n",
       "      <td>rin: 8.7</td>\n",
       "      <td>...</td>\n",
       "      <td>rin: 8.4</td>\n",
       "      <td>rin: 8</td>\n",
       "      <td>rin: 8.3</td>\n",
       "      <td>rin: 7.5</td>\n",
       "      <td>rin: 8.1</td>\n",
       "      <td>rin: 8.5</td>\n",
       "      <td>rin: 6.6</td>\n",
       "      <td>rin: 7.1</td>\n",
       "      <td>rin: 9</td>\n",
       "      <td>rin: 8.3</td>\n",
       "    </tr>\n",
       "    <tr>\n",
       "      <th>1</th>\n",
       "      <td>!Sample_characteristics_ch1</td>\n",
       "      <td>ocd: ED</td>\n",
       "      <td>ocd: Control</td>\n",
       "      <td>ocd: OCD</td>\n",
       "      <td>ocd: Control</td>\n",
       "      <td>ocd: Control</td>\n",
       "      <td>ocd: ED</td>\n",
       "      <td>ocd: Control</td>\n",
       "      <td>ocd: Control</td>\n",
       "      <td>ocd: Control</td>\n",
       "      <td>...</td>\n",
       "      <td>ocd: ED</td>\n",
       "      <td>ocd: Control</td>\n",
       "      <td>ocd: Control</td>\n",
       "      <td>ocd: Control</td>\n",
       "      <td>ocd: Control</td>\n",
       "      <td>ocd: Control</td>\n",
       "      <td>ocd: ED</td>\n",
       "      <td>ocd: Control</td>\n",
       "      <td>ocd: Control</td>\n",
       "      <td>ocd: Control</td>\n",
       "    </tr>\n",
       "    <tr>\n",
       "      <th>2</th>\n",
       "      <td>!Sample_characteristics_ch1</td>\n",
       "      <td>rinmatched: 1</td>\n",
       "      <td>rinmatched: 0</td>\n",
       "      <td>rinmatched: 1</td>\n",
       "      <td>rinmatched: 0</td>\n",
       "      <td>rinmatched: 0</td>\n",
       "      <td>rinmatched: 1</td>\n",
       "      <td>rinmatched: 0</td>\n",
       "      <td>rinmatched: 0</td>\n",
       "      <td>rinmatched: 0</td>\n",
       "      <td>...</td>\n",
       "      <td>rinmatched: 1</td>\n",
       "      <td>rinmatched: 1</td>\n",
       "      <td>rinmatched: 0</td>\n",
       "      <td>rinmatched: 1</td>\n",
       "      <td>rinmatched: 1</td>\n",
       "      <td>rinmatched: 0</td>\n",
       "      <td>rinmatched: 1</td>\n",
       "      <td>rinmatched: 1</td>\n",
       "      <td>rinmatched: 0</td>\n",
       "      <td>rinmatched: 0</td>\n",
       "    </tr>\n",
       "    <tr>\n",
       "      <th>3</th>\n",
       "      <td>!Sample_characteristics_ch1</td>\n",
       "      <td>dx: Bipolar</td>\n",
       "      <td>dx: Control</td>\n",
       "      <td>dx: Bipolar</td>\n",
       "      <td>dx: Control</td>\n",
       "      <td>dx: Control</td>\n",
       "      <td>dx: Bipolar</td>\n",
       "      <td>dx: Control</td>\n",
       "      <td>dx: Control</td>\n",
       "      <td>dx: Control</td>\n",
       "      <td>...</td>\n",
       "      <td>dx: ED</td>\n",
       "      <td>dx: Control</td>\n",
       "      <td>dx: Control</td>\n",
       "      <td>dx: Control</td>\n",
       "      <td>dx: Control</td>\n",
       "      <td>dx: Control</td>\n",
       "      <td>dx: MDD</td>\n",
       "      <td>dx: Control</td>\n",
       "      <td>dx: Control</td>\n",
       "      <td>dx: Control</td>\n",
       "    </tr>\n",
       "    <tr>\n",
       "      <th>4</th>\n",
       "      <td>!Sample_characteristics_ch1</td>\n",
       "      <td>ph: 6.18</td>\n",
       "      <td>ph: 6.59</td>\n",
       "      <td>ph: 6.37</td>\n",
       "      <td>ph: 6.6</td>\n",
       "      <td>ph: 6.38</td>\n",
       "      <td>ph: 6.02</td>\n",
       "      <td>ph: 6.87</td>\n",
       "      <td>ph: 6.95</td>\n",
       "      <td>ph: 6.82</td>\n",
       "      <td>...</td>\n",
       "      <td>ph: 6.34</td>\n",
       "      <td>ph: 6.5</td>\n",
       "      <td>ph: 6.51</td>\n",
       "      <td>ph: 6.59</td>\n",
       "      <td>ph: 6.65</td>\n",
       "      <td>ph: 6.71</td>\n",
       "      <td>ph: 6.2</td>\n",
       "      <td>ph: 6.2</td>\n",
       "      <td>ph: 6.83</td>\n",
       "      <td>ph: 6.92</td>\n",
       "    </tr>\n",
       "  </tbody>\n",
       "</table>\n",
       "<p>5 rows × 134 columns</p>\n",
       "</div>"
      ],
      "text/plain": [
       "         !Sample_geo_accession     GSM1467273     GSM1467274     GSM1467275  \\\n",
       "0  !Sample_characteristics_ch1       rin: 7.4       rin: 8.6       rin: 7.8   \n",
       "1  !Sample_characteristics_ch1        ocd: ED   ocd: Control       ocd: OCD   \n",
       "2  !Sample_characteristics_ch1  rinmatched: 1  rinmatched: 0  rinmatched: 1   \n",
       "3  !Sample_characteristics_ch1    dx: Bipolar    dx: Control    dx: Bipolar   \n",
       "4  !Sample_characteristics_ch1       ph: 6.18       ph: 6.59       ph: 6.37   \n",
       "\n",
       "      GSM1467276     GSM1467277     GSM1467278     GSM1467279     GSM1467280  \\\n",
       "0       rin: 8.2       rin: 8.5       rin: 8.3       rin: 8.1       rin: 8.8   \n",
       "1   ocd: Control   ocd: Control        ocd: ED   ocd: Control   ocd: Control   \n",
       "2  rinmatched: 0  rinmatched: 0  rinmatched: 1  rinmatched: 0  rinmatched: 0   \n",
       "3    dx: Control    dx: Control    dx: Bipolar    dx: Control    dx: Control   \n",
       "4        ph: 6.6       ph: 6.38       ph: 6.02       ph: 6.87       ph: 6.95   \n",
       "\n",
       "      GSM1467281  ...     GSM1467396     GSM1467397     GSM1467398  \\\n",
       "0       rin: 8.7  ...       rin: 8.4         rin: 8       rin: 8.3   \n",
       "1   ocd: Control  ...        ocd: ED   ocd: Control   ocd: Control   \n",
       "2  rinmatched: 0  ...  rinmatched: 1  rinmatched: 1  rinmatched: 0   \n",
       "3    dx: Control  ...         dx: ED    dx: Control    dx: Control   \n",
       "4       ph: 6.82  ...       ph: 6.34        ph: 6.5       ph: 6.51   \n",
       "\n",
       "      GSM1467399     GSM1467400     GSM1467401     GSM1467402     GSM1467403  \\\n",
       "0       rin: 7.5       rin: 8.1       rin: 8.5       rin: 6.6       rin: 7.1   \n",
       "1   ocd: Control   ocd: Control   ocd: Control        ocd: ED   ocd: Control   \n",
       "2  rinmatched: 1  rinmatched: 1  rinmatched: 0  rinmatched: 1  rinmatched: 1   \n",
       "3    dx: Control    dx: Control    dx: Control        dx: MDD    dx: Control   \n",
       "4       ph: 6.59       ph: 6.65       ph: 6.71        ph: 6.2        ph: 6.2   \n",
       "\n",
       "      GSM1467404     GSM1467405  \n",
       "0         rin: 9       rin: 8.3  \n",
       "1   ocd: Control   ocd: Control  \n",
       "2  rinmatched: 0  rinmatched: 0  \n",
       "3    dx: Control    dx: Control  \n",
       "4       ph: 6.83       ph: 6.92  \n",
       "\n",
       "[5 rows x 134 columns]"
      ]
     },
     "execution_count": 29,
     "metadata": {},
     "output_type": "execute_result"
    }
   ],
   "source": [
    "clinical_data.head()"
   ]
  },
  {
   "cell_type": "code",
   "execution_count": 30,
   "metadata": {
    "ExecuteTime": {
     "end_time": "2024-01-10T21:39:04.307639583Z",
     "start_time": "2024-01-10T21:39:04.289352075Z"
    },
    "collapsed": false
   },
   "outputs": [
    {
     "data": {
      "text/plain": [
       "{0: ['rin: 7.4',\n",
       "  'rin: 8.6',\n",
       "  'rin: 7.8',\n",
       "  'rin: 8.2',\n",
       "  'rin: 8.5',\n",
       "  'rin: 8.3',\n",
       "  'rin: 8.1',\n",
       "  'rin: 8.8',\n",
       "  'rin: 8.7',\n",
       "  'rin: 7.5',\n",
       "  'rin: 9',\n",
       "  'rin: 7.1',\n",
       "  'rin: 7.2',\n",
       "  'rin: 7.7',\n",
       "  'rin: 8.9',\n",
       "  'rin: 6.7',\n",
       "  'rin: 6',\n",
       "  'rin: 8.4',\n",
       "  'rin: 7.3',\n",
       "  'rin: 8',\n",
       "  'rin: 9.1',\n",
       "  'rin: 7.9',\n",
       "  'rin: 9.7',\n",
       "  'rin: 9.2',\n",
       "  'rin: 6.5',\n",
       "  'rin: 7',\n",
       "  'rin: 7.6',\n",
       "  'rin: 6.6',\n",
       "  'rin: 5.4',\n",
       "  'rin: 5.6'],\n",
       " 1: ['ocd: ED', 'ocd: Control', 'ocd: OCD'],\n",
       " 2: ['rinmatched: 1', 'rinmatched: 0'],\n",
       " 3: ['dx: Bipolar', 'dx: Control', 'dx: MDD', 'dx: Tics', 'dx: OCD', 'dx: ED'],\n",
       " 4: ['ph: 6.18',\n",
       "  'ph: 6.59',\n",
       "  'ph: 6.37',\n",
       "  'ph: 6.6',\n",
       "  'ph: 6.38',\n",
       "  'ph: 6.02',\n",
       "  'ph: 6.87',\n",
       "  'ph: 6.95',\n",
       "  'ph: 6.82',\n",
       "  'ph: 6.27',\n",
       "  'ph: 6.53',\n",
       "  'ph: 6.55',\n",
       "  'ph: 6',\n",
       "  'ph: 6.13',\n",
       "  'ph: 6.08',\n",
       "  'ph: 6.29',\n",
       "  'ph: 6.98',\n",
       "  'ph: 5.91',\n",
       "  'ph: 6.06',\n",
       "  'ph: 6.9',\n",
       "  'ph: 6.83',\n",
       "  'ph: 6.36',\n",
       "  'ph: 6.84',\n",
       "  'ph: 6.74',\n",
       "  'ph: 6.28',\n",
       "  'ph: 6.49',\n",
       "  'ph: 6.7',\n",
       "  'ph: 6.63',\n",
       "  'ph: 6.48',\n",
       "  'ph: 6.62'],\n",
       " 5: ['age: 50.421917',\n",
       "  'age: 27.49863',\n",
       "  'age: 30.627397',\n",
       "  'age: 61.167123',\n",
       "  'age: 32.69589',\n",
       "  'age: 39.213698',\n",
       "  'age: 58.605479',\n",
       "  'age: 49.2',\n",
       "  'age: 41.041095',\n",
       "  'age: 51.750684',\n",
       "  'age: 50.89863',\n",
       "  'age: 26.745205',\n",
       "  'age: 29.104109',\n",
       "  'age: 39.301369',\n",
       "  'age: 48.978082',\n",
       "  'age: 57.884931',\n",
       "  'age: 28.364383',\n",
       "  'age: 24.041095',\n",
       "  'age: 19.268493',\n",
       "  'age: 27.230136',\n",
       "  'age: 46.605479',\n",
       "  'age: 23.443835',\n",
       "  'age: 51.038356',\n",
       "  'age: 39.663013',\n",
       "  'age: 46.109589',\n",
       "  'age: 77.989041',\n",
       "  'age: 46.967123',\n",
       "  'age: 63.241095',\n",
       "  'age: 62.306849',\n",
       "  'age: 83.641095'],\n",
       " 6: ['pmi: 27',\n",
       "  'pmi: 19.5',\n",
       "  'pmi: 71.5',\n",
       "  'pmi: 22.5',\n",
       "  'pmi: 64',\n",
       "  'pmi: 28',\n",
       "  'pmi: 18',\n",
       "  'pmi: 29',\n",
       "  'pmi: 49',\n",
       "  'pmi: 13',\n",
       "  'pmi: 26.5',\n",
       "  'pmi: 16.5',\n",
       "  'pmi: 35',\n",
       "  'pmi: 19',\n",
       "  'pmi: 20.5',\n",
       "  'pmi: 9.5',\n",
       "  'pmi: 65.5',\n",
       "  'pmi: 68',\n",
       "  'pmi: 17.5',\n",
       "  'pmi: 44',\n",
       "  'pmi: 34',\n",
       "  'pmi: 21.5',\n",
       "  'pmi: 67.5',\n",
       "  'pmi: 26',\n",
       "  'pmi: 46.5',\n",
       "  'pmi: 33.5',\n",
       "  'pmi: 24.5',\n",
       "  'pmi: 30.5',\n",
       "  'pmi: 29.5',\n",
       "  'pmi: 51.5'],\n",
       " 7: ['Sex: F', 'Sex: M'],\n",
       " 8: ['race: CAUC'],\n",
       " 9: ['batch1: 16',\n",
       "  'batch1: 18',\n",
       "  'batch1: 19',\n",
       "  'batch1: 20',\n",
       "  'batch1: 21',\n",
       "  'batch1: 9',\n",
       "  'batch1: 10',\n",
       "  'batch1: 12',\n",
       "  'batch1: 14',\n",
       "  'batch1: 23',\n",
       "  'batch1: 24',\n",
       "  'batch1: 25',\n",
       "  'batch1: 26',\n",
       "  'batch1: 27',\n",
       "  'batch1: 29',\n",
       "  'batch1: 33',\n",
       "  'batch1: 32',\n",
       "  'batch1: 31',\n",
       "  'batch1: 36',\n",
       "  'batch1: 37',\n",
       "  'batch1: 38',\n",
       "  'batch1: 39',\n",
       "  'batch1: 40',\n",
       "  'batch1: 41',\n",
       "  'batch1: 42',\n",
       "  'batch1: 44',\n",
       "  'batch1: 45',\n",
       "  'batch1: 48',\n",
       "  'batch1: 53',\n",
       "  'batch1: 59']}"
      ]
     },
     "execution_count": 30,
     "metadata": {},
     "output_type": "execute_result"
    }
   ],
   "source": [
    "clinical_data_unique = get_unique_values_by_row(clinical_data)\n",
    "clinical_data_unique"
   ]
  },
  {
   "cell_type": "markdown",
   "metadata": {
    "ExecuteTime": {
     "end_time": "2023-12-31T03:58:04.978204446Z",
     "start_time": "2023-12-31T03:58:04.922270095Z"
    },
    "collapsed": false
   },
   "source": [
    "Analyze the metadata to determine data relevance and find ways to extract the clinical data.\n",
    "Reference prompt:"
   ]
  },
  {
   "cell_type": "code",
   "execution_count": 31,
   "metadata": {
    "ExecuteTime": {
     "end_time": "2024-01-10T21:39:04.854586192Z",
     "start_time": "2024-01-10T21:39:04.836283516Z"
    },
    "collapsed": false
   },
   "outputs": [
    {
     "data": {
      "text/plain": [
       "'As a biomedical research team, we are selecting datasets to study the association between the human trait \\'Anorexia-Nervosa\\' and genetic factors, optionally considering the influence of age and gender. After searching the GEO database and parsing the matrix file of a series, we obtained background information and sample characteristics data. We will provide textual information about the dataset background, and a Python dictionary storing a list of unique values for each field of the sample characteristics data. Please carefully review the provided information and answer the following questions about this dataset:\\n1. Does this dataset contain gene expression data? (Note: Pure miRNA data is not suitable.)\\n2. For each of the traits \\'Anorexia-Nervosa\\', \\'age\\', and \\'gender\\', please address these points:\\n   (1) Is there human data available for this trait?\\n   (2) If so, identify the key in the sample characteristics dictionary where unique values of this trait is recorded. The key is an integer. The trait information might be explicitly recorded, or can be inferred from the field with some biomedical knowledge or understanding about the data collection process.\\n   (3) Choose an appropriate data type (either \\'continuous\\' or \\'binary\\') for each trait. Write a Python function to convert any given value of the trait to this data type. The function should handle inference about the trait value and convert unknown values to None.\\n   Name the functions \\'convert_trait\\', \\'convert_age\\', and \\'convert_gender\\', respectively.\\n\\nBackground information about the dataset:\\n!Series_title\\t\"Genetic Neuropathology of Obsessive Psychiatric Syndromes\"\\n!Series_summary\\t\"Anorexia nervosa (AN), bulimia nervosa (BN), and obsessive-compulsive disorder (OCD) are complex psychiatric disorders with shared obsessive features, thought to arise from the interaction of multiple genes of small effect with environmental factors.  Potential candidate genes for AN, BN, and OCD have been identified through clinical association and neuroimaging studies; however, recent genome-wide association studies of eating disorders (ED) so far have failed to report significant findings. Additionally, few if any studies have interrogated postmortem brain tissue for evidence of eQTLs associated with candidate genes, which has particular promise as an approach to elucidating molecular mechanisms of association. We therefore selected single nucleotide polymorphisms (SNPs) based on candidate gene studies for AN, BN, and OCD from the literature, and examined the association of these SNPs with gene expression across the lifespan in prefrontal cortex of a non-psychiatric control cohort (N=268).   Several risk-predisposing SNPs were significantly associated with gene expression among control subjects. We then measured gene expression in the prefrontal cortex of cases previously diagnosed with obsessive psychiatric disorders, e.g., eating disorders (ED; N=15), and obsessive-compulsive disorder/obsessive-compulsive personality disorder or tics (OCD/OCPD/Tic; N=16), and non-psychiatric controls (N=102) and identified 6 and 286 genes that were differentially expressed between ED compared to controls and OCD cases compared to controls, respectively (FDR < 5%). However, none of the clinical risk SNPs were among the eQTLs and none were significantly associated with gene expression within the broad obsessive cohort, suggesting larger sample sizes or other brain regions may be required to identify candidate molecular mechanisms of clinical association in postmortem brain datasets.\"\\n!Series_overall_design\\t\"Gene expression data from the dorsolateral prefrontal cortex (DLPFC) from postmortem tissue on 133 subjects - 15 eating disorder (ED) patients, 16 obessive compulsive disorder (OCD) patients, and 102 non-psychiatric controls - run on the Illumina HumanHT-12 v3 microarray\"\\n\\nSample characteristics dictionary (from \"!Sample_characteristics_ch1\", converted to a Python dictionary that stores the unique values for each field):\\n{0: [\\'rin: 7.4\\', \\'rin: 8.6\\', \\'rin: 7.8\\', \\'rin: 8.2\\', \\'rin: 8.5\\', \\'rin: 8.3\\', \\'rin: 8.1\\', \\'rin: 8.8\\', \\'rin: 8.7\\', \\'rin: 7.5\\', \\'rin: 9\\', \\'rin: 7.1\\', \\'rin: 7.2\\', \\'rin: 7.7\\', \\'rin: 8.9\\', \\'rin: 6.7\\', \\'rin: 6\\', \\'rin: 8.4\\', \\'rin: 7.3\\', \\'rin: 8\\', \\'rin: 9.1\\', \\'rin: 7.9\\', \\'rin: 9.7\\', \\'rin: 9.2\\', \\'rin: 6.5\\', \\'rin: 7\\', \\'rin: 7.6\\', \\'rin: 6.6\\', \\'rin: 5.4\\', \\'rin: 5.6\\'], 1: [\\'ocd: ED\\', \\'ocd: Control\\', \\'ocd: OCD\\'], 2: [\\'rinmatched: 1\\', \\'rinmatched: 0\\'], 3: [\\'dx: Bipolar\\', \\'dx: Control\\', \\'dx: MDD\\', \\'dx: Tics\\', \\'dx: OCD\\', \\'dx: ED\\'], 4: [\\'ph: 6.18\\', \\'ph: 6.59\\', \\'ph: 6.37\\', \\'ph: 6.6\\', \\'ph: 6.38\\', \\'ph: 6.02\\', \\'ph: 6.87\\', \\'ph: 6.95\\', \\'ph: 6.82\\', \\'ph: 6.27\\', \\'ph: 6.53\\', \\'ph: 6.55\\', \\'ph: 6\\', \\'ph: 6.13\\', \\'ph: 6.08\\', \\'ph: 6.29\\', \\'ph: 6.98\\', \\'ph: 5.91\\', \\'ph: 6.06\\', \\'ph: 6.9\\', \\'ph: 6.83\\', \\'ph: 6.36\\', \\'ph: 6.84\\', \\'ph: 6.74\\', \\'ph: 6.28\\', \\'ph: 6.49\\', \\'ph: 6.7\\', \\'ph: 6.63\\', \\'ph: 6.48\\', \\'ph: 6.62\\'], 5: [\\'age: 50.421917\\', \\'age: 27.49863\\', \\'age: 30.627397\\', \\'age: 61.167123\\', \\'age: 32.69589\\', \\'age: 39.213698\\', \\'age: 58.605479\\', \\'age: 49.2\\', \\'age: 41.041095\\', \\'age: 51.750684\\', \\'age: 50.89863\\', \\'age: 26.745205\\', \\'age: 29.104109\\', \\'age: 39.301369\\', \\'age: 48.978082\\', \\'age: 57.884931\\', \\'age: 28.364383\\', \\'age: 24.041095\\', \\'age: 19.268493\\', \\'age: 27.230136\\', \\'age: 46.605479\\', \\'age: 23.443835\\', \\'age: 51.038356\\', \\'age: 39.663013\\', \\'age: 46.109589\\', \\'age: 77.989041\\', \\'age: 46.967123\\', \\'age: 63.241095\\', \\'age: 62.306849\\', \\'age: 83.641095\\'], 6: [\\'pmi: 27\\', \\'pmi: 19.5\\', \\'pmi: 71.5\\', \\'pmi: 22.5\\', \\'pmi: 64\\', \\'pmi: 28\\', \\'pmi: 18\\', \\'pmi: 29\\', \\'pmi: 49\\', \\'pmi: 13\\', \\'pmi: 26.5\\', \\'pmi: 16.5\\', \\'pmi: 35\\', \\'pmi: 19\\', \\'pmi: 20.5\\', \\'pmi: 9.5\\', \\'pmi: 65.5\\', \\'pmi: 68\\', \\'pmi: 17.5\\', \\'pmi: 44\\', \\'pmi: 34\\', \\'pmi: 21.5\\', \\'pmi: 67.5\\', \\'pmi: 26\\', \\'pmi: 46.5\\', \\'pmi: 33.5\\', \\'pmi: 24.5\\', \\'pmi: 30.5\\', \\'pmi: 29.5\\', \\'pmi: 51.5\\'], 7: [\\'Sex: F\\', \\'Sex: M\\'], 8: [\\'race: CAUC\\'], 9: [\\'batch1: 16\\', \\'batch1: 18\\', \\'batch1: 19\\', \\'batch1: 20\\', \\'batch1: 21\\', \\'batch1: 9\\', \\'batch1: 10\\', \\'batch1: 12\\', \\'batch1: 14\\', \\'batch1: 23\\', \\'batch1: 24\\', \\'batch1: 25\\', \\'batch1: 26\\', \\'batch1: 27\\', \\'batch1: 29\\', \\'batch1: 33\\', \\'batch1: 32\\', \\'batch1: 31\\', \\'batch1: 36\\', \\'batch1: 37\\', \\'batch1: 38\\', \\'batch1: 39\\', \\'batch1: 40\\', \\'batch1: 41\\', \\'batch1: 42\\', \\'batch1: 44\\', \\'batch1: 45\\', \\'batch1: 48\\', \\'batch1: 53\\', \\'batch1: 59\\']}\\n'"
      ]
     },
     "execution_count": 31,
     "metadata": {},
     "output_type": "execute_result"
    }
   ],
   "source": [
    "f'''As a biomedical research team, we are selecting datasets to study the association between the human trait \\'{TRAIT}\\' and genetic factors, optionally considering the influence of age and gender. After searching the GEO database and parsing the matrix file of a series, we obtained background information and sample characteristics data. We will provide textual information about the dataset background, and a Python dictionary storing a list of unique values for each field of the sample characteristics data. Please carefully review the provided information and answer the following questions about this dataset:\n",
    "1. Does this dataset contain gene expression data? (Note: Pure miRNA data is not suitable.)\n",
    "2. For each of the traits \\'{TRAIT}\\', 'age', and 'gender', please address these points:\n",
    "   (1) Is there human data available for this trait?\n",
    "   (2) If so, identify the key in the sample characteristics dictionary where unique values of this trait is recorded. The key is an integer. The trait information might be explicitly recorded, or can be inferred from the field with some biomedical knowledge or understanding about the data collection process.\n",
    "   (3) Choose an appropriate data type (either 'continuous' or 'binary') for each trait. Write a Python function to convert any given value of the trait to this data type. The function should handle inference about the trait value and convert unknown values to None.\n",
    "   Name the functions 'convert_trait', 'convert_age', and 'convert_gender', respectively.\n",
    "\n",
    "Background information about the dataset:\n",
    "{background_info}\n",
    "\n",
    "Sample characteristics dictionary (from \"!Sample_characteristics_ch1\", converted to a Python dictionary that stores the unique values for each field):\n",
    "{clinical_data_unique}\n",
    "'''"
   ]
  },
  {
   "cell_type": "markdown",
   "metadata": {
    "ExecuteTime": {
     "end_time": "2023-12-31T03:58:04.978240504Z",
     "start_time": "2023-12-31T03:58:04.922365324Z"
    },
    "collapsed": false
   },
   "source": [
    "Understand and verify the answer from GPT, to assign values to the below variables. Assign None to the 'row_id' variables if relevant data row was not found.\n",
    "Later we need to let GPT format its answer to automatically do these. But given the complexity of this step, let's grow some insight from the free-text answers for now."
   ]
  },
  {
   "cell_type": "code",
   "execution_count": 32,
   "metadata": {
    "ExecuteTime": {
     "end_time": "2024-01-10T21:39:05.366304590Z",
     "start_time": "2024-01-10T21:39:05.356983082Z"
    },
    "collapsed": false
   },
   "outputs": [],
   "source": [
    "age_row = gender_row = None\n",
    "convert_age = convert_gender = None"
   ]
  },
  {
   "cell_type": "code",
   "execution_count": 33,
   "metadata": {
    "ExecuteTime": {
     "end_time": "2024-01-10T21:40:09.324053151Z",
     "start_time": "2024-01-10T21:40:09.251131090Z"
    },
    "collapsed": false
   },
   "outputs": [],
   "source": [
    "is_gene_availabe = True\n",
    "trait_row = 1\n",
    "age_row = None\n",
    "gender_row = 7\n",
    "\n",
    "trait_type = 'binary'"
   ]
  },
  {
   "cell_type": "code",
   "execution_count": 34,
   "metadata": {
    "ExecuteTime": {
     "end_time": "2024-01-10T21:40:09.912115984Z",
     "start_time": "2024-01-10T21:40:09.907913460Z"
    },
    "collapsed": false
   },
   "outputs": [],
   "source": [
    "is_available = is_gene_availabe and (trait_row is not None)\n",
    "if not is_available:\n",
    "    save_cohort_info(cohort, JSON_PATH, is_available)\n",
    "    print(\"This cohort is not usable. Please skip the following steps and jump to the next accession number.\")"
   ]
  },
  {
   "cell_type": "code",
   "execution_count": 35,
   "metadata": {
    "ExecuteTime": {
     "end_time": "2024-01-10T21:40:10.982148317Z",
     "start_time": "2024-01-10T21:40:10.967368918Z"
    },
    "collapsed": false
   },
   "outputs": [
    {
     "data": {
      "text/plain": [
       "(1, 63, 1)"
      ]
     },
     "execution_count": 35,
     "metadata": {},
     "output_type": "execute_result"
    }
   ],
   "source": [
    "def convert_trait(tissue_type):\n",
    "    \"\"\"\n",
    "    Convert tissue type to epilepsy presence (binary).\n",
    "    Assuming epilepsy presence for 'Hippocampus' tissue.\n",
    "    \"\"\"\n",
    "    if tissue_type == 'ocd: ED':\n",
    "        return 1  \n",
    "    else:\n",
    "        return 0 \n",
    "\n",
    "def convert_age(age_string):\n",
    "    \"\"\"\n",
    "    Convert age string to a numerical value.\n",
    "    \"\"\"\n",
    "    if age_string.startswith('age:'):\n",
    "        try:\n",
    "            return int(age_string.split('age:')[1].rstrip('y'))  # Extracting numeric part\n",
    "        except ValueError:\n",
    "            return None  # In case of parsing error\n",
    "    else:\n",
    "        return None  # If age string does not follow expected format\n",
    "\n",
    "def convert_gender(gender_string):\n",
    "    \"\"\"\n",
    "    Convert gender string to a binary representation.\n",
    "    Female -> 0, Male -> 1, Unknown -> None\n",
    "    \"\"\"\n",
    "    if gender_string == 'Sex: F':\n",
    "        return 0\n",
    "    elif gender_string == 'Sex: M':\n",
    "        return 1\n",
    "    else:\n",
    "        return None  # In case of unknown gender\n",
    "\n",
    "# Example usage\n",
    "example_tissue = 'ocd: ED'\n",
    "example_age = 'age: 63'\n",
    "example_gender = 'Sex: M'\n",
    "\n",
    "converted_trait = convert_trait(example_tissue)\n",
    "converted_age = convert_age(example_age)\n",
    "converted_gender = convert_gender(example_gender)\n",
    "\n",
    "converted_trait, converted_age, converted_gender"
   ]
  },
  {
   "cell_type": "code",
   "execution_count": 36,
   "metadata": {
    "ExecuteTime": {
     "end_time": "2024-01-10T21:40:11.684556802Z",
     "start_time": "2024-01-10T21:40:11.665079581Z"
    },
    "collapsed": false
   },
   "outputs": [
    {
     "data": {
      "text/html": [
       "<div>\n",
       "<style scoped>\n",
       "    .dataframe tbody tr th:only-of-type {\n",
       "        vertical-align: middle;\n",
       "    }\n",
       "\n",
       "    .dataframe tbody tr th {\n",
       "        vertical-align: top;\n",
       "    }\n",
       "\n",
       "    .dataframe thead th {\n",
       "        text-align: right;\n",
       "    }\n",
       "</style>\n",
       "<table border=\"1\" class=\"dataframe\">\n",
       "  <thead>\n",
       "    <tr style=\"text-align: right;\">\n",
       "      <th></th>\n",
       "      <th>GSM1467273</th>\n",
       "      <th>GSM1467274</th>\n",
       "      <th>GSM1467275</th>\n",
       "      <th>GSM1467276</th>\n",
       "      <th>GSM1467277</th>\n",
       "      <th>GSM1467278</th>\n",
       "      <th>GSM1467279</th>\n",
       "      <th>GSM1467280</th>\n",
       "      <th>GSM1467281</th>\n",
       "      <th>GSM1467282</th>\n",
       "      <th>...</th>\n",
       "      <th>GSM1467396</th>\n",
       "      <th>GSM1467397</th>\n",
       "      <th>GSM1467398</th>\n",
       "      <th>GSM1467399</th>\n",
       "      <th>GSM1467400</th>\n",
       "      <th>GSM1467401</th>\n",
       "      <th>GSM1467402</th>\n",
       "      <th>GSM1467403</th>\n",
       "      <th>GSM1467404</th>\n",
       "      <th>GSM1467405</th>\n",
       "    </tr>\n",
       "  </thead>\n",
       "  <tbody>\n",
       "    <tr>\n",
       "      <th>Anorexia-Nervosa</th>\n",
       "      <td>1</td>\n",
       "      <td>0</td>\n",
       "      <td>0</td>\n",
       "      <td>0</td>\n",
       "      <td>0</td>\n",
       "      <td>1</td>\n",
       "      <td>0</td>\n",
       "      <td>0</td>\n",
       "      <td>0</td>\n",
       "      <td>0</td>\n",
       "      <td>...</td>\n",
       "      <td>1</td>\n",
       "      <td>0</td>\n",
       "      <td>0</td>\n",
       "      <td>0</td>\n",
       "      <td>0</td>\n",
       "      <td>0</td>\n",
       "      <td>1</td>\n",
       "      <td>0</td>\n",
       "      <td>0</td>\n",
       "      <td>0</td>\n",
       "    </tr>\n",
       "    <tr>\n",
       "      <th>Gender</th>\n",
       "      <td>0</td>\n",
       "      <td>1</td>\n",
       "      <td>1</td>\n",
       "      <td>1</td>\n",
       "      <td>1</td>\n",
       "      <td>0</td>\n",
       "      <td>1</td>\n",
       "      <td>1</td>\n",
       "      <td>1</td>\n",
       "      <td>1</td>\n",
       "      <td>...</td>\n",
       "      <td>0</td>\n",
       "      <td>1</td>\n",
       "      <td>1</td>\n",
       "      <td>1</td>\n",
       "      <td>1</td>\n",
       "      <td>1</td>\n",
       "      <td>0</td>\n",
       "      <td>1</td>\n",
       "      <td>1</td>\n",
       "      <td>1</td>\n",
       "    </tr>\n",
       "  </tbody>\n",
       "</table>\n",
       "<p>2 rows × 133 columns</p>\n",
       "</div>"
      ],
      "text/plain": [
       "                  GSM1467273  GSM1467274  GSM1467275  GSM1467276  GSM1467277  \\\n",
       "Anorexia-Nervosa           1           0           0           0           0   \n",
       "Gender                     0           1           1           1           1   \n",
       "\n",
       "                  GSM1467278  GSM1467279  GSM1467280  GSM1467281  GSM1467282  \\\n",
       "Anorexia-Nervosa           1           0           0           0           0   \n",
       "Gender                     0           1           1           1           1   \n",
       "\n",
       "                  ...  GSM1467396  GSM1467397  GSM1467398  GSM1467399  \\\n",
       "Anorexia-Nervosa  ...           1           0           0           0   \n",
       "Gender            ...           0           1           1           1   \n",
       "\n",
       "                  GSM1467400  GSM1467401  GSM1467402  GSM1467403  GSM1467404  \\\n",
       "Anorexia-Nervosa           0           0           1           0           0   \n",
       "Gender                     1           1           0           1           1   \n",
       "\n",
       "                  GSM1467405  \n",
       "Anorexia-Nervosa           0  \n",
       "Gender                     1  \n",
       "\n",
       "[2 rows x 133 columns]"
      ]
     },
     "execution_count": 36,
     "metadata": {},
     "output_type": "execute_result"
    }
   ],
   "source": [
    "selected_clinical_data = geo_select_clinical_features(clinical_data, TRAIT, trait_row, convert_trait, age_row=age_row,\n",
    "                                                      convert_age=convert_age, gender_row=gender_row,\n",
    "                                                      convert_gender=convert_gender)\n",
    "selected_clinical_data.head()"
   ]
  },
  {
   "cell_type": "markdown",
   "metadata": {
    "ExecuteTime": {
     "end_time": "2023-12-31T03:58:04.978664193Z",
     "start_time": "2023-12-31T03:58:04.966117261Z"
    },
    "collapsed": false
   },
   "source": [
    "### Genetic data preprocessing and final filtering"
   ]
  },
  {
   "cell_type": "code",
   "execution_count": 37,
   "metadata": {
    "ExecuteTime": {
     "end_time": "2024-01-10T21:40:13.509252107Z",
     "start_time": "2024-01-10T21:40:13.468235630Z"
    },
    "collapsed": false
   },
   "outputs": [
    {
     "data": {
      "text/html": [
       "<div>\n",
       "<style scoped>\n",
       "    .dataframe tbody tr th:only-of-type {\n",
       "        vertical-align: middle;\n",
       "    }\n",
       "\n",
       "    .dataframe tbody tr th {\n",
       "        vertical-align: top;\n",
       "    }\n",
       "\n",
       "    .dataframe thead th {\n",
       "        text-align: right;\n",
       "    }\n",
       "</style>\n",
       "<table border=\"1\" class=\"dataframe\">\n",
       "  <thead>\n",
       "    <tr style=\"text-align: right;\">\n",
       "      <th></th>\n",
       "      <th>GSM1467273</th>\n",
       "      <th>GSM1467274</th>\n",
       "      <th>GSM1467275</th>\n",
       "      <th>GSM1467276</th>\n",
       "      <th>GSM1467277</th>\n",
       "      <th>GSM1467278</th>\n",
       "      <th>GSM1467279</th>\n",
       "      <th>GSM1467280</th>\n",
       "      <th>GSM1467281</th>\n",
       "      <th>GSM1467282</th>\n",
       "      <th>...</th>\n",
       "      <th>GSM1467396</th>\n",
       "      <th>GSM1467397</th>\n",
       "      <th>GSM1467398</th>\n",
       "      <th>GSM1467399</th>\n",
       "      <th>GSM1467400</th>\n",
       "      <th>GSM1467401</th>\n",
       "      <th>GSM1467402</th>\n",
       "      <th>GSM1467403</th>\n",
       "      <th>GSM1467404</th>\n",
       "      <th>GSM1467405</th>\n",
       "    </tr>\n",
       "    <tr>\n",
       "      <th>ID</th>\n",
       "      <th></th>\n",
       "      <th></th>\n",
       "      <th></th>\n",
       "      <th></th>\n",
       "      <th></th>\n",
       "      <th></th>\n",
       "      <th></th>\n",
       "      <th></th>\n",
       "      <th></th>\n",
       "      <th></th>\n",
       "      <th></th>\n",
       "      <th></th>\n",
       "      <th></th>\n",
       "      <th></th>\n",
       "      <th></th>\n",
       "      <th></th>\n",
       "      <th></th>\n",
       "      <th></th>\n",
       "      <th></th>\n",
       "      <th></th>\n",
       "      <th></th>\n",
       "    </tr>\n",
       "  </thead>\n",
       "  <tbody>\n",
       "    <tr>\n",
       "      <th>ILMN_1343291</th>\n",
       "      <td>14.631928</td>\n",
       "      <td>14.846268</td>\n",
       "      <td>14.949614</td>\n",
       "      <td>15.044821</td>\n",
       "      <td>14.790150</td>\n",
       "      <td>14.670395</td>\n",
       "      <td>14.730323</td>\n",
       "      <td>14.972534</td>\n",
       "      <td>14.826768</td>\n",
       "      <td>14.790150</td>\n",
       "      <td>...</td>\n",
       "      <td>14.749395</td>\n",
       "      <td>14.593207</td>\n",
       "      <td>14.558687</td>\n",
       "      <td>14.490661</td>\n",
       "      <td>14.540732</td>\n",
       "      <td>14.540732</td>\n",
       "      <td>14.972534</td>\n",
       "      <td>14.730323</td>\n",
       "      <td>14.790150</td>\n",
       "      <td>14.609839</td>\n",
       "    </tr>\n",
       "    <tr>\n",
       "      <th>ILMN_1343295</th>\n",
       "      <td>13.015539</td>\n",
       "      <td>13.199489</td>\n",
       "      <td>13.256768</td>\n",
       "      <td>13.030246</td>\n",
       "      <td>12.611440</td>\n",
       "      <td>13.030246</td>\n",
       "      <td>12.894845</td>\n",
       "      <td>12.668329</td>\n",
       "      <td>12.536053</td>\n",
       "      <td>12.684084</td>\n",
       "      <td>...</td>\n",
       "      <td>12.729559</td>\n",
       "      <td>12.628114</td>\n",
       "      <td>12.729559</td>\n",
       "      <td>12.526797</td>\n",
       "      <td>12.921417</td>\n",
       "      <td>12.536053</td>\n",
       "      <td>12.616903</td>\n",
       "      <td>12.685365</td>\n",
       "      <td>12.729559</td>\n",
       "      <td>12.894845</td>\n",
       "    </tr>\n",
       "    <tr>\n",
       "      <th>ILMN_1651199</th>\n",
       "      <td>7.407451</td>\n",
       "      <td>7.404480</td>\n",
       "      <td>7.384722</td>\n",
       "      <td>7.398199</td>\n",
       "      <td>7.388903</td>\n",
       "      <td>7.392256</td>\n",
       "      <td>7.411295</td>\n",
       "      <td>7.392441</td>\n",
       "      <td>7.402658</td>\n",
       "      <td>7.397018</td>\n",
       "      <td>...</td>\n",
       "      <td>7.386564</td>\n",
       "      <td>7.392892</td>\n",
       "      <td>7.387466</td>\n",
       "      <td>7.398703</td>\n",
       "      <td>7.387851</td>\n",
       "      <td>7.380980</td>\n",
       "      <td>7.391920</td>\n",
       "      <td>7.391737</td>\n",
       "      <td>7.384270</td>\n",
       "      <td>7.391287</td>\n",
       "    </tr>\n",
       "    <tr>\n",
       "      <th>ILMN_1651209</th>\n",
       "      <td>7.551069</td>\n",
       "      <td>7.489157</td>\n",
       "      <td>7.481180</td>\n",
       "      <td>7.454187</td>\n",
       "      <td>7.468150</td>\n",
       "      <td>7.538856</td>\n",
       "      <td>7.516444</td>\n",
       "      <td>7.428403</td>\n",
       "      <td>7.420693</td>\n",
       "      <td>7.435272</td>\n",
       "      <td>...</td>\n",
       "      <td>7.492618</td>\n",
       "      <td>7.517797</td>\n",
       "      <td>7.570776</td>\n",
       "      <td>7.491987</td>\n",
       "      <td>7.543178</td>\n",
       "      <td>7.536219</td>\n",
       "      <td>7.486087</td>\n",
       "      <td>7.445162</td>\n",
       "      <td>7.523485</td>\n",
       "      <td>7.524602</td>\n",
       "    </tr>\n",
       "    <tr>\n",
       "      <th>ILMN_1651210</th>\n",
       "      <td>7.389822</td>\n",
       "      <td>7.396480</td>\n",
       "      <td>7.392958</td>\n",
       "      <td>7.389106</td>\n",
       "      <td>7.399044</td>\n",
       "      <td>7.401760</td>\n",
       "      <td>7.412553</td>\n",
       "      <td>7.418004</td>\n",
       "      <td>7.383820</td>\n",
       "      <td>7.399614</td>\n",
       "      <td>...</td>\n",
       "      <td>7.383362</td>\n",
       "      <td>7.386934</td>\n",
       "      <td>7.383795</td>\n",
       "      <td>7.390598</td>\n",
       "      <td>7.383517</td>\n",
       "      <td>7.380075</td>\n",
       "      <td>7.383755</td>\n",
       "      <td>7.392136</td>\n",
       "      <td>7.383855</td>\n",
       "      <td>7.395560</td>\n",
       "    </tr>\n",
       "  </tbody>\n",
       "</table>\n",
       "<p>5 rows × 133 columns</p>\n",
       "</div>"
      ],
      "text/plain": [
       "              GSM1467273  GSM1467274  GSM1467275  GSM1467276  GSM1467277  \\\n",
       "ID                                                                         \n",
       "ILMN_1343291   14.631928   14.846268   14.949614   15.044821   14.790150   \n",
       "ILMN_1343295   13.015539   13.199489   13.256768   13.030246   12.611440   \n",
       "ILMN_1651199    7.407451    7.404480    7.384722    7.398199    7.388903   \n",
       "ILMN_1651209    7.551069    7.489157    7.481180    7.454187    7.468150   \n",
       "ILMN_1651210    7.389822    7.396480    7.392958    7.389106    7.399044   \n",
       "\n",
       "              GSM1467278  GSM1467279  GSM1467280  GSM1467281  GSM1467282  ...  \\\n",
       "ID                                                                        ...   \n",
       "ILMN_1343291   14.670395   14.730323   14.972534   14.826768   14.790150  ...   \n",
       "ILMN_1343295   13.030246   12.894845   12.668329   12.536053   12.684084  ...   \n",
       "ILMN_1651199    7.392256    7.411295    7.392441    7.402658    7.397018  ...   \n",
       "ILMN_1651209    7.538856    7.516444    7.428403    7.420693    7.435272  ...   \n",
       "ILMN_1651210    7.401760    7.412553    7.418004    7.383820    7.399614  ...   \n",
       "\n",
       "              GSM1467396  GSM1467397  GSM1467398  GSM1467399  GSM1467400  \\\n",
       "ID                                                                         \n",
       "ILMN_1343291   14.749395   14.593207   14.558687   14.490661   14.540732   \n",
       "ILMN_1343295   12.729559   12.628114   12.729559   12.526797   12.921417   \n",
       "ILMN_1651199    7.386564    7.392892    7.387466    7.398703    7.387851   \n",
       "ILMN_1651209    7.492618    7.517797    7.570776    7.491987    7.543178   \n",
       "ILMN_1651210    7.383362    7.386934    7.383795    7.390598    7.383517   \n",
       "\n",
       "              GSM1467401  GSM1467402  GSM1467403  GSM1467404  GSM1467405  \n",
       "ID                                                                        \n",
       "ILMN_1343291   14.540732   14.972534   14.730323   14.790150   14.609839  \n",
       "ILMN_1343295   12.536053   12.616903   12.685365   12.729559   12.894845  \n",
       "ILMN_1651199    7.380980    7.391920    7.391737    7.384270    7.391287  \n",
       "ILMN_1651209    7.536219    7.486087    7.445162    7.523485    7.524602  \n",
       "ILMN_1651210    7.380075    7.383755    7.392136    7.383855    7.395560  \n",
       "\n",
       "[5 rows x 133 columns]"
      ]
     },
     "execution_count": 37,
     "metadata": {},
     "output_type": "execute_result"
    }
   ],
   "source": [
    "genetic_data = get_genetic_data(matrix_file)\n",
    "genetic_data.head()"
   ]
  },
  {
   "cell_type": "code",
   "execution_count": 38,
   "metadata": {
    "ExecuteTime": {
     "end_time": "2024-01-10T21:40:14.107050774Z",
     "start_time": "2024-01-10T21:40:14.090977173Z"
    },
    "collapsed": false
   },
   "outputs": [
    {
     "data": {
      "text/plain": [
       "['ILMN_1343291',\n",
       " 'ILMN_1343295',\n",
       " 'ILMN_1651199',\n",
       " 'ILMN_1651209',\n",
       " 'ILMN_1651210',\n",
       " 'ILMN_1651221',\n",
       " 'ILMN_1651228',\n",
       " 'ILMN_1651229',\n",
       " 'ILMN_1651230',\n",
       " 'ILMN_1651232',\n",
       " 'ILMN_1651235',\n",
       " 'ILMN_1651236',\n",
       " 'ILMN_1651237',\n",
       " 'ILMN_1651238',\n",
       " 'ILMN_1651249',\n",
       " 'ILMN_1651253',\n",
       " 'ILMN_1651254',\n",
       " 'ILMN_1651259',\n",
       " 'ILMN_1651260',\n",
       " 'ILMN_1651262']"
      ]
     },
     "execution_count": 38,
     "metadata": {},
     "output_type": "execute_result"
    }
   ],
   "source": [
    "gene_row_ids = genetic_data.index[:20].tolist()\n",
    "gene_row_ids"
   ]
  },
  {
   "cell_type": "markdown",
   "metadata": {
    "ExecuteTime": {
     "end_time": "2023-12-31T03:30:41.595335164Z",
     "start_time": "2023-12-31T03:30:41.513232329Z"
    },
    "collapsed": false
   },
   "source": [
    "Check if the gene dataset requires mapping to get the gene symbols corresponding to each data row."
   ]
  },
  {
   "cell_type": "markdown",
   "metadata": {
    "collapsed": false
   },
   "source": [
    "Reference prompt:"
   ]
  },
  {
   "cell_type": "code",
   "execution_count": 39,
   "metadata": {
    "ExecuteTime": {
     "end_time": "2024-01-10T21:40:16.445692615Z",
     "start_time": "2024-01-10T21:40:16.435117932Z"
    },
    "collapsed": false
   },
   "outputs": [
    {
     "data": {
      "text/plain": [
       "\"\\nBelow are the row headers of a gene expression dataset in GEO. Based on your biomedical knowledge, are they human gene symbols, or are they some other identifiers that need to be mapped to gene symbols? Your answer should be concluded by starting a new line and strictly following this format:\\nrequires_gene_mapping = (True or False)\\n\\nRow headers:\\n['ILMN_1343291', 'ILMN_1343295', 'ILMN_1651199', 'ILMN_1651209', 'ILMN_1651210', 'ILMN_1651221', 'ILMN_1651228', 'ILMN_1651229', 'ILMN_1651230', 'ILMN_1651232', 'ILMN_1651235', 'ILMN_1651236', 'ILMN_1651237', 'ILMN_1651238', 'ILMN_1651249', 'ILMN_1651253', 'ILMN_1651254', 'ILMN_1651259', 'ILMN_1651260', 'ILMN_1651262']\\n\""
      ]
     },
     "execution_count": 39,
     "metadata": {},
     "output_type": "execute_result"
    }
   ],
   "source": [
    "f'''\n",
    "Below are the row headers of a gene expression dataset in GEO. Based on your biomedical knowledge, are they human gene symbols, or are they some other identifiers that need to be mapped to gene symbols? Your answer should be concluded by starting a new line and strictly following this format:\n",
    "requires_gene_mapping = (True or False)\n",
    "\n",
    "Row headers:\n",
    "{gene_row_ids}\n",
    "'''"
   ]
  },
  {
   "cell_type": "markdown",
   "metadata": {
    "collapsed": false
   },
   "source": [
    "\n",
    "If not required, jump directly to the gene normalization step"
   ]
  },
  {
   "cell_type": "code",
   "execution_count": 40,
   "metadata": {
    "ExecuteTime": {
     "end_time": "2024-01-10T21:40:17.098774002Z",
     "start_time": "2024-01-10T21:40:17.094437169Z"
    },
    "collapsed": false
   },
   "outputs": [],
   "source": [
    "requires_gene_mapping = False"
   ]
  },
  {
   "cell_type": "code",
   "execution_count": 41,
   "metadata": {
    "ExecuteTime": {
     "end_time": "2024-01-10T21:40:17.399324928Z",
     "start_time": "2024-01-10T21:40:17.381475568Z"
    },
    "collapsed": false
   },
   "outputs": [],
   "source": [
    "if requires_gene_mapping:\n",
    "    gene_annotation = get_gene_annotation(soft_file)\n",
    "    gene_annotation_summary = preview_df(gene_annotation)\n",
    "    print(gene_annotation_summary)"
   ]
  },
  {
   "cell_type": "markdown",
   "metadata": {
    "ExecuteTime": {
     "end_time": "2023-12-31T03:58:04.978931927Z",
     "start_time": "2023-12-31T03:58:04.966328339Z"
    },
    "collapsed": false
   },
   "source": [
    "Observe the first few cells in the ID column of the gene annotation dataframe, to find the names of columns that store the gene probe IDs and gene symbols respectively.\n",
    "Reference prompt:"
   ]
  },
  {
   "cell_type": "code",
   "execution_count": 42,
   "metadata": {
    "ExecuteTime": {
     "end_time": "2024-01-10T21:40:17.944343822Z",
     "start_time": "2024-01-10T21:40:17.933815553Z"
    },
    "collapsed": false
   },
   "outputs": [],
   "source": [
    "if requires_gene_mapping:\n",
    "    print(f'''\n",
    "    As a biomedical research team, we are analyzing a gene expression dataset, and find that its row headers are some identifiers related to genes:\n",
    "    {gene_row_ids}\n",
    "    To get the mapping from those identifiers to actual gene symbols, we extracted the gene annotation data from a series in the GEO database, and saved it to a Python dictionary. Please read the dictionary, and decide which key stores the identifiers, and which key stores the gene symbols. Please strictly follow this format in your answer:\n",
    "    identifier_key = 'key_name1'\n",
    "    gene_symbol_key = 'key_name2'\n",
    "\n",
    "    Gene annotation dictionary:\n",
    "    {gene_annotation_summary}\n",
    "    ''')"
   ]
  },
  {
   "cell_type": "code",
   "execution_count": 43,
   "metadata": {
    "ExecuteTime": {
     "end_time": "2024-01-10T21:40:18.245811669Z",
     "start_time": "2024-01-10T21:40:18.234480277Z"
    },
    "collapsed": false
   },
   "outputs": [],
   "source": [
    "if requires_gene_mapping:\n",
    "    identifier_key = 'ID'\n",
    "    gene_symbol_key = 'UCSC_RefGene_Name'\n",
    "    gene_mapping = get_gene_mapping(gene_annotation, identifier_key, gene_symbol_key)\n",
    "    genetic_data = apply_gene_mapping(genetic_data, gene_mapping)"
   ]
  },
  {
   "cell_type": "code",
   "execution_count": 44,
   "metadata": {
    "ExecuteTime": {
     "end_time": "2024-01-10T21:40:20.559860684Z",
     "start_time": "2024-01-10T21:40:18.521711414Z"
    },
    "collapsed": false
   },
   "outputs": [
    {
     "name": "stderr",
     "output_type": "stream",
     "text": [
      "1000 input query terms found no hit:\t['ILMN_1343291', 'ILMN_1343295', 'ILMN_1651199', 'ILMN_1651209', 'ILMN_1651210', 'ILMN_1651221', 'IL\n",
      "1000 input query terms found no hit:\t['ILMN_1655605', 'ILMN_1655608', 'ILMN_1655610', 'ILMN_1655611', 'ILMN_1655612', 'ILMN_1655613', 'IL\n",
      "1000 input query terms found no hit:\t['ILMN_1659857', 'ILMN_1659862', 'ILMN_1659874', 'ILMN_1659878', 'ILMN_1659885', 'ILMN_1659888', 'IL\n",
      "1000 input query terms found no hit:\t['ILMN_1664435', 'ILMN_1664437', 'ILMN_1664439', 'ILMN_1664440', 'ILMN_1664448', 'ILMN_1664449', 'IL\n",
      "1000 input query terms found no hit:\t['ILMN_1669338', 'ILMN_1669350', 'ILMN_1669352', 'ILMN_1669358', 'ILMN_1669362', 'ILMN_1669363', 'IL\n",
      "1000 input query terms found no hit:\t['ILMN_1674021', 'ILMN_1674024', 'ILMN_1674027', 'ILMN_1674031', 'ILMN_1674032', 'ILMN_1674034', 'IL\n",
      "1000 input query terms found no hit:\t['ILMN_1678863', 'ILMN_1678877', 'ILMN_1678879', 'ILMN_1678882', 'ILMN_1678886', 'ILMN_1678895', 'IL\n",
      "1000 input query terms found no hit:\t['ILMN_1683909', 'ILMN_1683916', 'ILMN_1683920', 'ILMN_1683921', 'ILMN_1683923', 'ILMN_1683927', 'IL\n",
      "1000 input query terms found no hit:\t['ILMN_1689153', 'ILMN_1689154', 'ILMN_1689156', 'ILMN_1689160', 'ILMN_1689162', 'ILMN_1689172', 'IL\n",
      "1000 input query terms found no hit:\t['ILMN_1694357', 'ILMN_1694359', 'ILMN_1694363', 'ILMN_1694367', 'ILMN_1694371', 'ILMN_1694382', 'IL\n",
      "1000 input query terms found no hit:\t['ILMN_1699758', 'ILMN_1699767', 'ILMN_1699768', 'ILMN_1699769', 'ILMN_1699772', 'ILMN_1699778', 'IL\n",
      "1000 input query terms found no hit:\t['ILMN_1705337', 'ILMN_1705342', 'ILMN_1705346', 'ILMN_1705352', 'ILMN_1705353', 'ILMN_1705364', 'IL\n",
      "1000 input query terms found no hit:\t['ILMN_1711102', 'ILMN_1711109', 'ILMN_1711111', 'ILMN_1711114', 'ILMN_1711120', 'ILMN_1711122', 'IL\n",
      "1000 input query terms found no hit:\t['ILMN_1716766', 'ILMN_1716770', 'ILMN_1716790', 'ILMN_1716797', 'ILMN_1716803', 'ILMN_1716814', 'IL\n",
      "1000 input query terms found no hit:\t['ILMN_1722838', 'ILMN_1722845', 'ILMN_1722849', 'ILMN_1722850', 'ILMN_1722851', 'ILMN_1722855', 'IL\n",
      "1000 input query terms found no hit:\t['ILMN_1728844', 'ILMN_1728845', 'ILMN_1728858', 'ILMN_1728870', 'ILMN_1728872', 'ILMN_1728883', 'IL\n",
      "1000 input query terms found no hit:\t['ILMN_1735365', 'ILMN_1735367', 'ILMN_1735386', 'ILMN_1735392', 'ILMN_1735401', 'ILMN_1735402', 'IL\n",
      "1000 input query terms found no hit:\t['ILMN_1741176', 'ILMN_1741180', 'ILMN_1741188', 'ILMN_1741200', 'ILMN_1741204', 'ILMN_1741214', 'IL\n",
      "1000 input query terms found no hit:\t['ILMN_1747598', 'ILMN_1747613', 'ILMN_1747622', 'ILMN_1747627', 'ILMN_1747629', 'ILMN_1747630', 'IL\n",
      "1000 input query terms found no hit:\t['ILMN_1753954', 'ILMN_1753973', 'ILMN_1753975', 'ILMN_1753976', 'ILMN_1753980', 'ILMN_1753985', 'IL\n",
      "1000 input query terms found no hit:\t['ILMN_1760525', 'ILMN_1760530', 'ILMN_1760542', 'ILMN_1760554', 'ILMN_1760556', 'ILMN_1760563', 'IL\n",
      "1000 input query terms found no hit:\t['ILMN_1766904', 'ILMN_1766914', 'ILMN_1766916', 'ILMN_1766918', 'ILMN_1766920', 'ILMN_1766925', 'IL\n",
      "1000 input query terms found no hit:\t['ILMN_1772976', 'ILMN_1772981', 'ILMN_1772991', 'ILMN_1772998', 'ILMN_1773002', 'ILMN_1773006', 'IL\n",
      "1000 input query terms found no hit:\t['ILMN_1779234', 'ILMN_1779235', 'ILMN_1779241', 'ILMN_1779252', 'ILMN_1779256', 'ILMN_1779257', 'IL\n",
      "1000 input query terms found no hit:\t['ILMN_1785861', 'ILMN_1785891', 'ILMN_1785892', 'ILMN_1785896', 'ILMN_1785900', 'ILMN_1785902', 'IL\n",
      "1000 input query terms found no hit:\t['ILMN_1792423', 'ILMN_1792432', 'ILMN_1792433', 'ILMN_1792435', 'ILMN_1792437', 'ILMN_1792449', 'IL\n",
      "1000 input query terms found no hit:\t['ILMN_1798803', 'ILMN_1798804', 'ILMN_1798807', 'ILMN_1798808', 'ILMN_1798809', 'ILMN_1798816', 'IL\n",
      "1000 input query terms found no hit:\t['ILMN_1805221', 'ILMN_1805225', 'ILMN_1805228', 'ILMN_1805241', 'ILMN_1805247', 'ILMN_1805251', 'IL\n",
      "1000 input query terms found no hit:\t['ILMN_1811410', 'ILMN_1811426', 'ILMN_1811433', 'ILMN_1811437', 'ILMN_1811443', 'ILMN_1811450', 'IL\n",
      "1000 input query terms found no hit:\t['ILMN_1818740', 'ILMN_1818750', 'ILMN_1818771', 'ILMN_1818773', 'ILMN_1818793', 'ILMN_1818794', 'IL\n",
      "1000 input query terms found no hit:\t['ILMN_1827562', 'ILMN_1827572', 'ILMN_1827582', 'ILMN_1827623', 'ILMN_1827632', 'ILMN_1827636', 'IL\n",
      "1000 input query terms found no hit:\t['ILMN_1836550', 'ILMN_1836556', 'ILMN_1836559', 'ILMN_1836565', 'ILMN_1836570', 'ILMN_1836602', 'IL\n",
      "1000 input query terms found no hit:\t['ILMN_1845171', 'ILMN_1845201', 'ILMN_1845213', 'ILMN_1845221', 'ILMN_1845229', 'ILMN_1845230', 'IL\n",
      "1000 input query terms found no hit:\t['ILMN_1853257', 'ILMN_1853258', 'ILMN_1853264', 'ILMN_1853273', 'ILMN_1853280', 'ILMN_1853282', 'IL\n",
      "1000 input query terms found no hit:\t['ILMN_1861261', 'ILMN_1861267', 'ILMN_1861270', 'ILMN_1861278', 'ILMN_1861294', 'ILMN_1861315', 'IL\n",
      "1000 input query terms found no hit:\t['ILMN_1869445', 'ILMN_1869454', 'ILMN_1869458', 'ILMN_1869468', 'ILMN_1869476', 'ILMN_1869497', 'IL\n",
      "1000 input query terms found no hit:\t['ILMN_1877536', 'ILMN_1877540', 'ILMN_1877551', 'ILMN_1877561', 'ILMN_1877565', 'ILMN_1877593', 'IL\n",
      "1000 input query terms found no hit:\t['ILMN_1885115', 'ILMN_1885116', 'ILMN_1885129', 'ILMN_1885133', 'ILMN_1885140', 'ILMN_1885147', 'IL\n",
      "1000 input query terms found no hit:\t['ILMN_1892907', 'ILMN_1892918', 'ILMN_1892919', 'ILMN_1892923', 'ILMN_1892953', 'ILMN_1892955', 'IL\n",
      "1000 input query terms found no hit:\t['ILMN_1900012', 'ILMN_1900030', 'ILMN_1900049', 'ILMN_1900051', 'ILMN_1900062', 'ILMN_1900063', 'IL\n",
      "1000 input query terms found no hit:\t['ILMN_1907068', 'ILMN_1907077', 'ILMN_1907081', 'ILMN_1907095', 'ILMN_1907096', 'ILMN_1907100', 'IL\n",
      "1000 input query terms found no hit:\t['ILMN_1914288', 'ILMN_1914291', 'ILMN_1914293', 'ILMN_1914295', 'ILMN_1914302', 'ILMN_1914311', 'IL\n",
      "1000 input query terms found no hit:\t['ILMN_2070355', 'ILMN_2070375', 'ILMN_2070395', 'ILMN_2070477', 'ILMN_2070521', 'ILMN_2070530', 'IL\n",
      "1000 input query terms found no hit:\t['ILMN_2127379', 'ILMN_2127416', 'ILMN_2127451', 'ILMN_2127477', 'ILMN_2127605', 'ILMN_2127624', 'IL\n",
      "1000 input query terms found no hit:\t['ILMN_2183772', 'ILMN_2183784', 'ILMN_2183856', 'ILMN_2183885', 'ILMN_2183891', 'ILMN_2183938', 'IL\n",
      "1000 input query terms found no hit:\t['ILMN_2236655', 'ILMN_2236714', 'ILMN_2236726', 'ILMN_2236800', 'ILMN_2237211', 'ILMN_2237252', 'IL\n",
      "1000 input query terms found no hit:\t['ILMN_2305599', 'ILMN_2305721', 'ILMN_2305843', 'ILMN_2306033', 'ILMN_2306066', 'ILMN_2306077', 'IL\n",
      "1000 input query terms found no hit:\t['ILMN_2357471', 'ILMN_2357542', 'ILMN_2357577', 'ILMN_2357682', 'ILMN_2357701', 'ILMN_2357730', 'IL\n",
      "679 input query terms found no hit:\t['ILMN_2394106', 'ILMN_2394132', 'ILMN_2394147', 'ILMN_2394161', 'ILMN_2394193', 'ILMN_2394210', 'IL\n"
     ]
    }
   ],
   "source": [
    "if NORMALIZE_GENE:\n",
    "    genetic_data = normalize_gene_symbols_in_index(genetic_data)"
   ]
  },
  {
   "cell_type": "code",
   "execution_count": 45,
   "metadata": {
    "ExecuteTime": {
     "end_time": "2024-01-10T21:40:20.572778564Z",
     "start_time": "2024-01-10T21:40:20.565101065Z"
    },
    "collapsed": false
   },
   "outputs": [],
   "source": [
    "merged_data = geo_merge_clinical_genetic_data(selected_clinical_data, genetic_data)\n",
    "# The preprocessing runs through, which means is_available should be True\n",
    "is_available = True"
   ]
  },
  {
   "cell_type": "code",
   "execution_count": 46,
   "metadata": {
    "ExecuteTime": {
     "end_time": "2024-01-10T21:40:20.595385887Z",
     "start_time": "2024-01-10T21:40:20.574630883Z"
    },
    "collapsed": false
   },
   "outputs": [
    {
     "name": "stdout",
     "output_type": "stream",
     "text": [
      "The merged dataset contains 133 samples.\n"
     ]
    }
   ],
   "source": [
    "print(f\"The merged dataset contains {len(merged_data)} samples.\")"
   ]
  },
  {
   "cell_type": "code",
   "execution_count": 47,
   "metadata": {
    "ExecuteTime": {
     "end_time": "2024-01-10T21:40:20.595934649Z",
     "start_time": "2024-01-10T21:40:20.580408525Z"
    },
    "collapsed": false
   },
   "outputs": [
    {
     "name": "stdout",
     "output_type": "stream",
     "text": [
      "For the feature 'Anorexia-Nervosa', the least common label is '1.0' with 15 occurrences. This represents 11.28% of the dataset.\n",
      "The distribution of the feature 'Anorexia-Nervosa' in this dataset is fine.\n",
      "\n",
      "For the feature 'Gender', the least common label is '0.0' with 36 occurrences. This represents 27.07% of the dataset.\n",
      "The distribution of the feature 'Gender' in this dataset is fine.\n",
      "\n"
     ]
    },
    {
     "data": {
      "text/plain": [
       "False"
      ]
     },
     "execution_count": 47,
     "metadata": {},
     "output_type": "execute_result"
    }
   ],
   "source": [
    "is_trait_biased, merged_data = judge_and_remove_biased_features(merged_data, TRAIT, trait_type=trait_type)\n",
    "is_trait_biased"
   ]
  },
  {
   "cell_type": "code",
   "execution_count": 48,
   "metadata": {
    "ExecuteTime": {
     "end_time": "2024-01-10T21:40:20.596022151Z",
     "start_time": "2024-01-10T21:40:20.588443384Z"
    },
    "collapsed": false
   },
   "outputs": [],
   "source": [
    "if is_available:\n",
    "    save_cohort_info(cohort, JSON_PATH, is_available, is_trait_biased, merged_data, note='')\n",
    "else:\n",
    "    save_cohort_info(cohort, JSON_PATH, is_available)"
   ]
  },
  {
   "cell_type": "code",
   "execution_count": 49,
   "metadata": {
    "ExecuteTime": {
     "end_time": "2024-01-10T21:40:20.681345468Z",
     "start_time": "2024-01-10T21:40:20.591286171Z"
    },
    "collapsed": false
   },
   "outputs": [],
   "source": [
    "merged_data.head()\n",
    "if not is_trait_biased:\n",
    "    merged_data.to_csv(os.path.join(OUTPUT_DIR, cohort + '.csv'), index=False)"
   ]
  },
  {
   "cell_type": "markdown",
   "metadata": {
    "ExecuteTime": {
     "end_time": "2023-12-31T03:58:22.271683755Z",
     "start_time": "2023-12-31T03:58:22.246557674Z"
    },
    "id": "-MTPhRGxJV7I"
   },
   "source": [
    "### 3. Do regression & Cross Validation"
   ]
  },
  {
   "cell_type": "code",
   "execution_count": 50,
   "metadata": {
    "ExecuteTime": {
     "end_time": "2024-01-10T21:40:20.694597045Z",
     "start_time": "2024-01-10T21:40:20.642161512Z"
    },
    "collapsed": false
   },
   "outputs": [
    {
     "data": {
      "text/html": [
       "<div>\n",
       "<style scoped>\n",
       "    .dataframe tbody tr th:only-of-type {\n",
       "        vertical-align: middle;\n",
       "    }\n",
       "\n",
       "    .dataframe tbody tr th {\n",
       "        vertical-align: top;\n",
       "    }\n",
       "\n",
       "    .dataframe thead th {\n",
       "        text-align: right;\n",
       "    }\n",
       "</style>\n",
       "<table border=\"1\" class=\"dataframe\">\n",
       "  <thead>\n",
       "    <tr style=\"text-align: right;\">\n",
       "      <th></th>\n",
       "      <th>cohort_id</th>\n",
       "      <th>is_usable</th>\n",
       "      <th>is_available</th>\n",
       "      <th>is_biased</th>\n",
       "      <th>has_age</th>\n",
       "      <th>has_gender</th>\n",
       "      <th>sample_size</th>\n",
       "      <th>note</th>\n",
       "    </tr>\n",
       "  </thead>\n",
       "  <tbody>\n",
       "    <tr>\n",
       "      <th>0</th>\n",
       "      <td>GSE60190</td>\n",
       "      <td>True</td>\n",
       "      <td>True</td>\n",
       "      <td>False</td>\n",
       "      <td>False</td>\n",
       "      <td>True</td>\n",
       "      <td>133</td>\n",
       "      <td></td>\n",
       "    </tr>\n",
       "  </tbody>\n",
       "</table>\n",
       "</div>"
      ],
      "text/plain": [
       "  cohort_id  is_usable  is_available  is_biased  has_age  has_gender  \\\n",
       "0  GSE60190       True          True      False    False        True   \n",
       "\n",
       "   sample_size note  \n",
       "0          133       "
      ]
     },
     "execution_count": 50,
     "metadata": {},
     "output_type": "execute_result"
    }
   ],
   "source": [
    "# Check the information of usable cohorts\n",
    "best_cohort, ranked_df = filter_and_rank_cohorts(JSON_PATH)\n",
    "ranked_df"
   ]
  },
  {
   "cell_type": "code",
   "execution_count": 51,
   "metadata": {
    "ExecuteTime": {
     "end_time": "2024-01-10T21:40:20.907514912Z",
     "start_time": "2024-01-10T21:40:20.907178250Z"
    },
    "collapsed": false
   },
   "outputs": [],
   "source": [
    "# If both age and gender have available cohorts, select 'age' as the condition.\n",
    "condition = 'Age'\n",
    "filter_column = 'has_' + condition.lower()\n",
    "\n",
    "condition_best_cohort, condition_ranked_df = filter_and_rank_cohorts(JSON_PATH, filter_column)\n",
    "condition_best_cohort"
   ]
  },
  {
   "cell_type": "code",
   "execution_count": 52,
   "metadata": {
    "ExecuteTime": {
     "end_time": "2024-01-10T21:40:21.120075804Z",
     "start_time": "2024-01-10T21:40:21.109376558Z"
    },
    "collapsed": false
   },
   "outputs": [
    {
     "data": {
      "text/html": [
       "<div>\n",
       "<style scoped>\n",
       "    .dataframe tbody tr th:only-of-type {\n",
       "        vertical-align: middle;\n",
       "    }\n",
       "\n",
       "    .dataframe tbody tr th {\n",
       "        vertical-align: top;\n",
       "    }\n",
       "\n",
       "    .dataframe thead th {\n",
       "        text-align: right;\n",
       "    }\n",
       "</style>\n",
       "<table border=\"1\" class=\"dataframe\">\n",
       "  <thead>\n",
       "    <tr style=\"text-align: right;\">\n",
       "      <th></th>\n",
       "      <th>cohort_id</th>\n",
       "      <th>is_usable</th>\n",
       "      <th>is_available</th>\n",
       "      <th>is_biased</th>\n",
       "      <th>has_age</th>\n",
       "      <th>has_gender</th>\n",
       "      <th>sample_size</th>\n",
       "      <th>note</th>\n",
       "    </tr>\n",
       "  </thead>\n",
       "  <tbody>\n",
       "  </tbody>\n",
       "</table>\n",
       "</div>"
      ],
      "text/plain": [
       "Empty DataFrame\n",
       "Columns: [cohort_id, is_usable, is_available, is_biased, has_age, has_gender, sample_size, note]\n",
       "Index: []"
      ]
     },
     "execution_count": 52,
     "metadata": {},
     "output_type": "execute_result"
    }
   ],
   "source": [
    "condition_ranked_df.head()"
   ]
  }
 ],
 "metadata": {
  "colab": {
   "provenance": []
  },
  "kernelspec": {
   "display_name": "Python 3 (ipykernel)",
   "language": "python",
   "name": "python3"
  },
  "language_info": {
   "codemirror_mode": {
    "name": "ipython",
    "version": 3
   },
   "file_extension": ".py",
   "mimetype": "text/x-python",
   "name": "python",
   "nbconvert_exporter": "python",
   "pygments_lexer": "ipython3",
   "version": "3.10.6"
  }
 },
 "nbformat": 4,
 "nbformat_minor": 0
}
