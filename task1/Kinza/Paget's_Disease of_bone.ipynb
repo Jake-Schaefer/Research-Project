{
 "cells": [
  {
   "cell_type": "markdown",
   "metadata": {
    "collapsed": false
   },
   "source": [
    "# Gold standard curation: Preprocessing and single-step regression"
   ]
  },
  {
   "cell_type": "markdown",
   "metadata": {
    "collapsed": false
   },
   "source": [
    "In this stage of gold standard curation, we will do the data preprocessing, selection, and single-step regression for the 153 traits in our question set. This file shows the reference steps using the trait \"Breast Cancer\" as an example. The workflow consists of the following steps:\n",
    "\n",
    "1. Preprocess all the cohorts related to this trait. Each cohort should be converted to a tabular form and saved to a csv file, with columns being genetic factors, the trait, and age, gender if available;\n",
    "2. If there exists at least one cohort with age or gender information, conduct regression analysis with genetic features together with age or gender as the regressors.\n"
   ]
  },
  {
   "cell_type": "code",
   "execution_count": 1,
   "metadata": {},
   "outputs": [],
   "source": [
    "import os\n",
    "import io\n",
    "import pandas as pd\n",
    "import gzip\n",
    "import mygene\n",
    "import re\n",
    "import tempfile\n",
    "import shutil\n",
    "\n",
    "import matplotlib.pyplot as plt\n",
    "import numpy as np\n",
    "import json\n",
    "from typing import Callable, Optional, List, Tuple, Union, Any\n",
    "from sklearn.linear_model import Lasso, LogisticRegression\n",
    "from sparse_lmm import VariableSelection\n",
    "from statsmodels.stats.multitest import multipletests\n",
    "from sklearn.metrics import accuracy_score, mean_squared_error"
   ]
  },
  {
   "cell_type": "code",
   "execution_count": 2,
   "metadata": {},
   "outputs": [],
   "source": [
    "def get_relevant_filepaths(cohort_dir):\n",
    "    \"\"\"Find the file paths of a SOFT file and a matrix file from the given data directory of a cohort.\n",
    "    If there are multiple SOFT files or matrix files, simply choose the first one. May be replaced by better\n",
    "    strategies later.\n",
    "    \"\"\"\n",
    "    files = os.listdir(cohort_dir)\n",
    "    soft_files = [f for f in files if 'soft' in f.lower()]\n",
    "    matrix_files = [f for f in files if 'matrix' in f.lower()]\n",
    "    assert len(soft_files) > 0 and len(matrix_files) > 0\n",
    "    soft_file_path = os.path.join(cohort_dir, soft_files[0])\n",
    "    matrix_file_path = os.path.join(cohort_dir, matrix_files[0])\n",
    "\n",
    "    return soft_file_path, matrix_file_path"
   ]
  },
  {
   "cell_type": "code",
   "execution_count": 3,
   "metadata": {},
   "outputs": [],
   "source": [
    "def get_background_and_clinical_data(file_path,\n",
    "                                     prefixes_a=['!Series_title', '!Series_summary', '!Series_overall_design'],\n",
    "                                     prefixes_b=['!Sample_geo_accession', '!Sample_characteristics_ch1']):\n",
    "    \"\"\"Extract from a matrix file the background information about the dataset, and sample characteristics data\"\"\"\n",
    "    background_info, clinical_data = filter_content_by_prefix(file_path, prefixes_a, prefixes_b, unselect=False,\n",
    "                                                              source_type='file',\n",
    "                                                              return_df_a=False, return_df_b=True)\n",
    "    return background_info, clinical_data"
   ]
  },
  {
   "cell_type": "code",
   "execution_count": 4,
   "metadata": {},
   "outputs": [],
   "source": [
    "def filter_content_by_prefix(\n",
    "    source: str,\n",
    "    prefixes_a: List[str],\n",
    "    prefixes_b: Optional[List[str]] = None,\n",
    "    unselect: bool = False,\n",
    "    source_type: str = 'file',\n",
    "    return_df_a: bool = True,\n",
    "    return_df_b: bool = True\n",
    ") -> Tuple[Union[str, pd.DataFrame], Optional[Union[str, pd.DataFrame]]]:\n",
    "    \"\"\"\n",
    "    Filters rows from a file or a list of strings based on specified prefixes.\n",
    "\n",
    "    Parameters:\n",
    "    - source (str): File path or string content to filter.\n",
    "    - prefixes_a (List[str]): Primary list of prefixes to filter by.\n",
    "    - prefixes_b (Optional[List[str]]): Optional secondary list of prefixes to filter by.\n",
    "    - unselect (bool): If True, selects rows that do not start with the specified prefixes.\n",
    "    - source_type (str): 'file' if source is a file path, 'string' if source is a string of text.\n",
    "    - return_df_a (bool): If True, returns filtered content for prefixes_a as a pandas DataFrame.\n",
    "    - return_df_b (bool): If True, and if prefixes_b is provided, returns filtered content for prefixes_b as a pandas DataFrame.\n",
    "\n",
    "    Returns:\n",
    "    - Tuple: A tuple where the first element is the filtered content for prefixes_a, and the second element is the filtered content for prefixes_b.\n",
    "    \"\"\"\n",
    "    filtered_lines_a = []\n",
    "    filtered_lines_b = []\n",
    "    prefix_set_a = set(prefixes_a)\n",
    "    if prefixes_b is not None:\n",
    "        prefix_set_b = set(prefixes_b)\n",
    "\n",
    "    # Use generator to get lines\n",
    "    for line in line_generator(source, source_type):\n",
    "        matched_a = any(line.startswith(prefix) for prefix in prefix_set_a)\n",
    "        if matched_a != unselect:\n",
    "            filtered_lines_a.append(line)\n",
    "        if prefixes_b is not None:\n",
    "            matched_b = any(line.startswith(prefix) for prefix in prefix_set_b)\n",
    "            if matched_b != unselect:\n",
    "                filtered_lines_b.append(line)\n",
    "\n",
    "    filtered_content_a = '\\n'.join(filtered_lines_a)\n",
    "    if return_df_a:\n",
    "        filtered_content_a = pd.read_csv(io.StringIO(filtered_content_a), delimiter='\\t', low_memory=False, on_bad_lines='skip')\n",
    "    filtered_content_b = None\n",
    "    if filtered_lines_b:\n",
    "        filtered_content_b = '\\n'.join(filtered_lines_b)\n",
    "        if return_df_b:\n",
    "            filtered_content_b = pd.read_csv(io.StringIO(filtered_content_b), delimiter='\\t', low_memory=False, on_bad_lines='skip')\n",
    "\n",
    "    return filtered_content_a, filtered_content_b\n",
    "\n",
    "\n",
    "def get_background_and_clinical_data(file_path,\n",
    "                                     prefixes_a=['!Series_title', '!Series_summary', '!Series_overall_design'],\n",
    "                                     prefixes_b=['!Sample_geo_accession', '!Sample_characteristics_ch1']):\n",
    "    \"\"\"Extract from a matrix file the background information about the dataset, and sample characteristics data\"\"\"\n",
    "    background_info, clinical_data = filter_content_by_prefix(file_path, prefixes_a, prefixes_b, unselect=False,\n",
    "                                                              source_type='file',\n",
    "                                                              return_df_a=False, return_df_b=True)\n",
    "    return background_info, clinical_data\n",
    "\n",
    "\n",
    "def get_gene_annotation(file_path, prefixes=['^', '!', '#']):\n",
    "    \"\"\"Extract from a SOFT file the gene annotation data\"\"\"\n",
    "    gene_metadata = filter_content_by_prefix(file_path, prefixes_a=prefixes, unselect=True, source_type='file',\n",
    "                                             return_df_a=True)\n",
    "    return gene_metadata[0]"
   ]
  },
  {
   "cell_type": "code",
   "execution_count": 5,
   "metadata": {},
   "outputs": [],
   "source": [
    "def line_generator(source, source_type):\n",
    "    \"\"\"Generator that yields lines from a file or a string.\n",
    "\n",
    "    Parameters:\n",
    "    - source: File path or string content.\n",
    "    - source_type: 'file' or 'string'.\n",
    "    \"\"\"\n",
    "    if source_type == 'file':\n",
    "        with gzip.open(source, 'rt') as f:\n",
    "            for line in f:\n",
    "                yield line.strip()\n",
    "    elif source_type == 'string':\n",
    "        for line in source.split('\\n'):\n",
    "            yield line.strip()\n",
    "    else:\n",
    "        raise ValueError(\"source_type must be 'file' or 'string'\")\n",
    "\n",
    "\n",
    "def filter_content_by_prefix(\n",
    "    source: str,\n",
    "    prefixes_a: List[str],\n",
    "    prefixes_b: Optional[List[str]] = None,\n",
    "    unselect: bool = False,\n",
    "    source_type: str = 'file',\n",
    "    return_df_a: bool = True,\n",
    "    return_df_b: bool = True\n",
    ") -> Tuple[Union[str, pd.DataFrame], Optional[Union[str, pd.DataFrame]]]:\n",
    "    \"\"\"\n",
    "    Filters rows from a file or a list of strings based on specified prefixes.\n",
    "\n",
    "    Parameters:\n",
    "    - source (str): File path or string content to filter.\n",
    "    - prefixes_a (List[str]): Primary list of prefixes to filter by.\n",
    "    - prefixes_b (Optional[List[str]]): Optional secondary list of prefixes to filter by.\n",
    "    - unselect (bool): If True, selects rows that do not start with the specified prefixes.\n",
    "    - source_type (str): 'file' if source is a file path, 'string' if source is a string of text.\n",
    "    - return_df_a (bool): If True, returns filtered content for prefixes_a as a pandas DataFrame.\n",
    "    - return_df_b (bool): If True, and if prefixes_b is provided, returns filtered content for prefixes_b as a pandas DataFrame.\n",
    "\n",
    "    Returns:\n",
    "    - Tuple: A tuple where the first element is the filtered content for prefixes_a, and the second element is the filtered content for prefixes_b.\n",
    "    \"\"\"\n",
    "    filtered_lines_a = []\n",
    "    filtered_lines_b = []\n",
    "    prefix_set_a = set(prefixes_a)\n",
    "    if prefixes_b is not None:\n",
    "        prefix_set_b = set(prefixes_b)\n",
    "\n",
    "    # Use generator to get lines\n",
    "    for line in line_generator(source, source_type):\n",
    "        matched_a = any(line.startswith(prefix) for prefix in prefix_set_a)\n",
    "        if matched_a != unselect:\n",
    "            filtered_lines_a.append(line)\n",
    "        if prefixes_b is not None:\n",
    "            matched_b = any(line.startswith(prefix) for prefix in prefix_set_b)\n",
    "            if matched_b != unselect:\n",
    "                filtered_lines_b.append(line)\n",
    "\n",
    "    filtered_content_a = '\\n'.join(filtered_lines_a)\n",
    "    if return_df_a:\n",
    "        filtered_content_a = pd.read_csv(io.StringIO(filtered_content_a), delimiter='\\t', low_memory=False, on_bad_lines='skip')\n",
    "    filtered_content_b = None\n",
    "    if filtered_lines_b:\n",
    "        filtered_content_b = '\\n'.join(filtered_lines_b)\n",
    "        if return_df_b:\n",
    "            filtered_content_b = pd.read_csv(io.StringIO(filtered_content_b), delimiter='\\t', low_memory=False, on_bad_lines='skip')\n",
    "\n",
    "    return filtered_content_a, filtered_content_b\n"
   ]
  },
  {
   "cell_type": "code",
   "execution_count": 6,
   "metadata": {},
   "outputs": [],
   "source": [
    "def get_unique_values_by_row(dataframe, max_len=30):\n",
    "    \"\"\"\n",
    "    Organize the unique values in each row of the given dataframe, to get a dictionary\n",
    "    :param dataframe:\n",
    "    :param max_len:\n",
    "    :return:\n",
    "    \"\"\"\n",
    "    if '!Sample_geo_accession' in dataframe.columns:\n",
    "        dataframe = dataframe.drop(columns=['!Sample_geo_accession'])\n",
    "    unique_values_dict = {}\n",
    "    for index, row in dataframe.iterrows():\n",
    "        unique_values = list(row.unique())[:max_len]\n",
    "        unique_values_dict[index] = unique_values\n",
    "    return unique_values_dict"
   ]
  },
  {
   "cell_type": "code",
   "execution_count": 7,
   "metadata": {},
   "outputs": [],
   "source": [
    "def geo_select_clinical_features(clinical_df: pd.DataFrame, trait: str, trait_row: int,\n",
    "                                 convert_trait: Callable,\n",
    "                                 age_row: Optional[int] = None,\n",
    "                                 convert_age: Optional[Callable] = None,\n",
    "                                 gender_row: Optional[int] = None,\n",
    "                                 convert_gender: Optional[Callable] = None) -> pd.DataFrame:\n",
    "    \"\"\"\n",
    "    Extracts and processes specific clinical features from a DataFrame representing\n",
    "    sample characteristics in the GEO database series.\n",
    "\n",
    "    Parameters:\n",
    "    - clinical_df (pd.DataFrame): DataFrame containing clinical data.\n",
    "    - trait (str): The trait of interest.\n",
    "    - trait_row (int): Row identifier for the trait in the DataFrame.\n",
    "    - convert_trait (Callable): Function to convert trait data into a desired format.\n",
    "    - age_row (int, optional): Row identifier for age data. Default is None.\n",
    "    - convert_age (Callable, optional): Function to convert age data. Default is None.\n",
    "    - gender_row (int, optional): Row identifier for gender data. Default is None.\n",
    "    - convert_gender (Callable, optional): Function to convert gender data. Default is None.\n",
    "\n",
    "    Returns:\n",
    "    pd.DataFrame: A DataFrame containing the selected and processed clinical features.\n",
    "    \"\"\"\n",
    "    feature_list = []\n",
    "\n",
    "    trait_data = get_feature_data(clinical_df, trait_row, trait, convert_trait)\n",
    "    feature_list.append(trait_data)\n",
    "    if age_row is not None:\n",
    "        age_data = get_feature_data(clinical_df, age_row, 'Age', convert_age)\n",
    "        feature_list.append(age_data)\n",
    "    if gender_row is not None:\n",
    "        gender_data = get_feature_data(clinical_df, gender_row, 'Gender', convert_gender)\n",
    "        feature_list.append(gender_data)\n",
    "\n",
    "    selected_clinical_df = pd.concat(feature_list, axis=0)\n",
    "    return selected_clinical_df\n"
   ]
  },
  {
   "cell_type": "code",
   "execution_count": 8,
   "metadata": {},
   "outputs": [],
   "source": [
    "def get_feature_data(clinical_df, row_id, feature, convert_fn):\n",
    "    \"\"\"select the row corresponding to a feature in the sample characteristics dataframe, and convert the feature into\n",
    "    a binary or continuous variable\"\"\"\n",
    "    clinical_df = clinical_df.iloc[row_id:row_id + 1].drop(columns=['!Sample_geo_accession'], errors='ignore')\n",
    "    clinical_df.index = [feature]\n",
    "    clinical_df = clinical_df.applymap(convert_fn)\n",
    "\n",
    "    return clinical_df"
   ]
  },
  {
   "cell_type": "code",
   "execution_count": 9,
   "metadata": {},
   "outputs": [],
   "source": [
    "def save_cohort_info(cohort: str, info_path: str, is_available: bool, is_biased: Optional[bool] = None,\n",
    "                     df: Optional[pd.DataFrame] = None, note: str = '') -> None:\n",
    "    \"\"\"\n",
    "    Add or update information about the usability and quality of a dataset for statistical analysis.\n",
    "\n",
    "    Parameters:\n",
    "    cohort (str): A unique identifier for the dataset.\n",
    "    info_path (str): File path to the JSON file where records are stored.\n",
    "    is_available (bool): Indicates whether both the genetic data and trait data are available in the dataset, and can be\n",
    "     preprocessed into a dataframe.\n",
    "    is_biased (bool, optional): Indicates whether the dataset is too biased to be usable.\n",
    "        Required if `is_available` is True.\n",
    "    df (pandas.DataFrame, optional): The preprocessed dataset. Required if `is_available` is True.\n",
    "    note (str, optional): Additional notes about the dataset.\n",
    "\n",
    "    Returns:\n",
    "    None: The function does not return a value but updates or creates a record in the specified JSON file.\n",
    "    \"\"\"\n",
    "    if is_available:\n",
    "        assert (df is not None) and (is_biased is not None), \"'df' and 'is_biased' should be provided if this cohort \" \\\n",
    "                                                             \"is relevant.\"\n",
    "    is_usable = is_available and (not is_biased)\n",
    "    new_record = {\"is_usable\": is_usable,\n",
    "                  \"is_available\": is_available,\n",
    "                  \"is_biased\": is_biased if is_available else None,\n",
    "                  \"has_age\": \"Age\" in df.columns if is_available else None,\n",
    "                  \"has_gender\": \"Gender\" in df.columns if is_available else None,\n",
    "                  \"sample_size\": len(df) if is_available else None,\n",
    "                  \"note\": note}\n",
    "\n",
    "    if not os.path.exists(info_path):\n",
    "        with open(info_path, 'w') as file:\n",
    "            json.dump({}, file)\n",
    "        print(f\"A new JSON file was created at: {info_path}\")\n",
    "\n",
    "    with open(info_path, \"r\") as file:\n",
    "        records = json.load(file)\n",
    "    records[cohort] = new_record\n",
    "\n",
    "    temp_path = info_path + \".tmp\"\n",
    "    try:\n",
    "        with open(temp_path, 'w') as file:\n",
    "            json.dump(records, file)\n",
    "        os.replace(temp_path, info_path)\n",
    "\n",
    "    except Exception as e:\n",
    "        print(f\"An error occurred: {e}\")\n",
    "        if os.path.exists(temp_path):\n",
    "            os.remove(temp_path)\n",
    "        raise\n",
    "\n",
    "\n",
    "def read_json_to_dataframe(json_file: str) -> pd.DataFrame:\n",
    "    \"\"\"\n",
    "    Reads a JSON file and converts it into a pandas DataFrame.\n",
    "\n",
    "    Args:\n",
    "    json_file (str): The path to the JSON file containing the data.\n",
    "\n",
    "    Returns:\n",
    "    DataFrame: A pandas DataFrame with the JSON data.\n",
    "    \"\"\"\n",
    "    with open(json_file, 'r') as file:\n",
    "        data = json.load(file)\n",
    "    return pd.DataFrame.from_dict(data, orient='index').reset_index().rename(columns={'index': 'cohort_id'})"
   ]
  },
  {
   "cell_type": "code",
   "execution_count": 10,
   "metadata": {},
   "outputs": [],
   "source": [
    "def get_genetic_data(file_path):\n",
    "    \"\"\"Read the gene expression data into a dataframe, and adjust its format\"\"\"\n",
    "    genetic_data = pd.read_csv(file_path, compression='gzip', skiprows=52, comment='!', delimiter='\\t')\n",
    "    genetic_data = genetic_data.dropna()\n",
    "    genetic_data = genetic_data.rename(columns={'ID_REF': 'ID'}).astype({'ID': 'str'})\n",
    "    genetic_data.set_index('ID', inplace=True)\n",
    "\n",
    "    return genetic_data"
   ]
  },
  {
   "cell_type": "code",
   "execution_count": 11,
   "metadata": {},
   "outputs": [],
   "source": [
    "def preview_df(df, n=5):\n",
    "    return df.head(n).to_dict(orient='list')"
   ]
  },
  {
   "cell_type": "code",
   "execution_count": 12,
   "metadata": {},
   "outputs": [],
   "source": [
    "def normalize_gene_symbols(gene_symbols, batch_size=1000):\n",
    "    \"\"\"Normalize human gene symbols in batches using the 'mygenes' library\"\"\"\n",
    "    mg = mygene.MyGeneInfo()\n",
    "    normalized_genes = {}\n",
    "\n",
    "    # Process in batches\n",
    "    for i in range(0, len(gene_symbols), batch_size):\n",
    "        batch = gene_symbols[i:i + batch_size]\n",
    "        results = mg.querymany(batch, scopes='symbol', fields='symbol', species='human')\n",
    "\n",
    "        # Update the normalized_genes dictionary with results from this batch\n",
    "        for gene in results:\n",
    "            normalized_genes[gene['query']] = gene.get('symbol', None)\n",
    "\n",
    "    # Return the normalized symbols in the same order as the input\n",
    "    return [normalized_genes.get(symbol) for symbol in gene_symbols]\n",
    "\n",
    "\n",
    "def normalize_gene_symbols_in_index(gene_df):\n",
    "    \"\"\"Normalize the human gene symbols at the index of a dataframe, and replace the index with its normalized version.\n",
    "    Remove the rows where the index failed to be normalized.\"\"\"\n",
    "    normalized_gene_list = normalize_gene_symbols(gene_df.index.tolist())\n",
    "    assert len(normalized_gene_list) == len(gene_df.index)\n",
    "    gene_df.index = normalized_gene_list\n",
    "    gene_df = gene_df[gene_df.index.notnull()]\n",
    "    return gene_df"
   ]
  },
  {
   "cell_type": "code",
   "execution_count": 13,
   "metadata": {},
   "outputs": [],
   "source": [
    "def normalize_gene_symbols_in_index(gene_df):\n",
    "    \"\"\"Normalize the human gene symbols at the index of a dataframe, and replace the index with its normalized version.\n",
    "    Remove the rows where the index failed to be normalized.\"\"\"\n",
    "    normalized_gene_list = normalize_gene_symbols(gene_df.index.tolist())\n",
    "    assert len(normalized_gene_list) == len(gene_df.index)\n",
    "    gene_df.index = normalized_gene_list\n",
    "    gene_df = gene_df[gene_df.index.notnull()]\n",
    "    return gene_df"
   ]
  },
  {
   "cell_type": "code",
   "execution_count": 14,
   "metadata": {},
   "outputs": [],
   "source": [
    "def get_gene_mapping(annotation, prob_col, gene_col):\n",
    "    \"\"\"Process the gene annotation to get the mapping between gene names and gene probes.\n",
    "    \"\"\"\n",
    "    mapping_data = annotation.loc[:, [prob_col, gene_col]]\n",
    "    mapping_data = mapping_data.dropna()\n",
    "    mapping_data = mapping_data.rename(columns={gene_col: 'Gene'}).astype({'ID': 'str'})\n",
    "\n",
    "    return mapping_data"
   ]
  },
  {
   "cell_type": "code",
   "execution_count": 15,
   "metadata": {},
   "outputs": [],
   "source": [
    "def apply_gene_mapping(expression_df, mapping_df):\n",
    "    \"\"\"\n",
    "    Converts measured data about gene probes into gene expression data.\n",
    "    Handles the potential many-to-many relationship between probes and genes.\n",
    "\n",
    "    Parameters:\n",
    "    expression_df (DataFrame): A DataFrame with gene expression data, indexed by 'ID'.\n",
    "    mapping_df (DataFrame): A DataFrame mapping 'ID' to 'Gene', with 'ID' as a column.\n",
    "\n",
    "    Returns:\n",
    "    DataFrame: A DataFrame with mean gene expression values, indexed by 'Gene'.\n",
    "    \"\"\"\n",
    "\n",
    "    # Define a regex pattern for splitting gene names\n",
    "    split_pattern = r';|\\|+|/{2,}|,|\\[|\\]|\\(|\\)'\n",
    "\n",
    "    # Split the 'Gene' column in 'mapping_df' using the regex pattern\n",
    "    mapping_df['Gene'] = mapping_df['Gene'].str.split(split_pattern)\n",
    "    mapping_df = mapping_df.explode('Gene')\n",
    "\n",
    "    # Set 'ID' as the index of 'mapping_df' for merging\n",
    "    mapping_df.set_index('ID', inplace=True)\n",
    "\n",
    "    # Merge 'mapping_df' with 'expression_df' by their indices\n",
    "    merged_df = mapping_df.join(expression_df)\n",
    "\n",
    "    # Group by 'Gene' and calculate the mean expression values\n",
    "    gene_expression_df = merged_df.groupby('Gene').mean().dropna()\n",
    "\n",
    "    return gene_expression_df\n"
   ]
  },
  {
   "cell_type": "code",
   "execution_count": 16,
   "metadata": {},
   "outputs": [],
   "source": [
    "def geo_merge_clinical_genetic_data(clinical_df, genetic_df):\n",
    "    \"\"\"\n",
    "    Merge the clinical features and gene expression features from two dataframes into one dataframe\n",
    "    \"\"\"\n",
    "    if 'ID' in genetic_df.columns:\n",
    "        genetic_df = genetic_df.rename(columns={'ID': 'Gene'})\n",
    "    if 'Gene' in genetic_df.columns:\n",
    "        genetic_df = genetic_df.set_index('Gene')\n",
    "    merged_data = pd.concat([clinical_df, genetic_df], axis=0).T.dropna()\n",
    "    return merged_data"
   ]
  },
  {
   "cell_type": "code",
   "execution_count": 17,
   "metadata": {},
   "outputs": [],
   "source": [
    "def judge_binary_variable_biased(dataframe, col_name, min_proportion=0.1, min_num=5):\n",
    "    \"\"\"\n",
    "    Check if the distribution of a binary variable in the dataset is too biased to be usable for analysis\n",
    "    :param dataframe:\n",
    "    :param col_name:\n",
    "    :param min_proportion:\n",
    "    :param min_num:\n",
    "    :return:\n",
    "    \"\"\"\n",
    "    label_counter = dataframe[col_name].value_counts()\n",
    "    total_samples = len(dataframe)\n",
    "    rare_label_num = label_counter.min()\n",
    "    rare_label = label_counter.idxmin()\n",
    "    rare_label_proportion = rare_label_num / total_samples\n",
    "\n",
    "    print(\n",
    "        f\"For the feature \\'{col_name}\\', the least common label is '{rare_label}' with {rare_label_num} occurrences. This represents {rare_label_proportion:.2%} of the dataset.\")\n",
    "\n",
    "    biased = (len(label_counter) < 2) or ((rare_label_proportion < min_proportion) and (rare_label_num < min_num))\n",
    "    return bool(biased)\n",
    "\n",
    "\n",
    "def judge_continuous_variable_biased(dataframe, col_name):\n",
    "    \"\"\"Check if the distribution of a continuous variable in the dataset is too biased to be usable for analysis.\n",
    "    As a starting point, we consider it biased if all values are the same. For the next step, maybe ask GPT to judge\n",
    "    based on quartile statistics combined with its common sense knowledge about this feature.\n",
    "    \"\"\"\n",
    "    quartiles = dataframe[col_name].quantile([0.25, 0.5, 0.75])\n",
    "    min_value = dataframe[col_name].min()\n",
    "    max_value = dataframe[col_name].max()\n",
    "\n",
    "    # Printing quartile information\n",
    "    print(f\"Quartiles for '{col_name}':\")\n",
    "    print(f\"  25%: {quartiles[0.25]}\")\n",
    "    print(f\"  50% (Median): {quartiles[0.5]}\")\n",
    "    print(f\"  75%: {quartiles[0.75]}\")\n",
    "    print(f\"Min: {min_value}\")\n",
    "    print(f\"Max: {max_value}\")\n",
    "\n",
    "    biased = min_value == max_value\n",
    "\n",
    "    return bool(biased)"
   ]
  },
  {
   "cell_type": "code",
   "execution_count": 18,
   "metadata": {},
   "outputs": [],
   "source": [
    "def judge_and_remove_biased_features(df, trait, trait_type):\n",
    "    assert trait_type in [\"binary\", \"continuous\"], f\"The trait must be either a binary or a continuous variable!\"\n",
    "    if trait_type == \"binary\":\n",
    "        trait_biased = judge_binary_variable_biased(df, trait)\n",
    "    else:\n",
    "        trait_biased = judge_continuous_variable_biased(df, trait)\n",
    "    if trait_biased:\n",
    "        print(f\"The distribution of the feature \\'{trait}\\' in this dataset is severely biased.\\n\")\n",
    "    else:\n",
    "        print(f\"The distribution of the feature \\'{trait}\\' in this dataset is fine.\\n\")\n",
    "    if \"Age\" in df.columns:\n",
    "        age_biased = judge_continuous_variable_biased(df, 'Age')\n",
    "        if age_biased:\n",
    "            print(f\"The distribution of the feature \\'Age\\' in this dataset is severely biased.\\n\")\n",
    "            df = df.drop(columns='Age')\n",
    "        else:\n",
    "            print(f\"The distribution of the feature \\'Age\\' in this dataset is fine.\\n\")\n",
    "    if \"Gender\" in df.columns:\n",
    "        gender_biased = judge_binary_variable_biased(df, 'Gender')\n",
    "        if gender_biased:\n",
    "            print(f\"The distribution of the feature \\'Gender\\' in this dataset is severely biased.\\n\")\n",
    "            df = df.drop(columns='Gender')\n",
    "        else:\n",
    "            print(f\"The distribution of the feature \\'Gender\\' in this dataset is fine.\\n\")\n",
    "\n",
    "    return trait_biased, df\n"
   ]
  },
  {
   "cell_type": "code",
   "execution_count": 19,
   "metadata": {},
   "outputs": [],
   "source": [
    "def filter_and_rank_cohorts(json_file: str, condition: Union[str, None] = None) -> Tuple[\n",
    "    Union[str, None], pd.DataFrame]:\n",
    "    \"\"\"\n",
    "    Reads a JSON file, filters cohorts based on usability and an optional condition, then ranks them by sample size.\n",
    "\n",
    "    Args:\n",
    "    json_file (str): The path to the JSON file containing the data.\n",
    "    condition (str, optional): An additional condition for filtering. If None, only 'is_usable' is considered.\n",
    "\n",
    "    Returns:\n",
    "    Tuple: A tuple containing the best cohort ID (str or None if no suitable cohort is found) and\n",
    "           the filtered and ranked DataFrame.\n",
    "    \"\"\"\n",
    "    # Read the JSON file into a DataFrame\n",
    "    df = read_json_to_dataframe(json_file)\n",
    "\n",
    "    if condition:\n",
    "        filtered_df = df[(df['is_usable'] == True) & (df[condition] == True)]\n",
    "    else:\n",
    "        filtered_df = df[df['is_usable'] == True]\n",
    "\n",
    "    ranked_df = filtered_df.sort_values(by='sample_size', ascending=False)\n",
    "    best_cohort_id = ranked_df.iloc[0]['cohort_id'] if not ranked_df.empty else None\n",
    "\n",
    "    return best_cohort_id, ranked_df\n",
    "\n",
    "\n",
    "def read_json_to_dataframe(json_file: str) -> pd.DataFrame:\n",
    "    \"\"\"\n",
    "    Reads a JSON file and converts it into a pandas DataFrame.\n",
    "    \"\"\"\n",
    "    with open(json_file, 'r') as file:\n",
    "        data = json.load(file)\n",
    "    return pd.DataFrame.from_dict(data, orient='index').reset_index().rename(columns={'index': 'cohort_id'})\n",
    "\n",
    "\n",
    "def filter_and_rank_cohorts(json_file: str, condition: Union[str, None] = None) -> Tuple[\n",
    "    Union[str, None], pd.DataFrame]:\n",
    "    \"\"\"\n",
    "    Reads a JSON file, filters cohorts based on usability and an optional condition, then ranks them by sample size.\n",
    "\n",
    "    Args:\n",
    "    json_file (str): The path to the JSON file containing the data.\n",
    "    condition (str, optional): An additional condition for filtering. If None, only 'is_usable' is considered.\n",
    "\n",
    "    Returns:\n",
    "    Tuple: A tuple containing the best cohort ID (str or None if no suitable cohort is found) and\n",
    "           the filtered and ranked DataFrame.\n",
    "    \"\"\"\n",
    "    df = read_json_to_dataframe(json_file)\n",
    "    if condition:\n",
    "        filtered_df = df[(df['is_usable'] == True) & (df[condition] == True)]\n",
    "    else:\n",
    "        filtered_df = df[df['is_usable'] == True]\n",
    "    ranked_df = filtered_df.sort_values(by='sample_size', ascending=False)\n",
    "    best_cohort_id = ranked_df.iloc[0]['cohort_id'] if not ranked_df.empty else None\n",
    "\n",
    "    return best_cohort_id, ranked_df"
   ]
  },
  {
   "cell_type": "code",
   "execution_count": 20,
   "metadata": {},
   "outputs": [],
   "source": [
    "def detect_batch_effect(X):\n",
    "    \"\"\"\n",
    "    Detect potential batch effects in a dataset using eigenvalues of XX^T.\n",
    "\n",
    "    Args:\n",
    "    X (numpy.ndarray): A feature matrix with shape (n_samples, n_features).\n",
    "\n",
    "    Returns:\n",
    "    bool: True if a potential batch effect is detected, False otherwise.\n",
    "    \"\"\"\n",
    "    n_samples = X.shape[0]\n",
    "\n",
    "    # Computing XX^T\n",
    "    XXt = np.dot(X, X.T)\n",
    "\n",
    "    # Compute the eigenvalues of XX^T\n",
    "    eigen_values = np.linalg.eigvalsh(XXt)  # Using eigvalsh since XX^T is symmetric\n",
    "    eigen_values = sorted(eigen_values, reverse=True)\n",
    "\n",
    "    # Check for large gaps in the eigenvalues\n",
    "    for i in range(len(eigen_values) - 1):\n",
    "        gap = eigen_values[i] - eigen_values[i + 1]\n",
    "        if gap > 1 / n_samples:  # You may need to adjust this threshold\n",
    "            return True\n",
    "\n",
    "    return False\n"
   ]
  },
  {
   "cell_type": "code",
   "execution_count": 21,
   "metadata": {},
   "outputs": [],
   "source": [
    "def normalize_data(X_train, X_test=None):\n",
    "    \"\"\"Compute the mean and standard deviation statistics of the training data, use them to normalize the training data,\n",
    "    and optionally the test data\"\"\"\n",
    "    mean = np.mean(X_train, axis=0)\n",
    "    std = np.std(X_train, axis=0)\n",
    "\n",
    "    # Handling columns with std = 0\n",
    "    std_no_zero = np.where(std == 0, 1, std)\n",
    "\n",
    "    # Normalize X_train\n",
    "    X_train_normalized = (X_train - mean) / std_no_zero\n",
    "    # Set normalized values to 0 where std was 0\n",
    "    X_train_normalized[:, std == 0] = 0\n",
    "\n",
    "    if X_test is not None:\n",
    "        X_test_normalized = (X_test - mean) / std_no_zero\n",
    "        X_test_normalized[:, std == 0] = 0\n",
    "    else:\n",
    "        X_test_normalized = None\n",
    "\n",
    "    return X_train_normalized, X_test_normalized"
   ]
  },
  {
   "cell_type": "code",
   "execution_count": 22,
   "metadata": {},
   "outputs": [],
   "source": [
    "class ResidualizationRegressor:\n",
    "    def __init__(self, regression_model_constructor, params=None):\n",
    "        if params is None:\n",
    "            params = {}\n",
    "        self.regression_model = regression_model_constructor(**params)\n",
    "        self.beta_Z = None  # Coefficients for regression of Y on Z\n",
    "        self.beta_X = None  # Coefficients for regression of residual on X\n",
    "        self.neg_log_p_values = None  # Negative logarithm of p-values\n",
    "        self.p_values = None  # Actual p-values\n",
    "\n",
    "    def _reshape_data(self, data):\n",
    "        \"\"\"\n",
    "        Reshape the data to ensure it's in the correct format (2D array).\n",
    "\n",
    "        :param data: The input data (can be 1D or 2D array).\n",
    "        :return: Reshaped 2D array.\n",
    "        \"\"\"\n",
    "        if data.ndim == 1:\n",
    "            return data.reshape(-1, 1)\n",
    "        return data\n",
    "\n",
    "    def _reshape_output(self, data):\n",
    "        \"\"\"\n",
    "        Reshape the output data to ensure it's in the correct format (1D array).\n",
    "\n",
    "        :param data: The output data (can be 1D or 2D array).\n",
    "        :return: Reshaped 1D array.\n",
    "        \"\"\"\n",
    "        if data.ndim == 2 and data.shape[1] == 1:\n",
    "            return data.ravel()\n",
    "        return data\n",
    "\n",
    "    def fit(self, X, Y, Z):\n",
    "        X = self._reshape_data(X)\n",
    "        Y = self._reshape_data(Y)\n",
    "        Z = self._reshape_data(Z)\n",
    "\n",
    "        # Step 1: Linear regression of Y on Z\n",
    "        Z_ones = np.column_stack((np.ones(Z.shape[0]), Z))\n",
    "        self.beta_Z = np.linalg.pinv(Z_ones.T @ Z_ones) @ Z_ones.T @ Y\n",
    "        Y_hat = Z_ones @ self.beta_Z\n",
    "        e_Y = Y - Y_hat  # Residual of Y\n",
    "\n",
    "        # Step 2: Regress the residual on X using the included regression model\n",
    "        self.regression_model.fit(X, e_Y)\n",
    "\n",
    "        # Obtain coefficients from the regression model\n",
    "        if hasattr(self.regression_model, 'coef_'):\n",
    "            self.beta_X = self.regression_model.coef_\n",
    "        elif hasattr(self.regression_model, 'getBeta'):\n",
    "            beta_output = self.regression_model.getBeta()\n",
    "            self.beta_X = self._reshape_output(beta_output)\n",
    "\n",
    "        # Obtain negative logarithm of p-values, if available\n",
    "        if hasattr(self.regression_model, 'getNegLogP'):\n",
    "            neg_log_p_output = self.regression_model.getNegLogP()\n",
    "            if neg_log_p_output is not None:\n",
    "                self.neg_log_p_values = self._reshape_output(neg_log_p_output)\n",
    "                self.p_values = np.exp(-self.neg_log_p_values)\n",
    "                # Concatenate the p-values of Z and X. The p-values of Z were not computed, mark with NaN.\n",
    "                p_values_Z = np.full(Z.shape[1], np.nan)\n",
    "                self.p_values = np.concatenate((p_values_Z, self.p_values))\n",
    "\n",
    "    def predict(self, X, Z):\n",
    "        X = self._reshape_data(X)\n",
    "        Z = self._reshape_data(Z)\n",
    "\n",
    "        Z_ones = np.column_stack((np.ones(Z.shape[0]), Z))\n",
    "        ZX = np.column_stack((Z, X))\n",
    "        combined_beta = np.concatenate((self.beta_Z[1:].ravel(), self.beta_X.ravel()))\n",
    "        return ZX @ combined_beta + self.beta_Z[0]\n",
    "\n",
    "    def get_coefficients(self):\n",
    "        return np.concatenate((self.beta_Z[1:].ravel(), self.beta_X.ravel()))\n",
    "\n",
    "    def get_p_values(self):\n",
    "        return self.p_values"
   ]
  },
  {
   "cell_type": "code",
   "execution_count": 23,
   "metadata": {},
   "outputs": [],
   "source": [
    "def cross_validation(X, Y, Z, model_constructor, model_params, k=5, target_type='binary'):\n",
    "    assert target_type in ['binary', 'continuous'], \"The target type must be chosen from 'binary' or 'continuous'\"\n",
    "    indices = np.arange(X.shape[0])\n",
    "    np.random.shuffle(indices)\n",
    "\n",
    "    fold_size = len(X) // k\n",
    "    performances = []\n",
    "\n",
    "    for i in range(k):\n",
    "        # Split data into train and test based on the current fold\n",
    "        test_indices = indices[i * fold_size: (i + 1) * fold_size]\n",
    "        train_indices = np.setdiff1d(indices, test_indices)\n",
    "\n",
    "        X_train, X_test = X[train_indices], X[test_indices]\n",
    "        Y_train, Y_test = Y[train_indices], Y[test_indices]\n",
    "        Z_train, Z_test = Z[train_indices], Z[test_indices]\n",
    "\n",
    "        normalized_X_train, normalized_X_test = normalize_data(X_train, X_test)\n",
    "        normalized_Z_train, normalized_Z_test = normalize_data(Z_train, Z_test)\n",
    "\n",
    "        # model = model_constructor(**model_params)\n",
    "        model = ResidualizationRegressor(model_constructor, model_params)\n",
    "        model.fit(normalized_X_train, Y_train, normalized_Z_train)\n",
    "        predictions = model.predict(normalized_X_test, normalized_Z_test)\n",
    "\n",
    "        if target_type == 'binary':\n",
    "            predictions = (predictions > 0.5).astype(int)\n",
    "            Y_test = (Y_test > 0.5).astype(int)\n",
    "            performance = accuracy_score(Y_test, predictions)\n",
    "        elif target_type == 'continuous':\n",
    "            performance = mean_squared_error(Y_test, predictions)\n",
    "\n",
    "        performances.append(performance)\n",
    "\n",
    "    cv_mean = np.mean(performances)\n",
    "    cv_std = np.std(performances)\n",
    "\n",
    "    if target_type == 'binary':\n",
    "        print(f'The cross-validation accuracy is {(cv_mean * 100):.2f}% ± {(cv_std * 100):.2f}%')\n",
    "    else:\n",
    "        print(f'The cross-validation MSE is {(cv_mean * 100):.2f} ± {(cv_std * 100):.2f}')\n",
    "\n",
    "    return cv_mean, cv_std"
   ]
  },
  {
   "cell_type": "code",
   "execution_count": 24,
   "metadata": {},
   "outputs": [],
   "source": [
    "def interpret_result(model: Any, feature_names: List[str], trait: str, condition: str,\n",
    "                     threshold: float = 0.05, save_output: bool = True,\n",
    "                     output_dir: str = './output', model_id: int = 1) -> None:\n",
    "    \"\"\"This function interprets and reports the result of a trained linear regression model, where the regressor\n",
    "    consists of one variable about condition and multiple variables about genetic factors.\n",
    "    The function extracts coefficients and p-values from the model, and identifies the significant genes based on\n",
    "    p-values or non-zero coefficients, depending on the availability of p-values.\n",
    "\n",
    "    Parameters:\n",
    "    model (Any): The trained regression Model.\n",
    "    feature_names (List[str]): A list of feature names corresponding to the model's coefficients.\n",
    "    trait (str): The target trait of interest.\n",
    "    condition (str): The specific condition to examine within the model.\n",
    "    threshold (float): Significance level for p-value correction. Defaults to 0.05.\n",
    "    save_output (bool): Flag to determine whether to save the output to a file. Defaults to True.\n",
    "    output_dir (str): Directory path where output files are saved. Defaults to './output'.\n",
    "    model_id (int): The index of the model, 1 or 2.\n",
    "\n",
    "    Returns:\n",
    "    None: This function does not return anything but prints and optionally saves the output.\n",
    "    \"\"\"\n",
    "    coefficients = model.get_coefficients().reshape(-1).tolist()\n",
    "    p_values = model.get_p_values()\n",
    "    if p_values is None:\n",
    "        regression_df = pd.DataFrame({\n",
    "            'Variable': feature_names,\n",
    "            'Coefficient': coefficients\n",
    "        })\n",
    "    else:\n",
    "        regression_df = pd.DataFrame({\n",
    "            'Variable': feature_names,\n",
    "            'Coefficient': coefficients,\n",
    "            'p_value': p_values.reshape(-1).tolist()\n",
    "        })\n",
    "\n",
    "    condition_effect = regression_df[regression_df['Variable'] == condition].iloc[0]\n",
    "\n",
    "    print(f\"Effect of the condition on the target variable:\")\n",
    "    print(f\"Variable: {condition}\")\n",
    "    print(f\"Coefficient: {condition_effect['Coefficient']:.4f}\")\n",
    "    gene_regression_df = regression_df[regression_df['Variable'] != condition]\n",
    "    if p_values is None:\n",
    "        gene_regression_df['Absolute Coefficient'] = gene_regression_df['Coefficient'].abs()\n",
    "        significant_genes = gene_regression_df[gene_regression_df['Coefficient'] != 0]\n",
    "        significant_genes_sorted = significant_genes.sort_values(by='Absolute Coefficient', ascending=False)\n",
    "        print(\n",
    "            f\"Found {len(significant_genes_sorted)} genes with non-zero coefficients associated with the trait '{trait}' \"\n",
    "            f\"conditional on the factor '{condition}'. These genes are identified as significant based on the regression model.\")\n",
    "    else:\n",
    "        # Apply the Benjamini-Hochberg correction, to get the corrected p-values\n",
    "        corrected_p_values = multipletests(gene_regression_df['p_value'], alpha=threshold, method='fdr_bh')[1]\n",
    "        gene_regression_df.loc[:, 'corrected_p_value'] = corrected_p_values\n",
    "        significant_genes = gene_regression_df.loc[gene_regression_df['corrected_p_value'] < threshold]\n",
    "        significant_genes_sorted = significant_genes.sort_values('corrected_p_value')\n",
    "        print(\n",
    "            f\"Found {len(significant_genes_sorted)} significant genes associated with the trait '{trait}' conditional on \"\n",
    "            f\"the factor '{condition}', with corrected p-value < {threshold}:\")\n",
    "\n",
    "    print(significant_genes_sorted.to_string(index=False))\n",
    "\n",
    "    # Optionally, save this to a CSV file\n",
    "    if save_output:\n",
    "        significant_genes_sorted.to_csv(\n",
    "            os.path.join(output_dir, f'significant_genes_condition_{condition}_{model_id}.csv'), index=False)"
   ]
  },
  {
   "cell_type": "markdown",
   "metadata": {
    "collapsed": false
   },
   "source": [
    "# 1. Basic setup"
   ]
  },
  {
   "cell_type": "code",
   "execution_count": 25,
   "metadata": {
    "ExecuteTime": {
     "end_time": "2024-01-10T21:37:25.927828954Z",
     "start_time": "2024-01-10T21:37:25.311064788Z"
    },
    "collapsed": false
   },
   "outputs": [],
   "source": [
    "import os\n",
    "import sys\n",
    "\n",
    "sys.path.append('..')\n",
    "from utils import *\n",
    "\n",
    "# Set your preferred name\n",
    "USER = \"Miantong\"\n",
    "# Set the data and output directories\n",
    "DATA_ROOT = '/Users/mz/Desktop/AI4Science/DATA/'\n",
    "OUTPUT_ROOT = '/Users/mz/Desktop/AI4Science/DATA/output1'\n",
    "TRAIT = \"Paget_s-Disease-of-bone\"\n",
    "\n",
    "OUTPUT_DIR = os.path.join(OUTPUT_ROOT, USER, '-'.join(TRAIT.split()))\n",
    "JSON_PATH = os.path.join(OUTPUT_DIR, \"cohort_info.json\")\n",
    "if not os.path.exists(OUTPUT_DIR):\n",
    "    os.makedirs(OUTPUT_DIR, exist_ok=True)\n",
    "\n",
    "# Gene symbol normalization may take 1-2 minutes. You may set it to False for debugging.\n",
    "NORMALIZE_GENE = True"
   ]
  },
  {
   "cell_type": "markdown",
   "metadata": {
    "collapsed": false
   },
   "source": [
    "# 2. Data preprocessing and selection"
   ]
  },
  {
   "cell_type": "markdown",
   "metadata": {
    "ExecuteTime": {
     "end_time": "2023-12-28T21:28:38.028916303Z",
     "start_time": "2023-12-28T21:28:38.016245426Z"
    },
    "collapsed": false
   },
   "source": [
    "## 2.2. The GEO dataset"
   ]
  },
  {
   "cell_type": "markdown",
   "metadata": {
    "ExecuteTime": {
     "end_time": "2023-12-31T03:25:23.253882615Z",
     "start_time": "2023-12-31T03:25:23.244062710Z"
    },
    "collapsed": false
   },
   "source": [
    "In GEO, there may be one or multiple cohorts for a trait. Each cohort is identified by an accession number. We iterate over all accession numbers in the corresponding subdirectory, preprocess the cohort data, and save them to csv files."
   ]
  },
  {
   "cell_type": "code",
   "execution_count": 26,
   "metadata": {
    "ExecuteTime": {
     "end_time": "2024-01-10T21:38:31.425592571Z",
     "start_time": "2024-01-10T21:38:31.419137625Z"
    },
    "collapsed": false
   },
   "outputs": [
    {
     "data": {
      "text/plain": [
       "['GSE7849', '.DS_Store', 'GSE7545']"
      ]
     },
     "execution_count": 26,
     "metadata": {},
     "output_type": "execute_result"
    }
   ],
   "source": [
    "dataset = 'GEO'\n",
    "trait_subdir = \"Paget_s-Disease-of-bone\"\n",
    "\n",
    "trait_path = os.path.join(DATA_ROOT, dataset, trait_subdir)\n",
    "os.listdir(trait_path)"
   ]
  },
  {
   "cell_type": "code",
   "execution_count": 27,
   "metadata": {
    "ExecuteTime": {
     "end_time": "2024-01-10T21:39:02.935079426Z",
     "start_time": "2024-01-10T21:39:02.923698385Z"
    },
    "collapsed": false
   },
   "outputs": [
    {
     "data": {
      "text/plain": [
       "('/Users/mz/Desktop/AI4Science/DATA/GEO/Paget_s-Disease-of-bone/GSE7849/GSE7849_family.soft.gz',\n",
       " '/Users/mz/Desktop/AI4Science/DATA/GEO/Paget_s-Disease-of-bone/GSE7849/GSE7849_series_matrix.txt.gz')"
      ]
     },
     "execution_count": 27,
     "metadata": {},
     "output_type": "execute_result"
    }
   ],
   "source": [
    "cohort = accession_num = \"GSE7849\"\n",
    "cohort_dir = os.path.join(trait_path, accession_num)\n",
    "soft_file, matrix_file = get_relevant_filepaths(cohort_dir)\n",
    "soft_file, matrix_file"
   ]
  },
  {
   "cell_type": "code",
   "execution_count": 28,
   "metadata": {},
   "outputs": [
    {
     "data": {
      "text/plain": [
       "('/Users/mz/Desktop/AI4Science/DATA/GEO/Paget_s-Disease-of-bone/GSE7545/GSE7545_family.soft.gz',\n",
       " '/Users/mz/Desktop/AI4Science/DATA/GEO/Paget_s-Disease-of-bone/GSE7545/GSE7545-GPL3720_series_matrix.txt.gz')"
      ]
     },
     "execution_count": 28,
     "metadata": {},
     "output_type": "execute_result"
    }
   ],
   "source": [
    "cohort = accession_num = \"GSE7545\"\n",
    "cohort_dir = os.path.join(trait_path, accession_num)\n",
    "soft_file, matrix_file = get_relevant_filepaths(cohort_dir)\n",
    "soft_file, matrix_file"
   ]
  },
  {
   "cell_type": "markdown",
   "metadata": {
    "collapsed": false
   },
   "source": [
    "### Initial filtering and clinical data preprocessing"
   ]
  },
  {
   "cell_type": "code",
   "execution_count": 29,
   "metadata": {
    "ExecuteTime": {
     "end_time": "2024-01-10T21:39:03.718770427Z",
     "start_time": "2024-01-10T21:39:03.677006442Z"
    },
    "collapsed": false
   },
   "outputs": [
    {
     "name": "stdout",
     "output_type": "stream",
     "text": [
      "!Series_title\t\"Affymetrix 500K Mapping Array data from breast tumors\"\n",
      "!Series_summary\t\"Fifty-one breast tumors were profiled for copy-number alterations with the high-resolution Affymetrix 500K Mapping Array. Combined analysis of the prevalence and amplitude of copy-number alterations defined regions of recurrent gain or loss. Gains were most frequently observed on chromosomes 1, 8, 10, 11, 13, 15, 17, and 20. Losses were most frequent on chromosomes 3, 6, 11, 13, 14, 16, and 17. Compared with previous lower-resolution data, our analysis provided significantly more precise boundaries for frequently altered regions, greatly reducing the number of potential alteration-driving genes.\"\n",
      "!Series_summary\t\"Keywords: Mapping Array\"\n",
      "!Series_overall_design\t\"Affymetrix 500K Mapping Array intensity signal CEL files were processed by dChip 2005 (Build date Nov 30, 2005) using the PM/MM difference model and invariant set normalization.  Forty-eight normal samples were downloaded from the Affymetrix website (http://www.affymetrix.com/support/technical/byproduct.affx?product=500k) and analyzed at the same time.  One CEL file for each set (Sty and Nsp) with the median signal intensity across the set was selected as the reference array.   The dChip-normalized signal intensities were converted to log2 ratios and segmented as follows.  For each autosomal probe set, the log2 tumor/normal ratio of each tumor sample was calculated using the average intensity for each probe set in the normal set.  For Chromosome X, the average of the 20 normal female samples was used.   Each probe set was mapped to the genome, NCBI assembly version 35, using annotation provided by the Affymetrix web site.  The log2 ratios were centered to a median of zero and segmented using the GLAD package for the R statistical environment. Copy number was calculated as power(2,log2ratio + 1).\"\n"
     ]
    }
   ],
   "source": [
    "background_prefixes = ['!Series_title', '!Series_summary', '!Series_overall_design']\n",
    "clinical_prefixes = ['!Sample_geo_accession', '!Sample_characteristics_ch1']\n",
    "\n",
    "background_info, clinical_data = get_background_and_clinical_data(matrix_file, background_prefixes, clinical_prefixes)\n",
    "print(background_info)"
   ]
  },
  {
   "cell_type": "code",
   "execution_count": 30,
   "metadata": {
    "ExecuteTime": {
     "end_time": "2024-01-10T21:39:04.022548957Z",
     "start_time": "2024-01-10T21:39:04.008519515Z"
    },
    "collapsed": false
   },
   "outputs": [
    {
     "data": {
      "text/html": [
       "<div>\n",
       "<style scoped>\n",
       "    .dataframe tbody tr th:only-of-type {\n",
       "        vertical-align: middle;\n",
       "    }\n",
       "\n",
       "    .dataframe tbody tr th {\n",
       "        vertical-align: top;\n",
       "    }\n",
       "\n",
       "    .dataframe thead th {\n",
       "        text-align: right;\n",
       "    }\n",
       "</style>\n",
       "<table border=\"1\" class=\"dataframe\">\n",
       "  <thead>\n",
       "    <tr style=\"text-align: right;\">\n",
       "      <th></th>\n",
       "      <th>!Sample_geo_accession</th>\n",
       "      <th>GSM182884</th>\n",
       "      <th>GSM182885</th>\n",
       "      <th>GSM182886</th>\n",
       "      <th>GSM182887</th>\n",
       "      <th>GSM182888</th>\n",
       "      <th>GSM182889</th>\n",
       "      <th>GSM182890</th>\n",
       "      <th>GSM182891</th>\n",
       "      <th>GSM182892</th>\n",
       "      <th>...</th>\n",
       "      <th>GSM182925</th>\n",
       "      <th>GSM182926</th>\n",
       "      <th>GSM182927</th>\n",
       "      <th>GSM182928</th>\n",
       "      <th>GSM182929</th>\n",
       "      <th>GSM182930</th>\n",
       "      <th>GSM182931</th>\n",
       "      <th>GSM182932</th>\n",
       "      <th>GSM182933</th>\n",
       "      <th>GSM182934</th>\n",
       "    </tr>\n",
       "  </thead>\n",
       "  <tbody>\n",
       "    <tr>\n",
       "      <th>0</th>\n",
       "      <td>!Sample_characteristics_ch1</td>\n",
       "      <td>Primary malignant neoplasm of female breast; I...</td>\n",
       "      <td>Primary malignant neoplasm of female breast; I...</td>\n",
       "      <td>Primary malignant neoplasm of female breast; I...</td>\n",
       "      <td>Primary malignant neoplasm of female breast; I...</td>\n",
       "      <td>Primary malignant neoplasm of female breast; I...</td>\n",
       "      <td>Primary malignant neoplasm of female breast; I...</td>\n",
       "      <td>Primary malignant neoplasm of female breast; I...</td>\n",
       "      <td>Primary malignant neoplasm of female breast; M...</td>\n",
       "      <td>Primary malignant neoplasm of female breast; B...</td>\n",
       "      <td>...</td>\n",
       "      <td>Primary malignant neoplasm of female breast; M...</td>\n",
       "      <td>Primary malignant neoplasm of female breast; M...</td>\n",
       "      <td>Primary malignant neoplasm of female breast; P...</td>\n",
       "      <td>Primary malignant neoplasm of female breast; C...</td>\n",
       "      <td>Primary malignant neoplasm of female breast; M...</td>\n",
       "      <td>Secondary malignant neoplasm of lung; LUNG, LU...</td>\n",
       "      <td>Primary malignant neoplasm of female breast; P...</td>\n",
       "      <td>Secondary malignant neoplasm of lymph node; SE...</td>\n",
       "      <td>Primary malignant neoplasm of female breast; B...</td>\n",
       "      <td>Primary malignant neoplasm of female breast; B...</td>\n",
       "    </tr>\n",
       "  </tbody>\n",
       "</table>\n",
       "<p>1 rows × 52 columns</p>\n",
       "</div>"
      ],
      "text/plain": [
       "         !Sample_geo_accession  \\\n",
       "0  !Sample_characteristics_ch1   \n",
       "\n",
       "                                           GSM182884  \\\n",
       "0  Primary malignant neoplasm of female breast; I...   \n",
       "\n",
       "                                           GSM182885  \\\n",
       "0  Primary malignant neoplasm of female breast; I...   \n",
       "\n",
       "                                           GSM182886  \\\n",
       "0  Primary malignant neoplasm of female breast; I...   \n",
       "\n",
       "                                           GSM182887  \\\n",
       "0  Primary malignant neoplasm of female breast; I...   \n",
       "\n",
       "                                           GSM182888  \\\n",
       "0  Primary malignant neoplasm of female breast; I...   \n",
       "\n",
       "                                           GSM182889  \\\n",
       "0  Primary malignant neoplasm of female breast; I...   \n",
       "\n",
       "                                           GSM182890  \\\n",
       "0  Primary malignant neoplasm of female breast; I...   \n",
       "\n",
       "                                           GSM182891  \\\n",
       "0  Primary malignant neoplasm of female breast; M...   \n",
       "\n",
       "                                           GSM182892  ...  \\\n",
       "0  Primary malignant neoplasm of female breast; B...  ...   \n",
       "\n",
       "                                           GSM182925  \\\n",
       "0  Primary malignant neoplasm of female breast; M...   \n",
       "\n",
       "                                           GSM182926  \\\n",
       "0  Primary malignant neoplasm of female breast; M...   \n",
       "\n",
       "                                           GSM182927  \\\n",
       "0  Primary malignant neoplasm of female breast; P...   \n",
       "\n",
       "                                           GSM182928  \\\n",
       "0  Primary malignant neoplasm of female breast; C...   \n",
       "\n",
       "                                           GSM182929  \\\n",
       "0  Primary malignant neoplasm of female breast; M...   \n",
       "\n",
       "                                           GSM182930  \\\n",
       "0  Secondary malignant neoplasm of lung; LUNG, LU...   \n",
       "\n",
       "                                           GSM182931  \\\n",
       "0  Primary malignant neoplasm of female breast; P...   \n",
       "\n",
       "                                           GSM182932  \\\n",
       "0  Secondary malignant neoplasm of lymph node; SE...   \n",
       "\n",
       "                                           GSM182933  \\\n",
       "0  Primary malignant neoplasm of female breast; B...   \n",
       "\n",
       "                                           GSM182934  \n",
       "0  Primary malignant neoplasm of female breast; B...  \n",
       "\n",
       "[1 rows x 52 columns]"
      ]
     },
     "execution_count": 30,
     "metadata": {},
     "output_type": "execute_result"
    }
   ],
   "source": [
    "clinical_data.head()"
   ]
  },
  {
   "cell_type": "code",
   "execution_count": 31,
   "metadata": {
    "ExecuteTime": {
     "end_time": "2024-01-10T21:39:04.307639583Z",
     "start_time": "2024-01-10T21:39:04.289352075Z"
    },
    "collapsed": false
   },
   "outputs": [
    {
     "data": {
      "text/plain": [
       "{0: ['Primary malignant neoplasm of female breast; INFILTRATING DUCTAL CARCINOMA OF BREAST., >90',\n",
       "  'Primary malignant neoplasm of female breast; INFILTRATING DUCTAL CARCINOMA OF BREAST., 75-90',\n",
       "  'Primary malignant neoplasm of female breast; INFILTRATING DUCTAL CARCINOMA OF BREAST.  , 75-90',\n",
       "  \"Primary malignant neoplasm of female breast; MULTIFOCAL INFILTRATING DUCT CARCINOMA, BREAST, ER- PR-; WITH PAGET'S DISEASE, AND METASTASIS TO REGIONAL NODES; ARISING IN A BACKGROUND OF FIBROCYSTIC DISEASE OF BREAST., 75-90\",\n",
       "  'Primary malignant neoplasm of female breast; BREAST:  INFILTRATING DUCTAL CARCINOMA., >90',\n",
       "  'Primary malignant neoplasm of female breast; MASTECTOMY:  INFILTRATING APOCRINE CARCINOMA (SUBTYPE OF INFILTRATING DUCTAL CARCINOMA)., 75-90',\n",
       "  'Primary malignant neoplasm of female breast; BREAST: INFILTRATING DUCTAL CARCINOMA.., >90',\n",
       "  'Primary malignant neoplasm of female breast; BREAST: INFILTRATING DUCTAL CARCINOMA., >90',\n",
       "  'Primary malignant neoplasm of female breast; BREAST: INFILTRATING DUCTAL CARCINOMA., 75-90',\n",
       "  'Primary malignant neoplasm of female breast; BREAST: INFILTRATING DUCTAL CARCINOMA  WITH DOMINANT INTRADUCTAL COMPONENT., >90',\n",
       "  'Primary malignant neoplasm of female breast; BREAST, LOCAL EXCISION: INFILTRATING DUCTAL CARCINOMA, TWO NODULES (1.8 AND 1.1 CM), BLOOM-RICHARDSON SCORE 3/3/3 = 9 (GRADE 3 OF 3).  ER- PR-., >90',\n",
       "  'Primary malignant neoplasm of female breast; BREAST:  INFILTRATING DUCTAL CARCINOMA.  STAGE II., >90',\n",
       "  'Primary malignant neoplasm of female breast; BREAST: INFILTRATING DUCTAL CARCINOMA.  STAGE III., 75-90',\n",
       "  'Primary malignant neoplasm of female breast; BREAST:  INFILTRATING DUCTAL CARCINOMA.  STAGE II., 75-90',\n",
       "  'Primary malignant neoplasm of female breast; BREAST: INFILTRATING DUCTAL CARCINOMA.  STAGE IV., 75-90',\n",
       "  'Primary malignant neoplasm of female breast; BREAST: INFILTRATING DUCTAL CARCINOMA.  STAGE I., >90',\n",
       "  'Primary malignant neoplasm of female breast; BREAST: INFILTRATING DUCTAL CARCINOMA.  STAGE IV., >90',\n",
       "  'Primary malignant neoplasm of female breast; BREAST: INFILTRATING DUCTAL CARCINOMA, 4 CM DIAMETER., >90',\n",
       "  'Primary malignant neoplasm of female breast; BREAST: INFILTRATING DUCTAL CARCINOMA, 4.5 CM DIAMETER., 75-90',\n",
       "  'Primary malignant neoplasm of female breast; BREST: INFILTRATING DUCTAL CARCINOMA, 4 CM DIAMETER., 75-90',\n",
       "  'Primary malignant neoplasm of female breast; BREAST: INFILTRATING DUCTAL CARCINOMA, 2 CM DIAMETER., 75-90',\n",
       "  'Primary malignant neoplasm of female breast; BREAST: INFILTRATING DUCTAL CARCINOMA AND DUCTAL CARCINOMA IN SITU., >90',\n",
       "  'Secondary malignant neoplasm of lymph node; AXILLARY NODE: METASTATIC INFILTRATING LOBULAR CARCINOMA OF BREAST.  DONOR PREVIOUSLY TREATED WITH CHEMOTHERAPY., >90',\n",
       "  'Primary malignant neoplasm of female breast; MASTECTOMY: INFILTRATING DUCTAL CARCINOMA, 8 CM DIAMETER, ULCERATING SKIN WITH EXTENSIVE LYMPHOVASCULAR INVASION, DISCRETE AXILLARY TUMOR NODULE PRESENT (? REPLACED LYMPH NODE); SYNCHRONOUS METASTASIS TO LUNG; ER- PR- HER2/NEU STRONG+., 75-90',\n",
       "  'Primary malignant neoplasm of female breast; MODIFIED RADICAL MASTECTOMY:  IN SITU AND INFILTRATING DUCT CARCINOMA OF BREAST (4.1 CM).  REGIONAL NODES NEGATIVE FOR TUMOR., 75-90',\n",
       "  'Primary malignant neoplasm of female breast; MASTECTOMY:  INFILTRATING DUCT CARCINOMA OF BREAST (3.0 CM), METASTATIC TO 1 OF 23 LEVEL I NODES.  ALL 8 LEVEL II NODES NEGATIVE FOR TUMOR.  20% IN SITU COMPONENT PRESENT., 75-90',\n",
       "  'Secondary malignant neoplasm of brain; BRAIN (CEREBELLUM), BIOPSY:  METASTATIC ADENOCARCINOMA, C/W BREAST PRIMARY (ALTHOUGH OTHER PRIMARY SITES NOT EXCLUDED)., 75-90',\n",
       "  'Secondary malignant neoplasm of ovary; OVARY: METASTATIC CARCINOMA C/W METASTASIS FROM PRIMARY OF BREAST 28 MONTHS PREVIOUSLY.  PRIMARY WAS NUCLEAR GRADE 2, HISTOLOGIC GRADE 3, METASTATIC TO REGIONAL NODE AND LIVER AT INITIAL DIAGNOSIS; DONOR IS S/P HORMONAL THERAPY., 75-90',\n",
       "  'Primary malignant neoplasm of female breast; BREAST, EXCISIONAL BIOPSY: INFILTRATING DUCTAL CARCINOMA, 3 CM DIAMETER, NUCLEAR GRADE 2-3/3, HISTOLOGIC GRADE 2-3/3, MITOTIC RATE 3/3.  NO REPORT ON REGIONAL NODE STATUS., 75-90',\n",
       "  'Primary malignant neoplasm of female breast; MASTECTOMY: INFILTRATING DUCTAL CARCINOMA, 2.3 CM DIAMETER, NUCLEAR GRADE 3, HISTOLOGIC GRADE 3, METASTATIC TO 3 REGIONAL NODES., 75-90']}"
      ]
     },
     "execution_count": 31,
     "metadata": {},
     "output_type": "execute_result"
    }
   ],
   "source": [
    "clinical_data_unique = get_unique_values_by_row(clinical_data)\n",
    "clinical_data_unique"
   ]
  },
  {
   "cell_type": "markdown",
   "metadata": {
    "ExecuteTime": {
     "end_time": "2023-12-31T03:58:04.978204446Z",
     "start_time": "2023-12-31T03:58:04.922270095Z"
    },
    "collapsed": false
   },
   "source": [
    "Analyze the metadata to determine data relevance and find ways to extract the clinical data.\n",
    "Reference prompt:"
   ]
  },
  {
   "cell_type": "code",
   "execution_count": 32,
   "metadata": {
    "ExecuteTime": {
     "end_time": "2024-01-10T21:39:04.854586192Z",
     "start_time": "2024-01-10T21:39:04.836283516Z"
    },
    "collapsed": false
   },
   "outputs": [
    {
     "data": {
      "text/plain": [
       "'As a biomedical research team, we are selecting datasets to study the association between the human trait \\'Paget_s-Disease-of-bone\\' and genetic factors, optionally considering the influence of age and gender. After searching the GEO database and parsing the matrix file of a series, we obtained background information and sample characteristics data. We will provide textual information about the dataset background, and a Python dictionary storing a list of unique values for each field of the sample characteristics data. Please carefully review the provided information and answer the following questions about this dataset:\\n1. Does this dataset contain gene expression data? (Note: Pure miRNA data is not suitable.)\\n2. For each of the traits \\'Paget_s-Disease-of-bone\\', \\'age\\', and \\'gender\\', please address these points:\\n   (1) Is there human data available for this trait?\\n   (2) If so, identify the key in the sample characteristics dictionary where unique values of this trait is recorded. The key is an integer. The trait information might be explicitly recorded, or can be inferred from the field with some biomedical knowledge or understanding about the data collection process.\\n   (3) Choose an appropriate data type (either \\'continuous\\' or \\'binary\\') for each trait. Write a Python function to convert any given value of the trait to this data type. The function should handle inference about the trait value and convert unknown values to None.\\n   Name the functions \\'convert_trait\\', \\'convert_age\\', and \\'convert_gender\\', respectively.\\n\\nBackground information about the dataset:\\n!Series_title\\t\"Affymetrix 500K Mapping Array data from breast tumors\"\\n!Series_summary\\t\"Fifty-one breast tumors were profiled for copy-number alterations with the high-resolution Affymetrix 500K Mapping Array. Combined analysis of the prevalence and amplitude of copy-number alterations defined regions of recurrent gain or loss. Gains were most frequently observed on chromosomes 1, 8, 10, 11, 13, 15, 17, and 20. Losses were most frequent on chromosomes 3, 6, 11, 13, 14, 16, and 17. Compared with previous lower-resolution data, our analysis provided significantly more precise boundaries for frequently altered regions, greatly reducing the number of potential alteration-driving genes.\"\\n!Series_summary\\t\"Keywords: Mapping Array\"\\n!Series_overall_design\\t\"Affymetrix 500K Mapping Array intensity signal CEL files were processed by dChip 2005 (Build date Nov 30, 2005) using the PM/MM difference model and invariant set normalization.  Forty-eight normal samples were downloaded from the Affymetrix website (http://www.affymetrix.com/support/technical/byproduct.affx?product=500k) and analyzed at the same time.  One CEL file for each set (Sty and Nsp) with the median signal intensity across the set was selected as the reference array.   The dChip-normalized signal intensities were converted to log2 ratios and segmented as follows.  For each autosomal probe set, the log2 tumor/normal ratio of each tumor sample was calculated using the average intensity for each probe set in the normal set.  For Chromosome X, the average of the 20 normal female samples was used.   Each probe set was mapped to the genome, NCBI assembly version 35, using annotation provided by the Affymetrix web site.  The log2 ratios were centered to a median of zero and segmented using the GLAD package for the R statistical environment. Copy number was calculated as power(2,log2ratio + 1).\"\\n\\nSample characteristics dictionary (from \"!Sample_characteristics_ch1\", converted to a Python dictionary that stores the unique values for each field):\\n{0: [\\'Primary malignant neoplasm of female breast; INFILTRATING DUCTAL CARCINOMA OF BREAST., >90\\', \\'Primary malignant neoplasm of female breast; INFILTRATING DUCTAL CARCINOMA OF BREAST., 75-90\\', \\'Primary malignant neoplasm of female breast; INFILTRATING DUCTAL CARCINOMA OF BREAST.  , 75-90\\', \"Primary malignant neoplasm of female breast; MULTIFOCAL INFILTRATING DUCT CARCINOMA, BREAST, ER- PR-; WITH PAGET\\'S DISEASE, AND METASTASIS TO REGIONAL NODES; ARISING IN A BACKGROUND OF FIBROCYSTIC DISEASE OF BREAST., 75-90\", \\'Primary malignant neoplasm of female breast; BREAST:  INFILTRATING DUCTAL CARCINOMA., >90\\', \\'Primary malignant neoplasm of female breast; MASTECTOMY:  INFILTRATING APOCRINE CARCINOMA (SUBTYPE OF INFILTRATING DUCTAL CARCINOMA)., 75-90\\', \\'Primary malignant neoplasm of female breast; BREAST: INFILTRATING DUCTAL CARCINOMA.., >90\\', \\'Primary malignant neoplasm of female breast; BREAST: INFILTRATING DUCTAL CARCINOMA., >90\\', \\'Primary malignant neoplasm of female breast; BREAST: INFILTRATING DUCTAL CARCINOMA., 75-90\\', \\'Primary malignant neoplasm of female breast; BREAST: INFILTRATING DUCTAL CARCINOMA  WITH DOMINANT INTRADUCTAL COMPONENT., >90\\', \\'Primary malignant neoplasm of female breast; BREAST, LOCAL EXCISION: INFILTRATING DUCTAL CARCINOMA, TWO NODULES (1.8 AND 1.1 CM), BLOOM-RICHARDSON SCORE 3/3/3 = 9 (GRADE 3 OF 3).  ER- PR-., >90\\', \\'Primary malignant neoplasm of female breast; BREAST:  INFILTRATING DUCTAL CARCINOMA.  STAGE II., >90\\', \\'Primary malignant neoplasm of female breast; BREAST: INFILTRATING DUCTAL CARCINOMA.  STAGE III., 75-90\\', \\'Primary malignant neoplasm of female breast; BREAST:  INFILTRATING DUCTAL CARCINOMA.  STAGE II., 75-90\\', \\'Primary malignant neoplasm of female breast; BREAST: INFILTRATING DUCTAL CARCINOMA.  STAGE IV., 75-90\\', \\'Primary malignant neoplasm of female breast; BREAST: INFILTRATING DUCTAL CARCINOMA.  STAGE I., >90\\', \\'Primary malignant neoplasm of female breast; BREAST: INFILTRATING DUCTAL CARCINOMA.  STAGE IV., >90\\', \\'Primary malignant neoplasm of female breast; BREAST: INFILTRATING DUCTAL CARCINOMA, 4 CM DIAMETER., >90\\', \\'Primary malignant neoplasm of female breast; BREAST: INFILTRATING DUCTAL CARCINOMA, 4.5 CM DIAMETER., 75-90\\', \\'Primary malignant neoplasm of female breast; BREST: INFILTRATING DUCTAL CARCINOMA, 4 CM DIAMETER., 75-90\\', \\'Primary malignant neoplasm of female breast; BREAST: INFILTRATING DUCTAL CARCINOMA, 2 CM DIAMETER., 75-90\\', \\'Primary malignant neoplasm of female breast; BREAST: INFILTRATING DUCTAL CARCINOMA AND DUCTAL CARCINOMA IN SITU., >90\\', \\'Secondary malignant neoplasm of lymph node; AXILLARY NODE: METASTATIC INFILTRATING LOBULAR CARCINOMA OF BREAST.  DONOR PREVIOUSLY TREATED WITH CHEMOTHERAPY., >90\\', \\'Primary malignant neoplasm of female breast; MASTECTOMY: INFILTRATING DUCTAL CARCINOMA, 8 CM DIAMETER, ULCERATING SKIN WITH EXTENSIVE LYMPHOVASCULAR INVASION, DISCRETE AXILLARY TUMOR NODULE PRESENT (? REPLACED LYMPH NODE); SYNCHRONOUS METASTASIS TO LUNG; ER- PR- HER2/NEU STRONG+., 75-90\\', \\'Primary malignant neoplasm of female breast; MODIFIED RADICAL MASTECTOMY:  IN SITU AND INFILTRATING DUCT CARCINOMA OF BREAST (4.1 CM).  REGIONAL NODES NEGATIVE FOR TUMOR., 75-90\\', \\'Primary malignant neoplasm of female breast; MASTECTOMY:  INFILTRATING DUCT CARCINOMA OF BREAST (3.0 CM), METASTATIC TO 1 OF 23 LEVEL I NODES.  ALL 8 LEVEL II NODES NEGATIVE FOR TUMOR.  20% IN SITU COMPONENT PRESENT., 75-90\\', \\'Secondary malignant neoplasm of brain; BRAIN (CEREBELLUM), BIOPSY:  METASTATIC ADENOCARCINOMA, C/W BREAST PRIMARY (ALTHOUGH OTHER PRIMARY SITES NOT EXCLUDED)., 75-90\\', \\'Secondary malignant neoplasm of ovary; OVARY: METASTATIC CARCINOMA C/W METASTASIS FROM PRIMARY OF BREAST 28 MONTHS PREVIOUSLY.  PRIMARY WAS NUCLEAR GRADE 2, HISTOLOGIC GRADE 3, METASTATIC TO REGIONAL NODE AND LIVER AT INITIAL DIAGNOSIS; DONOR IS S/P HORMONAL THERAPY., 75-90\\', \\'Primary malignant neoplasm of female breast; BREAST, EXCISIONAL BIOPSY: INFILTRATING DUCTAL CARCINOMA, 3 CM DIAMETER, NUCLEAR GRADE 2-3/3, HISTOLOGIC GRADE 2-3/3, MITOTIC RATE 3/3.  NO REPORT ON REGIONAL NODE STATUS., 75-90\\', \\'Primary malignant neoplasm of female breast; MASTECTOMY: INFILTRATING DUCTAL CARCINOMA, 2.3 CM DIAMETER, NUCLEAR GRADE 3, HISTOLOGIC GRADE 3, METASTATIC TO 3 REGIONAL NODES., 75-90\\']}\\n'"
      ]
     },
     "execution_count": 32,
     "metadata": {},
     "output_type": "execute_result"
    }
   ],
   "source": [
    "f'''As a biomedical research team, we are selecting datasets to study the association between the human trait \\'{TRAIT}\\' and genetic factors, optionally considering the influence of age and gender. After searching the GEO database and parsing the matrix file of a series, we obtained background information and sample characteristics data. We will provide textual information about the dataset background, and a Python dictionary storing a list of unique values for each field of the sample characteristics data. Please carefully review the provided information and answer the following questions about this dataset:\n",
    "1. Does this dataset contain gene expression data? (Note: Pure miRNA data is not suitable.)\n",
    "2. For each of the traits \\'{TRAIT}\\', 'age', and 'gender', please address these points:\n",
    "   (1) Is there human data available for this trait?\n",
    "   (2) If so, identify the key in the sample characteristics dictionary where unique values of this trait is recorded. The key is an integer. The trait information might be explicitly recorded, or can be inferred from the field with some biomedical knowledge or understanding about the data collection process.\n",
    "   (3) Choose an appropriate data type (either 'continuous' or 'binary') for each trait. Write a Python function to convert any given value of the trait to this data type. The function should handle inference about the trait value and convert unknown values to None.\n",
    "   Name the functions 'convert_trait', 'convert_age', and 'convert_gender', respectively.\n",
    "\n",
    "Background information about the dataset:\n",
    "{background_info}\n",
    "\n",
    "Sample characteristics dictionary (from \"!Sample_characteristics_ch1\", converted to a Python dictionary that stores the unique values for each field):\n",
    "{clinical_data_unique}\n",
    "'''"
   ]
  },
  {
   "cell_type": "markdown",
   "metadata": {
    "ExecuteTime": {
     "end_time": "2023-12-31T03:58:04.978240504Z",
     "start_time": "2023-12-31T03:58:04.922365324Z"
    },
    "collapsed": false
   },
   "source": [
    "Understand and verify the answer from GPT, to assign values to the below variables. Assign None to the 'row_id' variables if relevant data row was not found.\n",
    "Later we need to let GPT format its answer to automatically do these. But given the complexity of this step, let's grow some insight from the free-text answers for now."
   ]
  },
  {
   "cell_type": "code",
   "execution_count": 33,
   "metadata": {
    "ExecuteTime": {
     "end_time": "2024-01-10T21:39:05.366304590Z",
     "start_time": "2024-01-10T21:39:05.356983082Z"
    },
    "collapsed": false
   },
   "outputs": [],
   "source": [
    "age_row = gender_row = None\n",
    "convert_age = convert_gender = None"
   ]
  },
  {
   "cell_type": "code",
   "execution_count": 34,
   "metadata": {
    "ExecuteTime": {
     "end_time": "2024-01-10T21:40:09.324053151Z",
     "start_time": "2024-01-10T21:40:09.251131090Z"
    },
    "collapsed": false
   },
   "outputs": [],
   "source": [
    "is_gene_availabe = True\n",
    "trait_row = 0\n",
    "age_row = None\n",
    "gender_row = None\n",
    "\n",
    "trait_type = 'binary'"
   ]
  },
  {
   "cell_type": "code",
   "execution_count": 35,
   "metadata": {
    "ExecuteTime": {
     "end_time": "2024-01-10T21:40:09.912115984Z",
     "start_time": "2024-01-10T21:40:09.907913460Z"
    },
    "collapsed": false
   },
   "outputs": [],
   "source": [
    "is_available = is_gene_availabe and (trait_row is not None)\n",
    "if not is_available:\n",
    "    save_cohort_info(cohort, JSON_PATH, is_available)\n",
    "    print(\"This cohort is not usable. Please skip the following steps and jump to the next accession number.\")"
   ]
  },
  {
   "cell_type": "code",
   "execution_count": 36,
   "metadata": {
    "ExecuteTime": {
     "end_time": "2024-01-10T21:40:10.982148317Z",
     "start_time": "2024-01-10T21:40:10.967368918Z"
    },
    "collapsed": false
   },
   "outputs": [
    {
     "data": {
      "text/plain": [
       "(1, 23, 1)"
      ]
     },
     "execution_count": 36,
     "metadata": {},
     "output_type": "execute_result"
    }
   ],
   "source": [
    "def convert_trait(tissue_type):\n",
    "    \"\"\"\n",
    "    Convert tissue type to epilepsy presence (binary).\n",
    "    Assuming epilepsy presence for 'Hippocampus' tissue.\n",
    "    \"\"\"\n",
    "    if tissue_type == 'Primary malignant neoplasm of female breast; INFILTRATING DUCTAL CARCINOMA OF BREAST., >90':\n",
    "        return 1  \n",
    "    else:\n",
    "        return 0 \n",
    "\n",
    "def convert_age(age_string):\n",
    "    \"\"\"\n",
    "    Convert age string to a numerical value.\n",
    "    \"\"\"\n",
    "    if age_string.startswith('age: '):\n",
    "        try:\n",
    "            return int(age_string.split('age: ')[1].rstrip('y'))  # Extracting numeric part\n",
    "        except ValueError:\n",
    "            return None  # In case of parsing error\n",
    "    else:\n",
    "        return None  # If age string does not follow expected format\n",
    "\n",
    "def convert_gender(gender_string):\n",
    "    \"\"\"\n",
    "    Convert gender string to a binary representation.\n",
    "    Female -> 0, Male -> 1, Unknown -> None\n",
    "    \"\"\"\n",
    "    if gender_string == 'gender: Female':\n",
    "        return 0\n",
    "    elif gender_string == 'gender: Male':\n",
    "        return 1\n",
    "    else:\n",
    "        return None  # In case of unknown gender\n",
    "\n",
    "# Example usage\n",
    "example_tissue = 'Primary malignant neoplasm of female breast; INFILTRATING DUCTAL CARCINOMA OF BREAST., >90'\n",
    "example_age = 'age: 23y'\n",
    "example_gender = 'gender: Male'\n",
    "\n",
    "converted_trait = convert_trait(example_tissue)\n",
    "converted_age = convert_age(example_age)\n",
    "converted_gender = convert_gender(example_gender)\n",
    "\n",
    "converted_trait, converted_age, converted_gender"
   ]
  },
  {
   "cell_type": "code",
   "execution_count": 37,
   "metadata": {
    "ExecuteTime": {
     "end_time": "2024-01-10T21:40:11.684556802Z",
     "start_time": "2024-01-10T21:40:11.665079581Z"
    },
    "collapsed": false
   },
   "outputs": [
    {
     "data": {
      "text/html": [
       "<div>\n",
       "<style scoped>\n",
       "    .dataframe tbody tr th:only-of-type {\n",
       "        vertical-align: middle;\n",
       "    }\n",
       "\n",
       "    .dataframe tbody tr th {\n",
       "        vertical-align: top;\n",
       "    }\n",
       "\n",
       "    .dataframe thead th {\n",
       "        text-align: right;\n",
       "    }\n",
       "</style>\n",
       "<table border=\"1\" class=\"dataframe\">\n",
       "  <thead>\n",
       "    <tr style=\"text-align: right;\">\n",
       "      <th></th>\n",
       "      <th>GSM182884</th>\n",
       "      <th>GSM182885</th>\n",
       "      <th>GSM182886</th>\n",
       "      <th>GSM182887</th>\n",
       "      <th>GSM182888</th>\n",
       "      <th>GSM182889</th>\n",
       "      <th>GSM182890</th>\n",
       "      <th>GSM182891</th>\n",
       "      <th>GSM182892</th>\n",
       "      <th>GSM182893</th>\n",
       "      <th>...</th>\n",
       "      <th>GSM182925</th>\n",
       "      <th>GSM182926</th>\n",
       "      <th>GSM182927</th>\n",
       "      <th>GSM182928</th>\n",
       "      <th>GSM182929</th>\n",
       "      <th>GSM182930</th>\n",
       "      <th>GSM182931</th>\n",
       "      <th>GSM182932</th>\n",
       "      <th>GSM182933</th>\n",
       "      <th>GSM182934</th>\n",
       "    </tr>\n",
       "  </thead>\n",
       "  <tbody>\n",
       "    <tr>\n",
       "      <th>Paget_s-Disease-of-bone</th>\n",
       "      <td>1</td>\n",
       "      <td>0</td>\n",
       "      <td>1</td>\n",
       "      <td>1</td>\n",
       "      <td>1</td>\n",
       "      <td>0</td>\n",
       "      <td>0</td>\n",
       "      <td>0</td>\n",
       "      <td>0</td>\n",
       "      <td>0</td>\n",
       "      <td>...</td>\n",
       "      <td>0</td>\n",
       "      <td>0</td>\n",
       "      <td>0</td>\n",
       "      <td>0</td>\n",
       "      <td>0</td>\n",
       "      <td>0</td>\n",
       "      <td>0</td>\n",
       "      <td>0</td>\n",
       "      <td>0</td>\n",
       "      <td>0</td>\n",
       "    </tr>\n",
       "  </tbody>\n",
       "</table>\n",
       "<p>1 rows × 51 columns</p>\n",
       "</div>"
      ],
      "text/plain": [
       "                         GSM182884  GSM182885  GSM182886  GSM182887  \\\n",
       "Paget_s-Disease-of-bone          1          0          1          1   \n",
       "\n",
       "                         GSM182888  GSM182889  GSM182890  GSM182891  \\\n",
       "Paget_s-Disease-of-bone          1          0          0          0   \n",
       "\n",
       "                         GSM182892  GSM182893  ...  GSM182925  GSM182926  \\\n",
       "Paget_s-Disease-of-bone          0          0  ...          0          0   \n",
       "\n",
       "                         GSM182927  GSM182928  GSM182929  GSM182930  \\\n",
       "Paget_s-Disease-of-bone          0          0          0          0   \n",
       "\n",
       "                         GSM182931  GSM182932  GSM182933  GSM182934  \n",
       "Paget_s-Disease-of-bone          0          0          0          0  \n",
       "\n",
       "[1 rows x 51 columns]"
      ]
     },
     "execution_count": 37,
     "metadata": {},
     "output_type": "execute_result"
    }
   ],
   "source": [
    "selected_clinical_data = geo_select_clinical_features(clinical_data, TRAIT, trait_row, convert_trait, age_row=age_row,\n",
    "                                                      convert_age=convert_age, gender_row=gender_row,\n",
    "                                                      convert_gender=convert_gender)\n",
    "selected_clinical_data.head()"
   ]
  },
  {
   "cell_type": "markdown",
   "metadata": {
    "ExecuteTime": {
     "end_time": "2023-12-31T03:58:04.978664193Z",
     "start_time": "2023-12-31T03:58:04.966117261Z"
    },
    "collapsed": false
   },
   "source": [
    "### Genetic data preprocessing and final filtering"
   ]
  },
  {
   "cell_type": "code",
   "execution_count": 38,
   "metadata": {
    "ExecuteTime": {
     "end_time": "2024-01-10T21:40:13.509252107Z",
     "start_time": "2024-01-10T21:40:13.468235630Z"
    },
    "collapsed": false
   },
   "outputs": [
    {
     "data": {
      "text/html": [
       "<div>\n",
       "<style scoped>\n",
       "    .dataframe tbody tr th:only-of-type {\n",
       "        vertical-align: middle;\n",
       "    }\n",
       "\n",
       "    .dataframe tbody tr th {\n",
       "        vertical-align: top;\n",
       "    }\n",
       "\n",
       "    .dataframe thead th {\n",
       "        text-align: right;\n",
       "    }\n",
       "</style>\n",
       "<table border=\"1\" class=\"dataframe\">\n",
       "  <thead>\n",
       "    <tr style=\"text-align: right;\">\n",
       "      <th></th>\n",
       "      <th>GSM182884</th>\n",
       "      <th>GSM182885</th>\n",
       "      <th>GSM182886</th>\n",
       "      <th>GSM182887</th>\n",
       "      <th>GSM182888</th>\n",
       "      <th>GSM182889</th>\n",
       "      <th>GSM182890</th>\n",
       "      <th>GSM182891</th>\n",
       "      <th>GSM182892</th>\n",
       "      <th>GSM182893</th>\n",
       "      <th>...</th>\n",
       "      <th>GSM182925</th>\n",
       "      <th>GSM182926</th>\n",
       "      <th>GSM182927</th>\n",
       "      <th>GSM182928</th>\n",
       "      <th>GSM182929</th>\n",
       "      <th>GSM182930</th>\n",
       "      <th>GSM182931</th>\n",
       "      <th>GSM182932</th>\n",
       "      <th>GSM182933</th>\n",
       "      <th>GSM182934</th>\n",
       "    </tr>\n",
       "    <tr>\n",
       "      <th>ID</th>\n",
       "      <th></th>\n",
       "      <th></th>\n",
       "      <th></th>\n",
       "      <th></th>\n",
       "      <th></th>\n",
       "      <th></th>\n",
       "      <th></th>\n",
       "      <th></th>\n",
       "      <th></th>\n",
       "      <th></th>\n",
       "      <th></th>\n",
       "      <th></th>\n",
       "      <th></th>\n",
       "      <th></th>\n",
       "      <th></th>\n",
       "      <th></th>\n",
       "      <th></th>\n",
       "      <th></th>\n",
       "      <th></th>\n",
       "      <th></th>\n",
       "      <th></th>\n",
       "    </tr>\n",
       "  </thead>\n",
       "  <tbody>\n",
       "    <tr>\n",
       "      <th>SNP_A-1780271</th>\n",
       "      <td>1.984278</td>\n",
       "      <td>2.146182</td>\n",
       "      <td>1.964885</td>\n",
       "      <td>1.930367</td>\n",
       "      <td>1.975572</td>\n",
       "      <td>2.021787</td>\n",
       "      <td>1.971022</td>\n",
       "      <td>2.138625</td>\n",
       "      <td>2.312962</td>\n",
       "      <td>1.855226</td>\n",
       "      <td>...</td>\n",
       "      <td>1.899999</td>\n",
       "      <td>1.914124</td>\n",
       "      <td>2.038113</td>\n",
       "      <td>1.668046</td>\n",
       "      <td>1.877762</td>\n",
       "      <td>1.871985</td>\n",
       "      <td>1.622688</td>\n",
       "      <td>2.008082</td>\n",
       "      <td>1.528941</td>\n",
       "      <td>1.973210</td>\n",
       "    </tr>\n",
       "    <tr>\n",
       "      <th>SNP_A-1780274</th>\n",
       "      <td>2.006303</td>\n",
       "      <td>1.697270</td>\n",
       "      <td>2.004740</td>\n",
       "      <td>2.022455</td>\n",
       "      <td>2.000747</td>\n",
       "      <td>2.035260</td>\n",
       "      <td>2.128480</td>\n",
       "      <td>2.169517</td>\n",
       "      <td>2.067774</td>\n",
       "      <td>2.294976</td>\n",
       "      <td>...</td>\n",
       "      <td>2.142821</td>\n",
       "      <td>2.011890</td>\n",
       "      <td>2.157743</td>\n",
       "      <td>2.247524</td>\n",
       "      <td>2.131333</td>\n",
       "      <td>2.266900</td>\n",
       "      <td>2.274554</td>\n",
       "      <td>2.053908</td>\n",
       "      <td>1.710290</td>\n",
       "      <td>1.837960</td>\n",
       "    </tr>\n",
       "    <tr>\n",
       "      <th>SNP_A-1780277</th>\n",
       "      <td>1.998315</td>\n",
       "      <td>2.248650</td>\n",
       "      <td>1.985443</td>\n",
       "      <td>1.970189</td>\n",
       "      <td>2.035469</td>\n",
       "      <td>2.021994</td>\n",
       "      <td>2.081827</td>\n",
       "      <td>2.117025</td>\n",
       "      <td>2.105705</td>\n",
       "      <td>1.768564</td>\n",
       "      <td>...</td>\n",
       "      <td>1.958454</td>\n",
       "      <td>1.985117</td>\n",
       "      <td>2.077403</td>\n",
       "      <td>1.702588</td>\n",
       "      <td>1.905077</td>\n",
       "      <td>2.047742</td>\n",
       "      <td>1.821512</td>\n",
       "      <td>2.043190</td>\n",
       "      <td>1.896510</td>\n",
       "      <td>1.985036</td>\n",
       "    </tr>\n",
       "    <tr>\n",
       "      <th>SNP_A-1780278</th>\n",
       "      <td>2.006116</td>\n",
       "      <td>2.284532</td>\n",
       "      <td>1.978920</td>\n",
       "      <td>2.280958</td>\n",
       "      <td>2.188413</td>\n",
       "      <td>2.016155</td>\n",
       "      <td>2.147525</td>\n",
       "      <td>2.257937</td>\n",
       "      <td>3.453628</td>\n",
       "      <td>2.078615</td>\n",
       "      <td>...</td>\n",
       "      <td>2.223560</td>\n",
       "      <td>2.350807</td>\n",
       "      <td>2.061573</td>\n",
       "      <td>2.233881</td>\n",
       "      <td>2.585447</td>\n",
       "      <td>1.873375</td>\n",
       "      <td>2.242150</td>\n",
       "      <td>2.178280</td>\n",
       "      <td>2.161954</td>\n",
       "      <td>2.030386</td>\n",
       "    </tr>\n",
       "    <tr>\n",
       "      <th>SNP_A-1780283</th>\n",
       "      <td>2.000795</td>\n",
       "      <td>2.254944</td>\n",
       "      <td>1.994842</td>\n",
       "      <td>1.895686</td>\n",
       "      <td>1.816693</td>\n",
       "      <td>1.964018</td>\n",
       "      <td>1.995913</td>\n",
       "      <td>2.111779</td>\n",
       "      <td>1.661773</td>\n",
       "      <td>1.849370</td>\n",
       "      <td>...</td>\n",
       "      <td>1.950133</td>\n",
       "      <td>1.980628</td>\n",
       "      <td>2.086595</td>\n",
       "      <td>1.690580</td>\n",
       "      <td>2.164614</td>\n",
       "      <td>1.858675</td>\n",
       "      <td>1.813067</td>\n",
       "      <td>1.902702</td>\n",
       "      <td>1.681237</td>\n",
       "      <td>1.976388</td>\n",
       "    </tr>\n",
       "  </tbody>\n",
       "</table>\n",
       "<p>5 rows × 51 columns</p>\n",
       "</div>"
      ],
      "text/plain": [
       "               GSM182884  GSM182885  GSM182886  GSM182887  GSM182888  \\\n",
       "ID                                                                     \n",
       "SNP_A-1780271   1.984278   2.146182   1.964885   1.930367   1.975572   \n",
       "SNP_A-1780274   2.006303   1.697270   2.004740   2.022455   2.000747   \n",
       "SNP_A-1780277   1.998315   2.248650   1.985443   1.970189   2.035469   \n",
       "SNP_A-1780278   2.006116   2.284532   1.978920   2.280958   2.188413   \n",
       "SNP_A-1780283   2.000795   2.254944   1.994842   1.895686   1.816693   \n",
       "\n",
       "               GSM182889  GSM182890  GSM182891  GSM182892  GSM182893  ...  \\\n",
       "ID                                                                    ...   \n",
       "SNP_A-1780271   2.021787   1.971022   2.138625   2.312962   1.855226  ...   \n",
       "SNP_A-1780274   2.035260   2.128480   2.169517   2.067774   2.294976  ...   \n",
       "SNP_A-1780277   2.021994   2.081827   2.117025   2.105705   1.768564  ...   \n",
       "SNP_A-1780278   2.016155   2.147525   2.257937   3.453628   2.078615  ...   \n",
       "SNP_A-1780283   1.964018   1.995913   2.111779   1.661773   1.849370  ...   \n",
       "\n",
       "               GSM182925  GSM182926  GSM182927  GSM182928  GSM182929  \\\n",
       "ID                                                                     \n",
       "SNP_A-1780271   1.899999   1.914124   2.038113   1.668046   1.877762   \n",
       "SNP_A-1780274   2.142821   2.011890   2.157743   2.247524   2.131333   \n",
       "SNP_A-1780277   1.958454   1.985117   2.077403   1.702588   1.905077   \n",
       "SNP_A-1780278   2.223560   2.350807   2.061573   2.233881   2.585447   \n",
       "SNP_A-1780283   1.950133   1.980628   2.086595   1.690580   2.164614   \n",
       "\n",
       "               GSM182930  GSM182931  GSM182932  GSM182933  GSM182934  \n",
       "ID                                                                    \n",
       "SNP_A-1780271   1.871985   1.622688   2.008082   1.528941   1.973210  \n",
       "SNP_A-1780274   2.266900   2.274554   2.053908   1.710290   1.837960  \n",
       "SNP_A-1780277   2.047742   1.821512   2.043190   1.896510   1.985036  \n",
       "SNP_A-1780278   1.873375   2.242150   2.178280   2.161954   2.030386  \n",
       "SNP_A-1780283   1.858675   1.813067   1.902702   1.681237   1.976388  \n",
       "\n",
       "[5 rows x 51 columns]"
      ]
     },
     "execution_count": 38,
     "metadata": {},
     "output_type": "execute_result"
    }
   ],
   "source": [
    "genetic_data = get_genetic_data(matrix_file)\n",
    "genetic_data.head()"
   ]
  },
  {
   "cell_type": "code",
   "execution_count": 39,
   "metadata": {
    "ExecuteTime": {
     "end_time": "2024-01-10T21:40:14.107050774Z",
     "start_time": "2024-01-10T21:40:14.090977173Z"
    },
    "collapsed": false
   },
   "outputs": [
    {
     "data": {
      "text/plain": [
       "['SNP_A-1780271',\n",
       " 'SNP_A-1780274',\n",
       " 'SNP_A-1780277',\n",
       " 'SNP_A-1780278',\n",
       " 'SNP_A-1780283',\n",
       " 'SNP_A-1780290',\n",
       " 'SNP_A-1780293',\n",
       " 'SNP_A-1780299',\n",
       " 'SNP_A-1780301',\n",
       " 'SNP_A-1780310',\n",
       " 'SNP_A-1780315',\n",
       " 'SNP_A-1780317',\n",
       " 'SNP_A-1780319',\n",
       " 'SNP_A-1780324',\n",
       " 'SNP_A-1780325',\n",
       " 'SNP_A-1780328',\n",
       " 'SNP_A-1780333',\n",
       " 'SNP_A-1780335',\n",
       " 'SNP_A-1780339',\n",
       " 'SNP_A-1780340']"
      ]
     },
     "execution_count": 39,
     "metadata": {},
     "output_type": "execute_result"
    }
   ],
   "source": [
    "gene_row_ids = genetic_data.index[:20].tolist()\n",
    "gene_row_ids"
   ]
  },
  {
   "cell_type": "markdown",
   "metadata": {
    "ExecuteTime": {
     "end_time": "2023-12-31T03:30:41.595335164Z",
     "start_time": "2023-12-31T03:30:41.513232329Z"
    },
    "collapsed": false
   },
   "source": [
    "Check if the gene dataset requires mapping to get the gene symbols corresponding to each data row."
   ]
  },
  {
   "cell_type": "markdown",
   "metadata": {
    "collapsed": false
   },
   "source": [
    "Reference prompt:"
   ]
  },
  {
   "cell_type": "code",
   "execution_count": 40,
   "metadata": {
    "ExecuteTime": {
     "end_time": "2024-01-10T21:40:16.445692615Z",
     "start_time": "2024-01-10T21:40:16.435117932Z"
    },
    "collapsed": false
   },
   "outputs": [
    {
     "data": {
      "text/plain": [
       "\"\\nBelow are the row headers of a gene expression dataset in GEO. Based on your biomedical knowledge, are they human gene symbols, or are they some other identifiers that need to be mapped to gene symbols? Your answer should be concluded by starting a new line and strictly following this format:\\nrequires_gene_mapping = (True or False)\\n\\nRow headers:\\n['SNP_A-1780271', 'SNP_A-1780274', 'SNP_A-1780277', 'SNP_A-1780278', 'SNP_A-1780283', 'SNP_A-1780290', 'SNP_A-1780293', 'SNP_A-1780299', 'SNP_A-1780301', 'SNP_A-1780310', 'SNP_A-1780315', 'SNP_A-1780317', 'SNP_A-1780319', 'SNP_A-1780324', 'SNP_A-1780325', 'SNP_A-1780328', 'SNP_A-1780333', 'SNP_A-1780335', 'SNP_A-1780339', 'SNP_A-1780340']\\n\""
      ]
     },
     "execution_count": 40,
     "metadata": {},
     "output_type": "execute_result"
    }
   ],
   "source": [
    "f'''\n",
    "Below are the row headers of a gene expression dataset in GEO. Based on your biomedical knowledge, are they human gene symbols, or are they some other identifiers that need to be mapped to gene symbols? Your answer should be concluded by starting a new line and strictly following this format:\n",
    "requires_gene_mapping = (True or False)\n",
    "\n",
    "Row headers:\n",
    "{gene_row_ids}\n",
    "'''"
   ]
  },
  {
   "cell_type": "markdown",
   "metadata": {
    "collapsed": false
   },
   "source": [
    "\n",
    "If not required, jump directly to the gene normalization step"
   ]
  },
  {
   "cell_type": "code",
   "execution_count": 41,
   "metadata": {
    "ExecuteTime": {
     "end_time": "2024-01-10T21:40:17.098774002Z",
     "start_time": "2024-01-10T21:40:17.094437169Z"
    },
    "collapsed": false
   },
   "outputs": [],
   "source": [
    "requires_gene_mapping = False"
   ]
  },
  {
   "cell_type": "code",
   "execution_count": 42,
   "metadata": {
    "ExecuteTime": {
     "end_time": "2024-01-10T21:40:17.399324928Z",
     "start_time": "2024-01-10T21:40:17.381475568Z"
    },
    "collapsed": false
   },
   "outputs": [],
   "source": [
    "if requires_gene_mapping:\n",
    "    gene_annotation = get_gene_annotation(soft_file)\n",
    "    gene_annotation_summary = preview_df(gene_annotation)\n",
    "    print(gene_annotation_summary)"
   ]
  },
  {
   "cell_type": "markdown",
   "metadata": {
    "ExecuteTime": {
     "end_time": "2023-12-31T03:58:04.978931927Z",
     "start_time": "2023-12-31T03:58:04.966328339Z"
    },
    "collapsed": false
   },
   "source": [
    "Observe the first few cells in the ID column of the gene annotation dataframe, to find the names of columns that store the gene probe IDs and gene symbols respectively.\n",
    "Reference prompt:"
   ]
  },
  {
   "cell_type": "code",
   "execution_count": 43,
   "metadata": {
    "ExecuteTime": {
     "end_time": "2024-01-10T21:40:17.944343822Z",
     "start_time": "2024-01-10T21:40:17.933815553Z"
    },
    "collapsed": false
   },
   "outputs": [],
   "source": [
    "if requires_gene_mapping:\n",
    "    print(f'''\n",
    "    As a biomedical research team, we are analyzing a gene expression dataset, and find that its row headers are some identifiers related to genes:\n",
    "    {gene_row_ids}\n",
    "    To get the mapping from those identifiers to actual gene symbols, we extracted the gene annotation data from a series in the GEO database, and saved it to a Python dictionary. Please read the dictionary, and decide which key stores the identifiers, and which key stores the gene symbols. Please strictly follow this format in your answer:\n",
    "    identifier_key = 'key_name1'\n",
    "    gene_symbol_key = 'key_name2'\n",
    "\n",
    "    Gene annotation dictionary:\n",
    "    {gene_annotation_summary}\n",
    "    ''')"
   ]
  },
  {
   "cell_type": "code",
   "execution_count": 44,
   "metadata": {
    "ExecuteTime": {
     "end_time": "2024-01-10T21:40:18.245811669Z",
     "start_time": "2024-01-10T21:40:18.234480277Z"
    },
    "collapsed": false
   },
   "outputs": [],
   "source": [
    "if requires_gene_mapping:\n",
    "    identifier_key = 'ID'\n",
    "    gene_symbol_key = 'UCSC_RefGene_Name'\n",
    "    gene_mapping = get_gene_mapping(gene_annotation, identifier_key, gene_symbol_key)\n",
    "    genetic_data = apply_gene_mapping(genetic_data, gene_mapping)"
   ]
  },
  {
   "cell_type": "code",
   "execution_count": 45,
   "metadata": {
    "ExecuteTime": {
     "end_time": "2024-01-10T21:40:20.559860684Z",
     "start_time": "2024-01-10T21:40:18.521711414Z"
    },
    "collapsed": false
   },
   "outputs": [
    {
     "name": "stderr",
     "output_type": "stream",
     "text": [
      "1000 input query terms found no hit:\t['SNP_A-1780271', 'SNP_A-1780274', 'SNP_A-1780277', 'SNP_A-1780278', 'SNP_A-1780283', 'SNP_A-1780290\n",
      "1000 input query terms found no hit:\t['SNP_A-1783217', 'SNP_A-1783219', 'SNP_A-1783223', 'SNP_A-1783226', 'SNP_A-1783228', 'SNP_A-1783230\n",
      "1000 input query terms found no hit:\t['SNP_A-1786023', 'SNP_A-1786024', 'SNP_A-1786031', 'SNP_A-1786032', 'SNP_A-1786034', 'SNP_A-1786038\n",
      "1000 input query terms found no hit:\t['SNP_A-1788770', 'SNP_A-1788783', 'SNP_A-1788784', 'SNP_A-1788786', 'SNP_A-1788788', 'SNP_A-1788793\n",
      "1000 input query terms found no hit:\t['SNP_A-1791645', 'SNP_A-1791651', 'SNP_A-1791656', 'SNP_A-1791657', 'SNP_A-1791658', 'SNP_A-1791661\n",
      "1000 input query terms found no hit:\t['SNP_A-1794565', 'SNP_A-1794567', 'SNP_A-1794568', 'SNP_A-1794571', 'SNP_A-1794572', 'SNP_A-1794573\n",
      "1000 input query terms found no hit:\t['SNP_A-1797550', 'SNP_A-1797552', 'SNP_A-1797560', 'SNP_A-1797564', 'SNP_A-1797565', 'SNP_A-1797566\n",
      "1000 input query terms found no hit:\t['SNP_A-1800944', 'SNP_A-1800948', 'SNP_A-1800949', 'SNP_A-1800950', 'SNP_A-1800952', 'SNP_A-1800955\n",
      "1000 input query terms found no hit:\t['SNP_A-1804213', 'SNP_A-1804218', 'SNP_A-1804222', 'SNP_A-1804224', 'SNP_A-1804233', 'SNP_A-1804238\n",
      "1000 input query terms found no hit:\t['SNP_A-1807232', 'SNP_A-1807236', 'SNP_A-1807237', 'SNP_A-1807238', 'SNP_A-1807242', 'SNP_A-1807245\n",
      "1000 input query terms found no hit:\t['SNP_A-1810228', 'SNP_A-1810232', 'SNP_A-1810239', 'SNP_A-1810240', 'SNP_A-1810242', 'SNP_A-1810245\n",
      "1000 input query terms found no hit:\t['SNP_A-1813079', 'SNP_A-1813080', 'SNP_A-1813082', 'SNP_A-1813087', 'SNP_A-1813097', 'SNP_A-1813098\n",
      "1000 input query terms found no hit:\t['SNP_A-1816112', 'SNP_A-1816113', 'SNP_A-1816116', 'SNP_A-1816117', 'SNP_A-1816118', 'SNP_A-1816119\n",
      "1000 input query terms found no hit:\t['SNP_A-1819213', 'SNP_A-1819219', 'SNP_A-1819222', 'SNP_A-1819223', 'SNP_A-1819224', 'SNP_A-1819227\n",
      "1000 input query terms found no hit:\t['SNP_A-1822374', 'SNP_A-1822375', 'SNP_A-1822377', 'SNP_A-1822380', 'SNP_A-1822381', 'SNP_A-1822383\n",
      "1000 input query terms found no hit:\t['SNP_A-1825859', 'SNP_A-1825863', 'SNP_A-1825864', 'SNP_A-1825867', 'SNP_A-1825869', 'SNP_A-1825870\n",
      "1000 input query terms found no hit:\t['SNP_A-1829243', 'SNP_A-1829245', 'SNP_A-1829251', 'SNP_A-1829253', 'SNP_A-1829256', 'SNP_A-1829257\n",
      "1000 input query terms found no hit:\t['SNP_A-1832684', 'SNP_A-1832685', 'SNP_A-1832686', 'SNP_A-1832688', 'SNP_A-1832689', 'SNP_A-1832694\n",
      "1000 input query terms found no hit:\t['SNP_A-1835893', 'SNP_A-1835901', 'SNP_A-1835906', 'SNP_A-1835907', 'SNP_A-1835917', 'SNP_A-1835919\n",
      "1000 input query terms found no hit:\t['SNP_A-1839095', 'SNP_A-1839098', 'SNP_A-1839101', 'SNP_A-1839106', 'SNP_A-1839109', 'SNP_A-1839119\n",
      "1000 input query terms found no hit:\t['SNP_A-1842353', 'SNP_A-1842357', 'SNP_A-1842358', 'SNP_A-1842359', 'SNP_A-1842363', 'SNP_A-1842365\n",
      "1000 input query terms found no hit:\t['SNP_A-1845736', 'SNP_A-1845737', 'SNP_A-1845740', 'SNP_A-1845741', 'SNP_A-1845744', 'SNP_A-1845749\n",
      "1000 input query terms found no hit:\t['SNP_A-1849170', 'SNP_A-1849171', 'SNP_A-1849176', 'SNP_A-1849181', 'SNP_A-1849182', 'SNP_A-1849183\n",
      "1000 input query terms found no hit:\t['SNP_A-1852552', 'SNP_A-1852553', 'SNP_A-1852557', 'SNP_A-1852560', 'SNP_A-1852561', 'SNP_A-1852563\n",
      "1000 input query terms found no hit:\t['SNP_A-1855863', 'SNP_A-1855865', 'SNP_A-1855869', 'SNP_A-1855872', 'SNP_A-1855875', 'SNP_A-1855884\n",
      "1000 input query terms found no hit:\t['SNP_A-1858748', 'SNP_A-1858751', 'SNP_A-1858753', 'SNP_A-1858761', 'SNP_A-1858765', 'SNP_A-1858768\n",
      "1000 input query terms found no hit:\t['SNP_A-1861813', 'SNP_A-1861814', 'SNP_A-1861817', 'SNP_A-1861823', 'SNP_A-1861825', 'SNP_A-1861826\n",
      "1000 input query terms found no hit:\t['SNP_A-1864902', 'SNP_A-1864903', 'SNP_A-1864905', 'SNP_A-1864906', 'SNP_A-1864909', 'SNP_A-1864913\n",
      "1000 input query terms found no hit:\t['SNP_A-1867857', 'SNP_A-1867858', 'SNP_A-1867862', 'SNP_A-1867866', 'SNP_A-1867871', 'SNP_A-1867872\n",
      "1000 input query terms found no hit:\t['SNP_A-1870743', 'SNP_A-1870757', 'SNP_A-1870761', 'SNP_A-1870762', 'SNP_A-1870767', 'SNP_A-1870768\n",
      "1000 input query terms found no hit:\t['SNP_A-1873829', 'SNP_A-1873830', 'SNP_A-1873834', 'SNP_A-1873837', 'SNP_A-1873838', 'SNP_A-1873839\n",
      "1000 input query terms found no hit:\t['SNP_A-1876838', 'SNP_A-1876843', 'SNP_A-1876846', 'SNP_A-1876847', 'SNP_A-1876848', 'SNP_A-1876852\n",
      "1000 input query terms found no hit:\t['SNP_A-1879724', 'SNP_A-1879726', 'SNP_A-1879728', 'SNP_A-1879730', 'SNP_A-1879732', 'SNP_A-1879733\n",
      "1000 input query terms found no hit:\t['SNP_A-1882950', 'SNP_A-1882955', 'SNP_A-1882959', 'SNP_A-1882961', 'SNP_A-1882967', 'SNP_A-1882974\n",
      "1000 input query terms found no hit:\t['SNP_A-1886075', 'SNP_A-1886076', 'SNP_A-1886079', 'SNP_A-1886082', 'SNP_A-1886085', 'SNP_A-1886086\n",
      "1000 input query terms found no hit:\t['SNP_A-1888952', 'SNP_A-1888954', 'SNP_A-1888964', 'SNP_A-1888970', 'SNP_A-1888971', 'SNP_A-1888973\n",
      "1000 input query terms found no hit:\t['SNP_A-1892124', 'SNP_A-1892126', 'SNP_A-1892128', 'SNP_A-1892138', 'SNP_A-1892142', 'SNP_A-1892145\n",
      "1000 input query terms found no hit:\t['SNP_A-1895220', 'SNP_A-1895221', 'SNP_A-1895222', 'SNP_A-1895226', 'SNP_A-1895227', 'SNP_A-1895231\n",
      "1000 input query terms found no hit:\t['SNP_A-1898145', 'SNP_A-1898147', 'SNP_A-1898148', 'SNP_A-1898151', 'SNP_A-1898156', 'SNP_A-1898158\n",
      "1000 input query terms found no hit:\t['SNP_A-1901136', 'SNP_A-1901138', 'SNP_A-1901139', 'SNP_A-1901140', 'SNP_A-1901141', 'SNP_A-1901142\n",
      "1000 input query terms found no hit:\t['SNP_A-1903941', 'SNP_A-1903946', 'SNP_A-1903947', 'SNP_A-1903948', 'SNP_A-1903949', 'SNP_A-1903954\n",
      "1000 input query terms found no hit:\t['SNP_A-1906997', 'SNP_A-1906998', 'SNP_A-1907001', 'SNP_A-1907002', 'SNP_A-1907008', 'SNP_A-1907010\n",
      "1000 input query terms found no hit:\t['SNP_A-1910208', 'SNP_A-1910211', 'SNP_A-1910213', 'SNP_A-1910215', 'SNP_A-1910220', 'SNP_A-1910223\n",
      "1000 input query terms found no hit:\t['SNP_A-1913159', 'SNP_A-1913160', 'SNP_A-1913161', 'SNP_A-1913170', 'SNP_A-1913179', 'SNP_A-1913181\n",
      "1000 input query terms found no hit:\t['SNP_A-1916297', 'SNP_A-1916298', 'SNP_A-1916301', 'SNP_A-1916303', 'SNP_A-1916305', 'SNP_A-1916306\n",
      "1000 input query terms found no hit:\t['SNP_A-1919551', 'SNP_A-1919554', 'SNP_A-1919556', 'SNP_A-1919568', 'SNP_A-1919589', 'SNP_A-1919590\n",
      "1000 input query terms found no hit:\t['SNP_A-1922960', 'SNP_A-1922964', 'SNP_A-1922965', 'SNP_A-1922978', 'SNP_A-1922981', 'SNP_A-1922982\n",
      "1000 input query terms found no hit:\t['SNP_A-1926141', 'SNP_A-1926148', 'SNP_A-1926149', 'SNP_A-1926152', 'SNP_A-1926157', 'SNP_A-1926161\n",
      "1000 input query terms found no hit:\t['SNP_A-1929383', 'SNP_A-1929384', 'SNP_A-1929387', 'SNP_A-1929393', 'SNP_A-1929396', 'SNP_A-1929399\n",
      "1000 input query terms found no hit:\t['SNP_A-1932573', 'SNP_A-1932576', 'SNP_A-1932577', 'SNP_A-1932580', 'SNP_A-1932581', 'SNP_A-1932584\n",
      "1000 input query terms found no hit:\t['SNP_A-1935773', 'SNP_A-1935774', 'SNP_A-1935778', 'SNP_A-1935788', 'SNP_A-1935789', 'SNP_A-1935791\n",
      "1000 input query terms found no hit:\t['SNP_A-1939019', 'SNP_A-1939022', 'SNP_A-1939025', 'SNP_A-1939027', 'SNP_A-1939034', 'SNP_A-1939035\n",
      "1000 input query terms found no hit:\t['SNP_A-1942036', 'SNP_A-1942044', 'SNP_A-1942045', 'SNP_A-1942047', 'SNP_A-1942049', 'SNP_A-1942051\n",
      "1000 input query terms found no hit:\t['SNP_A-1945146', 'SNP_A-1945152', 'SNP_A-1945154', 'SNP_A-1945157', 'SNP_A-1945159', 'SNP_A-1945161\n",
      "1000 input query terms found no hit:\t['SNP_A-1948510', 'SNP_A-1948511', 'SNP_A-1948518', 'SNP_A-1948521', 'SNP_A-1948525', 'SNP_A-1948528\n",
      "1000 input query terms found no hit:\t['SNP_A-1951835', 'SNP_A-1951837', 'SNP_A-1951841', 'SNP_A-1951842', 'SNP_A-1951850', 'SNP_A-1951851\n",
      "1000 input query terms found no hit:\t['SNP_A-1954938', 'SNP_A-1954939', 'SNP_A-1954943', 'SNP_A-1954952', 'SNP_A-1954954', 'SNP_A-1954955\n",
      "1000 input query terms found no hit:\t['SNP_A-1958411', 'SNP_A-1958413', 'SNP_A-1958414', 'SNP_A-1958417', 'SNP_A-1958418', 'SNP_A-1958425\n",
      "1000 input query terms found no hit:\t['SNP_A-1961782', 'SNP_A-1961783', 'SNP_A-1961784', 'SNP_A-1961785', 'SNP_A-1961791', 'SNP_A-1961792\n",
      "1000 input query terms found no hit:\t['SNP_A-1965003', 'SNP_A-1965013', 'SNP_A-1965016', 'SNP_A-1965018', 'SNP_A-1965020', 'SNP_A-1965022\n",
      "1000 input query terms found no hit:\t['SNP_A-1968214', 'SNP_A-1968216', 'SNP_A-1968217', 'SNP_A-1968219', 'SNP_A-1968220', 'SNP_A-1968221\n",
      "1000 input query terms found no hit:\t['SNP_A-1971417', 'SNP_A-1971429', 'SNP_A-1971436', 'SNP_A-1971437', 'SNP_A-1971438', 'SNP_A-1971439\n",
      "1000 input query terms found no hit:\t['SNP_A-1974528', 'SNP_A-1974529', 'SNP_A-1974531', 'SNP_A-1974532', 'SNP_A-1974533', 'SNP_A-1974538\n",
      "1000 input query terms found no hit:\t['SNP_A-1977974', 'SNP_A-1977975', 'SNP_A-1977976', 'SNP_A-1977982', 'SNP_A-1977985', 'SNP_A-1977986\n",
      "1000 input query terms found no hit:\t['SNP_A-1981715', 'SNP_A-1981716', 'SNP_A-1981721', 'SNP_A-1981727', 'SNP_A-1981729', 'SNP_A-1981731\n",
      "1000 input query terms found no hit:\t['SNP_A-1984644', 'SNP_A-1984645', 'SNP_A-1984648', 'SNP_A-1984649', 'SNP_A-1984650', 'SNP_A-1984652\n",
      "1000 input query terms found no hit:\t['SNP_A-1987821', 'SNP_A-1987824', 'SNP_A-1987828', 'SNP_A-1987829', 'SNP_A-1987832', 'SNP_A-1987833\n",
      "1000 input query terms found no hit:\t['SNP_A-1991104', 'SNP_A-1991105', 'SNP_A-1991109', 'SNP_A-1991110', 'SNP_A-1991114', 'SNP_A-1991115\n",
      "1000 input query terms found no hit:\t['SNP_A-1994475', 'SNP_A-1994488', 'SNP_A-1994492', 'SNP_A-1994493', 'SNP_A-1994500', 'SNP_A-1994504\n",
      "1000 input query terms found no hit:\t['SNP_A-1997739', 'SNP_A-1997740', 'SNP_A-1997742', 'SNP_A-1997743', 'SNP_A-1997744', 'SNP_A-1997746\n",
      "1000 input query terms found no hit:\t['SNP_A-2001054', 'SNP_A-2001059', 'SNP_A-2001063', 'SNP_A-2001065', 'SNP_A-2001068', 'SNP_A-2001069\n",
      "1000 input query terms found no hit:\t['SNP_A-2004118', 'SNP_A-2004126', 'SNP_A-2004129', 'SNP_A-2004140', 'SNP_A-2004143', 'SNP_A-2004144\n",
      "1000 input query terms found no hit:\t['SNP_A-2007071', 'SNP_A-2007076', 'SNP_A-2007077', 'SNP_A-2007080', 'SNP_A-2007083', 'SNP_A-2007086\n",
      "1000 input query terms found no hit:\t['SNP_A-2010286', 'SNP_A-2010297', 'SNP_A-2010299', 'SNP_A-2010303', 'SNP_A-2010316', 'SNP_A-2010317\n",
      "1000 input query terms found no hit:\t['SNP_A-2013671', 'SNP_A-2013672', 'SNP_A-2013676', 'SNP_A-2013677', 'SNP_A-2013689', 'SNP_A-2013690\n",
      "1000 input query terms found no hit:\t['SNP_A-2017461', 'SNP_A-2017466', 'SNP_A-2017476', 'SNP_A-2017482', 'SNP_A-2017483', 'SNP_A-2017484\n",
      "1000 input query terms found no hit:\t['SNP_A-2020410', 'SNP_A-2020411', 'SNP_A-2020412', 'SNP_A-2020414', 'SNP_A-2020417', 'SNP_A-2020419\n",
      "1000 input query terms found no hit:\t['SNP_A-2023684', 'SNP_A-2023686', 'SNP_A-2023689', 'SNP_A-2023691', 'SNP_A-2023695', 'SNP_A-2023698\n",
      "1000 input query terms found no hit:\t['SNP_A-2027302', 'SNP_A-2027312', 'SNP_A-2027313', 'SNP_A-2027326', 'SNP_A-2027330', 'SNP_A-2027332\n",
      "1000 input query terms found no hit:\t['SNP_A-2030813', 'SNP_A-2030815', 'SNP_A-2030816', 'SNP_A-2030817', 'SNP_A-2030818', 'SNP_A-2030819\n",
      "1000 input query terms found no hit:\t['SNP_A-2034149', 'SNP_A-2034152', 'SNP_A-2034154', 'SNP_A-2034159', 'SNP_A-2034160', 'SNP_A-2034166\n",
      "1000 input query terms found no hit:\t['SNP_A-2037639', 'SNP_A-2037641', 'SNP_A-2037642', 'SNP_A-2037644', 'SNP_A-2037646', 'SNP_A-2037654\n",
      "1000 input query terms found no hit:\t['SNP_A-2040817', 'SNP_A-2040821', 'SNP_A-2040825', 'SNP_A-2040826', 'SNP_A-2040828', 'SNP_A-2040831\n",
      "1000 input query terms found no hit:\t['SNP_A-2044003', 'SNP_A-2044004', 'SNP_A-2044008', 'SNP_A-2044011', 'SNP_A-2044013', 'SNP_A-2044014\n",
      "1000 input query terms found no hit:\t['SNP_A-2047367', 'SNP_A-2047370', 'SNP_A-2047372', 'SNP_A-2047373', 'SNP_A-2047374', 'SNP_A-2047379\n",
      "1000 input query terms found no hit:\t['SNP_A-2050642', 'SNP_A-2050645', 'SNP_A-2050646', 'SNP_A-2050649', 'SNP_A-2050650', 'SNP_A-2050653\n",
      "1000 input query terms found no hit:\t['SNP_A-2053819', 'SNP_A-2053820', 'SNP_A-2053821', 'SNP_A-2053822', 'SNP_A-2053824', 'SNP_A-2053833\n",
      "1000 input query terms found no hit:\t['SNP_A-2057292', 'SNP_A-2057293', 'SNP_A-2057297', 'SNP_A-2057301', 'SNP_A-2057304', 'SNP_A-2057305\n",
      "1000 input query terms found no hit:\t['SNP_A-2060669', 'SNP_A-2060672', 'SNP_A-2060674', 'SNP_A-2060679', 'SNP_A-2060681', 'SNP_A-2060683\n",
      "1000 input query terms found no hit:\t['SNP_A-2063927', 'SNP_A-2063928', 'SNP_A-2063931', 'SNP_A-2063934', 'SNP_A-2063940', 'SNP_A-2063941\n",
      "1000 input query terms found no hit:\t['SNP_A-2067552', 'SNP_A-2067554', 'SNP_A-2067564', 'SNP_A-2067566', 'SNP_A-2067567', 'SNP_A-2067574\n",
      "1000 input query terms found no hit:\t['SNP_A-2070642', 'SNP_A-2070643', 'SNP_A-2070647', 'SNP_A-2070648', 'SNP_A-2070652', 'SNP_A-2070653\n",
      "1000 input query terms found no hit:\t['SNP_A-2073842', 'SNP_A-2073843', 'SNP_A-2073849', 'SNP_A-2073850', 'SNP_A-2073854', 'SNP_A-2073860\n",
      "1000 input query terms found no hit:\t['SNP_A-2076843', 'SNP_A-2076847', 'SNP_A-2076848', 'SNP_A-2076849', 'SNP_A-2076850', 'SNP_A-2076853\n",
      "1000 input query terms found no hit:\t['SNP_A-2079840', 'SNP_A-2079845', 'SNP_A-2079849', 'SNP_A-2079850', 'SNP_A-2079855', 'SNP_A-2079857\n",
      "1000 input query terms found no hit:\t['SNP_A-2082938', 'SNP_A-2082941', 'SNP_A-2082946', 'SNP_A-2082948', 'SNP_A-2082949', 'SNP_A-2082950\n",
      "1000 input query terms found no hit:\t['SNP_A-2086139', 'SNP_A-2086141', 'SNP_A-2086143', 'SNP_A-2086145', 'SNP_A-2086149', 'SNP_A-2086152\n",
      "1000 input query terms found no hit:\t['SNP_A-2089153', 'SNP_A-2089156', 'SNP_A-2089158', 'SNP_A-2089160', 'SNP_A-2089162', 'SNP_A-2089165\n",
      "1000 input query terms found no hit:\t['SNP_A-2092542', 'SNP_A-2092543', 'SNP_A-2092544', 'SNP_A-2092545', 'SNP_A-2092547', 'SNP_A-2092549\n",
      "1000 input query terms found no hit:\t['SNP_A-2095725', 'SNP_A-2095726', 'SNP_A-2095727', 'SNP_A-2095729', 'SNP_A-2095736', 'SNP_A-2095737\n",
      "1000 input query terms found no hit:\t['SNP_A-2098560', 'SNP_A-2098563', 'SNP_A-2098565', 'SNP_A-2098566', 'SNP_A-2098569', 'SNP_A-2098573\n",
      "1000 input query terms found no hit:\t['SNP_A-2101546', 'SNP_A-2101547', 'SNP_A-2101549', 'SNP_A-2101553', 'SNP_A-2101555', 'SNP_A-2101558\n",
      "1000 input query terms found no hit:\t['SNP_A-2104629', 'SNP_A-2104634', 'SNP_A-2104640', 'SNP_A-2104641', 'SNP_A-2104654', 'SNP_A-2104656\n",
      "1000 input query terms found no hit:\t['SNP_A-2107606', 'SNP_A-2107607', 'SNP_A-2107613', 'SNP_A-2107618', 'SNP_A-2107622', 'SNP_A-2107628\n",
      "1000 input query terms found no hit:\t['SNP_A-2110584', 'SNP_A-2110585', 'SNP_A-2110589', 'SNP_A-2110591', 'SNP_A-2110605', 'SNP_A-2110606\n",
      "1000 input query terms found no hit:\t['SNP_A-2113407', 'SNP_A-2113410', 'SNP_A-2113412', 'SNP_A-2113413', 'SNP_A-2113414', 'SNP_A-2113420\n",
      "1000 input query terms found no hit:\t['SNP_A-2116332', 'SNP_A-2116333', 'SNP_A-2116334', 'SNP_A-2116336', 'SNP_A-2116337', 'SNP_A-2116338\n",
      "1000 input query terms found no hit:\t['SNP_A-2119227', 'SNP_A-2119228', 'SNP_A-2119230', 'SNP_A-2119232', 'SNP_A-2119235', 'SNP_A-2119237\n",
      "1000 input query terms found no hit:\t['SNP_A-2122455', 'SNP_A-2122457', 'SNP_A-2122458', 'SNP_A-2122466', 'SNP_A-2122474', 'SNP_A-2122477\n",
      "1000 input query terms found no hit:\t['SNP_A-2125533', 'SNP_A-2125535', 'SNP_A-2125537', 'SNP_A-2125538', 'SNP_A-2125545', 'SNP_A-2125548\n",
      "1000 input query terms found no hit:\t['SNP_A-2129017', 'SNP_A-2129019', 'SNP_A-2129024', 'SNP_A-2129028', 'SNP_A-2129032', 'SNP_A-2129039\n",
      "1000 input query terms found no hit:\t['SNP_A-2132312', 'SNP_A-2132314', 'SNP_A-2132315', 'SNP_A-2132317', 'SNP_A-2132320', 'SNP_A-2132321\n",
      "1000 input query terms found no hit:\t['SNP_A-2135890', 'SNP_A-2135892', 'SNP_A-2135893', 'SNP_A-2135894', 'SNP_A-2135897', 'SNP_A-2135901\n",
      "1000 input query terms found no hit:\t['SNP_A-2139091', 'SNP_A-2139097', 'SNP_A-2139102', 'SNP_A-2139118', 'SNP_A-2139121', 'SNP_A-2139122\n",
      "1000 input query terms found no hit:\t['SNP_A-2142256', 'SNP_A-2142259', 'SNP_A-2142264', 'SNP_A-2142265', 'SNP_A-2142267', 'SNP_A-2142270\n",
      "1000 input query terms found no hit:\t['SNP_A-2145422', 'SNP_A-2145429', 'SNP_A-2145432', 'SNP_A-2145435', 'SNP_A-2145436', 'SNP_A-2145439\n",
      "1000 input query terms found no hit:\t['SNP_A-2148453', 'SNP_A-2148460', 'SNP_A-2148461', 'SNP_A-2148466', 'SNP_A-2148470', 'SNP_A-2148472\n",
      "1000 input query terms found no hit:\t['SNP_A-2151738', 'SNP_A-2151741', 'SNP_A-2151745', 'SNP_A-2151750', 'SNP_A-2151751', 'SNP_A-2151754\n",
      "1000 input query terms found no hit:\t['SNP_A-2155226', 'SNP_A-2155227', 'SNP_A-2155229', 'SNP_A-2155230', 'SNP_A-2155231', 'SNP_A-2155232\n",
      "1000 input query terms found no hit:\t['SNP_A-2158521', 'SNP_A-2158524', 'SNP_A-2158526', 'SNP_A-2158531', 'SNP_A-2158535', 'SNP_A-2158537\n",
      "1000 input query terms found no hit:\t['SNP_A-2161764', 'SNP_A-2161767', 'SNP_A-2161770', 'SNP_A-2161773', 'SNP_A-2161780', 'SNP_A-2161782\n",
      "1000 input query terms found no hit:\t['SNP_A-2165178', 'SNP_A-2165179', 'SNP_A-2165182', 'SNP_A-2165186', 'SNP_A-2165188', 'SNP_A-2165190\n",
      "1000 input query terms found no hit:\t['SNP_A-2168329', 'SNP_A-2168330', 'SNP_A-2168331', 'SNP_A-2168332', 'SNP_A-2168335', 'SNP_A-2168336\n",
      "1000 input query terms found no hit:\t['SNP_A-2171313', 'SNP_A-2171316', 'SNP_A-2171317', 'SNP_A-2171321', 'SNP_A-2171323', 'SNP_A-2171325\n",
      "1000 input query terms found no hit:\t['SNP_A-2174498', 'SNP_A-2174499', 'SNP_A-2174504', 'SNP_A-2174511', 'SNP_A-2174513', 'SNP_A-2174517\n",
      "1000 input query terms found no hit:\t['SNP_A-2177337', 'SNP_A-2177342', 'SNP_A-2177344', 'SNP_A-2177347', 'SNP_A-2177349', 'SNP_A-2177351\n",
      "1000 input query terms found no hit:\t['SNP_A-2180360', 'SNP_A-2180362', 'SNP_A-2180364', 'SNP_A-2180365', 'SNP_A-2180371', 'SNP_A-2180374\n",
      "1000 input query terms found no hit:\t['SNP_A-2183495', 'SNP_A-2183498', 'SNP_A-2183503', 'SNP_A-2183508', 'SNP_A-2183509', 'SNP_A-2183515\n",
      "1000 input query terms found no hit:\t['SNP_A-2186457', 'SNP_A-2186460', 'SNP_A-2186464', 'SNP_A-2186470', 'SNP_A-2186481', 'SNP_A-2186485\n",
      "1000 input query terms found no hit:\t['SNP_A-2189446', 'SNP_A-2189447', 'SNP_A-2189449', 'SNP_A-2189453', 'SNP_A-2189455', 'SNP_A-2189456\n",
      "1000 input query terms found no hit:\t['SNP_A-2192825', 'SNP_A-2192832', 'SNP_A-2192833', 'SNP_A-2192837', 'SNP_A-2192840', 'SNP_A-2192841\n",
      "1000 input query terms found no hit:\t['SNP_A-2195742', 'SNP_A-2195745', 'SNP_A-2195747', 'SNP_A-2195749', 'SNP_A-2195759', 'SNP_A-2195760\n",
      "1000 input query terms found no hit:\t['SNP_A-2199101', 'SNP_A-2199107', 'SNP_A-2199108', 'SNP_A-2199112', 'SNP_A-2199114', 'SNP_A-2199115\n",
      "1000 input query terms found no hit:\t['SNP_A-2202334', 'SNP_A-2202338', 'SNP_A-2202341', 'SNP_A-2202343', 'SNP_A-2202346', 'SNP_A-2202348\n",
      "1000 input query terms found no hit:\t['SNP_A-2205194', 'SNP_A-2205199', 'SNP_A-2205200', 'SNP_A-2205201', 'SNP_A-2205206', 'SNP_A-2205207\n",
      "1000 input query terms found no hit:\t['SNP_A-2208346', 'SNP_A-2208354', 'SNP_A-2208355', 'SNP_A-2208356', 'SNP_A-2208357', 'SNP_A-2208358\n",
      "1000 input query terms found no hit:\t['SNP_A-2211486', 'SNP_A-2211487', 'SNP_A-2211497', 'SNP_A-2211499', 'SNP_A-2211500', 'SNP_A-2211507\n",
      "1000 input query terms found no hit:\t['SNP_A-2214455', 'SNP_A-2214459', 'SNP_A-2214460', 'SNP_A-2214461', 'SNP_A-2214463', 'SNP_A-2214464\n",
      "1000 input query terms found no hit:\t['SNP_A-2217478', 'SNP_A-2217481', 'SNP_A-2217488', 'SNP_A-2217494', 'SNP_A-2217498', 'SNP_A-2217499\n",
      "1000 input query terms found no hit:\t['SNP_A-2220402', 'SNP_A-2220403', 'SNP_A-2220404', 'SNP_A-2220407', 'SNP_A-2220408', 'SNP_A-2220411\n",
      "1000 input query terms found no hit:\t['SNP_A-2223380', 'SNP_A-2223384', 'SNP_A-2223388', 'SNP_A-2223391', 'SNP_A-2223393', 'SNP_A-2223395\n",
      "1000 input query terms found no hit:\t['SNP_A-2226413', 'SNP_A-2226416', 'SNP_A-2226417', 'SNP_A-2226418', 'SNP_A-2226421', 'SNP_A-2226422\n",
      "1000 input query terms found no hit:\t['SNP_A-2229423', 'SNP_A-2229426', 'SNP_A-2229430', 'SNP_A-2229432', 'SNP_A-2229433', 'SNP_A-2229436\n",
      "1000 input query terms found no hit:\t['SNP_A-2232607', 'SNP_A-2232610', 'SNP_A-2232613', 'SNP_A-2232615', 'SNP_A-2232618', 'SNP_A-2232620\n",
      "1000 input query terms found no hit:\t['SNP_A-2235503', 'SNP_A-2235504', 'SNP_A-2235507', 'SNP_A-2235513', 'SNP_A-2235518', 'SNP_A-2235519\n",
      "1000 input query terms found no hit:\t['SNP_A-2238591', 'SNP_A-2238593', 'SNP_A-2238599', 'SNP_A-2238604', 'SNP_A-2238605', 'SNP_A-2238606\n",
      "1000 input query terms found no hit:\t['SNP_A-2241571', 'SNP_A-2241573', 'SNP_A-2241584', 'SNP_A-2241592', 'SNP_A-2241594', 'SNP_A-2241602\n",
      "1000 input query terms found no hit:\t['SNP_A-2244550', 'SNP_A-2244557', 'SNP_A-2244563', 'SNP_A-2244567', 'SNP_A-2244570', 'SNP_A-2244575\n",
      "1000 input query terms found no hit:\t['SNP_A-2247433', 'SNP_A-2247434', 'SNP_A-2247435', 'SNP_A-2247438', 'SNP_A-2247441', 'SNP_A-2247445\n",
      "1000 input query terms found no hit:\t['SNP_A-2250384', 'SNP_A-2250385', 'SNP_A-2250388', 'SNP_A-2250390', 'SNP_A-2250396', 'SNP_A-2250398\n",
      "1000 input query terms found no hit:\t['SNP_A-2253416', 'SNP_A-2253419', 'SNP_A-2253420', 'SNP_A-2253425', 'SNP_A-2253428', 'SNP_A-2253433\n",
      "1000 input query terms found no hit:\t['SNP_A-2256291', 'SNP_A-2256297', 'SNP_A-2256299', 'SNP_A-2256302', 'SNP_A-2256311', 'SNP_A-2256319\n",
      "1000 input query terms found no hit:\t['SNP_A-2259561', 'SNP_A-2259562', 'SNP_A-2259563', 'SNP_A-2259570', 'SNP_A-2259571', 'SNP_A-2259573\n",
      "1000 input query terms found no hit:\t['SNP_A-2262806', 'SNP_A-2262814', 'SNP_A-2262819', 'SNP_A-2262822', 'SNP_A-2262824', 'SNP_A-2262827\n",
      "1000 input query terms found no hit:\t['SNP_A-2265894', 'SNP_A-2265898', 'SNP_A-2265899', 'SNP_A-2265900', 'SNP_A-2265904', 'SNP_A-2265912\n",
      "1000 input query terms found no hit:\t['SNP_A-2269092', 'SNP_A-2269093', 'SNP_A-2269094', 'SNP_A-2269101', 'SNP_A-2269103', 'SNP_A-2269104\n",
      "1000 input query terms found no hit:\t['SNP_A-2272062', 'SNP_A-2272063', 'SNP_A-2272066', 'SNP_A-2272067', 'SNP_A-2272068', 'SNP_A-2272070\n",
      "1000 input query terms found no hit:\t['SNP_A-2274892', 'SNP_A-2274895', 'SNP_A-2274898', 'SNP_A-2274900', 'SNP_A-2274901', 'SNP_A-2274902\n",
      "1000 input query terms found no hit:\t['SNP_A-2277831', 'SNP_A-2277833', 'SNP_A-2277840', 'SNP_A-2277843', 'SNP_A-2277844', 'SNP_A-2277845\n",
      "1000 input query terms found no hit:\t['SNP_A-2280747', 'SNP_A-2280749', 'SNP_A-2280751', 'SNP_A-2280752', 'SNP_A-2280754', 'SNP_A-2280755\n",
      "1000 input query terms found no hit:\t['SNP_A-2283750', 'SNP_A-2283754', 'SNP_A-2283755', 'SNP_A-2283757', 'SNP_A-2283758', 'SNP_A-2283761\n",
      "1000 input query terms found no hit:\t['SNP_A-2286866', 'SNP_A-2286872', 'SNP_A-2286875', 'SNP_A-2286877', 'SNP_A-2286885', 'SNP_A-2286888\n",
      "1000 input query terms found no hit:\t['SNP_A-2290029', 'SNP_A-2290038', 'SNP_A-2290040', 'SNP_A-2290041', 'SNP_A-2290042', 'SNP_A-2290043\n",
      "1000 input query terms found no hit:\t['SNP_A-2293076', 'SNP_A-2293078', 'SNP_A-2293083', 'SNP_A-2293084', 'SNP_A-2293097', 'SNP_A-2293099\n",
      "1000 input query terms found no hit:\t['SNP_A-2295964', 'SNP_A-2295966', 'SNP_A-2295968', 'SNP_A-2295969', 'SNP_A-2295970', 'SNP_A-2295972\n",
      "1000 input query terms found no hit:\t['SNP_A-2298909', 'SNP_A-2298910', 'SNP_A-2298911', 'SNP_A-2298913', 'SNP_A-2298915', 'SNP_A-2298919\n",
      "1000 input query terms found no hit:\t['SNP_A-2301761', 'SNP_A-2301764', 'SNP_A-2301768', 'SNP_A-2301770', 'SNP_A-2301774', 'SNP_A-2301775\n",
      "1000 input query terms found no hit:\t['SNP_A-2304628', 'SNP_A-2304631', 'SNP_A-2304632', 'SNP_A-2304633', 'SNP_A-2304637', 'SNP_A-2304639\n",
      "1000 input query terms found no hit:\t['SNP_A-2307462', 'SNP_A-2307465', 'SNP_A-2307468', 'SNP_A-2307469', 'SNP_A-2307479', 'SNP_A-2307481\n",
      "1000 input query terms found no hit:\t['SNP_A-2310380', 'SNP_A-2310384', 'SNP_A-2310385', 'SNP_A-2310386', 'SNP_A-2310397', 'SNP_A-2310402\n",
      "1000 input query terms found no hit:\t['SNP_A-2313388', 'SNP_A-2313390', 'SNP_A-2313393', 'SNP_A-2313395', 'SNP_A-2313396', 'SNP_A-2313400\n",
      "1000 input query terms found no hit:\t['SNP_A-4241626', 'SNP_A-4241627', 'SNP_A-4241628', 'SNP_A-4241629', 'SNP_A-4241630', 'SNP_A-4241631\n",
      "1000 input query terms found no hit:\t['SNP_A-4242776', 'SNP_A-4242777', 'SNP_A-4242778', 'SNP_A-4242780', 'SNP_A-4242782', 'SNP_A-4242783\n",
      "1000 input query terms found no hit:\t['SNP_A-4243880', 'SNP_A-4243881', 'SNP_A-4243883', 'SNP_A-4243884', 'SNP_A-4243885', 'SNP_A-4243887\n",
      "1000 input query terms found no hit:\t['SNP_A-4244985', 'SNP_A-4244986', 'SNP_A-4244987', 'SNP_A-4244988', 'SNP_A-4244990', 'SNP_A-4244991\n",
      "1000 input query terms found no hit:\t['SNP_A-4246094', 'SNP_A-4246095', 'SNP_A-4246096', 'SNP_A-4246097', 'SNP_A-4246098', 'SNP_A-4246099\n",
      "1000 input query terms found no hit:\t['SNP_A-4247196', 'SNP_A-4247197', 'SNP_A-4247198', 'SNP_A-4247199', 'SNP_A-4247200', 'SNP_A-4247201\n",
      "1000 input query terms found no hit:\t['SNP_A-4248295', 'SNP_A-4248296', 'SNP_A-4248297', 'SNP_A-4248298', 'SNP_A-4248299', 'SNP_A-4248300\n",
      "1000 input query terms found no hit:\t['SNP_A-4249376', 'SNP_A-4249377', 'SNP_A-4249378', 'SNP_A-4249379', 'SNP_A-4249380', 'SNP_A-4249381\n",
      "1000 input query terms found no hit:\t['SNP_A-4250479', 'SNP_A-4250480', 'SNP_A-4250481', 'SNP_A-4250482', 'SNP_A-4250483', 'SNP_A-4250484\n",
      "1000 input query terms found no hit:\t['SNP_A-4251585', 'SNP_A-4251586', 'SNP_A-4251587', 'SNP_A-4251588', 'SNP_A-4251590', 'SNP_A-4251591\n",
      "1000 input query terms found no hit:\t['SNP_A-4252694', 'SNP_A-4252695', 'SNP_A-4252696', 'SNP_A-4252697', 'SNP_A-4252698', 'SNP_A-4252699\n",
      "1000 input query terms found no hit:\t['SNP_A-4253793', 'SNP_A-4253795', 'SNP_A-4253796', 'SNP_A-4253797', 'SNP_A-4253798', 'SNP_A-4253799\n",
      "1000 input query terms found no hit:\t['SNP_A-4254879', 'SNP_A-4254880', 'SNP_A-4254881', 'SNP_A-4254882', 'SNP_A-4254883', 'SNP_A-4254884\n",
      "1000 input query terms found no hit:\t['SNP_A-4255967', 'SNP_A-4255969', 'SNP_A-4255970', 'SNP_A-4255971', 'SNP_A-4255972', 'SNP_A-4255973\n",
      "1000 input query terms found no hit:\t['SNP_A-4257068', 'SNP_A-4257070', 'SNP_A-4257071', 'SNP_A-4257072', 'SNP_A-4257073', 'SNP_A-4257074\n",
      "1000 input query terms found no hit:\t['SNP_A-4258177', 'SNP_A-4258178', 'SNP_A-4258179', 'SNP_A-4258180', 'SNP_A-4258181', 'SNP_A-4258182\n",
      "1000 input query terms found no hit:\t['SNP_A-4259265', 'SNP_A-4259266', 'SNP_A-4259267', 'SNP_A-4259268', 'SNP_A-4259269', 'SNP_A-4259270\n",
      "1000 input query terms found no hit:\t['SNP_A-4260356', 'SNP_A-4260357', 'SNP_A-4260359', 'SNP_A-4260361', 'SNP_A-4260362', 'SNP_A-4260363\n",
      "1000 input query terms found no hit:\t['SNP_A-4261453', 'SNP_A-4261454', 'SNP_A-4261455', 'SNP_A-4261456', 'SNP_A-4261457', 'SNP_A-4261458\n",
      "1000 input query terms found no hit:\t['SNP_A-4262507', 'SNP_A-4262508', 'SNP_A-4262509', 'SNP_A-4262510', 'SNP_A-4262511', 'SNP_A-4262512\n",
      "1000 input query terms found no hit:\t['SNP_A-4263577', 'SNP_A-4263578', 'SNP_A-4263579', 'SNP_A-4263580', 'SNP_A-4263581', 'SNP_A-4263582\n",
      "1000 input query terms found no hit:\t['SNP_A-4264614', 'SNP_A-4264615', 'SNP_A-4264616', 'SNP_A-4264617', 'SNP_A-4264618', 'SNP_A-4264619\n",
      "1000 input query terms found no hit:\t['SNP_A-4265690', 'SNP_A-4265691', 'SNP_A-4265692', 'SNP_A-4265693', 'SNP_A-4265694', 'SNP_A-4265695\n",
      "1000 input query terms found no hit:\t['SNP_A-4266764', 'SNP_A-4266765', 'SNP_A-4266766', 'SNP_A-4266767', 'SNP_A-4266769', 'SNP_A-4266770\n",
      "1000 input query terms found no hit:\t['SNP_A-4267819', 'SNP_A-4267820', 'SNP_A-4267821', 'SNP_A-4267822', 'SNP_A-4267823', 'SNP_A-4267824\n",
      "1000 input query terms found no hit:\t['SNP_A-4268910', 'SNP_A-4268911', 'SNP_A-4268912', 'SNP_A-4268913', 'SNP_A-4268914', 'SNP_A-4268915\n",
      "1000 input query terms found no hit:\t['SNP_A-4269986', 'SNP_A-4269987', 'SNP_A-4269988', 'SNP_A-4269989', 'SNP_A-4269991', 'SNP_A-4269992\n",
      "1000 input query terms found no hit:\t['SNP_A-4271066', 'SNP_A-4271067', 'SNP_A-4271069', 'SNP_A-4271070', 'SNP_A-4271071', 'SNP_A-4271072\n",
      "1000 input query terms found no hit:\t['SNP_A-4272167', 'SNP_A-4272168', 'SNP_A-4272169', 'SNP_A-4272170', 'SNP_A-4272171', 'SNP_A-4272172\n",
      "1000 input query terms found no hit:\t['SNP_A-4273263', 'SNP_A-4273264', 'SNP_A-4273265', 'SNP_A-4273266', 'SNP_A-4273267', 'SNP_A-4273268\n",
      "1000 input query terms found no hit:\t['SNP_A-4274367', 'SNP_A-4274368', 'SNP_A-4274369', 'SNP_A-4274370', 'SNP_A-4274372', 'SNP_A-4274373\n",
      "1000 input query terms found no hit:\t['SNP_A-4275455', 'SNP_A-4275456', 'SNP_A-4275457', 'SNP_A-4275458', 'SNP_A-4275459', 'SNP_A-4275460\n",
      "1000 input query terms found no hit:\t['SNP_A-4276545', 'SNP_A-4276546', 'SNP_A-4276548', 'SNP_A-4276549', 'SNP_A-4276550', 'SNP_A-4276551\n",
      "1000 input query terms found no hit:\t['SNP_A-4277639', 'SNP_A-4277640', 'SNP_A-4277642', 'SNP_A-4277643', 'SNP_A-4277644', 'SNP_A-4277645\n",
      "1000 input query terms found no hit:\t['SNP_A-4278746', 'SNP_A-4278747', 'SNP_A-4278748', 'SNP_A-4278749', 'SNP_A-4278750', 'SNP_A-4278751\n",
      "1000 input query terms found no hit:\t['SNP_A-4279835', 'SNP_A-4279836', 'SNP_A-4279837', 'SNP_A-4279838', 'SNP_A-4279840', 'SNP_A-4279841\n",
      "1000 input query terms found no hit:\t['SNP_A-4280922', 'SNP_A-4280923', 'SNP_A-4280924', 'SNP_A-4280925', 'SNP_A-4280926', 'SNP_A-4280927\n",
      "1000 input query terms found no hit:\t['SNP_A-4282032', 'SNP_A-4282033', 'SNP_A-4282034', 'SNP_A-4282035', 'SNP_A-4282036', 'SNP_A-4282037\n",
      "1000 input query terms found no hit:\t['SNP_A-4283132', 'SNP_A-4283133', 'SNP_A-4283134', 'SNP_A-4283136', 'SNP_A-4283137', 'SNP_A-4283138\n",
      "1000 input query terms found no hit:\t['SNP_A-4284232', 'SNP_A-4284233', 'SNP_A-4284234', 'SNP_A-4284235', 'SNP_A-4284236', 'SNP_A-4284238\n",
      "1000 input query terms found no hit:\t['SNP_A-4285325', 'SNP_A-4285326', 'SNP_A-4285327', 'SNP_A-4285328', 'SNP_A-4285330', 'SNP_A-4285331\n",
      "1000 input query terms found no hit:\t['SNP_A-4286415', 'SNP_A-4286416', 'SNP_A-4286418', 'SNP_A-4286419', 'SNP_A-4286421', 'SNP_A-4286422\n",
      "1000 input query terms found no hit:\t['SNP_A-4287525', 'SNP_A-4287526', 'SNP_A-4287527', 'SNP_A-4287528', 'SNP_A-4287529', 'SNP_A-4287530\n",
      "1000 input query terms found no hit:\t['SNP_A-4288622', 'SNP_A-4288623', 'SNP_A-4288624', 'SNP_A-4288625', 'SNP_A-4288626', 'SNP_A-4288628\n",
      "1000 input query terms found no hit:\t['SNP_A-4289730', 'SNP_A-4289731', 'SNP_A-4289732', 'SNP_A-4289733', 'SNP_A-4289734', 'SNP_A-4289735\n",
      "1000 input query terms found no hit:\t['SNP_A-4290823', 'SNP_A-4290824', 'SNP_A-4290825', 'SNP_A-4290826', 'SNP_A-4290827', 'SNP_A-4290828\n",
      "1000 input query terms found no hit:\t['SNP_A-4291917', 'SNP_A-4291919', 'SNP_A-4291920', 'SNP_A-4291921', 'SNP_A-4291923', 'SNP_A-4291924\n",
      "1000 input query terms found no hit:\t['SNP_A-4293015', 'SNP_A-4293016', 'SNP_A-4293017', 'SNP_A-4293018', 'SNP_A-4293019', 'SNP_A-4293020\n",
      "1000 input query terms found no hit:\t['SNP_A-4294130', 'SNP_A-4294131', 'SNP_A-4294132', 'SNP_A-4294133', 'SNP_A-4294134', 'SNP_A-4294135\n",
      "1000 input query terms found no hit:\t['SNP_A-4295245', 'SNP_A-4295246', 'SNP_A-4295247', 'SNP_A-4295248', 'SNP_A-4295249', 'SNP_A-4295250\n",
      "1000 input query terms found no hit:\t['SNP_A-4296360', 'SNP_A-4296361', 'SNP_A-4296362', 'SNP_A-4296363', 'SNP_A-4296364', 'SNP_A-4296365\n",
      "1000 input query terms found no hit:\t['SNP_A-4297472', 'SNP_A-4297473', 'SNP_A-4297474', 'SNP_A-4297475', 'SNP_A-4297476', 'SNP_A-4297477\n",
      "1000 input query terms found no hit:\t['SNP_A-4298580', 'SNP_A-4298581', 'SNP_A-4298582', 'SNP_A-4298583', 'SNP_A-4298584', 'SNP_A-4298585\n",
      "1000 input query terms found no hit:\t['SNP_A-4299686', 'SNP_A-4299687', 'SNP_A-4299688', 'SNP_A-4299689', 'SNP_A-4299690', 'SNP_A-4299691\n",
      "1000 input query terms found no hit:\t['SNP_A-4300791', 'SNP_A-4300792', 'SNP_A-4300793', 'SNP_A-4300794', 'SNP_A-4300795', 'SNP_A-4300796\n",
      "1000 input query terms found no hit:\t['SNP_A-4301886', 'SNP_A-4301887', 'SNP_A-4301888', 'SNP_A-4301889', 'SNP_A-4301890', 'SNP_A-4301891\n",
      "1000 input query terms found no hit:\t['SNP_A-4302987', 'SNP_A-4302988', 'SNP_A-4302989', 'SNP_A-4302990', 'SNP_A-4302991', 'SNP_A-4302992\n",
      "727 input query terms found no hit:\t['SNP_A-4304093', 'SNP_A-4304094', 'SNP_A-4304095', 'SNP_A-4304096', 'SNP_A-4304097', 'SNP_A-4304098\n"
     ]
    }
   ],
   "source": [
    "if NORMALIZE_GENE:\n",
    "    genetic_data = normalize_gene_symbols_in_index(genetic_data)"
   ]
  },
  {
   "cell_type": "code",
   "execution_count": 46,
   "metadata": {
    "ExecuteTime": {
     "end_time": "2024-01-10T21:40:20.572778564Z",
     "start_time": "2024-01-10T21:40:20.565101065Z"
    },
    "collapsed": false
   },
   "outputs": [],
   "source": [
    "merged_data = geo_merge_clinical_genetic_data(selected_clinical_data, genetic_data)\n",
    "# The preprocessing runs through, which means is_available should be True\n",
    "is_available = True"
   ]
  },
  {
   "cell_type": "code",
   "execution_count": 47,
   "metadata": {
    "ExecuteTime": {
     "end_time": "2024-01-10T21:40:20.595385887Z",
     "start_time": "2024-01-10T21:40:20.574630883Z"
    },
    "collapsed": false
   },
   "outputs": [
    {
     "name": "stdout",
     "output_type": "stream",
     "text": [
      "The merged dataset contains 51 samples.\n"
     ]
    }
   ],
   "source": [
    "print(f\"The merged dataset contains {len(merged_data)} samples.\")"
   ]
  },
  {
   "cell_type": "code",
   "execution_count": 48,
   "metadata": {
    "ExecuteTime": {
     "end_time": "2024-01-10T21:40:20.595934649Z",
     "start_time": "2024-01-10T21:40:20.580408525Z"
    },
    "collapsed": false
   },
   "outputs": [
    {
     "name": "stdout",
     "output_type": "stream",
     "text": [
      "For the feature 'Paget_s-Disease-of-bone', the least common label is '1.0' with 4 occurrences. This represents 7.84% of the dataset.\n",
      "The distribution of the feature 'Paget_s-Disease-of-bone' in this dataset is severely biased.\n",
      "\n"
     ]
    },
    {
     "data": {
      "text/plain": [
       "True"
      ]
     },
     "execution_count": 48,
     "metadata": {},
     "output_type": "execute_result"
    }
   ],
   "source": [
    "is_trait_biased, merged_data = judge_and_remove_biased_features(merged_data, TRAIT, trait_type=trait_type)\n",
    "is_trait_biased"
   ]
  },
  {
   "cell_type": "code",
   "execution_count": 49,
   "metadata": {
    "ExecuteTime": {
     "end_time": "2024-01-10T21:40:20.596022151Z",
     "start_time": "2024-01-10T21:40:20.588443384Z"
    },
    "collapsed": false
   },
   "outputs": [],
   "source": [
    "if is_available:\n",
    "    save_cohort_info(cohort, JSON_PATH, is_available, is_trait_biased, merged_data, note='')\n",
    "else:\n",
    "    save_cohort_info(cohort, JSON_PATH, is_available)"
   ]
  },
  {
   "cell_type": "code",
   "execution_count": 50,
   "metadata": {
    "ExecuteTime": {
     "end_time": "2024-01-10T21:40:20.681345468Z",
     "start_time": "2024-01-10T21:40:20.591286171Z"
    },
    "collapsed": false
   },
   "outputs": [],
   "source": [
    "merged_data.head()\n",
    "if not is_trait_biased:\n",
    "    merged_data.to_csv(os.path.join(OUTPUT_DIR, cohort + '.csv'), index=False)"
   ]
  },
  {
   "cell_type": "markdown",
   "metadata": {
    "ExecuteTime": {
     "end_time": "2023-12-31T03:58:22.271683755Z",
     "start_time": "2023-12-31T03:58:22.246557674Z"
    },
    "id": "-MTPhRGxJV7I"
   },
   "source": [
    "### 3. Do regression & Cross Validation"
   ]
  },
  {
   "cell_type": "code",
   "execution_count": 51,
   "metadata": {
    "ExecuteTime": {
     "end_time": "2024-01-10T21:40:20.694597045Z",
     "start_time": "2024-01-10T21:40:20.642161512Z"
    },
    "collapsed": false
   },
   "outputs": [
    {
     "data": {
      "text/html": [
       "<div>\n",
       "<style scoped>\n",
       "    .dataframe tbody tr th:only-of-type {\n",
       "        vertical-align: middle;\n",
       "    }\n",
       "\n",
       "    .dataframe tbody tr th {\n",
       "        vertical-align: top;\n",
       "    }\n",
       "\n",
       "    .dataframe thead th {\n",
       "        text-align: right;\n",
       "    }\n",
       "</style>\n",
       "<table border=\"1\" class=\"dataframe\">\n",
       "  <thead>\n",
       "    <tr style=\"text-align: right;\">\n",
       "      <th></th>\n",
       "      <th>cohort_id</th>\n",
       "      <th>is_usable</th>\n",
       "      <th>is_available</th>\n",
       "      <th>is_biased</th>\n",
       "      <th>has_age</th>\n",
       "      <th>has_gender</th>\n",
       "      <th>sample_size</th>\n",
       "      <th>note</th>\n",
       "    </tr>\n",
       "  </thead>\n",
       "  <tbody>\n",
       "  </tbody>\n",
       "</table>\n",
       "</div>"
      ],
      "text/plain": [
       "Empty DataFrame\n",
       "Columns: [cohort_id, is_usable, is_available, is_biased, has_age, has_gender, sample_size, note]\n",
       "Index: []"
      ]
     },
     "execution_count": 51,
     "metadata": {},
     "output_type": "execute_result"
    }
   ],
   "source": [
    "# Check the information of usable cohorts\n",
    "best_cohort, ranked_df = filter_and_rank_cohorts(JSON_PATH)\n",
    "ranked_df"
   ]
  },
  {
   "cell_type": "code",
   "execution_count": 52,
   "metadata": {
    "ExecuteTime": {
     "end_time": "2024-01-10T21:40:20.907514912Z",
     "start_time": "2024-01-10T21:40:20.907178250Z"
    },
    "collapsed": false
   },
   "outputs": [],
   "source": [
    "# If both age and gender have available cohorts, select 'age' as the condition.\n",
    "condition = 'Age'\n",
    "filter_column = 'has_' + condition.lower()\n",
    "\n",
    "condition_best_cohort, condition_ranked_df = filter_and_rank_cohorts(JSON_PATH, filter_column)\n",
    "condition_best_cohort"
   ]
  },
  {
   "cell_type": "code",
   "execution_count": 53,
   "metadata": {
    "ExecuteTime": {
     "end_time": "2024-01-10T21:40:21.120075804Z",
     "start_time": "2024-01-10T21:40:21.109376558Z"
    },
    "collapsed": false
   },
   "outputs": [
    {
     "data": {
      "text/html": [
       "<div>\n",
       "<style scoped>\n",
       "    .dataframe tbody tr th:only-of-type {\n",
       "        vertical-align: middle;\n",
       "    }\n",
       "\n",
       "    .dataframe tbody tr th {\n",
       "        vertical-align: top;\n",
       "    }\n",
       "\n",
       "    .dataframe thead th {\n",
       "        text-align: right;\n",
       "    }\n",
       "</style>\n",
       "<table border=\"1\" class=\"dataframe\">\n",
       "  <thead>\n",
       "    <tr style=\"text-align: right;\">\n",
       "      <th></th>\n",
       "      <th>cohort_id</th>\n",
       "      <th>is_usable</th>\n",
       "      <th>is_available</th>\n",
       "      <th>is_biased</th>\n",
       "      <th>has_age</th>\n",
       "      <th>has_gender</th>\n",
       "      <th>sample_size</th>\n",
       "      <th>note</th>\n",
       "    </tr>\n",
       "  </thead>\n",
       "  <tbody>\n",
       "  </tbody>\n",
       "</table>\n",
       "</div>"
      ],
      "text/plain": [
       "Empty DataFrame\n",
       "Columns: [cohort_id, is_usable, is_available, is_biased, has_age, has_gender, sample_size, note]\n",
       "Index: []"
      ]
     },
     "execution_count": 53,
     "metadata": {},
     "output_type": "execute_result"
    }
   ],
   "source": [
    "condition_ranked_df.head()"
   ]
  }
 ],
 "metadata": {
  "colab": {
   "provenance": []
  },
  "kernelspec": {
   "display_name": "Python 3 (ipykernel)",
   "language": "python",
   "name": "python3"
  },
  "language_info": {
   "codemirror_mode": {
    "name": "ipython",
    "version": 3
   },
   "file_extension": ".py",
   "mimetype": "text/x-python",
   "name": "python",
   "nbconvert_exporter": "python",
   "pygments_lexer": "ipython3",
   "version": "3.10.6"
  }
 },
 "nbformat": 4,
 "nbformat_minor": 0
}
