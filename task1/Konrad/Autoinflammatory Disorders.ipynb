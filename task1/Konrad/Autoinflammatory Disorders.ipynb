{
 "cells": [
  {
   "cell_type": "markdown",
   "metadata": {
    "collapsed": false,
    "id": "8Q7_HywEiaDx"
   },
   "source": [
    "# Gold standard curation: Preprocessing and single-step regression"
   ]
  },
  {
   "cell_type": "markdown",
   "metadata": {
    "collapsed": false,
    "id": "pCI2xoVwiaDy"
   },
   "source": [
    "In this stage of gold standard curation, we will do the data preprocessing, selection, and single-step regression for the 153 traits in our question set. This file shows the reference steps using the trait \"Breast Cancer\" as an example. The workflow consists of the following steps:\n",
    "\n",
    "1. Preprocess all the cohorts related to this trait. Each cohort should be converted to a tabular form and saved to a csv file, with columns being genetic factors, the trait, and age, gender if available;\n",
    "2. If there exists at least one cohort with age or gender information, conduct regression analysis with genetic features together with age or gender as the regressors.\n"
   ]
  },
  {
   "cell_type": "code",
   "execution_count": 163,
   "metadata": {},
   "outputs": [
    {
     "name": "stdout",
     "output_type": "stream",
     "text": [
      "utils.py has been loaded\n"
     ]
    }
   ],
   "source": [
    "import os\n",
    "import io\n",
    "import pandas as pd\n",
    "import gzip\n",
    "import mygene\n",
    "import re\n",
    "import tempfile\n",
    "import shutil\n",
    "\n",
    "import seaborn as sns\n",
    "import matplotlib.pyplot as plt\n",
    "import numpy as np\n",
    "import json\n",
    "from typing import Callable, Optional, List, Tuple, Union, Any\n",
    "from sklearn.linear_model import LinearRegression, Lasso, LogisticRegression\n",
    "from sparse_lmm import VariableSelection\n",
    "from statsmodels.stats.multitest import multipletests\n",
    "from sklearn.metrics import accuracy_score, mean_squared_error\n",
    "\n",
    "print(\"utils.py has been loaded\")\n",
    "def geo_get_relevant_filepaths(cohort_dir):\n",
    "    \"\"\"Find the file paths of a SOFT file and a matrix file from the given data directory of a cohort.\n",
    "    If there are multiple SOFT files or matrix files, simply choose the first one. Used for the GEO dataset.\n",
    "    \"\"\"\n",
    "    files = os.listdir(cohort_dir)\n",
    "    soft_files = [f for f in files if 'soft' in f.lower()]\n",
    "    matrix_files = [f for f in files if 'matrix' in f.lower()]\n",
    "    assert len(soft_files) > 0 and len(matrix_files) > 0\n",
    "    soft_file_path = os.path.join(cohort_dir, soft_files[0])\n",
    "    matrix_file_path = os.path.join(cohort_dir, matrix_files[0])\n",
    "\n",
    "    return soft_file_path, matrix_file_path\n",
    "\n",
    "\n",
    "def xena_get_relevant_filepaths(cohort_dir):\n",
    "    \"\"\"Find the file paths of a clinical file and a genetic file from the given data directory of a cohort.\n",
    "    If there are multiple clinical or genetic data files, simply choose the first one. Used for the TCGA Xena dataset.\n",
    "    \"\"\"\n",
    "    files = os.listdir(cohort_dir)\n",
    "    clinical_files = [f for f in files if 'clinicalmatrix' in f.lower()]\n",
    "    genetic_files = [f for f in files if 'pancan' in f.lower()]\n",
    "    clinical_file_path = os.path.join(cohort_dir, clinical_files[0])\n",
    "    genetic_file_path = os.path.join(cohort_dir, genetic_files[0])\n",
    "    return clinical_file_path, genetic_file_path\n",
    "\n",
    "def line_generator(source, source_type):\n",
    "    \"\"\"Generator that yields lines from a file or a string.\n",
    "\n",
    "    Parameters:\n",
    "    - source: File path or string content.\n",
    "    - source_type: 'file' or 'string'.\n",
    "    \"\"\"\n",
    "    if source_type == 'file':\n",
    "        with gzip.open(source, 'rt') as f:\n",
    "            for line in f:\n",
    "                yield line.strip()\n",
    "    elif source_type == 'string':\n",
    "        for line in source.split('\\n'):\n",
    "            yield line.strip()\n",
    "    else:\n",
    "        raise ValueError(\"source_type must be 'file' or 'string'\")\n",
    "\n",
    "\n",
    "def filter_content_by_prefix(\n",
    "    source: str,\n",
    "    prefixes_a: List[str],\n",
    "    prefixes_b: Optional[List[str]] = None,\n",
    "    unselect: bool = False,\n",
    "    source_type: str = 'file',\n",
    "    return_df_a: bool = True,\n",
    "    return_df_b: bool = True\n",
    ") -> Tuple[Union[str, pd.DataFrame], Optional[Union[str, pd.DataFrame]]]:\n",
    "    \"\"\"\n",
    "    Filters rows from a file or a list of strings based on specified prefixes.\n",
    "\n",
    "    Parameters:\n",
    "    - source (str): File path or string content to filter.\n",
    "    - prefixes_a (List[str]): Primary list of prefixes to filter by.\n",
    "    - prefixes_b (Optional[List[str]]): Optional secondary list of prefixes to filter by.\n",
    "    - unselect (bool): If True, selects rows that do not start with the specified prefixes.\n",
    "    - source_type (str): 'file' if source is a file path, 'string' if source is a string of text.\n",
    "    - return_df_a (bool): If True, returns filtered content for prefixes_a as a pandas DataFrame.\n",
    "    - return_df_b (bool): If True, and if prefixes_b is provided, returns filtered content for prefixes_b as a pandas DataFrame.\n",
    "\n",
    "    Returns:\n",
    "    - Tuple: A tuple where the first element is the filtered content for prefixes_a, and the second element is the filtered content for prefixes_b.\n",
    "    \"\"\"\n",
    "    filtered_lines_a = []\n",
    "    filtered_lines_b = []\n",
    "    prefix_set_a = set(prefixes_a)\n",
    "    if prefixes_b is not None:\n",
    "        prefix_set_b = set(prefixes_b)\n",
    "\n",
    "    # Use generator to get lines\n",
    "    for line in line_generator(source, source_type):\n",
    "        matched_a = any(line.startswith(prefix) for prefix in prefix_set_a)\n",
    "        if matched_a != unselect:\n",
    "            filtered_lines_a.append(line)\n",
    "        if prefixes_b is not None:\n",
    "            matched_b = any(line.startswith(prefix) for prefix in prefix_set_b)\n",
    "            if matched_b != unselect:\n",
    "                filtered_lines_b.append(line)\n",
    "\n",
    "    filtered_content_a = '\\n'.join(filtered_lines_a)\n",
    "    if return_df_a:\n",
    "        filtered_content_a = pd.read_csv(io.StringIO(filtered_content_a), delimiter='\\t', low_memory=False, on_bad_lines='skip')\n",
    "    filtered_content_b = None\n",
    "    if filtered_lines_b:\n",
    "        filtered_content_b = '\\n'.join(filtered_lines_b)\n",
    "        if return_df_b:\n",
    "            filtered_content_b = pd.read_csv(io.StringIO(filtered_content_b), delimiter='\\t', low_memory=False, on_bad_lines='skip')\n",
    "\n",
    "    return filtered_content_a, filtered_content_b\n",
    "\n",
    "\n",
    "def get_background_and_clinical_data(file_path,\n",
    "                                     prefixes_a=['!Series_title', '!Series_summary', '!Series_overall_design'],\n",
    "                                     prefixes_b=['!Sample_geo_accession', '!Sample_characteristics_ch1']):\n",
    "    \"\"\"Extract from a matrix file the background information about the dataset, and sample characteristics data\"\"\"\n",
    "    background_info, clinical_data = filter_content_by_prefix(file_path, prefixes_a, prefixes_b, unselect=False,\n",
    "                                                              source_type='file',\n",
    "                                                              return_df_a=False, return_df_b=True)\n",
    "    return background_info, clinical_data\n",
    "\n",
    "\n",
    "def get_gene_annotation(file_path, prefixes=['^', '!', '#']):\n",
    "    \"\"\"Extract from a SOFT file the gene annotation data\"\"\"\n",
    "    gene_metadata = filter_content_by_prefix(file_path, prefixes_a=prefixes, unselect=True, source_type='file',\n",
    "                                             return_df_a=True)\n",
    "    return gene_metadata[0]\n",
    "\n",
    "\n",
    "def get_gene_mapping(annotation, prob_col, gene_col):\n",
    "    \"\"\"Process the gene annotation to get the mapping between gene names and gene probes.\n",
    "    \"\"\"\n",
    "    mapping_data = annotation.loc[:, [prob_col, gene_col]]\n",
    "    mapping_data = mapping_data.dropna()\n",
    "    mapping_data = mapping_data.rename(columns={gene_col: 'Gene'}).astype({'ID': 'str'})\n",
    "\n",
    "    return mapping_data\n",
    "\n",
    "\n",
    "def get_genetic_data(file_path):\n",
    "    \"\"\"Read the gene expression data into a dataframe, and adjust its format\"\"\"\n",
    "    genetic_data = pd.read_csv(file_path, compression='gzip', skiprows=52, comment='!', delimiter='\\t')\n",
    "    genetic_data = genetic_data.dropna()\n",
    "    genetic_data = genetic_data.rename(columns={'ID_REF': 'ID'}).astype({'ID': 'str'})\n",
    "    genetic_data.set_index('ID', inplace=True)\n",
    "\n",
    "    return genetic_data\n",
    "\n",
    "\n",
    "def apply_gene_mapping(expression_df, mapping_df):\n",
    "    \"\"\"\n",
    "    Converts measured data about gene probes into gene expression data.\n",
    "    Handles the potential many-to-many relationship between probes and genes.\n",
    "\n",
    "    Parameters:\n",
    "    expression_df (DataFrame): A DataFrame with gene expression data, indexed by 'ID'.\n",
    "    mapping_df (DataFrame): A DataFrame mapping 'ID' to 'Gene', with 'ID' as a column.\n",
    "\n",
    "    Returns:\n",
    "    DataFrame: A DataFrame with mean gene expression values, indexed by 'Gene'.\n",
    "    \"\"\"\n",
    "\n",
    "    # Define a regex pattern for splitting gene names\n",
    "    split_pattern = r';|\\|+|/{2,}|,|\\[|\\]|\\(|\\)'\n",
    "\n",
    "    # Split the 'Gene' column in 'mapping_df' using the regex pattern\n",
    "    mapping_df['Gene'] = mapping_df['Gene'].str.split(split_pattern)\n",
    "    mapping_df = mapping_df.explode('Gene')\n",
    "\n",
    "    # Set 'ID' as the index of 'mapping_df' for merging\n",
    "    mapping_df.set_index('ID', inplace=True)\n",
    "\n",
    "    # Merge 'mapping_df' with 'expression_df' by their indices\n",
    "    merged_df = mapping_df.join(expression_df)\n",
    "\n",
    "    # Group by 'Gene' and calculate the mean expression values\n",
    "    gene_expression_df = merged_df.groupby('Gene').mean().dropna()\n",
    "\n",
    "    return gene_expression_df\n",
    "\n",
    "\n",
    "def normalize_gene_symbols(gene_symbols, batch_size=1000):\n",
    "    \"\"\"Normalize human gene symbols in batches using the 'mygenes' library\"\"\"\n",
    "    mg = mygene.MyGeneInfo()\n",
    "    normalized_genes = {}\n",
    "\n",
    "    # Process in batches\n",
    "    for i in range(0, len(gene_symbols), batch_size):\n",
    "        batch = gene_symbols[i:i + batch_size]\n",
    "        results = mg.querymany(batch, scopes='symbol', fields='symbol', species='human', verbose=False)\n",
    "\n",
    "        # Update the normalized_genes dictionary with results from this batch\n",
    "        for gene in results:\n",
    "            normalized_genes[gene['query']] = gene.get('symbol', None)\n",
    "\n",
    "    # Return the normalized symbols in the same order as the input\n",
    "    return [normalized_genes.get(symbol) for symbol in gene_symbols]\n",
    "\n",
    "\n",
    "def normalize_gene_symbols_in_index(gene_df):\n",
    "    \"\"\"Normalize the human gene symbols at the index of a dataframe, and replace the index with its normalized version.\n",
    "    Remove the rows where the index failed to be normalized.\"\"\"\n",
    "    normalized_gene_list = normalize_gene_symbols(gene_df.index.tolist())\n",
    "    assert len(normalized_gene_list) == len(gene_df.index)\n",
    "    gene_df.index = normalized_gene_list\n",
    "    gene_df = gene_df[gene_df.index.notnull()]\n",
    "    return gene_df\n",
    "\n",
    "\n",
    "def get_feature_data(clinical_df, row_id, feature, convert_fn):\n",
    "    \"\"\"select the row corresponding to a feature in the sample characteristics dataframe, and convert the feature into\n",
    "    a binary or continuous variable\"\"\"\n",
    "    clinical_df = clinical_df.iloc[row_id:row_id + 1].drop(columns=['!Sample_geo_accession'], errors='ignore')\n",
    "    clinical_df.index = [feature]\n",
    "    clinical_df = clinical_df.applymap(convert_fn)\n",
    "\n",
    "    return clinical_df\n",
    "\n",
    "\n",
    "def plot_numeric_distribution(df, column):\n",
    "    \"\"\"Plot the distribution of a numeric variable stored in the given column of a dataframe\"\"\"\n",
    "    plt.figure(figsize=(10, 6))\n",
    "    sns.histplot(df[column], kde=True, bins=30)\n",
    "    plt.title(f'Distribution of {column.capitalize()}')\n",
    "    plt.xlabel('')\n",
    "    plt.ylabel('Frequency')\n",
    "    plt.show()\n",
    "\n",
    "\n",
    "def plot_categorical_distribution(df, column):\n",
    "    \"\"\"Plot the distribution of a categorical variable stored in the given column of a dataframe\"\"\"\n",
    "    plt.figure(figsize=(10, 6))\n",
    "    sns.countplot(y=column, data=df, order=df[column].value_counts().index)\n",
    "    plt.title(f'Distribution of {column.capitalize()}')\n",
    "    plt.xlabel('Frequency')\n",
    "    plt.ylabel('')\n",
    "    plt.show()\n",
    "\n",
    "\n",
    "def analyze_distributions(df, numerical_columns, categorical_columns):\n",
    "    \"\"\"Plot the distribution of the numerical and categorical variables stored in given columns of a dataframe\"\"\"\n",
    "    for col in numerical_columns:\n",
    "        plot_numeric_distribution(df, col)\n",
    "\n",
    "    for col in categorical_columns:\n",
    "        plot_categorical_distribution(df, col)\n",
    "\n",
    "\n",
    "def normalize_data(X_train, X_test=None):\n",
    "    \"\"\"Compute the mean and standard deviation statistics of the training data, use them to normalize the training data,\n",
    "    and optionally the test data\"\"\"\n",
    "    mean = np.mean(X_train, axis=0)\n",
    "    std = np.std(X_train, axis=0)\n",
    "\n",
    "    # Handling columns with std = 0\n",
    "    std_no_zero = np.where(std == 0, 1, std)\n",
    "\n",
    "    # Normalize X_train\n",
    "    X_train_normalized = (X_train - mean) / std_no_zero\n",
    "    # Set normalized values to 0 where std was 0\n",
    "    X_train_normalized[:, std == 0] = 0\n",
    "\n",
    "    if X_test is not None:\n",
    "        X_test_normalized = (X_test - mean) / std_no_zero\n",
    "        X_test_normalized[:, std == 0] = 0\n",
    "    else:\n",
    "        X_test_normalized = None\n",
    "\n",
    "    return X_train_normalized, X_test_normalized\n",
    "\n",
    "\n",
    "class ResidualizationRegressor:\n",
    "    def __init__(self, regression_model_constructor, params=None):\n",
    "        if params is None:\n",
    "            params = {}\n",
    "        self.regression_model = regression_model_constructor(**params)\n",
    "        self.beta_Z = None  # Coefficients for regression of Y on Z\n",
    "        self.beta_X = None  # Coefficients for regression of residual on X\n",
    "        self.neg_log_p_values = None  # Negative logarithm of p-values\n",
    "        self.p_values = None  # Actual p-values\n",
    "\n",
    "    def _reshape_data(self, data):\n",
    "        \"\"\"\n",
    "        Reshape the data to ensure it's in the correct format (2D array).\n",
    "\n",
    "        :param data: The input data (can be 1D or 2D array).\n",
    "        :return: Reshaped 2D array.\n",
    "        \"\"\"\n",
    "        if data.ndim == 1:\n",
    "            return data.reshape(-1, 1)\n",
    "        return data\n",
    "\n",
    "    def _reshape_output(self, data):\n",
    "        \"\"\"\n",
    "        Reshape the output data to ensure it's in the correct format (1D array).\n",
    "\n",
    "        :param data: The output data (can be 1D or 2D array).\n",
    "        :return: Reshaped 1D array.\n",
    "        \"\"\"\n",
    "        if data.ndim == 2 and data.shape[1] == 1:\n",
    "            return data.ravel()\n",
    "        return data\n",
    "\n",
    "    def fit(self, X, Y, Z):\n",
    "        X = self._reshape_data(X)\n",
    "        Y = self._reshape_data(Y)\n",
    "        Z = self._reshape_data(Z)\n",
    "\n",
    "        # Step 1: Linear regression of Y on Z\n",
    "        Z_ones = np.column_stack((np.ones(Z.shape[0]), Z))\n",
    "        self.beta_Z = np.linalg.pinv(Z_ones.T @ Z_ones) @ Z_ones.T @ Y\n",
    "        Y_hat = Z_ones @ self.beta_Z\n",
    "        e_Y = Y - Y_hat  # Residual of Y\n",
    "\n",
    "        # Step 2: Regress the residual on X using the included regression model\n",
    "        self.regression_model.fit(X, e_Y)\n",
    "\n",
    "        # Obtain coefficients from the regression model\n",
    "        if hasattr(self.regression_model, 'coef_'):\n",
    "            self.beta_X = self.regression_model.coef_\n",
    "        elif hasattr(self.regression_model, 'getBeta'):\n",
    "            beta_output = self.regression_model.getBeta()\n",
    "            self.beta_X = self._reshape_output(beta_output)\n",
    "\n",
    "        # Obtain negative logarithm of p-values, if available\n",
    "        if hasattr(self.regression_model, 'getNegLogP'):\n",
    "            neg_log_p_output = self.regression_model.getNegLogP()\n",
    "            if neg_log_p_output is not None:\n",
    "                self.neg_log_p_values = self._reshape_output(neg_log_p_output)\n",
    "                self.p_values = np.exp(-self.neg_log_p_values)\n",
    "                # Concatenate the p-values of Z and X. The p-values of Z were not computed, mark with NaN.\n",
    "                p_values_Z = np.full(Z.shape[1], np.nan)\n",
    "                self.p_values = np.concatenate((p_values_Z, self.p_values))\n",
    "\n",
    "    def predict(self, X, Z):\n",
    "        X = self._reshape_data(X)\n",
    "        Z = self._reshape_data(Z)\n",
    "\n",
    "        Z_ones = np.column_stack((np.ones(Z.shape[0]), Z))\n",
    "        ZX = np.column_stack((Z, X))\n",
    "        combined_beta = np.concatenate((self.beta_Z[1:].ravel(), self.beta_X.ravel()))\n",
    "        return ZX @ combined_beta + self.beta_Z[0]\n",
    "\n",
    "    def get_coefficients(self):\n",
    "        return np.concatenate((self.beta_Z[1:].ravel(), self.beta_X.ravel()))\n",
    "\n",
    "    def get_p_values(self):\n",
    "        return self.p_values\n",
    "\n",
    "\n",
    "def cross_validation(X, Y, Z, model_constructor, model_params, k=5, target_type='binary'):\n",
    "    assert target_type in ['binary', 'continuous'], \"The target type must be chosen from 'binary' or 'continuous'\"\n",
    "    indices = np.arange(X.shape[0])\n",
    "    np.random.shuffle(indices)\n",
    "\n",
    "    fold_size = len(X) // k\n",
    "    performances = []\n",
    "\n",
    "    for i in range(k):\n",
    "        # Split data into train and test based on the current fold\n",
    "        test_indices = indices[i * fold_size: (i + 1) * fold_size]\n",
    "        train_indices = np.setdiff1d(indices, test_indices)\n",
    "\n",
    "        X_train, X_test = X[train_indices], X[test_indices]\n",
    "        Y_train, Y_test = Y[train_indices], Y[test_indices]\n",
    "        Z_train, Z_test = Z[train_indices], Z[test_indices]\n",
    "\n",
    "        normalized_X_train, normalized_X_test = normalize_data(X_train, X_test)\n",
    "        normalized_Z_train, normalized_Z_test = normalize_data(Z_train, Z_test)\n",
    "\n",
    "        # model = model_constructor(**model_params)\n",
    "        model = ResidualizationRegressor(model_constructor, model_params)\n",
    "        model.fit(normalized_X_train, Y_train, normalized_Z_train)\n",
    "        predictions = model.predict(normalized_X_test, normalized_Z_test)\n",
    "\n",
    "        if target_type == 'binary':\n",
    "            predictions = (predictions > 0.5).astype(int)\n",
    "            Y_test = (Y_test > 0.5).astype(int)\n",
    "            performance = accuracy_score(Y_test, predictions)\n",
    "        elif target_type == 'continuous':\n",
    "            performance = mean_squared_error(Y_test, predictions)\n",
    "\n",
    "        performances.append(performance)\n",
    "\n",
    "    cv_mean = np.mean(performances)\n",
    "    cv_std = np.std(performances)\n",
    "\n",
    "    if target_type == 'binary':\n",
    "        print(f'The cross-validation accuracy is {(cv_mean * 100):.2f}% ± {(cv_std * 100):.2f}%')\n",
    "    else:\n",
    "        print(f'The cross-validation MSE is {(cv_mean * 100):.2f} ± {(cv_std * 100):.2f}')\n",
    "\n",
    "    return cv_mean, cv_std\n",
    "\n",
    "\n",
    "def get_feature_related_genes(file_path, feature, normalize):\n",
    "    \"\"\"Read a csv file into a dataframe about gene-trait association, and get the gene symbols related to a given\n",
    "    trait\"\"\"\n",
    "    related_gene_df = pd.read_csv(file_path)\n",
    "    related_gene_df = related_gene_df.loc[:, ['Disease Name', 'Corresponding_Gene_Symbol']].set_index('Disease Name')\n",
    "    feature_related_genes = related_gene_df.loc[feature].tolist()[0].strip().split(',')\n",
    "    feature_related_genes = [gn.strip() for gn in feature_related_genes]\n",
    "    if normalize:\n",
    "        feature_related_genes = normalize_gene_symbols(feature_related_genes)\n",
    "\n",
    "    return feature_related_genes\n",
    "\n",
    "\n",
    "def get_gene_regressors(trait, trait_df, condition_df, related_genes):\n",
    "    \"\"\"Find the appropriate genes for two-step regression. Compare the indices of two dataframes to find the genes\n",
    "    in common, and select those that are known to be related to a trait\"\"\"\n",
    "    gene_regressors = None\n",
    "    genes_in_trait_data = set(trait_df.columns) - {'Age', 'Gender', trait}\n",
    "    genes_in_condition_data = set(condition_df.columns) - {'Age', 'Gender', trait}\n",
    "\n",
    "    common_genes_across_data = genes_in_trait_data.intersection(genes_in_condition_data)\n",
    "    if len(common_genes_across_data) == 0:\n",
    "        #print(\"The trait and condition datasets have no genes in common. Please try other datasets\")\n",
    "        return None\n",
    "    else:\n",
    "        ##print(\n",
    "            ## f\"The trait and condition datasets have {len(common_genes_across_data)} genes in common, such as {list(common_genes_across_data)[:10]}.\")\n",
    "        common_genes = [g for g in related_genes if g in common_genes_across_data]\n",
    "        if len(common_genes) > 0:\n",
    "            gene_regressors = list(common_genes)[:10]\n",
    "            #print(\n",
    "                #f\"Found {len(common_genes)} candidate genes that can be used in two-step regression analysis, such as {gene_regressors[:10]}.\")\n",
    "        else:\n",
    "            #print(\n",
    "                #f\"The condition and trait datasets have common genes, but among them we didn't find indicator genes for the condition\")\n",
    "            return None\n",
    "\n",
    "    return gene_regressors\n",
    "\n",
    "\n",
    "def normalize_trait(trait):\n",
    "    trait = '-'.join(trait.split())\n",
    "    normalized_trait = ''.join(trait.split(\"'\"))\n",
    "    return normalized_trait\n",
    "\n",
    "def interpret_result(model: Any, feature_names: List[str], trait: str, condition: str,\n",
    "                     threshold: float = 0.05, save_output: bool = True,\n",
    "                     output_dir: str = './output', model_id: int = 1) -> None:\n",
    "    \"\"\"This function interprets and reports the result of a trained linear regression model, where the regressor\n",
    "    consists of one variable about condition and multiple variables about genetic factors.\n",
    "    The function extracts coefficients and p-values from the model, and identifies the significant genes based on\n",
    "    p-values or non-zero coefficients, depending on the availability of p-values.\n",
    "\n",
    "    Parameters:\n",
    "    model (Any): The trained regression Model.\n",
    "    feature_names (List[str]): A list of feature names corresponding to the model's coefficients.\n",
    "    trait (str): The target trait of interest.\n",
    "    condition (str): The specific condition to examine within the model.\n",
    "    threshold (float): Significance level for p-value correction. Defaults to 0.05.\n",
    "    save_output (bool): Flag to determine whether to save the output to a file. Defaults to True.\n",
    "    output_dir (str): Directory path where output files are saved. Defaults to './output'.\n",
    "    model_id (int): The index of the model, 1 or 2.\n",
    "\n",
    "    Returns:\n",
    "    None: This function does not return anything but prints and optionally saves the output.\n",
    "    \"\"\"\n",
    "    coefficients = model.get_coefficients().reshape(-1).tolist()\n",
    "    p_values = model.get_p_values()\n",
    "    if p_values is None:\n",
    "        regression_df = pd.DataFrame({\n",
    "            'Variable': feature_names,\n",
    "            'Coefficient': coefficients\n",
    "        })\n",
    "    else:\n",
    "        regression_df = pd.DataFrame({\n",
    "            'Variable': feature_names,\n",
    "            'Coefficient': coefficients,\n",
    "            'p_value': p_values.reshape(-1).tolist()\n",
    "        })\n",
    "\n",
    "    condition_effect = regression_df[regression_df['Variable'] == condition].iloc[0]\n",
    "\n",
    "    print(f\"Effect of the condition on the target variable:\")\n",
    "    print(f\"Variable: {condition}\")\n",
    "    print(f\"Coefficient: {condition_effect['Coefficient']:.4f}\")\n",
    "    gene_regression_df = regression_df[regression_df['Variable'] != condition]\n",
    "    if p_values is None:\n",
    "        gene_regression_df['Absolute Coefficient'] = gene_regression_df['Coefficient'].abs()\n",
    "        significant_genes = gene_regression_df[gene_regression_df['Coefficient'] != 0]\n",
    "        significant_genes_sorted = significant_genes.sort_values(by='Absolute Coefficient', ascending=False)\n",
    "        print(\n",
    "            f\"Found {len(significant_genes_sorted)} genes with non-zero coefficients associated with the trait '{trait}' \"\n",
    "            f\"conditional on the factor '{condition}'. These genes are identified as significant based on the regression model.\")\n",
    "    else:\n",
    "        # Apply the Benjamini-Hochberg correction, to get the corrected p-values\n",
    "        corrected_p_values = multipletests(gene_regression_df['p_value'], alpha=threshold, method='fdr_bh')[1]\n",
    "        gene_regression_df.loc[:, 'corrected_p_value'] = corrected_p_values\n",
    "        significant_genes = gene_regression_df.loc[gene_regression_df['corrected_p_value'] < threshold]\n",
    "        significant_genes_sorted = significant_genes.sort_values('corrected_p_value')\n",
    "        print(\n",
    "            f\"Found {len(significant_genes_sorted)} significant genes associated with the trait '{trait}' conditional on \"\n",
    "            f\"the factor '{condition}', with corrected p-value < {threshold}:\")\n",
    "\n",
    "    print(significant_genes_sorted.to_string(index=False))\n",
    "\n",
    "    nm_condition = normalize_trait(condition)\n",
    "    # Optionally, save this to a CSV file\n",
    "    if save_output:\n",
    "        significant_genes_sorted.to_csv(\n",
    "            os.path.join(output_dir, f'significant_genes_condition_{nm_condition}_{model_id}.csv'), index=False)\n",
    "\n",
    "\n",
    "def judge_binary_variable_biased(dataframe, col_name, min_proportion=0.1, min_num=5):\n",
    "    \"\"\"\n",
    "    Check if the distribution of a binary variable in the dataset is too biased to be usable for analysis\n",
    "    :param dataframe:\n",
    "    :param col_name:\n",
    "    :param min_proportion:\n",
    "    :param min_num:\n",
    "    :return:\n",
    "    \"\"\"\n",
    "    label_counter = dataframe[col_name].value_counts()\n",
    "    total_samples = len(dataframe)\n",
    "    rare_label_num = label_counter.min()\n",
    "    rare_label = label_counter.idxmin()\n",
    "    rare_label_proportion = rare_label_num / total_samples\n",
    "\n",
    "    print(\n",
    "        f\"For the feature \\'{col_name}\\', the least common label is '{rare_label}' with {rare_label_num} occurrences. This represents {rare_label_proportion:.2%} of the dataset.\")\n",
    "\n",
    "    biased = (len(label_counter) < 2) or ((rare_label_proportion < min_proportion) and (rare_label_num < min_num))\n",
    "    return bool(biased)\n",
    "\n",
    "\n",
    "def judge_continuous_variable_biased(dataframe, col_name):\n",
    "    \"\"\"Check if the distribution of a continuous variable in the dataset is too biased to be usable for analysis.\n",
    "    As a starting point, we consider it biased if all values are the same. For the next step, maybe ask GPT to judge\n",
    "    based on quartile statistics combined with its common sense knowledge about this feature.\n",
    "    \"\"\"\n",
    "    quartiles = dataframe[col_name].quantile([0.25, 0.5, 0.75])\n",
    "    min_value = dataframe[col_name].min()\n",
    "    max_value = dataframe[col_name].max()\n",
    "\n",
    "    # Printing quartile information\n",
    "    print(f\"Quartiles for '{col_name}':\")\n",
    "    print(f\"  25%: {quartiles[0.25]}\")\n",
    "    print(f\"  50% (Median): {quartiles[0.5]}\")\n",
    "    print(f\"  75%: {quartiles[0.75]}\")\n",
    "    print(f\"Min: {min_value}\")\n",
    "    print(f\"Max: {max_value}\")\n",
    "\n",
    "    biased = min_value == max_value\n",
    "\n",
    "    return bool(biased)\n",
    "\n",
    "\n",
    "def check_rows_and_columns(dataframe, display=False):\n",
    "    \"\"\"\n",
    "    Get the lists of row names and column names of a dataset, and optionally observe them.\n",
    "    :param dataframe:\n",
    "    :param display:\n",
    "    :return:\n",
    "    \"\"\"\n",
    "    dataframe_rows = dataframe.index.tolist()\n",
    "    if display:\n",
    "        print(f\"The dataset has {len(dataframe_rows)} rows, such as {dataframe_rows[:20]}\")\n",
    "    dataframe_cols = dataframe.columns.tolist()\n",
    "    if display:\n",
    "        print(f\"\\nThe dataset has {len(dataframe_cols)} columns, such as {dataframe_cols[:20]}\")\n",
    "    return dataframe_rows, dataframe_cols\n",
    "\n",
    "\n",
    "def xena_convert_trait(row_index: str):\n",
    "    \"\"\"\n",
    "    Convert the trait information from Sample IDs to labels depending on the last two digits.\n",
    "    Tumor types range from 01 - 09, normal types from 10 - 19.\n",
    "    :param row_index: the index value of a row\n",
    "    :return: the converted value\n",
    "    \"\"\"\n",
    "    last_two_digits = int(row_index[-2:])\n",
    "\n",
    "    if 1 <= last_two_digits <= 9:\n",
    "        return 1\n",
    "    elif 10 <= last_two_digits <= 19:\n",
    "        return 0\n",
    "    else:\n",
    "        return -1\n",
    "\n",
    "\n",
    "def xena_convert_gender(cell: str):\n",
    "    \"\"\"Convert the cell content about gender to a binary value\n",
    "    \"\"\"\n",
    "    if isinstance(cell, str):\n",
    "        cell = cell.lower()\n",
    "\n",
    "    if cell == \"female\":\n",
    "        return 0\n",
    "    elif cell == \"male\":\n",
    "        return 1\n",
    "    else:\n",
    "        return None\n",
    "\n",
    "\n",
    "def xena_convert_age(cell: str):\n",
    "    \"\"\"Convert the cell content about age to a numerical value using regular expression\n",
    "    \"\"\"\n",
    "    match = re.search(r'\\d+', str(cell))\n",
    "    if match:\n",
    "        return int(match.group())\n",
    "    else:\n",
    "        return None\n",
    "\n",
    "\n",
    "def detect_batch_effect(X):\n",
    "    \"\"\"\n",
    "    Detect potential batch effects in a dataset using eigenvalues of XX^T.\n",
    "\n",
    "    Args:\n",
    "    X (numpy.ndarray): A feature matrix with shape (n_samples, n_features).\n",
    "\n",
    "    Returns:\n",
    "    bool: True if a potential batch effect is detected, False otherwise.\n",
    "    \"\"\"\n",
    "    n_samples = X.shape[0]\n",
    "\n",
    "    # Computing XX^T\n",
    "    XXt = np.dot(X, X.T)\n",
    "\n",
    "    # Compute the eigenvalues of XX^T\n",
    "    eigen_values = np.linalg.eigvalsh(XXt)  # Using eigvalsh since XX^T is symmetric\n",
    "    eigen_values = sorted(eigen_values, reverse=True)[:10]\n",
    "    eigen_values = np.array(eigen_values)\n",
    "    normalized_ev = eigen_values / eigen_values[0]\n",
    "\n",
    "    # Check for large gaps in the eigenvalues\n",
    "    for i in range(len(normalized_ev) - 1):\n",
    "        gap = normalized_ev[i] - normalized_ev[i + 1]\n",
    "        if gap > 1 / n_samples:  # You may need to adjust this threshold\n",
    "            return True\n",
    "\n",
    "    return False\n",
    "\n",
    "\n",
    "def get_unique_values_by_row(dataframe, max_len=30):\n",
    "    \"\"\"\n",
    "    Organize the unique values in each row of the given dataframe, to get a dictionary\n",
    "    :param dataframe:\n",
    "    :param max_len:\n",
    "    :return:\n",
    "    \"\"\"\n",
    "    if '!Sample_geo_accession' in dataframe.columns:\n",
    "        dataframe = dataframe.drop(columns=['!Sample_geo_accession'])\n",
    "    unique_values_dict = {}\n",
    "    for index, row in dataframe.iterrows():\n",
    "        unique_values = list(row.unique())[:max_len]\n",
    "        unique_values_dict[index] = unique_values\n",
    "    return unique_values_dict\n",
    "\n",
    "\n",
    "def xena_select_clinical_features(clinical_df, trait, age_col=None, gender_col=None):\n",
    "    feature_list = []\n",
    "    trait_data = clinical_df.index.to_series().apply(xena_convert_trait).rename(trait)\n",
    "    feature_list.append(trait_data)\n",
    "    if age_col:\n",
    "        age_data = clinical_df[age_col].apply(xena_convert_age).rename(\"Age\")\n",
    "        feature_list.append(age_data)\n",
    "    if gender_col:\n",
    "        gender_data = clinical_df[gender_col].apply(xena_convert_gender).rename(\"Gender\")\n",
    "        feature_list.append(gender_data)\n",
    "    selected_clinical_df = pd.concat(feature_list, axis=1)\n",
    "    return selected_clinical_df\n",
    "\n",
    "\n",
    "def geo_select_clinical_features(clinical_df: pd.DataFrame, trait: str, trait_row: int,\n",
    "                                 convert_trait: Callable,\n",
    "                                 age_row: Optional[int] = None,\n",
    "                                 convert_age: Optional[Callable] = None,\n",
    "                                 gender_row: Optional[int] = None,\n",
    "                                 convert_gender: Optional[Callable] = None) -> pd.DataFrame:\n",
    "    \"\"\"\n",
    "    Extracts and processes specific clinical features from a DataFrame representing\n",
    "    sample characteristics in the GEO database series.\n",
    "\n",
    "    Parameters:\n",
    "    - clinical_df (pd.DataFrame): DataFrame containing clinical data.\n",
    "    - trait (str): The trait of interest.\n",
    "    - trait_row (int): Row identifier for the trait in the DataFrame.\n",
    "    - convert_trait (Callable): Function to convert trait data into a desired format.\n",
    "    - age_row (int, optional): Row identifier for age data. Default is None.\n",
    "    - convert_age (Callable, optional): Function to convert age data. Default is None.\n",
    "    - gender_row (int, optional): Row identifier for gender data. Default is None.\n",
    "    - convert_gender (Callable, optional): Function to convert gender data. Default is None.\n",
    "\n",
    "    Returns:\n",
    "    pd.DataFrame: A DataFrame containing the selected and processed clinical features.\n",
    "    \"\"\"\n",
    "    feature_list = []\n",
    "\n",
    "    trait_data = get_feature_data(clinical_df, trait_row, trait, convert_trait)\n",
    "    feature_list.append(trait_data)\n",
    "    if age_row is not None:\n",
    "        age_data = get_feature_data(clinical_df, age_row, 'Age', convert_age)\n",
    "        feature_list.append(age_data)\n",
    "    if gender_row is not None:\n",
    "        gender_data = get_feature_data(clinical_df, gender_row, 'Gender', convert_gender)\n",
    "        feature_list.append(gender_data)\n",
    "\n",
    "    selected_clinical_df = pd.concat(feature_list, axis=0)\n",
    "    return selected_clinical_df\n",
    "\n",
    "\n",
    "def geo_merge_clinical_genetic_data(clinical_df, genetic_df):\n",
    "    \"\"\"\n",
    "    Merge the clinical features and gene expression features from two dataframes into one dataframe\n",
    "    \"\"\"\n",
    "    if 'ID' in genetic_df.columns:\n",
    "        genetic_df = genetic_df.rename(columns={'ID': 'Gene'})\n",
    "    if 'Gene' in genetic_df.columns:\n",
    "        genetic_df = genetic_df.set_index('Gene')\n",
    "    merged_data = pd.concat([clinical_df, genetic_df], axis=0).T.dropna()\n",
    "    return merged_data\n",
    "\n",
    "\n",
    "def judge_and_remove_biased_features(df, trait, trait_type):\n",
    "    assert trait_type in [\"binary\", \"continuous\"], f\"The trait must be either a binary or a continuous variable!\"\n",
    "    if trait_type == \"binary\":\n",
    "        trait_biased = judge_binary_variable_biased(df, trait)\n",
    "    else:\n",
    "        trait_biased = judge_continuous_variable_biased(df, trait)\n",
    "    if trait_biased:\n",
    "        print(f\"The distribution of the feature \\'{trait}\\' in this dataset is severely biased.\\n\")\n",
    "    else:\n",
    "        print(f\"The distribution of the feature \\'{trait}\\' in this dataset is fine.\\n\")\n",
    "    if \"Age\" in df.columns:\n",
    "        age_biased = judge_continuous_variable_biased(df, 'Age')\n",
    "        if age_biased:\n",
    "            print(f\"The distribution of the feature \\'Age\\' in this dataset is severely biased.\\n\")\n",
    "            df = df.drop(columns='Age')\n",
    "        else:\n",
    "            print(f\"The distribution of the feature \\'Age\\' in this dataset is fine.\\n\")\n",
    "    if \"Gender\" in df.columns:\n",
    "        gender_biased = judge_binary_variable_biased(df, 'Gender')\n",
    "        if gender_biased:\n",
    "            print(f\"The distribution of the feature \\'Gender\\' in this dataset is severely biased.\\n\")\n",
    "            df = df.drop(columns='Gender')\n",
    "        else:\n",
    "            print(f\"The distribution of the feature \\'Gender\\' in this dataset is fine.\\n\")\n",
    "\n",
    "    return trait_biased, df\n",
    "\n",
    "\n",
    "def save_cohort_info(cohort: str, info_path: str, is_available: bool, is_biased: Optional[bool] = None,\n",
    "                     df: Optional[pd.DataFrame] = None, note: str = '') -> None:\n",
    "    \"\"\"\n",
    "    Add or update information about the usability and quality of a dataset for statistical analysis.\n",
    "\n",
    "    Parameters:\n",
    "    cohort (str): A unique identifier for the dataset.\n",
    "    info_path (str): File path to the JSON file where records are stored.\n",
    "    is_available (bool): Indicates whether both the genetic data and trait data are available in the dataset, and can be\n",
    "     preprocessed into a dataframe.\n",
    "    is_biased (bool, optional): Indicates whether the dataset is too biased to be usable.\n",
    "        Required if `is_available` is True.\n",
    "    df (pandas.DataFrame, optional): The preprocessed dataset. Required if `is_available` is True.\n",
    "    note (str, optional): Additional notes about the dataset.\n",
    "\n",
    "    Returns:\n",
    "    None: The function does not return a value but updates or creates a record in the specified JSON file.\n",
    "    \"\"\"\n",
    "    if is_available:\n",
    "        assert (df is not None) and (is_biased is not None), \"'df' and 'is_biased' should be provided if this cohort \" \\\n",
    "                                                             \"is relevant.\"\n",
    "    is_usable = is_available and (not is_biased)\n",
    "    new_record = {\"is_usable\": is_usable,\n",
    "                  \"is_available\": is_available,\n",
    "                  \"is_biased\": is_biased if is_available else None,\n",
    "                  \"has_age\": \"Age\" in df.columns if is_available else None,\n",
    "                  \"has_gender\": \"Gender\" in df.columns if is_available else None,\n",
    "                  \"sample_size\": len(df) if is_available else None,\n",
    "                  \"note\": note}\n",
    "\n",
    "    trait_directory = os.path.dirname(info_path)\n",
    "    os.makedirs(trait_directory, exist_ok=True)\n",
    "    if not os.path.exists(info_path):\n",
    "        with open(info_path, 'w') as file:\n",
    "            json.dump({}, file)\n",
    "        print(f\"A new JSON file was created at: {info_path}\")\n",
    "\n",
    "    with open(info_path, \"r\") as file:\n",
    "        records = json.load(file)\n",
    "    records[cohort] = new_record\n",
    "\n",
    "    temp_path = info_path + \".tmp\"\n",
    "    try:\n",
    "        with open(temp_path, 'w') as file:\n",
    "            json.dump(records, file)\n",
    "        os.replace(temp_path, info_path)\n",
    "\n",
    "    except Exception as e:\n",
    "        print(f\"An error occurred: {e}\")\n",
    "        if os.path.exists(temp_path):\n",
    "            os.remove(temp_path)\n",
    "        raise\n",
    "\n",
    "\n",
    "def read_json_to_dataframe(json_file: str) -> pd.DataFrame:\n",
    "    \"\"\"\n",
    "    Reads a JSON file and converts it into a pandas DataFrame.\n",
    "\n",
    "    Args:\n",
    "    json_file (str): The path to the JSON file containing the data.\n",
    "\n",
    "    Returns:\n",
    "    DataFrame: A pandas DataFrame with the JSON data.\n",
    "    \"\"\"\n",
    "    with open(json_file, 'r') as file:\n",
    "        data = json.load(file)\n",
    "    return pd.DataFrame.from_dict(data, orient='index').reset_index().rename(columns={'index': 'cohort_id'})\n",
    "\n",
    "\n",
    "def filter_and_rank_cohorts(json_file: str, condition: Union[str, None] = None) -> Tuple[\n",
    "    Union[str, None], pd.DataFrame]:\n",
    "    \"\"\"\n",
    "    Reads a JSON file, filters cohorts based on usability and an optional condition, then ranks them by sample size.\n",
    "\n",
    "    Args:\n",
    "    json_file (str): The path to the JSON file containing the data.\n",
    "    condition (str, optional): An additional condition for filtering. If None, only 'is_usable' is considered.\n",
    "\n",
    "    Returns:\n",
    "    Tuple: A tuple containing the best cohort ID (str or None if no suitable cohort is found) and\n",
    "           the filtered and ranked DataFrame.\n",
    "    \"\"\"\n",
    "    # Read the JSON file into a DataFrame\n",
    "    df = read_json_to_dataframe(json_file)\n",
    "\n",
    "    if condition:\n",
    "        filtered_df = df[(df['is_usable'] == True) & (df[condition] == True)]\n",
    "    else:\n",
    "        filtered_df = df[df['is_usable'] == True]\n",
    "\n",
    "    ranked_df = filtered_df.sort_values(by='sample_size', ascending=False)\n",
    "    best_cohort_id = ranked_df.iloc[0]['cohort_id'] if not ranked_df.empty else None\n",
    "\n",
    "    return best_cohort_id, ranked_df\n",
    "\n",
    "\n",
    "def read_json_to_dataframe(json_file: str) -> pd.DataFrame:\n",
    "    \"\"\"\n",
    "    Reads a JSON file and converts it into a pandas DataFrame.\n",
    "    \"\"\"\n",
    "    with open(json_file, 'r') as file:\n",
    "        data = json.load(file)\n",
    "    return pd.DataFrame.from_dict(data, orient='index').reset_index().rename(columns={'index': 'cohort_id'})\n",
    "\n",
    "\n",
    "def filter_and_rank_cohorts(json_file: str, condition: Union[str, None] = None) -> Tuple[\n",
    "    Union[str, None], pd.DataFrame]:\n",
    "    \"\"\"\n",
    "    Reads a JSON file, filters cohorts based on usability and an optional condition, then ranks them by sample size.\n",
    "\n",
    "    Args:\n",
    "    json_file (str): The path to the JSON file containing the data.\n",
    "    condition (str, optional): An additional condition for filtering. If None, only 'is_usable' is considered.\n",
    "\n",
    "    Returns:\n",
    "    Tuple: A tuple containing the best cohort ID (str or None if no suitable cohort is found) and\n",
    "           the filtered and ranked DataFrame.\n",
    "    \"\"\"\n",
    "    df = read_json_to_dataframe(json_file)\n",
    "    if condition:\n",
    "        if condition.lower() in ['age', 'gender']:\n",
    "            condition = 'has_' + condition.lower()\n",
    "        assert condition in ['has_age', 'has_gender']\n",
    "        filtered_df = df[(df['is_usable'] == True) & (df[condition] == True)]\n",
    "    else:\n",
    "        filtered_df = df[df['is_usable'] == True]\n",
    "    ranked_df = filtered_df.sort_values(by='sample_size', ascending=False)\n",
    "    best_cohort_id = ranked_df.iloc[0]['cohort_id'] if not ranked_df.empty else None\n",
    "\n",
    "    return best_cohort_id, ranked_df\n",
    "\n",
    "\n",
    "def preview_df(df, n=5):\n",
    "    return df.head(n).to_dict(orient='list')"
   ]
  },
  {
   "cell_type": "markdown",
   "metadata": {
    "collapsed": false,
    "id": "3lP_4rV0iaDz"
   },
   "source": [
    "# 1. Basic setup"
   ]
  },
  {
   "cell_type": "code",
   "execution_count": null,
   "metadata": {},
   "outputs": [],
   "source": []
  },
  {
   "cell_type": "code",
   "execution_count": 189,
   "metadata": {
    "ExecuteTime": {
     "end_time": "2023-12-31T21:19:07.313098989Z",
     "start_time": "2023-12-31T21:19:07.312718292Z"
    },
    "executionInfo": {
     "elapsed": 1480,
     "status": "ok",
     "timestamp": 1704459407389,
     "user": {
      "displayName": "郭淑怡",
      "userId": "04547554131744612440"
     },
     "user_tz": -480
    },
    "id": "LqmCfkN7iaDz"
   },
   "outputs": [],
   "source": [
    "import os\n",
    "import sys\n",
    "\n",
    "\n",
    "from utils import *\n",
    "# Set your preferred name\n",
    "USER = \"Konrad\"\n",
    "# Set the data and output directories\n",
    "DATA_ROOT = r'C:\\Users\\conra\\OneDrive\\Desktop\\AI4Science\\DATA'\n",
    "OUTPUT_ROOT = r'C:\\Users\\conra\\OneDrive\\Desktop\\AI4Science\\output1'\n",
    "TRAIT = \"Autoinflammatory Disorders\"\n",
    "\n",
    "OUTPUT_DIR = os.path.join(OUTPUT_ROOT, USER, '-'.join(TRAIT.split()))\n",
    "JSON_PATH = os.path.join(OUTPUT_DIR, \"cohort_info.json\")\n",
    "if not os.path.exists(OUTPUT_DIR):\n",
    "    os.makedirs(OUTPUT_DIR, exist_ok=True)\n",
    "\n",
    "# Gene symbol normalization may take 1-2 minutes. You may set it to False for debugging.\n",
    "NORMALIZE_GENE = True"
   ]
  },
  {
   "cell_type": "markdown",
   "metadata": {
    "collapsed": false,
    "id": "iNY8dzJAiaD0"
   },
   "source": [
    "# 2. Data preprocessing and selection"
   ]
  },
  {
   "cell_type": "markdown",
   "metadata": {
    "collapsed": false,
    "id": "7aNtx3jjiaD1"
   },
   "source": [
    "## 2.1. The TCGA Xena dataset"
   ]
  },
  {
   "cell_type": "markdown",
   "metadata": {
    "collapsed": false,
    "id": "nn68pLQ1iaD1"
   },
   "source": [
    "In TCGA Xena, there is either zero or one cohort related to the trait. We search the names of subdirectories to see if any matches the trait. If a match is found, we directly obtain the file paths."
   ]
  },
  {
   "cell_type": "code",
   "execution_count": 190,
   "metadata": {
    "ExecuteTime": {
     "end_time": "2023-12-31T21:19:09.770095084Z",
     "start_time": "2023-12-31T21:19:09.102451553Z"
    },
    "colab": {
     "base_uri": "https://localhost:8080/"
    },
    "executionInfo": {
     "elapsed": 3886,
     "status": "ok",
     "timestamp": 1704459428432,
     "user": {
      "displayName": "郭淑怡",
      "userId": "04547554131744612440"
     },
     "user_tz": -480
    },
    "id": "hCwvC9PNiaD1",
    "outputId": "9195a4d8-b7ac-4910-d90a-1a3bddba33d9"
   },
   "outputs": [
    {
     "data": {
      "text/plain": [
       "['.DS_Store',\n",
       " 'CrawlData.ipynb',\n",
       " 'TCGA_Acute_Myeloid_Leukemia_(LAML)',\n",
       " 'TCGA_Adrenocortical_Cancer_(ACC)',\n",
       " 'TCGA_Bile_Duct_Cancer_(CHOL)',\n",
       " 'TCGA_Bladder_Cancer_(BLCA)',\n",
       " 'TCGA_Breast_Cancer_(BRCA)',\n",
       " 'TCGA_Cervical_Cancer_(CESC)',\n",
       " 'TCGA_Colon_and_Rectal_Cancer_(COADREAD)',\n",
       " 'TCGA_Colon_Cancer_(COAD)',\n",
       " 'TCGA_Endometrioid_Cancer_(UCEC)',\n",
       " 'TCGA_Esophageal_Cancer_(ESCA)',\n",
       " 'TCGA_Glioblastoma_(GBM)',\n",
       " 'TCGA_Head_and_Neck_Cancer_(HNSC)',\n",
       " 'TCGA_Kidney_Chromophobe_(KICH)',\n",
       " 'TCGA_Kidney_Clear_Cell_Carcinoma_(KIRC)',\n",
       " 'TCGA_Kidney_Papillary_Cell_Carcinoma_(KIRP)',\n",
       " 'TCGA_Large_Bcell_Lymphoma_(DLBC)',\n",
       " 'TCGA_Liver_Cancer_(LIHC)',\n",
       " 'TCGA_Lower_Grade_Glioma_(LGG)',\n",
       " 'TCGA_lower_grade_glioma_and_glioblastoma_(GBMLGG)',\n",
       " 'TCGA_Lung_Adenocarcinoma_(LUAD)',\n",
       " 'TCGA_Lung_Cancer_(LUNG)',\n",
       " 'TCGA_Lung_Squamous_Cell_Carcinoma_(LUSC)',\n",
       " 'TCGA_Melanoma_(SKCM)',\n",
       " 'TCGA_Mesothelioma_(MESO)',\n",
       " 'TCGA_Ocular_melanomas_(UVM)',\n",
       " 'TCGA_Ovarian_Cancer_(OV)',\n",
       " 'TCGA_Pancreatic_Cancer_(PAAD)',\n",
       " 'TCGA_Pheochromocytoma_Paraganglioma_(PCPG)',\n",
       " 'TCGA_Prostate_Cancer_(PRAD)',\n",
       " 'TCGA_Rectal_Cancer_(READ)',\n",
       " 'TCGA_Sarcoma_(SARC)',\n",
       " 'TCGA_Stomach_Cancer_(STAD)',\n",
       " 'TCGA_Testicular_Cancer_(TGCT)',\n",
       " 'TCGA_Thymoma_(THYM)',\n",
       " 'TCGA_Thyroid_Cancer_(THCA)',\n",
       " 'TCGA_Uterine_Carcinosarcoma_(UCS)']"
      ]
     },
     "execution_count": 190,
     "metadata": {},
     "output_type": "execute_result"
    }
   ],
   "source": [
    "import os\n",
    "from utils import *\n",
    "\n",
    "dataset = 'TCGA'\n",
    "dataset_dir = os.path.join(DATA_ROOT, dataset)\n",
    "os.listdir(dataset_dir)"
   ]
  },
  {
   "cell_type": "markdown",
   "metadata": {
    "collapsed": false,
    "id": "sksNMtjOiaD1"
   },
   "source": [
    "If no match is found, jump directly to GEO in Part 2.2"
   ]
  },
  {
   "cell_type": "code",
   "execution_count": 191,
   "metadata": {},
   "outputs": [
    {
     "name": "stdout",
     "output_type": "stream",
     "text": [
      "No filepaths returned from xena_get_relevant_filepaths\n"
     ]
    }
   ],
   "source": [
    "import os\n",
    "\n",
    "def xena_get_relevant_filepaths(cohort_dir):\n",
    "    # List all files in the directory\n",
    "    files = os.listdir(cohort_dir)\n",
    "\n",
    "    # Filter for relevant files (this will depend on your specific use case)\n",
    "    relevant_files = [file for file in files if 'relevant' in file]\n",
    "\n",
    "    # Prepend the directory to the file names to get the full paths\n",
    "    relevant_filepaths = [os.path.join(cohort_dir, file) for file in relevant_files]\n",
    "\n",
    "    return relevant_filepaths\n",
    "\n",
    "filepaths = xena_get_relevant_filepaths(cohort_dir)\n",
    "\n",
    "if len(filepaths) == 2:\n",
    "    clinical_data_file, genetic_data_file = filepaths\n",
    "elif len(filepaths) == 0:\n",
    "    # Handle the case where no filepaths are returned\n",
    "    # This could be assigning default values, raising an error, etc.\n",
    "    clinical_data_file, genetic_data_file = None, None\n",
    "    print(\"No filepaths returned from xena_get_relevant_filepaths\")\n",
    "else:\n",
    "    # Handle the case where an unexpected number of filepaths are returned\n",
    "    raise ValueError(f\"Expected 2 filepaths, got {len(filepaths)}\")"
   ]
  },
  {
   "cell_type": "code",
   "execution_count": 192,
   "metadata": {
    "ExecuteTime": {
     "end_time": "2023-12-31T21:19:09.918243934Z",
     "start_time": "2023-12-31T21:19:09.909021135Z"
    },
    "id": "hHU-R89oiaD1"
   },
   "outputs": [
    {
     "ename": "ValueError",
     "evalue": "not enough values to unpack (expected 2, got 0)",
     "output_type": "error",
     "traceback": [
      "\u001B[1;31m---------------------------------------------------------------------------\u001B[0m",
      "\u001B[1;31mValueError\u001B[0m                                Traceback (most recent call last)",
      "Cell \u001B[1;32mIn[192], line 7\u001B[0m\n\u001B[0;32m      4\u001B[0m is_available \u001B[38;5;241m=\u001B[39m \u001B[38;5;28;01mTrue\u001B[39;00m\n\u001B[0;32m      6\u001B[0m cohort_dir \u001B[38;5;241m=\u001B[39m os\u001B[38;5;241m.\u001B[39mpath\u001B[38;5;241m.\u001B[39mjoin(DATA_ROOT, dataset, trait_subdir)\n\u001B[1;32m----> 7\u001B[0m clinical_data_file, genetic_data_file \u001B[38;5;241m=\u001B[39m xena_get_relevant_filepaths(cohort_dir)\n",
      "\u001B[1;31mValueError\u001B[0m: not enough values to unpack (expected 2, got 0)"
     ]
    }
   ],
   "source": [
    "trait_subdir = ''\n",
    "cohort = 'Xena'\n",
    "trait_type = 'binary'\n",
    "is_available = True\n",
    "\n",
    "cohort_dir = os.path.join(DATA_ROOT, dataset, trait_subdir)\n",
    "clinical_data_file, genetic_data_file = xena_get_relevant_filepaths(cohort_dir)"
   ]
  },
  {
   "cell_type": "code",
   "execution_count": 174,
   "metadata": {
    "ExecuteTime": {
     "end_time": "2023-12-31T21:19:13.613198409Z",
     "start_time": "2023-12-31T21:19:10.409688003Z"
    },
    "id": "MudwB-_iz7sc"
   },
   "outputs": [
    {
     "ename": "ValueError",
     "evalue": "Invalid file path or buffer object type: <class 'NoneType'>",
     "output_type": "error",
     "traceback": [
      "\u001B[1;31m---------------------------------------------------------------------------\u001B[0m",
      "\u001B[1;31mValueError\u001B[0m                                Traceback (most recent call last)",
      "Cell \u001B[1;32mIn[174], line 3\u001B[0m\n\u001B[0;32m      1\u001B[0m \u001B[38;5;28;01mimport\u001B[39;00m \u001B[38;5;21;01mpandas\u001B[39;00m \u001B[38;5;28;01mas\u001B[39;00m \u001B[38;5;21;01mpd\u001B[39;00m\n\u001B[1;32m----> 3\u001B[0m clinical_data \u001B[38;5;241m=\u001B[39m \u001B[43mpd\u001B[49m\u001B[38;5;241;43m.\u001B[39;49m\u001B[43mread_csv\u001B[49m\u001B[43m(\u001B[49m\u001B[43mclinical_data_file\u001B[49m\u001B[43m,\u001B[49m\u001B[43m \u001B[49m\u001B[43msep\u001B[49m\u001B[38;5;241;43m=\u001B[39;49m\u001B[38;5;124;43m'\u001B[39;49m\u001B[38;5;130;43;01m\\t\u001B[39;49;00m\u001B[38;5;124;43m'\u001B[39;49m\u001B[43m,\u001B[49m\u001B[43m \u001B[49m\u001B[43mindex_col\u001B[49m\u001B[38;5;241;43m=\u001B[39;49m\u001B[38;5;241;43m0\u001B[39;49m\u001B[43m)\u001B[49m\n\u001B[0;32m      4\u001B[0m genetic_data \u001B[38;5;241m=\u001B[39m pd\u001B[38;5;241m.\u001B[39mread_csv(genetic_data_file, compression\u001B[38;5;241m=\u001B[39m\u001B[38;5;124m'\u001B[39m\u001B[38;5;124mgzip\u001B[39m\u001B[38;5;124m'\u001B[39m, sep\u001B[38;5;241m=\u001B[39m\u001B[38;5;124m'\u001B[39m\u001B[38;5;130;01m\\t\u001B[39;00m\u001B[38;5;124m'\u001B[39m, index_col\u001B[38;5;241m=\u001B[39m\u001B[38;5;241m0\u001B[39m)\n\u001B[0;32m      5\u001B[0m age_col \u001B[38;5;241m=\u001B[39m gender_col \u001B[38;5;241m=\u001B[39m \u001B[38;5;28;01mNone\u001B[39;00m\n",
      "File \u001B[1;32m~\\AppData\\Local\\Packages\\PythonSoftwareFoundation.Python.3.11_qbz5n2kfra8p0\\LocalCache\\local-packages\\Python311\\site-packages\\pandas\\io\\parsers\\readers.py:912\u001B[0m, in \u001B[0;36mread_csv\u001B[1;34m(filepath_or_buffer, sep, delimiter, header, names, index_col, usecols, dtype, engine, converters, true_values, false_values, skipinitialspace, skiprows, skipfooter, nrows, na_values, keep_default_na, na_filter, verbose, skip_blank_lines, parse_dates, infer_datetime_format, keep_date_col, date_parser, date_format, dayfirst, cache_dates, iterator, chunksize, compression, thousands, decimal, lineterminator, quotechar, quoting, doublequote, escapechar, comment, encoding, encoding_errors, dialect, on_bad_lines, delim_whitespace, low_memory, memory_map, float_precision, storage_options, dtype_backend)\u001B[0m\n\u001B[0;32m    899\u001B[0m kwds_defaults \u001B[38;5;241m=\u001B[39m _refine_defaults_read(\n\u001B[0;32m    900\u001B[0m     dialect,\n\u001B[0;32m    901\u001B[0m     delimiter,\n\u001B[1;32m   (...)\u001B[0m\n\u001B[0;32m    908\u001B[0m     dtype_backend\u001B[38;5;241m=\u001B[39mdtype_backend,\n\u001B[0;32m    909\u001B[0m )\n\u001B[0;32m    910\u001B[0m kwds\u001B[38;5;241m.\u001B[39mupdate(kwds_defaults)\n\u001B[1;32m--> 912\u001B[0m \u001B[38;5;28;01mreturn\u001B[39;00m \u001B[43m_read\u001B[49m\u001B[43m(\u001B[49m\u001B[43mfilepath_or_buffer\u001B[49m\u001B[43m,\u001B[49m\u001B[43m \u001B[49m\u001B[43mkwds\u001B[49m\u001B[43m)\u001B[49m\n",
      "File \u001B[1;32m~\\AppData\\Local\\Packages\\PythonSoftwareFoundation.Python.3.11_qbz5n2kfra8p0\\LocalCache\\local-packages\\Python311\\site-packages\\pandas\\io\\parsers\\readers.py:577\u001B[0m, in \u001B[0;36m_read\u001B[1;34m(filepath_or_buffer, kwds)\u001B[0m\n\u001B[0;32m    574\u001B[0m _validate_names(kwds\u001B[38;5;241m.\u001B[39mget(\u001B[38;5;124m\"\u001B[39m\u001B[38;5;124mnames\u001B[39m\u001B[38;5;124m\"\u001B[39m, \u001B[38;5;28;01mNone\u001B[39;00m))\n\u001B[0;32m    576\u001B[0m \u001B[38;5;66;03m# Create the parser.\u001B[39;00m\n\u001B[1;32m--> 577\u001B[0m parser \u001B[38;5;241m=\u001B[39m \u001B[43mTextFileReader\u001B[49m\u001B[43m(\u001B[49m\u001B[43mfilepath_or_buffer\u001B[49m\u001B[43m,\u001B[49m\u001B[43m \u001B[49m\u001B[38;5;241;43m*\u001B[39;49m\u001B[38;5;241;43m*\u001B[39;49m\u001B[43mkwds\u001B[49m\u001B[43m)\u001B[49m\n\u001B[0;32m    579\u001B[0m \u001B[38;5;28;01mif\u001B[39;00m chunksize \u001B[38;5;129;01mor\u001B[39;00m iterator:\n\u001B[0;32m    580\u001B[0m     \u001B[38;5;28;01mreturn\u001B[39;00m parser\n",
      "File \u001B[1;32m~\\AppData\\Local\\Packages\\PythonSoftwareFoundation.Python.3.11_qbz5n2kfra8p0\\LocalCache\\local-packages\\Python311\\site-packages\\pandas\\io\\parsers\\readers.py:1407\u001B[0m, in \u001B[0;36mTextFileReader.__init__\u001B[1;34m(self, f, engine, **kwds)\u001B[0m\n\u001B[0;32m   1404\u001B[0m     \u001B[38;5;28mself\u001B[39m\u001B[38;5;241m.\u001B[39moptions[\u001B[38;5;124m\"\u001B[39m\u001B[38;5;124mhas_index_names\u001B[39m\u001B[38;5;124m\"\u001B[39m] \u001B[38;5;241m=\u001B[39m kwds[\u001B[38;5;124m\"\u001B[39m\u001B[38;5;124mhas_index_names\u001B[39m\u001B[38;5;124m\"\u001B[39m]\n\u001B[0;32m   1406\u001B[0m \u001B[38;5;28mself\u001B[39m\u001B[38;5;241m.\u001B[39mhandles: IOHandles \u001B[38;5;241m|\u001B[39m \u001B[38;5;28;01mNone\u001B[39;00m \u001B[38;5;241m=\u001B[39m \u001B[38;5;28;01mNone\u001B[39;00m\n\u001B[1;32m-> 1407\u001B[0m \u001B[38;5;28mself\u001B[39m\u001B[38;5;241m.\u001B[39m_engine \u001B[38;5;241m=\u001B[39m \u001B[38;5;28;43mself\u001B[39;49m\u001B[38;5;241;43m.\u001B[39;49m\u001B[43m_make_engine\u001B[49m\u001B[43m(\u001B[49m\u001B[43mf\u001B[49m\u001B[43m,\u001B[49m\u001B[43m \u001B[49m\u001B[38;5;28;43mself\u001B[39;49m\u001B[38;5;241;43m.\u001B[39;49m\u001B[43mengine\u001B[49m\u001B[43m)\u001B[49m\n",
      "File \u001B[1;32m~\\AppData\\Local\\Packages\\PythonSoftwareFoundation.Python.3.11_qbz5n2kfra8p0\\LocalCache\\local-packages\\Python311\\site-packages\\pandas\\io\\parsers\\readers.py:1661\u001B[0m, in \u001B[0;36mTextFileReader._make_engine\u001B[1;34m(self, f, engine)\u001B[0m\n\u001B[0;32m   1659\u001B[0m     \u001B[38;5;28;01mif\u001B[39;00m \u001B[38;5;124m\"\u001B[39m\u001B[38;5;124mb\u001B[39m\u001B[38;5;124m\"\u001B[39m \u001B[38;5;129;01mnot\u001B[39;00m \u001B[38;5;129;01min\u001B[39;00m mode:\n\u001B[0;32m   1660\u001B[0m         mode \u001B[38;5;241m+\u001B[39m\u001B[38;5;241m=\u001B[39m \u001B[38;5;124m\"\u001B[39m\u001B[38;5;124mb\u001B[39m\u001B[38;5;124m\"\u001B[39m\n\u001B[1;32m-> 1661\u001B[0m \u001B[38;5;28mself\u001B[39m\u001B[38;5;241m.\u001B[39mhandles \u001B[38;5;241m=\u001B[39m \u001B[43mget_handle\u001B[49m\u001B[43m(\u001B[49m\n\u001B[0;32m   1662\u001B[0m \u001B[43m    \u001B[49m\u001B[43mf\u001B[49m\u001B[43m,\u001B[49m\n\u001B[0;32m   1663\u001B[0m \u001B[43m    \u001B[49m\u001B[43mmode\u001B[49m\u001B[43m,\u001B[49m\n\u001B[0;32m   1664\u001B[0m \u001B[43m    \u001B[49m\u001B[43mencoding\u001B[49m\u001B[38;5;241;43m=\u001B[39;49m\u001B[38;5;28;43mself\u001B[39;49m\u001B[38;5;241;43m.\u001B[39;49m\u001B[43moptions\u001B[49m\u001B[38;5;241;43m.\u001B[39;49m\u001B[43mget\u001B[49m\u001B[43m(\u001B[49m\u001B[38;5;124;43m\"\u001B[39;49m\u001B[38;5;124;43mencoding\u001B[39;49m\u001B[38;5;124;43m\"\u001B[39;49m\u001B[43m,\u001B[49m\u001B[43m \u001B[49m\u001B[38;5;28;43;01mNone\u001B[39;49;00m\u001B[43m)\u001B[49m\u001B[43m,\u001B[49m\n\u001B[0;32m   1665\u001B[0m \u001B[43m    \u001B[49m\u001B[43mcompression\u001B[49m\u001B[38;5;241;43m=\u001B[39;49m\u001B[38;5;28;43mself\u001B[39;49m\u001B[38;5;241;43m.\u001B[39;49m\u001B[43moptions\u001B[49m\u001B[38;5;241;43m.\u001B[39;49m\u001B[43mget\u001B[49m\u001B[43m(\u001B[49m\u001B[38;5;124;43m\"\u001B[39;49m\u001B[38;5;124;43mcompression\u001B[39;49m\u001B[38;5;124;43m\"\u001B[39;49m\u001B[43m,\u001B[49m\u001B[43m \u001B[49m\u001B[38;5;28;43;01mNone\u001B[39;49;00m\u001B[43m)\u001B[49m\u001B[43m,\u001B[49m\n\u001B[0;32m   1666\u001B[0m \u001B[43m    \u001B[49m\u001B[43mmemory_map\u001B[49m\u001B[38;5;241;43m=\u001B[39;49m\u001B[38;5;28;43mself\u001B[39;49m\u001B[38;5;241;43m.\u001B[39;49m\u001B[43moptions\u001B[49m\u001B[38;5;241;43m.\u001B[39;49m\u001B[43mget\u001B[49m\u001B[43m(\u001B[49m\u001B[38;5;124;43m\"\u001B[39;49m\u001B[38;5;124;43mmemory_map\u001B[39;49m\u001B[38;5;124;43m\"\u001B[39;49m\u001B[43m,\u001B[49m\u001B[43m \u001B[49m\u001B[38;5;28;43;01mFalse\u001B[39;49;00m\u001B[43m)\u001B[49m\u001B[43m,\u001B[49m\n\u001B[0;32m   1667\u001B[0m \u001B[43m    \u001B[49m\u001B[43mis_text\u001B[49m\u001B[38;5;241;43m=\u001B[39;49m\u001B[43mis_text\u001B[49m\u001B[43m,\u001B[49m\n\u001B[0;32m   1668\u001B[0m \u001B[43m    \u001B[49m\u001B[43merrors\u001B[49m\u001B[38;5;241;43m=\u001B[39;49m\u001B[38;5;28;43mself\u001B[39;49m\u001B[38;5;241;43m.\u001B[39;49m\u001B[43moptions\u001B[49m\u001B[38;5;241;43m.\u001B[39;49m\u001B[43mget\u001B[49m\u001B[43m(\u001B[49m\u001B[38;5;124;43m\"\u001B[39;49m\u001B[38;5;124;43mencoding_errors\u001B[39;49m\u001B[38;5;124;43m\"\u001B[39;49m\u001B[43m,\u001B[49m\u001B[43m \u001B[49m\u001B[38;5;124;43m\"\u001B[39;49m\u001B[38;5;124;43mstrict\u001B[39;49m\u001B[38;5;124;43m\"\u001B[39;49m\u001B[43m)\u001B[49m\u001B[43m,\u001B[49m\n\u001B[0;32m   1669\u001B[0m \u001B[43m    \u001B[49m\u001B[43mstorage_options\u001B[49m\u001B[38;5;241;43m=\u001B[39;49m\u001B[38;5;28;43mself\u001B[39;49m\u001B[38;5;241;43m.\u001B[39;49m\u001B[43moptions\u001B[49m\u001B[38;5;241;43m.\u001B[39;49m\u001B[43mget\u001B[49m\u001B[43m(\u001B[49m\u001B[38;5;124;43m\"\u001B[39;49m\u001B[38;5;124;43mstorage_options\u001B[39;49m\u001B[38;5;124;43m\"\u001B[39;49m\u001B[43m,\u001B[49m\u001B[43m \u001B[49m\u001B[38;5;28;43;01mNone\u001B[39;49;00m\u001B[43m)\u001B[49m\u001B[43m,\u001B[49m\n\u001B[0;32m   1670\u001B[0m \u001B[43m\u001B[49m\u001B[43m)\u001B[49m\n\u001B[0;32m   1671\u001B[0m \u001B[38;5;28;01massert\u001B[39;00m \u001B[38;5;28mself\u001B[39m\u001B[38;5;241m.\u001B[39mhandles \u001B[38;5;129;01mis\u001B[39;00m \u001B[38;5;129;01mnot\u001B[39;00m \u001B[38;5;28;01mNone\u001B[39;00m\n\u001B[0;32m   1672\u001B[0m f \u001B[38;5;241m=\u001B[39m \u001B[38;5;28mself\u001B[39m\u001B[38;5;241m.\u001B[39mhandles\u001B[38;5;241m.\u001B[39mhandle\n",
      "File \u001B[1;32m~\\AppData\\Local\\Packages\\PythonSoftwareFoundation.Python.3.11_qbz5n2kfra8p0\\LocalCache\\local-packages\\Python311\\site-packages\\pandas\\io\\common.py:716\u001B[0m, in \u001B[0;36mget_handle\u001B[1;34m(path_or_buf, mode, encoding, compression, memory_map, is_text, errors, storage_options)\u001B[0m\n\u001B[0;32m    713\u001B[0m     codecs\u001B[38;5;241m.\u001B[39mlookup_error(errors)\n\u001B[0;32m    715\u001B[0m \u001B[38;5;66;03m# open URLs\u001B[39;00m\n\u001B[1;32m--> 716\u001B[0m ioargs \u001B[38;5;241m=\u001B[39m \u001B[43m_get_filepath_or_buffer\u001B[49m\u001B[43m(\u001B[49m\n\u001B[0;32m    717\u001B[0m \u001B[43m    \u001B[49m\u001B[43mpath_or_buf\u001B[49m\u001B[43m,\u001B[49m\n\u001B[0;32m    718\u001B[0m \u001B[43m    \u001B[49m\u001B[43mencoding\u001B[49m\u001B[38;5;241;43m=\u001B[39;49m\u001B[43mencoding\u001B[49m\u001B[43m,\u001B[49m\n\u001B[0;32m    719\u001B[0m \u001B[43m    \u001B[49m\u001B[43mcompression\u001B[49m\u001B[38;5;241;43m=\u001B[39;49m\u001B[43mcompression\u001B[49m\u001B[43m,\u001B[49m\n\u001B[0;32m    720\u001B[0m \u001B[43m    \u001B[49m\u001B[43mmode\u001B[49m\u001B[38;5;241;43m=\u001B[39;49m\u001B[43mmode\u001B[49m\u001B[43m,\u001B[49m\n\u001B[0;32m    721\u001B[0m \u001B[43m    \u001B[49m\u001B[43mstorage_options\u001B[49m\u001B[38;5;241;43m=\u001B[39;49m\u001B[43mstorage_options\u001B[49m\u001B[43m,\u001B[49m\n\u001B[0;32m    722\u001B[0m \u001B[43m\u001B[49m\u001B[43m)\u001B[49m\n\u001B[0;32m    724\u001B[0m handle \u001B[38;5;241m=\u001B[39m ioargs\u001B[38;5;241m.\u001B[39mfilepath_or_buffer\n\u001B[0;32m    725\u001B[0m handles: \u001B[38;5;28mlist\u001B[39m[BaseBuffer]\n",
      "File \u001B[1;32m~\\AppData\\Local\\Packages\\PythonSoftwareFoundation.Python.3.11_qbz5n2kfra8p0\\LocalCache\\local-packages\\Python311\\site-packages\\pandas\\io\\common.py:456\u001B[0m, in \u001B[0;36m_get_filepath_or_buffer\u001B[1;34m(filepath_or_buffer, encoding, compression, mode, storage_options)\u001B[0m\n\u001B[0;32m    452\u001B[0m \u001B[38;5;28;01mif\u001B[39;00m \u001B[38;5;129;01mnot\u001B[39;00m (\n\u001B[0;32m    453\u001B[0m     \u001B[38;5;28mhasattr\u001B[39m(filepath_or_buffer, \u001B[38;5;124m\"\u001B[39m\u001B[38;5;124mread\u001B[39m\u001B[38;5;124m\"\u001B[39m) \u001B[38;5;129;01mor\u001B[39;00m \u001B[38;5;28mhasattr\u001B[39m(filepath_or_buffer, \u001B[38;5;124m\"\u001B[39m\u001B[38;5;124mwrite\u001B[39m\u001B[38;5;124m\"\u001B[39m)\n\u001B[0;32m    454\u001B[0m ):\n\u001B[0;32m    455\u001B[0m     msg \u001B[38;5;241m=\u001B[39m \u001B[38;5;124mf\u001B[39m\u001B[38;5;124m\"\u001B[39m\u001B[38;5;124mInvalid file path or buffer object type: \u001B[39m\u001B[38;5;132;01m{\u001B[39;00m\u001B[38;5;28mtype\u001B[39m(filepath_or_buffer)\u001B[38;5;132;01m}\u001B[39;00m\u001B[38;5;124m\"\u001B[39m\n\u001B[1;32m--> 456\u001B[0m     \u001B[38;5;28;01mraise\u001B[39;00m \u001B[38;5;167;01mValueError\u001B[39;00m(msg)\n\u001B[0;32m    458\u001B[0m \u001B[38;5;28;01mreturn\u001B[39;00m IOArgs(\n\u001B[0;32m    459\u001B[0m     filepath_or_buffer\u001B[38;5;241m=\u001B[39mfilepath_or_buffer,\n\u001B[0;32m    460\u001B[0m     encoding\u001B[38;5;241m=\u001B[39mencoding,\n\u001B[1;32m   (...)\u001B[0m\n\u001B[0;32m    463\u001B[0m     mode\u001B[38;5;241m=\u001B[39mmode,\n\u001B[0;32m    464\u001B[0m )\n",
      "\u001B[1;31mValueError\u001B[0m: Invalid file path or buffer object type: <class 'NoneType'>"
     ]
    }
   ],
   "source": [
    "import pandas as pd\n",
    "\n",
    "clinical_data = pd.read_csv(clinical_data_file, sep='\\t', index_col=0)\n",
    "genetic_data = pd.read_csv(genetic_data_file, compression='gzip', sep='\\t', index_col=0)\n",
    "age_col = gender_col = None"
   ]
  },
  {
   "cell_type": "code",
   "execution_count": 175,
   "metadata": {
    "ExecuteTime": {
     "end_time": "2023-12-31T21:19:13.617006167Z",
     "start_time": "2023-12-31T21:19:13.614080653Z"
    },
    "id": "8XwEOygHiaD2"
   },
   "outputs": [],
   "source": [
    "_, clinical_data_cols = check_rows_and_columns(clinical_data)"
   ]
  },
  {
   "cell_type": "code",
   "execution_count": 176,
   "metadata": {
    "ExecuteTime": {
     "end_time": "2023-12-31T21:19:13.661538569Z",
     "start_time": "2023-12-31T21:19:13.615946213Z"
    },
    "id": "TsoPD93diaD2",
    "outputId": "b7b9aa38-4f63-4eea-8648-f208c80a4a60"
   },
   "outputs": [
    {
     "data": {
      "text/plain": [
       "['!Sample_geo_accession',\n",
       " 'GSM2111993',\n",
       " 'GSM2111994',\n",
       " 'GSM2111995',\n",
       " 'GSM2111996',\n",
       " 'GSM2111997',\n",
       " 'GSM2111998',\n",
       " 'GSM2111999',\n",
       " 'GSM2112000',\n",
       " 'GSM2112001']"
      ]
     },
     "execution_count": 176,
     "metadata": {},
     "output_type": "execute_result"
    }
   ],
   "source": [
    "clinical_data_cols[:10]"
   ]
  },
  {
   "cell_type": "markdown",
   "metadata": {
    "ExecuteTime": {
     "end_time": "2023-12-28T20:20:11.841042813Z",
     "start_time": "2023-12-28T20:20:11.834458206Z"
    },
    "collapsed": false,
    "id": "Ejzdxb0diaD2"
   },
   "source": [
    "Read all the column names in the clinical dataset, to find the columns that record information about age or gender.\n",
    "Reference prompt:"
   ]
  },
  {
   "cell_type": "code",
   "execution_count": 177,
   "metadata": {
    "ExecuteTime": {
     "end_time": "2023-12-31T21:19:13.661858700Z",
     "start_time": "2023-12-31T21:19:13.656749487Z"
    },
    "id": "X11W7KfziaD2",
    "outputId": "ef120e77-44dd-443b-f86b-e464d962574c"
   },
   "outputs": [
    {
     "data": {
      "text/plain": [
       "\"\\nBelow is a list of column names from a biomedical dataset. Please examine it and identify the columns that are likely to contain information about patients' age. Additionally, please do the same for columns that may hold data on patients' gender. Please provide your answer by strictly following this format, without redundant words:\\ncandidate_age_cols = [col_name1, col_name2, ...]\\ncandidate_gender_cols = [col_name1, col_name2, ...]\\nIf no columns match a criterion, please provide an empty list.\\n\\nColumn names:\\n['!Sample_geo_accession', 'GSM2111993', 'GSM2111994', 'GSM2111995', 'GSM2111996', 'GSM2111997', 'GSM2111998', 'GSM2111999', 'GSM2112000', 'GSM2112001', 'GSM2112002', 'GSM2112003', 'GSM2112004', 'GSM2112005', 'GSM2112006', 'GSM2112007', 'GSM2112008', 'GSM2112009', 'GSM2112010', 'GSM2112011', 'GSM2112012', 'GSM2112013', 'GSM2112014', 'GSM2112015', 'GSM2112016', 'GSM2112017', 'GSM2112018', 'GSM2112019', 'GSM2112020', 'GSM2112021', 'GSM2112022', 'GSM2112023', 'GSM2112024', 'GSM2112025', 'GSM2112026', 'GSM2112027', 'GSM2112028', 'GSM2112029', 'GSM2112030', 'GSM2112031', 'GSM2112032', 'GSM2112033', 'GSM2112034', 'GSM2112035', 'GSM2112036', 'GSM2112037', 'GSM2112038', 'GSM2112039', 'GSM2112040', 'GSM2112041', 'GSM2112042', 'GSM2112043', 'GSM2112044', 'GSM2112045', 'GSM2112046', 'GSM2112047', 'GSM2112048', 'GSM2112049', 'GSM2112050', 'GSM2112051', 'GSM2112052', 'GSM2112053', 'GSM2112054', 'GSM2112055', 'GSM2112056', 'GSM2112057', 'GSM2112058', 'GSM2112059', 'GSM2112060', 'GSM2112061', 'GSM2112062', 'GSM2112063', 'GSM2112064', 'GSM2112065', 'GSM2112066', 'GSM2112067', 'GSM2112068', 'GSM2112069', 'GSM2112070', 'GSM2112071', 'GSM2112072', 'GSM2112073', 'GSM2112074', 'GSM2112075', 'GSM2112076', 'GSM2112077', 'GSM2112078', 'GSM2112079', 'GSM2112080', 'GSM2112081', 'GSM2112082', 'GSM2112083', 'GSM2112084', 'GSM2112085', 'GSM2112086', 'GSM2112087', 'GSM2112088', 'GSM2112089', 'GSM2112090', 'GSM2112091', 'GSM2112092', 'GSM2112093', 'GSM2112094', 'GSM2112095', 'GSM2112096', 'GSM2112097', 'GSM2112098', 'GSM2112099', 'GSM2112100', 'GSM2112101', 'GSM2112102', 'GSM2112103', 'GSM2112104', 'GSM2112105', 'GSM2112106', 'GSM2112107', 'GSM2112108', 'GSM2112109', 'GSM2112110', 'GSM2112111', 'GSM2112112', 'GSM2112113', 'GSM2112114', 'GSM2112115', 'GSM2112116', 'GSM2112117', 'GSM2112118', 'GSM2112119', 'GSM2112120', 'GSM2112121', 'GSM2112122', 'GSM2112123', 'GSM2112124', 'GSM2112125', 'GSM2112126', 'GSM2112127', 'GSM2112128', 'GSM2112129', 'GSM2112130', 'GSM2112131', 'GSM2112132', 'GSM2112133', 'GSM2112134', 'GSM2112135', 'GSM2112136', 'GSM2112137', 'GSM2112138', 'GSM2112139', 'GSM2112140', 'GSM2112141', 'GSM2112142', 'GSM2112143', 'GSM2112144', 'GSM2112145', 'GSM2112146', 'GSM2112147', 'GSM2112148', 'GSM2112149', 'GSM2112150', 'GSM2112151', 'GSM2112152', 'GSM2112153', 'GSM2112154', 'GSM2112155', 'GSM2112156', 'GSM2112157', 'GSM2112158', 'GSM2112159', 'GSM2112160', 'GSM2112161', 'GSM2112162', 'GSM2112163', 'GSM2112164', 'GSM2112165', 'GSM2112166', 'GSM2112167', 'GSM2112168', 'GSM2112169', 'GSM2112170', 'GSM2112171', 'GSM2112172', 'GSM2112173', 'GSM2112174', 'GSM2112175', 'GSM2112176', 'GSM2112177', 'GSM2112178', 'GSM2112179', 'GSM2112180', 'GSM2112181', 'GSM2112182', 'GSM2112183', 'GSM2112184', 'GSM2112185', 'GSM2112186', 'GSM2112187', 'GSM2112188', 'GSM2112189', 'GSM2112190', 'GSM2112191', 'GSM2112192', 'GSM2112193', 'GSM2112194', 'GSM2112195', 'GSM2112196', 'GSM2112197', 'GSM2112198']\\n\""
      ]
     },
     "execution_count": 177,
     "metadata": {},
     "output_type": "execute_result"
    }
   ],
   "source": [
    "f'''\n",
    "Below is a list of column names from a biomedical dataset. Please examine it and identify the columns that are likely to contain information about patients' age. Additionally, please do the same for columns that may hold data on patients' gender. Please provide your answer by strictly following this format, without redundant words:\n",
    "candidate_age_cols = [col_name1, col_name2, ...]\n",
    "candidate_gender_cols = [col_name1, col_name2, ...]\n",
    "If no columns match a criterion, please provide an empty list.\n",
    "\n",
    "Column names:\n",
    "{clinical_data_cols}\n",
    "'''"
   ]
  },
  {
   "cell_type": "code",
   "execution_count": 178,
   "metadata": {
    "ExecuteTime": {
     "end_time": "2023-12-31T21:19:13.661938833Z",
     "start_time": "2023-12-31T21:19:13.656901848Z"
    },
    "id": "SicVNjZ4iaD2"
   },
   "outputs": [],
   "source": [
    "candidate_age_cols = ['Age_at_Initial_Pathologic_Diagnosis_nature2012', 'age_at_initial_pathologic_diagnosis',\n",
    "                      'days_to_birth', 'year_of_initial_pathologic_diagnosis']\n",
    "candidate_gender_cols = ['Gender_nature2012', 'gender']"
   ]
  },
  {
   "cell_type": "markdown",
   "metadata": {
    "ExecuteTime": {
     "end_time": "2023-12-31T03:57:44.207565572Z",
     "start_time": "2023-12-31T03:57:44.202177544Z"
    },
    "collapsed": false,
    "id": "APRmqURGiaD2"
   },
   "source": [
    "Choose a single column from the candidate columns that record age and gender information respectively.\n",
    "If no column meets the requirement, keep 'age_col' or 'gender_col' to None"
   ]
  },
  {
   "cell_type": "code",
   "execution_count": 179,
   "metadata": {
    "ExecuteTime": {
     "end_time": "2023-12-31T21:19:13.662078139Z",
     "start_time": "2023-12-31T21:19:13.657006017Z"
    },
    "id": "K6uQ_zrZiaD3",
    "outputId": "1602b911-ac43-4f36-8ff6-5366b7bc573a"
   },
   "outputs": [
    {
     "ename": "KeyError",
     "evalue": "\"None of [Index(['Age_at_Initial_Pathologic_Diagnosis_nature2012',\\n       'age_at_initial_pathologic_diagnosis', 'days_to_birth',\\n       'year_of_initial_pathologic_diagnosis'],\\n      dtype='object')] are in the [columns]\"",
     "output_type": "error",
     "traceback": [
      "\u001B[1;31m---------------------------------------------------------------------------\u001B[0m",
      "\u001B[1;31mKeyError\u001B[0m                                  Traceback (most recent call last)",
      "Cell \u001B[1;32mIn[179], line 1\u001B[0m\n\u001B[1;32m----> 1\u001B[0m preview_df(\u001B[43mclinical_data\u001B[49m\u001B[43m[\u001B[49m\u001B[43mcandidate_age_cols\u001B[49m\u001B[43m]\u001B[49m)\n",
      "File \u001B[1;32m~\\AppData\\Local\\Packages\\PythonSoftwareFoundation.Python.3.11_qbz5n2kfra8p0\\LocalCache\\local-packages\\Python311\\site-packages\\pandas\\core\\frame.py:3767\u001B[0m, in \u001B[0;36mDataFrame.__getitem__\u001B[1;34m(self, key)\u001B[0m\n\u001B[0;32m   3765\u001B[0m     \u001B[38;5;28;01mif\u001B[39;00m is_iterator(key):\n\u001B[0;32m   3766\u001B[0m         key \u001B[38;5;241m=\u001B[39m \u001B[38;5;28mlist\u001B[39m(key)\n\u001B[1;32m-> 3767\u001B[0m     indexer \u001B[38;5;241m=\u001B[39m \u001B[38;5;28;43mself\u001B[39;49m\u001B[38;5;241;43m.\u001B[39;49m\u001B[43mcolumns\u001B[49m\u001B[38;5;241;43m.\u001B[39;49m\u001B[43m_get_indexer_strict\u001B[49m\u001B[43m(\u001B[49m\u001B[43mkey\u001B[49m\u001B[43m,\u001B[49m\u001B[43m \u001B[49m\u001B[38;5;124;43m\"\u001B[39;49m\u001B[38;5;124;43mcolumns\u001B[39;49m\u001B[38;5;124;43m\"\u001B[39;49m\u001B[43m)\u001B[49m[\u001B[38;5;241m1\u001B[39m]\n\u001B[0;32m   3769\u001B[0m \u001B[38;5;66;03m# take() does not accept boolean indexers\u001B[39;00m\n\u001B[0;32m   3770\u001B[0m \u001B[38;5;28;01mif\u001B[39;00m \u001B[38;5;28mgetattr\u001B[39m(indexer, \u001B[38;5;124m\"\u001B[39m\u001B[38;5;124mdtype\u001B[39m\u001B[38;5;124m\"\u001B[39m, \u001B[38;5;28;01mNone\u001B[39;00m) \u001B[38;5;241m==\u001B[39m \u001B[38;5;28mbool\u001B[39m:\n",
      "File \u001B[1;32m~\\AppData\\Local\\Packages\\PythonSoftwareFoundation.Python.3.11_qbz5n2kfra8p0\\LocalCache\\local-packages\\Python311\\site-packages\\pandas\\core\\indexes\\base.py:5877\u001B[0m, in \u001B[0;36mIndex._get_indexer_strict\u001B[1;34m(self, key, axis_name)\u001B[0m\n\u001B[0;32m   5874\u001B[0m \u001B[38;5;28;01melse\u001B[39;00m:\n\u001B[0;32m   5875\u001B[0m     keyarr, indexer, new_indexer \u001B[38;5;241m=\u001B[39m \u001B[38;5;28mself\u001B[39m\u001B[38;5;241m.\u001B[39m_reindex_non_unique(keyarr)\n\u001B[1;32m-> 5877\u001B[0m \u001B[38;5;28;43mself\u001B[39;49m\u001B[38;5;241;43m.\u001B[39;49m\u001B[43m_raise_if_missing\u001B[49m\u001B[43m(\u001B[49m\u001B[43mkeyarr\u001B[49m\u001B[43m,\u001B[49m\u001B[43m \u001B[49m\u001B[43mindexer\u001B[49m\u001B[43m,\u001B[49m\u001B[43m \u001B[49m\u001B[43maxis_name\u001B[49m\u001B[43m)\u001B[49m\n\u001B[0;32m   5879\u001B[0m keyarr \u001B[38;5;241m=\u001B[39m \u001B[38;5;28mself\u001B[39m\u001B[38;5;241m.\u001B[39mtake(indexer)\n\u001B[0;32m   5880\u001B[0m \u001B[38;5;28;01mif\u001B[39;00m \u001B[38;5;28misinstance\u001B[39m(key, Index):\n\u001B[0;32m   5881\u001B[0m     \u001B[38;5;66;03m# GH 42790 - Preserve name from an Index\u001B[39;00m\n",
      "File \u001B[1;32m~\\AppData\\Local\\Packages\\PythonSoftwareFoundation.Python.3.11_qbz5n2kfra8p0\\LocalCache\\local-packages\\Python311\\site-packages\\pandas\\core\\indexes\\base.py:5938\u001B[0m, in \u001B[0;36mIndex._raise_if_missing\u001B[1;34m(self, key, indexer, axis_name)\u001B[0m\n\u001B[0;32m   5936\u001B[0m     \u001B[38;5;28;01mif\u001B[39;00m use_interval_msg:\n\u001B[0;32m   5937\u001B[0m         key \u001B[38;5;241m=\u001B[39m \u001B[38;5;28mlist\u001B[39m(key)\n\u001B[1;32m-> 5938\u001B[0m     \u001B[38;5;28;01mraise\u001B[39;00m \u001B[38;5;167;01mKeyError\u001B[39;00m(\u001B[38;5;124mf\u001B[39m\u001B[38;5;124m\"\u001B[39m\u001B[38;5;124mNone of [\u001B[39m\u001B[38;5;132;01m{\u001B[39;00mkey\u001B[38;5;132;01m}\u001B[39;00m\u001B[38;5;124m] are in the [\u001B[39m\u001B[38;5;132;01m{\u001B[39;00maxis_name\u001B[38;5;132;01m}\u001B[39;00m\u001B[38;5;124m]\u001B[39m\u001B[38;5;124m\"\u001B[39m)\n\u001B[0;32m   5940\u001B[0m not_found \u001B[38;5;241m=\u001B[39m \u001B[38;5;28mlist\u001B[39m(ensure_index(key)[missing_mask\u001B[38;5;241m.\u001B[39mnonzero()[\u001B[38;5;241m0\u001B[39m]]\u001B[38;5;241m.\u001B[39munique())\n\u001B[0;32m   5941\u001B[0m \u001B[38;5;28;01mraise\u001B[39;00m \u001B[38;5;167;01mKeyError\u001B[39;00m(\u001B[38;5;124mf\u001B[39m\u001B[38;5;124m\"\u001B[39m\u001B[38;5;132;01m{\u001B[39;00mnot_found\u001B[38;5;132;01m}\u001B[39;00m\u001B[38;5;124m not in index\u001B[39m\u001B[38;5;124m\"\u001B[39m)\n",
      "\u001B[1;31mKeyError\u001B[0m: \"None of [Index(['Age_at_Initial_Pathologic_Diagnosis_nature2012',\\n       'age_at_initial_pathologic_diagnosis', 'days_to_birth',\\n       'year_of_initial_pathologic_diagnosis'],\\n      dtype='object')] are in the [columns]\""
     ]
    }
   ],
   "source": [
    "preview_df(clinical_data[candidate_age_cols])"
   ]
  },
  {
   "cell_type": "code",
   "execution_count": 180,
   "metadata": {
    "ExecuteTime": {
     "end_time": "2023-12-31T21:19:13.777159137Z",
     "start_time": "2023-12-31T21:19:13.756210135Z"
    },
    "id": "ks4TtmqNiaD3"
   },
   "outputs": [],
   "source": [
    "age_col = 'age_at_initial_pathologic_diagnosis'"
   ]
  },
  {
   "cell_type": "code",
   "execution_count": 181,
   "metadata": {
    "ExecuteTime": {
     "end_time": "2023-12-31T21:19:14.313425023Z",
     "start_time": "2023-12-31T21:19:14.305221062Z"
    },
    "id": "piIf5weZiaD3",
    "outputId": "08a17b50-20d8-41bd-e1c7-fd8020193ceb"
   },
   "outputs": [
    {
     "ename": "KeyError",
     "evalue": "\"None of [Index(['Gender_nature2012', 'gender'], dtype='object')] are in the [columns]\"",
     "output_type": "error",
     "traceback": [
      "\u001B[1;31m---------------------------------------------------------------------------\u001B[0m",
      "\u001B[1;31mKeyError\u001B[0m                                  Traceback (most recent call last)",
      "Cell \u001B[1;32mIn[181], line 1\u001B[0m\n\u001B[1;32m----> 1\u001B[0m preview_df(\u001B[43mclinical_data\u001B[49m\u001B[43m[\u001B[49m\u001B[43mcandidate_gender_cols\u001B[49m\u001B[43m]\u001B[49m)\n",
      "File \u001B[1;32m~\\AppData\\Local\\Packages\\PythonSoftwareFoundation.Python.3.11_qbz5n2kfra8p0\\LocalCache\\local-packages\\Python311\\site-packages\\pandas\\core\\frame.py:3767\u001B[0m, in \u001B[0;36mDataFrame.__getitem__\u001B[1;34m(self, key)\u001B[0m\n\u001B[0;32m   3765\u001B[0m     \u001B[38;5;28;01mif\u001B[39;00m is_iterator(key):\n\u001B[0;32m   3766\u001B[0m         key \u001B[38;5;241m=\u001B[39m \u001B[38;5;28mlist\u001B[39m(key)\n\u001B[1;32m-> 3767\u001B[0m     indexer \u001B[38;5;241m=\u001B[39m \u001B[38;5;28;43mself\u001B[39;49m\u001B[38;5;241;43m.\u001B[39;49m\u001B[43mcolumns\u001B[49m\u001B[38;5;241;43m.\u001B[39;49m\u001B[43m_get_indexer_strict\u001B[49m\u001B[43m(\u001B[49m\u001B[43mkey\u001B[49m\u001B[43m,\u001B[49m\u001B[43m \u001B[49m\u001B[38;5;124;43m\"\u001B[39;49m\u001B[38;5;124;43mcolumns\u001B[39;49m\u001B[38;5;124;43m\"\u001B[39;49m\u001B[43m)\u001B[49m[\u001B[38;5;241m1\u001B[39m]\n\u001B[0;32m   3769\u001B[0m \u001B[38;5;66;03m# take() does not accept boolean indexers\u001B[39;00m\n\u001B[0;32m   3770\u001B[0m \u001B[38;5;28;01mif\u001B[39;00m \u001B[38;5;28mgetattr\u001B[39m(indexer, \u001B[38;5;124m\"\u001B[39m\u001B[38;5;124mdtype\u001B[39m\u001B[38;5;124m\"\u001B[39m, \u001B[38;5;28;01mNone\u001B[39;00m) \u001B[38;5;241m==\u001B[39m \u001B[38;5;28mbool\u001B[39m:\n",
      "File \u001B[1;32m~\\AppData\\Local\\Packages\\PythonSoftwareFoundation.Python.3.11_qbz5n2kfra8p0\\LocalCache\\local-packages\\Python311\\site-packages\\pandas\\core\\indexes\\base.py:5877\u001B[0m, in \u001B[0;36mIndex._get_indexer_strict\u001B[1;34m(self, key, axis_name)\u001B[0m\n\u001B[0;32m   5874\u001B[0m \u001B[38;5;28;01melse\u001B[39;00m:\n\u001B[0;32m   5875\u001B[0m     keyarr, indexer, new_indexer \u001B[38;5;241m=\u001B[39m \u001B[38;5;28mself\u001B[39m\u001B[38;5;241m.\u001B[39m_reindex_non_unique(keyarr)\n\u001B[1;32m-> 5877\u001B[0m \u001B[38;5;28;43mself\u001B[39;49m\u001B[38;5;241;43m.\u001B[39;49m\u001B[43m_raise_if_missing\u001B[49m\u001B[43m(\u001B[49m\u001B[43mkeyarr\u001B[49m\u001B[43m,\u001B[49m\u001B[43m \u001B[49m\u001B[43mindexer\u001B[49m\u001B[43m,\u001B[49m\u001B[43m \u001B[49m\u001B[43maxis_name\u001B[49m\u001B[43m)\u001B[49m\n\u001B[0;32m   5879\u001B[0m keyarr \u001B[38;5;241m=\u001B[39m \u001B[38;5;28mself\u001B[39m\u001B[38;5;241m.\u001B[39mtake(indexer)\n\u001B[0;32m   5880\u001B[0m \u001B[38;5;28;01mif\u001B[39;00m \u001B[38;5;28misinstance\u001B[39m(key, Index):\n\u001B[0;32m   5881\u001B[0m     \u001B[38;5;66;03m# GH 42790 - Preserve name from an Index\u001B[39;00m\n",
      "File \u001B[1;32m~\\AppData\\Local\\Packages\\PythonSoftwareFoundation.Python.3.11_qbz5n2kfra8p0\\LocalCache\\local-packages\\Python311\\site-packages\\pandas\\core\\indexes\\base.py:5938\u001B[0m, in \u001B[0;36mIndex._raise_if_missing\u001B[1;34m(self, key, indexer, axis_name)\u001B[0m\n\u001B[0;32m   5936\u001B[0m     \u001B[38;5;28;01mif\u001B[39;00m use_interval_msg:\n\u001B[0;32m   5937\u001B[0m         key \u001B[38;5;241m=\u001B[39m \u001B[38;5;28mlist\u001B[39m(key)\n\u001B[1;32m-> 5938\u001B[0m     \u001B[38;5;28;01mraise\u001B[39;00m \u001B[38;5;167;01mKeyError\u001B[39;00m(\u001B[38;5;124mf\u001B[39m\u001B[38;5;124m\"\u001B[39m\u001B[38;5;124mNone of [\u001B[39m\u001B[38;5;132;01m{\u001B[39;00mkey\u001B[38;5;132;01m}\u001B[39;00m\u001B[38;5;124m] are in the [\u001B[39m\u001B[38;5;132;01m{\u001B[39;00maxis_name\u001B[38;5;132;01m}\u001B[39;00m\u001B[38;5;124m]\u001B[39m\u001B[38;5;124m\"\u001B[39m)\n\u001B[0;32m   5940\u001B[0m not_found \u001B[38;5;241m=\u001B[39m \u001B[38;5;28mlist\u001B[39m(ensure_index(key)[missing_mask\u001B[38;5;241m.\u001B[39mnonzero()[\u001B[38;5;241m0\u001B[39m]]\u001B[38;5;241m.\u001B[39munique())\n\u001B[0;32m   5941\u001B[0m \u001B[38;5;28;01mraise\u001B[39;00m \u001B[38;5;167;01mKeyError\u001B[39;00m(\u001B[38;5;124mf\u001B[39m\u001B[38;5;124m\"\u001B[39m\u001B[38;5;132;01m{\u001B[39;00mnot_found\u001B[38;5;132;01m}\u001B[39;00m\u001B[38;5;124m not in index\u001B[39m\u001B[38;5;124m\"\u001B[39m)\n",
      "\u001B[1;31mKeyError\u001B[0m: \"None of [Index(['Gender_nature2012', 'gender'], dtype='object')] are in the [columns]\""
     ]
    }
   ],
   "source": [
    "preview_df(clinical_data[candidate_gender_cols])"
   ]
  },
  {
   "cell_type": "code",
   "execution_count": 182,
   "metadata": {
    "ExecuteTime": {
     "end_time": "2023-12-31T21:19:14.852502962Z",
     "start_time": "2023-12-31T21:19:14.845153121Z"
    },
    "id": "tPNM-3cdiaD3"
   },
   "outputs": [],
   "source": [
    "gender_col = 'gender'"
   ]
  },
  {
   "cell_type": "code",
   "execution_count": 183,
   "metadata": {
    "ExecuteTime": {
     "end_time": "2023-12-31T21:19:15.246065025Z",
     "start_time": "2023-12-31T21:19:15.240279162Z"
    },
    "id": "Ed3TUm8_iaD3"
   },
   "outputs": [
    {
     "ename": "TypeError",
     "evalue": "'int' object is not subscriptable",
     "output_type": "error",
     "traceback": [
      "\u001B[1;31m---------------------------------------------------------------------------\u001B[0m",
      "\u001B[1;31mTypeError\u001B[0m                                 Traceback (most recent call last)",
      "Cell \u001B[1;32mIn[183], line 1\u001B[0m\n\u001B[1;32m----> 1\u001B[0m selected_clinical_data \u001B[38;5;241m=\u001B[39m \u001B[43mxena_select_clinical_features\u001B[49m\u001B[43m(\u001B[49m\u001B[43mclinical_data\u001B[49m\u001B[43m,\u001B[49m\u001B[43m \u001B[49m\u001B[43mTRAIT\u001B[49m\u001B[43m,\u001B[49m\u001B[43m \u001B[49m\u001B[43mage_col\u001B[49m\u001B[43m,\u001B[49m\u001B[43m \u001B[49m\u001B[43mgender_col\u001B[49m\u001B[43m)\u001B[49m\n",
      "Cell \u001B[1;32mIn[163], line 660\u001B[0m, in \u001B[0;36mxena_select_clinical_features\u001B[1;34m(clinical_df, trait, age_col, gender_col)\u001B[0m\n\u001B[0;32m    658\u001B[0m \u001B[38;5;28;01mdef\u001B[39;00m \u001B[38;5;21mxena_select_clinical_features\u001B[39m(clinical_df, trait, age_col\u001B[38;5;241m=\u001B[39m\u001B[38;5;28;01mNone\u001B[39;00m, gender_col\u001B[38;5;241m=\u001B[39m\u001B[38;5;28;01mNone\u001B[39;00m):\n\u001B[0;32m    659\u001B[0m     feature_list \u001B[38;5;241m=\u001B[39m []\n\u001B[1;32m--> 660\u001B[0m     trait_data \u001B[38;5;241m=\u001B[39m \u001B[43mclinical_df\u001B[49m\u001B[38;5;241;43m.\u001B[39;49m\u001B[43mindex\u001B[49m\u001B[38;5;241;43m.\u001B[39;49m\u001B[43mto_series\u001B[49m\u001B[43m(\u001B[49m\u001B[43m)\u001B[49m\u001B[38;5;241;43m.\u001B[39;49m\u001B[43mapply\u001B[49m\u001B[43m(\u001B[49m\u001B[43mxena_convert_trait\u001B[49m\u001B[43m)\u001B[49m\u001B[38;5;241m.\u001B[39mrename(trait)\n\u001B[0;32m    661\u001B[0m     feature_list\u001B[38;5;241m.\u001B[39mappend(trait_data)\n\u001B[0;32m    662\u001B[0m     \u001B[38;5;28;01mif\u001B[39;00m age_col:\n",
      "File \u001B[1;32m~\\AppData\\Local\\Packages\\PythonSoftwareFoundation.Python.3.11_qbz5n2kfra8p0\\LocalCache\\local-packages\\Python311\\site-packages\\pandas\\core\\series.py:4630\u001B[0m, in \u001B[0;36mSeries.apply\u001B[1;34m(self, func, convert_dtype, args, **kwargs)\u001B[0m\n\u001B[0;32m   4520\u001B[0m \u001B[38;5;28;01mdef\u001B[39;00m \u001B[38;5;21mapply\u001B[39m(\n\u001B[0;32m   4521\u001B[0m     \u001B[38;5;28mself\u001B[39m,\n\u001B[0;32m   4522\u001B[0m     func: AggFuncType,\n\u001B[1;32m   (...)\u001B[0m\n\u001B[0;32m   4525\u001B[0m     \u001B[38;5;241m*\u001B[39m\u001B[38;5;241m*\u001B[39mkwargs,\n\u001B[0;32m   4526\u001B[0m ) \u001B[38;5;241m-\u001B[39m\u001B[38;5;241m>\u001B[39m DataFrame \u001B[38;5;241m|\u001B[39m Series:\n\u001B[0;32m   4527\u001B[0m \u001B[38;5;250m    \u001B[39m\u001B[38;5;124;03m\"\"\"\u001B[39;00m\n\u001B[0;32m   4528\u001B[0m \u001B[38;5;124;03m    Invoke function on values of Series.\u001B[39;00m\n\u001B[0;32m   4529\u001B[0m \n\u001B[1;32m   (...)\u001B[0m\n\u001B[0;32m   4628\u001B[0m \u001B[38;5;124;03m    dtype: float64\u001B[39;00m\n\u001B[0;32m   4629\u001B[0m \u001B[38;5;124;03m    \"\"\"\u001B[39;00m\n\u001B[1;32m-> 4630\u001B[0m     \u001B[38;5;28;01mreturn\u001B[39;00m \u001B[43mSeriesApply\u001B[49m\u001B[43m(\u001B[49m\u001B[38;5;28;43mself\u001B[39;49m\u001B[43m,\u001B[49m\u001B[43m \u001B[49m\u001B[43mfunc\u001B[49m\u001B[43m,\u001B[49m\u001B[43m \u001B[49m\u001B[43mconvert_dtype\u001B[49m\u001B[43m,\u001B[49m\u001B[43m \u001B[49m\u001B[43margs\u001B[49m\u001B[43m,\u001B[49m\u001B[43m \u001B[49m\u001B[43mkwargs\u001B[49m\u001B[43m)\u001B[49m\u001B[38;5;241;43m.\u001B[39;49m\u001B[43mapply\u001B[49m\u001B[43m(\u001B[49m\u001B[43m)\u001B[49m\n",
      "File \u001B[1;32m~\\AppData\\Local\\Packages\\PythonSoftwareFoundation.Python.3.11_qbz5n2kfra8p0\\LocalCache\\local-packages\\Python311\\site-packages\\pandas\\core\\apply.py:1025\u001B[0m, in \u001B[0;36mSeriesApply.apply\u001B[1;34m(self)\u001B[0m\n\u001B[0;32m   1022\u001B[0m     \u001B[38;5;28;01mreturn\u001B[39;00m \u001B[38;5;28mself\u001B[39m\u001B[38;5;241m.\u001B[39mapply_str()\n\u001B[0;32m   1024\u001B[0m \u001B[38;5;66;03m# self.f is Callable\u001B[39;00m\n\u001B[1;32m-> 1025\u001B[0m \u001B[38;5;28;01mreturn\u001B[39;00m \u001B[38;5;28;43mself\u001B[39;49m\u001B[38;5;241;43m.\u001B[39;49m\u001B[43mapply_standard\u001B[49m\u001B[43m(\u001B[49m\u001B[43m)\u001B[49m\n",
      "File \u001B[1;32m~\\AppData\\Local\\Packages\\PythonSoftwareFoundation.Python.3.11_qbz5n2kfra8p0\\LocalCache\\local-packages\\Python311\\site-packages\\pandas\\core\\apply.py:1076\u001B[0m, in \u001B[0;36mSeriesApply.apply_standard\u001B[1;34m(self)\u001B[0m\n\u001B[0;32m   1074\u001B[0m     \u001B[38;5;28;01melse\u001B[39;00m:\n\u001B[0;32m   1075\u001B[0m         values \u001B[38;5;241m=\u001B[39m obj\u001B[38;5;241m.\u001B[39mastype(\u001B[38;5;28mobject\u001B[39m)\u001B[38;5;241m.\u001B[39m_values\n\u001B[1;32m-> 1076\u001B[0m         mapped \u001B[38;5;241m=\u001B[39m \u001B[43mlib\u001B[49m\u001B[38;5;241;43m.\u001B[39;49m\u001B[43mmap_infer\u001B[49m\u001B[43m(\u001B[49m\n\u001B[0;32m   1077\u001B[0m \u001B[43m            \u001B[49m\u001B[43mvalues\u001B[49m\u001B[43m,\u001B[49m\n\u001B[0;32m   1078\u001B[0m \u001B[43m            \u001B[49m\u001B[43mf\u001B[49m\u001B[43m,\u001B[49m\n\u001B[0;32m   1079\u001B[0m \u001B[43m            \u001B[49m\u001B[43mconvert\u001B[49m\u001B[38;5;241;43m=\u001B[39;49m\u001B[38;5;28;43mself\u001B[39;49m\u001B[38;5;241;43m.\u001B[39;49m\u001B[43mconvert_dtype\u001B[49m\u001B[43m,\u001B[49m\n\u001B[0;32m   1080\u001B[0m \u001B[43m        \u001B[49m\u001B[43m)\u001B[49m\n\u001B[0;32m   1082\u001B[0m \u001B[38;5;28;01mif\u001B[39;00m \u001B[38;5;28mlen\u001B[39m(mapped) \u001B[38;5;129;01mand\u001B[39;00m \u001B[38;5;28misinstance\u001B[39m(mapped[\u001B[38;5;241m0\u001B[39m], ABCSeries):\n\u001B[0;32m   1083\u001B[0m     \u001B[38;5;66;03m# GH#43986 Need to do list(mapped) in order to get treated as nested\u001B[39;00m\n\u001B[0;32m   1084\u001B[0m     \u001B[38;5;66;03m#  See also GH#25959 regarding EA support\u001B[39;00m\n\u001B[0;32m   1085\u001B[0m     \u001B[38;5;28;01mreturn\u001B[39;00m obj\u001B[38;5;241m.\u001B[39m_constructor_expanddim(\u001B[38;5;28mlist\u001B[39m(mapped), index\u001B[38;5;241m=\u001B[39mobj\u001B[38;5;241m.\u001B[39mindex)\n",
      "File \u001B[1;32m~\\AppData\\Local\\Packages\\PythonSoftwareFoundation.Python.3.11_qbz5n2kfra8p0\\LocalCache\\local-packages\\Python311\\site-packages\\pandas\\_libs\\lib.pyx:2834\u001B[0m, in \u001B[0;36mpandas._libs.lib.map_infer\u001B[1;34m()\u001B[0m\n",
      "Cell \u001B[1;32mIn[163], line 578\u001B[0m, in \u001B[0;36mxena_convert_trait\u001B[1;34m(row_index)\u001B[0m\n\u001B[0;32m    571\u001B[0m \u001B[38;5;28;01mdef\u001B[39;00m \u001B[38;5;21mxena_convert_trait\u001B[39m(row_index: \u001B[38;5;28mstr\u001B[39m):\n\u001B[0;32m    572\u001B[0m \u001B[38;5;250m    \u001B[39m\u001B[38;5;124;03m\"\"\"\u001B[39;00m\n\u001B[0;32m    573\u001B[0m \u001B[38;5;124;03m    Convert the trait information from Sample IDs to labels depending on the last two digits.\u001B[39;00m\n\u001B[0;32m    574\u001B[0m \u001B[38;5;124;03m    Tumor types range from 01 - 09, normal types from 10 - 19.\u001B[39;00m\n\u001B[0;32m    575\u001B[0m \u001B[38;5;124;03m    :param row_index: the index value of a row\u001B[39;00m\n\u001B[0;32m    576\u001B[0m \u001B[38;5;124;03m    :return: the converted value\u001B[39;00m\n\u001B[0;32m    577\u001B[0m \u001B[38;5;124;03m    \"\"\"\u001B[39;00m\n\u001B[1;32m--> 578\u001B[0m     last_two_digits \u001B[38;5;241m=\u001B[39m \u001B[38;5;28mint\u001B[39m(\u001B[43mrow_index\u001B[49m\u001B[43m[\u001B[49m\u001B[38;5;241;43m-\u001B[39;49m\u001B[38;5;241;43m2\u001B[39;49m\u001B[43m:\u001B[49m\u001B[43m]\u001B[49m)\n\u001B[0;32m    580\u001B[0m     \u001B[38;5;28;01mif\u001B[39;00m \u001B[38;5;241m1\u001B[39m \u001B[38;5;241m<\u001B[39m\u001B[38;5;241m=\u001B[39m last_two_digits \u001B[38;5;241m<\u001B[39m\u001B[38;5;241m=\u001B[39m \u001B[38;5;241m9\u001B[39m:\n\u001B[0;32m    581\u001B[0m         \u001B[38;5;28;01mreturn\u001B[39;00m \u001B[38;5;241m1\u001B[39m\n",
      "\u001B[1;31mTypeError\u001B[0m: 'int' object is not subscriptable"
     ]
    }
   ],
   "source": [
    "selected_clinical_data = xena_select_clinical_features(clinical_data, TRAIT, age_col, gender_col)"
   ]
  },
  {
   "cell_type": "code",
   "execution_count": null,
   "metadata": {
    "ExecuteTime": {
     "end_time": "2023-12-31T21:19:15.593478652Z",
     "start_time": "2023-12-31T21:19:15.583841656Z"
    },
    "id": "4BDE6fnKiaD3"
   },
   "outputs": [],
   "source": [
    "if NORMALIZE_GENE:\n",
    "    genetic_data = normalize_gene_symbols_in_index(genetic_data)"
   ]
  },
  {
   "cell_type": "code",
   "execution_count": null,
   "metadata": {
    "ExecuteTime": {
     "end_time": "2023-12-31T21:19:16.074598194Z",
     "start_time": "2023-12-31T21:19:15.973600157Z"
    },
    "id": "Kao1VPxfiaD3",
    "outputId": "a072e535-52f6-4ebf-8ba6-c2f59accfea7"
   },
   "outputs": [
    {
     "data": {
      "text/html": [
       "<div>\n",
       "<style scoped>\n",
       "    .dataframe tbody tr th:only-of-type {\n",
       "        vertical-align: middle;\n",
       "    }\n",
       "\n",
       "    .dataframe tbody tr th {\n",
       "        vertical-align: top;\n",
       "    }\n",
       "\n",
       "    .dataframe thead th {\n",
       "        text-align: right;\n",
       "    }\n",
       "</style>\n",
       "<table border=\"1\" class=\"dataframe\">\n",
       "  <thead>\n",
       "    <tr style=\"text-align: right;\">\n",
       "      <th></th>\n",
       "      <th>Breast Cancer</th>\n",
       "      <th>Age</th>\n",
       "      <th>Gender</th>\n",
       "      <th>ARHGEF10L</th>\n",
       "      <th>HIF3A</th>\n",
       "      <th>RNF17</th>\n",
       "      <th>RNF10</th>\n",
       "      <th>RNF11</th>\n",
       "      <th>RNF13</th>\n",
       "      <th>GTF2IP1</th>\n",
       "      <th>...</th>\n",
       "      <th>TULP2</th>\n",
       "      <th>NPY5R</th>\n",
       "      <th>GNGT2</th>\n",
       "      <th>GNGT1</th>\n",
       "      <th>TULP3</th>\n",
       "      <th>PTRF</th>\n",
       "      <th>BCL6B</th>\n",
       "      <th>GSTK1</th>\n",
       "      <th>SELP</th>\n",
       "      <th>SELS</th>\n",
       "    </tr>\n",
       "    <tr>\n",
       "      <th>sampleID</th>\n",
       "      <th></th>\n",
       "      <th></th>\n",
       "      <th></th>\n",
       "      <th></th>\n",
       "      <th></th>\n",
       "      <th></th>\n",
       "      <th></th>\n",
       "      <th></th>\n",
       "      <th></th>\n",
       "      <th></th>\n",
       "      <th></th>\n",
       "      <th></th>\n",
       "      <th></th>\n",
       "      <th></th>\n",
       "      <th></th>\n",
       "      <th></th>\n",
       "      <th></th>\n",
       "      <th></th>\n",
       "      <th></th>\n",
       "      <th></th>\n",
       "      <th></th>\n",
       "    </tr>\n",
       "  </thead>\n",
       "  <tbody>\n",
       "    <tr>\n",
       "      <th>TCGA-3C-AAAU-01</th>\n",
       "      <td>1</td>\n",
       "      <td>55.0</td>\n",
       "      <td>0.0</td>\n",
       "      <td>0.607308</td>\n",
       "      <td>-3.194126</td>\n",
       "      <td>-0.531035</td>\n",
       "      <td>-0.145872</td>\n",
       "      <td>0.237422</td>\n",
       "      <td>-0.29921</td>\n",
       "      <td>-0.142694</td>\n",
       "      <td>...</td>\n",
       "      <td>-0.748878</td>\n",
       "      <td>0.565583</td>\n",
       "      <td>-0.767233</td>\n",
       "      <td>-1.28139</td>\n",
       "      <td>-0.271377</td>\n",
       "      <td>-0.492286</td>\n",
       "      <td>0.360373</td>\n",
       "      <td>1.067905</td>\n",
       "      <td>0.076267</td>\n",
       "      <td>-0.392212</td>\n",
       "    </tr>\n",
       "    <tr>\n",
       "      <th>TCGA-3C-AALI-01</th>\n",
       "      <td>1</td>\n",
       "      <td>50.0</td>\n",
       "      <td>0.0</td>\n",
       "      <td>-0.641192</td>\n",
       "      <td>-4.928226</td>\n",
       "      <td>0.095465</td>\n",
       "      <td>0.098128</td>\n",
       "      <td>-0.541978</td>\n",
       "      <td>-0.32291</td>\n",
       "      <td>-0.044694</td>\n",
       "      <td>...</td>\n",
       "      <td>0.312922</td>\n",
       "      <td>0.079683</td>\n",
       "      <td>0.475267</td>\n",
       "      <td>1.99661</td>\n",
       "      <td>0.161423</td>\n",
       "      <td>0.273714</td>\n",
       "      <td>0.644673</td>\n",
       "      <td>-0.428695</td>\n",
       "      <td>0.068667</td>\n",
       "      <td>-0.043812</td>\n",
       "    </tr>\n",
       "    <tr>\n",
       "      <th>TCGA-3C-AALJ-01</th>\n",
       "      <td>1</td>\n",
       "      <td>62.0</td>\n",
       "      <td>0.0</td>\n",
       "      <td>1.082808</td>\n",
       "      <td>-4.623726</td>\n",
       "      <td>-0.531035</td>\n",
       "      <td>0.484028</td>\n",
       "      <td>-0.183678</td>\n",
       "      <td>-0.91901</td>\n",
       "      <td>0.261106</td>\n",
       "      <td>...</td>\n",
       "      <td>-0.748878</td>\n",
       "      <td>-0.656117</td>\n",
       "      <td>-0.216733</td>\n",
       "      <td>0.21081</td>\n",
       "      <td>0.101023</td>\n",
       "      <td>0.660514</td>\n",
       "      <td>1.295073</td>\n",
       "      <td>0.915105</td>\n",
       "      <td>0.168567</td>\n",
       "      <td>0.047788</td>\n",
       "    </tr>\n",
       "    <tr>\n",
       "      <th>TCGA-3C-AALK-01</th>\n",
       "      <td>1</td>\n",
       "      <td>52.0</td>\n",
       "      <td>0.0</td>\n",
       "      <td>0.121608</td>\n",
       "      <td>-2.881526</td>\n",
       "      <td>-0.531035</td>\n",
       "      <td>0.179128</td>\n",
       "      <td>0.039222</td>\n",
       "      <td>-0.45491</td>\n",
       "      <td>0.180306</td>\n",
       "      <td>...</td>\n",
       "      <td>0.415422</td>\n",
       "      <td>-0.178417</td>\n",
       "      <td>-0.211233</td>\n",
       "      <td>-1.28139</td>\n",
       "      <td>0.108023</td>\n",
       "      <td>1.132814</td>\n",
       "      <td>0.496773</td>\n",
       "      <td>0.240105</td>\n",
       "      <td>3.099767</td>\n",
       "      <td>0.112888</td>\n",
       "    </tr>\n",
       "    <tr>\n",
       "      <th>TCGA-4H-AAAK-01</th>\n",
       "      <td>1</td>\n",
       "      <td>50.0</td>\n",
       "      <td>0.0</td>\n",
       "      <td>0.420208</td>\n",
       "      <td>-3.282726</td>\n",
       "      <td>-0.531035</td>\n",
       "      <td>-0.020972</td>\n",
       "      <td>-0.117978</td>\n",
       "      <td>-0.55781</td>\n",
       "      <td>-0.173794</td>\n",
       "      <td>...</td>\n",
       "      <td>0.685222</td>\n",
       "      <td>-0.698717</td>\n",
       "      <td>-0.484233</td>\n",
       "      <td>-1.28139</td>\n",
       "      <td>-0.223577</td>\n",
       "      <td>1.222714</td>\n",
       "      <td>0.225573</td>\n",
       "      <td>-0.301995</td>\n",
       "      <td>0.200067</td>\n",
       "      <td>-0.080212</td>\n",
       "    </tr>\n",
       "  </tbody>\n",
       "</table>\n",
       "<p>5 rows × 20533 columns</p>\n",
       "</div>"
      ],
      "text/plain": [
       "                 Breast Cancer   Age  Gender  ARHGEF10L     HIF3A     RNF17  \\\n",
       "sampleID                                                                      \n",
       "TCGA-3C-AAAU-01              1  55.0     0.0   0.607308 -3.194126 -0.531035   \n",
       "TCGA-3C-AALI-01              1  50.0     0.0  -0.641192 -4.928226  0.095465   \n",
       "TCGA-3C-AALJ-01              1  62.0     0.0   1.082808 -4.623726 -0.531035   \n",
       "TCGA-3C-AALK-01              1  52.0     0.0   0.121608 -2.881526 -0.531035   \n",
       "TCGA-4H-AAAK-01              1  50.0     0.0   0.420208 -3.282726 -0.531035   \n",
       "\n",
       "                    RNF10     RNF11    RNF13   GTF2IP1  ...     TULP2  \\\n",
       "sampleID                                                ...             \n",
       "TCGA-3C-AAAU-01 -0.145872  0.237422 -0.29921 -0.142694  ... -0.748878   \n",
       "TCGA-3C-AALI-01  0.098128 -0.541978 -0.32291 -0.044694  ...  0.312922   \n",
       "TCGA-3C-AALJ-01  0.484028 -0.183678 -0.91901  0.261106  ... -0.748878   \n",
       "TCGA-3C-AALK-01  0.179128  0.039222 -0.45491  0.180306  ...  0.415422   \n",
       "TCGA-4H-AAAK-01 -0.020972 -0.117978 -0.55781 -0.173794  ...  0.685222   \n",
       "\n",
       "                    NPY5R     GNGT2    GNGT1     TULP3      PTRF     BCL6B  \\\n",
       "sampleID                                                                     \n",
       "TCGA-3C-AAAU-01  0.565583 -0.767233 -1.28139 -0.271377 -0.492286  0.360373   \n",
       "TCGA-3C-AALI-01  0.079683  0.475267  1.99661  0.161423  0.273714  0.644673   \n",
       "TCGA-3C-AALJ-01 -0.656117 -0.216733  0.21081  0.101023  0.660514  1.295073   \n",
       "TCGA-3C-AALK-01 -0.178417 -0.211233 -1.28139  0.108023  1.132814  0.496773   \n",
       "TCGA-4H-AAAK-01 -0.698717 -0.484233 -1.28139 -0.223577  1.222714  0.225573   \n",
       "\n",
       "                    GSTK1      SELP      SELS  \n",
       "sampleID                                       \n",
       "TCGA-3C-AAAU-01  1.067905  0.076267 -0.392212  \n",
       "TCGA-3C-AALI-01 -0.428695  0.068667 -0.043812  \n",
       "TCGA-3C-AALJ-01  0.915105  0.168567  0.047788  \n",
       "TCGA-3C-AALK-01  0.240105  3.099767  0.112888  \n",
       "TCGA-4H-AAAK-01 -0.301995  0.200067 -0.080212  \n",
       "\n",
       "[5 rows x 20533 columns]"
      ]
     },
     "execution_count": 16,
     "metadata": {},
     "output_type": "execute_result"
    }
   ],
   "source": [
    "merged_data = selected_clinical_data.join(genetic_data.T).dropna()\n",
    "merged_data.head()"
   ]
  },
  {
   "cell_type": "code",
   "execution_count": null,
   "metadata": {
    "ExecuteTime": {
     "end_time": "2023-12-31T21:19:16.341121723Z",
     "start_time": "2023-12-31T21:19:16.330544222Z"
    },
    "id": "x7E8M0H-iaD3",
    "outputId": "c14ee046-590a-4ea8-fcbb-1fcadca55632"
   },
   "outputs": [
    {
     "name": "stdout",
     "output_type": "stream",
     "text": [
      "The merged dataset contains 1215 samples.\n"
     ]
    }
   ],
   "source": [
    "print(f\"The merged dataset contains {len(merged_data)} samples.\")"
   ]
  },
  {
   "cell_type": "code",
   "execution_count": null,
   "metadata": {
    "ExecuteTime": {
     "end_time": "2023-12-31T21:19:17.222505900Z",
     "start_time": "2023-12-31T21:19:17.218781412Z"
    },
    "id": "YvBbzAe6iaD3",
    "outputId": "15cf8038-a874-482d-af3d-d1204569e905"
   },
   "outputs": [
    {
     "name": "stdout",
     "output_type": "stream",
     "text": [
      "For the feature 'Breast Cancer', the least common label is '0' with 113 occurrences. This represents 9.30% of the dataset.\n",
      "The distribution of the feature 'Breast Cancer' in this dataset is fine.\n",
      "\n",
      "Quartiles for 'Age':\n",
      "  25%: 48.0\n",
      "  50% (Median): 58.0\n",
      "  75%: 67.0\n",
      "Min: 26.0\n",
      "Max: 90.0\n",
      "The distribution of the feature 'Age' in this dataset is fine.\n",
      "\n",
      "For the feature 'Gender', the least common label is '1.0' with 13 occurrences. This represents 1.07% of the dataset.\n",
      "The distribution of the feature 'Gender' in this dataset is fine.\n",
      "\n"
     ]
    },
    {
     "data": {
      "text/plain": [
       "False"
      ]
     },
     "execution_count": 18,
     "metadata": {},
     "output_type": "execute_result"
    }
   ],
   "source": [
    "is_trait_biased, merge_data = judge_and_remove_biased_features(merged_data, TRAIT, trait_type=trait_type)\n",
    "is_trait_biased"
   ]
  },
  {
   "cell_type": "code",
   "execution_count": null,
   "metadata": {
    "ExecuteTime": {
     "end_time": "2023-12-31T21:19:35.401536463Z",
     "start_time": "2023-12-31T21:19:17.980683628Z"
    },
    "id": "Qzem-9-CiaD4"
   },
   "outputs": [],
   "source": [
    "merged_data.head()\n",
    "if not is_trait_biased:\n",
    "    merge_data.to_csv(os.path.join(OUTPUT_DIR, cohort+'.csv'), index=False)"
   ]
  },
  {
   "cell_type": "code",
   "execution_count": null,
   "metadata": {
    "ExecuteTime": {
     "end_time": "2023-12-31T21:19:35.405288661Z",
     "start_time": "2023-12-31T21:19:35.402799553Z"
    },
    "id": "6LuV7GjKiaD4"
   },
   "outputs": [],
   "source": [
    "save_cohort_info(cohort, JSON_PATH, is_available, is_trait_biased, merged_data)"
   ]
  },
  {
   "cell_type": "markdown",
   "metadata": {
    "ExecuteTime": {
     "end_time": "2023-12-28T21:28:38.028916303Z",
     "start_time": "2023-12-28T21:28:38.016245426Z"
    },
    "collapsed": false,
    "id": "Kk0EYJ4yiaD4"
   },
   "source": [
    "## 2.2. The GEO dataset"
   ]
  },
  {
   "cell_type": "markdown",
   "metadata": {
    "ExecuteTime": {
     "end_time": "2023-12-31T03:25:23.253882615Z",
     "start_time": "2023-12-31T03:25:23.244062710Z"
    },
    "collapsed": false,
    "id": "-RCIZQ6jiaD4"
   },
   "source": [
    "In GEO, there may be one or multiple cohorts for a trait. Each cohort is identified by an accession number. We iterate over all accession numbers in the corresponding subdirectory, preprocess the cohort data, and save them to csv files."
   ]
  },
  {
   "cell_type": "code",
   "execution_count": 151,
   "metadata": {
    "ExecuteTime": {
     "end_time": "2023-12-31T21:19:35.411177575Z",
     "start_time": "2023-12-31T21:19:35.405710636Z"
    },
    "colab": {
     "base_uri": "https://localhost:8080/"
    },
    "executionInfo": {
     "elapsed": 2642,
     "status": "ok",
     "timestamp": 1704459441002,
     "user": {
      "displayName": "郭淑怡",
      "userId": "04547554131744612440"
     },
     "user_tz": -480
    },
    "id": "zLCP2SDmiaD4",
    "outputId": "fe593ad4-5134-410b-f0b2-e8e32b11e452"
   },
   "outputs": [
    {
     "data": {
      "text/plain": [
       "['GSE103500', 'GSE43553', 'GSE80060']"
      ]
     },
     "execution_count": 151,
     "metadata": {},
     "output_type": "execute_result"
    }
   ],
   "source": [
    "dataset = 'GEO'\n",
    "trait_subdir = \"Autoinflammatory-Disorders\"\n",
    "\n",
    "trait_path = os.path.join(DATA_ROOT, dataset, trait_subdir)\n",
    "os.listdir(trait_path)"
   ]
  },
  {
   "cell_type": "markdown",
   "metadata": {
    "ExecuteTime": {
     "end_time": "2023-12-31T03:39:42.634870142Z",
     "start_time": "2023-12-31T03:39:42.534093295Z"
    },
    "collapsed": false,
    "id": "VHR6J86PiaD4"
   },
   "source": [
    "Repeat the below steps for all the accession numbers"
   ]
  },
  {
   "cell_type": "code",
   "execution_count": 152,
   "metadata": {
    "ExecuteTime": {
     "end_time": "2023-12-31T21:19:35.413836016Z",
     "start_time": "2023-12-31T21:19:35.410443976Z"
    },
    "colab": {
     "base_uri": "https://localhost:8080/"
    },
    "executionInfo": {
     "elapsed": 2,
     "status": "ok",
     "timestamp": 1704459441002,
     "user": {
      "displayName": "郭淑怡",
      "userId": "04547554131744612440"
     },
     "user_tz": -480
    },
    "id": "-NttBC9AiaD4",
    "outputId": "83884606-97d8-428c-9e4f-0c60104f30bf"
   },
   "outputs": [
    {
     "data": {
      "text/plain": [
       "('C:\\\\Users\\\\conra\\\\OneDrive\\\\Desktop\\\\AI4Science\\\\DATA\\\\GEO\\\\Autoinflammatory-Disorders\\\\GSE103500\\\\GSE103500_family.soft.gz',\n",
       " 'C:\\\\Users\\\\conra\\\\OneDrive\\\\Desktop\\\\AI4Science\\\\DATA\\\\GEO\\\\Autoinflammatory-Disorders\\\\GSE103500\\\\GSE103500_series_matrix.txt.gz')"
      ]
     },
     "execution_count": 152,
     "metadata": {},
     "output_type": "execute_result"
    }
   ],
   "source": [
    "cohort = accession_num = \"GSE103500\"\n",
    "cohort_dir = os.path.join(trait_path, accession_num)\n",
    "soft_file, matrix_file = get_relevant_filepaths(cohort_dir)\n",
    "soft_file, matrix_file"
   ]
  },
  {
   "cell_type": "code",
   "execution_count": 153,
   "metadata": {},
   "outputs": [
    {
     "data": {
      "text/plain": [
       "('C:\\\\Users\\\\conra\\\\OneDrive\\\\Desktop\\\\AI4Science\\\\DATA\\\\GEO\\\\Autoinflammatory-Disorders\\\\GSE43553\\\\GSE43553_family.soft.7z',\n",
       " 'C:\\\\Users\\\\conra\\\\OneDrive\\\\Desktop\\\\AI4Science\\\\DATA\\\\GEO\\\\Autoinflammatory-Disorders\\\\GSE43553\\\\GSE43553_series_matrix.txt.gz')"
      ]
     },
     "execution_count": 153,
     "metadata": {},
     "output_type": "execute_result"
    }
   ],
   "source": [
    "cohort = accession_num = \"GSE43553\"\n",
    "cohort_dir = os.path.join(trait_path, accession_num)\n",
    "soft_file, matrix_file = get_relevant_filepaths(cohort_dir)\n",
    "soft_file, matrix_file"
   ]
  },
  {
   "cell_type": "code",
   "execution_count": 154,
   "metadata": {},
   "outputs": [
    {
     "data": {
      "text/plain": [
       "('C:\\\\Users\\\\conra\\\\OneDrive\\\\Desktop\\\\AI4Science\\\\DATA\\\\GEO\\\\Autoinflammatory-Disorders\\\\GSE80060\\\\GSE80060_family.soft.gz',\n",
       " 'C:\\\\Users\\\\conra\\\\OneDrive\\\\Desktop\\\\AI4Science\\\\DATA\\\\GEO\\\\Autoinflammatory-Disorders\\\\GSE80060\\\\GSE80060_series_matrix.txt.gz')"
      ]
     },
     "execution_count": 154,
     "metadata": {},
     "output_type": "execute_result"
    }
   ],
   "source": [
    "cohort = accession_num = \"GSE80060\"\n",
    "cohort_dir = os.path.join(trait_path, accession_num)\n",
    "soft_file, matrix_file = get_relevant_filepaths(cohort_dir)\n",
    "soft_file, matrix_file"
   ]
  },
  {
   "cell_type": "markdown",
   "metadata": {
    "collapsed": false,
    "id": "OXII6n-eiaD4"
   },
   "source": [
    "### Inital filtering and clinical data preprocessing"
   ]
  },
  {
   "cell_type": "code",
   "execution_count": 155,
   "metadata": {
    "ExecuteTime": {
     "end_time": "2023-12-31T21:19:35.492119842Z",
     "start_time": "2023-12-31T21:19:35.413383102Z"
    },
    "colab": {
     "base_uri": "https://localhost:8080/"
    },
    "executionInfo": {
     "elapsed": 1920,
     "status": "ok",
     "timestamp": 1704459444880,
     "user": {
      "displayName": "郭淑怡",
      "userId": "04547554131744612440"
     },
     "user_tz": -480
    },
    "id": "zLBtCC4eiaD4",
    "outputId": "e9955b06-f42c-4711-cd72-6b2294ed5ca4"
   },
   "outputs": [
    {
     "name": "stdout",
     "output_type": "stream",
     "text": [
      "!Series_title\t\"Gene expression data of whole blood of systemic juvenile idiopathic arthritis (SJIA) patients treated with canakinumab or placebo and age matched healthy controls\"\n",
      "!Series_summary\t\"Canakinumab is a human anti-interleukin-1 beta (IL-1 beta) monoclonal antibody neutralizing IL-1 beta. Systemic juvenile idiopathic arthritis (SJIA) is a rare, multigenic, autoinflammatory disease of unknown etiology characterized by chronic arthritis; intermittent high-spiking fever, rash, and elevated levels of acute-phase reactants. Blood samples of SJIA patients were obtained from two phase 3 clinical trials conducted by the members of the Pediatric Rheumatology International Trials Organization (PRINTO) and the Pediatric Rheumatology Collaborative Study Group (PRCSG) (Clinicaltrials.gov: NCT00886769 and NCT00889863). For patients, baseline and day 3 samples were analyzed for either placebo or canakinumab (Ilaris) treatment.\"\n",
      "!Series_summary\t\"Clinical response was assessed at day 15 using adapted JIA American College of Rheumatology (ACR) response criteria.\"\n",
      "!Series_overall_design\t\"Overall, 206 samples were used in this study including 22 samples from healthy controls, 33 samples of placebo treated patients and 151 samples of canakinumab treated patients.\"\n"
     ]
    }
   ],
   "source": [
    "background_prefixes = ['!Series_title', '!Series_summary', '!Series_overall_design']\n",
    "clinical_prefixes = ['!Sample_geo_accession', '!Sample_characteristics_ch1']\n",
    "\n",
    "background_info, clinical_data = get_background_and_clinical_data(matrix_file, background_prefixes, clinical_prefixes)\n",
    "print(background_info)"
   ]
  },
  {
   "cell_type": "code",
   "execution_count": 156,
   "metadata": {
    "ExecuteTime": {
     "end_time": "2023-12-31T21:19:35.507840422Z",
     "start_time": "2023-12-31T21:19:35.451789107Z"
    },
    "colab": {
     "base_uri": "https://localhost:8080/",
     "height": 360
    },
    "executionInfo": {
     "elapsed": 5,
     "status": "ok",
     "timestamp": 1704459446314,
     "user": {
      "displayName": "郭淑怡",
      "userId": "04547554131744612440"
     },
     "user_tz": -480
    },
    "id": "YwC2YMZ_iaD5",
    "outputId": "790b0033-d324-44a9-a49a-01eefe1aeb45"
   },
   "outputs": [
    {
     "data": {
      "text/html": [
       "<div>\n",
       "<style scoped>\n",
       "    .dataframe tbody tr th:only-of-type {\n",
       "        vertical-align: middle;\n",
       "    }\n",
       "\n",
       "    .dataframe tbody tr th {\n",
       "        vertical-align: top;\n",
       "    }\n",
       "\n",
       "    .dataframe thead th {\n",
       "        text-align: right;\n",
       "    }\n",
       "</style>\n",
       "<table border=\"1\" class=\"dataframe\">\n",
       "  <thead>\n",
       "    <tr style=\"text-align: right;\">\n",
       "      <th></th>\n",
       "      <th>!Sample_geo_accession</th>\n",
       "      <th>GSM2111993</th>\n",
       "      <th>GSM2111994</th>\n",
       "      <th>GSM2111995</th>\n",
       "      <th>GSM2111996</th>\n",
       "      <th>GSM2111997</th>\n",
       "      <th>GSM2111998</th>\n",
       "      <th>GSM2111999</th>\n",
       "      <th>GSM2112000</th>\n",
       "      <th>GSM2112001</th>\n",
       "      <th>...</th>\n",
       "      <th>GSM2112189</th>\n",
       "      <th>GSM2112190</th>\n",
       "      <th>GSM2112191</th>\n",
       "      <th>GSM2112192</th>\n",
       "      <th>GSM2112193</th>\n",
       "      <th>GSM2112194</th>\n",
       "      <th>GSM2112195</th>\n",
       "      <th>GSM2112196</th>\n",
       "      <th>GSM2112197</th>\n",
       "      <th>GSM2112198</th>\n",
       "    </tr>\n",
       "  </thead>\n",
       "  <tbody>\n",
       "    <tr>\n",
       "      <th>0</th>\n",
       "      <td>!Sample_characteristics_ch1</td>\n",
       "      <td>tissue: Whole blood</td>\n",
       "      <td>tissue: Whole blood</td>\n",
       "      <td>tissue: Whole blood</td>\n",
       "      <td>tissue: Whole blood</td>\n",
       "      <td>tissue: Whole blood</td>\n",
       "      <td>tissue: Whole blood</td>\n",
       "      <td>tissue: Whole blood</td>\n",
       "      <td>tissue: Whole blood</td>\n",
       "      <td>tissue: Whole blood</td>\n",
       "      <td>...</td>\n",
       "      <td>tissue: Whole blood</td>\n",
       "      <td>tissue: Whole blood</td>\n",
       "      <td>tissue: Whole blood</td>\n",
       "      <td>tissue: Whole blood</td>\n",
       "      <td>tissue: Whole blood</td>\n",
       "      <td>tissue: Whole blood</td>\n",
       "      <td>tissue: Whole blood</td>\n",
       "      <td>tissue: Whole blood</td>\n",
       "      <td>tissue: Whole blood</td>\n",
       "      <td>tissue: Whole blood</td>\n",
       "    </tr>\n",
       "    <tr>\n",
       "      <th>1</th>\n",
       "      <td>!Sample_characteristics_ch1</td>\n",
       "      <td>disease status: SJIA</td>\n",
       "      <td>disease status: SJIA</td>\n",
       "      <td>disease status: SJIA</td>\n",
       "      <td>disease status: SJIA</td>\n",
       "      <td>disease status: SJIA</td>\n",
       "      <td>disease status: SJIA</td>\n",
       "      <td>disease status: SJIA</td>\n",
       "      <td>disease status: SJIA</td>\n",
       "      <td>disease status: SJIA</td>\n",
       "      <td>...</td>\n",
       "      <td>disease status: Healthy</td>\n",
       "      <td>disease status: Healthy</td>\n",
       "      <td>disease status: Healthy</td>\n",
       "      <td>disease status: Healthy</td>\n",
       "      <td>disease status: Healthy</td>\n",
       "      <td>disease status: SJIA</td>\n",
       "      <td>disease status: SJIA</td>\n",
       "      <td>disease status: SJIA</td>\n",
       "      <td>disease status: SJIA</td>\n",
       "      <td>disease status: SJIA</td>\n",
       "    </tr>\n",
       "    <tr>\n",
       "      <th>2</th>\n",
       "      <td>!Sample_characteristics_ch1</td>\n",
       "      <td>subject id: SJIA_2_2513</td>\n",
       "      <td>subject id: SJIA_2_2513</td>\n",
       "      <td>subject id: SJIA_2_313</td>\n",
       "      <td>subject id: SJIA_2_413</td>\n",
       "      <td>subject id: SJIA_2_413</td>\n",
       "      <td>subject id: SJIA_2_712</td>\n",
       "      <td>subject id: SJIA_2_812</td>\n",
       "      <td>subject id: SJIA_2_912</td>\n",
       "      <td>subject id: SJIA_2_1013</td>\n",
       "      <td>...</td>\n",
       "      <td>subject id: Healthy_subject_19</td>\n",
       "      <td>subject id: Healthy_subject_20</td>\n",
       "      <td>subject id: Healthy_subject_21</td>\n",
       "      <td>subject id: Healthy_subject_22</td>\n",
       "      <td>subject id: Healthy_subject_23</td>\n",
       "      <td>subject id: SJIA_1_3528</td>\n",
       "      <td>subject id: SJIA_1_3630</td>\n",
       "      <td>subject id: SJIA_1_3630</td>\n",
       "      <td>subject id: SJIA_1_3730</td>\n",
       "      <td>subject id: SJIA_1_3730</td>\n",
       "    </tr>\n",
       "    <tr>\n",
       "      <th>3</th>\n",
       "      <td>!Sample_characteristics_ch1</td>\n",
       "      <td>visit: Day1_BL</td>\n",
       "      <td>visit: Day3</td>\n",
       "      <td>visit: Day1_BL</td>\n",
       "      <td>visit: Day1_BL</td>\n",
       "      <td>visit: Day3</td>\n",
       "      <td>visit: Day1_BL</td>\n",
       "      <td>visit: Day1_BL</td>\n",
       "      <td>visit: Day3</td>\n",
       "      <td>visit: Day1_BL</td>\n",
       "      <td>...</td>\n",
       "      <td>visit: Day1_BL</td>\n",
       "      <td>visit: Day1_BL</td>\n",
       "      <td>visit: Day1_BL</td>\n",
       "      <td>visit: Day1_BL</td>\n",
       "      <td>visit: Day1_BL</td>\n",
       "      <td>visit: Day1_BL</td>\n",
       "      <td>visit: Day1_BL</td>\n",
       "      <td>visit: Day3</td>\n",
       "      <td>visit: Day1_BL</td>\n",
       "      <td>visit: Day3</td>\n",
       "    </tr>\n",
       "    <tr>\n",
       "      <th>4</th>\n",
       "      <td>!Sample_characteristics_ch1</td>\n",
       "      <td>treatment: Canakinumab</td>\n",
       "      <td>treatment: Canakinumab</td>\n",
       "      <td>treatment: Placebo</td>\n",
       "      <td>treatment: Canakinumab</td>\n",
       "      <td>treatment: Canakinumab</td>\n",
       "      <td>treatment: Placebo</td>\n",
       "      <td>treatment: Placebo</td>\n",
       "      <td>treatment: Canakinumab</td>\n",
       "      <td>treatment: Canakinumab</td>\n",
       "      <td>...</td>\n",
       "      <td>treatment: none</td>\n",
       "      <td>treatment: none</td>\n",
       "      <td>treatment: none</td>\n",
       "      <td>treatment: none</td>\n",
       "      <td>treatment: none</td>\n",
       "      <td>treatment: Canakinumab</td>\n",
       "      <td>treatment: Canakinumab</td>\n",
       "      <td>treatment: Canakinumab</td>\n",
       "      <td>treatment: Canakinumab</td>\n",
       "      <td>treatment: Canakinumab</td>\n",
       "    </tr>\n",
       "    <tr>\n",
       "      <th>5</th>\n",
       "      <td>!Sample_characteristics_ch1</td>\n",
       "      <td>acr response at day 15: 100</td>\n",
       "      <td>acr response at day 15: 100</td>\n",
       "      <td>acr response at day 15: NA</td>\n",
       "      <td>acr response at day 15: 30</td>\n",
       "      <td>acr response at day 15: 30</td>\n",
       "      <td>acr response at day 15: NA</td>\n",
       "      <td>acr response at day 15: NA</td>\n",
       "      <td>acr response at day 15: 70</td>\n",
       "      <td>acr response at day 15: 30</td>\n",
       "      <td>...</td>\n",
       "      <td>acr response at day 15: NA</td>\n",
       "      <td>acr response at day 15: NA</td>\n",
       "      <td>acr response at day 15: NA</td>\n",
       "      <td>acr response at day 15: NA</td>\n",
       "      <td>acr response at day 15: NA</td>\n",
       "      <td>acr response at day 15: 100</td>\n",
       "      <td>acr response at day 15: 0</td>\n",
       "      <td>acr response at day 15: 0</td>\n",
       "      <td>acr response at day 15: 100</td>\n",
       "      <td>acr response at day 15: 100</td>\n",
       "    </tr>\n",
       "  </tbody>\n",
       "</table>\n",
       "<p>6 rows × 207 columns</p>\n",
       "</div>"
      ],
      "text/plain": [
       "         !Sample_geo_accession                   GSM2111993  \\\n",
       "0  !Sample_characteristics_ch1          tissue: Whole blood   \n",
       "1  !Sample_characteristics_ch1         disease status: SJIA   \n",
       "2  !Sample_characteristics_ch1      subject id: SJIA_2_2513   \n",
       "3  !Sample_characteristics_ch1               visit: Day1_BL   \n",
       "4  !Sample_characteristics_ch1       treatment: Canakinumab   \n",
       "5  !Sample_characteristics_ch1  acr response at day 15: 100   \n",
       "\n",
       "                    GSM2111994                  GSM2111995  \\\n",
       "0          tissue: Whole blood         tissue: Whole blood   \n",
       "1         disease status: SJIA        disease status: SJIA   \n",
       "2      subject id: SJIA_2_2513      subject id: SJIA_2_313   \n",
       "3                  visit: Day3              visit: Day1_BL   \n",
       "4       treatment: Canakinumab          treatment: Placebo   \n",
       "5  acr response at day 15: 100  acr response at day 15: NA   \n",
       "\n",
       "                   GSM2111996                  GSM2111997  \\\n",
       "0         tissue: Whole blood         tissue: Whole blood   \n",
       "1        disease status: SJIA        disease status: SJIA   \n",
       "2      subject id: SJIA_2_413      subject id: SJIA_2_413   \n",
       "3              visit: Day1_BL                 visit: Day3   \n",
       "4      treatment: Canakinumab      treatment: Canakinumab   \n",
       "5  acr response at day 15: 30  acr response at day 15: 30   \n",
       "\n",
       "                   GSM2111998                  GSM2111999  \\\n",
       "0         tissue: Whole blood         tissue: Whole blood   \n",
       "1        disease status: SJIA        disease status: SJIA   \n",
       "2      subject id: SJIA_2_712      subject id: SJIA_2_812   \n",
       "3              visit: Day1_BL              visit: Day1_BL   \n",
       "4          treatment: Placebo          treatment: Placebo   \n",
       "5  acr response at day 15: NA  acr response at day 15: NA   \n",
       "\n",
       "                   GSM2112000                  GSM2112001  ...  \\\n",
       "0         tissue: Whole blood         tissue: Whole blood  ...   \n",
       "1        disease status: SJIA        disease status: SJIA  ...   \n",
       "2      subject id: SJIA_2_912     subject id: SJIA_2_1013  ...   \n",
       "3                 visit: Day3              visit: Day1_BL  ...   \n",
       "4      treatment: Canakinumab      treatment: Canakinumab  ...   \n",
       "5  acr response at day 15: 70  acr response at day 15: 30  ...   \n",
       "\n",
       "                       GSM2112189                      GSM2112190  \\\n",
       "0             tissue: Whole blood             tissue: Whole blood   \n",
       "1         disease status: Healthy         disease status: Healthy   \n",
       "2  subject id: Healthy_subject_19  subject id: Healthy_subject_20   \n",
       "3                  visit: Day1_BL                  visit: Day1_BL   \n",
       "4                 treatment: none                 treatment: none   \n",
       "5      acr response at day 15: NA      acr response at day 15: NA   \n",
       "\n",
       "                       GSM2112191                      GSM2112192  \\\n",
       "0             tissue: Whole blood             tissue: Whole blood   \n",
       "1         disease status: Healthy         disease status: Healthy   \n",
       "2  subject id: Healthy_subject_21  subject id: Healthy_subject_22   \n",
       "3                  visit: Day1_BL                  visit: Day1_BL   \n",
       "4                 treatment: none                 treatment: none   \n",
       "5      acr response at day 15: NA      acr response at day 15: NA   \n",
       "\n",
       "                       GSM2112193                   GSM2112194  \\\n",
       "0             tissue: Whole blood          tissue: Whole blood   \n",
       "1         disease status: Healthy         disease status: SJIA   \n",
       "2  subject id: Healthy_subject_23      subject id: SJIA_1_3528   \n",
       "3                  visit: Day1_BL               visit: Day1_BL   \n",
       "4                 treatment: none       treatment: Canakinumab   \n",
       "5      acr response at day 15: NA  acr response at day 15: 100   \n",
       "\n",
       "                  GSM2112195                 GSM2112196  \\\n",
       "0        tissue: Whole blood        tissue: Whole blood   \n",
       "1       disease status: SJIA       disease status: SJIA   \n",
       "2    subject id: SJIA_1_3630    subject id: SJIA_1_3630   \n",
       "3             visit: Day1_BL                visit: Day3   \n",
       "4     treatment: Canakinumab     treatment: Canakinumab   \n",
       "5  acr response at day 15: 0  acr response at day 15: 0   \n",
       "\n",
       "                    GSM2112197                   GSM2112198  \n",
       "0          tissue: Whole blood          tissue: Whole blood  \n",
       "1         disease status: SJIA         disease status: SJIA  \n",
       "2      subject id: SJIA_1_3730      subject id: SJIA_1_3730  \n",
       "3               visit: Day1_BL                  visit: Day3  \n",
       "4       treatment: Canakinumab       treatment: Canakinumab  \n",
       "5  acr response at day 15: 100  acr response at day 15: 100  \n",
       "\n",
       "[6 rows x 207 columns]"
      ]
     },
     "execution_count": 156,
     "metadata": {},
     "output_type": "execute_result"
    }
   ],
   "source": [
    "clinical_data"
   ]
  },
  {
   "cell_type": "code",
   "execution_count": 157,
   "metadata": {
    "ExecuteTime": {
     "end_time": "2023-12-31T21:19:35.508015426Z",
     "start_time": "2023-12-31T21:19:35.492746637Z"
    },
    "colab": {
     "base_uri": "https://localhost:8080/"
    },
    "executionInfo": {
     "elapsed": 3,
     "status": "ok",
     "timestamp": 1704459448203,
     "user": {
      "displayName": "郭淑怡",
      "userId": "04547554131744612440"
     },
     "user_tz": -480
    },
    "id": "qUEEMODXiaD5",
    "outputId": "530794df-97b8-40b0-fa0a-f94bf6850ee9"
   },
   "outputs": [
    {
     "data": {
      "text/plain": [
       "{0: ['tissue: Whole blood'],\n",
       " 1: ['disease status: SJIA', 'disease status: Healthy'],\n",
       " 2: ['subject id: SJIA_2_2513',\n",
       "  'subject id: SJIA_2_313',\n",
       "  'subject id: SJIA_2_413',\n",
       "  'subject id: SJIA_2_712',\n",
       "  'subject id: SJIA_2_812',\n",
       "  'subject id: SJIA_2_912',\n",
       "  'subject id: SJIA_2_1013',\n",
       "  'subject id: SJIA_2_1112',\n",
       "  'subject id: SJIA_2_2912',\n",
       "  'subject id: SJIA_2_3012',\n",
       "  'subject id: SJIA_2_1413',\n",
       "  'subject id: SJIA_2_1411',\n",
       "  'subject id: SJIA_2_168',\n",
       "  'subject id: SJIA_2_167',\n",
       "  'subject id: SJIA_2_1713',\n",
       "  'subject id: SJIA_2_1811',\n",
       "  'subject id: SJIA_2_185',\n",
       "  'subject id: SJIA_2_1912',\n",
       "  'subject id: SJIA_2_2213',\n",
       "  'subject id: SJIA_2_2313',\n",
       "  'subject id: SJIA_2_2312',\n",
       "  'subject id: SJIA_2_113',\n",
       "  'subject id: SJIA_2_2613',\n",
       "  'subject id: SJIA_2_212',\n",
       "  'subject id: SJIA_2_310',\n",
       "  'subject id: SJIA_2_36',\n",
       "  'subject id: SJIA_2_512',\n",
       "  'subject id: SJIA_2_511',\n",
       "  'subject id: SJIA_2_613',\n",
       "  'subject id: SJIA_2_612'],\n",
       " 3: ['visit: Day1_BL', 'visit: Day3'],\n",
       " 4: ['treatment: Canakinumab', 'treatment: Placebo', 'treatment: none'],\n",
       " 5: ['acr response at day 15: 100',\n",
       "  'acr response at day 15: NA',\n",
       "  'acr response at day 15: 30',\n",
       "  'acr response at day 15: 70',\n",
       "  'acr response at day 15: 90',\n",
       "  'acr response at day 15: 0',\n",
       "  'acr response at day 15: 50']}"
      ]
     },
     "execution_count": 157,
     "metadata": {},
     "output_type": "execute_result"
    }
   ],
   "source": [
    "clinical_data_unique = get_unique_values_by_row(clinical_data)\n",
    "clinical_data_unique"
   ]
  },
  {
   "cell_type": "markdown",
   "metadata": {
    "ExecuteTime": {
     "end_time": "2023-12-31T03:58:04.978204446Z",
     "start_time": "2023-12-31T03:58:04.922270095Z"
    },
    "collapsed": false,
    "id": "zueh_J2PiaD5"
   },
   "source": [
    "Analyze the metadata to determine data relevance and find ways to extract the clinical data.\n",
    "Reference prompt:"
   ]
  },
  {
   "cell_type": "code",
   "execution_count": 158,
   "metadata": {
    "ExecuteTime": {
     "end_time": "2023-12-31T21:19:35.508232400Z",
     "start_time": "2023-12-31T21:19:35.492903487Z"
    },
    "colab": {
     "base_uri": "https://localhost:8080/",
     "height": 178
    },
    "executionInfo": {
     "elapsed": 5,
     "status": "ok",
     "timestamp": 1704459451849,
     "user": {
      "displayName": "郭淑怡",
      "userId": "04547554131744612440"
     },
     "user_tz": -480
    },
    "id": "avSkGIZQiaD_",
    "outputId": "3d9cf239-2a8d-41c1-c111-78cd92d031e4"
   },
   "outputs": [
    {
     "data": {
      "text/plain": [
       "'As a biomedical research team, we are selecting datasets to study the association between the human trait \\'Autoinflammatory Disorders\\' and genetic factors, optionally considering the influence of age and gender. After searching the GEO database and parsing the matrix file of a series, we obtained background information and sample characteristics data. We will provide textual information about the dataset background, and a Python dictionary storing a list of unique values for each field of the sample characteristics data. Please carefully review the provided information and answer the following questions about this dataset:\\n1. Does this dataset contain gene expression data? (Note: Pure miRNA data is not suitable.)\\n2. For each of the traits \\'Autoinflammatory Disorders\\', \\'age\\', and \\'gender\\', please address these points:\\n   (1) Is there human data available for this trait?\\n   (2) If so, identify the key in the sample characteristics dictionary where unique values of this trait is recorded. The key is an integer. The trait information might be explicitly recorded, or can be inferred from the field with some biomedical knowledge or understanding about the data collection process.\\n   (3) Choose an appropriate data type (either \\'continuous\\' or \\'binary\\') for each trait. Write a Python function to convert any given value of the trait to this data type. The function should handle inference about the trait value and convert unknown values to None.\\n   Name the functions \\'convert_trait\\', \\'convert_age\\', and \\'convert_gender\\', respectively.\\n\\nBackground information about the dataset:\\n!Series_title\\t\"Gene expression data of whole blood of systemic juvenile idiopathic arthritis (SJIA) patients treated with canakinumab or placebo and age matched healthy controls\"\\n!Series_summary\\t\"Canakinumab is a human anti-interleukin-1 beta (IL-1 beta) monoclonal antibody neutralizing IL-1 beta. Systemic juvenile idiopathic arthritis (SJIA) is a rare, multigenic, autoinflammatory disease of unknown etiology characterized by chronic arthritis; intermittent high-spiking fever, rash, and elevated levels of acute-phase reactants. Blood samples of SJIA patients were obtained from two phase 3 clinical trials conducted by the members of the Pediatric Rheumatology International Trials Organization (PRINTO) and the Pediatric Rheumatology Collaborative Study Group (PRCSG) (Clinicaltrials.gov: NCT00886769 and NCT00889863). For patients, baseline and day 3 samples were analyzed for either placebo or canakinumab (Ilaris) treatment.\"\\n!Series_summary\\t\"Clinical response was assessed at day 15 using adapted JIA American College of Rheumatology (ACR) response criteria.\"\\n!Series_overall_design\\t\"Overall, 206 samples were used in this study including 22 samples from healthy controls, 33 samples of placebo treated patients and 151 samples of canakinumab treated patients.\"\\n\\nSample characteristics dictionary (from \"!Sample_characteristics_ch1\", converted to a Python dictionary that stores the unique values for each field):\\n{0: [\\'tissue: Whole blood\\'], 1: [\\'disease status: SJIA\\', \\'disease status: Healthy\\'], 2: [\\'subject id: SJIA_2_2513\\', \\'subject id: SJIA_2_313\\', \\'subject id: SJIA_2_413\\', \\'subject id: SJIA_2_712\\', \\'subject id: SJIA_2_812\\', \\'subject id: SJIA_2_912\\', \\'subject id: SJIA_2_1013\\', \\'subject id: SJIA_2_1112\\', \\'subject id: SJIA_2_2912\\', \\'subject id: SJIA_2_3012\\', \\'subject id: SJIA_2_1413\\', \\'subject id: SJIA_2_1411\\', \\'subject id: SJIA_2_168\\', \\'subject id: SJIA_2_167\\', \\'subject id: SJIA_2_1713\\', \\'subject id: SJIA_2_1811\\', \\'subject id: SJIA_2_185\\', \\'subject id: SJIA_2_1912\\', \\'subject id: SJIA_2_2213\\', \\'subject id: SJIA_2_2313\\', \\'subject id: SJIA_2_2312\\', \\'subject id: SJIA_2_113\\', \\'subject id: SJIA_2_2613\\', \\'subject id: SJIA_2_212\\', \\'subject id: SJIA_2_310\\', \\'subject id: SJIA_2_36\\', \\'subject id: SJIA_2_512\\', \\'subject id: SJIA_2_511\\', \\'subject id: SJIA_2_613\\', \\'subject id: SJIA_2_612\\'], 3: [\\'visit: Day1_BL\\', \\'visit: Day3\\'], 4: [\\'treatment: Canakinumab\\', \\'treatment: Placebo\\', \\'treatment: none\\'], 5: [\\'acr response at day 15: 100\\', \\'acr response at day 15: NA\\', \\'acr response at day 15: 30\\', \\'acr response at day 15: 70\\', \\'acr response at day 15: 90\\', \\'acr response at day 15: 0\\', \\'acr response at day 15: 50\\']}\\n'"
      ]
     },
     "execution_count": 158,
     "metadata": {},
     "output_type": "execute_result"
    }
   ],
   "source": [
    "f'''As a biomedical research team, we are selecting datasets to study the association between the human trait \\'{TRAIT}\\' and genetic factors, optionally considering the influence of age and gender. After searching the GEO database and parsing the matrix file of a series, we obtained background information and sample characteristics data. We will provide textual information about the dataset background, and a Python dictionary storing a list of unique values for each field of the sample characteristics data. Please carefully review the provided information and answer the following questions about this dataset:\n",
    "1. Does this dataset contain gene expression data? (Note: Pure miRNA data is not suitable.)\n",
    "2. For each of the traits \\'{TRAIT}\\', 'age', and 'gender', please address these points:\n",
    "   (1) Is there human data available for this trait?\n",
    "   (2) If so, identify the key in the sample characteristics dictionary where unique values of this trait is recorded. The key is an integer. The trait information might be explicitly recorded, or can be inferred from the field with some biomedical knowledge or understanding about the data collection process.\n",
    "   (3) Choose an appropriate data type (either 'continuous' or 'binary') for each trait. Write a Python function to convert any given value of the trait to this data type. The function should handle inference about the trait value and convert unknown values to None.\n",
    "   Name the functions 'convert_trait', 'convert_age', and 'convert_gender', respectively.\n",
    "\n",
    "Background information about the dataset:\n",
    "{background_info}\n",
    "\n",
    "Sample characteristics dictionary (from \"!Sample_characteristics_ch1\", converted to a Python dictionary that stores the unique values for each field):\n",
    "{clinical_data_unique}\n",
    "'''"
   ]
  },
  {
   "cell_type": "markdown",
   "metadata": {
    "ExecuteTime": {
     "end_time": "2023-12-31T03:58:04.978240504Z",
     "start_time": "2023-12-31T03:58:04.922365324Z"
    },
    "collapsed": false,
    "id": "WYm2ZV9ZiaD_"
   },
   "source": [
    "Understand and verify the answer from GPT, to assign values to the below variables. Assign None to the 'row_id' variables if relevant data row was not found.\n",
    "Later we need to let GPT format its answer to automatically do these. But given the complexity of this step, let's grow some insight from the free-text answers for now."
   ]
  },
  {
   "cell_type": "code",
   "execution_count": 159,
   "metadata": {
    "ExecuteTime": {
     "end_time": "2023-12-31T21:19:35.508295660Z",
     "start_time": "2023-12-31T21:19:35.493015671Z"
    },
    "executionInfo": {
     "elapsed": 2,
     "status": "ok",
     "timestamp": 1704459453619,
     "user": {
      "displayName": "郭淑怡",
      "userId": "04547554131744612440"
     },
     "user_tz": -480
    },
    "id": "PT7NFhWRiaEA"
   },
   "outputs": [],
   "source": [
    "is_gene_availabe = True\n",
    "trait_row_id = 1\n",
    "age_row_id = None\n",
    "gender_row_id = None\n",
    "\n",
    "trait_type = 'binary'"
   ]
  },
  {
   "cell_type": "code",
   "execution_count": 160,
   "metadata": {
    "ExecuteTime": {
     "end_time": "2023-12-31T21:19:35.508365153Z",
     "start_time": "2023-12-31T21:19:35.493151450Z"
    },
    "executionInfo": {
     "elapsed": 457,
     "status": "ok",
     "timestamp": 1704459467200,
     "user": {
      "displayName": "郭淑怡",
      "userId": "04547554131744612440"
     },
     "user_tz": -480
    },
    "id": "gA7w5UyliaEA"
   },
   "outputs": [],
   "source": [
    "is_available = is_gene_availabe and (trait_row_id is not None)\n",
    "if not is_available:\n",
    "    save_cohort_info(cohort, JSON_PATH, is_available)\n",
    "    print(\"This cohort is not usable. Please skip the following steps and jump to the next accession number.\")"
   ]
  },
  {
   "cell_type": "code",
   "execution_count": 168,
   "metadata": {
    "ExecuteTime": {
     "end_time": "2023-12-31T21:19:35.508426069Z",
     "start_time": "2023-12-31T21:19:35.493220101Z"
    },
    "executionInfo": {
     "elapsed": 2,
     "status": "ok",
     "timestamp": 1704459469360,
     "user": {
      "displayName": "郭淑怡",
      "userId": "04547554131744612440"
     },
     "user_tz": -480
    },
    "id": "tY1MZ2cMiaEA"
   },
   "outputs": [],
   "source": [
    "\n",
    "# Verify and use the functions generated by GPT\n",
    "\n",
    "def convert_trait(value):\n",
    "    # Assuming 'subject status' represents Autoinflammatory Disorders\n",
    "    if value == 'subject status: Systemic onset juvenile idiopathic arthritis (sJIA)':\n",
    "        return 1  # Presence of Autoinflammatory Disorder (binary)\n",
    "    else:\n",
    "        return 0  # Absence of Autoinflammatory Disorder (binary)\n",
    "\n",
    "def convert_age(value):\n",
    "    # Assuming age is continuous, handling unknown values\n",
    "    try:\n",
    "        return float(value)\n",
    "    except (ValueError, TypeError):\n",
    "        return None\n",
    "\n",
    "def convert_gender(value):\n",
    "    # Assuming gender is binary (Male/Female), handling unknown values\n",
    "    if value in ['Male', 'Female']:\n",
    "        return value\n",
    "    else:\n",
    "        return None\n",
    "\n",
    "\n"
   ]
  },
  {
   "cell_type": "code",
   "execution_count": 169,
   "metadata": {
    "ExecuteTime": {
     "end_time": "2023-12-31T21:19:35.508533013Z",
     "start_time": "2023-12-31T21:19:35.493272992Z"
    },
    "colab": {
     "base_uri": "https://localhost:8080/",
     "height": 147
    },
    "executionInfo": {
     "elapsed": 466,
     "status": "ok",
     "timestamp": 1704459471863,
     "user": {
      "displayName": "郭淑怡",
      "userId": "04547554131744612440"
     },
     "user_tz": -480
    },
    "id": "6jgwzvo_iaEA",
    "outputId": "9b0edf74-2d8a-4927-f90b-51e75a85dbea"
   },
   "outputs": [
    {
     "ename": "TypeError",
     "evalue": "the first argument must be callable",
     "output_type": "error",
     "traceback": [
      "\u001B[1;31m---------------------------------------------------------------------------\u001B[0m",
      "\u001B[1;31mTypeError\u001B[0m                                 Traceback (most recent call last)",
      "\u001B[1;32m~\\AppData\\Local\\Temp\\ipykernel_14588\\3881233931.py\u001B[0m in \u001B[0;36m?\u001B[1;34m()\u001B[0m\n\u001B[1;32m----> 1\u001B[1;33m selected_clinical_data = geo_select_clinical_features(clinical_data, TRAIT, trait_row_id, age_row_id, gender_row_id,\n\u001B[0m\u001B[0;32m      2\u001B[0m                                                       convert_trait, convert_age, convert_gender)\n\u001B[0;32m      3\u001B[0m \u001B[0mselected_clinical_data\u001B[0m\u001B[1;33m.\u001B[0m\u001B[0mhead\u001B[0m\u001B[1;33m(\u001B[0m\u001B[1;33m)\u001B[0m\u001B[1;33m\u001B[0m\u001B[1;33m\u001B[0m\u001B[0m\n",
      "\u001B[1;32m~\\AppData\\Local\\Temp\\ipykernel_14588\\2452503872.py\u001B[0m in \u001B[0;36m?\u001B[1;34m(clinical_df, trait, trait_row, convert_trait, age_row, convert_age, gender_row, convert_gender)\u001B[0m\n\u001B[0;32m    693\u001B[0m     \u001B[0mpd\u001B[0m\u001B[1;33m.\u001B[0m\u001B[0mDataFrame\u001B[0m\u001B[1;33m:\u001B[0m \u001B[0mA\u001B[0m \u001B[0mDataFrame\u001B[0m \u001B[0mcontaining\u001B[0m \u001B[0mthe\u001B[0m \u001B[0mselected\u001B[0m \u001B[1;32mand\u001B[0m \u001B[0mprocessed\u001B[0m \u001B[0mclinical\u001B[0m \u001B[0mfeatures\u001B[0m\u001B[1;33m.\u001B[0m\u001B[1;33m\u001B[0m\u001B[1;33m\u001B[0m\u001B[0m\n\u001B[0;32m    694\u001B[0m     \"\"\"\n\u001B[0;32m    695\u001B[0m     \u001B[0mfeature_list\u001B[0m \u001B[1;33m=\u001B[0m \u001B[1;33m[\u001B[0m\u001B[1;33m]\u001B[0m\u001B[1;33m\u001B[0m\u001B[1;33m\u001B[0m\u001B[0m\n\u001B[0;32m    696\u001B[0m \u001B[1;33m\u001B[0m\u001B[0m\n\u001B[1;32m--> 697\u001B[1;33m     \u001B[0mtrait_data\u001B[0m \u001B[1;33m=\u001B[0m \u001B[0mget_feature_data\u001B[0m\u001B[1;33m(\u001B[0m\u001B[0mclinical_df\u001B[0m\u001B[1;33m,\u001B[0m \u001B[0mtrait_row\u001B[0m\u001B[1;33m,\u001B[0m \u001B[0mtrait\u001B[0m\u001B[1;33m,\u001B[0m \u001B[0mconvert_trait\u001B[0m\u001B[1;33m)\u001B[0m\u001B[1;33m\u001B[0m\u001B[1;33m\u001B[0m\u001B[0m\n\u001B[0m\u001B[0;32m    698\u001B[0m     \u001B[0mfeature_list\u001B[0m\u001B[1;33m.\u001B[0m\u001B[0mappend\u001B[0m\u001B[1;33m(\u001B[0m\u001B[0mtrait_data\u001B[0m\u001B[1;33m)\u001B[0m\u001B[1;33m\u001B[0m\u001B[1;33m\u001B[0m\u001B[0m\n\u001B[0;32m    699\u001B[0m     \u001B[1;32mif\u001B[0m \u001B[0mage_row\u001B[0m \u001B[1;32mis\u001B[0m \u001B[1;32mnot\u001B[0m \u001B[1;32mNone\u001B[0m\u001B[1;33m:\u001B[0m\u001B[1;33m\u001B[0m\u001B[1;33m\u001B[0m\u001B[0m\n\u001B[0;32m    700\u001B[0m         \u001B[0mage_data\u001B[0m \u001B[1;33m=\u001B[0m \u001B[0mget_feature_data\u001B[0m\u001B[1;33m(\u001B[0m\u001B[0mclinical_df\u001B[0m\u001B[1;33m,\u001B[0m \u001B[0mage_row\u001B[0m\u001B[1;33m,\u001B[0m \u001B[1;34m'Age'\u001B[0m\u001B[1;33m,\u001B[0m \u001B[0mconvert_age\u001B[0m\u001B[1;33m)\u001B[0m\u001B[1;33m\u001B[0m\u001B[1;33m\u001B[0m\u001B[0m\n",
      "\u001B[1;32m~\\AppData\\Local\\Temp\\ipykernel_14588\\2452503872.py\u001B[0m in \u001B[0;36m?\u001B[1;34m(clinical_df, row_id, feature, convert_fn)\u001B[0m\n\u001B[0;32m    214\u001B[0m     \"\"\"select the row corresponding to a feature in the sample characteristics dataframe, and convert the feature into\n\u001B[0;32m    215\u001B[0m     a binary or continuous variable\"\"\"\n\u001B[0;32m    216\u001B[0m     \u001B[0mclinical_df\u001B[0m \u001B[1;33m=\u001B[0m \u001B[0mclinical_df\u001B[0m\u001B[1;33m.\u001B[0m\u001B[0miloc\u001B[0m\u001B[1;33m[\u001B[0m\u001B[0mrow_id\u001B[0m\u001B[1;33m:\u001B[0m\u001B[0mrow_id\u001B[0m \u001B[1;33m+\u001B[0m \u001B[1;36m1\u001B[0m\u001B[1;33m]\u001B[0m\u001B[1;33m.\u001B[0m\u001B[0mdrop\u001B[0m\u001B[1;33m(\u001B[0m\u001B[0mcolumns\u001B[0m\u001B[1;33m=\u001B[0m\u001B[1;33m[\u001B[0m\u001B[1;34m'!Sample_geo_accession'\u001B[0m\u001B[1;33m]\u001B[0m\u001B[1;33m,\u001B[0m \u001B[0merrors\u001B[0m\u001B[1;33m=\u001B[0m\u001B[1;34m'ignore'\u001B[0m\u001B[1;33m)\u001B[0m\u001B[1;33m\u001B[0m\u001B[1;33m\u001B[0m\u001B[0m\n\u001B[0;32m    217\u001B[0m     \u001B[0mclinical_df\u001B[0m\u001B[1;33m.\u001B[0m\u001B[0mindex\u001B[0m \u001B[1;33m=\u001B[0m \u001B[1;33m[\u001B[0m\u001B[0mfeature\u001B[0m\u001B[1;33m]\u001B[0m\u001B[1;33m\u001B[0m\u001B[1;33m\u001B[0m\u001B[0m\n\u001B[1;32m--> 218\u001B[1;33m     \u001B[0mclinical_df\u001B[0m \u001B[1;33m=\u001B[0m \u001B[0mclinical_df\u001B[0m\u001B[1;33m.\u001B[0m\u001B[0mapplymap\u001B[0m\u001B[1;33m(\u001B[0m\u001B[0mconvert_fn\u001B[0m\u001B[1;33m)\u001B[0m\u001B[1;33m\u001B[0m\u001B[1;33m\u001B[0m\u001B[0m\n\u001B[0m\u001B[0;32m    219\u001B[0m \u001B[1;33m\u001B[0m\u001B[0m\n\u001B[0;32m    220\u001B[0m     \u001B[1;32mreturn\u001B[0m \u001B[0mclinical_df\u001B[0m\u001B[1;33m\u001B[0m\u001B[1;33m\u001B[0m\u001B[0m\n",
      "\u001B[1;32m~\\AppData\\Local\\Packages\\PythonSoftwareFoundation.Python.3.11_qbz5n2kfra8p0\\LocalCache\\local-packages\\Python311\\site-packages\\pandas\\core\\frame.py\u001B[0m in \u001B[0;36m?\u001B[1;34m(self, func, na_action, **kwargs)\u001B[0m\n\u001B[0;32m   9496\u001B[0m             raise ValueError(\n\u001B[0;32m   9497\u001B[0m                 \u001B[1;34mf\"na_action must be 'ignore' or None. Got {repr(na_action)}\"\u001B[0m\u001B[1;33m\u001B[0m\u001B[1;33m\u001B[0m\u001B[0m\n\u001B[0;32m   9498\u001B[0m             )\n\u001B[0;32m   9499\u001B[0m         \u001B[0mignore_na\u001B[0m \u001B[1;33m=\u001B[0m \u001B[0mna_action\u001B[0m \u001B[1;33m==\u001B[0m \u001B[1;34m\"ignore\"\u001B[0m\u001B[1;33m\u001B[0m\u001B[1;33m\u001B[0m\u001B[0m\n\u001B[1;32m-> 9500\u001B[1;33m         \u001B[0mfunc\u001B[0m \u001B[1;33m=\u001B[0m \u001B[0mfunctools\u001B[0m\u001B[1;33m.\u001B[0m\u001B[0mpartial\u001B[0m\u001B[1;33m(\u001B[0m\u001B[0mfunc\u001B[0m\u001B[1;33m,\u001B[0m \u001B[1;33m**\u001B[0m\u001B[0mkwargs\u001B[0m\u001B[1;33m)\u001B[0m\u001B[1;33m\u001B[0m\u001B[1;33m\u001B[0m\u001B[0m\n\u001B[0m\u001B[0;32m   9501\u001B[0m \u001B[1;33m\u001B[0m\u001B[0m\n\u001B[0;32m   9502\u001B[0m         \u001B[1;31m# if we have a dtype == 'M8[ns]', provide boxed values\u001B[0m\u001B[1;33m\u001B[0m\u001B[1;33m\u001B[0m\u001B[0m\n\u001B[0;32m   9503\u001B[0m         \u001B[1;32mdef\u001B[0m \u001B[0minfer\u001B[0m\u001B[1;33m(\u001B[0m\u001B[0mx\u001B[0m\u001B[1;33m)\u001B[0m\u001B[1;33m:\u001B[0m\u001B[1;33m\u001B[0m\u001B[1;33m\u001B[0m\u001B[0m\n",
      "\u001B[1;31mTypeError\u001B[0m: the first argument must be callable"
     ]
    }
   ],
   "source": [
    "selected_clinical_data = geo_select_clinical_features(clinical_data, TRAIT, trait_row_id, age_row_id, gender_row_id,\n",
    "                                                      convert_trait, convert_age, convert_gender)\n",
    "selected_clinical_data.head()"
   ]
  },
  {
   "cell_type": "markdown",
   "metadata": {
    "ExecuteTime": {
     "end_time": "2023-12-31T03:58:04.978664193Z",
     "start_time": "2023-12-31T03:58:04.966117261Z"
    },
    "collapsed": false,
    "id": "Avmg2XvQiaEA"
   },
   "source": [
    "### Genetic data preprocessing and final filtering"
   ]
  },
  {
   "cell_type": "code",
   "execution_count": null,
   "metadata": {
    "ExecuteTime": {
     "end_time": "2023-12-31T21:19:35.590261560Z",
     "start_time": "2023-12-31T21:19:35.493320362Z"
    },
    "colab": {
     "base_uri": "https://localhost:8080/",
     "height": 256
    },
    "executionInfo": {
     "elapsed": 2540,
     "status": "ok",
     "timestamp": 1704459490752,
     "user": {
      "displayName": "郭淑怡",
      "userId": "04547554131744612440"
     },
     "user_tz": -480
    },
    "id": "VnaNkDORiaEA",
    "outputId": "fc8c9388-a369-4c8e-a945-9bfedde0f51f"
   },
   "outputs": [
    {
     "data": {
      "text/html": [
       "<div>\n",
       "<style scoped>\n",
       "    .dataframe tbody tr th:only-of-type {\n",
       "        vertical-align: middle;\n",
       "    }\n",
       "\n",
       "    .dataframe tbody tr th {\n",
       "        vertical-align: top;\n",
       "    }\n",
       "\n",
       "    .dataframe thead th {\n",
       "        text-align: right;\n",
       "    }\n",
       "</style>\n",
       "<table border=\"1\" class=\"dataframe\">\n",
       "  <thead>\n",
       "    <tr style=\"text-align: right;\">\n",
       "      <th></th>\n",
       "      <th>GSM2124286</th>\n",
       "      <th>GSM2124287</th>\n",
       "      <th>GSM2124288</th>\n",
       "      <th>GSM2124289</th>\n",
       "      <th>GSM2124290</th>\n",
       "      <th>GSM2124291</th>\n",
       "      <th>GSM2124292</th>\n",
       "      <th>GSM2124293</th>\n",
       "      <th>GSM2124294</th>\n",
       "      <th>GSM2124295</th>\n",
       "      <th>...</th>\n",
       "      <th>GSM2124577</th>\n",
       "      <th>GSM2124578</th>\n",
       "      <th>GSM2124579</th>\n",
       "      <th>GSM2124580</th>\n",
       "      <th>GSM2124581</th>\n",
       "      <th>GSM2124582</th>\n",
       "      <th>GSM2124583</th>\n",
       "      <th>GSM2124584</th>\n",
       "      <th>GSM2124585</th>\n",
       "      <th>GSM2124586</th>\n",
       "    </tr>\n",
       "    <tr>\n",
       "      <th>ID</th>\n",
       "      <th></th>\n",
       "      <th></th>\n",
       "      <th></th>\n",
       "      <th></th>\n",
       "      <th></th>\n",
       "      <th></th>\n",
       "      <th></th>\n",
       "      <th></th>\n",
       "      <th></th>\n",
       "      <th></th>\n",
       "      <th></th>\n",
       "      <th></th>\n",
       "      <th></th>\n",
       "      <th></th>\n",
       "      <th></th>\n",
       "      <th></th>\n",
       "      <th></th>\n",
       "      <th></th>\n",
       "      <th></th>\n",
       "      <th></th>\n",
       "      <th></th>\n",
       "    </tr>\n",
       "  </thead>\n",
       "  <tbody>\n",
       "    <tr>\n",
       "      <th>ILMN_1343291</th>\n",
       "      <td>20224.7148</td>\n",
       "      <td>16791.0059</td>\n",
       "      <td>20814.0977</td>\n",
       "      <td>20293.5547</td>\n",
       "      <td>18419.4316</td>\n",
       "      <td>18530.1953</td>\n",
       "      <td>18748.1328</td>\n",
       "      <td>19658.6328</td>\n",
       "      <td>17679.5078</td>\n",
       "      <td>15956.1084</td>\n",
       "      <td>...</td>\n",
       "      <td>21212.0586</td>\n",
       "      <td>20771.7207</td>\n",
       "      <td>18621.5625</td>\n",
       "      <td>16749.5781</td>\n",
       "      <td>16301.7588</td>\n",
       "      <td>15032.8750</td>\n",
       "      <td>17372.9395</td>\n",
       "      <td>17197.1113</td>\n",
       "      <td>16901.9336</td>\n",
       "      <td>18280.0508</td>\n",
       "    </tr>\n",
       "    <tr>\n",
       "      <th>ILMN_1343295</th>\n",
       "      <td>1770.4265</td>\n",
       "      <td>1840.0784</td>\n",
       "      <td>1797.9597</td>\n",
       "      <td>2269.9917</td>\n",
       "      <td>1255.4275</td>\n",
       "      <td>1750.5592</td>\n",
       "      <td>1913.2695</td>\n",
       "      <td>1833.3894</td>\n",
       "      <td>2521.4897</td>\n",
       "      <td>1702.7528</td>\n",
       "      <td>...</td>\n",
       "      <td>1676.6591</td>\n",
       "      <td>1423.4424</td>\n",
       "      <td>1605.4531</td>\n",
       "      <td>686.2298</td>\n",
       "      <td>1454.2601</td>\n",
       "      <td>712.8145</td>\n",
       "      <td>1317.3906</td>\n",
       "      <td>1167.7744</td>\n",
       "      <td>624.5963</td>\n",
       "      <td>868.8993</td>\n",
       "    </tr>\n",
       "    <tr>\n",
       "      <th>ILMN_1651199</th>\n",
       "      <td>-19.5596</td>\n",
       "      <td>9.3942</td>\n",
       "      <td>-6.4999</td>\n",
       "      <td>15.6880</td>\n",
       "      <td>-1.7502</td>\n",
       "      <td>-14.5042</td>\n",
       "      <td>3.5772</td>\n",
       "      <td>-8.1621</td>\n",
       "      <td>-9.4599</td>\n",
       "      <td>-7.3289</td>\n",
       "      <td>...</td>\n",
       "      <td>-4.2894</td>\n",
       "      <td>-1.0172</td>\n",
       "      <td>-5.9130</td>\n",
       "      <td>-1.2286</td>\n",
       "      <td>-0.3214</td>\n",
       "      <td>-1.4056</td>\n",
       "      <td>1.4598</td>\n",
       "      <td>-2.4067</td>\n",
       "      <td>-1.9414</td>\n",
       "      <td>-2.2119</td>\n",
       "    </tr>\n",
       "    <tr>\n",
       "      <th>ILMN_1651209</th>\n",
       "      <td>-0.8812</td>\n",
       "      <td>-0.8292</td>\n",
       "      <td>22.2600</td>\n",
       "      <td>4.0365</td>\n",
       "      <td>1.0642</td>\n",
       "      <td>16.0589</td>\n",
       "      <td>-1.0364</td>\n",
       "      <td>15.4457</td>\n",
       "      <td>16.5745</td>\n",
       "      <td>2.6873</td>\n",
       "      <td>...</td>\n",
       "      <td>25.8863</td>\n",
       "      <td>21.7513</td>\n",
       "      <td>21.5471</td>\n",
       "      <td>5.4887</td>\n",
       "      <td>10.3351</td>\n",
       "      <td>5.1082</td>\n",
       "      <td>19.3818</td>\n",
       "      <td>10.9213</td>\n",
       "      <td>11.0451</td>\n",
       "      <td>8.6737</td>\n",
       "    </tr>\n",
       "    <tr>\n",
       "      <th>ILMN_1651210</th>\n",
       "      <td>-1.7164</td>\n",
       "      <td>11.3661</td>\n",
       "      <td>15.6395</td>\n",
       "      <td>3.3921</td>\n",
       "      <td>17.9052</td>\n",
       "      <td>25.2179</td>\n",
       "      <td>1.0190</td>\n",
       "      <td>13.5060</td>\n",
       "      <td>0.6578</td>\n",
       "      <td>-8.6298</td>\n",
       "      <td>...</td>\n",
       "      <td>3.5027</td>\n",
       "      <td>1.8973</td>\n",
       "      <td>-3.9909</td>\n",
       "      <td>-8.1034</td>\n",
       "      <td>-6.7846</td>\n",
       "      <td>-6.3385</td>\n",
       "      <td>6.1620</td>\n",
       "      <td>0.2771</td>\n",
       "      <td>-2.1866</td>\n",
       "      <td>-0.1293</td>\n",
       "    </tr>\n",
       "  </tbody>\n",
       "</table>\n",
       "<p>5 rows × 291 columns</p>\n",
       "</div>"
      ],
      "text/plain": [
       "              GSM2124286  GSM2124287  GSM2124288  GSM2124289  GSM2124290  \\\n",
       "ID                                                                         \n",
       "ILMN_1343291  20224.7148  16791.0059  20814.0977  20293.5547  18419.4316   \n",
       "ILMN_1343295   1770.4265   1840.0784   1797.9597   2269.9917   1255.4275   \n",
       "ILMN_1651199    -19.5596      9.3942     -6.4999     15.6880     -1.7502   \n",
       "ILMN_1651209     -0.8812     -0.8292     22.2600      4.0365      1.0642   \n",
       "ILMN_1651210     -1.7164     11.3661     15.6395      3.3921     17.9052   \n",
       "\n",
       "              GSM2124291  GSM2124292  GSM2124293  GSM2124294  GSM2124295  ...  \\\n",
       "ID                                                                        ...   \n",
       "ILMN_1343291  18530.1953  18748.1328  19658.6328  17679.5078  15956.1084  ...   \n",
       "ILMN_1343295   1750.5592   1913.2695   1833.3894   2521.4897   1702.7528  ...   \n",
       "ILMN_1651199    -14.5042      3.5772     -8.1621     -9.4599     -7.3289  ...   \n",
       "ILMN_1651209     16.0589     -1.0364     15.4457     16.5745      2.6873  ...   \n",
       "ILMN_1651210     25.2179      1.0190     13.5060      0.6578     -8.6298  ...   \n",
       "\n",
       "              GSM2124577  GSM2124578  GSM2124579  GSM2124580  GSM2124581  \\\n",
       "ID                                                                         \n",
       "ILMN_1343291  21212.0586  20771.7207  18621.5625  16749.5781  16301.7588   \n",
       "ILMN_1343295   1676.6591   1423.4424   1605.4531    686.2298   1454.2601   \n",
       "ILMN_1651199     -4.2894     -1.0172     -5.9130     -1.2286     -0.3214   \n",
       "ILMN_1651209     25.8863     21.7513     21.5471      5.4887     10.3351   \n",
       "ILMN_1651210      3.5027      1.8973     -3.9909     -8.1034     -6.7846   \n",
       "\n",
       "              GSM2124582  GSM2124583  GSM2124584  GSM2124585  GSM2124586  \n",
       "ID                                                                        \n",
       "ILMN_1343291  15032.8750  17372.9395  17197.1113  16901.9336  18280.0508  \n",
       "ILMN_1343295    712.8145   1317.3906   1167.7744    624.5963    868.8993  \n",
       "ILMN_1651199     -1.4056      1.4598     -2.4067     -1.9414     -2.2119  \n",
       "ILMN_1651209      5.1082     19.3818     10.9213     11.0451      8.6737  \n",
       "ILMN_1651210     -6.3385      6.1620      0.2771     -2.1866     -0.1293  \n",
       "\n",
       "[5 rows x 291 columns]"
      ]
     },
     "execution_count": 94,
     "metadata": {},
     "output_type": "execute_result"
    }
   ],
   "source": [
    "genetic_data = get_genetic_data(matrix_file)\n",
    "genetic_data.head()"
   ]
  },
  {
   "cell_type": "code",
   "execution_count": null,
   "metadata": {
    "ExecuteTime": {
     "end_time": "2023-12-31T21:19:35.590443507Z",
     "start_time": "2023-12-31T21:19:35.536713559Z"
    },
    "colab": {
     "base_uri": "https://localhost:8080/"
    },
    "executionInfo": {
     "elapsed": 2,
     "status": "ok",
     "timestamp": 1704459492414,
     "user": {
      "displayName": "郭淑怡",
      "userId": "04547554131744612440"
     },
     "user_tz": -480
    },
    "id": "aCWv6oYZiaEA",
    "outputId": "3f614e5a-04c2-4972-8dbf-af619c0254f5"
   },
   "outputs": [
    {
     "data": {
      "text/plain": [
       "['ILMN_1343291',\n",
       " 'ILMN_1343295',\n",
       " 'ILMN_1651199',\n",
       " 'ILMN_1651209',\n",
       " 'ILMN_1651210',\n",
       " 'ILMN_1651221',\n",
       " 'ILMN_1651228',\n",
       " 'ILMN_1651229',\n",
       " 'ILMN_1651230',\n",
       " 'ILMN_1651232',\n",
       " 'ILMN_1651235',\n",
       " 'ILMN_1651236',\n",
       " 'ILMN_1651237',\n",
       " 'ILMN_1651238',\n",
       " 'ILMN_1651249',\n",
       " 'ILMN_1651253',\n",
       " 'ILMN_1651254',\n",
       " 'ILMN_1651259',\n",
       " 'ILMN_1651260',\n",
       " 'ILMN_1651262']"
      ]
     },
     "execution_count": 96,
     "metadata": {},
     "output_type": "execute_result"
    }
   ],
   "source": [
    "gene_row_ids = genetic_data.index[:20].tolist()\n",
    "gene_row_ids"
   ]
  },
  {
   "cell_type": "markdown",
   "metadata": {
    "ExecuteTime": {
     "end_time": "2023-12-31T03:30:41.595335164Z",
     "start_time": "2023-12-31T03:30:41.513232329Z"
    },
    "collapsed": false,
    "id": "_GDJH2wbiaEA"
   },
   "source": [
    "Check if the gene dataset requires mapping to get the gene symbols corresponding to each data row."
   ]
  },
  {
   "cell_type": "markdown",
   "metadata": {
    "collapsed": false,
    "id": "-oGa4Zz0iaEA"
   },
   "source": [
    "Reference prompt:"
   ]
  },
  {
   "cell_type": "code",
   "execution_count": null,
   "metadata": {
    "ExecuteTime": {
     "end_time": "2023-12-31T21:19:35.590590427Z",
     "start_time": "2023-12-31T21:19:35.536780517Z"
    },
    "colab": {
     "base_uri": "https://localhost:8080/",
     "height": 125
    },
    "executionInfo": {
     "elapsed": 515,
     "status": "ok",
     "timestamp": 1704459495363,
     "user": {
      "displayName": "郭淑怡",
      "userId": "04547554131744612440"
     },
     "user_tz": -480
    },
    "id": "icIqZ_XaiaEB",
    "outputId": "88837551-d222-43d9-8507-a2febc0aee22"
   },
   "outputs": [
    {
     "data": {
      "text/plain": [
       "\"\\nBelow are the row headers of a gene expression dataset in GEO. Based on your biomedical knowledge, are they human gene symbols, or are they some other identifiers that need to be mapped to gene symbols? Your answer should be concluded by starting a new line and strictly following this format:\\nrequires_gene_mapping = (True or False)\\n\\nRow headers:\\n['ILMN_1343291', 'ILMN_1343295', 'ILMN_1651199', 'ILMN_1651209', 'ILMN_1651210', 'ILMN_1651221', 'ILMN_1651228', 'ILMN_1651229', 'ILMN_1651230', 'ILMN_1651232', 'ILMN_1651235', 'ILMN_1651236', 'ILMN_1651237', 'ILMN_1651238', 'ILMN_1651249', 'ILMN_1651253', 'ILMN_1651254', 'ILMN_1651259', 'ILMN_1651260', 'ILMN_1651262']\\n\""
      ]
     },
     "execution_count": 98,
     "metadata": {},
     "output_type": "execute_result"
    }
   ],
   "source": [
    "f'''\n",
    "Below are the row headers of a gene expression dataset in GEO. Based on your biomedical knowledge, are they human gene symbols, or are they some other identifiers that need to be mapped to gene symbols? Your answer should be concluded by starting a new line and strictly following this format:\n",
    "requires_gene_mapping = (True or False)\n",
    "\n",
    "Row headers:\n",
    "{gene_row_ids}\n",
    "'''"
   ]
  },
  {
   "cell_type": "markdown",
   "metadata": {
    "collapsed": false,
    "id": "lqpef-AEiaEB"
   },
   "source": [
    "If not required, jump directly to the gene normalization step"
   ]
  },
  {
   "cell_type": "code",
   "execution_count": null,
   "metadata": {
    "ExecuteTime": {
     "end_time": "2023-12-31T21:19:35.590648558Z",
     "start_time": "2023-12-31T21:19:35.536821375Z"
    },
    "executionInfo": {
     "elapsed": 2,
     "status": "ok",
     "timestamp": 1704459497156,
     "user": {
      "displayName": "郭淑怡",
      "userId": "04547554131744612440"
     },
     "user_tz": -480
    },
    "id": "mjjOtDejiaEB"
   },
   "outputs": [],
   "source": [
    "requires_gene_mapping = False"
   ]
  },
  {
   "cell_type": "code",
   "execution_count": null,
   "metadata": {
    "ExecuteTime": {
     "end_time": "2023-12-31T21:19:35.590695457Z",
     "start_time": "2023-12-31T21:19:35.536910836Z"
    },
    "executionInfo": {
     "elapsed": 41476,
     "status": "ok",
     "timestamp": 1704459540538,
     "user": {
      "displayName": "郭淑怡",
      "userId": "04547554131744612440"
     },
     "user_tz": -480
    },
    "id": "ddUHkPQeiaEB"
   },
   "outputs": [],
   "source": [
    "if requires_gene_mapping:\n",
    "    gene_annotation = get_gene_annotation(soft_file)[0]\n",
    "    gene_annotation_summary = preview_df(gene_annotation)\n",
    "    gene_annotation_summary"
   ]
  },
  {
   "cell_type": "markdown",
   "metadata": {
    "ExecuteTime": {
     "end_time": "2023-12-31T03:58:04.978931927Z",
     "start_time": "2023-12-31T03:58:04.966328339Z"
    },
    "collapsed": false,
    "id": "iX79MmEKiaEB"
   },
   "source": [
    "Observe the first few cells in the ID column of the gene annotation dataframe, to find the names of columns that store the gene probe IDs and gene symbols respectively.\n",
    "Reference prompt:"
   ]
  },
  {
   "cell_type": "code",
   "execution_count": null,
   "metadata": {
    "ExecuteTime": {
     "end_time": "2023-12-31T21:19:35.590742236Z",
     "start_time": "2023-12-31T21:19:35.537050893Z"
    },
    "colab": {
     "base_uri": "https://localhost:8080/"
    },
    "executionInfo": {
     "elapsed": 416,
     "status": "ok",
     "timestamp": 1704459545733,
     "user": {
      "displayName": "郭淑怡",
      "userId": "04547554131744612440"
     },
     "user_tz": -480
    },
    "id": "IFcuQ4S9iaEB",
    "outputId": "003b7f79-3587-425c-a76f-364f7668bcf5"
   },
   "outputs": [],
   "source": [
    "if requires_gene_mapping:\n",
    "    print(f'''\n",
    "    As a biomedical research team, we extracted the gene annotation data from a series in the GEO database, and saved it to a Python dictionary. Please read the dictionary, and decide which key stores the ID of the probe, and which key stores the gene symbols. Please strict follow this format in your answer:\n",
    "    probe_name_key = key_name1\n",
    "    gene_name_key = key_name2\n",
    "\n",
    "    Gene annotation dictionary:\n",
    "    {gene_annotation_summary}\n",
    "    ''')"
   ]
  },
  {
   "cell_type": "code",
   "execution_count": null,
   "metadata": {
    "ExecuteTime": {
     "end_time": "2023-12-31T21:19:35.590786881Z",
     "start_time": "2023-12-31T21:19:35.537132859Z"
    },
    "executionInfo": {
     "elapsed": 3382,
     "status": "ok",
     "timestamp": 1704459600983,
     "user": {
      "displayName": "郭淑怡",
      "userId": "04547554131744612440"
     },
     "user_tz": -480
    },
    "id": "pCVgeE6DiaEB"
   },
   "outputs": [],
   "source": [
    "if requires_gene_mapping:\n",
    "    probe_id_key = 'ID'\n",
    "    gene_symb_key = 'UCSC_RefGene_Name'\n",
    "    gene_mapping = get_gene_mapping(gene_annotation, probe_id_key, gene_symb_key)\n",
    "    genetic_data = apply_gene_mapping(genetic_data, gene_mapping)"
   ]
  },
  {
   "cell_type": "code",
   "execution_count": null,
   "metadata": {
    "ExecuteTime": {
     "end_time": "2023-12-31T21:19:35.590837318Z",
     "start_time": "2023-12-31T21:19:35.537209586Z"
    },
    "colab": {
     "base_uri": "https://localhost:8080/"
    },
    "executionInfo": {
     "elapsed": 79400,
     "status": "ok",
     "timestamp": 1704459682112,
     "user": {
      "displayName": "郭淑怡",
      "userId": "04547554131744612440"
     },
     "user_tz": -480
    },
    "id": "aqJRhdbFiaEB",
    "outputId": "e32013d3-5c4b-4dd3-ec63-603a958dd08d"
   },
   "outputs": [],
   "source": [
    "if NORMALIZE_GENE:\n",
    "    genetic_data = normalize_gene_symbols_in_index(genetic_data)"
   ]
  },
  {
   "cell_type": "code",
   "execution_count": null,
   "metadata": {
    "ExecuteTime": {
     "end_time": "2023-12-31T21:19:35.590902191Z",
     "start_time": "2023-12-31T21:19:35.537285901Z"
    },
    "executionInfo": {
     "elapsed": 410,
     "status": "ok",
     "timestamp": 1704459686452,
     "user": {
      "displayName": "郭淑怡",
      "userId": "04547554131744612440"
     },
     "user_tz": -480
    },
    "id": "istECoP1iaEB"
   },
   "outputs": [
    {
     "ename": "NameError",
     "evalue": "name 'selected_clinical_data' is not defined",
     "output_type": "error",
     "traceback": [
      "\u001B[1;31m---------------------------------------------------------------------------\u001B[0m",
      "\u001B[1;31mNameError\u001B[0m                                 Traceback (most recent call last)",
      "Cell \u001B[1;32mIn[111], line 1\u001B[0m\n\u001B[1;32m----> 1\u001B[0m merged_data \u001B[38;5;241m=\u001B[39m geo_merge_clinical_genetic_data(\u001B[43mselected_clinical_data\u001B[49m, genetic_data)\n\u001B[0;32m      2\u001B[0m \u001B[38;5;66;03m# The preprocessing runs through, which means is_available should be True\u001B[39;00m\n\u001B[0;32m      3\u001B[0m is_available \u001B[38;5;241m=\u001B[39m \u001B[38;5;28;01mTrue\u001B[39;00m\n",
      "\u001B[1;31mNameError\u001B[0m: name 'selected_clinical_data' is not defined"
     ]
    }
   ],
   "source": [
    "merged_data = geo_merge_clinical_genetic_data(selected_clinical_data, genetic_data)\n",
    "# The preprocessing runs through, which means is_available should be True\n",
    "is_available = True"
   ]
  },
  {
   "cell_type": "code",
   "execution_count": null,
   "metadata": {
    "ExecuteTime": {
     "end_time": "2023-12-31T21:19:35.591095170Z",
     "start_time": "2023-12-31T21:19:35.538708445Z"
    },
    "colab": {
     "base_uri": "https://localhost:8080/"
    },
    "executionInfo": {
     "elapsed": 3,
     "status": "ok",
     "timestamp": 1704459689000,
     "user": {
      "displayName": "郭淑怡",
      "userId": "04547554131744612440"
     },
     "user_tz": -480
    },
    "id": "tzrpD6LciaEB",
    "outputId": "ee927911-f436-4e12-91b7-85e031ccd63b"
   },
   "outputs": [
    {
     "name": "stdout",
     "output_type": "stream",
     "text": [
      "The merged dataset contains 291 samples.\n"
     ]
    }
   ],
   "source": [
    "print(f\"The merged dataset contains {len(merged_data)} samples.\")"
   ]
  },
  {
   "cell_type": "code",
   "execution_count": null,
   "metadata": {
    "ExecuteTime": {
     "end_time": "2023-12-31T21:19:35.610849182Z",
     "start_time": "2023-12-31T21:19:35.541210258Z"
    },
    "colab": {
     "base_uri": "https://localhost:8080/"
    },
    "executionInfo": {
     "elapsed": 3,
     "status": "ok",
     "timestamp": 1704459690597,
     "user": {
      "displayName": "郭淑怡",
      "userId": "04547554131744612440"
     },
     "user_tz": -480
    },
    "id": "opVFXzd4iaEC",
    "outputId": "aeee804a-52e1-4699-bcc4-e074b2b9a2ee"
   },
   "outputs": [
    {
     "name": "stdout",
     "output_type": "stream",
     "text": [
      "For the feature 'Autoinflammatory Disorders', the least common label is '1.0' with 93 occurrences. This represents 31.96% of the dataset.\n",
      "The distribution of the feature 'Autoinflammatory Disorders' in this dataset is fine.\n",
      "\n"
     ]
    },
    {
     "data": {
      "text/plain": [
       "False"
      ]
     },
     "execution_count": 25,
     "metadata": {},
     "output_type": "execute_result"
    }
   ],
   "source": [
    "is_trait_biased, merged_data = judge_and_remove_biased_features(merged_data, TRAIT, trait_type=trait_type)\n",
    "is_trait_biased"
   ]
  },
  {
   "cell_type": "code",
   "execution_count": null,
   "metadata": {
    "ExecuteTime": {
     "end_time": "2023-12-31T21:19:35.610923234Z",
     "start_time": "2023-12-31T21:19:35.584848473Z"
    },
    "executionInfo": {
     "elapsed": 949,
     "status": "ok",
     "timestamp": 1704459693473,
     "user": {
      "displayName": "郭淑怡",
      "userId": "04547554131744612440"
     },
     "user_tz": -480
    },
    "id": "wFORrTwciaEC"
   },
   "outputs": [],
   "source": [
    "save_cohort_info(cohort, JSON_PATH, is_available, is_trait_biased, merged_data)"
   ]
  },
  {
   "cell_type": "code",
   "execution_count": null,
   "metadata": {
    "ExecuteTime": {
     "end_time": "2023-12-31T21:19:35.610970734Z",
     "start_time": "2023-12-31T21:19:35.585042694Z"
    },
    "executionInfo": {
     "elapsed": 5441,
     "status": "ok",
     "timestamp": 1704459700767,
     "user": {
      "displayName": "郭淑怡",
      "userId": "04547554131744612440"
     },
     "user_tz": -480
    },
    "id": "EG3DaeSJiaEC"
   },
   "outputs": [],
   "source": [
    "merged_data.head()\n",
    "if not is_trait_biased:\n",
    "    merged_data.to_csv(os.path.join(OUTPUT_DIR, cohort+'.csv'), index=False)"
   ]
  },
  {
   "cell_type": "markdown",
   "metadata": {
    "ExecuteTime": {
     "end_time": "2023-12-31T03:58:22.271683755Z",
     "start_time": "2023-12-31T03:58:22.246557674Z"
    },
    "id": "-MTPhRGxJV7I"
   },
   "source": [
    "### 3. Do regression & Cross Validation"
   ]
  },
  {
   "cell_type": "code",
   "execution_count": null,
   "metadata": {
    "ExecuteTime": {
     "end_time": "2023-12-31T21:19:44.459442087Z",
     "start_time": "2023-12-31T21:19:44.416219648Z"
    },
    "executionInfo": {
     "elapsed": 533,
     "status": "ok",
     "timestamp": 1704459733416,
     "user": {
      "displayName": "郭淑怡",
      "userId": "04547554131744612440"
     },
     "user_tz": -480
    },
    "id": "v-dUlz9_iaEC"
   },
   "outputs": [],
   "source": [
    "best_cohort, ranked_df = filter_and_rank_cohorts(JSON_PATH, 'has_age')\n",
    "best_cohort"
   ]
  },
  {
   "cell_type": "code",
   "execution_count": null,
   "metadata": {
    "ExecuteTime": {
     "end_time": "2023-12-31T21:19:44.808945960Z",
     "start_time": "2023-12-31T21:19:44.799467072Z"
    },
    "id": "r15ErhKhiaEC",
    "outputId": "cf26557f-7ea5-4980-d4f5-e77fe72b50da"
   },
   "outputs": [
    {
     "data": {
      "text/html": [
       "<div>\n",
       "<style scoped>\n",
       "    .dataframe tbody tr th:only-of-type {\n",
       "        vertical-align: middle;\n",
       "    }\n",
       "\n",
       "    .dataframe tbody tr th {\n",
       "        vertical-align: top;\n",
       "    }\n",
       "\n",
       "    .dataframe thead th {\n",
       "        text-align: right;\n",
       "    }\n",
       "</style>\n",
       "<table border=\"1\" class=\"dataframe\">\n",
       "  <thead>\n",
       "    <tr style=\"text-align: right;\">\n",
       "      <th></th>\n",
       "      <th>cohort_id</th>\n",
       "      <th>is_usable</th>\n",
       "      <th>is_available</th>\n",
       "      <th>is_biased</th>\n",
       "      <th>has_age</th>\n",
       "      <th>has_gender</th>\n",
       "      <th>sample_size</th>\n",
       "      <th>note</th>\n",
       "    </tr>\n",
       "  </thead>\n",
       "  <tbody>\n",
       "    <tr>\n",
       "      <th>0</th>\n",
       "      <td>Xena</td>\n",
       "      <td>True</td>\n",
       "      <td>True</td>\n",
       "      <td>False</td>\n",
       "      <td>True</td>\n",
       "      <td>True</td>\n",
       "      <td>1215.0</td>\n",
       "      <td></td>\n",
       "    </tr>\n",
       "    <tr>\n",
       "      <th>3</th>\n",
       "      <td>GSE248830</td>\n",
       "      <td>True</td>\n",
       "      <td>True</td>\n",
       "      <td>False</td>\n",
       "      <td>True</td>\n",
       "      <td>True</td>\n",
       "      <td>38.0</td>\n",
       "      <td></td>\n",
       "    </tr>\n",
       "  </tbody>\n",
       "</table>\n",
       "</div>"
      ],
      "text/plain": [
       "   cohort_id  is_usable  is_available is_biased has_age has_gender  \\\n",
       "0       Xena       True          True     False    True       True   \n",
       "3  GSE248830       True          True     False    True       True   \n",
       "\n",
       "   sample_size note  \n",
       "0       1215.0       \n",
       "3         38.0       "
      ]
     },
     "execution_count": 45,
     "metadata": {},
     "output_type": "execute_result"
    }
   ],
   "source": [
    "ranked_df.head()"
   ]
  },
  {
   "cell_type": "code",
   "execution_count": null,
   "metadata": {
    "ExecuteTime": {
     "end_time": "2023-12-31T21:19:52.222719978Z",
     "start_time": "2023-12-31T21:19:45.162873006Z"
    },
    "id": "2c15dYzIiaEC"
   },
   "outputs": [],
   "source": [
    "merged_data = pd.read_csv(os.path.join(OUTPUT_DIR, best_cohort+'.csv'))"
   ]
  },
  {
   "cell_type": "code",
   "execution_count": null,
   "metadata": {
    "ExecuteTime": {
     "end_time": "2023-12-31T21:19:52.234945878Z",
     "start_time": "2023-12-31T21:19:52.231604618Z"
    },
    "id": "LOAj-G92iaEC",
    "outputId": "519f4ae4-7c39-4ba0-cbb4-f2d4f67dcc44"
   },
   "outputs": [
    {
     "data": {
      "text/html": [
       "<div>\n",
       "<style scoped>\n",
       "    .dataframe tbody tr th:only-of-type {\n",
       "        vertical-align: middle;\n",
       "    }\n",
       "\n",
       "    .dataframe tbody tr th {\n",
       "        vertical-align: top;\n",
       "    }\n",
       "\n",
       "    .dataframe thead th {\n",
       "        text-align: right;\n",
       "    }\n",
       "</style>\n",
       "<table border=\"1\" class=\"dataframe\">\n",
       "  <thead>\n",
       "    <tr style=\"text-align: right;\">\n",
       "      <th></th>\n",
       "      <th>Breast Cancer</th>\n",
       "      <th>Age</th>\n",
       "      <th>Gender</th>\n",
       "      <th>ARHGEF10L</th>\n",
       "      <th>HIF3A</th>\n",
       "      <th>RNF17</th>\n",
       "      <th>RNF10</th>\n",
       "      <th>RNF11</th>\n",
       "      <th>RNF13</th>\n",
       "      <th>GTF2IP1</th>\n",
       "      <th>...</th>\n",
       "      <th>TULP2</th>\n",
       "      <th>NPY5R</th>\n",
       "      <th>GNGT2</th>\n",
       "      <th>GNGT1</th>\n",
       "      <th>TULP3</th>\n",
       "      <th>PTRF</th>\n",
       "      <th>BCL6B</th>\n",
       "      <th>GSTK1</th>\n",
       "      <th>SELP</th>\n",
       "      <th>SELS</th>\n",
       "    </tr>\n",
       "  </thead>\n",
       "  <tbody>\n",
       "    <tr>\n",
       "      <th>0</th>\n",
       "      <td>1</td>\n",
       "      <td>55.0</td>\n",
       "      <td>0.0</td>\n",
       "      <td>0.607308</td>\n",
       "      <td>-3.194126</td>\n",
       "      <td>-0.531035</td>\n",
       "      <td>-0.145872</td>\n",
       "      <td>0.237422</td>\n",
       "      <td>-0.29921</td>\n",
       "      <td>-0.142694</td>\n",
       "      <td>...</td>\n",
       "      <td>-0.748878</td>\n",
       "      <td>0.565583</td>\n",
       "      <td>-0.767233</td>\n",
       "      <td>-1.28139</td>\n",
       "      <td>-0.271377</td>\n",
       "      <td>-0.492286</td>\n",
       "      <td>0.360373</td>\n",
       "      <td>1.067905</td>\n",
       "      <td>0.076267</td>\n",
       "      <td>-0.392212</td>\n",
       "    </tr>\n",
       "    <tr>\n",
       "      <th>1</th>\n",
       "      <td>1</td>\n",
       "      <td>50.0</td>\n",
       "      <td>0.0</td>\n",
       "      <td>-0.641192</td>\n",
       "      <td>-4.928226</td>\n",
       "      <td>0.095465</td>\n",
       "      <td>0.098128</td>\n",
       "      <td>-0.541978</td>\n",
       "      <td>-0.32291</td>\n",
       "      <td>-0.044694</td>\n",
       "      <td>...</td>\n",
       "      <td>0.312922</td>\n",
       "      <td>0.079683</td>\n",
       "      <td>0.475267</td>\n",
       "      <td>1.99661</td>\n",
       "      <td>0.161423</td>\n",
       "      <td>0.273714</td>\n",
       "      <td>0.644673</td>\n",
       "      <td>-0.428695</td>\n",
       "      <td>0.068667</td>\n",
       "      <td>-0.043812</td>\n",
       "    </tr>\n",
       "    <tr>\n",
       "      <th>2</th>\n",
       "      <td>1</td>\n",
       "      <td>62.0</td>\n",
       "      <td>0.0</td>\n",
       "      <td>1.082808</td>\n",
       "      <td>-4.623726</td>\n",
       "      <td>-0.531035</td>\n",
       "      <td>0.484028</td>\n",
       "      <td>-0.183678</td>\n",
       "      <td>-0.91901</td>\n",
       "      <td>0.261106</td>\n",
       "      <td>...</td>\n",
       "      <td>-0.748878</td>\n",
       "      <td>-0.656117</td>\n",
       "      <td>-0.216733</td>\n",
       "      <td>0.21081</td>\n",
       "      <td>0.101023</td>\n",
       "      <td>0.660514</td>\n",
       "      <td>1.295073</td>\n",
       "      <td>0.915105</td>\n",
       "      <td>0.168567</td>\n",
       "      <td>0.047788</td>\n",
       "    </tr>\n",
       "    <tr>\n",
       "      <th>3</th>\n",
       "      <td>1</td>\n",
       "      <td>52.0</td>\n",
       "      <td>0.0</td>\n",
       "      <td>0.121608</td>\n",
       "      <td>-2.881526</td>\n",
       "      <td>-0.531035</td>\n",
       "      <td>0.179128</td>\n",
       "      <td>0.039222</td>\n",
       "      <td>-0.45491</td>\n",
       "      <td>0.180306</td>\n",
       "      <td>...</td>\n",
       "      <td>0.415422</td>\n",
       "      <td>-0.178417</td>\n",
       "      <td>-0.211233</td>\n",
       "      <td>-1.28139</td>\n",
       "      <td>0.108023</td>\n",
       "      <td>1.132814</td>\n",
       "      <td>0.496773</td>\n",
       "      <td>0.240105</td>\n",
       "      <td>3.099767</td>\n",
       "      <td>0.112888</td>\n",
       "    </tr>\n",
       "    <tr>\n",
       "      <th>4</th>\n",
       "      <td>1</td>\n",
       "      <td>50.0</td>\n",
       "      <td>0.0</td>\n",
       "      <td>0.420208</td>\n",
       "      <td>-3.282726</td>\n",
       "      <td>-0.531035</td>\n",
       "      <td>-0.020972</td>\n",
       "      <td>-0.117978</td>\n",
       "      <td>-0.55781</td>\n",
       "      <td>-0.173794</td>\n",
       "      <td>...</td>\n",
       "      <td>0.685222</td>\n",
       "      <td>-0.698717</td>\n",
       "      <td>-0.484233</td>\n",
       "      <td>-1.28139</td>\n",
       "      <td>-0.223577</td>\n",
       "      <td>1.222714</td>\n",
       "      <td>0.225573</td>\n",
       "      <td>-0.301995</td>\n",
       "      <td>0.200067</td>\n",
       "      <td>-0.080212</td>\n",
       "    </tr>\n",
       "  </tbody>\n",
       "</table>\n",
       "<p>5 rows × 20533 columns</p>\n",
       "</div>"
      ],
      "text/plain": [
       "   Breast Cancer   Age  Gender  ARHGEF10L     HIF3A     RNF17     RNF10  \\\n",
       "0              1  55.0     0.0   0.607308 -3.194126 -0.531035 -0.145872   \n",
       "1              1  50.0     0.0  -0.641192 -4.928226  0.095465  0.098128   \n",
       "2              1  62.0     0.0   1.082808 -4.623726 -0.531035  0.484028   \n",
       "3              1  52.0     0.0   0.121608 -2.881526 -0.531035  0.179128   \n",
       "4              1  50.0     0.0   0.420208 -3.282726 -0.531035 -0.020972   \n",
       "\n",
       "      RNF11    RNF13   GTF2IP1  ...     TULP2     NPY5R     GNGT2    GNGT1  \\\n",
       "0  0.237422 -0.29921 -0.142694  ... -0.748878  0.565583 -0.767233 -1.28139   \n",
       "1 -0.541978 -0.32291 -0.044694  ...  0.312922  0.079683  0.475267  1.99661   \n",
       "2 -0.183678 -0.91901  0.261106  ... -0.748878 -0.656117 -0.216733  0.21081   \n",
       "3  0.039222 -0.45491  0.180306  ...  0.415422 -0.178417 -0.211233 -1.28139   \n",
       "4 -0.117978 -0.55781 -0.173794  ...  0.685222 -0.698717 -0.484233 -1.28139   \n",
       "\n",
       "      TULP3      PTRF     BCL6B     GSTK1      SELP      SELS  \n",
       "0 -0.271377 -0.492286  0.360373  1.067905  0.076267 -0.392212  \n",
       "1  0.161423  0.273714  0.644673 -0.428695  0.068667 -0.043812  \n",
       "2  0.101023  0.660514  1.295073  0.915105  0.168567  0.047788  \n",
       "3  0.108023  1.132814  0.496773  0.240105  3.099767  0.112888  \n",
       "4 -0.223577  1.222714  0.225573 -0.301995  0.200067 -0.080212  \n",
       "\n",
       "[5 rows x 20533 columns]"
      ]
     },
     "execution_count": 47,
     "metadata": {},
     "output_type": "execute_result"
    }
   ],
   "source": [
    "merged_data.head()"
   ]
  },
  {
   "cell_type": "code",
   "execution_count": null,
   "metadata": {
    "ExecuteTime": {
     "end_time": "2023-12-31T21:19:52.312540150Z",
     "start_time": "2023-12-31T21:19:52.235772334Z"
    },
    "id": "vtzuVZpLiaEC"
   },
   "outputs": [],
   "source": [
    "# If both age and gender features are available, select 'age' as the condition.\n",
    "condition = 'Age'\n",
    "# Remove the other condition to prevent interference.\n",
    "merged_data = merged_data.drop(columns=['Gender'], errors='ignore').astype('float')"
   ]
  },
  {
   "cell_type": "code",
   "execution_count": null,
   "metadata": {
    "ExecuteTime": {
     "end_time": "2023-12-31T21:19:52.323468266Z",
     "start_time": "2023-12-31T21:19:52.290903989Z"
    },
    "id": "LJDde0WQiaEC"
   },
   "outputs": [],
   "source": [
    "X = merged_data.drop(columns=[TRAIT, condition]).values\n",
    "Y = merged_data[TRAIT].values\n",
    "Z = merged_data[condition].values"
   ]
  },
  {
   "cell_type": "markdown",
   "metadata": {
    "collapsed": false,
    "id": "VKBCcPkGiaEC"
   },
   "source": [
    "Select the appropriate regression model depending on whether the dataset shows batch effect."
   ]
  },
  {
   "cell_type": "code",
   "execution_count": null,
   "metadata": {
    "ExecuteTime": {
     "end_time": "2023-12-31T21:20:00.930840782Z",
     "start_time": "2023-12-31T21:19:52.319092572Z"
    },
    "id": "0mp8bOqciaED",
    "outputId": "2e542440-11b5-4751-9d72-460b69859c8f"
   },
   "outputs": [
    {
     "data": {
      "text/plain": [
       "True"
      ]
     },
     "execution_count": 50,
     "metadata": {},
     "output_type": "execute_result"
    }
   ],
   "source": [
    "has_batch_effect = detect_batch_effect(X)\n",
    "has_batch_effect"
   ]
  },
  {
   "cell_type": "code",
   "execution_count": null,
   "metadata": {
    "ExecuteTime": {
     "end_time": "2023-12-31T21:20:00.931029722Z",
     "start_time": "2023-12-31T21:20:00.929710828Z"
    },
    "id": "IITCrXFGiaED"
   },
   "outputs": [],
   "source": [
    "if has_batch_effect:\n",
    "    model_constructor = VariableSelection\n",
    "    model_params = {}\n",
    "else:\n",
    "    model_constructor = Lasso\n",
    "    model_params = {'alpha': 1.0, 'random_state': 42}"
   ]
  },
  {
   "cell_type": "code",
   "execution_count": null,
   "metadata": {
    "ExecuteTime": {
     "end_time": "2023-12-31T21:20:20.709459824Z",
     "start_time": "2023-12-31T21:20:00.931657949Z"
    },
    "id": "qWZ4p5LRiaED",
    "outputId": "94d8262b-dfc7-44fc-8a36-b36a140bcd94"
   },
   "outputs": [
    {
     "name": "stderr",
     "output_type": "stream",
     "text": [
      "/home/techt/anaconda3/envs/hl/lib/python3.8/site-packages/sparse_lmm/helpingMethods.py:49: RuntimeWarning: invalid value encountered in divide\n",
      "  ts = beta / np.sqrt(var * sigma)\n",
      "/home/techt/anaconda3/envs/hl/lib/python3.8/site-packages/sparse_lmm/helpingMethods.py:49: RuntimeWarning: invalid value encountered in divide\n",
      "  ts = beta / np.sqrt(var * sigma)\n",
      "/home/techt/anaconda3/envs/hl/lib/python3.8/site-packages/sparse_lmm/helpingMethods.py:49: RuntimeWarning: invalid value encountered in divide\n",
      "  ts = beta / np.sqrt(var * sigma)\n",
      "/home/techt/anaconda3/envs/hl/lib/python3.8/site-packages/sparse_lmm/helpingMethods.py:49: RuntimeWarning: invalid value encountered in divide\n",
      "  ts = beta / np.sqrt(var * sigma)\n",
      "/home/techt/anaconda3/envs/hl/lib/python3.8/site-packages/sparse_lmm/helpingMethods.py:49: RuntimeWarning: invalid value encountered in divide\n",
      "  ts = beta / np.sqrt(var * sigma)\n"
     ]
    },
    {
     "name": "stdout",
     "output_type": "stream",
     "text": [
      "The cross-validation accuracy is 91.28% ± 1.50%\n"
     ]
    }
   ],
   "source": [
    "cv_mean, cv_std = cross_validation(X, Y, Z, model_constructor, model_params, target_type=trait_type)"
   ]
  },
  {
   "cell_type": "code",
   "execution_count": null,
   "metadata": {
    "ExecuteTime": {
     "end_time": "2023-12-31T21:20:24.980870159Z",
     "start_time": "2023-12-31T21:20:20.516710807Z"
    },
    "id": "6PpgQE0kiaED",
    "outputId": "0466e0eb-88f5-4e9a-8236-666d416f1b1d"
   },
   "outputs": [
    {
     "name": "stderr",
     "output_type": "stream",
     "text": [
      "/home/techt/anaconda3/envs/hl/lib/python3.8/site-packages/sparse_lmm/helpingMethods.py:49: RuntimeWarning: invalid value encountered in divide\n",
      "  ts = beta / np.sqrt(var * sigma)\n"
     ]
    }
   ],
   "source": [
    "# Train regression model on the whole dataset to identify significant genes\n",
    "model = ResidualizationRegressor(model_constructor, model_params)\n",
    "normalized_X, _ = normalize_data(X)\n",
    "normalized_Z, _ = normalize_data(Z)\n",
    "model.fit(normalized_X, Y, normalized_Z)"
   ]
  },
  {
   "cell_type": "markdown",
   "metadata": {
    "ExecuteTime": {
     "end_time": "2023-10-14T04:50:59.072075075Z",
     "start_time": "2023-10-14T04:50:38.739499998Z"
    },
    "id": "EjJrxbvb4nlj"
   },
   "source": [
    "### 5. Discussion and report"
   ]
  },
  {
   "cell_type": "code",
   "execution_count": null,
   "metadata": {
    "ExecuteTime": {
     "end_time": "2023-12-31T21:20:25.000830410Z",
     "start_time": "2023-12-31T21:20:24.982834541Z"
    },
    "id": "0VidWNDkiaED",
    "outputId": "ae1dfede-e05a-40bf-80ca-203e5fffcef5"
   },
   "outputs": [
    {
     "name": "stdout",
     "output_type": "stream",
     "text": [
      "Effect of the condition on the target variable:\n",
      "Variable: Age\n",
      "Coefficient: 0.0065\n",
      "p-value: nan\n",
      "\n",
      "Found 76 significant genes associated with the trait 'Breast Cancer' conditional on the factor 'Age', with corrected p-value < 0.05:\n",
      "    Variable  Coefficient  corrected_p_value\n",
      "     COL10A1     0.136339       3.404090e-27\n",
      "         BGN     0.095422       1.004817e-14\n",
      "    PPAPDC1A     0.081296       9.785054e-13\n",
      "       MMP11     0.080354       1.123019e-10\n",
      "       WISP1     0.074888       9.613830e-10\n",
      "     HSD17B6     0.051940       6.980811e-08\n",
      "      CTHRC1     0.058310       2.210553e-07\n",
      "       MFAP5    -0.054250       2.706783e-07\n",
      "      CLEC5A     0.047846       8.877914e-07\n",
      "   C20orf103     0.048957       8.877914e-07\n",
      "          GC     0.027375       1.419502e-05\n",
      "      OR51D1     0.022908       1.644207e-05\n",
      "        COMP     0.041129       4.366228e-05\n",
      "LOC100169752     0.019398       4.366228e-05\n",
      "      LRRC15     0.052746       4.494130e-05\n",
      "         FN1     0.063527       5.027562e-05\n",
      "     C1QTNF6     0.049130       1.220626e-04\n",
      "       INHBA     0.052621       1.384526e-04\n",
      "       FNDC1     0.044080       1.724540e-04\n",
      "        VCAN     0.062919       3.541404e-04\n",
      "   LOC283867     0.039438       3.541404e-04\n",
      "     SLC24A2     0.045359       3.929641e-04\n",
      "        ECM2    -0.066303       4.895350e-04\n",
      "       CILP2     0.040613       4.895350e-04\n",
      "         DCN    -0.062282       5.405761e-04\n",
      "        HEYL     0.039376       6.133304e-04\n",
      "         FAP     0.062297       6.903458e-04\n",
      "     OLFML2A    -0.037988       8.815285e-04\n",
      "       MFAP2     0.047162       8.815285e-04\n",
      "       CCRL1    -0.036802       8.815285e-04\n",
      "       CD248    -0.046771       8.815285e-04\n",
      "       P4HA3     0.044037       8.815285e-04\n",
      "     C5orf13     0.037746       1.590045e-03\n",
      "      COL5A2     0.064118       2.057973e-03\n",
      "         F2R     0.041164       2.101197e-03\n",
      "      OLFML1    -0.061570       3.573228e-03\n",
      "       PRDM8    -0.040662       3.786028e-03\n",
      "   POM121L12     0.028947       3.941936e-03\n",
      "       LOXL1     0.044681       4.547038e-03\n",
      "       SPARC     0.053330       5.391493e-03\n",
      "      LEFTY2     0.027338       5.753501e-03\n",
      "    SERPINE1     0.028865       5.753501e-03\n",
      "       OR2L3    -0.016537       6.402547e-03\n",
      "     CYP19A1     0.022029       6.651093e-03\n",
      "         MAF    -0.038952       7.098913e-03\n",
      "       GNG11    -0.068155       1.242228e-02\n",
      "       CFHR5    -0.018470       1.366939e-02\n",
      "      CLEC3B    -0.043039       1.366939e-02\n",
      "        NRG3    -0.019375       1.366939e-02\n",
      "      COL1A1     0.046342       1.427700e-02\n",
      "      PCOLCE    -0.049663       1.836229e-02\n",
      "     TMEM119     0.037238       1.922482e-02\n",
      "       KCNC1    -0.024520       2.248216e-02\n",
      "       WNT8A     0.014598       2.592754e-02\n",
      "        RECK    -0.052887       2.781665e-02\n",
      "        SNCB     0.018240       3.140935e-02\n",
      "      KBTBD6    -0.029237       3.140935e-02\n",
      "       SRPX2    -0.034794       3.140935e-02\n",
      "     OLFML2B     0.036407       3.214194e-02\n",
      "      PLXDC1    -0.032863       3.219694e-02\n",
      "      ADAM12     0.040368       3.309987e-02\n",
      "      GRIN2A    -0.021383       3.340752e-02\n",
      "      COL5A1     0.050110       3.456174e-02\n",
      "      USHBP1    -0.050144       3.618703e-02\n",
      "       CYLC2    -0.016414       3.622489e-02\n",
      "     TMEM90B     0.034482       3.622489e-02\n",
      "      RESP18    -0.014081       3.622489e-02\n",
      "        RGS4     0.022820       3.855158e-02\n",
      "        CNTF    -0.020244       3.880001e-02\n",
      "    ADAMTSL2     0.030360       4.155675e-02\n",
      "        CST2     0.019834       4.218502e-02\n",
      "       GRID1    -0.028724       4.218502e-02\n",
      "       MATN3     0.028706       4.316484e-02\n",
      "       GGT8P    -0.017000       4.494972e-02\n",
      "      GPR101     0.014064       4.913174e-02\n",
      "      KIF26B     0.031349       4.960098e-02\n"
     ]
    },
    {
     "name": "stderr",
     "output_type": "stream",
     "text": [
      "/home/techt/AI4Science_gold_standard/stage1/Haoyang/utils.py:492: SettingWithCopyWarning: \n",
      "A value is trying to be set on a copy of a slice from a DataFrame.\n",
      "Try using .loc[row_indexer,col_indexer] = value instead\n",
      "\n",
      "See the caveats in the documentation: https://pandas.pydata.org/pandas-docs/stable/user_guide/indexing.html#returning-a-view-versus-a-copy\n",
      "  gene_regression_df.loc[:, 'corrected_p_value'] = corrected_p_values\n"
     ]
    }
   ],
   "source": [
    "feature_cols = merged_data.columns.tolist()\n",
    "feature_cols.remove(TRAIT)\n",
    "\n",
    "if has_batch_effect:\n",
    "    report_result_from_lmm(model, feature_cols, TRAIT, condition, threshold=0.05, save_output=True,\n",
    "                           output_dir=OUTPUT_DIR)\n",
    "else:\n",
    "    report_result_from_lasso(model, feature_cols, TRAIT, condition, save_output=True, output_dir=OUTPUT_DIR)"
   ]
  },
  {
   "cell_type": "code",
   "execution_count": null,
   "metadata": {
    "id": "bQbxWUPBiaED"
   },
   "outputs": [],
   "source": []
  }
 ],
 "metadata": {
  "colab": {
   "machine_shape": "hm",
   "provenance": [],
   "toc_visible": true
  },
  "kernelspec": {
   "display_name": "Python 3",
   "name": "python3"
  },
  "language_info": {
   "codemirror_mode": {
    "name": "ipython",
    "version": 3
   },
   "file_extension": ".py",
   "mimetype": "text/x-python",
   "name": "python",
   "nbconvert_exporter": "python",
   "pygments_lexer": "ipython3",
   "version": "3.11.9"
  }
 },
 "nbformat": 4,
 "nbformat_minor": 0
}