{
 "cells": [
  {
   "cell_type": "markdown",
   "metadata": {
    "collapsed": false
   },
   "source": [
    "# Gold standard curation: Preprocessing and single-step regression"
   ]
  },
  {
   "cell_type": "markdown",
   "metadata": {
    "collapsed": false
   },
   "source": [
    "In this stage of gold standard curation, we will do the data preprocessing, selection, and single-step regression for the 153 traits in our question set. This file shows the reference steps using the trait \"Breast Cancer\" as an example. The workflow consists of the following steps:\n",
    "\n",
    "1. Preprocess all the cohorts related to this trait. Each cohort should be converted to a tabular form and saved to a csv file, with columns being genetic factors, the trait, and age, gender if available;\n",
    "2. If there exists at least one cohort with age or gender information, conduct regression analysis with genetic features together with age or gender as the regressors.\n"
   ]
  },
  {
   "cell_type": "markdown",
   "metadata": {
    "collapsed": false
   },
   "source": [
    "# 1. Basic setup"
   ]
  },
  {
   "cell_type": "code",
   "execution_count": 2,
   "metadata": {
    "ExecuteTime": {
     "end_time": "2024-01-10T21:37:25.927828954Z",
     "start_time": "2024-01-10T21:37:25.311064788Z"
    },
    "collapsed": false
   },
   "outputs": [],
   "source": [
    "import os\n",
    "import sys\n",
    "\n",
    "sys.path.append('..')\n",
    "from utils import *\n",
    "\n",
    "# Set your preferred name\n",
    "USER = \"Jiayi\"\n",
    "# Set the data and output directories\n",
    "DATA_ROOT = '/Users/legion/Desktop/Courses/IS389/data'   \n",
    "OUTPUT_ROOT = '/Users/legion/Desktop/Courses/IS389/output'\n",
    "TRAIT = 'Cardiovascular Disease'\n",
    "\n",
    "OUTPUT_DIR = os.path.join(OUTPUT_ROOT, USER, '-'.join(TRAIT.split()))\n",
    "JSON_PATH = os.path.join(OUTPUT_DIR, \"cohort_info.json\")\n",
    "if not os.path.exists(OUTPUT_DIR):\n",
    "    os.makedirs(OUTPUT_DIR, exist_ok=True)\n",
    "\n",
    "# Gene symbol normalization may take 1-2 minutes. You may set it to False for debugging.\n",
    "NORMALIZE_GENE = True"
   ]
  },
  {
   "cell_type": "code",
   "execution_count": null,
   "metadata": {
    "ExecuteTime": {
     "end_time": "2024-01-10T21:37:25.928143012Z",
     "start_time": "2024-01-10T21:37:25.918685567Z"
    },
    "colab": {
     "base_uri": "https://localhost:8080/"
    },
    "id": "jMTdsU43vVg3",
    "outputId": "38886111-f442-44b4-8398-96bf384d7abd"
   },
   "outputs": [],
   "source": [
    "# This cell is only for use on Google Colab. Skip it if you run your code in other environments\n",
    "\n",
    "\"\"\"import os\n",
    "from google.colab import drive\n",
    "\n",
    "drive.mount('/content/drive', force_remount=True)\n",
    "proj_dir = '/content/drive/MyDrive/AI4Science_Public'\n",
    "os.chdir(proj_dir)\"\"\""
   ]
  },
  {
   "cell_type": "markdown",
   "metadata": {
    "collapsed": false
   },
   "source": [
    "# 2. Data preprocessing and selection"
   ]
  },
  {
   "cell_type": "markdown",
   "metadata": {
    "collapsed": false
   },
   "source": [
    "## 2.1. The TCGA Xena dataset"
   ]
  },
  {
   "cell_type": "markdown",
   "metadata": {
    "collapsed": false
   },
   "source": [
    "In TCGA Xena, there is either zero or one cohort related to the trait. We search the names of subdirectories to see if any matches the trait. If a match is found, we directly obtain the file paths."
   ]
  },
  {
   "cell_type": "code",
   "execution_count": null,
   "metadata": {
    "ExecuteTime": {
     "end_time": "2024-01-10T21:37:26.554597756Z",
     "start_time": "2024-01-10T21:37:26.530982646Z"
    },
    "collapsed": false
   },
   "outputs": [],
   "source": [
    "dataset = 'TCGA'\n",
    "dataset_dir = os.path.join(DATA_ROOT, dataset)\n",
    "os.listdir(dataset_dir)[:10]"
   ]
  },
  {
   "cell_type": "markdown",
   "metadata": {
    "collapsed": false
   },
   "source": [
    "If no match is found, jump directly to GEO in Part 2.2"
   ]
  },
  {
   "cell_type": "code",
   "execution_count": null,
   "metadata": {
    "ExecuteTime": {
     "end_time": "2024-01-10T21:37:26.999521704Z",
     "start_time": "2024-01-10T21:37:26.987471072Z"
    },
    "collapsed": false
   },
   "outputs": [],
   "source": [
    "trait_subdir = \"TCGA_Adrenocortical_Cancer_(ACC)\"\n",
    "cohort = 'Xena'\n",
    "# All the cancer traits in Xena are binary\n",
    "trait_type = 'binary'\n",
    "# Once a relevant cohort is found in Xena, we can generally assume the gene and clinical data are available\n",
    "is_available = True\n",
    "\n",
    "clinical_data_file = os.path.join(dataset_dir, trait_subdir, 'TCGA.ACC.sampleMap_ACC_clinicalMatrix')\n",
    "genetic_data_file = os.path.join(dataset_dir, trait_subdir, 'TCGA.ACC.sampleMap_HiSeqV2_PANCAN.gz')"
   ]
  },
  {
   "cell_type": "code",
   "execution_count": null,
   "metadata": {
    "ExecuteTime": {
     "end_time": "2024-01-10T21:37:30.180581225Z",
     "start_time": "2024-01-10T21:37:27.217363685Z"
    },
    "id": "MudwB-_iz7sc"
   },
   "outputs": [],
   "source": [
    "import pandas as pd\n",
    "\n",
    "clinical_data = pd.read_csv(clinical_data_file, sep='\\t', index_col=0)\n",
    "genetic_data = pd.read_csv(genetic_data_file, compression='gzip', sep='\\t', index_col=0)\n",
    "age_col = gender_col = None"
   ]
  },
  {
   "cell_type": "code",
   "execution_count": null,
   "metadata": {},
   "outputs": [],
   "source": [
    "def check_rows_and_columns(dataframe, display=False):\n",
    "    \"\"\"\n",
    "    Get the lists of row names and column names of a dataset, and optionally observe them.\n",
    "    :param dataframe:\n",
    "    :param display:\n",
    "    :return:\n",
    "    \"\"\"\n",
    "    dataframe_rows = dataframe.index.tolist()\n",
    "    if display:\n",
    "        print(f\"The dataset has {len(dataframe_rows)} rows, such as {dataframe_rows[:20]}\")\n",
    "    dataframe_cols = dataframe.columns.tolist()\n",
    "    if display:\n",
    "        print(f\"\\nThe dataset has {len(dataframe_cols)} columns, such as {dataframe_cols[:20]}\")\n",
    "    return dataframe_rows, dataframe_cols"
   ]
  },
  {
   "cell_type": "code",
   "execution_count": null,
   "metadata": {
    "ExecuteTime": {
     "end_time": "2024-01-10T21:37:30.185775284Z",
     "start_time": "2024-01-10T21:37:30.181745846Z"
    },
    "collapsed": false
   },
   "outputs": [],
   "source": [
    "_, clinical_data_cols = check_rows_and_columns(clinical_data)\n",
    "clinical_data_cols[:10]"
   ]
  },
  {
   "cell_type": "markdown",
   "metadata": {
    "ExecuteTime": {
     "end_time": "2023-12-28T20:20:11.841042813Z",
     "start_time": "2023-12-28T20:20:11.834458206Z"
    },
    "collapsed": false
   },
   "source": [
    "Read all the column names in the clinical dataset, to find the columns that record information about age or gender.\n",
    "Reference prompt:"
   ]
  },
  {
   "cell_type": "code",
   "execution_count": null,
   "metadata": {
    "ExecuteTime": {
     "end_time": "2024-01-10T21:37:30.269854441Z",
     "start_time": "2024-01-10T21:37:30.184225525Z"
    },
    "collapsed": false
   },
   "outputs": [],
   "source": [
    "f'''\n",
    "Below is a list of column names from a biomedical dataset. Please examine it and identify the columns that are likely to contain information about patients' age. Additionally, please do the same for columns that may hold data on patients' gender. Please provide your answer by strictly following this format, without redundant words:\n",
    "candidate_age_cols = [col_name1, col_name2, ...]\n",
    "candidate_gender_cols = [col_name1, col_name2, ...]\n",
    "If no columns match a criterion, please provide an empty list.\n",
    "\n",
    "Column names:\n",
    "{clinical_data_cols}\n",
    "'''"
   ]
  },
  {
   "cell_type": "code",
   "execution_count": null,
   "metadata": {
    "ExecuteTime": {
     "end_time": "2024-01-10T21:37:30.270036796Z",
     "start_time": "2024-01-10T21:37:30.227180075Z"
    },
    "collapsed": false
   },
   "outputs": [],
   "source": [
    "candidate_age_cols = [ 'age_at_initial_pathologic_diagnosis',\n",
    "                      'days_to_birth', 'year_of_initial_pathologic_diagnosis']\n",
    "candidate_gender_cols = [ 'gender']"
   ]
  },
  {
   "cell_type": "markdown",
   "metadata": {
    "ExecuteTime": {
     "end_time": "2023-12-31T03:57:44.207565572Z",
     "start_time": "2023-12-31T03:57:44.202177544Z"
    },
    "collapsed": false
   },
   "source": [
    "Choose a single column from the candidate columns that record age and gender information respectively.\n",
    "If no column meets the requirement, keep 'age_col' or 'gender_col' to None"
   ]
  },
  {
   "cell_type": "code",
   "execution_count": null,
   "metadata": {},
   "outputs": [],
   "source": [
    "def preview_df(df, n=5):\n",
    "    return df.head(n).to_dict(orient='list')"
   ]
  },
  {
   "cell_type": "code",
   "execution_count": null,
   "metadata": {
    "ExecuteTime": {
     "end_time": "2024-01-10T21:37:30.270232386Z",
     "start_time": "2024-01-10T21:37:30.227282564Z"
    },
    "collapsed": false
   },
   "outputs": [],
   "source": [
    "preview_df(clinical_data[candidate_age_cols])"
   ]
  },
  {
   "cell_type": "code",
   "execution_count": null,
   "metadata": {
    "ExecuteTime": {
     "end_time": "2024-01-10T21:37:30.270339062Z",
     "start_time": "2024-01-10T21:37:30.227412883Z"
    },
    "collapsed": false
   },
   "outputs": [],
   "source": [
    "age_col = 'age_at_initial_pathologic_diagnosis'"
   ]
  },
  {
   "cell_type": "code",
   "execution_count": null,
   "metadata": {
    "ExecuteTime": {
     "end_time": "2024-01-10T21:37:30.270520195Z",
     "start_time": "2024-01-10T21:37:30.227467704Z"
    },
    "collapsed": false
   },
   "outputs": [],
   "source": [
    "preview_df(clinical_data[candidate_gender_cols])"
   ]
  },
  {
   "cell_type": "code",
   "execution_count": null,
   "metadata": {
    "ExecuteTime": {
     "end_time": "2024-01-10T21:37:30.270626721Z",
     "start_time": "2024-01-10T21:37:30.227530279Z"
    },
    "collapsed": false
   },
   "outputs": [],
   "source": [
    "gender_col = 'gender'"
   ]
  },
  {
   "cell_type": "code",
   "execution_count": null,
   "metadata": {},
   "outputs": [],
   "source": [
    "def xena_select_clinical_features(clinical_df, trait, age_col=None, gender_col=None):\n",
    "    feature_list = []\n",
    "    trait_data = clinical_df.index.to_series().apply(xena_convert_trait).rename(trait)\n",
    "    feature_list.append(trait_data)\n",
    "    if age_col:\n",
    "        age_data = clinical_df[age_col].apply(xena_convert_age).rename(\"Age\")\n",
    "        feature_list.append(age_data)\n",
    "    if gender_col:\n",
    "        gender_data = clinical_df[gender_col].apply(xena_convert_gender).rename(\"Gender\")\n",
    "        feature_list.append(gender_data)\n",
    "    selected_clinical_df = pd.concat(feature_list, axis=1)\n",
    "    return selected_clinical_df"
   ]
  },
  {
   "cell_type": "code",
   "execution_count": null,
   "metadata": {},
   "outputs": [],
   "source": [
    "def xena_convert_trait(row_index: str):\n",
    "    \"\"\"\n",
    "    Convert the trait information from Sample IDs to labels depending on the last two digits.\n",
    "    Tumor types range from 01 - 09, normal types from 10 - 19.\n",
    "    :param row_index: the index value of a row\n",
    "    :return: the converted value\n",
    "    \"\"\"\n",
    "    last_two_digits = int(row_index[-2:])\n",
    "\n",
    "    if 1 <= last_two_digits <= 9:\n",
    "        return 1\n",
    "    elif 10 <= last_two_digits <= 19:\n",
    "        return 0\n",
    "    else:\n",
    "        return -1"
   ]
  },
  {
   "cell_type": "code",
   "execution_count": null,
   "metadata": {},
   "outputs": [],
   "source": [
    "def xena_convert_age(cell: str):\n",
    "    \"\"\"Convert the cell content about age to a numerical value using regular expression\n",
    "    \"\"\"\n",
    "    match = re.search(r'\\d+', str(cell))\n",
    "    if match:\n",
    "        return int(match.group())\n",
    "    else:\n",
    "        return None"
   ]
  },
  {
   "cell_type": "code",
   "execution_count": null,
   "metadata": {},
   "outputs": [],
   "source": [
    "def xena_convert_gender(cell: str):\n",
    "    \"\"\"Convert the cell content about gender to a binary value\n",
    "    \"\"\"\n",
    "    if isinstance(cell, str):\n",
    "        cell = cell.lower()\n",
    "\n",
    "    if cell == \"female\":\n",
    "        return 0\n",
    "    elif cell == \"male\":\n",
    "        return 1\n",
    "    else:\n",
    "        return None"
   ]
  },
  {
   "cell_type": "code",
   "execution_count": null,
   "metadata": {
    "ExecuteTime": {
     "end_time": "2024-01-10T21:37:30.270719762Z",
     "start_time": "2024-01-10T21:37:30.227585330Z"
    },
    "collapsed": false
   },
   "outputs": [],
   "source": [
    "import re\n",
    "selected_clinical_data = xena_select_clinical_features(clinical_data, TRAIT, age_col=age_col, gender_col=gender_col)"
   ]
  },
  {
   "cell_type": "code",
   "execution_count": null,
   "metadata": {},
   "outputs": [],
   "source": [
    "def normalize_gene_symbols_in_index(gene_df):\n",
    "    \"\"\"Normalize the human gene symbols at the index of a dataframe, and replace the index with its normalized version.\n",
    "    Remove the rows where the index failed to be normalized.\"\"\"\n",
    "    normalized_gene_list = normalize_gene_symbols(gene_df.index.tolist())\n",
    "    assert len(normalized_gene_list) == len(gene_df.index)\n",
    "    gene_df.index = normalized_gene_list\n",
    "    gene_df = gene_df[gene_df.index.notnull()]\n",
    "    return gene_df"
   ]
  },
  {
   "cell_type": "code",
   "execution_count": null,
   "metadata": {},
   "outputs": [],
   "source": [
    "def normalize_gene_symbols(gene_symbols, batch_size=1000):\n",
    "    \"\"\"Normalize human gene symbols in batches using the 'mygenes' library\"\"\"\n",
    "    mg = mygene.MyGeneInfo()\n",
    "    normalized_genes = {}\n",
    "\n",
    "    # Process in batches\n",
    "    for i in range(0, len(gene_symbols), batch_size):\n",
    "        batch = gene_symbols[i:i + batch_size]\n",
    "        results = mg.querymany(batch, scopes='symbol', fields='symbol', species='human')\n",
    "\n",
    "        # Update the normalized_genes dictionary with results from this batch\n",
    "        for gene in results:\n",
    "            normalized_genes[gene['query']] = gene.get('symbol', None)\n",
    "\n",
    "    # Return the normalized symbols in the same order as the input\n",
    "    return [normalized_genes.get(symbol) for symbol in gene_symbols]\n"
   ]
  },
  {
   "cell_type": "code",
   "execution_count": null,
   "metadata": {
    "ExecuteTime": {
     "end_time": "2024-01-10T21:38:18.001977877Z",
     "start_time": "2024-01-10T21:37:30.227635342Z"
    },
    "collapsed": false
   },
   "outputs": [],
   "source": [
    "import mygene\n",
    "\n",
    "if NORMALIZE_GENE:\n",
    "    genetic_data = normalize_gene_symbols_in_index(genetic_data)"
   ]
  },
  {
   "cell_type": "code",
   "execution_count": null,
   "metadata": {
    "ExecuteTime": {
     "end_time": "2024-01-10T21:38:18.108889749Z",
     "start_time": "2024-01-10T21:38:18.021199718Z"
    },
    "collapsed": false
   },
   "outputs": [],
   "source": [
    "merged_data = selected_clinical_data.join(genetic_data.T).dropna()\n",
    "merged_data.head()"
   ]
  },
  {
   "cell_type": "code",
   "execution_count": null,
   "metadata": {},
   "outputs": [],
   "source": [
    "def judge_and_remove_biased_features(df, trait, trait_type):\n",
    "    assert trait_type in [\"binary\", \"continuous\"], f\"The trait must be either a binary or a continuous variable!\"\n",
    "    if trait_type == \"binary\":\n",
    "        trait_biased = judge_binary_variable_biased(df, trait)\n",
    "    else:\n",
    "        trait_biased = judge_continuous_variable_biased(df, trait)\n",
    "    if trait_biased:\n",
    "        print(f\"The distribution of the feature \\'{trait}\\' in this dataset is severely biased.\\n\")\n",
    "    else:\n",
    "        print(f\"The distribution of the feature \\'{trait}\\' in this dataset is fine.\\n\")\n",
    "    if \"Age\" in df.columns:\n",
    "        age_biased = judge_continuous_variable_biased(df, 'Age')\n",
    "        if age_biased:\n",
    "            print(f\"The distribution of the feature \\'Age\\' in this dataset is severely biased.\\n\")\n",
    "            df = df.drop(columns='Age')\n",
    "        else:\n",
    "            print(f\"The distribution of the feature \\'Age\\' in this dataset is fine.\\n\")\n",
    "    if \"Gender\" in df.columns:\n",
    "        gender_biased = judge_binary_variable_biased(df, 'Gender')\n",
    "        if gender_biased:\n",
    "            print(f\"The distribution of the feature \\'Gender\\' in this dataset is severely biased.\\n\")\n",
    "            df = df.drop(columns='Gender')\n",
    "        else:\n",
    "            print(f\"The distribution of the feature \\'Gender\\' in this dataset is fine.\\n\")\n",
    "\n",
    "    return trait_biased, df"
   ]
  },
  {
   "cell_type": "code",
   "execution_count": null,
   "metadata": {},
   "outputs": [],
   "source": [
    "def judge_binary_variable_biased(dataframe, col_name, min_proportion=0.1, min_num=5):\n",
    "    \"\"\"\n",
    "    Check if the distribution of a binary variable in the dataset is too biased to be usable for analysis\n",
    "    :param dataframe:\n",
    "    :param col_name:\n",
    "    :param min_proportion:\n",
    "    :param min_num:\n",
    "    :return:\n",
    "    \"\"\"\n",
    "    label_counter = dataframe[col_name].value_counts()\n",
    "    total_samples = len(dataframe)\n",
    "    rare_label_num = label_counter.min()\n",
    "    rare_label = label_counter.idxmin()\n",
    "    rare_label_proportion = rare_label_num / total_samples\n",
    "\n",
    "    print(\n",
    "        f\"For the feature \\'{col_name}\\', the least common label is '{rare_label}' with {rare_label_num} occurrences. This represents {rare_label_proportion:.2%} of the dataset.\")\n",
    "\n",
    "    biased = (len(label_counter) < 2) or ((rare_label_proportion < min_proportion) and (rare_label_num < min_num))\n",
    "    return bool(biased)\n"
   ]
  },
  {
   "cell_type": "code",
   "execution_count": null,
   "metadata": {},
   "outputs": [],
   "source": [
    "def judge_continuous_variable_biased(dataframe, col_name):\n",
    "    \"\"\"Check if the distribution of a continuous variable in the dataset is too biased to be usable for analysis.\n",
    "    As a starting point, we consider it biased if all values are the same. For the next step, maybe ask GPT to judge\n",
    "    based on quartile statistics combined with its common sense knowledge about this feature.\n",
    "    \"\"\"\n",
    "    quartiles = dataframe[col_name].quantile([0.25, 0.5, 0.75])\n",
    "    min_value = dataframe[col_name].min()\n",
    "    max_value = dataframe[col_name].max()\n",
    "\n",
    "    # Printing quartile information\n",
    "    print(f\"Quartiles for '{col_name}':\")\n",
    "    print(f\"  25%: {quartiles[0.25]}\")\n",
    "    print(f\"  50% (Median): {quartiles[0.5]}\")\n",
    "    print(f\"  75%: {quartiles[0.75]}\")\n",
    "    print(f\"Min: {min_value}\")\n",
    "    print(f\"Max: {max_value}\")\n",
    "\n",
    "    biased = min_value == max_value\n",
    "\n",
    "    return bool(biased)"
   ]
  },
  {
   "cell_type": "code",
   "execution_count": null,
   "metadata": {
    "ExecuteTime": {
     "end_time": "2024-01-10T21:38:18.112793384Z",
     "start_time": "2024-01-10T21:38:18.107415526Z"
    },
    "collapsed": false
   },
   "outputs": [],
   "source": [
    "print(f\"The merged dataset contains {len(merged_data)} samples.\")\n",
    "is_trait_biased, merge_data = judge_and_remove_biased_features(merged_data, TRAIT, trait_type=trait_type)\n",
    "is_trait_biased"
   ]
  },
  {
   "cell_type": "code",
   "execution_count": null,
   "metadata": {
    "ExecuteTime": {
     "end_time": "2024-01-10T21:38:31.377898533Z",
     "start_time": "2024-01-10T21:38:18.111417452Z"
    },
    "collapsed": false
   },
   "outputs": [],
   "source": [
    "merged_data.head()\n",
    "if not is_trait_biased:\n",
    "    merge_data.to_csv(os.path.join(OUTPUT_DIR, cohort + '.csv'), index=False)"
   ]
  },
  {
   "cell_type": "code",
   "execution_count": null,
   "metadata": {},
   "outputs": [],
   "source": [
    "from typing import Callable, Optional, List, Tuple, Union, Any"
   ]
  },
  {
   "cell_type": "code",
   "execution_count": null,
   "metadata": {},
   "outputs": [],
   "source": [
    "def save_cohort_info(cohort: str, info_path: str, is_available: bool, is_biased: Optional[bool] = None,\n",
    "                     df: Optional[pd.DataFrame] = None, note: str = '') -> None:\n",
    "    \"\"\"\n",
    "    Add or update information about the usability and quality of a dataset for statistical analysis.\n",
    "\n",
    "    Parameters:\n",
    "    cohort (str): A unique identifier for the dataset.\n",
    "    info_path (str): File path to the JSON file where records are stored.\n",
    "    is_available (bool): Indicates whether both the genetic data and trait data are available in the dataset, and can be\n",
    "     preprocessed into a dataframe.\n",
    "    is_biased (bool, optional): Indicates whether the dataset is too biased to be usable.\n",
    "        Required if `is_available` is True.\n",
    "    df (pandas.DataFrame, optional): The preprocessed dataset. Required if `is_available` is True.\n",
    "    note (str, optional): Additional notes about the dataset.\n",
    "\n",
    "    Returns:\n",
    "    None: The function does not return a value but updates or creates a record in the specified JSON file.\n",
    "    \"\"\"\n",
    "    if is_available:\n",
    "        assert (df is not None) and (is_biased is not None), \"'df' and 'is_biased' should be provided if this cohort \" \\\n",
    "                                                             \"is relevant.\"\n",
    "    is_usable = is_available and (not is_biased)\n",
    "    new_record = {\"is_usable\": is_usable,\n",
    "                  \"is_available\": is_available,\n",
    "                  \"is_biased\": is_biased if is_available else None,\n",
    "                  \"has_age\": \"Age\" in df.columns if is_available else None,\n",
    "                  \"has_gender\": \"Gender\" in df.columns if is_available else None,\n",
    "                  \"sample_size\": len(df) if is_available else None,\n",
    "                  \"note\": note}\n",
    "    \n",
    "    if not os.path.exists(info_path):\n",
    "        with open(info_path, 'w') as file:\n",
    "            json.dump({}, file)\n",
    "        print(f\"A new JSON file was created at: {info_path}\")\n",
    "\n",
    "    with open(info_path, \"r\") as file:\n",
    "        records = json.load(file)\n",
    "    records[cohort] = new_record\n",
    "\n",
    "    temp_path = info_path + \".tmp\"\n",
    "    try:\n",
    "        with open(temp_path, 'w') as file:\n",
    "            json.dump(records, file)\n",
    "        os.replace(temp_path, info_path)\n",
    "\n",
    "    except Exception as e:\n",
    "        print(f\"An error occurred: {e}\")\n",
    "        if os.path.exists(temp_path):\n",
    "            os.remove(temp_path)\n",
    "        raise"
   ]
  },
  {
   "cell_type": "code",
   "execution_count": null,
   "metadata": {
    "ExecuteTime": {
     "end_time": "2024-01-10T21:38:31.425336629Z",
     "start_time": "2024-01-10T21:38:31.419043732Z"
    },
    "collapsed": false
   },
   "outputs": [],
   "source": [
    "import json\n",
    "\n",
    "save_cohort_info(cohort, JSON_PATH, is_available, is_trait_biased, merged_data)"
   ]
  },
  {
   "cell_type": "markdown",
   "metadata": {
    "ExecuteTime": {
     "end_time": "2023-12-28T21:28:38.028916303Z",
     "start_time": "2023-12-28T21:28:38.016245426Z"
    },
    "collapsed": false
   },
   "source": [
    "## 2.2. The GEO dataset"
   ]
  },
  {
   "cell_type": "markdown",
   "metadata": {
    "ExecuteTime": {
     "end_time": "2023-12-31T03:25:23.253882615Z",
     "start_time": "2023-12-31T03:25:23.244062710Z"
    },
    "collapsed": false
   },
   "source": [
    "In GEO, there may be one or multiple cohorts for a trait. Each cohort is identified by an accession number. We iterate over all accession numbers in the corresponding subdirectory, preprocess the cohort data, and save them to csv files."
   ]
  },
  {
   "cell_type": "code",
   "execution_count": 3,
   "metadata": {
    "ExecuteTime": {
     "end_time": "2024-01-10T21:38:31.425592571Z",
     "start_time": "2024-01-10T21:38:31.419137625Z"
    },
    "collapsed": false
   },
   "outputs": [
    {
     "data": {
      "text/plain": [
       "['GSE181339', 'GSE218923']"
      ]
     },
     "execution_count": 3,
     "metadata": {},
     "output_type": "execute_result"
    }
   ],
   "source": [
    "dataset = 'GEO'\n",
    "trait_subdir = \"Cardiovascular-Disease\"\n",
    "\n",
    "trait_path = os.path.join(DATA_ROOT, dataset, trait_subdir)\n",
    "os.listdir(trait_path)"
   ]
  },
  {
   "cell_type": "markdown",
   "metadata": {
    "ExecuteTime": {
     "end_time": "2023-12-31T03:39:42.634870142Z",
     "start_time": "2023-12-31T03:39:42.534093295Z"
    },
    "collapsed": false
   },
   "source": [
    "Repeat the below steps for all the accession numbers"
   ]
  },
  {
   "cell_type": "code",
   "execution_count": 5,
   "metadata": {},
   "outputs": [],
   "source": [
    "def get_relevant_filepaths(cohort_dir):\n",
    "    \"\"\"Find the file paths of a SOFT file and a matrix file from the given data directory of a cohort.\n",
    "    If there are multiple SOFT files or matrix files, simply choose the first one. May be replaced by better\n",
    "    strategies later.\n",
    "    \"\"\"\n",
    "    files = os.listdir(cohort_dir)\n",
    "    soft_files = [f for f in files if 'soft' in f.lower()]\n",
    "    matrix_files = [f for f in files if 'matrix' in f.lower()]\n",
    "    assert len(soft_files) > 0 and len(matrix_files) > 0\n",
    "    soft_file_path = os.path.join(cohort_dir, soft_files[0])\n",
    "    matrix_file_path = os.path.join(cohort_dir, matrix_files[0])\n",
    "\n",
    "    return soft_file_path, matrix_file_path"
   ]
  },
  {
   "cell_type": "code",
   "execution_count": 9,
   "metadata": {
    "ExecuteTime": {
     "end_time": "2024-01-10T21:39:02.935079426Z",
     "start_time": "2024-01-10T21:39:02.923698385Z"
    },
    "collapsed": false
   },
   "outputs": [
    {
     "name": "stdout",
     "output_type": "stream",
     "text": [
      "!Series_title\t\"Study of the usefulness of human peripheral blood mononuclear cells for the analysis of metabolic recovery after weight loss (METAHEALTH-TEST)\"\n",
      "!Series_summary\t\"The aim of this study is to design and validate a test, METAHEALTH-TEST, based on gene expression analysis in blood cells, to quickly and easily analyse metabolic health. This test will be used to analyse metabolic improvement in overweight/obese individuals and in metabolically obese normal-weight (MONW) individuals after undergoing a weight loss intervention and/or an intervention for improvement in eating habits and lifestyle. Obesity and its medical complications are a serious health problem today. Using peripheral blood mononuclear cells (PBMC) as an easily obtainable source of transcriptomic biomarkers would allow to deepen into the knowledge of adaptations in response to increased adiposity that occur in internal homeostatic tissues, without the need of using invasive biopsies. Moreover, if PBMC were able to reflect lipid metabolism gene expression pattern recovery as a result of weight loss, it would provide valuable information to know the efficacy of therapies aimed at weight loss and, in any case, it would allow to personalize them according to the evolution of obese patients until the desired metabolic recovery is achieved.\"\n",
      "!Series_overall_design\t\"Apparently healthy subjects aged 18 to 45 years old, including men and women were recruited and classified into two groups depending on their body mass index (BMI). Normal-weight (NW) group (BMI <25 kg/m2) was composed of 20 subjects and overweight-obese (OW-OB) group (BMI ≥25 kg/m2) of 27 subjects. The inclusion criteria were: subjects with no chronic disease who did not take regular medication or drugs. To avoid potential bias, both groups include approx. 50% men/women and there was no difference in their average age. We recruited 6 additional NW individuals presenting 1 metabolic alteration related to MetS (high plasma total or LDL-cholesterol, plasma triglycerides, or plasma C-reactive protein (CRP) concentrations, or hypertension). They were classified as  metabolically obese normal-weight (MONW) individuals. Subjects from the OW-OB group followed a 6-month weight loss program which included a low-calorie food plan (30% reduction in the individual energy requirements) with dietary sessions and exercise counselling. Dietary sessions were offered by a nutritionist every fifteen days who provided face-to-face counselling that was individually adjusted to each subject with the aim of reducing 5% to 10% of initial body weight. Neither dietary supplements nor vitamins were provided and all participants consumed self-selected foods. 20 out of the 27 OW-OB subjects who started the study completed the 6-month weight loss program. All the volunteers underwent what we called the fasting test which consisted of collecting blood samples after 4 and after 6 hours after having had a standard breakfast. The blood extractions were performed by skilled health personnel; once in the NW and MONW groups,and three times (at the baseline point, and after 3 and 6 months of nutritional intervention) in the OW-OB group. Blood was collected using Vacutainer® EDTA tubes. After blood collection, the samples were processed immediately to obtain the PBMC fraction. PBMC were isolated using Ficoll-Paque Plus density gradient media. Total RNA from PBMC samples was extracted using Tripure Reagent and then purified with E.Z.N.A. Total RNA Kit I and precipitated with isopropanol. Isolated RNA was quantified using a NanoDrop ND 1000 spectrophotometer. Its integrity was confirmed using agarose gel electrophoresis and the RIN tool using the Agilent 2100 Bioanalyzer System. For the microarray experiment the following samples were selected: 12 paired samples from the NW group after both 4h and 6h of fasting, 12 paired samples from the OW-OB group after both 4h and 6h of fasting, 12 paired samples from the OW-OB group after the 6-month weight loss programm after both 4h and 6h of fasting, and 6 samples from the MONW group after 6h of fasting at the beginning of the study. For final data analysis, 2 duplicate RNA samples were taken along and confirmed for reproducibility but excluded for overall analyses thereafter: US22502548_257236338304_S01_GE2_1200_Dec17_2_2.txt and US22502548_257236338312_S01_GE2_1200_Dec17_1_2.txt.\"\n"
     ]
    },
    {
     "data": {
      "text/html": [
       "<div>\n",
       "<style scoped>\n",
       "    .dataframe tbody tr th:only-of-type {\n",
       "        vertical-align: middle;\n",
       "    }\n",
       "\n",
       "    .dataframe tbody tr th {\n",
       "        vertical-align: top;\n",
       "    }\n",
       "\n",
       "    .dataframe thead th {\n",
       "        text-align: right;\n",
       "    }\n",
       "</style>\n",
       "<table border=\"1\" class=\"dataframe\">\n",
       "  <thead>\n",
       "    <tr style=\"text-align: right;\">\n",
       "      <th></th>\n",
       "      <th>!Sample_geo_accession</th>\n",
       "      <th>GSM5494930</th>\n",
       "      <th>GSM5494931</th>\n",
       "      <th>GSM5494932</th>\n",
       "      <th>GSM5494933</th>\n",
       "      <th>GSM5494934</th>\n",
       "      <th>GSM5494935</th>\n",
       "      <th>GSM5494936</th>\n",
       "      <th>GSM5494937</th>\n",
       "      <th>GSM5494938</th>\n",
       "      <th>...</th>\n",
       "      <th>GSM5494998</th>\n",
       "      <th>GSM5494999</th>\n",
       "      <th>GSM5495000</th>\n",
       "      <th>GSM5495001</th>\n",
       "      <th>GSM5495002</th>\n",
       "      <th>GSM5495003</th>\n",
       "      <th>GSM5495004</th>\n",
       "      <th>GSM5495005</th>\n",
       "      <th>GSM5495006</th>\n",
       "      <th>GSM5495007</th>\n",
       "    </tr>\n",
       "  </thead>\n",
       "  <tbody>\n",
       "    <tr>\n",
       "      <th>0</th>\n",
       "      <td>!Sample_characteristics_ch1</td>\n",
       "      <td>gender: Man</td>\n",
       "      <td>gender: Man</td>\n",
       "      <td>gender: Woman</td>\n",
       "      <td>gender: Woman</td>\n",
       "      <td>gender: Woman</td>\n",
       "      <td>gender: Man</td>\n",
       "      <td>gender: Woman</td>\n",
       "      <td>gender: Woman</td>\n",
       "      <td>gender: Woman</td>\n",
       "      <td>...</td>\n",
       "      <td>gender: Woman</td>\n",
       "      <td>gender: Woman</td>\n",
       "      <td>gender: Man</td>\n",
       "      <td>gender: Man</td>\n",
       "      <td>gender: Man</td>\n",
       "      <td>gender: Man</td>\n",
       "      <td>gender: Man</td>\n",
       "      <td>gender: Woman</td>\n",
       "      <td>gender: Man</td>\n",
       "      <td>gender: Man</td>\n",
       "    </tr>\n",
       "    <tr>\n",
       "      <th>1</th>\n",
       "      <td>!Sample_characteristics_ch1</td>\n",
       "      <td>group: NW</td>\n",
       "      <td>group: OW/OB</td>\n",
       "      <td>group: MONW</td>\n",
       "      <td>group: OW/OB</td>\n",
       "      <td>group: NW</td>\n",
       "      <td>group: OW/OB</td>\n",
       "      <td>group: OW/OB</td>\n",
       "      <td>group: OW/OB</td>\n",
       "      <td>group: NW</td>\n",
       "      <td>...</td>\n",
       "      <td>group: OW/OB</td>\n",
       "      <td>group: OW/OB</td>\n",
       "      <td>group: OW/OB</td>\n",
       "      <td>group: NW</td>\n",
       "      <td>group: OW/OB</td>\n",
       "      <td>group: NW</td>\n",
       "      <td>group: OW/OB</td>\n",
       "      <td>group: OW/OB</td>\n",
       "      <td>group: OW/OB</td>\n",
       "      <td>group: NW</td>\n",
       "    </tr>\n",
       "    <tr>\n",
       "      <th>2</th>\n",
       "      <td>!Sample_characteristics_ch1</td>\n",
       "      <td>age: 21</td>\n",
       "      <td>age: 23</td>\n",
       "      <td>age: 10</td>\n",
       "      <td>age: 17</td>\n",
       "      <td>age: 11</td>\n",
       "      <td>age: 1</td>\n",
       "      <td>age: 18</td>\n",
       "      <td>age: 10</td>\n",
       "      <td>age: 12</td>\n",
       "      <td>...</td>\n",
       "      <td>age: 2</td>\n",
       "      <td>age: 2</td>\n",
       "      <td>age: 30</td>\n",
       "      <td>age: 17</td>\n",
       "      <td>age: 30</td>\n",
       "      <td>age: 19</td>\n",
       "      <td>age: 30</td>\n",
       "      <td>age: 2</td>\n",
       "      <td>age: 4</td>\n",
       "      <td>age: 19</td>\n",
       "    </tr>\n",
       "    <tr>\n",
       "      <th>3</th>\n",
       "      <td>!Sample_characteristics_ch1</td>\n",
       "      <td>fasting time: 6hr</td>\n",
       "      <td>fasting time: 4hr</td>\n",
       "      <td>fasting time: 6hr</td>\n",
       "      <td>fasting time: 4hr</td>\n",
       "      <td>fasting time: 4hr</td>\n",
       "      <td>fasting time: 6hr</td>\n",
       "      <td>fasting time: 4hr</td>\n",
       "      <td>fasting time: 6hr</td>\n",
       "      <td>fasting time: 4hr</td>\n",
       "      <td>...</td>\n",
       "      <td>fasting time: 6hr</td>\n",
       "      <td>fasting time: 4hr</td>\n",
       "      <td>fasting time: 4hr</td>\n",
       "      <td>fasting time: 6hr</td>\n",
       "      <td>fasting time: 6hr</td>\n",
       "      <td>fasting time: 4hr</td>\n",
       "      <td>fasting time: 4hr</td>\n",
       "      <td>fasting time: 6hr</td>\n",
       "      <td>fasting time: 4hr</td>\n",
       "      <td>fasting time: 6hr</td>\n",
       "    </tr>\n",
       "    <tr>\n",
       "      <th>4</th>\n",
       "      <td>!Sample_characteristics_ch1</td>\n",
       "      <td>timepoint: 0months</td>\n",
       "      <td>timepoint: 6months</td>\n",
       "      <td>timepoint: 0months</td>\n",
       "      <td>timepoint: 0months</td>\n",
       "      <td>timepoint: 0months</td>\n",
       "      <td>timepoint: 6months</td>\n",
       "      <td>timepoint: 6months</td>\n",
       "      <td>timepoint: 0months</td>\n",
       "      <td>timepoint: 0months</td>\n",
       "      <td>...</td>\n",
       "      <td>timepoint: 6months</td>\n",
       "      <td>timepoint: 0months</td>\n",
       "      <td>timepoint: 0months</td>\n",
       "      <td>timepoint: 0months</td>\n",
       "      <td>timepoint: 6months</td>\n",
       "      <td>timepoint: 0months</td>\n",
       "      <td>timepoint: 6months</td>\n",
       "      <td>timepoint: 0months</td>\n",
       "      <td>timepoint: 0months</td>\n",
       "      <td>timepoint: 0months</td>\n",
       "    </tr>\n",
       "  </tbody>\n",
       "</table>\n",
       "<p>5 rows × 79 columns</p>\n",
       "</div>"
      ],
      "text/plain": [
       "         !Sample_geo_accession          GSM5494930          GSM5494931  \\\n",
       "0  !Sample_characteristics_ch1         gender: Man         gender: Man   \n",
       "1  !Sample_characteristics_ch1           group: NW        group: OW/OB   \n",
       "2  !Sample_characteristics_ch1             age: 21             age: 23   \n",
       "3  !Sample_characteristics_ch1   fasting time: 6hr   fasting time: 4hr   \n",
       "4  !Sample_characteristics_ch1  timepoint: 0months  timepoint: 6months   \n",
       "\n",
       "           GSM5494932          GSM5494933          GSM5494934  \\\n",
       "0       gender: Woman       gender: Woman       gender: Woman   \n",
       "1         group: MONW        group: OW/OB           group: NW   \n",
       "2             age: 10             age: 17             age: 11   \n",
       "3   fasting time: 6hr   fasting time: 4hr   fasting time: 4hr   \n",
       "4  timepoint: 0months  timepoint: 0months  timepoint: 0months   \n",
       "\n",
       "           GSM5494935          GSM5494936          GSM5494937  \\\n",
       "0         gender: Man       gender: Woman       gender: Woman   \n",
       "1        group: OW/OB        group: OW/OB        group: OW/OB   \n",
       "2              age: 1             age: 18             age: 10   \n",
       "3   fasting time: 6hr   fasting time: 4hr   fasting time: 6hr   \n",
       "4  timepoint: 6months  timepoint: 6months  timepoint: 0months   \n",
       "\n",
       "           GSM5494938  ...          GSM5494998          GSM5494999  \\\n",
       "0       gender: Woman  ...       gender: Woman       gender: Woman   \n",
       "1           group: NW  ...        group: OW/OB        group: OW/OB   \n",
       "2             age: 12  ...              age: 2              age: 2   \n",
       "3   fasting time: 4hr  ...   fasting time: 6hr   fasting time: 4hr   \n",
       "4  timepoint: 0months  ...  timepoint: 6months  timepoint: 0months   \n",
       "\n",
       "           GSM5495000          GSM5495001          GSM5495002  \\\n",
       "0         gender: Man         gender: Man         gender: Man   \n",
       "1        group: OW/OB           group: NW        group: OW/OB   \n",
       "2             age: 30             age: 17             age: 30   \n",
       "3   fasting time: 4hr   fasting time: 6hr   fasting time: 6hr   \n",
       "4  timepoint: 0months  timepoint: 0months  timepoint: 6months   \n",
       "\n",
       "           GSM5495003          GSM5495004          GSM5495005  \\\n",
       "0         gender: Man         gender: Man       gender: Woman   \n",
       "1           group: NW        group: OW/OB        group: OW/OB   \n",
       "2             age: 19             age: 30              age: 2   \n",
       "3   fasting time: 4hr   fasting time: 4hr   fasting time: 6hr   \n",
       "4  timepoint: 0months  timepoint: 6months  timepoint: 0months   \n",
       "\n",
       "           GSM5495006          GSM5495007  \n",
       "0         gender: Man         gender: Man  \n",
       "1        group: OW/OB           group: NW  \n",
       "2              age: 4             age: 19  \n",
       "3   fasting time: 4hr   fasting time: 6hr  \n",
       "4  timepoint: 0months  timepoint: 0months  \n",
       "\n",
       "[5 rows x 79 columns]"
      ]
     },
     "execution_count": 9,
     "metadata": {},
     "output_type": "execute_result"
    }
   ],
   "source": [
    "# Stopped: No trait\n",
    "cohort = accession_num = \"GSE181339\"\n",
    "cohort_dir = os.path.join(trait_path, accession_num)\n",
    "soft_file, matrix_file = get_relevant_filepaths(cohort_dir)\n",
    "soft_file, matrix_file\n",
    "\n",
    "from utils import *\n",
    "import io\n",
    "background_prefixes = ['!Series_title', '!Series_summary', '!Series_overall_design']\n",
    "clinical_prefixes = ['!Sample_geo_accession', '!Sample_characteristics_ch1']\n",
    "\n",
    "background_info, clinical_data = get_background_and_clinical_data(matrix_file, background_prefixes, clinical_prefixes)\n",
    "print(background_info)\n",
    "\n",
    "clinical_data"
   ]
  },
  {
   "cell_type": "markdown",
   "metadata": {},
   "source": [
    "\n",
    "\n",
    "\n"
   ]
  },
  {
   "cell_type": "code",
   "execution_count": 10,
   "metadata": {},
   "outputs": [
    {
     "name": "stdout",
     "output_type": "stream",
     "text": [
      "!Series_title\t\"Keloid fibroproliferative properties are dependent on stem cells modified by the HEDGEHOG-GLI1 pathway\"\n",
      "!Series_summary\t\"This SuperSeries is composed of the SubSeries listed below.\"\n",
      "!Series_overall_design\t\"Refer to individual Series\"\n"
     ]
    },
    {
     "data": {
      "text/html": [
       "<div>\n",
       "<style scoped>\n",
       "    .dataframe tbody tr th:only-of-type {\n",
       "        vertical-align: middle;\n",
       "    }\n",
       "\n",
       "    .dataframe tbody tr th {\n",
       "        vertical-align: top;\n",
       "    }\n",
       "\n",
       "    .dataframe thead th {\n",
       "        text-align: right;\n",
       "    }\n",
       "</style>\n",
       "<table border=\"1\" class=\"dataframe\">\n",
       "  <thead>\n",
       "    <tr style=\"text-align: right;\">\n",
       "      <th></th>\n",
       "      <th>!Sample_geo_accession</th>\n",
       "      <th>GSM6758314</th>\n",
       "      <th>GSM6758315</th>\n",
       "      <th>GSM6758316</th>\n",
       "      <th>GSM6758317</th>\n",
       "      <th>GSM6758318</th>\n",
       "      <th>GSM6758319</th>\n",
       "      <th>GSM6760120</th>\n",
       "      <th>GSM6760121</th>\n",
       "      <th>GSM6760122</th>\n",
       "      <th>...</th>\n",
       "      <th>GSM6760134</th>\n",
       "      <th>GSM6760135</th>\n",
       "      <th>GSM6760136</th>\n",
       "      <th>GSM6760137</th>\n",
       "      <th>GSM6760138</th>\n",
       "      <th>GSM6760139</th>\n",
       "      <th>GSM6760140</th>\n",
       "      <th>GSM6760141</th>\n",
       "      <th>GSM6760142</th>\n",
       "      <th>GSM6760143</th>\n",
       "    </tr>\n",
       "  </thead>\n",
       "  <tbody>\n",
       "    <tr>\n",
       "      <th>0</th>\n",
       "      <td>!Sample_characteristics_ch1</td>\n",
       "      <td>treatment of kmf-transplanted mice: Vehicle</td>\n",
       "      <td>treatment of kmf-transplanted mice: Vismodegib</td>\n",
       "      <td>treatment of kmf-transplanted mice: Vehicle</td>\n",
       "      <td>treatment of kmf-transplanted mice: Vismodegib</td>\n",
       "      <td>treatment of kmf-transplanted mice: Vehicle</td>\n",
       "      <td>treatment of kmf-transplanted mice: Vismodegib</td>\n",
       "      <td>cell type: normal dermal stem cells</td>\n",
       "      <td>cell type: normal fibroblasts</td>\n",
       "      <td>cell type: normal dermal stem cells</td>\n",
       "      <td>...</td>\n",
       "      <td>cell type: keloid center stem cells</td>\n",
       "      <td>cell type: keloid normal fibroblasts</td>\n",
       "      <td>cell type: keloid margin fibroblasts</td>\n",
       "      <td>cell type: keloid center fibroblasts</td>\n",
       "      <td>cell type: keloid normal stem cells</td>\n",
       "      <td>cell type: keloid margin stem cells</td>\n",
       "      <td>cell type: keloid center stem cells</td>\n",
       "      <td>cell type: keloid normal fibroblasts</td>\n",
       "      <td>cell type: keloid margin fibroblasts</td>\n",
       "      <td>cell type: keloid center fibroblasts</td>\n",
       "    </tr>\n",
       "    <tr>\n",
       "      <th>1</th>\n",
       "      <td>!Sample_characteristics_ch1</td>\n",
       "      <td>cell type: Transplant-derived cells</td>\n",
       "      <td>cell type: Transplant-derived cells</td>\n",
       "      <td>cell type: Transplant-derived cells</td>\n",
       "      <td>cell type: Transplant-derived cells</td>\n",
       "      <td>cell type: Transplant-derived cells</td>\n",
       "      <td>cell type: Transplant-derived cells</td>\n",
       "      <td>NaN</td>\n",
       "      <td>NaN</td>\n",
       "      <td>NaN</td>\n",
       "      <td>...</td>\n",
       "      <td>NaN</td>\n",
       "      <td>NaN</td>\n",
       "      <td>NaN</td>\n",
       "      <td>NaN</td>\n",
       "      <td>NaN</td>\n",
       "      <td>NaN</td>\n",
       "      <td>NaN</td>\n",
       "      <td>NaN</td>\n",
       "      <td>NaN</td>\n",
       "      <td>NaN</td>\n",
       "    </tr>\n",
       "  </tbody>\n",
       "</table>\n",
       "<p>2 rows × 31 columns</p>\n",
       "</div>"
      ],
      "text/plain": [
       "         !Sample_geo_accession                                   GSM6758314  \\\n",
       "0  !Sample_characteristics_ch1  treatment of kmf-transplanted mice: Vehicle   \n",
       "1  !Sample_characteristics_ch1          cell type: Transplant-derived cells   \n",
       "\n",
       "                                       GSM6758315  \\\n",
       "0  treatment of kmf-transplanted mice: Vismodegib   \n",
       "1             cell type: Transplant-derived cells   \n",
       "\n",
       "                                    GSM6758316  \\\n",
       "0  treatment of kmf-transplanted mice: Vehicle   \n",
       "1          cell type: Transplant-derived cells   \n",
       "\n",
       "                                       GSM6758317  \\\n",
       "0  treatment of kmf-transplanted mice: Vismodegib   \n",
       "1             cell type: Transplant-derived cells   \n",
       "\n",
       "                                    GSM6758318  \\\n",
       "0  treatment of kmf-transplanted mice: Vehicle   \n",
       "1          cell type: Transplant-derived cells   \n",
       "\n",
       "                                       GSM6758319  \\\n",
       "0  treatment of kmf-transplanted mice: Vismodegib   \n",
       "1             cell type: Transplant-derived cells   \n",
       "\n",
       "                            GSM6760120                     GSM6760121  \\\n",
       "0  cell type: normal dermal stem cells  cell type: normal fibroblasts   \n",
       "1                                  NaN                            NaN   \n",
       "\n",
       "                            GSM6760122  ...  \\\n",
       "0  cell type: normal dermal stem cells  ...   \n",
       "1                                  NaN  ...   \n",
       "\n",
       "                            GSM6760134                            GSM6760135  \\\n",
       "0  cell type: keloid center stem cells  cell type: keloid normal fibroblasts   \n",
       "1                                  NaN                                   NaN   \n",
       "\n",
       "                             GSM6760136                            GSM6760137  \\\n",
       "0  cell type: keloid margin fibroblasts  cell type: keloid center fibroblasts   \n",
       "1                                   NaN                                   NaN   \n",
       "\n",
       "                            GSM6760138                           GSM6760139  \\\n",
       "0  cell type: keloid normal stem cells  cell type: keloid margin stem cells   \n",
       "1                                  NaN                                  NaN   \n",
       "\n",
       "                            GSM6760140                            GSM6760141  \\\n",
       "0  cell type: keloid center stem cells  cell type: keloid normal fibroblasts   \n",
       "1                                  NaN                                   NaN   \n",
       "\n",
       "                             GSM6760142                            GSM6760143  \n",
       "0  cell type: keloid margin fibroblasts  cell type: keloid center fibroblasts  \n",
       "1                                   NaN                                   NaN  \n",
       "\n",
       "[2 rows x 31 columns]"
      ]
     },
     "execution_count": 10,
     "metadata": {},
     "output_type": "execute_result"
    }
   ],
   "source": [
    "# Stopped: No trait convert\n",
    "cohort = accession_num = \"GSE218923\"\n",
    "cohort_dir = os.path.join(trait_path, accession_num)\n",
    "soft_file, matrix_file = get_relevant_filepaths(cohort_dir)\n",
    "soft_file, matrix_file\n",
    "\n",
    "from utils import *\n",
    "import io\n",
    "background_prefixes = ['!Series_title', '!Series_summary', '!Series_overall_design']\n",
    "clinical_prefixes = ['!Sample_geo_accession', '!Sample_characteristics_ch1']\n",
    "\n",
    "background_info, clinical_data = get_background_and_clinical_data(matrix_file, background_prefixes, clinical_prefixes)\n",
    "print(background_info)\n",
    "\n",
    "clinical_data"
   ]
  },
  {
   "cell_type": "code",
   "execution_count": 12,
   "metadata": {},
   "outputs": [
    {
     "data": {
      "text/plain": [
       "array(['!Sample_characteristics_ch1',\n",
       "       'treatment of kmf-transplanted mice: Vehicle',\n",
       "       'treatment of kmf-transplanted mice: Vismodegib',\n",
       "       'cell type: normal dermal stem cells',\n",
       "       'cell type: normal fibroblasts',\n",
       "       'cell type: normal scar dermal stem cells',\n",
       "       'cell type: normal scar fibroblasts',\n",
       "       'cell type: keloid normal stem cells',\n",
       "       'cell type: keloid margin stem cells',\n",
       "       'cell type: keloid center stem cells',\n",
       "       'cell type: keloid normal fibroblasts',\n",
       "       'cell type: keloid margin fibroblasts',\n",
       "       'cell type: keloid center fibroblasts'], dtype=object)"
      ]
     },
     "execution_count": 12,
     "metadata": {},
     "output_type": "execute_result"
    }
   ],
   "source": [
    "tumor_stage_row = clinical_data.iloc[0]\n",
    "tumor_stage_row.unique()"
   ]
  },
  {
   "cell_type": "markdown",
   "metadata": {
    "collapsed": false
   },
   "source": [
    "### Initial filtering and clinical data preprocessing"
   ]
  },
  {
   "cell_type": "code",
   "execution_count": 7,
   "metadata": {},
   "outputs": [],
   "source": [
    "import gzip"
   ]
  },
  {
   "cell_type": "code",
   "execution_count": 8,
   "metadata": {},
   "outputs": [],
   "source": [
    "def line_generator(source, source_type):\n",
    "    \"\"\"Generator that yields lines from a file or a string.\n",
    "\n",
    "    Parameters:\n",
    "    - source: File path or string content.\n",
    "    - source_type: 'file' or 'string'.\n",
    "    \"\"\"\n",
    "    if source_type == 'file':\n",
    "        with gzip.open(source, 'rt') as f:\n",
    "            for line in f:\n",
    "                yield line.strip()\n",
    "    elif source_type == 'string':\n",
    "        for line in source.split('\\n'):\n",
    "            yield line.strip()\n",
    "    else:\n",
    "        raise ValueError(\"source_type must be 'file' or 'string'\")"
   ]
  },
  {
   "cell_type": "code",
   "execution_count": 9,
   "metadata": {},
   "outputs": [],
   "source": [
    "from typing import Callable, Optional, List, Tuple, Union, Any\n",
    "import pandas as pd"
   ]
  },
  {
   "cell_type": "code",
   "execution_count": 10,
   "metadata": {},
   "outputs": [],
   "source": [
    "def filter_content_by_prefix(\n",
    "    source: str,\n",
    "    prefixes_a: List[str],\n",
    "    prefixes_b: Optional[List[str]] = None,\n",
    "    unselect: bool = False,\n",
    "    source_type: str = 'file',\n",
    "    return_df_a: bool = True,\n",
    "    return_df_b: bool = True\n",
    ") -> Tuple[Union[str, pd.DataFrame], Optional[Union[str, pd.DataFrame]]]:\n",
    "    \"\"\"\n",
    "    Filters rows from a file or a list of strings based on specified prefixes.\n",
    "\n",
    "    Parameters:\n",
    "    - source (str): File path or string content to filter.\n",
    "    - prefixes_a (List[str]): Primary list of prefixes to filter by.\n",
    "    - prefixes_b (Optional[List[str]]): Optional secondary list of prefixes to filter by.\n",
    "    - unselect (bool): If True, selects rows that do not start with the specified prefixes.\n",
    "    - source_type (str): 'file' if source is a file path, 'string' if source is a string of text.\n",
    "    - return_df_a (bool): If True, returns filtered content for prefixes_a as a pandas DataFrame.\n",
    "    - return_df_b (bool): If True, and if prefixes_b is provided, returns filtered content for prefixes_b as a pandas DataFrame.\n",
    "\n",
    "    Returns:\n",
    "    - Tuple: A tuple where the first element is the filtered content for prefixes_a, and the second element is the filtered content for prefixes_b.\n",
    "    \"\"\"\n",
    "    filtered_lines_a = []\n",
    "    filtered_lines_b = []\n",
    "    prefix_set_a = set(prefixes_a)\n",
    "    if prefixes_b is not None:\n",
    "        prefix_set_b = set(prefixes_b)\n",
    "\n",
    "    # Use generator to get lines\n",
    "    for line in line_generator(source, source_type):\n",
    "        matched_a = any(line.startswith(prefix) for prefix in prefix_set_a)\n",
    "        if matched_a != unselect:\n",
    "            filtered_lines_a.append(line)\n",
    "        if prefixes_b is not None:\n",
    "            matched_b = any(line.startswith(prefix) for prefix in prefix_set_b)\n",
    "            if matched_b != unselect:\n",
    "                filtered_lines_b.append(line)\n",
    "\n",
    "    filtered_content_a = '\\n'.join(filtered_lines_a)\n",
    "    if return_df_a:\n",
    "        filtered_content_a = pd.read_csv(io.StringIO(filtered_content_a), delimiter='\\t', low_memory=False, on_bad_lines='skip')\n",
    "    filtered_content_b = None\n",
    "    if filtered_lines_b:\n",
    "        filtered_content_b = '\\n'.join(filtered_lines_b)\n",
    "        if return_df_b:\n",
    "            filtered_content_b = pd.read_csv(io.StringIO(filtered_content_b), delimiter='\\t', low_memory=False, on_bad_lines='skip')\n",
    "\n",
    "    return filtered_content_a, filtered_content_b\n",
    "\n"
   ]
  },
  {
   "cell_type": "code",
   "execution_count": 11,
   "metadata": {},
   "outputs": [],
   "source": [
    "def get_background_and_clinical_data(file_path,\n",
    "                                     prefixes_a=['!Series_title', '!Series_summary', '!Series_overall_design'],\n",
    "                                     prefixes_b=['!Sample_geo_accession', '!Sample_characteristics_ch1']):\n",
    "    \"\"\"Extract from a matrix file the background information about the dataset, and sample characteristics data\"\"\"\n",
    "    background_info, clinical_data = filter_content_by_prefix(file_path, prefixes_a, prefixes_b, unselect=False,\n",
    "                                                              source_type='file',\n",
    "                                                              return_df_a=False, return_df_b=True)\n",
    "    return background_info, clinical_data"
   ]
  },
  {
   "cell_type": "code",
   "execution_count": 12,
   "metadata": {
    "ExecuteTime": {
     "end_time": "2024-01-10T21:39:03.718770427Z",
     "start_time": "2024-01-10T21:39:03.677006442Z"
    },
    "collapsed": false
   },
   "outputs": [
    {
     "name": "stdout",
     "output_type": "stream",
     "text": [
      "!Series_title\t\"Keloid fibroproliferative properties are dependent on stem cells modified by the HEDGEHOG-GLI1 pathway\"\n",
      "!Series_summary\t\"This SuperSeries is composed of the SubSeries listed below.\"\n",
      "!Series_overall_design\t\"Refer to individual Series\"\n"
     ]
    }
   ],
   "source": [
    "import io\n",
    "background_prefixes = ['!Series_title', '!Series_summary', '!Series_overall_design']\n",
    "clinical_prefixes = ['!Sample_geo_accession', '!Sample_characteristics_ch1']\n",
    "\n",
    "background_info, clinical_data = get_background_and_clinical_data(matrix_file, background_prefixes, clinical_prefixes)\n",
    "print(background_info)"
   ]
  },
  {
   "cell_type": "code",
   "execution_count": 13,
   "metadata": {
    "ExecuteTime": {
     "end_time": "2024-01-10T21:39:04.022548957Z",
     "start_time": "2024-01-10T21:39:04.008519515Z"
    },
    "collapsed": false
   },
   "outputs": [
    {
     "data": {
      "text/html": [
       "<div>\n",
       "<style scoped>\n",
       "    .dataframe tbody tr th:only-of-type {\n",
       "        vertical-align: middle;\n",
       "    }\n",
       "\n",
       "    .dataframe tbody tr th {\n",
       "        vertical-align: top;\n",
       "    }\n",
       "\n",
       "    .dataframe thead th {\n",
       "        text-align: right;\n",
       "    }\n",
       "</style>\n",
       "<table border=\"1\" class=\"dataframe\">\n",
       "  <thead>\n",
       "    <tr style=\"text-align: right;\">\n",
       "      <th></th>\n",
       "      <th>!Sample_geo_accession</th>\n",
       "      <th>GSM6758314</th>\n",
       "      <th>GSM6758315</th>\n",
       "      <th>GSM6758316</th>\n",
       "      <th>GSM6758317</th>\n",
       "      <th>GSM6758318</th>\n",
       "      <th>GSM6758319</th>\n",
       "      <th>GSM6760120</th>\n",
       "      <th>GSM6760121</th>\n",
       "      <th>GSM6760122</th>\n",
       "      <th>...</th>\n",
       "      <th>GSM6760134</th>\n",
       "      <th>GSM6760135</th>\n",
       "      <th>GSM6760136</th>\n",
       "      <th>GSM6760137</th>\n",
       "      <th>GSM6760138</th>\n",
       "      <th>GSM6760139</th>\n",
       "      <th>GSM6760140</th>\n",
       "      <th>GSM6760141</th>\n",
       "      <th>GSM6760142</th>\n",
       "      <th>GSM6760143</th>\n",
       "    </tr>\n",
       "  </thead>\n",
       "  <tbody>\n",
       "    <tr>\n",
       "      <th>0</th>\n",
       "      <td>!Sample_characteristics_ch1</td>\n",
       "      <td>treatment of kmf-transplanted mice: Vehicle</td>\n",
       "      <td>treatment of kmf-transplanted mice: Vismodegib</td>\n",
       "      <td>treatment of kmf-transplanted mice: Vehicle</td>\n",
       "      <td>treatment of kmf-transplanted mice: Vismodegib</td>\n",
       "      <td>treatment of kmf-transplanted mice: Vehicle</td>\n",
       "      <td>treatment of kmf-transplanted mice: Vismodegib</td>\n",
       "      <td>cell type: normal dermal stem cells</td>\n",
       "      <td>cell type: normal fibroblasts</td>\n",
       "      <td>cell type: normal dermal stem cells</td>\n",
       "      <td>...</td>\n",
       "      <td>cell type: keloid center stem cells</td>\n",
       "      <td>cell type: keloid normal fibroblasts</td>\n",
       "      <td>cell type: keloid margin fibroblasts</td>\n",
       "      <td>cell type: keloid center fibroblasts</td>\n",
       "      <td>cell type: keloid normal stem cells</td>\n",
       "      <td>cell type: keloid margin stem cells</td>\n",
       "      <td>cell type: keloid center stem cells</td>\n",
       "      <td>cell type: keloid normal fibroblasts</td>\n",
       "      <td>cell type: keloid margin fibroblasts</td>\n",
       "      <td>cell type: keloid center fibroblasts</td>\n",
       "    </tr>\n",
       "    <tr>\n",
       "      <th>1</th>\n",
       "      <td>!Sample_characteristics_ch1</td>\n",
       "      <td>cell type: Transplant-derived cells</td>\n",
       "      <td>cell type: Transplant-derived cells</td>\n",
       "      <td>cell type: Transplant-derived cells</td>\n",
       "      <td>cell type: Transplant-derived cells</td>\n",
       "      <td>cell type: Transplant-derived cells</td>\n",
       "      <td>cell type: Transplant-derived cells</td>\n",
       "      <td>NaN</td>\n",
       "      <td>NaN</td>\n",
       "      <td>NaN</td>\n",
       "      <td>...</td>\n",
       "      <td>NaN</td>\n",
       "      <td>NaN</td>\n",
       "      <td>NaN</td>\n",
       "      <td>NaN</td>\n",
       "      <td>NaN</td>\n",
       "      <td>NaN</td>\n",
       "      <td>NaN</td>\n",
       "      <td>NaN</td>\n",
       "      <td>NaN</td>\n",
       "      <td>NaN</td>\n",
       "    </tr>\n",
       "  </tbody>\n",
       "</table>\n",
       "<p>2 rows × 31 columns</p>\n",
       "</div>"
      ],
      "text/plain": [
       "         !Sample_geo_accession                                   GSM6758314  \\\n",
       "0  !Sample_characteristics_ch1  treatment of kmf-transplanted mice: Vehicle   \n",
       "1  !Sample_characteristics_ch1          cell type: Transplant-derived cells   \n",
       "\n",
       "                                       GSM6758315  \\\n",
       "0  treatment of kmf-transplanted mice: Vismodegib   \n",
       "1             cell type: Transplant-derived cells   \n",
       "\n",
       "                                    GSM6758316  \\\n",
       "0  treatment of kmf-transplanted mice: Vehicle   \n",
       "1          cell type: Transplant-derived cells   \n",
       "\n",
       "                                       GSM6758317  \\\n",
       "0  treatment of kmf-transplanted mice: Vismodegib   \n",
       "1             cell type: Transplant-derived cells   \n",
       "\n",
       "                                    GSM6758318  \\\n",
       "0  treatment of kmf-transplanted mice: Vehicle   \n",
       "1          cell type: Transplant-derived cells   \n",
       "\n",
       "                                       GSM6758319  \\\n",
       "0  treatment of kmf-transplanted mice: Vismodegib   \n",
       "1             cell type: Transplant-derived cells   \n",
       "\n",
       "                            GSM6760120                     GSM6760121  \\\n",
       "0  cell type: normal dermal stem cells  cell type: normal fibroblasts   \n",
       "1                                  NaN                            NaN   \n",
       "\n",
       "                            GSM6760122  ...  \\\n",
       "0  cell type: normal dermal stem cells  ...   \n",
       "1                                  NaN  ...   \n",
       "\n",
       "                            GSM6760134                            GSM6760135  \\\n",
       "0  cell type: keloid center stem cells  cell type: keloid normal fibroblasts   \n",
       "1                                  NaN                                   NaN   \n",
       "\n",
       "                             GSM6760136                            GSM6760137  \\\n",
       "0  cell type: keloid margin fibroblasts  cell type: keloid center fibroblasts   \n",
       "1                                   NaN                                   NaN   \n",
       "\n",
       "                            GSM6760138                           GSM6760139  \\\n",
       "0  cell type: keloid normal stem cells  cell type: keloid margin stem cells   \n",
       "1                                  NaN                                  NaN   \n",
       "\n",
       "                            GSM6760140                            GSM6760141  \\\n",
       "0  cell type: keloid center stem cells  cell type: keloid normal fibroblasts   \n",
       "1                                  NaN                                   NaN   \n",
       "\n",
       "                             GSM6760142                            GSM6760143  \n",
       "0  cell type: keloid margin fibroblasts  cell type: keloid center fibroblasts  \n",
       "1                                   NaN                                   NaN  \n",
       "\n",
       "[2 rows x 31 columns]"
      ]
     },
     "execution_count": 13,
     "metadata": {},
     "output_type": "execute_result"
    }
   ],
   "source": [
    "clinical_data.head()"
   ]
  },
  {
   "cell_type": "code",
   "execution_count": 14,
   "metadata": {},
   "outputs": [],
   "source": [
    "def get_unique_values_by_row(dataframe, max_len=30):\n",
    "    \"\"\"\n",
    "    Organize the unique values in each row of the given dataframe, to get a dictionary\n",
    "    :param dataframe:\n",
    "    :param max_len:\n",
    "    :return:\n",
    "    \"\"\"\n",
    "    if '!Sample_geo_accession' in dataframe.columns:\n",
    "        dataframe = dataframe.drop(columns=['!Sample_geo_accession'])\n",
    "    unique_values_dict = {}\n",
    "    for index, row in dataframe.iterrows():\n",
    "        unique_values = list(row.unique())[:max_len]\n",
    "        unique_values_dict[index] = unique_values\n",
    "    return unique_values_dict"
   ]
  },
  {
   "cell_type": "code",
   "execution_count": 15,
   "metadata": {
    "ExecuteTime": {
     "end_time": "2024-01-10T21:39:04.307639583Z",
     "start_time": "2024-01-10T21:39:04.289352075Z"
    },
    "collapsed": false
   },
   "outputs": [
    {
     "data": {
      "text/plain": [
       "{0: ['treatment of kmf-transplanted mice: Vehicle',\n",
       "  'treatment of kmf-transplanted mice: Vismodegib',\n",
       "  'cell type: normal dermal stem cells',\n",
       "  'cell type: normal fibroblasts',\n",
       "  'cell type: normal scar dermal stem cells',\n",
       "  'cell type: normal scar fibroblasts',\n",
       "  'cell type: keloid normal stem cells',\n",
       "  'cell type: keloid margin stem cells',\n",
       "  'cell type: keloid center stem cells',\n",
       "  'cell type: keloid normal fibroblasts',\n",
       "  'cell type: keloid margin fibroblasts',\n",
       "  'cell type: keloid center fibroblasts'],\n",
       " 1: ['cell type: Transplant-derived cells', nan]}"
      ]
     },
     "execution_count": 15,
     "metadata": {},
     "output_type": "execute_result"
    }
   ],
   "source": [
    "clinical_data_unique = get_unique_values_by_row(clinical_data)\n",
    "clinical_data_unique"
   ]
  },
  {
   "cell_type": "markdown",
   "metadata": {
    "ExecuteTime": {
     "end_time": "2023-12-31T03:58:04.978204446Z",
     "start_time": "2023-12-31T03:58:04.922270095Z"
    },
    "collapsed": false
   },
   "source": [
    "Analyze the metadata to determine data relevance and find ways to extract the clinical data.\n",
    "Reference prompt:"
   ]
  },
  {
   "cell_type": "code",
   "execution_count": 16,
   "metadata": {
    "ExecuteTime": {
     "end_time": "2024-01-10T21:39:04.854586192Z",
     "start_time": "2024-01-10T21:39:04.836283516Z"
    },
    "collapsed": false
   },
   "outputs": [
    {
     "data": {
      "text/plain": [
       "'As a biomedical research team, we are selecting datasets to study the association between the human trait \\'Cardiovascular Disease\\' and genetic factors, optionally considering the influence of age and gender. After searching the GEO database and parsing the matrix file of a series, we obtained background information and sample characteristics data. We will provide textual information about the dataset background, and a Python dictionary storing a list of unique values for each field of the sample characteristics data. Please carefully review the provided information and answer the following questions about this dataset:\\n1. Does this dataset contain gene expression data? (Note: Pure miRNA data is not suitable.)\\n2. For each of the traits \\'Cardiovascular Disease\\', \\'age\\', and \\'gender\\', please address these points:\\n   (1) Is there human data available for this trait?\\n   (2) If so, identify the key in the sample characteristics dictionary where unique values of this trait is recorded. The key is an integer. The trait information might be explicitly recorded, or can be inferred from the field with some biomedical knowledge or understanding about the data collection process.\\n   (3) Choose an appropriate data type (either \\'continuous\\' or \\'binary\\') for each trait. Write a Python function to convert any given value of the trait to this data type. The function should handle inference about the trait value and convert unknown values to None.\\n   Name the functions \\'convert_trait\\', \\'convert_age\\', and \\'convert_gender\\', respectively.\\n\\nBackground information about the dataset:\\n!Series_title\\t\"Keloid fibroproliferative properties are dependent on stem cells modified by the HEDGEHOG-GLI1 pathway\"\\n!Series_summary\\t\"This SuperSeries is composed of the SubSeries listed below.\"\\n!Series_overall_design\\t\"Refer to individual Series\"\\n\\nSample characteristics dictionary (from \"!Sample_characteristics_ch1\", converted to a Python dictionary that stores the unique values for each field):\\n{0: [\\'treatment of kmf-transplanted mice: Vehicle\\', \\'treatment of kmf-transplanted mice: Vismodegib\\', \\'cell type: normal dermal stem cells\\', \\'cell type: normal fibroblasts\\', \\'cell type: normal scar dermal stem cells\\', \\'cell type: normal scar fibroblasts\\', \\'cell type: keloid normal stem cells\\', \\'cell type: keloid margin stem cells\\', \\'cell type: keloid center stem cells\\', \\'cell type: keloid normal fibroblasts\\', \\'cell type: keloid margin fibroblasts\\', \\'cell type: keloid center fibroblasts\\'], 1: [\\'cell type: Transplant-derived cells\\', nan]}\\n'"
      ]
     },
     "execution_count": 16,
     "metadata": {},
     "output_type": "execute_result"
    }
   ],
   "source": [
    "f'''As a biomedical research team, we are selecting datasets to study the association between the human trait \\'{TRAIT}\\' and genetic factors, optionally considering the influence of age and gender. After searching the GEO database and parsing the matrix file of a series, we obtained background information and sample characteristics data. We will provide textual information about the dataset background, and a Python dictionary storing a list of unique values for each field of the sample characteristics data. Please carefully review the provided information and answer the following questions about this dataset:\n",
    "1. Does this dataset contain gene expression data? (Note: Pure miRNA data is not suitable.)\n",
    "2. For each of the traits \\'{TRAIT}\\', 'age', and 'gender', please address these points:\n",
    "   (1) Is there human data available for this trait?\n",
    "   (2) If so, identify the key in the sample characteristics dictionary where unique values of this trait is recorded. The key is an integer. The trait information might be explicitly recorded, or can be inferred from the field with some biomedical knowledge or understanding about the data collection process.\n",
    "   (3) Choose an appropriate data type (either 'continuous' or 'binary') for each trait. Write a Python function to convert any given value of the trait to this data type. The function should handle inference about the trait value and convert unknown values to None.\n",
    "   Name the functions 'convert_trait', 'convert_age', and 'convert_gender', respectively.\n",
    "\n",
    "Background information about the dataset:\n",
    "{background_info}\n",
    "\n",
    "Sample characteristics dictionary (from \"!Sample_characteristics_ch1\", converted to a Python dictionary that stores the unique values for each field):\n",
    "{clinical_data_unique}\n",
    "'''"
   ]
  },
  {
   "cell_type": "markdown",
   "metadata": {
    "ExecuteTime": {
     "end_time": "2023-12-31T03:58:04.978240504Z",
     "start_time": "2023-12-31T03:58:04.922365324Z"
    },
    "collapsed": false
   },
   "source": [
    "Understand and verify the answer from GPT, to assign values to the below variables. Assign None to the 'row_id' variables if relevant data row was not found.\n",
    "Later we need to let GPT format its answer to automatically do these. But given the complexity of this step, let's grow some insight from the free-text answers for now."
   ]
  },
  {
   "cell_type": "code",
   "execution_count": 17,
   "metadata": {
    "ExecuteTime": {
     "end_time": "2024-01-10T21:39:05.366304590Z",
     "start_time": "2024-01-10T21:39:05.356983082Z"
    },
    "collapsed": false
   },
   "outputs": [],
   "source": [
    "age_row = gender_row = None\n",
    "convert_age = convert_gender = None"
   ]
  },
  {
   "cell_type": "code",
   "execution_count": 18,
   "metadata": {
    "ExecuteTime": {
     "end_time": "2024-01-10T21:40:09.324053151Z",
     "start_time": "2024-01-10T21:40:09.251131090Z"
    },
    "collapsed": false
   },
   "outputs": [],
   "source": [
    "is_gene_availabe = True\n",
    "trait_row = 0\n",
    "age_row = None\n",
    "gender_row = None\n",
    "trait_type = 'binary'"
   ]
  },
  {
   "cell_type": "code",
   "execution_count": 19,
   "metadata": {
    "ExecuteTime": {
     "end_time": "2024-01-10T21:40:09.912115984Z",
     "start_time": "2024-01-10T21:40:09.907913460Z"
    },
    "collapsed": false
   },
   "outputs": [],
   "source": [
    "is_available = is_gene_availabe and (trait_row is not None)\n",
    "if not is_available:\n",
    "    save_cohort_info(cohort, JSON_PATH, is_available)\n",
    "    print(\"This cohort is not usable. Please skip the following steps and jump to the next accession number.\")"
   ]
  },
  {
   "cell_type": "code",
   "execution_count": 20,
   "metadata": {
    "ExecuteTime": {
     "end_time": "2024-01-10T21:40:10.982148317Z",
     "start_time": "2024-01-10T21:40:10.967368918Z"
    },
    "collapsed": false
   },
   "outputs": [],
   "source": [
    "# Verify and use the functions generated by GPT\n",
    "\n",
    "def convert_trait(tissue_type):\n",
    "    \"\"\"\n",
    "    Convert tissue type to epilepsy presence (binary).\n",
    "    Assuming epilepsy presence for 'Hippocampus' tissue.\n",
    "    \"\"\"\n",
    "    if tissue_type == 'treatment of kmf-transplanted mice: Vehicle':\n",
    "        return 1  # Epilepsy present\n",
    "    else:\n",
    "        return 0  # Epilepsy not present\n",
    "\n",
    "\n",
    "def convert_age(age_string):\n",
    "    \"\"\"\n",
    "    Convert age string to a continuous numerical value.\n",
    "    Unknown values are converted to None.\n",
    "    \"\"\"\n",
    "    if age_string.lower() == 'n.a.':\n",
    "        return None\n",
    "    try:\n",
    "        # Extract age as an integer from the string\n",
    "        age = int(age_string.split(': ')[1])\n",
    "        return age\n",
    "    except (ValueError, IndexError):\n",
    "        # In case of any format error or unexpected string structure\n",
    "        return None\n",
    "\n",
    "\n",
    "# It sometimes maps 'female' to 0, and sometimes 1. Does it matter?\n",
    "def convert_gender(gender_string):\n",
    "    \"\"\"\n",
    "    Convert gender string to a binary value.\n",
    "    'female' is represented as 1, 'male' as 0.\n",
    "    Unknown values are converted to None.\n",
    "    \"\"\"\n",
    "    if gender_string.lower() == 'male: 0':\n",
    "        return 0\n",
    "    elif gender_string.lower() == 'male: 1':\n",
    "        return 1\n",
    "    else:\n",
    "        return None"
   ]
  },
  {
   "cell_type": "code",
   "execution_count": 21,
   "metadata": {},
   "outputs": [],
   "source": [
    "def get_feature_data(clinical_df, row_id, feature, convert_fn):\n",
    "    \"\"\"select the row corresponding to a feature in the sample characteristics dataframe, and convert the feature into\n",
    "    a binary or continuous variable\"\"\"\n",
    "    clinical_df = clinical_df.iloc[row_id:row_id + 1].drop(columns=['!Sample_geo_accession'], errors='ignore')\n",
    "    clinical_df.index = [feature]\n",
    "    clinical_df = clinical_df.applymap(convert_fn)\n",
    "\n",
    "    return clinical_df"
   ]
  },
  {
   "cell_type": "code",
   "execution_count": 22,
   "metadata": {},
   "outputs": [],
   "source": [
    "def geo_select_clinical_features(clinical_df: pd.DataFrame, trait: str, trait_row: int,\n",
    "                                 convert_trait: Callable,\n",
    "                                 age_row: Optional[int] = None,\n",
    "                                 convert_age: Optional[Callable] = None,\n",
    "                                 gender_row: Optional[int] = None,\n",
    "                                 convert_gender: Optional[Callable] = None) -> pd.DataFrame:\n",
    "    \"\"\"\n",
    "    Extracts and processes specific clinical features from a DataFrame representing\n",
    "    sample characteristics in the GEO database series.\n",
    "\n",
    "    Parameters:\n",
    "    - clinical_df (pd.DataFrame): DataFrame containing clinical data.\n",
    "    - trait (str): The trait of interest.\n",
    "    - trait_row (int): Row identifier for the trait in the DataFrame.\n",
    "    - convert_trait (Callable): Function to convert trait data into a desired format.\n",
    "    - age_row (int, optional): Row identifier for age data. Default is None.\n",
    "    - convert_age (Callable, optional): Function to convert age data. Default is None.\n",
    "    - gender_row (int, optional): Row identifier for gender data. Default is None.\n",
    "    - convert_gender (Callable, optional): Function to convert gender data. Default is None.\n",
    "\n",
    "    Returns:\n",
    "    pd.DataFrame: A DataFrame containing the selected and processed clinical features.\n",
    "    \"\"\"\n",
    "    feature_list = []\n",
    "\n",
    "    trait_data = get_feature_data(clinical_df, trait_row, trait, convert_trait)\n",
    "    feature_list.append(trait_data)\n",
    "    if age_row is not None:\n",
    "        age_data = get_feature_data(clinical_df, age_row, 'Age', convert_age)\n",
    "        feature_list.append(age_data)\n",
    "    if gender_row is not None:\n",
    "        gender_data = get_feature_data(clinical_df, gender_row, 'Gender', convert_gender)\n",
    "        feature_list.append(gender_data)\n",
    "\n",
    "    selected_clinical_df = pd.concat(feature_list, axis=0)\n",
    "    return selected_clinical_df"
   ]
  },
  {
   "cell_type": "code",
   "execution_count": 23,
   "metadata": {
    "ExecuteTime": {
     "end_time": "2024-01-10T21:40:11.684556802Z",
     "start_time": "2024-01-10T21:40:11.665079581Z"
    },
    "collapsed": false
   },
   "outputs": [
    {
     "data": {
      "text/html": [
       "<div>\n",
       "<style scoped>\n",
       "    .dataframe tbody tr th:only-of-type {\n",
       "        vertical-align: middle;\n",
       "    }\n",
       "\n",
       "    .dataframe tbody tr th {\n",
       "        vertical-align: top;\n",
       "    }\n",
       "\n",
       "    .dataframe thead th {\n",
       "        text-align: right;\n",
       "    }\n",
       "</style>\n",
       "<table border=\"1\" class=\"dataframe\">\n",
       "  <thead>\n",
       "    <tr style=\"text-align: right;\">\n",
       "      <th></th>\n",
       "      <th>GSM6758314</th>\n",
       "      <th>GSM6758315</th>\n",
       "      <th>GSM6758316</th>\n",
       "      <th>GSM6758317</th>\n",
       "      <th>GSM6758318</th>\n",
       "      <th>GSM6758319</th>\n",
       "      <th>GSM6760120</th>\n",
       "      <th>GSM6760121</th>\n",
       "      <th>GSM6760122</th>\n",
       "      <th>GSM6760123</th>\n",
       "      <th>...</th>\n",
       "      <th>GSM6760134</th>\n",
       "      <th>GSM6760135</th>\n",
       "      <th>GSM6760136</th>\n",
       "      <th>GSM6760137</th>\n",
       "      <th>GSM6760138</th>\n",
       "      <th>GSM6760139</th>\n",
       "      <th>GSM6760140</th>\n",
       "      <th>GSM6760141</th>\n",
       "      <th>GSM6760142</th>\n",
       "      <th>GSM6760143</th>\n",
       "    </tr>\n",
       "  </thead>\n",
       "  <tbody>\n",
       "    <tr>\n",
       "      <th>Cardiovascular Disease</th>\n",
       "      <td>1</td>\n",
       "      <td>0</td>\n",
       "      <td>1</td>\n",
       "      <td>0</td>\n",
       "      <td>1</td>\n",
       "      <td>0</td>\n",
       "      <td>0</td>\n",
       "      <td>0</td>\n",
       "      <td>0</td>\n",
       "      <td>0</td>\n",
       "      <td>...</td>\n",
       "      <td>0</td>\n",
       "      <td>0</td>\n",
       "      <td>0</td>\n",
       "      <td>0</td>\n",
       "      <td>0</td>\n",
       "      <td>0</td>\n",
       "      <td>0</td>\n",
       "      <td>0</td>\n",
       "      <td>0</td>\n",
       "      <td>0</td>\n",
       "    </tr>\n",
       "  </tbody>\n",
       "</table>\n",
       "<p>1 rows × 30 columns</p>\n",
       "</div>"
      ],
      "text/plain": [
       "                        GSM6758314  GSM6758315  GSM6758316  GSM6758317  \\\n",
       "Cardiovascular Disease           1           0           1           0   \n",
       "\n",
       "                        GSM6758318  GSM6758319  GSM6760120  GSM6760121  \\\n",
       "Cardiovascular Disease           1           0           0           0   \n",
       "\n",
       "                        GSM6760122  GSM6760123  ...  GSM6760134  GSM6760135  \\\n",
       "Cardiovascular Disease           0           0  ...           0           0   \n",
       "\n",
       "                        GSM6760136  GSM6760137  GSM6760138  GSM6760139  \\\n",
       "Cardiovascular Disease           0           0           0           0   \n",
       "\n",
       "                        GSM6760140  GSM6760141  GSM6760142  GSM6760143  \n",
       "Cardiovascular Disease           0           0           0           0  \n",
       "\n",
       "[1 rows x 30 columns]"
      ]
     },
     "execution_count": 23,
     "metadata": {},
     "output_type": "execute_result"
    }
   ],
   "source": [
    "selected_clinical_data = geo_select_clinical_features(clinical_data, TRAIT, trait_row, convert_trait, age_row=age_row,\n",
    "                                                      convert_age=convert_age, gender_row=gender_row,\n",
    "                                                      convert_gender=convert_gender)\n",
    "selected_clinical_data.head()"
   ]
  },
  {
   "cell_type": "markdown",
   "metadata": {
    "ExecuteTime": {
     "end_time": "2023-12-31T03:58:04.978664193Z",
     "start_time": "2023-12-31T03:58:04.966117261Z"
    },
    "collapsed": false
   },
   "source": [
    "### Genetic data preprocessing and final filtering"
   ]
  },
  {
   "cell_type": "code",
   "execution_count": 24,
   "metadata": {},
   "outputs": [],
   "source": [
    "def get_genetic_data(file_path):\n",
    "    \"\"\"Read the gene expression data into a dataframe, and adjust its format\"\"\"\n",
    "    genetic_data = pd.read_csv(file_path, compression='gzip', skiprows=52, comment='!', delimiter='\\t')\n",
    "    genetic_data = genetic_data.dropna()\n",
    "    genetic_data = genetic_data.rename(columns={'ID_REF': 'ID'}).astype({'ID': 'str'})\n",
    "    genetic_data.set_index('ID', inplace=True)\n",
    "\n",
    "    return genetic_data\n"
   ]
  },
  {
   "cell_type": "code",
   "execution_count": 25,
   "metadata": {
    "ExecuteTime": {
     "end_time": "2024-01-10T21:40:13.509252107Z",
     "start_time": "2024-01-10T21:40:13.468235630Z"
    },
    "collapsed": false
   },
   "outputs": [
    {
     "data": {
      "text/html": [
       "<div>\n",
       "<style scoped>\n",
       "    .dataframe tbody tr th:only-of-type {\n",
       "        vertical-align: middle;\n",
       "    }\n",
       "\n",
       "    .dataframe tbody tr th {\n",
       "        vertical-align: top;\n",
       "    }\n",
       "\n",
       "    .dataframe thead th {\n",
       "        text-align: right;\n",
       "    }\n",
       "</style>\n",
       "<table border=\"1\" class=\"dataframe\">\n",
       "  <thead>\n",
       "    <tr style=\"text-align: right;\">\n",
       "      <th></th>\n",
       "      <th>GSM6758314</th>\n",
       "      <th>GSM6758315</th>\n",
       "      <th>GSM6758316</th>\n",
       "      <th>GSM6758317</th>\n",
       "      <th>GSM6758318</th>\n",
       "      <th>GSM6758319</th>\n",
       "      <th>GSM6760120</th>\n",
       "      <th>GSM6760121</th>\n",
       "      <th>GSM6760122</th>\n",
       "      <th>GSM6760123</th>\n",
       "      <th>...</th>\n",
       "      <th>GSM6760134</th>\n",
       "      <th>GSM6760135</th>\n",
       "      <th>GSM6760136</th>\n",
       "      <th>GSM6760137</th>\n",
       "      <th>GSM6760138</th>\n",
       "      <th>GSM6760139</th>\n",
       "      <th>GSM6760140</th>\n",
       "      <th>GSM6760141</th>\n",
       "      <th>GSM6760142</th>\n",
       "      <th>GSM6760143</th>\n",
       "    </tr>\n",
       "    <tr>\n",
       "      <th>ID</th>\n",
       "      <th></th>\n",
       "      <th></th>\n",
       "      <th></th>\n",
       "      <th></th>\n",
       "      <th></th>\n",
       "      <th></th>\n",
       "      <th></th>\n",
       "      <th></th>\n",
       "      <th></th>\n",
       "      <th></th>\n",
       "      <th></th>\n",
       "      <th></th>\n",
       "      <th></th>\n",
       "      <th></th>\n",
       "      <th></th>\n",
       "      <th></th>\n",
       "      <th></th>\n",
       "      <th></th>\n",
       "      <th></th>\n",
       "      <th></th>\n",
       "      <th></th>\n",
       "    </tr>\n",
       "  </thead>\n",
       "  <tbody>\n",
       "    <tr>\n",
       "      <th>AFFX-BkGr-GC03_st</th>\n",
       "      <td>7.03659</td>\n",
       "      <td>5.97362</td>\n",
       "      <td>6.41101</td>\n",
       "      <td>6.22798</td>\n",
       "      <td>5.97409</td>\n",
       "      <td>5.85980</td>\n",
       "      <td>7.32044</td>\n",
       "      <td>7.65006</td>\n",
       "      <td>6.77819</td>\n",
       "      <td>7.15068</td>\n",
       "      <td>...</td>\n",
       "      <td>6.45350</td>\n",
       "      <td>7.52706</td>\n",
       "      <td>6.66370</td>\n",
       "      <td>6.52118</td>\n",
       "      <td>7.32044</td>\n",
       "      <td>6.84004</td>\n",
       "      <td>7.32044</td>\n",
       "      <td>7.52472</td>\n",
       "      <td>7.95175</td>\n",
       "      <td>7.05179</td>\n",
       "    </tr>\n",
       "    <tr>\n",
       "      <th>AFFX-BkGr-GC04_st</th>\n",
       "      <td>6.19982</td>\n",
       "      <td>6.09343</td>\n",
       "      <td>6.43568</td>\n",
       "      <td>6.36766</td>\n",
       "      <td>6.28736</td>\n",
       "      <td>6.27571</td>\n",
       "      <td>6.91889</td>\n",
       "      <td>6.83098</td>\n",
       "      <td>7.09277</td>\n",
       "      <td>6.78977</td>\n",
       "      <td>...</td>\n",
       "      <td>6.75677</td>\n",
       "      <td>6.77048</td>\n",
       "      <td>7.19553</td>\n",
       "      <td>6.79701</td>\n",
       "      <td>6.85592</td>\n",
       "      <td>7.02290</td>\n",
       "      <td>6.96008</td>\n",
       "      <td>6.88634</td>\n",
       "      <td>6.92316</td>\n",
       "      <td>6.77111</td>\n",
       "    </tr>\n",
       "    <tr>\n",
       "      <th>AFFX-BkGr-GC05_st</th>\n",
       "      <td>6.27686</td>\n",
       "      <td>6.22531</td>\n",
       "      <td>6.15848</td>\n",
       "      <td>6.35676</td>\n",
       "      <td>6.29377</td>\n",
       "      <td>6.33789</td>\n",
       "      <td>7.30393</td>\n",
       "      <td>7.16125</td>\n",
       "      <td>7.23162</td>\n",
       "      <td>7.17289</td>\n",
       "      <td>...</td>\n",
       "      <td>7.04521</td>\n",
       "      <td>7.12830</td>\n",
       "      <td>7.12297</td>\n",
       "      <td>7.05599</td>\n",
       "      <td>7.12494</td>\n",
       "      <td>7.02002</td>\n",
       "      <td>7.10264</td>\n",
       "      <td>7.10713</td>\n",
       "      <td>7.07466</td>\n",
       "      <td>7.16274</td>\n",
       "    </tr>\n",
       "    <tr>\n",
       "      <th>AFFX-BkGr-GC06_st</th>\n",
       "      <td>6.15224</td>\n",
       "      <td>5.91982</td>\n",
       "      <td>5.98805</td>\n",
       "      <td>6.19631</td>\n",
       "      <td>6.20470</td>\n",
       "      <td>6.06755</td>\n",
       "      <td>6.97577</td>\n",
       "      <td>6.91904</td>\n",
       "      <td>7.06465</td>\n",
       "      <td>6.90375</td>\n",
       "      <td>...</td>\n",
       "      <td>7.05199</td>\n",
       "      <td>6.84671</td>\n",
       "      <td>6.96940</td>\n",
       "      <td>6.91735</td>\n",
       "      <td>6.71558</td>\n",
       "      <td>6.83158</td>\n",
       "      <td>6.89412</td>\n",
       "      <td>6.99735</td>\n",
       "      <td>6.95791</td>\n",
       "      <td>6.96178</td>\n",
       "    </tr>\n",
       "    <tr>\n",
       "      <th>AFFX-BkGr-GC07_st</th>\n",
       "      <td>5.99376</td>\n",
       "      <td>6.05716</td>\n",
       "      <td>5.85214</td>\n",
       "      <td>5.96752</td>\n",
       "      <td>6.05363</td>\n",
       "      <td>6.03450</td>\n",
       "      <td>6.37363</td>\n",
       "      <td>6.46480</td>\n",
       "      <td>6.51403</td>\n",
       "      <td>6.58222</td>\n",
       "      <td>...</td>\n",
       "      <td>6.46377</td>\n",
       "      <td>6.42057</td>\n",
       "      <td>6.32670</td>\n",
       "      <td>6.39368</td>\n",
       "      <td>6.26416</td>\n",
       "      <td>6.37345</td>\n",
       "      <td>6.34308</td>\n",
       "      <td>6.33018</td>\n",
       "      <td>6.48288</td>\n",
       "      <td>6.40274</td>\n",
       "    </tr>\n",
       "  </tbody>\n",
       "</table>\n",
       "<p>5 rows × 30 columns</p>\n",
       "</div>"
      ],
      "text/plain": [
       "                   GSM6758314  GSM6758315  GSM6758316  GSM6758317  GSM6758318  \\\n",
       "ID                                                                              \n",
       "AFFX-BkGr-GC03_st     7.03659     5.97362     6.41101     6.22798     5.97409   \n",
       "AFFX-BkGr-GC04_st     6.19982     6.09343     6.43568     6.36766     6.28736   \n",
       "AFFX-BkGr-GC05_st     6.27686     6.22531     6.15848     6.35676     6.29377   \n",
       "AFFX-BkGr-GC06_st     6.15224     5.91982     5.98805     6.19631     6.20470   \n",
       "AFFX-BkGr-GC07_st     5.99376     6.05716     5.85214     5.96752     6.05363   \n",
       "\n",
       "                   GSM6758319  GSM6760120  GSM6760121  GSM6760122  GSM6760123  \\\n",
       "ID                                                                              \n",
       "AFFX-BkGr-GC03_st     5.85980     7.32044     7.65006     6.77819     7.15068   \n",
       "AFFX-BkGr-GC04_st     6.27571     6.91889     6.83098     7.09277     6.78977   \n",
       "AFFX-BkGr-GC05_st     6.33789     7.30393     7.16125     7.23162     7.17289   \n",
       "AFFX-BkGr-GC06_st     6.06755     6.97577     6.91904     7.06465     6.90375   \n",
       "AFFX-BkGr-GC07_st     6.03450     6.37363     6.46480     6.51403     6.58222   \n",
       "\n",
       "                   ...  GSM6760134  GSM6760135  GSM6760136  GSM6760137  \\\n",
       "ID                 ...                                                   \n",
       "AFFX-BkGr-GC03_st  ...     6.45350     7.52706     6.66370     6.52118   \n",
       "AFFX-BkGr-GC04_st  ...     6.75677     6.77048     7.19553     6.79701   \n",
       "AFFX-BkGr-GC05_st  ...     7.04521     7.12830     7.12297     7.05599   \n",
       "AFFX-BkGr-GC06_st  ...     7.05199     6.84671     6.96940     6.91735   \n",
       "AFFX-BkGr-GC07_st  ...     6.46377     6.42057     6.32670     6.39368   \n",
       "\n",
       "                   GSM6760138  GSM6760139  GSM6760140  GSM6760141  GSM6760142  \\\n",
       "ID                                                                              \n",
       "AFFX-BkGr-GC03_st     7.32044     6.84004     7.32044     7.52472     7.95175   \n",
       "AFFX-BkGr-GC04_st     6.85592     7.02290     6.96008     6.88634     6.92316   \n",
       "AFFX-BkGr-GC05_st     7.12494     7.02002     7.10264     7.10713     7.07466   \n",
       "AFFX-BkGr-GC06_st     6.71558     6.83158     6.89412     6.99735     6.95791   \n",
       "AFFX-BkGr-GC07_st     6.26416     6.37345     6.34308     6.33018     6.48288   \n",
       "\n",
       "                   GSM6760143  \n",
       "ID                             \n",
       "AFFX-BkGr-GC03_st     7.05179  \n",
       "AFFX-BkGr-GC04_st     6.77111  \n",
       "AFFX-BkGr-GC05_st     7.16274  \n",
       "AFFX-BkGr-GC06_st     6.96178  \n",
       "AFFX-BkGr-GC07_st     6.40274  \n",
       "\n",
       "[5 rows x 30 columns]"
      ]
     },
     "execution_count": 25,
     "metadata": {},
     "output_type": "execute_result"
    }
   ],
   "source": [
    "genetic_data = get_genetic_data(matrix_file)\n",
    "genetic_data.head()"
   ]
  },
  {
   "cell_type": "code",
   "execution_count": 26,
   "metadata": {
    "ExecuteTime": {
     "end_time": "2024-01-10T21:40:14.107050774Z",
     "start_time": "2024-01-10T21:40:14.090977173Z"
    },
    "collapsed": false
   },
   "outputs": [
    {
     "data": {
      "text/plain": [
       "['AFFX-BkGr-GC03_st',\n",
       " 'AFFX-BkGr-GC04_st',\n",
       " 'AFFX-BkGr-GC05_st',\n",
       " 'AFFX-BkGr-GC06_st',\n",
       " 'AFFX-BkGr-GC07_st',\n",
       " 'AFFX-BkGr-GC08_st',\n",
       " 'AFFX-BkGr-GC09_st',\n",
       " 'AFFX-BkGr-GC10_st',\n",
       " 'AFFX-BkGr-GC11_st',\n",
       " 'AFFX-BkGr-GC12_st',\n",
       " 'AFFX-BkGr-GC13_st',\n",
       " 'AFFX-BkGr-GC14_st',\n",
       " 'AFFX-BkGr-GC15_st',\n",
       " 'AFFX-BkGr-GC16_st',\n",
       " 'AFFX-BkGr-GC17_st',\n",
       " 'AFFX-BkGr-GC18_st',\n",
       " 'AFFX-BkGr-GC19_st',\n",
       " 'AFFX-BkGr-GC20_st',\n",
       " 'AFFX-BkGr-GC21_st',\n",
       " 'AFFX-BkGr-GC22_st']"
      ]
     },
     "execution_count": 26,
     "metadata": {},
     "output_type": "execute_result"
    }
   ],
   "source": [
    "gene_row_ids = genetic_data.index[:20].tolist()\n",
    "gene_row_ids"
   ]
  },
  {
   "cell_type": "markdown",
   "metadata": {
    "ExecuteTime": {
     "end_time": "2023-12-31T03:30:41.595335164Z",
     "start_time": "2023-12-31T03:30:41.513232329Z"
    },
    "collapsed": false
   },
   "source": [
    "Check if the gene dataset requires mapping to get the gene symbols corresponding to each data row."
   ]
  },
  {
   "cell_type": "markdown",
   "metadata": {
    "collapsed": false
   },
   "source": [
    "Reference prompt:"
   ]
  },
  {
   "cell_type": "code",
   "execution_count": 27,
   "metadata": {
    "ExecuteTime": {
     "end_time": "2024-01-10T21:40:16.445692615Z",
     "start_time": "2024-01-10T21:40:16.435117932Z"
    },
    "collapsed": false
   },
   "outputs": [
    {
     "data": {
      "text/plain": [
       "\"\\nBelow are the row headers of a gene expression dataset in GEO. Based on your biomedical knowledge, are they human gene symbols, or are they some other identifiers that need to be mapped to gene symbols? Your answer should be concluded by starting a new line and strictly following this format:\\nrequires_gene_mapping = (True or False)\\n\\nRow headers:\\n['AFFX-BkGr-GC03_st', 'AFFX-BkGr-GC04_st', 'AFFX-BkGr-GC05_st', 'AFFX-BkGr-GC06_st', 'AFFX-BkGr-GC07_st', 'AFFX-BkGr-GC08_st', 'AFFX-BkGr-GC09_st', 'AFFX-BkGr-GC10_st', 'AFFX-BkGr-GC11_st', 'AFFX-BkGr-GC12_st', 'AFFX-BkGr-GC13_st', 'AFFX-BkGr-GC14_st', 'AFFX-BkGr-GC15_st', 'AFFX-BkGr-GC16_st', 'AFFX-BkGr-GC17_st', 'AFFX-BkGr-GC18_st', 'AFFX-BkGr-GC19_st', 'AFFX-BkGr-GC20_st', 'AFFX-BkGr-GC21_st', 'AFFX-BkGr-GC22_st']\\n\""
      ]
     },
     "execution_count": 27,
     "metadata": {},
     "output_type": "execute_result"
    }
   ],
   "source": [
    "f'''\n",
    "Below are the row headers of a gene expression dataset in GEO. Based on your biomedical knowledge, are they human gene symbols, or are they some other identifiers that need to be mapped to gene symbols? Your answer should be concluded by starting a new line and strictly following this format:\n",
    "requires_gene_mapping = (True or False)\n",
    "\n",
    "Row headers:\n",
    "{gene_row_ids}\n",
    "'''"
   ]
  },
  {
   "cell_type": "markdown",
   "metadata": {
    "collapsed": false
   },
   "source": [
    "\n",
    "If not required, jump directly to the gene normalization step"
   ]
  },
  {
   "cell_type": "code",
   "execution_count": 28,
   "metadata": {
    "ExecuteTime": {
     "end_time": "2024-01-10T21:40:17.098774002Z",
     "start_time": "2024-01-10T21:40:17.094437169Z"
    },
    "collapsed": false
   },
   "outputs": [],
   "source": [
    "requires_gene_mapping = False"
   ]
  },
  {
   "cell_type": "code",
   "execution_count": 29,
   "metadata": {
    "ExecuteTime": {
     "end_time": "2024-01-10T21:40:17.399324928Z",
     "start_time": "2024-01-10T21:40:17.381475568Z"
    },
    "collapsed": false
   },
   "outputs": [],
   "source": [
    "if requires_gene_mapping:\n",
    "    gene_annotation = get_gene_annotation(soft_file)\n",
    "    gene_annotation_summary = preview_df(gene_annotation)\n",
    "    print(gene_annotation_summary)"
   ]
  },
  {
   "cell_type": "markdown",
   "metadata": {
    "ExecuteTime": {
     "end_time": "2023-12-31T03:58:04.978931927Z",
     "start_time": "2023-12-31T03:58:04.966328339Z"
    },
    "collapsed": false
   },
   "source": [
    "Observe the first few cells in the ID column of the gene annotation dataframe, to find the names of columns that store the gene probe IDs and gene symbols respectively.\n",
    "Reference prompt:"
   ]
  },
  {
   "cell_type": "code",
   "execution_count": 30,
   "metadata": {
    "ExecuteTime": {
     "end_time": "2024-01-10T21:40:17.944343822Z",
     "start_time": "2024-01-10T21:40:17.933815553Z"
    },
    "collapsed": false
   },
   "outputs": [],
   "source": [
    "if requires_gene_mapping:\n",
    "    print(f'''\n",
    "    As a biomedical research team, we are analyzing a gene expression dataset, and find that its row headers are some identifiers related to genes:\n",
    "    {gene_row_ids}\n",
    "    To get the mapping from those identifiers to actual gene symbols, we extracted the gene annotation data from a series in the GEO database, and saved it to a Python dictionary. Please read the dictionary, and decide which key stores the identifiers, and which key stores the gene symbols. Please strictly follow this format in your answer:\n",
    "    identifier_key = 'key_name1'\n",
    "    gene_symbol_key = 'key_name2'\n",
    "\n",
    "    Gene annotation dictionary:\n",
    "    {gene_annotation_summary}\n",
    "    ''')"
   ]
  },
  {
   "cell_type": "code",
   "execution_count": 31,
   "metadata": {
    "ExecuteTime": {
     "end_time": "2024-01-10T21:40:18.245811669Z",
     "start_time": "2024-01-10T21:40:18.234480277Z"
    },
    "collapsed": false
   },
   "outputs": [],
   "source": [
    "if requires_gene_mapping:\n",
    "    identifier_key = 'ID'\n",
    "    gene_symbol_key = 'UCSC_RefGene_Name'\n",
    "    gene_mapping = get_gene_mapping(gene_annotation, identifier_key, gene_symbol_key)\n",
    "    genetic_data = apply_gene_mapping(genetic_data, gene_mapping)"
   ]
  },
  {
   "cell_type": "code",
   "execution_count": 32,
   "metadata": {},
   "outputs": [],
   "source": [
    "def normalize_gene_symbols_in_index(gene_df):\n",
    "    \"\"\"Normalize the human gene symbols at the index of a dataframe, and replace the index with its normalized version.\n",
    "    Remove the rows where the index failed to be normalized.\"\"\"\n",
    "    normalized_gene_list = normalize_gene_symbols(gene_df.index.tolist())\n",
    "    assert len(normalized_gene_list) == len(gene_df.index)\n",
    "    gene_df.index = normalized_gene_list\n",
    "    gene_df = gene_df[gene_df.index.notnull()]\n",
    "    return gene_df"
   ]
  },
  {
   "cell_type": "code",
   "execution_count": 33,
   "metadata": {},
   "outputs": [],
   "source": [
    "def normalize_gene_symbols(gene_symbols, batch_size=1000):\n",
    "    \"\"\"Normalize human gene symbols in batches using the 'mygenes' library\"\"\"\n",
    "    mg = mygene.MyGeneInfo()\n",
    "    normalized_genes = {}\n",
    "\n",
    "    # Process in batches\n",
    "    for i in range(0, len(gene_symbols), batch_size):\n",
    "        batch = gene_symbols[i:i + batch_size]\n",
    "        results = mg.querymany(batch, scopes='symbol', fields='symbol', species='human')\n",
    "\n",
    "        # Update the normalized_genes dictionary with results from this batch\n",
    "        for gene in results:\n",
    "            normalized_genes[gene['query']] = gene.get('symbol', None)\n",
    "\n",
    "    # Return the normalized symbols in the same order as the input\n",
    "    return [normalized_genes.get(symbol) for symbol in gene_symbols]"
   ]
  },
  {
   "cell_type": "code",
   "execution_count": 34,
   "metadata": {},
   "outputs": [],
   "source": [
    "import mygene"
   ]
  },
  {
   "cell_type": "code",
   "execution_count": 35,
   "metadata": {
    "ExecuteTime": {
     "end_time": "2024-01-10T21:40:20.559860684Z",
     "start_time": "2024-01-10T21:40:18.521711414Z"
    },
    "collapsed": false
   },
   "outputs": [
    {
     "name": "stderr",
     "output_type": "stream",
     "text": [
      "1000 input query terms found no hit:\t['AFFX-BkGr-GC03_st', 'AFFX-BkGr-GC04_st', 'AFFX-BkGr-GC05_st', 'AFFX-BkGr-GC06_st', 'AFFX-BkGr-GC07\n",
      "1000 input query terms found no hit:\t['HTA2-pos-3281508_st', 'HTA2-pos-3281511_st', 'HTA2-pos-3281513_st', 'HTA2-pos-3281519_st', 'HTA2-p\n",
      "1000 input query terms found no hit:\t['HTA2-pos-PSR09016055.hg.1', 'HTA2-pos-PSR09019843.hg.1', 'HTA2-pos-PSR09019846.hg.1', 'HTA2-pos-PS\n",
      "1000 input query terms found no hit:\t['TC0100006994.hg.1', 'TC0100006997.hg.1', 'TC0100006998.hg.1', 'TC0100006999.hg.1', 'TC0100007006.h\n",
      "1000 input query terms found no hit:\t['TC0100013159.hg.1', 'TC0100013161.hg.1', 'TC0100013162.hg.1', 'TC0100013167.hg.1', 'TC0100013169.h\n",
      "1000 input query terms found no hit:\t['TC0100018491.hg.1', 'TC0100018492.hg.1', 'TC0100018495.hg.1', 'TC0100018496.hg.1', 'TC0100018497.h\n",
      "1000 input query terms found no hit:\t['TC0200014912.hg.1', 'TC0200014971.hg.1', 'TC0200014978.hg.1', 'TC0200014990.hg.1', 'TC0200014991.h\n",
      "1000 input query terms found no hit:\t['TC0300011088.hg.1', 'TC0300011089.hg.1', 'TC0300011103.hg.1', 'TC0300011105.hg.1', 'TC0300011107.h\n",
      "1000 input query terms found no hit:\t['TC0400010780.hg.1', 'TC0400010784.hg.1', 'TC0400010785.hg.1', 'TC0400010853.hg.1', 'TC0400010867.h\n",
      "1000 input query terms found no hit:\t['TC0500012463.hg.1', 'TC0500012467.hg.1', 'TC0500012470.hg.1', 'TC0500012485.hg.1', 'TC0500012486.h\n",
      "1000 input query terms found no hit:\t['TC0600012544.hg.1', 'TC0600012550.hg.1', 'TC0600012551.hg.1', 'TC0600012554.hg.1', 'TC0600012556.h\n",
      "1000 input query terms found no hit:\t['TC0700012163.hg.1', 'TC0700012165.hg.1', 'TC0700012180.hg.1', 'TC0700012182.hg.1', 'TC0700012190.h\n",
      "1000 input query terms found no hit:\t['TC0800012427.hg.1', 'TC0800012428.hg.1', 'TC0800012432.hg.1', 'TC0800012433.hg.1', 'TC0800012434.h\n",
      "1000 input query terms found no hit:\t['TC0X00007266.hg.1', 'TC0X00007267.hg.1', 'TC0X00007274.hg.1', 'TC0X00007280.hg.1', 'TC0X00007285.h\n",
      "1000 input query terms found no hit:\t['TC1000008401.hg.1', 'TC1000008406.hg.1', 'TC1000008423.hg.1', 'TC1000008431.hg.1', 'TC1000008435.h\n",
      "1000 input query terms found no hit:\t['TC1100008525.hg.1', 'TC1100008532.hg.1', 'TC1100008541.hg.1', 'TC1100008550.hg.1', 'TC1100008553.h\n",
      "1000 input query terms found no hit:\t['TC1200006890.hg.1', 'TC1200006896.hg.1', 'TC1200006905.hg.1', 'TC1200006909.hg.1', 'TC1200006935.h\n",
      "1000 input query terms found no hit:\t['TC1200012842.hg.1', 'TC1200012843.hg.1', 'TC1200012844.hg.1', 'TC1200012852.hg.1', 'TC1200012853.h\n",
      "1000 input query terms found no hit:\t['TC1500006507.hg.1', 'TC1500006517.hg.1', 'TC1500006522.hg.1', 'TC1500006528.hg.1', 'TC1500006562.h\n",
      "1000 input query terms found no hit:\t['TC1600008867.hg.1', 'TC1600008868.hg.1', 'TC1600008869.hg.1', 'TC1600008878.hg.1', 'TC1600008888.h\n",
      "1000 input query terms found no hit:\t['TC1700009303.hg.1', 'TC1700009318.hg.1', 'TC1700009319.hg.1', 'TC1700009327.hg.1', 'TC1700009333.h\n",
      "1000 input query terms found no hit:\t['TC1800009221.hg.1', 'TC1800009222.hg.1', 'TC1800009223.hg.1', 'TC1800009228.hg.1', 'TC1800009229.h\n",
      "1000 input query terms found no hit:\t['TC1900010971.hg.1', 'TC1900010984.hg.1', 'TC1900010988.hg.1', 'TC1900010989.hg.1', 'TC1900010990.h\n",
      "1000 input query terms found no hit:\t['TC2000009911.hg.1', 'TC2000009912.hg.1', 'TC2000009913.hg.1', 'TC2000009914.hg.1', 'TC2000009915.h\n",
      "351 input query terms found no hit:\t['TSUnmapped00000264.hg.1', 'TSUnmapped00000267.hg.1', 'TSUnmapped00000268.hg.1', 'TSUnmapped0000026\n"
     ]
    }
   ],
   "source": [
    "if NORMALIZE_GENE:\n",
    "    genetic_data = normalize_gene_symbols_in_index(genetic_data)"
   ]
  },
  {
   "cell_type": "code",
   "execution_count": 36,
   "metadata": {},
   "outputs": [],
   "source": [
    "def geo_merge_clinical_genetic_data(clinical_df, genetic_df):\n",
    "    \"\"\"\n",
    "    Merge the clinical features and gene expression features from two dataframes into one dataframe\n",
    "    \"\"\"\n",
    "    if 'ID' in genetic_df.columns:\n",
    "        genetic_df = genetic_df.rename(columns={'ID': 'Gene'})\n",
    "    if 'Gene' in genetic_df.columns:\n",
    "        genetic_df = genetic_df.set_index('Gene')\n",
    "    merged_data = pd.concat([clinical_df, genetic_df], axis=0).T.dropna()\n",
    "    return merged_data\n"
   ]
  },
  {
   "cell_type": "code",
   "execution_count": 37,
   "metadata": {
    "ExecuteTime": {
     "end_time": "2024-01-10T21:40:20.572778564Z",
     "start_time": "2024-01-10T21:40:20.565101065Z"
    },
    "collapsed": false
   },
   "outputs": [],
   "source": [
    "merged_data = geo_merge_clinical_genetic_data(selected_clinical_data, genetic_data)\n",
    "# The preprocessing runs through, which means is_available should be True\n",
    "is_available = True"
   ]
  },
  {
   "cell_type": "code",
   "execution_count": 38,
   "metadata": {
    "ExecuteTime": {
     "end_time": "2024-01-10T21:40:20.595385887Z",
     "start_time": "2024-01-10T21:40:20.574630883Z"
    },
    "collapsed": false
   },
   "outputs": [
    {
     "name": "stdout",
     "output_type": "stream",
     "text": [
      "The merged dataset contains 30 samples.\n"
     ]
    }
   ],
   "source": [
    "print(f\"The merged dataset contains {len(merged_data)} samples.\")"
   ]
  },
  {
   "cell_type": "code",
   "execution_count": 39,
   "metadata": {},
   "outputs": [],
   "source": [
    "def judge_and_remove_biased_features(df, trait, trait_type):\n",
    "    assert trait_type in [\"binary\", \"continuous\"], f\"The trait must be either a binary or a continuous variable!\"\n",
    "    if trait_type == \"binary\":\n",
    "        trait_biased = judge_binary_variable_biased(df, trait)\n",
    "    else:\n",
    "        trait_biased = judge_continuous_variable_biased(df, trait)\n",
    "    if trait_biased:\n",
    "        print(f\"The distribution of the feature \\'{trait}\\' in this dataset is severely biased.\\n\")\n",
    "    else:\n",
    "        print(f\"The distribution of the feature \\'{trait}\\' in this dataset is fine.\\n\")\n",
    "    if \"Age\" in df.columns:\n",
    "        age_biased = judge_continuous_variable_biased(df, 'Age')\n",
    "        if age_biased:\n",
    "            print(f\"The distribution of the feature \\'Age\\' in this dataset is severely biased.\\n\")\n",
    "            df = df.drop(columns='Age')\n",
    "        else:\n",
    "            print(f\"The distribution of the feature \\'Age\\' in this dataset is fine.\\n\")\n",
    "    if \"Gender\" in df.columns:\n",
    "        gender_biased = judge_binary_variable_biased(df, 'Gender')\n",
    "        if gender_biased:\n",
    "            print(f\"The distribution of the feature \\'Gender\\' in this dataset is severely biased.\\n\")\n",
    "            df = df.drop(columns='Gender')\n",
    "        else:\n",
    "            print(f\"The distribution of the feature \\'Gender\\' in this dataset is fine.\\n\")\n",
    "\n",
    "    return trait_biased, df\n"
   ]
  },
  {
   "cell_type": "code",
   "execution_count": 40,
   "metadata": {},
   "outputs": [],
   "source": [
    "def judge_binary_variable_biased(dataframe, col_name, min_proportion=0.1, min_num=5):\n",
    "    \"\"\"\n",
    "    Check if the distribution of a binary variable in the dataset is too biased to be usable for analysis\n",
    "    :param dataframe:\n",
    "    :param col_name:\n",
    "    :param min_proportion:\n",
    "    :param min_num:\n",
    "    :return:\n",
    "    \"\"\"\n",
    "    label_counter = dataframe[col_name].value_counts()\n",
    "    total_samples = len(dataframe)\n",
    "    rare_label_num = label_counter.min()\n",
    "    rare_label = label_counter.idxmin()\n",
    "    rare_label_proportion = rare_label_num / total_samples\n",
    "\n",
    "    print(\n",
    "        f\"For the feature \\'{col_name}\\', the least common label is '{rare_label}' with {rare_label_num} occurrences. This represents {rare_label_proportion:.2%} of the dataset.\")\n",
    "\n",
    "    biased = (len(label_counter) < 2) or ((rare_label_proportion < min_proportion) and (rare_label_num < min_num))\n",
    "    return bool(biased)"
   ]
  },
  {
   "cell_type": "code",
   "execution_count": 41,
   "metadata": {},
   "outputs": [],
   "source": [
    "def judge_continuous_variable_biased(dataframe, col_name):\n",
    "    \"\"\"Check if the distribution of a continuous variable in the dataset is too biased to be usable for analysis.\n",
    "    As a starting point, we consider it biased if all values are the same. For the next step, maybe ask GPT to judge\n",
    "    based on quartile statistics combined with its common sense knowledge about this feature.\n",
    "    \"\"\"\n",
    "    quartiles = dataframe[col_name].quantile([0.25, 0.5, 0.75])\n",
    "    min_value = dataframe[col_name].min()\n",
    "    max_value = dataframe[col_name].max()\n",
    "\n",
    "    # Printing quartile information\n",
    "    print(f\"Quartiles for '{col_name}':\")\n",
    "    print(f\"  25%: {quartiles[0.25]}\")\n",
    "    print(f\"  50% (Median): {quartiles[0.5]}\")\n",
    "    print(f\"  75%: {quartiles[0.75]}\")\n",
    "    print(f\"Min: {min_value}\")\n",
    "    print(f\"Max: {max_value}\")\n",
    "\n",
    "    biased = min_value == max_value\n",
    "\n",
    "    return bool(biased)"
   ]
  },
  {
   "cell_type": "code",
   "execution_count": 42,
   "metadata": {
    "ExecuteTime": {
     "end_time": "2024-01-10T21:40:20.595934649Z",
     "start_time": "2024-01-10T21:40:20.580408525Z"
    },
    "collapsed": false
   },
   "outputs": [
    {
     "name": "stdout",
     "output_type": "stream",
     "text": [
      "For the feature 'Cardiovascular Disease', the least common label is '1.0' with 3 occurrences. This represents 10.00% of the dataset.\n",
      "The distribution of the feature 'Cardiovascular Disease' in this dataset is fine.\n",
      "\n"
     ]
    },
    {
     "data": {
      "text/plain": [
       "False"
      ]
     },
     "execution_count": 42,
     "metadata": {},
     "output_type": "execute_result"
    }
   ],
   "source": [
    "is_trait_biased, merged_data = judge_and_remove_biased_features(merged_data, TRAIT, trait_type=trait_type)\n",
    "is_trait_biased"
   ]
  },
  {
   "cell_type": "code",
   "execution_count": 43,
   "metadata": {},
   "outputs": [],
   "source": [
    "def save_cohort_info(cohort: str, info_path: str, is_available: bool, is_biased: Optional[bool] = None,\n",
    "                     df: Optional[pd.DataFrame] = None, note: str = '') -> None:\n",
    "    \"\"\"\n",
    "    Add or update information about the usability and quality of a dataset for statistical analysis.\n",
    "\n",
    "    Parameters:\n",
    "    cohort (str): A unique identifier for the dataset.\n",
    "    info_path (str): File path to the JSON file where records are stored.\n",
    "    is_available (bool): Indicates whether both the genetic data and trait data are available in the dataset, and can be\n",
    "     preprocessed into a dataframe.\n",
    "    is_biased (bool, optional): Indicates whether the dataset is too biased to be usable.\n",
    "        Required if `is_available` is True.\n",
    "    df (pandas.DataFrame, optional): The preprocessed dataset. Required if `is_available` is True.\n",
    "    note (str, optional): Additional notes about the dataset.\n",
    "\n",
    "    Returns:\n",
    "    None: The function does not return a value but updates or creates a record in the specified JSON file.\n",
    "    \"\"\"\n",
    "    if is_available:\n",
    "        assert (df is not None) and (is_biased is not None), \"'df' and 'is_biased' should be provided if this cohort \" \\\n",
    "                                                             \"is relevant.\"\n",
    "    is_usable = is_available and (not is_biased)\n",
    "    new_record = {\"is_usable\": is_usable,\n",
    "                  \"is_available\": is_available,\n",
    "                  \"is_biased\": is_biased if is_available else None,\n",
    "                  \"has_age\": \"Age\" in df.columns if is_available else None,\n",
    "                  \"has_gender\": \"Gender\" in df.columns if is_available else None,\n",
    "                  \"sample_size\": len(df) if is_available else None,\n",
    "                  \"note\": note}\n",
    "    \n",
    "    if not os.path.exists(info_path):\n",
    "        with open(info_path, 'w') as file:\n",
    "            json.dump({}, file)\n",
    "        print(f\"A new JSON file was created at: {info_path}\")\n",
    "\n",
    "    with open(info_path, \"r\") as file:\n",
    "        records = json.load(file)\n",
    "    records[cohort] = new_record\n",
    "\n",
    "    temp_path = info_path + \".tmp\"\n",
    "    try:\n",
    "        with open(temp_path, 'w') as file:\n",
    "            json.dump(records, file)\n",
    "        os.replace(temp_path, info_path)\n",
    "\n",
    "    except Exception as e:\n",
    "        print(f\"An error occurred: {e}\")\n",
    "        if os.path.exists(temp_path):\n",
    "            os.remove(temp_path)\n",
    "        raise"
   ]
  },
  {
   "cell_type": "code",
   "execution_count": 44,
   "metadata": {
    "ExecuteTime": {
     "end_time": "2024-01-10T21:40:20.596022151Z",
     "start_time": "2024-01-10T21:40:20.588443384Z"
    },
    "collapsed": false
   },
   "outputs": [],
   "source": [
    "import json\n",
    "if is_available:\n",
    "    save_cohort_info(cohort, JSON_PATH, is_available, is_trait_biased, merged_data, note='')\n",
    "else:\n",
    "    save_cohort_info(cohort, JSON_PATH, is_available)"
   ]
  },
  {
   "cell_type": "code",
   "execution_count": 45,
   "metadata": {
    "ExecuteTime": {
     "end_time": "2024-01-10T21:40:20.681345468Z",
     "start_time": "2024-01-10T21:40:20.591286171Z"
    },
    "collapsed": false
   },
   "outputs": [],
   "source": [
    "merged_data.head()\n",
    "if not is_trait_biased:\n",
    "    merged_data.to_csv(os.path.join(OUTPUT_DIR, cohort + '.csv'), index=False)"
   ]
  },
  {
   "cell_type": "markdown",
   "metadata": {
    "ExecuteTime": {
     "end_time": "2023-12-31T03:58:22.271683755Z",
     "start_time": "2023-12-31T03:58:22.246557674Z"
    },
    "id": "-MTPhRGxJV7I"
   },
   "source": [
    "### 3. Do regression & Cross Validation"
   ]
  },
  {
   "cell_type": "code",
   "execution_count": 46,
   "metadata": {},
   "outputs": [],
   "source": [
    "def read_json_to_dataframe(json_file: str) -> pd.DataFrame:\n",
    "    \"\"\"\n",
    "    Reads a JSON file and converts it into a pandas DataFrame.\n",
    "\n",
    "    Args:\n",
    "    json_file (str): The path to the JSON file containing the data.\n",
    "\n",
    "    Returns:\n",
    "    DataFrame: A pandas DataFrame with the JSON data.\n",
    "    \"\"\"\n",
    "    with open(json_file, 'r') as file:\n",
    "        data = json.load(file)\n",
    "    return pd.DataFrame.from_dict(data, orient='index').reset_index().rename(columns={'index': 'cohort_id'})"
   ]
  },
  {
   "cell_type": "code",
   "execution_count": 47,
   "metadata": {},
   "outputs": [],
   "source": [
    "def filter_and_rank_cohorts(json_file: str, condition: Union[str, None] = None) -> Tuple[\n",
    "    Union[str, None], pd.DataFrame]:\n",
    "    \"\"\"\n",
    "    Reads a JSON file, filters cohorts based on usability and an optional condition, then ranks them by sample size.\n",
    "\n",
    "    Args:\n",
    "    json_file (str): The path to the JSON file containing the data.\n",
    "    condition (str, optional): An additional condition for filtering. If None, only 'is_usable' is considered.\n",
    "\n",
    "    Returns:\n",
    "    Tuple: A tuple containing the best cohort ID (str or None if no suitable cohort is found) and\n",
    "           the filtered and ranked DataFrame.\n",
    "    \"\"\"\n",
    "    # Read the JSON file into a DataFrame\n",
    "    df = read_json_to_dataframe(json_file)\n",
    "\n",
    "    if condition:\n",
    "        filtered_df = df[(df['is_usable'] == True) & (df[condition] == True)]\n",
    "    else:\n",
    "        filtered_df = df[df['is_usable'] == True]\n",
    "\n",
    "    ranked_df = filtered_df.sort_values(by='sample_size', ascending=False)\n",
    "    best_cohort_id = ranked_df.iloc[0]['cohort_id'] if not ranked_df.empty else None\n",
    "\n",
    "    return best_cohort_id, ranked_df\n"
   ]
  },
  {
   "cell_type": "code",
   "execution_count": 48,
   "metadata": {
    "ExecuteTime": {
     "end_time": "2024-01-10T21:40:20.694597045Z",
     "start_time": "2024-01-10T21:40:20.642161512Z"
    },
    "collapsed": false
   },
   "outputs": [
    {
     "data": {
      "text/html": [
       "<div>\n",
       "<style scoped>\n",
       "    .dataframe tbody tr th:only-of-type {\n",
       "        vertical-align: middle;\n",
       "    }\n",
       "\n",
       "    .dataframe tbody tr th {\n",
       "        vertical-align: top;\n",
       "    }\n",
       "\n",
       "    .dataframe thead th {\n",
       "        text-align: right;\n",
       "    }\n",
       "</style>\n",
       "<table border=\"1\" class=\"dataframe\">\n",
       "  <thead>\n",
       "    <tr style=\"text-align: right;\">\n",
       "      <th></th>\n",
       "      <th>cohort_id</th>\n",
       "      <th>is_usable</th>\n",
       "      <th>is_available</th>\n",
       "      <th>is_biased</th>\n",
       "      <th>has_age</th>\n",
       "      <th>has_gender</th>\n",
       "      <th>sample_size</th>\n",
       "      <th>note</th>\n",
       "    </tr>\n",
       "  </thead>\n",
       "  <tbody>\n",
       "    <tr>\n",
       "      <th>0</th>\n",
       "      <td>GSE218923</td>\n",
       "      <td>True</td>\n",
       "      <td>True</td>\n",
       "      <td>False</td>\n",
       "      <td>False</td>\n",
       "      <td>False</td>\n",
       "      <td>30</td>\n",
       "      <td></td>\n",
       "    </tr>\n",
       "  </tbody>\n",
       "</table>\n",
       "</div>"
      ],
      "text/plain": [
       "   cohort_id  is_usable  is_available  is_biased  has_age  has_gender  \\\n",
       "0  GSE218923       True          True      False    False       False   \n",
       "\n",
       "   sample_size note  \n",
       "0           30       "
      ]
     },
     "execution_count": 48,
     "metadata": {},
     "output_type": "execute_result"
    }
   ],
   "source": [
    "# Check the information of usable cohorts\n",
    "best_cohort, ranked_df = filter_and_rank_cohorts(JSON_PATH)\n",
    "ranked_df"
   ]
  },
  {
   "cell_type": "code",
   "execution_count": 49,
   "metadata": {
    "ExecuteTime": {
     "end_time": "2024-01-10T21:40:20.907514912Z",
     "start_time": "2024-01-10T21:40:20.907178250Z"
    },
    "collapsed": false
   },
   "outputs": [],
   "source": [
    "# If both age and gender have available cohorts, select 'age' as the condition.\n",
    "condition = 'Age'\n",
    "filter_column = 'has_' + condition.lower()\n",
    "\n",
    "condition_best_cohort, condition_ranked_df = filter_and_rank_cohorts(JSON_PATH, filter_column)\n",
    "condition_best_cohort"
   ]
  },
  {
   "cell_type": "code",
   "execution_count": 50,
   "metadata": {
    "ExecuteTime": {
     "end_time": "2024-01-10T21:40:21.120075804Z",
     "start_time": "2024-01-10T21:40:21.109376558Z"
    },
    "collapsed": false
   },
   "outputs": [
    {
     "data": {
      "text/html": [
       "<div>\n",
       "<style scoped>\n",
       "    .dataframe tbody tr th:only-of-type {\n",
       "        vertical-align: middle;\n",
       "    }\n",
       "\n",
       "    .dataframe tbody tr th {\n",
       "        vertical-align: top;\n",
       "    }\n",
       "\n",
       "    .dataframe thead th {\n",
       "        text-align: right;\n",
       "    }\n",
       "</style>\n",
       "<table border=\"1\" class=\"dataframe\">\n",
       "  <thead>\n",
       "    <tr style=\"text-align: right;\">\n",
       "      <th></th>\n",
       "      <th>cohort_id</th>\n",
       "      <th>is_usable</th>\n",
       "      <th>is_available</th>\n",
       "      <th>is_biased</th>\n",
       "      <th>has_age</th>\n",
       "      <th>has_gender</th>\n",
       "      <th>sample_size</th>\n",
       "      <th>note</th>\n",
       "    </tr>\n",
       "  </thead>\n",
       "  <tbody>\n",
       "  </tbody>\n",
       "</table>\n",
       "</div>"
      ],
      "text/plain": [
       "Empty DataFrame\n",
       "Columns: [cohort_id, is_usable, is_available, is_biased, has_age, has_gender, sample_size, note]\n",
       "Index: []"
      ]
     },
     "execution_count": 50,
     "metadata": {},
     "output_type": "execute_result"
    }
   ],
   "source": [
    "condition_ranked_df.head()"
   ]
  },
  {
   "cell_type": "code",
   "execution_count": 51,
   "metadata": {
    "ExecuteTime": {
     "end_time": "2024-01-10T21:40:27.295070023Z",
     "start_time": "2024-01-10T21:40:21.338515691Z"
    },
    "collapsed": false
   },
   "outputs": [
    {
     "ename": "TypeError",
     "evalue": "unsupported operand type(s) for +: 'NoneType' and 'str'",
     "output_type": "error",
     "traceback": [
      "\u001b[0;31m---------------------------------------------------------------------------\u001b[0m",
      "\u001b[0;31mTypeError\u001b[0m                                 Traceback (most recent call last)",
      "Input \u001b[0;32mIn [51]\u001b[0m, in \u001b[0;36m<cell line: 1>\u001b[0;34m()\u001b[0m\n\u001b[0;32m----> 1\u001b[0m merged_data \u001b[38;5;241m=\u001b[39m pd\u001b[38;5;241m.\u001b[39mread_csv(os\u001b[38;5;241m.\u001b[39mpath\u001b[38;5;241m.\u001b[39mjoin(OUTPUT_DIR, \u001b[43mcondition_best_cohort\u001b[49m\u001b[43m \u001b[49m\u001b[38;5;241;43m+\u001b[39;49m\u001b[43m \u001b[49m\u001b[38;5;124;43m'\u001b[39;49m\u001b[38;5;124;43m.csv\u001b[39;49m\u001b[38;5;124;43m'\u001b[39;49m))\n\u001b[1;32m      2\u001b[0m merged_data\u001b[38;5;241m.\u001b[39mhead()\n",
      "\u001b[0;31mTypeError\u001b[0m: unsupported operand type(s) for +: 'NoneType' and 'str'"
     ]
    }
   ],
   "source": [
    "merged_data = pd.read_csv(os.path.join(OUTPUT_DIR, condition_best_cohort + '.csv'))\n",
    "merged_data.head()"
   ]
  },
  {
   "cell_type": "code",
   "execution_count": null,
   "metadata": {
    "ExecuteTime": {
     "end_time": "2024-01-10T21:40:27.358779256Z",
     "start_time": "2024-01-10T21:40:27.271337819Z"
    },
    "collapsed": false
   },
   "outputs": [],
   "source": [
    "# Remove the other condition to prevent interference.\n",
    "merged_data = merged_data.drop(columns=['Gender'], errors='ignore').astype('float')\n",
    "\n",
    "X = merged_data.drop(columns=[TRAIT, condition]).values\n",
    "Y = merged_data[TRAIT].values\n",
    "Z = merged_data[condition].values"
   ]
  },
  {
   "cell_type": "markdown",
   "metadata": {
    "collapsed": false
   },
   "source": [
    "Select the appropriate regression model depending on whether the dataset shows batch effect."
   ]
  },
  {
   "cell_type": "code",
   "execution_count": null,
   "metadata": {},
   "outputs": [],
   "source": [
    "def detect_batch_effect(X):\n",
    "    \"\"\"\n",
    "    Detect potential batch effects in a dataset using eigenvalues of XX^T.\n",
    "\n",
    "    Args:\n",
    "    X (numpy.ndarray): A feature matrix with shape (n_samples, n_features).\n",
    "\n",
    "    Returns:\n",
    "    bool: True if a potential batch effect is detected, False otherwise.\n",
    "    \"\"\"\n",
    "    n_samples = X.shape[0]\n",
    "\n",
    "    # Computing XX^T\n",
    "    XXt = np.dot(X, X.T)\n",
    "\n",
    "    # Compute the eigenvalues of XX^T\n",
    "    eigen_values = np.linalg.eigvalsh(XXt)  # Using eigvalsh since XX^T is symmetric\n",
    "    eigen_values = sorted(eigen_values, reverse=True)\n",
    "\n",
    "    # Check for large gaps in the eigenvalues\n",
    "    for i in range(len(eigen_values) - 1):\n",
    "        gap = eigen_values[i] - eigen_values[i + 1]\n",
    "        if gap > 1 / n_samples:  # You may need to adjust this threshold\n",
    "            return True\n",
    "\n",
    "    return False"
   ]
  },
  {
   "cell_type": "code",
   "execution_count": null,
   "metadata": {
    "ExecuteTime": {
     "end_time": "2024-01-10T21:40:27.546590575Z",
     "start_time": "2024-01-10T21:40:27.298495045Z"
    },
    "collapsed": false
   },
   "outputs": [],
   "source": [
    "import numpy as np\n",
    "has_batch_effect = detect_batch_effect(X)\n",
    "has_batch_effect"
   ]
  },
  {
   "cell_type": "code",
   "execution_count": null,
   "metadata": {},
   "outputs": [],
   "source": [
    "from sparse_lmm import VariableSelection\n"
   ]
  },
  {
   "cell_type": "code",
   "execution_count": null,
   "metadata": {
    "ExecuteTime": {
     "end_time": "2024-01-10T21:40:27.546733889Z",
     "start_time": "2024-01-10T21:40:27.535249532Z"
    },
    "collapsed": false
   },
   "outputs": [],
   "source": [
    "# Select appropriate models based on whether the dataset has batch effect.\n",
    "# We experiment on two models for each branch. We will decide which one to choose later.\n",
    "\n",
    "if has_batch_effect:\n",
    "    model_constructor1 = VariableSelection\n",
    "    model_params1 = {'modified': True, 'lamda': 3e-4}\n",
    "    model_constructor2 = VariableSelection\n",
    "    model_params2 = {'modified': False}\n",
    "else:\n",
    "    model_constructor1 = Lasso\n",
    "    model_params1 = {'alpha': 1.0, 'random_state': 42}\n",
    "    model_constructor2 = VariableSelection\n",
    "    model_params2 = {'modified': False}"
   ]
  },
  {
   "cell_type": "code",
   "execution_count": null,
   "metadata": {},
   "outputs": [],
   "source": [
    "def cross_validation(X, Y, Z, model_constructor, model_params, k=5, target_type='binary'):\n",
    "    assert target_type in ['binary', 'continuous'], \"The target type must be chosen from 'binary' or 'continuous'\"\n",
    "    indices = np.arange(X.shape[0])\n",
    "    np.random.shuffle(indices)\n",
    "\n",
    "    fold_size = len(X) // k\n",
    "    performances = []\n",
    "\n",
    "    for i in range(k):\n",
    "        # Split data into train and test based on the current fold\n",
    "        test_indices = indices[i * fold_size: (i + 1) * fold_size]\n",
    "        train_indices = np.setdiff1d(indices, test_indices)\n",
    "\n",
    "        X_train, X_test = X[train_indices], X[test_indices]\n",
    "        Y_train, Y_test = Y[train_indices], Y[test_indices]\n",
    "        Z_train, Z_test = Z[train_indices], Z[test_indices]\n",
    "\n",
    "        normalized_X_train, normalized_X_test = normalize_data(X_train, X_test)\n",
    "        normalized_Z_train, normalized_Z_test = normalize_data(Z_train, Z_test)\n",
    "\n",
    "        # model = model_constructor(**model_params)\n",
    "        model = ResidualizationRegressor(model_constructor, model_params)\n",
    "        model.fit(normalized_X_train, Y_train, normalized_Z_train)\n",
    "        predictions = model.predict(normalized_X_test, normalized_Z_test)\n",
    "\n",
    "        if target_type == 'binary':\n",
    "            predictions = (predictions > 0.5).astype(int)\n",
    "            Y_test = (Y_test > 0.5).astype(int)\n",
    "            performance = accuracy_score(Y_test, predictions)\n",
    "        elif target_type == 'continuous':\n",
    "            performance = mean_squared_error(Y_test, predictions)\n",
    "\n",
    "        performances.append(performance)\n",
    "\n",
    "    cv_mean = np.mean(performances)\n",
    "    cv_std = np.std(performances)\n",
    "\n",
    "    if target_type == 'binary':\n",
    "        print(f'The cross-validation accuracy is {(cv_mean * 100):.2f}% ± {(cv_std * 100):.2f}%')\n",
    "    else:\n",
    "        print(f'The cross-validation MSE is {(cv_mean * 100):.2f} ± {(cv_std * 100):.2f}')\n",
    "\n",
    "    return cv_mean, cv_std"
   ]
  },
  {
   "cell_type": "code",
   "execution_count": null,
   "metadata": {},
   "outputs": [],
   "source": [
    "def normalize_data(X_train, X_test=None):\n",
    "    \"\"\"Compute the mean and standard deviation statistics of the training data, use them to normalize the training data,\n",
    "    and optionally the test data\"\"\"\n",
    "    mean = np.mean(X_train, axis=0)\n",
    "    std = np.std(X_train, axis=0)\n",
    "\n",
    "    # Handling columns with std = 0\n",
    "    std_no_zero = np.where(std == 0, 1, std)\n",
    "\n",
    "    # Normalize X_train\n",
    "    X_train_normalized = (X_train - mean) / std_no_zero\n",
    "    # Set normalized values to 0 where std was 0\n",
    "    X_train_normalized[:, std == 0] = 0\n",
    "\n",
    "    if X_test is not None:\n",
    "        X_test_normalized = (X_test - mean) / std_no_zero\n",
    "        X_test_normalized[:, std == 0] = 0\n",
    "    else:\n",
    "        X_test_normalized = None\n",
    "\n",
    "    return X_train_normalized, X_test_normalized"
   ]
  },
  {
   "cell_type": "code",
   "execution_count": null,
   "metadata": {},
   "outputs": [],
   "source": [
    "class ResidualizationRegressor:\n",
    "    def __init__(self, regression_model_constructor, params=None):\n",
    "        if params is None:\n",
    "            params = {}\n",
    "        self.regression_model = regression_model_constructor(**params)\n",
    "        self.beta_Z = None  # Coefficients for regression of Y on Z\n",
    "        self.beta_X = None  # Coefficients for regression of residual on X\n",
    "        self.neg_log_p_values = None  # Negative logarithm of p-values\n",
    "        self.p_values = None  # Actual p-values\n",
    "\n",
    "    def _reshape_data(self, data):\n",
    "        \"\"\"\n",
    "        Reshape the data to ensure it's in the correct format (2D array).\n",
    "\n",
    "        :param data: The input data (can be 1D or 2D array).\n",
    "        :return: Reshaped 2D array.\n",
    "        \"\"\"\n",
    "        if data.ndim == 1:\n",
    "            return data.reshape(-1, 1)\n",
    "        return data\n",
    "\n",
    "    def _reshape_output(self, data):\n",
    "        \"\"\"\n",
    "        Reshape the output data to ensure it's in the correct format (1D array).\n",
    "\n",
    "        :param data: The output data (can be 1D or 2D array).\n",
    "        :return: Reshaped 1D array.\n",
    "        \"\"\"\n",
    "        if data.ndim == 2 and data.shape[1] == 1:\n",
    "            return data.ravel()\n",
    "        return data\n",
    "    \n",
    "    def fit(self, X, Y, Z):\n",
    "        X = self._reshape_data(X)\n",
    "        Y = self._reshape_data(Y)\n",
    "        Z = self._reshape_data(Z)\n",
    "\n",
    "        # Step 1: Linear regression of Y on Z\n",
    "        Z_ones = np.column_stack((np.ones(Z.shape[0]), Z))\n",
    "        self.beta_Z = np.linalg.pinv(Z_ones.T @ Z_ones) @ Z_ones.T @ Y\n",
    "        Y_hat = Z_ones @ self.beta_Z\n",
    "        e_Y = Y - Y_hat  # Residual of Y\n",
    "\n",
    "        # Step 2: Regress the residual on X using the included regression model\n",
    "        self.regression_model.fit(X, e_Y)\n",
    "\n",
    "        # Obtain coefficients from the regression model\n",
    "        if hasattr(self.regression_model, 'coef_'):\n",
    "            self.beta_X = self.regression_model.coef_\n",
    "        elif hasattr(self.regression_model, 'getBeta'):\n",
    "            beta_output = self.regression_model.getBeta()\n",
    "            self.beta_X = self._reshape_output(beta_output)\n",
    "\n",
    "        # Obtain negative logarithm of p-values, if available\n",
    "        if hasattr(self.regression_model, 'getNegLogP'):\n",
    "            neg_log_p_output = self.regression_model.getNegLogP()\n",
    "            if neg_log_p_output is not None:\n",
    "                self.neg_log_p_values = self._reshape_output(neg_log_p_output)\n",
    "                self.p_values = np.exp(-self.neg_log_p_values)\n",
    "                # Concatenate the p-values of Z and X. The p-values of Z were not computed, mark with NaN.\n",
    "                p_values_Z = np.full(Z.shape[1], np.nan)\n",
    "                self.p_values = np.concatenate((p_values_Z, self.p_values))\n",
    "    def predict(self, X, Z):\n",
    "        X = self._reshape_data(X)\n",
    "        Z = self._reshape_data(Z)\n",
    "\n",
    "        Z_ones = np.column_stack((np.ones(Z.shape[0]), Z))\n",
    "        ZX = np.column_stack((Z, X))\n",
    "        combined_beta = np.concatenate((self.beta_Z[1:].ravel(), self.beta_X.ravel()))\n",
    "        return ZX @ combined_beta + self.beta_Z[0]\n",
    "\n",
    "    def get_coefficients(self):\n",
    "        return np.concatenate((self.beta_Z[1:].ravel(), self.beta_X.ravel()))\n",
    "\n",
    "    def get_p_values(self):\n",
    "        return self.p_values\n"
   ]
  },
  {
   "cell_type": "code",
   "execution_count": null,
   "metadata": {},
   "outputs": [],
   "source": [
    "from sklearn.metrics import accuracy_score, mean_squared_error\n"
   ]
  },
  {
   "cell_type": "code",
   "execution_count": null,
   "metadata": {
    "ExecuteTime": {
     "end_time": "2024-01-10T21:40:30.570471636Z",
     "start_time": "2024-01-10T21:40:27.546295159Z"
    },
    "collapsed": false
   },
   "outputs": [],
   "source": [
    "trait_type = 'binary'  # Remember to set this properly, either 'binary' or 'continuous'\n",
    "cv_mean1, cv_std1 = cross_validation(X, Y, Z, model_constructor1, model_params1, target_type=trait_type)"
   ]
  },
  {
   "cell_type": "code",
   "execution_count": null,
   "metadata": {
    "ExecuteTime": {
     "end_time": "2024-01-10T21:40:47.575878022Z",
     "start_time": "2024-01-10T21:40:30.570907992Z"
    },
    "collapsed": false
   },
   "outputs": [],
   "source": [
    "cv_mean2, cv_std2 = cross_validation(X, Y, Z, model_constructor2, model_params2, target_type=trait_type)"
   ]
  },
  {
   "cell_type": "code",
   "execution_count": null,
   "metadata": {
    "ExecuteTime": {
     "end_time": "2024-01-10T21:40:51.663737008Z",
     "start_time": "2024-01-10T21:40:47.576021186Z"
    },
    "collapsed": false
   },
   "outputs": [],
   "source": [
    "normalized_X, _ = normalize_data(X)\n",
    "normalized_Z, _ = normalize_data(Z)\n",
    "\n",
    "# Train regression model on the whole dataset to identify significant genes\n",
    "model1 = ResidualizationRegressor(model_constructor1, model_params1)\n",
    "model1.fit(normalized_X, Y, normalized_Z)\n",
    "\n",
    "model2 = ResidualizationRegressor(model_constructor2, model_params2)\n",
    "model2.fit(normalized_X, Y, normalized_Z)"
   ]
  },
  {
   "cell_type": "markdown",
   "metadata": {
    "ExecuteTime": {
     "end_time": "2023-10-14T04:50:59.072075075Z",
     "start_time": "2023-10-14T04:50:38.739499998Z"
    },
    "id": "EjJrxbvb4nlj"
   },
   "source": [
    "### 4. Discussion and report"
   ]
  },
  {
   "cell_type": "code",
   "execution_count": null,
   "metadata": {},
   "outputs": [],
   "source": [
    "def interpret_result(model: Any, feature_names: List[str], trait: str, condition: str,\n",
    "                     threshold: float = 0.05, save_output: bool = True,\n",
    "                     output_dir: str = './output', model_id: int = 1) -> None:\n",
    "    \"\"\"This function interprets and reports the result of a trained linear regression model, where the regressor\n",
    "    consists of one variable about condition and multiple variables about genetic factors.\n",
    "    The function extracts coefficients and p-values from the model, and identifies the significant genes based on\n",
    "    p-values or non-zero coefficients, depending on the availability of p-values.\n",
    "\n",
    "    Parameters:\n",
    "    model (Any): The trained regression Model.\n",
    "    feature_names (List[str]): A list of feature names corresponding to the model's coefficients.\n",
    "    trait (str): The target trait of interest.\n",
    "    condition (str): The specific condition to examine within the model.\n",
    "    threshold (float): Significance level for p-value correction. Defaults to 0.05.\n",
    "    save_output (bool): Flag to determine whether to save the output to a file. Defaults to True.\n",
    "    output_dir (str): Directory path where output files are saved. Defaults to './output'.\n",
    "    model_id (int): The index of the model, 1 or 2.\n",
    "\n",
    "    Returns:\n",
    "    None: This function does not return anything but prints and optionally saves the output.\n",
    "    \"\"\"\n",
    "    coefficients = model.get_coefficients().reshape(-1).tolist()\n",
    "    p_values = model.get_p_values()\n",
    "    if p_values is None:\n",
    "        regression_df = pd.DataFrame({\n",
    "            'Variable': feature_names,\n",
    "            'Coefficient': coefficients\n",
    "        })\n",
    "    else:\n",
    "        regression_df = pd.DataFrame({\n",
    "            'Variable': feature_names,\n",
    "            'Coefficient': coefficients,\n",
    "            'p_value': p_values.reshape(-1).tolist()\n",
    "        })\n",
    "    condition_effect = regression_df[regression_df['Variable'] == condition].iloc[0]\n",
    "\n",
    "    print(f\"Effect of the condition on the target variable:\")\n",
    "    print(f\"Variable: {condition}\")\n",
    "    print(f\"Coefficient: {condition_effect['Coefficient']:.4f}\")\n",
    "    gene_regression_df = regression_df[regression_df['Variable'] != condition]\n",
    "    if p_values is None:\n",
    "        gene_regression_df['Absolute Coefficient'] = gene_regression_df['Coefficient'].abs()\n",
    "        significant_genes = gene_regression_df[gene_regression_df['Coefficient'] != 0]\n",
    "        significant_genes_sorted = significant_genes.sort_values(by='Absolute Coefficient', ascending=False)\n",
    "        print(\n",
    "            f\"Found {len(significant_genes_sorted)} genes with non-zero coefficients associated with the trait '{trait}' \"\n",
    "            f\"conditional on the factor '{condition}'. These genes are identified as significant based on the regression model.\")\n",
    "    else:\n",
    "        # Apply the Benjamini-Hochberg correction, to get the corrected p-values\n",
    "        corrected_p_values = multipletests(gene_regression_df['p_value'], alpha=threshold, method='fdr_bh')[1]\n",
    "        gene_regression_df.loc[:, 'corrected_p_value'] = corrected_p_values\n",
    "        significant_genes = gene_regression_df.loc[gene_regression_df['corrected_p_value'] < threshold]\n",
    "        significant_genes_sorted = significant_genes.sort_values('corrected_p_value')\n",
    "        print(\n",
    "            f\"Found {len(significant_genes_sorted)} significant genes associated with the trait '{trait}' conditional on \"\n",
    "            f\"the factor '{condition}', with corrected p-value < {threshold}:\")\n",
    "\n",
    "    print(significant_genes_sorted.to_string(index=False))\n",
    "\n",
    "    # Optionally, save this to a CSV file\n",
    "    if save_output:\n",
    "        significant_genes_sorted.to_csv(\n",
    "            os.path.join(output_dir, f'significant_genes_condition_{condition}_{model_id}.csv'), index=False)"
   ]
  },
  {
   "cell_type": "code",
   "execution_count": null,
   "metadata": {
    "ExecuteTime": {
     "end_time": "2024-01-10T21:40:51.673565176Z",
     "start_time": "2024-01-10T21:40:51.665291317Z"
    },
    "collapsed": false
   },
   "outputs": [],
   "source": [
    "feature_cols = merged_data.columns.tolist()\n",
    "feature_cols.remove(TRAIT)\n",
    "\n",
    "threshold = 0.05\n",
    "interpret_result(model1, feature_cols, TRAIT, condition, threshold=threshold, save_output=True,\n",
    "                 output_dir=OUTPUT_DIR, model_id=1)"
   ]
  },
  {
   "cell_type": "code",
   "execution_count": null,
   "metadata": {},
   "outputs": [],
   "source": [
    "from statsmodels.stats.multitest import multipletests\n"
   ]
  },
  {
   "cell_type": "code",
   "execution_count": null,
   "metadata": {
    "ExecuteTime": {
     "end_time": "2024-01-10T21:40:51.730825913Z",
     "start_time": "2024-01-10T21:40:51.675049728Z"
    },
    "collapsed": false
   },
   "outputs": [],
   "source": [
    "interpret_result(model2, feature_cols, TRAIT, condition, threshold=threshold, save_output=True,\n",
    "                 output_dir=OUTPUT_DIR, model_id=2)"
   ]
  },
  {
   "cell_type": "code",
   "execution_count": null,
   "metadata": {
    "collapsed": false
   },
   "outputs": [],
   "source": []
  }
 ],
 "metadata": {
  "colab": {
   "provenance": []
  },
  "kernelspec": {
   "display_name": "Python 3 (ipykernel)",
   "language": "python",
   "name": "python3"
  },
  "language_info": {
   "codemirror_mode": {
    "name": "ipython",
    "version": 3
   },
   "file_extension": ".py",
   "mimetype": "text/x-python",
   "name": "python",
   "nbconvert_exporter": "python",
   "pygments_lexer": "ipython3",
   "version": "3.11.8"
  }
 },
 "nbformat": 4,
 "nbformat_minor": 0
}
