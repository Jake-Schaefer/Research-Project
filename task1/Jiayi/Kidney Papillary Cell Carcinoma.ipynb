{
 "cells": [
  {
   "cell_type": "markdown",
   "metadata": {
    "collapsed": false
   },
   "source": [
    "# Gold standard curation: Preprocessing and single-step regression"
   ]
  },
  {
   "cell_type": "markdown",
   "metadata": {
    "collapsed": false
   },
   "source": [
    "In this stage of gold standard curation, we will do the data preprocessing, selection, and single-step regression for the 153 traits in our question set. This file shows the reference steps using the trait \"Breast Cancer\" as an example. The workflow consists of the following steps:\n",
    "\n",
    "1. Preprocess all the cohorts related to this trait. Each cohort should be converted to a tabular form and saved to a csv file, with columns being genetic factors, the trait, and age, gender if available;\n",
    "2. If there exists at least one cohort with age or gender information, conduct regression analysis with genetic features together with age or gender as the regressors.\n"
   ]
  },
  {
   "cell_type": "markdown",
   "metadata": {
    "collapsed": false
   },
   "source": [
    "# 1. Basic setup"
   ]
  },
  {
   "cell_type": "code",
   "execution_count": 1,
   "metadata": {
    "ExecuteTime": {
     "end_time": "2024-01-10T21:37:25.927828954Z",
     "start_time": "2024-01-10T21:37:25.311064788Z"
    },
    "collapsed": false
   },
   "outputs": [
    {
     "name": "stdout",
     "output_type": "stream",
     "text": [
      "utils.py has been loaded\n"
     ]
    }
   ],
   "source": [
    "import os\n",
    "import sys\n",
    "\n",
    "sys.path.append('..')\n",
    "from utils import *\n",
    "\n",
    "# Set your preferred name\n",
    "USER = \"Jiayi\"\n",
    "# Set the data and output directories\n",
    "DATA_ROOT = '/Users/legion/Desktop/Courses/IS389/data'   \n",
    "OUTPUT_ROOT = '/Users/legion/Desktop/Courses/IS389/output'\n",
    "TRAIT = 'Kidney Papillary Cell Carcinoma'\n",
    "\n",
    "OUTPUT_DIR = os.path.join(OUTPUT_ROOT, USER, '-'.join(TRAIT.split()))\n",
    "JSON_PATH = os.path.join(OUTPUT_DIR, \"cohort_info.json\")\n",
    "if not os.path.exists(OUTPUT_DIR):\n",
    "    os.makedirs(OUTPUT_DIR, exist_ok=True)\n",
    "\n",
    "# Gene symbol normalization may take 1-2 minutes. You may set it to False for debugging.\n",
    "NORMALIZE_GENE = True"
   ]
  },
  {
   "cell_type": "code",
   "execution_count": null,
   "metadata": {
    "ExecuteTime": {
     "end_time": "2024-01-10T21:37:25.928143012Z",
     "start_time": "2024-01-10T21:37:25.918685567Z"
    },
    "colab": {
     "base_uri": "https://localhost:8080/"
    },
    "id": "jMTdsU43vVg3",
    "outputId": "38886111-f442-44b4-8398-96bf384d7abd"
   },
   "outputs": [],
   "source": [
    "# This cell is only for use on Google Colab. Skip it if you run your code in other environments\n",
    "\n",
    "\"\"\"import os\n",
    "from google.colab import drive\n",
    "\n",
    "drive.mount('/content/drive', force_remount=True)\n",
    "proj_dir = '/content/drive/MyDrive/AI4Science_Public'\n",
    "os.chdir(proj_dir)\"\"\""
   ]
  },
  {
   "cell_type": "markdown",
   "metadata": {
    "collapsed": false
   },
   "source": [
    "# 2. Data preprocessing and selection"
   ]
  },
  {
   "cell_type": "markdown",
   "metadata": {
    "collapsed": false
   },
   "source": [
    "## 2.1. The TCGA Xena dataset"
   ]
  },
  {
   "cell_type": "markdown",
   "metadata": {
    "collapsed": false
   },
   "source": [
    "In TCGA Xena, there is either zero or one cohort related to the trait. We search the names of subdirectories to see if any matches the trait. If a match is found, we directly obtain the file paths."
   ]
  },
  {
   "cell_type": "code",
   "execution_count": 2,
   "metadata": {
    "ExecuteTime": {
     "end_time": "2024-01-10T21:37:26.554597756Z",
     "start_time": "2024-01-10T21:37:26.530982646Z"
    },
    "collapsed": false
   },
   "outputs": [
    {
     "data": {
      "text/plain": [
       "['TCGA_Adrenocortical_Cancer_(ACC)',\n",
       " 'TCGA_Breast_Cancer_(BRCA)',\n",
       " 'TCGA_Kidney_Chromophobe_(KICH)',\n",
       " 'TCGA_Kidney_Papillary_Cell_Carcinoma_(KIRP)',\n",
       " 'TCGA_Melanoma_(SKCM)']"
      ]
     },
     "execution_count": 2,
     "metadata": {},
     "output_type": "execute_result"
    }
   ],
   "source": [
    "dataset = 'TCGA'\n",
    "dataset_dir = os.path.join(DATA_ROOT, dataset)\n",
    "os.listdir(dataset_dir)[:10]"
   ]
  },
  {
   "cell_type": "markdown",
   "metadata": {
    "collapsed": false
   },
   "source": [
    "If no match is found, jump directly to GEO in Part 2.2"
   ]
  },
  {
   "cell_type": "code",
   "execution_count": 3,
   "metadata": {
    "ExecuteTime": {
     "end_time": "2024-01-10T21:37:26.999521704Z",
     "start_time": "2024-01-10T21:37:26.987471072Z"
    },
    "collapsed": false
   },
   "outputs": [],
   "source": [
    "trait_subdir = \"TCGA_Kidney_Papillary_Cell_Carcinoma_(KIRP)\"\n",
    "cohort = 'Xena'\n",
    "# All the cancer traits in Xena are binary\n",
    "trait_type = 'binary'\n",
    "# Once a relevant cohort is found in Xena, we can generally assume the gene and clinical data are available\n",
    "is_available = True\n",
    "\n",
    "clinical_data_file = os.path.join(dataset_dir, trait_subdir, 'TCGA.KIRP.sampleMap_KIRP_clinicalMatrix')\n",
    "genetic_data_file = os.path.join(dataset_dir, trait_subdir, 'TCGA.KIRP.sampleMap_HiSeqV2_PANCAN.gz')"
   ]
  },
  {
   "cell_type": "code",
   "execution_count": 4,
   "metadata": {
    "ExecuteTime": {
     "end_time": "2024-01-10T21:37:30.180581225Z",
     "start_time": "2024-01-10T21:37:27.217363685Z"
    },
    "id": "MudwB-_iz7sc"
   },
   "outputs": [],
   "source": [
    "import pandas as pd\n",
    "\n",
    "clinical_data = pd.read_csv(clinical_data_file, sep='\\t', index_col=0)\n",
    "genetic_data = pd.read_csv(genetic_data_file, compression='gzip', sep='\\t', index_col=0)\n",
    "age_col = gender_col = None"
   ]
  },
  {
   "cell_type": "code",
   "execution_count": 5,
   "metadata": {},
   "outputs": [],
   "source": [
    "def check_rows_and_columns(dataframe, display=False):\n",
    "    \"\"\"\n",
    "    Get the lists of row names and column names of a dataset, and optionally observe them.\n",
    "    :param dataframe:\n",
    "    :param display:\n",
    "    :return:\n",
    "    \"\"\"\n",
    "    dataframe_rows = dataframe.index.tolist()\n",
    "    if display:\n",
    "        print(f\"The dataset has {len(dataframe_rows)} rows, such as {dataframe_rows[:20]}\")\n",
    "    dataframe_cols = dataframe.columns.tolist()\n",
    "    if display:\n",
    "        print(f\"\\nThe dataset has {len(dataframe_cols)} columns, such as {dataframe_cols[:20]}\")\n",
    "    return dataframe_rows, dataframe_cols"
   ]
  },
  {
   "cell_type": "code",
   "execution_count": 7,
   "metadata": {
    "ExecuteTime": {
     "end_time": "2024-01-10T21:37:30.185775284Z",
     "start_time": "2024-01-10T21:37:30.181745846Z"
    },
    "collapsed": false
   },
   "outputs": [
    {
     "data": {
      "text/plain": [
       "['_INTEGRATION',\n",
       " '_PATIENT',\n",
       " '_cohort',\n",
       " '_primary_disease',\n",
       " '_primary_site',\n",
       " 'additional_pharmaceutical_therapy',\n",
       " 'additional_radiation_therapy',\n",
       " 'additional_surgery_locoregional_procedure',\n",
       " 'additional_surgery_metastatic_procedure',\n",
       " 'age_at_initial_pathologic_diagnosis']"
      ]
     },
     "execution_count": 7,
     "metadata": {},
     "output_type": "execute_result"
    }
   ],
   "source": [
    "_, clinical_data_cols = check_rows_and_columns(clinical_data)\n",
    "clinical_data_cols[:10]"
   ]
  },
  {
   "cell_type": "markdown",
   "metadata": {
    "ExecuteTime": {
     "end_time": "2023-12-28T20:20:11.841042813Z",
     "start_time": "2023-12-28T20:20:11.834458206Z"
    },
    "collapsed": false
   },
   "source": [
    "Read all the column names in the clinical dataset, to find the columns that record information about age or gender.\n",
    "Reference prompt:"
   ]
  },
  {
   "cell_type": "code",
   "execution_count": 8,
   "metadata": {
    "ExecuteTime": {
     "end_time": "2024-01-10T21:37:30.269854441Z",
     "start_time": "2024-01-10T21:37:30.184225525Z"
    },
    "collapsed": false
   },
   "outputs": [
    {
     "data": {
      "text/plain": [
       "\"\\nBelow is a list of column names from a biomedical dataset. Please examine it and identify the columns that are likely to contain information about patients' age. Additionally, please do the same for columns that may hold data on patients' gender. Please provide your answer by strictly following this format, without redundant words:\\ncandidate_age_cols = [col_name1, col_name2, ...]\\ncandidate_gender_cols = [col_name1, col_name2, ...]\\nIf no columns match a criterion, please provide an empty list.\\n\\nColumn names:\\n['_INTEGRATION', '_PATIENT', '_cohort', '_primary_disease', '_primary_site', 'additional_pharmaceutical_therapy', 'additional_radiation_therapy', 'additional_surgery_locoregional_procedure', 'additional_surgery_metastatic_procedure', 'age_at_initial_pathologic_diagnosis', 'bcr_followup_barcode', 'bcr_patient_barcode', 'bcr_sample_barcode', 'clinical_M', 'clinical_N', 'clinical_T', 'clinical_stage', 'days_to_additional_surgery_locoregional_procedure', 'days_to_additional_surgery_metastatic_procedure', 'days_to_birth', 'days_to_collection', 'days_to_death', 'days_to_initial_pathologic_diagnosis', 'days_to_last_followup', 'days_to_new_tumor_event_after_initial_treatment', 'eastern_cancer_oncology_group', 'erythrocyte_sedimentation_rate_result', 'followup_case_report_form_submission_reason', 'followup_treatment_success', 'form_completion_date', 'gender', 'height', 'hemoglobin_result', 'histological_type', 'history_of_neoadjuvant_treatment', 'icd_10', 'icd_o_3_histology', 'icd_o_3_site', 'informed_consent_verified', 'initial_weight', 'intermediate_dimension', 'is_ffpe', 'karnofsky_performance_score', 'lactate_dehydrogenase_result', 'laterality', 'longest_dimension', 'lost_follow_up', 'lymph_node_examined_count', 'new_tumor_event_after_initial_treatment', 'number_of_lymphnodes_positive', 'number_pack_years_smoked', 'oct_embedded', 'other_dx', 'pathologic_M', 'pathologic_N', 'pathologic_T', 'pathologic_stage', 'pathology_report_file_name', 'patient_id', 'performance_status_scale_timing', 'person_neoplasm_cancer_status', 'platelet_qualitative_result', 'primary_lymph_node_presentation_assessment', 'primary_therapy_outcome_success', 'radiation_therapy', 'sample_type', 'sample_type_id', 'serum_calcium_result', 'shortest_dimension', 'stopped_smoking_year', 'system_version', 'targeted_molecular_therapy', 'tissue_prospective_collection_indicator', 'tissue_retrospective_collection_indicator', 'tissue_source_site', 'tobacco_smoking_history', 'tumor_tissue_site', 'tumor_type', 'vial_number', 'vital_status', 'weight', 'white_cell_count_result', 'year_of_initial_pathologic_diagnosis', 'year_of_tobacco_smoking_onset', '_GENOMIC_ID_TCGA_KIRP_PDMarrayCNV', '_GENOMIC_ID_TCGA_KIRP_exp_HiSeqV2_percentile', '_GENOMIC_ID_TCGA_KIRP_mutation_bcm_gene', '_GENOMIC_ID_TCGA_KIRP_PDMRNAseqCNV', '_GENOMIC_ID_TCGA_KIRP_miRNA_GA', '_GENOMIC_ID_TCGA_KIRP_mutation', '_GENOMIC_ID_TCGA_KIRP_mutation_broad_gene', '_GENOMIC_ID_TCGA_KIRP_hMethyl27', '_GENOMIC_ID_TCGA_KIRP_hMethyl450', '_GENOMIC_ID_TCGA_KIRP_mutation_curated_bcm_gene', '_GENOMIC_ID_TCGA_KIRP_RPPA', '_GENOMIC_ID_TCGA_KIRP_miRNA_HiSeq', '_GENOMIC_ID_TCGA_KIRP_mutation_curated_broad_gene', '_GENOMIC_ID_TCGA_KIRP_exp_HiSeqV2', '_GENOMIC_ID_TCGA_KIRP_exp_HiSeqV2_PANCAN', '_GENOMIC_ID_TCGA_KIRP_gistic2thd', '_GENOMIC_ID_TCGA_KIRP_PDMRNAseq', '_GENOMIC_ID_data/public/TCGA/KIRP/miRNA_HiSeq_gene', '_GENOMIC_ID_data/public/TCGA/KIRP/miRNA_GA_gene', '_GENOMIC_ID_TCGA_KIRP_PDMarray', '_GENOMIC_ID_TCGA_KIRP_G4502A_07_3', '_GENOMIC_ID_TCGA_KIRP_gistic2', '_GENOMIC_ID_TCGA_KIRP_mutation_ucsc_maf_gene', '_GENOMIC_ID_TCGA_KIRP_exp_HiSeqV2_exon']\\n\""
      ]
     },
     "execution_count": 8,
     "metadata": {},
     "output_type": "execute_result"
    }
   ],
   "source": [
    "f'''\n",
    "Below is a list of column names from a biomedical dataset. Please examine it and identify the columns that are likely to contain information about patients' age. Additionally, please do the same for columns that may hold data on patients' gender. Please provide your answer by strictly following this format, without redundant words:\n",
    "candidate_age_cols = [col_name1, col_name2, ...]\n",
    "candidate_gender_cols = [col_name1, col_name2, ...]\n",
    "If no columns match a criterion, please provide an empty list.\n",
    "\n",
    "Column names:\n",
    "{clinical_data_cols}\n",
    "'''"
   ]
  },
  {
   "cell_type": "code",
   "execution_count": 9,
   "metadata": {
    "ExecuteTime": {
     "end_time": "2024-01-10T21:37:30.270036796Z",
     "start_time": "2024-01-10T21:37:30.227180075Z"
    },
    "collapsed": false
   },
   "outputs": [],
   "source": [
    "candidate_age_cols = [ 'age_at_initial_pathologic_diagnosis',\n",
    "                      'days_to_birth', 'year_of_initial_pathologic_diagnosis']\n",
    "candidate_gender_cols = [ 'gender']"
   ]
  },
  {
   "cell_type": "markdown",
   "metadata": {
    "ExecuteTime": {
     "end_time": "2023-12-31T03:57:44.207565572Z",
     "start_time": "2023-12-31T03:57:44.202177544Z"
    },
    "collapsed": false
   },
   "source": [
    "Choose a single column from the candidate columns that record age and gender information respectively.\n",
    "If no column meets the requirement, keep 'age_col' or 'gender_col' to None"
   ]
  },
  {
   "cell_type": "code",
   "execution_count": 10,
   "metadata": {},
   "outputs": [],
   "source": [
    "def preview_df(df, n=5):\n",
    "    return df.head(n).to_dict(orient='list')"
   ]
  },
  {
   "cell_type": "code",
   "execution_count": 11,
   "metadata": {
    "ExecuteTime": {
     "end_time": "2024-01-10T21:37:30.270232386Z",
     "start_time": "2024-01-10T21:37:30.227282564Z"
    },
    "collapsed": false
   },
   "outputs": [
    {
     "data": {
      "text/plain": [
       "{'age_at_initial_pathologic_diagnosis': [53.0, 71.0, 71.0, 67.0, 80.0],\n",
       " 'days_to_birth': [-19603.0, -26244.0, -26134.0, -24626.0, -29275.0],\n",
       " 'year_of_initial_pathologic_diagnosis': [2013.0,\n",
       "  2008.0,\n",
       "  2008.0,\n",
       "  2008.0,\n",
       "  2006.0]}"
      ]
     },
     "execution_count": 11,
     "metadata": {},
     "output_type": "execute_result"
    }
   ],
   "source": [
    "preview_df(clinical_data[candidate_age_cols])"
   ]
  },
  {
   "cell_type": "code",
   "execution_count": 12,
   "metadata": {
    "ExecuteTime": {
     "end_time": "2024-01-10T21:37:30.270339062Z",
     "start_time": "2024-01-10T21:37:30.227412883Z"
    },
    "collapsed": false
   },
   "outputs": [],
   "source": [
    "age_col = 'age_at_initial_pathologic_diagnosis'"
   ]
  },
  {
   "cell_type": "code",
   "execution_count": 13,
   "metadata": {
    "ExecuteTime": {
     "end_time": "2024-01-10T21:37:30.270520195Z",
     "start_time": "2024-01-10T21:37:30.227467704Z"
    },
    "collapsed": false
   },
   "outputs": [
    {
     "data": {
      "text/plain": [
       "{'gender': ['MALE', 'MALE', 'FEMALE', 'MALE', 'MALE']}"
      ]
     },
     "execution_count": 13,
     "metadata": {},
     "output_type": "execute_result"
    }
   ],
   "source": [
    "preview_df(clinical_data[candidate_gender_cols])"
   ]
  },
  {
   "cell_type": "code",
   "execution_count": 14,
   "metadata": {
    "ExecuteTime": {
     "end_time": "2024-01-10T21:37:30.270626721Z",
     "start_time": "2024-01-10T21:37:30.227530279Z"
    },
    "collapsed": false
   },
   "outputs": [],
   "source": [
    "gender_col = 'gender'"
   ]
  },
  {
   "cell_type": "code",
   "execution_count": 15,
   "metadata": {},
   "outputs": [],
   "source": [
    "def xena_select_clinical_features(clinical_df, trait, age_col=None, gender_col=None):\n",
    "    feature_list = []\n",
    "    trait_data = clinical_df.index.to_series().apply(xena_convert_trait).rename(trait)\n",
    "    feature_list.append(trait_data)\n",
    "    if age_col:\n",
    "        age_data = clinical_df[age_col].apply(xena_convert_age).rename(\"Age\")\n",
    "        feature_list.append(age_data)\n",
    "    if gender_col:\n",
    "        gender_data = clinical_df[gender_col].apply(xena_convert_gender).rename(\"Gender\")\n",
    "        feature_list.append(gender_data)\n",
    "    selected_clinical_df = pd.concat(feature_list, axis=1)\n",
    "    return selected_clinical_df"
   ]
  },
  {
   "cell_type": "code",
   "execution_count": 16,
   "metadata": {},
   "outputs": [],
   "source": [
    "def xena_convert_trait(row_index: str):\n",
    "    \"\"\"\n",
    "    Convert the trait information from Sample IDs to labels depending on the last two digits.\n",
    "    Tumor types range from 01 - 09, normal types from 10 - 19.\n",
    "    :param row_index: the index value of a row\n",
    "    :return: the converted value\n",
    "    \"\"\"\n",
    "    last_two_digits = int(row_index[-2:])\n",
    "\n",
    "    if 1 <= last_two_digits <= 9:\n",
    "        return 1\n",
    "    elif 10 <= last_two_digits <= 19:\n",
    "        return 0\n",
    "    else:\n",
    "        return -1"
   ]
  },
  {
   "cell_type": "code",
   "execution_count": 17,
   "metadata": {},
   "outputs": [],
   "source": [
    "def xena_convert_age(cell: str):\n",
    "    \"\"\"Convert the cell content about age to a numerical value using regular expression\n",
    "    \"\"\"\n",
    "    match = re.search(r'\\d+', str(cell))\n",
    "    if match:\n",
    "        return int(match.group())\n",
    "    else:\n",
    "        return None"
   ]
  },
  {
   "cell_type": "code",
   "execution_count": 18,
   "metadata": {},
   "outputs": [],
   "source": [
    "def xena_convert_gender(cell: str):\n",
    "    \"\"\"Convert the cell content about gender to a binary value\n",
    "    \"\"\"\n",
    "    if isinstance(cell, str):\n",
    "        cell = cell.lower()\n",
    "\n",
    "    if cell == \"female\":\n",
    "        return 0\n",
    "    elif cell == \"male\":\n",
    "        return 1\n",
    "    else:\n",
    "        return None"
   ]
  },
  {
   "cell_type": "code",
   "execution_count": 19,
   "metadata": {
    "ExecuteTime": {
     "end_time": "2024-01-10T21:37:30.270719762Z",
     "start_time": "2024-01-10T21:37:30.227585330Z"
    },
    "collapsed": false
   },
   "outputs": [],
   "source": [
    "import re\n",
    "selected_clinical_data = xena_select_clinical_features(clinical_data, TRAIT, age_col=age_col, gender_col=gender_col)"
   ]
  },
  {
   "cell_type": "code",
   "execution_count": 20,
   "metadata": {},
   "outputs": [],
   "source": [
    "def normalize_gene_symbols_in_index(gene_df):\n",
    "    \"\"\"Normalize the human gene symbols at the index of a dataframe, and replace the index with its normalized version.\n",
    "    Remove the rows where the index failed to be normalized.\"\"\"\n",
    "    normalized_gene_list = normalize_gene_symbols(gene_df.index.tolist())\n",
    "    assert len(normalized_gene_list) == len(gene_df.index)\n",
    "    gene_df.index = normalized_gene_list\n",
    "    gene_df = gene_df[gene_df.index.notnull()]\n",
    "    return gene_df"
   ]
  },
  {
   "cell_type": "code",
   "execution_count": 21,
   "metadata": {},
   "outputs": [],
   "source": [
    "def normalize_gene_symbols(gene_symbols, batch_size=1000):\n",
    "    \"\"\"Normalize human gene symbols in batches using the 'mygenes' library\"\"\"\n",
    "    mg = mygene.MyGeneInfo()\n",
    "    normalized_genes = {}\n",
    "\n",
    "    # Process in batches\n",
    "    for i in range(0, len(gene_symbols), batch_size):\n",
    "        batch = gene_symbols[i:i + batch_size]\n",
    "        results = mg.querymany(batch, scopes='symbol', fields='symbol', species='human')\n",
    "\n",
    "        # Update the normalized_genes dictionary with results from this batch\n",
    "        for gene in results:\n",
    "            normalized_genes[gene['query']] = gene.get('symbol', None)\n",
    "\n",
    "    # Return the normalized symbols in the same order as the input\n",
    "    return [normalized_genes.get(symbol) for symbol in gene_symbols]\n"
   ]
  },
  {
   "cell_type": "code",
   "execution_count": 22,
   "metadata": {
    "ExecuteTime": {
     "end_time": "2024-01-10T21:38:18.001977877Z",
     "start_time": "2024-01-10T21:37:30.227635342Z"
    },
    "collapsed": false
   },
   "outputs": [
    {
     "name": "stderr",
     "output_type": "stream",
     "text": [
      "12 input query terms found dup hits:\t[('GTF2IP1', 2), ('RBMY1A3P', 3), ('RPL31P11', 2), ('HERC2P2', 3), ('WASH3P', 3), ('NUDT9P1', 2), ('\n",
      "154 input query terms found no hit:\t['C16orf13', 'C16orf11', 'LOC100272146', 'LOC339240', 'NACAP1', 'LOC441204', 'KLRA1', 'FAM183A', 'FA\n",
      "10 input query terms found dup hits:\t[('SUGT1P1', 2), ('PTPRVP', 2), ('SNORA62', 3), ('IFITM4P', 7), ('HLA-DRB6', 2), ('FUNDC2P2', 2), ('\n",
      "190 input query terms found no hit:\t['NARFL', 'NFKBIL2', 'LOC150197', 'TMEM84', 'LOC162632', 'PPPDE1', 'PPPDE2', 'C1orf38', 'C1orf31', '\n",
      "11 input query terms found dup hits:\t[('PIP5K1P1', 2), ('HBD', 2), ('PPP1R2P1', 9), ('HSD17B7P2', 2), ('RPSAP9', 2), ('SNORD68', 2), ('SN\n",
      "149 input query terms found no hit:\t['FAM153C', 'C9orf167', 'CLK2P', 'CCDC76', 'CCDC75', 'CCDC72', 'HIST3H2BB', 'PRAC', 'LOC285780', 'LO\n",
      "15 input query terms found dup hits:\t[('SNORD58C', 2), ('UOX', 2), ('UBE2Q2P1', 3), ('PPP4R1L', 2), ('SNORD63', 3), ('ESPNP', 2), ('HBBP1\n",
      "158 input query terms found no hit:\t['C16orf91', 'LOC100130581', 'SFRS2', 'C16orf5', 'C16orf7', 'C16orf3', 'C21orf7', 'C21orf2', 'LOC389\n",
      "15 input query terms found dup hits:\t[('FAM66D', 3), ('FAM66A', 2), ('THSD1P1', 2), ('EEF1DP3', 2), ('PGM5P2', 2), ('UBE2MP1', 2), ('HAR1\n",
      "169 input query terms found no hit:\t['LOC284551', 'LOC285548', 'LOC728410', 'LOC541473', 'DULLARD', 'KIAA0368', 'EFTUD1', 'TWISTNB', 'SF\n",
      "13 input query terms found dup hits:\t[('S100A7L2', 2), ('POM121L8P', 2), ('MEG8', 2), ('KIR3DX1', 5), ('RFPL1S', 2), ('SNORD91B', 2), ('C\n",
      "165 input query terms found no hit:\t['TMEM188', 'PDZD3', 'FAM102B', 'FAM102A', 'SMCR7L', 'G6PC', 'OSTCL', 'LOC653544', 'LOC653545', 'USP\n",
      "16 input query terms found dup hits:\t[('PCNAP1', 2), ('SNORA63', 6), ('SERHL', 2), ('CEACAM22P', 2), ('SNORA16A', 2), ('FAM41AY1', 2), ('\n",
      "147 input query terms found no hit:\t['LRRC37A4', 'LOC100131726', 'CPSF3L', 'COL4A3BP', 'PAR1', 'LOC92973', 'MICALCL', 'SMCR7', 'HIST4H4'\n",
      "15 input query terms found dup hits:\t[('MBL1P', 2), ('SDHAP3', 2), ('PSORS1C3', 8), ('MYADML', 2), ('POM121L10P', 2), ('HLA-J', 9), ('HLA\n",
      "153 input query terms found no hit:\t['LOC100131193', 'KIAA1109', 'DUS2L', 'MYST1', 'IGLL3', 'C12orf69', 'NEURL', 'FAM188B', 'FLJ32063', \n",
      "9 input query terms found dup hits:\t[('PLGLA', 2), ('PA2G4P4', 2), ('RPL23AP7', 2), ('RPL23AP64', 3), ('RPSAP52', 2), ('TPRXL', 2), ('DP\n",
      "177 input query terms found no hit:\t['LOC283314', 'RBM9', 'C20orf118', 'LOC150786', 'C20orf112', 'C20orf111', 'C20orf117', 'C20orf114', \n",
      "18 input query terms found dup hits:\t[('TPTE2P1', 2), ('FOLH1B', 2), ('ID2B', 2), ('MSX2P1', 2), ('RAET1K', 2), ('BMS1P4', 2), ('RPL23AP8\n",
      "175 input query terms found no hit:\t['MYEOV2', 'FAM35B2', 'C20orf85', 'FAM175A', 'C17orf73', 'C17orf72', 'C17orf71', 'C17orf70', 'C17orf\n",
      "19 input query terms found dup hits:\t[('CATSPER2P1', 2), ('AQP7P1', 2), ('ATP8B5P', 2), ('OR7E91P', 2), ('ZNF204P', 2), ('CECR7', 2), ('M\n",
      "144 input query terms found no hit:\t['BASE', 'C14orf21', 'C14orf23', 'FAM5B', 'TROVE2', 'C18orf62', 'LOC401052', 'GNB2L1', 'FAM19A4', 'F\n",
      "13 input query terms found dup hits:\t[('P2RX6P', 2), ('RP9P', 2), ('NRADDP', 2), ('MORF4', 2), ('SNORA75', 6), ('SNORA72', 2), ('FMO6P', \n",
      "168 input query terms found no hit:\t['TTC15', 'C4orf29', 'FAM48A', 'C4orf21', 'C3orf65', 'C4orf23', 'C3orf67', 'LOC144742', 'C3orf63', '\n",
      "19 input query terms found dup hits:\t[('RPL13AP17', 2), ('DNAJB3', 2), ('SNORA58', 2), ('PMCHL1', 2), ('FAM95B1', 2), ('TMEM191A', 2), ('\n",
      "144 input query terms found no hit:\t['LOC254312', 'ZNF542', 'CSDAP1', 'FAM73A', 'FAM73B', 'TCTE3', 'ZNF37B', 'LOC728875', 'KIAA1826', 'P\n",
      "15 input query terms found dup hits:\t[('ZFP91-CNTF', 2), ('PRSS30P', 3), ('GSTM2P1', 2), ('C3P1', 2), ('NCF1B', 2), ('SNORD114-4', 2), ('\n",
      "138 input query terms found no hit:\t['LOC100129716', 'C14orf184', 'C14orf181', 'C14orf183', 'C14orf182', 'C7orf26', 'C7orf27', 'C7orf23'\n",
      "14 input query terms found dup hits:\t[('ANXA2P1', 2), ('ANXA2P3', 2), ('ANXA2P2', 2), ('ZNF286B', 2), ('SAA3P', 2), ('GEMIN8P4', 2), ('DI\n",
      "132 input query terms found no hit:\t['AKR1CL1', 'CCDC21', 'CCDC23', 'TMEM111', 'APOB48R', 'LOC595101', 'KIAA1430', 'KIAA1432', 'ORC4L', \n",
      "11 input query terms found dup hits:\t[('TCP10L2', 2), ('FTLP10', 2), ('TPTE2P3', 2), ('VENTXP1', 2), ('XKRY', 2), ('HTR7P1', 2), ('STAG3L\n",
      "175 input query terms found no hit:\t['DFNB59', 'LOC100170939', 'FAM36A', 'C2orf70', 'C2orf71', 'C2orf77', 'C2orf79', 'LOC100128191', 'HR\n",
      "16 input query terms found dup hits:\t[('ZNF702P', 2), ('BRD7P3', 2), ('SCARNA17', 2), ('GABARAPL3', 2), ('MT1IP', 2), ('ADAM6', 3), ('PDZ\n",
      "142 input query terms found no hit:\t['C9orf30', 'PEG3AS', 'C9orf37', 'TXNDC3', 'LOC442308', 'FAM46D', 'FAM46A', 'FAM46B', 'FAM46C', 'WDR\n",
      "10 input query terms found dup hits:\t[('FAM197Y2', 3), ('SNORA71B', 2), ('PRKY', 2), ('NAT8B', 3), ('VENTXP7', 2), ('SPRR2C', 2), ('RPL23\n",
      "148 input query terms found no hit:\t['FCGR1B', 'RG9MTD2', 'RARS', 'LOC727677', 'CCRN4L', 'SEPT14', 'HKR1', 'C1orf112', 'LOC100270710', '\n",
      "16 input query terms found dup hits:\t[('OR6W1P', 3), ('LYPLA2P1', 6), ('RPL23AP53', 2), ('TRPC2', 2), ('RBMY2FP', 2), ('BAGE2', 2), ('POM\n",
      "150 input query terms found no hit:\t['SIP1', 'FAM129C', 'GIF', 'TMCO7', 'CXorf61', 'CXorf64', 'ZNF192', 'SEPP1', 'KIRREL', 'MGC16121', '\n",
      "17 input query terms found dup hits:\t[('ISCA1P1', 2), ('PCDHB19P', 3), ('NAPSB', 2), ('WASH7P', 2), ('TTTY11', 2), ('HCG4', 9), ('OR5E1P'\n",
      "135 input query terms found no hit:\t['PPYR1', 'FAM82A2', 'FLJ37453', 'FAM82A1', 'KIAA0947', 'MOBKL2B', 'MOBKL2C', 'MOBKL2A', 'CMAH', 'GR\n",
      "5 input query terms found dup hits:\t[('GGNBP1', 2), ('WASH5P', 2), ('RPL29P2', 2), ('CDR1', 2), ('OR10J3', 3)]\n",
      "78 input query terms found no hit:\t['C14orf174', 'C14orf176', 'C14orf177', 'C14orf179', 'PTPLB', 'SGEF', 'LOC400752', 'GRLF1', 'SPANXE'\n"
     ]
    }
   ],
   "source": [
    "import mygene\n",
    "\n",
    "if NORMALIZE_GENE:\n",
    "    genetic_data = normalize_gene_symbols_in_index(genetic_data)"
   ]
  },
  {
   "cell_type": "code",
   "execution_count": 23,
   "metadata": {
    "ExecuteTime": {
     "end_time": "2024-01-10T21:38:18.108889749Z",
     "start_time": "2024-01-10T21:38:18.021199718Z"
    },
    "collapsed": false
   },
   "outputs": [
    {
     "data": {
      "text/html": [
       "<div>\n",
       "<style scoped>\n",
       "    .dataframe tbody tr th:only-of-type {\n",
       "        vertical-align: middle;\n",
       "    }\n",
       "\n",
       "    .dataframe tbody tr th {\n",
       "        vertical-align: top;\n",
       "    }\n",
       "\n",
       "    .dataframe thead th {\n",
       "        text-align: right;\n",
       "    }\n",
       "</style>\n",
       "<table border=\"1\" class=\"dataframe\">\n",
       "  <thead>\n",
       "    <tr style=\"text-align: right;\">\n",
       "      <th></th>\n",
       "      <th>Kidney Papillary Cell Carcinoma</th>\n",
       "      <th>Age</th>\n",
       "      <th>Gender</th>\n",
       "      <th>ARHGEF10L</th>\n",
       "      <th>HIF3A</th>\n",
       "      <th>RNF17</th>\n",
       "      <th>RNF10</th>\n",
       "      <th>RNF11</th>\n",
       "      <th>RNF13</th>\n",
       "      <th>GTF2IP1</th>\n",
       "      <th>...</th>\n",
       "      <th>SLC7A10</th>\n",
       "      <th>PLA2G2C</th>\n",
       "      <th>TULP2</th>\n",
       "      <th>NPY5R</th>\n",
       "      <th>GNGT2</th>\n",
       "      <th>GNGT1</th>\n",
       "      <th>TULP3</th>\n",
       "      <th>BCL6B</th>\n",
       "      <th>GSTK1</th>\n",
       "      <th>SELP</th>\n",
       "    </tr>\n",
       "    <tr>\n",
       "      <th>sampleID</th>\n",
       "      <th></th>\n",
       "      <th></th>\n",
       "      <th></th>\n",
       "      <th></th>\n",
       "      <th></th>\n",
       "      <th></th>\n",
       "      <th></th>\n",
       "      <th></th>\n",
       "      <th></th>\n",
       "      <th></th>\n",
       "      <th></th>\n",
       "      <th></th>\n",
       "      <th></th>\n",
       "      <th></th>\n",
       "      <th></th>\n",
       "      <th></th>\n",
       "      <th></th>\n",
       "      <th></th>\n",
       "      <th></th>\n",
       "      <th></th>\n",
       "      <th></th>\n",
       "    </tr>\n",
       "  </thead>\n",
       "  <tbody>\n",
       "    <tr>\n",
       "      <th>TCGA-2K-A9WE-01</th>\n",
       "      <td>1</td>\n",
       "      <td>53.0</td>\n",
       "      <td>1</td>\n",
       "      <td>0.895608</td>\n",
       "      <td>-2.059826</td>\n",
       "      <td>-0.531035</td>\n",
       "      <td>0.126528</td>\n",
       "      <td>-0.345878</td>\n",
       "      <td>1.12319</td>\n",
       "      <td>0.509706</td>\n",
       "      <td>...</td>\n",
       "      <td>-2.090786</td>\n",
       "      <td>0.932918</td>\n",
       "      <td>-0.150778</td>\n",
       "      <td>0.613183</td>\n",
       "      <td>2.243367</td>\n",
       "      <td>1.33611</td>\n",
       "      <td>0.226223</td>\n",
       "      <td>-1.415027</td>\n",
       "      <td>1.572405</td>\n",
       "      <td>0.879267</td>\n",
       "    </tr>\n",
       "    <tr>\n",
       "      <th>TCGA-2Z-A9J1-01</th>\n",
       "      <td>1</td>\n",
       "      <td>71.0</td>\n",
       "      <td>1</td>\n",
       "      <td>0.899708</td>\n",
       "      <td>-2.980426</td>\n",
       "      <td>0.049665</td>\n",
       "      <td>0.552628</td>\n",
       "      <td>-0.381678</td>\n",
       "      <td>0.17029</td>\n",
       "      <td>1.180806</td>\n",
       "      <td>...</td>\n",
       "      <td>-2.090786</td>\n",
       "      <td>-0.086682</td>\n",
       "      <td>0.565422</td>\n",
       "      <td>2.307883</td>\n",
       "      <td>0.294467</td>\n",
       "      <td>-1.28139</td>\n",
       "      <td>0.637223</td>\n",
       "      <td>-2.017627</td>\n",
       "      <td>2.026605</td>\n",
       "      <td>-0.408633</td>\n",
       "    </tr>\n",
       "    <tr>\n",
       "      <th>TCGA-2Z-A9J2-01</th>\n",
       "      <td>1</td>\n",
       "      <td>71.0</td>\n",
       "      <td>0</td>\n",
       "      <td>0.552108</td>\n",
       "      <td>-2.707826</td>\n",
       "      <td>-0.531035</td>\n",
       "      <td>0.473928</td>\n",
       "      <td>-0.255978</td>\n",
       "      <td>0.14389</td>\n",
       "      <td>-0.407894</td>\n",
       "      <td>...</td>\n",
       "      <td>2.040714</td>\n",
       "      <td>-0.086682</td>\n",
       "      <td>-0.748878</td>\n",
       "      <td>0.650683</td>\n",
       "      <td>-0.094533</td>\n",
       "      <td>-1.28139</td>\n",
       "      <td>-0.826577</td>\n",
       "      <td>-1.702427</td>\n",
       "      <td>1.751805</td>\n",
       "      <td>-0.769733</td>\n",
       "    </tr>\n",
       "    <tr>\n",
       "      <th>TCGA-2Z-A9J3-01</th>\n",
       "      <td>1</td>\n",
       "      <td>67.0</td>\n",
       "      <td>1</td>\n",
       "      <td>0.867508</td>\n",
       "      <td>-4.064326</td>\n",
       "      <td>-0.531035</td>\n",
       "      <td>-0.493572</td>\n",
       "      <td>-0.203878</td>\n",
       "      <td>0.83559</td>\n",
       "      <td>1.648106</td>\n",
       "      <td>...</td>\n",
       "      <td>-2.090786</td>\n",
       "      <td>-0.086682</td>\n",
       "      <td>-0.303278</td>\n",
       "      <td>-1.587117</td>\n",
       "      <td>-2.384733</td>\n",
       "      <td>2.91811</td>\n",
       "      <td>0.174223</td>\n",
       "      <td>-2.745727</td>\n",
       "      <td>2.166005</td>\n",
       "      <td>-2.483133</td>\n",
       "    </tr>\n",
       "    <tr>\n",
       "      <th>TCGA-2Z-A9J5-01</th>\n",
       "      <td>1</td>\n",
       "      <td>80.0</td>\n",
       "      <td>1</td>\n",
       "      <td>0.783608</td>\n",
       "      <td>-1.563626</td>\n",
       "      <td>0.829965</td>\n",
       "      <td>0.357528</td>\n",
       "      <td>-0.711678</td>\n",
       "      <td>0.34799</td>\n",
       "      <td>0.500906</td>\n",
       "      <td>...</td>\n",
       "      <td>-2.090786</td>\n",
       "      <td>-0.086682</td>\n",
       "      <td>-0.748878</td>\n",
       "      <td>1.423483</td>\n",
       "      <td>1.622367</td>\n",
       "      <td>0.46401</td>\n",
       "      <td>0.503323</td>\n",
       "      <td>-1.287227</td>\n",
       "      <td>1.909005</td>\n",
       "      <td>0.152467</td>\n",
       "    </tr>\n",
       "  </tbody>\n",
       "</table>\n",
       "<p>5 rows × 17342 columns</p>\n",
       "</div>"
      ],
      "text/plain": [
       "                 Kidney Papillary Cell Carcinoma   Age  Gender  ARHGEF10L  \\\n",
       "sampleID                                                                    \n",
       "TCGA-2K-A9WE-01                                1  53.0       1   0.895608   \n",
       "TCGA-2Z-A9J1-01                                1  71.0       1   0.899708   \n",
       "TCGA-2Z-A9J2-01                                1  71.0       0   0.552108   \n",
       "TCGA-2Z-A9J3-01                                1  67.0       1   0.867508   \n",
       "TCGA-2Z-A9J5-01                                1  80.0       1   0.783608   \n",
       "\n",
       "                    HIF3A     RNF17     RNF10     RNF11    RNF13   GTF2IP1  \\\n",
       "sampleID                                                                     \n",
       "TCGA-2K-A9WE-01 -2.059826 -0.531035  0.126528 -0.345878  1.12319  0.509706   \n",
       "TCGA-2Z-A9J1-01 -2.980426  0.049665  0.552628 -0.381678  0.17029  1.180806   \n",
       "TCGA-2Z-A9J2-01 -2.707826 -0.531035  0.473928 -0.255978  0.14389 -0.407894   \n",
       "TCGA-2Z-A9J3-01 -4.064326 -0.531035 -0.493572 -0.203878  0.83559  1.648106   \n",
       "TCGA-2Z-A9J5-01 -1.563626  0.829965  0.357528 -0.711678  0.34799  0.500906   \n",
       "\n",
       "                 ...   SLC7A10   PLA2G2C     TULP2     NPY5R     GNGT2  \\\n",
       "sampleID         ...                                                     \n",
       "TCGA-2K-A9WE-01  ... -2.090786  0.932918 -0.150778  0.613183  2.243367   \n",
       "TCGA-2Z-A9J1-01  ... -2.090786 -0.086682  0.565422  2.307883  0.294467   \n",
       "TCGA-2Z-A9J2-01  ...  2.040714 -0.086682 -0.748878  0.650683 -0.094533   \n",
       "TCGA-2Z-A9J3-01  ... -2.090786 -0.086682 -0.303278 -1.587117 -2.384733   \n",
       "TCGA-2Z-A9J5-01  ... -2.090786 -0.086682 -0.748878  1.423483  1.622367   \n",
       "\n",
       "                   GNGT1     TULP3     BCL6B     GSTK1      SELP  \n",
       "sampleID                                                          \n",
       "TCGA-2K-A9WE-01  1.33611  0.226223 -1.415027  1.572405  0.879267  \n",
       "TCGA-2Z-A9J1-01 -1.28139  0.637223 -2.017627  2.026605 -0.408633  \n",
       "TCGA-2Z-A9J2-01 -1.28139 -0.826577 -1.702427  1.751805 -0.769733  \n",
       "TCGA-2Z-A9J3-01  2.91811  0.174223 -2.745727  2.166005 -2.483133  \n",
       "TCGA-2Z-A9J5-01  0.46401  0.503323 -1.287227  1.909005  0.152467  \n",
       "\n",
       "[5 rows x 17342 columns]"
      ]
     },
     "execution_count": 23,
     "metadata": {},
     "output_type": "execute_result"
    }
   ],
   "source": [
    "merged_data = selected_clinical_data.join(genetic_data.T).dropna()\n",
    "merged_data.head()"
   ]
  },
  {
   "cell_type": "code",
   "execution_count": 24,
   "metadata": {},
   "outputs": [],
   "source": [
    "def judge_and_remove_biased_features(df, trait, trait_type):\n",
    "    assert trait_type in [\"binary\", \"continuous\"], f\"The trait must be either a binary or a continuous variable!\"\n",
    "    if trait_type == \"binary\":\n",
    "        trait_biased = judge_binary_variable_biased(df, trait)\n",
    "    else:\n",
    "        trait_biased = judge_continuous_variable_biased(df, trait)\n",
    "    if trait_biased:\n",
    "        print(f\"The distribution of the feature \\'{trait}\\' in this dataset is severely biased.\\n\")\n",
    "    else:\n",
    "        print(f\"The distribution of the feature \\'{trait}\\' in this dataset is fine.\\n\")\n",
    "    if \"Age\" in df.columns:\n",
    "        age_biased = judge_continuous_variable_biased(df, 'Age')\n",
    "        if age_biased:\n",
    "            print(f\"The distribution of the feature \\'Age\\' in this dataset is severely biased.\\n\")\n",
    "            df = df.drop(columns='Age')\n",
    "        else:\n",
    "            print(f\"The distribution of the feature \\'Age\\' in this dataset is fine.\\n\")\n",
    "    if \"Gender\" in df.columns:\n",
    "        gender_biased = judge_binary_variable_biased(df, 'Gender')\n",
    "        if gender_biased:\n",
    "            print(f\"The distribution of the feature \\'Gender\\' in this dataset is severely biased.\\n\")\n",
    "            df = df.drop(columns='Gender')\n",
    "        else:\n",
    "            print(f\"The distribution of the feature \\'Gender\\' in this dataset is fine.\\n\")\n",
    "\n",
    "    return trait_biased, df"
   ]
  },
  {
   "cell_type": "code",
   "execution_count": 25,
   "metadata": {},
   "outputs": [],
   "source": [
    "def judge_binary_variable_biased(dataframe, col_name, min_proportion=0.1, min_num=5):\n",
    "    \"\"\"\n",
    "    Check if the distribution of a binary variable in the dataset is too biased to be usable for analysis\n",
    "    :param dataframe:\n",
    "    :param col_name:\n",
    "    :param min_proportion:\n",
    "    :param min_num:\n",
    "    :return:\n",
    "    \"\"\"\n",
    "    label_counter = dataframe[col_name].value_counts()\n",
    "    total_samples = len(dataframe)\n",
    "    rare_label_num = label_counter.min()\n",
    "    rare_label = label_counter.idxmin()\n",
    "    rare_label_proportion = rare_label_num / total_samples\n",
    "\n",
    "    print(\n",
    "        f\"For the feature \\'{col_name}\\', the least common label is '{rare_label}' with {rare_label_num} occurrences. This represents {rare_label_proportion:.2%} of the dataset.\")\n",
    "\n",
    "    biased = (len(label_counter) < 2) or ((rare_label_proportion < min_proportion) and (rare_label_num < min_num))\n",
    "    return bool(biased)\n"
   ]
  },
  {
   "cell_type": "code",
   "execution_count": 26,
   "metadata": {},
   "outputs": [],
   "source": [
    "def judge_continuous_variable_biased(dataframe, col_name):\n",
    "    \"\"\"Check if the distribution of a continuous variable in the dataset is too biased to be usable for analysis.\n",
    "    As a starting point, we consider it biased if all values are the same. For the next step, maybe ask GPT to judge\n",
    "    based on quartile statistics combined with its common sense knowledge about this feature.\n",
    "    \"\"\"\n",
    "    quartiles = dataframe[col_name].quantile([0.25, 0.5, 0.75])\n",
    "    min_value = dataframe[col_name].min()\n",
    "    max_value = dataframe[col_name].max()\n",
    "\n",
    "    # Printing quartile information\n",
    "    print(f\"Quartiles for '{col_name}':\")\n",
    "    print(f\"  25%: {quartiles[0.25]}\")\n",
    "    print(f\"  50% (Median): {quartiles[0.5]}\")\n",
    "    print(f\"  75%: {quartiles[0.75]}\")\n",
    "    print(f\"Min: {min_value}\")\n",
    "    print(f\"Max: {max_value}\")\n",
    "\n",
    "    biased = min_value == max_value\n",
    "\n",
    "    return bool(biased)"
   ]
  },
  {
   "cell_type": "code",
   "execution_count": 27,
   "metadata": {
    "ExecuteTime": {
     "end_time": "2024-01-10T21:38:18.112793384Z",
     "start_time": "2024-01-10T21:38:18.107415526Z"
    },
    "collapsed": false
   },
   "outputs": [
    {
     "name": "stdout",
     "output_type": "stream",
     "text": [
      "The merged dataset contains 320 samples.\n",
      "For the feature 'Kidney Papillary Cell Carcinoma', the least common label is '0' with 32 occurrences. This represents 10.00% of the dataset.\n",
      "The distribution of the feature 'Kidney Papillary Cell Carcinoma' in this dataset is fine.\n",
      "\n",
      "Quartiles for 'Age':\n",
      "  25%: 54.0\n",
      "  50% (Median): 61.5\n",
      "  75%: 71.0\n",
      "Min: 28.0\n",
      "Max: 88.0\n",
      "The distribution of the feature 'Age' in this dataset is fine.\n",
      "\n",
      "For the feature 'Gender', the least common label is '0' with 86 occurrences. This represents 26.88% of the dataset.\n",
      "The distribution of the feature 'Gender' in this dataset is fine.\n",
      "\n"
     ]
    },
    {
     "data": {
      "text/plain": [
       "False"
      ]
     },
     "execution_count": 27,
     "metadata": {},
     "output_type": "execute_result"
    }
   ],
   "source": [
    "print(f\"The merged dataset contains {len(merged_data)} samples.\")\n",
    "is_trait_biased, merge_data = judge_and_remove_biased_features(merged_data, TRAIT, trait_type=trait_type)\n",
    "is_trait_biased"
   ]
  },
  {
   "cell_type": "code",
   "execution_count": 28,
   "metadata": {
    "ExecuteTime": {
     "end_time": "2024-01-10T21:38:31.377898533Z",
     "start_time": "2024-01-10T21:38:18.111417452Z"
    },
    "collapsed": false
   },
   "outputs": [],
   "source": [
    "merged_data.head()\n",
    "if not is_trait_biased:\n",
    "    merge_data.to_csv(os.path.join(OUTPUT_DIR, cohort + '.csv'), index=False)"
   ]
  },
  {
   "cell_type": "code",
   "execution_count": 29,
   "metadata": {},
   "outputs": [],
   "source": [
    "from typing import Callable, Optional, List, Tuple, Union, Any"
   ]
  },
  {
   "cell_type": "code",
   "execution_count": 30,
   "metadata": {},
   "outputs": [],
   "source": [
    "def save_cohort_info(cohort: str, info_path: str, is_available: bool, is_biased: Optional[bool] = None,\n",
    "                     df: Optional[pd.DataFrame] = None, note: str = '') -> None:\n",
    "    \"\"\"\n",
    "    Add or update information about the usability and quality of a dataset for statistical analysis.\n",
    "\n",
    "    Parameters:\n",
    "    cohort (str): A unique identifier for the dataset.\n",
    "    info_path (str): File path to the JSON file where records are stored.\n",
    "    is_available (bool): Indicates whether both the genetic data and trait data are available in the dataset, and can be\n",
    "     preprocessed into a dataframe.\n",
    "    is_biased (bool, optional): Indicates whether the dataset is too biased to be usable.\n",
    "        Required if `is_available` is True.\n",
    "    df (pandas.DataFrame, optional): The preprocessed dataset. Required if `is_available` is True.\n",
    "    note (str, optional): Additional notes about the dataset.\n",
    "\n",
    "    Returns:\n",
    "    None: The function does not return a value but updates or creates a record in the specified JSON file.\n",
    "    \"\"\"\n",
    "    if is_available:\n",
    "        assert (df is not None) and (is_biased is not None), \"'df' and 'is_biased' should be provided if this cohort \" \\\n",
    "                                                             \"is relevant.\"\n",
    "    is_usable = is_available and (not is_biased)\n",
    "    new_record = {\"is_usable\": is_usable,\n",
    "                  \"is_available\": is_available,\n",
    "                  \"is_biased\": is_biased if is_available else None,\n",
    "                  \"has_age\": \"Age\" in df.columns if is_available else None,\n",
    "                  \"has_gender\": \"Gender\" in df.columns if is_available else None,\n",
    "                  \"sample_size\": len(df) if is_available else None,\n",
    "                  \"note\": note}\n",
    "    \n",
    "    if not os.path.exists(info_path):\n",
    "        with open(info_path, 'w') as file:\n",
    "            json.dump({}, file)\n",
    "        print(f\"A new JSON file was created at: {info_path}\")\n",
    "\n",
    "    with open(info_path, \"r\") as file:\n",
    "        records = json.load(file)\n",
    "    records[cohort] = new_record\n",
    "\n",
    "    temp_path = info_path + \".tmp\"\n",
    "    try:\n",
    "        with open(temp_path, 'w') as file:\n",
    "            json.dump(records, file)\n",
    "        os.replace(temp_path, info_path)\n",
    "\n",
    "    except Exception as e:\n",
    "        print(f\"An error occurred: {e}\")\n",
    "        if os.path.exists(temp_path):\n",
    "            os.remove(temp_path)\n",
    "        raise"
   ]
  },
  {
   "cell_type": "code",
   "execution_count": 31,
   "metadata": {
    "ExecuteTime": {
     "end_time": "2024-01-10T21:38:31.425336629Z",
     "start_time": "2024-01-10T21:38:31.419043732Z"
    },
    "collapsed": false
   },
   "outputs": [
    {
     "name": "stdout",
     "output_type": "stream",
     "text": [
      "A new JSON file was created at: /Users/legion/Desktop/Courses/IS389/output\\Jiayi\\Kidney-Papillary-Cell-Carcinoma\\cohort_info.json\n"
     ]
    }
   ],
   "source": [
    "import json\n",
    "\n",
    "save_cohort_info(cohort, JSON_PATH, is_available, is_trait_biased, merged_data)"
   ]
  },
  {
   "cell_type": "markdown",
   "metadata": {
    "ExecuteTime": {
     "end_time": "2023-12-28T21:28:38.028916303Z",
     "start_time": "2023-12-28T21:28:38.016245426Z"
    },
    "collapsed": false
   },
   "source": [
    "## 2.2. The GEO dataset"
   ]
  },
  {
   "cell_type": "markdown",
   "metadata": {
    "ExecuteTime": {
     "end_time": "2023-12-31T03:25:23.253882615Z",
     "start_time": "2023-12-31T03:25:23.244062710Z"
    },
    "collapsed": false
   },
   "source": [
    "In GEO, there may be one or multiple cohorts for a trait. Each cohort is identified by an accession number. We iterate over all accession numbers in the corresponding subdirectory, preprocess the cohort data, and save them to csv files."
   ]
  },
  {
   "cell_type": "code",
   "execution_count": 33,
   "metadata": {
    "ExecuteTime": {
     "end_time": "2024-01-10T21:38:31.425592571Z",
     "start_time": "2024-01-10T21:38:31.419137625Z"
    },
    "collapsed": false
   },
   "outputs": [
    {
     "data": {
      "text/plain": [
       "['GSE144082',\n",
       " 'GSE19949',\n",
       " 'GSE26574',\n",
       " 'GSE32474',\n",
       " 'GSE36133',\n",
       " 'GSE36138',\n",
       " 'GSE36139',\n",
       " 'GSE40911',\n",
       " 'GSE40912',\n",
       " 'GSE40914',\n",
       " 'GSE41282',\n",
       " 'GSE42977',\n",
       " 'GSE48352',\n",
       " 'GSE48568',\n",
       " 'GSE57162',\n",
       " 'GSE63003',\n",
       " 'GSE68606',\n",
       " 'GSE68950',\n",
       " 'GSE85258',\n",
       " 'GSE95425']"
      ]
     },
     "execution_count": 33,
     "metadata": {},
     "output_type": "execute_result"
    }
   ],
   "source": [
    "dataset = 'GEO'\n",
    "trait_subdir = \"Kidney-Papillary-Cell-Carcinoma\"\n",
    "\n",
    "trait_path = os.path.join(DATA_ROOT, dataset, trait_subdir)\n",
    "os.listdir(trait_path)"
   ]
  },
  {
   "cell_type": "markdown",
   "metadata": {
    "ExecuteTime": {
     "end_time": "2023-12-31T03:39:42.634870142Z",
     "start_time": "2023-12-31T03:39:42.534093295Z"
    },
    "collapsed": false
   },
   "source": [
    "Repeat the below steps for all the accession numbers"
   ]
  },
  {
   "cell_type": "code",
   "execution_count": 34,
   "metadata": {},
   "outputs": [],
   "source": [
    "def get_relevant_filepaths(cohort_dir):\n",
    "    \"\"\"Find the file paths of a SOFT file and a matrix file from the given data directory of a cohort.\n",
    "    If there are multiple SOFT files or matrix files, simply choose the first one. May be replaced by better\n",
    "    strategies later.\n",
    "    \"\"\"\n",
    "    files = os.listdir(cohort_dir)\n",
    "    soft_files = [f for f in files if 'soft' in f.lower()]\n",
    "    matrix_files = [f for f in files if 'matrix' in f.lower()]\n",
    "    assert len(soft_files) > 0 and len(matrix_files) > 0\n",
    "    soft_file_path = os.path.join(cohort_dir, soft_files[0])\n",
    "    matrix_file_path = os.path.join(cohort_dir, matrix_files[0])\n",
    "\n",
    "    return soft_file_path, matrix_file_path"
   ]
  },
  {
   "cell_type": "code",
   "execution_count": 35,
   "metadata": {
    "ExecuteTime": {
     "end_time": "2024-01-10T21:39:02.935079426Z",
     "start_time": "2024-01-10T21:39:02.923698385Z"
    },
    "collapsed": false
   },
   "outputs": [
    {
     "data": {
      "text/plain": [
       "('/Users/legion/Desktop/Courses/IS389/data\\\\GEO\\\\Kidney-Papillary-Cell-Carcinoma\\\\GSE42977\\\\GSE42977_family.soft.gz',\n",
       " '/Users/legion/Desktop/Courses/IS389/data\\\\GEO\\\\Kidney-Papillary-Cell-Carcinoma\\\\GSE42977\\\\GSE42977_series_matrix.txt.gz')"
      ]
     },
     "execution_count": 35,
     "metadata": {},
     "output_type": "execute_result"
    }
   ],
   "source": [
    "# Finished: Biased\n",
    "cohort = accession_num = \"GSE42977\"\n",
    "cohort_dir = os.path.join(trait_path, accession_num)\n",
    "soft_file, matrix_file = get_relevant_filepaths(cohort_dir)\n",
    "soft_file, matrix_file"
   ]
  },
  {
   "cell_type": "code",
   "execution_count": 49,
   "metadata": {},
   "outputs": [
    {
     "data": {
      "text/plain": [
       "('/Users/legion/Desktop/Courses/IS389/data\\\\GEO\\\\Kidney-Papillary-Cell-Carcinoma\\\\GSE48352\\\\GSE48352_family.soft.gz',\n",
       " '/Users/legion/Desktop/Courses/IS389/data\\\\GEO\\\\Kidney-Papillary-Cell-Carcinoma\\\\GSE48352\\\\GSE48352_series_matrix.txt.gz')"
      ]
     },
     "execution_count": 49,
     "metadata": {},
     "output_type": "execute_result"
    }
   ],
   "source": [
    "# Stop: No gene mapping\n",
    "cohort = accession_num = \"GSE48352\"\n",
    "cohort_dir = os.path.join(trait_path, accession_num)\n",
    "soft_file, matrix_file = get_relevant_filepaths(cohort_dir)\n",
    "soft_file, matrix_file"
   ]
  },
  {
   "cell_type": "code",
   "execution_count": 56,
   "metadata": {},
   "outputs": [
    {
     "data": {
      "text/plain": [
       "('/Users/legion/Desktop/Courses/IS389/data\\\\GEO\\\\Kidney-Papillary-Cell-Carcinoma\\\\GSE85258\\\\GSE85258_family.soft.gz',\n",
       " '/Users/legion/Desktop/Courses/IS389/data\\\\GEO\\\\Kidney-Papillary-Cell-Carcinoma\\\\GSE85258\\\\GSE85258_series_matrix.txt.gz')"
      ]
     },
     "execution_count": 56,
     "metadata": {},
     "output_type": "execute_result"
    }
   ],
   "source": [
    "# Finished: Biased\n",
    "cohort = accession_num = \"GSE85258\"\n",
    "cohort_dir = os.path.join(trait_path, accession_num)\n",
    "soft_file, matrix_file = get_relevant_filepaths(cohort_dir)\n",
    "soft_file, matrix_file"
   ]
  },
  {
   "cell_type": "code",
   "execution_count": 69,
   "metadata": {},
   "outputs": [
    {
     "data": {
      "text/plain": [
       "('/Users/legion/Desktop/Courses/IS389/data\\\\GEO\\\\Kidney-Papillary-Cell-Carcinoma\\\\GSE48568\\\\GSE48568_family.soft.gz',\n",
       " '/Users/legion/Desktop/Courses/IS389/data\\\\GEO\\\\Kidney-Papillary-Cell-Carcinoma\\\\GSE48568\\\\GSE48568_series_matrix.txt.gz')"
      ]
     },
     "execution_count": 69,
     "metadata": {},
     "output_type": "execute_result"
    }
   ],
   "source": [
    "# Stop: No obvious traits\n",
    "cohort = accession_num = \"GSE48568\"\n",
    "cohort_dir = os.path.join(trait_path, accession_num)\n",
    "soft_file, matrix_file = get_relevant_filepaths(cohort_dir)\n",
    "soft_file, matrix_file"
   ]
  },
  {
   "cell_type": "code",
   "execution_count": 72,
   "metadata": {},
   "outputs": [
    {
     "data": {
      "text/plain": [
       "('/Users/legion/Desktop/Courses/IS389/data\\\\GEO\\\\Kidney-Papillary-Cell-Carcinoma\\\\GSE41282\\\\GSE41282_family.soft.gz',\n",
       " '/Users/legion/Desktop/Courses/IS389/data\\\\GEO\\\\Kidney-Papillary-Cell-Carcinoma\\\\GSE41282\\\\GSE41282_series_matrix.txt.gz')"
      ]
     },
     "execution_count": 72,
     "metadata": {},
     "output_type": "execute_result"
    }
   ],
   "source": [
    "# Stop: No gene mapping\n",
    "cohort = accession_num = \"GSE41282\"\n",
    "cohort_dir = os.path.join(trait_path, accession_num)\n",
    "soft_file, matrix_file = get_relevant_filepaths(cohort_dir)\n",
    "soft_file, matrix_file"
   ]
  },
  {
   "cell_type": "code",
   "execution_count": 80,
   "metadata": {},
   "outputs": [
    {
     "data": {
      "text/plain": [
       "('/Users/legion/Desktop/Courses/IS389/data\\\\GEO\\\\Kidney-Papillary-Cell-Carcinoma\\\\GSE26574\\\\GSE26574_family.soft.gz',\n",
       " '/Users/legion/Desktop/Courses/IS389/data\\\\GEO\\\\Kidney-Papillary-Cell-Carcinoma\\\\GSE26574\\\\GSE26574_series_matrix.txt.gz')"
      ]
     },
     "execution_count": 80,
     "metadata": {},
     "output_type": "execute_result"
    }
   ],
   "source": [
    "# Finished\n",
    "cohort = accession_num = \"GSE26574\"\n",
    "cohort_dir = os.path.join(trait_path, accession_num)\n",
    "soft_file, matrix_file = get_relevant_filepaths(cohort_dir)\n",
    "soft_file, matrix_file"
   ]
  },
  {
   "cell_type": "code",
   "execution_count": 92,
   "metadata": {},
   "outputs": [
    {
     "data": {
      "text/plain": [
       "('/Users/legion/Desktop/Courses/IS389/data\\\\GEO\\\\Kidney-Papillary-Cell-Carcinoma\\\\GSE40911\\\\GSE40911_family.soft.gz',\n",
       " '/Users/legion/Desktop/Courses/IS389/data\\\\GEO\\\\Kidney-Papillary-Cell-Carcinoma\\\\GSE40911\\\\GSE40911_series_matrix.txt.gz')"
      ]
     },
     "execution_count": 92,
     "metadata": {},
     "output_type": "execute_result"
    }
   ],
   "source": [
    "# Stop: No obvious traits\n",
    "cohort = accession_num = \"GSE40911\"\n",
    "cohort_dir = os.path.join(trait_path, accession_num)\n",
    "soft_file, matrix_file = get_relevant_filepaths(cohort_dir)\n",
    "soft_file, matrix_file"
   ]
  },
  {
   "cell_type": "code",
   "execution_count": 94,
   "metadata": {},
   "outputs": [
    {
     "data": {
      "text/plain": [
       "('/Users/legion/Desktop/Courses/IS389/data\\\\GEO\\\\Kidney-Papillary-Cell-Carcinoma\\\\GSE19949\\\\GSE19949_family.soft.gz',\n",
       " '/Users/legion/Desktop/Courses/IS389/data\\\\GEO\\\\Kidney-Papillary-Cell-Carcinoma\\\\GSE19949\\\\GSE19949-GPL3921_series_matrix.txt.gz')"
      ]
     },
     "execution_count": 94,
     "metadata": {},
     "output_type": "execute_result"
    }
   ],
   "source": [
    "# Stop: No obvious traits\n",
    "cohort = accession_num = \"GSE19949\"\n",
    "cohort_dir = os.path.join(trait_path, accession_num)\n",
    "soft_file, matrix_file = get_relevant_filepaths(cohort_dir)\n",
    "soft_file, matrix_file"
   ]
  },
  {
   "cell_type": "code",
   "execution_count": 96,
   "metadata": {},
   "outputs": [
    {
     "data": {
      "text/plain": [
       "('/Users/legion/Desktop/Courses/IS389/data\\\\GEO\\\\Kidney-Papillary-Cell-Carcinoma\\\\GSE36133\\\\GSE36133_family.soft.gz',\n",
       " '/Users/legion/Desktop/Courses/IS389/data\\\\GEO\\\\Kidney-Papillary-Cell-Carcinoma\\\\GSE36133\\\\GSE36133_series_matrix.txt.gz')"
      ]
     },
     "execution_count": 96,
     "metadata": {},
     "output_type": "execute_result"
    }
   ],
   "source": [
    "# Stop: No obvious traits\n",
    "cohort = accession_num = \"GSE36133\"\n",
    "cohort_dir = os.path.join(trait_path, accession_num)\n",
    "soft_file, matrix_file = get_relevant_filepaths(cohort_dir)\n",
    "soft_file, matrix_file"
   ]
  },
  {
   "cell_type": "code",
   "execution_count": 101,
   "metadata": {},
   "outputs": [
    {
     "data": {
      "text/plain": [
       "('/Users/legion/Desktop/Courses/IS389/data\\\\GEO\\\\Kidney-Papillary-Cell-Carcinoma\\\\GSE95425\\\\GSE95425_family.soft.gz',\n",
       " '/Users/legion/Desktop/Courses/IS389/data\\\\GEO\\\\Kidney-Papillary-Cell-Carcinoma\\\\GSE95425\\\\GSE95425_series_matrix.txt.gz')"
      ]
     },
     "execution_count": 101,
     "metadata": {},
     "output_type": "execute_result"
    }
   ],
   "source": [
    "# Finished: Biased\n",
    "cohort = accession_num = \"GSE95425\"\n",
    "cohort_dir = os.path.join(trait_path, accession_num)\n",
    "soft_file, matrix_file = get_relevant_filepaths(cohort_dir)\n",
    "soft_file, matrix_file"
   ]
  },
  {
   "cell_type": "code",
   "execution_count": 104,
   "metadata": {},
   "outputs": [
    {
     "data": {
      "text/plain": [
       "('/Users/legion/Desktop/Courses/IS389/data\\\\GEO\\\\Kidney-Papillary-Cell-Carcinoma\\\\GSE144082\\\\GSE144082_family.soft.gz',\n",
       " '/Users/legion/Desktop/Courses/IS389/data\\\\GEO\\\\Kidney-Papillary-Cell-Carcinoma\\\\GSE144082\\\\GSE144082_series_matrix.txt.gz')"
      ]
     },
     "execution_count": 104,
     "metadata": {},
     "output_type": "execute_result"
    }
   ],
   "source": [
    "# Finished: Biased\n",
    "cohort = accession_num = \"GSE144082\"\n",
    "cohort_dir = os.path.join(trait_path, accession_num)\n",
    "soft_file, matrix_file = get_relevant_filepaths(cohort_dir)\n",
    "soft_file, matrix_file"
   ]
  },
  {
   "cell_type": "code",
   "execution_count": 107,
   "metadata": {},
   "outputs": [
    {
     "data": {
      "text/plain": [
       "('/Users/legion/Desktop/Courses/IS389/data\\\\GEO\\\\Kidney-Papillary-Cell-Carcinoma\\\\GSE63003\\\\GSE63003_family.soft.gz',\n",
       " '/Users/legion/Desktop/Courses/IS389/data\\\\GEO\\\\Kidney-Papillary-Cell-Carcinoma\\\\GSE63003\\\\GSE63003-GPL17964_series_matrix.txt.gz')"
      ]
     },
     "execution_count": 107,
     "metadata": {},
     "output_type": "execute_result"
    }
   ],
   "source": [
    "# Finished\n",
    "cohort = accession_num = \"GSE63003\"\n",
    "cohort_dir = os.path.join(trait_path, accession_num)\n",
    "soft_file, matrix_file = get_relevant_filepaths(cohort_dir)\n",
    "soft_file, matrix_file"
   ]
  },
  {
   "cell_type": "code",
   "execution_count": 120,
   "metadata": {},
   "outputs": [
    {
     "data": {
      "text/plain": [
       "('/Users/legion/Desktop/Courses/IS389/data\\\\GEO\\\\Kidney-Papillary-Cell-Carcinoma\\\\GSE68950\\\\GSE68950_family.soft.gz',\n",
       " '/Users/legion/Desktop/Courses/IS389/data\\\\GEO\\\\Kidney-Papillary-Cell-Carcinoma\\\\GSE68950\\\\GSE68950_series_matrix.txt.gz')"
      ]
     },
     "execution_count": 120,
     "metadata": {},
     "output_type": "execute_result"
    }
   ],
   "source": [
    "# Finished: Biased\n",
    "cohort = accession_num = \"GSE68950\"\n",
    "cohort_dir = os.path.join(trait_path, accession_num)\n",
    "soft_file, matrix_file = get_relevant_filepaths(cohort_dir)\n",
    "soft_file, matrix_file"
   ]
  },
  {
   "cell_type": "code",
   "execution_count": 132,
   "metadata": {},
   "outputs": [
    {
     "data": {
      "text/plain": [
       "('/Users/legion/Desktop/Courses/IS389/data\\\\GEO\\\\Kidney-Papillary-Cell-Carcinoma\\\\GSE40912\\\\GSE40912_family.soft.gz',\n",
       " '/Users/legion/Desktop/Courses/IS389/data\\\\GEO\\\\Kidney-Papillary-Cell-Carcinoma\\\\GSE40912\\\\GSE40912_series_matrix.txt.gz')"
      ]
     },
     "execution_count": 132,
     "metadata": {},
     "output_type": "execute_result"
    }
   ],
   "source": [
    "# Stop: No obvious traits\n",
    "cohort = accession_num = \"GSE40912\"\n",
    "cohort_dir = os.path.join(trait_path, accession_num)\n",
    "soft_file, matrix_file = get_relevant_filepaths(cohort_dir)\n",
    "soft_file, matrix_file"
   ]
  },
  {
   "cell_type": "code",
   "execution_count": 134,
   "metadata": {},
   "outputs": [
    {
     "data": {
      "text/plain": [
       "('/Users/legion/Desktop/Courses/IS389/data\\\\GEO\\\\Kidney-Papillary-Cell-Carcinoma\\\\GSE36138\\\\GSE36138_family.soft.gz',\n",
       " '/Users/legion/Desktop/Courses/IS389/data\\\\GEO\\\\Kidney-Papillary-Cell-Carcinoma\\\\GSE36138\\\\GSE36138_series_matrix.txt.gz')"
      ]
     },
     "execution_count": 134,
     "metadata": {},
     "output_type": "execute_result"
    }
   ],
   "source": [
    "# MemoryError: Unable to allocate 162. MiB for an array with shape (21254341, 1) and data type float64\n",
    "cohort = accession_num = \"GSE36138\"\n",
    "cohort_dir = os.path.join(trait_path, accession_num)\n",
    "soft_file, matrix_file = get_relevant_filepaths(cohort_dir)\n",
    "soft_file, matrix_file"
   ]
  },
  {
   "cell_type": "code",
   "execution_count": 146,
   "metadata": {},
   "outputs": [
    {
     "data": {
      "text/plain": [
       "('/Users/legion/Desktop/Courses/IS389/data\\\\GEO\\\\Kidney-Papillary-Cell-Carcinoma\\\\GSE57162\\\\GSE57162_family.soft.gz',\n",
       " '/Users/legion/Desktop/Courses/IS389/data\\\\GEO\\\\Kidney-Papillary-Cell-Carcinoma\\\\GSE57162\\\\GSE57162_series_matrix.txt.gz')"
      ]
     },
     "execution_count": 146,
     "metadata": {},
     "output_type": "execute_result"
    }
   ],
   "source": [
    "# Finished\n",
    "cohort = accession_num = \"GSE57162\"\n",
    "cohort_dir = os.path.join(trait_path, accession_num)\n",
    "soft_file, matrix_file = get_relevant_filepaths(cohort_dir)\n",
    "soft_file, matrix_file"
   ]
  },
  {
   "cell_type": "code",
   "execution_count": 158,
   "metadata": {},
   "outputs": [
    {
     "data": {
      "text/plain": [
       "('/Users/legion/Desktop/Courses/IS389/data\\\\GEO\\\\Kidney-Papillary-Cell-Carcinoma\\\\GSE40914\\\\GSE40914_family.soft.gz',\n",
       " '/Users/legion/Desktop/Courses/IS389/data\\\\GEO\\\\Kidney-Papillary-Cell-Carcinoma\\\\GSE40914\\\\GSE40914-GPL3985_series_matrix.txt.gz')"
      ]
     },
     "execution_count": 158,
     "metadata": {},
     "output_type": "execute_result"
    }
   ],
   "source": [
    "# Stop: No obvious traits\n",
    "cohort = accession_num = \"GSE40914\"\n",
    "cohort_dir = os.path.join(trait_path, accession_num)\n",
    "soft_file, matrix_file = get_relevant_filepaths(cohort_dir)\n",
    "soft_file, matrix_file"
   ]
  },
  {
   "cell_type": "code",
   "execution_count": 160,
   "metadata": {},
   "outputs": [
    {
     "data": {
      "text/plain": [
       "('/Users/legion/Desktop/Courses/IS389/data\\\\GEO\\\\Kidney-Papillary-Cell-Carcinoma\\\\GSE36139\\\\GSE36139_family.soft.gz',\n",
       " '/Users/legion/Desktop/Courses/IS389/data\\\\GEO\\\\Kidney-Papillary-Cell-Carcinoma\\\\GSE36139\\\\GSE36139-GPL15308_series_matrix.txt.gz')"
      ]
     },
     "execution_count": 160,
     "metadata": {},
     "output_type": "execute_result"
    }
   ],
   "source": [
    "# Stop: No gene mapping\n",
    "cohort = accession_num = \"GSE36139\"\n",
    "cohort_dir = os.path.join(trait_path, accession_num)\n",
    "soft_file, matrix_file = get_relevant_filepaths(cohort_dir)\n",
    "soft_file, matrix_file"
   ]
  },
  {
   "cell_type": "code",
   "execution_count": 168,
   "metadata": {},
   "outputs": [
    {
     "data": {
      "text/plain": [
       "('/Users/legion/Desktop/Courses/IS389/data\\\\GEO\\\\Kidney-Papillary-Cell-Carcinoma\\\\GSE32474\\\\GSE32474_family.soft.gz',\n",
       " '/Users/legion/Desktop/Courses/IS389/data\\\\GEO\\\\Kidney-Papillary-Cell-Carcinoma\\\\GSE32474\\\\GSE32474_series_matrix.txt.gz')"
      ]
     },
     "execution_count": 168,
     "metadata": {},
     "output_type": "execute_result"
    }
   ],
   "source": [
    "# Finished\n",
    "cohort = accession_num = \"GSE32474\"\n",
    "cohort_dir = os.path.join(trait_path, accession_num)\n",
    "soft_file, matrix_file = get_relevant_filepaths(cohort_dir)\n",
    "soft_file, matrix_file"
   ]
  },
  {
   "cell_type": "code",
   "execution_count": 180,
   "metadata": {},
   "outputs": [
    {
     "data": {
      "text/plain": [
       "('/Users/legion/Desktop/Courses/IS389/data\\\\GEO\\\\Kidney-Papillary-Cell-Carcinoma\\\\GSE68606\\\\GSE68606_family.soft.gz',\n",
       " '/Users/legion/Desktop/Courses/IS389/data\\\\GEO\\\\Kidney-Papillary-Cell-Carcinoma\\\\GSE68606\\\\GSE68606_series_matrix.txt.gz')"
      ]
     },
     "execution_count": 180,
     "metadata": {},
     "output_type": "execute_result"
    }
   ],
   "source": [
    "# Finished\n",
    "cohort = accession_num = \"GSE68606\"\n",
    "cohort_dir = os.path.join(trait_path, accession_num)\n",
    "soft_file, matrix_file = get_relevant_filepaths(cohort_dir)\n",
    "soft_file, matrix_file"
   ]
  },
  {
   "cell_type": "markdown",
   "metadata": {},
   "source": [
    "# Prepossessing"
   ]
  },
  {
   "cell_type": "code",
   "execution_count": 181,
   "metadata": {},
   "outputs": [
    {
     "name": "stdout",
     "output_type": "stream",
     "text": [
      "!Series_title\t\"caArray_dobbi-00100: Interlaboratory comparability study of cancer gene expression analysis using oligonucleotide microarrays\"\n",
      "!Series_summary\t\"A key step in bringing gene expression data into clinical practice is the conduct of large studies to confirm preliminary models. The performance of such confirmatory studies and the transition to clinical practice requires that microarray data from different laboratories are comparable and reproducible. We designed a study to assess the comparability of data from four laboratories that will conduct a larger microarray profiling confirmation project in lung adenocarcinomas. To test the feasibility of combining data across laboratories, frozen tumor tissues, cell line pellets, and purified RNA samples were analyzed at each of the four laboratories. Samples of each type and several subsamples from each tumor and each cell line were blinded before being distributed. The laboratories followed a common protocol for all steps of tissue processing, RNA extraction, and microarray analysis using Affymetrix Human Genome U133A arrays. High within-laboratory and between-laboratory correlations were observed on the purified RNA samples, the cell lines, and the frozen tumor tissues. Intraclass correlation within laboratories was only slightly stronger than between laboratories, and the intraclass correlation tended to be weakest for genes expressed at low levels and showing small variation. Finally, hierarchical cluster analysis revealed that the repeated samples clustered together regardless of the laboratory in which the experiments were done. The findings indicate that under properly controlled conditions it is feasible to perform complete tumor microarray analysis, from tissue processing to hybridization and scanning, at multiple independent laboratories for a single study.\"\n",
      "!Series_overall_design\t\"dobbi-00100\"\n",
      "!Series_overall_design\t\"Assay Type: Gene Expression\"\n",
      "!Series_overall_design\t\"Provider: Affymetrix\"\n",
      "!Series_overall_design\t\"Array Designs: HG-U133A\"\n",
      "!Series_overall_design\t\"Organism: Homo sapiens (ncbitax)\"\n",
      "!Series_overall_design\t\"Tissue Sites: Kidney, Lung, Stomach, Uterus, Liver, Lymphoid tissue, Ovary, Skin, Adrenal Gland, Lymph_Node\"\n",
      "!Series_overall_design\t\"Material Types: cell, nuclear_RNA, synthetic_RNA, organism_part, total_RNA\"\n",
      "!Series_overall_design\t\"Disease States: Recurrent Renal Cell Carcinoma, Squamous Cell Carcinoma,Conventional_Clear_Cell_Renal_Cell_Carcinoma,Gastrointestinal_Stromal_Tumor, Lung_Adenocarcinoma, Leiomyoma, Non neoplastic liver with cirrosis, Stomach Adenocarcinoma, Large Cell Lymphoma, Ovarian Adenocarcinoma, Melanoma, Malignant G1 Stromal Tumor, Adrenal Cortical Adenoma, Metastatic Renal Cell Carcinoma, Malignant Melanoma\"\n"
     ]
    },
    {
     "data": {
      "text/html": [
       "<div>\n",
       "<style scoped>\n",
       "    .dataframe tbody tr th:only-of-type {\n",
       "        vertical-align: middle;\n",
       "    }\n",
       "\n",
       "    .dataframe tbody tr th {\n",
       "        vertical-align: top;\n",
       "    }\n",
       "\n",
       "    .dataframe thead th {\n",
       "        text-align: right;\n",
       "    }\n",
       "</style>\n",
       "<table border=\"1\" class=\"dataframe\">\n",
       "  <thead>\n",
       "    <tr style=\"text-align: right;\">\n",
       "      <th></th>\n",
       "      <th>!Sample_geo_accession</th>\n",
       "      <th>GSM1676864</th>\n",
       "      <th>GSM1676865</th>\n",
       "      <th>GSM1676866</th>\n",
       "      <th>GSM1676867</th>\n",
       "      <th>GSM1676868</th>\n",
       "      <th>GSM1676869</th>\n",
       "      <th>GSM1676870</th>\n",
       "      <th>GSM1676871</th>\n",
       "      <th>GSM1676872</th>\n",
       "      <th>...</th>\n",
       "      <th>GSM1676991</th>\n",
       "      <th>GSM1676992</th>\n",
       "      <th>GSM1676993</th>\n",
       "      <th>GSM1676994</th>\n",
       "      <th>GSM1676995</th>\n",
       "      <th>GSM1676996</th>\n",
       "      <th>GSM1676997</th>\n",
       "      <th>GSM1676998</th>\n",
       "      <th>GSM1676999</th>\n",
       "      <th>GSM1677000</th>\n",
       "    </tr>\n",
       "  </thead>\n",
       "  <tbody>\n",
       "    <tr>\n",
       "      <th>0</th>\n",
       "      <td>!Sample_characteristics_ch1</td>\n",
       "      <td>cell line: H2347</td>\n",
       "      <td>cell line: H2347</td>\n",
       "      <td>cell line: H1437</td>\n",
       "      <td>cell line: HCC78</td>\n",
       "      <td>cell line: HCC78</td>\n",
       "      <td>cell line: H2087</td>\n",
       "      <td>cell line: H2087</td>\n",
       "      <td>cell line: H2009</td>\n",
       "      <td>cell line: H2009</td>\n",
       "      <td>...</td>\n",
       "      <td>cell line: --</td>\n",
       "      <td>cell line: HCC78</td>\n",
       "      <td>cell line: H2347</td>\n",
       "      <td>cell line: H1437</td>\n",
       "      <td>cell line: H2009</td>\n",
       "      <td>cell line: H1437</td>\n",
       "      <td>cell line: H2347</td>\n",
       "      <td>cell line: H2087</td>\n",
       "      <td>cell line: --</td>\n",
       "      <td>cell line: --</td>\n",
       "    </tr>\n",
       "    <tr>\n",
       "      <th>1</th>\n",
       "      <td>!Sample_characteristics_ch1</td>\n",
       "      <td>disease state: --</td>\n",
       "      <td>disease state: --</td>\n",
       "      <td>disease state: Leiomyoma</td>\n",
       "      <td>disease state: --</td>\n",
       "      <td>disease state: --</td>\n",
       "      <td>disease state: --</td>\n",
       "      <td>disease state: --</td>\n",
       "      <td>disease state: --</td>\n",
       "      <td>disease state: --</td>\n",
       "      <td>...</td>\n",
       "      <td>disease state: Squamous Cell Carcinoma</td>\n",
       "      <td>disease state: --</td>\n",
       "      <td>disease state: --</td>\n",
       "      <td>disease state: --</td>\n",
       "      <td>disease state: --</td>\n",
       "      <td>disease state: --</td>\n",
       "      <td>disease state: --</td>\n",
       "      <td>disease state: --</td>\n",
       "      <td>disease state: --</td>\n",
       "      <td>disease state: --</td>\n",
       "    </tr>\n",
       "    <tr>\n",
       "      <th>2</th>\n",
       "      <td>!Sample_characteristics_ch1</td>\n",
       "      <td>tumor grading: --</td>\n",
       "      <td>tumor grading: --</td>\n",
       "      <td>tumor grading: --</td>\n",
       "      <td>tumor grading: --</td>\n",
       "      <td>tumor grading: --</td>\n",
       "      <td>tumor grading: --</td>\n",
       "      <td>tumor grading: --</td>\n",
       "      <td>tumor grading: --</td>\n",
       "      <td>tumor grading: --</td>\n",
       "      <td>...</td>\n",
       "      <td>tumor grading: --</td>\n",
       "      <td>tumor grading: --</td>\n",
       "      <td>tumor grading: --</td>\n",
       "      <td>tumor grading: --</td>\n",
       "      <td>tumor grading: --</td>\n",
       "      <td>tumor grading: --</td>\n",
       "      <td>tumor grading: --</td>\n",
       "      <td>tumor grading: --</td>\n",
       "      <td>tumor grading: --</td>\n",
       "      <td>tumor grading: --</td>\n",
       "    </tr>\n",
       "    <tr>\n",
       "      <th>3</th>\n",
       "      <td>!Sample_characteristics_ch1</td>\n",
       "      <td>disease stage: --</td>\n",
       "      <td>disease stage: --</td>\n",
       "      <td>disease stage: --</td>\n",
       "      <td>disease stage: --</td>\n",
       "      <td>disease stage: --</td>\n",
       "      <td>disease stage: --</td>\n",
       "      <td>disease stage: --</td>\n",
       "      <td>disease stage: --</td>\n",
       "      <td>disease stage: --</td>\n",
       "      <td>...</td>\n",
       "      <td>disease stage: --</td>\n",
       "      <td>disease stage: --</td>\n",
       "      <td>disease stage: --</td>\n",
       "      <td>disease stage: --</td>\n",
       "      <td>disease stage: --</td>\n",
       "      <td>disease stage: --</td>\n",
       "      <td>disease stage: --</td>\n",
       "      <td>disease stage: --</td>\n",
       "      <td>disease stage: --</td>\n",
       "      <td>disease stage: --</td>\n",
       "    </tr>\n",
       "    <tr>\n",
       "      <th>4</th>\n",
       "      <td>!Sample_characteristics_ch1</td>\n",
       "      <td>organism part: --</td>\n",
       "      <td>organism part: --</td>\n",
       "      <td>organism part: Uterus</td>\n",
       "      <td>organism part: --</td>\n",
       "      <td>organism part: --</td>\n",
       "      <td>organism part: --</td>\n",
       "      <td>organism part: --</td>\n",
       "      <td>organism part: --</td>\n",
       "      <td>organism part: --</td>\n",
       "      <td>...</td>\n",
       "      <td>organism part: Lung</td>\n",
       "      <td>organism part: --</td>\n",
       "      <td>organism part: --</td>\n",
       "      <td>organism part: --</td>\n",
       "      <td>organism part: --</td>\n",
       "      <td>organism part: --</td>\n",
       "      <td>organism part: --</td>\n",
       "      <td>organism part: --</td>\n",
       "      <td>organism part: --</td>\n",
       "      <td>organism part: --</td>\n",
       "    </tr>\n",
       "    <tr>\n",
       "      <th>5</th>\n",
       "      <td>!Sample_characteristics_ch1</td>\n",
       "      <td>Sex: --</td>\n",
       "      <td>Sex: --</td>\n",
       "      <td>Sex: female</td>\n",
       "      <td>Sex: --</td>\n",
       "      <td>Sex: --</td>\n",
       "      <td>Sex: --</td>\n",
       "      <td>Sex: --</td>\n",
       "      <td>Sex: --</td>\n",
       "      <td>Sex: --</td>\n",
       "      <td>...</td>\n",
       "      <td>Sex: --</td>\n",
       "      <td>Sex: --</td>\n",
       "      <td>Sex: --</td>\n",
       "      <td>Sex: --</td>\n",
       "      <td>Sex: --</td>\n",
       "      <td>Sex: --</td>\n",
       "      <td>Sex: --</td>\n",
       "      <td>Sex: --</td>\n",
       "      <td>Sex: --</td>\n",
       "      <td>Sex: --</td>\n",
       "    </tr>\n",
       "    <tr>\n",
       "      <th>6</th>\n",
       "      <td>!Sample_characteristics_ch1</td>\n",
       "      <td>age: --</td>\n",
       "      <td>age: --</td>\n",
       "      <td>age: --</td>\n",
       "      <td>age: --</td>\n",
       "      <td>age: --</td>\n",
       "      <td>age: --</td>\n",
       "      <td>age: --</td>\n",
       "      <td>age: --</td>\n",
       "      <td>age: --</td>\n",
       "      <td>...</td>\n",
       "      <td>age: --</td>\n",
       "      <td>age: --</td>\n",
       "      <td>age: --</td>\n",
       "      <td>age: --</td>\n",
       "      <td>age: --</td>\n",
       "      <td>age: --</td>\n",
       "      <td>age: --</td>\n",
       "      <td>age: --</td>\n",
       "      <td>age: --</td>\n",
       "      <td>age: --</td>\n",
       "    </tr>\n",
       "    <tr>\n",
       "      <th>7</th>\n",
       "      <td>!Sample_characteristics_ch1</td>\n",
       "      <td>histology: --</td>\n",
       "      <td>histology: --</td>\n",
       "      <td>histology: Leiomyoma</td>\n",
       "      <td>histology: --</td>\n",
       "      <td>histology: --</td>\n",
       "      <td>histology: --</td>\n",
       "      <td>histology: --</td>\n",
       "      <td>histology: --</td>\n",
       "      <td>histology: --</td>\n",
       "      <td>...</td>\n",
       "      <td>histology: Squamous Cell Carcinoma</td>\n",
       "      <td>histology: --</td>\n",
       "      <td>histology: --</td>\n",
       "      <td>histology: --</td>\n",
       "      <td>histology: --</td>\n",
       "      <td>histology: --</td>\n",
       "      <td>histology: --</td>\n",
       "      <td>histology: --</td>\n",
       "      <td>histology: --</td>\n",
       "      <td>histology: --</td>\n",
       "    </tr>\n",
       "  </tbody>\n",
       "</table>\n",
       "<p>8 rows × 138 columns</p>\n",
       "</div>"
      ],
      "text/plain": [
       "         !Sample_geo_accession         GSM1676864         GSM1676865  \\\n",
       "0  !Sample_characteristics_ch1   cell line: H2347   cell line: H2347   \n",
       "1  !Sample_characteristics_ch1  disease state: --  disease state: --   \n",
       "2  !Sample_characteristics_ch1  tumor grading: --  tumor grading: --   \n",
       "3  !Sample_characteristics_ch1  disease stage: --  disease stage: --   \n",
       "4  !Sample_characteristics_ch1  organism part: --  organism part: --   \n",
       "5  !Sample_characteristics_ch1            Sex: --            Sex: --   \n",
       "6  !Sample_characteristics_ch1            age: --            age: --   \n",
       "7  !Sample_characteristics_ch1      histology: --      histology: --   \n",
       "\n",
       "                 GSM1676866         GSM1676867         GSM1676868  \\\n",
       "0          cell line: H1437   cell line: HCC78   cell line: HCC78   \n",
       "1  disease state: Leiomyoma  disease state: --  disease state: --   \n",
       "2         tumor grading: --  tumor grading: --  tumor grading: --   \n",
       "3         disease stage: --  disease stage: --  disease stage: --   \n",
       "4     organism part: Uterus  organism part: --  organism part: --   \n",
       "5               Sex: female            Sex: --            Sex: --   \n",
       "6                   age: --            age: --            age: --   \n",
       "7      histology: Leiomyoma      histology: --      histology: --   \n",
       "\n",
       "          GSM1676869         GSM1676870         GSM1676871         GSM1676872  \\\n",
       "0   cell line: H2087   cell line: H2087   cell line: H2009   cell line: H2009   \n",
       "1  disease state: --  disease state: --  disease state: --  disease state: --   \n",
       "2  tumor grading: --  tumor grading: --  tumor grading: --  tumor grading: --   \n",
       "3  disease stage: --  disease stage: --  disease stage: --  disease stage: --   \n",
       "4  organism part: --  organism part: --  organism part: --  organism part: --   \n",
       "5            Sex: --            Sex: --            Sex: --            Sex: --   \n",
       "6            age: --            age: --            age: --            age: --   \n",
       "7      histology: --      histology: --      histology: --      histology: --   \n",
       "\n",
       "   ...                              GSM1676991         GSM1676992  \\\n",
       "0  ...                           cell line: --   cell line: HCC78   \n",
       "1  ...  disease state: Squamous Cell Carcinoma  disease state: --   \n",
       "2  ...                       tumor grading: --  tumor grading: --   \n",
       "3  ...                       disease stage: --  disease stage: --   \n",
       "4  ...                     organism part: Lung  organism part: --   \n",
       "5  ...                                 Sex: --            Sex: --   \n",
       "6  ...                                 age: --            age: --   \n",
       "7  ...      histology: Squamous Cell Carcinoma      histology: --   \n",
       "\n",
       "          GSM1676993         GSM1676994         GSM1676995         GSM1676996  \\\n",
       "0   cell line: H2347   cell line: H1437   cell line: H2009   cell line: H1437   \n",
       "1  disease state: --  disease state: --  disease state: --  disease state: --   \n",
       "2  tumor grading: --  tumor grading: --  tumor grading: --  tumor grading: --   \n",
       "3  disease stage: --  disease stage: --  disease stage: --  disease stage: --   \n",
       "4  organism part: --  organism part: --  organism part: --  organism part: --   \n",
       "5            Sex: --            Sex: --            Sex: --            Sex: --   \n",
       "6            age: --            age: --            age: --            age: --   \n",
       "7      histology: --      histology: --      histology: --      histology: --   \n",
       "\n",
       "          GSM1676997         GSM1676998         GSM1676999         GSM1677000  \n",
       "0   cell line: H2347   cell line: H2087      cell line: --      cell line: --  \n",
       "1  disease state: --  disease state: --  disease state: --  disease state: --  \n",
       "2  tumor grading: --  tumor grading: --  tumor grading: --  tumor grading: --  \n",
       "3  disease stage: --  disease stage: --  disease stage: --  disease stage: --  \n",
       "4  organism part: --  organism part: --  organism part: --  organism part: --  \n",
       "5            Sex: --            Sex: --            Sex: --            Sex: --  \n",
       "6            age: --            age: --            age: --            age: --  \n",
       "7      histology: --      histology: --      histology: --      histology: --  \n",
       "\n",
       "[8 rows x 138 columns]"
      ]
     },
     "execution_count": 181,
     "metadata": {},
     "output_type": "execute_result"
    }
   ],
   "source": [
    "from utils import *\n",
    "import io\n",
    "background_prefixes = ['!Series_title', '!Series_summary', '!Series_overall_design']\n",
    "clinical_prefixes = ['!Sample_geo_accession', '!Sample_characteristics_ch1']\n",
    "\n",
    "background_info, clinical_data = get_background_and_clinical_data(matrix_file, background_prefixes, clinical_prefixes)\n",
    "print(background_info)\n",
    "\n",
    "clinical_data"
   ]
  },
  {
   "cell_type": "code",
   "execution_count": 183,
   "metadata": {},
   "outputs": [
    {
     "data": {
      "text/plain": [
       "array(['!Sample_characteristics_ch1', 'disease state: --',\n",
       "       'disease state: Leiomyoma', 'disease state: Lung_Adenocarcinoma',\n",
       "       'disease state: Conventional_Clear_Cell_Renal_Cell_Carcinoma',\n",
       "       'disease state: Squamous Cell Carcinoma',\n",
       "       'disease state: Stomach Adenocarcinoma',\n",
       "       'disease state: Large Cell Lymphoma',\n",
       "       'disease state: Malignant Melanoma',\n",
       "       'disease state: Recurrent Renal Cell Carcinoma',\n",
       "       'disease state: Adrenal Cortical Adenoma',\n",
       "       'disease state: Ovarian Adenocarcinoma',\n",
       "       'disease state: Gastrointestinal_Stromal_Tumor',\n",
       "       'disease state: Metastatic Renal Cell Carcinoma',\n",
       "       'disease state: Non neoplastic liver with cirrosis',\n",
       "       'disease state: Malignant G1 Stromal Tumor',\n",
       "       'disease state: melanoma'], dtype=object)"
      ]
     },
     "execution_count": 183,
     "metadata": {},
     "output_type": "execute_result"
    }
   ],
   "source": [
    "tumor_stage_row = clinical_data.iloc[1]\n",
    "tumor_stage_row.unique()"
   ]
  },
  {
   "cell_type": "code",
   "execution_count": 185,
   "metadata": {},
   "outputs": [],
   "source": [
    "is_gene_availabe = True\n",
    "trait_row = 1\n",
    "age_row = None\n",
    "gender_row = None\n",
    "\n",
    "trait_type = 'binary'\n",
    "\n",
    "# Verify and use the functions generated by GPT\n",
    "\n",
    "# 这个函数将组织类型（tissue type）转换为有关癫痫存在与否的二进制值。\n",
    "# 它是基于特定的假设，即如果组织类型是“胰腺导管腺癌”（Pancreatic Ductal Adenocarcinoma），则认为癫痫存在（返回1）；否则，认为癫痫不存在（返回0）。\n",
    "def convert_trait(tissue_type):\n",
    "    \"\"\"\n",
    "    Convert tissue type to epilepsy presence (binary).\n",
    "    Assuming epilepsy presence for 'Hippocampus' tissue.\n",
    "    \"\"\"\n",
    "    if (tissue_type == 'disease state: Conventional_Clear_Cell_Renal_Cell_Carcinoma' or tissue_type == 'disease state: Recurrent Renal Cell Carcinoma' or tissue_type == 'disease state: Metastatic Renal Cell Carcinoma'):\n",
    "        return 1  # Epilepsy present\n",
    "    else:\n",
    "        return 0  # Epilepsy not present\n",
    "\n",
    "\n",
    "# def convert_trait(tumor_grade):\n",
    "#     if (tumor_grade == 'tumor grade: 2' or tumor_grade == 'tumor grade: 3' or tumor_grade == 'tumor grade: 4'):\n",
    "#         return 1  \n",
    "#     elif tumor_grade == 'tumor grade: 1':\n",
    "#         return 0  \n",
    "#     else:\n",
    "#         return None\n",
    "\n",
    "# 这个函数的目的是将年龄的字符串表示转换为一个连续的数值型表示。如果年龄未知（例如，标记为'n.a.'），则返回None。\n",
    "# 函数尝试从传入的字符串中提取出一个整数作为年龄值。如果字符串的格式不符合预期，导致提取失败，同样返回None。\n",
    "def convert_age(age_string):\n",
    "    \"\"\"\n",
    "    Convert age string to a continuous numerical value.\n",
    "    Unknown values are converted to None.\n",
    "    \"\"\"\n",
    "    if age_string.lower() == 'n.a.':\n",
    "        return None\n",
    "    try:\n",
    "        # Extract age as an integer from the string\n",
    "        age = int(age_string.split(':')[1])\n",
    "        return age\n",
    "    except (ValueError, IndexError):\n",
    "        # In case of any format error or unexpected string structure\n",
    "        return None\n",
    "\n",
    "\n",
    "# 这个函数将性别的字符串表示转换为二进制值，其中“female”对应1，“male”对应0。如果性别未知或字符串不符合预期格式，则返回None。\n",
    "# It sometimes maps 'female' to 0, and sometimes 1. Does it matter?\n",
    "def convert_gender(gender_string):\n",
    "    \"\"\"\n",
    "    Convert gender string to a binary value.\n",
    "    'female' is represented as 1, 'male' as 0.\n",
    "    Unknown values are converted to None.\n",
    "    \"\"\"\n",
    "    if (gender_string.lower() == 'sex: female' or gender_string.lower() == 'sex: f' or gender_string.lower() == 'gender: female' or gender_string.lower() == 'gender: f'):\n",
    "        return 1\n",
    "    elif (gender_string.lower() == 'sex: male' or gender_string.lower() == 'sex: m' or gender_string.lower() == 'gender: male' or gender_string.lower() == 'gender: m') :  # changeed \n",
    "        return 0\n",
    "    else:\n",
    "        return None"
   ]
  },
  {
   "cell_type": "code",
   "execution_count": 186,
   "metadata": {},
   "outputs": [
    {
     "name": "stderr",
     "output_type": "stream",
     "text": [
      "c:\\Users\\legion\\Desktop\\TAIS_2024SP\\TAIS_2024SP\\Jiayi\\..\\utils.py:218: FutureWarning: DataFrame.applymap has been deprecated. Use DataFrame.map instead.\n",
      "  clinical_df = clinical_df.applymap(convert_fn)\n"
     ]
    },
    {
     "data": {
      "text/html": [
       "<div>\n",
       "<style scoped>\n",
       "    .dataframe tbody tr th:only-of-type {\n",
       "        vertical-align: middle;\n",
       "    }\n",
       "\n",
       "    .dataframe tbody tr th {\n",
       "        vertical-align: top;\n",
       "    }\n",
       "\n",
       "    .dataframe thead th {\n",
       "        text-align: right;\n",
       "    }\n",
       "</style>\n",
       "<table border=\"1\" class=\"dataframe\">\n",
       "  <thead>\n",
       "    <tr style=\"text-align: right;\">\n",
       "      <th></th>\n",
       "      <th>GSM1676864</th>\n",
       "      <th>GSM1676865</th>\n",
       "      <th>GSM1676866</th>\n",
       "      <th>GSM1676867</th>\n",
       "      <th>GSM1676868</th>\n",
       "      <th>GSM1676869</th>\n",
       "      <th>GSM1676870</th>\n",
       "      <th>GSM1676871</th>\n",
       "      <th>GSM1676872</th>\n",
       "      <th>GSM1676873</th>\n",
       "      <th>...</th>\n",
       "      <th>GSM1676991</th>\n",
       "      <th>GSM1676992</th>\n",
       "      <th>GSM1676993</th>\n",
       "      <th>GSM1676994</th>\n",
       "      <th>GSM1676995</th>\n",
       "      <th>GSM1676996</th>\n",
       "      <th>GSM1676997</th>\n",
       "      <th>GSM1676998</th>\n",
       "      <th>GSM1676999</th>\n",
       "      <th>GSM1677000</th>\n",
       "    </tr>\n",
       "  </thead>\n",
       "  <tbody>\n",
       "    <tr>\n",
       "      <th>Kidney Papillary Cell Carcinoma</th>\n",
       "      <td>0</td>\n",
       "      <td>0</td>\n",
       "      <td>0</td>\n",
       "      <td>0</td>\n",
       "      <td>0</td>\n",
       "      <td>0</td>\n",
       "      <td>0</td>\n",
       "      <td>0</td>\n",
       "      <td>0</td>\n",
       "      <td>0</td>\n",
       "      <td>...</td>\n",
       "      <td>0</td>\n",
       "      <td>0</td>\n",
       "      <td>0</td>\n",
       "      <td>0</td>\n",
       "      <td>0</td>\n",
       "      <td>0</td>\n",
       "      <td>0</td>\n",
       "      <td>0</td>\n",
       "      <td>0</td>\n",
       "      <td>0</td>\n",
       "    </tr>\n",
       "  </tbody>\n",
       "</table>\n",
       "<p>1 rows × 137 columns</p>\n",
       "</div>"
      ],
      "text/plain": [
       "                                 GSM1676864  GSM1676865  GSM1676866  \\\n",
       "Kidney Papillary Cell Carcinoma           0           0           0   \n",
       "\n",
       "                                 GSM1676867  GSM1676868  GSM1676869  \\\n",
       "Kidney Papillary Cell Carcinoma           0           0           0   \n",
       "\n",
       "                                 GSM1676870  GSM1676871  GSM1676872  \\\n",
       "Kidney Papillary Cell Carcinoma           0           0           0   \n",
       "\n",
       "                                 GSM1676873  ...  GSM1676991  GSM1676992  \\\n",
       "Kidney Papillary Cell Carcinoma           0  ...           0           0   \n",
       "\n",
       "                                 GSM1676993  GSM1676994  GSM1676995  \\\n",
       "Kidney Papillary Cell Carcinoma           0           0           0   \n",
       "\n",
       "                                 GSM1676996  GSM1676997  GSM1676998  \\\n",
       "Kidney Papillary Cell Carcinoma           0           0           0   \n",
       "\n",
       "                                 GSM1676999  GSM1677000  \n",
       "Kidney Papillary Cell Carcinoma           0           0  \n",
       "\n",
       "[1 rows x 137 columns]"
      ]
     },
     "execution_count": 186,
     "metadata": {},
     "output_type": "execute_result"
    }
   ],
   "source": [
    "selected_clinical_data = geo_select_clinical_features(clinical_data, TRAIT, trait_row, convert_trait, age_row=age_row,\n",
    "                                                      convert_age=convert_age, gender_row=gender_row,\n",
    "                                                      convert_gender=convert_gender)\n",
    "selected_clinical_data.head()"
   ]
  },
  {
   "cell_type": "code",
   "execution_count": 187,
   "metadata": {},
   "outputs": [
    {
     "data": {
      "text/html": [
       "<div>\n",
       "<style scoped>\n",
       "    .dataframe tbody tr th:only-of-type {\n",
       "        vertical-align: middle;\n",
       "    }\n",
       "\n",
       "    .dataframe tbody tr th {\n",
       "        vertical-align: top;\n",
       "    }\n",
       "\n",
       "    .dataframe thead th {\n",
       "        text-align: right;\n",
       "    }\n",
       "</style>\n",
       "<table border=\"1\" class=\"dataframe\">\n",
       "  <thead>\n",
       "    <tr style=\"text-align: right;\">\n",
       "      <th></th>\n",
       "      <th>GSM1676864</th>\n",
       "      <th>GSM1676865</th>\n",
       "      <th>GSM1676866</th>\n",
       "      <th>GSM1676867</th>\n",
       "      <th>GSM1676868</th>\n",
       "      <th>GSM1676869</th>\n",
       "      <th>GSM1676870</th>\n",
       "      <th>GSM1676871</th>\n",
       "      <th>GSM1676872</th>\n",
       "      <th>GSM1676873</th>\n",
       "      <th>...</th>\n",
       "      <th>GSM1676991</th>\n",
       "      <th>GSM1676992</th>\n",
       "      <th>GSM1676993</th>\n",
       "      <th>GSM1676994</th>\n",
       "      <th>GSM1676995</th>\n",
       "      <th>GSM1676996</th>\n",
       "      <th>GSM1676997</th>\n",
       "      <th>GSM1676998</th>\n",
       "      <th>GSM1676999</th>\n",
       "      <th>GSM1677000</th>\n",
       "    </tr>\n",
       "    <tr>\n",
       "      <th>ID</th>\n",
       "      <th></th>\n",
       "      <th></th>\n",
       "      <th></th>\n",
       "      <th></th>\n",
       "      <th></th>\n",
       "      <th></th>\n",
       "      <th></th>\n",
       "      <th></th>\n",
       "      <th></th>\n",
       "      <th></th>\n",
       "      <th></th>\n",
       "      <th></th>\n",
       "      <th></th>\n",
       "      <th></th>\n",
       "      <th></th>\n",
       "      <th></th>\n",
       "      <th></th>\n",
       "      <th></th>\n",
       "      <th></th>\n",
       "      <th></th>\n",
       "      <th></th>\n",
       "    </tr>\n",
       "  </thead>\n",
       "  <tbody>\n",
       "    <tr>\n",
       "      <th>1007_s_at</th>\n",
       "      <td>1932.38000</td>\n",
       "      <td>1032.65000</td>\n",
       "      <td>1282.80000</td>\n",
       "      <td>2688.61000</td>\n",
       "      <td>2189.27000</td>\n",
       "      <td>342.63900</td>\n",
       "      <td>254.99600</td>\n",
       "      <td>2225.93000</td>\n",
       "      <td>2785.70000</td>\n",
       "      <td>1785.58000</td>\n",
       "      <td>...</td>\n",
       "      <td>2212.02000</td>\n",
       "      <td>1105.37000</td>\n",
       "      <td>1429.44000</td>\n",
       "      <td>1034.43000</td>\n",
       "      <td>1963.04000</td>\n",
       "      <td>685.84300</td>\n",
       "      <td>1038.43000</td>\n",
       "      <td>267.58600</td>\n",
       "      <td>854.45600</td>\n",
       "      <td>1051.03000</td>\n",
       "    </tr>\n",
       "    <tr>\n",
       "      <th>1053_at</th>\n",
       "      <td>833.80500</td>\n",
       "      <td>1034.23000</td>\n",
       "      <td>647.45200</td>\n",
       "      <td>149.05600</td>\n",
       "      <td>315.93400</td>\n",
       "      <td>155.56400</td>\n",
       "      <td>312.14500</td>\n",
       "      <td>431.22300</td>\n",
       "      <td>325.09200</td>\n",
       "      <td>793.21600</td>\n",
       "      <td>...</td>\n",
       "      <td>199.23700</td>\n",
       "      <td>514.35200</td>\n",
       "      <td>879.66300</td>\n",
       "      <td>1314.85000</td>\n",
       "      <td>625.29200</td>\n",
       "      <td>727.30500</td>\n",
       "      <td>521.02900</td>\n",
       "      <td>205.01300</td>\n",
       "      <td>478.05300</td>\n",
       "      <td>466.55800</td>\n",
       "    </tr>\n",
       "    <tr>\n",
       "      <th>117_at</th>\n",
       "      <td>122.25500</td>\n",
       "      <td>59.32650</td>\n",
       "      <td>126.75000</td>\n",
       "      <td>139.89900</td>\n",
       "      <td>98.95540</td>\n",
       "      <td>66.88500</td>\n",
       "      <td>74.15530</td>\n",
       "      <td>131.67200</td>\n",
       "      <td>77.37710</td>\n",
       "      <td>120.16700</td>\n",
       "      <td>...</td>\n",
       "      <td>429.30400</td>\n",
       "      <td>101.45700</td>\n",
       "      <td>91.43080</td>\n",
       "      <td>83.34430</td>\n",
       "      <td>197.26200</td>\n",
       "      <td>115.29900</td>\n",
       "      <td>128.30800</td>\n",
       "      <td>84.83030</td>\n",
       "      <td>110.79500</td>\n",
       "      <td>94.88720</td>\n",
       "    </tr>\n",
       "    <tr>\n",
       "      <th>121_at</th>\n",
       "      <td>1134.54000</td>\n",
       "      <td>1058.97000</td>\n",
       "      <td>1107.48000</td>\n",
       "      <td>1712.00000</td>\n",
       "      <td>1175.17000</td>\n",
       "      <td>1004.85000</td>\n",
       "      <td>943.42200</td>\n",
       "      <td>1246.45000</td>\n",
       "      <td>1114.25000</td>\n",
       "      <td>1289.73000</td>\n",
       "      <td>...</td>\n",
       "      <td>1237.05000</td>\n",
       "      <td>848.33100</td>\n",
       "      <td>760.27900</td>\n",
       "      <td>608.74700</td>\n",
       "      <td>750.60200</td>\n",
       "      <td>815.26600</td>\n",
       "      <td>822.66700</td>\n",
       "      <td>513.12200</td>\n",
       "      <td>741.42200</td>\n",
       "      <td>630.62300</td>\n",
       "    </tr>\n",
       "    <tr>\n",
       "      <th>1255_g_at</th>\n",
       "      <td>26.65850</td>\n",
       "      <td>41.44600</td>\n",
       "      <td>58.22860</td>\n",
       "      <td>77.86010</td>\n",
       "      <td>70.63870</td>\n",
       "      <td>37.91410</td>\n",
       "      <td>16.55080</td>\n",
       "      <td>106.73700</td>\n",
       "      <td>77.79580</td>\n",
       "      <td>67.82810</td>\n",
       "      <td>...</td>\n",
       "      <td>19.03560</td>\n",
       "      <td>16.15000</td>\n",
       "      <td>8.93552</td>\n",
       "      <td>3.17154</td>\n",
       "      <td>93.98570</td>\n",
       "      <td>33.79360</td>\n",
       "      <td>25.44110</td>\n",
       "      <td>25.68730</td>\n",
       "      <td>32.24910</td>\n",
       "      <td>12.31470</td>\n",
       "    </tr>\n",
       "    <tr>\n",
       "      <th>...</th>\n",
       "      <td>...</td>\n",
       "      <td>...</td>\n",
       "      <td>...</td>\n",
       "      <td>...</td>\n",
       "      <td>...</td>\n",
       "      <td>...</td>\n",
       "      <td>...</td>\n",
       "      <td>...</td>\n",
       "      <td>...</td>\n",
       "      <td>...</td>\n",
       "      <td>...</td>\n",
       "      <td>...</td>\n",
       "      <td>...</td>\n",
       "      <td>...</td>\n",
       "      <td>...</td>\n",
       "      <td>...</td>\n",
       "      <td>...</td>\n",
       "      <td>...</td>\n",
       "      <td>...</td>\n",
       "      <td>...</td>\n",
       "      <td>...</td>\n",
       "    </tr>\n",
       "    <tr>\n",
       "      <th>AFFX-ThrX-5_at</th>\n",
       "      <td>7.04814</td>\n",
       "      <td>8.57466</td>\n",
       "      <td>9.11362</td>\n",
       "      <td>12.67890</td>\n",
       "      <td>14.98140</td>\n",
       "      <td>15.68270</td>\n",
       "      <td>5.77798</td>\n",
       "      <td>9.34684</td>\n",
       "      <td>8.36869</td>\n",
       "      <td>8.44274</td>\n",
       "      <td>...</td>\n",
       "      <td>53.56280</td>\n",
       "      <td>7.69069</td>\n",
       "      <td>7.84491</td>\n",
       "      <td>4.28603</td>\n",
       "      <td>24.32590</td>\n",
       "      <td>7.12141</td>\n",
       "      <td>8.55965</td>\n",
       "      <td>18.17220</td>\n",
       "      <td>60.04510</td>\n",
       "      <td>5.14640</td>\n",
       "    </tr>\n",
       "    <tr>\n",
       "      <th>AFFX-ThrX-M_at</th>\n",
       "      <td>27.75430</td>\n",
       "      <td>24.09150</td>\n",
       "      <td>31.00100</td>\n",
       "      <td>25.64010</td>\n",
       "      <td>38.78030</td>\n",
       "      <td>16.97470</td>\n",
       "      <td>25.77740</td>\n",
       "      <td>18.24490</td>\n",
       "      <td>25.75680</td>\n",
       "      <td>28.71170</td>\n",
       "      <td>...</td>\n",
       "      <td>71.87460</td>\n",
       "      <td>26.04780</td>\n",
       "      <td>7.86226</td>\n",
       "      <td>5.50425</td>\n",
       "      <td>65.32950</td>\n",
       "      <td>30.76890</td>\n",
       "      <td>7.79044</td>\n",
       "      <td>33.48380</td>\n",
       "      <td>15.24170</td>\n",
       "      <td>23.51990</td>\n",
       "    </tr>\n",
       "    <tr>\n",
       "      <th>AFFX-TrpnX-3_at</th>\n",
       "      <td>3.24531</td>\n",
       "      <td>2.72867</td>\n",
       "      <td>20.23790</td>\n",
       "      <td>19.78960</td>\n",
       "      <td>13.26810</td>\n",
       "      <td>13.99090</td>\n",
       "      <td>3.08212</td>\n",
       "      <td>1.03356</td>\n",
       "      <td>29.03380</td>\n",
       "      <td>3.06343</td>\n",
       "      <td>...</td>\n",
       "      <td>2.39710</td>\n",
       "      <td>16.63280</td>\n",
       "      <td>1.82486</td>\n",
       "      <td>5.90471</td>\n",
       "      <td>5.78538</td>\n",
       "      <td>2.84332</td>\n",
       "      <td>2.08798</td>\n",
       "      <td>16.99070</td>\n",
       "      <td>4.29375</td>\n",
       "      <td>2.71848</td>\n",
       "    </tr>\n",
       "    <tr>\n",
       "      <th>AFFX-TrpnX-5_at</th>\n",
       "      <td>7.19261</td>\n",
       "      <td>7.76122</td>\n",
       "      <td>26.20500</td>\n",
       "      <td>12.48630</td>\n",
       "      <td>5.29735</td>\n",
       "      <td>4.88854</td>\n",
       "      <td>28.73010</td>\n",
       "      <td>9.19403</td>\n",
       "      <td>7.81333</td>\n",
       "      <td>43.42730</td>\n",
       "      <td>...</td>\n",
       "      <td>18.31710</td>\n",
       "      <td>27.25600</td>\n",
       "      <td>38.41590</td>\n",
       "      <td>4.80571</td>\n",
       "      <td>60.95720</td>\n",
       "      <td>32.79150</td>\n",
       "      <td>38.91350</td>\n",
       "      <td>7.47526</td>\n",
       "      <td>12.16950</td>\n",
       "      <td>31.59900</td>\n",
       "    </tr>\n",
       "    <tr>\n",
       "      <th>AFFX-TrpnX-M_at</th>\n",
       "      <td>8.09025</td>\n",
       "      <td>3.45767</td>\n",
       "      <td>8.66451</td>\n",
       "      <td>7.16433</td>\n",
       "      <td>5.50763</td>\n",
       "      <td>2.13851</td>\n",
       "      <td>7.10520</td>\n",
       "      <td>4.43261</td>\n",
       "      <td>9.89462</td>\n",
       "      <td>6.24205</td>\n",
       "      <td>...</td>\n",
       "      <td>8.93558</td>\n",
       "      <td>5.40206</td>\n",
       "      <td>7.78304</td>\n",
       "      <td>2.96822</td>\n",
       "      <td>6.76194</td>\n",
       "      <td>7.41068</td>\n",
       "      <td>8.06491</td>\n",
       "      <td>9.67596</td>\n",
       "      <td>3.60275</td>\n",
       "      <td>7.40940</td>\n",
       "    </tr>\n",
       "  </tbody>\n",
       "</table>\n",
       "<p>22283 rows × 137 columns</p>\n",
       "</div>"
      ],
      "text/plain": [
       "                 GSM1676864  GSM1676865  GSM1676866  GSM1676867  GSM1676868  \\\n",
       "ID                                                                            \n",
       "1007_s_at        1932.38000  1032.65000  1282.80000  2688.61000  2189.27000   \n",
       "1053_at           833.80500  1034.23000   647.45200   149.05600   315.93400   \n",
       "117_at            122.25500    59.32650   126.75000   139.89900    98.95540   \n",
       "121_at           1134.54000  1058.97000  1107.48000  1712.00000  1175.17000   \n",
       "1255_g_at          26.65850    41.44600    58.22860    77.86010    70.63870   \n",
       "...                     ...         ...         ...         ...         ...   \n",
       "AFFX-ThrX-5_at      7.04814     8.57466     9.11362    12.67890    14.98140   \n",
       "AFFX-ThrX-M_at     27.75430    24.09150    31.00100    25.64010    38.78030   \n",
       "AFFX-TrpnX-3_at     3.24531     2.72867    20.23790    19.78960    13.26810   \n",
       "AFFX-TrpnX-5_at     7.19261     7.76122    26.20500    12.48630     5.29735   \n",
       "AFFX-TrpnX-M_at     8.09025     3.45767     8.66451     7.16433     5.50763   \n",
       "\n",
       "                 GSM1676869  GSM1676870  GSM1676871  GSM1676872  GSM1676873  \\\n",
       "ID                                                                            \n",
       "1007_s_at         342.63900   254.99600  2225.93000  2785.70000  1785.58000   \n",
       "1053_at           155.56400   312.14500   431.22300   325.09200   793.21600   \n",
       "117_at             66.88500    74.15530   131.67200    77.37710   120.16700   \n",
       "121_at           1004.85000   943.42200  1246.45000  1114.25000  1289.73000   \n",
       "1255_g_at          37.91410    16.55080   106.73700    77.79580    67.82810   \n",
       "...                     ...         ...         ...         ...         ...   \n",
       "AFFX-ThrX-5_at     15.68270     5.77798     9.34684     8.36869     8.44274   \n",
       "AFFX-ThrX-M_at     16.97470    25.77740    18.24490    25.75680    28.71170   \n",
       "AFFX-TrpnX-3_at    13.99090     3.08212     1.03356    29.03380     3.06343   \n",
       "AFFX-TrpnX-5_at     4.88854    28.73010     9.19403     7.81333    43.42730   \n",
       "AFFX-TrpnX-M_at     2.13851     7.10520     4.43261     9.89462     6.24205   \n",
       "\n",
       "                 ...  GSM1676991  GSM1676992  GSM1676993  GSM1676994  \\\n",
       "ID               ...                                                   \n",
       "1007_s_at        ...  2212.02000  1105.37000  1429.44000  1034.43000   \n",
       "1053_at          ...   199.23700   514.35200   879.66300  1314.85000   \n",
       "117_at           ...   429.30400   101.45700    91.43080    83.34430   \n",
       "121_at           ...  1237.05000   848.33100   760.27900   608.74700   \n",
       "1255_g_at        ...    19.03560    16.15000     8.93552     3.17154   \n",
       "...              ...         ...         ...         ...         ...   \n",
       "AFFX-ThrX-5_at   ...    53.56280     7.69069     7.84491     4.28603   \n",
       "AFFX-ThrX-M_at   ...    71.87460    26.04780     7.86226     5.50425   \n",
       "AFFX-TrpnX-3_at  ...     2.39710    16.63280     1.82486     5.90471   \n",
       "AFFX-TrpnX-5_at  ...    18.31710    27.25600    38.41590     4.80571   \n",
       "AFFX-TrpnX-M_at  ...     8.93558     5.40206     7.78304     2.96822   \n",
       "\n",
       "                 GSM1676995  GSM1676996  GSM1676997  GSM1676998  GSM1676999  \\\n",
       "ID                                                                            \n",
       "1007_s_at        1963.04000   685.84300  1038.43000   267.58600   854.45600   \n",
       "1053_at           625.29200   727.30500   521.02900   205.01300   478.05300   \n",
       "117_at            197.26200   115.29900   128.30800    84.83030   110.79500   \n",
       "121_at            750.60200   815.26600   822.66700   513.12200   741.42200   \n",
       "1255_g_at          93.98570    33.79360    25.44110    25.68730    32.24910   \n",
       "...                     ...         ...         ...         ...         ...   \n",
       "AFFX-ThrX-5_at     24.32590     7.12141     8.55965    18.17220    60.04510   \n",
       "AFFX-ThrX-M_at     65.32950    30.76890     7.79044    33.48380    15.24170   \n",
       "AFFX-TrpnX-3_at     5.78538     2.84332     2.08798    16.99070     4.29375   \n",
       "AFFX-TrpnX-5_at    60.95720    32.79150    38.91350     7.47526    12.16950   \n",
       "AFFX-TrpnX-M_at     6.76194     7.41068     8.06491     9.67596     3.60275   \n",
       "\n",
       "                 GSM1677000  \n",
       "ID                           \n",
       "1007_s_at        1051.03000  \n",
       "1053_at           466.55800  \n",
       "117_at             94.88720  \n",
       "121_at            630.62300  \n",
       "1255_g_at          12.31470  \n",
       "...                     ...  \n",
       "AFFX-ThrX-5_at      5.14640  \n",
       "AFFX-ThrX-M_at     23.51990  \n",
       "AFFX-TrpnX-3_at     2.71848  \n",
       "AFFX-TrpnX-5_at    31.59900  \n",
       "AFFX-TrpnX-M_at     7.40940  \n",
       "\n",
       "[22283 rows x 137 columns]"
      ]
     },
     "execution_count": 187,
     "metadata": {},
     "output_type": "execute_result"
    }
   ],
   "source": [
    "genetic_data = get_genetic_data(matrix_file)\n",
    "genetic_data"
   ]
  },
  {
   "cell_type": "code",
   "execution_count": 188,
   "metadata": {},
   "outputs": [
    {
     "name": "stdout",
     "output_type": "stream",
     "text": [
      "{'ID': ['1007_s_at', '1053_at', '117_at', '121_at', '1255_g_at'], 'GB_ACC': ['U48705', 'M87338', 'X51757', 'X69699', 'L36861'], 'SPOT_ID': [nan, nan, nan, nan, nan], 'Species Scientific Name': ['Homo sapiens', 'Homo sapiens', 'Homo sapiens', 'Homo sapiens', 'Homo sapiens'], 'Annotation Date': ['Oct 6, 2014', 'Oct 6, 2014', 'Oct 6, 2014', 'Oct 6, 2014', 'Oct 6, 2014'], 'Sequence Type': ['Exemplar sequence', 'Exemplar sequence', 'Exemplar sequence', 'Exemplar sequence', 'Exemplar sequence'], 'Sequence Source': ['Affymetrix Proprietary Database', 'GenBank', 'Affymetrix Proprietary Database', 'GenBank', 'Affymetrix Proprietary Database'], 'Target Description': ['U48705 /FEATURE=mRNA /DEFINITION=HSU48705 Human receptor tyrosine kinase DDR gene, complete cds', 'M87338 /FEATURE= /DEFINITION=HUMA1SBU Human replication factor C, 40-kDa subunit (A1) mRNA, complete cds', \"X51757 /FEATURE=cds /DEFINITION=HSP70B Human heat-shock protein HSP70B' gene\", 'X69699 /FEATURE= /DEFINITION=HSPAX8A H.sapiens Pax8 mRNA', 'L36861 /FEATURE=expanded_cds /DEFINITION=HUMGCAPB Homo sapiens guanylate cyclase activating protein (GCAP) gene exons 1-4, complete cds'], 'Representative Public ID': ['U48705', 'M87338', 'X51757', 'X69699', 'L36861'], 'Gene Title': ['discoidin domain receptor tyrosine kinase 1 /// microRNA 4640', 'replication factor C (activator 1) 2, 40kDa', \"heat shock 70kDa protein 6 (HSP70B')\", 'paired box 8', 'guanylate cyclase activator 1A (retina)'], 'Gene Symbol': ['DDR1 /// MIR4640', 'RFC2', 'HSPA6', 'PAX8', 'GUCA1A'], 'ENTREZ_GENE_ID': ['780 /// 100616237', '5982', '3310', '7849', '2978'], 'RefSeq Transcript ID': ['NM_001202521 /// NM_001202522 /// NM_001202523 /// NM_001954 /// NM_013993 /// NM_013994 /// NR_039783 /// XM_005249385 /// XM_005249386 /// XM_005249387 /// XM_005249389 /// XM_005272873 /// XM_005272874 /// XM_005272875 /// XM_005272877 /// XM_005275027 /// XM_005275028 /// XM_005275030 /// XM_005275031 /// XM_005275162 /// XM_005275163 /// XM_005275164 /// XM_005275166 /// XM_005275457 /// XM_005275458 /// XM_005275459 /// XM_005275461 /// XM_006715185 /// XM_006715186 /// XM_006715187 /// XM_006715188 /// XM_006715189 /// XM_006715190 /// XM_006725501 /// XM_006725502 /// XM_006725503 /// XM_006725504 /// XM_006725505 /// XM_006725506 /// XM_006725714 /// XM_006725715 /// XM_006725716 /// XM_006725717 /// XM_006725718 /// XM_006725719 /// XM_006725720 /// XM_006725721 /// XM_006725722 /// XM_006725827 /// XM_006725828 /// XM_006725829 /// XM_006725830 /// XM_006725831 /// XM_006725832 /// XM_006726017 /// XM_006726018 /// XM_006726019 /// XM_006726020 /// XM_006726021 /// XM_006726022 /// XR_427836 /// XR_430858 /// XR_430938 /// XR_430974 /// XR_431015', 'NM_001278791 /// NM_001278792 /// NM_001278793 /// NM_002914 /// NM_181471 /// XM_006716080', 'NM_002155', 'NM_003466 /// NM_013951 /// NM_013952 /// NM_013953 /// NM_013992', 'NM_000409 /// XM_006715073'], 'Gene Ontology Biological Process': ['0001558 // regulation of cell growth // inferred from electronic annotation /// 0001952 // regulation of cell-matrix adhesion // inferred from electronic annotation /// 0006468 // protein phosphorylation // inferred from electronic annotation /// 0007155 // cell adhesion // traceable author statement /// 0007169 // transmembrane receptor protein tyrosine kinase signaling pathway // inferred from electronic annotation /// 0007565 // female pregnancy // inferred from electronic annotation /// 0007566 // embryo implantation // inferred from electronic annotation /// 0007595 // lactation // inferred from electronic annotation /// 0008285 // negative regulation of cell proliferation // inferred from electronic annotation /// 0010715 // regulation of extracellular matrix disassembly // inferred from mutant phenotype /// 0014909 // smooth muscle cell migration // inferred from mutant phenotype /// 0016310 // phosphorylation // inferred from electronic annotation /// 0018108 // peptidyl-tyrosine phosphorylation // inferred from electronic annotation /// 0030198 // extracellular matrix organization // traceable author statement /// 0038063 // collagen-activated tyrosine kinase receptor signaling pathway // inferred from direct assay /// 0038063 // collagen-activated tyrosine kinase receptor signaling pathway // inferred from mutant phenotype /// 0038083 // peptidyl-tyrosine autophosphorylation // inferred from direct assay /// 0043583 // ear development // inferred from electronic annotation /// 0044319 // wound healing, spreading of cells // inferred from mutant phenotype /// 0046777 // protein autophosphorylation // inferred from direct assay /// 0060444 // branching involved in mammary gland duct morphogenesis // inferred from electronic annotation /// 0060749 // mammary gland alveolus development // inferred from electronic annotation /// 0061302 // smooth muscle cell-matrix adhesion // inferred from mutant phenotype', '0000278 // mitotic cell cycle // traceable author statement /// 0000722 // telomere maintenance via recombination // traceable author statement /// 0000723 // telomere maintenance // traceable author statement /// 0006260 // DNA replication // traceable author statement /// 0006271 // DNA strand elongation involved in DNA replication // traceable author statement /// 0006281 // DNA repair // traceable author statement /// 0006283 // transcription-coupled nucleotide-excision repair // traceable author statement /// 0006289 // nucleotide-excision repair // traceable author statement /// 0006297 // nucleotide-excision repair, DNA gap filling // traceable author statement /// 0015979 // photosynthesis // inferred from electronic annotation /// 0015995 // chlorophyll biosynthetic process // inferred from electronic annotation /// 0032201 // telomere maintenance via semi-conservative replication // traceable author statement', '0000902 // cell morphogenesis // inferred from electronic annotation /// 0006200 // ATP catabolic process // inferred from direct assay /// 0006950 // response to stress // inferred from electronic annotation /// 0006986 // response to unfolded protein // traceable author statement /// 0034605 // cellular response to heat // inferred from direct assay /// 0042026 // protein refolding // inferred from direct assay /// 0070370 // cellular heat acclimation // inferred from mutant phenotype', '0001655 // urogenital system development // inferred from sequence or structural similarity /// 0001656 // metanephros development // inferred from electronic annotation /// 0001658 // branching involved in ureteric bud morphogenesis // inferred from expression pattern /// 0001822 // kidney development // inferred from expression pattern /// 0001823 // mesonephros development // inferred from sequence or structural similarity /// 0003337 // mesenchymal to epithelial transition involved in metanephros morphogenesis // inferred from expression pattern /// 0006351 // transcription, DNA-templated // inferred from direct assay /// 0006355 // regulation of transcription, DNA-templated // inferred from electronic annotation /// 0007275 // multicellular organismal development // inferred from electronic annotation /// 0007417 // central nervous system development // inferred from expression pattern /// 0009653 // anatomical structure morphogenesis // traceable author statement /// 0030154 // cell differentiation // inferred from electronic annotation /// 0030878 // thyroid gland development // inferred from expression pattern /// 0030878 // thyroid gland development // inferred from mutant phenotype /// 0038194 // thyroid-stimulating hormone signaling pathway // traceable author statement /// 0039003 // pronephric field specification // inferred from sequence or structural similarity /// 0042472 // inner ear morphogenesis // inferred from sequence or structural similarity /// 0042981 // regulation of apoptotic process // inferred from sequence or structural similarity /// 0045893 // positive regulation of transcription, DNA-templated // inferred from direct assay /// 0045893 // positive regulation of transcription, DNA-templated // inferred from sequence or structural similarity /// 0045944 // positive regulation of transcription from RNA polymerase II promoter // inferred from direct assay /// 0048793 // pronephros development // inferred from sequence or structural similarity /// 0071371 // cellular response to gonadotropin stimulus // inferred from direct assay /// 0071599 // otic vesicle development // inferred from expression pattern /// 0072050 // S-shaped body morphogenesis // inferred from electronic annotation /// 0072073 // kidney epithelium development // inferred from electronic annotation /// 0072108 // positive regulation of mesenchymal to epithelial transition involved in metanephros morphogenesis // inferred from sequence or structural similarity /// 0072164 // mesonephric tubule development // inferred from electronic annotation /// 0072207 // metanephric epithelium development // inferred from expression pattern /// 0072221 // metanephric distal convoluted tubule development // inferred from sequence or structural similarity /// 0072278 // metanephric comma-shaped body morphogenesis // inferred from expression pattern /// 0072284 // metanephric S-shaped body morphogenesis // inferred from expression pattern /// 0072289 // metanephric nephron tubule formation // inferred from sequence or structural similarity /// 0072305 // negative regulation of mesenchymal cell apoptotic process involved in metanephric nephron morphogenesis // inferred from sequence or structural similarity /// 0072307 // regulation of metanephric nephron tubule epithelial cell differentiation // inferred from sequence or structural similarity /// 0090190 // positive regulation of branching involved in ureteric bud morphogenesis // inferred from sequence or structural similarity /// 1900212 // negative regulation of mesenchymal cell apoptotic process involved in metanephros development // inferred from sequence or structural similarity /// 1900215 // negative regulation of apoptotic process involved in metanephric collecting duct development // inferred from sequence or structural similarity /// 1900218 // negative regulation of apoptotic process involved in metanephric nephron tubule development // inferred from sequence or structural similarity /// 2000594 // positive regulation of metanephric DCT cell differentiation // inferred from sequence or structural similarity /// 2000611 // positive regulation of thyroid hormone generation // inferred from mutant phenotype /// 2000612 // regulation of thyroid-stimulating hormone secretion // inferred from mutant phenotype', '0007165 // signal transduction // non-traceable author statement /// 0007601 // visual perception // inferred from electronic annotation /// 0007602 // phototransduction // inferred from electronic annotation /// 0007603 // phototransduction, visible light // traceable author statement /// 0016056 // rhodopsin mediated signaling pathway // traceable author statement /// 0022400 // regulation of rhodopsin mediated signaling pathway // traceable author statement /// 0030828 // positive regulation of cGMP biosynthetic process // inferred from electronic annotation /// 0031282 // regulation of guanylate cyclase activity // inferred from electronic annotation /// 0031284 // positive regulation of guanylate cyclase activity // inferred from electronic annotation /// 0050896 // response to stimulus // inferred from electronic annotation'], 'Gene Ontology Cellular Component': ['0005576 // extracellular region // inferred from electronic annotation /// 0005615 // extracellular space // inferred from direct assay /// 0005886 // plasma membrane // traceable author statement /// 0005887 // integral component of plasma membrane // traceable author statement /// 0016020 // membrane // inferred from electronic annotation /// 0016021 // integral component of membrane // inferred from electronic annotation /// 0043235 // receptor complex // inferred from direct assay /// 0070062 // extracellular vesicular exosome // inferred from direct assay', '0005634 // nucleus // inferred from electronic annotation /// 0005654 // nucleoplasm // traceable author statement /// 0005663 // DNA replication factor C complex // inferred from direct assay', '0005737 // cytoplasm // inferred from direct assay /// 0005814 // centriole // inferred from direct assay /// 0005829 // cytosol // inferred from direct assay /// 0008180 // COP9 signalosome // inferred from direct assay /// 0070062 // extracellular vesicular exosome // inferred from direct assay /// 0072562 // blood microparticle // inferred from direct assay', '0005634 // nucleus // inferred from direct assay /// 0005654 // nucleoplasm // inferred from sequence or structural similarity /// 0005730 // nucleolus // inferred from direct assay', '0001750 // photoreceptor outer segment // inferred from electronic annotation /// 0001917 // photoreceptor inner segment // inferred from electronic annotation /// 0005578 // proteinaceous extracellular matrix // inferred from electronic annotation /// 0005886 // plasma membrane // inferred from direct assay /// 0016020 // membrane // inferred from electronic annotation /// 0097381 // photoreceptor disc membrane // traceable author statement'], 'Gene Ontology Molecular Function': ['0000166 // nucleotide binding // inferred from electronic annotation /// 0004672 // protein kinase activity // inferred from electronic annotation /// 0004713 // protein tyrosine kinase activity // inferred from electronic annotation /// 0004714 // transmembrane receptor protein tyrosine kinase activity // traceable author statement /// 0005515 // protein binding // inferred from physical interaction /// 0005518 // collagen binding // inferred from direct assay /// 0005518 // collagen binding // inferred from mutant phenotype /// 0005524 // ATP binding // inferred from electronic annotation /// 0016301 // kinase activity // inferred from electronic annotation /// 0016740 // transferase activity // inferred from electronic annotation /// 0016772 // transferase activity, transferring phosphorus-containing groups // inferred from electronic annotation /// 0038062 // protein tyrosine kinase collagen receptor activity // inferred from direct assay /// 0046872 // metal ion binding // inferred from electronic annotation', '0000166 // nucleotide binding // inferred from electronic annotation /// 0003677 // DNA binding // inferred from electronic annotation /// 0005515 // protein binding // inferred from physical interaction /// 0005524 // ATP binding // inferred from electronic annotation /// 0016851 // magnesium chelatase activity // inferred from electronic annotation /// 0017111 // nucleoside-triphosphatase activity // inferred from electronic annotation', '0000166 // nucleotide binding // inferred from electronic annotation /// 0005524 // ATP binding // inferred from electronic annotation /// 0019899 // enzyme binding // inferred from physical interaction /// 0031072 // heat shock protein binding // inferred from physical interaction /// 0042623 // ATPase activity, coupled // inferred from direct assay /// 0051082 // unfolded protein binding // inferred from direct assay', '0000979 // RNA polymerase II core promoter sequence-specific DNA binding // inferred from direct assay /// 0003677 // DNA binding // inferred from direct assay /// 0003677 // DNA binding // inferred from mutant phenotype /// 0003700 // sequence-specific DNA binding transcription factor activity // inferred from direct assay /// 0004996 // thyroid-stimulating hormone receptor activity // traceable author statement /// 0005515 // protein binding // inferred from physical interaction /// 0044212 // transcription regulatory region DNA binding // inferred from direct assay', '0005509 // calcium ion binding // inferred from electronic annotation /// 0008048 // calcium sensitive guanylate cyclase activator activity // inferred from electronic annotation /// 0030249 // guanylate cyclase regulator activity // inferred from electronic annotation /// 0046872 // metal ion binding // inferred from electronic annotation']}\n",
      "\n",
      "    As a biomedical research team, we are analyzing a gene expression dataset, and find that its row headers are some identifiers related to genes:\n",
      "    ['1007_s_at', '1053_at', '117_at', '121_at', '1255_g_at', '1294_at', '1316_at', '1320_at', '1405_i_at', '1431_at', '1438_at', '1487_at', '1494_f_at', '1598_g_at', '160020_at', '1729_at', '1773_at', '177_at', '179_at', '1861_at']\n",
      "    To get the mapping from those identifiers to actual gene symbols, we extracted the gene annotation data from a series in the GEO database, and saved it to a Python dictionary. Please read the dictionary, and decide which key stores the identifiers, and which key stores the gene symbols. Please strictly follow this format in your answer:\n",
      "    identifier_key = 'key_name1'\n",
      "    gene_symbol_key = 'key_name2'\n",
      "\n",
      "    Gene annotation dictionary:\n",
      "    {'ID': ['1007_s_at', '1053_at', '117_at', '121_at', '1255_g_at'], 'GB_ACC': ['U48705', 'M87338', 'X51757', 'X69699', 'L36861'], 'SPOT_ID': [nan, nan, nan, nan, nan], 'Species Scientific Name': ['Homo sapiens', 'Homo sapiens', 'Homo sapiens', 'Homo sapiens', 'Homo sapiens'], 'Annotation Date': ['Oct 6, 2014', 'Oct 6, 2014', 'Oct 6, 2014', 'Oct 6, 2014', 'Oct 6, 2014'], 'Sequence Type': ['Exemplar sequence', 'Exemplar sequence', 'Exemplar sequence', 'Exemplar sequence', 'Exemplar sequence'], 'Sequence Source': ['Affymetrix Proprietary Database', 'GenBank', 'Affymetrix Proprietary Database', 'GenBank', 'Affymetrix Proprietary Database'], 'Target Description': ['U48705 /FEATURE=mRNA /DEFINITION=HSU48705 Human receptor tyrosine kinase DDR gene, complete cds', 'M87338 /FEATURE= /DEFINITION=HUMA1SBU Human replication factor C, 40-kDa subunit (A1) mRNA, complete cds', \"X51757 /FEATURE=cds /DEFINITION=HSP70B Human heat-shock protein HSP70B' gene\", 'X69699 /FEATURE= /DEFINITION=HSPAX8A H.sapiens Pax8 mRNA', 'L36861 /FEATURE=expanded_cds /DEFINITION=HUMGCAPB Homo sapiens guanylate cyclase activating protein (GCAP) gene exons 1-4, complete cds'], 'Representative Public ID': ['U48705', 'M87338', 'X51757', 'X69699', 'L36861'], 'Gene Title': ['discoidin domain receptor tyrosine kinase 1 /// microRNA 4640', 'replication factor C (activator 1) 2, 40kDa', \"heat shock 70kDa protein 6 (HSP70B')\", 'paired box 8', 'guanylate cyclase activator 1A (retina)'], 'Gene Symbol': ['DDR1 /// MIR4640', 'RFC2', 'HSPA6', 'PAX8', 'GUCA1A'], 'ENTREZ_GENE_ID': ['780 /// 100616237', '5982', '3310', '7849', '2978'], 'RefSeq Transcript ID': ['NM_001202521 /// NM_001202522 /// NM_001202523 /// NM_001954 /// NM_013993 /// NM_013994 /// NR_039783 /// XM_005249385 /// XM_005249386 /// XM_005249387 /// XM_005249389 /// XM_005272873 /// XM_005272874 /// XM_005272875 /// XM_005272877 /// XM_005275027 /// XM_005275028 /// XM_005275030 /// XM_005275031 /// XM_005275162 /// XM_005275163 /// XM_005275164 /// XM_005275166 /// XM_005275457 /// XM_005275458 /// XM_005275459 /// XM_005275461 /// XM_006715185 /// XM_006715186 /// XM_006715187 /// XM_006715188 /// XM_006715189 /// XM_006715190 /// XM_006725501 /// XM_006725502 /// XM_006725503 /// XM_006725504 /// XM_006725505 /// XM_006725506 /// XM_006725714 /// XM_006725715 /// XM_006725716 /// XM_006725717 /// XM_006725718 /// XM_006725719 /// XM_006725720 /// XM_006725721 /// XM_006725722 /// XM_006725827 /// XM_006725828 /// XM_006725829 /// XM_006725830 /// XM_006725831 /// XM_006725832 /// XM_006726017 /// XM_006726018 /// XM_006726019 /// XM_006726020 /// XM_006726021 /// XM_006726022 /// XR_427836 /// XR_430858 /// XR_430938 /// XR_430974 /// XR_431015', 'NM_001278791 /// NM_001278792 /// NM_001278793 /// NM_002914 /// NM_181471 /// XM_006716080', 'NM_002155', 'NM_003466 /// NM_013951 /// NM_013952 /// NM_013953 /// NM_013992', 'NM_000409 /// XM_006715073'], 'Gene Ontology Biological Process': ['0001558 // regulation of cell growth // inferred from electronic annotation /// 0001952 // regulation of cell-matrix adhesion // inferred from electronic annotation /// 0006468 // protein phosphorylation // inferred from electronic annotation /// 0007155 // cell adhesion // traceable author statement /// 0007169 // transmembrane receptor protein tyrosine kinase signaling pathway // inferred from electronic annotation /// 0007565 // female pregnancy // inferred from electronic annotation /// 0007566 // embryo implantation // inferred from electronic annotation /// 0007595 // lactation // inferred from electronic annotation /// 0008285 // negative regulation of cell proliferation // inferred from electronic annotation /// 0010715 // regulation of extracellular matrix disassembly // inferred from mutant phenotype /// 0014909 // smooth muscle cell migration // inferred from mutant phenotype /// 0016310 // phosphorylation // inferred from electronic annotation /// 0018108 // peptidyl-tyrosine phosphorylation // inferred from electronic annotation /// 0030198 // extracellular matrix organization // traceable author statement /// 0038063 // collagen-activated tyrosine kinase receptor signaling pathway // inferred from direct assay /// 0038063 // collagen-activated tyrosine kinase receptor signaling pathway // inferred from mutant phenotype /// 0038083 // peptidyl-tyrosine autophosphorylation // inferred from direct assay /// 0043583 // ear development // inferred from electronic annotation /// 0044319 // wound healing, spreading of cells // inferred from mutant phenotype /// 0046777 // protein autophosphorylation // inferred from direct assay /// 0060444 // branching involved in mammary gland duct morphogenesis // inferred from electronic annotation /// 0060749 // mammary gland alveolus development // inferred from electronic annotation /// 0061302 // smooth muscle cell-matrix adhesion // inferred from mutant phenotype', '0000278 // mitotic cell cycle // traceable author statement /// 0000722 // telomere maintenance via recombination // traceable author statement /// 0000723 // telomere maintenance // traceable author statement /// 0006260 // DNA replication // traceable author statement /// 0006271 // DNA strand elongation involved in DNA replication // traceable author statement /// 0006281 // DNA repair // traceable author statement /// 0006283 // transcription-coupled nucleotide-excision repair // traceable author statement /// 0006289 // nucleotide-excision repair // traceable author statement /// 0006297 // nucleotide-excision repair, DNA gap filling // traceable author statement /// 0015979 // photosynthesis // inferred from electronic annotation /// 0015995 // chlorophyll biosynthetic process // inferred from electronic annotation /// 0032201 // telomere maintenance via semi-conservative replication // traceable author statement', '0000902 // cell morphogenesis // inferred from electronic annotation /// 0006200 // ATP catabolic process // inferred from direct assay /// 0006950 // response to stress // inferred from electronic annotation /// 0006986 // response to unfolded protein // traceable author statement /// 0034605 // cellular response to heat // inferred from direct assay /// 0042026 // protein refolding // inferred from direct assay /// 0070370 // cellular heat acclimation // inferred from mutant phenotype', '0001655 // urogenital system development // inferred from sequence or structural similarity /// 0001656 // metanephros development // inferred from electronic annotation /// 0001658 // branching involved in ureteric bud morphogenesis // inferred from expression pattern /// 0001822 // kidney development // inferred from expression pattern /// 0001823 // mesonephros development // inferred from sequence or structural similarity /// 0003337 // mesenchymal to epithelial transition involved in metanephros morphogenesis // inferred from expression pattern /// 0006351 // transcription, DNA-templated // inferred from direct assay /// 0006355 // regulation of transcription, DNA-templated // inferred from electronic annotation /// 0007275 // multicellular organismal development // inferred from electronic annotation /// 0007417 // central nervous system development // inferred from expression pattern /// 0009653 // anatomical structure morphogenesis // traceable author statement /// 0030154 // cell differentiation // inferred from electronic annotation /// 0030878 // thyroid gland development // inferred from expression pattern /// 0030878 // thyroid gland development // inferred from mutant phenotype /// 0038194 // thyroid-stimulating hormone signaling pathway // traceable author statement /// 0039003 // pronephric field specification // inferred from sequence or structural similarity /// 0042472 // inner ear morphogenesis // inferred from sequence or structural similarity /// 0042981 // regulation of apoptotic process // inferred from sequence or structural similarity /// 0045893 // positive regulation of transcription, DNA-templated // inferred from direct assay /// 0045893 // positive regulation of transcription, DNA-templated // inferred from sequence or structural similarity /// 0045944 // positive regulation of transcription from RNA polymerase II promoter // inferred from direct assay /// 0048793 // pronephros development // inferred from sequence or structural similarity /// 0071371 // cellular response to gonadotropin stimulus // inferred from direct assay /// 0071599 // otic vesicle development // inferred from expression pattern /// 0072050 // S-shaped body morphogenesis // inferred from electronic annotation /// 0072073 // kidney epithelium development // inferred from electronic annotation /// 0072108 // positive regulation of mesenchymal to epithelial transition involved in metanephros morphogenesis // inferred from sequence or structural similarity /// 0072164 // mesonephric tubule development // inferred from electronic annotation /// 0072207 // metanephric epithelium development // inferred from expression pattern /// 0072221 // metanephric distal convoluted tubule development // inferred from sequence or structural similarity /// 0072278 // metanephric comma-shaped body morphogenesis // inferred from expression pattern /// 0072284 // metanephric S-shaped body morphogenesis // inferred from expression pattern /// 0072289 // metanephric nephron tubule formation // inferred from sequence or structural similarity /// 0072305 // negative regulation of mesenchymal cell apoptotic process involved in metanephric nephron morphogenesis // inferred from sequence or structural similarity /// 0072307 // regulation of metanephric nephron tubule epithelial cell differentiation // inferred from sequence or structural similarity /// 0090190 // positive regulation of branching involved in ureteric bud morphogenesis // inferred from sequence or structural similarity /// 1900212 // negative regulation of mesenchymal cell apoptotic process involved in metanephros development // inferred from sequence or structural similarity /// 1900215 // negative regulation of apoptotic process involved in metanephric collecting duct development // inferred from sequence or structural similarity /// 1900218 // negative regulation of apoptotic process involved in metanephric nephron tubule development // inferred from sequence or structural similarity /// 2000594 // positive regulation of metanephric DCT cell differentiation // inferred from sequence or structural similarity /// 2000611 // positive regulation of thyroid hormone generation // inferred from mutant phenotype /// 2000612 // regulation of thyroid-stimulating hormone secretion // inferred from mutant phenotype', '0007165 // signal transduction // non-traceable author statement /// 0007601 // visual perception // inferred from electronic annotation /// 0007602 // phototransduction // inferred from electronic annotation /// 0007603 // phototransduction, visible light // traceable author statement /// 0016056 // rhodopsin mediated signaling pathway // traceable author statement /// 0022400 // regulation of rhodopsin mediated signaling pathway // traceable author statement /// 0030828 // positive regulation of cGMP biosynthetic process // inferred from electronic annotation /// 0031282 // regulation of guanylate cyclase activity // inferred from electronic annotation /// 0031284 // positive regulation of guanylate cyclase activity // inferred from electronic annotation /// 0050896 // response to stimulus // inferred from electronic annotation'], 'Gene Ontology Cellular Component': ['0005576 // extracellular region // inferred from electronic annotation /// 0005615 // extracellular space // inferred from direct assay /// 0005886 // plasma membrane // traceable author statement /// 0005887 // integral component of plasma membrane // traceable author statement /// 0016020 // membrane // inferred from electronic annotation /// 0016021 // integral component of membrane // inferred from electronic annotation /// 0043235 // receptor complex // inferred from direct assay /// 0070062 // extracellular vesicular exosome // inferred from direct assay', '0005634 // nucleus // inferred from electronic annotation /// 0005654 // nucleoplasm // traceable author statement /// 0005663 // DNA replication factor C complex // inferred from direct assay', '0005737 // cytoplasm // inferred from direct assay /// 0005814 // centriole // inferred from direct assay /// 0005829 // cytosol // inferred from direct assay /// 0008180 // COP9 signalosome // inferred from direct assay /// 0070062 // extracellular vesicular exosome // inferred from direct assay /// 0072562 // blood microparticle // inferred from direct assay', '0005634 // nucleus // inferred from direct assay /// 0005654 // nucleoplasm // inferred from sequence or structural similarity /// 0005730 // nucleolus // inferred from direct assay', '0001750 // photoreceptor outer segment // inferred from electronic annotation /// 0001917 // photoreceptor inner segment // inferred from electronic annotation /// 0005578 // proteinaceous extracellular matrix // inferred from electronic annotation /// 0005886 // plasma membrane // inferred from direct assay /// 0016020 // membrane // inferred from electronic annotation /// 0097381 // photoreceptor disc membrane // traceable author statement'], 'Gene Ontology Molecular Function': ['0000166 // nucleotide binding // inferred from electronic annotation /// 0004672 // protein kinase activity // inferred from electronic annotation /// 0004713 // protein tyrosine kinase activity // inferred from electronic annotation /// 0004714 // transmembrane receptor protein tyrosine kinase activity // traceable author statement /// 0005515 // protein binding // inferred from physical interaction /// 0005518 // collagen binding // inferred from direct assay /// 0005518 // collagen binding // inferred from mutant phenotype /// 0005524 // ATP binding // inferred from electronic annotation /// 0016301 // kinase activity // inferred from electronic annotation /// 0016740 // transferase activity // inferred from electronic annotation /// 0016772 // transferase activity, transferring phosphorus-containing groups // inferred from electronic annotation /// 0038062 // protein tyrosine kinase collagen receptor activity // inferred from direct assay /// 0046872 // metal ion binding // inferred from electronic annotation', '0000166 // nucleotide binding // inferred from electronic annotation /// 0003677 // DNA binding // inferred from electronic annotation /// 0005515 // protein binding // inferred from physical interaction /// 0005524 // ATP binding // inferred from electronic annotation /// 0016851 // magnesium chelatase activity // inferred from electronic annotation /// 0017111 // nucleoside-triphosphatase activity // inferred from electronic annotation', '0000166 // nucleotide binding // inferred from electronic annotation /// 0005524 // ATP binding // inferred from electronic annotation /// 0019899 // enzyme binding // inferred from physical interaction /// 0031072 // heat shock protein binding // inferred from physical interaction /// 0042623 // ATPase activity, coupled // inferred from direct assay /// 0051082 // unfolded protein binding // inferred from direct assay', '0000979 // RNA polymerase II core promoter sequence-specific DNA binding // inferred from direct assay /// 0003677 // DNA binding // inferred from direct assay /// 0003677 // DNA binding // inferred from mutant phenotype /// 0003700 // sequence-specific DNA binding transcription factor activity // inferred from direct assay /// 0004996 // thyroid-stimulating hormone receptor activity // traceable author statement /// 0005515 // protein binding // inferred from physical interaction /// 0044212 // transcription regulatory region DNA binding // inferred from direct assay', '0005509 // calcium ion binding // inferred from electronic annotation /// 0008048 // calcium sensitive guanylate cyclase activator activity // inferred from electronic annotation /// 0030249 // guanylate cyclase regulator activity // inferred from electronic annotation /// 0046872 // metal ion binding // inferred from electronic annotation']}\n",
      "    \n"
     ]
    },
    {
     "data": {
      "text/plain": [
       "Index(['ID', 'GB_ACC', 'SPOT_ID', 'Species Scientific Name', 'Annotation Date',\n",
       "       'Sequence Type', 'Sequence Source', 'Target Description',\n",
       "       'Representative Public ID', 'Gene Title', 'Gene Symbol',\n",
       "       'ENTREZ_GENE_ID', 'RefSeq Transcript ID',\n",
       "       'Gene Ontology Biological Process', 'Gene Ontology Cellular Component',\n",
       "       'Gene Ontology Molecular Function'],\n",
       "      dtype='object')"
      ]
     },
     "execution_count": 188,
     "metadata": {},
     "output_type": "execute_result"
    }
   ],
   "source": [
    "requires_gene_mapping = True\n",
    "\n",
    "if requires_gene_mapping:\n",
    "    gene_annotation = get_gene_annotation(soft_file)\n",
    "    gene_annotation_summary = preview_df(gene_annotation)\n",
    "    print(gene_annotation_summary)\n",
    "\n",
    "gene_row_ids = genetic_data.index[:20].tolist()\n",
    "gene_row_ids\n",
    "\n",
    "if requires_gene_mapping:\n",
    "    print(f'''\n",
    "    As a biomedical research team, we are analyzing a gene expression dataset, and find that its row headers are some identifiers related to genes:\n",
    "    {gene_row_ids}\n",
    "    To get the mapping from those identifiers to actual gene symbols, we extracted the gene annotation data from a series in the GEO database, and saved it to a Python dictionary. Please read the dictionary, and decide which key stores the identifiers, and which key stores the gene symbols. Please strictly follow this format in your answer:\n",
    "    identifier_key = 'key_name1'\n",
    "    gene_symbol_key = 'key_name2'\n",
    "\n",
    "    Gene annotation dictionary:\n",
    "    {gene_annotation_summary}\n",
    "    ''')\n",
    "\n",
    "gene_annotation.columns"
   ]
  },
  {
   "cell_type": "code",
   "execution_count": 189,
   "metadata": {},
   "outputs": [],
   "source": [
    "if requires_gene_mapping:\n",
    "    identifier_key = 'ID'\n",
    "    gene_symbol_key = 'Gene Symbol'\n",
    "    gene_mapping = get_gene_mapping(gene_annotation, identifier_key, gene_symbol_key)\n",
    "    genetic_data = apply_gene_mapping(genetic_data, gene_mapping)"
   ]
  },
  {
   "cell_type": "code",
   "execution_count": 190,
   "metadata": {},
   "outputs": [
    {
     "data": {
      "text/html": [
       "<div>\n",
       "<style scoped>\n",
       "    .dataframe tbody tr th:only-of-type {\n",
       "        vertical-align: middle;\n",
       "    }\n",
       "\n",
       "    .dataframe tbody tr th {\n",
       "        vertical-align: top;\n",
       "    }\n",
       "\n",
       "    .dataframe thead th {\n",
       "        text-align: right;\n",
       "    }\n",
       "</style>\n",
       "<table border=\"1\" class=\"dataframe\">\n",
       "  <thead>\n",
       "    <tr style=\"text-align: right;\">\n",
       "      <th></th>\n",
       "      <th>GSM1676864</th>\n",
       "      <th>GSM1676865</th>\n",
       "      <th>GSM1676866</th>\n",
       "      <th>GSM1676867</th>\n",
       "      <th>GSM1676868</th>\n",
       "      <th>GSM1676869</th>\n",
       "      <th>GSM1676870</th>\n",
       "      <th>GSM1676871</th>\n",
       "      <th>GSM1676872</th>\n",
       "      <th>GSM1676873</th>\n",
       "      <th>...</th>\n",
       "      <th>GSM1676991</th>\n",
       "      <th>GSM1676992</th>\n",
       "      <th>GSM1676993</th>\n",
       "      <th>GSM1676994</th>\n",
       "      <th>GSM1676995</th>\n",
       "      <th>GSM1676996</th>\n",
       "      <th>GSM1676997</th>\n",
       "      <th>GSM1676998</th>\n",
       "      <th>GSM1676999</th>\n",
       "      <th>GSM1677000</th>\n",
       "    </tr>\n",
       "  </thead>\n",
       "  <tbody>\n",
       "    <tr>\n",
       "      <th>A1CF</th>\n",
       "      <td>411.658000</td>\n",
       "      <td>328.766000</td>\n",
       "      <td>283.038000</td>\n",
       "      <td>441.273000</td>\n",
       "      <td>456.17000</td>\n",
       "      <td>356.891000</td>\n",
       "      <td>370.538000</td>\n",
       "      <td>391.200000</td>\n",
       "      <td>517.63200</td>\n",
       "      <td>330.712000</td>\n",
       "      <td>...</td>\n",
       "      <td>492.9340</td>\n",
       "      <td>252.68000</td>\n",
       "      <td>214.051000</td>\n",
       "      <td>172.401000</td>\n",
       "      <td>360.6670</td>\n",
       "      <td>224.95800</td>\n",
       "      <td>196.6330</td>\n",
       "      <td>423.316000</td>\n",
       "      <td>604.971000</td>\n",
       "      <td>663.523000</td>\n",
       "    </tr>\n",
       "    <tr>\n",
       "      <th>A2M</th>\n",
       "      <td>9.933690</td>\n",
       "      <td>29.729700</td>\n",
       "      <td>31.517800</td>\n",
       "      <td>117.207000</td>\n",
       "      <td>66.05450</td>\n",
       "      <td>76.368500</td>\n",
       "      <td>8.343650</td>\n",
       "      <td>77.880200</td>\n",
       "      <td>96.81630</td>\n",
       "      <td>76.772900</td>\n",
       "      <td>...</td>\n",
       "      <td>1938.5400</td>\n",
       "      <td>34.16810</td>\n",
       "      <td>41.075100</td>\n",
       "      <td>78.744600</td>\n",
       "      <td>13.4254</td>\n",
       "      <td>113.81800</td>\n",
       "      <td>80.4261</td>\n",
       "      <td>90.634000</td>\n",
       "      <td>1469.130000</td>\n",
       "      <td>1450.950000</td>\n",
       "    </tr>\n",
       "    <tr>\n",
       "      <th>A4GALT</th>\n",
       "      <td>67.969200</td>\n",
       "      <td>42.261300</td>\n",
       "      <td>103.195000</td>\n",
       "      <td>34.880400</td>\n",
       "      <td>37.44720</td>\n",
       "      <td>20.832300</td>\n",
       "      <td>63.035600</td>\n",
       "      <td>70.497400</td>\n",
       "      <td>25.55710</td>\n",
       "      <td>77.666600</td>\n",
       "      <td>...</td>\n",
       "      <td>73.6854</td>\n",
       "      <td>85.04110</td>\n",
       "      <td>131.085000</td>\n",
       "      <td>155.877000</td>\n",
       "      <td>138.5640</td>\n",
       "      <td>170.43300</td>\n",
       "      <td>96.1404</td>\n",
       "      <td>115.264000</td>\n",
       "      <td>131.866000</td>\n",
       "      <td>22.694400</td>\n",
       "    </tr>\n",
       "    <tr>\n",
       "      <th>A4GNT</th>\n",
       "      <td>103.083000</td>\n",
       "      <td>19.840200</td>\n",
       "      <td>120.743000</td>\n",
       "      <td>233.940000</td>\n",
       "      <td>132.97200</td>\n",
       "      <td>54.878500</td>\n",
       "      <td>86.099100</td>\n",
       "      <td>86.712800</td>\n",
       "      <td>132.28300</td>\n",
       "      <td>123.381000</td>\n",
       "      <td>...</td>\n",
       "      <td>375.3930</td>\n",
       "      <td>129.99600</td>\n",
       "      <td>115.976000</td>\n",
       "      <td>82.167800</td>\n",
       "      <td>157.9120</td>\n",
       "      <td>148.86000</td>\n",
       "      <td>60.4659</td>\n",
       "      <td>58.103800</td>\n",
       "      <td>47.507900</td>\n",
       "      <td>122.016000</td>\n",
       "    </tr>\n",
       "    <tr>\n",
       "      <th>AAAS</th>\n",
       "      <td>253.048000</td>\n",
       "      <td>307.313000</td>\n",
       "      <td>301.599000</td>\n",
       "      <td>54.338500</td>\n",
       "      <td>292.66000</td>\n",
       "      <td>526.452000</td>\n",
       "      <td>285.639000</td>\n",
       "      <td>242.461000</td>\n",
       "      <td>157.34800</td>\n",
       "      <td>88.740300</td>\n",
       "      <td>...</td>\n",
       "      <td>168.3570</td>\n",
       "      <td>331.88900</td>\n",
       "      <td>455.359000</td>\n",
       "      <td>512.032000</td>\n",
       "      <td>378.5850</td>\n",
       "      <td>584.66500</td>\n",
       "      <td>611.1190</td>\n",
       "      <td>200.164000</td>\n",
       "      <td>299.390000</td>\n",
       "      <td>332.704000</td>\n",
       "    </tr>\n",
       "    <tr>\n",
       "      <th>...</th>\n",
       "      <td>...</td>\n",
       "      <td>...</td>\n",
       "      <td>...</td>\n",
       "      <td>...</td>\n",
       "      <td>...</td>\n",
       "      <td>...</td>\n",
       "      <td>...</td>\n",
       "      <td>...</td>\n",
       "      <td>...</td>\n",
       "      <td>...</td>\n",
       "      <td>...</td>\n",
       "      <td>...</td>\n",
       "      <td>...</td>\n",
       "      <td>...</td>\n",
       "      <td>...</td>\n",
       "      <td>...</td>\n",
       "      <td>...</td>\n",
       "      <td>...</td>\n",
       "      <td>...</td>\n",
       "      <td>...</td>\n",
       "      <td>...</td>\n",
       "    </tr>\n",
       "    <tr>\n",
       "      <th>ZXDB</th>\n",
       "      <td>7.021830</td>\n",
       "      <td>25.621200</td>\n",
       "      <td>49.129700</td>\n",
       "      <td>56.345100</td>\n",
       "      <td>52.64970</td>\n",
       "      <td>9.202230</td>\n",
       "      <td>57.596900</td>\n",
       "      <td>38.391100</td>\n",
       "      <td>56.36770</td>\n",
       "      <td>7.179120</td>\n",
       "      <td>...</td>\n",
       "      <td>12.7427</td>\n",
       "      <td>82.66240</td>\n",
       "      <td>84.754400</td>\n",
       "      <td>15.316100</td>\n",
       "      <td>56.1309</td>\n",
       "      <td>43.45840</td>\n",
       "      <td>32.1018</td>\n",
       "      <td>13.704900</td>\n",
       "      <td>66.226700</td>\n",
       "      <td>72.470700</td>\n",
       "    </tr>\n",
       "    <tr>\n",
       "      <th>ZXDC</th>\n",
       "      <td>245.770000</td>\n",
       "      <td>223.404000</td>\n",
       "      <td>324.696000</td>\n",
       "      <td>408.354000</td>\n",
       "      <td>274.03900</td>\n",
       "      <td>207.566000</td>\n",
       "      <td>41.970100</td>\n",
       "      <td>96.083800</td>\n",
       "      <td>204.60200</td>\n",
       "      <td>277.355000</td>\n",
       "      <td>...</td>\n",
       "      <td>293.5240</td>\n",
       "      <td>105.07400</td>\n",
       "      <td>239.035000</td>\n",
       "      <td>242.894000</td>\n",
       "      <td>112.4240</td>\n",
       "      <td>226.59100</td>\n",
       "      <td>263.2760</td>\n",
       "      <td>15.799600</td>\n",
       "      <td>209.634000</td>\n",
       "      <td>202.095000</td>\n",
       "    </tr>\n",
       "    <tr>\n",
       "      <th>ZYX</th>\n",
       "      <td>864.049500</td>\n",
       "      <td>361.164500</td>\n",
       "      <td>368.090000</td>\n",
       "      <td>509.184500</td>\n",
       "      <td>699.28350</td>\n",
       "      <td>711.235500</td>\n",
       "      <td>831.348000</td>\n",
       "      <td>898.541000</td>\n",
       "      <td>529.82600</td>\n",
       "      <td>535.816500</td>\n",
       "      <td>...</td>\n",
       "      <td>956.2580</td>\n",
       "      <td>1056.60850</td>\n",
       "      <td>1895.635000</td>\n",
       "      <td>513.773000</td>\n",
       "      <td>1485.5750</td>\n",
       "      <td>625.40500</td>\n",
       "      <td>2031.3400</td>\n",
       "      <td>1590.970000</td>\n",
       "      <td>872.288000</td>\n",
       "      <td>982.831000</td>\n",
       "    </tr>\n",
       "    <tr>\n",
       "      <th>ZZEF1</th>\n",
       "      <td>95.892933</td>\n",
       "      <td>186.514933</td>\n",
       "      <td>183.754067</td>\n",
       "      <td>259.034713</td>\n",
       "      <td>168.38015</td>\n",
       "      <td>311.179743</td>\n",
       "      <td>224.061743</td>\n",
       "      <td>125.673357</td>\n",
       "      <td>188.30636</td>\n",
       "      <td>118.847337</td>\n",
       "      <td>...</td>\n",
       "      <td>187.8084</td>\n",
       "      <td>105.01919</td>\n",
       "      <td>100.009013</td>\n",
       "      <td>136.908567</td>\n",
       "      <td>82.2776</td>\n",
       "      <td>180.19429</td>\n",
       "      <td>119.2507</td>\n",
       "      <td>192.480833</td>\n",
       "      <td>127.771333</td>\n",
       "      <td>95.924913</td>\n",
       "    </tr>\n",
       "    <tr>\n",
       "      <th>ZZZ3</th>\n",
       "      <td>972.634000</td>\n",
       "      <td>1135.550000</td>\n",
       "      <td>818.291000</td>\n",
       "      <td>659.049000</td>\n",
       "      <td>615.55700</td>\n",
       "      <td>1142.090000</td>\n",
       "      <td>1197.570000</td>\n",
       "      <td>1057.490000</td>\n",
       "      <td>859.80700</td>\n",
       "      <td>929.594000</td>\n",
       "      <td>...</td>\n",
       "      <td>348.7130</td>\n",
       "      <td>389.84600</td>\n",
       "      <td>656.539000</td>\n",
       "      <td>750.973000</td>\n",
       "      <td>778.6430</td>\n",
       "      <td>707.98900</td>\n",
       "      <td>713.4530</td>\n",
       "      <td>765.151000</td>\n",
       "      <td>486.239000</td>\n",
       "      <td>487.393000</td>\n",
       "    </tr>\n",
       "  </tbody>\n",
       "</table>\n",
       "<p>11727 rows × 137 columns</p>\n",
       "</div>"
      ],
      "text/plain": [
       "        GSM1676864   GSM1676865  GSM1676866  GSM1676867  GSM1676868  \\\n",
       "A1CF    411.658000   328.766000  283.038000  441.273000   456.17000   \n",
       "A2M       9.933690    29.729700   31.517800  117.207000    66.05450   \n",
       "A4GALT   67.969200    42.261300  103.195000   34.880400    37.44720   \n",
       "A4GNT   103.083000    19.840200  120.743000  233.940000   132.97200   \n",
       "AAAS    253.048000   307.313000  301.599000   54.338500   292.66000   \n",
       "...            ...          ...         ...         ...         ...   \n",
       "ZXDB      7.021830    25.621200   49.129700   56.345100    52.64970   \n",
       "ZXDC    245.770000   223.404000  324.696000  408.354000   274.03900   \n",
       "ZYX     864.049500   361.164500  368.090000  509.184500   699.28350   \n",
       "ZZEF1    95.892933   186.514933  183.754067  259.034713   168.38015   \n",
       "ZZZ3    972.634000  1135.550000  818.291000  659.049000   615.55700   \n",
       "\n",
       "         GSM1676869   GSM1676870   GSM1676871  GSM1676872  GSM1676873  ...  \\\n",
       "A1CF     356.891000   370.538000   391.200000   517.63200  330.712000  ...   \n",
       "A2M       76.368500     8.343650    77.880200    96.81630   76.772900  ...   \n",
       "A4GALT    20.832300    63.035600    70.497400    25.55710   77.666600  ...   \n",
       "A4GNT     54.878500    86.099100    86.712800   132.28300  123.381000  ...   \n",
       "AAAS     526.452000   285.639000   242.461000   157.34800   88.740300  ...   \n",
       "...             ...          ...          ...         ...         ...  ...   \n",
       "ZXDB       9.202230    57.596900    38.391100    56.36770    7.179120  ...   \n",
       "ZXDC     207.566000    41.970100    96.083800   204.60200  277.355000  ...   \n",
       "ZYX      711.235500   831.348000   898.541000   529.82600  535.816500  ...   \n",
       "ZZEF1    311.179743   224.061743   125.673357   188.30636  118.847337  ...   \n",
       "ZZZ3    1142.090000  1197.570000  1057.490000   859.80700  929.594000  ...   \n",
       "\n",
       "        GSM1676991  GSM1676992   GSM1676993  GSM1676994  GSM1676995  \\\n",
       "A1CF      492.9340   252.68000   214.051000  172.401000    360.6670   \n",
       "A2M      1938.5400    34.16810    41.075100   78.744600     13.4254   \n",
       "A4GALT     73.6854    85.04110   131.085000  155.877000    138.5640   \n",
       "A4GNT     375.3930   129.99600   115.976000   82.167800    157.9120   \n",
       "AAAS      168.3570   331.88900   455.359000  512.032000    378.5850   \n",
       "...            ...         ...          ...         ...         ...   \n",
       "ZXDB       12.7427    82.66240    84.754400   15.316100     56.1309   \n",
       "ZXDC      293.5240   105.07400   239.035000  242.894000    112.4240   \n",
       "ZYX       956.2580  1056.60850  1895.635000  513.773000   1485.5750   \n",
       "ZZEF1     187.8084   105.01919   100.009013  136.908567     82.2776   \n",
       "ZZZ3      348.7130   389.84600   656.539000  750.973000    778.6430   \n",
       "\n",
       "        GSM1676996  GSM1676997   GSM1676998   GSM1676999   GSM1677000  \n",
       "A1CF     224.95800    196.6330   423.316000   604.971000   663.523000  \n",
       "A2M      113.81800     80.4261    90.634000  1469.130000  1450.950000  \n",
       "A4GALT   170.43300     96.1404   115.264000   131.866000    22.694400  \n",
       "A4GNT    148.86000     60.4659    58.103800    47.507900   122.016000  \n",
       "AAAS     584.66500    611.1190   200.164000   299.390000   332.704000  \n",
       "...            ...         ...          ...          ...          ...  \n",
       "ZXDB      43.45840     32.1018    13.704900    66.226700    72.470700  \n",
       "ZXDC     226.59100    263.2760    15.799600   209.634000   202.095000  \n",
       "ZYX      625.40500   2031.3400  1590.970000   872.288000   982.831000  \n",
       "ZZEF1    180.19429    119.2507   192.480833   127.771333    95.924913  \n",
       "ZZZ3     707.98900    713.4530   765.151000   486.239000   487.393000  \n",
       "\n",
       "[11727 rows x 137 columns]"
      ]
     },
     "execution_count": 190,
     "metadata": {},
     "output_type": "execute_result"
    }
   ],
   "source": [
    "genetic_data = normalize_gene_symbols_in_index(genetic_data)\n",
    "\n",
    "genetic_data"
   ]
  },
  {
   "cell_type": "code",
   "execution_count": 191,
   "metadata": {},
   "outputs": [
    {
     "data": {
      "text/html": [
       "<div>\n",
       "<style scoped>\n",
       "    .dataframe tbody tr th:only-of-type {\n",
       "        vertical-align: middle;\n",
       "    }\n",
       "\n",
       "    .dataframe tbody tr th {\n",
       "        vertical-align: top;\n",
       "    }\n",
       "\n",
       "    .dataframe thead th {\n",
       "        text-align: right;\n",
       "    }\n",
       "</style>\n",
       "<table border=\"1\" class=\"dataframe\">\n",
       "  <thead>\n",
       "    <tr style=\"text-align: right;\">\n",
       "      <th></th>\n",
       "      <th>Kidney Papillary Cell Carcinoma</th>\n",
       "      <th>A1CF</th>\n",
       "      <th>A2M</th>\n",
       "      <th>A4GALT</th>\n",
       "      <th>A4GNT</th>\n",
       "      <th>AAAS</th>\n",
       "      <th>AACS</th>\n",
       "      <th>AADAC</th>\n",
       "      <th>AAGAB</th>\n",
       "      <th>AAK1</th>\n",
       "      <th>...</th>\n",
       "      <th>ZSWIM1</th>\n",
       "      <th>ZSWIM8</th>\n",
       "      <th>ZW10</th>\n",
       "      <th>ZWILCH</th>\n",
       "      <th>ZWINT</th>\n",
       "      <th>ZXDB</th>\n",
       "      <th>ZXDC</th>\n",
       "      <th>ZYX</th>\n",
       "      <th>ZZEF1</th>\n",
       "      <th>ZZZ3</th>\n",
       "    </tr>\n",
       "  </thead>\n",
       "  <tbody>\n",
       "    <tr>\n",
       "      <th>GSM1676864</th>\n",
       "      <td>0.0</td>\n",
       "      <td>411.658</td>\n",
       "      <td>9.93369</td>\n",
       "      <td>67.9692</td>\n",
       "      <td>103.0830</td>\n",
       "      <td>253.0480</td>\n",
       "      <td>693.969</td>\n",
       "      <td>52.00740</td>\n",
       "      <td>254.15790</td>\n",
       "      <td>169.690144</td>\n",
       "      <td>...</td>\n",
       "      <td>172.9030</td>\n",
       "      <td>118.234115</td>\n",
       "      <td>1172.070</td>\n",
       "      <td>937.975</td>\n",
       "      <td>4273.62</td>\n",
       "      <td>7.02183</td>\n",
       "      <td>245.7700</td>\n",
       "      <td>864.0495</td>\n",
       "      <td>95.892933</td>\n",
       "      <td>972.634</td>\n",
       "    </tr>\n",
       "    <tr>\n",
       "      <th>GSM1676865</th>\n",
       "      <td>0.0</td>\n",
       "      <td>328.766</td>\n",
       "      <td>29.72970</td>\n",
       "      <td>42.2613</td>\n",
       "      <td>19.8402</td>\n",
       "      <td>307.3130</td>\n",
       "      <td>565.707</td>\n",
       "      <td>52.20780</td>\n",
       "      <td>411.08050</td>\n",
       "      <td>138.574204</td>\n",
       "      <td>...</td>\n",
       "      <td>160.9360</td>\n",
       "      <td>164.939945</td>\n",
       "      <td>888.014</td>\n",
       "      <td>810.915</td>\n",
       "      <td>6408.85</td>\n",
       "      <td>25.62120</td>\n",
       "      <td>223.4040</td>\n",
       "      <td>361.1645</td>\n",
       "      <td>186.514933</td>\n",
       "      <td>1135.550</td>\n",
       "    </tr>\n",
       "    <tr>\n",
       "      <th>GSM1676866</th>\n",
       "      <td>0.0</td>\n",
       "      <td>283.038</td>\n",
       "      <td>31.51780</td>\n",
       "      <td>103.1950</td>\n",
       "      <td>120.7430</td>\n",
       "      <td>301.5990</td>\n",
       "      <td>614.077</td>\n",
       "      <td>20.14540</td>\n",
       "      <td>301.78795</td>\n",
       "      <td>171.979780</td>\n",
       "      <td>...</td>\n",
       "      <td>149.0170</td>\n",
       "      <td>182.287700</td>\n",
       "      <td>970.310</td>\n",
       "      <td>769.493</td>\n",
       "      <td>7430.47</td>\n",
       "      <td>49.12970</td>\n",
       "      <td>324.6960</td>\n",
       "      <td>368.0900</td>\n",
       "      <td>183.754067</td>\n",
       "      <td>818.291</td>\n",
       "    </tr>\n",
       "    <tr>\n",
       "      <th>GSM1676867</th>\n",
       "      <td>0.0</td>\n",
       "      <td>441.273</td>\n",
       "      <td>117.20700</td>\n",
       "      <td>34.8804</td>\n",
       "      <td>233.9400</td>\n",
       "      <td>54.3385</td>\n",
       "      <td>1193.600</td>\n",
       "      <td>26.59360</td>\n",
       "      <td>195.02295</td>\n",
       "      <td>411.052640</td>\n",
       "      <td>...</td>\n",
       "      <td>206.7570</td>\n",
       "      <td>454.626050</td>\n",
       "      <td>910.911</td>\n",
       "      <td>274.856</td>\n",
       "      <td>5882.10</td>\n",
       "      <td>56.34510</td>\n",
       "      <td>408.3540</td>\n",
       "      <td>509.1845</td>\n",
       "      <td>259.034713</td>\n",
       "      <td>659.049</td>\n",
       "    </tr>\n",
       "    <tr>\n",
       "      <th>GSM1676868</th>\n",
       "      <td>0.0</td>\n",
       "      <td>456.170</td>\n",
       "      <td>66.05450</td>\n",
       "      <td>37.4472</td>\n",
       "      <td>132.9720</td>\n",
       "      <td>292.6600</td>\n",
       "      <td>869.968</td>\n",
       "      <td>77.00920</td>\n",
       "      <td>291.42050</td>\n",
       "      <td>225.582720</td>\n",
       "      <td>...</td>\n",
       "      <td>188.0690</td>\n",
       "      <td>336.587970</td>\n",
       "      <td>796.490</td>\n",
       "      <td>342.181</td>\n",
       "      <td>4632.58</td>\n",
       "      <td>52.64970</td>\n",
       "      <td>274.0390</td>\n",
       "      <td>699.2835</td>\n",
       "      <td>168.380150</td>\n",
       "      <td>615.557</td>\n",
       "    </tr>\n",
       "    <tr>\n",
       "      <th>...</th>\n",
       "      <td>...</td>\n",
       "      <td>...</td>\n",
       "      <td>...</td>\n",
       "      <td>...</td>\n",
       "      <td>...</td>\n",
       "      <td>...</td>\n",
       "      <td>...</td>\n",
       "      <td>...</td>\n",
       "      <td>...</td>\n",
       "      <td>...</td>\n",
       "      <td>...</td>\n",
       "      <td>...</td>\n",
       "      <td>...</td>\n",
       "      <td>...</td>\n",
       "      <td>...</td>\n",
       "      <td>...</td>\n",
       "      <td>...</td>\n",
       "      <td>...</td>\n",
       "      <td>...</td>\n",
       "      <td>...</td>\n",
       "      <td>...</td>\n",
       "    </tr>\n",
       "    <tr>\n",
       "      <th>GSM1676996</th>\n",
       "      <td>0.0</td>\n",
       "      <td>224.958</td>\n",
       "      <td>113.81800</td>\n",
       "      <td>170.4330</td>\n",
       "      <td>148.8600</td>\n",
       "      <td>584.6650</td>\n",
       "      <td>523.556</td>\n",
       "      <td>7.43009</td>\n",
       "      <td>450.45955</td>\n",
       "      <td>134.190732</td>\n",
       "      <td>...</td>\n",
       "      <td>188.5000</td>\n",
       "      <td>199.339950</td>\n",
       "      <td>657.216</td>\n",
       "      <td>1048.500</td>\n",
       "      <td>5762.04</td>\n",
       "      <td>43.45840</td>\n",
       "      <td>226.5910</td>\n",
       "      <td>625.4050</td>\n",
       "      <td>180.194290</td>\n",
       "      <td>707.989</td>\n",
       "    </tr>\n",
       "    <tr>\n",
       "      <th>GSM1676997</th>\n",
       "      <td>0.0</td>\n",
       "      <td>196.633</td>\n",
       "      <td>80.42610</td>\n",
       "      <td>96.1404</td>\n",
       "      <td>60.4659</td>\n",
       "      <td>611.1190</td>\n",
       "      <td>447.764</td>\n",
       "      <td>11.25050</td>\n",
       "      <td>342.95000</td>\n",
       "      <td>108.845170</td>\n",
       "      <td>...</td>\n",
       "      <td>205.8840</td>\n",
       "      <td>121.243740</td>\n",
       "      <td>685.352</td>\n",
       "      <td>1352.300</td>\n",
       "      <td>2760.27</td>\n",
       "      <td>32.10180</td>\n",
       "      <td>263.2760</td>\n",
       "      <td>2031.3400</td>\n",
       "      <td>119.250700</td>\n",
       "      <td>713.453</td>\n",
       "    </tr>\n",
       "    <tr>\n",
       "      <th>GSM1676998</th>\n",
       "      <td>0.0</td>\n",
       "      <td>423.316</td>\n",
       "      <td>90.63400</td>\n",
       "      <td>115.2640</td>\n",
       "      <td>58.1038</td>\n",
       "      <td>200.1640</td>\n",
       "      <td>860.323</td>\n",
       "      <td>9.11952</td>\n",
       "      <td>255.18895</td>\n",
       "      <td>120.683550</td>\n",
       "      <td>...</td>\n",
       "      <td>89.2204</td>\n",
       "      <td>201.062600</td>\n",
       "      <td>441.399</td>\n",
       "      <td>575.010</td>\n",
       "      <td>1340.71</td>\n",
       "      <td>13.70490</td>\n",
       "      <td>15.7996</td>\n",
       "      <td>1590.9700</td>\n",
       "      <td>192.480833</td>\n",
       "      <td>765.151</td>\n",
       "    </tr>\n",
       "    <tr>\n",
       "      <th>GSM1676999</th>\n",
       "      <td>0.0</td>\n",
       "      <td>604.971</td>\n",
       "      <td>1469.13000</td>\n",
       "      <td>131.8660</td>\n",
       "      <td>47.5079</td>\n",
       "      <td>299.3900</td>\n",
       "      <td>596.813</td>\n",
       "      <td>63.87370</td>\n",
       "      <td>294.99555</td>\n",
       "      <td>163.793346</td>\n",
       "      <td>...</td>\n",
       "      <td>135.0100</td>\n",
       "      <td>170.178150</td>\n",
       "      <td>469.864</td>\n",
       "      <td>1394.440</td>\n",
       "      <td>3616.59</td>\n",
       "      <td>66.22670</td>\n",
       "      <td>209.6340</td>\n",
       "      <td>872.2880</td>\n",
       "      <td>127.771333</td>\n",
       "      <td>486.239</td>\n",
       "    </tr>\n",
       "    <tr>\n",
       "      <th>GSM1677000</th>\n",
       "      <td>0.0</td>\n",
       "      <td>663.523</td>\n",
       "      <td>1450.95000</td>\n",
       "      <td>22.6944</td>\n",
       "      <td>122.0160</td>\n",
       "      <td>332.7040</td>\n",
       "      <td>514.074</td>\n",
       "      <td>9.41142</td>\n",
       "      <td>296.73410</td>\n",
       "      <td>145.633336</td>\n",
       "      <td>...</td>\n",
       "      <td>131.1670</td>\n",
       "      <td>183.589250</td>\n",
       "      <td>492.173</td>\n",
       "      <td>1160.180</td>\n",
       "      <td>3245.00</td>\n",
       "      <td>72.47070</td>\n",
       "      <td>202.0950</td>\n",
       "      <td>982.8310</td>\n",
       "      <td>95.924913</td>\n",
       "      <td>487.393</td>\n",
       "    </tr>\n",
       "  </tbody>\n",
       "</table>\n",
       "<p>137 rows × 11728 columns</p>\n",
       "</div>"
      ],
      "text/plain": [
       "            Kidney Papillary Cell Carcinoma     A1CF         A2M    A4GALT  \\\n",
       "GSM1676864                              0.0  411.658     9.93369   67.9692   \n",
       "GSM1676865                              0.0  328.766    29.72970   42.2613   \n",
       "GSM1676866                              0.0  283.038    31.51780  103.1950   \n",
       "GSM1676867                              0.0  441.273   117.20700   34.8804   \n",
       "GSM1676868                              0.0  456.170    66.05450   37.4472   \n",
       "...                                     ...      ...         ...       ...   \n",
       "GSM1676996                              0.0  224.958   113.81800  170.4330   \n",
       "GSM1676997                              0.0  196.633    80.42610   96.1404   \n",
       "GSM1676998                              0.0  423.316    90.63400  115.2640   \n",
       "GSM1676999                              0.0  604.971  1469.13000  131.8660   \n",
       "GSM1677000                              0.0  663.523  1450.95000   22.6944   \n",
       "\n",
       "               A4GNT      AAAS      AACS     AADAC      AAGAB        AAK1  \\\n",
       "GSM1676864  103.0830  253.0480   693.969  52.00740  254.15790  169.690144   \n",
       "GSM1676865   19.8402  307.3130   565.707  52.20780  411.08050  138.574204   \n",
       "GSM1676866  120.7430  301.5990   614.077  20.14540  301.78795  171.979780   \n",
       "GSM1676867  233.9400   54.3385  1193.600  26.59360  195.02295  411.052640   \n",
       "GSM1676868  132.9720  292.6600   869.968  77.00920  291.42050  225.582720   \n",
       "...              ...       ...       ...       ...        ...         ...   \n",
       "GSM1676996  148.8600  584.6650   523.556   7.43009  450.45955  134.190732   \n",
       "GSM1676997   60.4659  611.1190   447.764  11.25050  342.95000  108.845170   \n",
       "GSM1676998   58.1038  200.1640   860.323   9.11952  255.18895  120.683550   \n",
       "GSM1676999   47.5079  299.3900   596.813  63.87370  294.99555  163.793346   \n",
       "GSM1677000  122.0160  332.7040   514.074   9.41142  296.73410  145.633336   \n",
       "\n",
       "            ...    ZSWIM1      ZSWIM8      ZW10    ZWILCH    ZWINT      ZXDB  \\\n",
       "GSM1676864  ...  172.9030  118.234115  1172.070   937.975  4273.62   7.02183   \n",
       "GSM1676865  ...  160.9360  164.939945   888.014   810.915  6408.85  25.62120   \n",
       "GSM1676866  ...  149.0170  182.287700   970.310   769.493  7430.47  49.12970   \n",
       "GSM1676867  ...  206.7570  454.626050   910.911   274.856  5882.10  56.34510   \n",
       "GSM1676868  ...  188.0690  336.587970   796.490   342.181  4632.58  52.64970   \n",
       "...         ...       ...         ...       ...       ...      ...       ...   \n",
       "GSM1676996  ...  188.5000  199.339950   657.216  1048.500  5762.04  43.45840   \n",
       "GSM1676997  ...  205.8840  121.243740   685.352  1352.300  2760.27  32.10180   \n",
       "GSM1676998  ...   89.2204  201.062600   441.399   575.010  1340.71  13.70490   \n",
       "GSM1676999  ...  135.0100  170.178150   469.864  1394.440  3616.59  66.22670   \n",
       "GSM1677000  ...  131.1670  183.589250   492.173  1160.180  3245.00  72.47070   \n",
       "\n",
       "                ZXDC        ZYX       ZZEF1      ZZZ3  \n",
       "GSM1676864  245.7700   864.0495   95.892933   972.634  \n",
       "GSM1676865  223.4040   361.1645  186.514933  1135.550  \n",
       "GSM1676866  324.6960   368.0900  183.754067   818.291  \n",
       "GSM1676867  408.3540   509.1845  259.034713   659.049  \n",
       "GSM1676868  274.0390   699.2835  168.380150   615.557  \n",
       "...              ...        ...         ...       ...  \n",
       "GSM1676996  226.5910   625.4050  180.194290   707.989  \n",
       "GSM1676997  263.2760  2031.3400  119.250700   713.453  \n",
       "GSM1676998   15.7996  1590.9700  192.480833   765.151  \n",
       "GSM1676999  209.6340   872.2880  127.771333   486.239  \n",
       "GSM1677000  202.0950   982.8310   95.924913   487.393  \n",
       "\n",
       "[137 rows x 11728 columns]"
      ]
     },
     "execution_count": 191,
     "metadata": {},
     "output_type": "execute_result"
    }
   ],
   "source": [
    "merged_data = geo_merge_clinical_genetic_data(selected_clinical_data, genetic_data)\n",
    "# The preprocessing runs through, which means is_available should be True\n",
    "is_available = True\n",
    "\n",
    "merged_data"
   ]
  },
  {
   "cell_type": "code",
   "execution_count": 192,
   "metadata": {},
   "outputs": [
    {
     "name": "stdout",
     "output_type": "stream",
     "text": [
      "The merged dataset contains 137 samples.\n",
      "For the feature 'Kidney Papillary Cell Carcinoma', the least common label is '1.0' with 11 occurrences. This represents 8.03% of the dataset.\n",
      "The distribution of the feature 'Kidney Papillary Cell Carcinoma' in this dataset is fine.\n",
      "\n"
     ]
    },
    {
     "data": {
      "text/plain": [
       "False"
      ]
     },
     "execution_count": 192,
     "metadata": {},
     "output_type": "execute_result"
    }
   ],
   "source": [
    "print(f\"The merged dataset contains {len(merged_data)} samples.\")\n",
    "is_trait_biased, merged_data = judge_and_remove_biased_features(merged_data, TRAIT, trait_type=trait_type)\n",
    "is_trait_biased"
   ]
  },
  {
   "cell_type": "code",
   "execution_count": 179,
   "metadata": {},
   "outputs": [],
   "source": [
    "if is_available:\n",
    "    save_cohort_info(cohort, JSON_PATH, is_available, is_trait_biased, merged_data, note='')\n",
    "else:\n",
    "    save_cohort_info(cohort, JSON_PATH, is_available)\n",
    "merged_data.head()\n",
    "if not is_trait_biased:\n",
    "    merged_data.to_csv(os.path.join(OUTPUT_DIR, cohort + '.csv'), index=False)"
   ]
  },
  {
   "cell_type": "markdown",
   "metadata": {
    "collapsed": false
   },
   "source": [
    "### Initial filtering and clinical data preprocessing"
   ]
  },
  {
   "cell_type": "code",
   "execution_count": null,
   "metadata": {},
   "outputs": [],
   "source": [
    "import gzip"
   ]
  },
  {
   "cell_type": "code",
   "execution_count": null,
   "metadata": {},
   "outputs": [],
   "source": [
    "def line_generator(source, source_type):\n",
    "    \"\"\"Generator that yields lines from a file or a string.\n",
    "\n",
    "    Parameters:\n",
    "    - source: File path or string content.\n",
    "    - source_type: 'file' or 'string'.\n",
    "    \"\"\"\n",
    "    if source_type == 'file':\n",
    "        with gzip.open(source, 'rt') as f:\n",
    "            for line in f:\n",
    "                yield line.strip()\n",
    "    elif source_type == 'string':\n",
    "        for line in source.split('\\n'):\n",
    "            yield line.strip()\n",
    "    else:\n",
    "        raise ValueError(\"source_type must be 'file' or 'string'\")"
   ]
  },
  {
   "cell_type": "code",
   "execution_count": null,
   "metadata": {},
   "outputs": [],
   "source": [
    "from typing import Callable, Optional, List, Tuple, Union, Any\n",
    "import pandas as pd"
   ]
  },
  {
   "cell_type": "code",
   "execution_count": null,
   "metadata": {},
   "outputs": [],
   "source": [
    "def filter_content_by_prefix(\n",
    "    source: str,\n",
    "    prefixes_a: List[str],\n",
    "    prefixes_b: Optional[List[str]] = None,\n",
    "    unselect: bool = False,\n",
    "    source_type: str = 'file',\n",
    "    return_df_a: bool = True,\n",
    "    return_df_b: bool = True\n",
    ") -> Tuple[Union[str, pd.DataFrame], Optional[Union[str, pd.DataFrame]]]:\n",
    "    \"\"\"\n",
    "    Filters rows from a file or a list of strings based on specified prefixes.\n",
    "\n",
    "    Parameters:\n",
    "    - source (str): File path or string content to filter.\n",
    "    - prefixes_a (List[str]): Primary list of prefixes to filter by.\n",
    "    - prefixes_b (Optional[List[str]]): Optional secondary list of prefixes to filter by.\n",
    "    - unselect (bool): If True, selects rows that do not start with the specified prefixes.\n",
    "    - source_type (str): 'file' if source is a file path, 'string' if source is a string of text.\n",
    "    - return_df_a (bool): If True, returns filtered content for prefixes_a as a pandas DataFrame.\n",
    "    - return_df_b (bool): If True, and if prefixes_b is provided, returns filtered content for prefixes_b as a pandas DataFrame.\n",
    "\n",
    "    Returns:\n",
    "    - Tuple: A tuple where the first element is the filtered content for prefixes_a, and the second element is the filtered content for prefixes_b.\n",
    "    \"\"\"\n",
    "    filtered_lines_a = []\n",
    "    filtered_lines_b = []\n",
    "    prefix_set_a = set(prefixes_a)\n",
    "    if prefixes_b is not None:\n",
    "        prefix_set_b = set(prefixes_b)\n",
    "\n",
    "    # Use generator to get lines\n",
    "    for line in line_generator(source, source_type):\n",
    "        matched_a = any(line.startswith(prefix) for prefix in prefix_set_a)\n",
    "        if matched_a != unselect:\n",
    "            filtered_lines_a.append(line)\n",
    "        if prefixes_b is not None:\n",
    "            matched_b = any(line.startswith(prefix) for prefix in prefix_set_b)\n",
    "            if matched_b != unselect:\n",
    "                filtered_lines_b.append(line)\n",
    "\n",
    "    filtered_content_a = '\\n'.join(filtered_lines_a)\n",
    "    if return_df_a:\n",
    "        filtered_content_a = pd.read_csv(io.StringIO(filtered_content_a), delimiter='\\t', low_memory=False, on_bad_lines='skip')\n",
    "    filtered_content_b = None\n",
    "    if filtered_lines_b:\n",
    "        filtered_content_b = '\\n'.join(filtered_lines_b)\n",
    "        if return_df_b:\n",
    "            filtered_content_b = pd.read_csv(io.StringIO(filtered_content_b), delimiter='\\t', low_memory=False, on_bad_lines='skip')\n",
    "\n",
    "    return filtered_content_a, filtered_content_b\n",
    "\n"
   ]
  },
  {
   "cell_type": "code",
   "execution_count": null,
   "metadata": {},
   "outputs": [],
   "source": [
    "def get_background_and_clinical_data(file_path,\n",
    "                                     prefixes_a=['!Series_title', '!Series_summary', '!Series_overall_design'],\n",
    "                                     prefixes_b=['!Sample_geo_accession', '!Sample_characteristics_ch1']):\n",
    "    \"\"\"Extract from a matrix file the background information about the dataset, and sample characteristics data\"\"\"\n",
    "    background_info, clinical_data = filter_content_by_prefix(file_path, prefixes_a, prefixes_b, unselect=False,\n",
    "                                                              source_type='file',\n",
    "                                                              return_df_a=False, return_df_b=True)\n",
    "    return background_info, clinical_data"
   ]
  },
  {
   "cell_type": "code",
   "execution_count": null,
   "metadata": {
    "ExecuteTime": {
     "end_time": "2024-01-10T21:39:03.718770427Z",
     "start_time": "2024-01-10T21:39:03.677006442Z"
    },
    "collapsed": false
   },
   "outputs": [
    {
     "name": "stdout",
     "output_type": "stream",
     "text": [
      "!Series_title\t\"caArray_dobbi-00100: Interlaboratory comparability study of cancer gene expression analysis using oligonucleotide microarrays\"\n",
      "!Series_summary\t\"A key step in bringing gene expression data into clinical practice is the conduct of large studies to confirm preliminary models. The performance of such confirmatory studies and the transition to clinical practice requires that microarray data from different laboratories are comparable and reproducible. We designed a study to assess the comparability of data from four laboratories that will conduct a larger microarray profiling confirmation project in lung adenocarcinomas. To test the feasibility of combining data across laboratories, frozen tumor tissues, cell line pellets, and purified RNA samples were analyzed at each of the four laboratories. Samples of each type and several subsamples from each tumor and each cell line were blinded before being distributed. The laboratories followed a common protocol for all steps of tissue processing, RNA extraction, and microarray analysis using Affymetrix Human Genome U133A arrays. High within-laboratory and between-laboratory correlations were observed on the purified RNA samples, the cell lines, and the frozen tumor tissues. Intraclass correlation within laboratories was only slightly stronger than between laboratories, and the intraclass correlation tended to be weakest for genes expressed at low levels and showing small variation. Finally, hierarchical cluster analysis revealed that the repeated samples clustered together regardless of the laboratory in which the experiments were done. The findings indicate that under properly controlled conditions it is feasible to perform complete tumor microarray analysis, from tissue processing to hybridization and scanning, at multiple independent laboratories for a single study.\"\n",
      "!Series_overall_design\t\"dobbi-00100\"\n",
      "!Series_overall_design\t\"Assay Type: Gene Expression\"\n",
      "!Series_overall_design\t\"Provider: Affymetrix\"\n",
      "!Series_overall_design\t\"Array Designs: HG-U133A\"\n",
      "!Series_overall_design\t\"Organism: Homo sapiens (ncbitax)\"\n",
      "!Series_overall_design\t\"Tissue Sites: Kidney, Lung, Stomach, Uterus, Liver, Lymphoid tissue, Ovary, Skin, Adrenal Gland, Lymph_Node\"\n",
      "!Series_overall_design\t\"Material Types: cell, nuclear_RNA, synthetic_RNA, organism_part, total_RNA\"\n",
      "!Series_overall_design\t\"Disease States: Recurrent Renal Cell Carcinoma, Squamous Cell Carcinoma,Conventional_Clear_Cell_Renal_Cell_Carcinoma,Gastrointestinal_Stromal_Tumor, Lung_Adenocarcinoma, Leiomyoma, Non neoplastic liver with cirrosis, Stomach Adenocarcinoma, Large Cell Lymphoma, Ovarian Adenocarcinoma, Melanoma, Malignant G1 Stromal Tumor, Adrenal Cortical Adenoma, Metastatic Renal Cell Carcinoma, Malignant Melanoma\"\n"
     ]
    }
   ],
   "source": [
    "import io\n",
    "background_prefixes = ['!Series_title', '!Series_summary', '!Series_overall_design']\n",
    "clinical_prefixes = ['!Sample_geo_accession', '!Sample_characteristics_ch1']\n",
    "\n",
    "background_info, clinical_data = get_background_and_clinical_data(matrix_file, background_prefixes, clinical_prefixes)\n",
    "print(background_info)"
   ]
  },
  {
   "cell_type": "code",
   "execution_count": null,
   "metadata": {
    "ExecuteTime": {
     "end_time": "2024-01-10T21:39:04.022548957Z",
     "start_time": "2024-01-10T21:39:04.008519515Z"
    },
    "collapsed": false
   },
   "outputs": [
    {
     "data": {
      "text/html": [
       "<div>\n",
       "<style scoped>\n",
       "    .dataframe tbody tr th:only-of-type {\n",
       "        vertical-align: middle;\n",
       "    }\n",
       "\n",
       "    .dataframe tbody tr th {\n",
       "        vertical-align: top;\n",
       "    }\n",
       "\n",
       "    .dataframe thead th {\n",
       "        text-align: right;\n",
       "    }\n",
       "</style>\n",
       "<table border=\"1\" class=\"dataframe\">\n",
       "  <thead>\n",
       "    <tr style=\"text-align: right;\">\n",
       "      <th></th>\n",
       "      <th>!Sample_geo_accession</th>\n",
       "      <th>GSM1676864</th>\n",
       "      <th>GSM1676865</th>\n",
       "      <th>GSM1676866</th>\n",
       "      <th>GSM1676867</th>\n",
       "      <th>GSM1676868</th>\n",
       "      <th>GSM1676869</th>\n",
       "      <th>GSM1676870</th>\n",
       "      <th>GSM1676871</th>\n",
       "      <th>GSM1676872</th>\n",
       "      <th>...</th>\n",
       "      <th>GSM1676991</th>\n",
       "      <th>GSM1676992</th>\n",
       "      <th>GSM1676993</th>\n",
       "      <th>GSM1676994</th>\n",
       "      <th>GSM1676995</th>\n",
       "      <th>GSM1676996</th>\n",
       "      <th>GSM1676997</th>\n",
       "      <th>GSM1676998</th>\n",
       "      <th>GSM1676999</th>\n",
       "      <th>GSM1677000</th>\n",
       "    </tr>\n",
       "  </thead>\n",
       "  <tbody>\n",
       "    <tr>\n",
       "      <th>0</th>\n",
       "      <td>!Sample_characteristics_ch1</td>\n",
       "      <td>cell line: H2347</td>\n",
       "      <td>cell line: H2347</td>\n",
       "      <td>cell line: H1437</td>\n",
       "      <td>cell line: HCC78</td>\n",
       "      <td>cell line: HCC78</td>\n",
       "      <td>cell line: H2087</td>\n",
       "      <td>cell line: H2087</td>\n",
       "      <td>cell line: H2009</td>\n",
       "      <td>cell line: H2009</td>\n",
       "      <td>...</td>\n",
       "      <td>cell line: --</td>\n",
       "      <td>cell line: HCC78</td>\n",
       "      <td>cell line: H2347</td>\n",
       "      <td>cell line: H1437</td>\n",
       "      <td>cell line: H2009</td>\n",
       "      <td>cell line: H1437</td>\n",
       "      <td>cell line: H2347</td>\n",
       "      <td>cell line: H2087</td>\n",
       "      <td>cell line: --</td>\n",
       "      <td>cell line: --</td>\n",
       "    </tr>\n",
       "    <tr>\n",
       "      <th>1</th>\n",
       "      <td>!Sample_characteristics_ch1</td>\n",
       "      <td>disease state: --</td>\n",
       "      <td>disease state: --</td>\n",
       "      <td>disease state: Leiomyoma</td>\n",
       "      <td>disease state: --</td>\n",
       "      <td>disease state: --</td>\n",
       "      <td>disease state: --</td>\n",
       "      <td>disease state: --</td>\n",
       "      <td>disease state: --</td>\n",
       "      <td>disease state: --</td>\n",
       "      <td>...</td>\n",
       "      <td>disease state: Squamous Cell Carcinoma</td>\n",
       "      <td>disease state: --</td>\n",
       "      <td>disease state: --</td>\n",
       "      <td>disease state: --</td>\n",
       "      <td>disease state: --</td>\n",
       "      <td>disease state: --</td>\n",
       "      <td>disease state: --</td>\n",
       "      <td>disease state: --</td>\n",
       "      <td>disease state: --</td>\n",
       "      <td>disease state: --</td>\n",
       "    </tr>\n",
       "    <tr>\n",
       "      <th>2</th>\n",
       "      <td>!Sample_characteristics_ch1</td>\n",
       "      <td>tumor grading: --</td>\n",
       "      <td>tumor grading: --</td>\n",
       "      <td>tumor grading: --</td>\n",
       "      <td>tumor grading: --</td>\n",
       "      <td>tumor grading: --</td>\n",
       "      <td>tumor grading: --</td>\n",
       "      <td>tumor grading: --</td>\n",
       "      <td>tumor grading: --</td>\n",
       "      <td>tumor grading: --</td>\n",
       "      <td>...</td>\n",
       "      <td>tumor grading: --</td>\n",
       "      <td>tumor grading: --</td>\n",
       "      <td>tumor grading: --</td>\n",
       "      <td>tumor grading: --</td>\n",
       "      <td>tumor grading: --</td>\n",
       "      <td>tumor grading: --</td>\n",
       "      <td>tumor grading: --</td>\n",
       "      <td>tumor grading: --</td>\n",
       "      <td>tumor grading: --</td>\n",
       "      <td>tumor grading: --</td>\n",
       "    </tr>\n",
       "    <tr>\n",
       "      <th>3</th>\n",
       "      <td>!Sample_characteristics_ch1</td>\n",
       "      <td>disease stage: --</td>\n",
       "      <td>disease stage: --</td>\n",
       "      <td>disease stage: --</td>\n",
       "      <td>disease stage: --</td>\n",
       "      <td>disease stage: --</td>\n",
       "      <td>disease stage: --</td>\n",
       "      <td>disease stage: --</td>\n",
       "      <td>disease stage: --</td>\n",
       "      <td>disease stage: --</td>\n",
       "      <td>...</td>\n",
       "      <td>disease stage: --</td>\n",
       "      <td>disease stage: --</td>\n",
       "      <td>disease stage: --</td>\n",
       "      <td>disease stage: --</td>\n",
       "      <td>disease stage: --</td>\n",
       "      <td>disease stage: --</td>\n",
       "      <td>disease stage: --</td>\n",
       "      <td>disease stage: --</td>\n",
       "      <td>disease stage: --</td>\n",
       "      <td>disease stage: --</td>\n",
       "    </tr>\n",
       "    <tr>\n",
       "      <th>4</th>\n",
       "      <td>!Sample_characteristics_ch1</td>\n",
       "      <td>organism part: --</td>\n",
       "      <td>organism part: --</td>\n",
       "      <td>organism part: Uterus</td>\n",
       "      <td>organism part: --</td>\n",
       "      <td>organism part: --</td>\n",
       "      <td>organism part: --</td>\n",
       "      <td>organism part: --</td>\n",
       "      <td>organism part: --</td>\n",
       "      <td>organism part: --</td>\n",
       "      <td>...</td>\n",
       "      <td>organism part: Lung</td>\n",
       "      <td>organism part: --</td>\n",
       "      <td>organism part: --</td>\n",
       "      <td>organism part: --</td>\n",
       "      <td>organism part: --</td>\n",
       "      <td>organism part: --</td>\n",
       "      <td>organism part: --</td>\n",
       "      <td>organism part: --</td>\n",
       "      <td>organism part: --</td>\n",
       "      <td>organism part: --</td>\n",
       "    </tr>\n",
       "  </tbody>\n",
       "</table>\n",
       "<p>5 rows × 138 columns</p>\n",
       "</div>"
      ],
      "text/plain": [
       "         !Sample_geo_accession         GSM1676864         GSM1676865  \\\n",
       "0  !Sample_characteristics_ch1   cell line: H2347   cell line: H2347   \n",
       "1  !Sample_characteristics_ch1  disease state: --  disease state: --   \n",
       "2  !Sample_characteristics_ch1  tumor grading: --  tumor grading: --   \n",
       "3  !Sample_characteristics_ch1  disease stage: --  disease stage: --   \n",
       "4  !Sample_characteristics_ch1  organism part: --  organism part: --   \n",
       "\n",
       "                 GSM1676866         GSM1676867         GSM1676868  \\\n",
       "0          cell line: H1437   cell line: HCC78   cell line: HCC78   \n",
       "1  disease state: Leiomyoma  disease state: --  disease state: --   \n",
       "2         tumor grading: --  tumor grading: --  tumor grading: --   \n",
       "3         disease stage: --  disease stage: --  disease stage: --   \n",
       "4     organism part: Uterus  organism part: --  organism part: --   \n",
       "\n",
       "          GSM1676869         GSM1676870         GSM1676871         GSM1676872  \\\n",
       "0   cell line: H2087   cell line: H2087   cell line: H2009   cell line: H2009   \n",
       "1  disease state: --  disease state: --  disease state: --  disease state: --   \n",
       "2  tumor grading: --  tumor grading: --  tumor grading: --  tumor grading: --   \n",
       "3  disease stage: --  disease stage: --  disease stage: --  disease stage: --   \n",
       "4  organism part: --  organism part: --  organism part: --  organism part: --   \n",
       "\n",
       "   ...                              GSM1676991         GSM1676992  \\\n",
       "0  ...                           cell line: --   cell line: HCC78   \n",
       "1  ...  disease state: Squamous Cell Carcinoma  disease state: --   \n",
       "2  ...                       tumor grading: --  tumor grading: --   \n",
       "3  ...                       disease stage: --  disease stage: --   \n",
       "4  ...                     organism part: Lung  organism part: --   \n",
       "\n",
       "          GSM1676993         GSM1676994         GSM1676995         GSM1676996  \\\n",
       "0   cell line: H2347   cell line: H1437   cell line: H2009   cell line: H1437   \n",
       "1  disease state: --  disease state: --  disease state: --  disease state: --   \n",
       "2  tumor grading: --  tumor grading: --  tumor grading: --  tumor grading: --   \n",
       "3  disease stage: --  disease stage: --  disease stage: --  disease stage: --   \n",
       "4  organism part: --  organism part: --  organism part: --  organism part: --   \n",
       "\n",
       "          GSM1676997         GSM1676998         GSM1676999         GSM1677000  \n",
       "0   cell line: H2347   cell line: H2087      cell line: --      cell line: --  \n",
       "1  disease state: --  disease state: --  disease state: --  disease state: --  \n",
       "2  tumor grading: --  tumor grading: --  tumor grading: --  tumor grading: --  \n",
       "3  disease stage: --  disease stage: --  disease stage: --  disease stage: --  \n",
       "4  organism part: --  organism part: --  organism part: --  organism part: --  \n",
       "\n",
       "[5 rows x 138 columns]"
      ]
     },
     "execution_count": 59,
     "metadata": {},
     "output_type": "execute_result"
    }
   ],
   "source": [
    "clinical_data.head()"
   ]
  },
  {
   "cell_type": "code",
   "execution_count": null,
   "metadata": {},
   "outputs": [],
   "source": [
    "def get_unique_values_by_row(dataframe, max_len=30):\n",
    "    \"\"\"\n",
    "    Organize the unique values in each row of the given dataframe, to get a dictionary\n",
    "    :param dataframe:\n",
    "    :param max_len:\n",
    "    :return:\n",
    "    \"\"\"\n",
    "    if '!Sample_geo_accession' in dataframe.columns:\n",
    "        dataframe = dataframe.drop(columns=['!Sample_geo_accession'])\n",
    "    unique_values_dict = {}\n",
    "    for index, row in dataframe.iterrows():\n",
    "        unique_values = list(row.unique())[:max_len]\n",
    "        unique_values_dict[index] = unique_values\n",
    "    return unique_values_dict"
   ]
  },
  {
   "cell_type": "code",
   "execution_count": null,
   "metadata": {
    "ExecuteTime": {
     "end_time": "2024-01-10T21:39:04.307639583Z",
     "start_time": "2024-01-10T21:39:04.289352075Z"
    },
    "collapsed": false
   },
   "outputs": [
    {
     "data": {
      "text/plain": [
       "{0: ['cell line: H2347',\n",
       "  'cell line: H1437',\n",
       "  'cell line: HCC78',\n",
       "  'cell line: H2087',\n",
       "  'cell line: H2009',\n",
       "  'cell line: --'],\n",
       " 1: ['disease state: --',\n",
       "  'disease state: Leiomyoma',\n",
       "  'disease state: Lung_Adenocarcinoma',\n",
       "  'disease state: Conventional_Clear_Cell_Renal_Cell_Carcinoma',\n",
       "  'disease state: Squamous Cell Carcinoma',\n",
       "  'disease state: Stomach Adenocarcinoma',\n",
       "  'disease state: Large Cell Lymphoma',\n",
       "  'disease state: Malignant Melanoma',\n",
       "  'disease state: Recurrent Renal Cell Carcinoma',\n",
       "  'disease state: Adrenal Cortical Adenoma',\n",
       "  'disease state: Ovarian Adenocarcinoma',\n",
       "  'disease state: Gastrointestinal_Stromal_Tumor',\n",
       "  'disease state: Metastatic Renal Cell Carcinoma',\n",
       "  'disease state: Non neoplastic liver with cirrosis',\n",
       "  'disease state: Malignant G1 Stromal Tumor',\n",
       "  'disease state: melanoma'],\n",
       " 2: ['tumor grading: --',\n",
       "  'tumor grading: G2/pT1pN0pMX',\n",
       "  'tumor grading: G3/pT2pN0pMX',\n",
       "  'tumor grading: G2/pT2pN0pMX',\n",
       "  'tumor grading: G3/pT4pNXpMX'],\n",
       " 3: ['disease stage: --',\n",
       "  'disease stage: Stage IA',\n",
       "  'disease stage: Stage IB',\n",
       "  'disease stage: Stage IIIB'],\n",
       " 4: ['organism part: --',\n",
       "  'organism part: Uterus',\n",
       "  'organism part: Lung',\n",
       "  'organism part: Stomach',\n",
       "  'organism part: Lymphoid tissue',\n",
       "  'organism part: Liver',\n",
       "  'organism part: Adrenal Gland',\n",
       "  'organism part: Ovary',\n",
       "  'organism part: Kidney',\n",
       "  'organism part: Skin',\n",
       "  'organism part: Lymph_Node'],\n",
       " 5: ['Sex: --', 'Sex: female', 'Sex: male'],\n",
       " 6: ['age: --', 'age: 67', 'age: 66', 'age: 72', 'age: 56', 'age: 48'],\n",
       " 7: ['histology: --',\n",
       "  'histology: Leiomyoma',\n",
       "  'histology: Lung_Adenocarcinoma',\n",
       "  'histology: Conventional_Clear_Cell_Renal_Cell_Carcinoma',\n",
       "  'histology: Stomach Adenocarcinoma',\n",
       "  'histology: Large Cell Lymphoma',\n",
       "  'histology: Metastatic Malignant Melanoma',\n",
       "  'histology: Recurrent Renal Cell Carcinoma, chromophobe cell type',\n",
       "  'histology: Non neoplastic liver with cirrosis',\n",
       "  'histology: Adrenal Cortical Adenoma',\n",
       "  'histology: Papillary Serous Adenocarcinoma',\n",
       "  'histology: Squamous cell carcinoma 85% tumor 15% Stroma',\n",
       "  'histology: Squamous Cell Carcinoma',\n",
       "  'histology: Malignant G1 Stromal Tumor',\n",
       "  'histology: metastatic renal cell carcinoma',\n",
       "  'histology: Lung Adenocarcinoma',\n",
       "  'histology: carcinoma',\n",
       "  'histology: Adenocarcinoma',\n",
       "  'histology: Squamous Cell carcinoma',\n",
       "  'histology: Metastatic Renal Cell Carcinoma, clear cell type',\n",
       "  'histology: Ovarian Adenocarcinoma',\n",
       "  'histology: Malignant G1 stromal tumor',\n",
       "  'histology: Adenocartcinoma of Lung',\n",
       "  'histology: Squamoous Cell Carcinoma',\n",
       "  'histology: Renal Cell Carcinoma',\n",
       "  'histology: Non neeoplastic liver with cirrosis',\n",
       "  'histology: Metastatic Renal Cell Carcinoma']}"
      ]
     },
     "execution_count": 61,
     "metadata": {},
     "output_type": "execute_result"
    }
   ],
   "source": [
    "clinical_data_unique = get_unique_values_by_row(clinical_data)\n",
    "clinical_data_unique"
   ]
  },
  {
   "cell_type": "markdown",
   "metadata": {
    "ExecuteTime": {
     "end_time": "2023-12-31T03:58:04.978204446Z",
     "start_time": "2023-12-31T03:58:04.922270095Z"
    },
    "collapsed": false
   },
   "source": [
    "Analyze the metadata to determine data relevance and find ways to extract the clinical data.\n",
    "Reference prompt:"
   ]
  },
  {
   "cell_type": "code",
   "execution_count": null,
   "metadata": {
    "ExecuteTime": {
     "end_time": "2024-01-10T21:39:04.854586192Z",
     "start_time": "2024-01-10T21:39:04.836283516Z"
    },
    "collapsed": false
   },
   "outputs": [
    {
     "data": {
      "text/plain": [
       "'As a biomedical research team, we are selecting datasets to study the association between the human trait \\'Kidney Papillary Cell Carcinoma\\' and genetic factors, optionally considering the influence of age and gender. After searching the GEO database and parsing the matrix file of a series, we obtained background information and sample characteristics data. We will provide textual information about the dataset background, and a Python dictionary storing a list of unique values for each field of the sample characteristics data. Please carefully review the provided information and answer the following questions about this dataset:\\n1. Does this dataset contain gene expression data? (Note: Pure miRNA data is not suitable.)\\n2. For each of the traits \\'Kidney Papillary Cell Carcinoma\\', \\'age\\', and \\'gender\\', please address these points:\\n   (1) Is there human data available for this trait?\\n   (2) If so, identify the key in the sample characteristics dictionary where unique values of this trait is recorded. The key is an integer. The trait information might be explicitly recorded, or can be inferred from the field with some biomedical knowledge or understanding about the data collection process.\\n   (3) Choose an appropriate data type (either \\'continuous\\' or \\'binary\\') for each trait. Write a Python function to convert any given value of the trait to this data type. The function should handle inference about the trait value and convert unknown values to None.\\n   Name the functions \\'convert_trait\\', \\'convert_age\\', and \\'convert_gender\\', respectively.\\n\\nBackground information about the dataset:\\n!Series_title\\t\"caArray_dobbi-00100: Interlaboratory comparability study of cancer gene expression analysis using oligonucleotide microarrays\"\\n!Series_summary\\t\"A key step in bringing gene expression data into clinical practice is the conduct of large studies to confirm preliminary models. The performance of such confirmatory studies and the transition to clinical practice requires that microarray data from different laboratories are comparable and reproducible. We designed a study to assess the comparability of data from four laboratories that will conduct a larger microarray profiling confirmation project in lung adenocarcinomas. To test the feasibility of combining data across laboratories, frozen tumor tissues, cell line pellets, and purified RNA samples were analyzed at each of the four laboratories. Samples of each type and several subsamples from each tumor and each cell line were blinded before being distributed. The laboratories followed a common protocol for all steps of tissue processing, RNA extraction, and microarray analysis using Affymetrix Human Genome U133A arrays. High within-laboratory and between-laboratory correlations were observed on the purified RNA samples, the cell lines, and the frozen tumor tissues. Intraclass correlation within laboratories was only slightly stronger than between laboratories, and the intraclass correlation tended to be weakest for genes expressed at low levels and showing small variation. Finally, hierarchical cluster analysis revealed that the repeated samples clustered together regardless of the laboratory in which the experiments were done. The findings indicate that under properly controlled conditions it is feasible to perform complete tumor microarray analysis, from tissue processing to hybridization and scanning, at multiple independent laboratories for a single study.\"\\n!Series_overall_design\\t\"dobbi-00100\"\\n!Series_overall_design\\t\"Assay Type: Gene Expression\"\\n!Series_overall_design\\t\"Provider: Affymetrix\"\\n!Series_overall_design\\t\"Array Designs: HG-U133A\"\\n!Series_overall_design\\t\"Organism: Homo sapiens (ncbitax)\"\\n!Series_overall_design\\t\"Tissue Sites: Kidney, Lung, Stomach, Uterus, Liver, Lymphoid tissue, Ovary, Skin, Adrenal Gland, Lymph_Node\"\\n!Series_overall_design\\t\"Material Types: cell, nuclear_RNA, synthetic_RNA, organism_part, total_RNA\"\\n!Series_overall_design\\t\"Disease States: Recurrent Renal Cell Carcinoma, Squamous Cell Carcinoma,Conventional_Clear_Cell_Renal_Cell_Carcinoma,Gastrointestinal_Stromal_Tumor, Lung_Adenocarcinoma, Leiomyoma, Non neoplastic liver with cirrosis, Stomach Adenocarcinoma, Large Cell Lymphoma, Ovarian Adenocarcinoma, Melanoma, Malignant G1 Stromal Tumor, Adrenal Cortical Adenoma, Metastatic Renal Cell Carcinoma, Malignant Melanoma\"\\n\\nSample characteristics dictionary (from \"!Sample_characteristics_ch1\", converted to a Python dictionary that stores the unique values for each field):\\n{0: [\\'cell line: H2347\\', \\'cell line: H1437\\', \\'cell line: HCC78\\', \\'cell line: H2087\\', \\'cell line: H2009\\', \\'cell line: --\\'], 1: [\\'disease state: --\\', \\'disease state: Leiomyoma\\', \\'disease state: Lung_Adenocarcinoma\\', \\'disease state: Conventional_Clear_Cell_Renal_Cell_Carcinoma\\', \\'disease state: Squamous Cell Carcinoma\\', \\'disease state: Stomach Adenocarcinoma\\', \\'disease state: Large Cell Lymphoma\\', \\'disease state: Malignant Melanoma\\', \\'disease state: Recurrent Renal Cell Carcinoma\\', \\'disease state: Adrenal Cortical Adenoma\\', \\'disease state: Ovarian Adenocarcinoma\\', \\'disease state: Gastrointestinal_Stromal_Tumor\\', \\'disease state: Metastatic Renal Cell Carcinoma\\', \\'disease state: Non neoplastic liver with cirrosis\\', \\'disease state: Malignant G1 Stromal Tumor\\', \\'disease state: melanoma\\'], 2: [\\'tumor grading: --\\', \\'tumor grading: G2/pT1pN0pMX\\', \\'tumor grading: G3/pT2pN0pMX\\', \\'tumor grading: G2/pT2pN0pMX\\', \\'tumor grading: G3/pT4pNXpMX\\'], 3: [\\'disease stage: --\\', \\'disease stage: Stage IA\\', \\'disease stage: Stage IB\\', \\'disease stage: Stage IIIB\\'], 4: [\\'organism part: --\\', \\'organism part: Uterus\\', \\'organism part: Lung\\', \\'organism part: Stomach\\', \\'organism part: Lymphoid tissue\\', \\'organism part: Liver\\', \\'organism part: Adrenal Gland\\', \\'organism part: Ovary\\', \\'organism part: Kidney\\', \\'organism part: Skin\\', \\'organism part: Lymph_Node\\'], 5: [\\'Sex: --\\', \\'Sex: female\\', \\'Sex: male\\'], 6: [\\'age: --\\', \\'age: 67\\', \\'age: 66\\', \\'age: 72\\', \\'age: 56\\', \\'age: 48\\'], 7: [\\'histology: --\\', \\'histology: Leiomyoma\\', \\'histology: Lung_Adenocarcinoma\\', \\'histology: Conventional_Clear_Cell_Renal_Cell_Carcinoma\\', \\'histology: Stomach Adenocarcinoma\\', \\'histology: Large Cell Lymphoma\\', \\'histology: Metastatic Malignant Melanoma\\', \\'histology: Recurrent Renal Cell Carcinoma, chromophobe cell type\\', \\'histology: Non neoplastic liver with cirrosis\\', \\'histology: Adrenal Cortical Adenoma\\', \\'histology: Papillary Serous Adenocarcinoma\\', \\'histology: Squamous cell carcinoma 85% tumor 15% Stroma\\', \\'histology: Squamous Cell Carcinoma\\', \\'histology: Malignant G1 Stromal Tumor\\', \\'histology: metastatic renal cell carcinoma\\', \\'histology: Lung Adenocarcinoma\\', \\'histology: carcinoma\\', \\'histology: Adenocarcinoma\\', \\'histology: Squamous Cell carcinoma\\', \\'histology: Metastatic Renal Cell Carcinoma, clear cell type\\', \\'histology: Ovarian Adenocarcinoma\\', \\'histology: Malignant G1 stromal tumor\\', \\'histology: Adenocartcinoma of Lung\\', \\'histology: Squamoous Cell Carcinoma\\', \\'histology: Renal Cell Carcinoma\\', \\'histology: Non neeoplastic liver with cirrosis\\', \\'histology: Metastatic Renal Cell Carcinoma\\']}\\n'"
      ]
     },
     "execution_count": 62,
     "metadata": {},
     "output_type": "execute_result"
    }
   ],
   "source": [
    "f'''As a biomedical research team, we are selecting datasets to study the association between the human trait \\'{TRAIT}\\' and genetic factors, optionally considering the influence of age and gender. After searching the GEO database and parsing the matrix file of a series, we obtained background information and sample characteristics data. We will provide textual information about the dataset background, and a Python dictionary storing a list of unique values for each field of the sample characteristics data. Please carefully review the provided information and answer the following questions about this dataset:\n",
    "1. Does this dataset contain gene expression data? (Note: Pure miRNA data is not suitable.)\n",
    "2. For each of the traits \\'{TRAIT}\\', 'age', and 'gender', please address these points:\n",
    "   (1) Is there human data available for this trait?\n",
    "   (2) If so, identify the key in the sample characteristics dictionary where unique values of this trait is recorded. The key is an integer. The trait information might be explicitly recorded, or can be inferred from the field with some biomedical knowledge or understanding about the data collection process.\n",
    "   (3) Choose an appropriate data type (either 'continuous' or 'binary') for each trait. Write a Python function to convert any given value of the trait to this data type. The function should handle inference about the trait value and convert unknown values to None.\n",
    "   Name the functions 'convert_trait', 'convert_age', and 'convert_gender', respectively.\n",
    "\n",
    "Background information about the dataset:\n",
    "{background_info}\n",
    "\n",
    "Sample characteristics dictionary (from \"!Sample_characteristics_ch1\", converted to a Python dictionary that stores the unique values for each field):\n",
    "{clinical_data_unique}\n",
    "'''"
   ]
  },
  {
   "cell_type": "markdown",
   "metadata": {
    "ExecuteTime": {
     "end_time": "2023-12-31T03:58:04.978240504Z",
     "start_time": "2023-12-31T03:58:04.922365324Z"
    },
    "collapsed": false
   },
   "source": [
    "Understand and verify the answer from GPT, to assign values to the below variables. Assign None to the 'row_id' variables if relevant data row was not found.\n",
    "Later we need to let GPT format its answer to automatically do these. But given the complexity of this step, let's grow some insight from the free-text answers for now."
   ]
  },
  {
   "cell_type": "code",
   "execution_count": null,
   "metadata": {
    "ExecuteTime": {
     "end_time": "2024-01-10T21:39:05.366304590Z",
     "start_time": "2024-01-10T21:39:05.356983082Z"
    },
    "collapsed": false
   },
   "outputs": [],
   "source": [
    "age_row = gender_row = None\n",
    "convert_age = convert_gender = None"
   ]
  },
  {
   "cell_type": "code",
   "execution_count": null,
   "metadata": {
    "ExecuteTime": {
     "end_time": "2024-01-10T21:40:09.324053151Z",
     "start_time": "2024-01-10T21:40:09.251131090Z"
    },
    "collapsed": false
   },
   "outputs": [],
   "source": [
    "is_gene_availabe = True\n",
    "trait_row = 7\n",
    "age_row = 6\n",
    "gender_row = 5\n",
    "trait_type = 'binary'"
   ]
  },
  {
   "cell_type": "code",
   "execution_count": null,
   "metadata": {
    "ExecuteTime": {
     "end_time": "2024-01-10T21:40:09.912115984Z",
     "start_time": "2024-01-10T21:40:09.907913460Z"
    },
    "collapsed": false
   },
   "outputs": [],
   "source": [
    "is_available = is_gene_availabe and (trait_row is not None)\n",
    "if not is_available:\n",
    "    save_cohort_info(cohort, JSON_PATH, is_available)\n",
    "    print(\"This cohort is not usable. Please skip the following steps and jump to the next accession number.\")"
   ]
  },
  {
   "cell_type": "code",
   "execution_count": null,
   "metadata": {
    "ExecuteTime": {
     "end_time": "2024-01-10T21:40:10.982148317Z",
     "start_time": "2024-01-10T21:40:10.967368918Z"
    },
    "collapsed": false
   },
   "outputs": [],
   "source": [
    "# Verify and use the functions generated by GPT\n",
    "\n",
    "def convert_trait(tissue_type):\n",
    "    \"\"\"\n",
    "    Convert tissue type to epilepsy presence (binary).\n",
    "    Assuming epilepsy presence for 'Hippocampus' tissue.\n",
    "    \"\"\"\n",
    "    if tissue_type == 'histology: Leiomyoma':\n",
    "        return 1  # Epilepsy present\n",
    "    else:\n",
    "        return 0  # Epilepsy not present\n",
    "\n",
    "\n",
    "def convert_age(age_string):\n",
    "    \"\"\"\n",
    "    Convert age string to a continuous numerical value.\n",
    "    Unknown values are converted to None.\n",
    "    \"\"\"\n",
    "    if age_string.lower() == 'n.a.':\n",
    "        return None\n",
    "    try:\n",
    "        # Extract age as an integer from the string\n",
    "        age = int(age_string.split(': ')[1])\n",
    "        return age\n",
    "    except (ValueError, IndexError):\n",
    "        # In case of any format error or unexpected string structure\n",
    "        return None\n",
    "\n",
    "\n",
    "# It sometimes maps 'female' to 0, and sometimes 1. Does it matter?\n",
    "def convert_gender(gender_string):\n",
    "    \"\"\"\n",
    "    Convert gender string to a binary value.\n",
    "    'female' is represented as 1, 'male' as 0.\n",
    "    Unknown values are converted to None.\n",
    "    \"\"\"\n",
    "    if gender_string.lower() == 'sex: male':\n",
    "        return 0\n",
    "    elif gender_string.lower() == 'sex: female':\n",
    "        return 1\n",
    "    else:\n",
    "        return None"
   ]
  },
  {
   "cell_type": "code",
   "execution_count": null,
   "metadata": {},
   "outputs": [],
   "source": [
    "def get_feature_data(clinical_df, row_id, feature, convert_fn):\n",
    "    \"\"\"select the row corresponding to a feature in the sample characteristics dataframe, and convert the feature into\n",
    "    a binary or continuous variable\"\"\"\n",
    "    clinical_df = clinical_df.iloc[row_id:row_id + 1].drop(columns=['!Sample_geo_accession'], errors='ignore')\n",
    "    clinical_df.index = [feature]\n",
    "    clinical_df = clinical_df.applymap(convert_fn)\n",
    "\n",
    "    return clinical_df"
   ]
  },
  {
   "cell_type": "code",
   "execution_count": null,
   "metadata": {},
   "outputs": [],
   "source": [
    "def geo_select_clinical_features(clinical_df: pd.DataFrame, trait: str, trait_row: int,\n",
    "                                 convert_trait: Callable,\n",
    "                                 age_row: Optional[int] = None,\n",
    "                                 convert_age: Optional[Callable] = None,\n",
    "                                 gender_row: Optional[int] = None,\n",
    "                                 convert_gender: Optional[Callable] = None) -> pd.DataFrame:\n",
    "    \"\"\"\n",
    "    Extracts and processes specific clinical features from a DataFrame representing\n",
    "    sample characteristics in the GEO database series.\n",
    "\n",
    "    Parameters:\n",
    "    - clinical_df (pd.DataFrame): DataFrame containing clinical data.\n",
    "    - trait (str): The trait of interest.\n",
    "    - trait_row (int): Row identifier for the trait in the DataFrame.\n",
    "    - convert_trait (Callable): Function to convert trait data into a desired format.\n",
    "    - age_row (int, optional): Row identifier for age data. Default is None.\n",
    "    - convert_age (Callable, optional): Function to convert age data. Default is None.\n",
    "    - gender_row (int, optional): Row identifier for gender data. Default is None.\n",
    "    - convert_gender (Callable, optional): Function to convert gender data. Default is None.\n",
    "\n",
    "    Returns:\n",
    "    pd.DataFrame: A DataFrame containing the selected and processed clinical features.\n",
    "    \"\"\"\n",
    "    feature_list = []\n",
    "\n",
    "    trait_data = get_feature_data(clinical_df, trait_row, trait, convert_trait)\n",
    "    feature_list.append(trait_data)\n",
    "    if age_row is not None:\n",
    "        age_data = get_feature_data(clinical_df, age_row, 'Age', convert_age)\n",
    "        feature_list.append(age_data)\n",
    "    if gender_row is not None:\n",
    "        gender_data = get_feature_data(clinical_df, gender_row, 'Gender', convert_gender)\n",
    "        feature_list.append(gender_data)\n",
    "\n",
    "    selected_clinical_df = pd.concat(feature_list, axis=0)\n",
    "    return selected_clinical_df"
   ]
  },
  {
   "cell_type": "code",
   "execution_count": null,
   "metadata": {
    "ExecuteTime": {
     "end_time": "2024-01-10T21:40:11.684556802Z",
     "start_time": "2024-01-10T21:40:11.665079581Z"
    },
    "collapsed": false
   },
   "outputs": [
    {
     "data": {
      "text/html": [
       "<div>\n",
       "<style scoped>\n",
       "    .dataframe tbody tr th:only-of-type {\n",
       "        vertical-align: middle;\n",
       "    }\n",
       "\n",
       "    .dataframe tbody tr th {\n",
       "        vertical-align: top;\n",
       "    }\n",
       "\n",
       "    .dataframe thead th {\n",
       "        text-align: right;\n",
       "    }\n",
       "</style>\n",
       "<table border=\"1\" class=\"dataframe\">\n",
       "  <thead>\n",
       "    <tr style=\"text-align: right;\">\n",
       "      <th></th>\n",
       "      <th>GSM1676864</th>\n",
       "      <th>GSM1676865</th>\n",
       "      <th>GSM1676866</th>\n",
       "      <th>GSM1676867</th>\n",
       "      <th>GSM1676868</th>\n",
       "      <th>GSM1676869</th>\n",
       "      <th>GSM1676870</th>\n",
       "      <th>GSM1676871</th>\n",
       "      <th>GSM1676872</th>\n",
       "      <th>GSM1676873</th>\n",
       "      <th>...</th>\n",
       "      <th>GSM1676991</th>\n",
       "      <th>GSM1676992</th>\n",
       "      <th>GSM1676993</th>\n",
       "      <th>GSM1676994</th>\n",
       "      <th>GSM1676995</th>\n",
       "      <th>GSM1676996</th>\n",
       "      <th>GSM1676997</th>\n",
       "      <th>GSM1676998</th>\n",
       "      <th>GSM1676999</th>\n",
       "      <th>GSM1677000</th>\n",
       "    </tr>\n",
       "  </thead>\n",
       "  <tbody>\n",
       "    <tr>\n",
       "      <th>Kidney Papillary Cell Carcinoma</th>\n",
       "      <td>0</td>\n",
       "      <td>0</td>\n",
       "      <td>1</td>\n",
       "      <td>0</td>\n",
       "      <td>0</td>\n",
       "      <td>0</td>\n",
       "      <td>0</td>\n",
       "      <td>0</td>\n",
       "      <td>0</td>\n",
       "      <td>0</td>\n",
       "      <td>...</td>\n",
       "      <td>0</td>\n",
       "      <td>0</td>\n",
       "      <td>0</td>\n",
       "      <td>0</td>\n",
       "      <td>0</td>\n",
       "      <td>0</td>\n",
       "      <td>0</td>\n",
       "      <td>0</td>\n",
       "      <td>0</td>\n",
       "      <td>0</td>\n",
       "    </tr>\n",
       "    <tr>\n",
       "      <th>Age</th>\n",
       "      <td>None</td>\n",
       "      <td>None</td>\n",
       "      <td>None</td>\n",
       "      <td>None</td>\n",
       "      <td>None</td>\n",
       "      <td>None</td>\n",
       "      <td>None</td>\n",
       "      <td>None</td>\n",
       "      <td>None</td>\n",
       "      <td>None</td>\n",
       "      <td>...</td>\n",
       "      <td>None</td>\n",
       "      <td>None</td>\n",
       "      <td>None</td>\n",
       "      <td>None</td>\n",
       "      <td>None</td>\n",
       "      <td>None</td>\n",
       "      <td>None</td>\n",
       "      <td>None</td>\n",
       "      <td>None</td>\n",
       "      <td>None</td>\n",
       "    </tr>\n",
       "    <tr>\n",
       "      <th>Gender</th>\n",
       "      <td>None</td>\n",
       "      <td>None</td>\n",
       "      <td>1</td>\n",
       "      <td>None</td>\n",
       "      <td>None</td>\n",
       "      <td>None</td>\n",
       "      <td>None</td>\n",
       "      <td>None</td>\n",
       "      <td>None</td>\n",
       "      <td>None</td>\n",
       "      <td>...</td>\n",
       "      <td>None</td>\n",
       "      <td>None</td>\n",
       "      <td>None</td>\n",
       "      <td>None</td>\n",
       "      <td>None</td>\n",
       "      <td>None</td>\n",
       "      <td>None</td>\n",
       "      <td>None</td>\n",
       "      <td>None</td>\n",
       "      <td>None</td>\n",
       "    </tr>\n",
       "  </tbody>\n",
       "</table>\n",
       "<p>3 rows × 137 columns</p>\n",
       "</div>"
      ],
      "text/plain": [
       "                                GSM1676864 GSM1676865 GSM1676866 GSM1676867  \\\n",
       "Kidney Papillary Cell Carcinoma          0          0          1          0   \n",
       "Age                                   None       None       None       None   \n",
       "Gender                                None       None          1       None   \n",
       "\n",
       "                                GSM1676868 GSM1676869 GSM1676870 GSM1676871  \\\n",
       "Kidney Papillary Cell Carcinoma          0          0          0          0   \n",
       "Age                                   None       None       None       None   \n",
       "Gender                                None       None       None       None   \n",
       "\n",
       "                                GSM1676872 GSM1676873  ...  GSM1676991  \\\n",
       "Kidney Papillary Cell Carcinoma          0          0  ...           0   \n",
       "Age                                   None       None  ...        None   \n",
       "Gender                                None       None  ...        None   \n",
       "\n",
       "                                 GSM1676992  GSM1676993  GSM1676994  \\\n",
       "Kidney Papillary Cell Carcinoma           0           0           0   \n",
       "Age                                    None        None        None   \n",
       "Gender                                 None        None        None   \n",
       "\n",
       "                                 GSM1676995 GSM1676996 GSM1676997 GSM1676998  \\\n",
       "Kidney Papillary Cell Carcinoma           0          0          0          0   \n",
       "Age                                    None       None       None       None   \n",
       "Gender                                 None       None       None       None   \n",
       "\n",
       "                                GSM1676999 GSM1677000  \n",
       "Kidney Papillary Cell Carcinoma          0          0  \n",
       "Age                                   None       None  \n",
       "Gender                                None       None  \n",
       "\n",
       "[3 rows x 137 columns]"
      ]
     },
     "execution_count": 69,
     "metadata": {},
     "output_type": "execute_result"
    }
   ],
   "source": [
    "selected_clinical_data = geo_select_clinical_features(clinical_data, TRAIT, trait_row, convert_trait, age_row=age_row,\n",
    "                                                      convert_age=convert_age, gender_row=gender_row,\n",
    "                                                      convert_gender=convert_gender)\n",
    "selected_clinical_data.head()"
   ]
  },
  {
   "cell_type": "markdown",
   "metadata": {
    "ExecuteTime": {
     "end_time": "2023-12-31T03:58:04.978664193Z",
     "start_time": "2023-12-31T03:58:04.966117261Z"
    },
    "collapsed": false
   },
   "source": [
    "### Genetic data preprocessing and final filtering"
   ]
  },
  {
   "cell_type": "code",
   "execution_count": null,
   "metadata": {},
   "outputs": [],
   "source": [
    "def get_genetic_data(file_path):\n",
    "    \"\"\"Read the gene expression data into a dataframe, and adjust its format\"\"\"\n",
    "    genetic_data = pd.read_csv(file_path, compression='gzip', skiprows=52, comment='!', delimiter='\\t')\n",
    "    genetic_data = genetic_data.dropna()\n",
    "    genetic_data = genetic_data.rename(columns={'ID_REF': 'ID'}).astype({'ID': 'str'})\n",
    "    genetic_data.set_index('ID', inplace=True)\n",
    "\n",
    "    return genetic_data\n"
   ]
  },
  {
   "cell_type": "code",
   "execution_count": null,
   "metadata": {
    "ExecuteTime": {
     "end_time": "2024-01-10T21:40:13.509252107Z",
     "start_time": "2024-01-10T21:40:13.468235630Z"
    },
    "collapsed": false
   },
   "outputs": [
    {
     "data": {
      "text/html": [
       "<div>\n",
       "<style scoped>\n",
       "    .dataframe tbody tr th:only-of-type {\n",
       "        vertical-align: middle;\n",
       "    }\n",
       "\n",
       "    .dataframe tbody tr th {\n",
       "        vertical-align: top;\n",
       "    }\n",
       "\n",
       "    .dataframe thead th {\n",
       "        text-align: right;\n",
       "    }\n",
       "</style>\n",
       "<table border=\"1\" class=\"dataframe\">\n",
       "  <thead>\n",
       "    <tr style=\"text-align: right;\">\n",
       "      <th></th>\n",
       "      <th>GSM1676864</th>\n",
       "      <th>GSM1676865</th>\n",
       "      <th>GSM1676866</th>\n",
       "      <th>GSM1676867</th>\n",
       "      <th>GSM1676868</th>\n",
       "      <th>GSM1676869</th>\n",
       "      <th>GSM1676870</th>\n",
       "      <th>GSM1676871</th>\n",
       "      <th>GSM1676872</th>\n",
       "      <th>GSM1676873</th>\n",
       "      <th>...</th>\n",
       "      <th>GSM1676991</th>\n",
       "      <th>GSM1676992</th>\n",
       "      <th>GSM1676993</th>\n",
       "      <th>GSM1676994</th>\n",
       "      <th>GSM1676995</th>\n",
       "      <th>GSM1676996</th>\n",
       "      <th>GSM1676997</th>\n",
       "      <th>GSM1676998</th>\n",
       "      <th>GSM1676999</th>\n",
       "      <th>GSM1677000</th>\n",
       "    </tr>\n",
       "    <tr>\n",
       "      <th>ID</th>\n",
       "      <th></th>\n",
       "      <th></th>\n",
       "      <th></th>\n",
       "      <th></th>\n",
       "      <th></th>\n",
       "      <th></th>\n",
       "      <th></th>\n",
       "      <th></th>\n",
       "      <th></th>\n",
       "      <th></th>\n",
       "      <th></th>\n",
       "      <th></th>\n",
       "      <th></th>\n",
       "      <th></th>\n",
       "      <th></th>\n",
       "      <th></th>\n",
       "      <th></th>\n",
       "      <th></th>\n",
       "      <th></th>\n",
       "      <th></th>\n",
       "      <th></th>\n",
       "    </tr>\n",
       "  </thead>\n",
       "  <tbody>\n",
       "    <tr>\n",
       "      <th>1007_s_at</th>\n",
       "      <td>1932.3800</td>\n",
       "      <td>1032.6500</td>\n",
       "      <td>1282.8000</td>\n",
       "      <td>2688.6100</td>\n",
       "      <td>2189.2700</td>\n",
       "      <td>342.6390</td>\n",
       "      <td>254.9960</td>\n",
       "      <td>2225.930</td>\n",
       "      <td>2785.7000</td>\n",
       "      <td>1785.5800</td>\n",
       "      <td>...</td>\n",
       "      <td>2212.0200</td>\n",
       "      <td>1105.370</td>\n",
       "      <td>1429.44000</td>\n",
       "      <td>1034.43000</td>\n",
       "      <td>1963.0400</td>\n",
       "      <td>685.8430</td>\n",
       "      <td>1038.4300</td>\n",
       "      <td>267.5860</td>\n",
       "      <td>854.4560</td>\n",
       "      <td>1051.0300</td>\n",
       "    </tr>\n",
       "    <tr>\n",
       "      <th>1053_at</th>\n",
       "      <td>833.8050</td>\n",
       "      <td>1034.2300</td>\n",
       "      <td>647.4520</td>\n",
       "      <td>149.0560</td>\n",
       "      <td>315.9340</td>\n",
       "      <td>155.5640</td>\n",
       "      <td>312.1450</td>\n",
       "      <td>431.223</td>\n",
       "      <td>325.0920</td>\n",
       "      <td>793.2160</td>\n",
       "      <td>...</td>\n",
       "      <td>199.2370</td>\n",
       "      <td>514.352</td>\n",
       "      <td>879.66300</td>\n",
       "      <td>1314.85000</td>\n",
       "      <td>625.2920</td>\n",
       "      <td>727.3050</td>\n",
       "      <td>521.0290</td>\n",
       "      <td>205.0130</td>\n",
       "      <td>478.0530</td>\n",
       "      <td>466.5580</td>\n",
       "    </tr>\n",
       "    <tr>\n",
       "      <th>117_at</th>\n",
       "      <td>122.2550</td>\n",
       "      <td>59.3265</td>\n",
       "      <td>126.7500</td>\n",
       "      <td>139.8990</td>\n",
       "      <td>98.9554</td>\n",
       "      <td>66.8850</td>\n",
       "      <td>74.1553</td>\n",
       "      <td>131.672</td>\n",
       "      <td>77.3771</td>\n",
       "      <td>120.1670</td>\n",
       "      <td>...</td>\n",
       "      <td>429.3040</td>\n",
       "      <td>101.457</td>\n",
       "      <td>91.43080</td>\n",
       "      <td>83.34430</td>\n",
       "      <td>197.2620</td>\n",
       "      <td>115.2990</td>\n",
       "      <td>128.3080</td>\n",
       "      <td>84.8303</td>\n",
       "      <td>110.7950</td>\n",
       "      <td>94.8872</td>\n",
       "    </tr>\n",
       "    <tr>\n",
       "      <th>121_at</th>\n",
       "      <td>1134.5400</td>\n",
       "      <td>1058.9700</td>\n",
       "      <td>1107.4800</td>\n",
       "      <td>1712.0000</td>\n",
       "      <td>1175.1700</td>\n",
       "      <td>1004.8500</td>\n",
       "      <td>943.4220</td>\n",
       "      <td>1246.450</td>\n",
       "      <td>1114.2500</td>\n",
       "      <td>1289.7300</td>\n",
       "      <td>...</td>\n",
       "      <td>1237.0500</td>\n",
       "      <td>848.331</td>\n",
       "      <td>760.27900</td>\n",
       "      <td>608.74700</td>\n",
       "      <td>750.6020</td>\n",
       "      <td>815.2660</td>\n",
       "      <td>822.6670</td>\n",
       "      <td>513.1220</td>\n",
       "      <td>741.4220</td>\n",
       "      <td>630.6230</td>\n",
       "    </tr>\n",
       "    <tr>\n",
       "      <th>1255_g_at</th>\n",
       "      <td>26.6585</td>\n",
       "      <td>41.4460</td>\n",
       "      <td>58.2286</td>\n",
       "      <td>77.8601</td>\n",
       "      <td>70.6387</td>\n",
       "      <td>37.9141</td>\n",
       "      <td>16.5508</td>\n",
       "      <td>106.737</td>\n",
       "      <td>77.7958</td>\n",
       "      <td>67.8281</td>\n",
       "      <td>...</td>\n",
       "      <td>19.0356</td>\n",
       "      <td>16.150</td>\n",
       "      <td>8.93552</td>\n",
       "      <td>3.17154</td>\n",
       "      <td>93.9857</td>\n",
       "      <td>33.7936</td>\n",
       "      <td>25.4411</td>\n",
       "      <td>25.6873</td>\n",
       "      <td>32.2491</td>\n",
       "      <td>12.3147</td>\n",
       "    </tr>\n",
       "  </tbody>\n",
       "</table>\n",
       "<p>5 rows × 137 columns</p>\n",
       "</div>"
      ],
      "text/plain": [
       "           GSM1676864  GSM1676865  GSM1676866  GSM1676867  GSM1676868  \\\n",
       "ID                                                                      \n",
       "1007_s_at   1932.3800   1032.6500   1282.8000   2688.6100   2189.2700   \n",
       "1053_at      833.8050   1034.2300    647.4520    149.0560    315.9340   \n",
       "117_at       122.2550     59.3265    126.7500    139.8990     98.9554   \n",
       "121_at      1134.5400   1058.9700   1107.4800   1712.0000   1175.1700   \n",
       "1255_g_at     26.6585     41.4460     58.2286     77.8601     70.6387   \n",
       "\n",
       "           GSM1676869  GSM1676870  GSM1676871  GSM1676872  GSM1676873  ...  \\\n",
       "ID                                                                     ...   \n",
       "1007_s_at    342.6390    254.9960    2225.930   2785.7000   1785.5800  ...   \n",
       "1053_at      155.5640    312.1450     431.223    325.0920    793.2160  ...   \n",
       "117_at        66.8850     74.1553     131.672     77.3771    120.1670  ...   \n",
       "121_at      1004.8500    943.4220    1246.450   1114.2500   1289.7300  ...   \n",
       "1255_g_at     37.9141     16.5508     106.737     77.7958     67.8281  ...   \n",
       "\n",
       "           GSM1676991  GSM1676992  GSM1676993  GSM1676994  GSM1676995  \\\n",
       "ID                                                                      \n",
       "1007_s_at   2212.0200    1105.370  1429.44000  1034.43000   1963.0400   \n",
       "1053_at      199.2370     514.352   879.66300  1314.85000    625.2920   \n",
       "117_at       429.3040     101.457    91.43080    83.34430    197.2620   \n",
       "121_at      1237.0500     848.331   760.27900   608.74700    750.6020   \n",
       "1255_g_at     19.0356      16.150     8.93552     3.17154     93.9857   \n",
       "\n",
       "           GSM1676996  GSM1676997  GSM1676998  GSM1676999  GSM1677000  \n",
       "ID                                                                     \n",
       "1007_s_at    685.8430   1038.4300    267.5860    854.4560   1051.0300  \n",
       "1053_at      727.3050    521.0290    205.0130    478.0530    466.5580  \n",
       "117_at       115.2990    128.3080     84.8303    110.7950     94.8872  \n",
       "121_at       815.2660    822.6670    513.1220    741.4220    630.6230  \n",
       "1255_g_at     33.7936     25.4411     25.6873     32.2491     12.3147  \n",
       "\n",
       "[5 rows x 137 columns]"
      ]
     },
     "execution_count": 71,
     "metadata": {},
     "output_type": "execute_result"
    }
   ],
   "source": [
    "genetic_data = get_genetic_data(matrix_file)\n",
    "genetic_data.head()"
   ]
  },
  {
   "cell_type": "code",
   "execution_count": null,
   "metadata": {
    "ExecuteTime": {
     "end_time": "2024-01-10T21:40:14.107050774Z",
     "start_time": "2024-01-10T21:40:14.090977173Z"
    },
    "collapsed": false
   },
   "outputs": [
    {
     "data": {
      "text/plain": [
       "['1007_s_at',\n",
       " '1053_at',\n",
       " '117_at',\n",
       " '121_at',\n",
       " '1255_g_at',\n",
       " '1294_at',\n",
       " '1316_at',\n",
       " '1320_at',\n",
       " '1405_i_at',\n",
       " '1431_at',\n",
       " '1438_at',\n",
       " '1487_at',\n",
       " '1494_f_at',\n",
       " '1598_g_at',\n",
       " '160020_at',\n",
       " '1729_at',\n",
       " '1773_at',\n",
       " '177_at',\n",
       " '179_at',\n",
       " '1861_at']"
      ]
     },
     "execution_count": 72,
     "metadata": {},
     "output_type": "execute_result"
    }
   ],
   "source": [
    "gene_row_ids = genetic_data.index[:20].tolist()\n",
    "gene_row_ids"
   ]
  },
  {
   "cell_type": "markdown",
   "metadata": {
    "ExecuteTime": {
     "end_time": "2023-12-31T03:30:41.595335164Z",
     "start_time": "2023-12-31T03:30:41.513232329Z"
    },
    "collapsed": false
   },
   "source": [
    "Check if the gene dataset requires mapping to get the gene symbols corresponding to each data row."
   ]
  },
  {
   "cell_type": "markdown",
   "metadata": {
    "collapsed": false
   },
   "source": [
    "Reference prompt:"
   ]
  },
  {
   "cell_type": "code",
   "execution_count": null,
   "metadata": {
    "ExecuteTime": {
     "end_time": "2024-01-10T21:40:16.445692615Z",
     "start_time": "2024-01-10T21:40:16.435117932Z"
    },
    "collapsed": false
   },
   "outputs": [
    {
     "data": {
      "text/plain": [
       "\"\\nBelow are the row headers of a gene expression dataset in GEO. Based on your biomedical knowledge, are they human gene symbols, or are they some other identifiers that need to be mapped to gene symbols? Your answer should be concluded by starting a new line and strictly following this format:\\nrequires_gene_mapping = (True or False)\\n\\nRow headers:\\n['1007_s_at', '1053_at', '117_at', '121_at', '1255_g_at', '1294_at', '1316_at', '1320_at', '1405_i_at', '1431_at', '1438_at', '1487_at', '1494_f_at', '1598_g_at', '160020_at', '1729_at', '1773_at', '177_at', '179_at', '1861_at']\\n\""
      ]
     },
     "execution_count": 73,
     "metadata": {},
     "output_type": "execute_result"
    }
   ],
   "source": [
    "f'''\n",
    "Below are the row headers of a gene expression dataset in GEO. Based on your biomedical knowledge, are they human gene symbols, or are they some other identifiers that need to be mapped to gene symbols? Your answer should be concluded by starting a new line and strictly following this format:\n",
    "requires_gene_mapping = (True or False)\n",
    "\n",
    "Row headers:\n",
    "{gene_row_ids}\n",
    "'''"
   ]
  },
  {
   "cell_type": "markdown",
   "metadata": {
    "collapsed": false
   },
   "source": [
    "\n",
    "If not required, jump directly to the gene normalization step"
   ]
  },
  {
   "cell_type": "code",
   "execution_count": null,
   "metadata": {
    "ExecuteTime": {
     "end_time": "2024-01-10T21:40:17.098774002Z",
     "start_time": "2024-01-10T21:40:17.094437169Z"
    },
    "collapsed": false
   },
   "outputs": [],
   "source": [
    "requires_gene_mapping = False"
   ]
  },
  {
   "cell_type": "code",
   "execution_count": null,
   "metadata": {
    "ExecuteTime": {
     "end_time": "2024-01-10T21:40:17.399324928Z",
     "start_time": "2024-01-10T21:40:17.381475568Z"
    },
    "collapsed": false
   },
   "outputs": [],
   "source": [
    "if requires_gene_mapping:\n",
    "    gene_annotation = get_gene_annotation(soft_file)\n",
    "    gene_annotation_summary = preview_df(gene_annotation)\n",
    "    print(gene_annotation_summary)"
   ]
  },
  {
   "cell_type": "markdown",
   "metadata": {
    "ExecuteTime": {
     "end_time": "2023-12-31T03:58:04.978931927Z",
     "start_time": "2023-12-31T03:58:04.966328339Z"
    },
    "collapsed": false
   },
   "source": [
    "Observe the first few cells in the ID column of the gene annotation dataframe, to find the names of columns that store the gene probe IDs and gene symbols respectively.\n",
    "Reference prompt:"
   ]
  },
  {
   "cell_type": "code",
   "execution_count": null,
   "metadata": {
    "ExecuteTime": {
     "end_time": "2024-01-10T21:40:17.944343822Z",
     "start_time": "2024-01-10T21:40:17.933815553Z"
    },
    "collapsed": false
   },
   "outputs": [],
   "source": [
    "if requires_gene_mapping:\n",
    "    print(f'''\n",
    "    As a biomedical research team, we are analyzing a gene expression dataset, and find that its row headers are some identifiers related to genes:\n",
    "    {gene_row_ids}\n",
    "    To get the mapping from those identifiers to actual gene symbols, we extracted the gene annotation data from a series in the GEO database, and saved it to a Python dictionary. Please read the dictionary, and decide which key stores the identifiers, and which key stores the gene symbols. Please strictly follow this format in your answer:\n",
    "    identifier_key = 'key_name1'\n",
    "    gene_symbol_key = 'key_name2'\n",
    "\n",
    "    Gene annotation dictionary:\n",
    "    {gene_annotation_summary}\n",
    "    ''')"
   ]
  },
  {
   "cell_type": "code",
   "execution_count": null,
   "metadata": {
    "ExecuteTime": {
     "end_time": "2024-01-10T21:40:18.245811669Z",
     "start_time": "2024-01-10T21:40:18.234480277Z"
    },
    "collapsed": false
   },
   "outputs": [],
   "source": [
    "if requires_gene_mapping:\n",
    "    identifier_key = 'ID'\n",
    "    gene_symbol_key = 'UCSC_RefGene_Name'\n",
    "    gene_mapping = get_gene_mapping(gene_annotation, identifier_key, gene_symbol_key)\n",
    "    genetic_data = apply_gene_mapping(genetic_data, gene_mapping)"
   ]
  },
  {
   "cell_type": "code",
   "execution_count": null,
   "metadata": {},
   "outputs": [],
   "source": [
    "def normalize_gene_symbols_in_index(gene_df):\n",
    "    \"\"\"Normalize the human gene symbols at the index of a dataframe, and replace the index with its normalized version.\n",
    "    Remove the rows where the index failed to be normalized.\"\"\"\n",
    "    normalized_gene_list = normalize_gene_symbols(gene_df.index.tolist())\n",
    "    assert len(normalized_gene_list) == len(gene_df.index)\n",
    "    gene_df.index = normalized_gene_list\n",
    "    gene_df = gene_df[gene_df.index.notnull()]\n",
    "    return gene_df"
   ]
  },
  {
   "cell_type": "code",
   "execution_count": null,
   "metadata": {},
   "outputs": [],
   "source": [
    "def normalize_gene_symbols(gene_symbols, batch_size=1000):\n",
    "    \"\"\"Normalize human gene symbols in batches using the 'mygenes' library\"\"\"\n",
    "    mg = mygene.MyGeneInfo()\n",
    "    normalized_genes = {}\n",
    "\n",
    "    # Process in batches\n",
    "    for i in range(0, len(gene_symbols), batch_size):\n",
    "        batch = gene_symbols[i:i + batch_size]\n",
    "        results = mg.querymany(batch, scopes='symbol', fields='symbol', species='human')\n",
    "\n",
    "        # Update the normalized_genes dictionary with results from this batch\n",
    "        for gene in results:\n",
    "            normalized_genes[gene['query']] = gene.get('symbol', None)\n",
    "\n",
    "    # Return the normalized symbols in the same order as the input\n",
    "    return [normalized_genes.get(symbol) for symbol in gene_symbols]"
   ]
  },
  {
   "cell_type": "code",
   "execution_count": null,
   "metadata": {},
   "outputs": [],
   "source": [
    "import mygene"
   ]
  },
  {
   "cell_type": "code",
   "execution_count": null,
   "metadata": {
    "ExecuteTime": {
     "end_time": "2024-01-10T21:40:20.559860684Z",
     "start_time": "2024-01-10T21:40:18.521711414Z"
    },
    "collapsed": false
   },
   "outputs": [
    {
     "name": "stderr",
     "output_type": "stream",
     "text": [
      "1000 input query terms found no hit:\t['1007_s_at', '1053_at', '117_at', '121_at', '1255_g_at', '1294_at', '1316_at', '1320_at', '1405_i_a\n",
      "1000 input query terms found no hit:\t['201473_at', '201474_s_at', '201475_x_at', '201476_s_at', '201477_s_at', '201478_s_at', '201479_at'\n",
      "1000 input query terms found no hit:\t['202473_x_at', '202474_s_at', '202475_at', '202476_s_at', '202477_s_at', '202478_at', '202479_s_at'\n",
      "1000 input query terms found no hit:\t['203474_at', '203475_at', '203476_at', '203477_at', '203478_at', '203479_s_at', '203480_s_at', '203\n",
      "1000 input query terms found no hit:\t['204474_at', '204475_at', '204476_s_at', '204477_at', '204478_s_at', '204479_at', '204480_s_at', '2\n",
      "1000 input query terms found no hit:\t['205474_at', '205475_at', '205476_at', '205477_s_at', '205478_at', '205479_s_at', '205480_s_at', '2\n",
      "1000 input query terms found no hit:\t['206475_x_at', '206476_s_at', '206477_s_at', '206478_at', '206479_at', '206480_at', '206481_s_at', \n",
      "1000 input query terms found no hit:\t['207479_at', '207480_s_at', '207481_at', '207482_at', '207483_s_at', '207484_s_at', '207485_x_at', \n",
      "1000 input query terms found no hit:\t['208503_s_at', '208504_x_at', '208505_s_at', '208506_at', '208507_at', '208508_s_at', '208509_s_at'\n",
      "1000 input query terms found no hit:\t['209508_x_at', '209509_s_at', '209510_at', '209511_at', '209512_at', '209513_s_at', '209514_s_at', \n",
      "1000 input query terms found no hit:\t['210533_at', '210534_s_at', '210535_at', '210536_s_at', '210537_s_at', '210538_s_at', '210539_at', \n",
      "1000 input query terms found no hit:\t['211596_s_at', '211597_s_at', '211598_x_at', '211599_x_at', '211600_at', '211601_at', '211602_s_at'\n",
      "1000 input query terms found no hit:\t['212616_at', '212617_at', '212618_at', '212619_at', '212620_at', '212621_at', '212622_at', '212623_\n",
      "1000 input query terms found no hit:\t['213621_s_at', '213622_at', '213623_at', '213624_at', '213625_at', '213626_at', '213627_at', '21362\n",
      "1000 input query terms found no hit:\t['214623_at', '214624_at', '214625_s_at', '214626_s_at', '214627_at', '214628_at', '214629_x_at', '2\n",
      "1000 input query terms found no hit:\t['215628_x_at', '215629_s_at', '215630_at', '215631_s_at', '215632_at', '215633_x_at', '215634_at', \n",
      "1000 input query terms found no hit:\t['216631_s_at', '216632_at', '216633_s_at', '216634_at', '216635_at', '216636_at', '216637_at', '216\n",
      "1000 input query terms found no hit:\t['217636_at', '217637_at', '217638_at', '217639_at', '217640_x_at', '217641_at', '217642_at', '21764\n",
      "1000 input query terms found no hit:\t['218637_at', '218638_s_at', '218639_s_at', '218640_s_at', '218641_at', '218642_s_at', '218643_s_at'\n",
      "1000 input query terms found no hit:\t['219637_at', '219638_at', '219639_x_at', '219640_at', '219641_at', '219642_s_at', '219643_at', '219\n",
      "1000 input query terms found no hit:\t['220637_at', '220638_s_at', '220639_at', '220640_at', '220641_at', '220642_x_at', '220643_s_at', '2\n",
      "1000 input query terms found no hit:\t['221640_s_at', '221641_s_at', '221642_at', '221643_s_at', '221644_s_at', '221645_s_at', '221646_s_a\n",
      "283 input query terms found no hit:\t['44146_at', '44563_at', '44617_at', '44654_at', '44669_at', '44673_at', '44696_at', '44702_at', '44\n"
     ]
    }
   ],
   "source": [
    "if NORMALIZE_GENE:\n",
    "    genetic_data = normalize_gene_symbols_in_index(genetic_data)"
   ]
  },
  {
   "cell_type": "code",
   "execution_count": null,
   "metadata": {},
   "outputs": [],
   "source": [
    "def geo_merge_clinical_genetic_data(clinical_df, genetic_df):\n",
    "    \"\"\"\n",
    "    Merge the clinical features and gene expression features from two dataframes into one dataframe\n",
    "    \"\"\"\n",
    "    if 'ID' in genetic_df.columns:\n",
    "        genetic_df = genetic_df.rename(columns={'ID': 'Gene'})\n",
    "    if 'Gene' in genetic_df.columns:\n",
    "        genetic_df = genetic_df.set_index('Gene')\n",
    "    merged_data = pd.concat([clinical_df, genetic_df], axis=0).T.dropna()\n",
    "    return merged_data\n"
   ]
  },
  {
   "cell_type": "code",
   "execution_count": null,
   "metadata": {
    "ExecuteTime": {
     "end_time": "2024-01-10T21:40:20.572778564Z",
     "start_time": "2024-01-10T21:40:20.565101065Z"
    },
    "collapsed": false
   },
   "outputs": [],
   "source": [
    "merged_data = geo_merge_clinical_genetic_data(selected_clinical_data, genetic_data)\n",
    "# The preprocessing runs through, which means is_available should be True\n",
    "is_available = True"
   ]
  },
  {
   "cell_type": "code",
   "execution_count": null,
   "metadata": {
    "ExecuteTime": {
     "end_time": "2024-01-10T21:40:20.595385887Z",
     "start_time": "2024-01-10T21:40:20.574630883Z"
    },
    "collapsed": false
   },
   "outputs": [
    {
     "name": "stdout",
     "output_type": "stream",
     "text": [
      "The merged dataset contains 20 samples.\n"
     ]
    }
   ],
   "source": [
    "print(f\"The merged dataset contains {len(merged_data)} samples.\")"
   ]
  },
  {
   "cell_type": "code",
   "execution_count": null,
   "metadata": {},
   "outputs": [],
   "source": [
    "def judge_and_remove_biased_features(df, trait, trait_type):\n",
    "    assert trait_type in [\"binary\", \"continuous\"], f\"The trait must be either a binary or a continuous variable!\"\n",
    "    if trait_type == \"binary\":\n",
    "        trait_biased = judge_binary_variable_biased(df, trait)\n",
    "    else:\n",
    "        trait_biased = judge_continuous_variable_biased(df, trait)\n",
    "    if trait_biased:\n",
    "        print(f\"The distribution of the feature \\'{trait}\\' in this dataset is severely biased.\\n\")\n",
    "    else:\n",
    "        print(f\"The distribution of the feature \\'{trait}\\' in this dataset is fine.\\n\")\n",
    "    if \"Age\" in df.columns:\n",
    "        age_biased = judge_continuous_variable_biased(df, 'Age')\n",
    "        if age_biased:\n",
    "            print(f\"The distribution of the feature \\'Age\\' in this dataset is severely biased.\\n\")\n",
    "            df = df.drop(columns='Age')\n",
    "        else:\n",
    "            print(f\"The distribution of the feature \\'Age\\' in this dataset is fine.\\n\")\n",
    "    if \"Gender\" in df.columns:\n",
    "        gender_biased = judge_binary_variable_biased(df, 'Gender')\n",
    "        if gender_biased:\n",
    "            print(f\"The distribution of the feature \\'Gender\\' in this dataset is severely biased.\\n\")\n",
    "            df = df.drop(columns='Gender')\n",
    "        else:\n",
    "            print(f\"The distribution of the feature \\'Gender\\' in this dataset is fine.\\n\")\n",
    "\n",
    "    return trait_biased, df\n"
   ]
  },
  {
   "cell_type": "code",
   "execution_count": null,
   "metadata": {},
   "outputs": [],
   "source": [
    "def judge_binary_variable_biased(dataframe, col_name, min_proportion=0.1, min_num=5):\n",
    "    \"\"\"\n",
    "    Check if the distribution of a binary variable in the dataset is too biased to be usable for analysis\n",
    "    :param dataframe:\n",
    "    :param col_name:\n",
    "    :param min_proportion:\n",
    "    :param min_num:\n",
    "    :return:\n",
    "    \"\"\"\n",
    "    label_counter = dataframe[col_name].value_counts()\n",
    "    total_samples = len(dataframe)\n",
    "    rare_label_num = label_counter.min()\n",
    "    rare_label = label_counter.idxmin()\n",
    "    rare_label_proportion = rare_label_num / total_samples\n",
    "\n",
    "    print(\n",
    "        f\"For the feature \\'{col_name}\\', the least common label is '{rare_label}' with {rare_label_num} occurrences. This represents {rare_label_proportion:.2%} of the dataset.\")\n",
    "\n",
    "    biased = (len(label_counter) < 2) or ((rare_label_proportion < min_proportion) and (rare_label_num < min_num))\n",
    "    return bool(biased)"
   ]
  },
  {
   "cell_type": "code",
   "execution_count": null,
   "metadata": {},
   "outputs": [],
   "source": [
    "def judge_continuous_variable_biased(dataframe, col_name):\n",
    "    \"\"\"Check if the distribution of a continuous variable in the dataset is too biased to be usable for analysis.\n",
    "    As a starting point, we consider it biased if all values are the same. For the next step, maybe ask GPT to judge\n",
    "    based on quartile statistics combined with its common sense knowledge about this feature.\n",
    "    \"\"\"\n",
    "    quartiles = dataframe[col_name].quantile([0.25, 0.5, 0.75])\n",
    "    min_value = dataframe[col_name].min()\n",
    "    max_value = dataframe[col_name].max()\n",
    "\n",
    "    # Printing quartile information\n",
    "    print(f\"Quartiles for '{col_name}':\")\n",
    "    print(f\"  25%: {quartiles[0.25]}\")\n",
    "    print(f\"  50% (Median): {quartiles[0.5]}\")\n",
    "    print(f\"  75%: {quartiles[0.75]}\")\n",
    "    print(f\"Min: {min_value}\")\n",
    "    print(f\"Max: {max_value}\")\n",
    "\n",
    "    biased = min_value == max_value\n",
    "\n",
    "    return bool(biased)"
   ]
  },
  {
   "cell_type": "code",
   "execution_count": null,
   "metadata": {
    "ExecuteTime": {
     "end_time": "2024-01-10T21:40:20.595934649Z",
     "start_time": "2024-01-10T21:40:20.580408525Z"
    },
    "collapsed": false
   },
   "outputs": [
    {
     "name": "stdout",
     "output_type": "stream",
     "text": [
      "For the feature 'Kidney Papillary Cell Carcinoma', the least common label is '0.0' with 20 occurrences. This represents 100.00% of the dataset.\n",
      "The distribution of the feature 'Kidney Papillary Cell Carcinoma' in this dataset is severely biased.\n",
      "\n",
      "Quartiles for 'Age':\n",
      "  25%: 56.0\n",
      "  50% (Median): 66.0\n",
      "  75%: 67.0\n",
      "Min: 48.0\n",
      "Max: 72.0\n",
      "The distribution of the feature 'Age' in this dataset is fine.\n",
      "\n",
      "For the feature 'Gender', the least common label is '1.0' with 8 occurrences. This represents 40.00% of the dataset.\n",
      "The distribution of the feature 'Gender' in this dataset is fine.\n",
      "\n"
     ]
    },
    {
     "data": {
      "text/plain": [
       "True"
      ]
     },
     "execution_count": 88,
     "metadata": {},
     "output_type": "execute_result"
    }
   ],
   "source": [
    "is_trait_biased, merged_data = judge_and_remove_biased_features(merged_data, TRAIT, trait_type=trait_type)\n",
    "is_trait_biased"
   ]
  },
  {
   "cell_type": "code",
   "execution_count": null,
   "metadata": {},
   "outputs": [],
   "source": [
    "def save_cohort_info(cohort: str, info_path: str, is_available: bool, is_biased: Optional[bool] = None,\n",
    "                     df: Optional[pd.DataFrame] = None, note: str = '') -> None:\n",
    "    \"\"\"\n",
    "    Add or update information about the usability and quality of a dataset for statistical analysis.\n",
    "\n",
    "    Parameters:\n",
    "    cohort (str): A unique identifier for the dataset.\n",
    "    info_path (str): File path to the JSON file where records are stored.\n",
    "    is_available (bool): Indicates whether both the genetic data and trait data are available in the dataset, and can be\n",
    "     preprocessed into a dataframe.\n",
    "    is_biased (bool, optional): Indicates whether the dataset is too biased to be usable.\n",
    "        Required if `is_available` is True.\n",
    "    df (pandas.DataFrame, optional): The preprocessed dataset. Required if `is_available` is True.\n",
    "    note (str, optional): Additional notes about the dataset.\n",
    "\n",
    "    Returns:\n",
    "    None: The function does not return a value but updates or creates a record in the specified JSON file.\n",
    "    \"\"\"\n",
    "    if is_available:\n",
    "        assert (df is not None) and (is_biased is not None), \"'df' and 'is_biased' should be provided if this cohort \" \\\n",
    "                                                             \"is relevant.\"\n",
    "    is_usable = is_available and (not is_biased)\n",
    "    new_record = {\"is_usable\": is_usable,\n",
    "                  \"is_available\": is_available,\n",
    "                  \"is_biased\": is_biased if is_available else None,\n",
    "                  \"has_age\": \"Age\" in df.columns if is_available else None,\n",
    "                  \"has_gender\": \"Gender\" in df.columns if is_available else None,\n",
    "                  \"sample_size\": len(df) if is_available else None,\n",
    "                  \"note\": note}\n",
    "    \n",
    "    if not os.path.exists(info_path):\n",
    "        with open(info_path, 'w') as file:\n",
    "            json.dump({}, file)\n",
    "        print(f\"A new JSON file was created at: {info_path}\")\n",
    "\n",
    "    with open(info_path, \"r\") as file:\n",
    "        records = json.load(file)\n",
    "    records[cohort] = new_record\n",
    "\n",
    "    temp_path = info_path + \".tmp\"\n",
    "    try:\n",
    "        with open(temp_path, 'w') as file:\n",
    "            json.dump(records, file)\n",
    "        os.replace(temp_path, info_path)\n",
    "\n",
    "    except Exception as e:\n",
    "        print(f\"An error occurred: {e}\")\n",
    "        if os.path.exists(temp_path):\n",
    "            os.remove(temp_path)\n",
    "        raise"
   ]
  },
  {
   "cell_type": "code",
   "execution_count": null,
   "metadata": {
    "ExecuteTime": {
     "end_time": "2024-01-10T21:40:20.596022151Z",
     "start_time": "2024-01-10T21:40:20.588443384Z"
    },
    "collapsed": false
   },
   "outputs": [],
   "source": [
    "import json\n",
    "if is_available:\n",
    "    save_cohort_info(cohort, JSON_PATH, is_available, is_trait_biased, merged_data, note='')\n",
    "else:\n",
    "    save_cohort_info(cohort, JSON_PATH, is_available)"
   ]
  },
  {
   "cell_type": "code",
   "execution_count": null,
   "metadata": {
    "ExecuteTime": {
     "end_time": "2024-01-10T21:40:20.681345468Z",
     "start_time": "2024-01-10T21:40:20.591286171Z"
    },
    "collapsed": false
   },
   "outputs": [],
   "source": [
    "merged_data.head()\n",
    "if not is_trait_biased:\n",
    "    merged_data.to_csv(os.path.join(OUTPUT_DIR, cohort + '.csv'), index=False)"
   ]
  },
  {
   "cell_type": "markdown",
   "metadata": {
    "ExecuteTime": {
     "end_time": "2023-12-31T03:58:22.271683755Z",
     "start_time": "2023-12-31T03:58:22.246557674Z"
    },
    "id": "-MTPhRGxJV7I"
   },
   "source": [
    "### 3. Do regression & Cross Validation"
   ]
  },
  {
   "cell_type": "code",
   "execution_count": null,
   "metadata": {},
   "outputs": [],
   "source": [
    "def read_json_to_dataframe(json_file: str) -> pd.DataFrame:\n",
    "    \"\"\"\n",
    "    Reads a JSON file and converts it into a pandas DataFrame.\n",
    "\n",
    "    Args:\n",
    "    json_file (str): The path to the JSON file containing the data.\n",
    "\n",
    "    Returns:\n",
    "    DataFrame: A pandas DataFrame with the JSON data.\n",
    "    \"\"\"\n",
    "    with open(json_file, 'r') as file:\n",
    "        data = json.load(file)\n",
    "    return pd.DataFrame.from_dict(data, orient='index').reset_index().rename(columns={'index': 'cohort_id'})"
   ]
  },
  {
   "cell_type": "code",
   "execution_count": null,
   "metadata": {},
   "outputs": [],
   "source": [
    "def filter_and_rank_cohorts(json_file: str, condition: Union[str, None] = None) -> Tuple[\n",
    "    Union[str, None], pd.DataFrame]:\n",
    "    \"\"\"\n",
    "    Reads a JSON file, filters cohorts based on usability and an optional condition, then ranks them by sample size.\n",
    "\n",
    "    Args:\n",
    "    json_file (str): The path to the JSON file containing the data.\n",
    "    condition (str, optional): An additional condition for filtering. If None, only 'is_usable' is considered.\n",
    "\n",
    "    Returns:\n",
    "    Tuple: A tuple containing the best cohort ID (str or None if no suitable cohort is found) and\n",
    "           the filtered and ranked DataFrame.\n",
    "    \"\"\"\n",
    "    # Read the JSON file into a DataFrame\n",
    "    df = read_json_to_dataframe(json_file)\n",
    "\n",
    "    if condition:\n",
    "        filtered_df = df[(df['is_usable'] == True) & (df[condition] == True)]\n",
    "    else:\n",
    "        filtered_df = df[df['is_usable'] == True]\n",
    "\n",
    "    ranked_df = filtered_df.sort_values(by='sample_size', ascending=False)\n",
    "    best_cohort_id = ranked_df.iloc[0]['cohort_id'] if not ranked_df.empty else None\n",
    "\n",
    "    return best_cohort_id, ranked_df\n"
   ]
  },
  {
   "cell_type": "code",
   "execution_count": null,
   "metadata": {
    "ExecuteTime": {
     "end_time": "2024-01-10T21:40:20.694597045Z",
     "start_time": "2024-01-10T21:40:20.642161512Z"
    },
    "collapsed": false
   },
   "outputs": [
    {
     "data": {
      "text/html": [
       "<div>\n",
       "<style scoped>\n",
       "    .dataframe tbody tr th:only-of-type {\n",
       "        vertical-align: middle;\n",
       "    }\n",
       "\n",
       "    .dataframe tbody tr th {\n",
       "        vertical-align: top;\n",
       "    }\n",
       "\n",
       "    .dataframe thead th {\n",
       "        text-align: right;\n",
       "    }\n",
       "</style>\n",
       "<table border=\"1\" class=\"dataframe\">\n",
       "  <thead>\n",
       "    <tr style=\"text-align: right;\">\n",
       "      <th></th>\n",
       "      <th>cohort_id</th>\n",
       "      <th>is_usable</th>\n",
       "      <th>is_available</th>\n",
       "      <th>is_biased</th>\n",
       "      <th>has_age</th>\n",
       "      <th>has_gender</th>\n",
       "      <th>sample_size</th>\n",
       "      <th>note</th>\n",
       "    </tr>\n",
       "  </thead>\n",
       "  <tbody>\n",
       "    <tr>\n",
       "      <th>0</th>\n",
       "      <td>Xena</td>\n",
       "      <td>True</td>\n",
       "      <td>True</td>\n",
       "      <td>False</td>\n",
       "      <td>True</td>\n",
       "      <td>True</td>\n",
       "      <td>320</td>\n",
       "      <td></td>\n",
       "    </tr>\n",
       "  </tbody>\n",
       "</table>\n",
       "</div>"
      ],
      "text/plain": [
       "  cohort_id  is_usable  is_available  is_biased  has_age  has_gender  \\\n",
       "0      Xena       True          True      False     True        True   \n",
       "\n",
       "   sample_size note  \n",
       "0          320       "
      ]
     },
     "execution_count": 94,
     "metadata": {},
     "output_type": "execute_result"
    }
   ],
   "source": [
    "# Check the information of usable cohorts\n",
    "best_cohort, ranked_df = filter_and_rank_cohorts(JSON_PATH)\n",
    "ranked_df"
   ]
  },
  {
   "cell_type": "code",
   "execution_count": null,
   "metadata": {
    "ExecuteTime": {
     "end_time": "2024-01-10T21:40:20.907514912Z",
     "start_time": "2024-01-10T21:40:20.907178250Z"
    },
    "collapsed": false
   },
   "outputs": [
    {
     "data": {
      "text/plain": [
       "'Xena'"
      ]
     },
     "execution_count": 95,
     "metadata": {},
     "output_type": "execute_result"
    }
   ],
   "source": [
    "# If both age and gender have available cohorts, select 'age' as the condition.\n",
    "condition = 'Age'\n",
    "filter_column = 'has_' + condition.lower()\n",
    "\n",
    "condition_best_cohort, condition_ranked_df = filter_and_rank_cohorts(JSON_PATH, filter_column)\n",
    "condition_best_cohort"
   ]
  },
  {
   "cell_type": "code",
   "execution_count": null,
   "metadata": {
    "ExecuteTime": {
     "end_time": "2024-01-10T21:40:21.120075804Z",
     "start_time": "2024-01-10T21:40:21.109376558Z"
    },
    "collapsed": false
   },
   "outputs": [
    {
     "data": {
      "text/html": [
       "<div>\n",
       "<style scoped>\n",
       "    .dataframe tbody tr th:only-of-type {\n",
       "        vertical-align: middle;\n",
       "    }\n",
       "\n",
       "    .dataframe tbody tr th {\n",
       "        vertical-align: top;\n",
       "    }\n",
       "\n",
       "    .dataframe thead th {\n",
       "        text-align: right;\n",
       "    }\n",
       "</style>\n",
       "<table border=\"1\" class=\"dataframe\">\n",
       "  <thead>\n",
       "    <tr style=\"text-align: right;\">\n",
       "      <th></th>\n",
       "      <th>cohort_id</th>\n",
       "      <th>is_usable</th>\n",
       "      <th>is_available</th>\n",
       "      <th>is_biased</th>\n",
       "      <th>has_age</th>\n",
       "      <th>has_gender</th>\n",
       "      <th>sample_size</th>\n",
       "      <th>note</th>\n",
       "    </tr>\n",
       "  </thead>\n",
       "  <tbody>\n",
       "    <tr>\n",
       "      <th>0</th>\n",
       "      <td>Xena</td>\n",
       "      <td>True</td>\n",
       "      <td>True</td>\n",
       "      <td>False</td>\n",
       "      <td>True</td>\n",
       "      <td>True</td>\n",
       "      <td>320</td>\n",
       "      <td></td>\n",
       "    </tr>\n",
       "  </tbody>\n",
       "</table>\n",
       "</div>"
      ],
      "text/plain": [
       "  cohort_id  is_usable  is_available  is_biased  has_age  has_gender  \\\n",
       "0      Xena       True          True      False     True        True   \n",
       "\n",
       "   sample_size note  \n",
       "0          320       "
      ]
     },
     "execution_count": 96,
     "metadata": {},
     "output_type": "execute_result"
    }
   ],
   "source": [
    "condition_ranked_df.head()"
   ]
  },
  {
   "cell_type": "code",
   "execution_count": null,
   "metadata": {
    "ExecuteTime": {
     "end_time": "2024-01-10T21:40:27.295070023Z",
     "start_time": "2024-01-10T21:40:21.338515691Z"
    },
    "collapsed": false
   },
   "outputs": [
    {
     "data": {
      "text/html": [
       "<div>\n",
       "<style scoped>\n",
       "    .dataframe tbody tr th:only-of-type {\n",
       "        vertical-align: middle;\n",
       "    }\n",
       "\n",
       "    .dataframe tbody tr th {\n",
       "        vertical-align: top;\n",
       "    }\n",
       "\n",
       "    .dataframe thead th {\n",
       "        text-align: right;\n",
       "    }\n",
       "</style>\n",
       "<table border=\"1\" class=\"dataframe\">\n",
       "  <thead>\n",
       "    <tr style=\"text-align: right;\">\n",
       "      <th></th>\n",
       "      <th>Kidney Papillary Cell Carcinoma</th>\n",
       "      <th>Age</th>\n",
       "      <th>Gender</th>\n",
       "      <th>ARHGEF10L</th>\n",
       "      <th>HIF3A</th>\n",
       "      <th>RNF17</th>\n",
       "      <th>RNF10</th>\n",
       "      <th>RNF11</th>\n",
       "      <th>RNF13</th>\n",
       "      <th>GTF2IP1</th>\n",
       "      <th>...</th>\n",
       "      <th>SLC7A10</th>\n",
       "      <th>PLA2G2C</th>\n",
       "      <th>TULP2</th>\n",
       "      <th>NPY5R</th>\n",
       "      <th>GNGT2</th>\n",
       "      <th>GNGT1</th>\n",
       "      <th>TULP3</th>\n",
       "      <th>BCL6B</th>\n",
       "      <th>GSTK1</th>\n",
       "      <th>SELP</th>\n",
       "    </tr>\n",
       "  </thead>\n",
       "  <tbody>\n",
       "    <tr>\n",
       "      <th>0</th>\n",
       "      <td>1</td>\n",
       "      <td>53.0</td>\n",
       "      <td>1</td>\n",
       "      <td>0.895608</td>\n",
       "      <td>-2.059826</td>\n",
       "      <td>-0.531035</td>\n",
       "      <td>0.126528</td>\n",
       "      <td>-0.345878</td>\n",
       "      <td>1.12319</td>\n",
       "      <td>0.509706</td>\n",
       "      <td>...</td>\n",
       "      <td>-2.090786</td>\n",
       "      <td>0.932918</td>\n",
       "      <td>-0.150778</td>\n",
       "      <td>0.613183</td>\n",
       "      <td>2.243367</td>\n",
       "      <td>1.33611</td>\n",
       "      <td>0.226223</td>\n",
       "      <td>-1.415027</td>\n",
       "      <td>1.572405</td>\n",
       "      <td>0.879267</td>\n",
       "    </tr>\n",
       "    <tr>\n",
       "      <th>1</th>\n",
       "      <td>1</td>\n",
       "      <td>71.0</td>\n",
       "      <td>1</td>\n",
       "      <td>0.899708</td>\n",
       "      <td>-2.980426</td>\n",
       "      <td>0.049665</td>\n",
       "      <td>0.552628</td>\n",
       "      <td>-0.381678</td>\n",
       "      <td>0.17029</td>\n",
       "      <td>1.180806</td>\n",
       "      <td>...</td>\n",
       "      <td>-2.090786</td>\n",
       "      <td>-0.086682</td>\n",
       "      <td>0.565422</td>\n",
       "      <td>2.307883</td>\n",
       "      <td>0.294467</td>\n",
       "      <td>-1.28139</td>\n",
       "      <td>0.637223</td>\n",
       "      <td>-2.017627</td>\n",
       "      <td>2.026605</td>\n",
       "      <td>-0.408633</td>\n",
       "    </tr>\n",
       "    <tr>\n",
       "      <th>2</th>\n",
       "      <td>1</td>\n",
       "      <td>71.0</td>\n",
       "      <td>0</td>\n",
       "      <td>0.552108</td>\n",
       "      <td>-2.707826</td>\n",
       "      <td>-0.531035</td>\n",
       "      <td>0.473928</td>\n",
       "      <td>-0.255978</td>\n",
       "      <td>0.14389</td>\n",
       "      <td>-0.407894</td>\n",
       "      <td>...</td>\n",
       "      <td>2.040714</td>\n",
       "      <td>-0.086682</td>\n",
       "      <td>-0.748878</td>\n",
       "      <td>0.650683</td>\n",
       "      <td>-0.094533</td>\n",
       "      <td>-1.28139</td>\n",
       "      <td>-0.826577</td>\n",
       "      <td>-1.702427</td>\n",
       "      <td>1.751805</td>\n",
       "      <td>-0.769733</td>\n",
       "    </tr>\n",
       "    <tr>\n",
       "      <th>3</th>\n",
       "      <td>1</td>\n",
       "      <td>67.0</td>\n",
       "      <td>1</td>\n",
       "      <td>0.867508</td>\n",
       "      <td>-4.064326</td>\n",
       "      <td>-0.531035</td>\n",
       "      <td>-0.493572</td>\n",
       "      <td>-0.203878</td>\n",
       "      <td>0.83559</td>\n",
       "      <td>1.648106</td>\n",
       "      <td>...</td>\n",
       "      <td>-2.090786</td>\n",
       "      <td>-0.086682</td>\n",
       "      <td>-0.303278</td>\n",
       "      <td>-1.587117</td>\n",
       "      <td>-2.384733</td>\n",
       "      <td>2.91811</td>\n",
       "      <td>0.174223</td>\n",
       "      <td>-2.745727</td>\n",
       "      <td>2.166005</td>\n",
       "      <td>-2.483133</td>\n",
       "    </tr>\n",
       "    <tr>\n",
       "      <th>4</th>\n",
       "      <td>1</td>\n",
       "      <td>80.0</td>\n",
       "      <td>1</td>\n",
       "      <td>0.783608</td>\n",
       "      <td>-1.563626</td>\n",
       "      <td>0.829965</td>\n",
       "      <td>0.357528</td>\n",
       "      <td>-0.711678</td>\n",
       "      <td>0.34799</td>\n",
       "      <td>0.500906</td>\n",
       "      <td>...</td>\n",
       "      <td>-2.090786</td>\n",
       "      <td>-0.086682</td>\n",
       "      <td>-0.748878</td>\n",
       "      <td>1.423483</td>\n",
       "      <td>1.622367</td>\n",
       "      <td>0.46401</td>\n",
       "      <td>0.503323</td>\n",
       "      <td>-1.287227</td>\n",
       "      <td>1.909005</td>\n",
       "      <td>0.152467</td>\n",
       "    </tr>\n",
       "  </tbody>\n",
       "</table>\n",
       "<p>5 rows × 17342 columns</p>\n",
       "</div>"
      ],
      "text/plain": [
       "   Kidney Papillary Cell Carcinoma   Age  Gender  ARHGEF10L     HIF3A  \\\n",
       "0                                1  53.0       1   0.895608 -2.059826   \n",
       "1                                1  71.0       1   0.899708 -2.980426   \n",
       "2                                1  71.0       0   0.552108 -2.707826   \n",
       "3                                1  67.0       1   0.867508 -4.064326   \n",
       "4                                1  80.0       1   0.783608 -1.563626   \n",
       "\n",
       "      RNF17     RNF10     RNF11    RNF13   GTF2IP1  ...   SLC7A10   PLA2G2C  \\\n",
       "0 -0.531035  0.126528 -0.345878  1.12319  0.509706  ... -2.090786  0.932918   \n",
       "1  0.049665  0.552628 -0.381678  0.17029  1.180806  ... -2.090786 -0.086682   \n",
       "2 -0.531035  0.473928 -0.255978  0.14389 -0.407894  ...  2.040714 -0.086682   \n",
       "3 -0.531035 -0.493572 -0.203878  0.83559  1.648106  ... -2.090786 -0.086682   \n",
       "4  0.829965  0.357528 -0.711678  0.34799  0.500906  ... -2.090786 -0.086682   \n",
       "\n",
       "      TULP2     NPY5R     GNGT2    GNGT1     TULP3     BCL6B     GSTK1  \\\n",
       "0 -0.150778  0.613183  2.243367  1.33611  0.226223 -1.415027  1.572405   \n",
       "1  0.565422  2.307883  0.294467 -1.28139  0.637223 -2.017627  2.026605   \n",
       "2 -0.748878  0.650683 -0.094533 -1.28139 -0.826577 -1.702427  1.751805   \n",
       "3 -0.303278 -1.587117 -2.384733  2.91811  0.174223 -2.745727  2.166005   \n",
       "4 -0.748878  1.423483  1.622367  0.46401  0.503323 -1.287227  1.909005   \n",
       "\n",
       "       SELP  \n",
       "0  0.879267  \n",
       "1 -0.408633  \n",
       "2 -0.769733  \n",
       "3 -2.483133  \n",
       "4  0.152467  \n",
       "\n",
       "[5 rows x 17342 columns]"
      ]
     },
     "execution_count": 97,
     "metadata": {},
     "output_type": "execute_result"
    }
   ],
   "source": [
    "merged_data = pd.read_csv(os.path.join(OUTPUT_DIR, condition_best_cohort + '.csv'))\n",
    "merged_data.head()"
   ]
  },
  {
   "cell_type": "code",
   "execution_count": null,
   "metadata": {
    "ExecuteTime": {
     "end_time": "2024-01-10T21:40:27.358779256Z",
     "start_time": "2024-01-10T21:40:27.271337819Z"
    },
    "collapsed": false
   },
   "outputs": [],
   "source": [
    "# Remove the other condition to prevent interference.\n",
    "merged_data = merged_data.drop(columns=['Gender'], errors='ignore').astype('float')\n",
    "\n",
    "X = merged_data.drop(columns=[TRAIT, condition]).values\n",
    "Y = merged_data[TRAIT].values\n",
    "Z = merged_data[condition].values"
   ]
  },
  {
   "cell_type": "markdown",
   "metadata": {
    "collapsed": false
   },
   "source": [
    "Select the appropriate regression model depending on whether the dataset shows batch effect."
   ]
  },
  {
   "cell_type": "code",
   "execution_count": null,
   "metadata": {},
   "outputs": [],
   "source": [
    "def detect_batch_effect(X):\n",
    "    \"\"\"\n",
    "    Detect potential batch effects in a dataset using eigenvalues of XX^T.\n",
    "\n",
    "    Args:\n",
    "    X (numpy.ndarray): A feature matrix with shape (n_samples, n_features).\n",
    "\n",
    "    Returns:\n",
    "    bool: True if a potential batch effect is detected, False otherwise.\n",
    "    \"\"\"\n",
    "    n_samples = X.shape[0]\n",
    "\n",
    "    # Computing XX^T\n",
    "    XXt = np.dot(X, X.T)\n",
    "\n",
    "    # Compute the eigenvalues of XX^T\n",
    "    eigen_values = np.linalg.eigvalsh(XXt)  # Using eigvalsh since XX^T is symmetric\n",
    "    eigen_values = sorted(eigen_values, reverse=True)\n",
    "\n",
    "    # Check for large gaps in the eigenvalues\n",
    "    for i in range(len(eigen_values) - 1):\n",
    "        gap = eigen_values[i] - eigen_values[i + 1]\n",
    "        if gap > 1 / n_samples:  # You may need to adjust this threshold\n",
    "            return True\n",
    "\n",
    "    return False"
   ]
  },
  {
   "cell_type": "code",
   "execution_count": null,
   "metadata": {
    "ExecuteTime": {
     "end_time": "2024-01-10T21:40:27.546590575Z",
     "start_time": "2024-01-10T21:40:27.298495045Z"
    },
    "collapsed": false
   },
   "outputs": [
    {
     "data": {
      "text/plain": [
       "True"
      ]
     },
     "execution_count": 100,
     "metadata": {},
     "output_type": "execute_result"
    }
   ],
   "source": [
    "import numpy as np\n",
    "has_batch_effect = detect_batch_effect(X)\n",
    "has_batch_effect"
   ]
  },
  {
   "cell_type": "code",
   "execution_count": null,
   "metadata": {},
   "outputs": [],
   "source": [
    "from sparse_lmm import VariableSelection\n"
   ]
  },
  {
   "cell_type": "code",
   "execution_count": null,
   "metadata": {
    "ExecuteTime": {
     "end_time": "2024-01-10T21:40:27.546733889Z",
     "start_time": "2024-01-10T21:40:27.535249532Z"
    },
    "collapsed": false
   },
   "outputs": [],
   "source": [
    "# Select appropriate models based on whether the dataset has batch effect.\n",
    "# We experiment on two models for each branch. We will decide which one to choose later.\n",
    "\n",
    "if has_batch_effect:\n",
    "    model_constructor1 = VariableSelection\n",
    "    model_params1 = {'modified': True, 'lamda': 3e-4}\n",
    "    model_constructor2 = VariableSelection\n",
    "    model_params2 = {'modified': False}\n",
    "else:\n",
    "    model_constructor1 = Lasso\n",
    "    model_params1 = {'alpha': 1.0, 'random_state': 42}\n",
    "    model_constructor2 = VariableSelection\n",
    "    model_params2 = {'modified': False}"
   ]
  },
  {
   "cell_type": "code",
   "execution_count": null,
   "metadata": {},
   "outputs": [],
   "source": [
    "def cross_validation(X, Y, Z, model_constructor, model_params, k=5, target_type='binary'):\n",
    "    assert target_type in ['binary', 'continuous'], \"The target type must be chosen from 'binary' or 'continuous'\"\n",
    "    indices = np.arange(X.shape[0])\n",
    "    np.random.shuffle(indices)\n",
    "\n",
    "    fold_size = len(X) // k\n",
    "    performances = []\n",
    "\n",
    "    for i in range(k):\n",
    "        # Split data into train and test based on the current fold\n",
    "        test_indices = indices[i * fold_size: (i + 1) * fold_size]\n",
    "        train_indices = np.setdiff1d(indices, test_indices)\n",
    "\n",
    "        X_train, X_test = X[train_indices], X[test_indices]\n",
    "        Y_train, Y_test = Y[train_indices], Y[test_indices]\n",
    "        Z_train, Z_test = Z[train_indices], Z[test_indices]\n",
    "\n",
    "        normalized_X_train, normalized_X_test = normalize_data(X_train, X_test)\n",
    "        normalized_Z_train, normalized_Z_test = normalize_data(Z_train, Z_test)\n",
    "\n",
    "        # model = model_constructor(**model_params)\n",
    "        model = ResidualizationRegressor(model_constructor, model_params)\n",
    "        model.fit(normalized_X_train, Y_train, normalized_Z_train)\n",
    "        predictions = model.predict(normalized_X_test, normalized_Z_test)\n",
    "\n",
    "        if target_type == 'binary':\n",
    "            predictions = (predictions > 0.5).astype(int)\n",
    "            Y_test = (Y_test > 0.5).astype(int)\n",
    "            performance = accuracy_score(Y_test, predictions)\n",
    "        elif target_type == 'continuous':\n",
    "            performance = mean_squared_error(Y_test, predictions)\n",
    "\n",
    "        performances.append(performance)\n",
    "\n",
    "    cv_mean = np.mean(performances)\n",
    "    cv_std = np.std(performances)\n",
    "\n",
    "    if target_type == 'binary':\n",
    "        print(f'The cross-validation accuracy is {(cv_mean * 100):.2f}% ± {(cv_std * 100):.2f}%')\n",
    "    else:\n",
    "        print(f'The cross-validation MSE is {(cv_mean * 100):.2f} ± {(cv_std * 100):.2f}')\n",
    "\n",
    "    return cv_mean, cv_std"
   ]
  },
  {
   "cell_type": "code",
   "execution_count": null,
   "metadata": {},
   "outputs": [],
   "source": [
    "def normalize_data(X_train, X_test=None):\n",
    "    \"\"\"Compute the mean and standard deviation statistics of the training data, use them to normalize the training data,\n",
    "    and optionally the test data\"\"\"\n",
    "    mean = np.mean(X_train, axis=0)\n",
    "    std = np.std(X_train, axis=0)\n",
    "\n",
    "    # Handling columns with std = 0\n",
    "    std_no_zero = np.where(std == 0, 1, std)\n",
    "\n",
    "    # Normalize X_train\n",
    "    X_train_normalized = (X_train - mean) / std_no_zero\n",
    "    # Set normalized values to 0 where std was 0\n",
    "    X_train_normalized[:, std == 0] = 0\n",
    "\n",
    "    if X_test is not None:\n",
    "        X_test_normalized = (X_test - mean) / std_no_zero\n",
    "        X_test_normalized[:, std == 0] = 0\n",
    "    else:\n",
    "        X_test_normalized = None\n",
    "\n",
    "    return X_train_normalized, X_test_normalized"
   ]
  },
  {
   "cell_type": "code",
   "execution_count": null,
   "metadata": {},
   "outputs": [],
   "source": [
    "class ResidualizationRegressor:\n",
    "    def __init__(self, regression_model_constructor, params=None):\n",
    "        if params is None:\n",
    "            params = {}\n",
    "        self.regression_model = regression_model_constructor(**params)\n",
    "        self.beta_Z = None  # Coefficients for regression of Y on Z\n",
    "        self.beta_X = None  # Coefficients for regression of residual on X\n",
    "        self.neg_log_p_values = None  # Negative logarithm of p-values\n",
    "        self.p_values = None  # Actual p-values\n",
    "\n",
    "    def _reshape_data(self, data):\n",
    "        \"\"\"\n",
    "        Reshape the data to ensure it's in the correct format (2D array).\n",
    "\n",
    "        :param data: The input data (can be 1D or 2D array).\n",
    "        :return: Reshaped 2D array.\n",
    "        \"\"\"\n",
    "        if data.ndim == 1:\n",
    "            return data.reshape(-1, 1)\n",
    "        return data\n",
    "\n",
    "    def _reshape_output(self, data):\n",
    "        \"\"\"\n",
    "        Reshape the output data to ensure it's in the correct format (1D array).\n",
    "\n",
    "        :param data: The output data (can be 1D or 2D array).\n",
    "        :return: Reshaped 1D array.\n",
    "        \"\"\"\n",
    "        if data.ndim == 2 and data.shape[1] == 1:\n",
    "            return data.ravel()\n",
    "        return data\n",
    "    \n",
    "    def fit(self, X, Y, Z):\n",
    "        X = self._reshape_data(X)\n",
    "        Y = self._reshape_data(Y)\n",
    "        Z = self._reshape_data(Z)\n",
    "\n",
    "        # Step 1: Linear regression of Y on Z\n",
    "        Z_ones = np.column_stack((np.ones(Z.shape[0]), Z))\n",
    "        self.beta_Z = np.linalg.pinv(Z_ones.T @ Z_ones) @ Z_ones.T @ Y\n",
    "        Y_hat = Z_ones @ self.beta_Z\n",
    "        e_Y = Y - Y_hat  # Residual of Y\n",
    "\n",
    "        # Step 2: Regress the residual on X using the included regression model\n",
    "        self.regression_model.fit(X, e_Y)\n",
    "\n",
    "        # Obtain coefficients from the regression model\n",
    "        if hasattr(self.regression_model, 'coef_'):\n",
    "            self.beta_X = self.regression_model.coef_\n",
    "        elif hasattr(self.regression_model, 'getBeta'):\n",
    "            beta_output = self.regression_model.getBeta()\n",
    "            self.beta_X = self._reshape_output(beta_output)\n",
    "\n",
    "        # Obtain negative logarithm of p-values, if available\n",
    "        if hasattr(self.regression_model, 'getNegLogP'):\n",
    "            neg_log_p_output = self.regression_model.getNegLogP()\n",
    "            if neg_log_p_output is not None:\n",
    "                self.neg_log_p_values = self._reshape_output(neg_log_p_output)\n",
    "                self.p_values = np.exp(-self.neg_log_p_values)\n",
    "                # Concatenate the p-values of Z and X. The p-values of Z were not computed, mark with NaN.\n",
    "                p_values_Z = np.full(Z.shape[1], np.nan)\n",
    "                self.p_values = np.concatenate((p_values_Z, self.p_values))\n",
    "    def predict(self, X, Z):\n",
    "        X = self._reshape_data(X)\n",
    "        Z = self._reshape_data(Z)\n",
    "\n",
    "        Z_ones = np.column_stack((np.ones(Z.shape[0]), Z))\n",
    "        ZX = np.column_stack((Z, X))\n",
    "        combined_beta = np.concatenate((self.beta_Z[1:].ravel(), self.beta_X.ravel()))\n",
    "        return ZX @ combined_beta + self.beta_Z[0]\n",
    "\n",
    "    def get_coefficients(self):\n",
    "        return np.concatenate((self.beta_Z[1:].ravel(), self.beta_X.ravel()))\n",
    "\n",
    "    def get_p_values(self):\n",
    "        return self.p_values\n"
   ]
  },
  {
   "cell_type": "code",
   "execution_count": null,
   "metadata": {},
   "outputs": [],
   "source": [
    "from sklearn.metrics import accuracy_score, mean_squared_error\n"
   ]
  },
  {
   "cell_type": "code",
   "execution_count": null,
   "metadata": {
    "ExecuteTime": {
     "end_time": "2024-01-10T21:40:30.570471636Z",
     "start_time": "2024-01-10T21:40:27.546295159Z"
    },
    "collapsed": false
   },
   "outputs": [
    {
     "name": "stdout",
     "output_type": "stream",
     "text": [
      "alpha for Lasso: 0.0003\n",
      "alpha for Lasso: 0.0003\n",
      "alpha for Lasso: 0.0003\n",
      "alpha for Lasso: 0.0003\n",
      "alpha for Lasso: 0.0003\n",
      "The cross-validation accuracy is 50.62% ± 6.30%\n"
     ]
    }
   ],
   "source": [
    "trait_type = 'binary'  # Remember to set this properly, either 'binary' or 'continuous'\n",
    "cv_mean1, cv_std1 = cross_validation(X, Y, Z, model_constructor1, model_params1, target_type=trait_type)"
   ]
  },
  {
   "cell_type": "code",
   "execution_count": null,
   "metadata": {
    "ExecuteTime": {
     "end_time": "2024-01-10T21:40:47.575878022Z",
     "start_time": "2024-01-10T21:40:30.570907992Z"
    },
    "collapsed": false
   },
   "outputs": [
    {
     "name": "stderr",
     "output_type": "stream",
     "text": [
      "/Library/Frameworks/Python.framework/Versions/3.10/lib/python3.10/site-packages/sparse_lmm/helpingMethods.py:49: RuntimeWarning: invalid value encountered in divide\n",
      "  ts = beta / np.sqrt(var * sigma)\n",
      "/Library/Frameworks/Python.framework/Versions/3.10/lib/python3.10/site-packages/sparse_lmm/helpingMethods.py:49: RuntimeWarning: invalid value encountered in divide\n",
      "  ts = beta / np.sqrt(var * sigma)\n",
      "/Library/Frameworks/Python.framework/Versions/3.10/lib/python3.10/site-packages/sparse_lmm/helpingMethods.py:49: RuntimeWarning: invalid value encountered in divide\n",
      "  ts = beta / np.sqrt(var * sigma)\n",
      "/Library/Frameworks/Python.framework/Versions/3.10/lib/python3.10/site-packages/sparse_lmm/helpingMethods.py:49: RuntimeWarning: invalid value encountered in divide\n",
      "  ts = beta / np.sqrt(var * sigma)\n",
      "/Library/Frameworks/Python.framework/Versions/3.10/lib/python3.10/site-packages/sparse_lmm/helpingMethods.py:49: RuntimeWarning: invalid value encountered in divide\n",
      "  ts = beta / np.sqrt(var * sigma)\n"
     ]
    },
    {
     "name": "stdout",
     "output_type": "stream",
     "text": [
      "The cross-validation accuracy is 93.75% ± 1.71%\n"
     ]
    }
   ],
   "source": [
    "cv_mean2, cv_std2 = cross_validation(X, Y, Z, model_constructor2, model_params2, target_type=trait_type)"
   ]
  },
  {
   "cell_type": "code",
   "execution_count": null,
   "metadata": {
    "ExecuteTime": {
     "end_time": "2024-01-10T21:40:51.663737008Z",
     "start_time": "2024-01-10T21:40:47.576021186Z"
    },
    "collapsed": false
   },
   "outputs": [
    {
     "name": "stdout",
     "output_type": "stream",
     "text": [
      "alpha for Lasso: 0.0003\n"
     ]
    },
    {
     "name": "stderr",
     "output_type": "stream",
     "text": [
      "/Library/Frameworks/Python.framework/Versions/3.10/lib/python3.10/site-packages/sparse_lmm/helpingMethods.py:49: RuntimeWarning: invalid value encountered in divide\n",
      "  ts = beta / np.sqrt(var * sigma)\n"
     ]
    }
   ],
   "source": [
    "normalized_X, _ = normalize_data(X)\n",
    "normalized_Z, _ = normalize_data(Z)\n",
    "\n",
    "# Train regression model on the whole dataset to identify significant genes\n",
    "model1 = ResidualizationRegressor(model_constructor1, model_params1)\n",
    "model1.fit(normalized_X, Y, normalized_Z)\n",
    "\n",
    "model2 = ResidualizationRegressor(model_constructor2, model_params2)\n",
    "model2.fit(normalized_X, Y, normalized_Z)"
   ]
  },
  {
   "cell_type": "markdown",
   "metadata": {
    "ExecuteTime": {
     "end_time": "2023-10-14T04:50:59.072075075Z",
     "start_time": "2023-10-14T04:50:38.739499998Z"
    },
    "id": "EjJrxbvb4nlj"
   },
   "source": [
    "### 4. Discussion and report"
   ]
  },
  {
   "cell_type": "code",
   "execution_count": null,
   "metadata": {},
   "outputs": [],
   "source": [
    "def interpret_result(model: Any, feature_names: List[str], trait: str, condition: str,\n",
    "                     threshold: float = 0.05, save_output: bool = True,\n",
    "                     output_dir: str = './output', model_id: int = 1) -> None:\n",
    "    \"\"\"This function interprets and reports the result of a trained linear regression model, where the regressor\n",
    "    consists of one variable about condition and multiple variables about genetic factors.\n",
    "    The function extracts coefficients and p-values from the model, and identifies the significant genes based on\n",
    "    p-values or non-zero coefficients, depending on the availability of p-values.\n",
    "\n",
    "    Parameters:\n",
    "    model (Any): The trained regression Model.\n",
    "    feature_names (List[str]): A list of feature names corresponding to the model's coefficients.\n",
    "    trait (str): The target trait of interest.\n",
    "    condition (str): The specific condition to examine within the model.\n",
    "    threshold (float): Significance level for p-value correction. Defaults to 0.05.\n",
    "    save_output (bool): Flag to determine whether to save the output to a file. Defaults to True.\n",
    "    output_dir (str): Directory path where output files are saved. Defaults to './output'.\n",
    "    model_id (int): The index of the model, 1 or 2.\n",
    "\n",
    "    Returns:\n",
    "    None: This function does not return anything but prints and optionally saves the output.\n",
    "    \"\"\"\n",
    "    coefficients = model.get_coefficients().reshape(-1).tolist()\n",
    "    p_values = model.get_p_values()\n",
    "    if p_values is None:\n",
    "        regression_df = pd.DataFrame({\n",
    "            'Variable': feature_names,\n",
    "            'Coefficient': coefficients\n",
    "        })\n",
    "    else:\n",
    "        regression_df = pd.DataFrame({\n",
    "            'Variable': feature_names,\n",
    "            'Coefficient': coefficients,\n",
    "            'p_value': p_values.reshape(-1).tolist()\n",
    "        })\n",
    "    condition_effect = regression_df[regression_df['Variable'] == condition].iloc[0]\n",
    "\n",
    "    print(f\"Effect of the condition on the target variable:\")\n",
    "    print(f\"Variable: {condition}\")\n",
    "    print(f\"Coefficient: {condition_effect['Coefficient']:.4f}\")\n",
    "    gene_regression_df = regression_df[regression_df['Variable'] != condition]\n",
    "    if p_values is None:\n",
    "        gene_regression_df['Absolute Coefficient'] = gene_regression_df['Coefficient'].abs()\n",
    "        significant_genes = gene_regression_df[gene_regression_df['Coefficient'] != 0]\n",
    "        significant_genes_sorted = significant_genes.sort_values(by='Absolute Coefficient', ascending=False)\n",
    "        print(\n",
    "            f\"Found {len(significant_genes_sorted)} genes with non-zero coefficients associated with the trait '{trait}' \"\n",
    "            f\"conditional on the factor '{condition}'. These genes are identified as significant based on the regression model.\")\n",
    "    else:\n",
    "        # Apply the Benjamini-Hochberg correction, to get the corrected p-values\n",
    "        corrected_p_values = multipletests(gene_regression_df['p_value'], alpha=threshold, method='fdr_bh')[1]\n",
    "        gene_regression_df.loc[:, 'corrected_p_value'] = corrected_p_values\n",
    "        significant_genes = gene_regression_df.loc[gene_regression_df['corrected_p_value'] < threshold]\n",
    "        significant_genes_sorted = significant_genes.sort_values('corrected_p_value')\n",
    "        print(\n",
    "            f\"Found {len(significant_genes_sorted)} significant genes associated with the trait '{trait}' conditional on \"\n",
    "            f\"the factor '{condition}', with corrected p-value < {threshold}:\")\n",
    "\n",
    "    print(significant_genes_sorted.to_string(index=False))\n",
    "\n",
    "    # Optionally, save this to a CSV file\n",
    "    if save_output:\n",
    "        significant_genes_sorted.to_csv(\n",
    "            os.path.join(output_dir, f'significant_genes_condition_{condition}_{model_id}.csv'), index=False)"
   ]
  },
  {
   "cell_type": "code",
   "execution_count": null,
   "metadata": {
    "ExecuteTime": {
     "end_time": "2024-01-10T21:40:51.673565176Z",
     "start_time": "2024-01-10T21:40:51.665291317Z"
    },
    "collapsed": false
   },
   "outputs": [
    {
     "name": "stdout",
     "output_type": "stream",
     "text": [
      "Effect of the condition on the target variable:\n",
      "Variable: Age\n",
      "Coefficient: -0.0037\n",
      "Found 90 genes with non-zero coefficients associated with the trait 'Kidney Papillary Cell Carcinoma' conditional on the factor 'Age'. These genes are identified as significant based on the regression model.\n",
      " Variable  Coefficient  Absolute Coefficient\n",
      "     GAD2     2.675025              2.675025\n",
      "     TSHR     2.231497              2.231497\n",
      "    OR2H1    -2.160379              2.160379\n",
      "     CHRD     1.936760              1.936760\n",
      "  SNORA70     1.636720              1.636720\n",
      " SNORA59B     1.495033              1.495033\n",
      "    MORC1     1.468713              1.468713\n",
      "LOC284788     1.396849              1.396849\n",
      "     MYL2     1.364502              1.364502\n",
      "   OR7E5P     1.314911              1.314911\n",
      "  MRGPRX2     1.095170              1.095170\n",
      "   DHRS7C    -1.085291              1.085291\n",
      "     NPPB     1.044539              1.044539\n",
      "  TMEM41A     1.032128              1.032128\n",
      "  PPIAL4E    -1.006413              1.006413\n",
      "   OR11H6    -0.988156              0.988156\n",
      "     RETN     0.980648              0.980648\n",
      "    CENPV    -0.924012              0.924012\n",
      "   NKX3-1    -0.923061              0.923061\n",
      "  SCGB3A2    -0.892277              0.892277\n",
      "     MC4R     0.849261              0.849261\n",
      "     ERN2     0.812928              0.812928\n",
      "    DCST1     0.806459              0.806459\n",
      "    RPS27     0.795688              0.795688\n",
      "   IFNA13     0.753470              0.753470\n",
      "    ATRIP    -0.753108              0.753108\n",
      "    INSM2    -0.736226              0.736226\n",
      "    HOXA7    -0.728575              0.728575\n",
      "   FAM83E    -0.717539              0.717539\n",
      " C11orf40     0.707092              0.707092\n",
      "  GUCY1B2    -0.661760              0.661760\n",
      "  WBP11P1     0.656208              0.656208\n",
      "     GAST    -0.644421              0.644421\n",
      "   GPR156    -0.607563              0.607563\n",
      "   DPYSL4     0.588226              0.588226\n",
      "    GSDMA    -0.587096              0.587096\n",
      "   OR4F29    -0.586385              0.586385\n",
      "     SOX3     0.559176              0.559176\n",
      "   B3GAT1     0.548658              0.548658\n",
      "    GPR37     0.542790              0.542790\n",
      "  SNORA29     0.508086              0.508086\n",
      " SNORA36B    -0.449448              0.449448\n",
      "    OVCH1    -0.447435              0.447435\n",
      "    GSTO2    -0.445534              0.445534\n",
      "  MRGPRX4     0.430136              0.430136\n",
      "   HGC6.3    -0.411848              0.411848\n",
      "     NT5E     0.406845              0.406845\n",
      "  RANBP17     0.393604              0.393604\n",
      "     DAZ2     0.388893              0.388893\n",
      "    OR4F6    -0.374528              0.374528\n",
      "   OR5AN1     0.358431              0.358431\n",
      "    KCNA6     0.355923              0.355923\n",
      "     SYBU    -0.354014              0.354014\n",
      "    CDH15     0.349688              0.349688\n",
      " TBC1D3P2     0.347185              0.347185\n",
      "   TRIM42     0.345378              0.345378\n",
      "  MAB21L1    -0.340151              0.340151\n",
      " CSNK1A1L    -0.339909              0.339909\n",
      "     SNTN    -0.328051              0.328051\n",
      " SCARNA18    -0.326225              0.326225\n",
      "  NEUROG3     0.318369              0.318369\n",
      " PRAMEF17    -0.309226              0.309226\n",
      "    PYDC2    -0.294132              0.294132\n",
      "   TSGA13    -0.274652              0.274652\n",
      "    CCL27     0.248496              0.248496\n",
      "      STH    -0.244900              0.244900\n",
      "    PTTG2     0.241929              0.241929\n",
      "    UPK3A     0.225651              0.225651\n",
      "  HERC2P4     0.201556              0.201556\n",
      "  HORMAD2    -0.197229              0.197229\n",
      "    PRDM6    -0.193636              0.193636\n",
      "     GYPB    -0.182692              0.182692\n",
      "    CHRND     0.158964              0.158964\n",
      "  FAM170A    -0.153593              0.153593\n",
      "    GALR3     0.153343              0.153343\n",
      "   OR52E8     0.143819              0.143819\n",
      "     FGF8    -0.138648              0.138648\n",
      "  SNORA68     0.129234              0.129234\n",
      "    CLDN6     0.095481              0.095481\n",
      "   SEMA4G     0.092545              0.092545\n",
      "    DKKL1    -0.091264              0.091264\n",
      "   OR2AE1    -0.084156              0.084156\n",
      "   SLFN14    -0.076766              0.076766\n",
      "    GPR83    -0.055815              0.055815\n",
      "     ALX3    -0.055415              0.055415\n",
      "   ACTRT1     0.013203              0.013203\n",
      "     F13B     0.012482              0.012482\n",
      "   TTTY6B    -0.005887              0.005887\n",
      "   NLRP11    -0.002766              0.002766\n",
      "       F9     0.001128              0.001128\n"
     ]
    },
    {
     "name": "stderr",
     "output_type": "stream",
     "text": [
      "/var/folders/hx/qdnjfcxj2kbfy5k46ywrbrz40000gn/T/ipykernel_4404/2152198575.py:42: SettingWithCopyWarning: \n",
      "A value is trying to be set on a copy of a slice from a DataFrame.\n",
      "Try using .loc[row_indexer,col_indexer] = value instead\n",
      "\n",
      "See the caveats in the documentation: https://pandas.pydata.org/pandas-docs/stable/user_guide/indexing.html#returning-a-view-versus-a-copy\n",
      "  gene_regression_df['Absolute Coefficient'] = gene_regression_df['Coefficient'].abs()\n"
     ]
    }
   ],
   "source": [
    "feature_cols = merged_data.columns.tolist()\n",
    "feature_cols.remove(TRAIT)\n",
    "\n",
    "threshold = 0.05\n",
    "interpret_result(model1, feature_cols, TRAIT, condition, threshold=threshold, save_output=True,\n",
    "                 output_dir=OUTPUT_DIR, model_id=1)"
   ]
  },
  {
   "cell_type": "code",
   "execution_count": null,
   "metadata": {},
   "outputs": [],
   "source": [
    "from statsmodels.stats.multitest import multipletests\n"
   ]
  },
  {
   "cell_type": "code",
   "execution_count": null,
   "metadata": {
    "ExecuteTime": {
     "end_time": "2024-01-10T21:40:51.730825913Z",
     "start_time": "2024-01-10T21:40:51.675049728Z"
    },
    "collapsed": false
   },
   "outputs": [
    {
     "name": "stdout",
     "output_type": "stream",
     "text": [
      "Effect of the condition on the target variable:\n",
      "Variable: Age\n",
      "Coefficient: -0.0037\n",
      "Found 128 significant genes associated with the trait 'Kidney Papillary Cell Carcinoma' conditional on the factor 'Age', with corrected p-value < 0.05:\n",
      "Variable  Coefficient      p_value  corrected_p_value\n",
      "   FRMD7    -0.145952 5.225444e-26       9.060398e-22\n",
      "   TRPV5    -0.097127 6.315198e-24       5.474961e-20\n",
      "   INSRR    -0.130892 8.222202e-23       4.752159e-19\n",
      "ATP6V1G3    -0.135128 1.376995e-18       5.968930e-15\n",
      " TMEM207    -0.111532 1.883534e-17       6.531719e-14\n",
      "  SLC4A9    -0.109657 2.003581e-15       5.790014e-12\n",
      "HEPACAM2    -0.108074 3.576631e-14       8.859315e-11\n",
      "   SEMG2    -0.059084 2.095954e-13       4.542717e-10\n",
      " FAM184B    -0.085460 6.844066e-13       1.318547e-09\n",
      "    ELF5    -0.078186 3.046500e-12       5.282326e-09\n",
      "   OXGR1    -0.088583 4.930038e-12       7.771084e-09\n",
      "C10orf71    -0.061142 1.210500e-11       1.749072e-08\n",
      "    HMX2    -0.077829 2.403095e-11       3.205175e-08\n",
      "  NKX6-2    -0.036290 3.058504e-11       3.787957e-08\n",
      "  ATP12A    -0.088406 1.298447e-10       1.500918e-07\n",
      "   PSKH2    -0.054346 3.799731e-10       4.117722e-07\n",
      "  POU3F4    -0.062382 4.703194e-10       4.796981e-07\n",
      "ATP6V1C2    -0.068395 1.131008e-09       1.089475e-06\n",
      "     GP2    -0.070589 1.436012e-08       1.310474e-05\n",
      "    CLNK    -0.063803 3.388499e-08       2.937660e-05\n",
      " SLC26A4    -0.050109 6.788117e-08       5.604722e-05\n",
      "KRTAP5-8    -0.053708 9.128602e-08       7.194583e-05\n",
      "   RALYL    -0.064513 1.015072e-07       7.652318e-05\n",
      "    SOST    -0.068851 2.021596e-07       1.460519e-04\n",
      "   FGF10    -0.031423 2.654279e-07       1.840902e-04\n",
      " PIK3C2G    -0.086409 3.315088e-07       2.210781e-04\n",
      "  CLCNKA    -0.072300 4.227016e-07       2.714527e-04\n",
      "  DNASE1    -0.061136 5.255536e-07       3.154301e-04\n",
      "     AFM    -0.066499 5.275663e-07       3.154301e-04\n",
      "    BSND    -0.089457 5.735195e-07       3.207824e-04\n",
      "    FBN3    -0.061354 5.607720e-07       3.207824e-04\n",
      "    ROS1    -0.053328 6.070146e-07       3.289071e-04\n",
      "   CRYAA    -0.053528 6.977757e-07       3.666283e-04\n",
      "    IL11    -0.036892 7.419823e-07       3.702432e-04\n",
      "  SLC9A4    -0.075849 7.687153e-07       3.702432e-04\n",
      "C11orf16    -0.040212 7.570209e-07       3.702432e-04\n",
      "   OLFM3    -0.049105 8.621018e-07       4.039996e-04\n",
      "   WNT9B    -0.052943 9.240600e-07       4.216388e-04\n",
      " DEFB132    -0.039598 1.182756e-06       5.126951e-04\n",
      "   AGMAT    -0.074331 1.181653e-06       5.126951e-04\n",
      "   CRHBP    -0.061470 1.439112e-06       6.086038e-04\n",
      "    UNCX    -0.061293 1.578036e-06       6.514659e-04\n",
      "   NXPH2    -0.054925 2.153708e-06       8.684453e-04\n",
      "   CALCA    -0.047632 2.272830e-06       8.956499e-04\n",
      " SLC26A7    -0.052339 2.387229e-06       9.198260e-04\n",
      "  SLC4A1    -0.051447 2.704483e-06       1.019414e-03\n",
      "  CPAMD8    -0.049302 2.843733e-06       1.049095e-03\n",
      "  KCNJ10    -0.059416 3.177440e-06       1.147784e-03\n",
      "   PROX1    -0.055572 3.782232e-06       1.338370e-03\n",
      "     CEL    -0.050543 5.271881e-06       1.819395e-03\n",
      "   ESRRB    -0.051284 5.517230e-06       1.819395e-03\n",
      "   MYBPH    -0.036223 5.561333e-06       1.819395e-03\n",
      "   KCNE1    -0.052756 5.505469e-06       1.819395e-03\n",
      "    DDB2     0.056174 5.727484e-06       1.839053e-03\n",
      "   GADL1    -0.045502 6.514231e-06       2.053641e-03\n",
      "  CYP2B6    -0.044205 6.858939e-06       2.123699e-03\n",
      "     DDN    -0.050080 7.121505e-06       2.135230e-03\n",
      " IL13RA2    -0.038739 7.142473e-06       2.135230e-03\n",
      "   CTXN3    -0.040507 7.859755e-06       2.309835e-03\n",
      "    AGXT    -0.052581 8.625732e-06       2.492693e-03\n",
      "   DMRT2    -0.057101 9.784841e-06       2.781301e-03\n",
      "   ASB15    -0.054577 1.067599e-05       2.985661e-03\n",
      "   SIAH3    -0.041820 1.157443e-05       3.185541e-03\n",
      "   TYRP1    -0.043216 1.321882e-05       3.500661e-03\n",
      "   MUC15    -0.062940 1.307663e-05       3.500661e-03\n",
      "    GPC5    -0.053781 1.332508e-05       3.500661e-03\n",
      "  CLDN16    -0.044509 1.580077e-05       4.058400e-03\n",
      "  PHLDA3     0.049052 1.591621e-05       4.058400e-03\n",
      "   PTPRQ    -0.041158 2.054677e-05       5.163194e-03\n",
      " OR7E91P    -0.049900 2.189640e-05       5.301722e-03\n",
      "   CFHR4    -0.023473 2.201534e-05       5.301722e-03\n",
      "   CPNE6    -0.041242 2.185388e-05       5.301722e-03\n",
      "    ANK2    -0.040162 2.311615e-05       5.490561e-03\n",
      "  PTGER1    -0.044383 2.380526e-05       5.577831e-03\n",
      "     CCK    -0.031640 2.686237e-05       6.210221e-03\n",
      "   PRMT8    -0.034758 2.875883e-05       6.561176e-03\n",
      "   APOC1     0.064726 3.058761e-05       6.887774e-03\n",
      "  NCCRP1    -0.040238 3.283054e-05       7.298060e-03\n",
      "     AEN     0.037361 3.571142e-05       7.837980e-03\n",
      "  HS6ST1    -0.054723 3.687949e-05       7.904092e-03\n",
      "    IL19    -0.026442 3.692436e-05       7.904092e-03\n",
      "   ADRB1    -0.035331 3.837070e-05       8.113531e-03\n",
      "     DAO    -0.055017 3.992933e-05       8.341381e-03\n",
      "   GSTA2    -0.043979 4.971349e-05       1.026169e-02\n",
      " ZNF804B    -0.041081 5.067460e-05       1.026264e-02\n",
      "  IGDCC3    -0.036517 5.090186e-05       1.026264e-02\n",
      "   STAT3    -0.050595 5.465510e-05       1.089270e-02\n",
      "  TFAP2B    -0.050867 6.410689e-05       1.255646e-02\n",
      "    GJA3    -0.037417 6.445152e-05       1.255646e-02\n",
      " SPATA18     0.050132 7.466823e-05       1.422717e-02\n",
      "    AQP6    -0.042999 7.439740e-05       1.422717e-02\n",
      "    AMFR    -0.056858 7.733550e-05       1.453191e-02\n",
      "    PKLR    -0.054134 7.794381e-05       1.453191e-02\n",
      "  GPRC6A    -0.048285 8.300849e-05       1.531153e-02\n",
      "     EGF    -0.048108 9.290670e-05       1.695694e-02\n",
      "    LRP2    -0.055471 9.997085e-05       1.750904e-02\n",
      "  ACOT12    -0.042442 9.803125e-05       1.750904e-02\n",
      "  KLHL33    -0.027700 9.973372e-05       1.750904e-02\n",
      "   TPPP2    -0.034572 9.874557e-05       1.750904e-02\n",
      "    IL21    -0.017663 1.160642e-04       1.992511e-02\n",
      "   EDA2R     0.039006 1.155166e-04       1.992511e-02\n",
      "   BNIPL    -0.034126 1.334211e-04       2.268029e-02\n",
      "   CALB1    -0.047120 1.398672e-04       2.354521e-02\n",
      "  CLEC4C    -0.020704 1.443227e-04       2.406164e-02\n",
      "  SPRR2D    -0.024620 1.487045e-04       2.455606e-02\n",
      "     CGA    -0.038055 1.529674e-04       2.502172e-02\n",
      "   HTR3B    -0.030933 1.621617e-04       2.627778e-02\n",
      " TMEM174    -0.047020 1.670292e-04       2.681592e-02\n",
      " SLITRK3    -0.027551 1.711292e-04       2.722211e-02\n",
      "    NAV2    -0.038278 1.938259e-04       3.043354e-02\n",
      "   DUSP9    -0.047348 1.948280e-04       3.043354e-02\n",
      " KBTBD12    -0.033195 1.979417e-04       3.064385e-02\n",
      "  S100A2    -0.039361 2.081557e-04       3.193993e-02\n",
      "     DDC    -0.054351 2.141369e-04       3.256947e-02\n",
      "   LLGL2    -0.041745 2.378095e-04       3.585547e-02\n",
      "    ADH4    -0.025842 2.463432e-04       3.646684e-02\n",
      " GALNTL6     0.026032 2.544834e-04       3.646684e-02\n",
      "  GABRA4    -0.038589 2.533055e-04       3.646684e-02\n",
      "  SLC7A3    -0.022367 2.534637e-04       3.646684e-02\n",
      "     CA8    -0.034082 2.521456e-04       3.646684e-02\n",
      "     HRG    -0.047208 2.505080e-04       3.646684e-02\n",
      "     KHK    -0.058629 2.596510e-04       3.690237e-02\n",
      "    CHP2    -0.038166 2.689863e-04       3.778885e-02\n",
      "   FOXI1    -0.048535 2.702472e-04       3.778885e-02\n",
      "  NT5C1A    -0.036372 2.894739e-04       4.015351e-02\n",
      "    UCN2    -0.027505 2.960607e-04       4.074124e-02\n",
      "   FABP1    -0.039891 3.149600e-04       4.300072e-02\n",
      "   ABCC6    -0.049893 3.175435e-04       4.301474e-02\n"
     ]
    },
    {
     "name": "stderr",
     "output_type": "stream",
     "text": [
      "/var/folders/hx/qdnjfcxj2kbfy5k46ywrbrz40000gn/T/ipykernel_4404/2152198575.py:51: SettingWithCopyWarning: \n",
      "A value is trying to be set on a copy of a slice from a DataFrame.\n",
      "Try using .loc[row_indexer,col_indexer] = value instead\n",
      "\n",
      "See the caveats in the documentation: https://pandas.pydata.org/pandas-docs/stable/user_guide/indexing.html#returning-a-view-versus-a-copy\n",
      "  gene_regression_df.loc[:, 'corrected_p_value'] = corrected_p_values\n"
     ]
    }
   ],
   "source": [
    "interpret_result(model2, feature_cols, TRAIT, condition, threshold=threshold, save_output=True,\n",
    "                 output_dir=OUTPUT_DIR, model_id=2)"
   ]
  },
  {
   "cell_type": "code",
   "execution_count": null,
   "metadata": {
    "collapsed": false
   },
   "outputs": [],
   "source": []
  }
 ],
 "metadata": {
  "colab": {
   "provenance": []
  },
  "kernelspec": {
   "display_name": "Python 3 (ipykernel)",
   "language": "python",
   "name": "python3"
  },
  "language_info": {
   "codemirror_mode": {
    "name": "ipython",
    "version": 3
   },
   "file_extension": ".py",
   "mimetype": "text/x-python",
   "name": "python",
   "nbconvert_exporter": "python",
   "pygments_lexer": "ipython3",
   "version": "3.11.8"
  }
 },
 "nbformat": 4,
 "nbformat_minor": 0
}
