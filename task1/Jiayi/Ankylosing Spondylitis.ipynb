{
 "cells": [
  {
   "cell_type": "markdown",
   "metadata": {
    "collapsed": false
   },
   "source": [
    "# Gold standard curation: Preprocessing and single-step regression"
   ]
  },
  {
   "cell_type": "markdown",
   "metadata": {
    "collapsed": false
   },
   "source": [
    "In this stage of gold standard curation, we will do the data preprocessing, selection, and single-step regression for the 153 traits in our question set. This file shows the reference steps using the trait \"Breast Cancer\" as an example. The workflow consists of the following steps:\n",
    "\n",
    "1. Preprocess all the cohorts related to this trait. Each cohort should be converted to a tabular form and saved to a csv file, with columns being genetic factors, the trait, and age, gender if available;\n",
    "2. If there exists at least one cohort with age or gender information, conduct regression analysis with genetic features together with age or gender as the regressors.\n"
   ]
  },
  {
   "cell_type": "markdown",
   "metadata": {
    "collapsed": false
   },
   "source": [
    "# 1. Basic setup"
   ]
  },
  {
   "cell_type": "code",
   "execution_count": 2,
   "metadata": {
    "ExecuteTime": {
     "end_time": "2024-01-10T21:37:25.927828954Z",
     "start_time": "2024-01-10T21:37:25.311064788Z"
    },
    "collapsed": false
   },
   "outputs": [],
   "source": [
    "import os\n",
    "import sys\n",
    "\n",
    "sys.path.append('..')\n",
    "from utils import *\n",
    "\n",
    "# Set your preferred name\n",
    "USER = \"Mianchen\"\n",
    "# Set the data and output directories\n",
    "DATA_ROOT = '/Users/zhangmianchen/Downloads/DATA'\n",
    "OUTPUT_ROOT = '/Users/zhangmianchen/Downloads/'\n",
    "TRAIT = 'Ankylosing Spondylitis'\n",
    "\n",
    "OUTPUT_DIR = os.path.join(OUTPUT_ROOT, USER, '-'.join(TRAIT.split()))\n",
    "JSON_PATH = os.path.join(OUTPUT_DIR, \"cohort_info.json\")\n",
    "if not os.path.exists(OUTPUT_DIR):\n",
    "    os.makedirs(OUTPUT_DIR, exist_ok=True)\n",
    "\n",
    "# Gene symbol normalization may take 1-2 minutes. You may set it to False for debugging.\n",
    "NORMALIZE_GENE = True"
   ]
  },
  {
   "cell_type": "code",
   "execution_count": null,
   "metadata": {
    "ExecuteTime": {
     "end_time": "2024-01-10T21:37:25.928143012Z",
     "start_time": "2024-01-10T21:37:25.918685567Z"
    },
    "colab": {
     "base_uri": "https://localhost:8080/"
    },
    "id": "jMTdsU43vVg3",
    "outputId": "38886111-f442-44b4-8398-96bf384d7abd"
   },
   "outputs": [],
   "source": [
    "# This cell is only for use on Google Colab. Skip it if you run your code in other environments\n",
    "\n",
    "\"\"\"import os\n",
    "from google.colab import drive\n",
    "\n",
    "drive.mount('/content/drive', force_remount=True)\n",
    "proj_dir = '/content/drive/MyDrive/AI4Science_Public'\n",
    "os.chdir(proj_dir)\"\"\""
   ]
  },
  {
   "cell_type": "markdown",
   "metadata": {
    "collapsed": false
   },
   "source": [
    "# 2. Data preprocessing and selection"
   ]
  },
  {
   "cell_type": "markdown",
   "metadata": {
    "collapsed": false
   },
   "source": [
    "## 2.1. The TCGA Xena dataset"
   ]
  },
  {
   "cell_type": "markdown",
   "metadata": {
    "collapsed": false
   },
   "source": [
    "In TCGA Xena, there is either zero or one cohort related to the trait. We search the names of subdirectories to see if any matches the trait. If a match is found, we directly obtain the file paths."
   ]
  },
  {
   "cell_type": "code",
   "execution_count": null,
   "metadata": {
    "ExecuteTime": {
     "end_time": "2024-01-10T21:37:26.554597756Z",
     "start_time": "2024-01-10T21:37:26.530982646Z"
    },
    "collapsed": false
   },
   "outputs": [],
   "source": [
    "dataset = 'TCGA'\n",
    "dataset_dir = os.path.join(DATA_ROOT, dataset)\n",
    "os.listdir(dataset_dir)[:10]"
   ]
  },
  {
   "cell_type": "markdown",
   "metadata": {
    "collapsed": false
   },
   "source": [
    "If no match is found, jump directly to GEO in Part 2.2"
   ]
  },
  {
   "cell_type": "code",
   "execution_count": null,
   "metadata": {
    "ExecuteTime": {
     "end_time": "2024-01-10T21:37:26.999521704Z",
     "start_time": "2024-01-10T21:37:26.987471072Z"
    },
    "collapsed": false
   },
   "outputs": [],
   "source": [
    "trait_subdir = \"TCGA_Adrenocortical_Cancer_(ACC)\"\n",
    "cohort = 'Xena'\n",
    "# All the cancer traits in Xena are binary\n",
    "trait_type = 'binary'\n",
    "# Once a relevant cohort is found in Xena, we can generally assume the gene and clinical data are available\n",
    "is_available = True\n",
    "\n",
    "clinical_data_file = os.path.join(dataset_dir, trait_subdir, 'TCGA.ACC.sampleMap_ACC_clinicalMatrix')\n",
    "genetic_data_file = os.path.join(dataset_dir, trait_subdir, 'TCGA.ACC.sampleMap_HiSeqV2_PANCAN.gz')"
   ]
  },
  {
   "cell_type": "code",
   "execution_count": null,
   "metadata": {
    "ExecuteTime": {
     "end_time": "2024-01-10T21:37:30.180581225Z",
     "start_time": "2024-01-10T21:37:27.217363685Z"
    },
    "id": "MudwB-_iz7sc"
   },
   "outputs": [],
   "source": [
    "import pandas as pd\n",
    "\n",
    "clinical_data = pd.read_csv(clinical_data_file, sep='\\t', index_col=0)\n",
    "genetic_data = pd.read_csv(genetic_data_file, compression='gzip', sep='\\t', index_col=0)\n",
    "age_col = gender_col = None"
   ]
  },
  {
   "cell_type": "code",
   "execution_count": null,
   "metadata": {},
   "outputs": [],
   "source": [
    "def check_rows_and_columns(dataframe, display=False):\n",
    "    \"\"\"\n",
    "    Get the lists of row names and column names of a dataset, and optionally observe them.\n",
    "    :param dataframe:\n",
    "    :param display:\n",
    "    :return:\n",
    "    \"\"\"\n",
    "    dataframe_rows = dataframe.index.tolist()\n",
    "    if display:\n",
    "        print(f\"The dataset has {len(dataframe_rows)} rows, such as {dataframe_rows[:20]}\")\n",
    "    dataframe_cols = dataframe.columns.tolist()\n",
    "    if display:\n",
    "        print(f\"\\nThe dataset has {len(dataframe_cols)} columns, such as {dataframe_cols[:20]}\")\n",
    "    return dataframe_rows, dataframe_cols"
   ]
  },
  {
   "cell_type": "code",
   "execution_count": null,
   "metadata": {
    "ExecuteTime": {
     "end_time": "2024-01-10T21:37:30.185775284Z",
     "start_time": "2024-01-10T21:37:30.181745846Z"
    },
    "collapsed": false
   },
   "outputs": [],
   "source": [
    "_, clinical_data_cols = check_rows_and_columns(clinical_data)\n",
    "clinical_data_cols[:10]"
   ]
  },
  {
   "cell_type": "markdown",
   "metadata": {
    "ExecuteTime": {
     "end_time": "2023-12-28T20:20:11.841042813Z",
     "start_time": "2023-12-28T20:20:11.834458206Z"
    },
    "collapsed": false
   },
   "source": [
    "Read all the column names in the clinical dataset, to find the columns that record information about age or gender.\n",
    "Reference prompt:"
   ]
  },
  {
   "cell_type": "code",
   "execution_count": null,
   "metadata": {
    "ExecuteTime": {
     "end_time": "2024-01-10T21:37:30.269854441Z",
     "start_time": "2024-01-10T21:37:30.184225525Z"
    },
    "collapsed": false
   },
   "outputs": [],
   "source": [
    "f'''\n",
    "Below is a list of column names from a biomedical dataset. Please examine it and identify the columns that are likely to contain information about patients' age. Additionally, please do the same for columns that may hold data on patients' gender. Please provide your answer by strictly following this format, without redundant words:\n",
    "candidate_age_cols = [col_name1, col_name2, ...]\n",
    "candidate_gender_cols = [col_name1, col_name2, ...]\n",
    "If no columns match a criterion, please provide an empty list.\n",
    "\n",
    "Column names:\n",
    "{clinical_data_cols}\n",
    "'''"
   ]
  },
  {
   "cell_type": "code",
   "execution_count": null,
   "metadata": {
    "ExecuteTime": {
     "end_time": "2024-01-10T21:37:30.270036796Z",
     "start_time": "2024-01-10T21:37:30.227180075Z"
    },
    "collapsed": false
   },
   "outputs": [],
   "source": [
    "candidate_age_cols = [ 'age_at_initial_pathologic_diagnosis',\n",
    "                      'days_to_birth', 'year_of_initial_pathologic_diagnosis']\n",
    "candidate_gender_cols = [ 'gender']"
   ]
  },
  {
   "cell_type": "markdown",
   "metadata": {
    "ExecuteTime": {
     "end_time": "2023-12-31T03:57:44.207565572Z",
     "start_time": "2023-12-31T03:57:44.202177544Z"
    },
    "collapsed": false
   },
   "source": [
    "Choose a single column from the candidate columns that record age and gender information respectively.\n",
    "If no column meets the requirement, keep 'age_col' or 'gender_col' to None"
   ]
  },
  {
   "cell_type": "code",
   "execution_count": null,
   "metadata": {},
   "outputs": [],
   "source": [
    "def preview_df(df, n=5):\n",
    "    return df.head(n).to_dict(orient='list')"
   ]
  },
  {
   "cell_type": "code",
   "execution_count": null,
   "metadata": {
    "ExecuteTime": {
     "end_time": "2024-01-10T21:37:30.270232386Z",
     "start_time": "2024-01-10T21:37:30.227282564Z"
    },
    "collapsed": false
   },
   "outputs": [],
   "source": [
    "preview_df(clinical_data[candidate_age_cols])"
   ]
  },
  {
   "cell_type": "code",
   "execution_count": null,
   "metadata": {
    "ExecuteTime": {
     "end_time": "2024-01-10T21:37:30.270339062Z",
     "start_time": "2024-01-10T21:37:30.227412883Z"
    },
    "collapsed": false
   },
   "outputs": [],
   "source": [
    "age_col = 'age_at_initial_pathologic_diagnosis'"
   ]
  },
  {
   "cell_type": "code",
   "execution_count": null,
   "metadata": {
    "ExecuteTime": {
     "end_time": "2024-01-10T21:37:30.270520195Z",
     "start_time": "2024-01-10T21:37:30.227467704Z"
    },
    "collapsed": false
   },
   "outputs": [],
   "source": [
    "preview_df(clinical_data[candidate_gender_cols])"
   ]
  },
  {
   "cell_type": "code",
   "execution_count": null,
   "metadata": {
    "ExecuteTime": {
     "end_time": "2024-01-10T21:37:30.270626721Z",
     "start_time": "2024-01-10T21:37:30.227530279Z"
    },
    "collapsed": false
   },
   "outputs": [],
   "source": [
    "gender_col = 'gender'"
   ]
  },
  {
   "cell_type": "code",
   "execution_count": null,
   "metadata": {},
   "outputs": [],
   "source": [
    "def xena_select_clinical_features(clinical_df, trait, age_col=None, gender_col=None):\n",
    "    feature_list = []\n",
    "    trait_data = clinical_df.index.to_series().apply(xena_convert_trait).rename(trait)\n",
    "    feature_list.append(trait_data)\n",
    "    if age_col:\n",
    "        age_data = clinical_df[age_col].apply(xena_convert_age).rename(\"Age\")\n",
    "        feature_list.append(age_data)\n",
    "    if gender_col:\n",
    "        gender_data = clinical_df[gender_col].apply(xena_convert_gender).rename(\"Gender\")\n",
    "        feature_list.append(gender_data)\n",
    "    selected_clinical_df = pd.concat(feature_list, axis=1)\n",
    "    return selected_clinical_df"
   ]
  },
  {
   "cell_type": "code",
   "execution_count": null,
   "metadata": {},
   "outputs": [],
   "source": [
    "def xena_convert_trait(row_index: str):\n",
    "    \"\"\"\n",
    "    Convert the trait information from Sample IDs to labels depending on the last two digits.\n",
    "    Tumor types range from 01 - 09, normal types from 10 - 19.\n",
    "    :param row_index: the index value of a row\n",
    "    :return: the converted value\n",
    "    \"\"\"\n",
    "    last_two_digits = int(row_index[-2:])\n",
    "\n",
    "    if 1 <= last_two_digits <= 9:\n",
    "        return 1\n",
    "    elif 10 <= last_two_digits <= 19:\n",
    "        return 0\n",
    "    else:\n",
    "        return -1"
   ]
  },
  {
   "cell_type": "code",
   "execution_count": null,
   "metadata": {},
   "outputs": [],
   "source": [
    "def xena_convert_age(cell: str):\n",
    "    \"\"\"Convert the cell content about age to a numerical value using regular expression\n",
    "    \"\"\"\n",
    "    match = re.search(r'\\d+', str(cell))\n",
    "    if match:\n",
    "        return int(match.group())\n",
    "    else:\n",
    "        return None"
   ]
  },
  {
   "cell_type": "code",
   "execution_count": null,
   "metadata": {},
   "outputs": [],
   "source": [
    "def xena_convert_gender(cell: str):\n",
    "    \"\"\"Convert the cell content about gender to a binary value\n",
    "    \"\"\"\n",
    "    if isinstance(cell, str):\n",
    "        cell = cell.lower()\n",
    "\n",
    "    if cell == \"female\":\n",
    "        return 0\n",
    "    elif cell == \"male\":\n",
    "        return 1\n",
    "    else:\n",
    "        return None"
   ]
  },
  {
   "cell_type": "code",
   "execution_count": null,
   "metadata": {
    "ExecuteTime": {
     "end_time": "2024-01-10T21:37:30.270719762Z",
     "start_time": "2024-01-10T21:37:30.227585330Z"
    },
    "collapsed": false
   },
   "outputs": [],
   "source": [
    "import re\n",
    "selected_clinical_data = xena_select_clinical_features(clinical_data, TRAIT, age_col=age_col, gender_col=gender_col)"
   ]
  },
  {
   "cell_type": "code",
   "execution_count": null,
   "metadata": {},
   "outputs": [],
   "source": [
    "def normalize_gene_symbols_in_index(gene_df):\n",
    "    \"\"\"Normalize the human gene symbols at the index of a dataframe, and replace the index with its normalized version.\n",
    "    Remove the rows where the index failed to be normalized.\"\"\"\n",
    "    normalized_gene_list = normalize_gene_symbols(gene_df.index.tolist())\n",
    "    assert len(normalized_gene_list) == len(gene_df.index)\n",
    "    gene_df.index = normalized_gene_list\n",
    "    gene_df = gene_df[gene_df.index.notnull()]\n",
    "    return gene_df"
   ]
  },
  {
   "cell_type": "code",
   "execution_count": null,
   "metadata": {},
   "outputs": [],
   "source": [
    "def normalize_gene_symbols(gene_symbols, batch_size=1000):\n",
    "    \"\"\"Normalize human gene symbols in batches using the 'mygenes' library\"\"\"\n",
    "    mg = mygene.MyGeneInfo()\n",
    "    normalized_genes = {}\n",
    "\n",
    "    # Process in batches\n",
    "    for i in range(0, len(gene_symbols), batch_size):\n",
    "        batch = gene_symbols[i:i + batch_size]\n",
    "        results = mg.querymany(batch, scopes='symbol', fields='symbol', species='human')\n",
    "\n",
    "        # Update the normalized_genes dictionary with results from this batch\n",
    "        for gene in results:\n",
    "            normalized_genes[gene['query']] = gene.get('symbol', None)\n",
    "\n",
    "    # Return the normalized symbols in the same order as the input\n",
    "    return [normalized_genes.get(symbol) for symbol in gene_symbols]\n"
   ]
  },
  {
   "cell_type": "code",
   "execution_count": null,
   "metadata": {
    "ExecuteTime": {
     "end_time": "2024-01-10T21:38:18.001977877Z",
     "start_time": "2024-01-10T21:37:30.227635342Z"
    },
    "collapsed": false
   },
   "outputs": [],
   "source": [
    "import mygene\n",
    "\n",
    "if NORMALIZE_GENE:\n",
    "    genetic_data = normalize_gene_symbols_in_index(genetic_data)"
   ]
  },
  {
   "cell_type": "code",
   "execution_count": null,
   "metadata": {
    "ExecuteTime": {
     "end_time": "2024-01-10T21:38:18.108889749Z",
     "start_time": "2024-01-10T21:38:18.021199718Z"
    },
    "collapsed": false
   },
   "outputs": [],
   "source": [
    "merged_data = selected_clinical_data.join(genetic_data.T).dropna()\n",
    "merged_data.head()"
   ]
  },
  {
   "cell_type": "code",
   "execution_count": null,
   "metadata": {},
   "outputs": [],
   "source": [
    "def judge_and_remove_biased_features(df, trait, trait_type):\n",
    "    assert trait_type in [\"binary\", \"continuous\"], f\"The trait must be either a binary or a continuous variable!\"\n",
    "    if trait_type == \"binary\":\n",
    "        trait_biased = judge_binary_variable_biased(df, trait)\n",
    "    else:\n",
    "        trait_biased = judge_continuous_variable_biased(df, trait)\n",
    "    if trait_biased:\n",
    "        print(f\"The distribution of the feature \\'{trait}\\' in this dataset is severely biased.\\n\")\n",
    "    else:\n",
    "        print(f\"The distribution of the feature \\'{trait}\\' in this dataset is fine.\\n\")\n",
    "    if \"Age\" in df.columns:\n",
    "        age_biased = judge_continuous_variable_biased(df, 'Age')\n",
    "        if age_biased:\n",
    "            print(f\"The distribution of the feature \\'Age\\' in this dataset is severely biased.\\n\")\n",
    "            df = df.drop(columns='Age')\n",
    "        else:\n",
    "            print(f\"The distribution of the feature \\'Age\\' in this dataset is fine.\\n\")\n",
    "    if \"Gender\" in df.columns:\n",
    "        gender_biased = judge_binary_variable_biased(df, 'Gender')\n",
    "        if gender_biased:\n",
    "            print(f\"The distribution of the feature \\'Gender\\' in this dataset is severely biased.\\n\")\n",
    "            df = df.drop(columns='Gender')\n",
    "        else:\n",
    "            print(f\"The distribution of the feature \\'Gender\\' in this dataset is fine.\\n\")\n",
    "\n",
    "    return trait_biased, df"
   ]
  },
  {
   "cell_type": "code",
   "execution_count": null,
   "metadata": {},
   "outputs": [],
   "source": [
    "def judge_binary_variable_biased(dataframe, col_name, min_proportion=0.1, min_num=5):\n",
    "    \"\"\"\n",
    "    Check if the distribution of a binary variable in the dataset is too biased to be usable for analysis\n",
    "    :param dataframe:\n",
    "    :param col_name:\n",
    "    :param min_proportion:\n",
    "    :param min_num:\n",
    "    :return:\n",
    "    \"\"\"\n",
    "    label_counter = dataframe[col_name].value_counts()\n",
    "    total_samples = len(dataframe)\n",
    "    rare_label_num = label_counter.min()\n",
    "    rare_label = label_counter.idxmin()\n",
    "    rare_label_proportion = rare_label_num / total_samples\n",
    "\n",
    "    print(\n",
    "        f\"For the feature \\'{col_name}\\', the least common label is '{rare_label}' with {rare_label_num} occurrences. This represents {rare_label_proportion:.2%} of the dataset.\")\n",
    "\n",
    "    biased = (len(label_counter) < 2) or ((rare_label_proportion < min_proportion) and (rare_label_num < min_num))\n",
    "    return bool(biased)\n"
   ]
  },
  {
   "cell_type": "code",
   "execution_count": null,
   "metadata": {},
   "outputs": [],
   "source": [
    "def judge_continuous_variable_biased(dataframe, col_name):\n",
    "    \"\"\"Check if the distribution of a continuous variable in the dataset is too biased to be usable for analysis.\n",
    "    As a starting point, we consider it biased if all values are the same. For the next step, maybe ask GPT to judge\n",
    "    based on quartile statistics combined with its common sense knowledge about this feature.\n",
    "    \"\"\"\n",
    "    quartiles = dataframe[col_name].quantile([0.25, 0.5, 0.75])\n",
    "    min_value = dataframe[col_name].min()\n",
    "    max_value = dataframe[col_name].max()\n",
    "\n",
    "    # Printing quartile information\n",
    "    print(f\"Quartiles for '{col_name}':\")\n",
    "    print(f\"  25%: {quartiles[0.25]}\")\n",
    "    print(f\"  50% (Median): {quartiles[0.5]}\")\n",
    "    print(f\"  75%: {quartiles[0.75]}\")\n",
    "    print(f\"Min: {min_value}\")\n",
    "    print(f\"Max: {max_value}\")\n",
    "\n",
    "    biased = min_value == max_value\n",
    "\n",
    "    return bool(biased)"
   ]
  },
  {
   "cell_type": "code",
   "execution_count": null,
   "metadata": {
    "ExecuteTime": {
     "end_time": "2024-01-10T21:38:18.112793384Z",
     "start_time": "2024-01-10T21:38:18.107415526Z"
    },
    "collapsed": false
   },
   "outputs": [],
   "source": [
    "print(f\"The merged dataset contains {len(merged_data)} samples.\")\n",
    "is_trait_biased, merge_data = judge_and_remove_biased_features(merged_data, TRAIT, trait_type=trait_type)\n",
    "is_trait_biased"
   ]
  },
  {
   "cell_type": "code",
   "execution_count": null,
   "metadata": {
    "ExecuteTime": {
     "end_time": "2024-01-10T21:38:31.377898533Z",
     "start_time": "2024-01-10T21:38:18.111417452Z"
    },
    "collapsed": false
   },
   "outputs": [],
   "source": [
    "merged_data.head()\n",
    "if not is_trait_biased:\n",
    "    merge_data.to_csv(os.path.join(OUTPUT_DIR, cohort + '.csv'), index=False)"
   ]
  },
  {
   "cell_type": "code",
   "execution_count": null,
   "metadata": {},
   "outputs": [],
   "source": [
    "from typing import Callable, Optional, List, Tuple, Union, Any"
   ]
  },
  {
   "cell_type": "code",
   "execution_count": null,
   "metadata": {},
   "outputs": [],
   "source": [
    "def save_cohort_info(cohort: str, info_path: str, is_available: bool, is_biased: Optional[bool] = None,\n",
    "                     df: Optional[pd.DataFrame] = None, note: str = '') -> None:\n",
    "    \"\"\"\n",
    "    Add or update information about the usability and quality of a dataset for statistical analysis.\n",
    "\n",
    "    Parameters:\n",
    "    cohort (str): A unique identifier for the dataset.\n",
    "    info_path (str): File path to the JSON file where records are stored.\n",
    "    is_available (bool): Indicates whether both the genetic data and trait data are available in the dataset, and can be\n",
    "     preprocessed into a dataframe.\n",
    "    is_biased (bool, optional): Indicates whether the dataset is too biased to be usable.\n",
    "        Required if `is_available` is True.\n",
    "    df (pandas.DataFrame, optional): The preprocessed dataset. Required if `is_available` is True.\n",
    "    note (str, optional): Additional notes about the dataset.\n",
    "\n",
    "    Returns:\n",
    "    None: The function does not return a value but updates or creates a record in the specified JSON file.\n",
    "    \"\"\"\n",
    "    if is_available:\n",
    "        assert (df is not None) and (is_biased is not None), \"'df' and 'is_biased' should be provided if this cohort \" \\\n",
    "                                                             \"is relevant.\"\n",
    "    is_usable = is_available and (not is_biased)\n",
    "    new_record = {\"is_usable\": is_usable,\n",
    "                  \"is_available\": is_available,\n",
    "                  \"is_biased\": is_biased if is_available else None,\n",
    "                  \"has_age\": \"Age\" in df.columns if is_available else None,\n",
    "                  \"has_gender\": \"Gender\" in df.columns if is_available else None,\n",
    "                  \"sample_size\": len(df) if is_available else None,\n",
    "                  \"note\": note}\n",
    "    \n",
    "    if not os.path.exists(info_path):\n",
    "        with open(info_path, 'w') as file:\n",
    "            json.dump({}, file)\n",
    "        print(f\"A new JSON file was created at: {info_path}\")\n",
    "\n",
    "    with open(info_path, \"r\") as file:\n",
    "        records = json.load(file)\n",
    "    records[cohort] = new_record\n",
    "\n",
    "    temp_path = info_path + \".tmp\"\n",
    "    try:\n",
    "        with open(temp_path, 'w') as file:\n",
    "            json.dump(records, file)\n",
    "        os.replace(temp_path, info_path)\n",
    "\n",
    "    except Exception as e:\n",
    "        print(f\"An error occurred: {e}\")\n",
    "        if os.path.exists(temp_path):\n",
    "            os.remove(temp_path)\n",
    "        raise"
   ]
  },
  {
   "cell_type": "code",
   "execution_count": null,
   "metadata": {
    "ExecuteTime": {
     "end_time": "2024-01-10T21:38:31.425336629Z",
     "start_time": "2024-01-10T21:38:31.419043732Z"
    },
    "collapsed": false
   },
   "outputs": [],
   "source": [
    "import json\n",
    "\n",
    "save_cohort_info(cohort, JSON_PATH, is_available, is_trait_biased, merged_data)"
   ]
  },
  {
   "cell_type": "markdown",
   "metadata": {
    "ExecuteTime": {
     "end_time": "2023-12-28T21:28:38.028916303Z",
     "start_time": "2023-12-28T21:28:38.016245426Z"
    },
    "collapsed": false
   },
   "source": [
    "## 2.2. The GEO dataset"
   ]
  },
  {
   "cell_type": "markdown",
   "metadata": {
    "ExecuteTime": {
     "end_time": "2023-12-31T03:25:23.253882615Z",
     "start_time": "2023-12-31T03:25:23.244062710Z"
    },
    "collapsed": false
   },
   "source": [
    "In GEO, there may be one or multiple cohorts for a trait. Each cohort is identified by an accession number. We iterate over all accession numbers in the corresponding subdirectory, preprocess the cohort data, and save them to csv files."
   ]
  },
  {
   "cell_type": "code",
   "execution_count": 3,
   "metadata": {
    "ExecuteTime": {
     "end_time": "2024-01-10T21:38:31.425592571Z",
     "start_time": "2024-01-10T21:38:31.419137625Z"
    },
    "collapsed": false
   },
   "outputs": [
    {
     "data": {
      "text/plain": [
       "['GSE100648', 'GSE25101', 'GSE73754', 'GSE11886']"
      ]
     },
     "execution_count": 3,
     "metadata": {},
     "output_type": "execute_result"
    }
   ],
   "source": [
    "dataset = 'GEO'\n",
    "trait_subdir = \"Ankylosing-Spondylitis\"\n",
    "\n",
    "trait_path = os.path.join(DATA_ROOT, dataset, trait_subdir)\n",
    "os.listdir(trait_path)"
   ]
  },
  {
   "cell_type": "markdown",
   "metadata": {
    "ExecuteTime": {
     "end_time": "2023-12-31T03:39:42.634870142Z",
     "start_time": "2023-12-31T03:39:42.534093295Z"
    },
    "collapsed": false
   },
   "source": [
    "Repeat the below steps for all the accession numbers"
   ]
  },
  {
   "cell_type": "code",
   "execution_count": 4,
   "metadata": {},
   "outputs": [],
   "source": [
    "def get_relevant_filepaths(cohort_dir):\n",
    "    \"\"\"Find the file paths of a SOFT file and a matrix file from the given data directory of a cohort.\n",
    "    If there are multiple SOFT files or matrix files, simply choose the first one. May be replaced by better\n",
    "    strategies later.\n",
    "    \"\"\"\n",
    "    files = os.listdir(cohort_dir)\n",
    "    soft_files = [f for f in files if 'soft' in f.lower()]\n",
    "    matrix_files = [f for f in files if 'matrix' in f.lower()]\n",
    "    assert len(soft_files) > 0 and len(matrix_files) > 0\n",
    "    soft_file_path = os.path.join(cohort_dir, soft_files[0])\n",
    "    matrix_file_path = os.path.join(cohort_dir, matrix_files[0])\n",
    "\n",
    "    return soft_file_path, matrix_file_path"
   ]
  },
  {
   "cell_type": "code",
   "execution_count": 5,
   "metadata": {
    "ExecuteTime": {
     "end_time": "2024-01-10T21:39:02.935079426Z",
     "start_time": "2024-01-10T21:39:02.923698385Z"
    },
    "collapsed": false
   },
   "outputs": [
    {
     "data": {
      "text/plain": [
       "('/Users/zhangmianchen/Downloads/DATA/GEO/Ankylosing-Spondylitis/GSE100648/GSE100648_family.soft.gz',\n",
       " '/Users/zhangmianchen/Downloads/DATA/GEO/Ankylosing-Spondylitis/GSE100648/GSE100648_series_matrix.txt.gz')"
      ]
     },
     "execution_count": 5,
     "metadata": {},
     "output_type": "execute_result"
    }
   ],
   "source": [
    "cohort = accession_num = \"GSE100648\"\n",
    "cohort_dir = os.path.join(trait_path, accession_num)\n",
    "soft_file, matrix_file = get_relevant_filepaths(cohort_dir)\n",
    "soft_file, matrix_file"
   ]
  },
  {
   "cell_type": "code",
   "execution_count": 6,
   "metadata": {},
   "outputs": [
    {
     "data": {
      "text/plain": [
       "('/Users/zhangmianchen/Downloads/DATA/GEO/Ankylosing-Spondylitis/GSE25101/GSE25101_family.soft.gz',\n",
       " '/Users/zhangmianchen/Downloads/DATA/GEO/Ankylosing-Spondylitis/GSE25101/GSE25101_series_matrix.txt.gz')"
      ]
     },
     "execution_count": 6,
     "metadata": {},
     "output_type": "execute_result"
    }
   ],
   "source": [
    "cohort = accession_num = \"GSE25101\"\n",
    "cohort_dir = os.path.join(trait_path, accession_num)\n",
    "soft_file, matrix_file = get_relevant_filepaths(cohort_dir)\n",
    "soft_file, matrix_file"
   ]
  },
  {
   "cell_type": "code",
   "execution_count": 7,
   "metadata": {},
   "outputs": [
    {
     "data": {
      "text/plain": [
       "('/Users/zhangmianchen/Downloads/DATA/GEO/Ankylosing-Spondylitis/GSE73754/GSE73754_family.soft.gz',\n",
       " '/Users/zhangmianchen/Downloads/DATA/GEO/Ankylosing-Spondylitis/GSE73754/GSE73754_series_matrix.txt.gz')"
      ]
     },
     "execution_count": 7,
     "metadata": {},
     "output_type": "execute_result"
    }
   ],
   "source": [
    "cohort = accession_num = \"GSE73754\"\n",
    "cohort_dir = os.path.join(trait_path, accession_num)\n",
    "soft_file, matrix_file = get_relevant_filepaths(cohort_dir)\n",
    "soft_file, matrix_file"
   ]
  },
  {
   "cell_type": "code",
   "execution_count": 8,
   "metadata": {},
   "outputs": [
    {
     "data": {
      "text/plain": [
       "('/Users/zhangmianchen/Downloads/DATA/GEO/Ankylosing-Spondylitis/GSE11886/GSE11886_family.soft.gz',\n",
       " '/Users/zhangmianchen/Downloads/DATA/GEO/Ankylosing-Spondylitis/GSE11886/GSE11886_series_matrix.txt.gz')"
      ]
     },
     "execution_count": 8,
     "metadata": {},
     "output_type": "execute_result"
    }
   ],
   "source": [
    "cohort = accession_num = \"GSE11886\"\n",
    "cohort_dir = os.path.join(trait_path, accession_num)\n",
    "soft_file, matrix_file = get_relevant_filepaths(cohort_dir)\n",
    "soft_file, matrix_file"
   ]
  },
  {
   "cell_type": "markdown",
   "metadata": {
    "collapsed": false
   },
   "source": [
    "### Initial filtering and clinical data preprocessing"
   ]
  },
  {
   "cell_type": "code",
   "execution_count": 9,
   "metadata": {},
   "outputs": [],
   "source": [
    "import gzip"
   ]
  },
  {
   "cell_type": "code",
   "execution_count": 10,
   "metadata": {},
   "outputs": [],
   "source": [
    "def line_generator(source, source_type):\n",
    "    \"\"\"Generator that yields lines from a file or a string.\n",
    "\n",
    "    Parameters:\n",
    "    - source: File path or string content.\n",
    "    - source_type: 'file' or 'string'.\n",
    "    \"\"\"\n",
    "    if source_type == 'file':\n",
    "        with gzip.open(source, 'rt') as f:\n",
    "            for line in f:\n",
    "                yield line.strip()\n",
    "    elif source_type == 'string':\n",
    "        for line in source.split('\\n'):\n",
    "            yield line.strip()\n",
    "    else:\n",
    "        raise ValueError(\"source_type must be 'file' or 'string'\")"
   ]
  },
  {
   "cell_type": "code",
   "execution_count": 14,
   "metadata": {},
   "outputs": [],
   "source": [
    "from typing import Callable, Optional, List, Tuple, Union, Any\n",
    "import pandas as pd"
   ]
  },
  {
   "cell_type": "code",
   "execution_count": 15,
   "metadata": {},
   "outputs": [],
   "source": [
    "def filter_content_by_prefix(\n",
    "    source: str,\n",
    "    prefixes_a: List[str],\n",
    "    prefixes_b: Optional[List[str]] = None,\n",
    "    unselect: bool = False,\n",
    "    source_type: str = 'file',\n",
    "    return_df_a: bool = True,\n",
    "    return_df_b: bool = True\n",
    ") -> Tuple[Union[str, pd.DataFrame], Optional[Union[str, pd.DataFrame]]]:\n",
    "    \"\"\"\n",
    "    Filters rows from a file or a list of strings based on specified prefixes.\n",
    "\n",
    "    Parameters:\n",
    "    - source (str): File path or string content to filter.\n",
    "    - prefixes_a (List[str]): Primary list of prefixes to filter by.\n",
    "    - prefixes_b (Optional[List[str]]): Optional secondary list of prefixes to filter by.\n",
    "    - unselect (bool): If True, selects rows that do not start with the specified prefixes.\n",
    "    - source_type (str): 'file' if source is a file path, 'string' if source is a string of text.\n",
    "    - return_df_a (bool): If True, returns filtered content for prefixes_a as a pandas DataFrame.\n",
    "    - return_df_b (bool): If True, and if prefixes_b is provided, returns filtered content for prefixes_b as a pandas DataFrame.\n",
    "\n",
    "    Returns:\n",
    "    - Tuple: A tuple where the first element is the filtered content for prefixes_a, and the second element is the filtered content for prefixes_b.\n",
    "    \"\"\"\n",
    "    filtered_lines_a = []\n",
    "    filtered_lines_b = []\n",
    "    prefix_set_a = set(prefixes_a)\n",
    "    if prefixes_b is not None:\n",
    "        prefix_set_b = set(prefixes_b)\n",
    "\n",
    "    # Use generator to get lines\n",
    "    for line in line_generator(source, source_type):\n",
    "        matched_a = any(line.startswith(prefix) for prefix in prefix_set_a)\n",
    "        if matched_a != unselect:\n",
    "            filtered_lines_a.append(line)\n",
    "        if prefixes_b is not None:\n",
    "            matched_b = any(line.startswith(prefix) for prefix in prefix_set_b)\n",
    "            if matched_b != unselect:\n",
    "                filtered_lines_b.append(line)\n",
    "\n",
    "    filtered_content_a = '\\n'.join(filtered_lines_a)\n",
    "    if return_df_a:\n",
    "        filtered_content_a = pd.read_csv(io.StringIO(filtered_content_a), delimiter='\\t', low_memory=False, on_bad_lines='skip')\n",
    "    filtered_content_b = None\n",
    "    if filtered_lines_b:\n",
    "        filtered_content_b = '\\n'.join(filtered_lines_b)\n",
    "        if return_df_b:\n",
    "            filtered_content_b = pd.read_csv(io.StringIO(filtered_content_b), delimiter='\\t', low_memory=False, on_bad_lines='skip')\n",
    "\n",
    "    return filtered_content_a, filtered_content_b\n",
    "\n"
   ]
  },
  {
   "cell_type": "code",
   "execution_count": 16,
   "metadata": {},
   "outputs": [],
   "source": [
    "def get_background_and_clinical_data(file_path,\n",
    "                                     prefixes_a=['!Series_title', '!Series_summary', '!Series_overall_design'],\n",
    "                                     prefixes_b=['!Sample_geo_accession', '!Sample_characteristics_ch1']):\n",
    "    \"\"\"Extract from a matrix file the background information about the dataset, and sample characteristics data\"\"\"\n",
    "    background_info, clinical_data = filter_content_by_prefix(file_path, prefixes_a, prefixes_b, unselect=False,\n",
    "                                                              source_type='file',\n",
    "                                                              return_df_a=False, return_df_b=True)\n",
    "    return background_info, clinical_data"
   ]
  },
  {
   "cell_type": "code",
   "execution_count": 17,
   "metadata": {
    "ExecuteTime": {
     "end_time": "2024-01-10T21:39:03.718770427Z",
     "start_time": "2024-01-10T21:39:03.677006442Z"
    },
    "collapsed": false
   },
   "outputs": [
    {
     "name": "stdout",
     "output_type": "stream",
     "text": [
      "!Series_title\t\"Gene expression analysis of macrophages from ankylosing spondylitis patients reveals interferon-gamma dysregulation\"\n",
      "!Series_summary\t\"OBJECTIVE: To determine whether macrophages, a type of cell implicated in the pathogenesis of ankylosing spondylitis (AS), exhibit a characteristic gene expression pattern. METHODS: Macrophages were derived from the peripheral blood of 8 AS patients (median disease duration 13 years [range <1-43 years]) and 9 healthy control subjects over 7 days with the use of granulocyte-macrophage colony-stimulating factor. Cells were stimulated for 24 hours with interferon-gamma (IFNgamma; 100 units/ml), were left untreated for 24 hours, or were treated for 3 hours with lipopolysaccharide (LPS; 10 ng/ml). RNA was isolated and examined by microarray and real-time quantitative reverse transcription-polymerase chain reaction analysis. RESULTS: Microarray analysis revealed 198 probe sets detecting the differential expression of 141 unique genes in untreated macrophages from AS patients compared with healthy controls. Clustering and principal components analysis clearly distinguished AS patients and controls. Of the differentially expressed genes, 78 (55%) were IFN-regulated, and their relative expression indicated a reverse IFN signature in AS patient macrophages, where IFNgamma-up-regulated genes were underexpressed and down-regulated genes were overexpressed. Treatment of macrophages with exogenous IFNgamma normalized the expression of these genes between patients and controls. In addition, the messenger RNA encoded by the IFNgamma gene was approximately 2-fold lower in AS patient macrophages at baseline (P = 0.004) and was poorly responsive to LPS (P = 0.018), as compared with healthy controls. CONCLUSIONS: Our findings reveal consistent differences in gene expression in macrophages from AS patients, with evidence of a striking reverse IFN signature. Together with poor expression and responsiveness of the IFNgamma gene, these results suggest that there may be a relative defect in IFNgamma gene regulation, with autocrine consequences and implications for disease pathogenesis.\"\n",
      "!Series_summary\t\"\"\n",
      "!Series_summary\t\"Keywords: Disease state analysis with treatment effect\"\n",
      "!Series_overall_design\t\"Macrophages were derived from the peripheral blood of 8 AS patients (median disease duration 13 years [range <1–43 years]) and 9 healthy control subjects over 7 days with the use of granulocyte– macrophage colony-stimulating factor. Cells were stimulated for 24 hours with interferon- (IFN; 100 units/ ml), were left untreated for 24 hours, or were treated for 3 hours with lipopolysaccharide (LPS; 10 ng/ml). RNA was isolated and examined by microarray and real-time quantitative reverse transcription–polymerase chain reaction analysis.\"\n"
     ]
    }
   ],
   "source": [
    "import io\n",
    "background_prefixes = ['!Series_title', '!Series_summary', '!Series_overall_design']\n",
    "clinical_prefixes = ['!Sample_geo_accession', '!Sample_characteristics_ch1']\n",
    "\n",
    "background_info, clinical_data = get_background_and_clinical_data(matrix_file, background_prefixes, clinical_prefixes)\n",
    "print(background_info)"
   ]
  },
  {
   "cell_type": "code",
   "execution_count": 18,
   "metadata": {
    "ExecuteTime": {
     "end_time": "2024-01-10T21:39:04.022548957Z",
     "start_time": "2024-01-10T21:39:04.008519515Z"
    },
    "collapsed": false
   },
   "outputs": [
    {
     "data": {
      "text/html": [
       "<div>\n",
       "<style scoped>\n",
       "    .dataframe tbody tr th:only-of-type {\n",
       "        vertical-align: middle;\n",
       "    }\n",
       "\n",
       "    .dataframe tbody tr th {\n",
       "        vertical-align: top;\n",
       "    }\n",
       "\n",
       "    .dataframe thead th {\n",
       "        text-align: right;\n",
       "    }\n",
       "</style>\n",
       "<table border=\"1\" class=\"dataframe\">\n",
       "  <thead>\n",
       "    <tr style=\"text-align: right;\">\n",
       "      <th></th>\n",
       "      <th>!Sample_geo_accession</th>\n",
       "      <th>GSM300389</th>\n",
       "      <th>GSM300390</th>\n",
       "      <th>GSM300391</th>\n",
       "      <th>GSM300392</th>\n",
       "      <th>GSM300393</th>\n",
       "      <th>GSM300394</th>\n",
       "      <th>GSM300395</th>\n",
       "      <th>GSM300396</th>\n",
       "      <th>GSM300397</th>\n",
       "      <th>...</th>\n",
       "      <th>GSM300412</th>\n",
       "      <th>GSM300413</th>\n",
       "      <th>GSM300414</th>\n",
       "      <th>GSM300415</th>\n",
       "      <th>GSM300416</th>\n",
       "      <th>GSM300417</th>\n",
       "      <th>GSM300418</th>\n",
       "      <th>GSM300419</th>\n",
       "      <th>GSM300420</th>\n",
       "      <th>GSM300421</th>\n",
       "    </tr>\n",
       "  </thead>\n",
       "  <tbody>\n",
       "    <tr>\n",
       "      <th>0</th>\n",
       "      <td>!Sample_characteristics_ch1</td>\n",
       "      <td>Control #1, IFN treated</td>\n",
       "      <td>Control #5, IFN treated</td>\n",
       "      <td>Control #7, IFN treated</td>\n",
       "      <td>Control #2, IFN treated</td>\n",
       "      <td>Control #3, IFN treated</td>\n",
       "      <td>Control #6, IFN treated</td>\n",
       "      <td>Control #4, IFN treated</td>\n",
       "      <td>Control #8, IFN treated</td>\n",
       "      <td>Control #9, IFN treated</td>\n",
       "      <td>...</td>\n",
       "      <td>Patient #6, IFN treated</td>\n",
       "      <td>Patient #7, IFN treated</td>\n",
       "      <td>Patient #2, Untreated</td>\n",
       "      <td>Patient #8, Untreated</td>\n",
       "      <td>Patient #4, Untreated</td>\n",
       "      <td>Patient #3, Untreated</td>\n",
       "      <td>Patient #5, Untreated</td>\n",
       "      <td>Patient #1, Untreated</td>\n",
       "      <td>Patient #6, Untreated</td>\n",
       "      <td>Patient #7, Untreated</td>\n",
       "    </tr>\n",
       "  </tbody>\n",
       "</table>\n",
       "<p>1 rows × 34 columns</p>\n",
       "</div>"
      ],
      "text/plain": [
       "         !Sample_geo_accession                GSM300389  \\\n",
       "0  !Sample_characteristics_ch1  Control #1, IFN treated   \n",
       "\n",
       "                 GSM300390                GSM300391                GSM300392  \\\n",
       "0  Control #5, IFN treated  Control #7, IFN treated  Control #2, IFN treated   \n",
       "\n",
       "                 GSM300393                GSM300394                GSM300395  \\\n",
       "0  Control #3, IFN treated  Control #6, IFN treated  Control #4, IFN treated   \n",
       "\n",
       "                 GSM300396                GSM300397  ...  \\\n",
       "0  Control #8, IFN treated  Control #9, IFN treated  ...   \n",
       "\n",
       "                 GSM300412                GSM300413              GSM300414  \\\n",
       "0  Patient #6, IFN treated  Patient #7, IFN treated  Patient #2, Untreated   \n",
       "\n",
       "               GSM300415              GSM300416              GSM300417  \\\n",
       "0  Patient #8, Untreated  Patient #4, Untreated  Patient #3, Untreated   \n",
       "\n",
       "               GSM300418              GSM300419              GSM300420  \\\n",
       "0  Patient #5, Untreated  Patient #1, Untreated  Patient #6, Untreated   \n",
       "\n",
       "               GSM300421  \n",
       "0  Patient #7, Untreated  \n",
       "\n",
       "[1 rows x 34 columns]"
      ]
     },
     "execution_count": 18,
     "metadata": {},
     "output_type": "execute_result"
    }
   ],
   "source": [
    "clinical_data.head()"
   ]
  },
  {
   "cell_type": "code",
   "execution_count": 19,
   "metadata": {},
   "outputs": [],
   "source": [
    "def get_unique_values_by_row(dataframe, max_len=30):\n",
    "    \"\"\"\n",
    "    Organize the unique values in each row of the given dataframe, to get a dictionary\n",
    "    :param dataframe:\n",
    "    :param max_len:\n",
    "    :return:\n",
    "    \"\"\"\n",
    "    if '!Sample_geo_accession' in dataframe.columns:\n",
    "        dataframe = dataframe.drop(columns=['!Sample_geo_accession'])\n",
    "    unique_values_dict = {}\n",
    "    for index, row in dataframe.iterrows():\n",
    "        unique_values = list(row.unique())[:max_len]\n",
    "        unique_values_dict[index] = unique_values\n",
    "    return unique_values_dict"
   ]
  },
  {
   "cell_type": "code",
   "execution_count": 20,
   "metadata": {
    "ExecuteTime": {
     "end_time": "2024-01-10T21:39:04.307639583Z",
     "start_time": "2024-01-10T21:39:04.289352075Z"
    },
    "collapsed": false
   },
   "outputs": [
    {
     "data": {
      "text/plain": [
       "{0: ['Control #1, IFN treated',\n",
       "  'Control #5, IFN treated',\n",
       "  'Control #7, IFN treated',\n",
       "  'Control #2, IFN treated',\n",
       "  'Control #3, IFN treated',\n",
       "  'Control #6, IFN treated',\n",
       "  'Control #4, IFN treated',\n",
       "  'Control #8, IFN treated',\n",
       "  'Control #9, IFN treated',\n",
       "  'Control #1, Untreated',\n",
       "  'Control #5, Untreated',\n",
       "  'Control #7, Untreated',\n",
       "  'Control #2, Untreated',\n",
       "  'Control #3, Untreated',\n",
       "  'Control #6, Untreated',\n",
       "  'Control #4, Untreated',\n",
       "  'Control #8, Untreated',\n",
       "  'Control #9, Untreated',\n",
       "  'Patient #2, Untreated',\n",
       "  'Patient 42, IFN treated',\n",
       "  'Patient #3, IFN treated',\n",
       "  'Patient #5, IFN treated',\n",
       "  'Patient #1, IFN treated',\n",
       "  'Patient #6, IFN treated',\n",
       "  'Patient #7, IFN treated',\n",
       "  'Patient #8, Untreated',\n",
       "  'Patient #4, Untreated',\n",
       "  'Patient #3, Untreated',\n",
       "  'Patient #5, Untreated',\n",
       "  'Patient #1, Untreated']}"
      ]
     },
     "execution_count": 20,
     "metadata": {},
     "output_type": "execute_result"
    }
   ],
   "source": [
    "clinical_data_unique = get_unique_values_by_row(clinical_data)\n",
    "clinical_data_unique"
   ]
  },
  {
   "cell_type": "markdown",
   "metadata": {
    "ExecuteTime": {
     "end_time": "2023-12-31T03:58:04.978204446Z",
     "start_time": "2023-12-31T03:58:04.922270095Z"
    },
    "collapsed": false
   },
   "source": [
    "Analyze the metadata to determine data relevance and find ways to extract the clinical data.\n",
    "Reference prompt:"
   ]
  },
  {
   "cell_type": "code",
   "execution_count": 21,
   "metadata": {
    "ExecuteTime": {
     "end_time": "2024-01-10T21:39:04.854586192Z",
     "start_time": "2024-01-10T21:39:04.836283516Z"
    },
    "collapsed": false
   },
   "outputs": [
    {
     "data": {
      "text/plain": [
       "'As a biomedical research team, we are selecting datasets to study the association between the human trait \\'Ankylosing Spondylitis\\' and genetic factors, optionally considering the influence of age and gender. After searching the GEO database and parsing the matrix file of a series, we obtained background information and sample characteristics data. We will provide textual information about the dataset background, and a Python dictionary storing a list of unique values for each field of the sample characteristics data. Please carefully review the provided information and answer the following questions about this dataset:\\n1. Does this dataset contain gene expression data? (Note: Pure miRNA data is not suitable.)\\n2. For each of the traits \\'Ankylosing Spondylitis\\', \\'age\\', and \\'gender\\', please address these points:\\n   (1) Is there human data available for this trait?\\n   (2) If so, identify the key in the sample characteristics dictionary where unique values of this trait is recorded. The key is an integer. The trait information might be explicitly recorded, or can be inferred from the field with some biomedical knowledge or understanding about the data collection process.\\n   (3) Choose an appropriate data type (either \\'continuous\\' or \\'binary\\') for each trait. Write a Python function to convert any given value of the trait to this data type. The function should handle inference about the trait value and convert unknown values to None.\\n   Name the functions \\'convert_trait\\', \\'convert_age\\', and \\'convert_gender\\', respectively.\\n\\nBackground information about the dataset:\\n!Series_title\\t\"Gene expression analysis of macrophages from ankylosing spondylitis patients reveals interferon-gamma dysregulation\"\\n!Series_summary\\t\"OBJECTIVE: To determine whether macrophages, a type of cell implicated in the pathogenesis of ankylosing spondylitis (AS), exhibit a characteristic gene expression pattern. METHODS: Macrophages were derived from the peripheral blood of 8 AS patients (median disease duration 13 years [range <1-43 years]) and 9 healthy control subjects over 7 days with the use of granulocyte-macrophage colony-stimulating factor. Cells were stimulated for 24 hours with interferon-gamma (IFNgamma; 100 units/ml), were left untreated for 24 hours, or were treated for 3 hours with lipopolysaccharide (LPS; 10 ng/ml). RNA was isolated and examined by microarray and real-time quantitative reverse transcription-polymerase chain reaction analysis. RESULTS: Microarray analysis revealed 198 probe sets detecting the differential expression of 141 unique genes in untreated macrophages from AS patients compared with healthy controls. Clustering and principal components analysis clearly distinguished AS patients and controls. Of the differentially expressed genes, 78 (55%) were IFN-regulated, and their relative expression indicated a reverse IFN signature in AS patient macrophages, where IFNgamma-up-regulated genes were underexpressed and down-regulated genes were overexpressed. Treatment of macrophages with exogenous IFNgamma normalized the expression of these genes between patients and controls. In addition, the messenger RNA encoded by the IFNgamma gene was approximately 2-fold lower in AS patient macrophages at baseline (P = 0.004) and was poorly responsive to LPS (P = 0.018), as compared with healthy controls. CONCLUSIONS: Our findings reveal consistent differences in gene expression in macrophages from AS patients, with evidence of a striking reverse IFN signature. Together with poor expression and responsiveness of the IFNgamma gene, these results suggest that there may be a relative defect in IFNgamma gene regulation, with autocrine consequences and implications for disease pathogenesis.\"\\n!Series_summary\\t\"\"\\n!Series_summary\\t\"Keywords: Disease state analysis with treatment effect\"\\n!Series_overall_design\\t\"Macrophages were derived from the peripheral blood of 8 AS patients (median disease duration 13 years [range <1–43 years]) and 9 healthy control subjects over 7 days with the use of granulocyte– macrophage colony-stimulating factor. Cells were stimulated for 24 hours with interferon- (IFN; 100 units/ ml), were left untreated for 24 hours, or were treated for 3 hours with lipopolysaccharide (LPS; 10 ng/ml). RNA was isolated and examined by microarray and real-time quantitative reverse transcription–polymerase chain reaction analysis.\"\\n\\nSample characteristics dictionary (from \"!Sample_characteristics_ch1\", converted to a Python dictionary that stores the unique values for each field):\\n{0: [\\'Control #1, IFN treated\\', \\'Control #5, IFN treated\\', \\'Control #7, IFN treated\\', \\'Control #2, IFN treated\\', \\'Control #3, IFN treated\\', \\'Control #6, IFN treated\\', \\'Control #4, IFN treated\\', \\'Control #8, IFN treated\\', \\'Control #9, IFN treated\\', \\'Control #1, Untreated\\', \\'Control #5, Untreated\\', \\'Control #7, Untreated\\', \\'Control #2, Untreated\\', \\'Control #3, Untreated\\', \\'Control #6, Untreated\\', \\'Control #4, Untreated\\', \\'Control #8, Untreated\\', \\'Control #9, Untreated\\', \\'Patient #2, Untreated\\', \\'Patient 42, IFN treated\\', \\'Patient #3, IFN treated\\', \\'Patient #5, IFN treated\\', \\'Patient #1, IFN treated\\', \\'Patient #6, IFN treated\\', \\'Patient #7, IFN treated\\', \\'Patient #8, Untreated\\', \\'Patient #4, Untreated\\', \\'Patient #3, Untreated\\', \\'Patient #5, Untreated\\', \\'Patient #1, Untreated\\']}\\n'"
      ]
     },
     "execution_count": 21,
     "metadata": {},
     "output_type": "execute_result"
    }
   ],
   "source": [
    "f'''As a biomedical research team, we are selecting datasets to study the association between the human trait \\'{TRAIT}\\' and genetic factors, optionally considering the influence of age and gender. After searching the GEO database and parsing the matrix file of a series, we obtained background information and sample characteristics data. We will provide textual information about the dataset background, and a Python dictionary storing a list of unique values for each field of the sample characteristics data. Please carefully review the provided information and answer the following questions about this dataset:\n",
    "1. Does this dataset contain gene expression data? (Note: Pure miRNA data is not suitable.)\n",
    "2. For each of the traits \\'{TRAIT}\\', 'age', and 'gender', please address these points:\n",
    "   (1) Is there human data available for this trait?\n",
    "   (2) If so, identify the key in the sample characteristics dictionary where unique values of this trait is recorded. The key is an integer. The trait information might be explicitly recorded, or can be inferred from the field with some biomedical knowledge or understanding about the data collection process.\n",
    "   (3) Choose an appropriate data type (either 'continuous' or 'binary') for each trait. Write a Python function to convert any given value of the trait to this data type. The function should handle inference about the trait value and convert unknown values to None.\n",
    "   Name the functions 'convert_trait', 'convert_age', and 'convert_gender', respectively.\n",
    "\n",
    "Background information about the dataset:\n",
    "{background_info}\n",
    "\n",
    "Sample characteristics dictionary (from \"!Sample_characteristics_ch1\", converted to a Python dictionary that stores the unique values for each field):\n",
    "{clinical_data_unique}\n",
    "'''"
   ]
  },
  {
   "cell_type": "markdown",
   "metadata": {
    "ExecuteTime": {
     "end_time": "2023-12-31T03:58:04.978240504Z",
     "start_time": "2023-12-31T03:58:04.922365324Z"
    },
    "collapsed": false
   },
   "source": [
    "Understand and verify the answer from GPT, to assign values to the below variables. Assign None to the 'row_id' variables if relevant data row was not found.\n",
    "Later we need to let GPT format its answer to automatically do these. But given the complexity of this step, let's grow some insight from the free-text answers for now."
   ]
  },
  {
   "cell_type": "code",
   "execution_count": 22,
   "metadata": {
    "ExecuteTime": {
     "end_time": "2024-01-10T21:39:05.366304590Z",
     "start_time": "2024-01-10T21:39:05.356983082Z"
    },
    "collapsed": false
   },
   "outputs": [],
   "source": [
    "age_row = gender_row = None\n",
    "convert_age = convert_gender = None"
   ]
  },
  {
   "cell_type": "code",
   "execution_count": 23,
   "metadata": {
    "ExecuteTime": {
     "end_time": "2024-01-10T21:40:09.324053151Z",
     "start_time": "2024-01-10T21:40:09.251131090Z"
    },
    "collapsed": false
   },
   "outputs": [],
   "source": [
    "is_gene_availabe = True\n",
    "trait_row = 0\n",
    "age_row = None\n",
    "gender_row = None\n",
    "\n",
    "trait_type = 'binary'"
   ]
  },
  {
   "cell_type": "code",
   "execution_count": 24,
   "metadata": {
    "ExecuteTime": {
     "end_time": "2024-01-10T21:40:09.912115984Z",
     "start_time": "2024-01-10T21:40:09.907913460Z"
    },
    "collapsed": false
   },
   "outputs": [],
   "source": [
    "is_available = is_gene_availabe and (trait_row is not None)\n",
    "if not is_available:\n",
    "    save_cohort_info(cohort, JSON_PATH, is_available)\n",
    "    print(\"This cohort is not usable. Please skip the following steps and jump to the next accession number.\")"
   ]
  },
  {
   "cell_type": "code",
   "execution_count": 25,
   "metadata": {
    "ExecuteTime": {
     "end_time": "2024-01-10T21:40:10.982148317Z",
     "start_time": "2024-01-10T21:40:10.967368918Z"
    },
    "collapsed": false
   },
   "outputs": [],
   "source": [
    "# Verify and use the functions generated by GPT\n",
    "\n",
    "def convert_trait(tissue_type):\n",
    "    \"\"\"\n",
    "    Convert tissue type to epilepsy presence (binary).\n",
    "    Assuming epilepsy presence for 'Hippocampus' tissue.\n",
    "    \"\"\"\n",
    "    if tissue_type == 'Control #1, IFN treated' or tissue_type == 'Control #5, IFN treated'or tissue_type == 'Control #7, IFN treated'or tissue_type == 'Control #2, IFN treated'or tissue_type == 'Control #3, IFN treated'or tissue_type == 'Control #6, IFN treated'or tissue_type == 'Control #4, IFN treated'or tissue_type == 'Control #8, IFN treated'or tissue_type == 'Control #9, IFN treated'or tissue_type == 'Control 42, IFN treated':\n",
    "        return 1  # Epilepsy present\n",
    "    else:\n",
    "        return 0  # Epilepsy not present\n",
    "\n",
    "\n",
    "def convert_age(age_string):\n",
    "    \"\"\"\n",
    "    Convert age string to a continuous numerical value.\n",
    "    Unknown values are converted to None.\n",
    "    \"\"\"\n",
    "    if age_string.lower() == 'n.a.':\n",
    "        return None\n",
    "    try:\n",
    "        # Extract age as an integer from the string\n",
    "        age = int(age_string.split(': ')[1])\n",
    "        return age\n",
    "    except (ValueError, IndexError):\n",
    "        # In case of any format error or unexpected string structure\n",
    "        return None\n",
    "\n",
    "\n",
    "# It sometimes maps 'female' to 0, and sometimes 1. Does it matter?\n",
    "def convert_gender(gender_string):\n",
    "    \"\"\"\n",
    "    Convert gender string to a binary value.\n",
    "    'female' is represented as 1, 'male' as 0.\n",
    "    Unknown values are converted to None.\n",
    "    \"\"\"\n",
    "    if gender_string.lower() == 'sex: female':\n",
    "        return 1\n",
    "    elif gender_string.lower() == 'sex: male':\n",
    "        return 0\n",
    "    else:\n",
    "        return None"
   ]
  },
  {
   "cell_type": "code",
   "execution_count": 26,
   "metadata": {},
   "outputs": [],
   "source": [
    "def get_feature_data(clinical_df, row_id, feature, convert_fn):\n",
    "    \"\"\"select the row corresponding to a feature in the sample characteristics dataframe, and convert the feature into\n",
    "    a binary or continuous variable\"\"\"\n",
    "    clinical_df = clinical_df.iloc[row_id:row_id + 1].drop(columns=['!Sample_geo_accession'], errors='ignore')\n",
    "    clinical_df.index = [feature]\n",
    "    clinical_df = clinical_df.applymap(convert_fn)\n",
    "\n",
    "    return clinical_df"
   ]
  },
  {
   "cell_type": "code",
   "execution_count": 27,
   "metadata": {},
   "outputs": [],
   "source": [
    "def geo_select_clinical_features(clinical_df: pd.DataFrame, trait: str, trait_row: int,\n",
    "                                 convert_trait: Callable,\n",
    "                                 age_row: Optional[int] = None,\n",
    "                                 convert_age: Optional[Callable] = None,\n",
    "                                 gender_row: Optional[int] = None,\n",
    "                                 convert_gender: Optional[Callable] = None) -> pd.DataFrame:\n",
    "    \"\"\"\n",
    "    Extracts and processes specific clinical features from a DataFrame representing\n",
    "    sample characteristics in the GEO database series.\n",
    "\n",
    "    Parameters:\n",
    "    - clinical_df (pd.DataFrame): DataFrame containing clinical data.\n",
    "    - trait (str): The trait of interest.\n",
    "    - trait_row (int): Row identifier for the trait in the DataFrame.\n",
    "    - convert_trait (Callable): Function to convert trait data into a desired format.\n",
    "    - age_row (int, optional): Row identifier for age data. Default is None.\n",
    "    - convert_age (Callable, optional): Function to convert age data. Default is None.\n",
    "    - gender_row (int, optional): Row identifier for gender data. Default is None.\n",
    "    - convert_gender (Callable, optional): Function to convert gender data. Default is None.\n",
    "\n",
    "    Returns:\n",
    "    pd.DataFrame: A DataFrame containing the selected and processed clinical features.\n",
    "    \"\"\"\n",
    "    feature_list = []\n",
    "\n",
    "    trait_data = get_feature_data(clinical_df, trait_row, trait, convert_trait)\n",
    "    feature_list.append(trait_data)\n",
    "    if age_row is not None:\n",
    "        age_data = get_feature_data(clinical_df, age_row, 'Age', convert_age)\n",
    "        feature_list.append(age_data)\n",
    "    if gender_row is not None:\n",
    "        gender_data = get_feature_data(clinical_df, gender_row, 'Gender', convert_gender)\n",
    "        feature_list.append(gender_data)\n",
    "\n",
    "    selected_clinical_df = pd.concat(feature_list, axis=0)\n",
    "    return selected_clinical_df"
   ]
  },
  {
   "cell_type": "code",
   "execution_count": 28,
   "metadata": {
    "ExecuteTime": {
     "end_time": "2024-01-10T21:40:11.684556802Z",
     "start_time": "2024-01-10T21:40:11.665079581Z"
    },
    "collapsed": false
   },
   "outputs": [
    {
     "data": {
      "text/html": [
       "<div>\n",
       "<style scoped>\n",
       "    .dataframe tbody tr th:only-of-type {\n",
       "        vertical-align: middle;\n",
       "    }\n",
       "\n",
       "    .dataframe tbody tr th {\n",
       "        vertical-align: top;\n",
       "    }\n",
       "\n",
       "    .dataframe thead th {\n",
       "        text-align: right;\n",
       "    }\n",
       "</style>\n",
       "<table border=\"1\" class=\"dataframe\">\n",
       "  <thead>\n",
       "    <tr style=\"text-align: right;\">\n",
       "      <th></th>\n",
       "      <th>GSM300389</th>\n",
       "      <th>GSM300390</th>\n",
       "      <th>GSM300391</th>\n",
       "      <th>GSM300392</th>\n",
       "      <th>GSM300393</th>\n",
       "      <th>GSM300394</th>\n",
       "      <th>GSM300395</th>\n",
       "      <th>GSM300396</th>\n",
       "      <th>GSM300397</th>\n",
       "      <th>GSM300398</th>\n",
       "      <th>...</th>\n",
       "      <th>GSM300412</th>\n",
       "      <th>GSM300413</th>\n",
       "      <th>GSM300414</th>\n",
       "      <th>GSM300415</th>\n",
       "      <th>GSM300416</th>\n",
       "      <th>GSM300417</th>\n",
       "      <th>GSM300418</th>\n",
       "      <th>GSM300419</th>\n",
       "      <th>GSM300420</th>\n",
       "      <th>GSM300421</th>\n",
       "    </tr>\n",
       "  </thead>\n",
       "  <tbody>\n",
       "    <tr>\n",
       "      <th>Ankylosing Spondylitis</th>\n",
       "      <td>1</td>\n",
       "      <td>1</td>\n",
       "      <td>1</td>\n",
       "      <td>1</td>\n",
       "      <td>1</td>\n",
       "      <td>1</td>\n",
       "      <td>1</td>\n",
       "      <td>1</td>\n",
       "      <td>1</td>\n",
       "      <td>0</td>\n",
       "      <td>...</td>\n",
       "      <td>0</td>\n",
       "      <td>0</td>\n",
       "      <td>0</td>\n",
       "      <td>0</td>\n",
       "      <td>0</td>\n",
       "      <td>0</td>\n",
       "      <td>0</td>\n",
       "      <td>0</td>\n",
       "      <td>0</td>\n",
       "      <td>0</td>\n",
       "    </tr>\n",
       "  </tbody>\n",
       "</table>\n",
       "<p>1 rows × 33 columns</p>\n",
       "</div>"
      ],
      "text/plain": [
       "                        GSM300389  GSM300390  GSM300391  GSM300392  GSM300393  \\\n",
       "Ankylosing Spondylitis          1          1          1          1          1   \n",
       "\n",
       "                        GSM300394  GSM300395  GSM300396  GSM300397  GSM300398  \\\n",
       "Ankylosing Spondylitis          1          1          1          1          0   \n",
       "\n",
       "                        ...  GSM300412  GSM300413  GSM300414  GSM300415  \\\n",
       "Ankylosing Spondylitis  ...          0          0          0          0   \n",
       "\n",
       "                        GSM300416  GSM300417  GSM300418  GSM300419  GSM300420  \\\n",
       "Ankylosing Spondylitis          0          0          0          0          0   \n",
       "\n",
       "                        GSM300421  \n",
       "Ankylosing Spondylitis          0  \n",
       "\n",
       "[1 rows x 33 columns]"
      ]
     },
     "execution_count": 28,
     "metadata": {},
     "output_type": "execute_result"
    }
   ],
   "source": [
    "selected_clinical_data = geo_select_clinical_features(clinical_data, TRAIT, trait_row, convert_trait, age_row=age_row,\n",
    "                                                      convert_age=convert_age, gender_row=gender_row,\n",
    "                                                      convert_gender=convert_gender)\n",
    "selected_clinical_data.head()"
   ]
  },
  {
   "cell_type": "markdown",
   "metadata": {
    "ExecuteTime": {
     "end_time": "2023-12-31T03:58:04.978664193Z",
     "start_time": "2023-12-31T03:58:04.966117261Z"
    },
    "collapsed": false
   },
   "source": [
    "### Genetic data preprocessing and final filtering"
   ]
  },
  {
   "cell_type": "code",
   "execution_count": 29,
   "metadata": {},
   "outputs": [],
   "source": [
    "def get_genetic_data(file_path):\n",
    "    \"\"\"Read the gene expression data into a dataframe, and adjust its format\"\"\"\n",
    "    genetic_data = pd.read_csv(file_path, compression='gzip', skiprows=52, comment='!', delimiter='\\t')\n",
    "    genetic_data = genetic_data.dropna()\n",
    "    genetic_data = genetic_data.rename(columns={'ID_REF': 'ID'}).astype({'ID': 'str'})\n",
    "    genetic_data.set_index('ID', inplace=True)\n",
    "\n",
    "    return genetic_data\n"
   ]
  },
  {
   "cell_type": "code",
   "execution_count": 30,
   "metadata": {
    "ExecuteTime": {
     "end_time": "2024-01-10T21:40:13.509252107Z",
     "start_time": "2024-01-10T21:40:13.468235630Z"
    },
    "collapsed": false
   },
   "outputs": [
    {
     "data": {
      "text/html": [
       "<div>\n",
       "<style scoped>\n",
       "    .dataframe tbody tr th:only-of-type {\n",
       "        vertical-align: middle;\n",
       "    }\n",
       "\n",
       "    .dataframe tbody tr th {\n",
       "        vertical-align: top;\n",
       "    }\n",
       "\n",
       "    .dataframe thead th {\n",
       "        text-align: right;\n",
       "    }\n",
       "</style>\n",
       "<table border=\"1\" class=\"dataframe\">\n",
       "  <thead>\n",
       "    <tr style=\"text-align: right;\">\n",
       "      <th></th>\n",
       "      <th>GSM300389</th>\n",
       "      <th>GSM300390</th>\n",
       "      <th>GSM300391</th>\n",
       "      <th>GSM300392</th>\n",
       "      <th>GSM300393</th>\n",
       "      <th>GSM300394</th>\n",
       "      <th>GSM300395</th>\n",
       "      <th>GSM300396</th>\n",
       "      <th>GSM300397</th>\n",
       "      <th>GSM300398</th>\n",
       "      <th>...</th>\n",
       "      <th>GSM300412</th>\n",
       "      <th>GSM300413</th>\n",
       "      <th>GSM300414</th>\n",
       "      <th>GSM300415</th>\n",
       "      <th>GSM300416</th>\n",
       "      <th>GSM300417</th>\n",
       "      <th>GSM300418</th>\n",
       "      <th>GSM300419</th>\n",
       "      <th>GSM300420</th>\n",
       "      <th>GSM300421</th>\n",
       "    </tr>\n",
       "    <tr>\n",
       "      <th>ID</th>\n",
       "      <th></th>\n",
       "      <th></th>\n",
       "      <th></th>\n",
       "      <th></th>\n",
       "      <th></th>\n",
       "      <th></th>\n",
       "      <th></th>\n",
       "      <th></th>\n",
       "      <th></th>\n",
       "      <th></th>\n",
       "      <th></th>\n",
       "      <th></th>\n",
       "      <th></th>\n",
       "      <th></th>\n",
       "      <th></th>\n",
       "      <th></th>\n",
       "      <th></th>\n",
       "      <th></th>\n",
       "      <th></th>\n",
       "      <th></th>\n",
       "      <th></th>\n",
       "    </tr>\n",
       "  </thead>\n",
       "  <tbody>\n",
       "    <tr>\n",
       "      <th>1007_s_at</th>\n",
       "      <td>0.315248</td>\n",
       "      <td>0.112150</td>\n",
       "      <td>0.070344</td>\n",
       "      <td>0.248315</td>\n",
       "      <td>0.020277</td>\n",
       "      <td>-0.150602</td>\n",
       "      <td>0.060186</td>\n",
       "      <td>-0.001738</td>\n",
       "      <td>0.139716</td>\n",
       "      <td>0.103189</td>\n",
       "      <td>...</td>\n",
       "      <td>0.076530</td>\n",
       "      <td>-0.004617</td>\n",
       "      <td>0.000000</td>\n",
       "      <td>0.154255</td>\n",
       "      <td>-0.010868</td>\n",
       "      <td>-0.270209</td>\n",
       "      <td>-0.055730</td>\n",
       "      <td>0.071297</td>\n",
       "      <td>0.110618</td>\n",
       "      <td>-0.171019</td>\n",
       "    </tr>\n",
       "    <tr>\n",
       "      <th>1053_at</th>\n",
       "      <td>-0.389087</td>\n",
       "      <td>-0.814719</td>\n",
       "      <td>-0.879279</td>\n",
       "      <td>-0.310306</td>\n",
       "      <td>-0.975432</td>\n",
       "      <td>-0.997373</td>\n",
       "      <td>-0.852638</td>\n",
       "      <td>-0.490865</td>\n",
       "      <td>-0.105638</td>\n",
       "      <td>0.232449</td>\n",
       "      <td>...</td>\n",
       "      <td>-0.721043</td>\n",
       "      <td>-0.932037</td>\n",
       "      <td>0.576449</td>\n",
       "      <td>0.601156</td>\n",
       "      <td>0.393908</td>\n",
       "      <td>0.478886</td>\n",
       "      <td>-0.259640</td>\n",
       "      <td>-0.210929</td>\n",
       "      <td>-0.120008</td>\n",
       "      <td>0.164282</td>\n",
       "    </tr>\n",
       "    <tr>\n",
       "      <th>117_at</th>\n",
       "      <td>0.080380</td>\n",
       "      <td>0.006952</td>\n",
       "      <td>0.128363</td>\n",
       "      <td>-0.112075</td>\n",
       "      <td>0.272227</td>\n",
       "      <td>0.141575</td>\n",
       "      <td>0.937242</td>\n",
       "      <td>0.018661</td>\n",
       "      <td>0.091574</td>\n",
       "      <td>-0.058224</td>\n",
       "      <td>...</td>\n",
       "      <td>-0.159909</td>\n",
       "      <td>0.021100</td>\n",
       "      <td>0.034181</td>\n",
       "      <td>0.000000</td>\n",
       "      <td>0.004055</td>\n",
       "      <td>-0.166020</td>\n",
       "      <td>-0.105684</td>\n",
       "      <td>-0.039442</td>\n",
       "      <td>-0.310866</td>\n",
       "      <td>-0.257435</td>\n",
       "    </tr>\n",
       "    <tr>\n",
       "      <th>121_at</th>\n",
       "      <td>0.159040</td>\n",
       "      <td>-0.029855</td>\n",
       "      <td>-0.065653</td>\n",
       "      <td>-0.014381</td>\n",
       "      <td>-0.015624</td>\n",
       "      <td>0.008447</td>\n",
       "      <td>-0.228561</td>\n",
       "      <td>-0.146182</td>\n",
       "      <td>0.123858</td>\n",
       "      <td>0.208845</td>\n",
       "      <td>...</td>\n",
       "      <td>-0.204799</td>\n",
       "      <td>-0.251754</td>\n",
       "      <td>-0.095480</td>\n",
       "      <td>0.245110</td>\n",
       "      <td>0.043694</td>\n",
       "      <td>-0.265528</td>\n",
       "      <td>0.124260</td>\n",
       "      <td>-0.075810</td>\n",
       "      <td>0.000000</td>\n",
       "      <td>-0.365727</td>\n",
       "    </tr>\n",
       "    <tr>\n",
       "      <th>1255_g_at</th>\n",
       "      <td>0.240606</td>\n",
       "      <td>0.073325</td>\n",
       "      <td>0.142995</td>\n",
       "      <td>0.058000</td>\n",
       "      <td>0.006382</td>\n",
       "      <td>0.239335</td>\n",
       "      <td>0.062448</td>\n",
       "      <td>0.221553</td>\n",
       "      <td>0.279908</td>\n",
       "      <td>0.000000</td>\n",
       "      <td>...</td>\n",
       "      <td>-0.003346</td>\n",
       "      <td>0.267826</td>\n",
       "      <td>0.149425</td>\n",
       "      <td>0.106815</td>\n",
       "      <td>0.047712</td>\n",
       "      <td>0.035424</td>\n",
       "      <td>0.042320</td>\n",
       "      <td>-0.025099</td>\n",
       "      <td>-0.018436</td>\n",
       "      <td>-0.038872</td>\n",
       "    </tr>\n",
       "  </tbody>\n",
       "</table>\n",
       "<p>5 rows × 33 columns</p>\n",
       "</div>"
      ],
      "text/plain": [
       "           GSM300389  GSM300390  GSM300391  GSM300392  GSM300393  GSM300394  \\\n",
       "ID                                                                            \n",
       "1007_s_at   0.315248   0.112150   0.070344   0.248315   0.020277  -0.150602   \n",
       "1053_at    -0.389087  -0.814719  -0.879279  -0.310306  -0.975432  -0.997373   \n",
       "117_at      0.080380   0.006952   0.128363  -0.112075   0.272227   0.141575   \n",
       "121_at      0.159040  -0.029855  -0.065653  -0.014381  -0.015624   0.008447   \n",
       "1255_g_at   0.240606   0.073325   0.142995   0.058000   0.006382   0.239335   \n",
       "\n",
       "           GSM300395  GSM300396  GSM300397  GSM300398  ...  GSM300412  \\\n",
       "ID                                                     ...              \n",
       "1007_s_at   0.060186  -0.001738   0.139716   0.103189  ...   0.076530   \n",
       "1053_at    -0.852638  -0.490865  -0.105638   0.232449  ...  -0.721043   \n",
       "117_at      0.937242   0.018661   0.091574  -0.058224  ...  -0.159909   \n",
       "121_at     -0.228561  -0.146182   0.123858   0.208845  ...  -0.204799   \n",
       "1255_g_at   0.062448   0.221553   0.279908   0.000000  ...  -0.003346   \n",
       "\n",
       "           GSM300413  GSM300414  GSM300415  GSM300416  GSM300417  GSM300418  \\\n",
       "ID                                                                            \n",
       "1007_s_at  -0.004617   0.000000   0.154255  -0.010868  -0.270209  -0.055730   \n",
       "1053_at    -0.932037   0.576449   0.601156   0.393908   0.478886  -0.259640   \n",
       "117_at      0.021100   0.034181   0.000000   0.004055  -0.166020  -0.105684   \n",
       "121_at     -0.251754  -0.095480   0.245110   0.043694  -0.265528   0.124260   \n",
       "1255_g_at   0.267826   0.149425   0.106815   0.047712   0.035424   0.042320   \n",
       "\n",
       "           GSM300419  GSM300420  GSM300421  \n",
       "ID                                          \n",
       "1007_s_at   0.071297   0.110618  -0.171019  \n",
       "1053_at    -0.210929  -0.120008   0.164282  \n",
       "117_at     -0.039442  -0.310866  -0.257435  \n",
       "121_at     -0.075810   0.000000  -0.365727  \n",
       "1255_g_at  -0.025099  -0.018436  -0.038872  \n",
       "\n",
       "[5 rows x 33 columns]"
      ]
     },
     "execution_count": 30,
     "metadata": {},
     "output_type": "execute_result"
    }
   ],
   "source": [
    "genetic_data = get_genetic_data(matrix_file)\n",
    "genetic_data.head()"
   ]
  },
  {
   "cell_type": "code",
   "execution_count": 31,
   "metadata": {
    "ExecuteTime": {
     "end_time": "2024-01-10T21:40:14.107050774Z",
     "start_time": "2024-01-10T21:40:14.090977173Z"
    },
    "collapsed": false
   },
   "outputs": [
    {
     "data": {
      "text/plain": [
       "['1007_s_at',\n",
       " '1053_at',\n",
       " '117_at',\n",
       " '121_at',\n",
       " '1255_g_at',\n",
       " '1294_at',\n",
       " '1316_at',\n",
       " '1320_at',\n",
       " '1405_i_at',\n",
       " '1431_at',\n",
       " '1438_at',\n",
       " '1487_at',\n",
       " '1494_f_at',\n",
       " '1552256_a_at',\n",
       " '1552257_a_at',\n",
       " '1552258_at',\n",
       " '1552261_at',\n",
       " '1552263_at',\n",
       " '1552264_a_at',\n",
       " '1552266_at']"
      ]
     },
     "execution_count": 31,
     "metadata": {},
     "output_type": "execute_result"
    }
   ],
   "source": [
    "gene_row_ids = genetic_data.index[:20].tolist()\n",
    "gene_row_ids"
   ]
  },
  {
   "cell_type": "markdown",
   "metadata": {
    "ExecuteTime": {
     "end_time": "2023-12-31T03:30:41.595335164Z",
     "start_time": "2023-12-31T03:30:41.513232329Z"
    },
    "collapsed": false
   },
   "source": [
    "Check if the gene dataset requires mapping to get the gene symbols corresponding to each data row."
   ]
  },
  {
   "cell_type": "markdown",
   "metadata": {
    "collapsed": false
   },
   "source": [
    "Reference prompt:"
   ]
  },
  {
   "cell_type": "code",
   "execution_count": 32,
   "metadata": {
    "ExecuteTime": {
     "end_time": "2024-01-10T21:40:16.445692615Z",
     "start_time": "2024-01-10T21:40:16.435117932Z"
    },
    "collapsed": false
   },
   "outputs": [
    {
     "data": {
      "text/plain": [
       "\"\\nBelow are the row headers of a gene expression dataset in GEO. Based on your biomedical knowledge, are they human gene symbols, or are they some other identifiers that need to be mapped to gene symbols? Your answer should be concluded by starting a new line and strictly following this format:\\nrequires_gene_mapping = (True or False)\\n\\nRow headers:\\n['1007_s_at', '1053_at', '117_at', '121_at', '1255_g_at', '1294_at', '1316_at', '1320_at', '1405_i_at', '1431_at', '1438_at', '1487_at', '1494_f_at', '1552256_a_at', '1552257_a_at', '1552258_at', '1552261_at', '1552263_at', '1552264_a_at', '1552266_at']\\n\""
      ]
     },
     "execution_count": 32,
     "metadata": {},
     "output_type": "execute_result"
    }
   ],
   "source": [
    "f'''\n",
    "Below are the row headers of a gene expression dataset in GEO. Based on your biomedical knowledge, are they human gene symbols, or are they some other identifiers that need to be mapped to gene symbols? Your answer should be concluded by starting a new line and strictly following this format:\n",
    "requires_gene_mapping = (True or False)\n",
    "\n",
    "Row headers:\n",
    "{gene_row_ids}\n",
    "'''"
   ]
  },
  {
   "cell_type": "markdown",
   "metadata": {
    "collapsed": false
   },
   "source": [
    "\n",
    "If not required, jump directly to the gene normalization step"
   ]
  },
  {
   "cell_type": "code",
   "execution_count": 33,
   "metadata": {
    "ExecuteTime": {
     "end_time": "2024-01-10T21:40:17.098774002Z",
     "start_time": "2024-01-10T21:40:17.094437169Z"
    },
    "collapsed": false
   },
   "outputs": [],
   "source": [
    "requires_gene_mapping = False"
   ]
  },
  {
   "cell_type": "code",
   "execution_count": 34,
   "metadata": {
    "ExecuteTime": {
     "end_time": "2024-01-10T21:40:17.399324928Z",
     "start_time": "2024-01-10T21:40:17.381475568Z"
    },
    "collapsed": false
   },
   "outputs": [],
   "source": [
    "if requires_gene_mapping:\n",
    "    gene_annotation = get_gene_annotation(soft_file)\n",
    "    gene_annotation_summary = preview_df(gene_annotation)\n",
    "    print(gene_annotation_summary)"
   ]
  },
  {
   "cell_type": "markdown",
   "metadata": {
    "ExecuteTime": {
     "end_time": "2023-12-31T03:58:04.978931927Z",
     "start_time": "2023-12-31T03:58:04.966328339Z"
    },
    "collapsed": false
   },
   "source": [
    "Observe the first few cells in the ID column of the gene annotation dataframe, to find the names of columns that store the gene probe IDs and gene symbols respectively.\n",
    "Reference prompt:"
   ]
  },
  {
   "cell_type": "code",
   "execution_count": 35,
   "metadata": {
    "ExecuteTime": {
     "end_time": "2024-01-10T21:40:17.944343822Z",
     "start_time": "2024-01-10T21:40:17.933815553Z"
    },
    "collapsed": false
   },
   "outputs": [],
   "source": [
    "if requires_gene_mapping:\n",
    "    print(f'''\n",
    "    As a biomedical research team, we are analyzing a gene expression dataset, and find that its row headers are some identifiers related to genes:\n",
    "    {gene_row_ids}\n",
    "    To get the mapping from those identifiers to actual gene symbols, we extracted the gene annotation data from a series in the GEO database, and saved it to a Python dictionary. Please read the dictionary, and decide which key stores the identifiers, and which key stores the gene symbols. Please strictly follow this format in your answer:\n",
    "    identifier_key = 'key_name1'\n",
    "    gene_symbol_key = 'key_name2'\n",
    "\n",
    "    Gene annotation dictionary:\n",
    "    {gene_annotation_summary}\n",
    "    ''')"
   ]
  },
  {
   "cell_type": "code",
   "execution_count": 36,
   "metadata": {
    "ExecuteTime": {
     "end_time": "2024-01-10T21:40:18.245811669Z",
     "start_time": "2024-01-10T21:40:18.234480277Z"
    },
    "collapsed": false
   },
   "outputs": [],
   "source": [
    "if requires_gene_mapping:\n",
    "    identifier_key = 'ID'\n",
    "    gene_symbol_key = 'UCSC_RefGene_Name'\n",
    "    gene_mapping = get_gene_mapping(gene_annotation, identifier_key, gene_symbol_key)\n",
    "    genetic_data = apply_gene_mapping(genetic_data, gene_mapping)"
   ]
  },
  {
   "cell_type": "code",
   "execution_count": 38,
   "metadata": {},
   "outputs": [],
   "source": [
    "def normalize_gene_symbols_in_index(gene_df):\n",
    "    \"\"\"Normalize the human gene symbols at the index of a dataframe, and replace the index with its normalized version.\n",
    "    Remove the rows where the index failed to be normalized.\"\"\"\n",
    "    normalized_gene_list = normalize_gene_symbols(gene_df.index.tolist())\n",
    "    assert len(normalized_gene_list) == len(gene_df.index)\n",
    "    gene_df.index = normalized_gene_list\n",
    "    gene_df = gene_df[gene_df.index.notnull()]\n",
    "    return gene_df"
   ]
  },
  {
   "cell_type": "code",
   "execution_count": 40,
   "metadata": {},
   "outputs": [],
   "source": [
    "def normalize_gene_symbols(gene_symbols, batch_size=1000):\n",
    "    \"\"\"Normalize human gene symbols in batches using the 'mygenes' library\"\"\"\n",
    "    mg = mygene.MyGeneInfo()\n",
    "    normalized_genes = {}\n",
    "\n",
    "    # Process in batches\n",
    "    for i in range(0, len(gene_symbols), batch_size):\n",
    "        batch = gene_symbols[i:i + batch_size]\n",
    "        results = mg.querymany(batch, scopes='symbol', fields='symbol', species='human')\n",
    "\n",
    "        # Update the normalized_genes dictionary with results from this batch\n",
    "        for gene in results:\n",
    "            normalized_genes[gene['query']] = gene.get('symbol', None)\n",
    "\n",
    "    # Return the normalized symbols in the same order as the input\n",
    "    return [normalized_genes.get(symbol) for symbol in gene_symbols]"
   ]
  },
  {
   "cell_type": "code",
   "execution_count": 42,
   "metadata": {},
   "outputs": [],
   "source": [
    "import mygene"
   ]
  },
  {
   "cell_type": "code",
   "execution_count": 43,
   "metadata": {
    "ExecuteTime": {
     "end_time": "2024-01-10T21:40:20.559860684Z",
     "start_time": "2024-01-10T21:40:18.521711414Z"
    },
    "collapsed": false
   },
   "outputs": [
    {
     "name": "stderr",
     "output_type": "stream",
     "text": [
      "1000 input query terms found no hit:\t['1007_s_at', '1053_at', '117_at', '121_at', '1255_g_at', '1294_at', '1316_at', '1320_at', '1405_i_a\n",
      "1000 input query terms found no hit:\t['1553625_at', '1553626_a_at', '1553627_s_at', '1553629_a_at', '1553630_at', '1553633_s_at', '155363\n",
      "1000 input query terms found no hit:\t['1555009_a_at', '1555011_at', '1555014_x_at', '1555015_a_at', '1555016_at', '1555018_at', '1555019_\n",
      "1000 input query terms found no hit:\t['1556425_a_at', '1556426_at', '1556427_s_at', '1556429_a_at', '1556432_at', '1556434_at', '1556435_\n",
      "1000 input query terms found no hit:\t['1557981_at', '1557984_s_at', '1557985_s_at', '1557986_s_at', '1557987_at', '1557991_at', '1557993_\n",
      "1000 input query terms found no hit:\t['1559795_at', '1559796_at', '1559800_a_at', '1559804_at', '1559806_at', '1559807_at', '1559808_at',\n",
      "1000 input query terms found no hit:\t['1561429_a_at', '1561430_s_at', '1561431_at', '1561432_at', '1561433_at', '1561434_at', '1561436_at\n",
      "1000 input query terms found no hit:\t['1563054_at', '1563055_at', '1563057_at', '1563059_at', '1563061_at', '1563062_at', '1563063_at', '\n",
      "1000 input query terms found no hit:\t['1565787_at', '1565788_at', '1565795_at', '1565797_at', '1565799_at', '1565800_x_at', '1565801_at',\n",
      "1000 input query terms found no hit:\t['1569042_at', '1569044_at', '1569048_s_at', '1569052_at', '1569053_at', '1569054_at', '1569057_s_at\n",
      "1000 input query terms found no hit:\t['200059_s_at', '200060_s_at', '200061_s_at', '200062_s_at', '200063_s_at', '200064_at', '200065_s_a\n",
      "1000 input query terms found no hit:\t['201552_at', '201553_s_at', '201554_x_at', '201555_at', '201556_s_at', '201557_at', '201558_at', '2\n",
      "1000 input query terms found no hit:\t['202552_s_at', '202553_s_at', '202554_s_at', '202555_s_at', '202556_s_at', '202557_at', '202558_s_a\n",
      "1000 input query terms found no hit:\t['203553_s_at', '203554_x_at', '203555_at', '203556_at', '203557_s_at', '203558_at', '203559_s_at', \n",
      "1000 input query terms found no hit:\t['204553_x_at', '204554_at', '204555_s_at', '204556_s_at', '204557_s_at', '204558_at', '204559_s_at'\n",
      "1000 input query terms found no hit:\t['205553_s_at', '205554_s_at', '205555_s_at', '205556_at', '205557_at', '205558_at', '205559_s_at', \n",
      "1000 input query terms found no hit:\t['206554_x_at', '206555_s_at', '206556_at', '206557_at', '206558_at', '206559_x_at', '206560_s_at', \n",
      "1000 input query terms found no hit:\t['207559_s_at', '207560_at', '207561_s_at', '207562_at', '207563_s_at', '207564_x_at', '207565_s_at'\n",
      "1000 input query terms found no hit:\t['208582_s_at', '208583_x_at', '208584_at', '208585_at', '208586_s_at', '208587_s_at', '208588_at', \n",
      "1000 input query terms found no hit:\t['209590_at', '209591_s_at', '209592_s_at', '209593_s_at', '209594_x_at', '209595_at', '209596_at', \n",
      "1000 input query terms found no hit:\t['210615_at', '210616_s_at', '210617_at', '210618_at', '210619_s_at', '210620_s_at', '210621_s_at', \n",
      "1000 input query terms found no hit:\t['211678_s_at', '211679_x_at', '211680_at', '211681_s_at', '211682_x_at', '211684_s_at', '211685_s_a\n",
      "1000 input query terms found no hit:\t['212695_at', '212696_s_at', '212697_at', '212698_s_at', '212699_at', '212700_x_at', '212701_at', '2\n",
      "1000 input query terms found no hit:\t['213700_s_at', '213701_at', '213702_x_at', '213703_at', '213704_at', '213705_at', '213706_at', '213\n",
      "1000 input query terms found no hit:\t['214704_at', '214705_at', '214706_at', '214707_x_at', '214708_at', '214709_s_at', '214710_s_at', '2\n",
      "1000 input query terms found no hit:\t['215707_s_at', '215708_s_at', '215709_at', '215710_at', '215711_s_at', '215712_s_at', '215713_at', \n",
      "1000 input query terms found no hit:\t['216710_x_at', '216711_s_at', '216712_at', '216713_at', '216714_at', '216715_at', '216716_at', '216\n",
      "1000 input query terms found no hit:\t['217715_x_at', '217716_s_at', '217717_s_at', '217718_s_at', '217719_at', '217720_at', '217721_at', \n",
      "1000 input query terms found no hit:\t['218716_x_at', '218717_s_at', '218718_at', '218719_s_at', '218720_x_at', '218721_s_at', '218722_s_a\n",
      "1000 input query terms found no hit:\t['219716_at', '219717_at', '219718_at', '219719_at', '219720_s_at', '219721_at', '219722_s_at', '219\n",
      "1000 input query terms found no hit:\t['220716_at', '220717_at', '220718_at', '220719_at', '220720_x_at', '220721_at', '220722_s_at', '220\n",
      "1000 input query terms found no hit:\t['221720_s_at', '221721_s_at', '221722_x_at', '221723_s_at', '221724_s_at', '221725_at', '221726_at'\n",
      "1000 input query terms found no hit:\t['222721_at', '222722_at', '222723_at', '222724_at', '222725_s_at', '222726_s_at', '222727_s_at', '2\n",
      "1000 input query terms found no hit:\t['223724_s_at', '223725_at', '223726_at', '223727_at', '223728_at', '223729_at', '223730_at', '22373\n",
      "1000 input query terms found no hit:\t['224741_x_at', '224742_at', '224743_at', '224744_at', '224745_x_at', '224746_at', '224747_at', '224\n",
      "1000 input query terms found no hit:\t['225743_at', '225744_at', '225745_at', '225746_at', '225747_at', '225748_at', '225749_at', '225750_\n",
      "1000 input query terms found no hit:\t['226745_at', '226746_s_at', '226747_at', '226748_at', '226749_at', '226750_at', '226751_at', '22675\n",
      "1000 input query terms found no hit:\t['227746_at', '227747_at', '227748_at', '227749_at', '227750_at', '227751_at', '227752_at', '227753_\n",
      "1000 input query terms found no hit:\t['228746_s_at', '228747_at', '228748_at', '228749_at', '228750_at', '228751_at', '228752_at', '22875\n",
      "1000 input query terms found no hit:\t['229746_x_at', '229747_x_at', '229748_x_at', '229749_at', '229750_at', '229751_s_at', '229752_at', \n",
      "1000 input query terms found no hit:\t['230746_s_at', '230747_s_at', '230748_at', '230749_s_at', '230750_at', '230751_at', '230752_at', '2\n",
      "1000 input query terms found no hit:\t['231746_at', '231747_at', '231748_at', '231749_at', '231750_at', '231751_at', '231752_at', '231753_\n",
      "1000 input query terms found no hit:\t['232747_at', '232748_at', '232749_at', '232750_at', '232751_at', '232752_at', '232753_at', '232754_\n",
      "1000 input query terms found no hit:\t['233749_at', '233750_s_at', '233751_at', '233752_s_at', '233753_at', '233754_x_at', '233755_at', '2\n",
      "1000 input query terms found no hit:\t['234751_s_at', '234752_x_at', '234753_x_at', '234754_at', '234755_x_at', '234756_at', '234757_at', \n",
      "1000 input query terms found no hit:\t['235751_s_at', '235752_at', '235753_at', '235754_at', '235755_at', '235756_at', '235757_at', '23575\n",
      "1000 input query terms found no hit:\t['236751_at', '236752_at', '236753_at', '236754_at', '236755_at', '236756_at', '236757_at', '236758_\n",
      "1000 input query terms found no hit:\t['237751_x_at', '237752_at', '237753_at', '237754_at', '237755_s_at', '237756_at', '237757_at', '237\n",
      "1000 input query terms found no hit:\t['238751_at', '238752_at', '238753_at', '238754_at', '238755_at', '238756_at', '238757_at', '238758_\n",
      "1000 input query terms found no hit:\t['239751_at', '239752_at', '239753_at', '239754_at', '239755_at', '239756_at', '239757_at', '239758_\n",
      "1000 input query terms found no hit:\t['240751_at', '240752_at', '240753_at', '240754_at', '240755_at', '240756_at', '240757_at', '240758_\n",
      "1000 input query terms found no hit:\t['241751_at', '241752_at', '241753_at', '241754_at', '241755_at', '241756_at', '241757_x_at', '24175\n",
      "1000 input query terms found no hit:\t['242751_at', '242752_at', '242753_x_at', '242754_at', '242755_at', '242756_at', '242757_at', '24275\n",
      "1000 input query terms found no hit:\t['243751_at', '243752_s_at', '243753_at', '243754_at', '243755_at', '243756_at', '243757_at', '24375\n",
      "675 input query terms found no hit:\t['244750_at', '244751_at', '244752_at', '244753_at', '244754_at', '244755_at', '244756_at', '244757_\n"
     ]
    }
   ],
   "source": [
    "if NORMALIZE_GENE:\n",
    "    genetic_data = normalize_gene_symbols_in_index(genetic_data)"
   ]
  },
  {
   "cell_type": "code",
   "execution_count": 44,
   "metadata": {},
   "outputs": [],
   "source": [
    "def geo_merge_clinical_genetic_data(clinical_df, genetic_df):\n",
    "    \"\"\"\n",
    "    Merge the clinical features and gene expression features from two dataframes into one dataframe\n",
    "    \"\"\"\n",
    "    if 'ID' in genetic_df.columns:\n",
    "        genetic_df = genetic_df.rename(columns={'ID': 'Gene'})\n",
    "    if 'Gene' in genetic_df.columns:\n",
    "        genetic_df = genetic_df.set_index('Gene')\n",
    "    merged_data = pd.concat([clinical_df, genetic_df], axis=0).T.dropna()\n",
    "    return merged_data\n"
   ]
  },
  {
   "cell_type": "code",
   "execution_count": 45,
   "metadata": {
    "ExecuteTime": {
     "end_time": "2024-01-10T21:40:20.572778564Z",
     "start_time": "2024-01-10T21:40:20.565101065Z"
    },
    "collapsed": false
   },
   "outputs": [],
   "source": [
    "merged_data = geo_merge_clinical_genetic_data(selected_clinical_data, genetic_data)\n",
    "# The preprocessing runs through, which means is_available should be True\n",
    "is_available = True"
   ]
  },
  {
   "cell_type": "code",
   "execution_count": 46,
   "metadata": {
    "ExecuteTime": {
     "end_time": "2024-01-10T21:40:20.595385887Z",
     "start_time": "2024-01-10T21:40:20.574630883Z"
    },
    "collapsed": false
   },
   "outputs": [
    {
     "name": "stdout",
     "output_type": "stream",
     "text": [
      "The merged dataset contains 33 samples.\n"
     ]
    }
   ],
   "source": [
    "print(f\"The merged dataset contains {len(merged_data)} samples.\")"
   ]
  },
  {
   "cell_type": "code",
   "execution_count": 48,
   "metadata": {},
   "outputs": [],
   "source": [
    "def judge_and_remove_biased_features(df, trait, trait_type):\n",
    "    assert trait_type in [\"binary\", \"continuous\"], f\"The trait must be either a binary or a continuous variable!\"\n",
    "    if trait_type == \"binary\":\n",
    "        trait_biased = judge_binary_variable_biased(df, trait)\n",
    "    else:\n",
    "        trait_biased = judge_continuous_variable_biased(df, trait)\n",
    "    if trait_biased:\n",
    "        print(f\"The distribution of the feature \\'{trait}\\' in this dataset is severely biased.\\n\")\n",
    "    else:\n",
    "        print(f\"The distribution of the feature \\'{trait}\\' in this dataset is fine.\\n\")\n",
    "    if \"Age\" in df.columns:\n",
    "        age_biased = judge_continuous_variable_biased(df, 'Age')\n",
    "        if age_biased:\n",
    "            print(f\"The distribution of the feature \\'Age\\' in this dataset is severely biased.\\n\")\n",
    "            df = df.drop(columns='Age')\n",
    "        else:\n",
    "            print(f\"The distribution of the feature \\'Age\\' in this dataset is fine.\\n\")\n",
    "    if \"Gender\" in df.columns:\n",
    "        gender_biased = judge_binary_variable_biased(df, 'Gender')\n",
    "        if gender_biased:\n",
    "            print(f\"The distribution of the feature \\'Gender\\' in this dataset is severely biased.\\n\")\n",
    "            df = df.drop(columns='Gender')\n",
    "        else:\n",
    "            print(f\"The distribution of the feature \\'Gender\\' in this dataset is fine.\\n\")\n",
    "\n",
    "    return trait_biased, df\n"
   ]
  },
  {
   "cell_type": "code",
   "execution_count": 50,
   "metadata": {},
   "outputs": [],
   "source": [
    "def judge_binary_variable_biased(dataframe, col_name, min_proportion=0.1, min_num=5):\n",
    "    \"\"\"\n",
    "    Check if the distribution of a binary variable in the dataset is too biased to be usable for analysis\n",
    "    :param dataframe:\n",
    "    :param col_name:\n",
    "    :param min_proportion:\n",
    "    :param min_num:\n",
    "    :return:\n",
    "    \"\"\"\n",
    "    label_counter = dataframe[col_name].value_counts()\n",
    "    total_samples = len(dataframe)\n",
    "    rare_label_num = label_counter.min()\n",
    "    rare_label = label_counter.idxmin()\n",
    "    rare_label_proportion = rare_label_num / total_samples\n",
    "\n",
    "    print(\n",
    "        f\"For the feature \\'{col_name}\\', the least common label is '{rare_label}' with {rare_label_num} occurrences. This represents {rare_label_proportion:.2%} of the dataset.\")\n",
    "\n",
    "    biased = (len(label_counter) < 2) or ((rare_label_proportion < min_proportion) and (rare_label_num < min_num))\n",
    "    return bool(biased)"
   ]
  },
  {
   "cell_type": "code",
   "execution_count": 51,
   "metadata": {
    "ExecuteTime": {
     "end_time": "2024-01-10T21:40:20.595934649Z",
     "start_time": "2024-01-10T21:40:20.580408525Z"
    },
    "collapsed": false
   },
   "outputs": [
    {
     "name": "stdout",
     "output_type": "stream",
     "text": [
      "For the feature 'Ankylosing Spondylitis', the least common label is '1.0' with 9 occurrences. This represents 27.27% of the dataset.\n",
      "The distribution of the feature 'Ankylosing Spondylitis' in this dataset is fine.\n",
      "\n"
     ]
    },
    {
     "data": {
      "text/plain": [
       "False"
      ]
     },
     "execution_count": 51,
     "metadata": {},
     "output_type": "execute_result"
    }
   ],
   "source": [
    "is_trait_biased, merged_data = judge_and_remove_biased_features(merged_data, TRAIT, trait_type=trait_type)\n",
    "is_trait_biased"
   ]
  },
  {
   "cell_type": "code",
   "execution_count": 53,
   "metadata": {},
   "outputs": [],
   "source": [
    "def save_cohort_info(cohort: str, info_path: str, is_available: bool, is_biased: Optional[bool] = None,\n",
    "                     df: Optional[pd.DataFrame] = None, note: str = '') -> None:\n",
    "    \"\"\"\n",
    "    Add or update information about the usability and quality of a dataset for statistical analysis.\n",
    "\n",
    "    Parameters:\n",
    "    cohort (str): A unique identifier for the dataset.\n",
    "    info_path (str): File path to the JSON file where records are stored.\n",
    "    is_available (bool): Indicates whether both the genetic data and trait data are available in the dataset, and can be\n",
    "     preprocessed into a dataframe.\n",
    "    is_biased (bool, optional): Indicates whether the dataset is too biased to be usable.\n",
    "        Required if `is_available` is True.\n",
    "    df (pandas.DataFrame, optional): The preprocessed dataset. Required if `is_available` is True.\n",
    "    note (str, optional): Additional notes about the dataset.\n",
    "\n",
    "    Returns:\n",
    "    None: The function does not return a value but updates or creates a record in the specified JSON file.\n",
    "    \"\"\"\n",
    "    if is_available:\n",
    "        assert (df is not None) and (is_biased is not None), \"'df' and 'is_biased' should be provided if this cohort \" \\\n",
    "                                                             \"is relevant.\"\n",
    "    is_usable = is_available and (not is_biased)\n",
    "    new_record = {\"is_usable\": is_usable,\n",
    "                  \"is_available\": is_available,\n",
    "                  \"is_biased\": is_biased if is_available else None,\n",
    "                  \"has_age\": \"Age\" in df.columns if is_available else None,\n",
    "                  \"has_gender\": \"Gender\" in df.columns if is_available else None,\n",
    "                  \"sample_size\": len(df) if is_available else None,\n",
    "                  \"note\": note}\n",
    "    \n",
    "    if not os.path.exists(info_path):\n",
    "        with open(info_path, 'w') as file:\n",
    "            json.dump({}, file)\n",
    "        print(f\"A new JSON file was created at: {info_path}\")\n",
    "\n",
    "    with open(info_path, \"r\") as file:\n",
    "        records = json.load(file)\n",
    "    records[cohort] = new_record\n",
    "\n",
    "    temp_path = info_path + \".tmp\"\n",
    "    try:\n",
    "        with open(temp_path, 'w') as file:\n",
    "            json.dump(records, file)\n",
    "        os.replace(temp_path, info_path)\n",
    "\n",
    "    except Exception as e:\n",
    "        print(f\"An error occurred: {e}\")\n",
    "        if os.path.exists(temp_path):\n",
    "            os.remove(temp_path)\n",
    "        raise"
   ]
  },
  {
   "cell_type": "code",
   "execution_count": 55,
   "metadata": {
    "ExecuteTime": {
     "end_time": "2024-01-10T21:40:20.596022151Z",
     "start_time": "2024-01-10T21:40:20.588443384Z"
    },
    "collapsed": false
   },
   "outputs": [],
   "source": [
    "import json\n",
    "if is_available:\n",
    "    save_cohort_info(cohort, JSON_PATH, is_available, is_trait_biased, merged_data, note='')\n",
    "else:\n",
    "    save_cohort_info(cohort, JSON_PATH, is_available)"
   ]
  },
  {
   "cell_type": "code",
   "execution_count": 56,
   "metadata": {
    "ExecuteTime": {
     "end_time": "2024-01-10T21:40:20.681345468Z",
     "start_time": "2024-01-10T21:40:20.591286171Z"
    },
    "collapsed": false
   },
   "outputs": [],
   "source": [
    "merged_data.head()\n",
    "if not is_trait_biased:\n",
    "    merged_data.to_csv(os.path.join(OUTPUT_DIR, cohort + '.csv'), index=False)"
   ]
  },
  {
   "cell_type": "markdown",
   "metadata": {
    "ExecuteTime": {
     "end_time": "2023-12-31T03:58:22.271683755Z",
     "start_time": "2023-12-31T03:58:22.246557674Z"
    },
    "id": "-MTPhRGxJV7I"
   },
   "source": [
    "### 3. Do regression & Cross Validation"
   ]
  },
  {
   "cell_type": "code",
   "execution_count": 57,
   "metadata": {},
   "outputs": [],
   "source": [
    "def read_json_to_dataframe(json_file: str) -> pd.DataFrame:\n",
    "    \"\"\"\n",
    "    Reads a JSON file and converts it into a pandas DataFrame.\n",
    "\n",
    "    Args:\n",
    "    json_file (str): The path to the JSON file containing the data.\n",
    "\n",
    "    Returns:\n",
    "    DataFrame: A pandas DataFrame with the JSON data.\n",
    "    \"\"\"\n",
    "    with open(json_file, 'r') as file:\n",
    "        data = json.load(file)\n",
    "    return pd.DataFrame.from_dict(data, orient='index').reset_index().rename(columns={'index': 'cohort_id'})"
   ]
  },
  {
   "cell_type": "code",
   "execution_count": 58,
   "metadata": {},
   "outputs": [],
   "source": [
    "def filter_and_rank_cohorts(json_file: str, condition: Union[str, None] = None) -> Tuple[\n",
    "    Union[str, None], pd.DataFrame]:\n",
    "    \"\"\"\n",
    "    Reads a JSON file, filters cohorts based on usability and an optional condition, then ranks them by sample size.\n",
    "\n",
    "    Args:\n",
    "    json_file (str): The path to the JSON file containing the data.\n",
    "    condition (str, optional): An additional condition for filtering. If None, only 'is_usable' is considered.\n",
    "\n",
    "    Returns:\n",
    "    Tuple: A tuple containing the best cohort ID (str or None if no suitable cohort is found) and\n",
    "           the filtered and ranked DataFrame.\n",
    "    \"\"\"\n",
    "    # Read the JSON file into a DataFrame\n",
    "    df = read_json_to_dataframe(json_file)\n",
    "\n",
    "    if condition:\n",
    "        filtered_df = df[(df['is_usable'] == True) & (df[condition] == True)]\n",
    "    else:\n",
    "        filtered_df = df[df['is_usable'] == True]\n",
    "\n",
    "    ranked_df = filtered_df.sort_values(by='sample_size', ascending=False)\n",
    "    best_cohort_id = ranked_df.iloc[0]['cohort_id'] if not ranked_df.empty else None\n",
    "\n",
    "    return best_cohort_id, ranked_df\n"
   ]
  },
  {
   "cell_type": "code",
   "execution_count": 59,
   "metadata": {
    "ExecuteTime": {
     "end_time": "2024-01-10T21:40:20.694597045Z",
     "start_time": "2024-01-10T21:40:20.642161512Z"
    },
    "collapsed": false
   },
   "outputs": [
    {
     "data": {
      "text/html": [
       "<div>\n",
       "<style scoped>\n",
       "    .dataframe tbody tr th:only-of-type {\n",
       "        vertical-align: middle;\n",
       "    }\n",
       "\n",
       "    .dataframe tbody tr th {\n",
       "        vertical-align: top;\n",
       "    }\n",
       "\n",
       "    .dataframe thead th {\n",
       "        text-align: right;\n",
       "    }\n",
       "</style>\n",
       "<table border=\"1\" class=\"dataframe\">\n",
       "  <thead>\n",
       "    <tr style=\"text-align: right;\">\n",
       "      <th></th>\n",
       "      <th>cohort_id</th>\n",
       "      <th>is_usable</th>\n",
       "      <th>is_available</th>\n",
       "      <th>is_biased</th>\n",
       "      <th>has_age</th>\n",
       "      <th>has_gender</th>\n",
       "      <th>sample_size</th>\n",
       "      <th>note</th>\n",
       "    </tr>\n",
       "  </thead>\n",
       "  <tbody>\n",
       "    <tr>\n",
       "      <th>0</th>\n",
       "      <td>GSE11886</td>\n",
       "      <td>True</td>\n",
       "      <td>True</td>\n",
       "      <td>False</td>\n",
       "      <td>False</td>\n",
       "      <td>False</td>\n",
       "      <td>33</td>\n",
       "      <td></td>\n",
       "    </tr>\n",
       "  </tbody>\n",
       "</table>\n",
       "</div>"
      ],
      "text/plain": [
       "  cohort_id  is_usable  is_available  is_biased  has_age  has_gender  \\\n",
       "0  GSE11886       True          True      False    False       False   \n",
       "\n",
       "   sample_size note  \n",
       "0           33       "
      ]
     },
     "execution_count": 59,
     "metadata": {},
     "output_type": "execute_result"
    }
   ],
   "source": [
    "# Check the information of usable cohorts\n",
    "best_cohort, ranked_df = filter_and_rank_cohorts(JSON_PATH)\n",
    "ranked_df"
   ]
  },
  {
   "cell_type": "code",
   "execution_count": 60,
   "metadata": {
    "ExecuteTime": {
     "end_time": "2024-01-10T21:40:20.907514912Z",
     "start_time": "2024-01-10T21:40:20.907178250Z"
    },
    "collapsed": false
   },
   "outputs": [],
   "source": [
    "# If both age and gender have available cohorts, select 'age' as the condition.\n",
    "condition = 'Age'\n",
    "filter_column = 'has_' + condition.lower()\n",
    "\n",
    "condition_best_cohort, condition_ranked_df = filter_and_rank_cohorts(JSON_PATH, filter_column)\n",
    "condition_best_cohort"
   ]
  },
  {
   "cell_type": "code",
   "execution_count": 61,
   "metadata": {
    "ExecuteTime": {
     "end_time": "2024-01-10T21:40:21.120075804Z",
     "start_time": "2024-01-10T21:40:21.109376558Z"
    },
    "collapsed": false
   },
   "outputs": [
    {
     "data": {
      "text/html": [
       "<div>\n",
       "<style scoped>\n",
       "    .dataframe tbody tr th:only-of-type {\n",
       "        vertical-align: middle;\n",
       "    }\n",
       "\n",
       "    .dataframe tbody tr th {\n",
       "        vertical-align: top;\n",
       "    }\n",
       "\n",
       "    .dataframe thead th {\n",
       "        text-align: right;\n",
       "    }\n",
       "</style>\n",
       "<table border=\"1\" class=\"dataframe\">\n",
       "  <thead>\n",
       "    <tr style=\"text-align: right;\">\n",
       "      <th></th>\n",
       "      <th>cohort_id</th>\n",
       "      <th>is_usable</th>\n",
       "      <th>is_available</th>\n",
       "      <th>is_biased</th>\n",
       "      <th>has_age</th>\n",
       "      <th>has_gender</th>\n",
       "      <th>sample_size</th>\n",
       "      <th>note</th>\n",
       "    </tr>\n",
       "  </thead>\n",
       "  <tbody>\n",
       "  </tbody>\n",
       "</table>\n",
       "</div>"
      ],
      "text/plain": [
       "Empty DataFrame\n",
       "Columns: [cohort_id, is_usable, is_available, is_biased, has_age, has_gender, sample_size, note]\n",
       "Index: []"
      ]
     },
     "execution_count": 61,
     "metadata": {},
     "output_type": "execute_result"
    }
   ],
   "source": [
    "condition_ranked_df.head()"
   ]
  },
  {
   "cell_type": "code",
   "execution_count": 62,
   "metadata": {
    "ExecuteTime": {
     "end_time": "2024-01-10T21:40:27.295070023Z",
     "start_time": "2024-01-10T21:40:21.338515691Z"
    },
    "collapsed": false
   },
   "outputs": [
    {
     "ename": "TypeError",
     "evalue": "unsupported operand type(s) for +: 'NoneType' and 'str'",
     "output_type": "error",
     "traceback": [
      "\u001b[0;31m---------------------------------------------------------------------------\u001b[0m",
      "\u001b[0;31mTypeError\u001b[0m                                 Traceback (most recent call last)",
      "Input \u001b[0;32mIn [62]\u001b[0m, in \u001b[0;36m<cell line: 1>\u001b[0;34m()\u001b[0m\n\u001b[0;32m----> 1\u001b[0m merged_data \u001b[38;5;241m=\u001b[39m pd\u001b[38;5;241m.\u001b[39mread_csv(os\u001b[38;5;241m.\u001b[39mpath\u001b[38;5;241m.\u001b[39mjoin(OUTPUT_DIR, \u001b[43mcondition_best_cohort\u001b[49m\u001b[43m \u001b[49m\u001b[38;5;241;43m+\u001b[39;49m\u001b[43m \u001b[49m\u001b[38;5;124;43m'\u001b[39;49m\u001b[38;5;124;43m.csv\u001b[39;49m\u001b[38;5;124;43m'\u001b[39;49m))\n\u001b[1;32m      2\u001b[0m merged_data\u001b[38;5;241m.\u001b[39mhead()\n",
      "\u001b[0;31mTypeError\u001b[0m: unsupported operand type(s) for +: 'NoneType' and 'str'"
     ]
    }
   ],
   "source": [
    "merged_data = pd.read_csv(os.path.join(OUTPUT_DIR, condition_best_cohort + '.csv'))\n",
    "merged_data.head()"
   ]
  },
  {
   "cell_type": "code",
   "execution_count": null,
   "metadata": {
    "ExecuteTime": {
     "end_time": "2024-01-10T21:40:27.358779256Z",
     "start_time": "2024-01-10T21:40:27.271337819Z"
    },
    "collapsed": false
   },
   "outputs": [],
   "source": [
    "# Remove the other condition to prevent interference.\n",
    "merged_data = merged_data.drop(columns=['Gender'], errors='ignore').astype('float')\n",
    "\n",
    "X = merged_data.drop(columns=[TRAIT, condition]).values\n",
    "Y = merged_data[TRAIT].values\n",
    "Z = merged_data[condition].values"
   ]
  },
  {
   "cell_type": "markdown",
   "metadata": {
    "collapsed": false
   },
   "source": [
    "Select the appropriate regression model depending on whether the dataset shows batch effect."
   ]
  },
  {
   "cell_type": "code",
   "execution_count": null,
   "metadata": {
    "ExecuteTime": {
     "end_time": "2024-01-10T21:40:27.546590575Z",
     "start_time": "2024-01-10T21:40:27.298495045Z"
    },
    "collapsed": false
   },
   "outputs": [],
   "source": [
    "has_batch_effect = detect_batch_effect(X)\n",
    "has_batch_effect"
   ]
  },
  {
   "cell_type": "code",
   "execution_count": null,
   "metadata": {
    "ExecuteTime": {
     "end_time": "2024-01-10T21:40:27.546733889Z",
     "start_time": "2024-01-10T21:40:27.535249532Z"
    },
    "collapsed": false
   },
   "outputs": [],
   "source": [
    "# Select appropriate models based on whether the dataset has batch effect.\n",
    "# We experiment on two models for each branch. We will decide which one to choose later.\n",
    "\n",
    "if has_batch_effect:\n",
    "    model_constructor1 = VariableSelection\n",
    "    model_params1 = {'modified': True, 'lamda': 3e-4}\n",
    "    model_constructor2 = VariableSelection\n",
    "    model_params2 = {'modified': False}\n",
    "else:\n",
    "    model_constructor1 = Lasso\n",
    "    model_params1 = {'alpha': 1.0, 'random_state': 42}\n",
    "    model_constructor2 = VariableSelection\n",
    "    model_params2 = {'modified': False}"
   ]
  },
  {
   "cell_type": "code",
   "execution_count": null,
   "metadata": {
    "ExecuteTime": {
     "end_time": "2024-01-10T21:40:30.570471636Z",
     "start_time": "2024-01-10T21:40:27.546295159Z"
    },
    "collapsed": false
   },
   "outputs": [],
   "source": [
    "trait_type = 'binary'  # Remember to set this properly, either 'binary' or 'continuous'\n",
    "cv_mean1, cv_std1 = cross_validation(X, Y, Z, model_constructor1, model_params1, target_type=trait_type)"
   ]
  },
  {
   "cell_type": "code",
   "execution_count": null,
   "metadata": {
    "ExecuteTime": {
     "end_time": "2024-01-10T21:40:47.575878022Z",
     "start_time": "2024-01-10T21:40:30.570907992Z"
    },
    "collapsed": false
   },
   "outputs": [],
   "source": [
    "cv_mean2, cv_std2 = cross_validation(X, Y, Z, model_constructor2, model_params2, target_type=trait_type)"
   ]
  },
  {
   "cell_type": "code",
   "execution_count": null,
   "metadata": {
    "ExecuteTime": {
     "end_time": "2024-01-10T21:40:51.663737008Z",
     "start_time": "2024-01-10T21:40:47.576021186Z"
    },
    "collapsed": false
   },
   "outputs": [],
   "source": [
    "normalized_X, _ = normalize_data(X)\n",
    "normalized_Z, _ = normalize_data(Z)\n",
    "\n",
    "# Train regression model on the whole dataset to identify significant genes\n",
    "model1 = ResidualizationRegressor(model_constructor1, model_params1)\n",
    "model1.fit(normalized_X, Y, normalized_Z)\n",
    "\n",
    "model2 = ResidualizationRegressor(model_constructor2, model_params2)\n",
    "model2.fit(normalized_X, Y, normalized_Z)"
   ]
  },
  {
   "cell_type": "markdown",
   "metadata": {
    "ExecuteTime": {
     "end_time": "2023-10-14T04:50:59.072075075Z",
     "start_time": "2023-10-14T04:50:38.739499998Z"
    },
    "id": "EjJrxbvb4nlj"
   },
   "source": [
    "### 4. Discussion and report"
   ]
  },
  {
   "cell_type": "code",
   "execution_count": null,
   "metadata": {
    "ExecuteTime": {
     "end_time": "2024-01-10T21:40:51.673565176Z",
     "start_time": "2024-01-10T21:40:51.665291317Z"
    },
    "collapsed": false
   },
   "outputs": [],
   "source": [
    "feature_cols = merged_data.columns.tolist()\n",
    "feature_cols.remove(TRAIT)\n",
    "\n",
    "threshold = 0.05\n",
    "interpret_result(model1, feature_cols, TRAIT, condition, threshold=threshold, save_output=True,\n",
    "                 output_dir=OUTPUT_DIR, model_id=1)"
   ]
  },
  {
   "cell_type": "code",
   "execution_count": null,
   "metadata": {
    "ExecuteTime": {
     "end_time": "2024-01-10T21:40:51.730825913Z",
     "start_time": "2024-01-10T21:40:51.675049728Z"
    },
    "collapsed": false
   },
   "outputs": [],
   "source": [
    "interpret_result(model2, feature_cols, TRAIT, condition, threshold=threshold, save_output=True,\n",
    "                 output_dir=OUTPUT_DIR, model_id=2)"
   ]
  },
  {
   "cell_type": "code",
   "execution_count": null,
   "metadata": {
    "collapsed": false
   },
   "outputs": [],
   "source": []
  }
 ],
 "metadata": {
  "colab": {
   "provenance": []
  },
  "kernelspec": {
   "display_name": "Python 3 (ipykernel)",
   "language": "python",
   "name": "python3"
  },
  "language_info": {
   "codemirror_mode": {
    "name": "ipython",
    "version": 3
   },
   "file_extension": ".py",
   "mimetype": "text/x-python",
   "name": "python",
   "nbconvert_exporter": "python",
   "pygments_lexer": "ipython3",
   "version": "3.10.6"
  }
 },
 "nbformat": 4,
 "nbformat_minor": 0
}
