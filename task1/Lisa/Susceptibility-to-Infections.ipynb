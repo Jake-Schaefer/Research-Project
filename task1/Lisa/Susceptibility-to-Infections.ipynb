{
 "cells": [
  {
   "cell_type": "markdown",
   "metadata": {
    "collapsed": false
   },
   "source": [
    "# Gold standard curation: Preprocessing and single-step regression"
   ]
  },
  {
   "cell_type": "markdown",
   "metadata": {
    "collapsed": false
   },
   "source": [
    "In this stage of gold standard curation, we will do the data preprocessing, selection, and single-step regression for the 153 traits in our question set. The workflow consists of the following steps:\n",
    "\n",
    "1. Preprocess all the cohorts related to this trait. Each cohort should be converted to a tabular form and saved to a csv file, with columns being genetic factors, the trait, and age, gender if available;\n",
    "2. If there exists at least one cohort with age or gender information, conduct regression analysis with genetic features together with age or gender as the regressors.\n"
   ]
  },
  {
   "cell_type": "markdown",
   "metadata": {
    "collapsed": false
   },
   "source": [
    "# 1. Basic setup"
   ]
  },
  {
   "cell_type": "code",
   "execution_count": 14,
   "metadata": {
    "ExecuteTime": {
     "end_time": "2024-01-02T01:02:53.240839272Z",
     "start_time": "2024-01-02T01:02:53.240575109Z"
    },
    "collapsed": false
   },
   "outputs": [],
   "source": [
    "import os\n",
    "import sys\n",
    "from utils import *\n",
    "\n",
    "sys.path.append('..')\n",
    "# Set your preferred name\n",
    "USER = \"Lisa\"\n",
    "# Set the data and output directories\n",
    "DATA_ROOT = '/Users/wjt/Desktop/is_data'\n",
    "OUTPUT_ROOT = '/Users/wjt/Desktop/is_data/v1'\n",
    "TRAIT = 'Susceptibility-to-Infections'\n",
    "\n",
    "OUTPUT_DIR = os.path.join(OUTPUT_ROOT, USER, '-'.join(TRAIT.split()))\n",
    "JSON_PATH = os.path.join(OUTPUT_DIR, \"cohort_info.json\")\n",
    "if not os.path.exists(OUTPUT_DIR):\n",
    "    os.makedirs(OUTPUT_DIR, exist_ok=True)\n",
    "\n",
    "# Gene symbol normalization may take 1-2 minutes. You may set it to False for debugging.\n",
    "NORMALIZE_GENE = True"
   ]
  },
  {
   "cell_type": "code",
   "execution_count": 25,
   "metadata": {
    "ExecuteTime": {
     "end_time": "2024-01-02T01:02:53.501910797Z",
     "start_time": "2024-01-02T01:02:53.496254990Z"
    },
    "colab": {
     "base_uri": "https://localhost:8080/"
    },
    "id": "jMTdsU43vVg3",
    "outputId": "38886111-f442-44b4-8398-96bf384d7abd"
   },
   "outputs": [
    {
     "data": {
      "text/plain": [
       "\"import os\\nfrom google.colab import drive\\n\\ndrive.mount('/content/drive', force_remount=True)\\nproj_dir = '/content/drive/MyDrive/AI4Science_Public'\\nos.chdir(proj_dir)\""
      ]
     },
     "execution_count": 25,
     "metadata": {},
     "output_type": "execute_result"
    }
   ],
   "source": [
    "# This cell is only for use on Google Colab. Skip it if you run your code in other environments\n",
    "\n",
    "\"\"\"import os\n",
    "from google.colab import drive\n",
    "\n",
    "drive.mount('/content/drive', force_remount=True)\n",
    "proj_dir = '/content/drive/MyDrive/AI4Science_Public'\n",
    "os.chdir(proj_dir)\"\"\""
   ]
  },
  {
   "cell_type": "markdown",
   "metadata": {
    "collapsed": false
   },
   "source": [
    "# 2. Data preprocessing and selection"
   ]
  },
  {
   "cell_type": "markdown",
   "metadata": {
    "collapsed": false
   },
   "source": [
    "## 2.1. The TCGA Xena dataset"
   ]
  },
  {
   "cell_type": "markdown",
   "metadata": {
    "collapsed": false
   },
   "source": [
    "In TCGA Xena, there is either zero or one cohort related to the trait. We search the names of subdirectories to see if any matches the trait. If a match is found, we directly obtain the file paths."
   ]
  },
  {
   "cell_type": "code",
   "execution_count": 9,
   "metadata": {
    "ExecuteTime": {
     "end_time": "2024-01-02T01:02:56.462746833Z",
     "start_time": "2024-01-02T01:02:55.818581842Z"
    },
    "collapsed": false
   },
   "outputs": [
    {
     "data": {
      "text/plain": [
       "['TCGA_Adrenocortical_Cancer_(ACC)',\n",
       " 'TCGA_Bile_Duct_Cancer_(CHOL)',\n",
       " 'TCGA_Lower_Grade_Glioma_(LGG)',\n",
       " 'TCGA_Acute_Myeloid_Leukemia_(LAML)',\n",
       " 'TCGA_Esophageal_Cancer_(ESCA)',\n",
       " 'TCGA_Thyroid_Cancer_(THCA)',\n",
       " 'TCGA_Ocular_melanomas_(UVM)',\n",
       " 'TCGA_Ovarian_Cancer_(OV)',\n",
       " 'TCGA_Prostate_Cancer_(PRAD)',\n",
       " 'CrawlData.ipynb',\n",
       " 'TCGA_Kidney_Papillary_Cell_Carcinoma_(KIRP)',\n",
       " 'TCGA_Lung_Cancer_(LUNG)',\n",
       " 'TCGA_Endometrioid_Cancer_(UCEC)',\n",
       " 'TCGA_Testicular_Cancer_(TGCT)',\n",
       " 'TCGA_lower_grade_glioma_and_glioblastoma_(GBMLGG)',\n",
       " 'TCGA_Pancreatic_Cancer_(PAAD)',\n",
       " 'TCGA_Glioblastoma_(GBM)',\n",
       " 'TCGA_Melanoma_(SKCM)',\n",
       " 'TCGA_Kidney_Clear_Cell_Carcinoma_(KIRC)',\n",
       " 'TCGA_Mesothelioma_(MESO)',\n",
       " 'TCGA_Rectal_Cancer_(READ)',\n",
       " 'TCGA_Head_and_Neck_Cancer_(HNSC)',\n",
       " 'TCGA_Large_Bcell_Lymphoma_(DLBC)',\n",
       " 'TCGA_Uterine_Carcinosarcoma_(UCS)',\n",
       " 'TCGA_Colon_Cancer_(COAD)',\n",
       " 'TCGA_Breast_Cancer_(BRCA)',\n",
       " 'TCGA_Bladder_Cancer_(BLCA)',\n",
       " 'TCGA_Sarcoma_(SARC)',\n",
       " 'TCGA_Lung_Squamous_Cell_Carcinoma_(LUSC)',\n",
       " 'TCGA_Cervical_Cancer_(CESC)',\n",
       " 'TCGA_Kidney_Chromophobe_(KICH)',\n",
       " 'TCGA_Stomach_Cancer_(STAD)',\n",
       " 'TCGA_Lung_Adenocarcinoma_(LUAD)',\n",
       " '.DS_Store',\n",
       " 'TCGA_Thymoma_(THYM)',\n",
       " 'TCGA_Colon_and_Rectal_Cancer_(COADREAD)',\n",
       " 'TCGA_Pheochromocytoma_Paraganglioma_(PCPG)',\n",
       " 'TCGA_Liver_Cancer_(LIHC)']"
      ]
     },
     "execution_count": 9,
     "metadata": {},
     "output_type": "execute_result"
    }
   ],
   "source": [
    "import os\n",
    "from utils import *\n",
    "\n",
    "dataset = 'TCGA'\n",
    "dataset_dir = os.path.join(DATA_ROOT, dataset)\n",
    "os.listdir(dataset_dir)[:]"
   ]
  },
  {
   "cell_type": "markdown",
   "metadata": {
    "collapsed": false
   },
   "source": [
    "If no match is found, jump directly to GEO in Part 2.2"
   ]
  },
  {
   "cell_type": "code",
   "execution_count": 8,
   "metadata": {
    "collapsed": false
   },
   "outputs": [],
   "source": [
    "trait_subdir = \"TCGA_Lung_Cancer_(LUNG)\"\n",
    "cohort = 'Xena'\n",
    "# All the cancer traits in Xena are binary\n",
    "trait_type = 'binary'\n",
    "# Once a relevant cohort is found in Xena, we can generally assume the gene and clinical data are available\n",
    "is_available = True\n",
    "\n",
    "clinical_data_file = os.path.join(dataset_dir, trait_subdir, 'TCGA.LUNG.sampleMap_LUNG_clinicalMatrix')\n",
    "genetic_data_file = os.path.join(dataset_dir, trait_subdir, 'TCGA.LUNG.sampleMap_HiSeqV2_PANCAN.gz')"
   ]
  },
  {
   "cell_type": "code",
   "execution_count": 7,
   "metadata": {
    "id": "MudwB-_iz7sc"
   },
   "outputs": [
    {
     "ename": "NameError",
     "evalue": "name 'clinical_data_file' is not defined",
     "output_type": "error",
     "traceback": [
      "\u001b[0;31m---------------------------------------------------------------------------\u001b[0m",
      "\u001b[0;31mNameError\u001b[0m                                 Traceback (most recent call last)",
      "\u001b[1;32m/home/yxcheng/AI4Science_gold_standard/stage1/YIjiang/Susceptibility-to-Infections.ipynb 单元格 12\u001b[0m line \u001b[0;36m3\n\u001b[1;32m      <a href='vscode-notebook-cell://ssh-remote%2B218.199.69.68/home/yxcheng/AI4Science_gold_standard/stage1/YIjiang/Susceptibility-to-Infections.ipynb#X14sdnNjb2RlLXJlbW90ZQ%3D%3D?line=0'>1</a>\u001b[0m \u001b[39mimport\u001b[39;00m \u001b[39mpandas\u001b[39;00m \u001b[39mas\u001b[39;00m \u001b[39mpd\u001b[39;00m\n\u001b[0;32m----> <a href='vscode-notebook-cell://ssh-remote%2B218.199.69.68/home/yxcheng/AI4Science_gold_standard/stage1/YIjiang/Susceptibility-to-Infections.ipynb#X14sdnNjb2RlLXJlbW90ZQ%3D%3D?line=2'>3</a>\u001b[0m clinical_data \u001b[39m=\u001b[39m pd\u001b[39m.\u001b[39mread_csv(clinical_data_file, sep\u001b[39m=\u001b[39m\u001b[39m'\u001b[39m\u001b[39m\\t\u001b[39;00m\u001b[39m'\u001b[39m, index_col\u001b[39m=\u001b[39m\u001b[39m0\u001b[39m)\n\u001b[1;32m      <a href='vscode-notebook-cell://ssh-remote%2B218.199.69.68/home/yxcheng/AI4Science_gold_standard/stage1/YIjiang/Susceptibility-to-Infections.ipynb#X14sdnNjb2RlLXJlbW90ZQ%3D%3D?line=3'>4</a>\u001b[0m genetic_data \u001b[39m=\u001b[39m pd\u001b[39m.\u001b[39mread_csv(genetic_data_file, compression\u001b[39m=\u001b[39m\u001b[39m'\u001b[39m\u001b[39mgzip\u001b[39m\u001b[39m'\u001b[39m, sep\u001b[39m=\u001b[39m\u001b[39m'\u001b[39m\u001b[39m\\t\u001b[39;00m\u001b[39m'\u001b[39m, index_col\u001b[39m=\u001b[39m\u001b[39m0\u001b[39m)\n\u001b[1;32m      <a href='vscode-notebook-cell://ssh-remote%2B218.199.69.68/home/yxcheng/AI4Science_gold_standard/stage1/YIjiang/Susceptibility-to-Infections.ipynb#X14sdnNjb2RlLXJlbW90ZQ%3D%3D?line=4'>5</a>\u001b[0m age_col \u001b[39m=\u001b[39m gender_col \u001b[39m=\u001b[39m \u001b[39mNone\u001b[39;00m\n",
      "\u001b[0;31mNameError\u001b[0m: name 'clinical_data_file' is not defined"
     ]
    }
   ],
   "source": [
    "import pandas as pd\n",
    "\n",
    "clinical_data = pd.read_csv(clinical_data_file, sep='\\t', index_col=0)\n",
    "genetic_data = pd.read_csv(genetic_data_file, compression='gzip', sep='\\t', index_col=0)\n",
    "age_col = gender_col = None"
   ]
  },
  {
   "cell_type": "code",
   "execution_count": null,
   "metadata": {
    "collapsed": false
   },
   "outputs": [],
   "source": [
    "_, clinical_data_cols = check_rows_and_columns(clinical_data)"
   ]
  },
  {
   "cell_type": "code",
   "execution_count": null,
   "metadata": {
    "collapsed": false
   },
   "outputs": [
    {
     "data": {
      "text/plain": [
       "['ABSOLUTE_Ploidy',\n",
       " 'ABSOLUTE_Purity',\n",
       " 'AKT1',\n",
       " 'ALK_translocation',\n",
       " 'BRAF',\n",
       " 'CBL',\n",
       " 'CTNNB1',\n",
       " 'Canonical_mut_in_KRAS_EGFR_ALK',\n",
       " 'Cnncl_mt_n_KRAS_EGFR_ALK_RET_ROS1_BRAF_ERBB2_HRAS_NRAS_AKT1_MAP2',\n",
       " 'EGFR']"
      ]
     },
     "execution_count": 8,
     "metadata": {},
     "output_type": "execute_result"
    }
   ],
   "source": [
    "clinical_data_cols[:10]"
   ]
  },
  {
   "cell_type": "markdown",
   "metadata": {
    "ExecuteTime": {
     "end_time": "2023-12-28T20:20:11.841042813Z",
     "start_time": "2023-12-28T20:20:11.834458206Z"
    },
    "collapsed": false
   },
   "source": [
    "Read all the column names in the clinical dataset, to find the columns that record information about age or gender.\n",
    "Reference prompt:"
   ]
  },
  {
   "cell_type": "code",
   "execution_count": null,
   "metadata": {
    "collapsed": false
   },
   "outputs": [
    {
     "data": {
      "text/plain": [
       "\"\\nBelow is a list of column names from a biomedical dataset. Please examine it and identify the columns that are likely to contain information about patients' age. Additionally, please do the same for columns that may hold data on patients' gender. Please provide your answer by strictly following this format, without redundant words:\\ncandidate_age_cols = [col_name1, col_name2, ...]\\ncandidate_gender_cols = [col_name1, col_name2, ...]\\nIf no columns match a criterion, please provide an empty list.\\n\\nColumn names:\\n['ABSOLUTE_Ploidy', 'ABSOLUTE_Purity', 'AKT1', 'ALK_translocation', 'BRAF', 'CBL', 'CTNNB1', 'Canonical_mut_in_KRAS_EGFR_ALK', 'Cnncl_mt_n_KRAS_EGFR_ALK_RET_ROS1_BRAF_ERBB2_HRAS_NRAS_AKT1_MAP2', 'EGFR', 'ERBB2', 'ERBB4', 'Estimated_allele_fraction_of_a_clonal_varnt_prsnt_t_1_cpy_pr_cll', 'Expression_Subtype', 'HRAS', 'KRAS', 'MAP2K1', 'MET', 'NRAS', 'PIK3CA', 'PTPN11', 'Pathology', 'Pathology_Updated', 'RET_translocation', 'ROS1_translocation', 'STK11', 'WGS_as_of_20120731_0_no_1_yes', '_INTEGRATION', '_PANCAN_CNA_PANCAN_K8', '_PANCAN_Cluster_Cluster_PANCAN', '_PANCAN_DNAMethyl_PANCAN', '_PANCAN_RPPA_PANCAN_K8', '_PANCAN_UNC_RNAseq_PANCAN_K16', '_PANCAN_miRNA_PANCAN', '_PANCAN_mutation_PANCAN', '_PATIENT', '_cohort', '_primary_disease', '_primary_site', 'additional_pharmaceutical_therapy', 'additional_radiation_therapy', 'additional_surgery_locoregional_procedure', 'additional_surgery_metastatic_procedure', 'age_at_initial_pathologic_diagnosis', 'anatomic_neoplasm_subdivision', 'anatomic_neoplasm_subdivision_other', 'bcr_followup_barcode', 'bcr_patient_barcode', 'bcr_sample_barcode', 'days_to_additional_surgery_locoregional_procedure', 'days_to_additional_surgery_metastatic_procedure', 'days_to_birth', 'days_to_collection', 'days_to_death', 'days_to_initial_pathologic_diagnosis', 'days_to_last_followup', 'days_to_new_tumor_event_after_initial_treatment', 'disease_code', 'dlco_predictive_percent', 'eastern_cancer_oncology_group', 'egfr_mutation_performed', 'egfr_mutation_result', 'eml4_alk_translocation_method', 'eml4_alk_translocation_performed', 'followup_case_report_form_submission_reason', 'followup_treatment_success', 'form_completion_date', 'gender', 'histological_type', 'history_of_neoadjuvant_treatment', 'icd_10', 'icd_o_3_histology', 'icd_o_3_site', 'informed_consent_verified', 'initial_weight', 'intermediate_dimension', 'is_ffpe', 'karnofsky_performance_score', 'kras_gene_analysis_performed', 'kras_mutation_found', 'kras_mutation_result', 'location_in_lung_parenchyma', 'longest_dimension', 'lost_follow_up', 'new_neoplasm_event_type', 'new_tumor_event_after_initial_treatment', 'number_pack_years_smoked', 'oct_embedded', 'other_dx', 'pathologic_M', 'pathologic_N', 'pathologic_T', 'pathologic_stage', 'pathology_report_file_name', 'patient_id', 'performance_status_scale_timing', 'person_neoplasm_cancer_status', 'post_bronchodilator_fev1_fvc_percent', 'post_bronchodilator_fev1_percent', 'pre_bronchodilator_fev1_fvc_percent', 'pre_bronchodilator_fev1_percent', 'primary_therapy_outcome_success', 'progression_determined_by', 'project_code', 'pulmonary_function_test_performed', 'radiation_therapy', 'residual_tumor', 'sample_type', 'sample_type_id', 'shortest_dimension', 'stopped_smoking_year', 'system_version', 'targeted_molecular_therapy', 'tissue_prospective_collection_indicator', 'tissue_retrospective_collection_indicator', 'tissue_source_site', 'tobacco_smoking_history', 'tobacco_smoking_history_indicator', 'tumor_tissue_site', 'vial_number', 'vital_status', 'year_of_initial_pathologic_diagnosis', 'year_of_tobacco_smoking_onset', '_GENOMIC_ID_TCGA_LUNG_exp_HiSeqV2_exon', '_GENOMIC_ID_TCGA_LUNG_hMethyl27', '_GENOMIC_ID_TCGA_LUNG_mutation', '_GENOMIC_ID_TCGA_LUNG_exp_HiSeqV2_PANCAN', '_GENOMIC_ID_TCGA_LUNG_hMethyl450', '_GENOMIC_ID_TCGA_LUNG_gistic2thd', '_GENOMIC_ID_TCGA_LUNG_G4502A_07_3', '_GENOMIC_ID_TCGA_LUNG_exp_HiSeqV2', '_GENOMIC_ID_TCGA_LUNG_gistic2', '_GENOMIC_ID_TCGA_LUNG_RPPA_RBN']\\n\""
      ]
     },
     "execution_count": 9,
     "metadata": {},
     "output_type": "execute_result"
    }
   ],
   "source": [
    "f'''\n",
    "Below is a list of column names from a biomedical dataset. Please examine it and identify the columns that are likely to contain information about patients' age. Additionally, please do the same for columns that may hold data on patients' gender. Please provide your answer by strictly following this format, without redundant words:\n",
    "candidate_age_cols = [col_name1, col_name2, ...]\n",
    "candidate_gender_cols = [col_name1, col_name2, ...]\n",
    "If no columns match a criterion, please provide an empty list.\n",
    "\n",
    "Column names:\n",
    "{clinical_data_cols}\n",
    "'''"
   ]
  },
  {
   "cell_type": "code",
   "execution_count": null,
   "metadata": {
    "collapsed": false
   },
   "outputs": [],
   "source": [
    "candidate_age_cols = ['age_at_initial_pathologic_diagnosis', 'days_to_birth', 'days_to_collection', 'days_to_death', 'days_to_initial_pathologic_diagnosis', 'days_to_last_followup', 'days_to_new_tumor_event_after_initial_treatment', 'stopped_smoking_year', 'year_of_initial_pathologic_diagnosis', 'year_of_tobacco_smoking_onset']\n",
    "\n",
    "candidate_gender_cols = ['gender']"
   ]
  },
  {
   "cell_type": "markdown",
   "metadata": {
    "ExecuteTime": {
     "end_time": "2023-12-31T03:57:44.207565572Z",
     "start_time": "2023-12-31T03:57:44.202177544Z"
    },
    "collapsed": false
   },
   "source": [
    "Choose a single column from the candidate columns that record age and gender information respectively.\n",
    "If no column meets the requirement, keep 'age_col' or 'gender_col' to None"
   ]
  },
  {
   "cell_type": "code",
   "execution_count": null,
   "metadata": {
    "collapsed": false
   },
   "outputs": [
    {
     "data": {
      "text/plain": [
       "{'age_at_initial_pathologic_diagnosis': [70.0, 67.0, 79.0, 68.0, 66.0],\n",
       " 'days_to_birth': [-25752.0, -24532.0, -29068.0, -24868.0, -24411.0],\n",
       " 'days_to_collection': [nan, nan, nan, nan, nan],\n",
       " 'days_to_death': [nan, nan, '121', nan, nan],\n",
       " 'days_to_initial_pathologic_diagnosis': [0.0, 0.0, 0.0, 0.0, 0.0],\n",
       " 'days_to_last_followup': ['0', '1523', nan, '607', '426'],\n",
       " 'days_to_new_tumor_event_after_initial_treatment': [nan,\n",
       "  nan,\n",
       "  nan,\n",
       "  334.0,\n",
       "  183.0],\n",
       " 'stopped_smoking_year': [nan, nan, nan, nan, 1987.0],\n",
       " 'year_of_initial_pathologic_diagnosis': [2009.0,\n",
       "  2007.0,\n",
       "  2007.0,\n",
       "  2009.0,\n",
       "  2009.0],\n",
       " 'year_of_tobacco_smoking_onset': [nan, nan, nan, nan, 1963.0]}"
      ]
     },
     "execution_count": 11,
     "metadata": {},
     "output_type": "execute_result"
    }
   ],
   "source": [
    "preview_df(clinical_data[candidate_age_cols])"
   ]
  },
  {
   "cell_type": "code",
   "execution_count": null,
   "metadata": {
    "collapsed": false
   },
   "outputs": [],
   "source": [
    "age_col = 'age_at_initial_pathologic_diagnosis'"
   ]
  },
  {
   "cell_type": "code",
   "execution_count": null,
   "metadata": {
    "collapsed": false
   },
   "outputs": [
    {
     "data": {
      "text/plain": [
       "{'gender': ['MALE', 'MALE', 'FEMALE', 'MALE', 'MALE']}"
      ]
     },
     "execution_count": 13,
     "metadata": {},
     "output_type": "execute_result"
    }
   ],
   "source": [
    "preview_df(clinical_data[candidate_gender_cols])"
   ]
  },
  {
   "cell_type": "code",
   "execution_count": null,
   "metadata": {
    "collapsed": false
   },
   "outputs": [],
   "source": [
    "gender_col = 'gender'"
   ]
  },
  {
   "cell_type": "code",
   "execution_count": null,
   "metadata": {
    "collapsed": false
   },
   "outputs": [],
   "source": [
    "selected_clinical_data = xena_select_clinical_features(clinical_data, TRAIT, age_col, gender_col)"
   ]
  },
  {
   "cell_type": "code",
   "execution_count": null,
   "metadata": {
    "collapsed": false
   },
   "outputs": [],
   "source": [
    "if NORMALIZE_GENE:\n",
    "    genetic_data = normalize_gene_symbols_in_index(genetic_data)"
   ]
  },
  {
   "cell_type": "code",
   "execution_count": null,
   "metadata": {
    "collapsed": false
   },
   "outputs": [
    {
     "data": {
      "text/html": [
       "<div>\n",
       "<style scoped>\n",
       "    .dataframe tbody tr th:only-of-type {\n",
       "        vertical-align: middle;\n",
       "    }\n",
       "\n",
       "    .dataframe tbody tr th {\n",
       "        vertical-align: top;\n",
       "    }\n",
       "\n",
       "    .dataframe thead th {\n",
       "        text-align: right;\n",
       "    }\n",
       "</style>\n",
       "<table border=\"1\" class=\"dataframe\">\n",
       "  <thead>\n",
       "    <tr style=\"text-align: right;\">\n",
       "      <th></th>\n",
       "      <th>Lung-Cancer</th>\n",
       "      <th>Age</th>\n",
       "      <th>Gender</th>\n",
       "      <th>ARHGEF10L</th>\n",
       "      <th>HIF3A</th>\n",
       "      <th>RNF17</th>\n",
       "      <th>RNF10</th>\n",
       "      <th>RNF11</th>\n",
       "      <th>RNF13</th>\n",
       "      <th>GTF2IP1</th>\n",
       "      <th>...</th>\n",
       "      <th>TULP2</th>\n",
       "      <th>NPY5R</th>\n",
       "      <th>GNGT2</th>\n",
       "      <th>GNGT1</th>\n",
       "      <th>TULP3</th>\n",
       "      <th>PTRF</th>\n",
       "      <th>BCL6B</th>\n",
       "      <th>GSTK1</th>\n",
       "      <th>SELP</th>\n",
       "      <th>SELS</th>\n",
       "    </tr>\n",
       "    <tr>\n",
       "      <th>sampleID</th>\n",
       "      <th></th>\n",
       "      <th></th>\n",
       "      <th></th>\n",
       "      <th></th>\n",
       "      <th></th>\n",
       "      <th></th>\n",
       "      <th></th>\n",
       "      <th></th>\n",
       "      <th></th>\n",
       "      <th></th>\n",
       "      <th></th>\n",
       "      <th></th>\n",
       "      <th></th>\n",
       "      <th></th>\n",
       "      <th></th>\n",
       "      <th></th>\n",
       "      <th></th>\n",
       "      <th></th>\n",
       "      <th></th>\n",
       "      <th></th>\n",
       "      <th></th>\n",
       "    </tr>\n",
       "  </thead>\n",
       "  <tbody>\n",
       "    <tr>\n",
       "      <th>TCGA-05-4244-01</th>\n",
       "      <td>1</td>\n",
       "      <td>70.0</td>\n",
       "      <td>1.0</td>\n",
       "      <td>-0.056592</td>\n",
       "      <td>2.128674</td>\n",
       "      <td>-0.531035</td>\n",
       "      <td>-0.185972</td>\n",
       "      <td>-0.190878</td>\n",
       "      <td>-0.11891</td>\n",
       "      <td>-0.659794</td>\n",
       "      <td>...</td>\n",
       "      <td>0.015022</td>\n",
       "      <td>-1.155117</td>\n",
       "      <td>0.528367</td>\n",
       "      <td>2.75061</td>\n",
       "      <td>0.428423</td>\n",
       "      <td>-0.639586</td>\n",
       "      <td>-0.195527</td>\n",
       "      <td>-0.324695</td>\n",
       "      <td>0.193167</td>\n",
       "      <td>-0.572812</td>\n",
       "    </tr>\n",
       "    <tr>\n",
       "      <th>TCGA-05-4249-01</th>\n",
       "      <td>1</td>\n",
       "      <td>67.0</td>\n",
       "      <td>1.0</td>\n",
       "      <td>-0.569692</td>\n",
       "      <td>-0.318126</td>\n",
       "      <td>-0.531035</td>\n",
       "      <td>0.237428</td>\n",
       "      <td>0.011822</td>\n",
       "      <td>-0.00611</td>\n",
       "      <td>1.018406</td>\n",
       "      <td>...</td>\n",
       "      <td>-0.031778</td>\n",
       "      <td>-0.393117</td>\n",
       "      <td>1.632467</td>\n",
       "      <td>2.33551</td>\n",
       "      <td>-0.145577</td>\n",
       "      <td>-0.997486</td>\n",
       "      <td>-0.276027</td>\n",
       "      <td>-1.219395</td>\n",
       "      <td>1.850967</td>\n",
       "      <td>-0.471212</td>\n",
       "    </tr>\n",
       "    <tr>\n",
       "      <th>TCGA-05-4250-01</th>\n",
       "      <td>1</td>\n",
       "      <td>79.0</td>\n",
       "      <td>0.0</td>\n",
       "      <td>-0.899992</td>\n",
       "      <td>-0.918126</td>\n",
       "      <td>-0.531035</td>\n",
       "      <td>-0.621472</td>\n",
       "      <td>-0.454178</td>\n",
       "      <td>0.58719</td>\n",
       "      <td>-0.198894</td>\n",
       "      <td>...</td>\n",
       "      <td>-0.748878</td>\n",
       "      <td>-1.173917</td>\n",
       "      <td>1.966367</td>\n",
       "      <td>-1.28139</td>\n",
       "      <td>-0.374877</td>\n",
       "      <td>0.959514</td>\n",
       "      <td>0.714373</td>\n",
       "      <td>0.112305</td>\n",
       "      <td>-0.532833</td>\n",
       "      <td>-0.003812</td>\n",
       "    </tr>\n",
       "    <tr>\n",
       "      <th>TCGA-05-4382-01</th>\n",
       "      <td>1</td>\n",
       "      <td>68.0</td>\n",
       "      <td>1.0</td>\n",
       "      <td>0.667508</td>\n",
       "      <td>3.895974</td>\n",
       "      <td>-0.221535</td>\n",
       "      <td>-0.367272</td>\n",
       "      <td>0.131822</td>\n",
       "      <td>0.97629</td>\n",
       "      <td>-0.494994</td>\n",
       "      <td>...</td>\n",
       "      <td>1.013722</td>\n",
       "      <td>-1.587117</td>\n",
       "      <td>0.359267</td>\n",
       "      <td>2.59051</td>\n",
       "      <td>0.806623</td>\n",
       "      <td>0.812114</td>\n",
       "      <td>0.367373</td>\n",
       "      <td>-0.494595</td>\n",
       "      <td>-1.062233</td>\n",
       "      <td>0.108588</td>\n",
       "    </tr>\n",
       "    <tr>\n",
       "      <th>TCGA-05-4384-01</th>\n",
       "      <td>1</td>\n",
       "      <td>66.0</td>\n",
       "      <td>1.0</td>\n",
       "      <td>-0.316892</td>\n",
       "      <td>2.380374</td>\n",
       "      <td>0.156865</td>\n",
       "      <td>0.232828</td>\n",
       "      <td>0.054822</td>\n",
       "      <td>0.27059</td>\n",
       "      <td>0.128606</td>\n",
       "      <td>...</td>\n",
       "      <td>-0.060978</td>\n",
       "      <td>-0.435417</td>\n",
       "      <td>1.111467</td>\n",
       "      <td>-1.28139</td>\n",
       "      <td>-0.128477</td>\n",
       "      <td>0.110214</td>\n",
       "      <td>1.469373</td>\n",
       "      <td>0.194605</td>\n",
       "      <td>1.404667</td>\n",
       "      <td>-0.290712</td>\n",
       "    </tr>\n",
       "  </tbody>\n",
       "</table>\n",
       "<p>5 rows × 20533 columns</p>\n",
       "</div>"
      ],
      "text/plain": [
       "                 Lung-Cancer   Age  Gender  ARHGEF10L     HIF3A     RNF17  \\\n",
       "sampleID                                                                    \n",
       "TCGA-05-4244-01            1  70.0     1.0  -0.056592  2.128674 -0.531035   \n",
       "TCGA-05-4249-01            1  67.0     1.0  -0.569692 -0.318126 -0.531035   \n",
       "TCGA-05-4250-01            1  79.0     0.0  -0.899992 -0.918126 -0.531035   \n",
       "TCGA-05-4382-01            1  68.0     1.0   0.667508  3.895974 -0.221535   \n",
       "TCGA-05-4384-01            1  66.0     1.0  -0.316892  2.380374  0.156865   \n",
       "\n",
       "                    RNF10     RNF11    RNF13   GTF2IP1  ...     TULP2  \\\n",
       "sampleID                                                ...             \n",
       "TCGA-05-4244-01 -0.185972 -0.190878 -0.11891 -0.659794  ...  0.015022   \n",
       "TCGA-05-4249-01  0.237428  0.011822 -0.00611  1.018406  ... -0.031778   \n",
       "TCGA-05-4250-01 -0.621472 -0.454178  0.58719 -0.198894  ... -0.748878   \n",
       "TCGA-05-4382-01 -0.367272  0.131822  0.97629 -0.494994  ...  1.013722   \n",
       "TCGA-05-4384-01  0.232828  0.054822  0.27059  0.128606  ... -0.060978   \n",
       "\n",
       "                    NPY5R     GNGT2    GNGT1     TULP3      PTRF     BCL6B  \\\n",
       "sampleID                                                                     \n",
       "TCGA-05-4244-01 -1.155117  0.528367  2.75061  0.428423 -0.639586 -0.195527   \n",
       "TCGA-05-4249-01 -0.393117  1.632467  2.33551 -0.145577 -0.997486 -0.276027   \n",
       "TCGA-05-4250-01 -1.173917  1.966367 -1.28139 -0.374877  0.959514  0.714373   \n",
       "TCGA-05-4382-01 -1.587117  0.359267  2.59051  0.806623  0.812114  0.367373   \n",
       "TCGA-05-4384-01 -0.435417  1.111467 -1.28139 -0.128477  0.110214  1.469373   \n",
       "\n",
       "                    GSTK1      SELP      SELS  \n",
       "sampleID                                       \n",
       "TCGA-05-4244-01 -0.324695  0.193167 -0.572812  \n",
       "TCGA-05-4249-01 -1.219395  1.850967 -0.471212  \n",
       "TCGA-05-4250-01  0.112305 -0.532833 -0.003812  \n",
       "TCGA-05-4382-01 -0.494595 -1.062233  0.108588  \n",
       "TCGA-05-4384-01  0.194605  1.404667 -0.290712  \n",
       "\n",
       "[5 rows x 20533 columns]"
      ]
     },
     "execution_count": 17,
     "metadata": {},
     "output_type": "execute_result"
    }
   ],
   "source": [
    "merged_data = selected_clinical_data.join(genetic_data.T).dropna()\n",
    "merged_data.head()"
   ]
  },
  {
   "cell_type": "code",
   "execution_count": null,
   "metadata": {
    "collapsed": false
   },
   "outputs": [
    {
     "name": "stdout",
     "output_type": "stream",
     "text": [
      "The merged dataset contains 1100 samples.\n"
     ]
    }
   ],
   "source": [
    "print(f\"The merged dataset contains {len(merged_data)} samples.\")"
   ]
  },
  {
   "cell_type": "code",
   "execution_count": null,
   "metadata": {
    "collapsed": false
   },
   "outputs": [
    {
     "name": "stdout",
     "output_type": "stream",
     "text": [
      "For the feature 'Lung-Cancer', the least common label is '0' with 110 occurrences. This represents 10.00% of the dataset.\n",
      "The distribution of the feature 'Lung-Cancer' in this dataset is fine.\n",
      "\n",
      "Quartiles for 'Age':\n",
      "  25%: 60.0\n",
      "  50% (Median): 67.0\n",
      "  75%: 73.0\n",
      "Min: 38.0\n",
      "Max: 90.0\n",
      "The distribution of the feature 'Age' in this dataset is fine.\n",
      "\n",
      "For the feature 'Gender', the least common label is '0.0' with 443 occurrences. This represents 40.27% of the dataset.\n",
      "The distribution of the feature 'Gender' in this dataset is fine.\n",
      "\n"
     ]
    },
    {
     "data": {
      "text/plain": [
       "False"
      ]
     },
     "execution_count": 19,
     "metadata": {},
     "output_type": "execute_result"
    }
   ],
   "source": [
    "is_trait_biased, merge_data = judge_and_remove_biased_features(merged_data, TRAIT, trait_type=trait_type)\n",
    "is_trait_biased"
   ]
  },
  {
   "cell_type": "code",
   "execution_count": null,
   "metadata": {
    "collapsed": false
   },
   "outputs": [],
   "source": [
    "merged_data.head()\n",
    "if not is_trait_biased:\n",
    "    merge_data.to_csv(os.path.join(OUTPUT_DIR, cohort+'.csv'), index=False)"
   ]
  },
  {
   "cell_type": "code",
   "execution_count": null,
   "metadata": {
    "collapsed": false
   },
   "outputs": [
    {
     "name": "stdout",
     "output_type": "stream",
     "text": [
      "A new JSON file was created at: ../../output1/Yuxuan/Lung-Cancer/cohort_info.json\n"
     ]
    }
   ],
   "source": [
    "save_cohort_info(cohort, JSON_PATH, is_available, is_trait_biased, merged_data)"
   ]
  },
  {
   "cell_type": "markdown",
   "metadata": {
    "ExecuteTime": {
     "end_time": "2023-12-28T21:28:38.028916303Z",
     "start_time": "2023-12-28T21:28:38.016245426Z"
    },
    "collapsed": false
   },
   "source": [
    "## 2.2. The GEO dataset"
   ]
  },
  {
   "cell_type": "markdown",
   "metadata": {
    "ExecuteTime": {
     "end_time": "2023-12-31T03:25:23.253882615Z",
     "start_time": "2023-12-31T03:25:23.244062710Z"
    },
    "collapsed": false
   },
   "source": [
    "In GEO, there may be one or multiple cohorts for a trait. Each cohort is identified by an accession number. We iterate over all accession numbers in the corresponding subdirectory, preprocess the cohort data, and save them to csv files."
   ]
  },
  {
   "cell_type": "code",
   "execution_count": 15,
   "metadata": {
    "ExecuteTime": {
     "end_time": "2024-01-02T01:02:59.503572381Z",
     "start_time": "2024-01-02T01:02:59.491400342Z"
    },
    "collapsed": false
   },
   "outputs": [
    {
     "data": {
      "text/plain": [
       "['GSE116725', 'GSE195434', 'GSE150133']"
      ]
     },
     "execution_count": 15,
     "metadata": {},
     "output_type": "execute_result"
    }
   ],
   "source": [
    "dataset = 'GEO'\n",
    "trait_subdir = \"Susceptibility-to-Infections\"\n",
    "\n",
    "trait_path = os.path.join(DATA_ROOT, dataset, trait_subdir)\n",
    "os.listdir(trait_path)"
   ]
  },
  {
   "cell_type": "markdown",
   "metadata": {
    "ExecuteTime": {
     "end_time": "2023-12-31T03:39:42.634870142Z",
     "start_time": "2023-12-31T03:39:42.534093295Z"
    },
    "collapsed": false
   },
   "source": [
    "Repeat the below steps for all the accession numbers"
   ]
  },
  {
   "cell_type": "code",
   "execution_count": 17,
   "metadata": {
    "ExecuteTime": {
     "end_time": "2024-01-02T01:03:00.287218362Z",
     "start_time": "2024-01-02T01:03:00.278758251Z"
    },
    "collapsed": false
   },
   "outputs": [
    {
     "data": {
      "text/plain": [
       "('/Users/wjt/Desktop/is_data/GEO/Susceptibility-to-Infections/GSE150133/GSE150133_family.soft.gz',\n",
       " '/Users/wjt/Desktop/is_data/GEO/Susceptibility-to-Infections/GSE150133/GSE150133_series_matrix.txt.gz')"
      ]
     },
     "execution_count": 17,
     "metadata": {},
     "output_type": "execute_result"
    }
   ],
   "source": [
    "cohort = accession_num = \"GSE150133\"\n",
    "cohort_dir = os.path.join(trait_path, accession_num)\n",
    "soft_file, matrix_file = geo_get_relevant_filepaths(cohort_dir)\n",
    "soft_file, matrix_file"
   ]
  },
  {
   "cell_type": "markdown",
   "metadata": {
    "collapsed": false
   },
   "source": [
    "### Inital filtering and clinical data preprocessing"
   ]
  },
  {
   "cell_type": "code",
   "execution_count": 18,
   "metadata": {
    "ExecuteTime": {
     "end_time": "2024-01-02T01:03:01.634861460Z",
     "start_time": "2024-01-02T01:03:01.076370517Z"
    },
    "collapsed": false
   },
   "outputs": [
    {
     "name": "stdout",
     "output_type": "stream",
     "text": [
      "!Series_title\t\"Associations between IFI44L gene variants and rates of respiratory tract infections during early childhood\"\n",
      "!Series_summary\t\"Background: Genetic heterogeneity in the innate immune system may account for variable susceptibility to respiratory tract infections (RTIs) in children.  Objective: We aimed to assess the impact of polymorphisms rs273259 and rs1333969 in type I interferon related gene IFI44L on susceptibility to RTIs and acute otitis media in children.  Methods: In two prospective, population-based birth cohorts, the FinnBrain Birth Cohort Study and the STEPS Study, IFI44L genotypes for rs273259 and rs1333969 were determined in relation to the development of RTIs until one and two years of age, respectively, and adjusted incidence rate ratios (aIRR) or odds ratios (OR) were calculated. At age 3 months, whole blood transcriptional profiles were analyzed and nasal samples were tested for respiratory viruses in a subset of children.   Results: In respiratory virus-positive children at 3 months of age, IFI44L gene variants were associated with decreased expression levels of IFI44L and several other interferon related genes.  Conclusions: Variant forms of IFI44L gene were protective against early-childhood RTIs or acute otitis media in two independent birth cohorts, and they attenuated interferon pathway activation by respiratory viruses.\"\n",
      "!Series_overall_design\t\"71 samples, one each from 71 different subjects; no replicates; no controls; subjects at time of collection were afebrile and without symptoms of an RTI\"\n"
     ]
    }
   ],
   "source": [
    "background_prefixes = ['!Series_title', '!Series_summary', '!Series_overall_design']\n",
    "clinical_prefixes = ['!Sample_geo_accession', '!Sample_characteristics_ch1']\n",
    "\n",
    "background_info, clinical_data = get_background_and_clinical_data(matrix_file, background_prefixes, clinical_prefixes)\n",
    "print(background_info)"
   ]
  },
  {
   "cell_type": "code",
   "execution_count": 19,
   "metadata": {
    "ExecuteTime": {
     "end_time": "2024-01-02T01:03:01.642310454Z",
     "start_time": "2024-01-02T01:03:01.635048940Z"
    },
    "collapsed": false
   },
   "outputs": [
    {
     "data": {
      "text/html": [
       "<div>\n",
       "<style scoped>\n",
       "    .dataframe tbody tr th:only-of-type {\n",
       "        vertical-align: middle;\n",
       "    }\n",
       "\n",
       "    .dataframe tbody tr th {\n",
       "        vertical-align: top;\n",
       "    }\n",
       "\n",
       "    .dataframe thead th {\n",
       "        text-align: right;\n",
       "    }\n",
       "</style>\n",
       "<table border=\"1\" class=\"dataframe\">\n",
       "  <thead>\n",
       "    <tr style=\"text-align: right;\">\n",
       "      <th></th>\n",
       "      <th>!Sample_geo_accession</th>\n",
       "      <th>GSM4524034</th>\n",
       "      <th>GSM4524035</th>\n",
       "      <th>GSM4524036</th>\n",
       "      <th>GSM4524037</th>\n",
       "      <th>GSM4524038</th>\n",
       "      <th>GSM4524039</th>\n",
       "      <th>GSM4524040</th>\n",
       "      <th>GSM4524041</th>\n",
       "      <th>GSM4524042</th>\n",
       "      <th>...</th>\n",
       "      <th>GSM4524095</th>\n",
       "      <th>GSM4524096</th>\n",
       "      <th>GSM4524097</th>\n",
       "      <th>GSM4524098</th>\n",
       "      <th>GSM4524099</th>\n",
       "      <th>GSM4524100</th>\n",
       "      <th>GSM4524101</th>\n",
       "      <th>GSM4524102</th>\n",
       "      <th>GSM4524103</th>\n",
       "      <th>GSM4524104</th>\n",
       "    </tr>\n",
       "  </thead>\n",
       "  <tbody>\n",
       "    <tr>\n",
       "      <th>0</th>\n",
       "      <td>!Sample_characteristics_ch1</td>\n",
       "      <td>subject: 1</td>\n",
       "      <td>subject: 2</td>\n",
       "      <td>subject: 3</td>\n",
       "      <td>subject: 4</td>\n",
       "      <td>subject: 5</td>\n",
       "      <td>subject: 6</td>\n",
       "      <td>subject: 7</td>\n",
       "      <td>subject: 8</td>\n",
       "      <td>subject: 9</td>\n",
       "      <td>...</td>\n",
       "      <td>subject: 62</td>\n",
       "      <td>subject: 63</td>\n",
       "      <td>subject: 64</td>\n",
       "      <td>subject: 65</td>\n",
       "      <td>subject: 66</td>\n",
       "      <td>subject: 67</td>\n",
       "      <td>subject: 68</td>\n",
       "      <td>subject: 69</td>\n",
       "      <td>subject: 70</td>\n",
       "      <td>subject: 71</td>\n",
       "    </tr>\n",
       "    <tr>\n",
       "      <th>1</th>\n",
       "      <td>!Sample_characteristics_ch1</td>\n",
       "      <td>age in days: 79</td>\n",
       "      <td>age in days: 76</td>\n",
       "      <td>age in days: 77</td>\n",
       "      <td>age in days: 75</td>\n",
       "      <td>age in days: 81</td>\n",
       "      <td>age in days: 77</td>\n",
       "      <td>age in days: 73</td>\n",
       "      <td>age in days: 66</td>\n",
       "      <td>age in days: 83</td>\n",
       "      <td>...</td>\n",
       "      <td>age in days: 68</td>\n",
       "      <td>age in days: 67</td>\n",
       "      <td>age in days: 68</td>\n",
       "      <td>age in days: 75</td>\n",
       "      <td>age in days: 69</td>\n",
       "      <td>age in days: 62</td>\n",
       "      <td>age in days: 67</td>\n",
       "      <td>age in days: 66</td>\n",
       "      <td>age in days: 87</td>\n",
       "      <td>age in days: 67</td>\n",
       "    </tr>\n",
       "    <tr>\n",
       "      <th>2</th>\n",
       "      <td>!Sample_characteristics_ch1</td>\n",
       "      <td>gender: Male</td>\n",
       "      <td>gender: Female</td>\n",
       "      <td>gender: Male</td>\n",
       "      <td>gender: Male</td>\n",
       "      <td>gender: Male</td>\n",
       "      <td>gender: Female</td>\n",
       "      <td>gender: Male</td>\n",
       "      <td>gender: Male</td>\n",
       "      <td>gender: Male</td>\n",
       "      <td>...</td>\n",
       "      <td>gender: Female</td>\n",
       "      <td>gender: Male</td>\n",
       "      <td>gender: Female</td>\n",
       "      <td>gender: Male</td>\n",
       "      <td>gender: Female</td>\n",
       "      <td>gender: Female</td>\n",
       "      <td>gender: Male</td>\n",
       "      <td>gender: Female</td>\n",
       "      <td>gender: Male</td>\n",
       "      <td>gender: Male</td>\n",
       "    </tr>\n",
       "    <tr>\n",
       "      <th>3</th>\n",
       "      <td>!Sample_characteristics_ch1</td>\n",
       "      <td>race: White</td>\n",
       "      <td>race: White</td>\n",
       "      <td>race: White</td>\n",
       "      <td>race: White</td>\n",
       "      <td>race: White</td>\n",
       "      <td>race: White</td>\n",
       "      <td>race: White</td>\n",
       "      <td>race: White</td>\n",
       "      <td>race: White</td>\n",
       "      <td>...</td>\n",
       "      <td>race: White</td>\n",
       "      <td>race: White</td>\n",
       "      <td>race: White</td>\n",
       "      <td>race: White</td>\n",
       "      <td>race: White</td>\n",
       "      <td>race: White</td>\n",
       "      <td>race: White</td>\n",
       "      <td>race: White</td>\n",
       "      <td>race: White</td>\n",
       "      <td>race: White</td>\n",
       "    </tr>\n",
       "    <tr>\n",
       "      <th>4</th>\n",
       "      <td>!Sample_characteristics_ch1</td>\n",
       "      <td>respiratory virus detected: Yes</td>\n",
       "      <td>respiratory virus detected: Yes</td>\n",
       "      <td>respiratory virus detected: No</td>\n",
       "      <td>respiratory virus detected: No</td>\n",
       "      <td>respiratory virus detected: Yes</td>\n",
       "      <td>respiratory virus detected: Yes</td>\n",
       "      <td>respiratory virus detected: No</td>\n",
       "      <td>respiratory virus detected: No</td>\n",
       "      <td>respiratory virus detected: No</td>\n",
       "      <td>...</td>\n",
       "      <td>respiratory virus detected: No</td>\n",
       "      <td>respiratory virus detected: No</td>\n",
       "      <td>respiratory virus detected: No</td>\n",
       "      <td>respiratory virus detected: N/A</td>\n",
       "      <td>respiratory virus detected: No</td>\n",
       "      <td>respiratory virus detected: No</td>\n",
       "      <td>respiratory virus detected: Yes</td>\n",
       "      <td>respiratory virus detected: No</td>\n",
       "      <td>respiratory virus detected: No</td>\n",
       "      <td>respiratory virus detected: Yes</td>\n",
       "    </tr>\n",
       "  </tbody>\n",
       "</table>\n",
       "<p>5 rows × 72 columns</p>\n",
       "</div>"
      ],
      "text/plain": [
       "         !Sample_geo_accession                       GSM4524034  \\\n",
       "0  !Sample_characteristics_ch1                       subject: 1   \n",
       "1  !Sample_characteristics_ch1                  age in days: 79   \n",
       "2  !Sample_characteristics_ch1                     gender: Male   \n",
       "3  !Sample_characteristics_ch1                      race: White   \n",
       "4  !Sample_characteristics_ch1  respiratory virus detected: Yes   \n",
       "\n",
       "                        GSM4524035                      GSM4524036  \\\n",
       "0                       subject: 2                      subject: 3   \n",
       "1                  age in days: 76                 age in days: 77   \n",
       "2                   gender: Female                    gender: Male   \n",
       "3                      race: White                     race: White   \n",
       "4  respiratory virus detected: Yes  respiratory virus detected: No   \n",
       "\n",
       "                       GSM4524037                       GSM4524038  \\\n",
       "0                      subject: 4                       subject: 5   \n",
       "1                 age in days: 75                  age in days: 81   \n",
       "2                    gender: Male                     gender: Male   \n",
       "3                     race: White                      race: White   \n",
       "4  respiratory virus detected: No  respiratory virus detected: Yes   \n",
       "\n",
       "                        GSM4524039                      GSM4524040  \\\n",
       "0                       subject: 6                      subject: 7   \n",
       "1                  age in days: 77                 age in days: 73   \n",
       "2                   gender: Female                    gender: Male   \n",
       "3                      race: White                     race: White   \n",
       "4  respiratory virus detected: Yes  respiratory virus detected: No   \n",
       "\n",
       "                       GSM4524041                      GSM4524042  ...  \\\n",
       "0                      subject: 8                      subject: 9  ...   \n",
       "1                 age in days: 66                 age in days: 83  ...   \n",
       "2                    gender: Male                    gender: Male  ...   \n",
       "3                     race: White                     race: White  ...   \n",
       "4  respiratory virus detected: No  respiratory virus detected: No  ...   \n",
       "\n",
       "                       GSM4524095                      GSM4524096  \\\n",
       "0                     subject: 62                     subject: 63   \n",
       "1                 age in days: 68                 age in days: 67   \n",
       "2                  gender: Female                    gender: Male   \n",
       "3                     race: White                     race: White   \n",
       "4  respiratory virus detected: No  respiratory virus detected: No   \n",
       "\n",
       "                       GSM4524097                       GSM4524098  \\\n",
       "0                     subject: 64                      subject: 65   \n",
       "1                 age in days: 68                  age in days: 75   \n",
       "2                  gender: Female                     gender: Male   \n",
       "3                     race: White                      race: White   \n",
       "4  respiratory virus detected: No  respiratory virus detected: N/A   \n",
       "\n",
       "                       GSM4524099                      GSM4524100  \\\n",
       "0                     subject: 66                     subject: 67   \n",
       "1                 age in days: 69                 age in days: 62   \n",
       "2                  gender: Female                  gender: Female   \n",
       "3                     race: White                     race: White   \n",
       "4  respiratory virus detected: No  respiratory virus detected: No   \n",
       "\n",
       "                        GSM4524101                      GSM4524102  \\\n",
       "0                      subject: 68                     subject: 69   \n",
       "1                  age in days: 67                 age in days: 66   \n",
       "2                     gender: Male                  gender: Female   \n",
       "3                      race: White                     race: White   \n",
       "4  respiratory virus detected: Yes  respiratory virus detected: No   \n",
       "\n",
       "                       GSM4524103                       GSM4524104  \n",
       "0                     subject: 70                      subject: 71  \n",
       "1                 age in days: 87                  age in days: 67  \n",
       "2                    gender: Male                     gender: Male  \n",
       "3                     race: White                      race: White  \n",
       "4  respiratory virus detected: No  respiratory virus detected: Yes  \n",
       "\n",
       "[5 rows x 72 columns]"
      ]
     },
     "execution_count": 19,
     "metadata": {},
     "output_type": "execute_result"
    }
   ],
   "source": [
    "clinical_data.head()"
   ]
  },
  {
   "cell_type": "code",
   "execution_count": 20,
   "metadata": {
    "ExecuteTime": {
     "end_time": "2024-01-02T01:03:01.805026160Z",
     "start_time": "2024-01-02T01:03:01.804428154Z"
    },
    "collapsed": false
   },
   "outputs": [
    {
     "data": {
      "text/plain": [
       "{0: ['subject: 1',\n",
       "  'subject: 2',\n",
       "  'subject: 3',\n",
       "  'subject: 4',\n",
       "  'subject: 5',\n",
       "  'subject: 6',\n",
       "  'subject: 7',\n",
       "  'subject: 8',\n",
       "  'subject: 9',\n",
       "  'subject: 10',\n",
       "  'subject: 11',\n",
       "  'subject: 12',\n",
       "  'subject: 13',\n",
       "  'subject: 14',\n",
       "  'subject: 15',\n",
       "  'subject: 16',\n",
       "  'subject: 17',\n",
       "  'subject: 18',\n",
       "  'subject: 19',\n",
       "  'subject: 20',\n",
       "  'subject: 21',\n",
       "  'subject: 22',\n",
       "  'subject: 23',\n",
       "  'subject: 24',\n",
       "  'subject: 25',\n",
       "  'subject: 26',\n",
       "  'subject: 27',\n",
       "  'subject: 28',\n",
       "  'subject: 29',\n",
       "  'subject: 30'],\n",
       " 1: ['age in days: 79',\n",
       "  'age in days: 76',\n",
       "  'age in days: 77',\n",
       "  'age in days: 75',\n",
       "  'age in days: 81',\n",
       "  'age in days: 73',\n",
       "  'age in days: 66',\n",
       "  'age in days: 83',\n",
       "  'age in days: 88',\n",
       "  'age in days: 86',\n",
       "  'age in days: 82',\n",
       "  'age in days: 78',\n",
       "  'age in days: 80',\n",
       "  'age in days: 107',\n",
       "  'age in days: 84',\n",
       "  'age in days: 72',\n",
       "  'age in days: 89',\n",
       "  'age in days: 69',\n",
       "  'age in days: 64',\n",
       "  'age in days: 97',\n",
       "  'age in days: 70',\n",
       "  'age in days: 100',\n",
       "  'age in days: 85',\n",
       "  'age in days: 74',\n",
       "  'age in days: 67',\n",
       "  'age in days: 65',\n",
       "  'age in days: 68',\n",
       "  'age in days: 62',\n",
       "  'age in days: 87'],\n",
       " 2: ['gender: Male', 'gender: Female'],\n",
       " 3: ['race: White'],\n",
       " 4: ['respiratory virus detected: Yes',\n",
       "  'respiratory virus detected: No',\n",
       "  'respiratory virus detected: N/A'],\n",
       " 5: ['rs1333969: 0', 'rs1333969: 1', 'rs1333969: 2'],\n",
       " 6: ['rs1333969_type: major', 'rs1333969_type: other'],\n",
       " 7: ['rs273259: 0', 'rs273259: 1', 'rs273259: 2'],\n",
       " 8: ['rs273259_type: major', 'rs273259_type: other']}"
      ]
     },
     "execution_count": 20,
     "metadata": {},
     "output_type": "execute_result"
    }
   ],
   "source": [
    "clinical_data_unique = get_unique_values_by_row(clinical_data)\n",
    "clinical_data_unique"
   ]
  },
  {
   "cell_type": "markdown",
   "metadata": {
    "ExecuteTime": {
     "end_time": "2023-12-31T03:58:04.978204446Z",
     "start_time": "2023-12-31T03:58:04.922270095Z"
    },
    "collapsed": false
   },
   "source": [
    "Analyze the metadata to determine data relevance and find ways to extract the clinical data.\n",
    "Reference prompt:"
   ]
  },
  {
   "cell_type": "code",
   "execution_count": 21,
   "metadata": {
    "ExecuteTime": {
     "end_time": "2024-01-02T01:03:02.369775044Z",
     "start_time": "2024-01-02T01:03:02.356501629Z"
    },
    "collapsed": false
   },
   "outputs": [
    {
     "data": {
      "text/plain": [
       "'As a biomedical research team, we are selecting datasets to study the association between the human trait \\'Susceptibility-to-Infections\\' and genetic factors, optionally considering the influence of age and gender. After searching the GEO database and parsing the matrix file of a series, we obtained background information and sample characteristics data. We will provide textual information about the dataset background, and a Python dictionary storing a list of unique values for each field of the sample characteristics data. Please carefully review the provided information and answer the following questions about this dataset:\\n1. Does this dataset contain gene expression data? (Note: Pure miRNA data is not suitable.)\\n2. For each of the traits \\'Susceptibility-to-Infections\\', \\'age\\', and \\'gender\\', please address these points:\\n   (1) Is there human data available for this trait?\\n   (2) If so, identify the key in the sample characteristics dictionary where unique values of this trait is recorded. The key is an integer. The trait information might be explicitly recorded, or can be inferred from the field with some biomedical knowledge or understanding about the data collection process.\\n   (3) Choose an appropriate data type (either \\'continuous\\' or \\'binary\\') for each trait. Write a Python function to convert any given value of the trait to this data type. The function should handle inference about the trait value and convert unknown values to None.\\n   Name the functions \\'convert_trait\\', \\'convert_age\\', and \\'convert_gender\\', respectively.\\n\\nBackground information about the dataset:\\n!Series_title\\t\"Associations between IFI44L gene variants and rates of respiratory tract infections during early childhood\"\\n!Series_summary\\t\"Background: Genetic heterogeneity in the innate immune system may account for variable susceptibility to respiratory tract infections (RTIs) in children.  Objective: We aimed to assess the impact of polymorphisms rs273259 and rs1333969 in type I interferon related gene IFI44L on susceptibility to RTIs and acute otitis media in children.  Methods: In two prospective, population-based birth cohorts, the FinnBrain Birth Cohort Study and the STEPS Study, IFI44L genotypes for rs273259 and rs1333969 were determined in relation to the development of RTIs until one and two years of age, respectively, and adjusted incidence rate ratios (aIRR) or odds ratios (OR) were calculated. At age 3 months, whole blood transcriptional profiles were analyzed and nasal samples were tested for respiratory viruses in a subset of children.   Results: In respiratory virus-positive children at 3 months of age, IFI44L gene variants were associated with decreased expression levels of IFI44L and several other interferon related genes.  Conclusions: Variant forms of IFI44L gene were protective against early-childhood RTIs or acute otitis media in two independent birth cohorts, and they attenuated interferon pathway activation by respiratory viruses.\"\\n!Series_overall_design\\t\"71 samples, one each from 71 different subjects; no replicates; no controls; subjects at time of collection were afebrile and without symptoms of an RTI\"\\n\\nSample characteristics dictionary (from \"!Sample_characteristics_ch1\", converted to a Python dictionary that stores the unique values for each field):\\n{0: [\\'subject: 1\\', \\'subject: 2\\', \\'subject: 3\\', \\'subject: 4\\', \\'subject: 5\\', \\'subject: 6\\', \\'subject: 7\\', \\'subject: 8\\', \\'subject: 9\\', \\'subject: 10\\', \\'subject: 11\\', \\'subject: 12\\', \\'subject: 13\\', \\'subject: 14\\', \\'subject: 15\\', \\'subject: 16\\', \\'subject: 17\\', \\'subject: 18\\', \\'subject: 19\\', \\'subject: 20\\', \\'subject: 21\\', \\'subject: 22\\', \\'subject: 23\\', \\'subject: 24\\', \\'subject: 25\\', \\'subject: 26\\', \\'subject: 27\\', \\'subject: 28\\', \\'subject: 29\\', \\'subject: 30\\'], 1: [\\'age in days: 79\\', \\'age in days: 76\\', \\'age in days: 77\\', \\'age in days: 75\\', \\'age in days: 81\\', \\'age in days: 73\\', \\'age in days: 66\\', \\'age in days: 83\\', \\'age in days: 88\\', \\'age in days: 86\\', \\'age in days: 82\\', \\'age in days: 78\\', \\'age in days: 80\\', \\'age in days: 107\\', \\'age in days: 84\\', \\'age in days: 72\\', \\'age in days: 89\\', \\'age in days: 69\\', \\'age in days: 64\\', \\'age in days: 97\\', \\'age in days: 70\\', \\'age in days: 100\\', \\'age in days: 85\\', \\'age in days: 74\\', \\'age in days: 67\\', \\'age in days: 65\\', \\'age in days: 68\\', \\'age in days: 62\\', \\'age in days: 87\\'], 2: [\\'gender: Male\\', \\'gender: Female\\'], 3: [\\'race: White\\'], 4: [\\'respiratory virus detected: Yes\\', \\'respiratory virus detected: No\\', \\'respiratory virus detected: N/A\\'], 5: [\\'rs1333969: 0\\', \\'rs1333969: 1\\', \\'rs1333969: 2\\'], 6: [\\'rs1333969_type: major\\', \\'rs1333969_type: other\\'], 7: [\\'rs273259: 0\\', \\'rs273259: 1\\', \\'rs273259: 2\\'], 8: [\\'rs273259_type: major\\', \\'rs273259_type: other\\']}\\n'"
      ]
     },
     "execution_count": 21,
     "metadata": {},
     "output_type": "execute_result"
    }
   ],
   "source": [
    "f'''As a biomedical research team, we are selecting datasets to study the association between the human trait \\'{TRAIT}\\' and genetic factors, optionally considering the influence of age and gender. After searching the GEO database and parsing the matrix file of a series, we obtained background information and sample characteristics data. We will provide textual information about the dataset background, and a Python dictionary storing a list of unique values for each field of the sample characteristics data. Please carefully review the provided information and answer the following questions about this dataset:\n",
    "1. Does this dataset contain gene expression data? (Note: Pure miRNA data is not suitable.)\n",
    "2. For each of the traits \\'{TRAIT}\\', 'age', and 'gender', please address these points:\n",
    "   (1) Is there human data available for this trait?\n",
    "   (2) If so, identify the key in the sample characteristics dictionary where unique values of this trait is recorded. The key is an integer. The trait information might be explicitly recorded, or can be inferred from the field with some biomedical knowledge or understanding about the data collection process.\n",
    "   (3) Choose an appropriate data type (either 'continuous' or 'binary') for each trait. Write a Python function to convert any given value of the trait to this data type. The function should handle inference about the trait value and convert unknown values to None.\n",
    "   Name the functions 'convert_trait', 'convert_age', and 'convert_gender', respectively.\n",
    "\n",
    "Background information about the dataset:\n",
    "{background_info}\n",
    "\n",
    "Sample characteristics dictionary (from \"!Sample_characteristics_ch1\", converted to a Python dictionary that stores the unique values for each field):\n",
    "{clinical_data_unique}\n",
    "'''"
   ]
  },
  {
   "cell_type": "markdown",
   "metadata": {
    "ExecuteTime": {
     "end_time": "2023-12-31T03:58:04.978240504Z",
     "start_time": "2023-12-31T03:58:04.922365324Z"
    },
    "collapsed": false
   },
   "source": [
    "Understand and verify the answer from GPT, to assign values to the below variables. Assign None to the 'row_id' variables if relevant data row was not found.\n",
    "Later we need to let GPT format its answer to automatically do these. But given the complexity of this step, let's grow some insight from the free-text answers for now."
   ]
  },
  {
   "cell_type": "code",
   "execution_count": 22,
   "metadata": {
    "ExecuteTime": {
     "end_time": "2024-01-02T01:03:03.079540570Z",
     "start_time": "2024-01-02T01:03:03.073638535Z"
    },
    "collapsed": false
   },
   "outputs": [],
   "source": [
    "is_gene_availabe = True\n",
    "trait_row = 4\n",
    "age_row = 1\n",
    "gender_row = 2\n",
    "\n",
    "trait_type = 'binary'"
   ]
  },
  {
   "cell_type": "code",
   "execution_count": 23,
   "metadata": {
    "ExecuteTime": {
     "end_time": "2024-01-02T01:03:03.572682163Z",
     "start_time": "2024-01-02T01:03:03.559775513Z"
    },
    "collapsed": false
   },
   "outputs": [],
   "source": [
    "is_available = is_gene_availabe and (trait_row is not None)\n",
    "if not is_available:\n",
    "    save_cohort_info(cohort, JSON_PATH, is_available)\n",
    "    print(\"This cohort is not usable. Please skip the following steps and jump to the next accession number.\")"
   ]
  },
  {
   "cell_type": "code",
   "execution_count": 24,
   "metadata": {
    "ExecuteTime": {
     "end_time": "2024-01-02T01:03:03.973964287Z",
     "start_time": "2024-01-02T01:03:03.964958096Z"
    },
    "collapsed": false
   },
   "outputs": [
    {
     "data": {
      "text/plain": [
       "(0, None, 1)"
      ]
     },
     "execution_count": 24,
     "metadata": {},
     "output_type": "execute_result"
    }
   ],
   "source": [
    "def convert_trait(tissue_type):\n",
    "    \"\"\"\n",
    "    Convert tissue type to epilepsy presence (binary).\n",
    "    Assuming epilepsy presence for 'Hippocampus' tissue.\n",
    "    \"\"\"\n",
    "    if tissue_type == 'respiratory virus detected: Yes':\n",
    "        return 1  # Epilepsy present\n",
    "    else:\n",
    "        return 0  # Epilepsy not present\n",
    "\n",
    "def convert_age(age_string):\n",
    "    \"\"\"\n",
    "    Convert age string to a numerical value.\n",
    "    \"\"\"\n",
    "    if age_string.startswith('age in days: '):\n",
    "        try:\n",
    "            return int(age_string.split('age in days: ')[1].rstrip(''))  # Extracting numeric part\n",
    "        except ValueError:\n",
    "            return None  # In case of parsing error\n",
    "    else:\n",
    "        return None  # If age string does not follow expected format\n",
    "\n",
    "def convert_gender(gender_string):\n",
    "    \"\"\"\n",
    "    Convert gender string to a binary representation.\n",
    "    Female -> 0, Male -> 1, Unknown -> None\n",
    "    \"\"\"\n",
    "    if gender_string == 'gender: Female':\n",
    "        return 0\n",
    "    elif gender_string == 'gender: Male':\n",
    "        return 1\n",
    "    else:\n",
    "        return None  # In case of unknown gender\n",
    "\n",
    "# Example usage\n",
    "example_tissue = 'tissue: Hippocampus'\n",
    "example_age = 'age: 23y'\n",
    "example_gender = 'gender: Male'\n",
    "\n",
    "converted_trait = convert_trait(example_tissue)\n",
    "converted_age = convert_age(example_age)\n",
    "converted_gender = convert_gender(example_gender)\n",
    "\n",
    "converted_trait, converted_age, converted_gender"
   ]
  },
  {
   "cell_type": "code",
   "execution_count": 25,
   "metadata": {
    "ExecuteTime": {
     "end_time": "2024-01-02T01:03:04.637878352Z",
     "start_time": "2024-01-02T01:03:04.593886885Z"
    },
    "collapsed": false
   },
   "outputs": [
    {
     "data": {
      "text/html": [
       "<div>\n",
       "<style scoped>\n",
       "    .dataframe tbody tr th:only-of-type {\n",
       "        vertical-align: middle;\n",
       "    }\n",
       "\n",
       "    .dataframe tbody tr th {\n",
       "        vertical-align: top;\n",
       "    }\n",
       "\n",
       "    .dataframe thead th {\n",
       "        text-align: right;\n",
       "    }\n",
       "</style>\n",
       "<table border=\"1\" class=\"dataframe\">\n",
       "  <thead>\n",
       "    <tr style=\"text-align: right;\">\n",
       "      <th></th>\n",
       "      <th>GSM4524034</th>\n",
       "      <th>GSM4524035</th>\n",
       "      <th>GSM4524036</th>\n",
       "      <th>GSM4524037</th>\n",
       "      <th>GSM4524038</th>\n",
       "      <th>GSM4524039</th>\n",
       "      <th>GSM4524040</th>\n",
       "      <th>GSM4524041</th>\n",
       "      <th>GSM4524042</th>\n",
       "      <th>GSM4524043</th>\n",
       "      <th>...</th>\n",
       "      <th>GSM4524095</th>\n",
       "      <th>GSM4524096</th>\n",
       "      <th>GSM4524097</th>\n",
       "      <th>GSM4524098</th>\n",
       "      <th>GSM4524099</th>\n",
       "      <th>GSM4524100</th>\n",
       "      <th>GSM4524101</th>\n",
       "      <th>GSM4524102</th>\n",
       "      <th>GSM4524103</th>\n",
       "      <th>GSM4524104</th>\n",
       "    </tr>\n",
       "  </thead>\n",
       "  <tbody>\n",
       "    <tr>\n",
       "      <th>Susceptibility-to-Infections</th>\n",
       "      <td>1</td>\n",
       "      <td>1</td>\n",
       "      <td>0</td>\n",
       "      <td>0</td>\n",
       "      <td>1</td>\n",
       "      <td>1</td>\n",
       "      <td>0</td>\n",
       "      <td>0</td>\n",
       "      <td>0</td>\n",
       "      <td>0</td>\n",
       "      <td>...</td>\n",
       "      <td>0</td>\n",
       "      <td>0</td>\n",
       "      <td>0</td>\n",
       "      <td>0</td>\n",
       "      <td>0</td>\n",
       "      <td>0</td>\n",
       "      <td>1</td>\n",
       "      <td>0</td>\n",
       "      <td>0</td>\n",
       "      <td>1</td>\n",
       "    </tr>\n",
       "    <tr>\n",
       "      <th>Age</th>\n",
       "      <td>79</td>\n",
       "      <td>76</td>\n",
       "      <td>77</td>\n",
       "      <td>75</td>\n",
       "      <td>81</td>\n",
       "      <td>77</td>\n",
       "      <td>73</td>\n",
       "      <td>66</td>\n",
       "      <td>83</td>\n",
       "      <td>88</td>\n",
       "      <td>...</td>\n",
       "      <td>68</td>\n",
       "      <td>67</td>\n",
       "      <td>68</td>\n",
       "      <td>75</td>\n",
       "      <td>69</td>\n",
       "      <td>62</td>\n",
       "      <td>67</td>\n",
       "      <td>66</td>\n",
       "      <td>87</td>\n",
       "      <td>67</td>\n",
       "    </tr>\n",
       "    <tr>\n",
       "      <th>Gender</th>\n",
       "      <td>1</td>\n",
       "      <td>0</td>\n",
       "      <td>1</td>\n",
       "      <td>1</td>\n",
       "      <td>1</td>\n",
       "      <td>0</td>\n",
       "      <td>1</td>\n",
       "      <td>1</td>\n",
       "      <td>1</td>\n",
       "      <td>1</td>\n",
       "      <td>...</td>\n",
       "      <td>0</td>\n",
       "      <td>1</td>\n",
       "      <td>0</td>\n",
       "      <td>1</td>\n",
       "      <td>0</td>\n",
       "      <td>0</td>\n",
       "      <td>1</td>\n",
       "      <td>0</td>\n",
       "      <td>1</td>\n",
       "      <td>1</td>\n",
       "    </tr>\n",
       "  </tbody>\n",
       "</table>\n",
       "<p>3 rows × 71 columns</p>\n",
       "</div>"
      ],
      "text/plain": [
       "                              GSM4524034  GSM4524035  GSM4524036  GSM4524037  \\\n",
       "Susceptibility-to-Infections           1           1           0           0   \n",
       "Age                                   79          76          77          75   \n",
       "Gender                                 1           0           1           1   \n",
       "\n",
       "                              GSM4524038  GSM4524039  GSM4524040  GSM4524041  \\\n",
       "Susceptibility-to-Infections           1           1           0           0   \n",
       "Age                                   81          77          73          66   \n",
       "Gender                                 1           0           1           1   \n",
       "\n",
       "                              GSM4524042  GSM4524043  ...  GSM4524095  \\\n",
       "Susceptibility-to-Infections           0           0  ...           0   \n",
       "Age                                   83          88  ...          68   \n",
       "Gender                                 1           1  ...           0   \n",
       "\n",
       "                              GSM4524096  GSM4524097  GSM4524098  GSM4524099  \\\n",
       "Susceptibility-to-Infections           0           0           0           0   \n",
       "Age                                   67          68          75          69   \n",
       "Gender                                 1           0           1           0   \n",
       "\n",
       "                              GSM4524100  GSM4524101  GSM4524102  GSM4524103  \\\n",
       "Susceptibility-to-Infections           0           1           0           0   \n",
       "Age                                   62          67          66          87   \n",
       "Gender                                 0           1           0           1   \n",
       "\n",
       "                              GSM4524104  \n",
       "Susceptibility-to-Infections           1  \n",
       "Age                                   67  \n",
       "Gender                                 1  \n",
       "\n",
       "[3 rows x 71 columns]"
      ]
     },
     "execution_count": 25,
     "metadata": {},
     "output_type": "execute_result"
    }
   ],
   "source": [
    "selected_clinical_data = geo_select_clinical_features(clinical_data, TRAIT, trait_row, convert_trait, age_row=age_row,\n",
    "                                                      convert_age=convert_age, gender_row=gender_row,\n",
    "                                                      convert_gender=convert_gender)\n",
    "selected_clinical_data.head()"
   ]
  },
  {
   "cell_type": "markdown",
   "metadata": {
    "ExecuteTime": {
     "end_time": "2023-12-31T03:58:04.978664193Z",
     "start_time": "2023-12-31T03:58:04.966117261Z"
    },
    "collapsed": false
   },
   "source": [
    "### Genetic data preprocessing and final filtering"
   ]
  },
  {
   "cell_type": "code",
   "execution_count": 26,
   "metadata": {
    "ExecuteTime": {
     "end_time": "2024-01-02T01:03:06.246474256Z",
     "start_time": "2024-01-02T01:03:05.670354792Z"
    },
    "collapsed": false
   },
   "outputs": [
    {
     "data": {
      "text/html": [
       "<div>\n",
       "<style scoped>\n",
       "    .dataframe tbody tr th:only-of-type {\n",
       "        vertical-align: middle;\n",
       "    }\n",
       "\n",
       "    .dataframe tbody tr th {\n",
       "        vertical-align: top;\n",
       "    }\n",
       "\n",
       "    .dataframe thead th {\n",
       "        text-align: right;\n",
       "    }\n",
       "</style>\n",
       "<table border=\"1\" class=\"dataframe\">\n",
       "  <thead>\n",
       "    <tr style=\"text-align: right;\">\n",
       "      <th></th>\n",
       "      <th>GSM4524034</th>\n",
       "      <th>GSM4524035</th>\n",
       "      <th>GSM4524036</th>\n",
       "      <th>GSM4524037</th>\n",
       "      <th>GSM4524038</th>\n",
       "      <th>GSM4524039</th>\n",
       "      <th>GSM4524040</th>\n",
       "      <th>GSM4524041</th>\n",
       "      <th>GSM4524042</th>\n",
       "      <th>GSM4524043</th>\n",
       "      <th>...</th>\n",
       "      <th>GSM4524095</th>\n",
       "      <th>GSM4524096</th>\n",
       "      <th>GSM4524097</th>\n",
       "      <th>GSM4524098</th>\n",
       "      <th>GSM4524099</th>\n",
       "      <th>GSM4524100</th>\n",
       "      <th>GSM4524101</th>\n",
       "      <th>GSM4524102</th>\n",
       "      <th>GSM4524103</th>\n",
       "      <th>GSM4524104</th>\n",
       "    </tr>\n",
       "    <tr>\n",
       "      <th>ID</th>\n",
       "      <th></th>\n",
       "      <th></th>\n",
       "      <th></th>\n",
       "      <th></th>\n",
       "      <th></th>\n",
       "      <th></th>\n",
       "      <th></th>\n",
       "      <th></th>\n",
       "      <th></th>\n",
       "      <th></th>\n",
       "      <th></th>\n",
       "      <th></th>\n",
       "      <th></th>\n",
       "      <th></th>\n",
       "      <th></th>\n",
       "      <th></th>\n",
       "      <th></th>\n",
       "      <th></th>\n",
       "      <th></th>\n",
       "      <th></th>\n",
       "      <th></th>\n",
       "    </tr>\n",
       "  </thead>\n",
       "  <tbody>\n",
       "    <tr>\n",
       "      <th>ILMN_1343291</th>\n",
       "      <td>13309.5195</td>\n",
       "      <td>9765.3945</td>\n",
       "      <td>8867.2051</td>\n",
       "      <td>13128.9766</td>\n",
       "      <td>9564.8379</td>\n",
       "      <td>9448.2520</td>\n",
       "      <td>11272.5820</td>\n",
       "      <td>10328.0078</td>\n",
       "      <td>9231.8906</td>\n",
       "      <td>10374.8604</td>\n",
       "      <td>...</td>\n",
       "      <td>9093.6113</td>\n",
       "      <td>11328.8477</td>\n",
       "      <td>9156.8330</td>\n",
       "      <td>14582.0225</td>\n",
       "      <td>8973.2021</td>\n",
       "      <td>12808.9590</td>\n",
       "      <td>9158.5527</td>\n",
       "      <td>10990.1729</td>\n",
       "      <td>8964.0518</td>\n",
       "      <td>9565.1475</td>\n",
       "    </tr>\n",
       "    <tr>\n",
       "      <th>ILMN_1343295</th>\n",
       "      <td>1561.3577</td>\n",
       "      <td>1255.9554</td>\n",
       "      <td>1131.8611</td>\n",
       "      <td>1360.7297</td>\n",
       "      <td>1160.3673</td>\n",
       "      <td>966.0376</td>\n",
       "      <td>706.0789</td>\n",
       "      <td>1161.2283</td>\n",
       "      <td>1087.5573</td>\n",
       "      <td>1035.1798</td>\n",
       "      <td>...</td>\n",
       "      <td>937.0262</td>\n",
       "      <td>1717.5266</td>\n",
       "      <td>999.5264</td>\n",
       "      <td>1172.7281</td>\n",
       "      <td>1205.9568</td>\n",
       "      <td>940.1333</td>\n",
       "      <td>1236.7032</td>\n",
       "      <td>1117.1794</td>\n",
       "      <td>908.4764</td>\n",
       "      <td>1299.9790</td>\n",
       "    </tr>\n",
       "    <tr>\n",
       "      <th>ILMN_1651199</th>\n",
       "      <td>-0.9195</td>\n",
       "      <td>-3.9747</td>\n",
       "      <td>-2.9242</td>\n",
       "      <td>-5.1920</td>\n",
       "      <td>-1.1818</td>\n",
       "      <td>-1.5697</td>\n",
       "      <td>-5.5167</td>\n",
       "      <td>-0.1118</td>\n",
       "      <td>-6.2358</td>\n",
       "      <td>2.3655</td>\n",
       "      <td>...</td>\n",
       "      <td>0.4762</td>\n",
       "      <td>2.2516</td>\n",
       "      <td>-4.4837</td>\n",
       "      <td>-0.1125</td>\n",
       "      <td>4.5636</td>\n",
       "      <td>5.8077</td>\n",
       "      <td>-3.4421</td>\n",
       "      <td>-2.4684</td>\n",
       "      <td>-1.5485</td>\n",
       "      <td>-3.3415</td>\n",
       "    </tr>\n",
       "    <tr>\n",
       "      <th>ILMN_1651209</th>\n",
       "      <td>-2.2325</td>\n",
       "      <td>2.9160</td>\n",
       "      <td>14.7379</td>\n",
       "      <td>2.5597</td>\n",
       "      <td>6.8982</td>\n",
       "      <td>-4.7455</td>\n",
       "      <td>1.3540</td>\n",
       "      <td>2.3672</td>\n",
       "      <td>-2.0607</td>\n",
       "      <td>9.1681</td>\n",
       "      <td>...</td>\n",
       "      <td>4.8679</td>\n",
       "      <td>7.7793</td>\n",
       "      <td>-4.8767</td>\n",
       "      <td>0.0761</td>\n",
       "      <td>5.3398</td>\n",
       "      <td>-1.0107</td>\n",
       "      <td>-0.3009</td>\n",
       "      <td>7.1235</td>\n",
       "      <td>8.4283</td>\n",
       "      <td>-5.3956</td>\n",
       "    </tr>\n",
       "    <tr>\n",
       "      <th>ILMN_1651210</th>\n",
       "      <td>0.9305</td>\n",
       "      <td>-1.0970</td>\n",
       "      <td>0.3967</td>\n",
       "      <td>-7.0590</td>\n",
       "      <td>-1.4322</td>\n",
       "      <td>3.4795</td>\n",
       "      <td>-5.5385</td>\n",
       "      <td>1.4125</td>\n",
       "      <td>-1.8344</td>\n",
       "      <td>-0.9941</td>\n",
       "      <td>...</td>\n",
       "      <td>0.0817</td>\n",
       "      <td>2.8319</td>\n",
       "      <td>7.6631</td>\n",
       "      <td>-1.7962</td>\n",
       "      <td>6.5084</td>\n",
       "      <td>12.0006</td>\n",
       "      <td>3.6063</td>\n",
       "      <td>7.5671</td>\n",
       "      <td>-0.6048</td>\n",
       "      <td>4.5391</td>\n",
       "    </tr>\n",
       "  </tbody>\n",
       "</table>\n",
       "<p>5 rows × 71 columns</p>\n",
       "</div>"
      ],
      "text/plain": [
       "              GSM4524034  GSM4524035  GSM4524036  GSM4524037  GSM4524038  \\\n",
       "ID                                                                         \n",
       "ILMN_1343291  13309.5195   9765.3945   8867.2051  13128.9766   9564.8379   \n",
       "ILMN_1343295   1561.3577   1255.9554   1131.8611   1360.7297   1160.3673   \n",
       "ILMN_1651199     -0.9195     -3.9747     -2.9242     -5.1920     -1.1818   \n",
       "ILMN_1651209     -2.2325      2.9160     14.7379      2.5597      6.8982   \n",
       "ILMN_1651210      0.9305     -1.0970      0.3967     -7.0590     -1.4322   \n",
       "\n",
       "              GSM4524039  GSM4524040  GSM4524041  GSM4524042  GSM4524043  ...  \\\n",
       "ID                                                                        ...   \n",
       "ILMN_1343291   9448.2520  11272.5820  10328.0078   9231.8906  10374.8604  ...   \n",
       "ILMN_1343295    966.0376    706.0789   1161.2283   1087.5573   1035.1798  ...   \n",
       "ILMN_1651199     -1.5697     -5.5167     -0.1118     -6.2358      2.3655  ...   \n",
       "ILMN_1651209     -4.7455      1.3540      2.3672     -2.0607      9.1681  ...   \n",
       "ILMN_1651210      3.4795     -5.5385      1.4125     -1.8344     -0.9941  ...   \n",
       "\n",
       "              GSM4524095  GSM4524096  GSM4524097  GSM4524098  GSM4524099  \\\n",
       "ID                                                                         \n",
       "ILMN_1343291   9093.6113  11328.8477   9156.8330  14582.0225   8973.2021   \n",
       "ILMN_1343295    937.0262   1717.5266    999.5264   1172.7281   1205.9568   \n",
       "ILMN_1651199      0.4762      2.2516     -4.4837     -0.1125      4.5636   \n",
       "ILMN_1651209      4.8679      7.7793     -4.8767      0.0761      5.3398   \n",
       "ILMN_1651210      0.0817      2.8319      7.6631     -1.7962      6.5084   \n",
       "\n",
       "              GSM4524100  GSM4524101  GSM4524102  GSM4524103  GSM4524104  \n",
       "ID                                                                        \n",
       "ILMN_1343291  12808.9590   9158.5527  10990.1729   8964.0518   9565.1475  \n",
       "ILMN_1343295    940.1333   1236.7032   1117.1794    908.4764   1299.9790  \n",
       "ILMN_1651199      5.8077     -3.4421     -2.4684     -1.5485     -3.3415  \n",
       "ILMN_1651209     -1.0107     -0.3009      7.1235      8.4283     -5.3956  \n",
       "ILMN_1651210     12.0006      3.6063      7.5671     -0.6048      4.5391  \n",
       "\n",
       "[5 rows x 71 columns]"
      ]
     },
     "execution_count": 26,
     "metadata": {},
     "output_type": "execute_result"
    }
   ],
   "source": [
    "genetic_data = get_genetic_data(matrix_file)\n",
    "genetic_data.head()"
   ]
  },
  {
   "cell_type": "code",
   "execution_count": 27,
   "metadata": {
    "ExecuteTime": {
     "end_time": "2024-01-02T01:03:06.250833943Z",
     "start_time": "2024-01-02T01:03:06.246758837Z"
    },
    "collapsed": false
   },
   "outputs": [
    {
     "data": {
      "text/plain": [
       "['ILMN_1343291',\n",
       " 'ILMN_1343295',\n",
       " 'ILMN_1651199',\n",
       " 'ILMN_1651209',\n",
       " 'ILMN_1651210',\n",
       " 'ILMN_1651221',\n",
       " 'ILMN_1651228',\n",
       " 'ILMN_1651229',\n",
       " 'ILMN_1651230',\n",
       " 'ILMN_1651232',\n",
       " 'ILMN_1651235',\n",
       " 'ILMN_1651236',\n",
       " 'ILMN_1651237',\n",
       " 'ILMN_1651238',\n",
       " 'ILMN_1651249',\n",
       " 'ILMN_1651253',\n",
       " 'ILMN_1651254',\n",
       " 'ILMN_1651259',\n",
       " 'ILMN_1651260',\n",
       " 'ILMN_1651262']"
      ]
     },
     "execution_count": 27,
     "metadata": {},
     "output_type": "execute_result"
    }
   ],
   "source": [
    "gene_row_ids = genetic_data.index[:20].tolist()\n",
    "gene_row_ids"
   ]
  },
  {
   "cell_type": "markdown",
   "metadata": {
    "ExecuteTime": {
     "end_time": "2023-12-31T03:30:41.595335164Z",
     "start_time": "2023-12-31T03:30:41.513232329Z"
    },
    "collapsed": false
   },
   "source": [
    "Check if the gene dataset requires mapping to get the gene symbols corresponding to each data row."
   ]
  },
  {
   "cell_type": "markdown",
   "metadata": {
    "collapsed": false
   },
   "source": [
    "Reference prompt:"
   ]
  },
  {
   "cell_type": "code",
   "execution_count": 28,
   "metadata": {
    "ExecuteTime": {
     "end_time": "2024-01-02T01:03:07.586216481Z",
     "start_time": "2024-01-02T01:03:07.574527035Z"
    },
    "collapsed": false
   },
   "outputs": [
    {
     "data": {
      "text/plain": [
       "\"\\nBelow are the row headers of a gene expression dataset in GEO. Based on your biomedical knowledge, are they human gene symbols, or are they some other identifiers that need to be mapped to gene symbols? Your answer should be concluded by starting a new line and strictly following this format:\\nrequires_gene_mapping = (True or False)\\n\\nRow headers:\\n['ILMN_1343291', 'ILMN_1343295', 'ILMN_1651199', 'ILMN_1651209', 'ILMN_1651210', 'ILMN_1651221', 'ILMN_1651228', 'ILMN_1651229', 'ILMN_1651230', 'ILMN_1651232', 'ILMN_1651235', 'ILMN_1651236', 'ILMN_1651237', 'ILMN_1651238', 'ILMN_1651249', 'ILMN_1651253', 'ILMN_1651254', 'ILMN_1651259', 'ILMN_1651260', 'ILMN_1651262']\\n\""
      ]
     },
     "execution_count": 28,
     "metadata": {},
     "output_type": "execute_result"
    }
   ],
   "source": [
    "f'''\n",
    "Below are the row headers of a gene expression dataset in GEO. Based on your biomedical knowledge, are they human gene symbols, or are they some other identifiers that need to be mapped to gene symbols? Your answer should be concluded by starting a new line and strictly following this format:\n",
    "requires_gene_mapping = (True or False)\n",
    "\n",
    "Row headers:\n",
    "{gene_row_ids}\n",
    "'''"
   ]
  },
  {
   "cell_type": "markdown",
   "metadata": {
    "collapsed": false
   },
   "source": [
    "If not required, jump directly to the gene normalization step"
   ]
  },
  {
   "cell_type": "code",
   "execution_count": 29,
   "metadata": {
    "ExecuteTime": {
     "end_time": "2024-01-02T01:03:08.263712538Z",
     "start_time": "2024-01-02T01:03:08.260656314Z"
    },
    "collapsed": false
   },
   "outputs": [],
   "source": [
    "requires_gene_mapping = True"
   ]
  },
  {
   "cell_type": "code",
   "execution_count": 30,
   "metadata": {
    "ExecuteTime": {
     "end_time": "2024-01-02T01:03:33.822550310Z",
     "start_time": "2024-01-02T01:03:08.648958912Z"
    },
    "collapsed": false
   },
   "outputs": [
    {
     "name": "stdout",
     "output_type": "stream",
     "text": [
      "{'ID': ['ILMN_1762337', 'ILMN_2055271', 'ILMN_1736007', 'ILMN_2383229', 'ILMN_1806310'], 'SPECIES': ['Homo sapiens', 'Homo sapiens', 'Homo sapiens', 'Homo sapiens', 'Homo sapiens'], 'SOURCE': ['RefSeq', 'RefSeq', 'RefSeq', 'RefSeq', 'RefSeq'], 'SEARCH_KEY': ['NM_182762.2', 'NM_130786.2', 'NM_130786.2', 'NM_138932.1', 'NM_138933.1'], 'TRANSCRIPT': ['ILMN_183371', 'ILMN_175569', 'ILMN_18893', 'ILMN_18532', 'ILMN_7300'], 'ILMN_GENE': ['7A5', 'A1BG', 'A1BG', 'A1CF', 'A1CF'], 'SOURCE_REFERENCE_ID': ['NM_182762.2', 'NM_130786.2', 'NM_130786.2', 'NM_138932.1', 'NM_014576.2'], 'REFSEQ_ID': ['NM_182762.2', 'NM_130786.2', 'NM_130786.2', 'NM_138932.1', 'NM_014576.2'], 'UNIGENE_ID': [nan, nan, nan, nan, nan], 'ENTREZ_GENE_ID': [346389.0, 1.0, 1.0, 29974.0, 29974.0], 'GI': [47271497.0, 21071029.0, 21071029.0, 20357574.0, 20357571.0], 'ACCESSION': ['NM_182762.2', 'NM_130786.2', 'NM_130786.2', 'NM_138932.1', 'NM_014576.2'], 'SYMBOL': ['7A5', 'A1BG', 'A1BG', 'A1CF', 'A1CF'], 'PROTEIN_PRODUCT': ['NP_877439.2', 'NP_570602.2', 'NP_570602.2', 'NP_620310.1', 'NP_055391.2'], 'ARRAY_ADDRESS_ID': [6450255.0, 2570615.0, 6370619.0, 2600039.0, 2650615.0], 'PROBE_TYPE': ['S', 'S', 'S', 'A', 'A'], 'PROBE_START': [2725.0, 3151.0, 2512.0, 1826.0, 1893.0], 'PROBE_SEQUENCE': ['GTGTTACAAGACCTTCAGTCAGCTTTGGACAGAATGAAAAACCCTGTGAC', 'GGGATTACAGGGGTGAGCCACCACGCCCAGCCCCAGCTTAGTTTTTTAAA', 'GCAGAGCTGGACGCTGTGGAAATGGCTGGATTCCTCTGTGTTCTTTCCCA', 'TGCTGTCCCTAATGCAACTGCACCCGTGTCTGCAGCCCAGCTCAAGCAAG', 'GAGGTCTACCCAACTTTTGCAGTGACTGCCCGAGGGGATGGATATGGCAC'], 'CHROMOSOME': ['7', '19', '19', '10', '10'], 'PROBE_CHR_ORIENTATION': ['-', '-', '-', '-', '-'], 'PROBE_COORDINATES': ['20147187-20147236', '63548541-63548590', '63549180-63549229', '52566586-52566635', '52566495-52566544'], 'DEFINITION': ['Homo sapiens putative binding protein 7a5 (7A5), mRNA.', 'Homo sapiens alpha-1-B glycoprotein (A1BG), mRNA.', 'Homo sapiens alpha-1-B glycoprotein (A1BG), mRNA.', 'Homo sapiens APOBEC1 complementation factor (A1CF), transcript variant 2, mRNA.', 'Homo sapiens APOBEC1 complementation factor (A1CF), transcript variant 1, mRNA.'], 'ONTOLOGY_COMPONENT': [nan, 'The space external to the outermost structure of a cell. For cells without external protective or external encapsulating structures this refers to space outside of the plasma membrane. This term covers the host cell environment outside an intracellular parasite [goid 5576] [pmid 3458201] [evidence IDA]', 'The space external to the outermost structure of a cell. For cells without external protective or external encapsulating structures this refers to space outside of the plasma membrane. This term covers the host cell environment outside an intracellular parasite [goid 5576] [pmid 3458201] [evidence IDA]', \"A membrane-bounded organelle of eukaryotic cells in which chromosomes are housed and replicated. In most cells, the nucleus contains all of the cell's chromosomes except the organellar chromosomes, and is the site of RNA synthesis and processing. In some species, or in specialized cell types, RNA metabolism or DNA replication may be absent [goid 5634] [evidence IEA]; All of the contents of a cell excluding the plasma membrane and nucleus, but including other subcellular structures [goid 5737] [pmid 12881431] [evidence IDA]; The irregular network of unit membranes, visible only by electron microscopy, that occurs in the cytoplasm of many eukaryotic cells. The membranes form a complex meshwork of tubular channels, which are often expanded into slitlike cavities called cisternae. The ER takes two forms, rough (or granular), with ribosomes adhering to the outer surface, and smooth (with no ribosomes attached) [goid 5783] [evidence IEA]; Protein complex that mediates editing of the mRNA encoding apolipoprotein B; catalyzes the deamination of C to U (residue 6666 in the human mRNA). Contains a catalytic subunit, APOBEC-1, and other proteins (e.g. human ASP; rat ASP and KSRP) [goid 30895] [pmid 10781591] [evidence IDA]\", \"A membrane-bounded organelle of eukaryotic cells in which chromosomes are housed and replicated. In most cells, the nucleus contains all of the cell's chromosomes except the organellar chromosomes, and is the site of RNA synthesis and processing. In some species, or in specialized cell types, RNA metabolism or DNA replication may be absent [goid 5634] [evidence IEA]; All of the contents of a cell excluding the plasma membrane and nucleus, but including other subcellular structures [goid 5737] [pmid 12881431] [evidence IDA]; The irregular network of unit membranes, visible only by electron microscopy, that occurs in the cytoplasm of many eukaryotic cells. The membranes form a complex meshwork of tubular channels, which are often expanded into slitlike cavities called cisternae. The ER takes two forms, rough (or granular), with ribosomes adhering to the outer surface, and smooth (with no ribosomes attached) [goid 5783] [evidence IEA]; Protein complex that mediates editing of the mRNA encoding apolipoprotein B; catalyzes the deamination of C to U (residue 6666 in the human mRNA). Contains a catalytic subunit, APOBEC-1, and other proteins (e.g. human ASP; rat ASP and KSRP) [goid 30895] [pmid 10781591] [evidence IDA]\"], 'ONTOLOGY_PROCESS': [nan, 'Any process specifically pertinent to the functioning of integrated living units: cells, tissues, organs, and organisms. A process is a collection of molecular events with a defined beginning and end [goid 8150] [evidence ND ]', 'Any process specifically pertinent to the functioning of integrated living units: cells, tissues, organs, and organisms. A process is a collection of molecular events with a defined beginning and end [goid 8150] [evidence ND ]', 'Any process involved in the conversion of a primary mRNA transcript into one or more mature mRNA(s) prior to translation into polypeptide [goid 6397] [evidence IEA]; Any process involved in maintaining the structure and integrity of a protein and preventing it from degradation or aggregation [goid 50821] [pmid 12881431] [evidence IDA]', 'Any process involved in the conversion of a primary mRNA transcript into one or more mature mRNA(s) prior to translation into polypeptide [goid 6397] [evidence IEA]; Any process involved in maintaining the structure and integrity of a protein and preventing it from degradation or aggregation [goid 50821] [pmid 12881431] [evidence IDA]'], 'ONTOLOGY_FUNCTION': [nan, 'Elemental activities, such as catalysis or binding, describing the actions of a gene product at the molecular level. A given gene product may exhibit one or more molecular functions [goid 3674] [evidence ND ]', 'Elemental activities, such as catalysis or binding, describing the actions of a gene product at the molecular level. A given gene product may exhibit one or more molecular functions [goid 3674] [evidence ND ]', 'Interacting selectively with a nucleotide, any compound consisting of a nucleoside that is esterified with (ortho)phosphate or an oligophosphate at any hydroxyl group on the ribose or deoxyribose moiety [goid 166] [evidence IEA]; Interacting selectively with double-stranded RNA [goid 3725] [pmid 11871661] [evidence IDA]; Interacting selectively with single-stranded RNA [goid 3727] [pmid 11871661] [evidence IDA]; Interacting selectively with any protein or protein complex (a complex of two or more proteins that may include other nonprotein molecules) [goid 5515] [pmid 12896982] [evidence IPI]; Interacting selectively with any protein or protein complex (a complex of two or more proteins that may include other nonprotein molecules) [goid 5515] [pmid 10669759] [evidence IPI]', 'Interacting selectively with a nucleotide, any compound consisting of a nucleoside that is esterified with (ortho)phosphate or an oligophosphate at any hydroxyl group on the ribose or deoxyribose moiety [goid 166] [evidence IEA]; Interacting selectively with double-stranded RNA [goid 3725] [pmid 11871661] [evidence IDA]; Interacting selectively with single-stranded RNA [goid 3727] [pmid 11871661] [evidence IDA]; Interacting selectively with any protein or protein complex (a complex of two or more proteins that may include other nonprotein molecules) [goid 5515] [pmid 12896982] [evidence IPI]; Interacting selectively with any protein or protein complex (a complex of two or more proteins that may include other nonprotein molecules) [goid 5515] [pmid 10669759] [evidence IPI]'], 'SYNONYMS': [nan, 'A1B; GAB; HYST2477; ABG; DKFZp686F0970', 'A1B; GAB; HYST2477; ABG; DKFZp686F0970', 'ASP; MGC163391; APOBEC1CF; ACF65; ACF64; ACF; RP11-564C4.2', 'ASP; APOBEC1CF; ACF65; ACF64; RP11-564C4.2; MGC163391; ACF'], 'OBSOLETE_PROBE_ID': [nan, 'A1B; GAB; HYST2477; ABG; DKFZp686F0970', 'A1B; GAB; HYST2477; ABG; DKFZp686F0970', 'ASP; APOBEC1CF; ACF65; ACF64; RP11-564C4.2; MGC163391; ACF', 'ASP; APOBEC1CF; ACF65; ACF64; RP11-564C4.2; MGC163391; ACF'], 'GB_ACC': ['NM_182762.2', 'NM_130786.2', 'NM_130786.2', 'NM_138932.1', 'NM_014576.2'], 'SPOT_ID': [nan, nan, nan, nan, nan]}\n"
     ]
    }
   ],
   "source": [
    "if requires_gene_mapping:\n",
    "    gene_annotation = get_gene_annotation(soft_file)\n",
    "    gene_annotation_summary = preview_df(gene_annotation)\n",
    "    print(gene_annotation_summary)"
   ]
  },
  {
   "cell_type": "markdown",
   "metadata": {
    "ExecuteTime": {
     "end_time": "2023-12-31T03:58:04.978931927Z",
     "start_time": "2023-12-31T03:58:04.966328339Z"
    },
    "collapsed": false
   },
   "source": [
    "Observe the first few cells in the ID column of the gene annotation dataframe, to find the names of columns that store the gene probe IDs and gene symbols respectively.\n",
    "Reference prompt:"
   ]
  },
  {
   "cell_type": "code",
   "execution_count": 31,
   "metadata": {
    "ExecuteTime": {
     "end_time": "2024-01-02T01:03:33.822912446Z",
     "start_time": "2024-01-02T01:03:33.804491826Z"
    },
    "collapsed": false
   },
   "outputs": [
    {
     "name": "stdout",
     "output_type": "stream",
     "text": [
      "\n",
      "    As a biomedical research team, we extracted the gene annotation data from a series in the GEO database, and saved it to a Python dictionary. Please read the dictionary, and decide which key stores the ID of the probe, and which key stores the gene symbols. Please strict follow this format in your answer:\n",
      "    probe_name_key = 'key_name1'\n",
      "    gene_name_key = 'key_name2'\n",
      "\n",
      "    Gene annotation dictionary:\n",
      "    {'ID': ['ILMN_1762337', 'ILMN_2055271', 'ILMN_1736007', 'ILMN_2383229', 'ILMN_1806310'], 'SPECIES': ['Homo sapiens', 'Homo sapiens', 'Homo sapiens', 'Homo sapiens', 'Homo sapiens'], 'SOURCE': ['RefSeq', 'RefSeq', 'RefSeq', 'RefSeq', 'RefSeq'], 'SEARCH_KEY': ['NM_182762.2', 'NM_130786.2', 'NM_130786.2', 'NM_138932.1', 'NM_138933.1'], 'TRANSCRIPT': ['ILMN_183371', 'ILMN_175569', 'ILMN_18893', 'ILMN_18532', 'ILMN_7300'], 'ILMN_GENE': ['7A5', 'A1BG', 'A1BG', 'A1CF', 'A1CF'], 'SOURCE_REFERENCE_ID': ['NM_182762.2', 'NM_130786.2', 'NM_130786.2', 'NM_138932.1', 'NM_014576.2'], 'REFSEQ_ID': ['NM_182762.2', 'NM_130786.2', 'NM_130786.2', 'NM_138932.1', 'NM_014576.2'], 'UNIGENE_ID': [nan, nan, nan, nan, nan], 'ENTREZ_GENE_ID': [346389.0, 1.0, 1.0, 29974.0, 29974.0], 'GI': [47271497.0, 21071029.0, 21071029.0, 20357574.0, 20357571.0], 'ACCESSION': ['NM_182762.2', 'NM_130786.2', 'NM_130786.2', 'NM_138932.1', 'NM_014576.2'], 'SYMBOL': ['7A5', 'A1BG', 'A1BG', 'A1CF', 'A1CF'], 'PROTEIN_PRODUCT': ['NP_877439.2', 'NP_570602.2', 'NP_570602.2', 'NP_620310.1', 'NP_055391.2'], 'ARRAY_ADDRESS_ID': [6450255.0, 2570615.0, 6370619.0, 2600039.0, 2650615.0], 'PROBE_TYPE': ['S', 'S', 'S', 'A', 'A'], 'PROBE_START': [2725.0, 3151.0, 2512.0, 1826.0, 1893.0], 'PROBE_SEQUENCE': ['GTGTTACAAGACCTTCAGTCAGCTTTGGACAGAATGAAAAACCCTGTGAC', 'GGGATTACAGGGGTGAGCCACCACGCCCAGCCCCAGCTTAGTTTTTTAAA', 'GCAGAGCTGGACGCTGTGGAAATGGCTGGATTCCTCTGTGTTCTTTCCCA', 'TGCTGTCCCTAATGCAACTGCACCCGTGTCTGCAGCCCAGCTCAAGCAAG', 'GAGGTCTACCCAACTTTTGCAGTGACTGCCCGAGGGGATGGATATGGCAC'], 'CHROMOSOME': ['7', '19', '19', '10', '10'], 'PROBE_CHR_ORIENTATION': ['-', '-', '-', '-', '-'], 'PROBE_COORDINATES': ['20147187-20147236', '63548541-63548590', '63549180-63549229', '52566586-52566635', '52566495-52566544'], 'DEFINITION': ['Homo sapiens putative binding protein 7a5 (7A5), mRNA.', 'Homo sapiens alpha-1-B glycoprotein (A1BG), mRNA.', 'Homo sapiens alpha-1-B glycoprotein (A1BG), mRNA.', 'Homo sapiens APOBEC1 complementation factor (A1CF), transcript variant 2, mRNA.', 'Homo sapiens APOBEC1 complementation factor (A1CF), transcript variant 1, mRNA.'], 'ONTOLOGY_COMPONENT': [nan, 'The space external to the outermost structure of a cell. For cells without external protective or external encapsulating structures this refers to space outside of the plasma membrane. This term covers the host cell environment outside an intracellular parasite [goid 5576] [pmid 3458201] [evidence IDA]', 'The space external to the outermost structure of a cell. For cells without external protective or external encapsulating structures this refers to space outside of the plasma membrane. This term covers the host cell environment outside an intracellular parasite [goid 5576] [pmid 3458201] [evidence IDA]', \"A membrane-bounded organelle of eukaryotic cells in which chromosomes are housed and replicated. In most cells, the nucleus contains all of the cell's chromosomes except the organellar chromosomes, and is the site of RNA synthesis and processing. In some species, or in specialized cell types, RNA metabolism or DNA replication may be absent [goid 5634] [evidence IEA]; All of the contents of a cell excluding the plasma membrane and nucleus, but including other subcellular structures [goid 5737] [pmid 12881431] [evidence IDA]; The irregular network of unit membranes, visible only by electron microscopy, that occurs in the cytoplasm of many eukaryotic cells. The membranes form a complex meshwork of tubular channels, which are often expanded into slitlike cavities called cisternae. The ER takes two forms, rough (or granular), with ribosomes adhering to the outer surface, and smooth (with no ribosomes attached) [goid 5783] [evidence IEA]; Protein complex that mediates editing of the mRNA encoding apolipoprotein B; catalyzes the deamination of C to U (residue 6666 in the human mRNA). Contains a catalytic subunit, APOBEC-1, and other proteins (e.g. human ASP; rat ASP and KSRP) [goid 30895] [pmid 10781591] [evidence IDA]\", \"A membrane-bounded organelle of eukaryotic cells in which chromosomes are housed and replicated. In most cells, the nucleus contains all of the cell's chromosomes except the organellar chromosomes, and is the site of RNA synthesis and processing. In some species, or in specialized cell types, RNA metabolism or DNA replication may be absent [goid 5634] [evidence IEA]; All of the contents of a cell excluding the plasma membrane and nucleus, but including other subcellular structures [goid 5737] [pmid 12881431] [evidence IDA]; The irregular network of unit membranes, visible only by electron microscopy, that occurs in the cytoplasm of many eukaryotic cells. The membranes form a complex meshwork of tubular channels, which are often expanded into slitlike cavities called cisternae. The ER takes two forms, rough (or granular), with ribosomes adhering to the outer surface, and smooth (with no ribosomes attached) [goid 5783] [evidence IEA]; Protein complex that mediates editing of the mRNA encoding apolipoprotein B; catalyzes the deamination of C to U (residue 6666 in the human mRNA). Contains a catalytic subunit, APOBEC-1, and other proteins (e.g. human ASP; rat ASP and KSRP) [goid 30895] [pmid 10781591] [evidence IDA]\"], 'ONTOLOGY_PROCESS': [nan, 'Any process specifically pertinent to the functioning of integrated living units: cells, tissues, organs, and organisms. A process is a collection of molecular events with a defined beginning and end [goid 8150] [evidence ND ]', 'Any process specifically pertinent to the functioning of integrated living units: cells, tissues, organs, and organisms. A process is a collection of molecular events with a defined beginning and end [goid 8150] [evidence ND ]', 'Any process involved in the conversion of a primary mRNA transcript into one or more mature mRNA(s) prior to translation into polypeptide [goid 6397] [evidence IEA]; Any process involved in maintaining the structure and integrity of a protein and preventing it from degradation or aggregation [goid 50821] [pmid 12881431] [evidence IDA]', 'Any process involved in the conversion of a primary mRNA transcript into one or more mature mRNA(s) prior to translation into polypeptide [goid 6397] [evidence IEA]; Any process involved in maintaining the structure and integrity of a protein and preventing it from degradation or aggregation [goid 50821] [pmid 12881431] [evidence IDA]'], 'ONTOLOGY_FUNCTION': [nan, 'Elemental activities, such as catalysis or binding, describing the actions of a gene product at the molecular level. A given gene product may exhibit one or more molecular functions [goid 3674] [evidence ND ]', 'Elemental activities, such as catalysis or binding, describing the actions of a gene product at the molecular level. A given gene product may exhibit one or more molecular functions [goid 3674] [evidence ND ]', 'Interacting selectively with a nucleotide, any compound consisting of a nucleoside that is esterified with (ortho)phosphate or an oligophosphate at any hydroxyl group on the ribose or deoxyribose moiety [goid 166] [evidence IEA]; Interacting selectively with double-stranded RNA [goid 3725] [pmid 11871661] [evidence IDA]; Interacting selectively with single-stranded RNA [goid 3727] [pmid 11871661] [evidence IDA]; Interacting selectively with any protein or protein complex (a complex of two or more proteins that may include other nonprotein molecules) [goid 5515] [pmid 12896982] [evidence IPI]; Interacting selectively with any protein or protein complex (a complex of two or more proteins that may include other nonprotein molecules) [goid 5515] [pmid 10669759] [evidence IPI]', 'Interacting selectively with a nucleotide, any compound consisting of a nucleoside that is esterified with (ortho)phosphate or an oligophosphate at any hydroxyl group on the ribose or deoxyribose moiety [goid 166] [evidence IEA]; Interacting selectively with double-stranded RNA [goid 3725] [pmid 11871661] [evidence IDA]; Interacting selectively with single-stranded RNA [goid 3727] [pmid 11871661] [evidence IDA]; Interacting selectively with any protein or protein complex (a complex of two or more proteins that may include other nonprotein molecules) [goid 5515] [pmid 12896982] [evidence IPI]; Interacting selectively with any protein or protein complex (a complex of two or more proteins that may include other nonprotein molecules) [goid 5515] [pmid 10669759] [evidence IPI]'], 'SYNONYMS': [nan, 'A1B; GAB; HYST2477; ABG; DKFZp686F0970', 'A1B; GAB; HYST2477; ABG; DKFZp686F0970', 'ASP; MGC163391; APOBEC1CF; ACF65; ACF64; ACF; RP11-564C4.2', 'ASP; APOBEC1CF; ACF65; ACF64; RP11-564C4.2; MGC163391; ACF'], 'OBSOLETE_PROBE_ID': [nan, 'A1B; GAB; HYST2477; ABG; DKFZp686F0970', 'A1B; GAB; HYST2477; ABG; DKFZp686F0970', 'ASP; APOBEC1CF; ACF65; ACF64; RP11-564C4.2; MGC163391; ACF', 'ASP; APOBEC1CF; ACF65; ACF64; RP11-564C4.2; MGC163391; ACF'], 'GB_ACC': ['NM_182762.2', 'NM_130786.2', 'NM_130786.2', 'NM_138932.1', 'NM_014576.2'], 'SPOT_ID': [nan, nan, nan, nan, nan]}\n",
      "    \n"
     ]
    }
   ],
   "source": [
    "if requires_gene_mapping:\n",
    "    print(f'''\n",
    "    As a biomedical research team, we extracted the gene annotation data from a series in the GEO database, and saved it to a Python dictionary. Please read the dictionary, and decide which key stores the ID of the probe, and which key stores the gene symbols. Please strict follow this format in your answer:\n",
    "    probe_name_key = 'key_name1'\n",
    "    gene_name_key = 'key_name2'\n",
    "\n",
    "    Gene annotation dictionary:\n",
    "    {gene_annotation_summary}\n",
    "    ''')"
   ]
  },
  {
   "cell_type": "code",
   "execution_count": 32,
   "metadata": {
    "ExecuteTime": {
     "end_time": "2024-01-02T01:03:35.113359369Z",
     "start_time": "2024-01-02T01:03:33.804666371Z"
    },
    "collapsed": false
   },
   "outputs": [],
   "source": [
    "if requires_gene_mapping:\n",
    "    probe_id_key = 'ID'\n",
    "    gene_symb_key = 'SYMBOL'\n",
    "    gene_mapping = get_gene_mapping(gene_annotation, probe_id_key, gene_symb_key)\n",
    "    genetic_data = apply_gene_mapping(genetic_data, gene_mapping)"
   ]
  },
  {
   "cell_type": "code",
   "execution_count": 33,
   "metadata": {
    "ExecuteTime": {
     "end_time": "2024-01-02T01:03:35.156584675Z",
     "start_time": "2024-01-02T01:03:35.114652593Z"
    },
    "collapsed": false
   },
   "outputs": [],
   "source": [
    "if NORMALIZE_GENE:\n",
    "    genetic_data = normalize_gene_symbols_in_index(genetic_data)"
   ]
  },
  {
   "cell_type": "code",
   "execution_count": 34,
   "metadata": {
    "ExecuteTime": {
     "end_time": "2024-01-02T01:03:35.158174021Z",
     "start_time": "2024-01-02T01:03:35.156777134Z"
    },
    "collapsed": false
   },
   "outputs": [],
   "source": [
    "merged_data = geo_merge_clinical_genetic_data(selected_clinical_data, genetic_data)\n",
    "# The preprocessing runs through, which means is_available should be True\n",
    "is_available = True"
   ]
  },
  {
   "cell_type": "code",
   "execution_count": 35,
   "metadata": {
    "ExecuteTime": {
     "end_time": "2024-01-02T01:03:35.158378853Z",
     "start_time": "2024-01-02T01:03:35.156895194Z"
    },
    "collapsed": false
   },
   "outputs": [
    {
     "name": "stdout",
     "output_type": "stream",
     "text": [
      "The merged dataset contains 71 samples.\n"
     ]
    }
   ],
   "source": [
    "print(f\"The merged dataset contains {len(merged_data)} samples.\")"
   ]
  },
  {
   "cell_type": "code",
   "execution_count": 36,
   "metadata": {
    "ExecuteTime": {
     "end_time": "2024-01-02T01:03:35.158646754Z",
     "start_time": "2024-01-02T01:03:35.156975304Z"
    },
    "collapsed": false
   },
   "outputs": [
    {
     "name": "stdout",
     "output_type": "stream",
     "text": [
      "For the feature 'Susceptibility-to-Infections', the least common label is '1.0' with 25 occurrences. This represents 35.21% of the dataset.\n",
      "The distribution of the feature 'Susceptibility-to-Infections' in this dataset is fine.\n",
      "\n",
      "Quartiles for 'Age':\n",
      "  25%: 72.5\n",
      "  50% (Median): 78.0\n",
      "  75%: 83.0\n",
      "Min: 62.0\n",
      "Max: 107.0\n",
      "The distribution of the feature 'Age' in this dataset is fine.\n",
      "\n",
      "For the feature 'Gender', the least common label is '0.0' with 35 occurrences. This represents 49.30% of the dataset.\n",
      "The distribution of the feature 'Gender' in this dataset is fine.\n",
      "\n"
     ]
    },
    {
     "data": {
      "text/plain": [
       "False"
      ]
     },
     "execution_count": 36,
     "metadata": {},
     "output_type": "execute_result"
    }
   ],
   "source": [
    "is_trait_biased, merged_data = judge_and_remove_biased_features(merged_data, TRAIT, trait_type=trait_type)\n",
    "is_trait_biased"
   ]
  },
  {
   "cell_type": "code",
   "execution_count": 37,
   "metadata": {
    "ExecuteTime": {
     "end_time": "2024-01-02T01:03:35.158803015Z",
     "start_time": "2024-01-02T01:03:35.157063388Z"
    },
    "collapsed": false
   },
   "outputs": [
    {
     "name": "stdout",
     "output_type": "stream",
     "text": [
      "A new JSON file was created at: /Users/wjt/Desktop/is_data/v1/Lisa/Susceptibility-to-Infections/cohort_info.json\n"
     ]
    }
   ],
   "source": [
    "save_cohort_info(cohort, JSON_PATH, is_available, is_trait_biased, merged_data, note='')"
   ]
  },
  {
   "cell_type": "code",
   "execution_count": 38,
   "metadata": {
    "ExecuteTime": {
     "end_time": "2024-01-02T01:03:36.004312476Z",
     "start_time": "2024-01-02T01:03:35.157165158Z"
    },
    "collapsed": false
   },
   "outputs": [],
   "source": [
    "merged_data.head()\n",
    "if not is_trait_biased:\n",
    "    merged_data.to_csv(os.path.join(OUTPUT_DIR, cohort+'.csv'), index=False)"
   ]
  },
  {
   "cell_type": "markdown",
   "metadata": {
    "ExecuteTime": {
     "end_time": "2023-12-31T03:58:22.271683755Z",
     "start_time": "2023-12-31T03:58:22.246557674Z"
    },
    "id": "-MTPhRGxJV7I"
   },
   "source": [
    "### 3. Do regression & Cross Validation"
   ]
  },
  {
   "cell_type": "code",
   "execution_count": 39,
   "metadata": {
    "ExecuteTime": {
     "end_time": "2024-01-02T01:03:36.048788605Z",
     "start_time": "2024-01-02T01:03:36.005925887Z"
    },
    "collapsed": false
   },
   "outputs": [],
   "source": [
    "from utils import *"
   ]
  },
  {
   "cell_type": "code",
   "execution_count": 40,
   "metadata": {
    "ExecuteTime": {
     "end_time": "2024-01-02T01:03:36.049183603Z",
     "start_time": "2024-01-02T01:03:36.048440305Z"
    },
    "collapsed": false
   },
   "outputs": [
    {
     "data": {
      "text/plain": [
       "'GSE150133'"
      ]
     },
     "execution_count": 40,
     "metadata": {},
     "output_type": "execute_result"
    }
   ],
   "source": [
    "best_cohort, ranked_df = filter_and_rank_cohorts(JSON_PATH, 'has_age')\n",
    "best_cohort"
   ]
  },
  {
   "cell_type": "code",
   "execution_count": 41,
   "metadata": {
    "ExecuteTime": {
     "end_time": "2024-01-02T01:03:36.049430313Z",
     "start_time": "2024-01-02T01:03:36.048984361Z"
    },
    "collapsed": false
   },
   "outputs": [
    {
     "data": {
      "text/html": [
       "<div>\n",
       "<style scoped>\n",
       "    .dataframe tbody tr th:only-of-type {\n",
       "        vertical-align: middle;\n",
       "    }\n",
       "\n",
       "    .dataframe tbody tr th {\n",
       "        vertical-align: top;\n",
       "    }\n",
       "\n",
       "    .dataframe thead th {\n",
       "        text-align: right;\n",
       "    }\n",
       "</style>\n",
       "<table border=\"1\" class=\"dataframe\">\n",
       "  <thead>\n",
       "    <tr style=\"text-align: right;\">\n",
       "      <th></th>\n",
       "      <th>cohort_id</th>\n",
       "      <th>is_usable</th>\n",
       "      <th>is_available</th>\n",
       "      <th>is_biased</th>\n",
       "      <th>has_age</th>\n",
       "      <th>has_gender</th>\n",
       "      <th>sample_size</th>\n",
       "      <th>note</th>\n",
       "    </tr>\n",
       "  </thead>\n",
       "  <tbody>\n",
       "    <tr>\n",
       "      <th>0</th>\n",
       "      <td>GSE150133</td>\n",
       "      <td>True</td>\n",
       "      <td>True</td>\n",
       "      <td>False</td>\n",
       "      <td>True</td>\n",
       "      <td>True</td>\n",
       "      <td>71</td>\n",
       "      <td></td>\n",
       "    </tr>\n",
       "  </tbody>\n",
       "</table>\n",
       "</div>"
      ],
      "text/plain": [
       "   cohort_id  is_usable  is_available  is_biased  has_age  has_gender  \\\n",
       "0  GSE150133       True          True      False     True        True   \n",
       "\n",
       "   sample_size note  \n",
       "0           71       "
      ]
     },
     "execution_count": 41,
     "metadata": {},
     "output_type": "execute_result"
    }
   ],
   "source": [
    "ranked_df.head()"
   ]
  },
  {
   "cell_type": "code",
   "execution_count": 42,
   "metadata": {
    "ExecuteTime": {
     "end_time": "2024-01-02T01:03:36.345375576Z",
     "start_time": "2024-01-02T01:03:36.049289340Z"
    },
    "collapsed": false
   },
   "outputs": [],
   "source": [
    "ck=100\n",
    "listq=[]\n",
    "for df in pd.read_csv(os.path.join(OUTPUT_DIR, best_cohort+'.csv'),chunksize=ck):\n",
    "    listq.append(df)\n",
    "merged_data = pd.concat(listq)\n",
    "#merged_data = pd.read_csv(os.path.join(OUTPUT_DIR, best_cohort+'.csv'))"
   ]
  },
  {
   "cell_type": "code",
   "execution_count": 43,
   "metadata": {
    "ExecuteTime": {
     "end_time": "2024-01-02T01:03:36.400788548Z",
     "start_time": "2024-01-02T01:03:36.355439168Z"
    },
    "collapsed": false
   },
   "outputs": [
    {
     "data": {
      "text/html": [
       "<div>\n",
       "<style scoped>\n",
       "    .dataframe tbody tr th:only-of-type {\n",
       "        vertical-align: middle;\n",
       "    }\n",
       "\n",
       "    .dataframe tbody tr th {\n",
       "        vertical-align: top;\n",
       "    }\n",
       "\n",
       "    .dataframe thead th {\n",
       "        text-align: right;\n",
       "    }\n",
       "</style>\n",
       "<table border=\"1\" class=\"dataframe\">\n",
       "  <thead>\n",
       "    <tr style=\"text-align: right;\">\n",
       "      <th></th>\n",
       "      <th>Susceptibility-to-Infections</th>\n",
       "      <th>Age</th>\n",
       "      <th>Gender</th>\n",
       "      <th>A1BG</th>\n",
       "      <th>A1CF</th>\n",
       "      <th>A2M</th>\n",
       "      <th>A2ML1</th>\n",
       "      <th>A3GALT2</th>\n",
       "      <th>A4GALT</th>\n",
       "      <th>A4GNT</th>\n",
       "      <th>...</th>\n",
       "      <th>ZWINT</th>\n",
       "      <th>ZXDA</th>\n",
       "      <th>ZXDB</th>\n",
       "      <th>ZXDC</th>\n",
       "      <th>ZYG11A</th>\n",
       "      <th>ZYG11B</th>\n",
       "      <th>ZYX</th>\n",
       "      <th>ZZEF1</th>\n",
       "      <th>ZZZ3</th>\n",
       "      <th>RAB1C</th>\n",
       "    </tr>\n",
       "  </thead>\n",
       "  <tbody>\n",
       "    <tr>\n",
       "      <th>0</th>\n",
       "      <td>1.0</td>\n",
       "      <td>79.0</td>\n",
       "      <td>1.0</td>\n",
       "      <td>2.55465</td>\n",
       "      <td>-1.513733</td>\n",
       "      <td>-0.2121</td>\n",
       "      <td>-0.7710</td>\n",
       "      <td>-4.65425</td>\n",
       "      <td>-0.1748</td>\n",
       "      <td>5.7978</td>\n",
       "      <td>...</td>\n",
       "      <td>-0.470675</td>\n",
       "      <td>3.43186</td>\n",
       "      <td>6.2049</td>\n",
       "      <td>24.6588</td>\n",
       "      <td>-3.02405</td>\n",
       "      <td>186.4947</td>\n",
       "      <td>522.94515</td>\n",
       "      <td>123.5727</td>\n",
       "      <td>91.54825</td>\n",
       "      <td>-0.9349</td>\n",
       "    </tr>\n",
       "    <tr>\n",
       "      <th>1</th>\n",
       "      <td>1.0</td>\n",
       "      <td>76.0</td>\n",
       "      <td>0.0</td>\n",
       "      <td>6.97155</td>\n",
       "      <td>-2.274900</td>\n",
       "      <td>-3.8881</td>\n",
       "      <td>-7.2342</td>\n",
       "      <td>-0.52080</td>\n",
       "      <td>-2.1910</td>\n",
       "      <td>8.9607</td>\n",
       "      <td>...</td>\n",
       "      <td>0.694500</td>\n",
       "      <td>1.31132</td>\n",
       "      <td>10.7959</td>\n",
       "      <td>15.5497</td>\n",
       "      <td>-0.01155</td>\n",
       "      <td>198.0979</td>\n",
       "      <td>504.74745</td>\n",
       "      <td>71.2454</td>\n",
       "      <td>120.31650</td>\n",
       "      <td>-4.3098</td>\n",
       "    </tr>\n",
       "    <tr>\n",
       "      <th>2</th>\n",
       "      <td>0.0</td>\n",
       "      <td>77.0</td>\n",
       "      <td>1.0</td>\n",
       "      <td>8.01285</td>\n",
       "      <td>-0.440200</td>\n",
       "      <td>-0.2661</td>\n",
       "      <td>-0.0674</td>\n",
       "      <td>1.36105</td>\n",
       "      <td>1.2524</td>\n",
       "      <td>3.5931</td>\n",
       "      <td>...</td>\n",
       "      <td>3.183275</td>\n",
       "      <td>3.04162</td>\n",
       "      <td>9.1069</td>\n",
       "      <td>25.3876</td>\n",
       "      <td>3.53585</td>\n",
       "      <td>218.4672</td>\n",
       "      <td>507.67275</td>\n",
       "      <td>156.8988</td>\n",
       "      <td>94.77770</td>\n",
       "      <td>-1.7484</td>\n",
       "    </tr>\n",
       "    <tr>\n",
       "      <th>3</th>\n",
       "      <td>0.0</td>\n",
       "      <td>75.0</td>\n",
       "      <td>1.0</td>\n",
       "      <td>1.31755</td>\n",
       "      <td>-0.778400</td>\n",
       "      <td>-4.0751</td>\n",
       "      <td>1.1207</td>\n",
       "      <td>-0.91295</td>\n",
       "      <td>0.1259</td>\n",
       "      <td>2.8871</td>\n",
       "      <td>...</td>\n",
       "      <td>1.390325</td>\n",
       "      <td>2.70684</td>\n",
       "      <td>10.1412</td>\n",
       "      <td>20.3440</td>\n",
       "      <td>-4.12215</td>\n",
       "      <td>120.1690</td>\n",
       "      <td>448.59990</td>\n",
       "      <td>105.7846</td>\n",
       "      <td>130.35575</td>\n",
       "      <td>-6.4102</td>\n",
       "    </tr>\n",
       "    <tr>\n",
       "      <th>4</th>\n",
       "      <td>1.0</td>\n",
       "      <td>81.0</td>\n",
       "      <td>1.0</td>\n",
       "      <td>5.10890</td>\n",
       "      <td>0.347167</td>\n",
       "      <td>-1.7918</td>\n",
       "      <td>-6.7505</td>\n",
       "      <td>-2.18955</td>\n",
       "      <td>-4.6765</td>\n",
       "      <td>11.9485</td>\n",
       "      <td>...</td>\n",
       "      <td>-0.184350</td>\n",
       "      <td>-1.29648</td>\n",
       "      <td>21.2177</td>\n",
       "      <td>20.5295</td>\n",
       "      <td>0.78075</td>\n",
       "      <td>303.7070</td>\n",
       "      <td>599.65585</td>\n",
       "      <td>134.6632</td>\n",
       "      <td>125.67620</td>\n",
       "      <td>-5.2898</td>\n",
       "    </tr>\n",
       "  </tbody>\n",
       "</table>\n",
       "<p>5 rows × 17894 columns</p>\n",
       "</div>"
      ],
      "text/plain": [
       "   Susceptibility-to-Infections   Age  Gender     A1BG      A1CF     A2M  \\\n",
       "0                           1.0  79.0     1.0  2.55465 -1.513733 -0.2121   \n",
       "1                           1.0  76.0     0.0  6.97155 -2.274900 -3.8881   \n",
       "2                           0.0  77.0     1.0  8.01285 -0.440200 -0.2661   \n",
       "3                           0.0  75.0     1.0  1.31755 -0.778400 -4.0751   \n",
       "4                           1.0  81.0     1.0  5.10890  0.347167 -1.7918   \n",
       "\n",
       "    A2ML1  A3GALT2  A4GALT    A4GNT  ...     ZWINT     ZXDA     ZXDB     ZXDC  \\\n",
       "0 -0.7710 -4.65425 -0.1748   5.7978  ... -0.470675  3.43186   6.2049  24.6588   \n",
       "1 -7.2342 -0.52080 -2.1910   8.9607  ...  0.694500  1.31132  10.7959  15.5497   \n",
       "2 -0.0674  1.36105  1.2524   3.5931  ...  3.183275  3.04162   9.1069  25.3876   \n",
       "3  1.1207 -0.91295  0.1259   2.8871  ...  1.390325  2.70684  10.1412  20.3440   \n",
       "4 -6.7505 -2.18955 -4.6765  11.9485  ... -0.184350 -1.29648  21.2177  20.5295   \n",
       "\n",
       "    ZYG11A    ZYG11B        ZYX     ZZEF1       ZZZ3   RAB1C  \n",
       "0 -3.02405  186.4947  522.94515  123.5727   91.54825 -0.9349  \n",
       "1 -0.01155  198.0979  504.74745   71.2454  120.31650 -4.3098  \n",
       "2  3.53585  218.4672  507.67275  156.8988   94.77770 -1.7484  \n",
       "3 -4.12215  120.1690  448.59990  105.7846  130.35575 -6.4102  \n",
       "4  0.78075  303.7070  599.65585  134.6632  125.67620 -5.2898  \n",
       "\n",
       "[5 rows x 17894 columns]"
      ]
     },
     "execution_count": 43,
     "metadata": {},
     "output_type": "execute_result"
    }
   ],
   "source": [
    "merged_data.head()"
   ]
  },
  {
   "cell_type": "code",
   "execution_count": 44,
   "metadata": {
    "ExecuteTime": {
     "end_time": "2024-01-02T01:03:36.401002087Z",
     "start_time": "2024-01-02T01:03:36.400659608Z"
    },
    "collapsed": false
   },
   "outputs": [],
   "source": [
    "# If both age and gender features are available, select 'age' as the condition.\n",
    "condition = 'Age'\n",
    "# Remove the other condition to prevent interference.\n",
    "merged_data = merged_data.drop(columns=['Gender'], errors='ignore').astype('float')"
   ]
  },
  {
   "cell_type": "code",
   "execution_count": 45,
   "metadata": {
    "ExecuteTime": {
     "end_time": "2024-01-02T01:03:36.403035823Z",
     "start_time": "2024-01-02T01:03:36.401081946Z"
    },
    "collapsed": false
   },
   "outputs": [],
   "source": [
    "X = merged_data.drop(columns=[TRAIT, condition]).values\n",
    "Y = merged_data[TRAIT].values\n",
    "Z = merged_data[condition].values"
   ]
  },
  {
   "cell_type": "markdown",
   "metadata": {
    "collapsed": false
   },
   "source": [
    "Select the appropriate regression model depending on whether the dataset shows batch effect."
   ]
  },
  {
   "cell_type": "code",
   "execution_count": 46,
   "metadata": {
    "ExecuteTime": {
     "end_time": "2024-01-02T01:03:36.403263628Z",
     "start_time": "2024-01-02T01:03:36.401336170Z"
    },
    "collapsed": false
   },
   "outputs": [
    {
     "data": {
      "text/plain": [
       "True"
      ]
     },
     "execution_count": 46,
     "metadata": {},
     "output_type": "execute_result"
    }
   ],
   "source": [
    "has_batch_effect = detect_batch_effect(X)\n",
    "has_batch_effect"
   ]
  },
  {
   "cell_type": "code",
   "execution_count": 47,
   "metadata": {
    "ExecuteTime": {
     "end_time": "2024-01-02T01:03:36.475053437Z",
     "start_time": "2024-01-02T01:03:36.444397231Z"
    },
    "collapsed": false
   },
   "outputs": [],
   "source": [
    "\n",
    "if has_batch_effect:\n",
    "    model_constructor1 = VariableSelection\n",
    "    model_params1 = {'modified': True, 'lamda': 3e-4}\n",
    "    model_constructor2 = VariableSelection\n",
    "    model_params2 = {'modified': False}\n",
    "else:\n",
    "    model_constructor1 = Lasso\n",
    "    model_params1 = {'alpha': 1.0, 'random_state': 42}\n",
    "    model_constructor2 = VariableSelection\n",
    "    model_params2 = {'modified': False}"
   ]
  },
  {
   "cell_type": "code",
   "execution_count": 48,
   "metadata": {
    "ExecuteTime": {
     "end_time": "2024-01-02T01:03:50.733335364Z",
     "start_time": "2024-01-02T01:03:36.444563711Z"
    },
    "collapsed": false
   },
   "outputs": [
    {
     "name": "stdout",
     "output_type": "stream",
     "text": [
      "alpha for Lasso: 0.0003\n",
      "alpha for Lasso: 0.0003\n",
      "alpha for Lasso: 0.0003\n",
      "alpha for Lasso: 0.0003\n",
      "alpha for Lasso: 0.0003\n",
      "The cross-validation accuracy is 70.00% ± 7.00%\n"
     ]
    }
   ],
   "source": [
    "trait_type = 'binary'  # Remember to set this properly, either 'binary' or 'continuous'\n",
    "cv_mean1, cv_std1 = cross_validation(X, Y, Z, model_constructor1, model_params1, target_type=trait_type)"
   ]
  },
  {
   "cell_type": "code",
   "execution_count": 49,
   "metadata": {},
   "outputs": [
    {
     "name": "stdout",
     "output_type": "stream",
     "text": [
      "The cross-validation accuracy is 50.00% ± 9.04%\n"
     ]
    }
   ],
   "source": [
    "cv_mean2, cv_std2 = cross_validation(X, Y, Z, model_constructor2, model_params2, target_type=trait_type)"
   ]
  },
  {
   "cell_type": "code",
   "execution_count": 50,
   "metadata": {
    "ExecuteTime": {
     "end_time": "2024-01-02T01:03:53.587340410Z",
     "start_time": "2024-01-02T01:03:50.732779025Z"
    },
    "collapsed": false
   },
   "outputs": [
    {
     "name": "stdout",
     "output_type": "stream",
     "text": [
      "alpha for Lasso: 0.0003\n"
     ]
    }
   ],
   "source": [
    "normalized_X, _ = normalize_data(X)\n",
    "normalized_Z, _ = normalize_data(Z)\n",
    "\n",
    "# Train regression model on the whole dataset to identify significant genes\n",
    "model1 = ResidualizationRegressor(model_constructor1, model_params1)\n",
    "model1.fit(normalized_X, Y, normalized_Z)\n",
    "\n",
    "model2 = ResidualizationRegressor(model_constructor2, model_params2)\n",
    "model2.fit(normalized_X, Y, normalized_Z)"
   ]
  },
  {
   "cell_type": "markdown",
   "metadata": {
    "ExecuteTime": {
     "end_time": "2023-10-14T04:50:59.072075075Z",
     "start_time": "2023-10-14T04:50:38.739499998Z"
    },
    "id": "EjJrxbvb4nlj"
   },
   "source": [
    "### 5. Discussion and report"
   ]
  },
  {
   "cell_type": "code",
   "execution_count": 51,
   "metadata": {
    "ExecuteTime": {
     "end_time": "2024-01-02T01:03:53.641570844Z",
     "start_time": "2024-01-02T01:03:53.627778553Z"
    },
    "collapsed": false
   },
   "outputs": [
    {
     "name": "stdout",
     "output_type": "stream",
     "text": [
      "Effect of the condition on the target variable:\n",
      "Variable: Age\n",
      "Coefficient: -0.0042\n",
      "Found 60 genes with non-zero coefficients associated with the trait 'Susceptibility-to-Infections' conditional on the factor 'Age'. These genes are identified as significant based on the regression model.\n",
      " Variable  Coefficient  Absolute Coefficient\n",
      "     RBAK    12.987632             12.987632\n",
      "      C1S    -8.462911              8.462911\n",
      "   CCDC43     8.325433              8.325433\n",
      "  RTN4IP1     7.367730              7.367730\n",
      "  SNORA56     6.476671              6.476671\n",
      "    IKBIP    -5.378439              5.378439\n",
      "     TCHH     4.844724              4.844724\n",
      "     NPFF     4.692095              4.692095\n",
      "   CAPN10    -4.382461              4.382461\n",
      "   ABHD15     4.071260              4.071260\n",
      "  PRAMEF9     3.994500              3.994500\n",
      "     DCPS     3.826339              3.826339\n",
      "   TSPYL2     3.758257              3.758257\n",
      "     MC4R    -3.549325              3.549325\n",
      "    GNAI3    -3.267754              3.267754\n",
      "   ZNF655    -2.686289              2.686289\n",
      "   PLA2G7     2.630545              2.630545\n",
      "   OR52I1     2.290792              2.290792\n",
      "    SYCE1    -1.911371              1.911371\n",
      "    TNNI1    -1.818699              1.818699\n",
      "   OR5AR1     1.757164              1.757164\n",
      "   SH2D2A     1.562154              1.562154\n",
      "    GCNT1     1.556306              1.556306\n",
      " C22orf31     1.419077              1.419077\n",
      "      DCT     1.382770              1.382770\n",
      "    NOL10     1.215220              1.215220\n",
      "   OR10R2     1.211358              1.211358\n",
      "      MAG    -1.178447              1.178447\n",
      "  IL13RA1    -1.171713              1.171713\n",
      "     BRD4    -1.104760              1.104760\n",
      "   ACTR3B    -1.044766              1.044766\n",
      "LOC143666    -1.022011              1.022011\n",
      "   LUC7L2     0.991562              0.991562\n",
      "     INGX     0.971287              0.971287\n",
      "    VAMP5     0.941914              0.941914\n",
      "   ERICH1     0.882347              0.882347\n",
      "    CNPY2     0.809699              0.809699\n",
      "  SNORD28    -0.761593              0.761593\n",
      "    TIGD5     0.718465              0.718465\n",
      "    HOXB2    -0.708129              0.708129\n",
      "    HTRA2     0.697839              0.697839\n",
      "    CCNE2     0.677001              0.677001\n",
      "      PZP     0.672131              0.672131\n",
      "     TOX3    -0.617088              0.617088\n",
      "   SHANK1    -0.562337              0.562337\n",
      "    OR6C4     0.522137              0.522137\n",
      "    MYLK4    -0.519813              0.519813\n",
      "     NCF2    -0.462102              0.462102\n",
      "   OR52K1     0.414688              0.414688\n",
      "  IFI27L1     0.330094              0.330094\n",
      "     EVPL    -0.315019              0.315019\n",
      " MIR516A1     0.254826              0.254826\n",
      "      FUS     0.241618              0.241618\n",
      " APOBEC3D     0.226101              0.226101\n",
      "   CABIN1    -0.163444              0.163444\n",
      "   ZNF552     0.149020              0.149020\n",
      "     BCAN    -0.118000              0.118000\n",
      "   FAM99A     0.089880              0.089880\n",
      "  COLEC12    -0.031678              0.031678\n",
      "   AMBRA1     0.013996              0.013996\n"
     ]
    },
    {
     "name": "stderr",
     "output_type": "stream",
     "text": [
      "/Users/wjt/Desktop/TAIS_2024SP/Lisa/utils.py:486: SettingWithCopyWarning: \n",
      "A value is trying to be set on a copy of a slice from a DataFrame.\n",
      "Try using .loc[row_indexer,col_indexer] = value instead\n",
      "\n",
      "See the caveats in the documentation: https://pandas.pydata.org/pandas-docs/stable/user_guide/indexing.html#returning-a-view-versus-a-copy\n",
      "  gene_regression_df['Absolute Coefficient'] = gene_regression_df['Coefficient'].abs()\n"
     ]
    }
   ],
   "source": [
    "\n",
    "feature_cols = merged_data.columns.tolist()\n",
    "feature_cols.remove(TRAIT)\n",
    "\n",
    "threshold = 0.05\n",
    "interpret_result(model1, feature_cols, TRAIT, condition, threshold=threshold, save_output=True,\n",
    "                 output_dir=OUTPUT_DIR, model_id=1)"
   ]
  },
  {
   "cell_type": "code",
   "execution_count": 52,
   "metadata": {
    "collapsed": false
   },
   "outputs": [
    {
     "name": "stdout",
     "output_type": "stream",
     "text": [
      "Effect of the condition on the target variable:\n",
      "Variable: Age\n",
      "Coefficient: -0.0042\n",
      "Found 0 significant genes associated with the trait 'Susceptibility-to-Infections' conditional on the factor 'Age', with corrected p-value < 0.05:\n",
      "Empty DataFrame\n",
      "Columns: [Variable, Coefficient, p_value, corrected_p_value]\n",
      "Index: []\n"
     ]
    },
    {
     "name": "stderr",
     "output_type": "stream",
     "text": [
      "/Users/wjt/Desktop/TAIS_2024SP/Lisa/utils.py:495: SettingWithCopyWarning: \n",
      "A value is trying to be set on a copy of a slice from a DataFrame.\n",
      "Try using .loc[row_indexer,col_indexer] = value instead\n",
      "\n",
      "See the caveats in the documentation: https://pandas.pydata.org/pandas-docs/stable/user_guide/indexing.html#returning-a-view-versus-a-copy\n",
      "  gene_regression_df.loc[:, 'corrected_p_value'] = corrected_p_values\n"
     ]
    }
   ],
   "source": [
    "interpret_result(model2, feature_cols, TRAIT, condition, threshold=threshold, save_output=True,\n",
    "                 output_dir=OUTPUT_DIR, model_id=2)"
   ]
  },
  {
   "cell_type": "code",
   "execution_count": null,
   "metadata": {},
   "outputs": [],
   "source": []
  },
  {
   "cell_type": "code",
   "execution_count": null,
   "metadata": {},
   "outputs": [],
   "source": []
  },
  {
   "cell_type": "code",
   "execution_count": null,
   "metadata": {},
   "outputs": [],
   "source": []
  }
 ],
 "metadata": {
  "colab": {
   "provenance": []
  },
  "kernelspec": {
   "display_name": "Python 3 (ipykernel)",
   "language": "python",
   "name": "python3"
  },
  "language_info": {
   "codemirror_mode": {
    "name": "ipython",
    "version": 3
   },
   "file_extension": ".py",
   "mimetype": "text/x-python",
   "name": "python",
   "nbconvert_exporter": "python",
   "pygments_lexer": "ipython3",
   "version": "3.9.12"
  }
 },
 "nbformat": 4,
 "nbformat_minor": 0
}
