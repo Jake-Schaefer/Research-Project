{
 "cells": [
  {
   "cell_type": "markdown",
   "metadata": {
    "collapsed": false,
    "jupyter": {
     "outputs_hidden": false
    }
   },
   "source": [
    "# Gold standard curation: Preprocessing and single-step regression"
   ]
  },
  {
   "cell_type": "markdown",
   "metadata": {
    "collapsed": false,
    "jupyter": {
     "outputs_hidden": false
    }
   },
   "source": [
    "In this stage of gold standard curation, we will do the data preprocessing, selection, and single-step regression for the 153 traits in our question set. The workflow consists of the following steps:\n",
    "\n",
    "1. Preprocess all the cohorts related to this trait. Each cohort should be converted to a tabular form and saved to a csv file, with columns being genetic factors, the trait, and age, gender if available;\n",
    "2. If there exists at least one cohort with age or gender information, conduct regression analysis with genetic features together with age or gender as the regressors.\n"
   ]
  },
  {
   "cell_type": "markdown",
   "metadata": {
    "collapsed": false,
    "jupyter": {
     "outputs_hidden": false
    }
   },
   "source": [
    "# 1. Basic setup"
   ]
  },
  {
   "cell_type": "code",
   "execution_count": 1,
   "metadata": {
    "ExecuteTime": {
     "end_time": "2024-01-02T01:02:53.240839272Z",
     "start_time": "2024-01-02T01:02:53.240575109Z"
    },
    "collapsed": false,
    "jupyter": {
     "outputs_hidden": false
    }
   },
   "outputs": [],
   "source": [
    "import os\n",
    "import sys\n",
    "\n",
    "sys.path.append('..')\n",
    "from utils import *\n",
    "# Set your preferred name\n",
    "USER = \"Yuxuan\"\n",
    "# Set the data and output directories\n",
    "DATA_ROOT = '/home/yxcheng'\n",
    "OUTPUT_ROOT = '../../output1'\n",
    "TRAIT = 'Obstructive sleep apnea'\n",
    "\n",
    "OUTPUT_DIR = os.path.join(OUTPUT_ROOT, USER, '-'.join(TRAIT.split()))\n",
    "JSON_PATH = os.path.join(OUTPUT_DIR, \"cohort_info.json\")\n",
    "if not os.path.exists(OUTPUT_DIR):\n",
    "    os.makedirs(OUTPUT_DIR, exist_ok=True)\n",
    "\n",
    "# Gene symbol normalization may take 1-2 minutes. You may set it to False for debugging.\n",
    "NORMALIZE_GENE = True"
   ]
  },
  {
   "cell_type": "code",
   "execution_count": 2,
   "metadata": {
    "ExecuteTime": {
     "end_time": "2024-01-02T01:02:53.501910797Z",
     "start_time": "2024-01-02T01:02:53.496254990Z"
    },
    "colab": {
     "base_uri": "https://localhost:8080/"
    },
    "id": "jMTdsU43vVg3",
    "outputId": "38886111-f442-44b4-8398-96bf384d7abd"
   },
   "outputs": [
    {
     "data": {
      "text/plain": [
       "\"import os\\nfrom google.colab import drive\\n\\ndrive.mount('/content/drive', force_remount=True)\\nproj_dir = '/content/drive/MyDrive/AI4Science_Public'\\nos.chdir(proj_dir)\""
      ]
     },
     "execution_count": 2,
     "metadata": {},
     "output_type": "execute_result"
    }
   ],
   "source": [
    "# This cell is only for use on Google Colab. Skip it if you run your code in other environments\n",
    "\n",
    "\"\"\"import os\n",
    "from google.colab import drive\n",
    "\n",
    "drive.mount('/content/drive', force_remount=True)\n",
    "proj_dir = '/content/drive/MyDrive/AI4Science_Public'\n",
    "os.chdir(proj_dir)\"\"\""
   ]
  },
  {
   "cell_type": "markdown",
   "metadata": {
    "collapsed": false,
    "jupyter": {
     "outputs_hidden": false
    }
   },
   "source": [
    "# 2. Data preprocessing and selection"
   ]
  },
  {
   "cell_type": "markdown",
   "metadata": {
    "collapsed": false,
    "jupyter": {
     "outputs_hidden": false
    }
   },
   "source": [
    "## 2.1. The TCGA Xena dataset"
   ]
  },
  {
   "cell_type": "markdown",
   "metadata": {
    "collapsed": false,
    "jupyter": {
     "outputs_hidden": false
    }
   },
   "source": [
    "In TCGA Xena, there is either zero or one cohort related to the trait. We search the names of subdirectories to see if any matches the trait. If a match is found, we directly obtain the file paths."
   ]
  },
  {
   "cell_type": "code",
   "execution_count": 3,
   "metadata": {
    "ExecuteTime": {
     "end_time": "2024-01-02T01:02:56.462746833Z",
     "start_time": "2024-01-02T01:02:55.818581842Z"
    },
    "collapsed": false,
    "jupyter": {
     "outputs_hidden": false
    }
   },
   "outputs": [
    {
     "data": {
      "text/plain": [
       "['TCGA_Adrenocortical_Cancer_(ACC)',\n",
       " 'TCGA_Bile_Duct_Cancer_(CHOL)',\n",
       " 'TCGA_Lower_Grade_Glioma_(LGG)',\n",
       " 'TCGA_Acute_Myeloid_Leukemia_(LAML)',\n",
       " 'TCGA_Esophageal_Cancer_(ESCA)',\n",
       " 'TCGA_Thyroid_Cancer_(THCA)',\n",
       " 'TCGA_Ocular_melanomas_(UVM)',\n",
       " 'TCGA_Ovarian_Cancer_(OV)',\n",
       " 'TCGA_Prostate_Cancer_(PRAD)',\n",
       " 'CrawlData.ipynb']"
      ]
     },
     "execution_count": 3,
     "metadata": {},
     "output_type": "execute_result"
    }
   ],
   "source": [
    "import os\n",
    "from utils import *\n",
    "\n",
    "dataset = 'TCGA'\n",
    "dataset_dir = os.path.join(DATA_ROOT, dataset)\n",
    "os.listdir(dataset_dir)[:10]"
   ]
  },
  {
   "cell_type": "markdown",
   "metadata": {
    "collapsed": false,
    "jupyter": {
     "outputs_hidden": false
    }
   },
   "source": [
    "If no match is found, jump directly to GEO in Part 2.2"
   ]
  },
  {
   "cell_type": "code",
   "execution_count": 7,
   "metadata": {
    "collapsed": false,
    "jupyter": {
     "outputs_hidden": false
    }
   },
   "outputs": [],
   "source": [
    "trait_subdir = \"TCGA_Breast_Cancer_(BRCA)\"\n",
    "cohort = 'Xena'\n",
    "# All the cancer traits in Xena are binary\n",
    "trait_type = 'binary'\n",
    "# Once a relevant cohort is found in Xena, we can generally assume the gene and clinical data are available\n",
    "is_available = True\n",
    "\n",
    "clinical_data_file = os.path.join(dataset_dir, trait_subdir, 'TCGA.BRCA.sampleMap_BRCA_clinicalMatrix')\n",
    "genetic_data_file = os.path.join(dataset_dir, trait_subdir, 'TCGA.BRCA.sampleMap_HiSeqV2_PANCAN.gz')"
   ]
  },
  {
   "cell_type": "code",
   "execution_count": 8,
   "metadata": {
    "id": "MudwB-_iz7sc"
   },
   "outputs": [],
   "source": [
    "import pandas as pd\n",
    "\n",
    "clinical_data = pd.read_csv(clinical_data_file, sep='\\t', index_col=0)\n",
    "genetic_data = pd.read_csv(genetic_data_file, compression='gzip', sep='\\t', index_col=0)\n",
    "age_col = gender_col = None"
   ]
  },
  {
   "cell_type": "code",
   "execution_count": 9,
   "metadata": {
    "collapsed": false,
    "jupyter": {
     "outputs_hidden": false
    }
   },
   "outputs": [],
   "source": [
    "_, clinical_data_cols = check_rows_and_columns(clinical_data)"
   ]
  },
  {
   "cell_type": "code",
   "execution_count": 10,
   "metadata": {
    "collapsed": false,
    "jupyter": {
     "outputs_hidden": false
    }
   },
   "outputs": [
    {
     "data": {
      "text/plain": [
       "['AJCC_Stage_nature2012',\n",
       " 'Age_at_Initial_Pathologic_Diagnosis_nature2012',\n",
       " 'CN_Clusters_nature2012',\n",
       " 'Converted_Stage_nature2012',\n",
       " 'Days_to_Date_of_Last_Contact_nature2012',\n",
       " 'Days_to_date_of_Death_nature2012',\n",
       " 'ER_Status_nature2012',\n",
       " 'Gender_nature2012',\n",
       " 'HER2_Final_Status_nature2012',\n",
       " 'Integrated_Clusters_no_exp__nature2012']"
      ]
     },
     "execution_count": 10,
     "metadata": {},
     "output_type": "execute_result"
    }
   ],
   "source": [
    "clinical_data_cols[:10]"
   ]
  },
  {
   "cell_type": "markdown",
   "metadata": {
    "ExecuteTime": {
     "end_time": "2023-12-28T20:20:11.841042813Z",
     "start_time": "2023-12-28T20:20:11.834458206Z"
    },
    "collapsed": false,
    "jupyter": {
     "outputs_hidden": false
    }
   },
   "source": [
    "Read all the column names in the clinical dataset, to find the columns that record information about age or gender.\n",
    "Reference prompt:"
   ]
  },
  {
   "cell_type": "code",
   "execution_count": 11,
   "metadata": {
    "collapsed": false,
    "jupyter": {
     "outputs_hidden": false
    }
   },
   "outputs": [
    {
     "data": {
      "text/plain": [
       "\"\\nBelow is a list of column names from a biomedical dataset. Please examine it and identify the columns that are likely to contain information about patients' age. Additionally, please do the same for columns that may hold data on patients' gender. Please provide your answer by strictly following this format, without redundant words:\\ncandidate_age_cols = [col_name1, col_name2, ...]\\ncandidate_gender_cols = [col_name1, col_name2, ...]\\nIf no columns match a criterion, please provide an empty list.\\n\\nColumn names:\\n['AJCC_Stage_nature2012', 'Age_at_Initial_Pathologic_Diagnosis_nature2012', 'CN_Clusters_nature2012', 'Converted_Stage_nature2012', 'Days_to_Date_of_Last_Contact_nature2012', 'Days_to_date_of_Death_nature2012', 'ER_Status_nature2012', 'Gender_nature2012', 'HER2_Final_Status_nature2012', 'Integrated_Clusters_no_exp__nature2012', 'Integrated_Clusters_unsup_exp__nature2012', 'Integrated_Clusters_with_PAM50__nature2012', 'Metastasis_Coded_nature2012', 'Metastasis_nature2012', 'Node_Coded_nature2012', 'Node_nature2012', 'OS_Time_nature2012', 'OS_event_nature2012', 'PAM50Call_RNAseq', 'PAM50_mRNA_nature2012', 'PR_Status_nature2012', 'RPPA_Clusters_nature2012', 'SigClust_Intrinsic_mRNA_nature2012', 'SigClust_Unsupervised_mRNA_nature2012', 'Survival_Data_Form_nature2012', 'Tumor_T1_Coded_nature2012', 'Tumor_nature2012', 'Vital_Status_nature2012', '_INTEGRATION', '_PANCAN_CNA_PANCAN_K8', '_PANCAN_Cluster_Cluster_PANCAN', '_PANCAN_DNAMethyl_BRCA', '_PANCAN_DNAMethyl_PANCAN', '_PANCAN_RPPA_PANCAN_K8', '_PANCAN_UNC_RNAseq_PANCAN_K16', '_PANCAN_miRNA_PANCAN', '_PANCAN_mirna_BRCA', '_PANCAN_mutation_PANCAN', '_PATIENT', '_cohort', '_primary_disease', '_primary_site', 'additional_pharmaceutical_therapy', 'additional_radiation_therapy', 'additional_surgery_locoregional_procedure', 'additional_surgery_metastatic_procedure', 'age_at_initial_pathologic_diagnosis', 'anatomic_neoplasm_subdivision', 'axillary_lymph_node_stage_method_type', 'axillary_lymph_node_stage_other_method_descriptive_text', 'bcr_followup_barcode', 'bcr_patient_barcode', 'bcr_sample_barcode', 'breast_cancer_surgery_margin_status', 'breast_carcinoma_estrogen_receptor_status', 'breast_carcinoma_immunohistochemistry_er_pos_finding_scale', 'breast_carcinoma_immunohistochemistry_pos_cell_score', 'breast_carcinoma_immunohistochemistry_prgstrn_rcptr_ps_fndng_scl', 'breast_carcinoma_primary_surgical_procedure_name', 'breast_carcinoma_progesterone_receptor_status', 'breast_carcinoma_surgical_procedure_name', 'breast_neoplasm_other_surgical_procedure_descriptive_text', 'cytokeratin_immunohistochemistry_staining_method_mcrmtstss_ndctr', 'days_to_additional_surgery_locoregional_procedure', 'days_to_additional_surgery_metastatic_procedure', 'days_to_birth', 'days_to_collection', 'days_to_death', 'days_to_initial_pathologic_diagnosis', 'days_to_last_followup', 'days_to_last_known_alive', 'days_to_new_tumor_event_additional_surgery_procedure', 'days_to_new_tumor_event_after_initial_treatment', 'disease_code', 'distant_metastasis_present_ind2', 'er_detection_method_text', 'er_level_cell_percentage_category', 'fluorescence_in_st_hybrdztn_dgnstc_prcdr_chrmsm_17_sgnl_rslt_rng', 'followup_case_report_form_submission_reason', 'form_completion_date', 'gender', 'her2_and_centromere_17_positive_finding_other_measuremnt_scl_txt', 'her2_erbb_method_calculation_method_text', 'her2_erbb_pos_finding_cell_percent_category', 'her2_erbb_pos_finding_fluorescence_n_st_hybrdztn_clcltn_mthd_txt', 'her2_immunohistochemistry_level_result', 'her2_neu_and_centromere_17_copy_number_analysis_npt_ttl_nmbr_cnt', 'her2_neu_breast_carcinoma_copy_analysis_input_total_number', 'her2_neu_chromosone_17_signal_ratio_value', 'her2_neu_metastatic_breast_carcinoma_copy_analysis_inpt_ttl_nmbr', 'histological_type', 'histological_type_other', 'history_of_neoadjuvant_treatment', 'hr2_n_nd_cntrmr_17_cpy_nmbr_mtsttc_brst_crcnm_nlyss_npt_ttl_nmbr', 'icd_10', 'icd_o_3_histology', 'icd_o_3_site', 'immunohistochemistry_positive_cell_score', 'informed_consent_verified', 'init_pathology_dx_method_other', 'initial_pathologic_diagnosis_method', 'initial_weight', 'is_ffpe', 'lab_proc_her2_neu_immunohistochemistry_receptor_status', 'lab_procedure_her2_neu_in_situ_hybrid_outcome_type', 'lost_follow_up', 'lymph_node_examined_count', 'margin_status', 'menopause_status', 'metastatic_breast_carcinm_ps_fndng_prgstrn_rcptr_thr_msr_scl_txt', 'metastatic_breast_carcinom_lb_prc_hr2_n_mmnhstchmstry_rcptr_stts', 'metastatic_breast_carcinoma_erbb2_immunohistochemistry_levl_rslt', 'metastatic_breast_carcinoma_estrogen_receptor_detection_mthd_txt', 'metastatic_breast_carcinoma_estrogen_receptor_status', 'metastatic_breast_carcinoma_estrogen_receptr_lvl_cll_prcnt_ctgry', 'metastatic_breast_carcinoma_her2_erbb_method_calculatin_mthd_txt', 'metastatic_breast_carcinoma_her2_erbb_pos_findng_cll_prcnt_ctgry', 'metastatic_breast_carcinoma_her2_neu_chromosone_17_signal_rat_vl', 'metastatic_breast_carcinoma_immunhstchmstry_r_pstv_fndng_scl_typ', 'metastatic_breast_carcinoma_immunohistochemistry_er_pos_cell_scr', 'metastatic_breast_carcinoma_immunohistochemistry_pr_pos_cell_scr', 'metastatic_breast_carcinoma_lab_proc_hr2_n_n_st_hybrdztn_tcm_typ', 'metastatic_breast_carcinoma_pos_finding_hr2_rbb2_thr_msr_scl_txt', 'metastatic_breast_carcinoma_progestern_rcptr_lvl_cll_prcnt_ctgry', 'metastatic_breast_carcinoma_progesterone_receptor_dtctn_mthd_txt', 'metastatic_breast_carcinoma_progesterone_receptor_status', 'metastatic_site_at_diagnosis', 'metastatic_site_at_diagnosis_other', 'methylation_Clusters_nature2012', 'miRNA_Clusters_nature2012', 'mtsttc_brst_crcnm_flrscnc_n_st_hybrdztn_dgnstc_prc_cntrmr_17_sgn', 'mtsttc_brst_crcnm_hr2_rbb_ps_fndng_flrscnc_n_st_hybrdztn_clcltn', 'mtsttc_brst_crcnm_mmnhstchmstry_prgstrn_rcptr_pstv_fndng_scl_typ', 'new_neoplasm_event_occurrence_anatomic_site', 'new_neoplasm_event_type', 'new_neoplasm_occurrence_anatomic_site_text', 'new_tumor_event_additional_surgery_procedure', 'new_tumor_event_after_initial_treatment', 'number_of_lymphnodes_positive_by_he', 'number_of_lymphnodes_positive_by_ihc', 'oct_embedded', 'other_dx', 'pathologic_M', 'pathologic_N', 'pathologic_T', 'pathologic_stage', 'pathology_report_file_name', 'patient_id', 'person_neoplasm_cancer_status', 'pgr_detection_method_text', 'pos_finding_her2_erbb2_other_measurement_scale_text', 'pos_finding_metastatic_brst_crcnm_strgn_rcptr_thr_msrmnt_scl_txt', 'pos_finding_progesterone_receptor_other_measurement_scale_text', 'positive_finding_estrogen_receptor_other_measurement_scale_text', 'postoperative_rx_tx', 'primary_lymph_node_presentation_assessment', 'progesterone_receptor_level_cell_percent_category', 'project_code', 'radiation_therapy', 'sample_type', 'sample_type_id', 'surgical_procedure_purpose_other_text', 'system_version', 'targeted_molecular_therapy', 'tissue_prospective_collection_indicator', 'tissue_retrospective_collection_indicator', 'tissue_source_site', 'tumor_tissue_site', 'vial_number', 'vital_status', 'year_of_initial_pathologic_diagnosis', '_GENOMIC_ID_TCGA_BRCA_exp_HiSeqV2_exon', '_GENOMIC_ID_TCGA_BRCA_exp_HiSeqV2_PANCAN', '_GENOMIC_ID_TCGA_BRCA_RPPA_RBN', '_GENOMIC_ID_TCGA_BRCA_mutation', '_GENOMIC_ID_TCGA_BRCA_PDMRNAseq', '_GENOMIC_ID_TCGA_BRCA_hMethyl450', '_GENOMIC_ID_TCGA_BRCA_RPPA', '_GENOMIC_ID_TCGA_BRCA_PDMRNAseqCNV', '_GENOMIC_ID_TCGA_BRCA_mutation_curated_wustl_gene', '_GENOMIC_ID_TCGA_BRCA_hMethyl27', '_GENOMIC_ID_TCGA_BRCA_PDMarrayCNV', '_GENOMIC_ID_TCGA_BRCA_miRNA_HiSeq', '_GENOMIC_ID_TCGA_BRCA_mutation_wustl_gene', '_GENOMIC_ID_TCGA_BRCA_miRNA_GA', '_GENOMIC_ID_TCGA_BRCA_exp_HiSeqV2_percentile', '_GENOMIC_ID_data/public/TCGA/BRCA/miRNA_GA_gene', '_GENOMIC_ID_TCGA_BRCA_gistic2thd', '_GENOMIC_ID_data/public/TCGA/BRCA/miRNA_HiSeq_gene', '_GENOMIC_ID_TCGA_BRCA_G4502A_07_3', '_GENOMIC_ID_TCGA_BRCA_exp_HiSeqV2', '_GENOMIC_ID_TCGA_BRCA_gistic2', '_GENOMIC_ID_TCGA_BRCA_PDMarray']\\n\""
      ]
     },
     "execution_count": 11,
     "metadata": {},
     "output_type": "execute_result"
    }
   ],
   "source": [
    "f'''\n",
    "Below is a list of column names from a biomedical dataset. Please examine it and identify the columns that are likely to contain information about patients' age. Additionally, please do the same for columns that may hold data on patients' gender. Please provide your answer by strictly following this format, without redundant words:\n",
    "candidate_age_cols = [col_name1, col_name2, ...]\n",
    "candidate_gender_cols = [col_name1, col_name2, ...]\n",
    "If no columns match a criterion, please provide an empty list.\n",
    "\n",
    "Column names:\n",
    "{clinical_data_cols}\n",
    "'''"
   ]
  },
  {
   "cell_type": "code",
   "execution_count": 12,
   "metadata": {
    "collapsed": false,
    "jupyter": {
     "outputs_hidden": false
    }
   },
   "outputs": [],
   "source": [
    "candidate_age_cols = ['Age_at_Initial_Pathologic_Diagnosis_nature2012', 'age_at_initial_pathologic_diagnosis',\n",
    "                      'days_to_birth', 'year_of_initial_pathologic_diagnosis']\n",
    "candidate_gender_cols = ['Gender_nature2012', 'gender']"
   ]
  },
  {
   "cell_type": "markdown",
   "metadata": {
    "ExecuteTime": {
     "end_time": "2023-12-31T03:57:44.207565572Z",
     "start_time": "2023-12-31T03:57:44.202177544Z"
    },
    "collapsed": false,
    "jupyter": {
     "outputs_hidden": false
    }
   },
   "source": [
    "Choose a single column from the candidate columns that record age and gender information respectively.\n",
    "If no column meets the requirement, keep 'age_col' or 'gender_col' to None"
   ]
  },
  {
   "cell_type": "code",
   "execution_count": 13,
   "metadata": {
    "collapsed": false,
    "jupyter": {
     "outputs_hidden": false
    }
   },
   "outputs": [
    {
     "data": {
      "text/plain": [
       "{'Age_at_Initial_Pathologic_Diagnosis_nature2012': [nan, nan, nan, nan, nan],\n",
       " 'age_at_initial_pathologic_diagnosis': [55.0, 50.0, 62.0, 52.0, 50.0],\n",
       " 'days_to_birth': [-20211.0, -18538.0, -22848.0, -19074.0, -18371.0],\n",
       " 'year_of_initial_pathologic_diagnosis': [2004.0,\n",
       "  2003.0,\n",
       "  2011.0,\n",
       "  2011.0,\n",
       "  2013.0]}"
      ]
     },
     "execution_count": 13,
     "metadata": {},
     "output_type": "execute_result"
    }
   ],
   "source": [
    "preview_df(clinical_data[candidate_age_cols])"
   ]
  },
  {
   "cell_type": "code",
   "execution_count": 14,
   "metadata": {
    "collapsed": false,
    "jupyter": {
     "outputs_hidden": false
    }
   },
   "outputs": [],
   "source": [
    "age_col = 'age_at_initial_pathologic_diagnosis'"
   ]
  },
  {
   "cell_type": "code",
   "execution_count": 15,
   "metadata": {
    "collapsed": false,
    "jupyter": {
     "outputs_hidden": false
    }
   },
   "outputs": [
    {
     "data": {
      "text/plain": [
       "{'Gender_nature2012': [nan, nan, nan, nan, nan],\n",
       " 'gender': ['FEMALE', 'FEMALE', 'FEMALE', 'FEMALE', 'FEMALE']}"
      ]
     },
     "execution_count": 15,
     "metadata": {},
     "output_type": "execute_result"
    }
   ],
   "source": [
    "preview_df(clinical_data[candidate_gender_cols])"
   ]
  },
  {
   "cell_type": "code",
   "execution_count": 16,
   "metadata": {
    "collapsed": false,
    "jupyter": {
     "outputs_hidden": false
    }
   },
   "outputs": [],
   "source": [
    "gender_col = 'gender'"
   ]
  },
  {
   "cell_type": "code",
   "execution_count": 17,
   "metadata": {
    "collapsed": false,
    "jupyter": {
     "outputs_hidden": false
    }
   },
   "outputs": [],
   "source": [
    "selected_clinical_data = xena_select_clinical_features(clinical_data, TRAIT, age_col, gender_col)"
   ]
  },
  {
   "cell_type": "code",
   "execution_count": 18,
   "metadata": {
    "collapsed": false,
    "jupyter": {
     "outputs_hidden": false
    }
   },
   "outputs": [],
   "source": [
    "if NORMALIZE_GENE:\n",
    "    genetic_data = normalize_gene_symbols_in_index(genetic_data)"
   ]
  },
  {
   "cell_type": "code",
   "execution_count": 19,
   "metadata": {
    "collapsed": false,
    "jupyter": {
     "outputs_hidden": false
    }
   },
   "outputs": [
    {
     "data": {
      "text/html": [
       "<div>\n",
       "<style scoped>\n",
       "    .dataframe tbody tr th:only-of-type {\n",
       "        vertical-align: middle;\n",
       "    }\n",
       "\n",
       "    .dataframe tbody tr th {\n",
       "        vertical-align: top;\n",
       "    }\n",
       "\n",
       "    .dataframe thead th {\n",
       "        text-align: right;\n",
       "    }\n",
       "</style>\n",
       "<table border=\"1\" class=\"dataframe\">\n",
       "  <thead>\n",
       "    <tr style=\"text-align: right;\">\n",
       "      <th></th>\n",
       "      <th>Epilepsy</th>\n",
       "      <th>Age</th>\n",
       "      <th>Gender</th>\n",
       "      <th>ARHGEF10L</th>\n",
       "      <th>HIF3A</th>\n",
       "      <th>RNF17</th>\n",
       "      <th>RNF10</th>\n",
       "      <th>RNF11</th>\n",
       "      <th>RNF13</th>\n",
       "      <th>GTF2IP1</th>\n",
       "      <th>...</th>\n",
       "      <th>TULP2</th>\n",
       "      <th>NPY5R</th>\n",
       "      <th>GNGT2</th>\n",
       "      <th>GNGT1</th>\n",
       "      <th>TULP3</th>\n",
       "      <th>PTRF</th>\n",
       "      <th>BCL6B</th>\n",
       "      <th>GSTK1</th>\n",
       "      <th>SELP</th>\n",
       "      <th>SELS</th>\n",
       "    </tr>\n",
       "    <tr>\n",
       "      <th>sampleID</th>\n",
       "      <th></th>\n",
       "      <th></th>\n",
       "      <th></th>\n",
       "      <th></th>\n",
       "      <th></th>\n",
       "      <th></th>\n",
       "      <th></th>\n",
       "      <th></th>\n",
       "      <th></th>\n",
       "      <th></th>\n",
       "      <th></th>\n",
       "      <th></th>\n",
       "      <th></th>\n",
       "      <th></th>\n",
       "      <th></th>\n",
       "      <th></th>\n",
       "      <th></th>\n",
       "      <th></th>\n",
       "      <th></th>\n",
       "      <th></th>\n",
       "      <th></th>\n",
       "    </tr>\n",
       "  </thead>\n",
       "  <tbody>\n",
       "    <tr>\n",
       "      <th>TCGA-3C-AAAU-01</th>\n",
       "      <td>1</td>\n",
       "      <td>55.0</td>\n",
       "      <td>0.0</td>\n",
       "      <td>0.607308</td>\n",
       "      <td>-3.194126</td>\n",
       "      <td>-0.531035</td>\n",
       "      <td>-0.145872</td>\n",
       "      <td>0.237422</td>\n",
       "      <td>-0.29921</td>\n",
       "      <td>-0.142694</td>\n",
       "      <td>...</td>\n",
       "      <td>-0.748878</td>\n",
       "      <td>0.565583</td>\n",
       "      <td>-0.767233</td>\n",
       "      <td>-1.28139</td>\n",
       "      <td>-0.271377</td>\n",
       "      <td>-0.492286</td>\n",
       "      <td>0.360373</td>\n",
       "      <td>1.067905</td>\n",
       "      <td>0.076267</td>\n",
       "      <td>-0.392212</td>\n",
       "    </tr>\n",
       "    <tr>\n",
       "      <th>TCGA-3C-AALI-01</th>\n",
       "      <td>1</td>\n",
       "      <td>50.0</td>\n",
       "      <td>0.0</td>\n",
       "      <td>-0.641192</td>\n",
       "      <td>-4.928226</td>\n",
       "      <td>0.095465</td>\n",
       "      <td>0.098128</td>\n",
       "      <td>-0.541978</td>\n",
       "      <td>-0.32291</td>\n",
       "      <td>-0.044694</td>\n",
       "      <td>...</td>\n",
       "      <td>0.312922</td>\n",
       "      <td>0.079683</td>\n",
       "      <td>0.475267</td>\n",
       "      <td>1.99661</td>\n",
       "      <td>0.161423</td>\n",
       "      <td>0.273714</td>\n",
       "      <td>0.644673</td>\n",
       "      <td>-0.428695</td>\n",
       "      <td>0.068667</td>\n",
       "      <td>-0.043812</td>\n",
       "    </tr>\n",
       "    <tr>\n",
       "      <th>TCGA-3C-AALJ-01</th>\n",
       "      <td>1</td>\n",
       "      <td>62.0</td>\n",
       "      <td>0.0</td>\n",
       "      <td>1.082808</td>\n",
       "      <td>-4.623726</td>\n",
       "      <td>-0.531035</td>\n",
       "      <td>0.484028</td>\n",
       "      <td>-0.183678</td>\n",
       "      <td>-0.91901</td>\n",
       "      <td>0.261106</td>\n",
       "      <td>...</td>\n",
       "      <td>-0.748878</td>\n",
       "      <td>-0.656117</td>\n",
       "      <td>-0.216733</td>\n",
       "      <td>0.21081</td>\n",
       "      <td>0.101023</td>\n",
       "      <td>0.660514</td>\n",
       "      <td>1.295073</td>\n",
       "      <td>0.915105</td>\n",
       "      <td>0.168567</td>\n",
       "      <td>0.047788</td>\n",
       "    </tr>\n",
       "    <tr>\n",
       "      <th>TCGA-3C-AALK-01</th>\n",
       "      <td>1</td>\n",
       "      <td>52.0</td>\n",
       "      <td>0.0</td>\n",
       "      <td>0.121608</td>\n",
       "      <td>-2.881526</td>\n",
       "      <td>-0.531035</td>\n",
       "      <td>0.179128</td>\n",
       "      <td>0.039222</td>\n",
       "      <td>-0.45491</td>\n",
       "      <td>0.180306</td>\n",
       "      <td>...</td>\n",
       "      <td>0.415422</td>\n",
       "      <td>-0.178417</td>\n",
       "      <td>-0.211233</td>\n",
       "      <td>-1.28139</td>\n",
       "      <td>0.108023</td>\n",
       "      <td>1.132814</td>\n",
       "      <td>0.496773</td>\n",
       "      <td>0.240105</td>\n",
       "      <td>3.099767</td>\n",
       "      <td>0.112888</td>\n",
       "    </tr>\n",
       "    <tr>\n",
       "      <th>TCGA-4H-AAAK-01</th>\n",
       "      <td>1</td>\n",
       "      <td>50.0</td>\n",
       "      <td>0.0</td>\n",
       "      <td>0.420208</td>\n",
       "      <td>-3.282726</td>\n",
       "      <td>-0.531035</td>\n",
       "      <td>-0.020972</td>\n",
       "      <td>-0.117978</td>\n",
       "      <td>-0.55781</td>\n",
       "      <td>-0.173794</td>\n",
       "      <td>...</td>\n",
       "      <td>0.685222</td>\n",
       "      <td>-0.698717</td>\n",
       "      <td>-0.484233</td>\n",
       "      <td>-1.28139</td>\n",
       "      <td>-0.223577</td>\n",
       "      <td>1.222714</td>\n",
       "      <td>0.225573</td>\n",
       "      <td>-0.301995</td>\n",
       "      <td>0.200067</td>\n",
       "      <td>-0.080212</td>\n",
       "    </tr>\n",
       "  </tbody>\n",
       "</table>\n",
       "<p>5 rows × 20533 columns</p>\n",
       "</div>"
      ],
      "text/plain": [
       "                 Epilepsy   Age  Gender  ARHGEF10L     HIF3A     RNF17  \\\n",
       "sampleID                                                                 \n",
       "TCGA-3C-AAAU-01         1  55.0     0.0   0.607308 -3.194126 -0.531035   \n",
       "TCGA-3C-AALI-01         1  50.0     0.0  -0.641192 -4.928226  0.095465   \n",
       "TCGA-3C-AALJ-01         1  62.0     0.0   1.082808 -4.623726 -0.531035   \n",
       "TCGA-3C-AALK-01         1  52.0     0.0   0.121608 -2.881526 -0.531035   \n",
       "TCGA-4H-AAAK-01         1  50.0     0.0   0.420208 -3.282726 -0.531035   \n",
       "\n",
       "                    RNF10     RNF11    RNF13   GTF2IP1  ...     TULP2  \\\n",
       "sampleID                                                ...             \n",
       "TCGA-3C-AAAU-01 -0.145872  0.237422 -0.29921 -0.142694  ... -0.748878   \n",
       "TCGA-3C-AALI-01  0.098128 -0.541978 -0.32291 -0.044694  ...  0.312922   \n",
       "TCGA-3C-AALJ-01  0.484028 -0.183678 -0.91901  0.261106  ... -0.748878   \n",
       "TCGA-3C-AALK-01  0.179128  0.039222 -0.45491  0.180306  ...  0.415422   \n",
       "TCGA-4H-AAAK-01 -0.020972 -0.117978 -0.55781 -0.173794  ...  0.685222   \n",
       "\n",
       "                    NPY5R     GNGT2    GNGT1     TULP3      PTRF     BCL6B  \\\n",
       "sampleID                                                                     \n",
       "TCGA-3C-AAAU-01  0.565583 -0.767233 -1.28139 -0.271377 -0.492286  0.360373   \n",
       "TCGA-3C-AALI-01  0.079683  0.475267  1.99661  0.161423  0.273714  0.644673   \n",
       "TCGA-3C-AALJ-01 -0.656117 -0.216733  0.21081  0.101023  0.660514  1.295073   \n",
       "TCGA-3C-AALK-01 -0.178417 -0.211233 -1.28139  0.108023  1.132814  0.496773   \n",
       "TCGA-4H-AAAK-01 -0.698717 -0.484233 -1.28139 -0.223577  1.222714  0.225573   \n",
       "\n",
       "                    GSTK1      SELP      SELS  \n",
       "sampleID                                       \n",
       "TCGA-3C-AAAU-01  1.067905  0.076267 -0.392212  \n",
       "TCGA-3C-AALI-01 -0.428695  0.068667 -0.043812  \n",
       "TCGA-3C-AALJ-01  0.915105  0.168567  0.047788  \n",
       "TCGA-3C-AALK-01  0.240105  3.099767  0.112888  \n",
       "TCGA-4H-AAAK-01 -0.301995  0.200067 -0.080212  \n",
       "\n",
       "[5 rows x 20533 columns]"
      ]
     },
     "execution_count": 19,
     "metadata": {},
     "output_type": "execute_result"
    }
   ],
   "source": [
    "merged_data = selected_clinical_data.join(genetic_data.T).dropna()\n",
    "merged_data.head()"
   ]
  },
  {
   "cell_type": "code",
   "execution_count": 20,
   "metadata": {
    "collapsed": false,
    "jupyter": {
     "outputs_hidden": false
    }
   },
   "outputs": [
    {
     "name": "stdout",
     "output_type": "stream",
     "text": [
      "The merged dataset contains 1215 samples.\n"
     ]
    }
   ],
   "source": [
    "print(f\"The merged dataset contains {len(merged_data)} samples.\")"
   ]
  },
  {
   "cell_type": "code",
   "execution_count": 21,
   "metadata": {
    "collapsed": false,
    "jupyter": {
     "outputs_hidden": false
    }
   },
   "outputs": [
    {
     "name": "stdout",
     "output_type": "stream",
     "text": [
      "For the feature 'Epilepsy', the least common label is '0' with 113 occurrences. This represents 9.30% of the dataset.\n",
      "The distribution of the feature 'Epilepsy' in this dataset is fine.\n",
      "\n",
      "Quartiles for 'Age':\n",
      "  25%: 48.0\n",
      "  50% (Median): 58.0\n",
      "  75%: 67.0\n",
      "Min: 26.0\n",
      "Max: 90.0\n",
      "The distribution of the feature 'Age' in this dataset is fine.\n",
      "\n",
      "For the feature 'Gender', the least common label is '1.0' with 13 occurrences. This represents 1.07% of the dataset.\n",
      "The distribution of the feature 'Gender' in this dataset is fine.\n",
      "\n"
     ]
    },
    {
     "data": {
      "text/plain": [
       "False"
      ]
     },
     "execution_count": 21,
     "metadata": {},
     "output_type": "execute_result"
    }
   ],
   "source": [
    "is_trait_biased, merge_data = judge_and_remove_biased_features(merged_data, TRAIT, trait_type=trait_type)\n",
    "is_trait_biased"
   ]
  },
  {
   "cell_type": "code",
   "execution_count": 22,
   "metadata": {
    "collapsed": false,
    "jupyter": {
     "outputs_hidden": false
    }
   },
   "outputs": [],
   "source": [
    "merged_data.head()\n",
    "if not is_trait_biased:\n",
    "    merge_data.to_csv(os.path.join(OUTPUT_DIR, cohort+'.csv'), index=False)"
   ]
  },
  {
   "cell_type": "code",
   "execution_count": 23,
   "metadata": {
    "collapsed": false,
    "jupyter": {
     "outputs_hidden": false
    }
   },
   "outputs": [
    {
     "name": "stdout",
     "output_type": "stream",
     "text": [
      "A new JSON file was created at: ../../output1/Haoyang/Epilepsy/cohort_info.json\n"
     ]
    }
   ],
   "source": [
    "save_cohort_info(cohort, JSON_PATH, is_available, is_trait_biased, merged_data)"
   ]
  },
  {
   "cell_type": "markdown",
   "metadata": {
    "ExecuteTime": {
     "end_time": "2023-12-28T21:28:38.028916303Z",
     "start_time": "2023-12-28T21:28:38.016245426Z"
    },
    "collapsed": false,
    "jupyter": {
     "outputs_hidden": false
    }
   },
   "source": [
    "## 2.2. The GEO dataset"
   ]
  },
  {
   "cell_type": "markdown",
   "metadata": {
    "ExecuteTime": {
     "end_time": "2023-12-31T03:25:23.253882615Z",
     "start_time": "2023-12-31T03:25:23.244062710Z"
    },
    "collapsed": false,
    "jupyter": {
     "outputs_hidden": false
    }
   },
   "source": [
    "In GEO, there may be one or multiple cohorts for a trait. Each cohort is identified by an accession number. We iterate over all accession numbers in the corresponding subdirectory, preprocess the cohort data, and save them to csv files."
   ]
  },
  {
   "cell_type": "code",
   "execution_count": 4,
   "metadata": {
    "ExecuteTime": {
     "end_time": "2024-01-02T01:02:59.503572381Z",
     "start_time": "2024-01-02T01:02:59.491400342Z"
    },
    "collapsed": false,
    "jupyter": {
     "outputs_hidden": false
    }
   },
   "outputs": [
    {
     "data": {
      "text/plain": [
       "['GSE135917', 'GSE75097', 'GSE190164', 'GSE133601', 'GSE168358', 'GSE49800']"
      ]
     },
     "execution_count": 4,
     "metadata": {},
     "output_type": "execute_result"
    }
   ],
   "source": [
    "dataset = 'GEO'\n",
    "trait_subdir = \"Obstructive-sleep-apnea\"\n",
    "\n",
    "trait_path = os.path.join(DATA_ROOT, dataset, trait_subdir)\n",
    "os.listdir(trait_path)"
   ]
  },
  {
   "cell_type": "markdown",
   "metadata": {
    "ExecuteTime": {
     "end_time": "2023-12-31T03:39:42.634870142Z",
     "start_time": "2023-12-31T03:39:42.534093295Z"
    },
    "collapsed": false,
    "jupyter": {
     "outputs_hidden": false
    }
   },
   "source": [
    "Repeat the below steps for all the accession numbers"
   ]
  },
  {
   "cell_type": "code",
   "execution_count": 5,
   "metadata": {
    "ExecuteTime": {
     "end_time": "2024-01-02T01:03:00.287218362Z",
     "start_time": "2024-01-02T01:03:00.278758251Z"
    },
    "collapsed": false,
    "jupyter": {
     "outputs_hidden": false
    }
   },
   "outputs": [
    {
     "data": {
      "text/plain": [
       "('/home/yxcheng/GEO/Obstructive-sleep-apnea/GSE190164/GSE190164_family.soft.gz',\n",
       " '/home/yxcheng/GEO/Obstructive-sleep-apnea/GSE190164/GSE190164_series_matrix.txt.gz')"
      ]
     },
     "execution_count": 5,
     "metadata": {},
     "output_type": "execute_result"
    }
   ],
   "source": [
    "cohort = accession_num = \"GSE190164\"\n",
    "cohort_dir = os.path.join(trait_path, accession_num)\n",
    "soft_file, matrix_file = get_relevant_filepaths(cohort_dir)\n",
    "soft_file, matrix_file"
   ]
  },
  {
   "cell_type": "markdown",
   "metadata": {
    "collapsed": false,
    "jupyter": {
     "outputs_hidden": false
    }
   },
   "source": [
    "### Inital filtering and clinical data preprocessing"
   ]
  },
  {
   "cell_type": "code",
   "execution_count": 6,
   "metadata": {
    "ExecuteTime": {
     "end_time": "2024-01-02T01:03:01.634861460Z",
     "start_time": "2024-01-02T01:03:01.076370517Z"
    },
    "collapsed": false,
    "jupyter": {
     "outputs_hidden": false
    }
   },
   "outputs": [
    {
     "name": "stdout",
     "output_type": "stream",
     "text": [
      "!Series_title\t\"DNA methylation profiling in blood of OSA patients and controls\"\n",
      "!Series_summary\t\"Obstructive sleep apnea (OSA) is associated with increased risk for cardiovascular morbidity and mortality. Epidemiological and animal models studies generate hypotheses for innovative strategies in OSA management by interfering intermediates mechanisms associated with cardiovascular complications. In this study, we interrogated DNA methylation profiles in 16 polysomnographically evaluated OSA patients (Apnea Hypopnea Index, AHI > 30) and 8 controls (AHI<5 events/h sleep). Blood samples were collected at initial visit (V1) and a year later (V2). OSA patients received Continuous Positive Air Pressure (CPAP) therapy with high adherence (> 4 hours/night). Control individuals did not receive CPAP therapy. Genomic DNA was treated with sodium bisulfite. Converted DNA was analyzed using Illumina’s Infinium Human Methylation 450 BeadChip assay. DNA methylation profiles enabled the prospective evaluation of inflammatory and epigenetics mechanism involved in cardiovascular complication of OSA patients compared with non OSA subjects, as well as the variation of epigenetic profiles in OSA patients after one year of high-adherence CPAP therapy.\"\n",
      "!Series_overall_design\t\"This case-control study includes 16 polysomnographically evaluated OSA patients and 8 controls. Blood samples were collected at initial visit (V1) and one year later (v2). Microarray data set consisted of n=48 microarrays, including one microarray per sample at visit 1 (n=24 arrays) and one microarray per sample at visit 2 (n=24 arrays). Microarray data was analyzed using Illumina Genome Studio v2011.1. Data was processed with background normalization.\"\n"
     ]
    }
   ],
   "source": [
    "background_prefixes = ['!Series_title', '!Series_summary', '!Series_overall_design']\n",
    "clinical_prefixes = ['!Sample_geo_accession', '!Sample_characteristics_ch1']\n",
    "\n",
    "background_info, clinical_data = get_background_and_clinical_data(matrix_file, background_prefixes, clinical_prefixes)\n",
    "print(background_info)"
   ]
  },
  {
   "cell_type": "code",
   "execution_count": 7,
   "metadata": {
    "ExecuteTime": {
     "end_time": "2024-01-02T01:03:01.642310454Z",
     "start_time": "2024-01-02T01:03:01.635048940Z"
    },
    "collapsed": false,
    "jupyter": {
     "outputs_hidden": false
    }
   },
   "outputs": [
    {
     "data": {
      "text/html": [
       "<div>\n",
       "<style scoped>\n",
       "    .dataframe tbody tr th:only-of-type {\n",
       "        vertical-align: middle;\n",
       "    }\n",
       "\n",
       "    .dataframe tbody tr th {\n",
       "        vertical-align: top;\n",
       "    }\n",
       "\n",
       "    .dataframe thead th {\n",
       "        text-align: right;\n",
       "    }\n",
       "</style>\n",
       "<table border=\"1\" class=\"dataframe\">\n",
       "  <thead>\n",
       "    <tr style=\"text-align: right;\">\n",
       "      <th></th>\n",
       "      <th>!Sample_geo_accession</th>\n",
       "      <th>GSM5717479</th>\n",
       "      <th>GSM5717480</th>\n",
       "      <th>GSM5717481</th>\n",
       "      <th>GSM5717482</th>\n",
       "      <th>GSM5717483</th>\n",
       "      <th>GSM5717484</th>\n",
       "      <th>GSM5717485</th>\n",
       "      <th>GSM5717486</th>\n",
       "      <th>GSM5717487</th>\n",
       "      <th>...</th>\n",
       "      <th>GSM5717517</th>\n",
       "      <th>GSM5717518</th>\n",
       "      <th>GSM5717519</th>\n",
       "      <th>GSM5717520</th>\n",
       "      <th>GSM5717521</th>\n",
       "      <th>GSM5717522</th>\n",
       "      <th>GSM5717523</th>\n",
       "      <th>GSM5717524</th>\n",
       "      <th>GSM5717525</th>\n",
       "      <th>GSM5717526</th>\n",
       "    </tr>\n",
       "  </thead>\n",
       "  <tbody>\n",
       "    <tr>\n",
       "      <th>0</th>\n",
       "      <td>!Sample_characteristics_ch1</td>\n",
       "      <td>tissue: Peripheral blood lymphocytes</td>\n",
       "      <td>tissue: Peripheral blood lymphocytes</td>\n",
       "      <td>tissue: Peripheral blood lymphocytes</td>\n",
       "      <td>tissue: Peripheral blood lymphocytes</td>\n",
       "      <td>tissue: Peripheral blood lymphocytes</td>\n",
       "      <td>tissue: Peripheral blood lymphocytes</td>\n",
       "      <td>tissue: Peripheral blood lymphocytes</td>\n",
       "      <td>tissue: Peripheral blood lymphocytes</td>\n",
       "      <td>tissue: Peripheral blood lymphocytes</td>\n",
       "      <td>...</td>\n",
       "      <td>tissue: Peripheral blood lymphocytes</td>\n",
       "      <td>tissue: Peripheral blood lymphocytes</td>\n",
       "      <td>tissue: Peripheral blood lymphocytes</td>\n",
       "      <td>tissue: Peripheral blood lymphocytes</td>\n",
       "      <td>tissue: Peripheral blood lymphocytes</td>\n",
       "      <td>tissue: Peripheral blood lymphocytes</td>\n",
       "      <td>tissue: Peripheral blood lymphocytes</td>\n",
       "      <td>tissue: Peripheral blood lymphocytes</td>\n",
       "      <td>tissue: Peripheral blood lymphocytes</td>\n",
       "      <td>tissue: Peripheral blood lymphocytes</td>\n",
       "    </tr>\n",
       "    <tr>\n",
       "      <th>1</th>\n",
       "      <td>!Sample_characteristics_ch1</td>\n",
       "      <td>Sex: Male</td>\n",
       "      <td>Sex: Male</td>\n",
       "      <td>Sex: Male</td>\n",
       "      <td>Sex: Male</td>\n",
       "      <td>Sex: Male</td>\n",
       "      <td>Sex: Male</td>\n",
       "      <td>Sex: Male</td>\n",
       "      <td>Sex: Male</td>\n",
       "      <td>Sex: Male</td>\n",
       "      <td>...</td>\n",
       "      <td>Sex: Female</td>\n",
       "      <td>Sex: Male</td>\n",
       "      <td>Sex: Male</td>\n",
       "      <td>Sex: Male</td>\n",
       "      <td>Sex: Male</td>\n",
       "      <td>Sex: Male</td>\n",
       "      <td>Sex: Male</td>\n",
       "      <td>Sex: Male</td>\n",
       "      <td>Sex: Female</td>\n",
       "      <td>Sex: Male</td>\n",
       "    </tr>\n",
       "    <tr>\n",
       "      <th>2</th>\n",
       "      <td>!Sample_characteristics_ch1</td>\n",
       "      <td>age: 58</td>\n",
       "      <td>age: 47</td>\n",
       "      <td>age: 33</td>\n",
       "      <td>age: 41</td>\n",
       "      <td>age: 45</td>\n",
       "      <td>age: 47</td>\n",
       "      <td>age: 40</td>\n",
       "      <td>age: 28</td>\n",
       "      <td>age: 46</td>\n",
       "      <td>...</td>\n",
       "      <td>age: 36</td>\n",
       "      <td>age: 40</td>\n",
       "      <td>age: 40</td>\n",
       "      <td>age: 35</td>\n",
       "      <td>age: 43</td>\n",
       "      <td>age: 36</td>\n",
       "      <td>age: 53</td>\n",
       "      <td>age: 32</td>\n",
       "      <td>age: 36</td>\n",
       "      <td>age: 40</td>\n",
       "    </tr>\n",
       "    <tr>\n",
       "      <th>3</th>\n",
       "      <td>!Sample_characteristics_ch1</td>\n",
       "      <td>disease: OSA</td>\n",
       "      <td>disease: OSA</td>\n",
       "      <td>disease: OSA</td>\n",
       "      <td>disease: OSA</td>\n",
       "      <td>disease: OSA</td>\n",
       "      <td>disease: OSA</td>\n",
       "      <td>disease: OSA</td>\n",
       "      <td>disease: OSA</td>\n",
       "      <td>disease: OSA</td>\n",
       "      <td>...</td>\n",
       "      <td>disease: Control</td>\n",
       "      <td>disease: Control</td>\n",
       "      <td>disease: Control</td>\n",
       "      <td>disease: Control</td>\n",
       "      <td>disease: Control</td>\n",
       "      <td>disease: Control</td>\n",
       "      <td>disease: Control</td>\n",
       "      <td>disease: Control</td>\n",
       "      <td>disease: Control</td>\n",
       "      <td>disease: Control</td>\n",
       "    </tr>\n",
       "    <tr>\n",
       "      <th>4</th>\n",
       "      <td>!Sample_characteristics_ch1</td>\n",
       "      <td>visit: Visit 1</td>\n",
       "      <td>visit: Visit 1</td>\n",
       "      <td>visit: Visit 1</td>\n",
       "      <td>visit: Visit 1</td>\n",
       "      <td>visit: Visit 1</td>\n",
       "      <td>visit: Visit 1</td>\n",
       "      <td>visit: Visit 1</td>\n",
       "      <td>visit: Visit 1</td>\n",
       "      <td>visit: Visit 1</td>\n",
       "      <td>...</td>\n",
       "      <td>visit: Visit 1</td>\n",
       "      <td>visit: Visit 1</td>\n",
       "      <td>visit: Visit 2</td>\n",
       "      <td>visit: Visit 2</td>\n",
       "      <td>visit: Visit 2</td>\n",
       "      <td>visit: Visit 2</td>\n",
       "      <td>visit: Visit 2</td>\n",
       "      <td>visit: Visit 2</td>\n",
       "      <td>visit: Visit 2</td>\n",
       "      <td>visit: Visit 2</td>\n",
       "    </tr>\n",
       "  </tbody>\n",
       "</table>\n",
       "<p>5 rows × 49 columns</p>\n",
       "</div>"
      ],
      "text/plain": [
       "         !Sample_geo_accession                            GSM5717479  \\\n",
       "0  !Sample_characteristics_ch1  tissue: Peripheral blood lymphocytes   \n",
       "1  !Sample_characteristics_ch1                             Sex: Male   \n",
       "2  !Sample_characteristics_ch1                               age: 58   \n",
       "3  !Sample_characteristics_ch1                          disease: OSA   \n",
       "4  !Sample_characteristics_ch1                        visit: Visit 1   \n",
       "\n",
       "                             GSM5717480                            GSM5717481  \\\n",
       "0  tissue: Peripheral blood lymphocytes  tissue: Peripheral blood lymphocytes   \n",
       "1                             Sex: Male                             Sex: Male   \n",
       "2                               age: 47                               age: 33   \n",
       "3                          disease: OSA                          disease: OSA   \n",
       "4                        visit: Visit 1                        visit: Visit 1   \n",
       "\n",
       "                             GSM5717482                            GSM5717483  \\\n",
       "0  tissue: Peripheral blood lymphocytes  tissue: Peripheral blood lymphocytes   \n",
       "1                             Sex: Male                             Sex: Male   \n",
       "2                               age: 41                               age: 45   \n",
       "3                          disease: OSA                          disease: OSA   \n",
       "4                        visit: Visit 1                        visit: Visit 1   \n",
       "\n",
       "                             GSM5717484                            GSM5717485  \\\n",
       "0  tissue: Peripheral blood lymphocytes  tissue: Peripheral blood lymphocytes   \n",
       "1                             Sex: Male                             Sex: Male   \n",
       "2                               age: 47                               age: 40   \n",
       "3                          disease: OSA                          disease: OSA   \n",
       "4                        visit: Visit 1                        visit: Visit 1   \n",
       "\n",
       "                             GSM5717486                            GSM5717487  \\\n",
       "0  tissue: Peripheral blood lymphocytes  tissue: Peripheral blood lymphocytes   \n",
       "1                             Sex: Male                             Sex: Male   \n",
       "2                               age: 28                               age: 46   \n",
       "3                          disease: OSA                          disease: OSA   \n",
       "4                        visit: Visit 1                        visit: Visit 1   \n",
       "\n",
       "   ...                            GSM5717517  \\\n",
       "0  ...  tissue: Peripheral blood lymphocytes   \n",
       "1  ...                           Sex: Female   \n",
       "2  ...                               age: 36   \n",
       "3  ...                      disease: Control   \n",
       "4  ...                        visit: Visit 1   \n",
       "\n",
       "                             GSM5717518                            GSM5717519  \\\n",
       "0  tissue: Peripheral blood lymphocytes  tissue: Peripheral blood lymphocytes   \n",
       "1                             Sex: Male                             Sex: Male   \n",
       "2                               age: 40                               age: 40   \n",
       "3                      disease: Control                      disease: Control   \n",
       "4                        visit: Visit 1                        visit: Visit 2   \n",
       "\n",
       "                             GSM5717520                            GSM5717521  \\\n",
       "0  tissue: Peripheral blood lymphocytes  tissue: Peripheral blood lymphocytes   \n",
       "1                             Sex: Male                             Sex: Male   \n",
       "2                               age: 35                               age: 43   \n",
       "3                      disease: Control                      disease: Control   \n",
       "4                        visit: Visit 2                        visit: Visit 2   \n",
       "\n",
       "                             GSM5717522                            GSM5717523  \\\n",
       "0  tissue: Peripheral blood lymphocytes  tissue: Peripheral blood lymphocytes   \n",
       "1                             Sex: Male                             Sex: Male   \n",
       "2                               age: 36                               age: 53   \n",
       "3                      disease: Control                      disease: Control   \n",
       "4                        visit: Visit 2                        visit: Visit 2   \n",
       "\n",
       "                             GSM5717524                            GSM5717525  \\\n",
       "0  tissue: Peripheral blood lymphocytes  tissue: Peripheral blood lymphocytes   \n",
       "1                             Sex: Male                           Sex: Female   \n",
       "2                               age: 32                               age: 36   \n",
       "3                      disease: Control                      disease: Control   \n",
       "4                        visit: Visit 2                        visit: Visit 2   \n",
       "\n",
       "                             GSM5717526  \n",
       "0  tissue: Peripheral blood lymphocytes  \n",
       "1                             Sex: Male  \n",
       "2                               age: 40  \n",
       "3                      disease: Control  \n",
       "4                        visit: Visit 2  \n",
       "\n",
       "[5 rows x 49 columns]"
      ]
     },
     "execution_count": 7,
     "metadata": {},
     "output_type": "execute_result"
    }
   ],
   "source": [
    "clinical_data.head()"
   ]
  },
  {
   "cell_type": "code",
   "execution_count": 8,
   "metadata": {
    "ExecuteTime": {
     "end_time": "2024-01-02T01:03:01.805026160Z",
     "start_time": "2024-01-02T01:03:01.804428154Z"
    },
    "collapsed": false,
    "jupyter": {
     "outputs_hidden": false
    }
   },
   "outputs": [
    {
     "data": {
      "text/plain": [
       "{0: ['tissue: Peripheral blood lymphocytes'],\n",
       " 1: ['Sex: Male', 'Sex: Female'],\n",
       " 2: ['age: 58',\n",
       "  'age: 47',\n",
       "  'age: 33',\n",
       "  'age: 41',\n",
       "  'age: 45',\n",
       "  'age: 40',\n",
       "  'age: 28',\n",
       "  'age: 46',\n",
       "  'age: 57',\n",
       "  'age: 56',\n",
       "  'age: 39',\n",
       "  'age: 42',\n",
       "  'age: 50',\n",
       "  'age: 51',\n",
       "  'age: 35',\n",
       "  'age: 43',\n",
       "  'age: 36',\n",
       "  'age: 53',\n",
       "  'age: 32'],\n",
       " 3: ['disease: OSA', 'disease: Control'],\n",
       " 4: ['visit: Visit 1', 'visit: Visit 2'],\n",
       " 5: ['patient: 2',\n",
       "  'patient: 7',\n",
       "  'patient: 12',\n",
       "  'patient: 18',\n",
       "  'patient: 39',\n",
       "  'patient: 45',\n",
       "  'patient: 46',\n",
       "  'patient: 67',\n",
       "  'patient: 5',\n",
       "  'patient: 6',\n",
       "  'patient: 8',\n",
       "  'patient: 9',\n",
       "  'patient: 21',\n",
       "  'patient: 29',\n",
       "  'patient: 57',\n",
       "  'patient: 66',\n",
       "  'patient: 4',\n",
       "  'patient: 10',\n",
       "  'patient: 14',\n",
       "  'patient: 30',\n",
       "  'patient: 31',\n",
       "  'patient: 34',\n",
       "  'patient: 36',\n",
       "  'patient: 50']}"
      ]
     },
     "execution_count": 8,
     "metadata": {},
     "output_type": "execute_result"
    }
   ],
   "source": [
    "clinical_data_unique = get_unique_values_by_row(clinical_data)\n",
    "clinical_data_unique"
   ]
  },
  {
   "cell_type": "markdown",
   "metadata": {
    "ExecuteTime": {
     "end_time": "2023-12-31T03:58:04.978204446Z",
     "start_time": "2023-12-31T03:58:04.922270095Z"
    },
    "collapsed": false,
    "jupyter": {
     "outputs_hidden": false
    }
   },
   "source": [
    "Analyze the metadata to determine data relevance and find ways to extract the clinical data.\n",
    "Reference prompt:"
   ]
  },
  {
   "cell_type": "code",
   "execution_count": 9,
   "metadata": {
    "ExecuteTime": {
     "end_time": "2024-01-02T01:03:02.369775044Z",
     "start_time": "2024-01-02T01:03:02.356501629Z"
    },
    "collapsed": false,
    "jupyter": {
     "outputs_hidden": false
    }
   },
   "outputs": [
    {
     "data": {
      "text/plain": [
       "'As a biomedical research team, we are selecting datasets to study the association between the human trait \\'Obstructive sleep apnea\\' and genetic factors, optionally considering the influence of age and gender. After searching the GEO database and parsing the matrix file of a series, we obtained background information and sample characteristics data. We will provide textual information about the dataset background, and a Python dictionary storing a list of unique values for each field of the sample characteristics data. Please carefully review the provided information and answer the following questions about this dataset:\\n1. Does this dataset contain gene expression data? (Note: Pure miRNA data is not suitable.)\\n2. For each of the traits \\'Obstructive sleep apnea\\', \\'age\\', and \\'gender\\', please address these points:\\n   (1) Is there human data available for this trait?\\n   (2) If so, identify the key in the sample characteristics dictionary where unique values of this trait is recorded. The key is an integer. The trait information might be explicitly recorded, or can be inferred from the field with some biomedical knowledge or understanding about the data collection process.\\n   (3) Choose an appropriate data type (either \\'continuous\\' or \\'binary\\') for each trait. Write a Python function to convert any given value of the trait to this data type. The function should handle inference about the trait value and convert unknown values to None.\\n   Name the functions \\'convert_trait\\', \\'convert_age\\', and \\'convert_gender\\', respectively.\\n\\nBackground information about the dataset:\\n!Series_title\\t\"DNA methylation profiling in blood of OSA patients and controls\"\\n!Series_summary\\t\"Obstructive sleep apnea (OSA) is associated with increased risk for cardiovascular morbidity and mortality. Epidemiological and animal models studies generate hypotheses for innovative strategies in OSA management by interfering intermediates mechanisms associated with cardiovascular complications. In this study, we interrogated DNA methylation profiles in 16 polysomnographically evaluated OSA patients (Apnea Hypopnea Index, AHI > 30) and 8 controls (AHI<5 events/h sleep). Blood samples were collected at initial visit (V1) and a year later (V2). OSA patients received Continuous Positive Air Pressure (CPAP) therapy with high adherence (> 4 hours/night). Control individuals did not receive CPAP therapy. Genomic DNA was treated with sodium bisulfite. Converted DNA was analyzed using Illumina’s Infinium Human Methylation 450 BeadChip assay. DNA methylation profiles enabled the prospective evaluation of inflammatory and epigenetics mechanism involved in cardiovascular complication of OSA patients compared with non OSA subjects, as well as the variation of epigenetic profiles in OSA patients after one year of high-adherence CPAP therapy.\"\\n!Series_overall_design\\t\"This case-control study includes 16 polysomnographically evaluated OSA patients and 8 controls. Blood samples were collected at initial visit (V1) and one year later (v2). Microarray data set consisted of n=48 microarrays, including one microarray per sample at visit 1 (n=24 arrays) and one microarray per sample at visit 2 (n=24 arrays). Microarray data was analyzed using Illumina Genome Studio v2011.1. Data was processed with background normalization.\"\\n\\nSample characteristics dictionary (from \"!Sample_characteristics_ch1\", converted to a Python dictionary that stores the unique values for each field):\\n{0: [\\'tissue: Peripheral blood lymphocytes\\'], 1: [\\'Sex: Male\\', \\'Sex: Female\\'], 2: [\\'age: 58\\', \\'age: 47\\', \\'age: 33\\', \\'age: 41\\', \\'age: 45\\', \\'age: 40\\', \\'age: 28\\', \\'age: 46\\', \\'age: 57\\', \\'age: 56\\', \\'age: 39\\', \\'age: 42\\', \\'age: 50\\', \\'age: 51\\', \\'age: 35\\', \\'age: 43\\', \\'age: 36\\', \\'age: 53\\', \\'age: 32\\'], 3: [\\'disease: OSA\\', \\'disease: Control\\'], 4: [\\'visit: Visit 1\\', \\'visit: Visit 2\\'], 5: [\\'patient: 2\\', \\'patient: 7\\', \\'patient: 12\\', \\'patient: 18\\', \\'patient: 39\\', \\'patient: 45\\', \\'patient: 46\\', \\'patient: 67\\', \\'patient: 5\\', \\'patient: 6\\', \\'patient: 8\\', \\'patient: 9\\', \\'patient: 21\\', \\'patient: 29\\', \\'patient: 57\\', \\'patient: 66\\', \\'patient: 4\\', \\'patient: 10\\', \\'patient: 14\\', \\'patient: 30\\', \\'patient: 31\\', \\'patient: 34\\', \\'patient: 36\\', \\'patient: 50\\']}\\n'"
      ]
     },
     "execution_count": 9,
     "metadata": {},
     "output_type": "execute_result"
    }
   ],
   "source": [
    "f'''As a biomedical research team, we are selecting datasets to study the association between the human trait \\'{TRAIT}\\' and genetic factors, optionally considering the influence of age and gender. After searching the GEO database and parsing the matrix file of a series, we obtained background information and sample characteristics data. We will provide textual information about the dataset background, and a Python dictionary storing a list of unique values for each field of the sample characteristics data. Please carefully review the provided information and answer the following questions about this dataset:\n",
    "1. Does this dataset contain gene expression data? (Note: Pure miRNA data is not suitable.)\n",
    "2. For each of the traits \\'{TRAIT}\\', 'age', and 'gender', please address these points:\n",
    "   (1) Is there human data available for this trait?\n",
    "   (2) If so, identify the key in the sample characteristics dictionary where unique values of this trait is recorded. The key is an integer. The trait information might be explicitly recorded, or can be inferred from the field with some biomedical knowledge or understanding about the data collection process.\n",
    "   (3) Choose an appropriate data type (either 'continuous' or 'binary') for each trait. Write a Python function to convert any given value of the trait to this data type. The function should handle inference about the trait value and convert unknown values to None.\n",
    "   Name the functions 'convert_trait', 'convert_age', and 'convert_gender', respectively.\n",
    "\n",
    "Background information about the dataset:\n",
    "{background_info}\n",
    "\n",
    "Sample characteristics dictionary (from \"!Sample_characteristics_ch1\", converted to a Python dictionary that stores the unique values for each field):\n",
    "{clinical_data_unique}\n",
    "'''"
   ]
  },
  {
   "cell_type": "markdown",
   "metadata": {
    "ExecuteTime": {
     "end_time": "2023-12-31T03:58:04.978240504Z",
     "start_time": "2023-12-31T03:58:04.922365324Z"
    },
    "collapsed": false,
    "jupyter": {
     "outputs_hidden": false
    }
   },
   "source": [
    "Understand and verify the answer from GPT, to assign values to the below variables. Assign None to the 'row_id' variables if relevant data row was not found.\n",
    "Later we need to let GPT format its answer to automatically do these. But given the complexity of this step, let's grow some insight from the free-text answers for now."
   ]
  },
  {
   "cell_type": "code",
   "execution_count": 10,
   "metadata": {
    "ExecuteTime": {
     "end_time": "2024-01-02T01:03:03.079540570Z",
     "start_time": "2024-01-02T01:03:03.073638535Z"
    },
    "collapsed": false,
    "jupyter": {
     "outputs_hidden": false
    }
   },
   "outputs": [],
   "source": [
    "is_gene_availabe = True\n",
    "trait_row = 3\n",
    "age_row = 2\n",
    "gender_row = 1\n",
    "\n",
    "trait_type = 'binary'"
   ]
  },
  {
   "cell_type": "code",
   "execution_count": 11,
   "metadata": {
    "ExecuteTime": {
     "end_time": "2024-01-02T01:03:03.572682163Z",
     "start_time": "2024-01-02T01:03:03.559775513Z"
    },
    "collapsed": false,
    "jupyter": {
     "outputs_hidden": false
    }
   },
   "outputs": [],
   "source": [
    "is_available = is_gene_availabe and (trait_row is not None)\n",
    "if not is_available:\n",
    "    save_cohort_info(cohort, JSON_PATH, is_available)\n",
    "    print(\"This cohort is not usable. Please skip the following steps and jump to the next accession number.\")"
   ]
  },
  {
   "cell_type": "code",
   "execution_count": 12,
   "metadata": {
    "ExecuteTime": {
     "end_time": "2024-01-02T01:03:03.973964287Z",
     "start_time": "2024-01-02T01:03:03.964958096Z"
    },
    "collapsed": false,
    "jupyter": {
     "outputs_hidden": false
    }
   },
   "outputs": [
    {
     "data": {
      "text/plain": [
       "(0, None, None)"
      ]
     },
     "execution_count": 12,
     "metadata": {},
     "output_type": "execute_result"
    }
   ],
   "source": [
    "def convert_trait(tissue_type):\n",
    "    \"\"\"\n",
    "    Convert tissue type to epilepsy presence (binary).\n",
    "    Assuming epilepsy presence for 'Hippocampus' tissue.\n",
    "    \"\"\"\n",
    "    if tissue_type == 'disease: OSA':\n",
    "        return 1  # Epilepsy present\n",
    "    else:\n",
    "        return 0  # Epilepsy not present\n",
    "\n",
    "def convert_age(age_string):\n",
    "    \"\"\"\n",
    "    Convert age string to a numerical value.\n",
    "    \"\"\"\n",
    "    if age_string.startswith('age: '):\n",
    "        try:\n",
    "            return int(age_string.split('age: ')[1].rstrip(''))  # Extracting numeric part\n",
    "        except ValueError:\n",
    "            return None  # In case of parsing error\n",
    "    else:\n",
    "        return None  # If age string does not follow expected format\n",
    "\n",
    "def convert_gender(gender_string):\n",
    "    \"\"\"\n",
    "    Convert gender string to a binary representation.\n",
    "    Female -> 0, Male -> 1, Unknown -> None\n",
    "    \"\"\"\n",
    "    if gender_string == 'Sex: Female':\n",
    "        return 0\n",
    "    elif gender_string == 'Sex: Male':\n",
    "        return 1\n",
    "    else:\n",
    "        return None  # In case of unknown gender\n",
    "\n",
    "# Example usage\n",
    "example_tissue = 'tissue: Hippocampus'\n",
    "example_age = 'age: 23y'\n",
    "example_gender = 'gender: Male'\n",
    "\n",
    "converted_trait = convert_trait(example_tissue)\n",
    "converted_age = convert_age(example_age)\n",
    "converted_gender = convert_gender(example_gender)\n",
    "\n",
    "converted_trait, converted_age, converted_gender"
   ]
  },
  {
   "cell_type": "code",
   "execution_count": 13,
   "metadata": {
    "ExecuteTime": {
     "end_time": "2024-01-02T01:03:04.637878352Z",
     "start_time": "2024-01-02T01:03:04.593886885Z"
    },
    "collapsed": false,
    "jupyter": {
     "outputs_hidden": false
    }
   },
   "outputs": [
    {
     "name": "stderr",
     "output_type": "stream",
     "text": [
      "/home/yxcheng/AI4Science_gold_standard/stage1/Yuxuan/../utils.py:208: FutureWarning: DataFrame.applymap has been deprecated. Use DataFrame.map instead.\n",
      "  clinical_df = clinical_df.applymap(convert_fn)\n",
      "/home/yxcheng/AI4Science_gold_standard/stage1/Yuxuan/../utils.py:208: FutureWarning: DataFrame.applymap has been deprecated. Use DataFrame.map instead.\n",
      "  clinical_df = clinical_df.applymap(convert_fn)\n",
      "/home/yxcheng/AI4Science_gold_standard/stage1/Yuxuan/../utils.py:208: FutureWarning: DataFrame.applymap has been deprecated. Use DataFrame.map instead.\n",
      "  clinical_df = clinical_df.applymap(convert_fn)\n"
     ]
    },
    {
     "data": {
      "text/html": [
       "<div>\n",
       "<style scoped>\n",
       "    .dataframe tbody tr th:only-of-type {\n",
       "        vertical-align: middle;\n",
       "    }\n",
       "\n",
       "    .dataframe tbody tr th {\n",
       "        vertical-align: top;\n",
       "    }\n",
       "\n",
       "    .dataframe thead th {\n",
       "        text-align: right;\n",
       "    }\n",
       "</style>\n",
       "<table border=\"1\" class=\"dataframe\">\n",
       "  <thead>\n",
       "    <tr style=\"text-align: right;\">\n",
       "      <th></th>\n",
       "      <th>GSM5717479</th>\n",
       "      <th>GSM5717480</th>\n",
       "      <th>GSM5717481</th>\n",
       "      <th>GSM5717482</th>\n",
       "      <th>GSM5717483</th>\n",
       "      <th>GSM5717484</th>\n",
       "      <th>GSM5717485</th>\n",
       "      <th>GSM5717486</th>\n",
       "      <th>GSM5717487</th>\n",
       "      <th>GSM5717488</th>\n",
       "      <th>...</th>\n",
       "      <th>GSM5717517</th>\n",
       "      <th>GSM5717518</th>\n",
       "      <th>GSM5717519</th>\n",
       "      <th>GSM5717520</th>\n",
       "      <th>GSM5717521</th>\n",
       "      <th>GSM5717522</th>\n",
       "      <th>GSM5717523</th>\n",
       "      <th>GSM5717524</th>\n",
       "      <th>GSM5717525</th>\n",
       "      <th>GSM5717526</th>\n",
       "    </tr>\n",
       "  </thead>\n",
       "  <tbody>\n",
       "    <tr>\n",
       "      <th>Obstructive sleep apnea</th>\n",
       "      <td>1</td>\n",
       "      <td>1</td>\n",
       "      <td>1</td>\n",
       "      <td>1</td>\n",
       "      <td>1</td>\n",
       "      <td>1</td>\n",
       "      <td>1</td>\n",
       "      <td>1</td>\n",
       "      <td>1</td>\n",
       "      <td>1</td>\n",
       "      <td>...</td>\n",
       "      <td>0</td>\n",
       "      <td>0</td>\n",
       "      <td>0</td>\n",
       "      <td>0</td>\n",
       "      <td>0</td>\n",
       "      <td>0</td>\n",
       "      <td>0</td>\n",
       "      <td>0</td>\n",
       "      <td>0</td>\n",
       "      <td>0</td>\n",
       "    </tr>\n",
       "    <tr>\n",
       "      <th>Age</th>\n",
       "      <td>58</td>\n",
       "      <td>47</td>\n",
       "      <td>33</td>\n",
       "      <td>41</td>\n",
       "      <td>45</td>\n",
       "      <td>47</td>\n",
       "      <td>40</td>\n",
       "      <td>28</td>\n",
       "      <td>46</td>\n",
       "      <td>57</td>\n",
       "      <td>...</td>\n",
       "      <td>36</td>\n",
       "      <td>40</td>\n",
       "      <td>40</td>\n",
       "      <td>35</td>\n",
       "      <td>43</td>\n",
       "      <td>36</td>\n",
       "      <td>53</td>\n",
       "      <td>32</td>\n",
       "      <td>36</td>\n",
       "      <td>40</td>\n",
       "    </tr>\n",
       "    <tr>\n",
       "      <th>Gender</th>\n",
       "      <td>1</td>\n",
       "      <td>1</td>\n",
       "      <td>1</td>\n",
       "      <td>1</td>\n",
       "      <td>1</td>\n",
       "      <td>1</td>\n",
       "      <td>1</td>\n",
       "      <td>1</td>\n",
       "      <td>1</td>\n",
       "      <td>1</td>\n",
       "      <td>...</td>\n",
       "      <td>0</td>\n",
       "      <td>1</td>\n",
       "      <td>1</td>\n",
       "      <td>1</td>\n",
       "      <td>1</td>\n",
       "      <td>1</td>\n",
       "      <td>1</td>\n",
       "      <td>1</td>\n",
       "      <td>0</td>\n",
       "      <td>1</td>\n",
       "    </tr>\n",
       "  </tbody>\n",
       "</table>\n",
       "<p>3 rows × 48 columns</p>\n",
       "</div>"
      ],
      "text/plain": [
       "                         GSM5717479  GSM5717480  GSM5717481  GSM5717482  \\\n",
       "Obstructive sleep apnea           1           1           1           1   \n",
       "Age                              58          47          33          41   \n",
       "Gender                            1           1           1           1   \n",
       "\n",
       "                         GSM5717483  GSM5717484  GSM5717485  GSM5717486  \\\n",
       "Obstructive sleep apnea           1           1           1           1   \n",
       "Age                              45          47          40          28   \n",
       "Gender                            1           1           1           1   \n",
       "\n",
       "                         GSM5717487  GSM5717488  ...  GSM5717517  GSM5717518  \\\n",
       "Obstructive sleep apnea           1           1  ...           0           0   \n",
       "Age                              46          57  ...          36          40   \n",
       "Gender                            1           1  ...           0           1   \n",
       "\n",
       "                         GSM5717519  GSM5717520  GSM5717521  GSM5717522  \\\n",
       "Obstructive sleep apnea           0           0           0           0   \n",
       "Age                              40          35          43          36   \n",
       "Gender                            1           1           1           1   \n",
       "\n",
       "                         GSM5717523  GSM5717524  GSM5717525  GSM5717526  \n",
       "Obstructive sleep apnea           0           0           0           0  \n",
       "Age                              53          32          36          40  \n",
       "Gender                            1           1           0           1  \n",
       "\n",
       "[3 rows x 48 columns]"
      ]
     },
     "execution_count": 13,
     "metadata": {},
     "output_type": "execute_result"
    }
   ],
   "source": [
    "selected_clinical_data = geo_select_clinical_features(clinical_data, TRAIT, trait_row, convert_trait, age_row=age_row,\n",
    "                                                      convert_age=convert_age, gender_row=gender_row,\n",
    "                                                      convert_gender=convert_gender)\n",
    "selected_clinical_data.head()"
   ]
  },
  {
   "cell_type": "code",
   "execution_count": 14,
   "metadata": {
    "ExecuteTime": {
     "end_time": "2023-12-31T03:58:04.978664193Z",
     "start_time": "2023-12-31T03:58:04.966117261Z"
    },
    "collapsed": false,
    "jupyter": {
     "outputs_hidden": false
    }
   },
   "outputs": [],
   "source": [
    "### Genetic data preprocessing and final filtering"
   ]
  },
  {
   "cell_type": "code",
   "execution_count": 14,
   "metadata": {
    "ExecuteTime": {
     "end_time": "2024-01-02T01:03:06.246474256Z",
     "start_time": "2024-01-02T01:03:05.670354792Z"
    },
    "collapsed": false,
    "jupyter": {
     "outputs_hidden": false
    }
   },
   "outputs": [
    {
     "data": {
      "text/html": [
       "<div>\n",
       "<style scoped>\n",
       "    .dataframe tbody tr th:only-of-type {\n",
       "        vertical-align: middle;\n",
       "    }\n",
       "\n",
       "    .dataframe tbody tr th {\n",
       "        vertical-align: top;\n",
       "    }\n",
       "\n",
       "    .dataframe thead th {\n",
       "        text-align: right;\n",
       "    }\n",
       "</style>\n",
       "<table border=\"1\" class=\"dataframe\">\n",
       "  <thead>\n",
       "    <tr style=\"text-align: right;\">\n",
       "      <th></th>\n",
       "      <th>GSM5717479</th>\n",
       "      <th>GSM5717480</th>\n",
       "      <th>GSM5717481</th>\n",
       "      <th>GSM5717482</th>\n",
       "      <th>GSM5717483</th>\n",
       "      <th>GSM5717484</th>\n",
       "      <th>GSM5717485</th>\n",
       "      <th>GSM5717486</th>\n",
       "      <th>GSM5717487</th>\n",
       "      <th>GSM5717488</th>\n",
       "      <th>...</th>\n",
       "      <th>GSM5717517</th>\n",
       "      <th>GSM5717518</th>\n",
       "      <th>GSM5717519</th>\n",
       "      <th>GSM5717520</th>\n",
       "      <th>GSM5717521</th>\n",
       "      <th>GSM5717522</th>\n",
       "      <th>GSM5717523</th>\n",
       "      <th>GSM5717524</th>\n",
       "      <th>GSM5717525</th>\n",
       "      <th>GSM5717526</th>\n",
       "    </tr>\n",
       "    <tr>\n",
       "      <th>ID</th>\n",
       "      <th></th>\n",
       "      <th></th>\n",
       "      <th></th>\n",
       "      <th></th>\n",
       "      <th></th>\n",
       "      <th></th>\n",
       "      <th></th>\n",
       "      <th></th>\n",
       "      <th></th>\n",
       "      <th></th>\n",
       "      <th></th>\n",
       "      <th></th>\n",
       "      <th></th>\n",
       "      <th></th>\n",
       "      <th></th>\n",
       "      <th></th>\n",
       "      <th></th>\n",
       "      <th></th>\n",
       "      <th></th>\n",
       "      <th></th>\n",
       "      <th></th>\n",
       "    </tr>\n",
       "  </thead>\n",
       "  <tbody>\n",
       "    <tr>\n",
       "      <th>cg00000029</th>\n",
       "      <td>0.39711</td>\n",
       "      <td>0.50004</td>\n",
       "      <td>0.47160</td>\n",
       "      <td>0.54099</td>\n",
       "      <td>0.50893</td>\n",
       "      <td>0.50028</td>\n",
       "      <td>0.49975</td>\n",
       "      <td>0.50111</td>\n",
       "      <td>0.54075</td>\n",
       "      <td>0.55147</td>\n",
       "      <td>...</td>\n",
       "      <td>0.48552</td>\n",
       "      <td>0.51873</td>\n",
       "      <td>0.48803</td>\n",
       "      <td>0.50049</td>\n",
       "      <td>0.51284</td>\n",
       "      <td>0.40977</td>\n",
       "      <td>0.49531</td>\n",
       "      <td>0.50750</td>\n",
       "      <td>0.50520</td>\n",
       "      <td>0.46910</td>\n",
       "    </tr>\n",
       "    <tr>\n",
       "      <th>cg00000108</th>\n",
       "      <td>0.91552</td>\n",
       "      <td>0.91257</td>\n",
       "      <td>0.91460</td>\n",
       "      <td>0.91148</td>\n",
       "      <td>0.90179</td>\n",
       "      <td>0.91329</td>\n",
       "      <td>0.90234</td>\n",
       "      <td>0.92175</td>\n",
       "      <td>0.89579</td>\n",
       "      <td>0.90356</td>\n",
       "      <td>...</td>\n",
       "      <td>0.91790</td>\n",
       "      <td>0.89963</td>\n",
       "      <td>0.90714</td>\n",
       "      <td>0.93269</td>\n",
       "      <td>0.91948</td>\n",
       "      <td>0.90093</td>\n",
       "      <td>0.93913</td>\n",
       "      <td>0.91967</td>\n",
       "      <td>0.91863</td>\n",
       "      <td>0.92947</td>\n",
       "    </tr>\n",
       "    <tr>\n",
       "      <th>cg00000109</th>\n",
       "      <td>0.85253</td>\n",
       "      <td>0.87137</td>\n",
       "      <td>0.82689</td>\n",
       "      <td>0.84638</td>\n",
       "      <td>0.81402</td>\n",
       "      <td>0.83593</td>\n",
       "      <td>0.85153</td>\n",
       "      <td>0.84111</td>\n",
       "      <td>0.85841</td>\n",
       "      <td>0.86115</td>\n",
       "      <td>...</td>\n",
       "      <td>0.84337</td>\n",
       "      <td>0.85024</td>\n",
       "      <td>0.84518</td>\n",
       "      <td>0.82999</td>\n",
       "      <td>0.87101</td>\n",
       "      <td>0.88112</td>\n",
       "      <td>0.83805</td>\n",
       "      <td>0.84865</td>\n",
       "      <td>0.84517</td>\n",
       "      <td>0.84138</td>\n",
       "    </tr>\n",
       "    <tr>\n",
       "      <th>cg00000165</th>\n",
       "      <td>0.37970</td>\n",
       "      <td>0.22656</td>\n",
       "      <td>0.31633</td>\n",
       "      <td>0.25122</td>\n",
       "      <td>0.20708</td>\n",
       "      <td>0.25012</td>\n",
       "      <td>0.23467</td>\n",
       "      <td>0.23883</td>\n",
       "      <td>0.22058</td>\n",
       "      <td>0.25398</td>\n",
       "      <td>...</td>\n",
       "      <td>0.19757</td>\n",
       "      <td>0.23066</td>\n",
       "      <td>0.18743</td>\n",
       "      <td>0.23102</td>\n",
       "      <td>0.22559</td>\n",
       "      <td>0.18233</td>\n",
       "      <td>0.19577</td>\n",
       "      <td>0.17926</td>\n",
       "      <td>0.18453</td>\n",
       "      <td>0.16438</td>\n",
       "    </tr>\n",
       "    <tr>\n",
       "      <th>cg00000236</th>\n",
       "      <td>0.69666</td>\n",
       "      <td>0.77201</td>\n",
       "      <td>0.70386</td>\n",
       "      <td>0.71850</td>\n",
       "      <td>0.65905</td>\n",
       "      <td>0.74077</td>\n",
       "      <td>0.74480</td>\n",
       "      <td>0.72117</td>\n",
       "      <td>0.72474</td>\n",
       "      <td>0.70615</td>\n",
       "      <td>...</td>\n",
       "      <td>0.65418</td>\n",
       "      <td>0.71605</td>\n",
       "      <td>0.70882</td>\n",
       "      <td>0.72237</td>\n",
       "      <td>0.76481</td>\n",
       "      <td>0.72263</td>\n",
       "      <td>0.75319</td>\n",
       "      <td>0.75430</td>\n",
       "      <td>0.72858</td>\n",
       "      <td>0.72141</td>\n",
       "    </tr>\n",
       "  </tbody>\n",
       "</table>\n",
       "<p>5 rows × 48 columns</p>\n",
       "</div>"
      ],
      "text/plain": [
       "            GSM5717479  GSM5717480  GSM5717481  GSM5717482  GSM5717483  \\\n",
       "ID                                                                       \n",
       "cg00000029     0.39711     0.50004     0.47160     0.54099     0.50893   \n",
       "cg00000108     0.91552     0.91257     0.91460     0.91148     0.90179   \n",
       "cg00000109     0.85253     0.87137     0.82689     0.84638     0.81402   \n",
       "cg00000165     0.37970     0.22656     0.31633     0.25122     0.20708   \n",
       "cg00000236     0.69666     0.77201     0.70386     0.71850     0.65905   \n",
       "\n",
       "            GSM5717484  GSM5717485  GSM5717486  GSM5717487  GSM5717488  ...  \\\n",
       "ID                                                                      ...   \n",
       "cg00000029     0.50028     0.49975     0.50111     0.54075     0.55147  ...   \n",
       "cg00000108     0.91329     0.90234     0.92175     0.89579     0.90356  ...   \n",
       "cg00000109     0.83593     0.85153     0.84111     0.85841     0.86115  ...   \n",
       "cg00000165     0.25012     0.23467     0.23883     0.22058     0.25398  ...   \n",
       "cg00000236     0.74077     0.74480     0.72117     0.72474     0.70615  ...   \n",
       "\n",
       "            GSM5717517  GSM5717518  GSM5717519  GSM5717520  GSM5717521  \\\n",
       "ID                                                                       \n",
       "cg00000029     0.48552     0.51873     0.48803     0.50049     0.51284   \n",
       "cg00000108     0.91790     0.89963     0.90714     0.93269     0.91948   \n",
       "cg00000109     0.84337     0.85024     0.84518     0.82999     0.87101   \n",
       "cg00000165     0.19757     0.23066     0.18743     0.23102     0.22559   \n",
       "cg00000236     0.65418     0.71605     0.70882     0.72237     0.76481   \n",
       "\n",
       "            GSM5717522  GSM5717523  GSM5717524  GSM5717525  GSM5717526  \n",
       "ID                                                                      \n",
       "cg00000029     0.40977     0.49531     0.50750     0.50520     0.46910  \n",
       "cg00000108     0.90093     0.93913     0.91967     0.91863     0.92947  \n",
       "cg00000109     0.88112     0.83805     0.84865     0.84517     0.84138  \n",
       "cg00000165     0.18233     0.19577     0.17926     0.18453     0.16438  \n",
       "cg00000236     0.72263     0.75319     0.75430     0.72858     0.72141  \n",
       "\n",
       "[5 rows x 48 columns]"
      ]
     },
     "execution_count": 14,
     "metadata": {},
     "output_type": "execute_result"
    }
   ],
   "source": [
    "genetic_data = get_genetic_data(matrix_file)\n",
    "genetic_data.head()"
   ]
  },
  {
   "cell_type": "code",
   "execution_count": 15,
   "metadata": {
    "ExecuteTime": {
     "end_time": "2024-01-02T01:03:06.250833943Z",
     "start_time": "2024-01-02T01:03:06.246758837Z"
    },
    "collapsed": false,
    "jupyter": {
     "outputs_hidden": false
    }
   },
   "outputs": [
    {
     "data": {
      "text/plain": [
       "['cg00000029',\n",
       " 'cg00000108',\n",
       " 'cg00000109',\n",
       " 'cg00000165',\n",
       " 'cg00000236',\n",
       " 'cg00000289',\n",
       " 'cg00000292',\n",
       " 'cg00000321',\n",
       " 'cg00000363',\n",
       " 'cg00000622',\n",
       " 'cg00000658',\n",
       " 'cg00000714',\n",
       " 'cg00000721',\n",
       " 'cg00000734',\n",
       " 'cg00000769',\n",
       " 'cg00000807',\n",
       " 'cg00000884',\n",
       " 'cg00000905',\n",
       " 'cg00000924',\n",
       " 'cg00000948']"
      ]
     },
     "execution_count": 15,
     "metadata": {},
     "output_type": "execute_result"
    }
   ],
   "source": [
    "gene_row_ids = genetic_data.index[:20].tolist()\n",
    "gene_row_ids"
   ]
  },
  {
   "cell_type": "markdown",
   "metadata": {
    "ExecuteTime": {
     "end_time": "2023-12-31T03:30:41.595335164Z",
     "start_time": "2023-12-31T03:30:41.513232329Z"
    },
    "collapsed": false,
    "jupyter": {
     "outputs_hidden": false
    }
   },
   "source": [
    "Check if the gene dataset requires mapping to get the gene symbols corresponding to each data row."
   ]
  },
  {
   "cell_type": "markdown",
   "metadata": {
    "collapsed": false,
    "jupyter": {
     "outputs_hidden": false
    }
   },
   "source": [
    "Reference prompt:"
   ]
  },
  {
   "cell_type": "code",
   "execution_count": 16,
   "metadata": {
    "ExecuteTime": {
     "end_time": "2024-01-02T01:03:07.586216481Z",
     "start_time": "2024-01-02T01:03:07.574527035Z"
    },
    "collapsed": false,
    "jupyter": {
     "outputs_hidden": false
    }
   },
   "outputs": [
    {
     "data": {
      "text/plain": [
       "\"\\nBelow are the row headers of a gene expression dataset in GEO. Based on your biomedical knowledge, are they human gene symbols, or are they some other identifiers that need to be mapped to gene symbols? Your answer should be concluded by starting a new line and strictly following this format:\\nrequires_gene_mapping = (True or False)\\n\\nRow headers:\\n['cg00000029', 'cg00000108', 'cg00000109', 'cg00000165', 'cg00000236', 'cg00000289', 'cg00000292', 'cg00000321', 'cg00000363', 'cg00000622', 'cg00000658', 'cg00000714', 'cg00000721', 'cg00000734', 'cg00000769', 'cg00000807', 'cg00000884', 'cg00000905', 'cg00000924', 'cg00000948']\\n\""
      ]
     },
     "execution_count": 16,
     "metadata": {},
     "output_type": "execute_result"
    }
   ],
   "source": [
    "f'''\n",
    "Below are the row headers of a gene expression dataset in GEO. Based on your biomedical knowledge, are they human gene symbols, or are they some other identifiers that need to be mapped to gene symbols? Your answer should be concluded by starting a new line and strictly following this format:\n",
    "requires_gene_mapping = (True or False)\n",
    "\n",
    "Row headers:\n",
    "{gene_row_ids}\n",
    "'''"
   ]
  },
  {
   "cell_type": "markdown",
   "metadata": {
    "collapsed": false,
    "jupyter": {
     "outputs_hidden": false
    }
   },
   "source": [
    "If not required, jump directly to the gene normalization step"
   ]
  },
  {
   "cell_type": "code",
   "execution_count": 17,
   "metadata": {
    "ExecuteTime": {
     "end_time": "2024-01-02T01:03:08.263712538Z",
     "start_time": "2024-01-02T01:03:08.260656314Z"
    },
    "collapsed": false,
    "jupyter": {
     "outputs_hidden": false
    }
   },
   "outputs": [],
   "source": [
    "requires_gene_mapping = True"
   ]
  },
  {
   "cell_type": "code",
   "execution_count": 19,
   "metadata": {
    "ExecuteTime": {
     "end_time": "2024-01-02T01:03:33.822550310Z",
     "start_time": "2024-01-02T01:03:08.648958912Z"
    },
    "collapsed": false,
    "jupyter": {
     "outputs_hidden": false
    }
   },
   "outputs": [
    {
     "name": "stdout",
     "output_type": "stream",
     "text": [
      "{'ID': ['cg00035864', 'cg00050873', 'cg00061679', 'cg00063477', 'cg00121626'], 'Name': ['cg00035864', 'cg00050873', 'cg00061679', 'cg00063477', 'cg00121626'], 'AddressA_ID': ['31729416', '32735311', '28780415', '16712347', '19779393'], 'AlleleA_ProbeSeq': ['AAAACACTAACAATCTTATCCACATAAACCCTTAAATTTATCTCAAATTC', 'ACAAAAAAACAACACACAACTATAATAATTTTTAAAATAAATAAACCCCA', 'AAAACATTAAAAAACTAATTCACTACTATTTAATTACTTTATTTTCCATC', 'TATTCTTCCACACAAAATACTAAACRTATATTTACAAAAATACTTCCATC', 'AAAACTAATAAAAATAACTTACAAACCAAATACTATACCCTACAACTCTC'], 'AddressB_ID': [nan, 31717405.0, nan, nan, nan], 'AlleleB_ProbeSeq': [nan, 'ACGAAAAAACAACGCACAACTATAATAATTTTTAAAATAAATAAACCCCG', nan, nan, nan], 'Infinium_Design_Type': ['II', 'I', 'II', 'II', 'II'], 'Next_Base': [nan, 'A', nan, nan, nan], 'Color_Channel': [nan, 'Red', nan, nan, nan], 'Forward_Sequence': ['AATCCAAAGATGATGGAGGAGTGCCCGCTCATGATGTGAAGTACCTGCTCAGCTGGAAAC[CG]AATTTGAGATAAATTCAAGGGTCTATGTGGACAAGACTGCTAGTGTCTCTCTCTGGATTG', 'TATCTCTGTCTGGCGAGGAGGCAACGCACAACTGTGGTGGTTTTTGGAGTGGGTGGACCC[CG]GCCAAGACGGCCTGGGCTGACCAGAGACGGGAGGCAGAAAAAGTGGGCAGGTGGTTGCAG', 'TCAACAAATGAGAGACATTGAAGAACTAATTCACTACTATTTGGTTACTTTATTTTCCAT[CG]AAGAAAACCTCTTTTTAAAAACTAACACATAAATAAAATGAACGAAGAACAAACTAAACG', 'CTCCTGTACTTGTTCATTAAATAATGATTCCTTGGATATACCAAGTCTGGATAGCGGATT[CG]ATGGAAGCATTTTTGTAAATATACGTTCAGTATTTTGTGTGGAAGAACACAATCTAGCTG', 'AGGTGAATGAAGAGACTAATGGGAGTGGCTTGCAAGCCAGGTACTGTGCCCTACAACTCT[CG]CGCTGCCACAAAAAGCCAATTAACGAAGCAAACTGTTTTATCTTTTCCTCTCCCCAGAAG'], 'Genome_Build': [37.0, 37.0, 37.0, 37.0, 37.0], 'CHR': ['Y', 'Y', 'Y', 'Y', 'Y'], 'MAPINFO': [8553009.0, 9363356.0, 25314171.0, 22741795.0, 21664296.0], 'SourceSeq': ['AGACACTAGCAGTCTTGTCCACATAGACCCTTGAATTTATCTCAAATTCG', 'CGGGGTCCACCCACTCCAAAAACCACCACAGTTGTGCGTTGCCTCCTCGC', 'CGATGGAAAATAAAGTAACCAAATAGTAGTGAATTAGTTCTTCAATGTCT', 'CGATGGAAGCATTTTTGTAAATATACGTTCAGTATTTTGTGTGGAAGAAC', 'AGACTAATGGGAGTGGCTTGCAAGCCAGGTACTGTGCCCTACAACTCTCG'], 'Chromosome_36': ['Y', 'Y', 'Y', 'Y', 'Y'], 'Coordinate_36': ['8613009', '9973356', '23723559', '21151183', '20123684'], 'Strand': ['F', 'R', 'R', 'F', 'R'], 'Probe_SNPs': [nan, nan, nan, 'rs9341313', nan], 'Probe_SNPs_10': [nan, nan, nan, 'rs13447379', nan], 'Random_Loci': [nan, nan, nan, nan, nan], 'Methyl27_Loci': [nan, nan, nan, nan, nan], 'UCSC_RefGene_Name': ['TTTY18', 'TSPY4;FAM197Y2', 'DAZ1;DAZ4;DAZ4', 'EIF1AY', 'BCORL2'], 'UCSC_RefGene_Accession': ['NR_001550', 'NM_001164471;NR_001553', 'NM_004081;NM_020420;NM_001005375', 'NM_004681', 'NR_002923'], 'UCSC_RefGene_Group': ['TSS1500', 'Body;TSS1500', 'Body;Body;Body', 'Body', 'Body'], 'UCSC_CpG_Islands_Name': [nan, 'chrY:9363680-9363943', nan, 'chrY:22737825-22738052', 'chrY:21664481-21665063'], 'Relation_to_UCSC_CpG_Island': [nan, 'N_Shore', nan, 'S_Shelf', 'N_Shore'], 'Phantom': [nan, nan, nan, nan, nan], 'DMR': [nan, nan, nan, nan, nan], 'Enhancer': [nan, nan, nan, nan, nan], 'HMM_Island': [nan, 'Y:9973136-9976273', nan, nan, nan], 'Regulatory_Feature_Name': [nan, nan, nan, nan, nan], 'Regulatory_Feature_Group': [nan, nan, nan, nan, nan], 'DHS': [nan, nan, nan, nan, nan], 'RANGE_START': [8553009.0, 9363356.0, 25314171.0, 22741795.0, 21664296.0], 'RANGE_END': [8553132.0, 9363479.0, 25314294.0, 22741918.0, 21664419.0], 'RANGE_GB': ['NC_000024.9', 'NC_000024.9', 'NC_000024.9', 'NC_000024.9', 'NC_000024.9'], 'SPOT_ID': [nan, nan, nan, nan, nan]}\n"
     ]
    }
   ],
   "source": [
    "if requires_gene_mapping:\n",
    "    gene_annotation = get_gene_annotation(soft_file)\n",
    "    gene_annotation_summary = preview_df(gene_annotation)\n",
    "    print(gene_annotation_summary)"
   ]
  },
  {
   "cell_type": "markdown",
   "metadata": {
    "ExecuteTime": {
     "end_time": "2023-12-31T03:58:04.978931927Z",
     "start_time": "2023-12-31T03:58:04.966328339Z"
    },
    "collapsed": false,
    "jupyter": {
     "outputs_hidden": false
    }
   },
   "source": [
    "Observe the first few cells in the ID column of the gene annotation dataframe, to find the names of columns that store the gene probe IDs and gene symbols respectively.\n",
    "Reference prompt:"
   ]
  },
  {
   "cell_type": "code",
   "execution_count": 20,
   "metadata": {
    "ExecuteTime": {
     "end_time": "2024-01-02T01:03:33.822912446Z",
     "start_time": "2024-01-02T01:03:33.804491826Z"
    },
    "collapsed": false,
    "jupyter": {
     "outputs_hidden": false
    }
   },
   "outputs": [
    {
     "name": "stdout",
     "output_type": "stream",
     "text": [
      "\n",
      "    As a biomedical research team, we extracted the gene annotation data from a series in the GEO database, and saved it to a Python dictionary. Please read the dictionary, and decide which key stores the ID of the probe, and which key stores the gene symbols. Please strict follow this format in your answer:\n",
      "    probe_name_key = 'key_name1'\n",
      "    gene_name_key = 'key_name2'\n",
      "\n",
      "    Gene annotation dictionary:\n",
      "    {'ID': ['cg00035864', 'cg00050873', 'cg00061679', 'cg00063477', 'cg00121626'], 'Name': ['cg00035864', 'cg00050873', 'cg00061679', 'cg00063477', 'cg00121626'], 'AddressA_ID': ['31729416', '32735311', '28780415', '16712347', '19779393'], 'AlleleA_ProbeSeq': ['AAAACACTAACAATCTTATCCACATAAACCCTTAAATTTATCTCAAATTC', 'ACAAAAAAACAACACACAACTATAATAATTTTTAAAATAAATAAACCCCA', 'AAAACATTAAAAAACTAATTCACTACTATTTAATTACTTTATTTTCCATC', 'TATTCTTCCACACAAAATACTAAACRTATATTTACAAAAATACTTCCATC', 'AAAACTAATAAAAATAACTTACAAACCAAATACTATACCCTACAACTCTC'], 'AddressB_ID': [nan, 31717405.0, nan, nan, nan], 'AlleleB_ProbeSeq': [nan, 'ACGAAAAAACAACGCACAACTATAATAATTTTTAAAATAAATAAACCCCG', nan, nan, nan], 'Infinium_Design_Type': ['II', 'I', 'II', 'II', 'II'], 'Next_Base': [nan, 'A', nan, nan, nan], 'Color_Channel': [nan, 'Red', nan, nan, nan], 'Forward_Sequence': ['AATCCAAAGATGATGGAGGAGTGCCCGCTCATGATGTGAAGTACCTGCTCAGCTGGAAAC[CG]AATTTGAGATAAATTCAAGGGTCTATGTGGACAAGACTGCTAGTGTCTCTCTCTGGATTG', 'TATCTCTGTCTGGCGAGGAGGCAACGCACAACTGTGGTGGTTTTTGGAGTGGGTGGACCC[CG]GCCAAGACGGCCTGGGCTGACCAGAGACGGGAGGCAGAAAAAGTGGGCAGGTGGTTGCAG', 'TCAACAAATGAGAGACATTGAAGAACTAATTCACTACTATTTGGTTACTTTATTTTCCAT[CG]AAGAAAACCTCTTTTTAAAAACTAACACATAAATAAAATGAACGAAGAACAAACTAAACG', 'CTCCTGTACTTGTTCATTAAATAATGATTCCTTGGATATACCAAGTCTGGATAGCGGATT[CG]ATGGAAGCATTTTTGTAAATATACGTTCAGTATTTTGTGTGGAAGAACACAATCTAGCTG', 'AGGTGAATGAAGAGACTAATGGGAGTGGCTTGCAAGCCAGGTACTGTGCCCTACAACTCT[CG]CGCTGCCACAAAAAGCCAATTAACGAAGCAAACTGTTTTATCTTTTCCTCTCCCCAGAAG'], 'Genome_Build': [37.0, 37.0, 37.0, 37.0, 37.0], 'CHR': ['Y', 'Y', 'Y', 'Y', 'Y'], 'MAPINFO': [8553009.0, 9363356.0, 25314171.0, 22741795.0, 21664296.0], 'SourceSeq': ['AGACACTAGCAGTCTTGTCCACATAGACCCTTGAATTTATCTCAAATTCG', 'CGGGGTCCACCCACTCCAAAAACCACCACAGTTGTGCGTTGCCTCCTCGC', 'CGATGGAAAATAAAGTAACCAAATAGTAGTGAATTAGTTCTTCAATGTCT', 'CGATGGAAGCATTTTTGTAAATATACGTTCAGTATTTTGTGTGGAAGAAC', 'AGACTAATGGGAGTGGCTTGCAAGCCAGGTACTGTGCCCTACAACTCTCG'], 'Chromosome_36': ['Y', 'Y', 'Y', 'Y', 'Y'], 'Coordinate_36': ['8613009', '9973356', '23723559', '21151183', '20123684'], 'Strand': ['F', 'R', 'R', 'F', 'R'], 'Probe_SNPs': [nan, nan, nan, 'rs9341313', nan], 'Probe_SNPs_10': [nan, nan, nan, 'rs13447379', nan], 'Random_Loci': [nan, nan, nan, nan, nan], 'Methyl27_Loci': [nan, nan, nan, nan, nan], 'UCSC_RefGene_Name': ['TTTY18', 'TSPY4;FAM197Y2', 'DAZ1;DAZ4;DAZ4', 'EIF1AY', 'BCORL2'], 'UCSC_RefGene_Accession': ['NR_001550', 'NM_001164471;NR_001553', 'NM_004081;NM_020420;NM_001005375', 'NM_004681', 'NR_002923'], 'UCSC_RefGene_Group': ['TSS1500', 'Body;TSS1500', 'Body;Body;Body', 'Body', 'Body'], 'UCSC_CpG_Islands_Name': [nan, 'chrY:9363680-9363943', nan, 'chrY:22737825-22738052', 'chrY:21664481-21665063'], 'Relation_to_UCSC_CpG_Island': [nan, 'N_Shore', nan, 'S_Shelf', 'N_Shore'], 'Phantom': [nan, nan, nan, nan, nan], 'DMR': [nan, nan, nan, nan, nan], 'Enhancer': [nan, nan, nan, nan, nan], 'HMM_Island': [nan, 'Y:9973136-9976273', nan, nan, nan], 'Regulatory_Feature_Name': [nan, nan, nan, nan, nan], 'Regulatory_Feature_Group': [nan, nan, nan, nan, nan], 'DHS': [nan, nan, nan, nan, nan], 'RANGE_START': [8553009.0, 9363356.0, 25314171.0, 22741795.0, 21664296.0], 'RANGE_END': [8553132.0, 9363479.0, 25314294.0, 22741918.0, 21664419.0], 'RANGE_GB': ['NC_000024.9', 'NC_000024.9', 'NC_000024.9', 'NC_000024.9', 'NC_000024.9'], 'SPOT_ID': [nan, nan, nan, nan, nan]}\n",
      "    \n"
     ]
    }
   ],
   "source": [
    "if requires_gene_mapping:\n",
    "    print(f'''\n",
    "    As a biomedical research team, we extracted the gene annotation data from a series in the GEO database, and saved it to a Python dictionary. Please read the dictionary, and decide which key stores the ID of the probe, and which key stores the gene symbols. Please strict follow this format in your answer:\n",
    "    probe_name_key = 'key_name1'\n",
    "    gene_name_key = 'key_name2'\n",
    "\n",
    "    Gene annotation dictionary:\n",
    "    {gene_annotation_summary}\n",
    "    ''')"
   ]
  },
  {
   "cell_type": "code",
   "execution_count": 21,
   "metadata": {
    "ExecuteTime": {
     "end_time": "2024-01-02T01:03:35.113359369Z",
     "start_time": "2024-01-02T01:03:33.804666371Z"
    },
    "collapsed": false,
    "jupyter": {
     "outputs_hidden": false
    }
   },
   "outputs": [],
   "source": [
    "if requires_gene_mapping:\n",
    "    probe_id_key = 'ID'\n",
    "    gene_symb_key = 'UCSC_RefGene_Name'\n",
    "    gene_mapping = get_gene_mapping(gene_annotation, probe_id_key, gene_symb_key)\n",
    "    genetic_data = apply_gene_mapping(genetic_data, gene_mapping)"
   ]
  },
  {
   "cell_type": "code",
   "execution_count": 22,
   "metadata": {
    "ExecuteTime": {
     "end_time": "2024-01-02T01:03:35.156584675Z",
     "start_time": "2024-01-02T01:03:35.114652593Z"
    },
    "collapsed": false,
    "jupyter": {
     "outputs_hidden": false
    }
   },
   "outputs": [
    {
     "name": "stderr",
     "output_type": "stream",
     "text": [
      "15 input query terms found dup hits:\t[('ABCC13', 2), ('ABCC6P1', 2), ('ABCC6P2', 3), ('ADAM6', 3), ('AGAP11', 2), ('ALOX12P2', 2), ('ANKR\n",
      "71 input query terms found no hit:\t['A2BP1', 'A2LD1', 'AACSL', 'AARS', 'ABP1', 'ACCN1', 'ACCN2', 'ACCN3', 'ACCN4', 'ACCN5', 'ACN9', 'AC\n",
      "6 input query terms found dup hits:\t[('ATP6AP1L', 2), ('ATXN8OS', 2), ('BAGE2', 2), ('BMS1P1', 2), ('BMS1P4', 2), ('BRD7P3', 2)]\n",
      "365 input query terms found no hit:\t['ARNTL2', 'ARPM1', 'ARPP-21', 'ARSE', 'ASAM', 'ASAP1IT1', 'ASFMR1', 'ASNA1', 'ATHL1', 'ATP5A1', 'AT\n",
      "4 input query terms found dup hits:\t[('C2orf83', 2), ('C3P1', 2), ('C5orf60', 2), ('CATSPER2P1', 2)]\n",
      "641 input query terms found no hit:\t['C17orf56', 'C17orf57', 'C17orf59', 'C17orf60', 'C17orf61', 'C17orf62', 'C17orf63', 'C17orf64', 'C1\n",
      "7 input query terms found dup hits:\t[('CCDC144NL', 2), ('CCT6P1', 2), ('CDR1', 2), ('CECR7', 2), ('CHKB-CPT1B', 2), ('CLCA3P', 2), ('CLE\n",
      "101 input query terms found no hit:\t['CBARA1', 'CBWD1', 'CBWD2', 'CBWD3', 'CBWD5', 'CBWD6', 'CCBL1', 'CCBL2', 'CCBP2', 'CCDC101', 'CCDC1\n",
      "9 input query terms found dup hits:\t[('COL6A4P2', 2), ('CXADRP2', 3), ('CXADRP3', 2), ('CYP4Z2P', 2), ('DEFB122', 2), ('DHRS4L1', 3), ('\n",
      "94 input query terms found no hit:\t['COL29A1', 'COL4A3BP', 'COPG', 'COX4NB', 'CP110', 'CPSF3L', 'CRAMP1L', 'CRIPAK', 'CROCCL1', 'CROCCL\n",
      "12 input query terms found dup hits:\t[('DNM1P35', 2), ('DPRXP4', 3), ('DPY19L2P1', 2), ('DPY19L2P2', 3), ('DPY19L2P4', 2), ('ECEL1P2', 2)\n",
      "150 input query terms found no hit:\t['DOM3Z', 'DOPEY1', 'DOPEY2', 'DPCR1', 'DPH3B', 'DSCR3', 'DSCR6', 'DULLARD', 'DUPD1', 'DUS2L', 'DUSP\n",
      "17 input query terms found dup hits:\t[('FAM27B', 2), ('FAM41AY1', 2), ('FAM41AY2', 2), ('FAM66A', 2), ('FAM66B', 3), ('FAM66C', 2), ('FAM\n",
      "197 input query terms found no hit:\t['FAM19A5', 'FAM21A', 'FAM21B', 'FAM21C', 'FAM22A', 'FAM22D', 'FAM22F', 'FAM22G', 'FAM23A', 'FAM25B'\n",
      "13 input query terms found dup hits:\t[('GLRA4', 2), ('GTF2IP1', 2), ('HAR1A', 2), ('HBBP1', 2), ('HBD', 2), ('HCG4', 9), ('HERC2P2', 3), \n",
      "189 input query terms found no hit:\t['GIYD1', 'GIYD2', 'GK3P', 'GLT25D1', 'GLT25D2', 'GLTPD1', 'GLTSCR1', 'GLTSCR2', 'GMCL1L', 'GNASAS',\n",
      "7 input query terms found dup hits:\t[('HSD17B7P2', 2), ('HSP90AB2P', 2), ('HSP90AB4P', 2), ('HSP90B3P', 2), ('HSPA7', 2), ('ID2B', 2), (\n",
      "159 input query terms found no hit:\t['HPVC1', 'HRASLS', 'HRASLS2', 'HRASLS5', 'HRNBP3', 'HRSP12', 'HSFYP1', 'HSN2', 'HSPB11', 'HSPC072',\n",
      "3 input query terms found dup hits:\t[('KIR3DP1', 10), ('KIR3DX1', 5), ('KLKP1', 2)]\n",
      "362 input query terms found no hit:\t['KIAA1908', 'KIAA1919', 'KIAA1949', 'KIAA1967', 'KIAA1984', 'KIAA2018', 'KIAA2022', 'KIAA2026', 'KI\n",
      "7 input query terms found dup hits:\t[('LPAL2', 2), ('LRP5L', 2), ('LY6G6E', 8), ('LYPLA2P1', 6), ('MALAT1', 2), ('MEG8', 2), ('MEIS3P1',\n",
      "302 input query terms found no hit:\t['LOC388692', 'LOC388789', 'LOC388796', 'LOC388946', 'LOC388955', 'LOC388965', 'LOC389033', 'LOC3893\n",
      "18 input query terms found dup hits:\t[('MIR320A', 2), ('MIR320B1', 2), ('MIR320B2', 2), ('MIR320C1', 2), ('MIR320C2', 2), ('MIR320D1', 2)\n",
      "83 input query terms found no hit:\t['MINA', 'MIR103-1', 'MIR103-1AS', 'MIR103-2', 'MIR103-2AS', 'MIR1201', 'MIR1259', 'MIR1260', 'MIR12\n",
      "10 input query terms found dup hits:\t[('MYH16', 2), ('NAPSB', 2), ('NAT8B', 3), ('NBPF22P', 2), ('NCF1B', 2), ('NF1P1', 2), ('NME2P1', 2)\n",
      "111 input query terms found no hit:\t['MTP18', 'MTSS1L', 'MUDENG', 'MUM1', 'MUM1L1', 'MUPCDH', 'MURC', 'MUT', 'MUTED', 'MYCL1', 'MYEOV2',\n",
      "13 input query terms found dup hits:\t[('OR10J3', 3), ('OR5E1P', 4), ('OR6W1P', 3), ('OR7E156P', 2), ('OR7E37P', 2), ('OR7E5P', 2), ('OR7E\n",
      "50 input query terms found no hit:\t['OR2W5', 'OR3A4', 'OR52A4', 'OR5R1', 'OR8G2', 'ORAOV1', 'ORC1L', 'ORC2L', 'ORC3L', 'ORC4L', 'ORC5L'\n",
      "16 input query terms found dup hits:\t[('PI4KAP1', 2), ('PI4KAP2', 2), ('PIPSL', 2), ('PLGLA', 2), ('PMCHL1', 2), ('PMS2CL', 2), ('POLR2J3\n",
      "73 input query terms found no hit:\t['PIN1L', 'PION', 'PKM2', 'PL-5283', 'PLA2G16', 'PLAC1L', 'PLAC2', 'PLDN', 'PLEC1', 'PLEKHA9', 'PLEK\n",
      "33 input query terms found dup hits:\t[('PTTG3P', 2), ('PVT1', 2), ('PYY2', 2), ('RAET1K', 2), ('RBMY1A3P', 3), ('RBMY2EP', 2), ('RBMY2FP'\n",
      "57 input query terms found no hit:\t['PTPN20A', 'PTPN20B', 'PTPRV', 'PTRF', 'PVRL1', 'PVRL2', 'PVRL3', 'PVRL4', 'PXMP3', 'PYCRL', 'ProSA\n",
      "10 input query terms found dup hits:\t[('S100A7L2', 2), ('SAA3P', 2), ('SCARNA17', 2), ('SCARNA4', 2), ('SDC4P', 2), ('SDHAP1', 2), ('SDHA\n",
      "86 input query terms found no hit:\t['RRP7B', 'RTCD1', 'RTDR1', 'RUNDC2A', 'RUNDC2C', 'RWDD4A', 'SAPS1', 'SAPS2', 'SAPS3', 'SARS', 'SBDS\n",
      "85 input query terms found dup hits:\t[('SLC6A10P', 2), ('SLC7A5P1', 2), ('SLC7A5P2', 2), ('SNHG5', 2), ('SNHG6', 2), ('SNHG8', 2), ('SNHG\n",
      "50 input query terms found no hit:\t['SLC9A10', 'SLC9A11', 'SLC9A3R1', 'SLC9A3R2', 'SLMO1', 'SLMO2', 'SMAD5OS', 'SMCR7', 'SMCR7L', 'SMEK\n",
      "14 input query terms found dup hits:\t[('STAG3L1', 2), ('STAG3L2', 2), ('STAG3L3', 2), ('STAG3L4', 2), ('SUGT1P1', 2), ('SUMO1P1', 2), ('S\n",
      "76 input query terms found no hit:\t['ST5', 'ST7OT1', 'ST7OT2', 'ST7OT3', 'ST7OT4', 'STL', 'STRA13', 'SUGT1L1', 'SUNC1', 'SUV420H1', 'SU\n",
      "13 input query terms found dup hits:\t[('TNXA', 5), ('TOP1P1', 2), ('TP53TG1', 2), ('TRIM16L', 2), ('TRPC2', 2), ('TSNAX-DISC1', 2), ('TTT\n",
      "64 input query terms found no hit:\t['TMEM55A', 'TMEM55B', 'TMEM56', 'TMEM57', 'TMEM66', 'TMEM84', 'TMEM85', 'TMEM8A', 'TMEM8C', 'TMEM90\n",
      "6 input query terms found dup hits:\t[('VENTXP7', 2), ('WASH2P', 2), ('WASH3P', 3), ('ZFP91-CNTF', 2), ('ZNF204P', 2), ('ZNF286B', 2)]\n",
      "84 input query terms found no hit:\t['UTS2D', 'VARS', 'VNN3', 'VPRBP', 'VPS24', 'WAPAL', 'WARS', 'WBP5', 'WBSCR16', 'WBSCR17', 'WBSCR22'\n",
      "2 input query terms found dup hits:\t[('ZNF781', 2), ('ZNF876P', 2)]\n",
      "17 input query terms found no hit:\t['ZNF642', 'ZNF643', 'ZNF645', 'ZNF673', 'ZNF720', 'ZNF767', 'ZNF788', 'ZNF815', 'ZNF816A', 'ZNF826'\n"
     ]
    }
   ],
   "source": [
    "if NORMALIZE_GENE:\n",
    "    genetic_data = normalize_gene_symbols_in_index(genetic_data)"
   ]
  },
  {
   "cell_type": "code",
   "execution_count": 23,
   "metadata": {
    "ExecuteTime": {
     "end_time": "2024-01-02T01:03:35.158174021Z",
     "start_time": "2024-01-02T01:03:35.156777134Z"
    },
    "collapsed": false,
    "jupyter": {
     "outputs_hidden": false
    }
   },
   "outputs": [],
   "source": [
    "merged_data = geo_merge_clinical_genetic_data(selected_clinical_data, genetic_data)\n",
    "# The preprocessing runs through, which means is_available should be True\n",
    "is_available = True"
   ]
  },
  {
   "cell_type": "code",
   "execution_count": 24,
   "metadata": {
    "ExecuteTime": {
     "end_time": "2024-01-02T01:03:35.158378853Z",
     "start_time": "2024-01-02T01:03:35.156895194Z"
    },
    "collapsed": false,
    "jupyter": {
     "outputs_hidden": false
    }
   },
   "outputs": [
    {
     "name": "stdout",
     "output_type": "stream",
     "text": [
      "The merged dataset contains 48 samples.\n"
     ]
    },
    {
     "data": {
      "text/html": [
       "<div>\n",
       "<style scoped>\n",
       "    .dataframe tbody tr th:only-of-type {\n",
       "        vertical-align: middle;\n",
       "    }\n",
       "\n",
       "    .dataframe tbody tr th {\n",
       "        vertical-align: top;\n",
       "    }\n",
       "\n",
       "    .dataframe thead th {\n",
       "        text-align: right;\n",
       "    }\n",
       "</style>\n",
       "<table border=\"1\" class=\"dataframe\">\n",
       "  <thead>\n",
       "    <tr style=\"text-align: right;\">\n",
       "      <th></th>\n",
       "      <th>Obstructive sleep apnea</th>\n",
       "      <th>Age</th>\n",
       "      <th>Gender</th>\n",
       "      <th>A1BG</th>\n",
       "      <th>A1CF</th>\n",
       "      <th>A2M</th>\n",
       "      <th>A2ML1</th>\n",
       "      <th>A4GALT</th>\n",
       "      <th>A4GNT</th>\n",
       "      <th>AAA1</th>\n",
       "      <th>...</th>\n",
       "      <th>ZWILCH</th>\n",
       "      <th>ZWINT</th>\n",
       "      <th>ZXDA</th>\n",
       "      <th>ZXDB</th>\n",
       "      <th>ZXDC</th>\n",
       "      <th>ZYG11A</th>\n",
       "      <th>ZYG11B</th>\n",
       "      <th>ZYX</th>\n",
       "      <th>ZZEF1</th>\n",
       "      <th>ZZZ3</th>\n",
       "    </tr>\n",
       "  </thead>\n",
       "  <tbody>\n",
       "    <tr>\n",
       "      <th>GSM5717479</th>\n",
       "      <td>1.0</td>\n",
       "      <td>58.0</td>\n",
       "      <td>1.0</td>\n",
       "      <td>0.564183</td>\n",
       "      <td>0.805036</td>\n",
       "      <td>0.764749</td>\n",
       "      <td>0.802062</td>\n",
       "      <td>0.373054</td>\n",
       "      <td>0.738113</td>\n",
       "      <td>0.776844</td>\n",
       "      <td>...</td>\n",
       "      <td>0.197099</td>\n",
       "      <td>0.118462</td>\n",
       "      <td>0.327011</td>\n",
       "      <td>0.365091</td>\n",
       "      <td>0.320941</td>\n",
       "      <td>0.567943</td>\n",
       "      <td>0.521306</td>\n",
       "      <td>0.359458</td>\n",
       "      <td>0.499577</td>\n",
       "      <td>0.199448</td>\n",
       "    </tr>\n",
       "    <tr>\n",
       "      <th>GSM5717480</th>\n",
       "      <td>1.0</td>\n",
       "      <td>47.0</td>\n",
       "      <td>1.0</td>\n",
       "      <td>0.625571</td>\n",
       "      <td>0.810280</td>\n",
       "      <td>0.780828</td>\n",
       "      <td>0.810802</td>\n",
       "      <td>0.380973</td>\n",
       "      <td>0.715563</td>\n",
       "      <td>0.770553</td>\n",
       "      <td>...</td>\n",
       "      <td>0.186371</td>\n",
       "      <td>0.094386</td>\n",
       "      <td>0.284797</td>\n",
       "      <td>0.391011</td>\n",
       "      <td>0.321053</td>\n",
       "      <td>0.554167</td>\n",
       "      <td>0.526003</td>\n",
       "      <td>0.331681</td>\n",
       "      <td>0.494205</td>\n",
       "      <td>0.176213</td>\n",
       "    </tr>\n",
       "    <tr>\n",
       "      <th>GSM5717481</th>\n",
       "      <td>1.0</td>\n",
       "      <td>33.0</td>\n",
       "      <td>1.0</td>\n",
       "      <td>0.545399</td>\n",
       "      <td>0.814929</td>\n",
       "      <td>0.770501</td>\n",
       "      <td>0.816325</td>\n",
       "      <td>0.384366</td>\n",
       "      <td>0.695083</td>\n",
       "      <td>0.739911</td>\n",
       "      <td>...</td>\n",
       "      <td>0.190216</td>\n",
       "      <td>0.104534</td>\n",
       "      <td>0.311023</td>\n",
       "      <td>0.396903</td>\n",
       "      <td>0.336653</td>\n",
       "      <td>0.568726</td>\n",
       "      <td>0.516668</td>\n",
       "      <td>0.344406</td>\n",
       "      <td>0.499049</td>\n",
       "      <td>0.181043</td>\n",
       "    </tr>\n",
       "    <tr>\n",
       "      <th>GSM5717482</th>\n",
       "      <td>1.0</td>\n",
       "      <td>41.0</td>\n",
       "      <td>1.0</td>\n",
       "      <td>0.606818</td>\n",
       "      <td>0.780134</td>\n",
       "      <td>0.794368</td>\n",
       "      <td>0.784505</td>\n",
       "      <td>0.377553</td>\n",
       "      <td>0.680227</td>\n",
       "      <td>0.751351</td>\n",
       "      <td>...</td>\n",
       "      <td>0.190320</td>\n",
       "      <td>0.106124</td>\n",
       "      <td>0.328337</td>\n",
       "      <td>0.389400</td>\n",
       "      <td>0.325795</td>\n",
       "      <td>0.578876</td>\n",
       "      <td>0.522967</td>\n",
       "      <td>0.362627</td>\n",
       "      <td>0.507475</td>\n",
       "      <td>0.182782</td>\n",
       "    </tr>\n",
       "    <tr>\n",
       "      <th>GSM5717483</th>\n",
       "      <td>1.0</td>\n",
       "      <td>45.0</td>\n",
       "      <td>1.0</td>\n",
       "      <td>0.617074</td>\n",
       "      <td>0.810361</td>\n",
       "      <td>0.777432</td>\n",
       "      <td>0.817517</td>\n",
       "      <td>0.381875</td>\n",
       "      <td>0.714298</td>\n",
       "      <td>0.771476</td>\n",
       "      <td>...</td>\n",
       "      <td>0.188320</td>\n",
       "      <td>0.087550</td>\n",
       "      <td>0.301792</td>\n",
       "      <td>0.379823</td>\n",
       "      <td>0.325478</td>\n",
       "      <td>0.548225</td>\n",
       "      <td>0.525753</td>\n",
       "      <td>0.337893</td>\n",
       "      <td>0.497991</td>\n",
       "      <td>0.169523</td>\n",
       "    </tr>\n",
       "    <tr>\n",
       "      <th>GSM5717484</th>\n",
       "      <td>1.0</td>\n",
       "      <td>47.0</td>\n",
       "      <td>1.0</td>\n",
       "      <td>0.630901</td>\n",
       "      <td>0.799217</td>\n",
       "      <td>0.770812</td>\n",
       "      <td>0.782668</td>\n",
       "      <td>0.377651</td>\n",
       "      <td>0.687498</td>\n",
       "      <td>0.746058</td>\n",
       "      <td>...</td>\n",
       "      <td>0.182088</td>\n",
       "      <td>0.091448</td>\n",
       "      <td>0.298949</td>\n",
       "      <td>0.396714</td>\n",
       "      <td>0.330842</td>\n",
       "      <td>0.561695</td>\n",
       "      <td>0.517238</td>\n",
       "      <td>0.337792</td>\n",
       "      <td>0.492311</td>\n",
       "      <td>0.179240</td>\n",
       "    </tr>\n",
       "    <tr>\n",
       "      <th>GSM5717485</th>\n",
       "      <td>1.0</td>\n",
       "      <td>40.0</td>\n",
       "      <td>1.0</td>\n",
       "      <td>0.573520</td>\n",
       "      <td>0.811120</td>\n",
       "      <td>0.777460</td>\n",
       "      <td>0.777875</td>\n",
       "      <td>0.376042</td>\n",
       "      <td>0.700447</td>\n",
       "      <td>0.773809</td>\n",
       "      <td>...</td>\n",
       "      <td>0.193197</td>\n",
       "      <td>0.098966</td>\n",
       "      <td>0.336880</td>\n",
       "      <td>0.445775</td>\n",
       "      <td>0.329461</td>\n",
       "      <td>0.570147</td>\n",
       "      <td>0.513723</td>\n",
       "      <td>0.365833</td>\n",
       "      <td>0.503252</td>\n",
       "      <td>0.185596</td>\n",
       "    </tr>\n",
       "    <tr>\n",
       "      <th>GSM5717486</th>\n",
       "      <td>1.0</td>\n",
       "      <td>28.0</td>\n",
       "      <td>1.0</td>\n",
       "      <td>0.589640</td>\n",
       "      <td>0.820866</td>\n",
       "      <td>0.792548</td>\n",
       "      <td>0.780909</td>\n",
       "      <td>0.376011</td>\n",
       "      <td>0.742172</td>\n",
       "      <td>0.799819</td>\n",
       "      <td>...</td>\n",
       "      <td>0.196509</td>\n",
       "      <td>0.115313</td>\n",
       "      <td>0.296931</td>\n",
       "      <td>0.396388</td>\n",
       "      <td>0.321002</td>\n",
       "      <td>0.570476</td>\n",
       "      <td>0.511395</td>\n",
       "      <td>0.360828</td>\n",
       "      <td>0.510382</td>\n",
       "      <td>0.194992</td>\n",
       "    </tr>\n",
       "    <tr>\n",
       "      <th>GSM5717487</th>\n",
       "      <td>1.0</td>\n",
       "      <td>46.0</td>\n",
       "      <td>1.0</td>\n",
       "      <td>0.580706</td>\n",
       "      <td>0.834600</td>\n",
       "      <td>0.777558</td>\n",
       "      <td>0.784991</td>\n",
       "      <td>0.382957</td>\n",
       "      <td>0.747320</td>\n",
       "      <td>0.795676</td>\n",
       "      <td>...</td>\n",
       "      <td>0.193843</td>\n",
       "      <td>0.098934</td>\n",
       "      <td>0.284718</td>\n",
       "      <td>0.405338</td>\n",
       "      <td>0.326023</td>\n",
       "      <td>0.563181</td>\n",
       "      <td>0.530072</td>\n",
       "      <td>0.363634</td>\n",
       "      <td>0.503618</td>\n",
       "      <td>0.183152</td>\n",
       "    </tr>\n",
       "    <tr>\n",
       "      <th>GSM5717488</th>\n",
       "      <td>1.0</td>\n",
       "      <td>57.0</td>\n",
       "      <td>1.0</td>\n",
       "      <td>0.567496</td>\n",
       "      <td>0.790446</td>\n",
       "      <td>0.776891</td>\n",
       "      <td>0.769835</td>\n",
       "      <td>0.381954</td>\n",
       "      <td>0.688085</td>\n",
       "      <td>0.762448</td>\n",
       "      <td>...</td>\n",
       "      <td>0.189139</td>\n",
       "      <td>0.089909</td>\n",
       "      <td>0.310228</td>\n",
       "      <td>0.399793</td>\n",
       "      <td>0.322123</td>\n",
       "      <td>0.586155</td>\n",
       "      <td>0.510918</td>\n",
       "      <td>0.323674</td>\n",
       "      <td>0.489876</td>\n",
       "      <td>0.177189</td>\n",
       "    </tr>\n",
       "    <tr>\n",
       "      <th>GSM5717489</th>\n",
       "      <td>1.0</td>\n",
       "      <td>56.0</td>\n",
       "      <td>1.0</td>\n",
       "      <td>0.586937</td>\n",
       "      <td>0.791359</td>\n",
       "      <td>0.772625</td>\n",
       "      <td>0.814531</td>\n",
       "      <td>0.376997</td>\n",
       "      <td>0.702190</td>\n",
       "      <td>0.737814</td>\n",
       "      <td>...</td>\n",
       "      <td>0.186065</td>\n",
       "      <td>0.093196</td>\n",
       "      <td>0.284658</td>\n",
       "      <td>0.373294</td>\n",
       "      <td>0.312127</td>\n",
       "      <td>0.563865</td>\n",
       "      <td>0.514826</td>\n",
       "      <td>0.337018</td>\n",
       "      <td>0.502358</td>\n",
       "      <td>0.170644</td>\n",
       "    </tr>\n",
       "    <tr>\n",
       "      <th>GSM5717490</th>\n",
       "      <td>1.0</td>\n",
       "      <td>39.0</td>\n",
       "      <td>1.0</td>\n",
       "      <td>0.593422</td>\n",
       "      <td>0.792866</td>\n",
       "      <td>0.758475</td>\n",
       "      <td>0.802234</td>\n",
       "      <td>0.371013</td>\n",
       "      <td>0.709907</td>\n",
       "      <td>0.777220</td>\n",
       "      <td>...</td>\n",
       "      <td>0.196873</td>\n",
       "      <td>0.106604</td>\n",
       "      <td>0.271662</td>\n",
       "      <td>0.376627</td>\n",
       "      <td>0.329227</td>\n",
       "      <td>0.553732</td>\n",
       "      <td>0.514812</td>\n",
       "      <td>0.350399</td>\n",
       "      <td>0.491824</td>\n",
       "      <td>0.186769</td>\n",
       "    </tr>\n",
       "    <tr>\n",
       "      <th>GSM5717491</th>\n",
       "      <td>1.0</td>\n",
       "      <td>42.0</td>\n",
       "      <td>1.0</td>\n",
       "      <td>0.619854</td>\n",
       "      <td>0.800757</td>\n",
       "      <td>0.778662</td>\n",
       "      <td>0.815568</td>\n",
       "      <td>0.375937</td>\n",
       "      <td>0.723518</td>\n",
       "      <td>0.768307</td>\n",
       "      <td>...</td>\n",
       "      <td>0.196325</td>\n",
       "      <td>0.083386</td>\n",
       "      <td>0.313352</td>\n",
       "      <td>0.398746</td>\n",
       "      <td>0.317290</td>\n",
       "      <td>0.550104</td>\n",
       "      <td>0.537915</td>\n",
       "      <td>0.348972</td>\n",
       "      <td>0.488102</td>\n",
       "      <td>0.182954</td>\n",
       "    </tr>\n",
       "    <tr>\n",
       "      <th>GSM5717492</th>\n",
       "      <td>1.0</td>\n",
       "      <td>50.0</td>\n",
       "      <td>1.0</td>\n",
       "      <td>0.587143</td>\n",
       "      <td>0.804100</td>\n",
       "      <td>0.764251</td>\n",
       "      <td>0.790453</td>\n",
       "      <td>0.366714</td>\n",
       "      <td>0.705658</td>\n",
       "      <td>0.767898</td>\n",
       "      <td>...</td>\n",
       "      <td>0.192288</td>\n",
       "      <td>0.098724</td>\n",
       "      <td>0.294536</td>\n",
       "      <td>0.386041</td>\n",
       "      <td>0.317712</td>\n",
       "      <td>0.530311</td>\n",
       "      <td>0.527938</td>\n",
       "      <td>0.342751</td>\n",
       "      <td>0.483316</td>\n",
       "      <td>0.178072</td>\n",
       "    </tr>\n",
       "    <tr>\n",
       "      <th>GSM5717493</th>\n",
       "      <td>1.0</td>\n",
       "      <td>28.0</td>\n",
       "      <td>1.0</td>\n",
       "      <td>0.561181</td>\n",
       "      <td>0.825391</td>\n",
       "      <td>0.784455</td>\n",
       "      <td>0.819623</td>\n",
       "      <td>0.375563</td>\n",
       "      <td>0.715225</td>\n",
       "      <td>0.774593</td>\n",
       "      <td>...</td>\n",
       "      <td>0.194551</td>\n",
       "      <td>0.094776</td>\n",
       "      <td>0.340657</td>\n",
       "      <td>0.422512</td>\n",
       "      <td>0.321209</td>\n",
       "      <td>0.560045</td>\n",
       "      <td>0.528216</td>\n",
       "      <td>0.339383</td>\n",
       "      <td>0.496633</td>\n",
       "      <td>0.178445</td>\n",
       "    </tr>\n",
       "    <tr>\n",
       "      <th>GSM5717494</th>\n",
       "      <td>1.0</td>\n",
       "      <td>51.0</td>\n",
       "      <td>1.0</td>\n",
       "      <td>0.603989</td>\n",
       "      <td>0.821677</td>\n",
       "      <td>0.781355</td>\n",
       "      <td>0.783199</td>\n",
       "      <td>0.374463</td>\n",
       "      <td>0.704115</td>\n",
       "      <td>0.754660</td>\n",
       "      <td>...</td>\n",
       "      <td>0.190503</td>\n",
       "      <td>0.090376</td>\n",
       "      <td>0.308984</td>\n",
       "      <td>0.403912</td>\n",
       "      <td>0.320884</td>\n",
       "      <td>0.554727</td>\n",
       "      <td>0.524900</td>\n",
       "      <td>0.337568</td>\n",
       "      <td>0.500616</td>\n",
       "      <td>0.174455</td>\n",
       "    </tr>\n",
       "    <tr>\n",
       "      <th>GSM5717495</th>\n",
       "      <td>1.0</td>\n",
       "      <td>58.0</td>\n",
       "      <td>1.0</td>\n",
       "      <td>0.558495</td>\n",
       "      <td>0.824620</td>\n",
       "      <td>0.766352</td>\n",
       "      <td>0.804746</td>\n",
       "      <td>0.360555</td>\n",
       "      <td>0.718372</td>\n",
       "      <td>0.796443</td>\n",
       "      <td>...</td>\n",
       "      <td>0.185367</td>\n",
       "      <td>0.061396</td>\n",
       "      <td>0.269994</td>\n",
       "      <td>0.343382</td>\n",
       "      <td>0.289225</td>\n",
       "      <td>0.525407</td>\n",
       "      <td>0.505165</td>\n",
       "      <td>0.327056</td>\n",
       "      <td>0.469401</td>\n",
       "      <td>0.153374</td>\n",
       "    </tr>\n",
       "    <tr>\n",
       "      <th>GSM5717496</th>\n",
       "      <td>1.0</td>\n",
       "      <td>47.0</td>\n",
       "      <td>1.0</td>\n",
       "      <td>0.623696</td>\n",
       "      <td>0.803021</td>\n",
       "      <td>0.772683</td>\n",
       "      <td>0.800920</td>\n",
       "      <td>0.368900</td>\n",
       "      <td>0.729357</td>\n",
       "      <td>0.781421</td>\n",
       "      <td>...</td>\n",
       "      <td>0.178633</td>\n",
       "      <td>0.061849</td>\n",
       "      <td>0.239166</td>\n",
       "      <td>0.370314</td>\n",
       "      <td>0.296691</td>\n",
       "      <td>0.512792</td>\n",
       "      <td>0.505543</td>\n",
       "      <td>0.313716</td>\n",
       "      <td>0.474146</td>\n",
       "      <td>0.160514</td>\n",
       "    </tr>\n",
       "    <tr>\n",
       "      <th>GSM5717497</th>\n",
       "      <td>1.0</td>\n",
       "      <td>33.0</td>\n",
       "      <td>1.0</td>\n",
       "      <td>0.552753</td>\n",
       "      <td>0.821206</td>\n",
       "      <td>0.773649</td>\n",
       "      <td>0.812397</td>\n",
       "      <td>0.370082</td>\n",
       "      <td>0.715403</td>\n",
       "      <td>0.769821</td>\n",
       "      <td>...</td>\n",
       "      <td>0.187159</td>\n",
       "      <td>0.064353</td>\n",
       "      <td>0.291070</td>\n",
       "      <td>0.373237</td>\n",
       "      <td>0.313912</td>\n",
       "      <td>0.526733</td>\n",
       "      <td>0.512422</td>\n",
       "      <td>0.325926</td>\n",
       "      <td>0.486841</td>\n",
       "      <td>0.157600</td>\n",
       "    </tr>\n",
       "    <tr>\n",
       "      <th>GSM5717498</th>\n",
       "      <td>1.0</td>\n",
       "      <td>41.0</td>\n",
       "      <td>1.0</td>\n",
       "      <td>0.601809</td>\n",
       "      <td>0.805693</td>\n",
       "      <td>0.779303</td>\n",
       "      <td>0.781035</td>\n",
       "      <td>0.354751</td>\n",
       "      <td>0.665028</td>\n",
       "      <td>0.748721</td>\n",
       "      <td>...</td>\n",
       "      <td>0.189993</td>\n",
       "      <td>0.055832</td>\n",
       "      <td>0.281542</td>\n",
       "      <td>0.398475</td>\n",
       "      <td>0.300341</td>\n",
       "      <td>0.537290</td>\n",
       "      <td>0.519108</td>\n",
       "      <td>0.333830</td>\n",
       "      <td>0.482196</td>\n",
       "      <td>0.157031</td>\n",
       "    </tr>\n",
       "    <tr>\n",
       "      <th>GSM5717499</th>\n",
       "      <td>1.0</td>\n",
       "      <td>46.0</td>\n",
       "      <td>1.0</td>\n",
       "      <td>0.344938</td>\n",
       "      <td>0.297216</td>\n",
       "      <td>0.589081</td>\n",
       "      <td>0.688542</td>\n",
       "      <td>0.346783</td>\n",
       "      <td>0.746705</td>\n",
       "      <td>0.659121</td>\n",
       "      <td>...</td>\n",
       "      <td>0.184841</td>\n",
       "      <td>0.057864</td>\n",
       "      <td>0.249718</td>\n",
       "      <td>0.402610</td>\n",
       "      <td>0.285809</td>\n",
       "      <td>0.468945</td>\n",
       "      <td>0.505111</td>\n",
       "      <td>0.371956</td>\n",
       "      <td>0.483446</td>\n",
       "      <td>0.158472</td>\n",
       "    </tr>\n",
       "    <tr>\n",
       "      <th>GSM5717500</th>\n",
       "      <td>1.0</td>\n",
       "      <td>47.0</td>\n",
       "      <td>1.0</td>\n",
       "      <td>0.637474</td>\n",
       "      <td>0.815721</td>\n",
       "      <td>0.782098</td>\n",
       "      <td>0.800592</td>\n",
       "      <td>0.374478</td>\n",
       "      <td>0.710775</td>\n",
       "      <td>0.768689</td>\n",
       "      <td>...</td>\n",
       "      <td>0.184407</td>\n",
       "      <td>0.059164</td>\n",
       "      <td>0.251784</td>\n",
       "      <td>0.369151</td>\n",
       "      <td>0.315934</td>\n",
       "      <td>0.535229</td>\n",
       "      <td>0.509099</td>\n",
       "      <td>0.327049</td>\n",
       "      <td>0.483477</td>\n",
       "      <td>0.155174</td>\n",
       "    </tr>\n",
       "    <tr>\n",
       "      <th>GSM5717501</th>\n",
       "      <td>1.0</td>\n",
       "      <td>40.0</td>\n",
       "      <td>1.0</td>\n",
       "      <td>0.602643</td>\n",
       "      <td>0.798784</td>\n",
       "      <td>0.790350</td>\n",
       "      <td>0.782192</td>\n",
       "      <td>0.351617</td>\n",
       "      <td>0.714385</td>\n",
       "      <td>0.783023</td>\n",
       "      <td>...</td>\n",
       "      <td>0.184154</td>\n",
       "      <td>0.048364</td>\n",
       "      <td>0.305293</td>\n",
       "      <td>0.438035</td>\n",
       "      <td>0.313585</td>\n",
       "      <td>0.551259</td>\n",
       "      <td>0.500523</td>\n",
       "      <td>0.342591</td>\n",
       "      <td>0.485047</td>\n",
       "      <td>0.157592</td>\n",
       "    </tr>\n",
       "    <tr>\n",
       "      <th>GSM5717502</th>\n",
       "      <td>1.0</td>\n",
       "      <td>28.0</td>\n",
       "      <td>1.0</td>\n",
       "      <td>0.591811</td>\n",
       "      <td>0.826934</td>\n",
       "      <td>0.779140</td>\n",
       "      <td>0.766261</td>\n",
       "      <td>0.364698</td>\n",
       "      <td>0.733952</td>\n",
       "      <td>0.787520</td>\n",
       "      <td>...</td>\n",
       "      <td>0.186330</td>\n",
       "      <td>0.058273</td>\n",
       "      <td>0.246313</td>\n",
       "      <td>0.369658</td>\n",
       "      <td>0.291931</td>\n",
       "      <td>0.524518</td>\n",
       "      <td>0.491942</td>\n",
       "      <td>0.332954</td>\n",
       "      <td>0.481719</td>\n",
       "      <td>0.157507</td>\n",
       "    </tr>\n",
       "    <tr>\n",
       "      <th>GSM5717503</th>\n",
       "      <td>1.0</td>\n",
       "      <td>46.0</td>\n",
       "      <td>1.0</td>\n",
       "      <td>0.597453</td>\n",
       "      <td>0.845493</td>\n",
       "      <td>0.781302</td>\n",
       "      <td>0.785474</td>\n",
       "      <td>0.366329</td>\n",
       "      <td>0.724855</td>\n",
       "      <td>0.788474</td>\n",
       "      <td>...</td>\n",
       "      <td>0.185665</td>\n",
       "      <td>0.061086</td>\n",
       "      <td>0.255512</td>\n",
       "      <td>0.396905</td>\n",
       "      <td>0.303880</td>\n",
       "      <td>0.534790</td>\n",
       "      <td>0.509493</td>\n",
       "      <td>0.354691</td>\n",
       "      <td>0.490633</td>\n",
       "      <td>0.164671</td>\n",
       "    </tr>\n",
       "    <tr>\n",
       "      <th>GSM5717504</th>\n",
       "      <td>1.0</td>\n",
       "      <td>57.0</td>\n",
       "      <td>1.0</td>\n",
       "      <td>0.577859</td>\n",
       "      <td>0.799704</td>\n",
       "      <td>0.783653</td>\n",
       "      <td>0.772708</td>\n",
       "      <td>0.365634</td>\n",
       "      <td>0.681742</td>\n",
       "      <td>0.771977</td>\n",
       "      <td>...</td>\n",
       "      <td>0.188217</td>\n",
       "      <td>0.061359</td>\n",
       "      <td>0.277204</td>\n",
       "      <td>0.412118</td>\n",
       "      <td>0.317309</td>\n",
       "      <td>0.563381</td>\n",
       "      <td>0.513625</td>\n",
       "      <td>0.319920</td>\n",
       "      <td>0.477657</td>\n",
       "      <td>0.159133</td>\n",
       "    </tr>\n",
       "    <tr>\n",
       "      <th>GSM5717505</th>\n",
       "      <td>1.0</td>\n",
       "      <td>56.0</td>\n",
       "      <td>1.0</td>\n",
       "      <td>0.596357</td>\n",
       "      <td>0.804946</td>\n",
       "      <td>0.770351</td>\n",
       "      <td>0.812562</td>\n",
       "      <td>0.371818</td>\n",
       "      <td>0.696572</td>\n",
       "      <td>0.736192</td>\n",
       "      <td>...</td>\n",
       "      <td>0.182519</td>\n",
       "      <td>0.061810</td>\n",
       "      <td>0.250825</td>\n",
       "      <td>0.349148</td>\n",
       "      <td>0.299194</td>\n",
       "      <td>0.513238</td>\n",
       "      <td>0.503745</td>\n",
       "      <td>0.324444</td>\n",
       "      <td>0.480208</td>\n",
       "      <td>0.157882</td>\n",
       "    </tr>\n",
       "    <tr>\n",
       "      <th>GSM5717506</th>\n",
       "      <td>1.0</td>\n",
       "      <td>39.0</td>\n",
       "      <td>1.0</td>\n",
       "      <td>0.611764</td>\n",
       "      <td>0.818713</td>\n",
       "      <td>0.767208</td>\n",
       "      <td>0.821877</td>\n",
       "      <td>0.361023</td>\n",
       "      <td>0.710962</td>\n",
       "      <td>0.770451</td>\n",
       "      <td>...</td>\n",
       "      <td>0.179514</td>\n",
       "      <td>0.058076</td>\n",
       "      <td>0.248486</td>\n",
       "      <td>0.384495</td>\n",
       "      <td>0.308551</td>\n",
       "      <td>0.524460</td>\n",
       "      <td>0.502571</td>\n",
       "      <td>0.345042</td>\n",
       "      <td>0.474547</td>\n",
       "      <td>0.155706</td>\n",
       "    </tr>\n",
       "    <tr>\n",
       "      <th>GSM5717507</th>\n",
       "      <td>1.0</td>\n",
       "      <td>42.0</td>\n",
       "      <td>1.0</td>\n",
       "      <td>0.626561</td>\n",
       "      <td>0.805574</td>\n",
       "      <td>0.765233</td>\n",
       "      <td>0.827721</td>\n",
       "      <td>0.362236</td>\n",
       "      <td>0.751760</td>\n",
       "      <td>0.786902</td>\n",
       "      <td>...</td>\n",
       "      <td>0.194955</td>\n",
       "      <td>0.053651</td>\n",
       "      <td>0.282367</td>\n",
       "      <td>0.389665</td>\n",
       "      <td>0.286208</td>\n",
       "      <td>0.510765</td>\n",
       "      <td>0.520542</td>\n",
       "      <td>0.318043</td>\n",
       "      <td>0.469579</td>\n",
       "      <td>0.161578</td>\n",
       "    </tr>\n",
       "    <tr>\n",
       "      <th>GSM5717508</th>\n",
       "      <td>1.0</td>\n",
       "      <td>51.0</td>\n",
       "      <td>1.0</td>\n",
       "      <td>0.340313</td>\n",
       "      <td>0.286614</td>\n",
       "      <td>0.563957</td>\n",
       "      <td>0.704835</td>\n",
       "      <td>0.342314</td>\n",
       "      <td>0.740527</td>\n",
       "      <td>0.665286</td>\n",
       "      <td>...</td>\n",
       "      <td>0.167343</td>\n",
       "      <td>0.046818</td>\n",
       "      <td>0.227172</td>\n",
       "      <td>0.401407</td>\n",
       "      <td>0.267433</td>\n",
       "      <td>0.484145</td>\n",
       "      <td>0.493800</td>\n",
       "      <td>0.376675</td>\n",
       "      <td>0.482674</td>\n",
       "      <td>0.152000</td>\n",
       "    </tr>\n",
       "    <tr>\n",
       "      <th>GSM5717509</th>\n",
       "      <td>1.0</td>\n",
       "      <td>28.0</td>\n",
       "      <td>1.0</td>\n",
       "      <td>0.551187</td>\n",
       "      <td>0.791867</td>\n",
       "      <td>0.765927</td>\n",
       "      <td>0.818847</td>\n",
       "      <td>0.362399</td>\n",
       "      <td>0.719500</td>\n",
       "      <td>0.764076</td>\n",
       "      <td>...</td>\n",
       "      <td>0.182983</td>\n",
       "      <td>0.058629</td>\n",
       "      <td>0.291448</td>\n",
       "      <td>0.400472</td>\n",
       "      <td>0.292944</td>\n",
       "      <td>0.514704</td>\n",
       "      <td>0.504255</td>\n",
       "      <td>0.311464</td>\n",
       "      <td>0.469800</td>\n",
       "      <td>0.153073</td>\n",
       "    </tr>\n",
       "    <tr>\n",
       "      <th>GSM5717510</th>\n",
       "      <td>1.0</td>\n",
       "      <td>51.0</td>\n",
       "      <td>1.0</td>\n",
       "      <td>0.600024</td>\n",
       "      <td>0.777600</td>\n",
       "      <td>0.763915</td>\n",
       "      <td>0.783403</td>\n",
       "      <td>0.365334</td>\n",
       "      <td>0.678113</td>\n",
       "      <td>0.733709</td>\n",
       "      <td>...</td>\n",
       "      <td>0.195074</td>\n",
       "      <td>0.058019</td>\n",
       "      <td>0.266907</td>\n",
       "      <td>0.377037</td>\n",
       "      <td>0.299485</td>\n",
       "      <td>0.515685</td>\n",
       "      <td>0.508415</td>\n",
       "      <td>0.320244</td>\n",
       "      <td>0.480073</td>\n",
       "      <td>0.153148</td>\n",
       "    </tr>\n",
       "    <tr>\n",
       "      <th>GSM5717511</th>\n",
       "      <td>0.0</td>\n",
       "      <td>40.0</td>\n",
       "      <td>1.0</td>\n",
       "      <td>0.493862</td>\n",
       "      <td>0.833234</td>\n",
       "      <td>0.785080</td>\n",
       "      <td>0.782637</td>\n",
       "      <td>0.383539</td>\n",
       "      <td>0.729618</td>\n",
       "      <td>0.778413</td>\n",
       "      <td>...</td>\n",
       "      <td>0.193540</td>\n",
       "      <td>0.107392</td>\n",
       "      <td>0.356534</td>\n",
       "      <td>0.405078</td>\n",
       "      <td>0.324106</td>\n",
       "      <td>0.546117</td>\n",
       "      <td>0.529418</td>\n",
       "      <td>0.358489</td>\n",
       "      <td>0.495946</td>\n",
       "      <td>0.189357</td>\n",
       "    </tr>\n",
       "    <tr>\n",
       "      <th>GSM5717512</th>\n",
       "      <td>0.0</td>\n",
       "      <td>35.0</td>\n",
       "      <td>1.0</td>\n",
       "      <td>0.610577</td>\n",
       "      <td>0.825277</td>\n",
       "      <td>0.768676</td>\n",
       "      <td>0.782146</td>\n",
       "      <td>0.377378</td>\n",
       "      <td>0.684585</td>\n",
       "      <td>0.759352</td>\n",
       "      <td>...</td>\n",
       "      <td>0.189680</td>\n",
       "      <td>0.092118</td>\n",
       "      <td>0.300208</td>\n",
       "      <td>0.395112</td>\n",
       "      <td>0.319765</td>\n",
       "      <td>0.551613</td>\n",
       "      <td>0.508900</td>\n",
       "      <td>0.337743</td>\n",
       "      <td>0.491686</td>\n",
       "      <td>0.173615</td>\n",
       "    </tr>\n",
       "    <tr>\n",
       "      <th>GSM5717513</th>\n",
       "      <td>0.0</td>\n",
       "      <td>43.0</td>\n",
       "      <td>1.0</td>\n",
       "      <td>0.618624</td>\n",
       "      <td>0.802749</td>\n",
       "      <td>0.787854</td>\n",
       "      <td>0.835367</td>\n",
       "      <td>0.389184</td>\n",
       "      <td>0.738072</td>\n",
       "      <td>0.776653</td>\n",
       "      <td>...</td>\n",
       "      <td>0.201222</td>\n",
       "      <td>0.101115</td>\n",
       "      <td>0.343974</td>\n",
       "      <td>0.429161</td>\n",
       "      <td>0.344522</td>\n",
       "      <td>0.584366</td>\n",
       "      <td>0.525973</td>\n",
       "      <td>0.367214</td>\n",
       "      <td>0.507436</td>\n",
       "      <td>0.188425</td>\n",
       "    </tr>\n",
       "    <tr>\n",
       "      <th>GSM5717514</th>\n",
       "      <td>0.0</td>\n",
       "      <td>36.0</td>\n",
       "      <td>1.0</td>\n",
       "      <td>0.640312</td>\n",
       "      <td>0.811596</td>\n",
       "      <td>0.774816</td>\n",
       "      <td>0.820295</td>\n",
       "      <td>0.375638</td>\n",
       "      <td>0.732433</td>\n",
       "      <td>0.767778</td>\n",
       "      <td>...</td>\n",
       "      <td>0.196389</td>\n",
       "      <td>0.094037</td>\n",
       "      <td>0.309962</td>\n",
       "      <td>0.360693</td>\n",
       "      <td>0.310615</td>\n",
       "      <td>0.564505</td>\n",
       "      <td>0.491192</td>\n",
       "      <td>0.328757</td>\n",
       "      <td>0.496830</td>\n",
       "      <td>0.172673</td>\n",
       "    </tr>\n",
       "    <tr>\n",
       "      <th>GSM5717515</th>\n",
       "      <td>0.0</td>\n",
       "      <td>53.0</td>\n",
       "      <td>1.0</td>\n",
       "      <td>0.606646</td>\n",
       "      <td>0.799254</td>\n",
       "      <td>0.783382</td>\n",
       "      <td>0.785053</td>\n",
       "      <td>0.380656</td>\n",
       "      <td>0.702438</td>\n",
       "      <td>0.746977</td>\n",
       "      <td>...</td>\n",
       "      <td>0.193013</td>\n",
       "      <td>0.097927</td>\n",
       "      <td>0.315758</td>\n",
       "      <td>0.411646</td>\n",
       "      <td>0.323490</td>\n",
       "      <td>0.574011</td>\n",
       "      <td>0.520109</td>\n",
       "      <td>0.341564</td>\n",
       "      <td>0.501790</td>\n",
       "      <td>0.180242</td>\n",
       "    </tr>\n",
       "    <tr>\n",
       "      <th>GSM5717516</th>\n",
       "      <td>0.0</td>\n",
       "      <td>32.0</td>\n",
       "      <td>1.0</td>\n",
       "      <td>0.534631</td>\n",
       "      <td>0.817171</td>\n",
       "      <td>0.777045</td>\n",
       "      <td>0.786672</td>\n",
       "      <td>0.382490</td>\n",
       "      <td>0.734145</td>\n",
       "      <td>0.772834</td>\n",
       "      <td>...</td>\n",
       "      <td>0.196862</td>\n",
       "      <td>0.110619</td>\n",
       "      <td>0.322861</td>\n",
       "      <td>0.402680</td>\n",
       "      <td>0.316089</td>\n",
       "      <td>0.558028</td>\n",
       "      <td>0.519302</td>\n",
       "      <td>0.347979</td>\n",
       "      <td>0.491977</td>\n",
       "      <td>0.186444</td>\n",
       "    </tr>\n",
       "    <tr>\n",
       "      <th>GSM5717517</th>\n",
       "      <td>0.0</td>\n",
       "      <td>36.0</td>\n",
       "      <td>0.0</td>\n",
       "      <td>0.614911</td>\n",
       "      <td>0.839659</td>\n",
       "      <td>0.787518</td>\n",
       "      <td>0.814003</td>\n",
       "      <td>0.380286</td>\n",
       "      <td>0.760107</td>\n",
       "      <td>0.792157</td>\n",
       "      <td>...</td>\n",
       "      <td>0.197494</td>\n",
       "      <td>0.110870</td>\n",
       "      <td>0.457752</td>\n",
       "      <td>0.555201</td>\n",
       "      <td>0.326639</td>\n",
       "      <td>0.562711</td>\n",
       "      <td>0.526101</td>\n",
       "      <td>0.361055</td>\n",
       "      <td>0.501944</td>\n",
       "      <td>0.188752</td>\n",
       "    </tr>\n",
       "    <tr>\n",
       "      <th>GSM5717518</th>\n",
       "      <td>0.0</td>\n",
       "      <td>40.0</td>\n",
       "      <td>1.0</td>\n",
       "      <td>0.534985</td>\n",
       "      <td>0.817119</td>\n",
       "      <td>0.769665</td>\n",
       "      <td>0.823105</td>\n",
       "      <td>0.386051</td>\n",
       "      <td>0.734058</td>\n",
       "      <td>0.759961</td>\n",
       "      <td>...</td>\n",
       "      <td>0.193384</td>\n",
       "      <td>0.091914</td>\n",
       "      <td>0.322755</td>\n",
       "      <td>0.407612</td>\n",
       "      <td>0.322649</td>\n",
       "      <td>0.577550</td>\n",
       "      <td>0.516878</td>\n",
       "      <td>0.355220</td>\n",
       "      <td>0.498098</td>\n",
       "      <td>0.181058</td>\n",
       "    </tr>\n",
       "    <tr>\n",
       "      <th>GSM5717519</th>\n",
       "      <td>0.0</td>\n",
       "      <td>40.0</td>\n",
       "      <td>1.0</td>\n",
       "      <td>0.508529</td>\n",
       "      <td>0.833620</td>\n",
       "      <td>0.788845</td>\n",
       "      <td>0.787866</td>\n",
       "      <td>0.368785</td>\n",
       "      <td>0.737325</td>\n",
       "      <td>0.790010</td>\n",
       "      <td>...</td>\n",
       "      <td>0.198263</td>\n",
       "      <td>0.061079</td>\n",
       "      <td>0.312418</td>\n",
       "      <td>0.395603</td>\n",
       "      <td>0.302323</td>\n",
       "      <td>0.509789</td>\n",
       "      <td>0.508698</td>\n",
       "      <td>0.342034</td>\n",
       "      <td>0.476842</td>\n",
       "      <td>0.164347</td>\n",
       "    </tr>\n",
       "    <tr>\n",
       "      <th>GSM5717520</th>\n",
       "      <td>0.0</td>\n",
       "      <td>35.0</td>\n",
       "      <td>1.0</td>\n",
       "      <td>0.603849</td>\n",
       "      <td>0.796724</td>\n",
       "      <td>0.773258</td>\n",
       "      <td>0.789995</td>\n",
       "      <td>0.362838</td>\n",
       "      <td>0.691047</td>\n",
       "      <td>0.752550</td>\n",
       "      <td>...</td>\n",
       "      <td>0.180529</td>\n",
       "      <td>0.057430</td>\n",
       "      <td>0.289041</td>\n",
       "      <td>0.395246</td>\n",
       "      <td>0.311149</td>\n",
       "      <td>0.533787</td>\n",
       "      <td>0.496777</td>\n",
       "      <td>0.326267</td>\n",
       "      <td>0.480736</td>\n",
       "      <td>0.154462</td>\n",
       "    </tr>\n",
       "    <tr>\n",
       "      <th>GSM5717521</th>\n",
       "      <td>0.0</td>\n",
       "      <td>43.0</td>\n",
       "      <td>1.0</td>\n",
       "      <td>0.620235</td>\n",
       "      <td>0.835996</td>\n",
       "      <td>0.789506</td>\n",
       "      <td>0.842259</td>\n",
       "      <td>0.376358</td>\n",
       "      <td>0.738918</td>\n",
       "      <td>0.781587</td>\n",
       "      <td>...</td>\n",
       "      <td>0.190168</td>\n",
       "      <td>0.062608</td>\n",
       "      <td>0.316375</td>\n",
       "      <td>0.414736</td>\n",
       "      <td>0.330774</td>\n",
       "      <td>0.555496</td>\n",
       "      <td>0.518412</td>\n",
       "      <td>0.341892</td>\n",
       "      <td>0.489202</td>\n",
       "      <td>0.163522</td>\n",
       "    </tr>\n",
       "    <tr>\n",
       "      <th>GSM5717522</th>\n",
       "      <td>0.0</td>\n",
       "      <td>36.0</td>\n",
       "      <td>1.0</td>\n",
       "      <td>0.625549</td>\n",
       "      <td>0.805670</td>\n",
       "      <td>0.757127</td>\n",
       "      <td>0.829114</td>\n",
       "      <td>0.365419</td>\n",
       "      <td>0.726703</td>\n",
       "      <td>0.788433</td>\n",
       "      <td>...</td>\n",
       "      <td>0.189784</td>\n",
       "      <td>0.059631</td>\n",
       "      <td>0.278207</td>\n",
       "      <td>0.376676</td>\n",
       "      <td>0.295342</td>\n",
       "      <td>0.523477</td>\n",
       "      <td>0.495492</td>\n",
       "      <td>0.324461</td>\n",
       "      <td>0.481194</td>\n",
       "      <td>0.154011</td>\n",
       "    </tr>\n",
       "    <tr>\n",
       "      <th>GSM5717523</th>\n",
       "      <td>0.0</td>\n",
       "      <td>53.0</td>\n",
       "      <td>1.0</td>\n",
       "      <td>0.624593</td>\n",
       "      <td>0.804444</td>\n",
       "      <td>0.778746</td>\n",
       "      <td>0.790044</td>\n",
       "      <td>0.372136</td>\n",
       "      <td>0.687352</td>\n",
       "      <td>0.763403</td>\n",
       "      <td>...</td>\n",
       "      <td>0.173440</td>\n",
       "      <td>0.056331</td>\n",
       "      <td>0.281381</td>\n",
       "      <td>0.412663</td>\n",
       "      <td>0.309491</td>\n",
       "      <td>0.537353</td>\n",
       "      <td>0.500904</td>\n",
       "      <td>0.326923</td>\n",
       "      <td>0.482288</td>\n",
       "      <td>0.152107</td>\n",
       "    </tr>\n",
       "    <tr>\n",
       "      <th>GSM5717524</th>\n",
       "      <td>0.0</td>\n",
       "      <td>32.0</td>\n",
       "      <td>1.0</td>\n",
       "      <td>0.565750</td>\n",
       "      <td>0.833406</td>\n",
       "      <td>0.777947</td>\n",
       "      <td>0.778823</td>\n",
       "      <td>0.367624</td>\n",
       "      <td>0.726255</td>\n",
       "      <td>0.779839</td>\n",
       "      <td>...</td>\n",
       "      <td>0.181563</td>\n",
       "      <td>0.055616</td>\n",
       "      <td>0.268475</td>\n",
       "      <td>0.374782</td>\n",
       "      <td>0.302759</td>\n",
       "      <td>0.526562</td>\n",
       "      <td>0.504435</td>\n",
       "      <td>0.330736</td>\n",
       "      <td>0.466282</td>\n",
       "      <td>0.154894</td>\n",
       "    </tr>\n",
       "    <tr>\n",
       "      <th>GSM5717525</th>\n",
       "      <td>0.0</td>\n",
       "      <td>36.0</td>\n",
       "      <td>0.0</td>\n",
       "      <td>0.625657</td>\n",
       "      <td>0.821584</td>\n",
       "      <td>0.781861</td>\n",
       "      <td>0.817988</td>\n",
       "      <td>0.367805</td>\n",
       "      <td>0.744282</td>\n",
       "      <td>0.791900</td>\n",
       "      <td>...</td>\n",
       "      <td>0.191030</td>\n",
       "      <td>0.058266</td>\n",
       "      <td>0.439680</td>\n",
       "      <td>0.547951</td>\n",
       "      <td>0.312715</td>\n",
       "      <td>0.537497</td>\n",
       "      <td>0.515134</td>\n",
       "      <td>0.352106</td>\n",
       "      <td>0.483792</td>\n",
       "      <td>0.153957</td>\n",
       "    </tr>\n",
       "    <tr>\n",
       "      <th>GSM5717526</th>\n",
       "      <td>0.0</td>\n",
       "      <td>40.0</td>\n",
       "      <td>1.0</td>\n",
       "      <td>0.531153</td>\n",
       "      <td>0.814519</td>\n",
       "      <td>0.770663</td>\n",
       "      <td>0.815797</td>\n",
       "      <td>0.367669</td>\n",
       "      <td>0.703385</td>\n",
       "      <td>0.750132</td>\n",
       "      <td>...</td>\n",
       "      <td>0.186145</td>\n",
       "      <td>0.058862</td>\n",
       "      <td>0.265784</td>\n",
       "      <td>0.375252</td>\n",
       "      <td>0.299691</td>\n",
       "      <td>0.533635</td>\n",
       "      <td>0.490752</td>\n",
       "      <td>0.330624</td>\n",
       "      <td>0.473233</td>\n",
       "      <td>0.155392</td>\n",
       "    </tr>\n",
       "  </tbody>\n",
       "</table>\n",
       "<p>48 rows × 17840 columns</p>\n",
       "</div>"
      ],
      "text/plain": [
       "            Obstructive sleep apnea   Age  Gender      A1BG      A1CF  \\\n",
       "GSM5717479                      1.0  58.0     1.0  0.564183  0.805036   \n",
       "GSM5717480                      1.0  47.0     1.0  0.625571  0.810280   \n",
       "GSM5717481                      1.0  33.0     1.0  0.545399  0.814929   \n",
       "GSM5717482                      1.0  41.0     1.0  0.606818  0.780134   \n",
       "GSM5717483                      1.0  45.0     1.0  0.617074  0.810361   \n",
       "GSM5717484                      1.0  47.0     1.0  0.630901  0.799217   \n",
       "GSM5717485                      1.0  40.0     1.0  0.573520  0.811120   \n",
       "GSM5717486                      1.0  28.0     1.0  0.589640  0.820866   \n",
       "GSM5717487                      1.0  46.0     1.0  0.580706  0.834600   \n",
       "GSM5717488                      1.0  57.0     1.0  0.567496  0.790446   \n",
       "GSM5717489                      1.0  56.0     1.0  0.586937  0.791359   \n",
       "GSM5717490                      1.0  39.0     1.0  0.593422  0.792866   \n",
       "GSM5717491                      1.0  42.0     1.0  0.619854  0.800757   \n",
       "GSM5717492                      1.0  50.0     1.0  0.587143  0.804100   \n",
       "GSM5717493                      1.0  28.0     1.0  0.561181  0.825391   \n",
       "GSM5717494                      1.0  51.0     1.0  0.603989  0.821677   \n",
       "GSM5717495                      1.0  58.0     1.0  0.558495  0.824620   \n",
       "GSM5717496                      1.0  47.0     1.0  0.623696  0.803021   \n",
       "GSM5717497                      1.0  33.0     1.0  0.552753  0.821206   \n",
       "GSM5717498                      1.0  41.0     1.0  0.601809  0.805693   \n",
       "GSM5717499                      1.0  46.0     1.0  0.344938  0.297216   \n",
       "GSM5717500                      1.0  47.0     1.0  0.637474  0.815721   \n",
       "GSM5717501                      1.0  40.0     1.0  0.602643  0.798784   \n",
       "GSM5717502                      1.0  28.0     1.0  0.591811  0.826934   \n",
       "GSM5717503                      1.0  46.0     1.0  0.597453  0.845493   \n",
       "GSM5717504                      1.0  57.0     1.0  0.577859  0.799704   \n",
       "GSM5717505                      1.0  56.0     1.0  0.596357  0.804946   \n",
       "GSM5717506                      1.0  39.0     1.0  0.611764  0.818713   \n",
       "GSM5717507                      1.0  42.0     1.0  0.626561  0.805574   \n",
       "GSM5717508                      1.0  51.0     1.0  0.340313  0.286614   \n",
       "GSM5717509                      1.0  28.0     1.0  0.551187  0.791867   \n",
       "GSM5717510                      1.0  51.0     1.0  0.600024  0.777600   \n",
       "GSM5717511                      0.0  40.0     1.0  0.493862  0.833234   \n",
       "GSM5717512                      0.0  35.0     1.0  0.610577  0.825277   \n",
       "GSM5717513                      0.0  43.0     1.0  0.618624  0.802749   \n",
       "GSM5717514                      0.0  36.0     1.0  0.640312  0.811596   \n",
       "GSM5717515                      0.0  53.0     1.0  0.606646  0.799254   \n",
       "GSM5717516                      0.0  32.0     1.0  0.534631  0.817171   \n",
       "GSM5717517                      0.0  36.0     0.0  0.614911  0.839659   \n",
       "GSM5717518                      0.0  40.0     1.0  0.534985  0.817119   \n",
       "GSM5717519                      0.0  40.0     1.0  0.508529  0.833620   \n",
       "GSM5717520                      0.0  35.0     1.0  0.603849  0.796724   \n",
       "GSM5717521                      0.0  43.0     1.0  0.620235  0.835996   \n",
       "GSM5717522                      0.0  36.0     1.0  0.625549  0.805670   \n",
       "GSM5717523                      0.0  53.0     1.0  0.624593  0.804444   \n",
       "GSM5717524                      0.0  32.0     1.0  0.565750  0.833406   \n",
       "GSM5717525                      0.0  36.0     0.0  0.625657  0.821584   \n",
       "GSM5717526                      0.0  40.0     1.0  0.531153  0.814519   \n",
       "\n",
       "                 A2M     A2ML1    A4GALT     A4GNT      AAA1  ...    ZWILCH  \\\n",
       "GSM5717479  0.764749  0.802062  0.373054  0.738113  0.776844  ...  0.197099   \n",
       "GSM5717480  0.780828  0.810802  0.380973  0.715563  0.770553  ...  0.186371   \n",
       "GSM5717481  0.770501  0.816325  0.384366  0.695083  0.739911  ...  0.190216   \n",
       "GSM5717482  0.794368  0.784505  0.377553  0.680227  0.751351  ...  0.190320   \n",
       "GSM5717483  0.777432  0.817517  0.381875  0.714298  0.771476  ...  0.188320   \n",
       "GSM5717484  0.770812  0.782668  0.377651  0.687498  0.746058  ...  0.182088   \n",
       "GSM5717485  0.777460  0.777875  0.376042  0.700447  0.773809  ...  0.193197   \n",
       "GSM5717486  0.792548  0.780909  0.376011  0.742172  0.799819  ...  0.196509   \n",
       "GSM5717487  0.777558  0.784991  0.382957  0.747320  0.795676  ...  0.193843   \n",
       "GSM5717488  0.776891  0.769835  0.381954  0.688085  0.762448  ...  0.189139   \n",
       "GSM5717489  0.772625  0.814531  0.376997  0.702190  0.737814  ...  0.186065   \n",
       "GSM5717490  0.758475  0.802234  0.371013  0.709907  0.777220  ...  0.196873   \n",
       "GSM5717491  0.778662  0.815568  0.375937  0.723518  0.768307  ...  0.196325   \n",
       "GSM5717492  0.764251  0.790453  0.366714  0.705658  0.767898  ...  0.192288   \n",
       "GSM5717493  0.784455  0.819623  0.375563  0.715225  0.774593  ...  0.194551   \n",
       "GSM5717494  0.781355  0.783199  0.374463  0.704115  0.754660  ...  0.190503   \n",
       "GSM5717495  0.766352  0.804746  0.360555  0.718372  0.796443  ...  0.185367   \n",
       "GSM5717496  0.772683  0.800920  0.368900  0.729357  0.781421  ...  0.178633   \n",
       "GSM5717497  0.773649  0.812397  0.370082  0.715403  0.769821  ...  0.187159   \n",
       "GSM5717498  0.779303  0.781035  0.354751  0.665028  0.748721  ...  0.189993   \n",
       "GSM5717499  0.589081  0.688542  0.346783  0.746705  0.659121  ...  0.184841   \n",
       "GSM5717500  0.782098  0.800592  0.374478  0.710775  0.768689  ...  0.184407   \n",
       "GSM5717501  0.790350  0.782192  0.351617  0.714385  0.783023  ...  0.184154   \n",
       "GSM5717502  0.779140  0.766261  0.364698  0.733952  0.787520  ...  0.186330   \n",
       "GSM5717503  0.781302  0.785474  0.366329  0.724855  0.788474  ...  0.185665   \n",
       "GSM5717504  0.783653  0.772708  0.365634  0.681742  0.771977  ...  0.188217   \n",
       "GSM5717505  0.770351  0.812562  0.371818  0.696572  0.736192  ...  0.182519   \n",
       "GSM5717506  0.767208  0.821877  0.361023  0.710962  0.770451  ...  0.179514   \n",
       "GSM5717507  0.765233  0.827721  0.362236  0.751760  0.786902  ...  0.194955   \n",
       "GSM5717508  0.563957  0.704835  0.342314  0.740527  0.665286  ...  0.167343   \n",
       "GSM5717509  0.765927  0.818847  0.362399  0.719500  0.764076  ...  0.182983   \n",
       "GSM5717510  0.763915  0.783403  0.365334  0.678113  0.733709  ...  0.195074   \n",
       "GSM5717511  0.785080  0.782637  0.383539  0.729618  0.778413  ...  0.193540   \n",
       "GSM5717512  0.768676  0.782146  0.377378  0.684585  0.759352  ...  0.189680   \n",
       "GSM5717513  0.787854  0.835367  0.389184  0.738072  0.776653  ...  0.201222   \n",
       "GSM5717514  0.774816  0.820295  0.375638  0.732433  0.767778  ...  0.196389   \n",
       "GSM5717515  0.783382  0.785053  0.380656  0.702438  0.746977  ...  0.193013   \n",
       "GSM5717516  0.777045  0.786672  0.382490  0.734145  0.772834  ...  0.196862   \n",
       "GSM5717517  0.787518  0.814003  0.380286  0.760107  0.792157  ...  0.197494   \n",
       "GSM5717518  0.769665  0.823105  0.386051  0.734058  0.759961  ...  0.193384   \n",
       "GSM5717519  0.788845  0.787866  0.368785  0.737325  0.790010  ...  0.198263   \n",
       "GSM5717520  0.773258  0.789995  0.362838  0.691047  0.752550  ...  0.180529   \n",
       "GSM5717521  0.789506  0.842259  0.376358  0.738918  0.781587  ...  0.190168   \n",
       "GSM5717522  0.757127  0.829114  0.365419  0.726703  0.788433  ...  0.189784   \n",
       "GSM5717523  0.778746  0.790044  0.372136  0.687352  0.763403  ...  0.173440   \n",
       "GSM5717524  0.777947  0.778823  0.367624  0.726255  0.779839  ...  0.181563   \n",
       "GSM5717525  0.781861  0.817988  0.367805  0.744282  0.791900  ...  0.191030   \n",
       "GSM5717526  0.770663  0.815797  0.367669  0.703385  0.750132  ...  0.186145   \n",
       "\n",
       "               ZWINT      ZXDA      ZXDB      ZXDC    ZYG11A    ZYG11B  \\\n",
       "GSM5717479  0.118462  0.327011  0.365091  0.320941  0.567943  0.521306   \n",
       "GSM5717480  0.094386  0.284797  0.391011  0.321053  0.554167  0.526003   \n",
       "GSM5717481  0.104534  0.311023  0.396903  0.336653  0.568726  0.516668   \n",
       "GSM5717482  0.106124  0.328337  0.389400  0.325795  0.578876  0.522967   \n",
       "GSM5717483  0.087550  0.301792  0.379823  0.325478  0.548225  0.525753   \n",
       "GSM5717484  0.091448  0.298949  0.396714  0.330842  0.561695  0.517238   \n",
       "GSM5717485  0.098966  0.336880  0.445775  0.329461  0.570147  0.513723   \n",
       "GSM5717486  0.115313  0.296931  0.396388  0.321002  0.570476  0.511395   \n",
       "GSM5717487  0.098934  0.284718  0.405338  0.326023  0.563181  0.530072   \n",
       "GSM5717488  0.089909  0.310228  0.399793  0.322123  0.586155  0.510918   \n",
       "GSM5717489  0.093196  0.284658  0.373294  0.312127  0.563865  0.514826   \n",
       "GSM5717490  0.106604  0.271662  0.376627  0.329227  0.553732  0.514812   \n",
       "GSM5717491  0.083386  0.313352  0.398746  0.317290  0.550104  0.537915   \n",
       "GSM5717492  0.098724  0.294536  0.386041  0.317712  0.530311  0.527938   \n",
       "GSM5717493  0.094776  0.340657  0.422512  0.321209  0.560045  0.528216   \n",
       "GSM5717494  0.090376  0.308984  0.403912  0.320884  0.554727  0.524900   \n",
       "GSM5717495  0.061396  0.269994  0.343382  0.289225  0.525407  0.505165   \n",
       "GSM5717496  0.061849  0.239166  0.370314  0.296691  0.512792  0.505543   \n",
       "GSM5717497  0.064353  0.291070  0.373237  0.313912  0.526733  0.512422   \n",
       "GSM5717498  0.055832  0.281542  0.398475  0.300341  0.537290  0.519108   \n",
       "GSM5717499  0.057864  0.249718  0.402610  0.285809  0.468945  0.505111   \n",
       "GSM5717500  0.059164  0.251784  0.369151  0.315934  0.535229  0.509099   \n",
       "GSM5717501  0.048364  0.305293  0.438035  0.313585  0.551259  0.500523   \n",
       "GSM5717502  0.058273  0.246313  0.369658  0.291931  0.524518  0.491942   \n",
       "GSM5717503  0.061086  0.255512  0.396905  0.303880  0.534790  0.509493   \n",
       "GSM5717504  0.061359  0.277204  0.412118  0.317309  0.563381  0.513625   \n",
       "GSM5717505  0.061810  0.250825  0.349148  0.299194  0.513238  0.503745   \n",
       "GSM5717506  0.058076  0.248486  0.384495  0.308551  0.524460  0.502571   \n",
       "GSM5717507  0.053651  0.282367  0.389665  0.286208  0.510765  0.520542   \n",
       "GSM5717508  0.046818  0.227172  0.401407  0.267433  0.484145  0.493800   \n",
       "GSM5717509  0.058629  0.291448  0.400472  0.292944  0.514704  0.504255   \n",
       "GSM5717510  0.058019  0.266907  0.377037  0.299485  0.515685  0.508415   \n",
       "GSM5717511  0.107392  0.356534  0.405078  0.324106  0.546117  0.529418   \n",
       "GSM5717512  0.092118  0.300208  0.395112  0.319765  0.551613  0.508900   \n",
       "GSM5717513  0.101115  0.343974  0.429161  0.344522  0.584366  0.525973   \n",
       "GSM5717514  0.094037  0.309962  0.360693  0.310615  0.564505  0.491192   \n",
       "GSM5717515  0.097927  0.315758  0.411646  0.323490  0.574011  0.520109   \n",
       "GSM5717516  0.110619  0.322861  0.402680  0.316089  0.558028  0.519302   \n",
       "GSM5717517  0.110870  0.457752  0.555201  0.326639  0.562711  0.526101   \n",
       "GSM5717518  0.091914  0.322755  0.407612  0.322649  0.577550  0.516878   \n",
       "GSM5717519  0.061079  0.312418  0.395603  0.302323  0.509789  0.508698   \n",
       "GSM5717520  0.057430  0.289041  0.395246  0.311149  0.533787  0.496777   \n",
       "GSM5717521  0.062608  0.316375  0.414736  0.330774  0.555496  0.518412   \n",
       "GSM5717522  0.059631  0.278207  0.376676  0.295342  0.523477  0.495492   \n",
       "GSM5717523  0.056331  0.281381  0.412663  0.309491  0.537353  0.500904   \n",
       "GSM5717524  0.055616  0.268475  0.374782  0.302759  0.526562  0.504435   \n",
       "GSM5717525  0.058266  0.439680  0.547951  0.312715  0.537497  0.515134   \n",
       "GSM5717526  0.058862  0.265784  0.375252  0.299691  0.533635  0.490752   \n",
       "\n",
       "                 ZYX     ZZEF1      ZZZ3  \n",
       "GSM5717479  0.359458  0.499577  0.199448  \n",
       "GSM5717480  0.331681  0.494205  0.176213  \n",
       "GSM5717481  0.344406  0.499049  0.181043  \n",
       "GSM5717482  0.362627  0.507475  0.182782  \n",
       "GSM5717483  0.337893  0.497991  0.169523  \n",
       "GSM5717484  0.337792  0.492311  0.179240  \n",
       "GSM5717485  0.365833  0.503252  0.185596  \n",
       "GSM5717486  0.360828  0.510382  0.194992  \n",
       "GSM5717487  0.363634  0.503618  0.183152  \n",
       "GSM5717488  0.323674  0.489876  0.177189  \n",
       "GSM5717489  0.337018  0.502358  0.170644  \n",
       "GSM5717490  0.350399  0.491824  0.186769  \n",
       "GSM5717491  0.348972  0.488102  0.182954  \n",
       "GSM5717492  0.342751  0.483316  0.178072  \n",
       "GSM5717493  0.339383  0.496633  0.178445  \n",
       "GSM5717494  0.337568  0.500616  0.174455  \n",
       "GSM5717495  0.327056  0.469401  0.153374  \n",
       "GSM5717496  0.313716  0.474146  0.160514  \n",
       "GSM5717497  0.325926  0.486841  0.157600  \n",
       "GSM5717498  0.333830  0.482196  0.157031  \n",
       "GSM5717499  0.371956  0.483446  0.158472  \n",
       "GSM5717500  0.327049  0.483477  0.155174  \n",
       "GSM5717501  0.342591  0.485047  0.157592  \n",
       "GSM5717502  0.332954  0.481719  0.157507  \n",
       "GSM5717503  0.354691  0.490633  0.164671  \n",
       "GSM5717504  0.319920  0.477657  0.159133  \n",
       "GSM5717505  0.324444  0.480208  0.157882  \n",
       "GSM5717506  0.345042  0.474547  0.155706  \n",
       "GSM5717507  0.318043  0.469579  0.161578  \n",
       "GSM5717508  0.376675  0.482674  0.152000  \n",
       "GSM5717509  0.311464  0.469800  0.153073  \n",
       "GSM5717510  0.320244  0.480073  0.153148  \n",
       "GSM5717511  0.358489  0.495946  0.189357  \n",
       "GSM5717512  0.337743  0.491686  0.173615  \n",
       "GSM5717513  0.367214  0.507436  0.188425  \n",
       "GSM5717514  0.328757  0.496830  0.172673  \n",
       "GSM5717515  0.341564  0.501790  0.180242  \n",
       "GSM5717516  0.347979  0.491977  0.186444  \n",
       "GSM5717517  0.361055  0.501944  0.188752  \n",
       "GSM5717518  0.355220  0.498098  0.181058  \n",
       "GSM5717519  0.342034  0.476842  0.164347  \n",
       "GSM5717520  0.326267  0.480736  0.154462  \n",
       "GSM5717521  0.341892  0.489202  0.163522  \n",
       "GSM5717522  0.324461  0.481194  0.154011  \n",
       "GSM5717523  0.326923  0.482288  0.152107  \n",
       "GSM5717524  0.330736  0.466282  0.154894  \n",
       "GSM5717525  0.352106  0.483792  0.153957  \n",
       "GSM5717526  0.330624  0.473233  0.155392  \n",
       "\n",
       "[48 rows x 17840 columns]"
      ]
     },
     "execution_count": 24,
     "metadata": {},
     "output_type": "execute_result"
    }
   ],
   "source": [
    "print(f\"The merged dataset contains {len(merged_data)} samples.\")\n",
    "merged_data"
   ]
  },
  {
   "cell_type": "code",
   "execution_count": 25,
   "metadata": {
    "ExecuteTime": {
     "end_time": "2024-01-02T01:03:35.158646754Z",
     "start_time": "2024-01-02T01:03:35.156975304Z"
    },
    "collapsed": false,
    "jupyter": {
     "outputs_hidden": false
    }
   },
   "outputs": [
    {
     "name": "stdout",
     "output_type": "stream",
     "text": [
      "For the feature 'Obstructive sleep apnea', the least common label is '0.0' with 16 occurrences. This represents 33.33% of the dataset.\n",
      "The distribution of the feature 'Obstructive sleep apnea' in this dataset is fine.\n",
      "\n",
      "Quartiles for 'Age':\n",
      "  25%: 36.0\n",
      "  50% (Median): 41.5\n",
      "  75%: 47.75\n",
      "Min: 28.0\n",
      "Max: 58.0\n",
      "The distribution of the feature 'Age' in this dataset is fine.\n",
      "\n",
      "For the feature 'Gender', the least common label is '0.0' with 2 occurrences. This represents 4.17% of the dataset.\n",
      "The distribution of the feature 'Gender' in this dataset is severely biased.\n",
      "\n"
     ]
    },
    {
     "data": {
      "text/plain": [
       "False"
      ]
     },
     "execution_count": 25,
     "metadata": {},
     "output_type": "execute_result"
    }
   ],
   "source": [
    "is_trait_biased, merged_data = judge_and_remove_biased_features(merged_data, TRAIT, trait_type=trait_type)\n",
    "is_trait_biased"
   ]
  },
  {
   "cell_type": "code",
   "execution_count": 26,
   "metadata": {
    "ExecuteTime": {
     "end_time": "2024-01-02T01:03:35.158803015Z",
     "start_time": "2024-01-02T01:03:35.157063388Z"
    },
    "collapsed": false,
    "jupyter": {
     "outputs_hidden": false
    }
   },
   "outputs": [],
   "source": [
    "save_cohort_info(cohort, JSON_PATH, is_available, is_trait_biased, merged_data, note='')"
   ]
  },
  {
   "cell_type": "code",
   "execution_count": 27,
   "metadata": {
    "ExecuteTime": {
     "end_time": "2024-01-02T01:03:36.004312476Z",
     "start_time": "2024-01-02T01:03:35.157165158Z"
    },
    "collapsed": false,
    "jupyter": {
     "outputs_hidden": false
    }
   },
   "outputs": [],
   "source": [
    "merged_data.head()\n",
    "if not is_trait_biased:\n",
    "    merged_data.to_csv(os.path.join(OUTPUT_DIR, cohort+'.csv'), index=False)"
   ]
  },
  {
   "cell_type": "markdown",
   "metadata": {
    "ExecuteTime": {
     "end_time": "2023-12-31T03:58:22.271683755Z",
     "start_time": "2023-12-31T03:58:22.246557674Z"
    },
    "id": "-MTPhRGxJV7I"
   },
   "source": [
    "### 3. Do regression & Cross Validation"
   ]
  },
  {
   "cell_type": "code",
   "execution_count": 29,
   "metadata": {
    "ExecuteTime": {
     "end_time": "2024-01-02T01:03:36.048788605Z",
     "start_time": "2024-01-02T01:03:36.005925887Z"
    },
    "collapsed": false,
    "jupyter": {
     "outputs_hidden": false
    }
   },
   "outputs": [],
   "source": [
    "from utils import *"
   ]
  },
  {
   "cell_type": "code",
   "execution_count": 30,
   "metadata": {
    "ExecuteTime": {
     "end_time": "2024-01-02T01:03:36.049183603Z",
     "start_time": "2024-01-02T01:03:36.048440305Z"
    },
    "collapsed": false,
    "jupyter": {
     "outputs_hidden": false
    }
   },
   "outputs": [
    {
     "data": {
      "text/plain": [
       "'GSE190164'"
      ]
     },
     "execution_count": 30,
     "metadata": {},
     "output_type": "execute_result"
    }
   ],
   "source": [
    "best_cohort, ranked_df = filter_and_rank_cohorts(JSON_PATH, 'has_age')\n",
    "best_cohort"
   ]
  },
  {
   "cell_type": "code",
   "execution_count": 31,
   "metadata": {
    "ExecuteTime": {
     "end_time": "2024-01-02T01:03:36.049430313Z",
     "start_time": "2024-01-02T01:03:36.048984361Z"
    },
    "collapsed": false,
    "jupyter": {
     "outputs_hidden": false
    }
   },
   "outputs": [
    {
     "data": {
      "text/html": [
       "<div>\n",
       "<style scoped>\n",
       "    .dataframe tbody tr th:only-of-type {\n",
       "        vertical-align: middle;\n",
       "    }\n",
       "\n",
       "    .dataframe tbody tr th {\n",
       "        vertical-align: top;\n",
       "    }\n",
       "\n",
       "    .dataframe thead th {\n",
       "        text-align: right;\n",
       "    }\n",
       "</style>\n",
       "<table border=\"1\" class=\"dataframe\">\n",
       "  <thead>\n",
       "    <tr style=\"text-align: right;\">\n",
       "      <th></th>\n",
       "      <th>cohort_id</th>\n",
       "      <th>is_usable</th>\n",
       "      <th>is_available</th>\n",
       "      <th>is_biased</th>\n",
       "      <th>has_age</th>\n",
       "      <th>has_gender</th>\n",
       "      <th>sample_size</th>\n",
       "      <th>note</th>\n",
       "    </tr>\n",
       "  </thead>\n",
       "  <tbody>\n",
       "    <tr>\n",
       "      <th>0</th>\n",
       "      <td>GSE190164</td>\n",
       "      <td>True</td>\n",
       "      <td>True</td>\n",
       "      <td>False</td>\n",
       "      <td>True</td>\n",
       "      <td>False</td>\n",
       "      <td>48</td>\n",
       "      <td></td>\n",
       "    </tr>\n",
       "  </tbody>\n",
       "</table>\n",
       "</div>"
      ],
      "text/plain": [
       "   cohort_id  is_usable  is_available  is_biased  has_age  has_gender  \\\n",
       "0  GSE190164       True          True      False     True       False   \n",
       "\n",
       "   sample_size note  \n",
       "0           48       "
      ]
     },
     "execution_count": 31,
     "metadata": {},
     "output_type": "execute_result"
    }
   ],
   "source": [
    "ranked_df.head()"
   ]
  },
  {
   "cell_type": "code",
   "execution_count": 32,
   "metadata": {
    "ExecuteTime": {
     "end_time": "2024-01-02T01:03:36.345375576Z",
     "start_time": "2024-01-02T01:03:36.049289340Z"
    },
    "collapsed": false,
    "jupyter": {
     "outputs_hidden": false
    }
   },
   "outputs": [],
   "source": [
    "merged_data = pd.read_csv(os.path.join(OUTPUT_DIR, best_cohort+'.csv'))"
   ]
  },
  {
   "cell_type": "code",
   "execution_count": 33,
   "metadata": {
    "ExecuteTime": {
     "end_time": "2024-01-02T01:03:36.400788548Z",
     "start_time": "2024-01-02T01:03:36.355439168Z"
    },
    "collapsed": false,
    "jupyter": {
     "outputs_hidden": false
    }
   },
   "outputs": [
    {
     "data": {
      "text/html": [
       "<div>\n",
       "<style scoped>\n",
       "    .dataframe tbody tr th:only-of-type {\n",
       "        vertical-align: middle;\n",
       "    }\n",
       "\n",
       "    .dataframe tbody tr th {\n",
       "        vertical-align: top;\n",
       "    }\n",
       "\n",
       "    .dataframe thead th {\n",
       "        text-align: right;\n",
       "    }\n",
       "</style>\n",
       "<table border=\"1\" class=\"dataframe\">\n",
       "  <thead>\n",
       "    <tr style=\"text-align: right;\">\n",
       "      <th></th>\n",
       "      <th>Obstructive sleep apnea</th>\n",
       "      <th>Age</th>\n",
       "      <th>A1BG</th>\n",
       "      <th>A1CF</th>\n",
       "      <th>A2M</th>\n",
       "      <th>A2ML1</th>\n",
       "      <th>A4GALT</th>\n",
       "      <th>A4GNT</th>\n",
       "      <th>AAA1</th>\n",
       "      <th>AAAS</th>\n",
       "      <th>...</th>\n",
       "      <th>ZWILCH</th>\n",
       "      <th>ZWINT</th>\n",
       "      <th>ZXDA</th>\n",
       "      <th>ZXDB</th>\n",
       "      <th>ZXDC</th>\n",
       "      <th>ZYG11A</th>\n",
       "      <th>ZYG11B</th>\n",
       "      <th>ZYX</th>\n",
       "      <th>ZZEF1</th>\n",
       "      <th>ZZZ3</th>\n",
       "    </tr>\n",
       "  </thead>\n",
       "  <tbody>\n",
       "    <tr>\n",
       "      <th>0</th>\n",
       "      <td>1.0</td>\n",
       "      <td>58.0</td>\n",
       "      <td>0.564183</td>\n",
       "      <td>0.805036</td>\n",
       "      <td>0.764749</td>\n",
       "      <td>0.802062</td>\n",
       "      <td>0.373054</td>\n",
       "      <td>0.738113</td>\n",
       "      <td>0.776844</td>\n",
       "      <td>0.193147</td>\n",
       "      <td>...</td>\n",
       "      <td>0.197099</td>\n",
       "      <td>0.118462</td>\n",
       "      <td>0.327011</td>\n",
       "      <td>0.365091</td>\n",
       "      <td>0.320941</td>\n",
       "      <td>0.567943</td>\n",
       "      <td>0.521306</td>\n",
       "      <td>0.359458</td>\n",
       "      <td>0.499577</td>\n",
       "      <td>0.199448</td>\n",
       "    </tr>\n",
       "    <tr>\n",
       "      <th>1</th>\n",
       "      <td>1.0</td>\n",
       "      <td>47.0</td>\n",
       "      <td>0.625571</td>\n",
       "      <td>0.810280</td>\n",
       "      <td>0.780828</td>\n",
       "      <td>0.810802</td>\n",
       "      <td>0.380973</td>\n",
       "      <td>0.715563</td>\n",
       "      <td>0.770553</td>\n",
       "      <td>0.176388</td>\n",
       "      <td>...</td>\n",
       "      <td>0.186371</td>\n",
       "      <td>0.094386</td>\n",
       "      <td>0.284797</td>\n",
       "      <td>0.391011</td>\n",
       "      <td>0.321053</td>\n",
       "      <td>0.554167</td>\n",
       "      <td>0.526003</td>\n",
       "      <td>0.331681</td>\n",
       "      <td>0.494205</td>\n",
       "      <td>0.176213</td>\n",
       "    </tr>\n",
       "    <tr>\n",
       "      <th>2</th>\n",
       "      <td>1.0</td>\n",
       "      <td>33.0</td>\n",
       "      <td>0.545399</td>\n",
       "      <td>0.814929</td>\n",
       "      <td>0.770501</td>\n",
       "      <td>0.816325</td>\n",
       "      <td>0.384366</td>\n",
       "      <td>0.695083</td>\n",
       "      <td>0.739911</td>\n",
       "      <td>0.182338</td>\n",
       "      <td>...</td>\n",
       "      <td>0.190216</td>\n",
       "      <td>0.104534</td>\n",
       "      <td>0.311022</td>\n",
       "      <td>0.396903</td>\n",
       "      <td>0.336653</td>\n",
       "      <td>0.568726</td>\n",
       "      <td>0.516668</td>\n",
       "      <td>0.344406</td>\n",
       "      <td>0.499049</td>\n",
       "      <td>0.181043</td>\n",
       "    </tr>\n",
       "    <tr>\n",
       "      <th>3</th>\n",
       "      <td>1.0</td>\n",
       "      <td>41.0</td>\n",
       "      <td>0.606818</td>\n",
       "      <td>0.780134</td>\n",
       "      <td>0.794368</td>\n",
       "      <td>0.784505</td>\n",
       "      <td>0.377553</td>\n",
       "      <td>0.680227</td>\n",
       "      <td>0.751351</td>\n",
       "      <td>0.183316</td>\n",
       "      <td>...</td>\n",
       "      <td>0.190320</td>\n",
       "      <td>0.106124</td>\n",
       "      <td>0.328337</td>\n",
       "      <td>0.389400</td>\n",
       "      <td>0.325795</td>\n",
       "      <td>0.578876</td>\n",
       "      <td>0.522967</td>\n",
       "      <td>0.362627</td>\n",
       "      <td>0.507475</td>\n",
       "      <td>0.182782</td>\n",
       "    </tr>\n",
       "    <tr>\n",
       "      <th>4</th>\n",
       "      <td>1.0</td>\n",
       "      <td>45.0</td>\n",
       "      <td>0.617074</td>\n",
       "      <td>0.810361</td>\n",
       "      <td>0.777432</td>\n",
       "      <td>0.817517</td>\n",
       "      <td>0.381875</td>\n",
       "      <td>0.714298</td>\n",
       "      <td>0.771476</td>\n",
       "      <td>0.175075</td>\n",
       "      <td>...</td>\n",
       "      <td>0.188320</td>\n",
       "      <td>0.087550</td>\n",
       "      <td>0.301792</td>\n",
       "      <td>0.379823</td>\n",
       "      <td>0.325478</td>\n",
       "      <td>0.548225</td>\n",
       "      <td>0.525753</td>\n",
       "      <td>0.337893</td>\n",
       "      <td>0.497991</td>\n",
       "      <td>0.169523</td>\n",
       "    </tr>\n",
       "  </tbody>\n",
       "</table>\n",
       "<p>5 rows × 17839 columns</p>\n",
       "</div>"
      ],
      "text/plain": [
       "   Obstructive sleep apnea   Age      A1BG      A1CF       A2M     A2ML1  \\\n",
       "0                      1.0  58.0  0.564183  0.805036  0.764749  0.802062   \n",
       "1                      1.0  47.0  0.625571  0.810280  0.780828  0.810802   \n",
       "2                      1.0  33.0  0.545399  0.814929  0.770501  0.816325   \n",
       "3                      1.0  41.0  0.606818  0.780134  0.794368  0.784505   \n",
       "4                      1.0  45.0  0.617074  0.810361  0.777432  0.817517   \n",
       "\n",
       "     A4GALT     A4GNT      AAA1      AAAS  ...    ZWILCH     ZWINT      ZXDA  \\\n",
       "0  0.373054  0.738113  0.776844  0.193147  ...  0.197099  0.118462  0.327011   \n",
       "1  0.380973  0.715563  0.770553  0.176388  ...  0.186371  0.094386  0.284797   \n",
       "2  0.384366  0.695083  0.739911  0.182338  ...  0.190216  0.104534  0.311022   \n",
       "3  0.377553  0.680227  0.751351  0.183316  ...  0.190320  0.106124  0.328337   \n",
       "4  0.381875  0.714298  0.771476  0.175075  ...  0.188320  0.087550  0.301792   \n",
       "\n",
       "       ZXDB      ZXDC    ZYG11A    ZYG11B       ZYX     ZZEF1      ZZZ3  \n",
       "0  0.365091  0.320941  0.567943  0.521306  0.359458  0.499577  0.199448  \n",
       "1  0.391011  0.321053  0.554167  0.526003  0.331681  0.494205  0.176213  \n",
       "2  0.396903  0.336653  0.568726  0.516668  0.344406  0.499049  0.181043  \n",
       "3  0.389400  0.325795  0.578876  0.522967  0.362627  0.507475  0.182782  \n",
       "4  0.379823  0.325478  0.548225  0.525753  0.337893  0.497991  0.169523  \n",
       "\n",
       "[5 rows x 17839 columns]"
      ]
     },
     "execution_count": 33,
     "metadata": {},
     "output_type": "execute_result"
    }
   ],
   "source": [
    "merged_data.head()"
   ]
  },
  {
   "cell_type": "code",
   "execution_count": 34,
   "metadata": {
    "ExecuteTime": {
     "end_time": "2024-01-02T01:03:36.401002087Z",
     "start_time": "2024-01-02T01:03:36.400659608Z"
    },
    "collapsed": false,
    "jupyter": {
     "outputs_hidden": false
    }
   },
   "outputs": [],
   "source": [
    "# If both age and gender features are available, select 'age' as the condition.\n",
    "condition = 'Age'\n",
    "# Remove the other condition to prevent interference.\n",
    "merged_data = merged_data.drop(columns=['Gender'], errors='ignore').astype('float')"
   ]
  },
  {
   "cell_type": "code",
   "execution_count": 35,
   "metadata": {
    "ExecuteTime": {
     "end_time": "2024-01-02T01:03:36.403035823Z",
     "start_time": "2024-01-02T01:03:36.401081946Z"
    },
    "collapsed": false,
    "jupyter": {
     "outputs_hidden": false
    }
   },
   "outputs": [],
   "source": [
    "X = merged_data.drop(columns=[TRAIT, condition]).values\n",
    "Y = merged_data[TRAIT].values\n",
    "Z = merged_data[condition].values"
   ]
  },
  {
   "cell_type": "markdown",
   "metadata": {
    "collapsed": false,
    "jupyter": {
     "outputs_hidden": false
    }
   },
   "source": [
    "Select the appropriate regression model depending on whether the dataset shows batch effect."
   ]
  },
  {
   "cell_type": "code",
   "execution_count": 36,
   "metadata": {
    "ExecuteTime": {
     "end_time": "2024-01-02T01:03:36.403263628Z",
     "start_time": "2024-01-02T01:03:36.401336170Z"
    },
    "collapsed": false,
    "jupyter": {
     "outputs_hidden": false
    }
   },
   "outputs": [
    {
     "data": {
      "text/plain": [
       "True"
      ]
     },
     "execution_count": 36,
     "metadata": {},
     "output_type": "execute_result"
    }
   ],
   "source": [
    "has_batch_effect = detect_batch_effect(X)\n",
    "has_batch_effect"
   ]
  },
  {
   "cell_type": "code",
   "execution_count": 37,
   "metadata": {
    "ExecuteTime": {
     "end_time": "2024-01-02T01:03:36.475053437Z",
     "start_time": "2024-01-02T01:03:36.444397231Z"
    },
    "collapsed": false,
    "jupyter": {
     "outputs_hidden": false
    }
   },
   "outputs": [],
   "source": [
    "if has_batch_effect:\n",
    "    model_constructor1 = VariableSelection\n",
    "    model_params1 = {'modified': True, 'lamda': 3e-4}\n",
    "    model_constructor2 = VariableSelection\n",
    "    model_params2 = {'modified': False}\n",
    "else:\n",
    "    model_constructor1 = Lasso\n",
    "    model_params1 = {'alpha': 1.0, 'random_state': 42}\n",
    "    model_constructor2 = VariableSelection\n",
    "    model_params2 = {'modified': False}"
   ]
  },
  {
   "cell_type": "code",
   "execution_count": 38,
   "metadata": {
    "ExecuteTime": {
     "end_time": "2024-01-02T01:03:50.733335364Z",
     "start_time": "2024-01-02T01:03:36.444563711Z"
    },
    "collapsed": false,
    "jupyter": {
     "outputs_hidden": false
    }
   },
   "outputs": [
    {
     "name": "stdout",
     "output_type": "stream",
     "text": [
      "alpha for Lasso: 0.0003\n",
      "alpha for Lasso: 0.0003\n",
      "alpha for Lasso: 0.0003\n",
      "alpha for Lasso: 0.0003\n",
      "alpha for Lasso: 0.0003\n",
      "The cross-validation accuracy is 55.56% ± 9.94%\n"
     ]
    }
   ],
   "source": [
    "trait_type = 'binary'  # Remember to set this properly, either 'binary' or 'continuous'\n",
    "cv_mean1, cv_std1 = cross_validation(X, Y, Z, model_constructor1, model_params1, target_type=trait_type)"
   ]
  },
  {
   "cell_type": "code",
   "execution_count": 39,
   "metadata": {},
   "outputs": [
    {
     "name": "stdout",
     "output_type": "stream",
     "text": [
      "The cross-validation accuracy is 82.22% ± 16.63%\n"
     ]
    }
   ],
   "source": [
    "cv_mean2, cv_std2 = cross_validation(X, Y, Z, model_constructor2, model_params2, target_type=trait_type)"
   ]
  },
  {
   "cell_type": "code",
   "execution_count": 40,
   "metadata": {},
   "outputs": [
    {
     "name": "stdout",
     "output_type": "stream",
     "text": [
      "alpha for Lasso: 0.0003\n"
     ]
    }
   ],
   "source": [
    "normalized_X, _ = normalize_data(X)\n",
    "normalized_Z, _ = normalize_data(Z)\n",
    "\n",
    "# Train regression model on the whole dataset to identify significant genes\n",
    "model1 = ResidualizationRegressor(model_constructor1, model_params1)\n",
    "model1.fit(normalized_X, Y, normalized_Z)\n",
    "\n",
    "model2 = ResidualizationRegressor(model_constructor2, model_params2)\n",
    "model2.fit(normalized_X, Y, normalized_Z)"
   ]
  },
  {
   "cell_type": "markdown",
   "metadata": {
    "ExecuteTime": {
     "end_time": "2024-01-02T01:03:53.587340410Z",
     "start_time": "2024-01-02T01:03:50.732779025Z"
    },
    "collapsed": false,
    "jupyter": {
     "outputs_hidden": false
    }
   },
   "source": [
    "# Train regression model on the whole dataset to identify significant genes\n",
    "model = ResidualizationRegressor(model_constructor, model_params)\n",
    "normalized_X, _ = normalize_data(X)\n",
    "normalized_Z, _ = normalize_data(Z)\n",
    "model.fit(normalized_X, Y, normalized_Z)"
   ]
  },
  {
   "cell_type": "markdown",
   "metadata": {
    "ExecuteTime": {
     "end_time": "2023-10-14T04:50:59.072075075Z",
     "start_time": "2023-10-14T04:50:38.739499998Z"
    },
    "id": "EjJrxbvb4nlj"
   },
   "source": [
    "### 5. Discussion and report"
   ]
  },
  {
   "cell_type": "code",
   "execution_count": 41,
   "metadata": {
    "ExecuteTime": {
     "end_time": "2024-01-02T01:03:53.641570844Z",
     "start_time": "2024-01-02T01:03:53.627778553Z"
    },
    "collapsed": false,
    "jupyter": {
     "outputs_hidden": false
    }
   },
   "outputs": [
    {
     "name": "stdout",
     "output_type": "stream",
     "text": [
      "Effect of the condition on the target variable:\n",
      "Variable: Age\n",
      "Coefficient: 0.1290\n",
      "Found 39 genes with non-zero coefficients associated with the trait 'Obstructive sleep apnea' conditional on the factor 'Age'. These genes are identified as significant based on the regression model.\n",
      "Variable  Coefficient  Absolute Coefficient\n",
      "  AKR1E2     9.787808              9.787808\n",
      "  SAMSN1     7.583366              7.583366\n",
      "  CORO1B    -6.517445              6.517445\n",
      " MIR1279    -4.709084              4.709084\n",
      "  STARD6     4.490965              4.490965\n",
      " SNORA28    -3.821488              3.821488\n",
      "FLJ42393    -3.304367              3.304367\n",
      " SPDYE7P     3.173994              3.173994\n",
      "   ACTN1     2.843970              2.843970\n",
      "   HSPA5     2.526046              2.526046\n",
      " SPANXN3    -2.506876              2.506876\n",
      " POLR2J3    -2.451571              2.451571\n",
      "  FMR1NB    -2.410493              2.410493\n",
      "   LENG8    -2.146134              2.146134\n",
      "  ACSBG1    -2.037605              2.037605\n",
      " C5orf34    -1.938698              1.938698\n",
      "    LIPN     1.818606              1.818606\n",
      "    CD36     1.808138              1.808138\n",
      " ZFAND2A     1.634501              1.634501\n",
      " MIR548K    -1.541928              1.541928\n",
      "   S100Z     1.327327              1.327327\n",
      "   EIF3C     1.268393              1.268393\n",
      " RPLP0P2     1.091827              1.091827\n",
      "    AMBN    -1.025191              1.025191\n",
      "  VPREB3     0.911998              0.911998\n",
      " B4GALT5     0.872940              0.872940\n",
      "    PLD4    -0.816498              0.816498\n",
      "      F8     0.688426              0.688426\n",
      "SNORD126    -0.622316              0.622316\n",
      "   CRTAM    -0.602056              0.602056\n",
      "     MRO    -0.491377              0.491377\n",
      "   KIF1B     0.458551              0.458551\n",
      "   SPDEF    -0.418937              0.418937\n",
      "  RNASEL    -0.395907              0.395907\n",
      "   NPY6R     0.282993              0.282993\n",
      "    GDF9     0.271051              0.271051\n",
      " MIR1296     0.168205              0.168205\n",
      "  CCDC66     0.119463              0.119463\n",
      "  MIR27B     0.101128              0.101128\n"
     ]
    },
    {
     "name": "stderr",
     "output_type": "stream",
     "text": [
      "/home/yxcheng/AI4Science_gold_standard/stage1/Yuxuan/../utils.py:469: SettingWithCopyWarning: \n",
      "A value is trying to be set on a copy of a slice from a DataFrame.\n",
      "Try using .loc[row_indexer,col_indexer] = value instead\n",
      "\n",
      "See the caveats in the documentation: https://pandas.pydata.org/pandas-docs/stable/user_guide/indexing.html#returning-a-view-versus-a-copy\n",
      "  gene_regression_df['Absolute Coefficient'] = gene_regression_df['Coefficient'].abs()\n"
     ]
    }
   ],
   "source": [
    "feature_cols = merged_data.columns.tolist()\n",
    "feature_cols.remove(TRAIT)\n",
    "\n",
    "threshold = 0.05\n",
    "interpret_result(model1, feature_cols, TRAIT, condition, threshold=threshold, save_output=True,\n",
    "                 output_dir=OUTPUT_DIR, model_id=1)"
   ]
  },
  {
   "cell_type": "code",
   "execution_count": 42,
   "metadata": {
    "collapsed": false,
    "jupyter": {
     "outputs_hidden": false
    }
   },
   "outputs": [
    {
     "name": "stdout",
     "output_type": "stream",
     "text": [
      "Effect of the condition on the target variable:\n",
      "Variable: Age\n",
      "Coefficient: 0.1290\n",
      "Found 2 significant genes associated with the trait 'Obstructive sleep apnea' conditional on the factor 'Age', with corrected p-value < 0.05:\n",
      "Variable  Coefficient  p_value  corrected_p_value\n",
      "  PDLIM4    -0.336040 0.000002           0.027590\n",
      "   GSTM5    -0.379108 0.000005           0.045623\n"
     ]
    },
    {
     "name": "stderr",
     "output_type": "stream",
     "text": [
      "/home/yxcheng/AI4Science_gold_standard/stage1/Yuxuan/../utils.py:478: SettingWithCopyWarning: \n",
      "A value is trying to be set on a copy of a slice from a DataFrame.\n",
      "Try using .loc[row_indexer,col_indexer] = value instead\n",
      "\n",
      "See the caveats in the documentation: https://pandas.pydata.org/pandas-docs/stable/user_guide/indexing.html#returning-a-view-versus-a-copy\n",
      "  gene_regression_df.loc[:, 'corrected_p_value'] = corrected_p_values\n"
     ]
    }
   ],
   "source": [
    "\n",
    "interpret_result(model2, feature_cols, TRAIT, condition, threshold=threshold, save_output=True,\n",
    "                 output_dir=OUTPUT_DIR, model_id=2)"
   ]
  },
  {
   "cell_type": "code",
   "execution_count": null,
   "metadata": {},
   "outputs": [],
   "source": []
  },
  {
   "cell_type": "code",
   "execution_count": null,
   "metadata": {},
   "outputs": [],
   "source": []
  }
 ],
 "metadata": {
  "colab": {
   "provenance": []
  },
  "kernelspec": {
   "display_name": "Python 3 (ipykernel)",
   "language": "python",
   "name": "python3"
  },
  "language_info": {
   "codemirror_mode": {
    "name": "ipython",
    "version": 3
   },
   "file_extension": ".py",
   "mimetype": "text/x-python",
   "name": "python",
   "nbconvert_exporter": "python",
   "pygments_lexer": "ipython3",
   "version": "3.10.13"
  }
 },
 "nbformat": 4,
 "nbformat_minor": 4
}
